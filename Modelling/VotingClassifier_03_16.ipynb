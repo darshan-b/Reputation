{
 "cells": [
  {
   "cell_type": "code",
   "execution_count": 1,
   "metadata": {},
   "outputs": [
    {
     "name": "stderr",
     "output_type": "stream",
     "text": [
      "Using TensorFlow backend.\n",
      "/nethomes/darshan/anaconda3/lib/python3.6/site-packages/sklearn/externals/six.py:31: FutureWarning: The module is deprecated in version 0.21 and will be removed in version 0.23 since we've dropped support for Python 2.7. Please rely on the official version of six (https://pypi.org/project/six/).\n",
      "  \"(https://pypi.org/project/six/).\", FutureWarning)\n",
      "/nethomes/darshan/anaconda3/lib/python3.6/site-packages/sklearn/utils/deprecation.py:144: FutureWarning: The sklearn.neighbors.base module is  deprecated in version 0.22 and will be removed in version 0.24. The corresponding classes / functions should instead be imported from sklearn.neighbors. Anything that cannot be imported from sklearn.neighbors is now part of the private API.\n",
      "  warnings.warn(message, FutureWarning)\n",
      "/nethomes/darshan/anaconda3/lib/python3.6/site-packages/sklearn/externals/joblib/__init__.py:15: FutureWarning: sklearn.externals.joblib is deprecated in 0.21 and will be removed in 0.23. Please import this functionality directly from joblib, which can be installed with: pip install joblib. If this warning is raised when loading pickled models, you may need to re-serialize those models with scikit-learn 0.21+.\n",
      "  warnings.warn(msg, category=FutureWarning)\n"
     ]
    }
   ],
   "source": [
    "import pandas as pd\n",
    "import numpy as np\n",
    "import pickle\n",
    "import matplotlib.pyplot as plt\n",
    "from scipy import stats\n",
    "import tensorflow as tf\n",
    "import seaborn as sns\n",
    "from pylab import rcParams\n",
    "from sklearn.model_selection import train_test_split\n",
    "from keras.models import Model, load_model, Sequential\n",
    "from keras.layers import Input, Dense, Dropout\n",
    "from keras.callbacks import ModelCheckpoint, TensorBoard\n",
    "from keras import regularizers\n",
    "\n",
    "from sklearn.preprocessing import StandardScaler\n",
    "from sklearn.metrics import roc_curve,auc,confusion_matrix, accuracy_score, precision_score, \\\n",
    "                            recall_score, matthews_corrcoef\n",
    "\n",
    "from sklearn.ensemble import RandomForestClassifier, GradientBoostingClassifier, ExtraTreesClassifier,\\\n",
    "                             VotingClassifier\n",
    "from sklearn.svm import OneClassSVM\n",
    "import featuretools as ft\n",
    "from sklearn.decomposition import PCA\n",
    "from imblearn.over_sampling import SMOTE\n",
    "from IPython.display import display,clear_output,HTML"
   ]
  },
  {
   "cell_type": "code",
   "execution_count": 2,
   "metadata": {},
   "outputs": [
    {
     "name": "stdout",
     "output_type": "stream",
     "text": [
      "Shape of HTML dataset: (43491, 1461)\n",
      "Shape of JS,DOM dataset: (43294, 401)\n",
      "Shape of HTTP dataset: (45856, 672)\n"
     ]
    },
    {
     "name": "stderr",
     "output_type": "stream",
     "text": [
      "/nethomes/darshan/anaconda3/lib/python3.6/site-packages/IPython/core/interactiveshell.py:3058: DtypeWarning: Columns (76,77,229,230,231,232,233,234,235,236,237,238,239,240,241,242,244,245,246,247,248,249,250,251,252,253,254,256,257,258,259,260,261,262,263,264,265,266,267,268,269,270,271,272,273,274,275,276,277,278,279,280,281,282,283,284,285,286,287,288,289,290,291,292,293,294,295,296,297,298,299,300,301,302,303,304,305,306,307,308,309,310,311,312,313,314,315,316,317,318,319,320,321,322,323,324,325,326,327,328,329,330,331,332,333,334,335,336,337,338,339,340,341,342,343,344,345,346,347,348,349,350,351,352,353,354,355,356,357,358,359,360,361,362,363,364,365,366,367,368,369,370,371,372,373,374,375,376,377,378,379,599,600,601,602,603,604,605,606,607,608,609,610,611,612,613,614,615,616,617,618,619,620,621,622,623,624,625,626,627,628,629,630,631,632,633,634,635,636,637,638,639,642,643,644,645,646,647,648,649,650,651,652,653,654,655,656,657,658,659,660,661,662,663,664,665,666,667,668,669,670,671,672,673,674,675,676,677,678,679,680,681,682,683,684,685,686,687,688,689,690,691,692,693,694,695,696,697,698,699,700,701,702,703,704,705,706,707,708,709,710,711,712,713,714,715,716,717,718,719,720,721,722,723,724,725,726,727,728,729,730,731,732,733,734,735,736,737,738,739,740,741,742,743,744,745,746,747,748,749,750,751,752,753,754,755,756,757,758,759,760,761,762,763,764,765,766,767,768,769,770,771,772,773,774,775,776,777,778,779,780,781,782,783,784,785,786,787,788,789,790,791,792,793,794,795,796,797,798,799,800,801,802,803,804,805,806,807,808) have mixed types. Specify dtype option on import or set low_memory=False.\n",
      "  interactivity=interactivity, compiler=compiler, result=result)\n"
     ]
    },
    {
     "name": "stdout",
     "output_type": "stream",
     "text": [
      "Shape of URL dataset: (46771, 4194)\n",
      "Shape of combined dataset: (39183, 6726)\n"
     ]
    },
    {
     "data": {
      "text/plain": [
       "0    34742\n",
       "1     4441\n",
       "Name: Target, dtype: int64"
      ]
     },
     "execution_count": 2,
     "metadata": {},
     "output_type": "execute_result"
    }
   ],
   "source": [
    "### Read HTML \n",
    "df_html=pd.read_csv('../html/HTML.csv',index_col='domain')\n",
    "df_html.drop(['Unnamed: 0'],axis=1,inplace=True)\n",
    "cookie=[col for col in df_html.columns if 'number' in col]\n",
    "df_html.drop(cookie,axis=1,inplace=True)\n",
    "print(\"Shape of HTML dataset:\",df_html.shape)\n",
    "df_html.Target=df_html.Target.apply(lambda x: 1 if x=='Malicious' else 0)\n",
    "count_columns=[col for col in df_html.columns if col.endswith('count')]\n",
    "df_html['total_count']=df_html[count_columns].sum(axis=1)\n",
    "\n",
    "href_columns=[col for col in df_html.columns if (('href_absolute' in col) | ('href_relative' in col) | ('href_page' in col))  ]\n",
    "df_html['total_href']=df_html[href_columns].sum(axis=1)\n",
    "\n",
    "total_img_src=[col for col in df_html.columns if 'img_src_' in col]\n",
    "df_html['total_img_src']=df_html[total_img_src].sum(axis=1)\n",
    "\n",
    "\n",
    "### Read JS \n",
    "df_js=pd.read_csv('Javascript.csv',low_memory=False,index_col='domain')\n",
    "cookie=[col for col in df_js.columns if 'number' in col]\n",
    "df_js.drop(cookie,axis=1,inplace=True)\n",
    "df_js.rename(columns={'Malicious':'Target'},inplace=True)\n",
    "print(\"Shape of JS,DOM dataset:\",df_js.shape)\n",
    "df_js.Target=df_js.Target.apply(lambda x: 1 if x=='Malicious' else 0)\n",
    "\n",
    "\n",
    "### Read HTTP\n",
    "df_http=pd.read_csv('HTTP.csv')\n",
    "df_http.rename(columns={'Malicious':'Target'},inplace=True)\n",
    "df_http.fillna(value=0,inplace=True)\n",
    "cookies=[columns for columns in df_http.columns if 'number' in columns]\n",
    "df_http.drop(cookies,axis=1,inplace=True)\n",
    "df_http=df_http[df_http['domain']!=0]\n",
    "df_http.sort_values(by='Target',inplace=True,ascending=False)\n",
    "df_http.drop_duplicates(['domain'], keep='first',inplace=True)\n",
    "df_http=df_http.sample(frac=1,random_state=0)\n",
    "df_http.set_index(['domain'],drop=True,inplace=True)\n",
    "print(\"Shape of HTTP dataset:\",df_http.shape)\n",
    "\n",
    "\n",
    "\n",
    "### Read URL\n",
    "df_url=pd.read_csv('URL.csv')\n",
    "df_url.fillna(value=0,inplace=True)\n",
    "cookies=[columns for columns in df_url.columns if 'number' in columns]\n",
    "df_url.drop(cookies,axis=1,inplace=True)\n",
    "df_url.drop(['url_host','url_ip'],axis=1,inplace=True)\n",
    "df_url=df_url[df_url['domain']!=0]\n",
    "df_url.sort_values(by='Target',inplace=True,ascending=False)\n",
    "df_url.drop_duplicates(['domain'], keep='first',inplace=True)\n",
    "df_url=df_url.sample(frac=1,random_state=0)\n",
    "print(\"Shape of URL dataset:\",df_url.shape)\n",
    "df_url.set_index('domain',inplace=True,drop=True)\n",
    "\n",
    "df=pd.concat([df_js,df_html,df_http,df_url],axis=1,join='inner')\n",
    "df.drop(['Unnamed: 0'],axis=1,inplace=True)\n",
    "df['Target_z']=df[['Target','Target','Target','Target']].apply(max,axis=1)\n",
    "df.drop(['Target','Target','Target','Target'],axis=1,inplace=True)\n",
    "print(\"Shape of combined dataset:\",df.shape)\n",
    "df.rename(columns={'Target_z':'Target'},inplace=True)\n",
    "df.Target.value_counts()"
   ]
  },
  {
   "cell_type": "code",
   "execution_count": 3,
   "metadata": {},
   "outputs": [
    {
     "name": "stdout",
     "output_type": "stream",
     "text": [
      "features being used\n"
     ]
    },
    {
     "data": {
      "text/plain": [
       "['js_function_.push(',\n",
       " 'a_count',\n",
       " 'a_href_http',\n",
       " 'a_href_https',\n",
       " 'a_href_out_of_domain',\n",
       " 'a_href_relative',\n",
       " 'center_count',\n",
       " 'form_action_http',\n",
       " 'iframe_src_.html',\n",
       " 'img_src_http',\n",
       " 'link_href_out_of_domain',\n",
       " 'link_type_text/css',\n",
       " 'meta_count',\n",
       " 'p_count',\n",
       " 'script_async_true',\n",
       " 'total_count',\n",
       " 'total_href',\n",
       " 'http_header_cache-control_set_max-age',\n",
       " 'http_header_content-encoding_gzip',\n",
       " 'http_header_server_apache',\n",
       " 'http_header_transfer-encoding_chunked',\n",
       " 'http_header_vary_user-agent',\n",
       " 'http_header_via_1.1',\n",
       " 'url_char_.',\n",
       " 'url_char_f',\n",
       " 'url_char_i',\n",
       " 'url_char_l',\n",
       " 'url_char_p',\n",
       " 'url_char_w',\n",
       " 'url_char_y',\n",
       " 'url_char_z',\n",
       " 'url_extension_.com',\n",
       " 'url_extensions',\n",
       " 'url_length',\n",
       " 'Target']"
      ]
     },
     "metadata": {},
     "output_type": "display_data"
    }
   ],
   "source": [
    "columns=['js_function_.push(',\n",
    " 'a_count',\n",
    " 'a_href_http',\n",
    " 'a_href_https',\n",
    " 'a_href_out_of_domain',\n",
    " 'a_href_relative',\n",
    " 'center_count',\n",
    " 'form_action_http',\n",
    " 'iframe_src_.html',\n",
    " 'img_src_http',\n",
    " 'link_href_out_of_domain',\n",
    " 'link_type_text/css',\n",
    " 'meta_count',\n",
    " 'p_count',\n",
    " 'script_async_true',\n",
    " 'total_count',\n",
    " 'total_href',\n",
    " 'http_header_cache-control_set_max-age',\n",
    " 'http_header_content-encoding_gzip',\n",
    " 'http_header_server_apache',\n",
    " 'http_header_transfer-encoding_chunked',\n",
    " 'http_header_vary_user-agent',\n",
    " 'http_header_via_1.1',\n",
    " 'url_char_.',\n",
    " 'url_char_f',\n",
    " 'url_char_i',\n",
    " 'url_char_l',\n",
    " 'url_char_p',\n",
    " 'url_char_w',\n",
    " 'url_char_y',\n",
    " 'url_char_z',\n",
    " 'url_extension_.com',\n",
    " 'url_extensions',\n",
    " 'url_length',\n",
    " 'Target']\n",
    "\n",
    "df['url_extension_endswith_.com']=df['url_extension_endswith_.com'].apply(lambda x: 1 if x==True else x)\n",
    "df['url_extension_endswith_.com']=df['url_extension_endswith_.com'].astype(int)\n",
    "print(\"features being used\")\n",
    "display(columns)\n",
    "df_sel=df[columns].copy(deep=True)"
   ]
  },
  {
   "cell_type": "code",
   "execution_count": 4,
   "metadata": {},
   "outputs": [],
   "source": [
    "def model_build(model,X_train,Y_train,X_test,Y_test,tree=False,feat=None):\n",
    "    \n",
    "    y_pred_train=model.predict(X_train)\n",
    "    acc_train=accuracy_score(Y_train,y_pred_train)\n",
    "    print(\"Accuracy of the model for training data is:\",acc_train)\n",
    "    print(\"Confusion Matrix for training data is:\")\n",
    "    display(pd.crosstab(Y_train,y_pred_train))\n",
    "    \n",
    "    \n",
    "    y_pred_test=model.predict(X_test)\n",
    "    acc_test=accuracy_score(Y_test,y_pred_test)\n",
    "    print(\"Accuracy of the model for test data is:\",acc_test)\n",
    "    print(\"Confusion Matrix for test data is:\")\n",
    "    display(pd.crosstab(Y_test,y_pred_test))\n",
    "\n",
    "    fpr, tpr, threshold = roc_curve(Y_test, y_pred_test)\n",
    "    roc_auc =auc(fpr, tpr)\n",
    "    mcc=matthews_corrcoef(Y_test,y_pred_test)\n",
    "    \n",
    "    precision=precision_score(Y_test,y_pred_test)\n",
    "    recall=recall_score(Y_test,y_pred_test)\n",
    "    if tree==True:\n",
    "#         feat_impt_plot(model.feature_importances_,feat)\n",
    "        return model,acc_train,acc_test,roc_auc,model.feature_importances_,mcc,precision,recall\n",
    "    \n",
    "    return model,acc_train,acc_test,roc_auc,mcc,precision,recall\n",
    "\n",
    "def KNN_model(X_train,Y_train,X_test,Y_test):\n",
    "    print('\\033[1m' + 'K-Nearest Neighbors' + '\\033[0m')\n",
    "    knn=KNeighborsClassifier()\n",
    "    knn.fit(X_train,Y_train)\n",
    "\n",
    "    return model_build(knn,X_train,Y_train,X_test,Y_test)\n",
    "\n",
    "# def Logistic_model(X_train,Y_train,X_test,Y_test):\n",
    "#     print('\\033[1m' + 'Logistic Regression' + '\\033[0m')\n",
    "#     log=LogisticRegression()\n",
    "#     log.fit(X_train,Y_train)\n",
    "    \n",
    "#     return model_build(log,X_train,Y_train,X_test,Y_test)\n",
    "\n",
    "def RandomForest(X_train,Y_train,X_test,Y_test,feat):\n",
    "    print('\\033[1m' + 'RandomForest Classifier' + '\\033[0m')\n",
    "    rf=RandomForestClassifier(n_estimators=10,random_state=0)\n",
    "    rf.fit(X_train,Y_train)\n",
    "\n",
    "    \n",
    "    return model_build(rf,X_train,Y_train,X_test,Y_test,True,feat)\n",
    "\n",
    "def AdaBoost(X_train,Y_train,X_test,Y_test,feat):\n",
    "    print('\\033[1m' + 'Adaoost Classifier' + '\\033[0m')\n",
    "    ada=AdaBoostClassifier(random_state=0)\n",
    "    ada.fit(X_train,Y_train)\n",
    "    \n",
    "    return model_build(ada,X_train,Y_train,X_test,Y_test,True,feat)\n",
    "\n",
    "def GradientBoosting(X_train,Y_train,X_test,Y_test,feat):\n",
    "    print('\\033[1m' + 'GradientBoosting Classifier' + '\\033[0m')\n",
    "    gbc=GradientBoostingClassifier(n_estimators=100,random_state=0)\n",
    "    gbc.fit(X_train,Y_train)\n",
    "    \n",
    "    return model_build(gbc,X_train,Y_train,X_test,Y_test,True,feat)\n",
    "\n",
    "def ExtraTree(X_train,Y_train,X_test,Y_test,feat):\n",
    "    print('\\033[1m' + 'ExtraTree Classifier' + '\\033[0m')\n",
    "    ext_tree=ExtraTreesClassifier(random_state=0)\n",
    "    ext_tree.fit(X_train,Y_train)\n",
    "    \n",
    "    return model_build(ext_tree,X_train,Y_train,X_test,Y_test,True,feat)\n",
    "\n",
    "def XGB(X_train,Y_train,X_test,Y_test,feat):\n",
    "    print('\\033[1m' + 'XGB Classifier' + '\\033[0m')\n",
    "    xgb=XGBClassifier(random_state=0)\n",
    "    xgb.fit(X_train,Y_train)\n",
    "    \n",
    "    return model_build(xgb,X_train,Y_train,X_test,Y_test,True,feat)\n",
    "\n",
    "def Bagging(X_train,Y_train,X_test,Y_test):\n",
    "    print('\\033[1m' + 'Bagging Classifier' + '\\033[0m')\n",
    "    bagging=BaggingClassifier(random_state=0)\n",
    "    bagging.fit(X_train,Y_train)\n",
    "    \n",
    "    return model_build(bagging,X_train,Y_train,X_test,Y_test)\n",
    "\n",
    "def XGB(X_train,Y_train,X_test,Y_test,feat):\n",
    "    print('\\033[1m' + 'XGB Classifier' + '\\033[0m')\n",
    "    xgb=XGBClassifier(random_state=0)\n",
    "    xgb.fit(X_train,Y_train)\n",
    "    \n",
    "    return model_build(xgb,X_train,Y_train,X_test,Y_test,True,feat)\n",
    "\n",
    "def DeepLearning1(X_train,Y_train,X_test,Y_test):\n",
    "    print('\\033[1m' + 'Neural Network-1' + '\\033[0m')\n",
    "    np.random.seed(0)\n",
    "    deep_learning=Sequential()\n",
    "    deep_learning.add(Dense(units=64,activation='relu',use_bias=True,kernel_initializer='uniform',input_dim=X_train.shape[1]))\n",
    "    deep_learning.add(Dense(units=128,activation='relu',use_bias=True,kernel_initializer='uniform'))\n",
    "    deep_learning.add(Dense(units=1,activation='sigmoid',use_bias=True,kernel_initializer='uniform'))\n",
    "    deep_learning.compile(optimizer='adam',loss='binary_crossentropy',metrics=['accuracy'])\n",
    "    deep_learning.fit(X_train,Y_train,batch_size=20,epochs=80,verbose=False)\n",
    "    acc_train=deep_learning.evaluate(X_train,Y_train,verbose=False)[1]\n",
    "    print(\"The accuracy of the model on training data is:\",acc_train)\n",
    "    display(pd.crosstab(Y_train,deep_learning.predict_classes(X_train,batch_size=1,verbose=False).reshape(1,len(X_train))[0]))\n",
    "    acc_test=accuracy_score(Y_test,deep_learning.predict_classes(X_test,batch_size=1,verbose=False))\n",
    "    print(\"The accuracy of the model on test data is:\",acc_test)\n",
    "    display(pd.crosstab(Y_test,deep_learning.predict_classes(X_test,batch_size=1,verbose=False).reshape(1,len(X_test))[0]))\n",
    "    mcc=matthews_corrcoef(Y_test,deep_learning.predict_classes(X_test,batch_size=1,verbose=False))\n",
    "    precision=precision_score(Y_test,deep_learning.predict_classes(X_test,batch_size=1,verbose=False))\n",
    "    recall=recall_score(Y_test,deep_learning.predict_classes(X_test,batch_size=1,verbose=False))\n",
    "    return  deep_learning,acc_train,acc_test,roc_auc,mcc,precision,recall"
   ]
  },
  {
   "cell_type": "markdown",
   "metadata": {},
   "source": [
    "### 1. No Sampling"
   ]
  },
  {
   "cell_type": "code",
   "execution_count": 5,
   "metadata": {},
   "outputs": [],
   "source": [
    "X_train, X_test = train_test_split(df_sel, test_size=0.2, random_state=42)\n",
    "\n",
    "Y_train = X_train['Target']\n",
    "X_train = X_train.drop(['Target'], axis=1) \n",
    "\n",
    "sc = StandardScaler()\n",
    "scaled_X_train = sc.fit_transform(X_train)\n",
    "\n",
    "Y_test = X_test['Target']\n",
    "X_test = X_test.drop(['Target'], axis=1)\n",
    "scaled_X_test = sc.transform(X_test)\n",
    "X_train = X_train.values\n",
    "X_test = X_test.values"
   ]
  },
  {
   "cell_type": "code",
   "execution_count": 27,
   "metadata": {},
   "outputs": [
    {
     "name": "stdout",
     "output_type": "stream",
     "text": [
      "\u001b[1mVoting Classifier\u001b[0m\n",
      "Accuracy of the model for training data is: 0.9979263701907739\n",
      "Confusion Matrix for training data is:\n"
     ]
    },
    {
     "data": {
      "text/html": [
       "<div>\n",
       "<style scoped>\n",
       "    .dataframe tbody tr th:only-of-type {\n",
       "        vertical-align: middle;\n",
       "    }\n",
       "\n",
       "    .dataframe tbody tr th {\n",
       "        vertical-align: top;\n",
       "    }\n",
       "\n",
       "    .dataframe thead th {\n",
       "        text-align: right;\n",
       "    }\n",
       "</style>\n",
       "<table border=\"1\" class=\"dataframe\">\n",
       "  <thead>\n",
       "    <tr style=\"text-align: right;\">\n",
       "      <th>col_0</th>\n",
       "      <th>0</th>\n",
       "      <th>1</th>\n",
       "    </tr>\n",
       "    <tr>\n",
       "      <th>Target</th>\n",
       "      <th></th>\n",
       "      <th></th>\n",
       "    </tr>\n",
       "  </thead>\n",
       "  <tbody>\n",
       "    <tr>\n",
       "      <th>0</th>\n",
       "      <td>27779</td>\n",
       "      <td>10</td>\n",
       "    </tr>\n",
       "    <tr>\n",
       "      <th>1</th>\n",
       "      <td>55</td>\n",
       "      <td>3502</td>\n",
       "    </tr>\n",
       "  </tbody>\n",
       "</table>\n",
       "</div>"
      ],
      "text/plain": [
       "col_0       0     1\n",
       "Target             \n",
       "0       27779    10\n",
       "1          55  3502"
      ]
     },
     "metadata": {},
     "output_type": "display_data"
    },
    {
     "name": "stdout",
     "output_type": "stream",
     "text": [
      "Accuracy of the model for test data is: 0.9809876228148526\n",
      "Confusion Matrix for test data is:\n"
     ]
    },
    {
     "data": {
      "text/html": [
       "<div>\n",
       "<style scoped>\n",
       "    .dataframe tbody tr th:only-of-type {\n",
       "        vertical-align: middle;\n",
       "    }\n",
       "\n",
       "    .dataframe tbody tr th {\n",
       "        vertical-align: top;\n",
       "    }\n",
       "\n",
       "    .dataframe thead th {\n",
       "        text-align: right;\n",
       "    }\n",
       "</style>\n",
       "<table border=\"1\" class=\"dataframe\">\n",
       "  <thead>\n",
       "    <tr style=\"text-align: right;\">\n",
       "      <th>col_0</th>\n",
       "      <th>0</th>\n",
       "      <th>1</th>\n",
       "    </tr>\n",
       "    <tr>\n",
       "      <th>Target</th>\n",
       "      <th></th>\n",
       "      <th></th>\n",
       "    </tr>\n",
       "  </thead>\n",
       "  <tbody>\n",
       "    <tr>\n",
       "      <th>0</th>\n",
       "      <td>6904</td>\n",
       "      <td>49</td>\n",
       "    </tr>\n",
       "    <tr>\n",
       "      <th>1</th>\n",
       "      <td>100</td>\n",
       "      <td>784</td>\n",
       "    </tr>\n",
       "  </tbody>\n",
       "</table>\n",
       "</div>"
      ],
      "text/plain": [
       "col_0      0    1\n",
       "Target           \n",
       "0       6904   49\n",
       "1        100  784"
      ]
     },
     "metadata": {},
     "output_type": "display_data"
    },
    {
     "name": "stdout",
     "output_type": "stream",
     "text": [
      "MCC :  0.9030581074018078\n",
      "Precison :  0.9411764705882353\n",
      "Recall :  0.8868778280542986\n",
      "AUC :  0.9399152551748553\n"
     ]
    }
   ],
   "source": [
    "rf_model = RandomForestClassifier(random_state=0)\n",
    "\n",
    "et_model = ExtraTreesClassifier(random_state=0)\n",
    "\n",
    "grad_model = GradientBoostingClassifier(random_state=0)\n",
    "\n",
    "\n",
    "base_est =[ ( 'rf' , rf_model ) , ( 'gradient' , grad_model ) , ( 'extratree' , et_model ) ]\n",
    "\n",
    "\n",
    "print('\\033[1m' + 'Voting Classifier' + '\\033[0m')\n",
    "vc_model=VotingClassifier(estimators = base_est, voting = 'soft', weights = [3,1,1] )\n",
    "vc_model.fit(scaled_X_train,Y_train)\n",
    "vc_model,acc_train,acc_test,roc_auc,mcc,precision,recall=model_build(vc_model,scaled_X_train,Y_train,scaled_X_test,Y_test,tree=False,feat=None)\n",
    "print(\"MCC : \", mcc)\n",
    "print(\"Precison : \",precision)\n",
    "print(\"Recall : \",recall)\n",
    "print(\"AUC : \" , roc_auc)\n",
    "\n"
   ]
  },
  {
   "cell_type": "markdown",
   "metadata": {},
   "source": [
    "### 2. Oversampling"
   ]
  },
  {
   "cell_type": "code",
   "execution_count": null,
   "metadata": {},
   "outputs": [],
   "source": [
    "sm = SMOTE(random_state=12, ratio = {1:27789})\n",
    "X_train, Y_train = sm.fit_sample(scaled_X_train,Y_train)"
   ]
  },
  {
   "cell_type": "code",
   "execution_count": 66,
   "metadata": {},
   "outputs": [
    {
     "name": "stdout",
     "output_type": "stream",
     "text": [
      "\u001b[1mVoting Classifier\u001b[0m\n",
      "Accuracy of the model for training data is: 0.9988306408088368\n",
      "Confusion Matrix for training data is:\n"
     ]
    },
    {
     "data": {
      "text/html": [
       "<div>\n",
       "<style scoped>\n",
       "    .dataframe tbody tr th:only-of-type {\n",
       "        vertical-align: middle;\n",
       "    }\n",
       "\n",
       "    .dataframe tbody tr th {\n",
       "        vertical-align: top;\n",
       "    }\n",
       "\n",
       "    .dataframe thead th {\n",
       "        text-align: right;\n",
       "    }\n",
       "</style>\n",
       "<table border=\"1\" class=\"dataframe\">\n",
       "  <thead>\n",
       "    <tr style=\"text-align: right;\">\n",
       "      <th>col_0</th>\n",
       "      <th>0</th>\n",
       "      <th>1</th>\n",
       "    </tr>\n",
       "    <tr>\n",
       "      <th>row_0</th>\n",
       "      <th></th>\n",
       "      <th></th>\n",
       "    </tr>\n",
       "  </thead>\n",
       "  <tbody>\n",
       "    <tr>\n",
       "      <th>0</th>\n",
       "      <td>27771</td>\n",
       "      <td>26</td>\n",
       "    </tr>\n",
       "    <tr>\n",
       "      <th>1</th>\n",
       "      <td>39</td>\n",
       "      <td>27750</td>\n",
       "    </tr>\n",
       "  </tbody>\n",
       "</table>\n",
       "</div>"
      ],
      "text/plain": [
       "col_0      0      1\n",
       "row_0              \n",
       "0      27771     26\n",
       "1         39  27750"
      ]
     },
     "metadata": {},
     "output_type": "display_data"
    },
    {
     "name": "stdout",
     "output_type": "stream",
     "text": [
      "Accuracy of the model for test data is: 0.9766492280209264\n",
      "Confusion Matrix for test data is:\n"
     ]
    },
    {
     "data": {
      "text/html": [
       "<div>\n",
       "<style scoped>\n",
       "    .dataframe tbody tr th:only-of-type {\n",
       "        vertical-align: middle;\n",
       "    }\n",
       "\n",
       "    .dataframe tbody tr th {\n",
       "        vertical-align: top;\n",
       "    }\n",
       "\n",
       "    .dataframe thead th {\n",
       "        text-align: right;\n",
       "    }\n",
       "</style>\n",
       "<table border=\"1\" class=\"dataframe\">\n",
       "  <thead>\n",
       "    <tr style=\"text-align: right;\">\n",
       "      <th>col_0</th>\n",
       "      <th>0</th>\n",
       "      <th>1</th>\n",
       "    </tr>\n",
       "    <tr>\n",
       "      <th>Target</th>\n",
       "      <th></th>\n",
       "      <th></th>\n",
       "    </tr>\n",
       "  </thead>\n",
       "  <tbody>\n",
       "    <tr>\n",
       "      <th>0</th>\n",
       "      <td>6859</td>\n",
       "      <td>86</td>\n",
       "    </tr>\n",
       "    <tr>\n",
       "      <th>1</th>\n",
       "      <td>97</td>\n",
       "      <td>795</td>\n",
       "    </tr>\n",
       "  </tbody>\n",
       "</table>\n",
       "</div>"
      ],
      "text/plain": [
       "col_0      0    1\n",
       "Target           \n",
       "0       6859   86\n",
       "1         97  795"
      ]
     },
     "metadata": {},
     "output_type": "display_data"
    },
    {
     "name": "stdout",
     "output_type": "stream",
     "text": [
      "MCC :  0.8836427821719168\n",
      "Precison :  0.9023836549375709\n",
      "Recall :  0.8912556053811659\n",
      "AUC :  0.9394362980109572\n"
     ]
    }
   ],
   "source": [
    "rf_model = RandomForestClassifier(random_state=0,class_weight={0:0.1,1:0.9})\n",
    "\n",
    "et_model = ExtraTreesClassifier(random_state=0)\n",
    "\n",
    "grad_model = GradientBoostingClassifier(random_state=0)\n",
    "\n",
    "\n",
    "base_est =[ ( 'rf' , rf_model ) , ( 'gradient' , grad_model ) , ( 'extratree' , et_model ) ]\n",
    "\n",
    "\n",
    "print('\\033[1m' + 'Voting Classifier' + '\\033[0m')\n",
    "vc_model=VotingClassifier(estimators = base_est, voting = 'soft', weights = [1,1,2] )\n",
    "vc_model.fit(X_train,Y_train)\n",
    "vc_model,acc_train,acc_test,roc_auc,mcc,precision,recall=model_build(vc_model,X_train,Y_train,scaled_X_test,Y_test,tree=False,feat=None)\n",
    "print(\"MCC : \", mcc)\n",
    "print(\"Precison : \",precision)\n",
    "print(\"Recall : \",recall)\n",
    "print(\"AUC : \" , roc_auc)"
   ]
  },
  {
   "cell_type": "markdown",
   "metadata": {},
   "source": [
    "### 3. Under - Sampling"
   ]
  },
  {
   "cell_type": "code",
   "execution_count": 70,
   "metadata": {},
   "outputs": [],
   "source": [
    "X_train, X_test = train_test_split(df_sel, test_size=0.2, random_state=42)\n",
    "\n",
    "\n",
    "df_non = X_train[X_train.Target==0]\n",
    "df_mal = X_train[X_train.Target==1]\n",
    "\n",
    "df_non=df_non.sample(frac=len(df_mal)/len(df_non),random_state=0)\n",
    "df_u=df_non.append(df_mal)\n",
    "\n",
    "Y_train = df_u['Target']\n",
    "X_train = df_u.drop(['Target'], axis=1) \n",
    "\n",
    "sc = StandardScaler()\n",
    "scaled_X_train = sc.fit_transform(X_train)\n",
    "\n",
    "Y_test = X_test['Target']\n",
    "X_test = X_test.drop(['Target'], axis=1)\n",
    "scaled_X_test = sc.transform(X_test)\n",
    "X_train = X_train.values\n",
    "X_test = X_test.values"
   ]
  },
  {
   "cell_type": "code",
   "execution_count": 75,
   "metadata": {},
   "outputs": [
    {
     "name": "stdout",
     "output_type": "stream",
     "text": [
      "\u001b[1mVoting Classifier\u001b[0m\n",
      "Accuracy of the model for training data is: 0.9974697779027271\n",
      "Confusion Matrix for training data is:\n"
     ]
    },
    {
     "data": {
      "text/html": [
       "<div>\n",
       "<style scoped>\n",
       "    .dataframe tbody tr th:only-of-type {\n",
       "        vertical-align: middle;\n",
       "    }\n",
       "\n",
       "    .dataframe tbody tr th {\n",
       "        vertical-align: top;\n",
       "    }\n",
       "\n",
       "    .dataframe thead th {\n",
       "        text-align: right;\n",
       "    }\n",
       "</style>\n",
       "<table border=\"1\" class=\"dataframe\">\n",
       "  <thead>\n",
       "    <tr style=\"text-align: right;\">\n",
       "      <th>col_0</th>\n",
       "      <th>0</th>\n",
       "      <th>1</th>\n",
       "    </tr>\n",
       "    <tr>\n",
       "      <th>Target</th>\n",
       "      <th></th>\n",
       "      <th></th>\n",
       "    </tr>\n",
       "  </thead>\n",
       "  <tbody>\n",
       "    <tr>\n",
       "      <th>0</th>\n",
       "      <td>3553</td>\n",
       "      <td>4</td>\n",
       "    </tr>\n",
       "    <tr>\n",
       "      <th>1</th>\n",
       "      <td>14</td>\n",
       "      <td>3543</td>\n",
       "    </tr>\n",
       "  </tbody>\n",
       "</table>\n",
       "</div>"
      ],
      "text/plain": [
       "col_0      0     1\n",
       "Target            \n",
       "0       3553     4\n",
       "1         14  3543"
      ]
     },
     "metadata": {},
     "output_type": "display_data"
    },
    {
     "name": "stdout",
     "output_type": "stream",
     "text": [
      "Accuracy of the model for test data is: 0.9586576496108205\n",
      "Confusion Matrix for test data is:\n"
     ]
    },
    {
     "data": {
      "text/html": [
       "<div>\n",
       "<style scoped>\n",
       "    .dataframe tbody tr th:only-of-type {\n",
       "        vertical-align: middle;\n",
       "    }\n",
       "\n",
       "    .dataframe tbody tr th {\n",
       "        vertical-align: top;\n",
       "    }\n",
       "\n",
       "    .dataframe thead th {\n",
       "        text-align: right;\n",
       "    }\n",
       "</style>\n",
       "<table border=\"1\" class=\"dataframe\">\n",
       "  <thead>\n",
       "    <tr style=\"text-align: right;\">\n",
       "      <th>col_0</th>\n",
       "      <th>0</th>\n",
       "      <th>1</th>\n",
       "    </tr>\n",
       "    <tr>\n",
       "      <th>Target</th>\n",
       "      <th></th>\n",
       "      <th></th>\n",
       "    </tr>\n",
       "  </thead>\n",
       "  <tbody>\n",
       "    <tr>\n",
       "      <th>0</th>\n",
       "      <td>6671</td>\n",
       "      <td>282</td>\n",
       "    </tr>\n",
       "    <tr>\n",
       "      <th>1</th>\n",
       "      <td>42</td>\n",
       "      <td>842</td>\n",
       "    </tr>\n",
       "  </tbody>\n",
       "</table>\n",
       "</div>"
      ],
      "text/plain": [
       "col_0      0    1\n",
       "Target           \n",
       "0       6671  282\n",
       "1         42  842"
      ]
     },
     "metadata": {},
     "output_type": "display_data"
    },
    {
     "name": "stdout",
     "output_type": "stream",
     "text": [
      "MCC :  0.8230620604902582\n",
      "Precison :  0.7491103202846975\n",
      "Recall :  0.9524886877828054\n",
      "AUC :  0.9559653276394251\n"
     ]
    }
   ],
   "source": [
    "rf_model = RandomForestClassifier(random_state=0)\n",
    "\n",
    "et_model = ExtraTreesClassifier(random_state=0)\n",
    "\n",
    "grad_model = GradientBoostingClassifier(random_state=0)\n",
    "\n",
    "\n",
    "base_est =[ ( 'rf' , rf_model ) , ( 'gradient' , grad_model ) , ( 'extratree' , et_model ) ]\n",
    "\n",
    "\n",
    "print('\\033[1m' + 'Voting Classifier' + '\\033[0m')\n",
    "vc_model=VotingClassifier(estimators = base_est, voting = 'hard', weights = [1,1,1] )\n",
    "vc_model.fit(scaled_X_train,Y_train)\n",
    "vc_model,acc_train,acc_test,roc_auc,mcc,precision,recall=model_build(vc_model,scaled_X_train,Y_train,scaled_X_test,Y_test,tree=False,feat=None)\n",
    "print(\"MCC : \", mcc)\n",
    "print(\"Precison : \",precision)\n",
    "print(\"Recall : \",recall)\n",
    "print(\"AUC : \" , roc_auc)"
   ]
  },
  {
   "cell_type": "markdown",
   "metadata": {},
   "source": [
    "### 4. Feature Transformation"
   ]
  },
  {
   "cell_type": "code",
   "execution_count": 96,
   "metadata": {},
   "outputs": [
    {
     "name": "stdout",
     "output_type": "stream",
     "text": [
      "Built 2278 features\n",
      "EntitySet scattered to workers in 3.821 seconds\n",
      "Elapsed: 00:06 | Remaining: 00:00 | Progress: 100%|██████████| Calculated: 11/11 chunks\n"
     ]
    }
   ],
   "source": [
    "df.reset_index(inplace=True)\n",
    "# columns.remove('Target')\n",
    "# columns.append('domain')\n",
    "df_min=df[columns]\n",
    "\n",
    "es = ft.EntitySet(id = 'malicious')\n",
    "es.entity_from_dataframe(entity_id = 'data', dataframe = df_min, index = 'domain')\n",
    "\n",
    "feature_matrix_sessions, features_defs = ft.dfs(entityset=es,target_entity=\"data\",\n",
    "                                                trans_primitives = ['add','divide','multiply'],n_jobs=-1,\n",
    "                                                verbose=1,max_depth=1)"
   ]
  },
  {
   "cell_type": "code",
   "execution_count": 97,
   "metadata": {},
   "outputs": [],
   "source": [
    "df.set_index(['domain'],drop=True,inplace=True)\n",
    "fs=pd.merge(feature_matrix_sessions,pd.DataFrame(df_sel.Target),left_index=True, right_index=True)\n",
    "fs.replace([np.inf],0,inplace=True)\n",
    "fs.fillna(value=0,inplace=True)\n",
    "fs=fs.reindex(df.index.values)\n",
    "X=fs.loc[:,fs.columns!='Target']\n",
    "y=fs.Target\n",
    "feature_name = X.columns.tolist()"
   ]
  },
  {
   "cell_type": "code",
   "execution_count": 98,
   "metadata": {},
   "outputs": [
    {
     "data": {
      "text/plain": [
       "['url_length / total_count',\n",
       " 'url_extensions / total_count',\n",
       " 'url_char_w + url_char_z',\n",
       " 'url_char_. / total_count',\n",
       " 'url_char_. + url_char_w',\n",
       " 'http_header_server_apache / total_count',\n",
       " 'http_header_server_apache + url_char_w',\n",
       " 'a_href_relative / total_href',\n",
       " 'url_extensions / url_char_z',\n",
       " 'url_extensions',\n",
       " 'url_char_z / total_count',\n",
       " 'url_char_y * url_extensions',\n",
       " 'url_char_w / total_count',\n",
       " 'url_char_w + url_extensions',\n",
       " 'url_char_w * url_length',\n",
       " 'url_char_w * url_extensions',\n",
       " 'url_char_w',\n",
       " 'url_char_p / total_count',\n",
       " 'url_char_p + url_extensions',\n",
       " 'url_char_l / total_count',\n",
       " 'url_char_i / total_count',\n",
       " 'url_char_f / total_count',\n",
       " 'url_char_f + url_extensions',\n",
       " 'url_char_f + url_char_w',\n",
       " 'url_char_. + url_extensions',\n",
       " 'url_char_. + url_char_z',\n",
       " 'url_char_. + url_char_y',\n",
       " 'url_char_. * url_char_w',\n",
       " 'url_char_.',\n",
       " 'http_header_via_1.1 + url_extensions',\n",
       " 'http_header_vary_user-agent + url_extensions',\n",
       " 'http_header_vary_user-agent + url_char_.',\n",
       " 'http_header_server_apache + url_extensions',\n",
       " 'http_header_content-encoding_gzip / url_char_.',\n",
       " 'a_href_relative / a_count',\n",
       " 'a_href_out_of_domain / total_href',\n",
       " 'a_href_https / a_count',\n",
       " 'Target']"
      ]
     },
     "metadata": {},
     "output_type": "display_data"
    }
   ],
   "source": [
    "feature_name=['url_length / total_count',\n",
    " 'url_extensions / total_count',\n",
    " 'url_char_w + url_char_z',\n",
    " 'url_char_. / total_count',\n",
    " 'url_char_. + url_char_w',\n",
    " 'http_header_server_apache / total_count',\n",
    " 'http_header_server_apache + url_char_w',\n",
    " 'a_href_relative / total_href',\n",
    " 'url_extensions / url_char_z',\n",
    " 'url_extensions',\n",
    " 'url_char_z / total_count',\n",
    " 'url_char_y * url_extensions',\n",
    " 'url_char_w / total_count',\n",
    " 'url_char_w + url_extensions',\n",
    " 'url_char_w * url_length',\n",
    " 'url_char_w * url_extensions',\n",
    " 'url_char_w',\n",
    " 'url_char_p / total_count',\n",
    " 'url_char_p + url_extensions',\n",
    " 'url_char_l / total_count',\n",
    " 'url_char_i / total_count',\n",
    " 'url_char_f / total_count',\n",
    " 'url_char_f + url_extensions',\n",
    " 'url_char_f + url_char_w',\n",
    " 'url_char_. + url_extensions',\n",
    " 'url_char_. + url_char_z',\n",
    " 'url_char_. + url_char_y',\n",
    " 'url_char_. * url_char_w',\n",
    " 'url_char_.',\n",
    " 'http_header_via_1.1 + url_extensions',\n",
    " 'http_header_vary_user-agent + url_extensions',\n",
    " 'http_header_vary_user-agent + url_char_.',\n",
    " 'http_header_server_apache + url_extensions',\n",
    " 'http_header_content-encoding_gzip / url_char_.',\n",
    " 'a_href_relative / a_count',\n",
    " 'a_href_out_of_domain / total_href',\n",
    " 'a_href_https / a_count','Target']\n",
    "display(feature_name)"
   ]
  },
  {
   "cell_type": "code",
   "execution_count": 99,
   "metadata": {},
   "outputs": [],
   "source": [
    "fs=fs.reindex(df_sel.index.values)\n",
    "X_train, X_test = train_test_split(fs[feature_name], test_size=0.2, random_state=0)\n",
    "\n",
    "# X_train.replace([np.inf],0,inplace=True)\n",
    "# X_train.fillna(value=0,inplace=True)\n",
    "Y_train = X_train['Target']\n",
    "X_train = X_train.drop(['Target'], axis=1) \n",
    "\n",
    "sc = StandardScaler()\n",
    "scaled_X_train = sc.fit_transform(X_train)\n",
    "\n",
    "Y_test = X_test['Target']\n",
    "X_test = X_test.drop(['Target'], axis=1)\n",
    "scaled_X_test = sc.transform(X_test)\n",
    "X_train = X_train.values\n",
    "X_test = X_test.values"
   ]
  },
  {
   "cell_type": "code",
   "execution_count": 102,
   "metadata": {},
   "outputs": [
    {
     "name": "stdout",
     "output_type": "stream",
     "text": [
      "\u001b[1mVoting Classifier\u001b[0m\n",
      "Accuracy of the model for training data is: 0.9970331142729535\n",
      "Confusion Matrix for training data is:\n"
     ]
    },
    {
     "data": {
      "text/html": [
       "<div>\n",
       "<style scoped>\n",
       "    .dataframe tbody tr th:only-of-type {\n",
       "        vertical-align: middle;\n",
       "    }\n",
       "\n",
       "    .dataframe tbody tr th {\n",
       "        vertical-align: top;\n",
       "    }\n",
       "\n",
       "    .dataframe thead th {\n",
       "        text-align: right;\n",
       "    }\n",
       "</style>\n",
       "<table border=\"1\" class=\"dataframe\">\n",
       "  <thead>\n",
       "    <tr style=\"text-align: right;\">\n",
       "      <th>col_0</th>\n",
       "      <th>0</th>\n",
       "      <th>1</th>\n",
       "    </tr>\n",
       "    <tr>\n",
       "      <th>Target</th>\n",
       "      <th></th>\n",
       "      <th></th>\n",
       "    </tr>\n",
       "  </thead>\n",
       "  <tbody>\n",
       "    <tr>\n",
       "      <th>0</th>\n",
       "      <td>27781</td>\n",
       "      <td>11</td>\n",
       "    </tr>\n",
       "    <tr>\n",
       "      <th>1</th>\n",
       "      <td>82</td>\n",
       "      <td>3472</td>\n",
       "    </tr>\n",
       "  </tbody>\n",
       "</table>\n",
       "</div>"
      ],
      "text/plain": [
       "col_0       0     1\n",
       "Target             \n",
       "0       27781    11\n",
       "1          82  3472"
      ]
     },
     "metadata": {},
     "output_type": "display_data"
    },
    {
     "name": "stdout",
     "output_type": "stream",
     "text": [
      "Accuracy of the model for test data is: 0.9780528263366084\n",
      "Confusion Matrix for test data is:\n"
     ]
    },
    {
     "data": {
      "text/html": [
       "<div>\n",
       "<style scoped>\n",
       "    .dataframe tbody tr th:only-of-type {\n",
       "        vertical-align: middle;\n",
       "    }\n",
       "\n",
       "    .dataframe tbody tr th {\n",
       "        vertical-align: top;\n",
       "    }\n",
       "\n",
       "    .dataframe thead th {\n",
       "        text-align: right;\n",
       "    }\n",
       "</style>\n",
       "<table border=\"1\" class=\"dataframe\">\n",
       "  <thead>\n",
       "    <tr style=\"text-align: right;\">\n",
       "      <th>col_0</th>\n",
       "      <th>0</th>\n",
       "      <th>1</th>\n",
       "    </tr>\n",
       "    <tr>\n",
       "      <th>Target</th>\n",
       "      <th></th>\n",
       "      <th></th>\n",
       "    </tr>\n",
       "  </thead>\n",
       "  <tbody>\n",
       "    <tr>\n",
       "      <th>0</th>\n",
       "      <td>6907</td>\n",
       "      <td>43</td>\n",
       "    </tr>\n",
       "    <tr>\n",
       "      <th>1</th>\n",
       "      <td>129</td>\n",
       "      <td>758</td>\n",
       "    </tr>\n",
       "  </tbody>\n",
       "</table>\n",
       "</div>"
      ],
      "text/plain": [
       "col_0      0    1\n",
       "Target           \n",
       "0       6907   43\n",
       "1        129  758"
      ]
     },
     "metadata": {},
     "output_type": "display_data"
    },
    {
     "name": "stdout",
     "output_type": "stream",
     "text": [
      "MCC :  0.8872885937128852\n",
      "Precison :  0.9463171036204744\n",
      "Recall :  0.85456595264938\n",
      "AUC :  0.9241894511448339\n"
     ]
    }
   ],
   "source": [
    "rf_model = RandomForestClassifier(random_state=0)\n",
    "\n",
    "et_model = ExtraTreesClassifier(random_state=0)\n",
    "\n",
    "grad_model = GradientBoostingClassifier(random_state=0)\n",
    "\n",
    "\n",
    "base_est =[ ( 'rf' , rf_model ) , ( 'gradient' , grad_model ) , ( 'extratree' , et_model ) ]\n",
    "\n",
    "\n",
    "print('\\033[1m' + 'Voting Classifier' + '\\033[0m')\n",
    "vc_model=VotingClassifier(estimators = base_est, voting = 'hard', weights = [1,1,1] )\n",
    "vc_model.fit(scaled_X_train,Y_train)\n",
    "vc_model,acc_train,acc_test,roc_auc,mcc,precision,recall=model_build(vc_model,scaled_X_train,Y_train,scaled_X_test,Y_test,tree=False,feat=None)\n",
    "print(\"MCC : \", mcc)\n",
    "print(\"Precison : \",precision)\n",
    "print(\"Recall : \",recall)\n",
    "print(\"AUC : \" , roc_auc)"
   ]
  },
  {
   "cell_type": "markdown",
   "metadata": {},
   "source": [
    "### 5. PCA"
   ]
  },
  {
   "cell_type": "code",
   "execution_count": 103,
   "metadata": {},
   "outputs": [
    {
     "name": "stdout",
     "output_type": "stream",
     "text": [
      "Built 2278 features\n",
      "EntitySet scattered to workers in 3.726 seconds\n",
      "Elapsed: 00:07 | Remaining: 00:00 | Progress: 100%|██████████| Calculated: 11/11 chunks\n"
     ]
    }
   ],
   "source": [
    "df.reset_index(inplace=True)\n",
    "# columns.remove('Target')\n",
    "# columns.append('domain')\n",
    "df_min=df[columns]\n",
    "\n",
    "es = ft.EntitySet(id = 'malicious')\n",
    "es.entity_from_dataframe(entity_id = 'data', dataframe = df_min, index = 'domain')\n",
    "\n",
    "feature_matrix_sessions, features_defs = ft.dfs(entityset=es,target_entity=\"data\",\n",
    "                                                trans_primitives = ['add','divide','multiply'],n_jobs=-1,\n",
    "                                                verbose=1,max_depth=1)\n",
    "\n",
    "df.set_index(['domain'],drop=True,inplace=True)\n",
    "fs=pd.merge(feature_matrix_sessions,pd.DataFrame(df_sel.Target),left_index=True, right_index=True)\n",
    "fs.replace([np.inf],0,inplace=True)\n",
    "fs.fillna(value=0,inplace=True)\n",
    "fs=fs.reindex(df.index.values)"
   ]
  },
  {
   "cell_type": "code",
   "execution_count": 104,
   "metadata": {},
   "outputs": [
    {
     "data": {
      "image/png": "[encoded data removed]",
      "text/plain": [
       "<Figure size 720x576 with 1 Axes>"
      ]
     },
     "metadata": {},
     "output_type": "display_data"
    }
   ],
   "source": [
    "X_train, X_test = train_test_split(fs, test_size=0.2, random_state=0)\n",
    "X=X_train.drop(['Target'] , axis=1)\n",
    "y=X_train.Target.values\n",
    "feature_name = X.columns.tolist()\n",
    "X=np.nan_to_num(X)\n",
    "scaler=StandardScaler()\n",
    "scaled_X=scaler.fit_transform(X)\n",
    "\n",
    "sns.set_style('whitegrid')\n",
    "pca = PCA(random_state=0)\n",
    "pca.fit(scaled_X)\n",
    "plt.figure(1, figsize=(10, 8))\n",
    "plt.plot(np.cumsum(pca.explained_variance_ratio_),'--o', linewidth=2)\n",
    "plt.axis('tight')\n",
    "plt.xlabel('Number of Components',size=14)\n",
    "plt.xticks(size=12)\n",
    "plt.xlim([0,200])\n",
    "plt.ylabel('% Explained Variance',size=14)\n",
    "plt.yticks(size=12)\n",
    "plt.title('% Variance Explained by Principal Components',size=14,y=1.05)\n",
    "plt.show()"
   ]
  },
  {
   "cell_type": "code",
   "execution_count": 105,
   "metadata": {},
   "outputs": [
    {
     "name": "stdout",
     "output_type": "stream",
     "text": [
      "Variance explained using 125 components is: 0.793298797248239\n"
     ]
    }
   ],
   "source": [
    "pca=PCA(n_components=125,whiten=True,random_state=0)\n",
    "X_pca_21=pca.fit_transform(scaled_X)\n",
    "print(\"Variance explained using 125 components is:\",sum(pca.explained_variance_ratio_))\n",
    "y_test = X_test['Target']\n",
    "X_test = X_test.drop(['Target'], axis=1)\n",
    "X_test_pca = pca.transform(X_test)"
   ]
  },
  {
   "cell_type": "code",
   "execution_count": 107,
   "metadata": {},
   "outputs": [
    {
     "name": "stdout",
     "output_type": "stream",
     "text": [
      "\u001b[1mVoting Classifier\u001b[0m\n",
      "Accuracy of the model for training data is: 0.997958272187839\n",
      "Confusion Matrix for training data is:\n"
     ]
    },
    {
     "data": {
      "text/html": [
       "<div>\n",
       "<style scoped>\n",
       "    .dataframe tbody tr th:only-of-type {\n",
       "        vertical-align: middle;\n",
       "    }\n",
       "\n",
       "    .dataframe tbody tr th {\n",
       "        vertical-align: top;\n",
       "    }\n",
       "\n",
       "    .dataframe thead th {\n",
       "        text-align: right;\n",
       "    }\n",
       "</style>\n",
       "<table border=\"1\" class=\"dataframe\">\n",
       "  <thead>\n",
       "    <tr style=\"text-align: right;\">\n",
       "      <th>col_0</th>\n",
       "      <th>0</th>\n",
       "      <th>1</th>\n",
       "    </tr>\n",
       "    <tr>\n",
       "      <th>row_0</th>\n",
       "      <th></th>\n",
       "      <th></th>\n",
       "    </tr>\n",
       "  </thead>\n",
       "  <tbody>\n",
       "    <tr>\n",
       "      <th>0</th>\n",
       "      <td>27785</td>\n",
       "      <td>7</td>\n",
       "    </tr>\n",
       "    <tr>\n",
       "      <th>1</th>\n",
       "      <td>57</td>\n",
       "      <td>3497</td>\n",
       "    </tr>\n",
       "  </tbody>\n",
       "</table>\n",
       "</div>"
      ],
      "text/plain": [
       "col_0      0     1\n",
       "row_0             \n",
       "0      27785     7\n",
       "1         57  3497"
      ]
     },
     "metadata": {},
     "output_type": "display_data"
    },
    {
     "name": "stdout",
     "output_type": "stream",
     "text": [
      "Accuracy of the model for test data is: 0.8938369273956871\n",
      "Confusion Matrix for test data is:\n"
     ]
    },
    {
     "data": {
      "text/html": [
       "<div>\n",
       "<style scoped>\n",
       "    .dataframe tbody tr th:only-of-type {\n",
       "        vertical-align: middle;\n",
       "    }\n",
       "\n",
       "    .dataframe tbody tr th {\n",
       "        vertical-align: top;\n",
       "    }\n",
       "\n",
       "    .dataframe thead th {\n",
       "        text-align: right;\n",
       "    }\n",
       "</style>\n",
       "<table border=\"1\" class=\"dataframe\">\n",
       "  <thead>\n",
       "    <tr style=\"text-align: right;\">\n",
       "      <th>col_0</th>\n",
       "      <th>0</th>\n",
       "      <th>1</th>\n",
       "    </tr>\n",
       "    <tr>\n",
       "      <th>Target</th>\n",
       "      <th></th>\n",
       "      <th></th>\n",
       "    </tr>\n",
       "  </thead>\n",
       "  <tbody>\n",
       "    <tr>\n",
       "      <th>0</th>\n",
       "      <td>6935</td>\n",
       "      <td>15</td>\n",
       "    </tr>\n",
       "    <tr>\n",
       "      <th>1</th>\n",
       "      <td>817</td>\n",
       "      <td>70</td>\n",
       "    </tr>\n",
       "  </tbody>\n",
       "</table>\n",
       "</div>"
      ],
      "text/plain": [
       "col_0      0   1\n",
       "Target          \n",
       "0       6935  15\n",
       "1        817  70"
      ]
     },
     "metadata": {},
     "output_type": "display_data"
    },
    {
     "name": "stdout",
     "output_type": "stream",
     "text": [
      "MCC :  0.23478459063739215\n",
      "Precison :  0.8235294117647058\n",
      "Recall :  0.07891770011273957\n",
      "AUC :  0.5383797133657222\n"
     ]
    }
   ],
   "source": [
    "rf_model = RandomForestClassifier(random_state=0)\n",
    "\n",
    "et_model = ExtraTreesClassifier(random_state=0)\n",
    "\n",
    "grad_model = GradientBoostingClassifier(random_state=0)\n",
    "\n",
    "\n",
    "base_est =[ ( 'rf' , rf_model ) , ( 'gradient' , grad_model ) , ( 'extratree' , et_model ) ]\n",
    "\n",
    "\n",
    "print('\\033[1m' + 'Voting Classifier' + '\\033[0m')\n",
    "vc_model=VotingClassifier(estimators = base_est, voting = 'soft', weights = [1,1,1] )\n",
    "vc_model.fit(X_pca_21,y)\n",
    "vc_model,acc_train,acc_test,roc_auc,mcc,precision,recall=model_build(vc_model,X_pca_21,y,X_test_pca,y_test,tree=False,feat=None)\n",
    "print(\"MCC : \", mcc)\n",
    "print(\"Precison : \",precision)\n",
    "print(\"Recall : \",recall)\n",
    "print(\"AUC : \" , roc_auc)"
   ]
  },
  {
   "cell_type": "code",
   "execution_count": 2,
   "metadata": {},
   "outputs": [
    {
     "data": {
      "text/html": [
       "<script>\n",
       "code_show=true; \n",
       "function code_toggle() {\n",
       " if (code_show){\n",
       " $('div.input').hide();\n",
       " } else {\n",
       " $('div.input').show();\n",
       " }\n",
       " code_show = !code_show\n",
       "} \n",
       "$( document ).ready(code_toggle);\n",
       "</script>\n",
       "To toggle code, click <a href=\"javascript:code_toggle()\">here</a>."
      ],
      "text/plain": [
       "<IPython.core.display.HTML object>"
      ]
     },
     "execution_count": 2,
     "metadata": {},
     "output_type": "execute_result"
    }
   ],
   "source": [
    "### Darshan Bhansali\n",
    "### HTML code to hide the input cells \n",
    "HTML('''<script>\n",
    "code_show=true; \n",
    "function code_toggle() {\n",
    " if (code_show){\n",
    " $('div.input').hide();\n",
    " } else {\n",
    " $('div.input').show();\n",
    " }\n",
    " code_show = !code_show\n",
    "} \n",
    "$( document ).ready(code_toggle);\n",
    "</script>\n",
    "To toggle code, click <a href=\"javascript:code_toggle()\">here</a>.''')"
   ]
  },
  {
   "cell_type": "code",
   "execution_count": null,
   "metadata": {},
   "outputs": [],
   "source": []
  }
 ],
 "metadata": {
  "kernelspec": {
   "display_name": "Python 3",
   "language": "python",
   "name": "python3"
  },
  "language_info": {
   "codemirror_mode": {
    "name": "ipython",
    "version": 3
   },
   "file_extension": ".py",
   "mimetype": "text/x-python",
   "name": "python",
   "nbconvert_exporter": "python",
   "pygments_lexer": "ipython3",
   "version": "3.6.7"
  }
 },
 "nbformat": 4,
 "nbformat_minor": 2
}
