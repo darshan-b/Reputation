{
 "cells": [
  {
   "cell_type": "code",
   "execution_count": 1,
   "metadata": {},
   "outputs": [
    {
     "name": "stderr",
     "output_type": "stream",
     "text": [
      "/nethomes/darshan/anaconda3/lib/python3.6/site-packages/sklearn/externals/six.py:31: FutureWarning: The module is deprecated in version 0.21 and will be removed in version 0.23 since we've dropped support for Python 2.7. Please rely on the official version of six (https://pypi.org/project/six/).\n",
      "  \"(https://pypi.org/project/six/).\", FutureWarning)\n",
      "/nethomes/darshan/anaconda3/lib/python3.6/site-packages/sklearn/utils/deprecation.py:144: FutureWarning: The sklearn.neighbors.base module is  deprecated in version 0.22 and will be removed in version 0.24. The corresponding classes / functions should instead be imported from sklearn.neighbors. Anything that cannot be imported from sklearn.neighbors is now part of the private API.\n",
      "  warnings.warn(message, FutureWarning)\n",
      "/nethomes/darshan/anaconda3/lib/python3.6/site-packages/sklearn/externals/joblib/__init__.py:15: FutureWarning: sklearn.externals.joblib is deprecated in 0.21 and will be removed in 0.23. Please import this functionality directly from joblib, which can be installed with: pip install joblib. If this warning is raised when loading pickled models, you may need to re-serialize those models with scikit-learn 0.21+.\n",
      "  warnings.warn(msg, category=FutureWarning)\n"
     ]
    }
   ],
   "source": [
    "import pandas as pd\n",
    "import numpy as np\n",
    "import pickle\n",
    "import matplotlib.pyplot as plt\n",
    "\n",
    "\n",
    "import seaborn as sns\n",
    "\n",
    "from sklearn.model_selection import train_test_split,GridSearchCV, StratifiedKFold\n",
    "from sklearn.preprocessing import StandardScaler\n",
    "from sklearn.metrics import roc_curve,auc,confusion_matrix, accuracy_score, precision_score, \\\n",
    "                            recall_score, matthews_corrcoef\n",
    "\n",
    "from sklearn.ensemble import RandomForestClassifier, GradientBoostingClassifier, ExtraTreesClassifier,\\\n",
    "                             VotingClassifier\n",
    "from sklearn.svm import OneClassSVM\n",
    "import featuretools as ft\n",
    "from sklearn.decomposition import PCA\n",
    "from imblearn.over_sampling import SMOTE\n",
    "from IPython.display import display,clear_output,HTML"
   ]
  },
  {
   "cell_type": "code",
   "execution_count": 2,
   "metadata": {},
   "outputs": [
    {
     "name": "stdout",
     "output_type": "stream",
     "text": [
      "Shape of HTML dataset: (43491, 1461)\n",
      "Shape of JS,DOM dataset: (43294, 401)\n",
      "Shape of HTTP dataset: (45856, 672)\n"
     ]
    },
    {
     "name": "stderr",
     "output_type": "stream",
     "text": [
      "/nethomes/darshan/anaconda3/lib/python3.6/site-packages/IPython/core/interactiveshell.py:3058: DtypeWarning: Columns (76,77,229,230,231,232,233,234,235,236,237,238,239,240,241,242,244,245,246,247,248,249,250,251,252,253,254,256,257,258,259,260,261,262,263,264,265,266,267,268,269,270,271,272,273,274,275,276,277,278,279,280,281,282,283,284,285,286,287,288,289,290,291,292,293,294,295,296,297,298,299,300,301,302,303,304,305,306,307,308,309,310,311,312,313,314,315,316,317,318,319,320,321,322,323,324,325,326,327,328,329,330,331,332,333,334,335,336,337,338,339,340,341,342,343,344,345,346,347,348,349,350,351,352,353,354,355,356,357,358,359,360,361,362,363,364,365,366,367,368,369,370,371,372,373,374,375,376,377,378,379,599,600,601,602,603,604,605,606,607,608,609,610,611,612,613,614,615,616,617,618,619,620,621,622,623,624,625,626,627,628,629,630,631,632,633,634,635,636,637,638,639,642,643,644,645,646,647,648,649,650,651,652,653,654,655,656,657,658,659,660,661,662,663,664,665,666,667,668,669,670,671,672,673,674,675,676,677,678,679,680,681,682,683,684,685,686,687,688,689,690,691,692,693,694,695,696,697,698,699,700,701,702,703,704,705,706,707,708,709,710,711,712,713,714,715,716,717,718,719,720,721,722,723,724,725,726,727,728,729,730,731,732,733,734,735,736,737,738,739,740,741,742,743,744,745,746,747,748,749,750,751,752,753,754,755,756,757,758,759,760,761,762,763,764,765,766,767,768,769,770,771,772,773,774,775,776,777,778,779,780,781,782,783,784,785,786,787,788,789,790,791,792,793,794,795,796,797,798,799,800,801,802,803,804,805,806,807,808) have mixed types. Specify dtype option on import or set low_memory=False.\n",
      "  interactivity=interactivity, compiler=compiler, result=result)\n"
     ]
    },
    {
     "name": "stdout",
     "output_type": "stream",
     "text": [
      "Shape of URL dataset: (46771, 4194)\n",
      "Shape of combined dataset: (39183, 6726)\n"
     ]
    },
    {
     "data": {
      "text/plain": [
       "0    34742\n",
       "1     4441\n",
       "Name: Target, dtype: int64"
      ]
     },
     "execution_count": 2,
     "metadata": {},
     "output_type": "execute_result"
    }
   ],
   "source": [
    "### Read HTML \n",
    "df_html=pd.read_csv('../../html/HTML.csv',index_col='domain')\n",
    "df_html.drop(['Unnamed: 0'],axis=1,inplace=True)\n",
    "cookie=[col for col in df_html.columns if 'number' in col]\n",
    "df_html.drop(cookie,axis=1,inplace=True)\n",
    "print(\"Shape of HTML dataset:\",df_html.shape)\n",
    "df_html.Target=df_html.Target.apply(lambda x: 1 if x=='Malicious' else 0)\n",
    "count_columns=[col for col in df_html.columns if col.endswith('count')]\n",
    "df_html['total_count']=df_html[count_columns].sum(axis=1)\n",
    "\n",
    "href_columns=[col for col in df_html.columns if (('href_absolute' in col) | ('href_relative' in col) | ('href_page' in col))  ]\n",
    "df_html['total_href']=df_html[href_columns].sum(axis=1)\n",
    "\n",
    "total_img_src=[col for col in df_html.columns if 'img_src_' in col]\n",
    "df_html['total_img_src']=df_html[total_img_src].sum(axis=1)\n",
    "\n",
    "\n",
    "### Read JS \n",
    "df_js=pd.read_csv('../Javascript.csv',low_memory=False,index_col='domain')\n",
    "cookie=[col for col in df_js.columns if 'number' in col]\n",
    "df_js.drop(cookie,axis=1,inplace=True)\n",
    "df_js.rename(columns={'Malicious':'Target'},inplace=True)\n",
    "print(\"Shape of JS,DOM dataset:\",df_js.shape)\n",
    "df_js.Target=df_js.Target.apply(lambda x: 1 if x=='Malicious' else 0)\n",
    "\n",
    "\n",
    "### Read HTTP\n",
    "df_http=pd.read_csv('../HTTP.csv')\n",
    "df_http.rename(columns={'Malicious':'Target'},inplace=True)\n",
    "df_http.fillna(value=0,inplace=True)\n",
    "cookies=[columns for columns in df_http.columns if 'number' in columns]\n",
    "df_http.drop(cookies,axis=1,inplace=True)\n",
    "df_http=df_http[df_http['domain']!=0]\n",
    "df_http.sort_values(by='Target',inplace=True,ascending=False)\n",
    "df_http.drop_duplicates(['domain'], keep='first',inplace=True)\n",
    "df_http=df_http.sample(frac=1,random_state=0)\n",
    "df_http.set_index(['domain'],drop=True,inplace=True)\n",
    "print(\"Shape of HTTP dataset:\",df_http.shape)\n",
    "\n",
    "\n",
    "\n",
    "### Read URL\n",
    "df_url=pd.read_csv('../URL.csv')\n",
    "df_url.fillna(value=0,inplace=True)\n",
    "cookies=[columns for columns in df_url.columns if 'number' in columns]\n",
    "df_url.drop(cookies,axis=1,inplace=True)\n",
    "df_url.drop(['url_host','url_ip'],axis=1,inplace=True)\n",
    "df_url=df_url[df_url['domain']!=0]\n",
    "df_url.sort_values(by='Target',inplace=True,ascending=False)\n",
    "df_url.drop_duplicates(['domain'], keep='first',inplace=True)\n",
    "df_url=df_url.sample(frac=1,random_state=0)\n",
    "print(\"Shape of URL dataset:\",df_url.shape)\n",
    "df_url.set_index('domain',inplace=True,drop=True)\n",
    "\n",
    "df=pd.concat([df_js,df_html,df_http,df_url],axis=1,join='inner')\n",
    "df.drop(['Unnamed: 0'],axis=1,inplace=True)\n",
    "df['Target_z']=df[['Target','Target','Target','Target']].apply(max,axis=1)\n",
    "df.drop(['Target','Target','Target','Target'],axis=1,inplace=True)\n",
    "print(\"Shape of combined dataset:\",df.shape)\n",
    "df.rename(columns={'Target_z':'Target'},inplace=True)\n",
    "df.Target.value_counts()"
   ]
  },
  {
   "cell_type": "code",
   "execution_count": 3,
   "metadata": {},
   "outputs": [
    {
     "name": "stdout",
     "output_type": "stream",
     "text": [
      "features being used\n"
     ]
    },
    {
     "data": {
      "text/plain": [
       "['dom_function_document.createElement(',\n",
       " 'dom_function_document.write(',\n",
       " 'dom_function_window.addEventListener(',\n",
       " 'dom_function_window.setInterval(',\n",
       " 'dom_function_window.setTimeout(',\n",
       " 'js_function_.charCodeAt(',\n",
       " 'js_function_.concat(',\n",
       " 'js_function_.exec(',\n",
       " 'js_function_.link(',\n",
       " 'js_function_.search(',\n",
       " 'js_function_.substring(',\n",
       " 'js_function_escape(',\n",
       " 'js_function_eval(',\n",
       " 'js_function_parseInt(',\n",
       " 'js_function_String.fromCharCode(',\n",
       " 'js_function_unescape(',\n",
       " 'js_function_.replace(',\n",
       " 'a_count',\n",
       " 'div_count',\n",
       " 'embed_count',\n",
       " 'frame_count',\n",
       " 'iframe_count',\n",
       " 'img_count',\n",
       " 'input_count',\n",
       " 'link_count',\n",
       " 'meta_count',\n",
       " 'object_count',\n",
       " 'style_count',\n",
       " 'title_count',\n",
       " 'total_count',\n",
       " 'total_href',\n",
       " 'total_img_src',\n",
       " 'iframe_hidden_true',\n",
       " 'script_type_text/javascript',\n",
       " 'a_href_out_of_domain',\n",
       " 'area_href_out_of_domain',\n",
       " 'audio_src_out_of_domain',\n",
       " 'base_href_out_of_domain',\n",
       " 'embed_src_out_of_domain',\n",
       " 'form_action_out_of_domain',\n",
       " 'frame_src_out_of_domain',\n",
       " 'iframe_src_out_of_domain',\n",
       " 'img_src_out_of_domain',\n",
       " 'img_srcset_out_of_domain',\n",
       " 'link_href_out_of_domain',\n",
       " 'object_data_out_of_domain',\n",
       " 'script_src_out_of_domain',\n",
       " 'source_src_out_of_domain',\n",
       " 'source_srcset_out_of_domain',\n",
       " 'video_src_out_of_domain',\n",
       " 'http_header_cache-control_set_max-age',\n",
       " 'http_header_cache-control_set_must-revalidate',\n",
       " 'http_header_cache-control_set_no-cache',\n",
       " 'http_header_cache-control_set_no-store',\n",
       " 'http_header_cache-control_set_private',\n",
       " 'http_header_cache-control_set_public',\n",
       " 'http_header_content-encoding_gzip',\n",
       " 'http_header_content-language_text/html',\n",
       " 'http_header_content-length',\n",
       " 'http_header_server_apache',\n",
       " 'http_header_server_nginx',\n",
       " 'url_char_-',\n",
       " 'url_char_.',\n",
       " 'url_char_a',\n",
       " 'url_char_b',\n",
       " 'url_char_c',\n",
       " 'url_char_d',\n",
       " 'url_char_e',\n",
       " 'url_char_f',\n",
       " 'url_char_g',\n",
       " 'url_char_h',\n",
       " 'url_char_i',\n",
       " 'url_char_j',\n",
       " 'url_char_k',\n",
       " 'url_char_l',\n",
       " 'url_char_m',\n",
       " 'url_char_n',\n",
       " 'url_char_o',\n",
       " 'url_char_p',\n",
       " 'url_char_r',\n",
       " 'url_char_s',\n",
       " 'url_char_t',\n",
       " 'url_char_u',\n",
       " 'url_char_v',\n",
       " 'url_char_w',\n",
       " 'url_char_x',\n",
       " 'url_char_y',\n",
       " 'url_char_z',\n",
       " 'url_extension_.com',\n",
       " 'url_extension_.i',\n",
       " 'url_extension_.net',\n",
       " 'url_extensions',\n",
       " 'url_length',\n",
       " 'url_tlds',\n",
       " 'url_words_with_length_4',\n",
       " 'url_words_with_length_5',\n",
       " 'url_words_with_length_6',\n",
       " 'url_words_with_length_7',\n",
       " 'url_words_with_length_8',\n",
       " 'Target']"
      ]
     },
     "metadata": {},
     "output_type": "display_data"
    }
   ],
   "source": [
    "columns=['dom_function_document.createElement(',\n",
    " 'dom_function_document.write(',\n",
    " 'dom_function_window.addEventListener(',\n",
    " 'dom_function_window.setInterval(',\n",
    " 'dom_function_window.setTimeout(',\n",
    " 'js_function_.charCodeAt(',\n",
    " 'js_function_.concat(',\n",
    " 'js_function_.exec(',\n",
    " 'js_function_.link(',\n",
    " 'js_function_.search(',\n",
    " 'js_function_.substring(',\n",
    " 'js_function_escape(',\n",
    " 'js_function_eval(',\n",
    " 'js_function_parseInt(',\n",
    " 'js_function_String.fromCharCode(',\n",
    " 'js_function_unescape(',\n",
    " 'js_function_.replace(',\n",
    " 'a_count',\n",
    " 'div_count',\n",
    " 'embed_count',\n",
    " 'frame_count',\n",
    " 'iframe_count',\n",
    " 'img_count',\n",
    " 'input_count',\n",
    " 'link_count',\n",
    " 'meta_count',\n",
    " 'object_count',\n",
    " 'style_count',\n",
    " 'title_count',\n",
    " 'total_count',\n",
    " 'total_href',\n",
    " 'total_img_src',\n",
    " 'iframe_hidden_true',\n",
    " 'script_type_text/javascript',\n",
    " 'a_href_out_of_domain',\n",
    " 'area_href_out_of_domain',\n",
    " 'audio_src_out_of_domain',\n",
    " 'base_href_out_of_domain',\n",
    " 'embed_src_out_of_domain',\n",
    " 'form_action_out_of_domain',\n",
    " 'frame_src_out_of_domain',\n",
    " 'iframe_src_out_of_domain',\n",
    " 'img_src_out_of_domain',\n",
    " 'img_srcset_out_of_domain',\n",
    " 'link_href_out_of_domain',\n",
    " 'object_data_out_of_domain',\n",
    " 'script_src_out_of_domain',\n",
    " 'source_src_out_of_domain',\n",
    " 'source_srcset_out_of_domain',\n",
    " 'video_src_out_of_domain',\n",
    " 'http_header_cache-control_set_max-age',\n",
    " 'http_header_cache-control_set_must-revalidate',\n",
    " 'http_header_cache-control_set_no-cache',\n",
    " 'http_header_cache-control_set_no-store',\n",
    " 'http_header_cache-control_set_private',\n",
    " 'http_header_cache-control_set_public',\n",
    " 'http_header_content-encoding_gzip',\n",
    " 'http_header_content-language_text/html',\n",
    " 'http_header_content-length',\n",
    " 'http_header_server_apache',\n",
    " 'http_header_server_nginx',\n",
    " 'url_char_-',\n",
    " 'url_char_.',\n",
    " 'url_char_a',\n",
    " 'url_char_b',\n",
    " 'url_char_c',\n",
    " 'url_char_d',\n",
    " 'url_char_e',\n",
    " 'url_char_f',\n",
    " 'url_char_g',\n",
    " 'url_char_h',\n",
    " 'url_char_i',\n",
    " 'url_char_j',\n",
    " 'url_char_k',\n",
    " 'url_char_l',\n",
    " 'url_char_m',\n",
    " 'url_char_n',\n",
    " 'url_char_o',\n",
    " 'url_char_p',\n",
    " 'url_char_r',\n",
    " 'url_char_s',\n",
    " 'url_char_t',\n",
    " 'url_char_u',\n",
    " 'url_char_v',\n",
    " 'url_char_w',\n",
    " 'url_char_x',\n",
    " 'url_char_y',\n",
    " 'url_char_z',\n",
    " 'url_extension_.com',\n",
    " 'url_extension_.i',\n",
    " 'url_extension_.net',\n",
    " 'url_extensions',\n",
    " 'url_length',\n",
    " 'url_tlds',\n",
    " 'url_words_with_length_4',\n",
    " 'url_words_with_length_5',\n",
    " 'url_words_with_length_6',\n",
    " 'url_words_with_length_7',\n",
    " 'url_words_with_length_8',\n",
    " 'Target']\n",
    "\n",
    "print(\"features being used\")\n",
    "display(columns)\n",
    "df_sel=df[columns].copy(deep=True)"
   ]
  },
  {
   "cell_type": "code",
   "execution_count": 4,
   "metadata": {},
   "outputs": [],
   "source": [
    "def model_build(model,X_train,Y_train,X_test,Y_test,tree=False,feat=None):\n",
    "    \n",
    "    y_pred_train=model.predict(X_train)\n",
    "    acc_train=accuracy_score(Y_train,y_pred_train)\n",
    "    print(\"Accuracy of the model for training data is:\",acc_train)\n",
    "    print(\"Confusion Matrix for training data is:\")\n",
    "    display(pd.crosstab(Y_train,y_pred_train))\n",
    "    \n",
    "    \n",
    "    y_pred_test=model.predict(X_test)\n",
    "    acc_test=accuracy_score(Y_test,y_pred_test)\n",
    "    print(\"Accuracy of the model for test data is:\",acc_test)\n",
    "    print(\"Confusion Matrix for test data is:\")\n",
    "    display(pd.crosstab(Y_test,y_pred_test))\n",
    "    CM = confusion_matrix(Y_test, y_pred_test)\n",
    "    TN = CM[0][0]\n",
    "    FN = CM[1][0]\n",
    "    TP = CM[1][1]\n",
    "    FP = CM[0][1]\n",
    "    FPR = FP/(FP+TN)\n",
    "    FNR = FN/(TP+FN)\n",
    "    fpr, tpr, threshold = roc_curve(Y_test, y_pred_test)\n",
    "    roc_auc =auc(fpr, tpr)\n",
    "    mcc=matthews_corrcoef(Y_test,y_pred_test)\n",
    "    \n",
    "    precision=precision_score(Y_test,y_pred_test)\n",
    "    recall=recall_score(Y_test,y_pred_test)\n",
    "    if tree==True:\n",
    "#         feat_impt_plot(model.feature_importances_,feat)\n",
    "        return model,acc_train,acc_test,roc_auc,model.feature_importances_,mcc,precision,recall\n",
    "    \n",
    "    return model,acc_train,acc_test,roc_auc,mcc,precision,recall, FPR, FNR"
   ]
  },
  {
   "cell_type": "markdown",
   "metadata": {},
   "source": [
    "### 1. No Sampling"
   ]
  },
  {
   "cell_type": "code",
   "execution_count": 5,
   "metadata": {},
   "outputs": [],
   "source": [
    "X_train, X_test = train_test_split(df_sel, test_size=0.3, random_state=42)\n",
    "\n",
    "Y_train = X_train['Target']\n",
    "X_train = X_train.drop(['Target'], axis=1) \n",
    "\n",
    "sc = StandardScaler()\n",
    "scaled_X_train = sc.fit_transform(X_train)\n",
    "\n",
    "Y_test = X_test['Target']\n",
    "X_test = X_test.drop(['Target'], axis=1)\n",
    "scaled_X_test = sc.transform(X_test)"
   ]
  },
  {
   "cell_type": "code",
   "execution_count": 6,
   "metadata": {},
   "outputs": [
    {
     "name": "stdout",
     "output_type": "stream",
     "text": [
      "\u001b[1mVoting Classifier\u001b[0m\n",
      "Accuracy of the model for training data is: 0.9999635409071023\n",
      "Confusion Matrix for training data is:\n"
     ]
    },
    {
     "data": {
      "text/html": [
       "<div>\n",
       "<style scoped>\n",
       "    .dataframe tbody tr th:only-of-type {\n",
       "        vertical-align: middle;\n",
       "    }\n",
       "\n",
       "    .dataframe tbody tr th {\n",
       "        vertical-align: top;\n",
       "    }\n",
       "\n",
       "    .dataframe thead th {\n",
       "        text-align: right;\n",
       "    }\n",
       "</style>\n",
       "<table border=\"1\" class=\"dataframe\">\n",
       "  <thead>\n",
       "    <tr style=\"text-align: right;\">\n",
       "      <th>col_0</th>\n",
       "      <th>0</th>\n",
       "      <th>1</th>\n",
       "    </tr>\n",
       "    <tr>\n",
       "      <th>Target</th>\n",
       "      <th></th>\n",
       "      <th></th>\n",
       "    </tr>\n",
       "  </thead>\n",
       "  <tbody>\n",
       "    <tr>\n",
       "      <th>0</th>\n",
       "      <td>24344</td>\n",
       "      <td>0</td>\n",
       "    </tr>\n",
       "    <tr>\n",
       "      <th>1</th>\n",
       "      <td>1</td>\n",
       "      <td>3083</td>\n",
       "    </tr>\n",
       "  </tbody>\n",
       "</table>\n",
       "</div>"
      ],
      "text/plain": [
       "col_0       0     1\n",
       "Target             \n",
       "0       24344     0\n",
       "1           1  3083"
      ]
     },
     "metadata": {},
     "output_type": "display_data"
    },
    {
     "name": "stdout",
     "output_type": "stream",
     "text": [
      "Accuracy of the model for test data is: 0.9823054019566142\n",
      "Confusion Matrix for test data is:\n"
     ]
    },
    {
     "data": {
      "text/html": [
       "<div>\n",
       "<style scoped>\n",
       "    .dataframe tbody tr th:only-of-type {\n",
       "        vertical-align: middle;\n",
       "    }\n",
       "\n",
       "    .dataframe tbody tr th {\n",
       "        vertical-align: top;\n",
       "    }\n",
       "\n",
       "    .dataframe thead th {\n",
       "        text-align: right;\n",
       "    }\n",
       "</style>\n",
       "<table border=\"1\" class=\"dataframe\">\n",
       "  <thead>\n",
       "    <tr style=\"text-align: right;\">\n",
       "      <th>col_0</th>\n",
       "      <th>0</th>\n",
       "      <th>1</th>\n",
       "    </tr>\n",
       "    <tr>\n",
       "      <th>Target</th>\n",
       "      <th></th>\n",
       "      <th></th>\n",
       "    </tr>\n",
       "  </thead>\n",
       "  <tbody>\n",
       "    <tr>\n",
       "      <th>0</th>\n",
       "      <td>10364</td>\n",
       "      <td>34</td>\n",
       "    </tr>\n",
       "    <tr>\n",
       "      <th>1</th>\n",
       "      <td>174</td>\n",
       "      <td>1183</td>\n",
       "    </tr>\n",
       "  </tbody>\n",
       "</table>\n",
       "</div>"
      ],
      "text/plain": [
       "col_0       0     1\n",
       "Target             \n",
       "0       10364    34\n",
       "1         174  1183"
      ]
     },
     "metadata": {},
     "output_type": "display_data"
    },
    {
     "name": "stdout",
     "output_type": "stream",
     "text": [
      "MCC :  0.910989404120097\n",
      "Precison :  0.9720624486442071\n",
      "Recall :  0.8717759764185704\n",
      "AUC :  0.9342530584150941\n",
      "FPR: 0.0032698595883823814\n",
      "FNR: 0.12822402358142962\n"
     ]
    }
   ],
   "source": [
    "rf_model = RandomForestClassifier(random_state=0)\n",
    "\n",
    "et_model = ExtraTreesClassifier(random_state=0)\n",
    "\n",
    "grad_model = GradientBoostingClassifier(random_state=0)\n",
    "\n",
    "\n",
    "base_est =[ ( 'rf' , rf_model ) , ( 'gradient' , grad_model ) , ( 'extratree' , et_model ) ]\n",
    "\n",
    "\n",
    "print('\\033[1m' + 'Voting Classifier' + '\\033[0m')\n",
    "vc_model=VotingClassifier(estimators = base_est, voting = 'hard', weights = [1,1,1] )\n",
    "vc_model.fit(scaled_X_train,Y_train)\n",
    "vc_model,acc_train,acc_test,roc_auc,mcc,precision,recall,fpr,fnr=model_build(vc_model,scaled_X_train,Y_train,scaled_X_test,Y_test,tree=False,feat=None)\n",
    "print(\"MCC : \", mcc)\n",
    "print(\"Precison : \",precision)\n",
    "print(\"Recall : \",recall)\n",
    "print(\"AUC : \" , roc_auc)\n",
    "print(\"FPR:\" ,fpr)\n",
    "print(\"FNR:\" ,fnr)"
   ]
  },
  {
   "cell_type": "markdown",
   "metadata": {},
   "source": [
    "### 2. Over-Sampling"
   ]
  },
  {
   "cell_type": "code",
   "execution_count": 7,
   "metadata": {},
   "outputs": [
    {
     "name": "stderr",
     "output_type": "stream",
     "text": [
      "/nethomes/darshan/anaconda3/lib/python3.6/site-packages/sklearn/utils/validation.py:933: FutureWarning: Passing attributes to check_is_fitted is deprecated and will be removed in 0.23. The attributes argument is ignored.\n",
      "  \"argument is ignored.\", FutureWarning)\n",
      "/nethomes/darshan/anaconda3/lib/python3.6/site-packages/sklearn/utils/deprecation.py:87: FutureWarning: Function safe_indexing is deprecated; safe_indexing is deprecated in version 0.22 and will be removed in version 0.24.\n",
      "  warnings.warn(msg, category=FutureWarning)\n"
     ]
    },
    {
     "name": "stdout",
     "output_type": "stream",
     "text": [
      "\u001b[1mVoting Classifier\u001b[0m\n",
      "Accuracy of the model for training data is: 1.0\n",
      "Confusion Matrix for training data is:\n"
     ]
    },
    {
     "data": {
      "text/html": [
       "<div>\n",
       "<style scoped>\n",
       "    .dataframe tbody tr th:only-of-type {\n",
       "        vertical-align: middle;\n",
       "    }\n",
       "\n",
       "    .dataframe tbody tr th {\n",
       "        vertical-align: top;\n",
       "    }\n",
       "\n",
       "    .dataframe thead th {\n",
       "        text-align: right;\n",
       "    }\n",
       "</style>\n",
       "<table border=\"1\" class=\"dataframe\">\n",
       "  <thead>\n",
       "    <tr style=\"text-align: right;\">\n",
       "      <th>col_0</th>\n",
       "      <th>0</th>\n",
       "      <th>1</th>\n",
       "    </tr>\n",
       "    <tr>\n",
       "      <th>row_0</th>\n",
       "      <th></th>\n",
       "      <th></th>\n",
       "    </tr>\n",
       "  </thead>\n",
       "  <tbody>\n",
       "    <tr>\n",
       "      <th>0</th>\n",
       "      <td>24344</td>\n",
       "      <td>0</td>\n",
       "    </tr>\n",
       "    <tr>\n",
       "      <th>1</th>\n",
       "      <td>0</td>\n",
       "      <td>24344</td>\n",
       "    </tr>\n",
       "  </tbody>\n",
       "</table>\n",
       "</div>"
      ],
      "text/plain": [
       "col_0      0      1\n",
       "row_0              \n",
       "0      24344      0\n",
       "1          0  24344"
      ]
     },
     "metadata": {},
     "output_type": "display_data"
    },
    {
     "name": "stdout",
     "output_type": "stream",
     "text": [
      "Accuracy of the model for test data is: 0.9821352615908124\n",
      "Confusion Matrix for test data is:\n"
     ]
    },
    {
     "data": {
      "text/html": [
       "<div>\n",
       "<style scoped>\n",
       "    .dataframe tbody tr th:only-of-type {\n",
       "        vertical-align: middle;\n",
       "    }\n",
       "\n",
       "    .dataframe tbody tr th {\n",
       "        vertical-align: top;\n",
       "    }\n",
       "\n",
       "    .dataframe thead th {\n",
       "        text-align: right;\n",
       "    }\n",
       "</style>\n",
       "<table border=\"1\" class=\"dataframe\">\n",
       "  <thead>\n",
       "    <tr style=\"text-align: right;\">\n",
       "      <th>col_0</th>\n",
       "      <th>0</th>\n",
       "      <th>1</th>\n",
       "    </tr>\n",
       "    <tr>\n",
       "      <th>Target</th>\n",
       "      <th></th>\n",
       "      <th></th>\n",
       "    </tr>\n",
       "  </thead>\n",
       "  <tbody>\n",
       "    <tr>\n",
       "      <th>0</th>\n",
       "      <td>10323</td>\n",
       "      <td>75</td>\n",
       "    </tr>\n",
       "    <tr>\n",
       "      <th>1</th>\n",
       "      <td>135</td>\n",
       "      <td>1222</td>\n",
       "    </tr>\n",
       "  </tbody>\n",
       "</table>\n",
       "</div>"
      ],
      "text/plain": [
       "col_0       0     1\n",
       "Target             \n",
       "0       10323    75\n",
       "1         135  1222"
      ]
     },
     "metadata": {},
     "output_type": "display_data"
    },
    {
     "name": "stdout",
     "output_type": "stream",
     "text": [
      "MCC :  0.9111067755251203\n",
      "Precison :  0.9421742482652274\n",
      "Recall :  0.9005158437730287\n",
      "AUC :  0.9466514591052102\n",
      "FPR: 0.007212925562608194\n",
      "FNR: 0.09948415622697127\n"
     ]
    }
   ],
   "source": [
    "sm = SMOTE(random_state=12, ratio = {1:24344})\n",
    "X_train, Y_train = sm.fit_sample(scaled_X_train,Y_train)\n",
    "rf_model = RandomForestClassifier(random_state=0)\n",
    "\n",
    "et_model = ExtraTreesClassifier(random_state=0)\n",
    "\n",
    "grad_model = GradientBoostingClassifier(random_state=0)\n",
    "\n",
    "\n",
    "base_est =[ ( 'rf' , rf_model ) , ( 'gradient' , grad_model ) , ( 'extratree' , et_model ) ]\n",
    "\n",
    "\n",
    "print('\\033[1m' + 'Voting Classifier' + '\\033[0m')\n",
    "vc_model=VotingClassifier(estimators = base_est, voting = 'soft', weights = [1,1,2] )\n",
    "vc_model.fit(X_train,Y_train)\n",
    "vc_model,acc_train,acc_test,roc_auc,mcc,precision,recall,fpr,fnr=model_build(vc_model,X_train,Y_train,scaled_X_test,Y_test,tree=False,feat=None)\n",
    "print(\"MCC : \", mcc)\n",
    "print(\"Precison : \",precision)\n",
    "print(\"Recall : \",recall)\n",
    "print(\"AUC : \" , roc_auc)\n",
    "print(\"FPR:\" ,fpr)\n",
    "print(\"FNR:\" ,fnr)"
   ]
  },
  {
   "cell_type": "markdown",
   "metadata": {},
   "source": [
    "### 3. Under-Sampling"
   ]
  },
  {
   "cell_type": "code",
   "execution_count": 8,
   "metadata": {},
   "outputs": [
    {
     "name": "stdout",
     "output_type": "stream",
     "text": [
      "\u001b[1mVoting Classifier\u001b[0m\n",
      "Accuracy of the model for training data is: 1.0\n",
      "Confusion Matrix for training data is:\n"
     ]
    },
    {
     "data": {
      "text/html": [
       "<div>\n",
       "<style scoped>\n",
       "    .dataframe tbody tr th:only-of-type {\n",
       "        vertical-align: middle;\n",
       "    }\n",
       "\n",
       "    .dataframe tbody tr th {\n",
       "        vertical-align: top;\n",
       "    }\n",
       "\n",
       "    .dataframe thead th {\n",
       "        text-align: right;\n",
       "    }\n",
       "</style>\n",
       "<table border=\"1\" class=\"dataframe\">\n",
       "  <thead>\n",
       "    <tr style=\"text-align: right;\">\n",
       "      <th>col_0</th>\n",
       "      <th>0</th>\n",
       "      <th>1</th>\n",
       "    </tr>\n",
       "    <tr>\n",
       "      <th>Target</th>\n",
       "      <th></th>\n",
       "      <th></th>\n",
       "    </tr>\n",
       "  </thead>\n",
       "  <tbody>\n",
       "    <tr>\n",
       "      <th>0</th>\n",
       "      <td>3084</td>\n",
       "      <td>0</td>\n",
       "    </tr>\n",
       "    <tr>\n",
       "      <th>1</th>\n",
       "      <td>0</td>\n",
       "      <td>3084</td>\n",
       "    </tr>\n",
       "  </tbody>\n",
       "</table>\n",
       "</div>"
      ],
      "text/plain": [
       "col_0      0     1\n",
       "Target            \n",
       "0       3084     0\n",
       "1          0  3084"
      ]
     },
     "metadata": {},
     "output_type": "display_data"
    },
    {
     "name": "stdout",
     "output_type": "stream",
     "text": [
      "Accuracy of the model for test data is: 0.9599319438536793\n",
      "Confusion Matrix for test data is:\n"
     ]
    },
    {
     "data": {
      "text/html": [
       "<div>\n",
       "<style scoped>\n",
       "    .dataframe tbody tr th:only-of-type {\n",
       "        vertical-align: middle;\n",
       "    }\n",
       "\n",
       "    .dataframe tbody tr th {\n",
       "        vertical-align: top;\n",
       "    }\n",
       "\n",
       "    .dataframe thead th {\n",
       "        text-align: right;\n",
       "    }\n",
       "</style>\n",
       "<table border=\"1\" class=\"dataframe\">\n",
       "  <thead>\n",
       "    <tr style=\"text-align: right;\">\n",
       "      <th>col_0</th>\n",
       "      <th>0</th>\n",
       "      <th>1</th>\n",
       "    </tr>\n",
       "    <tr>\n",
       "      <th>Target</th>\n",
       "      <th></th>\n",
       "      <th></th>\n",
       "    </tr>\n",
       "  </thead>\n",
       "  <tbody>\n",
       "    <tr>\n",
       "      <th>0</th>\n",
       "      <td>9991</td>\n",
       "      <td>407</td>\n",
       "    </tr>\n",
       "    <tr>\n",
       "      <th>1</th>\n",
       "      <td>64</td>\n",
       "      <td>1293</td>\n",
       "    </tr>\n",
       "  </tbody>\n",
       "</table>\n",
       "</div>"
      ],
      "text/plain": [
       "col_0      0     1\n",
       "Target            \n",
       "0       9991   407\n",
       "1         64  1293"
      ]
     },
     "metadata": {},
     "output_type": "display_data"
    },
    {
     "name": "stdout",
     "output_type": "stream",
     "text": [
      "MCC :  0.8301385452458547\n",
      "Precison :  0.7605882352941177\n",
      "Recall :  0.952837140751658\n",
      "AUC :  0.9568474990159521\n",
      "FPR: 0.039142142719753796\n",
      "FNR: 0.04716285924834193\n"
     ]
    }
   ],
   "source": [
    "X_train, X_test = train_test_split(df_sel, test_size=0.3, random_state=42)\n",
    "\n",
    "\n",
    "df_non = X_train[X_train.Target==0]\n",
    "df_mal = X_train[X_train.Target==1]\n",
    "\n",
    "df_non=df_non.sample(frac=len(df_mal)/len(df_non),random_state=0)\n",
    "df_u=df_non.append(df_mal)\n",
    "\n",
    "Y_train = df_u['Target']\n",
    "X_train = df_u.drop(['Target'], axis=1) \n",
    "\n",
    "sc = StandardScaler()\n",
    "scaled_X_train = sc.fit_transform(X_train)\n",
    "\n",
    "Y_test = X_test['Target']\n",
    "X_test = X_test.drop(['Target'], axis=1)\n",
    "scaled_X_test = sc.transform(X_test)\n",
    "\n",
    "rf_model = RandomForestClassifier(random_state=0)\n",
    "\n",
    "et_model = ExtraTreesClassifier(random_state=0)\n",
    "\n",
    "grad_model = GradientBoostingClassifier(random_state=0)\n",
    "\n",
    "\n",
    "base_est =[ ( 'rf' , rf_model ) , ( 'gradient' , grad_model ) , ( 'extratree' , et_model ) ]\n",
    "\n",
    "\n",
    "print('\\033[1m' + 'Voting Classifier' + '\\033[0m')\n",
    "vc_model=VotingClassifier(estimators = base_est, voting = 'hard', weights = [1,1,1] )\n",
    "vc_model.fit(scaled_X_train,Y_train)\n",
    "vc_model,acc_train,acc_test,roc_auc,mcc,precision,recall,fpr,fnr=model_build(vc_model,scaled_X_train,Y_train,scaled_X_test,Y_test,tree=False,feat=None)\n",
    "print(\"MCC : \", mcc)\n",
    "print(\"Precison : \",precision)\n",
    "print(\"Recall : \",recall)\n",
    "print(\"AUC : \" , roc_auc)\n",
    "print(\"FPR:\" ,fpr)\n",
    "print(\"FNR:\" ,fnr)"
   ]
  },
  {
   "cell_type": "markdown",
   "metadata": {},
   "source": [
    "### 4. Feature Transformation"
   ]
  },
  {
   "cell_type": "code",
   "execution_count": 9,
   "metadata": {},
   "outputs": [
    {
     "name": "stdout",
     "output_type": "stream",
     "text": [
      "Built 19503 features\n",
      "EntitySet scattered to workers in 4.766 seconds\n",
      "Elapsed: 01:49 | Remaining: 00:00 | Progress: 100%|██████████| Calculated: 11/11 chunks\n"
     ]
    }
   ],
   "source": [
    "df.reset_index(inplace=True)\n",
    "columns.remove('Target')\n",
    "columns.append('domain')\n",
    "df_min=df[columns]\n",
    "\n",
    "es = ft.EntitySet(id = 'malicious')\n",
    "es.entity_from_dataframe(entity_id = 'data', dataframe = df_min, index = 'domain')\n",
    "\n",
    "feature_matrix_sessions, features_defs = ft.dfs(entityset=es,target_entity=\"data\",\n",
    "                                                trans_primitives = ['add','divide','multiply'],n_jobs=-1,\n",
    "                                                verbose=1,max_depth=1)"
   ]
  },
  {
   "cell_type": "code",
   "execution_count": 14,
   "metadata": {},
   "outputs": [],
   "source": [
    "df.set_index(['domain'],drop=True,inplace=True)"
   ]
  },
  {
   "cell_type": "code",
   "execution_count": 15,
   "metadata": {},
   "outputs": [
    {
     "data": {
      "text/plain": [
       "['url_tlds / total_count',\n",
       " 'url_length / total_count',\n",
       " 'url_extensions / total_count',\n",
       " 'url_char_z / total_count',\n",
       " 'url_words_with_length_5 / total_count',\n",
       " 'url_words_with_length_4 / total_count',\n",
       " 'url_extensions + url_length',\n",
       " 'url_char_w + url_length',\n",
       " 'url_char_u / total_count',\n",
       " 'url_char_t / total_count',\n",
       " 'url_char_s / total_count',\n",
       " 'url_char_l / total_count',\n",
       " 'url_char_i / total_count',\n",
       " 'url_char_e / total_count',\n",
       " 'url_char_. / total_count',\n",
       " 'url_char_. + url_char_z',\n",
       " 'url_char_. + url_char_y',\n",
       " 'url_char_. + url_char_x',\n",
       " 'url_char_. + url_char_w',\n",
       " 'url_char_.',\n",
       " 'js_function_String.fromCharCode( + url_length',\n",
       " 'http_header_content-language_text/html / url_char_.',\n",
       " 'http_header_content-language_text/html / title_count',\n",
       " 'http_header_content-language_text/html + url_length',\n",
       " 'http_header_content-encoding_gzip + http_header_content-language_text/html',\n",
       " 'frame_src_out_of_domain + url_char_.',\n",
       " 'frame_count + url_char_.']"
      ]
     },
     "metadata": {},
     "output_type": "display_data"
    }
   ],
   "source": [
    "feature_name= ['url_tlds / total_count',\n",
    " 'url_length / total_count',\n",
    " 'url_extensions / total_count',\n",
    " 'url_char_z / total_count',\n",
    " 'url_words_with_length_5 / total_count',\n",
    " 'url_words_with_length_4 / total_count',\n",
    " 'url_extensions + url_length',\n",
    " 'url_char_w + url_length',\n",
    " 'url_char_u / total_count',\n",
    " 'url_char_t / total_count',\n",
    " 'url_char_s / total_count',\n",
    " 'url_char_l / total_count',\n",
    " 'url_char_i / total_count',\n",
    " 'url_char_e / total_count',\n",
    " 'url_char_. / total_count',\n",
    " 'url_char_. + url_char_z',\n",
    " 'url_char_. + url_char_y',\n",
    " 'url_char_. + url_char_x',\n",
    " 'url_char_. + url_char_w',\n",
    " 'url_char_.',\n",
    " 'js_function_String.fromCharCode( + url_length',\n",
    " 'http_header_content-language_text/html / url_char_.',\n",
    " 'http_header_content-language_text/html / title_count',\n",
    " 'http_header_content-language_text/html + url_length',\n",
    " 'http_header_content-encoding_gzip + http_header_content-language_text/html',\n",
    " 'frame_src_out_of_domain + url_char_.',\n",
    " 'frame_count + url_char_.']\n",
    "display(feature_name)\n",
    "feature_matrix_sessions = feature_matrix_sessions[feature_name]"
   ]
  },
  {
   "cell_type": "code",
   "execution_count": 16,
   "metadata": {},
   "outputs": [],
   "source": [
    "fs=pd.merge(feature_matrix_sessions,pd.DataFrame(df_sel.Target),left_index=True, right_index=True)\n",
    "fs.replace([np.inf],0,inplace=True)\n",
    "fs.fillna(value=0,inplace=True)\n",
    "fs=fs.reindex(df.index.values)\n",
    "X=fs.loc[:,fs.columns!='Target']\n",
    "y=fs.Target\n",
    "feature_name = X.columns.tolist()"
   ]
  },
  {
   "cell_type": "code",
   "execution_count": 17,
   "metadata": {},
   "outputs": [],
   "source": [
    "fs=fs.reindex(df_sel.index.values)\n",
    "X_train, X_test = train_test_split(fs, test_size=0.3, random_state=0)\n",
    "\n",
    "# X_train.replace([np.inf],0,inplace=True)\n",
    "# X_train.fillna(value=0,inplace=True)\n",
    "Y_train = X_train['Target']\n",
    "X_train = X_train.drop(['Target'], axis=1) \n",
    "\n",
    "sc = StandardScaler()\n",
    "scaled_X_train = sc.fit_transform(X_train)\n",
    "\n",
    "Y_test = X_test['Target']\n",
    "X_test = X_test.drop(['Target'], axis=1)\n",
    "scaled_X_test = sc.transform(X_test)"
   ]
  },
  {
   "cell_type": "code",
   "execution_count": 18,
   "metadata": {},
   "outputs": [
    {
     "name": "stdout",
     "output_type": "stream",
     "text": [
      "\u001b[1mVoting Classifier\u001b[0m\n",
      "Accuracy of the model for training data is: 0.9997812454426134\n",
      "Confusion Matrix for training data is:\n"
     ]
    },
    {
     "data": {
      "text/html": [
       "<div>\n",
       "<style scoped>\n",
       "    .dataframe tbody tr th:only-of-type {\n",
       "        vertical-align: middle;\n",
       "    }\n",
       "\n",
       "    .dataframe tbody tr th {\n",
       "        vertical-align: top;\n",
       "    }\n",
       "\n",
       "    .dataframe thead th {\n",
       "        text-align: right;\n",
       "    }\n",
       "</style>\n",
       "<table border=\"1\" class=\"dataframe\">\n",
       "  <thead>\n",
       "    <tr style=\"text-align: right;\">\n",
       "      <th>col_0</th>\n",
       "      <th>0</th>\n",
       "      <th>1</th>\n",
       "    </tr>\n",
       "    <tr>\n",
       "      <th>Target</th>\n",
       "      <th></th>\n",
       "      <th></th>\n",
       "    </tr>\n",
       "  </thead>\n",
       "  <tbody>\n",
       "    <tr>\n",
       "      <th>0</th>\n",
       "      <td>24325</td>\n",
       "      <td>0</td>\n",
       "    </tr>\n",
       "    <tr>\n",
       "      <th>1</th>\n",
       "      <td>6</td>\n",
       "      <td>3097</td>\n",
       "    </tr>\n",
       "  </tbody>\n",
       "</table>\n",
       "</div>"
      ],
      "text/plain": [
       "col_0       0     1\n",
       "Target             \n",
       "0       24325     0\n",
       "1           6  3097"
      ]
     },
     "metadata": {},
     "output_type": "display_data"
    },
    {
     "name": "stdout",
     "output_type": "stream",
     "text": [
      "Accuracy of the model for test data is: 0.9785623139089749\n",
      "Confusion Matrix for test data is:\n"
     ]
    },
    {
     "data": {
      "text/html": [
       "<div>\n",
       "<style scoped>\n",
       "    .dataframe tbody tr th:only-of-type {\n",
       "        vertical-align: middle;\n",
       "    }\n",
       "\n",
       "    .dataframe tbody tr th {\n",
       "        vertical-align: top;\n",
       "    }\n",
       "\n",
       "    .dataframe thead th {\n",
       "        text-align: right;\n",
       "    }\n",
       "</style>\n",
       "<table border=\"1\" class=\"dataframe\">\n",
       "  <thead>\n",
       "    <tr style=\"text-align: right;\">\n",
       "      <th>col_0</th>\n",
       "      <th>0</th>\n",
       "      <th>1</th>\n",
       "    </tr>\n",
       "    <tr>\n",
       "      <th>Target</th>\n",
       "      <th></th>\n",
       "      <th></th>\n",
       "    </tr>\n",
       "  </thead>\n",
       "  <tbody>\n",
       "    <tr>\n",
       "      <th>0</th>\n",
       "      <td>10369</td>\n",
       "      <td>48</td>\n",
       "    </tr>\n",
       "    <tr>\n",
       "      <th>1</th>\n",
       "      <td>204</td>\n",
       "      <td>1134</td>\n",
       "    </tr>\n",
       "  </tbody>\n",
       "</table>\n",
       "</div>"
      ],
      "text/plain": [
       "col_0       0     1\n",
       "Target             \n",
       "0       10369    48\n",
       "1         204  1134"
      ]
     },
     "metadata": {},
     "output_type": "display_data"
    },
    {
     "name": "stdout",
     "output_type": "stream",
     "text": [
      "MCC :  0.8901862273915041\n",
      "Precison :  0.9593908629441624\n",
      "Recall :  0.8475336322869955\n",
      "AUC :  0.9214628898691386\n",
      "FPR: 0.004607852548718441\n",
      "FNR: 0.15246636771300448\n"
     ]
    }
   ],
   "source": [
    "rf_model = RandomForestClassifier(random_state=0)\n",
    "\n",
    "et_model = ExtraTreesClassifier(random_state=0)\n",
    "\n",
    "grad_model = GradientBoostingClassifier(random_state=0)\n",
    "\n",
    "\n",
    "base_est =[ ( 'rf' , rf_model ) , ( 'gradient' , grad_model ) , ( 'extratree' , et_model ) ]\n",
    "\n",
    "\n",
    "print('\\033[1m' + 'Voting Classifier' + '\\033[0m')\n",
    "vc_model=VotingClassifier(estimators = base_est, voting = 'hard', weights = [1,1,1] )\n",
    "vc_model.fit(scaled_X_train,Y_train)\n",
    "vc_model,acc_train,acc_test,roc_auc,mcc,precision,recall,fpr,fnr=model_build(vc_model,scaled_X_train,Y_train,scaled_X_test,Y_test,tree=False,feat=None)\n",
    "print(\"MCC : \", mcc)\n",
    "print(\"Precison : \",precision)\n",
    "print(\"Recall : \",recall)\n",
    "print(\"AUC : \" , roc_auc)\n",
    "print(\"FPR:\" ,fpr)\n",
    "print(\"FNR:\" ,fnr)"
   ]
  },
  {
   "cell_type": "markdown",
   "metadata": {},
   "source": [
    "### 5. PCA"
   ]
  },
  {
   "cell_type": "code",
   "execution_count": 19,
   "metadata": {},
   "outputs": [
    {
     "name": "stdout",
     "output_type": "stream",
     "text": [
      "Built 19503 features\n",
      "EntitySet scattered to workers in 4.768 seconds\n",
      "Elapsed: 01:47 | Remaining: 00:00 | Progress: 100%|██████████| Calculated: 11/11 chunks\n"
     ]
    }
   ],
   "source": [
    "df.reset_index(inplace=True)\n",
    "# columns.remove('Target')\n",
    "# columns.append('domain')\n",
    "df_min=df[columns]\n",
    "\n",
    "es = ft.EntitySet(id = 'malicious')\n",
    "es.entity_from_dataframe(entity_id = 'data', dataframe = df_min, index = 'domain')\n",
    "\n",
    "feature_matrix_sessions, features_defs = ft.dfs(entityset=es,target_entity=\"data\",\n",
    "                                                trans_primitives = ['add','divide','multiply'],n_jobs=-1,\n",
    "                                                verbose=1,max_depth=1)\n",
    "\n",
    "df.set_index(['domain'],drop=True,inplace=True)\n",
    "fs=pd.merge(feature_matrix_sessions,pd.DataFrame(df_sel.Target),left_index=True, right_index=True)\n",
    "fs.replace([np.inf],0,inplace=True)\n",
    "fs.fillna(value=0,inplace=True)\n",
    "fs=fs.reindex(df.index.values)"
   ]
  },
  {
   "cell_type": "code",
   "execution_count": 20,
   "metadata": {},
   "outputs": [],
   "source": [
    "X_train, X_test = train_test_split(fs, test_size=0.3, random_state=0)\n",
    "X=X_train.drop(['Target'] , axis=1)\n",
    "y=X_train.Target.values\n",
    "feature_name = X.columns.tolist()\n",
    "X=np.nan_to_num(X)\n",
    "scaler=StandardScaler() \n",
    "scaled_X=scaler.fit_transform(X)"
   ]
  },
  {
   "cell_type": "code",
   "execution_count": 21,
   "metadata": {},
   "outputs": [
    {
     "name": "stdout",
     "output_type": "stream",
     "text": [
      "Variance explained using 750 components is: 0.8142755676566173\n"
     ]
    }
   ],
   "source": [
    "pca=PCA(n_components=750,whiten=True,random_state=0)\n",
    "X_pca_21=pca.fit_transform(scaled_X)\n",
    "print(\"Variance explained using 750 components is:\",sum(pca.explained_variance_ratio_))\n",
    "y_test = X_test['Target']\n",
    "X_test = X_test.drop(['Target'], axis=1)\n",
    "X_test_pca = pca.transform(X_test)"
   ]
  },
  {
   "cell_type": "code",
   "execution_count": 22,
   "metadata": {},
   "outputs": [
    {
     "name": "stdout",
     "output_type": "stream",
     "text": [
      "\u001b[1mVoting Classifier\u001b[0m\n",
      "Accuracy of the model for training data is: 1.0\n",
      "Confusion Matrix for training data is:\n"
     ]
    },
    {
     "data": {
      "text/html": [
       "<div>\n",
       "<style scoped>\n",
       "    .dataframe tbody tr th:only-of-type {\n",
       "        vertical-align: middle;\n",
       "    }\n",
       "\n",
       "    .dataframe tbody tr th {\n",
       "        vertical-align: top;\n",
       "    }\n",
       "\n",
       "    .dataframe thead th {\n",
       "        text-align: right;\n",
       "    }\n",
       "</style>\n",
       "<table border=\"1\" class=\"dataframe\">\n",
       "  <thead>\n",
       "    <tr style=\"text-align: right;\">\n",
       "      <th>col_0</th>\n",
       "      <th>0</th>\n",
       "      <th>1</th>\n",
       "    </tr>\n",
       "    <tr>\n",
       "      <th>row_0</th>\n",
       "      <th></th>\n",
       "      <th></th>\n",
       "    </tr>\n",
       "  </thead>\n",
       "  <tbody>\n",
       "    <tr>\n",
       "      <th>0</th>\n",
       "      <td>24325</td>\n",
       "      <td>0</td>\n",
       "    </tr>\n",
       "    <tr>\n",
       "      <th>1</th>\n",
       "      <td>0</td>\n",
       "      <td>3103</td>\n",
       "    </tr>\n",
       "  </tbody>\n",
       "</table>\n",
       "</div>"
      ],
      "text/plain": [
       "col_0      0     1\n",
       "row_0             \n",
       "0      24325     0\n",
       "1          0  3103"
      ]
     },
     "metadata": {},
     "output_type": "display_data"
    },
    {
     "name": "stdout",
     "output_type": "stream",
     "text": [
      "Accuracy of the model for test data is: 0.5482773287962569\n",
      "Confusion Matrix for test data is:\n"
     ]
    },
    {
     "data": {
      "text/html": [
       "<div>\n",
       "<style scoped>\n",
       "    .dataframe tbody tr th:only-of-type {\n",
       "        vertical-align: middle;\n",
       "    }\n",
       "\n",
       "    .dataframe tbody tr th {\n",
       "        vertical-align: top;\n",
       "    }\n",
       "\n",
       "    .dataframe thead th {\n",
       "        text-align: right;\n",
       "    }\n",
       "</style>\n",
       "<table border=\"1\" class=\"dataframe\">\n",
       "  <thead>\n",
       "    <tr style=\"text-align: right;\">\n",
       "      <th>col_0</th>\n",
       "      <th>0</th>\n",
       "      <th>1</th>\n",
       "    </tr>\n",
       "    <tr>\n",
       "      <th>Target</th>\n",
       "      <th></th>\n",
       "      <th></th>\n",
       "    </tr>\n",
       "  </thead>\n",
       "  <tbody>\n",
       "    <tr>\n",
       "      <th>0</th>\n",
       "      <td>6286</td>\n",
       "      <td>4131</td>\n",
       "    </tr>\n",
       "    <tr>\n",
       "      <th>1</th>\n",
       "      <td>1179</td>\n",
       "      <td>159</td>\n",
       "    </tr>\n",
       "  </tbody>\n",
       "</table>\n",
       "</div>"
      ],
      "text/plain": [
       "col_0      0     1\n",
       "Target            \n",
       "0       6286  4131\n",
       "1       1179   159"
      ]
     },
     "metadata": {},
     "output_type": "display_data"
    },
    {
     "name": "stdout",
     "output_type": "stream",
     "text": [
      "MCC :  -0.18322191820810466\n",
      "Precison :  0.03706293706293706\n",
      "Recall :  0.11883408071748879\n",
      "AUC :  0.361135385371704\n",
      "FPR: 0.39656330997408085\n",
      "FNR: 0.8811659192825112\n"
     ]
    }
   ],
   "source": [
    "rf_model = RandomForestClassifier(random_state=0)\n",
    "\n",
    "et_model = ExtraTreesClassifier(random_state=0)\n",
    "\n",
    "grad_model = GradientBoostingClassifier(random_state=0)\n",
    "\n",
    "\n",
    "base_est =[ ( 'rf' , rf_model ) , ( 'gradient' , grad_model ) , ( 'extratree' , et_model ) ]\n",
    "\n",
    "\n",
    "print('\\033[1m' + 'Voting Classifier' + '\\033[0m')\n",
    "vc_model=VotingClassifier(estimators = base_est, voting = 'soft', weights = [1,1,1] )\n",
    "vc_model.fit(X_pca_21,y)\n",
    "vc_model,acc_train,acc_test,roc_auc,mcc,precision,recall,fpr,fnr=model_build(vc_model,X_pca_21,y,X_test_pca,y_test,tree=False,feat=None)\n",
    "print(\"MCC : \", mcc)\n",
    "print(\"Precison : \",precision)\n",
    "print(\"Recall : \",recall)\n",
    "print(\"AUC : \" , roc_auc)\n",
    "print(\"FPR:\" ,fpr)\n",
    "print(\"FNR:\" ,fnr)"
   ]
  },
  {
   "cell_type": "code",
   "execution_count": 23,
   "metadata": {},
   "outputs": [
    {
     "data": {
      "text/html": [
       "<script>\n",
       "code_show=true; \n",
       "function code_toggle() {\n",
       " if (code_show){\n",
       " $('div.input').hide();\n",
       " } else {\n",
       " $('div.input').show();\n",
       " }\n",
       " code_show = !code_show\n",
       "} \n",
       "$( document ).ready(code_toggle);\n",
       "</script>\n",
       "To toggle code, click <a href=\"javascript:code_toggle()\">here</a>."
      ],
      "text/plain": [
       "<IPython.core.display.HTML object>"
      ]
     },
     "execution_count": 23,
     "metadata": {},
     "output_type": "execute_result"
    }
   ],
   "source": [
    "### Darshan Bhansali\n",
    "### HTML code to hide the input cells \n",
    "HTML('''<script>\n",
    "code_show=true; \n",
    "function code_toggle() {\n",
    " if (code_show){\n",
    " $('div.input').hide();\n",
    " } else {\n",
    " $('div.input').show();\n",
    " }\n",
    " code_show = !code_show\n",
    "} \n",
    "$( document ).ready(code_toggle);\n",
    "</script>\n",
    "To toggle code, click <a href=\"javascript:code_toggle()\">here</a>.''')"
   ]
  }
 ],
 "metadata": {
  "kernelspec": {
   "display_name": "Python 3",
   "language": "python",
   "name": "python3"
  },
  "language_info": {
   "codemirror_mode": {
    "name": "ipython",
    "version": 3
   },
   "file_extension": ".py",
   "mimetype": "text/x-python",
   "name": "python",
   "nbconvert_exporter": "python",
   "pygments_lexer": "ipython3",
   "version": "3.6.7"
  }
 },
 "nbformat": 4,
 "nbformat_minor": 2
}
