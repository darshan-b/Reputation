{
 "cells": [
  {
   "cell_type": "markdown",
   "metadata": {},
   "source": [
    "***\n",
    "## Table of Contents\n",
    "<br>\n",
    "  <br>\n",
    "    <ol>\n",
    "        <h2><a href='#1' style=\"text-decoration : none; color : #000000;\">1. Initial Models</a></h2>\n",
    "        <ul>\n",
    "            <a href='#1.A' style=\"text-decoration : none; color : #000000;\"><h3>A. Results </h3></a>\n",
    "        </ul>\n",
    "        <ul>\n",
    "            <a href='#1.B' style=\"text-decoration : none; color : #000000;\"><h3>B. Average Feature Importance   </h3></a>\n",
    "        </ul>\n",
    "     </ol>\n",
    "     <br> \n",
    "\n",
    "<ol>\n",
    "        <h2><a href='#2' style=\"text-decoration : none; color : #000000;\">2. Oversampling </a></h2>\n",
    "        <ul>\n",
    "            <a href='#2.A' style=\"text-decoration : none; color : #000000;\"><h3>A. Results </h3></a>\n",
    "        </ul>\n",
    "        <ul>\n",
    "            <a href='#2.B' style=\"text-decoration : none; color : #000000;\"><h3>B. Average Feature Importance   </h3></a>\n",
    "        </ul>\n",
    "     </ol>\n",
    "     <br>\n",
    "     \n",
    " <ol>\n",
    "        <h2><a href='#3' style=\"text-decoration : none; color : #000000;\">3. Undersampling</a></h2>\n",
    "        <ul>\n",
    "            <a href='#3.A' style=\"text-decoration : none; color : #000000;\"><h3>A. Results </h3></a>\n",
    "        </ul>\n",
    "        <ul>\n",
    "            <a href='#3.B' style=\"text-decoration : none; color : #000000;\"><h3>B. Average Feature Importance   </h3></a>\n",
    "        </ul>\n",
    "     </ol>\n",
    "     <br>\n",
    "     \n",
    " <ol>\n",
    "        <h2><a href='#4' style=\"text-decoration : none; color : #000000;\">4.Feature Transformation with feature selection</a></h2>\n",
    "        <ul>\n",
    "            <a href='#4.A' style=\"text-decoration : none; color : #000000;\"><h3>A. Results </h3></a>\n",
    "        </ul>\n",
    "        <ul>\n",
    "            <a href='#4.B' style=\"text-decoration : none; color : #000000;\"><h3>B. Average Feature Importance   </h3></a>\n",
    "        </ul>\n",
    "     </ol>\n",
    "     <br>\n",
    "     \n",
    "     \n",
    " <ol>\n",
    "        <h2><a href='#5' style=\"text-decoration : none; color : #000000;\">5.Feature Transformation with PCA</a></h2>\n",
    "        <ul>\n",
    "            <a href='#5.A' style=\"text-decoration : none; color : #000000;\"><h3>A. Results </h3></a>\n",
    "        </ul>\n",
    "     </ol>\n",
    "     <br>"
   ]
  },
  {
   "cell_type": "code",
   "execution_count": 2,
   "metadata": {},
   "outputs": [
    {
     "data": {
      "text/html": [
       "<script type=\"text/javascript\">window.PlotlyConfig = {MathJaxConfig: 'local'};</script><script type=\"text/javascript\">if (window.MathJax) {MathJax.Hub.Config({SVG: {font: \"STIX-Web\"}});}</script><script>requirejs.config({paths: { 'plotly': ['https://cdn.plot.ly/plotly-latest.min']},});if(!window._Plotly) {require(['plotly'],function(plotly) {window._Plotly=plotly;});}</script>"
      ],
      "text/vnd.plotly.v1+html": [
       "<script type=\"text/javascript\">window.PlotlyConfig = {MathJaxConfig: 'local'};</script><script type=\"text/javascript\">if (window.MathJax) {MathJax.Hub.Config({SVG: {font: \"STIX-Web\"}});}</script><script>requirejs.config({paths: { 'plotly': ['https://cdn.plot.ly/plotly-latest.min']},});if(!window._Plotly) {require(['plotly'],function(plotly) {window._Plotly=plotly;});}</script>"
      ]
     },
     "metadata": {},
     "output_type": "display_data"
    }
   ],
   "source": [
    "import pandas as pd\n",
    "import numpy as np\n",
    "import copy\n",
    "import matplotlib.pyplot as plt\n",
    "import seaborn as sns\n",
    "%matplotlib inline\n",
    "\n",
    "from IPython.display import display,clear_output,HTML\n",
    "import warnings\n",
    "warnings.filterwarnings(\"ignore\")\n",
    "\n",
    "import keras\n",
    "from keras.layers import Dense,Dropout\n",
    "from keras.models import Sequential\n",
    "warnings.simplefilter(\"ignore\", DeprecationWarning)\n",
    "import researchpy as rp\n",
    "\n",
    "%matplotlib inline\n",
    "pd.set_option('display.max_columns', 500)\n",
    "pd.set_option('display.max_rows',305)\n",
    "\n",
    "from sklearn.feature_selection import SelectKBest,chi2,RFE,RFECV,f_regression,SelectFromModel\n",
    "from sklearn.linear_model import LogisticRegression\n",
    "from sklearn.ensemble import ExtraTreesClassifier,RandomForestClassifier,GradientBoostingClassifier,AdaBoostClassifier,BaggingClassifier\n",
    "from sklearn.neighbors import KNeighborsClassifier\n",
    "from sklearn.model_selection import train_test_split,cross_val_score\n",
    "\n",
    "from sklearn.preprocessing import StandardScaler,MinMaxScaler\n",
    "from sklearn import metrics\n",
    "\n",
    "\n",
    "\n",
    "from sklearn.decomposition import PCA\n",
    "from sklearn.metrics import accuracy_score,auc,roc_curve,recall_score,precision_score,matthews_corrcoef\n",
    "\n",
    "from pandas_ml import ConfusionMatrix\n",
    "\n",
    "\n",
    "from imblearn.over_sampling import SMOTE\n",
    "\n",
    "from plotly.offline import download_plotlyjs, init_notebook_mode, plot, iplot\n",
    "init_notebook_mode(connected=True)\n",
    "import plotly.graph_objs as go\n",
    "\n",
    "import featuretools as ft\n",
    "\n",
    "from scipy import stats\n",
    "import re"
   ]
  },
  {
   "cell_type": "code",
   "execution_count": 3,
   "metadata": {},
   "outputs": [],
   "source": [
    "### Function to plot Feature Importance\n",
    "def feat_impt_plot(feat_impt,y_labels,width_s=1000,height_s=1000):\n",
    "    \n",
    "    m=pd.DataFrame(y_labels,feat_impt).reset_index()\n",
    "    m.columns=['Feature_Importance','Features']\n",
    "    m.sort_values(by='Feature_Importance',inplace=True,ascending=False)\n",
    "    m['Features']=m['Features'].str.replace(\"dom_function_\",\"\")\n",
    "    m['Features']=m['Features'].str.replace(\"js_function_\",\"\")\n",
    "    m['Features']=m['Features'].apply(lambda x: str(x).lstrip('.'))\n",
    "    m['Features']=m['Features'].str.replace(\"(\",\"\")\n",
    "    \n",
    "    data = [go.Bar(x=m.Feature_Importance.values,y=m.Features.values,text=np.round(m.Feature_Importance,4),\n",
    "            textposition = 'outside',\n",
    "            marker=dict(\n",
    "                color='rgb(158,202,225)',\n",
    "                line=dict(\n",
    "                    color='rgb(8,48,107)',\n",
    "                    width=1.5),\n",
    "            ),\n",
    "            opacity=0.6,\n",
    "            orientation='h'\n",
    "        )]\n",
    "    layout = go.Layout(autosize=False,\n",
    "    width=width_s,\n",
    "    height=height_s,\n",
    "    xaxis=dict(title='Feature Importances',\n",
    "        tickfont=dict(\n",
    "            size=12,\n",
    "            color='black'\n",
    "        )),\n",
    "    yaxis=dict(automargin=True))\n",
    "    fig = go.Figure(data=data, layout=layout)\n",
    "    iplot(fig)"
   ]
  },
  {
   "cell_type": "code",
   "execution_count": 4,
   "metadata": {},
   "outputs": [],
   "source": [
    "def uni_value(data):\n",
    "    lst=[]\n",
    "    for col in data.columns[:]:\n",
    "        lst.append([col,dict(data[col].value_counts()),data[col].value_counts().values[0]>=len(data)*0.95])\n",
    "    col_values=pd.DataFrame(lst,columns=['Feature','Value_Counts','95_%_same_values'])\n",
    "    col_values.set_index('Feature',drop=True,inplace=True)\n",
    "    del lst\n",
    "    return col_values\n",
    "\n",
    "    \n",
    "def check_cat(data):\n",
    "    cat_var=[]\n",
    "    num_var=[]\n",
    "    for col in data.columns:\n",
    "        if col!='Target':\n",
    "            if len(data[col].value_counts())==2:\n",
    "                cat_var.append(col)\n",
    "            else:\n",
    "                num_var.append(col)\n",
    "    return cat_var,num_var\n",
    "\n",
    "\n",
    "def num_stats(data,columns):\n",
    "    lst=[]\n",
    "    c=0\n",
    "    for col in columns:\n",
    "        corr=stats.pointbiserialr(data[col],data.Target)[0]\n",
    "        corr_p=stats.pointbiserialr(data[col],data.Target)[1]\n",
    "        ttest=stats.ttest_ind(data[data.Target==1][col], data[data.Target==0][col], equal_var=False)[0]\n",
    "        ttest_p=stats.ttest_ind(data[data.Target==1][col], data[data.Target==0][col], equal_var=False)[1]\n",
    "        lst.append((corr,corr_p,ttest,ttest_p,col))\n",
    "    stats_data=pd.DataFrame(lst,columns=['Pt. Biserial Corr','Pt. Biserial Corr p-val','ttest','ttest p-val','Feature'])\n",
    "    stats_data.set_index('Feature',drop=True,inplace=True)\n",
    "    stats_data.sort_values(by='ttest',inplace=True)\n",
    "    del lst\n",
    "    return stats_data\n",
    "\n",
    "\n",
    "### Generate statistics for categorical data\n",
    "def cat_stats(data,columns):\n",
    "    lst=[]\n",
    "    c=0\n",
    "    for col in columns:\n",
    "        if col!='Target':\n",
    "            table, results = rp.crosstab(data['Target'], data[col], prop= 'col', test= 'chi-square')\n",
    "            x=results['results'].values.tolist()\n",
    "            x.append(col)\n",
    "            lst.append(x)\n",
    "    chi_df=pd.DataFrame(lst,columns=['Pearson Chi-square','p-value','Cramers V','Feature'])\n",
    "    chi_df.set_index('Feature',drop=True,inplace=True)\n",
    "    chi_df.sort_values(by='Cramers V',ascending=False,inplace=True)\n",
    "    del lst\n",
    "    return chi_df\n",
    "\n",
    "def remove_feat(data):\n",
    "    col_no_unique=[]\n",
    "    for col in data.columns[:]:\n",
    "        if len(data[col].value_counts())<=1:\n",
    "#             print(col)\n",
    "            col_no_unique.append(col)\n",
    "    return col_no_unique\n",
    "\n",
    "### Generate plot for class balance for categorical nature\n",
    "def class_bal(data,title=''):\n",
    "    d = [go.Bar(x=data.Target.value_counts().index.values,\n",
    "               y=data.Target.value_counts().values,\n",
    "               text=data.Target.value_counts().values,\n",
    "               textposition = 'outside',\n",
    "            )]\n",
    "    layout = go.Layout(title=title,xaxis=dict(title='Domain Type',tickfont=dict(size=12,color='black')),\n",
    "                    yaxis=dict(title='Number of Instances'))\n",
    "    fig = go.Figure(data=d, layout=layout)\n",
    "    iplot(fig)"
   ]
  },
  {
   "cell_type": "code",
   "execution_count": 5,
   "metadata": {},
   "outputs": [],
   "source": [
    "def model_build(model,X_train,Y_train,X_test,Y_test,tree=False,feat=None):\n",
    "    \n",
    "    y_pred_train=model.predict(X_train)\n",
    "    acc_train=accuracy_score(Y_train,y_pred_train)\n",
    "    \n",
    "    print(\"Accuracy of the model for training data is:\",acc_train)\n",
    "    print(\"Confusion Matrix for training data is:\")\n",
    "    cm_train=ConfusionMatrix(Y_train,y_pred_train)\n",
    "    display(cm_train)\n",
    "    \n",
    "    \n",
    "    y_pred_test=model.predict(X_test)\n",
    "    acc_test=accuracy_score(Y_test,y_pred_test)\n",
    "    print(\"Accuracy of the model for test data is:\",acc_test)\n",
    "    print(\"Confusion Matrix for test data is:\")\n",
    "    cm_test=ConfusionMatrix(Y_test,y_pred_test)\n",
    "    display(cm_test)\n",
    "\n",
    "    fpr, tpr, threshold = roc_curve(Y_test, y_pred_test)\n",
    "    roc_auc =auc(fpr, tpr)\n",
    "    mcc=matthews_corrcoef(Y_test,y_pred_test)\n",
    "    if tree==True:\n",
    "        feat_impt_plot(model.feature_importances_,feat)\n",
    "        return model,cm_train,cm_test,acc_train,acc_test,roc_auc,model.feature_importances_,mcc\n",
    "    \n",
    "    return model,cm_train,cm_test,acc_train,acc_test,roc_auc,mcc\n",
    "\n",
    "def KNN_model(X_train,Y_train,X_test,Y_test):\n",
    "    print('\\033[1m' + 'K-Nearest Neighbors' + '\\033[0m')\n",
    "    knn=KNeighborsClassifier()\n",
    "    knn.fit(X_train,Y_train)\n",
    "\n",
    "    return model_build(knn,X_train,Y_train,X_test,Y_test)\n",
    "\n",
    "def Logistic_model(X_train,Y_train,X_test,Y_test):\n",
    "    print('\\033[1m' + 'Logistic Regression' + '\\033[0m')\n",
    "    log=LogisticRegression(random_state=0)\n",
    "    log.fit(X_train,Y_train)\n",
    "    \n",
    "    return model_build(log,X_train,Y_train,X_test,Y_test)\n",
    "\n",
    "def RandomForest(X_train,Y_train,X_test,Y_test,feat):\n",
    "    print('\\033[1m' + 'RandomForest Classifier' + '\\033[0m')\n",
    "    rf=RandomForestClassifier(random_state=0)\n",
    "    rf.fit(X_train,Y_train)\n",
    "\n",
    "    \n",
    "    return model_build(rf,X_train,Y_train,X_test,Y_test,True,feat)\n",
    "\n",
    "def AdaBoost(X_train,Y_train,X_test,Y_test,feat):\n",
    "    print('\\033[1m' + 'Adaoost Classifier' + '\\033[0m')\n",
    "    ada=AdaBoostClassifier(random_state=0)\n",
    "    ada.fit(X_train,Y_train)\n",
    "    \n",
    "    return model_build(ada,X_train,Y_train,X_test,Y_test,True,feat)\n",
    "\n",
    "def GradientBoosting(X_train,Y_train,X_test,Y_test,feat):\n",
    "    print('\\033[1m' + 'GradientBoosting Classifier' + '\\033[0m')\n",
    "    gbc=GradientBoostingClassifier(random_state=0)\n",
    "    gbc.fit(X_train,Y_train)\n",
    "    \n",
    "    return model_build(gbc,X_train,Y_train,X_test,Y_test,True,feat)\n",
    "\n",
    "def ExtraTree(X_train,Y_train,X_test,Y_test,feat):\n",
    "    print('\\033[1m' + 'ExtraTree Classifier' + '\\033[0m')\n",
    "    ext_tree=ExtraTreesClassifier(random_state=0)\n",
    "    ext_tree.fit(X_train,Y_train)\n",
    "    \n",
    "    return model_build(ext_tree,X_train,Y_train,X_test,Y_test,True,feat)\n",
    "\n",
    "def Bagging(X_train,Y_train,X_test,Y_test):\n",
    "    print('\\033[1m' + 'Bagging Classifier' + '\\033[0m')\n",
    "    bagging=BaggingClassifier(random_state=0)\n",
    "    bagging.fit(X_train,Y_train)\n",
    "    \n",
    "    return model_build(bagging,X_train,Y_train,X_test,Y_test)\n",
    "\n",
    "def DeepLearning1(X_train,Y_train,X_test,Y_test):\n",
    "    print('\\033[1m' + 'Neural Network-1' + '\\033[0m')\n",
    "    np.random.seed(0)\n",
    "    deep_learning=Sequential()\n",
    "    deep_learning.add(Dense(units=64,activation='relu',use_bias=True,kernel_initializer='uniform',input_dim=X_train.shape[1]))\n",
    "    deep_learning.add(Dense(units=128,activation='relu',use_bias=True,kernel_initializer='uniform'))\n",
    "    deep_learning.add(Dense(units=1,activation='sigmoid',use_bias=True,kernel_initializer='uniform'))\n",
    "    deep_learning.compile(optimizer='adam',loss='binary_crossentropy',metrics=['accuracy'])\n",
    "    deep_learning.fit(X_train,Y_train,batch_size=20,epochs=80,verbose=False)\n",
    "    acc_train=deep_learning.evaluate(X_train,Y_train,verbose=False)[1]\n",
    "    print(\"The accuracy of the model on training data is:\",acc_train)\n",
    "    cm_train=ConfusionMatrix(Y_train,deep_learning.predict_classes(X_train,batch_size=1,verbose=False).reshape(1,len(X_train))[0])\n",
    "    cm_test=ConfusionMatrix(Y_test,deep_learning.predict_classes(X_test,batch_size=1,verbose=False).reshape(1,len(X_test))[0])\n",
    "    display(cm_train)\n",
    "    acc_test=accuracy_score(Y_test,deep_learning.predict_classes(X_test,batch_size=1,verbose=False))\n",
    "    print(\"The accuracy of the model on test data is:\",acc_test)\n",
    "    display(cm_test)\n",
    "    mcc=matthews_corrcoef(Y_test,deep_learning.predict_classes(X_test,batch_size=1,verbose=False))\n",
    "    fpr, tpr, threshold = roc_curve(Y_test, deep_learning.predict_classes(X_test,batch_size=1,verbose=False))\n",
    "    roc_auc =auc(fpr, tpr)\n",
    "    return  deep_learning,cm_train,cm_test,acc_train,acc_test,roc_auc,mcc"
   ]
  },
  {
   "cell_type": "code",
   "execution_count": 6,
   "metadata": {},
   "outputs": [
    {
     "name": "stdout",
     "output_type": "stream",
     "text": [
      "Shape of our dataset: (46771, 4195)\n"
     ]
    }
   ],
   "source": [
    "df=pd.read_csv('URL.csv')\n",
    "\n",
    "df.drop(['Unnamed: 0'],axis=1,inplace=True)\n",
    "\n",
    "df.fillna(value=0,inplace=True)\n",
    "\n",
    "cookies=[columns for columns in df.columns if 'number' in columns]\n",
    "\n",
    "df.drop(cookies,axis=1,inplace=True)\n",
    "df=df[df['domain']!=0]\n",
    "df.sort_values(by='Target',inplace=True,ascending=False)\n",
    "\n",
    "df.drop_duplicates(['domain'], keep='first',inplace=True)\n",
    "\n",
    "df=df.sample(frac=1,random_state=0)\n",
    "print(\"Shape of our dataset:\",df.shape)"
   ]
  },
  {
   "cell_type": "code",
   "execution_count": 7,
   "metadata": {},
   "outputs": [],
   "source": [
    "df['url_number_vowels'] = df['domain'].str.lower().str.count(r'[aeiou]')\n",
    "df['url_number_consonants'] = df['domain'].str.count(r'[bcdfghjklmnpqrstvwxzy]', flags=re.I)\n",
    "df['url_number_digits'] = df['domain'].str.count(r'\\d')\n",
    "df['url_number_special_chars']=df['url_length']-df[['url_number_vowels','url_number_consonants','url_number_digits']].sum(axis=1)"
   ]
  },
  {
   "cell_type": "code",
   "execution_count": 8,
   "metadata": {},
   "outputs": [],
   "source": [
    "df['url_port']=df['url_port'].apply(lambda x: 0 if x==0 else 1 )"
   ]
  },
  {
   "cell_type": "code",
   "execution_count": 9,
   "metadata": {},
   "outputs": [],
   "source": [
    "# characters='abcdefghijklmnopqrstuvwxyz0123456789'\n",
    "# for char in characters:\n",
    "#     field=char+\"_average\"\n",
    "#     df[field]=df['domain'].apply(lambda x: str.count(x, char))\n",
    "#     df[field]=df[field]/df['url_length']"
   ]
  },
  {
   "cell_type": "code",
   "execution_count": 10,
   "metadata": {},
   "outputs": [],
   "source": [
    "df.set_index(['domain'],inplace=True,drop=True)"
   ]
  },
  {
   "cell_type": "code",
   "execution_count": 11,
   "metadata": {},
   "outputs": [
    {
     "data": {
      "application/vnd.plotly.v1+json": {
       "config": {
        "linkText": "Export to plot.ly",
        "plotlyServerURL": "https://plot.ly",
        "showLink": true
       },
       "data": [
        {
         "text": [
          39877,
          6894
         ],
         "textposition": "outside",
         "type": "bar",
         "uid": "ac56c1d9-72a5-46c1-b5b1-9bb7a41223e1",
         "x": [
          0,
          1
         ],
         "y": [
          39877,
          6894
         ]
        }
       ],
       "layout": {
        "xaxis": {
         "tickfont": {
          "color": "black",
          "size": 12
         },
         "title": "Domain Type"
        },
        "yaxis": {
         "title": "Number of Instances"
        }
       }
      },
      "text/html": [
       "<div id=\"a02f04f7-e659-4707-8f15-7029562a0ce2\" style=\"height: 525px; width: 100%;\" class=\"plotly-graph-div\"></div><script type=\"text/javascript\">require([\"plotly\"], function(Plotly) { window.PLOTLYENV=window.PLOTLYENV || {};window.PLOTLYENV.BASE_URL=\"https://plot.ly\";Plotly.newPlot(\"a02f04f7-e659-4707-8f15-7029562a0ce2\", [{\"text\": [39877.0, 6894.0], \"textposition\": \"outside\", \"x\": [0, 1], \"y\": [39877, 6894], \"type\": \"bar\", \"uid\": \"ac56c1d9-72a5-46c1-b5b1-9bb7a41223e1\"}], {\"xaxis\": {\"tickfont\": {\"color\": \"black\", \"size\": 12}, \"title\": \"Domain Type\"}, \"yaxis\": {\"title\": \"Number of Instances\"}}, {\"showLink\": true, \"linkText\": \"Export to plot.ly\", \"plotlyServerURL\": \"https://plot.ly\"})});</script><script type=\"text/javascript\">window.addEventListener(\"resize\", function(){window._Plotly.Plots.resize(document.getElementById(\"a02f04f7-e659-4707-8f15-7029562a0ce2\"));});</script>"
      ],
      "text/vnd.plotly.v1+html": [
       "<div id=\"a02f04f7-e659-4707-8f15-7029562a0ce2\" style=\"height: 525px; width: 100%;\" class=\"plotly-graph-div\"></div><script type=\"text/javascript\">require([\"plotly\"], function(Plotly) { window.PLOTLYENV=window.PLOTLYENV || {};window.PLOTLYENV.BASE_URL=\"https://plot.ly\";Plotly.newPlot(\"a02f04f7-e659-4707-8f15-7029562a0ce2\", [{\"text\": [39877.0, 6894.0], \"textposition\": \"outside\", \"x\": [0, 1], \"y\": [39877, 6894], \"type\": \"bar\", \"uid\": \"ac56c1d9-72a5-46c1-b5b1-9bb7a41223e1\"}], {\"xaxis\": {\"tickfont\": {\"color\": \"black\", \"size\": 12}, \"title\": \"Domain Type\"}, \"yaxis\": {\"title\": \"Number of Instances\"}}, {\"showLink\": true, \"linkText\": \"Export to plot.ly\", \"plotlyServerURL\": \"https://plot.ly\"})});</script><script type=\"text/javascript\">window.addEventListener(\"resize\", function(){window._Plotly.Plots.resize(document.getElementById(\"a02f04f7-e659-4707-8f15-7029562a0ce2\"));});</script>"
      ]
     },
     "metadata": {},
     "output_type": "display_data"
    }
   ],
   "source": [
    "data = [go.Bar(x=df.Target.value_counts().index.values,\n",
    "               y=df.Target.value_counts().values,\n",
    "               text=df.Target.value_counts().values,\n",
    "               textposition = 'outside',\n",
    "            )]\n",
    "layout = go.Layout( xaxis=dict(title='Domain Type',tickfont=dict(size=12,color='black')),\n",
    "                    yaxis=dict(title='Number of Instances'))\n",
    "fig = go.Figure(data=data, layout=layout)\n",
    "iplot(fig)"
   ]
  },
  {
   "cell_type": "code",
   "execution_count": 12,
   "metadata": {},
   "outputs": [
    {
     "name": "stdout",
     "output_type": "stream",
     "text": [
      "302 columns have only one unique value in them rendering them meaningless for classification\n"
     ]
    }
   ],
   "source": [
    "col_no_unique=[]\n",
    "for col in df.columns[:-1]:\n",
    "    if len(df[col].value_counts())==1:\n",
    "        col_no_unique.append(col)\n",
    "\n",
    "print(\"{} columns have only one unique value in them rendering them meaningless for classification\".format(len(col_no_unique)))\n",
    "# display(np.array(col_no_unique))\n",
    "### Drop those columns\n",
    "df.drop(col_no_unique,axis=1,inplace=True)"
   ]
  },
  {
   "cell_type": "code",
   "execution_count": 13,
   "metadata": {},
   "outputs": [
    {
     "name": "stdout",
     "output_type": "stream",
     "text": [
      "Shape of our dataset after dropping them: (46771, 3896)\n",
      "Columns which are of type object:\n",
      " url_contains_signin    object\n",
      "url_contains_www       object\n",
      "url_host               object\n",
      "url_ip                 object\n",
      "dtype: object\n"
     ]
    }
   ],
   "source": [
    "print(\"Shape of our dataset after dropping them:\",df.shape)\n",
    "\n",
    "ext_end=[col for col in df.columns if 'extension_ends' in col]\n",
    "\n",
    "for col in ext_end:\n",
    "    df[col]=df[col].astype(int)\n",
    "\n",
    "# ### Check and converting data types\n",
    "# df['Target']=df.Target.apply(lambda x: 1 if x=='Malicious' else 0)\n",
    "print(\"Columns which are of type object:\\n\",df.dtypes[(df.dtypes=='object')])\n",
    "\n",
    "lst=[]\n",
    "for col in df.columns[:-1]:\n",
    "    lst.append([col,dict(df[col].value_counts()),df[col].value_counts().values[0]>=len(df)*0.95])\n",
    "\n",
    "col_values=pd.DataFrame(lst,columns=['Feature','Value_Counts','95_%_same_values'])\n",
    "col_values.set_index('Feature',drop=True,inplace=True)"
   ]
  },
  {
   "cell_type": "code",
   "execution_count": 14,
   "metadata": {},
   "outputs": [
    {
     "name": "stdout",
     "output_type": "stream",
     "text": [
      "3846 columns have more than 95% same values\n"
     ]
    },
    {
     "data": {
      "text/plain": [
       "True     3846\n",
       "False      49\n",
       "Name: 95_%_same_values, dtype: int64"
      ]
     },
     "execution_count": 14,
     "metadata": {},
     "output_type": "execute_result"
    }
   ],
   "source": [
    "print(\"{} columns have more than 95% same values\".format(len(col_values[col_values['95_%_same_values']==True].index.values)))\n",
    "\n",
    "columns=col_values[col_values['95_%_same_values']==False].index.values\n",
    "columns=columns.tolist()\n",
    "col_values['95_%_same_values'].value_counts()"
   ]
  },
  {
   "cell_type": "code",
   "execution_count": 15,
   "metadata": {
    "scrolled": false
   },
   "outputs": [
    {
     "name": "stdout",
     "output_type": "stream",
     "text": [
      "Columns which are of type object: url_host    object\n",
      "dtype: object\n",
      "Stats for numerical features for HTML experiment\n",
      "\n"
     ]
    },
    {
     "data": {
      "text/html": [
       "<div>\n",
       "<style scoped>\n",
       "    .dataframe tbody tr th:only-of-type {\n",
       "        vertical-align: middle;\n",
       "    }\n",
       "\n",
       "    .dataframe tbody tr th {\n",
       "        vertical-align: top;\n",
       "    }\n",
       "\n",
       "    .dataframe thead th {\n",
       "        text-align: right;\n",
       "    }\n",
       "</style>\n",
       "<table border=\"1\" class=\"dataframe\">\n",
       "  <thead>\n",
       "    <tr style=\"text-align: right;\">\n",
       "      <th></th>\n",
       "      <th>Pt. Biserial Corr</th>\n",
       "      <th>Pt. Biserial Corr p-val</th>\n",
       "      <th>ttest</th>\n",
       "      <th>ttest p-val</th>\n",
       "    </tr>\n",
       "    <tr>\n",
       "      <th>Feature</th>\n",
       "      <th></th>\n",
       "      <th></th>\n",
       "      <th></th>\n",
       "      <th></th>\n",
       "    </tr>\n",
       "  </thead>\n",
       "  <tbody>\n",
       "    <tr>\n",
       "      <th>url_extension_.com</th>\n",
       "      <td>-0.154316</td>\n",
       "      <td>4.061880e-247</td>\n",
       "      <td>-34.113589</td>\n",
       "      <td>9.926271e-241</td>\n",
       "    </tr>\n",
       "    <tr>\n",
       "      <th>url_extension_.i</th>\n",
       "      <td>-0.005769</td>\n",
       "      <td>2.122020e-01</td>\n",
       "      <td>-1.243880</td>\n",
       "      <td>2.135748e-01</td>\n",
       "    </tr>\n",
       "    <tr>\n",
       "      <th>url_char_m</th>\n",
       "      <td>-0.000765</td>\n",
       "      <td>8.685861e-01</td>\n",
       "      <td>-0.133716</td>\n",
       "      <td>8.936303e-01</td>\n",
       "    </tr>\n",
       "    <tr>\n",
       "      <th>url_char_o</th>\n",
       "      <td>0.074650</td>\n",
       "      <td>8.715169e-59</td>\n",
       "      <td>12.338724</td>\n",
       "      <td>1.155801e-34</td>\n",
       "    </tr>\n",
       "    <tr>\n",
       "      <th>url_char_j</th>\n",
       "      <td>0.116675</td>\n",
       "      <td>1.984745e-141</td>\n",
       "      <td>16.725416</td>\n",
       "      <td>1.082992e-61</td>\n",
       "    </tr>\n",
       "    <tr>\n",
       "      <th>url_char_v</th>\n",
       "      <td>0.105337</td>\n",
       "      <td>1.682865e-115</td>\n",
       "      <td>17.027650</td>\n",
       "      <td>6.949488e-64</td>\n",
       "    </tr>\n",
       "    <tr>\n",
       "      <th>url_char_c</th>\n",
       "      <td>0.110988</td>\n",
       "      <td>4.385017e-128</td>\n",
       "      <td>17.136575</td>\n",
       "      <td>1.205077e-64</td>\n",
       "    </tr>\n",
       "    <tr>\n",
       "      <th>url_char_g</th>\n",
       "      <td>0.119543</td>\n",
       "      <td>2.045127e-148</td>\n",
       "      <td>20.120991</td>\n",
       "      <td>6.796065e-88</td>\n",
       "    </tr>\n",
       "    <tr>\n",
       "      <th>url_char_-</th>\n",
       "      <td>0.188291</td>\n",
       "      <td>0.000000e+00</td>\n",
       "      <td>22.532080</td>\n",
       "      <td>1.071961e-108</td>\n",
       "    </tr>\n",
       "    <tr>\n",
       "      <th>url_char_k</th>\n",
       "      <td>0.145710</td>\n",
       "      <td>2.890403e-220</td>\n",
       "      <td>22.710567</td>\n",
       "      <td>1.292852e-110</td>\n",
       "    </tr>\n",
       "    <tr>\n",
       "      <th>url_char_r</th>\n",
       "      <td>0.140080</td>\n",
       "      <td>1.445021e-203</td>\n",
       "      <td>24.001861</td>\n",
       "      <td>4.798345e-123</td>\n",
       "    </tr>\n",
       "    <tr>\n",
       "      <th>url_char_d</th>\n",
       "      <td>0.185027</td>\n",
       "      <td>0.000000e+00</td>\n",
       "      <td>26.310656</td>\n",
       "      <td>4.906239e-146</td>\n",
       "    </tr>\n",
       "    <tr>\n",
       "      <th>url_words_with_length_8</th>\n",
       "      <td>0.184637</td>\n",
       "      <td>0.000000e+00</td>\n",
       "      <td>26.632659</td>\n",
       "      <td>1.862759e-149</td>\n",
       "    </tr>\n",
       "    <tr>\n",
       "      <th>url_char_p</th>\n",
       "      <td>0.187333</td>\n",
       "      <td>0.000000e+00</td>\n",
       "      <td>27.120052</td>\n",
       "      <td>1.155928e-154</td>\n",
       "    </tr>\n",
       "    <tr>\n",
       "      <th>url_char_h</th>\n",
       "      <td>0.178102</td>\n",
       "      <td>0.000000e+00</td>\n",
       "      <td>27.362729</td>\n",
       "      <td>1.982512e-157</td>\n",
       "    </tr>\n",
       "    <tr>\n",
       "      <th>url_words_with_length_5</th>\n",
       "      <td>0.173285</td>\n",
       "      <td>5.034966e-312</td>\n",
       "      <td>28.602282</td>\n",
       "      <td>2.333533e-171</td>\n",
       "    </tr>\n",
       "    <tr>\n",
       "      <th>url_char_f</th>\n",
       "      <td>0.189686</td>\n",
       "      <td>0.000000e+00</td>\n",
       "      <td>28.688053</td>\n",
       "      <td>4.886014e-172</td>\n",
       "    </tr>\n",
       "    <tr>\n",
       "      <th>url_char_t</th>\n",
       "      <td>0.185356</td>\n",
       "      <td>0.000000e+00</td>\n",
       "      <td>29.034757</td>\n",
       "      <td>4.458870e-176</td>\n",
       "    </tr>\n",
       "    <tr>\n",
       "      <th>url_number_digits</th>\n",
       "      <td>0.303942</td>\n",
       "      <td>0.000000e+00</td>\n",
       "      <td>29.262586</td>\n",
       "      <td>1.468956e-177</td>\n",
       "    </tr>\n",
       "    <tr>\n",
       "      <th>url_words_with_length_6</th>\n",
       "      <td>0.184873</td>\n",
       "      <td>0.000000e+00</td>\n",
       "      <td>29.420010</td>\n",
       "      <td>1.519794e-180</td>\n",
       "    </tr>\n",
       "    <tr>\n",
       "      <th>url_char_a</th>\n",
       "      <td>0.180943</td>\n",
       "      <td>0.000000e+00</td>\n",
       "      <td>29.692290</td>\n",
       "      <td>8.219779e-184</td>\n",
       "    </tr>\n",
       "    <tr>\n",
       "      <th>url_char_b</th>\n",
       "      <td>0.197619</td>\n",
       "      <td>0.000000e+00</td>\n",
       "      <td>31.187658</td>\n",
       "      <td>2.427562e-201</td>\n",
       "    </tr>\n",
       "    <tr>\n",
       "      <th>url_char_x</th>\n",
       "      <td>0.224483</td>\n",
       "      <td>0.000000e+00</td>\n",
       "      <td>31.763987</td>\n",
       "      <td>7.368930e-208</td>\n",
       "    </tr>\n",
       "    <tr>\n",
       "      <th>url_char_u</th>\n",
       "      <td>0.190467</td>\n",
       "      <td>0.000000e+00</td>\n",
       "      <td>31.857149</td>\n",
       "      <td>8.975391e-210</td>\n",
       "    </tr>\n",
       "    <tr>\n",
       "      <th>url_words_with_length_7</th>\n",
       "      <td>0.216715</td>\n",
       "      <td>0.000000e+00</td>\n",
       "      <td>32.363531</td>\n",
       "      <td>1.916897e-215</td>\n",
       "    </tr>\n",
       "    <tr>\n",
       "      <th>url_char_n</th>\n",
       "      <td>0.213296</td>\n",
       "      <td>0.000000e+00</td>\n",
       "      <td>32.682021</td>\n",
       "      <td>1.594802e-219</td>\n",
       "    </tr>\n",
       "    <tr>\n",
       "      <th>url_tlds</th>\n",
       "      <td>0.234182</td>\n",
       "      <td>0.000000e+00</td>\n",
       "      <td>33.663948</td>\n",
       "      <td>1.447439e-231</td>\n",
       "    </tr>\n",
       "    <tr>\n",
       "      <th>url_char_l</th>\n",
       "      <td>0.234193</td>\n",
       "      <td>0.000000e+00</td>\n",
       "      <td>34.430643</td>\n",
       "      <td>1.618836e-241</td>\n",
       "    </tr>\n",
       "    <tr>\n",
       "      <th>url_char_s</th>\n",
       "      <td>0.224374</td>\n",
       "      <td>0.000000e+00</td>\n",
       "      <td>35.866588</td>\n",
       "      <td>5.804626e-261</td>\n",
       "    </tr>\n",
       "    <tr>\n",
       "      <th>url_char_e</th>\n",
       "      <td>0.235855</td>\n",
       "      <td>0.000000e+00</td>\n",
       "      <td>37.254339</td>\n",
       "      <td>1.130015e-279</td>\n",
       "    </tr>\n",
       "    <tr>\n",
       "      <th>url_char_y</th>\n",
       "      <td>0.292354</td>\n",
       "      <td>0.000000e+00</td>\n",
       "      <td>37.917299</td>\n",
       "      <td>2.590896e-287</td>\n",
       "    </tr>\n",
       "    <tr>\n",
       "      <th>url_char_z</th>\n",
       "      <td>0.306922</td>\n",
       "      <td>0.000000e+00</td>\n",
       "      <td>38.897902</td>\n",
       "      <td>9.390352e-301</td>\n",
       "    </tr>\n",
       "    <tr>\n",
       "      <th>url_words_with_length_4</th>\n",
       "      <td>0.260214</td>\n",
       "      <td>0.000000e+00</td>\n",
       "      <td>41.001370</td>\n",
       "      <td>0.000000e+00</td>\n",
       "    </tr>\n",
       "    <tr>\n",
       "      <th>url_number_consonants</th>\n",
       "      <td>0.404512</td>\n",
       "      <td>0.000000e+00</td>\n",
       "      <td>42.389815</td>\n",
       "      <td>0.000000e+00</td>\n",
       "    </tr>\n",
       "    <tr>\n",
       "      <th>url_number_vowels</th>\n",
       "      <td>0.365966</td>\n",
       "      <td>0.000000e+00</td>\n",
       "      <td>45.375834</td>\n",
       "      <td>0.000000e+00</td>\n",
       "    </tr>\n",
       "    <tr>\n",
       "      <th>url_char_i</th>\n",
       "      <td>0.287576</td>\n",
       "      <td>0.000000e+00</td>\n",
       "      <td>46.987315</td>\n",
       "      <td>0.000000e+00</td>\n",
       "    </tr>\n",
       "    <tr>\n",
       "      <th>url_length</th>\n",
       "      <td>0.461816</td>\n",
       "      <td>0.000000e+00</td>\n",
       "      <td>49.743906</td>\n",
       "      <td>0.000000e+00</td>\n",
       "    </tr>\n",
       "    <tr>\n",
       "      <th>url_char_w</th>\n",
       "      <td>0.429855</td>\n",
       "      <td>0.000000e+00</td>\n",
       "      <td>50.963559</td>\n",
       "      <td>0.000000e+00</td>\n",
       "    </tr>\n",
       "    <tr>\n",
       "      <th>url_extensions</th>\n",
       "      <td>0.489530</td>\n",
       "      <td>0.000000e+00</td>\n",
       "      <td>71.796926</td>\n",
       "      <td>0.000000e+00</td>\n",
       "    </tr>\n",
       "    <tr>\n",
       "      <th>url_char_.</th>\n",
       "      <td>0.527821</td>\n",
       "      <td>0.000000e+00</td>\n",
       "      <td>75.066324</td>\n",
       "      <td>0.000000e+00</td>\n",
       "    </tr>\n",
       "  </tbody>\n",
       "</table>\n",
       "</div>"
      ],
      "text/plain": [
       "                         Pt. Biserial Corr  Pt. Biserial Corr p-val  \\\n",
       "Feature                                                               \n",
       "url_extension_.com               -0.154316            4.061880e-247   \n",
       "url_extension_.i                 -0.005769             2.122020e-01   \n",
       "url_char_m                       -0.000765             8.685861e-01   \n",
       "url_char_o                        0.074650             8.715169e-59   \n",
       "url_char_j                        0.116675            1.984745e-141   \n",
       "url_char_v                        0.105337            1.682865e-115   \n",
       "url_char_c                        0.110988            4.385017e-128   \n",
       "url_char_g                        0.119543            2.045127e-148   \n",
       "url_char_-                        0.188291             0.000000e+00   \n",
       "url_char_k                        0.145710            2.890403e-220   \n",
       "url_char_r                        0.140080            1.445021e-203   \n",
       "url_char_d                        0.185027             0.000000e+00   \n",
       "url_words_with_length_8           0.184637             0.000000e+00   \n",
       "url_char_p                        0.187333             0.000000e+00   \n",
       "url_char_h                        0.178102             0.000000e+00   \n",
       "url_words_with_length_5           0.173285            5.034966e-312   \n",
       "url_char_f                        0.189686             0.000000e+00   \n",
       "url_char_t                        0.185356             0.000000e+00   \n",
       "url_number_digits                 0.303942             0.000000e+00   \n",
       "url_words_with_length_6           0.184873             0.000000e+00   \n",
       "url_char_a                        0.180943             0.000000e+00   \n",
       "url_char_b                        0.197619             0.000000e+00   \n",
       "url_char_x                        0.224483             0.000000e+00   \n",
       "url_char_u                        0.190467             0.000000e+00   \n",
       "url_words_with_length_7           0.216715             0.000000e+00   \n",
       "url_char_n                        0.213296             0.000000e+00   \n",
       "url_tlds                          0.234182             0.000000e+00   \n",
       "url_char_l                        0.234193             0.000000e+00   \n",
       "url_char_s                        0.224374             0.000000e+00   \n",
       "url_char_e                        0.235855             0.000000e+00   \n",
       "url_char_y                        0.292354             0.000000e+00   \n",
       "url_char_z                        0.306922             0.000000e+00   \n",
       "url_words_with_length_4           0.260214             0.000000e+00   \n",
       "url_number_consonants             0.404512             0.000000e+00   \n",
       "url_number_vowels                 0.365966             0.000000e+00   \n",
       "url_char_i                        0.287576             0.000000e+00   \n",
       "url_length                        0.461816             0.000000e+00   \n",
       "url_char_w                        0.429855             0.000000e+00   \n",
       "url_extensions                    0.489530             0.000000e+00   \n",
       "url_char_.                        0.527821             0.000000e+00   \n",
       "\n",
       "                             ttest    ttest p-val  \n",
       "Feature                                            \n",
       "url_extension_.com      -34.113589  9.926271e-241  \n",
       "url_extension_.i         -1.243880   2.135748e-01  \n",
       "url_char_m               -0.133716   8.936303e-01  \n",
       "url_char_o               12.338724   1.155801e-34  \n",
       "url_char_j               16.725416   1.082992e-61  \n",
       "url_char_v               17.027650   6.949488e-64  \n",
       "url_char_c               17.136575   1.205077e-64  \n",
       "url_char_g               20.120991   6.796065e-88  \n",
       "url_char_-               22.532080  1.071961e-108  \n",
       "url_char_k               22.710567  1.292852e-110  \n",
       "url_char_r               24.001861  4.798345e-123  \n",
       "url_char_d               26.310656  4.906239e-146  \n",
       "url_words_with_length_8  26.632659  1.862759e-149  \n",
       "url_char_p               27.120052  1.155928e-154  \n",
       "url_char_h               27.362729  1.982512e-157  \n",
       "url_words_with_length_5  28.602282  2.333533e-171  \n",
       "url_char_f               28.688053  4.886014e-172  \n",
       "url_char_t               29.034757  4.458870e-176  \n",
       "url_number_digits        29.262586  1.468956e-177  \n",
       "url_words_with_length_6  29.420010  1.519794e-180  \n",
       "url_char_a               29.692290  8.219779e-184  \n",
       "url_char_b               31.187658  2.427562e-201  \n",
       "url_char_x               31.763987  7.368930e-208  \n",
       "url_char_u               31.857149  8.975391e-210  \n",
       "url_words_with_length_7  32.363531  1.916897e-215  \n",
       "url_char_n               32.682021  1.594802e-219  \n",
       "url_tlds                 33.663948  1.447439e-231  \n",
       "url_char_l               34.430643  1.618836e-241  \n",
       "url_char_s               35.866588  5.804626e-261  \n",
       "url_char_e               37.254339  1.130015e-279  \n",
       "url_char_y               37.917299  2.590896e-287  \n",
       "url_char_z               38.897902  9.390352e-301  \n",
       "url_words_with_length_4  41.001370   0.000000e+00  \n",
       "url_number_consonants    42.389815   0.000000e+00  \n",
       "url_number_vowels        45.375834   0.000000e+00  \n",
       "url_char_i               46.987315   0.000000e+00  \n",
       "url_length               49.743906   0.000000e+00  \n",
       "url_char_w               50.963559   0.000000e+00  \n",
       "url_extensions           71.796926   0.000000e+00  \n",
       "url_char_.               75.066324   0.000000e+00  "
      ]
     },
     "metadata": {},
     "output_type": "display_data"
    },
    {
     "name": "stdout",
     "output_type": "stream",
     "text": [
      "\n",
      "Stats for Categorical features for HTML experiment\n",
      "\n"
     ]
    },
    {
     "data": {
      "text/html": [
       "<div>\n",
       "<style scoped>\n",
       "    .dataframe tbody tr th:only-of-type {\n",
       "        vertical-align: middle;\n",
       "    }\n",
       "\n",
       "    .dataframe tbody tr th {\n",
       "        vertical-align: top;\n",
       "    }\n",
       "\n",
       "    .dataframe thead th {\n",
       "        text-align: right;\n",
       "    }\n",
       "</style>\n",
       "<table border=\"1\" class=\"dataframe\">\n",
       "  <thead>\n",
       "    <tr style=\"text-align: right;\">\n",
       "      <th></th>\n",
       "      <th>Pearson Chi-square</th>\n",
       "      <th>p-value</th>\n",
       "      <th>Cramers V</th>\n",
       "    </tr>\n",
       "    <tr>\n",
       "      <th>Feature</th>\n",
       "      <th></th>\n",
       "      <th></th>\n",
       "      <th></th>\n",
       "    </tr>\n",
       "  </thead>\n",
       "  <tbody>\n",
       "    <tr>\n",
       "      <th>url_extension_.net</th>\n",
       "      <td>138.8931</td>\n",
       "      <td>0.0</td>\n",
       "      <td>0.0545</td>\n",
       "    </tr>\n",
       "  </tbody>\n",
       "</table>\n",
       "</div>"
      ],
      "text/plain": [
       "                    Pearson Chi-square  p-value  Cramers V\n",
       "Feature                                                   \n",
       "url_extension_.net            138.8931      0.0     0.0545"
      ]
     },
     "metadata": {},
     "output_type": "display_data"
    }
   ],
   "source": [
    "print(\"Columns which are of type object:\",df[columns].dtypes[(df.dtypes=='object')])\n",
    "columns.remove('url_host')\n",
    "\n",
    "rem=['url_tld_NET','url_tld_COM','url_tld_NE','url_tld_CO','url_extension_endswith_.com', 'url_extension_.c']\n",
    "for col in rem:\n",
    "    columns.remove(col)\n",
    "\n",
    "df_sel=df[columns]\n",
    "\n",
    "cat_var_js,num_var_js=check_cat(df_sel)\n",
    "\n",
    "print(\"Stats for numerical features for HTML experiment\\n\")\n",
    "num_stats_js=num_stats(df_sel,num_var_js)\n",
    "display(num_stats_js)\n",
    "print(\"\\nStats for Categorical features for HTML experiment\\n\")\n",
    "cat_stats_js=cat_stats(df_sel,cat_var_js)\n",
    "display(cat_stats_js)"
   ]
  },
  {
   "cell_type": "code",
   "execution_count": 16,
   "metadata": {},
   "outputs": [
    {
     "data": {
      "text/plain": [
       "['Target',\n",
       " 'url_char_-',\n",
       " 'url_char_.',\n",
       " 'url_char_a',\n",
       " 'url_char_b',\n",
       " 'url_char_c',\n",
       " 'url_char_d',\n",
       " 'url_char_e',\n",
       " 'url_char_f',\n",
       " 'url_char_g',\n",
       " 'url_char_h',\n",
       " 'url_char_i',\n",
       " 'url_char_j',\n",
       " 'url_char_k',\n",
       " 'url_char_l',\n",
       " 'url_char_m',\n",
       " 'url_char_n',\n",
       " 'url_char_o',\n",
       " 'url_char_p',\n",
       " 'url_char_r',\n",
       " 'url_char_s',\n",
       " 'url_char_t',\n",
       " 'url_char_u',\n",
       " 'url_char_v',\n",
       " 'url_char_w',\n",
       " 'url_char_x',\n",
       " 'url_char_y',\n",
       " 'url_char_z',\n",
       " 'url_extension_.com',\n",
       " 'url_extension_.i',\n",
       " 'url_extension_.net',\n",
       " 'url_extensions',\n",
       " 'url_length',\n",
       " 'url_tlds',\n",
       " 'url_words_with_length_4',\n",
       " 'url_words_with_length_5',\n",
       " 'url_words_with_length_6',\n",
       " 'url_words_with_length_7',\n",
       " 'url_words_with_length_8',\n",
       " 'url_number_vowels',\n",
       " 'url_number_consonants',\n",
       " 'url_number_digits']"
      ]
     },
     "execution_count": 16,
     "metadata": {},
     "output_type": "execute_result"
    }
   ],
   "source": [
    "fin_col=columns\n",
    "fin_col"
   ]
  },
  {
   "cell_type": "code",
   "execution_count": 17,
   "metadata": {},
   "outputs": [],
   "source": [
    "train=df_sel.iloc[:32740,:]\n",
    "train_X=train.iloc[:,train.columns!='Target'].values\n",
    "train_Y=train.Target.values\n",
    "\n",
    "scaler=StandardScaler()\n",
    "scaled_X_train=scaler.fit_transform(train_X)\n",
    "\n",
    "test=df_sel.iloc[32740:,:]\n",
    "test_X=test.iloc[:,test.columns!='Target'].values\n",
    "test_Y=test.Target.values\n",
    "scaled_X_test=scaler.transform(test_X)"
   ]
  },
  {
   "cell_type": "code",
   "execution_count": 18,
   "metadata": {},
   "outputs": [],
   "source": [
    "columns=fin_col"
   ]
  },
  {
   "cell_type": "markdown",
   "metadata": {},
   "source": [
    "### <a id='1' style=\"text-decoration : none; color : #000000;\"> 2. Initial Models</a>"
   ]
  },
  {
   "cell_type": "code",
   "execution_count": 19,
   "metadata": {},
   "outputs": [],
   "source": [
    "columns.remove('Target')"
   ]
  },
  {
   "cell_type": "code",
   "execution_count": 20,
   "metadata": {},
   "outputs": [],
   "source": [
    "ind_columns=['KNeighborsClassifier','LogisticRegression','RandomForestClassifier','AdaBoostClassifier',\n",
    "             'GradientBoostingClassifier','ExtraTreeClassifier','BaggingClassifier','Neural Network-1']\n",
    "\n",
    "f=[KNN_model,Logistic_model,RandomForest,AdaBoost,GradientBoosting, ExtraTree,Bagging,DeepLearning1]\n",
    "\n",
    "## Table to store training and test measures\n",
    "table_80_50_train=pd.DataFrame(columns=['accuracy','TP','TN','FP','FN','FPR','FNR'])\n",
    "table_80_50_test=pd.DataFrame(columns=['accuracy','TP','TN','FP','FN','FPR','FNR','auc','MCC'])"
   ]
  },
  {
   "cell_type": "code",
   "execution_count": 21,
   "metadata": {
    "scrolled": false
   },
   "outputs": [
    {
     "name": "stdout",
     "output_type": "stream",
     "text": [
      "\u001b[1mK-Nearest Neighbors\u001b[0m\n",
      "Accuracy of the model for training data is: 0.9634697617593159\n",
      "Confusion Matrix for training data is:\n"
     ]
    },
    {
     "data": {
      "text/plain": [
       "Predicted  False  True  __all__\n",
       "Actual                         \n",
       "False      27848    59    27907\n",
       "True        1137  3696     4833\n",
       "__all__    28985  3755    32740"
      ]
     },
     "metadata": {},
     "output_type": "display_data"
    },
    {
     "name": "stdout",
     "output_type": "stream",
     "text": [
      "Accuracy of the model for test data is: 0.9579502530111895\n",
      "Confusion Matrix for test data is:\n"
     ]
    },
    {
     "data": {
      "text/plain": [
       "Predicted  False  True  __all__\n",
       "Actual                         \n",
       "False      11942    28    11970\n",
       "True         562  1499     2061\n",
       "__all__    12504  1527    14031"
      ]
     },
     "metadata": {},
     "output_type": "display_data"
    },
    {
     "name": "stdout",
     "output_type": "stream",
     "text": [
      "\n",
      "\n",
      "\u001b[1mLogistic Regression\u001b[0m\n",
      "Accuracy of the model for training data is: 0.951038485033598\n",
      "Confusion Matrix for training data is:\n"
     ]
    },
    {
     "data": {
      "text/plain": [
       "Predicted  False  True  __all__\n",
       "Actual                         \n",
       "False      27558   349    27907\n",
       "True        1254  3579     4833\n",
       "__all__    28812  3928    32740"
      ]
     },
     "metadata": {},
     "output_type": "display_data"
    },
    {
     "name": "stdout",
     "output_type": "stream",
     "text": [
      "Accuracy of the model for test data is: 0.9522485924025372\n",
      "Confusion Matrix for test data is:\n"
     ]
    },
    {
     "data": {
      "text/plain": [
       "Predicted  False  True  __all__\n",
       "Actual                         \n",
       "False      11811   159    11970\n",
       "True         511  1550     2061\n",
       "__all__    12322  1709    14031"
      ]
     },
     "metadata": {},
     "output_type": "display_data"
    },
    {
     "name": "stdout",
     "output_type": "stream",
     "text": [
      "\n",
      "\n",
      "\u001b[1mRandomForest Classifier\u001b[0m\n",
      "Accuracy of the model for training data is: 0.9941356139279169\n",
      "Confusion Matrix for training data is:\n"
     ]
    },
    {
     "data": {
      "text/plain": [
       "Predicted  False  True  __all__\n",
       "Actual                         \n",
       "False      27904     3    27907\n",
       "True         189  4644     4833\n",
       "__all__    28093  4647    32740"
      ]
     },
     "metadata": {},
     "output_type": "display_data"
    },
    {
     "name": "stdout",
     "output_type": "stream",
     "text": [
      "Accuracy of the model for test data is: 0.9635806428622337\n",
      "Confusion Matrix for test data is:\n"
     ]
    },
    {
     "data": {
      "text/plain": [
       "Predicted  False  True  __all__\n",
       "Actual                         \n",
       "False      11879    91    11970\n",
       "True         420  1641     2061\n",
       "__all__    12299  1732    14031"
      ]
     },
     "metadata": {},
     "output_type": "display_data"
    },
    {
     "data": {
      "application/vnd.plotly.v1+json": {
       "config": {
        "linkText": "Export to plot.ly",
        "plotlyServerURL": "https://plot.ly",
        "showLink": true
       },
       "data": [
        {
         "marker": {
          "color": "rgb(158,202,225)",
          "line": {
           "color": "rgb(8,48,107)",
           "width": 1.5
          }
         },
         "opacity": 0.6,
         "orientation": "h",
         "text": [
          0.1813,
          0.1282,
          0.1224,
          0.0762,
          0.062,
          0.0351,
          0.0336,
          0.0287,
          0.0227,
          0.0227,
          0.0198,
          0.0144,
          0.0138,
          0.0135,
          0.0131,
          0.0127,
          0.0126,
          0.0125,
          0.0118,
          0.0118,
          0.0115,
          0.0111,
          0.0109,
          0.0104,
          0.0101,
          0.009,
          0.0087,
          0.0087,
          0.0086,
          0.0076,
          0.0068,
          0.0067,
          0.0067,
          0.0063,
          0.0055,
          0.0046,
          0.0045,
          0.004,
          0.0039,
          0.0033,
          0.0023
         ],
         "textposition": "outside",
         "type": "bar",
         "uid": "eeb4ad72-229e-4e70-865f-70f614a6d6e7",
         "x": [
          0.1812748751478946,
          0.12815766002561343,
          0.12241582188739657,
          0.07618466811495815,
          0.06199515975910184,
          0.03514999479270521,
          0.033596620113555624,
          0.028727271655002617,
          0.02266174390161325,
          0.022655862711333137,
          0.019784292958388666,
          0.014446109150542641,
          0.013840736887926936,
          0.01347444993913054,
          0.013088840771316959,
          0.012747720122386999,
          0.012629740780508537,
          0.012489528891783052,
          0.011799835852482793,
          0.011757028009039563,
          0.011485275452164531,
          0.011065812328807722,
          0.010853698978066654,
          0.010412028448316887,
          0.010135423292189328,
          0.009030052486169091,
          0.008723215043473722,
          0.008722825263843157,
          0.008573955298557685,
          0.0076156237193415865,
          0.0068069078798985525,
          0.006684305116698906,
          0.006651366222395488,
          0.0062673262146437534,
          0.005452982271498362,
          0.004592464969286155,
          0.004545231286291883,
          0.004027443493332337,
          0.003916905071848656,
          0.003296611166387698,
          0.0022625845241067647
         ],
         "y": [
          "url_extensions",
          "url_length",
          "url_number_consonants",
          "url_char_w",
          "url_tlds",
          "url_char_.",
          "url_number_digits",
          "url_number_vowels",
          "url_extension_.com",
          "url_words_with_length_4",
          "url_char_z",
          "url_char_i",
          "url_char_m",
          "url_char_c",
          "url_char_t",
          "url_char_n",
          "url_char_s",
          "url_char_o",
          "url_char_e",
          "url_char_a",
          "url_char_l",
          "url_char_u",
          "url_char_r",
          "url_char_b",
          "url_words_with_length_5",
          "url_char_h",
          "url_char_d",
          "url_char_g",
          "url_char_p",
          "url_char_f",
          "url_words_with_length_6",
          "url_char_y",
          "url_char_k",
          "url_char_x",
          "url_char_v",
          "url_char_j",
          "url_words_with_length_7",
          "url_char_-",
          "url_extension_.i",
          "url_words_with_length_8",
          "url_extension_.net"
         ]
        }
       ],
       "layout": {
        "autosize": false,
        "height": 1000,
        "width": 1000,
        "xaxis": {
         "tickfont": {
          "color": "black",
          "size": 12
         },
         "title": "Feature Importances"
        },
        "yaxis": {
         "automargin": true
        }
       }
      },
      "text/html": [
       "<div id=\"1e322b1f-1a89-49cb-9557-399cd2ddc433\" style=\"height: 1000px; width: 1000px;\" class=\"plotly-graph-div\"></div><script type=\"text/javascript\">require([\"plotly\"], function(Plotly) { window.PLOTLYENV=window.PLOTLYENV || {};window.PLOTLYENV.BASE_URL=\"https://plot.ly\";Plotly.newPlot(\"1e322b1f-1a89-49cb-9557-399cd2ddc433\", [{\"marker\": {\"color\": \"rgb(158,202,225)\", \"line\": {\"color\": \"rgb(8,48,107)\", \"width\": 1.5}}, \"opacity\": 0.6, \"orientation\": \"h\", \"text\": [0.1813, 0.1282, 0.1224, 0.0762, 0.062, 0.0351, 0.0336, 0.0287, 0.0227, 0.0227, 0.0198, 0.0144, 0.0138, 0.0135, 0.0131, 0.0127, 0.0126, 0.0125, 0.0118, 0.0118, 0.0115, 0.0111, 0.0109, 0.0104, 0.0101, 0.009, 0.0087, 0.0087, 0.0086, 0.0076, 0.0068, 0.0067, 0.0067, 0.0063, 0.0055, 0.0046, 0.0045, 0.004, 0.0039, 0.0033, 0.0023], \"textposition\": \"outside\", \"x\": [0.1812748751478946, 0.12815766002561343, 0.12241582188739657, 0.07618466811495815, 0.06199515975910184, 0.03514999479270521, 0.033596620113555624, 0.028727271655002617, 0.02266174390161325, 0.022655862711333137, 0.019784292958388666, 0.014446109150542641, 0.013840736887926936, 0.01347444993913054, 0.013088840771316959, 0.012747720122386999, 0.012629740780508537, 0.012489528891783052, 0.011799835852482793, 0.011757028009039563, 0.011485275452164531, 0.011065812328807722, 0.010853698978066654, 0.010412028448316887, 0.010135423292189328, 0.009030052486169091, 0.008723215043473722, 0.008722825263843157, 0.008573955298557685, 0.0076156237193415865, 0.0068069078798985525, 0.006684305116698906, 0.006651366222395488, 0.0062673262146437534, 0.005452982271498362, 0.004592464969286155, 0.004545231286291883, 0.004027443493332337, 0.003916905071848656, 0.003296611166387698, 0.0022625845241067647], \"y\": [\"url_extensions\", \"url_length\", \"url_number_consonants\", \"url_char_w\", \"url_tlds\", \"url_char_.\", \"url_number_digits\", \"url_number_vowels\", \"url_extension_.com\", \"url_words_with_length_4\", \"url_char_z\", \"url_char_i\", \"url_char_m\", \"url_char_c\", \"url_char_t\", \"url_char_n\", \"url_char_s\", \"url_char_o\", \"url_char_e\", \"url_char_a\", \"url_char_l\", \"url_char_u\", \"url_char_r\", \"url_char_b\", \"url_words_with_length_5\", \"url_char_h\", \"url_char_d\", \"url_char_g\", \"url_char_p\", \"url_char_f\", \"url_words_with_length_6\", \"url_char_y\", \"url_char_k\", \"url_char_x\", \"url_char_v\", \"url_char_j\", \"url_words_with_length_7\", \"url_char_-\", \"url_extension_.i\", \"url_words_with_length_8\", \"url_extension_.net\"], \"type\": \"bar\", \"uid\": \"eeb4ad72-229e-4e70-865f-70f614a6d6e7\"}], {\"autosize\": false, \"height\": 1000, \"width\": 1000, \"xaxis\": {\"tickfont\": {\"color\": \"black\", \"size\": 12}, \"title\": \"Feature Importances\"}, \"yaxis\": {\"automargin\": true}}, {\"showLink\": true, \"linkText\": \"Export to plot.ly\", \"plotlyServerURL\": \"https://plot.ly\"})});</script>"
      ],
      "text/vnd.plotly.v1+html": [
       "<div id=\"1e322b1f-1a89-49cb-9557-399cd2ddc433\" style=\"height: 1000px; width: 1000px;\" class=\"plotly-graph-div\"></div><script type=\"text/javascript\">require([\"plotly\"], function(Plotly) { window.PLOTLYENV=window.PLOTLYENV || {};window.PLOTLYENV.BASE_URL=\"https://plot.ly\";Plotly.newPlot(\"1e322b1f-1a89-49cb-9557-399cd2ddc433\", [{\"marker\": {\"color\": \"rgb(158,202,225)\", \"line\": {\"color\": \"rgb(8,48,107)\", \"width\": 1.5}}, \"opacity\": 0.6, \"orientation\": \"h\", \"text\": [0.1813, 0.1282, 0.1224, 0.0762, 0.062, 0.0351, 0.0336, 0.0287, 0.0227, 0.0227, 0.0198, 0.0144, 0.0138, 0.0135, 0.0131, 0.0127, 0.0126, 0.0125, 0.0118, 0.0118, 0.0115, 0.0111, 0.0109, 0.0104, 0.0101, 0.009, 0.0087, 0.0087, 0.0086, 0.0076, 0.0068, 0.0067, 0.0067, 0.0063, 0.0055, 0.0046, 0.0045, 0.004, 0.0039, 0.0033, 0.0023], \"textposition\": \"outside\", \"x\": [0.1812748751478946, 0.12815766002561343, 0.12241582188739657, 0.07618466811495815, 0.06199515975910184, 0.03514999479270521, 0.033596620113555624, 0.028727271655002617, 0.02266174390161325, 0.022655862711333137, 0.019784292958388666, 0.014446109150542641, 0.013840736887926936, 0.01347444993913054, 0.013088840771316959, 0.012747720122386999, 0.012629740780508537, 0.012489528891783052, 0.011799835852482793, 0.011757028009039563, 0.011485275452164531, 0.011065812328807722, 0.010853698978066654, 0.010412028448316887, 0.010135423292189328, 0.009030052486169091, 0.008723215043473722, 0.008722825263843157, 0.008573955298557685, 0.0076156237193415865, 0.0068069078798985525, 0.006684305116698906, 0.006651366222395488, 0.0062673262146437534, 0.005452982271498362, 0.004592464969286155, 0.004545231286291883, 0.004027443493332337, 0.003916905071848656, 0.003296611166387698, 0.0022625845241067647], \"y\": [\"url_extensions\", \"url_length\", \"url_number_consonants\", \"url_char_w\", \"url_tlds\", \"url_char_.\", \"url_number_digits\", \"url_number_vowels\", \"url_extension_.com\", \"url_words_with_length_4\", \"url_char_z\", \"url_char_i\", \"url_char_m\", \"url_char_c\", \"url_char_t\", \"url_char_n\", \"url_char_s\", \"url_char_o\", \"url_char_e\", \"url_char_a\", \"url_char_l\", \"url_char_u\", \"url_char_r\", \"url_char_b\", \"url_words_with_length_5\", \"url_char_h\", \"url_char_d\", \"url_char_g\", \"url_char_p\", \"url_char_f\", \"url_words_with_length_6\", \"url_char_y\", \"url_char_k\", \"url_char_x\", \"url_char_v\", \"url_char_j\", \"url_words_with_length_7\", \"url_char_-\", \"url_extension_.i\", \"url_words_with_length_8\", \"url_extension_.net\"], \"type\": \"bar\", \"uid\": \"eeb4ad72-229e-4e70-865f-70f614a6d6e7\"}], {\"autosize\": false, \"height\": 1000, \"width\": 1000, \"xaxis\": {\"tickfont\": {\"color\": \"black\", \"size\": 12}, \"title\": \"Feature Importances\"}, \"yaxis\": {\"automargin\": true}}, {\"showLink\": true, \"linkText\": \"Export to plot.ly\", \"plotlyServerURL\": \"https://plot.ly\"})});</script>"
      ]
     },
     "metadata": {},
     "output_type": "display_data"
    },
    {
     "name": "stdout",
     "output_type": "stream",
     "text": [
      "\n",
      "\n",
      "\u001b[1mAdaoost Classifier\u001b[0m\n",
      "Accuracy of the model for training data is: 0.9486866218692731\n",
      "Confusion Matrix for training data is:\n"
     ]
    },
    {
     "data": {
      "text/plain": [
       "Predicted  False  True  __all__\n",
       "Actual                         \n",
       "False      27506   401    27907\n",
       "True        1279  3554     4833\n",
       "__all__    28785  3955    32740"
      ]
     },
     "metadata": {},
     "output_type": "display_data"
    },
    {
     "name": "stdout",
     "output_type": "stream",
     "text": [
      "Accuracy of the model for test data is: 0.9475447224003991\n",
      "Confusion Matrix for test data is:\n"
     ]
    },
    {
     "data": {
      "text/plain": [
       "Predicted  False  True  __all__\n",
       "Actual                         \n",
       "False      11789   181    11970\n",
       "True         555  1506     2061\n",
       "__all__    12344  1687    14031"
      ]
     },
     "metadata": {},
     "output_type": "display_data"
    },
    {
     "data": {
      "application/vnd.plotly.v1+json": {
       "config": {
        "linkText": "Export to plot.ly",
        "plotlyServerURL": "https://plot.ly",
        "showLink": true
       },
       "data": [
        {
         "marker": {
          "color": "rgb(158,202,225)",
          "line": {
           "color": "rgb(8,48,107)",
           "width": 1.5
          }
         },
         "opacity": 0.6,
         "orientation": "h",
         "text": [
          0.18,
          0.12,
          0.12,
          0.06,
          0.04,
          0.04,
          0.04,
          0.04,
          0.02,
          0.02,
          0.02,
          0.02,
          0.02,
          0.02,
          0.02,
          0.02,
          0.02,
          0.02,
          0.02,
          0.02,
          0.02,
          0.02,
          0.02,
          0.02,
          0.02,
          0.02,
          0,
          0,
          0,
          0,
          0,
          0,
          0,
          0,
          0,
          0,
          0,
          0,
          0,
          0,
          0
         ],
         "textposition": "outside",
         "type": "bar",
         "uid": "a5956411-2fe0-4648-a9b4-05e5a4c90de6",
         "x": [
          0.18,
          0.12,
          0.12,
          0.06,
          0.04,
          0.04,
          0.04,
          0.04,
          0.02,
          0.02,
          0.02,
          0.02,
          0.02,
          0.02,
          0.02,
          0.02,
          0.02,
          0.02,
          0.02,
          0.02,
          0.02,
          0.02,
          0.02,
          0.02,
          0.02,
          0.02,
          0,
          0,
          0,
          0,
          0,
          0,
          0,
          0,
          0,
          0,
          0,
          0,
          0,
          0,
          0
         ],
         "y": [
          "url_length",
          "url_extensions",
          "url_char_w",
          "url_number_consonants",
          "url_number_digits",
          "url_words_with_length_4",
          "url_tlds",
          "url_char_z",
          "url_char_p",
          "url_extension_.net",
          "url_extension_.i",
          "url_extension_.com",
          "url_char_y",
          "url_char_x",
          "url_char_.",
          "url_char_r",
          "url_char_t",
          "url_char_o",
          "url_char_i",
          "url_char_b",
          "url_char_c",
          "url_char_n",
          "url_char_g",
          "url_char_h",
          "url_char_f",
          "url_char_m",
          "url_char_j",
          "url_char_k",
          "url_char_l",
          "url_char_v",
          "url_char_u",
          "url_char_e",
          "url_char_d",
          "url_char_s",
          "url_words_with_length_5",
          "url_words_with_length_6",
          "url_words_with_length_7",
          "url_words_with_length_8",
          "url_number_vowels",
          "url_char_a",
          "url_char_-"
         ]
        }
       ],
       "layout": {
        "autosize": false,
        "height": 1000,
        "width": 1000,
        "xaxis": {
         "tickfont": {
          "color": "black",
          "size": 12
         },
         "title": "Feature Importances"
        },
        "yaxis": {
         "automargin": true
        }
       }
      },
      "text/html": [
       "<div id=\"110a934f-dc49-490b-b9d1-06016c1207a8\" style=\"height: 1000px; width: 1000px;\" class=\"plotly-graph-div\"></div><script type=\"text/javascript\">require([\"plotly\"], function(Plotly) { window.PLOTLYENV=window.PLOTLYENV || {};window.PLOTLYENV.BASE_URL=\"https://plot.ly\";Plotly.newPlot(\"110a934f-dc49-490b-b9d1-06016c1207a8\", [{\"marker\": {\"color\": \"rgb(158,202,225)\", \"line\": {\"color\": \"rgb(8,48,107)\", \"width\": 1.5}}, \"opacity\": 0.6, \"orientation\": \"h\", \"text\": [0.18, 0.12, 0.12, 0.06, 0.04, 0.04, 0.04, 0.04, 0.02, 0.02, 0.02, 0.02, 0.02, 0.02, 0.02, 0.02, 0.02, 0.02, 0.02, 0.02, 0.02, 0.02, 0.02, 0.02, 0.02, 0.02, 0.0, 0.0, 0.0, 0.0, 0.0, 0.0, 0.0, 0.0, 0.0, 0.0, 0.0, 0.0, 0.0, 0.0, 0.0], \"textposition\": \"outside\", \"x\": [0.18, 0.12, 0.12, 0.06, 0.04, 0.04, 0.04, 0.04, 0.02, 0.02, 0.02, 0.02, 0.02, 0.02, 0.02, 0.02, 0.02, 0.02, 0.02, 0.02, 0.02, 0.02, 0.02, 0.02, 0.02, 0.02, 0.0, 0.0, 0.0, 0.0, 0.0, 0.0, 0.0, 0.0, 0.0, 0.0, 0.0, 0.0, 0.0, 0.0, 0.0], \"y\": [\"url_length\", \"url_extensions\", \"url_char_w\", \"url_number_consonants\", \"url_number_digits\", \"url_words_with_length_4\", \"url_tlds\", \"url_char_z\", \"url_char_p\", \"url_extension_.net\", \"url_extension_.i\", \"url_extension_.com\", \"url_char_y\", \"url_char_x\", \"url_char_.\", \"url_char_r\", \"url_char_t\", \"url_char_o\", \"url_char_i\", \"url_char_b\", \"url_char_c\", \"url_char_n\", \"url_char_g\", \"url_char_h\", \"url_char_f\", \"url_char_m\", \"url_char_j\", \"url_char_k\", \"url_char_l\", \"url_char_v\", \"url_char_u\", \"url_char_e\", \"url_char_d\", \"url_char_s\", \"url_words_with_length_5\", \"url_words_with_length_6\", \"url_words_with_length_7\", \"url_words_with_length_8\", \"url_number_vowels\", \"url_char_a\", \"url_char_-\"], \"type\": \"bar\", \"uid\": \"a5956411-2fe0-4648-a9b4-05e5a4c90de6\"}], {\"autosize\": false, \"height\": 1000, \"width\": 1000, \"xaxis\": {\"tickfont\": {\"color\": \"black\", \"size\": 12}, \"title\": \"Feature Importances\"}, \"yaxis\": {\"automargin\": true}}, {\"showLink\": true, \"linkText\": \"Export to plot.ly\", \"plotlyServerURL\": \"https://plot.ly\"})});</script>"
      ],
      "text/vnd.plotly.v1+html": [
       "<div id=\"110a934f-dc49-490b-b9d1-06016c1207a8\" style=\"height: 1000px; width: 1000px;\" class=\"plotly-graph-div\"></div><script type=\"text/javascript\">require([\"plotly\"], function(Plotly) { window.PLOTLYENV=window.PLOTLYENV || {};window.PLOTLYENV.BASE_URL=\"https://plot.ly\";Plotly.newPlot(\"110a934f-dc49-490b-b9d1-06016c1207a8\", [{\"marker\": {\"color\": \"rgb(158,202,225)\", \"line\": {\"color\": \"rgb(8,48,107)\", \"width\": 1.5}}, \"opacity\": 0.6, \"orientation\": \"h\", \"text\": [0.18, 0.12, 0.12, 0.06, 0.04, 0.04, 0.04, 0.04, 0.02, 0.02, 0.02, 0.02, 0.02, 0.02, 0.02, 0.02, 0.02, 0.02, 0.02, 0.02, 0.02, 0.02, 0.02, 0.02, 0.02, 0.02, 0.0, 0.0, 0.0, 0.0, 0.0, 0.0, 0.0, 0.0, 0.0, 0.0, 0.0, 0.0, 0.0, 0.0, 0.0], \"textposition\": \"outside\", \"x\": [0.18, 0.12, 0.12, 0.06, 0.04, 0.04, 0.04, 0.04, 0.02, 0.02, 0.02, 0.02, 0.02, 0.02, 0.02, 0.02, 0.02, 0.02, 0.02, 0.02, 0.02, 0.02, 0.02, 0.02, 0.02, 0.02, 0.0, 0.0, 0.0, 0.0, 0.0, 0.0, 0.0, 0.0, 0.0, 0.0, 0.0, 0.0, 0.0, 0.0, 0.0], \"y\": [\"url_length\", \"url_extensions\", \"url_char_w\", \"url_number_consonants\", \"url_number_digits\", \"url_words_with_length_4\", \"url_tlds\", \"url_char_z\", \"url_char_p\", \"url_extension_.net\", \"url_extension_.i\", \"url_extension_.com\", \"url_char_y\", \"url_char_x\", \"url_char_.\", \"url_char_r\", \"url_char_t\", \"url_char_o\", \"url_char_i\", \"url_char_b\", \"url_char_c\", \"url_char_n\", \"url_char_g\", \"url_char_h\", \"url_char_f\", \"url_char_m\", \"url_char_j\", \"url_char_k\", \"url_char_l\", \"url_char_v\", \"url_char_u\", \"url_char_e\", \"url_char_d\", \"url_char_s\", \"url_words_with_length_5\", \"url_words_with_length_6\", \"url_words_with_length_7\", \"url_words_with_length_8\", \"url_number_vowels\", \"url_char_a\", \"url_char_-\"], \"type\": \"bar\", \"uid\": \"a5956411-2fe0-4648-a9b4-05e5a4c90de6\"}], {\"autosize\": false, \"height\": 1000, \"width\": 1000, \"xaxis\": {\"tickfont\": {\"color\": \"black\", \"size\": 12}, \"title\": \"Feature Importances\"}, \"yaxis\": {\"automargin\": true}}, {\"showLink\": true, \"linkText\": \"Export to plot.ly\", \"plotlyServerURL\": \"https://plot.ly\"})});</script>"
      ]
     },
     "metadata": {},
     "output_type": "display_data"
    },
    {
     "name": "stdout",
     "output_type": "stream",
     "text": [
      "\n",
      "\n",
      "\u001b[1mGradientBoosting Classifier\u001b[0m\n",
      "Accuracy of the model for training data is: 0.9605070250458155\n",
      "Confusion Matrix for training data is:\n"
     ]
    },
    {
     "data": {
      "text/plain": [
       "Predicted  False  True  __all__\n",
       "Actual                         \n",
       "False      27617   290    27907\n",
       "True        1003  3830     4833\n",
       "__all__    28620  4120    32740"
      ]
     },
     "metadata": {},
     "output_type": "display_data"
    },
    {
     "name": "stdout",
     "output_type": "stream",
     "text": [
      "Accuracy of the model for test data is: 0.9588055021024874\n",
      "Confusion Matrix for test data is:\n"
     ]
    },
    {
     "data": {
      "text/plain": [
       "Predicted  False  True  __all__\n",
       "Actual                         \n",
       "False      11834   136    11970\n",
       "True         442  1619     2061\n",
       "__all__    12276  1755    14031"
      ]
     },
     "metadata": {},
     "output_type": "display_data"
    },
    {
     "data": {
      "application/vnd.plotly.v1+json": {
       "config": {
        "linkText": "Export to plot.ly",
        "plotlyServerURL": "https://plot.ly",
        "showLink": true
       },
       "data": [
        {
         "marker": {
          "color": "rgb(158,202,225)",
          "line": {
           "color": "rgb(8,48,107)",
           "width": 1.5
          }
         },
         "opacity": 0.6,
         "orientation": "h",
         "text": [
          0.3974,
          0.3162,
          0.083,
          0.0587,
          0.0413,
          0.0278,
          0.024,
          0.0158,
          0.0095,
          0.0068,
          0.0031,
          0.0028,
          0.0014,
          0.0012,
          0.0012,
          0.001,
          0.0009,
          0.0009,
          0.0008,
          0.0008,
          0.0007,
          0.0006,
          0.0005,
          0.0005,
          0.0005,
          0.0004,
          0.0004,
          0.0004,
          0.0003,
          0.0003,
          0.0002,
          0.0002,
          0.0001,
          0.0001,
          0.0001,
          0.0001,
          0,
          0,
          0,
          0,
          0
         ],
         "textposition": "outside",
         "type": "bar",
         "uid": "4507943b-a0c6-4d14-8a6c-1ae1223644fa",
         "x": [
          0.3974311418423931,
          0.31615046707604216,
          0.08299970329879258,
          0.05865234926460552,
          0.04132937471989882,
          0.02781326430292675,
          0.024021821551837557,
          0.015775889173949433,
          0.00949991638497468,
          0.00677723021700487,
          0.0030724527804212656,
          0.002783945364030661,
          0.0013531993272099584,
          0.001189280122071157,
          0.0011762002727930647,
          0.0009704348589812581,
          0.0009386588945482136,
          0.0009156101196712795,
          0.000816169467908165,
          0.0007990527622081585,
          0.0006863488908444846,
          0.0006382706120663305,
          0.0005466136355033797,
          0.0005108478131271485,
          0.0004582751478131519,
          0.00043919063032063857,
          0.0004336301288696424,
          0.0004244502314623023,
          0.00026066047045049276,
          0.00025937365126769843,
          0.00021261606057760494,
          0.00020915114267186448,
          0.00012920870174412132,
          9.596814312280714e-05,
          7.570511804596841e-05,
          5.247330393520039e-05,
          4.1216669860488516e-05,
          3.666175891455277e-05,
          2.3176087133622806e-05,
          0,
          0
         ],
         "y": [
          "url_extensions",
          "url_length",
          "url_char_.",
          "url_char_w",
          "url_number_digits",
          "url_extension_.com",
          "url_char_z",
          "url_tlds",
          "url_words_with_length_4",
          "url_number_consonants",
          "url_char_b",
          "url_number_vowels",
          "url_char_f",
          "url_char_-",
          "url_char_y",
          "url_char_p",
          "url_extension_.i",
          "url_char_o",
          "url_char_l",
          "url_char_i",
          "url_char_h",
          "url_char_m",
          "url_char_r",
          "url_char_x",
          "url_char_j",
          "url_char_d",
          "url_char_c",
          "url_char_u",
          "url_extension_.net",
          "url_char_t",
          "url_char_s",
          "url_char_v",
          "url_words_with_length_5",
          "url_char_a",
          "url_char_e",
          "url_words_with_length_6",
          "url_char_g",
          "url_words_with_length_7",
          "url_char_k",
          "url_words_with_length_8",
          "url_char_n"
         ]
        }
       ],
       "layout": {
        "autosize": false,
        "height": 1000,
        "width": 1000,
        "xaxis": {
         "tickfont": {
          "color": "black",
          "size": 12
         },
         "title": "Feature Importances"
        },
        "yaxis": {
         "automargin": true
        }
       }
      },
      "text/html": [
       "<div id=\"30476758-e854-4788-8282-dde6fdc29744\" style=\"height: 1000px; width: 1000px;\" class=\"plotly-graph-div\"></div><script type=\"text/javascript\">require([\"plotly\"], function(Plotly) { window.PLOTLYENV=window.PLOTLYENV || {};window.PLOTLYENV.BASE_URL=\"https://plot.ly\";Plotly.newPlot(\"30476758-e854-4788-8282-dde6fdc29744\", [{\"marker\": {\"color\": \"rgb(158,202,225)\", \"line\": {\"color\": \"rgb(8,48,107)\", \"width\": 1.5}}, \"opacity\": 0.6, \"orientation\": \"h\", \"text\": [0.3974, 0.3162, 0.083, 0.0587, 0.0413, 0.0278, 0.024, 0.0158, 0.0095, 0.0068, 0.0031, 0.0028, 0.0014, 0.0012, 0.0012, 0.001, 0.0009, 0.0009, 0.0008, 0.0008, 0.0007, 0.0006, 0.0005, 0.0005, 0.0005, 0.0004, 0.0004, 0.0004, 0.0003, 0.0003, 0.0002, 0.0002, 0.0001, 0.0001, 0.0001, 0.0001, 0.0, 0.0, 0.0, 0.0, 0.0], \"textposition\": \"outside\", \"x\": [0.3974311418423931, 0.31615046707604216, 0.08299970329879258, 0.05865234926460552, 0.04132937471989882, 0.02781326430292675, 0.024021821551837557, 0.015775889173949433, 0.00949991638497468, 0.00677723021700487, 0.0030724527804212656, 0.002783945364030661, 0.0013531993272099584, 0.001189280122071157, 0.0011762002727930647, 0.0009704348589812581, 0.0009386588945482136, 0.0009156101196712795, 0.000816169467908165, 0.0007990527622081585, 0.0006863488908444846, 0.0006382706120663305, 0.0005466136355033797, 0.0005108478131271485, 0.0004582751478131519, 0.00043919063032063857, 0.0004336301288696424, 0.0004244502314623023, 0.00026066047045049276, 0.00025937365126769843, 0.00021261606057760494, 0.00020915114267186448, 0.00012920870174412132, 9.596814312280714e-05, 7.570511804596841e-05, 5.247330393520039e-05, 4.1216669860488516e-05, 3.666175891455277e-05, 2.3176087133622806e-05, 0.0, 0.0], \"y\": [\"url_extensions\", \"url_length\", \"url_char_.\", \"url_char_w\", \"url_number_digits\", \"url_extension_.com\", \"url_char_z\", \"url_tlds\", \"url_words_with_length_4\", \"url_number_consonants\", \"url_char_b\", \"url_number_vowels\", \"url_char_f\", \"url_char_-\", \"url_char_y\", \"url_char_p\", \"url_extension_.i\", \"url_char_o\", \"url_char_l\", \"url_char_i\", \"url_char_h\", \"url_char_m\", \"url_char_r\", \"url_char_x\", \"url_char_j\", \"url_char_d\", \"url_char_c\", \"url_char_u\", \"url_extension_.net\", \"url_char_t\", \"url_char_s\", \"url_char_v\", \"url_words_with_length_5\", \"url_char_a\", \"url_char_e\", \"url_words_with_length_6\", \"url_char_g\", \"url_words_with_length_7\", \"url_char_k\", \"url_words_with_length_8\", \"url_char_n\"], \"type\": \"bar\", \"uid\": \"4507943b-a0c6-4d14-8a6c-1ae1223644fa\"}], {\"autosize\": false, \"height\": 1000, \"width\": 1000, \"xaxis\": {\"tickfont\": {\"color\": \"black\", \"size\": 12}, \"title\": \"Feature Importances\"}, \"yaxis\": {\"automargin\": true}}, {\"showLink\": true, \"linkText\": \"Export to plot.ly\", \"plotlyServerURL\": \"https://plot.ly\"})});</script>"
      ],
      "text/vnd.plotly.v1+html": [
       "<div id=\"30476758-e854-4788-8282-dde6fdc29744\" style=\"height: 1000px; width: 1000px;\" class=\"plotly-graph-div\"></div><script type=\"text/javascript\">require([\"plotly\"], function(Plotly) { window.PLOTLYENV=window.PLOTLYENV || {};window.PLOTLYENV.BASE_URL=\"https://plot.ly\";Plotly.newPlot(\"30476758-e854-4788-8282-dde6fdc29744\", [{\"marker\": {\"color\": \"rgb(158,202,225)\", \"line\": {\"color\": \"rgb(8,48,107)\", \"width\": 1.5}}, \"opacity\": 0.6, \"orientation\": \"h\", \"text\": [0.3974, 0.3162, 0.083, 0.0587, 0.0413, 0.0278, 0.024, 0.0158, 0.0095, 0.0068, 0.0031, 0.0028, 0.0014, 0.0012, 0.0012, 0.001, 0.0009, 0.0009, 0.0008, 0.0008, 0.0007, 0.0006, 0.0005, 0.0005, 0.0005, 0.0004, 0.0004, 0.0004, 0.0003, 0.0003, 0.0002, 0.0002, 0.0001, 0.0001, 0.0001, 0.0001, 0.0, 0.0, 0.0, 0.0, 0.0], \"textposition\": \"outside\", \"x\": [0.3974311418423931, 0.31615046707604216, 0.08299970329879258, 0.05865234926460552, 0.04132937471989882, 0.02781326430292675, 0.024021821551837557, 0.015775889173949433, 0.00949991638497468, 0.00677723021700487, 0.0030724527804212656, 0.002783945364030661, 0.0013531993272099584, 0.001189280122071157, 0.0011762002727930647, 0.0009704348589812581, 0.0009386588945482136, 0.0009156101196712795, 0.000816169467908165, 0.0007990527622081585, 0.0006863488908444846, 0.0006382706120663305, 0.0005466136355033797, 0.0005108478131271485, 0.0004582751478131519, 0.00043919063032063857, 0.0004336301288696424, 0.0004244502314623023, 0.00026066047045049276, 0.00025937365126769843, 0.00021261606057760494, 0.00020915114267186448, 0.00012920870174412132, 9.596814312280714e-05, 7.570511804596841e-05, 5.247330393520039e-05, 4.1216669860488516e-05, 3.666175891455277e-05, 2.3176087133622806e-05, 0.0, 0.0], \"y\": [\"url_extensions\", \"url_length\", \"url_char_.\", \"url_char_w\", \"url_number_digits\", \"url_extension_.com\", \"url_char_z\", \"url_tlds\", \"url_words_with_length_4\", \"url_number_consonants\", \"url_char_b\", \"url_number_vowels\", \"url_char_f\", \"url_char_-\", \"url_char_y\", \"url_char_p\", \"url_extension_.i\", \"url_char_o\", \"url_char_l\", \"url_char_i\", \"url_char_h\", \"url_char_m\", \"url_char_r\", \"url_char_x\", \"url_char_j\", \"url_char_d\", \"url_char_c\", \"url_char_u\", \"url_extension_.net\", \"url_char_t\", \"url_char_s\", \"url_char_v\", \"url_words_with_length_5\", \"url_char_a\", \"url_char_e\", \"url_words_with_length_6\", \"url_char_g\", \"url_words_with_length_7\", \"url_char_k\", \"url_words_with_length_8\", \"url_char_n\"], \"type\": \"bar\", \"uid\": \"4507943b-a0c6-4d14-8a6c-1ae1223644fa\"}], {\"autosize\": false, \"height\": 1000, \"width\": 1000, \"xaxis\": {\"tickfont\": {\"color\": \"black\", \"size\": 12}, \"title\": \"Feature Importances\"}, \"yaxis\": {\"automargin\": true}}, {\"showLink\": true, \"linkText\": \"Export to plot.ly\", \"plotlyServerURL\": \"https://plot.ly\"})});</script>"
      ]
     },
     "metadata": {},
     "output_type": "display_data"
    },
    {
     "name": "stdout",
     "output_type": "stream",
     "text": [
      "\n",
      "\n",
      "\u001b[1mExtraTree Classifier\u001b[0m\n",
      "Accuracy of the model for training data is: 1.0\n",
      "Confusion Matrix for training data is:\n"
     ]
    },
    {
     "data": {
      "text/plain": [
       "Predicted  False  True  __all__\n",
       "Actual                         \n",
       "False      27907     0    27907\n",
       "True           0  4833     4833\n",
       "__all__    27907  4833    32740"
      ]
     },
     "metadata": {},
     "output_type": "display_data"
    },
    {
     "name": "stdout",
     "output_type": "stream",
     "text": [
      "Accuracy of the model for test data is: 0.9642933504383152\n",
      "Confusion Matrix for test data is:\n"
     ]
    },
    {
     "data": {
      "text/plain": [
       "Predicted  False  True  __all__\n",
       "Actual                         \n",
       "False      11903    67    11970\n",
       "True         434  1627     2061\n",
       "__all__    12337  1694    14031"
      ]
     },
     "metadata": {},
     "output_type": "display_data"
    },
    {
     "data": {
      "application/vnd.plotly.v1+json": {
       "config": {
        "linkText": "Export to plot.ly",
        "plotlyServerURL": "https://plot.ly",
        "showLink": true
       },
       "data": [
        {
         "marker": {
          "color": "rgb(158,202,225)",
          "line": {
           "color": "rgb(8,48,107)",
           "width": 1.5
          }
         },
         "opacity": 0.6,
         "orientation": "h",
         "text": [
          0.1399,
          0.1023,
          0.0789,
          0.0606,
          0.0566,
          0.0358,
          0.0339,
          0.03,
          0.03,
          0.029,
          0.0251,
          0.0221,
          0.0212,
          0.0206,
          0.0193,
          0.0168,
          0.0159,
          0.0155,
          0.015,
          0.0144,
          0.0139,
          0.0134,
          0.0133,
          0.013,
          0.0123,
          0.0123,
          0.012,
          0.0119,
          0.0117,
          0.0113,
          0.011,
          0.0105,
          0.0105,
          0.0093,
          0.0093,
          0.0087,
          0.0082,
          0.0079,
          0.007,
          0.0053,
          0.0042
         ],
         "textposition": "outside",
         "type": "bar",
         "uid": "6ed9939f-1322-4fee-bad3-db86b6cb69c1",
         "x": [
          0.13988553044089883,
          0.10226941376868948,
          0.07886629459526215,
          0.06064358700144844,
          0.05657977867786237,
          0.035770897376523426,
          0.033868003637357966,
          0.029977797070624795,
          0.0299576619606828,
          0.028958138220291856,
          0.025132250049151806,
          0.022147827412340775,
          0.021179561162190254,
          0.020560548475792806,
          0.019290494763479025,
          0.01677330729441377,
          0.015938529493015895,
          0.015534951332763659,
          0.015001185367777578,
          0.014412561503636298,
          0.013934407822927644,
          0.013445120776002763,
          0.013328537501019219,
          0.013031998492609507,
          0.012334501592134015,
          0.01229729408179005,
          0.011982932145849275,
          0.011931837691990913,
          0.011715756188666684,
          0.011291660096120825,
          0.010957696882221871,
          0.010534363051013807,
          0.010469382476992578,
          0.00930809194834973,
          0.009262626401635115,
          0.008748935976364006,
          0.008222106398808647,
          0.007881661874491127,
          0.0069786606695144155,
          0.005347940871790627,
          0.004246167455503132
         ],
         "y": [
          "url_char_.",
          "url_extensions",
          "url_length",
          "url_char_w",
          "url_number_digits",
          "url_number_vowels",
          "url_number_consonants",
          "url_char_z",
          "url_char_i",
          "url_char_y",
          "url_tlds",
          "url_char_e",
          "url_char_b",
          "url_extension_.com",
          "url_words_with_length_4",
          "url_char_s",
          "url_char_p",
          "url_char_o",
          "url_char_f",
          "url_char_u",
          "url_char_l",
          "url_char_n",
          "url_char_c",
          "url_char_d",
          "url_char_t",
          "url_char_a",
          "url_char_x",
          "url_char_r",
          "url_words_with_length_5",
          "url_char_m",
          "url_char_h",
          "url_char_k",
          "url_words_with_length_6",
          "url_words_with_length_7",
          "url_char_g",
          "url_char_-",
          "url_char_v",
          "url_words_with_length_8",
          "url_char_j",
          "url_extension_.i",
          "url_extension_.net"
         ]
        }
       ],
       "layout": {
        "autosize": false,
        "height": 1000,
        "width": 1000,
        "xaxis": {
         "tickfont": {
          "color": "black",
          "size": 12
         },
         "title": "Feature Importances"
        },
        "yaxis": {
         "automargin": true
        }
       }
      },
      "text/html": [
       "<div id=\"8c3ccd66-b816-410b-8a1b-c7a95d96f470\" style=\"height: 1000px; width: 1000px;\" class=\"plotly-graph-div\"></div><script type=\"text/javascript\">require([\"plotly\"], function(Plotly) { window.PLOTLYENV=window.PLOTLYENV || {};window.PLOTLYENV.BASE_URL=\"https://plot.ly\";Plotly.newPlot(\"8c3ccd66-b816-410b-8a1b-c7a95d96f470\", [{\"marker\": {\"color\": \"rgb(158,202,225)\", \"line\": {\"color\": \"rgb(8,48,107)\", \"width\": 1.5}}, \"opacity\": 0.6, \"orientation\": \"h\", \"text\": [0.1399, 0.1023, 0.0789, 0.0606, 0.0566, 0.0358, 0.0339, 0.03, 0.03, 0.029, 0.0251, 0.0221, 0.0212, 0.0206, 0.0193, 0.0168, 0.0159, 0.0155, 0.015, 0.0144, 0.0139, 0.0134, 0.0133, 0.013, 0.0123, 0.0123, 0.012, 0.0119, 0.0117, 0.0113, 0.011, 0.0105, 0.0105, 0.0093, 0.0093, 0.0087, 0.0082, 0.0079, 0.007, 0.0053, 0.0042], \"textposition\": \"outside\", \"x\": [0.13988553044089883, 0.10226941376868948, 0.07886629459526215, 0.06064358700144844, 0.05657977867786237, 0.035770897376523426, 0.033868003637357966, 0.029977797070624795, 0.0299576619606828, 0.028958138220291856, 0.025132250049151806, 0.022147827412340775, 0.021179561162190254, 0.020560548475792806, 0.019290494763479025, 0.01677330729441377, 0.015938529493015895, 0.015534951332763659, 0.015001185367777578, 0.014412561503636298, 0.013934407822927644, 0.013445120776002763, 0.013328537501019219, 0.013031998492609507, 0.012334501592134015, 0.01229729408179005, 0.011982932145849275, 0.011931837691990913, 0.011715756188666684, 0.011291660096120825, 0.010957696882221871, 0.010534363051013807, 0.010469382476992578, 0.00930809194834973, 0.009262626401635115, 0.008748935976364006, 0.008222106398808647, 0.007881661874491127, 0.0069786606695144155, 0.005347940871790627, 0.004246167455503132], \"y\": [\"url_char_.\", \"url_extensions\", \"url_length\", \"url_char_w\", \"url_number_digits\", \"url_number_vowels\", \"url_number_consonants\", \"url_char_z\", \"url_char_i\", \"url_char_y\", \"url_tlds\", \"url_char_e\", \"url_char_b\", \"url_extension_.com\", \"url_words_with_length_4\", \"url_char_s\", \"url_char_p\", \"url_char_o\", \"url_char_f\", \"url_char_u\", \"url_char_l\", \"url_char_n\", \"url_char_c\", \"url_char_d\", \"url_char_t\", \"url_char_a\", \"url_char_x\", \"url_char_r\", \"url_words_with_length_5\", \"url_char_m\", \"url_char_h\", \"url_char_k\", \"url_words_with_length_6\", \"url_words_with_length_7\", \"url_char_g\", \"url_char_-\", \"url_char_v\", \"url_words_with_length_8\", \"url_char_j\", \"url_extension_.i\", \"url_extension_.net\"], \"type\": \"bar\", \"uid\": \"6ed9939f-1322-4fee-bad3-db86b6cb69c1\"}], {\"autosize\": false, \"height\": 1000, \"width\": 1000, \"xaxis\": {\"tickfont\": {\"color\": \"black\", \"size\": 12}, \"title\": \"Feature Importances\"}, \"yaxis\": {\"automargin\": true}}, {\"showLink\": true, \"linkText\": \"Export to plot.ly\", \"plotlyServerURL\": \"https://plot.ly\"})});</script>"
      ],
      "text/vnd.plotly.v1+html": [
       "<div id=\"8c3ccd66-b816-410b-8a1b-c7a95d96f470\" style=\"height: 1000px; width: 1000px;\" class=\"plotly-graph-div\"></div><script type=\"text/javascript\">require([\"plotly\"], function(Plotly) { window.PLOTLYENV=window.PLOTLYENV || {};window.PLOTLYENV.BASE_URL=\"https://plot.ly\";Plotly.newPlot(\"8c3ccd66-b816-410b-8a1b-c7a95d96f470\", [{\"marker\": {\"color\": \"rgb(158,202,225)\", \"line\": {\"color\": \"rgb(8,48,107)\", \"width\": 1.5}}, \"opacity\": 0.6, \"orientation\": \"h\", \"text\": [0.1399, 0.1023, 0.0789, 0.0606, 0.0566, 0.0358, 0.0339, 0.03, 0.03, 0.029, 0.0251, 0.0221, 0.0212, 0.0206, 0.0193, 0.0168, 0.0159, 0.0155, 0.015, 0.0144, 0.0139, 0.0134, 0.0133, 0.013, 0.0123, 0.0123, 0.012, 0.0119, 0.0117, 0.0113, 0.011, 0.0105, 0.0105, 0.0093, 0.0093, 0.0087, 0.0082, 0.0079, 0.007, 0.0053, 0.0042], \"textposition\": \"outside\", \"x\": [0.13988553044089883, 0.10226941376868948, 0.07886629459526215, 0.06064358700144844, 0.05657977867786237, 0.035770897376523426, 0.033868003637357966, 0.029977797070624795, 0.0299576619606828, 0.028958138220291856, 0.025132250049151806, 0.022147827412340775, 0.021179561162190254, 0.020560548475792806, 0.019290494763479025, 0.01677330729441377, 0.015938529493015895, 0.015534951332763659, 0.015001185367777578, 0.014412561503636298, 0.013934407822927644, 0.013445120776002763, 0.013328537501019219, 0.013031998492609507, 0.012334501592134015, 0.01229729408179005, 0.011982932145849275, 0.011931837691990913, 0.011715756188666684, 0.011291660096120825, 0.010957696882221871, 0.010534363051013807, 0.010469382476992578, 0.00930809194834973, 0.009262626401635115, 0.008748935976364006, 0.008222106398808647, 0.007881661874491127, 0.0069786606695144155, 0.005347940871790627, 0.004246167455503132], \"y\": [\"url_char_.\", \"url_extensions\", \"url_length\", \"url_char_w\", \"url_number_digits\", \"url_number_vowels\", \"url_number_consonants\", \"url_char_z\", \"url_char_i\", \"url_char_y\", \"url_tlds\", \"url_char_e\", \"url_char_b\", \"url_extension_.com\", \"url_words_with_length_4\", \"url_char_s\", \"url_char_p\", \"url_char_o\", \"url_char_f\", \"url_char_u\", \"url_char_l\", \"url_char_n\", \"url_char_c\", \"url_char_d\", \"url_char_t\", \"url_char_a\", \"url_char_x\", \"url_char_r\", \"url_words_with_length_5\", \"url_char_m\", \"url_char_h\", \"url_char_k\", \"url_words_with_length_6\", \"url_words_with_length_7\", \"url_char_g\", \"url_char_-\", \"url_char_v\", \"url_words_with_length_8\", \"url_char_j\", \"url_extension_.i\", \"url_extension_.net\"], \"type\": \"bar\", \"uid\": \"6ed9939f-1322-4fee-bad3-db86b6cb69c1\"}], {\"autosize\": false, \"height\": 1000, \"width\": 1000, \"xaxis\": {\"tickfont\": {\"color\": \"black\", \"size\": 12}, \"title\": \"Feature Importances\"}, \"yaxis\": {\"automargin\": true}}, {\"showLink\": true, \"linkText\": \"Export to plot.ly\", \"plotlyServerURL\": \"https://plot.ly\"})});</script>"
      ]
     },
     "metadata": {},
     "output_type": "display_data"
    },
    {
     "name": "stdout",
     "output_type": "stream",
     "text": [
      "\n",
      "\n",
      "\u001b[1mBagging Classifier\u001b[0m\n",
      "Accuracy of the model for training data is: 0.9942577886377519\n",
      "Confusion Matrix for training data is:\n"
     ]
    },
    {
     "data": {
      "text/plain": [
       "Predicted  False  True  __all__\n",
       "Actual                         \n",
       "False      27901     6    27907\n",
       "True         182  4651     4833\n",
       "__all__    28083  4657    32740"
      ]
     },
     "metadata": {},
     "output_type": "display_data"
    },
    {
     "name": "stdout",
     "output_type": "stream",
     "text": [
      "Accuracy of the model for test data is: 0.9635806428622337\n",
      "Confusion Matrix for test data is:\n"
     ]
    },
    {
     "data": {
      "text/plain": [
       "Predicted  False  True  __all__\n",
       "Actual                         \n",
       "False      11864   106    11970\n",
       "True         405  1656     2061\n",
       "__all__    12269  1762    14031"
      ]
     },
     "metadata": {},
     "output_type": "display_data"
    },
    {
     "name": "stdout",
     "output_type": "stream",
     "text": [
      "\n",
      "\n",
      "\u001b[1mNeural Network-1\u001b[0m\n",
      "The accuracy of the model on training data is: 0.9972816127061698\n"
     ]
    },
    {
     "data": {
      "text/plain": [
       "Predicted  False  True  __all__\n",
       "Actual                         \n",
       "False      27902     5    27907\n",
       "True          84  4749     4833\n",
       "__all__    27986  4754    32740"
      ]
     },
     "metadata": {},
     "output_type": "display_data"
    },
    {
     "name": "stdout",
     "output_type": "stream",
     "text": [
      "The accuracy of the model on test data is: 0.9508944480079823\n"
     ]
    },
    {
     "data": {
      "text/plain": [
       "Predicted  False  True  __all__\n",
       "Actual                         \n",
       "False      11666   304    11970\n",
       "True         385  1676     2061\n",
       "__all__    12051  1980    14031"
      ]
     },
     "metadata": {},
     "output_type": "display_data"
    },
    {
     "name": "stdout",
     "output_type": "stream",
     "text": [
      "\n",
      "\n"
     ]
    }
   ],
   "source": [
    "feat_imp=[None]*4\n",
    "j=0\n",
    "for i in range(0,8):\n",
    "    if i>=2 and i<=5:\n",
    "        model,cm_train,cm_test,acc_train,acc_test,roc_auc,feat_imp[j],mcc=f[i](scaled_X_train,train_Y,scaled_X_test,test_Y,columns)\n",
    "        j=j+1\n",
    "    else:\n",
    "        model,cm_train,cm_test,acc_train,acc_test,roc_auc,mcc=f[i](scaled_X_train,train_Y,scaled_X_test,test_Y)\n",
    "    table_80_50_train.loc[i]=   ([acc_train,cm_train.TP,cm_train.TN,cm_train.FP,cm_train.FN,cm_train.FPR,cm_train.FNR])\n",
    "    table_80_50_test.loc[i] =   ([acc_test ,cm_test.TP, cm_test.TN, cm_test.FP, cm_test.FN, cm_test.FPR, cm_test.FNR,roc_auc,mcc])\n",
    "    print(\"\\n\")"
   ]
  },
  {
   "cell_type": "markdown",
   "metadata": {},
   "source": [
    "### <a id='1.A' style=\"text-decoration : none; color : #000000;\"> A Results</a>"
   ]
  },
  {
   "cell_type": "code",
   "execution_count": 22,
   "metadata": {},
   "outputs": [
    {
     "data": {
      "application/vnd.plotly.v1+json": {
       "config": {
        "linkText": "Export to plot.ly",
        "plotlyServerURL": "https://plot.ly",
        "showLink": true
       },
       "data": [
        {
         "mode": "lines",
         "name": "KNN_model",
         "type": "scatter",
         "uid": "9ec1f757-a389-4aba-a00c-2296ae879e8c",
         "x": [
          "accuracy",
          "FPR",
          "FNR",
          "auc"
         ],
         "y": [
          0.9579502530111895,
          0.0023391812865497076,
          0.2726831635128578,
          0.8624888276002962
         ]
        },
        {
         "mode": "lines+markers",
         "name": "Logistic Regression",
         "type": "scatter",
         "uid": "d55c2333-d5bd-4bb6-bda3-7a73ba9702ec",
         "x": [
          "accuracy",
          "FPR",
          "FNR",
          "auc"
         ],
         "y": [
          0.9522485924025372,
          0.013283208020050126,
          0.24793789422610382,
          0.8693894488769232
         ]
        },
        {
         "marker": {
          "symbol": "x"
         },
         "mode": "lines+markers",
         "name": "Random Forest",
         "type": "scatter",
         "uid": "93ddd50a-6395-4665-9bab-be2935500ada",
         "x": [
          "accuracy",
          "FPR",
          "FNR",
          "auc"
         ],
         "y": [
          0.9635806428622337,
          0.00760233918128655,
          0.20378457059679767,
          0.894306545110958
         ]
        },
        {
         "mode": "lines",
         "name": "Ada Boost",
         "type": "scatter",
         "uid": "9d27a4d6-8220-4ed3-b039-fecab05dba5d",
         "x": [
          "accuracy",
          "FPR",
          "FNR",
          "auc"
         ],
         "y": [
          0.9475447224003991,
          0.015121136173767752,
          0.2692867540029112,
          0.8577960549116604
         ]
        },
        {
         "mode": "lines+markers",
         "name": "GradientBoosting",
         "type": "scatter",
         "uid": "ff6ad5fa-f884-49cb-a67c-78f9a3dd525d",
         "x": [
          "accuracy",
          "FPR",
          "FNR",
          "auc"
         ],
         "y": [
          0.9588055021024874,
          0.011361737677527151,
          0.21445900048520136,
          0.8870896309186358
         ]
        },
        {
         "marker": {
          "symbol": "x"
         },
         "mode": "lines+markers",
         "name": "ExtraTree Classifier",
         "type": "scatter",
         "uid": "018a5bf4-608b-474d-9959-cdbf07b4cd75",
         "x": [
          "accuracy",
          "FPR",
          "FNR",
          "auc"
         ],
         "y": [
          0.9642933504383152,
          0.005597326649958229,
          0.21057738961669092,
          0.8919126418666754
         ]
        },
        {
         "marker": {
          "symbol": "x"
         },
         "mode": "lines+markers",
         "name": "Bagging",
         "type": "scatter",
         "uid": "94334ba7-f8da-448d-a24f-a4553d88faec",
         "x": [
          "accuracy",
          "FPR",
          "FNR",
          "auc"
         ],
         "y": [
          0.9635806428622337,
          0.00885547201336675,
          0.1965065502183406,
          0.8973189888841463
         ]
        },
        {
         "marker": {
          "symbol": "x"
         },
         "mode": "lines+markers",
         "name": "Neural Network",
         "type": "scatter",
         "uid": "1bc7a667-f2c0-4a6c-9db4-15072b013514",
         "x": [
          "accuracy",
          "FPR",
          "FNR",
          "auc"
         ],
         "y": [
          0.9508944480079823,
          0.025396825396825397,
          0.18680252304706454,
          0.893900325778055
         ]
        }
       ],
       "layout": {
        "title": "Result comparision for Features selected in Section 1",
        "yaxis": {
         "dtick": 0.05,
         "tick0": 0
        }
       }
      },
      "text/html": [
       "<div id=\"fde14d07-d070-4ed2-8096-42ca087708e3\" style=\"height: 525px; width: 100%;\" class=\"plotly-graph-div\"></div><script type=\"text/javascript\">require([\"plotly\"], function(Plotly) { window.PLOTLYENV=window.PLOTLYENV || {};window.PLOTLYENV.BASE_URL=\"https://plot.ly\";Plotly.newPlot(\"fde14d07-d070-4ed2-8096-42ca087708e3\", [{\"mode\": \"lines\", \"name\": \"KNN_model\", \"x\": [\"accuracy\", \"FPR\", \"FNR\", \"auc\"], \"y\": [0.9579502530111895, 0.0023391812865497076, 0.2726831635128578, 0.8624888276002962], \"type\": \"scatter\", \"uid\": \"9ec1f757-a389-4aba-a00c-2296ae879e8c\"}, {\"mode\": \"lines+markers\", \"name\": \"Logistic Regression\", \"x\": [\"accuracy\", \"FPR\", \"FNR\", \"auc\"], \"y\": [0.9522485924025372, 0.013283208020050126, 0.24793789422610382, 0.8693894488769232], \"type\": \"scatter\", \"uid\": \"d55c2333-d5bd-4bb6-bda3-7a73ba9702ec\"}, {\"marker\": {\"symbol\": \"x\"}, \"mode\": \"lines+markers\", \"name\": \"Random Forest\", \"x\": [\"accuracy\", \"FPR\", \"FNR\", \"auc\"], \"y\": [0.9635806428622337, 0.00760233918128655, 0.20378457059679767, 0.894306545110958], \"type\": \"scatter\", \"uid\": \"93ddd50a-6395-4665-9bab-be2935500ada\"}, {\"mode\": \"lines\", \"name\": \"Ada Boost\", \"x\": [\"accuracy\", \"FPR\", \"FNR\", \"auc\"], \"y\": [0.9475447224003991, 0.015121136173767752, 0.2692867540029112, 0.8577960549116604], \"type\": \"scatter\", \"uid\": \"9d27a4d6-8220-4ed3-b039-fecab05dba5d\"}, {\"mode\": \"lines+markers\", \"name\": \"GradientBoosting\", \"x\": [\"accuracy\", \"FPR\", \"FNR\", \"auc\"], \"y\": [0.9588055021024874, 0.011361737677527151, 0.21445900048520136, 0.8870896309186358], \"type\": \"scatter\", \"uid\": \"ff6ad5fa-f884-49cb-a67c-78f9a3dd525d\"}, {\"marker\": {\"symbol\": \"x\"}, \"mode\": \"lines+markers\", \"name\": \"ExtraTree Classifier\", \"x\": [\"accuracy\", \"FPR\", \"FNR\", \"auc\"], \"y\": [0.9642933504383152, 0.005597326649958229, 0.21057738961669092, 0.8919126418666754], \"type\": \"scatter\", \"uid\": \"018a5bf4-608b-474d-9959-cdbf07b4cd75\"}, {\"marker\": {\"symbol\": \"x\"}, \"mode\": \"lines+markers\", \"name\": \"Bagging\", \"x\": [\"accuracy\", \"FPR\", \"FNR\", \"auc\"], \"y\": [0.9635806428622337, 0.00885547201336675, 0.1965065502183406, 0.8973189888841463], \"type\": \"scatter\", \"uid\": \"94334ba7-f8da-448d-a24f-a4553d88faec\"}, {\"marker\": {\"symbol\": \"x\"}, \"mode\": \"lines+markers\", \"name\": \"Neural Network\", \"x\": [\"accuracy\", \"FPR\", \"FNR\", \"auc\"], \"y\": [0.9508944480079823, 0.025396825396825397, 0.18680252304706454, 0.893900325778055], \"type\": \"scatter\", \"uid\": \"1bc7a667-f2c0-4a6c-9db4-15072b013514\"}], {\"title\": \"Result comparision for Features selected in Section 1\", \"yaxis\": {\"dtick\": 0.05, \"tick0\": 0}}, {\"showLink\": true, \"linkText\": \"Export to plot.ly\", \"plotlyServerURL\": \"https://plot.ly\"})});</script><script type=\"text/javascript\">window.addEventListener(\"resize\", function(){window._Plotly.Plots.resize(document.getElementById(\"fde14d07-d070-4ed2-8096-42ca087708e3\"));});</script>"
      ],
      "text/vnd.plotly.v1+html": [
       "<div id=\"fde14d07-d070-4ed2-8096-42ca087708e3\" style=\"height: 525px; width: 100%;\" class=\"plotly-graph-div\"></div><script type=\"text/javascript\">require([\"plotly\"], function(Plotly) { window.PLOTLYENV=window.PLOTLYENV || {};window.PLOTLYENV.BASE_URL=\"https://plot.ly\";Plotly.newPlot(\"fde14d07-d070-4ed2-8096-42ca087708e3\", [{\"mode\": \"lines\", \"name\": \"KNN_model\", \"x\": [\"accuracy\", \"FPR\", \"FNR\", \"auc\"], \"y\": [0.9579502530111895, 0.0023391812865497076, 0.2726831635128578, 0.8624888276002962], \"type\": \"scatter\", \"uid\": \"9ec1f757-a389-4aba-a00c-2296ae879e8c\"}, {\"mode\": \"lines+markers\", \"name\": \"Logistic Regression\", \"x\": [\"accuracy\", \"FPR\", \"FNR\", \"auc\"], \"y\": [0.9522485924025372, 0.013283208020050126, 0.24793789422610382, 0.8693894488769232], \"type\": \"scatter\", \"uid\": \"d55c2333-d5bd-4bb6-bda3-7a73ba9702ec\"}, {\"marker\": {\"symbol\": \"x\"}, \"mode\": \"lines+markers\", \"name\": \"Random Forest\", \"x\": [\"accuracy\", \"FPR\", \"FNR\", \"auc\"], \"y\": [0.9635806428622337, 0.00760233918128655, 0.20378457059679767, 0.894306545110958], \"type\": \"scatter\", \"uid\": \"93ddd50a-6395-4665-9bab-be2935500ada\"}, {\"mode\": \"lines\", \"name\": \"Ada Boost\", \"x\": [\"accuracy\", \"FPR\", \"FNR\", \"auc\"], \"y\": [0.9475447224003991, 0.015121136173767752, 0.2692867540029112, 0.8577960549116604], \"type\": \"scatter\", \"uid\": \"9d27a4d6-8220-4ed3-b039-fecab05dba5d\"}, {\"mode\": \"lines+markers\", \"name\": \"GradientBoosting\", \"x\": [\"accuracy\", \"FPR\", \"FNR\", \"auc\"], \"y\": [0.9588055021024874, 0.011361737677527151, 0.21445900048520136, 0.8870896309186358], \"type\": \"scatter\", \"uid\": \"ff6ad5fa-f884-49cb-a67c-78f9a3dd525d\"}, {\"marker\": {\"symbol\": \"x\"}, \"mode\": \"lines+markers\", \"name\": \"ExtraTree Classifier\", \"x\": [\"accuracy\", \"FPR\", \"FNR\", \"auc\"], \"y\": [0.9642933504383152, 0.005597326649958229, 0.21057738961669092, 0.8919126418666754], \"type\": \"scatter\", \"uid\": \"018a5bf4-608b-474d-9959-cdbf07b4cd75\"}, {\"marker\": {\"symbol\": \"x\"}, \"mode\": \"lines+markers\", \"name\": \"Bagging\", \"x\": [\"accuracy\", \"FPR\", \"FNR\", \"auc\"], \"y\": [0.9635806428622337, 0.00885547201336675, 0.1965065502183406, 0.8973189888841463], \"type\": \"scatter\", \"uid\": \"94334ba7-f8da-448d-a24f-a4553d88faec\"}, {\"marker\": {\"symbol\": \"x\"}, \"mode\": \"lines+markers\", \"name\": \"Neural Network\", \"x\": [\"accuracy\", \"FPR\", \"FNR\", \"auc\"], \"y\": [0.9508944480079823, 0.025396825396825397, 0.18680252304706454, 0.893900325778055], \"type\": \"scatter\", \"uid\": \"1bc7a667-f2c0-4a6c-9db4-15072b013514\"}], {\"title\": \"Result comparision for Features selected in Section 1\", \"yaxis\": {\"dtick\": 0.05, \"tick0\": 0}}, {\"showLink\": true, \"linkText\": \"Export to plot.ly\", \"plotlyServerURL\": \"https://plot.ly\"})});</script><script type=\"text/javascript\">window.addEventListener(\"resize\", function(){window._Plotly.Plots.resize(document.getElementById(\"fde14d07-d070-4ed2-8096-42ca087708e3\"));});</script>"
      ]
     },
     "metadata": {},
     "output_type": "display_data"
    }
   ],
   "source": [
    "trace0 = go.Scatter(x=table_80_50_test.iloc[0].index.values[[0,5,6,7]],\n",
    "                    y=table_80_50_test.iloc[0].values[[0,5,6,7]],\n",
    "                    mode = 'lines',\n",
    "                    name = 'KNN_model')\n",
    "\n",
    "trace1 = go.Scatter(x=table_80_50_test.iloc[1].index.values[[0,5,6,7]],\n",
    "                    y=table_80_50_test.iloc[1].values[[0,5,6,7]],\n",
    "                    mode = 'lines+markers',\n",
    "                    name = 'Logistic Regression')\n",
    "\n",
    "trace2 = go.Scatter(x=table_80_50_test.iloc[2].index.values[[0,5,6,7]],\n",
    "                    y=table_80_50_test.iloc[2].values[[0,5,6,7]],\n",
    "                    mode = 'lines+markers',marker=dict(symbol='x'),\n",
    "                    name = 'Random Forest')\n",
    "\n",
    "\n",
    "trace3 = go.Scatter(x=table_80_50_test.iloc[3].index.values[[0,5,6,7]],\n",
    "                    y=table_80_50_test.iloc[3].values[[0,5,6,7]],\n",
    "                    mode = 'lines',\n",
    "                    name = 'Ada Boost')\n",
    "\n",
    "trace4 = go.Scatter(x=table_80_50_test.iloc[4].index.values[[0,5,6,7]],\n",
    "                    y=table_80_50_test.iloc[4].values[[0,5,6,7]],\n",
    "                    mode = 'lines+markers',\n",
    "                    name = 'GradientBoosting')\n",
    "\n",
    "trace5 = go.Scatter(x=table_80_50_test.iloc[5].index.values[[0,5,6,7]],\n",
    "                    y=table_80_50_test.iloc[5].values[[0,5,6,7]],\n",
    "                    mode = 'lines+markers',marker=dict(symbol='x'),\n",
    "                    name = 'ExtraTree Classifier')\n",
    "\n",
    "trace6 = go.Scatter(x=table_80_50_test.iloc[6].index.values[[0,5,6,7]],\n",
    "                    y=table_80_50_test.iloc[6].values[[0,5,6,7]],\n",
    "                    mode = 'lines+markers',marker=dict(symbol='x'),\n",
    "                    name = 'Bagging')\n",
    "\n",
    "trace7 = go.Scatter(x=table_80_50_test.iloc[7].index.values[[0,5,6,7]],\n",
    "                    y=table_80_50_test.iloc[7].values[[0,5,6,7]],\n",
    "                    mode = 'lines+markers',marker=dict(symbol='x'),\n",
    "                    name = 'Neural Network')\n",
    "\n",
    "\n",
    "\n",
    "data = [trace0, trace1, trace2, trace3, trace4, trace5, trace6, trace7]\n",
    "layout = go.Layout(yaxis=dict(tick0=0,dtick=0.05),title='Result comparision for Features selected in Section 1')\n",
    "fig = go.Figure(data=data, layout=layout)\n",
    "\n",
    "iplot(fig, filename='Result')"
   ]
  },
  {
   "cell_type": "code",
   "execution_count": 23,
   "metadata": {},
   "outputs": [
    {
     "name": "stdout",
     "output_type": "stream",
     "text": [
      "Training Results\n"
     ]
    },
    {
     "data": {
      "text/html": [
       "<div>\n",
       "<style scoped>\n",
       "    .dataframe tbody tr th:only-of-type {\n",
       "        vertical-align: middle;\n",
       "    }\n",
       "\n",
       "    .dataframe tbody tr th {\n",
       "        vertical-align: top;\n",
       "    }\n",
       "\n",
       "    .dataframe thead th {\n",
       "        text-align: right;\n",
       "    }\n",
       "</style>\n",
       "<table border=\"1\" class=\"dataframe\">\n",
       "  <thead>\n",
       "    <tr style=\"text-align: right;\">\n",
       "      <th></th>\n",
       "      <th>accuracy</th>\n",
       "      <th>TP</th>\n",
       "      <th>TN</th>\n",
       "      <th>FP</th>\n",
       "      <th>FN</th>\n",
       "      <th>FPR</th>\n",
       "      <th>FNR</th>\n",
       "    </tr>\n",
       "    <tr>\n",
       "      <th>index</th>\n",
       "      <th></th>\n",
       "      <th></th>\n",
       "      <th></th>\n",
       "      <th></th>\n",
       "      <th></th>\n",
       "      <th></th>\n",
       "      <th></th>\n",
       "    </tr>\n",
       "  </thead>\n",
       "  <tbody>\n",
       "    <tr>\n",
       "      <th>KNeighborsClassifier</th>\n",
       "      <td>0.963470</td>\n",
       "      <td>3696.0</td>\n",
       "      <td>27848.0</td>\n",
       "      <td>59.0</td>\n",
       "      <td>1137.0</td>\n",
       "      <td>0.002114</td>\n",
       "      <td>0.235258</td>\n",
       "    </tr>\n",
       "    <tr>\n",
       "      <th>LogisticRegression</th>\n",
       "      <td>0.951038</td>\n",
       "      <td>3579.0</td>\n",
       "      <td>27558.0</td>\n",
       "      <td>349.0</td>\n",
       "      <td>1254.0</td>\n",
       "      <td>0.012506</td>\n",
       "      <td>0.259466</td>\n",
       "    </tr>\n",
       "    <tr>\n",
       "      <th>RandomForestClassifier</th>\n",
       "      <td>0.994136</td>\n",
       "      <td>4644.0</td>\n",
       "      <td>27904.0</td>\n",
       "      <td>3.0</td>\n",
       "      <td>189.0</td>\n",
       "      <td>0.000107</td>\n",
       "      <td>0.039106</td>\n",
       "    </tr>\n",
       "    <tr>\n",
       "      <th>AdaBoostClassifier</th>\n",
       "      <td>0.948687</td>\n",
       "      <td>3554.0</td>\n",
       "      <td>27506.0</td>\n",
       "      <td>401.0</td>\n",
       "      <td>1279.0</td>\n",
       "      <td>0.014369</td>\n",
       "      <td>0.264639</td>\n",
       "    </tr>\n",
       "    <tr>\n",
       "      <th>GradientBoostingClassifier</th>\n",
       "      <td>0.960507</td>\n",
       "      <td>3830.0</td>\n",
       "      <td>27617.0</td>\n",
       "      <td>290.0</td>\n",
       "      <td>1003.0</td>\n",
       "      <td>0.010392</td>\n",
       "      <td>0.207532</td>\n",
       "    </tr>\n",
       "    <tr>\n",
       "      <th>ExtraTreeClassifier</th>\n",
       "      <td>1.000000</td>\n",
       "      <td>4833.0</td>\n",
       "      <td>27907.0</td>\n",
       "      <td>0.0</td>\n",
       "      <td>0.0</td>\n",
       "      <td>0.000000</td>\n",
       "      <td>0.000000</td>\n",
       "    </tr>\n",
       "    <tr>\n",
       "      <th>BaggingClassifier</th>\n",
       "      <td>0.994258</td>\n",
       "      <td>4651.0</td>\n",
       "      <td>27901.0</td>\n",
       "      <td>6.0</td>\n",
       "      <td>182.0</td>\n",
       "      <td>0.000215</td>\n",
       "      <td>0.037658</td>\n",
       "    </tr>\n",
       "    <tr>\n",
       "      <th>Neural Network-1</th>\n",
       "      <td>0.997282</td>\n",
       "      <td>4749.0</td>\n",
       "      <td>27902.0</td>\n",
       "      <td>5.0</td>\n",
       "      <td>84.0</td>\n",
       "      <td>0.000179</td>\n",
       "      <td>0.017381</td>\n",
       "    </tr>\n",
       "  </tbody>\n",
       "</table>\n",
       "</div>"
      ],
      "text/plain": [
       "                            accuracy      TP       TN     FP      FN  \\\n",
       "index                                                                  \n",
       "KNeighborsClassifier        0.963470  3696.0  27848.0   59.0  1137.0   \n",
       "LogisticRegression          0.951038  3579.0  27558.0  349.0  1254.0   \n",
       "RandomForestClassifier      0.994136  4644.0  27904.0    3.0   189.0   \n",
       "AdaBoostClassifier          0.948687  3554.0  27506.0  401.0  1279.0   \n",
       "GradientBoostingClassifier  0.960507  3830.0  27617.0  290.0  1003.0   \n",
       "ExtraTreeClassifier         1.000000  4833.0  27907.0    0.0     0.0   \n",
       "BaggingClassifier           0.994258  4651.0  27901.0    6.0   182.0   \n",
       "Neural Network-1            0.997282  4749.0  27902.0    5.0    84.0   \n",
       "\n",
       "                                 FPR       FNR  \n",
       "index                                           \n",
       "KNeighborsClassifier        0.002114  0.235258  \n",
       "LogisticRegression          0.012506  0.259466  \n",
       "RandomForestClassifier      0.000107  0.039106  \n",
       "AdaBoostClassifier          0.014369  0.264639  \n",
       "GradientBoostingClassifier  0.010392  0.207532  \n",
       "ExtraTreeClassifier         0.000000  0.000000  \n",
       "BaggingClassifier           0.000215  0.037658  \n",
       "Neural Network-1            0.000179  0.017381  "
      ]
     },
     "metadata": {},
     "output_type": "display_data"
    },
    {
     "name": "stdout",
     "output_type": "stream",
     "text": [
      "Test Results\n"
     ]
    },
    {
     "data": {
      "text/html": [
       "<div>\n",
       "<style scoped>\n",
       "    .dataframe tbody tr th:only-of-type {\n",
       "        vertical-align: middle;\n",
       "    }\n",
       "\n",
       "    .dataframe tbody tr th {\n",
       "        vertical-align: top;\n",
       "    }\n",
       "\n",
       "    .dataframe thead th {\n",
       "        text-align: right;\n",
       "    }\n",
       "</style>\n",
       "<table border=\"1\" class=\"dataframe\">\n",
       "  <thead>\n",
       "    <tr style=\"text-align: right;\">\n",
       "      <th></th>\n",
       "      <th>accuracy</th>\n",
       "      <th>TP</th>\n",
       "      <th>TN</th>\n",
       "      <th>FP</th>\n",
       "      <th>FN</th>\n",
       "      <th>FPR</th>\n",
       "      <th>FNR</th>\n",
       "      <th>auc</th>\n",
       "      <th>MCC</th>\n",
       "    </tr>\n",
       "    <tr>\n",
       "      <th>index</th>\n",
       "      <th></th>\n",
       "      <th></th>\n",
       "      <th></th>\n",
       "      <th></th>\n",
       "      <th></th>\n",
       "      <th></th>\n",
       "      <th></th>\n",
       "      <th></th>\n",
       "      <th></th>\n",
       "    </tr>\n",
       "  </thead>\n",
       "  <tbody>\n",
       "    <tr>\n",
       "      <th>KNeighborsClassifier</th>\n",
       "      <td>0.957950</td>\n",
       "      <td>1499.0</td>\n",
       "      <td>11942.0</td>\n",
       "      <td>28.0</td>\n",
       "      <td>562.0</td>\n",
       "      <td>0.002339</td>\n",
       "      <td>0.272683</td>\n",
       "      <td>0.862489</td>\n",
       "      <td>0.824075</td>\n",
       "    </tr>\n",
       "    <tr>\n",
       "      <th>LogisticRegression</th>\n",
       "      <td>0.952249</td>\n",
       "      <td>1550.0</td>\n",
       "      <td>11811.0</td>\n",
       "      <td>159.0</td>\n",
       "      <td>511.0</td>\n",
       "      <td>0.013283</td>\n",
       "      <td>0.247938</td>\n",
       "      <td>0.869389</td>\n",
       "      <td>0.799630</td>\n",
       "    </tr>\n",
       "    <tr>\n",
       "      <th>RandomForestClassifier</th>\n",
       "      <td>0.963581</td>\n",
       "      <td>1641.0</td>\n",
       "      <td>11879.0</td>\n",
       "      <td>91.0</td>\n",
       "      <td>420.0</td>\n",
       "      <td>0.007602</td>\n",
       "      <td>0.203785</td>\n",
       "      <td>0.894307</td>\n",
       "      <td>0.848675</td>\n",
       "    </tr>\n",
       "    <tr>\n",
       "      <th>AdaBoostClassifier</th>\n",
       "      <td>0.947545</td>\n",
       "      <td>1506.0</td>\n",
       "      <td>11789.0</td>\n",
       "      <td>181.0</td>\n",
       "      <td>555.0</td>\n",
       "      <td>0.015121</td>\n",
       "      <td>0.269287</td>\n",
       "      <td>0.857796</td>\n",
       "      <td>0.778872</td>\n",
       "    </tr>\n",
       "    <tr>\n",
       "      <th>GradientBoostingClassifier</th>\n",
       "      <td>0.958806</td>\n",
       "      <td>1619.0</td>\n",
       "      <td>11834.0</td>\n",
       "      <td>136.0</td>\n",
       "      <td>442.0</td>\n",
       "      <td>0.011362</td>\n",
       "      <td>0.214459</td>\n",
       "      <td>0.887090</td>\n",
       "      <td>0.828439</td>\n",
       "    </tr>\n",
       "    <tr>\n",
       "      <th>ExtraTreeClassifier</th>\n",
       "      <td>0.964293</td>\n",
       "      <td>1627.0</td>\n",
       "      <td>11903.0</td>\n",
       "      <td>67.0</td>\n",
       "      <td>434.0</td>\n",
       "      <td>0.005597</td>\n",
       "      <td>0.210577</td>\n",
       "      <td>0.891913</td>\n",
       "      <td>0.851616</td>\n",
       "    </tr>\n",
       "    <tr>\n",
       "      <th>BaggingClassifier</th>\n",
       "      <td>0.963581</td>\n",
       "      <td>1656.0</td>\n",
       "      <td>11864.0</td>\n",
       "      <td>106.0</td>\n",
       "      <td>405.0</td>\n",
       "      <td>0.008855</td>\n",
       "      <td>0.196507</td>\n",
       "      <td>0.897319</td>\n",
       "      <td>0.848883</td>\n",
       "    </tr>\n",
       "    <tr>\n",
       "      <th>Neural Network-1</th>\n",
       "      <td>0.950894</td>\n",
       "      <td>1676.0</td>\n",
       "      <td>11666.0</td>\n",
       "      <td>304.0</td>\n",
       "      <td>385.0</td>\n",
       "      <td>0.025397</td>\n",
       "      <td>0.186803</td>\n",
       "      <td>0.893900</td>\n",
       "      <td>0.801047</td>\n",
       "    </tr>\n",
       "  </tbody>\n",
       "</table>\n",
       "</div>"
      ],
      "text/plain": [
       "                            accuracy      TP       TN     FP     FN       FPR  \\\n",
       "index                                                                           \n",
       "KNeighborsClassifier        0.957950  1499.0  11942.0   28.0  562.0  0.002339   \n",
       "LogisticRegression          0.952249  1550.0  11811.0  159.0  511.0  0.013283   \n",
       "RandomForestClassifier      0.963581  1641.0  11879.0   91.0  420.0  0.007602   \n",
       "AdaBoostClassifier          0.947545  1506.0  11789.0  181.0  555.0  0.015121   \n",
       "GradientBoostingClassifier  0.958806  1619.0  11834.0  136.0  442.0  0.011362   \n",
       "ExtraTreeClassifier         0.964293  1627.0  11903.0   67.0  434.0  0.005597   \n",
       "BaggingClassifier           0.963581  1656.0  11864.0  106.0  405.0  0.008855   \n",
       "Neural Network-1            0.950894  1676.0  11666.0  304.0  385.0  0.025397   \n",
       "\n",
       "                                 FNR       auc       MCC  \n",
       "index                                                     \n",
       "KNeighborsClassifier        0.272683  0.862489  0.824075  \n",
       "LogisticRegression          0.247938  0.869389  0.799630  \n",
       "RandomForestClassifier      0.203785  0.894307  0.848675  \n",
       "AdaBoostClassifier          0.269287  0.857796  0.778872  \n",
       "GradientBoostingClassifier  0.214459  0.887090  0.828439  \n",
       "ExtraTreeClassifier         0.210577  0.891913  0.851616  \n",
       "BaggingClassifier           0.196507  0.897319  0.848883  \n",
       "Neural Network-1            0.186803  0.893900  0.801047  "
      ]
     },
     "metadata": {},
     "output_type": "display_data"
    }
   ],
   "source": [
    "table_80_50_train['index']=ind_columns\n",
    "table_80_50_test['index']=ind_columns\n",
    "\n",
    "\n",
    "table_80_50_test.set_index(['index'],drop=True,inplace=True)\n",
    "table_80_50_train.set_index(['index'],drop=True,inplace=True)\n",
    "\n",
    "print(\"Training Results\")\n",
    "display(table_80_50_train)\n",
    "print(\"Test Results\")\n",
    "display(table_80_50_test)"
   ]
  },
  {
   "cell_type": "markdown",
   "metadata": {},
   "source": [
    "### <a id='1.B' style=\"text-decoration : none; color : #000000;\"> B. Average Feature Importances</a>"
   ]
  },
  {
   "cell_type": "code",
   "execution_count": 24,
   "metadata": {},
   "outputs": [
    {
     "data": {
      "application/vnd.plotly.v1+json": {
       "config": {
        "linkText": "Export to plot.ly",
        "plotlyServerURL": "https://plot.ly",
        "showLink": true
       },
       "data": [
        {
         "marker": {
          "color": "rgb(158,202,225)",
          "line": {
           "color": "rgb(8,48,107)",
           "width": 1.5
          }
         },
         "opacity": 0.6,
         "orientation": "h",
         "text": [
          0.2002,
          0.1758,
          0.0789,
          0.0695,
          0.0558,
          0.0429,
          0.0357,
          0.0284,
          0.0229,
          0.0228,
          0.0168,
          0.0163,
          0.0142,
          0.0137,
          0.0122,
          0.0118,
          0.0115,
          0.0114,
          0.0114,
          0.0114,
          0.011,
          0.0108,
          0.0102,
          0.0097,
          0.0095,
          0.0085,
          0.0076,
          0.0074,
          0.0067,
          0.0066,
          0.0065,
          0.006,
          0.0055,
          0.0055,
          0.0043,
          0.0043,
          0.0035,
          0.0035,
          0.0035,
          0.003,
          0.0028
         ],
         "textposition": "outside",
         "type": "bar",
         "uid": "0875b8b2-b797-41e7-93c6-83d77656558d",
         "x": [
          0.2002438576897443,
          0.17579360542422942,
          0.07887015109525303,
          0.06950880713309915,
          0.05576526393543986,
          0.042876443377829206,
          0.03572582474555077,
          0.028445977895212755,
          0.02286156846494671,
          0.022758889170083202,
          0.016820528598889176,
          0.0163007059683584,
          0.014204660902445956,
          0.013666010597732101,
          0.012235022586054498,
          0.01180915439225485,
          0.011548210224597441,
          0.011442666899028522,
          0.011420679003679669,
          0.011370729912638709,
          0.010992502103582281,
          0.010833037576390238,
          0.010168524564808861,
          0.009690276543405044,
          0.00950666708383469,
          0.008505842095717383,
          0.007550876209546875,
          0.0074039160338749774,
          0.006692353112515098,
          0.006558963185750085,
          0.006475706015976581,
          0.006037572558488105,
          0.005548601041600967,
          0.005495097045650033,
          0.004332190915206583,
          0.00430222634013573,
          0.0034914148979418753,
          0.0034724962483890414,
          0.0034710599532447187,
          0.0030073501966534303,
          0.0027945682602197063
         ],
         "y": [
          "url_extensions",
          "url_length",
          "url_char_w",
          "url_char_.",
          "url_number_consonants",
          "url_number_digits",
          "url_tlds",
          "url_char_z",
          "url_words_with_length_4",
          "url_extension_.com",
          "url_number_vowels",
          "url_char_i",
          "url_char_y",
          "url_char_b",
          "url_char_o",
          "url_char_c",
          "url_char_n",
          "url_char_m",
          "url_char_t",
          "url_char_p",
          "url_char_f",
          "url_char_r",
          "url_char_h",
          "url_char_x",
          "url_char_g",
          "url_char_e",
          "url_extension_.i",
          "url_char_s",
          "url_extension_.net",
          "url_char_l",
          "url_char_u",
          "url_char_a",
          "url_char_d",
          "url_words_with_length_5",
          "url_words_with_length_6",
          "url_char_k",
          "url_char_-",
          "url_words_with_length_7",
          "url_char_v",
          "url_char_j",
          "url_words_with_length_8"
         ]
        }
       ],
       "layout": {
        "autosize": false,
        "height": 1000,
        "width": 1000,
        "xaxis": {
         "tickfont": {
          "color": "black",
          "size": 12
         },
         "title": "Feature Importances"
        },
        "yaxis": {
         "automargin": true
        }
       }
      },
      "text/html": [
       "<div id=\"1184aeed-a4a6-4564-9e66-2fe154e734d1\" style=\"height: 1000px; width: 1000px;\" class=\"plotly-graph-div\"></div><script type=\"text/javascript\">require([\"plotly\"], function(Plotly) { window.PLOTLYENV=window.PLOTLYENV || {};window.PLOTLYENV.BASE_URL=\"https://plot.ly\";Plotly.newPlot(\"1184aeed-a4a6-4564-9e66-2fe154e734d1\", [{\"marker\": {\"color\": \"rgb(158,202,225)\", \"line\": {\"color\": \"rgb(8,48,107)\", \"width\": 1.5}}, \"opacity\": 0.6, \"orientation\": \"h\", \"text\": [0.2002, 0.1758, 0.0789, 0.0695, 0.0558, 0.0429, 0.0357, 0.0284, 0.0229, 0.0228, 0.0168, 0.0163, 0.0142, 0.0137, 0.0122, 0.0118, 0.0115, 0.0114, 0.0114, 0.0114, 0.011, 0.0108, 0.0102, 0.0097, 0.0095, 0.0085, 0.0076, 0.0074, 0.0067, 0.0066, 0.0065, 0.006, 0.0055, 0.0055, 0.0043, 0.0043, 0.0035, 0.0035, 0.0035, 0.003, 0.0028], \"textposition\": \"outside\", \"x\": [0.2002438576897443, 0.17579360542422942, 0.07887015109525303, 0.06950880713309915, 0.05576526393543986, 0.042876443377829206, 0.03572582474555077, 0.028445977895212755, 0.02286156846494671, 0.022758889170083202, 0.016820528598889176, 0.0163007059683584, 0.014204660902445956, 0.013666010597732101, 0.012235022586054498, 0.01180915439225485, 0.011548210224597441, 0.011442666899028522, 0.011420679003679669, 0.011370729912638709, 0.010992502103582281, 0.010833037576390238, 0.010168524564808861, 0.009690276543405044, 0.00950666708383469, 0.008505842095717383, 0.007550876209546875, 0.0074039160338749774, 0.006692353112515098, 0.006558963185750085, 0.006475706015976581, 0.006037572558488105, 0.005548601041600967, 0.005495097045650033, 0.004332190915206583, 0.00430222634013573, 0.0034914148979418753, 0.0034724962483890414, 0.0034710599532447187, 0.0030073501966534303, 0.0027945682602197063], \"y\": [\"url_extensions\", \"url_length\", \"url_char_w\", \"url_char_.\", \"url_number_consonants\", \"url_number_digits\", \"url_tlds\", \"url_char_z\", \"url_words_with_length_4\", \"url_extension_.com\", \"url_number_vowels\", \"url_char_i\", \"url_char_y\", \"url_char_b\", \"url_char_o\", \"url_char_c\", \"url_char_n\", \"url_char_m\", \"url_char_t\", \"url_char_p\", \"url_char_f\", \"url_char_r\", \"url_char_h\", \"url_char_x\", \"url_char_g\", \"url_char_e\", \"url_extension_.i\", \"url_char_s\", \"url_extension_.net\", \"url_char_l\", \"url_char_u\", \"url_char_a\", \"url_char_d\", \"url_words_with_length_5\", \"url_words_with_length_6\", \"url_char_k\", \"url_char_-\", \"url_words_with_length_7\", \"url_char_v\", \"url_char_j\", \"url_words_with_length_8\"], \"type\": \"bar\", \"uid\": \"0875b8b2-b797-41e7-93c6-83d77656558d\"}], {\"autosize\": false, \"height\": 1000, \"width\": 1000, \"xaxis\": {\"tickfont\": {\"color\": \"black\", \"size\": 12}, \"title\": \"Feature Importances\"}, \"yaxis\": {\"automargin\": true}}, {\"showLink\": true, \"linkText\": \"Export to plot.ly\", \"plotlyServerURL\": \"https://plot.ly\"})});</script>"
      ],
      "text/vnd.plotly.v1+html": [
       "<div id=\"1184aeed-a4a6-4564-9e66-2fe154e734d1\" style=\"height: 1000px; width: 1000px;\" class=\"plotly-graph-div\"></div><script type=\"text/javascript\">require([\"plotly\"], function(Plotly) { window.PLOTLYENV=window.PLOTLYENV || {};window.PLOTLYENV.BASE_URL=\"https://plot.ly\";Plotly.newPlot(\"1184aeed-a4a6-4564-9e66-2fe154e734d1\", [{\"marker\": {\"color\": \"rgb(158,202,225)\", \"line\": {\"color\": \"rgb(8,48,107)\", \"width\": 1.5}}, \"opacity\": 0.6, \"orientation\": \"h\", \"text\": [0.2002, 0.1758, 0.0789, 0.0695, 0.0558, 0.0429, 0.0357, 0.0284, 0.0229, 0.0228, 0.0168, 0.0163, 0.0142, 0.0137, 0.0122, 0.0118, 0.0115, 0.0114, 0.0114, 0.0114, 0.011, 0.0108, 0.0102, 0.0097, 0.0095, 0.0085, 0.0076, 0.0074, 0.0067, 0.0066, 0.0065, 0.006, 0.0055, 0.0055, 0.0043, 0.0043, 0.0035, 0.0035, 0.0035, 0.003, 0.0028], \"textposition\": \"outside\", \"x\": [0.2002438576897443, 0.17579360542422942, 0.07887015109525303, 0.06950880713309915, 0.05576526393543986, 0.042876443377829206, 0.03572582474555077, 0.028445977895212755, 0.02286156846494671, 0.022758889170083202, 0.016820528598889176, 0.0163007059683584, 0.014204660902445956, 0.013666010597732101, 0.012235022586054498, 0.01180915439225485, 0.011548210224597441, 0.011442666899028522, 0.011420679003679669, 0.011370729912638709, 0.010992502103582281, 0.010833037576390238, 0.010168524564808861, 0.009690276543405044, 0.00950666708383469, 0.008505842095717383, 0.007550876209546875, 0.0074039160338749774, 0.006692353112515098, 0.006558963185750085, 0.006475706015976581, 0.006037572558488105, 0.005548601041600967, 0.005495097045650033, 0.004332190915206583, 0.00430222634013573, 0.0034914148979418753, 0.0034724962483890414, 0.0034710599532447187, 0.0030073501966534303, 0.0027945682602197063], \"y\": [\"url_extensions\", \"url_length\", \"url_char_w\", \"url_char_.\", \"url_number_consonants\", \"url_number_digits\", \"url_tlds\", \"url_char_z\", \"url_words_with_length_4\", \"url_extension_.com\", \"url_number_vowels\", \"url_char_i\", \"url_char_y\", \"url_char_b\", \"url_char_o\", \"url_char_c\", \"url_char_n\", \"url_char_m\", \"url_char_t\", \"url_char_p\", \"url_char_f\", \"url_char_r\", \"url_char_h\", \"url_char_x\", \"url_char_g\", \"url_char_e\", \"url_extension_.i\", \"url_char_s\", \"url_extension_.net\", \"url_char_l\", \"url_char_u\", \"url_char_a\", \"url_char_d\", \"url_words_with_length_5\", \"url_words_with_length_6\", \"url_char_k\", \"url_char_-\", \"url_words_with_length_7\", \"url_char_v\", \"url_char_j\", \"url_words_with_length_8\"], \"type\": \"bar\", \"uid\": \"0875b8b2-b797-41e7-93c6-83d77656558d\"}], {\"autosize\": false, \"height\": 1000, \"width\": 1000, \"xaxis\": {\"tickfont\": {\"color\": \"black\", \"size\": 12}, \"title\": \"Feature Importances\"}, \"yaxis\": {\"automargin\": true}}, {\"showLink\": true, \"linkText\": \"Export to plot.ly\", \"plotlyServerURL\": \"https://plot.ly\"})});</script>"
      ]
     },
     "metadata": {},
     "output_type": "display_data"
    }
   ],
   "source": [
    "feat_impt_plot(np.average(feat_imp,axis=0),columns)"
   ]
  },
  {
   "cell_type": "markdown",
   "metadata": {},
   "source": [
    "### <a id='2' style=\"text-decoration : none; color : #000000;\"> 2. OverSampling </a>"
   ]
  },
  {
   "cell_type": "code",
   "execution_count": 25,
   "metadata": {},
   "outputs": [],
   "source": [
    "sm = SMOTE(random_state=12, ratio = 1.0)\n",
    "X_train, Y_train = sm.fit_sample(scaled_X_train,train_Y)"
   ]
  },
  {
   "cell_type": "code",
   "execution_count": 26,
   "metadata": {},
   "outputs": [],
   "source": [
    "## Table to store training and test measures so we can compare later\n",
    "table_80_80_train=pd.DataFrame(columns=['accuracy','TP','TN','FP','FN','FPR','FNR'])\n",
    "table_80_80_test=pd.DataFrame(columns=['accuracy','TP','TN','FP','FN','FPR','FNR','auc','mcc'])"
   ]
  },
  {
   "cell_type": "code",
   "execution_count": 27,
   "metadata": {
    "scrolled": false
   },
   "outputs": [
    {
     "name": "stdout",
     "output_type": "stream",
     "text": [
      "\u001b[1mK-Nearest Neighbors\u001b[0m\n",
      "Accuracy of the model for training data is: 0.9753287705593578\n",
      "Confusion Matrix for training data is:\n"
     ]
    },
    {
     "data": {
      "text/plain": [
       "Predicted  False   True  __all__\n",
       "Actual                          \n",
       "False      26550   1357    27907\n",
       "True          20  27887    27907\n",
       "__all__    26570  29244    55814"
      ]
     },
     "metadata": {},
     "output_type": "display_data"
    },
    {
     "name": "stdout",
     "output_type": "stream",
     "text": [
      "Accuracy of the model for test data is: 0.918680065569097\n",
      "Confusion Matrix for test data is:\n"
     ]
    },
    {
     "data": {
      "text/plain": [
       "Predicted  False  True  __all__\n",
       "Actual                         \n",
       "False      11111   859    11970\n",
       "True         282  1779     2061\n",
       "__all__    11393  2638    14031"
      ]
     },
     "metadata": {},
     "output_type": "display_data"
    },
    {
     "name": "stdout",
     "output_type": "stream",
     "text": [
      "\n",
      "\n",
      "\u001b[1mLogistic Regression\u001b[0m\n",
      "Accuracy of the model for training data is: 0.89674633604472\n",
      "Confusion Matrix for training data is:\n"
     ]
    },
    {
     "data": {
      "text/plain": [
       "Predicted  False   True  __all__\n",
       "Actual                          \n",
       "False      25915   1992    27907\n",
       "True        3771  24136    27907\n",
       "__all__    29686  26128    55814"
      ]
     },
     "metadata": {},
     "output_type": "display_data"
    },
    {
     "name": "stdout",
     "output_type": "stream",
     "text": [
      "Accuracy of the model for test data is: 0.9218159789038557\n",
      "Confusion Matrix for test data is:\n"
     ]
    },
    {
     "data": {
      "text/plain": [
       "Predicted  False  True  __all__\n",
       "Actual                         \n",
       "False      11119   851    11970\n",
       "True         246  1815     2061\n",
       "__all__    11365  2666    14031"
      ]
     },
     "metadata": {},
     "output_type": "display_data"
    },
    {
     "name": "stdout",
     "output_type": "stream",
     "text": [
      "\n",
      "\n",
      "\u001b[1mRandomForest Classifier\u001b[0m\n",
      "Accuracy of the model for training data is: 0.9979933350055542\n",
      "Confusion Matrix for training data is:\n"
     ]
    },
    {
     "data": {
      "text/plain": [
       "Predicted  False   True  __all__\n",
       "Actual                          \n",
       "False      27905      2    27907\n",
       "True         110  27797    27907\n",
       "__all__    28015  27799    55814"
      ]
     },
     "metadata": {},
     "output_type": "display_data"
    },
    {
     "name": "stdout",
     "output_type": "stream",
     "text": [
      "Accuracy of the model for test data is: 0.9625828522557195\n",
      "Confusion Matrix for test data is:\n"
     ]
    },
    {
     "data": {
      "text/plain": [
       "Predicted  False  True  __all__\n",
       "Actual                         \n",
       "False      11838   132    11970\n",
       "True         393  1668     2061\n",
       "__all__    12231  1800    14031"
      ]
     },
     "metadata": {},
     "output_type": "display_data"
    },
    {
     "data": {
      "application/vnd.plotly.v1+json": {
       "config": {
        "linkText": "Export to plot.ly",
        "plotlyServerURL": "https://plot.ly",
        "showLink": true
       },
       "data": [
        {
         "marker": {
          "color": "rgb(158,202,225)",
          "line": {
           "color": "rgb(8,48,107)",
           "width": 1.5
          }
         },
         "opacity": 0.6,
         "orientation": "h",
         "text": [
          0.2258,
          0.1074,
          0.0727,
          0.07,
          0.0607,
          0.0501,
          0.0383,
          0.0289,
          0.026,
          0.0221,
          0.0207,
          0.0181,
          0.0177,
          0.0177,
          0.0174,
          0.0153,
          0.0148,
          0.0135,
          0.0132,
          0.013,
          0.0128,
          0.0126,
          0.0121,
          0.012,
          0.0112,
          0.0112,
          0.0077,
          0.0076,
          0.0059,
          0.0059,
          0.0051,
          0.0047,
          0.0043,
          0.0041,
          0.0037,
          0.0034,
          0.0032,
          0.0028,
          0.0022,
          0.0022,
          0.0018
         ],
         "textposition": "outside",
         "type": "bar",
         "uid": "07feb7f1-b36e-449d-bade-b4605811aedf",
         "x": [
          0.2258491779735148,
          0.10740896404570963,
          0.07271749719172323,
          0.06997589701136474,
          0.06073737269457183,
          0.050097048700464115,
          0.038346351349498625,
          0.02888142214032843,
          0.025967245665166547,
          0.022086540667577155,
          0.020685665924048646,
          0.01805795864867045,
          0.01773755825783697,
          0.017687940834434177,
          0.017365023370578523,
          0.015301821073192688,
          0.014795855516688826,
          0.013454843801414713,
          0.013181794847026534,
          0.013035113064211633,
          0.012831992372053076,
          0.012590020614942346,
          0.012064119101683908,
          0.011992700044596596,
          0.011204407867928297,
          0.011162626181306248,
          0.007677046075070634,
          0.007646182407462032,
          0.005918817702263298,
          0.005869620763853147,
          0.005118801622799779,
          0.004682094353329684,
          0.0043269896998837706,
          0.004148555263177585,
          0.003741866108322842,
          0.0034104589203236674,
          0.0032166358525242693,
          0.002788152305823563,
          0.0022379194634847893,
          0.0022327191932023913,
          0.0017671813079459821
         ],
         "y": [
          "url_extensions",
          "url_number_consonants",
          "url_tlds",
          "url_length",
          "url_char_w",
          "url_char_.",
          "url_number_digits",
          "url_number_vowels",
          "url_char_i",
          "url_char_l",
          "url_char_c",
          "url_char_z",
          "url_words_with_length_4",
          "url_char_o",
          "url_char_a",
          "url_char_n",
          "url_char_e",
          "url_char_s",
          "url_char_u",
          "url_char_b",
          "url_extension_.com",
          "url_char_m",
          "url_char_r",
          "url_char_t",
          "url_char_d",
          "url_words_with_length_5",
          "url_char_p",
          "url_char_y",
          "url_words_with_length_6",
          "url_char_h",
          "url_char_g",
          "url_char_x",
          "url_char_f",
          "url_char_k",
          "url_char_v",
          "url_words_with_length_7",
          "url_char_-",
          "url_extension_.net",
          "url_extension_.i",
          "url_char_j",
          "url_words_with_length_8"
         ]
        }
       ],
       "layout": {
        "autosize": false,
        "height": 1000,
        "width": 1000,
        "xaxis": {
         "tickfont": {
          "color": "black",
          "size": 12
         },
         "title": "Feature Importances"
        },
        "yaxis": {
         "automargin": true
        }
       }
      },
      "text/html": [
       "<div id=\"87dcc1a5-2144-42d1-8553-8fb1f7913f2f\" style=\"height: 1000px; width: 1000px;\" class=\"plotly-graph-div\"></div><script type=\"text/javascript\">require([\"plotly\"], function(Plotly) { window.PLOTLYENV=window.PLOTLYENV || {};window.PLOTLYENV.BASE_URL=\"https://plot.ly\";Plotly.newPlot(\"87dcc1a5-2144-42d1-8553-8fb1f7913f2f\", [{\"marker\": {\"color\": \"rgb(158,202,225)\", \"line\": {\"color\": \"rgb(8,48,107)\", \"width\": 1.5}}, \"opacity\": 0.6, \"orientation\": \"h\", \"text\": [0.2258, 0.1074, 0.0727, 0.07, 0.0607, 0.0501, 0.0383, 0.0289, 0.026, 0.0221, 0.0207, 0.0181, 0.0177, 0.0177, 0.0174, 0.0153, 0.0148, 0.0135, 0.0132, 0.013, 0.0128, 0.0126, 0.0121, 0.012, 0.0112, 0.0112, 0.0077, 0.0076, 0.0059, 0.0059, 0.0051, 0.0047, 0.0043, 0.0041, 0.0037, 0.0034, 0.0032, 0.0028, 0.0022, 0.0022, 0.0018], \"textposition\": \"outside\", \"x\": [0.2258491779735148, 0.10740896404570963, 0.07271749719172323, 0.06997589701136474, 0.06073737269457183, 0.050097048700464115, 0.038346351349498625, 0.02888142214032843, 0.025967245665166547, 0.022086540667577155, 0.020685665924048646, 0.01805795864867045, 0.01773755825783697, 0.017687940834434177, 0.017365023370578523, 0.015301821073192688, 0.014795855516688826, 0.013454843801414713, 0.013181794847026534, 0.013035113064211633, 0.012831992372053076, 0.012590020614942346, 0.012064119101683908, 0.011992700044596596, 0.011204407867928297, 0.011162626181306248, 0.007677046075070634, 0.007646182407462032, 0.005918817702263298, 0.005869620763853147, 0.005118801622799779, 0.004682094353329684, 0.0043269896998837706, 0.004148555263177585, 0.003741866108322842, 0.0034104589203236674, 0.0032166358525242693, 0.002788152305823563, 0.0022379194634847893, 0.0022327191932023913, 0.0017671813079459821], \"y\": [\"url_extensions\", \"url_number_consonants\", \"url_tlds\", \"url_length\", \"url_char_w\", \"url_char_.\", \"url_number_digits\", \"url_number_vowels\", \"url_char_i\", \"url_char_l\", \"url_char_c\", \"url_char_z\", \"url_words_with_length_4\", \"url_char_o\", \"url_char_a\", \"url_char_n\", \"url_char_e\", \"url_char_s\", \"url_char_u\", \"url_char_b\", \"url_extension_.com\", \"url_char_m\", \"url_char_r\", \"url_char_t\", \"url_char_d\", \"url_words_with_length_5\", \"url_char_p\", \"url_char_y\", \"url_words_with_length_6\", \"url_char_h\", \"url_char_g\", \"url_char_x\", \"url_char_f\", \"url_char_k\", \"url_char_v\", \"url_words_with_length_7\", \"url_char_-\", \"url_extension_.net\", \"url_extension_.i\", \"url_char_j\", \"url_words_with_length_8\"], \"type\": \"bar\", \"uid\": \"07feb7f1-b36e-449d-bade-b4605811aedf\"}], {\"autosize\": false, \"height\": 1000, \"width\": 1000, \"xaxis\": {\"tickfont\": {\"color\": \"black\", \"size\": 12}, \"title\": \"Feature Importances\"}, \"yaxis\": {\"automargin\": true}}, {\"showLink\": true, \"linkText\": \"Export to plot.ly\", \"plotlyServerURL\": \"https://plot.ly\"})});</script>"
      ],
      "text/vnd.plotly.v1+html": [
       "<div id=\"87dcc1a5-2144-42d1-8553-8fb1f7913f2f\" style=\"height: 1000px; width: 1000px;\" class=\"plotly-graph-div\"></div><script type=\"text/javascript\">require([\"plotly\"], function(Plotly) { window.PLOTLYENV=window.PLOTLYENV || {};window.PLOTLYENV.BASE_URL=\"https://plot.ly\";Plotly.newPlot(\"87dcc1a5-2144-42d1-8553-8fb1f7913f2f\", [{\"marker\": {\"color\": \"rgb(158,202,225)\", \"line\": {\"color\": \"rgb(8,48,107)\", \"width\": 1.5}}, \"opacity\": 0.6, \"orientation\": \"h\", \"text\": [0.2258, 0.1074, 0.0727, 0.07, 0.0607, 0.0501, 0.0383, 0.0289, 0.026, 0.0221, 0.0207, 0.0181, 0.0177, 0.0177, 0.0174, 0.0153, 0.0148, 0.0135, 0.0132, 0.013, 0.0128, 0.0126, 0.0121, 0.012, 0.0112, 0.0112, 0.0077, 0.0076, 0.0059, 0.0059, 0.0051, 0.0047, 0.0043, 0.0041, 0.0037, 0.0034, 0.0032, 0.0028, 0.0022, 0.0022, 0.0018], \"textposition\": \"outside\", \"x\": [0.2258491779735148, 0.10740896404570963, 0.07271749719172323, 0.06997589701136474, 0.06073737269457183, 0.050097048700464115, 0.038346351349498625, 0.02888142214032843, 0.025967245665166547, 0.022086540667577155, 0.020685665924048646, 0.01805795864867045, 0.01773755825783697, 0.017687940834434177, 0.017365023370578523, 0.015301821073192688, 0.014795855516688826, 0.013454843801414713, 0.013181794847026534, 0.013035113064211633, 0.012831992372053076, 0.012590020614942346, 0.012064119101683908, 0.011992700044596596, 0.011204407867928297, 0.011162626181306248, 0.007677046075070634, 0.007646182407462032, 0.005918817702263298, 0.005869620763853147, 0.005118801622799779, 0.004682094353329684, 0.0043269896998837706, 0.004148555263177585, 0.003741866108322842, 0.0034104589203236674, 0.0032166358525242693, 0.002788152305823563, 0.0022379194634847893, 0.0022327191932023913, 0.0017671813079459821], \"y\": [\"url_extensions\", \"url_number_consonants\", \"url_tlds\", \"url_length\", \"url_char_w\", \"url_char_.\", \"url_number_digits\", \"url_number_vowels\", \"url_char_i\", \"url_char_l\", \"url_char_c\", \"url_char_z\", \"url_words_with_length_4\", \"url_char_o\", \"url_char_a\", \"url_char_n\", \"url_char_e\", \"url_char_s\", \"url_char_u\", \"url_char_b\", \"url_extension_.com\", \"url_char_m\", \"url_char_r\", \"url_char_t\", \"url_char_d\", \"url_words_with_length_5\", \"url_char_p\", \"url_char_y\", \"url_words_with_length_6\", \"url_char_h\", \"url_char_g\", \"url_char_x\", \"url_char_f\", \"url_char_k\", \"url_char_v\", \"url_words_with_length_7\", \"url_char_-\", \"url_extension_.net\", \"url_extension_.i\", \"url_char_j\", \"url_words_with_length_8\"], \"type\": \"bar\", \"uid\": \"07feb7f1-b36e-449d-bade-b4605811aedf\"}], {\"autosize\": false, \"height\": 1000, \"width\": 1000, \"xaxis\": {\"tickfont\": {\"color\": \"black\", \"size\": 12}, \"title\": \"Feature Importances\"}, \"yaxis\": {\"automargin\": true}}, {\"showLink\": true, \"linkText\": \"Export to plot.ly\", \"plotlyServerURL\": \"https://plot.ly\"})});</script>"
      ]
     },
     "metadata": {},
     "output_type": "display_data"
    },
    {
     "name": "stdout",
     "output_type": "stream",
     "text": [
      "\n",
      "\n",
      "\u001b[1mAdaoost Classifier\u001b[0m\n",
      "Accuracy of the model for training data is: 0.9388146343211381\n",
      "Confusion Matrix for training data is:\n"
     ]
    },
    {
     "data": {
      "text/plain": [
       "Predicted  False   True  __all__\n",
       "Actual                          \n",
       "False      26594   1313    27907\n",
       "True        2102  25805    27907\n",
       "__all__    28696  27118    55814"
      ]
     },
     "metadata": {},
     "output_type": "display_data"
    },
    {
     "name": "stdout",
     "output_type": "stream",
     "text": [
      "Accuracy of the model for test data is: 0.9314375311809564\n",
      "Confusion Matrix for test data is:\n"
     ]
    },
    {
     "data": {
      "text/plain": [
       "Predicted  False  True  __all__\n",
       "Actual                         \n",
       "False      11370   600    11970\n",
       "True         362  1699     2061\n",
       "__all__    11732  2299    14031"
      ]
     },
     "metadata": {},
     "output_type": "display_data"
    },
    {
     "data": {
      "application/vnd.plotly.v1+json": {
       "config": {
        "linkText": "Export to plot.ly",
        "plotlyServerURL": "https://plot.ly",
        "showLink": true
       },
       "data": [
        {
         "marker": {
          "color": "rgb(158,202,225)",
          "line": {
           "color": "rgb(8,48,107)",
           "width": 1.5
          }
         },
         "opacity": 0.6,
         "orientation": "h",
         "text": [
          0.1,
          0.08,
          0.08,
          0.08,
          0.06,
          0.06,
          0.06,
          0.06,
          0.06,
          0.04,
          0.04,
          0.04,
          0.02,
          0.02,
          0.02,
          0.02,
          0.02,
          0.02,
          0.02,
          0.02,
          0.02,
          0.02,
          0.02,
          0.02,
          0,
          0,
          0,
          0,
          0,
          0,
          0,
          0,
          0,
          0,
          0,
          0,
          0,
          0,
          0,
          0,
          0
         ],
         "textposition": "outside",
         "type": "bar",
         "uid": "197b2c6b-4001-426a-a65f-c4d018d76ae1",
         "x": [
          0.1,
          0.08,
          0.08,
          0.08,
          0.06,
          0.06,
          0.06,
          0.06,
          0.06,
          0.04,
          0.04,
          0.04,
          0.02,
          0.02,
          0.02,
          0.02,
          0.02,
          0.02,
          0.02,
          0.02,
          0.02,
          0.02,
          0.02,
          0.02,
          0,
          0,
          0,
          0,
          0,
          0,
          0,
          0,
          0,
          0,
          0,
          0,
          0,
          0,
          0,
          0,
          0
         ],
         "y": [
          "url_char_a",
          "url_extensions",
          "url_length",
          "url_char_r",
          "url_char_u",
          "url_char_l",
          "url_char_s",
          "url_char_e",
          "url_char_d",
          "url_words_with_length_4",
          "url_char_w",
          "url_number_digits",
          "url_tlds",
          "url_extension_.com",
          "url_char_z",
          "url_char_y",
          "url_number_vowels",
          "url_char_.",
          "url_char_t",
          "url_char_p",
          "url_char_i",
          "url_char_b",
          "url_char_f",
          "url_char_h",
          "url_char_x",
          "url_char_c",
          "url_number_consonants",
          "url_char_n",
          "url_words_with_length_8",
          "url_words_with_length_7",
          "url_words_with_length_6",
          "url_words_with_length_5",
          "url_char_v",
          "url_char_k",
          "url_char_g",
          "url_char_o",
          "url_extension_.net",
          "url_extension_.i",
          "url_char_m",
          "url_char_j",
          "url_char_-"
         ]
        }
       ],
       "layout": {
        "autosize": false,
        "height": 1000,
        "width": 1000,
        "xaxis": {
         "tickfont": {
          "color": "black",
          "size": 12
         },
         "title": "Feature Importances"
        },
        "yaxis": {
         "automargin": true
        }
       }
      },
      "text/html": [
       "<div id=\"62b728ec-09d6-4f6a-b4dd-535eadce8676\" style=\"height: 1000px; width: 1000px;\" class=\"plotly-graph-div\"></div><script type=\"text/javascript\">require([\"plotly\"], function(Plotly) { window.PLOTLYENV=window.PLOTLYENV || {};window.PLOTLYENV.BASE_URL=\"https://plot.ly\";Plotly.newPlot(\"62b728ec-09d6-4f6a-b4dd-535eadce8676\", [{\"marker\": {\"color\": \"rgb(158,202,225)\", \"line\": {\"color\": \"rgb(8,48,107)\", \"width\": 1.5}}, \"opacity\": 0.6, \"orientation\": \"h\", \"text\": [0.1, 0.08, 0.08, 0.08, 0.06, 0.06, 0.06, 0.06, 0.06, 0.04, 0.04, 0.04, 0.02, 0.02, 0.02, 0.02, 0.02, 0.02, 0.02, 0.02, 0.02, 0.02, 0.02, 0.02, 0.0, 0.0, 0.0, 0.0, 0.0, 0.0, 0.0, 0.0, 0.0, 0.0, 0.0, 0.0, 0.0, 0.0, 0.0, 0.0, 0.0], \"textposition\": \"outside\", \"x\": [0.1, 0.08, 0.08, 0.08, 0.06, 0.06, 0.06, 0.06, 0.06, 0.04, 0.04, 0.04, 0.02, 0.02, 0.02, 0.02, 0.02, 0.02, 0.02, 0.02, 0.02, 0.02, 0.02, 0.02, 0.0, 0.0, 0.0, 0.0, 0.0, 0.0, 0.0, 0.0, 0.0, 0.0, 0.0, 0.0, 0.0, 0.0, 0.0, 0.0, 0.0], \"y\": [\"url_char_a\", \"url_extensions\", \"url_length\", \"url_char_r\", \"url_char_u\", \"url_char_l\", \"url_char_s\", \"url_char_e\", \"url_char_d\", \"url_words_with_length_4\", \"url_char_w\", \"url_number_digits\", \"url_tlds\", \"url_extension_.com\", \"url_char_z\", \"url_char_y\", \"url_number_vowels\", \"url_char_.\", \"url_char_t\", \"url_char_p\", \"url_char_i\", \"url_char_b\", \"url_char_f\", \"url_char_h\", \"url_char_x\", \"url_char_c\", \"url_number_consonants\", \"url_char_n\", \"url_words_with_length_8\", \"url_words_with_length_7\", \"url_words_with_length_6\", \"url_words_with_length_5\", \"url_char_v\", \"url_char_k\", \"url_char_g\", \"url_char_o\", \"url_extension_.net\", \"url_extension_.i\", \"url_char_m\", \"url_char_j\", \"url_char_-\"], \"type\": \"bar\", \"uid\": \"197b2c6b-4001-426a-a65f-c4d018d76ae1\"}], {\"autosize\": false, \"height\": 1000, \"width\": 1000, \"xaxis\": {\"tickfont\": {\"color\": \"black\", \"size\": 12}, \"title\": \"Feature Importances\"}, \"yaxis\": {\"automargin\": true}}, {\"showLink\": true, \"linkText\": \"Export to plot.ly\", \"plotlyServerURL\": \"https://plot.ly\"})});</script>"
      ],
      "text/vnd.plotly.v1+html": [
       "<div id=\"62b728ec-09d6-4f6a-b4dd-535eadce8676\" style=\"height: 1000px; width: 1000px;\" class=\"plotly-graph-div\"></div><script type=\"text/javascript\">require([\"plotly\"], function(Plotly) { window.PLOTLYENV=window.PLOTLYENV || {};window.PLOTLYENV.BASE_URL=\"https://plot.ly\";Plotly.newPlot(\"62b728ec-09d6-4f6a-b4dd-535eadce8676\", [{\"marker\": {\"color\": \"rgb(158,202,225)\", \"line\": {\"color\": \"rgb(8,48,107)\", \"width\": 1.5}}, \"opacity\": 0.6, \"orientation\": \"h\", \"text\": [0.1, 0.08, 0.08, 0.08, 0.06, 0.06, 0.06, 0.06, 0.06, 0.04, 0.04, 0.04, 0.02, 0.02, 0.02, 0.02, 0.02, 0.02, 0.02, 0.02, 0.02, 0.02, 0.02, 0.02, 0.0, 0.0, 0.0, 0.0, 0.0, 0.0, 0.0, 0.0, 0.0, 0.0, 0.0, 0.0, 0.0, 0.0, 0.0, 0.0, 0.0], \"textposition\": \"outside\", \"x\": [0.1, 0.08, 0.08, 0.08, 0.06, 0.06, 0.06, 0.06, 0.06, 0.04, 0.04, 0.04, 0.02, 0.02, 0.02, 0.02, 0.02, 0.02, 0.02, 0.02, 0.02, 0.02, 0.02, 0.02, 0.0, 0.0, 0.0, 0.0, 0.0, 0.0, 0.0, 0.0, 0.0, 0.0, 0.0, 0.0, 0.0, 0.0, 0.0, 0.0, 0.0], \"y\": [\"url_char_a\", \"url_extensions\", \"url_length\", \"url_char_r\", \"url_char_u\", \"url_char_l\", \"url_char_s\", \"url_char_e\", \"url_char_d\", \"url_words_with_length_4\", \"url_char_w\", \"url_number_digits\", \"url_tlds\", \"url_extension_.com\", \"url_char_z\", \"url_char_y\", \"url_number_vowels\", \"url_char_.\", \"url_char_t\", \"url_char_p\", \"url_char_i\", \"url_char_b\", \"url_char_f\", \"url_char_h\", \"url_char_x\", \"url_char_c\", \"url_number_consonants\", \"url_char_n\", \"url_words_with_length_8\", \"url_words_with_length_7\", \"url_words_with_length_6\", \"url_words_with_length_5\", \"url_char_v\", \"url_char_k\", \"url_char_g\", \"url_char_o\", \"url_extension_.net\", \"url_extension_.i\", \"url_char_m\", \"url_char_j\", \"url_char_-\"], \"type\": \"bar\", \"uid\": \"197b2c6b-4001-426a-a65f-c4d018d76ae1\"}], {\"autosize\": false, \"height\": 1000, \"width\": 1000, \"xaxis\": {\"tickfont\": {\"color\": \"black\", \"size\": 12}, \"title\": \"Feature Importances\"}, \"yaxis\": {\"automargin\": true}}, {\"showLink\": true, \"linkText\": \"Export to plot.ly\", \"plotlyServerURL\": \"https://plot.ly\"})});</script>"
      ]
     },
     "metadata": {},
     "output_type": "display_data"
    },
    {
     "name": "stdout",
     "output_type": "stream",
     "text": [
      "\n",
      "\n",
      "\u001b[1mGradientBoosting Classifier\u001b[0m\n",
      "Accuracy of the model for training data is: 0.9649191959006701\n",
      "Confusion Matrix for training data is:\n"
     ]
    },
    {
     "data": {
      "text/plain": [
       "Predicted  False   True  __all__\n",
       "Actual                          \n",
       "False      27196    711    27907\n",
       "True        1247  26660    27907\n",
       "__all__    28443  27371    55814"
      ]
     },
     "metadata": {},
     "output_type": "display_data"
    },
    {
     "name": "stdout",
     "output_type": "stream",
     "text": [
      "Accuracy of the model for test data is: 0.9489701375525622\n",
      "Confusion Matrix for test data is:\n"
     ]
    },
    {
     "data": {
      "text/plain": [
       "Predicted  False  True  __all__\n",
       "Actual                         \n",
       "False      11634   336    11970\n",
       "True         380  1681     2061\n",
       "__all__    12014  2017    14031"
      ]
     },
     "metadata": {},
     "output_type": "display_data"
    },
    {
     "data": {
      "application/vnd.plotly.v1+json": {
       "config": {
        "linkText": "Export to plot.ly",
        "plotlyServerURL": "https://plot.ly",
        "showLink": true
       },
       "data": [
        {
         "marker": {
          "color": "rgb(158,202,225)",
          "line": {
           "color": "rgb(8,48,107)",
           "width": 1.5
          }
         },
         "opacity": 0.6,
         "orientation": "h",
         "text": [
          0.4521,
          0.1863,
          0.0952,
          0.0625,
          0.0335,
          0.0251,
          0.0235,
          0.0171,
          0.0118,
          0.0111,
          0.0109,
          0.0085,
          0.0073,
          0.0065,
          0.006,
          0.0055,
          0.0054,
          0.005,
          0.0041,
          0.0031,
          0.003,
          0.0024,
          0.0023,
          0.0022,
          0.002,
          0.0017,
          0.0014,
          0.0011,
          0.001,
          0.0009,
          0.0004,
          0.0004,
          0.0003,
          0.0003,
          0.0002,
          0.0001,
          0,
          0,
          0,
          0,
          0
         ],
         "textposition": "outside",
         "type": "bar",
         "uid": "15044c5d-8b4d-4d00-8ff4-b356ddcbd1b3",
         "x": [
          0.4520841366529672,
          0.18633530360523612,
          0.09521493260763365,
          0.06247655216459017,
          0.033512946264849824,
          0.025140651667018475,
          0.02354085362408435,
          0.017075874043105812,
          0.011778986747384704,
          0.011146367074210328,
          0.010890880144414822,
          0.008510317332782662,
          0.0073425494743832274,
          0.006463017774009713,
          0.005967447148822298,
          0.005476483056545333,
          0.005353827796505509,
          0.004986859390443692,
          0.004131359613929866,
          0.0030683457361624115,
          0.0029788785437895047,
          0.002423515764928068,
          0.002261520423430581,
          0.002153183567744793,
          0.001953982893833476,
          0.0017280126301562595,
          0.0013920696643231656,
          0.0010569703696246767,
          0.000989230854399814,
          0.0008881932903790189,
          0.0004435796718716813,
          0.0003614809195073052,
          0.00027472271871321403,
          0.00027262888029556026,
          0.00021950843949459633,
          9.146141734811232e-05,
          9.984787669359032e-06,
          3.3832434105905897e-06,
          0,
          0,
          0
         ],
         "y": [
          "url_extensions",
          "url_length",
          "url_char_.",
          "url_number_digits",
          "url_char_i",
          "url_char_w",
          "url_char_z",
          "url_char_b",
          "url_char_d",
          "url_char_c",
          "url_char_s",
          "url_char_o",
          "url_char_m",
          "url_number_consonants",
          "url_words_with_length_4",
          "url_tlds",
          "url_char_y",
          "url_number_vowels",
          "url_extension_.com",
          "url_char_u",
          "url_char_h",
          "url_char_r",
          "url_char_e",
          "url_char_l",
          "url_char_f",
          "url_words_with_length_5",
          "url_char_p",
          "url_char_n",
          "url_char_a",
          "url_char_g",
          "url_words_with_length_6",
          "url_extension_.i",
          "url_char_t",
          "url_char_v",
          "url_char_k",
          "url_char_-",
          "url_extension_.net",
          "url_char_x",
          "url_words_with_length_7",
          "url_words_with_length_8",
          "url_char_j"
         ]
        }
       ],
       "layout": {
        "autosize": false,
        "height": 1000,
        "width": 1000,
        "xaxis": {
         "tickfont": {
          "color": "black",
          "size": 12
         },
         "title": "Feature Importances"
        },
        "yaxis": {
         "automargin": true
        }
       }
      },
      "text/html": [
       "<div id=\"9ef06b42-49fa-4972-8dcc-5968cbd63820\" style=\"height: 1000px; width: 1000px;\" class=\"plotly-graph-div\"></div><script type=\"text/javascript\">require([\"plotly\"], function(Plotly) { window.PLOTLYENV=window.PLOTLYENV || {};window.PLOTLYENV.BASE_URL=\"https://plot.ly\";Plotly.newPlot(\"9ef06b42-49fa-4972-8dcc-5968cbd63820\", [{\"marker\": {\"color\": \"rgb(158,202,225)\", \"line\": {\"color\": \"rgb(8,48,107)\", \"width\": 1.5}}, \"opacity\": 0.6, \"orientation\": \"h\", \"text\": [0.4521, 0.1863, 0.0952, 0.0625, 0.0335, 0.0251, 0.0235, 0.0171, 0.0118, 0.0111, 0.0109, 0.0085, 0.0073, 0.0065, 0.006, 0.0055, 0.0054, 0.005, 0.0041, 0.0031, 0.003, 0.0024, 0.0023, 0.0022, 0.002, 0.0017, 0.0014, 0.0011, 0.001, 0.0009, 0.0004, 0.0004, 0.0003, 0.0003, 0.0002, 0.0001, 0.0, 0.0, 0.0, 0.0, 0.0], \"textposition\": \"outside\", \"x\": [0.4520841366529672, 0.18633530360523612, 0.09521493260763365, 0.06247655216459017, 0.033512946264849824, 0.025140651667018475, 0.02354085362408435, 0.017075874043105812, 0.011778986747384704, 0.011146367074210328, 0.010890880144414822, 0.008510317332782662, 0.0073425494743832274, 0.006463017774009713, 0.005967447148822298, 0.005476483056545333, 0.005353827796505509, 0.004986859390443692, 0.004131359613929866, 0.0030683457361624115, 0.0029788785437895047, 0.002423515764928068, 0.002261520423430581, 0.002153183567744793, 0.001953982893833476, 0.0017280126301562595, 0.0013920696643231656, 0.0010569703696246767, 0.000989230854399814, 0.0008881932903790189, 0.0004435796718716813, 0.0003614809195073052, 0.00027472271871321403, 0.00027262888029556026, 0.00021950843949459633, 9.146141734811232e-05, 9.984787669359032e-06, 3.3832434105905897e-06, 0.0, 0.0, 0.0], \"y\": [\"url_extensions\", \"url_length\", \"url_char_.\", \"url_number_digits\", \"url_char_i\", \"url_char_w\", \"url_char_z\", \"url_char_b\", \"url_char_d\", \"url_char_c\", \"url_char_s\", \"url_char_o\", \"url_char_m\", \"url_number_consonants\", \"url_words_with_length_4\", \"url_tlds\", \"url_char_y\", \"url_number_vowels\", \"url_extension_.com\", \"url_char_u\", \"url_char_h\", \"url_char_r\", \"url_char_e\", \"url_char_l\", \"url_char_f\", \"url_words_with_length_5\", \"url_char_p\", \"url_char_n\", \"url_char_a\", \"url_char_g\", \"url_words_with_length_6\", \"url_extension_.i\", \"url_char_t\", \"url_char_v\", \"url_char_k\", \"url_char_-\", \"url_extension_.net\", \"url_char_x\", \"url_words_with_length_7\", \"url_words_with_length_8\", \"url_char_j\"], \"type\": \"bar\", \"uid\": \"15044c5d-8b4d-4d00-8ff4-b356ddcbd1b3\"}], {\"autosize\": false, \"height\": 1000, \"width\": 1000, \"xaxis\": {\"tickfont\": {\"color\": \"black\", \"size\": 12}, \"title\": \"Feature Importances\"}, \"yaxis\": {\"automargin\": true}}, {\"showLink\": true, \"linkText\": \"Export to plot.ly\", \"plotlyServerURL\": \"https://plot.ly\"})});</script>"
      ],
      "text/vnd.plotly.v1+html": [
       "<div id=\"9ef06b42-49fa-4972-8dcc-5968cbd63820\" style=\"height: 1000px; width: 1000px;\" class=\"plotly-graph-div\"></div><script type=\"text/javascript\">require([\"plotly\"], function(Plotly) { window.PLOTLYENV=window.PLOTLYENV || {};window.PLOTLYENV.BASE_URL=\"https://plot.ly\";Plotly.newPlot(\"9ef06b42-49fa-4972-8dcc-5968cbd63820\", [{\"marker\": {\"color\": \"rgb(158,202,225)\", \"line\": {\"color\": \"rgb(8,48,107)\", \"width\": 1.5}}, \"opacity\": 0.6, \"orientation\": \"h\", \"text\": [0.4521, 0.1863, 0.0952, 0.0625, 0.0335, 0.0251, 0.0235, 0.0171, 0.0118, 0.0111, 0.0109, 0.0085, 0.0073, 0.0065, 0.006, 0.0055, 0.0054, 0.005, 0.0041, 0.0031, 0.003, 0.0024, 0.0023, 0.0022, 0.002, 0.0017, 0.0014, 0.0011, 0.001, 0.0009, 0.0004, 0.0004, 0.0003, 0.0003, 0.0002, 0.0001, 0.0, 0.0, 0.0, 0.0, 0.0], \"textposition\": \"outside\", \"x\": [0.4520841366529672, 0.18633530360523612, 0.09521493260763365, 0.06247655216459017, 0.033512946264849824, 0.025140651667018475, 0.02354085362408435, 0.017075874043105812, 0.011778986747384704, 0.011146367074210328, 0.010890880144414822, 0.008510317332782662, 0.0073425494743832274, 0.006463017774009713, 0.005967447148822298, 0.005476483056545333, 0.005353827796505509, 0.004986859390443692, 0.004131359613929866, 0.0030683457361624115, 0.0029788785437895047, 0.002423515764928068, 0.002261520423430581, 0.002153183567744793, 0.001953982893833476, 0.0017280126301562595, 0.0013920696643231656, 0.0010569703696246767, 0.000989230854399814, 0.0008881932903790189, 0.0004435796718716813, 0.0003614809195073052, 0.00027472271871321403, 0.00027262888029556026, 0.00021950843949459633, 9.146141734811232e-05, 9.984787669359032e-06, 3.3832434105905897e-06, 0.0, 0.0, 0.0], \"y\": [\"url_extensions\", \"url_length\", \"url_char_.\", \"url_number_digits\", \"url_char_i\", \"url_char_w\", \"url_char_z\", \"url_char_b\", \"url_char_d\", \"url_char_c\", \"url_char_s\", \"url_char_o\", \"url_char_m\", \"url_number_consonants\", \"url_words_with_length_4\", \"url_tlds\", \"url_char_y\", \"url_number_vowels\", \"url_extension_.com\", \"url_char_u\", \"url_char_h\", \"url_char_r\", \"url_char_e\", \"url_char_l\", \"url_char_f\", \"url_words_with_length_5\", \"url_char_p\", \"url_char_n\", \"url_char_a\", \"url_char_g\", \"url_words_with_length_6\", \"url_extension_.i\", \"url_char_t\", \"url_char_v\", \"url_char_k\", \"url_char_-\", \"url_extension_.net\", \"url_char_x\", \"url_words_with_length_7\", \"url_words_with_length_8\", \"url_char_j\"], \"type\": \"bar\", \"uid\": \"15044c5d-8b4d-4d00-8ff4-b356ddcbd1b3\"}], {\"autosize\": false, \"height\": 1000, \"width\": 1000, \"xaxis\": {\"tickfont\": {\"color\": \"black\", \"size\": 12}, \"title\": \"Feature Importances\"}, \"yaxis\": {\"automargin\": true}}, {\"showLink\": true, \"linkText\": \"Export to plot.ly\", \"plotlyServerURL\": \"https://plot.ly\"})});</script>"
      ]
     },
     "metadata": {},
     "output_type": "display_data"
    },
    {
     "name": "stdout",
     "output_type": "stream",
     "text": [
      "\n",
      "\n",
      "\u001b[1mExtraTree Classifier\u001b[0m\n",
      "Accuracy of the model for training data is: 1.0\n",
      "Confusion Matrix for training data is:\n"
     ]
    },
    {
     "data": {
      "text/plain": [
       "Predicted  False   True  __all__\n",
       "Actual                          \n",
       "False      27907      0    27907\n",
       "True           0  27907    27907\n",
       "__all__    27907  27907    55814"
      ]
     },
     "metadata": {},
     "output_type": "display_data"
    },
    {
     "name": "stdout",
     "output_type": "stream",
     "text": [
      "Accuracy of the model for test data is: 0.9648635164991803\n",
      "Confusion Matrix for test data is:\n"
     ]
    },
    {
     "data": {
      "text/plain": [
       "Predicted  False  True  __all__\n",
       "Actual                         \n",
       "False      11862   108    11970\n",
       "True         385  1676     2061\n",
       "__all__    12247  1784    14031"
      ]
     },
     "metadata": {},
     "output_type": "display_data"
    },
    {
     "data": {
      "application/vnd.plotly.v1+json": {
       "config": {
        "linkText": "Export to plot.ly",
        "plotlyServerURL": "https://plot.ly",
        "showLink": true
       },
       "data": [
        {
         "marker": {
          "color": "rgb(158,202,225)",
          "line": {
           "color": "rgb(8,48,107)",
           "width": 1.5
          }
         },
         "opacity": 0.6,
         "orientation": "h",
         "text": [
          0.146,
          0.0742,
          0.0712,
          0.0451,
          0.0444,
          0.0437,
          0.0359,
          0.0344,
          0.0332,
          0.0331,
          0.0314,
          0.0257,
          0.0236,
          0.0232,
          0.0222,
          0.0214,
          0.0213,
          0.0212,
          0.017,
          0.0162,
          0.0154,
          0.0152,
          0.0151,
          0.0137,
          0.0135,
          0.0134,
          0.0133,
          0.0121,
          0.0119,
          0.0118,
          0.0104,
          0.0103,
          0.0093,
          0.0082,
          0.0072,
          0.0071,
          0.0065,
          0.0064,
          0.0058,
          0.0047,
          0.0045
         ],
         "textposition": "outside",
         "type": "bar",
         "uid": "9787977b-2eb6-4b8b-b3ec-276489ffc342",
         "x": [
          0.14596179146339094,
          0.07416569405765076,
          0.07121076420513216,
          0.04506906899345227,
          0.04443459343737369,
          0.04365383182080169,
          0.035877231800660464,
          0.03439205532385319,
          0.03324211979789266,
          0.033085081669745685,
          0.031432567420259766,
          0.025678241644218405,
          0.023567205790150328,
          0.023236688822041284,
          0.022206203663674616,
          0.021408375448133826,
          0.021344003659085328,
          0.02120713284312547,
          0.01698584702740788,
          0.016203453563427256,
          0.015428132533432939,
          0.015153982262491643,
          0.015108128887009553,
          0.013745257637660371,
          0.01346472906978567,
          0.013358150787812014,
          0.013311311764626065,
          0.01206663158761667,
          0.011897186830575873,
          0.011788615988956898,
          0.010383112996491927,
          0.010309000743520645,
          0.009288392719797657,
          0.008171815384505645,
          0.0071971976652180645,
          0.007140995470951713,
          0.0064560365281054665,
          0.0063950278213087,
          0.00577310051733953,
          0.004728559887122109,
          0.004472680464193322
         ],
         "y": [
          "url_char_.",
          "url_extensions",
          "url_length",
          "url_number_consonants",
          "url_number_digits",
          "url_char_w",
          "url_char_i",
          "url_number_vowels",
          "url_char_z",
          "url_extension_.com",
          "url_tlds",
          "url_char_u",
          "url_char_e",
          "url_char_t",
          "url_char_b",
          "url_char_s",
          "url_char_y",
          "url_words_with_length_4",
          "url_char_l",
          "url_char_h",
          "url_char_d",
          "url_char_c",
          "url_words_with_length_6",
          "url_char_x",
          "url_char_p",
          "url_char_r",
          "url_char_o",
          "url_char_n",
          "url_words_with_length_5",
          "url_char_a",
          "url_char_m",
          "url_char_f",
          "url_char_k",
          "url_char_g",
          "url_words_with_length_7",
          "url_extension_.i",
          "url_char_-",
          "url_char_v",
          "url_char_j",
          "url_extension_.net",
          "url_words_with_length_8"
         ]
        }
       ],
       "layout": {
        "autosize": false,
        "height": 1000,
        "width": 1000,
        "xaxis": {
         "tickfont": {
          "color": "black",
          "size": 12
         },
         "title": "Feature Importances"
        },
        "yaxis": {
         "automargin": true
        }
       }
      },
      "text/html": [
       "<div id=\"7fe3b990-ac29-4a54-9dd7-10b84e8f3db4\" style=\"height: 1000px; width: 1000px;\" class=\"plotly-graph-div\"></div><script type=\"text/javascript\">require([\"plotly\"], function(Plotly) { window.PLOTLYENV=window.PLOTLYENV || {};window.PLOTLYENV.BASE_URL=\"https://plot.ly\";Plotly.newPlot(\"7fe3b990-ac29-4a54-9dd7-10b84e8f3db4\", [{\"marker\": {\"color\": \"rgb(158,202,225)\", \"line\": {\"color\": \"rgb(8,48,107)\", \"width\": 1.5}}, \"opacity\": 0.6, \"orientation\": \"h\", \"text\": [0.146, 0.0742, 0.0712, 0.0451, 0.0444, 0.0437, 0.0359, 0.0344, 0.0332, 0.0331, 0.0314, 0.0257, 0.0236, 0.0232, 0.0222, 0.0214, 0.0213, 0.0212, 0.017, 0.0162, 0.0154, 0.0152, 0.0151, 0.0137, 0.0135, 0.0134, 0.0133, 0.0121, 0.0119, 0.0118, 0.0104, 0.0103, 0.0093, 0.0082, 0.0072, 0.0071, 0.0065, 0.0064, 0.0058, 0.0047, 0.0045], \"textposition\": \"outside\", \"x\": [0.14596179146339094, 0.07416569405765076, 0.07121076420513216, 0.04506906899345227, 0.04443459343737369, 0.04365383182080169, 0.035877231800660464, 0.03439205532385319, 0.03324211979789266, 0.033085081669745685, 0.031432567420259766, 0.025678241644218405, 0.023567205790150328, 0.023236688822041284, 0.022206203663674616, 0.021408375448133826, 0.021344003659085328, 0.02120713284312547, 0.01698584702740788, 0.016203453563427256, 0.015428132533432939, 0.015153982262491643, 0.015108128887009553, 0.013745257637660371, 0.01346472906978567, 0.013358150787812014, 0.013311311764626065, 0.01206663158761667, 0.011897186830575873, 0.011788615988956898, 0.010383112996491927, 0.010309000743520645, 0.009288392719797657, 0.008171815384505645, 0.0071971976652180645, 0.007140995470951713, 0.0064560365281054665, 0.0063950278213087, 0.00577310051733953, 0.004728559887122109, 0.004472680464193322], \"y\": [\"url_char_.\", \"url_extensions\", \"url_length\", \"url_number_consonants\", \"url_number_digits\", \"url_char_w\", \"url_char_i\", \"url_number_vowels\", \"url_char_z\", \"url_extension_.com\", \"url_tlds\", \"url_char_u\", \"url_char_e\", \"url_char_t\", \"url_char_b\", \"url_char_s\", \"url_char_y\", \"url_words_with_length_4\", \"url_char_l\", \"url_char_h\", \"url_char_d\", \"url_char_c\", \"url_words_with_length_6\", \"url_char_x\", \"url_char_p\", \"url_char_r\", \"url_char_o\", \"url_char_n\", \"url_words_with_length_5\", \"url_char_a\", \"url_char_m\", \"url_char_f\", \"url_char_k\", \"url_char_g\", \"url_words_with_length_7\", \"url_extension_.i\", \"url_char_-\", \"url_char_v\", \"url_char_j\", \"url_extension_.net\", \"url_words_with_length_8\"], \"type\": \"bar\", \"uid\": \"9787977b-2eb6-4b8b-b3ec-276489ffc342\"}], {\"autosize\": false, \"height\": 1000, \"width\": 1000, \"xaxis\": {\"tickfont\": {\"color\": \"black\", \"size\": 12}, \"title\": \"Feature Importances\"}, \"yaxis\": {\"automargin\": true}}, {\"showLink\": true, \"linkText\": \"Export to plot.ly\", \"plotlyServerURL\": \"https://plot.ly\"})});</script>"
      ],
      "text/vnd.plotly.v1+html": [
       "<div id=\"7fe3b990-ac29-4a54-9dd7-10b84e8f3db4\" style=\"height: 1000px; width: 1000px;\" class=\"plotly-graph-div\"></div><script type=\"text/javascript\">require([\"plotly\"], function(Plotly) { window.PLOTLYENV=window.PLOTLYENV || {};window.PLOTLYENV.BASE_URL=\"https://plot.ly\";Plotly.newPlot(\"7fe3b990-ac29-4a54-9dd7-10b84e8f3db4\", [{\"marker\": {\"color\": \"rgb(158,202,225)\", \"line\": {\"color\": \"rgb(8,48,107)\", \"width\": 1.5}}, \"opacity\": 0.6, \"orientation\": \"h\", \"text\": [0.146, 0.0742, 0.0712, 0.0451, 0.0444, 0.0437, 0.0359, 0.0344, 0.0332, 0.0331, 0.0314, 0.0257, 0.0236, 0.0232, 0.0222, 0.0214, 0.0213, 0.0212, 0.017, 0.0162, 0.0154, 0.0152, 0.0151, 0.0137, 0.0135, 0.0134, 0.0133, 0.0121, 0.0119, 0.0118, 0.0104, 0.0103, 0.0093, 0.0082, 0.0072, 0.0071, 0.0065, 0.0064, 0.0058, 0.0047, 0.0045], \"textposition\": \"outside\", \"x\": [0.14596179146339094, 0.07416569405765076, 0.07121076420513216, 0.04506906899345227, 0.04443459343737369, 0.04365383182080169, 0.035877231800660464, 0.03439205532385319, 0.03324211979789266, 0.033085081669745685, 0.031432567420259766, 0.025678241644218405, 0.023567205790150328, 0.023236688822041284, 0.022206203663674616, 0.021408375448133826, 0.021344003659085328, 0.02120713284312547, 0.01698584702740788, 0.016203453563427256, 0.015428132533432939, 0.015153982262491643, 0.015108128887009553, 0.013745257637660371, 0.01346472906978567, 0.013358150787812014, 0.013311311764626065, 0.01206663158761667, 0.011897186830575873, 0.011788615988956898, 0.010383112996491927, 0.010309000743520645, 0.009288392719797657, 0.008171815384505645, 0.0071971976652180645, 0.007140995470951713, 0.0064560365281054665, 0.0063950278213087, 0.00577310051733953, 0.004728559887122109, 0.004472680464193322], \"y\": [\"url_char_.\", \"url_extensions\", \"url_length\", \"url_number_consonants\", \"url_number_digits\", \"url_char_w\", \"url_char_i\", \"url_number_vowels\", \"url_char_z\", \"url_extension_.com\", \"url_tlds\", \"url_char_u\", \"url_char_e\", \"url_char_t\", \"url_char_b\", \"url_char_s\", \"url_char_y\", \"url_words_with_length_4\", \"url_char_l\", \"url_char_h\", \"url_char_d\", \"url_char_c\", \"url_words_with_length_6\", \"url_char_x\", \"url_char_p\", \"url_char_r\", \"url_char_o\", \"url_char_n\", \"url_words_with_length_5\", \"url_char_a\", \"url_char_m\", \"url_char_f\", \"url_char_k\", \"url_char_g\", \"url_words_with_length_7\", \"url_extension_.i\", \"url_char_-\", \"url_char_v\", \"url_char_j\", \"url_extension_.net\", \"url_words_with_length_8\"], \"type\": \"bar\", \"uid\": \"9787977b-2eb6-4b8b-b3ec-276489ffc342\"}], {\"autosize\": false, \"height\": 1000, \"width\": 1000, \"xaxis\": {\"tickfont\": {\"color\": \"black\", \"size\": 12}, \"title\": \"Feature Importances\"}, \"yaxis\": {\"automargin\": true}}, {\"showLink\": true, \"linkText\": \"Export to plot.ly\", \"plotlyServerURL\": \"https://plot.ly\"})});</script>"
      ]
     },
     "metadata": {},
     "output_type": "display_data"
    },
    {
     "name": "stdout",
     "output_type": "stream",
     "text": [
      "\n",
      "\n",
      "\u001b[1mBagging Classifier\u001b[0m\n",
      "Accuracy of the model for training data is: 0.9971691690256925\n",
      "Confusion Matrix for training data is:\n"
     ]
    },
    {
     "data": {
      "text/plain": [
       "Predicted  False   True  __all__\n",
       "Actual                          \n",
       "False      27898      9    27907\n",
       "True         149  27758    27907\n",
       "__all__    28047  27767    55814"
      ]
     },
     "metadata": {},
     "output_type": "display_data"
    },
    {
     "name": "stdout",
     "output_type": "stream",
     "text": [
      "Accuracy of the model for test data is: 0.9621552277100706\n",
      "Confusion Matrix for test data is:\n"
     ]
    },
    {
     "data": {
      "text/plain": [
       "Predicted  False  True  __all__\n",
       "Actual                         \n",
       "False      11836   134    11970\n",
       "True         397  1664     2061\n",
       "__all__    12233  1798    14031"
      ]
     },
     "metadata": {},
     "output_type": "display_data"
    },
    {
     "name": "stdout",
     "output_type": "stream",
     "text": [
      "\n",
      "\n",
      "\u001b[1mNeural Network-1\u001b[0m\n",
      "The accuracy of the model on training data is: 0.9986562511197907\n"
     ]
    },
    {
     "data": {
      "text/plain": [
       "Predicted  False   True  __all__\n",
       "Actual                          \n",
       "False      27874     33    27907\n",
       "True          42  27865    27907\n",
       "__all__    27916  27898    55814"
      ]
     },
     "metadata": {},
     "output_type": "display_data"
    },
    {
     "name": "stdout",
     "output_type": "stream",
     "text": [
      "The accuracy of the model on test data is: 0.9462618487634523\n"
     ]
    },
    {
     "data": {
      "text/plain": [
       "Predicted  False  True  __all__\n",
       "Actual                         \n",
       "False      11568   402    11970\n",
       "True         352  1709     2061\n",
       "__all__    11920  2111    14031"
      ]
     },
     "metadata": {},
     "output_type": "display_data"
    },
    {
     "name": "stdout",
     "output_type": "stream",
     "text": [
      "\n",
      "\n"
     ]
    }
   ],
   "source": [
    "feat_imp=[None]*4\n",
    "j=0\n",
    "for i in range(0,8):\n",
    "    if i>=2 and i<=5:\n",
    "        model,cm_train,cm_test,acc_train,acc_test,roc_auc,feat_imp[j],mcc=f[i](X_train,Y_train,scaled_X_test,test_Y,columns)\n",
    "        j=j+1\n",
    "    else:\n",
    "        model,cm_train,cm_test,acc_train,acc_test,roc_auc,mcc=f[i](X_train,Y_train,scaled_X_test,test_Y)\n",
    "    table_80_80_train.loc[i]=   ([acc_train,cm_train.TP,cm_train.TN,cm_train.FP,cm_train.FN,cm_train.FPR,cm_train.FNR])\n",
    "    table_80_80_test.loc[i] =   ([acc_test ,cm_test.TP, cm_test.TN, cm_test.FP, cm_test.FN, cm_test.FPR, cm_test.FNR,roc_auc,mcc])\n",
    "    print(\"\\n\")"
   ]
  },
  {
   "cell_type": "markdown",
   "metadata": {},
   "source": [
    "### <a id='2.A' style=\"text-decoration : none; color : #000000;\"> A Results</a>"
   ]
  },
  {
   "cell_type": "code",
   "execution_count": 28,
   "metadata": {},
   "outputs": [
    {
     "data": {
      "application/vnd.plotly.v1+json": {
       "config": {
        "linkText": "Export to plot.ly",
        "plotlyServerURL": "https://plot.ly",
        "showLink": true
       },
       "data": [
        {
         "mode": "lines",
         "name": "KNN_model",
         "type": "scatter",
         "uid": "0af09ab3-ad04-4be1-9658-c5c33d853193",
         "x": [
          "accuracy",
          "FPR",
          "FNR",
          "auc"
         ],
         "y": [
          0.918680065569097,
          0.07176274018379282,
          0.13682678311499272,
          0.8957052383506072
         ]
        },
        {
         "mode": "lines+markers",
         "name": "Logistic Regression",
         "type": "scatter",
         "uid": "0c2bd765-bde0-4c04-8044-a8d1ce1b985f",
         "x": [
          "accuracy",
          "FPR",
          "FNR",
          "auc"
         ],
         "y": [
          0.9218159789038557,
          0.07109440267335004,
          0.11935953420669577,
          0.9047730315599771
         ]
        },
        {
         "marker": {
          "symbol": "x"
         },
         "mode": "lines+markers",
         "name": "Random Forest",
         "type": "scatter",
         "uid": "4fd01c68-3ce7-4147-b074-309a00e47a85",
         "x": [
          "accuracy",
          "FPR",
          "FNR",
          "auc"
         ],
         "y": [
          0.9625828522557195,
          0.011027568922305764,
          0.19068413391557495,
          0.8991441485810597
         ]
        },
        {
         "mode": "lines",
         "name": "Ada Boost",
         "type": "scatter",
         "uid": "44993cb5-dbf8-44c5-9564-ad6ccd7c7b9f",
         "x": [
          "accuracy",
          "FPR",
          "FNR",
          "auc"
         ],
         "y": [
          0.9314375311809564,
          0.05012531328320802,
          0.17564289180009704,
          0.8871158974583474
         ]
        },
        {
         "mode": "lines+markers",
         "name": "GradientBoosting",
         "type": "scatter",
         "uid": "4f38832d-ce9a-4e1f-8365-d093529d3157",
         "x": [
          "accuracy",
          "FPR",
          "FNR",
          "auc"
         ],
         "y": [
          0.9489701375525622,
          0.028070175438596492,
          0.1843765162542455,
          0.893776654153579
         ]
        },
        {
         "marker": {
          "symbol": "x"
         },
         "mode": "lines+markers",
         "name": "ExtraTree Classifier",
         "type": "scatter",
         "uid": "8131db96-a9f0-4142-ae55-4cedfc6da171",
         "x": [
          "accuracy",
          "FPR",
          "FNR",
          "auc"
         ],
         "y": [
          0.9648635164991803,
          0.009022556390977444,
          0.18680252304706454,
          0.9020874602809791
         ]
        },
        {
         "marker": {
          "symbol": "x"
         },
         "mode": "lines+markers",
         "name": "Bagging",
         "type": "scatter",
         "uid": "90851c5e-b279-42db-b6d5-47918504f352",
         "x": [
          "accuracy",
          "FPR",
          "FNR",
          "auc"
         ],
         "y": [
          0.9621552277100706,
          0.011194653299916459,
          0.1926249393498302,
          0.8980902036751266
         ]
        },
        {
         "marker": {
          "symbol": "x"
         },
         "mode": "lines+markers",
         "name": "Neural Network",
         "type": "scatter",
         "uid": "d56c437c-5853-443c-850f-dd4c1125436f",
         "x": [
          "accuracy",
          "FPR",
          "FNR",
          "auc"
         ],
         "y": [
          0.9462618487634523,
          0.033583959899749376,
          0.170790878214459,
          0.8978125809428957
         ]
        }
       ],
       "layout": {
        "title": "Result comparision for Features selected in Section 1",
        "yaxis": {
         "dtick": 0.05,
         "tick0": 0
        }
       }
      },
      "text/html": [
       "<div id=\"bbbed221-d5ee-449a-90f9-cd4c4d11c5f5\" style=\"height: 525px; width: 100%;\" class=\"plotly-graph-div\"></div><script type=\"text/javascript\">require([\"plotly\"], function(Plotly) { window.PLOTLYENV=window.PLOTLYENV || {};window.PLOTLYENV.BASE_URL=\"https://plot.ly\";Plotly.newPlot(\"bbbed221-d5ee-449a-90f9-cd4c4d11c5f5\", [{\"mode\": \"lines\", \"name\": \"KNN_model\", \"x\": [\"accuracy\", \"FPR\", \"FNR\", \"auc\"], \"y\": [0.918680065569097, 0.07176274018379282, 0.13682678311499272, 0.8957052383506072], \"type\": \"scatter\", \"uid\": \"0af09ab3-ad04-4be1-9658-c5c33d853193\"}, {\"mode\": \"lines+markers\", \"name\": \"Logistic Regression\", \"x\": [\"accuracy\", \"FPR\", \"FNR\", \"auc\"], \"y\": [0.9218159789038557, 0.07109440267335004, 0.11935953420669577, 0.9047730315599771], \"type\": \"scatter\", \"uid\": \"0c2bd765-bde0-4c04-8044-a8d1ce1b985f\"}, {\"marker\": {\"symbol\": \"x\"}, \"mode\": \"lines+markers\", \"name\": \"Random Forest\", \"x\": [\"accuracy\", \"FPR\", \"FNR\", \"auc\"], \"y\": [0.9625828522557195, 0.011027568922305764, 0.19068413391557495, 0.8991441485810597], \"type\": \"scatter\", \"uid\": \"4fd01c68-3ce7-4147-b074-309a00e47a85\"}, {\"mode\": \"lines\", \"name\": \"Ada Boost\", \"x\": [\"accuracy\", \"FPR\", \"FNR\", \"auc\"], \"y\": [0.9314375311809564, 0.05012531328320802, 0.17564289180009704, 0.8871158974583474], \"type\": \"scatter\", \"uid\": \"44993cb5-dbf8-44c5-9564-ad6ccd7c7b9f\"}, {\"mode\": \"lines+markers\", \"name\": \"GradientBoosting\", \"x\": [\"accuracy\", \"FPR\", \"FNR\", \"auc\"], \"y\": [0.9489701375525622, 0.028070175438596492, 0.1843765162542455, 0.893776654153579], \"type\": \"scatter\", \"uid\": \"4f38832d-ce9a-4e1f-8365-d093529d3157\"}, {\"marker\": {\"symbol\": \"x\"}, \"mode\": \"lines+markers\", \"name\": \"ExtraTree Classifier\", \"x\": [\"accuracy\", \"FPR\", \"FNR\", \"auc\"], \"y\": [0.9648635164991803, 0.009022556390977444, 0.18680252304706454, 0.9020874602809791], \"type\": \"scatter\", \"uid\": \"8131db96-a9f0-4142-ae55-4cedfc6da171\"}, {\"marker\": {\"symbol\": \"x\"}, \"mode\": \"lines+markers\", \"name\": \"Bagging\", \"x\": [\"accuracy\", \"FPR\", \"FNR\", \"auc\"], \"y\": [0.9621552277100706, 0.011194653299916459, 0.1926249393498302, 0.8980902036751266], \"type\": \"scatter\", \"uid\": \"90851c5e-b279-42db-b6d5-47918504f352\"}, {\"marker\": {\"symbol\": \"x\"}, \"mode\": \"lines+markers\", \"name\": \"Neural Network\", \"x\": [\"accuracy\", \"FPR\", \"FNR\", \"auc\"], \"y\": [0.9462618487634523, 0.033583959899749376, 0.170790878214459, 0.8978125809428957], \"type\": \"scatter\", \"uid\": \"d56c437c-5853-443c-850f-dd4c1125436f\"}], {\"title\": \"Result comparision for Features selected in Section 1\", \"yaxis\": {\"dtick\": 0.05, \"tick0\": 0}}, {\"showLink\": true, \"linkText\": \"Export to plot.ly\", \"plotlyServerURL\": \"https://plot.ly\"})});</script><script type=\"text/javascript\">window.addEventListener(\"resize\", function(){window._Plotly.Plots.resize(document.getElementById(\"bbbed221-d5ee-449a-90f9-cd4c4d11c5f5\"));});</script>"
      ],
      "text/vnd.plotly.v1+html": [
       "<div id=\"bbbed221-d5ee-449a-90f9-cd4c4d11c5f5\" style=\"height: 525px; width: 100%;\" class=\"plotly-graph-div\"></div><script type=\"text/javascript\">require([\"plotly\"], function(Plotly) { window.PLOTLYENV=window.PLOTLYENV || {};window.PLOTLYENV.BASE_URL=\"https://plot.ly\";Plotly.newPlot(\"bbbed221-d5ee-449a-90f9-cd4c4d11c5f5\", [{\"mode\": \"lines\", \"name\": \"KNN_model\", \"x\": [\"accuracy\", \"FPR\", \"FNR\", \"auc\"], \"y\": [0.918680065569097, 0.07176274018379282, 0.13682678311499272, 0.8957052383506072], \"type\": \"scatter\", \"uid\": \"0af09ab3-ad04-4be1-9658-c5c33d853193\"}, {\"mode\": \"lines+markers\", \"name\": \"Logistic Regression\", \"x\": [\"accuracy\", \"FPR\", \"FNR\", \"auc\"], \"y\": [0.9218159789038557, 0.07109440267335004, 0.11935953420669577, 0.9047730315599771], \"type\": \"scatter\", \"uid\": \"0c2bd765-bde0-4c04-8044-a8d1ce1b985f\"}, {\"marker\": {\"symbol\": \"x\"}, \"mode\": \"lines+markers\", \"name\": \"Random Forest\", \"x\": [\"accuracy\", \"FPR\", \"FNR\", \"auc\"], \"y\": [0.9625828522557195, 0.011027568922305764, 0.19068413391557495, 0.8991441485810597], \"type\": \"scatter\", \"uid\": \"4fd01c68-3ce7-4147-b074-309a00e47a85\"}, {\"mode\": \"lines\", \"name\": \"Ada Boost\", \"x\": [\"accuracy\", \"FPR\", \"FNR\", \"auc\"], \"y\": [0.9314375311809564, 0.05012531328320802, 0.17564289180009704, 0.8871158974583474], \"type\": \"scatter\", \"uid\": \"44993cb5-dbf8-44c5-9564-ad6ccd7c7b9f\"}, {\"mode\": \"lines+markers\", \"name\": \"GradientBoosting\", \"x\": [\"accuracy\", \"FPR\", \"FNR\", \"auc\"], \"y\": [0.9489701375525622, 0.028070175438596492, 0.1843765162542455, 0.893776654153579], \"type\": \"scatter\", \"uid\": \"4f38832d-ce9a-4e1f-8365-d093529d3157\"}, {\"marker\": {\"symbol\": \"x\"}, \"mode\": \"lines+markers\", \"name\": \"ExtraTree Classifier\", \"x\": [\"accuracy\", \"FPR\", \"FNR\", \"auc\"], \"y\": [0.9648635164991803, 0.009022556390977444, 0.18680252304706454, 0.9020874602809791], \"type\": \"scatter\", \"uid\": \"8131db96-a9f0-4142-ae55-4cedfc6da171\"}, {\"marker\": {\"symbol\": \"x\"}, \"mode\": \"lines+markers\", \"name\": \"Bagging\", \"x\": [\"accuracy\", \"FPR\", \"FNR\", \"auc\"], \"y\": [0.9621552277100706, 0.011194653299916459, 0.1926249393498302, 0.8980902036751266], \"type\": \"scatter\", \"uid\": \"90851c5e-b279-42db-b6d5-47918504f352\"}, {\"marker\": {\"symbol\": \"x\"}, \"mode\": \"lines+markers\", \"name\": \"Neural Network\", \"x\": [\"accuracy\", \"FPR\", \"FNR\", \"auc\"], \"y\": [0.9462618487634523, 0.033583959899749376, 0.170790878214459, 0.8978125809428957], \"type\": \"scatter\", \"uid\": \"d56c437c-5853-443c-850f-dd4c1125436f\"}], {\"title\": \"Result comparision for Features selected in Section 1\", \"yaxis\": {\"dtick\": 0.05, \"tick0\": 0}}, {\"showLink\": true, \"linkText\": \"Export to plot.ly\", \"plotlyServerURL\": \"https://plot.ly\"})});</script><script type=\"text/javascript\">window.addEventListener(\"resize\", function(){window._Plotly.Plots.resize(document.getElementById(\"bbbed221-d5ee-449a-90f9-cd4c4d11c5f5\"));});</script>"
      ]
     },
     "metadata": {},
     "output_type": "display_data"
    }
   ],
   "source": [
    "trace0 = go.Scatter(x=table_80_80_test.iloc[0].index.values[[0,5,6,7]],\n",
    "                    y=table_80_80_test.iloc[0].values[[0,5,6,7]],\n",
    "                    mode = 'lines',\n",
    "                    name = 'KNN_model')\n",
    "\n",
    "trace1 = go.Scatter(x=table_80_80_test.iloc[1].index.values[[0,5,6,7]],\n",
    "                    y=table_80_80_test.iloc[1].values[[0,5,6,7]],\n",
    "                    mode = 'lines+markers',\n",
    "                    name = 'Logistic Regression')\n",
    "\n",
    "trace2 = go.Scatter(x=table_80_80_test.iloc[2].index.values[[0,5,6,7]],\n",
    "                    y=table_80_80_test.iloc[2].values[[0,5,6,7]],\n",
    "                    mode = 'lines+markers',marker=dict(symbol='x'),\n",
    "                    name = 'Random Forest')\n",
    "\n",
    "\n",
    "trace3 = go.Scatter(x=table_80_80_test.iloc[3].index.values[[0,5,6,7]],\n",
    "                    y=table_80_80_test.iloc[3].values[[0,5,6,7]],\n",
    "                    mode = 'lines',\n",
    "                    name = 'Ada Boost')\n",
    "\n",
    "trace4 = go.Scatter(x=table_80_80_test.iloc[4].index.values[[0,5,6,7]],\n",
    "                    y=table_80_80_test.iloc[4].values[[0,5,6,7]],\n",
    "                    mode = 'lines+markers',\n",
    "                    name = 'GradientBoosting')\n",
    "\n",
    "trace5 = go.Scatter(x=table_80_80_test.iloc[5].index.values[[0,5,6,7]],\n",
    "                    y=table_80_80_test.iloc[5].values[[0,5,6,7]],\n",
    "                    mode = 'lines+markers',marker=dict(symbol='x'),\n",
    "                    name = 'ExtraTree Classifier')\n",
    "\n",
    "trace6 = go.Scatter(x=table_80_80_test.iloc[6].index.values[[0,5,6,7]],\n",
    "                    y=table_80_80_test.iloc[6].values[[0,5,6,7]],\n",
    "                    mode = 'lines+markers',marker=dict(symbol='x'),\n",
    "                    name = 'Bagging')\n",
    "\n",
    "trace7 = go.Scatter(x=table_80_80_test.iloc[7].index.values[[0,5,6,7]],\n",
    "                    y=table_80_80_test.iloc[7].values[[0,5,6,7]],\n",
    "                    mode = 'lines+markers',marker=dict(symbol='x'),\n",
    "                    name = 'Neural Network')\n",
    "\n",
    "\n",
    "\n",
    "data = [trace0, trace1, trace2, trace3, trace4, trace5, trace6, trace7]\n",
    "layout = go.Layout(yaxis=dict(tick0=0,dtick=0.05),title='Result comparision for Features selected in Section 1')\n",
    "fig = go.Figure(data=data, layout=layout)\n",
    "\n",
    "iplot(fig, filename='Result')"
   ]
  },
  {
   "cell_type": "code",
   "execution_count": 29,
   "metadata": {},
   "outputs": [
    {
     "name": "stdout",
     "output_type": "stream",
     "text": [
      "Training Results\n"
     ]
    },
    {
     "data": {
      "text/html": [
       "<div>\n",
       "<style scoped>\n",
       "    .dataframe tbody tr th:only-of-type {\n",
       "        vertical-align: middle;\n",
       "    }\n",
       "\n",
       "    .dataframe tbody tr th {\n",
       "        vertical-align: top;\n",
       "    }\n",
       "\n",
       "    .dataframe thead th {\n",
       "        text-align: right;\n",
       "    }\n",
       "</style>\n",
       "<table border=\"1\" class=\"dataframe\">\n",
       "  <thead>\n",
       "    <tr style=\"text-align: right;\">\n",
       "      <th></th>\n",
       "      <th>accuracy</th>\n",
       "      <th>TP</th>\n",
       "      <th>TN</th>\n",
       "      <th>FP</th>\n",
       "      <th>FN</th>\n",
       "      <th>FPR</th>\n",
       "      <th>FNR</th>\n",
       "    </tr>\n",
       "    <tr>\n",
       "      <th>index</th>\n",
       "      <th></th>\n",
       "      <th></th>\n",
       "      <th></th>\n",
       "      <th></th>\n",
       "      <th></th>\n",
       "      <th></th>\n",
       "      <th></th>\n",
       "    </tr>\n",
       "  </thead>\n",
       "  <tbody>\n",
       "    <tr>\n",
       "      <th>KNeighborsClassifier</th>\n",
       "      <td>0.975329</td>\n",
       "      <td>27887.0</td>\n",
       "      <td>26550.0</td>\n",
       "      <td>1357.0</td>\n",
       "      <td>20.0</td>\n",
       "      <td>0.048626</td>\n",
       "      <td>0.000717</td>\n",
       "    </tr>\n",
       "    <tr>\n",
       "      <th>LogisticRegression</th>\n",
       "      <td>0.896746</td>\n",
       "      <td>24136.0</td>\n",
       "      <td>25915.0</td>\n",
       "      <td>1992.0</td>\n",
       "      <td>3771.0</td>\n",
       "      <td>0.071380</td>\n",
       "      <td>0.135127</td>\n",
       "    </tr>\n",
       "    <tr>\n",
       "      <th>RandomForestClassifier</th>\n",
       "      <td>0.997993</td>\n",
       "      <td>27797.0</td>\n",
       "      <td>27905.0</td>\n",
       "      <td>2.0</td>\n",
       "      <td>110.0</td>\n",
       "      <td>0.000072</td>\n",
       "      <td>0.003942</td>\n",
       "    </tr>\n",
       "    <tr>\n",
       "      <th>AdaBoostClassifier</th>\n",
       "      <td>0.938815</td>\n",
       "      <td>25805.0</td>\n",
       "      <td>26594.0</td>\n",
       "      <td>1313.0</td>\n",
       "      <td>2102.0</td>\n",
       "      <td>0.047049</td>\n",
       "      <td>0.075322</td>\n",
       "    </tr>\n",
       "    <tr>\n",
       "      <th>GradientBoostingClassifier</th>\n",
       "      <td>0.964919</td>\n",
       "      <td>26660.0</td>\n",
       "      <td>27196.0</td>\n",
       "      <td>711.0</td>\n",
       "      <td>1247.0</td>\n",
       "      <td>0.025477</td>\n",
       "      <td>0.044684</td>\n",
       "    </tr>\n",
       "    <tr>\n",
       "      <th>ExtraTreeClassifier</th>\n",
       "      <td>1.000000</td>\n",
       "      <td>27907.0</td>\n",
       "      <td>27907.0</td>\n",
       "      <td>0.0</td>\n",
       "      <td>0.0</td>\n",
       "      <td>0.000000</td>\n",
       "      <td>0.000000</td>\n",
       "    </tr>\n",
       "    <tr>\n",
       "      <th>BaggingClassifier</th>\n",
       "      <td>0.997169</td>\n",
       "      <td>27758.0</td>\n",
       "      <td>27898.0</td>\n",
       "      <td>9.0</td>\n",
       "      <td>149.0</td>\n",
       "      <td>0.000322</td>\n",
       "      <td>0.005339</td>\n",
       "    </tr>\n",
       "    <tr>\n",
       "      <th>Neural Network-1</th>\n",
       "      <td>0.998656</td>\n",
       "      <td>27865.0</td>\n",
       "      <td>27874.0</td>\n",
       "      <td>33.0</td>\n",
       "      <td>42.0</td>\n",
       "      <td>0.001182</td>\n",
       "      <td>0.001505</td>\n",
       "    </tr>\n",
       "  </tbody>\n",
       "</table>\n",
       "</div>"
      ],
      "text/plain": [
       "                            accuracy       TP       TN      FP      FN  \\\n",
       "index                                                                    \n",
       "KNeighborsClassifier        0.975329  27887.0  26550.0  1357.0    20.0   \n",
       "LogisticRegression          0.896746  24136.0  25915.0  1992.0  3771.0   \n",
       "RandomForestClassifier      0.997993  27797.0  27905.0     2.0   110.0   \n",
       "AdaBoostClassifier          0.938815  25805.0  26594.0  1313.0  2102.0   \n",
       "GradientBoostingClassifier  0.964919  26660.0  27196.0   711.0  1247.0   \n",
       "ExtraTreeClassifier         1.000000  27907.0  27907.0     0.0     0.0   \n",
       "BaggingClassifier           0.997169  27758.0  27898.0     9.0   149.0   \n",
       "Neural Network-1            0.998656  27865.0  27874.0    33.0    42.0   \n",
       "\n",
       "                                 FPR       FNR  \n",
       "index                                           \n",
       "KNeighborsClassifier        0.048626  0.000717  \n",
       "LogisticRegression          0.071380  0.135127  \n",
       "RandomForestClassifier      0.000072  0.003942  \n",
       "AdaBoostClassifier          0.047049  0.075322  \n",
       "GradientBoostingClassifier  0.025477  0.044684  \n",
       "ExtraTreeClassifier         0.000000  0.000000  \n",
       "BaggingClassifier           0.000322  0.005339  \n",
       "Neural Network-1            0.001182  0.001505  "
      ]
     },
     "metadata": {},
     "output_type": "display_data"
    },
    {
     "name": "stdout",
     "output_type": "stream",
     "text": [
      "Test Results\n"
     ]
    },
    {
     "data": {
      "text/html": [
       "<div>\n",
       "<style scoped>\n",
       "    .dataframe tbody tr th:only-of-type {\n",
       "        vertical-align: middle;\n",
       "    }\n",
       "\n",
       "    .dataframe tbody tr th {\n",
       "        vertical-align: top;\n",
       "    }\n",
       "\n",
       "    .dataframe thead th {\n",
       "        text-align: right;\n",
       "    }\n",
       "</style>\n",
       "<table border=\"1\" class=\"dataframe\">\n",
       "  <thead>\n",
       "    <tr style=\"text-align: right;\">\n",
       "      <th></th>\n",
       "      <th>accuracy</th>\n",
       "      <th>TP</th>\n",
       "      <th>TN</th>\n",
       "      <th>FP</th>\n",
       "      <th>FN</th>\n",
       "      <th>FPR</th>\n",
       "      <th>FNR</th>\n",
       "      <th>auc</th>\n",
       "      <th>mcc</th>\n",
       "    </tr>\n",
       "    <tr>\n",
       "      <th>index</th>\n",
       "      <th></th>\n",
       "      <th></th>\n",
       "      <th></th>\n",
       "      <th></th>\n",
       "      <th></th>\n",
       "      <th></th>\n",
       "      <th></th>\n",
       "      <th></th>\n",
       "      <th></th>\n",
       "    </tr>\n",
       "  </thead>\n",
       "  <tbody>\n",
       "    <tr>\n",
       "      <th>KNeighborsClassifier</th>\n",
       "      <td>0.918680</td>\n",
       "      <td>1779.0</td>\n",
       "      <td>11111.0</td>\n",
       "      <td>859.0</td>\n",
       "      <td>282.0</td>\n",
       "      <td>0.071763</td>\n",
       "      <td>0.136827</td>\n",
       "      <td>0.895705</td>\n",
       "      <td>0.717020</td>\n",
       "    </tr>\n",
       "    <tr>\n",
       "      <th>LogisticRegression</th>\n",
       "      <td>0.921816</td>\n",
       "      <td>1815.0</td>\n",
       "      <td>11119.0</td>\n",
       "      <td>851.0</td>\n",
       "      <td>246.0</td>\n",
       "      <td>0.071094</td>\n",
       "      <td>0.119360</td>\n",
       "      <td>0.904773</td>\n",
       "      <td>0.730488</td>\n",
       "    </tr>\n",
       "    <tr>\n",
       "      <th>RandomForestClassifier</th>\n",
       "      <td>0.962583</td>\n",
       "      <td>1668.0</td>\n",
       "      <td>11838.0</td>\n",
       "      <td>132.0</td>\n",
       "      <td>393.0</td>\n",
       "      <td>0.011028</td>\n",
       "      <td>0.190684</td>\n",
       "      <td>0.899144</td>\n",
       "      <td>0.845043</td>\n",
       "    </tr>\n",
       "    <tr>\n",
       "      <th>AdaBoostClassifier</th>\n",
       "      <td>0.931438</td>\n",
       "      <td>1699.0</td>\n",
       "      <td>11370.0</td>\n",
       "      <td>600.0</td>\n",
       "      <td>362.0</td>\n",
       "      <td>0.050125</td>\n",
       "      <td>0.175643</td>\n",
       "      <td>0.887116</td>\n",
       "      <td>0.740460</td>\n",
       "    </tr>\n",
       "    <tr>\n",
       "      <th>GradientBoostingClassifier</th>\n",
       "      <td>0.948970</td>\n",
       "      <td>1681.0</td>\n",
       "      <td>11634.0</td>\n",
       "      <td>336.0</td>\n",
       "      <td>380.0</td>\n",
       "      <td>0.028070</td>\n",
       "      <td>0.184377</td>\n",
       "      <td>0.893777</td>\n",
       "      <td>0.794638</td>\n",
       "    </tr>\n",
       "    <tr>\n",
       "      <th>ExtraTreeClassifier</th>\n",
       "      <td>0.964864</td>\n",
       "      <td>1676.0</td>\n",
       "      <td>11862.0</td>\n",
       "      <td>108.0</td>\n",
       "      <td>385.0</td>\n",
       "      <td>0.009023</td>\n",
       "      <td>0.186803</td>\n",
       "      <td>0.902087</td>\n",
       "      <td>0.854524</td>\n",
       "    </tr>\n",
       "    <tr>\n",
       "      <th>BaggingClassifier</th>\n",
       "      <td>0.962155</td>\n",
       "      <td>1664.0</td>\n",
       "      <td>11836.0</td>\n",
       "      <td>134.0</td>\n",
       "      <td>397.0</td>\n",
       "      <td>0.011195</td>\n",
       "      <td>0.192625</td>\n",
       "      <td>0.898090</td>\n",
       "      <td>0.843211</td>\n",
       "    </tr>\n",
       "    <tr>\n",
       "      <th>Neural Network-1</th>\n",
       "      <td>0.946262</td>\n",
       "      <td>1709.0</td>\n",
       "      <td>11568.0</td>\n",
       "      <td>402.0</td>\n",
       "      <td>352.0</td>\n",
       "      <td>0.033584</td>\n",
       "      <td>0.170791</td>\n",
       "      <td>0.897813</td>\n",
       "      <td>0.787793</td>\n",
       "    </tr>\n",
       "  </tbody>\n",
       "</table>\n",
       "</div>"
      ],
      "text/plain": [
       "                            accuracy      TP       TN     FP     FN       FPR  \\\n",
       "index                                                                           \n",
       "KNeighborsClassifier        0.918680  1779.0  11111.0  859.0  282.0  0.071763   \n",
       "LogisticRegression          0.921816  1815.0  11119.0  851.0  246.0  0.071094   \n",
       "RandomForestClassifier      0.962583  1668.0  11838.0  132.0  393.0  0.011028   \n",
       "AdaBoostClassifier          0.931438  1699.0  11370.0  600.0  362.0  0.050125   \n",
       "GradientBoostingClassifier  0.948970  1681.0  11634.0  336.0  380.0  0.028070   \n",
       "ExtraTreeClassifier         0.964864  1676.0  11862.0  108.0  385.0  0.009023   \n",
       "BaggingClassifier           0.962155  1664.0  11836.0  134.0  397.0  0.011195   \n",
       "Neural Network-1            0.946262  1709.0  11568.0  402.0  352.0  0.033584   \n",
       "\n",
       "                                 FNR       auc       mcc  \n",
       "index                                                     \n",
       "KNeighborsClassifier        0.136827  0.895705  0.717020  \n",
       "LogisticRegression          0.119360  0.904773  0.730488  \n",
       "RandomForestClassifier      0.190684  0.899144  0.845043  \n",
       "AdaBoostClassifier          0.175643  0.887116  0.740460  \n",
       "GradientBoostingClassifier  0.184377  0.893777  0.794638  \n",
       "ExtraTreeClassifier         0.186803  0.902087  0.854524  \n",
       "BaggingClassifier           0.192625  0.898090  0.843211  \n",
       "Neural Network-1            0.170791  0.897813  0.787793  "
      ]
     },
     "metadata": {},
     "output_type": "display_data"
    }
   ],
   "source": [
    "table_80_80_train['index']=ind_columns\n",
    "table_80_80_test['index']=ind_columns\n",
    "\n",
    "\n",
    "table_80_80_test.set_index(['index'],drop=True,inplace=True)\n",
    "table_80_80_train.set_index(['index'],drop=True,inplace=True)\n",
    "\n",
    "print(\"Training Results\")\n",
    "display(table_80_80_train)\n",
    "print(\"Test Results\")\n",
    "display(table_80_80_test)"
   ]
  },
  {
   "cell_type": "markdown",
   "metadata": {},
   "source": [
    "### <a id='2.B' style=\"text-decoration : none; color : #000000;\"> B. Average Feature Importances</a>"
   ]
  },
  {
   "cell_type": "code",
   "execution_count": 30,
   "metadata": {},
   "outputs": [
    {
     "data": {
      "application/vnd.plotly.v1+json": {
       "config": {
        "linkText": "Export to plot.ly",
        "plotlyServerURL": "https://plot.ly",
        "showLink": true
       },
       "data": [
        {
         "marker": {
          "color": "rgb(158,202,225)",
          "line": {
           "color": "rgb(8,48,107)",
           "width": 1.5
          }
         },
         "opacity": 0.6,
         "orientation": "h",
         "text": [
          0.208,
          0.1019,
          0.0778,
          0.0463,
          0.0424,
          0.0397,
          0.0325,
          0.0324,
          0.0288,
          0.027,
          0.0264,
          0.0255,
          0.0253,
          0.0252,
          0.0246,
          0.0237,
          0.0221,
          0.0212,
          0.0181,
          0.0175,
          0.0139,
          0.0136,
          0.0117,
          0.0113,
          0.0106,
          0.0099,
          0.0091,
          0.0076,
          0.0071,
          0.0062,
          0.0054,
          0.0046,
          0.0035,
          0.0034,
          0.0027,
          0.0026,
          0.0024,
          0.0024,
          0.002,
          0.0019,
          0.0016
         ],
         "textposition": "outside",
         "type": "bar",
         "uid": "fea592a1-6154-43d2-8366-ba89441c9c4a",
         "x": [
          0.20802475217103317,
          0.10188049120543326,
          0.07781844319287218,
          0.04631437423786562,
          0.042382964045598,
          0.0397352627032929,
          0.032535717553483806,
          0.03240663691713208,
          0.02883935593266921,
          0.026961446413605997,
          0.026438524848490838,
          0.025482095556851835,
          0.025306392815682456,
          0.025156145432567435,
          0.024602881787186483,
          0.02371023301766187,
          0.022065084213656327,
          0.021228034562446187,
          0.018079297692748013,
          0.017512108413932158,
          0.013876027896337774,
          0.013586003465763217,
          0.011746503815187654,
          0.011262988217767476,
          0.010633461202294867,
          0.009877392482960726,
          0.009147493334309472,
          0.007578920771454375,
          0.007106355757608509,
          0.006196956410509595,
          0.005367631565286133,
          0.004607683808600161,
          0.0035447025744211108,
          0.0034141141056174594,
          0.002651914146385433,
          0.0026023807024817755,
          0.002441033449494462,
          0.0024350989634859517,
          0.0020014549276354803,
          0.0018816742451537578,
          0.0015599654430348262
         ],
         "y": [
          "url_extensions",
          "url_length",
          "url_char_.",
          "url_number_digits",
          "url_char_w",
          "url_number_consonants",
          "url_char_a",
          "url_tlds",
          "url_char_i",
          "url_char_r",
          "url_char_s",
          "url_char_u",
          "url_char_l",
          "url_char_e",
          "url_char_d",
          "url_char_z",
          "url_number_vowels",
          "url_words_with_length_4",
          "url_char_b",
          "url_extension_.com",
          "url_char_t",
          "url_char_y",
          "url_char_c",
          "url_char_h",
          "url_char_p",
          "url_char_o",
          "url_char_f",
          "url_char_m",
          "url_char_n",
          "url_words_with_length_5",
          "url_words_with_length_6",
          "url_char_x",
          "url_char_g",
          "url_char_k",
          "url_words_with_length_7",
          "url_char_v",
          "url_char_-",
          "url_extension_.i",
          "url_char_j",
          "url_extension_.net",
          "url_words_with_length_8"
         ]
        }
       ],
       "layout": {
        "autosize": false,
        "height": 1000,
        "width": 1000,
        "xaxis": {
         "tickfont": {
          "color": "black",
          "size": 12
         },
         "title": "Feature Importances"
        },
        "yaxis": {
         "automargin": true
        }
       }
      },
      "text/html": [
       "<div id=\"83ab8e3b-7acb-49b4-9e17-d1a5a1922772\" style=\"height: 1000px; width: 1000px;\" class=\"plotly-graph-div\"></div><script type=\"text/javascript\">require([\"plotly\"], function(Plotly) { window.PLOTLYENV=window.PLOTLYENV || {};window.PLOTLYENV.BASE_URL=\"https://plot.ly\";Plotly.newPlot(\"83ab8e3b-7acb-49b4-9e17-d1a5a1922772\", [{\"marker\": {\"color\": \"rgb(158,202,225)\", \"line\": {\"color\": \"rgb(8,48,107)\", \"width\": 1.5}}, \"opacity\": 0.6, \"orientation\": \"h\", \"text\": [0.208, 0.1019, 0.0778, 0.0463, 0.0424, 0.0397, 0.0325, 0.0324, 0.0288, 0.027, 0.0264, 0.0255, 0.0253, 0.0252, 0.0246, 0.0237, 0.0221, 0.0212, 0.0181, 0.0175, 0.0139, 0.0136, 0.0117, 0.0113, 0.0106, 0.0099, 0.0091, 0.0076, 0.0071, 0.0062, 0.0054, 0.0046, 0.0035, 0.0034, 0.0027, 0.0026, 0.0024, 0.0024, 0.002, 0.0019, 0.0016], \"textposition\": \"outside\", \"x\": [0.20802475217103317, 0.10188049120543326, 0.07781844319287218, 0.04631437423786562, 0.042382964045598, 0.0397352627032929, 0.032535717553483806, 0.03240663691713208, 0.02883935593266921, 0.026961446413605997, 0.026438524848490838, 0.025482095556851835, 0.025306392815682456, 0.025156145432567435, 0.024602881787186483, 0.02371023301766187, 0.022065084213656327, 0.021228034562446187, 0.018079297692748013, 0.017512108413932158, 0.013876027896337774, 0.013586003465763217, 0.011746503815187654, 0.011262988217767476, 0.010633461202294867, 0.009877392482960726, 0.009147493334309472, 0.007578920771454375, 0.007106355757608509, 0.006196956410509595, 0.005367631565286133, 0.004607683808600161, 0.0035447025744211108, 0.0034141141056174594, 0.002651914146385433, 0.0026023807024817755, 0.002441033449494462, 0.0024350989634859517, 0.0020014549276354803, 0.0018816742451537578, 0.0015599654430348262], \"y\": [\"url_extensions\", \"url_length\", \"url_char_.\", \"url_number_digits\", \"url_char_w\", \"url_number_consonants\", \"url_char_a\", \"url_tlds\", \"url_char_i\", \"url_char_r\", \"url_char_s\", \"url_char_u\", \"url_char_l\", \"url_char_e\", \"url_char_d\", \"url_char_z\", \"url_number_vowels\", \"url_words_with_length_4\", \"url_char_b\", \"url_extension_.com\", \"url_char_t\", \"url_char_y\", \"url_char_c\", \"url_char_h\", \"url_char_p\", \"url_char_o\", \"url_char_f\", \"url_char_m\", \"url_char_n\", \"url_words_with_length_5\", \"url_words_with_length_6\", \"url_char_x\", \"url_char_g\", \"url_char_k\", \"url_words_with_length_7\", \"url_char_v\", \"url_char_-\", \"url_extension_.i\", \"url_char_j\", \"url_extension_.net\", \"url_words_with_length_8\"], \"type\": \"bar\", \"uid\": \"fea592a1-6154-43d2-8366-ba89441c9c4a\"}], {\"autosize\": false, \"height\": 1000, \"width\": 1000, \"xaxis\": {\"tickfont\": {\"color\": \"black\", \"size\": 12}, \"title\": \"Feature Importances\"}, \"yaxis\": {\"automargin\": true}}, {\"showLink\": true, \"linkText\": \"Export to plot.ly\", \"plotlyServerURL\": \"https://plot.ly\"})});</script>"
      ],
      "text/vnd.plotly.v1+html": [
       "<div id=\"83ab8e3b-7acb-49b4-9e17-d1a5a1922772\" style=\"height: 1000px; width: 1000px;\" class=\"plotly-graph-div\"></div><script type=\"text/javascript\">require([\"plotly\"], function(Plotly) { window.PLOTLYENV=window.PLOTLYENV || {};window.PLOTLYENV.BASE_URL=\"https://plot.ly\";Plotly.newPlot(\"83ab8e3b-7acb-49b4-9e17-d1a5a1922772\", [{\"marker\": {\"color\": \"rgb(158,202,225)\", \"line\": {\"color\": \"rgb(8,48,107)\", \"width\": 1.5}}, \"opacity\": 0.6, \"orientation\": \"h\", \"text\": [0.208, 0.1019, 0.0778, 0.0463, 0.0424, 0.0397, 0.0325, 0.0324, 0.0288, 0.027, 0.0264, 0.0255, 0.0253, 0.0252, 0.0246, 0.0237, 0.0221, 0.0212, 0.0181, 0.0175, 0.0139, 0.0136, 0.0117, 0.0113, 0.0106, 0.0099, 0.0091, 0.0076, 0.0071, 0.0062, 0.0054, 0.0046, 0.0035, 0.0034, 0.0027, 0.0026, 0.0024, 0.0024, 0.002, 0.0019, 0.0016], \"textposition\": \"outside\", \"x\": [0.20802475217103317, 0.10188049120543326, 0.07781844319287218, 0.04631437423786562, 0.042382964045598, 0.0397352627032929, 0.032535717553483806, 0.03240663691713208, 0.02883935593266921, 0.026961446413605997, 0.026438524848490838, 0.025482095556851835, 0.025306392815682456, 0.025156145432567435, 0.024602881787186483, 0.02371023301766187, 0.022065084213656327, 0.021228034562446187, 0.018079297692748013, 0.017512108413932158, 0.013876027896337774, 0.013586003465763217, 0.011746503815187654, 0.011262988217767476, 0.010633461202294867, 0.009877392482960726, 0.009147493334309472, 0.007578920771454375, 0.007106355757608509, 0.006196956410509595, 0.005367631565286133, 0.004607683808600161, 0.0035447025744211108, 0.0034141141056174594, 0.002651914146385433, 0.0026023807024817755, 0.002441033449494462, 0.0024350989634859517, 0.0020014549276354803, 0.0018816742451537578, 0.0015599654430348262], \"y\": [\"url_extensions\", \"url_length\", \"url_char_.\", \"url_number_digits\", \"url_char_w\", \"url_number_consonants\", \"url_char_a\", \"url_tlds\", \"url_char_i\", \"url_char_r\", \"url_char_s\", \"url_char_u\", \"url_char_l\", \"url_char_e\", \"url_char_d\", \"url_char_z\", \"url_number_vowels\", \"url_words_with_length_4\", \"url_char_b\", \"url_extension_.com\", \"url_char_t\", \"url_char_y\", \"url_char_c\", \"url_char_h\", \"url_char_p\", \"url_char_o\", \"url_char_f\", \"url_char_m\", \"url_char_n\", \"url_words_with_length_5\", \"url_words_with_length_6\", \"url_char_x\", \"url_char_g\", \"url_char_k\", \"url_words_with_length_7\", \"url_char_v\", \"url_char_-\", \"url_extension_.i\", \"url_char_j\", \"url_extension_.net\", \"url_words_with_length_8\"], \"type\": \"bar\", \"uid\": \"fea592a1-6154-43d2-8366-ba89441c9c4a\"}], {\"autosize\": false, \"height\": 1000, \"width\": 1000, \"xaxis\": {\"tickfont\": {\"color\": \"black\", \"size\": 12}, \"title\": \"Feature Importances\"}, \"yaxis\": {\"automargin\": true}}, {\"showLink\": true, \"linkText\": \"Export to plot.ly\", \"plotlyServerURL\": \"https://plot.ly\"})});</script>"
      ]
     },
     "metadata": {},
     "output_type": "display_data"
    }
   ],
   "source": [
    "feat_impt_plot(np.average(feat_imp,axis=0),columns)"
   ]
  },
  {
   "cell_type": "markdown",
   "metadata": {},
   "source": [
    "### <a id='3' style=\"text-decoration : none; color : #000000;\"> 3. Undersampling</a>"
   ]
  },
  {
   "cell_type": "code",
   "execution_count": 31,
   "metadata": {},
   "outputs": [
    {
     "name": "stdout",
     "output_type": "stream",
     "text": [
      "Shape after undersampling (9666, 41)\n"
     ]
    }
   ],
   "source": [
    "df_non=train[train.Target==0]\n",
    "df_mal=train[train.Target==1]\n",
    "\n",
    "df_non=df_non.sample(frac=len(df_mal)/len(df_non),random_state=0)\n",
    "df_u=df_non.append(df_mal)\n",
    "df_u.Target.value_counts() \n",
    "\n",
    "X_train=df_u[columns]\n",
    "X_train=scaler.transform(X_train)\n",
    "Y_train=df_u.Target.values\n",
    "\n",
    "print(\"Shape after undersampling\",X_train.shape)\n"
   ]
  },
  {
   "cell_type": "code",
   "execution_count": 32,
   "metadata": {},
   "outputs": [],
   "source": [
    "## Table to store training and test measures so we can compare later\n",
    "table_80_90_train=pd.DataFrame(columns=['accuracy','TP','TN','FP','FN','FPR','FNR'])\n",
    "table_80_90_test=pd.DataFrame(columns=['accuracy','TP','TN','FP','FN','FPR','FNR','auc','mcc'])"
   ]
  },
  {
   "cell_type": "code",
   "execution_count": 33,
   "metadata": {
    "scrolled": false
   },
   "outputs": [
    {
     "name": "stdout",
     "output_type": "stream",
     "text": [
      "\u001b[1mK-Nearest Neighbors\u001b[0m\n",
      "Accuracy of the model for training data is: 0.9157872956755638\n",
      "Confusion Matrix for training data is:\n"
     ]
    },
    {
     "data": {
      "text/plain": [
       "Predicted  False  True  __all__\n",
       "Actual                         \n",
       "False       4741    92     4833\n",
       "True         722  4111     4833\n",
       "__all__     5463  4203     9666"
      ]
     },
     "metadata": {},
     "output_type": "display_data"
    },
    {
     "name": "stdout",
     "output_type": "stream",
     "text": [
      "Accuracy of the model for test data is: 0.9482574299764807\n",
      "Confusion Matrix for test data is:\n"
     ]
    },
    {
     "data": {
      "text/plain": [
       "Predicted  False  True  __all__\n",
       "Actual                         \n",
       "False      11622   348    11970\n",
       "True         378  1683     2061\n",
       "__all__    12000  2031    14031"
      ]
     },
     "metadata": {},
     "output_type": "display_data"
    },
    {
     "name": "stdout",
     "output_type": "stream",
     "text": [
      "\n",
      "\n",
      "\u001b[1mLogistic Regression\u001b[0m\n",
      "Accuracy of the model for training data is: 0.8961307676391476\n",
      "Confusion Matrix for training data is:\n"
     ]
    },
    {
     "data": {
      "text/plain": [
       "Predicted  False  True  __all__\n",
       "Actual                         \n",
       "False       4480   353     4833\n",
       "True         651  4182     4833\n",
       "__all__     5131  4535     9666"
      ]
     },
     "metadata": {},
     "output_type": "display_data"
    },
    {
     "name": "stdout",
     "output_type": "stream",
     "text": [
      "Accuracy of the model for test data is: 0.9225286864799372\n",
      "Confusion Matrix for test data is:\n"
     ]
    },
    {
     "data": {
      "text/plain": [
       "Predicted  False  True  __all__\n",
       "Actual                         \n",
       "False      11146   824    11970\n",
       "True         263  1798     2061\n",
       "__all__    11409  2622    14031"
      ]
     },
     "metadata": {},
     "output_type": "display_data"
    },
    {
     "name": "stdout",
     "output_type": "stream",
     "text": [
      "\n",
      "\n",
      "\u001b[1mRandomForest Classifier\u001b[0m\n",
      "Accuracy of the model for training data is: 0.9903786468032278\n",
      "Confusion Matrix for training data is:\n"
     ]
    },
    {
     "data": {
      "text/plain": [
       "Predicted  False  True  __all__\n",
       "Actual                         \n",
       "False       4824     9     4833\n",
       "True          84  4749     4833\n",
       "__all__     4908  4758     9666"
      ]
     },
     "metadata": {},
     "output_type": "display_data"
    },
    {
     "name": "stdout",
     "output_type": "stream",
     "text": [
      "Accuracy of the model for test data is: 0.9392773145178533\n",
      "Confusion Matrix for test data is:\n"
     ]
    },
    {
     "data": {
      "text/plain": [
       "Predicted  False  True  __all__\n",
       "Actual                         \n",
       "False      11384   586    11970\n",
       "True         266  1795     2061\n",
       "__all__    11650  2381    14031"
      ]
     },
     "metadata": {},
     "output_type": "display_data"
    },
    {
     "data": {
      "application/vnd.plotly.v1+json": {
       "config": {
        "linkText": "Export to plot.ly",
        "plotlyServerURL": "https://plot.ly",
        "showLink": true
       },
       "data": [
        {
         "marker": {
          "color": "rgb(158,202,225)",
          "line": {
           "color": "rgb(8,48,107)",
           "width": 1.5
          }
         },
         "opacity": 0.6,
         "orientation": "h",
         "text": [
          0.2038,
          0.1055,
          0.1043,
          0.0608,
          0.048,
          0.048,
          0.0393,
          0.0355,
          0.0239,
          0.0225,
          0.02,
          0.0178,
          0.0175,
          0.0156,
          0.0144,
          0.0141,
          0.0128,
          0.0127,
          0.0125,
          0.012,
          0.0114,
          0.011,
          0.0107,
          0.0105,
          0.0104,
          0.01,
          0.0099,
          0.0091,
          0.0086,
          0.0081,
          0.0077,
          0.0076,
          0.0072,
          0.0069,
          0.0066,
          0.0057,
          0.0047,
          0.0043,
          0.0031,
          0.0028,
          0.0028
         ],
         "textposition": "outside",
         "type": "bar",
         "uid": "9b7cea87-9ce6-4ee2-9246-feb431064871",
         "x": [
          0.20377512624732225,
          0.10550484632033183,
          0.1043216297944908,
          0.06079956159902157,
          0.047960112199242254,
          0.0479544617662589,
          0.03929892550884602,
          0.03553639895006582,
          0.023876213104005433,
          0.022518901823881332,
          0.01996812566007073,
          0.01783469134790004,
          0.01750699472109338,
          0.015625286270940324,
          0.014413593715246902,
          0.01410760613628626,
          0.012764016240987771,
          0.012741566054603356,
          0.01251559587457782,
          0.011994825580451323,
          0.011356874943572503,
          0.010964077599149576,
          0.01068619954856283,
          0.010494297726672937,
          0.010443751557102936,
          0.01000641389471958,
          0.00987048443523944,
          0.009075406049363008,
          0.00856642842314798,
          0.008127425358068058,
          0.007660931310678583,
          0.007559758581642978,
          0.007211388132463535,
          0.006884375216724302,
          0.00659003054032325,
          0.0057122207548114794,
          0.004744092504977431,
          0.0043226499048362056,
          0.003057631354686437,
          0.0028260635801936407,
          0.00282101966743921
         ],
         "y": [
          "url_extensions",
          "url_number_consonants",
          "url_length",
          "url_tlds",
          "url_char_w",
          "url_char_.",
          "url_number_vowels",
          "url_number_digits",
          "url_char_z",
          "url_words_with_length_4",
          "url_extension_.com",
          "url_char_i",
          "url_char_l",
          "url_char_e",
          "url_char_n",
          "url_char_o",
          "url_char_c",
          "url_char_b",
          "url_char_a",
          "url_char_s",
          "url_char_m",
          "url_char_r",
          "url_char_d",
          "url_char_f",
          "url_words_with_length_5",
          "url_char_u",
          "url_char_t",
          "url_char_p",
          "url_char_y",
          "url_words_with_length_6",
          "url_char_g",
          "url_char_h",
          "url_char_k",
          "url_words_with_length_7",
          "url_char_x",
          "url_char_v",
          "url_char_-",
          "url_char_j",
          "url_extension_.net",
          "url_extension_.i",
          "url_words_with_length_8"
         ]
        }
       ],
       "layout": {
        "autosize": false,
        "height": 1000,
        "width": 1000,
        "xaxis": {
         "tickfont": {
          "color": "black",
          "size": 12
         },
         "title": "Feature Importances"
        },
        "yaxis": {
         "automargin": true
        }
       }
      },
      "text/html": [
       "<div id=\"61eff807-6094-4314-b535-9b99a0e8336b\" style=\"height: 1000px; width: 1000px;\" class=\"plotly-graph-div\"></div><script type=\"text/javascript\">require([\"plotly\"], function(Plotly) { window.PLOTLYENV=window.PLOTLYENV || {};window.PLOTLYENV.BASE_URL=\"https://plot.ly\";Plotly.newPlot(\"61eff807-6094-4314-b535-9b99a0e8336b\", [{\"marker\": {\"color\": \"rgb(158,202,225)\", \"line\": {\"color\": \"rgb(8,48,107)\", \"width\": 1.5}}, \"opacity\": 0.6, \"orientation\": \"h\", \"text\": [0.2038, 0.1055, 0.1043, 0.0608, 0.048, 0.048, 0.0393, 0.0355, 0.0239, 0.0225, 0.02, 0.0178, 0.0175, 0.0156, 0.0144, 0.0141, 0.0128, 0.0127, 0.0125, 0.012, 0.0114, 0.011, 0.0107, 0.0105, 0.0104, 0.01, 0.0099, 0.0091, 0.0086, 0.0081, 0.0077, 0.0076, 0.0072, 0.0069, 0.0066, 0.0057, 0.0047, 0.0043, 0.0031, 0.0028, 0.0028], \"textposition\": \"outside\", \"x\": [0.20377512624732225, 0.10550484632033183, 0.1043216297944908, 0.06079956159902157, 0.047960112199242254, 0.0479544617662589, 0.03929892550884602, 0.03553639895006582, 0.023876213104005433, 0.022518901823881332, 0.01996812566007073, 0.01783469134790004, 0.01750699472109338, 0.015625286270940324, 0.014413593715246902, 0.01410760613628626, 0.012764016240987771, 0.012741566054603356, 0.01251559587457782, 0.011994825580451323, 0.011356874943572503, 0.010964077599149576, 0.01068619954856283, 0.010494297726672937, 0.010443751557102936, 0.01000641389471958, 0.00987048443523944, 0.009075406049363008, 0.00856642842314798, 0.008127425358068058, 0.007660931310678583, 0.007559758581642978, 0.007211388132463535, 0.006884375216724302, 0.00659003054032325, 0.0057122207548114794, 0.004744092504977431, 0.0043226499048362056, 0.003057631354686437, 0.0028260635801936407, 0.00282101966743921], \"y\": [\"url_extensions\", \"url_number_consonants\", \"url_length\", \"url_tlds\", \"url_char_w\", \"url_char_.\", \"url_number_vowels\", \"url_number_digits\", \"url_char_z\", \"url_words_with_length_4\", \"url_extension_.com\", \"url_char_i\", \"url_char_l\", \"url_char_e\", \"url_char_n\", \"url_char_o\", \"url_char_c\", \"url_char_b\", \"url_char_a\", \"url_char_s\", \"url_char_m\", \"url_char_r\", \"url_char_d\", \"url_char_f\", \"url_words_with_length_5\", \"url_char_u\", \"url_char_t\", \"url_char_p\", \"url_char_y\", \"url_words_with_length_6\", \"url_char_g\", \"url_char_h\", \"url_char_k\", \"url_words_with_length_7\", \"url_char_x\", \"url_char_v\", \"url_char_-\", \"url_char_j\", \"url_extension_.net\", \"url_extension_.i\", \"url_words_with_length_8\"], \"type\": \"bar\", \"uid\": \"9b7cea87-9ce6-4ee2-9246-feb431064871\"}], {\"autosize\": false, \"height\": 1000, \"width\": 1000, \"xaxis\": {\"tickfont\": {\"color\": \"black\", \"size\": 12}, \"title\": \"Feature Importances\"}, \"yaxis\": {\"automargin\": true}}, {\"showLink\": true, \"linkText\": \"Export to plot.ly\", \"plotlyServerURL\": \"https://plot.ly\"})});</script>"
      ],
      "text/vnd.plotly.v1+html": [
       "<div id=\"61eff807-6094-4314-b535-9b99a0e8336b\" style=\"height: 1000px; width: 1000px;\" class=\"plotly-graph-div\"></div><script type=\"text/javascript\">require([\"plotly\"], function(Plotly) { window.PLOTLYENV=window.PLOTLYENV || {};window.PLOTLYENV.BASE_URL=\"https://plot.ly\";Plotly.newPlot(\"61eff807-6094-4314-b535-9b99a0e8336b\", [{\"marker\": {\"color\": \"rgb(158,202,225)\", \"line\": {\"color\": \"rgb(8,48,107)\", \"width\": 1.5}}, \"opacity\": 0.6, \"orientation\": \"h\", \"text\": [0.2038, 0.1055, 0.1043, 0.0608, 0.048, 0.048, 0.0393, 0.0355, 0.0239, 0.0225, 0.02, 0.0178, 0.0175, 0.0156, 0.0144, 0.0141, 0.0128, 0.0127, 0.0125, 0.012, 0.0114, 0.011, 0.0107, 0.0105, 0.0104, 0.01, 0.0099, 0.0091, 0.0086, 0.0081, 0.0077, 0.0076, 0.0072, 0.0069, 0.0066, 0.0057, 0.0047, 0.0043, 0.0031, 0.0028, 0.0028], \"textposition\": \"outside\", \"x\": [0.20377512624732225, 0.10550484632033183, 0.1043216297944908, 0.06079956159902157, 0.047960112199242254, 0.0479544617662589, 0.03929892550884602, 0.03553639895006582, 0.023876213104005433, 0.022518901823881332, 0.01996812566007073, 0.01783469134790004, 0.01750699472109338, 0.015625286270940324, 0.014413593715246902, 0.01410760613628626, 0.012764016240987771, 0.012741566054603356, 0.01251559587457782, 0.011994825580451323, 0.011356874943572503, 0.010964077599149576, 0.01068619954856283, 0.010494297726672937, 0.010443751557102936, 0.01000641389471958, 0.00987048443523944, 0.009075406049363008, 0.00856642842314798, 0.008127425358068058, 0.007660931310678583, 0.007559758581642978, 0.007211388132463535, 0.006884375216724302, 0.00659003054032325, 0.0057122207548114794, 0.004744092504977431, 0.0043226499048362056, 0.003057631354686437, 0.0028260635801936407, 0.00282101966743921], \"y\": [\"url_extensions\", \"url_number_consonants\", \"url_length\", \"url_tlds\", \"url_char_w\", \"url_char_.\", \"url_number_vowels\", \"url_number_digits\", \"url_char_z\", \"url_words_with_length_4\", \"url_extension_.com\", \"url_char_i\", \"url_char_l\", \"url_char_e\", \"url_char_n\", \"url_char_o\", \"url_char_c\", \"url_char_b\", \"url_char_a\", \"url_char_s\", \"url_char_m\", \"url_char_r\", \"url_char_d\", \"url_char_f\", \"url_words_with_length_5\", \"url_char_u\", \"url_char_t\", \"url_char_p\", \"url_char_y\", \"url_words_with_length_6\", \"url_char_g\", \"url_char_h\", \"url_char_k\", \"url_words_with_length_7\", \"url_char_x\", \"url_char_v\", \"url_char_-\", \"url_char_j\", \"url_extension_.net\", \"url_extension_.i\", \"url_words_with_length_8\"], \"type\": \"bar\", \"uid\": \"9b7cea87-9ce6-4ee2-9246-feb431064871\"}], {\"autosize\": false, \"height\": 1000, \"width\": 1000, \"xaxis\": {\"tickfont\": {\"color\": \"black\", \"size\": 12}, \"title\": \"Feature Importances\"}, \"yaxis\": {\"automargin\": true}}, {\"showLink\": true, \"linkText\": \"Export to plot.ly\", \"plotlyServerURL\": \"https://plot.ly\"})});</script>"
      ]
     },
     "metadata": {},
     "output_type": "display_data"
    },
    {
     "name": "stdout",
     "output_type": "stream",
     "text": [
      "\n",
      "\n",
      "\u001b[1mAdaoost Classifier\u001b[0m\n",
      "Accuracy of the model for training data is: 0.8942685702462239\n",
      "Confusion Matrix for training data is:\n"
     ]
    },
    {
     "data": {
      "text/plain": [
       "Predicted  False  True  __all__\n",
       "Actual                         \n",
       "False       4454   379     4833\n",
       "True         643  4190     4833\n",
       "__all__     5097  4569     9666"
      ]
     },
     "metadata": {},
     "output_type": "display_data"
    },
    {
     "name": "stdout",
     "output_type": "stream",
     "text": [
      "Accuracy of the model for test data is: 0.9095574085952534\n",
      "Confusion Matrix for test data is:\n"
     ]
    },
    {
     "data": {
      "text/plain": [
       "Predicted  False  True  __all__\n",
       "Actual                         \n",
       "False      10959  1011    11970\n",
       "True         258  1803     2061\n",
       "__all__    11217  2814    14031"
      ]
     },
     "metadata": {},
     "output_type": "display_data"
    },
    {
     "data": {
      "application/vnd.plotly.v1+json": {
       "config": {
        "linkText": "Export to plot.ly",
        "plotlyServerURL": "https://plot.ly",
        "showLink": true
       },
       "data": [
        {
         "marker": {
          "color": "rgb(158,202,225)",
          "line": {
           "color": "rgb(8,48,107)",
           "width": 1.5
          }
         },
         "opacity": 0.6,
         "orientation": "h",
         "text": [
          0.18,
          0.1,
          0.08,
          0.06,
          0.04,
          0.04,
          0.04,
          0.04,
          0.02,
          0.02,
          0.02,
          0.02,
          0.02,
          0.02,
          0.02,
          0.02,
          0.02,
          0.02,
          0.02,
          0.02,
          0.02,
          0.02,
          0.02,
          0.02,
          0.02,
          0.02,
          0.02,
          0.02,
          0.02,
          0,
          0,
          0,
          0,
          0,
          0,
          0,
          0,
          0,
          0,
          0,
          0
         ],
         "textposition": "outside",
         "type": "bar",
         "uid": "9b84cd6b-0560-4592-bdd4-69ca8366fcb3",
         "x": [
          0.18,
          0.1,
          0.08,
          0.06,
          0.04,
          0.04,
          0.04,
          0.04,
          0.02,
          0.02,
          0.02,
          0.02,
          0.02,
          0.02,
          0.02,
          0.02,
          0.02,
          0.02,
          0.02,
          0.02,
          0.02,
          0.02,
          0.02,
          0.02,
          0.02,
          0.02,
          0.02,
          0.02,
          0.02,
          0,
          0,
          0,
          0,
          0,
          0,
          0,
          0,
          0,
          0,
          0,
          0
         ],
         "y": [
          "url_length",
          "url_extensions",
          "url_char_w",
          "url_number_digits",
          "url_words_with_length_4",
          "url_char_z",
          "url_char_y",
          "url_char_.",
          "url_words_with_length_5",
          "url_tlds",
          "url_number_vowels",
          "url_char_p",
          "url_extension_.net",
          "url_extension_.i",
          "url_extension_.com",
          "url_number_consonants",
          "url_char_r",
          "url_char_-",
          "url_char_o",
          "url_char_j",
          "url_char_a",
          "url_char_b",
          "url_char_c",
          "url_char_d",
          "url_char_f",
          "url_char_i",
          "url_char_h",
          "url_char_k",
          "url_char_l",
          "url_char_s",
          "url_char_g",
          "url_char_x",
          "url_char_e",
          "url_char_m",
          "url_char_v",
          "url_words_with_length_6",
          "url_words_with_length_7",
          "url_words_with_length_8",
          "url_char_u",
          "url_char_n",
          "url_char_t"
         ]
        }
       ],
       "layout": {
        "autosize": false,
        "height": 1000,
        "width": 1000,
        "xaxis": {
         "tickfont": {
          "color": "black",
          "size": 12
         },
         "title": "Feature Importances"
        },
        "yaxis": {
         "automargin": true
        }
       }
      },
      "text/html": [
       "<div id=\"9e0b1841-08f1-47c9-94e8-0d6f578d705b\" style=\"height: 1000px; width: 1000px;\" class=\"plotly-graph-div\"></div><script type=\"text/javascript\">require([\"plotly\"], function(Plotly) { window.PLOTLYENV=window.PLOTLYENV || {};window.PLOTLYENV.BASE_URL=\"https://plot.ly\";Plotly.newPlot(\"9e0b1841-08f1-47c9-94e8-0d6f578d705b\", [{\"marker\": {\"color\": \"rgb(158,202,225)\", \"line\": {\"color\": \"rgb(8,48,107)\", \"width\": 1.5}}, \"opacity\": 0.6, \"orientation\": \"h\", \"text\": [0.18, 0.1, 0.08, 0.06, 0.04, 0.04, 0.04, 0.04, 0.02, 0.02, 0.02, 0.02, 0.02, 0.02, 0.02, 0.02, 0.02, 0.02, 0.02, 0.02, 0.02, 0.02, 0.02, 0.02, 0.02, 0.02, 0.02, 0.02, 0.02, 0.0, 0.0, 0.0, 0.0, 0.0, 0.0, 0.0, 0.0, 0.0, 0.0, 0.0, 0.0], \"textposition\": \"outside\", \"x\": [0.18, 0.1, 0.08, 0.06, 0.04, 0.04, 0.04, 0.04, 0.02, 0.02, 0.02, 0.02, 0.02, 0.02, 0.02, 0.02, 0.02, 0.02, 0.02, 0.02, 0.02, 0.02, 0.02, 0.02, 0.02, 0.02, 0.02, 0.02, 0.02, 0.0, 0.0, 0.0, 0.0, 0.0, 0.0, 0.0, 0.0, 0.0, 0.0, 0.0, 0.0], \"y\": [\"url_length\", \"url_extensions\", \"url_char_w\", \"url_number_digits\", \"url_words_with_length_4\", \"url_char_z\", \"url_char_y\", \"url_char_.\", \"url_words_with_length_5\", \"url_tlds\", \"url_number_vowels\", \"url_char_p\", \"url_extension_.net\", \"url_extension_.i\", \"url_extension_.com\", \"url_number_consonants\", \"url_char_r\", \"url_char_-\", \"url_char_o\", \"url_char_j\", \"url_char_a\", \"url_char_b\", \"url_char_c\", \"url_char_d\", \"url_char_f\", \"url_char_i\", \"url_char_h\", \"url_char_k\", \"url_char_l\", \"url_char_s\", \"url_char_g\", \"url_char_x\", \"url_char_e\", \"url_char_m\", \"url_char_v\", \"url_words_with_length_6\", \"url_words_with_length_7\", \"url_words_with_length_8\", \"url_char_u\", \"url_char_n\", \"url_char_t\"], \"type\": \"bar\", \"uid\": \"9b84cd6b-0560-4592-bdd4-69ca8366fcb3\"}], {\"autosize\": false, \"height\": 1000, \"width\": 1000, \"xaxis\": {\"tickfont\": {\"color\": \"black\", \"size\": 12}, \"title\": \"Feature Importances\"}, \"yaxis\": {\"automargin\": true}}, {\"showLink\": true, \"linkText\": \"Export to plot.ly\", \"plotlyServerURL\": \"https://plot.ly\"})});</script>"
      ],
      "text/vnd.plotly.v1+html": [
       "<div id=\"9e0b1841-08f1-47c9-94e8-0d6f578d705b\" style=\"height: 1000px; width: 1000px;\" class=\"plotly-graph-div\"></div><script type=\"text/javascript\">require([\"plotly\"], function(Plotly) { window.PLOTLYENV=window.PLOTLYENV || {};window.PLOTLYENV.BASE_URL=\"https://plot.ly\";Plotly.newPlot(\"9e0b1841-08f1-47c9-94e8-0d6f578d705b\", [{\"marker\": {\"color\": \"rgb(158,202,225)\", \"line\": {\"color\": \"rgb(8,48,107)\", \"width\": 1.5}}, \"opacity\": 0.6, \"orientation\": \"h\", \"text\": [0.18, 0.1, 0.08, 0.06, 0.04, 0.04, 0.04, 0.04, 0.02, 0.02, 0.02, 0.02, 0.02, 0.02, 0.02, 0.02, 0.02, 0.02, 0.02, 0.02, 0.02, 0.02, 0.02, 0.02, 0.02, 0.02, 0.02, 0.02, 0.02, 0.0, 0.0, 0.0, 0.0, 0.0, 0.0, 0.0, 0.0, 0.0, 0.0, 0.0, 0.0], \"textposition\": \"outside\", \"x\": [0.18, 0.1, 0.08, 0.06, 0.04, 0.04, 0.04, 0.04, 0.02, 0.02, 0.02, 0.02, 0.02, 0.02, 0.02, 0.02, 0.02, 0.02, 0.02, 0.02, 0.02, 0.02, 0.02, 0.02, 0.02, 0.02, 0.02, 0.02, 0.02, 0.0, 0.0, 0.0, 0.0, 0.0, 0.0, 0.0, 0.0, 0.0, 0.0, 0.0, 0.0], \"y\": [\"url_length\", \"url_extensions\", \"url_char_w\", \"url_number_digits\", \"url_words_with_length_4\", \"url_char_z\", \"url_char_y\", \"url_char_.\", \"url_words_with_length_5\", \"url_tlds\", \"url_number_vowels\", \"url_char_p\", \"url_extension_.net\", \"url_extension_.i\", \"url_extension_.com\", \"url_number_consonants\", \"url_char_r\", \"url_char_-\", \"url_char_o\", \"url_char_j\", \"url_char_a\", \"url_char_b\", \"url_char_c\", \"url_char_d\", \"url_char_f\", \"url_char_i\", \"url_char_h\", \"url_char_k\", \"url_char_l\", \"url_char_s\", \"url_char_g\", \"url_char_x\", \"url_char_e\", \"url_char_m\", \"url_char_v\", \"url_words_with_length_6\", \"url_words_with_length_7\", \"url_words_with_length_8\", \"url_char_u\", \"url_char_n\", \"url_char_t\"], \"type\": \"bar\", \"uid\": \"9b84cd6b-0560-4592-bdd4-69ca8366fcb3\"}], {\"autosize\": false, \"height\": 1000, \"width\": 1000, \"xaxis\": {\"tickfont\": {\"color\": \"black\", \"size\": 12}, \"title\": \"Feature Importances\"}, \"yaxis\": {\"automargin\": true}}, {\"showLink\": true, \"linkText\": \"Export to plot.ly\", \"plotlyServerURL\": \"https://plot.ly\"})});</script>"
      ]
     },
     "metadata": {},
     "output_type": "display_data"
    },
    {
     "name": "stdout",
     "output_type": "stream",
     "text": [
      "\n",
      "\n",
      "\u001b[1mGradientBoosting Classifier\u001b[0m\n",
      "Accuracy of the model for training data is: 0.9077177736395613\n",
      "Confusion Matrix for training data is:\n"
     ]
    },
    {
     "data": {
      "text/plain": [
       "Predicted  False  True  __all__\n",
       "Actual                         \n",
       "False       4581   252     4833\n",
       "True         640  4193     4833\n",
       "__all__     5221  4445     9666"
      ]
     },
     "metadata": {},
     "output_type": "display_data"
    },
    {
     "name": "stdout",
     "output_type": "stream",
     "text": [
      "Accuracy of the model for test data is: 0.9312949896657401\n",
      "Confusion Matrix for test data is:\n"
     ]
    },
    {
     "data": {
      "text/plain": [
       "Predicted  False  True  __all__\n",
       "Actual                         \n",
       "False      11275   695    11970\n",
       "True         269  1792     2061\n",
       "__all__    11544  2487    14031"
      ]
     },
     "metadata": {},
     "output_type": "display_data"
    },
    {
     "data": {
      "application/vnd.plotly.v1+json": {
       "config": {
        "linkText": "Export to plot.ly",
        "plotlyServerURL": "https://plot.ly",
        "showLink": true
       },
       "data": [
        {
         "marker": {
          "color": "rgb(158,202,225)",
          "line": {
           "color": "rgb(8,48,107)",
           "width": 1.5
          }
         },
         "opacity": 0.6,
         "orientation": "h",
         "text": [
          0.4111,
          0.332,
          0.0779,
          0.0388,
          0.0339,
          0.0297,
          0.0161,
          0.0124,
          0.0103,
          0.0073,
          0.0042,
          0.0032,
          0.0017,
          0.0017,
          0.0016,
          0.0015,
          0.0013,
          0.0013,
          0.0013,
          0.0012,
          0.0011,
          0.0011,
          0.001,
          0.001,
          0.0009,
          0.0009,
          0.0009,
          0.0008,
          0.0006,
          0.0006,
          0.0006,
          0.0005,
          0.0004,
          0.0003,
          0.0003,
          0.0003,
          0.0002,
          0.0001,
          0.0001,
          0,
          0
         ],
         "textposition": "outside",
         "type": "bar",
         "uid": "7d8ec481-cccb-4fe8-8718-c8a2644a99f2",
         "x": [
          0.4111440013828738,
          0.3319885734575848,
          0.077938208302867,
          0.038770018893057895,
          0.033947826433903656,
          0.0297002428856809,
          0.016083158249953492,
          0.01237659025047664,
          0.010280995021162713,
          0.007346441259601483,
          0.00415869233189152,
          0.0032241841474750627,
          0.0016858019432747788,
          0.0016711315569863877,
          0.0016348656833933702,
          0.001507966993208587,
          0.0012986728785912168,
          0.001287516209810216,
          0.0012514339120539087,
          0.001214047607393422,
          0.0010630263109631265,
          0.001062787000604627,
          0.000978706848790323,
          0.0009626624990969684,
          0.0009309748986586691,
          0.0009014584006539152,
          0.0008509100977987821,
          0.000762215235241846,
          0.0006382881207335481,
          0.0005963176882896762,
          0.0005914340955318922,
          0.0005029493499834607,
          0.0003679860473657068,
          0.00032492993298809006,
          0.0002891844374894271,
          0.0002503237217993093,
          0.00021878065596003454,
          9.614403227923268e-05,
          7.324342639151121e-05,
          2.7307798138864683e-05,
          0
         ],
         "y": [
          "url_extensions",
          "url_length",
          "url_char_.",
          "url_number_digits",
          "url_char_z",
          "url_char_w",
          "url_char_b",
          "url_extension_.com",
          "url_words_with_length_4",
          "url_tlds",
          "url_number_consonants",
          "url_char_i",
          "url_char_-",
          "url_char_p",
          "url_char_o",
          "url_char_f",
          "url_char_y",
          "url_extension_.i",
          "url_extension_.net",
          "url_char_a",
          "url_char_r",
          "url_char_l",
          "url_char_h",
          "url_char_c",
          "url_char_x",
          "url_char_d",
          "url_number_vowels",
          "url_char_m",
          "url_words_with_length_5",
          "url_words_with_length_6",
          "url_char_e",
          "url_char_j",
          "url_char_g",
          "url_char_s",
          "url_words_with_length_7",
          "url_char_t",
          "url_char_u",
          "url_char_v",
          "url_char_n",
          "url_char_k",
          "url_words_with_length_8"
         ]
        }
       ],
       "layout": {
        "autosize": false,
        "height": 1000,
        "width": 1000,
        "xaxis": {
         "tickfont": {
          "color": "black",
          "size": 12
         },
         "title": "Feature Importances"
        },
        "yaxis": {
         "automargin": true
        }
       }
      },
      "text/html": [
       "<div id=\"19b21bae-9830-40bf-9eaa-f69a2bfb1f18\" style=\"height: 1000px; width: 1000px;\" class=\"plotly-graph-div\"></div><script type=\"text/javascript\">require([\"plotly\"], function(Plotly) { window.PLOTLYENV=window.PLOTLYENV || {};window.PLOTLYENV.BASE_URL=\"https://plot.ly\";Plotly.newPlot(\"19b21bae-9830-40bf-9eaa-f69a2bfb1f18\", [{\"marker\": {\"color\": \"rgb(158,202,225)\", \"line\": {\"color\": \"rgb(8,48,107)\", \"width\": 1.5}}, \"opacity\": 0.6, \"orientation\": \"h\", \"text\": [0.4111, 0.332, 0.0779, 0.0388, 0.0339, 0.0297, 0.0161, 0.0124, 0.0103, 0.0073, 0.0042, 0.0032, 0.0017, 0.0017, 0.0016, 0.0015, 0.0013, 0.0013, 0.0013, 0.0012, 0.0011, 0.0011, 0.001, 0.001, 0.0009, 0.0009, 0.0009, 0.0008, 0.0006, 0.0006, 0.0006, 0.0005, 0.0004, 0.0003, 0.0003, 0.0003, 0.0002, 0.0001, 0.0001, 0.0, 0.0], \"textposition\": \"outside\", \"x\": [0.4111440013828738, 0.3319885734575848, 0.077938208302867, 0.038770018893057895, 0.033947826433903656, 0.0297002428856809, 0.016083158249953492, 0.01237659025047664, 0.010280995021162713, 0.007346441259601483, 0.00415869233189152, 0.0032241841474750627, 0.0016858019432747788, 0.0016711315569863877, 0.0016348656833933702, 0.001507966993208587, 0.0012986728785912168, 0.001287516209810216, 0.0012514339120539087, 0.001214047607393422, 0.0010630263109631265, 0.001062787000604627, 0.000978706848790323, 0.0009626624990969684, 0.0009309748986586691, 0.0009014584006539152, 0.0008509100977987821, 0.000762215235241846, 0.0006382881207335481, 0.0005963176882896762, 0.0005914340955318922, 0.0005029493499834607, 0.0003679860473657068, 0.00032492993298809006, 0.0002891844374894271, 0.0002503237217993093, 0.00021878065596003454, 9.614403227923268e-05, 7.324342639151121e-05, 2.7307798138864683e-05, 0.0], \"y\": [\"url_extensions\", \"url_length\", \"url_char_.\", \"url_number_digits\", \"url_char_z\", \"url_char_w\", \"url_char_b\", \"url_extension_.com\", \"url_words_with_length_4\", \"url_tlds\", \"url_number_consonants\", \"url_char_i\", \"url_char_-\", \"url_char_p\", \"url_char_o\", \"url_char_f\", \"url_char_y\", \"url_extension_.i\", \"url_extension_.net\", \"url_char_a\", \"url_char_r\", \"url_char_l\", \"url_char_h\", \"url_char_c\", \"url_char_x\", \"url_char_d\", \"url_number_vowels\", \"url_char_m\", \"url_words_with_length_5\", \"url_words_with_length_6\", \"url_char_e\", \"url_char_j\", \"url_char_g\", \"url_char_s\", \"url_words_with_length_7\", \"url_char_t\", \"url_char_u\", \"url_char_v\", \"url_char_n\", \"url_char_k\", \"url_words_with_length_8\"], \"type\": \"bar\", \"uid\": \"7d8ec481-cccb-4fe8-8718-c8a2644a99f2\"}], {\"autosize\": false, \"height\": 1000, \"width\": 1000, \"xaxis\": {\"tickfont\": {\"color\": \"black\", \"size\": 12}, \"title\": \"Feature Importances\"}, \"yaxis\": {\"automargin\": true}}, {\"showLink\": true, \"linkText\": \"Export to plot.ly\", \"plotlyServerURL\": \"https://plot.ly\"})});</script>"
      ],
      "text/vnd.plotly.v1+html": [
       "<div id=\"19b21bae-9830-40bf-9eaa-f69a2bfb1f18\" style=\"height: 1000px; width: 1000px;\" class=\"plotly-graph-div\"></div><script type=\"text/javascript\">require([\"plotly\"], function(Plotly) { window.PLOTLYENV=window.PLOTLYENV || {};window.PLOTLYENV.BASE_URL=\"https://plot.ly\";Plotly.newPlot(\"19b21bae-9830-40bf-9eaa-f69a2bfb1f18\", [{\"marker\": {\"color\": \"rgb(158,202,225)\", \"line\": {\"color\": \"rgb(8,48,107)\", \"width\": 1.5}}, \"opacity\": 0.6, \"orientation\": \"h\", \"text\": [0.4111, 0.332, 0.0779, 0.0388, 0.0339, 0.0297, 0.0161, 0.0124, 0.0103, 0.0073, 0.0042, 0.0032, 0.0017, 0.0017, 0.0016, 0.0015, 0.0013, 0.0013, 0.0013, 0.0012, 0.0011, 0.0011, 0.001, 0.001, 0.0009, 0.0009, 0.0009, 0.0008, 0.0006, 0.0006, 0.0006, 0.0005, 0.0004, 0.0003, 0.0003, 0.0003, 0.0002, 0.0001, 0.0001, 0.0, 0.0], \"textposition\": \"outside\", \"x\": [0.4111440013828738, 0.3319885734575848, 0.077938208302867, 0.038770018893057895, 0.033947826433903656, 0.0297002428856809, 0.016083158249953492, 0.01237659025047664, 0.010280995021162713, 0.007346441259601483, 0.00415869233189152, 0.0032241841474750627, 0.0016858019432747788, 0.0016711315569863877, 0.0016348656833933702, 0.001507966993208587, 0.0012986728785912168, 0.001287516209810216, 0.0012514339120539087, 0.001214047607393422, 0.0010630263109631265, 0.001062787000604627, 0.000978706848790323, 0.0009626624990969684, 0.0009309748986586691, 0.0009014584006539152, 0.0008509100977987821, 0.000762215235241846, 0.0006382881207335481, 0.0005963176882896762, 0.0005914340955318922, 0.0005029493499834607, 0.0003679860473657068, 0.00032492993298809006, 0.0002891844374894271, 0.0002503237217993093, 0.00021878065596003454, 9.614403227923268e-05, 7.324342639151121e-05, 2.7307798138864683e-05, 0.0], \"y\": [\"url_extensions\", \"url_length\", \"url_char_.\", \"url_number_digits\", \"url_char_z\", \"url_char_w\", \"url_char_b\", \"url_extension_.com\", \"url_words_with_length_4\", \"url_tlds\", \"url_number_consonants\", \"url_char_i\", \"url_char_-\", \"url_char_p\", \"url_char_o\", \"url_char_f\", \"url_char_y\", \"url_extension_.i\", \"url_extension_.net\", \"url_char_a\", \"url_char_r\", \"url_char_l\", \"url_char_h\", \"url_char_c\", \"url_char_x\", \"url_char_d\", \"url_number_vowels\", \"url_char_m\", \"url_words_with_length_5\", \"url_words_with_length_6\", \"url_char_e\", \"url_char_j\", \"url_char_g\", \"url_char_s\", \"url_words_with_length_7\", \"url_char_t\", \"url_char_u\", \"url_char_v\", \"url_char_n\", \"url_char_k\", \"url_words_with_length_8\"], \"type\": \"bar\", \"uid\": \"7d8ec481-cccb-4fe8-8718-c8a2644a99f2\"}], {\"autosize\": false, \"height\": 1000, \"width\": 1000, \"xaxis\": {\"tickfont\": {\"color\": \"black\", \"size\": 12}, \"title\": \"Feature Importances\"}, \"yaxis\": {\"automargin\": true}}, {\"showLink\": true, \"linkText\": \"Export to plot.ly\", \"plotlyServerURL\": \"https://plot.ly\"})});</script>"
      ]
     },
     "metadata": {},
     "output_type": "display_data"
    },
    {
     "name": "stdout",
     "output_type": "stream",
     "text": [
      "\n",
      "\n",
      "\u001b[1mExtraTree Classifier\u001b[0m\n",
      "Accuracy of the model for training data is: 1.0\n",
      "Confusion Matrix for training data is:\n"
     ]
    },
    {
     "data": {
      "text/plain": [
       "Predicted  False  True  __all__\n",
       "Actual                         \n",
       "False       4833     0     4833\n",
       "True           0  4833     4833\n",
       "__all__     4833  4833     9666"
      ]
     },
     "metadata": {},
     "output_type": "display_data"
    },
    {
     "name": "stdout",
     "output_type": "stream",
     "text": [
      "Accuracy of the model for test data is: 0.9367828380015679\n",
      "Confusion Matrix for test data is:\n"
     ]
    },
    {
     "data": {
      "text/plain": [
       "Predicted  False  True  __all__\n",
       "Actual                         \n",
       "False      11352   618    11970\n",
       "True         269  1792     2061\n",
       "__all__    11621  2410    14031"
      ]
     },
     "metadata": {},
     "output_type": "display_data"
    },
    {
     "data": {
      "application/vnd.plotly.v1+json": {
       "config": {
        "linkText": "Export to plot.ly",
        "plotlyServerURL": "https://plot.ly",
        "showLink": true
       },
       "data": [
        {
         "marker": {
          "color": "rgb(158,202,225)",
          "line": {
           "color": "rgb(8,48,107)",
           "width": 1.5
          }
         },
         "opacity": 0.6,
         "orientation": "h",
         "text": [
          0.1494,
          0.1108,
          0.0705,
          0.0482,
          0.0465,
          0.0381,
          0.0362,
          0.0335,
          0.0323,
          0.0294,
          0.0262,
          0.0223,
          0.021,
          0.0185,
          0.0182,
          0.0171,
          0.0166,
          0.016,
          0.0153,
          0.0143,
          0.0143,
          0.014,
          0.0134,
          0.0131,
          0.0125,
          0.0124,
          0.0123,
          0.0121,
          0.0119,
          0.0117,
          0.0107,
          0.0102,
          0.0096,
          0.0092,
          0.0091,
          0.0087,
          0.0085,
          0.0083,
          0.0067,
          0.0061,
          0.0044
         ],
         "textposition": "outside",
         "type": "bar",
         "uid": "63f3622f-f52b-48e1-97f2-e88e5c84b21d",
         "x": [
          0.14943410835437929,
          0.11084149234446553,
          0.07054098555741835,
          0.048192152223014074,
          0.046541292020714525,
          0.038121260338757915,
          0.036181403377998286,
          0.033531593951777634,
          0.032342121851507574,
          0.029357615373555673,
          0.02620439957152369,
          0.02227887893841554,
          0.021035930721139184,
          0.01852691604059721,
          0.018192765539676754,
          0.017099893183936746,
          0.016573646498667636,
          0.01602783870086558,
          0.015292558450816373,
          0.014309448840164926,
          0.014270087788653948,
          0.014021836581431177,
          0.013394389652450128,
          0.013137143890647202,
          0.01251322897116455,
          0.012418942724735229,
          0.012258395198183433,
          0.012122086393479193,
          0.011871724332936708,
          0.0117372388901748,
          0.010664224547648104,
          0.010221981963442792,
          0.009641562165451537,
          0.009204604723355261,
          0.009118677714468571,
          0.008748559455080105,
          0.008491984181644024,
          0.008294080612884173,
          0.006707577328204111,
          0.006141357881493845,
          0.00439401312307868
         ],
         "y": [
          "url_char_.",
          "url_extensions",
          "url_length",
          "url_char_w",
          "url_number_digits",
          "url_number_consonants",
          "url_char_i",
          "url_number_vowels",
          "url_tlds",
          "url_extension_.com",
          "url_words_with_length_4",
          "url_char_z",
          "url_char_y",
          "url_char_b",
          "url_char_p",
          "url_char_e",
          "url_char_o",
          "url_char_n",
          "url_char_u",
          "url_char_s",
          "url_char_l",
          "url_char_h",
          "url_char_a",
          "url_words_with_length_5",
          "url_char_r",
          "url_char_c",
          "url_char_d",
          "url_char_m",
          "url_char_t",
          "url_char_f",
          "url_words_with_length_7",
          "url_char_x",
          "url_char_k",
          "url_words_with_length_6",
          "url_char_g",
          "url_char_v",
          "url_char_j",
          "url_words_with_length_8",
          "url_char_-",
          "url_extension_.i",
          "url_extension_.net"
         ]
        }
       ],
       "layout": {
        "autosize": false,
        "height": 1000,
        "width": 1000,
        "xaxis": {
         "tickfont": {
          "color": "black",
          "size": 12
         },
         "title": "Feature Importances"
        },
        "yaxis": {
         "automargin": true
        }
       }
      },
      "text/html": [
       "<div id=\"e8347d47-4c8e-42a2-b9f0-ce967afbdd3a\" style=\"height: 1000px; width: 1000px;\" class=\"plotly-graph-div\"></div><script type=\"text/javascript\">require([\"plotly\"], function(Plotly) { window.PLOTLYENV=window.PLOTLYENV || {};window.PLOTLYENV.BASE_URL=\"https://plot.ly\";Plotly.newPlot(\"e8347d47-4c8e-42a2-b9f0-ce967afbdd3a\", [{\"marker\": {\"color\": \"rgb(158,202,225)\", \"line\": {\"color\": \"rgb(8,48,107)\", \"width\": 1.5}}, \"opacity\": 0.6, \"orientation\": \"h\", \"text\": [0.1494, 0.1108, 0.0705, 0.0482, 0.0465, 0.0381, 0.0362, 0.0335, 0.0323, 0.0294, 0.0262, 0.0223, 0.021, 0.0185, 0.0182, 0.0171, 0.0166, 0.016, 0.0153, 0.0143, 0.0143, 0.014, 0.0134, 0.0131, 0.0125, 0.0124, 0.0123, 0.0121, 0.0119, 0.0117, 0.0107, 0.0102, 0.0096, 0.0092, 0.0091, 0.0087, 0.0085, 0.0083, 0.0067, 0.0061, 0.0044], \"textposition\": \"outside\", \"x\": [0.14943410835437929, 0.11084149234446553, 0.07054098555741835, 0.048192152223014074, 0.046541292020714525, 0.038121260338757915, 0.036181403377998286, 0.033531593951777634, 0.032342121851507574, 0.029357615373555673, 0.02620439957152369, 0.02227887893841554, 0.021035930721139184, 0.01852691604059721, 0.018192765539676754, 0.017099893183936746, 0.016573646498667636, 0.01602783870086558, 0.015292558450816373, 0.014309448840164926, 0.014270087788653948, 0.014021836581431177, 0.013394389652450128, 0.013137143890647202, 0.01251322897116455, 0.012418942724735229, 0.012258395198183433, 0.012122086393479193, 0.011871724332936708, 0.0117372388901748, 0.010664224547648104, 0.010221981963442792, 0.009641562165451537, 0.009204604723355261, 0.009118677714468571, 0.008748559455080105, 0.008491984181644024, 0.008294080612884173, 0.006707577328204111, 0.006141357881493845, 0.00439401312307868], \"y\": [\"url_char_.\", \"url_extensions\", \"url_length\", \"url_char_w\", \"url_number_digits\", \"url_number_consonants\", \"url_char_i\", \"url_number_vowels\", \"url_tlds\", \"url_extension_.com\", \"url_words_with_length_4\", \"url_char_z\", \"url_char_y\", \"url_char_b\", \"url_char_p\", \"url_char_e\", \"url_char_o\", \"url_char_n\", \"url_char_u\", \"url_char_s\", \"url_char_l\", \"url_char_h\", \"url_char_a\", \"url_words_with_length_5\", \"url_char_r\", \"url_char_c\", \"url_char_d\", \"url_char_m\", \"url_char_t\", \"url_char_f\", \"url_words_with_length_7\", \"url_char_x\", \"url_char_k\", \"url_words_with_length_6\", \"url_char_g\", \"url_char_v\", \"url_char_j\", \"url_words_with_length_8\", \"url_char_-\", \"url_extension_.i\", \"url_extension_.net\"], \"type\": \"bar\", \"uid\": \"63f3622f-f52b-48e1-97f2-e88e5c84b21d\"}], {\"autosize\": false, \"height\": 1000, \"width\": 1000, \"xaxis\": {\"tickfont\": {\"color\": \"black\", \"size\": 12}, \"title\": \"Feature Importances\"}, \"yaxis\": {\"automargin\": true}}, {\"showLink\": true, \"linkText\": \"Export to plot.ly\", \"plotlyServerURL\": \"https://plot.ly\"})});</script>"
      ],
      "text/vnd.plotly.v1+html": [
       "<div id=\"e8347d47-4c8e-42a2-b9f0-ce967afbdd3a\" style=\"height: 1000px; width: 1000px;\" class=\"plotly-graph-div\"></div><script type=\"text/javascript\">require([\"plotly\"], function(Plotly) { window.PLOTLYENV=window.PLOTLYENV || {};window.PLOTLYENV.BASE_URL=\"https://plot.ly\";Plotly.newPlot(\"e8347d47-4c8e-42a2-b9f0-ce967afbdd3a\", [{\"marker\": {\"color\": \"rgb(158,202,225)\", \"line\": {\"color\": \"rgb(8,48,107)\", \"width\": 1.5}}, \"opacity\": 0.6, \"orientation\": \"h\", \"text\": [0.1494, 0.1108, 0.0705, 0.0482, 0.0465, 0.0381, 0.0362, 0.0335, 0.0323, 0.0294, 0.0262, 0.0223, 0.021, 0.0185, 0.0182, 0.0171, 0.0166, 0.016, 0.0153, 0.0143, 0.0143, 0.014, 0.0134, 0.0131, 0.0125, 0.0124, 0.0123, 0.0121, 0.0119, 0.0117, 0.0107, 0.0102, 0.0096, 0.0092, 0.0091, 0.0087, 0.0085, 0.0083, 0.0067, 0.0061, 0.0044], \"textposition\": \"outside\", \"x\": [0.14943410835437929, 0.11084149234446553, 0.07054098555741835, 0.048192152223014074, 0.046541292020714525, 0.038121260338757915, 0.036181403377998286, 0.033531593951777634, 0.032342121851507574, 0.029357615373555673, 0.02620439957152369, 0.02227887893841554, 0.021035930721139184, 0.01852691604059721, 0.018192765539676754, 0.017099893183936746, 0.016573646498667636, 0.01602783870086558, 0.015292558450816373, 0.014309448840164926, 0.014270087788653948, 0.014021836581431177, 0.013394389652450128, 0.013137143890647202, 0.01251322897116455, 0.012418942724735229, 0.012258395198183433, 0.012122086393479193, 0.011871724332936708, 0.0117372388901748, 0.010664224547648104, 0.010221981963442792, 0.009641562165451537, 0.009204604723355261, 0.009118677714468571, 0.008748559455080105, 0.008491984181644024, 0.008294080612884173, 0.006707577328204111, 0.006141357881493845, 0.00439401312307868], \"y\": [\"url_char_.\", \"url_extensions\", \"url_length\", \"url_char_w\", \"url_number_digits\", \"url_number_consonants\", \"url_char_i\", \"url_number_vowels\", \"url_tlds\", \"url_extension_.com\", \"url_words_with_length_4\", \"url_char_z\", \"url_char_y\", \"url_char_b\", \"url_char_p\", \"url_char_e\", \"url_char_o\", \"url_char_n\", \"url_char_u\", \"url_char_s\", \"url_char_l\", \"url_char_h\", \"url_char_a\", \"url_words_with_length_5\", \"url_char_r\", \"url_char_c\", \"url_char_d\", \"url_char_m\", \"url_char_t\", \"url_char_f\", \"url_words_with_length_7\", \"url_char_x\", \"url_char_k\", \"url_words_with_length_6\", \"url_char_g\", \"url_char_v\", \"url_char_j\", \"url_words_with_length_8\", \"url_char_-\", \"url_extension_.i\", \"url_extension_.net\"], \"type\": \"bar\", \"uid\": \"63f3622f-f52b-48e1-97f2-e88e5c84b21d\"}], {\"autosize\": false, \"height\": 1000, \"width\": 1000, \"xaxis\": {\"tickfont\": {\"color\": \"black\", \"size\": 12}, \"title\": \"Feature Importances\"}, \"yaxis\": {\"automargin\": true}}, {\"showLink\": true, \"linkText\": \"Export to plot.ly\", \"plotlyServerURL\": \"https://plot.ly\"})});</script>"
      ]
     },
     "metadata": {},
     "output_type": "display_data"
    },
    {
     "name": "stdout",
     "output_type": "stream",
     "text": [
      "\n",
      "\n",
      "\u001b[1mBagging Classifier\u001b[0m\n",
      "Accuracy of the model for training data is: 0.9899648251603559\n",
      "Confusion Matrix for training data is:\n"
     ]
    },
    {
     "data": {
      "text/plain": [
       "Predicted  False  True  __all__\n",
       "Actual                         \n",
       "False       4824     9     4833\n",
       "True          88  4745     4833\n",
       "__all__     4912  4754     9666"
      ]
     },
     "metadata": {},
     "output_type": "display_data"
    },
    {
     "name": "stdout",
     "output_type": "stream",
     "text": [
      "Accuracy of the model for test data is: 0.9324353217874706\n",
      "Confusion Matrix for test data is:\n"
     ]
    },
    {
     "data": {
      "text/plain": [
       "Predicted  False  True  __all__\n",
       "Actual                         \n",
       "False      11308   662    11970\n",
       "True         286  1775     2061\n",
       "__all__    11594  2437    14031"
      ]
     },
     "metadata": {},
     "output_type": "display_data"
    },
    {
     "name": "stdout",
     "output_type": "stream",
     "text": [
      "\n",
      "\n",
      "\u001b[1mNeural Network-1\u001b[0m\n",
      "The accuracy of the model on training data is: 0.9982412580177943\n"
     ]
    },
    {
     "data": {
      "text/plain": [
       "Predicted  False  True  __all__\n",
       "Actual                         \n",
       "False       4833     0     4833\n",
       "True          17  4816     4833\n",
       "__all__     4850  4816     9666"
      ]
     },
     "metadata": {},
     "output_type": "display_data"
    },
    {
     "name": "stdout",
     "output_type": "stream",
     "text": [
      "The accuracy of the model on test data is: 0.9039270187442092\n"
     ]
    },
    {
     "data": {
      "text/plain": [
       "Predicted  False  True  __all__\n",
       "Actual                         \n",
       "False      10865  1105    11970\n",
       "True         243  1818     2061\n",
       "__all__    11108  2923    14031"
      ]
     },
     "metadata": {},
     "output_type": "display_data"
    },
    {
     "name": "stdout",
     "output_type": "stream",
     "text": [
      "\n",
      "\n"
     ]
    }
   ],
   "source": [
    "feat_imp=[None]*4\n",
    "j=0\n",
    "for i in range(0,8):\n",
    "    if i>=2 and i<=5:\n",
    "        model,cm_train,cm_test,acc_train,acc_test,roc_auc,feat_imp[j],mcc=f[i](X_train,Y_train,scaled_X_test,test_Y,columns)\n",
    "        j=j+1\n",
    "    else:\n",
    "        model,cm_train,cm_test,acc_train,acc_test,roc_auc,mcc=f[i](X_train,Y_train,scaled_X_test,test_Y)\n",
    "    table_80_90_train.loc[i]=   ([acc_train,cm_train.TP,cm_train.TN,cm_train.FP,cm_train.FN,cm_train.FPR,cm_train.FNR])\n",
    "    table_80_90_test.loc[i] =   ([acc_test ,cm_test.TP, cm_test.TN, cm_test.FP, cm_test.FN, cm_test.FPR, cm_test.FNR,roc_auc,mcc])\n",
    "    print(\"\\n\")"
   ]
  },
  {
   "cell_type": "markdown",
   "metadata": {},
   "source": [
    "### <a id='3.A' style=\"text-decoration : none; color : #000000;\"> A. Results</a>"
   ]
  },
  {
   "cell_type": "code",
   "execution_count": 34,
   "metadata": {},
   "outputs": [
    {
     "data": {
      "application/vnd.plotly.v1+json": {
       "config": {
        "linkText": "Export to plot.ly",
        "plotlyServerURL": "https://plot.ly",
        "showLink": true
       },
       "data": [
        {
         "mode": "lines",
         "name": "KNN_model",
         "type": "scatter",
         "uid": "1d959cc3-4103-45fc-b690-c9dfbb1af74d",
         "x": [
          "accuracy",
          "FPR",
          "FNR",
          "auc"
         ],
         "y": [
          0.9482574299764807,
          0.029072681704260653,
          0.18340611353711792,
          0.8937606023793107
         ]
        },
        {
         "mode": "lines+markers",
         "name": "Logistic Regression",
         "type": "scatter",
         "uid": "348c5935-9a82-4dd8-b395-5b6782cc9ed4",
         "x": [
          "accuracy",
          "FPR",
          "FNR",
          "auc"
         ],
         "y": [
          0.9225286864799372,
          0.06883876357560569,
          0.12760795730228044,
          0.901776639561057
         ]
        },
        {
         "marker": {
          "symbol": "x"
         },
         "mode": "lines+markers",
         "name": "Random Forest",
         "type": "scatter",
         "uid": "6be31d74-c7c0-4684-8da8-20db43e45c07",
         "x": [
          "accuracy",
          "FPR",
          "FNR",
          "auc"
         ],
         "y": [
          0.9392773145178533,
          0.04895572263993317,
          0.12906356137797187,
          0.9109903579910474
         ]
        },
        {
         "mode": "lines",
         "name": "Ada Boost",
         "type": "scatter",
         "uid": "034f3da9-b7b0-456b-b23a-32a5b853d1d0",
         "x": [
          "accuracy",
          "FPR",
          "FNR",
          "auc"
         ],
         "y": [
          0.9095574085952534,
          0.08446115288220551,
          0.12518195050946143,
          0.8951784483041666
         ]
        },
        {
         "mode": "lines+markers",
         "name": "GradientBoosting",
         "type": "scatter",
         "uid": "2373271f-0762-4812-b305-4558b92770d4",
         "x": [
          "accuracy",
          "FPR",
          "FNR",
          "auc"
         ],
         "y": [
          0.9312949896657401,
          0.05806182121971595,
          0.13051916545366327,
          0.9057095066633105
         ]
        },
        {
         "marker": {
          "symbol": "x"
         },
         "mode": "lines+markers",
         "name": "ExtraTree Classifier",
         "type": "scatter",
         "uid": "dbf82127-8080-4e11-846c-a78200c7e484",
         "x": [
          "accuracy",
          "FPR",
          "FNR",
          "auc"
         ],
         "y": [
          0.9367828380015679,
          0.05162907268170426,
          0.13051916545366327,
          0.9089258809323163
         ]
        },
        {
         "marker": {
          "symbol": "x"
         },
         "mode": "lines+markers",
         "name": "Bagging",
         "type": "scatter",
         "uid": "e97aca78-c061-4309-bff5-cb3e24dc8f21",
         "x": [
          "accuracy",
          "FPR",
          "FNR",
          "auc"
         ],
         "y": [
          0.9324353217874706,
          0.05530492898913952,
          0.13876758854924795,
          0.9029637412308062
         ]
        },
        {
         "marker": {
          "symbol": "x"
         },
         "mode": "lines+markers",
         "name": "Neural Network",
         "type": "scatter",
         "uid": "f2d4aa44-0846-4b08-93ab-438f9da8ebf7",
         "x": [
          "accuracy",
          "FPR",
          "FNR",
          "auc"
         ],
         "y": [
          0.9039270187442092,
          0.0923141186299081,
          0.11790393013100436,
          0.8948909756195438
         ]
        }
       ],
       "layout": {
        "title": "Result comparision for Features selected in Section 1",
        "yaxis": {
         "dtick": 0.05,
         "tick0": 0
        }
       }
      },
      "text/html": [
       "<div id=\"5c16a5f0-a786-442e-9dd7-c5d5dfb9788a\" style=\"height: 525px; width: 100%;\" class=\"plotly-graph-div\"></div><script type=\"text/javascript\">require([\"plotly\"], function(Plotly) { window.PLOTLYENV=window.PLOTLYENV || {};window.PLOTLYENV.BASE_URL=\"https://plot.ly\";Plotly.newPlot(\"5c16a5f0-a786-442e-9dd7-c5d5dfb9788a\", [{\"mode\": \"lines\", \"name\": \"KNN_model\", \"x\": [\"accuracy\", \"FPR\", \"FNR\", \"auc\"], \"y\": [0.9482574299764807, 0.029072681704260653, 0.18340611353711792, 0.8937606023793107], \"type\": \"scatter\", \"uid\": \"1d959cc3-4103-45fc-b690-c9dfbb1af74d\"}, {\"mode\": \"lines+markers\", \"name\": \"Logistic Regression\", \"x\": [\"accuracy\", \"FPR\", \"FNR\", \"auc\"], \"y\": [0.9225286864799372, 0.06883876357560569, 0.12760795730228044, 0.901776639561057], \"type\": \"scatter\", \"uid\": \"348c5935-9a82-4dd8-b395-5b6782cc9ed4\"}, {\"marker\": {\"symbol\": \"x\"}, \"mode\": \"lines+markers\", \"name\": \"Random Forest\", \"x\": [\"accuracy\", \"FPR\", \"FNR\", \"auc\"], \"y\": [0.9392773145178533, 0.04895572263993317, 0.12906356137797187, 0.9109903579910474], \"type\": \"scatter\", \"uid\": \"6be31d74-c7c0-4684-8da8-20db43e45c07\"}, {\"mode\": \"lines\", \"name\": \"Ada Boost\", \"x\": [\"accuracy\", \"FPR\", \"FNR\", \"auc\"], \"y\": [0.9095574085952534, 0.08446115288220551, 0.12518195050946143, 0.8951784483041666], \"type\": \"scatter\", \"uid\": \"034f3da9-b7b0-456b-b23a-32a5b853d1d0\"}, {\"mode\": \"lines+markers\", \"name\": \"GradientBoosting\", \"x\": [\"accuracy\", \"FPR\", \"FNR\", \"auc\"], \"y\": [0.9312949896657401, 0.05806182121971595, 0.13051916545366327, 0.9057095066633105], \"type\": \"scatter\", \"uid\": \"2373271f-0762-4812-b305-4558b92770d4\"}, {\"marker\": {\"symbol\": \"x\"}, \"mode\": \"lines+markers\", \"name\": \"ExtraTree Classifier\", \"x\": [\"accuracy\", \"FPR\", \"FNR\", \"auc\"], \"y\": [0.9367828380015679, 0.05162907268170426, 0.13051916545366327, 0.9089258809323163], \"type\": \"scatter\", \"uid\": \"dbf82127-8080-4e11-846c-a78200c7e484\"}, {\"marker\": {\"symbol\": \"x\"}, \"mode\": \"lines+markers\", \"name\": \"Bagging\", \"x\": [\"accuracy\", \"FPR\", \"FNR\", \"auc\"], \"y\": [0.9324353217874706, 0.05530492898913952, 0.13876758854924795, 0.9029637412308062], \"type\": \"scatter\", \"uid\": \"e97aca78-c061-4309-bff5-cb3e24dc8f21\"}, {\"marker\": {\"symbol\": \"x\"}, \"mode\": \"lines+markers\", \"name\": \"Neural Network\", \"x\": [\"accuracy\", \"FPR\", \"FNR\", \"auc\"], \"y\": [0.9039270187442092, 0.0923141186299081, 0.11790393013100436, 0.8948909756195438], \"type\": \"scatter\", \"uid\": \"f2d4aa44-0846-4b08-93ab-438f9da8ebf7\"}], {\"title\": \"Result comparision for Features selected in Section 1\", \"yaxis\": {\"dtick\": 0.05, \"tick0\": 0}}, {\"showLink\": true, \"linkText\": \"Export to plot.ly\", \"plotlyServerURL\": \"https://plot.ly\"})});</script><script type=\"text/javascript\">window.addEventListener(\"resize\", function(){window._Plotly.Plots.resize(document.getElementById(\"5c16a5f0-a786-442e-9dd7-c5d5dfb9788a\"));});</script>"
      ],
      "text/vnd.plotly.v1+html": [
       "<div id=\"5c16a5f0-a786-442e-9dd7-c5d5dfb9788a\" style=\"height: 525px; width: 100%;\" class=\"plotly-graph-div\"></div><script type=\"text/javascript\">require([\"plotly\"], function(Plotly) { window.PLOTLYENV=window.PLOTLYENV || {};window.PLOTLYENV.BASE_URL=\"https://plot.ly\";Plotly.newPlot(\"5c16a5f0-a786-442e-9dd7-c5d5dfb9788a\", [{\"mode\": \"lines\", \"name\": \"KNN_model\", \"x\": [\"accuracy\", \"FPR\", \"FNR\", \"auc\"], \"y\": [0.9482574299764807, 0.029072681704260653, 0.18340611353711792, 0.8937606023793107], \"type\": \"scatter\", \"uid\": \"1d959cc3-4103-45fc-b690-c9dfbb1af74d\"}, {\"mode\": \"lines+markers\", \"name\": \"Logistic Regression\", \"x\": [\"accuracy\", \"FPR\", \"FNR\", \"auc\"], \"y\": [0.9225286864799372, 0.06883876357560569, 0.12760795730228044, 0.901776639561057], \"type\": \"scatter\", \"uid\": \"348c5935-9a82-4dd8-b395-5b6782cc9ed4\"}, {\"marker\": {\"symbol\": \"x\"}, \"mode\": \"lines+markers\", \"name\": \"Random Forest\", \"x\": [\"accuracy\", \"FPR\", \"FNR\", \"auc\"], \"y\": [0.9392773145178533, 0.04895572263993317, 0.12906356137797187, 0.9109903579910474], \"type\": \"scatter\", \"uid\": \"6be31d74-c7c0-4684-8da8-20db43e45c07\"}, {\"mode\": \"lines\", \"name\": \"Ada Boost\", \"x\": [\"accuracy\", \"FPR\", \"FNR\", \"auc\"], \"y\": [0.9095574085952534, 0.08446115288220551, 0.12518195050946143, 0.8951784483041666], \"type\": \"scatter\", \"uid\": \"034f3da9-b7b0-456b-b23a-32a5b853d1d0\"}, {\"mode\": \"lines+markers\", \"name\": \"GradientBoosting\", \"x\": [\"accuracy\", \"FPR\", \"FNR\", \"auc\"], \"y\": [0.9312949896657401, 0.05806182121971595, 0.13051916545366327, 0.9057095066633105], \"type\": \"scatter\", \"uid\": \"2373271f-0762-4812-b305-4558b92770d4\"}, {\"marker\": {\"symbol\": \"x\"}, \"mode\": \"lines+markers\", \"name\": \"ExtraTree Classifier\", \"x\": [\"accuracy\", \"FPR\", \"FNR\", \"auc\"], \"y\": [0.9367828380015679, 0.05162907268170426, 0.13051916545366327, 0.9089258809323163], \"type\": \"scatter\", \"uid\": \"dbf82127-8080-4e11-846c-a78200c7e484\"}, {\"marker\": {\"symbol\": \"x\"}, \"mode\": \"lines+markers\", \"name\": \"Bagging\", \"x\": [\"accuracy\", \"FPR\", \"FNR\", \"auc\"], \"y\": [0.9324353217874706, 0.05530492898913952, 0.13876758854924795, 0.9029637412308062], \"type\": \"scatter\", \"uid\": \"e97aca78-c061-4309-bff5-cb3e24dc8f21\"}, {\"marker\": {\"symbol\": \"x\"}, \"mode\": \"lines+markers\", \"name\": \"Neural Network\", \"x\": [\"accuracy\", \"FPR\", \"FNR\", \"auc\"], \"y\": [0.9039270187442092, 0.0923141186299081, 0.11790393013100436, 0.8948909756195438], \"type\": \"scatter\", \"uid\": \"f2d4aa44-0846-4b08-93ab-438f9da8ebf7\"}], {\"title\": \"Result comparision for Features selected in Section 1\", \"yaxis\": {\"dtick\": 0.05, \"tick0\": 0}}, {\"showLink\": true, \"linkText\": \"Export to plot.ly\", \"plotlyServerURL\": \"https://plot.ly\"})});</script><script type=\"text/javascript\">window.addEventListener(\"resize\", function(){window._Plotly.Plots.resize(document.getElementById(\"5c16a5f0-a786-442e-9dd7-c5d5dfb9788a\"));});</script>"
      ]
     },
     "metadata": {},
     "output_type": "display_data"
    }
   ],
   "source": [
    "trace0 = go.Scatter(x=table_80_90_test.iloc[0].index.values[[0,5,6,7]],\n",
    "                    y=table_80_90_test.iloc[0].values[[0,5,6,7]],\n",
    "                    mode = 'lines',\n",
    "                    name = 'KNN_model')\n",
    "\n",
    "trace1 = go.Scatter(x=table_80_90_test.iloc[1].index.values[[0,5,6,7]],\n",
    "                    y=table_80_90_test.iloc[1].values[[0,5,6,7]],\n",
    "                    mode = 'lines+markers',\n",
    "                    name = 'Logistic Regression')\n",
    "\n",
    "trace2 = go.Scatter(x=table_80_90_test.iloc[2].index.values[[0,5,6,7]],\n",
    "                    y=table_80_90_test.iloc[2].values[[0,5,6,7]],\n",
    "                    mode = 'lines+markers',marker=dict(symbol='x'),\n",
    "                    name = 'Random Forest')\n",
    "\n",
    "\n",
    "trace3 = go.Scatter(x=table_80_90_test.iloc[3].index.values[[0,5,6,7]],\n",
    "                    y=table_80_90_test.iloc[3].values[[0,5,6,7]],\n",
    "                    mode = 'lines',\n",
    "                    name = 'Ada Boost')\n",
    "\n",
    "trace4 = go.Scatter(x=table_80_90_test.iloc[4].index.values[[0,5,6,7]],\n",
    "                    y=table_80_90_test.iloc[4].values[[0,5,6,7]],\n",
    "                    mode = 'lines+markers',\n",
    "                    name = 'GradientBoosting')\n",
    "\n",
    "trace5 = go.Scatter(x=table_80_90_test.iloc[5].index.values[[0,5,6,7]],\n",
    "                    y=table_80_90_test.iloc[5].values[[0,5,6,7]],\n",
    "                    mode = 'lines+markers',marker=dict(symbol='x'),\n",
    "                    name = 'ExtraTree Classifier')\n",
    "\n",
    "trace6 = go.Scatter(x=table_80_90_test.iloc[6].index.values[[0,5,6,7]],\n",
    "                    y=table_80_90_test.iloc[6].values[[0,5,6,7]],\n",
    "                    mode = 'lines+markers',marker=dict(symbol='x'),\n",
    "                    name = 'Bagging')\n",
    "\n",
    "trace7 = go.Scatter(x=table_80_90_test.iloc[7].index.values[[0,5,6,7]],\n",
    "                    y=table_80_90_test.iloc[7].values[[0,5,6,7]],\n",
    "                    mode = 'lines+markers',marker=dict(symbol='x'),\n",
    "                    name = 'Neural Network')\n",
    "\n",
    "\n",
    "\n",
    "data = [trace0, trace1, trace2, trace3, trace4, trace5, trace6, trace7]\n",
    "layout = go.Layout(yaxis=dict(tick0=0,dtick=0.05),title='Result comparision for Features selected in Section 1')\n",
    "fig = go.Figure(data=data, layout=layout)\n",
    "\n",
    "iplot(fig, filename='Result')"
   ]
  },
  {
   "cell_type": "code",
   "execution_count": 35,
   "metadata": {},
   "outputs": [
    {
     "name": "stdout",
     "output_type": "stream",
     "text": [
      "Training Results\n"
     ]
    },
    {
     "data": {
      "text/html": [
       "<div>\n",
       "<style scoped>\n",
       "    .dataframe tbody tr th:only-of-type {\n",
       "        vertical-align: middle;\n",
       "    }\n",
       "\n",
       "    .dataframe tbody tr th {\n",
       "        vertical-align: top;\n",
       "    }\n",
       "\n",
       "    .dataframe thead th {\n",
       "        text-align: right;\n",
       "    }\n",
       "</style>\n",
       "<table border=\"1\" class=\"dataframe\">\n",
       "  <thead>\n",
       "    <tr style=\"text-align: right;\">\n",
       "      <th></th>\n",
       "      <th>accuracy</th>\n",
       "      <th>TP</th>\n",
       "      <th>TN</th>\n",
       "      <th>FP</th>\n",
       "      <th>FN</th>\n",
       "      <th>FPR</th>\n",
       "      <th>FNR</th>\n",
       "    </tr>\n",
       "    <tr>\n",
       "      <th>index</th>\n",
       "      <th></th>\n",
       "      <th></th>\n",
       "      <th></th>\n",
       "      <th></th>\n",
       "      <th></th>\n",
       "      <th></th>\n",
       "      <th></th>\n",
       "    </tr>\n",
       "  </thead>\n",
       "  <tbody>\n",
       "    <tr>\n",
       "      <th>KNeighborsClassifier</th>\n",
       "      <td>0.915787</td>\n",
       "      <td>4111.0</td>\n",
       "      <td>4741.0</td>\n",
       "      <td>92.0</td>\n",
       "      <td>722.0</td>\n",
       "      <td>0.019036</td>\n",
       "      <td>0.149390</td>\n",
       "    </tr>\n",
       "    <tr>\n",
       "      <th>LogisticRegression</th>\n",
       "      <td>0.896131</td>\n",
       "      <td>4182.0</td>\n",
       "      <td>4480.0</td>\n",
       "      <td>353.0</td>\n",
       "      <td>651.0</td>\n",
       "      <td>0.073040</td>\n",
       "      <td>0.134699</td>\n",
       "    </tr>\n",
       "    <tr>\n",
       "      <th>RandomForestClassifier</th>\n",
       "      <td>0.990379</td>\n",
       "      <td>4749.0</td>\n",
       "      <td>4824.0</td>\n",
       "      <td>9.0</td>\n",
       "      <td>84.0</td>\n",
       "      <td>0.001862</td>\n",
       "      <td>0.017381</td>\n",
       "    </tr>\n",
       "    <tr>\n",
       "      <th>AdaBoostClassifier</th>\n",
       "      <td>0.894269</td>\n",
       "      <td>4190.0</td>\n",
       "      <td>4454.0</td>\n",
       "      <td>379.0</td>\n",
       "      <td>643.0</td>\n",
       "      <td>0.078419</td>\n",
       "      <td>0.133044</td>\n",
       "    </tr>\n",
       "    <tr>\n",
       "      <th>GradientBoostingClassifier</th>\n",
       "      <td>0.907718</td>\n",
       "      <td>4193.0</td>\n",
       "      <td>4581.0</td>\n",
       "      <td>252.0</td>\n",
       "      <td>640.0</td>\n",
       "      <td>0.052142</td>\n",
       "      <td>0.132423</td>\n",
       "    </tr>\n",
       "    <tr>\n",
       "      <th>ExtraTreeClassifier</th>\n",
       "      <td>1.000000</td>\n",
       "      <td>4833.0</td>\n",
       "      <td>4833.0</td>\n",
       "      <td>0.0</td>\n",
       "      <td>0.0</td>\n",
       "      <td>0.000000</td>\n",
       "      <td>0.000000</td>\n",
       "    </tr>\n",
       "    <tr>\n",
       "      <th>BaggingClassifier</th>\n",
       "      <td>0.989965</td>\n",
       "      <td>4745.0</td>\n",
       "      <td>4824.0</td>\n",
       "      <td>9.0</td>\n",
       "      <td>88.0</td>\n",
       "      <td>0.001862</td>\n",
       "      <td>0.018208</td>\n",
       "    </tr>\n",
       "    <tr>\n",
       "      <th>Neural Network-1</th>\n",
       "      <td>0.998241</td>\n",
       "      <td>4816.0</td>\n",
       "      <td>4833.0</td>\n",
       "      <td>0.0</td>\n",
       "      <td>17.0</td>\n",
       "      <td>0.000000</td>\n",
       "      <td>0.003517</td>\n",
       "    </tr>\n",
       "  </tbody>\n",
       "</table>\n",
       "</div>"
      ],
      "text/plain": [
       "                            accuracy      TP      TN     FP     FN       FPR  \\\n",
       "index                                                                          \n",
       "KNeighborsClassifier        0.915787  4111.0  4741.0   92.0  722.0  0.019036   \n",
       "LogisticRegression          0.896131  4182.0  4480.0  353.0  651.0  0.073040   \n",
       "RandomForestClassifier      0.990379  4749.0  4824.0    9.0   84.0  0.001862   \n",
       "AdaBoostClassifier          0.894269  4190.0  4454.0  379.0  643.0  0.078419   \n",
       "GradientBoostingClassifier  0.907718  4193.0  4581.0  252.0  640.0  0.052142   \n",
       "ExtraTreeClassifier         1.000000  4833.0  4833.0    0.0    0.0  0.000000   \n",
       "BaggingClassifier           0.989965  4745.0  4824.0    9.0   88.0  0.001862   \n",
       "Neural Network-1            0.998241  4816.0  4833.0    0.0   17.0  0.000000   \n",
       "\n",
       "                                 FNR  \n",
       "index                                 \n",
       "KNeighborsClassifier        0.149390  \n",
       "LogisticRegression          0.134699  \n",
       "RandomForestClassifier      0.017381  \n",
       "AdaBoostClassifier          0.133044  \n",
       "GradientBoostingClassifier  0.132423  \n",
       "ExtraTreeClassifier         0.000000  \n",
       "BaggingClassifier           0.018208  \n",
       "Neural Network-1            0.003517  "
      ]
     },
     "metadata": {},
     "output_type": "display_data"
    },
    {
     "name": "stdout",
     "output_type": "stream",
     "text": [
      "Test Results\n"
     ]
    },
    {
     "data": {
      "text/html": [
       "<div>\n",
       "<style scoped>\n",
       "    .dataframe tbody tr th:only-of-type {\n",
       "        vertical-align: middle;\n",
       "    }\n",
       "\n",
       "    .dataframe tbody tr th {\n",
       "        vertical-align: top;\n",
       "    }\n",
       "\n",
       "    .dataframe thead th {\n",
       "        text-align: right;\n",
       "    }\n",
       "</style>\n",
       "<table border=\"1\" class=\"dataframe\">\n",
       "  <thead>\n",
       "    <tr style=\"text-align: right;\">\n",
       "      <th></th>\n",
       "      <th>accuracy</th>\n",
       "      <th>TP</th>\n",
       "      <th>TN</th>\n",
       "      <th>FP</th>\n",
       "      <th>FN</th>\n",
       "      <th>FPR</th>\n",
       "      <th>FNR</th>\n",
       "      <th>auc</th>\n",
       "      <th>mcc</th>\n",
       "    </tr>\n",
       "    <tr>\n",
       "      <th>index</th>\n",
       "      <th></th>\n",
       "      <th></th>\n",
       "      <th></th>\n",
       "      <th></th>\n",
       "      <th></th>\n",
       "      <th></th>\n",
       "      <th></th>\n",
       "      <th></th>\n",
       "      <th></th>\n",
       "    </tr>\n",
       "  </thead>\n",
       "  <tbody>\n",
       "    <tr>\n",
       "      <th>KNeighborsClassifier</th>\n",
       "      <td>0.948257</td>\n",
       "      <td>1683.0</td>\n",
       "      <td>11622.0</td>\n",
       "      <td>348.0</td>\n",
       "      <td>378.0</td>\n",
       "      <td>0.029073</td>\n",
       "      <td>0.183406</td>\n",
       "      <td>0.893761</td>\n",
       "      <td>0.792324</td>\n",
       "    </tr>\n",
       "    <tr>\n",
       "      <th>LogisticRegression</th>\n",
       "      <td>0.922529</td>\n",
       "      <td>1798.0</td>\n",
       "      <td>11146.0</td>\n",
       "      <td>824.0</td>\n",
       "      <td>263.0</td>\n",
       "      <td>0.068839</td>\n",
       "      <td>0.127608</td>\n",
       "      <td>0.901777</td>\n",
       "      <td>0.729727</td>\n",
       "    </tr>\n",
       "    <tr>\n",
       "      <th>RandomForestClassifier</th>\n",
       "      <td>0.939277</td>\n",
       "      <td>1795.0</td>\n",
       "      <td>11384.0</td>\n",
       "      <td>586.0</td>\n",
       "      <td>266.0</td>\n",
       "      <td>0.048956</td>\n",
       "      <td>0.129064</td>\n",
       "      <td>0.910990</td>\n",
       "      <td>0.775184</td>\n",
       "    </tr>\n",
       "    <tr>\n",
       "      <th>AdaBoostClassifier</th>\n",
       "      <td>0.909557</td>\n",
       "      <td>1803.0</td>\n",
       "      <td>10959.0</td>\n",
       "      <td>1011.0</td>\n",
       "      <td>258.0</td>\n",
       "      <td>0.084461</td>\n",
       "      <td>0.125182</td>\n",
       "      <td>0.895178</td>\n",
       "      <td>0.698729</td>\n",
       "    </tr>\n",
       "    <tr>\n",
       "      <th>GradientBoostingClassifier</th>\n",
       "      <td>0.931295</td>\n",
       "      <td>1792.0</td>\n",
       "      <td>11275.0</td>\n",
       "      <td>695.0</td>\n",
       "      <td>269.0</td>\n",
       "      <td>0.058062</td>\n",
       "      <td>0.130519</td>\n",
       "      <td>0.905710</td>\n",
       "      <td>0.752169</td>\n",
       "    </tr>\n",
       "    <tr>\n",
       "      <th>ExtraTreeClassifier</th>\n",
       "      <td>0.936783</td>\n",
       "      <td>1792.0</td>\n",
       "      <td>11352.0</td>\n",
       "      <td>618.0</td>\n",
       "      <td>269.0</td>\n",
       "      <td>0.051629</td>\n",
       "      <td>0.130519</td>\n",
       "      <td>0.908926</td>\n",
       "      <td>0.767592</td>\n",
       "    </tr>\n",
       "    <tr>\n",
       "      <th>BaggingClassifier</th>\n",
       "      <td>0.932435</td>\n",
       "      <td>1775.0</td>\n",
       "      <td>11308.0</td>\n",
       "      <td>662.0</td>\n",
       "      <td>286.0</td>\n",
       "      <td>0.055305</td>\n",
       "      <td>0.138768</td>\n",
       "      <td>0.902964</td>\n",
       "      <td>0.753074</td>\n",
       "    </tr>\n",
       "    <tr>\n",
       "      <th>Neural Network-1</th>\n",
       "      <td>0.903927</td>\n",
       "      <td>1818.0</td>\n",
       "      <td>10865.0</td>\n",
       "      <td>1105.0</td>\n",
       "      <td>243.0</td>\n",
       "      <td>0.092314</td>\n",
       "      <td>0.117904</td>\n",
       "      <td>0.894891</td>\n",
       "      <td>0.688432</td>\n",
       "    </tr>\n",
       "  </tbody>\n",
       "</table>\n",
       "</div>"
      ],
      "text/plain": [
       "                            accuracy      TP       TN      FP     FN  \\\n",
       "index                                                                  \n",
       "KNeighborsClassifier        0.948257  1683.0  11622.0   348.0  378.0   \n",
       "LogisticRegression          0.922529  1798.0  11146.0   824.0  263.0   \n",
       "RandomForestClassifier      0.939277  1795.0  11384.0   586.0  266.0   \n",
       "AdaBoostClassifier          0.909557  1803.0  10959.0  1011.0  258.0   \n",
       "GradientBoostingClassifier  0.931295  1792.0  11275.0   695.0  269.0   \n",
       "ExtraTreeClassifier         0.936783  1792.0  11352.0   618.0  269.0   \n",
       "BaggingClassifier           0.932435  1775.0  11308.0   662.0  286.0   \n",
       "Neural Network-1            0.903927  1818.0  10865.0  1105.0  243.0   \n",
       "\n",
       "                                 FPR       FNR       auc       mcc  \n",
       "index                                                               \n",
       "KNeighborsClassifier        0.029073  0.183406  0.893761  0.792324  \n",
       "LogisticRegression          0.068839  0.127608  0.901777  0.729727  \n",
       "RandomForestClassifier      0.048956  0.129064  0.910990  0.775184  \n",
       "AdaBoostClassifier          0.084461  0.125182  0.895178  0.698729  \n",
       "GradientBoostingClassifier  0.058062  0.130519  0.905710  0.752169  \n",
       "ExtraTreeClassifier         0.051629  0.130519  0.908926  0.767592  \n",
       "BaggingClassifier           0.055305  0.138768  0.902964  0.753074  \n",
       "Neural Network-1            0.092314  0.117904  0.894891  0.688432  "
      ]
     },
     "metadata": {},
     "output_type": "display_data"
    }
   ],
   "source": [
    "table_80_90_train['index']=ind_columns\n",
    "table_80_90_test['index']=ind_columns\n",
    "\n",
    "\n",
    "table_80_90_test.set_index(['index'],drop=True,inplace=True)\n",
    "table_80_90_train.set_index(['index'],drop=True,inplace=True)\n",
    "\n",
    "print(\"Training Results\")\n",
    "display(table_80_90_train)\n",
    "print(\"Test Results\")\n",
    "display(table_80_90_test)"
   ]
  },
  {
   "cell_type": "markdown",
   "metadata": {},
   "source": [
    "### <a id='3.B' style=\"text-decoration : none; color : #000000;\"> B. Average Feature Importances</a>"
   ]
  },
  {
   "cell_type": "code",
   "execution_count": 36,
   "metadata": {},
   "outputs": [
    {
     "data": {
      "application/vnd.plotly.v1+json": {
       "config": {
        "linkText": "Export to plot.ly",
        "plotlyServerURL": "https://plot.ly",
        "showLink": true
       },
       "data": [
        {
         "marker": {
          "color": "rgb(158,202,225)",
          "line": {
           "color": "rgb(8,48,107)",
           "width": 1.5
          }
         },
         "opacity": 0.6,
         "orientation": "h",
         "text": [
          0.2064,
          0.1717,
          0.0788,
          0.0515,
          0.0452,
          0.0419,
          0.0301,
          0.03,
          0.0248,
          0.0234,
          0.0204,
          0.0193,
          0.0177,
          0.0168,
          0.0132,
          0.0131,
          0.0122,
          0.0118,
          0.0115,
          0.0111,
          0.0111,
          0.011,
          0.0109,
          0.0106,
          0.0092,
          0.0083,
          0.0083,
          0.0083,
          0.0076,
          0.0076,
          0.0072,
          0.0067,
          0.0064,
          0.0061,
          0.0055,
          0.0045,
          0.0045,
          0.0044,
          0.0043,
          0.0036,
          0.0028
         ],
         "textposition": "outside",
         "type": "bar",
         "uid": "8294a6ad-6649-4222-ab94-9bab12260d47",
         "x": [
          0.2064401549936654,
          0.1717127972023735,
          0.0788316946058763,
          0.051463126826984305,
          0.04521192746595956,
          0.041946199747745314,
          0.03012203117753266,
          0.030025729619081155,
          0.024751074104141936,
          0.023420357389605607,
          0.02042558282102576,
          0.01931006971834335,
          0.017725258005719596,
          0.016837910086288516,
          0.01320996737758799,
          0.013079029579586815,
          0.012234825786506538,
          0.011781008283605343,
          0.011536405366204993,
          0.011135083220319312,
          0.011054795892120921,
          0.010961513286850045,
          0.010934875902514081,
          0.010640075502966119,
          0.009220064524013485,
          0.008329395859115924,
          0.00832915338760224,
          0.00828436794411408,
          0.007628668960625999,
          0.007563734417874425,
          0.007175769597454756,
          0.006657301088401084,
          0.006379438250373997,
          0.0060602941430733855,
          0.0054981331224938645,
          0.004482086942428249,
          0.004459446050465458,
          0.004435746850606178,
          0.0042868987681282155,
          0.0036392310605427042,
          0.0027787750700808455
         ],
         "y": [
          "url_extensions",
          "url_length",
          "url_char_.",
          "url_char_w",
          "url_number_digits",
          "url_number_consonants",
          "url_tlds",
          "url_char_z",
          "url_words_with_length_4",
          "url_number_vowels",
          "url_extension_.com",
          "url_char_i",
          "url_char_y",
          "url_char_b",
          "url_char_l",
          "url_char_o",
          "url_char_p",
          "url_char_a",
          "url_char_c",
          "url_char_r",
          "url_words_with_length_5",
          "url_char_d",
          "url_char_f",
          "url_char_h",
          "url_char_k",
          "url_char_j",
          "url_char_e",
          "url_char_-",
          "url_char_n",
          "url_extension_.i",
          "url_extension_.net",
          "url_char_s",
          "url_char_u",
          "url_char_m",
          "url_char_t",
          "url_words_with_length_6",
          "url_words_with_length_7",
          "url_char_x",
          "url_char_g",
          "url_char_v",
          "url_words_with_length_8"
         ]
        }
       ],
       "layout": {
        "autosize": false,
        "height": 1000,
        "width": 1000,
        "xaxis": {
         "tickfont": {
          "color": "black",
          "size": 12
         },
         "title": "Feature Importances"
        },
        "yaxis": {
         "automargin": true
        }
       }
      },
      "text/html": [
       "<div id=\"6b69858d-4cbf-422b-94a5-798e72218a88\" style=\"height: 1000px; width: 1000px;\" class=\"plotly-graph-div\"></div><script type=\"text/javascript\">require([\"plotly\"], function(Plotly) { window.PLOTLYENV=window.PLOTLYENV || {};window.PLOTLYENV.BASE_URL=\"https://plot.ly\";Plotly.newPlot(\"6b69858d-4cbf-422b-94a5-798e72218a88\", [{\"marker\": {\"color\": \"rgb(158,202,225)\", \"line\": {\"color\": \"rgb(8,48,107)\", \"width\": 1.5}}, \"opacity\": 0.6, \"orientation\": \"h\", \"text\": [0.2064, 0.1717, 0.0788, 0.0515, 0.0452, 0.0419, 0.0301, 0.03, 0.0248, 0.0234, 0.0204, 0.0193, 0.0177, 0.0168, 0.0132, 0.0131, 0.0122, 0.0118, 0.0115, 0.0111, 0.0111, 0.011, 0.0109, 0.0106, 0.0092, 0.0083, 0.0083, 0.0083, 0.0076, 0.0076, 0.0072, 0.0067, 0.0064, 0.0061, 0.0055, 0.0045, 0.0045, 0.0044, 0.0043, 0.0036, 0.0028], \"textposition\": \"outside\", \"x\": [0.2064401549936654, 0.1717127972023735, 0.0788316946058763, 0.051463126826984305, 0.04521192746595956, 0.041946199747745314, 0.03012203117753266, 0.030025729619081155, 0.024751074104141936, 0.023420357389605607, 0.02042558282102576, 0.01931006971834335, 0.017725258005719596, 0.016837910086288516, 0.01320996737758799, 0.013079029579586815, 0.012234825786506538, 0.011781008283605343, 0.011536405366204993, 0.011135083220319312, 0.011054795892120921, 0.010961513286850045, 0.010934875902514081, 0.010640075502966119, 0.009220064524013485, 0.008329395859115924, 0.00832915338760224, 0.00828436794411408, 0.007628668960625999, 0.007563734417874425, 0.007175769597454756, 0.006657301088401084, 0.006379438250373997, 0.0060602941430733855, 0.0054981331224938645, 0.004482086942428249, 0.004459446050465458, 0.004435746850606178, 0.0042868987681282155, 0.0036392310605427042, 0.0027787750700808455], \"y\": [\"url_extensions\", \"url_length\", \"url_char_.\", \"url_char_w\", \"url_number_digits\", \"url_number_consonants\", \"url_tlds\", \"url_char_z\", \"url_words_with_length_4\", \"url_number_vowels\", \"url_extension_.com\", \"url_char_i\", \"url_char_y\", \"url_char_b\", \"url_char_l\", \"url_char_o\", \"url_char_p\", \"url_char_a\", \"url_char_c\", \"url_char_r\", \"url_words_with_length_5\", \"url_char_d\", \"url_char_f\", \"url_char_h\", \"url_char_k\", \"url_char_j\", \"url_char_e\", \"url_char_-\", \"url_char_n\", \"url_extension_.i\", \"url_extension_.net\", \"url_char_s\", \"url_char_u\", \"url_char_m\", \"url_char_t\", \"url_words_with_length_6\", \"url_words_with_length_7\", \"url_char_x\", \"url_char_g\", \"url_char_v\", \"url_words_with_length_8\"], \"type\": \"bar\", \"uid\": \"8294a6ad-6649-4222-ab94-9bab12260d47\"}], {\"autosize\": false, \"height\": 1000, \"width\": 1000, \"xaxis\": {\"tickfont\": {\"color\": \"black\", \"size\": 12}, \"title\": \"Feature Importances\"}, \"yaxis\": {\"automargin\": true}}, {\"showLink\": true, \"linkText\": \"Export to plot.ly\", \"plotlyServerURL\": \"https://plot.ly\"})});</script>"
      ],
      "text/vnd.plotly.v1+html": [
       "<div id=\"6b69858d-4cbf-422b-94a5-798e72218a88\" style=\"height: 1000px; width: 1000px;\" class=\"plotly-graph-div\"></div><script type=\"text/javascript\">require([\"plotly\"], function(Plotly) { window.PLOTLYENV=window.PLOTLYENV || {};window.PLOTLYENV.BASE_URL=\"https://plot.ly\";Plotly.newPlot(\"6b69858d-4cbf-422b-94a5-798e72218a88\", [{\"marker\": {\"color\": \"rgb(158,202,225)\", \"line\": {\"color\": \"rgb(8,48,107)\", \"width\": 1.5}}, \"opacity\": 0.6, \"orientation\": \"h\", \"text\": [0.2064, 0.1717, 0.0788, 0.0515, 0.0452, 0.0419, 0.0301, 0.03, 0.0248, 0.0234, 0.0204, 0.0193, 0.0177, 0.0168, 0.0132, 0.0131, 0.0122, 0.0118, 0.0115, 0.0111, 0.0111, 0.011, 0.0109, 0.0106, 0.0092, 0.0083, 0.0083, 0.0083, 0.0076, 0.0076, 0.0072, 0.0067, 0.0064, 0.0061, 0.0055, 0.0045, 0.0045, 0.0044, 0.0043, 0.0036, 0.0028], \"textposition\": \"outside\", \"x\": [0.2064401549936654, 0.1717127972023735, 0.0788316946058763, 0.051463126826984305, 0.04521192746595956, 0.041946199747745314, 0.03012203117753266, 0.030025729619081155, 0.024751074104141936, 0.023420357389605607, 0.02042558282102576, 0.01931006971834335, 0.017725258005719596, 0.016837910086288516, 0.01320996737758799, 0.013079029579586815, 0.012234825786506538, 0.011781008283605343, 0.011536405366204993, 0.011135083220319312, 0.011054795892120921, 0.010961513286850045, 0.010934875902514081, 0.010640075502966119, 0.009220064524013485, 0.008329395859115924, 0.00832915338760224, 0.00828436794411408, 0.007628668960625999, 0.007563734417874425, 0.007175769597454756, 0.006657301088401084, 0.006379438250373997, 0.0060602941430733855, 0.0054981331224938645, 0.004482086942428249, 0.004459446050465458, 0.004435746850606178, 0.0042868987681282155, 0.0036392310605427042, 0.0027787750700808455], \"y\": [\"url_extensions\", \"url_length\", \"url_char_.\", \"url_char_w\", \"url_number_digits\", \"url_number_consonants\", \"url_tlds\", \"url_char_z\", \"url_words_with_length_4\", \"url_number_vowels\", \"url_extension_.com\", \"url_char_i\", \"url_char_y\", \"url_char_b\", \"url_char_l\", \"url_char_o\", \"url_char_p\", \"url_char_a\", \"url_char_c\", \"url_char_r\", \"url_words_with_length_5\", \"url_char_d\", \"url_char_f\", \"url_char_h\", \"url_char_k\", \"url_char_j\", \"url_char_e\", \"url_char_-\", \"url_char_n\", \"url_extension_.i\", \"url_extension_.net\", \"url_char_s\", \"url_char_u\", \"url_char_m\", \"url_char_t\", \"url_words_with_length_6\", \"url_words_with_length_7\", \"url_char_x\", \"url_char_g\", \"url_char_v\", \"url_words_with_length_8\"], \"type\": \"bar\", \"uid\": \"8294a6ad-6649-4222-ab94-9bab12260d47\"}], {\"autosize\": false, \"height\": 1000, \"width\": 1000, \"xaxis\": {\"tickfont\": {\"color\": \"black\", \"size\": 12}, \"title\": \"Feature Importances\"}, \"yaxis\": {\"automargin\": true}}, {\"showLink\": true, \"linkText\": \"Export to plot.ly\", \"plotlyServerURL\": \"https://plot.ly\"})});</script>"
      ]
     },
     "metadata": {},
     "output_type": "display_data"
    }
   ],
   "source": [
    "feat_impt_plot(np.average(feat_imp,axis=0),columns)"
   ]
  },
  {
   "cell_type": "markdown",
   "metadata": {},
   "source": [
    "### <a id='4' style=\"text-decoration : none; color : #000000;\">4. Feature Transformation with feature selection </a>"
   ]
  },
  {
   "cell_type": "code",
   "execution_count": 37,
   "metadata": {},
   "outputs": [],
   "source": [
    "df.reset_index(inplace=True)\n",
    "\n",
    "# columns=columns.tolist()\n",
    "columns.append('domain')\n",
    "\n",
    "df_min=df[columns]"
   ]
  },
  {
   "cell_type": "code",
   "execution_count": 38,
   "metadata": {},
   "outputs": [
    {
     "name": "stdout",
     "output_type": "stream",
     "text": [
      "Built 3321 features\n",
      "EntitySet scattered to workers in 4.721 seconds\n",
      "Elapsed: 00:20 | Remaining: 00:00 | Progress: 100%|██████████| Calculated: 11/11 chunks\n"
     ]
    }
   ],
   "source": [
    "es = ft.EntitySet(id = 'malicious')\n",
    "es.entity_from_dataframe(entity_id = 'data', dataframe = df_min, index = 'domain')\n",
    "\n",
    "feature_matrix_sessions, features_defs = ft.dfs(entityset=es,target_entity=\"data\",\n",
    "                                                trans_primitives = ['add','divide','multiply'],n_jobs=-1,\n",
    "                                                verbose=1,max_depth=1)"
   ]
  },
  {
   "cell_type": "code",
   "execution_count": 39,
   "metadata": {},
   "outputs": [],
   "source": [
    "df.set_index(['domain'],drop=True,inplace=True)"
   ]
  },
  {
   "cell_type": "code",
   "execution_count": 40,
   "metadata": {},
   "outputs": [
    {
     "name": "stderr",
     "output_type": "stream",
     "text": [
      "distributed.client - ERROR - Failed to reconnect to scheduler after 10.00 seconds, closing client\n",
      "distributed.utils - ERROR - \n",
      "Traceback (most recent call last):\n",
      "  File \"/nethomes/darshan/anaconda3/lib/python3.6/site-packages/distributed/utils.py\", line 713, in log_errors\n",
      "    yield\n",
      "  File \"/nethomes/darshan/anaconda3/lib/python3.6/site-packages/distributed/client.py\", line 1223, in _close\n",
      "    quiet_exceptions=(CancelledError,),\n",
      "  File \"/nethomes/darshan/anaconda3/lib/python3.6/site-packages/tornado/gen.py\", line 584, in with_timeout\n",
      "    chain_future(future_converted, result)\n",
      "  File \"/nethomes/darshan/anaconda3/lib/python3.6/site-packages/tornado/concurrent.py\", line 166, in chain_future\n",
      "    future_add_done_callback(a, copy)\n",
      "  File \"/nethomes/darshan/anaconda3/lib/python3.6/site-packages/tornado/concurrent.py\", line 262, in future_add_done_callback\n",
      "    callback(future)\n",
      "  File \"/nethomes/darshan/anaconda3/lib/python3.6/site-packages/tornado/concurrent.py\", line 160, in copy\n",
      "    elif a.exception() is not None:\n",
      "concurrent.futures._base.CancelledError\n",
      "distributed.utils - ERROR - \n",
      "Traceback (most recent call last):\n",
      "  File \"/nethomes/darshan/anaconda3/lib/python3.6/site-packages/distributed/utils.py\", line 713, in log_errors\n",
      "    yield\n",
      "  File \"/nethomes/darshan/anaconda3/lib/python3.6/site-packages/distributed/client.py\", line 992, in _reconnect\n",
      "    yield self._close()\n",
      "  File \"/nethomes/darshan/anaconda3/lib/python3.6/site-packages/tornado/gen.py\", line 729, in run\n",
      "    value = future.result()\n",
      "  File \"/nethomes/darshan/anaconda3/lib/python3.6/site-packages/tornado/gen.py\", line 209, in wrapper\n",
      "    yielded = next(result)\n",
      "  File \"/nethomes/darshan/anaconda3/lib/python3.6/site-packages/distributed/client.py\", line 1223, in _close\n",
      "    quiet_exceptions=(CancelledError,),\n",
      "  File \"/nethomes/darshan/anaconda3/lib/python3.6/site-packages/tornado/gen.py\", line 584, in with_timeout\n",
      "    chain_future(future_converted, result)\n",
      "  File \"/nethomes/darshan/anaconda3/lib/python3.6/site-packages/tornado/concurrent.py\", line 166, in chain_future\n",
      "    future_add_done_callback(a, copy)\n",
      "  File \"/nethomes/darshan/anaconda3/lib/python3.6/site-packages/tornado/concurrent.py\", line 262, in future_add_done_callback\n",
      "    callback(future)\n",
      "  File \"/nethomes/darshan/anaconda3/lib/python3.6/site-packages/tornado/concurrent.py\", line 160, in copy\n",
      "    elif a.exception() is not None:\n",
      "concurrent.futures._base.CancelledError\n"
     ]
    }
   ],
   "source": [
    "fs=pd.merge(feature_matrix_sessions,pd.DataFrame(df.Target),left_index=True, right_index=True)\n",
    "fs.replace([np.inf],0,inplace=True)\n",
    "fs.fillna(value=0,inplace=True)"
   ]
  },
  {
   "cell_type": "code",
   "execution_count": 41,
   "metadata": {},
   "outputs": [],
   "source": [
    "X=fs.loc[:,fs.columns!='Target']\n",
    "y=fs.Target\n",
    "feature_name = X.columns.tolist()"
   ]
  },
  {
   "cell_type": "code",
   "execution_count": 42,
   "metadata": {},
   "outputs": [],
   "source": [
    "def cor_selector(X, y):\n",
    "    cor_list = []\n",
    "    # calculate the correlation with y for each feature\n",
    "    for i in X.columns.tolist():\n",
    "        cor = np.corrcoef(X[i], y)[0, 1]\n",
    "        cor_list.append(cor)\n",
    "    # replace NaN with 0\n",
    "    cor_list = [0 if np.isnan(i) else i for i in cor_list]\n",
    "    # feature name\n",
    "    cor_feature = X.iloc[:,np.argsort(np.abs(cor_list))[-100:]].columns.tolist()\n",
    "    # feature selection? 0 for not select, 1 for select\n",
    "    cor_support = [True if i in cor_feature else False for i in feature_name]\n",
    "    return cor_support, cor_feature\n",
    "\n",
    "\n",
    "cor_support, cor_feature = cor_selector(X, y)"
   ]
  },
  {
   "cell_type": "code",
   "execution_count": 43,
   "metadata": {},
   "outputs": [],
   "source": [
    "X_norm = MinMaxScaler().fit_transform(X)\n",
    "chi_selector = SelectKBest(chi2, k=100)\n",
    "chi_selector.fit(X_norm, y)\n",
    "chi_support = chi_selector.get_support()\n",
    "chi_feature = X.loc[:,chi_support].columns.tolist()\n",
    "\n",
    "rfe_selector = RFE(estimator=LogisticRegression(random_state=0), n_features_to_select=100, step=0.3, verbose=False)\n",
    "rfe_selector.fit(X_norm, y)\n",
    "rfe_support = rfe_selector.get_support()\n",
    "rfe_feature = X.loc[:,rfe_support].columns.tolist()\n",
    "\n",
    "embeded_rf_selector = SelectFromModel(RandomForestClassifier(n_estimators=100,random_state=0), threshold='23*median')\n",
    "embeded_rf_selector.fit(X, y)\n",
    "embeded_rf_support = embeded_rf_selector.get_support()\n",
    "embeded_rf_feature = X.loc[:,embeded_rf_support].columns.tolist()\n",
    "\n",
    "feature_selection_df = pd.DataFrame({'Feature':feature_name, 'Pearson':cor_support, 'Chi-2':chi_support, 'RFE':rfe_support,\n",
    "                                    'Random Forest':embeded_rf_support})\n",
    "# count the selected times for each feature\n",
    "feature_selection_df['Total'] = np.sum(feature_selection_df, axis=1)\n",
    "# display the top 100\n",
    "feature_selection_df = feature_selection_df.sort_values(['Total','Feature'] , ascending=False)\n",
    "feature_selection_df.index = range(1, len(feature_selection_df)+1)"
   ]
  },
  {
   "cell_type": "code",
   "execution_count": 55,
   "metadata": {},
   "outputs": [],
   "source": [
    "feature_name=['url_char_w * url_extensions',\n",
    " 'url_length + url_words_with_length_7',\n",
    " 'url_length + url_tlds',\n",
    " 'url_extension_.com / url_char_.',\n",
    " 'url_extension_.com + url_length',\n",
    " 'url_char_y + url_length',\n",
    " 'url_char_w + url_length',\n",
    " 'url_char_w + url_extensions',\n",
    " 'url_char_w + url_char_z',\n",
    " 'url_char_v + url_length',\n",
    " 'url_char_u + url_length',\n",
    " 'url_char_s + url_length',\n",
    " 'url_char_r + url_length',\n",
    " 'url_char_o + url_length',\n",
    " 'url_char_m + url_length',\n",
    " 'url_char_l + url_length',\n",
    " 'url_char_k + url_length',\n",
    " 'url_char_k + url_extensions',\n",
    " 'url_char_j + url_length',\n",
    " 'url_char_i + url_length',\n",
    " 'url_char_h + url_length',\n",
    " 'url_char_g + url_length',\n",
    " 'url_char_f + url_length',\n",
    " 'url_char_e + url_length',\n",
    " 'url_char_c + url_length',\n",
    " 'url_char_b + url_length',\n",
    " 'url_char_a + url_length',\n",
    " 'url_char_. + url_length',\n",
    " 'url_char_. + url_char_z',\n",
    " 'url_char_. + url_char_w',\n",
    " 'url_char_. + url_char_j',\n",
    " 'url_char_.',\n",
    " 'url_char_- + url_length']"
   ]
  },
  {
   "cell_type": "code",
   "execution_count": 56,
   "metadata": {},
   "outputs": [
    {
     "name": "stdout",
     "output_type": "stream",
     "text": [
      "The train/test split ratio is 80:20\n"
     ]
    },
    {
     "data": {
      "text/plain": [
       "(46771, 33)"
      ]
     },
     "execution_count": 56,
     "metadata": {},
     "output_type": "execute_result"
    }
   ],
   "source": [
    "X=fs[feature_name]\n",
    "X.fillna(value=0,inplace=True)\n",
    "y=fs.Target.values\n",
    "\n",
    "scaler=StandardScaler()\n",
    "scaled_X=scaler.fit_transform(X)\n",
    "\n",
    "print(\"The train/test split ratio is 80:20\")\n",
    "X_train, X_test, Y_train, Y_test = train_test_split(scaled_X,y,random_state=0,test_size=0.2)\n",
    "\n",
    "X.shape"
   ]
  },
  {
   "cell_type": "code",
   "execution_count": 57,
   "metadata": {},
   "outputs": [
    {
     "name": "stdout",
     "output_type": "stream",
     "text": [
      "Features we will be using:\n",
      "\n"
     ]
    },
    {
     "data": {
      "text/plain": [
       "['url_char_w * url_extensions',\n",
       " 'url_length + url_words_with_length_7',\n",
       " 'url_length + url_tlds',\n",
       " 'url_extension_.com / url_char_.',\n",
       " 'url_extension_.com + url_length',\n",
       " 'url_char_y + url_length',\n",
       " 'url_char_w + url_length',\n",
       " 'url_char_w + url_extensions',\n",
       " 'url_char_w + url_char_z',\n",
       " 'url_char_v + url_length',\n",
       " 'url_char_u + url_length',\n",
       " 'url_char_s + url_length',\n",
       " 'url_char_r + url_length',\n",
       " 'url_char_o + url_length',\n",
       " 'url_char_m + url_length',\n",
       " 'url_char_l + url_length',\n",
       " 'url_char_k + url_length',\n",
       " 'url_char_k + url_extensions',\n",
       " 'url_char_j + url_length',\n",
       " 'url_char_i + url_length',\n",
       " 'url_char_h + url_length',\n",
       " 'url_char_g + url_length',\n",
       " 'url_char_f + url_length',\n",
       " 'url_char_e + url_length',\n",
       " 'url_char_c + url_length',\n",
       " 'url_char_b + url_length',\n",
       " 'url_char_a + url_length',\n",
       " 'url_char_. + url_length',\n",
       " 'url_char_. + url_char_z',\n",
       " 'url_char_. + url_char_w',\n",
       " 'url_char_. + url_char_j',\n",
       " 'url_char_.',\n",
       " 'url_char_- + url_length']"
      ]
     },
     "metadata": {},
     "output_type": "display_data"
    }
   ],
   "source": [
    "print('Features we will be using:\\n')\n",
    "display(feature_name)"
   ]
  },
  {
   "cell_type": "code",
   "execution_count": 58,
   "metadata": {},
   "outputs": [],
   "source": [
    "fs=fs.reindex(df_sel.index.values)"
   ]
  },
  {
   "cell_type": "code",
   "execution_count": 59,
   "metadata": {},
   "outputs": [],
   "source": [
    "train=fs.iloc[:32740]\n",
    "train_Y=train.Target.values\n",
    "train_X=train[feature_name].values\n",
    "\n",
    "\n",
    "scaler=StandardScaler()\n",
    "scaled_X_train=scaler.fit_transform(train_X)\n",
    "\n",
    "test=fs.iloc[32740:]\n",
    "test_Y=test.Target.values\n",
    "test_X=test[feature_name]\n",
    "\n",
    "scaled_X_test=scaler.transform(test_X)"
   ]
  },
  {
   "cell_type": "code",
   "execution_count": 60,
   "metadata": {},
   "outputs": [],
   "source": [
    "## Table to store training and test measures so we can compare later\n",
    "table_80_60_train=pd.DataFrame(columns=['accuracy','TP','TN','FP','FN','FPR','FNR'])\n",
    "table_80_60_test=pd.DataFrame(columns=['accuracy','TP','TN','FP','FN','FPR','FNR','auc','mcc'])"
   ]
  },
  {
   "cell_type": "code",
   "execution_count": 61,
   "metadata": {
    "scrolled": false
   },
   "outputs": [
    {
     "name": "stdout",
     "output_type": "stream",
     "text": [
      "\u001b[1mK-Nearest Neighbors\u001b[0m\n",
      "Accuracy of the model for training data is: 0.9610262675626146\n",
      "Confusion Matrix for training data is:\n"
     ]
    },
    {
     "data": {
      "text/plain": [
       "Predicted  False  True  __all__\n",
       "Actual                         \n",
       "False      27606   301    27907\n",
       "True         975  3858     4833\n",
       "__all__    28581  4159    32740"
      ]
     },
     "metadata": {},
     "output_type": "display_data"
    },
    {
     "name": "stdout",
     "output_type": "stream",
     "text": [
      "Accuracy of the model for test data is: 0.9532463830090514\n",
      "Confusion Matrix for test data is:\n"
     ]
    },
    {
     "data": {
      "text/plain": [
       "Predicted  False  True  __all__\n",
       "Actual                         \n",
       "False      11773   197    11970\n",
       "True         459  1602     2061\n",
       "__all__    12232  1799    14031"
      ]
     },
     "metadata": {},
     "output_type": "display_data"
    },
    {
     "name": "stdout",
     "output_type": "stream",
     "text": [
      "\n",
      "\n",
      "\u001b[1mLogistic Regression\u001b[0m\n",
      "Accuracy of the model for training data is: 0.9430665852168602\n",
      "Confusion Matrix for training data is:\n"
     ]
    },
    {
     "data": {
      "text/plain": [
       "Predicted  False  True  __all__\n",
       "Actual                         \n",
       "False      27494   413    27907\n",
       "True        1451  3382     4833\n",
       "__all__    28945  3795    32740"
      ]
     },
     "metadata": {},
     "output_type": "display_data"
    },
    {
     "name": "stdout",
     "output_type": "stream",
     "text": [
      "Accuracy of the model for test data is: 0.9421281448221794\n",
      "Confusion Matrix for test data is:\n"
     ]
    },
    {
     "data": {
      "text/plain": [
       "Predicted  False  True  __all__\n",
       "Actual                         \n",
       "False      11780   190    11970\n",
       "True         622  1439     2061\n",
       "__all__    12402  1629    14031"
      ]
     },
     "metadata": {},
     "output_type": "display_data"
    },
    {
     "name": "stdout",
     "output_type": "stream",
     "text": [
      "\n",
      "\n",
      "\u001b[1mRandomForest Classifier\u001b[0m\n",
      "Accuracy of the model for training data is: 0.9934941967012828\n",
      "Confusion Matrix for training data is:\n"
     ]
    },
    {
     "data": {
      "text/plain": [
       "Predicted  False  True  __all__\n",
       "Actual                         \n",
       "False      27900     7    27907\n",
       "True         206  4627     4833\n",
       "__all__    28106  4634    32740"
      ]
     },
     "metadata": {},
     "output_type": "display_data"
    },
    {
     "name": "stdout",
     "output_type": "stream",
     "text": [
      "Accuracy of the model for test data is: 0.956809920889459\n",
      "Confusion Matrix for test data is:\n"
     ]
    },
    {
     "data": {
      "text/plain": [
       "Predicted  False  True  __all__\n",
       "Actual                         \n",
       "False      11824   146    11970\n",
       "True         460  1601     2061\n",
       "__all__    12284  1747    14031"
      ]
     },
     "metadata": {},
     "output_type": "display_data"
    },
    {
     "data": {
      "application/vnd.plotly.v1+json": {
       "config": {
        "linkText": "Export to plot.ly",
        "plotlyServerURL": "https://plot.ly",
        "showLink": true
       },
       "data": [
        {
         "marker": {
          "color": "rgb(158,202,225)",
          "line": {
           "color": "rgb(8,48,107)",
           "width": 1.5
          }
         },
         "opacity": 0.6,
         "orientation": "h",
         "text": [
          0.1043,
          0.0617,
          0.0604,
          0.0541,
          0.0523,
          0.0489,
          0.0485,
          0.0464,
          0.045,
          0.0408,
          0.036,
          0.0302,
          0.0297,
          0.0235,
          0.0234,
          0.0231,
          0.0218,
          0.0215,
          0.0207,
          0.0204,
          0.0189,
          0.0174,
          0.0172,
          0.0167,
          0.0161,
          0.0159,
          0.0151,
          0.0141,
          0.0134,
          0.0128,
          0.0121,
          0.0104,
          0.0067
         ],
         "textposition": "outside",
         "type": "bar",
         "uid": "ee7061fe-c447-471b-9e4d-e9748b8248db",
         "x": [
          0.10434461704639805,
          0.06172091494826104,
          0.06043799181214551,
          0.05414073430765356,
          0.052319236029489444,
          0.04894203989454829,
          0.04852192167729681,
          0.046413457664032015,
          0.04501767751568474,
          0.04080194486118475,
          0.0360130843192575,
          0.03017855415551297,
          0.029680991823058667,
          0.023460924238087787,
          0.02337369377590747,
          0.023101598121109262,
          0.021825988858491425,
          0.021538541279327347,
          0.020668860346787103,
          0.02044463907304055,
          0.018904274806739983,
          0.01740698505818589,
          0.01723219454244495,
          0.016734120455189135,
          0.016136973980698292,
          0.01594928531802247,
          0.015122082923169583,
          0.014123174040667777,
          0.013407425230245143,
          0.012847045999243259,
          0.012073598726469565,
          0.010448858953369665,
          0.006666568218279959
         ],
         "y": [
          "url_char_w + url_extensions",
          "url_char_w + url_length",
          "url_char_. + url_length",
          "url_length + url_tlds",
          "url_char_h + url_length",
          "url_char_u + url_length",
          "url_char_y + url_length",
          "url_char_v + url_length",
          "url_char_k + url_length",
          "url_char_.",
          "url_char_. + url_char_z",
          "url_char_i + url_length",
          "url_char_. + url_char_j",
          "url_char_w * url_extensions",
          "url_char_w + url_char_z",
          "url_char_k + url_extensions",
          "url_char_o + url_length",
          "url_char_e + url_length",
          "url_char_r + url_length",
          "url_char_a + url_length",
          "url_extension_.com / url_char_.",
          "url_char_s + url_length",
          "url_char_b + url_length",
          "url_char_. + url_char_w",
          "url_char_l + url_length",
          "url_char_c + url_length",
          "url_char_m + url_length",
          "url_char_f + url_length",
          "url_char_g + url_length",
          "url_char_- + url_length",
          "url_char_j + url_length",
          "url_length + url_words_with_length_7",
          "url_extension_.com + url_length"
         ]
        }
       ],
       "layout": {
        "autosize": false,
        "height": 1000,
        "width": 1000,
        "xaxis": {
         "tickfont": {
          "color": "black",
          "size": 12
         },
         "title": "Feature Importances"
        },
        "yaxis": {
         "automargin": true
        }
       }
      },
      "text/html": [
       "<div id=\"e216d47e-0f8b-4b51-a00f-c01f2a3e94d7\" style=\"height: 1000px; width: 1000px;\" class=\"plotly-graph-div\"></div><script type=\"text/javascript\">require([\"plotly\"], function(Plotly) { window.PLOTLYENV=window.PLOTLYENV || {};window.PLOTLYENV.BASE_URL=\"https://plot.ly\";Plotly.newPlot(\"e216d47e-0f8b-4b51-a00f-c01f2a3e94d7\", [{\"marker\": {\"color\": \"rgb(158,202,225)\", \"line\": {\"color\": \"rgb(8,48,107)\", \"width\": 1.5}}, \"opacity\": 0.6, \"orientation\": \"h\", \"text\": [0.1043, 0.0617, 0.0604, 0.0541, 0.0523, 0.0489, 0.0485, 0.0464, 0.045, 0.0408, 0.036, 0.0302, 0.0297, 0.0235, 0.0234, 0.0231, 0.0218, 0.0215, 0.0207, 0.0204, 0.0189, 0.0174, 0.0172, 0.0167, 0.0161, 0.0159, 0.0151, 0.0141, 0.0134, 0.0128, 0.0121, 0.0104, 0.0067], \"textposition\": \"outside\", \"x\": [0.10434461704639805, 0.06172091494826104, 0.06043799181214551, 0.05414073430765356, 0.052319236029489444, 0.04894203989454829, 0.04852192167729681, 0.046413457664032015, 0.04501767751568474, 0.04080194486118475, 0.0360130843192575, 0.03017855415551297, 0.029680991823058667, 0.023460924238087787, 0.02337369377590747, 0.023101598121109262, 0.021825988858491425, 0.021538541279327347, 0.020668860346787103, 0.02044463907304055, 0.018904274806739983, 0.01740698505818589, 0.01723219454244495, 0.016734120455189135, 0.016136973980698292, 0.01594928531802247, 0.015122082923169583, 0.014123174040667777, 0.013407425230245143, 0.012847045999243259, 0.012073598726469565, 0.010448858953369665, 0.006666568218279959], \"y\": [\"url_char_w + url_extensions\", \"url_char_w + url_length\", \"url_char_. + url_length\", \"url_length + url_tlds\", \"url_char_h + url_length\", \"url_char_u + url_length\", \"url_char_y + url_length\", \"url_char_v + url_length\", \"url_char_k + url_length\", \"url_char_.\", \"url_char_. + url_char_z\", \"url_char_i + url_length\", \"url_char_. + url_char_j\", \"url_char_w * url_extensions\", \"url_char_w + url_char_z\", \"url_char_k + url_extensions\", \"url_char_o + url_length\", \"url_char_e + url_length\", \"url_char_r + url_length\", \"url_char_a + url_length\", \"url_extension_.com / url_char_.\", \"url_char_s + url_length\", \"url_char_b + url_length\", \"url_char_. + url_char_w\", \"url_char_l + url_length\", \"url_char_c + url_length\", \"url_char_m + url_length\", \"url_char_f + url_length\", \"url_char_g + url_length\", \"url_char_- + url_length\", \"url_char_j + url_length\", \"url_length + url_words_with_length_7\", \"url_extension_.com + url_length\"], \"type\": \"bar\", \"uid\": \"ee7061fe-c447-471b-9e4d-e9748b8248db\"}], {\"autosize\": false, \"height\": 1000, \"width\": 1000, \"xaxis\": {\"tickfont\": {\"color\": \"black\", \"size\": 12}, \"title\": \"Feature Importances\"}, \"yaxis\": {\"automargin\": true}}, {\"showLink\": true, \"linkText\": \"Export to plot.ly\", \"plotlyServerURL\": \"https://plot.ly\"})});</script>"
      ],
      "text/vnd.plotly.v1+html": [
       "<div id=\"e216d47e-0f8b-4b51-a00f-c01f2a3e94d7\" style=\"height: 1000px; width: 1000px;\" class=\"plotly-graph-div\"></div><script type=\"text/javascript\">require([\"plotly\"], function(Plotly) { window.PLOTLYENV=window.PLOTLYENV || {};window.PLOTLYENV.BASE_URL=\"https://plot.ly\";Plotly.newPlot(\"e216d47e-0f8b-4b51-a00f-c01f2a3e94d7\", [{\"marker\": {\"color\": \"rgb(158,202,225)\", \"line\": {\"color\": \"rgb(8,48,107)\", \"width\": 1.5}}, \"opacity\": 0.6, \"orientation\": \"h\", \"text\": [0.1043, 0.0617, 0.0604, 0.0541, 0.0523, 0.0489, 0.0485, 0.0464, 0.045, 0.0408, 0.036, 0.0302, 0.0297, 0.0235, 0.0234, 0.0231, 0.0218, 0.0215, 0.0207, 0.0204, 0.0189, 0.0174, 0.0172, 0.0167, 0.0161, 0.0159, 0.0151, 0.0141, 0.0134, 0.0128, 0.0121, 0.0104, 0.0067], \"textposition\": \"outside\", \"x\": [0.10434461704639805, 0.06172091494826104, 0.06043799181214551, 0.05414073430765356, 0.052319236029489444, 0.04894203989454829, 0.04852192167729681, 0.046413457664032015, 0.04501767751568474, 0.04080194486118475, 0.0360130843192575, 0.03017855415551297, 0.029680991823058667, 0.023460924238087787, 0.02337369377590747, 0.023101598121109262, 0.021825988858491425, 0.021538541279327347, 0.020668860346787103, 0.02044463907304055, 0.018904274806739983, 0.01740698505818589, 0.01723219454244495, 0.016734120455189135, 0.016136973980698292, 0.01594928531802247, 0.015122082923169583, 0.014123174040667777, 0.013407425230245143, 0.012847045999243259, 0.012073598726469565, 0.010448858953369665, 0.006666568218279959], \"y\": [\"url_char_w + url_extensions\", \"url_char_w + url_length\", \"url_char_. + url_length\", \"url_length + url_tlds\", \"url_char_h + url_length\", \"url_char_u + url_length\", \"url_char_y + url_length\", \"url_char_v + url_length\", \"url_char_k + url_length\", \"url_char_.\", \"url_char_. + url_char_z\", \"url_char_i + url_length\", \"url_char_. + url_char_j\", \"url_char_w * url_extensions\", \"url_char_w + url_char_z\", \"url_char_k + url_extensions\", \"url_char_o + url_length\", \"url_char_e + url_length\", \"url_char_r + url_length\", \"url_char_a + url_length\", \"url_extension_.com / url_char_.\", \"url_char_s + url_length\", \"url_char_b + url_length\", \"url_char_. + url_char_w\", \"url_char_l + url_length\", \"url_char_c + url_length\", \"url_char_m + url_length\", \"url_char_f + url_length\", \"url_char_g + url_length\", \"url_char_- + url_length\", \"url_char_j + url_length\", \"url_length + url_words_with_length_7\", \"url_extension_.com + url_length\"], \"type\": \"bar\", \"uid\": \"ee7061fe-c447-471b-9e4d-e9748b8248db\"}], {\"autosize\": false, \"height\": 1000, \"width\": 1000, \"xaxis\": {\"tickfont\": {\"color\": \"black\", \"size\": 12}, \"title\": \"Feature Importances\"}, \"yaxis\": {\"automargin\": true}}, {\"showLink\": true, \"linkText\": \"Export to plot.ly\", \"plotlyServerURL\": \"https://plot.ly\"})});</script>"
      ]
     },
     "metadata": {},
     "output_type": "display_data"
    },
    {
     "name": "stdout",
     "output_type": "stream",
     "text": [
      "\n",
      "\n",
      "\u001b[1mAdaoost Classifier\u001b[0m\n",
      "Accuracy of the model for training data is: 0.9423946243127672\n",
      "Confusion Matrix for training data is:\n"
     ]
    },
    {
     "data": {
      "text/plain": [
       "Predicted  False  True  __all__\n",
       "Actual                         \n",
       "False      27471   436    27907\n",
       "True        1450  3383     4833\n",
       "__all__    28921  3819    32740"
      ]
     },
     "metadata": {},
     "output_type": "display_data"
    },
    {
     "name": "stdout",
     "output_type": "stream",
     "text": [
      "Accuracy of the model for test data is: 0.9394198560330697\n",
      "Confusion Matrix for test data is:\n"
     ]
    },
    {
     "data": {
      "text/plain": [
       "Predicted  False  True  __all__\n",
       "Actual                         \n",
       "False      11760   210    11970\n",
       "True         640  1421     2061\n",
       "__all__    12400  1631    14031"
      ]
     },
     "metadata": {},
     "output_type": "display_data"
    },
    {
     "data": {
      "application/vnd.plotly.v1+json": {
       "config": {
        "linkText": "Export to plot.ly",
        "plotlyServerURL": "https://plot.ly",
        "showLink": true
       },
       "data": [
        {
         "marker": {
          "color": "rgb(158,202,225)",
          "line": {
           "color": "rgb(8,48,107)",
           "width": 1.5
          }
         },
         "opacity": 0.6,
         "orientation": "h",
         "text": [
          0.14,
          0.14,
          0.08,
          0.08,
          0.06,
          0.06,
          0.06,
          0.04,
          0.04,
          0.04,
          0.04,
          0.04,
          0.02,
          0.02,
          0.02,
          0.02,
          0.02,
          0.02,
          0.02,
          0.02,
          0.02,
          0,
          0,
          0,
          0,
          0,
          0,
          0,
          0,
          0,
          0,
          0,
          0
         ],
         "textposition": "outside",
         "type": "bar",
         "uid": "be1a73db-5ab4-4922-ac6b-0baeab686752",
         "x": [
          0.14,
          0.14,
          0.08,
          0.08,
          0.06,
          0.06,
          0.06,
          0.04,
          0.04,
          0.04,
          0.04,
          0.04,
          0.02,
          0.02,
          0.02,
          0.02,
          0.02,
          0.02,
          0.02,
          0.02,
          0.02,
          0,
          0,
          0,
          0,
          0,
          0,
          0,
          0,
          0,
          0,
          0,
          0
         ],
         "y": [
          "url_char_. + url_length",
          "url_char_w + url_extensions",
          "url_char_. + url_char_z",
          "url_char_. + url_char_w",
          "url_char_i + url_length",
          "url_extension_.com / url_char_.",
          "url_char_k + url_extensions",
          "url_char_w * url_extensions",
          "url_char_b + url_length",
          "url_char_o + url_length",
          "url_char_s + url_length",
          "url_extension_.com + url_length",
          "url_char_f + url_length",
          "url_char_r + url_length",
          "url_char_. + url_char_j",
          "url_char_w + url_length",
          "url_char_a + url_length",
          "url_char_y + url_length",
          "url_char_j + url_length",
          "url_char_.",
          "url_char_c + url_length",
          "url_char_e + url_length",
          "url_char_k + url_length",
          "url_char_g + url_length",
          "url_char_h + url_length",
          "url_length + url_words_with_length_7",
          "url_char_l + url_length",
          "url_char_m + url_length",
          "url_char_u + url_length",
          "url_char_v + url_length",
          "url_char_w + url_char_z",
          "url_length + url_tlds",
          "url_char_- + url_length"
         ]
        }
       ],
       "layout": {
        "autosize": false,
        "height": 1000,
        "width": 1000,
        "xaxis": {
         "tickfont": {
          "color": "black",
          "size": 12
         },
         "title": "Feature Importances"
        },
        "yaxis": {
         "automargin": true
        }
       }
      },
      "text/html": [
       "<div id=\"7be70155-4964-4818-bf03-a9d90f2308c5\" style=\"height: 1000px; width: 1000px;\" class=\"plotly-graph-div\"></div><script type=\"text/javascript\">require([\"plotly\"], function(Plotly) { window.PLOTLYENV=window.PLOTLYENV || {};window.PLOTLYENV.BASE_URL=\"https://plot.ly\";Plotly.newPlot(\"7be70155-4964-4818-bf03-a9d90f2308c5\", [{\"marker\": {\"color\": \"rgb(158,202,225)\", \"line\": {\"color\": \"rgb(8,48,107)\", \"width\": 1.5}}, \"opacity\": 0.6, \"orientation\": \"h\", \"text\": [0.14, 0.14, 0.08, 0.08, 0.06, 0.06, 0.06, 0.04, 0.04, 0.04, 0.04, 0.04, 0.02, 0.02, 0.02, 0.02, 0.02, 0.02, 0.02, 0.02, 0.02, 0.0, 0.0, 0.0, 0.0, 0.0, 0.0, 0.0, 0.0, 0.0, 0.0, 0.0, 0.0], \"textposition\": \"outside\", \"x\": [0.14, 0.14, 0.08, 0.08, 0.06, 0.06, 0.06, 0.04, 0.04, 0.04, 0.04, 0.04, 0.02, 0.02, 0.02, 0.02, 0.02, 0.02, 0.02, 0.02, 0.02, 0.0, 0.0, 0.0, 0.0, 0.0, 0.0, 0.0, 0.0, 0.0, 0.0, 0.0, 0.0], \"y\": [\"url_char_. + url_length\", \"url_char_w + url_extensions\", \"url_char_. + url_char_z\", \"url_char_. + url_char_w\", \"url_char_i + url_length\", \"url_extension_.com / url_char_.\", \"url_char_k + url_extensions\", \"url_char_w * url_extensions\", \"url_char_b + url_length\", \"url_char_o + url_length\", \"url_char_s + url_length\", \"url_extension_.com + url_length\", \"url_char_f + url_length\", \"url_char_r + url_length\", \"url_char_. + url_char_j\", \"url_char_w + url_length\", \"url_char_a + url_length\", \"url_char_y + url_length\", \"url_char_j + url_length\", \"url_char_.\", \"url_char_c + url_length\", \"url_char_e + url_length\", \"url_char_k + url_length\", \"url_char_g + url_length\", \"url_char_h + url_length\", \"url_length + url_words_with_length_7\", \"url_char_l + url_length\", \"url_char_m + url_length\", \"url_char_u + url_length\", \"url_char_v + url_length\", \"url_char_w + url_char_z\", \"url_length + url_tlds\", \"url_char_- + url_length\"], \"type\": \"bar\", \"uid\": \"be1a73db-5ab4-4922-ac6b-0baeab686752\"}], {\"autosize\": false, \"height\": 1000, \"width\": 1000, \"xaxis\": {\"tickfont\": {\"color\": \"black\", \"size\": 12}, \"title\": \"Feature Importances\"}, \"yaxis\": {\"automargin\": true}}, {\"showLink\": true, \"linkText\": \"Export to plot.ly\", \"plotlyServerURL\": \"https://plot.ly\"})});</script>"
      ],
      "text/vnd.plotly.v1+html": [
       "<div id=\"7be70155-4964-4818-bf03-a9d90f2308c5\" style=\"height: 1000px; width: 1000px;\" class=\"plotly-graph-div\"></div><script type=\"text/javascript\">require([\"plotly\"], function(Plotly) { window.PLOTLYENV=window.PLOTLYENV || {};window.PLOTLYENV.BASE_URL=\"https://plot.ly\";Plotly.newPlot(\"7be70155-4964-4818-bf03-a9d90f2308c5\", [{\"marker\": {\"color\": \"rgb(158,202,225)\", \"line\": {\"color\": \"rgb(8,48,107)\", \"width\": 1.5}}, \"opacity\": 0.6, \"orientation\": \"h\", \"text\": [0.14, 0.14, 0.08, 0.08, 0.06, 0.06, 0.06, 0.04, 0.04, 0.04, 0.04, 0.04, 0.02, 0.02, 0.02, 0.02, 0.02, 0.02, 0.02, 0.02, 0.02, 0.0, 0.0, 0.0, 0.0, 0.0, 0.0, 0.0, 0.0, 0.0, 0.0, 0.0, 0.0], \"textposition\": \"outside\", \"x\": [0.14, 0.14, 0.08, 0.08, 0.06, 0.06, 0.06, 0.04, 0.04, 0.04, 0.04, 0.04, 0.02, 0.02, 0.02, 0.02, 0.02, 0.02, 0.02, 0.02, 0.02, 0.0, 0.0, 0.0, 0.0, 0.0, 0.0, 0.0, 0.0, 0.0, 0.0, 0.0, 0.0], \"y\": [\"url_char_. + url_length\", \"url_char_w + url_extensions\", \"url_char_. + url_char_z\", \"url_char_. + url_char_w\", \"url_char_i + url_length\", \"url_extension_.com / url_char_.\", \"url_char_k + url_extensions\", \"url_char_w * url_extensions\", \"url_char_b + url_length\", \"url_char_o + url_length\", \"url_char_s + url_length\", \"url_extension_.com + url_length\", \"url_char_f + url_length\", \"url_char_r + url_length\", \"url_char_. + url_char_j\", \"url_char_w + url_length\", \"url_char_a + url_length\", \"url_char_y + url_length\", \"url_char_j + url_length\", \"url_char_.\", \"url_char_c + url_length\", \"url_char_e + url_length\", \"url_char_k + url_length\", \"url_char_g + url_length\", \"url_char_h + url_length\", \"url_length + url_words_with_length_7\", \"url_char_l + url_length\", \"url_char_m + url_length\", \"url_char_u + url_length\", \"url_char_v + url_length\", \"url_char_w + url_char_z\", \"url_length + url_tlds\", \"url_char_- + url_length\"], \"type\": \"bar\", \"uid\": \"be1a73db-5ab4-4922-ac6b-0baeab686752\"}], {\"autosize\": false, \"height\": 1000, \"width\": 1000, \"xaxis\": {\"tickfont\": {\"color\": \"black\", \"size\": 12}, \"title\": \"Feature Importances\"}, \"yaxis\": {\"automargin\": true}}, {\"showLink\": true, \"linkText\": \"Export to plot.ly\", \"plotlyServerURL\": \"https://plot.ly\"})});</script>"
      ]
     },
     "metadata": {},
     "output_type": "display_data"
    },
    {
     "name": "stdout",
     "output_type": "stream",
     "text": [
      "\n",
      "\n",
      "\u001b[1mGradientBoosting Classifier\u001b[0m\n",
      "Accuracy of the model for training data is: 0.951435552840562\n",
      "Confusion Matrix for training data is:\n"
     ]
    },
    {
     "data": {
      "text/plain": [
       "Predicted  False  True  __all__\n",
       "Actual                         \n",
       "False      27496   411    27907\n",
       "True        1179  3654     4833\n",
       "__all__    28675  4065    32740"
      ]
     },
     "metadata": {},
     "output_type": "display_data"
    },
    {
     "name": "stdout",
     "output_type": "stream",
     "text": [
      "Accuracy of the model for test data is: 0.9497541158862519\n",
      "Confusion Matrix for test data is:\n"
     ]
    },
    {
     "data": {
      "text/plain": [
       "Predicted  False  True  __all__\n",
       "Actual                         \n",
       "False      11775   195    11970\n",
       "True         510  1551     2061\n",
       "__all__    12285  1746    14031"
      ]
     },
     "metadata": {},
     "output_type": "display_data"
    },
    {
     "data": {
      "application/vnd.plotly.v1+json": {
       "config": {
        "linkText": "Export to plot.ly",
        "plotlyServerURL": "https://plot.ly",
        "showLink": true
       },
       "data": [
        {
         "marker": {
          "color": "rgb(158,202,225)",
          "line": {
           "color": "rgb(8,48,107)",
           "width": 1.5
          }
         },
         "opacity": 0.6,
         "orientation": "h",
         "text": [
          0.4538,
          0.1671,
          0.074,
          0.0653,
          0.058,
          0.0557,
          0.0406,
          0.0147,
          0.0131,
          0.0089,
          0.0085,
          0.0064,
          0.0059,
          0.0039,
          0.0036,
          0.003,
          0.003,
          0.0026,
          0.0025,
          0.0018,
          0.0016,
          0.0012,
          0.0009,
          0.0006,
          0.0006,
          0.0006,
          0.0006,
          0.0006,
          0.0003,
          0.0003,
          0.0003,
          0.0002,
          0.0001
         ],
         "textposition": "outside",
         "type": "bar",
         "uid": "8b7b2e1c-36aa-45e0-a0db-07f4cc79225b",
         "x": [
          0.4537942924908943,
          0.16710011832384292,
          0.07397181836065238,
          0.06525797379179155,
          0.05799748017884056,
          0.055734454145846844,
          0.04057143325949424,
          0.014687443145798215,
          0.01310719277648595,
          0.008895633286203934,
          0.008498853176810369,
          0.006399946560672595,
          0.00592565425685219,
          0.003865919518626058,
          0.0035535172658259923,
          0.0030279841012265754,
          0.002957975818438131,
          0.0025589880969359847,
          0.0025370323074478695,
          0.0017550229189276234,
          0.0016046042640857326,
          0.0012332182357717462,
          0.0009105202514097135,
          0.0005954935801043299,
          0.0005860760026763496,
          0.0005845453397337684,
          0.0005709551086988625,
          0.0005566137446574638,
          0.00033193146702937984,
          0.00029289803637129827,
          0.00028088967294119863,
          0.00019566242830320905,
          5.785808660268679e-05
         ],
         "y": [
          "url_char_. + url_length",
          "url_char_w + url_extensions",
          "url_char_.",
          "url_char_w + url_length",
          "url_char_. + url_char_z",
          "url_extension_.com / url_char_.",
          "url_char_. + url_char_w",
          "url_char_k + url_extensions",
          "url_char_w + url_char_z",
          "url_char_b + url_length",
          "url_char_o + url_length",
          "url_char_y + url_length",
          "url_char_w * url_extensions",
          "url_char_. + url_char_j",
          "url_length + url_tlds",
          "url_char_f + url_length",
          "url_char_i + url_length",
          "url_char_k + url_length",
          "url_char_c + url_length",
          "url_char_u + url_length",
          "url_char_v + url_length",
          "url_char_r + url_length",
          "url_length + url_words_with_length_7",
          "url_char_e + url_length",
          "url_char_a + url_length",
          "url_char_g + url_length",
          "url_extension_.com + url_length",
          "url_char_m + url_length",
          "url_char_l + url_length",
          "url_char_s + url_length",
          "url_char_j + url_length",
          "url_char_- + url_length",
          "url_char_h + url_length"
         ]
        }
       ],
       "layout": {
        "autosize": false,
        "height": 1000,
        "width": 1000,
        "xaxis": {
         "tickfont": {
          "color": "black",
          "size": 12
         },
         "title": "Feature Importances"
        },
        "yaxis": {
         "automargin": true
        }
       }
      },
      "text/html": [
       "<div id=\"6c6df7e4-24fe-4bf3-a582-0e5e82457c8c\" style=\"height: 1000px; width: 1000px;\" class=\"plotly-graph-div\"></div><script type=\"text/javascript\">require([\"plotly\"], function(Plotly) { window.PLOTLYENV=window.PLOTLYENV || {};window.PLOTLYENV.BASE_URL=\"https://plot.ly\";Plotly.newPlot(\"6c6df7e4-24fe-4bf3-a582-0e5e82457c8c\", [{\"marker\": {\"color\": \"rgb(158,202,225)\", \"line\": {\"color\": \"rgb(8,48,107)\", \"width\": 1.5}}, \"opacity\": 0.6, \"orientation\": \"h\", \"text\": [0.4538, 0.1671, 0.074, 0.0653, 0.058, 0.0557, 0.0406, 0.0147, 0.0131, 0.0089, 0.0085, 0.0064, 0.0059, 0.0039, 0.0036, 0.003, 0.003, 0.0026, 0.0025, 0.0018, 0.0016, 0.0012, 0.0009, 0.0006, 0.0006, 0.0006, 0.0006, 0.0006, 0.0003, 0.0003, 0.0003, 0.0002, 0.0001], \"textposition\": \"outside\", \"x\": [0.4537942924908943, 0.16710011832384292, 0.07397181836065238, 0.06525797379179155, 0.05799748017884056, 0.055734454145846844, 0.04057143325949424, 0.014687443145798215, 0.01310719277648595, 0.008895633286203934, 0.008498853176810369, 0.006399946560672595, 0.00592565425685219, 0.003865919518626058, 0.0035535172658259923, 0.0030279841012265754, 0.002957975818438131, 0.0025589880969359847, 0.0025370323074478695, 0.0017550229189276234, 0.0016046042640857326, 0.0012332182357717462, 0.0009105202514097135, 0.0005954935801043299, 0.0005860760026763496, 0.0005845453397337684, 0.0005709551086988625, 0.0005566137446574638, 0.00033193146702937984, 0.00029289803637129827, 0.00028088967294119863, 0.00019566242830320905, 5.785808660268679e-05], \"y\": [\"url_char_. + url_length\", \"url_char_w + url_extensions\", \"url_char_.\", \"url_char_w + url_length\", \"url_char_. + url_char_z\", \"url_extension_.com / url_char_.\", \"url_char_. + url_char_w\", \"url_char_k + url_extensions\", \"url_char_w + url_char_z\", \"url_char_b + url_length\", \"url_char_o + url_length\", \"url_char_y + url_length\", \"url_char_w * url_extensions\", \"url_char_. + url_char_j\", \"url_length + url_tlds\", \"url_char_f + url_length\", \"url_char_i + url_length\", \"url_char_k + url_length\", \"url_char_c + url_length\", \"url_char_u + url_length\", \"url_char_v + url_length\", \"url_char_r + url_length\", \"url_length + url_words_with_length_7\", \"url_char_e + url_length\", \"url_char_a + url_length\", \"url_char_g + url_length\", \"url_extension_.com + url_length\", \"url_char_m + url_length\", \"url_char_l + url_length\", \"url_char_s + url_length\", \"url_char_j + url_length\", \"url_char_- + url_length\", \"url_char_h + url_length\"], \"type\": \"bar\", \"uid\": \"8b7b2e1c-36aa-45e0-a0db-07f4cc79225b\"}], {\"autosize\": false, \"height\": 1000, \"width\": 1000, \"xaxis\": {\"tickfont\": {\"color\": \"black\", \"size\": 12}, \"title\": \"Feature Importances\"}, \"yaxis\": {\"automargin\": true}}, {\"showLink\": true, \"linkText\": \"Export to plot.ly\", \"plotlyServerURL\": \"https://plot.ly\"})});</script>"
      ],
      "text/vnd.plotly.v1+html": [
       "<div id=\"6c6df7e4-24fe-4bf3-a582-0e5e82457c8c\" style=\"height: 1000px; width: 1000px;\" class=\"plotly-graph-div\"></div><script type=\"text/javascript\">require([\"plotly\"], function(Plotly) { window.PLOTLYENV=window.PLOTLYENV || {};window.PLOTLYENV.BASE_URL=\"https://plot.ly\";Plotly.newPlot(\"6c6df7e4-24fe-4bf3-a582-0e5e82457c8c\", [{\"marker\": {\"color\": \"rgb(158,202,225)\", \"line\": {\"color\": \"rgb(8,48,107)\", \"width\": 1.5}}, \"opacity\": 0.6, \"orientation\": \"h\", \"text\": [0.4538, 0.1671, 0.074, 0.0653, 0.058, 0.0557, 0.0406, 0.0147, 0.0131, 0.0089, 0.0085, 0.0064, 0.0059, 0.0039, 0.0036, 0.003, 0.003, 0.0026, 0.0025, 0.0018, 0.0016, 0.0012, 0.0009, 0.0006, 0.0006, 0.0006, 0.0006, 0.0006, 0.0003, 0.0003, 0.0003, 0.0002, 0.0001], \"textposition\": \"outside\", \"x\": [0.4537942924908943, 0.16710011832384292, 0.07397181836065238, 0.06525797379179155, 0.05799748017884056, 0.055734454145846844, 0.04057143325949424, 0.014687443145798215, 0.01310719277648595, 0.008895633286203934, 0.008498853176810369, 0.006399946560672595, 0.00592565425685219, 0.003865919518626058, 0.0035535172658259923, 0.0030279841012265754, 0.002957975818438131, 0.0025589880969359847, 0.0025370323074478695, 0.0017550229189276234, 0.0016046042640857326, 0.0012332182357717462, 0.0009105202514097135, 0.0005954935801043299, 0.0005860760026763496, 0.0005845453397337684, 0.0005709551086988625, 0.0005566137446574638, 0.00033193146702937984, 0.00029289803637129827, 0.00028088967294119863, 0.00019566242830320905, 5.785808660268679e-05], \"y\": [\"url_char_. + url_length\", \"url_char_w + url_extensions\", \"url_char_.\", \"url_char_w + url_length\", \"url_char_. + url_char_z\", \"url_extension_.com / url_char_.\", \"url_char_. + url_char_w\", \"url_char_k + url_extensions\", \"url_char_w + url_char_z\", \"url_char_b + url_length\", \"url_char_o + url_length\", \"url_char_y + url_length\", \"url_char_w * url_extensions\", \"url_char_. + url_char_j\", \"url_length + url_tlds\", \"url_char_f + url_length\", \"url_char_i + url_length\", \"url_char_k + url_length\", \"url_char_c + url_length\", \"url_char_u + url_length\", \"url_char_v + url_length\", \"url_char_r + url_length\", \"url_length + url_words_with_length_7\", \"url_char_e + url_length\", \"url_char_a + url_length\", \"url_char_g + url_length\", \"url_extension_.com + url_length\", \"url_char_m + url_length\", \"url_char_l + url_length\", \"url_char_s + url_length\", \"url_char_j + url_length\", \"url_char_- + url_length\", \"url_char_h + url_length\"], \"type\": \"bar\", \"uid\": \"8b7b2e1c-36aa-45e0-a0db-07f4cc79225b\"}], {\"autosize\": false, \"height\": 1000, \"width\": 1000, \"xaxis\": {\"tickfont\": {\"color\": \"black\", \"size\": 12}, \"title\": \"Feature Importances\"}, \"yaxis\": {\"automargin\": true}}, {\"showLink\": true, \"linkText\": \"Export to plot.ly\", \"plotlyServerURL\": \"https://plot.ly\"})});</script>"
      ]
     },
     "metadata": {},
     "output_type": "display_data"
    },
    {
     "name": "stdout",
     "output_type": "stream",
     "text": [
      "\n",
      "\n",
      "\u001b[1mExtraTree Classifier\u001b[0m\n",
      "Accuracy of the model for training data is: 0.9998472816127062\n",
      "Confusion Matrix for training data is:\n"
     ]
    },
    {
     "data": {
      "text/plain": [
       "Predicted  False  True  __all__\n",
       "Actual                         \n",
       "False      27907     0    27907\n",
       "True           5  4828     4833\n",
       "__all__    27912  4828    32740"
      ]
     },
     "metadata": {},
     "output_type": "display_data"
    },
    {
     "name": "stdout",
     "output_type": "stream",
     "text": [
      "Accuracy of the model for test data is: 0.9542441736155656\n",
      "Confusion Matrix for test data is:\n"
     ]
    },
    {
     "data": {
      "text/plain": [
       "Predicted  False  True  __all__\n",
       "Actual                         \n",
       "False      11809   161    11970\n",
       "True         481  1580     2061\n",
       "__all__    12290  1741    14031"
      ]
     },
     "metadata": {},
     "output_type": "display_data"
    },
    {
     "data": {
      "application/vnd.plotly.v1+json": {
       "config": {
        "linkText": "Export to plot.ly",
        "plotlyServerURL": "https://plot.ly",
        "showLink": true
       },
       "data": [
        {
         "marker": {
          "color": "rgb(158,202,225)",
          "line": {
           "color": "rgb(8,48,107)",
           "width": 1.5
          }
         },
         "opacity": 0.6,
         "orientation": "h",
         "text": [
          0.0668,
          0.0633,
          0.0617,
          0.0586,
          0.0527,
          0.0449,
          0.0443,
          0.0383,
          0.0352,
          0.0304,
          0.0303,
          0.0301,
          0.0295,
          0.0282,
          0.027,
          0.026,
          0.0258,
          0.0256,
          0.0251,
          0.0238,
          0.0231,
          0.0229,
          0.0224,
          0.0207,
          0.0183,
          0.0181,
          0.0169,
          0.0161,
          0.0156,
          0.0151,
          0.0148,
          0.0146,
          0.0139
         ],
         "textposition": "outside",
         "type": "bar",
         "uid": "7bc9ffed-cf6e-45b0-9641-5b02090cb52e",
         "x": [
          0.06680761942857262,
          0.06327958276997246,
          0.06165787689135842,
          0.058580003646748625,
          0.052672553056803004,
          0.044932390785069935,
          0.044307700283458,
          0.038328504784695586,
          0.035199797471656004,
          0.03039969009897838,
          0.03031190873031277,
          0.03014426062204497,
          0.02952942998508447,
          0.028158123198877262,
          0.027022207930083315,
          0.025964959756356966,
          0.02575145618685192,
          0.025637685696527662,
          0.025126871243570343,
          0.023751888449638173,
          0.02310266010941177,
          0.0228610417904876,
          0.022414355633700804,
          0.020738126582259268,
          0.01825963686791374,
          0.018097485917405197,
          0.016915635626773846,
          0.016054781512997666,
          0.0156024338518554,
          0.015140666228872706,
          0.014820044003757157,
          0.014560333737546987,
          0.013868287120356976
         ],
         "y": [
          "url_char_i + url_length",
          "url_char_o + url_length",
          "url_char_w + url_extensions",
          "url_extension_.com / url_char_.",
          "url_char_. + url_char_z",
          "url_char_l + url_length",
          "url_char_- + url_length",
          "url_char_b + url_length",
          "url_char_k + url_extensions",
          "url_char_w * url_extensions",
          "url_length + url_tlds",
          "url_char_m + url_length",
          "url_char_v + url_length",
          "url_char_s + url_length",
          "url_char_a + url_length",
          "url_char_.",
          "url_char_k + url_length",
          "url_char_w + url_char_z",
          "url_extension_.com + url_length",
          "url_char_. + url_length",
          "url_char_. + url_char_w",
          "url_char_. + url_char_j",
          "url_char_u + url_length",
          "url_char_e + url_length",
          "url_char_j + url_length",
          "url_length + url_words_with_length_7",
          "url_char_r + url_length",
          "url_char_c + url_length",
          "url_char_f + url_length",
          "url_char_w + url_length",
          "url_char_h + url_length",
          "url_char_y + url_length",
          "url_char_g + url_length"
         ]
        }
       ],
       "layout": {
        "autosize": false,
        "height": 1000,
        "width": 1000,
        "xaxis": {
         "tickfont": {
          "color": "black",
          "size": 12
         },
         "title": "Feature Importances"
        },
        "yaxis": {
         "automargin": true
        }
       }
      },
      "text/html": [
       "<div id=\"03e58e12-8d37-447f-994a-3ec4f3ff9fd3\" style=\"height: 1000px; width: 1000px;\" class=\"plotly-graph-div\"></div><script type=\"text/javascript\">require([\"plotly\"], function(Plotly) { window.PLOTLYENV=window.PLOTLYENV || {};window.PLOTLYENV.BASE_URL=\"https://plot.ly\";Plotly.newPlot(\"03e58e12-8d37-447f-994a-3ec4f3ff9fd3\", [{\"marker\": {\"color\": \"rgb(158,202,225)\", \"line\": {\"color\": \"rgb(8,48,107)\", \"width\": 1.5}}, \"opacity\": 0.6, \"orientation\": \"h\", \"text\": [0.0668, 0.0633, 0.0617, 0.0586, 0.0527, 0.0449, 0.0443, 0.0383, 0.0352, 0.0304, 0.0303, 0.0301, 0.0295, 0.0282, 0.027, 0.026, 0.0258, 0.0256, 0.0251, 0.0238, 0.0231, 0.0229, 0.0224, 0.0207, 0.0183, 0.0181, 0.0169, 0.0161, 0.0156, 0.0151, 0.0148, 0.0146, 0.0139], \"textposition\": \"outside\", \"x\": [0.06680761942857262, 0.06327958276997246, 0.06165787689135842, 0.058580003646748625, 0.052672553056803004, 0.044932390785069935, 0.044307700283458, 0.038328504784695586, 0.035199797471656004, 0.03039969009897838, 0.03031190873031277, 0.03014426062204497, 0.02952942998508447, 0.028158123198877262, 0.027022207930083315, 0.025964959756356966, 0.02575145618685192, 0.025637685696527662, 0.025126871243570343, 0.023751888449638173, 0.02310266010941177, 0.0228610417904876, 0.022414355633700804, 0.020738126582259268, 0.01825963686791374, 0.018097485917405197, 0.016915635626773846, 0.016054781512997666, 0.0156024338518554, 0.015140666228872706, 0.014820044003757157, 0.014560333737546987, 0.013868287120356976], \"y\": [\"url_char_i + url_length\", \"url_char_o + url_length\", \"url_char_w + url_extensions\", \"url_extension_.com / url_char_.\", \"url_char_. + url_char_z\", \"url_char_l + url_length\", \"url_char_- + url_length\", \"url_char_b + url_length\", \"url_char_k + url_extensions\", \"url_char_w * url_extensions\", \"url_length + url_tlds\", \"url_char_m + url_length\", \"url_char_v + url_length\", \"url_char_s + url_length\", \"url_char_a + url_length\", \"url_char_.\", \"url_char_k + url_length\", \"url_char_w + url_char_z\", \"url_extension_.com + url_length\", \"url_char_. + url_length\", \"url_char_. + url_char_w\", \"url_char_. + url_char_j\", \"url_char_u + url_length\", \"url_char_e + url_length\", \"url_char_j + url_length\", \"url_length + url_words_with_length_7\", \"url_char_r + url_length\", \"url_char_c + url_length\", \"url_char_f + url_length\", \"url_char_w + url_length\", \"url_char_h + url_length\", \"url_char_y + url_length\", \"url_char_g + url_length\"], \"type\": \"bar\", \"uid\": \"7bc9ffed-cf6e-45b0-9641-5b02090cb52e\"}], {\"autosize\": false, \"height\": 1000, \"width\": 1000, \"xaxis\": {\"tickfont\": {\"color\": \"black\", \"size\": 12}, \"title\": \"Feature Importances\"}, \"yaxis\": {\"automargin\": true}}, {\"showLink\": true, \"linkText\": \"Export to plot.ly\", \"plotlyServerURL\": \"https://plot.ly\"})});</script>"
      ],
      "text/vnd.plotly.v1+html": [
       "<div id=\"03e58e12-8d37-447f-994a-3ec4f3ff9fd3\" style=\"height: 1000px; width: 1000px;\" class=\"plotly-graph-div\"></div><script type=\"text/javascript\">require([\"plotly\"], function(Plotly) { window.PLOTLYENV=window.PLOTLYENV || {};window.PLOTLYENV.BASE_URL=\"https://plot.ly\";Plotly.newPlot(\"03e58e12-8d37-447f-994a-3ec4f3ff9fd3\", [{\"marker\": {\"color\": \"rgb(158,202,225)\", \"line\": {\"color\": \"rgb(8,48,107)\", \"width\": 1.5}}, \"opacity\": 0.6, \"orientation\": \"h\", \"text\": [0.0668, 0.0633, 0.0617, 0.0586, 0.0527, 0.0449, 0.0443, 0.0383, 0.0352, 0.0304, 0.0303, 0.0301, 0.0295, 0.0282, 0.027, 0.026, 0.0258, 0.0256, 0.0251, 0.0238, 0.0231, 0.0229, 0.0224, 0.0207, 0.0183, 0.0181, 0.0169, 0.0161, 0.0156, 0.0151, 0.0148, 0.0146, 0.0139], \"textposition\": \"outside\", \"x\": [0.06680761942857262, 0.06327958276997246, 0.06165787689135842, 0.058580003646748625, 0.052672553056803004, 0.044932390785069935, 0.044307700283458, 0.038328504784695586, 0.035199797471656004, 0.03039969009897838, 0.03031190873031277, 0.03014426062204497, 0.02952942998508447, 0.028158123198877262, 0.027022207930083315, 0.025964959756356966, 0.02575145618685192, 0.025637685696527662, 0.025126871243570343, 0.023751888449638173, 0.02310266010941177, 0.0228610417904876, 0.022414355633700804, 0.020738126582259268, 0.01825963686791374, 0.018097485917405197, 0.016915635626773846, 0.016054781512997666, 0.0156024338518554, 0.015140666228872706, 0.014820044003757157, 0.014560333737546987, 0.013868287120356976], \"y\": [\"url_char_i + url_length\", \"url_char_o + url_length\", \"url_char_w + url_extensions\", \"url_extension_.com / url_char_.\", \"url_char_. + url_char_z\", \"url_char_l + url_length\", \"url_char_- + url_length\", \"url_char_b + url_length\", \"url_char_k + url_extensions\", \"url_char_w * url_extensions\", \"url_length + url_tlds\", \"url_char_m + url_length\", \"url_char_v + url_length\", \"url_char_s + url_length\", \"url_char_a + url_length\", \"url_char_.\", \"url_char_k + url_length\", \"url_char_w + url_char_z\", \"url_extension_.com + url_length\", \"url_char_. + url_length\", \"url_char_. + url_char_w\", \"url_char_. + url_char_j\", \"url_char_u + url_length\", \"url_char_e + url_length\", \"url_char_j + url_length\", \"url_length + url_words_with_length_7\", \"url_char_r + url_length\", \"url_char_c + url_length\", \"url_char_f + url_length\", \"url_char_w + url_length\", \"url_char_h + url_length\", \"url_char_y + url_length\", \"url_char_g + url_length\"], \"type\": \"bar\", \"uid\": \"7bc9ffed-cf6e-45b0-9641-5b02090cb52e\"}], {\"autosize\": false, \"height\": 1000, \"width\": 1000, \"xaxis\": {\"tickfont\": {\"color\": \"black\", \"size\": 12}, \"title\": \"Feature Importances\"}, \"yaxis\": {\"automargin\": true}}, {\"showLink\": true, \"linkText\": \"Export to plot.ly\", \"plotlyServerURL\": \"https://plot.ly\"})});</script>"
      ]
     },
     "metadata": {},
     "output_type": "display_data"
    },
    {
     "name": "stdout",
     "output_type": "stream",
     "text": [
      "\n",
      "\n",
      "\u001b[1mBagging Classifier\u001b[0m\n",
      "Accuracy of the model for training data is: 0.9934331093463653\n",
      "Confusion Matrix for training data is:\n"
     ]
    },
    {
     "data": {
      "text/plain": [
       "Predicted  False  True  __all__\n",
       "Actual                         \n",
       "False      27899     8    27907\n",
       "True         207  4626     4833\n",
       "__all__    28106  4634    32740"
      ]
     },
     "metadata": {},
     "output_type": "display_data"
    },
    {
     "name": "stdout",
     "output_type": "stream",
     "text": [
      "Accuracy of the model for test data is: 0.95445798588839\n",
      "Confusion Matrix for test data is:\n"
     ]
    },
    {
     "data": {
      "text/plain": [
       "Predicted  False  True  __all__\n",
       "Actual                         \n",
       "False      11794   176    11970\n",
       "True         463  1598     2061\n",
       "__all__    12257  1774    14031"
      ]
     },
     "metadata": {},
     "output_type": "display_data"
    },
    {
     "name": "stdout",
     "output_type": "stream",
     "text": [
      "\n",
      "\n",
      "\u001b[1mNeural Network-1\u001b[0m\n",
      "The accuracy of the model on training data is: 0.9649358582773366\n"
     ]
    },
    {
     "data": {
      "text/plain": [
       "Predicted  False  True  __all__\n",
       "Actual                         \n",
       "False      27679   228    27907\n",
       "True         920  3913     4833\n",
       "__all__    28599  4141    32740"
      ]
     },
     "metadata": {},
     "output_type": "display_data"
    },
    {
     "name": "stdout",
     "output_type": "stream",
     "text": [
      "The accuracy of the model on test data is: 0.9606585418002993\n"
     ]
    },
    {
     "data": {
      "text/plain": [
       "Predicted  False  True  __all__\n",
       "Actual                         \n",
       "False      11841   129    11970\n",
       "True         423  1638     2061\n",
       "__all__    12264  1767    14031"
      ]
     },
     "metadata": {},
     "output_type": "display_data"
    },
    {
     "name": "stdout",
     "output_type": "stream",
     "text": [
      "\n",
      "\n"
     ]
    }
   ],
   "source": [
    "feat_imp=[None]*4\n",
    "j=0\n",
    "for i in range(0,8):\n",
    "    if i>=2 and i<=5:\n",
    "        model,cm_train,cm_test,acc_train,acc_test,roc_auc,feat_imp[j],mcc=f[i](scaled_X_train,train_Y,scaled_X_test,test_Y,feature_name)\n",
    "        j=j+1\n",
    "    else:\n",
    "        model,cm_train,cm_test,acc_train,acc_test,roc_auc,mcc=f[i](scaled_X_train,train_Y,scaled_X_test,test_Y)\n",
    "    table_80_60_train.loc[i]=   ([acc_train,cm_train.TP,cm_train.TN,cm_train.FP,cm_train.FN,cm_train.FPR,cm_train.FNR])\n",
    "    table_80_60_test.loc[i] =   ([acc_test ,cm_test.TP, cm_test.TN, cm_test.FP, cm_test.FN, cm_test.FPR, cm_test.FNR,roc_auc,mcc])\n",
    "    print(\"\\n\")"
   ]
  },
  {
   "cell_type": "markdown",
   "metadata": {},
   "source": [
    "### <a id='4.A' style=\"text-decoration : none; color : #000000;\"> A. Results</a>"
   ]
  },
  {
   "cell_type": "code",
   "execution_count": 62,
   "metadata": {},
   "outputs": [
    {
     "data": {
      "application/vnd.plotly.v1+json": {
       "config": {
        "linkText": "Export to plot.ly",
        "plotlyServerURL": "https://plot.ly",
        "showLink": true
       },
       "data": [
        {
         "mode": "lines",
         "name": "KNN_model",
         "type": "scatter",
         "uid": "7c1b0ee9-147d-4005-a4b9-9df659b0e01a",
         "x": [
          "accuracy",
          "FPR",
          "FNR",
          "auc"
         ],
         "y": [
          0.9532463830090514,
          0.0164578111946533,
          0.22270742358078602,
          0.8804173826122803
         ]
        },
        {
         "mode": "lines+markers",
         "name": "Logistic Regression",
         "type": "scatter",
         "uid": "603f9762-7bd3-4d7f-a855-af596f31c94f",
         "x": [
          "accuracy",
          "FPR",
          "FNR",
          "auc"
         ],
         "y": [
          0.9421281448221794,
          0.015873015873015872,
          0.3017952450266861,
          0.841165869550149
         ]
        },
        {
         "marker": {
          "symbol": "x"
         },
         "mode": "lines+markers",
         "name": "Random Forest",
         "type": "scatter",
         "uid": "ee6318d8-030e-4eba-b5c9-b833f4274e40",
         "x": [
          "accuracy",
          "FPR",
          "FNR",
          "auc"
         ],
         "y": [
          0.956809920889459,
          0.012197159565580618,
          0.22319262493934983,
          0.8823051077475348
         ]
        },
        {
         "mode": "lines",
         "name": "Ada Boost",
         "type": "scatter",
         "uid": "7fc6d5e0-c581-44b6-b906-e15222679db6",
         "x": [
          "accuracy",
          "FPR",
          "FNR",
          "auc"
         ],
         "y": [
          0.9394198560330697,
          0.017543859649122806,
          0.3105288694808345,
          0.8359636354350213
         ]
        },
        {
         "mode": "lines+markers",
         "name": "GradientBoosting",
         "type": "scatter",
         "uid": "9bd13a58-da4b-469f-9276-0210d6651d73",
         "x": [
          "accuracy",
          "FPR",
          "FNR",
          "auc"
         ],
         "y": [
          0.9497541158862519,
          0.016290726817042606,
          0.24745269286754004,
          0.8681282901577086
         ]
        },
        {
         "marker": {
          "symbol": "x"
         },
         "mode": "lines+markers",
         "name": "ExtraTree Classifier",
         "type": "scatter",
         "uid": "03dc0a7f-71fa-486b-82c7-b5e92117564a",
         "x": [
          "accuracy",
          "FPR",
          "FNR",
          "auc"
         ],
         "y": [
          0.9542441736155656,
          0.013450292397660818,
          0.23338185346918972,
          0.8765839270665748
         ]
        },
        {
         "marker": {
          "symbol": "x"
         },
         "mode": "lines+markers",
         "name": "Bagging",
         "type": "scatter",
         "uid": "658ee3aa-c262-4bb6-96d9-2a8c386a0df7",
         "x": [
          "accuracy",
          "FPR",
          "FNR",
          "auc"
         ],
         "y": [
          0.95445798588839,
          0.014703425229741019,
          0.22464822901504125,
          0.8803241728776089
         ]
        },
        {
         "marker": {
          "symbol": "x"
         },
         "mode": "lines+markers",
         "name": "Neural Network",
         "type": "scatter",
         "uid": "f2aac733-76a1-4074-a426-446e3b024019",
         "x": [
          "accuracy",
          "FPR",
          "FNR",
          "auc"
         ],
         "y": [
          0.9606585418002993,
          0.010776942355889725,
          0.2052401746724891,
          0.8919914414858104
         ]
        }
       ],
       "layout": {
        "title": "Result comparision for Features selected in Section 1",
        "yaxis": {
         "dtick": 0.05,
         "tick0": 0
        }
       }
      },
      "text/html": [
       "<div id=\"109d9e0f-1d26-4d64-a6dd-4196cc5b5117\" style=\"height: 525px; width: 100%;\" class=\"plotly-graph-div\"></div><script type=\"text/javascript\">require([\"plotly\"], function(Plotly) { window.PLOTLYENV=window.PLOTLYENV || {};window.PLOTLYENV.BASE_URL=\"https://plot.ly\";Plotly.newPlot(\"109d9e0f-1d26-4d64-a6dd-4196cc5b5117\", [{\"mode\": \"lines\", \"name\": \"KNN_model\", \"x\": [\"accuracy\", \"FPR\", \"FNR\", \"auc\"], \"y\": [0.9532463830090514, 0.0164578111946533, 0.22270742358078602, 0.8804173826122803], \"type\": \"scatter\", \"uid\": \"7c1b0ee9-147d-4005-a4b9-9df659b0e01a\"}, {\"mode\": \"lines+markers\", \"name\": \"Logistic Regression\", \"x\": [\"accuracy\", \"FPR\", \"FNR\", \"auc\"], \"y\": [0.9421281448221794, 0.015873015873015872, 0.3017952450266861, 0.841165869550149], \"type\": \"scatter\", \"uid\": \"603f9762-7bd3-4d7f-a855-af596f31c94f\"}, {\"marker\": {\"symbol\": \"x\"}, \"mode\": \"lines+markers\", \"name\": \"Random Forest\", \"x\": [\"accuracy\", \"FPR\", \"FNR\", \"auc\"], \"y\": [0.956809920889459, 0.012197159565580618, 0.22319262493934983, 0.8823051077475348], \"type\": \"scatter\", \"uid\": \"ee6318d8-030e-4eba-b5c9-b833f4274e40\"}, {\"mode\": \"lines\", \"name\": \"Ada Boost\", \"x\": [\"accuracy\", \"FPR\", \"FNR\", \"auc\"], \"y\": [0.9394198560330697, 0.017543859649122806, 0.3105288694808345, 0.8359636354350213], \"type\": \"scatter\", \"uid\": \"7fc6d5e0-c581-44b6-b906-e15222679db6\"}, {\"mode\": \"lines+markers\", \"name\": \"GradientBoosting\", \"x\": [\"accuracy\", \"FPR\", \"FNR\", \"auc\"], \"y\": [0.9497541158862519, 0.016290726817042606, 0.24745269286754004, 0.8681282901577086], \"type\": \"scatter\", \"uid\": \"9bd13a58-da4b-469f-9276-0210d6651d73\"}, {\"marker\": {\"symbol\": \"x\"}, \"mode\": \"lines+markers\", \"name\": \"ExtraTree Classifier\", \"x\": [\"accuracy\", \"FPR\", \"FNR\", \"auc\"], \"y\": [0.9542441736155656, 0.013450292397660818, 0.23338185346918972, 0.8765839270665748], \"type\": \"scatter\", \"uid\": \"03dc0a7f-71fa-486b-82c7-b5e92117564a\"}, {\"marker\": {\"symbol\": \"x\"}, \"mode\": \"lines+markers\", \"name\": \"Bagging\", \"x\": [\"accuracy\", \"FPR\", \"FNR\", \"auc\"], \"y\": [0.95445798588839, 0.014703425229741019, 0.22464822901504125, 0.8803241728776089], \"type\": \"scatter\", \"uid\": \"658ee3aa-c262-4bb6-96d9-2a8c386a0df7\"}, {\"marker\": {\"symbol\": \"x\"}, \"mode\": \"lines+markers\", \"name\": \"Neural Network\", \"x\": [\"accuracy\", \"FPR\", \"FNR\", \"auc\"], \"y\": [0.9606585418002993, 0.010776942355889725, 0.2052401746724891, 0.8919914414858104], \"type\": \"scatter\", \"uid\": \"f2aac733-76a1-4074-a426-446e3b024019\"}], {\"title\": \"Result comparision for Features selected in Section 1\", \"yaxis\": {\"dtick\": 0.05, \"tick0\": 0}}, {\"showLink\": true, \"linkText\": \"Export to plot.ly\", \"plotlyServerURL\": \"https://plot.ly\"})});</script><script type=\"text/javascript\">window.addEventListener(\"resize\", function(){window._Plotly.Plots.resize(document.getElementById(\"109d9e0f-1d26-4d64-a6dd-4196cc5b5117\"));});</script>"
      ],
      "text/vnd.plotly.v1+html": [
       "<div id=\"109d9e0f-1d26-4d64-a6dd-4196cc5b5117\" style=\"height: 525px; width: 100%;\" class=\"plotly-graph-div\"></div><script type=\"text/javascript\">require([\"plotly\"], function(Plotly) { window.PLOTLYENV=window.PLOTLYENV || {};window.PLOTLYENV.BASE_URL=\"https://plot.ly\";Plotly.newPlot(\"109d9e0f-1d26-4d64-a6dd-4196cc5b5117\", [{\"mode\": \"lines\", \"name\": \"KNN_model\", \"x\": [\"accuracy\", \"FPR\", \"FNR\", \"auc\"], \"y\": [0.9532463830090514, 0.0164578111946533, 0.22270742358078602, 0.8804173826122803], \"type\": \"scatter\", \"uid\": \"7c1b0ee9-147d-4005-a4b9-9df659b0e01a\"}, {\"mode\": \"lines+markers\", \"name\": \"Logistic Regression\", \"x\": [\"accuracy\", \"FPR\", \"FNR\", \"auc\"], \"y\": [0.9421281448221794, 0.015873015873015872, 0.3017952450266861, 0.841165869550149], \"type\": \"scatter\", \"uid\": \"603f9762-7bd3-4d7f-a855-af596f31c94f\"}, {\"marker\": {\"symbol\": \"x\"}, \"mode\": \"lines+markers\", \"name\": \"Random Forest\", \"x\": [\"accuracy\", \"FPR\", \"FNR\", \"auc\"], \"y\": [0.956809920889459, 0.012197159565580618, 0.22319262493934983, 0.8823051077475348], \"type\": \"scatter\", \"uid\": \"ee6318d8-030e-4eba-b5c9-b833f4274e40\"}, {\"mode\": \"lines\", \"name\": \"Ada Boost\", \"x\": [\"accuracy\", \"FPR\", \"FNR\", \"auc\"], \"y\": [0.9394198560330697, 0.017543859649122806, 0.3105288694808345, 0.8359636354350213], \"type\": \"scatter\", \"uid\": \"7fc6d5e0-c581-44b6-b906-e15222679db6\"}, {\"mode\": \"lines+markers\", \"name\": \"GradientBoosting\", \"x\": [\"accuracy\", \"FPR\", \"FNR\", \"auc\"], \"y\": [0.9497541158862519, 0.016290726817042606, 0.24745269286754004, 0.8681282901577086], \"type\": \"scatter\", \"uid\": \"9bd13a58-da4b-469f-9276-0210d6651d73\"}, {\"marker\": {\"symbol\": \"x\"}, \"mode\": \"lines+markers\", \"name\": \"ExtraTree Classifier\", \"x\": [\"accuracy\", \"FPR\", \"FNR\", \"auc\"], \"y\": [0.9542441736155656, 0.013450292397660818, 0.23338185346918972, 0.8765839270665748], \"type\": \"scatter\", \"uid\": \"03dc0a7f-71fa-486b-82c7-b5e92117564a\"}, {\"marker\": {\"symbol\": \"x\"}, \"mode\": \"lines+markers\", \"name\": \"Bagging\", \"x\": [\"accuracy\", \"FPR\", \"FNR\", \"auc\"], \"y\": [0.95445798588839, 0.014703425229741019, 0.22464822901504125, 0.8803241728776089], \"type\": \"scatter\", \"uid\": \"658ee3aa-c262-4bb6-96d9-2a8c386a0df7\"}, {\"marker\": {\"symbol\": \"x\"}, \"mode\": \"lines+markers\", \"name\": \"Neural Network\", \"x\": [\"accuracy\", \"FPR\", \"FNR\", \"auc\"], \"y\": [0.9606585418002993, 0.010776942355889725, 0.2052401746724891, 0.8919914414858104], \"type\": \"scatter\", \"uid\": \"f2aac733-76a1-4074-a426-446e3b024019\"}], {\"title\": \"Result comparision for Features selected in Section 1\", \"yaxis\": {\"dtick\": 0.05, \"tick0\": 0}}, {\"showLink\": true, \"linkText\": \"Export to plot.ly\", \"plotlyServerURL\": \"https://plot.ly\"})});</script><script type=\"text/javascript\">window.addEventListener(\"resize\", function(){window._Plotly.Plots.resize(document.getElementById(\"109d9e0f-1d26-4d64-a6dd-4196cc5b5117\"));});</script>"
      ]
     },
     "metadata": {},
     "output_type": "display_data"
    }
   ],
   "source": [
    "trace0 = go.Scatter(x=table_80_60_test.iloc[0].index.values[[0,5,6,7]],\n",
    "                    y=table_80_60_test.iloc[0].values[[0,5,6,7]],\n",
    "                    mode = 'lines',\n",
    "                    name = 'KNN_model')\n",
    "\n",
    "trace1 = go.Scatter(x=table_80_60_test.iloc[1].index.values[[0,5,6,7]],\n",
    "                    y=table_80_60_test.iloc[1].values[[0,5,6,7]],\n",
    "                    mode = 'lines+markers',\n",
    "                    name = 'Logistic Regression')\n",
    "\n",
    "trace2 = go.Scatter(x=table_80_60_test.iloc[2].index.values[[0,5,6,7]],\n",
    "                    y=table_80_60_test.iloc[2].values[[0,5,6,7]],\n",
    "                    mode = 'lines+markers',marker=dict(symbol='x'),\n",
    "                    name = 'Random Forest')\n",
    "\n",
    "\n",
    "trace3 = go.Scatter(x=table_80_60_test.iloc[3].index.values[[0,5,6,7]],\n",
    "                    y=table_80_60_test.iloc[3].values[[0,5,6,7]],\n",
    "                    mode = 'lines',\n",
    "                    name = 'Ada Boost')\n",
    "\n",
    "trace4 = go.Scatter(x=table_80_60_test.iloc[4].index.values[[0,5,6,7]],\n",
    "                    y=table_80_60_test.iloc[4].values[[0,5,6,7]],\n",
    "                    mode = 'lines+markers',\n",
    "                    name = 'GradientBoosting')\n",
    "\n",
    "trace5 = go.Scatter(x=table_80_60_test.iloc[5].index.values[[0,5,6,7]],\n",
    "                    y=table_80_60_test.iloc[5].values[[0,5,6,7]],\n",
    "                    mode = 'lines+markers',marker=dict(symbol='x'),\n",
    "                    name = 'ExtraTree Classifier')\n",
    "\n",
    "trace6 = go.Scatter(x=table_80_60_test.iloc[6].index.values[[0,5,6,7]],\n",
    "                    y=table_80_60_test.iloc[6].values[[0,5,6,7]],\n",
    "                    mode = 'lines+markers',marker=dict(symbol='x'),\n",
    "                    name = 'Bagging')\n",
    "\n",
    "trace7 = go.Scatter(x=table_80_60_test.iloc[7].index.values[[0,5,6,7]],\n",
    "                    y=table_80_60_test.iloc[7].values[[0,5,6,7]],\n",
    "                    mode = 'lines+markers',marker=dict(symbol='x'),\n",
    "                    name = 'Neural Network')\n",
    "\n",
    "\n",
    "\n",
    "data = [trace0, trace1, trace2, trace3, trace4, trace5, trace6, trace7]\n",
    "layout = go.Layout(yaxis=dict(tick0=0,dtick=0.05),title='Result comparision for Features selected in Section 1')\n",
    "fig = go.Figure(data=data, layout=layout)\n",
    "\n",
    "iplot(fig, filename='Result')"
   ]
  },
  {
   "cell_type": "code",
   "execution_count": 63,
   "metadata": {},
   "outputs": [
    {
     "name": "stdout",
     "output_type": "stream",
     "text": [
      "Training Results\n"
     ]
    },
    {
     "data": {
      "text/html": [
       "<div>\n",
       "<style scoped>\n",
       "    .dataframe tbody tr th:only-of-type {\n",
       "        vertical-align: middle;\n",
       "    }\n",
       "\n",
       "    .dataframe tbody tr th {\n",
       "        vertical-align: top;\n",
       "    }\n",
       "\n",
       "    .dataframe thead th {\n",
       "        text-align: right;\n",
       "    }\n",
       "</style>\n",
       "<table border=\"1\" class=\"dataframe\">\n",
       "  <thead>\n",
       "    <tr style=\"text-align: right;\">\n",
       "      <th></th>\n",
       "      <th>accuracy</th>\n",
       "      <th>TP</th>\n",
       "      <th>TN</th>\n",
       "      <th>FP</th>\n",
       "      <th>FN</th>\n",
       "      <th>FPR</th>\n",
       "      <th>FNR</th>\n",
       "    </tr>\n",
       "    <tr>\n",
       "      <th>index</th>\n",
       "      <th></th>\n",
       "      <th></th>\n",
       "      <th></th>\n",
       "      <th></th>\n",
       "      <th></th>\n",
       "      <th></th>\n",
       "      <th></th>\n",
       "    </tr>\n",
       "  </thead>\n",
       "  <tbody>\n",
       "    <tr>\n",
       "      <th>KNeighborsClassifier</th>\n",
       "      <td>0.961026</td>\n",
       "      <td>3858.0</td>\n",
       "      <td>27606.0</td>\n",
       "      <td>301.0</td>\n",
       "      <td>975.0</td>\n",
       "      <td>0.010786</td>\n",
       "      <td>0.201738</td>\n",
       "    </tr>\n",
       "    <tr>\n",
       "      <th>LogisticRegression</th>\n",
       "      <td>0.943067</td>\n",
       "      <td>3382.0</td>\n",
       "      <td>27494.0</td>\n",
       "      <td>413.0</td>\n",
       "      <td>1451.0</td>\n",
       "      <td>0.014799</td>\n",
       "      <td>0.300228</td>\n",
       "    </tr>\n",
       "    <tr>\n",
       "      <th>RandomForestClassifier</th>\n",
       "      <td>0.993494</td>\n",
       "      <td>4627.0</td>\n",
       "      <td>27900.0</td>\n",
       "      <td>7.0</td>\n",
       "      <td>206.0</td>\n",
       "      <td>0.000251</td>\n",
       "      <td>0.042624</td>\n",
       "    </tr>\n",
       "    <tr>\n",
       "      <th>AdaBoostClassifier</th>\n",
       "      <td>0.942395</td>\n",
       "      <td>3383.0</td>\n",
       "      <td>27471.0</td>\n",
       "      <td>436.0</td>\n",
       "      <td>1450.0</td>\n",
       "      <td>0.015623</td>\n",
       "      <td>0.300021</td>\n",
       "    </tr>\n",
       "    <tr>\n",
       "      <th>GradientBoostingClassifier</th>\n",
       "      <td>0.951436</td>\n",
       "      <td>3654.0</td>\n",
       "      <td>27496.0</td>\n",
       "      <td>411.0</td>\n",
       "      <td>1179.0</td>\n",
       "      <td>0.014727</td>\n",
       "      <td>0.243948</td>\n",
       "    </tr>\n",
       "    <tr>\n",
       "      <th>ExtraTreeClassifier</th>\n",
       "      <td>0.999847</td>\n",
       "      <td>4828.0</td>\n",
       "      <td>27907.0</td>\n",
       "      <td>0.0</td>\n",
       "      <td>5.0</td>\n",
       "      <td>0.000000</td>\n",
       "      <td>0.001035</td>\n",
       "    </tr>\n",
       "    <tr>\n",
       "      <th>BaggingClassifier</th>\n",
       "      <td>0.993433</td>\n",
       "      <td>4626.0</td>\n",
       "      <td>27899.0</td>\n",
       "      <td>8.0</td>\n",
       "      <td>207.0</td>\n",
       "      <td>0.000287</td>\n",
       "      <td>0.042831</td>\n",
       "    </tr>\n",
       "    <tr>\n",
       "      <th>Neural Network-1</th>\n",
       "      <td>0.964936</td>\n",
       "      <td>3913.0</td>\n",
       "      <td>27679.0</td>\n",
       "      <td>228.0</td>\n",
       "      <td>920.0</td>\n",
       "      <td>0.008170</td>\n",
       "      <td>0.190358</td>\n",
       "    </tr>\n",
       "  </tbody>\n",
       "</table>\n",
       "</div>"
      ],
      "text/plain": [
       "                            accuracy      TP       TN     FP      FN  \\\n",
       "index                                                                  \n",
       "KNeighborsClassifier        0.961026  3858.0  27606.0  301.0   975.0   \n",
       "LogisticRegression          0.943067  3382.0  27494.0  413.0  1451.0   \n",
       "RandomForestClassifier      0.993494  4627.0  27900.0    7.0   206.0   \n",
       "AdaBoostClassifier          0.942395  3383.0  27471.0  436.0  1450.0   \n",
       "GradientBoostingClassifier  0.951436  3654.0  27496.0  411.0  1179.0   \n",
       "ExtraTreeClassifier         0.999847  4828.0  27907.0    0.0     5.0   \n",
       "BaggingClassifier           0.993433  4626.0  27899.0    8.0   207.0   \n",
       "Neural Network-1            0.964936  3913.0  27679.0  228.0   920.0   \n",
       "\n",
       "                                 FPR       FNR  \n",
       "index                                           \n",
       "KNeighborsClassifier        0.010786  0.201738  \n",
       "LogisticRegression          0.014799  0.300228  \n",
       "RandomForestClassifier      0.000251  0.042624  \n",
       "AdaBoostClassifier          0.015623  0.300021  \n",
       "GradientBoostingClassifier  0.014727  0.243948  \n",
       "ExtraTreeClassifier         0.000000  0.001035  \n",
       "BaggingClassifier           0.000287  0.042831  \n",
       "Neural Network-1            0.008170  0.190358  "
      ]
     },
     "metadata": {},
     "output_type": "display_data"
    },
    {
     "name": "stdout",
     "output_type": "stream",
     "text": [
      "Test Results\n"
     ]
    },
    {
     "data": {
      "text/html": [
       "<div>\n",
       "<style scoped>\n",
       "    .dataframe tbody tr th:only-of-type {\n",
       "        vertical-align: middle;\n",
       "    }\n",
       "\n",
       "    .dataframe tbody tr th {\n",
       "        vertical-align: top;\n",
       "    }\n",
       "\n",
       "    .dataframe thead th {\n",
       "        text-align: right;\n",
       "    }\n",
       "</style>\n",
       "<table border=\"1\" class=\"dataframe\">\n",
       "  <thead>\n",
       "    <tr style=\"text-align: right;\">\n",
       "      <th></th>\n",
       "      <th>accuracy</th>\n",
       "      <th>TP</th>\n",
       "      <th>TN</th>\n",
       "      <th>FP</th>\n",
       "      <th>FN</th>\n",
       "      <th>FPR</th>\n",
       "      <th>FNR</th>\n",
       "      <th>auc</th>\n",
       "      <th>mcc</th>\n",
       "    </tr>\n",
       "    <tr>\n",
       "      <th>index</th>\n",
       "      <th></th>\n",
       "      <th></th>\n",
       "      <th></th>\n",
       "      <th></th>\n",
       "      <th></th>\n",
       "      <th></th>\n",
       "      <th></th>\n",
       "      <th></th>\n",
       "      <th></th>\n",
       "    </tr>\n",
       "  </thead>\n",
       "  <tbody>\n",
       "    <tr>\n",
       "      <th>KNeighborsClassifier</th>\n",
       "      <td>0.953246</td>\n",
       "      <td>1602.0</td>\n",
       "      <td>11773.0</td>\n",
       "      <td>197.0</td>\n",
       "      <td>459.0</td>\n",
       "      <td>0.016458</td>\n",
       "      <td>0.222707</td>\n",
       "      <td>0.880417</td>\n",
       "      <td>0.805586</td>\n",
       "    </tr>\n",
       "    <tr>\n",
       "      <th>LogisticRegression</th>\n",
       "      <td>0.942128</td>\n",
       "      <td>1439.0</td>\n",
       "      <td>11780.0</td>\n",
       "      <td>190.0</td>\n",
       "      <td>622.0</td>\n",
       "      <td>0.015873</td>\n",
       "      <td>0.301795</td>\n",
       "      <td>0.841166</td>\n",
       "      <td>0.754007</td>\n",
       "    </tr>\n",
       "    <tr>\n",
       "      <th>RandomForestClassifier</th>\n",
       "      <td>0.956810</td>\n",
       "      <td>1601.0</td>\n",
       "      <td>11824.0</td>\n",
       "      <td>146.0</td>\n",
       "      <td>460.0</td>\n",
       "      <td>0.012197</td>\n",
       "      <td>0.223193</td>\n",
       "      <td>0.882305</td>\n",
       "      <td>0.819804</td>\n",
       "    </tr>\n",
       "    <tr>\n",
       "      <th>AdaBoostClassifier</th>\n",
       "      <td>0.939420</td>\n",
       "      <td>1421.0</td>\n",
       "      <td>11760.0</td>\n",
       "      <td>210.0</td>\n",
       "      <td>640.0</td>\n",
       "      <td>0.017544</td>\n",
       "      <td>0.310529</td>\n",
       "      <td>0.835964</td>\n",
       "      <td>0.742114</td>\n",
       "    </tr>\n",
       "    <tr>\n",
       "      <th>GradientBoostingClassifier</th>\n",
       "      <td>0.949754</td>\n",
       "      <td>1551.0</td>\n",
       "      <td>11775.0</td>\n",
       "      <td>195.0</td>\n",
       "      <td>510.0</td>\n",
       "      <td>0.016291</td>\n",
       "      <td>0.247453</td>\n",
       "      <td>0.868128</td>\n",
       "      <td>0.789597</td>\n",
       "    </tr>\n",
       "    <tr>\n",
       "      <th>ExtraTreeClassifier</th>\n",
       "      <td>0.954244</td>\n",
       "      <td>1580.0</td>\n",
       "      <td>11809.0</td>\n",
       "      <td>161.0</td>\n",
       "      <td>481.0</td>\n",
       "      <td>0.013450</td>\n",
       "      <td>0.233382</td>\n",
       "      <td>0.876584</td>\n",
       "      <td>0.808728</td>\n",
       "    </tr>\n",
       "    <tr>\n",
       "      <th>BaggingClassifier</th>\n",
       "      <td>0.954458</td>\n",
       "      <td>1598.0</td>\n",
       "      <td>11794.0</td>\n",
       "      <td>176.0</td>\n",
       "      <td>463.0</td>\n",
       "      <td>0.014703</td>\n",
       "      <td>0.224648</td>\n",
       "      <td>0.880324</td>\n",
       "      <td>0.810217</td>\n",
       "    </tr>\n",
       "    <tr>\n",
       "      <th>Neural Network-1</th>\n",
       "      <td>0.960659</td>\n",
       "      <td>1638.0</td>\n",
       "      <td>11841.0</td>\n",
       "      <td>129.0</td>\n",
       "      <td>423.0</td>\n",
       "      <td>0.010777</td>\n",
       "      <td>0.205240</td>\n",
       "      <td>0.891991</td>\n",
       "      <td>0.836485</td>\n",
       "    </tr>\n",
       "  </tbody>\n",
       "</table>\n",
       "</div>"
      ],
      "text/plain": [
       "                            accuracy      TP       TN     FP     FN       FPR  \\\n",
       "index                                                                           \n",
       "KNeighborsClassifier        0.953246  1602.0  11773.0  197.0  459.0  0.016458   \n",
       "LogisticRegression          0.942128  1439.0  11780.0  190.0  622.0  0.015873   \n",
       "RandomForestClassifier      0.956810  1601.0  11824.0  146.0  460.0  0.012197   \n",
       "AdaBoostClassifier          0.939420  1421.0  11760.0  210.0  640.0  0.017544   \n",
       "GradientBoostingClassifier  0.949754  1551.0  11775.0  195.0  510.0  0.016291   \n",
       "ExtraTreeClassifier         0.954244  1580.0  11809.0  161.0  481.0  0.013450   \n",
       "BaggingClassifier           0.954458  1598.0  11794.0  176.0  463.0  0.014703   \n",
       "Neural Network-1            0.960659  1638.0  11841.0  129.0  423.0  0.010777   \n",
       "\n",
       "                                 FNR       auc       mcc  \n",
       "index                                                     \n",
       "KNeighborsClassifier        0.222707  0.880417  0.805586  \n",
       "LogisticRegression          0.301795  0.841166  0.754007  \n",
       "RandomForestClassifier      0.223193  0.882305  0.819804  \n",
       "AdaBoostClassifier          0.310529  0.835964  0.742114  \n",
       "GradientBoostingClassifier  0.247453  0.868128  0.789597  \n",
       "ExtraTreeClassifier         0.233382  0.876584  0.808728  \n",
       "BaggingClassifier           0.224648  0.880324  0.810217  \n",
       "Neural Network-1            0.205240  0.891991  0.836485  "
      ]
     },
     "metadata": {},
     "output_type": "display_data"
    }
   ],
   "source": [
    "table_80_60_train['index']=ind_columns\n",
    "table_80_60_test['index']=ind_columns\n",
    "\n",
    "\n",
    "table_80_60_test.set_index(['index'],drop=True,inplace=True)\n",
    "table_80_60_train.set_index(['index'],drop=True,inplace=True)\n",
    "\n",
    "print(\"Training Results\")\n",
    "display(table_80_60_train)\n",
    "print(\"Test Results\")\n",
    "display(table_80_60_test)"
   ]
  },
  {
   "cell_type": "markdown",
   "metadata": {},
   "source": [
    "### <a id='4.B' style=\"text-decoration : none; color : #000000;\"> B. Average Feature Importances</a>"
   ]
  },
  {
   "cell_type": "code",
   "execution_count": 64,
   "metadata": {},
   "outputs": [
    {
     "data": {
      "application/vnd.plotly.v1+json": {
       "config": {
        "linkText": "Export to plot.ly",
        "plotlyServerURL": "https://plot.ly",
        "showLink": true
       },
       "data": [
        {
         "marker": {
          "color": "rgb(158,202,225)",
          "line": {
           "color": "rgb(8,48,107)",
           "width": 1.5
          }
         },
         "opacity": 0.6,
         "orientation": "h",
         "text": [
          0.1695,
          0.1183,
          0.0567,
          0.0483,
          0.0405,
          0.0402,
          0.0401,
          0.04,
          0.0334,
          0.0332,
          0.0261,
          0.0249,
          0.0224,
          0.022,
          0.0215,
          0.0194,
          0.0191,
          0.0183,
          0.0183,
          0.0181,
          0.017,
          0.0168,
          0.0155,
          0.0154,
          0.0147,
          0.0143,
          0.0136,
          0.0132,
          0.0127,
          0.0115,
          0.0107,
          0.0074,
          0.007
         ],
         "textposition": "outside",
         "type": "bar",
         "uid": "22ca1e10-e8e8-4946-9ce4-c5d59abe456f",
         "x": [
          0.1694960431881695,
          0.11827565306539985,
          0.056670779388725265,
          0.04830468314983386,
          0.040529888742231325,
          0.04018468074454852,
          0.04010205345602379,
          0.03998603735063093,
          0.033401106201318566,
          0.03324720968464087,
          0.026114083153336118,
          0.024946567148479593,
          0.0223705504938791,
          0.02200154007594808,
          0.021464501573358614,
          0.019386872978300555,
          0.019101988283043082,
          0.01833203044986816,
          0.01827785461179418,
          0.01809109864263729,
          0.017013230751450052,
          0.01679928452996232,
          0.01552964306223027,
          0.015350324058199402,
          0.014704428552333173,
          0.014337602177751117,
          0.013635274784617,
          0.013188397998437438,
          0.012653531316831126,
          0.011455739322468003,
          0.010718040360422735,
          0.007364216280546143,
          0.006965064422583971
         ],
         "y": [
          "url_char_. + url_length",
          "url_char_w + url_extensions",
          "url_char_. + url_char_z",
          "url_extension_.com / url_char_.",
          "url_char_w + url_length",
          "url_char_.",
          "url_char_. + url_char_w",
          "url_char_i + url_length",
          "url_char_o + url_length",
          "url_char_k + url_extensions",
          "url_char_b + url_length",
          "url_char_w * url_extensions",
          "url_char_y + url_length",
          "url_length + url_tlds",
          "url_char_s + url_length",
          "url_char_v + url_length",
          "url_char_. + url_char_j",
          "url_char_k + url_length",
          "url_char_u + url_length",
          "url_extension_.com + url_length",
          "url_char_a + url_length",
          "url_char_h + url_length",
          "url_char_w + url_char_z",
          "url_char_l + url_length",
          "url_char_r + url_length",
          "url_char_- + url_length",
          "url_char_c + url_length",
          "url_char_f + url_length",
          "url_char_j + url_length",
          "url_char_m + url_length",
          "url_char_e + url_length",
          "url_length + url_words_with_length_7",
          "url_char_g + url_length"
         ]
        }
       ],
       "layout": {
        "autosize": false,
        "height": 1000,
        "width": 1000,
        "xaxis": {
         "tickfont": {
          "color": "black",
          "size": 12
         },
         "title": "Feature Importances"
        },
        "yaxis": {
         "automargin": true
        }
       }
      },
      "text/html": [
       "<div id=\"89c91494-52cc-4330-975c-17a5bd81215c\" style=\"height: 1000px; width: 1000px;\" class=\"plotly-graph-div\"></div><script type=\"text/javascript\">require([\"plotly\"], function(Plotly) { window.PLOTLYENV=window.PLOTLYENV || {};window.PLOTLYENV.BASE_URL=\"https://plot.ly\";Plotly.newPlot(\"89c91494-52cc-4330-975c-17a5bd81215c\", [{\"marker\": {\"color\": \"rgb(158,202,225)\", \"line\": {\"color\": \"rgb(8,48,107)\", \"width\": 1.5}}, \"opacity\": 0.6, \"orientation\": \"h\", \"text\": [0.1695, 0.1183, 0.0567, 0.0483, 0.0405, 0.0402, 0.0401, 0.04, 0.0334, 0.0332, 0.0261, 0.0249, 0.0224, 0.022, 0.0215, 0.0194, 0.0191, 0.0183, 0.0183, 0.0181, 0.017, 0.0168, 0.0155, 0.0154, 0.0147, 0.0143, 0.0136, 0.0132, 0.0127, 0.0115, 0.0107, 0.0074, 0.007], \"textposition\": \"outside\", \"x\": [0.1694960431881695, 0.11827565306539985, 0.056670779388725265, 0.04830468314983386, 0.040529888742231325, 0.04018468074454852, 0.04010205345602379, 0.03998603735063093, 0.033401106201318566, 0.03324720968464087, 0.026114083153336118, 0.024946567148479593, 0.0223705504938791, 0.02200154007594808, 0.021464501573358614, 0.019386872978300555, 0.019101988283043082, 0.01833203044986816, 0.01827785461179418, 0.01809109864263729, 0.017013230751450052, 0.01679928452996232, 0.01552964306223027, 0.015350324058199402, 0.014704428552333173, 0.014337602177751117, 0.013635274784617, 0.013188397998437438, 0.012653531316831126, 0.011455739322468003, 0.010718040360422735, 0.007364216280546143, 0.006965064422583971], \"y\": [\"url_char_. + url_length\", \"url_char_w + url_extensions\", \"url_char_. + url_char_z\", \"url_extension_.com / url_char_.\", \"url_char_w + url_length\", \"url_char_.\", \"url_char_. + url_char_w\", \"url_char_i + url_length\", \"url_char_o + url_length\", \"url_char_k + url_extensions\", \"url_char_b + url_length\", \"url_char_w * url_extensions\", \"url_char_y + url_length\", \"url_length + url_tlds\", \"url_char_s + url_length\", \"url_char_v + url_length\", \"url_char_. + url_char_j\", \"url_char_k + url_length\", \"url_char_u + url_length\", \"url_extension_.com + url_length\", \"url_char_a + url_length\", \"url_char_h + url_length\", \"url_char_w + url_char_z\", \"url_char_l + url_length\", \"url_char_r + url_length\", \"url_char_- + url_length\", \"url_char_c + url_length\", \"url_char_f + url_length\", \"url_char_j + url_length\", \"url_char_m + url_length\", \"url_char_e + url_length\", \"url_length + url_words_with_length_7\", \"url_char_g + url_length\"], \"type\": \"bar\", \"uid\": \"22ca1e10-e8e8-4946-9ce4-c5d59abe456f\"}], {\"autosize\": false, \"height\": 1000, \"width\": 1000, \"xaxis\": {\"tickfont\": {\"color\": \"black\", \"size\": 12}, \"title\": \"Feature Importances\"}, \"yaxis\": {\"automargin\": true}}, {\"showLink\": true, \"linkText\": \"Export to plot.ly\", \"plotlyServerURL\": \"https://plot.ly\"})});</script>"
      ],
      "text/vnd.plotly.v1+html": [
       "<div id=\"89c91494-52cc-4330-975c-17a5bd81215c\" style=\"height: 1000px; width: 1000px;\" class=\"plotly-graph-div\"></div><script type=\"text/javascript\">require([\"plotly\"], function(Plotly) { window.PLOTLYENV=window.PLOTLYENV || {};window.PLOTLYENV.BASE_URL=\"https://plot.ly\";Plotly.newPlot(\"89c91494-52cc-4330-975c-17a5bd81215c\", [{\"marker\": {\"color\": \"rgb(158,202,225)\", \"line\": {\"color\": \"rgb(8,48,107)\", \"width\": 1.5}}, \"opacity\": 0.6, \"orientation\": \"h\", \"text\": [0.1695, 0.1183, 0.0567, 0.0483, 0.0405, 0.0402, 0.0401, 0.04, 0.0334, 0.0332, 0.0261, 0.0249, 0.0224, 0.022, 0.0215, 0.0194, 0.0191, 0.0183, 0.0183, 0.0181, 0.017, 0.0168, 0.0155, 0.0154, 0.0147, 0.0143, 0.0136, 0.0132, 0.0127, 0.0115, 0.0107, 0.0074, 0.007], \"textposition\": \"outside\", \"x\": [0.1694960431881695, 0.11827565306539985, 0.056670779388725265, 0.04830468314983386, 0.040529888742231325, 0.04018468074454852, 0.04010205345602379, 0.03998603735063093, 0.033401106201318566, 0.03324720968464087, 0.026114083153336118, 0.024946567148479593, 0.0223705504938791, 0.02200154007594808, 0.021464501573358614, 0.019386872978300555, 0.019101988283043082, 0.01833203044986816, 0.01827785461179418, 0.01809109864263729, 0.017013230751450052, 0.01679928452996232, 0.01552964306223027, 0.015350324058199402, 0.014704428552333173, 0.014337602177751117, 0.013635274784617, 0.013188397998437438, 0.012653531316831126, 0.011455739322468003, 0.010718040360422735, 0.007364216280546143, 0.006965064422583971], \"y\": [\"url_char_. + url_length\", \"url_char_w + url_extensions\", \"url_char_. + url_char_z\", \"url_extension_.com / url_char_.\", \"url_char_w + url_length\", \"url_char_.\", \"url_char_. + url_char_w\", \"url_char_i + url_length\", \"url_char_o + url_length\", \"url_char_k + url_extensions\", \"url_char_b + url_length\", \"url_char_w * url_extensions\", \"url_char_y + url_length\", \"url_length + url_tlds\", \"url_char_s + url_length\", \"url_char_v + url_length\", \"url_char_. + url_char_j\", \"url_char_k + url_length\", \"url_char_u + url_length\", \"url_extension_.com + url_length\", \"url_char_a + url_length\", \"url_char_h + url_length\", \"url_char_w + url_char_z\", \"url_char_l + url_length\", \"url_char_r + url_length\", \"url_char_- + url_length\", \"url_char_c + url_length\", \"url_char_f + url_length\", \"url_char_j + url_length\", \"url_char_m + url_length\", \"url_char_e + url_length\", \"url_length + url_words_with_length_7\", \"url_char_g + url_length\"], \"type\": \"bar\", \"uid\": \"22ca1e10-e8e8-4946-9ce4-c5d59abe456f\"}], {\"autosize\": false, \"height\": 1000, \"width\": 1000, \"xaxis\": {\"tickfont\": {\"color\": \"black\", \"size\": 12}, \"title\": \"Feature Importances\"}, \"yaxis\": {\"automargin\": true}}, {\"showLink\": true, \"linkText\": \"Export to plot.ly\", \"plotlyServerURL\": \"https://plot.ly\"})});</script>"
      ]
     },
     "metadata": {},
     "output_type": "display_data"
    }
   ],
   "source": [
    "feat_impt_plot(np.average(feat_imp,axis=0),feature_name)"
   ]
  },
  {
   "cell_type": "markdown",
   "metadata": {},
   "source": [
    "### <a id='5' style=\"text-decoration : none; color : #000000;\">5. Feature Transformation with PCA </a>"
   ]
  },
  {
   "cell_type": "code",
   "execution_count": 65,
   "metadata": {},
   "outputs": [],
   "source": [
    "X=fs.loc[:,fs.columns!='Target']\n",
    "y=fs.Target.values\n",
    "feature_name = X.columns.tolist()\n",
    "X=np.nan_to_num(X)\n",
    "scaler=StandardScaler()\n",
    "scaled_X=scaler.fit_transform(X)"
   ]
  },
  {
   "cell_type": "code",
   "execution_count": 66,
   "metadata": {},
   "outputs": [
    {
     "name": "stderr",
     "output_type": "stream",
     "text": [
      "distributed.core - INFO - Event loop was unresponsive in Nanny for 44.05s.  This is often caused by long-running GIL-holding functions or moving large chunks of data. This can cause timeouts and instability.\n",
      "distributed.core - INFO - Event loop was unresponsive in Nanny for 44.05s.  This is often caused by long-running GIL-holding functions or moving large chunks of data. This can cause timeouts and instability.\n",
      "distributed.core - INFO - Event loop was unresponsive in Nanny for 44.05s.  This is often caused by long-running GIL-holding functions or moving large chunks of data. This can cause timeouts and instability.\n",
      "distributed.core - INFO - Event loop was unresponsive in Nanny for 44.05s.  This is often caused by long-running GIL-holding functions or moving large chunks of data. This can cause timeouts and instability.\n",
      "distributed.core - INFO - Event loop was unresponsive in Nanny for 44.05s.  This is often caused by long-running GIL-holding functions or moving large chunks of data. This can cause timeouts and instability.\n",
      "distributed.core - INFO - Event loop was unresponsive in Nanny for 44.05s.  This is often caused by long-running GIL-holding functions or moving large chunks of data. This can cause timeouts and instability.\n",
      "distributed.core - INFO - Event loop was unresponsive in Nanny for 44.05s.  This is often caused by long-running GIL-holding functions or moving large chunks of data. This can cause timeouts and instability.\n",
      "distributed.core - INFO - Event loop was unresponsive in Nanny for 44.05s.  This is often caused by long-running GIL-holding functions or moving large chunks of data. This can cause timeouts and instability.\n",
      "distributed.core - INFO - Event loop was unresponsive in Nanny for 44.05s.  This is often caused by long-running GIL-holding functions or moving large chunks of data. This can cause timeouts and instability.\n",
      "distributed.core - INFO - Event loop was unresponsive in Nanny for 44.05s.  This is often caused by long-running GIL-holding functions or moving large chunks of data. This can cause timeouts and instability.\n",
      "distributed.core - INFO - Event loop was unresponsive in Nanny for 44.05s.  This is often caused by long-running GIL-holding functions or moving large chunks of data. This can cause timeouts and instability.\n"
     ]
    },
    {
     "data": {
      "image/png": "[encoded data removed]",
      "text/plain": [
       "<Figure size 720x576 with 1 Axes>"
      ]
     },
     "metadata": {},
     "output_type": "display_data"
    }
   ],
   "source": [
    "sns.set_style('whitegrid')\n",
    "pca = PCA(random_state=0)\n",
    "pca.fit(scaled_X)\n",
    "plt.figure(1, figsize=(10, 8))\n",
    "plt.plot(np.cumsum(pca.explained_variance_ratio_),'--o', linewidth=2)\n",
    "plt.axis('tight')\n",
    "plt.xlabel('Number of Components',size=14)\n",
    "plt.xticks(size=12)\n",
    "plt.xlim([0,200])\n",
    "plt.ylabel('% Explained Variance',size=14)\n",
    "plt.yticks(size=12)\n",
    "plt.title('% Variance Explained by Principal Components',size=14,y=1.05)\n",
    "plt.show()"
   ]
  },
  {
   "cell_type": "code",
   "execution_count": 69,
   "metadata": {},
   "outputs": [
    {
     "name": "stdout",
     "output_type": "stream",
     "text": [
      "Variance explained using 110 components is: 0.8066180588518638\n"
     ]
    }
   ],
   "source": [
    "pca=PCA(n_components=110,whiten=True,random_state=0)\n",
    "X_pca_21=pca.fit_transform(scaled_X)\n",
    "print(\"Variance explained using 110 components is:\",sum(pca.explained_variance_ratio_))"
   ]
  },
  {
   "cell_type": "code",
   "execution_count": 70,
   "metadata": {},
   "outputs": [],
   "source": [
    "X_train=X_pca_21[:32740]\n",
    "Y_train=fs.iloc[:32740]['Target'].values\n",
    "X_test=X_pca_21[32740:]\n",
    "Y_test=fs.iloc[32740:]['Target'].values\n",
    "\n",
    "## Table to store training and test measures so we can compare later\n",
    "table_80_70_train=pd.DataFrame(columns=['accuracy','TP','TN','FP','FN','FPR','FNR'])\n",
    "table_80_70_test=pd.DataFrame(columns=['accuracy','TP','TN','FP','FN','FPR','FNR','auc','mcc'])"
   ]
  },
  {
   "cell_type": "code",
   "execution_count": 71,
   "metadata": {
    "scrolled": false
   },
   "outputs": [
    {
     "name": "stdout",
     "output_type": "stream",
     "text": [
      "\u001b[1mK-Nearest Neighbors\u001b[0m\n",
      "Accuracy of the model for training data is: 0.9481979230299328\n",
      "Confusion Matrix for training data is:\n"
     ]
    },
    {
     "data": {
      "text/plain": [
       "Predicted  False  True  __all__\n",
       "Actual                         \n",
       "False      27876    31    27907\n",
       "True        1665  3168     4833\n",
       "__all__    29541  3199    32740"
      ]
     },
     "metadata": {},
     "output_type": "display_data"
    },
    {
     "name": "stdout",
     "output_type": "stream",
     "text": [
      "Accuracy of the model for test data is: 0.9394911267906778\n",
      "Confusion Matrix for test data is:\n"
     ]
    },
    {
     "data": {
      "text/plain": [
       "Predicted  False  True  __all__\n",
       "Actual                         \n",
       "False      11956    14    11970\n",
       "True         835  1226     2061\n",
       "__all__    12791  1240    14031"
      ]
     },
     "metadata": {},
     "output_type": "display_data"
    },
    {
     "name": "stdout",
     "output_type": "stream",
     "text": [
      "\n",
      "\n",
      "\u001b[1mLogistic Regression\u001b[0m\n",
      "Accuracy of the model for training data is: 0.9548259010384851\n",
      "Confusion Matrix for training data is:\n"
     ]
    },
    {
     "data": {
      "text/plain": [
       "Predicted  False  True  __all__\n",
       "Actual                         \n",
       "False      27539   368    27907\n",
       "True        1111  3722     4833\n",
       "__all__    28650  4090    32740"
      ]
     },
     "metadata": {},
     "output_type": "display_data"
    },
    {
     "name": "stdout",
     "output_type": "stream",
     "text": [
      "Accuracy of the model for test data is: 0.9560972133133775\n",
      "Confusion Matrix for test data is:\n"
     ]
    },
    {
     "data": {
      "text/plain": [
       "Predicted  False  True  __all__\n",
       "Actual                         \n",
       "False      11822   148    11970\n",
       "True         468  1593     2061\n",
       "__all__    12290  1741    14031"
      ]
     },
     "metadata": {},
     "output_type": "display_data"
    },
    {
     "name": "stdout",
     "output_type": "stream",
     "text": [
      "\n",
      "\n",
      "\u001b[1mRandomForest Classifier\u001b[0m\n",
      "Accuracy of the model for training data is: 0.9934636530238241\n",
      "Confusion Matrix for training data is:\n"
     ]
    },
    {
     "data": {
      "text/plain": [
       "Predicted  False  True  __all__\n",
       "Actual                         \n",
       "False      27904     3    27907\n",
       "True         211  4622     4833\n",
       "__all__    28115  4625    32740"
      ]
     },
     "metadata": {},
     "output_type": "display_data"
    },
    {
     "name": "stdout",
     "output_type": "stream",
     "text": [
      "Accuracy of the model for test data is: 0.9416292495189224\n",
      "Confusion Matrix for test data is:\n"
     ]
    },
    {
     "data": {
      "text/plain": [
       "Predicted  False  True  __all__\n",
       "Actual                         \n",
       "False      11818   152    11970\n",
       "True         667  1394     2061\n",
       "__all__    12485  1546    14031"
      ]
     },
     "metadata": {},
     "output_type": "display_data"
    },
    {
     "data": {
      "application/vnd.plotly.v1+json": {
       "config": {
        "linkText": "Export to plot.ly",
        "plotlyServerURL": "https://plot.ly",
        "showLink": true
       },
       "data": [
        {
         "marker": {
          "color": "rgb(158,202,225)",
          "line": {
           "color": "rgb(8,48,107)",
           "width": 1.5
          }
         },
         "opacity": 0.6,
         "orientation": "h",
         "text": [
          0.0658,
          0.0511,
          0.051,
          0.0491,
          0.0406,
          0.0211,
          0.0202,
          0.0174,
          0.0163,
          0.0145,
          0.0142,
          0.0141,
          0.014,
          0.0137,
          0.0128,
          0.0126,
          0.0125,
          0.012,
          0.012,
          0.0117,
          0.0107,
          0.0101,
          0.01,
          0.0098,
          0.0098,
          0.0098,
          0.0096,
          0.0095,
          0.0095,
          0.0093,
          0.0093,
          0.009,
          0.009,
          0.0085,
          0.0085,
          0.0085,
          0.0083,
          0.0082,
          0.0082,
          0.0079,
          0.0076,
          0.0072,
          0.0071,
          0.007,
          0.0068,
          0.0067,
          0.0066,
          0.0065,
          0.0065,
          0.0063,
          0.0062,
          0.0061,
          0.006,
          0.0059,
          0.0059,
          0.0058,
          0.0057,
          0.0057,
          0.0057,
          0.0057,
          0.0056,
          0.0056,
          0.0056,
          0.0056,
          0.0055,
          0.0054,
          0.0053,
          0.0053,
          0.0052,
          0.0051,
          0.005,
          0.005,
          0.005,
          0.0049,
          0.0049,
          0.0048,
          0.0048,
          0.0047,
          0.0047,
          0.0046,
          0.0046,
          0.0045,
          0.0044,
          0.0043,
          0.0043,
          0.0042,
          0.0041,
          0.0041,
          0.004,
          0.004,
          0.004,
          0.0039,
          0.0039,
          0.0039,
          0.0038,
          0.0038,
          0.0037,
          0.0036,
          0.0035,
          0.0035,
          0.0034,
          0.0033,
          0.0033,
          0.0032,
          0.0032,
          0.0031,
          0.0029,
          0.0028,
          0.0027,
          0.0025
         ],
         "textposition": "outside",
         "type": "bar",
         "uid": "84f82e05-e551-4001-a57b-474af499435e",
         "x": [
          0.06577498815635788,
          0.05108710264928599,
          0.051013119580929675,
          0.04914039969654471,
          0.040560128382107555,
          0.021105713222816763,
          0.02016519451084369,
          0.01740253533118038,
          0.01627053705832127,
          0.014534499375205836,
          0.014216644237738921,
          0.014096533106586224,
          0.014029898923469323,
          0.013713965561977895,
          0.012798828678980984,
          0.01263469057704023,
          0.012535704996163886,
          0.012006760407318417,
          0.01195547451749598,
          0.011666758813987944,
          0.010693866768987257,
          0.010058500477773902,
          0.00997882660151698,
          0.009785013415503346,
          0.009783106766028244,
          0.009755583693509798,
          0.00964829337271338,
          0.009528892341310224,
          0.009525651251896208,
          0.00930522914916267,
          0.009259097521034067,
          0.009031323553850088,
          0.009006456339616404,
          0.008527056651228975,
          0.008513164663571831,
          0.008509701277972832,
          0.008323468790472438,
          0.008236795632340376,
          0.008175148539772,
          0.007861413833765785,
          0.007559892458944971,
          0.007190018074152216,
          0.007115954848370751,
          0.006998520451285102,
          0.006769649293494322,
          0.006658989734075016,
          0.006601319605877133,
          0.0064742559170340875,
          0.0064574630047955104,
          0.0063342706348354,
          0.006198952905631193,
          0.0061205731464384645,
          0.00601548919423176,
          0.005922510193259603,
          0.005891454967790496,
          0.00578283439520524,
          0.005744516752579579,
          0.005693009949949949,
          0.005677305264760514,
          0.005650448134078974,
          0.005641843836515531,
          0.005607841379611513,
          0.005607308258477517,
          0.005571882689766819,
          0.005486210269601104,
          0.005402391698067105,
          0.0053154830615042194,
          0.0052776577018352425,
          0.00520853832002275,
          0.005123399360249688,
          0.005020139315442344,
          0.005007014907837268,
          0.004952798855297357,
          0.004933610892957869,
          0.00492215631198871,
          0.004849251441629517,
          0.004768228754370847,
          0.004674527726017088,
          0.004657314460307743,
          0.004618683937427479,
          0.004613506808227239,
          0.004504078058124516,
          0.004441600105173829,
          0.004332602562368899,
          0.004324561042618586,
          0.004159445034291663,
          0.004061070965972533,
          0.004051360735954848,
          0.00400656811073002,
          0.003975890191917087,
          0.003952263720841578,
          0.003911542983177735,
          0.0038971052967142782,
          0.00387853586009018,
          0.003778777668669213,
          0.0037756188106028857,
          0.0036783435482493645,
          0.0035566095609823787,
          0.0035091152220381207,
          0.003466123001544975,
          0.0034282946757869157,
          0.0033498951590744857,
          0.003333789739335711,
          0.003186707074102611,
          0.0031591191657988947,
          0.0030810974943701296,
          0.002852473610611414,
          0.0027690048433990097,
          0.0027143638176636404,
          0.002530754599468982
         ],
         "y": [
          "0",
          "8",
          "1",
          "3",
          "4",
          "43",
          "51",
          "68",
          "73",
          "80",
          "79",
          "82",
          "58",
          "42",
          "52",
          "67",
          "65",
          "37",
          "75",
          "47",
          "2",
          "44",
          "89",
          "5",
          "27",
          "72",
          "66",
          "56",
          "74",
          "62",
          "20",
          "61",
          "53",
          "36",
          "59",
          "33",
          "45",
          "90",
          "21",
          "7",
          "31",
          "12",
          "48",
          "15",
          "64",
          "6",
          "50",
          "35",
          "13",
          "28",
          "70",
          "19",
          "57",
          "29",
          "86",
          "18",
          "81",
          "88",
          "14",
          "16",
          "24",
          "69",
          "63",
          "60",
          "103",
          "10",
          "76",
          "83",
          "108",
          "84",
          "46",
          "87",
          "30",
          "77",
          "49",
          "71",
          "94",
          "32",
          "34",
          "101",
          "9",
          "25",
          "54",
          "17",
          "22",
          "39",
          "105",
          "41",
          "95",
          "102",
          "93",
          "107",
          "38",
          "85",
          "96",
          "40",
          "97",
          "92",
          "91",
          "26",
          "100",
          "23",
          "78",
          "55",
          "109",
          "104",
          "98",
          "99",
          "11",
          "106"
         ]
        }
       ],
       "layout": {
        "autosize": false,
        "height": 1000,
        "width": 1000,
        "xaxis": {
         "tickfont": {
          "color": "black",
          "size": 12
         },
         "title": "Feature Importances"
        },
        "yaxis": {
         "automargin": true
        }
       }
      },
      "text/html": [
       "<div id=\"e9022327-0f95-48a1-b7ee-092f313c6a1b\" style=\"height: 1000px; width: 1000px;\" class=\"plotly-graph-div\"></div><script type=\"text/javascript\">require([\"plotly\"], function(Plotly) { window.PLOTLYENV=window.PLOTLYENV || {};window.PLOTLYENV.BASE_URL=\"https://plot.ly\";Plotly.newPlot(\"e9022327-0f95-48a1-b7ee-092f313c6a1b\", [{\"marker\": {\"color\": \"rgb(158,202,225)\", \"line\": {\"color\": \"rgb(8,48,107)\", \"width\": 1.5}}, \"opacity\": 0.6, \"orientation\": \"h\", \"text\": [0.0658, 0.0511, 0.051, 0.0491, 0.0406, 0.0211, 0.0202, 0.0174, 0.0163, 0.0145, 0.0142, 0.0141, 0.014, 0.0137, 0.0128, 0.0126, 0.0125, 0.012, 0.012, 0.0117, 0.0107, 0.0101, 0.01, 0.0098, 0.0098, 0.0098, 0.0096, 0.0095, 0.0095, 0.0093, 0.0093, 0.009, 0.009, 0.0085, 0.0085, 0.0085, 0.0083, 0.0082, 0.0082, 0.0079, 0.0076, 0.0072, 0.0071, 0.007, 0.0068, 0.0067, 0.0066, 0.0065, 0.0065, 0.0063, 0.0062, 0.0061, 0.006, 0.0059, 0.0059, 0.0058, 0.0057, 0.0057, 0.0057, 0.0057, 0.0056, 0.0056, 0.0056, 0.0056, 0.0055, 0.0054, 0.0053, 0.0053, 0.0052, 0.0051, 0.005, 0.005, 0.005, 0.0049, 0.0049, 0.0048, 0.0048, 0.0047, 0.0047, 0.0046, 0.0046, 0.0045, 0.0044, 0.0043, 0.0043, 0.0042, 0.0041, 0.0041, 0.004, 0.004, 0.004, 0.0039, 0.0039, 0.0039, 0.0038, 0.0038, 0.0037, 0.0036, 0.0035, 0.0035, 0.0034, 0.0033, 0.0033, 0.0032, 0.0032, 0.0031, 0.0029, 0.0028, 0.0027, 0.0025], \"textposition\": \"outside\", \"x\": [0.06577498815635788, 0.05108710264928599, 0.051013119580929675, 0.04914039969654471, 0.040560128382107555, 0.021105713222816763, 0.02016519451084369, 0.01740253533118038, 0.01627053705832127, 0.014534499375205836, 0.014216644237738921, 0.014096533106586224, 0.014029898923469323, 0.013713965561977895, 0.012798828678980984, 0.01263469057704023, 0.012535704996163886, 0.012006760407318417, 0.01195547451749598, 0.011666758813987944, 0.010693866768987257, 0.010058500477773902, 0.00997882660151698, 0.009785013415503346, 0.009783106766028244, 0.009755583693509798, 0.00964829337271338, 0.009528892341310224, 0.009525651251896208, 0.00930522914916267, 0.009259097521034067, 0.009031323553850088, 0.009006456339616404, 0.008527056651228975, 0.008513164663571831, 0.008509701277972832, 0.008323468790472438, 0.008236795632340376, 0.008175148539772, 0.007861413833765785, 0.007559892458944971, 0.007190018074152216, 0.007115954848370751, 0.006998520451285102, 0.006769649293494322, 0.006658989734075016, 0.006601319605877133, 0.0064742559170340875, 0.0064574630047955104, 0.0063342706348354, 0.006198952905631193, 0.0061205731464384645, 0.00601548919423176, 0.005922510193259603, 0.005891454967790496, 0.00578283439520524, 0.005744516752579579, 0.005693009949949949, 0.005677305264760514, 0.005650448134078974, 0.005641843836515531, 0.005607841379611513, 0.005607308258477517, 0.005571882689766819, 0.005486210269601104, 0.005402391698067105, 0.0053154830615042194, 0.0052776577018352425, 0.00520853832002275, 0.005123399360249688, 0.005020139315442344, 0.005007014907837268, 0.004952798855297357, 0.004933610892957869, 0.00492215631198871, 0.004849251441629517, 0.004768228754370847, 0.004674527726017088, 0.004657314460307743, 0.004618683937427479, 0.004613506808227239, 0.004504078058124516, 0.004441600105173829, 0.004332602562368899, 0.004324561042618586, 0.004159445034291663, 0.004061070965972533, 0.004051360735954848, 0.00400656811073002, 0.003975890191917087, 0.003952263720841578, 0.003911542983177735, 0.0038971052967142782, 0.00387853586009018, 0.003778777668669213, 0.0037756188106028857, 0.0036783435482493645, 0.0035566095609823787, 0.0035091152220381207, 0.003466123001544975, 0.0034282946757869157, 0.0033498951590744857, 0.003333789739335711, 0.003186707074102611, 0.0031591191657988947, 0.0030810974943701296, 0.002852473610611414, 0.0027690048433990097, 0.0027143638176636404, 0.002530754599468982], \"y\": [\"0\", \"8\", \"1\", \"3\", \"4\", \"43\", \"51\", \"68\", \"73\", \"80\", \"79\", \"82\", \"58\", \"42\", \"52\", \"67\", \"65\", \"37\", \"75\", \"47\", \"2\", \"44\", \"89\", \"5\", \"27\", \"72\", \"66\", \"56\", \"74\", \"62\", \"20\", \"61\", \"53\", \"36\", \"59\", \"33\", \"45\", \"90\", \"21\", \"7\", \"31\", \"12\", \"48\", \"15\", \"64\", \"6\", \"50\", \"35\", \"13\", \"28\", \"70\", \"19\", \"57\", \"29\", \"86\", \"18\", \"81\", \"88\", \"14\", \"16\", \"24\", \"69\", \"63\", \"60\", \"103\", \"10\", \"76\", \"83\", \"108\", \"84\", \"46\", \"87\", \"30\", \"77\", \"49\", \"71\", \"94\", \"32\", \"34\", \"101\", \"9\", \"25\", \"54\", \"17\", \"22\", \"39\", \"105\", \"41\", \"95\", \"102\", \"93\", \"107\", \"38\", \"85\", \"96\", \"40\", \"97\", \"92\", \"91\", \"26\", \"100\", \"23\", \"78\", \"55\", \"109\", \"104\", \"98\", \"99\", \"11\", \"106\"], \"type\": \"bar\", \"uid\": \"84f82e05-e551-4001-a57b-474af499435e\"}], {\"autosize\": false, \"height\": 1000, \"width\": 1000, \"xaxis\": {\"tickfont\": {\"color\": \"black\", \"size\": 12}, \"title\": \"Feature Importances\"}, \"yaxis\": {\"automargin\": true}}, {\"showLink\": true, \"linkText\": \"Export to plot.ly\", \"plotlyServerURL\": \"https://plot.ly\"})});</script>"
      ],
      "text/vnd.plotly.v1+html": [
       "<div id=\"e9022327-0f95-48a1-b7ee-092f313c6a1b\" style=\"height: 1000px; width: 1000px;\" class=\"plotly-graph-div\"></div><script type=\"text/javascript\">require([\"plotly\"], function(Plotly) { window.PLOTLYENV=window.PLOTLYENV || {};window.PLOTLYENV.BASE_URL=\"https://plot.ly\";Plotly.newPlot(\"e9022327-0f95-48a1-b7ee-092f313c6a1b\", [{\"marker\": {\"color\": \"rgb(158,202,225)\", \"line\": {\"color\": \"rgb(8,48,107)\", \"width\": 1.5}}, \"opacity\": 0.6, \"orientation\": \"h\", \"text\": [0.0658, 0.0511, 0.051, 0.0491, 0.0406, 0.0211, 0.0202, 0.0174, 0.0163, 0.0145, 0.0142, 0.0141, 0.014, 0.0137, 0.0128, 0.0126, 0.0125, 0.012, 0.012, 0.0117, 0.0107, 0.0101, 0.01, 0.0098, 0.0098, 0.0098, 0.0096, 0.0095, 0.0095, 0.0093, 0.0093, 0.009, 0.009, 0.0085, 0.0085, 0.0085, 0.0083, 0.0082, 0.0082, 0.0079, 0.0076, 0.0072, 0.0071, 0.007, 0.0068, 0.0067, 0.0066, 0.0065, 0.0065, 0.0063, 0.0062, 0.0061, 0.006, 0.0059, 0.0059, 0.0058, 0.0057, 0.0057, 0.0057, 0.0057, 0.0056, 0.0056, 0.0056, 0.0056, 0.0055, 0.0054, 0.0053, 0.0053, 0.0052, 0.0051, 0.005, 0.005, 0.005, 0.0049, 0.0049, 0.0048, 0.0048, 0.0047, 0.0047, 0.0046, 0.0046, 0.0045, 0.0044, 0.0043, 0.0043, 0.0042, 0.0041, 0.0041, 0.004, 0.004, 0.004, 0.0039, 0.0039, 0.0039, 0.0038, 0.0038, 0.0037, 0.0036, 0.0035, 0.0035, 0.0034, 0.0033, 0.0033, 0.0032, 0.0032, 0.0031, 0.0029, 0.0028, 0.0027, 0.0025], \"textposition\": \"outside\", \"x\": [0.06577498815635788, 0.05108710264928599, 0.051013119580929675, 0.04914039969654471, 0.040560128382107555, 0.021105713222816763, 0.02016519451084369, 0.01740253533118038, 0.01627053705832127, 0.014534499375205836, 0.014216644237738921, 0.014096533106586224, 0.014029898923469323, 0.013713965561977895, 0.012798828678980984, 0.01263469057704023, 0.012535704996163886, 0.012006760407318417, 0.01195547451749598, 0.011666758813987944, 0.010693866768987257, 0.010058500477773902, 0.00997882660151698, 0.009785013415503346, 0.009783106766028244, 0.009755583693509798, 0.00964829337271338, 0.009528892341310224, 0.009525651251896208, 0.00930522914916267, 0.009259097521034067, 0.009031323553850088, 0.009006456339616404, 0.008527056651228975, 0.008513164663571831, 0.008509701277972832, 0.008323468790472438, 0.008236795632340376, 0.008175148539772, 0.007861413833765785, 0.007559892458944971, 0.007190018074152216, 0.007115954848370751, 0.006998520451285102, 0.006769649293494322, 0.006658989734075016, 0.006601319605877133, 0.0064742559170340875, 0.0064574630047955104, 0.0063342706348354, 0.006198952905631193, 0.0061205731464384645, 0.00601548919423176, 0.005922510193259603, 0.005891454967790496, 0.00578283439520524, 0.005744516752579579, 0.005693009949949949, 0.005677305264760514, 0.005650448134078974, 0.005641843836515531, 0.005607841379611513, 0.005607308258477517, 0.005571882689766819, 0.005486210269601104, 0.005402391698067105, 0.0053154830615042194, 0.0052776577018352425, 0.00520853832002275, 0.005123399360249688, 0.005020139315442344, 0.005007014907837268, 0.004952798855297357, 0.004933610892957869, 0.00492215631198871, 0.004849251441629517, 0.004768228754370847, 0.004674527726017088, 0.004657314460307743, 0.004618683937427479, 0.004613506808227239, 0.004504078058124516, 0.004441600105173829, 0.004332602562368899, 0.004324561042618586, 0.004159445034291663, 0.004061070965972533, 0.004051360735954848, 0.00400656811073002, 0.003975890191917087, 0.003952263720841578, 0.003911542983177735, 0.0038971052967142782, 0.00387853586009018, 0.003778777668669213, 0.0037756188106028857, 0.0036783435482493645, 0.0035566095609823787, 0.0035091152220381207, 0.003466123001544975, 0.0034282946757869157, 0.0033498951590744857, 0.003333789739335711, 0.003186707074102611, 0.0031591191657988947, 0.0030810974943701296, 0.002852473610611414, 0.0027690048433990097, 0.0027143638176636404, 0.002530754599468982], \"y\": [\"0\", \"8\", \"1\", \"3\", \"4\", \"43\", \"51\", \"68\", \"73\", \"80\", \"79\", \"82\", \"58\", \"42\", \"52\", \"67\", \"65\", \"37\", \"75\", \"47\", \"2\", \"44\", \"89\", \"5\", \"27\", \"72\", \"66\", \"56\", \"74\", \"62\", \"20\", \"61\", \"53\", \"36\", \"59\", \"33\", \"45\", \"90\", \"21\", \"7\", \"31\", \"12\", \"48\", \"15\", \"64\", \"6\", \"50\", \"35\", \"13\", \"28\", \"70\", \"19\", \"57\", \"29\", \"86\", \"18\", \"81\", \"88\", \"14\", \"16\", \"24\", \"69\", \"63\", \"60\", \"103\", \"10\", \"76\", \"83\", \"108\", \"84\", \"46\", \"87\", \"30\", \"77\", \"49\", \"71\", \"94\", \"32\", \"34\", \"101\", \"9\", \"25\", \"54\", \"17\", \"22\", \"39\", \"105\", \"41\", \"95\", \"102\", \"93\", \"107\", \"38\", \"85\", \"96\", \"40\", \"97\", \"92\", \"91\", \"26\", \"100\", \"23\", \"78\", \"55\", \"109\", \"104\", \"98\", \"99\", \"11\", \"106\"], \"type\": \"bar\", \"uid\": \"84f82e05-e551-4001-a57b-474af499435e\"}], {\"autosize\": false, \"height\": 1000, \"width\": 1000, \"xaxis\": {\"tickfont\": {\"color\": \"black\", \"size\": 12}, \"title\": \"Feature Importances\"}, \"yaxis\": {\"automargin\": true}}, {\"showLink\": true, \"linkText\": \"Export to plot.ly\", \"plotlyServerURL\": \"https://plot.ly\"})});</script>"
      ]
     },
     "metadata": {},
     "output_type": "display_data"
    },
    {
     "name": "stdout",
     "output_type": "stream",
     "text": [
      "\n",
      "\n",
      "\u001b[1mAdaoost Classifier\u001b[0m\n",
      "Accuracy of the model for training data is: 0.9437996334758705\n",
      "Confusion Matrix for training data is:\n"
     ]
    },
    {
     "data": {
      "text/plain": [
       "Predicted  False  True  __all__\n",
       "Actual                         \n",
       "False      27398   509    27907\n",
       "True        1331  3502     4833\n",
       "__all__    28729  4011    32740"
      ]
     },
     "metadata": {},
     "output_type": "display_data"
    },
    {
     "name": "stdout",
     "output_type": "stream",
     "text": [
      "Accuracy of the model for test data is: 0.9452640581569383\n",
      "Confusion Matrix for test data is:\n"
     ]
    },
    {
     "data": {
      "text/plain": [
       "Predicted  False  True  __all__\n",
       "Actual                         \n",
       "False      11759   211    11970\n",
       "True         557  1504     2061\n",
       "__all__    12316  1715    14031"
      ]
     },
     "metadata": {},
     "output_type": "display_data"
    },
    {
     "data": {
      "application/vnd.plotly.v1+json": {
       "config": {
        "linkText": "Export to plot.ly",
        "plotlyServerURL": "https://plot.ly",
        "showLink": true
       },
       "data": [
        {
         "marker": {
          "color": "rgb(158,202,225)",
          "line": {
           "color": "rgb(8,48,107)",
           "width": 1.5
          }
         },
         "opacity": 0.6,
         "orientation": "h",
         "text": [
          0.14,
          0.1,
          0.1,
          0.08,
          0.08,
          0.04,
          0.04,
          0.04,
          0.04,
          0.02,
          0.02,
          0.02,
          0.02,
          0.02,
          0.02,
          0.02,
          0.02,
          0.02,
          0.02,
          0.02,
          0.02,
          0.02,
          0.02,
          0.02,
          0.02,
          0.02,
          0,
          0,
          0,
          0,
          0,
          0,
          0,
          0,
          0,
          0,
          0,
          0,
          0,
          0,
          0,
          0,
          0,
          0,
          0,
          0,
          0,
          0,
          0,
          0,
          0,
          0,
          0,
          0,
          0,
          0,
          0,
          0,
          0,
          0,
          0,
          0,
          0,
          0,
          0,
          0,
          0,
          0,
          0,
          0,
          0,
          0,
          0,
          0,
          0,
          0,
          0,
          0,
          0,
          0,
          0,
          0,
          0,
          0,
          0,
          0,
          0,
          0,
          0,
          0,
          0,
          0,
          0,
          0,
          0,
          0,
          0,
          0,
          0,
          0,
          0,
          0,
          0,
          0,
          0,
          0,
          0,
          0,
          0,
          0
         ],
         "textposition": "outside",
         "type": "bar",
         "uid": "6673f41c-ec18-495f-91f6-8d73aff5b6b1",
         "x": [
          0.14,
          0.1,
          0.1,
          0.08,
          0.08,
          0.04,
          0.04,
          0.04,
          0.04,
          0.02,
          0.02,
          0.02,
          0.02,
          0.02,
          0.02,
          0.02,
          0.02,
          0.02,
          0.02,
          0.02,
          0.02,
          0.02,
          0.02,
          0.02,
          0.02,
          0.02,
          0,
          0,
          0,
          0,
          0,
          0,
          0,
          0,
          0,
          0,
          0,
          0,
          0,
          0,
          0,
          0,
          0,
          0,
          0,
          0,
          0,
          0,
          0,
          0,
          0,
          0,
          0,
          0,
          0,
          0,
          0,
          0,
          0,
          0,
          0,
          0,
          0,
          0,
          0,
          0,
          0,
          0,
          0,
          0,
          0,
          0,
          0,
          0,
          0,
          0,
          0,
          0,
          0,
          0,
          0,
          0,
          0,
          0,
          0,
          0,
          0,
          0,
          0,
          0,
          0,
          0,
          0,
          0,
          0,
          0,
          0,
          0,
          0,
          0,
          0,
          0,
          0,
          0,
          0,
          0,
          0,
          0,
          0,
          0
         ],
         "y": [
          "0",
          "8",
          "3",
          "4",
          "1",
          "36",
          "31",
          "27",
          "21",
          "86",
          "75",
          "48",
          "28",
          "6",
          "33",
          "23",
          "5",
          "53",
          "20",
          "37",
          "89",
          "73",
          "14",
          "88",
          "12",
          "30",
          "67",
          "82",
          "81",
          "80",
          "83",
          "69",
          "79",
          "70",
          "77",
          "76",
          "84",
          "68",
          "74",
          "72",
          "71",
          "78",
          "92",
          "85",
          "87",
          "108",
          "107",
          "106",
          "105",
          "104",
          "103",
          "102",
          "101",
          "100",
          "99",
          "98",
          "97",
          "96",
          "95",
          "94",
          "93",
          "65",
          "91",
          "90",
          "66",
          "55",
          "64",
          "63",
          "35",
          "34",
          "32",
          "29",
          "26",
          "25",
          "24",
          "22",
          "19",
          "18",
          "17",
          "16",
          "15",
          "13",
          "11",
          "10",
          "9",
          "7",
          "2",
          "38",
          "39",
          "40",
          "52",
          "62",
          "61",
          "60",
          "59",
          "58",
          "57",
          "56",
          "54",
          "51",
          "41",
          "50",
          "49",
          "47",
          "46",
          "45",
          "44",
          "43",
          "42",
          "109"
         ]
        }
       ],
       "layout": {
        "autosize": false,
        "height": 1000,
        "width": 1000,
        "xaxis": {
         "tickfont": {
          "color": "black",
          "size": 12
         },
         "title": "Feature Importances"
        },
        "yaxis": {
         "automargin": true
        }
       }
      },
      "text/html": [
       "<div id=\"b48c7d19-51be-4675-89ec-fd1869b17988\" style=\"height: 1000px; width: 1000px;\" class=\"plotly-graph-div\"></div><script type=\"text/javascript\">require([\"plotly\"], function(Plotly) { window.PLOTLYENV=window.PLOTLYENV || {};window.PLOTLYENV.BASE_URL=\"https://plot.ly\";Plotly.newPlot(\"b48c7d19-51be-4675-89ec-fd1869b17988\", [{\"marker\": {\"color\": \"rgb(158,202,225)\", \"line\": {\"color\": \"rgb(8,48,107)\", \"width\": 1.5}}, \"opacity\": 0.6, \"orientation\": \"h\", \"text\": [0.14, 0.1, 0.1, 0.08, 0.08, 0.04, 0.04, 0.04, 0.04, 0.02, 0.02, 0.02, 0.02, 0.02, 0.02, 0.02, 0.02, 0.02, 0.02, 0.02, 0.02, 0.02, 0.02, 0.02, 0.02, 0.02, 0.0, 0.0, 0.0, 0.0, 0.0, 0.0, 0.0, 0.0, 0.0, 0.0, 0.0, 0.0, 0.0, 0.0, 0.0, 0.0, 0.0, 0.0, 0.0, 0.0, 0.0, 0.0, 0.0, 0.0, 0.0, 0.0, 0.0, 0.0, 0.0, 0.0, 0.0, 0.0, 0.0, 0.0, 0.0, 0.0, 0.0, 0.0, 0.0, 0.0, 0.0, 0.0, 0.0, 0.0, 0.0, 0.0, 0.0, 0.0, 0.0, 0.0, 0.0, 0.0, 0.0, 0.0, 0.0, 0.0, 0.0, 0.0, 0.0, 0.0, 0.0, 0.0, 0.0, 0.0, 0.0, 0.0, 0.0, 0.0, 0.0, 0.0, 0.0, 0.0, 0.0, 0.0, 0.0, 0.0, 0.0, 0.0, 0.0, 0.0, 0.0, 0.0, 0.0, 0.0], \"textposition\": \"outside\", \"x\": [0.14, 0.1, 0.1, 0.08, 0.08, 0.04, 0.04, 0.04, 0.04, 0.02, 0.02, 0.02, 0.02, 0.02, 0.02, 0.02, 0.02, 0.02, 0.02, 0.02, 0.02, 0.02, 0.02, 0.02, 0.02, 0.02, 0.0, 0.0, 0.0, 0.0, 0.0, 0.0, 0.0, 0.0, 0.0, 0.0, 0.0, 0.0, 0.0, 0.0, 0.0, 0.0, 0.0, 0.0, 0.0, 0.0, 0.0, 0.0, 0.0, 0.0, 0.0, 0.0, 0.0, 0.0, 0.0, 0.0, 0.0, 0.0, 0.0, 0.0, 0.0, 0.0, 0.0, 0.0, 0.0, 0.0, 0.0, 0.0, 0.0, 0.0, 0.0, 0.0, 0.0, 0.0, 0.0, 0.0, 0.0, 0.0, 0.0, 0.0, 0.0, 0.0, 0.0, 0.0, 0.0, 0.0, 0.0, 0.0, 0.0, 0.0, 0.0, 0.0, 0.0, 0.0, 0.0, 0.0, 0.0, 0.0, 0.0, 0.0, 0.0, 0.0, 0.0, 0.0, 0.0, 0.0, 0.0, 0.0, 0.0, 0.0], \"y\": [\"0\", \"8\", \"3\", \"4\", \"1\", \"36\", \"31\", \"27\", \"21\", \"86\", \"75\", \"48\", \"28\", \"6\", \"33\", \"23\", \"5\", \"53\", \"20\", \"37\", \"89\", \"73\", \"14\", \"88\", \"12\", \"30\", \"67\", \"82\", \"81\", \"80\", \"83\", \"69\", \"79\", \"70\", \"77\", \"76\", \"84\", \"68\", \"74\", \"72\", \"71\", \"78\", \"92\", \"85\", \"87\", \"108\", \"107\", \"106\", \"105\", \"104\", \"103\", \"102\", \"101\", \"100\", \"99\", \"98\", \"97\", \"96\", \"95\", \"94\", \"93\", \"65\", \"91\", \"90\", \"66\", \"55\", \"64\", \"63\", \"35\", \"34\", \"32\", \"29\", \"26\", \"25\", \"24\", \"22\", \"19\", \"18\", \"17\", \"16\", \"15\", \"13\", \"11\", \"10\", \"9\", \"7\", \"2\", \"38\", \"39\", \"40\", \"52\", \"62\", \"61\", \"60\", \"59\", \"58\", \"57\", \"56\", \"54\", \"51\", \"41\", \"50\", \"49\", \"47\", \"46\", \"45\", \"44\", \"43\", \"42\", \"109\"], \"type\": \"bar\", \"uid\": \"6673f41c-ec18-495f-91f6-8d73aff5b6b1\"}], {\"autosize\": false, \"height\": 1000, \"width\": 1000, \"xaxis\": {\"tickfont\": {\"color\": \"black\", \"size\": 12}, \"title\": \"Feature Importances\"}, \"yaxis\": {\"automargin\": true}}, {\"showLink\": true, \"linkText\": \"Export to plot.ly\", \"plotlyServerURL\": \"https://plot.ly\"})});</script>"
      ],
      "text/vnd.plotly.v1+html": [
       "<div id=\"b48c7d19-51be-4675-89ec-fd1869b17988\" style=\"height: 1000px; width: 1000px;\" class=\"plotly-graph-div\"></div><script type=\"text/javascript\">require([\"plotly\"], function(Plotly) { window.PLOTLYENV=window.PLOTLYENV || {};window.PLOTLYENV.BASE_URL=\"https://plot.ly\";Plotly.newPlot(\"b48c7d19-51be-4675-89ec-fd1869b17988\", [{\"marker\": {\"color\": \"rgb(158,202,225)\", \"line\": {\"color\": \"rgb(8,48,107)\", \"width\": 1.5}}, \"opacity\": 0.6, \"orientation\": \"h\", \"text\": [0.14, 0.1, 0.1, 0.08, 0.08, 0.04, 0.04, 0.04, 0.04, 0.02, 0.02, 0.02, 0.02, 0.02, 0.02, 0.02, 0.02, 0.02, 0.02, 0.02, 0.02, 0.02, 0.02, 0.02, 0.02, 0.02, 0.0, 0.0, 0.0, 0.0, 0.0, 0.0, 0.0, 0.0, 0.0, 0.0, 0.0, 0.0, 0.0, 0.0, 0.0, 0.0, 0.0, 0.0, 0.0, 0.0, 0.0, 0.0, 0.0, 0.0, 0.0, 0.0, 0.0, 0.0, 0.0, 0.0, 0.0, 0.0, 0.0, 0.0, 0.0, 0.0, 0.0, 0.0, 0.0, 0.0, 0.0, 0.0, 0.0, 0.0, 0.0, 0.0, 0.0, 0.0, 0.0, 0.0, 0.0, 0.0, 0.0, 0.0, 0.0, 0.0, 0.0, 0.0, 0.0, 0.0, 0.0, 0.0, 0.0, 0.0, 0.0, 0.0, 0.0, 0.0, 0.0, 0.0, 0.0, 0.0, 0.0, 0.0, 0.0, 0.0, 0.0, 0.0, 0.0, 0.0, 0.0, 0.0, 0.0, 0.0], \"textposition\": \"outside\", \"x\": [0.14, 0.1, 0.1, 0.08, 0.08, 0.04, 0.04, 0.04, 0.04, 0.02, 0.02, 0.02, 0.02, 0.02, 0.02, 0.02, 0.02, 0.02, 0.02, 0.02, 0.02, 0.02, 0.02, 0.02, 0.02, 0.02, 0.0, 0.0, 0.0, 0.0, 0.0, 0.0, 0.0, 0.0, 0.0, 0.0, 0.0, 0.0, 0.0, 0.0, 0.0, 0.0, 0.0, 0.0, 0.0, 0.0, 0.0, 0.0, 0.0, 0.0, 0.0, 0.0, 0.0, 0.0, 0.0, 0.0, 0.0, 0.0, 0.0, 0.0, 0.0, 0.0, 0.0, 0.0, 0.0, 0.0, 0.0, 0.0, 0.0, 0.0, 0.0, 0.0, 0.0, 0.0, 0.0, 0.0, 0.0, 0.0, 0.0, 0.0, 0.0, 0.0, 0.0, 0.0, 0.0, 0.0, 0.0, 0.0, 0.0, 0.0, 0.0, 0.0, 0.0, 0.0, 0.0, 0.0, 0.0, 0.0, 0.0, 0.0, 0.0, 0.0, 0.0, 0.0, 0.0, 0.0, 0.0, 0.0, 0.0, 0.0], \"y\": [\"0\", \"8\", \"3\", \"4\", \"1\", \"36\", \"31\", \"27\", \"21\", \"86\", \"75\", \"48\", \"28\", \"6\", \"33\", \"23\", \"5\", \"53\", \"20\", \"37\", \"89\", \"73\", \"14\", \"88\", \"12\", \"30\", \"67\", \"82\", \"81\", \"80\", \"83\", \"69\", \"79\", \"70\", \"77\", \"76\", \"84\", \"68\", \"74\", \"72\", \"71\", \"78\", \"92\", \"85\", \"87\", \"108\", \"107\", \"106\", \"105\", \"104\", \"103\", \"102\", \"101\", \"100\", \"99\", \"98\", \"97\", \"96\", \"95\", \"94\", \"93\", \"65\", \"91\", \"90\", \"66\", \"55\", \"64\", \"63\", \"35\", \"34\", \"32\", \"29\", \"26\", \"25\", \"24\", \"22\", \"19\", \"18\", \"17\", \"16\", \"15\", \"13\", \"11\", \"10\", \"9\", \"7\", \"2\", \"38\", \"39\", \"40\", \"52\", \"62\", \"61\", \"60\", \"59\", \"58\", \"57\", \"56\", \"54\", \"51\", \"41\", \"50\", \"49\", \"47\", \"46\", \"45\", \"44\", \"43\", \"42\", \"109\"], \"type\": \"bar\", \"uid\": \"6673f41c-ec18-495f-91f6-8d73aff5b6b1\"}], {\"autosize\": false, \"height\": 1000, \"width\": 1000, \"xaxis\": {\"tickfont\": {\"color\": \"black\", \"size\": 12}, \"title\": \"Feature Importances\"}, \"yaxis\": {\"automargin\": true}}, {\"showLink\": true, \"linkText\": \"Export to plot.ly\", \"plotlyServerURL\": \"https://plot.ly\"})});</script>"
      ]
     },
     "metadata": {},
     "output_type": "display_data"
    },
    {
     "name": "stdout",
     "output_type": "stream",
     "text": [
      "\n",
      "\n",
      "\u001b[1mGradientBoosting Classifier\u001b[0m\n",
      "Accuracy of the model for training data is: 0.9569028711056812\n",
      "Confusion Matrix for training data is:\n"
     ]
    },
    {
     "data": {
      "text/plain": [
       "Predicted  False  True  __all__\n",
       "Actual                         \n",
       "False      27668   239    27907\n",
       "True        1172  3661     4833\n",
       "__all__    28840  3900    32740"
      ]
     },
     "metadata": {},
     "output_type": "display_data"
    },
    {
     "name": "stdout",
     "output_type": "stream",
     "text": [
      "Accuracy of the model for test data is: 0.9531751122514432\n",
      "Confusion Matrix for test data is:\n"
     ]
    },
    {
     "data": {
      "text/plain": [
       "Predicted  False  True  __all__\n",
       "Actual                         \n",
       "False      11823   147    11970\n",
       "True         510  1551     2061\n",
       "__all__    12333  1698    14031"
      ]
     },
     "metadata": {},
     "output_type": "display_data"
    },
    {
     "data": {
      "application/vnd.plotly.v1+json": {
       "config": {
        "linkText": "Export to plot.ly",
        "plotlyServerURL": "https://plot.ly",
        "showLink": true
       },
       "data": [
        {
         "marker": {
          "color": "rgb(158,202,225)",
          "line": {
           "color": "rgb(8,48,107)",
           "width": 1.5
          }
         },
         "opacity": 0.6,
         "orientation": "h",
         "text": [
          0.4373,
          0.2253,
          0.0672,
          0.0667,
          0.0647,
          0.0211,
          0.0101,
          0.0089,
          0.0082,
          0.008,
          0.0078,
          0.005,
          0.0049,
          0.0048,
          0.0038,
          0.0035,
          0.0035,
          0.0029,
          0.0027,
          0.0025,
          0.0022,
          0.0019,
          0.0019,
          0.0018,
          0.0018,
          0.0016,
          0.0016,
          0.0015,
          0.0014,
          0.0014,
          0.0013,
          0.0013,
          0.001,
          0.0009,
          0.0009,
          0.0009,
          0.0008,
          0.0008,
          0.0007,
          0.0007,
          0.0007,
          0.0007,
          0.0006,
          0.0005,
          0.0005,
          0.0005,
          0.0005,
          0.0005,
          0.0004,
          0.0004,
          0.0004,
          0.0004,
          0.0004,
          0.0004,
          0.0004,
          0.0003,
          0.0003,
          0.0003,
          0.0003,
          0.0003,
          0.0003,
          0.0003,
          0.0003,
          0.0003,
          0.0003,
          0.0003,
          0.0003,
          0.0003,
          0.0003,
          0.0002,
          0.0002,
          0.0002,
          0.0002,
          0.0002,
          0.0002,
          0.0002,
          0.0002,
          0.0002,
          0.0002,
          0.0001,
          0.0001,
          0.0001,
          0.0001,
          0.0001,
          0.0001,
          0.0001,
          0.0001,
          0.0001,
          0,
          0,
          0,
          0,
          0,
          0,
          0,
          0,
          0,
          0,
          0,
          0,
          0,
          0,
          0,
          0,
          0,
          0,
          0,
          0,
          0,
          0
         ],
         "textposition": "outside",
         "type": "bar",
         "uid": "766b44d0-9198-4366-9efe-ca63a3329dda",
         "x": [
          0.43730059663403004,
          0.22533037072238943,
          0.06720485331151416,
          0.06673132993097639,
          0.06474264063963256,
          0.02113334174761037,
          0.010092144422849118,
          0.008925686511451094,
          0.0081982222898129,
          0.008043594930445932,
          0.007846277320631067,
          0.004979881714693268,
          0.004878664617949662,
          0.004786031471423594,
          0.0037817235006691284,
          0.003452477839859564,
          0.003450537627226011,
          0.002859992512472832,
          0.0027462183228648034,
          0.002460840238901087,
          0.002170720016058967,
          0.0019126861082138247,
          0.00187019875934164,
          0.0018182264656390898,
          0.0017633770732361225,
          0.001642084687548668,
          0.0015820417559151935,
          0.0015389192270790606,
          0.00137195354476451,
          0.0013518501239778995,
          0.0013352160941638444,
          0.0013245354646205547,
          0.0009692506383974937,
          0.0009424902840229948,
          0.0009012584881701427,
          0.0008871995872276154,
          0.0007645760738912271,
          0.0007523090351940149,
          0.0007318793578345991,
          0.000719143581258078,
          0.0006953460013405583,
          0.0006872446030112841,
          0.0006380487419069111,
          0.0005205798993982699,
          0.0005181265847169847,
          0.0005106919015438126,
          0.0005015753023160864,
          0.0004682558232232974,
          0.00042212210898914923,
          0.0004107548072248919,
          0.0004041874765753016,
          0.00039535666192186744,
          0.00039211690958556943,
          0.00038368941243228645,
          0.00037537774810120504,
          0.00034721855314609636,
          0.0003455794743503789,
          0.000334273327660417,
          0.0003298909500213392,
          0.00032875312124798706,
          0.00032259858499251125,
          0.00032210824513275756,
          0.0003131398899328816,
          0.00030591300535602264,
          0.0002909726041576764,
          0.00028053136778335926,
          0.00028019922054700955,
          0.0002610912558434146,
          0.00026040400150324436,
          0.0002452633487184453,
          0.00024224483217566477,
          0.00023761567797279978,
          0.00023538965025557624,
          0.0001913402176931908,
          0.00018904197146738856,
          0.00017404778324829143,
          0.00016966081726416254,
          0.00015750586192000632,
          0.00015487802633787248,
          0.00013337134435438777,
          0.00013167017595660017,
          0.00012904791808183554,
          0.00012782154940980692,
          0.00012650868071883745,
          9.916635485346753e-05,
          9.09876823457112e-05,
          9.003475642189445e-05,
          8.655457894193688e-05,
          4.635851394067316e-05,
          0,
          0,
          0,
          0,
          0,
          0,
          0,
          0,
          0,
          0,
          0,
          0,
          0,
          0,
          0,
          0,
          0,
          0,
          0,
          0,
          0
         ],
         "y": [
          "0",
          "1",
          "8",
          "3",
          "4",
          "69",
          "2",
          "5",
          "27",
          "36",
          "89",
          "37",
          "33",
          "20",
          "28",
          "31",
          "71",
          "43",
          "6",
          "21",
          "86",
          "67",
          "39",
          "52",
          "75",
          "35",
          "100",
          "50",
          "101",
          "14",
          "12",
          "79",
          "99",
          "66",
          "45",
          "80",
          "48",
          "62",
          "22",
          "23",
          "44",
          "29",
          "17",
          "16",
          "82",
          "73",
          "108",
          "54",
          "88",
          "77",
          "30",
          "103",
          "70",
          "102",
          "47",
          "25",
          "107",
          "24",
          "104",
          "55",
          "93",
          "59",
          "46",
          "38",
          "53",
          "42",
          "87",
          "94",
          "78",
          "13",
          "98",
          "15",
          "32",
          "10",
          "34",
          "90",
          "40",
          "26",
          "49",
          "91",
          "41",
          "105",
          "85",
          "81",
          "83",
          "92",
          "19",
          "18",
          "97",
          "96",
          "9",
          "106",
          "95",
          "7",
          "11",
          "60",
          "61",
          "84",
          "76",
          "74",
          "72",
          "51",
          "56",
          "68",
          "57",
          "58",
          "65",
          "64",
          "63",
          "109"
         ]
        }
       ],
       "layout": {
        "autosize": false,
        "height": 1000,
        "width": 1000,
        "xaxis": {
         "tickfont": {
          "color": "black",
          "size": 12
         },
         "title": "Feature Importances"
        },
        "yaxis": {
         "automargin": true
        }
       }
      },
      "text/html": [
       "<div id=\"a07abb42-0aaa-49ac-8c59-8fb80ce015bc\" style=\"height: 1000px; width: 1000px;\" class=\"plotly-graph-div\"></div><script type=\"text/javascript\">require([\"plotly\"], function(Plotly) { window.PLOTLYENV=window.PLOTLYENV || {};window.PLOTLYENV.BASE_URL=\"https://plot.ly\";Plotly.newPlot(\"a07abb42-0aaa-49ac-8c59-8fb80ce015bc\", [{\"marker\": {\"color\": \"rgb(158,202,225)\", \"line\": {\"color\": \"rgb(8,48,107)\", \"width\": 1.5}}, \"opacity\": 0.6, \"orientation\": \"h\", \"text\": [0.4373, 0.2253, 0.0672, 0.0667, 0.0647, 0.0211, 0.0101, 0.0089, 0.0082, 0.008, 0.0078, 0.005, 0.0049, 0.0048, 0.0038, 0.0035, 0.0035, 0.0029, 0.0027, 0.0025, 0.0022, 0.0019, 0.0019, 0.0018, 0.0018, 0.0016, 0.0016, 0.0015, 0.0014, 0.0014, 0.0013, 0.0013, 0.001, 0.0009, 0.0009, 0.0009, 0.0008, 0.0008, 0.0007, 0.0007, 0.0007, 0.0007, 0.0006, 0.0005, 0.0005, 0.0005, 0.0005, 0.0005, 0.0004, 0.0004, 0.0004, 0.0004, 0.0004, 0.0004, 0.0004, 0.0003, 0.0003, 0.0003, 0.0003, 0.0003, 0.0003, 0.0003, 0.0003, 0.0003, 0.0003, 0.0003, 0.0003, 0.0003, 0.0003, 0.0002, 0.0002, 0.0002, 0.0002, 0.0002, 0.0002, 0.0002, 0.0002, 0.0002, 0.0002, 0.0001, 0.0001, 0.0001, 0.0001, 0.0001, 0.0001, 0.0001, 0.0001, 0.0001, 0.0, 0.0, 0.0, 0.0, 0.0, 0.0, 0.0, 0.0, 0.0, 0.0, 0.0, 0.0, 0.0, 0.0, 0.0, 0.0, 0.0, 0.0, 0.0, 0.0, 0.0, 0.0], \"textposition\": \"outside\", \"x\": [0.43730059663403004, 0.22533037072238943, 0.06720485331151416, 0.06673132993097639, 0.06474264063963256, 0.02113334174761037, 0.010092144422849118, 0.008925686511451094, 0.0081982222898129, 0.008043594930445932, 0.007846277320631067, 0.004979881714693268, 0.004878664617949662, 0.004786031471423594, 0.0037817235006691284, 0.003452477839859564, 0.003450537627226011, 0.002859992512472832, 0.0027462183228648034, 0.002460840238901087, 0.002170720016058967, 0.0019126861082138247, 0.00187019875934164, 0.0018182264656390898, 0.0017633770732361225, 0.001642084687548668, 0.0015820417559151935, 0.0015389192270790606, 0.00137195354476451, 0.0013518501239778995, 0.0013352160941638444, 0.0013245354646205547, 0.0009692506383974937, 0.0009424902840229948, 0.0009012584881701427, 0.0008871995872276154, 0.0007645760738912271, 0.0007523090351940149, 0.0007318793578345991, 0.000719143581258078, 0.0006953460013405583, 0.0006872446030112841, 0.0006380487419069111, 0.0005205798993982699, 0.0005181265847169847, 0.0005106919015438126, 0.0005015753023160864, 0.0004682558232232974, 0.00042212210898914923, 0.0004107548072248919, 0.0004041874765753016, 0.00039535666192186744, 0.00039211690958556943, 0.00038368941243228645, 0.00037537774810120504, 0.00034721855314609636, 0.0003455794743503789, 0.000334273327660417, 0.0003298909500213392, 0.00032875312124798706, 0.00032259858499251125, 0.00032210824513275756, 0.0003131398899328816, 0.00030591300535602264, 0.0002909726041576764, 0.00028053136778335926, 0.00028019922054700955, 0.0002610912558434146, 0.00026040400150324436, 0.0002452633487184453, 0.00024224483217566477, 0.00023761567797279978, 0.00023538965025557624, 0.0001913402176931908, 0.00018904197146738856, 0.00017404778324829143, 0.00016966081726416254, 0.00015750586192000632, 0.00015487802633787248, 0.00013337134435438777, 0.00013167017595660017, 0.00012904791808183554, 0.00012782154940980692, 0.00012650868071883745, 9.916635485346753e-05, 9.09876823457112e-05, 9.003475642189445e-05, 8.655457894193688e-05, 4.635851394067316e-05, 0.0, 0.0, 0.0, 0.0, 0.0, 0.0, 0.0, 0.0, 0.0, 0.0, 0.0, 0.0, 0.0, 0.0, 0.0, 0.0, 0.0, 0.0, 0.0, 0.0, 0.0], \"y\": [\"0\", \"1\", \"8\", \"3\", \"4\", \"69\", \"2\", \"5\", \"27\", \"36\", \"89\", \"37\", \"33\", \"20\", \"28\", \"31\", \"71\", \"43\", \"6\", \"21\", \"86\", \"67\", \"39\", \"52\", \"75\", \"35\", \"100\", \"50\", \"101\", \"14\", \"12\", \"79\", \"99\", \"66\", \"45\", \"80\", \"48\", \"62\", \"22\", \"23\", \"44\", \"29\", \"17\", \"16\", \"82\", \"73\", \"108\", \"54\", \"88\", \"77\", \"30\", \"103\", \"70\", \"102\", \"47\", \"25\", \"107\", \"24\", \"104\", \"55\", \"93\", \"59\", \"46\", \"38\", \"53\", \"42\", \"87\", \"94\", \"78\", \"13\", \"98\", \"15\", \"32\", \"10\", \"34\", \"90\", \"40\", \"26\", \"49\", \"91\", \"41\", \"105\", \"85\", \"81\", \"83\", \"92\", \"19\", \"18\", \"97\", \"96\", \"9\", \"106\", \"95\", \"7\", \"11\", \"60\", \"61\", \"84\", \"76\", \"74\", \"72\", \"51\", \"56\", \"68\", \"57\", \"58\", \"65\", \"64\", \"63\", \"109\"], \"type\": \"bar\", \"uid\": \"766b44d0-9198-4366-9efe-ca63a3329dda\"}], {\"autosize\": false, \"height\": 1000, \"width\": 1000, \"xaxis\": {\"tickfont\": {\"color\": \"black\", \"size\": 12}, \"title\": \"Feature Importances\"}, \"yaxis\": {\"automargin\": true}}, {\"showLink\": true, \"linkText\": \"Export to plot.ly\", \"plotlyServerURL\": \"https://plot.ly\"})});</script>"
      ],
      "text/vnd.plotly.v1+html": [
       "<div id=\"a07abb42-0aaa-49ac-8c59-8fb80ce015bc\" style=\"height: 1000px; width: 1000px;\" class=\"plotly-graph-div\"></div><script type=\"text/javascript\">require([\"plotly\"], function(Plotly) { window.PLOTLYENV=window.PLOTLYENV || {};window.PLOTLYENV.BASE_URL=\"https://plot.ly\";Plotly.newPlot(\"a07abb42-0aaa-49ac-8c59-8fb80ce015bc\", [{\"marker\": {\"color\": \"rgb(158,202,225)\", \"line\": {\"color\": \"rgb(8,48,107)\", \"width\": 1.5}}, \"opacity\": 0.6, \"orientation\": \"h\", \"text\": [0.4373, 0.2253, 0.0672, 0.0667, 0.0647, 0.0211, 0.0101, 0.0089, 0.0082, 0.008, 0.0078, 0.005, 0.0049, 0.0048, 0.0038, 0.0035, 0.0035, 0.0029, 0.0027, 0.0025, 0.0022, 0.0019, 0.0019, 0.0018, 0.0018, 0.0016, 0.0016, 0.0015, 0.0014, 0.0014, 0.0013, 0.0013, 0.001, 0.0009, 0.0009, 0.0009, 0.0008, 0.0008, 0.0007, 0.0007, 0.0007, 0.0007, 0.0006, 0.0005, 0.0005, 0.0005, 0.0005, 0.0005, 0.0004, 0.0004, 0.0004, 0.0004, 0.0004, 0.0004, 0.0004, 0.0003, 0.0003, 0.0003, 0.0003, 0.0003, 0.0003, 0.0003, 0.0003, 0.0003, 0.0003, 0.0003, 0.0003, 0.0003, 0.0003, 0.0002, 0.0002, 0.0002, 0.0002, 0.0002, 0.0002, 0.0002, 0.0002, 0.0002, 0.0002, 0.0001, 0.0001, 0.0001, 0.0001, 0.0001, 0.0001, 0.0001, 0.0001, 0.0001, 0.0, 0.0, 0.0, 0.0, 0.0, 0.0, 0.0, 0.0, 0.0, 0.0, 0.0, 0.0, 0.0, 0.0, 0.0, 0.0, 0.0, 0.0, 0.0, 0.0, 0.0, 0.0], \"textposition\": \"outside\", \"x\": [0.43730059663403004, 0.22533037072238943, 0.06720485331151416, 0.06673132993097639, 0.06474264063963256, 0.02113334174761037, 0.010092144422849118, 0.008925686511451094, 0.0081982222898129, 0.008043594930445932, 0.007846277320631067, 0.004979881714693268, 0.004878664617949662, 0.004786031471423594, 0.0037817235006691284, 0.003452477839859564, 0.003450537627226011, 0.002859992512472832, 0.0027462183228648034, 0.002460840238901087, 0.002170720016058967, 0.0019126861082138247, 0.00187019875934164, 0.0018182264656390898, 0.0017633770732361225, 0.001642084687548668, 0.0015820417559151935, 0.0015389192270790606, 0.00137195354476451, 0.0013518501239778995, 0.0013352160941638444, 0.0013245354646205547, 0.0009692506383974937, 0.0009424902840229948, 0.0009012584881701427, 0.0008871995872276154, 0.0007645760738912271, 0.0007523090351940149, 0.0007318793578345991, 0.000719143581258078, 0.0006953460013405583, 0.0006872446030112841, 0.0006380487419069111, 0.0005205798993982699, 0.0005181265847169847, 0.0005106919015438126, 0.0005015753023160864, 0.0004682558232232974, 0.00042212210898914923, 0.0004107548072248919, 0.0004041874765753016, 0.00039535666192186744, 0.00039211690958556943, 0.00038368941243228645, 0.00037537774810120504, 0.00034721855314609636, 0.0003455794743503789, 0.000334273327660417, 0.0003298909500213392, 0.00032875312124798706, 0.00032259858499251125, 0.00032210824513275756, 0.0003131398899328816, 0.00030591300535602264, 0.0002909726041576764, 0.00028053136778335926, 0.00028019922054700955, 0.0002610912558434146, 0.00026040400150324436, 0.0002452633487184453, 0.00024224483217566477, 0.00023761567797279978, 0.00023538965025557624, 0.0001913402176931908, 0.00018904197146738856, 0.00017404778324829143, 0.00016966081726416254, 0.00015750586192000632, 0.00015487802633787248, 0.00013337134435438777, 0.00013167017595660017, 0.00012904791808183554, 0.00012782154940980692, 0.00012650868071883745, 9.916635485346753e-05, 9.09876823457112e-05, 9.003475642189445e-05, 8.655457894193688e-05, 4.635851394067316e-05, 0.0, 0.0, 0.0, 0.0, 0.0, 0.0, 0.0, 0.0, 0.0, 0.0, 0.0, 0.0, 0.0, 0.0, 0.0, 0.0, 0.0, 0.0, 0.0, 0.0, 0.0], \"y\": [\"0\", \"1\", \"8\", \"3\", \"4\", \"69\", \"2\", \"5\", \"27\", \"36\", \"89\", \"37\", \"33\", \"20\", \"28\", \"31\", \"71\", \"43\", \"6\", \"21\", \"86\", \"67\", \"39\", \"52\", \"75\", \"35\", \"100\", \"50\", \"101\", \"14\", \"12\", \"79\", \"99\", \"66\", \"45\", \"80\", \"48\", \"62\", \"22\", \"23\", \"44\", \"29\", \"17\", \"16\", \"82\", \"73\", \"108\", \"54\", \"88\", \"77\", \"30\", \"103\", \"70\", \"102\", \"47\", \"25\", \"107\", \"24\", \"104\", \"55\", \"93\", \"59\", \"46\", \"38\", \"53\", \"42\", \"87\", \"94\", \"78\", \"13\", \"98\", \"15\", \"32\", \"10\", \"34\", \"90\", \"40\", \"26\", \"49\", \"91\", \"41\", \"105\", \"85\", \"81\", \"83\", \"92\", \"19\", \"18\", \"97\", \"96\", \"9\", \"106\", \"95\", \"7\", \"11\", \"60\", \"61\", \"84\", \"76\", \"74\", \"72\", \"51\", \"56\", \"68\", \"57\", \"58\", \"65\", \"64\", \"63\", \"109\"], \"type\": \"bar\", \"uid\": \"766b44d0-9198-4366-9efe-ca63a3329dda\"}], {\"autosize\": false, \"height\": 1000, \"width\": 1000, \"xaxis\": {\"tickfont\": {\"color\": \"black\", \"size\": 12}, \"title\": \"Feature Importances\"}, \"yaxis\": {\"automargin\": true}}, {\"showLink\": true, \"linkText\": \"Export to plot.ly\", \"plotlyServerURL\": \"https://plot.ly\"})});</script>"
      ]
     },
     "metadata": {},
     "output_type": "display_data"
    },
    {
     "name": "stdout",
     "output_type": "stream",
     "text": [
      "\n",
      "\n",
      "\u001b[1mExtraTree Classifier\u001b[0m\n",
      "Accuracy of the model for training data is: 1.0\n",
      "Confusion Matrix for training data is:\n"
     ]
    },
    {
     "data": {
      "text/plain": [
       "Predicted  False  True  __all__\n",
       "Actual                         \n",
       "False      27907     0    27907\n",
       "True           0  4833     4833\n",
       "__all__    27907  4833    32740"
      ]
     },
     "metadata": {},
     "output_type": "display_data"
    },
    {
     "name": "stdout",
     "output_type": "stream",
     "text": [
      "Accuracy of the model for test data is: 0.9342170907276744\n",
      "Confusion Matrix for test data is:\n"
     ]
    },
    {
     "data": {
      "text/plain": [
       "Predicted  False  True  __all__\n",
       "Actual                         \n",
       "False      11878    92    11970\n",
       "True         831  1230     2061\n",
       "__all__    12709  1322    14031"
      ]
     },
     "metadata": {},
     "output_type": "display_data"
    },
    {
     "data": {
      "application/vnd.plotly.v1+json": {
       "config": {
        "linkText": "Export to plot.ly",
        "plotlyServerURL": "https://plot.ly",
        "showLink": true
       },
       "data": [
        {
         "marker": {
          "color": "rgb(158,202,225)",
          "line": {
           "color": "rgb(8,48,107)",
           "width": 1.5
          }
         },
         "opacity": 0.6,
         "orientation": "h",
         "text": [
          0.0469,
          0.0369,
          0.0363,
          0.019,
          0.0158,
          0.0154,
          0.0154,
          0.0152,
          0.0143,
          0.0142,
          0.0141,
          0.0139,
          0.0134,
          0.0133,
          0.0125,
          0.012,
          0.012,
          0.0118,
          0.0118,
          0.0115,
          0.0115,
          0.0111,
          0.0108,
          0.0106,
          0.0104,
          0.0103,
          0.0103,
          0.01,
          0.0099,
          0.0098,
          0.0097,
          0.0095,
          0.0095,
          0.0095,
          0.0093,
          0.0092,
          0.0092,
          0.0092,
          0.0091,
          0.009,
          0.009,
          0.0089,
          0.0088,
          0.0087,
          0.0085,
          0.0085,
          0.0084,
          0.0084,
          0.0083,
          0.0081,
          0.0081,
          0.008,
          0.0078,
          0.0078,
          0.0077,
          0.0077,
          0.0076,
          0.0075,
          0.0075,
          0.0075,
          0.0075,
          0.0073,
          0.007,
          0.007,
          0.0069,
          0.0069,
          0.0067,
          0.0066,
          0.0066,
          0.0064,
          0.0064,
          0.0064,
          0.0063,
          0.0063,
          0.0062,
          0.0062,
          0.0062,
          0.006,
          0.0059,
          0.0058,
          0.0058,
          0.0058,
          0.0058,
          0.0056,
          0.0056,
          0.0056,
          0.0056,
          0.0055,
          0.0055,
          0.0055,
          0.0054,
          0.0054,
          0.0053,
          0.0052,
          0.0051,
          0.005,
          0.0049,
          0.0049,
          0.0049,
          0.0048,
          0.0048,
          0.0048,
          0.0047,
          0.0047,
          0.0046,
          0.0046,
          0.0045,
          0.0044,
          0.0044,
          0.0042
         ],
         "textposition": "outside",
         "type": "bar",
         "uid": "42cc1176-a03c-4e03-9053-22a9bc1d3e83",
         "x": [
          0.046855463134302285,
          0.03691371427803351,
          0.03626477776859658,
          0.01898647478788543,
          0.015843166864070248,
          0.015411242973153936,
          0.015365771343497717,
          0.015196916721267613,
          0.014330342528058421,
          0.014203682396948811,
          0.014109949370157374,
          0.013949298111853949,
          0.013363497160359995,
          0.013317303162791193,
          0.01249502842796938,
          0.012028790838658555,
          0.012011490995410901,
          0.0118349084864198,
          0.011765239895332182,
          0.011535926995063504,
          0.011531164712093565,
          0.011071690999081205,
          0.010799791247807755,
          0.010571528075292701,
          0.010405044360367108,
          0.010299930492887726,
          0.010298251751179687,
          0.009966034607749528,
          0.00994506830887902,
          0.009800141925610515,
          0.009715754521693735,
          0.009497373762310466,
          0.009453130266837442,
          0.00945250094867697,
          0.00927343639556838,
          0.009215729660703968,
          0.009162781212066283,
          0.009160867608884397,
          0.009061174160150084,
          0.009042799972530819,
          0.0089870875964482,
          0.008875219426795413,
          0.008778615133742054,
          0.008739982284282742,
          0.00854532623387525,
          0.008453818512532286,
          0.008423975588912806,
          0.008414686861587384,
          0.00834737797837014,
          0.008079694699349257,
          0.00807902005931659,
          0.008035898736560089,
          0.007804533588449025,
          0.007752108168964822,
          0.007735037950030443,
          0.007669771320878494,
          0.007585211365485273,
          0.007526199370661295,
          0.007506822815987104,
          0.007501073857587751,
          0.007483930485464913,
          0.00725935854019564,
          0.007007423834473368,
          0.007003956320871838,
          0.006936709163458903,
          0.006853558839240336,
          0.006665930142535025,
          0.006626924368112854,
          0.006582639523451278,
          0.006445293690850733,
          0.006421623640903944,
          0.006356079527352828,
          0.006322870841802149,
          0.006321248771318223,
          0.006236497042292996,
          0.00617633278951102,
          0.006157461573126358,
          0.005959108059549563,
          0.00587603246358645,
          0.005845161103586725,
          0.005842868705996105,
          0.00582520918903853,
          0.0057638813273824824,
          0.005620762380295889,
          0.005610154144809094,
          0.005573034805183695,
          0.005562540736271424,
          0.00554945857904163,
          0.005546273336674662,
          0.005457141368117649,
          0.005380047490881212,
          0.005373508340219521,
          0.005288020982349594,
          0.005241142421514885,
          0.005113098237877051,
          0.004997314895677913,
          0.004916462102068939,
          0.004916085120855992,
          0.004871837533401263,
          0.004849952572149739,
          0.004808414521343786,
          0.004764234470761996,
          0.004740296495574091,
          0.004699774238788136,
          0.004643752370658563,
          0.004601658071333829,
          0.0045375785419433995,
          0.004432692800186651,
          0.004373694876082725,
          0.004212325841815418
         ],
         "y": [
          "3",
          "0",
          "8",
          "4",
          "82",
          "75",
          "1",
          "51",
          "90",
          "57",
          "14",
          "36",
          "65",
          "50",
          "67",
          "66",
          "71",
          "63",
          "7",
          "27",
          "68",
          "94",
          "89",
          "81",
          "44",
          "43",
          "62",
          "13",
          "70",
          "12",
          "9",
          "80",
          "53",
          "47",
          "16",
          "86",
          "21",
          "92",
          "5",
          "2",
          "45",
          "54",
          "42",
          "28",
          "61",
          "73",
          "6",
          "79",
          "41",
          "20",
          "59",
          "37",
          "88",
          "35",
          "85",
          "72",
          "10",
          "33",
          "52",
          "60",
          "25",
          "83",
          "46",
          "19",
          "101",
          "77",
          "55",
          "103",
          "18",
          "76",
          "91",
          "93",
          "31",
          "48",
          "56",
          "29",
          "24",
          "69",
          "58",
          "38",
          "17",
          "64",
          "74",
          "39",
          "23",
          "30",
          "49",
          "87",
          "106",
          "15",
          "100",
          "22",
          "11",
          "107",
          "32",
          "108",
          "102",
          "40",
          "97",
          "84",
          "95",
          "96",
          "34",
          "78",
          "26",
          "109",
          "99",
          "105",
          "104",
          "98"
         ]
        }
       ],
       "layout": {
        "autosize": false,
        "height": 1000,
        "width": 1000,
        "xaxis": {
         "tickfont": {
          "color": "black",
          "size": 12
         },
         "title": "Feature Importances"
        },
        "yaxis": {
         "automargin": true
        }
       }
      },
      "text/html": [
       "<div id=\"4b888a03-2b8b-458b-afe9-0bc60ee8dd54\" style=\"height: 1000px; width: 1000px;\" class=\"plotly-graph-div\"></div><script type=\"text/javascript\">require([\"plotly\"], function(Plotly) { window.PLOTLYENV=window.PLOTLYENV || {};window.PLOTLYENV.BASE_URL=\"https://plot.ly\";Plotly.newPlot(\"4b888a03-2b8b-458b-afe9-0bc60ee8dd54\", [{\"marker\": {\"color\": \"rgb(158,202,225)\", \"line\": {\"color\": \"rgb(8,48,107)\", \"width\": 1.5}}, \"opacity\": 0.6, \"orientation\": \"h\", \"text\": [0.0469, 0.0369, 0.0363, 0.019, 0.0158, 0.0154, 0.0154, 0.0152, 0.0143, 0.0142, 0.0141, 0.0139, 0.0134, 0.0133, 0.0125, 0.012, 0.012, 0.0118, 0.0118, 0.0115, 0.0115, 0.0111, 0.0108, 0.0106, 0.0104, 0.0103, 0.0103, 0.01, 0.0099, 0.0098, 0.0097, 0.0095, 0.0095, 0.0095, 0.0093, 0.0092, 0.0092, 0.0092, 0.0091, 0.009, 0.009, 0.0089, 0.0088, 0.0087, 0.0085, 0.0085, 0.0084, 0.0084, 0.0083, 0.0081, 0.0081, 0.008, 0.0078, 0.0078, 0.0077, 0.0077, 0.0076, 0.0075, 0.0075, 0.0075, 0.0075, 0.0073, 0.007, 0.007, 0.0069, 0.0069, 0.0067, 0.0066, 0.0066, 0.0064, 0.0064, 0.0064, 0.0063, 0.0063, 0.0062, 0.0062, 0.0062, 0.006, 0.0059, 0.0058, 0.0058, 0.0058, 0.0058, 0.0056, 0.0056, 0.0056, 0.0056, 0.0055, 0.0055, 0.0055, 0.0054, 0.0054, 0.0053, 0.0052, 0.0051, 0.005, 0.0049, 0.0049, 0.0049, 0.0048, 0.0048, 0.0048, 0.0047, 0.0047, 0.0046, 0.0046, 0.0045, 0.0044, 0.0044, 0.0042], \"textposition\": \"outside\", \"x\": [0.046855463134302285, 0.03691371427803351, 0.03626477776859658, 0.01898647478788543, 0.015843166864070248, 0.015411242973153936, 0.015365771343497717, 0.015196916721267613, 0.014330342528058421, 0.014203682396948811, 0.014109949370157374, 0.013949298111853949, 0.013363497160359995, 0.013317303162791193, 0.01249502842796938, 0.012028790838658555, 0.012011490995410901, 0.0118349084864198, 0.011765239895332182, 0.011535926995063504, 0.011531164712093565, 0.011071690999081205, 0.010799791247807755, 0.010571528075292701, 0.010405044360367108, 0.010299930492887726, 0.010298251751179687, 0.009966034607749528, 0.00994506830887902, 0.009800141925610515, 0.009715754521693735, 0.009497373762310466, 0.009453130266837442, 0.00945250094867697, 0.00927343639556838, 0.009215729660703968, 0.009162781212066283, 0.009160867608884397, 0.009061174160150084, 0.009042799972530819, 0.0089870875964482, 0.008875219426795413, 0.008778615133742054, 0.008739982284282742, 0.00854532623387525, 0.008453818512532286, 0.008423975588912806, 0.008414686861587384, 0.00834737797837014, 0.008079694699349257, 0.00807902005931659, 0.008035898736560089, 0.007804533588449025, 0.007752108168964822, 0.007735037950030443, 0.007669771320878494, 0.007585211365485273, 0.007526199370661295, 0.007506822815987104, 0.007501073857587751, 0.007483930485464913, 0.00725935854019564, 0.007007423834473368, 0.007003956320871838, 0.006936709163458903, 0.006853558839240336, 0.006665930142535025, 0.006626924368112854, 0.006582639523451278, 0.006445293690850733, 0.006421623640903944, 0.006356079527352828, 0.006322870841802149, 0.006321248771318223, 0.006236497042292996, 0.00617633278951102, 0.006157461573126358, 0.005959108059549563, 0.00587603246358645, 0.005845161103586725, 0.005842868705996105, 0.00582520918903853, 0.0057638813273824824, 0.005620762380295889, 0.005610154144809094, 0.005573034805183695, 0.005562540736271424, 0.00554945857904163, 0.005546273336674662, 0.005457141368117649, 0.005380047490881212, 0.005373508340219521, 0.005288020982349594, 0.005241142421514885, 0.005113098237877051, 0.004997314895677913, 0.004916462102068939, 0.004916085120855992, 0.004871837533401263, 0.004849952572149739, 0.004808414521343786, 0.004764234470761996, 0.004740296495574091, 0.004699774238788136, 0.004643752370658563, 0.004601658071333829, 0.0045375785419433995, 0.004432692800186651, 0.004373694876082725, 0.004212325841815418], \"y\": [\"3\", \"0\", \"8\", \"4\", \"82\", \"75\", \"1\", \"51\", \"90\", \"57\", \"14\", \"36\", \"65\", \"50\", \"67\", \"66\", \"71\", \"63\", \"7\", \"27\", \"68\", \"94\", \"89\", \"81\", \"44\", \"43\", \"62\", \"13\", \"70\", \"12\", \"9\", \"80\", \"53\", \"47\", \"16\", \"86\", \"21\", \"92\", \"5\", \"2\", \"45\", \"54\", \"42\", \"28\", \"61\", \"73\", \"6\", \"79\", \"41\", \"20\", \"59\", \"37\", \"88\", \"35\", \"85\", \"72\", \"10\", \"33\", \"52\", \"60\", \"25\", \"83\", \"46\", \"19\", \"101\", \"77\", \"55\", \"103\", \"18\", \"76\", \"91\", \"93\", \"31\", \"48\", \"56\", \"29\", \"24\", \"69\", \"58\", \"38\", \"17\", \"64\", \"74\", \"39\", \"23\", \"30\", \"49\", \"87\", \"106\", \"15\", \"100\", \"22\", \"11\", \"107\", \"32\", \"108\", \"102\", \"40\", \"97\", \"84\", \"95\", \"96\", \"34\", \"78\", \"26\", \"109\", \"99\", \"105\", \"104\", \"98\"], \"type\": \"bar\", \"uid\": \"42cc1176-a03c-4e03-9053-22a9bc1d3e83\"}], {\"autosize\": false, \"height\": 1000, \"width\": 1000, \"xaxis\": {\"tickfont\": {\"color\": \"black\", \"size\": 12}, \"title\": \"Feature Importances\"}, \"yaxis\": {\"automargin\": true}}, {\"showLink\": true, \"linkText\": \"Export to plot.ly\", \"plotlyServerURL\": \"https://plot.ly\"})});</script>"
      ],
      "text/vnd.plotly.v1+html": [
       "<div id=\"4b888a03-2b8b-458b-afe9-0bc60ee8dd54\" style=\"height: 1000px; width: 1000px;\" class=\"plotly-graph-div\"></div><script type=\"text/javascript\">require([\"plotly\"], function(Plotly) { window.PLOTLYENV=window.PLOTLYENV || {};window.PLOTLYENV.BASE_URL=\"https://plot.ly\";Plotly.newPlot(\"4b888a03-2b8b-458b-afe9-0bc60ee8dd54\", [{\"marker\": {\"color\": \"rgb(158,202,225)\", \"line\": {\"color\": \"rgb(8,48,107)\", \"width\": 1.5}}, \"opacity\": 0.6, \"orientation\": \"h\", \"text\": [0.0469, 0.0369, 0.0363, 0.019, 0.0158, 0.0154, 0.0154, 0.0152, 0.0143, 0.0142, 0.0141, 0.0139, 0.0134, 0.0133, 0.0125, 0.012, 0.012, 0.0118, 0.0118, 0.0115, 0.0115, 0.0111, 0.0108, 0.0106, 0.0104, 0.0103, 0.0103, 0.01, 0.0099, 0.0098, 0.0097, 0.0095, 0.0095, 0.0095, 0.0093, 0.0092, 0.0092, 0.0092, 0.0091, 0.009, 0.009, 0.0089, 0.0088, 0.0087, 0.0085, 0.0085, 0.0084, 0.0084, 0.0083, 0.0081, 0.0081, 0.008, 0.0078, 0.0078, 0.0077, 0.0077, 0.0076, 0.0075, 0.0075, 0.0075, 0.0075, 0.0073, 0.007, 0.007, 0.0069, 0.0069, 0.0067, 0.0066, 0.0066, 0.0064, 0.0064, 0.0064, 0.0063, 0.0063, 0.0062, 0.0062, 0.0062, 0.006, 0.0059, 0.0058, 0.0058, 0.0058, 0.0058, 0.0056, 0.0056, 0.0056, 0.0056, 0.0055, 0.0055, 0.0055, 0.0054, 0.0054, 0.0053, 0.0052, 0.0051, 0.005, 0.0049, 0.0049, 0.0049, 0.0048, 0.0048, 0.0048, 0.0047, 0.0047, 0.0046, 0.0046, 0.0045, 0.0044, 0.0044, 0.0042], \"textposition\": \"outside\", \"x\": [0.046855463134302285, 0.03691371427803351, 0.03626477776859658, 0.01898647478788543, 0.015843166864070248, 0.015411242973153936, 0.015365771343497717, 0.015196916721267613, 0.014330342528058421, 0.014203682396948811, 0.014109949370157374, 0.013949298111853949, 0.013363497160359995, 0.013317303162791193, 0.01249502842796938, 0.012028790838658555, 0.012011490995410901, 0.0118349084864198, 0.011765239895332182, 0.011535926995063504, 0.011531164712093565, 0.011071690999081205, 0.010799791247807755, 0.010571528075292701, 0.010405044360367108, 0.010299930492887726, 0.010298251751179687, 0.009966034607749528, 0.00994506830887902, 0.009800141925610515, 0.009715754521693735, 0.009497373762310466, 0.009453130266837442, 0.00945250094867697, 0.00927343639556838, 0.009215729660703968, 0.009162781212066283, 0.009160867608884397, 0.009061174160150084, 0.009042799972530819, 0.0089870875964482, 0.008875219426795413, 0.008778615133742054, 0.008739982284282742, 0.00854532623387525, 0.008453818512532286, 0.008423975588912806, 0.008414686861587384, 0.00834737797837014, 0.008079694699349257, 0.00807902005931659, 0.008035898736560089, 0.007804533588449025, 0.007752108168964822, 0.007735037950030443, 0.007669771320878494, 0.007585211365485273, 0.007526199370661295, 0.007506822815987104, 0.007501073857587751, 0.007483930485464913, 0.00725935854019564, 0.007007423834473368, 0.007003956320871838, 0.006936709163458903, 0.006853558839240336, 0.006665930142535025, 0.006626924368112854, 0.006582639523451278, 0.006445293690850733, 0.006421623640903944, 0.006356079527352828, 0.006322870841802149, 0.006321248771318223, 0.006236497042292996, 0.00617633278951102, 0.006157461573126358, 0.005959108059549563, 0.00587603246358645, 0.005845161103586725, 0.005842868705996105, 0.00582520918903853, 0.0057638813273824824, 0.005620762380295889, 0.005610154144809094, 0.005573034805183695, 0.005562540736271424, 0.00554945857904163, 0.005546273336674662, 0.005457141368117649, 0.005380047490881212, 0.005373508340219521, 0.005288020982349594, 0.005241142421514885, 0.005113098237877051, 0.004997314895677913, 0.004916462102068939, 0.004916085120855992, 0.004871837533401263, 0.004849952572149739, 0.004808414521343786, 0.004764234470761996, 0.004740296495574091, 0.004699774238788136, 0.004643752370658563, 0.004601658071333829, 0.0045375785419433995, 0.004432692800186651, 0.004373694876082725, 0.004212325841815418], \"y\": [\"3\", \"0\", \"8\", \"4\", \"82\", \"75\", \"1\", \"51\", \"90\", \"57\", \"14\", \"36\", \"65\", \"50\", \"67\", \"66\", \"71\", \"63\", \"7\", \"27\", \"68\", \"94\", \"89\", \"81\", \"44\", \"43\", \"62\", \"13\", \"70\", \"12\", \"9\", \"80\", \"53\", \"47\", \"16\", \"86\", \"21\", \"92\", \"5\", \"2\", \"45\", \"54\", \"42\", \"28\", \"61\", \"73\", \"6\", \"79\", \"41\", \"20\", \"59\", \"37\", \"88\", \"35\", \"85\", \"72\", \"10\", \"33\", \"52\", \"60\", \"25\", \"83\", \"46\", \"19\", \"101\", \"77\", \"55\", \"103\", \"18\", \"76\", \"91\", \"93\", \"31\", \"48\", \"56\", \"29\", \"24\", \"69\", \"58\", \"38\", \"17\", \"64\", \"74\", \"39\", \"23\", \"30\", \"49\", \"87\", \"106\", \"15\", \"100\", \"22\", \"11\", \"107\", \"32\", \"108\", \"102\", \"40\", \"97\", \"84\", \"95\", \"96\", \"34\", \"78\", \"26\", \"109\", \"99\", \"105\", \"104\", \"98\"], \"type\": \"bar\", \"uid\": \"42cc1176-a03c-4e03-9053-22a9bc1d3e83\"}], {\"autosize\": false, \"height\": 1000, \"width\": 1000, \"xaxis\": {\"tickfont\": {\"color\": \"black\", \"size\": 12}, \"title\": \"Feature Importances\"}, \"yaxis\": {\"automargin\": true}}, {\"showLink\": true, \"linkText\": \"Export to plot.ly\", \"plotlyServerURL\": \"https://plot.ly\"})});</script>"
      ]
     },
     "metadata": {},
     "output_type": "display_data"
    },
    {
     "name": "stdout",
     "output_type": "stream",
     "text": [
      "\n",
      "\n",
      "\u001b[1mBagging Classifier\u001b[0m\n",
      "Accuracy of the model for training data is: 0.9930054978619426\n",
      "Confusion Matrix for training data is:\n"
     ]
    },
    {
     "data": {
      "text/plain": [
       "Predicted  False  True  __all__\n",
       "Actual                         \n",
       "False      27900     7    27907\n",
       "True         222  4611     4833\n",
       "__all__    28122  4618    32740"
      ]
     },
     "metadata": {},
     "output_type": "display_data"
    },
    {
     "name": "stdout",
     "output_type": "stream",
     "text": [
      "Accuracy of the model for test data is: 0.9481148884612643\n",
      "Confusion Matrix for test data is:\n"
     ]
    },
    {
     "data": {
      "text/plain": [
       "Predicted  False  True  __all__\n",
       "Actual                         \n",
       "False      11808   162    11970\n",
       "True         566  1495     2061\n",
       "__all__    12374  1657    14031"
      ]
     },
     "metadata": {},
     "output_type": "display_data"
    },
    {
     "name": "stdout",
     "output_type": "stream",
     "text": [
      "\n",
      "\n",
      "\u001b[1mNeural Network-1\u001b[0m\n",
      "The accuracy of the model on training data is: 0.9989920586438608\n"
     ]
    },
    {
     "data": {
      "text/plain": [
       "Predicted  False  True  __all__\n",
       "Actual                         \n",
       "False      27890    17    27907\n",
       "True          16  4817     4833\n",
       "__all__    27906  4834    32740"
      ]
     },
     "metadata": {},
     "output_type": "display_data"
    },
    {
     "name": "stdout",
     "output_type": "stream",
     "text": [
      "The accuracy of the model on test data is: 0.9549568811916471\n"
     ]
    },
    {
     "data": {
      "text/plain": [
       "Predicted  False  True  __all__\n",
       "Actual                         \n",
       "False      11717   253    11970\n",
       "True         379  1682     2061\n",
       "__all__    12096  1935    14031"
      ]
     },
     "metadata": {},
     "output_type": "display_data"
    },
    {
     "name": "stdout",
     "output_type": "stream",
     "text": [
      "\n",
      "\n"
     ]
    }
   ],
   "source": [
    "feat_imp=[None]*4\n",
    "j=0\n",
    "for i in range(0,8):\n",
    "    if i>=2 and i<=5:\n",
    "        model,cm_train,cm_test,acc_train,acc_test,roc_auc,feat_imp[j],mcc=f[i](X_train,Y_train,X_test,Y_test,np.arange(0,110).astype(str))\n",
    "        j=j+1\n",
    "    else:\n",
    "        model,cm_train,cm_test,acc_train,acc_test,roc_auc,mcc=f[i](X_train,Y_train,X_test,Y_test)\n",
    "    table_80_70_train.loc[i]=   ([acc_train,cm_train.TP,cm_train.TN,cm_train.FP,cm_train.FN,cm_train.FPR,cm_train.FNR])\n",
    "    table_80_70_test.loc[i] =   ([acc_test ,cm_test.TP, cm_test.TN, cm_test.FP, cm_test.FN, cm_test.FPR, cm_test.FNR,roc_auc,mcc])\n",
    "    print(\"\\n\")"
   ]
  },
  {
   "cell_type": "markdown",
   "metadata": {},
   "source": [
    "### <a id='5.A' style=\"text-decoration : none; color : #000000;\"> A. Results</a>"
   ]
  },
  {
   "cell_type": "code",
   "execution_count": 72,
   "metadata": {},
   "outputs": [
    {
     "data": {
      "application/vnd.plotly.v1+json": {
       "config": {
        "linkText": "Export to plot.ly",
        "plotlyServerURL": "https://plot.ly",
        "showLink": true
       },
       "data": [
        {
         "mode": "lines",
         "name": "KNN_model",
         "type": "scatter",
         "uid": "e4c32c3b-795a-4fe4-871a-4636a804931a",
         "x": [
          "accuracy",
          "FPR",
          "FNR",
          "auc"
         ],
         "y": [
          0.9394911267906778,
          0.0011695906432748538,
          0.4051431344007763,
          0.7968436374779745
         ]
        },
        {
         "mode": "lines+markers",
         "name": "Logistic Regression",
         "type": "scatter",
         "uid": "5a13c964-ede1-4a75-bdc3-23289721657f",
         "x": [
          "accuracy",
          "FPR",
          "FNR",
          "auc"
         ],
         "y": [
          0.9560972133133775,
          0.012364243943191312,
          0.22707423580786026,
          0.8802807601244742
         ]
        },
        {
         "marker": {
          "symbol": "x"
         },
         "mode": "lines+markers",
         "name": "Random Forest",
         "type": "scatter",
         "uid": "816b5fb4-6f33-4294-abcf-649368c767b8",
         "x": [
          "accuracy",
          "FPR",
          "FNR",
          "auc"
         ],
         "y": [
          0.9416292495189224,
          0.012698412698412698,
          0.32362930616205726,
          0.8318361405697652
         ]
        },
        {
         "mode": "lines",
         "name": "Ada Boost",
         "type": "scatter",
         "uid": "cbb0dd96-1091-4a40-a46d-f4f2fc73fb49",
         "x": [
          "accuracy",
          "FPR",
          "FNR",
          "auc"
         ],
         "y": [
          0.9452640581569383,
          0.017627401837928155,
          0.2702571567200388,
          0.8560577207210167
         ]
        },
        {
         "mode": "lines+markers",
         "name": "GradientBoosting",
         "type": "scatter",
         "uid": "f8e737e8-3cc3-4c91-b5cb-ab3912cff8c2",
         "x": [
          "accuracy",
          "FPR",
          "FNR",
          "auc"
         ],
         "y": [
          0.9531751122514432,
          0.012280701754385965,
          0.24745269286754004,
          0.870133302689037
         ]
        },
        {
         "marker": {
          "symbol": "x"
         },
         "mode": "lines+markers",
         "name": "ExtraTree Classifier",
         "type": "scatter",
         "uid": "4078d88d-67f7-44f7-a1cd-9d6b46ffeebb",
         "x": [
          "accuracy",
          "FPR",
          "FNR",
          "auc"
         ],
         "y": [
          0.9342170907276744,
          0.007685881370091897,
          0.4032023289665211,
          0.7945558948316935
         ]
        },
        {
         "marker": {
          "symbol": "x"
         },
         "mode": "lines+markers",
         "name": "Bagging",
         "type": "scatter",
         "uid": "7c76ace8-213b-46f3-a017-6775fee235ea",
         "x": [
          "accuracy",
          "FPR",
          "FNR",
          "auc"
         ],
         "y": [
          0.9481148884612643,
          0.013533834586466165,
          0.27462396894711305,
          0.8559210982332104
         ]
        },
        {
         "marker": {
          "symbol": "x"
         },
         "mode": "lines+markers",
         "name": "Neural Network",
         "type": "scatter",
         "uid": "97842a48-143e-4fdc-b8be-efd88a4a91e0",
         "x": [
          "accuracy",
          "FPR",
          "FNR",
          "auc"
         ],
         "y": [
          0.9549568811916471,
          0.021136173767752717,
          0.1838913148956817,
          0.8974862556682829
         ]
        }
       ],
       "layout": {
        "title": "Result comparision for Features selected in Section 1",
        "yaxis": {
         "dtick": 0.05,
         "tick0": 0
        }
       }
      },
      "text/html": [
       "<div id=\"603cf3a8-e904-4fad-ab0c-975ddce45385\" style=\"height: 525px; width: 100%;\" class=\"plotly-graph-div\"></div><script type=\"text/javascript\">require([\"plotly\"], function(Plotly) { window.PLOTLYENV=window.PLOTLYENV || {};window.PLOTLYENV.BASE_URL=\"https://plot.ly\";Plotly.newPlot(\"603cf3a8-e904-4fad-ab0c-975ddce45385\", [{\"mode\": \"lines\", \"name\": \"KNN_model\", \"x\": [\"accuracy\", \"FPR\", \"FNR\", \"auc\"], \"y\": [0.9394911267906778, 0.0011695906432748538, 0.4051431344007763, 0.7968436374779745], \"type\": \"scatter\", \"uid\": \"e4c32c3b-795a-4fe4-871a-4636a804931a\"}, {\"mode\": \"lines+markers\", \"name\": \"Logistic Regression\", \"x\": [\"accuracy\", \"FPR\", \"FNR\", \"auc\"], \"y\": [0.9560972133133775, 0.012364243943191312, 0.22707423580786026, 0.8802807601244742], \"type\": \"scatter\", \"uid\": \"5a13c964-ede1-4a75-bdc3-23289721657f\"}, {\"marker\": {\"symbol\": \"x\"}, \"mode\": \"lines+markers\", \"name\": \"Random Forest\", \"x\": [\"accuracy\", \"FPR\", \"FNR\", \"auc\"], \"y\": [0.9416292495189224, 0.012698412698412698, 0.32362930616205726, 0.8318361405697652], \"type\": \"scatter\", \"uid\": \"816b5fb4-6f33-4294-abcf-649368c767b8\"}, {\"mode\": \"lines\", \"name\": \"Ada Boost\", \"x\": [\"accuracy\", \"FPR\", \"FNR\", \"auc\"], \"y\": [0.9452640581569383, 0.017627401837928155, 0.2702571567200388, 0.8560577207210167], \"type\": \"scatter\", \"uid\": \"cbb0dd96-1091-4a40-a46d-f4f2fc73fb49\"}, {\"mode\": \"lines+markers\", \"name\": \"GradientBoosting\", \"x\": [\"accuracy\", \"FPR\", \"FNR\", \"auc\"], \"y\": [0.9531751122514432, 0.012280701754385965, 0.24745269286754004, 0.870133302689037], \"type\": \"scatter\", \"uid\": \"f8e737e8-3cc3-4c91-b5cb-ab3912cff8c2\"}, {\"marker\": {\"symbol\": \"x\"}, \"mode\": \"lines+markers\", \"name\": \"ExtraTree Classifier\", \"x\": [\"accuracy\", \"FPR\", \"FNR\", \"auc\"], \"y\": [0.9342170907276744, 0.007685881370091897, 0.4032023289665211, 0.7945558948316935], \"type\": \"scatter\", \"uid\": \"4078d88d-67f7-44f7-a1cd-9d6b46ffeebb\"}, {\"marker\": {\"symbol\": \"x\"}, \"mode\": \"lines+markers\", \"name\": \"Bagging\", \"x\": [\"accuracy\", \"FPR\", \"FNR\", \"auc\"], \"y\": [0.9481148884612643, 0.013533834586466165, 0.27462396894711305, 0.8559210982332104], \"type\": \"scatter\", \"uid\": \"7c76ace8-213b-46f3-a017-6775fee235ea\"}, {\"marker\": {\"symbol\": \"x\"}, \"mode\": \"lines+markers\", \"name\": \"Neural Network\", \"x\": [\"accuracy\", \"FPR\", \"FNR\", \"auc\"], \"y\": [0.9549568811916471, 0.021136173767752717, 0.1838913148956817, 0.8974862556682829], \"type\": \"scatter\", \"uid\": \"97842a48-143e-4fdc-b8be-efd88a4a91e0\"}], {\"title\": \"Result comparision for Features selected in Section 1\", \"yaxis\": {\"dtick\": 0.05, \"tick0\": 0}}, {\"showLink\": true, \"linkText\": \"Export to plot.ly\", \"plotlyServerURL\": \"https://plot.ly\"})});</script><script type=\"text/javascript\">window.addEventListener(\"resize\", function(){window._Plotly.Plots.resize(document.getElementById(\"603cf3a8-e904-4fad-ab0c-975ddce45385\"));});</script>"
      ],
      "text/vnd.plotly.v1+html": [
       "<div id=\"603cf3a8-e904-4fad-ab0c-975ddce45385\" style=\"height: 525px; width: 100%;\" class=\"plotly-graph-div\"></div><script type=\"text/javascript\">require([\"plotly\"], function(Plotly) { window.PLOTLYENV=window.PLOTLYENV || {};window.PLOTLYENV.BASE_URL=\"https://plot.ly\";Plotly.newPlot(\"603cf3a8-e904-4fad-ab0c-975ddce45385\", [{\"mode\": \"lines\", \"name\": \"KNN_model\", \"x\": [\"accuracy\", \"FPR\", \"FNR\", \"auc\"], \"y\": [0.9394911267906778, 0.0011695906432748538, 0.4051431344007763, 0.7968436374779745], \"type\": \"scatter\", \"uid\": \"e4c32c3b-795a-4fe4-871a-4636a804931a\"}, {\"mode\": \"lines+markers\", \"name\": \"Logistic Regression\", \"x\": [\"accuracy\", \"FPR\", \"FNR\", \"auc\"], \"y\": [0.9560972133133775, 0.012364243943191312, 0.22707423580786026, 0.8802807601244742], \"type\": \"scatter\", \"uid\": \"5a13c964-ede1-4a75-bdc3-23289721657f\"}, {\"marker\": {\"symbol\": \"x\"}, \"mode\": \"lines+markers\", \"name\": \"Random Forest\", \"x\": [\"accuracy\", \"FPR\", \"FNR\", \"auc\"], \"y\": [0.9416292495189224, 0.012698412698412698, 0.32362930616205726, 0.8318361405697652], \"type\": \"scatter\", \"uid\": \"816b5fb4-6f33-4294-abcf-649368c767b8\"}, {\"mode\": \"lines\", \"name\": \"Ada Boost\", \"x\": [\"accuracy\", \"FPR\", \"FNR\", \"auc\"], \"y\": [0.9452640581569383, 0.017627401837928155, 0.2702571567200388, 0.8560577207210167], \"type\": \"scatter\", \"uid\": \"cbb0dd96-1091-4a40-a46d-f4f2fc73fb49\"}, {\"mode\": \"lines+markers\", \"name\": \"GradientBoosting\", \"x\": [\"accuracy\", \"FPR\", \"FNR\", \"auc\"], \"y\": [0.9531751122514432, 0.012280701754385965, 0.24745269286754004, 0.870133302689037], \"type\": \"scatter\", \"uid\": \"f8e737e8-3cc3-4c91-b5cb-ab3912cff8c2\"}, {\"marker\": {\"symbol\": \"x\"}, \"mode\": \"lines+markers\", \"name\": \"ExtraTree Classifier\", \"x\": [\"accuracy\", \"FPR\", \"FNR\", \"auc\"], \"y\": [0.9342170907276744, 0.007685881370091897, 0.4032023289665211, 0.7945558948316935], \"type\": \"scatter\", \"uid\": \"4078d88d-67f7-44f7-a1cd-9d6b46ffeebb\"}, {\"marker\": {\"symbol\": \"x\"}, \"mode\": \"lines+markers\", \"name\": \"Bagging\", \"x\": [\"accuracy\", \"FPR\", \"FNR\", \"auc\"], \"y\": [0.9481148884612643, 0.013533834586466165, 0.27462396894711305, 0.8559210982332104], \"type\": \"scatter\", \"uid\": \"7c76ace8-213b-46f3-a017-6775fee235ea\"}, {\"marker\": {\"symbol\": \"x\"}, \"mode\": \"lines+markers\", \"name\": \"Neural Network\", \"x\": [\"accuracy\", \"FPR\", \"FNR\", \"auc\"], \"y\": [0.9549568811916471, 0.021136173767752717, 0.1838913148956817, 0.8974862556682829], \"type\": \"scatter\", \"uid\": \"97842a48-143e-4fdc-b8be-efd88a4a91e0\"}], {\"title\": \"Result comparision for Features selected in Section 1\", \"yaxis\": {\"dtick\": 0.05, \"tick0\": 0}}, {\"showLink\": true, \"linkText\": \"Export to plot.ly\", \"plotlyServerURL\": \"https://plot.ly\"})});</script><script type=\"text/javascript\">window.addEventListener(\"resize\", function(){window._Plotly.Plots.resize(document.getElementById(\"603cf3a8-e904-4fad-ab0c-975ddce45385\"));});</script>"
      ]
     },
     "metadata": {},
     "output_type": "display_data"
    }
   ],
   "source": [
    "trace0 = go.Scatter(x=table_80_70_test.iloc[0].index.values[[0,5,6,7]],\n",
    "                    y=table_80_70_test.iloc[0].values[[0,5,6,7]],\n",
    "                    mode = 'lines',\n",
    "                    name = 'KNN_model')\n",
    "\n",
    "trace1 = go.Scatter(x=table_80_70_test.iloc[1].index.values[[0,5,6,7]],\n",
    "                    y=table_80_70_test.iloc[1].values[[0,5,6,7]],\n",
    "                    mode = 'lines+markers',\n",
    "                    name = 'Logistic Regression')\n",
    "\n",
    "trace2 = go.Scatter(x=table_80_70_test.iloc[2].index.values[[0,5,6,7]],\n",
    "                    y=table_80_70_test.iloc[2].values[[0,5,6,7]],\n",
    "                    mode = 'lines+markers',marker=dict(symbol='x'),\n",
    "                    name = 'Random Forest')\n",
    "\n",
    "\n",
    "trace3 = go.Scatter(x=table_80_70_test.iloc[3].index.values[[0,5,6,7]],\n",
    "                    y=table_80_70_test.iloc[3].values[[0,5,6,7]],\n",
    "                    mode = 'lines',\n",
    "                    name = 'Ada Boost')\n",
    "\n",
    "trace4 = go.Scatter(x=table_80_70_test.iloc[4].index.values[[0,5,6,7]],\n",
    "                    y=table_80_70_test.iloc[4].values[[0,5,6,7]],\n",
    "                    mode = 'lines+markers',\n",
    "                    name = 'GradientBoosting')\n",
    "\n",
    "trace5 = go.Scatter(x=table_80_70_test.iloc[5].index.values[[0,5,6,7]],\n",
    "                    y=table_80_70_test.iloc[5].values[[0,5,6,7]],\n",
    "                    mode = 'lines+markers',marker=dict(symbol='x'),\n",
    "                    name = 'ExtraTree Classifier')\n",
    "\n",
    "trace6 = go.Scatter(x=table_80_70_test.iloc[6].index.values[[0,5,6,7]],\n",
    "                    y=table_80_70_test.iloc[6].values[[0,5,6,7]],\n",
    "                    mode = 'lines+markers',marker=dict(symbol='x'),\n",
    "                    name = 'Bagging')\n",
    "\n",
    "trace7 = go.Scatter(x=table_80_70_test.iloc[7].index.values[[0,5,6,7]],\n",
    "                    y=table_80_70_test.iloc[7].values[[0,5,6,7]],\n",
    "                    mode = 'lines+markers',marker=dict(symbol='x'),\n",
    "                    name = 'Neural Network')\n",
    "\n",
    "\n",
    "\n",
    "data = [trace0, trace1, trace2, trace3, trace4, trace5, trace6, trace7]\n",
    "layout = go.Layout(yaxis=dict(tick0=0,dtick=0.05),title='Result comparision for Features selected in Section 1')\n",
    "fig = go.Figure(data=data, layout=layout)\n",
    "\n",
    "iplot(fig, filename='Result')"
   ]
  },
  {
   "cell_type": "code",
   "execution_count": 73,
   "metadata": {},
   "outputs": [
    {
     "name": "stdout",
     "output_type": "stream",
     "text": [
      "Training Results\n"
     ]
    },
    {
     "data": {
      "text/html": [
       "<div>\n",
       "<style scoped>\n",
       "    .dataframe tbody tr th:only-of-type {\n",
       "        vertical-align: middle;\n",
       "    }\n",
       "\n",
       "    .dataframe tbody tr th {\n",
       "        vertical-align: top;\n",
       "    }\n",
       "\n",
       "    .dataframe thead th {\n",
       "        text-align: right;\n",
       "    }\n",
       "</style>\n",
       "<table border=\"1\" class=\"dataframe\">\n",
       "  <thead>\n",
       "    <tr style=\"text-align: right;\">\n",
       "      <th></th>\n",
       "      <th>accuracy</th>\n",
       "      <th>TP</th>\n",
       "      <th>TN</th>\n",
       "      <th>FP</th>\n",
       "      <th>FN</th>\n",
       "      <th>FPR</th>\n",
       "      <th>FNR</th>\n",
       "    </tr>\n",
       "    <tr>\n",
       "      <th>index</th>\n",
       "      <th></th>\n",
       "      <th></th>\n",
       "      <th></th>\n",
       "      <th></th>\n",
       "      <th></th>\n",
       "      <th></th>\n",
       "      <th></th>\n",
       "    </tr>\n",
       "  </thead>\n",
       "  <tbody>\n",
       "    <tr>\n",
       "      <th>KNeighborsClassifier</th>\n",
       "      <td>0.948198</td>\n",
       "      <td>3168.0</td>\n",
       "      <td>27876.0</td>\n",
       "      <td>31.0</td>\n",
       "      <td>1665.0</td>\n",
       "      <td>0.001111</td>\n",
       "      <td>0.344507</td>\n",
       "    </tr>\n",
       "    <tr>\n",
       "      <th>LogisticRegression</th>\n",
       "      <td>0.954826</td>\n",
       "      <td>3722.0</td>\n",
       "      <td>27539.0</td>\n",
       "      <td>368.0</td>\n",
       "      <td>1111.0</td>\n",
       "      <td>0.013187</td>\n",
       "      <td>0.229878</td>\n",
       "    </tr>\n",
       "    <tr>\n",
       "      <th>RandomForestClassifier</th>\n",
       "      <td>0.993464</td>\n",
       "      <td>4622.0</td>\n",
       "      <td>27904.0</td>\n",
       "      <td>3.0</td>\n",
       "      <td>211.0</td>\n",
       "      <td>0.000107</td>\n",
       "      <td>0.043658</td>\n",
       "    </tr>\n",
       "    <tr>\n",
       "      <th>AdaBoostClassifier</th>\n",
       "      <td>0.943800</td>\n",
       "      <td>3502.0</td>\n",
       "      <td>27398.0</td>\n",
       "      <td>509.0</td>\n",
       "      <td>1331.0</td>\n",
       "      <td>0.018239</td>\n",
       "      <td>0.275398</td>\n",
       "    </tr>\n",
       "    <tr>\n",
       "      <th>GradientBoostingClassifier</th>\n",
       "      <td>0.956903</td>\n",
       "      <td>3661.0</td>\n",
       "      <td>27668.0</td>\n",
       "      <td>239.0</td>\n",
       "      <td>1172.0</td>\n",
       "      <td>0.008564</td>\n",
       "      <td>0.242499</td>\n",
       "    </tr>\n",
       "    <tr>\n",
       "      <th>ExtraTreeClassifier</th>\n",
       "      <td>1.000000</td>\n",
       "      <td>4833.0</td>\n",
       "      <td>27907.0</td>\n",
       "      <td>0.0</td>\n",
       "      <td>0.0</td>\n",
       "      <td>0.000000</td>\n",
       "      <td>0.000000</td>\n",
       "    </tr>\n",
       "    <tr>\n",
       "      <th>BaggingClassifier</th>\n",
       "      <td>0.993005</td>\n",
       "      <td>4611.0</td>\n",
       "      <td>27900.0</td>\n",
       "      <td>7.0</td>\n",
       "      <td>222.0</td>\n",
       "      <td>0.000251</td>\n",
       "      <td>0.045934</td>\n",
       "    </tr>\n",
       "    <tr>\n",
       "      <th>Neural Network-1</th>\n",
       "      <td>0.998992</td>\n",
       "      <td>4817.0</td>\n",
       "      <td>27890.0</td>\n",
       "      <td>17.0</td>\n",
       "      <td>16.0</td>\n",
       "      <td>0.000609</td>\n",
       "      <td>0.003311</td>\n",
       "    </tr>\n",
       "  </tbody>\n",
       "</table>\n",
       "</div>"
      ],
      "text/plain": [
       "                            accuracy      TP       TN     FP      FN  \\\n",
       "index                                                                  \n",
       "KNeighborsClassifier        0.948198  3168.0  27876.0   31.0  1665.0   \n",
       "LogisticRegression          0.954826  3722.0  27539.0  368.0  1111.0   \n",
       "RandomForestClassifier      0.993464  4622.0  27904.0    3.0   211.0   \n",
       "AdaBoostClassifier          0.943800  3502.0  27398.0  509.0  1331.0   \n",
       "GradientBoostingClassifier  0.956903  3661.0  27668.0  239.0  1172.0   \n",
       "ExtraTreeClassifier         1.000000  4833.0  27907.0    0.0     0.0   \n",
       "BaggingClassifier           0.993005  4611.0  27900.0    7.0   222.0   \n",
       "Neural Network-1            0.998992  4817.0  27890.0   17.0    16.0   \n",
       "\n",
       "                                 FPR       FNR  \n",
       "index                                           \n",
       "KNeighborsClassifier        0.001111  0.344507  \n",
       "LogisticRegression          0.013187  0.229878  \n",
       "RandomForestClassifier      0.000107  0.043658  \n",
       "AdaBoostClassifier          0.018239  0.275398  \n",
       "GradientBoostingClassifier  0.008564  0.242499  \n",
       "ExtraTreeClassifier         0.000000  0.000000  \n",
       "BaggingClassifier           0.000251  0.045934  \n",
       "Neural Network-1            0.000609  0.003311  "
      ]
     },
     "metadata": {},
     "output_type": "display_data"
    },
    {
     "name": "stdout",
     "output_type": "stream",
     "text": [
      "Test Results\n"
     ]
    },
    {
     "data": {
      "text/html": [
       "<div>\n",
       "<style scoped>\n",
       "    .dataframe tbody tr th:only-of-type {\n",
       "        vertical-align: middle;\n",
       "    }\n",
       "\n",
       "    .dataframe tbody tr th {\n",
       "        vertical-align: top;\n",
       "    }\n",
       "\n",
       "    .dataframe thead th {\n",
       "        text-align: right;\n",
       "    }\n",
       "</style>\n",
       "<table border=\"1\" class=\"dataframe\">\n",
       "  <thead>\n",
       "    <tr style=\"text-align: right;\">\n",
       "      <th></th>\n",
       "      <th>accuracy</th>\n",
       "      <th>TP</th>\n",
       "      <th>TN</th>\n",
       "      <th>FP</th>\n",
       "      <th>FN</th>\n",
       "      <th>FPR</th>\n",
       "      <th>FNR</th>\n",
       "      <th>auc</th>\n",
       "      <th>mcc</th>\n",
       "    </tr>\n",
       "    <tr>\n",
       "      <th>index</th>\n",
       "      <th></th>\n",
       "      <th></th>\n",
       "      <th></th>\n",
       "      <th></th>\n",
       "      <th></th>\n",
       "      <th></th>\n",
       "      <th></th>\n",
       "      <th></th>\n",
       "      <th></th>\n",
       "    </tr>\n",
       "  </thead>\n",
       "  <tbody>\n",
       "    <tr>\n",
       "      <th>KNeighborsClassifier</th>\n",
       "      <td>0.939491</td>\n",
       "      <td>1226.0</td>\n",
       "      <td>11956.0</td>\n",
       "      <td>14.0</td>\n",
       "      <td>835.0</td>\n",
       "      <td>0.001170</td>\n",
       "      <td>0.405143</td>\n",
       "      <td>0.796844</td>\n",
       "      <td>0.740424</td>\n",
       "    </tr>\n",
       "    <tr>\n",
       "      <th>LogisticRegression</th>\n",
       "      <td>0.956097</td>\n",
       "      <td>1593.0</td>\n",
       "      <td>11822.0</td>\n",
       "      <td>148.0</td>\n",
       "      <td>468.0</td>\n",
       "      <td>0.012364</td>\n",
       "      <td>0.227074</td>\n",
       "      <td>0.880281</td>\n",
       "      <td>0.816667</td>\n",
       "    </tr>\n",
       "    <tr>\n",
       "      <th>RandomForestClassifier</th>\n",
       "      <td>0.941629</td>\n",
       "      <td>1394.0</td>\n",
       "      <td>11818.0</td>\n",
       "      <td>152.0</td>\n",
       "      <td>667.0</td>\n",
       "      <td>0.012698</td>\n",
       "      <td>0.323629</td>\n",
       "      <td>0.831836</td>\n",
       "      <td>0.750310</td>\n",
       "    </tr>\n",
       "    <tr>\n",
       "      <th>AdaBoostClassifier</th>\n",
       "      <td>0.945264</td>\n",
       "      <td>1504.0</td>\n",
       "      <td>11759.0</td>\n",
       "      <td>211.0</td>\n",
       "      <td>557.0</td>\n",
       "      <td>0.017627</td>\n",
       "      <td>0.270257</td>\n",
       "      <td>0.856058</td>\n",
       "      <td>0.769608</td>\n",
       "    </tr>\n",
       "    <tr>\n",
       "      <th>GradientBoostingClassifier</th>\n",
       "      <td>0.953175</td>\n",
       "      <td>1551.0</td>\n",
       "      <td>11823.0</td>\n",
       "      <td>147.0</td>\n",
       "      <td>510.0</td>\n",
       "      <td>0.012281</td>\n",
       "      <td>0.247453</td>\n",
       "      <td>0.870133</td>\n",
       "      <td>0.803473</td>\n",
       "    </tr>\n",
       "    <tr>\n",
       "      <th>ExtraTreeClassifier</th>\n",
       "      <td>0.934217</td>\n",
       "      <td>1230.0</td>\n",
       "      <td>11878.0</td>\n",
       "      <td>92.0</td>\n",
       "      <td>831.0</td>\n",
       "      <td>0.007686</td>\n",
       "      <td>0.403202</td>\n",
       "      <td>0.794556</td>\n",
       "      <td>0.713859</td>\n",
       "    </tr>\n",
       "    <tr>\n",
       "      <th>BaggingClassifier</th>\n",
       "      <td>0.948115</td>\n",
       "      <td>1495.0</td>\n",
       "      <td>11808.0</td>\n",
       "      <td>162.0</td>\n",
       "      <td>566.0</td>\n",
       "      <td>0.013534</td>\n",
       "      <td>0.274624</td>\n",
       "      <td>0.855921</td>\n",
       "      <td>0.780825</td>\n",
       "    </tr>\n",
       "    <tr>\n",
       "      <th>Neural Network-1</th>\n",
       "      <td>0.954957</td>\n",
       "      <td>1682.0</td>\n",
       "      <td>11717.0</td>\n",
       "      <td>253.0</td>\n",
       "      <td>379.0</td>\n",
       "      <td>0.021136</td>\n",
       "      <td>0.183891</td>\n",
       "      <td>0.897486</td>\n",
       "      <td>0.816163</td>\n",
       "    </tr>\n",
       "  </tbody>\n",
       "</table>\n",
       "</div>"
      ],
      "text/plain": [
       "                            accuracy      TP       TN     FP     FN       FPR  \\\n",
       "index                                                                           \n",
       "KNeighborsClassifier        0.939491  1226.0  11956.0   14.0  835.0  0.001170   \n",
       "LogisticRegression          0.956097  1593.0  11822.0  148.0  468.0  0.012364   \n",
       "RandomForestClassifier      0.941629  1394.0  11818.0  152.0  667.0  0.012698   \n",
       "AdaBoostClassifier          0.945264  1504.0  11759.0  211.0  557.0  0.017627   \n",
       "GradientBoostingClassifier  0.953175  1551.0  11823.0  147.0  510.0  0.012281   \n",
       "ExtraTreeClassifier         0.934217  1230.0  11878.0   92.0  831.0  0.007686   \n",
       "BaggingClassifier           0.948115  1495.0  11808.0  162.0  566.0  0.013534   \n",
       "Neural Network-1            0.954957  1682.0  11717.0  253.0  379.0  0.021136   \n",
       "\n",
       "                                 FNR       auc       mcc  \n",
       "index                                                     \n",
       "KNeighborsClassifier        0.405143  0.796844  0.740424  \n",
       "LogisticRegression          0.227074  0.880281  0.816667  \n",
       "RandomForestClassifier      0.323629  0.831836  0.750310  \n",
       "AdaBoostClassifier          0.270257  0.856058  0.769608  \n",
       "GradientBoostingClassifier  0.247453  0.870133  0.803473  \n",
       "ExtraTreeClassifier         0.403202  0.794556  0.713859  \n",
       "BaggingClassifier           0.274624  0.855921  0.780825  \n",
       "Neural Network-1            0.183891  0.897486  0.816163  "
      ]
     },
     "metadata": {},
     "output_type": "display_data"
    }
   ],
   "source": [
    "table_80_70_train['index']=ind_columns\n",
    "table_80_70_test['index']=ind_columns\n",
    "\n",
    "\n",
    "table_80_70_test.set_index(['index'],drop=True,inplace=True)\n",
    "table_80_70_train.set_index(['index'],drop=True,inplace=True)\n",
    "\n",
    "print(\"Training Results\")\n",
    "display(table_80_70_train)\n",
    "print(\"Test Results\")\n",
    "display(table_80_70_test)"
   ]
  },
  {
   "cell_type": "code",
   "execution_count": 74,
   "metadata": {},
   "outputs": [
    {
     "data": {
      "text/html": [
       "<script>\n",
       "code_show=true; \n",
       "function code_toggle() {\n",
       " if (code_show){\n",
       " $('div.input').hide();\n",
       " } else {\n",
       " $('div.input').show();\n",
       " }\n",
       " code_show = !code_show\n",
       "} \n",
       "$( document ).ready(code_toggle);\n",
       "</script>\n",
       "To toggle code, click <a href=\"javascript:code_toggle()\">here</a>."
      ],
      "text/plain": [
       "<IPython.core.display.HTML object>"
      ]
     },
     "execution_count": 74,
     "metadata": {},
     "output_type": "execute_result"
    }
   ],
   "source": [
    "### Original Creator : Darshan Bhansali\n",
    "### HTML code to hide the input cells \n",
    "HTML('''<script>\n",
    "code_show=true; \n",
    "function code_toggle() {\n",
    " if (code_show){\n",
    " $('div.input').hide();\n",
    " } else {\n",
    " $('div.input').show();\n",
    " }\n",
    " code_show = !code_show\n",
    "} \n",
    "$( document ).ready(code_toggle);\n",
    "</script>\n",
    "To toggle code, click <a href=\"javascript:code_toggle()\">here</a>.''')"
   ]
  }
 ],
 "metadata": {
  "kernelspec": {
   "display_name": "Python 3",
   "language": "python",
   "name": "python3"
  },
  "language_info": {
   "codemirror_mode": {
    "name": "ipython",
    "version": 3
   },
   "file_extension": ".py",
   "mimetype": "text/x-python",
   "name": "python",
   "nbconvert_exporter": "python",
   "pygments_lexer": "ipython3",
   "version": "3.6.8"
  }
 },
 "nbformat": 4,
 "nbformat_minor": 2
}
