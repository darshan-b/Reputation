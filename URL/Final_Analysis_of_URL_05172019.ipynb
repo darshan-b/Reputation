{
 "cells": [
  {
   "cell_type": "markdown",
   "metadata": {},
   "source": [
    "***\n",
    "## Table of Contents\n",
    "<br>\n",
    "  <br>\n",
    "    <ol>\n",
    "        <h2><a href='#1' style=\"text-decoration : none; color : #000000;\">1. Initial Models</a></h2>\n",
    "        <ul>\n",
    "            <a href='#1.A' style=\"text-decoration : none; color : #000000;\"><h3>A. Results </h3></a>\n",
    "        </ul>\n",
    "        <ul>\n",
    "            <a href='#1.B' style=\"text-decoration : none; color : #000000;\"><h3>B. Average Feature Importance   </h3></a>\n",
    "        </ul>\n",
    "     </ol>\n",
    "     <br> \n",
    "\n",
    "<ol>\n",
    "        <h2><a href='#2' style=\"text-decoration : none; color : #000000;\">2. Oversampling </a></h2>\n",
    "        <ul>\n",
    "            <a href='#2.A' style=\"text-decoration : none; color : #000000;\"><h3>A. Results </h3></a>\n",
    "        </ul>\n",
    "        <ul>\n",
    "            <a href='#2.B' style=\"text-decoration : none; color : #000000;\"><h3>B. Average Feature Importance   </h3></a>\n",
    "        </ul>\n",
    "     </ol>\n",
    "     <br>\n",
    "     \n",
    " <ol>\n",
    "        <h2><a href='#3' style=\"text-decoration : none; color : #000000;\">3. Undersampling</a></h2>\n",
    "        <ul>\n",
    "            <a href='#3.A' style=\"text-decoration : none; color : #000000;\"><h3>A. Results </h3></a>\n",
    "        </ul>\n",
    "        <ul>\n",
    "            <a href='#3.B' style=\"text-decoration : none; color : #000000;\"><h3>B. Average Feature Importance   </h3></a>\n",
    "        </ul>\n",
    "     </ol>\n",
    "     <br>\n",
    "     \n",
    " <ol>\n",
    "        <h2><a href='#4' style=\"text-decoration : none; color : #000000;\">4.Feature Transformation with feature selection</a></h2>\n",
    "        <ul>\n",
    "            <a href='#4.A' style=\"text-decoration : none; color : #000000;\"><h3>A. Results </h3></a>\n",
    "        </ul>\n",
    "        <ul>\n",
    "            <a href='#4.B' style=\"text-decoration : none; color : #000000;\"><h3>B. Average Feature Importance   </h3></a>\n",
    "        </ul>\n",
    "     </ol>\n",
    "     <br>\n",
    "     \n",
    "     \n",
    " <ol>\n",
    "        <h2><a href='#5' style=\"text-decoration : none; color : #000000;\">5.Feature Transformation with PCA</a></h2>\n",
    "        <ul>\n",
    "            <a href='#5.A' style=\"text-decoration : none; color : #000000;\"><h3>A. Results </h3></a>\n",
    "        </ul>\n",
    "        <ul>\n",
    "            <a href='#5.B' style=\"text-decoration : none; color : #000000;\"><h3>B. Average Feature Importance   </h3></a>\n",
    "        </ul>\n",
    "     </ol>\n",
    "     <br>"
   ]
  },
  {
   "cell_type": "code",
   "execution_count": 27,
   "metadata": {},
   "outputs": [
    {
     "data": {
      "text/html": [
       "<script type=\"text/javascript\">window.PlotlyConfig = {MathJaxConfig: 'local'};</script><script type=\"text/javascript\">if (window.MathJax) {MathJax.Hub.Config({SVG: {font: \"STIX-Web\"}});}</script><script>requirejs.config({paths: { 'plotly': ['https://cdn.plot.ly/plotly-latest.min']},});if(!window._Plotly) {require(['plotly'],function(plotly) {window._Plotly=plotly;});}</script>"
      ],
      "text/vnd.plotly.v1+html": [
       "<script type=\"text/javascript\">window.PlotlyConfig = {MathJaxConfig: 'local'};</script><script type=\"text/javascript\">if (window.MathJax) {MathJax.Hub.Config({SVG: {font: \"STIX-Web\"}});}</script><script>requirejs.config({paths: { 'plotly': ['https://cdn.plot.ly/plotly-latest.min']},});if(!window._Plotly) {require(['plotly'],function(plotly) {window._Plotly=plotly;});}</script>"
      ]
     },
     "metadata": {},
     "output_type": "display_data"
    }
   ],
   "source": [
    "import pandas as pd\n",
    "import numpy as np\n",
    "import copy\n",
    "import matplotlib.pyplot as plt\n",
    "import seaborn as sns\n",
    "%matplotlib inline\n",
    "\n",
    "from IPython.display import display,clear_output,HTML\n",
    "import warnings\n",
    "warnings.filterwarnings(\"ignore\")\n",
    "\n",
    "import keras\n",
    "from keras.layers import Dense,Dropout\n",
    "from keras.models import Sequential\n",
    "warnings.simplefilter(\"ignore\", DeprecationWarning)\n",
    "import researchpy as rp\n",
    "\n",
    "%matplotlib inline\n",
    "pd.set_option('display.max_columns', 500)\n",
    "pd.set_option('display.max_rows',305)\n",
    "\n",
    "from sklearn.feature_selection import SelectKBest,chi2,RFE,RFECV,f_regression,SelectFromModel\n",
    "from sklearn.linear_model import LogisticRegression\n",
    "from sklearn.ensemble import ExtraTreesClassifier,RandomForestClassifier,GradientBoostingClassifier,AdaBoostClassifier,BaggingClassifier\n",
    "from sklearn.neighbors import KNeighborsClassifier\n",
    "from sklearn.model_selection import train_test_split,cross_val_score\n",
    "\n",
    "from sklearn.preprocessing import StandardScaler,MinMaxScaler\n",
    "from sklearn import metrics\n",
    "\n",
    "\n",
    "\n",
    "from sklearn.decomposition import PCA\n",
    "from sklearn.metrics import accuracy_score,auc,roc_curve,recall_score,precision_score,matthews_corrcoef\n",
    "\n",
    "from pandas_ml import ConfusionMatrix\n",
    "\n",
    "\n",
    "from imblearn.over_sampling import SMOTE\n",
    "\n",
    "from plotly.offline import download_plotlyjs, init_notebook_mode, plot, iplot\n",
    "init_notebook_mode(connected=True)\n",
    "import plotly.graph_objs as go\n",
    "\n",
    "import featuretools as ft\n",
    "\n",
    "from scipy import stats\n",
    "import re"
   ]
  },
  {
   "cell_type": "code",
   "execution_count": 28,
   "metadata": {},
   "outputs": [],
   "source": [
    "### Function to plot Feature Importance\n",
    "def feat_impt_plot(feat_impt,y_labels,width_s=1000,height_s=1000):\n",
    "    \n",
    "    m=pd.DataFrame(y_labels,feat_impt).reset_index()\n",
    "    m.columns=['Feature_Importance','Features']\n",
    "    m.sort_values(by='Feature_Importance',inplace=True,ascending=False)\n",
    "    m['Features']=m['Features'].str.replace(\"dom_function_\",\"\")\n",
    "    m['Features']=m['Features'].str.replace(\"js_function_\",\"\")\n",
    "    m['Features']=m['Features'].apply(lambda x: str(x).lstrip('.'))\n",
    "    m['Features']=m['Features'].str.replace(\"(\",\"\")\n",
    "    \n",
    "    data = [go.Bar(x=m.Feature_Importance.values,y=m.Features.values,text=np.round(m.Feature_Importance,4),\n",
    "            textposition = 'outside',\n",
    "            marker=dict(\n",
    "                color='rgb(158,202,225)',\n",
    "                line=dict(\n",
    "                    color='rgb(8,48,107)',\n",
    "                    width=1.5),\n",
    "            ),\n",
    "            opacity=0.6,\n",
    "            orientation='h'\n",
    "        )]\n",
    "    layout = go.Layout(autosize=False,\n",
    "    width=width_s,\n",
    "    height=height_s,\n",
    "    xaxis=dict(title='Feature Importances',\n",
    "        tickfont=dict(\n",
    "            size=12,\n",
    "            color='black'\n",
    "        )),\n",
    "    yaxis=dict(automargin=True))\n",
    "    fig = go.Figure(data=data, layout=layout)\n",
    "    iplot(fig)"
   ]
  },
  {
   "cell_type": "code",
   "execution_count": 29,
   "metadata": {},
   "outputs": [],
   "source": [
    "def uni_value(data):\n",
    "    lst=[]\n",
    "    for col in data.columns[:]:\n",
    "        lst.append([col,dict(data[col].value_counts()),data[col].value_counts().values[0]>=len(data)*0.95])\n",
    "    col_values=pd.DataFrame(lst,columns=['Feature','Value_Counts','95_%_same_values'])\n",
    "    col_values.set_index('Feature',drop=True,inplace=True)\n",
    "    del lst\n",
    "    return col_values\n",
    "\n",
    "    \n",
    "def check_cat(data):\n",
    "    cat_var=[]\n",
    "    num_var=[]\n",
    "    for col in data.columns:\n",
    "        if col!='Target':\n",
    "            if len(data[col].value_counts())==2:\n",
    "                cat_var.append(col)\n",
    "            else:\n",
    "                num_var.append(col)\n",
    "    return cat_var,num_var\n",
    "\n",
    "\n",
    "def num_stats(data,columns):\n",
    "    lst=[]\n",
    "    c=0\n",
    "    for col in columns:\n",
    "        corr=stats.pointbiserialr(data[col],data.Target)[0]\n",
    "        corr_p=stats.pointbiserialr(data[col],data.Target)[1]\n",
    "        ttest=stats.ttest_ind(data[data.Target==1][col], data[data.Target==0][col], equal_var=False)[0]\n",
    "        ttest_p=stats.ttest_ind(data[data.Target==1][col], data[data.Target==0][col], equal_var=False)[1]\n",
    "        lst.append((corr,corr_p,ttest,ttest_p,col))\n",
    "    stats_data=pd.DataFrame(lst,columns=['Pt. Biserial Corr','Pt. Biserial Corr p-val','ttest','ttest p-val','Feature'])\n",
    "    stats_data.set_index('Feature',drop=True,inplace=True)\n",
    "    stats_data.sort_values(by='ttest',inplace=True)\n",
    "    del lst\n",
    "    return stats_data\n",
    "\n",
    "\n",
    "### Generate statistics for categorical data\n",
    "def cat_stats(data,columns):\n",
    "    lst=[]\n",
    "    c=0\n",
    "    for col in columns:\n",
    "        if col!='Target':\n",
    "            table, results = rp.crosstab(data['Target'], data[col], prop= 'col', test= 'chi-square')\n",
    "            x=results['results'].values.tolist()\n",
    "            x.append(col)\n",
    "            lst.append(x)\n",
    "    chi_df=pd.DataFrame(lst,columns=['Pearson Chi-square','p-value','Cramers V','Feature'])\n",
    "    chi_df.set_index('Feature',drop=True,inplace=True)\n",
    "    chi_df.sort_values(by='Cramers V',ascending=False,inplace=True)\n",
    "    del lst\n",
    "    return chi_df\n",
    "\n",
    "def remove_feat(data):\n",
    "    col_no_unique=[]\n",
    "    for col in data.columns[:]:\n",
    "        if len(data[col].value_counts())<=1:\n",
    "#             print(col)\n",
    "            col_no_unique.append(col)\n",
    "    return col_no_unique\n",
    "\n",
    "### Generate plot for class balance for categorical nature\n",
    "def class_bal(data,title=''):\n",
    "    d = [go.Bar(x=data.Target.value_counts().index.values,\n",
    "               y=data.Target.value_counts().values,\n",
    "               text=data.Target.value_counts().values,\n",
    "               textposition = 'outside',\n",
    "            )]\n",
    "    layout = go.Layout(title=title,xaxis=dict(title='Domain Type',tickfont=dict(size=12,color='black')),\n",
    "                    yaxis=dict(title='Number of Instances'))\n",
    "    fig = go.Figure(data=d, layout=layout)\n",
    "    iplot(fig)"
   ]
  },
  {
   "cell_type": "code",
   "execution_count": 30,
   "metadata": {},
   "outputs": [],
   "source": [
    "def model_build(model,X_train,Y_train,X_test,Y_test,tree=False,feat=None):\n",
    "    \n",
    "    y_pred_train=model.predict(X_train)\n",
    "    acc_train=accuracy_score(Y_train,y_pred_train)\n",
    "    \n",
    "    print(\"Accuracy of the model for training data is:\",acc_train)\n",
    "    print(\"Confusion Matrix for training data is:\")\n",
    "    cm_train=ConfusionMatrix(Y_train,y_pred_train)\n",
    "    display(cm_train)\n",
    "    \n",
    "    \n",
    "    y_pred_test=model.predict(X_test)\n",
    "    acc_test=accuracy_score(Y_test,y_pred_test)\n",
    "    print(\"Accuracy of the model for test data is:\",acc_test)\n",
    "    print(\"Confusion Matrix for test data is:\")\n",
    "    cm_test=ConfusionMatrix(Y_test,y_pred_test)\n",
    "    display(cm_test)\n",
    "\n",
    "    fpr, tpr, threshold = roc_curve(Y_test, y_pred_test)\n",
    "    roc_auc =auc(fpr, tpr)\n",
    "    mcc=matthews_corrcoef(Y_test,y_pred_test)\n",
    "    if tree==True:\n",
    "        feat_impt_plot(model.feature_importances_,feat)\n",
    "        return model,cm_train,cm_test,acc_train,acc_test,roc_auc,model.feature_importances_,mcc\n",
    "    \n",
    "    return model,cm_train,cm_test,acc_train,acc_test,roc_auc,mcc\n",
    "\n",
    "def KNN_model(X_train,Y_train,X_test,Y_test):\n",
    "    print('\\033[1m' + 'K-Nearest Neighbors' + '\\033[0m')\n",
    "    knn=KNeighborsClassifier()\n",
    "    knn.fit(X_train,Y_train)\n",
    "\n",
    "    return model_build(knn,X_train,Y_train,X_test,Y_test)\n",
    "\n",
    "def Logistic_model(X_train,Y_train,X_test,Y_test):\n",
    "    print('\\033[1m' + 'Logistic Regression' + '\\033[0m')\n",
    "    log=LogisticRegression(random_state=0)\n",
    "    log.fit(X_train,Y_train)\n",
    "    \n",
    "    return model_build(log,X_train,Y_train,X_test,Y_test)\n",
    "\n",
    "def RandomForest(X_train,Y_train,X_test,Y_test,feat):\n",
    "    print('\\033[1m' + 'RandomForest Classifier' + '\\033[0m')\n",
    "    rf=RandomForestClassifier(random_state=0)\n",
    "    rf.fit(X_train,Y_train)\n",
    "\n",
    "    \n",
    "    return model_build(rf,X_train,Y_train,X_test,Y_test,True,feat)\n",
    "\n",
    "def AdaBoost(X_train,Y_train,X_test,Y_test,feat):\n",
    "    print('\\033[1m' + 'Adaoost Classifier' + '\\033[0m')\n",
    "    ada=AdaBoostClassifier(random_state=0)\n",
    "    ada.fit(X_train,Y_train)\n",
    "    \n",
    "    return model_build(ada,X_train,Y_train,X_test,Y_test,True,feat)\n",
    "\n",
    "def GradientBoosting(X_train,Y_train,X_test,Y_test,feat):\n",
    "    print('\\033[1m' + 'GradientBoosting Classifier' + '\\033[0m')\n",
    "    gbc=GradientBoostingClassifier(random_state=0)\n",
    "    gbc.fit(X_train,Y_train)\n",
    "    \n",
    "    return model_build(gbc,X_train,Y_train,X_test,Y_test,True,feat)\n",
    "\n",
    "def ExtraTree(X_train,Y_train,X_test,Y_test,feat):\n",
    "    print('\\033[1m' + 'ExtraTree Classifier' + '\\033[0m')\n",
    "    ext_tree=ExtraTreesClassifier(random_state=0)\n",
    "    ext_tree.fit(X_train,Y_train)\n",
    "    \n",
    "    return model_build(ext_tree,X_train,Y_train,X_test,Y_test,True,feat)\n",
    "\n",
    "def Bagging(X_train,Y_train,X_test,Y_test):\n",
    "    print('\\033[1m' + 'Bagging Classifier' + '\\033[0m')\n",
    "    bagging=BaggingClassifier(random_state=0)\n",
    "    bagging.fit(X_train,Y_train)\n",
    "    \n",
    "    return model_build(bagging,X_train,Y_train,X_test,Y_test)\n",
    "\n",
    "def DeepLearning1(X_train,Y_train,X_test,Y_test):\n",
    "    print('\\033[1m' + 'Neural Network-1' + '\\033[0m')\n",
    "    np.random.seed(0)\n",
    "    deep_learning=Sequential()\n",
    "    deep_learning.add(Dense(units=64,activation='relu',use_bias=True,kernel_initializer='uniform',input_dim=X_train.shape[1]))\n",
    "    deep_learning.add(Dense(units=128,activation='relu',use_bias=True,kernel_initializer='uniform'))\n",
    "    deep_learning.add(Dense(units=1,activation='sigmoid',use_bias=True,kernel_initializer='uniform'))\n",
    "    deep_learning.compile(optimizer='adam',loss='binary_crossentropy',metrics=['accuracy'])\n",
    "    deep_learning.fit(X_train,Y_train,batch_size=20,epochs=80,verbose=False)\n",
    "    acc_train=deep_learning.evaluate(X_train,Y_train,verbose=False)[1]\n",
    "    print(\"The accuracy of the model on training data is:\",acc_train)\n",
    "    cm_train=ConfusionMatrix(Y_train,deep_learning.predict_classes(X_train,batch_size=1,verbose=False).reshape(1,len(X_train))[0])\n",
    "    cm_test=ConfusionMatrix(Y_test,deep_learning.predict_classes(X_test,batch_size=1,verbose=False).reshape(1,len(X_test))[0])\n",
    "    display(cm_train)\n",
    "    acc_test=accuracy_score(Y_test,deep_learning.predict_classes(X_test,batch_size=1,verbose=False))\n",
    "    print(\"The accuracy of the model on test data is:\",acc_test)\n",
    "    display(cm_test)\n",
    "    mcc=matthews_corrcoef(Y_test,deep_learning.predict_classes(X_test,batch_size=1,verbose=False))\n",
    "    fpr, tpr, threshold = roc_curve(Y_test, deep_learning.predict_classes(X_test,batch_size=1,verbose=False))\n",
    "    roc_auc =auc(fpr, tpr)\n",
    "    return  deep_learning,cm_train,cm_test,acc_train,acc_test,roc_auc,mcc"
   ]
  },
  {
   "cell_type": "code",
   "execution_count": 31,
   "metadata": {},
   "outputs": [
    {
     "name": "stdout",
     "output_type": "stream",
     "text": [
      "Shape of our dataset: (46771, 4195)\n"
     ]
    }
   ],
   "source": [
    "df=pd.read_csv('URL.csv')\n",
    "\n",
    "df.drop(['Unnamed: 0'],axis=1,inplace=True)\n",
    "\n",
    "df.fillna(value=0,inplace=True)\n",
    "\n",
    "cookies=[columns for columns in df.columns if 'number' in columns]\n",
    "\n",
    "df.drop(cookies,axis=1,inplace=True)\n",
    "df=df[df['domain']!=0]\n",
    "df.sort_values(by='Target',inplace=True,ascending=False)\n",
    "\n",
    "df.drop_duplicates(['domain'], keep='first',inplace=True)\n",
    "\n",
    "df=df.sample(frac=1,random_state=0)\n",
    "print(\"Shape of our dataset:\",df.shape)"
   ]
  },
  {
   "cell_type": "code",
   "execution_count": 32,
   "metadata": {},
   "outputs": [],
   "source": [
    "df['url_number_vowels'] = df['domain'].str.lower().str.count(r'[aeiou]')\n",
    "df['url_number_consonants'] = df['domain'].str.count(r'[bcdfghjklmnpqrstvwxzy]', flags=re.I)\n",
    "df['url_number_digits'] = df['domain'].str.count(r'\\d')\n",
    "df['url_number_special_chars']=df['url_length']-df[['url_number_vowels','url_number_consonants','url_number_digits']].sum(axis=1)"
   ]
  },
  {
   "cell_type": "code",
   "execution_count": 33,
   "metadata": {},
   "outputs": [],
   "source": [
    "df['url_port']=df['url_port'].apply(lambda x: 0 if x==0 else 1 )"
   ]
  },
  {
   "cell_type": "code",
   "execution_count": 34,
   "metadata": {},
   "outputs": [],
   "source": [
    "# characters='abcdefghijklmnopqrstuvwxyz0123456789'\n",
    "# for char in characters:\n",
    "#     field=char+\"_average\"\n",
    "#     df[field]=df['domain'].apply(lambda x: str.count(x, char))\n",
    "#     df[field]=df[field]/df['url_length']"
   ]
  },
  {
   "cell_type": "code",
   "execution_count": 35,
   "metadata": {},
   "outputs": [],
   "source": [
    "df.set_index(['domain'],inplace=True,drop=True)"
   ]
  },
  {
   "cell_type": "code",
   "execution_count": 36,
   "metadata": {},
   "outputs": [
    {
     "data": {
      "application/vnd.plotly.v1+json": {
       "config": {
        "linkText": "Export to plot.ly",
        "plotlyServerURL": "https://plot.ly",
        "showLink": true
       },
       "data": [
        {
         "text": [
          39877,
          6894
         ],
         "textposition": "outside",
         "type": "bar",
         "uid": "835362c5-82c1-4dcf-97a6-0e4ada04e085",
         "x": [
          0,
          1
         ],
         "y": [
          39877,
          6894
         ]
        }
       ],
       "layout": {
        "xaxis": {
         "tickfont": {
          "color": "black",
          "size": 12
         },
         "title": "Domain Type"
        },
        "yaxis": {
         "title": "Number of Instances"
        }
       }
      },
      "text/html": [
       "<div id=\"80c99334-b2c0-4f0f-9397-5f5f9e524f5b\" style=\"height: 525px; width: 100%;\" class=\"plotly-graph-div\"></div><script type=\"text/javascript\">require([\"plotly\"], function(Plotly) { window.PLOTLYENV=window.PLOTLYENV || {};window.PLOTLYENV.BASE_URL=\"https://plot.ly\";Plotly.newPlot(\"80c99334-b2c0-4f0f-9397-5f5f9e524f5b\", [{\"text\": [39877.0, 6894.0], \"textposition\": \"outside\", \"x\": [0, 1], \"y\": [39877, 6894], \"type\": \"bar\", \"uid\": \"835362c5-82c1-4dcf-97a6-0e4ada04e085\"}], {\"xaxis\": {\"tickfont\": {\"color\": \"black\", \"size\": 12}, \"title\": \"Domain Type\"}, \"yaxis\": {\"title\": \"Number of Instances\"}}, {\"showLink\": true, \"linkText\": \"Export to plot.ly\", \"plotlyServerURL\": \"https://plot.ly\"})});</script><script type=\"text/javascript\">window.addEventListener(\"resize\", function(){window._Plotly.Plots.resize(document.getElementById(\"80c99334-b2c0-4f0f-9397-5f5f9e524f5b\"));});</script>"
      ],
      "text/vnd.plotly.v1+html": [
       "<div id=\"80c99334-b2c0-4f0f-9397-5f5f9e524f5b\" style=\"height: 525px; width: 100%;\" class=\"plotly-graph-div\"></div><script type=\"text/javascript\">require([\"plotly\"], function(Plotly) { window.PLOTLYENV=window.PLOTLYENV || {};window.PLOTLYENV.BASE_URL=\"https://plot.ly\";Plotly.newPlot(\"80c99334-b2c0-4f0f-9397-5f5f9e524f5b\", [{\"text\": [39877.0, 6894.0], \"textposition\": \"outside\", \"x\": [0, 1], \"y\": [39877, 6894], \"type\": \"bar\", \"uid\": \"835362c5-82c1-4dcf-97a6-0e4ada04e085\"}], {\"xaxis\": {\"tickfont\": {\"color\": \"black\", \"size\": 12}, \"title\": \"Domain Type\"}, \"yaxis\": {\"title\": \"Number of Instances\"}}, {\"showLink\": true, \"linkText\": \"Export to plot.ly\", \"plotlyServerURL\": \"https://plot.ly\"})});</script><script type=\"text/javascript\">window.addEventListener(\"resize\", function(){window._Plotly.Plots.resize(document.getElementById(\"80c99334-b2c0-4f0f-9397-5f5f9e524f5b\"));});</script>"
      ]
     },
     "metadata": {},
     "output_type": "display_data"
    }
   ],
   "source": [
    "data = [go.Bar(x=df.Target.value_counts().index.values,\n",
    "               y=df.Target.value_counts().values,\n",
    "               text=df.Target.value_counts().values,\n",
    "               textposition = 'outside',\n",
    "            )]\n",
    "layout = go.Layout( xaxis=dict(title='Domain Type',tickfont=dict(size=12,color='black')),\n",
    "                    yaxis=dict(title='Number of Instances'))\n",
    "fig = go.Figure(data=data, layout=layout)\n",
    "iplot(fig)"
   ]
  },
  {
   "cell_type": "code",
   "execution_count": 37,
   "metadata": {},
   "outputs": [
    {
     "name": "stdout",
     "output_type": "stream",
     "text": [
      "302 columns have only one unique value in them rendering them meaningless for classification\n"
     ]
    }
   ],
   "source": [
    "col_no_unique=[]\n",
    "for col in df.columns[:-1]:\n",
    "    if len(df[col].value_counts())==1:\n",
    "        col_no_unique.append(col)\n",
    "\n",
    "print(\"{} columns have only one unique value in them rendering them meaningless for classification\".format(len(col_no_unique)))\n",
    "# display(np.array(col_no_unique))\n",
    "### Drop those columns\n",
    "df.drop(col_no_unique,axis=1,inplace=True)"
   ]
  },
  {
   "cell_type": "code",
   "execution_count": 38,
   "metadata": {},
   "outputs": [
    {
     "name": "stdout",
     "output_type": "stream",
     "text": [
      "Shape of our dataset after dropping them: (46771, 3896)\n",
      "Columns which are of type object:\n",
      " url_contains_signin    object\n",
      "url_contains_www       object\n",
      "url_host               object\n",
      "url_ip                 object\n",
      "dtype: object\n"
     ]
    }
   ],
   "source": [
    "print(\"Shape of our dataset after dropping them:\",df.shape)\n",
    "\n",
    "ext_end=[col for col in df.columns if 'extension_ends' in col]\n",
    "\n",
    "for col in ext_end:\n",
    "    df[col]=df[col].astype(int)\n",
    "\n",
    "# ### Check and converting data types\n",
    "# df['Target']=df.Target.apply(lambda x: 1 if x=='Malicious' else 0)\n",
    "print(\"Columns which are of type object:\\n\",df.dtypes[(df.dtypes=='object')])\n",
    "\n",
    "lst=[]\n",
    "for col in df.columns[:-1]:\n",
    "    lst.append([col,dict(df[col].value_counts()),df[col].value_counts().values[0]>=len(df)*0.95])\n",
    "\n",
    "col_values=pd.DataFrame(lst,columns=['Feature','Value_Counts','95_%_same_values'])\n",
    "col_values.set_index('Feature',drop=True,inplace=True)"
   ]
  },
  {
   "cell_type": "code",
   "execution_count": 39,
   "metadata": {},
   "outputs": [
    {
     "name": "stdout",
     "output_type": "stream",
     "text": [
      "3846 columns have more than 95% same values\n"
     ]
    },
    {
     "data": {
      "text/plain": [
       "True     3846\n",
       "False      49\n",
       "Name: 95_%_same_values, dtype: int64"
      ]
     },
     "execution_count": 39,
     "metadata": {},
     "output_type": "execute_result"
    }
   ],
   "source": [
    "print(\"{} columns have more than 95% same values\".format(len(col_values[col_values['95_%_same_values']==True].index.values)))\n",
    "\n",
    "columns=col_values[col_values['95_%_same_values']==False].index.values\n",
    "columns=columns.tolist()\n",
    "col_values['95_%_same_values'].value_counts()"
   ]
  },
  {
   "cell_type": "code",
   "execution_count": 40,
   "metadata": {
    "scrolled": false
   },
   "outputs": [
    {
     "name": "stdout",
     "output_type": "stream",
     "text": [
      "Columns which are of type object: url_host    object\n",
      "dtype: object\n",
      "Stats for numerical features for HTML experiment\n",
      "\n"
     ]
    },
    {
     "data": {
      "text/html": [
       "<div>\n",
       "<style scoped>\n",
       "    .dataframe tbody tr th:only-of-type {\n",
       "        vertical-align: middle;\n",
       "    }\n",
       "\n",
       "    .dataframe tbody tr th {\n",
       "        vertical-align: top;\n",
       "    }\n",
       "\n",
       "    .dataframe thead th {\n",
       "        text-align: right;\n",
       "    }\n",
       "</style>\n",
       "<table border=\"1\" class=\"dataframe\">\n",
       "  <thead>\n",
       "    <tr style=\"text-align: right;\">\n",
       "      <th></th>\n",
       "      <th>Pt. Biserial Corr</th>\n",
       "      <th>Pt. Biserial Corr p-val</th>\n",
       "      <th>ttest</th>\n",
       "      <th>ttest p-val</th>\n",
       "    </tr>\n",
       "    <tr>\n",
       "      <th>Feature</th>\n",
       "      <th></th>\n",
       "      <th></th>\n",
       "      <th></th>\n",
       "      <th></th>\n",
       "    </tr>\n",
       "  </thead>\n",
       "  <tbody>\n",
       "    <tr>\n",
       "      <th>url_extension_.com</th>\n",
       "      <td>-0.154316</td>\n",
       "      <td>4.061880e-247</td>\n",
       "      <td>-34.113589</td>\n",
       "      <td>9.926271e-241</td>\n",
       "    </tr>\n",
       "    <tr>\n",
       "      <th>url_extension_.i</th>\n",
       "      <td>-0.005769</td>\n",
       "      <td>2.122020e-01</td>\n",
       "      <td>-1.243880</td>\n",
       "      <td>2.135748e-01</td>\n",
       "    </tr>\n",
       "    <tr>\n",
       "      <th>url_char_m</th>\n",
       "      <td>-0.000765</td>\n",
       "      <td>8.685861e-01</td>\n",
       "      <td>-0.133716</td>\n",
       "      <td>8.936303e-01</td>\n",
       "    </tr>\n",
       "    <tr>\n",
       "      <th>url_char_o</th>\n",
       "      <td>0.074650</td>\n",
       "      <td>8.715169e-59</td>\n",
       "      <td>12.338724</td>\n",
       "      <td>1.155801e-34</td>\n",
       "    </tr>\n",
       "    <tr>\n",
       "      <th>url_char_j</th>\n",
       "      <td>0.116675</td>\n",
       "      <td>1.984745e-141</td>\n",
       "      <td>16.725416</td>\n",
       "      <td>1.082992e-61</td>\n",
       "    </tr>\n",
       "    <tr>\n",
       "      <th>url_char_v</th>\n",
       "      <td>0.105337</td>\n",
       "      <td>1.682865e-115</td>\n",
       "      <td>17.027650</td>\n",
       "      <td>6.949488e-64</td>\n",
       "    </tr>\n",
       "    <tr>\n",
       "      <th>url_char_c</th>\n",
       "      <td>0.110988</td>\n",
       "      <td>4.385017e-128</td>\n",
       "      <td>17.136575</td>\n",
       "      <td>1.205077e-64</td>\n",
       "    </tr>\n",
       "    <tr>\n",
       "      <th>url_char_g</th>\n",
       "      <td>0.119543</td>\n",
       "      <td>2.045127e-148</td>\n",
       "      <td>20.120991</td>\n",
       "      <td>6.796065e-88</td>\n",
       "    </tr>\n",
       "    <tr>\n",
       "      <th>url_char_-</th>\n",
       "      <td>0.188291</td>\n",
       "      <td>0.000000e+00</td>\n",
       "      <td>22.532080</td>\n",
       "      <td>1.071961e-108</td>\n",
       "    </tr>\n",
       "    <tr>\n",
       "      <th>url_char_k</th>\n",
       "      <td>0.145710</td>\n",
       "      <td>2.890403e-220</td>\n",
       "      <td>22.710567</td>\n",
       "      <td>1.292852e-110</td>\n",
       "    </tr>\n",
       "    <tr>\n",
       "      <th>url_char_r</th>\n",
       "      <td>0.140080</td>\n",
       "      <td>1.445021e-203</td>\n",
       "      <td>24.001861</td>\n",
       "      <td>4.798345e-123</td>\n",
       "    </tr>\n",
       "    <tr>\n",
       "      <th>url_char_d</th>\n",
       "      <td>0.185027</td>\n",
       "      <td>0.000000e+00</td>\n",
       "      <td>26.310656</td>\n",
       "      <td>4.906239e-146</td>\n",
       "    </tr>\n",
       "    <tr>\n",
       "      <th>url_words_with_length_8</th>\n",
       "      <td>0.184637</td>\n",
       "      <td>0.000000e+00</td>\n",
       "      <td>26.632659</td>\n",
       "      <td>1.862759e-149</td>\n",
       "    </tr>\n",
       "    <tr>\n",
       "      <th>url_char_p</th>\n",
       "      <td>0.187333</td>\n",
       "      <td>0.000000e+00</td>\n",
       "      <td>27.120052</td>\n",
       "      <td>1.155928e-154</td>\n",
       "    </tr>\n",
       "    <tr>\n",
       "      <th>url_char_h</th>\n",
       "      <td>0.178102</td>\n",
       "      <td>0.000000e+00</td>\n",
       "      <td>27.362729</td>\n",
       "      <td>1.982512e-157</td>\n",
       "    </tr>\n",
       "    <tr>\n",
       "      <th>url_words_with_length_5</th>\n",
       "      <td>0.173285</td>\n",
       "      <td>5.034966e-312</td>\n",
       "      <td>28.602282</td>\n",
       "      <td>2.333533e-171</td>\n",
       "    </tr>\n",
       "    <tr>\n",
       "      <th>url_char_f</th>\n",
       "      <td>0.189686</td>\n",
       "      <td>0.000000e+00</td>\n",
       "      <td>28.688053</td>\n",
       "      <td>4.886014e-172</td>\n",
       "    </tr>\n",
       "    <tr>\n",
       "      <th>url_char_t</th>\n",
       "      <td>0.185356</td>\n",
       "      <td>0.000000e+00</td>\n",
       "      <td>29.034757</td>\n",
       "      <td>4.458870e-176</td>\n",
       "    </tr>\n",
       "    <tr>\n",
       "      <th>url_number_digits</th>\n",
       "      <td>0.303942</td>\n",
       "      <td>0.000000e+00</td>\n",
       "      <td>29.262586</td>\n",
       "      <td>1.468956e-177</td>\n",
       "    </tr>\n",
       "    <tr>\n",
       "      <th>url_words_with_length_6</th>\n",
       "      <td>0.184873</td>\n",
       "      <td>0.000000e+00</td>\n",
       "      <td>29.420010</td>\n",
       "      <td>1.519794e-180</td>\n",
       "    </tr>\n",
       "    <tr>\n",
       "      <th>url_char_a</th>\n",
       "      <td>0.180943</td>\n",
       "      <td>0.000000e+00</td>\n",
       "      <td>29.692290</td>\n",
       "      <td>8.219779e-184</td>\n",
       "    </tr>\n",
       "    <tr>\n",
       "      <th>url_char_b</th>\n",
       "      <td>0.197619</td>\n",
       "      <td>0.000000e+00</td>\n",
       "      <td>31.187658</td>\n",
       "      <td>2.427562e-201</td>\n",
       "    </tr>\n",
       "    <tr>\n",
       "      <th>url_char_x</th>\n",
       "      <td>0.224483</td>\n",
       "      <td>0.000000e+00</td>\n",
       "      <td>31.763987</td>\n",
       "      <td>7.368930e-208</td>\n",
       "    </tr>\n",
       "    <tr>\n",
       "      <th>url_char_u</th>\n",
       "      <td>0.190467</td>\n",
       "      <td>0.000000e+00</td>\n",
       "      <td>31.857149</td>\n",
       "      <td>8.975391e-210</td>\n",
       "    </tr>\n",
       "    <tr>\n",
       "      <th>url_words_with_length_7</th>\n",
       "      <td>0.216715</td>\n",
       "      <td>0.000000e+00</td>\n",
       "      <td>32.363531</td>\n",
       "      <td>1.916897e-215</td>\n",
       "    </tr>\n",
       "    <tr>\n",
       "      <th>url_char_n</th>\n",
       "      <td>0.213296</td>\n",
       "      <td>0.000000e+00</td>\n",
       "      <td>32.682021</td>\n",
       "      <td>1.594802e-219</td>\n",
       "    </tr>\n",
       "    <tr>\n",
       "      <th>url_tlds</th>\n",
       "      <td>0.234182</td>\n",
       "      <td>0.000000e+00</td>\n",
       "      <td>33.663948</td>\n",
       "      <td>1.447439e-231</td>\n",
       "    </tr>\n",
       "    <tr>\n",
       "      <th>url_char_l</th>\n",
       "      <td>0.234193</td>\n",
       "      <td>0.000000e+00</td>\n",
       "      <td>34.430643</td>\n",
       "      <td>1.618836e-241</td>\n",
       "    </tr>\n",
       "    <tr>\n",
       "      <th>url_char_s</th>\n",
       "      <td>0.224374</td>\n",
       "      <td>0.000000e+00</td>\n",
       "      <td>35.866588</td>\n",
       "      <td>5.804626e-261</td>\n",
       "    </tr>\n",
       "    <tr>\n",
       "      <th>url_char_e</th>\n",
       "      <td>0.235855</td>\n",
       "      <td>0.000000e+00</td>\n",
       "      <td>37.254339</td>\n",
       "      <td>1.130015e-279</td>\n",
       "    </tr>\n",
       "    <tr>\n",
       "      <th>url_char_y</th>\n",
       "      <td>0.292354</td>\n",
       "      <td>0.000000e+00</td>\n",
       "      <td>37.917299</td>\n",
       "      <td>2.590896e-287</td>\n",
       "    </tr>\n",
       "    <tr>\n",
       "      <th>url_char_z</th>\n",
       "      <td>0.306922</td>\n",
       "      <td>0.000000e+00</td>\n",
       "      <td>38.897902</td>\n",
       "      <td>9.390352e-301</td>\n",
       "    </tr>\n",
       "    <tr>\n",
       "      <th>url_words_with_length_4</th>\n",
       "      <td>0.260214</td>\n",
       "      <td>0.000000e+00</td>\n",
       "      <td>41.001370</td>\n",
       "      <td>0.000000e+00</td>\n",
       "    </tr>\n",
       "    <tr>\n",
       "      <th>url_number_consonants</th>\n",
       "      <td>0.404512</td>\n",
       "      <td>0.000000e+00</td>\n",
       "      <td>42.389815</td>\n",
       "      <td>0.000000e+00</td>\n",
       "    </tr>\n",
       "    <tr>\n",
       "      <th>url_number_vowels</th>\n",
       "      <td>0.365966</td>\n",
       "      <td>0.000000e+00</td>\n",
       "      <td>45.375834</td>\n",
       "      <td>0.000000e+00</td>\n",
       "    </tr>\n",
       "    <tr>\n",
       "      <th>url_char_i</th>\n",
       "      <td>0.287576</td>\n",
       "      <td>0.000000e+00</td>\n",
       "      <td>46.987315</td>\n",
       "      <td>0.000000e+00</td>\n",
       "    </tr>\n",
       "    <tr>\n",
       "      <th>url_length</th>\n",
       "      <td>0.461816</td>\n",
       "      <td>0.000000e+00</td>\n",
       "      <td>49.743906</td>\n",
       "      <td>0.000000e+00</td>\n",
       "    </tr>\n",
       "    <tr>\n",
       "      <th>url_char_w</th>\n",
       "      <td>0.429855</td>\n",
       "      <td>0.000000e+00</td>\n",
       "      <td>50.963559</td>\n",
       "      <td>0.000000e+00</td>\n",
       "    </tr>\n",
       "    <tr>\n",
       "      <th>url_extensions</th>\n",
       "      <td>0.489530</td>\n",
       "      <td>0.000000e+00</td>\n",
       "      <td>71.796926</td>\n",
       "      <td>0.000000e+00</td>\n",
       "    </tr>\n",
       "    <tr>\n",
       "      <th>url_char_.</th>\n",
       "      <td>0.527821</td>\n",
       "      <td>0.000000e+00</td>\n",
       "      <td>75.066324</td>\n",
       "      <td>0.000000e+00</td>\n",
       "    </tr>\n",
       "  </tbody>\n",
       "</table>\n",
       "</div>"
      ],
      "text/plain": [
       "                         Pt. Biserial Corr  Pt. Biserial Corr p-val  \\\n",
       "Feature                                                               \n",
       "url_extension_.com               -0.154316            4.061880e-247   \n",
       "url_extension_.i                 -0.005769             2.122020e-01   \n",
       "url_char_m                       -0.000765             8.685861e-01   \n",
       "url_char_o                        0.074650             8.715169e-59   \n",
       "url_char_j                        0.116675            1.984745e-141   \n",
       "url_char_v                        0.105337            1.682865e-115   \n",
       "url_char_c                        0.110988            4.385017e-128   \n",
       "url_char_g                        0.119543            2.045127e-148   \n",
       "url_char_-                        0.188291             0.000000e+00   \n",
       "url_char_k                        0.145710            2.890403e-220   \n",
       "url_char_r                        0.140080            1.445021e-203   \n",
       "url_char_d                        0.185027             0.000000e+00   \n",
       "url_words_with_length_8           0.184637             0.000000e+00   \n",
       "url_char_p                        0.187333             0.000000e+00   \n",
       "url_char_h                        0.178102             0.000000e+00   \n",
       "url_words_with_length_5           0.173285            5.034966e-312   \n",
       "url_char_f                        0.189686             0.000000e+00   \n",
       "url_char_t                        0.185356             0.000000e+00   \n",
       "url_number_digits                 0.303942             0.000000e+00   \n",
       "url_words_with_length_6           0.184873             0.000000e+00   \n",
       "url_char_a                        0.180943             0.000000e+00   \n",
       "url_char_b                        0.197619             0.000000e+00   \n",
       "url_char_x                        0.224483             0.000000e+00   \n",
       "url_char_u                        0.190467             0.000000e+00   \n",
       "url_words_with_length_7           0.216715             0.000000e+00   \n",
       "url_char_n                        0.213296             0.000000e+00   \n",
       "url_tlds                          0.234182             0.000000e+00   \n",
       "url_char_l                        0.234193             0.000000e+00   \n",
       "url_char_s                        0.224374             0.000000e+00   \n",
       "url_char_e                        0.235855             0.000000e+00   \n",
       "url_char_y                        0.292354             0.000000e+00   \n",
       "url_char_z                        0.306922             0.000000e+00   \n",
       "url_words_with_length_4           0.260214             0.000000e+00   \n",
       "url_number_consonants             0.404512             0.000000e+00   \n",
       "url_number_vowels                 0.365966             0.000000e+00   \n",
       "url_char_i                        0.287576             0.000000e+00   \n",
       "url_length                        0.461816             0.000000e+00   \n",
       "url_char_w                        0.429855             0.000000e+00   \n",
       "url_extensions                    0.489530             0.000000e+00   \n",
       "url_char_.                        0.527821             0.000000e+00   \n",
       "\n",
       "                             ttest    ttest p-val  \n",
       "Feature                                            \n",
       "url_extension_.com      -34.113589  9.926271e-241  \n",
       "url_extension_.i         -1.243880   2.135748e-01  \n",
       "url_char_m               -0.133716   8.936303e-01  \n",
       "url_char_o               12.338724   1.155801e-34  \n",
       "url_char_j               16.725416   1.082992e-61  \n",
       "url_char_v               17.027650   6.949488e-64  \n",
       "url_char_c               17.136575   1.205077e-64  \n",
       "url_char_g               20.120991   6.796065e-88  \n",
       "url_char_-               22.532080  1.071961e-108  \n",
       "url_char_k               22.710567  1.292852e-110  \n",
       "url_char_r               24.001861  4.798345e-123  \n",
       "url_char_d               26.310656  4.906239e-146  \n",
       "url_words_with_length_8  26.632659  1.862759e-149  \n",
       "url_char_p               27.120052  1.155928e-154  \n",
       "url_char_h               27.362729  1.982512e-157  \n",
       "url_words_with_length_5  28.602282  2.333533e-171  \n",
       "url_char_f               28.688053  4.886014e-172  \n",
       "url_char_t               29.034757  4.458870e-176  \n",
       "url_number_digits        29.262586  1.468956e-177  \n",
       "url_words_with_length_6  29.420010  1.519794e-180  \n",
       "url_char_a               29.692290  8.219779e-184  \n",
       "url_char_b               31.187658  2.427562e-201  \n",
       "url_char_x               31.763987  7.368930e-208  \n",
       "url_char_u               31.857149  8.975391e-210  \n",
       "url_words_with_length_7  32.363531  1.916897e-215  \n",
       "url_char_n               32.682021  1.594802e-219  \n",
       "url_tlds                 33.663948  1.447439e-231  \n",
       "url_char_l               34.430643  1.618836e-241  \n",
       "url_char_s               35.866588  5.804626e-261  \n",
       "url_char_e               37.254339  1.130015e-279  \n",
       "url_char_y               37.917299  2.590896e-287  \n",
       "url_char_z               38.897902  9.390352e-301  \n",
       "url_words_with_length_4  41.001370   0.000000e+00  \n",
       "url_number_consonants    42.389815   0.000000e+00  \n",
       "url_number_vowels        45.375834   0.000000e+00  \n",
       "url_char_i               46.987315   0.000000e+00  \n",
       "url_length               49.743906   0.000000e+00  \n",
       "url_char_w               50.963559   0.000000e+00  \n",
       "url_extensions           71.796926   0.000000e+00  \n",
       "url_char_.               75.066324   0.000000e+00  "
      ]
     },
     "metadata": {},
     "output_type": "display_data"
    },
    {
     "name": "stdout",
     "output_type": "stream",
     "text": [
      "\n",
      "Stats for Categorical features for HTML experiment\n",
      "\n"
     ]
    },
    {
     "data": {
      "text/html": [
       "<div>\n",
       "<style scoped>\n",
       "    .dataframe tbody tr th:only-of-type {\n",
       "        vertical-align: middle;\n",
       "    }\n",
       "\n",
       "    .dataframe tbody tr th {\n",
       "        vertical-align: top;\n",
       "    }\n",
       "\n",
       "    .dataframe thead th {\n",
       "        text-align: right;\n",
       "    }\n",
       "</style>\n",
       "<table border=\"1\" class=\"dataframe\">\n",
       "  <thead>\n",
       "    <tr style=\"text-align: right;\">\n",
       "      <th></th>\n",
       "      <th>Pearson Chi-square</th>\n",
       "      <th>p-value</th>\n",
       "      <th>Cramers V</th>\n",
       "    </tr>\n",
       "    <tr>\n",
       "      <th>Feature</th>\n",
       "      <th></th>\n",
       "      <th></th>\n",
       "      <th></th>\n",
       "    </tr>\n",
       "  </thead>\n",
       "  <tbody>\n",
       "    <tr>\n",
       "      <th>url_extension_.net</th>\n",
       "      <td>138.8931</td>\n",
       "      <td>0.0</td>\n",
       "      <td>0.0545</td>\n",
       "    </tr>\n",
       "  </tbody>\n",
       "</table>\n",
       "</div>"
      ],
      "text/plain": [
       "                    Pearson Chi-square  p-value  Cramers V\n",
       "Feature                                                   \n",
       "url_extension_.net            138.8931      0.0     0.0545"
      ]
     },
     "metadata": {},
     "output_type": "display_data"
    }
   ],
   "source": [
    "print(\"Columns which are of type object:\",df[columns].dtypes[(df.dtypes=='object')])\n",
    "columns.remove('url_host')\n",
    "\n",
    "rem=['url_tld_NET','url_tld_COM','url_tld_NE','url_tld_CO','url_extension_endswith_.com', 'url_extension_.c']\n",
    "for col in rem:\n",
    "    columns.remove(col)\n",
    "\n",
    "df_sel=df[columns]\n",
    "\n",
    "cat_var_js,num_var_js=check_cat(df_sel)\n",
    "\n",
    "print(\"Stats for numerical features for HTML experiment\\n\")\n",
    "num_stats_js=num_stats(df_sel,num_var_js)\n",
    "display(num_stats_js)\n",
    "print(\"\\nStats for Categorical features for HTML experiment\\n\")\n",
    "cat_stats_js=cat_stats(df_sel,cat_var_js)\n",
    "display(cat_stats_js)"
   ]
  },
  {
   "cell_type": "code",
   "execution_count": 41,
   "metadata": {},
   "outputs": [
    {
     "data": {
      "text/plain": [
       "['Target',\n",
       " 'url_char_-',\n",
       " 'url_char_.',\n",
       " 'url_char_a',\n",
       " 'url_char_b',\n",
       " 'url_char_c',\n",
       " 'url_char_d',\n",
       " 'url_char_e',\n",
       " 'url_char_f',\n",
       " 'url_char_g',\n",
       " 'url_char_h',\n",
       " 'url_char_i',\n",
       " 'url_char_j',\n",
       " 'url_char_k',\n",
       " 'url_char_l',\n",
       " 'url_char_m',\n",
       " 'url_char_n',\n",
       " 'url_char_o',\n",
       " 'url_char_p',\n",
       " 'url_char_r',\n",
       " 'url_char_s',\n",
       " 'url_char_t',\n",
       " 'url_char_u',\n",
       " 'url_char_v',\n",
       " 'url_char_w',\n",
       " 'url_char_x',\n",
       " 'url_char_y',\n",
       " 'url_char_z',\n",
       " 'url_extension_.com',\n",
       " 'url_extension_.i',\n",
       " 'url_extension_.net',\n",
       " 'url_extensions',\n",
       " 'url_length',\n",
       " 'url_tlds',\n",
       " 'url_words_with_length_4',\n",
       " 'url_words_with_length_5',\n",
       " 'url_words_with_length_6',\n",
       " 'url_words_with_length_7',\n",
       " 'url_words_with_length_8',\n",
       " 'url_number_vowels',\n",
       " 'url_number_consonants',\n",
       " 'url_number_digits']"
      ]
     },
     "execution_count": 41,
     "metadata": {},
     "output_type": "execute_result"
    }
   ],
   "source": [
    "fin_col=columns\n",
    "fin_col"
   ]
  },
  {
   "cell_type": "code",
   "execution_count": 42,
   "metadata": {},
   "outputs": [],
   "source": [
    "train=df_sel.iloc[:37417,:]\n",
    "train_X=train.iloc[:,train.columns!='Target'].values\n",
    "train_Y=train.Target.values\n",
    "\n",
    "scaler=StandardScaler()\n",
    "scaled_X_train=scaler.fit_transform(train_X)\n",
    "\n",
    "test=df_sel.iloc[37417:,:]\n",
    "test_X=test.iloc[:,test.columns!='Target'].values\n",
    "test_Y=test.Target.values\n",
    "scaled_X_test=scaler.transform(test_X)"
   ]
  },
  {
   "cell_type": "code",
   "execution_count": 43,
   "metadata": {},
   "outputs": [],
   "source": [
    "pd.Series(df_sel[df_sel.Target==0].index.values).to_csv('benign_URL.csv')\n",
    "pd.Series(df_sel[df_sel.Target==1].index.values).to_csv('malicious_URL.csv')"
   ]
  },
  {
   "cell_type": "code",
   "execution_count": 44,
   "metadata": {},
   "outputs": [],
   "source": [
    "columns=fin_col"
   ]
  },
  {
   "cell_type": "markdown",
   "metadata": {},
   "source": [
    "### <a id='1' style=\"text-decoration : none; color : #000000;\"> 2. Initial Models</a>"
   ]
  },
  {
   "cell_type": "code",
   "execution_count": 45,
   "metadata": {},
   "outputs": [],
   "source": [
    "columns.remove('Target')"
   ]
  },
  {
   "cell_type": "code",
   "execution_count": 46,
   "metadata": {},
   "outputs": [],
   "source": [
    "ind_columns=['KNeighborsClassifier','LogisticRegression','RandomForestClassifier','AdaBoostClassifier',\n",
    "             'GradientBoostingClassifier','ExtraTreeClassifier','BaggingClassifier','Neural Network-1']\n",
    "\n",
    "f=[KNN_model,Logistic_model,RandomForest,AdaBoost,GradientBoosting, ExtraTree,Bagging,DeepLearning1]\n",
    "\n",
    "## Table to store training and test measures\n",
    "table_80_50_train=pd.DataFrame(columns=['accuracy','TP','TN','FP','FN','FPR','FNR'])\n",
    "table_80_50_test=pd.DataFrame(columns=['accuracy','TP','TN','FP','FN','FPR','FNR','auc','MCC'])"
   ]
  },
  {
   "cell_type": "code",
   "execution_count": 47,
   "metadata": {
    "scrolled": false
   },
   "outputs": [
    {
     "name": "stdout",
     "output_type": "stream",
     "text": [
      "\u001b[1mK-Nearest Neighbors\u001b[0m\n",
      "Accuracy of the model for training data is: 0.9645348371061282\n",
      "Confusion Matrix for training data is:\n"
     ]
    },
    {
     "data": {
      "text/plain": [
       "Predicted  False  True  __all__\n",
       "Actual                         \n",
       "False      31827    65    31892\n",
       "True        1262  4263     5525\n",
       "__all__    33089  4328    37417"
      ]
     },
     "metadata": {},
     "output_type": "display_data"
    },
    {
     "name": "stdout",
     "output_type": "stream",
     "text": [
      "Accuracy of the model for test data is: 0.9584135129356425\n",
      "Confusion Matrix for test data is:\n"
     ]
    },
    {
     "data": {
      "text/plain": [
       "Predicted  False  True  __all__\n",
       "Actual                         \n",
       "False       7959    26     7985\n",
       "True         363  1006     1369\n",
       "__all__     8322  1032     9354"
      ]
     },
     "metadata": {},
     "output_type": "display_data"
    },
    {
     "name": "stdout",
     "output_type": "stream",
     "text": [
      "\n",
      "\n",
      "\u001b[1mLogistic Regression\u001b[0m\n",
      "Accuracy of the model for training data is: 0.9516529919555282\n",
      "Confusion Matrix for training data is:\n"
     ]
    },
    {
     "data": {
      "text/plain": [
       "Predicted  False  True  __all__\n",
       "Actual                         \n",
       "False      31491   401    31892\n",
       "True        1408  4117     5525\n",
       "__all__    32899  4518    37417"
      ]
     },
     "metadata": {},
     "output_type": "display_data"
    },
    {
     "name": "stdout",
     "output_type": "stream",
     "text": [
      "Accuracy of the model for test data is: 0.9517853324780843\n",
      "Confusion Matrix for test data is:\n"
     ]
    },
    {
     "data": {
      "text/plain": [
       "Predicted  False  True  __all__\n",
       "Actual                         \n",
       "False       7870   115     7985\n",
       "True         336  1033     1369\n",
       "__all__     8206  1148     9354"
      ]
     },
     "metadata": {},
     "output_type": "display_data"
    },
    {
     "name": "stdout",
     "output_type": "stream",
     "text": [
      "\n",
      "\n",
      "\u001b[1mRandomForest Classifier\u001b[0m\n",
      "Accuracy of the model for training data is: 0.9945212069380228\n",
      "Confusion Matrix for training data is:\n"
     ]
    },
    {
     "data": {
      "text/plain": [
       "Predicted  False  True  __all__\n",
       "Actual                         \n",
       "False      31889     3    31892\n",
       "True         202  5323     5525\n",
       "__all__    32091  5326    37417"
      ]
     },
     "metadata": {},
     "output_type": "display_data"
    },
    {
     "name": "stdout",
     "output_type": "stream",
     "text": [
      "Accuracy of the model for test data is: 0.9646140688475519\n",
      "Confusion Matrix for test data is:\n"
     ]
    },
    {
     "data": {
      "text/plain": [
       "Predicted  False  True  __all__\n",
       "Actual                         \n",
       "False       7927    58     7985\n",
       "True         273  1096     1369\n",
       "__all__     8200  1154     9354"
      ]
     },
     "metadata": {},
     "output_type": "display_data"
    },
    {
     "data": {
      "application/vnd.plotly.v1+json": {
       "config": {
        "linkText": "Export to plot.ly",
        "plotlyServerURL": "https://plot.ly",
        "showLink": true
       },
       "data": [
        {
         "marker": {
          "color": "rgb(158,202,225)",
          "line": {
           "color": "rgb(8,48,107)",
           "width": 1.5
          }
         },
         "opacity": 0.6,
         "orientation": "h",
         "text": [
          0.1746,
          0.1242,
          0.1179,
          0.0817,
          0.0632,
          0.0491,
          0.033,
          0.0257,
          0.0235,
          0.0199,
          0.0181,
          0.016,
          0.015,
          0.0144,
          0.0134,
          0.013,
          0.013,
          0.0118,
          0.0117,
          0.0116,
          0.0113,
          0.011,
          0.0108,
          0.0104,
          0.0099,
          0.0093,
          0.0089,
          0.008,
          0.0077,
          0.0076,
          0.0076,
          0.007,
          0.0069,
          0.0057,
          0.005,
          0.0049,
          0.0041,
          0.0038,
          0.0038,
          0.0027,
          0.0027
         ],
         "textposition": "outside",
         "type": "bar",
         "uid": "924d66c9-e4c5-432d-a145-2db8b54a0469",
         "x": [
          0.17455138497367848,
          0.12415660550595653,
          0.11794625964319877,
          0.08170332489162203,
          0.06316350741521629,
          0.04907304298111619,
          0.03301931212092455,
          0.025714374038355314,
          0.023539835644346488,
          0.01994626826471373,
          0.018111645322154327,
          0.015974773628498196,
          0.014969292540561493,
          0.014400019961158868,
          0.013416874201510933,
          0.013012046930875655,
          0.01297239413445754,
          0.011827652912415167,
          0.011657285137278879,
          0.01161123775417348,
          0.011312125747631858,
          0.010973638625686809,
          0.010831389156046967,
          0.010431072027732339,
          0.009905323697760706,
          0.009307290933564605,
          0.00888023681042901,
          0.007983785883754273,
          0.007699901375085095,
          0.007642146832577248,
          0.007637919449845588,
          0.006955615943833341,
          0.006931740764994275,
          0.005682155568310685,
          0.004950767167020761,
          0.004890173698098865,
          0.004108200140247448,
          0.003839205258594519,
          0.0037898841038257833,
          0.002749154327002063,
          0.002731134485744665
         ],
         "y": [
          "url_extensions",
          "url_number_consonants",
          "url_length",
          "url_char_w",
          "url_tlds",
          "url_char_.",
          "url_number_vowels",
          "url_number_digits",
          "url_words_with_length_4",
          "url_extension_.com",
          "url_char_z",
          "url_char_m",
          "url_char_b",
          "url_char_i",
          "url_char_o",
          "url_char_e",
          "url_char_t",
          "url_char_c",
          "url_char_l",
          "url_char_a",
          "url_char_s",
          "url_char_n",
          "url_char_r",
          "url_words_with_length_5",
          "url_char_d",
          "url_char_p",
          "url_char_u",
          "url_char_g",
          "url_char_f",
          "url_char_h",
          "url_char_y",
          "url_words_with_length_6",
          "url_char_k",
          "url_char_v",
          "url_words_with_length_7",
          "url_char_x",
          "url_char_j",
          "url_char_-",
          "url_extension_.i",
          "url_words_with_length_8",
          "url_extension_.net"
         ]
        }
       ],
       "layout": {
        "autosize": false,
        "height": 1000,
        "width": 1000,
        "xaxis": {
         "tickfont": {
          "color": "black",
          "size": 12
         },
         "title": "Feature Importances"
        },
        "yaxis": {
         "automargin": true
        }
       }
      },
      "text/html": [
       "<div id=\"7cc6db01-ddb4-42a5-8a81-1a2448e226c0\" style=\"height: 1000px; width: 1000px;\" class=\"plotly-graph-div\"></div><script type=\"text/javascript\">require([\"plotly\"], function(Plotly) { window.PLOTLYENV=window.PLOTLYENV || {};window.PLOTLYENV.BASE_URL=\"https://plot.ly\";Plotly.newPlot(\"7cc6db01-ddb4-42a5-8a81-1a2448e226c0\", [{\"marker\": {\"color\": \"rgb(158,202,225)\", \"line\": {\"color\": \"rgb(8,48,107)\", \"width\": 1.5}}, \"opacity\": 0.6, \"orientation\": \"h\", \"text\": [0.1746, 0.1242, 0.1179, 0.0817, 0.0632, 0.0491, 0.033, 0.0257, 0.0235, 0.0199, 0.0181, 0.016, 0.015, 0.0144, 0.0134, 0.013, 0.013, 0.0118, 0.0117, 0.0116, 0.0113, 0.011, 0.0108, 0.0104, 0.0099, 0.0093, 0.0089, 0.008, 0.0077, 0.0076, 0.0076, 0.007, 0.0069, 0.0057, 0.005, 0.0049, 0.0041, 0.0038, 0.0038, 0.0027, 0.0027], \"textposition\": \"outside\", \"x\": [0.17455138497367848, 0.12415660550595653, 0.11794625964319877, 0.08170332489162203, 0.06316350741521629, 0.04907304298111619, 0.03301931212092455, 0.025714374038355314, 0.023539835644346488, 0.01994626826471373, 0.018111645322154327, 0.015974773628498196, 0.014969292540561493, 0.014400019961158868, 0.013416874201510933, 0.013012046930875655, 0.01297239413445754, 0.011827652912415167, 0.011657285137278879, 0.01161123775417348, 0.011312125747631858, 0.010973638625686809, 0.010831389156046967, 0.010431072027732339, 0.009905323697760706, 0.009307290933564605, 0.00888023681042901, 0.007983785883754273, 0.007699901375085095, 0.007642146832577248, 0.007637919449845588, 0.006955615943833341, 0.006931740764994275, 0.005682155568310685, 0.004950767167020761, 0.004890173698098865, 0.004108200140247448, 0.003839205258594519, 0.0037898841038257833, 0.002749154327002063, 0.002731134485744665], \"y\": [\"url_extensions\", \"url_number_consonants\", \"url_length\", \"url_char_w\", \"url_tlds\", \"url_char_.\", \"url_number_vowels\", \"url_number_digits\", \"url_words_with_length_4\", \"url_extension_.com\", \"url_char_z\", \"url_char_m\", \"url_char_b\", \"url_char_i\", \"url_char_o\", \"url_char_e\", \"url_char_t\", \"url_char_c\", \"url_char_l\", \"url_char_a\", \"url_char_s\", \"url_char_n\", \"url_char_r\", \"url_words_with_length_5\", \"url_char_d\", \"url_char_p\", \"url_char_u\", \"url_char_g\", \"url_char_f\", \"url_char_h\", \"url_char_y\", \"url_words_with_length_6\", \"url_char_k\", \"url_char_v\", \"url_words_with_length_7\", \"url_char_x\", \"url_char_j\", \"url_char_-\", \"url_extension_.i\", \"url_words_with_length_8\", \"url_extension_.net\"], \"type\": \"bar\", \"uid\": \"924d66c9-e4c5-432d-a145-2db8b54a0469\"}], {\"autosize\": false, \"height\": 1000, \"width\": 1000, \"xaxis\": {\"tickfont\": {\"color\": \"black\", \"size\": 12}, \"title\": \"Feature Importances\"}, \"yaxis\": {\"automargin\": true}}, {\"showLink\": true, \"linkText\": \"Export to plot.ly\", \"plotlyServerURL\": \"https://plot.ly\"})});</script>"
      ],
      "text/vnd.plotly.v1+html": [
       "<div id=\"7cc6db01-ddb4-42a5-8a81-1a2448e226c0\" style=\"height: 1000px; width: 1000px;\" class=\"plotly-graph-div\"></div><script type=\"text/javascript\">require([\"plotly\"], function(Plotly) { window.PLOTLYENV=window.PLOTLYENV || {};window.PLOTLYENV.BASE_URL=\"https://plot.ly\";Plotly.newPlot(\"7cc6db01-ddb4-42a5-8a81-1a2448e226c0\", [{\"marker\": {\"color\": \"rgb(158,202,225)\", \"line\": {\"color\": \"rgb(8,48,107)\", \"width\": 1.5}}, \"opacity\": 0.6, \"orientation\": \"h\", \"text\": [0.1746, 0.1242, 0.1179, 0.0817, 0.0632, 0.0491, 0.033, 0.0257, 0.0235, 0.0199, 0.0181, 0.016, 0.015, 0.0144, 0.0134, 0.013, 0.013, 0.0118, 0.0117, 0.0116, 0.0113, 0.011, 0.0108, 0.0104, 0.0099, 0.0093, 0.0089, 0.008, 0.0077, 0.0076, 0.0076, 0.007, 0.0069, 0.0057, 0.005, 0.0049, 0.0041, 0.0038, 0.0038, 0.0027, 0.0027], \"textposition\": \"outside\", \"x\": [0.17455138497367848, 0.12415660550595653, 0.11794625964319877, 0.08170332489162203, 0.06316350741521629, 0.04907304298111619, 0.03301931212092455, 0.025714374038355314, 0.023539835644346488, 0.01994626826471373, 0.018111645322154327, 0.015974773628498196, 0.014969292540561493, 0.014400019961158868, 0.013416874201510933, 0.013012046930875655, 0.01297239413445754, 0.011827652912415167, 0.011657285137278879, 0.01161123775417348, 0.011312125747631858, 0.010973638625686809, 0.010831389156046967, 0.010431072027732339, 0.009905323697760706, 0.009307290933564605, 0.00888023681042901, 0.007983785883754273, 0.007699901375085095, 0.007642146832577248, 0.007637919449845588, 0.006955615943833341, 0.006931740764994275, 0.005682155568310685, 0.004950767167020761, 0.004890173698098865, 0.004108200140247448, 0.003839205258594519, 0.0037898841038257833, 0.002749154327002063, 0.002731134485744665], \"y\": [\"url_extensions\", \"url_number_consonants\", \"url_length\", \"url_char_w\", \"url_tlds\", \"url_char_.\", \"url_number_vowels\", \"url_number_digits\", \"url_words_with_length_4\", \"url_extension_.com\", \"url_char_z\", \"url_char_m\", \"url_char_b\", \"url_char_i\", \"url_char_o\", \"url_char_e\", \"url_char_t\", \"url_char_c\", \"url_char_l\", \"url_char_a\", \"url_char_s\", \"url_char_n\", \"url_char_r\", \"url_words_with_length_5\", \"url_char_d\", \"url_char_p\", \"url_char_u\", \"url_char_g\", \"url_char_f\", \"url_char_h\", \"url_char_y\", \"url_words_with_length_6\", \"url_char_k\", \"url_char_v\", \"url_words_with_length_7\", \"url_char_x\", \"url_char_j\", \"url_char_-\", \"url_extension_.i\", \"url_words_with_length_8\", \"url_extension_.net\"], \"type\": \"bar\", \"uid\": \"924d66c9-e4c5-432d-a145-2db8b54a0469\"}], {\"autosize\": false, \"height\": 1000, \"width\": 1000, \"xaxis\": {\"tickfont\": {\"color\": \"black\", \"size\": 12}, \"title\": \"Feature Importances\"}, \"yaxis\": {\"automargin\": true}}, {\"showLink\": true, \"linkText\": \"Export to plot.ly\", \"plotlyServerURL\": \"https://plot.ly\"})});</script>"
      ]
     },
     "metadata": {},
     "output_type": "display_data"
    },
    {
     "name": "stdout",
     "output_type": "stream",
     "text": [
      "\n",
      "\n",
      "\u001b[1mAdaoost Classifier\u001b[0m\n",
      "Accuracy of the model for training data is: 0.9487933292353743\n",
      "Confusion Matrix for training data is:\n"
     ]
    },
    {
     "data": {
      "text/plain": [
       "Predicted  False  True  __all__\n",
       "Actual                         \n",
       "False      31448   444    31892\n",
       "True        1472  4053     5525\n",
       "__all__    32920  4497    37417"
      ]
     },
     "metadata": {},
     "output_type": "display_data"
    },
    {
     "name": "stdout",
     "output_type": "stream",
     "text": [
      "Accuracy of the model for test data is: 0.9498610220226641\n",
      "Confusion Matrix for test data is:\n"
     ]
    },
    {
     "data": {
      "text/plain": [
       "Predicted  False  True  __all__\n",
       "Actual                         \n",
       "False       7867   118     7985\n",
       "True         351  1018     1369\n",
       "__all__     8218  1136     9354"
      ]
     },
     "metadata": {},
     "output_type": "display_data"
    },
    {
     "data": {
      "application/vnd.plotly.v1+json": {
       "config": {
        "linkText": "Export to plot.ly",
        "plotlyServerURL": "https://plot.ly",
        "showLink": true
       },
       "data": [
        {
         "marker": {
          "color": "rgb(158,202,225)",
          "line": {
           "color": "rgb(8,48,107)",
           "width": 1.5
          }
         },
         "opacity": 0.6,
         "orientation": "h",
         "text": [
          0.22,
          0.12,
          0.08,
          0.06,
          0.04,
          0.04,
          0.04,
          0.02,
          0.02,
          0.02,
          0.02,
          0.02,
          0.02,
          0.02,
          0.02,
          0.02,
          0.02,
          0.02,
          0.02,
          0.02,
          0.02,
          0.02,
          0.02,
          0.02,
          0.02,
          0.02,
          0.02,
          0,
          0,
          0,
          0,
          0,
          0,
          0,
          0,
          0,
          0,
          0,
          0,
          0,
          0
         ],
         "textposition": "outside",
         "type": "bar",
         "uid": "9b486016-5813-46c4-8f27-6def94e0b8cf",
         "x": [
          0.22,
          0.12,
          0.08,
          0.06,
          0.04,
          0.04,
          0.04,
          0.02,
          0.02,
          0.02,
          0.02,
          0.02,
          0.02,
          0.02,
          0.02,
          0.02,
          0.02,
          0.02,
          0.02,
          0.02,
          0.02,
          0.02,
          0.02,
          0.02,
          0.02,
          0.02,
          0.02,
          0,
          0,
          0,
          0,
          0,
          0,
          0,
          0,
          0,
          0,
          0,
          0,
          0,
          0
         ],
         "y": [
          "url_length",
          "url_extensions",
          "url_char_w",
          "url_number_digits",
          "url_number_consonants",
          "url_words_with_length_4",
          "url_char_z",
          "url_char_p",
          "url_tlds",
          "url_extension_.net",
          "url_extension_.i",
          "url_extension_.com",
          "url_char_y",
          "url_char_x",
          "url_char_.",
          "url_char_r",
          "url_char_t",
          "url_char_o",
          "url_char_j",
          "url_char_b",
          "url_char_n",
          "url_char_g",
          "url_char_h",
          "url_char_i",
          "url_char_f",
          "url_char_l",
          "url_char_m",
          "url_char_k",
          "url_char_v",
          "url_char_u",
          "url_char_e",
          "url_char_d",
          "url_char_c",
          "url_char_s",
          "url_words_with_length_5",
          "url_words_with_length_6",
          "url_words_with_length_7",
          "url_words_with_length_8",
          "url_number_vowels",
          "url_char_a",
          "url_char_-"
         ]
        }
       ],
       "layout": {
        "autosize": false,
        "height": 1000,
        "width": 1000,
        "xaxis": {
         "tickfont": {
          "color": "black",
          "size": 12
         },
         "title": "Feature Importances"
        },
        "yaxis": {
         "automargin": true
        }
       }
      },
      "text/html": [
       "<div id=\"b011d32a-c93d-4158-842c-11ddb413cfe7\" style=\"height: 1000px; width: 1000px;\" class=\"plotly-graph-div\"></div><script type=\"text/javascript\">require([\"plotly\"], function(Plotly) { window.PLOTLYENV=window.PLOTLYENV || {};window.PLOTLYENV.BASE_URL=\"https://plot.ly\";Plotly.newPlot(\"b011d32a-c93d-4158-842c-11ddb413cfe7\", [{\"marker\": {\"color\": \"rgb(158,202,225)\", \"line\": {\"color\": \"rgb(8,48,107)\", \"width\": 1.5}}, \"opacity\": 0.6, \"orientation\": \"h\", \"text\": [0.22, 0.12, 0.08, 0.06, 0.04, 0.04, 0.04, 0.02, 0.02, 0.02, 0.02, 0.02, 0.02, 0.02, 0.02, 0.02, 0.02, 0.02, 0.02, 0.02, 0.02, 0.02, 0.02, 0.02, 0.02, 0.02, 0.02, 0.0, 0.0, 0.0, 0.0, 0.0, 0.0, 0.0, 0.0, 0.0, 0.0, 0.0, 0.0, 0.0, 0.0], \"textposition\": \"outside\", \"x\": [0.22, 0.12, 0.08, 0.06, 0.04, 0.04, 0.04, 0.02, 0.02, 0.02, 0.02, 0.02, 0.02, 0.02, 0.02, 0.02, 0.02, 0.02, 0.02, 0.02, 0.02, 0.02, 0.02, 0.02, 0.02, 0.02, 0.02, 0.0, 0.0, 0.0, 0.0, 0.0, 0.0, 0.0, 0.0, 0.0, 0.0, 0.0, 0.0, 0.0, 0.0], \"y\": [\"url_length\", \"url_extensions\", \"url_char_w\", \"url_number_digits\", \"url_number_consonants\", \"url_words_with_length_4\", \"url_char_z\", \"url_char_p\", \"url_tlds\", \"url_extension_.net\", \"url_extension_.i\", \"url_extension_.com\", \"url_char_y\", \"url_char_x\", \"url_char_.\", \"url_char_r\", \"url_char_t\", \"url_char_o\", \"url_char_j\", \"url_char_b\", \"url_char_n\", \"url_char_g\", \"url_char_h\", \"url_char_i\", \"url_char_f\", \"url_char_l\", \"url_char_m\", \"url_char_k\", \"url_char_v\", \"url_char_u\", \"url_char_e\", \"url_char_d\", \"url_char_c\", \"url_char_s\", \"url_words_with_length_5\", \"url_words_with_length_6\", \"url_words_with_length_7\", \"url_words_with_length_8\", \"url_number_vowels\", \"url_char_a\", \"url_char_-\"], \"type\": \"bar\", \"uid\": \"9b486016-5813-46c4-8f27-6def94e0b8cf\"}], {\"autosize\": false, \"height\": 1000, \"width\": 1000, \"xaxis\": {\"tickfont\": {\"color\": \"black\", \"size\": 12}, \"title\": \"Feature Importances\"}, \"yaxis\": {\"automargin\": true}}, {\"showLink\": true, \"linkText\": \"Export to plot.ly\", \"plotlyServerURL\": \"https://plot.ly\"})});</script>"
      ],
      "text/vnd.plotly.v1+html": [
       "<div id=\"b011d32a-c93d-4158-842c-11ddb413cfe7\" style=\"height: 1000px; width: 1000px;\" class=\"plotly-graph-div\"></div><script type=\"text/javascript\">require([\"plotly\"], function(Plotly) { window.PLOTLYENV=window.PLOTLYENV || {};window.PLOTLYENV.BASE_URL=\"https://plot.ly\";Plotly.newPlot(\"b011d32a-c93d-4158-842c-11ddb413cfe7\", [{\"marker\": {\"color\": \"rgb(158,202,225)\", \"line\": {\"color\": \"rgb(8,48,107)\", \"width\": 1.5}}, \"opacity\": 0.6, \"orientation\": \"h\", \"text\": [0.22, 0.12, 0.08, 0.06, 0.04, 0.04, 0.04, 0.02, 0.02, 0.02, 0.02, 0.02, 0.02, 0.02, 0.02, 0.02, 0.02, 0.02, 0.02, 0.02, 0.02, 0.02, 0.02, 0.02, 0.02, 0.02, 0.02, 0.0, 0.0, 0.0, 0.0, 0.0, 0.0, 0.0, 0.0, 0.0, 0.0, 0.0, 0.0, 0.0, 0.0], \"textposition\": \"outside\", \"x\": [0.22, 0.12, 0.08, 0.06, 0.04, 0.04, 0.04, 0.02, 0.02, 0.02, 0.02, 0.02, 0.02, 0.02, 0.02, 0.02, 0.02, 0.02, 0.02, 0.02, 0.02, 0.02, 0.02, 0.02, 0.02, 0.02, 0.02, 0.0, 0.0, 0.0, 0.0, 0.0, 0.0, 0.0, 0.0, 0.0, 0.0, 0.0, 0.0, 0.0, 0.0], \"y\": [\"url_length\", \"url_extensions\", \"url_char_w\", \"url_number_digits\", \"url_number_consonants\", \"url_words_with_length_4\", \"url_char_z\", \"url_char_p\", \"url_tlds\", \"url_extension_.net\", \"url_extension_.i\", \"url_extension_.com\", \"url_char_y\", \"url_char_x\", \"url_char_.\", \"url_char_r\", \"url_char_t\", \"url_char_o\", \"url_char_j\", \"url_char_b\", \"url_char_n\", \"url_char_g\", \"url_char_h\", \"url_char_i\", \"url_char_f\", \"url_char_l\", \"url_char_m\", \"url_char_k\", \"url_char_v\", \"url_char_u\", \"url_char_e\", \"url_char_d\", \"url_char_c\", \"url_char_s\", \"url_words_with_length_5\", \"url_words_with_length_6\", \"url_words_with_length_7\", \"url_words_with_length_8\", \"url_number_vowels\", \"url_char_a\", \"url_char_-\"], \"type\": \"bar\", \"uid\": \"9b486016-5813-46c4-8f27-6def94e0b8cf\"}], {\"autosize\": false, \"height\": 1000, \"width\": 1000, \"xaxis\": {\"tickfont\": {\"color\": \"black\", \"size\": 12}, \"title\": \"Feature Importances\"}, \"yaxis\": {\"automargin\": true}}, {\"showLink\": true, \"linkText\": \"Export to plot.ly\", \"plotlyServerURL\": \"https://plot.ly\"})});</script>"
      ]
     },
     "metadata": {},
     "output_type": "display_data"
    },
    {
     "name": "stdout",
     "output_type": "stream",
     "text": [
      "\n",
      "\n",
      "\u001b[1mGradientBoosting Classifier\u001b[0m\n",
      "Accuracy of the model for training data is: 0.9598310928187722\n",
      "Confusion Matrix for training data is:\n"
     ]
    },
    {
     "data": {
      "text/plain": [
       "Predicted  False  True  __all__\n",
       "Actual                         \n",
       "False      31552   340    31892\n",
       "True        1163  4362     5525\n",
       "__all__    32715  4702    37417"
      ]
     },
     "metadata": {},
     "output_type": "display_data"
    },
    {
     "name": "stdout",
     "output_type": "stream",
     "text": [
      "Accuracy of the model for test data is: 0.957237545435108\n",
      "Confusion Matrix for test data is:\n"
     ]
    },
    {
     "data": {
      "text/plain": [
       "Predicted  False  True  __all__\n",
       "Actual                         \n",
       "False       7886    99     7985\n",
       "True         301  1068     1369\n",
       "__all__     8187  1167     9354"
      ]
     },
     "metadata": {},
     "output_type": "display_data"
    },
    {
     "data": {
      "application/vnd.plotly.v1+json": {
       "config": {
        "linkText": "Export to plot.ly",
        "plotlyServerURL": "https://plot.ly",
        "showLink": true
       },
       "data": [
        {
         "marker": {
          "color": "rgb(158,202,225)",
          "line": {
           "color": "rgb(8,48,107)",
           "width": 1.5
          }
         },
         "opacity": 0.6,
         "orientation": "h",
         "text": [
          0.3972,
          0.3088,
          0.0843,
          0.0582,
          0.0352,
          0.0303,
          0.0285,
          0.0223,
          0.009,
          0.0059,
          0.0028,
          0.0025,
          0.0014,
          0.0014,
          0.0013,
          0.0012,
          0.001,
          0.001,
          0.0009,
          0.0007,
          0.0006,
          0.0006,
          0.0005,
          0.0005,
          0.0005,
          0.0004,
          0.0004,
          0.0004,
          0.0003,
          0.0003,
          0.0003,
          0.0002,
          0.0002,
          0.0001,
          0.0001,
          0.0001,
          0.0001,
          0.0001,
          0,
          0,
          0
         ],
         "textposition": "outside",
         "type": "bar",
         "uid": "4f28fa41-bbef-477f-ba77-bc7be13a9006",
         "x": [
          0.3971543548044095,
          0.3088469720715992,
          0.08430431260500919,
          0.05816475243481475,
          0.03523647530993209,
          0.030321086347978168,
          0.028541604761753644,
          0.022279733880166148,
          0.008966758435021704,
          0.0059193769811712845,
          0.002819825749887368,
          0.0025266461021011153,
          0.0014451538944321605,
          0.0014271717917782568,
          0.0012960283466737154,
          0.0012276690259292618,
          0.0010495410411173627,
          0.0010011762249922042,
          0.0008794984752140722,
          0.0007440842400874398,
          0.0006466667309638844,
          0.0006190740356137565,
          0.0005242874718567572,
          0.0005207302640382852,
          0.0004833316910358083,
          0.00038875687259783,
          0.0003766024437516931,
          0.00036647588160108803,
          0.00034671756117524247,
          0.0003015309218983027,
          0.00029020669201271665,
          0.00023902895707691638,
          0.00017522162044457103,
          0.00013436359618361203,
          0.00011187438450773139,
          0.00010612134108959962,
          0.00010038473136413128,
          8.640173367077778e-05,
          3.0000545048759226e-05,
          0,
          0
         ],
         "y": [
          "url_extensions",
          "url_length",
          "url_char_.",
          "url_char_w",
          "url_number_digits",
          "url_char_z",
          "url_extension_.com",
          "url_tlds",
          "url_words_with_length_4",
          "url_number_consonants",
          "url_char_b",
          "url_number_vowels",
          "url_extension_.i",
          "url_char_y",
          "url_char_o",
          "url_char_f",
          "url_char_p",
          "url_char_-",
          "url_char_i",
          "url_char_l",
          "url_char_x",
          "url_char_r",
          "url_char_c",
          "url_char_m",
          "url_char_j",
          "url_char_g",
          "url_char_h",
          "url_char_d",
          "url_char_v",
          "url_extension_.net",
          "url_char_u",
          "url_words_with_length_6",
          "url_char_t",
          "url_words_with_length_5",
          "url_char_e",
          "url_words_with_length_7",
          "url_char_s",
          "url_char_a",
          "url_words_with_length_8",
          "url_char_k",
          "url_char_n"
         ]
        }
       ],
       "layout": {
        "autosize": false,
        "height": 1000,
        "width": 1000,
        "xaxis": {
         "tickfont": {
          "color": "black",
          "size": 12
         },
         "title": "Feature Importances"
        },
        "yaxis": {
         "automargin": true
        }
       }
      },
      "text/html": [
       "<div id=\"e9a75ec0-2877-4695-88ef-353b5eb1d408\" style=\"height: 1000px; width: 1000px;\" class=\"plotly-graph-div\"></div><script type=\"text/javascript\">require([\"plotly\"], function(Plotly) { window.PLOTLYENV=window.PLOTLYENV || {};window.PLOTLYENV.BASE_URL=\"https://plot.ly\";Plotly.newPlot(\"e9a75ec0-2877-4695-88ef-353b5eb1d408\", [{\"marker\": {\"color\": \"rgb(158,202,225)\", \"line\": {\"color\": \"rgb(8,48,107)\", \"width\": 1.5}}, \"opacity\": 0.6, \"orientation\": \"h\", \"text\": [0.3972, 0.3088, 0.0843, 0.0582, 0.0352, 0.0303, 0.0285, 0.0223, 0.009, 0.0059, 0.0028, 0.0025, 0.0014, 0.0014, 0.0013, 0.0012, 0.001, 0.001, 0.0009, 0.0007, 0.0006, 0.0006, 0.0005, 0.0005, 0.0005, 0.0004, 0.0004, 0.0004, 0.0003, 0.0003, 0.0003, 0.0002, 0.0002, 0.0001, 0.0001, 0.0001, 0.0001, 0.0001, 0.0, 0.0, 0.0], \"textposition\": \"outside\", \"x\": [0.3971543548044095, 0.3088469720715992, 0.08430431260500919, 0.05816475243481475, 0.03523647530993209, 0.030321086347978168, 0.028541604761753644, 0.022279733880166148, 0.008966758435021704, 0.0059193769811712845, 0.002819825749887368, 0.0025266461021011153, 0.0014451538944321605, 0.0014271717917782568, 0.0012960283466737154, 0.0012276690259292618, 0.0010495410411173627, 0.0010011762249922042, 0.0008794984752140722, 0.0007440842400874398, 0.0006466667309638844, 0.0006190740356137565, 0.0005242874718567572, 0.0005207302640382852, 0.0004833316910358083, 0.00038875687259783, 0.0003766024437516931, 0.00036647588160108803, 0.00034671756117524247, 0.0003015309218983027, 0.00029020669201271665, 0.00023902895707691638, 0.00017522162044457103, 0.00013436359618361203, 0.00011187438450773139, 0.00010612134108959962, 0.00010038473136413128, 8.640173367077778e-05, 3.0000545048759226e-05, 0.0, 0.0], \"y\": [\"url_extensions\", \"url_length\", \"url_char_.\", \"url_char_w\", \"url_number_digits\", \"url_char_z\", \"url_extension_.com\", \"url_tlds\", \"url_words_with_length_4\", \"url_number_consonants\", \"url_char_b\", \"url_number_vowels\", \"url_extension_.i\", \"url_char_y\", \"url_char_o\", \"url_char_f\", \"url_char_p\", \"url_char_-\", \"url_char_i\", \"url_char_l\", \"url_char_x\", \"url_char_r\", \"url_char_c\", \"url_char_m\", \"url_char_j\", \"url_char_g\", \"url_char_h\", \"url_char_d\", \"url_char_v\", \"url_extension_.net\", \"url_char_u\", \"url_words_with_length_6\", \"url_char_t\", \"url_words_with_length_5\", \"url_char_e\", \"url_words_with_length_7\", \"url_char_s\", \"url_char_a\", \"url_words_with_length_8\", \"url_char_k\", \"url_char_n\"], \"type\": \"bar\", \"uid\": \"4f28fa41-bbef-477f-ba77-bc7be13a9006\"}], {\"autosize\": false, \"height\": 1000, \"width\": 1000, \"xaxis\": {\"tickfont\": {\"color\": \"black\", \"size\": 12}, \"title\": \"Feature Importances\"}, \"yaxis\": {\"automargin\": true}}, {\"showLink\": true, \"linkText\": \"Export to plot.ly\", \"plotlyServerURL\": \"https://plot.ly\"})});</script>"
      ],
      "text/vnd.plotly.v1+html": [
       "<div id=\"e9a75ec0-2877-4695-88ef-353b5eb1d408\" style=\"height: 1000px; width: 1000px;\" class=\"plotly-graph-div\"></div><script type=\"text/javascript\">require([\"plotly\"], function(Plotly) { window.PLOTLYENV=window.PLOTLYENV || {};window.PLOTLYENV.BASE_URL=\"https://plot.ly\";Plotly.newPlot(\"e9a75ec0-2877-4695-88ef-353b5eb1d408\", [{\"marker\": {\"color\": \"rgb(158,202,225)\", \"line\": {\"color\": \"rgb(8,48,107)\", \"width\": 1.5}}, \"opacity\": 0.6, \"orientation\": \"h\", \"text\": [0.3972, 0.3088, 0.0843, 0.0582, 0.0352, 0.0303, 0.0285, 0.0223, 0.009, 0.0059, 0.0028, 0.0025, 0.0014, 0.0014, 0.0013, 0.0012, 0.001, 0.001, 0.0009, 0.0007, 0.0006, 0.0006, 0.0005, 0.0005, 0.0005, 0.0004, 0.0004, 0.0004, 0.0003, 0.0003, 0.0003, 0.0002, 0.0002, 0.0001, 0.0001, 0.0001, 0.0001, 0.0001, 0.0, 0.0, 0.0], \"textposition\": \"outside\", \"x\": [0.3971543548044095, 0.3088469720715992, 0.08430431260500919, 0.05816475243481475, 0.03523647530993209, 0.030321086347978168, 0.028541604761753644, 0.022279733880166148, 0.008966758435021704, 0.0059193769811712845, 0.002819825749887368, 0.0025266461021011153, 0.0014451538944321605, 0.0014271717917782568, 0.0012960283466737154, 0.0012276690259292618, 0.0010495410411173627, 0.0010011762249922042, 0.0008794984752140722, 0.0007440842400874398, 0.0006466667309638844, 0.0006190740356137565, 0.0005242874718567572, 0.0005207302640382852, 0.0004833316910358083, 0.00038875687259783, 0.0003766024437516931, 0.00036647588160108803, 0.00034671756117524247, 0.0003015309218983027, 0.00029020669201271665, 0.00023902895707691638, 0.00017522162044457103, 0.00013436359618361203, 0.00011187438450773139, 0.00010612134108959962, 0.00010038473136413128, 8.640173367077778e-05, 3.0000545048759226e-05, 0.0, 0.0], \"y\": [\"url_extensions\", \"url_length\", \"url_char_.\", \"url_char_w\", \"url_number_digits\", \"url_char_z\", \"url_extension_.com\", \"url_tlds\", \"url_words_with_length_4\", \"url_number_consonants\", \"url_char_b\", \"url_number_vowels\", \"url_extension_.i\", \"url_char_y\", \"url_char_o\", \"url_char_f\", \"url_char_p\", \"url_char_-\", \"url_char_i\", \"url_char_l\", \"url_char_x\", \"url_char_r\", \"url_char_c\", \"url_char_m\", \"url_char_j\", \"url_char_g\", \"url_char_h\", \"url_char_d\", \"url_char_v\", \"url_extension_.net\", \"url_char_u\", \"url_words_with_length_6\", \"url_char_t\", \"url_words_with_length_5\", \"url_char_e\", \"url_words_with_length_7\", \"url_char_s\", \"url_char_a\", \"url_words_with_length_8\", \"url_char_k\", \"url_char_n\"], \"type\": \"bar\", \"uid\": \"4f28fa41-bbef-477f-ba77-bc7be13a9006\"}], {\"autosize\": false, \"height\": 1000, \"width\": 1000, \"xaxis\": {\"tickfont\": {\"color\": \"black\", \"size\": 12}, \"title\": \"Feature Importances\"}, \"yaxis\": {\"automargin\": true}}, {\"showLink\": true, \"linkText\": \"Export to plot.ly\", \"plotlyServerURL\": \"https://plot.ly\"})});</script>"
      ]
     },
     "metadata": {},
     "output_type": "display_data"
    },
    {
     "name": "stdout",
     "output_type": "stream",
     "text": [
      "\n",
      "\n",
      "\u001b[1mExtraTree Classifier\u001b[0m\n",
      "Accuracy of the model for training data is: 0.9999732741801854\n",
      "Confusion Matrix for training data is:\n"
     ]
    },
    {
     "data": {
      "text/plain": [
       "Predicted  False  True  __all__\n",
       "Actual                         \n",
       "False      31892     0    31892\n",
       "True           1  5524     5525\n",
       "__all__    31893  5524    37417"
      ]
     },
     "metadata": {},
     "output_type": "display_data"
    },
    {
     "name": "stdout",
     "output_type": "stream",
     "text": [
      "Accuracy of the model for test data is: 0.9640795381654907\n",
      "Confusion Matrix for test data is:\n"
     ]
    },
    {
     "data": {
      "text/plain": [
       "Predicted  False  True  __all__\n",
       "Actual                         \n",
       "False       7926    59     7985\n",
       "True         277  1092     1369\n",
       "__all__     8203  1151     9354"
      ]
     },
     "metadata": {},
     "output_type": "display_data"
    },
    {
     "data": {
      "application/vnd.plotly.v1+json": {
       "config": {
        "linkText": "Export to plot.ly",
        "plotlyServerURL": "https://plot.ly",
        "showLink": true
       },
       "data": [
        {
         "marker": {
          "color": "rgb(158,202,225)",
          "line": {
           "color": "rgb(8,48,107)",
           "width": 1.5
          }
         },
         "opacity": 0.6,
         "orientation": "h",
         "text": [
          0.1371,
          0.0995,
          0.0793,
          0.06,
          0.0512,
          0.0433,
          0.0383,
          0.0319,
          0.0309,
          0.0275,
          0.0258,
          0.0236,
          0.0207,
          0.0189,
          0.0182,
          0.0164,
          0.016,
          0.0152,
          0.015,
          0.0144,
          0.0139,
          0.0138,
          0.0135,
          0.0131,
          0.0126,
          0.0125,
          0.0122,
          0.0121,
          0.0118,
          0.0114,
          0.0112,
          0.011,
          0.0105,
          0.0094,
          0.0083,
          0.0079,
          0.0074,
          0.0072,
          0.0069,
          0.0065,
          0.0038
         ],
         "textposition": "outside",
         "type": "bar",
         "uid": "f76760ff-e218-48ad-9456-5d0f3e17b1a1",
         "x": [
          0.13706933042961872,
          0.09954372430731982,
          0.07927812117255252,
          0.06000048783516749,
          0.05115012105378183,
          0.043276340355859345,
          0.0382578832357685,
          0.031862134856977045,
          0.030850280118973082,
          0.027475481577120434,
          0.02576923861136382,
          0.023571672299095677,
          0.020705358496967637,
          0.018918375052721943,
          0.01821377974348194,
          0.01641910292665779,
          0.016043010641795412,
          0.015184001865512633,
          0.015013189495484136,
          0.014355774360843038,
          0.013891247308048964,
          0.013790024784115272,
          0.01349720325974166,
          0.013086849596645883,
          0.01260863926406078,
          0.012535858640467636,
          0.012226855473076744,
          0.012059619362325932,
          0.011823984038944498,
          0.011379120513751638,
          0.011220235327049972,
          0.010963958146798953,
          0.010460217088980883,
          0.009439653427728928,
          0.008260044878252538,
          0.007936389187322044,
          0.007418272313010143,
          0.007240066741089294,
          0.006896071862268379,
          0.0065116956182269935,
          0.003796584731029885
         ],
         "y": [
          "url_char_.",
          "url_extensions",
          "url_length",
          "url_char_w",
          "url_number_digits",
          "url_number_vowels",
          "url_number_consonants",
          "url_tlds",
          "url_char_z",
          "url_char_i",
          "url_extension_.com",
          "url_char_y",
          "url_char_e",
          "url_char_l",
          "url_char_x",
          "url_char_s",
          "url_words_with_length_4",
          "url_char_b",
          "url_char_p",
          "url_char_f",
          "url_char_u",
          "url_char_n",
          "url_char_c",
          "url_char_o",
          "url_char_t",
          "url_char_a",
          "url_words_with_length_5",
          "url_char_d",
          "url_char_m",
          "url_char_h",
          "url_words_with_length_6",
          "url_char_r",
          "url_char_k",
          "url_char_g",
          "url_words_with_length_7",
          "url_char_-",
          "url_char_v",
          "url_words_with_length_8",
          "url_extension_.i",
          "url_char_j",
          "url_extension_.net"
         ]
        }
       ],
       "layout": {
        "autosize": false,
        "height": 1000,
        "width": 1000,
        "xaxis": {
         "tickfont": {
          "color": "black",
          "size": 12
         },
         "title": "Feature Importances"
        },
        "yaxis": {
         "automargin": true
        }
       }
      },
      "text/html": [
       "<div id=\"281311b1-524e-4757-a55a-0e025f8d9c37\" style=\"height: 1000px; width: 1000px;\" class=\"plotly-graph-div\"></div><script type=\"text/javascript\">require([\"plotly\"], function(Plotly) { window.PLOTLYENV=window.PLOTLYENV || {};window.PLOTLYENV.BASE_URL=\"https://plot.ly\";Plotly.newPlot(\"281311b1-524e-4757-a55a-0e025f8d9c37\", [{\"marker\": {\"color\": \"rgb(158,202,225)\", \"line\": {\"color\": \"rgb(8,48,107)\", \"width\": 1.5}}, \"opacity\": 0.6, \"orientation\": \"h\", \"text\": [0.1371, 0.0995, 0.0793, 0.06, 0.0512, 0.0433, 0.0383, 0.0319, 0.0309, 0.0275, 0.0258, 0.0236, 0.0207, 0.0189, 0.0182, 0.0164, 0.016, 0.0152, 0.015, 0.0144, 0.0139, 0.0138, 0.0135, 0.0131, 0.0126, 0.0125, 0.0122, 0.0121, 0.0118, 0.0114, 0.0112, 0.011, 0.0105, 0.0094, 0.0083, 0.0079, 0.0074, 0.0072, 0.0069, 0.0065, 0.0038], \"textposition\": \"outside\", \"x\": [0.13706933042961872, 0.09954372430731982, 0.07927812117255252, 0.06000048783516749, 0.05115012105378183, 0.043276340355859345, 0.0382578832357685, 0.031862134856977045, 0.030850280118973082, 0.027475481577120434, 0.02576923861136382, 0.023571672299095677, 0.020705358496967637, 0.018918375052721943, 0.01821377974348194, 0.01641910292665779, 0.016043010641795412, 0.015184001865512633, 0.015013189495484136, 0.014355774360843038, 0.013891247308048964, 0.013790024784115272, 0.01349720325974166, 0.013086849596645883, 0.01260863926406078, 0.012535858640467636, 0.012226855473076744, 0.012059619362325932, 0.011823984038944498, 0.011379120513751638, 0.011220235327049972, 0.010963958146798953, 0.010460217088980883, 0.009439653427728928, 0.008260044878252538, 0.007936389187322044, 0.007418272313010143, 0.007240066741089294, 0.006896071862268379, 0.0065116956182269935, 0.003796584731029885], \"y\": [\"url_char_.\", \"url_extensions\", \"url_length\", \"url_char_w\", \"url_number_digits\", \"url_number_vowels\", \"url_number_consonants\", \"url_tlds\", \"url_char_z\", \"url_char_i\", \"url_extension_.com\", \"url_char_y\", \"url_char_e\", \"url_char_l\", \"url_char_x\", \"url_char_s\", \"url_words_with_length_4\", \"url_char_b\", \"url_char_p\", \"url_char_f\", \"url_char_u\", \"url_char_n\", \"url_char_c\", \"url_char_o\", \"url_char_t\", \"url_char_a\", \"url_words_with_length_5\", \"url_char_d\", \"url_char_m\", \"url_char_h\", \"url_words_with_length_6\", \"url_char_r\", \"url_char_k\", \"url_char_g\", \"url_words_with_length_7\", \"url_char_-\", \"url_char_v\", \"url_words_with_length_8\", \"url_extension_.i\", \"url_char_j\", \"url_extension_.net\"], \"type\": \"bar\", \"uid\": \"f76760ff-e218-48ad-9456-5d0f3e17b1a1\"}], {\"autosize\": false, \"height\": 1000, \"width\": 1000, \"xaxis\": {\"tickfont\": {\"color\": \"black\", \"size\": 12}, \"title\": \"Feature Importances\"}, \"yaxis\": {\"automargin\": true}}, {\"showLink\": true, \"linkText\": \"Export to plot.ly\", \"plotlyServerURL\": \"https://plot.ly\"})});</script>"
      ],
      "text/vnd.plotly.v1+html": [
       "<div id=\"281311b1-524e-4757-a55a-0e025f8d9c37\" style=\"height: 1000px; width: 1000px;\" class=\"plotly-graph-div\"></div><script type=\"text/javascript\">require([\"plotly\"], function(Plotly) { window.PLOTLYENV=window.PLOTLYENV || {};window.PLOTLYENV.BASE_URL=\"https://plot.ly\";Plotly.newPlot(\"281311b1-524e-4757-a55a-0e025f8d9c37\", [{\"marker\": {\"color\": \"rgb(158,202,225)\", \"line\": {\"color\": \"rgb(8,48,107)\", \"width\": 1.5}}, \"opacity\": 0.6, \"orientation\": \"h\", \"text\": [0.1371, 0.0995, 0.0793, 0.06, 0.0512, 0.0433, 0.0383, 0.0319, 0.0309, 0.0275, 0.0258, 0.0236, 0.0207, 0.0189, 0.0182, 0.0164, 0.016, 0.0152, 0.015, 0.0144, 0.0139, 0.0138, 0.0135, 0.0131, 0.0126, 0.0125, 0.0122, 0.0121, 0.0118, 0.0114, 0.0112, 0.011, 0.0105, 0.0094, 0.0083, 0.0079, 0.0074, 0.0072, 0.0069, 0.0065, 0.0038], \"textposition\": \"outside\", \"x\": [0.13706933042961872, 0.09954372430731982, 0.07927812117255252, 0.06000048783516749, 0.05115012105378183, 0.043276340355859345, 0.0382578832357685, 0.031862134856977045, 0.030850280118973082, 0.027475481577120434, 0.02576923861136382, 0.023571672299095677, 0.020705358496967637, 0.018918375052721943, 0.01821377974348194, 0.01641910292665779, 0.016043010641795412, 0.015184001865512633, 0.015013189495484136, 0.014355774360843038, 0.013891247308048964, 0.013790024784115272, 0.01349720325974166, 0.013086849596645883, 0.01260863926406078, 0.012535858640467636, 0.012226855473076744, 0.012059619362325932, 0.011823984038944498, 0.011379120513751638, 0.011220235327049972, 0.010963958146798953, 0.010460217088980883, 0.009439653427728928, 0.008260044878252538, 0.007936389187322044, 0.007418272313010143, 0.007240066741089294, 0.006896071862268379, 0.0065116956182269935, 0.003796584731029885], \"y\": [\"url_char_.\", \"url_extensions\", \"url_length\", \"url_char_w\", \"url_number_digits\", \"url_number_vowels\", \"url_number_consonants\", \"url_tlds\", \"url_char_z\", \"url_char_i\", \"url_extension_.com\", \"url_char_y\", \"url_char_e\", \"url_char_l\", \"url_char_x\", \"url_char_s\", \"url_words_with_length_4\", \"url_char_b\", \"url_char_p\", \"url_char_f\", \"url_char_u\", \"url_char_n\", \"url_char_c\", \"url_char_o\", \"url_char_t\", \"url_char_a\", \"url_words_with_length_5\", \"url_char_d\", \"url_char_m\", \"url_char_h\", \"url_words_with_length_6\", \"url_char_r\", \"url_char_k\", \"url_char_g\", \"url_words_with_length_7\", \"url_char_-\", \"url_char_v\", \"url_words_with_length_8\", \"url_extension_.i\", \"url_char_j\", \"url_extension_.net\"], \"type\": \"bar\", \"uid\": \"f76760ff-e218-48ad-9456-5d0f3e17b1a1\"}], {\"autosize\": false, \"height\": 1000, \"width\": 1000, \"xaxis\": {\"tickfont\": {\"color\": \"black\", \"size\": 12}, \"title\": \"Feature Importances\"}, \"yaxis\": {\"automargin\": true}}, {\"showLink\": true, \"linkText\": \"Export to plot.ly\", \"plotlyServerURL\": \"https://plot.ly\"})});</script>"
      ]
     },
     "metadata": {},
     "output_type": "display_data"
    },
    {
     "name": "stdout",
     "output_type": "stream",
     "text": [
      "\n",
      "\n",
      "\u001b[1mBagging Classifier\u001b[0m\n",
      "Accuracy of the model for training data is: 0.9942004971002486\n",
      "Confusion Matrix for training data is:\n"
     ]
    },
    {
     "data": {
      "text/plain": [
       "Predicted  False  True  __all__\n",
       "Actual                         \n",
       "False      31885     7    31892\n",
       "True         210  5315     5525\n",
       "__all__    32095  5322    37417"
      ]
     },
     "metadata": {},
     "output_type": "display_data"
    },
    {
     "name": "stdout",
     "output_type": "stream",
     "text": [
      "Accuracy of the model for test data is: 0.9612999786187727\n",
      "Confusion Matrix for test data is:\n"
     ]
    },
    {
     "data": {
      "text/plain": [
       "Predicted  False  True  __all__\n",
       "Actual                         \n",
       "False       7904    81     7985\n",
       "True         281  1088     1369\n",
       "__all__     8185  1169     9354"
      ]
     },
     "metadata": {},
     "output_type": "display_data"
    },
    {
     "name": "stdout",
     "output_type": "stream",
     "text": [
      "\n",
      "\n",
      "\u001b[1mNeural Network-1\u001b[0m\n",
      "The accuracy of the model on training data is: 0.9959376753881926\n"
     ]
    },
    {
     "data": {
      "text/plain": [
       "Predicted  False  True  __all__\n",
       "Actual                         \n",
       "False      31851    41    31892\n",
       "True         111  5414     5525\n",
       "__all__    31962  5455    37417"
      ]
     },
     "metadata": {},
     "output_type": "display_data"
    },
    {
     "name": "stdout",
     "output_type": "stream",
     "text": [
      "The accuracy of the model on test data is: 0.9557408595253367\n"
     ]
    },
    {
     "data": {
      "text/plain": [
       "Predicted  False  True  __all__\n",
       "Actual                         \n",
       "False       7788   197     7985\n",
       "True         217  1152     1369\n",
       "__all__     8005  1349     9354"
      ]
     },
     "metadata": {},
     "output_type": "display_data"
    },
    {
     "name": "stdout",
     "output_type": "stream",
     "text": [
      "\n",
      "\n"
     ]
    }
   ],
   "source": [
    "feat_imp=[None]*4\n",
    "j=0\n",
    "for i in range(0,8):\n",
    "    if i>=2 and i<=5:\n",
    "        model,cm_train,cm_test,acc_train,acc_test,roc_auc,feat_imp[j],mcc=f[i](scaled_X_train,train_Y,scaled_X_test,test_Y,columns)\n",
    "        j=j+1\n",
    "    else:\n",
    "        model,cm_train,cm_test,acc_train,acc_test,roc_auc,mcc=f[i](scaled_X_train,train_Y,scaled_X_test,test_Y)\n",
    "    table_80_50_train.loc[i]=   ([acc_train,cm_train.TP,cm_train.TN,cm_train.FP,cm_train.FN,cm_train.FPR,cm_train.FNR])\n",
    "    table_80_50_test.loc[i] =   ([acc_test ,cm_test.TP, cm_test.TN, cm_test.FP, cm_test.FN, cm_test.FPR, cm_test.FNR,roc_auc,mcc])\n",
    "    print(\"\\n\")"
   ]
  },
  {
   "cell_type": "markdown",
   "metadata": {},
   "source": [
    "### <a id='1.A' style=\"text-decoration : none; color : #000000;\"> A Results</a>"
   ]
  },
  {
   "cell_type": "code",
   "execution_count": 48,
   "metadata": {},
   "outputs": [
    {
     "data": {
      "application/vnd.plotly.v1+json": {
       "config": {
        "linkText": "Export to plot.ly",
        "plotlyServerURL": "https://plot.ly",
        "showLink": true
       },
       "data": [
        {
         "mode": "lines",
         "name": "KNN_model",
         "type": "scatter",
         "uid": "c29359d6-d0dc-4868-97be-f32caa4a64f9",
         "x": [
          "accuracy",
          "FPR",
          "FNR",
          "auc"
         ],
         "y": [
          0.9584135129356425,
          0.003256105197244834,
          0.26515704894083275,
          0.8657934229309613
         ]
        },
        {
         "mode": "lines+markers",
         "name": "Logistic Regression",
         "type": "scatter",
         "uid": "e934ef37-f095-4074-afff-ea2358385c7b",
         "x": [
          "accuracy",
          "FPR",
          "FNR",
          "auc"
         ],
         "y": [
          0.9517853324780843,
          0.014402003757044458,
          0.24543462381300218,
          0.8700816862149767
         ]
        },
        {
         "marker": {
          "symbol": "x"
         },
         "mode": "lines+markers",
         "name": "Random Forest",
         "type": "scatter",
         "uid": "d3e0d247-4afb-47c8-ab9d-357f5dccbdb8",
         "x": [
          "accuracy",
          "FPR",
          "FNR",
          "auc"
         ],
         "y": [
          0.9646140688475519,
          0.007263619286161553,
          0.19941563184806427,
          0.8966603744328872
         ]
        },
        {
         "mode": "lines",
         "name": "Ada Boost",
         "type": "scatter",
         "uid": "b4e9e256-cc64-439e-ab0a-791c077620f1",
         "x": [
          "accuracy",
          "FPR",
          "FNR",
          "auc"
         ],
         "y": [
          0.9498610220226641,
          0.0147777082028804,
          0.25639152666179693,
          0.8644153825676613
         ]
        },
        {
         "mode": "lines+markers",
         "name": "GradientBoosting",
         "type": "scatter",
         "uid": "c9cfdb69-f437-4ae4-99a5-c8d0c28af803",
         "x": [
          "accuracy",
          "FPR",
          "FNR",
          "auc"
         ],
         "y": [
          0.957237545435108,
          0.0123982467125861,
          0.21986851716581446,
          0.8838666180607997
         ]
        },
        {
         "marker": {
          "symbol": "x"
         },
         "mode": "lines+markers",
         "name": "ExtraTree Classifier",
         "type": "scatter",
         "uid": "d5abd5cb-d86e-4a90-9731-5027c5a12b53",
         "x": [
          "accuracy",
          "FPR",
          "FNR",
          "auc"
         ],
         "y": [
          0.9640795381654907,
          0.0073888541014402,
          0.20233747260774287,
          0.8951368366454084
         ]
        },
        {
         "marker": {
          "symbol": "x"
         },
         "mode": "lines+markers",
         "name": "Bagging",
         "type": "scatter",
         "uid": "50958edc-0216-4388-8436-877674a031dd",
         "x": [
          "accuracy",
          "FPR",
          "FNR",
          "auc"
         ],
         "y": [
          0.9612999786187727,
          0.010144020037570445,
          0.20525931336742148,
          0.8922983332975041
         ]
        },
        {
         "marker": {
          "symbol": "x"
         },
         "mode": "lines+markers",
         "name": "Neural Network",
         "type": "scatter",
         "uid": "90552f37-9c76-487c-baac-364115eae065",
         "x": [
          "accuracy",
          "FPR",
          "FNR",
          "auc"
         ],
         "y": [
          0.9557408595253367,
          0.02467125860989355,
          0.1585098612125639,
          0.9084094400887712
         ]
        }
       ],
       "layout": {
        "title": "Result comparision for Features selected in Section 1",
        "yaxis": {
         "dtick": 0.05,
         "tick0": 0
        }
       }
      },
      "text/html": [
       "<div id=\"85f80310-7b40-4737-8f09-1c89683f4f6a\" style=\"height: 525px; width: 100%;\" class=\"plotly-graph-div\"></div><script type=\"text/javascript\">require([\"plotly\"], function(Plotly) { window.PLOTLYENV=window.PLOTLYENV || {};window.PLOTLYENV.BASE_URL=\"https://plot.ly\";Plotly.newPlot(\"85f80310-7b40-4737-8f09-1c89683f4f6a\", [{\"mode\": \"lines\", \"name\": \"KNN_model\", \"x\": [\"accuracy\", \"FPR\", \"FNR\", \"auc\"], \"y\": [0.9584135129356425, 0.003256105197244834, 0.26515704894083275, 0.8657934229309613], \"type\": \"scatter\", \"uid\": \"c29359d6-d0dc-4868-97be-f32caa4a64f9\"}, {\"mode\": \"lines+markers\", \"name\": \"Logistic Regression\", \"x\": [\"accuracy\", \"FPR\", \"FNR\", \"auc\"], \"y\": [0.9517853324780843, 0.014402003757044458, 0.24543462381300218, 0.8700816862149767], \"type\": \"scatter\", \"uid\": \"e934ef37-f095-4074-afff-ea2358385c7b\"}, {\"marker\": {\"symbol\": \"x\"}, \"mode\": \"lines+markers\", \"name\": \"Random Forest\", \"x\": [\"accuracy\", \"FPR\", \"FNR\", \"auc\"], \"y\": [0.9646140688475519, 0.007263619286161553, 0.19941563184806427, 0.8966603744328872], \"type\": \"scatter\", \"uid\": \"d3e0d247-4afb-47c8-ab9d-357f5dccbdb8\"}, {\"mode\": \"lines\", \"name\": \"Ada Boost\", \"x\": [\"accuracy\", \"FPR\", \"FNR\", \"auc\"], \"y\": [0.9498610220226641, 0.0147777082028804, 0.25639152666179693, 0.8644153825676613], \"type\": \"scatter\", \"uid\": \"b4e9e256-cc64-439e-ab0a-791c077620f1\"}, {\"mode\": \"lines+markers\", \"name\": \"GradientBoosting\", \"x\": [\"accuracy\", \"FPR\", \"FNR\", \"auc\"], \"y\": [0.957237545435108, 0.0123982467125861, 0.21986851716581446, 0.8838666180607997], \"type\": \"scatter\", \"uid\": \"c9cfdb69-f437-4ae4-99a5-c8d0c28af803\"}, {\"marker\": {\"symbol\": \"x\"}, \"mode\": \"lines+markers\", \"name\": \"ExtraTree Classifier\", \"x\": [\"accuracy\", \"FPR\", \"FNR\", \"auc\"], \"y\": [0.9640795381654907, 0.0073888541014402, 0.20233747260774287, 0.8951368366454084], \"type\": \"scatter\", \"uid\": \"d5abd5cb-d86e-4a90-9731-5027c5a12b53\"}, {\"marker\": {\"symbol\": \"x\"}, \"mode\": \"lines+markers\", \"name\": \"Bagging\", \"x\": [\"accuracy\", \"FPR\", \"FNR\", \"auc\"], \"y\": [0.9612999786187727, 0.010144020037570445, 0.20525931336742148, 0.8922983332975041], \"type\": \"scatter\", \"uid\": \"50958edc-0216-4388-8436-877674a031dd\"}, {\"marker\": {\"symbol\": \"x\"}, \"mode\": \"lines+markers\", \"name\": \"Neural Network\", \"x\": [\"accuracy\", \"FPR\", \"FNR\", \"auc\"], \"y\": [0.9557408595253367, 0.02467125860989355, 0.1585098612125639, 0.9084094400887712], \"type\": \"scatter\", \"uid\": \"90552f37-9c76-487c-baac-364115eae065\"}], {\"title\": \"Result comparision for Features selected in Section 1\", \"yaxis\": {\"dtick\": 0.05, \"tick0\": 0}}, {\"showLink\": true, \"linkText\": \"Export to plot.ly\", \"plotlyServerURL\": \"https://plot.ly\"})});</script><script type=\"text/javascript\">window.addEventListener(\"resize\", function(){window._Plotly.Plots.resize(document.getElementById(\"85f80310-7b40-4737-8f09-1c89683f4f6a\"));});</script>"
      ],
      "text/vnd.plotly.v1+html": [
       "<div id=\"85f80310-7b40-4737-8f09-1c89683f4f6a\" style=\"height: 525px; width: 100%;\" class=\"plotly-graph-div\"></div><script type=\"text/javascript\">require([\"plotly\"], function(Plotly) { window.PLOTLYENV=window.PLOTLYENV || {};window.PLOTLYENV.BASE_URL=\"https://plot.ly\";Plotly.newPlot(\"85f80310-7b40-4737-8f09-1c89683f4f6a\", [{\"mode\": \"lines\", \"name\": \"KNN_model\", \"x\": [\"accuracy\", \"FPR\", \"FNR\", \"auc\"], \"y\": [0.9584135129356425, 0.003256105197244834, 0.26515704894083275, 0.8657934229309613], \"type\": \"scatter\", \"uid\": \"c29359d6-d0dc-4868-97be-f32caa4a64f9\"}, {\"mode\": \"lines+markers\", \"name\": \"Logistic Regression\", \"x\": [\"accuracy\", \"FPR\", \"FNR\", \"auc\"], \"y\": [0.9517853324780843, 0.014402003757044458, 0.24543462381300218, 0.8700816862149767], \"type\": \"scatter\", \"uid\": \"e934ef37-f095-4074-afff-ea2358385c7b\"}, {\"marker\": {\"symbol\": \"x\"}, \"mode\": \"lines+markers\", \"name\": \"Random Forest\", \"x\": [\"accuracy\", \"FPR\", \"FNR\", \"auc\"], \"y\": [0.9646140688475519, 0.007263619286161553, 0.19941563184806427, 0.8966603744328872], \"type\": \"scatter\", \"uid\": \"d3e0d247-4afb-47c8-ab9d-357f5dccbdb8\"}, {\"mode\": \"lines\", \"name\": \"Ada Boost\", \"x\": [\"accuracy\", \"FPR\", \"FNR\", \"auc\"], \"y\": [0.9498610220226641, 0.0147777082028804, 0.25639152666179693, 0.8644153825676613], \"type\": \"scatter\", \"uid\": \"b4e9e256-cc64-439e-ab0a-791c077620f1\"}, {\"mode\": \"lines+markers\", \"name\": \"GradientBoosting\", \"x\": [\"accuracy\", \"FPR\", \"FNR\", \"auc\"], \"y\": [0.957237545435108, 0.0123982467125861, 0.21986851716581446, 0.8838666180607997], \"type\": \"scatter\", \"uid\": \"c9cfdb69-f437-4ae4-99a5-c8d0c28af803\"}, {\"marker\": {\"symbol\": \"x\"}, \"mode\": \"lines+markers\", \"name\": \"ExtraTree Classifier\", \"x\": [\"accuracy\", \"FPR\", \"FNR\", \"auc\"], \"y\": [0.9640795381654907, 0.0073888541014402, 0.20233747260774287, 0.8951368366454084], \"type\": \"scatter\", \"uid\": \"d5abd5cb-d86e-4a90-9731-5027c5a12b53\"}, {\"marker\": {\"symbol\": \"x\"}, \"mode\": \"lines+markers\", \"name\": \"Bagging\", \"x\": [\"accuracy\", \"FPR\", \"FNR\", \"auc\"], \"y\": [0.9612999786187727, 0.010144020037570445, 0.20525931336742148, 0.8922983332975041], \"type\": \"scatter\", \"uid\": \"50958edc-0216-4388-8436-877674a031dd\"}, {\"marker\": {\"symbol\": \"x\"}, \"mode\": \"lines+markers\", \"name\": \"Neural Network\", \"x\": [\"accuracy\", \"FPR\", \"FNR\", \"auc\"], \"y\": [0.9557408595253367, 0.02467125860989355, 0.1585098612125639, 0.9084094400887712], \"type\": \"scatter\", \"uid\": \"90552f37-9c76-487c-baac-364115eae065\"}], {\"title\": \"Result comparision for Features selected in Section 1\", \"yaxis\": {\"dtick\": 0.05, \"tick0\": 0}}, {\"showLink\": true, \"linkText\": \"Export to plot.ly\", \"plotlyServerURL\": \"https://plot.ly\"})});</script><script type=\"text/javascript\">window.addEventListener(\"resize\", function(){window._Plotly.Plots.resize(document.getElementById(\"85f80310-7b40-4737-8f09-1c89683f4f6a\"));});</script>"
      ]
     },
     "metadata": {},
     "output_type": "display_data"
    }
   ],
   "source": [
    "trace0 = go.Scatter(x=table_80_50_test.iloc[0].index.values[[0,5,6,7]],\n",
    "                    y=table_80_50_test.iloc[0].values[[0,5,6,7]],\n",
    "                    mode = 'lines',\n",
    "                    name = 'KNN_model')\n",
    "\n",
    "trace1 = go.Scatter(x=table_80_50_test.iloc[1].index.values[[0,5,6,7]],\n",
    "                    y=table_80_50_test.iloc[1].values[[0,5,6,7]],\n",
    "                    mode = 'lines+markers',\n",
    "                    name = 'Logistic Regression')\n",
    "\n",
    "trace2 = go.Scatter(x=table_80_50_test.iloc[2].index.values[[0,5,6,7]],\n",
    "                    y=table_80_50_test.iloc[2].values[[0,5,6,7]],\n",
    "                    mode = 'lines+markers',marker=dict(symbol='x'),\n",
    "                    name = 'Random Forest')\n",
    "\n",
    "\n",
    "trace3 = go.Scatter(x=table_80_50_test.iloc[3].index.values[[0,5,6,7]],\n",
    "                    y=table_80_50_test.iloc[3].values[[0,5,6,7]],\n",
    "                    mode = 'lines',\n",
    "                    name = 'Ada Boost')\n",
    "\n",
    "trace4 = go.Scatter(x=table_80_50_test.iloc[4].index.values[[0,5,6,7]],\n",
    "                    y=table_80_50_test.iloc[4].values[[0,5,6,7]],\n",
    "                    mode = 'lines+markers',\n",
    "                    name = 'GradientBoosting')\n",
    "\n",
    "trace5 = go.Scatter(x=table_80_50_test.iloc[5].index.values[[0,5,6,7]],\n",
    "                    y=table_80_50_test.iloc[5].values[[0,5,6,7]],\n",
    "                    mode = 'lines+markers',marker=dict(symbol='x'),\n",
    "                    name = 'ExtraTree Classifier')\n",
    "\n",
    "trace6 = go.Scatter(x=table_80_50_test.iloc[6].index.values[[0,5,6,7]],\n",
    "                    y=table_80_50_test.iloc[6].values[[0,5,6,7]],\n",
    "                    mode = 'lines+markers',marker=dict(symbol='x'),\n",
    "                    name = 'Bagging')\n",
    "\n",
    "trace7 = go.Scatter(x=table_80_50_test.iloc[7].index.values[[0,5,6,7]],\n",
    "                    y=table_80_50_test.iloc[7].values[[0,5,6,7]],\n",
    "                    mode = 'lines+markers',marker=dict(symbol='x'),\n",
    "                    name = 'Neural Network')\n",
    "\n",
    "\n",
    "\n",
    "data = [trace0, trace1, trace2, trace3, trace4, trace5, trace6, trace7]\n",
    "layout = go.Layout(yaxis=dict(tick0=0,dtick=0.05),title='Result comparision for Features selected in Section 1')\n",
    "fig = go.Figure(data=data, layout=layout)\n",
    "\n",
    "iplot(fig, filename='Result')"
   ]
  },
  {
   "cell_type": "code",
   "execution_count": 49,
   "metadata": {},
   "outputs": [
    {
     "name": "stdout",
     "output_type": "stream",
     "text": [
      "Training Results\n"
     ]
    },
    {
     "data": {
      "text/html": [
       "<div>\n",
       "<style scoped>\n",
       "    .dataframe tbody tr th:only-of-type {\n",
       "        vertical-align: middle;\n",
       "    }\n",
       "\n",
       "    .dataframe tbody tr th {\n",
       "        vertical-align: top;\n",
       "    }\n",
       "\n",
       "    .dataframe thead th {\n",
       "        text-align: right;\n",
       "    }\n",
       "</style>\n",
       "<table border=\"1\" class=\"dataframe\">\n",
       "  <thead>\n",
       "    <tr style=\"text-align: right;\">\n",
       "      <th></th>\n",
       "      <th>accuracy</th>\n",
       "      <th>TP</th>\n",
       "      <th>TN</th>\n",
       "      <th>FP</th>\n",
       "      <th>FN</th>\n",
       "      <th>FPR</th>\n",
       "      <th>FNR</th>\n",
       "    </tr>\n",
       "    <tr>\n",
       "      <th>index</th>\n",
       "      <th></th>\n",
       "      <th></th>\n",
       "      <th></th>\n",
       "      <th></th>\n",
       "      <th></th>\n",
       "      <th></th>\n",
       "      <th></th>\n",
       "    </tr>\n",
       "  </thead>\n",
       "  <tbody>\n",
       "    <tr>\n",
       "      <th>KNeighborsClassifier</th>\n",
       "      <td>0.964535</td>\n",
       "      <td>4263.0</td>\n",
       "      <td>31827.0</td>\n",
       "      <td>65.0</td>\n",
       "      <td>1262.0</td>\n",
       "      <td>0.002038</td>\n",
       "      <td>0.228416</td>\n",
       "    </tr>\n",
       "    <tr>\n",
       "      <th>LogisticRegression</th>\n",
       "      <td>0.951653</td>\n",
       "      <td>4117.0</td>\n",
       "      <td>31491.0</td>\n",
       "      <td>401.0</td>\n",
       "      <td>1408.0</td>\n",
       "      <td>0.012574</td>\n",
       "      <td>0.254842</td>\n",
       "    </tr>\n",
       "    <tr>\n",
       "      <th>RandomForestClassifier</th>\n",
       "      <td>0.994521</td>\n",
       "      <td>5323.0</td>\n",
       "      <td>31889.0</td>\n",
       "      <td>3.0</td>\n",
       "      <td>202.0</td>\n",
       "      <td>0.000094</td>\n",
       "      <td>0.036561</td>\n",
       "    </tr>\n",
       "    <tr>\n",
       "      <th>AdaBoostClassifier</th>\n",
       "      <td>0.948793</td>\n",
       "      <td>4053.0</td>\n",
       "      <td>31448.0</td>\n",
       "      <td>444.0</td>\n",
       "      <td>1472.0</td>\n",
       "      <td>0.013922</td>\n",
       "      <td>0.266425</td>\n",
       "    </tr>\n",
       "    <tr>\n",
       "      <th>GradientBoostingClassifier</th>\n",
       "      <td>0.959831</td>\n",
       "      <td>4362.0</td>\n",
       "      <td>31552.0</td>\n",
       "      <td>340.0</td>\n",
       "      <td>1163.0</td>\n",
       "      <td>0.010661</td>\n",
       "      <td>0.210498</td>\n",
       "    </tr>\n",
       "    <tr>\n",
       "      <th>ExtraTreeClassifier</th>\n",
       "      <td>0.999973</td>\n",
       "      <td>5524.0</td>\n",
       "      <td>31892.0</td>\n",
       "      <td>0.0</td>\n",
       "      <td>1.0</td>\n",
       "      <td>0.000000</td>\n",
       "      <td>0.000181</td>\n",
       "    </tr>\n",
       "    <tr>\n",
       "      <th>BaggingClassifier</th>\n",
       "      <td>0.994200</td>\n",
       "      <td>5315.0</td>\n",
       "      <td>31885.0</td>\n",
       "      <td>7.0</td>\n",
       "      <td>210.0</td>\n",
       "      <td>0.000219</td>\n",
       "      <td>0.038009</td>\n",
       "    </tr>\n",
       "    <tr>\n",
       "      <th>Neural Network-1</th>\n",
       "      <td>0.995938</td>\n",
       "      <td>5414.0</td>\n",
       "      <td>31851.0</td>\n",
       "      <td>41.0</td>\n",
       "      <td>111.0</td>\n",
       "      <td>0.001286</td>\n",
       "      <td>0.020090</td>\n",
       "    </tr>\n",
       "  </tbody>\n",
       "</table>\n",
       "</div>"
      ],
      "text/plain": [
       "                            accuracy      TP       TN     FP      FN  \\\n",
       "index                                                                  \n",
       "KNeighborsClassifier        0.964535  4263.0  31827.0   65.0  1262.0   \n",
       "LogisticRegression          0.951653  4117.0  31491.0  401.0  1408.0   \n",
       "RandomForestClassifier      0.994521  5323.0  31889.0    3.0   202.0   \n",
       "AdaBoostClassifier          0.948793  4053.0  31448.0  444.0  1472.0   \n",
       "GradientBoostingClassifier  0.959831  4362.0  31552.0  340.0  1163.0   \n",
       "ExtraTreeClassifier         0.999973  5524.0  31892.0    0.0     1.0   \n",
       "BaggingClassifier           0.994200  5315.0  31885.0    7.0   210.0   \n",
       "Neural Network-1            0.995938  5414.0  31851.0   41.0   111.0   \n",
       "\n",
       "                                 FPR       FNR  \n",
       "index                                           \n",
       "KNeighborsClassifier        0.002038  0.228416  \n",
       "LogisticRegression          0.012574  0.254842  \n",
       "RandomForestClassifier      0.000094  0.036561  \n",
       "AdaBoostClassifier          0.013922  0.266425  \n",
       "GradientBoostingClassifier  0.010661  0.210498  \n",
       "ExtraTreeClassifier         0.000000  0.000181  \n",
       "BaggingClassifier           0.000219  0.038009  \n",
       "Neural Network-1            0.001286  0.020090  "
      ]
     },
     "metadata": {},
     "output_type": "display_data"
    },
    {
     "name": "stdout",
     "output_type": "stream",
     "text": [
      "Test Results\n"
     ]
    },
    {
     "data": {
      "text/html": [
       "<div>\n",
       "<style scoped>\n",
       "    .dataframe tbody tr th:only-of-type {\n",
       "        vertical-align: middle;\n",
       "    }\n",
       "\n",
       "    .dataframe tbody tr th {\n",
       "        vertical-align: top;\n",
       "    }\n",
       "\n",
       "    .dataframe thead th {\n",
       "        text-align: right;\n",
       "    }\n",
       "</style>\n",
       "<table border=\"1\" class=\"dataframe\">\n",
       "  <thead>\n",
       "    <tr style=\"text-align: right;\">\n",
       "      <th></th>\n",
       "      <th>accuracy</th>\n",
       "      <th>TP</th>\n",
       "      <th>TN</th>\n",
       "      <th>FP</th>\n",
       "      <th>FN</th>\n",
       "      <th>FPR</th>\n",
       "      <th>FNR</th>\n",
       "      <th>auc</th>\n",
       "      <th>MCC</th>\n",
       "    </tr>\n",
       "    <tr>\n",
       "      <th>index</th>\n",
       "      <th></th>\n",
       "      <th></th>\n",
       "      <th></th>\n",
       "      <th></th>\n",
       "      <th></th>\n",
       "      <th></th>\n",
       "      <th></th>\n",
       "      <th></th>\n",
       "      <th></th>\n",
       "    </tr>\n",
       "  </thead>\n",
       "  <tbody>\n",
       "    <tr>\n",
       "      <th>KNeighborsClassifier</th>\n",
       "      <td>0.958414</td>\n",
       "      <td>1006.0</td>\n",
       "      <td>7959.0</td>\n",
       "      <td>26.0</td>\n",
       "      <td>363.0</td>\n",
       "      <td>0.003256</td>\n",
       "      <td>0.265157</td>\n",
       "      <td>0.865793</td>\n",
       "      <td>0.825375</td>\n",
       "    </tr>\n",
       "    <tr>\n",
       "      <th>LogisticRegression</th>\n",
       "      <td>0.951785</td>\n",
       "      <td>1033.0</td>\n",
       "      <td>7870.0</td>\n",
       "      <td>115.0</td>\n",
       "      <td>336.0</td>\n",
       "      <td>0.014402</td>\n",
       "      <td>0.245435</td>\n",
       "      <td>0.870082</td>\n",
       "      <td>0.797315</td>\n",
       "    </tr>\n",
       "    <tr>\n",
       "      <th>RandomForestClassifier</th>\n",
       "      <td>0.964614</td>\n",
       "      <td>1096.0</td>\n",
       "      <td>7927.0</td>\n",
       "      <td>58.0</td>\n",
       "      <td>273.0</td>\n",
       "      <td>0.007264</td>\n",
       "      <td>0.199416</td>\n",
       "      <td>0.896660</td>\n",
       "      <td>0.852664</td>\n",
       "    </tr>\n",
       "    <tr>\n",
       "      <th>AdaBoostClassifier</th>\n",
       "      <td>0.949861</td>\n",
       "      <td>1018.0</td>\n",
       "      <td>7867.0</td>\n",
       "      <td>118.0</td>\n",
       "      <td>351.0</td>\n",
       "      <td>0.014778</td>\n",
       "      <td>0.256392</td>\n",
       "      <td>0.864415</td>\n",
       "      <td>0.788667</td>\n",
       "    </tr>\n",
       "    <tr>\n",
       "      <th>GradientBoostingClassifier</th>\n",
       "      <td>0.957238</td>\n",
       "      <td>1068.0</td>\n",
       "      <td>7886.0</td>\n",
       "      <td>99.0</td>\n",
       "      <td>301.0</td>\n",
       "      <td>0.012398</td>\n",
       "      <td>0.219869</td>\n",
       "      <td>0.883867</td>\n",
       "      <td>0.821205</td>\n",
       "    </tr>\n",
       "    <tr>\n",
       "      <th>ExtraTreeClassifier</th>\n",
       "      <td>0.964080</td>\n",
       "      <td>1092.0</td>\n",
       "      <td>7926.0</td>\n",
       "      <td>59.0</td>\n",
       "      <td>277.0</td>\n",
       "      <td>0.007389</td>\n",
       "      <td>0.202337</td>\n",
       "      <td>0.895137</td>\n",
       "      <td>0.850340</td>\n",
       "    </tr>\n",
       "    <tr>\n",
       "      <th>BaggingClassifier</th>\n",
       "      <td>0.961300</td>\n",
       "      <td>1088.0</td>\n",
       "      <td>7904.0</td>\n",
       "      <td>81.0</td>\n",
       "      <td>281.0</td>\n",
       "      <td>0.010144</td>\n",
       "      <td>0.205259</td>\n",
       "      <td>0.892298</td>\n",
       "      <td>0.838627</td>\n",
       "    </tr>\n",
       "    <tr>\n",
       "      <th>Neural Network-1</th>\n",
       "      <td>0.955741</td>\n",
       "      <td>1152.0</td>\n",
       "      <td>7788.0</td>\n",
       "      <td>197.0</td>\n",
       "      <td>217.0</td>\n",
       "      <td>0.024671</td>\n",
       "      <td>0.158510</td>\n",
       "      <td>0.908409</td>\n",
       "      <td>0.821823</td>\n",
       "    </tr>\n",
       "  </tbody>\n",
       "</table>\n",
       "</div>"
      ],
      "text/plain": [
       "                            accuracy      TP      TN     FP     FN       FPR  \\\n",
       "index                                                                          \n",
       "KNeighborsClassifier        0.958414  1006.0  7959.0   26.0  363.0  0.003256   \n",
       "LogisticRegression          0.951785  1033.0  7870.0  115.0  336.0  0.014402   \n",
       "RandomForestClassifier      0.964614  1096.0  7927.0   58.0  273.0  0.007264   \n",
       "AdaBoostClassifier          0.949861  1018.0  7867.0  118.0  351.0  0.014778   \n",
       "GradientBoostingClassifier  0.957238  1068.0  7886.0   99.0  301.0  0.012398   \n",
       "ExtraTreeClassifier         0.964080  1092.0  7926.0   59.0  277.0  0.007389   \n",
       "BaggingClassifier           0.961300  1088.0  7904.0   81.0  281.0  0.010144   \n",
       "Neural Network-1            0.955741  1152.0  7788.0  197.0  217.0  0.024671   \n",
       "\n",
       "                                 FNR       auc       MCC  \n",
       "index                                                     \n",
       "KNeighborsClassifier        0.265157  0.865793  0.825375  \n",
       "LogisticRegression          0.245435  0.870082  0.797315  \n",
       "RandomForestClassifier      0.199416  0.896660  0.852664  \n",
       "AdaBoostClassifier          0.256392  0.864415  0.788667  \n",
       "GradientBoostingClassifier  0.219869  0.883867  0.821205  \n",
       "ExtraTreeClassifier         0.202337  0.895137  0.850340  \n",
       "BaggingClassifier           0.205259  0.892298  0.838627  \n",
       "Neural Network-1            0.158510  0.908409  0.821823  "
      ]
     },
     "metadata": {},
     "output_type": "display_data"
    }
   ],
   "source": [
    "table_80_50_train['index']=ind_columns\n",
    "table_80_50_test['index']=ind_columns\n",
    "\n",
    "\n",
    "table_80_50_test.set_index(['index'],drop=True,inplace=True)\n",
    "table_80_50_train.set_index(['index'],drop=True,inplace=True)\n",
    "\n",
    "print(\"Training Results\")\n",
    "display(table_80_50_train)\n",
    "print(\"Test Results\")\n",
    "display(table_80_50_test)"
   ]
  },
  {
   "cell_type": "markdown",
   "metadata": {},
   "source": [
    "### <a id='1.B' style=\"text-decoration : none; color : #000000;\"> B. Average Feature Importances</a>"
   ]
  },
  {
   "cell_type": "code",
   "execution_count": 50,
   "metadata": {},
   "outputs": [
    {
     "data": {
      "application/vnd.plotly.v1+json": {
       "config": {
        "linkText": "Export to plot.ly",
        "plotlyServerURL": "https://plot.ly",
        "showLink": true
       },
       "data": [
        {
         "marker": {
          "color": "rgb(158,202,225)",
          "line": {
           "color": "rgb(8,48,107)",
           "width": 1.5
          }
         },
         "opacity": 0.6,
         "orientation": "h",
         "text": [
          0.1978,
          0.1815,
          0.0726,
          0.07,
          0.0521,
          0.043,
          0.0343,
          0.0298,
          0.0236,
          0.0221,
          0.0197,
          0.0157,
          0.0132,
          0.0132,
          0.0128,
          0.0121,
          0.0119,
          0.0114,
          0.0113,
          0.0112,
          0.0109,
          0.0108,
          0.0106,
          0.0098,
          0.0095,
          0.0085,
          0.008,
          0.0078,
          0.007,
          0.0067,
          0.0065,
          0.0061,
          0.0058,
          0.0057,
          0.0056,
          0.0046,
          0.0043,
          0.0034,
          0.0033,
          0.0032,
          0.0025
         ],
         "textposition": "outside",
         "type": "bar",
         "uid": "97f3dfe0-3966-4b08-ae36-d2dde34246ce",
         "x": [
          0.19781236602135197,
          0.18151783822183762,
          0.07261167150393602,
          0.06996714129040107,
          0.05208346643072408,
          0.04302524260051731,
          0.03432634403808987,
          0.029820752947276395,
          0.0235642779094578,
          0.0221374011802909,
          0.019705574644721252,
          0.01568875000337334,
          0.013243280038990373,
          0.01315919088517988,
          0.012829936107522064,
          0.012079871982870246,
          0.011949938036207633,
          0.011439063754740724,
          0.011342505367541528,
          0.01119091585245052,
          0.010937655043136173,
          0.01082083619046435,
          0.01060360533461492,
          0.009849467447520145,
          0.009453049046020259,
          0.008457319953087756,
          0.008032777465131582,
          0.007775806862377563,
          0.006957903351413445,
          0.006707312534668213,
          0.006462285911003396,
          0.006058374532077974,
          0.005765422702622673,
          0.005698072774248174,
          0.005582854735421932,
          0.004603720056990057,
          0.004347989463493789,
          0.003361786360624018,
          0.003329233346590725,
          0.0031941926677271915,
          0.002504805403285029
         ],
         "y": [
          "url_extensions",
          "url_length",
          "url_char_.",
          "url_char_w",
          "url_number_consonants",
          "url_number_digits",
          "url_tlds",
          "url_char_z",
          "url_extension_.com",
          "url_words_with_length_4",
          "url_number_vowels",
          "url_char_i",
          "url_char_b",
          "url_char_y",
          "url_char_l",
          "url_char_m",
          "url_char_o",
          "url_char_t",
          "url_char_p",
          "url_char_n",
          "url_char_x",
          "url_char_f",
          "url_char_r",
          "url_char_h",
          "url_char_g",
          "url_char_e",
          "url_extension_.i",
          "url_char_j",
          "url_char_s",
          "url_extension_.net",
          "url_char_c",
          "url_char_a",
          "url_char_u",
          "url_words_with_length_5",
          "url_char_d",
          "url_words_with_length_6",
          "url_char_k",
          "url_char_v",
          "url_words_with_length_7",
          "url_char_-",
          "url_words_with_length_8"
         ]
        }
       ],
       "layout": {
        "autosize": false,
        "height": 1000,
        "width": 1000,
        "xaxis": {
         "tickfont": {
          "color": "black",
          "size": 12
         },
         "title": "Feature Importances"
        },
        "yaxis": {
         "automargin": true
        }
       }
      },
      "text/html": [
       "<div id=\"4ac3b979-9379-4180-8cb1-51e16f6f719b\" style=\"height: 1000px; width: 1000px;\" class=\"plotly-graph-div\"></div><script type=\"text/javascript\">require([\"plotly\"], function(Plotly) { window.PLOTLYENV=window.PLOTLYENV || {};window.PLOTLYENV.BASE_URL=\"https://plot.ly\";Plotly.newPlot(\"4ac3b979-9379-4180-8cb1-51e16f6f719b\", [{\"marker\": {\"color\": \"rgb(158,202,225)\", \"line\": {\"color\": \"rgb(8,48,107)\", \"width\": 1.5}}, \"opacity\": 0.6, \"orientation\": \"h\", \"text\": [0.1978, 0.1815, 0.0726, 0.07, 0.0521, 0.043, 0.0343, 0.0298, 0.0236, 0.0221, 0.0197, 0.0157, 0.0132, 0.0132, 0.0128, 0.0121, 0.0119, 0.0114, 0.0113, 0.0112, 0.0109, 0.0108, 0.0106, 0.0098, 0.0095, 0.0085, 0.008, 0.0078, 0.007, 0.0067, 0.0065, 0.0061, 0.0058, 0.0057, 0.0056, 0.0046, 0.0043, 0.0034, 0.0033, 0.0032, 0.0025], \"textposition\": \"outside\", \"x\": [0.19781236602135197, 0.18151783822183762, 0.07261167150393602, 0.06996714129040107, 0.05208346643072408, 0.04302524260051731, 0.03432634403808987, 0.029820752947276395, 0.0235642779094578, 0.0221374011802909, 0.019705574644721252, 0.01568875000337334, 0.013243280038990373, 0.01315919088517988, 0.012829936107522064, 0.012079871982870246, 0.011949938036207633, 0.011439063754740724, 0.011342505367541528, 0.01119091585245052, 0.010937655043136173, 0.01082083619046435, 0.01060360533461492, 0.009849467447520145, 0.009453049046020259, 0.008457319953087756, 0.008032777465131582, 0.007775806862377563, 0.006957903351413445, 0.006707312534668213, 0.006462285911003396, 0.006058374532077974, 0.005765422702622673, 0.005698072774248174, 0.005582854735421932, 0.004603720056990057, 0.004347989463493789, 0.003361786360624018, 0.003329233346590725, 0.0031941926677271915, 0.002504805403285029], \"y\": [\"url_extensions\", \"url_length\", \"url_char_.\", \"url_char_w\", \"url_number_consonants\", \"url_number_digits\", \"url_tlds\", \"url_char_z\", \"url_extension_.com\", \"url_words_with_length_4\", \"url_number_vowels\", \"url_char_i\", \"url_char_b\", \"url_char_y\", \"url_char_l\", \"url_char_m\", \"url_char_o\", \"url_char_t\", \"url_char_p\", \"url_char_n\", \"url_char_x\", \"url_char_f\", \"url_char_r\", \"url_char_h\", \"url_char_g\", \"url_char_e\", \"url_extension_.i\", \"url_char_j\", \"url_char_s\", \"url_extension_.net\", \"url_char_c\", \"url_char_a\", \"url_char_u\", \"url_words_with_length_5\", \"url_char_d\", \"url_words_with_length_6\", \"url_char_k\", \"url_char_v\", \"url_words_with_length_7\", \"url_char_-\", \"url_words_with_length_8\"], \"type\": \"bar\", \"uid\": \"97f3dfe0-3966-4b08-ae36-d2dde34246ce\"}], {\"autosize\": false, \"height\": 1000, \"width\": 1000, \"xaxis\": {\"tickfont\": {\"color\": \"black\", \"size\": 12}, \"title\": \"Feature Importances\"}, \"yaxis\": {\"automargin\": true}}, {\"showLink\": true, \"linkText\": \"Export to plot.ly\", \"plotlyServerURL\": \"https://plot.ly\"})});</script>"
      ],
      "text/vnd.plotly.v1+html": [
       "<div id=\"4ac3b979-9379-4180-8cb1-51e16f6f719b\" style=\"height: 1000px; width: 1000px;\" class=\"plotly-graph-div\"></div><script type=\"text/javascript\">require([\"plotly\"], function(Plotly) { window.PLOTLYENV=window.PLOTLYENV || {};window.PLOTLYENV.BASE_URL=\"https://plot.ly\";Plotly.newPlot(\"4ac3b979-9379-4180-8cb1-51e16f6f719b\", [{\"marker\": {\"color\": \"rgb(158,202,225)\", \"line\": {\"color\": \"rgb(8,48,107)\", \"width\": 1.5}}, \"opacity\": 0.6, \"orientation\": \"h\", \"text\": [0.1978, 0.1815, 0.0726, 0.07, 0.0521, 0.043, 0.0343, 0.0298, 0.0236, 0.0221, 0.0197, 0.0157, 0.0132, 0.0132, 0.0128, 0.0121, 0.0119, 0.0114, 0.0113, 0.0112, 0.0109, 0.0108, 0.0106, 0.0098, 0.0095, 0.0085, 0.008, 0.0078, 0.007, 0.0067, 0.0065, 0.0061, 0.0058, 0.0057, 0.0056, 0.0046, 0.0043, 0.0034, 0.0033, 0.0032, 0.0025], \"textposition\": \"outside\", \"x\": [0.19781236602135197, 0.18151783822183762, 0.07261167150393602, 0.06996714129040107, 0.05208346643072408, 0.04302524260051731, 0.03432634403808987, 0.029820752947276395, 0.0235642779094578, 0.0221374011802909, 0.019705574644721252, 0.01568875000337334, 0.013243280038990373, 0.01315919088517988, 0.012829936107522064, 0.012079871982870246, 0.011949938036207633, 0.011439063754740724, 0.011342505367541528, 0.01119091585245052, 0.010937655043136173, 0.01082083619046435, 0.01060360533461492, 0.009849467447520145, 0.009453049046020259, 0.008457319953087756, 0.008032777465131582, 0.007775806862377563, 0.006957903351413445, 0.006707312534668213, 0.006462285911003396, 0.006058374532077974, 0.005765422702622673, 0.005698072774248174, 0.005582854735421932, 0.004603720056990057, 0.004347989463493789, 0.003361786360624018, 0.003329233346590725, 0.0031941926677271915, 0.002504805403285029], \"y\": [\"url_extensions\", \"url_length\", \"url_char_.\", \"url_char_w\", \"url_number_consonants\", \"url_number_digits\", \"url_tlds\", \"url_char_z\", \"url_extension_.com\", \"url_words_with_length_4\", \"url_number_vowels\", \"url_char_i\", \"url_char_b\", \"url_char_y\", \"url_char_l\", \"url_char_m\", \"url_char_o\", \"url_char_t\", \"url_char_p\", \"url_char_n\", \"url_char_x\", \"url_char_f\", \"url_char_r\", \"url_char_h\", \"url_char_g\", \"url_char_e\", \"url_extension_.i\", \"url_char_j\", \"url_char_s\", \"url_extension_.net\", \"url_char_c\", \"url_char_a\", \"url_char_u\", \"url_words_with_length_5\", \"url_char_d\", \"url_words_with_length_6\", \"url_char_k\", \"url_char_v\", \"url_words_with_length_7\", \"url_char_-\", \"url_words_with_length_8\"], \"type\": \"bar\", \"uid\": \"97f3dfe0-3966-4b08-ae36-d2dde34246ce\"}], {\"autosize\": false, \"height\": 1000, \"width\": 1000, \"xaxis\": {\"tickfont\": {\"color\": \"black\", \"size\": 12}, \"title\": \"Feature Importances\"}, \"yaxis\": {\"automargin\": true}}, {\"showLink\": true, \"linkText\": \"Export to plot.ly\", \"plotlyServerURL\": \"https://plot.ly\"})});</script>"
      ]
     },
     "metadata": {},
     "output_type": "display_data"
    }
   ],
   "source": [
    "feat_impt_plot(np.average(feat_imp,axis=0),columns)"
   ]
  },
  {
   "cell_type": "markdown",
   "metadata": {},
   "source": [
    "### <a id='2' style=\"text-decoration : none; color : #000000;\"> 2. OverSampling </a>"
   ]
  },
  {
   "cell_type": "code",
   "execution_count": 51,
   "metadata": {},
   "outputs": [],
   "source": [
    "sm = SMOTE(random_state=12, ratio = 1.0)\n",
    "X_train, Y_train = sm.fit_sample(scaled_X_train,train_Y)"
   ]
  },
  {
   "cell_type": "code",
   "execution_count": 52,
   "metadata": {},
   "outputs": [],
   "source": [
    "## Table to store training and test measures so we can compare later\n",
    "table_80_80_train=pd.DataFrame(columns=['accuracy','TP','TN','FP','FN','FPR','FNR'])\n",
    "table_80_80_test=pd.DataFrame(columns=['accuracy','TP','TN','FP','FN','FPR','FNR','auc','mcc'])"
   ]
  },
  {
   "cell_type": "code",
   "execution_count": 53,
   "metadata": {
    "scrolled": false
   },
   "outputs": [
    {
     "name": "stdout",
     "output_type": "stream",
     "text": [
      "\u001b[1mK-Nearest Neighbors\u001b[0m\n",
      "Accuracy of the model for training data is: 0.9760911827417534\n",
      "Confusion Matrix for training data is:\n"
     ]
    },
    {
     "data": {
      "text/plain": [
       "Predicted  False   True  __all__\n",
       "Actual                          \n",
       "False      30398   1494    31892\n",
       "True          31  31861    31892\n",
       "__all__    30429  33355    63784"
      ]
     },
     "metadata": {},
     "output_type": "display_data"
    },
    {
     "name": "stdout",
     "output_type": "stream",
     "text": [
      "Accuracy of the model for test data is: 0.9173615565533462\n",
      "Confusion Matrix for test data is:\n"
     ]
    },
    {
     "data": {
      "text/plain": [
       "Predicted  False  True  __all__\n",
       "Actual                         \n",
       "False       7398   587     7985\n",
       "True         186  1183     1369\n",
       "__all__     7584  1770     9354"
      ]
     },
     "metadata": {},
     "output_type": "display_data"
    },
    {
     "name": "stdout",
     "output_type": "stream",
     "text": [
      "\n",
      "\n",
      "\u001b[1mLogistic Regression\u001b[0m\n",
      "Accuracy of the model for training data is: 0.8986736485639032\n",
      "Confusion Matrix for training data is:\n"
     ]
    },
    {
     "data": {
      "text/plain": [
       "Predicted  False   True  __all__\n",
       "Actual                          \n",
       "False      29636   2256    31892\n",
       "True        4207  27685    31892\n",
       "__all__    33843  29941    63784"
      ]
     },
     "metadata": {},
     "output_type": "display_data"
    },
    {
     "name": "stdout",
     "output_type": "stream",
     "text": [
      "Accuracy of the model for test data is: 0.9227068633739577\n",
      "Confusion Matrix for test data is:\n"
     ]
    },
    {
     "data": {
      "text/plain": [
       "Predicted  False  True  __all__\n",
       "Actual                         \n",
       "False       7422   563     7985\n",
       "True         160  1209     1369\n",
       "__all__     7582  1772     9354"
      ]
     },
     "metadata": {},
     "output_type": "display_data"
    },
    {
     "name": "stdout",
     "output_type": "stream",
     "text": [
      "\n",
      "\n",
      "\u001b[1mRandomForest Classifier\u001b[0m\n",
      "Accuracy of the model for training data is: 0.997867803837953\n",
      "Confusion Matrix for training data is:\n"
     ]
    },
    {
     "data": {
      "text/plain": [
       "Predicted  False   True  __all__\n",
       "Actual                          \n",
       "False      31886      6    31892\n",
       "True         130  31762    31892\n",
       "__all__    32016  31768    63784"
      ]
     },
     "metadata": {},
     "output_type": "display_data"
    },
    {
     "name": "stdout",
     "output_type": "stream",
     "text": [
      "Accuracy of the model for test data is: 0.9622621338464827\n",
      "Confusion Matrix for test data is:\n"
     ]
    },
    {
     "data": {
      "text/plain": [
       "Predicted  False  True  __all__\n",
       "Actual                         \n",
       "False       7896    89     7985\n",
       "True         264  1105     1369\n",
       "__all__     8160  1194     9354"
      ]
     },
     "metadata": {},
     "output_type": "display_data"
    },
    {
     "data": {
      "application/vnd.plotly.v1+json": {
       "config": {
        "linkText": "Export to plot.ly",
        "plotlyServerURL": "https://plot.ly",
        "showLink": true
       },
       "data": [
        {
         "marker": {
          "color": "rgb(158,202,225)",
          "line": {
           "color": "rgb(8,48,107)",
           "width": 1.5
          }
         },
         "opacity": 0.6,
         "orientation": "h",
         "text": [
          0.1889,
          0.103,
          0.0959,
          0.0743,
          0.0659,
          0.0562,
          0.0424,
          0.0277,
          0.0237,
          0.0229,
          0.0214,
          0.0211,
          0.0193,
          0.017,
          0.0157,
          0.0155,
          0.0154,
          0.0132,
          0.0122,
          0.0122,
          0.0115,
          0.0115,
          0.0109,
          0.0108,
          0.0106,
          0.0105,
          0.0095,
          0.0092,
          0.0071,
          0.006,
          0.0057,
          0.0057,
          0.0044,
          0.0044,
          0.0038,
          0.0036,
          0.0036,
          0.0022,
          0.002,
          0.0016,
          0.0016
         ],
         "textposition": "outside",
         "type": "bar",
         "uid": "7c5036bf-fee1-4e12-81a3-553950bf92dc",
         "x": [
          0.1889351146517108,
          0.10298343395364187,
          0.09589056596740927,
          0.0742967929908918,
          0.0659457752214339,
          0.05617870432552945,
          0.04237211679136656,
          0.027678035381656495,
          0.023737888217206203,
          0.022902392413659704,
          0.021365851832417772,
          0.021065086934861605,
          0.01926389481794481,
          0.01702253314633608,
          0.015675263484245187,
          0.015509841364966085,
          0.015418455301956157,
          0.013218899617055826,
          0.012188000046614328,
          0.012171534347840096,
          0.011492522087708925,
          0.011473665511633202,
          0.010852624161713783,
          0.010834789143542214,
          0.010623537261085923,
          0.010503961832264683,
          0.009474099618790886,
          0.009175861357332265,
          0.00706840468158546,
          0.006047574452757234,
          0.005716293242195907,
          0.005686264843667376,
          0.004405588188027128,
          0.004375687028144662,
          0.0037876623893279364,
          0.003646494336021227,
          0.00362250772265709,
          0.0021592197649378344,
          0.0019695928105871825,
          0.001649111591497473,
          0.0016143571657776027
         ],
         "y": [
          "url_extensions",
          "url_number_consonants",
          "url_length",
          "url_char_.",
          "url_tlds",
          "url_char_w",
          "url_number_digits",
          "url_char_l",
          "url_number_vowels",
          "url_char_c",
          "url_char_o",
          "url_char_i",
          "url_char_b",
          "url_words_with_length_4",
          "url_char_e",
          "url_char_u",
          "url_char_z",
          "url_extension_.com",
          "url_char_t",
          "url_char_m",
          "url_char_r",
          "url_char_f",
          "url_char_a",
          "url_char_n",
          "url_char_s",
          "url_words_with_length_5",
          "url_char_d",
          "url_char_y",
          "url_char_p",
          "url_char_g",
          "url_char_h",
          "url_words_with_length_6",
          "url_char_k",
          "url_char_-",
          "url_char_x",
          "url_char_v",
          "url_words_with_length_7",
          "url_char_j",
          "url_extension_.i",
          "url_words_with_length_8",
          "url_extension_.net"
         ]
        }
       ],
       "layout": {
        "autosize": false,
        "height": 1000,
        "width": 1000,
        "xaxis": {
         "tickfont": {
          "color": "black",
          "size": 12
         },
         "title": "Feature Importances"
        },
        "yaxis": {
         "automargin": true
        }
       }
      },
      "text/html": [
       "<div id=\"93bc6633-5629-4254-9082-9b5c5884f213\" style=\"height: 1000px; width: 1000px;\" class=\"plotly-graph-div\"></div><script type=\"text/javascript\">require([\"plotly\"], function(Plotly) { window.PLOTLYENV=window.PLOTLYENV || {};window.PLOTLYENV.BASE_URL=\"https://plot.ly\";Plotly.newPlot(\"93bc6633-5629-4254-9082-9b5c5884f213\", [{\"marker\": {\"color\": \"rgb(158,202,225)\", \"line\": {\"color\": \"rgb(8,48,107)\", \"width\": 1.5}}, \"opacity\": 0.6, \"orientation\": \"h\", \"text\": [0.1889, 0.103, 0.0959, 0.0743, 0.0659, 0.0562, 0.0424, 0.0277, 0.0237, 0.0229, 0.0214, 0.0211, 0.0193, 0.017, 0.0157, 0.0155, 0.0154, 0.0132, 0.0122, 0.0122, 0.0115, 0.0115, 0.0109, 0.0108, 0.0106, 0.0105, 0.0095, 0.0092, 0.0071, 0.006, 0.0057, 0.0057, 0.0044, 0.0044, 0.0038, 0.0036, 0.0036, 0.0022, 0.002, 0.0016, 0.0016], \"textposition\": \"outside\", \"x\": [0.1889351146517108, 0.10298343395364187, 0.09589056596740927, 0.0742967929908918, 0.0659457752214339, 0.05617870432552945, 0.04237211679136656, 0.027678035381656495, 0.023737888217206203, 0.022902392413659704, 0.021365851832417772, 0.021065086934861605, 0.01926389481794481, 0.01702253314633608, 0.015675263484245187, 0.015509841364966085, 0.015418455301956157, 0.013218899617055826, 0.012188000046614328, 0.012171534347840096, 0.011492522087708925, 0.011473665511633202, 0.010852624161713783, 0.010834789143542214, 0.010623537261085923, 0.010503961832264683, 0.009474099618790886, 0.009175861357332265, 0.00706840468158546, 0.006047574452757234, 0.005716293242195907, 0.005686264843667376, 0.004405588188027128, 0.004375687028144662, 0.0037876623893279364, 0.003646494336021227, 0.00362250772265709, 0.0021592197649378344, 0.0019695928105871825, 0.001649111591497473, 0.0016143571657776027], \"y\": [\"url_extensions\", \"url_number_consonants\", \"url_length\", \"url_char_.\", \"url_tlds\", \"url_char_w\", \"url_number_digits\", \"url_char_l\", \"url_number_vowels\", \"url_char_c\", \"url_char_o\", \"url_char_i\", \"url_char_b\", \"url_words_with_length_4\", \"url_char_e\", \"url_char_u\", \"url_char_z\", \"url_extension_.com\", \"url_char_t\", \"url_char_m\", \"url_char_r\", \"url_char_f\", \"url_char_a\", \"url_char_n\", \"url_char_s\", \"url_words_with_length_5\", \"url_char_d\", \"url_char_y\", \"url_char_p\", \"url_char_g\", \"url_char_h\", \"url_words_with_length_6\", \"url_char_k\", \"url_char_-\", \"url_char_x\", \"url_char_v\", \"url_words_with_length_7\", \"url_char_j\", \"url_extension_.i\", \"url_words_with_length_8\", \"url_extension_.net\"], \"type\": \"bar\", \"uid\": \"7c5036bf-fee1-4e12-81a3-553950bf92dc\"}], {\"autosize\": false, \"height\": 1000, \"width\": 1000, \"xaxis\": {\"tickfont\": {\"color\": \"black\", \"size\": 12}, \"title\": \"Feature Importances\"}, \"yaxis\": {\"automargin\": true}}, {\"showLink\": true, \"linkText\": \"Export to plot.ly\", \"plotlyServerURL\": \"https://plot.ly\"})});</script>"
      ],
      "text/vnd.plotly.v1+html": [
       "<div id=\"93bc6633-5629-4254-9082-9b5c5884f213\" style=\"height: 1000px; width: 1000px;\" class=\"plotly-graph-div\"></div><script type=\"text/javascript\">require([\"plotly\"], function(Plotly) { window.PLOTLYENV=window.PLOTLYENV || {};window.PLOTLYENV.BASE_URL=\"https://plot.ly\";Plotly.newPlot(\"93bc6633-5629-4254-9082-9b5c5884f213\", [{\"marker\": {\"color\": \"rgb(158,202,225)\", \"line\": {\"color\": \"rgb(8,48,107)\", \"width\": 1.5}}, \"opacity\": 0.6, \"orientation\": \"h\", \"text\": [0.1889, 0.103, 0.0959, 0.0743, 0.0659, 0.0562, 0.0424, 0.0277, 0.0237, 0.0229, 0.0214, 0.0211, 0.0193, 0.017, 0.0157, 0.0155, 0.0154, 0.0132, 0.0122, 0.0122, 0.0115, 0.0115, 0.0109, 0.0108, 0.0106, 0.0105, 0.0095, 0.0092, 0.0071, 0.006, 0.0057, 0.0057, 0.0044, 0.0044, 0.0038, 0.0036, 0.0036, 0.0022, 0.002, 0.0016, 0.0016], \"textposition\": \"outside\", \"x\": [0.1889351146517108, 0.10298343395364187, 0.09589056596740927, 0.0742967929908918, 0.0659457752214339, 0.05617870432552945, 0.04237211679136656, 0.027678035381656495, 0.023737888217206203, 0.022902392413659704, 0.021365851832417772, 0.021065086934861605, 0.01926389481794481, 0.01702253314633608, 0.015675263484245187, 0.015509841364966085, 0.015418455301956157, 0.013218899617055826, 0.012188000046614328, 0.012171534347840096, 0.011492522087708925, 0.011473665511633202, 0.010852624161713783, 0.010834789143542214, 0.010623537261085923, 0.010503961832264683, 0.009474099618790886, 0.009175861357332265, 0.00706840468158546, 0.006047574452757234, 0.005716293242195907, 0.005686264843667376, 0.004405588188027128, 0.004375687028144662, 0.0037876623893279364, 0.003646494336021227, 0.00362250772265709, 0.0021592197649378344, 0.0019695928105871825, 0.001649111591497473, 0.0016143571657776027], \"y\": [\"url_extensions\", \"url_number_consonants\", \"url_length\", \"url_char_.\", \"url_tlds\", \"url_char_w\", \"url_number_digits\", \"url_char_l\", \"url_number_vowels\", \"url_char_c\", \"url_char_o\", \"url_char_i\", \"url_char_b\", \"url_words_with_length_4\", \"url_char_e\", \"url_char_u\", \"url_char_z\", \"url_extension_.com\", \"url_char_t\", \"url_char_m\", \"url_char_r\", \"url_char_f\", \"url_char_a\", \"url_char_n\", \"url_char_s\", \"url_words_with_length_5\", \"url_char_d\", \"url_char_y\", \"url_char_p\", \"url_char_g\", \"url_char_h\", \"url_words_with_length_6\", \"url_char_k\", \"url_char_-\", \"url_char_x\", \"url_char_v\", \"url_words_with_length_7\", \"url_char_j\", \"url_extension_.i\", \"url_words_with_length_8\", \"url_extension_.net\"], \"type\": \"bar\", \"uid\": \"7c5036bf-fee1-4e12-81a3-553950bf92dc\"}], {\"autosize\": false, \"height\": 1000, \"width\": 1000, \"xaxis\": {\"tickfont\": {\"color\": \"black\", \"size\": 12}, \"title\": \"Feature Importances\"}, \"yaxis\": {\"automargin\": true}}, {\"showLink\": true, \"linkText\": \"Export to plot.ly\", \"plotlyServerURL\": \"https://plot.ly\"})});</script>"
      ]
     },
     "metadata": {},
     "output_type": "display_data"
    },
    {
     "name": "stdout",
     "output_type": "stream",
     "text": [
      "\n",
      "\n",
      "\u001b[1mAdaoost Classifier\u001b[0m\n",
      "Accuracy of the model for training data is: 0.9402828295497303\n",
      "Confusion Matrix for training data is:\n"
     ]
    },
    {
     "data": {
      "text/plain": [
       "Predicted  False   True  __all__\n",
       "Actual                          \n",
       "False      30486   1406    31892\n",
       "True        2403  29489    31892\n",
       "__all__    32889  30895    63784"
      ]
     },
     "metadata": {},
     "output_type": "display_data"
    },
    {
     "name": "stdout",
     "output_type": "stream",
     "text": [
      "Accuracy of the model for test data is: 0.9322215095146461\n",
      "Confusion Matrix for test data is:\n"
     ]
    },
    {
     "data": {
      "text/plain": [
       "Predicted  False  True  __all__\n",
       "Actual                         \n",
       "False       7605   380     7985\n",
       "True         254  1115     1369\n",
       "__all__     7859  1495     9354"
      ]
     },
     "metadata": {},
     "output_type": "display_data"
    },
    {
     "data": {
      "application/vnd.plotly.v1+json": {
       "config": {
        "linkText": "Export to plot.ly",
        "plotlyServerURL": "https://plot.ly",
        "showLink": true
       },
       "data": [
        {
         "marker": {
          "color": "rgb(158,202,225)",
          "line": {
           "color": "rgb(8,48,107)",
           "width": 1.5
          }
         },
         "opacity": 0.6,
         "orientation": "h",
         "text": [
          0.08,
          0.08,
          0.08,
          0.08,
          0.06,
          0.06,
          0.06,
          0.06,
          0.04,
          0.04,
          0.04,
          0.04,
          0.04,
          0.04,
          0.04,
          0.02,
          0.02,
          0.02,
          0.02,
          0.02,
          0.02,
          0.02,
          0.02,
          0,
          0,
          0,
          0,
          0,
          0,
          0,
          0,
          0,
          0,
          0,
          0,
          0,
          0,
          0,
          0,
          0,
          0
         ],
         "textposition": "outside",
         "type": "bar",
         "uid": "4ba330a5-bd52-4cef-82ce-251f5d81e8c0",
         "x": [
          0.08,
          0.08,
          0.08,
          0.08,
          0.06,
          0.06,
          0.06,
          0.06,
          0.04,
          0.04,
          0.04,
          0.04,
          0.04,
          0.04,
          0.04,
          0.02,
          0.02,
          0.02,
          0.02,
          0.02,
          0.02,
          0.02,
          0.02,
          0,
          0,
          0,
          0,
          0,
          0,
          0,
          0,
          0,
          0,
          0,
          0,
          0,
          0,
          0,
          0,
          0,
          0
         ],
         "y": [
          "url_char_t",
          "url_length",
          "url_char_s",
          "url_char_r",
          "url_char_l",
          "url_char_d",
          "url_char_w",
          "url_char_p",
          "url_words_with_length_4",
          "url_extensions",
          "url_char_y",
          "url_char_u",
          "url_char_o",
          "url_number_digits",
          "url_char_i",
          "url_extension_.com",
          "url_char_b",
          "url_char_h",
          "url_char_f",
          "url_char_e",
          "url_char_z",
          "url_tlds",
          "url_extension_.net",
          "url_number_consonants",
          "url_number_vowels",
          "url_words_with_length_8",
          "url_words_with_length_7",
          "url_words_with_length_6",
          "url_words_with_length_5",
          "url_char_a",
          "url_char_m",
          "url_char_c",
          "url_extension_.i",
          "url_char_n",
          "url_char_x",
          "url_char_v",
          "url_char_g",
          "url_char_.",
          "url_char_j",
          "url_char_k",
          "url_char_-"
         ]
        }
       ],
       "layout": {
        "autosize": false,
        "height": 1000,
        "width": 1000,
        "xaxis": {
         "tickfont": {
          "color": "black",
          "size": 12
         },
         "title": "Feature Importances"
        },
        "yaxis": {
         "automargin": true
        }
       }
      },
      "text/html": [
       "<div id=\"b3dd4dae-9075-4230-a71d-7fcd020495b1\" style=\"height: 1000px; width: 1000px;\" class=\"plotly-graph-div\"></div><script type=\"text/javascript\">require([\"plotly\"], function(Plotly) { window.PLOTLYENV=window.PLOTLYENV || {};window.PLOTLYENV.BASE_URL=\"https://plot.ly\";Plotly.newPlot(\"b3dd4dae-9075-4230-a71d-7fcd020495b1\", [{\"marker\": {\"color\": \"rgb(158,202,225)\", \"line\": {\"color\": \"rgb(8,48,107)\", \"width\": 1.5}}, \"opacity\": 0.6, \"orientation\": \"h\", \"text\": [0.08, 0.08, 0.08, 0.08, 0.06, 0.06, 0.06, 0.06, 0.04, 0.04, 0.04, 0.04, 0.04, 0.04, 0.04, 0.02, 0.02, 0.02, 0.02, 0.02, 0.02, 0.02, 0.02, 0.0, 0.0, 0.0, 0.0, 0.0, 0.0, 0.0, 0.0, 0.0, 0.0, 0.0, 0.0, 0.0, 0.0, 0.0, 0.0, 0.0, 0.0], \"textposition\": \"outside\", \"x\": [0.08, 0.08, 0.08, 0.08, 0.06, 0.06, 0.06, 0.06, 0.04, 0.04, 0.04, 0.04, 0.04, 0.04, 0.04, 0.02, 0.02, 0.02, 0.02, 0.02, 0.02, 0.02, 0.02, 0.0, 0.0, 0.0, 0.0, 0.0, 0.0, 0.0, 0.0, 0.0, 0.0, 0.0, 0.0, 0.0, 0.0, 0.0, 0.0, 0.0, 0.0], \"y\": [\"url_char_t\", \"url_length\", \"url_char_s\", \"url_char_r\", \"url_char_l\", \"url_char_d\", \"url_char_w\", \"url_char_p\", \"url_words_with_length_4\", \"url_extensions\", \"url_char_y\", \"url_char_u\", \"url_char_o\", \"url_number_digits\", \"url_char_i\", \"url_extension_.com\", \"url_char_b\", \"url_char_h\", \"url_char_f\", \"url_char_e\", \"url_char_z\", \"url_tlds\", \"url_extension_.net\", \"url_number_consonants\", \"url_number_vowels\", \"url_words_with_length_8\", \"url_words_with_length_7\", \"url_words_with_length_6\", \"url_words_with_length_5\", \"url_char_a\", \"url_char_m\", \"url_char_c\", \"url_extension_.i\", \"url_char_n\", \"url_char_x\", \"url_char_v\", \"url_char_g\", \"url_char_.\", \"url_char_j\", \"url_char_k\", \"url_char_-\"], \"type\": \"bar\", \"uid\": \"4ba330a5-bd52-4cef-82ce-251f5d81e8c0\"}], {\"autosize\": false, \"height\": 1000, \"width\": 1000, \"xaxis\": {\"tickfont\": {\"color\": \"black\", \"size\": 12}, \"title\": \"Feature Importances\"}, \"yaxis\": {\"automargin\": true}}, {\"showLink\": true, \"linkText\": \"Export to plot.ly\", \"plotlyServerURL\": \"https://plot.ly\"})});</script>"
      ],
      "text/vnd.plotly.v1+html": [
       "<div id=\"b3dd4dae-9075-4230-a71d-7fcd020495b1\" style=\"height: 1000px; width: 1000px;\" class=\"plotly-graph-div\"></div><script type=\"text/javascript\">require([\"plotly\"], function(Plotly) { window.PLOTLYENV=window.PLOTLYENV || {};window.PLOTLYENV.BASE_URL=\"https://plot.ly\";Plotly.newPlot(\"b3dd4dae-9075-4230-a71d-7fcd020495b1\", [{\"marker\": {\"color\": \"rgb(158,202,225)\", \"line\": {\"color\": \"rgb(8,48,107)\", \"width\": 1.5}}, \"opacity\": 0.6, \"orientation\": \"h\", \"text\": [0.08, 0.08, 0.08, 0.08, 0.06, 0.06, 0.06, 0.06, 0.04, 0.04, 0.04, 0.04, 0.04, 0.04, 0.04, 0.02, 0.02, 0.02, 0.02, 0.02, 0.02, 0.02, 0.02, 0.0, 0.0, 0.0, 0.0, 0.0, 0.0, 0.0, 0.0, 0.0, 0.0, 0.0, 0.0, 0.0, 0.0, 0.0, 0.0, 0.0, 0.0], \"textposition\": \"outside\", \"x\": [0.08, 0.08, 0.08, 0.08, 0.06, 0.06, 0.06, 0.06, 0.04, 0.04, 0.04, 0.04, 0.04, 0.04, 0.04, 0.02, 0.02, 0.02, 0.02, 0.02, 0.02, 0.02, 0.02, 0.0, 0.0, 0.0, 0.0, 0.0, 0.0, 0.0, 0.0, 0.0, 0.0, 0.0, 0.0, 0.0, 0.0, 0.0, 0.0, 0.0, 0.0], \"y\": [\"url_char_t\", \"url_length\", \"url_char_s\", \"url_char_r\", \"url_char_l\", \"url_char_d\", \"url_char_w\", \"url_char_p\", \"url_words_with_length_4\", \"url_extensions\", \"url_char_y\", \"url_char_u\", \"url_char_o\", \"url_number_digits\", \"url_char_i\", \"url_extension_.com\", \"url_char_b\", \"url_char_h\", \"url_char_f\", \"url_char_e\", \"url_char_z\", \"url_tlds\", \"url_extension_.net\", \"url_number_consonants\", \"url_number_vowels\", \"url_words_with_length_8\", \"url_words_with_length_7\", \"url_words_with_length_6\", \"url_words_with_length_5\", \"url_char_a\", \"url_char_m\", \"url_char_c\", \"url_extension_.i\", \"url_char_n\", \"url_char_x\", \"url_char_v\", \"url_char_g\", \"url_char_.\", \"url_char_j\", \"url_char_k\", \"url_char_-\"], \"type\": \"bar\", \"uid\": \"4ba330a5-bd52-4cef-82ce-251f5d81e8c0\"}], {\"autosize\": false, \"height\": 1000, \"width\": 1000, \"xaxis\": {\"tickfont\": {\"color\": \"black\", \"size\": 12}, \"title\": \"Feature Importances\"}, \"yaxis\": {\"automargin\": true}}, {\"showLink\": true, \"linkText\": \"Export to plot.ly\", \"plotlyServerURL\": \"https://plot.ly\"})});</script>"
      ]
     },
     "metadata": {},
     "output_type": "display_data"
    },
    {
     "name": "stdout",
     "output_type": "stream",
     "text": [
      "\n",
      "\n",
      "\u001b[1mGradientBoosting Classifier\u001b[0m\n",
      "Accuracy of the model for training data is: 0.965304778627869\n",
      "Confusion Matrix for training data is:\n"
     ]
    },
    {
     "data": {
      "text/plain": [
       "Predicted  False   True  __all__\n",
       "Actual                          \n",
       "False      31092    800    31892\n",
       "True        1413  30479    31892\n",
       "__all__    32505  31279    63784"
      ]
     },
     "metadata": {},
     "output_type": "display_data"
    },
    {
     "name": "stdout",
     "output_type": "stream",
     "text": [
      "Accuracy of the model for test data is: 0.9485781483857173\n",
      "Confusion Matrix for test data is:\n"
     ]
    },
    {
     "data": {
      "text/plain": [
       "Predicted  False  True  __all__\n",
       "Actual                         \n",
       "False       7762   223     7985\n",
       "True         258  1111     1369\n",
       "__all__     8020  1334     9354"
      ]
     },
     "metadata": {},
     "output_type": "display_data"
    },
    {
     "data": {
      "application/vnd.plotly.v1+json": {
       "config": {
        "linkText": "Export to plot.ly",
        "plotlyServerURL": "https://plot.ly",
        "showLink": true
       },
       "data": [
        {
         "marker": {
          "color": "rgb(158,202,225)",
          "line": {
           "color": "rgb(8,48,107)",
           "width": 1.5
          }
         },
         "opacity": 0.6,
         "orientation": "h",
         "text": [
          0.4316,
          0.2125,
          0.0782,
          0.0642,
          0.0332,
          0.0287,
          0.0275,
          0.0134,
          0.0109,
          0.0105,
          0.0104,
          0.01,
          0.009,
          0.0088,
          0.0077,
          0.0058,
          0.0053,
          0.0053,
          0.0049,
          0.004,
          0.0032,
          0.0028,
          0.0025,
          0.0018,
          0.0017,
          0.0016,
          0.0013,
          0.001,
          0.0005,
          0.0004,
          0.0004,
          0.0003,
          0.0003,
          0.0001,
          0.0001,
          0.0001,
          0,
          0,
          0,
          0,
          0
         ],
         "textposition": "outside",
         "type": "bar",
         "uid": "104a70a3-0c70-44e7-b9f7-37173334041d",
         "x": [
          0.4315627179150429,
          0.21247805522910987,
          0.07817343985674757,
          0.0642233173429436,
          0.03315659839100637,
          0.028739271280762743,
          0.027524281459015955,
          0.013355504553390966,
          0.0108883757601605,
          0.01051312116078062,
          0.010422648942977385,
          0.010038581092405683,
          0.008962595725073776,
          0.00878264627368649,
          0.007699826991762142,
          0.00575122472188838,
          0.005274734309705936,
          0.005256204870637334,
          0.004929936413499397,
          0.00395370264903773,
          0.0032296021878145433,
          0.0028092546502922213,
          0.0024536517436848913,
          0.0018325673371468968,
          0.001716912081647809,
          0.0015993077485244637,
          0.0012956461243818203,
          0.0010109642359849228,
          0.000521368599926526,
          0.000420283814042393,
          0.00041932908797697084,
          0.00033596267631122434,
          0.0002748008546259771,
          0.00013143316585296024,
          0.00012356640530804022,
          6.186182494706233e-05,
          4.264613078469834e-05,
          3.0962049957952495e-05,
          3.09434115342186e-06,
          0,
          0
         ],
         "y": [
          "url_extensions",
          "url_length",
          "url_char_.",
          "url_number_digits",
          "url_char_i",
          "url_char_z",
          "url_char_w",
          "url_char_b",
          "url_char_d",
          "url_tlds",
          "url_char_c",
          "url_char_o",
          "url_char_m",
          "url_char_s",
          "url_number_consonants",
          "url_char_l",
          "url_char_y",
          "url_words_with_length_4",
          "url_extension_.com",
          "url_char_e",
          "url_char_u",
          "url_char_r",
          "url_char_p",
          "url_char_h",
          "url_char_a",
          "url_char_f",
          "url_char_n",
          "url_words_with_length_5",
          "url_char_g",
          "url_words_with_length_6",
          "url_number_vowels",
          "url_char_t",
          "url_extension_.i",
          "url_words_with_length_7",
          "url_char_-",
          "url_extension_.net",
          "url_char_k",
          "url_char_v",
          "url_char_x",
          "url_words_with_length_8",
          "url_char_j"
         ]
        }
       ],
       "layout": {
        "autosize": false,
        "height": 1000,
        "width": 1000,
        "xaxis": {
         "tickfont": {
          "color": "black",
          "size": 12
         },
         "title": "Feature Importances"
        },
        "yaxis": {
         "automargin": true
        }
       }
      },
      "text/html": [
       "<div id=\"5cf7c866-ac0a-4a72-90a2-e5b3721086e3\" style=\"height: 1000px; width: 1000px;\" class=\"plotly-graph-div\"></div><script type=\"text/javascript\">require([\"plotly\"], function(Plotly) { window.PLOTLYENV=window.PLOTLYENV || {};window.PLOTLYENV.BASE_URL=\"https://plot.ly\";Plotly.newPlot(\"5cf7c866-ac0a-4a72-90a2-e5b3721086e3\", [{\"marker\": {\"color\": \"rgb(158,202,225)\", \"line\": {\"color\": \"rgb(8,48,107)\", \"width\": 1.5}}, \"opacity\": 0.6, \"orientation\": \"h\", \"text\": [0.4316, 0.2125, 0.0782, 0.0642, 0.0332, 0.0287, 0.0275, 0.0134, 0.0109, 0.0105, 0.0104, 0.01, 0.009, 0.0088, 0.0077, 0.0058, 0.0053, 0.0053, 0.0049, 0.004, 0.0032, 0.0028, 0.0025, 0.0018, 0.0017, 0.0016, 0.0013, 0.001, 0.0005, 0.0004, 0.0004, 0.0003, 0.0003, 0.0001, 0.0001, 0.0001, 0.0, 0.0, 0.0, 0.0, 0.0], \"textposition\": \"outside\", \"x\": [0.4315627179150429, 0.21247805522910987, 0.07817343985674757, 0.0642233173429436, 0.03315659839100637, 0.028739271280762743, 0.027524281459015955, 0.013355504553390966, 0.0108883757601605, 0.01051312116078062, 0.010422648942977385, 0.010038581092405683, 0.008962595725073776, 0.00878264627368649, 0.007699826991762142, 0.00575122472188838, 0.005274734309705936, 0.005256204870637334, 0.004929936413499397, 0.00395370264903773, 0.0032296021878145433, 0.0028092546502922213, 0.0024536517436848913, 0.0018325673371468968, 0.001716912081647809, 0.0015993077485244637, 0.0012956461243818203, 0.0010109642359849228, 0.000521368599926526, 0.000420283814042393, 0.00041932908797697084, 0.00033596267631122434, 0.0002748008546259771, 0.00013143316585296024, 0.00012356640530804022, 6.186182494706233e-05, 4.264613078469834e-05, 3.0962049957952495e-05, 3.09434115342186e-06, 0.0, 0.0], \"y\": [\"url_extensions\", \"url_length\", \"url_char_.\", \"url_number_digits\", \"url_char_i\", \"url_char_z\", \"url_char_w\", \"url_char_b\", \"url_char_d\", \"url_tlds\", \"url_char_c\", \"url_char_o\", \"url_char_m\", \"url_char_s\", \"url_number_consonants\", \"url_char_l\", \"url_char_y\", \"url_words_with_length_4\", \"url_extension_.com\", \"url_char_e\", \"url_char_u\", \"url_char_r\", \"url_char_p\", \"url_char_h\", \"url_char_a\", \"url_char_f\", \"url_char_n\", \"url_words_with_length_5\", \"url_char_g\", \"url_words_with_length_6\", \"url_number_vowels\", \"url_char_t\", \"url_extension_.i\", \"url_words_with_length_7\", \"url_char_-\", \"url_extension_.net\", \"url_char_k\", \"url_char_v\", \"url_char_x\", \"url_words_with_length_8\", \"url_char_j\"], \"type\": \"bar\", \"uid\": \"104a70a3-0c70-44e7-b9f7-37173334041d\"}], {\"autosize\": false, \"height\": 1000, \"width\": 1000, \"xaxis\": {\"tickfont\": {\"color\": \"black\", \"size\": 12}, \"title\": \"Feature Importances\"}, \"yaxis\": {\"automargin\": true}}, {\"showLink\": true, \"linkText\": \"Export to plot.ly\", \"plotlyServerURL\": \"https://plot.ly\"})});</script>"
      ],
      "text/vnd.plotly.v1+html": [
       "<div id=\"5cf7c866-ac0a-4a72-90a2-e5b3721086e3\" style=\"height: 1000px; width: 1000px;\" class=\"plotly-graph-div\"></div><script type=\"text/javascript\">require([\"plotly\"], function(Plotly) { window.PLOTLYENV=window.PLOTLYENV || {};window.PLOTLYENV.BASE_URL=\"https://plot.ly\";Plotly.newPlot(\"5cf7c866-ac0a-4a72-90a2-e5b3721086e3\", [{\"marker\": {\"color\": \"rgb(158,202,225)\", \"line\": {\"color\": \"rgb(8,48,107)\", \"width\": 1.5}}, \"opacity\": 0.6, \"orientation\": \"h\", \"text\": [0.4316, 0.2125, 0.0782, 0.0642, 0.0332, 0.0287, 0.0275, 0.0134, 0.0109, 0.0105, 0.0104, 0.01, 0.009, 0.0088, 0.0077, 0.0058, 0.0053, 0.0053, 0.0049, 0.004, 0.0032, 0.0028, 0.0025, 0.0018, 0.0017, 0.0016, 0.0013, 0.001, 0.0005, 0.0004, 0.0004, 0.0003, 0.0003, 0.0001, 0.0001, 0.0001, 0.0, 0.0, 0.0, 0.0, 0.0], \"textposition\": \"outside\", \"x\": [0.4315627179150429, 0.21247805522910987, 0.07817343985674757, 0.0642233173429436, 0.03315659839100637, 0.028739271280762743, 0.027524281459015955, 0.013355504553390966, 0.0108883757601605, 0.01051312116078062, 0.010422648942977385, 0.010038581092405683, 0.008962595725073776, 0.00878264627368649, 0.007699826991762142, 0.00575122472188838, 0.005274734309705936, 0.005256204870637334, 0.004929936413499397, 0.00395370264903773, 0.0032296021878145433, 0.0028092546502922213, 0.0024536517436848913, 0.0018325673371468968, 0.001716912081647809, 0.0015993077485244637, 0.0012956461243818203, 0.0010109642359849228, 0.000521368599926526, 0.000420283814042393, 0.00041932908797697084, 0.00033596267631122434, 0.0002748008546259771, 0.00013143316585296024, 0.00012356640530804022, 6.186182494706233e-05, 4.264613078469834e-05, 3.0962049957952495e-05, 3.09434115342186e-06, 0.0, 0.0], \"y\": [\"url_extensions\", \"url_length\", \"url_char_.\", \"url_number_digits\", \"url_char_i\", \"url_char_z\", \"url_char_w\", \"url_char_b\", \"url_char_d\", \"url_tlds\", \"url_char_c\", \"url_char_o\", \"url_char_m\", \"url_char_s\", \"url_number_consonants\", \"url_char_l\", \"url_char_y\", \"url_words_with_length_4\", \"url_extension_.com\", \"url_char_e\", \"url_char_u\", \"url_char_r\", \"url_char_p\", \"url_char_h\", \"url_char_a\", \"url_char_f\", \"url_char_n\", \"url_words_with_length_5\", \"url_char_g\", \"url_words_with_length_6\", \"url_number_vowels\", \"url_char_t\", \"url_extension_.i\", \"url_words_with_length_7\", \"url_char_-\", \"url_extension_.net\", \"url_char_k\", \"url_char_v\", \"url_char_x\", \"url_words_with_length_8\", \"url_char_j\"], \"type\": \"bar\", \"uid\": \"104a70a3-0c70-44e7-b9f7-37173334041d\"}], {\"autosize\": false, \"height\": 1000, \"width\": 1000, \"xaxis\": {\"tickfont\": {\"color\": \"black\", \"size\": 12}, \"title\": \"Feature Importances\"}, \"yaxis\": {\"automargin\": true}}, {\"showLink\": true, \"linkText\": \"Export to plot.ly\", \"plotlyServerURL\": \"https://plot.ly\"})});</script>"
      ]
     },
     "metadata": {},
     "output_type": "display_data"
    },
    {
     "name": "stdout",
     "output_type": "stream",
     "text": [
      "\n",
      "\n",
      "\u001b[1mExtraTree Classifier\u001b[0m\n",
      "Accuracy of the model for training data is: 0.9999843220870438\n",
      "Confusion Matrix for training data is:\n"
     ]
    },
    {
     "data": {
      "text/plain": [
       "Predicted  False   True  __all__\n",
       "Actual                          \n",
       "False      31892      0    31892\n",
       "True           1  31891    31892\n",
       "__all__    31893  31891    63784"
      ]
     },
     "metadata": {},
     "output_type": "display_data"
    },
    {
     "name": "stdout",
     "output_type": "stream",
     "text": [
      "Accuracy of the model for test data is: 0.9642933504383152\n",
      "Confusion Matrix for test data is:\n"
     ]
    },
    {
     "data": {
      "text/plain": [
       "Predicted  False  True  __all__\n",
       "Actual                         \n",
       "False       7915    70     7985\n",
       "True         264  1105     1369\n",
       "__all__     8179  1175     9354"
      ]
     },
     "metadata": {},
     "output_type": "display_data"
    },
    {
     "data": {
      "application/vnd.plotly.v1+json": {
       "config": {
        "linkText": "Export to plot.ly",
        "plotlyServerURL": "https://plot.ly",
        "showLink": true
       },
       "data": [
        {
         "marker": {
          "color": "rgb(158,202,225)",
          "line": {
           "color": "rgb(8,48,107)",
           "width": 1.5
          }
         },
         "opacity": 0.6,
         "orientation": "h",
         "text": [
          0.1217,
          0.0893,
          0.0651,
          0.0551,
          0.0478,
          0.0439,
          0.0412,
          0.0378,
          0.0344,
          0.0281,
          0.0278,
          0.0241,
          0.0239,
          0.0219,
          0.0187,
          0.0182,
          0.0178,
          0.0172,
          0.0169,
          0.0159,
          0.0156,
          0.0149,
          0.0143,
          0.0142,
          0.0138,
          0.0135,
          0.0129,
          0.0126,
          0.0122,
          0.0122,
          0.0121,
          0.012,
          0.0119,
          0.0106,
          0.0088,
          0.0087,
          0.0085,
          0.0074,
          0.0058,
          0.0056,
          0.0055
         ],
         "textposition": "outside",
         "type": "bar",
         "uid": "335e6b28-760b-4c3e-bad1-7df558a12f1a",
         "x": [
          0.12169110314607072,
          0.08933989583064077,
          0.06510410348201646,
          0.05509421186994151,
          0.047791156150205454,
          0.04389473328887195,
          0.04121667191985963,
          0.0378283045781166,
          0.0344086474538318,
          0.02812316456194231,
          0.027767771145785426,
          0.024122361622293573,
          0.023892261319275503,
          0.021914983122389927,
          0.018708688846773548,
          0.018229545970163442,
          0.017824799597026472,
          0.01717743004350602,
          0.01685554229917073,
          0.0158780851389972,
          0.015609445149431907,
          0.014865925993508593,
          0.014275476083223562,
          0.014231863789688742,
          0.0137826645503412,
          0.013546482882370935,
          0.012893307714754406,
          0.012570953011581038,
          0.012229351437978334,
          0.012207957055729465,
          0.012061552028558567,
          0.011977088967998793,
          0.011852524089527857,
          0.010619482827439722,
          0.008802579829808001,
          0.00868598021762495,
          0.008510818138786815,
          0.007441086424946052,
          0.005823803103090536,
          0.005637822664554412,
          0.005510372652177074
         ],
         "y": [
          "url_char_.",
          "url_extensions",
          "url_length",
          "url_char_w",
          "url_number_digits",
          "url_number_consonants",
          "url_char_i",
          "url_tlds",
          "url_number_vowels",
          "url_char_z",
          "url_extension_.com",
          "url_char_u",
          "url_char_e",
          "url_char_b",
          "url_char_t",
          "url_words_with_length_4",
          "url_char_o",
          "url_char_s",
          "url_char_r",
          "url_char_l",
          "url_char_h",
          "url_char_c",
          "url_words_with_length_6",
          "url_char_d",
          "url_char_p",
          "url_char_x",
          "url_char_y",
          "url_words_with_length_5",
          "url_char_k",
          "url_char_a",
          "url_char_f",
          "url_char_n",
          "url_char_m",
          "url_extension_.net",
          "url_words_with_length_7",
          "url_char_g",
          "url_extension_.i",
          "url_char_v",
          "url_char_-",
          "url_words_with_length_8",
          "url_char_j"
         ]
        }
       ],
       "layout": {
        "autosize": false,
        "height": 1000,
        "width": 1000,
        "xaxis": {
         "tickfont": {
          "color": "black",
          "size": 12
         },
         "title": "Feature Importances"
        },
        "yaxis": {
         "automargin": true
        }
       }
      },
      "text/html": [
       "<div id=\"ab4f0827-3ce7-4bd9-833c-c28eadfd8bf0\" style=\"height: 1000px; width: 1000px;\" class=\"plotly-graph-div\"></div><script type=\"text/javascript\">require([\"plotly\"], function(Plotly) { window.PLOTLYENV=window.PLOTLYENV || {};window.PLOTLYENV.BASE_URL=\"https://plot.ly\";Plotly.newPlot(\"ab4f0827-3ce7-4bd9-833c-c28eadfd8bf0\", [{\"marker\": {\"color\": \"rgb(158,202,225)\", \"line\": {\"color\": \"rgb(8,48,107)\", \"width\": 1.5}}, \"opacity\": 0.6, \"orientation\": \"h\", \"text\": [0.1217, 0.0893, 0.0651, 0.0551, 0.0478, 0.0439, 0.0412, 0.0378, 0.0344, 0.0281, 0.0278, 0.0241, 0.0239, 0.0219, 0.0187, 0.0182, 0.0178, 0.0172, 0.0169, 0.0159, 0.0156, 0.0149, 0.0143, 0.0142, 0.0138, 0.0135, 0.0129, 0.0126, 0.0122, 0.0122, 0.0121, 0.012, 0.0119, 0.0106, 0.0088, 0.0087, 0.0085, 0.0074, 0.0058, 0.0056, 0.0055], \"textposition\": \"outside\", \"x\": [0.12169110314607072, 0.08933989583064077, 0.06510410348201646, 0.05509421186994151, 0.047791156150205454, 0.04389473328887195, 0.04121667191985963, 0.0378283045781166, 0.0344086474538318, 0.02812316456194231, 0.027767771145785426, 0.024122361622293573, 0.023892261319275503, 0.021914983122389927, 0.018708688846773548, 0.018229545970163442, 0.017824799597026472, 0.01717743004350602, 0.01685554229917073, 0.0158780851389972, 0.015609445149431907, 0.014865925993508593, 0.014275476083223562, 0.014231863789688742, 0.0137826645503412, 0.013546482882370935, 0.012893307714754406, 0.012570953011581038, 0.012229351437978334, 0.012207957055729465, 0.012061552028558567, 0.011977088967998793, 0.011852524089527857, 0.010619482827439722, 0.008802579829808001, 0.00868598021762495, 0.008510818138786815, 0.007441086424946052, 0.005823803103090536, 0.005637822664554412, 0.005510372652177074], \"y\": [\"url_char_.\", \"url_extensions\", \"url_length\", \"url_char_w\", \"url_number_digits\", \"url_number_consonants\", \"url_char_i\", \"url_tlds\", \"url_number_vowels\", \"url_char_z\", \"url_extension_.com\", \"url_char_u\", \"url_char_e\", \"url_char_b\", \"url_char_t\", \"url_words_with_length_4\", \"url_char_o\", \"url_char_s\", \"url_char_r\", \"url_char_l\", \"url_char_h\", \"url_char_c\", \"url_words_with_length_6\", \"url_char_d\", \"url_char_p\", \"url_char_x\", \"url_char_y\", \"url_words_with_length_5\", \"url_char_k\", \"url_char_a\", \"url_char_f\", \"url_char_n\", \"url_char_m\", \"url_extension_.net\", \"url_words_with_length_7\", \"url_char_g\", \"url_extension_.i\", \"url_char_v\", \"url_char_-\", \"url_words_with_length_8\", \"url_char_j\"], \"type\": \"bar\", \"uid\": \"335e6b28-760b-4c3e-bad1-7df558a12f1a\"}], {\"autosize\": false, \"height\": 1000, \"width\": 1000, \"xaxis\": {\"tickfont\": {\"color\": \"black\", \"size\": 12}, \"title\": \"Feature Importances\"}, \"yaxis\": {\"automargin\": true}}, {\"showLink\": true, \"linkText\": \"Export to plot.ly\", \"plotlyServerURL\": \"https://plot.ly\"})});</script>"
      ],
      "text/vnd.plotly.v1+html": [
       "<div id=\"ab4f0827-3ce7-4bd9-833c-c28eadfd8bf0\" style=\"height: 1000px; width: 1000px;\" class=\"plotly-graph-div\"></div><script type=\"text/javascript\">require([\"plotly\"], function(Plotly) { window.PLOTLYENV=window.PLOTLYENV || {};window.PLOTLYENV.BASE_URL=\"https://plot.ly\";Plotly.newPlot(\"ab4f0827-3ce7-4bd9-833c-c28eadfd8bf0\", [{\"marker\": {\"color\": \"rgb(158,202,225)\", \"line\": {\"color\": \"rgb(8,48,107)\", \"width\": 1.5}}, \"opacity\": 0.6, \"orientation\": \"h\", \"text\": [0.1217, 0.0893, 0.0651, 0.0551, 0.0478, 0.0439, 0.0412, 0.0378, 0.0344, 0.0281, 0.0278, 0.0241, 0.0239, 0.0219, 0.0187, 0.0182, 0.0178, 0.0172, 0.0169, 0.0159, 0.0156, 0.0149, 0.0143, 0.0142, 0.0138, 0.0135, 0.0129, 0.0126, 0.0122, 0.0122, 0.0121, 0.012, 0.0119, 0.0106, 0.0088, 0.0087, 0.0085, 0.0074, 0.0058, 0.0056, 0.0055], \"textposition\": \"outside\", \"x\": [0.12169110314607072, 0.08933989583064077, 0.06510410348201646, 0.05509421186994151, 0.047791156150205454, 0.04389473328887195, 0.04121667191985963, 0.0378283045781166, 0.0344086474538318, 0.02812316456194231, 0.027767771145785426, 0.024122361622293573, 0.023892261319275503, 0.021914983122389927, 0.018708688846773548, 0.018229545970163442, 0.017824799597026472, 0.01717743004350602, 0.01685554229917073, 0.0158780851389972, 0.015609445149431907, 0.014865925993508593, 0.014275476083223562, 0.014231863789688742, 0.0137826645503412, 0.013546482882370935, 0.012893307714754406, 0.012570953011581038, 0.012229351437978334, 0.012207957055729465, 0.012061552028558567, 0.011977088967998793, 0.011852524089527857, 0.010619482827439722, 0.008802579829808001, 0.00868598021762495, 0.008510818138786815, 0.007441086424946052, 0.005823803103090536, 0.005637822664554412, 0.005510372652177074], \"y\": [\"url_char_.\", \"url_extensions\", \"url_length\", \"url_char_w\", \"url_number_digits\", \"url_number_consonants\", \"url_char_i\", \"url_tlds\", \"url_number_vowels\", \"url_char_z\", \"url_extension_.com\", \"url_char_u\", \"url_char_e\", \"url_char_b\", \"url_char_t\", \"url_words_with_length_4\", \"url_char_o\", \"url_char_s\", \"url_char_r\", \"url_char_l\", \"url_char_h\", \"url_char_c\", \"url_words_with_length_6\", \"url_char_d\", \"url_char_p\", \"url_char_x\", \"url_char_y\", \"url_words_with_length_5\", \"url_char_k\", \"url_char_a\", \"url_char_f\", \"url_char_n\", \"url_char_m\", \"url_extension_.net\", \"url_words_with_length_7\", \"url_char_g\", \"url_extension_.i\", \"url_char_v\", \"url_char_-\", \"url_words_with_length_8\", \"url_char_j\"], \"type\": \"bar\", \"uid\": \"335e6b28-760b-4c3e-bad1-7df558a12f1a\"}], {\"autosize\": false, \"height\": 1000, \"width\": 1000, \"xaxis\": {\"tickfont\": {\"color\": \"black\", \"size\": 12}, \"title\": \"Feature Importances\"}, \"yaxis\": {\"automargin\": true}}, {\"showLink\": true, \"linkText\": \"Export to plot.ly\", \"plotlyServerURL\": \"https://plot.ly\"})});</script>"
      ]
     },
     "metadata": {},
     "output_type": "display_data"
    },
    {
     "name": "stdout",
     "output_type": "stream",
     "text": [
      "\n",
      "\n",
      "\u001b[1mBagging Classifier\u001b[0m\n",
      "Accuracy of the model for training data is: 0.9972720431456165\n",
      "Confusion Matrix for training data is:\n"
     ]
    },
    {
     "data": {
      "text/plain": [
       "Predicted  False   True  __all__\n",
       "Actual                          \n",
       "False      31882     10    31892\n",
       "True         164  31728    31892\n",
       "__all__    32046  31738    63784"
      ]
     },
     "metadata": {},
     "output_type": "display_data"
    },
    {
     "name": "stdout",
     "output_type": "stream",
     "text": [
      "Accuracy of the model for test data is: 0.9621552277100706\n",
      "Confusion Matrix for test data is:\n"
     ]
    },
    {
     "data": {
      "text/plain": [
       "Predicted  False  True  __all__\n",
       "Actual                         \n",
       "False       7903    82     7985\n",
       "True         272  1097     1369\n",
       "__all__     8175  1179     9354"
      ]
     },
     "metadata": {},
     "output_type": "display_data"
    },
    {
     "name": "stdout",
     "output_type": "stream",
     "text": [
      "\n",
      "\n",
      "\u001b[1mNeural Network-1\u001b[0m\n",
      "The accuracy of the model on training data is: 0.9979932271416029\n"
     ]
    },
    {
     "data": {
      "text/plain": [
       "Predicted  False   True  __all__\n",
       "Actual                          \n",
       "False      31789    103    31892\n",
       "True          25  31867    31892\n",
       "__all__    31814  31970    63784"
      ]
     },
     "metadata": {},
     "output_type": "display_data"
    },
    {
     "name": "stdout",
     "output_type": "stream",
     "text": [
      "The accuracy of the model on test data is: 0.9419499679281591\n"
     ]
    },
    {
     "data": {
      "text/plain": [
       "Predicted  False  True  __all__\n",
       "Actual                         \n",
       "False       7668   317     7985\n",
       "True         226  1143     1369\n",
       "__all__     7894  1460     9354"
      ]
     },
     "metadata": {},
     "output_type": "display_data"
    },
    {
     "name": "stdout",
     "output_type": "stream",
     "text": [
      "\n",
      "\n"
     ]
    }
   ],
   "source": [
    "feat_imp=[None]*4\n",
    "j=0\n",
    "for i in range(0,8):\n",
    "    if i>=2 and i<=5:\n",
    "        model,cm_train,cm_test,acc_train,acc_test,roc_auc,feat_imp[j],mcc=f[i](X_train,Y_train,scaled_X_test,test_Y,columns)\n",
    "        j=j+1\n",
    "    else:\n",
    "        model,cm_train,cm_test,acc_train,acc_test,roc_auc,mcc=f[i](X_train,Y_train,scaled_X_test,test_Y)\n",
    "    table_80_80_train.loc[i]=   ([acc_train,cm_train.TP,cm_train.TN,cm_train.FP,cm_train.FN,cm_train.FPR,cm_train.FNR])\n",
    "    table_80_80_test.loc[i] =   ([acc_test ,cm_test.TP, cm_test.TN, cm_test.FP, cm_test.FN, cm_test.FPR, cm_test.FNR,roc_auc,mcc])\n",
    "    print(\"\\n\")"
   ]
  },
  {
   "cell_type": "markdown",
   "metadata": {},
   "source": [
    "### <a id='2.A' style=\"text-decoration : none; color : #000000;\"> A Results</a>"
   ]
  },
  {
   "cell_type": "code",
   "execution_count": 54,
   "metadata": {},
   "outputs": [
    {
     "data": {
      "application/vnd.plotly.v1+json": {
       "config": {
        "linkText": "Export to plot.ly",
        "plotlyServerURL": "https://plot.ly",
        "showLink": true
       },
       "data": [
        {
         "mode": "lines",
         "name": "KNN_model",
         "type": "scatter",
         "uid": "d47e2ae2-c27e-479e-a337-9fa6a095a953",
         "x": [
          "accuracy",
          "FPR",
          "FNR",
          "auc"
         ],
         "y": [
          0.9173615565533462,
          0.07351283656856607,
          0.1358655953250548,
          0.8953107840531894
         ]
        },
        {
         "mode": "lines+markers",
         "name": "Logistic Regression",
         "type": "scatter",
         "uid": "e72b2979-f1b9-4b03-9437-2e11808517c4",
         "x": [
          "accuracy",
          "FPR",
          "FNR",
          "auc"
         ],
         "y": [
          0.9227068633739577,
          0.07050720100187852,
          0.1168736303871439,
          0.9063095843054887
         ]
        },
        {
         "marker": {
          "symbol": "x"
         },
         "mode": "lines+markers",
         "name": "Random Forest",
         "type": "scatter",
         "uid": "fc5cc149-9c0c-4345-96cd-87236373ceed",
         "x": [
          "accuracy",
          "FPR",
          "FNR",
          "auc"
         ],
         "y": [
          0.9622621338464827,
          0.011145898559799625,
          0.19284149013878743,
          0.8980063056507065
         ]
        },
        {
         "mode": "lines",
         "name": "Ada Boost",
         "type": "scatter",
         "uid": "5eac2091-c8c9-4772-b7f5-c97086b94c09",
         "x": [
          "accuracy",
          "FPR",
          "FNR",
          "auc"
         ],
         "y": [
          0.9322215095146461,
          0.047589229805886035,
          0.18553688823959094,
          0.8834369409772616
         ]
        },
        {
         "mode": "lines+markers",
         "name": "GradientBoosting",
         "type": "scatter",
         "uid": "e1ac2dd1-24af-4172-b228-ba4513fe39dc",
         "x": [
          "accuracy",
          "FPR",
          "FNR",
          "auc"
         ],
         "y": [
          0.9485781483857173,
          0.027927363807138384,
          0.18845872899926955,
          0.891806953596796
         ]
        },
        {
         "marker": {
          "symbol": "x"
         },
         "mode": "lines+markers",
         "name": "ExtraTree Classifier",
         "type": "scatter",
         "uid": "5c100fd9-36b8-46f5-a3fd-70b5f14df98b",
         "x": [
          "accuracy",
          "FPR",
          "FNR",
          "auc"
         ],
         "y": [
          0.9642933504383152,
          0.008766437069505322,
          0.19284149013878743,
          0.8991960363958537
         ]
        },
        {
         "marker": {
          "symbol": "x"
         },
         "mode": "lines+markers",
         "name": "Bagging",
         "type": "scatter",
         "uid": "0627f8be-3101-4156-8bf0-c4003277b421",
         "x": [
          "accuracy",
          "FPR",
          "FNR",
          "auc"
         ],
         "y": [
          0.9621552277100706,
          0.010269254852849092,
          0.19868517165814464,
          0.8955227867445031
         ]
        },
        {
         "marker": {
          "symbol": "x"
         },
         "mode": "lines+markers",
         "name": "Neural Network",
         "type": "scatter",
         "uid": "d21b773e-ec90-4442-8467-005975b222a9",
         "x": [
          "accuracy",
          "FPR",
          "FNR",
          "auc"
         ],
         "y": [
          0.9419499679281591,
          0.039699436443331244,
          0.16508400292184075,
          0.8976082803174139
         ]
        }
       ],
       "layout": {
        "title": "Result comparision for Features selected in Section 1",
        "yaxis": {
         "dtick": 0.05,
         "tick0": 0
        }
       }
      },
      "text/html": [
       "<div id=\"4c58abd9-f3a4-46cf-892b-c22ea88bafd1\" style=\"height: 525px; width: 100%;\" class=\"plotly-graph-div\"></div><script type=\"text/javascript\">require([\"plotly\"], function(Plotly) { window.PLOTLYENV=window.PLOTLYENV || {};window.PLOTLYENV.BASE_URL=\"https://plot.ly\";Plotly.newPlot(\"4c58abd9-f3a4-46cf-892b-c22ea88bafd1\", [{\"mode\": \"lines\", \"name\": \"KNN_model\", \"x\": [\"accuracy\", \"FPR\", \"FNR\", \"auc\"], \"y\": [0.9173615565533462, 0.07351283656856607, 0.1358655953250548, 0.8953107840531894], \"type\": \"scatter\", \"uid\": \"d47e2ae2-c27e-479e-a337-9fa6a095a953\"}, {\"mode\": \"lines+markers\", \"name\": \"Logistic Regression\", \"x\": [\"accuracy\", \"FPR\", \"FNR\", \"auc\"], \"y\": [0.9227068633739577, 0.07050720100187852, 0.1168736303871439, 0.9063095843054887], \"type\": \"scatter\", \"uid\": \"e72b2979-f1b9-4b03-9437-2e11808517c4\"}, {\"marker\": {\"symbol\": \"x\"}, \"mode\": \"lines+markers\", \"name\": \"Random Forest\", \"x\": [\"accuracy\", \"FPR\", \"FNR\", \"auc\"], \"y\": [0.9622621338464827, 0.011145898559799625, 0.19284149013878743, 0.8980063056507065], \"type\": \"scatter\", \"uid\": \"fc5cc149-9c0c-4345-96cd-87236373ceed\"}, {\"mode\": \"lines\", \"name\": \"Ada Boost\", \"x\": [\"accuracy\", \"FPR\", \"FNR\", \"auc\"], \"y\": [0.9322215095146461, 0.047589229805886035, 0.18553688823959094, 0.8834369409772616], \"type\": \"scatter\", \"uid\": \"5eac2091-c8c9-4772-b7f5-c97086b94c09\"}, {\"mode\": \"lines+markers\", \"name\": \"GradientBoosting\", \"x\": [\"accuracy\", \"FPR\", \"FNR\", \"auc\"], \"y\": [0.9485781483857173, 0.027927363807138384, 0.18845872899926955, 0.891806953596796], \"type\": \"scatter\", \"uid\": \"e1ac2dd1-24af-4172-b228-ba4513fe39dc\"}, {\"marker\": {\"symbol\": \"x\"}, \"mode\": \"lines+markers\", \"name\": \"ExtraTree Classifier\", \"x\": [\"accuracy\", \"FPR\", \"FNR\", \"auc\"], \"y\": [0.9642933504383152, 0.008766437069505322, 0.19284149013878743, 0.8991960363958537], \"type\": \"scatter\", \"uid\": \"5c100fd9-36b8-46f5-a3fd-70b5f14df98b\"}, {\"marker\": {\"symbol\": \"x\"}, \"mode\": \"lines+markers\", \"name\": \"Bagging\", \"x\": [\"accuracy\", \"FPR\", \"FNR\", \"auc\"], \"y\": [0.9621552277100706, 0.010269254852849092, 0.19868517165814464, 0.8955227867445031], \"type\": \"scatter\", \"uid\": \"0627f8be-3101-4156-8bf0-c4003277b421\"}, {\"marker\": {\"symbol\": \"x\"}, \"mode\": \"lines+markers\", \"name\": \"Neural Network\", \"x\": [\"accuracy\", \"FPR\", \"FNR\", \"auc\"], \"y\": [0.9419499679281591, 0.039699436443331244, 0.16508400292184075, 0.8976082803174139], \"type\": \"scatter\", \"uid\": \"d21b773e-ec90-4442-8467-005975b222a9\"}], {\"title\": \"Result comparision for Features selected in Section 1\", \"yaxis\": {\"dtick\": 0.05, \"tick0\": 0}}, {\"showLink\": true, \"linkText\": \"Export to plot.ly\", \"plotlyServerURL\": \"https://plot.ly\"})});</script><script type=\"text/javascript\">window.addEventListener(\"resize\", function(){window._Plotly.Plots.resize(document.getElementById(\"4c58abd9-f3a4-46cf-892b-c22ea88bafd1\"));});</script>"
      ],
      "text/vnd.plotly.v1+html": [
       "<div id=\"4c58abd9-f3a4-46cf-892b-c22ea88bafd1\" style=\"height: 525px; width: 100%;\" class=\"plotly-graph-div\"></div><script type=\"text/javascript\">require([\"plotly\"], function(Plotly) { window.PLOTLYENV=window.PLOTLYENV || {};window.PLOTLYENV.BASE_URL=\"https://plot.ly\";Plotly.newPlot(\"4c58abd9-f3a4-46cf-892b-c22ea88bafd1\", [{\"mode\": \"lines\", \"name\": \"KNN_model\", \"x\": [\"accuracy\", \"FPR\", \"FNR\", \"auc\"], \"y\": [0.9173615565533462, 0.07351283656856607, 0.1358655953250548, 0.8953107840531894], \"type\": \"scatter\", \"uid\": \"d47e2ae2-c27e-479e-a337-9fa6a095a953\"}, {\"mode\": \"lines+markers\", \"name\": \"Logistic Regression\", \"x\": [\"accuracy\", \"FPR\", \"FNR\", \"auc\"], \"y\": [0.9227068633739577, 0.07050720100187852, 0.1168736303871439, 0.9063095843054887], \"type\": \"scatter\", \"uid\": \"e72b2979-f1b9-4b03-9437-2e11808517c4\"}, {\"marker\": {\"symbol\": \"x\"}, \"mode\": \"lines+markers\", \"name\": \"Random Forest\", \"x\": [\"accuracy\", \"FPR\", \"FNR\", \"auc\"], \"y\": [0.9622621338464827, 0.011145898559799625, 0.19284149013878743, 0.8980063056507065], \"type\": \"scatter\", \"uid\": \"fc5cc149-9c0c-4345-96cd-87236373ceed\"}, {\"mode\": \"lines\", \"name\": \"Ada Boost\", \"x\": [\"accuracy\", \"FPR\", \"FNR\", \"auc\"], \"y\": [0.9322215095146461, 0.047589229805886035, 0.18553688823959094, 0.8834369409772616], \"type\": \"scatter\", \"uid\": \"5eac2091-c8c9-4772-b7f5-c97086b94c09\"}, {\"mode\": \"lines+markers\", \"name\": \"GradientBoosting\", \"x\": [\"accuracy\", \"FPR\", \"FNR\", \"auc\"], \"y\": [0.9485781483857173, 0.027927363807138384, 0.18845872899926955, 0.891806953596796], \"type\": \"scatter\", \"uid\": \"e1ac2dd1-24af-4172-b228-ba4513fe39dc\"}, {\"marker\": {\"symbol\": \"x\"}, \"mode\": \"lines+markers\", \"name\": \"ExtraTree Classifier\", \"x\": [\"accuracy\", \"FPR\", \"FNR\", \"auc\"], \"y\": [0.9642933504383152, 0.008766437069505322, 0.19284149013878743, 0.8991960363958537], \"type\": \"scatter\", \"uid\": \"5c100fd9-36b8-46f5-a3fd-70b5f14df98b\"}, {\"marker\": {\"symbol\": \"x\"}, \"mode\": \"lines+markers\", \"name\": \"Bagging\", \"x\": [\"accuracy\", \"FPR\", \"FNR\", \"auc\"], \"y\": [0.9621552277100706, 0.010269254852849092, 0.19868517165814464, 0.8955227867445031], \"type\": \"scatter\", \"uid\": \"0627f8be-3101-4156-8bf0-c4003277b421\"}, {\"marker\": {\"symbol\": \"x\"}, \"mode\": \"lines+markers\", \"name\": \"Neural Network\", \"x\": [\"accuracy\", \"FPR\", \"FNR\", \"auc\"], \"y\": [0.9419499679281591, 0.039699436443331244, 0.16508400292184075, 0.8976082803174139], \"type\": \"scatter\", \"uid\": \"d21b773e-ec90-4442-8467-005975b222a9\"}], {\"title\": \"Result comparision for Features selected in Section 1\", \"yaxis\": {\"dtick\": 0.05, \"tick0\": 0}}, {\"showLink\": true, \"linkText\": \"Export to plot.ly\", \"plotlyServerURL\": \"https://plot.ly\"})});</script><script type=\"text/javascript\">window.addEventListener(\"resize\", function(){window._Plotly.Plots.resize(document.getElementById(\"4c58abd9-f3a4-46cf-892b-c22ea88bafd1\"));});</script>"
      ]
     },
     "metadata": {},
     "output_type": "display_data"
    }
   ],
   "source": [
    "trace0 = go.Scatter(x=table_80_80_test.iloc[0].index.values[[0,5,6,7]],\n",
    "                    y=table_80_80_test.iloc[0].values[[0,5,6,7]],\n",
    "                    mode = 'lines',\n",
    "                    name = 'KNN_model')\n",
    "\n",
    "trace1 = go.Scatter(x=table_80_80_test.iloc[1].index.values[[0,5,6,7]],\n",
    "                    y=table_80_80_test.iloc[1].values[[0,5,6,7]],\n",
    "                    mode = 'lines+markers',\n",
    "                    name = 'Logistic Regression')\n",
    "\n",
    "trace2 = go.Scatter(x=table_80_80_test.iloc[2].index.values[[0,5,6,7]],\n",
    "                    y=table_80_80_test.iloc[2].values[[0,5,6,7]],\n",
    "                    mode = 'lines+markers',marker=dict(symbol='x'),\n",
    "                    name = 'Random Forest')\n",
    "\n",
    "\n",
    "trace3 = go.Scatter(x=table_80_80_test.iloc[3].index.values[[0,5,6,7]],\n",
    "                    y=table_80_80_test.iloc[3].values[[0,5,6,7]],\n",
    "                    mode = 'lines',\n",
    "                    name = 'Ada Boost')\n",
    "\n",
    "trace4 = go.Scatter(x=table_80_80_test.iloc[4].index.values[[0,5,6,7]],\n",
    "                    y=table_80_80_test.iloc[4].values[[0,5,6,7]],\n",
    "                    mode = 'lines+markers',\n",
    "                    name = 'GradientBoosting')\n",
    "\n",
    "trace5 = go.Scatter(x=table_80_80_test.iloc[5].index.values[[0,5,6,7]],\n",
    "                    y=table_80_80_test.iloc[5].values[[0,5,6,7]],\n",
    "                    mode = 'lines+markers',marker=dict(symbol='x'),\n",
    "                    name = 'ExtraTree Classifier')\n",
    "\n",
    "trace6 = go.Scatter(x=table_80_80_test.iloc[6].index.values[[0,5,6,7]],\n",
    "                    y=table_80_80_test.iloc[6].values[[0,5,6,7]],\n",
    "                    mode = 'lines+markers',marker=dict(symbol='x'),\n",
    "                    name = 'Bagging')\n",
    "\n",
    "trace7 = go.Scatter(x=table_80_80_test.iloc[7].index.values[[0,5,6,7]],\n",
    "                    y=table_80_80_test.iloc[7].values[[0,5,6,7]],\n",
    "                    mode = 'lines+markers',marker=dict(symbol='x'),\n",
    "                    name = 'Neural Network')\n",
    "\n",
    "\n",
    "\n",
    "data = [trace0, trace1, trace2, trace3, trace4, trace5, trace6, trace7]\n",
    "layout = go.Layout(yaxis=dict(tick0=0,dtick=0.05),title='Result comparision for Features selected in Section 1')\n",
    "fig = go.Figure(data=data, layout=layout)\n",
    "\n",
    "iplot(fig, filename='Result')"
   ]
  },
  {
   "cell_type": "code",
   "execution_count": 55,
   "metadata": {},
   "outputs": [
    {
     "name": "stdout",
     "output_type": "stream",
     "text": [
      "Training Results\n"
     ]
    },
    {
     "data": {
      "text/html": [
       "<div>\n",
       "<style scoped>\n",
       "    .dataframe tbody tr th:only-of-type {\n",
       "        vertical-align: middle;\n",
       "    }\n",
       "\n",
       "    .dataframe tbody tr th {\n",
       "        vertical-align: top;\n",
       "    }\n",
       "\n",
       "    .dataframe thead th {\n",
       "        text-align: right;\n",
       "    }\n",
       "</style>\n",
       "<table border=\"1\" class=\"dataframe\">\n",
       "  <thead>\n",
       "    <tr style=\"text-align: right;\">\n",
       "      <th></th>\n",
       "      <th>accuracy</th>\n",
       "      <th>TP</th>\n",
       "      <th>TN</th>\n",
       "      <th>FP</th>\n",
       "      <th>FN</th>\n",
       "      <th>FPR</th>\n",
       "      <th>FNR</th>\n",
       "    </tr>\n",
       "    <tr>\n",
       "      <th>index</th>\n",
       "      <th></th>\n",
       "      <th></th>\n",
       "      <th></th>\n",
       "      <th></th>\n",
       "      <th></th>\n",
       "      <th></th>\n",
       "      <th></th>\n",
       "    </tr>\n",
       "  </thead>\n",
       "  <tbody>\n",
       "    <tr>\n",
       "      <th>KNeighborsClassifier</th>\n",
       "      <td>0.976091</td>\n",
       "      <td>31861.0</td>\n",
       "      <td>30398.0</td>\n",
       "      <td>1494.0</td>\n",
       "      <td>31.0</td>\n",
       "      <td>0.046846</td>\n",
       "      <td>0.000972</td>\n",
       "    </tr>\n",
       "    <tr>\n",
       "      <th>LogisticRegression</th>\n",
       "      <td>0.898674</td>\n",
       "      <td>27685.0</td>\n",
       "      <td>29636.0</td>\n",
       "      <td>2256.0</td>\n",
       "      <td>4207.0</td>\n",
       "      <td>0.070739</td>\n",
       "      <td>0.131914</td>\n",
       "    </tr>\n",
       "    <tr>\n",
       "      <th>RandomForestClassifier</th>\n",
       "      <td>0.997868</td>\n",
       "      <td>31762.0</td>\n",
       "      <td>31886.0</td>\n",
       "      <td>6.0</td>\n",
       "      <td>130.0</td>\n",
       "      <td>0.000188</td>\n",
       "      <td>0.004076</td>\n",
       "    </tr>\n",
       "    <tr>\n",
       "      <th>AdaBoostClassifier</th>\n",
       "      <td>0.940283</td>\n",
       "      <td>29489.0</td>\n",
       "      <td>30486.0</td>\n",
       "      <td>1406.0</td>\n",
       "      <td>2403.0</td>\n",
       "      <td>0.044086</td>\n",
       "      <td>0.075348</td>\n",
       "    </tr>\n",
       "    <tr>\n",
       "      <th>GradientBoostingClassifier</th>\n",
       "      <td>0.965305</td>\n",
       "      <td>30479.0</td>\n",
       "      <td>31092.0</td>\n",
       "      <td>800.0</td>\n",
       "      <td>1413.0</td>\n",
       "      <td>0.025085</td>\n",
       "      <td>0.044306</td>\n",
       "    </tr>\n",
       "    <tr>\n",
       "      <th>ExtraTreeClassifier</th>\n",
       "      <td>0.999984</td>\n",
       "      <td>31891.0</td>\n",
       "      <td>31892.0</td>\n",
       "      <td>0.0</td>\n",
       "      <td>1.0</td>\n",
       "      <td>0.000000</td>\n",
       "      <td>0.000031</td>\n",
       "    </tr>\n",
       "    <tr>\n",
       "      <th>BaggingClassifier</th>\n",
       "      <td>0.997272</td>\n",
       "      <td>31728.0</td>\n",
       "      <td>31882.0</td>\n",
       "      <td>10.0</td>\n",
       "      <td>164.0</td>\n",
       "      <td>0.000314</td>\n",
       "      <td>0.005142</td>\n",
       "    </tr>\n",
       "    <tr>\n",
       "      <th>Neural Network-1</th>\n",
       "      <td>0.997993</td>\n",
       "      <td>31867.0</td>\n",
       "      <td>31789.0</td>\n",
       "      <td>103.0</td>\n",
       "      <td>25.0</td>\n",
       "      <td>0.003230</td>\n",
       "      <td>0.000784</td>\n",
       "    </tr>\n",
       "  </tbody>\n",
       "</table>\n",
       "</div>"
      ],
      "text/plain": [
       "                            accuracy       TP       TN      FP      FN  \\\n",
       "index                                                                    \n",
       "KNeighborsClassifier        0.976091  31861.0  30398.0  1494.0    31.0   \n",
       "LogisticRegression          0.898674  27685.0  29636.0  2256.0  4207.0   \n",
       "RandomForestClassifier      0.997868  31762.0  31886.0     6.0   130.0   \n",
       "AdaBoostClassifier          0.940283  29489.0  30486.0  1406.0  2403.0   \n",
       "GradientBoostingClassifier  0.965305  30479.0  31092.0   800.0  1413.0   \n",
       "ExtraTreeClassifier         0.999984  31891.0  31892.0     0.0     1.0   \n",
       "BaggingClassifier           0.997272  31728.0  31882.0    10.0   164.0   \n",
       "Neural Network-1            0.997993  31867.0  31789.0   103.0    25.0   \n",
       "\n",
       "                                 FPR       FNR  \n",
       "index                                           \n",
       "KNeighborsClassifier        0.046846  0.000972  \n",
       "LogisticRegression          0.070739  0.131914  \n",
       "RandomForestClassifier      0.000188  0.004076  \n",
       "AdaBoostClassifier          0.044086  0.075348  \n",
       "GradientBoostingClassifier  0.025085  0.044306  \n",
       "ExtraTreeClassifier         0.000000  0.000031  \n",
       "BaggingClassifier           0.000314  0.005142  \n",
       "Neural Network-1            0.003230  0.000784  "
      ]
     },
     "metadata": {},
     "output_type": "display_data"
    },
    {
     "name": "stdout",
     "output_type": "stream",
     "text": [
      "Test Results\n"
     ]
    },
    {
     "data": {
      "text/html": [
       "<div>\n",
       "<style scoped>\n",
       "    .dataframe tbody tr th:only-of-type {\n",
       "        vertical-align: middle;\n",
       "    }\n",
       "\n",
       "    .dataframe tbody tr th {\n",
       "        vertical-align: top;\n",
       "    }\n",
       "\n",
       "    .dataframe thead th {\n",
       "        text-align: right;\n",
       "    }\n",
       "</style>\n",
       "<table border=\"1\" class=\"dataframe\">\n",
       "  <thead>\n",
       "    <tr style=\"text-align: right;\">\n",
       "      <th></th>\n",
       "      <th>accuracy</th>\n",
       "      <th>TP</th>\n",
       "      <th>TN</th>\n",
       "      <th>FP</th>\n",
       "      <th>FN</th>\n",
       "      <th>FPR</th>\n",
       "      <th>FNR</th>\n",
       "      <th>auc</th>\n",
       "      <th>mcc</th>\n",
       "    </tr>\n",
       "    <tr>\n",
       "      <th>index</th>\n",
       "      <th></th>\n",
       "      <th></th>\n",
       "      <th></th>\n",
       "      <th></th>\n",
       "      <th></th>\n",
       "      <th></th>\n",
       "      <th></th>\n",
       "      <th></th>\n",
       "      <th></th>\n",
       "    </tr>\n",
       "  </thead>\n",
       "  <tbody>\n",
       "    <tr>\n",
       "      <th>KNeighborsClassifier</th>\n",
       "      <td>0.917362</td>\n",
       "      <td>1183.0</td>\n",
       "      <td>7398.0</td>\n",
       "      <td>587.0</td>\n",
       "      <td>186.0</td>\n",
       "      <td>0.073513</td>\n",
       "      <td>0.135866</td>\n",
       "      <td>0.895311</td>\n",
       "      <td>0.713464</td>\n",
       "    </tr>\n",
       "    <tr>\n",
       "      <th>LogisticRegression</th>\n",
       "      <td>0.922707</td>\n",
       "      <td>1209.0</td>\n",
       "      <td>7422.0</td>\n",
       "      <td>563.0</td>\n",
       "      <td>160.0</td>\n",
       "      <td>0.070507</td>\n",
       "      <td>0.116874</td>\n",
       "      <td>0.906310</td>\n",
       "      <td>0.732998</td>\n",
       "    </tr>\n",
       "    <tr>\n",
       "      <th>RandomForestClassifier</th>\n",
       "      <td>0.962262</td>\n",
       "      <td>1105.0</td>\n",
       "      <td>7896.0</td>\n",
       "      <td>89.0</td>\n",
       "      <td>264.0</td>\n",
       "      <td>0.011146</td>\n",
       "      <td>0.192841</td>\n",
       "      <td>0.898006</td>\n",
       "      <td>0.843164</td>\n",
       "    </tr>\n",
       "    <tr>\n",
       "      <th>AdaBoostClassifier</th>\n",
       "      <td>0.932222</td>\n",
       "      <td>1115.0</td>\n",
       "      <td>7605.0</td>\n",
       "      <td>380.0</td>\n",
       "      <td>254.0</td>\n",
       "      <td>0.047589</td>\n",
       "      <td>0.185537</td>\n",
       "      <td>0.883437</td>\n",
       "      <td>0.739706</td>\n",
       "    </tr>\n",
       "    <tr>\n",
       "      <th>GradientBoostingClassifier</th>\n",
       "      <td>0.948578</td>\n",
       "      <td>1111.0</td>\n",
       "      <td>7762.0</td>\n",
       "      <td>223.0</td>\n",
       "      <td>258.0</td>\n",
       "      <td>0.027927</td>\n",
       "      <td>0.188459</td>\n",
       "      <td>0.891807</td>\n",
       "      <td>0.792093</td>\n",
       "    </tr>\n",
       "    <tr>\n",
       "      <th>ExtraTreeClassifier</th>\n",
       "      <td>0.964293</td>\n",
       "      <td>1105.0</td>\n",
       "      <td>7915.0</td>\n",
       "      <td>70.0</td>\n",
       "      <td>264.0</td>\n",
       "      <td>0.008766</td>\n",
       "      <td>0.192841</td>\n",
       "      <td>0.899196</td>\n",
       "      <td>0.851503</td>\n",
       "    </tr>\n",
       "    <tr>\n",
       "      <th>BaggingClassifier</th>\n",
       "      <td>0.962155</td>\n",
       "      <td>1097.0</td>\n",
       "      <td>7903.0</td>\n",
       "      <td>82.0</td>\n",
       "      <td>272.0</td>\n",
       "      <td>0.010269</td>\n",
       "      <td>0.198685</td>\n",
       "      <td>0.895523</td>\n",
       "      <td>0.842442</td>\n",
       "    </tr>\n",
       "    <tr>\n",
       "      <th>Neural Network-1</th>\n",
       "      <td>0.941950</td>\n",
       "      <td>1143.0</td>\n",
       "      <td>7668.0</td>\n",
       "      <td>317.0</td>\n",
       "      <td>226.0</td>\n",
       "      <td>0.039699</td>\n",
       "      <td>0.165084</td>\n",
       "      <td>0.897608</td>\n",
       "      <td>0.774461</td>\n",
       "    </tr>\n",
       "  </tbody>\n",
       "</table>\n",
       "</div>"
      ],
      "text/plain": [
       "                            accuracy      TP      TN     FP     FN       FPR  \\\n",
       "index                                                                          \n",
       "KNeighborsClassifier        0.917362  1183.0  7398.0  587.0  186.0  0.073513   \n",
       "LogisticRegression          0.922707  1209.0  7422.0  563.0  160.0  0.070507   \n",
       "RandomForestClassifier      0.962262  1105.0  7896.0   89.0  264.0  0.011146   \n",
       "AdaBoostClassifier          0.932222  1115.0  7605.0  380.0  254.0  0.047589   \n",
       "GradientBoostingClassifier  0.948578  1111.0  7762.0  223.0  258.0  0.027927   \n",
       "ExtraTreeClassifier         0.964293  1105.0  7915.0   70.0  264.0  0.008766   \n",
       "BaggingClassifier           0.962155  1097.0  7903.0   82.0  272.0  0.010269   \n",
       "Neural Network-1            0.941950  1143.0  7668.0  317.0  226.0  0.039699   \n",
       "\n",
       "                                 FNR       auc       mcc  \n",
       "index                                                     \n",
       "KNeighborsClassifier        0.135866  0.895311  0.713464  \n",
       "LogisticRegression          0.116874  0.906310  0.732998  \n",
       "RandomForestClassifier      0.192841  0.898006  0.843164  \n",
       "AdaBoostClassifier          0.185537  0.883437  0.739706  \n",
       "GradientBoostingClassifier  0.188459  0.891807  0.792093  \n",
       "ExtraTreeClassifier         0.192841  0.899196  0.851503  \n",
       "BaggingClassifier           0.198685  0.895523  0.842442  \n",
       "Neural Network-1            0.165084  0.897608  0.774461  "
      ]
     },
     "metadata": {},
     "output_type": "display_data"
    }
   ],
   "source": [
    "table_80_80_train['index']=ind_columns\n",
    "table_80_80_test['index']=ind_columns\n",
    "\n",
    "\n",
    "table_80_80_test.set_index(['index'],drop=True,inplace=True)\n",
    "table_80_80_train.set_index(['index'],drop=True,inplace=True)\n",
    "\n",
    "print(\"Training Results\")\n",
    "display(table_80_80_train)\n",
    "print(\"Test Results\")\n",
    "display(table_80_80_test)"
   ]
  },
  {
   "cell_type": "markdown",
   "metadata": {},
   "source": [
    "### <a id='2.B' style=\"text-decoration : none; color : #000000;\"> B. Average Feature Importances</a>"
   ]
  },
  {
   "cell_type": "code",
   "execution_count": 56,
   "metadata": {},
   "outputs": [
    {
     "data": {
      "application/vnd.plotly.v1+json": {
       "config": {
        "linkText": "Export to plot.ly",
        "plotlyServerURL": "https://plot.ly",
        "showLink": true
       },
       "data": [
        {
         "marker": {
          "color": "rgb(158,202,225)",
          "line": {
           "color": "rgb(8,48,107)",
           "width": 1.5
          }
         },
         "opacity": 0.6,
         "orientation": "h",
         "text": [
          0.1875,
          0.1134,
          0.0685,
          0.0497,
          0.0486,
          0.0386,
          0.0339,
          0.0336,
          0.0291,
          0.0278,
          0.0278,
          0.0273,
          0.0236,
          0.0231,
          0.0223,
          0.0208,
          0.0207,
          0.0201,
          0.0186,
          0.0168,
          0.0165,
          0.0159,
          0.0146,
          0.012,
          0.0113,
          0.0108,
          0.0082,
          0.0081,
          0.0062,
          0.006,
          0.006,
          0.0051,
          0.0043,
          0.0042,
          0.0038,
          0.0031,
          0.0028,
          0.0027,
          0.0026,
          0.0019,
          0.0018
         ],
         "textposition": "outside",
         "type": "bar",
         "uid": "58fe5153-291b-4d71-9d40-ba8822590b8c",
         "x": [
          0.18745943209934862,
          0.1133681811696339,
          0.06854033399842753,
          0.04969929941362173,
          0.0485966475711289,
          0.03864449855856899,
          0.033859589311431904,
          0.033571800240082786,
          0.029145903394569607,
          0.027808162892424777,
          0.02778932975929297,
          0.02732683631063552,
          0.023648584792160032,
          0.0230702227861653,
          0.022307308130462482,
          0.020826180243902887,
          0.02071545129376855,
          0.020127070996784215,
          0.018633595623431427,
          0.016835975845448152,
          0.016479151794085163,
          0.015880306863139605,
          0.014641466189753743,
          0.01204774183753642,
          0.01128363132217906,
          0.010789576432193679,
          0.008246663540610433,
          0.008073925454541097,
          0.006194373324772764,
          0.006026881058980707,
          0.006021469769957661,
          0.005095506185233333,
          0.0043343099032130735,
          0.00416939643919754,
          0.0038137308175771774,
          0.003139130179579513,
          0.002779635702731308,
          0.0026888029509999937,
          0.0025807641341358094,
          0.001917398104278727,
          0.0018217335640129712
         ],
         "y": [
          "url_extensions",
          "url_length",
          "url_char_.",
          "url_char_w",
          "url_number_digits",
          "url_number_consonants",
          "url_char_i",
          "url_tlds",
          "url_char_s",
          "url_char_t",
          "url_char_r",
          "url_char_l",
          "url_char_d",
          "url_char_z",
          "url_char_o",
          "url_char_p",
          "url_char_u",
          "url_words_with_length_4",
          "url_char_b",
          "url_char_y",
          "url_extension_.com",
          "url_char_e",
          "url_number_vowels",
          "url_char_c",
          "url_char_f",
          "url_char_h",
          "url_char_m",
          "url_extension_.net",
          "url_char_a",
          "url_char_n",
          "url_words_with_length_5",
          "url_words_with_length_6",
          "url_char_x",
          "url_char_k",
          "url_char_g",
          "url_words_with_length_7",
          "url_char_v",
          "url_extension_.i",
          "url_char_-",
          "url_char_j",
          "url_words_with_length_8"
         ]
        }
       ],
       "layout": {
        "autosize": false,
        "height": 1000,
        "width": 1000,
        "xaxis": {
         "tickfont": {
          "color": "black",
          "size": 12
         },
         "title": "Feature Importances"
        },
        "yaxis": {
         "automargin": true
        }
       }
      },
      "text/html": [
       "<div id=\"bafc961b-8954-4ff0-b60c-67d0a841653b\" style=\"height: 1000px; width: 1000px;\" class=\"plotly-graph-div\"></div><script type=\"text/javascript\">require([\"plotly\"], function(Plotly) { window.PLOTLYENV=window.PLOTLYENV || {};window.PLOTLYENV.BASE_URL=\"https://plot.ly\";Plotly.newPlot(\"bafc961b-8954-4ff0-b60c-67d0a841653b\", [{\"marker\": {\"color\": \"rgb(158,202,225)\", \"line\": {\"color\": \"rgb(8,48,107)\", \"width\": 1.5}}, \"opacity\": 0.6, \"orientation\": \"h\", \"text\": [0.1875, 0.1134, 0.0685, 0.0497, 0.0486, 0.0386, 0.0339, 0.0336, 0.0291, 0.0278, 0.0278, 0.0273, 0.0236, 0.0231, 0.0223, 0.0208, 0.0207, 0.0201, 0.0186, 0.0168, 0.0165, 0.0159, 0.0146, 0.012, 0.0113, 0.0108, 0.0082, 0.0081, 0.0062, 0.006, 0.006, 0.0051, 0.0043, 0.0042, 0.0038, 0.0031, 0.0028, 0.0027, 0.0026, 0.0019, 0.0018], \"textposition\": \"outside\", \"x\": [0.18745943209934862, 0.1133681811696339, 0.06854033399842753, 0.04969929941362173, 0.0485966475711289, 0.03864449855856899, 0.033859589311431904, 0.033571800240082786, 0.029145903394569607, 0.027808162892424777, 0.02778932975929297, 0.02732683631063552, 0.023648584792160032, 0.0230702227861653, 0.022307308130462482, 0.020826180243902887, 0.02071545129376855, 0.020127070996784215, 0.018633595623431427, 0.016835975845448152, 0.016479151794085163, 0.015880306863139605, 0.014641466189753743, 0.01204774183753642, 0.01128363132217906, 0.010789576432193679, 0.008246663540610433, 0.008073925454541097, 0.006194373324772764, 0.006026881058980707, 0.006021469769957661, 0.005095506185233333, 0.0043343099032130735, 0.00416939643919754, 0.0038137308175771774, 0.003139130179579513, 0.002779635702731308, 0.0026888029509999937, 0.0025807641341358094, 0.001917398104278727, 0.0018217335640129712], \"y\": [\"url_extensions\", \"url_length\", \"url_char_.\", \"url_char_w\", \"url_number_digits\", \"url_number_consonants\", \"url_char_i\", \"url_tlds\", \"url_char_s\", \"url_char_t\", \"url_char_r\", \"url_char_l\", \"url_char_d\", \"url_char_z\", \"url_char_o\", \"url_char_p\", \"url_char_u\", \"url_words_with_length_4\", \"url_char_b\", \"url_char_y\", \"url_extension_.com\", \"url_char_e\", \"url_number_vowels\", \"url_char_c\", \"url_char_f\", \"url_char_h\", \"url_char_m\", \"url_extension_.net\", \"url_char_a\", \"url_char_n\", \"url_words_with_length_5\", \"url_words_with_length_6\", \"url_char_x\", \"url_char_k\", \"url_char_g\", \"url_words_with_length_7\", \"url_char_v\", \"url_extension_.i\", \"url_char_-\", \"url_char_j\", \"url_words_with_length_8\"], \"type\": \"bar\", \"uid\": \"58fe5153-291b-4d71-9d40-ba8822590b8c\"}], {\"autosize\": false, \"height\": 1000, \"width\": 1000, \"xaxis\": {\"tickfont\": {\"color\": \"black\", \"size\": 12}, \"title\": \"Feature Importances\"}, \"yaxis\": {\"automargin\": true}}, {\"showLink\": true, \"linkText\": \"Export to plot.ly\", \"plotlyServerURL\": \"https://plot.ly\"})});</script>"
      ],
      "text/vnd.plotly.v1+html": [
       "<div id=\"bafc961b-8954-4ff0-b60c-67d0a841653b\" style=\"height: 1000px; width: 1000px;\" class=\"plotly-graph-div\"></div><script type=\"text/javascript\">require([\"plotly\"], function(Plotly) { window.PLOTLYENV=window.PLOTLYENV || {};window.PLOTLYENV.BASE_URL=\"https://plot.ly\";Plotly.newPlot(\"bafc961b-8954-4ff0-b60c-67d0a841653b\", [{\"marker\": {\"color\": \"rgb(158,202,225)\", \"line\": {\"color\": \"rgb(8,48,107)\", \"width\": 1.5}}, \"opacity\": 0.6, \"orientation\": \"h\", \"text\": [0.1875, 0.1134, 0.0685, 0.0497, 0.0486, 0.0386, 0.0339, 0.0336, 0.0291, 0.0278, 0.0278, 0.0273, 0.0236, 0.0231, 0.0223, 0.0208, 0.0207, 0.0201, 0.0186, 0.0168, 0.0165, 0.0159, 0.0146, 0.012, 0.0113, 0.0108, 0.0082, 0.0081, 0.0062, 0.006, 0.006, 0.0051, 0.0043, 0.0042, 0.0038, 0.0031, 0.0028, 0.0027, 0.0026, 0.0019, 0.0018], \"textposition\": \"outside\", \"x\": [0.18745943209934862, 0.1133681811696339, 0.06854033399842753, 0.04969929941362173, 0.0485966475711289, 0.03864449855856899, 0.033859589311431904, 0.033571800240082786, 0.029145903394569607, 0.027808162892424777, 0.02778932975929297, 0.02732683631063552, 0.023648584792160032, 0.0230702227861653, 0.022307308130462482, 0.020826180243902887, 0.02071545129376855, 0.020127070996784215, 0.018633595623431427, 0.016835975845448152, 0.016479151794085163, 0.015880306863139605, 0.014641466189753743, 0.01204774183753642, 0.01128363132217906, 0.010789576432193679, 0.008246663540610433, 0.008073925454541097, 0.006194373324772764, 0.006026881058980707, 0.006021469769957661, 0.005095506185233333, 0.0043343099032130735, 0.00416939643919754, 0.0038137308175771774, 0.003139130179579513, 0.002779635702731308, 0.0026888029509999937, 0.0025807641341358094, 0.001917398104278727, 0.0018217335640129712], \"y\": [\"url_extensions\", \"url_length\", \"url_char_.\", \"url_char_w\", \"url_number_digits\", \"url_number_consonants\", \"url_char_i\", \"url_tlds\", \"url_char_s\", \"url_char_t\", \"url_char_r\", \"url_char_l\", \"url_char_d\", \"url_char_z\", \"url_char_o\", \"url_char_p\", \"url_char_u\", \"url_words_with_length_4\", \"url_char_b\", \"url_char_y\", \"url_extension_.com\", \"url_char_e\", \"url_number_vowels\", \"url_char_c\", \"url_char_f\", \"url_char_h\", \"url_char_m\", \"url_extension_.net\", \"url_char_a\", \"url_char_n\", \"url_words_with_length_5\", \"url_words_with_length_6\", \"url_char_x\", \"url_char_k\", \"url_char_g\", \"url_words_with_length_7\", \"url_char_v\", \"url_extension_.i\", \"url_char_-\", \"url_char_j\", \"url_words_with_length_8\"], \"type\": \"bar\", \"uid\": \"58fe5153-291b-4d71-9d40-ba8822590b8c\"}], {\"autosize\": false, \"height\": 1000, \"width\": 1000, \"xaxis\": {\"tickfont\": {\"color\": \"black\", \"size\": 12}, \"title\": \"Feature Importances\"}, \"yaxis\": {\"automargin\": true}}, {\"showLink\": true, \"linkText\": \"Export to plot.ly\", \"plotlyServerURL\": \"https://plot.ly\"})});</script>"
      ]
     },
     "metadata": {},
     "output_type": "display_data"
    }
   ],
   "source": [
    "feat_impt_plot(np.average(feat_imp,axis=0),columns)"
   ]
  },
  {
   "cell_type": "markdown",
   "metadata": {},
   "source": [
    "### <a id='3' style=\"text-decoration : none; color : #000000;\"> 3. Undersampling</a>"
   ]
  },
  {
   "cell_type": "code",
   "execution_count": 57,
   "metadata": {},
   "outputs": [
    {
     "name": "stdout",
     "output_type": "stream",
     "text": [
      "Shape after undersampling (11050, 41)\n"
     ]
    }
   ],
   "source": [
    "df_non=train[train.Target==0]\n",
    "df_mal=train[train.Target==1]\n",
    "\n",
    "df_non=df_non.sample(frac=len(df_mal)/len(df_non),random_state=0)\n",
    "df_u=df_non.append(df_mal)\n",
    "df_u.Target.value_counts() \n",
    "\n",
    "X_train=df_u[columns]\n",
    "X_train=scaler.transform(X_train)\n",
    "Y_train=df_u.Target.values\n",
    "\n",
    "print(\"Shape after undersampling\",X_train.shape)\n"
   ]
  },
  {
   "cell_type": "code",
   "execution_count": 58,
   "metadata": {},
   "outputs": [],
   "source": [
    "## Table to store training and test measures so we can compare later\n",
    "table_80_90_train=pd.DataFrame(columns=['accuracy','TP','TN','FP','FN','FPR','FNR'])\n",
    "table_80_90_test=pd.DataFrame(columns=['accuracy','TP','TN','FP','FN','FPR','FNR','auc','mcc'])"
   ]
  },
  {
   "cell_type": "code",
   "execution_count": 59,
   "metadata": {
    "scrolled": false
   },
   "outputs": [
    {
     "name": "stdout",
     "output_type": "stream",
     "text": [
      "\u001b[1mK-Nearest Neighbors\u001b[0m\n",
      "Accuracy of the model for training data is: 0.9197285067873303\n",
      "Confusion Matrix for training data is:\n"
     ]
    },
    {
     "data": {
      "text/plain": [
       "Predicted  False  True  __all__\n",
       "Actual                         \n",
       "False       5421   104     5525\n",
       "True         783  4742     5525\n",
       "__all__     6204  4846    11050"
      ]
     },
     "metadata": {},
     "output_type": "display_data"
    },
    {
     "name": "stdout",
     "output_type": "stream",
     "text": [
      "Accuracy of the model for test data is: 0.9468676502031217\n",
      "Confusion Matrix for test data is:\n"
     ]
    },
    {
     "data": {
      "text/plain": [
       "Predicted  False  True  __all__\n",
       "Actual                         \n",
       "False       7733   252     7985\n",
       "True         245  1124     1369\n",
       "__all__     7978  1376     9354"
      ]
     },
     "metadata": {},
     "output_type": "display_data"
    },
    {
     "name": "stdout",
     "output_type": "stream",
     "text": [
      "\n",
      "\n",
      "\u001b[1mLogistic Regression\u001b[0m\n",
      "Accuracy of the model for training data is: 0.9009049773755656\n",
      "Confusion Matrix for training data is:\n"
     ]
    },
    {
     "data": {
      "text/plain": [
       "Predicted  False  True  __all__\n",
       "Actual                         \n",
       "False       5158   367     5525\n",
       "True         728  4797     5525\n",
       "__all__     5886  5164    11050"
      ]
     },
     "metadata": {},
     "output_type": "display_data"
    },
    {
     "name": "stdout",
     "output_type": "stream",
     "text": [
      "Accuracy of the model for test data is: 0.9193927731451785\n",
      "Confusion Matrix for test data is:\n"
     ]
    },
    {
     "data": {
      "text/plain": [
       "Predicted  False  True  __all__\n",
       "Actual                         \n",
       "False       7401   584     7985\n",
       "True         170  1199     1369\n",
       "__all__     7571  1783     9354"
      ]
     },
     "metadata": {},
     "output_type": "display_data"
    },
    {
     "name": "stdout",
     "output_type": "stream",
     "text": [
      "\n",
      "\n",
      "\u001b[1mRandomForest Classifier\u001b[0m\n",
      "Accuracy of the model for training data is: 0.9904072398190045\n",
      "Confusion Matrix for training data is:\n"
     ]
    },
    {
     "data": {
      "text/plain": [
       "Predicted  False  True  __all__\n",
       "Actual                         \n",
       "False       5522     3     5525\n",
       "True         103  5422     5525\n",
       "__all__     5625  5425    11050"
      ]
     },
     "metadata": {},
     "output_type": "display_data"
    },
    {
     "name": "stdout",
     "output_type": "stream",
     "text": [
      "Accuracy of the model for test data is: 0.9387427838357921\n",
      "Confusion Matrix for test data is:\n"
     ]
    },
    {
     "data": {
      "text/plain": [
       "Predicted  False  True  __all__\n",
       "Actual                         \n",
       "False       7589   396     7985\n",
       "True         177  1192     1369\n",
       "__all__     7766  1588     9354"
      ]
     },
     "metadata": {},
     "output_type": "display_data"
    },
    {
     "data": {
      "application/vnd.plotly.v1+json": {
       "config": {
        "linkText": "Export to plot.ly",
        "plotlyServerURL": "https://plot.ly",
        "showLink": true
       },
       "data": [
        {
         "marker": {
          "color": "rgb(158,202,225)",
          "line": {
           "color": "rgb(8,48,107)",
           "width": 1.5
          }
         },
         "opacity": 0.6,
         "orientation": "h",
         "text": [
          0.1805,
          0.1168,
          0.1007,
          0.0635,
          0.0534,
          0.048,
          0.0398,
          0.0379,
          0.0227,
          0.0219,
          0.0183,
          0.0183,
          0.0168,
          0.016,
          0.0158,
          0.0156,
          0.0149,
          0.0141,
          0.0121,
          0.0118,
          0.0116,
          0.0115,
          0.0113,
          0.0111,
          0.0102,
          0.0101,
          0.0099,
          0.0093,
          0.009,
          0.0086,
          0.0083,
          0.0071,
          0.0069,
          0.0067,
          0.0061,
          0.0056,
          0.005,
          0.0035,
          0.0034,
          0.0028,
          0.0027
         ],
         "textposition": "outside",
         "type": "bar",
         "uid": "ce53eef6-4278-4f85-8925-5367d5eb3936",
         "x": [
          0.18053512517056453,
          0.1168051943487336,
          0.10073000231242572,
          0.0635214630736833,
          0.053352483935478624,
          0.04798013638712427,
          0.039826439276202066,
          0.0378576542328771,
          0.022741901811560453,
          0.02191488768709416,
          0.018319097302877334,
          0.01826235909143795,
          0.016774125532976032,
          0.016039437660729527,
          0.01584097210036734,
          0.015553156789644723,
          0.014949835296607122,
          0.014092032488621013,
          0.012149396794766617,
          0.011829712271764256,
          0.011601583792919035,
          0.011459316524866441,
          0.011346020748661352,
          0.01111071161146352,
          0.01021484641070793,
          0.010138363786453787,
          0.0098718925483026,
          0.009345685940464265,
          0.009044441792056997,
          0.008609683600657145,
          0.008310349513463277,
          0.007108139156833499,
          0.006859504741605392,
          0.006747656283420484,
          0.006078683258949921,
          0.005595097199150046,
          0.00502114493880587,
          0.0035274999794214627,
          0.003370626678601148,
          0.00284879299388212,
          0.0027145449337779436
         ],
         "y": [
          "url_extensions",
          "url_length",
          "url_number_consonants",
          "url_tlds",
          "url_char_.",
          "url_char_w",
          "url_number_digits",
          "url_number_vowels",
          "url_extension_.com",
          "url_words_with_length_4",
          "url_char_z",
          "url_char_b",
          "url_char_e",
          "url_char_o",
          "url_char_i",
          "url_char_l",
          "url_char_c",
          "url_char_n",
          "url_char_a",
          "url_char_t",
          "url_char_f",
          "url_char_s",
          "url_char_m",
          "url_char_x",
          "url_words_with_length_5",
          "url_char_p",
          "url_char_r",
          "url_char_u",
          "url_char_d",
          "url_char_y",
          "url_words_with_length_6",
          "url_char_g",
          "url_char_h",
          "url_char_k",
          "url_char_v",
          "url_words_with_length_7",
          "url_char_-",
          "url_char_j",
          "url_extension_.i",
          "url_extension_.net",
          "url_words_with_length_8"
         ]
        }
       ],
       "layout": {
        "autosize": false,
        "height": 1000,
        "width": 1000,
        "xaxis": {
         "tickfont": {
          "color": "black",
          "size": 12
         },
         "title": "Feature Importances"
        },
        "yaxis": {
         "automargin": true
        }
       }
      },
      "text/html": [
       "<div id=\"7fe066b6-1c25-4658-9190-781768605399\" style=\"height: 1000px; width: 1000px;\" class=\"plotly-graph-div\"></div><script type=\"text/javascript\">require([\"plotly\"], function(Plotly) { window.PLOTLYENV=window.PLOTLYENV || {};window.PLOTLYENV.BASE_URL=\"https://plot.ly\";Plotly.newPlot(\"7fe066b6-1c25-4658-9190-781768605399\", [{\"marker\": {\"color\": \"rgb(158,202,225)\", \"line\": {\"color\": \"rgb(8,48,107)\", \"width\": 1.5}}, \"opacity\": 0.6, \"orientation\": \"h\", \"text\": [0.1805, 0.1168, 0.1007, 0.0635, 0.0534, 0.048, 0.0398, 0.0379, 0.0227, 0.0219, 0.0183, 0.0183, 0.0168, 0.016, 0.0158, 0.0156, 0.0149, 0.0141, 0.0121, 0.0118, 0.0116, 0.0115, 0.0113, 0.0111, 0.0102, 0.0101, 0.0099, 0.0093, 0.009, 0.0086, 0.0083, 0.0071, 0.0069, 0.0067, 0.0061, 0.0056, 0.005, 0.0035, 0.0034, 0.0028, 0.0027], \"textposition\": \"outside\", \"x\": [0.18053512517056453, 0.1168051943487336, 0.10073000231242572, 0.0635214630736833, 0.053352483935478624, 0.04798013638712427, 0.039826439276202066, 0.0378576542328771, 0.022741901811560453, 0.02191488768709416, 0.018319097302877334, 0.01826235909143795, 0.016774125532976032, 0.016039437660729527, 0.01584097210036734, 0.015553156789644723, 0.014949835296607122, 0.014092032488621013, 0.012149396794766617, 0.011829712271764256, 0.011601583792919035, 0.011459316524866441, 0.011346020748661352, 0.01111071161146352, 0.01021484641070793, 0.010138363786453787, 0.0098718925483026, 0.009345685940464265, 0.009044441792056997, 0.008609683600657145, 0.008310349513463277, 0.007108139156833499, 0.006859504741605392, 0.006747656283420484, 0.006078683258949921, 0.005595097199150046, 0.00502114493880587, 0.0035274999794214627, 0.003370626678601148, 0.00284879299388212, 0.0027145449337779436], \"y\": [\"url_extensions\", \"url_length\", \"url_number_consonants\", \"url_tlds\", \"url_char_.\", \"url_char_w\", \"url_number_digits\", \"url_number_vowels\", \"url_extension_.com\", \"url_words_with_length_4\", \"url_char_z\", \"url_char_b\", \"url_char_e\", \"url_char_o\", \"url_char_i\", \"url_char_l\", \"url_char_c\", \"url_char_n\", \"url_char_a\", \"url_char_t\", \"url_char_f\", \"url_char_s\", \"url_char_m\", \"url_char_x\", \"url_words_with_length_5\", \"url_char_p\", \"url_char_r\", \"url_char_u\", \"url_char_d\", \"url_char_y\", \"url_words_with_length_6\", \"url_char_g\", \"url_char_h\", \"url_char_k\", \"url_char_v\", \"url_words_with_length_7\", \"url_char_-\", \"url_char_j\", \"url_extension_.i\", \"url_extension_.net\", \"url_words_with_length_8\"], \"type\": \"bar\", \"uid\": \"ce53eef6-4278-4f85-8925-5367d5eb3936\"}], {\"autosize\": false, \"height\": 1000, \"width\": 1000, \"xaxis\": {\"tickfont\": {\"color\": \"black\", \"size\": 12}, \"title\": \"Feature Importances\"}, \"yaxis\": {\"automargin\": true}}, {\"showLink\": true, \"linkText\": \"Export to plot.ly\", \"plotlyServerURL\": \"https://plot.ly\"})});</script>"
      ],
      "text/vnd.plotly.v1+html": [
       "<div id=\"7fe066b6-1c25-4658-9190-781768605399\" style=\"height: 1000px; width: 1000px;\" class=\"plotly-graph-div\"></div><script type=\"text/javascript\">require([\"plotly\"], function(Plotly) { window.PLOTLYENV=window.PLOTLYENV || {};window.PLOTLYENV.BASE_URL=\"https://plot.ly\";Plotly.newPlot(\"7fe066b6-1c25-4658-9190-781768605399\", [{\"marker\": {\"color\": \"rgb(158,202,225)\", \"line\": {\"color\": \"rgb(8,48,107)\", \"width\": 1.5}}, \"opacity\": 0.6, \"orientation\": \"h\", \"text\": [0.1805, 0.1168, 0.1007, 0.0635, 0.0534, 0.048, 0.0398, 0.0379, 0.0227, 0.0219, 0.0183, 0.0183, 0.0168, 0.016, 0.0158, 0.0156, 0.0149, 0.0141, 0.0121, 0.0118, 0.0116, 0.0115, 0.0113, 0.0111, 0.0102, 0.0101, 0.0099, 0.0093, 0.009, 0.0086, 0.0083, 0.0071, 0.0069, 0.0067, 0.0061, 0.0056, 0.005, 0.0035, 0.0034, 0.0028, 0.0027], \"textposition\": \"outside\", \"x\": [0.18053512517056453, 0.1168051943487336, 0.10073000231242572, 0.0635214630736833, 0.053352483935478624, 0.04798013638712427, 0.039826439276202066, 0.0378576542328771, 0.022741901811560453, 0.02191488768709416, 0.018319097302877334, 0.01826235909143795, 0.016774125532976032, 0.016039437660729527, 0.01584097210036734, 0.015553156789644723, 0.014949835296607122, 0.014092032488621013, 0.012149396794766617, 0.011829712271764256, 0.011601583792919035, 0.011459316524866441, 0.011346020748661352, 0.01111071161146352, 0.01021484641070793, 0.010138363786453787, 0.0098718925483026, 0.009345685940464265, 0.009044441792056997, 0.008609683600657145, 0.008310349513463277, 0.007108139156833499, 0.006859504741605392, 0.006747656283420484, 0.006078683258949921, 0.005595097199150046, 0.00502114493880587, 0.0035274999794214627, 0.003370626678601148, 0.00284879299388212, 0.0027145449337779436], \"y\": [\"url_extensions\", \"url_length\", \"url_number_consonants\", \"url_tlds\", \"url_char_.\", \"url_char_w\", \"url_number_digits\", \"url_number_vowels\", \"url_extension_.com\", \"url_words_with_length_4\", \"url_char_z\", \"url_char_b\", \"url_char_e\", \"url_char_o\", \"url_char_i\", \"url_char_l\", \"url_char_c\", \"url_char_n\", \"url_char_a\", \"url_char_t\", \"url_char_f\", \"url_char_s\", \"url_char_m\", \"url_char_x\", \"url_words_with_length_5\", \"url_char_p\", \"url_char_r\", \"url_char_u\", \"url_char_d\", \"url_char_y\", \"url_words_with_length_6\", \"url_char_g\", \"url_char_h\", \"url_char_k\", \"url_char_v\", \"url_words_with_length_7\", \"url_char_-\", \"url_char_j\", \"url_extension_.i\", \"url_extension_.net\", \"url_words_with_length_8\"], \"type\": \"bar\", \"uid\": \"ce53eef6-4278-4f85-8925-5367d5eb3936\"}], {\"autosize\": false, \"height\": 1000, \"width\": 1000, \"xaxis\": {\"tickfont\": {\"color\": \"black\", \"size\": 12}, \"title\": \"Feature Importances\"}, \"yaxis\": {\"automargin\": true}}, {\"showLink\": true, \"linkText\": \"Export to plot.ly\", \"plotlyServerURL\": \"https://plot.ly\"})});</script>"
      ]
     },
     "metadata": {},
     "output_type": "display_data"
    },
    {
     "name": "stdout",
     "output_type": "stream",
     "text": [
      "\n",
      "\n",
      "\u001b[1mAdaoost Classifier\u001b[0m\n",
      "Accuracy of the model for training data is: 0.8970135746606335\n",
      "Confusion Matrix for training data is:\n"
     ]
    },
    {
     "data": {
      "text/plain": [
       "Predicted  False  True  __all__\n",
       "Actual                         \n",
       "False       5087   438     5525\n",
       "True         700  4825     5525\n",
       "__all__     5787  5263    11050"
      ]
     },
     "metadata": {},
     "output_type": "display_data"
    },
    {
     "name": "stdout",
     "output_type": "stream",
     "text": [
      "Accuracy of the model for test data is: 0.9032499465469318\n",
      "Confusion Matrix for test data is:\n"
     ]
    },
    {
     "data": {
      "text/plain": [
       "Predicted  False  True  __all__\n",
       "Actual                         \n",
       "False       7248   737     7985\n",
       "True         168  1201     1369\n",
       "__all__     7416  1938     9354"
      ]
     },
     "metadata": {},
     "output_type": "display_data"
    },
    {
     "data": {
      "application/vnd.plotly.v1+json": {
       "config": {
        "linkText": "Export to plot.ly",
        "plotlyServerURL": "https://plot.ly",
        "showLink": true
       },
       "data": [
        {
         "marker": {
          "color": "rgb(158,202,225)",
          "line": {
           "color": "rgb(8,48,107)",
           "width": 1.5
          }
         },
         "opacity": 0.6,
         "orientation": "h",
         "text": [
          0.22,
          0.08,
          0.08,
          0.06,
          0.06,
          0.04,
          0.04,
          0.04,
          0.04,
          0.02,
          0.02,
          0.02,
          0.02,
          0.02,
          0.02,
          0.02,
          0.02,
          0.02,
          0.02,
          0.02,
          0.02,
          0.02,
          0.02,
          0.02,
          0.02,
          0.02,
          0,
          0,
          0,
          0,
          0,
          0,
          0,
          0,
          0,
          0,
          0,
          0,
          0,
          0,
          0
         ],
         "textposition": "outside",
         "type": "bar",
         "uid": "3294b0ae-ed4c-4489-a30c-5d87274f9f0b",
         "x": [
          0.22,
          0.08,
          0.08,
          0.06,
          0.06,
          0.04,
          0.04,
          0.04,
          0.04,
          0.02,
          0.02,
          0.02,
          0.02,
          0.02,
          0.02,
          0.02,
          0.02,
          0.02,
          0.02,
          0.02,
          0.02,
          0.02,
          0.02,
          0.02,
          0.02,
          0.02,
          0,
          0,
          0,
          0,
          0,
          0,
          0,
          0,
          0,
          0,
          0,
          0,
          0,
          0,
          0
         ],
         "y": [
          "url_length",
          "url_extensions",
          "url_char_w",
          "url_words_with_length_4",
          "url_tlds",
          "url_number_digits",
          "url_number_consonants",
          "url_char_z",
          "url_char_.",
          "url_char_r",
          "url_number_vowels",
          "url_extension_.net",
          "url_extension_.i",
          "url_extension_.com",
          "url_char_y",
          "url_char_x",
          "url_char_t",
          "url_char_g",
          "url_char_n",
          "url_char_b",
          "url_char_m",
          "url_char_l",
          "url_char_i",
          "url_char_h",
          "url_char_o",
          "url_char_f",
          "url_char_c",
          "url_char_a",
          "url_words_with_length_8",
          "url_words_with_length_7",
          "url_words_with_length_6",
          "url_words_with_length_5",
          "url_char_p",
          "url_char_d",
          "url_char_e",
          "url_char_j",
          "url_char_k",
          "url_char_v",
          "url_char_u",
          "url_char_s",
          "url_char_-"
         ]
        }
       ],
       "layout": {
        "autosize": false,
        "height": 1000,
        "width": 1000,
        "xaxis": {
         "tickfont": {
          "color": "black",
          "size": 12
         },
         "title": "Feature Importances"
        },
        "yaxis": {
         "automargin": true
        }
       }
      },
      "text/html": [
       "<div id=\"ea5ecf53-6714-4709-ab9b-5b88f7acba37\" style=\"height: 1000px; width: 1000px;\" class=\"plotly-graph-div\"></div><script type=\"text/javascript\">require([\"plotly\"], function(Plotly) { window.PLOTLYENV=window.PLOTLYENV || {};window.PLOTLYENV.BASE_URL=\"https://plot.ly\";Plotly.newPlot(\"ea5ecf53-6714-4709-ab9b-5b88f7acba37\", [{\"marker\": {\"color\": \"rgb(158,202,225)\", \"line\": {\"color\": \"rgb(8,48,107)\", \"width\": 1.5}}, \"opacity\": 0.6, \"orientation\": \"h\", \"text\": [0.22, 0.08, 0.08, 0.06, 0.06, 0.04, 0.04, 0.04, 0.04, 0.02, 0.02, 0.02, 0.02, 0.02, 0.02, 0.02, 0.02, 0.02, 0.02, 0.02, 0.02, 0.02, 0.02, 0.02, 0.02, 0.02, 0.0, 0.0, 0.0, 0.0, 0.0, 0.0, 0.0, 0.0, 0.0, 0.0, 0.0, 0.0, 0.0, 0.0, 0.0], \"textposition\": \"outside\", \"x\": [0.22, 0.08, 0.08, 0.06, 0.06, 0.04, 0.04, 0.04, 0.04, 0.02, 0.02, 0.02, 0.02, 0.02, 0.02, 0.02, 0.02, 0.02, 0.02, 0.02, 0.02, 0.02, 0.02, 0.02, 0.02, 0.02, 0.0, 0.0, 0.0, 0.0, 0.0, 0.0, 0.0, 0.0, 0.0, 0.0, 0.0, 0.0, 0.0, 0.0, 0.0], \"y\": [\"url_length\", \"url_extensions\", \"url_char_w\", \"url_words_with_length_4\", \"url_tlds\", \"url_number_digits\", \"url_number_consonants\", \"url_char_z\", \"url_char_.\", \"url_char_r\", \"url_number_vowels\", \"url_extension_.net\", \"url_extension_.i\", \"url_extension_.com\", \"url_char_y\", \"url_char_x\", \"url_char_t\", \"url_char_g\", \"url_char_n\", \"url_char_b\", \"url_char_m\", \"url_char_l\", \"url_char_i\", \"url_char_h\", \"url_char_o\", \"url_char_f\", \"url_char_c\", \"url_char_a\", \"url_words_with_length_8\", \"url_words_with_length_7\", \"url_words_with_length_6\", \"url_words_with_length_5\", \"url_char_p\", \"url_char_d\", \"url_char_e\", \"url_char_j\", \"url_char_k\", \"url_char_v\", \"url_char_u\", \"url_char_s\", \"url_char_-\"], \"type\": \"bar\", \"uid\": \"3294b0ae-ed4c-4489-a30c-5d87274f9f0b\"}], {\"autosize\": false, \"height\": 1000, \"width\": 1000, \"xaxis\": {\"tickfont\": {\"color\": \"black\", \"size\": 12}, \"title\": \"Feature Importances\"}, \"yaxis\": {\"automargin\": true}}, {\"showLink\": true, \"linkText\": \"Export to plot.ly\", \"plotlyServerURL\": \"https://plot.ly\"})});</script>"
      ],
      "text/vnd.plotly.v1+html": [
       "<div id=\"ea5ecf53-6714-4709-ab9b-5b88f7acba37\" style=\"height: 1000px; width: 1000px;\" class=\"plotly-graph-div\"></div><script type=\"text/javascript\">require([\"plotly\"], function(Plotly) { window.PLOTLYENV=window.PLOTLYENV || {};window.PLOTLYENV.BASE_URL=\"https://plot.ly\";Plotly.newPlot(\"ea5ecf53-6714-4709-ab9b-5b88f7acba37\", [{\"marker\": {\"color\": \"rgb(158,202,225)\", \"line\": {\"color\": \"rgb(8,48,107)\", \"width\": 1.5}}, \"opacity\": 0.6, \"orientation\": \"h\", \"text\": [0.22, 0.08, 0.08, 0.06, 0.06, 0.04, 0.04, 0.04, 0.04, 0.02, 0.02, 0.02, 0.02, 0.02, 0.02, 0.02, 0.02, 0.02, 0.02, 0.02, 0.02, 0.02, 0.02, 0.02, 0.02, 0.02, 0.0, 0.0, 0.0, 0.0, 0.0, 0.0, 0.0, 0.0, 0.0, 0.0, 0.0, 0.0, 0.0, 0.0, 0.0], \"textposition\": \"outside\", \"x\": [0.22, 0.08, 0.08, 0.06, 0.06, 0.04, 0.04, 0.04, 0.04, 0.02, 0.02, 0.02, 0.02, 0.02, 0.02, 0.02, 0.02, 0.02, 0.02, 0.02, 0.02, 0.02, 0.02, 0.02, 0.02, 0.02, 0.0, 0.0, 0.0, 0.0, 0.0, 0.0, 0.0, 0.0, 0.0, 0.0, 0.0, 0.0, 0.0, 0.0, 0.0], \"y\": [\"url_length\", \"url_extensions\", \"url_char_w\", \"url_words_with_length_4\", \"url_tlds\", \"url_number_digits\", \"url_number_consonants\", \"url_char_z\", \"url_char_.\", \"url_char_r\", \"url_number_vowels\", \"url_extension_.net\", \"url_extension_.i\", \"url_extension_.com\", \"url_char_y\", \"url_char_x\", \"url_char_t\", \"url_char_g\", \"url_char_n\", \"url_char_b\", \"url_char_m\", \"url_char_l\", \"url_char_i\", \"url_char_h\", \"url_char_o\", \"url_char_f\", \"url_char_c\", \"url_char_a\", \"url_words_with_length_8\", \"url_words_with_length_7\", \"url_words_with_length_6\", \"url_words_with_length_5\", \"url_char_p\", \"url_char_d\", \"url_char_e\", \"url_char_j\", \"url_char_k\", \"url_char_v\", \"url_char_u\", \"url_char_s\", \"url_char_-\"], \"type\": \"bar\", \"uid\": \"3294b0ae-ed4c-4489-a30c-5d87274f9f0b\"}], {\"autosize\": false, \"height\": 1000, \"width\": 1000, \"xaxis\": {\"tickfont\": {\"color\": \"black\", \"size\": 12}, \"title\": \"Feature Importances\"}, \"yaxis\": {\"automargin\": true}}, {\"showLink\": true, \"linkText\": \"Export to plot.ly\", \"plotlyServerURL\": \"https://plot.ly\"})});</script>"
      ]
     },
     "metadata": {},
     "output_type": "display_data"
    },
    {
     "name": "stdout",
     "output_type": "stream",
     "text": [
      "\n",
      "\n",
      "\u001b[1mGradientBoosting Classifier\u001b[0m\n",
      "Accuracy of the model for training data is: 0.9095927601809954\n",
      "Confusion Matrix for training data is:\n"
     ]
    },
    {
     "data": {
      "text/plain": [
       "Predicted  False  True  __all__\n",
       "Actual                         \n",
       "False       5243   282     5525\n",
       "True         717  4808     5525\n",
       "__all__     5960  5090    11050"
      ]
     },
     "metadata": {},
     "output_type": "display_data"
    },
    {
     "name": "stdout",
     "output_type": "stream",
     "text": [
      "Accuracy of the model for test data is: 0.9315800726961727\n",
      "Confusion Matrix for test data is:\n"
     ]
    },
    {
     "data": {
      "text/plain": [
       "Predicted  False  True  __all__\n",
       "Actual                         \n",
       "False       7518   467     7985\n",
       "True         173  1196     1369\n",
       "__all__     7691  1663     9354"
      ]
     },
     "metadata": {},
     "output_type": "display_data"
    },
    {
     "data": {
      "application/vnd.plotly.v1+json": {
       "config": {
        "linkText": "Export to plot.ly",
        "plotlyServerURL": "https://plot.ly",
        "showLink": true
       },
       "data": [
        {
         "marker": {
          "color": "rgb(158,202,225)",
          "line": {
           "color": "rgb(8,48,107)",
           "width": 1.5
          }
         },
         "opacity": 0.6,
         "orientation": "h",
         "text": [
          0.438,
          0.2934,
          0.0819,
          0.0407,
          0.037,
          0.0275,
          0.0158,
          0.0146,
          0.0095,
          0.0065,
          0.0063,
          0.0048,
          0.0028,
          0.0022,
          0.0018,
          0.0018,
          0.0016,
          0.0013,
          0.0011,
          0.0011,
          0.001,
          0.001,
          0.001,
          0.001,
          0.0008,
          0.0007,
          0.0007,
          0.0006,
          0.0005,
          0.0005,
          0.0004,
          0.0004,
          0.0003,
          0.0003,
          0.0003,
          0.0002,
          0.0002,
          0.0002,
          0.0001,
          0.0001,
          0.0001
         ],
         "textposition": "outside",
         "type": "bar",
         "uid": "d919682c-8526-49f5-a034-ac6fab2ea4e3",
         "x": [
          0.43799768118208576,
          0.29340605704039635,
          0.08187448946236195,
          0.040667577108202346,
          0.03702284411687302,
          0.02753352122284552,
          0.015753067891777394,
          0.014555099116996567,
          0.009465681198187295,
          0.006467038719992062,
          0.006288234028423327,
          0.004765435697041461,
          0.00281141879960774,
          0.0021849876513954894,
          0.0018100277844800916,
          0.0017928745076800352,
          0.0016370081552486886,
          0.0012517896879417423,
          0.0011209088395679823,
          0.0010868691575627695,
          0.001020346719965977,
          0.0010044834796235254,
          0.0009931316372120012,
          0.0009912007278789746,
          0.0007964808786909185,
          0.0007453002841652039,
          0.000703803218261721,
          0.0005883841777468335,
          0.0005341947877688307,
          0.0004954018537469728,
          0.00042990904305972134,
          0.0003502834781549808,
          0.00031851829265792996,
          0.00031800185759178014,
          0.00027849418997270424,
          0.00021226722505576488,
          0.00018781945479208082,
          0.0001659865394332917,
          0.00014534837150773796,
          0.0001362022238384189,
          9.183019020701928e-05
         ],
         "y": [
          "url_length",
          "url_extensions",
          "url_char_.",
          "url_char_z",
          "url_number_digits",
          "url_char_w",
          "url_char_b",
          "url_extension_.com",
          "url_words_with_length_4",
          "url_tlds",
          "url_number_consonants",
          "url_char_o",
          "url_char_i",
          "url_extension_.i",
          "url_char_-",
          "url_char_m",
          "url_char_y",
          "url_number_vowels",
          "url_char_r",
          "url_char_e",
          "url_words_with_length_6",
          "url_char_x",
          "url_char_c",
          "url_char_f",
          "url_char_l",
          "url_extension_.net",
          "url_char_d",
          "url_char_p",
          "url_char_n",
          "url_char_u",
          "url_char_g",
          "url_char_k",
          "url_words_with_length_5",
          "url_char_t",
          "url_char_v",
          "url_char_s",
          "url_char_h",
          "url_char_a",
          "url_words_with_length_8",
          "url_words_with_length_7",
          "url_char_j"
         ]
        }
       ],
       "layout": {
        "autosize": false,
        "height": 1000,
        "width": 1000,
        "xaxis": {
         "tickfont": {
          "color": "black",
          "size": 12
         },
         "title": "Feature Importances"
        },
        "yaxis": {
         "automargin": true
        }
       }
      },
      "text/html": [
       "<div id=\"c9a24794-29c8-4463-a506-e9df1313e238\" style=\"height: 1000px; width: 1000px;\" class=\"plotly-graph-div\"></div><script type=\"text/javascript\">require([\"plotly\"], function(Plotly) { window.PLOTLYENV=window.PLOTLYENV || {};window.PLOTLYENV.BASE_URL=\"https://plot.ly\";Plotly.newPlot(\"c9a24794-29c8-4463-a506-e9df1313e238\", [{\"marker\": {\"color\": \"rgb(158,202,225)\", \"line\": {\"color\": \"rgb(8,48,107)\", \"width\": 1.5}}, \"opacity\": 0.6, \"orientation\": \"h\", \"text\": [0.438, 0.2934, 0.0819, 0.0407, 0.037, 0.0275, 0.0158, 0.0146, 0.0095, 0.0065, 0.0063, 0.0048, 0.0028, 0.0022, 0.0018, 0.0018, 0.0016, 0.0013, 0.0011, 0.0011, 0.001, 0.001, 0.001, 0.001, 0.0008, 0.0007, 0.0007, 0.0006, 0.0005, 0.0005, 0.0004, 0.0004, 0.0003, 0.0003, 0.0003, 0.0002, 0.0002, 0.0002, 0.0001, 0.0001, 0.0001], \"textposition\": \"outside\", \"x\": [0.43799768118208576, 0.29340605704039635, 0.08187448946236195, 0.040667577108202346, 0.03702284411687302, 0.02753352122284552, 0.015753067891777394, 0.014555099116996567, 0.009465681198187295, 0.006467038719992062, 0.006288234028423327, 0.004765435697041461, 0.00281141879960774, 0.0021849876513954894, 0.0018100277844800916, 0.0017928745076800352, 0.0016370081552486886, 0.0012517896879417423, 0.0011209088395679823, 0.0010868691575627695, 0.001020346719965977, 0.0010044834796235254, 0.0009931316372120012, 0.0009912007278789746, 0.0007964808786909185, 0.0007453002841652039, 0.000703803218261721, 0.0005883841777468335, 0.0005341947877688307, 0.0004954018537469728, 0.00042990904305972134, 0.0003502834781549808, 0.00031851829265792996, 0.00031800185759178014, 0.00027849418997270424, 0.00021226722505576488, 0.00018781945479208082, 0.0001659865394332917, 0.00014534837150773796, 0.0001362022238384189, 9.183019020701928e-05], \"y\": [\"url_length\", \"url_extensions\", \"url_char_.\", \"url_char_z\", \"url_number_digits\", \"url_char_w\", \"url_char_b\", \"url_extension_.com\", \"url_words_with_length_4\", \"url_tlds\", \"url_number_consonants\", \"url_char_o\", \"url_char_i\", \"url_extension_.i\", \"url_char_-\", \"url_char_m\", \"url_char_y\", \"url_number_vowels\", \"url_char_r\", \"url_char_e\", \"url_words_with_length_6\", \"url_char_x\", \"url_char_c\", \"url_char_f\", \"url_char_l\", \"url_extension_.net\", \"url_char_d\", \"url_char_p\", \"url_char_n\", \"url_char_u\", \"url_char_g\", \"url_char_k\", \"url_words_with_length_5\", \"url_char_t\", \"url_char_v\", \"url_char_s\", \"url_char_h\", \"url_char_a\", \"url_words_with_length_8\", \"url_words_with_length_7\", \"url_char_j\"], \"type\": \"bar\", \"uid\": \"d919682c-8526-49f5-a034-ac6fab2ea4e3\"}], {\"autosize\": false, \"height\": 1000, \"width\": 1000, \"xaxis\": {\"tickfont\": {\"color\": \"black\", \"size\": 12}, \"title\": \"Feature Importances\"}, \"yaxis\": {\"automargin\": true}}, {\"showLink\": true, \"linkText\": \"Export to plot.ly\", \"plotlyServerURL\": \"https://plot.ly\"})});</script>"
      ],
      "text/vnd.plotly.v1+html": [
       "<div id=\"c9a24794-29c8-4463-a506-e9df1313e238\" style=\"height: 1000px; width: 1000px;\" class=\"plotly-graph-div\"></div><script type=\"text/javascript\">require([\"plotly\"], function(Plotly) { window.PLOTLYENV=window.PLOTLYENV || {};window.PLOTLYENV.BASE_URL=\"https://plot.ly\";Plotly.newPlot(\"c9a24794-29c8-4463-a506-e9df1313e238\", [{\"marker\": {\"color\": \"rgb(158,202,225)\", \"line\": {\"color\": \"rgb(8,48,107)\", \"width\": 1.5}}, \"opacity\": 0.6, \"orientation\": \"h\", \"text\": [0.438, 0.2934, 0.0819, 0.0407, 0.037, 0.0275, 0.0158, 0.0146, 0.0095, 0.0065, 0.0063, 0.0048, 0.0028, 0.0022, 0.0018, 0.0018, 0.0016, 0.0013, 0.0011, 0.0011, 0.001, 0.001, 0.001, 0.001, 0.0008, 0.0007, 0.0007, 0.0006, 0.0005, 0.0005, 0.0004, 0.0004, 0.0003, 0.0003, 0.0003, 0.0002, 0.0002, 0.0002, 0.0001, 0.0001, 0.0001], \"textposition\": \"outside\", \"x\": [0.43799768118208576, 0.29340605704039635, 0.08187448946236195, 0.040667577108202346, 0.03702284411687302, 0.02753352122284552, 0.015753067891777394, 0.014555099116996567, 0.009465681198187295, 0.006467038719992062, 0.006288234028423327, 0.004765435697041461, 0.00281141879960774, 0.0021849876513954894, 0.0018100277844800916, 0.0017928745076800352, 0.0016370081552486886, 0.0012517896879417423, 0.0011209088395679823, 0.0010868691575627695, 0.001020346719965977, 0.0010044834796235254, 0.0009931316372120012, 0.0009912007278789746, 0.0007964808786909185, 0.0007453002841652039, 0.000703803218261721, 0.0005883841777468335, 0.0005341947877688307, 0.0004954018537469728, 0.00042990904305972134, 0.0003502834781549808, 0.00031851829265792996, 0.00031800185759178014, 0.00027849418997270424, 0.00021226722505576488, 0.00018781945479208082, 0.0001659865394332917, 0.00014534837150773796, 0.0001362022238384189, 9.183019020701928e-05], \"y\": [\"url_length\", \"url_extensions\", \"url_char_.\", \"url_char_z\", \"url_number_digits\", \"url_char_w\", \"url_char_b\", \"url_extension_.com\", \"url_words_with_length_4\", \"url_tlds\", \"url_number_consonants\", \"url_char_o\", \"url_char_i\", \"url_extension_.i\", \"url_char_-\", \"url_char_m\", \"url_char_y\", \"url_number_vowels\", \"url_char_r\", \"url_char_e\", \"url_words_with_length_6\", \"url_char_x\", \"url_char_c\", \"url_char_f\", \"url_char_l\", \"url_extension_.net\", \"url_char_d\", \"url_char_p\", \"url_char_n\", \"url_char_u\", \"url_char_g\", \"url_char_k\", \"url_words_with_length_5\", \"url_char_t\", \"url_char_v\", \"url_char_s\", \"url_char_h\", \"url_char_a\", \"url_words_with_length_8\", \"url_words_with_length_7\", \"url_char_j\"], \"type\": \"bar\", \"uid\": \"d919682c-8526-49f5-a034-ac6fab2ea4e3\"}], {\"autosize\": false, \"height\": 1000, \"width\": 1000, \"xaxis\": {\"tickfont\": {\"color\": \"black\", \"size\": 12}, \"title\": \"Feature Importances\"}, \"yaxis\": {\"automargin\": true}}, {\"showLink\": true, \"linkText\": \"Export to plot.ly\", \"plotlyServerURL\": \"https://plot.ly\"})});</script>"
      ]
     },
     "metadata": {},
     "output_type": "display_data"
    },
    {
     "name": "stdout",
     "output_type": "stream",
     "text": [
      "\n",
      "\n",
      "\u001b[1mExtraTree Classifier\u001b[0m\n",
      "Accuracy of the model for training data is: 0.9999095022624435\n",
      "Confusion Matrix for training data is:\n"
     ]
    },
    {
     "data": {
      "text/plain": [
       "Predicted  False  True  __all__\n",
       "Actual                         \n",
       "False       5525     0     5525\n",
       "True           1  5524     5525\n",
       "__all__     5526  5524    11050"
      ]
     },
     "metadata": {},
     "output_type": "display_data"
    },
    {
     "name": "stdout",
     "output_type": "stream",
     "text": [
      "Accuracy of the model for test data is: 0.9392773145178533\n",
      "Confusion Matrix for test data is:\n"
     ]
    },
    {
     "data": {
      "text/plain": [
       "Predicted  False  True  __all__\n",
       "Actual                         \n",
       "False       7585   400     7985\n",
       "True         168  1201     1369\n",
       "__all__     7753  1601     9354"
      ]
     },
     "metadata": {},
     "output_type": "display_data"
    },
    {
     "data": {
      "application/vnd.plotly.v1+json": {
       "config": {
        "linkText": "Export to plot.ly",
        "plotlyServerURL": "https://plot.ly",
        "showLink": true
       },
       "data": [
        {
         "marker": {
          "color": "rgb(158,202,225)",
          "line": {
           "color": "rgb(8,48,107)",
           "width": 1.5
          }
         },
         "opacity": 0.6,
         "orientation": "h",
         "text": [
          0.1433,
          0.109,
          0.0675,
          0.0467,
          0.046,
          0.0433,
          0.0408,
          0.0358,
          0.0293,
          0.029,
          0.0265,
          0.0264,
          0.0254,
          0.0235,
          0.016,
          0.0154,
          0.0148,
          0.0147,
          0.0141,
          0.0141,
          0.0139,
          0.0137,
          0.0133,
          0.013,
          0.0129,
          0.0129,
          0.0127,
          0.0125,
          0.012,
          0.0118,
          0.0113,
          0.011,
          0.0101,
          0.0093,
          0.009,
          0.0076,
          0.0069,
          0.0068,
          0.0065,
          0.0061,
          0.005
         ],
         "textposition": "outside",
         "type": "bar",
         "uid": "56ce0294-9e13-4c71-859f-f52d0cf3952d",
         "x": [
          0.14331802690540613,
          0.1089616229763527,
          0.0674716509850723,
          0.046651523231112886,
          0.04600089858349309,
          0.04326748737375946,
          0.040841548509807556,
          0.035845098442036843,
          0.029336281620744836,
          0.028989909444861784,
          0.02646860587843678,
          0.026382651863209993,
          0.025418000896965703,
          0.023467522175459967,
          0.016021976052788,
          0.015442150320910597,
          0.01479435649791111,
          0.014736622016648937,
          0.014138559932982426,
          0.01406785206774056,
          0.01386939848421927,
          0.0136741690338053,
          0.013346006261582884,
          0.01303561718695167,
          0.012933504312409586,
          0.012904943736664534,
          0.012675629140385142,
          0.012487080721903951,
          0.012020700841353572,
          0.011795295102989285,
          0.011294960430141155,
          0.010984636770277233,
          0.010107573701940157,
          0.009329872479696046,
          0.009014239789500104,
          0.007572887783451367,
          0.0068563686128798335,
          0.00683237300936468,
          0.006545719494132597,
          0.006112549750489111,
          0.004984127580160863
         ],
         "y": [
          "url_char_.",
          "url_extensions",
          "url_length",
          "url_number_digits",
          "url_char_w",
          "url_number_consonants",
          "url_number_vowels",
          "url_char_i",
          "url_tlds",
          "url_char_z",
          "url_char_e",
          "url_extension_.com",
          "url_words_with_length_4",
          "url_char_b",
          "url_char_u",
          "url_char_n",
          "url_char_y",
          "url_char_l",
          "url_char_o",
          "url_char_a",
          "url_char_c",
          "url_char_m",
          "url_char_p",
          "url_char_r",
          "url_words_with_length_5",
          "url_char_s",
          "url_words_with_length_6",
          "url_char_h",
          "url_char_t",
          "url_char_d",
          "url_char_f",
          "url_char_x",
          "url_char_k",
          "url_words_with_length_8",
          "url_char_g",
          "url_words_with_length_7",
          "url_char_v",
          "url_char_-",
          "url_char_j",
          "url_extension_.i",
          "url_extension_.net"
         ]
        }
       ],
       "layout": {
        "autosize": false,
        "height": 1000,
        "width": 1000,
        "xaxis": {
         "tickfont": {
          "color": "black",
          "size": 12
         },
         "title": "Feature Importances"
        },
        "yaxis": {
         "automargin": true
        }
       }
      },
      "text/html": [
       "<div id=\"b467b0d3-8d2d-429d-8a43-29da7bf42b0b\" style=\"height: 1000px; width: 1000px;\" class=\"plotly-graph-div\"></div><script type=\"text/javascript\">require([\"plotly\"], function(Plotly) { window.PLOTLYENV=window.PLOTLYENV || {};window.PLOTLYENV.BASE_URL=\"https://plot.ly\";Plotly.newPlot(\"b467b0d3-8d2d-429d-8a43-29da7bf42b0b\", [{\"marker\": {\"color\": \"rgb(158,202,225)\", \"line\": {\"color\": \"rgb(8,48,107)\", \"width\": 1.5}}, \"opacity\": 0.6, \"orientation\": \"h\", \"text\": [0.1433, 0.109, 0.0675, 0.0467, 0.046, 0.0433, 0.0408, 0.0358, 0.0293, 0.029, 0.0265, 0.0264, 0.0254, 0.0235, 0.016, 0.0154, 0.0148, 0.0147, 0.0141, 0.0141, 0.0139, 0.0137, 0.0133, 0.013, 0.0129, 0.0129, 0.0127, 0.0125, 0.012, 0.0118, 0.0113, 0.011, 0.0101, 0.0093, 0.009, 0.0076, 0.0069, 0.0068, 0.0065, 0.0061, 0.005], \"textposition\": \"outside\", \"x\": [0.14331802690540613, 0.1089616229763527, 0.0674716509850723, 0.046651523231112886, 0.04600089858349309, 0.04326748737375946, 0.040841548509807556, 0.035845098442036843, 0.029336281620744836, 0.028989909444861784, 0.02646860587843678, 0.026382651863209993, 0.025418000896965703, 0.023467522175459967, 0.016021976052788, 0.015442150320910597, 0.01479435649791111, 0.014736622016648937, 0.014138559932982426, 0.01406785206774056, 0.01386939848421927, 0.0136741690338053, 0.013346006261582884, 0.01303561718695167, 0.012933504312409586, 0.012904943736664534, 0.012675629140385142, 0.012487080721903951, 0.012020700841353572, 0.011795295102989285, 0.011294960430141155, 0.010984636770277233, 0.010107573701940157, 0.009329872479696046, 0.009014239789500104, 0.007572887783451367, 0.0068563686128798335, 0.00683237300936468, 0.006545719494132597, 0.006112549750489111, 0.004984127580160863], \"y\": [\"url_char_.\", \"url_extensions\", \"url_length\", \"url_number_digits\", \"url_char_w\", \"url_number_consonants\", \"url_number_vowels\", \"url_char_i\", \"url_tlds\", \"url_char_z\", \"url_char_e\", \"url_extension_.com\", \"url_words_with_length_4\", \"url_char_b\", \"url_char_u\", \"url_char_n\", \"url_char_y\", \"url_char_l\", \"url_char_o\", \"url_char_a\", \"url_char_c\", \"url_char_m\", \"url_char_p\", \"url_char_r\", \"url_words_with_length_5\", \"url_char_s\", \"url_words_with_length_6\", \"url_char_h\", \"url_char_t\", \"url_char_d\", \"url_char_f\", \"url_char_x\", \"url_char_k\", \"url_words_with_length_8\", \"url_char_g\", \"url_words_with_length_7\", \"url_char_v\", \"url_char_-\", \"url_char_j\", \"url_extension_.i\", \"url_extension_.net\"], \"type\": \"bar\", \"uid\": \"56ce0294-9e13-4c71-859f-f52d0cf3952d\"}], {\"autosize\": false, \"height\": 1000, \"width\": 1000, \"xaxis\": {\"tickfont\": {\"color\": \"black\", \"size\": 12}, \"title\": \"Feature Importances\"}, \"yaxis\": {\"automargin\": true}}, {\"showLink\": true, \"linkText\": \"Export to plot.ly\", \"plotlyServerURL\": \"https://plot.ly\"})});</script>"
      ],
      "text/vnd.plotly.v1+html": [
       "<div id=\"b467b0d3-8d2d-429d-8a43-29da7bf42b0b\" style=\"height: 1000px; width: 1000px;\" class=\"plotly-graph-div\"></div><script type=\"text/javascript\">require([\"plotly\"], function(Plotly) { window.PLOTLYENV=window.PLOTLYENV || {};window.PLOTLYENV.BASE_URL=\"https://plot.ly\";Plotly.newPlot(\"b467b0d3-8d2d-429d-8a43-29da7bf42b0b\", [{\"marker\": {\"color\": \"rgb(158,202,225)\", \"line\": {\"color\": \"rgb(8,48,107)\", \"width\": 1.5}}, \"opacity\": 0.6, \"orientation\": \"h\", \"text\": [0.1433, 0.109, 0.0675, 0.0467, 0.046, 0.0433, 0.0408, 0.0358, 0.0293, 0.029, 0.0265, 0.0264, 0.0254, 0.0235, 0.016, 0.0154, 0.0148, 0.0147, 0.0141, 0.0141, 0.0139, 0.0137, 0.0133, 0.013, 0.0129, 0.0129, 0.0127, 0.0125, 0.012, 0.0118, 0.0113, 0.011, 0.0101, 0.0093, 0.009, 0.0076, 0.0069, 0.0068, 0.0065, 0.0061, 0.005], \"textposition\": \"outside\", \"x\": [0.14331802690540613, 0.1089616229763527, 0.0674716509850723, 0.046651523231112886, 0.04600089858349309, 0.04326748737375946, 0.040841548509807556, 0.035845098442036843, 0.029336281620744836, 0.028989909444861784, 0.02646860587843678, 0.026382651863209993, 0.025418000896965703, 0.023467522175459967, 0.016021976052788, 0.015442150320910597, 0.01479435649791111, 0.014736622016648937, 0.014138559932982426, 0.01406785206774056, 0.01386939848421927, 0.0136741690338053, 0.013346006261582884, 0.01303561718695167, 0.012933504312409586, 0.012904943736664534, 0.012675629140385142, 0.012487080721903951, 0.012020700841353572, 0.011795295102989285, 0.011294960430141155, 0.010984636770277233, 0.010107573701940157, 0.009329872479696046, 0.009014239789500104, 0.007572887783451367, 0.0068563686128798335, 0.00683237300936468, 0.006545719494132597, 0.006112549750489111, 0.004984127580160863], \"y\": [\"url_char_.\", \"url_extensions\", \"url_length\", \"url_number_digits\", \"url_char_w\", \"url_number_consonants\", \"url_number_vowels\", \"url_char_i\", \"url_tlds\", \"url_char_z\", \"url_char_e\", \"url_extension_.com\", \"url_words_with_length_4\", \"url_char_b\", \"url_char_u\", \"url_char_n\", \"url_char_y\", \"url_char_l\", \"url_char_o\", \"url_char_a\", \"url_char_c\", \"url_char_m\", \"url_char_p\", \"url_char_r\", \"url_words_with_length_5\", \"url_char_s\", \"url_words_with_length_6\", \"url_char_h\", \"url_char_t\", \"url_char_d\", \"url_char_f\", \"url_char_x\", \"url_char_k\", \"url_words_with_length_8\", \"url_char_g\", \"url_words_with_length_7\", \"url_char_v\", \"url_char_-\", \"url_char_j\", \"url_extension_.i\", \"url_extension_.net\"], \"type\": \"bar\", \"uid\": \"56ce0294-9e13-4c71-859f-f52d0cf3952d\"}], {\"autosize\": false, \"height\": 1000, \"width\": 1000, \"xaxis\": {\"tickfont\": {\"color\": \"black\", \"size\": 12}, \"title\": \"Feature Importances\"}, \"yaxis\": {\"automargin\": true}}, {\"showLink\": true, \"linkText\": \"Export to plot.ly\", \"plotlyServerURL\": \"https://plot.ly\"})});</script>"
      ]
     },
     "metadata": {},
     "output_type": "display_data"
    },
    {
     "name": "stdout",
     "output_type": "stream",
     "text": [
      "\n",
      "\n",
      "\u001b[1mBagging Classifier\u001b[0m\n",
      "Accuracy of the model for training data is: 0.9894117647058823\n",
      "Confusion Matrix for training data is:\n"
     ]
    },
    {
     "data": {
      "text/plain": [
       "Predicted  False  True  __all__\n",
       "Actual                         \n",
       "False       5516     9     5525\n",
       "True         108  5417     5525\n",
       "__all__     5624  5426    11050"
      ]
     },
     "metadata": {},
     "output_type": "display_data"
    },
    {
     "name": "stdout",
     "output_type": "stream",
     "text": [
      "Accuracy of the model for test data is: 0.9335043831515929\n",
      "Confusion Matrix for test data is:\n"
     ]
    },
    {
     "data": {
      "text/plain": [
       "Predicted  False  True  __all__\n",
       "Actual                         \n",
       "False       7543   442     7985\n",
       "True         180  1189     1369\n",
       "__all__     7723  1631     9354"
      ]
     },
     "metadata": {},
     "output_type": "display_data"
    },
    {
     "name": "stdout",
     "output_type": "stream",
     "text": [
      "\n",
      "\n",
      "\u001b[1mNeural Network-1\u001b[0m\n",
      "The accuracy of the model on training data is: 0.9979185520361991\n"
     ]
    },
    {
     "data": {
      "text/plain": [
       "Predicted  False  True  __all__\n",
       "Actual                         \n",
       "False       5525     0     5525\n",
       "True          23  5502     5525\n",
       "__all__     5548  5502    11050"
      ]
     },
     "metadata": {},
     "output_type": "display_data"
    },
    {
     "name": "stdout",
     "output_type": "stream",
     "text": [
      "The accuracy of the model on test data is: 0.9049604447295275\n"
     ]
    },
    {
     "data": {
      "text/plain": [
       "Predicted  False  True  __all__\n",
       "Actual                         \n",
       "False       7259   726     7985\n",
       "True         163  1206     1369\n",
       "__all__     7422  1932     9354"
      ]
     },
     "metadata": {},
     "output_type": "display_data"
    },
    {
     "name": "stdout",
     "output_type": "stream",
     "text": [
      "\n",
      "\n"
     ]
    }
   ],
   "source": [
    "feat_imp=[None]*4\n",
    "j=0\n",
    "for i in range(0,8):\n",
    "    if i>=2 and i<=5:\n",
    "        model,cm_train,cm_test,acc_train,acc_test,roc_auc,feat_imp[j],mcc=f[i](X_train,Y_train,scaled_X_test,test_Y,columns)\n",
    "        j=j+1\n",
    "    else:\n",
    "        model,cm_train,cm_test,acc_train,acc_test,roc_auc,mcc=f[i](X_train,Y_train,scaled_X_test,test_Y)\n",
    "    table_80_90_train.loc[i]=   ([acc_train,cm_train.TP,cm_train.TN,cm_train.FP,cm_train.FN,cm_train.FPR,cm_train.FNR])\n",
    "    table_80_90_test.loc[i] =   ([acc_test ,cm_test.TP, cm_test.TN, cm_test.FP, cm_test.FN, cm_test.FPR, cm_test.FNR,roc_auc,mcc])\n",
    "    print(\"\\n\")"
   ]
  },
  {
   "cell_type": "markdown",
   "metadata": {},
   "source": [
    "### <a id='3.A' style=\"text-decoration : none; color : #000000;\"> A. Results</a>"
   ]
  },
  {
   "cell_type": "code",
   "execution_count": 60,
   "metadata": {},
   "outputs": [
    {
     "data": {
      "application/vnd.plotly.v1+json": {
       "config": {
        "linkText": "Export to plot.ly",
        "plotlyServerURL": "https://plot.ly",
        "showLink": true
       },
       "data": [
        {
         "mode": "lines",
         "name": "KNN_model",
         "type": "scatter",
         "uid": "7496a0bf-ca61-4e22-a079-bfcdf4e784f0",
         "x": [
          "accuracy",
          "FPR",
          "FNR",
          "auc"
         ],
         "y": [
          0.9468676502031217,
          0.03155917345021916,
          0.1789627465303141,
          0.8947390400097334
         ]
        },
        {
         "mode": "lines+markers",
         "name": "Logistic Regression",
         "type": "scatter",
         "uid": "a2c957fa-31be-4d57-b981-16cb9d43b7e1",
         "x": [
          "accuracy",
          "FPR",
          "FNR",
          "auc"
         ],
         "y": [
          0.9193927731451785,
          0.07313713212273013,
          0.1241782322863404,
          0.9013423177954648
         ]
        },
        {
         "marker": {
          "symbol": "x"
         },
         "mode": "lines+markers",
         "name": "Random Forest",
         "type": "scatter",
         "uid": "461e60db-3383-4fc9-b725-aa46f75b3e55",
         "x": [
          "accuracy",
          "FPR",
          "FNR",
          "auc"
         ],
         "y": [
          0.9387427838357921,
          0.0495929868503444,
          0.12929145361577793,
          0.9105577797669387
         ]
        },
        {
         "mode": "lines",
         "name": "Ada Boost",
         "type": "scatter",
         "uid": "959f7dda-cd09-48cc-8ac7-376fe70c698f",
         "x": [
          "accuracy",
          "FPR",
          "FNR",
          "auc"
         ],
         "y": [
          0.9032499465469318,
          0.09229805886036319,
          0.12271731190650109,
          0.8924923146165678
         ]
        },
        {
         "mode": "lines+markers",
         "name": "GradientBoosting",
         "type": "scatter",
         "uid": "513ccb3f-3115-49be-b45f-b722a36a55e3",
         "x": [
          "accuracy",
          "FPR",
          "FNR",
          "auc"
         ],
         "y": [
          0.9315800726961727,
          0.05848465873512836,
          0.12636961285609935,
          0.9075728642043861
         ]
        },
        {
         "marker": {
          "symbol": "x"
         },
         "mode": "lines+markers",
         "name": "ExtraTree Classifier",
         "type": "scatter",
         "uid": "073ffa25-9a0a-4bed-a0e7-833e06c837bc",
         "x": [
          "accuracy",
          "FPR",
          "FNR",
          "auc"
         ],
         "y": [
          0.9392773145178533,
          0.050093926111458985,
          0.12271731190650109,
          0.9135943809910199
         ]
        },
        {
         "marker": {
          "symbol": "x"
         },
         "mode": "lines+markers",
         "name": "Bagging",
         "type": "scatter",
         "uid": "34913316-7369-4edc-a13f-510e92f47243",
         "x": [
          "accuracy",
          "FPR",
          "FNR",
          "auc"
         ],
         "y": [
          0.9335043831515929,
          0.05535378835316218,
          0.13148283418553688,
          0.9065816887306506
         ]
        },
        {
         "marker": {
          "symbol": "x"
         },
         "mode": "lines+markers",
         "name": "Neural Network",
         "type": "scatter",
         "uid": "729871fa-4caa-4ce7-a5e7-2bd296cd23f3",
         "x": [
          "accuracy",
          "FPR",
          "FNR",
          "auc"
         ],
         "y": [
          0.9049604447295275,
          0.09092047589229806,
          0.11906501095690285,
          0.8950072565753996
         ]
        }
       ],
       "layout": {
        "title": "Result comparision for Features selected in Section 1",
        "yaxis": {
         "dtick": 0.05,
         "tick0": 0
        }
       }
      },
      "text/html": [
       "<div id=\"a32584d1-fd99-4f1d-b63e-92d744a40e10\" style=\"height: 525px; width: 100%;\" class=\"plotly-graph-div\"></div><script type=\"text/javascript\">require([\"plotly\"], function(Plotly) { window.PLOTLYENV=window.PLOTLYENV || {};window.PLOTLYENV.BASE_URL=\"https://plot.ly\";Plotly.newPlot(\"a32584d1-fd99-4f1d-b63e-92d744a40e10\", [{\"mode\": \"lines\", \"name\": \"KNN_model\", \"x\": [\"accuracy\", \"FPR\", \"FNR\", \"auc\"], \"y\": [0.9468676502031217, 0.03155917345021916, 0.1789627465303141, 0.8947390400097334], \"type\": \"scatter\", \"uid\": \"7496a0bf-ca61-4e22-a079-bfcdf4e784f0\"}, {\"mode\": \"lines+markers\", \"name\": \"Logistic Regression\", \"x\": [\"accuracy\", \"FPR\", \"FNR\", \"auc\"], \"y\": [0.9193927731451785, 0.07313713212273013, 0.1241782322863404, 0.9013423177954648], \"type\": \"scatter\", \"uid\": \"a2c957fa-31be-4d57-b981-16cb9d43b7e1\"}, {\"marker\": {\"symbol\": \"x\"}, \"mode\": \"lines+markers\", \"name\": \"Random Forest\", \"x\": [\"accuracy\", \"FPR\", \"FNR\", \"auc\"], \"y\": [0.9387427838357921, 0.0495929868503444, 0.12929145361577793, 0.9105577797669387], \"type\": \"scatter\", \"uid\": \"461e60db-3383-4fc9-b725-aa46f75b3e55\"}, {\"mode\": \"lines\", \"name\": \"Ada Boost\", \"x\": [\"accuracy\", \"FPR\", \"FNR\", \"auc\"], \"y\": [0.9032499465469318, 0.09229805886036319, 0.12271731190650109, 0.8924923146165678], \"type\": \"scatter\", \"uid\": \"959f7dda-cd09-48cc-8ac7-376fe70c698f\"}, {\"mode\": \"lines+markers\", \"name\": \"GradientBoosting\", \"x\": [\"accuracy\", \"FPR\", \"FNR\", \"auc\"], \"y\": [0.9315800726961727, 0.05848465873512836, 0.12636961285609935, 0.9075728642043861], \"type\": \"scatter\", \"uid\": \"513ccb3f-3115-49be-b45f-b722a36a55e3\"}, {\"marker\": {\"symbol\": \"x\"}, \"mode\": \"lines+markers\", \"name\": \"ExtraTree Classifier\", \"x\": [\"accuracy\", \"FPR\", \"FNR\", \"auc\"], \"y\": [0.9392773145178533, 0.050093926111458985, 0.12271731190650109, 0.9135943809910199], \"type\": \"scatter\", \"uid\": \"073ffa25-9a0a-4bed-a0e7-833e06c837bc\"}, {\"marker\": {\"symbol\": \"x\"}, \"mode\": \"lines+markers\", \"name\": \"Bagging\", \"x\": [\"accuracy\", \"FPR\", \"FNR\", \"auc\"], \"y\": [0.9335043831515929, 0.05535378835316218, 0.13148283418553688, 0.9065816887306506], \"type\": \"scatter\", \"uid\": \"34913316-7369-4edc-a13f-510e92f47243\"}, {\"marker\": {\"symbol\": \"x\"}, \"mode\": \"lines+markers\", \"name\": \"Neural Network\", \"x\": [\"accuracy\", \"FPR\", \"FNR\", \"auc\"], \"y\": [0.9049604447295275, 0.09092047589229806, 0.11906501095690285, 0.8950072565753996], \"type\": \"scatter\", \"uid\": \"729871fa-4caa-4ce7-a5e7-2bd296cd23f3\"}], {\"title\": \"Result comparision for Features selected in Section 1\", \"yaxis\": {\"dtick\": 0.05, \"tick0\": 0}}, {\"showLink\": true, \"linkText\": \"Export to plot.ly\", \"plotlyServerURL\": \"https://plot.ly\"})});</script><script type=\"text/javascript\">window.addEventListener(\"resize\", function(){window._Plotly.Plots.resize(document.getElementById(\"a32584d1-fd99-4f1d-b63e-92d744a40e10\"));});</script>"
      ],
      "text/vnd.plotly.v1+html": [
       "<div id=\"a32584d1-fd99-4f1d-b63e-92d744a40e10\" style=\"height: 525px; width: 100%;\" class=\"plotly-graph-div\"></div><script type=\"text/javascript\">require([\"plotly\"], function(Plotly) { window.PLOTLYENV=window.PLOTLYENV || {};window.PLOTLYENV.BASE_URL=\"https://plot.ly\";Plotly.newPlot(\"a32584d1-fd99-4f1d-b63e-92d744a40e10\", [{\"mode\": \"lines\", \"name\": \"KNN_model\", \"x\": [\"accuracy\", \"FPR\", \"FNR\", \"auc\"], \"y\": [0.9468676502031217, 0.03155917345021916, 0.1789627465303141, 0.8947390400097334], \"type\": \"scatter\", \"uid\": \"7496a0bf-ca61-4e22-a079-bfcdf4e784f0\"}, {\"mode\": \"lines+markers\", \"name\": \"Logistic Regression\", \"x\": [\"accuracy\", \"FPR\", \"FNR\", \"auc\"], \"y\": [0.9193927731451785, 0.07313713212273013, 0.1241782322863404, 0.9013423177954648], \"type\": \"scatter\", \"uid\": \"a2c957fa-31be-4d57-b981-16cb9d43b7e1\"}, {\"marker\": {\"symbol\": \"x\"}, \"mode\": \"lines+markers\", \"name\": \"Random Forest\", \"x\": [\"accuracy\", \"FPR\", \"FNR\", \"auc\"], \"y\": [0.9387427838357921, 0.0495929868503444, 0.12929145361577793, 0.9105577797669387], \"type\": \"scatter\", \"uid\": \"461e60db-3383-4fc9-b725-aa46f75b3e55\"}, {\"mode\": \"lines\", \"name\": \"Ada Boost\", \"x\": [\"accuracy\", \"FPR\", \"FNR\", \"auc\"], \"y\": [0.9032499465469318, 0.09229805886036319, 0.12271731190650109, 0.8924923146165678], \"type\": \"scatter\", \"uid\": \"959f7dda-cd09-48cc-8ac7-376fe70c698f\"}, {\"mode\": \"lines+markers\", \"name\": \"GradientBoosting\", \"x\": [\"accuracy\", \"FPR\", \"FNR\", \"auc\"], \"y\": [0.9315800726961727, 0.05848465873512836, 0.12636961285609935, 0.9075728642043861], \"type\": \"scatter\", \"uid\": \"513ccb3f-3115-49be-b45f-b722a36a55e3\"}, {\"marker\": {\"symbol\": \"x\"}, \"mode\": \"lines+markers\", \"name\": \"ExtraTree Classifier\", \"x\": [\"accuracy\", \"FPR\", \"FNR\", \"auc\"], \"y\": [0.9392773145178533, 0.050093926111458985, 0.12271731190650109, 0.9135943809910199], \"type\": \"scatter\", \"uid\": \"073ffa25-9a0a-4bed-a0e7-833e06c837bc\"}, {\"marker\": {\"symbol\": \"x\"}, \"mode\": \"lines+markers\", \"name\": \"Bagging\", \"x\": [\"accuracy\", \"FPR\", \"FNR\", \"auc\"], \"y\": [0.9335043831515929, 0.05535378835316218, 0.13148283418553688, 0.9065816887306506], \"type\": \"scatter\", \"uid\": \"34913316-7369-4edc-a13f-510e92f47243\"}, {\"marker\": {\"symbol\": \"x\"}, \"mode\": \"lines+markers\", \"name\": \"Neural Network\", \"x\": [\"accuracy\", \"FPR\", \"FNR\", \"auc\"], \"y\": [0.9049604447295275, 0.09092047589229806, 0.11906501095690285, 0.8950072565753996], \"type\": \"scatter\", \"uid\": \"729871fa-4caa-4ce7-a5e7-2bd296cd23f3\"}], {\"title\": \"Result comparision for Features selected in Section 1\", \"yaxis\": {\"dtick\": 0.05, \"tick0\": 0}}, {\"showLink\": true, \"linkText\": \"Export to plot.ly\", \"plotlyServerURL\": \"https://plot.ly\"})});</script><script type=\"text/javascript\">window.addEventListener(\"resize\", function(){window._Plotly.Plots.resize(document.getElementById(\"a32584d1-fd99-4f1d-b63e-92d744a40e10\"));});</script>"
      ]
     },
     "metadata": {},
     "output_type": "display_data"
    }
   ],
   "source": [
    "trace0 = go.Scatter(x=table_80_90_test.iloc[0].index.values[[0,5,6,7]],\n",
    "                    y=table_80_90_test.iloc[0].values[[0,5,6,7]],\n",
    "                    mode = 'lines',\n",
    "                    name = 'KNN_model')\n",
    "\n",
    "trace1 = go.Scatter(x=table_80_90_test.iloc[1].index.values[[0,5,6,7]],\n",
    "                    y=table_80_90_test.iloc[1].values[[0,5,6,7]],\n",
    "                    mode = 'lines+markers',\n",
    "                    name = 'Logistic Regression')\n",
    "\n",
    "trace2 = go.Scatter(x=table_80_90_test.iloc[2].index.values[[0,5,6,7]],\n",
    "                    y=table_80_90_test.iloc[2].values[[0,5,6,7]],\n",
    "                    mode = 'lines+markers',marker=dict(symbol='x'),\n",
    "                    name = 'Random Forest')\n",
    "\n",
    "\n",
    "trace3 = go.Scatter(x=table_80_90_test.iloc[3].index.values[[0,5,6,7]],\n",
    "                    y=table_80_90_test.iloc[3].values[[0,5,6,7]],\n",
    "                    mode = 'lines',\n",
    "                    name = 'Ada Boost')\n",
    "\n",
    "trace4 = go.Scatter(x=table_80_90_test.iloc[4].index.values[[0,5,6,7]],\n",
    "                    y=table_80_90_test.iloc[4].values[[0,5,6,7]],\n",
    "                    mode = 'lines+markers',\n",
    "                    name = 'GradientBoosting')\n",
    "\n",
    "trace5 = go.Scatter(x=table_80_90_test.iloc[5].index.values[[0,5,6,7]],\n",
    "                    y=table_80_90_test.iloc[5].values[[0,5,6,7]],\n",
    "                    mode = 'lines+markers',marker=dict(symbol='x'),\n",
    "                    name = 'ExtraTree Classifier')\n",
    "\n",
    "trace6 = go.Scatter(x=table_80_90_test.iloc[6].index.values[[0,5,6,7]],\n",
    "                    y=table_80_90_test.iloc[6].values[[0,5,6,7]],\n",
    "                    mode = 'lines+markers',marker=dict(symbol='x'),\n",
    "                    name = 'Bagging')\n",
    "\n",
    "trace7 = go.Scatter(x=table_80_90_test.iloc[7].index.values[[0,5,6,7]],\n",
    "                    y=table_80_90_test.iloc[7].values[[0,5,6,7]],\n",
    "                    mode = 'lines+markers',marker=dict(symbol='x'),\n",
    "                    name = 'Neural Network')\n",
    "\n",
    "\n",
    "\n",
    "data = [trace0, trace1, trace2, trace3, trace4, trace5, trace6, trace7]\n",
    "layout = go.Layout(yaxis=dict(tick0=0,dtick=0.05),title='Result comparision for Features selected in Section 1')\n",
    "fig = go.Figure(data=data, layout=layout)\n",
    "\n",
    "iplot(fig, filename='Result')"
   ]
  },
  {
   "cell_type": "code",
   "execution_count": 61,
   "metadata": {},
   "outputs": [
    {
     "name": "stdout",
     "output_type": "stream",
     "text": [
      "Training Results\n"
     ]
    },
    {
     "data": {
      "text/html": [
       "<div>\n",
       "<style scoped>\n",
       "    .dataframe tbody tr th:only-of-type {\n",
       "        vertical-align: middle;\n",
       "    }\n",
       "\n",
       "    .dataframe tbody tr th {\n",
       "        vertical-align: top;\n",
       "    }\n",
       "\n",
       "    .dataframe thead th {\n",
       "        text-align: right;\n",
       "    }\n",
       "</style>\n",
       "<table border=\"1\" class=\"dataframe\">\n",
       "  <thead>\n",
       "    <tr style=\"text-align: right;\">\n",
       "      <th></th>\n",
       "      <th>accuracy</th>\n",
       "      <th>TP</th>\n",
       "      <th>TN</th>\n",
       "      <th>FP</th>\n",
       "      <th>FN</th>\n",
       "      <th>FPR</th>\n",
       "      <th>FNR</th>\n",
       "    </tr>\n",
       "    <tr>\n",
       "      <th>index</th>\n",
       "      <th></th>\n",
       "      <th></th>\n",
       "      <th></th>\n",
       "      <th></th>\n",
       "      <th></th>\n",
       "      <th></th>\n",
       "      <th></th>\n",
       "    </tr>\n",
       "  </thead>\n",
       "  <tbody>\n",
       "    <tr>\n",
       "      <th>KNeighborsClassifier</th>\n",
       "      <td>0.919729</td>\n",
       "      <td>4742.0</td>\n",
       "      <td>5421.0</td>\n",
       "      <td>104.0</td>\n",
       "      <td>783.0</td>\n",
       "      <td>0.018824</td>\n",
       "      <td>0.141719</td>\n",
       "    </tr>\n",
       "    <tr>\n",
       "      <th>LogisticRegression</th>\n",
       "      <td>0.900905</td>\n",
       "      <td>4797.0</td>\n",
       "      <td>5158.0</td>\n",
       "      <td>367.0</td>\n",
       "      <td>728.0</td>\n",
       "      <td>0.066425</td>\n",
       "      <td>0.131765</td>\n",
       "    </tr>\n",
       "    <tr>\n",
       "      <th>RandomForestClassifier</th>\n",
       "      <td>0.990407</td>\n",
       "      <td>5422.0</td>\n",
       "      <td>5522.0</td>\n",
       "      <td>3.0</td>\n",
       "      <td>103.0</td>\n",
       "      <td>0.000543</td>\n",
       "      <td>0.018643</td>\n",
       "    </tr>\n",
       "    <tr>\n",
       "      <th>AdaBoostClassifier</th>\n",
       "      <td>0.897014</td>\n",
       "      <td>4825.0</td>\n",
       "      <td>5087.0</td>\n",
       "      <td>438.0</td>\n",
       "      <td>700.0</td>\n",
       "      <td>0.079276</td>\n",
       "      <td>0.126697</td>\n",
       "    </tr>\n",
       "    <tr>\n",
       "      <th>GradientBoostingClassifier</th>\n",
       "      <td>0.909593</td>\n",
       "      <td>4808.0</td>\n",
       "      <td>5243.0</td>\n",
       "      <td>282.0</td>\n",
       "      <td>717.0</td>\n",
       "      <td>0.051041</td>\n",
       "      <td>0.129774</td>\n",
       "    </tr>\n",
       "    <tr>\n",
       "      <th>ExtraTreeClassifier</th>\n",
       "      <td>0.999910</td>\n",
       "      <td>5524.0</td>\n",
       "      <td>5525.0</td>\n",
       "      <td>0.0</td>\n",
       "      <td>1.0</td>\n",
       "      <td>0.000000</td>\n",
       "      <td>0.000181</td>\n",
       "    </tr>\n",
       "    <tr>\n",
       "      <th>BaggingClassifier</th>\n",
       "      <td>0.989412</td>\n",
       "      <td>5417.0</td>\n",
       "      <td>5516.0</td>\n",
       "      <td>9.0</td>\n",
       "      <td>108.0</td>\n",
       "      <td>0.001629</td>\n",
       "      <td>0.019548</td>\n",
       "    </tr>\n",
       "    <tr>\n",
       "      <th>Neural Network-1</th>\n",
       "      <td>0.997919</td>\n",
       "      <td>5502.0</td>\n",
       "      <td>5525.0</td>\n",
       "      <td>0.0</td>\n",
       "      <td>23.0</td>\n",
       "      <td>0.000000</td>\n",
       "      <td>0.004163</td>\n",
       "    </tr>\n",
       "  </tbody>\n",
       "</table>\n",
       "</div>"
      ],
      "text/plain": [
       "                            accuracy      TP      TN     FP     FN       FPR  \\\n",
       "index                                                                          \n",
       "KNeighborsClassifier        0.919729  4742.0  5421.0  104.0  783.0  0.018824   \n",
       "LogisticRegression          0.900905  4797.0  5158.0  367.0  728.0  0.066425   \n",
       "RandomForestClassifier      0.990407  5422.0  5522.0    3.0  103.0  0.000543   \n",
       "AdaBoostClassifier          0.897014  4825.0  5087.0  438.0  700.0  0.079276   \n",
       "GradientBoostingClassifier  0.909593  4808.0  5243.0  282.0  717.0  0.051041   \n",
       "ExtraTreeClassifier         0.999910  5524.0  5525.0    0.0    1.0  0.000000   \n",
       "BaggingClassifier           0.989412  5417.0  5516.0    9.0  108.0  0.001629   \n",
       "Neural Network-1            0.997919  5502.0  5525.0    0.0   23.0  0.000000   \n",
       "\n",
       "                                 FNR  \n",
       "index                                 \n",
       "KNeighborsClassifier        0.141719  \n",
       "LogisticRegression          0.131765  \n",
       "RandomForestClassifier      0.018643  \n",
       "AdaBoostClassifier          0.126697  \n",
       "GradientBoostingClassifier  0.129774  \n",
       "ExtraTreeClassifier         0.000181  \n",
       "BaggingClassifier           0.019548  \n",
       "Neural Network-1            0.004163  "
      ]
     },
     "metadata": {},
     "output_type": "display_data"
    },
    {
     "name": "stdout",
     "output_type": "stream",
     "text": [
      "Test Results\n"
     ]
    },
    {
     "data": {
      "text/html": [
       "<div>\n",
       "<style scoped>\n",
       "    .dataframe tbody tr th:only-of-type {\n",
       "        vertical-align: middle;\n",
       "    }\n",
       "\n",
       "    .dataframe tbody tr th {\n",
       "        vertical-align: top;\n",
       "    }\n",
       "\n",
       "    .dataframe thead th {\n",
       "        text-align: right;\n",
       "    }\n",
       "</style>\n",
       "<table border=\"1\" class=\"dataframe\">\n",
       "  <thead>\n",
       "    <tr style=\"text-align: right;\">\n",
       "      <th></th>\n",
       "      <th>accuracy</th>\n",
       "      <th>TP</th>\n",
       "      <th>TN</th>\n",
       "      <th>FP</th>\n",
       "      <th>FN</th>\n",
       "      <th>FPR</th>\n",
       "      <th>FNR</th>\n",
       "      <th>auc</th>\n",
       "      <th>mcc</th>\n",
       "    </tr>\n",
       "    <tr>\n",
       "      <th>index</th>\n",
       "      <th></th>\n",
       "      <th></th>\n",
       "      <th></th>\n",
       "      <th></th>\n",
       "      <th></th>\n",
       "      <th></th>\n",
       "      <th></th>\n",
       "      <th></th>\n",
       "      <th></th>\n",
       "    </tr>\n",
       "  </thead>\n",
       "  <tbody>\n",
       "    <tr>\n",
       "      <th>KNeighborsClassifier</th>\n",
       "      <td>0.946868</td>\n",
       "      <td>1124.0</td>\n",
       "      <td>7733.0</td>\n",
       "      <td>252.0</td>\n",
       "      <td>245.0</td>\n",
       "      <td>0.031559</td>\n",
       "      <td>0.178963</td>\n",
       "      <td>0.894739</td>\n",
       "      <td>0.787813</td>\n",
       "    </tr>\n",
       "    <tr>\n",
       "      <th>LogisticRegression</th>\n",
       "      <td>0.919393</td>\n",
       "      <td>1199.0</td>\n",
       "      <td>7401.0</td>\n",
       "      <td>584.0</td>\n",
       "      <td>170.0</td>\n",
       "      <td>0.073137</td>\n",
       "      <td>0.124178</td>\n",
       "      <td>0.901342</td>\n",
       "      <td>0.722324</td>\n",
       "    </tr>\n",
       "    <tr>\n",
       "      <th>RandomForestClassifier</th>\n",
       "      <td>0.938743</td>\n",
       "      <td>1192.0</td>\n",
       "      <td>7589.0</td>\n",
       "      <td>396.0</td>\n",
       "      <td>177.0</td>\n",
       "      <td>0.049593</td>\n",
       "      <td>0.129291</td>\n",
       "      <td>0.910558</td>\n",
       "      <td>0.773071</td>\n",
       "    </tr>\n",
       "    <tr>\n",
       "      <th>AdaBoostClassifier</th>\n",
       "      <td>0.903250</td>\n",
       "      <td>1201.0</td>\n",
       "      <td>7248.0</td>\n",
       "      <td>737.0</td>\n",
       "      <td>168.0</td>\n",
       "      <td>0.092298</td>\n",
       "      <td>0.122717</td>\n",
       "      <td>0.892492</td>\n",
       "      <td>0.684603</td>\n",
       "    </tr>\n",
       "    <tr>\n",
       "      <th>GradientBoostingClassifier</th>\n",
       "      <td>0.931580</td>\n",
       "      <td>1196.0</td>\n",
       "      <td>7518.0</td>\n",
       "      <td>467.0</td>\n",
       "      <td>173.0</td>\n",
       "      <td>0.058485</td>\n",
       "      <td>0.126370</td>\n",
       "      <td>0.907573</td>\n",
       "      <td>0.753593</td>\n",
       "    </tr>\n",
       "    <tr>\n",
       "      <th>ExtraTreeClassifier</th>\n",
       "      <td>0.939277</td>\n",
       "      <td>1201.0</td>\n",
       "      <td>7585.0</td>\n",
       "      <td>400.0</td>\n",
       "      <td>168.0</td>\n",
       "      <td>0.050094</td>\n",
       "      <td>0.122717</td>\n",
       "      <td>0.913594</td>\n",
       "      <td>0.776271</td>\n",
       "    </tr>\n",
       "    <tr>\n",
       "      <th>BaggingClassifier</th>\n",
       "      <td>0.933504</td>\n",
       "      <td>1189.0</td>\n",
       "      <td>7543.0</td>\n",
       "      <td>442.0</td>\n",
       "      <td>180.0</td>\n",
       "      <td>0.055354</td>\n",
       "      <td>0.131483</td>\n",
       "      <td>0.906582</td>\n",
       "      <td>0.757525</td>\n",
       "    </tr>\n",
       "    <tr>\n",
       "      <th>Neural Network-1</th>\n",
       "      <td>0.904960</td>\n",
       "      <td>1206.0</td>\n",
       "      <td>7259.0</td>\n",
       "      <td>726.0</td>\n",
       "      <td>163.0</td>\n",
       "      <td>0.090920</td>\n",
       "      <td>0.119065</td>\n",
       "      <td>0.895007</td>\n",
       "      <td>0.689779</td>\n",
       "    </tr>\n",
       "  </tbody>\n",
       "</table>\n",
       "</div>"
      ],
      "text/plain": [
       "                            accuracy      TP      TN     FP     FN       FPR  \\\n",
       "index                                                                          \n",
       "KNeighborsClassifier        0.946868  1124.0  7733.0  252.0  245.0  0.031559   \n",
       "LogisticRegression          0.919393  1199.0  7401.0  584.0  170.0  0.073137   \n",
       "RandomForestClassifier      0.938743  1192.0  7589.0  396.0  177.0  0.049593   \n",
       "AdaBoostClassifier          0.903250  1201.0  7248.0  737.0  168.0  0.092298   \n",
       "GradientBoostingClassifier  0.931580  1196.0  7518.0  467.0  173.0  0.058485   \n",
       "ExtraTreeClassifier         0.939277  1201.0  7585.0  400.0  168.0  0.050094   \n",
       "BaggingClassifier           0.933504  1189.0  7543.0  442.0  180.0  0.055354   \n",
       "Neural Network-1            0.904960  1206.0  7259.0  726.0  163.0  0.090920   \n",
       "\n",
       "                                 FNR       auc       mcc  \n",
       "index                                                     \n",
       "KNeighborsClassifier        0.178963  0.894739  0.787813  \n",
       "LogisticRegression          0.124178  0.901342  0.722324  \n",
       "RandomForestClassifier      0.129291  0.910558  0.773071  \n",
       "AdaBoostClassifier          0.122717  0.892492  0.684603  \n",
       "GradientBoostingClassifier  0.126370  0.907573  0.753593  \n",
       "ExtraTreeClassifier         0.122717  0.913594  0.776271  \n",
       "BaggingClassifier           0.131483  0.906582  0.757525  \n",
       "Neural Network-1            0.119065  0.895007  0.689779  "
      ]
     },
     "metadata": {},
     "output_type": "display_data"
    }
   ],
   "source": [
    "table_80_90_train['index']=ind_columns\n",
    "table_80_90_test['index']=ind_columns\n",
    "\n",
    "\n",
    "table_80_90_test.set_index(['index'],drop=True,inplace=True)\n",
    "table_80_90_train.set_index(['index'],drop=True,inplace=True)\n",
    "\n",
    "print(\"Training Results\")\n",
    "display(table_80_90_train)\n",
    "print(\"Test Results\")\n",
    "display(table_80_90_test)"
   ]
  },
  {
   "cell_type": "markdown",
   "metadata": {},
   "source": [
    "### <a id='3.B' style=\"text-decoration : none; color : #000000;\"> B. Average Feature Importances</a>"
   ]
  },
  {
   "cell_type": "code",
   "execution_count": 62,
   "metadata": {},
   "outputs": [
    {
     "data": {
      "application/vnd.plotly.v1+json": {
       "config": {
        "linkText": "Export to plot.ly",
        "plotlyServerURL": "https://plot.ly",
        "showLink": true
       },
       "data": [
        {
         "marker": {
          "color": "rgb(158,202,225)",
          "line": {
           "color": "rgb(8,48,107)",
           "width": 1.5
          }
         },
         "opacity": 0.6,
         "orientation": "h",
         "text": [
          0.2106,
          0.1657,
          0.0796,
          0.0504,
          0.0476,
          0.0409,
          0.0398,
          0.032,
          0.0292,
          0.025,
          0.0209,
          0.0194,
          0.0186,
          0.0137,
          0.0128,
          0.0125,
          0.0117,
          0.0113,
          0.0111,
          0.011,
          0.011,
          0.011,
          0.0108,
          0.0099,
          0.0091,
          0.0079,
          0.0075,
          0.0071,
          0.0066,
          0.0065,
          0.0061,
          0.006,
          0.0059,
          0.0055,
          0.0054,
          0.0043,
          0.0034,
          0.0033,
          0.0033,
          0.003,
          0.0025
         ],
         "textposition": "outside",
         "type": "bar",
         "uid": "8322238c-84d4-4ec4-9ea0-5489b2b21ecd",
         "x": [
          0.21056863162897294,
          0.1657257012968284,
          0.07963625007581168,
          0.050378639048365724,
          0.047571430928652125,
          0.04087520165604699,
          0.03983119585360505,
          0.031994145963985365,
          0.029199642445561787,
          0.0249877481076566,
          0.020919913197941755,
          0.01937073728966883,
          0.01862437233550298,
          0.013735858322688352,
          0.012771564921246146,
          0.01251709439932511,
          0.011703266072536671,
          0.011260262063454235,
          0.011082400142243896,
          0.011042103742677403,
          0.011007104643705563,
          0.010971936237734792,
          0.01077495796534107,
          0.009883601229575358,
          0.009138071997348332,
          0.007917041020121437,
          0.007453091354509598,
          0.007144555214552047,
          0.006595808850485117,
          0.006465765961749809,
          0.006144131871646684,
          0.006018188556445876,
          0.005866717253943861,
          0.005501581343453599,
          0.0053858850283270004,
          0.004301378365878905,
          0.00341588643316266,
          0.0033260468016099577,
          0.0033033865154506147,
          0.003047441446245432,
          0.00254126241594027
         ],
         "y": [
          "url_length",
          "url_extensions",
          "url_char_.",
          "url_char_w",
          "url_number_consonants",
          "url_number_digits",
          "url_tlds",
          "url_char_z",
          "url_words_with_length_4",
          "url_number_vowels",
          "url_extension_.com",
          "url_char_b",
          "url_char_i",
          "url_char_o",
          "url_char_l",
          "url_char_n",
          "url_char_m",
          "url_char_y",
          "url_char_e",
          "url_char_t",
          "url_char_r",
          "url_char_f",
          "url_char_x",
          "url_char_h",
          "url_char_g",
          "url_extension_.i",
          "url_char_c",
          "url_extension_.net",
          "url_char_a",
          "url_char_u",
          "url_char_s",
          "url_char_p",
          "url_words_with_length_5",
          "url_words_with_length_6",
          "url_char_d",
          "url_char_k",
          "url_char_-",
          "url_words_with_length_7",
          "url_char_v",
          "url_words_with_length_8",
          "url_char_j"
         ]
        }
       ],
       "layout": {
        "autosize": false,
        "height": 1000,
        "width": 1000,
        "xaxis": {
         "tickfont": {
          "color": "black",
          "size": 12
         },
         "title": "Feature Importances"
        },
        "yaxis": {
         "automargin": true
        }
       }
      },
      "text/html": [
       "<div id=\"a9b631e9-546d-465e-9b01-1b342f1dc690\" style=\"height: 1000px; width: 1000px;\" class=\"plotly-graph-div\"></div><script type=\"text/javascript\">require([\"plotly\"], function(Plotly) { window.PLOTLYENV=window.PLOTLYENV || {};window.PLOTLYENV.BASE_URL=\"https://plot.ly\";Plotly.newPlot(\"a9b631e9-546d-465e-9b01-1b342f1dc690\", [{\"marker\": {\"color\": \"rgb(158,202,225)\", \"line\": {\"color\": \"rgb(8,48,107)\", \"width\": 1.5}}, \"opacity\": 0.6, \"orientation\": \"h\", \"text\": [0.2106, 0.1657, 0.0796, 0.0504, 0.0476, 0.0409, 0.0398, 0.032, 0.0292, 0.025, 0.0209, 0.0194, 0.0186, 0.0137, 0.0128, 0.0125, 0.0117, 0.0113, 0.0111, 0.011, 0.011, 0.011, 0.0108, 0.0099, 0.0091, 0.0079, 0.0075, 0.0071, 0.0066, 0.0065, 0.0061, 0.006, 0.0059, 0.0055, 0.0054, 0.0043, 0.0034, 0.0033, 0.0033, 0.003, 0.0025], \"textposition\": \"outside\", \"x\": [0.21056863162897294, 0.1657257012968284, 0.07963625007581168, 0.050378639048365724, 0.047571430928652125, 0.04087520165604699, 0.03983119585360505, 0.031994145963985365, 0.029199642445561787, 0.0249877481076566, 0.020919913197941755, 0.01937073728966883, 0.01862437233550298, 0.013735858322688352, 0.012771564921246146, 0.01251709439932511, 0.011703266072536671, 0.011260262063454235, 0.011082400142243896, 0.011042103742677403, 0.011007104643705563, 0.010971936237734792, 0.01077495796534107, 0.009883601229575358, 0.009138071997348332, 0.007917041020121437, 0.007453091354509598, 0.007144555214552047, 0.006595808850485117, 0.006465765961749809, 0.006144131871646684, 0.006018188556445876, 0.005866717253943861, 0.005501581343453599, 0.0053858850283270004, 0.004301378365878905, 0.00341588643316266, 0.0033260468016099577, 0.0033033865154506147, 0.003047441446245432, 0.00254126241594027], \"y\": [\"url_length\", \"url_extensions\", \"url_char_.\", \"url_char_w\", \"url_number_consonants\", \"url_number_digits\", \"url_tlds\", \"url_char_z\", \"url_words_with_length_4\", \"url_number_vowels\", \"url_extension_.com\", \"url_char_b\", \"url_char_i\", \"url_char_o\", \"url_char_l\", \"url_char_n\", \"url_char_m\", \"url_char_y\", \"url_char_e\", \"url_char_t\", \"url_char_r\", \"url_char_f\", \"url_char_x\", \"url_char_h\", \"url_char_g\", \"url_extension_.i\", \"url_char_c\", \"url_extension_.net\", \"url_char_a\", \"url_char_u\", \"url_char_s\", \"url_char_p\", \"url_words_with_length_5\", \"url_words_with_length_6\", \"url_char_d\", \"url_char_k\", \"url_char_-\", \"url_words_with_length_7\", \"url_char_v\", \"url_words_with_length_8\", \"url_char_j\"], \"type\": \"bar\", \"uid\": \"8322238c-84d4-4ec4-9ea0-5489b2b21ecd\"}], {\"autosize\": false, \"height\": 1000, \"width\": 1000, \"xaxis\": {\"tickfont\": {\"color\": \"black\", \"size\": 12}, \"title\": \"Feature Importances\"}, \"yaxis\": {\"automargin\": true}}, {\"showLink\": true, \"linkText\": \"Export to plot.ly\", \"plotlyServerURL\": \"https://plot.ly\"})});</script>"
      ],
      "text/vnd.plotly.v1+html": [
       "<div id=\"a9b631e9-546d-465e-9b01-1b342f1dc690\" style=\"height: 1000px; width: 1000px;\" class=\"plotly-graph-div\"></div><script type=\"text/javascript\">require([\"plotly\"], function(Plotly) { window.PLOTLYENV=window.PLOTLYENV || {};window.PLOTLYENV.BASE_URL=\"https://plot.ly\";Plotly.newPlot(\"a9b631e9-546d-465e-9b01-1b342f1dc690\", [{\"marker\": {\"color\": \"rgb(158,202,225)\", \"line\": {\"color\": \"rgb(8,48,107)\", \"width\": 1.5}}, \"opacity\": 0.6, \"orientation\": \"h\", \"text\": [0.2106, 0.1657, 0.0796, 0.0504, 0.0476, 0.0409, 0.0398, 0.032, 0.0292, 0.025, 0.0209, 0.0194, 0.0186, 0.0137, 0.0128, 0.0125, 0.0117, 0.0113, 0.0111, 0.011, 0.011, 0.011, 0.0108, 0.0099, 0.0091, 0.0079, 0.0075, 0.0071, 0.0066, 0.0065, 0.0061, 0.006, 0.0059, 0.0055, 0.0054, 0.0043, 0.0034, 0.0033, 0.0033, 0.003, 0.0025], \"textposition\": \"outside\", \"x\": [0.21056863162897294, 0.1657257012968284, 0.07963625007581168, 0.050378639048365724, 0.047571430928652125, 0.04087520165604699, 0.03983119585360505, 0.031994145963985365, 0.029199642445561787, 0.0249877481076566, 0.020919913197941755, 0.01937073728966883, 0.01862437233550298, 0.013735858322688352, 0.012771564921246146, 0.01251709439932511, 0.011703266072536671, 0.011260262063454235, 0.011082400142243896, 0.011042103742677403, 0.011007104643705563, 0.010971936237734792, 0.01077495796534107, 0.009883601229575358, 0.009138071997348332, 0.007917041020121437, 0.007453091354509598, 0.007144555214552047, 0.006595808850485117, 0.006465765961749809, 0.006144131871646684, 0.006018188556445876, 0.005866717253943861, 0.005501581343453599, 0.0053858850283270004, 0.004301378365878905, 0.00341588643316266, 0.0033260468016099577, 0.0033033865154506147, 0.003047441446245432, 0.00254126241594027], \"y\": [\"url_length\", \"url_extensions\", \"url_char_.\", \"url_char_w\", \"url_number_consonants\", \"url_number_digits\", \"url_tlds\", \"url_char_z\", \"url_words_with_length_4\", \"url_number_vowels\", \"url_extension_.com\", \"url_char_b\", \"url_char_i\", \"url_char_o\", \"url_char_l\", \"url_char_n\", \"url_char_m\", \"url_char_y\", \"url_char_e\", \"url_char_t\", \"url_char_r\", \"url_char_f\", \"url_char_x\", \"url_char_h\", \"url_char_g\", \"url_extension_.i\", \"url_char_c\", \"url_extension_.net\", \"url_char_a\", \"url_char_u\", \"url_char_s\", \"url_char_p\", \"url_words_with_length_5\", \"url_words_with_length_6\", \"url_char_d\", \"url_char_k\", \"url_char_-\", \"url_words_with_length_7\", \"url_char_v\", \"url_words_with_length_8\", \"url_char_j\"], \"type\": \"bar\", \"uid\": \"8322238c-84d4-4ec4-9ea0-5489b2b21ecd\"}], {\"autosize\": false, \"height\": 1000, \"width\": 1000, \"xaxis\": {\"tickfont\": {\"color\": \"black\", \"size\": 12}, \"title\": \"Feature Importances\"}, \"yaxis\": {\"automargin\": true}}, {\"showLink\": true, \"linkText\": \"Export to plot.ly\", \"plotlyServerURL\": \"https://plot.ly\"})});</script>"
      ]
     },
     "metadata": {},
     "output_type": "display_data"
    }
   ],
   "source": [
    "feat_impt_plot(np.average(feat_imp,axis=0),columns)"
   ]
  },
  {
   "cell_type": "markdown",
   "metadata": {},
   "source": [
    "### <a id='4' style=\"text-decoration : none; color : #000000;\">4. Feature Transformation with feature selection </a>"
   ]
  },
  {
   "cell_type": "code",
   "execution_count": 63,
   "metadata": {},
   "outputs": [],
   "source": [
    "df.reset_index(inplace=True)\n",
    "\n",
    "# columns=columns.tolist()\n",
    "columns.append('domain')\n",
    "\n",
    "df_min=df[columns]"
   ]
  },
  {
   "cell_type": "code",
   "execution_count": 64,
   "metadata": {},
   "outputs": [
    {
     "name": "stdout",
     "output_type": "stream",
     "text": [
      "Built 3321 features\n",
      "EntitySet scattered to workers in 5.153 seconds\n",
      "Elapsed: 00:23 | Remaining: 00:00 | Progress: 100%|██████████| Calculated: 11/11 chunks\n"
     ]
    }
   ],
   "source": [
    "es = ft.EntitySet(id = 'malicious')\n",
    "es.entity_from_dataframe(entity_id = 'data', dataframe = df_min, index = 'domain')\n",
    "\n",
    "feature_matrix_sessions, features_defs = ft.dfs(entityset=es,target_entity=\"data\",\n",
    "                                                trans_primitives = ['add','divide','multiply'],n_jobs=-1,\n",
    "                                                verbose=1,max_depth=1)"
   ]
  },
  {
   "cell_type": "code",
   "execution_count": 65,
   "metadata": {},
   "outputs": [
    {
     "name": "stderr",
     "output_type": "stream",
     "text": [
      "distributed.client - ERROR - Failed to reconnect to scheduler after 10.00 seconds, closing client\n",
      "distributed.utils - ERROR - \n",
      "Traceback (most recent call last):\n",
      "  File \"/nethomes/darshan/anaconda3/lib/python3.6/site-packages/distributed/utils.py\", line 713, in log_errors\n",
      "    yield\n",
      "  File \"/nethomes/darshan/anaconda3/lib/python3.6/site-packages/distributed/client.py\", line 1223, in _close\n",
      "    quiet_exceptions=(CancelledError,),\n",
      "  File \"/nethomes/darshan/anaconda3/lib/python3.6/site-packages/tornado/gen.py\", line 584, in with_timeout\n",
      "    chain_future(future_converted, result)\n",
      "  File \"/nethomes/darshan/anaconda3/lib/python3.6/site-packages/tornado/concurrent.py\", line 166, in chain_future\n",
      "    future_add_done_callback(a, copy)\n",
      "  File \"/nethomes/darshan/anaconda3/lib/python3.6/site-packages/tornado/concurrent.py\", line 262, in future_add_done_callback\n",
      "    callback(future)\n",
      "  File \"/nethomes/darshan/anaconda3/lib/python3.6/site-packages/tornado/concurrent.py\", line 160, in copy\n",
      "    elif a.exception() is not None:\n",
      "concurrent.futures._base.CancelledError\n",
      "distributed.utils - ERROR - \n",
      "Traceback (most recent call last):\n",
      "  File \"/nethomes/darshan/anaconda3/lib/python3.6/site-packages/distributed/utils.py\", line 713, in log_errors\n",
      "    yield\n",
      "  File \"/nethomes/darshan/anaconda3/lib/python3.6/site-packages/distributed/client.py\", line 992, in _reconnect\n",
      "    yield self._close()\n",
      "  File \"/nethomes/darshan/anaconda3/lib/python3.6/site-packages/tornado/gen.py\", line 729, in run\n",
      "    value = future.result()\n",
      "  File \"/nethomes/darshan/anaconda3/lib/python3.6/site-packages/tornado/gen.py\", line 209, in wrapper\n",
      "    yielded = next(result)\n",
      "  File \"/nethomes/darshan/anaconda3/lib/python3.6/site-packages/distributed/client.py\", line 1223, in _close\n",
      "    quiet_exceptions=(CancelledError,),\n",
      "  File \"/nethomes/darshan/anaconda3/lib/python3.6/site-packages/tornado/gen.py\", line 584, in with_timeout\n",
      "    chain_future(future_converted, result)\n",
      "  File \"/nethomes/darshan/anaconda3/lib/python3.6/site-packages/tornado/concurrent.py\", line 166, in chain_future\n",
      "    future_add_done_callback(a, copy)\n",
      "  File \"/nethomes/darshan/anaconda3/lib/python3.6/site-packages/tornado/concurrent.py\", line 262, in future_add_done_callback\n",
      "    callback(future)\n",
      "  File \"/nethomes/darshan/anaconda3/lib/python3.6/site-packages/tornado/concurrent.py\", line 160, in copy\n",
      "    elif a.exception() is not None:\n",
      "concurrent.futures._base.CancelledError\n",
      "distributed.core - INFO - Event loop was unresponsive in Nanny for 3.39s.  This is often caused by long-running GIL-holding functions or moving large chunks of data. This can cause timeouts and instability.\n",
      "distributed.core - INFO - Event loop was unresponsive in Nanny for 3.40s.  This is often caused by long-running GIL-holding functions or moving large chunks of data. This can cause timeouts and instability.\n",
      "distributed.core - INFO - Event loop was unresponsive in Nanny for 3.40s.  This is often caused by long-running GIL-holding functions or moving large chunks of data. This can cause timeouts and instability.\n",
      "distributed.core - INFO - Event loop was unresponsive in Nanny for 3.40s.  This is often caused by long-running GIL-holding functions or moving large chunks of data. This can cause timeouts and instability.\n",
      "distributed.core - INFO - Event loop was unresponsive in Nanny for 3.40s.  This is often caused by long-running GIL-holding functions or moving large chunks of data. This can cause timeouts and instability.\n",
      "distributed.core - INFO - Event loop was unresponsive in Nanny for 4.18s.  This is often caused by long-running GIL-holding functions or moving large chunks of data. This can cause timeouts and instability.\n",
      "distributed.core - INFO - Event loop was unresponsive in Nanny for 4.19s.  This is often caused by long-running GIL-holding functions or moving large chunks of data. This can cause timeouts and instability.\n",
      "distributed.core - INFO - Event loop was unresponsive in Nanny for 4.24s.  This is often caused by long-running GIL-holding functions or moving large chunks of data. This can cause timeouts and instability.\n",
      "distributed.core - INFO - Event loop was unresponsive in Nanny for 5.03s.  This is often caused by long-running GIL-holding functions or moving large chunks of data. This can cause timeouts and instability.\n",
      "distributed.core - INFO - Event loop was unresponsive in Nanny for 5.03s.  This is often caused by long-running GIL-holding functions or moving large chunks of data. This can cause timeouts and instability.\n",
      "distributed.core - INFO - Event loop was unresponsive in Nanny for 5.10s.  This is often caused by long-running GIL-holding functions or moving large chunks of data. This can cause timeouts and instability.\n",
      "distributed.core - INFO - Event loop was unresponsive in Nanny for 4.62s.  This is often caused by long-running GIL-holding functions or moving large chunks of data. This can cause timeouts and instability.\n",
      "distributed.core - INFO - Event loop was unresponsive in Nanny for 4.62s.  This is often caused by long-running GIL-holding functions or moving large chunks of data. This can cause timeouts and instability.\n",
      "distributed.core - INFO - Event loop was unresponsive in Nanny for 4.62s.  This is often caused by long-running GIL-holding functions or moving large chunks of data. This can cause timeouts and instability.\n",
      "distributed.core - INFO - Event loop was unresponsive in Nanny for 5.36s.  This is often caused by long-running GIL-holding functions or moving large chunks of data. This can cause timeouts and instability.\n",
      "distributed.core - INFO - Event loop was unresponsive in Nanny for 5.36s.  This is often caused by long-running GIL-holding functions or moving large chunks of data. This can cause timeouts and instability.\n",
      "distributed.core - INFO - Event loop was unresponsive in Nanny for 4.58s.  This is often caused by long-running GIL-holding functions or moving large chunks of data. This can cause timeouts and instability.\n",
      "distributed.core - INFO - Event loop was unresponsive in Nanny for 5.35s.  This is often caused by long-running GIL-holding functions or moving large chunks of data. This can cause timeouts and instability.\n",
      "distributed.core - INFO - Event loop was unresponsive in Nanny for 5.36s.  This is often caused by long-running GIL-holding functions or moving large chunks of data. This can cause timeouts and instability.\n",
      "distributed.core - INFO - Event loop was unresponsive in Nanny for 4.57s.  This is often caused by long-running GIL-holding functions or moving large chunks of data. This can cause timeouts and instability.\n",
      "distributed.core - INFO - Event loop was unresponsive in Nanny for 4.57s.  This is often caused by long-running GIL-holding functions or moving large chunks of data. This can cause timeouts and instability.\n",
      "distributed.core - INFO - Event loop was unresponsive in Nanny for 4.50s.  This is often caused by long-running GIL-holding functions or moving large chunks of data. This can cause timeouts and instability.\n"
     ]
    }
   ],
   "source": [
    "df.set_index(['domain'],drop=True,inplace=True)\n",
    "fs=pd.merge(feature_matrix_sessions,pd.DataFrame(df.Target),left_index=True, right_index=True)\n",
    "fs.replace([np.inf],0,inplace=True)\n",
    "fs.fillna(value=0,inplace=True)"
   ]
  },
  {
   "cell_type": "code",
   "execution_count": 66,
   "metadata": {},
   "outputs": [],
   "source": [
    "X=fs.loc[:,fs.columns!='Target']\n",
    "y=fs.Target\n",
    "feature_name = X.columns.tolist()"
   ]
  },
  {
   "cell_type": "code",
   "execution_count": 67,
   "metadata": {},
   "outputs": [
    {
     "name": "stderr",
     "output_type": "stream",
     "text": [
      "distributed.utils - ERROR - \n",
      "Traceback (most recent call last):\n",
      "  File \"/nethomes/darshan/anaconda3/lib/python3.6/site-packages/distributed/utils.py\", line 713, in log_errors\n",
      "    yield\n",
      "  File \"/nethomes/darshan/anaconda3/lib/python3.6/site-packages/distributed/client.py\", line 1223, in _close\n",
      "    quiet_exceptions=(CancelledError,),\n",
      "  File \"/nethomes/darshan/anaconda3/lib/python3.6/site-packages/tornado/gen.py\", line 584, in with_timeout\n",
      "    chain_future(future_converted, result)\n",
      "  File \"/nethomes/darshan/anaconda3/lib/python3.6/site-packages/tornado/concurrent.py\", line 166, in chain_future\n",
      "    future_add_done_callback(a, copy)\n",
      "  File \"/nethomes/darshan/anaconda3/lib/python3.6/site-packages/tornado/concurrent.py\", line 262, in future_add_done_callback\n",
      "    callback(future)\n",
      "  File \"/nethomes/darshan/anaconda3/lib/python3.6/site-packages/tornado/concurrent.py\", line 160, in copy\n",
      "    elif a.exception() is not None:\n",
      "concurrent.futures._base.CancelledError\n",
      "Exception ignored in: <bound method Client.__del__ of <Client: not connected>>\n",
      "Traceback (most recent call last):\n",
      "  File \"/nethomes/darshan/anaconda3/lib/python3.6/site-packages/distributed/client.py\", line 1075, in __del__\n",
      "    self.close()\n",
      "  File \"/nethomes/darshan/anaconda3/lib/python3.6/site-packages/distributed/client.py\", line 1290, in close\n",
      "    sync(self.loop, self._close, fast=True)\n",
      "  File \"/nethomes/darshan/anaconda3/lib/python3.6/site-packages/distributed/utils.py\", line 331, in sync\n",
      "    six.reraise(*error[0])\n",
      "  File \"/nethomes/darshan/anaconda3/lib/python3.6/site-packages/six.py\", line 693, in reraise\n",
      "    raise value\n",
      "  File \"/nethomes/darshan/anaconda3/lib/python3.6/site-packages/distributed/utils.py\", line 316, in f\n",
      "    result[0] = yield future\n",
      "  File \"/nethomes/darshan/anaconda3/lib/python3.6/site-packages/tornado/gen.py\", line 729, in run\n",
      "    value = future.result()\n",
      "  File \"/nethomes/darshan/anaconda3/lib/python3.6/site-packages/tornado/gen.py\", line 209, in wrapper\n",
      "    yielded = next(result)\n",
      "  File \"/nethomes/darshan/anaconda3/lib/python3.6/site-packages/distributed/client.py\", line 1223, in _close\n",
      "    quiet_exceptions=(CancelledError,),\n",
      "  File \"/nethomes/darshan/anaconda3/lib/python3.6/site-packages/tornado/gen.py\", line 584, in with_timeout\n",
      "    chain_future(future_converted, result)\n",
      "  File \"/nethomes/darshan/anaconda3/lib/python3.6/site-packages/tornado/concurrent.py\", line 166, in chain_future\n",
      "    future_add_done_callback(a, copy)\n",
      "  File \"/nethomes/darshan/anaconda3/lib/python3.6/site-packages/tornado/concurrent.py\", line 262, in future_add_done_callback\n",
      "    callback(future)\n",
      "  File \"/nethomes/darshan/anaconda3/lib/python3.6/site-packages/tornado/concurrent.py\", line 160, in copy\n",
      "    elif a.exception() is not None:\n",
      "concurrent.futures._base.CancelledError: \n"
     ]
    }
   ],
   "source": [
    "def cor_selector(X, y):\n",
    "    cor_list = []\n",
    "    # calculate the correlation with y for each feature\n",
    "    for i in X.columns.tolist():\n",
    "        cor = np.corrcoef(X[i], y)[0, 1]\n",
    "        cor_list.append(cor)\n",
    "    # replace NaN with 0\n",
    "    cor_list = [0 if np.isnan(i) else i for i in cor_list]\n",
    "    # feature name\n",
    "    cor_feature = X.iloc[:,np.argsort(np.abs(cor_list))[-100:]].columns.tolist()\n",
    "    # feature selection? 0 for not select, 1 for select\n",
    "    cor_support = [True if i in cor_feature else False for i in feature_name]\n",
    "    return cor_support, cor_feature\n",
    "\n",
    "\n",
    "cor_support, cor_feature = cor_selector(X, y)"
   ]
  },
  {
   "cell_type": "code",
   "execution_count": 68,
   "metadata": {},
   "outputs": [],
   "source": [
    "X_norm = MinMaxScaler().fit_transform(X)\n",
    "chi_selector = SelectKBest(chi2, k=100)\n",
    "chi_selector.fit(X_norm, y)\n",
    "chi_support = chi_selector.get_support()\n",
    "chi_feature = X.loc[:,chi_support].columns.tolist()\n",
    "\n",
    "rfe_selector = RFE(estimator=LogisticRegression(random_state=0), n_features_to_select=100, step=0.3, verbose=False)\n",
    "rfe_selector.fit(X_norm, y)\n",
    "rfe_support = rfe_selector.get_support()\n",
    "rfe_feature = X.loc[:,rfe_support].columns.tolist()\n",
    "\n",
    "embeded_rf_selector = SelectFromModel(RandomForestClassifier(n_estimators=100,random_state=0), threshold='23*median')\n",
    "embeded_rf_selector.fit(X, y)\n",
    "embeded_rf_support = embeded_rf_selector.get_support()\n",
    "embeded_rf_feature = X.loc[:,embeded_rf_support].columns.tolist()\n",
    "\n",
    "feature_selection_df = pd.DataFrame({'Feature':feature_name, 'Pearson':cor_support, 'Chi-2':chi_support, 'RFE':rfe_support,\n",
    "                                    'Random Forest':embeded_rf_support})\n",
    "# count the selected times for each feature\n",
    "feature_selection_df['Total'] = np.sum(feature_selection_df, axis=1)\n",
    "# display the top 100\n",
    "feature_selection_df = feature_selection_df.sort_values(['Total','Feature'] , ascending=False)\n",
    "feature_selection_df.index = range(1, len(feature_selection_df)+1)"
   ]
  },
  {
   "cell_type": "code",
   "execution_count": 69,
   "metadata": {},
   "outputs": [
    {
     "name": "stdout",
     "output_type": "stream",
     "text": [
      "The train/test split ratio is 80:20\n"
     ]
    },
    {
     "data": {
      "text/plain": [
       "(46771, 33)"
      ]
     },
     "execution_count": 69,
     "metadata": {},
     "output_type": "execute_result"
    }
   ],
   "source": [
    "X=fs[feature_selection_df[feature_selection_df.Total>=3]['Feature']]\n",
    "X.fillna(value=0,inplace=True)\n",
    "y=fs.Target.values\n",
    "feature_name = X.columns.tolist()\n",
    "\n",
    "scaler=StandardScaler()\n",
    "scaled_X=scaler.fit_transform(X)\n",
    "\n",
    "print(\"The train/test split ratio is 80:20\")\n",
    "X_train, X_test, Y_train, Y_test = train_test_split(scaled_X,y,random_state=0,test_size=0.2)\n",
    "\n",
    "X.shape"
   ]
  },
  {
   "cell_type": "code",
   "execution_count": 70,
   "metadata": {},
   "outputs": [
    {
     "name": "stdout",
     "output_type": "stream",
     "text": [
      "Features we will be using:\n",
      "\n"
     ]
    },
    {
     "data": {
      "text/plain": [
       "['url_char_w * url_extensions',\n",
       " 'url_length + url_words_with_length_7',\n",
       " 'url_length + url_tlds',\n",
       " 'url_extension_.com / url_char_.',\n",
       " 'url_extension_.com + url_length',\n",
       " 'url_char_y + url_length',\n",
       " 'url_char_w + url_length',\n",
       " 'url_char_w + url_extensions',\n",
       " 'url_char_w + url_char_z',\n",
       " 'url_char_v + url_length',\n",
       " 'url_char_u + url_length',\n",
       " 'url_char_s + url_length',\n",
       " 'url_char_r + url_length',\n",
       " 'url_char_o + url_length',\n",
       " 'url_char_m + url_length',\n",
       " 'url_char_l + url_length',\n",
       " 'url_char_k + url_length',\n",
       " 'url_char_k + url_extensions',\n",
       " 'url_char_j + url_length',\n",
       " 'url_char_i + url_length',\n",
       " 'url_char_h + url_length',\n",
       " 'url_char_g + url_length',\n",
       " 'url_char_f + url_length',\n",
       " 'url_char_e + url_length',\n",
       " 'url_char_c + url_length',\n",
       " 'url_char_b + url_length',\n",
       " 'url_char_a + url_length',\n",
       " 'url_char_. + url_length',\n",
       " 'url_char_. + url_char_z',\n",
       " 'url_char_. + url_char_w',\n",
       " 'url_char_. + url_char_j',\n",
       " 'url_char_.',\n",
       " 'url_char_- + url_length']"
      ]
     },
     "metadata": {},
     "output_type": "display_data"
    }
   ],
   "source": [
    "print('Features we will be using:\\n')\n",
    "display(feature_name)"
   ]
  },
  {
   "cell_type": "code",
   "execution_count": 71,
   "metadata": {},
   "outputs": [],
   "source": [
    "fs=fs.reindex(df_sel.index.values)"
   ]
  },
  {
   "cell_type": "code",
   "execution_count": 72,
   "metadata": {},
   "outputs": [],
   "source": [
    "train=fs.iloc[:37417]\n",
    "train_Y=train.Target.values\n",
    "train_X=train[feature_name].values\n",
    "\n",
    "\n",
    "scaler=StandardScaler()\n",
    "scaled_X_train=scaler.fit_transform(train_X)\n",
    "\n",
    "test=fs.iloc[37417:]\n",
    "test_Y=test.Target.values\n",
    "test_X=test[feature_name]\n",
    "\n",
    "scaled_X_test=scaler.transform(test_X)"
   ]
  },
  {
   "cell_type": "code",
   "execution_count": 73,
   "metadata": {},
   "outputs": [],
   "source": [
    "## Table to store training and test measures so we can compare later\n",
    "table_80_60_train=pd.DataFrame(columns=['accuracy','TP','TN','FP','FN','FPR','FNR'])\n",
    "table_80_60_test=pd.DataFrame(columns=['accuracy','TP','TN','FP','FN','FPR','FNR','auc','mcc'])"
   ]
  },
  {
   "cell_type": "code",
   "execution_count": 74,
   "metadata": {
    "scrolled": false
   },
   "outputs": [
    {
     "name": "stdout",
     "output_type": "stream",
     "text": [
      "\u001b[1mK-Nearest Neighbors\u001b[0m\n",
      "Accuracy of the model for training data is: 0.961301012908571\n",
      "Confusion Matrix for training data is:\n"
     ]
    },
    {
     "data": {
      "text/plain": [
       "Predicted  False  True  __all__\n",
       "Actual                         \n",
       "False      31556   336    31892\n",
       "True        1112  4413     5525\n",
       "__all__    32668  4749    37417"
      ]
     },
     "metadata": {},
     "output_type": "display_data"
    },
    {
     "name": "stdout",
     "output_type": "stream",
     "text": [
      "Accuracy of the model for test data is: 0.953068206115031\n",
      "Confusion Matrix for test data is:\n"
     ]
    },
    {
     "data": {
      "text/plain": [
       "Predicted  False  True  __all__\n",
       "Actual                         \n",
       "False       7850   135     7985\n",
       "True         304  1065     1369\n",
       "__all__     8154  1200     9354"
      ]
     },
     "metadata": {},
     "output_type": "display_data"
    },
    {
     "name": "stdout",
     "output_type": "stream",
     "text": [
      "\n",
      "\n",
      "\u001b[1mLogistic Regression\u001b[0m\n",
      "Accuracy of the model for training data is: 0.9427265681374776\n",
      "Confusion Matrix for training data is:\n"
     ]
    },
    {
     "data": {
      "text/plain": [
       "Predicted  False  True  __all__\n",
       "Actual                         \n",
       "False      31413   479    31892\n",
       "True        1664  3861     5525\n",
       "__all__    33077  4340    37417"
      ]
     },
     "metadata": {},
     "output_type": "display_data"
    },
    {
     "name": "stdout",
     "output_type": "stream",
     "text": [
      "Accuracy of the model for test data is: 0.943767372247167\n",
      "Confusion Matrix for test data is:\n"
     ]
    },
    {
     "data": {
      "text/plain": [
       "Predicted  False  True  __all__\n",
       "Actual                         \n",
       "False       7854   131     7985\n",
       "True         395   974     1369\n",
       "__all__     8249  1105     9354"
      ]
     },
     "metadata": {},
     "output_type": "display_data"
    },
    {
     "name": "stdout",
     "output_type": "stream",
     "text": [
      "\n",
      "\n",
      "\u001b[1mRandomForest Classifier\u001b[0m\n",
      "Accuracy of the model for training data is: 0.9932116417671112\n",
      "Confusion Matrix for training data is:\n"
     ]
    },
    {
     "data": {
      "text/plain": [
       "Predicted  False  True  __all__\n",
       "Actual                         \n",
       "False      31878    14    31892\n",
       "True         240  5285     5525\n",
       "__all__    32118  5299    37417"
      ]
     },
     "metadata": {},
     "output_type": "display_data"
    },
    {
     "name": "stdout",
     "output_type": "stream",
     "text": [
      "Accuracy of the model for test data is: 0.9545648920248022\n",
      "Confusion Matrix for test data is:\n"
     ]
    },
    {
     "data": {
      "text/plain": [
       "Predicted  False  True  __all__\n",
       "Actual                         \n",
       "False       7875   110     7985\n",
       "True         315  1054     1369\n",
       "__all__     8190  1164     9354"
      ]
     },
     "metadata": {},
     "output_type": "display_data"
    },
    {
     "data": {
      "application/vnd.plotly.v1+json": {
       "config": {
        "linkText": "Export to plot.ly",
        "plotlyServerURL": "https://plot.ly",
        "showLink": true
       },
       "data": [
        {
         "marker": {
          "color": "rgb(158,202,225)",
          "line": {
           "color": "rgb(8,48,107)",
           "width": 1.5
          }
         },
         "opacity": 0.6,
         "orientation": "h",
         "text": [
          0.0869,
          0.0766,
          0.0722,
          0.0622,
          0.0544,
          0.0521,
          0.0509,
          0.0456,
          0.0317,
          0.0311,
          0.031,
          0.0284,
          0.0278,
          0.0254,
          0.0247,
          0.0229,
          0.0225,
          0.0216,
          0.0215,
          0.0214,
          0.0213,
          0.0212,
          0.0196,
          0.0174,
          0.017,
          0.0169,
          0.0154,
          0.0128,
          0.012,
          0.0105,
          0.0096,
          0.0084,
          0.0071
         ],
         "textposition": "outside",
         "type": "bar",
         "uid": "e1999e75-b2a9-4cb0-8da6-8cfb130362cf",
         "x": [
          0.08693076635830448,
          0.07661670542270399,
          0.07218779982072744,
          0.062182928271095186,
          0.05435677727784777,
          0.052080588270801066,
          0.05085877637573436,
          0.04564175788066269,
          0.03166254965649096,
          0.031092918822311695,
          0.030988038008012347,
          0.028357449547239753,
          0.0277614919090934,
          0.025402831468527187,
          0.024685635386855982,
          0.02286903559691649,
          0.02245807076255544,
          0.0216351261033084,
          0.021541275394642852,
          0.021440361338824255,
          0.0212745158478378,
          0.021229508210968355,
          0.019637540593067413,
          0.017383681741582155,
          0.016970097828520644,
          0.01688642316581359,
          0.01543423218541776,
          0.01283670718998255,
          0.012043699804406257,
          0.010490516064110163,
          0.009595779820732054,
          0.008395266917947836,
          0.007071146956957747
         ],
         "y": [
          "url_char_u + url_length",
          "url_char_k + url_length",
          "url_char_w + url_extensions",
          "url_char_w + url_length",
          "url_length + url_tlds",
          "url_char_. + url_length",
          "url_char_h + url_length",
          "url_char_v + url_length",
          "url_char_k + url_extensions",
          "url_char_w + url_char_z",
          "url_char_. + url_char_w",
          "url_char_.",
          "url_extension_.com / url_char_.",
          "url_char_. + url_char_z",
          "url_char_w * url_extensions",
          "url_char_f + url_length",
          "url_char_e + url_length",
          "url_char_o + url_length",
          "url_char_. + url_char_j",
          "url_char_i + url_length",
          "url_char_b + url_length",
          "url_char_a + url_length",
          "url_char_y + url_length",
          "url_char_s + url_length",
          "url_char_r + url_length",
          "url_char_c + url_length",
          "url_char_l + url_length",
          "url_char_m + url_length",
          "url_char_g + url_length",
          "url_char_j + url_length",
          "url_length + url_words_with_length_7",
          "url_extension_.com + url_length",
          "url_char_- + url_length"
         ]
        }
       ],
       "layout": {
        "autosize": false,
        "height": 1000,
        "width": 1000,
        "xaxis": {
         "tickfont": {
          "color": "black",
          "size": 12
         },
         "title": "Feature Importances"
        },
        "yaxis": {
         "automargin": true
        }
       }
      },
      "text/html": [
       "<div id=\"eef017b5-817e-40db-a204-821ca6b50d19\" style=\"height: 1000px; width: 1000px;\" class=\"plotly-graph-div\"></div><script type=\"text/javascript\">require([\"plotly\"], function(Plotly) { window.PLOTLYENV=window.PLOTLYENV || {};window.PLOTLYENV.BASE_URL=\"https://plot.ly\";Plotly.newPlot(\"eef017b5-817e-40db-a204-821ca6b50d19\", [{\"marker\": {\"color\": \"rgb(158,202,225)\", \"line\": {\"color\": \"rgb(8,48,107)\", \"width\": 1.5}}, \"opacity\": 0.6, \"orientation\": \"h\", \"text\": [0.0869, 0.0766, 0.0722, 0.0622, 0.0544, 0.0521, 0.0509, 0.0456, 0.0317, 0.0311, 0.031, 0.0284, 0.0278, 0.0254, 0.0247, 0.0229, 0.0225, 0.0216, 0.0215, 0.0214, 0.0213, 0.0212, 0.0196, 0.0174, 0.017, 0.0169, 0.0154, 0.0128, 0.012, 0.0105, 0.0096, 0.0084, 0.0071], \"textposition\": \"outside\", \"x\": [0.08693076635830448, 0.07661670542270399, 0.07218779982072744, 0.062182928271095186, 0.05435677727784777, 0.052080588270801066, 0.05085877637573436, 0.04564175788066269, 0.03166254965649096, 0.031092918822311695, 0.030988038008012347, 0.028357449547239753, 0.0277614919090934, 0.025402831468527187, 0.024685635386855982, 0.02286903559691649, 0.02245807076255544, 0.0216351261033084, 0.021541275394642852, 0.021440361338824255, 0.0212745158478378, 0.021229508210968355, 0.019637540593067413, 0.017383681741582155, 0.016970097828520644, 0.01688642316581359, 0.01543423218541776, 0.01283670718998255, 0.012043699804406257, 0.010490516064110163, 0.009595779820732054, 0.008395266917947836, 0.007071146956957747], \"y\": [\"url_char_u + url_length\", \"url_char_k + url_length\", \"url_char_w + url_extensions\", \"url_char_w + url_length\", \"url_length + url_tlds\", \"url_char_. + url_length\", \"url_char_h + url_length\", \"url_char_v + url_length\", \"url_char_k + url_extensions\", \"url_char_w + url_char_z\", \"url_char_. + url_char_w\", \"url_char_.\", \"url_extension_.com / url_char_.\", \"url_char_. + url_char_z\", \"url_char_w * url_extensions\", \"url_char_f + url_length\", \"url_char_e + url_length\", \"url_char_o + url_length\", \"url_char_. + url_char_j\", \"url_char_i + url_length\", \"url_char_b + url_length\", \"url_char_a + url_length\", \"url_char_y + url_length\", \"url_char_s + url_length\", \"url_char_r + url_length\", \"url_char_c + url_length\", \"url_char_l + url_length\", \"url_char_m + url_length\", \"url_char_g + url_length\", \"url_char_j + url_length\", \"url_length + url_words_with_length_7\", \"url_extension_.com + url_length\", \"url_char_- + url_length\"], \"type\": \"bar\", \"uid\": \"e1999e75-b2a9-4cb0-8da6-8cfb130362cf\"}], {\"autosize\": false, \"height\": 1000, \"width\": 1000, \"xaxis\": {\"tickfont\": {\"color\": \"black\", \"size\": 12}, \"title\": \"Feature Importances\"}, \"yaxis\": {\"automargin\": true}}, {\"showLink\": true, \"linkText\": \"Export to plot.ly\", \"plotlyServerURL\": \"https://plot.ly\"})});</script>"
      ],
      "text/vnd.plotly.v1+html": [
       "<div id=\"eef017b5-817e-40db-a204-821ca6b50d19\" style=\"height: 1000px; width: 1000px;\" class=\"plotly-graph-div\"></div><script type=\"text/javascript\">require([\"plotly\"], function(Plotly) { window.PLOTLYENV=window.PLOTLYENV || {};window.PLOTLYENV.BASE_URL=\"https://plot.ly\";Plotly.newPlot(\"eef017b5-817e-40db-a204-821ca6b50d19\", [{\"marker\": {\"color\": \"rgb(158,202,225)\", \"line\": {\"color\": \"rgb(8,48,107)\", \"width\": 1.5}}, \"opacity\": 0.6, \"orientation\": \"h\", \"text\": [0.0869, 0.0766, 0.0722, 0.0622, 0.0544, 0.0521, 0.0509, 0.0456, 0.0317, 0.0311, 0.031, 0.0284, 0.0278, 0.0254, 0.0247, 0.0229, 0.0225, 0.0216, 0.0215, 0.0214, 0.0213, 0.0212, 0.0196, 0.0174, 0.017, 0.0169, 0.0154, 0.0128, 0.012, 0.0105, 0.0096, 0.0084, 0.0071], \"textposition\": \"outside\", \"x\": [0.08693076635830448, 0.07661670542270399, 0.07218779982072744, 0.062182928271095186, 0.05435677727784777, 0.052080588270801066, 0.05085877637573436, 0.04564175788066269, 0.03166254965649096, 0.031092918822311695, 0.030988038008012347, 0.028357449547239753, 0.0277614919090934, 0.025402831468527187, 0.024685635386855982, 0.02286903559691649, 0.02245807076255544, 0.0216351261033084, 0.021541275394642852, 0.021440361338824255, 0.0212745158478378, 0.021229508210968355, 0.019637540593067413, 0.017383681741582155, 0.016970097828520644, 0.01688642316581359, 0.01543423218541776, 0.01283670718998255, 0.012043699804406257, 0.010490516064110163, 0.009595779820732054, 0.008395266917947836, 0.007071146956957747], \"y\": [\"url_char_u + url_length\", \"url_char_k + url_length\", \"url_char_w + url_extensions\", \"url_char_w + url_length\", \"url_length + url_tlds\", \"url_char_. + url_length\", \"url_char_h + url_length\", \"url_char_v + url_length\", \"url_char_k + url_extensions\", \"url_char_w + url_char_z\", \"url_char_. + url_char_w\", \"url_char_.\", \"url_extension_.com / url_char_.\", \"url_char_. + url_char_z\", \"url_char_w * url_extensions\", \"url_char_f + url_length\", \"url_char_e + url_length\", \"url_char_o + url_length\", \"url_char_. + url_char_j\", \"url_char_i + url_length\", \"url_char_b + url_length\", \"url_char_a + url_length\", \"url_char_y + url_length\", \"url_char_s + url_length\", \"url_char_r + url_length\", \"url_char_c + url_length\", \"url_char_l + url_length\", \"url_char_m + url_length\", \"url_char_g + url_length\", \"url_char_j + url_length\", \"url_length + url_words_with_length_7\", \"url_extension_.com + url_length\", \"url_char_- + url_length\"], \"type\": \"bar\", \"uid\": \"e1999e75-b2a9-4cb0-8da6-8cfb130362cf\"}], {\"autosize\": false, \"height\": 1000, \"width\": 1000, \"xaxis\": {\"tickfont\": {\"color\": \"black\", \"size\": 12}, \"title\": \"Feature Importances\"}, \"yaxis\": {\"automargin\": true}}, {\"showLink\": true, \"linkText\": \"Export to plot.ly\", \"plotlyServerURL\": \"https://plot.ly\"})});</script>"
      ]
     },
     "metadata": {},
     "output_type": "display_data"
    },
    {
     "name": "stdout",
     "output_type": "stream",
     "text": [
      "\n",
      "\n",
      "\u001b[1mAdaoost Classifier\u001b[0m\n",
      "Accuracy of the model for training data is: 0.9404815992730577\n",
      "Confusion Matrix for training data is:\n"
     ]
    },
    {
     "data": {
      "text/plain": [
       "Predicted  False  True  __all__\n",
       "Actual                         \n",
       "False      31394   498    31892\n",
       "True        1729  3796     5525\n",
       "__all__    33123  4294    37417"
      ]
     },
     "metadata": {},
     "output_type": "display_data"
    },
    {
     "name": "stdout",
     "output_type": "stream",
     "text": [
      "Accuracy of the model for test data is: 0.9399187513363267\n",
      "Confusion Matrix for test data is:\n"
     ]
    },
    {
     "data": {
      "text/plain": [
       "Predicted  False  True  __all__\n",
       "Actual                         \n",
       "False       7849   136     7985\n",
       "True         426   943     1369\n",
       "__all__     8275  1079     9354"
      ]
     },
     "metadata": {},
     "output_type": "display_data"
    },
    {
     "data": {
      "application/vnd.plotly.v1+json": {
       "config": {
        "linkText": "Export to plot.ly",
        "plotlyServerURL": "https://plot.ly",
        "showLink": true
       },
       "data": [
        {
         "marker": {
          "color": "rgb(158,202,225)",
          "line": {
           "color": "rgb(8,48,107)",
           "width": 1.5
          }
         },
         "opacity": 0.6,
         "orientation": "h",
         "text": [
          0.12,
          0.1,
          0.1,
          0.08,
          0.08,
          0.08,
          0.06,
          0.06,
          0.06,
          0.04,
          0.04,
          0.04,
          0.04,
          0.04,
          0.02,
          0.02,
          0.02,
          0,
          0,
          0,
          0,
          0,
          0,
          0,
          0,
          0,
          0,
          0,
          0,
          0,
          0,
          0,
          0
         ],
         "textposition": "outside",
         "type": "bar",
         "uid": "f5dce8b6-afb1-4244-bf5b-b02ca6698374",
         "x": [
          0.12,
          0.1,
          0.1,
          0.08,
          0.08,
          0.08,
          0.06,
          0.06,
          0.06,
          0.04,
          0.04,
          0.04,
          0.04,
          0.04,
          0.02,
          0.02,
          0.02,
          0,
          0,
          0,
          0,
          0,
          0,
          0,
          0,
          0,
          0,
          0,
          0,
          0,
          0,
          0,
          0
         ],
         "y": [
          "url_char_. + url_length",
          "url_char_b + url_length",
          "url_char_w + url_extensions",
          "url_char_k + url_extensions",
          "url_char_o + url_length",
          "url_char_. + url_char_z",
          "url_char_. + url_char_w",
          "url_char_i + url_length",
          "url_char_w * url_extensions",
          "url_char_s + url_length",
          "url_char_y + url_length",
          "url_char_c + url_length",
          "url_extension_.com / url_char_.",
          "url_char_.",
          "url_char_r + url_length",
          "url_extension_.com + url_length",
          "url_char_f + url_length",
          "url_char_. + url_char_j",
          "url_char_g + url_length",
          "url_char_a + url_length",
          "url_char_e + url_length",
          "url_char_k + url_length",
          "url_char_h + url_length",
          "url_char_j + url_length",
          "url_length + url_words_with_length_7",
          "url_char_l + url_length",
          "url_char_m + url_length",
          "url_char_u + url_length",
          "url_char_v + url_length",
          "url_char_w + url_char_z",
          "url_char_w + url_length",
          "url_length + url_tlds",
          "url_char_- + url_length"
         ]
        }
       ],
       "layout": {
        "autosize": false,
        "height": 1000,
        "width": 1000,
        "xaxis": {
         "tickfont": {
          "color": "black",
          "size": 12
         },
         "title": "Feature Importances"
        },
        "yaxis": {
         "automargin": true
        }
       }
      },
      "text/html": [
       "<div id=\"17ac055f-bd25-45a3-8bb4-904790676c2b\" style=\"height: 1000px; width: 1000px;\" class=\"plotly-graph-div\"></div><script type=\"text/javascript\">require([\"plotly\"], function(Plotly) { window.PLOTLYENV=window.PLOTLYENV || {};window.PLOTLYENV.BASE_URL=\"https://plot.ly\";Plotly.newPlot(\"17ac055f-bd25-45a3-8bb4-904790676c2b\", [{\"marker\": {\"color\": \"rgb(158,202,225)\", \"line\": {\"color\": \"rgb(8,48,107)\", \"width\": 1.5}}, \"opacity\": 0.6, \"orientation\": \"h\", \"text\": [0.12, 0.1, 0.1, 0.08, 0.08, 0.08, 0.06, 0.06, 0.06, 0.04, 0.04, 0.04, 0.04, 0.04, 0.02, 0.02, 0.02, 0.0, 0.0, 0.0, 0.0, 0.0, 0.0, 0.0, 0.0, 0.0, 0.0, 0.0, 0.0, 0.0, 0.0, 0.0, 0.0], \"textposition\": \"outside\", \"x\": [0.12, 0.1, 0.1, 0.08, 0.08, 0.08, 0.06, 0.06, 0.06, 0.04, 0.04, 0.04, 0.04, 0.04, 0.02, 0.02, 0.02, 0.0, 0.0, 0.0, 0.0, 0.0, 0.0, 0.0, 0.0, 0.0, 0.0, 0.0, 0.0, 0.0, 0.0, 0.0, 0.0], \"y\": [\"url_char_. + url_length\", \"url_char_b + url_length\", \"url_char_w + url_extensions\", \"url_char_k + url_extensions\", \"url_char_o + url_length\", \"url_char_. + url_char_z\", \"url_char_. + url_char_w\", \"url_char_i + url_length\", \"url_char_w * url_extensions\", \"url_char_s + url_length\", \"url_char_y + url_length\", \"url_char_c + url_length\", \"url_extension_.com / url_char_.\", \"url_char_.\", \"url_char_r + url_length\", \"url_extension_.com + url_length\", \"url_char_f + url_length\", \"url_char_. + url_char_j\", \"url_char_g + url_length\", \"url_char_a + url_length\", \"url_char_e + url_length\", \"url_char_k + url_length\", \"url_char_h + url_length\", \"url_char_j + url_length\", \"url_length + url_words_with_length_7\", \"url_char_l + url_length\", \"url_char_m + url_length\", \"url_char_u + url_length\", \"url_char_v + url_length\", \"url_char_w + url_char_z\", \"url_char_w + url_length\", \"url_length + url_tlds\", \"url_char_- + url_length\"], \"type\": \"bar\", \"uid\": \"f5dce8b6-afb1-4244-bf5b-b02ca6698374\"}], {\"autosize\": false, \"height\": 1000, \"width\": 1000, \"xaxis\": {\"tickfont\": {\"color\": \"black\", \"size\": 12}, \"title\": \"Feature Importances\"}, \"yaxis\": {\"automargin\": true}}, {\"showLink\": true, \"linkText\": \"Export to plot.ly\", \"plotlyServerURL\": \"https://plot.ly\"})});</script>"
      ],
      "text/vnd.plotly.v1+html": [
       "<div id=\"17ac055f-bd25-45a3-8bb4-904790676c2b\" style=\"height: 1000px; width: 1000px;\" class=\"plotly-graph-div\"></div><script type=\"text/javascript\">require([\"plotly\"], function(Plotly) { window.PLOTLYENV=window.PLOTLYENV || {};window.PLOTLYENV.BASE_URL=\"https://plot.ly\";Plotly.newPlot(\"17ac055f-bd25-45a3-8bb4-904790676c2b\", [{\"marker\": {\"color\": \"rgb(158,202,225)\", \"line\": {\"color\": \"rgb(8,48,107)\", \"width\": 1.5}}, \"opacity\": 0.6, \"orientation\": \"h\", \"text\": [0.12, 0.1, 0.1, 0.08, 0.08, 0.08, 0.06, 0.06, 0.06, 0.04, 0.04, 0.04, 0.04, 0.04, 0.02, 0.02, 0.02, 0.0, 0.0, 0.0, 0.0, 0.0, 0.0, 0.0, 0.0, 0.0, 0.0, 0.0, 0.0, 0.0, 0.0, 0.0, 0.0], \"textposition\": \"outside\", \"x\": [0.12, 0.1, 0.1, 0.08, 0.08, 0.08, 0.06, 0.06, 0.06, 0.04, 0.04, 0.04, 0.04, 0.04, 0.02, 0.02, 0.02, 0.0, 0.0, 0.0, 0.0, 0.0, 0.0, 0.0, 0.0, 0.0, 0.0, 0.0, 0.0, 0.0, 0.0, 0.0, 0.0], \"y\": [\"url_char_. + url_length\", \"url_char_b + url_length\", \"url_char_w + url_extensions\", \"url_char_k + url_extensions\", \"url_char_o + url_length\", \"url_char_. + url_char_z\", \"url_char_. + url_char_w\", \"url_char_i + url_length\", \"url_char_w * url_extensions\", \"url_char_s + url_length\", \"url_char_y + url_length\", \"url_char_c + url_length\", \"url_extension_.com / url_char_.\", \"url_char_.\", \"url_char_r + url_length\", \"url_extension_.com + url_length\", \"url_char_f + url_length\", \"url_char_. + url_char_j\", \"url_char_g + url_length\", \"url_char_a + url_length\", \"url_char_e + url_length\", \"url_char_k + url_length\", \"url_char_h + url_length\", \"url_char_j + url_length\", \"url_length + url_words_with_length_7\", \"url_char_l + url_length\", \"url_char_m + url_length\", \"url_char_u + url_length\", \"url_char_v + url_length\", \"url_char_w + url_char_z\", \"url_char_w + url_length\", \"url_length + url_tlds\", \"url_char_- + url_length\"], \"type\": \"bar\", \"uid\": \"f5dce8b6-afb1-4244-bf5b-b02ca6698374\"}], {\"autosize\": false, \"height\": 1000, \"width\": 1000, \"xaxis\": {\"tickfont\": {\"color\": \"black\", \"size\": 12}, \"title\": \"Feature Importances\"}, \"yaxis\": {\"automargin\": true}}, {\"showLink\": true, \"linkText\": \"Export to plot.ly\", \"plotlyServerURL\": \"https://plot.ly\"})});</script>"
      ]
     },
     "metadata": {},
     "output_type": "display_data"
    },
    {
     "name": "stdout",
     "output_type": "stream",
     "text": [
      "\n",
      "\n",
      "\u001b[1mGradientBoosting Classifier\u001b[0m\n",
      "Accuracy of the model for training data is: 0.9510115722799797\n",
      "Confusion Matrix for training data is:\n"
     ]
    },
    {
     "data": {
      "text/plain": [
       "Predicted  False  True  __all__\n",
       "Actual                         \n",
       "False      31413   479    31892\n",
       "True        1354  4171     5525\n",
       "__all__    32767  4650    37417"
      ]
     },
     "metadata": {},
     "output_type": "display_data"
    },
    {
     "name": "stdout",
     "output_type": "stream",
     "text": [
      "Accuracy of the model for test data is: 0.9497541158862519\n",
      "Confusion Matrix for test data is:\n"
     ]
    },
    {
     "data": {
      "text/plain": [
       "Predicted  False  True  __all__\n",
       "Actual                         \n",
       "False       7857   128     7985\n",
       "True         342  1027     1369\n",
       "__all__     8199  1155     9354"
      ]
     },
     "metadata": {},
     "output_type": "display_data"
    },
    {
     "data": {
      "application/vnd.plotly.v1+json": {
       "config": {
        "linkText": "Export to plot.ly",
        "plotlyServerURL": "https://plot.ly",
        "showLink": true
       },
       "data": [
        {
         "marker": {
          "color": "rgb(158,202,225)",
          "line": {
           "color": "rgb(8,48,107)",
           "width": 1.5
          }
         },
         "opacity": 0.6,
         "orientation": "h",
         "text": [
          0.4148,
          0.1627,
          0.113,
          0.0704,
          0.059,
          0.055,
          0.0351,
          0.0149,
          0.0145,
          0.0115,
          0.0093,
          0.0092,
          0.0067,
          0.0043,
          0.004,
          0.0024,
          0.0023,
          0.0022,
          0.0017,
          0.0015,
          0.0011,
          0.0007,
          0.0006,
          0.0006,
          0.0004,
          0.0004,
          0.0004,
          0.0004,
          0.0003,
          0.0003,
          0.0003,
          0.0001,
          0
         ],
         "textposition": "outside",
         "type": "bar",
         "uid": "c465e133-2541-4c77-a1a1-a536cac37cea",
         "x": [
          0.41478601461478753,
          0.1626914777226347,
          0.11296005710524519,
          0.0703792620403148,
          0.05904362862255483,
          0.0549738255548814,
          0.03511097597110512,
          0.014941500799937776,
          0.014515390660692209,
          0.011495778128221588,
          0.009322263027999825,
          0.009198042515213788,
          0.006740496551930886,
          0.004277192259610101,
          0.004042086528192816,
          0.002374186913169349,
          0.002257373841001519,
          0.002194207078455601,
          0.0017126623409420116,
          0.001479940886608728,
          0.0010739545660638284,
          0.0006725404146307707,
          0.0006211021017201696,
          0.0005778525137484931,
          0.00044791715665389037,
          0.00041064150108140803,
          0.0003832334519093358,
          0.0003751444904222011,
          0.0003115128831892703,
          0.0002855753737758381,
          0.0002548976038722606,
          6.863018419186888e-05,
          2.0634595240894287e-05
         ],
         "y": [
          "url_char_. + url_length",
          "url_char_w + url_extensions",
          "url_char_w + url_length",
          "url_char_.",
          "url_extension_.com / url_char_.",
          "url_char_. + url_char_z",
          "url_char_. + url_char_w",
          "url_char_k + url_extensions",
          "url_char_w + url_char_z",
          "url_char_w * url_extensions",
          "url_char_o + url_length",
          "url_char_b + url_length",
          "url_char_y + url_length",
          "url_length + url_tlds",
          "url_char_k + url_length",
          "url_char_. + url_char_j",
          "url_char_f + url_length",
          "url_char_i + url_length",
          "url_char_j + url_length",
          "url_char_r + url_length",
          "url_char_- + url_length",
          "url_char_c + url_length",
          "url_length + url_words_with_length_7",
          "url_char_g + url_length",
          "url_extension_.com + url_length",
          "url_char_s + url_length",
          "url_char_h + url_length",
          "url_char_u + url_length",
          "url_char_e + url_length",
          "url_char_l + url_length",
          "url_char_a + url_length",
          "url_char_m + url_length",
          "url_char_v + url_length"
         ]
        }
       ],
       "layout": {
        "autosize": false,
        "height": 1000,
        "width": 1000,
        "xaxis": {
         "tickfont": {
          "color": "black",
          "size": 12
         },
         "title": "Feature Importances"
        },
        "yaxis": {
         "automargin": true
        }
       }
      },
      "text/html": [
       "<div id=\"29d16419-8457-4c17-b349-b91cedca76f0\" style=\"height: 1000px; width: 1000px;\" class=\"plotly-graph-div\"></div><script type=\"text/javascript\">require([\"plotly\"], function(Plotly) { window.PLOTLYENV=window.PLOTLYENV || {};window.PLOTLYENV.BASE_URL=\"https://plot.ly\";Plotly.newPlot(\"29d16419-8457-4c17-b349-b91cedca76f0\", [{\"marker\": {\"color\": \"rgb(158,202,225)\", \"line\": {\"color\": \"rgb(8,48,107)\", \"width\": 1.5}}, \"opacity\": 0.6, \"orientation\": \"h\", \"text\": [0.4148, 0.1627, 0.113, 0.0704, 0.059, 0.055, 0.0351, 0.0149, 0.0145, 0.0115, 0.0093, 0.0092, 0.0067, 0.0043, 0.004, 0.0024, 0.0023, 0.0022, 0.0017, 0.0015, 0.0011, 0.0007, 0.0006, 0.0006, 0.0004, 0.0004, 0.0004, 0.0004, 0.0003, 0.0003, 0.0003, 0.0001, 0.0], \"textposition\": \"outside\", \"x\": [0.41478601461478753, 0.1626914777226347, 0.11296005710524519, 0.0703792620403148, 0.05904362862255483, 0.0549738255548814, 0.03511097597110512, 0.014941500799937776, 0.014515390660692209, 0.011495778128221588, 0.009322263027999825, 0.009198042515213788, 0.006740496551930886, 0.004277192259610101, 0.004042086528192816, 0.002374186913169349, 0.002257373841001519, 0.002194207078455601, 0.0017126623409420116, 0.001479940886608728, 0.0010739545660638284, 0.0006725404146307707, 0.0006211021017201696, 0.0005778525137484931, 0.00044791715665389037, 0.00041064150108140803, 0.0003832334519093358, 0.0003751444904222011, 0.0003115128831892703, 0.0002855753737758381, 0.0002548976038722606, 6.863018419186888e-05, 2.0634595240894287e-05], \"y\": [\"url_char_. + url_length\", \"url_char_w + url_extensions\", \"url_char_w + url_length\", \"url_char_.\", \"url_extension_.com / url_char_.\", \"url_char_. + url_char_z\", \"url_char_. + url_char_w\", \"url_char_k + url_extensions\", \"url_char_w + url_char_z\", \"url_char_w * url_extensions\", \"url_char_o + url_length\", \"url_char_b + url_length\", \"url_char_y + url_length\", \"url_length + url_tlds\", \"url_char_k + url_length\", \"url_char_. + url_char_j\", \"url_char_f + url_length\", \"url_char_i + url_length\", \"url_char_j + url_length\", \"url_char_r + url_length\", \"url_char_- + url_length\", \"url_char_c + url_length\", \"url_length + url_words_with_length_7\", \"url_char_g + url_length\", \"url_extension_.com + url_length\", \"url_char_s + url_length\", \"url_char_h + url_length\", \"url_char_u + url_length\", \"url_char_e + url_length\", \"url_char_l + url_length\", \"url_char_a + url_length\", \"url_char_m + url_length\", \"url_char_v + url_length\"], \"type\": \"bar\", \"uid\": \"c465e133-2541-4c77-a1a1-a536cac37cea\"}], {\"autosize\": false, \"height\": 1000, \"width\": 1000, \"xaxis\": {\"tickfont\": {\"color\": \"black\", \"size\": 12}, \"title\": \"Feature Importances\"}, \"yaxis\": {\"automargin\": true}}, {\"showLink\": true, \"linkText\": \"Export to plot.ly\", \"plotlyServerURL\": \"https://plot.ly\"})});</script>"
      ],
      "text/vnd.plotly.v1+html": [
       "<div id=\"29d16419-8457-4c17-b349-b91cedca76f0\" style=\"height: 1000px; width: 1000px;\" class=\"plotly-graph-div\"></div><script type=\"text/javascript\">require([\"plotly\"], function(Plotly) { window.PLOTLYENV=window.PLOTLYENV || {};window.PLOTLYENV.BASE_URL=\"https://plot.ly\";Plotly.newPlot(\"29d16419-8457-4c17-b349-b91cedca76f0\", [{\"marker\": {\"color\": \"rgb(158,202,225)\", \"line\": {\"color\": \"rgb(8,48,107)\", \"width\": 1.5}}, \"opacity\": 0.6, \"orientation\": \"h\", \"text\": [0.4148, 0.1627, 0.113, 0.0704, 0.059, 0.055, 0.0351, 0.0149, 0.0145, 0.0115, 0.0093, 0.0092, 0.0067, 0.0043, 0.004, 0.0024, 0.0023, 0.0022, 0.0017, 0.0015, 0.0011, 0.0007, 0.0006, 0.0006, 0.0004, 0.0004, 0.0004, 0.0004, 0.0003, 0.0003, 0.0003, 0.0001, 0.0], \"textposition\": \"outside\", \"x\": [0.41478601461478753, 0.1626914777226347, 0.11296005710524519, 0.0703792620403148, 0.05904362862255483, 0.0549738255548814, 0.03511097597110512, 0.014941500799937776, 0.014515390660692209, 0.011495778128221588, 0.009322263027999825, 0.009198042515213788, 0.006740496551930886, 0.004277192259610101, 0.004042086528192816, 0.002374186913169349, 0.002257373841001519, 0.002194207078455601, 0.0017126623409420116, 0.001479940886608728, 0.0010739545660638284, 0.0006725404146307707, 0.0006211021017201696, 0.0005778525137484931, 0.00044791715665389037, 0.00041064150108140803, 0.0003832334519093358, 0.0003751444904222011, 0.0003115128831892703, 0.0002855753737758381, 0.0002548976038722606, 6.863018419186888e-05, 2.0634595240894287e-05], \"y\": [\"url_char_. + url_length\", \"url_char_w + url_extensions\", \"url_char_w + url_length\", \"url_char_.\", \"url_extension_.com / url_char_.\", \"url_char_. + url_char_z\", \"url_char_. + url_char_w\", \"url_char_k + url_extensions\", \"url_char_w + url_char_z\", \"url_char_w * url_extensions\", \"url_char_o + url_length\", \"url_char_b + url_length\", \"url_char_y + url_length\", \"url_length + url_tlds\", \"url_char_k + url_length\", \"url_char_. + url_char_j\", \"url_char_f + url_length\", \"url_char_i + url_length\", \"url_char_j + url_length\", \"url_char_r + url_length\", \"url_char_- + url_length\", \"url_char_c + url_length\", \"url_length + url_words_with_length_7\", \"url_char_g + url_length\", \"url_extension_.com + url_length\", \"url_char_s + url_length\", \"url_char_h + url_length\", \"url_char_u + url_length\", \"url_char_e + url_length\", \"url_char_l + url_length\", \"url_char_a + url_length\", \"url_char_m + url_length\", \"url_char_v + url_length\"], \"type\": \"bar\", \"uid\": \"c465e133-2541-4c77-a1a1-a536cac37cea\"}], {\"autosize\": false, \"height\": 1000, \"width\": 1000, \"xaxis\": {\"tickfont\": {\"color\": \"black\", \"size\": 12}, \"title\": \"Feature Importances\"}, \"yaxis\": {\"automargin\": true}}, {\"showLink\": true, \"linkText\": \"Export to plot.ly\", \"plotlyServerURL\": \"https://plot.ly\"})});</script>"
      ]
     },
     "metadata": {},
     "output_type": "display_data"
    },
    {
     "name": "stdout",
     "output_type": "stream",
     "text": [
      "\n",
      "\n",
      "\u001b[1mExtraTree Classifier\u001b[0m\n",
      "Accuracy of the model for training data is: 0.9997861934414838\n",
      "Confusion Matrix for training data is:\n"
     ]
    },
    {
     "data": {
      "text/plain": [
       "Predicted  False  True  __all__\n",
       "Actual                         \n",
       "False      31892     0    31892\n",
       "True           8  5517     5525\n",
       "__all__    31900  5517    37417"
      ]
     },
     "metadata": {},
     "output_type": "display_data"
    },
    {
     "name": "stdout",
     "output_type": "stream",
     "text": [
      "Accuracy of the model for test data is: 0.9531751122514432\n",
      "Confusion Matrix for test data is:\n"
     ]
    },
    {
     "data": {
      "text/plain": [
       "Predicted  False  True  __all__\n",
       "Actual                         \n",
       "False       7857   128     7985\n",
       "True         310  1059     1369\n",
       "__all__     8167  1187     9354"
      ]
     },
     "metadata": {},
     "output_type": "display_data"
    },
    {
     "data": {
      "application/vnd.plotly.v1+json": {
       "config": {
        "linkText": "Export to plot.ly",
        "plotlyServerURL": "https://plot.ly",
        "showLink": true
       },
       "data": [
        {
         "marker": {
          "color": "rgb(158,202,225)",
          "line": {
           "color": "rgb(8,48,107)",
           "width": 1.5
          }
         },
         "opacity": 0.6,
         "orientation": "h",
         "text": [
          0.074,
          0.0691,
          0.064,
          0.0602,
          0.0513,
          0.049,
          0.0458,
          0.0451,
          0.0425,
          0.0356,
          0.0348,
          0.032,
          0.0313,
          0.0293,
          0.0255,
          0.0252,
          0.0249,
          0.0226,
          0.0225,
          0.0205,
          0.019,
          0.0185,
          0.0185,
          0.0176,
          0.0174,
          0.0165,
          0.0156,
          0.0151,
          0.0134,
          0.013,
          0.0128,
          0.0106,
          0.0068
         ],
         "textposition": "outside",
         "type": "bar",
         "uid": "46554682-3ce9-4f0e-b0c1-8d9677ed50a5",
         "x": [
          0.07395312179608023,
          0.06914060344965987,
          0.06395470912922518,
          0.060229234035939924,
          0.0513345345893375,
          0.04901263104715922,
          0.04579018032816074,
          0.04510511990299725,
          0.042476424015609186,
          0.03558436881226795,
          0.03484564291401198,
          0.03195213762061136,
          0.03132534551625758,
          0.029297761920428374,
          0.025501562299789542,
          0.02518536334081746,
          0.024944439910374663,
          0.02262572895292127,
          0.022544172228811877,
          0.020464140945892686,
          0.019017773833704236,
          0.018528668031642798,
          0.018488918390128065,
          0.017640437118358148,
          0.017386622904331902,
          0.016492872140371043,
          0.015633929227828844,
          0.015059424571197818,
          0.013366739670470541,
          0.013017079147554268,
          0.012756740493265924,
          0.010566365766584809,
          0.0067772059482078826
         ],
         "y": [
          "url_char_i + url_length",
          "url_char_o + url_length",
          "url_char_w + url_extensions",
          "url_char_. + url_char_z",
          "url_extension_.com / url_char_.",
          "url_char_- + url_length",
          "url_char_. + url_char_w",
          "url_char_k + url_extensions",
          "url_char_a + url_length",
          "url_char_w * url_extensions",
          "url_char_b + url_length",
          "url_char_v + url_length",
          "url_char_m + url_length",
          "url_char_w + url_char_z",
          "url_extension_.com + url_length",
          "url_length + url_tlds",
          "url_char_r + url_length",
          "url_char_y + url_length",
          "url_char_l + url_length",
          "url_char_e + url_length",
          "url_char_k + url_length",
          "url_char_.",
          "url_char_s + url_length",
          "url_char_u + url_length",
          "url_char_. + url_char_j",
          "url_char_c + url_length",
          "url_char_f + url_length",
          "url_char_h + url_length",
          "url_char_g + url_length",
          "url_length + url_words_with_length_7",
          "url_char_. + url_length",
          "url_char_w + url_length",
          "url_char_j + url_length"
         ]
        }
       ],
       "layout": {
        "autosize": false,
        "height": 1000,
        "width": 1000,
        "xaxis": {
         "tickfont": {
          "color": "black",
          "size": 12
         },
         "title": "Feature Importances"
        },
        "yaxis": {
         "automargin": true
        }
       }
      },
      "text/html": [
       "<div id=\"02e3b36f-38af-4d64-81b6-2d6d44611445\" style=\"height: 1000px; width: 1000px;\" class=\"plotly-graph-div\"></div><script type=\"text/javascript\">require([\"plotly\"], function(Plotly) { window.PLOTLYENV=window.PLOTLYENV || {};window.PLOTLYENV.BASE_URL=\"https://plot.ly\";Plotly.newPlot(\"02e3b36f-38af-4d64-81b6-2d6d44611445\", [{\"marker\": {\"color\": \"rgb(158,202,225)\", \"line\": {\"color\": \"rgb(8,48,107)\", \"width\": 1.5}}, \"opacity\": 0.6, \"orientation\": \"h\", \"text\": [0.074, 0.0691, 0.064, 0.0602, 0.0513, 0.049, 0.0458, 0.0451, 0.0425, 0.0356, 0.0348, 0.032, 0.0313, 0.0293, 0.0255, 0.0252, 0.0249, 0.0226, 0.0225, 0.0205, 0.019, 0.0185, 0.0185, 0.0176, 0.0174, 0.0165, 0.0156, 0.0151, 0.0134, 0.013, 0.0128, 0.0106, 0.0068], \"textposition\": \"outside\", \"x\": [0.07395312179608023, 0.06914060344965987, 0.06395470912922518, 0.060229234035939924, 0.0513345345893375, 0.04901263104715922, 0.04579018032816074, 0.04510511990299725, 0.042476424015609186, 0.03558436881226795, 0.03484564291401198, 0.03195213762061136, 0.03132534551625758, 0.029297761920428374, 0.025501562299789542, 0.02518536334081746, 0.024944439910374663, 0.02262572895292127, 0.022544172228811877, 0.020464140945892686, 0.019017773833704236, 0.018528668031642798, 0.018488918390128065, 0.017640437118358148, 0.017386622904331902, 0.016492872140371043, 0.015633929227828844, 0.015059424571197818, 0.013366739670470541, 0.013017079147554268, 0.012756740493265924, 0.010566365766584809, 0.0067772059482078826], \"y\": [\"url_char_i + url_length\", \"url_char_o + url_length\", \"url_char_w + url_extensions\", \"url_char_. + url_char_z\", \"url_extension_.com / url_char_.\", \"url_char_- + url_length\", \"url_char_. + url_char_w\", \"url_char_k + url_extensions\", \"url_char_a + url_length\", \"url_char_w * url_extensions\", \"url_char_b + url_length\", \"url_char_v + url_length\", \"url_char_m + url_length\", \"url_char_w + url_char_z\", \"url_extension_.com + url_length\", \"url_length + url_tlds\", \"url_char_r + url_length\", \"url_char_y + url_length\", \"url_char_l + url_length\", \"url_char_e + url_length\", \"url_char_k + url_length\", \"url_char_.\", \"url_char_s + url_length\", \"url_char_u + url_length\", \"url_char_. + url_char_j\", \"url_char_c + url_length\", \"url_char_f + url_length\", \"url_char_h + url_length\", \"url_char_g + url_length\", \"url_length + url_words_with_length_7\", \"url_char_. + url_length\", \"url_char_w + url_length\", \"url_char_j + url_length\"], \"type\": \"bar\", \"uid\": \"46554682-3ce9-4f0e-b0c1-8d9677ed50a5\"}], {\"autosize\": false, \"height\": 1000, \"width\": 1000, \"xaxis\": {\"tickfont\": {\"color\": \"black\", \"size\": 12}, \"title\": \"Feature Importances\"}, \"yaxis\": {\"automargin\": true}}, {\"showLink\": true, \"linkText\": \"Export to plot.ly\", \"plotlyServerURL\": \"https://plot.ly\"})});</script>"
      ],
      "text/vnd.plotly.v1+html": [
       "<div id=\"02e3b36f-38af-4d64-81b6-2d6d44611445\" style=\"height: 1000px; width: 1000px;\" class=\"plotly-graph-div\"></div><script type=\"text/javascript\">require([\"plotly\"], function(Plotly) { window.PLOTLYENV=window.PLOTLYENV || {};window.PLOTLYENV.BASE_URL=\"https://plot.ly\";Plotly.newPlot(\"02e3b36f-38af-4d64-81b6-2d6d44611445\", [{\"marker\": {\"color\": \"rgb(158,202,225)\", \"line\": {\"color\": \"rgb(8,48,107)\", \"width\": 1.5}}, \"opacity\": 0.6, \"orientation\": \"h\", \"text\": [0.074, 0.0691, 0.064, 0.0602, 0.0513, 0.049, 0.0458, 0.0451, 0.0425, 0.0356, 0.0348, 0.032, 0.0313, 0.0293, 0.0255, 0.0252, 0.0249, 0.0226, 0.0225, 0.0205, 0.019, 0.0185, 0.0185, 0.0176, 0.0174, 0.0165, 0.0156, 0.0151, 0.0134, 0.013, 0.0128, 0.0106, 0.0068], \"textposition\": \"outside\", \"x\": [0.07395312179608023, 0.06914060344965987, 0.06395470912922518, 0.060229234035939924, 0.0513345345893375, 0.04901263104715922, 0.04579018032816074, 0.04510511990299725, 0.042476424015609186, 0.03558436881226795, 0.03484564291401198, 0.03195213762061136, 0.03132534551625758, 0.029297761920428374, 0.025501562299789542, 0.02518536334081746, 0.024944439910374663, 0.02262572895292127, 0.022544172228811877, 0.020464140945892686, 0.019017773833704236, 0.018528668031642798, 0.018488918390128065, 0.017640437118358148, 0.017386622904331902, 0.016492872140371043, 0.015633929227828844, 0.015059424571197818, 0.013366739670470541, 0.013017079147554268, 0.012756740493265924, 0.010566365766584809, 0.0067772059482078826], \"y\": [\"url_char_i + url_length\", \"url_char_o + url_length\", \"url_char_w + url_extensions\", \"url_char_. + url_char_z\", \"url_extension_.com / url_char_.\", \"url_char_- + url_length\", \"url_char_. + url_char_w\", \"url_char_k + url_extensions\", \"url_char_a + url_length\", \"url_char_w * url_extensions\", \"url_char_b + url_length\", \"url_char_v + url_length\", \"url_char_m + url_length\", \"url_char_w + url_char_z\", \"url_extension_.com + url_length\", \"url_length + url_tlds\", \"url_char_r + url_length\", \"url_char_y + url_length\", \"url_char_l + url_length\", \"url_char_e + url_length\", \"url_char_k + url_length\", \"url_char_.\", \"url_char_s + url_length\", \"url_char_u + url_length\", \"url_char_. + url_char_j\", \"url_char_c + url_length\", \"url_char_f + url_length\", \"url_char_h + url_length\", \"url_char_g + url_length\", \"url_length + url_words_with_length_7\", \"url_char_. + url_length\", \"url_char_w + url_length\", \"url_char_j + url_length\"], \"type\": \"bar\", \"uid\": \"46554682-3ce9-4f0e-b0c1-8d9677ed50a5\"}], {\"autosize\": false, \"height\": 1000, \"width\": 1000, \"xaxis\": {\"tickfont\": {\"color\": \"black\", \"size\": 12}, \"title\": \"Feature Importances\"}, \"yaxis\": {\"automargin\": true}}, {\"showLink\": true, \"linkText\": \"Export to plot.ly\", \"plotlyServerURL\": \"https://plot.ly\"})});</script>"
      ]
     },
     "metadata": {},
     "output_type": "display_data"
    },
    {
     "name": "stdout",
     "output_type": "stream",
     "text": [
      "\n",
      "\n",
      "\u001b[1mBagging Classifier\u001b[0m\n",
      "Accuracy of the model for training data is: 0.9934788999652564\n",
      "Confusion Matrix for training data is:\n"
     ]
    },
    {
     "data": {
      "text/plain": [
       "Predicted  False  True  __all__\n",
       "Actual                         \n",
       "False      31881    11    31892\n",
       "True         233  5292     5525\n",
       "__all__    32114  5303    37417"
      ]
     },
     "metadata": {},
     "output_type": "display_data"
    },
    {
     "name": "stdout",
     "output_type": "stream",
     "text": [
      "Accuracy of the model for test data is: 0.9545648920248022\n",
      "Confusion Matrix for test data is:\n"
     ]
    },
    {
     "data": {
      "text/plain": [
       "Predicted  False  True  __all__\n",
       "Actual                         \n",
       "False       7867   118     7985\n",
       "True         307  1062     1369\n",
       "__all__     8174  1180     9354"
      ]
     },
     "metadata": {},
     "output_type": "display_data"
    },
    {
     "name": "stdout",
     "output_type": "stream",
     "text": [
      "\n",
      "\n",
      "\u001b[1mNeural Network-1\u001b[0m\n",
      "The accuracy of the model on training data is: 0.967180693267766\n"
     ]
    },
    {
     "data": {
      "text/plain": [
       "Predicted  False  True  __all__\n",
       "Actual                         \n",
       "False      31743   149    31892\n",
       "True        1079  4446     5525\n",
       "__all__    32822  4595    37417"
      ]
     },
     "metadata": {},
     "output_type": "display_data"
    },
    {
     "name": "stdout",
     "output_type": "stream",
     "text": [
      "The accuracy of the model on test data is: 0.9583066067992303\n"
     ]
    },
    {
     "data": {
      "text/plain": [
       "Predicted  False  True  __all__\n",
       "Actual                         \n",
       "False       7902    83     7985\n",
       "True         307  1062     1369\n",
       "__all__     8209  1145     9354"
      ]
     },
     "metadata": {},
     "output_type": "display_data"
    },
    {
     "name": "stdout",
     "output_type": "stream",
     "text": [
      "\n",
      "\n"
     ]
    }
   ],
   "source": [
    "feat_imp=[None]*4\n",
    "j=0\n",
    "for i in range(0,8):\n",
    "    if i>=2 and i<=5:\n",
    "        model,cm_train,cm_test,acc_train,acc_test,roc_auc,feat_imp[j],mcc=f[i](scaled_X_train,train_Y,scaled_X_test,test_Y,feature_name)\n",
    "        j=j+1\n",
    "    else:\n",
    "        model,cm_train,cm_test,acc_train,acc_test,roc_auc,mcc=f[i](scaled_X_train,train_Y,scaled_X_test,test_Y)\n",
    "    table_80_60_train.loc[i]=   ([acc_train,cm_train.TP,cm_train.TN,cm_train.FP,cm_train.FN,cm_train.FPR,cm_train.FNR])\n",
    "    table_80_60_test.loc[i] =   ([acc_test ,cm_test.TP, cm_test.TN, cm_test.FP, cm_test.FN, cm_test.FPR, cm_test.FNR,roc_auc,mcc])\n",
    "    print(\"\\n\")"
   ]
  },
  {
   "cell_type": "markdown",
   "metadata": {},
   "source": [
    "### <a id='4.A' style=\"text-decoration : none; color : #000000;\"> A. Results</a>"
   ]
  },
  {
   "cell_type": "code",
   "execution_count": 75,
   "metadata": {},
   "outputs": [
    {
     "data": {
      "application/vnd.plotly.v1+json": {
       "config": {
        "linkText": "Export to plot.ly",
        "plotlyServerURL": "https://plot.ly",
        "showLink": true
       },
       "data": [
        {
         "mode": "lines",
         "name": "KNN_model",
         "type": "scatter",
         "uid": "2c4b1252-6b18-4389-88be-ef71c1d00315",
         "x": [
          "accuracy",
          "FPR",
          "FNR",
          "auc"
         ],
         "y": [
          0.953068206115031,
          0.016906700062617408,
          0.2220598977355734,
          0.8805167011009046
         ]
        },
        {
         "mode": "lines+markers",
         "name": "Logistic Regression",
         "type": "scatter",
         "uid": "907b4a4d-3cf4-414b-8276-d529e1d5715a",
         "x": [
          "accuracy",
          "FPR",
          "FNR",
          "auc"
         ],
         "y": [
          0.943767372247167,
          0.016405760801502817,
          0.2885317750182615,
          0.8475312320901178
         ]
        },
        {
         "marker": {
          "symbol": "x"
         },
         "mode": "lines+markers",
         "name": "Random Forest",
         "type": "scatter",
         "uid": "c25c3d5c-3e55-4290-b30e-fc57dafd28d9",
         "x": [
          "accuracy",
          "FPR",
          "FNR",
          "auc"
         ],
         "y": [
          0.9545648920248022,
          0.013775829680651221,
          0.23009495982468955,
          0.8780646052473295
         ]
        },
        {
         "mode": "lines",
         "name": "Ada Boost",
         "type": "scatter",
         "uid": "8f692517-cac0-4cf9-ae32-fd816f9a79b6",
         "x": [
          "accuracy",
          "FPR",
          "FNR",
          "auc"
         ],
         "y": [
          0.9399187513363267,
          0.017031934877896057,
          0.3111760409057706,
          0.8358960121081667
         ]
        },
        {
         "mode": "lines+markers",
         "name": "GradientBoosting",
         "type": "scatter",
         "uid": "378fde35-526d-4a3d-8634-c0514515fda3",
         "x": [
          "accuracy",
          "FPR",
          "FNR",
          "auc"
         ],
         "y": [
          0.9497541158862519,
          0.016030056355666875,
          0.2498173849525201,
          0.8670762793459066
         ]
        },
        {
         "marker": {
          "symbol": "x"
         },
         "mode": "lines+markers",
         "name": "ExtraTree Classifier",
         "type": "scatter",
         "uid": "e09e22ab-a939-4c62-898b-ba4c88ba64d9",
         "x": [
          "accuracy",
          "FPR",
          "FNR",
          "auc"
         ],
         "y": [
          0.9531751122514432,
          0.016030056355666875,
          0.2264426588750913,
          0.8787636423846208
         ]
        },
        {
         "marker": {
          "symbol": "x"
         },
         "mode": "lines+markers",
         "name": "Bagging",
         "type": "scatter",
         "uid": "3d03f403-df09-4abe-970a-f7d442e0dddd",
         "x": [
          "accuracy",
          "FPR",
          "FNR",
          "auc"
         ],
         "y": [
          0.9545648920248022,
          0.0147777082028804,
          0.22425127830533237,
          0.8804855067458937
         ]
        },
        {
         "marker": {
          "symbol": "x"
         },
         "mode": "lines+markers",
         "name": "Neural Network",
         "type": "scatter",
         "uid": "0a34bbf4-e44b-4290-af59-a358e59efb89",
         "x": [
          "accuracy",
          "FPR",
          "FNR",
          "auc"
         ],
         "y": [
          0.9583066067992303,
          0.010394489668127739,
          0.22425127830533237,
          0.88267711601327
         ]
        }
       ],
       "layout": {
        "title": "Result comparision for Features selected in Section 1",
        "yaxis": {
         "dtick": 0.05,
         "tick0": 0
        }
       }
      },
      "text/html": [
       "<div id=\"b582b42a-1c7a-4ab8-a2dc-40b8eaa433b1\" style=\"height: 525px; width: 100%;\" class=\"plotly-graph-div\"></div><script type=\"text/javascript\">require([\"plotly\"], function(Plotly) { window.PLOTLYENV=window.PLOTLYENV || {};window.PLOTLYENV.BASE_URL=\"https://plot.ly\";Plotly.newPlot(\"b582b42a-1c7a-4ab8-a2dc-40b8eaa433b1\", [{\"mode\": \"lines\", \"name\": \"KNN_model\", \"x\": [\"accuracy\", \"FPR\", \"FNR\", \"auc\"], \"y\": [0.953068206115031, 0.016906700062617408, 0.2220598977355734, 0.8805167011009046], \"type\": \"scatter\", \"uid\": \"2c4b1252-6b18-4389-88be-ef71c1d00315\"}, {\"mode\": \"lines+markers\", \"name\": \"Logistic Regression\", \"x\": [\"accuracy\", \"FPR\", \"FNR\", \"auc\"], \"y\": [0.943767372247167, 0.016405760801502817, 0.2885317750182615, 0.8475312320901178], \"type\": \"scatter\", \"uid\": \"907b4a4d-3cf4-414b-8276-d529e1d5715a\"}, {\"marker\": {\"symbol\": \"x\"}, \"mode\": \"lines+markers\", \"name\": \"Random Forest\", \"x\": [\"accuracy\", \"FPR\", \"FNR\", \"auc\"], \"y\": [0.9545648920248022, 0.013775829680651221, 0.23009495982468955, 0.8780646052473295], \"type\": \"scatter\", \"uid\": \"c25c3d5c-3e55-4290-b30e-fc57dafd28d9\"}, {\"mode\": \"lines\", \"name\": \"Ada Boost\", \"x\": [\"accuracy\", \"FPR\", \"FNR\", \"auc\"], \"y\": [0.9399187513363267, 0.017031934877896057, 0.3111760409057706, 0.8358960121081667], \"type\": \"scatter\", \"uid\": \"8f692517-cac0-4cf9-ae32-fd816f9a79b6\"}, {\"mode\": \"lines+markers\", \"name\": \"GradientBoosting\", \"x\": [\"accuracy\", \"FPR\", \"FNR\", \"auc\"], \"y\": [0.9497541158862519, 0.016030056355666875, 0.2498173849525201, 0.8670762793459066], \"type\": \"scatter\", \"uid\": \"378fde35-526d-4a3d-8634-c0514515fda3\"}, {\"marker\": {\"symbol\": \"x\"}, \"mode\": \"lines+markers\", \"name\": \"ExtraTree Classifier\", \"x\": [\"accuracy\", \"FPR\", \"FNR\", \"auc\"], \"y\": [0.9531751122514432, 0.016030056355666875, 0.2264426588750913, 0.8787636423846208], \"type\": \"scatter\", \"uid\": \"e09e22ab-a939-4c62-898b-ba4c88ba64d9\"}, {\"marker\": {\"symbol\": \"x\"}, \"mode\": \"lines+markers\", \"name\": \"Bagging\", \"x\": [\"accuracy\", \"FPR\", \"FNR\", \"auc\"], \"y\": [0.9545648920248022, 0.0147777082028804, 0.22425127830533237, 0.8804855067458937], \"type\": \"scatter\", \"uid\": \"3d03f403-df09-4abe-970a-f7d442e0dddd\"}, {\"marker\": {\"symbol\": \"x\"}, \"mode\": \"lines+markers\", \"name\": \"Neural Network\", \"x\": [\"accuracy\", \"FPR\", \"FNR\", \"auc\"], \"y\": [0.9583066067992303, 0.010394489668127739, 0.22425127830533237, 0.88267711601327], \"type\": \"scatter\", \"uid\": \"0a34bbf4-e44b-4290-af59-a358e59efb89\"}], {\"title\": \"Result comparision for Features selected in Section 1\", \"yaxis\": {\"dtick\": 0.05, \"tick0\": 0}}, {\"showLink\": true, \"linkText\": \"Export to plot.ly\", \"plotlyServerURL\": \"https://plot.ly\"})});</script><script type=\"text/javascript\">window.addEventListener(\"resize\", function(){window._Plotly.Plots.resize(document.getElementById(\"b582b42a-1c7a-4ab8-a2dc-40b8eaa433b1\"));});</script>"
      ],
      "text/vnd.plotly.v1+html": [
       "<div id=\"b582b42a-1c7a-4ab8-a2dc-40b8eaa433b1\" style=\"height: 525px; width: 100%;\" class=\"plotly-graph-div\"></div><script type=\"text/javascript\">require([\"plotly\"], function(Plotly) { window.PLOTLYENV=window.PLOTLYENV || {};window.PLOTLYENV.BASE_URL=\"https://plot.ly\";Plotly.newPlot(\"b582b42a-1c7a-4ab8-a2dc-40b8eaa433b1\", [{\"mode\": \"lines\", \"name\": \"KNN_model\", \"x\": [\"accuracy\", \"FPR\", \"FNR\", \"auc\"], \"y\": [0.953068206115031, 0.016906700062617408, 0.2220598977355734, 0.8805167011009046], \"type\": \"scatter\", \"uid\": \"2c4b1252-6b18-4389-88be-ef71c1d00315\"}, {\"mode\": \"lines+markers\", \"name\": \"Logistic Regression\", \"x\": [\"accuracy\", \"FPR\", \"FNR\", \"auc\"], \"y\": [0.943767372247167, 0.016405760801502817, 0.2885317750182615, 0.8475312320901178], \"type\": \"scatter\", \"uid\": \"907b4a4d-3cf4-414b-8276-d529e1d5715a\"}, {\"marker\": {\"symbol\": \"x\"}, \"mode\": \"lines+markers\", \"name\": \"Random Forest\", \"x\": [\"accuracy\", \"FPR\", \"FNR\", \"auc\"], \"y\": [0.9545648920248022, 0.013775829680651221, 0.23009495982468955, 0.8780646052473295], \"type\": \"scatter\", \"uid\": \"c25c3d5c-3e55-4290-b30e-fc57dafd28d9\"}, {\"mode\": \"lines\", \"name\": \"Ada Boost\", \"x\": [\"accuracy\", \"FPR\", \"FNR\", \"auc\"], \"y\": [0.9399187513363267, 0.017031934877896057, 0.3111760409057706, 0.8358960121081667], \"type\": \"scatter\", \"uid\": \"8f692517-cac0-4cf9-ae32-fd816f9a79b6\"}, {\"mode\": \"lines+markers\", \"name\": \"GradientBoosting\", \"x\": [\"accuracy\", \"FPR\", \"FNR\", \"auc\"], \"y\": [0.9497541158862519, 0.016030056355666875, 0.2498173849525201, 0.8670762793459066], \"type\": \"scatter\", \"uid\": \"378fde35-526d-4a3d-8634-c0514515fda3\"}, {\"marker\": {\"symbol\": \"x\"}, \"mode\": \"lines+markers\", \"name\": \"ExtraTree Classifier\", \"x\": [\"accuracy\", \"FPR\", \"FNR\", \"auc\"], \"y\": [0.9531751122514432, 0.016030056355666875, 0.2264426588750913, 0.8787636423846208], \"type\": \"scatter\", \"uid\": \"e09e22ab-a939-4c62-898b-ba4c88ba64d9\"}, {\"marker\": {\"symbol\": \"x\"}, \"mode\": \"lines+markers\", \"name\": \"Bagging\", \"x\": [\"accuracy\", \"FPR\", \"FNR\", \"auc\"], \"y\": [0.9545648920248022, 0.0147777082028804, 0.22425127830533237, 0.8804855067458937], \"type\": \"scatter\", \"uid\": \"3d03f403-df09-4abe-970a-f7d442e0dddd\"}, {\"marker\": {\"symbol\": \"x\"}, \"mode\": \"lines+markers\", \"name\": \"Neural Network\", \"x\": [\"accuracy\", \"FPR\", \"FNR\", \"auc\"], \"y\": [0.9583066067992303, 0.010394489668127739, 0.22425127830533237, 0.88267711601327], \"type\": \"scatter\", \"uid\": \"0a34bbf4-e44b-4290-af59-a358e59efb89\"}], {\"title\": \"Result comparision for Features selected in Section 1\", \"yaxis\": {\"dtick\": 0.05, \"tick0\": 0}}, {\"showLink\": true, \"linkText\": \"Export to plot.ly\", \"plotlyServerURL\": \"https://plot.ly\"})});</script><script type=\"text/javascript\">window.addEventListener(\"resize\", function(){window._Plotly.Plots.resize(document.getElementById(\"b582b42a-1c7a-4ab8-a2dc-40b8eaa433b1\"));});</script>"
      ]
     },
     "metadata": {},
     "output_type": "display_data"
    }
   ],
   "source": [
    "trace0 = go.Scatter(x=table_80_60_test.iloc[0].index.values[[0,5,6,7]],\n",
    "                    y=table_80_60_test.iloc[0].values[[0,5,6,7]],\n",
    "                    mode = 'lines',\n",
    "                    name = 'KNN_model')\n",
    "\n",
    "trace1 = go.Scatter(x=table_80_60_test.iloc[1].index.values[[0,5,6,7]],\n",
    "                    y=table_80_60_test.iloc[1].values[[0,5,6,7]],\n",
    "                    mode = 'lines+markers',\n",
    "                    name = 'Logistic Regression')\n",
    "\n",
    "trace2 = go.Scatter(x=table_80_60_test.iloc[2].index.values[[0,5,6,7]],\n",
    "                    y=table_80_60_test.iloc[2].values[[0,5,6,7]],\n",
    "                    mode = 'lines+markers',marker=dict(symbol='x'),\n",
    "                    name = 'Random Forest')\n",
    "\n",
    "\n",
    "trace3 = go.Scatter(x=table_80_60_test.iloc[3].index.values[[0,5,6,7]],\n",
    "                    y=table_80_60_test.iloc[3].values[[0,5,6,7]],\n",
    "                    mode = 'lines',\n",
    "                    name = 'Ada Boost')\n",
    "\n",
    "trace4 = go.Scatter(x=table_80_60_test.iloc[4].index.values[[0,5,6,7]],\n",
    "                    y=table_80_60_test.iloc[4].values[[0,5,6,7]],\n",
    "                    mode = 'lines+markers',\n",
    "                    name = 'GradientBoosting')\n",
    "\n",
    "trace5 = go.Scatter(x=table_80_60_test.iloc[5].index.values[[0,5,6,7]],\n",
    "                    y=table_80_60_test.iloc[5].values[[0,5,6,7]],\n",
    "                    mode = 'lines+markers',marker=dict(symbol='x'),\n",
    "                    name = 'ExtraTree Classifier')\n",
    "\n",
    "trace6 = go.Scatter(x=table_80_60_test.iloc[6].index.values[[0,5,6,7]],\n",
    "                    y=table_80_60_test.iloc[6].values[[0,5,6,7]],\n",
    "                    mode = 'lines+markers',marker=dict(symbol='x'),\n",
    "                    name = 'Bagging')\n",
    "\n",
    "trace7 = go.Scatter(x=table_80_60_test.iloc[7].index.values[[0,5,6,7]],\n",
    "                    y=table_80_60_test.iloc[7].values[[0,5,6,7]],\n",
    "                    mode = 'lines+markers',marker=dict(symbol='x'),\n",
    "                    name = 'Neural Network')\n",
    "\n",
    "\n",
    "\n",
    "data = [trace0, trace1, trace2, trace3, trace4, trace5, trace6, trace7]\n",
    "layout = go.Layout(yaxis=dict(tick0=0,dtick=0.05),title='Result comparision for Features selected in Section 1')\n",
    "fig = go.Figure(data=data, layout=layout)\n",
    "\n",
    "iplot(fig, filename='Result')"
   ]
  },
  {
   "cell_type": "code",
   "execution_count": 76,
   "metadata": {},
   "outputs": [
    {
     "name": "stdout",
     "output_type": "stream",
     "text": [
      "Training Results\n"
     ]
    },
    {
     "data": {
      "text/html": [
       "<div>\n",
       "<style scoped>\n",
       "    .dataframe tbody tr th:only-of-type {\n",
       "        vertical-align: middle;\n",
       "    }\n",
       "\n",
       "    .dataframe tbody tr th {\n",
       "        vertical-align: top;\n",
       "    }\n",
       "\n",
       "    .dataframe thead th {\n",
       "        text-align: right;\n",
       "    }\n",
       "</style>\n",
       "<table border=\"1\" class=\"dataframe\">\n",
       "  <thead>\n",
       "    <tr style=\"text-align: right;\">\n",
       "      <th></th>\n",
       "      <th>accuracy</th>\n",
       "      <th>TP</th>\n",
       "      <th>TN</th>\n",
       "      <th>FP</th>\n",
       "      <th>FN</th>\n",
       "      <th>FPR</th>\n",
       "      <th>FNR</th>\n",
       "    </tr>\n",
       "    <tr>\n",
       "      <th>index</th>\n",
       "      <th></th>\n",
       "      <th></th>\n",
       "      <th></th>\n",
       "      <th></th>\n",
       "      <th></th>\n",
       "      <th></th>\n",
       "      <th></th>\n",
       "    </tr>\n",
       "  </thead>\n",
       "  <tbody>\n",
       "    <tr>\n",
       "      <th>KNeighborsClassifier</th>\n",
       "      <td>0.961301</td>\n",
       "      <td>4413.0</td>\n",
       "      <td>31556.0</td>\n",
       "      <td>336.0</td>\n",
       "      <td>1112.0</td>\n",
       "      <td>0.010536</td>\n",
       "      <td>0.201267</td>\n",
       "    </tr>\n",
       "    <tr>\n",
       "      <th>LogisticRegression</th>\n",
       "      <td>0.942727</td>\n",
       "      <td>3861.0</td>\n",
       "      <td>31413.0</td>\n",
       "      <td>479.0</td>\n",
       "      <td>1664.0</td>\n",
       "      <td>0.015019</td>\n",
       "      <td>0.301176</td>\n",
       "    </tr>\n",
       "    <tr>\n",
       "      <th>RandomForestClassifier</th>\n",
       "      <td>0.993212</td>\n",
       "      <td>5285.0</td>\n",
       "      <td>31878.0</td>\n",
       "      <td>14.0</td>\n",
       "      <td>240.0</td>\n",
       "      <td>0.000439</td>\n",
       "      <td>0.043439</td>\n",
       "    </tr>\n",
       "    <tr>\n",
       "      <th>AdaBoostClassifier</th>\n",
       "      <td>0.940482</td>\n",
       "      <td>3796.0</td>\n",
       "      <td>31394.0</td>\n",
       "      <td>498.0</td>\n",
       "      <td>1729.0</td>\n",
       "      <td>0.015615</td>\n",
       "      <td>0.312941</td>\n",
       "    </tr>\n",
       "    <tr>\n",
       "      <th>GradientBoostingClassifier</th>\n",
       "      <td>0.951012</td>\n",
       "      <td>4171.0</td>\n",
       "      <td>31413.0</td>\n",
       "      <td>479.0</td>\n",
       "      <td>1354.0</td>\n",
       "      <td>0.015019</td>\n",
       "      <td>0.245068</td>\n",
       "    </tr>\n",
       "    <tr>\n",
       "      <th>ExtraTreeClassifier</th>\n",
       "      <td>0.999786</td>\n",
       "      <td>5517.0</td>\n",
       "      <td>31892.0</td>\n",
       "      <td>0.0</td>\n",
       "      <td>8.0</td>\n",
       "      <td>0.000000</td>\n",
       "      <td>0.001448</td>\n",
       "    </tr>\n",
       "    <tr>\n",
       "      <th>BaggingClassifier</th>\n",
       "      <td>0.993479</td>\n",
       "      <td>5292.0</td>\n",
       "      <td>31881.0</td>\n",
       "      <td>11.0</td>\n",
       "      <td>233.0</td>\n",
       "      <td>0.000345</td>\n",
       "      <td>0.042172</td>\n",
       "    </tr>\n",
       "    <tr>\n",
       "      <th>Neural Network-1</th>\n",
       "      <td>0.967181</td>\n",
       "      <td>4446.0</td>\n",
       "      <td>31743.0</td>\n",
       "      <td>149.0</td>\n",
       "      <td>1079.0</td>\n",
       "      <td>0.004672</td>\n",
       "      <td>0.195294</td>\n",
       "    </tr>\n",
       "  </tbody>\n",
       "</table>\n",
       "</div>"
      ],
      "text/plain": [
       "                            accuracy      TP       TN     FP      FN  \\\n",
       "index                                                                  \n",
       "KNeighborsClassifier        0.961301  4413.0  31556.0  336.0  1112.0   \n",
       "LogisticRegression          0.942727  3861.0  31413.0  479.0  1664.0   \n",
       "RandomForestClassifier      0.993212  5285.0  31878.0   14.0   240.0   \n",
       "AdaBoostClassifier          0.940482  3796.0  31394.0  498.0  1729.0   \n",
       "GradientBoostingClassifier  0.951012  4171.0  31413.0  479.0  1354.0   \n",
       "ExtraTreeClassifier         0.999786  5517.0  31892.0    0.0     8.0   \n",
       "BaggingClassifier           0.993479  5292.0  31881.0   11.0   233.0   \n",
       "Neural Network-1            0.967181  4446.0  31743.0  149.0  1079.0   \n",
       "\n",
       "                                 FPR       FNR  \n",
       "index                                           \n",
       "KNeighborsClassifier        0.010536  0.201267  \n",
       "LogisticRegression          0.015019  0.301176  \n",
       "RandomForestClassifier      0.000439  0.043439  \n",
       "AdaBoostClassifier          0.015615  0.312941  \n",
       "GradientBoostingClassifier  0.015019  0.245068  \n",
       "ExtraTreeClassifier         0.000000  0.001448  \n",
       "BaggingClassifier           0.000345  0.042172  \n",
       "Neural Network-1            0.004672  0.195294  "
      ]
     },
     "metadata": {},
     "output_type": "display_data"
    },
    {
     "name": "stdout",
     "output_type": "stream",
     "text": [
      "Test Results\n"
     ]
    },
    {
     "data": {
      "text/html": [
       "<div>\n",
       "<style scoped>\n",
       "    .dataframe tbody tr th:only-of-type {\n",
       "        vertical-align: middle;\n",
       "    }\n",
       "\n",
       "    .dataframe tbody tr th {\n",
       "        vertical-align: top;\n",
       "    }\n",
       "\n",
       "    .dataframe thead th {\n",
       "        text-align: right;\n",
       "    }\n",
       "</style>\n",
       "<table border=\"1\" class=\"dataframe\">\n",
       "  <thead>\n",
       "    <tr style=\"text-align: right;\">\n",
       "      <th></th>\n",
       "      <th>accuracy</th>\n",
       "      <th>TP</th>\n",
       "      <th>TN</th>\n",
       "      <th>FP</th>\n",
       "      <th>FN</th>\n",
       "      <th>FPR</th>\n",
       "      <th>FNR</th>\n",
       "      <th>auc</th>\n",
       "      <th>mcc</th>\n",
       "    </tr>\n",
       "    <tr>\n",
       "      <th>index</th>\n",
       "      <th></th>\n",
       "      <th></th>\n",
       "      <th></th>\n",
       "      <th></th>\n",
       "      <th></th>\n",
       "      <th></th>\n",
       "      <th></th>\n",
       "      <th></th>\n",
       "      <th></th>\n",
       "    </tr>\n",
       "  </thead>\n",
       "  <tbody>\n",
       "    <tr>\n",
       "      <th>KNeighborsClassifier</th>\n",
       "      <td>0.953068</td>\n",
       "      <td>1065.0</td>\n",
       "      <td>7850.0</td>\n",
       "      <td>135.0</td>\n",
       "      <td>304.0</td>\n",
       "      <td>0.016907</td>\n",
       "      <td>0.222060</td>\n",
       "      <td>0.880517</td>\n",
       "      <td>0.804390</td>\n",
       "    </tr>\n",
       "    <tr>\n",
       "      <th>LogisticRegression</th>\n",
       "      <td>0.943767</td>\n",
       "      <td>974.0</td>\n",
       "      <td>7854.0</td>\n",
       "      <td>131.0</td>\n",
       "      <td>395.0</td>\n",
       "      <td>0.016406</td>\n",
       "      <td>0.288532</td>\n",
       "      <td>0.847531</td>\n",
       "      <td>0.761169</td>\n",
       "    </tr>\n",
       "    <tr>\n",
       "      <th>RandomForestClassifier</th>\n",
       "      <td>0.954565</td>\n",
       "      <td>1054.0</td>\n",
       "      <td>7875.0</td>\n",
       "      <td>110.0</td>\n",
       "      <td>315.0</td>\n",
       "      <td>0.013776</td>\n",
       "      <td>0.230095</td>\n",
       "      <td>0.878065</td>\n",
       "      <td>0.809686</td>\n",
       "    </tr>\n",
       "    <tr>\n",
       "      <th>AdaBoostClassifier</th>\n",
       "      <td>0.939919</td>\n",
       "      <td>943.0</td>\n",
       "      <td>7849.0</td>\n",
       "      <td>136.0</td>\n",
       "      <td>426.0</td>\n",
       "      <td>0.017032</td>\n",
       "      <td>0.311176</td>\n",
       "      <td>0.835896</td>\n",
       "      <td>0.743326</td>\n",
       "    </tr>\n",
       "    <tr>\n",
       "      <th>GradientBoostingClassifier</th>\n",
       "      <td>0.949754</td>\n",
       "      <td>1027.0</td>\n",
       "      <td>7857.0</td>\n",
       "      <td>128.0</td>\n",
       "      <td>342.0</td>\n",
       "      <td>0.016030</td>\n",
       "      <td>0.249817</td>\n",
       "      <td>0.867076</td>\n",
       "      <td>0.788777</td>\n",
       "    </tr>\n",
       "    <tr>\n",
       "      <th>ExtraTreeClassifier</th>\n",
       "      <td>0.953175</td>\n",
       "      <td>1059.0</td>\n",
       "      <td>7857.0</td>\n",
       "      <td>128.0</td>\n",
       "      <td>310.0</td>\n",
       "      <td>0.016030</td>\n",
       "      <td>0.226443</td>\n",
       "      <td>0.878764</td>\n",
       "      <td>0.804416</td>\n",
       "    </tr>\n",
       "    <tr>\n",
       "      <th>BaggingClassifier</th>\n",
       "      <td>0.954565</td>\n",
       "      <td>1062.0</td>\n",
       "      <td>7867.0</td>\n",
       "      <td>118.0</td>\n",
       "      <td>307.0</td>\n",
       "      <td>0.014778</td>\n",
       "      <td>0.224251</td>\n",
       "      <td>0.880486</td>\n",
       "      <td>0.810119</td>\n",
       "    </tr>\n",
       "    <tr>\n",
       "      <th>Neural Network-1</th>\n",
       "      <td>0.958307</td>\n",
       "      <td>1062.0</td>\n",
       "      <td>7902.0</td>\n",
       "      <td>83.0</td>\n",
       "      <td>307.0</td>\n",
       "      <td>0.010394</td>\n",
       "      <td>0.224251</td>\n",
       "      <td>0.882677</td>\n",
       "      <td>0.825380</td>\n",
       "    </tr>\n",
       "  </tbody>\n",
       "</table>\n",
       "</div>"
      ],
      "text/plain": [
       "                            accuracy      TP      TN     FP     FN       FPR  \\\n",
       "index                                                                          \n",
       "KNeighborsClassifier        0.953068  1065.0  7850.0  135.0  304.0  0.016907   \n",
       "LogisticRegression          0.943767   974.0  7854.0  131.0  395.0  0.016406   \n",
       "RandomForestClassifier      0.954565  1054.0  7875.0  110.0  315.0  0.013776   \n",
       "AdaBoostClassifier          0.939919   943.0  7849.0  136.0  426.0  0.017032   \n",
       "GradientBoostingClassifier  0.949754  1027.0  7857.0  128.0  342.0  0.016030   \n",
       "ExtraTreeClassifier         0.953175  1059.0  7857.0  128.0  310.0  0.016030   \n",
       "BaggingClassifier           0.954565  1062.0  7867.0  118.0  307.0  0.014778   \n",
       "Neural Network-1            0.958307  1062.0  7902.0   83.0  307.0  0.010394   \n",
       "\n",
       "                                 FNR       auc       mcc  \n",
       "index                                                     \n",
       "KNeighborsClassifier        0.222060  0.880517  0.804390  \n",
       "LogisticRegression          0.288532  0.847531  0.761169  \n",
       "RandomForestClassifier      0.230095  0.878065  0.809686  \n",
       "AdaBoostClassifier          0.311176  0.835896  0.743326  \n",
       "GradientBoostingClassifier  0.249817  0.867076  0.788777  \n",
       "ExtraTreeClassifier         0.226443  0.878764  0.804416  \n",
       "BaggingClassifier           0.224251  0.880486  0.810119  \n",
       "Neural Network-1            0.224251  0.882677  0.825380  "
      ]
     },
     "metadata": {},
     "output_type": "display_data"
    }
   ],
   "source": [
    "table_80_60_train['index']=ind_columns\n",
    "table_80_60_test['index']=ind_columns\n",
    "\n",
    "\n",
    "table_80_60_test.set_index(['index'],drop=True,inplace=True)\n",
    "table_80_60_train.set_index(['index'],drop=True,inplace=True)\n",
    "\n",
    "print(\"Training Results\")\n",
    "display(table_80_60_train)\n",
    "print(\"Test Results\")\n",
    "display(table_80_60_test)"
   ]
  },
  {
   "cell_type": "markdown",
   "metadata": {},
   "source": [
    "### <a id='4.B' style=\"text-decoration : none; color : #000000;\"> B. Average Feature Importances</a>"
   ]
  },
  {
   "cell_type": "code",
   "execution_count": 77,
   "metadata": {},
   "outputs": [
    {
     "data": {
      "application/vnd.plotly.v1+json": {
       "config": {
        "linkText": "Export to plot.ly",
        "plotlyServerURL": "https://plot.ly",
        "showLink": true
       },
       "data": [
        {
         "marker": {
          "color": "rgb(158,202,225)",
          "line": {
           "color": "rgb(8,48,107)",
           "width": 1.5
          }
         },
         "opacity": 0.6,
         "orientation": "h",
         "text": [
          0.1499,
          0.0997,
          0.0552,
          0.0464,
          0.045,
          0.0445,
          0.043,
          0.0429,
          0.0413,
          0.0394,
          0.0393,
          0.0329,
          0.0262,
          0.0249,
          0.0223,
          0.021,
          0.0194,
          0.0191,
          0.0187,
          0.0185,
          0.0166,
          0.016,
          0.0158,
          0.0152,
          0.0143,
          0.0136,
          0.0111,
          0.0108,
          0.0103,
          0.0096,
          0.0065,
          0.0058,
          0.0047
         ],
         "textposition": "outside",
         "type": "bar",
         "uid": "bf97e984-b5ec-45d1-b8f7-9538bf6b7c9a",
         "x": [
          0.14990583584471362,
          0.09970849666814684,
          0.05515147276483713,
          0.0464273377857313,
          0.04502449814524202,
          0.04453491378024643,
          0.04297229857681955,
          0.042927292589856496,
          0.04132955031926589,
          0.03939692255334002,
          0.03931634490479934,
          0.03294144558183638,
          0.026236586991771206,
          0.02491914144615026,
          0.022250941524479893,
          0.020954833219568834,
          0.019403632524128737,
          0.019070810408197907,
          0.01872651785085807,
          0.01851295893020385,
          0.016575358599710377,
          0.01599020745761245,
          0.01584861965637601,
          0.015190084666436713,
          0.014289433142545199,
          0.013586186593597817,
          0.011057670722608,
          0.010808431147909348,
          0.010325521303036026,
          0.009565994947001367,
          0.006497072997156322,
          0.005808490267501623,
          0.004745096088315014
         ],
         "y": [
          "url_char_. + url_length",
          "url_char_w + url_extensions",
          "url_char_. + url_char_z",
          "url_char_w + url_length",
          "url_char_o + url_length",
          "url_extension_.com / url_char_.",
          "url_char_. + url_char_w",
          "url_char_k + url_extensions",
          "url_char_b + url_length",
          "url_char_i + url_length",
          "url_char_.",
          "url_char_w * url_extensions",
          "url_char_u + url_length",
          "url_char_k + url_length",
          "url_char_y + url_length",
          "url_length + url_tlds",
          "url_char_v + url_length",
          "url_char_s + url_length",
          "url_char_w + url_char_z",
          "url_char_c + url_length",
          "url_char_h + url_length",
          "url_char_a + url_length",
          "url_char_r + url_length",
          "url_char_f + url_length",
          "url_char_- + url_length",
          "url_extension_.com + url_length",
          "url_char_m + url_length",
          "url_char_e + url_length",
          "url_char_. + url_char_j",
          "url_char_l + url_length",
          "url_char_g + url_length",
          "url_length + url_words_with_length_7",
          "url_char_j + url_length"
         ]
        }
       ],
       "layout": {
        "autosize": false,
        "height": 1000,
        "width": 1000,
        "xaxis": {
         "tickfont": {
          "color": "black",
          "size": 12
         },
         "title": "Feature Importances"
        },
        "yaxis": {
         "automargin": true
        }
       }
      },
      "text/html": [
       "<div id=\"f5a15687-ddd3-4bbe-a4e7-c08795861726\" style=\"height: 1000px; width: 1000px;\" class=\"plotly-graph-div\"></div><script type=\"text/javascript\">require([\"plotly\"], function(Plotly) { window.PLOTLYENV=window.PLOTLYENV || {};window.PLOTLYENV.BASE_URL=\"https://plot.ly\";Plotly.newPlot(\"f5a15687-ddd3-4bbe-a4e7-c08795861726\", [{\"marker\": {\"color\": \"rgb(158,202,225)\", \"line\": {\"color\": \"rgb(8,48,107)\", \"width\": 1.5}}, \"opacity\": 0.6, \"orientation\": \"h\", \"text\": [0.1499, 0.0997, 0.0552, 0.0464, 0.045, 0.0445, 0.043, 0.0429, 0.0413, 0.0394, 0.0393, 0.0329, 0.0262, 0.0249, 0.0223, 0.021, 0.0194, 0.0191, 0.0187, 0.0185, 0.0166, 0.016, 0.0158, 0.0152, 0.0143, 0.0136, 0.0111, 0.0108, 0.0103, 0.0096, 0.0065, 0.0058, 0.0047], \"textposition\": \"outside\", \"x\": [0.14990583584471362, 0.09970849666814684, 0.05515147276483713, 0.0464273377857313, 0.04502449814524202, 0.04453491378024643, 0.04297229857681955, 0.042927292589856496, 0.04132955031926589, 0.03939692255334002, 0.03931634490479934, 0.03294144558183638, 0.026236586991771206, 0.02491914144615026, 0.022250941524479893, 0.020954833219568834, 0.019403632524128737, 0.019070810408197907, 0.01872651785085807, 0.01851295893020385, 0.016575358599710377, 0.01599020745761245, 0.01584861965637601, 0.015190084666436713, 0.014289433142545199, 0.013586186593597817, 0.011057670722608, 0.010808431147909348, 0.010325521303036026, 0.009565994947001367, 0.006497072997156322, 0.005808490267501623, 0.004745096088315014], \"y\": [\"url_char_. + url_length\", \"url_char_w + url_extensions\", \"url_char_. + url_char_z\", \"url_char_w + url_length\", \"url_char_o + url_length\", \"url_extension_.com / url_char_.\", \"url_char_. + url_char_w\", \"url_char_k + url_extensions\", \"url_char_b + url_length\", \"url_char_i + url_length\", \"url_char_.\", \"url_char_w * url_extensions\", \"url_char_u + url_length\", \"url_char_k + url_length\", \"url_char_y + url_length\", \"url_length + url_tlds\", \"url_char_v + url_length\", \"url_char_s + url_length\", \"url_char_w + url_char_z\", \"url_char_c + url_length\", \"url_char_h + url_length\", \"url_char_a + url_length\", \"url_char_r + url_length\", \"url_char_f + url_length\", \"url_char_- + url_length\", \"url_extension_.com + url_length\", \"url_char_m + url_length\", \"url_char_e + url_length\", \"url_char_. + url_char_j\", \"url_char_l + url_length\", \"url_char_g + url_length\", \"url_length + url_words_with_length_7\", \"url_char_j + url_length\"], \"type\": \"bar\", \"uid\": \"bf97e984-b5ec-45d1-b8f7-9538bf6b7c9a\"}], {\"autosize\": false, \"height\": 1000, \"width\": 1000, \"xaxis\": {\"tickfont\": {\"color\": \"black\", \"size\": 12}, \"title\": \"Feature Importances\"}, \"yaxis\": {\"automargin\": true}}, {\"showLink\": true, \"linkText\": \"Export to plot.ly\", \"plotlyServerURL\": \"https://plot.ly\"})});</script>"
      ],
      "text/vnd.plotly.v1+html": [
       "<div id=\"f5a15687-ddd3-4bbe-a4e7-c08795861726\" style=\"height: 1000px; width: 1000px;\" class=\"plotly-graph-div\"></div><script type=\"text/javascript\">require([\"plotly\"], function(Plotly) { window.PLOTLYENV=window.PLOTLYENV || {};window.PLOTLYENV.BASE_URL=\"https://plot.ly\";Plotly.newPlot(\"f5a15687-ddd3-4bbe-a4e7-c08795861726\", [{\"marker\": {\"color\": \"rgb(158,202,225)\", \"line\": {\"color\": \"rgb(8,48,107)\", \"width\": 1.5}}, \"opacity\": 0.6, \"orientation\": \"h\", \"text\": [0.1499, 0.0997, 0.0552, 0.0464, 0.045, 0.0445, 0.043, 0.0429, 0.0413, 0.0394, 0.0393, 0.0329, 0.0262, 0.0249, 0.0223, 0.021, 0.0194, 0.0191, 0.0187, 0.0185, 0.0166, 0.016, 0.0158, 0.0152, 0.0143, 0.0136, 0.0111, 0.0108, 0.0103, 0.0096, 0.0065, 0.0058, 0.0047], \"textposition\": \"outside\", \"x\": [0.14990583584471362, 0.09970849666814684, 0.05515147276483713, 0.0464273377857313, 0.04502449814524202, 0.04453491378024643, 0.04297229857681955, 0.042927292589856496, 0.04132955031926589, 0.03939692255334002, 0.03931634490479934, 0.03294144558183638, 0.026236586991771206, 0.02491914144615026, 0.022250941524479893, 0.020954833219568834, 0.019403632524128737, 0.019070810408197907, 0.01872651785085807, 0.01851295893020385, 0.016575358599710377, 0.01599020745761245, 0.01584861965637601, 0.015190084666436713, 0.014289433142545199, 0.013586186593597817, 0.011057670722608, 0.010808431147909348, 0.010325521303036026, 0.009565994947001367, 0.006497072997156322, 0.005808490267501623, 0.004745096088315014], \"y\": [\"url_char_. + url_length\", \"url_char_w + url_extensions\", \"url_char_. + url_char_z\", \"url_char_w + url_length\", \"url_char_o + url_length\", \"url_extension_.com / url_char_.\", \"url_char_. + url_char_w\", \"url_char_k + url_extensions\", \"url_char_b + url_length\", \"url_char_i + url_length\", \"url_char_.\", \"url_char_w * url_extensions\", \"url_char_u + url_length\", \"url_char_k + url_length\", \"url_char_y + url_length\", \"url_length + url_tlds\", \"url_char_v + url_length\", \"url_char_s + url_length\", \"url_char_w + url_char_z\", \"url_char_c + url_length\", \"url_char_h + url_length\", \"url_char_a + url_length\", \"url_char_r + url_length\", \"url_char_f + url_length\", \"url_char_- + url_length\", \"url_extension_.com + url_length\", \"url_char_m + url_length\", \"url_char_e + url_length\", \"url_char_. + url_char_j\", \"url_char_l + url_length\", \"url_char_g + url_length\", \"url_length + url_words_with_length_7\", \"url_char_j + url_length\"], \"type\": \"bar\", \"uid\": \"bf97e984-b5ec-45d1-b8f7-9538bf6b7c9a\"}], {\"autosize\": false, \"height\": 1000, \"width\": 1000, \"xaxis\": {\"tickfont\": {\"color\": \"black\", \"size\": 12}, \"title\": \"Feature Importances\"}, \"yaxis\": {\"automargin\": true}}, {\"showLink\": true, \"linkText\": \"Export to plot.ly\", \"plotlyServerURL\": \"https://plot.ly\"})});</script>"
      ]
     },
     "metadata": {},
     "output_type": "display_data"
    }
   ],
   "source": [
    "feat_impt_plot(np.average(feat_imp,axis=0),feature_name)"
   ]
  },
  {
   "cell_type": "markdown",
   "metadata": {},
   "source": [
    "### <a id='5' style=\"text-decoration : none; color : #000000;\">5. Feature Transformation with PCA </a>"
   ]
  },
  {
   "cell_type": "code",
   "execution_count": 78,
   "metadata": {},
   "outputs": [],
   "source": [
    "X=fs.loc[:,fs.columns!='Target']\n",
    "y=fs.Target.values\n",
    "feature_name = X.columns.tolist()\n",
    "X=np.nan_to_num(X)\n",
    "scaler=StandardScaler()\n",
    "scaled_X=scaler.fit_transform(X)"
   ]
  },
  {
   "cell_type": "code",
   "execution_count": 85,
   "metadata": {},
   "outputs": [
    {
     "name": "stderr",
     "output_type": "stream",
     "text": [
      "distributed.core - INFO - Event loop was unresponsive in Nanny for 41.46s.  This is often caused by long-running GIL-holding functions or moving large chunks of data. This can cause timeouts and instability.\n",
      "distributed.core - INFO - Event loop was unresponsive in Nanny for 41.47s.  This is often caused by long-running GIL-holding functions or moving large chunks of data. This can cause timeouts and instability.\n",
      "distributed.core - INFO - Event loop was unresponsive in Nanny for 41.47s.  This is often caused by long-running GIL-holding functions or moving large chunks of data. This can cause timeouts and instability.\n",
      "distributed.core - INFO - Event loop was unresponsive in Nanny for 41.46s.  This is often caused by long-running GIL-holding functions or moving large chunks of data. This can cause timeouts and instability.\n",
      "distributed.core - INFO - Event loop was unresponsive in Nanny for 41.46s.  This is often caused by long-running GIL-holding functions or moving large chunks of data. This can cause timeouts and instability.\n",
      "distributed.core - INFO - Event loop was unresponsive in Nanny for 41.46s.  This is often caused by long-running GIL-holding functions or moving large chunks of data. This can cause timeouts and instability.\n",
      "distributed.core - INFO - Event loop was unresponsive in Nanny for 41.46s.  This is often caused by long-running GIL-holding functions or moving large chunks of data. This can cause timeouts and instability.\n",
      "distributed.core - INFO - Event loop was unresponsive in Nanny for 41.46s.  This is often caused by long-running GIL-holding functions or moving large chunks of data. This can cause timeouts and instability.\n",
      "distributed.core - INFO - Event loop was unresponsive in Nanny for 41.46s.  This is often caused by long-running GIL-holding functions or moving large chunks of data. This can cause timeouts and instability.\n",
      "distributed.core - INFO - Event loop was unresponsive in Nanny for 41.46s.  This is often caused by long-running GIL-holding functions or moving large chunks of data. This can cause timeouts and instability.\n",
      "distributed.core - INFO - Event loop was unresponsive in Nanny for 41.46s.  This is often caused by long-running GIL-holding functions or moving large chunks of data. This can cause timeouts and instability.\n"
     ]
    },
    {
     "data": {
      "image/png": "[encoded data removed]",
      "text/plain": [
       "<Figure size 720x576 with 1 Axes>"
      ]
     },
     "metadata": {},
     "output_type": "display_data"
    }
   ],
   "source": [
    "sns.set_style('whitegrid')\n",
    "pca = PCA(random_state=0)\n",
    "pca.fit(scaled_X)\n",
    "plt.figure(1, figsize=(10, 8))\n",
    "plt.plot(np.cumsum(pca.explained_variance_ratio_),'--o', linewidth=2)\n",
    "plt.axis('tight')\n",
    "plt.xlabel('Number of Components',size=14)\n",
    "plt.xticks(size=12)\n",
    "plt.xlim([0,200])\n",
    "plt.ylabel('% Explained Variance',size=14)\n",
    "plt.yticks(size=12)\n",
    "plt.title('% Variance Explained by Principal Components',size=14,y=1.05)\n",
    "plt.show()"
   ]
  },
  {
   "cell_type": "code",
   "execution_count": 86,
   "metadata": {},
   "outputs": [
    {
     "name": "stdout",
     "output_type": "stream",
     "text": [
      "Variance explained using 110 components is: 0.8065851863478841\n"
     ]
    }
   ],
   "source": [
    "pca=PCA(n_components=110,whiten=True,random_state=0)\n",
    "X_pca_21=pca.fit_transform(scaled_X)\n",
    "print(\"Variance explained using 110 components is:\",sum(pca.explained_variance_ratio_))"
   ]
  },
  {
   "cell_type": "code",
   "execution_count": 87,
   "metadata": {},
   "outputs": [],
   "source": [
    "X_train=X_pca_21[:37417]\n",
    "Y_train=fs.iloc[:37417]['Target'].values\n",
    "X_test=X_pca_21[37417:]\n",
    "Y_test=fs.iloc[37417:]['Target'].values\n",
    "\n",
    "## Table to store training and test measures so we can compare later\n",
    "table_80_70_train=pd.DataFrame(columns=['accuracy','TP','TN','FP','FN','FPR','FNR'])\n",
    "table_80_70_test=pd.DataFrame(columns=['accuracy','TP','TN','FP','FN','FPR','FNR','auc','mcc'])"
   ]
  },
  {
   "cell_type": "code",
   "execution_count": 88,
   "metadata": {
    "scrolled": false
   },
   "outputs": [
    {
     "name": "stdout",
     "output_type": "stream",
     "text": [
      "\u001b[1mK-Nearest Neighbors\u001b[0m\n",
      "Accuracy of the model for training data is: 0.9506374108025764\n",
      "Confusion Matrix for training data is:\n"
     ]
    },
    {
     "data": {
      "text/plain": [
       "Predicted  False  True  __all__\n",
       "Actual                         \n",
       "False      31863    29    31892\n",
       "True        1818  3707     5525\n",
       "__all__    33681  3736    37417"
      ]
     },
     "metadata": {},
     "output_type": "display_data"
    },
    {
     "name": "stdout",
     "output_type": "stream",
     "text": [
      "Accuracy of the model for test data is: 0.9410947188368612\n",
      "Confusion Matrix for test data is:\n"
     ]
    },
    {
     "data": {
      "text/plain": [
       "Predicted  False  True  __all__\n",
       "Actual                         \n",
       "False       7969    16     7985\n",
       "True         535   834     1369\n",
       "__all__     8504   850     9354"
      ]
     },
     "metadata": {},
     "output_type": "display_data"
    },
    {
     "name": "stdout",
     "output_type": "stream",
     "text": [
      "\n",
      "\n",
      "\u001b[1mLogistic Regression\u001b[0m\n",
      "Accuracy of the model for training data is: 0.9552609776304888\n",
      "Confusion Matrix for training data is:\n"
     ]
    },
    {
     "data": {
      "text/plain": [
       "Predicted  False  True  __all__\n",
       "Actual                         \n",
       "False      31476   416    31892\n",
       "True        1258  4267     5525\n",
       "__all__    32734  4683    37417"
      ]
     },
     "metadata": {},
     "output_type": "display_data"
    },
    {
     "name": "stdout",
     "output_type": "stream",
     "text": [
      "Accuracy of the model for test data is: 0.9549925165704511\n",
      "Confusion Matrix for test data is:\n"
     ]
    },
    {
     "data": {
      "text/plain": [
       "Predicted  False  True  __all__\n",
       "Actual                         \n",
       "False       7873   112     7985\n",
       "True         309  1060     1369\n",
       "__all__     8182  1172     9354"
      ]
     },
     "metadata": {},
     "output_type": "display_data"
    },
    {
     "name": "stdout",
     "output_type": "stream",
     "text": [
      "\n",
      "\n",
      "\u001b[1mRandomForest Classifier\u001b[0m\n",
      "Accuracy of the model for training data is: 0.9940401421813614\n",
      "Confusion Matrix for training data is:\n"
     ]
    },
    {
     "data": {
      "text/plain": [
       "Predicted  False  True  __all__\n",
       "Actual                         \n",
       "False      31887     5    31892\n",
       "True         218  5307     5525\n",
       "__all__    32105  5312    37417"
      ]
     },
     "metadata": {},
     "output_type": "display_data"
    },
    {
     "name": "stdout",
     "output_type": "stream",
     "text": [
      "Accuracy of the model for test data is: 0.943767372247167\n",
      "Confusion Matrix for test data is:\n"
     ]
    },
    {
     "data": {
      "text/plain": [
       "Predicted  False  True  __all__\n",
       "Actual                         \n",
       "False       7895    90     7985\n",
       "True         436   933     1369\n",
       "__all__     8331  1023     9354"
      ]
     },
     "metadata": {},
     "output_type": "display_data"
    },
    {
     "data": {
      "application/vnd.plotly.v1+json": {
       "config": {
        "linkText": "Export to plot.ly",
        "plotlyServerURL": "https://plot.ly",
        "showLink": true
       },
       "data": [
        {
         "marker": {
          "color": "rgb(158,202,225)",
          "line": {
           "color": "rgb(8,48,107)",
           "width": 1.5
          }
         },
         "opacity": 0.6,
         "orientation": "h",
         "text": [
          0.0859,
          0.0619,
          0.0534,
          0.0436,
          0.0405,
          0.0238,
          0.0227,
          0.0183,
          0.018,
          0.0155,
          0.0141,
          0.0134,
          0.0133,
          0.0123,
          0.0122,
          0.0115,
          0.0114,
          0.0112,
          0.0111,
          0.0107,
          0.0103,
          0.0101,
          0.01,
          0.0099,
          0.0099,
          0.0098,
          0.0095,
          0.0091,
          0.009,
          0.009,
          0.0089,
          0.0086,
          0.0086,
          0.0085,
          0.0082,
          0.0081,
          0.0076,
          0.0075,
          0.007,
          0.0069,
          0.0069,
          0.0069,
          0.0067,
          0.0066,
          0.0065,
          0.0064,
          0.0063,
          0.0063,
          0.0062,
          0.0061,
          0.0057,
          0.0056,
          0.0056,
          0.0055,
          0.0054,
          0.0053,
          0.0052,
          0.0052,
          0.0051,
          0.0051,
          0.0051,
          0.005,
          0.005,
          0.0048,
          0.0048,
          0.0048,
          0.0048,
          0.0047,
          0.0046,
          0.0046,
          0.0045,
          0.0045,
          0.0045,
          0.0044,
          0.0044,
          0.0043,
          0.0043,
          0.0043,
          0.0043,
          0.0043,
          0.0042,
          0.0041,
          0.0041,
          0.0041,
          0.0041,
          0.004,
          0.004,
          0.004,
          0.004,
          0.004,
          0.0039,
          0.0039,
          0.0039,
          0.0039,
          0.0036,
          0.0036,
          0.0035,
          0.0035,
          0.0035,
          0.0034,
          0.0034,
          0.0033,
          0.0033,
          0.0032,
          0.0032,
          0.0031,
          0.003,
          0.003,
          0.0029,
          0.0025
         ],
         "textposition": "outside",
         "type": "bar",
         "uid": "1cc07390-1d76-4a69-8245-f87a284cdd9a",
         "x": [
          0.08594809673740826,
          0.06190568629105384,
          0.053367968533475675,
          0.04358499868131837,
          0.04048792365232464,
          0.023836765989275623,
          0.022652591776666554,
          0.01827348778350569,
          0.018031908680108025,
          0.015542278044203644,
          0.014144928849924677,
          0.01339257767609591,
          0.013258512091599386,
          0.012295362585713872,
          0.012238511033939444,
          0.011520666565877174,
          0.01135208087844172,
          0.01118510599060102,
          0.011126539177230646,
          0.010692875003674784,
          0.010301414554940453,
          0.010136617694303029,
          0.010008328953940457,
          0.00993378574634012,
          0.009859941671449922,
          0.009801539736260328,
          0.00953523782825087,
          0.009058152064961456,
          0.009011257920119056,
          0.008952533129223365,
          0.00890830114412485,
          0.008613569565971922,
          0.008603233060219973,
          0.008546046288986,
          0.008188207141646853,
          0.008144013044017063,
          0.007599637393018946,
          0.007462397225325759,
          0.006953871641149491,
          0.006925644423992121,
          0.0069222837663108685,
          0.006861368584154058,
          0.006708604173771437,
          0.00664111381558416,
          0.006506095261935863,
          0.006359645513732382,
          0.0063122347614893975,
          0.006253130182615559,
          0.006182243978734262,
          0.006119795439336592,
          0.0056507885129990585,
          0.00562160319783489,
          0.0055896193564908365,
          0.005470502588402986,
          0.005357335656360142,
          0.005341859367428979,
          0.005214298607910723,
          0.00517483062073818,
          0.005137590605326955,
          0.005118727456664571,
          0.005101873902858473,
          0.005011337101204541,
          0.004956824840411907,
          0.004843165726355968,
          0.004782960214137554,
          0.004769244814370771,
          0.004760405392059823,
          0.004661316469396387,
          0.00461192933541821,
          0.0045953187924984195,
          0.004539534438227593,
          0.004536301386233433,
          0.004491120850551365,
          0.004441766759152859,
          0.0044195270062935945,
          0.004345001271824354,
          0.0043126615500061905,
          0.004296392128844707,
          0.004295134666312856,
          0.004281659075196473,
          0.004182602771721905,
          0.004119079064705064,
          0.004096705137540088,
          0.004095136289692274,
          0.004054789828384512,
          0.004047427459765502,
          0.004034233148339138,
          0.0040211715338743575,
          0.0039648073162578245,
          0.00395319545501756,
          0.0038986032024907573,
          0.0038930767721039724,
          0.0038901826868815693,
          0.003858462816247151,
          0.0036440467204728773,
          0.0035834150679551454,
          0.003535781337956395,
          0.0034826952099322474,
          0.0034601728086892875,
          0.0034026910140267756,
          0.003355896302886291,
          0.0033212515213020518,
          0.003261454109148981,
          0.0031996314999061513,
          0.0031785758753795205,
          0.00308409055606109,
          0.003021503743610026,
          0.002951379104623327,
          0.00291618649365571,
          0.0025120117315140795
         ],
         "y": [
          "0",
          "8",
          "1",
          "3",
          "4",
          "75",
          "51",
          "43",
          "79",
          "72",
          "36",
          "65",
          "58",
          "73",
          "7",
          "89",
          "47",
          "42",
          "21",
          "68",
          "46",
          "5",
          "56",
          "33",
          "80",
          "2",
          "71",
          "37",
          "82",
          "45",
          "27",
          "66",
          "20",
          "28",
          "44",
          "67",
          "31",
          "52",
          "50",
          "35",
          "86",
          "90",
          "12",
          "14",
          "13",
          "6",
          "62",
          "25",
          "69",
          "55",
          "24",
          "87",
          "29",
          "93",
          "64",
          "59",
          "100",
          "9",
          "88",
          "15",
          "48",
          "96",
          "104",
          "78",
          "74",
          "70",
          "30",
          "17",
          "97",
          "34",
          "39",
          "81",
          "63",
          "91",
          "83",
          "54",
          "19",
          "22",
          "41",
          "38",
          "61",
          "10",
          "108",
          "16",
          "40",
          "49",
          "32",
          "92",
          "84",
          "103",
          "76",
          "94",
          "85",
          "53",
          "18",
          "77",
          "105",
          "57",
          "23",
          "11",
          "101",
          "60",
          "109",
          "99",
          "98",
          "107",
          "26",
          "102",
          "95",
          "106"
         ]
        }
       ],
       "layout": {
        "autosize": false,
        "height": 1000,
        "width": 1000,
        "xaxis": {
         "tickfont": {
          "color": "black",
          "size": 12
         },
         "title": "Feature Importances"
        },
        "yaxis": {
         "automargin": true
        }
       }
      },
      "text/html": [
       "<div id=\"c9190b08-6831-4d6c-be4d-f830e1afa4ae\" style=\"height: 1000px; width: 1000px;\" class=\"plotly-graph-div\"></div><script type=\"text/javascript\">require([\"plotly\"], function(Plotly) { window.PLOTLYENV=window.PLOTLYENV || {};window.PLOTLYENV.BASE_URL=\"https://plot.ly\";Plotly.newPlot(\"c9190b08-6831-4d6c-be4d-f830e1afa4ae\", [{\"marker\": {\"color\": \"rgb(158,202,225)\", \"line\": {\"color\": \"rgb(8,48,107)\", \"width\": 1.5}}, \"opacity\": 0.6, \"orientation\": \"h\", \"text\": [0.0859, 0.0619, 0.0534, 0.0436, 0.0405, 0.0238, 0.0227, 0.0183, 0.018, 0.0155, 0.0141, 0.0134, 0.0133, 0.0123, 0.0122, 0.0115, 0.0114, 0.0112, 0.0111, 0.0107, 0.0103, 0.0101, 0.01, 0.0099, 0.0099, 0.0098, 0.0095, 0.0091, 0.009, 0.009, 0.0089, 0.0086, 0.0086, 0.0085, 0.0082, 0.0081, 0.0076, 0.0075, 0.007, 0.0069, 0.0069, 0.0069, 0.0067, 0.0066, 0.0065, 0.0064, 0.0063, 0.0063, 0.0062, 0.0061, 0.0057, 0.0056, 0.0056, 0.0055, 0.0054, 0.0053, 0.0052, 0.0052, 0.0051, 0.0051, 0.0051, 0.005, 0.005, 0.0048, 0.0048, 0.0048, 0.0048, 0.0047, 0.0046, 0.0046, 0.0045, 0.0045, 0.0045, 0.0044, 0.0044, 0.0043, 0.0043, 0.0043, 0.0043, 0.0043, 0.0042, 0.0041, 0.0041, 0.0041, 0.0041, 0.004, 0.004, 0.004, 0.004, 0.004, 0.0039, 0.0039, 0.0039, 0.0039, 0.0036, 0.0036, 0.0035, 0.0035, 0.0035, 0.0034, 0.0034, 0.0033, 0.0033, 0.0032, 0.0032, 0.0031, 0.003, 0.003, 0.0029, 0.0025], \"textposition\": \"outside\", \"x\": [0.08594809673740826, 0.06190568629105384, 0.053367968533475675, 0.04358499868131837, 0.04048792365232464, 0.023836765989275623, 0.022652591776666554, 0.01827348778350569, 0.018031908680108025, 0.015542278044203644, 0.014144928849924677, 0.01339257767609591, 0.013258512091599386, 0.012295362585713872, 0.012238511033939444, 0.011520666565877174, 0.01135208087844172, 0.01118510599060102, 0.011126539177230646, 0.010692875003674784, 0.010301414554940453, 0.010136617694303029, 0.010008328953940457, 0.00993378574634012, 0.009859941671449922, 0.009801539736260328, 0.00953523782825087, 0.009058152064961456, 0.009011257920119056, 0.008952533129223365, 0.00890830114412485, 0.008613569565971922, 0.008603233060219973, 0.008546046288986, 0.008188207141646853, 0.008144013044017063, 0.007599637393018946, 0.007462397225325759, 0.006953871641149491, 0.006925644423992121, 0.0069222837663108685, 0.006861368584154058, 0.006708604173771437, 0.00664111381558416, 0.006506095261935863, 0.006359645513732382, 0.0063122347614893975, 0.006253130182615559, 0.006182243978734262, 0.006119795439336592, 0.0056507885129990585, 0.00562160319783489, 0.0055896193564908365, 0.005470502588402986, 0.005357335656360142, 0.005341859367428979, 0.005214298607910723, 0.00517483062073818, 0.005137590605326955, 0.005118727456664571, 0.005101873902858473, 0.005011337101204541, 0.004956824840411907, 0.004843165726355968, 0.004782960214137554, 0.004769244814370771, 0.004760405392059823, 0.004661316469396387, 0.00461192933541821, 0.0045953187924984195, 0.004539534438227593, 0.004536301386233433, 0.004491120850551365, 0.004441766759152859, 0.0044195270062935945, 0.004345001271824354, 0.0043126615500061905, 0.004296392128844707, 0.004295134666312856, 0.004281659075196473, 0.004182602771721905, 0.004119079064705064, 0.004096705137540088, 0.004095136289692274, 0.004054789828384512, 0.004047427459765502, 0.004034233148339138, 0.0040211715338743575, 0.0039648073162578245, 0.00395319545501756, 0.0038986032024907573, 0.0038930767721039724, 0.0038901826868815693, 0.003858462816247151, 0.0036440467204728773, 0.0035834150679551454, 0.003535781337956395, 0.0034826952099322474, 0.0034601728086892875, 0.0034026910140267756, 0.003355896302886291, 0.0033212515213020518, 0.003261454109148981, 0.0031996314999061513, 0.0031785758753795205, 0.00308409055606109, 0.003021503743610026, 0.002951379104623327, 0.00291618649365571, 0.0025120117315140795], \"y\": [\"0\", \"8\", \"1\", \"3\", \"4\", \"75\", \"51\", \"43\", \"79\", \"72\", \"36\", \"65\", \"58\", \"73\", \"7\", \"89\", \"47\", \"42\", \"21\", \"68\", \"46\", \"5\", \"56\", \"33\", \"80\", \"2\", \"71\", \"37\", \"82\", \"45\", \"27\", \"66\", \"20\", \"28\", \"44\", \"67\", \"31\", \"52\", \"50\", \"35\", \"86\", \"90\", \"12\", \"14\", \"13\", \"6\", \"62\", \"25\", \"69\", \"55\", \"24\", \"87\", \"29\", \"93\", \"64\", \"59\", \"100\", \"9\", \"88\", \"15\", \"48\", \"96\", \"104\", \"78\", \"74\", \"70\", \"30\", \"17\", \"97\", \"34\", \"39\", \"81\", \"63\", \"91\", \"83\", \"54\", \"19\", \"22\", \"41\", \"38\", \"61\", \"10\", \"108\", \"16\", \"40\", \"49\", \"32\", \"92\", \"84\", \"103\", \"76\", \"94\", \"85\", \"53\", \"18\", \"77\", \"105\", \"57\", \"23\", \"11\", \"101\", \"60\", \"109\", \"99\", \"98\", \"107\", \"26\", \"102\", \"95\", \"106\"], \"type\": \"bar\", \"uid\": \"1cc07390-1d76-4a69-8245-f87a284cdd9a\"}], {\"autosize\": false, \"height\": 1000, \"width\": 1000, \"xaxis\": {\"tickfont\": {\"color\": \"black\", \"size\": 12}, \"title\": \"Feature Importances\"}, \"yaxis\": {\"automargin\": true}}, {\"showLink\": true, \"linkText\": \"Export to plot.ly\", \"plotlyServerURL\": \"https://plot.ly\"})});</script>"
      ],
      "text/vnd.plotly.v1+html": [
       "<div id=\"c9190b08-6831-4d6c-be4d-f830e1afa4ae\" style=\"height: 1000px; width: 1000px;\" class=\"plotly-graph-div\"></div><script type=\"text/javascript\">require([\"plotly\"], function(Plotly) { window.PLOTLYENV=window.PLOTLYENV || {};window.PLOTLYENV.BASE_URL=\"https://plot.ly\";Plotly.newPlot(\"c9190b08-6831-4d6c-be4d-f830e1afa4ae\", [{\"marker\": {\"color\": \"rgb(158,202,225)\", \"line\": {\"color\": \"rgb(8,48,107)\", \"width\": 1.5}}, \"opacity\": 0.6, \"orientation\": \"h\", \"text\": [0.0859, 0.0619, 0.0534, 0.0436, 0.0405, 0.0238, 0.0227, 0.0183, 0.018, 0.0155, 0.0141, 0.0134, 0.0133, 0.0123, 0.0122, 0.0115, 0.0114, 0.0112, 0.0111, 0.0107, 0.0103, 0.0101, 0.01, 0.0099, 0.0099, 0.0098, 0.0095, 0.0091, 0.009, 0.009, 0.0089, 0.0086, 0.0086, 0.0085, 0.0082, 0.0081, 0.0076, 0.0075, 0.007, 0.0069, 0.0069, 0.0069, 0.0067, 0.0066, 0.0065, 0.0064, 0.0063, 0.0063, 0.0062, 0.0061, 0.0057, 0.0056, 0.0056, 0.0055, 0.0054, 0.0053, 0.0052, 0.0052, 0.0051, 0.0051, 0.0051, 0.005, 0.005, 0.0048, 0.0048, 0.0048, 0.0048, 0.0047, 0.0046, 0.0046, 0.0045, 0.0045, 0.0045, 0.0044, 0.0044, 0.0043, 0.0043, 0.0043, 0.0043, 0.0043, 0.0042, 0.0041, 0.0041, 0.0041, 0.0041, 0.004, 0.004, 0.004, 0.004, 0.004, 0.0039, 0.0039, 0.0039, 0.0039, 0.0036, 0.0036, 0.0035, 0.0035, 0.0035, 0.0034, 0.0034, 0.0033, 0.0033, 0.0032, 0.0032, 0.0031, 0.003, 0.003, 0.0029, 0.0025], \"textposition\": \"outside\", \"x\": [0.08594809673740826, 0.06190568629105384, 0.053367968533475675, 0.04358499868131837, 0.04048792365232464, 0.023836765989275623, 0.022652591776666554, 0.01827348778350569, 0.018031908680108025, 0.015542278044203644, 0.014144928849924677, 0.01339257767609591, 0.013258512091599386, 0.012295362585713872, 0.012238511033939444, 0.011520666565877174, 0.01135208087844172, 0.01118510599060102, 0.011126539177230646, 0.010692875003674784, 0.010301414554940453, 0.010136617694303029, 0.010008328953940457, 0.00993378574634012, 0.009859941671449922, 0.009801539736260328, 0.00953523782825087, 0.009058152064961456, 0.009011257920119056, 0.008952533129223365, 0.00890830114412485, 0.008613569565971922, 0.008603233060219973, 0.008546046288986, 0.008188207141646853, 0.008144013044017063, 0.007599637393018946, 0.007462397225325759, 0.006953871641149491, 0.006925644423992121, 0.0069222837663108685, 0.006861368584154058, 0.006708604173771437, 0.00664111381558416, 0.006506095261935863, 0.006359645513732382, 0.0063122347614893975, 0.006253130182615559, 0.006182243978734262, 0.006119795439336592, 0.0056507885129990585, 0.00562160319783489, 0.0055896193564908365, 0.005470502588402986, 0.005357335656360142, 0.005341859367428979, 0.005214298607910723, 0.00517483062073818, 0.005137590605326955, 0.005118727456664571, 0.005101873902858473, 0.005011337101204541, 0.004956824840411907, 0.004843165726355968, 0.004782960214137554, 0.004769244814370771, 0.004760405392059823, 0.004661316469396387, 0.00461192933541821, 0.0045953187924984195, 0.004539534438227593, 0.004536301386233433, 0.004491120850551365, 0.004441766759152859, 0.0044195270062935945, 0.004345001271824354, 0.0043126615500061905, 0.004296392128844707, 0.004295134666312856, 0.004281659075196473, 0.004182602771721905, 0.004119079064705064, 0.004096705137540088, 0.004095136289692274, 0.004054789828384512, 0.004047427459765502, 0.004034233148339138, 0.0040211715338743575, 0.0039648073162578245, 0.00395319545501756, 0.0038986032024907573, 0.0038930767721039724, 0.0038901826868815693, 0.003858462816247151, 0.0036440467204728773, 0.0035834150679551454, 0.003535781337956395, 0.0034826952099322474, 0.0034601728086892875, 0.0034026910140267756, 0.003355896302886291, 0.0033212515213020518, 0.003261454109148981, 0.0031996314999061513, 0.0031785758753795205, 0.00308409055606109, 0.003021503743610026, 0.002951379104623327, 0.00291618649365571, 0.0025120117315140795], \"y\": [\"0\", \"8\", \"1\", \"3\", \"4\", \"75\", \"51\", \"43\", \"79\", \"72\", \"36\", \"65\", \"58\", \"73\", \"7\", \"89\", \"47\", \"42\", \"21\", \"68\", \"46\", \"5\", \"56\", \"33\", \"80\", \"2\", \"71\", \"37\", \"82\", \"45\", \"27\", \"66\", \"20\", \"28\", \"44\", \"67\", \"31\", \"52\", \"50\", \"35\", \"86\", \"90\", \"12\", \"14\", \"13\", \"6\", \"62\", \"25\", \"69\", \"55\", \"24\", \"87\", \"29\", \"93\", \"64\", \"59\", \"100\", \"9\", \"88\", \"15\", \"48\", \"96\", \"104\", \"78\", \"74\", \"70\", \"30\", \"17\", \"97\", \"34\", \"39\", \"81\", \"63\", \"91\", \"83\", \"54\", \"19\", \"22\", \"41\", \"38\", \"61\", \"10\", \"108\", \"16\", \"40\", \"49\", \"32\", \"92\", \"84\", \"103\", \"76\", \"94\", \"85\", \"53\", \"18\", \"77\", \"105\", \"57\", \"23\", \"11\", \"101\", \"60\", \"109\", \"99\", \"98\", \"107\", \"26\", \"102\", \"95\", \"106\"], \"type\": \"bar\", \"uid\": \"1cc07390-1d76-4a69-8245-f87a284cdd9a\"}], {\"autosize\": false, \"height\": 1000, \"width\": 1000, \"xaxis\": {\"tickfont\": {\"color\": \"black\", \"size\": 12}, \"title\": \"Feature Importances\"}, \"yaxis\": {\"automargin\": true}}, {\"showLink\": true, \"linkText\": \"Export to plot.ly\", \"plotlyServerURL\": \"https://plot.ly\"})});</script>"
      ]
     },
     "metadata": {},
     "output_type": "display_data"
    },
    {
     "name": "stdout",
     "output_type": "stream",
     "text": [
      "\n",
      "\n",
      "\u001b[1mAdaoost Classifier\u001b[0m\n",
      "Accuracy of the model for training data is: 0.9427532939572921\n",
      "Confusion Matrix for training data is:\n"
     ]
    },
    {
     "data": {
      "text/plain": [
       "Predicted  False  True  __all__\n",
       "Actual                         \n",
       "False      31297   595    31892\n",
       "True        1547  3978     5525\n",
       "__all__    32844  4573    37417"
      ]
     },
     "metadata": {},
     "output_type": "display_data"
    },
    {
     "name": "stdout",
     "output_type": "stream",
     "text": [
      "Accuracy of the model for test data is: 0.9417361556553346\n",
      "Confusion Matrix for test data is:\n"
     ]
    },
    {
     "data": {
      "text/plain": [
       "Predicted  False  True  __all__\n",
       "Actual                         \n",
       "False       7827   158     7985\n",
       "True         387   982     1369\n",
       "__all__     8214  1140     9354"
      ]
     },
     "metadata": {},
     "output_type": "display_data"
    },
    {
     "data": {
      "application/vnd.plotly.v1+json": {
       "config": {
        "linkText": "Export to plot.ly",
        "plotlyServerURL": "https://plot.ly",
        "showLink": true
       },
       "data": [
        {
         "marker": {
          "color": "rgb(158,202,225)",
          "line": {
           "color": "rgb(8,48,107)",
           "width": 1.5
          }
         },
         "opacity": 0.6,
         "orientation": "h",
         "text": [
          0.16,
          0.1,
          0.1,
          0.1,
          0.08,
          0.04,
          0.04,
          0.04,
          0.04,
          0.02,
          0.02,
          0.02,
          0.02,
          0.02,
          0.02,
          0.02,
          0.02,
          0.02,
          0.02,
          0.02,
          0.02,
          0.02,
          0.02,
          0.02,
          0,
          0,
          0,
          0,
          0,
          0,
          0,
          0,
          0,
          0,
          0,
          0,
          0,
          0,
          0,
          0,
          0,
          0,
          0,
          0,
          0,
          0,
          0,
          0,
          0,
          0,
          0,
          0,
          0,
          0,
          0,
          0,
          0,
          0,
          0,
          0,
          0,
          0,
          0,
          0,
          0,
          0,
          0,
          0,
          0,
          0,
          0,
          0,
          0,
          0,
          0,
          0,
          0,
          0,
          0,
          0,
          0,
          0,
          0,
          0,
          0,
          0,
          0,
          0,
          0,
          0,
          0,
          0,
          0,
          0,
          0,
          0,
          0,
          0,
          0,
          0,
          0,
          0,
          0,
          0,
          0,
          0,
          0,
          0,
          0,
          0
         ],
         "textposition": "outside",
         "type": "bar",
         "uid": "14f9b1cd-3ae1-4021-9da4-ca54e6024210",
         "x": [
          0.16,
          0.1,
          0.1,
          0.1,
          0.08,
          0.04,
          0.04,
          0.04,
          0.04,
          0.02,
          0.02,
          0.02,
          0.02,
          0.02,
          0.02,
          0.02,
          0.02,
          0.02,
          0.02,
          0.02,
          0.02,
          0.02,
          0.02,
          0.02,
          0,
          0,
          0,
          0,
          0,
          0,
          0,
          0,
          0,
          0,
          0,
          0,
          0,
          0,
          0,
          0,
          0,
          0,
          0,
          0,
          0,
          0,
          0,
          0,
          0,
          0,
          0,
          0,
          0,
          0,
          0,
          0,
          0,
          0,
          0,
          0,
          0,
          0,
          0,
          0,
          0,
          0,
          0,
          0,
          0,
          0,
          0,
          0,
          0,
          0,
          0,
          0,
          0,
          0,
          0,
          0,
          0,
          0,
          0,
          0,
          0,
          0,
          0,
          0,
          0,
          0,
          0,
          0,
          0,
          0,
          0,
          0,
          0,
          0,
          0,
          0,
          0,
          0,
          0,
          0,
          0,
          0,
          0,
          0,
          0,
          0
         ],
         "y": [
          "0",
          "3",
          "8",
          "1",
          "4",
          "37",
          "36",
          "27",
          "14",
          "33",
          "89",
          "53",
          "30",
          "48",
          "28",
          "23",
          "20",
          "31",
          "21",
          "75",
          "12",
          "5",
          "6",
          "86",
          "77",
          "78",
          "84",
          "83",
          "67",
          "85",
          "76",
          "82",
          "81",
          "68",
          "80",
          "69",
          "74",
          "71",
          "73",
          "72",
          "79",
          "70",
          "92",
          "87",
          "88",
          "108",
          "107",
          "106",
          "105",
          "104",
          "103",
          "102",
          "101",
          "100",
          "99",
          "98",
          "97",
          "96",
          "95",
          "94",
          "93",
          "65",
          "91",
          "90",
          "66",
          "55",
          "64",
          "63",
          "35",
          "34",
          "32",
          "29",
          "26",
          "25",
          "24",
          "22",
          "19",
          "18",
          "17",
          "16",
          "15",
          "13",
          "11",
          "10",
          "9",
          "7",
          "2",
          "38",
          "39",
          "40",
          "52",
          "62",
          "61",
          "60",
          "59",
          "58",
          "57",
          "56",
          "54",
          "51",
          "41",
          "50",
          "49",
          "47",
          "46",
          "45",
          "44",
          "43",
          "42",
          "109"
         ]
        }
       ],
       "layout": {
        "autosize": false,
        "height": 1000,
        "width": 1000,
        "xaxis": {
         "tickfont": {
          "color": "black",
          "size": 12
         },
         "title": "Feature Importances"
        },
        "yaxis": {
         "automargin": true
        }
       }
      },
      "text/html": [
       "<div id=\"488fa56d-b2d8-4c31-b40d-3ee307b34f46\" style=\"height: 1000px; width: 1000px;\" class=\"plotly-graph-div\"></div><script type=\"text/javascript\">require([\"plotly\"], function(Plotly) { window.PLOTLYENV=window.PLOTLYENV || {};window.PLOTLYENV.BASE_URL=\"https://plot.ly\";Plotly.newPlot(\"488fa56d-b2d8-4c31-b40d-3ee307b34f46\", [{\"marker\": {\"color\": \"rgb(158,202,225)\", \"line\": {\"color\": \"rgb(8,48,107)\", \"width\": 1.5}}, \"opacity\": 0.6, \"orientation\": \"h\", \"text\": [0.16, 0.1, 0.1, 0.1, 0.08, 0.04, 0.04, 0.04, 0.04, 0.02, 0.02, 0.02, 0.02, 0.02, 0.02, 0.02, 0.02, 0.02, 0.02, 0.02, 0.02, 0.02, 0.02, 0.02, 0.0, 0.0, 0.0, 0.0, 0.0, 0.0, 0.0, 0.0, 0.0, 0.0, 0.0, 0.0, 0.0, 0.0, 0.0, 0.0, 0.0, 0.0, 0.0, 0.0, 0.0, 0.0, 0.0, 0.0, 0.0, 0.0, 0.0, 0.0, 0.0, 0.0, 0.0, 0.0, 0.0, 0.0, 0.0, 0.0, 0.0, 0.0, 0.0, 0.0, 0.0, 0.0, 0.0, 0.0, 0.0, 0.0, 0.0, 0.0, 0.0, 0.0, 0.0, 0.0, 0.0, 0.0, 0.0, 0.0, 0.0, 0.0, 0.0, 0.0, 0.0, 0.0, 0.0, 0.0, 0.0, 0.0, 0.0, 0.0, 0.0, 0.0, 0.0, 0.0, 0.0, 0.0, 0.0, 0.0, 0.0, 0.0, 0.0, 0.0, 0.0, 0.0, 0.0, 0.0, 0.0, 0.0], \"textposition\": \"outside\", \"x\": [0.16, 0.1, 0.1, 0.1, 0.08, 0.04, 0.04, 0.04, 0.04, 0.02, 0.02, 0.02, 0.02, 0.02, 0.02, 0.02, 0.02, 0.02, 0.02, 0.02, 0.02, 0.02, 0.02, 0.02, 0.0, 0.0, 0.0, 0.0, 0.0, 0.0, 0.0, 0.0, 0.0, 0.0, 0.0, 0.0, 0.0, 0.0, 0.0, 0.0, 0.0, 0.0, 0.0, 0.0, 0.0, 0.0, 0.0, 0.0, 0.0, 0.0, 0.0, 0.0, 0.0, 0.0, 0.0, 0.0, 0.0, 0.0, 0.0, 0.0, 0.0, 0.0, 0.0, 0.0, 0.0, 0.0, 0.0, 0.0, 0.0, 0.0, 0.0, 0.0, 0.0, 0.0, 0.0, 0.0, 0.0, 0.0, 0.0, 0.0, 0.0, 0.0, 0.0, 0.0, 0.0, 0.0, 0.0, 0.0, 0.0, 0.0, 0.0, 0.0, 0.0, 0.0, 0.0, 0.0, 0.0, 0.0, 0.0, 0.0, 0.0, 0.0, 0.0, 0.0, 0.0, 0.0, 0.0, 0.0, 0.0, 0.0], \"y\": [\"0\", \"3\", \"8\", \"1\", \"4\", \"37\", \"36\", \"27\", \"14\", \"33\", \"89\", \"53\", \"30\", \"48\", \"28\", \"23\", \"20\", \"31\", \"21\", \"75\", \"12\", \"5\", \"6\", \"86\", \"77\", \"78\", \"84\", \"83\", \"67\", \"85\", \"76\", \"82\", \"81\", \"68\", \"80\", \"69\", \"74\", \"71\", \"73\", \"72\", \"79\", \"70\", \"92\", \"87\", \"88\", \"108\", \"107\", \"106\", \"105\", \"104\", \"103\", \"102\", \"101\", \"100\", \"99\", \"98\", \"97\", \"96\", \"95\", \"94\", \"93\", \"65\", \"91\", \"90\", \"66\", \"55\", \"64\", \"63\", \"35\", \"34\", \"32\", \"29\", \"26\", \"25\", \"24\", \"22\", \"19\", \"18\", \"17\", \"16\", \"15\", \"13\", \"11\", \"10\", \"9\", \"7\", \"2\", \"38\", \"39\", \"40\", \"52\", \"62\", \"61\", \"60\", \"59\", \"58\", \"57\", \"56\", \"54\", \"51\", \"41\", \"50\", \"49\", \"47\", \"46\", \"45\", \"44\", \"43\", \"42\", \"109\"], \"type\": \"bar\", \"uid\": \"14f9b1cd-3ae1-4021-9da4-ca54e6024210\"}], {\"autosize\": false, \"height\": 1000, \"width\": 1000, \"xaxis\": {\"tickfont\": {\"color\": \"black\", \"size\": 12}, \"title\": \"Feature Importances\"}, \"yaxis\": {\"automargin\": true}}, {\"showLink\": true, \"linkText\": \"Export to plot.ly\", \"plotlyServerURL\": \"https://plot.ly\"})});</script>"
      ],
      "text/vnd.plotly.v1+html": [
       "<div id=\"488fa56d-b2d8-4c31-b40d-3ee307b34f46\" style=\"height: 1000px; width: 1000px;\" class=\"plotly-graph-div\"></div><script type=\"text/javascript\">require([\"plotly\"], function(Plotly) { window.PLOTLYENV=window.PLOTLYENV || {};window.PLOTLYENV.BASE_URL=\"https://plot.ly\";Plotly.newPlot(\"488fa56d-b2d8-4c31-b40d-3ee307b34f46\", [{\"marker\": {\"color\": \"rgb(158,202,225)\", \"line\": {\"color\": \"rgb(8,48,107)\", \"width\": 1.5}}, \"opacity\": 0.6, \"orientation\": \"h\", \"text\": [0.16, 0.1, 0.1, 0.1, 0.08, 0.04, 0.04, 0.04, 0.04, 0.02, 0.02, 0.02, 0.02, 0.02, 0.02, 0.02, 0.02, 0.02, 0.02, 0.02, 0.02, 0.02, 0.02, 0.02, 0.0, 0.0, 0.0, 0.0, 0.0, 0.0, 0.0, 0.0, 0.0, 0.0, 0.0, 0.0, 0.0, 0.0, 0.0, 0.0, 0.0, 0.0, 0.0, 0.0, 0.0, 0.0, 0.0, 0.0, 0.0, 0.0, 0.0, 0.0, 0.0, 0.0, 0.0, 0.0, 0.0, 0.0, 0.0, 0.0, 0.0, 0.0, 0.0, 0.0, 0.0, 0.0, 0.0, 0.0, 0.0, 0.0, 0.0, 0.0, 0.0, 0.0, 0.0, 0.0, 0.0, 0.0, 0.0, 0.0, 0.0, 0.0, 0.0, 0.0, 0.0, 0.0, 0.0, 0.0, 0.0, 0.0, 0.0, 0.0, 0.0, 0.0, 0.0, 0.0, 0.0, 0.0, 0.0, 0.0, 0.0, 0.0, 0.0, 0.0, 0.0, 0.0, 0.0, 0.0, 0.0, 0.0], \"textposition\": \"outside\", \"x\": [0.16, 0.1, 0.1, 0.1, 0.08, 0.04, 0.04, 0.04, 0.04, 0.02, 0.02, 0.02, 0.02, 0.02, 0.02, 0.02, 0.02, 0.02, 0.02, 0.02, 0.02, 0.02, 0.02, 0.02, 0.0, 0.0, 0.0, 0.0, 0.0, 0.0, 0.0, 0.0, 0.0, 0.0, 0.0, 0.0, 0.0, 0.0, 0.0, 0.0, 0.0, 0.0, 0.0, 0.0, 0.0, 0.0, 0.0, 0.0, 0.0, 0.0, 0.0, 0.0, 0.0, 0.0, 0.0, 0.0, 0.0, 0.0, 0.0, 0.0, 0.0, 0.0, 0.0, 0.0, 0.0, 0.0, 0.0, 0.0, 0.0, 0.0, 0.0, 0.0, 0.0, 0.0, 0.0, 0.0, 0.0, 0.0, 0.0, 0.0, 0.0, 0.0, 0.0, 0.0, 0.0, 0.0, 0.0, 0.0, 0.0, 0.0, 0.0, 0.0, 0.0, 0.0, 0.0, 0.0, 0.0, 0.0, 0.0, 0.0, 0.0, 0.0, 0.0, 0.0, 0.0, 0.0, 0.0, 0.0, 0.0, 0.0], \"y\": [\"0\", \"3\", \"8\", \"1\", \"4\", \"37\", \"36\", \"27\", \"14\", \"33\", \"89\", \"53\", \"30\", \"48\", \"28\", \"23\", \"20\", \"31\", \"21\", \"75\", \"12\", \"5\", \"6\", \"86\", \"77\", \"78\", \"84\", \"83\", \"67\", \"85\", \"76\", \"82\", \"81\", \"68\", \"80\", \"69\", \"74\", \"71\", \"73\", \"72\", \"79\", \"70\", \"92\", \"87\", \"88\", \"108\", \"107\", \"106\", \"105\", \"104\", \"103\", \"102\", \"101\", \"100\", \"99\", \"98\", \"97\", \"96\", \"95\", \"94\", \"93\", \"65\", \"91\", \"90\", \"66\", \"55\", \"64\", \"63\", \"35\", \"34\", \"32\", \"29\", \"26\", \"25\", \"24\", \"22\", \"19\", \"18\", \"17\", \"16\", \"15\", \"13\", \"11\", \"10\", \"9\", \"7\", \"2\", \"38\", \"39\", \"40\", \"52\", \"62\", \"61\", \"60\", \"59\", \"58\", \"57\", \"56\", \"54\", \"51\", \"41\", \"50\", \"49\", \"47\", \"46\", \"45\", \"44\", \"43\", \"42\", \"109\"], \"type\": \"bar\", \"uid\": \"14f9b1cd-3ae1-4021-9da4-ca54e6024210\"}], {\"autosize\": false, \"height\": 1000, \"width\": 1000, \"xaxis\": {\"tickfont\": {\"color\": \"black\", \"size\": 12}, \"title\": \"Feature Importances\"}, \"yaxis\": {\"automargin\": true}}, {\"showLink\": true, \"linkText\": \"Export to plot.ly\", \"plotlyServerURL\": \"https://plot.ly\"})});</script>"
      ]
     },
     "metadata": {},
     "output_type": "display_data"
    },
    {
     "name": "stdout",
     "output_type": "stream",
     "text": [
      "\n",
      "\n",
      "\u001b[1mGradientBoosting Classifier\u001b[0m\n",
      "Accuracy of the model for training data is: 0.9565705428014004\n",
      "Confusion Matrix for training data is:\n"
     ]
    },
    {
     "data": {
      "text/plain": [
       "Predicted  False  True  __all__\n",
       "Actual                         \n",
       "False      31599   293    31892\n",
       "True        1332  4193     5525\n",
       "__all__    32931  4486    37417"
      ]
     },
     "metadata": {},
     "output_type": "display_data"
    },
    {
     "name": "stdout",
     "output_type": "stream",
     "text": [
      "Accuracy of the model for test data is: 0.9523198631601454\n",
      "Confusion Matrix for test data is:\n"
     ]
    },
    {
     "data": {
      "text/plain": [
       "Predicted  False  True  __all__\n",
       "Actual                         \n",
       "False       7886    99     7985\n",
       "True         347  1022     1369\n",
       "__all__     8233  1121     9354"
      ]
     },
     "metadata": {},
     "output_type": "display_data"
    },
    {
     "data": {
      "application/vnd.plotly.v1+json": {
       "config": {
        "linkText": "Export to plot.ly",
        "plotlyServerURL": "https://plot.ly",
        "showLink": true
       },
       "data": [
        {
         "marker": {
          "color": "rgb(158,202,225)",
          "line": {
           "color": "rgb(8,48,107)",
           "width": 1.5
          }
         },
         "opacity": 0.6,
         "orientation": "h",
         "text": [
          0.4239,
          0.2391,
          0.069,
          0.0668,
          0.0665,
          0.0216,
          0.0098,
          0.0096,
          0.0079,
          0.0069,
          0.0052,
          0.0048,
          0.0047,
          0.0047,
          0.0045,
          0.0044,
          0.004,
          0.0033,
          0.0031,
          0.0026,
          0.0025,
          0.0023,
          0.0022,
          0.0022,
          0.0018,
          0.0018,
          0.0016,
          0.0015,
          0.0013,
          0.0012,
          0.0012,
          0.0012,
          0.0011,
          0.001,
          0.0009,
          0.0008,
          0.0008,
          0.0008,
          0.0008,
          0.0006,
          0.0006,
          0.0005,
          0.0005,
          0.0005,
          0.0005,
          0.0005,
          0.0005,
          0.0005,
          0.0005,
          0.0004,
          0.0004,
          0.0003,
          0.0003,
          0.0003,
          0.0003,
          0.0003,
          0.0003,
          0.0003,
          0.0002,
          0.0002,
          0.0002,
          0.0002,
          0.0002,
          0.0002,
          0.0002,
          0.0001,
          0.0001,
          0.0001,
          0.0001,
          0.0001,
          0.0001,
          0.0001,
          0.0001,
          0.0001,
          0.0001,
          0.0001,
          0,
          0,
          0,
          0,
          0,
          0,
          0,
          0,
          0,
          0,
          0,
          0,
          0,
          0,
          0,
          0,
          0,
          0,
          0,
          0,
          0,
          0,
          0,
          0,
          0,
          0,
          0,
          0,
          0,
          0,
          0,
          0,
          0,
          0
         ],
         "textposition": "outside",
         "type": "bar",
         "uid": "b5b82842-e1a1-4764-a255-30f34706bca3",
         "x": [
          0.4239491244916808,
          0.23911941021447228,
          0.0689754846120324,
          0.06682881233277914,
          0.0665298129983259,
          0.021568590859613417,
          0.00980264690584383,
          0.009551982535383138,
          0.007862473728155201,
          0.006920928867347935,
          0.005151295000936056,
          0.004774496947819217,
          0.004671762137644532,
          0.004664429103187333,
          0.004462769178313306,
          0.004419161654072963,
          0.00400363744268241,
          0.0033480326880473534,
          0.003108372679418294,
          0.0025739477611839653,
          0.0024838121970942617,
          0.0023377535695732693,
          0.002190491101280667,
          0.0021540483656566963,
          0.0018299655974588283,
          0.0017730905801758583,
          0.0015693248397954933,
          0.0014952057019217513,
          0.0012867132469383503,
          0.0012439761793832074,
          0.0011778129598310706,
          0.0011533470346197553,
          0.001146034275842362,
          0.0009504622793189506,
          0.0009452039958875003,
          0.0008424687429948891,
          0.0008338949335829113,
          0.000829364111744849,
          0.0008241194092325848,
          0.0006313447914909575,
          0.0005726252800792129,
          0.0005435168636390485,
          0.0005430436108052203,
          0.0005177577658131809,
          0.0005143924732966762,
          0.0005012092268618251,
          0.0004994081025616382,
          0.0004658550511522314,
          0.00046382478164920635,
          0.000426573125921631,
          0.0004182253363914919,
          0.0003233387742296372,
          0.0003099856787075111,
          0.0003047131120223474,
          0.0002970096984365604,
          0.00028285822474732766,
          0.00027466193276974165,
          0.0002553770995022009,
          0.0002281594955734911,
          0.00020939094443597823,
          0.0002081055326060254,
          0.00020601970237499426,
          0.00019013310469463156,
          0.00015521992226949196,
          0.0001510829391699371,
          0.00014122131903532636,
          0.00013909979042951565,
          0.00013514791143604706,
          0.0001192360827108588,
          0.00011496276878965383,
          0.00011134736013285257,
          8.014621842701957e-05,
          7.303360369762697e-05,
          7.065710202048979e-05,
          6.029548159250096e-05,
          5.68397763797536e-05,
          4.991875287351556e-05,
          0,
          0,
          0,
          0,
          0,
          0,
          0,
          0,
          0,
          0,
          0,
          0,
          0,
          0,
          0,
          0,
          0,
          0,
          0,
          0,
          0,
          0,
          0,
          0,
          0,
          0,
          0,
          0,
          0,
          0,
          0,
          0,
          0
         ],
         "y": [
          "0",
          "1",
          "3",
          "4",
          "8",
          "69",
          "36",
          "2",
          "27",
          "5",
          "86",
          "37",
          "33",
          "20",
          "43",
          "89",
          "71",
          "28",
          "6",
          "31",
          "21",
          "35",
          "39",
          "75",
          "66",
          "45",
          "79",
          "12",
          "67",
          "52",
          "50",
          "100",
          "14",
          "73",
          "17",
          "7",
          "44",
          "77",
          "80",
          "25",
          "46",
          "104",
          "24",
          "65",
          "48",
          "88",
          "15",
          "62",
          "82",
          "23",
          "70",
          "22",
          "90",
          "16",
          "30",
          "96",
          "38",
          "91",
          "59",
          "47",
          "92",
          "32",
          "94",
          "106",
          "101",
          "55",
          "29",
          "10",
          "99",
          "53",
          "109",
          "49",
          "56",
          "102",
          "42",
          "97",
          "107",
          "26",
          "93",
          "19",
          "95",
          "18",
          "105",
          "108",
          "9",
          "34",
          "13",
          "11",
          "103",
          "98",
          "64",
          "40",
          "76",
          "68",
          "61",
          "60",
          "58",
          "72",
          "57",
          "74",
          "54",
          "63",
          "78",
          "51",
          "81",
          "83",
          "84",
          "85",
          "87",
          "41"
         ]
        }
       ],
       "layout": {
        "autosize": false,
        "height": 1000,
        "width": 1000,
        "xaxis": {
         "tickfont": {
          "color": "black",
          "size": 12
         },
         "title": "Feature Importances"
        },
        "yaxis": {
         "automargin": true
        }
       }
      },
      "text/html": [
       "<div id=\"f36baaa9-e1bc-4244-bbeb-e180062d3172\" style=\"height: 1000px; width: 1000px;\" class=\"plotly-graph-div\"></div><script type=\"text/javascript\">require([\"plotly\"], function(Plotly) { window.PLOTLYENV=window.PLOTLYENV || {};window.PLOTLYENV.BASE_URL=\"https://plot.ly\";Plotly.newPlot(\"f36baaa9-e1bc-4244-bbeb-e180062d3172\", [{\"marker\": {\"color\": \"rgb(158,202,225)\", \"line\": {\"color\": \"rgb(8,48,107)\", \"width\": 1.5}}, \"opacity\": 0.6, \"orientation\": \"h\", \"text\": [0.4239, 0.2391, 0.069, 0.0668, 0.0665, 0.0216, 0.0098, 0.0096, 0.0079, 0.0069, 0.0052, 0.0048, 0.0047, 0.0047, 0.0045, 0.0044, 0.004, 0.0033, 0.0031, 0.0026, 0.0025, 0.0023, 0.0022, 0.0022, 0.0018, 0.0018, 0.0016, 0.0015, 0.0013, 0.0012, 0.0012, 0.0012, 0.0011, 0.001, 0.0009, 0.0008, 0.0008, 0.0008, 0.0008, 0.0006, 0.0006, 0.0005, 0.0005, 0.0005, 0.0005, 0.0005, 0.0005, 0.0005, 0.0005, 0.0004, 0.0004, 0.0003, 0.0003, 0.0003, 0.0003, 0.0003, 0.0003, 0.0003, 0.0002, 0.0002, 0.0002, 0.0002, 0.0002, 0.0002, 0.0002, 0.0001, 0.0001, 0.0001, 0.0001, 0.0001, 0.0001, 0.0001, 0.0001, 0.0001, 0.0001, 0.0001, 0.0, 0.0, 0.0, 0.0, 0.0, 0.0, 0.0, 0.0, 0.0, 0.0, 0.0, 0.0, 0.0, 0.0, 0.0, 0.0, 0.0, 0.0, 0.0, 0.0, 0.0, 0.0, 0.0, 0.0, 0.0, 0.0, 0.0, 0.0, 0.0, 0.0, 0.0, 0.0, 0.0, 0.0], \"textposition\": \"outside\", \"x\": [0.4239491244916808, 0.23911941021447228, 0.0689754846120324, 0.06682881233277914, 0.0665298129983259, 0.021568590859613417, 0.00980264690584383, 0.009551982535383138, 0.007862473728155201, 0.006920928867347935, 0.005151295000936056, 0.004774496947819217, 0.004671762137644532, 0.004664429103187333, 0.004462769178313306, 0.004419161654072963, 0.00400363744268241, 0.0033480326880473534, 0.003108372679418294, 0.0025739477611839653, 0.0024838121970942617, 0.0023377535695732693, 0.002190491101280667, 0.0021540483656566963, 0.0018299655974588283, 0.0017730905801758583, 0.0015693248397954933, 0.0014952057019217513, 0.0012867132469383503, 0.0012439761793832074, 0.0011778129598310706, 0.0011533470346197553, 0.001146034275842362, 0.0009504622793189506, 0.0009452039958875003, 0.0008424687429948891, 0.0008338949335829113, 0.000829364111744849, 0.0008241194092325848, 0.0006313447914909575, 0.0005726252800792129, 0.0005435168636390485, 0.0005430436108052203, 0.0005177577658131809, 0.0005143924732966762, 0.0005012092268618251, 0.0004994081025616382, 0.0004658550511522314, 0.00046382478164920635, 0.000426573125921631, 0.0004182253363914919, 0.0003233387742296372, 0.0003099856787075111, 0.0003047131120223474, 0.0002970096984365604, 0.00028285822474732766, 0.00027466193276974165, 0.0002553770995022009, 0.0002281594955734911, 0.00020939094443597823, 0.0002081055326060254, 0.00020601970237499426, 0.00019013310469463156, 0.00015521992226949196, 0.0001510829391699371, 0.00014122131903532636, 0.00013909979042951565, 0.00013514791143604706, 0.0001192360827108588, 0.00011496276878965383, 0.00011134736013285257, 8.014621842701957e-05, 7.303360369762697e-05, 7.065710202048979e-05, 6.029548159250096e-05, 5.68397763797536e-05, 4.991875287351556e-05, 0.0, 0.0, 0.0, 0.0, 0.0, 0.0, 0.0, 0.0, 0.0, 0.0, 0.0, 0.0, 0.0, 0.0, 0.0, 0.0, 0.0, 0.0, 0.0, 0.0, 0.0, 0.0, 0.0, 0.0, 0.0, 0.0, 0.0, 0.0, 0.0, 0.0, 0.0, 0.0, 0.0], \"y\": [\"0\", \"1\", \"3\", \"4\", \"8\", \"69\", \"36\", \"2\", \"27\", \"5\", \"86\", \"37\", \"33\", \"20\", \"43\", \"89\", \"71\", \"28\", \"6\", \"31\", \"21\", \"35\", \"39\", \"75\", \"66\", \"45\", \"79\", \"12\", \"67\", \"52\", \"50\", \"100\", \"14\", \"73\", \"17\", \"7\", \"44\", \"77\", \"80\", \"25\", \"46\", \"104\", \"24\", \"65\", \"48\", \"88\", \"15\", \"62\", \"82\", \"23\", \"70\", \"22\", \"90\", \"16\", \"30\", \"96\", \"38\", \"91\", \"59\", \"47\", \"92\", \"32\", \"94\", \"106\", \"101\", \"55\", \"29\", \"10\", \"99\", \"53\", \"109\", \"49\", \"56\", \"102\", \"42\", \"97\", \"107\", \"26\", \"93\", \"19\", \"95\", \"18\", \"105\", \"108\", \"9\", \"34\", \"13\", \"11\", \"103\", \"98\", \"64\", \"40\", \"76\", \"68\", \"61\", \"60\", \"58\", \"72\", \"57\", \"74\", \"54\", \"63\", \"78\", \"51\", \"81\", \"83\", \"84\", \"85\", \"87\", \"41\"], \"type\": \"bar\", \"uid\": \"b5b82842-e1a1-4764-a255-30f34706bca3\"}], {\"autosize\": false, \"height\": 1000, \"width\": 1000, \"xaxis\": {\"tickfont\": {\"color\": \"black\", \"size\": 12}, \"title\": \"Feature Importances\"}, \"yaxis\": {\"automargin\": true}}, {\"showLink\": true, \"linkText\": \"Export to plot.ly\", \"plotlyServerURL\": \"https://plot.ly\"})});</script>"
      ],
      "text/vnd.plotly.v1+html": [
       "<div id=\"f36baaa9-e1bc-4244-bbeb-e180062d3172\" style=\"height: 1000px; width: 1000px;\" class=\"plotly-graph-div\"></div><script type=\"text/javascript\">require([\"plotly\"], function(Plotly) { window.PLOTLYENV=window.PLOTLYENV || {};window.PLOTLYENV.BASE_URL=\"https://plot.ly\";Plotly.newPlot(\"f36baaa9-e1bc-4244-bbeb-e180062d3172\", [{\"marker\": {\"color\": \"rgb(158,202,225)\", \"line\": {\"color\": \"rgb(8,48,107)\", \"width\": 1.5}}, \"opacity\": 0.6, \"orientation\": \"h\", \"text\": [0.4239, 0.2391, 0.069, 0.0668, 0.0665, 0.0216, 0.0098, 0.0096, 0.0079, 0.0069, 0.0052, 0.0048, 0.0047, 0.0047, 0.0045, 0.0044, 0.004, 0.0033, 0.0031, 0.0026, 0.0025, 0.0023, 0.0022, 0.0022, 0.0018, 0.0018, 0.0016, 0.0015, 0.0013, 0.0012, 0.0012, 0.0012, 0.0011, 0.001, 0.0009, 0.0008, 0.0008, 0.0008, 0.0008, 0.0006, 0.0006, 0.0005, 0.0005, 0.0005, 0.0005, 0.0005, 0.0005, 0.0005, 0.0005, 0.0004, 0.0004, 0.0003, 0.0003, 0.0003, 0.0003, 0.0003, 0.0003, 0.0003, 0.0002, 0.0002, 0.0002, 0.0002, 0.0002, 0.0002, 0.0002, 0.0001, 0.0001, 0.0001, 0.0001, 0.0001, 0.0001, 0.0001, 0.0001, 0.0001, 0.0001, 0.0001, 0.0, 0.0, 0.0, 0.0, 0.0, 0.0, 0.0, 0.0, 0.0, 0.0, 0.0, 0.0, 0.0, 0.0, 0.0, 0.0, 0.0, 0.0, 0.0, 0.0, 0.0, 0.0, 0.0, 0.0, 0.0, 0.0, 0.0, 0.0, 0.0, 0.0, 0.0, 0.0, 0.0, 0.0], \"textposition\": \"outside\", \"x\": [0.4239491244916808, 0.23911941021447228, 0.0689754846120324, 0.06682881233277914, 0.0665298129983259, 0.021568590859613417, 0.00980264690584383, 0.009551982535383138, 0.007862473728155201, 0.006920928867347935, 0.005151295000936056, 0.004774496947819217, 0.004671762137644532, 0.004664429103187333, 0.004462769178313306, 0.004419161654072963, 0.00400363744268241, 0.0033480326880473534, 0.003108372679418294, 0.0025739477611839653, 0.0024838121970942617, 0.0023377535695732693, 0.002190491101280667, 0.0021540483656566963, 0.0018299655974588283, 0.0017730905801758583, 0.0015693248397954933, 0.0014952057019217513, 0.0012867132469383503, 0.0012439761793832074, 0.0011778129598310706, 0.0011533470346197553, 0.001146034275842362, 0.0009504622793189506, 0.0009452039958875003, 0.0008424687429948891, 0.0008338949335829113, 0.000829364111744849, 0.0008241194092325848, 0.0006313447914909575, 0.0005726252800792129, 0.0005435168636390485, 0.0005430436108052203, 0.0005177577658131809, 0.0005143924732966762, 0.0005012092268618251, 0.0004994081025616382, 0.0004658550511522314, 0.00046382478164920635, 0.000426573125921631, 0.0004182253363914919, 0.0003233387742296372, 0.0003099856787075111, 0.0003047131120223474, 0.0002970096984365604, 0.00028285822474732766, 0.00027466193276974165, 0.0002553770995022009, 0.0002281594955734911, 0.00020939094443597823, 0.0002081055326060254, 0.00020601970237499426, 0.00019013310469463156, 0.00015521992226949196, 0.0001510829391699371, 0.00014122131903532636, 0.00013909979042951565, 0.00013514791143604706, 0.0001192360827108588, 0.00011496276878965383, 0.00011134736013285257, 8.014621842701957e-05, 7.303360369762697e-05, 7.065710202048979e-05, 6.029548159250096e-05, 5.68397763797536e-05, 4.991875287351556e-05, 0.0, 0.0, 0.0, 0.0, 0.0, 0.0, 0.0, 0.0, 0.0, 0.0, 0.0, 0.0, 0.0, 0.0, 0.0, 0.0, 0.0, 0.0, 0.0, 0.0, 0.0, 0.0, 0.0, 0.0, 0.0, 0.0, 0.0, 0.0, 0.0, 0.0, 0.0, 0.0, 0.0], \"y\": [\"0\", \"1\", \"3\", \"4\", \"8\", \"69\", \"36\", \"2\", \"27\", \"5\", \"86\", \"37\", \"33\", \"20\", \"43\", \"89\", \"71\", \"28\", \"6\", \"31\", \"21\", \"35\", \"39\", \"75\", \"66\", \"45\", \"79\", \"12\", \"67\", \"52\", \"50\", \"100\", \"14\", \"73\", \"17\", \"7\", \"44\", \"77\", \"80\", \"25\", \"46\", \"104\", \"24\", \"65\", \"48\", \"88\", \"15\", \"62\", \"82\", \"23\", \"70\", \"22\", \"90\", \"16\", \"30\", \"96\", \"38\", \"91\", \"59\", \"47\", \"92\", \"32\", \"94\", \"106\", \"101\", \"55\", \"29\", \"10\", \"99\", \"53\", \"109\", \"49\", \"56\", \"102\", \"42\", \"97\", \"107\", \"26\", \"93\", \"19\", \"95\", \"18\", \"105\", \"108\", \"9\", \"34\", \"13\", \"11\", \"103\", \"98\", \"64\", \"40\", \"76\", \"68\", \"61\", \"60\", \"58\", \"72\", \"57\", \"74\", \"54\", \"63\", \"78\", \"51\", \"81\", \"83\", \"84\", \"85\", \"87\", \"41\"], \"type\": \"bar\", \"uid\": \"b5b82842-e1a1-4764-a255-30f34706bca3\"}], {\"autosize\": false, \"height\": 1000, \"width\": 1000, \"xaxis\": {\"tickfont\": {\"color\": \"black\", \"size\": 12}, \"title\": \"Feature Importances\"}, \"yaxis\": {\"automargin\": true}}, {\"showLink\": true, \"linkText\": \"Export to plot.ly\", \"plotlyServerURL\": \"https://plot.ly\"})});</script>"
      ]
     },
     "metadata": {},
     "output_type": "display_data"
    },
    {
     "name": "stdout",
     "output_type": "stream",
     "text": [
      "\n",
      "\n",
      "\u001b[1mExtraTree Classifier\u001b[0m\n",
      "Accuracy of the model for training data is: 0.9999732741801854\n",
      "Confusion Matrix for training data is:\n"
     ]
    },
    {
     "data": {
      "text/plain": [
       "Predicted  False  True  __all__\n",
       "Actual                         \n",
       "False      31892     0    31892\n",
       "True           1  5524     5525\n",
       "__all__    31893  5524    37417"
      ]
     },
     "metadata": {},
     "output_type": "display_data"
    },
    {
     "name": "stdout",
     "output_type": "stream",
     "text": [
      "Accuracy of the model for test data is: 0.9405601881548001\n",
      "Confusion Matrix for test data is:\n"
     ]
    },
    {
     "data": {
      "text/plain": [
       "Predicted  False  True  __all__\n",
       "Actual                         \n",
       "False       7941    44     7985\n",
       "True         512   857     1369\n",
       "__all__     8453   901     9354"
      ]
     },
     "metadata": {},
     "output_type": "display_data"
    },
    {
     "data": {
      "application/vnd.plotly.v1+json": {
       "config": {
        "linkText": "Export to plot.ly",
        "plotlyServerURL": "https://plot.ly",
        "showLink": true
       },
       "data": [
        {
         "marker": {
          "color": "rgb(158,202,225)",
          "line": {
           "color": "rgb(8,48,107)",
           "width": 1.5
          }
         },
         "opacity": 0.6,
         "orientation": "h",
         "text": [
          0.0474,
          0.0357,
          0.0328,
          0.0301,
          0.0265,
          0.0157,
          0.0146,
          0.0136,
          0.0134,
          0.013,
          0.0126,
          0.0125,
          0.012,
          0.0118,
          0.0118,
          0.0109,
          0.0106,
          0.0106,
          0.0106,
          0.0104,
          0.0104,
          0.0103,
          0.0103,
          0.0101,
          0.0101,
          0.01,
          0.0099,
          0.0098,
          0.0095,
          0.0095,
          0.0095,
          0.0094,
          0.0094,
          0.0091,
          0.0091,
          0.0091,
          0.0089,
          0.0088,
          0.0088,
          0.0086,
          0.0086,
          0.0085,
          0.0085,
          0.0085,
          0.0082,
          0.0082,
          0.0081,
          0.008,
          0.0079,
          0.0079,
          0.0078,
          0.0078,
          0.0077,
          0.0077,
          0.0077,
          0.0076,
          0.0076,
          0.0075,
          0.0075,
          0.0075,
          0.0075,
          0.0075,
          0.0075,
          0.0074,
          0.0072,
          0.0072,
          0.0072,
          0.0072,
          0.0072,
          0.007,
          0.0069,
          0.0068,
          0.0068,
          0.0065,
          0.0064,
          0.0063,
          0.0063,
          0.0063,
          0.0062,
          0.0062,
          0.0062,
          0.0061,
          0.0061,
          0.006,
          0.006,
          0.006,
          0.0059,
          0.0057,
          0.0057,
          0.0057,
          0.0055,
          0.0054,
          0.0054,
          0.0054,
          0.0053,
          0.0053,
          0.0051,
          0.005,
          0.0049,
          0.0048,
          0.0048,
          0.0048,
          0.0047,
          0.0047,
          0.0047,
          0.0045,
          0.0045,
          0.0044,
          0.0043,
          0.004
         ],
         "textposition": "outside",
         "type": "bar",
         "uid": "1d79cff8-aadf-4b7c-98af-4f03796f0588",
         "x": [
          0.04741970447048435,
          0.03570413781673079,
          0.03282034457744821,
          0.030140423432263645,
          0.026476287207540486,
          0.015659265127110078,
          0.014618557692792843,
          0.013588611240085554,
          0.013401495386362114,
          0.013045519863865084,
          0.012550071283336477,
          0.01245149600011225,
          0.012040358980616245,
          0.011757427868616993,
          0.011755848533745025,
          0.010902502814201586,
          0.010613976362411558,
          0.0105731865552418,
          0.010551186169361884,
          0.010438289380350305,
          0.01041265158687873,
          0.010319495579284023,
          0.010297930587229859,
          0.010053034146203234,
          0.010052344937207388,
          0.010036252341910685,
          0.009918152548871845,
          0.009802676163473809,
          0.009504170278176058,
          0.009498601357385901,
          0.00946327463281959,
          0.009440037345567314,
          0.009375394798442788,
          0.009096448713866926,
          0.009080876903722659,
          0.00906312307630438,
          0.00892604858756261,
          0.008805354501973962,
          0.008798253574312923,
          0.008635680508241214,
          0.008632676293058318,
          0.008505594996423605,
          0.008467833343215244,
          0.008460385556950934,
          0.008173639853584349,
          0.00816267621462846,
          0.008075788336029864,
          0.00796564722803123,
          0.007944615032672506,
          0.00788004015488117,
          0.007773470778871727,
          0.007754250227458628,
          0.007738608258357436,
          0.007728230766107114,
          0.007716669588102405,
          0.007621070903781678,
          0.007611793249452634,
          0.007527947672549454,
          0.0074934631481060505,
          0.007490836917401533,
          0.007482839600364253,
          0.007470830729213337,
          0.007456076784800428,
          0.007444258397967319,
          0.007217720961980481,
          0.0071979736362164405,
          0.007197447768306547,
          0.007160853594827673,
          0.007157599036869504,
          0.007027979251601431,
          0.0069427271983571745,
          0.006804949011579541,
          0.006797424874103347,
          0.006529291946775094,
          0.006441188088915027,
          0.006265182820673357,
          0.0062595846090318305,
          0.0062580675969991124,
          0.0061780937081279755,
          0.0061664473788555635,
          0.006158052443980287,
          0.0061463566557290955,
          0.006099558431856338,
          0.006013099818940513,
          0.0060025136694136375,
          0.005979836433773523,
          0.005854612558454317,
          0.005694651009055248,
          0.005692293881667968,
          0.00568692047293417,
          0.005456194825722425,
          0.005415829137917242,
          0.005357278117196517,
          0.005354155122810179,
          0.005330133507695606,
          0.005315628248216813,
          0.005076003862208957,
          0.005016585379681485,
          0.0048984276241195715,
          0.004847841225613033,
          0.0048225330635024615,
          0.004771554202257467,
          0.004734941205802846,
          0.0047288552264190984,
          0.004679939623695608,
          0.00449473181256312,
          0.004470694384121267,
          0.004373928386990381,
          0.004259911300214221,
          0.003996669920103413
         ],
         "y": [
          "0",
          "3",
          "8",
          "1",
          "4",
          "82",
          "81",
          "75",
          "61",
          "67",
          "45",
          "68",
          "7",
          "57",
          "14",
          "2",
          "83",
          "21",
          "63",
          "71",
          "50",
          "42",
          "64",
          "27",
          "43",
          "89",
          "60",
          "36",
          "13",
          "74",
          "33",
          "62",
          "47",
          "48",
          "12",
          "66",
          "59",
          "5",
          "65",
          "53",
          "58",
          "15",
          "70",
          "44",
          "16",
          "6",
          "37",
          "80",
          "51",
          "69",
          "73",
          "20",
          "35",
          "90",
          "22",
          "55",
          "28",
          "56",
          "79",
          "19",
          "87",
          "31",
          "86",
          "41",
          "29",
          "10",
          "54",
          "78",
          "52",
          "107",
          "46",
          "25",
          "72",
          "94",
          "108",
          "49",
          "18",
          "93",
          "85",
          "24",
          "26",
          "76",
          "17",
          "105",
          "100",
          "88",
          "30",
          "9",
          "96",
          "84",
          "38",
          "32",
          "34",
          "39",
          "23",
          "97",
          "11",
          "92",
          "40",
          "77",
          "102",
          "104",
          "99",
          "109",
          "91",
          "103",
          "106",
          "101",
          "95",
          "98"
         ]
        }
       ],
       "layout": {
        "autosize": false,
        "height": 1000,
        "width": 1000,
        "xaxis": {
         "tickfont": {
          "color": "black",
          "size": 12
         },
         "title": "Feature Importances"
        },
        "yaxis": {
         "automargin": true
        }
       }
      },
      "text/html": [
       "<div id=\"5dea449a-93e8-470c-912a-09cb2a8a3c0a\" style=\"height: 1000px; width: 1000px;\" class=\"plotly-graph-div\"></div><script type=\"text/javascript\">require([\"plotly\"], function(Plotly) { window.PLOTLYENV=window.PLOTLYENV || {};window.PLOTLYENV.BASE_URL=\"https://plot.ly\";Plotly.newPlot(\"5dea449a-93e8-470c-912a-09cb2a8a3c0a\", [{\"marker\": {\"color\": \"rgb(158,202,225)\", \"line\": {\"color\": \"rgb(8,48,107)\", \"width\": 1.5}}, \"opacity\": 0.6, \"orientation\": \"h\", \"text\": [0.0474, 0.0357, 0.0328, 0.0301, 0.0265, 0.0157, 0.0146, 0.0136, 0.0134, 0.013, 0.0126, 0.0125, 0.012, 0.0118, 0.0118, 0.0109, 0.0106, 0.0106, 0.0106, 0.0104, 0.0104, 0.0103, 0.0103, 0.0101, 0.0101, 0.01, 0.0099, 0.0098, 0.0095, 0.0095, 0.0095, 0.0094, 0.0094, 0.0091, 0.0091, 0.0091, 0.0089, 0.0088, 0.0088, 0.0086, 0.0086, 0.0085, 0.0085, 0.0085, 0.0082, 0.0082, 0.0081, 0.008, 0.0079, 0.0079, 0.0078, 0.0078, 0.0077, 0.0077, 0.0077, 0.0076, 0.0076, 0.0075, 0.0075, 0.0075, 0.0075, 0.0075, 0.0075, 0.0074, 0.0072, 0.0072, 0.0072, 0.0072, 0.0072, 0.007, 0.0069, 0.0068, 0.0068, 0.0065, 0.0064, 0.0063, 0.0063, 0.0063, 0.0062, 0.0062, 0.0062, 0.0061, 0.0061, 0.006, 0.006, 0.006, 0.0059, 0.0057, 0.0057, 0.0057, 0.0055, 0.0054, 0.0054, 0.0054, 0.0053, 0.0053, 0.0051, 0.005, 0.0049, 0.0048, 0.0048, 0.0048, 0.0047, 0.0047, 0.0047, 0.0045, 0.0045, 0.0044, 0.0043, 0.004], \"textposition\": \"outside\", \"x\": [0.04741970447048435, 0.03570413781673079, 0.03282034457744821, 0.030140423432263645, 0.026476287207540486, 0.015659265127110078, 0.014618557692792843, 0.013588611240085554, 0.013401495386362114, 0.013045519863865084, 0.012550071283336477, 0.01245149600011225, 0.012040358980616245, 0.011757427868616993, 0.011755848533745025, 0.010902502814201586, 0.010613976362411558, 0.0105731865552418, 0.010551186169361884, 0.010438289380350305, 0.01041265158687873, 0.010319495579284023, 0.010297930587229859, 0.010053034146203234, 0.010052344937207388, 0.010036252341910685, 0.009918152548871845, 0.009802676163473809, 0.009504170278176058, 0.009498601357385901, 0.00946327463281959, 0.009440037345567314, 0.009375394798442788, 0.009096448713866926, 0.009080876903722659, 0.00906312307630438, 0.00892604858756261, 0.008805354501973962, 0.008798253574312923, 0.008635680508241214, 0.008632676293058318, 0.008505594996423605, 0.008467833343215244, 0.008460385556950934, 0.008173639853584349, 0.00816267621462846, 0.008075788336029864, 0.00796564722803123, 0.007944615032672506, 0.00788004015488117, 0.007773470778871727, 0.007754250227458628, 0.007738608258357436, 0.007728230766107114, 0.007716669588102405, 0.007621070903781678, 0.007611793249452634, 0.007527947672549454, 0.0074934631481060505, 0.007490836917401533, 0.007482839600364253, 0.007470830729213337, 0.007456076784800428, 0.007444258397967319, 0.007217720961980481, 0.0071979736362164405, 0.007197447768306547, 0.007160853594827673, 0.007157599036869504, 0.007027979251601431, 0.0069427271983571745, 0.006804949011579541, 0.006797424874103347, 0.006529291946775094, 0.006441188088915027, 0.006265182820673357, 0.0062595846090318305, 0.0062580675969991124, 0.0061780937081279755, 0.0061664473788555635, 0.006158052443980287, 0.0061463566557290955, 0.006099558431856338, 0.006013099818940513, 0.0060025136694136375, 0.005979836433773523, 0.005854612558454317, 0.005694651009055248, 0.005692293881667968, 0.00568692047293417, 0.005456194825722425, 0.005415829137917242, 0.005357278117196517, 0.005354155122810179, 0.005330133507695606, 0.005315628248216813, 0.005076003862208957, 0.005016585379681485, 0.0048984276241195715, 0.004847841225613033, 0.0048225330635024615, 0.004771554202257467, 0.004734941205802846, 0.0047288552264190984, 0.004679939623695608, 0.00449473181256312, 0.004470694384121267, 0.004373928386990381, 0.004259911300214221, 0.003996669920103413], \"y\": [\"0\", \"3\", \"8\", \"1\", \"4\", \"82\", \"81\", \"75\", \"61\", \"67\", \"45\", \"68\", \"7\", \"57\", \"14\", \"2\", \"83\", \"21\", \"63\", \"71\", \"50\", \"42\", \"64\", \"27\", \"43\", \"89\", \"60\", \"36\", \"13\", \"74\", \"33\", \"62\", \"47\", \"48\", \"12\", \"66\", \"59\", \"5\", \"65\", \"53\", \"58\", \"15\", \"70\", \"44\", \"16\", \"6\", \"37\", \"80\", \"51\", \"69\", \"73\", \"20\", \"35\", \"90\", \"22\", \"55\", \"28\", \"56\", \"79\", \"19\", \"87\", \"31\", \"86\", \"41\", \"29\", \"10\", \"54\", \"78\", \"52\", \"107\", \"46\", \"25\", \"72\", \"94\", \"108\", \"49\", \"18\", \"93\", \"85\", \"24\", \"26\", \"76\", \"17\", \"105\", \"100\", \"88\", \"30\", \"9\", \"96\", \"84\", \"38\", \"32\", \"34\", \"39\", \"23\", \"97\", \"11\", \"92\", \"40\", \"77\", \"102\", \"104\", \"99\", \"109\", \"91\", \"103\", \"106\", \"101\", \"95\", \"98\"], \"type\": \"bar\", \"uid\": \"1d79cff8-aadf-4b7c-98af-4f03796f0588\"}], {\"autosize\": false, \"height\": 1000, \"width\": 1000, \"xaxis\": {\"tickfont\": {\"color\": \"black\", \"size\": 12}, \"title\": \"Feature Importances\"}, \"yaxis\": {\"automargin\": true}}, {\"showLink\": true, \"linkText\": \"Export to plot.ly\", \"plotlyServerURL\": \"https://plot.ly\"})});</script>"
      ],
      "text/vnd.plotly.v1+html": [
       "<div id=\"5dea449a-93e8-470c-912a-09cb2a8a3c0a\" style=\"height: 1000px; width: 1000px;\" class=\"plotly-graph-div\"></div><script type=\"text/javascript\">require([\"plotly\"], function(Plotly) { window.PLOTLYENV=window.PLOTLYENV || {};window.PLOTLYENV.BASE_URL=\"https://plot.ly\";Plotly.newPlot(\"5dea449a-93e8-470c-912a-09cb2a8a3c0a\", [{\"marker\": {\"color\": \"rgb(158,202,225)\", \"line\": {\"color\": \"rgb(8,48,107)\", \"width\": 1.5}}, \"opacity\": 0.6, \"orientation\": \"h\", \"text\": [0.0474, 0.0357, 0.0328, 0.0301, 0.0265, 0.0157, 0.0146, 0.0136, 0.0134, 0.013, 0.0126, 0.0125, 0.012, 0.0118, 0.0118, 0.0109, 0.0106, 0.0106, 0.0106, 0.0104, 0.0104, 0.0103, 0.0103, 0.0101, 0.0101, 0.01, 0.0099, 0.0098, 0.0095, 0.0095, 0.0095, 0.0094, 0.0094, 0.0091, 0.0091, 0.0091, 0.0089, 0.0088, 0.0088, 0.0086, 0.0086, 0.0085, 0.0085, 0.0085, 0.0082, 0.0082, 0.0081, 0.008, 0.0079, 0.0079, 0.0078, 0.0078, 0.0077, 0.0077, 0.0077, 0.0076, 0.0076, 0.0075, 0.0075, 0.0075, 0.0075, 0.0075, 0.0075, 0.0074, 0.0072, 0.0072, 0.0072, 0.0072, 0.0072, 0.007, 0.0069, 0.0068, 0.0068, 0.0065, 0.0064, 0.0063, 0.0063, 0.0063, 0.0062, 0.0062, 0.0062, 0.0061, 0.0061, 0.006, 0.006, 0.006, 0.0059, 0.0057, 0.0057, 0.0057, 0.0055, 0.0054, 0.0054, 0.0054, 0.0053, 0.0053, 0.0051, 0.005, 0.0049, 0.0048, 0.0048, 0.0048, 0.0047, 0.0047, 0.0047, 0.0045, 0.0045, 0.0044, 0.0043, 0.004], \"textposition\": \"outside\", \"x\": [0.04741970447048435, 0.03570413781673079, 0.03282034457744821, 0.030140423432263645, 0.026476287207540486, 0.015659265127110078, 0.014618557692792843, 0.013588611240085554, 0.013401495386362114, 0.013045519863865084, 0.012550071283336477, 0.01245149600011225, 0.012040358980616245, 0.011757427868616993, 0.011755848533745025, 0.010902502814201586, 0.010613976362411558, 0.0105731865552418, 0.010551186169361884, 0.010438289380350305, 0.01041265158687873, 0.010319495579284023, 0.010297930587229859, 0.010053034146203234, 0.010052344937207388, 0.010036252341910685, 0.009918152548871845, 0.009802676163473809, 0.009504170278176058, 0.009498601357385901, 0.00946327463281959, 0.009440037345567314, 0.009375394798442788, 0.009096448713866926, 0.009080876903722659, 0.00906312307630438, 0.00892604858756261, 0.008805354501973962, 0.008798253574312923, 0.008635680508241214, 0.008632676293058318, 0.008505594996423605, 0.008467833343215244, 0.008460385556950934, 0.008173639853584349, 0.00816267621462846, 0.008075788336029864, 0.00796564722803123, 0.007944615032672506, 0.00788004015488117, 0.007773470778871727, 0.007754250227458628, 0.007738608258357436, 0.007728230766107114, 0.007716669588102405, 0.007621070903781678, 0.007611793249452634, 0.007527947672549454, 0.0074934631481060505, 0.007490836917401533, 0.007482839600364253, 0.007470830729213337, 0.007456076784800428, 0.007444258397967319, 0.007217720961980481, 0.0071979736362164405, 0.007197447768306547, 0.007160853594827673, 0.007157599036869504, 0.007027979251601431, 0.0069427271983571745, 0.006804949011579541, 0.006797424874103347, 0.006529291946775094, 0.006441188088915027, 0.006265182820673357, 0.0062595846090318305, 0.0062580675969991124, 0.0061780937081279755, 0.0061664473788555635, 0.006158052443980287, 0.0061463566557290955, 0.006099558431856338, 0.006013099818940513, 0.0060025136694136375, 0.005979836433773523, 0.005854612558454317, 0.005694651009055248, 0.005692293881667968, 0.00568692047293417, 0.005456194825722425, 0.005415829137917242, 0.005357278117196517, 0.005354155122810179, 0.005330133507695606, 0.005315628248216813, 0.005076003862208957, 0.005016585379681485, 0.0048984276241195715, 0.004847841225613033, 0.0048225330635024615, 0.004771554202257467, 0.004734941205802846, 0.0047288552264190984, 0.004679939623695608, 0.00449473181256312, 0.004470694384121267, 0.004373928386990381, 0.004259911300214221, 0.003996669920103413], \"y\": [\"0\", \"3\", \"8\", \"1\", \"4\", \"82\", \"81\", \"75\", \"61\", \"67\", \"45\", \"68\", \"7\", \"57\", \"14\", \"2\", \"83\", \"21\", \"63\", \"71\", \"50\", \"42\", \"64\", \"27\", \"43\", \"89\", \"60\", \"36\", \"13\", \"74\", \"33\", \"62\", \"47\", \"48\", \"12\", \"66\", \"59\", \"5\", \"65\", \"53\", \"58\", \"15\", \"70\", \"44\", \"16\", \"6\", \"37\", \"80\", \"51\", \"69\", \"73\", \"20\", \"35\", \"90\", \"22\", \"55\", \"28\", \"56\", \"79\", \"19\", \"87\", \"31\", \"86\", \"41\", \"29\", \"10\", \"54\", \"78\", \"52\", \"107\", \"46\", \"25\", \"72\", \"94\", \"108\", \"49\", \"18\", \"93\", \"85\", \"24\", \"26\", \"76\", \"17\", \"105\", \"100\", \"88\", \"30\", \"9\", \"96\", \"84\", \"38\", \"32\", \"34\", \"39\", \"23\", \"97\", \"11\", \"92\", \"40\", \"77\", \"102\", \"104\", \"99\", \"109\", \"91\", \"103\", \"106\", \"101\", \"95\", \"98\"], \"type\": \"bar\", \"uid\": \"1d79cff8-aadf-4b7c-98af-4f03796f0588\"}], {\"autosize\": false, \"height\": 1000, \"width\": 1000, \"xaxis\": {\"tickfont\": {\"color\": \"black\", \"size\": 12}, \"title\": \"Feature Importances\"}, \"yaxis\": {\"automargin\": true}}, {\"showLink\": true, \"linkText\": \"Export to plot.ly\", \"plotlyServerURL\": \"https://plot.ly\"})});</script>"
      ]
     },
     "metadata": {},
     "output_type": "display_data"
    },
    {
     "name": "stdout",
     "output_type": "stream",
     "text": [
      "\n",
      "\n",
      "\u001b[1mBagging Classifier\u001b[0m\n",
      "Accuracy of the model for training data is: 0.9938530614426597\n",
      "Confusion Matrix for training data is:\n"
     ]
    },
    {
     "data": {
      "text/plain": [
       "Predicted  False  True  __all__\n",
       "Actual                         \n",
       "False      31886     6    31892\n",
       "True         224  5301     5525\n",
       "__all__    32110  5307    37417"
      ]
     },
     "metadata": {},
     "output_type": "display_data"
    },
    {
     "name": "stdout",
     "output_type": "stream",
     "text": [
      "Accuracy of the model for test data is: 0.9481505238400684\n",
      "Confusion Matrix for test data is:\n"
     ]
    },
    {
     "data": {
      "text/plain": [
       "Predicted  False  True  __all__\n",
       "Actual                         \n",
       "False       7880   105     7985\n",
       "True         380   989     1369\n",
       "__all__     8260  1094     9354"
      ]
     },
     "metadata": {},
     "output_type": "display_data"
    },
    {
     "name": "stdout",
     "output_type": "stream",
     "text": [
      "\n",
      "\n",
      "\u001b[1mNeural Network-1\u001b[0m\n",
      "The accuracy of the model on training data is: 0.9979955635139108\n"
     ]
    },
    {
     "data": {
      "text/plain": [
       "Predicted  False  True  __all__\n",
       "Actual                         \n",
       "False      31854    38    31892\n",
       "True          37  5488     5525\n",
       "__all__    31891  5526    37417"
      ]
     },
     "metadata": {},
     "output_type": "display_data"
    },
    {
     "name": "stdout",
     "output_type": "stream",
     "text": [
      "The accuracy of the model on test data is: 0.9537096429335044\n"
     ]
    },
    {
     "data": {
      "text/plain": [
       "Predicted  False  True  __all__\n",
       "Actual                         \n",
       "False       7800   185     7985\n",
       "True         248  1121     1369\n",
       "__all__     8048  1306     9354"
      ]
     },
     "metadata": {},
     "output_type": "display_data"
    },
    {
     "name": "stdout",
     "output_type": "stream",
     "text": [
      "\n",
      "\n"
     ]
    }
   ],
   "source": [
    "feat_imp=[None]*4\n",
    "j=0\n",
    "for i in range(0,8):\n",
    "    if i>=2 and i<=5:\n",
    "        model,cm_train,cm_test,acc_train,acc_test,roc_auc,feat_imp[j],mcc=f[i](X_train,Y_train,X_test,Y_test,np.arange(0,110).astype(str))\n",
    "        j=j+1\n",
    "    else:\n",
    "        model,cm_train,cm_test,acc_train,acc_test,roc_auc,mcc=f[i](X_train,Y_train,X_test,Y_test)\n",
    "    table_80_70_train.loc[i]=   ([acc_train,cm_train.TP,cm_train.TN,cm_train.FP,cm_train.FN,cm_train.FPR,cm_train.FNR])\n",
    "    table_80_70_test.loc[i] =   ([acc_test ,cm_test.TP, cm_test.TN, cm_test.FP, cm_test.FN, cm_test.FPR, cm_test.FNR,roc_auc,mcc])\n",
    "    print(\"\\n\")"
   ]
  },
  {
   "cell_type": "markdown",
   "metadata": {},
   "source": [
    "### <a id='5.A' style=\"text-decoration : none; color : #000000;\"> A. Results</a>"
   ]
  },
  {
   "cell_type": "code",
   "execution_count": 89,
   "metadata": {},
   "outputs": [
    {
     "data": {
      "application/vnd.plotly.v1+json": {
       "config": {
        "linkText": "Export to plot.ly",
        "plotlyServerURL": "https://plot.ly",
        "showLink": true
       },
       "data": [
        {
         "mode": "lines",
         "name": "KNN_model",
         "type": "scatter",
         "uid": "dcee5554-1968-4612-b7ff-64f9bdc8a553",
         "x": [
          "accuracy",
          "FPR",
          "FNR",
          "auc"
         ],
         "y": [
          0.9410947188368612,
          0.0020037570444583594,
          0.3907962016070124,
          0.8036000206742647
         ]
        },
        {
         "mode": "lines+markers",
         "name": "Logistic Regression",
         "type": "scatter",
         "uid": "9e0c8d92-0d3b-4c65-84fb-6401b098f9fc",
         "x": [
          "accuracy",
          "FPR",
          "FNR",
          "auc"
         ],
         "y": [
          0.9549925165704511,
          0.014026299311208516,
          0.22571219868517164,
          0.88013075100181
         ]
        },
        {
         "marker": {
          "symbol": "x"
         },
         "mode": "lines+markers",
         "name": "Random Forest",
         "type": "scatter",
         "uid": "2e7062c5-01fb-4adf-9533-69e2ff92ce59",
         "x": [
          "accuracy",
          "FPR",
          "FNR",
          "auc"
         ],
         "y": [
          0.943767372247167,
          0.011271133375078271,
          0.31848064280496713,
          0.8351241119099773
         ]
        },
        {
         "mode": "lines",
         "name": "Ada Boost",
         "type": "scatter",
         "uid": "149b63e5-b8a2-4492-9be8-5df407cb07b4",
         "x": [
          "accuracy",
          "FPR",
          "FNR",
          "auc"
         ],
         "y": [
          0.9417361556553346,
          0.0197871008140263,
          0.28268809349890434,
          0.8487624028435347
         ]
        },
        {
         "mode": "lines+markers",
         "name": "GradientBoosting",
         "type": "scatter",
         "uid": "ffce72b9-1898-4342-a445-cadf23824839",
         "x": [
          "accuracy",
          "FPR",
          "FNR",
          "auc"
         ],
         "y": [
          0.9523198631601454,
          0.0123982467125861,
          0.2534696859021183,
          0.8670660336926478
         ]
        },
        {
         "marker": {
          "symbol": "x"
         },
         "mode": "lines+markers",
         "name": "ExtraTree Classifier",
         "type": "scatter",
         "uid": "25c44c01-6de5-4ab4-83f4-801af1f3dbf9",
         "x": [
          "accuracy",
          "FPR",
          "FNR",
          "auc"
         ],
         "y": [
          0.9405601881548001,
          0.005510331872260488,
          0.3739956172388605,
          0.8102470254444396
         ]
        },
        {
         "marker": {
          "symbol": "x"
         },
         "mode": "lines+markers",
         "name": "Bagging",
         "type": "scatter",
         "uid": "03c12ea7-2b76-4858-9990-bc9dfdde6924",
         "x": [
          "accuracy",
          "FPR",
          "FNR",
          "auc"
         ],
         "y": [
          0.9481505238400684,
          0.013149655604257984,
          0.27757487216946675,
          0.8546377361131375
         ]
        },
        {
         "marker": {
          "symbol": "x"
         },
         "mode": "lines+markers",
         "name": "Neural Network",
         "type": "scatter",
         "uid": "23ffb86a-1245-4295-815b-284eba74e36d",
         "x": [
          "accuracy",
          "FPR",
          "FNR",
          "auc"
         ],
         "y": [
          0.9537096429335044,
          0.023168440826549782,
          0.18115412710007306,
          0.8978387160366886
         ]
        }
       ],
       "layout": {
        "title": "Result comparision for Features selected in Section 1",
        "yaxis": {
         "dtick": 0.05,
         "tick0": 0
        }
       }
      },
      "text/html": [
       "<div id=\"3be20ffc-d53e-429c-820f-5a3cc552e579\" style=\"height: 525px; width: 100%;\" class=\"plotly-graph-div\"></div><script type=\"text/javascript\">require([\"plotly\"], function(Plotly) { window.PLOTLYENV=window.PLOTLYENV || {};window.PLOTLYENV.BASE_URL=\"https://plot.ly\";Plotly.newPlot(\"3be20ffc-d53e-429c-820f-5a3cc552e579\", [{\"mode\": \"lines\", \"name\": \"KNN_model\", \"x\": [\"accuracy\", \"FPR\", \"FNR\", \"auc\"], \"y\": [0.9410947188368612, 0.0020037570444583594, 0.3907962016070124, 0.8036000206742647], \"type\": \"scatter\", \"uid\": \"dcee5554-1968-4612-b7ff-64f9bdc8a553\"}, {\"mode\": \"lines+markers\", \"name\": \"Logistic Regression\", \"x\": [\"accuracy\", \"FPR\", \"FNR\", \"auc\"], \"y\": [0.9549925165704511, 0.014026299311208516, 0.22571219868517164, 0.88013075100181], \"type\": \"scatter\", \"uid\": \"9e0c8d92-0d3b-4c65-84fb-6401b098f9fc\"}, {\"marker\": {\"symbol\": \"x\"}, \"mode\": \"lines+markers\", \"name\": \"Random Forest\", \"x\": [\"accuracy\", \"FPR\", \"FNR\", \"auc\"], \"y\": [0.943767372247167, 0.011271133375078271, 0.31848064280496713, 0.8351241119099773], \"type\": \"scatter\", \"uid\": \"2e7062c5-01fb-4adf-9533-69e2ff92ce59\"}, {\"mode\": \"lines\", \"name\": \"Ada Boost\", \"x\": [\"accuracy\", \"FPR\", \"FNR\", \"auc\"], \"y\": [0.9417361556553346, 0.0197871008140263, 0.28268809349890434, 0.8487624028435347], \"type\": \"scatter\", \"uid\": \"149b63e5-b8a2-4492-9be8-5df407cb07b4\"}, {\"mode\": \"lines+markers\", \"name\": \"GradientBoosting\", \"x\": [\"accuracy\", \"FPR\", \"FNR\", \"auc\"], \"y\": [0.9523198631601454, 0.0123982467125861, 0.2534696859021183, 0.8670660336926478], \"type\": \"scatter\", \"uid\": \"ffce72b9-1898-4342-a445-cadf23824839\"}, {\"marker\": {\"symbol\": \"x\"}, \"mode\": \"lines+markers\", \"name\": \"ExtraTree Classifier\", \"x\": [\"accuracy\", \"FPR\", \"FNR\", \"auc\"], \"y\": [0.9405601881548001, 0.005510331872260488, 0.3739956172388605, 0.8102470254444396], \"type\": \"scatter\", \"uid\": \"25c44c01-6de5-4ab4-83f4-801af1f3dbf9\"}, {\"marker\": {\"symbol\": \"x\"}, \"mode\": \"lines+markers\", \"name\": \"Bagging\", \"x\": [\"accuracy\", \"FPR\", \"FNR\", \"auc\"], \"y\": [0.9481505238400684, 0.013149655604257984, 0.27757487216946675, 0.8546377361131375], \"type\": \"scatter\", \"uid\": \"03c12ea7-2b76-4858-9990-bc9dfdde6924\"}, {\"marker\": {\"symbol\": \"x\"}, \"mode\": \"lines+markers\", \"name\": \"Neural Network\", \"x\": [\"accuracy\", \"FPR\", \"FNR\", \"auc\"], \"y\": [0.9537096429335044, 0.023168440826549782, 0.18115412710007306, 0.8978387160366886], \"type\": \"scatter\", \"uid\": \"23ffb86a-1245-4295-815b-284eba74e36d\"}], {\"title\": \"Result comparision for Features selected in Section 1\", \"yaxis\": {\"dtick\": 0.05, \"tick0\": 0}}, {\"showLink\": true, \"linkText\": \"Export to plot.ly\", \"plotlyServerURL\": \"https://plot.ly\"})});</script><script type=\"text/javascript\">window.addEventListener(\"resize\", function(){window._Plotly.Plots.resize(document.getElementById(\"3be20ffc-d53e-429c-820f-5a3cc552e579\"));});</script>"
      ],
      "text/vnd.plotly.v1+html": [
       "<div id=\"3be20ffc-d53e-429c-820f-5a3cc552e579\" style=\"height: 525px; width: 100%;\" class=\"plotly-graph-div\"></div><script type=\"text/javascript\">require([\"plotly\"], function(Plotly) { window.PLOTLYENV=window.PLOTLYENV || {};window.PLOTLYENV.BASE_URL=\"https://plot.ly\";Plotly.newPlot(\"3be20ffc-d53e-429c-820f-5a3cc552e579\", [{\"mode\": \"lines\", \"name\": \"KNN_model\", \"x\": [\"accuracy\", \"FPR\", \"FNR\", \"auc\"], \"y\": [0.9410947188368612, 0.0020037570444583594, 0.3907962016070124, 0.8036000206742647], \"type\": \"scatter\", \"uid\": \"dcee5554-1968-4612-b7ff-64f9bdc8a553\"}, {\"mode\": \"lines+markers\", \"name\": \"Logistic Regression\", \"x\": [\"accuracy\", \"FPR\", \"FNR\", \"auc\"], \"y\": [0.9549925165704511, 0.014026299311208516, 0.22571219868517164, 0.88013075100181], \"type\": \"scatter\", \"uid\": \"9e0c8d92-0d3b-4c65-84fb-6401b098f9fc\"}, {\"marker\": {\"symbol\": \"x\"}, \"mode\": \"lines+markers\", \"name\": \"Random Forest\", \"x\": [\"accuracy\", \"FPR\", \"FNR\", \"auc\"], \"y\": [0.943767372247167, 0.011271133375078271, 0.31848064280496713, 0.8351241119099773], \"type\": \"scatter\", \"uid\": \"2e7062c5-01fb-4adf-9533-69e2ff92ce59\"}, {\"mode\": \"lines\", \"name\": \"Ada Boost\", \"x\": [\"accuracy\", \"FPR\", \"FNR\", \"auc\"], \"y\": [0.9417361556553346, 0.0197871008140263, 0.28268809349890434, 0.8487624028435347], \"type\": \"scatter\", \"uid\": \"149b63e5-b8a2-4492-9be8-5df407cb07b4\"}, {\"mode\": \"lines+markers\", \"name\": \"GradientBoosting\", \"x\": [\"accuracy\", \"FPR\", \"FNR\", \"auc\"], \"y\": [0.9523198631601454, 0.0123982467125861, 0.2534696859021183, 0.8670660336926478], \"type\": \"scatter\", \"uid\": \"ffce72b9-1898-4342-a445-cadf23824839\"}, {\"marker\": {\"symbol\": \"x\"}, \"mode\": \"lines+markers\", \"name\": \"ExtraTree Classifier\", \"x\": [\"accuracy\", \"FPR\", \"FNR\", \"auc\"], \"y\": [0.9405601881548001, 0.005510331872260488, 0.3739956172388605, 0.8102470254444396], \"type\": \"scatter\", \"uid\": \"25c44c01-6de5-4ab4-83f4-801af1f3dbf9\"}, {\"marker\": {\"symbol\": \"x\"}, \"mode\": \"lines+markers\", \"name\": \"Bagging\", \"x\": [\"accuracy\", \"FPR\", \"FNR\", \"auc\"], \"y\": [0.9481505238400684, 0.013149655604257984, 0.27757487216946675, 0.8546377361131375], \"type\": \"scatter\", \"uid\": \"03c12ea7-2b76-4858-9990-bc9dfdde6924\"}, {\"marker\": {\"symbol\": \"x\"}, \"mode\": \"lines+markers\", \"name\": \"Neural Network\", \"x\": [\"accuracy\", \"FPR\", \"FNR\", \"auc\"], \"y\": [0.9537096429335044, 0.023168440826549782, 0.18115412710007306, 0.8978387160366886], \"type\": \"scatter\", \"uid\": \"23ffb86a-1245-4295-815b-284eba74e36d\"}], {\"title\": \"Result comparision for Features selected in Section 1\", \"yaxis\": {\"dtick\": 0.05, \"tick0\": 0}}, {\"showLink\": true, \"linkText\": \"Export to plot.ly\", \"plotlyServerURL\": \"https://plot.ly\"})});</script><script type=\"text/javascript\">window.addEventListener(\"resize\", function(){window._Plotly.Plots.resize(document.getElementById(\"3be20ffc-d53e-429c-820f-5a3cc552e579\"));});</script>"
      ]
     },
     "metadata": {},
     "output_type": "display_data"
    }
   ],
   "source": [
    "trace0 = go.Scatter(x=table_80_70_test.iloc[0].index.values[[0,5,6,7]],\n",
    "                    y=table_80_70_test.iloc[0].values[[0,5,6,7]],\n",
    "                    mode = 'lines',\n",
    "                    name = 'KNN_model')\n",
    "\n",
    "trace1 = go.Scatter(x=table_80_70_test.iloc[1].index.values[[0,5,6,7]],\n",
    "                    y=table_80_70_test.iloc[1].values[[0,5,6,7]],\n",
    "                    mode = 'lines+markers',\n",
    "                    name = 'Logistic Regression')\n",
    "\n",
    "trace2 = go.Scatter(x=table_80_70_test.iloc[2].index.values[[0,5,6,7]],\n",
    "                    y=table_80_70_test.iloc[2].values[[0,5,6,7]],\n",
    "                    mode = 'lines+markers',marker=dict(symbol='x'),\n",
    "                    name = 'Random Forest')\n",
    "\n",
    "\n",
    "trace3 = go.Scatter(x=table_80_70_test.iloc[3].index.values[[0,5,6,7]],\n",
    "                    y=table_80_70_test.iloc[3].values[[0,5,6,7]],\n",
    "                    mode = 'lines',\n",
    "                    name = 'Ada Boost')\n",
    "\n",
    "trace4 = go.Scatter(x=table_80_70_test.iloc[4].index.values[[0,5,6,7]],\n",
    "                    y=table_80_70_test.iloc[4].values[[0,5,6,7]],\n",
    "                    mode = 'lines+markers',\n",
    "                    name = 'GradientBoosting')\n",
    "\n",
    "trace5 = go.Scatter(x=table_80_70_test.iloc[5].index.values[[0,5,6,7]],\n",
    "                    y=table_80_70_test.iloc[5].values[[0,5,6,7]],\n",
    "                    mode = 'lines+markers',marker=dict(symbol='x'),\n",
    "                    name = 'ExtraTree Classifier')\n",
    "\n",
    "trace6 = go.Scatter(x=table_80_70_test.iloc[6].index.values[[0,5,6,7]],\n",
    "                    y=table_80_70_test.iloc[6].values[[0,5,6,7]],\n",
    "                    mode = 'lines+markers',marker=dict(symbol='x'),\n",
    "                    name = 'Bagging')\n",
    "\n",
    "trace7 = go.Scatter(x=table_80_70_test.iloc[7].index.values[[0,5,6,7]],\n",
    "                    y=table_80_70_test.iloc[7].values[[0,5,6,7]],\n",
    "                    mode = 'lines+markers',marker=dict(symbol='x'),\n",
    "                    name = 'Neural Network')\n",
    "\n",
    "\n",
    "\n",
    "data = [trace0, trace1, trace2, trace3, trace4, trace5, trace6, trace7]\n",
    "layout = go.Layout(yaxis=dict(tick0=0,dtick=0.05),title='Result comparision for Features selected in Section 1')\n",
    "fig = go.Figure(data=data, layout=layout)\n",
    "\n",
    "iplot(fig, filename='Result')"
   ]
  },
  {
   "cell_type": "code",
   "execution_count": 90,
   "metadata": {},
   "outputs": [
    {
     "name": "stdout",
     "output_type": "stream",
     "text": [
      "Training Results\n"
     ]
    },
    {
     "data": {
      "text/html": [
       "<div>\n",
       "<style scoped>\n",
       "    .dataframe tbody tr th:only-of-type {\n",
       "        vertical-align: middle;\n",
       "    }\n",
       "\n",
       "    .dataframe tbody tr th {\n",
       "        vertical-align: top;\n",
       "    }\n",
       "\n",
       "    .dataframe thead th {\n",
       "        text-align: right;\n",
       "    }\n",
       "</style>\n",
       "<table border=\"1\" class=\"dataframe\">\n",
       "  <thead>\n",
       "    <tr style=\"text-align: right;\">\n",
       "      <th></th>\n",
       "      <th>accuracy</th>\n",
       "      <th>TP</th>\n",
       "      <th>TN</th>\n",
       "      <th>FP</th>\n",
       "      <th>FN</th>\n",
       "      <th>FPR</th>\n",
       "      <th>FNR</th>\n",
       "    </tr>\n",
       "    <tr>\n",
       "      <th>index</th>\n",
       "      <th></th>\n",
       "      <th></th>\n",
       "      <th></th>\n",
       "      <th></th>\n",
       "      <th></th>\n",
       "      <th></th>\n",
       "      <th></th>\n",
       "    </tr>\n",
       "  </thead>\n",
       "  <tbody>\n",
       "    <tr>\n",
       "      <th>KNeighborsClassifier</th>\n",
       "      <td>0.950637</td>\n",
       "      <td>3707.0</td>\n",
       "      <td>31863.0</td>\n",
       "      <td>29.0</td>\n",
       "      <td>1818.0</td>\n",
       "      <td>0.000909</td>\n",
       "      <td>0.329050</td>\n",
       "    </tr>\n",
       "    <tr>\n",
       "      <th>LogisticRegression</th>\n",
       "      <td>0.955261</td>\n",
       "      <td>4267.0</td>\n",
       "      <td>31476.0</td>\n",
       "      <td>416.0</td>\n",
       "      <td>1258.0</td>\n",
       "      <td>0.013044</td>\n",
       "      <td>0.227692</td>\n",
       "    </tr>\n",
       "    <tr>\n",
       "      <th>RandomForestClassifier</th>\n",
       "      <td>0.994040</td>\n",
       "      <td>5307.0</td>\n",
       "      <td>31887.0</td>\n",
       "      <td>5.0</td>\n",
       "      <td>218.0</td>\n",
       "      <td>0.000157</td>\n",
       "      <td>0.039457</td>\n",
       "    </tr>\n",
       "    <tr>\n",
       "      <th>AdaBoostClassifier</th>\n",
       "      <td>0.942753</td>\n",
       "      <td>3978.0</td>\n",
       "      <td>31297.0</td>\n",
       "      <td>595.0</td>\n",
       "      <td>1547.0</td>\n",
       "      <td>0.018657</td>\n",
       "      <td>0.280000</td>\n",
       "    </tr>\n",
       "    <tr>\n",
       "      <th>GradientBoostingClassifier</th>\n",
       "      <td>0.956571</td>\n",
       "      <td>4193.0</td>\n",
       "      <td>31599.0</td>\n",
       "      <td>293.0</td>\n",
       "      <td>1332.0</td>\n",
       "      <td>0.009187</td>\n",
       "      <td>0.241086</td>\n",
       "    </tr>\n",
       "    <tr>\n",
       "      <th>ExtraTreeClassifier</th>\n",
       "      <td>0.999973</td>\n",
       "      <td>5524.0</td>\n",
       "      <td>31892.0</td>\n",
       "      <td>0.0</td>\n",
       "      <td>1.0</td>\n",
       "      <td>0.000000</td>\n",
       "      <td>0.000181</td>\n",
       "    </tr>\n",
       "    <tr>\n",
       "      <th>BaggingClassifier</th>\n",
       "      <td>0.993853</td>\n",
       "      <td>5301.0</td>\n",
       "      <td>31886.0</td>\n",
       "      <td>6.0</td>\n",
       "      <td>224.0</td>\n",
       "      <td>0.000188</td>\n",
       "      <td>0.040543</td>\n",
       "    </tr>\n",
       "    <tr>\n",
       "      <th>Neural Network-1</th>\n",
       "      <td>0.997996</td>\n",
       "      <td>5488.0</td>\n",
       "      <td>31854.0</td>\n",
       "      <td>38.0</td>\n",
       "      <td>37.0</td>\n",
       "      <td>0.001192</td>\n",
       "      <td>0.006697</td>\n",
       "    </tr>\n",
       "  </tbody>\n",
       "</table>\n",
       "</div>"
      ],
      "text/plain": [
       "                            accuracy      TP       TN     FP      FN  \\\n",
       "index                                                                  \n",
       "KNeighborsClassifier        0.950637  3707.0  31863.0   29.0  1818.0   \n",
       "LogisticRegression          0.955261  4267.0  31476.0  416.0  1258.0   \n",
       "RandomForestClassifier      0.994040  5307.0  31887.0    5.0   218.0   \n",
       "AdaBoostClassifier          0.942753  3978.0  31297.0  595.0  1547.0   \n",
       "GradientBoostingClassifier  0.956571  4193.0  31599.0  293.0  1332.0   \n",
       "ExtraTreeClassifier         0.999973  5524.0  31892.0    0.0     1.0   \n",
       "BaggingClassifier           0.993853  5301.0  31886.0    6.0   224.0   \n",
       "Neural Network-1            0.997996  5488.0  31854.0   38.0    37.0   \n",
       "\n",
       "                                 FPR       FNR  \n",
       "index                                           \n",
       "KNeighborsClassifier        0.000909  0.329050  \n",
       "LogisticRegression          0.013044  0.227692  \n",
       "RandomForestClassifier      0.000157  0.039457  \n",
       "AdaBoostClassifier          0.018657  0.280000  \n",
       "GradientBoostingClassifier  0.009187  0.241086  \n",
       "ExtraTreeClassifier         0.000000  0.000181  \n",
       "BaggingClassifier           0.000188  0.040543  \n",
       "Neural Network-1            0.001192  0.006697  "
      ]
     },
     "metadata": {},
     "output_type": "display_data"
    },
    {
     "name": "stdout",
     "output_type": "stream",
     "text": [
      "Test Results\n"
     ]
    },
    {
     "data": {
      "text/html": [
       "<div>\n",
       "<style scoped>\n",
       "    .dataframe tbody tr th:only-of-type {\n",
       "        vertical-align: middle;\n",
       "    }\n",
       "\n",
       "    .dataframe tbody tr th {\n",
       "        vertical-align: top;\n",
       "    }\n",
       "\n",
       "    .dataframe thead th {\n",
       "        text-align: right;\n",
       "    }\n",
       "</style>\n",
       "<table border=\"1\" class=\"dataframe\">\n",
       "  <thead>\n",
       "    <tr style=\"text-align: right;\">\n",
       "      <th></th>\n",
       "      <th>accuracy</th>\n",
       "      <th>TP</th>\n",
       "      <th>TN</th>\n",
       "      <th>FP</th>\n",
       "      <th>FN</th>\n",
       "      <th>FPR</th>\n",
       "      <th>FNR</th>\n",
       "      <th>auc</th>\n",
       "      <th>mcc</th>\n",
       "    </tr>\n",
       "    <tr>\n",
       "      <th>index</th>\n",
       "      <th></th>\n",
       "      <th></th>\n",
       "      <th></th>\n",
       "      <th></th>\n",
       "      <th></th>\n",
       "      <th></th>\n",
       "      <th></th>\n",
       "      <th></th>\n",
       "      <th></th>\n",
       "    </tr>\n",
       "  </thead>\n",
       "  <tbody>\n",
       "    <tr>\n",
       "      <th>KNeighborsClassifier</th>\n",
       "      <td>0.941095</td>\n",
       "      <td>834.0</td>\n",
       "      <td>7969.0</td>\n",
       "      <td>16.0</td>\n",
       "      <td>535.0</td>\n",
       "      <td>0.002004</td>\n",
       "      <td>0.390796</td>\n",
       "      <td>0.803600</td>\n",
       "      <td>0.746706</td>\n",
       "    </tr>\n",
       "    <tr>\n",
       "      <th>LogisticRegression</th>\n",
       "      <td>0.954993</td>\n",
       "      <td>1060.0</td>\n",
       "      <td>7873.0</td>\n",
       "      <td>112.0</td>\n",
       "      <td>309.0</td>\n",
       "      <td>0.014026</td>\n",
       "      <td>0.225712</td>\n",
       "      <td>0.880131</td>\n",
       "      <td>0.811724</td>\n",
       "    </tr>\n",
       "    <tr>\n",
       "      <th>RandomForestClassifier</th>\n",
       "      <td>0.943767</td>\n",
       "      <td>933.0</td>\n",
       "      <td>7895.0</td>\n",
       "      <td>90.0</td>\n",
       "      <td>436.0</td>\n",
       "      <td>0.011271</td>\n",
       "      <td>0.318481</td>\n",
       "      <td>0.835124</td>\n",
       "      <td>0.759082</td>\n",
       "    </tr>\n",
       "    <tr>\n",
       "      <th>AdaBoostClassifier</th>\n",
       "      <td>0.941736</td>\n",
       "      <td>982.0</td>\n",
       "      <td>7827.0</td>\n",
       "      <td>158.0</td>\n",
       "      <td>387.0</td>\n",
       "      <td>0.019787</td>\n",
       "      <td>0.282688</td>\n",
       "      <td>0.848762</td>\n",
       "      <td>0.753649</td>\n",
       "    </tr>\n",
       "    <tr>\n",
       "      <th>GradientBoostingClassifier</th>\n",
       "      <td>0.952320</td>\n",
       "      <td>1022.0</td>\n",
       "      <td>7886.0</td>\n",
       "      <td>99.0</td>\n",
       "      <td>347.0</td>\n",
       "      <td>0.012398</td>\n",
       "      <td>0.253470</td>\n",
       "      <td>0.867066</td>\n",
       "      <td>0.798972</td>\n",
       "    </tr>\n",
       "    <tr>\n",
       "      <th>ExtraTreeClassifier</th>\n",
       "      <td>0.940560</td>\n",
       "      <td>857.0</td>\n",
       "      <td>7941.0</td>\n",
       "      <td>44.0</td>\n",
       "      <td>512.0</td>\n",
       "      <td>0.005510</td>\n",
       "      <td>0.373996</td>\n",
       "      <td>0.810247</td>\n",
       "      <td>0.743377</td>\n",
       "    </tr>\n",
       "    <tr>\n",
       "      <th>BaggingClassifier</th>\n",
       "      <td>0.948151</td>\n",
       "      <td>989.0</td>\n",
       "      <td>7880.0</td>\n",
       "      <td>105.0</td>\n",
       "      <td>380.0</td>\n",
       "      <td>0.013150</td>\n",
       "      <td>0.277575</td>\n",
       "      <td>0.854638</td>\n",
       "      <td>0.780109</td>\n",
       "    </tr>\n",
       "    <tr>\n",
       "      <th>Neural Network-1</th>\n",
       "      <td>0.953710</td>\n",
       "      <td>1121.0</td>\n",
       "      <td>7800.0</td>\n",
       "      <td>185.0</td>\n",
       "      <td>248.0</td>\n",
       "      <td>0.023168</td>\n",
       "      <td>0.181154</td>\n",
       "      <td>0.897839</td>\n",
       "      <td>0.811448</td>\n",
       "    </tr>\n",
       "  </tbody>\n",
       "</table>\n",
       "</div>"
      ],
      "text/plain": [
       "                            accuracy      TP      TN     FP     FN       FPR  \\\n",
       "index                                                                          \n",
       "KNeighborsClassifier        0.941095   834.0  7969.0   16.0  535.0  0.002004   \n",
       "LogisticRegression          0.954993  1060.0  7873.0  112.0  309.0  0.014026   \n",
       "RandomForestClassifier      0.943767   933.0  7895.0   90.0  436.0  0.011271   \n",
       "AdaBoostClassifier          0.941736   982.0  7827.0  158.0  387.0  0.019787   \n",
       "GradientBoostingClassifier  0.952320  1022.0  7886.0   99.0  347.0  0.012398   \n",
       "ExtraTreeClassifier         0.940560   857.0  7941.0   44.0  512.0  0.005510   \n",
       "BaggingClassifier           0.948151   989.0  7880.0  105.0  380.0  0.013150   \n",
       "Neural Network-1            0.953710  1121.0  7800.0  185.0  248.0  0.023168   \n",
       "\n",
       "                                 FNR       auc       mcc  \n",
       "index                                                     \n",
       "KNeighborsClassifier        0.390796  0.803600  0.746706  \n",
       "LogisticRegression          0.225712  0.880131  0.811724  \n",
       "RandomForestClassifier      0.318481  0.835124  0.759082  \n",
       "AdaBoostClassifier          0.282688  0.848762  0.753649  \n",
       "GradientBoostingClassifier  0.253470  0.867066  0.798972  \n",
       "ExtraTreeClassifier         0.373996  0.810247  0.743377  \n",
       "BaggingClassifier           0.277575  0.854638  0.780109  \n",
       "Neural Network-1            0.181154  0.897839  0.811448  "
      ]
     },
     "metadata": {},
     "output_type": "display_data"
    }
   ],
   "source": [
    "table_80_70_train['index']=ind_columns\n",
    "table_80_70_test['index']=ind_columns\n",
    "\n",
    "\n",
    "table_80_70_test.set_index(['index'],drop=True,inplace=True)\n",
    "table_80_70_train.set_index(['index'],drop=True,inplace=True)\n",
    "\n",
    "print(\"Training Results\")\n",
    "display(table_80_70_train)\n",
    "print(\"Test Results\")\n",
    "display(table_80_70_test)"
   ]
  },
  {
   "cell_type": "code",
   "execution_count": 91,
   "metadata": {},
   "outputs": [
    {
     "data": {
      "text/html": [
       "<script>\n",
       "code_show=true; \n",
       "function code_toggle() {\n",
       " if (code_show){\n",
       " $('div.input').hide();\n",
       " } else {\n",
       " $('div.input').show();\n",
       " }\n",
       " code_show = !code_show\n",
       "} \n",
       "$( document ).ready(code_toggle);\n",
       "</script>\n",
       "To toggle code, click <a href=\"javascript:code_toggle()\">here</a>."
      ],
      "text/plain": [
       "<IPython.core.display.HTML object>"
      ]
     },
     "execution_count": 91,
     "metadata": {},
     "output_type": "execute_result"
    }
   ],
   "source": [
    "### Original Creator : Darshan Bhansali\n",
    "### HTML code to hide the input cells \n",
    "HTML('''<script>\n",
    "code_show=true; \n",
    "function code_toggle() {\n",
    " if (code_show){\n",
    " $('div.input').hide();\n",
    " } else {\n",
    " $('div.input').show();\n",
    " }\n",
    " code_show = !code_show\n",
    "} \n",
    "$( document ).ready(code_toggle);\n",
    "</script>\n",
    "To toggle code, click <a href=\"javascript:code_toggle()\">here</a>.''')"
   ]
  }
 ],
 "metadata": {
  "kernelspec": {
   "display_name": "Python 3",
   "language": "python",
   "name": "python3"
  },
  "language_info": {
   "codemirror_mode": {
    "name": "ipython",
    "version": 3
   },
   "file_extension": ".py",
   "mimetype": "text/x-python",
   "name": "python",
   "nbconvert_exporter": "python",
   "pygments_lexer": "ipython3",
   "version": "3.6.8"
  }
 },
 "nbformat": 4,
 "nbformat_minor": 2
}
