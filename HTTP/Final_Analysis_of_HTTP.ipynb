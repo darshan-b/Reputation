{
 "cells": [
  {
   "cell_type": "markdown",
   "metadata": {},
   "source": [
    "***\n",
    "## Table of Contents\n",
    "<br>\n",
    "  <br>\n",
    "    <ol>\n",
    "        <h2><a href='#1' style=\"text-decoration : none; color : #000000;\">1. Initial Models</a></h2>\n",
    "        <ul>\n",
    "            <a href='#1.A' style=\"text-decoration : none; color : #000000;\"><h3>A. Results </h3></a>\n",
    "        </ul>\n",
    "        <ul>\n",
    "            <a href='#1.B' style=\"text-decoration : none; color : #000000;\"><h3>B. Average Feature Importance   </h3></a>\n",
    "        </ul>\n",
    "     </ol>\n",
    "     <br> \n",
    "\n",
    "<ol>\n",
    "        <h2><a href='#2' style=\"text-decoration : none; color : #000000;\">2. Oversampling </a></h2>\n",
    "        <ul>\n",
    "            <a href='#2.A' style=\"text-decoration : none; color : #000000;\"><h3>A. Results </h3></a>\n",
    "        </ul>\n",
    "        <ul>\n",
    "            <a href='#2.B' style=\"text-decoration : none; color : #000000;\"><h3>B. Average Feature Importance   </h3></a>\n",
    "        </ul>\n",
    "     </ol>\n",
    "     <br>\n",
    "     \n",
    " <ol>\n",
    "        <h2><a href='#3' style=\"text-decoration : none; color : #000000;\">3. Undersampling</a></h2>\n",
    "        <ul>\n",
    "            <a href='#3.A' style=\"text-decoration : none; color : #000000;\"><h3>A. Results </h3></a>\n",
    "        </ul>\n",
    "        <ul>\n",
    "            <a href='#3.B' style=\"text-decoration : none; color : #000000;\"><h3>B. Average Feature Importance   </h3></a>\n",
    "        </ul>\n",
    "     </ol>\n",
    "     <br>\n",
    "     \n",
    " <ol>\n",
    "        <h2><a href='#4' style=\"text-decoration : none; color : #000000;\">4.Feature Transformation with feature selection</a></h2>\n",
    "        <ul>\n",
    "            <a href='#4.A' style=\"text-decoration : none; color : #000000;\"><h3>A. Results </h3></a>\n",
    "        </ul>\n",
    "        <ul>\n",
    "            <a href='#4.B' style=\"text-decoration : none; color : #000000;\"><h3>B. Average Feature Importance   </h3></a>\n",
    "        </ul>\n",
    "     </ol>\n",
    "     <br>\n",
    "     \n",
    "     \n",
    " <ol>\n",
    "        <h2><a href='#5' style=\"text-decoration : none; color : #000000;\">5.Feature Transformation with PCA</a></h2>\n",
    "        <ul>\n",
    "            <a href='#5.A' style=\"text-decoration : none; color : #000000;\"><h3>A. Results </h3></a>\n",
    "        </ul>\n",
    "        <ul>\n",
    "            <a href='#5.B' style=\"text-decoration : none; color : #000000;\"><h3>B. Average Feature Importance   </h3></a>\n",
    "        </ul>\n",
    "     </ol>\n",
    "     <br>"
   ]
  },
  {
   "cell_type": "code",
   "execution_count": 1,
   "metadata": {},
   "outputs": [
    {
     "name": "stderr",
     "output_type": "stream",
     "text": [
      "Using TensorFlow backend.\n"
     ]
    },
    {
     "data": {
      "text/html": [
       "<script type=\"text/javascript\">window.PlotlyConfig = {MathJaxConfig: 'local'};</script><script type=\"text/javascript\">if (window.MathJax) {MathJax.Hub.Config({SVG: {font: \"STIX-Web\"}});}</script><script>requirejs.config({paths: { 'plotly': ['https://cdn.plot.ly/plotly-latest.min']},});if(!window._Plotly) {require(['plotly'],function(plotly) {window._Plotly=plotly;});}</script>"
      ],
      "text/vnd.plotly.v1+html": [
       "<script type=\"text/javascript\">window.PlotlyConfig = {MathJaxConfig: 'local'};</script><script type=\"text/javascript\">if (window.MathJax) {MathJax.Hub.Config({SVG: {font: \"STIX-Web\"}});}</script><script>requirejs.config({paths: { 'plotly': ['https://cdn.plot.ly/plotly-latest.min']},});if(!window._Plotly) {require(['plotly'],function(plotly) {window._Plotly=plotly;});}</script>"
      ]
     },
     "metadata": {},
     "output_type": "display_data"
    }
   ],
   "source": [
    "import pandas as pd\n",
    "import numpy as np\n",
    "import os\n",
    "import matplotlib.pyplot as plt\n",
    "import seaborn as sns\n",
    "%matplotlib inline\n",
    "\n",
    "from IPython.display import display,clear_output,HTML\n",
    "import warnings\n",
    "warnings.filterwarnings(\"ignore\")\n",
    "\n",
    "import keras\n",
    "from keras.layers import Dense,Dropout\n",
    "from keras.models import Sequential\n",
    "warnings.simplefilter(\"ignore\", DeprecationWarning)\n",
    "import researchpy as rp\n",
    "\n",
    "%matplotlib inline\n",
    "pd.set_option('display.max_columns', 500)\n",
    "pd.set_option('display.max_rows',305)\n",
    "\n",
    "from sklearn.feature_selection import SelectKBest,chi2,RFE,RFECV,f_regression,SelectFromModel\n",
    "from sklearn.linear_model import LogisticRegression\n",
    "from sklearn.ensemble import ExtraTreesClassifier,RandomForestClassifier,GradientBoostingClassifier,AdaBoostClassifier,BaggingClassifier\n",
    "from sklearn.neighbors import KNeighborsClassifier\n",
    "from sklearn.model_selection import train_test_split,cross_val_score\n",
    "\n",
    "from sklearn.preprocessing import StandardScaler,MinMaxScaler\n",
    "from sklearn import metrics\n",
    "\n",
    "\n",
    "\n",
    "from sklearn.decomposition import PCA\n",
    "from sklearn.metrics import accuracy_score,auc,roc_curve,recall_score,precision_score,matthews_corrcoef\n",
    "\n",
    "from pandas_ml import ConfusionMatrix\n",
    "\n",
    "\n",
    "from imblearn.over_sampling import SMOTE\n",
    "\n",
    "from plotly.offline import download_plotlyjs, init_notebook_mode, plot, iplot\n",
    "init_notebook_mode(connected=True)\n",
    "import plotly.graph_objs as go\n",
    "\n",
    "import featuretools as ft\n",
    "\n",
    "from scipy import stats"
   ]
  },
  {
   "cell_type": "code",
   "execution_count": 2,
   "metadata": {
    "collapsed": true
   },
   "outputs": [],
   "source": [
    "### Function to plot Feature Importance\n",
    "def feat_impt_plot(feat_impt,y_labels,width_s=1000,height_s=1000):\n",
    "    \n",
    "    m=pd.DataFrame(y_labels,feat_impt).reset_index()\n",
    "    m.columns=['Feature_Importance','Features']\n",
    "    m.sort_values(by='Feature_Importance',inplace=True,ascending=False)\n",
    "#     m['Features']=m['Features'].str.replace(\"dom_function_\",\"\")\n",
    "#     m['Features']=m['Features'].str.replace(\"js_function_\",\"\")\n",
    "#     m['Features']=m['Features'].apply(lambda x: str(x).lstrip('.'))\n",
    "#     m['Features']=m['Features'].str.replace(\"(\",\"\")\n",
    "    \n",
    "    data = [go.Bar(x=m.Feature_Importance.values,y=m.Features.values,text=np.round(m.Feature_Importance,4),\n",
    "            textposition = 'outside',\n",
    "            marker=dict(\n",
    "                color='rgb(158,202,225)',\n",
    "                line=dict(\n",
    "                    color='rgb(8,48,107)',\n",
    "                    width=1.5),\n",
    "            ),\n",
    "            opacity=0.6,\n",
    "            orientation='h'\n",
    "        )]\n",
    "    layout = go.Layout(autosize=False,\n",
    "    width=width_s,\n",
    "    height=height_s,\n",
    "    xaxis=dict(title='Feature Importances',\n",
    "        tickfont=dict(\n",
    "            size=12,\n",
    "            color='black'\n",
    "        )),\n",
    "    yaxis=dict(automargin=True))\n",
    "    fig = go.Figure(data=data, layout=layout)\n",
    "    iplot(fig)\n",
    "\n",
    "    \n",
    "def check_cat(data):\n",
    "    cat_var=[]\n",
    "    num_var=[]\n",
    "    for col in data.columns:\n",
    "        if col!='Target':\n",
    "            if len(data[col].value_counts())==2:\n",
    "                cat_var.append(col)\n",
    "            else:\n",
    "                num_var.append(col)\n",
    "    return cat_var,num_var\n",
    "\n",
    "\n",
    "def num_stats(data,columns):\n",
    "    lst=[]\n",
    "    for col in columns:\n",
    "        corr=stats.pointbiserialr(data[col],data.Target)[0]\n",
    "        corr_p=stats.pointbiserialr(data[col],data.Target)[1]\n",
    "        ttest=stats.ttest_ind(data[data.Target==1][col], data[data.Target==0][col], equal_var=False)[0]\n",
    "        ttest_p=stats.ttest_ind(data[data.Target==1][col], data[data.Target==0][col], equal_var=False)[1]\n",
    "        lst.append((corr,corr_p,ttest,ttest_p,col))\n",
    "    stats_data=pd.DataFrame(lst,columns=['Pt. Biserial Corr','Pt. Biserial Corr p-val','ttest','ttest p-val','Feature'])\n",
    "    stats_data.set_index('Feature',drop=True,inplace=True)\n",
    "    stats_data.sort_values(by='ttest',inplace=True)\n",
    "    del lst\n",
    "    return stats_data\n",
    "\n",
    "\n",
    "### Generate statistics for categorical data\n",
    "def cat_stats(data,columns):\n",
    "    lst=[]\n",
    "    for col in columns:\n",
    "        if col!='Target':\n",
    "            table, results = rp.crosstab(data['Target'], data[col], prop= 'col', test= 'chi-square')\n",
    "            x=results['results'].values.tolist()\n",
    "            x.append(col)\n",
    "            lst.append(x)\n",
    "    chi_df=pd.DataFrame(lst,columns=['Pearson Chi-square','p-value','Cramers V','Feature'])\n",
    "    chi_df.set_index('Feature',drop=True,inplace=True)\n",
    "    chi_df.sort_values(by='Cramers V',ascending=False,inplace=True)\n",
    "    del lst\n",
    "    return chi_df"
   ]
  },
  {
   "cell_type": "code",
   "execution_count": 3,
   "metadata": {
    "collapsed": true
   },
   "outputs": [],
   "source": [
    "def model_build(model,X_train,Y_train,X_test,Y_test,tree=False,feat=None):\n",
    "    \n",
    "    y_pred_train=model.predict(X_train)\n",
    "    acc_train=accuracy_score(Y_train,y_pred_train)\n",
    "    \n",
    "    print(\"Accuracy of the model for training data is:\",acc_train)\n",
    "    print(\"Confusion Matrix for training data is:\")\n",
    "    cm_train=ConfusionMatrix(Y_train,y_pred_train)\n",
    "    display(cm_train)\n",
    "    \n",
    "    \n",
    "    y_pred_test=model.predict(X_test)\n",
    "    acc_test=accuracy_score(Y_test,y_pred_test)\n",
    "    print(\"Accuracy of the model for test data is:\",acc_test)\n",
    "    print(\"Confusion Matrix for test data is:\")\n",
    "    cm_test=ConfusionMatrix(Y_test,y_pred_test)\n",
    "    display(cm_test)\n",
    "\n",
    "    fpr, tpr, threshold = roc_curve(Y_test, y_pred_test)\n",
    "    roc_auc =auc(fpr, tpr)\n",
    "    mcc=matthews_corrcoef(Y_test,y_pred_test)\n",
    "    if tree==True:\n",
    "        feat_impt_plot(model.feature_importances_,feat)\n",
    "        return model,cm_train,cm_test,acc_train,acc_test,roc_auc,model.feature_importances_,mcc\n",
    "    \n",
    "    return model,cm_train,cm_test,acc_train,acc_test,roc_auc,mcc\n",
    "\n",
    "def KNN_model(X_train,Y_train,X_test,Y_test):\n",
    "    print('\\033[1m' + 'K-Nearest Neighbors' + '\\033[0m')\n",
    "    knn=KNeighborsClassifier()\n",
    "    knn.fit(X_train,Y_train)\n",
    "\n",
    "    return model_build(knn,X_train,Y_train,X_test,Y_test)\n",
    "\n",
    "def Logistic_model(X_train,Y_train,X_test,Y_test):\n",
    "    print('\\033[1m' + 'Logistic Regression' + '\\033[0m')\n",
    "    log=LogisticRegression()\n",
    "    log.fit(X_train,Y_train)\n",
    "    \n",
    "    return model_build(log,X_train,Y_train,X_test,Y_test)\n",
    "\n",
    "def RandomForest(X_train,Y_train,X_test,Y_test,feat):\n",
    "    print('\\033[1m' + 'RandomForest Classifier' + '\\033[0m')\n",
    "    rf=RandomForestClassifier()\n",
    "    rf.fit(X_train,Y_train)\n",
    "\n",
    "    \n",
    "    return model_build(rf,X_train,Y_train,X_test,Y_test,True,feat)\n",
    "\n",
    "def AdaBoost(X_train,Y_train,X_test,Y_test,feat):\n",
    "    print('\\033[1m' + 'Adaoost Classifier' + '\\033[0m')\n",
    "    ada=AdaBoostClassifier()\n",
    "    ada.fit(X_train,Y_train)\n",
    "    \n",
    "    return model_build(ada,X_train,Y_train,X_test,Y_test,True,feat)\n",
    "\n",
    "def GradientBoosting(X_train,Y_train,X_test,Y_test,feat):\n",
    "    print('\\033[1m' + 'GradientBoosting Classifier' + '\\033[0m')\n",
    "    gbc=GradientBoostingClassifier()\n",
    "    gbc.fit(X_train,Y_train)\n",
    "    \n",
    "    return model_build(gbc,X_train,Y_train,X_test,Y_test,True,feat)\n",
    "\n",
    "def ExtraTree(X_train,Y_train,X_test,Y_test,feat):\n",
    "    print('\\033[1m' + 'ExtraTree Classifier' + '\\033[0m')\n",
    "    ext_tree=ExtraTreesClassifier()\n",
    "    ext_tree.fit(X_train,Y_train)\n",
    "    \n",
    "    return model_build(ext_tree,X_train,Y_train,X_test,Y_test,True,feat)\n",
    "\n",
    "def Bagging(X_train,Y_train,X_test,Y_test):\n",
    "    print('\\033[1m' + 'Bagging Classifier' + '\\033[0m')\n",
    "    bagging=BaggingClassifier()\n",
    "    bagging.fit(X_train,Y_train)\n",
    "    \n",
    "    return model_build(bagging,X_train,Y_train,X_test,Y_test)\n",
    "\n",
    "def DeepLearning1(X_train,Y_train,X_test,Y_test):\n",
    "    print('\\033[1m' + 'Neural Network-1' + '\\033[0m')\n",
    "    np.random.seed(0)\n",
    "    deep_learning=Sequential()\n",
    "    deep_learning.add(Dense(units=64,activation='relu',use_bias=True,kernel_initializer='uniform',input_dim=X_train.shape[1]))\n",
    "    deep_learning.add(Dense(units=128,activation='relu',use_bias=True,kernel_initializer='uniform'))\n",
    "    deep_learning.add(Dense(units=1,activation='sigmoid',use_bias=True,kernel_initializer='uniform'))\n",
    "    deep_learning.compile(optimizer='adam',loss='binary_crossentropy',metrics=['accuracy'])\n",
    "    deep_learning.fit(X_train,Y_train,batch_size=20,epochs=80,verbose=False)\n",
    "    acc_train=deep_learning.evaluate(X_train,Y_train,verbose=False)[1]\n",
    "    print(\"The accuracy of the model on training data is:\",acc_train)\n",
    "    cm_train=ConfusionMatrix(Y_train,deep_learning.predict_classes(X_train,batch_size=1,verbose=False).reshape(1,len(X_train))[0])\n",
    "    cm_test=ConfusionMatrix(Y_test,deep_learning.predict_classes(X_test,batch_size=1,verbose=False).reshape(1,len(X_test))[0])\n",
    "    display(cm_train)\n",
    "    acc_test=accuracy_score(Y_test,deep_learning.predict_classes(X_test,batch_size=1,verbose=False))\n",
    "    print(\"The accuracy of the model on test data is:\",acc_test)\n",
    "    display(cm_test)\n",
    "    mcc=matthews_corrcoef(Y_test,deep_learning.predict_classes(X_test,batch_size=1,verbose=False))\n",
    "    return  deep_learning,cm_train,cm_test,acc_train,acc_test,roc_auc,mcc"
   ]
  },
  {
   "cell_type": "code",
   "execution_count": 4,
   "metadata": {
    "collapsed": true
   },
   "outputs": [],
   "source": [
    "columns=['http_header_cache-control_set_max-age',\n",
    " 'http_header_cache-control_set_must-revalidate',\n",
    " 'http_header_cache-control_set_no-cache',\n",
    " 'http_header_cache-control_set_no-store',\n",
    " 'http_header_cache-control_set_private',\n",
    " 'http_header_cache-control_set_public',\n",
    " 'http_header_connection_close',\n",
    " 'http_header_connection_keep-alive',\n",
    " 'http_header_content-encoding_gzip',\n",
    " 'http_header_content-language_text/html',\n",
    " 'http_header_content-length',\n",
    " 'http_header_expect-ctmax-age',\n",
    " 'http_header_pragmano-cache',\n",
    " 'http_header_server_apache',\n",
    " 'http_header_server_nginx',\n",
    " 'http_header_strict-transport-security_max-age',\n",
    " 'http_header_transfer-encoding_chunked',\n",
    " 'http_header_vary_accept',\n",
    " 'http_header_vary_age',\n",
    " 'http_header_via_1.1',\n",
    " 'http_header_x-cintent-type-options_nosniff',\n",
    " 'http_header_x-xss-enabled','Target','domain']"
   ]
  },
  {
   "cell_type": "code",
   "execution_count": 5,
   "metadata": {},
   "outputs": [
    {
     "name": "stdout",
     "output_type": "stream",
     "text": [
      "Shape of our dataset: (45856, 23)\n"
     ]
    }
   ],
   "source": [
    "df=pd.read_csv('Modified_http.csv',usecols=columns)\n",
    "\n",
    "df.rename(columns={'Malicious':'Target'},inplace=True)\n",
    "df.fillna(value=0,inplace=True)\n",
    "\n",
    "cookies=[columns for columns in df.columns if 'number' in columns]\n",
    "df.drop(cookies,axis=1,inplace=True)\n",
    "\n",
    "df=df[df['domain']!=0]\n",
    "\n",
    "df.sort_values(by='Target',inplace=True,ascending=False)\n",
    "df.drop_duplicates(['domain'], keep='first',inplace=True)\n",
    "\n",
    "df=df.sample(frac=1,random_state=0)\n",
    "df.set_index(['domain'],drop=True,inplace=True)\n",
    "print(\"Shape of our dataset:\",df.shape)"
   ]
  },
  {
   "cell_type": "code",
   "execution_count": 6,
   "metadata": {},
   "outputs": [
    {
     "data": {
      "text/plain": [
       "0    39835\n",
       "1     6021\n",
       "Name: Target, dtype: int64"
      ]
     },
     "execution_count": 6,
     "metadata": {},
     "output_type": "execute_result"
    }
   ],
   "source": [
    "df.Target.value_counts()"
   ]
  },
  {
   "cell_type": "code",
   "execution_count": 7,
   "metadata": {
    "collapsed": true
   },
   "outputs": [],
   "source": [
    "train=df.iloc[:36684,:]\n",
    "train_X=train.iloc[:,train.columns!='Target'].values\n",
    "train_Y=train.Target.values\n",
    "\n",
    "scaler=StandardScaler()\n",
    "scaled_X_train=scaler.fit_transform(train_X)"
   ]
  },
  {
   "cell_type": "code",
   "execution_count": 8,
   "metadata": {
    "collapsed": true
   },
   "outputs": [],
   "source": [
    "test=df.iloc[36684:,:]\n",
    "test_X=test.iloc[:,test.columns!='Target'].values\n",
    "test_Y=test.Target.values\n",
    "scaled_X_test=scaler.transform(test_X)"
   ]
  },
  {
   "cell_type": "markdown",
   "metadata": {},
   "source": [
    "### <a id='1' style=\"text-decoration : none; color : #000000;\"> 2. Initial Models</a>"
   ]
  },
  {
   "cell_type": "code",
   "execution_count": 9,
   "metadata": {
    "collapsed": true
   },
   "outputs": [],
   "source": [
    "ind_columns=['KNeighborsClassifier','LogisticRegression','RandomForestClassifier','AdaBoostClassifier',\n",
    "             'GradientBoostingClassifier','ExtraTreeClassifier','BaggingClassifier','Neural Network-1']\n",
    "\n",
    "f=[KNN_model,Logistic_model,RandomForest,AdaBoost,GradientBoosting, ExtraTree,Bagging,DeepLearning1]\n",
    "\n",
    "## Table to store training and test measures\n",
    "table_80_50_train=pd.DataFrame(columns=['accuracy','TP','TN','FP','FN','FPR','FNR'])\n",
    "table_80_50_test=pd.DataFrame(columns=['accuracy','TP','TN','FP','FN','FPR','FNR','auc','MCC'])"
   ]
  },
  {
   "cell_type": "code",
   "execution_count": 10,
   "metadata": {
    "scrolled": false
   },
   "outputs": [
    {
     "name": "stdout",
     "output_type": "stream",
     "text": [
      "\u001b[1mK-Nearest Neighbors\u001b[0m\n",
      "Accuracy of the model for training data is: 0.905353832734\n",
      "Confusion Matrix for training data is:\n"
     ]
    },
    {
     "data": {
      "text/plain": [
       "Predicted  False  True  __all__\n",
       "Actual                         \n",
       "False      31703   150    31853\n",
       "True        3322  1509     4831\n",
       "__all__    35025  1659    36684"
      ]
     },
     "metadata": {},
     "output_type": "display_data"
    },
    {
     "name": "stdout",
     "output_type": "stream",
     "text": [
      "Accuracy of the model for test data is: 0.904709986917\n",
      "Confusion Matrix for test data is:\n"
     ]
    },
    {
     "data": {
      "text/plain": [
       "Predicted  False  True  __all__\n",
       "Actual                         \n",
       "False       7933    49     7982\n",
       "True         825   365     1190\n",
       "__all__     8758   414     9172"
      ]
     },
     "metadata": {},
     "output_type": "display_data"
    },
    {
     "name": "stdout",
     "output_type": "stream",
     "text": [
      "\n",
      "\n",
      "\u001b[1mLogistic Regression\u001b[0m\n",
      "Accuracy of the model for training data is: 0.884254715952\n",
      "Confusion Matrix for training data is:\n"
     ]
    },
    {
     "data": {
      "text/plain": [
       "Predicted  False  True  __all__\n",
       "Actual                         \n",
       "False      29126  2727    31853\n",
       "True        1519  3312     4831\n",
       "__all__    30645  6039    36684"
      ]
     },
     "metadata": {},
     "output_type": "display_data"
    },
    {
     "name": "stdout",
     "output_type": "stream",
     "text": [
      "Accuracy of the model for test data is: 0.883994766681\n",
      "Confusion Matrix for test data is:\n"
     ]
    },
    {
     "data": {
      "text/plain": [
       "Predicted  False  True  __all__\n",
       "Actual                         \n",
       "False       7311   671     7982\n",
       "True         393   797     1190\n",
       "__all__     7704  1468     9172"
      ]
     },
     "metadata": {},
     "output_type": "display_data"
    },
    {
     "name": "stdout",
     "output_type": "stream",
     "text": [
      "\n",
      "\n",
      "\u001b[1mRandomForest Classifier\u001b[0m\n",
      "Accuracy of the model for training data is: 0.919774288518\n",
      "Confusion Matrix for training data is:\n"
     ]
    },
    {
     "data": {
      "text/plain": [
       "Predicted  False  True  __all__\n",
       "Actual                         \n",
       "False      29378  2475    31853\n",
       "True         468  4363     4831\n",
       "__all__    29846  6838    36684"
      ]
     },
     "metadata": {},
     "output_type": "display_data"
    },
    {
     "name": "stdout",
     "output_type": "stream",
     "text": [
      "Accuracy of the model for test data is: 0.909616223288\n",
      "Confusion Matrix for test data is:\n"
     ]
    },
    {
     "data": {
      "text/plain": [
       "Predicted  False  True  __all__\n",
       "Actual                         \n",
       "False       7328   654     7982\n",
       "True         175  1015     1190\n",
       "__all__     7503  1669     9172"
      ]
     },
     "metadata": {},
     "output_type": "display_data"
    },
    {
     "data": {
      "application/vnd.plotly.v1+json": {
       "config": {
        "linkText": "Export to plot.ly",
        "plotlyServerURL": "https://plot.ly",
        "showLink": true
       },
       "data": [
        {
         "marker": {
          "color": "rgb(158,202,225)",
          "line": {
           "color": "rgb(8,48,107)",
           "width": 1.5
          }
         },
         "opacity": 0.6,
         "orientation": "h",
         "text": [
          0.2822,
          0.1368,
          0.0991,
          0.0934,
          0.063,
          0.0603,
          0.0538,
          0.0384,
          0.0214,
          0.0207,
          0.0173,
          0.0157,
          0.0155,
          0.0152,
          0.0131,
          0.0102,
          0.0101,
          0.0088,
          0.0077,
          0.0068,
          0.0056,
          0.0046
         ],
         "textposition": "outside",
         "type": "bar",
         "uid": "6fc35f30-ff00-4c4e-af77-9470510f028d",
         "x": [
          0.2822292373472592,
          0.13680021699808548,
          0.09914889023834354,
          0.0933905103643751,
          0.06301771161612033,
          0.06029356513532812,
          0.05375815592355643,
          0.038446805425456476,
          0.021371635029006367,
          0.020744367761113776,
          0.017338021668327874,
          0.01572604965362814,
          0.015549338069279023,
          0.015249882557745158,
          0.013064021032596606,
          0.010227419108913723,
          0.01008678562131087,
          0.008839135679721477,
          0.007708081607641045,
          0.006844246000155331,
          0.005584114634368491,
          0.004581808527667445
         ],
         "y": [
          "http_header_content-length",
          "http_header_content-encoding_gzip",
          "http_header_transfer-encoding_chunked",
          "http_header_content-language_text/html",
          "http_header_connection_keep-alive",
          "http_header_vary_accept",
          "http_header_server_apache",
          "http_header_cache-control_set_max-age",
          "http_header_server_nginx",
          "http_header_pragmano-cache",
          "http_header_vary_age",
          "http_header_connection_close",
          "http_header_cache-control_set_no-cache",
          "http_header_cache-control_set_no-store",
          "http_header_cache-control_set_private",
          "http_header_x-cintent-type-options_nosniff",
          "http_header_cache-control_set_must-revalidate",
          "http_header_strict-transport-security_max-age",
          "http_header_via_1.1",
          "http_header_expect-ctmax-age",
          "http_header_x-xss-enabled",
          "http_header_cache-control_set_public"
         ]
        }
       ],
       "layout": {
        "autosize": false,
        "height": 1000,
        "width": 1000,
        "xaxis": {
         "tickfont": {
          "color": "black",
          "size": 12
         },
         "title": "Feature Importances"
        },
        "yaxis": {
         "automargin": true
        }
       }
      },
      "text/html": [
       "<div id=\"a4cd0793-b503-4527-a1f8-147ea9196516\" style=\"height: 1000px; width: 1000px;\" class=\"plotly-graph-div\"></div><script type=\"text/javascript\">require([\"plotly\"], function(Plotly) { window.PLOTLYENV=window.PLOTLYENV || {};window.PLOTLYENV.BASE_URL=\"https://plot.ly\";Plotly.newPlot(\"a4cd0793-b503-4527-a1f8-147ea9196516\", [{\"marker\": {\"color\": \"rgb(158,202,225)\", \"line\": {\"color\": \"rgb(8,48,107)\", \"width\": 1.5}}, \"opacity\": 0.6, \"orientation\": \"h\", \"text\": [0.2822, 0.1368, 0.0991, 0.0934, 0.063, 0.0603, 0.0538, 0.0384, 0.0214, 0.0207, 0.0173, 0.0157, 0.0155, 0.0152, 0.0131, 0.0102, 0.0101, 0.0088, 0.0077, 0.0068, 0.0056, 0.0046], \"textposition\": \"outside\", \"x\": [0.2822292373472592, 0.13680021699808548, 0.09914889023834354, 0.0933905103643751, 0.06301771161612033, 0.06029356513532812, 0.05375815592355643, 0.038446805425456476, 0.021371635029006367, 0.020744367761113776, 0.017338021668327874, 0.01572604965362814, 0.015549338069279023, 0.015249882557745158, 0.013064021032596606, 0.010227419108913723, 0.01008678562131087, 0.008839135679721477, 0.007708081607641045, 0.006844246000155331, 0.005584114634368491, 0.004581808527667445], \"y\": [\"http_header_content-length\", \"http_header_content-encoding_gzip\", \"http_header_transfer-encoding_chunked\", \"http_header_content-language_text/html\", \"http_header_connection_keep-alive\", \"http_header_vary_accept\", \"http_header_server_apache\", \"http_header_cache-control_set_max-age\", \"http_header_server_nginx\", \"http_header_pragmano-cache\", \"http_header_vary_age\", \"http_header_connection_close\", \"http_header_cache-control_set_no-cache\", \"http_header_cache-control_set_no-store\", \"http_header_cache-control_set_private\", \"http_header_x-cintent-type-options_nosniff\", \"http_header_cache-control_set_must-revalidate\", \"http_header_strict-transport-security_max-age\", \"http_header_via_1.1\", \"http_header_expect-ctmax-age\", \"http_header_x-xss-enabled\", \"http_header_cache-control_set_public\"], \"type\": \"bar\", \"uid\": \"6fc35f30-ff00-4c4e-af77-9470510f028d\"}], {\"autosize\": false, \"height\": 1000, \"width\": 1000, \"xaxis\": {\"tickfont\": {\"color\": \"black\", \"size\": 12}, \"title\": \"Feature Importances\"}, \"yaxis\": {\"automargin\": true}}, {\"showLink\": true, \"linkText\": \"Export to plot.ly\", \"plotlyServerURL\": \"https://plot.ly\"})});</script>"
      ],
      "text/vnd.plotly.v1+html": [
       "<div id=\"a4cd0793-b503-4527-a1f8-147ea9196516\" style=\"height: 1000px; width: 1000px;\" class=\"plotly-graph-div\"></div><script type=\"text/javascript\">require([\"plotly\"], function(Plotly) { window.PLOTLYENV=window.PLOTLYENV || {};window.PLOTLYENV.BASE_URL=\"https://plot.ly\";Plotly.newPlot(\"a4cd0793-b503-4527-a1f8-147ea9196516\", [{\"marker\": {\"color\": \"rgb(158,202,225)\", \"line\": {\"color\": \"rgb(8,48,107)\", \"width\": 1.5}}, \"opacity\": 0.6, \"orientation\": \"h\", \"text\": [0.2822, 0.1368, 0.0991, 0.0934, 0.063, 0.0603, 0.0538, 0.0384, 0.0214, 0.0207, 0.0173, 0.0157, 0.0155, 0.0152, 0.0131, 0.0102, 0.0101, 0.0088, 0.0077, 0.0068, 0.0056, 0.0046], \"textposition\": \"outside\", \"x\": [0.2822292373472592, 0.13680021699808548, 0.09914889023834354, 0.0933905103643751, 0.06301771161612033, 0.06029356513532812, 0.05375815592355643, 0.038446805425456476, 0.021371635029006367, 0.020744367761113776, 0.017338021668327874, 0.01572604965362814, 0.015549338069279023, 0.015249882557745158, 0.013064021032596606, 0.010227419108913723, 0.01008678562131087, 0.008839135679721477, 0.007708081607641045, 0.006844246000155331, 0.005584114634368491, 0.004581808527667445], \"y\": [\"http_header_content-length\", \"http_header_content-encoding_gzip\", \"http_header_transfer-encoding_chunked\", \"http_header_content-language_text/html\", \"http_header_connection_keep-alive\", \"http_header_vary_accept\", \"http_header_server_apache\", \"http_header_cache-control_set_max-age\", \"http_header_server_nginx\", \"http_header_pragmano-cache\", \"http_header_vary_age\", \"http_header_connection_close\", \"http_header_cache-control_set_no-cache\", \"http_header_cache-control_set_no-store\", \"http_header_cache-control_set_private\", \"http_header_x-cintent-type-options_nosniff\", \"http_header_cache-control_set_must-revalidate\", \"http_header_strict-transport-security_max-age\", \"http_header_via_1.1\", \"http_header_expect-ctmax-age\", \"http_header_x-xss-enabled\", \"http_header_cache-control_set_public\"], \"type\": \"bar\", \"uid\": \"6fc35f30-ff00-4c4e-af77-9470510f028d\"}], {\"autosize\": false, \"height\": 1000, \"width\": 1000, \"xaxis\": {\"tickfont\": {\"color\": \"black\", \"size\": 12}, \"title\": \"Feature Importances\"}, \"yaxis\": {\"automargin\": true}}, {\"showLink\": true, \"linkText\": \"Export to plot.ly\", \"plotlyServerURL\": \"https://plot.ly\"})});</script>"
      ]
     },
     "metadata": {},
     "output_type": "display_data"
    },
    {
     "name": "stdout",
     "output_type": "stream",
     "text": [
      "\n",
      "\n",
      "\u001b[1mAdaoost Classifier\u001b[0m\n",
      "Accuracy of the model for training data is: 0.894804274343\n",
      "Confusion Matrix for training data is:\n"
     ]
    },
    {
     "data": {
      "text/plain": [
       "Predicted  False  True  __all__\n",
       "Actual                         \n",
       "False      29264  2589    31853\n",
       "True        1270  3561     4831\n",
       "__all__    30534  6150    36684"
      ]
     },
     "metadata": {},
     "output_type": "display_data"
    },
    {
     "name": "stdout",
     "output_type": "stream",
     "text": [
      "Accuracy of the model for test data is: 0.895442651548\n",
      "Confusion Matrix for test data is:\n"
     ]
    },
    {
     "data": {
      "text/plain": [
       "Predicted  False  True  __all__\n",
       "Actual                         \n",
       "False       7337   645     7982\n",
       "True         314   876     1190\n",
       "__all__     7651  1521     9172"
      ]
     },
     "metadata": {},
     "output_type": "display_data"
    },
    {
     "data": {
      "application/vnd.plotly.v1+json": {
       "config": {
        "linkText": "Export to plot.ly",
        "plotlyServerURL": "https://plot.ly",
        "showLink": true
       },
       "data": [
        {
         "marker": {
          "color": "rgb(158,202,225)",
          "line": {
           "color": "rgb(8,48,107)",
           "width": 1.5
          }
         },
         "opacity": 0.6,
         "orientation": "h",
         "text": [
          0.5,
          0.1,
          0.08,
          0.04,
          0.04,
          0.04,
          0.04,
          0.04,
          0.02,
          0.02,
          0.02,
          0.02,
          0.02,
          0.02,
          0,
          0,
          0,
          0,
          0,
          0,
          0,
          0
         ],
         "textposition": "outside",
         "type": "bar",
         "uid": "44d09470-d8d4-41a7-b6d6-baf34b9a6066",
         "x": [
          0.5,
          0.1,
          0.08,
          0.04,
          0.04,
          0.04,
          0.04,
          0.04,
          0.02,
          0.02,
          0.02,
          0.02,
          0.02,
          0.02,
          0,
          0,
          0,
          0,
          0,
          0,
          0,
          0
         ],
         "y": [
          "http_header_content-length",
          "http_header_content-encoding_gzip",
          "http_header_transfer-encoding_chunked",
          "http_header_cache-control_set_max-age",
          "http_header_x-cintent-type-options_nosniff",
          "http_header_pragmano-cache",
          "http_header_expect-ctmax-age",
          "http_header_cache-control_set_no-store",
          "http_header_connection_keep-alive",
          "http_header_cache-control_set_private",
          "http_header_server_apache",
          "http_header_server_nginx",
          "http_header_vary_accept",
          "http_header_via_1.1",
          "http_header_connection_close",
          "http_header_content-language_text/html",
          "http_header_cache-control_set_public",
          "http_header_cache-control_set_must-revalidate",
          "http_header_strict-transport-security_max-age",
          "http_header_vary_age",
          "http_header_cache-control_set_no-cache",
          "http_header_x-xss-enabled"
         ]
        }
       ],
       "layout": {
        "autosize": false,
        "height": 1000,
        "width": 1000,
        "xaxis": {
         "tickfont": {
          "color": "black",
          "size": 12
         },
         "title": "Feature Importances"
        },
        "yaxis": {
         "automargin": true
        }
       }
      },
      "text/html": [
       "<div id=\"ada9b124-439a-49de-bd14-1fb5ff2da1f3\" style=\"height: 1000px; width: 1000px;\" class=\"plotly-graph-div\"></div><script type=\"text/javascript\">require([\"plotly\"], function(Plotly) { window.PLOTLYENV=window.PLOTLYENV || {};window.PLOTLYENV.BASE_URL=\"https://plot.ly\";Plotly.newPlot(\"ada9b124-439a-49de-bd14-1fb5ff2da1f3\", [{\"marker\": {\"color\": \"rgb(158,202,225)\", \"line\": {\"color\": \"rgb(8,48,107)\", \"width\": 1.5}}, \"opacity\": 0.6, \"orientation\": \"h\", \"text\": [0.5, 0.1, 0.08, 0.04, 0.04, 0.04, 0.04, 0.04, 0.02, 0.02, 0.02, 0.02, 0.02, 0.02, 0.0, 0.0, 0.0, 0.0, 0.0, 0.0, 0.0, 0.0], \"textposition\": \"outside\", \"x\": [0.5, 0.1, 0.08, 0.04, 0.04, 0.04, 0.04, 0.04, 0.02, 0.02, 0.02, 0.02, 0.02, 0.02, 0.0, 0.0, 0.0, 0.0, 0.0, 0.0, 0.0, 0.0], \"y\": [\"http_header_content-length\", \"http_header_content-encoding_gzip\", \"http_header_transfer-encoding_chunked\", \"http_header_cache-control_set_max-age\", \"http_header_x-cintent-type-options_nosniff\", \"http_header_pragmano-cache\", \"http_header_expect-ctmax-age\", \"http_header_cache-control_set_no-store\", \"http_header_connection_keep-alive\", \"http_header_cache-control_set_private\", \"http_header_server_apache\", \"http_header_server_nginx\", \"http_header_vary_accept\", \"http_header_via_1.1\", \"http_header_connection_close\", \"http_header_content-language_text/html\", \"http_header_cache-control_set_public\", \"http_header_cache-control_set_must-revalidate\", \"http_header_strict-transport-security_max-age\", \"http_header_vary_age\", \"http_header_cache-control_set_no-cache\", \"http_header_x-xss-enabled\"], \"type\": \"bar\", \"uid\": \"44d09470-d8d4-41a7-b6d6-baf34b9a6066\"}], {\"autosize\": false, \"height\": 1000, \"width\": 1000, \"xaxis\": {\"tickfont\": {\"color\": \"black\", \"size\": 12}, \"title\": \"Feature Importances\"}, \"yaxis\": {\"automargin\": true}}, {\"showLink\": true, \"linkText\": \"Export to plot.ly\", \"plotlyServerURL\": \"https://plot.ly\"})});</script>"
      ],
      "text/vnd.plotly.v1+html": [
       "<div id=\"ada9b124-439a-49de-bd14-1fb5ff2da1f3\" style=\"height: 1000px; width: 1000px;\" class=\"plotly-graph-div\"></div><script type=\"text/javascript\">require([\"plotly\"], function(Plotly) { window.PLOTLYENV=window.PLOTLYENV || {};window.PLOTLYENV.BASE_URL=\"https://plot.ly\";Plotly.newPlot(\"ada9b124-439a-49de-bd14-1fb5ff2da1f3\", [{\"marker\": {\"color\": \"rgb(158,202,225)\", \"line\": {\"color\": \"rgb(8,48,107)\", \"width\": 1.5}}, \"opacity\": 0.6, \"orientation\": \"h\", \"text\": [0.5, 0.1, 0.08, 0.04, 0.04, 0.04, 0.04, 0.04, 0.02, 0.02, 0.02, 0.02, 0.02, 0.02, 0.0, 0.0, 0.0, 0.0, 0.0, 0.0, 0.0, 0.0], \"textposition\": \"outside\", \"x\": [0.5, 0.1, 0.08, 0.04, 0.04, 0.04, 0.04, 0.04, 0.02, 0.02, 0.02, 0.02, 0.02, 0.02, 0.0, 0.0, 0.0, 0.0, 0.0, 0.0, 0.0, 0.0], \"y\": [\"http_header_content-length\", \"http_header_content-encoding_gzip\", \"http_header_transfer-encoding_chunked\", \"http_header_cache-control_set_max-age\", \"http_header_x-cintent-type-options_nosniff\", \"http_header_pragmano-cache\", \"http_header_expect-ctmax-age\", \"http_header_cache-control_set_no-store\", \"http_header_connection_keep-alive\", \"http_header_cache-control_set_private\", \"http_header_server_apache\", \"http_header_server_nginx\", \"http_header_vary_accept\", \"http_header_via_1.1\", \"http_header_connection_close\", \"http_header_content-language_text/html\", \"http_header_cache-control_set_public\", \"http_header_cache-control_set_must-revalidate\", \"http_header_strict-transport-security_max-age\", \"http_header_vary_age\", \"http_header_cache-control_set_no-cache\", \"http_header_x-xss-enabled\"], \"type\": \"bar\", \"uid\": \"44d09470-d8d4-41a7-b6d6-baf34b9a6066\"}], {\"autosize\": false, \"height\": 1000, \"width\": 1000, \"xaxis\": {\"tickfont\": {\"color\": \"black\", \"size\": 12}, \"title\": \"Feature Importances\"}, \"yaxis\": {\"automargin\": true}}, {\"showLink\": true, \"linkText\": \"Export to plot.ly\", \"plotlyServerURL\": \"https://plot.ly\"})});</script>"
      ]
     },
     "metadata": {},
     "output_type": "display_data"
    },
    {
     "name": "stdout",
     "output_type": "stream",
     "text": [
      "\n",
      "\n",
      "\u001b[1mGradientBoosting Classifier\u001b[0m\n",
      "Accuracy of the model for training data is: 0.907043942863\n",
      "Confusion Matrix for training data is:\n"
     ]
    },
    {
     "data": {
      "text/plain": [
       "Predicted  False  True  __all__\n",
       "Actual                         \n",
       "False      29348  2505    31853\n",
       "True         905  3926     4831\n",
       "__all__    30253  6431    36684"
      ]
     },
     "metadata": {},
     "output_type": "display_data"
    },
    {
     "name": "stdout",
     "output_type": "stream",
     "text": [
      "Accuracy of the model for test data is: 0.905146096816\n",
      "Confusion Matrix for test data is:\n"
     ]
    },
    {
     "data": {
      "text/plain": [
       "Predicted  False  True  __all__\n",
       "Actual                         \n",
       "False       7348   634     7982\n",
       "True         236   954     1190\n",
       "__all__     7584  1588     9172"
      ]
     },
     "metadata": {},
     "output_type": "display_data"
    },
    {
     "data": {
      "application/vnd.plotly.v1+json": {
       "config": {
        "linkText": "Export to plot.ly",
        "plotlyServerURL": "https://plot.ly",
        "showLink": true
       },
       "data": [
        {
         "marker": {
          "color": "rgb(158,202,225)",
          "line": {
           "color": "rgb(8,48,107)",
           "width": 1.5
          }
         },
         "opacity": 0.6,
         "orientation": "h",
         "text": [
          0.4623,
          0.2818,
          0.0895,
          0.0575,
          0.0474,
          0.019,
          0.008,
          0.0072,
          0.0045,
          0.0045,
          0.0044,
          0.0037,
          0.0023,
          0.0014,
          0.0014,
          0.0012,
          0.0011,
          0.001,
          0.0006,
          0.0005,
          0.0004,
          0.0003
         ],
         "textposition": "outside",
         "type": "bar",
         "uid": "58da206b-643f-467f-a39f-4d71aae1fefe",
         "x": [
          0.46225714110189214,
          0.2817785510423069,
          0.08952024954091456,
          0.05745954705173484,
          0.0473751388211915,
          0.01900438859917925,
          0.008014855434028035,
          0.007232701331638199,
          0.004522895289116632,
          0.004458919314975789,
          0.0043990951881167995,
          0.0036658886752926165,
          0.0023351507928023305,
          0.0014420777451948118,
          0.0014008423618494016,
          0.00116622900160746,
          0.0011234533503207797,
          0.0009953425818245564,
          0.0006307732159131044,
          0.00045853054747471976,
          0.0004370901691098932,
          0.0003211388435156087
         ],
         "y": [
          "http_header_content-encoding_gzip",
          "http_header_content-length",
          "http_header_transfer-encoding_chunked",
          "http_header_content-language_text/html",
          "http_header_server_apache",
          "http_header_cache-control_set_must-revalidate",
          "http_header_pragmano-cache",
          "http_header_connection_keep-alive",
          "http_header_cache-control_set_max-age",
          "http_header_connection_close",
          "http_header_vary_age",
          "http_header_server_nginx",
          "http_header_vary_accept",
          "http_header_via_1.1",
          "http_header_cache-control_set_no-cache",
          "http_header_cache-control_set_no-store",
          "http_header_cache-control_set_private",
          "http_header_expect-ctmax-age",
          "http_header_strict-transport-security_max-age",
          "http_header_cache-control_set_public",
          "http_header_x-cintent-type-options_nosniff",
          "http_header_x-xss-enabled"
         ]
        }
       ],
       "layout": {
        "autosize": false,
        "height": 1000,
        "width": 1000,
        "xaxis": {
         "tickfont": {
          "color": "black",
          "size": 12
         },
         "title": "Feature Importances"
        },
        "yaxis": {
         "automargin": true
        }
       }
      },
      "text/html": [
       "<div id=\"050ff2e2-de13-4d24-ac59-18068559e2ec\" style=\"height: 1000px; width: 1000px;\" class=\"plotly-graph-div\"></div><script type=\"text/javascript\">require([\"plotly\"], function(Plotly) { window.PLOTLYENV=window.PLOTLYENV || {};window.PLOTLYENV.BASE_URL=\"https://plot.ly\";Plotly.newPlot(\"050ff2e2-de13-4d24-ac59-18068559e2ec\", [{\"marker\": {\"color\": \"rgb(158,202,225)\", \"line\": {\"color\": \"rgb(8,48,107)\", \"width\": 1.5}}, \"opacity\": 0.6, \"orientation\": \"h\", \"text\": [0.4623, 0.2818, 0.0895, 0.0575, 0.0474, 0.019, 0.008, 0.0072, 0.0045, 0.0045, 0.0044, 0.0037, 0.0023, 0.0014, 0.0014, 0.0012, 0.0011, 0.001, 0.0006, 0.0005, 0.0004, 0.0003], \"textposition\": \"outside\", \"x\": [0.46225714110189214, 0.2817785510423069, 0.08952024954091456, 0.05745954705173484, 0.0473751388211915, 0.01900438859917925, 0.008014855434028035, 0.007232701331638199, 0.004522895289116632, 0.004458919314975789, 0.0043990951881167995, 0.0036658886752926165, 0.0023351507928023305, 0.0014420777451948118, 0.0014008423618494016, 0.00116622900160746, 0.0011234533503207797, 0.0009953425818245564, 0.0006307732159131044, 0.00045853054747471976, 0.0004370901691098932, 0.0003211388435156087], \"y\": [\"http_header_content-encoding_gzip\", \"http_header_content-length\", \"http_header_transfer-encoding_chunked\", \"http_header_content-language_text/html\", \"http_header_server_apache\", \"http_header_cache-control_set_must-revalidate\", \"http_header_pragmano-cache\", \"http_header_connection_keep-alive\", \"http_header_cache-control_set_max-age\", \"http_header_connection_close\", \"http_header_vary_age\", \"http_header_server_nginx\", \"http_header_vary_accept\", \"http_header_via_1.1\", \"http_header_cache-control_set_no-cache\", \"http_header_cache-control_set_no-store\", \"http_header_cache-control_set_private\", \"http_header_expect-ctmax-age\", \"http_header_strict-transport-security_max-age\", \"http_header_cache-control_set_public\", \"http_header_x-cintent-type-options_nosniff\", \"http_header_x-xss-enabled\"], \"type\": \"bar\", \"uid\": \"58da206b-643f-467f-a39f-4d71aae1fefe\"}], {\"autosize\": false, \"height\": 1000, \"width\": 1000, \"xaxis\": {\"tickfont\": {\"color\": \"black\", \"size\": 12}, \"title\": \"Feature Importances\"}, \"yaxis\": {\"automargin\": true}}, {\"showLink\": true, \"linkText\": \"Export to plot.ly\", \"plotlyServerURL\": \"https://plot.ly\"})});</script>"
      ],
      "text/vnd.plotly.v1+html": [
       "<div id=\"050ff2e2-de13-4d24-ac59-18068559e2ec\" style=\"height: 1000px; width: 1000px;\" class=\"plotly-graph-div\"></div><script type=\"text/javascript\">require([\"plotly\"], function(Plotly) { window.PLOTLYENV=window.PLOTLYENV || {};window.PLOTLYENV.BASE_URL=\"https://plot.ly\";Plotly.newPlot(\"050ff2e2-de13-4d24-ac59-18068559e2ec\", [{\"marker\": {\"color\": \"rgb(158,202,225)\", \"line\": {\"color\": \"rgb(8,48,107)\", \"width\": 1.5}}, \"opacity\": 0.6, \"orientation\": \"h\", \"text\": [0.4623, 0.2818, 0.0895, 0.0575, 0.0474, 0.019, 0.008, 0.0072, 0.0045, 0.0045, 0.0044, 0.0037, 0.0023, 0.0014, 0.0014, 0.0012, 0.0011, 0.001, 0.0006, 0.0005, 0.0004, 0.0003], \"textposition\": \"outside\", \"x\": [0.46225714110189214, 0.2817785510423069, 0.08952024954091456, 0.05745954705173484, 0.0473751388211915, 0.01900438859917925, 0.008014855434028035, 0.007232701331638199, 0.004522895289116632, 0.004458919314975789, 0.0043990951881167995, 0.0036658886752926165, 0.0023351507928023305, 0.0014420777451948118, 0.0014008423618494016, 0.00116622900160746, 0.0011234533503207797, 0.0009953425818245564, 0.0006307732159131044, 0.00045853054747471976, 0.0004370901691098932, 0.0003211388435156087], \"y\": [\"http_header_content-encoding_gzip\", \"http_header_content-length\", \"http_header_transfer-encoding_chunked\", \"http_header_content-language_text/html\", \"http_header_server_apache\", \"http_header_cache-control_set_must-revalidate\", \"http_header_pragmano-cache\", \"http_header_connection_keep-alive\", \"http_header_cache-control_set_max-age\", \"http_header_connection_close\", \"http_header_vary_age\", \"http_header_server_nginx\", \"http_header_vary_accept\", \"http_header_via_1.1\", \"http_header_cache-control_set_no-cache\", \"http_header_cache-control_set_no-store\", \"http_header_cache-control_set_private\", \"http_header_expect-ctmax-age\", \"http_header_strict-transport-security_max-age\", \"http_header_cache-control_set_public\", \"http_header_x-cintent-type-options_nosniff\", \"http_header_x-xss-enabled\"], \"type\": \"bar\", \"uid\": \"58da206b-643f-467f-a39f-4d71aae1fefe\"}], {\"autosize\": false, \"height\": 1000, \"width\": 1000, \"xaxis\": {\"tickfont\": {\"color\": \"black\", \"size\": 12}, \"title\": \"Feature Importances\"}, \"yaxis\": {\"automargin\": true}}, {\"showLink\": true, \"linkText\": \"Export to plot.ly\", \"plotlyServerURL\": \"https://plot.ly\"})});</script>"
      ]
     },
     "metadata": {},
     "output_type": "display_data"
    },
    {
     "name": "stdout",
     "output_type": "stream",
     "text": [
      "\n",
      "\n",
      "\u001b[1mExtraTree Classifier\u001b[0m\n",
      "Accuracy of the model for training data is: 0.921055501036\n",
      "Confusion Matrix for training data is:\n"
     ]
    },
    {
     "data": {
      "text/plain": [
       "Predicted  False  True  __all__\n",
       "Actual                         \n",
       "False      29399  2454    31853\n",
       "True         442  4389     4831\n",
       "__all__    29841  6843    36684"
      ]
     },
     "metadata": {},
     "output_type": "display_data"
    },
    {
     "name": "stdout",
     "output_type": "stream",
     "text": [
      "Accuracy of the model for test data is: 0.908634976014\n",
      "Confusion Matrix for test data is:\n"
     ]
    },
    {
     "data": {
      "text/plain": [
       "Predicted  False  True  __all__\n",
       "Actual                         \n",
       "False       7315   667     7982\n",
       "True         171  1019     1190\n",
       "__all__     7486  1686     9172"
      ]
     },
     "metadata": {},
     "output_type": "display_data"
    },
    {
     "data": {
      "application/vnd.plotly.v1+json": {
       "config": {
        "linkText": "Export to plot.ly",
        "plotlyServerURL": "https://plot.ly",
        "showLink": true
       },
       "data": [
        {
         "marker": {
          "color": "rgb(158,202,225)",
          "line": {
           "color": "rgb(8,48,107)",
           "width": 1.5
          }
         },
         "opacity": 0.6,
         "orientation": "h",
         "text": [
          0.231,
          0.2066,
          0.2062,
          0.0586,
          0.0519,
          0.0354,
          0.0283,
          0.0249,
          0.0229,
          0.0207,
          0.0188,
          0.0157,
          0.0128,
          0.0121,
          0.0104,
          0.0093,
          0.0088,
          0.0087,
          0.0058,
          0.0056,
          0.0028,
          0.0024
         ],
         "textposition": "outside",
         "type": "bar",
         "uid": "7cbdad38-b14e-4868-aff4-4ca0c11406b3",
         "x": [
          0.23101001271157368,
          0.20661527212401914,
          0.20624702852647422,
          0.0586462641650257,
          0.051941277619558246,
          0.03543066302094193,
          0.028288259675664278,
          0.024941158372184125,
          0.022888537241099505,
          0.020743747200753043,
          0.01877074471623317,
          0.015651964675050423,
          0.012776623788863444,
          0.012118512818326429,
          0.010448570477041026,
          0.009337204595121721,
          0.008824552237310707,
          0.00871438522923584,
          0.005820244809582015,
          0.005584431383108516,
          0.0028332778620120532,
          0.0023672667508208107
         ],
         "y": [
          "http_header_content-length",
          "http_header_content-encoding_gzip",
          "http_header_content-language_text/html",
          "http_header_transfer-encoding_chunked",
          "http_header_server_apache",
          "http_header_cache-control_set_must-revalidate",
          "http_header_connection_keep-alive",
          "http_header_cache-control_set_max-age",
          "http_header_server_nginx",
          "http_header_vary_age",
          "http_header_cache-control_set_no-store",
          "http_header_connection_close",
          "http_header_cache-control_set_private",
          "http_header_cache-control_set_no-cache",
          "http_header_pragmano-cache",
          "http_header_vary_accept",
          "http_header_via_1.1",
          "http_header_strict-transport-security_max-age",
          "http_header_x-cintent-type-options_nosniff",
          "http_header_x-xss-enabled",
          "http_header_cache-control_set_public",
          "http_header_expect-ctmax-age"
         ]
        }
       ],
       "layout": {
        "autosize": false,
        "height": 1000,
        "width": 1000,
        "xaxis": {
         "tickfont": {
          "color": "black",
          "size": 12
         },
         "title": "Feature Importances"
        },
        "yaxis": {
         "automargin": true
        }
       }
      },
      "text/html": [
       "<div id=\"1698e971-ecda-4478-a31c-99b8cf200e7a\" style=\"height: 1000px; width: 1000px;\" class=\"plotly-graph-div\"></div><script type=\"text/javascript\">require([\"plotly\"], function(Plotly) { window.PLOTLYENV=window.PLOTLYENV || {};window.PLOTLYENV.BASE_URL=\"https://plot.ly\";Plotly.newPlot(\"1698e971-ecda-4478-a31c-99b8cf200e7a\", [{\"marker\": {\"color\": \"rgb(158,202,225)\", \"line\": {\"color\": \"rgb(8,48,107)\", \"width\": 1.5}}, \"opacity\": 0.6, \"orientation\": \"h\", \"text\": [0.231, 0.2066, 0.2062, 0.0586, 0.0519, 0.0354, 0.0283, 0.0249, 0.0229, 0.0207, 0.0188, 0.0157, 0.0128, 0.0121, 0.0104, 0.0093, 0.0088, 0.0087, 0.0058, 0.0056, 0.0028, 0.0024], \"textposition\": \"outside\", \"x\": [0.23101001271157368, 0.20661527212401914, 0.20624702852647422, 0.0586462641650257, 0.051941277619558246, 0.03543066302094193, 0.028288259675664278, 0.024941158372184125, 0.022888537241099505, 0.020743747200753043, 0.01877074471623317, 0.015651964675050423, 0.012776623788863444, 0.012118512818326429, 0.010448570477041026, 0.009337204595121721, 0.008824552237310707, 0.00871438522923584, 0.005820244809582015, 0.005584431383108516, 0.0028332778620120532, 0.0023672667508208107], \"y\": [\"http_header_content-length\", \"http_header_content-encoding_gzip\", \"http_header_content-language_text/html\", \"http_header_transfer-encoding_chunked\", \"http_header_server_apache\", \"http_header_cache-control_set_must-revalidate\", \"http_header_connection_keep-alive\", \"http_header_cache-control_set_max-age\", \"http_header_server_nginx\", \"http_header_vary_age\", \"http_header_cache-control_set_no-store\", \"http_header_connection_close\", \"http_header_cache-control_set_private\", \"http_header_cache-control_set_no-cache\", \"http_header_pragmano-cache\", \"http_header_vary_accept\", \"http_header_via_1.1\", \"http_header_strict-transport-security_max-age\", \"http_header_x-cintent-type-options_nosniff\", \"http_header_x-xss-enabled\", \"http_header_cache-control_set_public\", \"http_header_expect-ctmax-age\"], \"type\": \"bar\", \"uid\": \"7cbdad38-b14e-4868-aff4-4ca0c11406b3\"}], {\"autosize\": false, \"height\": 1000, \"width\": 1000, \"xaxis\": {\"tickfont\": {\"color\": \"black\", \"size\": 12}, \"title\": \"Feature Importances\"}, \"yaxis\": {\"automargin\": true}}, {\"showLink\": true, \"linkText\": \"Export to plot.ly\", \"plotlyServerURL\": \"https://plot.ly\"})});</script>"
      ],
      "text/vnd.plotly.v1+html": [
       "<div id=\"1698e971-ecda-4478-a31c-99b8cf200e7a\" style=\"height: 1000px; width: 1000px;\" class=\"plotly-graph-div\"></div><script type=\"text/javascript\">require([\"plotly\"], function(Plotly) { window.PLOTLYENV=window.PLOTLYENV || {};window.PLOTLYENV.BASE_URL=\"https://plot.ly\";Plotly.newPlot(\"1698e971-ecda-4478-a31c-99b8cf200e7a\", [{\"marker\": {\"color\": \"rgb(158,202,225)\", \"line\": {\"color\": \"rgb(8,48,107)\", \"width\": 1.5}}, \"opacity\": 0.6, \"orientation\": \"h\", \"text\": [0.231, 0.2066, 0.2062, 0.0586, 0.0519, 0.0354, 0.0283, 0.0249, 0.0229, 0.0207, 0.0188, 0.0157, 0.0128, 0.0121, 0.0104, 0.0093, 0.0088, 0.0087, 0.0058, 0.0056, 0.0028, 0.0024], \"textposition\": \"outside\", \"x\": [0.23101001271157368, 0.20661527212401914, 0.20624702852647422, 0.0586462641650257, 0.051941277619558246, 0.03543066302094193, 0.028288259675664278, 0.024941158372184125, 0.022888537241099505, 0.020743747200753043, 0.01877074471623317, 0.015651964675050423, 0.012776623788863444, 0.012118512818326429, 0.010448570477041026, 0.009337204595121721, 0.008824552237310707, 0.00871438522923584, 0.005820244809582015, 0.005584431383108516, 0.0028332778620120532, 0.0023672667508208107], \"y\": [\"http_header_content-length\", \"http_header_content-encoding_gzip\", \"http_header_content-language_text/html\", \"http_header_transfer-encoding_chunked\", \"http_header_server_apache\", \"http_header_cache-control_set_must-revalidate\", \"http_header_connection_keep-alive\", \"http_header_cache-control_set_max-age\", \"http_header_server_nginx\", \"http_header_vary_age\", \"http_header_cache-control_set_no-store\", \"http_header_connection_close\", \"http_header_cache-control_set_private\", \"http_header_cache-control_set_no-cache\", \"http_header_pragmano-cache\", \"http_header_vary_accept\", \"http_header_via_1.1\", \"http_header_strict-transport-security_max-age\", \"http_header_x-cintent-type-options_nosniff\", \"http_header_x-xss-enabled\", \"http_header_cache-control_set_public\", \"http_header_expect-ctmax-age\"], \"type\": \"bar\", \"uid\": \"7cbdad38-b14e-4868-aff4-4ca0c11406b3\"}], {\"autosize\": false, \"height\": 1000, \"width\": 1000, \"xaxis\": {\"tickfont\": {\"color\": \"black\", \"size\": 12}, \"title\": \"Feature Importances\"}, \"yaxis\": {\"automargin\": true}}, {\"showLink\": true, \"linkText\": \"Export to plot.ly\", \"plotlyServerURL\": \"https://plot.ly\"})});</script>"
      ]
     },
     "metadata": {},
     "output_type": "display_data"
    },
    {
     "name": "stdout",
     "output_type": "stream",
     "text": [
      "\n",
      "\n",
      "\u001b[1mBagging Classifier\u001b[0m\n",
      "Accuracy of the model for training data is: 0.919419910588\n",
      "Confusion Matrix for training data is:\n"
     ]
    },
    {
     "data": {
      "text/plain": [
       "Predicted  False  True  __all__\n",
       "Actual                         \n",
       "False      29372  2481    31853\n",
       "True         475  4356     4831\n",
       "__all__    29847  6837    36684"
      ]
     },
     "metadata": {},
     "output_type": "display_data"
    },
    {
     "name": "stdout",
     "output_type": "stream",
     "text": [
      "Accuracy of the model for test data is: 0.910597470563\n",
      "Confusion Matrix for test data is:\n"
     ]
    },
    {
     "data": {
      "text/plain": [
       "Predicted  False  True  __all__\n",
       "Actual                         \n",
       "False       7334   648     7982\n",
       "True         172  1018     1190\n",
       "__all__     7506  1666     9172"
      ]
     },
     "metadata": {},
     "output_type": "display_data"
    },
    {
     "name": "stdout",
     "output_type": "stream",
     "text": [
      "\n",
      "\n",
      "\u001b[1mNeural Network-1\u001b[0m\n",
      "The accuracy of the model on training data is: 0.906035328754\n"
     ]
    },
    {
     "data": {
      "text/plain": [
       "Predicted  False  True  __all__\n",
       "Actual                         \n",
       "False      29141  2712    31853\n",
       "True         735  4096     4831\n",
       "__all__    29876  6808    36684"
      ]
     },
     "metadata": {},
     "output_type": "display_data"
    },
    {
     "name": "stdout",
     "output_type": "stream",
     "text": [
      "The accuracy of the model on test data is: 0.904055822067\n"
     ]
    },
    {
     "data": {
      "text/plain": [
       "Predicted  False  True  __all__\n",
       "Actual                         \n",
       "False       7311   671     7982\n",
       "True         209   981     1190\n",
       "__all__     7520  1652     9172"
      ]
     },
     "metadata": {},
     "output_type": "display_data"
    },
    {
     "name": "stdout",
     "output_type": "stream",
     "text": [
      "\n",
      "\n"
     ]
    }
   ],
   "source": [
    "feat_imp=[None]*4\n",
    "j=0\n",
    "for i in range(0,8):\n",
    "    if i>=2 and i<=5:\n",
    "        model,cm_train,cm_test,acc_train,acc_test,roc_auc,feat_imp[j],mcc=f[i](scaled_X_train,train_Y,scaled_X_test,test_Y,columns[:-2])\n",
    "        j=j+1\n",
    "    else:\n",
    "        model,cm_train,cm_test,acc_train,acc_test,roc_auc,mcc=f[i](scaled_X_train,train_Y,scaled_X_test,test_Y)\n",
    "    table_80_50_train.loc[i]=   ([acc_train,cm_train.TP,cm_train.TN,cm_train.FP,cm_train.FN,cm_train.FPR,cm_train.FNR])\n",
    "    table_80_50_test.loc[i] =   ([acc_test ,cm_test.TP, cm_test.TN, cm_test.FP, cm_test.FN, cm_test.FPR, cm_test.FNR,roc_auc,mcc])\n",
    "    print(\"\\n\")"
   ]
  },
  {
   "cell_type": "markdown",
   "metadata": {},
   "source": [
    "### <a id='1.A' style=\"text-decoration : none; color : #000000;\"> A Results</a>"
   ]
  },
  {
   "cell_type": "code",
   "execution_count": 11,
   "metadata": {},
   "outputs": [
    {
     "data": {
      "application/vnd.plotly.v1+json": {
       "config": {
        "linkText": "Export to plot.ly",
        "plotlyServerURL": "https://plot.ly",
        "showLink": true
       },
       "data": [
        {
         "mode": "lines",
         "name": "KNN_model",
         "type": "scatter",
         "uid": "19a8405d-44ef-4575-b55c-b52805e33bf6",
         "x": [
          "accuracy",
          "FPR",
          "FNR",
          "auc"
         ],
         "y": [
          0.904709986916703,
          0.006138812327737409,
          0.6932773109243697,
          0.6502919383739465
         ]
        },
        {
         "mode": "lines+markers",
         "name": "Logistic Regression",
         "type": "scatter",
         "uid": "ca84d756-2460-404b-a181-c85b19f92bf7",
         "x": [
          "accuracy",
          "FPR",
          "FNR",
          "auc"
         ],
         "y": [
          0.8839947666812037,
          0.08406414432473064,
          0.3302521008403361,
          0.7928418774174665
         ]
        },
        {
         "marker": {
          "symbol": "x"
         },
         "mode": "lines+markers",
         "name": "Random Forest",
         "type": "scatter",
         "uid": "a922cecd-9fb1-4b26-8b6d-e7349ba623b0",
         "x": [
          "accuracy",
          "FPR",
          "FNR",
          "auc"
         ],
         "y": [
          0.9096162232882686,
          0.08193435229265848,
          0.14705882352941177,
          0.8855034120889649
         ]
        },
        {
         "mode": "lines",
         "name": "Ada Boost",
         "type": "scatter",
         "uid": "96f059ab-c5cd-44c0-a9e1-90db8ccb2b3f",
         "x": [
          "accuracy",
          "FPR",
          "FNR",
          "auc"
         ],
         "y": [
          0.8954426515481901,
          0.08080681533450262,
          0.2638655462184874,
          0.827663819223505
         ]
        },
        {
         "mode": "lines+markers",
         "name": "GradientBoosting",
         "type": "scatter",
         "uid": "50eb577a-9dff-4482-be8a-e385af7f23aa",
         "x": [
          "accuracy",
          "FPR",
          "FNR",
          "auc"
         ],
         "y": [
          0.9051460968163977,
          0.0794287146078677,
          0.19831932773109243,
          0.8611259788305199
         ]
        },
        {
         "marker": {
          "symbol": "x"
         },
         "mode": "lines+markers",
         "name": "ExtraTree Classifier",
         "type": "scatter",
         "uid": "680b448c-69c5-4dfa-8b85-abdcea5c5f08",
         "x": [
          "accuracy",
          "FPR",
          "FNR",
          "auc"
         ],
         "y": [
          0.9086349760139555,
          0.08356301678777249,
          0.14369747899159663,
          0.8863697521103155
         ]
        },
        {
         "marker": {
          "symbol": "x"
         },
         "mode": "lines+markers",
         "name": "Bagging",
         "type": "scatter",
         "uid": "b36324be-c93a-4ba9-9177-21891d84c5b8",
         "x": [
          "accuracy",
          "FPR",
          "FNR",
          "auc"
         ],
         "y": [
          0.9105974705625818,
          0.08118266098722125,
          0.14453781512605043,
          0.8871397619433642
         ]
        },
        {
         "marker": {
          "symbol": "x"
         },
         "mode": "lines+markers",
         "name": "Neural Network",
         "type": "scatter",
         "uid": "4427c9ce-fa12-4096-98db-35a690f32104",
         "x": [
          "accuracy",
          "FPR",
          "FNR",
          "auc"
         ],
         "y": [
          0.904055822067161,
          0.08406414432473064,
          0.17563025210084032,
          0.8871397619433642
         ]
        }
       ],
       "layout": {
        "title": "Result comparision for Features selected in Section 1",
        "yaxis": {
         "dtick": 0.05,
         "tick0": 0
        }
       }
      },
      "text/html": [
       "<div id=\"eee63e16-29c3-4832-b306-98f5200abd93\" style=\"height: 525px; width: 100%;\" class=\"plotly-graph-div\"></div><script type=\"text/javascript\">require([\"plotly\"], function(Plotly) { window.PLOTLYENV=window.PLOTLYENV || {};window.PLOTLYENV.BASE_URL=\"https://plot.ly\";Plotly.newPlot(\"eee63e16-29c3-4832-b306-98f5200abd93\", [{\"mode\": \"lines\", \"name\": \"KNN_model\", \"x\": [\"accuracy\", \"FPR\", \"FNR\", \"auc\"], \"y\": [0.904709986916703, 0.006138812327737409, 0.6932773109243697, 0.6502919383739465], \"type\": \"scatter\", \"uid\": \"19a8405d-44ef-4575-b55c-b52805e33bf6\"}, {\"mode\": \"lines+markers\", \"name\": \"Logistic Regression\", \"x\": [\"accuracy\", \"FPR\", \"FNR\", \"auc\"], \"y\": [0.8839947666812037, 0.08406414432473064, 0.3302521008403361, 0.7928418774174665], \"type\": \"scatter\", \"uid\": \"ca84d756-2460-404b-a181-c85b19f92bf7\"}, {\"marker\": {\"symbol\": \"x\"}, \"mode\": \"lines+markers\", \"name\": \"Random Forest\", \"x\": [\"accuracy\", \"FPR\", \"FNR\", \"auc\"], \"y\": [0.9096162232882686, 0.08193435229265848, 0.14705882352941177, 0.8855034120889649], \"type\": \"scatter\", \"uid\": \"a922cecd-9fb1-4b26-8b6d-e7349ba623b0\"}, {\"mode\": \"lines\", \"name\": \"Ada Boost\", \"x\": [\"accuracy\", \"FPR\", \"FNR\", \"auc\"], \"y\": [0.8954426515481901, 0.08080681533450262, 0.2638655462184874, 0.827663819223505], \"type\": \"scatter\", \"uid\": \"96f059ab-c5cd-44c0-a9e1-90db8ccb2b3f\"}, {\"mode\": \"lines+markers\", \"name\": \"GradientBoosting\", \"x\": [\"accuracy\", \"FPR\", \"FNR\", \"auc\"], \"y\": [0.9051460968163977, 0.0794287146078677, 0.19831932773109243, 0.8611259788305199], \"type\": \"scatter\", \"uid\": \"50eb577a-9dff-4482-be8a-e385af7f23aa\"}, {\"marker\": {\"symbol\": \"x\"}, \"mode\": \"lines+markers\", \"name\": \"ExtraTree Classifier\", \"x\": [\"accuracy\", \"FPR\", \"FNR\", \"auc\"], \"y\": [0.9086349760139555, 0.08356301678777249, 0.14369747899159663, 0.8863697521103155], \"type\": \"scatter\", \"uid\": \"680b448c-69c5-4dfa-8b85-abdcea5c5f08\"}, {\"marker\": {\"symbol\": \"x\"}, \"mode\": \"lines+markers\", \"name\": \"Bagging\", \"x\": [\"accuracy\", \"FPR\", \"FNR\", \"auc\"], \"y\": [0.9105974705625818, 0.08118266098722125, 0.14453781512605043, 0.8871397619433642], \"type\": \"scatter\", \"uid\": \"b36324be-c93a-4ba9-9177-21891d84c5b8\"}, {\"marker\": {\"symbol\": \"x\"}, \"mode\": \"lines+markers\", \"name\": \"Neural Network\", \"x\": [\"accuracy\", \"FPR\", \"FNR\", \"auc\"], \"y\": [0.904055822067161, 0.08406414432473064, 0.17563025210084032, 0.8871397619433642], \"type\": \"scatter\", \"uid\": \"4427c9ce-fa12-4096-98db-35a690f32104\"}], {\"title\": \"Result comparision for Features selected in Section 1\", \"yaxis\": {\"dtick\": 0.05, \"tick0\": 0}}, {\"showLink\": true, \"linkText\": \"Export to plot.ly\", \"plotlyServerURL\": \"https://plot.ly\"})});</script><script type=\"text/javascript\">window.addEventListener(\"resize\", function(){window._Plotly.Plots.resize(document.getElementById(\"eee63e16-29c3-4832-b306-98f5200abd93\"));});</script>"
      ],
      "text/vnd.plotly.v1+html": [
       "<div id=\"eee63e16-29c3-4832-b306-98f5200abd93\" style=\"height: 525px; width: 100%;\" class=\"plotly-graph-div\"></div><script type=\"text/javascript\">require([\"plotly\"], function(Plotly) { window.PLOTLYENV=window.PLOTLYENV || {};window.PLOTLYENV.BASE_URL=\"https://plot.ly\";Plotly.newPlot(\"eee63e16-29c3-4832-b306-98f5200abd93\", [{\"mode\": \"lines\", \"name\": \"KNN_model\", \"x\": [\"accuracy\", \"FPR\", \"FNR\", \"auc\"], \"y\": [0.904709986916703, 0.006138812327737409, 0.6932773109243697, 0.6502919383739465], \"type\": \"scatter\", \"uid\": \"19a8405d-44ef-4575-b55c-b52805e33bf6\"}, {\"mode\": \"lines+markers\", \"name\": \"Logistic Regression\", \"x\": [\"accuracy\", \"FPR\", \"FNR\", \"auc\"], \"y\": [0.8839947666812037, 0.08406414432473064, 0.3302521008403361, 0.7928418774174665], \"type\": \"scatter\", \"uid\": \"ca84d756-2460-404b-a181-c85b19f92bf7\"}, {\"marker\": {\"symbol\": \"x\"}, \"mode\": \"lines+markers\", \"name\": \"Random Forest\", \"x\": [\"accuracy\", \"FPR\", \"FNR\", \"auc\"], \"y\": [0.9096162232882686, 0.08193435229265848, 0.14705882352941177, 0.8855034120889649], \"type\": \"scatter\", \"uid\": \"a922cecd-9fb1-4b26-8b6d-e7349ba623b0\"}, {\"mode\": \"lines\", \"name\": \"Ada Boost\", \"x\": [\"accuracy\", \"FPR\", \"FNR\", \"auc\"], \"y\": [0.8954426515481901, 0.08080681533450262, 0.2638655462184874, 0.827663819223505], \"type\": \"scatter\", \"uid\": \"96f059ab-c5cd-44c0-a9e1-90db8ccb2b3f\"}, {\"mode\": \"lines+markers\", \"name\": \"GradientBoosting\", \"x\": [\"accuracy\", \"FPR\", \"FNR\", \"auc\"], \"y\": [0.9051460968163977, 0.0794287146078677, 0.19831932773109243, 0.8611259788305199], \"type\": \"scatter\", \"uid\": \"50eb577a-9dff-4482-be8a-e385af7f23aa\"}, {\"marker\": {\"symbol\": \"x\"}, \"mode\": \"lines+markers\", \"name\": \"ExtraTree Classifier\", \"x\": [\"accuracy\", \"FPR\", \"FNR\", \"auc\"], \"y\": [0.9086349760139555, 0.08356301678777249, 0.14369747899159663, 0.8863697521103155], \"type\": \"scatter\", \"uid\": \"680b448c-69c5-4dfa-8b85-abdcea5c5f08\"}, {\"marker\": {\"symbol\": \"x\"}, \"mode\": \"lines+markers\", \"name\": \"Bagging\", \"x\": [\"accuracy\", \"FPR\", \"FNR\", \"auc\"], \"y\": [0.9105974705625818, 0.08118266098722125, 0.14453781512605043, 0.8871397619433642], \"type\": \"scatter\", \"uid\": \"b36324be-c93a-4ba9-9177-21891d84c5b8\"}, {\"marker\": {\"symbol\": \"x\"}, \"mode\": \"lines+markers\", \"name\": \"Neural Network\", \"x\": [\"accuracy\", \"FPR\", \"FNR\", \"auc\"], \"y\": [0.904055822067161, 0.08406414432473064, 0.17563025210084032, 0.8871397619433642], \"type\": \"scatter\", \"uid\": \"4427c9ce-fa12-4096-98db-35a690f32104\"}], {\"title\": \"Result comparision for Features selected in Section 1\", \"yaxis\": {\"dtick\": 0.05, \"tick0\": 0}}, {\"showLink\": true, \"linkText\": \"Export to plot.ly\", \"plotlyServerURL\": \"https://plot.ly\"})});</script><script type=\"text/javascript\">window.addEventListener(\"resize\", function(){window._Plotly.Plots.resize(document.getElementById(\"eee63e16-29c3-4832-b306-98f5200abd93\"));});</script>"
      ]
     },
     "metadata": {},
     "output_type": "display_data"
    }
   ],
   "source": [
    "trace0 = go.Scatter(x=table_80_50_test.iloc[0].index.values[[0,5,6,7]],\n",
    "                    y=table_80_50_test.iloc[0].values[[0,5,6,7]],\n",
    "                    mode = 'lines',\n",
    "                    name = 'KNN_model')\n",
    "\n",
    "trace1 = go.Scatter(x=table_80_50_test.iloc[1].index.values[[0,5,6,7]],\n",
    "                    y=table_80_50_test.iloc[1].values[[0,5,6,7]],\n",
    "                    mode = 'lines+markers',\n",
    "                    name = 'Logistic Regression')\n",
    "\n",
    "trace2 = go.Scatter(x=table_80_50_test.iloc[2].index.values[[0,5,6,7]],\n",
    "                    y=table_80_50_test.iloc[2].values[[0,5,6,7]],\n",
    "                    mode = 'lines+markers',marker=dict(symbol='x'),\n",
    "                    name = 'Random Forest')\n",
    "\n",
    "\n",
    "trace3 = go.Scatter(x=table_80_50_test.iloc[3].index.values[[0,5,6,7]],\n",
    "                    y=table_80_50_test.iloc[3].values[[0,5,6,7]],\n",
    "                    mode = 'lines',\n",
    "                    name = 'Ada Boost')\n",
    "\n",
    "trace4 = go.Scatter(x=table_80_50_test.iloc[4].index.values[[0,5,6,7]],\n",
    "                    y=table_80_50_test.iloc[4].values[[0,5,6,7]],\n",
    "                    mode = 'lines+markers',\n",
    "                    name = 'GradientBoosting')\n",
    "\n",
    "trace5 = go.Scatter(x=table_80_50_test.iloc[5].index.values[[0,5,6,7]],\n",
    "                    y=table_80_50_test.iloc[5].values[[0,5,6,7]],\n",
    "                    mode = 'lines+markers',marker=dict(symbol='x'),\n",
    "                    name = 'ExtraTree Classifier')\n",
    "\n",
    "trace6 = go.Scatter(x=table_80_50_test.iloc[6].index.values[[0,5,6,7]],\n",
    "                    y=table_80_50_test.iloc[6].values[[0,5,6,7]],\n",
    "                    mode = 'lines+markers',marker=dict(symbol='x'),\n",
    "                    name = 'Bagging')\n",
    "\n",
    "trace7 = go.Scatter(x=table_80_50_test.iloc[7].index.values[[0,5,6,7]],\n",
    "                    y=table_80_50_test.iloc[7].values[[0,5,6,7]],\n",
    "                    mode = 'lines+markers',marker=dict(symbol='x'),\n",
    "                    name = 'Neural Network')\n",
    "\n",
    "\n",
    "\n",
    "data = [trace0, trace1, trace2, trace3, trace4, trace5, trace6, trace7]\n",
    "layout = go.Layout(yaxis=dict(tick0=0,dtick=0.05),title='Result comparision for Features selected in Section 1')\n",
    "fig = go.Figure(data=data, layout=layout)\n",
    "\n",
    "iplot(fig, filename='Result')"
   ]
  },
  {
   "cell_type": "code",
   "execution_count": 12,
   "metadata": {},
   "outputs": [
    {
     "name": "stdout",
     "output_type": "stream",
     "text": [
      "Training Results\n"
     ]
    },
    {
     "data": {
      "text/html": [
       "<div>\n",
       "<style scoped>\n",
       "    .dataframe tbody tr th:only-of-type {\n",
       "        vertical-align: middle;\n",
       "    }\n",
       "\n",
       "    .dataframe tbody tr th {\n",
       "        vertical-align: top;\n",
       "    }\n",
       "\n",
       "    .dataframe thead th {\n",
       "        text-align: right;\n",
       "    }\n",
       "</style>\n",
       "<table border=\"1\" class=\"dataframe\">\n",
       "  <thead>\n",
       "    <tr style=\"text-align: right;\">\n",
       "      <th></th>\n",
       "      <th>accuracy</th>\n",
       "      <th>TP</th>\n",
       "      <th>TN</th>\n",
       "      <th>FP</th>\n",
       "      <th>FN</th>\n",
       "      <th>FPR</th>\n",
       "      <th>FNR</th>\n",
       "    </tr>\n",
       "    <tr>\n",
       "      <th>index</th>\n",
       "      <th></th>\n",
       "      <th></th>\n",
       "      <th></th>\n",
       "      <th></th>\n",
       "      <th></th>\n",
       "      <th></th>\n",
       "      <th></th>\n",
       "    </tr>\n",
       "  </thead>\n",
       "  <tbody>\n",
       "    <tr>\n",
       "      <th>KNeighborsClassifier</th>\n",
       "      <td>0.905354</td>\n",
       "      <td>1509.0</td>\n",
       "      <td>31703.0</td>\n",
       "      <td>150.0</td>\n",
       "      <td>3322.0</td>\n",
       "      <td>0.004709</td>\n",
       "      <td>0.687642</td>\n",
       "    </tr>\n",
       "    <tr>\n",
       "      <th>LogisticRegression</th>\n",
       "      <td>0.884255</td>\n",
       "      <td>3312.0</td>\n",
       "      <td>29126.0</td>\n",
       "      <td>2727.0</td>\n",
       "      <td>1519.0</td>\n",
       "      <td>0.085612</td>\n",
       "      <td>0.314428</td>\n",
       "    </tr>\n",
       "    <tr>\n",
       "      <th>RandomForestClassifier</th>\n",
       "      <td>0.919774</td>\n",
       "      <td>4363.0</td>\n",
       "      <td>29378.0</td>\n",
       "      <td>2475.0</td>\n",
       "      <td>468.0</td>\n",
       "      <td>0.077701</td>\n",
       "      <td>0.096874</td>\n",
       "    </tr>\n",
       "    <tr>\n",
       "      <th>AdaBoostClassifier</th>\n",
       "      <td>0.894804</td>\n",
       "      <td>3561.0</td>\n",
       "      <td>29264.0</td>\n",
       "      <td>2589.0</td>\n",
       "      <td>1270.0</td>\n",
       "      <td>0.081280</td>\n",
       "      <td>0.262886</td>\n",
       "    </tr>\n",
       "    <tr>\n",
       "      <th>GradientBoostingClassifier</th>\n",
       "      <td>0.907044</td>\n",
       "      <td>3926.0</td>\n",
       "      <td>29348.0</td>\n",
       "      <td>2505.0</td>\n",
       "      <td>905.0</td>\n",
       "      <td>0.078643</td>\n",
       "      <td>0.187332</td>\n",
       "    </tr>\n",
       "    <tr>\n",
       "      <th>ExtraTreeClassifier</th>\n",
       "      <td>0.921056</td>\n",
       "      <td>4389.0</td>\n",
       "      <td>29399.0</td>\n",
       "      <td>2454.0</td>\n",
       "      <td>442.0</td>\n",
       "      <td>0.077041</td>\n",
       "      <td>0.091492</td>\n",
       "    </tr>\n",
       "    <tr>\n",
       "      <th>BaggingClassifier</th>\n",
       "      <td>0.919420</td>\n",
       "      <td>4356.0</td>\n",
       "      <td>29372.0</td>\n",
       "      <td>2481.0</td>\n",
       "      <td>475.0</td>\n",
       "      <td>0.077889</td>\n",
       "      <td>0.098323</td>\n",
       "    </tr>\n",
       "    <tr>\n",
       "      <th>Neural Network-1</th>\n",
       "      <td>0.906035</td>\n",
       "      <td>4096.0</td>\n",
       "      <td>29141.0</td>\n",
       "      <td>2712.0</td>\n",
       "      <td>735.0</td>\n",
       "      <td>0.085141</td>\n",
       "      <td>0.152142</td>\n",
       "    </tr>\n",
       "  </tbody>\n",
       "</table>\n",
       "</div>"
      ],
      "text/plain": [
       "                            accuracy      TP       TN      FP      FN  \\\n",
       "index                                                                   \n",
       "KNeighborsClassifier        0.905354  1509.0  31703.0   150.0  3322.0   \n",
       "LogisticRegression          0.884255  3312.0  29126.0  2727.0  1519.0   \n",
       "RandomForestClassifier      0.919774  4363.0  29378.0  2475.0   468.0   \n",
       "AdaBoostClassifier          0.894804  3561.0  29264.0  2589.0  1270.0   \n",
       "GradientBoostingClassifier  0.907044  3926.0  29348.0  2505.0   905.0   \n",
       "ExtraTreeClassifier         0.921056  4389.0  29399.0  2454.0   442.0   \n",
       "BaggingClassifier           0.919420  4356.0  29372.0  2481.0   475.0   \n",
       "Neural Network-1            0.906035  4096.0  29141.0  2712.0   735.0   \n",
       "\n",
       "                                 FPR       FNR  \n",
       "index                                           \n",
       "KNeighborsClassifier        0.004709  0.687642  \n",
       "LogisticRegression          0.085612  0.314428  \n",
       "RandomForestClassifier      0.077701  0.096874  \n",
       "AdaBoostClassifier          0.081280  0.262886  \n",
       "GradientBoostingClassifier  0.078643  0.187332  \n",
       "ExtraTreeClassifier         0.077041  0.091492  \n",
       "BaggingClassifier           0.077889  0.098323  \n",
       "Neural Network-1            0.085141  0.152142  "
      ]
     },
     "metadata": {},
     "output_type": "display_data"
    },
    {
     "name": "stdout",
     "output_type": "stream",
     "text": [
      "Test Results\n"
     ]
    },
    {
     "data": {
      "text/html": [
       "<div>\n",
       "<style scoped>\n",
       "    .dataframe tbody tr th:only-of-type {\n",
       "        vertical-align: middle;\n",
       "    }\n",
       "\n",
       "    .dataframe tbody tr th {\n",
       "        vertical-align: top;\n",
       "    }\n",
       "\n",
       "    .dataframe thead th {\n",
       "        text-align: right;\n",
       "    }\n",
       "</style>\n",
       "<table border=\"1\" class=\"dataframe\">\n",
       "  <thead>\n",
       "    <tr style=\"text-align: right;\">\n",
       "      <th></th>\n",
       "      <th>accuracy</th>\n",
       "      <th>TP</th>\n",
       "      <th>TN</th>\n",
       "      <th>FP</th>\n",
       "      <th>FN</th>\n",
       "      <th>FPR</th>\n",
       "      <th>FNR</th>\n",
       "      <th>auc</th>\n",
       "      <th>MCC</th>\n",
       "    </tr>\n",
       "    <tr>\n",
       "      <th>index</th>\n",
       "      <th></th>\n",
       "      <th></th>\n",
       "      <th></th>\n",
       "      <th></th>\n",
       "      <th></th>\n",
       "      <th></th>\n",
       "      <th></th>\n",
       "      <th></th>\n",
       "      <th></th>\n",
       "    </tr>\n",
       "  </thead>\n",
       "  <tbody>\n",
       "    <tr>\n",
       "      <th>KNeighborsClassifier</th>\n",
       "      <td>0.904710</td>\n",
       "      <td>365.0</td>\n",
       "      <td>7933.0</td>\n",
       "      <td>49.0</td>\n",
       "      <td>825.0</td>\n",
       "      <td>0.006139</td>\n",
       "      <td>0.693277</td>\n",
       "      <td>0.650292</td>\n",
       "      <td>0.486511</td>\n",
       "    </tr>\n",
       "    <tr>\n",
       "      <th>LogisticRegression</th>\n",
       "      <td>0.883995</td>\n",
       "      <td>797.0</td>\n",
       "      <td>7311.0</td>\n",
       "      <td>671.0</td>\n",
       "      <td>393.0</td>\n",
       "      <td>0.084064</td>\n",
       "      <td>0.330252</td>\n",
       "      <td>0.792842</td>\n",
       "      <td>0.536749</td>\n",
       "    </tr>\n",
       "    <tr>\n",
       "      <th>RandomForestClassifier</th>\n",
       "      <td>0.909616</td>\n",
       "      <td>1015.0</td>\n",
       "      <td>7328.0</td>\n",
       "      <td>654.0</td>\n",
       "      <td>175.0</td>\n",
       "      <td>0.081934</td>\n",
       "      <td>0.147059</td>\n",
       "      <td>0.885503</td>\n",
       "      <td>0.671494</td>\n",
       "    </tr>\n",
       "    <tr>\n",
       "      <th>AdaBoostClassifier</th>\n",
       "      <td>0.895443</td>\n",
       "      <td>876.0</td>\n",
       "      <td>7337.0</td>\n",
       "      <td>645.0</td>\n",
       "      <td>314.0</td>\n",
       "      <td>0.080807</td>\n",
       "      <td>0.263866</td>\n",
       "      <td>0.827664</td>\n",
       "      <td>0.592058</td>\n",
       "    </tr>\n",
       "    <tr>\n",
       "      <th>GradientBoostingClassifier</th>\n",
       "      <td>0.905146</td>\n",
       "      <td>954.0</td>\n",
       "      <td>7348.0</td>\n",
       "      <td>634.0</td>\n",
       "      <td>236.0</td>\n",
       "      <td>0.079429</td>\n",
       "      <td>0.198319</td>\n",
       "      <td>0.861126</td>\n",
       "      <td>0.641422</td>\n",
       "    </tr>\n",
       "    <tr>\n",
       "      <th>ExtraTreeClassifier</th>\n",
       "      <td>0.908635</td>\n",
       "      <td>1019.0</td>\n",
       "      <td>7315.0</td>\n",
       "      <td>667.0</td>\n",
       "      <td>171.0</td>\n",
       "      <td>0.083563</td>\n",
       "      <td>0.143697</td>\n",
       "      <td>0.886370</td>\n",
       "      <td>0.670361</td>\n",
       "    </tr>\n",
       "    <tr>\n",
       "      <th>BaggingClassifier</th>\n",
       "      <td>0.910597</td>\n",
       "      <td>1018.0</td>\n",
       "      <td>7334.0</td>\n",
       "      <td>648.0</td>\n",
       "      <td>172.0</td>\n",
       "      <td>0.081183</td>\n",
       "      <td>0.144538</td>\n",
       "      <td>0.887140</td>\n",
       "      <td>0.674816</td>\n",
       "    </tr>\n",
       "    <tr>\n",
       "      <th>Neural Network-1</th>\n",
       "      <td>0.904056</td>\n",
       "      <td>981.0</td>\n",
       "      <td>7311.0</td>\n",
       "      <td>671.0</td>\n",
       "      <td>209.0</td>\n",
       "      <td>0.084064</td>\n",
       "      <td>0.175630</td>\n",
       "      <td>0.887140</td>\n",
       "      <td>0.647331</td>\n",
       "    </tr>\n",
       "  </tbody>\n",
       "</table>\n",
       "</div>"
      ],
      "text/plain": [
       "                            accuracy      TP      TN     FP     FN       FPR  \\\n",
       "index                                                                          \n",
       "KNeighborsClassifier        0.904710   365.0  7933.0   49.0  825.0  0.006139   \n",
       "LogisticRegression          0.883995   797.0  7311.0  671.0  393.0  0.084064   \n",
       "RandomForestClassifier      0.909616  1015.0  7328.0  654.0  175.0  0.081934   \n",
       "AdaBoostClassifier          0.895443   876.0  7337.0  645.0  314.0  0.080807   \n",
       "GradientBoostingClassifier  0.905146   954.0  7348.0  634.0  236.0  0.079429   \n",
       "ExtraTreeClassifier         0.908635  1019.0  7315.0  667.0  171.0  0.083563   \n",
       "BaggingClassifier           0.910597  1018.0  7334.0  648.0  172.0  0.081183   \n",
       "Neural Network-1            0.904056   981.0  7311.0  671.0  209.0  0.084064   \n",
       "\n",
       "                                 FNR       auc       MCC  \n",
       "index                                                     \n",
       "KNeighborsClassifier        0.693277  0.650292  0.486511  \n",
       "LogisticRegression          0.330252  0.792842  0.536749  \n",
       "RandomForestClassifier      0.147059  0.885503  0.671494  \n",
       "AdaBoostClassifier          0.263866  0.827664  0.592058  \n",
       "GradientBoostingClassifier  0.198319  0.861126  0.641422  \n",
       "ExtraTreeClassifier         0.143697  0.886370  0.670361  \n",
       "BaggingClassifier           0.144538  0.887140  0.674816  \n",
       "Neural Network-1            0.175630  0.887140  0.647331  "
      ]
     },
     "metadata": {},
     "output_type": "display_data"
    }
   ],
   "source": [
    "table_80_50_train['index']=ind_columns\n",
    "table_80_50_test['index']=ind_columns\n",
    "\n",
    "\n",
    "table_80_50_test.set_index(['index'],drop=True,inplace=True)\n",
    "table_80_50_train.set_index(['index'],drop=True,inplace=True)\n",
    "\n",
    "print(\"Training Results\")\n",
    "display(table_80_50_train)\n",
    "print(\"Test Results\")\n",
    "display(table_80_50_test)"
   ]
  },
  {
   "cell_type": "markdown",
   "metadata": {},
   "source": [
    "### <a id='1.B' style=\"text-decoration : none; color : #000000;\"> B. Average Feature Importances</a>"
   ]
  },
  {
   "cell_type": "code",
   "execution_count": 27,
   "metadata": {},
   "outputs": [
    {
     "data": {
      "application/vnd.plotly.v1+json": {
       "config": {
        "linkText": "Export to plot.ly",
        "plotlyServerURL": "https://plot.ly",
        "showLink": true
       },
       "data": [
        {
         "marker": {
          "color": "rgb(158,202,225)",
          "line": {
           "color": "rgb(8,48,107)",
           "width": 1.5
          }
         },
         "opacity": 0.6,
         "orientation": "h",
         "text": [
          0.3313,
          0.207,
          0.0808,
          0.0746,
          0.0487,
          0.0408,
          0.0263,
          0.025,
          0.0219,
          0.0213,
          0.0202,
          0.0136,
          0.0135,
          0.0132,
          0.0129,
          0.0122,
          0.0094,
          0.0089,
          0.0074,
          0.0052,
          0.0041,
          0.0017
         ],
         "textposition": "outside",
         "type": "bar",
         "uid": "11632a9c-7f9d-487c-b015-ea6cf801ae62",
         "x": [
          0.33125304346608914,
          0.20700108269716277,
          0.08076093459142297,
          0.0745803191277447,
          0.04868395011241965,
          0.04081588890466506,
          0.026306614184471458,
          0.024965536523088555,
          0.0218936304196854,
          0.02132256594991716,
          0.020226154544298144,
          0.013601821119151916,
          0.01349288494435534,
          0.013236502187189822,
          0.012921843408963695,
          0.012244417667687807,
          0.009438748862022794,
          0.008888234821064303,
          0.007408383190947856,
          0.005167675772806171,
          0.004109965506537812,
          0.0016798019983075396
         ],
         "y": [
          "http_header_content-length",
          "http_header_content-encoding_gzip",
          "http_header_transfer-encoding_chunked",
          "http_header_content-language_text/html",
          "http_header_vary_accept",
          "http_header_server_apache",
          "http_header_cache-control_set_max-age",
          "http_header_connection_keep-alive",
          "http_header_cache-control_set_no-store",
          "http_header_pragmano-cache",
          "http_header_server_nginx",
          "http_header_cache-control_set_private",
          "http_header_expect-ctmax-age",
          "http_header_x-cintent-type-options_nosniff",
          "http_header_connection_close",
          "http_header_cache-control_set_must-revalidate",
          "http_header_via_1.1",
          "http_header_vary_age",
          "http_header_cache-control_set_no-cache",
          "http_header_strict-transport-security_max-age",
          "http_header_x-xss-enabled",
          "http_header_cache-control_set_public"
         ]
        }
       ],
       "layout": {
        "autosize": false,
        "height": 1000,
        "width": 1000,
        "xaxis": {
         "tickfont": {
          "color": "black",
          "size": 12
         },
         "title": "Feature Importances"
        },
        "yaxis": {
         "automargin": true
        }
       }
      },
      "text/html": [
       "<div id=\"233ec9b1-0ab3-4de8-b9aa-44abce05f4c6\" style=\"height: 1000px; width: 1000px;\" class=\"plotly-graph-div\"></div><script type=\"text/javascript\">require([\"plotly\"], function(Plotly) { window.PLOTLYENV=window.PLOTLYENV || {};window.PLOTLYENV.BASE_URL=\"https://plot.ly\";Plotly.newPlot(\"233ec9b1-0ab3-4de8-b9aa-44abce05f4c6\", [{\"marker\": {\"color\": \"rgb(158,202,225)\", \"line\": {\"color\": \"rgb(8,48,107)\", \"width\": 1.5}}, \"opacity\": 0.6, \"orientation\": \"h\", \"text\": [0.3313, 0.207, 0.0808, 0.0746, 0.0487, 0.0408, 0.0263, 0.025, 0.0219, 0.0213, 0.0202, 0.0136, 0.0135, 0.0132, 0.0129, 0.0122, 0.0094, 0.0089, 0.0074, 0.0052, 0.0041, 0.0017], \"textposition\": \"outside\", \"x\": [0.33125304346608914, 0.20700108269716277, 0.08076093459142297, 0.0745803191277447, 0.04868395011241965, 0.04081588890466506, 0.026306614184471458, 0.024965536523088555, 0.0218936304196854, 0.02132256594991716, 0.020226154544298144, 0.013601821119151916, 0.01349288494435534, 0.013236502187189822, 0.012921843408963695, 0.012244417667687807, 0.009438748862022794, 0.008888234821064303, 0.007408383190947856, 0.005167675772806171, 0.004109965506537812, 0.0016798019983075396], \"y\": [\"http_header_content-length\", \"http_header_content-encoding_gzip\", \"http_header_transfer-encoding_chunked\", \"http_header_content-language_text/html\", \"http_header_vary_accept\", \"http_header_server_apache\", \"http_header_cache-control_set_max-age\", \"http_header_connection_keep-alive\", \"http_header_cache-control_set_no-store\", \"http_header_pragmano-cache\", \"http_header_server_nginx\", \"http_header_cache-control_set_private\", \"http_header_expect-ctmax-age\", \"http_header_x-cintent-type-options_nosniff\", \"http_header_connection_close\", \"http_header_cache-control_set_must-revalidate\", \"http_header_via_1.1\", \"http_header_vary_age\", \"http_header_cache-control_set_no-cache\", \"http_header_strict-transport-security_max-age\", \"http_header_x-xss-enabled\", \"http_header_cache-control_set_public\"], \"type\": \"bar\", \"uid\": \"11632a9c-7f9d-487c-b015-ea6cf801ae62\"}], {\"autosize\": false, \"height\": 1000, \"width\": 1000, \"xaxis\": {\"tickfont\": {\"color\": \"black\", \"size\": 12}, \"title\": \"Feature Importances\"}, \"yaxis\": {\"automargin\": true}}, {\"showLink\": true, \"linkText\": \"Export to plot.ly\", \"plotlyServerURL\": \"https://plot.ly\"})});</script>"
      ],
      "text/vnd.plotly.v1+html": [
       "<div id=\"233ec9b1-0ab3-4de8-b9aa-44abce05f4c6\" style=\"height: 1000px; width: 1000px;\" class=\"plotly-graph-div\"></div><script type=\"text/javascript\">require([\"plotly\"], function(Plotly) { window.PLOTLYENV=window.PLOTLYENV || {};window.PLOTLYENV.BASE_URL=\"https://plot.ly\";Plotly.newPlot(\"233ec9b1-0ab3-4de8-b9aa-44abce05f4c6\", [{\"marker\": {\"color\": \"rgb(158,202,225)\", \"line\": {\"color\": \"rgb(8,48,107)\", \"width\": 1.5}}, \"opacity\": 0.6, \"orientation\": \"h\", \"text\": [0.3313, 0.207, 0.0808, 0.0746, 0.0487, 0.0408, 0.0263, 0.025, 0.0219, 0.0213, 0.0202, 0.0136, 0.0135, 0.0132, 0.0129, 0.0122, 0.0094, 0.0089, 0.0074, 0.0052, 0.0041, 0.0017], \"textposition\": \"outside\", \"x\": [0.33125304346608914, 0.20700108269716277, 0.08076093459142297, 0.0745803191277447, 0.04868395011241965, 0.04081588890466506, 0.026306614184471458, 0.024965536523088555, 0.0218936304196854, 0.02132256594991716, 0.020226154544298144, 0.013601821119151916, 0.01349288494435534, 0.013236502187189822, 0.012921843408963695, 0.012244417667687807, 0.009438748862022794, 0.008888234821064303, 0.007408383190947856, 0.005167675772806171, 0.004109965506537812, 0.0016798019983075396], \"y\": [\"http_header_content-length\", \"http_header_content-encoding_gzip\", \"http_header_transfer-encoding_chunked\", \"http_header_content-language_text/html\", \"http_header_vary_accept\", \"http_header_server_apache\", \"http_header_cache-control_set_max-age\", \"http_header_connection_keep-alive\", \"http_header_cache-control_set_no-store\", \"http_header_pragmano-cache\", \"http_header_server_nginx\", \"http_header_cache-control_set_private\", \"http_header_expect-ctmax-age\", \"http_header_x-cintent-type-options_nosniff\", \"http_header_connection_close\", \"http_header_cache-control_set_must-revalidate\", \"http_header_via_1.1\", \"http_header_vary_age\", \"http_header_cache-control_set_no-cache\", \"http_header_strict-transport-security_max-age\", \"http_header_x-xss-enabled\", \"http_header_cache-control_set_public\"], \"type\": \"bar\", \"uid\": \"11632a9c-7f9d-487c-b015-ea6cf801ae62\"}], {\"autosize\": false, \"height\": 1000, \"width\": 1000, \"xaxis\": {\"tickfont\": {\"color\": \"black\", \"size\": 12}, \"title\": \"Feature Importances\"}, \"yaxis\": {\"automargin\": true}}, {\"showLink\": true, \"linkText\": \"Export to plot.ly\", \"plotlyServerURL\": \"https://plot.ly\"})});</script>"
      ]
     },
     "metadata": {},
     "output_type": "display_data"
    }
   ],
   "source": [
    "feat_impt_plot(np.average(feat_imp,axis=0),columns[:-2])"
   ]
  },
  {
   "cell_type": "markdown",
   "metadata": {},
   "source": [
    "### <a id='2' style=\"text-decoration : none; color : #000000;\"> 2. OverSampling </a>"
   ]
  },
  {
   "cell_type": "code",
   "execution_count": 31,
   "metadata": {
    "collapsed": true
   },
   "outputs": [],
   "source": [
    "sm = SMOTE(random_state=12, ratio = 1.0)\n",
    "X_train, Y_train = sm.fit_sample(scaled_X_train,train_Y)"
   ]
  },
  {
   "cell_type": "code",
   "execution_count": 32,
   "metadata": {
    "collapsed": true
   },
   "outputs": [],
   "source": [
    "## Table to store training and test measures so we can compare later\n",
    "table_80_80_train=pd.DataFrame(columns=['accuracy','TP','TN','FP','FN','FPR','FNR'])\n",
    "table_80_80_test=pd.DataFrame(columns=['accuracy','TP','TN','FP','FN','FPR','FNR','auc','mcc'])"
   ]
  },
  {
   "cell_type": "code",
   "execution_count": 34,
   "metadata": {
    "scrolled": false
   },
   "outputs": [
    {
     "name": "stdout",
     "output_type": "stream",
     "text": [
      "\u001b[1mK-Nearest Neighbors\u001b[0m\n",
      "Accuracy of the model for training data is: 0.911876432361\n",
      "Confusion Matrix for training data is:\n"
     ]
    },
    {
     "data": {
      "text/plain": [
       "Predicted  False   True  __all__\n",
       "Actual                          \n",
       "False      28909   2944    31853\n",
       "True        2670  29183    31853\n",
       "__all__    31579  32127    63706"
      ]
     },
     "metadata": {},
     "output_type": "display_data"
    },
    {
     "name": "stdout",
     "output_type": "stream",
     "text": [
      "Accuracy of the model for test data is: 0.898822503271\n",
      "Confusion Matrix for test data is:\n"
     ]
    },
    {
     "data": {
      "text/plain": [
       "Predicted  False  True  __all__\n",
       "Actual                         \n",
       "False       7203   779     7982\n",
       "True         149  1041     1190\n",
       "__all__     7352  1820     9172"
      ]
     },
     "metadata": {},
     "output_type": "display_data"
    },
    {
     "name": "stdout",
     "output_type": "stream",
     "text": [
      "\n",
      "\n",
      "\u001b[1mLogistic Regression\u001b[0m\n",
      "Accuracy of the model for training data is: 0.867108278655\n",
      "Confusion Matrix for training data is:\n"
     ]
    },
    {
     "data": {
      "text/plain": [
       "Predicted  False   True  __all__\n",
       "Actual                          \n",
       "False      26423   5430    31853\n",
       "True        3036  28817    31853\n",
       "__all__    29459  34247    63706"
      ]
     },
     "metadata": {},
     "output_type": "display_data"
    },
    {
     "name": "stdout",
     "output_type": "stream",
     "text": [
      "Accuracy of the model for test data is: 0.843109463585\n",
      "Confusion Matrix for test data is:\n"
     ]
    },
    {
     "data": {
      "text/plain": [
       "Predicted  False  True  __all__\n",
       "Actual                         \n",
       "False       6669  1313     7982\n",
       "True         126  1064     1190\n",
       "__all__     6795  2377     9172"
      ]
     },
     "metadata": {},
     "output_type": "display_data"
    },
    {
     "name": "stdout",
     "output_type": "stream",
     "text": [
      "\n",
      "\n",
      "\u001b[1mRandomForest Classifier\u001b[0m\n",
      "Accuracy of the model for training data is: 0.932612312812\n",
      "Confusion Matrix for training data is:\n"
     ]
    },
    {
     "data": {
      "text/plain": [
       "Predicted  False   True  __all__\n",
       "Actual                          \n",
       "False      28509   3344    31853\n",
       "True         949  30904    31853\n",
       "__all__    29458  34248    63706"
      ]
     },
     "metadata": {},
     "output_type": "display_data"
    },
    {
     "name": "stdout",
     "output_type": "stream",
     "text": [
      "Accuracy of the model for test data is: 0.887047535979\n",
      "Confusion Matrix for test data is:\n"
     ]
    },
    {
     "data": {
      "text/plain": [
       "Predicted  False  True  __all__\n",
       "Actual                         \n",
       "False       7051   931     7982\n",
       "True         105  1085     1190\n",
       "__all__     7156  2016     9172"
      ]
     },
     "metadata": {},
     "output_type": "display_data"
    },
    {
     "data": {
      "application/vnd.plotly.v1+json": {
       "config": {
        "linkText": "Export to plot.ly",
        "plotlyServerURL": "https://plot.ly",
        "showLink": true
       },
       "data": [
        {
         "marker": {
          "color": "rgb(158,202,225)",
          "line": {
           "color": "rgb(8,48,107)",
           "width": 1.5
          }
         },
         "opacity": 0.6,
         "orientation": "h",
         "text": [
          0.2634,
          0.1817,
          0.1455,
          0.0902,
          0.0528,
          0.0354,
          0.0344,
          0.0199,
          0.0179,
          0.0176,
          0.0171,
          0.0158,
          0.0152,
          0.0134,
          0.0133,
          0.0126,
          0.011,
          0.0108,
          0.0103,
          0.0092,
          0.0086,
          0.004
         ],
         "textposition": "outside",
         "type": "bar",
         "uid": "a1fd2739-74d8-439a-b201-aa6082f5dced",
         "x": [
          0.2633987435979453,
          0.18171215264911939,
          0.1454863353081395,
          0.09021552123583958,
          0.05276207470383839,
          0.03539466517584541,
          0.03440466275911182,
          0.01993103755367915,
          0.017886266560218297,
          0.017553850631988145,
          0.017148370453457257,
          0.015805777640398068,
          0.015176223303746605,
          0.013419723606901274,
          0.013349007449212424,
          0.012619060067669451,
          0.01096725880571096,
          0.010766991084243857,
          0.010284189631895474,
          0.00917856659203567,
          0.008579611303026691,
          0.0039599098859772735
         ],
         "y": [
          "http_header_content-encoding_gzip",
          "http_header_content-length",
          "http_header_vary_accept",
          "http_header_transfer-encoding_chunked",
          "http_header_cache-control_set_max-age",
          "http_header_server_apache",
          "http_header_server_nginx",
          "http_header_content-language_text/html",
          "http_header_cache-control_set_must-revalidate",
          "http_header_connection_keep-alive",
          "http_header_cache-control_set_no-cache",
          "http_header_expect-ctmax-age",
          "http_header_pragmano-cache",
          "http_header_x-xss-enabled",
          "http_header_strict-transport-security_max-age",
          "http_header_cache-control_set_private",
          "http_header_cache-control_set_no-store",
          "http_header_via_1.1",
          "http_header_vary_age",
          "http_header_x-cintent-type-options_nosniff",
          "http_header_connection_close",
          "http_header_cache-control_set_public"
         ]
        }
       ],
       "layout": {
        "autosize": false,
        "height": 1000,
        "width": 1000,
        "xaxis": {
         "tickfont": {
          "color": "black",
          "size": 12
         },
         "title": "Feature Importances"
        },
        "yaxis": {
         "automargin": true
        }
       }
      },
      "text/html": [
       "<div id=\"70614362-d9f5-4592-8550-7dcf90ef18af\" style=\"height: 1000px; width: 1000px;\" class=\"plotly-graph-div\"></div><script type=\"text/javascript\">require([\"plotly\"], function(Plotly) { window.PLOTLYENV=window.PLOTLYENV || {};window.PLOTLYENV.BASE_URL=\"https://plot.ly\";Plotly.newPlot(\"70614362-d9f5-4592-8550-7dcf90ef18af\", [{\"marker\": {\"color\": \"rgb(158,202,225)\", \"line\": {\"color\": \"rgb(8,48,107)\", \"width\": 1.5}}, \"opacity\": 0.6, \"orientation\": \"h\", \"text\": [0.2634, 0.1817, 0.1455, 0.0902, 0.0528, 0.0354, 0.0344, 0.0199, 0.0179, 0.0176, 0.0171, 0.0158, 0.0152, 0.0134, 0.0133, 0.0126, 0.011, 0.0108, 0.0103, 0.0092, 0.0086, 0.004], \"textposition\": \"outside\", \"x\": [0.2633987435979453, 0.18171215264911939, 0.1454863353081395, 0.09021552123583958, 0.05276207470383839, 0.03539466517584541, 0.03440466275911182, 0.01993103755367915, 0.017886266560218297, 0.017553850631988145, 0.017148370453457257, 0.015805777640398068, 0.015176223303746605, 0.013419723606901274, 0.013349007449212424, 0.012619060067669451, 0.01096725880571096, 0.010766991084243857, 0.010284189631895474, 0.00917856659203567, 0.008579611303026691, 0.0039599098859772735], \"y\": [\"http_header_content-encoding_gzip\", \"http_header_content-length\", \"http_header_vary_accept\", \"http_header_transfer-encoding_chunked\", \"http_header_cache-control_set_max-age\", \"http_header_server_apache\", \"http_header_server_nginx\", \"http_header_content-language_text/html\", \"http_header_cache-control_set_must-revalidate\", \"http_header_connection_keep-alive\", \"http_header_cache-control_set_no-cache\", \"http_header_expect-ctmax-age\", \"http_header_pragmano-cache\", \"http_header_x-xss-enabled\", \"http_header_strict-transport-security_max-age\", \"http_header_cache-control_set_private\", \"http_header_cache-control_set_no-store\", \"http_header_via_1.1\", \"http_header_vary_age\", \"http_header_x-cintent-type-options_nosniff\", \"http_header_connection_close\", \"http_header_cache-control_set_public\"], \"type\": \"bar\", \"uid\": \"a1fd2739-74d8-439a-b201-aa6082f5dced\"}], {\"autosize\": false, \"height\": 1000, \"width\": 1000, \"xaxis\": {\"tickfont\": {\"color\": \"black\", \"size\": 12}, \"title\": \"Feature Importances\"}, \"yaxis\": {\"automargin\": true}}, {\"showLink\": true, \"linkText\": \"Export to plot.ly\", \"plotlyServerURL\": \"https://plot.ly\"})});</script>"
      ],
      "text/vnd.plotly.v1+html": [
       "<div id=\"70614362-d9f5-4592-8550-7dcf90ef18af\" style=\"height: 1000px; width: 1000px;\" class=\"plotly-graph-div\"></div><script type=\"text/javascript\">require([\"plotly\"], function(Plotly) { window.PLOTLYENV=window.PLOTLYENV || {};window.PLOTLYENV.BASE_URL=\"https://plot.ly\";Plotly.newPlot(\"70614362-d9f5-4592-8550-7dcf90ef18af\", [{\"marker\": {\"color\": \"rgb(158,202,225)\", \"line\": {\"color\": \"rgb(8,48,107)\", \"width\": 1.5}}, \"opacity\": 0.6, \"orientation\": \"h\", \"text\": [0.2634, 0.1817, 0.1455, 0.0902, 0.0528, 0.0354, 0.0344, 0.0199, 0.0179, 0.0176, 0.0171, 0.0158, 0.0152, 0.0134, 0.0133, 0.0126, 0.011, 0.0108, 0.0103, 0.0092, 0.0086, 0.004], \"textposition\": \"outside\", \"x\": [0.2633987435979453, 0.18171215264911939, 0.1454863353081395, 0.09021552123583958, 0.05276207470383839, 0.03539466517584541, 0.03440466275911182, 0.01993103755367915, 0.017886266560218297, 0.017553850631988145, 0.017148370453457257, 0.015805777640398068, 0.015176223303746605, 0.013419723606901274, 0.013349007449212424, 0.012619060067669451, 0.01096725880571096, 0.010766991084243857, 0.010284189631895474, 0.00917856659203567, 0.008579611303026691, 0.0039599098859772735], \"y\": [\"http_header_content-encoding_gzip\", \"http_header_content-length\", \"http_header_vary_accept\", \"http_header_transfer-encoding_chunked\", \"http_header_cache-control_set_max-age\", \"http_header_server_apache\", \"http_header_server_nginx\", \"http_header_content-language_text/html\", \"http_header_cache-control_set_must-revalidate\", \"http_header_connection_keep-alive\", \"http_header_cache-control_set_no-cache\", \"http_header_expect-ctmax-age\", \"http_header_pragmano-cache\", \"http_header_x-xss-enabled\", \"http_header_strict-transport-security_max-age\", \"http_header_cache-control_set_private\", \"http_header_cache-control_set_no-store\", \"http_header_via_1.1\", \"http_header_vary_age\", \"http_header_x-cintent-type-options_nosniff\", \"http_header_connection_close\", \"http_header_cache-control_set_public\"], \"type\": \"bar\", \"uid\": \"a1fd2739-74d8-439a-b201-aa6082f5dced\"}], {\"autosize\": false, \"height\": 1000, \"width\": 1000, \"xaxis\": {\"tickfont\": {\"color\": \"black\", \"size\": 12}, \"title\": \"Feature Importances\"}, \"yaxis\": {\"automargin\": true}}, {\"showLink\": true, \"linkText\": \"Export to plot.ly\", \"plotlyServerURL\": \"https://plot.ly\"})});</script>"
      ]
     },
     "metadata": {},
     "output_type": "display_data"
    },
    {
     "name": "stdout",
     "output_type": "stream",
     "text": [
      "\n",
      "\n",
      "\u001b[1mAdaoost Classifier\u001b[0m\n",
      "Accuracy of the model for training data is: 0.873732458481\n",
      "Confusion Matrix for training data is:\n"
     ]
    },
    {
     "data": {
      "text/plain": [
       "Predicted  False   True  __all__\n",
       "Actual                          \n",
       "False      26814   5039    31853\n",
       "True        3005  28848    31853\n",
       "__all__    29819  33887    63706"
      ]
     },
     "metadata": {},
     "output_type": "display_data"
    },
    {
     "name": "stdout",
     "output_type": "stream",
     "text": [
      "Accuracy of the model for test data is: 0.849978194505\n",
      "Confusion Matrix for test data is:\n"
     ]
    },
    {
     "data": {
      "text/plain": [
       "Predicted  False  True  __all__\n",
       "Actual                         \n",
       "False       6743  1239     7982\n",
       "True         137  1053     1190\n",
       "__all__     6880  2292     9172"
      ]
     },
     "metadata": {},
     "output_type": "display_data"
    },
    {
     "data": {
      "application/vnd.plotly.v1+json": {
       "config": {
        "linkText": "Export to plot.ly",
        "plotlyServerURL": "https://plot.ly",
        "showLink": true
       },
       "data": [
        {
         "marker": {
          "color": "rgb(158,202,225)",
          "line": {
           "color": "rgb(8,48,107)",
           "width": 1.5
          }
         },
         "opacity": 0.6,
         "orientation": "h",
         "text": [
          0.38,
          0.12,
          0.08,
          0.04,
          0.04,
          0.04,
          0.04,
          0.04,
          0.04,
          0.04,
          0.04,
          0.02,
          0.02,
          0.02,
          0.02,
          0.02,
          0,
          0,
          0,
          0,
          0,
          0
         ],
         "textposition": "outside",
         "type": "bar",
         "uid": "26de9e32-6b52-4e3f-9747-e6e207dd5c16",
         "x": [
          0.38,
          0.12,
          0.08,
          0.04,
          0.04,
          0.04,
          0.04,
          0.04,
          0.04,
          0.04,
          0.04,
          0.02,
          0.02,
          0.02,
          0.02,
          0.02,
          0,
          0,
          0,
          0,
          0,
          0
         ],
         "y": [
          "http_header_content-length",
          "http_header_content-encoding_gzip",
          "http_header_transfer-encoding_chunked",
          "http_header_cache-control_set_max-age",
          "http_header_via_1.1",
          "http_header_vary_accept",
          "http_header_strict-transport-security_max-age",
          "http_header_pragmano-cache",
          "http_header_expect-ctmax-age",
          "http_header_connection_keep-alive",
          "http_header_cache-control_set_no-store",
          "http_header_server_apache",
          "http_header_server_nginx",
          "http_header_cache-control_set_public",
          "http_header_cache-control_set_private",
          "http_header_x-cintent-type-options_nosniff",
          "http_header_content-language_text/html",
          "http_header_cache-control_set_must-revalidate",
          "http_header_connection_close",
          "http_header_vary_age",
          "http_header_cache-control_set_no-cache",
          "http_header_x-xss-enabled"
         ]
        }
       ],
       "layout": {
        "autosize": false,
        "height": 1000,
        "width": 1000,
        "xaxis": {
         "tickfont": {
          "color": "black",
          "size": 12
         },
         "title": "Feature Importances"
        },
        "yaxis": {
         "automargin": true
        }
       }
      },
      "text/html": [
       "<div id=\"c654b76e-f5ca-4eda-acfb-54ec66b2cfa4\" style=\"height: 1000px; width: 1000px;\" class=\"plotly-graph-div\"></div><script type=\"text/javascript\">require([\"plotly\"], function(Plotly) { window.PLOTLYENV=window.PLOTLYENV || {};window.PLOTLYENV.BASE_URL=\"https://plot.ly\";Plotly.newPlot(\"c654b76e-f5ca-4eda-acfb-54ec66b2cfa4\", [{\"marker\": {\"color\": \"rgb(158,202,225)\", \"line\": {\"color\": \"rgb(8,48,107)\", \"width\": 1.5}}, \"opacity\": 0.6, \"orientation\": \"h\", \"text\": [0.38, 0.12, 0.08, 0.04, 0.04, 0.04, 0.04, 0.04, 0.04, 0.04, 0.04, 0.02, 0.02, 0.02, 0.02, 0.02, 0.0, 0.0, 0.0, 0.0, 0.0, 0.0], \"textposition\": \"outside\", \"x\": [0.38, 0.12, 0.08, 0.04, 0.04, 0.04, 0.04, 0.04, 0.04, 0.04, 0.04, 0.02, 0.02, 0.02, 0.02, 0.02, 0.0, 0.0, 0.0, 0.0, 0.0, 0.0], \"y\": [\"http_header_content-length\", \"http_header_content-encoding_gzip\", \"http_header_transfer-encoding_chunked\", \"http_header_cache-control_set_max-age\", \"http_header_via_1.1\", \"http_header_vary_accept\", \"http_header_strict-transport-security_max-age\", \"http_header_pragmano-cache\", \"http_header_expect-ctmax-age\", \"http_header_connection_keep-alive\", \"http_header_cache-control_set_no-store\", \"http_header_server_apache\", \"http_header_server_nginx\", \"http_header_cache-control_set_public\", \"http_header_cache-control_set_private\", \"http_header_x-cintent-type-options_nosniff\", \"http_header_content-language_text/html\", \"http_header_cache-control_set_must-revalidate\", \"http_header_connection_close\", \"http_header_vary_age\", \"http_header_cache-control_set_no-cache\", \"http_header_x-xss-enabled\"], \"type\": \"bar\", \"uid\": \"26de9e32-6b52-4e3f-9747-e6e207dd5c16\"}], {\"autosize\": false, \"height\": 1000, \"width\": 1000, \"xaxis\": {\"tickfont\": {\"color\": \"black\", \"size\": 12}, \"title\": \"Feature Importances\"}, \"yaxis\": {\"automargin\": true}}, {\"showLink\": true, \"linkText\": \"Export to plot.ly\", \"plotlyServerURL\": \"https://plot.ly\"})});</script>"
      ],
      "text/vnd.plotly.v1+html": [
       "<div id=\"c654b76e-f5ca-4eda-acfb-54ec66b2cfa4\" style=\"height: 1000px; width: 1000px;\" class=\"plotly-graph-div\"></div><script type=\"text/javascript\">require([\"plotly\"], function(Plotly) { window.PLOTLYENV=window.PLOTLYENV || {};window.PLOTLYENV.BASE_URL=\"https://plot.ly\";Plotly.newPlot(\"c654b76e-f5ca-4eda-acfb-54ec66b2cfa4\", [{\"marker\": {\"color\": \"rgb(158,202,225)\", \"line\": {\"color\": \"rgb(8,48,107)\", \"width\": 1.5}}, \"opacity\": 0.6, \"orientation\": \"h\", \"text\": [0.38, 0.12, 0.08, 0.04, 0.04, 0.04, 0.04, 0.04, 0.04, 0.04, 0.04, 0.02, 0.02, 0.02, 0.02, 0.02, 0.0, 0.0, 0.0, 0.0, 0.0, 0.0], \"textposition\": \"outside\", \"x\": [0.38, 0.12, 0.08, 0.04, 0.04, 0.04, 0.04, 0.04, 0.04, 0.04, 0.04, 0.02, 0.02, 0.02, 0.02, 0.02, 0.0, 0.0, 0.0, 0.0, 0.0, 0.0], \"y\": [\"http_header_content-length\", \"http_header_content-encoding_gzip\", \"http_header_transfer-encoding_chunked\", \"http_header_cache-control_set_max-age\", \"http_header_via_1.1\", \"http_header_vary_accept\", \"http_header_strict-transport-security_max-age\", \"http_header_pragmano-cache\", \"http_header_expect-ctmax-age\", \"http_header_connection_keep-alive\", \"http_header_cache-control_set_no-store\", \"http_header_server_apache\", \"http_header_server_nginx\", \"http_header_cache-control_set_public\", \"http_header_cache-control_set_private\", \"http_header_x-cintent-type-options_nosniff\", \"http_header_content-language_text/html\", \"http_header_cache-control_set_must-revalidate\", \"http_header_connection_close\", \"http_header_vary_age\", \"http_header_cache-control_set_no-cache\", \"http_header_x-xss-enabled\"], \"type\": \"bar\", \"uid\": \"26de9e32-6b52-4e3f-9747-e6e207dd5c16\"}], {\"autosize\": false, \"height\": 1000, \"width\": 1000, \"xaxis\": {\"tickfont\": {\"color\": \"black\", \"size\": 12}, \"title\": \"Feature Importances\"}, \"yaxis\": {\"automargin\": true}}, {\"showLink\": true, \"linkText\": \"Export to plot.ly\", \"plotlyServerURL\": \"https://plot.ly\"})});</script>"
      ]
     },
     "metadata": {},
     "output_type": "display_data"
    },
    {
     "name": "stdout",
     "output_type": "stream",
     "text": [
      "\n",
      "\n",
      "\u001b[1mGradientBoosting Classifier\u001b[0m\n",
      "Accuracy of the model for training data is: 0.89526889147\n",
      "Confusion Matrix for training data is:\n"
     ]
    },
    {
     "data": {
      "text/plain": [
       "Predicted  False   True  __all__\n",
       "Actual                          \n",
       "False      27919   3934    31853\n",
       "True        2738  29115    31853\n",
       "__all__    30657  33049    63706"
      ]
     },
     "metadata": {},
     "output_type": "display_data"
    },
    {
     "name": "stdout",
     "output_type": "stream",
     "text": [
      "Accuracy of the model for test data is: 0.879851722634\n",
      "Confusion Matrix for test data is:\n"
     ]
    },
    {
     "data": {
      "text/plain": [
       "Predicted  False  True  __all__\n",
       "Actual                         \n",
       "False       7004   978     7982\n",
       "True         124  1066     1190\n",
       "__all__     7128  2044     9172"
      ]
     },
     "metadata": {},
     "output_type": "display_data"
    },
    {
     "data": {
      "application/vnd.plotly.v1+json": {
       "config": {
        "linkText": "Export to plot.ly",
        "plotlyServerURL": "https://plot.ly",
        "showLink": true
       },
       "data": [
        {
         "marker": {
          "color": "rgb(158,202,225)",
          "line": {
           "color": "rgb(8,48,107)",
           "width": 1.5
          }
         },
         "opacity": 0.6,
         "orientation": "h",
         "text": [
          0.5763,
          0.2036,
          0.0652,
          0.0288,
          0.0272,
          0.0147,
          0.0107,
          0.0102,
          0.0079,
          0.0079,
          0.0075,
          0.0064,
          0.0056,
          0.0054,
          0.0052,
          0.0041,
          0.0035,
          0.0029,
          0.0022,
          0.0022,
          0.0018,
          0.0007
         ],
         "textposition": "outside",
         "type": "bar",
         "uid": "a20ecd45-5a51-43cb-99ac-3e680cac402a",
         "x": [
          0.5763397658429649,
          0.2036475489015445,
          0.06519844824943946,
          0.028795823046604312,
          0.027157695653711383,
          0.014744828882647523,
          0.010742166901504601,
          0.010224882899760724,
          0.007921933608793386,
          0.007910147756141475,
          0.00749259758304105,
          0.006410622115880233,
          0.005570599036953179,
          0.005361188752284467,
          0.0051600890151145854,
          0.004081305584100726,
          0.0034892224672550183,
          0.0028895431616516223,
          0.002209012441709953,
          0.0021692721317214617,
          0.0017843284902314637,
          0.0006989774769438862
         ],
         "y": [
          "http_header_content-encoding_gzip",
          "http_header_content-length",
          "http_header_transfer-encoding_chunked",
          "http_header_cache-control_set_max-age",
          "http_header_server_apache",
          "http_header_vary_accept",
          "http_header_cache-control_set_must-revalidate",
          "http_header_via_1.1",
          "http_header_connection_close",
          "http_header_vary_age",
          "http_header_server_nginx",
          "http_header_strict-transport-security_max-age",
          "http_header_pragmano-cache",
          "http_header_cache-control_set_private",
          "http_header_cache-control_set_no-store",
          "http_header_connection_keep-alive",
          "http_header_expect-ctmax-age",
          "http_header_content-language_text/html",
          "http_header_x-cintent-type-options_nosniff",
          "http_header_x-xss-enabled",
          "http_header_cache-control_set_no-cache",
          "http_header_cache-control_set_public"
         ]
        }
       ],
       "layout": {
        "autosize": false,
        "height": 1000,
        "width": 1000,
        "xaxis": {
         "tickfont": {
          "color": "black",
          "size": 12
         },
         "title": "Feature Importances"
        },
        "yaxis": {
         "automargin": true
        }
       }
      },
      "text/html": [
       "<div id=\"07c73ecf-63f4-4f84-8afd-8b3429048f25\" style=\"height: 1000px; width: 1000px;\" class=\"plotly-graph-div\"></div><script type=\"text/javascript\">require([\"plotly\"], function(Plotly) { window.PLOTLYENV=window.PLOTLYENV || {};window.PLOTLYENV.BASE_URL=\"https://plot.ly\";Plotly.newPlot(\"07c73ecf-63f4-4f84-8afd-8b3429048f25\", [{\"marker\": {\"color\": \"rgb(158,202,225)\", \"line\": {\"color\": \"rgb(8,48,107)\", \"width\": 1.5}}, \"opacity\": 0.6, \"orientation\": \"h\", \"text\": [0.5763, 0.2036, 0.0652, 0.0288, 0.0272, 0.0147, 0.0107, 0.0102, 0.0079, 0.0079, 0.0075, 0.0064, 0.0056, 0.0054, 0.0052, 0.0041, 0.0035, 0.0029, 0.0022, 0.0022, 0.0018, 0.0007], \"textposition\": \"outside\", \"x\": [0.5763397658429649, 0.2036475489015445, 0.06519844824943946, 0.028795823046604312, 0.027157695653711383, 0.014744828882647523, 0.010742166901504601, 0.010224882899760724, 0.007921933608793386, 0.007910147756141475, 0.00749259758304105, 0.006410622115880233, 0.005570599036953179, 0.005361188752284467, 0.0051600890151145854, 0.004081305584100726, 0.0034892224672550183, 0.0028895431616516223, 0.002209012441709953, 0.0021692721317214617, 0.0017843284902314637, 0.0006989774769438862], \"y\": [\"http_header_content-encoding_gzip\", \"http_header_content-length\", \"http_header_transfer-encoding_chunked\", \"http_header_cache-control_set_max-age\", \"http_header_server_apache\", \"http_header_vary_accept\", \"http_header_cache-control_set_must-revalidate\", \"http_header_via_1.1\", \"http_header_connection_close\", \"http_header_vary_age\", \"http_header_server_nginx\", \"http_header_strict-transport-security_max-age\", \"http_header_pragmano-cache\", \"http_header_cache-control_set_private\", \"http_header_cache-control_set_no-store\", \"http_header_connection_keep-alive\", \"http_header_expect-ctmax-age\", \"http_header_content-language_text/html\", \"http_header_x-cintent-type-options_nosniff\", \"http_header_x-xss-enabled\", \"http_header_cache-control_set_no-cache\", \"http_header_cache-control_set_public\"], \"type\": \"bar\", \"uid\": \"a20ecd45-5a51-43cb-99ac-3e680cac402a\"}], {\"autosize\": false, \"height\": 1000, \"width\": 1000, \"xaxis\": {\"tickfont\": {\"color\": \"black\", \"size\": 12}, \"title\": \"Feature Importances\"}, \"yaxis\": {\"automargin\": true}}, {\"showLink\": true, \"linkText\": \"Export to plot.ly\", \"plotlyServerURL\": \"https://plot.ly\"})});</script>"
      ],
      "text/vnd.plotly.v1+html": [
       "<div id=\"07c73ecf-63f4-4f84-8afd-8b3429048f25\" style=\"height: 1000px; width: 1000px;\" class=\"plotly-graph-div\"></div><script type=\"text/javascript\">require([\"plotly\"], function(Plotly) { window.PLOTLYENV=window.PLOTLYENV || {};window.PLOTLYENV.BASE_URL=\"https://plot.ly\";Plotly.newPlot(\"07c73ecf-63f4-4f84-8afd-8b3429048f25\", [{\"marker\": {\"color\": \"rgb(158,202,225)\", \"line\": {\"color\": \"rgb(8,48,107)\", \"width\": 1.5}}, \"opacity\": 0.6, \"orientation\": \"h\", \"text\": [0.5763, 0.2036, 0.0652, 0.0288, 0.0272, 0.0147, 0.0107, 0.0102, 0.0079, 0.0079, 0.0075, 0.0064, 0.0056, 0.0054, 0.0052, 0.0041, 0.0035, 0.0029, 0.0022, 0.0022, 0.0018, 0.0007], \"textposition\": \"outside\", \"x\": [0.5763397658429649, 0.2036475489015445, 0.06519844824943946, 0.028795823046604312, 0.027157695653711383, 0.014744828882647523, 0.010742166901504601, 0.010224882899760724, 0.007921933608793386, 0.007910147756141475, 0.00749259758304105, 0.006410622115880233, 0.005570599036953179, 0.005361188752284467, 0.0051600890151145854, 0.004081305584100726, 0.0034892224672550183, 0.0028895431616516223, 0.002209012441709953, 0.0021692721317214617, 0.0017843284902314637, 0.0006989774769438862], \"y\": [\"http_header_content-encoding_gzip\", \"http_header_content-length\", \"http_header_transfer-encoding_chunked\", \"http_header_cache-control_set_max-age\", \"http_header_server_apache\", \"http_header_vary_accept\", \"http_header_cache-control_set_must-revalidate\", \"http_header_via_1.1\", \"http_header_connection_close\", \"http_header_vary_age\", \"http_header_server_nginx\", \"http_header_strict-transport-security_max-age\", \"http_header_pragmano-cache\", \"http_header_cache-control_set_private\", \"http_header_cache-control_set_no-store\", \"http_header_connection_keep-alive\", \"http_header_expect-ctmax-age\", \"http_header_content-language_text/html\", \"http_header_x-cintent-type-options_nosniff\", \"http_header_x-xss-enabled\", \"http_header_cache-control_set_no-cache\", \"http_header_cache-control_set_public\"], \"type\": \"bar\", \"uid\": \"a20ecd45-5a51-43cb-99ac-3e680cac402a\"}], {\"autosize\": false, \"height\": 1000, \"width\": 1000, \"xaxis\": {\"tickfont\": {\"color\": \"black\", \"size\": 12}, \"title\": \"Feature Importances\"}, \"yaxis\": {\"automargin\": true}}, {\"showLink\": true, \"linkText\": \"Export to plot.ly\", \"plotlyServerURL\": \"https://plot.ly\"})});</script>"
      ]
     },
     "metadata": {},
     "output_type": "display_data"
    },
    {
     "name": "stdout",
     "output_type": "stream",
     "text": [
      "\n",
      "\n",
      "\u001b[1mExtraTree Classifier\u001b[0m\n",
      "Accuracy of the model for training data is: 0.935061061752\n",
      "Confusion Matrix for training data is:\n"
     ]
    },
    {
     "data": {
      "text/plain": [
       "Predicted  False   True  __all__\n",
       "Actual                          \n",
       "False      28552   3301    31853\n",
       "True         836  31017    31853\n",
       "__all__    29388  34318    63706"
      ]
     },
     "metadata": {},
     "output_type": "display_data"
    },
    {
     "name": "stdout",
     "output_type": "stream",
     "text": [
      "Accuracy of the model for test data is: 0.88617531618\n",
      "Confusion Matrix for test data is:\n"
     ]
    },
    {
     "data": {
      "text/plain": [
       "Predicted  False  True  __all__\n",
       "Actual                         \n",
       "False       7039   943     7982\n",
       "True         101  1089     1190\n",
       "__all__     7140  2032     9172"
      ]
     },
     "metadata": {},
     "output_type": "display_data"
    },
    {
     "data": {
      "application/vnd.plotly.v1+json": {
       "config": {
        "linkText": "Export to plot.ly",
        "plotlyServerURL": "https://plot.ly",
        "showLink": true
       },
       "data": [
        {
         "marker": {
          "color": "rgb(158,202,225)",
          "line": {
           "color": "rgb(8,48,107)",
           "width": 1.5
          }
         },
         "opacity": 0.6,
         "orientation": "h",
         "text": [
          0.1616,
          0.1325,
          0.118,
          0.1095,
          0.0732,
          0.0674,
          0.0502,
          0.0452,
          0.0299,
          0.0285,
          0.0245,
          0.0225,
          0.0219,
          0.0209,
          0.0186,
          0.0185,
          0.0148,
          0.0126,
          0.0093,
          0.0081,
          0.0081,
          0.0043
         ],
         "textposition": "outside",
         "type": "bar",
         "uid": "6ea2cc3d-ad72-4f13-86ec-e07609d877ee",
         "x": [
          0.16156063692376735,
          0.1325163260710295,
          0.11795801942522885,
          0.10950055231361691,
          0.07322156358139617,
          0.06742820027795801,
          0.05023516070413299,
          0.045225679009892106,
          0.029909568145114872,
          0.028451955509612447,
          0.02452355058868553,
          0.022450068112348235,
          0.02186314338346492,
          0.02087355854227577,
          0.018570652655375483,
          0.018494732165841455,
          0.014763871829388037,
          0.012629775961562376,
          0.009280046788653105,
          0.008123782339172733,
          0.008096615143418313,
          0.004322540528064856
         ],
         "y": [
          "http_header_vary_accept",
          "http_header_content-language_text/html",
          "http_header_content-length",
          "http_header_transfer-encoding_chunked",
          "http_header_cache-control_set_max-age",
          "http_header_server_apache",
          "http_header_connection_keep-alive",
          "http_header_content-encoding_gzip",
          "http_header_cache-control_set_private",
          "http_header_server_nginx",
          "http_header_pragmano-cache",
          "http_header_vary_age",
          "http_header_cache-control_set_no-cache",
          "http_header_connection_close",
          "http_header_cache-control_set_no-store",
          "http_header_cache-control_set_must-revalidate",
          "http_header_via_1.1",
          "http_header_strict-transport-security_max-age",
          "http_header_expect-ctmax-age",
          "http_header_x-cintent-type-options_nosniff",
          "http_header_x-xss-enabled",
          "http_header_cache-control_set_public"
         ]
        }
       ],
       "layout": {
        "autosize": false,
        "height": 1000,
        "width": 1000,
        "xaxis": {
         "tickfont": {
          "color": "black",
          "size": 12
         },
         "title": "Feature Importances"
        },
        "yaxis": {
         "automargin": true
        }
       }
      },
      "text/html": [
       "<div id=\"5cef9ced-afa7-421d-af0b-183999f5d40f\" style=\"height: 1000px; width: 1000px;\" class=\"plotly-graph-div\"></div><script type=\"text/javascript\">require([\"plotly\"], function(Plotly) { window.PLOTLYENV=window.PLOTLYENV || {};window.PLOTLYENV.BASE_URL=\"https://plot.ly\";Plotly.newPlot(\"5cef9ced-afa7-421d-af0b-183999f5d40f\", [{\"marker\": {\"color\": \"rgb(158,202,225)\", \"line\": {\"color\": \"rgb(8,48,107)\", \"width\": 1.5}}, \"opacity\": 0.6, \"orientation\": \"h\", \"text\": [0.1616, 0.1325, 0.118, 0.1095, 0.0732, 0.0674, 0.0502, 0.0452, 0.0299, 0.0285, 0.0245, 0.0225, 0.0219, 0.0209, 0.0186, 0.0185, 0.0148, 0.0126, 0.0093, 0.0081, 0.0081, 0.0043], \"textposition\": \"outside\", \"x\": [0.16156063692376735, 0.1325163260710295, 0.11795801942522885, 0.10950055231361691, 0.07322156358139617, 0.06742820027795801, 0.05023516070413299, 0.045225679009892106, 0.029909568145114872, 0.028451955509612447, 0.02452355058868553, 0.022450068112348235, 0.02186314338346492, 0.02087355854227577, 0.018570652655375483, 0.018494732165841455, 0.014763871829388037, 0.012629775961562376, 0.009280046788653105, 0.008123782339172733, 0.008096615143418313, 0.004322540528064856], \"y\": [\"http_header_vary_accept\", \"http_header_content-language_text/html\", \"http_header_content-length\", \"http_header_transfer-encoding_chunked\", \"http_header_cache-control_set_max-age\", \"http_header_server_apache\", \"http_header_connection_keep-alive\", \"http_header_content-encoding_gzip\", \"http_header_cache-control_set_private\", \"http_header_server_nginx\", \"http_header_pragmano-cache\", \"http_header_vary_age\", \"http_header_cache-control_set_no-cache\", \"http_header_connection_close\", \"http_header_cache-control_set_no-store\", \"http_header_cache-control_set_must-revalidate\", \"http_header_via_1.1\", \"http_header_strict-transport-security_max-age\", \"http_header_expect-ctmax-age\", \"http_header_x-cintent-type-options_nosniff\", \"http_header_x-xss-enabled\", \"http_header_cache-control_set_public\"], \"type\": \"bar\", \"uid\": \"6ea2cc3d-ad72-4f13-86ec-e07609d877ee\"}], {\"autosize\": false, \"height\": 1000, \"width\": 1000, \"xaxis\": {\"tickfont\": {\"color\": \"black\", \"size\": 12}, \"title\": \"Feature Importances\"}, \"yaxis\": {\"automargin\": true}}, {\"showLink\": true, \"linkText\": \"Export to plot.ly\", \"plotlyServerURL\": \"https://plot.ly\"})});</script>"
      ],
      "text/vnd.plotly.v1+html": [
       "<div id=\"5cef9ced-afa7-421d-af0b-183999f5d40f\" style=\"height: 1000px; width: 1000px;\" class=\"plotly-graph-div\"></div><script type=\"text/javascript\">require([\"plotly\"], function(Plotly) { window.PLOTLYENV=window.PLOTLYENV || {};window.PLOTLYENV.BASE_URL=\"https://plot.ly\";Plotly.newPlot(\"5cef9ced-afa7-421d-af0b-183999f5d40f\", [{\"marker\": {\"color\": \"rgb(158,202,225)\", \"line\": {\"color\": \"rgb(8,48,107)\", \"width\": 1.5}}, \"opacity\": 0.6, \"orientation\": \"h\", \"text\": [0.1616, 0.1325, 0.118, 0.1095, 0.0732, 0.0674, 0.0502, 0.0452, 0.0299, 0.0285, 0.0245, 0.0225, 0.0219, 0.0209, 0.0186, 0.0185, 0.0148, 0.0126, 0.0093, 0.0081, 0.0081, 0.0043], \"textposition\": \"outside\", \"x\": [0.16156063692376735, 0.1325163260710295, 0.11795801942522885, 0.10950055231361691, 0.07322156358139617, 0.06742820027795801, 0.05023516070413299, 0.045225679009892106, 0.029909568145114872, 0.028451955509612447, 0.02452355058868553, 0.022450068112348235, 0.02186314338346492, 0.02087355854227577, 0.018570652655375483, 0.018494732165841455, 0.014763871829388037, 0.012629775961562376, 0.009280046788653105, 0.008123782339172733, 0.008096615143418313, 0.004322540528064856], \"y\": [\"http_header_vary_accept\", \"http_header_content-language_text/html\", \"http_header_content-length\", \"http_header_transfer-encoding_chunked\", \"http_header_cache-control_set_max-age\", \"http_header_server_apache\", \"http_header_connection_keep-alive\", \"http_header_content-encoding_gzip\", \"http_header_cache-control_set_private\", \"http_header_server_nginx\", \"http_header_pragmano-cache\", \"http_header_vary_age\", \"http_header_cache-control_set_no-cache\", \"http_header_connection_close\", \"http_header_cache-control_set_no-store\", \"http_header_cache-control_set_must-revalidate\", \"http_header_via_1.1\", \"http_header_strict-transport-security_max-age\", \"http_header_expect-ctmax-age\", \"http_header_x-cintent-type-options_nosniff\", \"http_header_x-xss-enabled\", \"http_header_cache-control_set_public\"], \"type\": \"bar\", \"uid\": \"6ea2cc3d-ad72-4f13-86ec-e07609d877ee\"}], {\"autosize\": false, \"height\": 1000, \"width\": 1000, \"xaxis\": {\"tickfont\": {\"color\": \"black\", \"size\": 12}, \"title\": \"Feature Importances\"}, \"yaxis\": {\"automargin\": true}}, {\"showLink\": true, \"linkText\": \"Export to plot.ly\", \"plotlyServerURL\": \"https://plot.ly\"})});</script>"
      ]
     },
     "metadata": {},
     "output_type": "display_data"
    },
    {
     "name": "stdout",
     "output_type": "stream",
     "text": [
      "\n",
      "\n",
      "\u001b[1mBagging Classifier\u001b[0m\n",
      "Accuracy of the model for training data is: 0.932722192572\n",
      "Confusion Matrix for training data is:\n"
     ]
    },
    {
     "data": {
      "text/plain": [
       "Predicted  False   True  __all__\n",
       "Actual                          \n",
       "False      28531   3322    31853\n",
       "True         964  30889    31853\n",
       "__all__    29495  34211    63706"
      ]
     },
     "metadata": {},
     "output_type": "display_data"
    },
    {
     "name": "stdout",
     "output_type": "stream",
     "text": [
      "Accuracy of the model for test data is: 0.886720453554\n",
      "Confusion Matrix for test data is:\n"
     ]
    },
    {
     "data": {
      "text/plain": [
       "Predicted  False  True  __all__\n",
       "Actual                         \n",
       "False       7048   934     7982\n",
       "True         105  1085     1190\n",
       "__all__     7153  2019     9172"
      ]
     },
     "metadata": {},
     "output_type": "display_data"
    },
    {
     "name": "stdout",
     "output_type": "stream",
     "text": [
      "\n",
      "\n",
      "\u001b[1mNeural Network-1\u001b[0m\n",
      "The accuracy of the model on training data is: 0.910275327287\n"
     ]
    },
    {
     "data": {
      "text/plain": [
       "Predicted  False   True  __all__\n",
       "Actual                          \n",
       "False      27866   3987    31853\n",
       "True        1729  30124    31853\n",
       "__all__    29595  34111    63706"
      ]
     },
     "metadata": {},
     "output_type": "display_data"
    },
    {
     "name": "stdout",
     "output_type": "stream",
     "text": [
      "The accuracy of the model on test data is: 0.882686436982\n"
     ]
    },
    {
     "data": {
      "text/plain": [
       "Predicted  False  True  __all__\n",
       "Actual                         \n",
       "False       7009   973     7982\n",
       "True         103  1087     1190\n",
       "__all__     7112  2060     9172"
      ]
     },
     "metadata": {},
     "output_type": "display_data"
    },
    {
     "name": "stdout",
     "output_type": "stream",
     "text": [
      "\n",
      "\n"
     ]
    }
   ],
   "source": [
    "feat_imp=[None]*4\n",
    "j=0\n",
    "for i in range(0,8):\n",
    "    if i>=2 and i<=5:\n",
    "        model,cm_train,cm_test,acc_train,acc_test,roc_auc,feat_imp[j],mcc=f[i](X_train,Y_train,scaled_X_test,test_Y,columns[:-2])\n",
    "        j=j+1\n",
    "    else:\n",
    "        model,cm_train,cm_test,acc_train,acc_test,roc_auc,mcc=f[i](X_train,Y_train,scaled_X_test,test_Y)\n",
    "    table_80_80_train.loc[i]=   ([acc_train,cm_train.TP,cm_train.TN,cm_train.FP,cm_train.FN,cm_train.FPR,cm_train.FNR])\n",
    "    table_80_80_test.loc[i] =   ([acc_test ,cm_test.TP, cm_test.TN, cm_test.FP, cm_test.FN, cm_test.FPR, cm_test.FNR,roc_auc,mcc])\n",
    "    print(\"\\n\")"
   ]
  },
  {
   "cell_type": "markdown",
   "metadata": {},
   "source": [
    "### <a id='2.A' style=\"text-decoration : none; color : #000000;\"> A Results</a>"
   ]
  },
  {
   "cell_type": "code",
   "execution_count": 35,
   "metadata": {},
   "outputs": [
    {
     "data": {
      "application/vnd.plotly.v1+json": {
       "config": {
        "linkText": "Export to plot.ly",
        "plotlyServerURL": "https://plot.ly",
        "showLink": true
       },
       "data": [
        {
         "mode": "lines",
         "name": "KNN_model",
         "type": "scatter",
         "uid": "6a323dd2-dfd9-4aa4-8dbb-517404654978",
         "x": [
          "accuracy",
          "FPR",
          "FNR",
          "auc"
         ],
         "y": [
          0.8988225032708242,
          0.09759458782260085,
          0.12521008403361344,
          0.8885976640718929
         ]
        },
        {
         "mode": "lines+markers",
         "name": "Logistic Regression",
         "type": "scatter",
         "uid": "c56ddbdd-9dc6-42db-ada3-917d0c7e207a",
         "x": [
          "accuracy",
          "FPR",
          "FNR",
          "auc"
         ],
         "y": [
          0.8431094635848234,
          0.16449511400651465,
          0.10588235294117647,
          0.8648112665261544
         ]
        },
        {
         "marker": {
          "symbol": "x"
         },
         "mode": "lines+markers",
         "name": "Random Forest",
         "type": "scatter",
         "uid": "cf224bb0-f446-4c1f-9e2e-3c9b0ca2164d",
         "x": [
          "accuracy",
          "FPR",
          "FNR",
          "auc"
         ],
         "y": [
          0.8870475359790667,
          0.11663743422701077,
          0.08823529411764706,
          0.897563635827671
         ]
        },
        {
         "mode": "lines",
         "name": "Ada Boost",
         "type": "scatter",
         "uid": "160c1446-dc15-4f96-9a8d-fa8e52a2c0c5",
         "x": [
          "accuracy",
          "FPR",
          "FNR",
          "auc"
         ],
         "y": [
          0.8499781945050152,
          0.15522425457278877,
          0.11512605042016806,
          0.8648248475035216
         ]
        },
        {
         "mode": "lines+markers",
         "name": "GradientBoosting",
         "type": "scatter",
         "uid": "93375329-4948-4125-9b5b-d45678ffe45e",
         "x": [
          "accuracy",
          "FPR",
          "FNR",
          "auc"
         ],
         "y": [
          0.8798517226341038,
          0.1225256827862691,
          0.10420168067226891,
          0.886636318270731
         ]
        },
        {
         "marker": {
          "symbol": "x"
         },
         "mode": "lines+markers",
         "name": "ExtraTree Classifier",
         "type": "scatter",
         "uid": "d6f11714-62de-4f36-81d6-036c753a397a",
         "x": [
          "accuracy",
          "FPR",
          "FNR",
          "auc"
         ],
         "y": [
          0.8861753161796773,
          0.11814081683788524,
          0.08487394957983194,
          0.8984926167911413
         ]
        },
        {
         "marker": {
          "symbol": "x"
         },
         "mode": "lines+markers",
         "name": "Bagging",
         "type": "scatter",
         "uid": "0d0c9fa9-c4a1-47ec-823d-c76c4f585bf0",
         "x": [
          "accuracy",
          "FPR",
          "FNR",
          "auc"
         ],
         "y": [
          0.8867204535542956,
          0.11701327987972938,
          0.08823529411764706,
          0.8973757130013117
         ]
        },
        {
         "marker": {
          "symbol": "x"
         },
         "mode": "lines+markers",
         "name": "Neural Network",
         "type": "scatter",
         "uid": "b2cc9baf-850e-49bc-83ca-2d9ba7659159",
         "x": [
          "accuracy",
          "FPR",
          "FNR",
          "auc"
         ],
         "y": [
          0.8826864369821195,
          0.1218992733650714,
          0.0865546218487395,
          0.8973757130013117
         ]
        }
       ],
       "layout": {
        "title": "Result comparision for Features selected in Section 1",
        "yaxis": {
         "dtick": 0.05,
         "tick0": 0
        }
       }
      },
      "text/html": [
       "<div id=\"da622909-00bc-45aa-be7d-5af198aa30fa\" style=\"height: 525px; width: 100%;\" class=\"plotly-graph-div\"></div><script type=\"text/javascript\">require([\"plotly\"], function(Plotly) { window.PLOTLYENV=window.PLOTLYENV || {};window.PLOTLYENV.BASE_URL=\"https://plot.ly\";Plotly.newPlot(\"da622909-00bc-45aa-be7d-5af198aa30fa\", [{\"mode\": \"lines\", \"name\": \"KNN_model\", \"x\": [\"accuracy\", \"FPR\", \"FNR\", \"auc\"], \"y\": [0.8988225032708242, 0.09759458782260085, 0.12521008403361344, 0.8885976640718929], \"type\": \"scatter\", \"uid\": \"6a323dd2-dfd9-4aa4-8dbb-517404654978\"}, {\"mode\": \"lines+markers\", \"name\": \"Logistic Regression\", \"x\": [\"accuracy\", \"FPR\", \"FNR\", \"auc\"], \"y\": [0.8431094635848234, 0.16449511400651465, 0.10588235294117647, 0.8648112665261544], \"type\": \"scatter\", \"uid\": \"c56ddbdd-9dc6-42db-ada3-917d0c7e207a\"}, {\"marker\": {\"symbol\": \"x\"}, \"mode\": \"lines+markers\", \"name\": \"Random Forest\", \"x\": [\"accuracy\", \"FPR\", \"FNR\", \"auc\"], \"y\": [0.8870475359790667, 0.11663743422701077, 0.08823529411764706, 0.897563635827671], \"type\": \"scatter\", \"uid\": \"cf224bb0-f446-4c1f-9e2e-3c9b0ca2164d\"}, {\"mode\": \"lines\", \"name\": \"Ada Boost\", \"x\": [\"accuracy\", \"FPR\", \"FNR\", \"auc\"], \"y\": [0.8499781945050152, 0.15522425457278877, 0.11512605042016806, 0.8648248475035216], \"type\": \"scatter\", \"uid\": \"160c1446-dc15-4f96-9a8d-fa8e52a2c0c5\"}, {\"mode\": \"lines+markers\", \"name\": \"GradientBoosting\", \"x\": [\"accuracy\", \"FPR\", \"FNR\", \"auc\"], \"y\": [0.8798517226341038, 0.1225256827862691, 0.10420168067226891, 0.886636318270731], \"type\": \"scatter\", \"uid\": \"93375329-4948-4125-9b5b-d45678ffe45e\"}, {\"marker\": {\"symbol\": \"x\"}, \"mode\": \"lines+markers\", \"name\": \"ExtraTree Classifier\", \"x\": [\"accuracy\", \"FPR\", \"FNR\", \"auc\"], \"y\": [0.8861753161796773, 0.11814081683788524, 0.08487394957983194, 0.8984926167911413], \"type\": \"scatter\", \"uid\": \"d6f11714-62de-4f36-81d6-036c753a397a\"}, {\"marker\": {\"symbol\": \"x\"}, \"mode\": \"lines+markers\", \"name\": \"Bagging\", \"x\": [\"accuracy\", \"FPR\", \"FNR\", \"auc\"], \"y\": [0.8867204535542956, 0.11701327987972938, 0.08823529411764706, 0.8973757130013117], \"type\": \"scatter\", \"uid\": \"0d0c9fa9-c4a1-47ec-823d-c76c4f585bf0\"}, {\"marker\": {\"symbol\": \"x\"}, \"mode\": \"lines+markers\", \"name\": \"Neural Network\", \"x\": [\"accuracy\", \"FPR\", \"FNR\", \"auc\"], \"y\": [0.8826864369821195, 0.1218992733650714, 0.0865546218487395, 0.8973757130013117], \"type\": \"scatter\", \"uid\": \"b2cc9baf-850e-49bc-83ca-2d9ba7659159\"}], {\"title\": \"Result comparision for Features selected in Section 1\", \"yaxis\": {\"dtick\": 0.05, \"tick0\": 0}}, {\"showLink\": true, \"linkText\": \"Export to plot.ly\", \"plotlyServerURL\": \"https://plot.ly\"})});</script><script type=\"text/javascript\">window.addEventListener(\"resize\", function(){window._Plotly.Plots.resize(document.getElementById(\"da622909-00bc-45aa-be7d-5af198aa30fa\"));});</script>"
      ],
      "text/vnd.plotly.v1+html": [
       "<div id=\"da622909-00bc-45aa-be7d-5af198aa30fa\" style=\"height: 525px; width: 100%;\" class=\"plotly-graph-div\"></div><script type=\"text/javascript\">require([\"plotly\"], function(Plotly) { window.PLOTLYENV=window.PLOTLYENV || {};window.PLOTLYENV.BASE_URL=\"https://plot.ly\";Plotly.newPlot(\"da622909-00bc-45aa-be7d-5af198aa30fa\", [{\"mode\": \"lines\", \"name\": \"KNN_model\", \"x\": [\"accuracy\", \"FPR\", \"FNR\", \"auc\"], \"y\": [0.8988225032708242, 0.09759458782260085, 0.12521008403361344, 0.8885976640718929], \"type\": \"scatter\", \"uid\": \"6a323dd2-dfd9-4aa4-8dbb-517404654978\"}, {\"mode\": \"lines+markers\", \"name\": \"Logistic Regression\", \"x\": [\"accuracy\", \"FPR\", \"FNR\", \"auc\"], \"y\": [0.8431094635848234, 0.16449511400651465, 0.10588235294117647, 0.8648112665261544], \"type\": \"scatter\", \"uid\": \"c56ddbdd-9dc6-42db-ada3-917d0c7e207a\"}, {\"marker\": {\"symbol\": \"x\"}, \"mode\": \"lines+markers\", \"name\": \"Random Forest\", \"x\": [\"accuracy\", \"FPR\", \"FNR\", \"auc\"], \"y\": [0.8870475359790667, 0.11663743422701077, 0.08823529411764706, 0.897563635827671], \"type\": \"scatter\", \"uid\": \"cf224bb0-f446-4c1f-9e2e-3c9b0ca2164d\"}, {\"mode\": \"lines\", \"name\": \"Ada Boost\", \"x\": [\"accuracy\", \"FPR\", \"FNR\", \"auc\"], \"y\": [0.8499781945050152, 0.15522425457278877, 0.11512605042016806, 0.8648248475035216], \"type\": \"scatter\", \"uid\": \"160c1446-dc15-4f96-9a8d-fa8e52a2c0c5\"}, {\"mode\": \"lines+markers\", \"name\": \"GradientBoosting\", \"x\": [\"accuracy\", \"FPR\", \"FNR\", \"auc\"], \"y\": [0.8798517226341038, 0.1225256827862691, 0.10420168067226891, 0.886636318270731], \"type\": \"scatter\", \"uid\": \"93375329-4948-4125-9b5b-d45678ffe45e\"}, {\"marker\": {\"symbol\": \"x\"}, \"mode\": \"lines+markers\", \"name\": \"ExtraTree Classifier\", \"x\": [\"accuracy\", \"FPR\", \"FNR\", \"auc\"], \"y\": [0.8861753161796773, 0.11814081683788524, 0.08487394957983194, 0.8984926167911413], \"type\": \"scatter\", \"uid\": \"d6f11714-62de-4f36-81d6-036c753a397a\"}, {\"marker\": {\"symbol\": \"x\"}, \"mode\": \"lines+markers\", \"name\": \"Bagging\", \"x\": [\"accuracy\", \"FPR\", \"FNR\", \"auc\"], \"y\": [0.8867204535542956, 0.11701327987972938, 0.08823529411764706, 0.8973757130013117], \"type\": \"scatter\", \"uid\": \"0d0c9fa9-c4a1-47ec-823d-c76c4f585bf0\"}, {\"marker\": {\"symbol\": \"x\"}, \"mode\": \"lines+markers\", \"name\": \"Neural Network\", \"x\": [\"accuracy\", \"FPR\", \"FNR\", \"auc\"], \"y\": [0.8826864369821195, 0.1218992733650714, 0.0865546218487395, 0.8973757130013117], \"type\": \"scatter\", \"uid\": \"b2cc9baf-850e-49bc-83ca-2d9ba7659159\"}], {\"title\": \"Result comparision for Features selected in Section 1\", \"yaxis\": {\"dtick\": 0.05, \"tick0\": 0}}, {\"showLink\": true, \"linkText\": \"Export to plot.ly\", \"plotlyServerURL\": \"https://plot.ly\"})});</script><script type=\"text/javascript\">window.addEventListener(\"resize\", function(){window._Plotly.Plots.resize(document.getElementById(\"da622909-00bc-45aa-be7d-5af198aa30fa\"));});</script>"
      ]
     },
     "metadata": {},
     "output_type": "display_data"
    }
   ],
   "source": [
    "trace0 = go.Scatter(x=table_80_80_test.iloc[0].index.values[[0,5,6,7]],\n",
    "                    y=table_80_80_test.iloc[0].values[[0,5,6,7]],\n",
    "                    mode = 'lines',\n",
    "                    name = 'KNN_model')\n",
    "\n",
    "trace1 = go.Scatter(x=table_80_80_test.iloc[1].index.values[[0,5,6,7]],\n",
    "                    y=table_80_80_test.iloc[1].values[[0,5,6,7]],\n",
    "                    mode = 'lines+markers',\n",
    "                    name = 'Logistic Regression')\n",
    "\n",
    "trace2 = go.Scatter(x=table_80_80_test.iloc[2].index.values[[0,5,6,7]],\n",
    "                    y=table_80_80_test.iloc[2].values[[0,5,6,7]],\n",
    "                    mode = 'lines+markers',marker=dict(symbol='x'),\n",
    "                    name = 'Random Forest')\n",
    "\n",
    "\n",
    "trace3 = go.Scatter(x=table_80_80_test.iloc[3].index.values[[0,5,6,7]],\n",
    "                    y=table_80_80_test.iloc[3].values[[0,5,6,7]],\n",
    "                    mode = 'lines',\n",
    "                    name = 'Ada Boost')\n",
    "\n",
    "trace4 = go.Scatter(x=table_80_80_test.iloc[4].index.values[[0,5,6,7]],\n",
    "                    y=table_80_80_test.iloc[4].values[[0,5,6,7]],\n",
    "                    mode = 'lines+markers',\n",
    "                    name = 'GradientBoosting')\n",
    "\n",
    "trace5 = go.Scatter(x=table_80_80_test.iloc[5].index.values[[0,5,6,7]],\n",
    "                    y=table_80_80_test.iloc[5].values[[0,5,6,7]],\n",
    "                    mode = 'lines+markers',marker=dict(symbol='x'),\n",
    "                    name = 'ExtraTree Classifier')\n",
    "\n",
    "trace6 = go.Scatter(x=table_80_80_test.iloc[6].index.values[[0,5,6,7]],\n",
    "                    y=table_80_80_test.iloc[6].values[[0,5,6,7]],\n",
    "                    mode = 'lines+markers',marker=dict(symbol='x'),\n",
    "                    name = 'Bagging')\n",
    "\n",
    "trace7 = go.Scatter(x=table_80_80_test.iloc[7].index.values[[0,5,6,7]],\n",
    "                    y=table_80_80_test.iloc[7].values[[0,5,6,7]],\n",
    "                    mode = 'lines+markers',marker=dict(symbol='x'),\n",
    "                    name = 'Neural Network')\n",
    "\n",
    "\n",
    "\n",
    "data = [trace0, trace1, trace2, trace3, trace4, trace5, trace6, trace7]\n",
    "layout = go.Layout(yaxis=dict(tick0=0,dtick=0.05),title='Result comparision for Features selected in Section 1')\n",
    "fig = go.Figure(data=data, layout=layout)\n",
    "\n",
    "iplot(fig, filename='Result')"
   ]
  },
  {
   "cell_type": "code",
   "execution_count": 36,
   "metadata": {},
   "outputs": [
    {
     "name": "stdout",
     "output_type": "stream",
     "text": [
      "Training Results\n"
     ]
    },
    {
     "data": {
      "text/html": [
       "<div>\n",
       "<style scoped>\n",
       "    .dataframe tbody tr th:only-of-type {\n",
       "        vertical-align: middle;\n",
       "    }\n",
       "\n",
       "    .dataframe tbody tr th {\n",
       "        vertical-align: top;\n",
       "    }\n",
       "\n",
       "    .dataframe thead th {\n",
       "        text-align: right;\n",
       "    }\n",
       "</style>\n",
       "<table border=\"1\" class=\"dataframe\">\n",
       "  <thead>\n",
       "    <tr style=\"text-align: right;\">\n",
       "      <th></th>\n",
       "      <th>accuracy</th>\n",
       "      <th>TP</th>\n",
       "      <th>TN</th>\n",
       "      <th>FP</th>\n",
       "      <th>FN</th>\n",
       "      <th>FPR</th>\n",
       "      <th>FNR</th>\n",
       "    </tr>\n",
       "    <tr>\n",
       "      <th>index</th>\n",
       "      <th></th>\n",
       "      <th></th>\n",
       "      <th></th>\n",
       "      <th></th>\n",
       "      <th></th>\n",
       "      <th></th>\n",
       "      <th></th>\n",
       "    </tr>\n",
       "  </thead>\n",
       "  <tbody>\n",
       "    <tr>\n",
       "      <th>KNeighborsClassifier</th>\n",
       "      <td>0.911876</td>\n",
       "      <td>29183.0</td>\n",
       "      <td>28909.0</td>\n",
       "      <td>2944.0</td>\n",
       "      <td>2670.0</td>\n",
       "      <td>0.092425</td>\n",
       "      <td>0.083823</td>\n",
       "    </tr>\n",
       "    <tr>\n",
       "      <th>LogisticRegression</th>\n",
       "      <td>0.867108</td>\n",
       "      <td>28817.0</td>\n",
       "      <td>26423.0</td>\n",
       "      <td>5430.0</td>\n",
       "      <td>3036.0</td>\n",
       "      <td>0.170471</td>\n",
       "      <td>0.095313</td>\n",
       "    </tr>\n",
       "    <tr>\n",
       "      <th>RandomForestClassifier</th>\n",
       "      <td>0.932612</td>\n",
       "      <td>30904.0</td>\n",
       "      <td>28509.0</td>\n",
       "      <td>3344.0</td>\n",
       "      <td>949.0</td>\n",
       "      <td>0.104982</td>\n",
       "      <td>0.029793</td>\n",
       "    </tr>\n",
       "    <tr>\n",
       "      <th>AdaBoostClassifier</th>\n",
       "      <td>0.873732</td>\n",
       "      <td>28848.0</td>\n",
       "      <td>26814.0</td>\n",
       "      <td>5039.0</td>\n",
       "      <td>3005.0</td>\n",
       "      <td>0.158195</td>\n",
       "      <td>0.094340</td>\n",
       "    </tr>\n",
       "    <tr>\n",
       "      <th>GradientBoostingClassifier</th>\n",
       "      <td>0.895269</td>\n",
       "      <td>29115.0</td>\n",
       "      <td>27919.0</td>\n",
       "      <td>3934.0</td>\n",
       "      <td>2738.0</td>\n",
       "      <td>0.123505</td>\n",
       "      <td>0.085957</td>\n",
       "    </tr>\n",
       "    <tr>\n",
       "      <th>ExtraTreeClassifier</th>\n",
       "      <td>0.935061</td>\n",
       "      <td>31017.0</td>\n",
       "      <td>28552.0</td>\n",
       "      <td>3301.0</td>\n",
       "      <td>836.0</td>\n",
       "      <td>0.103632</td>\n",
       "      <td>0.026246</td>\n",
       "    </tr>\n",
       "    <tr>\n",
       "      <th>BaggingClassifier</th>\n",
       "      <td>0.932722</td>\n",
       "      <td>30889.0</td>\n",
       "      <td>28531.0</td>\n",
       "      <td>3322.0</td>\n",
       "      <td>964.0</td>\n",
       "      <td>0.104292</td>\n",
       "      <td>0.030264</td>\n",
       "    </tr>\n",
       "    <tr>\n",
       "      <th>Neural Network-1</th>\n",
       "      <td>0.910275</td>\n",
       "      <td>30124.0</td>\n",
       "      <td>27866.0</td>\n",
       "      <td>3987.0</td>\n",
       "      <td>1729.0</td>\n",
       "      <td>0.125169</td>\n",
       "      <td>0.054281</td>\n",
       "    </tr>\n",
       "  </tbody>\n",
       "</table>\n",
       "</div>"
      ],
      "text/plain": [
       "                            accuracy       TP       TN      FP      FN  \\\n",
       "index                                                                    \n",
       "KNeighborsClassifier        0.911876  29183.0  28909.0  2944.0  2670.0   \n",
       "LogisticRegression          0.867108  28817.0  26423.0  5430.0  3036.0   \n",
       "RandomForestClassifier      0.932612  30904.0  28509.0  3344.0   949.0   \n",
       "AdaBoostClassifier          0.873732  28848.0  26814.0  5039.0  3005.0   \n",
       "GradientBoostingClassifier  0.895269  29115.0  27919.0  3934.0  2738.0   \n",
       "ExtraTreeClassifier         0.935061  31017.0  28552.0  3301.0   836.0   \n",
       "BaggingClassifier           0.932722  30889.0  28531.0  3322.0   964.0   \n",
       "Neural Network-1            0.910275  30124.0  27866.0  3987.0  1729.0   \n",
       "\n",
       "                                 FPR       FNR  \n",
       "index                                           \n",
       "KNeighborsClassifier        0.092425  0.083823  \n",
       "LogisticRegression          0.170471  0.095313  \n",
       "RandomForestClassifier      0.104982  0.029793  \n",
       "AdaBoostClassifier          0.158195  0.094340  \n",
       "GradientBoostingClassifier  0.123505  0.085957  \n",
       "ExtraTreeClassifier         0.103632  0.026246  \n",
       "BaggingClassifier           0.104292  0.030264  \n",
       "Neural Network-1            0.125169  0.054281  "
      ]
     },
     "metadata": {},
     "output_type": "display_data"
    },
    {
     "name": "stdout",
     "output_type": "stream",
     "text": [
      "Test Results\n"
     ]
    },
    {
     "data": {
      "text/html": [
       "<div>\n",
       "<style scoped>\n",
       "    .dataframe tbody tr th:only-of-type {\n",
       "        vertical-align: middle;\n",
       "    }\n",
       "\n",
       "    .dataframe tbody tr th {\n",
       "        vertical-align: top;\n",
       "    }\n",
       "\n",
       "    .dataframe thead th {\n",
       "        text-align: right;\n",
       "    }\n",
       "</style>\n",
       "<table border=\"1\" class=\"dataframe\">\n",
       "  <thead>\n",
       "    <tr style=\"text-align: right;\">\n",
       "      <th></th>\n",
       "      <th>accuracy</th>\n",
       "      <th>TP</th>\n",
       "      <th>TN</th>\n",
       "      <th>FP</th>\n",
       "      <th>FN</th>\n",
       "      <th>FPR</th>\n",
       "      <th>FNR</th>\n",
       "      <th>auc</th>\n",
       "      <th>mcc</th>\n",
       "    </tr>\n",
       "    <tr>\n",
       "      <th>index</th>\n",
       "      <th></th>\n",
       "      <th></th>\n",
       "      <th></th>\n",
       "      <th></th>\n",
       "      <th></th>\n",
       "      <th></th>\n",
       "      <th></th>\n",
       "      <th></th>\n",
       "      <th></th>\n",
       "    </tr>\n",
       "  </thead>\n",
       "  <tbody>\n",
       "    <tr>\n",
       "      <th>KNeighborsClassifier</th>\n",
       "      <td>0.898823</td>\n",
       "      <td>1041.0</td>\n",
       "      <td>7203.0</td>\n",
       "      <td>779.0</td>\n",
       "      <td>149.0</td>\n",
       "      <td>0.097595</td>\n",
       "      <td>0.125210</td>\n",
       "      <td>0.888598</td>\n",
       "      <td>0.654819</td>\n",
       "    </tr>\n",
       "    <tr>\n",
       "      <th>LogisticRegression</th>\n",
       "      <td>0.843109</td>\n",
       "      <td>1064.0</td>\n",
       "      <td>6669.0</td>\n",
       "      <td>1313.0</td>\n",
       "      <td>126.0</td>\n",
       "      <td>0.164495</td>\n",
       "      <td>0.105882</td>\n",
       "      <td>0.864811</td>\n",
       "      <td>0.559523</td>\n",
       "    </tr>\n",
       "    <tr>\n",
       "      <th>RandomForestClassifier</th>\n",
       "      <td>0.887048</td>\n",
       "      <td>1085.0</td>\n",
       "      <td>7051.0</td>\n",
       "      <td>931.0</td>\n",
       "      <td>105.0</td>\n",
       "      <td>0.116637</td>\n",
       "      <td>0.088235</td>\n",
       "      <td>0.897564</td>\n",
       "      <td>0.645187</td>\n",
       "    </tr>\n",
       "    <tr>\n",
       "      <th>AdaBoostClassifier</th>\n",
       "      <td>0.849978</td>\n",
       "      <td>1053.0</td>\n",
       "      <td>6743.0</td>\n",
       "      <td>1239.0</td>\n",
       "      <td>137.0</td>\n",
       "      <td>0.155224</td>\n",
       "      <td>0.115126</td>\n",
       "      <td>0.864825</td>\n",
       "      <td>0.566294</td>\n",
       "    </tr>\n",
       "    <tr>\n",
       "      <th>GradientBoostingClassifier</th>\n",
       "      <td>0.879852</td>\n",
       "      <td>1066.0</td>\n",
       "      <td>7004.0</td>\n",
       "      <td>978.0</td>\n",
       "      <td>124.0</td>\n",
       "      <td>0.122526</td>\n",
       "      <td>0.104202</td>\n",
       "      <td>0.886636</td>\n",
       "      <td>0.624364</td>\n",
       "    </tr>\n",
       "    <tr>\n",
       "      <th>ExtraTreeClassifier</th>\n",
       "      <td>0.886175</td>\n",
       "      <td>1089.0</td>\n",
       "      <td>7039.0</td>\n",
       "      <td>943.0</td>\n",
       "      <td>101.0</td>\n",
       "      <td>0.118141</td>\n",
       "      <td>0.084874</td>\n",
       "      <td>0.898493</td>\n",
       "      <td>0.644865</td>\n",
       "    </tr>\n",
       "    <tr>\n",
       "      <th>BaggingClassifier</th>\n",
       "      <td>0.886720</td>\n",
       "      <td>1085.0</td>\n",
       "      <td>7048.0</td>\n",
       "      <td>934.0</td>\n",
       "      <td>105.0</td>\n",
       "      <td>0.117013</td>\n",
       "      <td>0.088235</td>\n",
       "      <td>0.897376</td>\n",
       "      <td>0.644538</td>\n",
       "    </tr>\n",
       "    <tr>\n",
       "      <th>Neural Network-1</th>\n",
       "      <td>0.882686</td>\n",
       "      <td>1087.0</td>\n",
       "      <td>7009.0</td>\n",
       "      <td>973.0</td>\n",
       "      <td>103.0</td>\n",
       "      <td>0.121899</td>\n",
       "      <td>0.086555</td>\n",
       "      <td>0.897376</td>\n",
       "      <td>0.637347</td>\n",
       "    </tr>\n",
       "  </tbody>\n",
       "</table>\n",
       "</div>"
      ],
      "text/plain": [
       "                            accuracy      TP      TN      FP     FN       FPR  \\\n",
       "index                                                                           \n",
       "KNeighborsClassifier        0.898823  1041.0  7203.0   779.0  149.0  0.097595   \n",
       "LogisticRegression          0.843109  1064.0  6669.0  1313.0  126.0  0.164495   \n",
       "RandomForestClassifier      0.887048  1085.0  7051.0   931.0  105.0  0.116637   \n",
       "AdaBoostClassifier          0.849978  1053.0  6743.0  1239.0  137.0  0.155224   \n",
       "GradientBoostingClassifier  0.879852  1066.0  7004.0   978.0  124.0  0.122526   \n",
       "ExtraTreeClassifier         0.886175  1089.0  7039.0   943.0  101.0  0.118141   \n",
       "BaggingClassifier           0.886720  1085.0  7048.0   934.0  105.0  0.117013   \n",
       "Neural Network-1            0.882686  1087.0  7009.0   973.0  103.0  0.121899   \n",
       "\n",
       "                                 FNR       auc       mcc  \n",
       "index                                                     \n",
       "KNeighborsClassifier        0.125210  0.888598  0.654819  \n",
       "LogisticRegression          0.105882  0.864811  0.559523  \n",
       "RandomForestClassifier      0.088235  0.897564  0.645187  \n",
       "AdaBoostClassifier          0.115126  0.864825  0.566294  \n",
       "GradientBoostingClassifier  0.104202  0.886636  0.624364  \n",
       "ExtraTreeClassifier         0.084874  0.898493  0.644865  \n",
       "BaggingClassifier           0.088235  0.897376  0.644538  \n",
       "Neural Network-1            0.086555  0.897376  0.637347  "
      ]
     },
     "metadata": {},
     "output_type": "display_data"
    }
   ],
   "source": [
    "table_80_80_train['index']=ind_columns\n",
    "table_80_80_test['index']=ind_columns\n",
    "\n",
    "\n",
    "table_80_80_test.set_index(['index'],drop=True,inplace=True)\n",
    "table_80_80_train.set_index(['index'],drop=True,inplace=True)\n",
    "\n",
    "print(\"Training Results\")\n",
    "display(table_80_80_train)\n",
    "print(\"Test Results\")\n",
    "display(table_80_80_test)"
   ]
  },
  {
   "cell_type": "markdown",
   "metadata": {},
   "source": [
    "### <a id='2.B' style=\"text-decoration : none; color : #000000;\"> B. Average Feature Importances</a>"
   ]
  },
  {
   "cell_type": "code",
   "execution_count": 37,
   "metadata": {},
   "outputs": [
    {
     "data": {
      "application/vnd.plotly.v1+json": {
       "config": {
        "linkText": "Export to plot.ly",
        "plotlyServerURL": "https://plot.ly",
        "showLink": true
       },
       "data": [
        {
         "marker": {
          "color": "rgb(158,202,225)",
          "line": {
           "color": "rgb(8,48,107)",
           "width": 1.5
          }
         },
         "opacity": 0.6,
         "orientation": "h",
         "text": [
          0.2512,
          0.2208,
          0.0904,
          0.0862,
          0.0487,
          0.0388,
          0.0375,
          0.028,
          0.0226,
          0.0213,
          0.0189,
          0.0187,
          0.0181,
          0.0171,
          0.017,
          0.0118,
          0.0102,
          0.0102,
          0.0099,
          0.0093,
          0.0072,
          0.0059
         ],
         "textposition": "outside",
         "type": "bar",
         "uid": "f9446e5a-e97d-4790-86cd-5805e20430b5",
         "x": [
          0.25124104711270057,
          0.22082943024397317,
          0.0904479502786386,
          0.08622863044972398,
          0.04869486533295972,
          0.03883422669659007,
          0.037495140276878704,
          0.027967579230055467,
          0.02258730396294133,
          0.02131759323234633,
          0.018938936453348154,
          0.018674500119050256,
          0.018097351381663757,
          0.01714376172407655,
          0.0169724542412672,
          0.011780791406891089,
          0.01019896058178841,
          0.010161101375096297,
          0.00987784034322959,
          0.009343775863523963,
          0.007245356972746504,
          0.005921402720510262
         ],
         "y": [
          "http_header_content-encoding_gzip",
          "http_header_content-length",
          "http_header_vary_accept",
          "http_header_transfer-encoding_chunked",
          "http_header_cache-control_set_max-age",
          "http_header_content-language_text/html",
          "http_header_server_apache",
          "http_header_connection_keep-alive",
          "http_header_server_nginx",
          "http_header_pragmano-cache",
          "http_header_via_1.1",
          "http_header_cache-control_set_no-store",
          "http_header_strict-transport-security_max-age",
          "http_header_expect-ctmax-age",
          "http_header_cache-control_set_private",
          "http_header_cache-control_set_must-revalidate",
          "http_header_cache-control_set_no-cache",
          "http_header_vary_age",
          "http_header_x-cintent-type-options_nosniff",
          "http_header_connection_close",
          "http_header_cache-control_set_public",
          "http_header_x-xss-enabled"
         ]
        }
       ],
       "layout": {
        "autosize": false,
        "height": 1000,
        "width": 1000,
        "xaxis": {
         "tickfont": {
          "color": "black",
          "size": 12
         },
         "title": "Feature Importances"
        },
        "yaxis": {
         "automargin": true
        }
       }
      },
      "text/html": [
       "<div id=\"18f5a90c-b75a-43a6-b976-7e05bb3a11f8\" style=\"height: 1000px; width: 1000px;\" class=\"plotly-graph-div\"></div><script type=\"text/javascript\">require([\"plotly\"], function(Plotly) { window.PLOTLYENV=window.PLOTLYENV || {};window.PLOTLYENV.BASE_URL=\"https://plot.ly\";Plotly.newPlot(\"18f5a90c-b75a-43a6-b976-7e05bb3a11f8\", [{\"marker\": {\"color\": \"rgb(158,202,225)\", \"line\": {\"color\": \"rgb(8,48,107)\", \"width\": 1.5}}, \"opacity\": 0.6, \"orientation\": \"h\", \"text\": [0.2512, 0.2208, 0.0904, 0.0862, 0.0487, 0.0388, 0.0375, 0.028, 0.0226, 0.0213, 0.0189, 0.0187, 0.0181, 0.0171, 0.017, 0.0118, 0.0102, 0.0102, 0.0099, 0.0093, 0.0072, 0.0059], \"textposition\": \"outside\", \"x\": [0.25124104711270057, 0.22082943024397317, 0.0904479502786386, 0.08622863044972398, 0.04869486533295972, 0.03883422669659007, 0.037495140276878704, 0.027967579230055467, 0.02258730396294133, 0.02131759323234633, 0.018938936453348154, 0.018674500119050256, 0.018097351381663757, 0.01714376172407655, 0.0169724542412672, 0.011780791406891089, 0.01019896058178841, 0.010161101375096297, 0.00987784034322959, 0.009343775863523963, 0.007245356972746504, 0.005921402720510262], \"y\": [\"http_header_content-encoding_gzip\", \"http_header_content-length\", \"http_header_vary_accept\", \"http_header_transfer-encoding_chunked\", \"http_header_cache-control_set_max-age\", \"http_header_content-language_text/html\", \"http_header_server_apache\", \"http_header_connection_keep-alive\", \"http_header_server_nginx\", \"http_header_pragmano-cache\", \"http_header_via_1.1\", \"http_header_cache-control_set_no-store\", \"http_header_strict-transport-security_max-age\", \"http_header_expect-ctmax-age\", \"http_header_cache-control_set_private\", \"http_header_cache-control_set_must-revalidate\", \"http_header_cache-control_set_no-cache\", \"http_header_vary_age\", \"http_header_x-cintent-type-options_nosniff\", \"http_header_connection_close\", \"http_header_cache-control_set_public\", \"http_header_x-xss-enabled\"], \"type\": \"bar\", \"uid\": \"f9446e5a-e97d-4790-86cd-5805e20430b5\"}], {\"autosize\": false, \"height\": 1000, \"width\": 1000, \"xaxis\": {\"tickfont\": {\"color\": \"black\", \"size\": 12}, \"title\": \"Feature Importances\"}, \"yaxis\": {\"automargin\": true}}, {\"showLink\": true, \"linkText\": \"Export to plot.ly\", \"plotlyServerURL\": \"https://plot.ly\"})});</script>"
      ],
      "text/vnd.plotly.v1+html": [
       "<div id=\"18f5a90c-b75a-43a6-b976-7e05bb3a11f8\" style=\"height: 1000px; width: 1000px;\" class=\"plotly-graph-div\"></div><script type=\"text/javascript\">require([\"plotly\"], function(Plotly) { window.PLOTLYENV=window.PLOTLYENV || {};window.PLOTLYENV.BASE_URL=\"https://plot.ly\";Plotly.newPlot(\"18f5a90c-b75a-43a6-b976-7e05bb3a11f8\", [{\"marker\": {\"color\": \"rgb(158,202,225)\", \"line\": {\"color\": \"rgb(8,48,107)\", \"width\": 1.5}}, \"opacity\": 0.6, \"orientation\": \"h\", \"text\": [0.2512, 0.2208, 0.0904, 0.0862, 0.0487, 0.0388, 0.0375, 0.028, 0.0226, 0.0213, 0.0189, 0.0187, 0.0181, 0.0171, 0.017, 0.0118, 0.0102, 0.0102, 0.0099, 0.0093, 0.0072, 0.0059], \"textposition\": \"outside\", \"x\": [0.25124104711270057, 0.22082943024397317, 0.0904479502786386, 0.08622863044972398, 0.04869486533295972, 0.03883422669659007, 0.037495140276878704, 0.027967579230055467, 0.02258730396294133, 0.02131759323234633, 0.018938936453348154, 0.018674500119050256, 0.018097351381663757, 0.01714376172407655, 0.0169724542412672, 0.011780791406891089, 0.01019896058178841, 0.010161101375096297, 0.00987784034322959, 0.009343775863523963, 0.007245356972746504, 0.005921402720510262], \"y\": [\"http_header_content-encoding_gzip\", \"http_header_content-length\", \"http_header_vary_accept\", \"http_header_transfer-encoding_chunked\", \"http_header_cache-control_set_max-age\", \"http_header_content-language_text/html\", \"http_header_server_apache\", \"http_header_connection_keep-alive\", \"http_header_server_nginx\", \"http_header_pragmano-cache\", \"http_header_via_1.1\", \"http_header_cache-control_set_no-store\", \"http_header_strict-transport-security_max-age\", \"http_header_expect-ctmax-age\", \"http_header_cache-control_set_private\", \"http_header_cache-control_set_must-revalidate\", \"http_header_cache-control_set_no-cache\", \"http_header_vary_age\", \"http_header_x-cintent-type-options_nosniff\", \"http_header_connection_close\", \"http_header_cache-control_set_public\", \"http_header_x-xss-enabled\"], \"type\": \"bar\", \"uid\": \"f9446e5a-e97d-4790-86cd-5805e20430b5\"}], {\"autosize\": false, \"height\": 1000, \"width\": 1000, \"xaxis\": {\"tickfont\": {\"color\": \"black\", \"size\": 12}, \"title\": \"Feature Importances\"}, \"yaxis\": {\"automargin\": true}}, {\"showLink\": true, \"linkText\": \"Export to plot.ly\", \"plotlyServerURL\": \"https://plot.ly\"})});</script>"
      ]
     },
     "metadata": {},
     "output_type": "display_data"
    }
   ],
   "source": [
    "feat_impt_plot(np.average(feat_imp,axis=0),columns[:-2])"
   ]
  },
  {
   "cell_type": "markdown",
   "metadata": {},
   "source": [
    "### <a id='3' style=\"text-decoration : none; color : #000000;\"> 3. Undersampling</a>"
   ]
  },
  {
   "cell_type": "code",
   "execution_count": 42,
   "metadata": {},
   "outputs": [
    {
     "name": "stdout",
     "output_type": "stream",
     "text": [
      "Shape after undersampling (9662, 22)\n"
     ]
    }
   ],
   "source": [
    "df_non=train[train.Target==0]\n",
    "df_mal=train[train.Target==1]\n",
    "\n",
    "df_non=df_non.sample(frac=len(df_mal)/len(df_non),random_state=0)\n",
    "df_u=df_non.append(df_mal)\n",
    "df_u.Target.value_counts() \n",
    "\n",
    "X_train=df_u[columns[:-2]]\n",
    "X_train=scaler.transform(X_train)\n",
    "Y_train=df_u.Target.values\n",
    "\n",
    "print(\"Shape after undersampling\",X_train.shape)\n"
   ]
  },
  {
   "cell_type": "code",
   "execution_count": 43,
   "metadata": {
    "collapsed": true
   },
   "outputs": [],
   "source": [
    "## Table to store training and test measures so we can compare later\n",
    "table_80_90_train=pd.DataFrame(columns=['accuracy','TP','TN','FP','FN','FPR','FNR'])\n",
    "table_80_90_test=pd.DataFrame(columns=['accuracy','TP','TN','FP','FN','FPR','FNR','auc','mcc'])"
   ]
  },
  {
   "cell_type": "code",
   "execution_count": 45,
   "metadata": {
    "scrolled": false
   },
   "outputs": [
    {
     "name": "stdout",
     "output_type": "stream",
     "text": [
      "\u001b[1mK-Nearest Neighbors\u001b[0m\n",
      "Accuracy of the model for training data is: 0.897847236597\n",
      "Confusion Matrix for training data is:\n"
     ]
    },
    {
     "data": {
      "text/plain": [
       "Predicted  False  True  __all__\n",
       "Actual                         \n",
       "False       4371   460     4831\n",
       "True         527  4304     4831\n",
       "__all__     4898  4764     9662"
      ]
     },
     "metadata": {},
     "output_type": "display_data"
    },
    {
     "name": "stdout",
     "output_type": "stream",
     "text": [
      "Accuracy of the model for test data is: 0.889446140427\n",
      "Confusion Matrix for test data is:\n"
     ]
    },
    {
     "data": {
      "text/plain": [
       "Predicted  False  True  __all__\n",
       "Actual                         \n",
       "False       7117   865     7982\n",
       "True         149  1041     1190\n",
       "__all__     7266  1906     9172"
      ]
     },
     "metadata": {},
     "output_type": "display_data"
    },
    {
     "name": "stdout",
     "output_type": "stream",
     "text": [
      "\n",
      "\n",
      "\u001b[1mLogistic Regression\u001b[0m\n",
      "Accuracy of the model for training data is: 0.864831297868\n",
      "Confusion Matrix for training data is:\n"
     ]
    },
    {
     "data": {
      "text/plain": [
       "Predicted  False  True  __all__\n",
       "Actual                         \n",
       "False       4028   803     4831\n",
       "True         503  4328     4831\n",
       "__all__     4531  5131     9662"
      ]
     },
     "metadata": {},
     "output_type": "display_data"
    },
    {
     "name": "stdout",
     "output_type": "stream",
     "text": [
      "Accuracy of the model for test data is: 0.842019188836\n",
      "Confusion Matrix for test data is:\n"
     ]
    },
    {
     "data": {
      "text/plain": [
       "Predicted  False  True  __all__\n",
       "Actual                         \n",
       "False       6667  1315     7982\n",
       "True         134  1056     1190\n",
       "__all__     6801  2371     9172"
      ]
     },
     "metadata": {},
     "output_type": "display_data"
    },
    {
     "name": "stdout",
     "output_type": "stream",
     "text": [
      "\n",
      "\n",
      "\u001b[1mRandomForest Classifier\u001b[0m\n",
      "Accuracy of the model for training data is: 0.929517698199\n",
      "Confusion Matrix for training data is:\n"
     ]
    },
    {
     "data": {
      "text/plain": [
       "Predicted  False  True  __all__\n",
       "Actual                         \n",
       "False       4341   490     4831\n",
       "True         191  4640     4831\n",
       "__all__     4532  5130     9662"
      ]
     },
     "metadata": {},
     "output_type": "display_data"
    },
    {
     "name": "stdout",
     "output_type": "stream",
     "text": [
      "Accuracy of the model for test data is: 0.874618403838\n",
      "Confusion Matrix for test data is:\n"
     ]
    },
    {
     "data": {
      "text/plain": [
       "Predicted  False  True  __all__\n",
       "Actual                         \n",
       "False       6929  1053     7982\n",
       "True          97  1093     1190\n",
       "__all__     7026  2146     9172"
      ]
     },
     "metadata": {},
     "output_type": "display_data"
    },
    {
     "data": {
      "application/vnd.plotly.v1+json": {
       "config": {
        "linkText": "Export to plot.ly",
        "plotlyServerURL": "https://plot.ly",
        "showLink": true
       },
       "data": [
        {
         "marker": {
          "color": "rgb(158,202,225)",
          "line": {
           "color": "rgb(8,48,107)",
           "width": 1.5
          }
         },
         "opacity": 0.6,
         "orientation": "h",
         "text": [
          0.2102,
          0.2069,
          0.1253,
          0.119,
          0.0515,
          0.048,
          0.0376,
          0.0255,
          0.0212,
          0.0199,
          0.0181,
          0.0169,
          0.0156,
          0.0146,
          0.0127,
          0.0107,
          0.0099,
          0.0088,
          0.0085,
          0.0073,
          0.007,
          0.0048
         ],
         "textposition": "outside",
         "type": "bar",
         "uid": "72198544-b8a6-47a8-83a8-ea0f9db709d2",
         "x": [
          0.2101725495870231,
          0.20685019215682718,
          0.12529552345162392,
          0.11903744706598687,
          0.05147346144089987,
          0.04797022689066928,
          0.037598334347107035,
          0.02549364799749444,
          0.02119511476386187,
          0.019873499336174737,
          0.018064637047117738,
          0.01692239345434913,
          0.015619865855306059,
          0.01464343396128481,
          0.012719082339998636,
          0.010710200875469377,
          0.009916636850659036,
          0.008812904822609399,
          0.008494907921880563,
          0.007328944107338817,
          0.0070326208881448015,
          0.0047743748381733064
         ],
         "y": [
          "http_header_content-length",
          "http_header_content-encoding_gzip",
          "http_header_vary_accept",
          "http_header_transfer-encoding_chunked",
          "http_header_connection_keep-alive",
          "http_header_server_apache",
          "http_header_content-language_text/html",
          "http_header_cache-control_set_max-age",
          "http_header_server_nginx",
          "http_header_vary_age",
          "http_header_cache-control_set_no-cache",
          "http_header_strict-transport-security_max-age",
          "http_header_pragmano-cache",
          "http_header_cache-control_set_private",
          "http_header_cache-control_set_must-revalidate",
          "http_header_via_1.1",
          "http_header_connection_close",
          "http_header_x-xss-enabled",
          "http_header_cache-control_set_no-store",
          "http_header_x-cintent-type-options_nosniff",
          "http_header_expect-ctmax-age",
          "http_header_cache-control_set_public"
         ]
        }
       ],
       "layout": {
        "autosize": false,
        "height": 1000,
        "width": 1000,
        "xaxis": {
         "tickfont": {
          "color": "black",
          "size": 12
         },
         "title": "Feature Importances"
        },
        "yaxis": {
         "automargin": true
        }
       }
      },
      "text/html": [
       "<div id=\"5a555fcc-7a66-49b1-9c7c-46ab29d7deae\" style=\"height: 1000px; width: 1000px;\" class=\"plotly-graph-div\"></div><script type=\"text/javascript\">require([\"plotly\"], function(Plotly) { window.PLOTLYENV=window.PLOTLYENV || {};window.PLOTLYENV.BASE_URL=\"https://plot.ly\";Plotly.newPlot(\"5a555fcc-7a66-49b1-9c7c-46ab29d7deae\", [{\"marker\": {\"color\": \"rgb(158,202,225)\", \"line\": {\"color\": \"rgb(8,48,107)\", \"width\": 1.5}}, \"opacity\": 0.6, \"orientation\": \"h\", \"text\": [0.2102, 0.2069, 0.1253, 0.119, 0.0515, 0.048, 0.0376, 0.0255, 0.0212, 0.0199, 0.0181, 0.0169, 0.0156, 0.0146, 0.0127, 0.0107, 0.0099, 0.0088, 0.0085, 0.0073, 0.007, 0.0048], \"textposition\": \"outside\", \"x\": [0.2101725495870231, 0.20685019215682718, 0.12529552345162392, 0.11903744706598687, 0.05147346144089987, 0.04797022689066928, 0.037598334347107035, 0.02549364799749444, 0.02119511476386187, 0.019873499336174737, 0.018064637047117738, 0.01692239345434913, 0.015619865855306059, 0.01464343396128481, 0.012719082339998636, 0.010710200875469377, 0.009916636850659036, 0.008812904822609399, 0.008494907921880563, 0.007328944107338817, 0.0070326208881448015, 0.0047743748381733064], \"y\": [\"http_header_content-length\", \"http_header_content-encoding_gzip\", \"http_header_vary_accept\", \"http_header_transfer-encoding_chunked\", \"http_header_connection_keep-alive\", \"http_header_server_apache\", \"http_header_content-language_text/html\", \"http_header_cache-control_set_max-age\", \"http_header_server_nginx\", \"http_header_vary_age\", \"http_header_cache-control_set_no-cache\", \"http_header_strict-transport-security_max-age\", \"http_header_pragmano-cache\", \"http_header_cache-control_set_private\", \"http_header_cache-control_set_must-revalidate\", \"http_header_via_1.1\", \"http_header_connection_close\", \"http_header_x-xss-enabled\", \"http_header_cache-control_set_no-store\", \"http_header_x-cintent-type-options_nosniff\", \"http_header_expect-ctmax-age\", \"http_header_cache-control_set_public\"], \"type\": \"bar\", \"uid\": \"72198544-b8a6-47a8-83a8-ea0f9db709d2\"}], {\"autosize\": false, \"height\": 1000, \"width\": 1000, \"xaxis\": {\"tickfont\": {\"color\": \"black\", \"size\": 12}, \"title\": \"Feature Importances\"}, \"yaxis\": {\"automargin\": true}}, {\"showLink\": true, \"linkText\": \"Export to plot.ly\", \"plotlyServerURL\": \"https://plot.ly\"})});</script>"
      ],
      "text/vnd.plotly.v1+html": [
       "<div id=\"5a555fcc-7a66-49b1-9c7c-46ab29d7deae\" style=\"height: 1000px; width: 1000px;\" class=\"plotly-graph-div\"></div><script type=\"text/javascript\">require([\"plotly\"], function(Plotly) { window.PLOTLYENV=window.PLOTLYENV || {};window.PLOTLYENV.BASE_URL=\"https://plot.ly\";Plotly.newPlot(\"5a555fcc-7a66-49b1-9c7c-46ab29d7deae\", [{\"marker\": {\"color\": \"rgb(158,202,225)\", \"line\": {\"color\": \"rgb(8,48,107)\", \"width\": 1.5}}, \"opacity\": 0.6, \"orientation\": \"h\", \"text\": [0.2102, 0.2069, 0.1253, 0.119, 0.0515, 0.048, 0.0376, 0.0255, 0.0212, 0.0199, 0.0181, 0.0169, 0.0156, 0.0146, 0.0127, 0.0107, 0.0099, 0.0088, 0.0085, 0.0073, 0.007, 0.0048], \"textposition\": \"outside\", \"x\": [0.2101725495870231, 0.20685019215682718, 0.12529552345162392, 0.11903744706598687, 0.05147346144089987, 0.04797022689066928, 0.037598334347107035, 0.02549364799749444, 0.02119511476386187, 0.019873499336174737, 0.018064637047117738, 0.01692239345434913, 0.015619865855306059, 0.01464343396128481, 0.012719082339998636, 0.010710200875469377, 0.009916636850659036, 0.008812904822609399, 0.008494907921880563, 0.007328944107338817, 0.0070326208881448015, 0.0047743748381733064], \"y\": [\"http_header_content-length\", \"http_header_content-encoding_gzip\", \"http_header_vary_accept\", \"http_header_transfer-encoding_chunked\", \"http_header_connection_keep-alive\", \"http_header_server_apache\", \"http_header_content-language_text/html\", \"http_header_cache-control_set_max-age\", \"http_header_server_nginx\", \"http_header_vary_age\", \"http_header_cache-control_set_no-cache\", \"http_header_strict-transport-security_max-age\", \"http_header_pragmano-cache\", \"http_header_cache-control_set_private\", \"http_header_cache-control_set_must-revalidate\", \"http_header_via_1.1\", \"http_header_connection_close\", \"http_header_x-xss-enabled\", \"http_header_cache-control_set_no-store\", \"http_header_x-cintent-type-options_nosniff\", \"http_header_expect-ctmax-age\", \"http_header_cache-control_set_public\"], \"type\": \"bar\", \"uid\": \"72198544-b8a6-47a8-83a8-ea0f9db709d2\"}], {\"autosize\": false, \"height\": 1000, \"width\": 1000, \"xaxis\": {\"tickfont\": {\"color\": \"black\", \"size\": 12}, \"title\": \"Feature Importances\"}, \"yaxis\": {\"automargin\": true}}, {\"showLink\": true, \"linkText\": \"Export to plot.ly\", \"plotlyServerURL\": \"https://plot.ly\"})});</script>"
      ]
     },
     "metadata": {},
     "output_type": "display_data"
    },
    {
     "name": "stdout",
     "output_type": "stream",
     "text": [
      "\n",
      "\n",
      "\u001b[1mAdaoost Classifier\u001b[0m\n",
      "Accuracy of the model for training data is: 0.871765679983\n",
      "Confusion Matrix for training data is:\n"
     ]
    },
    {
     "data": {
      "text/plain": [
       "Predicted  False  True  __all__\n",
       "Actual                         \n",
       "False       4076   755     4831\n",
       "True         484  4347     4831\n",
       "__all__     4560  5102     9662"
      ]
     },
     "metadata": {},
     "output_type": "display_data"
    },
    {
     "name": "stdout",
     "output_type": "stream",
     "text": [
      "Accuracy of the model for test data is: 0.846380287833\n",
      "Confusion Matrix for test data is:\n"
     ]
    },
    {
     "data": {
      "text/plain": [
       "Predicted  False  True  __all__\n",
       "Actual                         \n",
       "False       6710  1272     7982\n",
       "True         137  1053     1190\n",
       "__all__     6847  2325     9172"
      ]
     },
     "metadata": {},
     "output_type": "display_data"
    },
    {
     "data": {
      "application/vnd.plotly.v1+json": {
       "config": {
        "linkText": "Export to plot.ly",
        "plotlyServerURL": "https://plot.ly",
        "showLink": true
       },
       "data": [
        {
         "marker": {
          "color": "rgb(158,202,225)",
          "line": {
           "color": "rgb(8,48,107)",
           "width": 1.5
          }
         },
         "opacity": 0.6,
         "orientation": "h",
         "text": [
          0.46,
          0.1,
          0.08,
          0.06,
          0.06,
          0.04,
          0.04,
          0.02,
          0.02,
          0.02,
          0.02,
          0.02,
          0.02,
          0.02,
          0.02,
          0,
          0,
          0,
          0,
          0,
          0,
          0
         ],
         "textposition": "outside",
         "type": "bar",
         "uid": "34ab4c58-c72d-40ab-8705-713d921377ed",
         "x": [
          0.46,
          0.1,
          0.08,
          0.06,
          0.06,
          0.04,
          0.04,
          0.02,
          0.02,
          0.02,
          0.02,
          0.02,
          0.02,
          0.02,
          0.02,
          0,
          0,
          0,
          0,
          0,
          0,
          0
         ],
         "y": [
          "http_header_content-length",
          "http_header_content-encoding_gzip",
          "http_header_transfer-encoding_chunked",
          "http_header_pragmano-cache",
          "http_header_cache-control_set_no-store",
          "http_header_cache-control_set_max-age",
          "http_header_connection_keep-alive",
          "http_header_via_1.1",
          "http_header_vary_accept",
          "http_header_server_nginx",
          "http_header_server_apache",
          "http_header_expect-ctmax-age",
          "http_header_cache-control_set_public",
          "http_header_cache-control_set_private",
          "http_header_x-xss-enabled",
          "http_header_cache-control_set_must-revalidate",
          "http_header_content-language_text/html",
          "http_header_connection_close",
          "http_header_strict-transport-security_max-age",
          "http_header_vary_age",
          "http_header_cache-control_set_no-cache",
          "http_header_x-cintent-type-options_nosniff"
         ]
        }
       ],
       "layout": {
        "autosize": false,
        "height": 1000,
        "width": 1000,
        "xaxis": {
         "tickfont": {
          "color": "black",
          "size": 12
         },
         "title": "Feature Importances"
        },
        "yaxis": {
         "automargin": true
        }
       }
      },
      "text/html": [
       "<div id=\"0ebaab4f-da25-4869-a434-ff48644e2bf6\" style=\"height: 1000px; width: 1000px;\" class=\"plotly-graph-div\"></div><script type=\"text/javascript\">require([\"plotly\"], function(Plotly) { window.PLOTLYENV=window.PLOTLYENV || {};window.PLOTLYENV.BASE_URL=\"https://plot.ly\";Plotly.newPlot(\"0ebaab4f-da25-4869-a434-ff48644e2bf6\", [{\"marker\": {\"color\": \"rgb(158,202,225)\", \"line\": {\"color\": \"rgb(8,48,107)\", \"width\": 1.5}}, \"opacity\": 0.6, \"orientation\": \"h\", \"text\": [0.46, 0.1, 0.08, 0.06, 0.06, 0.04, 0.04, 0.02, 0.02, 0.02, 0.02, 0.02, 0.02, 0.02, 0.02, 0.0, 0.0, 0.0, 0.0, 0.0, 0.0, 0.0], \"textposition\": \"outside\", \"x\": [0.46, 0.1, 0.08, 0.06, 0.06, 0.04, 0.04, 0.02, 0.02, 0.02, 0.02, 0.02, 0.02, 0.02, 0.02, 0.0, 0.0, 0.0, 0.0, 0.0, 0.0, 0.0], \"y\": [\"http_header_content-length\", \"http_header_content-encoding_gzip\", \"http_header_transfer-encoding_chunked\", \"http_header_pragmano-cache\", \"http_header_cache-control_set_no-store\", \"http_header_cache-control_set_max-age\", \"http_header_connection_keep-alive\", \"http_header_via_1.1\", \"http_header_vary_accept\", \"http_header_server_nginx\", \"http_header_server_apache\", \"http_header_expect-ctmax-age\", \"http_header_cache-control_set_public\", \"http_header_cache-control_set_private\", \"http_header_x-xss-enabled\", \"http_header_cache-control_set_must-revalidate\", \"http_header_content-language_text/html\", \"http_header_connection_close\", \"http_header_strict-transport-security_max-age\", \"http_header_vary_age\", \"http_header_cache-control_set_no-cache\", \"http_header_x-cintent-type-options_nosniff\"], \"type\": \"bar\", \"uid\": \"34ab4c58-c72d-40ab-8705-713d921377ed\"}], {\"autosize\": false, \"height\": 1000, \"width\": 1000, \"xaxis\": {\"tickfont\": {\"color\": \"black\", \"size\": 12}, \"title\": \"Feature Importances\"}, \"yaxis\": {\"automargin\": true}}, {\"showLink\": true, \"linkText\": \"Export to plot.ly\", \"plotlyServerURL\": \"https://plot.ly\"})});</script>"
      ],
      "text/vnd.plotly.v1+html": [
       "<div id=\"0ebaab4f-da25-4869-a434-ff48644e2bf6\" style=\"height: 1000px; width: 1000px;\" class=\"plotly-graph-div\"></div><script type=\"text/javascript\">require([\"plotly\"], function(Plotly) { window.PLOTLYENV=window.PLOTLYENV || {};window.PLOTLYENV.BASE_URL=\"https://plot.ly\";Plotly.newPlot(\"0ebaab4f-da25-4869-a434-ff48644e2bf6\", [{\"marker\": {\"color\": \"rgb(158,202,225)\", \"line\": {\"color\": \"rgb(8,48,107)\", \"width\": 1.5}}, \"opacity\": 0.6, \"orientation\": \"h\", \"text\": [0.46, 0.1, 0.08, 0.06, 0.06, 0.04, 0.04, 0.02, 0.02, 0.02, 0.02, 0.02, 0.02, 0.02, 0.02, 0.0, 0.0, 0.0, 0.0, 0.0, 0.0, 0.0], \"textposition\": \"outside\", \"x\": [0.46, 0.1, 0.08, 0.06, 0.06, 0.04, 0.04, 0.02, 0.02, 0.02, 0.02, 0.02, 0.02, 0.02, 0.02, 0.0, 0.0, 0.0, 0.0, 0.0, 0.0, 0.0], \"y\": [\"http_header_content-length\", \"http_header_content-encoding_gzip\", \"http_header_transfer-encoding_chunked\", \"http_header_pragmano-cache\", \"http_header_cache-control_set_no-store\", \"http_header_cache-control_set_max-age\", \"http_header_connection_keep-alive\", \"http_header_via_1.1\", \"http_header_vary_accept\", \"http_header_server_nginx\", \"http_header_server_apache\", \"http_header_expect-ctmax-age\", \"http_header_cache-control_set_public\", \"http_header_cache-control_set_private\", \"http_header_x-xss-enabled\", \"http_header_cache-control_set_must-revalidate\", \"http_header_content-language_text/html\", \"http_header_connection_close\", \"http_header_strict-transport-security_max-age\", \"http_header_vary_age\", \"http_header_cache-control_set_no-cache\", \"http_header_x-cintent-type-options_nosniff\"], \"type\": \"bar\", \"uid\": \"34ab4c58-c72d-40ab-8705-713d921377ed\"}], {\"autosize\": false, \"height\": 1000, \"width\": 1000, \"xaxis\": {\"tickfont\": {\"color\": \"black\", \"size\": 12}, \"title\": \"Feature Importances\"}, \"yaxis\": {\"automargin\": true}}, {\"showLink\": true, \"linkText\": \"Export to plot.ly\", \"plotlyServerURL\": \"https://plot.ly\"})});</script>"
      ]
     },
     "metadata": {},
     "output_type": "display_data"
    },
    {
     "name": "stdout",
     "output_type": "stream",
     "text": [
      "\n",
      "\n",
      "\u001b[1mGradientBoosting Classifier\u001b[0m\n",
      "Accuracy of the model for training data is: 0.891326847444\n",
      "Confusion Matrix for training data is:\n"
     ]
    },
    {
     "data": {
      "text/plain": [
       "Predicted  False  True  __all__\n",
       "Actual                         \n",
       "False       4249   582     4831\n",
       "True         468  4363     4831\n",
       "__all__     4717  4945     9662"
      ]
     },
     "metadata": {},
     "output_type": "display_data"
    },
    {
     "name": "stdout",
     "output_type": "stream",
     "text": [
      "Accuracy of the model for test data is: 0.874945486263\n",
      "Confusion Matrix for test data is:\n"
     ]
    },
    {
     "data": {
      "text/plain": [
       "Predicted  False  True  __all__\n",
       "Actual                         \n",
       "False       6957  1025     7982\n",
       "True         122  1068     1190\n",
       "__all__     7079  2093     9172"
      ]
     },
     "metadata": {},
     "output_type": "display_data"
    },
    {
     "data": {
      "application/vnd.plotly.v1+json": {
       "config": {
        "linkText": "Export to plot.ly",
        "plotlyServerURL": "https://plot.ly",
        "showLink": true
       },
       "data": [
        {
         "marker": {
          "color": "rgb(158,202,225)",
          "line": {
           "color": "rgb(8,48,107)",
           "width": 1.5
          }
         },
         "opacity": 0.6,
         "orientation": "h",
         "text": [
          0.5895,
          0.2138,
          0.0517,
          0.0284,
          0.0159,
          0.0144,
          0.0139,
          0.0127,
          0.0121,
          0.0109,
          0.0083,
          0.0054,
          0.0036,
          0.0035,
          0.0034,
          0.0034,
          0.0025,
          0.0023,
          0.0021,
          0.001,
          0.0007,
          0.0005
         ],
         "textposition": "outside",
         "type": "bar",
         "uid": "518ceab0-cff7-4dcc-8d25-1f6464e359fe",
         "x": [
          0.5895184117307316,
          0.2137730571334697,
          0.051698272192910386,
          0.028365947208464897,
          0.015894677255071918,
          0.014435767053980328,
          0.013912021100948644,
          0.012707448375276096,
          0.012072341112668679,
          0.01090465792204306,
          0.008302853398464129,
          0.005384539575283036,
          0.0036473118293637824,
          0.0034718171840086988,
          0.0034182921650955287,
          0.0033540678634114245,
          0.0024684697560192685,
          0.002340036739068252,
          0.0020758391042827473,
          0.0010009332269544683,
          0.0007248578236151988,
          0.000528380248868241
         ],
         "y": [
          "http_header_content-encoding_gzip",
          "http_header_content-length",
          "http_header_transfer-encoding_chunked",
          "http_header_server_apache",
          "http_header_cache-control_set_max-age",
          "http_header_pragmano-cache",
          "http_header_vary_accept",
          "http_header_vary_age",
          "http_header_cache-control_set_must-revalidate",
          "http_header_connection_close",
          "http_header_via_1.1",
          "http_header_x-xss-enabled",
          "http_header_cache-control_set_no-store",
          "http_header_cache-control_set_private",
          "http_header_server_nginx",
          "http_header_expect-ctmax-age",
          "http_header_content-language_text/html",
          "http_header_strict-transport-security_max-age",
          "http_header_connection_keep-alive",
          "http_header_cache-control_set_no-cache",
          "http_header_x-cintent-type-options_nosniff",
          "http_header_cache-control_set_public"
         ]
        }
       ],
       "layout": {
        "autosize": false,
        "height": 1000,
        "width": 1000,
        "xaxis": {
         "tickfont": {
          "color": "black",
          "size": 12
         },
         "title": "Feature Importances"
        },
        "yaxis": {
         "automargin": true
        }
       }
      },
      "text/html": [
       "<div id=\"c95bb6f0-3e61-4d49-8376-00df3f0a4978\" style=\"height: 1000px; width: 1000px;\" class=\"plotly-graph-div\"></div><script type=\"text/javascript\">require([\"plotly\"], function(Plotly) { window.PLOTLYENV=window.PLOTLYENV || {};window.PLOTLYENV.BASE_URL=\"https://plot.ly\";Plotly.newPlot(\"c95bb6f0-3e61-4d49-8376-00df3f0a4978\", [{\"marker\": {\"color\": \"rgb(158,202,225)\", \"line\": {\"color\": \"rgb(8,48,107)\", \"width\": 1.5}}, \"opacity\": 0.6, \"orientation\": \"h\", \"text\": [0.5895, 0.2138, 0.0517, 0.0284, 0.0159, 0.0144, 0.0139, 0.0127, 0.0121, 0.0109, 0.0083, 0.0054, 0.0036, 0.0035, 0.0034, 0.0034, 0.0025, 0.0023, 0.0021, 0.001, 0.0007, 0.0005], \"textposition\": \"outside\", \"x\": [0.5895184117307316, 0.2137730571334697, 0.051698272192910386, 0.028365947208464897, 0.015894677255071918, 0.014435767053980328, 0.013912021100948644, 0.012707448375276096, 0.012072341112668679, 0.01090465792204306, 0.008302853398464129, 0.005384539575283036, 0.0036473118293637824, 0.0034718171840086988, 0.0034182921650955287, 0.0033540678634114245, 0.0024684697560192685, 0.002340036739068252, 0.0020758391042827473, 0.0010009332269544683, 0.0007248578236151988, 0.000528380248868241], \"y\": [\"http_header_content-encoding_gzip\", \"http_header_content-length\", \"http_header_transfer-encoding_chunked\", \"http_header_server_apache\", \"http_header_cache-control_set_max-age\", \"http_header_pragmano-cache\", \"http_header_vary_accept\", \"http_header_vary_age\", \"http_header_cache-control_set_must-revalidate\", \"http_header_connection_close\", \"http_header_via_1.1\", \"http_header_x-xss-enabled\", \"http_header_cache-control_set_no-store\", \"http_header_cache-control_set_private\", \"http_header_server_nginx\", \"http_header_expect-ctmax-age\", \"http_header_content-language_text/html\", \"http_header_strict-transport-security_max-age\", \"http_header_connection_keep-alive\", \"http_header_cache-control_set_no-cache\", \"http_header_x-cintent-type-options_nosniff\", \"http_header_cache-control_set_public\"], \"type\": \"bar\", \"uid\": \"518ceab0-cff7-4dcc-8d25-1f6464e359fe\"}], {\"autosize\": false, \"height\": 1000, \"width\": 1000, \"xaxis\": {\"tickfont\": {\"color\": \"black\", \"size\": 12}, \"title\": \"Feature Importances\"}, \"yaxis\": {\"automargin\": true}}, {\"showLink\": true, \"linkText\": \"Export to plot.ly\", \"plotlyServerURL\": \"https://plot.ly\"})});</script>"
      ],
      "text/vnd.plotly.v1+html": [
       "<div id=\"c95bb6f0-3e61-4d49-8376-00df3f0a4978\" style=\"height: 1000px; width: 1000px;\" class=\"plotly-graph-div\"></div><script type=\"text/javascript\">require([\"plotly\"], function(Plotly) { window.PLOTLYENV=window.PLOTLYENV || {};window.PLOTLYENV.BASE_URL=\"https://plot.ly\";Plotly.newPlot(\"c95bb6f0-3e61-4d49-8376-00df3f0a4978\", [{\"marker\": {\"color\": \"rgb(158,202,225)\", \"line\": {\"color\": \"rgb(8,48,107)\", \"width\": 1.5}}, \"opacity\": 0.6, \"orientation\": \"h\", \"text\": [0.5895, 0.2138, 0.0517, 0.0284, 0.0159, 0.0144, 0.0139, 0.0127, 0.0121, 0.0109, 0.0083, 0.0054, 0.0036, 0.0035, 0.0034, 0.0034, 0.0025, 0.0023, 0.0021, 0.001, 0.0007, 0.0005], \"textposition\": \"outside\", \"x\": [0.5895184117307316, 0.2137730571334697, 0.051698272192910386, 0.028365947208464897, 0.015894677255071918, 0.014435767053980328, 0.013912021100948644, 0.012707448375276096, 0.012072341112668679, 0.01090465792204306, 0.008302853398464129, 0.005384539575283036, 0.0036473118293637824, 0.0034718171840086988, 0.0034182921650955287, 0.0033540678634114245, 0.0024684697560192685, 0.002340036739068252, 0.0020758391042827473, 0.0010009332269544683, 0.0007248578236151988, 0.000528380248868241], \"y\": [\"http_header_content-encoding_gzip\", \"http_header_content-length\", \"http_header_transfer-encoding_chunked\", \"http_header_server_apache\", \"http_header_cache-control_set_max-age\", \"http_header_pragmano-cache\", \"http_header_vary_accept\", \"http_header_vary_age\", \"http_header_cache-control_set_must-revalidate\", \"http_header_connection_close\", \"http_header_via_1.1\", \"http_header_x-xss-enabled\", \"http_header_cache-control_set_no-store\", \"http_header_cache-control_set_private\", \"http_header_server_nginx\", \"http_header_expect-ctmax-age\", \"http_header_content-language_text/html\", \"http_header_strict-transport-security_max-age\", \"http_header_connection_keep-alive\", \"http_header_cache-control_set_no-cache\", \"http_header_x-cintent-type-options_nosniff\", \"http_header_cache-control_set_public\"], \"type\": \"bar\", \"uid\": \"518ceab0-cff7-4dcc-8d25-1f6464e359fe\"}], {\"autosize\": false, \"height\": 1000, \"width\": 1000, \"xaxis\": {\"tickfont\": {\"color\": \"black\", \"size\": 12}, \"title\": \"Feature Importances\"}, \"yaxis\": {\"automargin\": true}}, {\"showLink\": true, \"linkText\": \"Export to plot.ly\", \"plotlyServerURL\": \"https://plot.ly\"})});</script>"
      ]
     },
     "metadata": {},
     "output_type": "display_data"
    },
    {
     "name": "stdout",
     "output_type": "stream",
     "text": [
      "\n",
      "\n",
      "\u001b[1mExtraTree Classifier\u001b[0m\n",
      "Accuracy of the model for training data is: 0.933243634858\n",
      "Confusion Matrix for training data is:\n"
     ]
    },
    {
     "data": {
      "text/plain": [
       "Predicted  False  True  __all__\n",
       "Actual                         \n",
       "False       4362   469     4831\n",
       "True         176  4655     4831\n",
       "__all__     4538  5124     9662"
      ]
     },
     "metadata": {},
     "output_type": "display_data"
    },
    {
     "name": "stdout",
     "output_type": "stream",
     "text": [
      "Accuracy of the model for test data is: 0.874073266463\n",
      "Confusion Matrix for test data is:\n"
     ]
    },
    {
     "data": {
      "text/plain": [
       "Predicted  False  True  __all__\n",
       "Actual                         \n",
       "False       6915  1067     7982\n",
       "True          88  1102     1190\n",
       "__all__     7003  2169     9172"
      ]
     },
     "metadata": {},
     "output_type": "display_data"
    },
    {
     "data": {
      "application/vnd.plotly.v1+json": {
       "config": {
        "linkText": "Export to plot.ly",
        "plotlyServerURL": "https://plot.ly",
        "showLink": true
       },
       "data": [
        {
         "marker": {
          "color": "rgb(158,202,225)",
          "line": {
           "color": "rgb(8,48,107)",
           "width": 1.5
          }
         },
         "opacity": 0.6,
         "orientation": "h",
         "text": [
          0.1285,
          0.1213,
          0.1184,
          0.1147,
          0.0732,
          0.0688,
          0.0635,
          0.0597,
          0.0383,
          0.0276,
          0.0224,
          0.0217,
          0.0185,
          0.0173,
          0.0168,
          0.0166,
          0.0163,
          0.0144,
          0.0113,
          0.0111,
          0.0101,
          0.0095
         ],
         "textposition": "outside",
         "type": "bar",
         "uid": "1cc93f63-6ff2-4491-bf5c-9862530fb0d0",
         "x": [
          0.12848392076317178,
          0.1213152058275789,
          0.1183603573570881,
          0.11470839552433273,
          0.0731642567162882,
          0.06880539326114517,
          0.06353303152276238,
          0.05972976235396536,
          0.03827815985248419,
          0.027579755413553314,
          0.02242100038788723,
          0.021718279804268683,
          0.018483173104964522,
          0.01726151976031231,
          0.016827334207007265,
          0.016577206450844793,
          0.016301811671426487,
          0.014389057100917035,
          0.011255289681487065,
          0.01114800171621879,
          0.010140885443563757,
          0.009518202078731965
         ],
         "y": [
          "http_header_content-length",
          "http_header_transfer-encoding_chunked",
          "http_header_vary_accept",
          "http_header_content-encoding_gzip",
          "http_header_cache-control_set_max-age",
          "http_header_content-language_text/html",
          "http_header_server_apache",
          "http_header_connection_keep-alive",
          "http_header_server_nginx",
          "http_header_vary_age",
          "http_header_cache-control_set_must-revalidate",
          "http_header_cache-control_set_private",
          "http_header_pragmano-cache",
          "http_header_cache-control_set_no-cache",
          "http_header_strict-transport-security_max-age",
          "http_header_connection_close",
          "http_header_via_1.1",
          "http_header_x-xss-enabled",
          "http_header_x-cintent-type-options_nosniff",
          "http_header_expect-ctmax-age",
          "http_header_cache-control_set_public",
          "http_header_cache-control_set_no-store"
         ]
        }
       ],
       "layout": {
        "autosize": false,
        "height": 1000,
        "width": 1000,
        "xaxis": {
         "tickfont": {
          "color": "black",
          "size": 12
         },
         "title": "Feature Importances"
        },
        "yaxis": {
         "automargin": true
        }
       }
      },
      "text/html": [
       "<div id=\"b93915be-2240-4036-8804-fbfcb503d01e\" style=\"height: 1000px; width: 1000px;\" class=\"plotly-graph-div\"></div><script type=\"text/javascript\">require([\"plotly\"], function(Plotly) { window.PLOTLYENV=window.PLOTLYENV || {};window.PLOTLYENV.BASE_URL=\"https://plot.ly\";Plotly.newPlot(\"b93915be-2240-4036-8804-fbfcb503d01e\", [{\"marker\": {\"color\": \"rgb(158,202,225)\", \"line\": {\"color\": \"rgb(8,48,107)\", \"width\": 1.5}}, \"opacity\": 0.6, \"orientation\": \"h\", \"text\": [0.1285, 0.1213, 0.1184, 0.1147, 0.0732, 0.0688, 0.0635, 0.0597, 0.0383, 0.0276, 0.0224, 0.0217, 0.0185, 0.0173, 0.0168, 0.0166, 0.0163, 0.0144, 0.0113, 0.0111, 0.0101, 0.0095], \"textposition\": \"outside\", \"x\": [0.12848392076317178, 0.1213152058275789, 0.1183603573570881, 0.11470839552433273, 0.0731642567162882, 0.06880539326114517, 0.06353303152276238, 0.05972976235396536, 0.03827815985248419, 0.027579755413553314, 0.02242100038788723, 0.021718279804268683, 0.018483173104964522, 0.01726151976031231, 0.016827334207007265, 0.016577206450844793, 0.016301811671426487, 0.014389057100917035, 0.011255289681487065, 0.01114800171621879, 0.010140885443563757, 0.009518202078731965], \"y\": [\"http_header_content-length\", \"http_header_transfer-encoding_chunked\", \"http_header_vary_accept\", \"http_header_content-encoding_gzip\", \"http_header_cache-control_set_max-age\", \"http_header_content-language_text/html\", \"http_header_server_apache\", \"http_header_connection_keep-alive\", \"http_header_server_nginx\", \"http_header_vary_age\", \"http_header_cache-control_set_must-revalidate\", \"http_header_cache-control_set_private\", \"http_header_pragmano-cache\", \"http_header_cache-control_set_no-cache\", \"http_header_strict-transport-security_max-age\", \"http_header_connection_close\", \"http_header_via_1.1\", \"http_header_x-xss-enabled\", \"http_header_x-cintent-type-options_nosniff\", \"http_header_expect-ctmax-age\", \"http_header_cache-control_set_public\", \"http_header_cache-control_set_no-store\"], \"type\": \"bar\", \"uid\": \"1cc93f63-6ff2-4491-bf5c-9862530fb0d0\"}], {\"autosize\": false, \"height\": 1000, \"width\": 1000, \"xaxis\": {\"tickfont\": {\"color\": \"black\", \"size\": 12}, \"title\": \"Feature Importances\"}, \"yaxis\": {\"automargin\": true}}, {\"showLink\": true, \"linkText\": \"Export to plot.ly\", \"plotlyServerURL\": \"https://plot.ly\"})});</script>"
      ],
      "text/vnd.plotly.v1+html": [
       "<div id=\"b93915be-2240-4036-8804-fbfcb503d01e\" style=\"height: 1000px; width: 1000px;\" class=\"plotly-graph-div\"></div><script type=\"text/javascript\">require([\"plotly\"], function(Plotly) { window.PLOTLYENV=window.PLOTLYENV || {};window.PLOTLYENV.BASE_URL=\"https://plot.ly\";Plotly.newPlot(\"b93915be-2240-4036-8804-fbfcb503d01e\", [{\"marker\": {\"color\": \"rgb(158,202,225)\", \"line\": {\"color\": \"rgb(8,48,107)\", \"width\": 1.5}}, \"opacity\": 0.6, \"orientation\": \"h\", \"text\": [0.1285, 0.1213, 0.1184, 0.1147, 0.0732, 0.0688, 0.0635, 0.0597, 0.0383, 0.0276, 0.0224, 0.0217, 0.0185, 0.0173, 0.0168, 0.0166, 0.0163, 0.0144, 0.0113, 0.0111, 0.0101, 0.0095], \"textposition\": \"outside\", \"x\": [0.12848392076317178, 0.1213152058275789, 0.1183603573570881, 0.11470839552433273, 0.0731642567162882, 0.06880539326114517, 0.06353303152276238, 0.05972976235396536, 0.03827815985248419, 0.027579755413553314, 0.02242100038788723, 0.021718279804268683, 0.018483173104964522, 0.01726151976031231, 0.016827334207007265, 0.016577206450844793, 0.016301811671426487, 0.014389057100917035, 0.011255289681487065, 0.01114800171621879, 0.010140885443563757, 0.009518202078731965], \"y\": [\"http_header_content-length\", \"http_header_transfer-encoding_chunked\", \"http_header_vary_accept\", \"http_header_content-encoding_gzip\", \"http_header_cache-control_set_max-age\", \"http_header_content-language_text/html\", \"http_header_server_apache\", \"http_header_connection_keep-alive\", \"http_header_server_nginx\", \"http_header_vary_age\", \"http_header_cache-control_set_must-revalidate\", \"http_header_cache-control_set_private\", \"http_header_pragmano-cache\", \"http_header_cache-control_set_no-cache\", \"http_header_strict-transport-security_max-age\", \"http_header_connection_close\", \"http_header_via_1.1\", \"http_header_x-xss-enabled\", \"http_header_x-cintent-type-options_nosniff\", \"http_header_expect-ctmax-age\", \"http_header_cache-control_set_public\", \"http_header_cache-control_set_no-store\"], \"type\": \"bar\", \"uid\": \"1cc93f63-6ff2-4491-bf5c-9862530fb0d0\"}], {\"autosize\": false, \"height\": 1000, \"width\": 1000, \"xaxis\": {\"tickfont\": {\"color\": \"black\", \"size\": 12}, \"title\": \"Feature Importances\"}, \"yaxis\": {\"automargin\": true}}, {\"showLink\": true, \"linkText\": \"Export to plot.ly\", \"plotlyServerURL\": \"https://plot.ly\"})});</script>"
      ]
     },
     "metadata": {},
     "output_type": "display_data"
    },
    {
     "name": "stdout",
     "output_type": "stream",
     "text": [
      "\n",
      "\n",
      "\u001b[1mBagging Classifier\u001b[0m\n",
      "Accuracy of the model for training data is: 0.930138687642\n",
      "Confusion Matrix for training data is:\n"
     ]
    },
    {
     "data": {
      "text/plain": [
       "Predicted  False  True  __all__\n",
       "Actual                         \n",
       "False       4321   510     4831\n",
       "True         165  4666     4831\n",
       "__all__     4486  5176     9662"
      ]
     },
     "metadata": {},
     "output_type": "display_data"
    },
    {
     "name": "stdout",
     "output_type": "stream",
     "text": [
      "Accuracy of the model for test data is: 0.865787178369\n",
      "Confusion Matrix for test data is:\n"
     ]
    },
    {
     "data": {
      "text/plain": [
       "Predicted  False  True  __all__\n",
       "Actual                         \n",
       "False       6845  1137     7982\n",
       "True          94  1096     1190\n",
       "__all__     6939  2233     9172"
      ]
     },
     "metadata": {},
     "output_type": "display_data"
    },
    {
     "name": "stdout",
     "output_type": "stream",
     "text": [
      "\n",
      "\n",
      "\u001b[1mNeural Network-1\u001b[0m\n",
      "The accuracy of the model on training data is: 0.908197060564\n"
     ]
    },
    {
     "data": {
      "text/plain": [
       "Predicted  False  True  __all__\n",
       "Actual                         \n",
       "False       4291   540     4831\n",
       "True         347  4484     4831\n",
       "__all__     4638  5024     9662"
      ]
     },
     "metadata": {},
     "output_type": "display_data"
    },
    {
     "name": "stdout",
     "output_type": "stream",
     "text": [
      "The accuracy of the model on test data is: 0.882250327082\n"
     ]
    },
    {
     "data": {
      "text/plain": [
       "Predicted  False  True  __all__\n",
       "Actual                         \n",
       "False       7007   975     7982\n",
       "True         105  1085     1190\n",
       "__all__     7112  2060     9172"
      ]
     },
     "metadata": {},
     "output_type": "display_data"
    },
    {
     "name": "stdout",
     "output_type": "stream",
     "text": [
      "\n",
      "\n"
     ]
    }
   ],
   "source": [
    "feat_imp=[None]*4\n",
    "j=0\n",
    "for i in range(0,8):\n",
    "    if i>=2 and i<=5:\n",
    "        model,cm_train,cm_test,acc_train,acc_test,roc_auc,feat_imp[j],mcc=f[i](X_train,Y_train,scaled_X_test,test_Y,columns[:-2])\n",
    "        j=j+1\n",
    "    else:\n",
    "        model,cm_train,cm_test,acc_train,acc_test,roc_auc,mcc=f[i](X_train,Y_train,scaled_X_test,test_Y)\n",
    "    table_80_90_train.loc[i]=   ([acc_train,cm_train.TP,cm_train.TN,cm_train.FP,cm_train.FN,cm_train.FPR,cm_train.FNR])\n",
    "    table_80_90_test.loc[i] =   ([acc_test ,cm_test.TP, cm_test.TN, cm_test.FP, cm_test.FN, cm_test.FPR, cm_test.FNR,roc_auc,mcc])\n",
    "    print(\"\\n\")"
   ]
  },
  {
   "cell_type": "markdown",
   "metadata": {},
   "source": [
    "### <a id='3.A' style=\"text-decoration : none; color : #000000;\"> A. Results</a>"
   ]
  },
  {
   "cell_type": "code",
   "execution_count": 46,
   "metadata": {},
   "outputs": [
    {
     "data": {
      "application/vnd.plotly.v1+json": {
       "config": {
        "linkText": "Export to plot.ly",
        "plotlyServerURL": "https://plot.ly",
        "showLink": true
       },
       "data": [
        {
         "mode": "lines",
         "name": "KNN_model",
         "type": "scatter",
         "uid": "26cdc98c-7a11-4b4c-8f03-c45e91518d34",
         "x": [
          "accuracy",
          "FPR",
          "FNR",
          "auc"
         ],
         "y": [
          0.8894461404273877,
          0.1083688298672012,
          0.12521008403361344,
          0.8832105430495927
         ]
        },
        {
         "mode": "lines+markers",
         "name": "Logistic Regression",
         "type": "scatter",
         "uid": "b2582c41-e10a-491b-af12-c056ce28bd57",
         "x": [
          "accuracy",
          "FPR",
          "FNR",
          "auc"
         ],
         "y": [
          0.8420191888355866,
          0.16474567777499374,
          0.11260504201680673,
          0.8613246401040998
         ]
        },
        {
         "marker": {
          "symbol": "x"
         },
         "mode": "lines+markers",
         "name": "Random Forest",
         "type": "scatter",
         "uid": "43e275f8-2c99-4353-a942-20b4324af1c8",
         "x": [
          "accuracy",
          "FPR",
          "FNR",
          "auc"
         ],
         "y": [
          0.8746184038377671,
          0.13192182410423453,
          0.08151260504201681,
          0.8932827854268742
         ]
        },
        {
         "mode": "lines",
         "name": "Ada Boost",
         "type": "scatter",
         "uid": "d4d9b0da-a7d1-4963-b36d-c9b8ee4ff6ba",
         "x": [
          "accuracy",
          "FPR",
          "FNR",
          "auc"
         ],
         "y": [
          0.8463802878325338,
          0.15935855675269356,
          0.11512605042016806,
          0.8627576964135691
         ]
        },
        {
         "mode": "lines+markers",
         "name": "GradientBoosting",
         "type": "scatter",
         "uid": "c5cb8e10-2595-419b-96e9-b68b325d0473",
         "x": [
          "accuracy",
          "FPR",
          "FNR",
          "auc"
         ],
         "y": [
          0.8749454862625382,
          0.12841393134552745,
          0.10252100840336134,
          0.8845325301255555
         ]
        },
        {
         "marker": {
          "symbol": "x"
         },
         "mode": "lines+markers",
         "name": "ExtraTree Classifier",
         "type": "scatter",
         "uid": "e1a95e1c-ba2b-4005-b99f-a6eed8f649e0",
         "x": [
          "accuracy",
          "FPR",
          "FNR",
          "auc"
         ],
         "y": [
          0.8740732664631488,
          0.13367577048358809,
          0.07394957983193277,
          0.8961873248422396
         ]
        },
        {
         "marker": {
          "symbol": "x"
         },
         "mode": "lines+markers",
         "name": "Bagging",
         "type": "scatter",
         "uid": "6ac60d10-1a59-4328-be1e-644dfaf55a62",
         "x": [
          "accuracy",
          "FPR",
          "FNR",
          "auc"
         ],
         "y": [
          0.865787178368949,
          0.1424455023803558,
          0.07899159663865546,
          0.8892814504904943
         ]
        },
        {
         "marker": {
          "symbol": "x"
         },
         "mode": "lines+markers",
         "name": "Neural Network",
         "type": "scatter",
         "uid": "135b8a29-5cbc-4cd9-99de-5a27d70b6f39",
         "x": [
          "accuracy",
          "FPR",
          "FNR",
          "auc"
         ],
         "y": [
          0.8822503270824248,
          0.12214983713355049,
          0.08823529411764706,
          0.8892814504904943
         ]
        }
       ],
       "layout": {
        "title": "Result comparision for Features selected in Section 1",
        "yaxis": {
         "dtick": 0.05,
         "tick0": 0
        }
       }
      },
      "text/html": [
       "<div id=\"e7edd863-3706-42c1-b204-1b6a22d0d537\" style=\"height: 525px; width: 100%;\" class=\"plotly-graph-div\"></div><script type=\"text/javascript\">require([\"plotly\"], function(Plotly) { window.PLOTLYENV=window.PLOTLYENV || {};window.PLOTLYENV.BASE_URL=\"https://plot.ly\";Plotly.newPlot(\"e7edd863-3706-42c1-b204-1b6a22d0d537\", [{\"mode\": \"lines\", \"name\": \"KNN_model\", \"x\": [\"accuracy\", \"FPR\", \"FNR\", \"auc\"], \"y\": [0.8894461404273877, 0.1083688298672012, 0.12521008403361344, 0.8832105430495927], \"type\": \"scatter\", \"uid\": \"26cdc98c-7a11-4b4c-8f03-c45e91518d34\"}, {\"mode\": \"lines+markers\", \"name\": \"Logistic Regression\", \"x\": [\"accuracy\", \"FPR\", \"FNR\", \"auc\"], \"y\": [0.8420191888355866, 0.16474567777499374, 0.11260504201680673, 0.8613246401040998], \"type\": \"scatter\", \"uid\": \"b2582c41-e10a-491b-af12-c056ce28bd57\"}, {\"marker\": {\"symbol\": \"x\"}, \"mode\": \"lines+markers\", \"name\": \"Random Forest\", \"x\": [\"accuracy\", \"FPR\", \"FNR\", \"auc\"], \"y\": [0.8746184038377671, 0.13192182410423453, 0.08151260504201681, 0.8932827854268742], \"type\": \"scatter\", \"uid\": \"43e275f8-2c99-4353-a942-20b4324af1c8\"}, {\"mode\": \"lines\", \"name\": \"Ada Boost\", \"x\": [\"accuracy\", \"FPR\", \"FNR\", \"auc\"], \"y\": [0.8463802878325338, 0.15935855675269356, 0.11512605042016806, 0.8627576964135691], \"type\": \"scatter\", \"uid\": \"d4d9b0da-a7d1-4963-b36d-c9b8ee4ff6ba\"}, {\"mode\": \"lines+markers\", \"name\": \"GradientBoosting\", \"x\": [\"accuracy\", \"FPR\", \"FNR\", \"auc\"], \"y\": [0.8749454862625382, 0.12841393134552745, 0.10252100840336134, 0.8845325301255555], \"type\": \"scatter\", \"uid\": \"c5cb8e10-2595-419b-96e9-b68b325d0473\"}, {\"marker\": {\"symbol\": \"x\"}, \"mode\": \"lines+markers\", \"name\": \"ExtraTree Classifier\", \"x\": [\"accuracy\", \"FPR\", \"FNR\", \"auc\"], \"y\": [0.8740732664631488, 0.13367577048358809, 0.07394957983193277, 0.8961873248422396], \"type\": \"scatter\", \"uid\": \"e1a95e1c-ba2b-4005-b99f-a6eed8f649e0\"}, {\"marker\": {\"symbol\": \"x\"}, \"mode\": \"lines+markers\", \"name\": \"Bagging\", \"x\": [\"accuracy\", \"FPR\", \"FNR\", \"auc\"], \"y\": [0.865787178368949, 0.1424455023803558, 0.07899159663865546, 0.8892814504904943], \"type\": \"scatter\", \"uid\": \"6ac60d10-1a59-4328-be1e-644dfaf55a62\"}, {\"marker\": {\"symbol\": \"x\"}, \"mode\": \"lines+markers\", \"name\": \"Neural Network\", \"x\": [\"accuracy\", \"FPR\", \"FNR\", \"auc\"], \"y\": [0.8822503270824248, 0.12214983713355049, 0.08823529411764706, 0.8892814504904943], \"type\": \"scatter\", \"uid\": \"135b8a29-5cbc-4cd9-99de-5a27d70b6f39\"}], {\"title\": \"Result comparision for Features selected in Section 1\", \"yaxis\": {\"dtick\": 0.05, \"tick0\": 0}}, {\"showLink\": true, \"linkText\": \"Export to plot.ly\", \"plotlyServerURL\": \"https://plot.ly\"})});</script><script type=\"text/javascript\">window.addEventListener(\"resize\", function(){window._Plotly.Plots.resize(document.getElementById(\"e7edd863-3706-42c1-b204-1b6a22d0d537\"));});</script>"
      ],
      "text/vnd.plotly.v1+html": [
       "<div id=\"e7edd863-3706-42c1-b204-1b6a22d0d537\" style=\"height: 525px; width: 100%;\" class=\"plotly-graph-div\"></div><script type=\"text/javascript\">require([\"plotly\"], function(Plotly) { window.PLOTLYENV=window.PLOTLYENV || {};window.PLOTLYENV.BASE_URL=\"https://plot.ly\";Plotly.newPlot(\"e7edd863-3706-42c1-b204-1b6a22d0d537\", [{\"mode\": \"lines\", \"name\": \"KNN_model\", \"x\": [\"accuracy\", \"FPR\", \"FNR\", \"auc\"], \"y\": [0.8894461404273877, 0.1083688298672012, 0.12521008403361344, 0.8832105430495927], \"type\": \"scatter\", \"uid\": \"26cdc98c-7a11-4b4c-8f03-c45e91518d34\"}, {\"mode\": \"lines+markers\", \"name\": \"Logistic Regression\", \"x\": [\"accuracy\", \"FPR\", \"FNR\", \"auc\"], \"y\": [0.8420191888355866, 0.16474567777499374, 0.11260504201680673, 0.8613246401040998], \"type\": \"scatter\", \"uid\": \"b2582c41-e10a-491b-af12-c056ce28bd57\"}, {\"marker\": {\"symbol\": \"x\"}, \"mode\": \"lines+markers\", \"name\": \"Random Forest\", \"x\": [\"accuracy\", \"FPR\", \"FNR\", \"auc\"], \"y\": [0.8746184038377671, 0.13192182410423453, 0.08151260504201681, 0.8932827854268742], \"type\": \"scatter\", \"uid\": \"43e275f8-2c99-4353-a942-20b4324af1c8\"}, {\"mode\": \"lines\", \"name\": \"Ada Boost\", \"x\": [\"accuracy\", \"FPR\", \"FNR\", \"auc\"], \"y\": [0.8463802878325338, 0.15935855675269356, 0.11512605042016806, 0.8627576964135691], \"type\": \"scatter\", \"uid\": \"d4d9b0da-a7d1-4963-b36d-c9b8ee4ff6ba\"}, {\"mode\": \"lines+markers\", \"name\": \"GradientBoosting\", \"x\": [\"accuracy\", \"FPR\", \"FNR\", \"auc\"], \"y\": [0.8749454862625382, 0.12841393134552745, 0.10252100840336134, 0.8845325301255555], \"type\": \"scatter\", \"uid\": \"c5cb8e10-2595-419b-96e9-b68b325d0473\"}, {\"marker\": {\"symbol\": \"x\"}, \"mode\": \"lines+markers\", \"name\": \"ExtraTree Classifier\", \"x\": [\"accuracy\", \"FPR\", \"FNR\", \"auc\"], \"y\": [0.8740732664631488, 0.13367577048358809, 0.07394957983193277, 0.8961873248422396], \"type\": \"scatter\", \"uid\": \"e1a95e1c-ba2b-4005-b99f-a6eed8f649e0\"}, {\"marker\": {\"symbol\": \"x\"}, \"mode\": \"lines+markers\", \"name\": \"Bagging\", \"x\": [\"accuracy\", \"FPR\", \"FNR\", \"auc\"], \"y\": [0.865787178368949, 0.1424455023803558, 0.07899159663865546, 0.8892814504904943], \"type\": \"scatter\", \"uid\": \"6ac60d10-1a59-4328-be1e-644dfaf55a62\"}, {\"marker\": {\"symbol\": \"x\"}, \"mode\": \"lines+markers\", \"name\": \"Neural Network\", \"x\": [\"accuracy\", \"FPR\", \"FNR\", \"auc\"], \"y\": [0.8822503270824248, 0.12214983713355049, 0.08823529411764706, 0.8892814504904943], \"type\": \"scatter\", \"uid\": \"135b8a29-5cbc-4cd9-99de-5a27d70b6f39\"}], {\"title\": \"Result comparision for Features selected in Section 1\", \"yaxis\": {\"dtick\": 0.05, \"tick0\": 0}}, {\"showLink\": true, \"linkText\": \"Export to plot.ly\", \"plotlyServerURL\": \"https://plot.ly\"})});</script><script type=\"text/javascript\">window.addEventListener(\"resize\", function(){window._Plotly.Plots.resize(document.getElementById(\"e7edd863-3706-42c1-b204-1b6a22d0d537\"));});</script>"
      ]
     },
     "metadata": {},
     "output_type": "display_data"
    }
   ],
   "source": [
    "trace0 = go.Scatter(x=table_80_90_test.iloc[0].index.values[[0,5,6,7]],\n",
    "                    y=table_80_90_test.iloc[0].values[[0,5,6,7]],\n",
    "                    mode = 'lines',\n",
    "                    name = 'KNN_model')\n",
    "\n",
    "trace1 = go.Scatter(x=table_80_90_test.iloc[1].index.values[[0,5,6,7]],\n",
    "                    y=table_80_90_test.iloc[1].values[[0,5,6,7]],\n",
    "                    mode = 'lines+markers',\n",
    "                    name = 'Logistic Regression')\n",
    "\n",
    "trace2 = go.Scatter(x=table_80_90_test.iloc[2].index.values[[0,5,6,7]],\n",
    "                    y=table_80_90_test.iloc[2].values[[0,5,6,7]],\n",
    "                    mode = 'lines+markers',marker=dict(symbol='x'),\n",
    "                    name = 'Random Forest')\n",
    "\n",
    "\n",
    "trace3 = go.Scatter(x=table_80_90_test.iloc[3].index.values[[0,5,6,7]],\n",
    "                    y=table_80_90_test.iloc[3].values[[0,5,6,7]],\n",
    "                    mode = 'lines',\n",
    "                    name = 'Ada Boost')\n",
    "\n",
    "trace4 = go.Scatter(x=table_80_90_test.iloc[4].index.values[[0,5,6,7]],\n",
    "                    y=table_80_90_test.iloc[4].values[[0,5,6,7]],\n",
    "                    mode = 'lines+markers',\n",
    "                    name = 'GradientBoosting')\n",
    "\n",
    "trace5 = go.Scatter(x=table_80_90_test.iloc[5].index.values[[0,5,6,7]],\n",
    "                    y=table_80_90_test.iloc[5].values[[0,5,6,7]],\n",
    "                    mode = 'lines+markers',marker=dict(symbol='x'),\n",
    "                    name = 'ExtraTree Classifier')\n",
    "\n",
    "trace6 = go.Scatter(x=table_80_90_test.iloc[6].index.values[[0,5,6,7]],\n",
    "                    y=table_80_90_test.iloc[6].values[[0,5,6,7]],\n",
    "                    mode = 'lines+markers',marker=dict(symbol='x'),\n",
    "                    name = 'Bagging')\n",
    "\n",
    "trace7 = go.Scatter(x=table_80_90_test.iloc[7].index.values[[0,5,6,7]],\n",
    "                    y=table_80_90_test.iloc[7].values[[0,5,6,7]],\n",
    "                    mode = 'lines+markers',marker=dict(symbol='x'),\n",
    "                    name = 'Neural Network')\n",
    "\n",
    "\n",
    "\n",
    "data = [trace0, trace1, trace2, trace3, trace4, trace5, trace6, trace7]\n",
    "layout = go.Layout(yaxis=dict(tick0=0,dtick=0.05),title='Result comparision for Features selected in Section 1')\n",
    "fig = go.Figure(data=data, layout=layout)\n",
    "\n",
    "iplot(fig, filename='Result')"
   ]
  },
  {
   "cell_type": "code",
   "execution_count": 47,
   "metadata": {},
   "outputs": [
    {
     "name": "stdout",
     "output_type": "stream",
     "text": [
      "Training Results\n"
     ]
    },
    {
     "data": {
      "text/html": [
       "<div>\n",
       "<style scoped>\n",
       "    .dataframe tbody tr th:only-of-type {\n",
       "        vertical-align: middle;\n",
       "    }\n",
       "\n",
       "    .dataframe tbody tr th {\n",
       "        vertical-align: top;\n",
       "    }\n",
       "\n",
       "    .dataframe thead th {\n",
       "        text-align: right;\n",
       "    }\n",
       "</style>\n",
       "<table border=\"1\" class=\"dataframe\">\n",
       "  <thead>\n",
       "    <tr style=\"text-align: right;\">\n",
       "      <th></th>\n",
       "      <th>accuracy</th>\n",
       "      <th>TP</th>\n",
       "      <th>TN</th>\n",
       "      <th>FP</th>\n",
       "      <th>FN</th>\n",
       "      <th>FPR</th>\n",
       "      <th>FNR</th>\n",
       "    </tr>\n",
       "    <tr>\n",
       "      <th>index</th>\n",
       "      <th></th>\n",
       "      <th></th>\n",
       "      <th></th>\n",
       "      <th></th>\n",
       "      <th></th>\n",
       "      <th></th>\n",
       "      <th></th>\n",
       "    </tr>\n",
       "  </thead>\n",
       "  <tbody>\n",
       "    <tr>\n",
       "      <th>KNeighborsClassifier</th>\n",
       "      <td>0.897847</td>\n",
       "      <td>4304.0</td>\n",
       "      <td>4371.0</td>\n",
       "      <td>460.0</td>\n",
       "      <td>527.0</td>\n",
       "      <td>0.095218</td>\n",
       "      <td>0.109087</td>\n",
       "    </tr>\n",
       "    <tr>\n",
       "      <th>LogisticRegression</th>\n",
       "      <td>0.864831</td>\n",
       "      <td>4328.0</td>\n",
       "      <td>4028.0</td>\n",
       "      <td>803.0</td>\n",
       "      <td>503.0</td>\n",
       "      <td>0.166218</td>\n",
       "      <td>0.104119</td>\n",
       "    </tr>\n",
       "    <tr>\n",
       "      <th>RandomForestClassifier</th>\n",
       "      <td>0.929518</td>\n",
       "      <td>4640.0</td>\n",
       "      <td>4341.0</td>\n",
       "      <td>490.0</td>\n",
       "      <td>191.0</td>\n",
       "      <td>0.101428</td>\n",
       "      <td>0.039536</td>\n",
       "    </tr>\n",
       "    <tr>\n",
       "      <th>AdaBoostClassifier</th>\n",
       "      <td>0.871766</td>\n",
       "      <td>4347.0</td>\n",
       "      <td>4076.0</td>\n",
       "      <td>755.0</td>\n",
       "      <td>484.0</td>\n",
       "      <td>0.156282</td>\n",
       "      <td>0.100186</td>\n",
       "    </tr>\n",
       "    <tr>\n",
       "      <th>GradientBoostingClassifier</th>\n",
       "      <td>0.891327</td>\n",
       "      <td>4363.0</td>\n",
       "      <td>4249.0</td>\n",
       "      <td>582.0</td>\n",
       "      <td>468.0</td>\n",
       "      <td>0.120472</td>\n",
       "      <td>0.096874</td>\n",
       "    </tr>\n",
       "    <tr>\n",
       "      <th>ExtraTreeClassifier</th>\n",
       "      <td>0.933244</td>\n",
       "      <td>4655.0</td>\n",
       "      <td>4362.0</td>\n",
       "      <td>469.0</td>\n",
       "      <td>176.0</td>\n",
       "      <td>0.097081</td>\n",
       "      <td>0.036431</td>\n",
       "    </tr>\n",
       "    <tr>\n",
       "      <th>BaggingClassifier</th>\n",
       "      <td>0.930139</td>\n",
       "      <td>4666.0</td>\n",
       "      <td>4321.0</td>\n",
       "      <td>510.0</td>\n",
       "      <td>165.0</td>\n",
       "      <td>0.105568</td>\n",
       "      <td>0.034154</td>\n",
       "    </tr>\n",
       "    <tr>\n",
       "      <th>Neural Network-1</th>\n",
       "      <td>0.908197</td>\n",
       "      <td>4484.0</td>\n",
       "      <td>4291.0</td>\n",
       "      <td>540.0</td>\n",
       "      <td>347.0</td>\n",
       "      <td>0.111778</td>\n",
       "      <td>0.071828</td>\n",
       "    </tr>\n",
       "  </tbody>\n",
       "</table>\n",
       "</div>"
      ],
      "text/plain": [
       "                            accuracy      TP      TN     FP     FN       FPR  \\\n",
       "index                                                                          \n",
       "KNeighborsClassifier        0.897847  4304.0  4371.0  460.0  527.0  0.095218   \n",
       "LogisticRegression          0.864831  4328.0  4028.0  803.0  503.0  0.166218   \n",
       "RandomForestClassifier      0.929518  4640.0  4341.0  490.0  191.0  0.101428   \n",
       "AdaBoostClassifier          0.871766  4347.0  4076.0  755.0  484.0  0.156282   \n",
       "GradientBoostingClassifier  0.891327  4363.0  4249.0  582.0  468.0  0.120472   \n",
       "ExtraTreeClassifier         0.933244  4655.0  4362.0  469.0  176.0  0.097081   \n",
       "BaggingClassifier           0.930139  4666.0  4321.0  510.0  165.0  0.105568   \n",
       "Neural Network-1            0.908197  4484.0  4291.0  540.0  347.0  0.111778   \n",
       "\n",
       "                                 FNR  \n",
       "index                                 \n",
       "KNeighborsClassifier        0.109087  \n",
       "LogisticRegression          0.104119  \n",
       "RandomForestClassifier      0.039536  \n",
       "AdaBoostClassifier          0.100186  \n",
       "GradientBoostingClassifier  0.096874  \n",
       "ExtraTreeClassifier         0.036431  \n",
       "BaggingClassifier           0.034154  \n",
       "Neural Network-1            0.071828  "
      ]
     },
     "metadata": {},
     "output_type": "display_data"
    },
    {
     "name": "stdout",
     "output_type": "stream",
     "text": [
      "Test Results\n"
     ]
    },
    {
     "data": {
      "text/html": [
       "<div>\n",
       "<style scoped>\n",
       "    .dataframe tbody tr th:only-of-type {\n",
       "        vertical-align: middle;\n",
       "    }\n",
       "\n",
       "    .dataframe tbody tr th {\n",
       "        vertical-align: top;\n",
       "    }\n",
       "\n",
       "    .dataframe thead th {\n",
       "        text-align: right;\n",
       "    }\n",
       "</style>\n",
       "<table border=\"1\" class=\"dataframe\">\n",
       "  <thead>\n",
       "    <tr style=\"text-align: right;\">\n",
       "      <th></th>\n",
       "      <th>accuracy</th>\n",
       "      <th>TP</th>\n",
       "      <th>TN</th>\n",
       "      <th>FP</th>\n",
       "      <th>FN</th>\n",
       "      <th>FPR</th>\n",
       "      <th>FNR</th>\n",
       "      <th>auc</th>\n",
       "      <th>mcc</th>\n",
       "    </tr>\n",
       "    <tr>\n",
       "      <th>index</th>\n",
       "      <th></th>\n",
       "      <th></th>\n",
       "      <th></th>\n",
       "      <th></th>\n",
       "      <th></th>\n",
       "      <th></th>\n",
       "      <th></th>\n",
       "      <th></th>\n",
       "      <th></th>\n",
       "    </tr>\n",
       "  </thead>\n",
       "  <tbody>\n",
       "    <tr>\n",
       "      <th>KNeighborsClassifier</th>\n",
       "      <td>0.889446</td>\n",
       "      <td>1041.0</td>\n",
       "      <td>7117.0</td>\n",
       "      <td>865.0</td>\n",
       "      <td>149.0</td>\n",
       "      <td>0.108369</td>\n",
       "      <td>0.125210</td>\n",
       "      <td>0.883211</td>\n",
       "      <td>0.634728</td>\n",
       "    </tr>\n",
       "    <tr>\n",
       "      <th>LogisticRegression</th>\n",
       "      <td>0.842019</td>\n",
       "      <td>1056.0</td>\n",
       "      <td>6667.0</td>\n",
       "      <td>1315.0</td>\n",
       "      <td>134.0</td>\n",
       "      <td>0.164746</td>\n",
       "      <td>0.112605</td>\n",
       "      <td>0.861325</td>\n",
       "      <td>0.554632</td>\n",
       "    </tr>\n",
       "    <tr>\n",
       "      <th>RandomForestClassifier</th>\n",
       "      <td>0.874618</td>\n",
       "      <td>1093.0</td>\n",
       "      <td>6929.0</td>\n",
       "      <td>1053.0</td>\n",
       "      <td>97.0</td>\n",
       "      <td>0.131922</td>\n",
       "      <td>0.081513</td>\n",
       "      <td>0.893283</td>\n",
       "      <td>0.624303</td>\n",
       "    </tr>\n",
       "    <tr>\n",
       "      <th>AdaBoostClassifier</th>\n",
       "      <td>0.846380</td>\n",
       "      <td>1053.0</td>\n",
       "      <td>6710.0</td>\n",
       "      <td>1272.0</td>\n",
       "      <td>137.0</td>\n",
       "      <td>0.159359</td>\n",
       "      <td>0.115126</td>\n",
       "      <td>0.862758</td>\n",
       "      <td>0.560421</td>\n",
       "    </tr>\n",
       "    <tr>\n",
       "      <th>GradientBoostingClassifier</th>\n",
       "      <td>0.874945</td>\n",
       "      <td>1068.0</td>\n",
       "      <td>6957.0</td>\n",
       "      <td>1025.0</td>\n",
       "      <td>122.0</td>\n",
       "      <td>0.128414</td>\n",
       "      <td>0.102521</td>\n",
       "      <td>0.884533</td>\n",
       "      <td>0.615775</td>\n",
       "    </tr>\n",
       "    <tr>\n",
       "      <th>ExtraTreeClassifier</th>\n",
       "      <td>0.874073</td>\n",
       "      <td>1102.0</td>\n",
       "      <td>6915.0</td>\n",
       "      <td>1067.0</td>\n",
       "      <td>88.0</td>\n",
       "      <td>0.133676</td>\n",
       "      <td>0.073950</td>\n",
       "      <td>0.896187</td>\n",
       "      <td>0.626597</td>\n",
       "    </tr>\n",
       "    <tr>\n",
       "      <th>BaggingClassifier</th>\n",
       "      <td>0.865787</td>\n",
       "      <td>1096.0</td>\n",
       "      <td>6845.0</td>\n",
       "      <td>1137.0</td>\n",
       "      <td>94.0</td>\n",
       "      <td>0.142446</td>\n",
       "      <td>0.078992</td>\n",
       "      <td>0.889281</td>\n",
       "      <td>0.609579</td>\n",
       "    </tr>\n",
       "    <tr>\n",
       "      <th>Neural Network-1</th>\n",
       "      <td>0.882250</td>\n",
       "      <td>1085.0</td>\n",
       "      <td>7007.0</td>\n",
       "      <td>975.0</td>\n",
       "      <td>105.0</td>\n",
       "      <td>0.122150</td>\n",
       "      <td>0.088235</td>\n",
       "      <td>0.889281</td>\n",
       "      <td>0.635792</td>\n",
       "    </tr>\n",
       "  </tbody>\n",
       "</table>\n",
       "</div>"
      ],
      "text/plain": [
       "                            accuracy      TP      TN      FP     FN       FPR  \\\n",
       "index                                                                           \n",
       "KNeighborsClassifier        0.889446  1041.0  7117.0   865.0  149.0  0.108369   \n",
       "LogisticRegression          0.842019  1056.0  6667.0  1315.0  134.0  0.164746   \n",
       "RandomForestClassifier      0.874618  1093.0  6929.0  1053.0   97.0  0.131922   \n",
       "AdaBoostClassifier          0.846380  1053.0  6710.0  1272.0  137.0  0.159359   \n",
       "GradientBoostingClassifier  0.874945  1068.0  6957.0  1025.0  122.0  0.128414   \n",
       "ExtraTreeClassifier         0.874073  1102.0  6915.0  1067.0   88.0  0.133676   \n",
       "BaggingClassifier           0.865787  1096.0  6845.0  1137.0   94.0  0.142446   \n",
       "Neural Network-1            0.882250  1085.0  7007.0   975.0  105.0  0.122150   \n",
       "\n",
       "                                 FNR       auc       mcc  \n",
       "index                                                     \n",
       "KNeighborsClassifier        0.125210  0.883211  0.634728  \n",
       "LogisticRegression          0.112605  0.861325  0.554632  \n",
       "RandomForestClassifier      0.081513  0.893283  0.624303  \n",
       "AdaBoostClassifier          0.115126  0.862758  0.560421  \n",
       "GradientBoostingClassifier  0.102521  0.884533  0.615775  \n",
       "ExtraTreeClassifier         0.073950  0.896187  0.626597  \n",
       "BaggingClassifier           0.078992  0.889281  0.609579  \n",
       "Neural Network-1            0.088235  0.889281  0.635792  "
      ]
     },
     "metadata": {},
     "output_type": "display_data"
    }
   ],
   "source": [
    "table_80_90_train['index']=ind_columns\n",
    "table_80_90_test['index']=ind_columns\n",
    "\n",
    "\n",
    "table_80_90_test.set_index(['index'],drop=True,inplace=True)\n",
    "table_80_90_train.set_index(['index'],drop=True,inplace=True)\n",
    "\n",
    "print(\"Training Results\")\n",
    "display(table_80_90_train)\n",
    "print(\"Test Results\")\n",
    "display(table_80_90_test)"
   ]
  },
  {
   "cell_type": "markdown",
   "metadata": {},
   "source": [
    "### <a id='3.B' style=\"text-decoration : none; color : #000000;\"> B. Average Feature Importances</a>"
   ]
  },
  {
   "cell_type": "code",
   "execution_count": 49,
   "metadata": {},
   "outputs": [
    {
     "data": {
      "application/vnd.plotly.v1+json": {
       "config": {
        "linkText": "Export to plot.ly",
        "plotlyServerURL": "https://plot.ly",
        "showLink": true
       },
       "data": [
        {
         "marker": {
          "color": "rgb(158,202,225)",
          "line": {
           "color": "rgb(8,48,107)",
           "width": 1.5
          }
         },
         "opacity": 0.6,
         "orientation": "h",
         "text": [
          0.2531,
          0.2528,
          0.093,
          0.0694,
          0.04,
          0.0386,
          0.0383,
          0.0272,
          0.0271,
          0.0207,
          0.0204,
          0.015,
          0.015,
          0.0138,
          0.0121,
          0.0118,
          0.0104,
          0.0093,
          0.0091,
          0.009,
          0.0089,
          0.0048
         ],
         "textposition": "outside",
         "type": "bar",
         "uid": "f5d3753f-a079-478e-a14c-30b19445bf40",
         "x": [
          0.25310738187091614,
          0.2527692498529729,
          0.09301273127161905,
          0.06939197547741516,
          0.03996730140547414,
          0.038638145492213644,
          0.038319765724787,
          0.02721804934106787,
          0.027134701503562723,
          0.020722891695360398,
          0.02041510545749408,
          0.015040175781251037,
          0.014958382737390547,
          0.013828716486339997,
          0.012146625374702368,
          0.011803105960138636,
          0.010383672616943753,
          0.009349625305886722,
          0.009081772508596129,
          0.009022441100106162,
          0.008860910132651327,
          0.00482727290311027
         ],
         "y": [
          "http_header_content-length",
          "http_header_content-encoding_gzip",
          "http_header_transfer-encoding_chunked",
          "http_header_vary_accept",
          "http_header_server_apache",
          "http_header_cache-control_set_max-age",
          "http_header_connection_keep-alive",
          "http_header_content-language_text/html",
          "http_header_pragmano-cache",
          "http_header_server_nginx",
          "http_header_cache-control_set_no-store",
          "http_header_vary_age",
          "http_header_cache-control_set_private",
          "http_header_via_1.1",
          "http_header_x-xss-enabled",
          "http_header_cache-control_set_must-revalidate",
          "http_header_expect-ctmax-age",
          "http_header_connection_close",
          "http_header_cache-control_set_no-cache",
          "http_header_strict-transport-security_max-age",
          "http_header_cache-control_set_public",
          "http_header_x-cintent-type-options_nosniff"
         ]
        }
       ],
       "layout": {
        "autosize": false,
        "height": 1000,
        "width": 1000,
        "xaxis": {
         "tickfont": {
          "color": "black",
          "size": 12
         },
         "title": "Feature Importances"
        },
        "yaxis": {
         "automargin": true
        }
       }
      },
      "text/html": [
       "<div id=\"c0c4972a-aeaf-4f74-8805-a52715854fbd\" style=\"height: 1000px; width: 1000px;\" class=\"plotly-graph-div\"></div><script type=\"text/javascript\">require([\"plotly\"], function(Plotly) { window.PLOTLYENV=window.PLOTLYENV || {};window.PLOTLYENV.BASE_URL=\"https://plot.ly\";Plotly.newPlot(\"c0c4972a-aeaf-4f74-8805-a52715854fbd\", [{\"marker\": {\"color\": \"rgb(158,202,225)\", \"line\": {\"color\": \"rgb(8,48,107)\", \"width\": 1.5}}, \"opacity\": 0.6, \"orientation\": \"h\", \"text\": [0.2531, 0.2528, 0.093, 0.0694, 0.04, 0.0386, 0.0383, 0.0272, 0.0271, 0.0207, 0.0204, 0.015, 0.015, 0.0138, 0.0121, 0.0118, 0.0104, 0.0093, 0.0091, 0.009, 0.0089, 0.0048], \"textposition\": \"outside\", \"x\": [0.25310738187091614, 0.2527692498529729, 0.09301273127161905, 0.06939197547741516, 0.03996730140547414, 0.038638145492213644, 0.038319765724787, 0.02721804934106787, 0.027134701503562723, 0.020722891695360398, 0.02041510545749408, 0.015040175781251037, 0.014958382737390547, 0.013828716486339997, 0.012146625374702368, 0.011803105960138636, 0.010383672616943753, 0.009349625305886722, 0.009081772508596129, 0.009022441100106162, 0.008860910132651327, 0.00482727290311027], \"y\": [\"http_header_content-length\", \"http_header_content-encoding_gzip\", \"http_header_transfer-encoding_chunked\", \"http_header_vary_accept\", \"http_header_server_apache\", \"http_header_cache-control_set_max-age\", \"http_header_connection_keep-alive\", \"http_header_content-language_text/html\", \"http_header_pragmano-cache\", \"http_header_server_nginx\", \"http_header_cache-control_set_no-store\", \"http_header_vary_age\", \"http_header_cache-control_set_private\", \"http_header_via_1.1\", \"http_header_x-xss-enabled\", \"http_header_cache-control_set_must-revalidate\", \"http_header_expect-ctmax-age\", \"http_header_connection_close\", \"http_header_cache-control_set_no-cache\", \"http_header_strict-transport-security_max-age\", \"http_header_cache-control_set_public\", \"http_header_x-cintent-type-options_nosniff\"], \"type\": \"bar\", \"uid\": \"f5d3753f-a079-478e-a14c-30b19445bf40\"}], {\"autosize\": false, \"height\": 1000, \"width\": 1000, \"xaxis\": {\"tickfont\": {\"color\": \"black\", \"size\": 12}, \"title\": \"Feature Importances\"}, \"yaxis\": {\"automargin\": true}}, {\"showLink\": true, \"linkText\": \"Export to plot.ly\", \"plotlyServerURL\": \"https://plot.ly\"})});</script>"
      ],
      "text/vnd.plotly.v1+html": [
       "<div id=\"c0c4972a-aeaf-4f74-8805-a52715854fbd\" style=\"height: 1000px; width: 1000px;\" class=\"plotly-graph-div\"></div><script type=\"text/javascript\">require([\"plotly\"], function(Plotly) { window.PLOTLYENV=window.PLOTLYENV || {};window.PLOTLYENV.BASE_URL=\"https://plot.ly\";Plotly.newPlot(\"c0c4972a-aeaf-4f74-8805-a52715854fbd\", [{\"marker\": {\"color\": \"rgb(158,202,225)\", \"line\": {\"color\": \"rgb(8,48,107)\", \"width\": 1.5}}, \"opacity\": 0.6, \"orientation\": \"h\", \"text\": [0.2531, 0.2528, 0.093, 0.0694, 0.04, 0.0386, 0.0383, 0.0272, 0.0271, 0.0207, 0.0204, 0.015, 0.015, 0.0138, 0.0121, 0.0118, 0.0104, 0.0093, 0.0091, 0.009, 0.0089, 0.0048], \"textposition\": \"outside\", \"x\": [0.25310738187091614, 0.2527692498529729, 0.09301273127161905, 0.06939197547741516, 0.03996730140547414, 0.038638145492213644, 0.038319765724787, 0.02721804934106787, 0.027134701503562723, 0.020722891695360398, 0.02041510545749408, 0.015040175781251037, 0.014958382737390547, 0.013828716486339997, 0.012146625374702368, 0.011803105960138636, 0.010383672616943753, 0.009349625305886722, 0.009081772508596129, 0.009022441100106162, 0.008860910132651327, 0.00482727290311027], \"y\": [\"http_header_content-length\", \"http_header_content-encoding_gzip\", \"http_header_transfer-encoding_chunked\", \"http_header_vary_accept\", \"http_header_server_apache\", \"http_header_cache-control_set_max-age\", \"http_header_connection_keep-alive\", \"http_header_content-language_text/html\", \"http_header_pragmano-cache\", \"http_header_server_nginx\", \"http_header_cache-control_set_no-store\", \"http_header_vary_age\", \"http_header_cache-control_set_private\", \"http_header_via_1.1\", \"http_header_x-xss-enabled\", \"http_header_cache-control_set_must-revalidate\", \"http_header_expect-ctmax-age\", \"http_header_connection_close\", \"http_header_cache-control_set_no-cache\", \"http_header_strict-transport-security_max-age\", \"http_header_cache-control_set_public\", \"http_header_x-cintent-type-options_nosniff\"], \"type\": \"bar\", \"uid\": \"f5d3753f-a079-478e-a14c-30b19445bf40\"}], {\"autosize\": false, \"height\": 1000, \"width\": 1000, \"xaxis\": {\"tickfont\": {\"color\": \"black\", \"size\": 12}, \"title\": \"Feature Importances\"}, \"yaxis\": {\"automargin\": true}}, {\"showLink\": true, \"linkText\": \"Export to plot.ly\", \"plotlyServerURL\": \"https://plot.ly\"})});</script>"
      ]
     },
     "metadata": {},
     "output_type": "display_data"
    }
   ],
   "source": [
    "feat_impt_plot(np.average(feat_imp,axis=0),columns[:-2])"
   ]
  },
  {
   "cell_type": "markdown",
   "metadata": {},
   "source": [
    "### <a id='4' style=\"text-decoration : none; color : #000000;\">4. Feature Transformation with feature selection </a>"
   ]
  },
  {
   "cell_type": "code",
   "execution_count": 10,
   "metadata": {},
   "outputs": [
    {
     "name": "stdout",
     "output_type": "stream",
     "text": [
      "Built 946 features\n",
      "EntitySet scattered to workers in 4.329 seconds\n",
      "Elapsed: 00:05 | Remaining: 00:00 | Progress: 100%|██████████| Calculated: 11/11 chunks\n"
     ]
    }
   ],
   "source": [
    "df.reset_index(inplace=True)\n",
    "columns.remove('Target')\n",
    "df_min=df[columns]\n",
    "\n",
    "es = ft.EntitySet(id = 'malicious')\n",
    "es.entity_from_dataframe(entity_id = 'data', dataframe = df_min, index = 'domain')\n",
    "\n",
    "feature_matrix_sessions, features_defs = ft.dfs(entityset=es,target_entity=\"data\",\n",
    "                                                trans_primitives = ['add','divide','multiply'],n_jobs=-1,\n",
    "                                                verbose=1,max_depth=1)"
   ]
  },
  {
   "cell_type": "code",
   "execution_count": 11,
   "metadata": {
    "collapsed": true
   },
   "outputs": [],
   "source": [
    "df.set_index(['domain'],drop=True,inplace=True)\n",
    "fs=pd.merge(feature_matrix_sessions,pd.DataFrame(df.Target),left_index=True, right_index=True)\n",
    "fs.replace([np.inf],0,inplace=True)\n",
    "fs.fillna(value=0,inplace=True)"
   ]
  },
  {
   "cell_type": "code",
   "execution_count": 12,
   "metadata": {
    "collapsed": true
   },
   "outputs": [],
   "source": [
    "X=fs.loc[:,fs.columns!='Target']\n",
    "y=fs.Target\n",
    "feature_name = X.columns.tolist()"
   ]
  },
  {
   "cell_type": "code",
   "execution_count": 13,
   "metadata": {
    "collapsed": true
   },
   "outputs": [],
   "source": [
    "def cor_selector(X, y):\n",
    "    cor_list = []\n",
    "    # calculate the correlation with y for each feature\n",
    "    for i in X.columns.tolist():\n",
    "        cor = np.corrcoef(X[i], y)[0, 1]\n",
    "        cor_list.append(cor)\n",
    "    # replace NaN with 0\n",
    "    cor_list = [0 if np.isnan(i) else i for i in cor_list]\n",
    "    # feature name\n",
    "    cor_feature = X.iloc[:,np.argsort(np.abs(cor_list))[-100:]].columns.tolist()\n",
    "    # feature selection? 0 for not select, 1 for select\n",
    "    cor_support = [True if i in cor_feature else False for i in feature_name]\n",
    "    return cor_support, cor_feature\n",
    "\n",
    "\n",
    "cor_support, cor_feature = cor_selector(X, y)"
   ]
  },
  {
   "cell_type": "code",
   "execution_count": 14,
   "metadata": {
    "collapsed": true
   },
   "outputs": [],
   "source": [
    "X_norm = MinMaxScaler().fit_transform(X)\n",
    "chi_selector = SelectKBest(chi2, k=100)\n",
    "chi_selector.fit(X_norm, y)\n",
    "chi_support = chi_selector.get_support()\n",
    "chi_feature = X.loc[:,chi_support].columns.tolist()"
   ]
  },
  {
   "cell_type": "code",
   "execution_count": 15,
   "metadata": {
    "collapsed": true
   },
   "outputs": [],
   "source": [
    "rfe_selector = RFE(estimator=LogisticRegression(random_state=0), n_features_to_select=100, step=0.3, verbose=False)\n",
    "rfe_selector.fit(X_norm, y)\n",
    "rfe_support = rfe_selector.get_support()\n",
    "rfe_feature = X.loc[:,rfe_support].columns.tolist()"
   ]
  },
  {
   "cell_type": "code",
   "execution_count": 16,
   "metadata": {
    "collapsed": true
   },
   "outputs": [],
   "source": [
    "embeded_rf_selector = SelectFromModel(RandomForestClassifier(n_estimators=100,random_state=0), threshold='23*median')\n",
    "embeded_rf_selector.fit(X, y)\n",
    "embeded_rf_support = embeded_rf_selector.get_support()\n",
    "embeded_rf_feature = X.loc[:,embeded_rf_support].columns.tolist()"
   ]
  },
  {
   "cell_type": "code",
   "execution_count": 17,
   "metadata": {
    "collapsed": true
   },
   "outputs": [],
   "source": [
    "feature_selection_df = pd.DataFrame({'Feature':feature_name, 'Pearson':cor_support, 'Chi-2':chi_support, 'RFE':rfe_support,\n",
    "                                    'Random Forest':embeded_rf_support})\n",
    "# count the selected times for each feature\n",
    "feature_selection_df['Total'] = np.sum(feature_selection_df, axis=1)\n",
    "# display the top 100\n",
    "feature_selection_df = feature_selection_df.sort_values(['Total','Feature'] , ascending=False)\n",
    "feature_selection_df.index = range(1, len(feature_selection_df)+1)"
   ]
  },
  {
   "cell_type": "code",
   "execution_count": 18,
   "metadata": {
    "collapsed": true
   },
   "outputs": [],
   "source": [
    "columns=feature_selection_df[feature_selection_df.Total>=3]['Feature'].values"
   ]
  },
  {
   "cell_type": "code",
   "execution_count": 20,
   "metadata": {
    "collapsed": true
   },
   "outputs": [],
   "source": [
    "fs=fs.reindex(df.index.values)\n",
    "train=fs.iloc[:36684]\n",
    "train_Y=train.Target.values\n",
    "train_X=train[columns].values\n",
    "\n",
    "\n",
    "scaler=StandardScaler()\n",
    "scaled_X_train=scaler.fit_transform(train_X)\n",
    "\n",
    "test=fs.iloc[36684:]\n",
    "test_Y=test.Target.values\n",
    "test_X=test[columns]\n",
    "\n",
    "scaled_X_test=scaler.transform(test_X)"
   ]
  },
  {
   "cell_type": "code",
   "execution_count": 21,
   "metadata": {},
   "outputs": [
    {
     "name": "stdout",
     "output_type": "stream",
     "text": [
      "Features we will be using:\n",
      "\n"
     ]
    },
    {
     "data": {
      "text/plain": [
       "array([ 'http_header_content-language_text/html + http_header_transfer-encoding_chunked',\n",
       "       'http_header_vary_age / http_header_content-length',\n",
       "       'http_header_transfer-encoding_chunked + http_header_x-xss-enabled',\n",
       "       'http_header_transfer-encoding_chunked + http_header_via_1.1',\n",
       "       'http_header_transfer-encoding_chunked + http_header_vary_accept',\n",
       "       'http_header_transfer-encoding_chunked',\n",
       "       'http_header_content-language_text/html / http_header_content-encoding_gzip',\n",
       "       'http_header_content-language_text/html / http_header_connection_keep-alive',\n",
       "       'http_header_content-language_text/html + http_header_via_1.1',\n",
       "       'http_header_content-language_text/html',\n",
       "       'http_header_content-encoding_gzip / http_header_content-language_text/html',\n",
       "       'http_header_content-encoding_gzip + http_header_x-xss-enabled',\n",
       "       'http_header_content-encoding_gzip + http_header_via_1.1',\n",
       "       'http_header_content-encoding_gzip + http_header_vary_age',\n",
       "       'http_header_content-encoding_gzip + http_header_vary_accept',\n",
       "       'http_header_content-encoding_gzip + http_header_transfer-encoding_chunked',\n",
       "       'http_header_content-encoding_gzip + http_header_server_nginx',\n",
       "       'http_header_content-encoding_gzip + http_header_pragmano-cache',\n",
       "       'http_header_content-encoding_gzip + http_header_expect-ctmax-age',\n",
       "       'http_header_content-encoding_gzip + http_header_content-language_text/html',\n",
       "       'http_header_content-encoding_gzip * http_header_content-language_text/html',\n",
       "       'http_header_content-encoding_gzip',\n",
       "       'http_header_connection_keep-alive / http_header_content-language_text/html',\n",
       "       'http_header_connection_keep-alive + http_header_vary_accept',\n",
       "       'http_header_connection_keep-alive + http_header_content-language_text/html',\n",
       "       'http_header_connection_keep-alive * http_header_content-language_text/html',\n",
       "       'http_header_connection_close + http_header_content-language_text/html',\n",
       "       'http_header_cache-control_set_public + http_header_transfer-encoding_chunked',\n",
       "       'http_header_cache-control_set_public + http_header_content-encoding_gzip',\n",
       "       'http_header_cache-control_set_private + http_header_vary_accept',\n",
       "       'http_header_cache-control_set_private + http_header_transfer-encoding_chunked',\n",
       "       'http_header_cache-control_set_private + http_header_content-encoding_gzip',\n",
       "       'http_header_cache-control_set_no-store + http_header_vary_accept',\n",
       "       'http_header_cache-control_set_must-revalidate + http_header_content-encoding_gzip',\n",
       "       'http_header_cache-control_set_max-age + http_header_transfer-encoding_chunked',\n",
       "       'http_header_cache-control_set_max-age + http_header_content-encoding_gzip'], dtype=object)"
      ]
     },
     "metadata": {},
     "output_type": "display_data"
    }
   ],
   "source": [
    "print('Features we will be using:\\n')\n",
    "display(columns)"
   ]
  },
  {
   "cell_type": "code",
   "execution_count": 22,
   "metadata": {
    "collapsed": true
   },
   "outputs": [],
   "source": [
    "## Table to store training and test measures so we can compare later\n",
    "table_80_60_train=pd.DataFrame(columns=['accuracy','TP','TN','FP','FN','FPR','FNR'])\n",
    "table_80_60_test=pd.DataFrame(columns=['accuracy','TP','TN','FP','FN','FPR','FNR','auc','mcc'])"
   ]
  },
  {
   "cell_type": "code",
   "execution_count": 23,
   "metadata": {
    "scrolled": false
   },
   "outputs": [
    {
     "name": "stdout",
     "output_type": "stream",
     "text": [
      "\u001b[1mK-Nearest Neighbors\u001b[0m\n",
      "Accuracy of the model for training data is: 0.896630683677\n",
      "Confusion Matrix for training data is:\n"
     ]
    },
    {
     "data": {
      "text/plain": [
       "Predicted  False  True  __all__\n",
       "Actual                         \n",
       "False      28924  2929    31853\n",
       "True         863  3968     4831\n",
       "__all__    29787  6897    36684"
      ]
     },
     "metadata": {},
     "output_type": "display_data"
    },
    {
     "name": "stdout",
     "output_type": "stream",
     "text": [
      "Accuracy of the model for test data is: 0.895878761448\n",
      "Confusion Matrix for test data is:\n"
     ]
    },
    {
     "data": {
      "text/plain": [
       "Predicted  False  True  __all__\n",
       "Actual                         \n",
       "False       7254   728     7982\n",
       "True         227   963     1190\n",
       "__all__     7481  1691     9172"
      ]
     },
     "metadata": {},
     "output_type": "display_data"
    },
    {
     "name": "stdout",
     "output_type": "stream",
     "text": [
      "\n",
      "\n",
      "\u001b[1mLogistic Regression\u001b[0m\n",
      "Accuracy of the model for training data is: 0.880274779195\n",
      "Confusion Matrix for training data is:\n"
     ]
    },
    {
     "data": {
      "text/plain": [
       "Predicted  False  True  __all__\n",
       "Actual                         \n",
       "False      29381  2472    31853\n",
       "True        1920  2911     4831\n",
       "__all__    31301  5383    36684"
      ]
     },
     "metadata": {},
     "output_type": "display_data"
    },
    {
     "name": "stdout",
     "output_type": "stream",
     "text": [
      "Accuracy of the model for test data is: 0.87821631051\n",
      "Confusion Matrix for test data is:\n"
     ]
    },
    {
     "data": {
      "text/plain": [
       "Predicted  False  True  __all__\n",
       "Actual                         \n",
       "False       7362   620     7982\n",
       "True         497   693     1190\n",
       "__all__     7859  1313     9172"
      ]
     },
     "metadata": {},
     "output_type": "display_data"
    },
    {
     "name": "stdout",
     "output_type": "stream",
     "text": [
      "\n",
      "\n",
      "\u001b[1mRandomForest Classifier\u001b[0m\n",
      "Accuracy of the model for training data is: 0.897802856831\n",
      "Confusion Matrix for training data is:\n"
     ]
    },
    {
     "data": {
      "text/plain": [
       "Predicted  False  True  __all__\n",
       "Actual                         \n",
       "False      28944  2909    31853\n",
       "True         840  3991     4831\n",
       "__all__    29784  6900    36684"
      ]
     },
     "metadata": {},
     "output_type": "display_data"
    },
    {
     "name": "stdout",
     "output_type": "stream",
     "text": [
      "Accuracy of the model for test data is: 0.896205843873\n",
      "Confusion Matrix for test data is:\n"
     ]
    },
    {
     "data": {
      "text/plain": [
       "Predicted  False  True  __all__\n",
       "Actual                         \n",
       "False       7256   726     7982\n",
       "True         226   964     1190\n",
       "__all__     7482  1690     9172"
      ]
     },
     "metadata": {},
     "output_type": "display_data"
    },
    {
     "data": {
      "application/vnd.plotly.v1+json": {
       "config": {
        "linkText": "Export to plot.ly",
        "plotlyServerURL": "https://plot.ly",
        "showLink": true
       },
       "data": [
        {
         "marker": {
          "color": "rgb(158,202,225)",
          "line": {
           "color": "rgb(8,48,107)",
           "width": 1.5
          }
         },
         "opacity": 0.6,
         "orientation": "h",
         "text": [
          0.1531,
          0.1149,
          0.0946,
          0.0637,
          0.0571,
          0.0556,
          0.0528,
          0.0503,
          0.0468,
          0.032,
          0.0318,
          0.0298,
          0.0286,
          0.0251,
          0.0148,
          0.014,
          0.0123,
          0.012,
          0.0118,
          0.0118,
          0.0114,
          0.0109,
          0.0104,
          0.0103,
          0.0091,
          0.0085,
          0.0071,
          0.0061,
          0.0043,
          0.0036,
          0.0026,
          0.0016,
          0.001,
          0,
          0,
          0
         ],
         "textposition": "outside",
         "type": "bar",
         "uid": "a40980ac-50b7-4190-9339-68982a1b6301",
         "x": [
          0.15314375218001813,
          0.11487541426659005,
          0.09460145825560892,
          0.06373266012596326,
          0.05707270719144357,
          0.0556013417621987,
          0.05284157852723973,
          0.050311230027881,
          0.04684278580663916,
          0.03201149204075547,
          0.03177656272547407,
          0.02983309844701254,
          0.028590322137351066,
          0.02509084596197398,
          0.014758017872115082,
          0.013982698393304654,
          0.012299465689249516,
          0.01202188098658978,
          0.011825827816609288,
          0.011785321762697806,
          0.011387024827985547,
          0.010900378789257346,
          0.010388829576289279,
          0.010317150542908505,
          0.009051722526414544,
          0.008516274211786624,
          0.007058255959290346,
          0.00613429985569275,
          0.004345672299222533,
          0.0035859599567621774,
          0.002620152038909948,
          0.001629752179826236,
          0.001014830029330324,
          3.8345236507368404e-05,
          6.632328667723024e-06,
          6.257664432992424e-06
         ],
         "y": [
          "http_header_cache-control_set_private + http_header_content-encoding_gzip",
          "http_header_vary_age / http_header_content-length",
          "http_header_content-encoding_gzip + http_header_server_nginx",
          "http_header_cache-control_set_max-age + http_header_content-encoding_gzip",
          "http_header_connection_keep-alive + http_header_content-language_text/html",
          "http_header_content-encoding_gzip + http_header_transfer-encoding_chunked",
          "http_header_content-encoding_gzip + http_header_via_1.1",
          "http_header_content-encoding_gzip + http_header_x-xss-enabled",
          "http_header_content-language_text/html / http_header_content-encoding_gzip",
          "http_header_connection_close + http_header_content-language_text/html",
          "http_header_cache-control_set_must-revalidate + http_header_content-encoding_gzip",
          "http_header_cache-control_set_no-store + http_header_vary_accept",
          "http_header_content-language_text/html + http_header_via_1.1",
          "http_header_content-encoding_gzip + http_header_pragmano-cache",
          "http_header_cache-control_set_private + http_header_transfer-encoding_chunked",
          "http_header_content-encoding_gzip + http_header_expect-ctmax-age",
          "http_header_connection_keep-alive * http_header_content-language_text/html",
          "http_header_cache-control_set_public + http_header_transfer-encoding_chunked",
          "http_header_transfer-encoding_chunked + http_header_via_1.1",
          "http_header_content-language_text/html",
          "http_header_content-encoding_gzip + http_header_content-language_text/html",
          "http_header_cache-control_set_max-age + http_header_transfer-encoding_chunked",
          "http_header_content-language_text/html + http_header_transfer-encoding_chunked",
          "http_header_connection_keep-alive / http_header_content-language_text/html",
          "http_header_connection_keep-alive + http_header_vary_accept",
          "http_header_transfer-encoding_chunked + http_header_x-xss-enabled",
          "http_header_content-encoding_gzip + http_header_vary_age",
          "http_header_cache-control_set_private + http_header_vary_accept",
          "http_header_transfer-encoding_chunked + http_header_vary_accept",
          "http_header_content-language_text/html / http_header_connection_keep-alive",
          "http_header_transfer-encoding_chunked",
          "http_header_cache-control_set_public + http_header_content-encoding_gzip",
          "http_header_content-encoding_gzip + http_header_vary_accept",
          "http_header_content-encoding_gzip / http_header_content-language_text/html",
          "http_header_content-encoding_gzip * http_header_content-language_text/html",
          "http_header_content-encoding_gzip"
         ]
        }
       ],
       "layout": {
        "autosize": false,
        "height": 1000,
        "width": 1000,
        "xaxis": {
         "tickfont": {
          "color": "black",
          "size": 12
         },
         "title": "Feature Importances"
        },
        "yaxis": {
         "automargin": true
        }
       }
      },
      "text/html": [
       "<div id=\"ffa3a204-8ee5-41c5-86c9-64e97df5f0f0\" style=\"height: 1000px; width: 1000px;\" class=\"plotly-graph-div\"></div><script type=\"text/javascript\">require([\"plotly\"], function(Plotly) { window.PLOTLYENV=window.PLOTLYENV || {};window.PLOTLYENV.BASE_URL=\"https://plot.ly\";Plotly.newPlot(\"ffa3a204-8ee5-41c5-86c9-64e97df5f0f0\", [{\"marker\": {\"color\": \"rgb(158,202,225)\", \"line\": {\"color\": \"rgb(8,48,107)\", \"width\": 1.5}}, \"opacity\": 0.6, \"orientation\": \"h\", \"text\": [0.1531, 0.1149, 0.0946, 0.0637, 0.0571, 0.0556, 0.0528, 0.0503, 0.0468, 0.032, 0.0318, 0.0298, 0.0286, 0.0251, 0.0148, 0.014, 0.0123, 0.012, 0.0118, 0.0118, 0.0114, 0.0109, 0.0104, 0.0103, 0.0091, 0.0085, 0.0071, 0.0061, 0.0043, 0.0036, 0.0026, 0.0016, 0.001, 0.0, 0.0, 0.0], \"textposition\": \"outside\", \"x\": [0.15314375218001813, 0.11487541426659005, 0.09460145825560892, 0.06373266012596326, 0.05707270719144357, 0.0556013417621987, 0.05284157852723973, 0.050311230027881, 0.04684278580663916, 0.03201149204075547, 0.03177656272547407, 0.02983309844701254, 0.028590322137351066, 0.02509084596197398, 0.014758017872115082, 0.013982698393304654, 0.012299465689249516, 0.01202188098658978, 0.011825827816609288, 0.011785321762697806, 0.011387024827985547, 0.010900378789257346, 0.010388829576289279, 0.010317150542908505, 0.009051722526414544, 0.008516274211786624, 0.007058255959290346, 0.00613429985569275, 0.004345672299222533, 0.0035859599567621774, 0.002620152038909948, 0.001629752179826236, 0.001014830029330324, 3.8345236507368404e-05, 6.632328667723024e-06, 6.257664432992424e-06], \"y\": [\"http_header_cache-control_set_private + http_header_content-encoding_gzip\", \"http_header_vary_age / http_header_content-length\", \"http_header_content-encoding_gzip + http_header_server_nginx\", \"http_header_cache-control_set_max-age + http_header_content-encoding_gzip\", \"http_header_connection_keep-alive + http_header_content-language_text/html\", \"http_header_content-encoding_gzip + http_header_transfer-encoding_chunked\", \"http_header_content-encoding_gzip + http_header_via_1.1\", \"http_header_content-encoding_gzip + http_header_x-xss-enabled\", \"http_header_content-language_text/html / http_header_content-encoding_gzip\", \"http_header_connection_close + http_header_content-language_text/html\", \"http_header_cache-control_set_must-revalidate + http_header_content-encoding_gzip\", \"http_header_cache-control_set_no-store + http_header_vary_accept\", \"http_header_content-language_text/html + http_header_via_1.1\", \"http_header_content-encoding_gzip + http_header_pragmano-cache\", \"http_header_cache-control_set_private + http_header_transfer-encoding_chunked\", \"http_header_content-encoding_gzip + http_header_expect-ctmax-age\", \"http_header_connection_keep-alive * http_header_content-language_text/html\", \"http_header_cache-control_set_public + http_header_transfer-encoding_chunked\", \"http_header_transfer-encoding_chunked + http_header_via_1.1\", \"http_header_content-language_text/html\", \"http_header_content-encoding_gzip + http_header_content-language_text/html\", \"http_header_cache-control_set_max-age + http_header_transfer-encoding_chunked\", \"http_header_content-language_text/html + http_header_transfer-encoding_chunked\", \"http_header_connection_keep-alive / http_header_content-language_text/html\", \"http_header_connection_keep-alive + http_header_vary_accept\", \"http_header_transfer-encoding_chunked + http_header_x-xss-enabled\", \"http_header_content-encoding_gzip + http_header_vary_age\", \"http_header_cache-control_set_private + http_header_vary_accept\", \"http_header_transfer-encoding_chunked + http_header_vary_accept\", \"http_header_content-language_text/html / http_header_connection_keep-alive\", \"http_header_transfer-encoding_chunked\", \"http_header_cache-control_set_public + http_header_content-encoding_gzip\", \"http_header_content-encoding_gzip + http_header_vary_accept\", \"http_header_content-encoding_gzip / http_header_content-language_text/html\", \"http_header_content-encoding_gzip * http_header_content-language_text/html\", \"http_header_content-encoding_gzip\"], \"type\": \"bar\", \"uid\": \"a40980ac-50b7-4190-9339-68982a1b6301\"}], {\"autosize\": false, \"height\": 1000, \"width\": 1000, \"xaxis\": {\"tickfont\": {\"color\": \"black\", \"size\": 12}, \"title\": \"Feature Importances\"}, \"yaxis\": {\"automargin\": true}}, {\"showLink\": true, \"linkText\": \"Export to plot.ly\", \"plotlyServerURL\": \"https://plot.ly\"})});</script>"
      ],
      "text/vnd.plotly.v1+html": [
       "<div id=\"ffa3a204-8ee5-41c5-86c9-64e97df5f0f0\" style=\"height: 1000px; width: 1000px;\" class=\"plotly-graph-div\"></div><script type=\"text/javascript\">require([\"plotly\"], function(Plotly) { window.PLOTLYENV=window.PLOTLYENV || {};window.PLOTLYENV.BASE_URL=\"https://plot.ly\";Plotly.newPlot(\"ffa3a204-8ee5-41c5-86c9-64e97df5f0f0\", [{\"marker\": {\"color\": \"rgb(158,202,225)\", \"line\": {\"color\": \"rgb(8,48,107)\", \"width\": 1.5}}, \"opacity\": 0.6, \"orientation\": \"h\", \"text\": [0.1531, 0.1149, 0.0946, 0.0637, 0.0571, 0.0556, 0.0528, 0.0503, 0.0468, 0.032, 0.0318, 0.0298, 0.0286, 0.0251, 0.0148, 0.014, 0.0123, 0.012, 0.0118, 0.0118, 0.0114, 0.0109, 0.0104, 0.0103, 0.0091, 0.0085, 0.0071, 0.0061, 0.0043, 0.0036, 0.0026, 0.0016, 0.001, 0.0, 0.0, 0.0], \"textposition\": \"outside\", \"x\": [0.15314375218001813, 0.11487541426659005, 0.09460145825560892, 0.06373266012596326, 0.05707270719144357, 0.0556013417621987, 0.05284157852723973, 0.050311230027881, 0.04684278580663916, 0.03201149204075547, 0.03177656272547407, 0.02983309844701254, 0.028590322137351066, 0.02509084596197398, 0.014758017872115082, 0.013982698393304654, 0.012299465689249516, 0.01202188098658978, 0.011825827816609288, 0.011785321762697806, 0.011387024827985547, 0.010900378789257346, 0.010388829576289279, 0.010317150542908505, 0.009051722526414544, 0.008516274211786624, 0.007058255959290346, 0.00613429985569275, 0.004345672299222533, 0.0035859599567621774, 0.002620152038909948, 0.001629752179826236, 0.001014830029330324, 3.8345236507368404e-05, 6.632328667723024e-06, 6.257664432992424e-06], \"y\": [\"http_header_cache-control_set_private + http_header_content-encoding_gzip\", \"http_header_vary_age / http_header_content-length\", \"http_header_content-encoding_gzip + http_header_server_nginx\", \"http_header_cache-control_set_max-age + http_header_content-encoding_gzip\", \"http_header_connection_keep-alive + http_header_content-language_text/html\", \"http_header_content-encoding_gzip + http_header_transfer-encoding_chunked\", \"http_header_content-encoding_gzip + http_header_via_1.1\", \"http_header_content-encoding_gzip + http_header_x-xss-enabled\", \"http_header_content-language_text/html / http_header_content-encoding_gzip\", \"http_header_connection_close + http_header_content-language_text/html\", \"http_header_cache-control_set_must-revalidate + http_header_content-encoding_gzip\", \"http_header_cache-control_set_no-store + http_header_vary_accept\", \"http_header_content-language_text/html + http_header_via_1.1\", \"http_header_content-encoding_gzip + http_header_pragmano-cache\", \"http_header_cache-control_set_private + http_header_transfer-encoding_chunked\", \"http_header_content-encoding_gzip + http_header_expect-ctmax-age\", \"http_header_connection_keep-alive * http_header_content-language_text/html\", \"http_header_cache-control_set_public + http_header_transfer-encoding_chunked\", \"http_header_transfer-encoding_chunked + http_header_via_1.1\", \"http_header_content-language_text/html\", \"http_header_content-encoding_gzip + http_header_content-language_text/html\", \"http_header_cache-control_set_max-age + http_header_transfer-encoding_chunked\", \"http_header_content-language_text/html + http_header_transfer-encoding_chunked\", \"http_header_connection_keep-alive / http_header_content-language_text/html\", \"http_header_connection_keep-alive + http_header_vary_accept\", \"http_header_transfer-encoding_chunked + http_header_x-xss-enabled\", \"http_header_content-encoding_gzip + http_header_vary_age\", \"http_header_cache-control_set_private + http_header_vary_accept\", \"http_header_transfer-encoding_chunked + http_header_vary_accept\", \"http_header_content-language_text/html / http_header_connection_keep-alive\", \"http_header_transfer-encoding_chunked\", \"http_header_cache-control_set_public + http_header_content-encoding_gzip\", \"http_header_content-encoding_gzip + http_header_vary_accept\", \"http_header_content-encoding_gzip / http_header_content-language_text/html\", \"http_header_content-encoding_gzip * http_header_content-language_text/html\", \"http_header_content-encoding_gzip\"], \"type\": \"bar\", \"uid\": \"a40980ac-50b7-4190-9339-68982a1b6301\"}], {\"autosize\": false, \"height\": 1000, \"width\": 1000, \"xaxis\": {\"tickfont\": {\"color\": \"black\", \"size\": 12}, \"title\": \"Feature Importances\"}, \"yaxis\": {\"automargin\": true}}, {\"showLink\": true, \"linkText\": \"Export to plot.ly\", \"plotlyServerURL\": \"https://plot.ly\"})});</script>"
      ]
     },
     "metadata": {},
     "output_type": "display_data"
    },
    {
     "name": "stdout",
     "output_type": "stream",
     "text": [
      "\n",
      "\n",
      "\u001b[1mAdaoost Classifier\u001b[0m\n",
      "Accuracy of the model for training data is: 0.882428306619\n",
      "Confusion Matrix for training data is:\n"
     ]
    },
    {
     "data": {
      "text/plain": [
       "Predicted  False  True  __all__\n",
       "Actual                         \n",
       "False      31751   102    31853\n",
       "True        4211   620     4831\n",
       "__all__    35962   722    36684"
      ]
     },
     "metadata": {},
     "output_type": "display_data"
    },
    {
     "name": "stdout",
     "output_type": "stream",
     "text": [
      "Accuracy of the model for test data is: 0.882904491932\n",
      "Confusion Matrix for test data is:\n"
     ]
    },
    {
     "data": {
      "text/plain": [
       "Predicted  False  True  __all__\n",
       "Actual                         \n",
       "False       7957    25     7982\n",
       "True        1049   141     1190\n",
       "__all__     9006   166     9172"
      ]
     },
     "metadata": {},
     "output_type": "display_data"
    },
    {
     "data": {
      "application/vnd.plotly.v1+json": {
       "config": {
        "linkText": "Export to plot.ly",
        "plotlyServerURL": "https://plot.ly",
        "showLink": true
       },
       "data": [
        {
         "marker": {
          "color": "rgb(158,202,225)",
          "line": {
           "color": "rgb(8,48,107)",
           "width": 1.5
          }
         },
         "opacity": 0.6,
         "orientation": "h",
         "text": [
          0.22,
          0.1,
          0.08,
          0.08,
          0.06,
          0.06,
          0.04,
          0.04,
          0.04,
          0.04,
          0.04,
          0.02,
          0.02,
          0.02,
          0.02,
          0.02,
          0.02,
          0.02,
          0.02,
          0.02,
          0.02,
          0,
          0,
          0,
          0,
          0,
          0,
          0,
          0,
          0,
          0,
          0,
          0,
          0,
          0,
          0
         ],
         "textposition": "outside",
         "type": "bar",
         "uid": "334bc019-a09f-4059-9ee1-3d45904c0949",
         "x": [
          0.22,
          0.1,
          0.08,
          0.08,
          0.06,
          0.06,
          0.04,
          0.04,
          0.04,
          0.04,
          0.04,
          0.02,
          0.02,
          0.02,
          0.02,
          0.02,
          0.02,
          0.02,
          0.02,
          0.02,
          0.02,
          0,
          0,
          0,
          0,
          0,
          0,
          0,
          0,
          0,
          0,
          0,
          0,
          0,
          0,
          0
         ],
         "y": [
          "http_header_vary_age / http_header_content-length",
          "http_header_connection_keep-alive + http_header_content-language_text/html",
          "http_header_content-encoding_gzip + http_header_transfer-encoding_chunked",
          "http_header_content-encoding_gzip + http_header_pragmano-cache",
          "http_header_cache-control_set_max-age + http_header_content-encoding_gzip",
          "http_header_connection_keep-alive + http_header_vary_accept",
          "http_header_cache-control_set_must-revalidate + http_header_content-encoding_gzip",
          "http_header_cache-control_set_private + http_header_vary_accept",
          "http_header_connection_close + http_header_content-language_text/html",
          "http_header_content-encoding_gzip + http_header_server_nginx",
          "http_header_content-encoding_gzip + http_header_expect-ctmax-age",
          "http_header_content-encoding_gzip + http_header_x-xss-enabled",
          "http_header_connection_keep-alive * http_header_content-language_text/html",
          "http_header_content-encoding_gzip + http_header_vary_age",
          "http_header_cache-control_set_max-age + http_header_transfer-encoding_chunked",
          "http_header_cache-control_set_no-store + http_header_vary_accept",
          "http_header_content-language_text/html + http_header_via_1.1",
          "http_header_transfer-encoding_chunked + http_header_via_1.1",
          "http_header_cache-control_set_public + http_header_content-encoding_gzip",
          "http_header_connection_keep-alive / http_header_content-language_text/html",
          "http_header_transfer-encoding_chunked + http_header_vary_accept",
          "http_header_transfer-encoding_chunked + http_header_x-xss-enabled",
          "http_header_cache-control_set_private + http_header_content-encoding_gzip",
          "http_header_cache-control_set_private + http_header_transfer-encoding_chunked",
          "http_header_cache-control_set_public + http_header_transfer-encoding_chunked",
          "http_header_content-language_text/html / http_header_content-encoding_gzip",
          "http_header_transfer-encoding_chunked",
          "http_header_content-encoding_gzip + http_header_via_1.1",
          "http_header_content-encoding_gzip",
          "http_header_content-encoding_gzip * http_header_content-language_text/html",
          "http_header_content-encoding_gzip + http_header_content-language_text/html",
          "http_header_content-language_text/html / http_header_connection_keep-alive",
          "http_header_content-language_text/html",
          "http_header_content-encoding_gzip / http_header_content-language_text/html",
          "http_header_content-encoding_gzip + http_header_vary_accept",
          "http_header_content-language_text/html + http_header_transfer-encoding_chunked"
         ]
        }
       ],
       "layout": {
        "autosize": false,
        "height": 1000,
        "width": 1000,
        "xaxis": {
         "tickfont": {
          "color": "black",
          "size": 12
         },
         "title": "Feature Importances"
        },
        "yaxis": {
         "automargin": true
        }
       }
      },
      "text/html": [
       "<div id=\"89c5c77d-adbc-484e-93ff-38c33561a1f8\" style=\"height: 1000px; width: 1000px;\" class=\"plotly-graph-div\"></div><script type=\"text/javascript\">require([\"plotly\"], function(Plotly) { window.PLOTLYENV=window.PLOTLYENV || {};window.PLOTLYENV.BASE_URL=\"https://plot.ly\";Plotly.newPlot(\"89c5c77d-adbc-484e-93ff-38c33561a1f8\", [{\"marker\": {\"color\": \"rgb(158,202,225)\", \"line\": {\"color\": \"rgb(8,48,107)\", \"width\": 1.5}}, \"opacity\": 0.6, \"orientation\": \"h\", \"text\": [0.22, 0.1, 0.08, 0.08, 0.06, 0.06, 0.04, 0.04, 0.04, 0.04, 0.04, 0.02, 0.02, 0.02, 0.02, 0.02, 0.02, 0.02, 0.02, 0.02, 0.02, 0.0, 0.0, 0.0, 0.0, 0.0, 0.0, 0.0, 0.0, 0.0, 0.0, 0.0, 0.0, 0.0, 0.0, 0.0], \"textposition\": \"outside\", \"x\": [0.22, 0.1, 0.08, 0.08, 0.06, 0.06, 0.04, 0.04, 0.04, 0.04, 0.04, 0.02, 0.02, 0.02, 0.02, 0.02, 0.02, 0.02, 0.02, 0.02, 0.02, 0.0, 0.0, 0.0, 0.0, 0.0, 0.0, 0.0, 0.0, 0.0, 0.0, 0.0, 0.0, 0.0, 0.0, 0.0], \"y\": [\"http_header_vary_age / http_header_content-length\", \"http_header_connection_keep-alive + http_header_content-language_text/html\", \"http_header_content-encoding_gzip + http_header_transfer-encoding_chunked\", \"http_header_content-encoding_gzip + http_header_pragmano-cache\", \"http_header_cache-control_set_max-age + http_header_content-encoding_gzip\", \"http_header_connection_keep-alive + http_header_vary_accept\", \"http_header_cache-control_set_must-revalidate + http_header_content-encoding_gzip\", \"http_header_cache-control_set_private + http_header_vary_accept\", \"http_header_connection_close + http_header_content-language_text/html\", \"http_header_content-encoding_gzip + http_header_server_nginx\", \"http_header_content-encoding_gzip + http_header_expect-ctmax-age\", \"http_header_content-encoding_gzip + http_header_x-xss-enabled\", \"http_header_connection_keep-alive * http_header_content-language_text/html\", \"http_header_content-encoding_gzip + http_header_vary_age\", \"http_header_cache-control_set_max-age + http_header_transfer-encoding_chunked\", \"http_header_cache-control_set_no-store + http_header_vary_accept\", \"http_header_content-language_text/html + http_header_via_1.1\", \"http_header_transfer-encoding_chunked + http_header_via_1.1\", \"http_header_cache-control_set_public + http_header_content-encoding_gzip\", \"http_header_connection_keep-alive / http_header_content-language_text/html\", \"http_header_transfer-encoding_chunked + http_header_vary_accept\", \"http_header_transfer-encoding_chunked + http_header_x-xss-enabled\", \"http_header_cache-control_set_private + http_header_content-encoding_gzip\", \"http_header_cache-control_set_private + http_header_transfer-encoding_chunked\", \"http_header_cache-control_set_public + http_header_transfer-encoding_chunked\", \"http_header_content-language_text/html / http_header_content-encoding_gzip\", \"http_header_transfer-encoding_chunked\", \"http_header_content-encoding_gzip + http_header_via_1.1\", \"http_header_content-encoding_gzip\", \"http_header_content-encoding_gzip * http_header_content-language_text/html\", \"http_header_content-encoding_gzip + http_header_content-language_text/html\", \"http_header_content-language_text/html / http_header_connection_keep-alive\", \"http_header_content-language_text/html\", \"http_header_content-encoding_gzip / http_header_content-language_text/html\", \"http_header_content-encoding_gzip + http_header_vary_accept\", \"http_header_content-language_text/html + http_header_transfer-encoding_chunked\"], \"type\": \"bar\", \"uid\": \"334bc019-a09f-4059-9ee1-3d45904c0949\"}], {\"autosize\": false, \"height\": 1000, \"width\": 1000, \"xaxis\": {\"tickfont\": {\"color\": \"black\", \"size\": 12}, \"title\": \"Feature Importances\"}, \"yaxis\": {\"automargin\": true}}, {\"showLink\": true, \"linkText\": \"Export to plot.ly\", \"plotlyServerURL\": \"https://plot.ly\"})});</script>"
      ],
      "text/vnd.plotly.v1+html": [
       "<div id=\"89c5c77d-adbc-484e-93ff-38c33561a1f8\" style=\"height: 1000px; width: 1000px;\" class=\"plotly-graph-div\"></div><script type=\"text/javascript\">require([\"plotly\"], function(Plotly) { window.PLOTLYENV=window.PLOTLYENV || {};window.PLOTLYENV.BASE_URL=\"https://plot.ly\";Plotly.newPlot(\"89c5c77d-adbc-484e-93ff-38c33561a1f8\", [{\"marker\": {\"color\": \"rgb(158,202,225)\", \"line\": {\"color\": \"rgb(8,48,107)\", \"width\": 1.5}}, \"opacity\": 0.6, \"orientation\": \"h\", \"text\": [0.22, 0.1, 0.08, 0.08, 0.06, 0.06, 0.04, 0.04, 0.04, 0.04, 0.04, 0.02, 0.02, 0.02, 0.02, 0.02, 0.02, 0.02, 0.02, 0.02, 0.02, 0.0, 0.0, 0.0, 0.0, 0.0, 0.0, 0.0, 0.0, 0.0, 0.0, 0.0, 0.0, 0.0, 0.0, 0.0], \"textposition\": \"outside\", \"x\": [0.22, 0.1, 0.08, 0.08, 0.06, 0.06, 0.04, 0.04, 0.04, 0.04, 0.04, 0.02, 0.02, 0.02, 0.02, 0.02, 0.02, 0.02, 0.02, 0.02, 0.02, 0.0, 0.0, 0.0, 0.0, 0.0, 0.0, 0.0, 0.0, 0.0, 0.0, 0.0, 0.0, 0.0, 0.0, 0.0], \"y\": [\"http_header_vary_age / http_header_content-length\", \"http_header_connection_keep-alive + http_header_content-language_text/html\", \"http_header_content-encoding_gzip + http_header_transfer-encoding_chunked\", \"http_header_content-encoding_gzip + http_header_pragmano-cache\", \"http_header_cache-control_set_max-age + http_header_content-encoding_gzip\", \"http_header_connection_keep-alive + http_header_vary_accept\", \"http_header_cache-control_set_must-revalidate + http_header_content-encoding_gzip\", \"http_header_cache-control_set_private + http_header_vary_accept\", \"http_header_connection_close + http_header_content-language_text/html\", \"http_header_content-encoding_gzip + http_header_server_nginx\", \"http_header_content-encoding_gzip + http_header_expect-ctmax-age\", \"http_header_content-encoding_gzip + http_header_x-xss-enabled\", \"http_header_connection_keep-alive * http_header_content-language_text/html\", \"http_header_content-encoding_gzip + http_header_vary_age\", \"http_header_cache-control_set_max-age + http_header_transfer-encoding_chunked\", \"http_header_cache-control_set_no-store + http_header_vary_accept\", \"http_header_content-language_text/html + http_header_via_1.1\", \"http_header_transfer-encoding_chunked + http_header_via_1.1\", \"http_header_cache-control_set_public + http_header_content-encoding_gzip\", \"http_header_connection_keep-alive / http_header_content-language_text/html\", \"http_header_transfer-encoding_chunked + http_header_vary_accept\", \"http_header_transfer-encoding_chunked + http_header_x-xss-enabled\", \"http_header_cache-control_set_private + http_header_content-encoding_gzip\", \"http_header_cache-control_set_private + http_header_transfer-encoding_chunked\", \"http_header_cache-control_set_public + http_header_transfer-encoding_chunked\", \"http_header_content-language_text/html / http_header_content-encoding_gzip\", \"http_header_transfer-encoding_chunked\", \"http_header_content-encoding_gzip + http_header_via_1.1\", \"http_header_content-encoding_gzip\", \"http_header_content-encoding_gzip * http_header_content-language_text/html\", \"http_header_content-encoding_gzip + http_header_content-language_text/html\", \"http_header_content-language_text/html / http_header_connection_keep-alive\", \"http_header_content-language_text/html\", \"http_header_content-encoding_gzip / http_header_content-language_text/html\", \"http_header_content-encoding_gzip + http_header_vary_accept\", \"http_header_content-language_text/html + http_header_transfer-encoding_chunked\"], \"type\": \"bar\", \"uid\": \"334bc019-a09f-4059-9ee1-3d45904c0949\"}], {\"autosize\": false, \"height\": 1000, \"width\": 1000, \"xaxis\": {\"tickfont\": {\"color\": \"black\", \"size\": 12}, \"title\": \"Feature Importances\"}, \"yaxis\": {\"automargin\": true}}, {\"showLink\": true, \"linkText\": \"Export to plot.ly\", \"plotlyServerURL\": \"https://plot.ly\"})});</script>"
      ]
     },
     "metadata": {},
     "output_type": "display_data"
    },
    {
     "name": "stdout",
     "output_type": "stream",
     "text": [
      "\n",
      "\n",
      "\u001b[1mGradientBoosting Classifier\u001b[0m\n",
      "Accuracy of the model for training data is: 0.894449896413\n",
      "Confusion Matrix for training data is:\n"
     ]
    },
    {
     "data": {
      "text/plain": [
       "Predicted  False  True  __all__\n",
       "Actual                         \n",
       "False      28947  2906    31853\n",
       "True         966  3865     4831\n",
       "__all__    29913  6771    36684"
      ]
     },
     "metadata": {},
     "output_type": "display_data"
    },
    {
     "name": "stdout",
     "output_type": "stream",
     "text": [
      "Accuracy of the model for test data is: 0.892935019625\n",
      "Confusion Matrix for test data is:\n"
     ]
    },
    {
     "data": {
      "text/plain": [
       "Predicted  False  True  __all__\n",
       "Actual                         \n",
       "False       7257   725     7982\n",
       "True         257   933     1190\n",
       "__all__     7514  1658     9172"
      ]
     },
     "metadata": {},
     "output_type": "display_data"
    },
    {
     "data": {
      "application/vnd.plotly.v1+json": {
       "config": {
        "linkText": "Export to plot.ly",
        "plotlyServerURL": "https://plot.ly",
        "showLink": true
       },
       "data": [
        {
         "marker": {
          "color": "rgb(158,202,225)",
          "line": {
           "color": "rgb(8,48,107)",
           "width": 1.5
          }
         },
         "opacity": 0.6,
         "orientation": "h",
         "text": [
          0.4036,
          0.1444,
          0.1339,
          0.0557,
          0.0481,
          0.045,
          0.0375,
          0.0329,
          0.0194,
          0.0172,
          0.0125,
          0.0122,
          0.0091,
          0.0061,
          0.0036,
          0.0027,
          0.0027,
          0.0024,
          0.0022,
          0.0017,
          0.0015,
          0.0013,
          0.0012,
          0.001,
          0.0007,
          0.0005,
          0.0004,
          0.0002,
          0.0001,
          0.0001,
          0.0001,
          0,
          0,
          0,
          0,
          0
         ],
         "textposition": "outside",
         "type": "bar",
         "uid": "6d9efa10-00ae-44c3-9ed6-fba3940f7cad",
         "x": [
          0.4035635037733047,
          0.144432546229641,
          0.13386043364389613,
          0.0556913641646662,
          0.048098224066133524,
          0.04500033925267949,
          0.03753419399239362,
          0.03286804481369025,
          0.019368082984124724,
          0.01720637550324782,
          0.012460110085145271,
          0.012208414137822827,
          0.009093585845966897,
          0.006095439333254498,
          0.0036457588245743552,
          0.002737684458027375,
          0.0027328819604468904,
          0.0023876989979790533,
          0.002226454122058755,
          0.0016649122402049685,
          0.001503231136163185,
          0.0012801393785945954,
          0.0012489869147139358,
          0.0010022454469609423,
          0.0006947855010515668,
          0.000506251489892951,
          0.00042175157783137595,
          0.00018382030544942193,
          0.00011645026610581681,
          8.21796975495208e-05,
          5.407292178407571e-05,
          3.0036934644171833e-05,
          0,
          0,
          0,
          0
         ],
         "y": [
          "http_header_content-encoding_gzip + http_header_transfer-encoding_chunked",
          "http_header_cache-control_set_max-age + http_header_content-encoding_gzip",
          "http_header_vary_age / http_header_content-length",
          "http_header_connection_keep-alive + http_header_content-language_text/html",
          "http_header_cache-control_set_must-revalidate + http_header_content-encoding_gzip",
          "http_header_content-encoding_gzip + http_header_via_1.1",
          "http_header_content-encoding_gzip + http_header_server_nginx",
          "http_header_cache-control_set_private + http_header_transfer-encoding_chunked",
          "http_header_cache-control_set_private + http_header_vary_accept",
          "http_header_cache-control_set_max-age + http_header_transfer-encoding_chunked",
          "http_header_cache-control_set_private + http_header_content-encoding_gzip",
          "http_header_connection_close + http_header_content-language_text/html",
          "http_header_cache-control_set_no-store + http_header_vary_accept",
          "http_header_content-encoding_gzip + http_header_pragmano-cache",
          "http_header_transfer-encoding_chunked + http_header_via_1.1",
          "http_header_content-encoding_gzip + http_header_x-xss-enabled",
          "http_header_connection_keep-alive / http_header_content-language_text/html",
          "http_header_content-language_text/html / http_header_connection_keep-alive",
          "http_header_transfer-encoding_chunked + http_header_vary_accept",
          "http_header_content-language_text/html + http_header_via_1.1",
          "http_header_connection_keep-alive + http_header_vary_accept",
          "http_header_connection_keep-alive * http_header_content-language_text/html",
          "http_header_content-encoding_gzip + http_header_expect-ctmax-age",
          "http_header_transfer-encoding_chunked + http_header_x-xss-enabled",
          "http_header_cache-control_set_public + http_header_content-encoding_gzip",
          "http_header_content-encoding_gzip + http_header_content-language_text/html",
          "http_header_content-language_text/html + http_header_transfer-encoding_chunked",
          "http_header_content-encoding_gzip + http_header_vary_age",
          "http_header_content-language_text/html",
          "http_header_cache-control_set_public + http_header_transfer-encoding_chunked",
          "http_header_content-encoding_gzip",
          "http_header_content-language_text/html / http_header_content-encoding_gzip",
          "http_header_content-encoding_gzip * http_header_content-language_text/html",
          "http_header_content-encoding_gzip + http_header_vary_accept",
          "http_header_content-encoding_gzip / http_header_content-language_text/html",
          "http_header_transfer-encoding_chunked"
         ]
        }
       ],
       "layout": {
        "autosize": false,
        "height": 1000,
        "width": 1000,
        "xaxis": {
         "tickfont": {
          "color": "black",
          "size": 12
         },
         "title": "Feature Importances"
        },
        "yaxis": {
         "automargin": true
        }
       }
      },
      "text/html": [
       "<div id=\"bb30c28b-5fbb-43a4-bf7d-51d6cb35cc8d\" style=\"height: 1000px; width: 1000px;\" class=\"plotly-graph-div\"></div><script type=\"text/javascript\">require([\"plotly\"], function(Plotly) { window.PLOTLYENV=window.PLOTLYENV || {};window.PLOTLYENV.BASE_URL=\"https://plot.ly\";Plotly.newPlot(\"bb30c28b-5fbb-43a4-bf7d-51d6cb35cc8d\", [{\"marker\": {\"color\": \"rgb(158,202,225)\", \"line\": {\"color\": \"rgb(8,48,107)\", \"width\": 1.5}}, \"opacity\": 0.6, \"orientation\": \"h\", \"text\": [0.4036, 0.1444, 0.1339, 0.0557, 0.0481, 0.045, 0.0375, 0.0329, 0.0194, 0.0172, 0.0125, 0.0122, 0.0091, 0.0061, 0.0036, 0.0027, 0.0027, 0.0024, 0.0022, 0.0017, 0.0015, 0.0013, 0.0012, 0.001, 0.0007, 0.0005, 0.0004, 0.0002, 0.0001, 0.0001, 0.0001, 0.0, 0.0, 0.0, 0.0, 0.0], \"textposition\": \"outside\", \"x\": [0.4035635037733047, 0.144432546229641, 0.13386043364389613, 0.0556913641646662, 0.048098224066133524, 0.04500033925267949, 0.03753419399239362, 0.03286804481369025, 0.019368082984124724, 0.01720637550324782, 0.012460110085145271, 0.012208414137822827, 0.009093585845966897, 0.006095439333254498, 0.0036457588245743552, 0.002737684458027375, 0.0027328819604468904, 0.0023876989979790533, 0.002226454122058755, 0.0016649122402049685, 0.001503231136163185, 0.0012801393785945954, 0.0012489869147139358, 0.0010022454469609423, 0.0006947855010515668, 0.000506251489892951, 0.00042175157783137595, 0.00018382030544942193, 0.00011645026610581681, 8.21796975495208e-05, 5.407292178407571e-05, 3.0036934644171833e-05, 0.0, 0.0, 0.0, 0.0], \"y\": [\"http_header_content-encoding_gzip + http_header_transfer-encoding_chunked\", \"http_header_cache-control_set_max-age + http_header_content-encoding_gzip\", \"http_header_vary_age / http_header_content-length\", \"http_header_connection_keep-alive + http_header_content-language_text/html\", \"http_header_cache-control_set_must-revalidate + http_header_content-encoding_gzip\", \"http_header_content-encoding_gzip + http_header_via_1.1\", \"http_header_content-encoding_gzip + http_header_server_nginx\", \"http_header_cache-control_set_private + http_header_transfer-encoding_chunked\", \"http_header_cache-control_set_private + http_header_vary_accept\", \"http_header_cache-control_set_max-age + http_header_transfer-encoding_chunked\", \"http_header_cache-control_set_private + http_header_content-encoding_gzip\", \"http_header_connection_close + http_header_content-language_text/html\", \"http_header_cache-control_set_no-store + http_header_vary_accept\", \"http_header_content-encoding_gzip + http_header_pragmano-cache\", \"http_header_transfer-encoding_chunked + http_header_via_1.1\", \"http_header_content-encoding_gzip + http_header_x-xss-enabled\", \"http_header_connection_keep-alive / http_header_content-language_text/html\", \"http_header_content-language_text/html / http_header_connection_keep-alive\", \"http_header_transfer-encoding_chunked + http_header_vary_accept\", \"http_header_content-language_text/html + http_header_via_1.1\", \"http_header_connection_keep-alive + http_header_vary_accept\", \"http_header_connection_keep-alive * http_header_content-language_text/html\", \"http_header_content-encoding_gzip + http_header_expect-ctmax-age\", \"http_header_transfer-encoding_chunked + http_header_x-xss-enabled\", \"http_header_cache-control_set_public + http_header_content-encoding_gzip\", \"http_header_content-encoding_gzip + http_header_content-language_text/html\", \"http_header_content-language_text/html + http_header_transfer-encoding_chunked\", \"http_header_content-encoding_gzip + http_header_vary_age\", \"http_header_content-language_text/html\", \"http_header_cache-control_set_public + http_header_transfer-encoding_chunked\", \"http_header_content-encoding_gzip\", \"http_header_content-language_text/html / http_header_content-encoding_gzip\", \"http_header_content-encoding_gzip * http_header_content-language_text/html\", \"http_header_content-encoding_gzip + http_header_vary_accept\", \"http_header_content-encoding_gzip / http_header_content-language_text/html\", \"http_header_transfer-encoding_chunked\"], \"type\": \"bar\", \"uid\": \"6d9efa10-00ae-44c3-9ed6-fba3940f7cad\"}], {\"autosize\": false, \"height\": 1000, \"width\": 1000, \"xaxis\": {\"tickfont\": {\"color\": \"black\", \"size\": 12}, \"title\": \"Feature Importances\"}, \"yaxis\": {\"automargin\": true}}, {\"showLink\": true, \"linkText\": \"Export to plot.ly\", \"plotlyServerURL\": \"https://plot.ly\"})});</script>"
      ],
      "text/vnd.plotly.v1+html": [
       "<div id=\"bb30c28b-5fbb-43a4-bf7d-51d6cb35cc8d\" style=\"height: 1000px; width: 1000px;\" class=\"plotly-graph-div\"></div><script type=\"text/javascript\">require([\"plotly\"], function(Plotly) { window.PLOTLYENV=window.PLOTLYENV || {};window.PLOTLYENV.BASE_URL=\"https://plot.ly\";Plotly.newPlot(\"bb30c28b-5fbb-43a4-bf7d-51d6cb35cc8d\", [{\"marker\": {\"color\": \"rgb(158,202,225)\", \"line\": {\"color\": \"rgb(8,48,107)\", \"width\": 1.5}}, \"opacity\": 0.6, \"orientation\": \"h\", \"text\": [0.4036, 0.1444, 0.1339, 0.0557, 0.0481, 0.045, 0.0375, 0.0329, 0.0194, 0.0172, 0.0125, 0.0122, 0.0091, 0.0061, 0.0036, 0.0027, 0.0027, 0.0024, 0.0022, 0.0017, 0.0015, 0.0013, 0.0012, 0.001, 0.0007, 0.0005, 0.0004, 0.0002, 0.0001, 0.0001, 0.0001, 0.0, 0.0, 0.0, 0.0, 0.0], \"textposition\": \"outside\", \"x\": [0.4035635037733047, 0.144432546229641, 0.13386043364389613, 0.0556913641646662, 0.048098224066133524, 0.04500033925267949, 0.03753419399239362, 0.03286804481369025, 0.019368082984124724, 0.01720637550324782, 0.012460110085145271, 0.012208414137822827, 0.009093585845966897, 0.006095439333254498, 0.0036457588245743552, 0.002737684458027375, 0.0027328819604468904, 0.0023876989979790533, 0.002226454122058755, 0.0016649122402049685, 0.001503231136163185, 0.0012801393785945954, 0.0012489869147139358, 0.0010022454469609423, 0.0006947855010515668, 0.000506251489892951, 0.00042175157783137595, 0.00018382030544942193, 0.00011645026610581681, 8.21796975495208e-05, 5.407292178407571e-05, 3.0036934644171833e-05, 0.0, 0.0, 0.0, 0.0], \"y\": [\"http_header_content-encoding_gzip + http_header_transfer-encoding_chunked\", \"http_header_cache-control_set_max-age + http_header_content-encoding_gzip\", \"http_header_vary_age / http_header_content-length\", \"http_header_connection_keep-alive + http_header_content-language_text/html\", \"http_header_cache-control_set_must-revalidate + http_header_content-encoding_gzip\", \"http_header_content-encoding_gzip + http_header_via_1.1\", \"http_header_content-encoding_gzip + http_header_server_nginx\", \"http_header_cache-control_set_private + http_header_transfer-encoding_chunked\", \"http_header_cache-control_set_private + http_header_vary_accept\", \"http_header_cache-control_set_max-age + http_header_transfer-encoding_chunked\", \"http_header_cache-control_set_private + http_header_content-encoding_gzip\", \"http_header_connection_close + http_header_content-language_text/html\", \"http_header_cache-control_set_no-store + http_header_vary_accept\", \"http_header_content-encoding_gzip + http_header_pragmano-cache\", \"http_header_transfer-encoding_chunked + http_header_via_1.1\", \"http_header_content-encoding_gzip + http_header_x-xss-enabled\", \"http_header_connection_keep-alive / http_header_content-language_text/html\", \"http_header_content-language_text/html / http_header_connection_keep-alive\", \"http_header_transfer-encoding_chunked + http_header_vary_accept\", \"http_header_content-language_text/html + http_header_via_1.1\", \"http_header_connection_keep-alive + http_header_vary_accept\", \"http_header_connection_keep-alive * http_header_content-language_text/html\", \"http_header_content-encoding_gzip + http_header_expect-ctmax-age\", \"http_header_transfer-encoding_chunked + http_header_x-xss-enabled\", \"http_header_cache-control_set_public + http_header_content-encoding_gzip\", \"http_header_content-encoding_gzip + http_header_content-language_text/html\", \"http_header_content-language_text/html + http_header_transfer-encoding_chunked\", \"http_header_content-encoding_gzip + http_header_vary_age\", \"http_header_content-language_text/html\", \"http_header_cache-control_set_public + http_header_transfer-encoding_chunked\", \"http_header_content-encoding_gzip\", \"http_header_content-language_text/html / http_header_content-encoding_gzip\", \"http_header_content-encoding_gzip * http_header_content-language_text/html\", \"http_header_content-encoding_gzip + http_header_vary_accept\", \"http_header_content-encoding_gzip / http_header_content-language_text/html\", \"http_header_transfer-encoding_chunked\"], \"type\": \"bar\", \"uid\": \"6d9efa10-00ae-44c3-9ed6-fba3940f7cad\"}], {\"autosize\": false, \"height\": 1000, \"width\": 1000, \"xaxis\": {\"tickfont\": {\"color\": \"black\", \"size\": 12}, \"title\": \"Feature Importances\"}, \"yaxis\": {\"automargin\": true}}, {\"showLink\": true, \"linkText\": \"Export to plot.ly\", \"plotlyServerURL\": \"https://plot.ly\"})});</script>"
      ]
     },
     "metadata": {},
     "output_type": "display_data"
    },
    {
     "name": "stdout",
     "output_type": "stream",
     "text": [
      "\n",
      "\n",
      "\u001b[1mExtraTree Classifier\u001b[0m\n",
      "Accuracy of the model for training data is: 0.898129974921\n",
      "Confusion Matrix for training data is:\n"
     ]
    },
    {
     "data": {
      "text/plain": [
       "Predicted  False  True  __all__\n",
       "Actual                         \n",
       "False      28948  2905    31853\n",
       "True         832  3999     4831\n",
       "__all__    29780  6904    36684"
      ]
     },
     "metadata": {},
     "output_type": "display_data"
    },
    {
     "name": "stdout",
     "output_type": "stream",
     "text": [
      "Accuracy of the model for test data is: 0.896205843873\n",
      "Confusion Matrix for test data is:\n"
     ]
    },
    {
     "data": {
      "text/plain": [
       "Predicted  False  True  __all__\n",
       "Actual                         \n",
       "False       7255   727     7982\n",
       "True         225   965     1190\n",
       "__all__     7480  1692     9172"
      ]
     },
     "metadata": {},
     "output_type": "display_data"
    },
    {
     "data": {
      "application/vnd.plotly.v1+json": {
       "config": {
        "linkText": "Export to plot.ly",
        "plotlyServerURL": "https://plot.ly",
        "showLink": true
       },
       "data": [
        {
         "marker": {
          "color": "rgb(158,202,225)",
          "line": {
           "color": "rgb(8,48,107)",
           "width": 1.5
          }
         },
         "opacity": 0.6,
         "orientation": "h",
         "text": [
          0.1483,
          0.1053,
          0.1017,
          0.0587,
          0.0584,
          0.0567,
          0.0482,
          0.0475,
          0.0459,
          0.0382,
          0.0311,
          0.0265,
          0.0264,
          0.0245,
          0.0187,
          0.0182,
          0.0158,
          0.014,
          0.012,
          0.0111,
          0.0108,
          0.0108,
          0.0107,
          0.0104,
          0.0078,
          0.0068,
          0.0067,
          0.0059,
          0.0057,
          0.0054,
          0.0042,
          0.0036,
          0.0025,
          0.0015,
          0,
          0
         ],
         "textposition": "outside",
         "type": "bar",
         "uid": "fd8b18df-d48a-46f4-8ff6-eb3d285a87d8",
         "x": [
          0.14831250175721217,
          0.10530672613893736,
          0.10167274246268913,
          0.05872170760846516,
          0.058362006860900525,
          0.056734164304719406,
          0.04822880384868686,
          0.047530088875014614,
          0.045881577547663074,
          0.03822814914164448,
          0.03108173684526715,
          0.02645358831545061,
          0.026426686771587576,
          0.02451736959424372,
          0.018744812003602784,
          0.01818712104432115,
          0.015820802248917784,
          0.01398959525255163,
          0.011959654589124184,
          0.01112914577995751,
          0.010783139164594382,
          0.01078135578088646,
          0.010665588350364545,
          0.010395183012164466,
          0.007776530265952751,
          0.006772639800481137,
          0.006717067131149822,
          0.005869023799987128,
          0.005689049667235395,
          0.005420574676574173,
          0.004184852959635489,
          0.0036177470889127254,
          0.0025465136651709533,
          0.0014683823082323165,
          1.9339490852053474e-05,
          4.031846849343056e-06
         ],
         "y": [
          "http_header_content-encoding_gzip + http_header_via_1.1",
          "http_header_vary_age / http_header_content-length",
          "http_header_content-encoding_gzip + http_header_x-xss-enabled",
          "http_header_content-encoding_gzip + http_header_vary_age",
          "http_header_content-language_text/html + http_header_via_1.1",
          "http_header_content-encoding_gzip / http_header_content-language_text/html",
          "http_header_cache-control_set_public + http_header_content-encoding_gzip",
          "http_header_content-encoding_gzip + http_header_server_nginx",
          "http_header_content-encoding_gzip * http_header_content-language_text/html",
          "http_header_cache-control_set_max-age + http_header_transfer-encoding_chunked",
          "http_header_connection_keep-alive + http_header_content-language_text/html",
          "http_header_content-encoding_gzip + http_header_pragmano-cache",
          "http_header_cache-control_set_must-revalidate + http_header_content-encoding_gzip",
          "http_header_cache-control_set_no-store + http_header_vary_accept",
          "http_header_content-encoding_gzip + http_header_content-language_text/html",
          "http_header_connection_close + http_header_content-language_text/html",
          "http_header_content-language_text/html / http_header_connection_keep-alive",
          "http_header_connection_keep-alive / http_header_content-language_text/html",
          "http_header_cache-control_set_private + http_header_transfer-encoding_chunked",
          "http_header_cache-control_set_public + http_header_transfer-encoding_chunked",
          "http_header_cache-control_set_max-age + http_header_content-encoding_gzip",
          "http_header_transfer-encoding_chunked + http_header_via_1.1",
          "http_header_transfer-encoding_chunked + http_header_x-xss-enabled",
          "http_header_connection_keep-alive + http_header_vary_accept",
          "http_header_content-language_text/html",
          "http_header_content-encoding_gzip + http_header_transfer-encoding_chunked",
          "http_header_connection_keep-alive * http_header_content-language_text/html",
          "http_header_cache-control_set_private + http_header_vary_accept",
          "http_header_cache-control_set_private + http_header_content-encoding_gzip",
          "http_header_transfer-encoding_chunked",
          "http_header_content-language_text/html + http_header_transfer-encoding_chunked",
          "http_header_transfer-encoding_chunked + http_header_vary_accept",
          "http_header_content-encoding_gzip + http_header_expect-ctmax-age",
          "http_header_content-encoding_gzip + http_header_vary_accept",
          "http_header_content-encoding_gzip",
          "http_header_content-language_text/html / http_header_content-encoding_gzip"
         ]
        }
       ],
       "layout": {
        "autosize": false,
        "height": 1000,
        "width": 1000,
        "xaxis": {
         "tickfont": {
          "color": "black",
          "size": 12
         },
         "title": "Feature Importances"
        },
        "yaxis": {
         "automargin": true
        }
       }
      },
      "text/html": [
       "<div id=\"093b9538-bd0c-4956-ad9f-a8ce14a8ac7d\" style=\"height: 1000px; width: 1000px;\" class=\"plotly-graph-div\"></div><script type=\"text/javascript\">require([\"plotly\"], function(Plotly) { window.PLOTLYENV=window.PLOTLYENV || {};window.PLOTLYENV.BASE_URL=\"https://plot.ly\";Plotly.newPlot(\"093b9538-bd0c-4956-ad9f-a8ce14a8ac7d\", [{\"marker\": {\"color\": \"rgb(158,202,225)\", \"line\": {\"color\": \"rgb(8,48,107)\", \"width\": 1.5}}, \"opacity\": 0.6, \"orientation\": \"h\", \"text\": [0.1483, 0.1053, 0.1017, 0.0587, 0.0584, 0.0567, 0.0482, 0.0475, 0.0459, 0.0382, 0.0311, 0.0265, 0.0264, 0.0245, 0.0187, 0.0182, 0.0158, 0.014, 0.012, 0.0111, 0.0108, 0.0108, 0.0107, 0.0104, 0.0078, 0.0068, 0.0067, 0.0059, 0.0057, 0.0054, 0.0042, 0.0036, 0.0025, 0.0015, 0.0, 0.0], \"textposition\": \"outside\", \"x\": [0.14831250175721217, 0.10530672613893736, 0.10167274246268913, 0.05872170760846516, 0.058362006860900525, 0.056734164304719406, 0.04822880384868686, 0.047530088875014614, 0.045881577547663074, 0.03822814914164448, 0.03108173684526715, 0.02645358831545061, 0.026426686771587576, 0.02451736959424372, 0.018744812003602784, 0.01818712104432115, 0.015820802248917784, 0.01398959525255163, 0.011959654589124184, 0.01112914577995751, 0.010783139164594382, 0.01078135578088646, 0.010665588350364545, 0.010395183012164466, 0.007776530265952751, 0.006772639800481137, 0.006717067131149822, 0.005869023799987128, 0.005689049667235395, 0.005420574676574173, 0.004184852959635489, 0.0036177470889127254, 0.0025465136651709533, 0.0014683823082323165, 1.9339490852053474e-05, 4.031846849343056e-06], \"y\": [\"http_header_content-encoding_gzip + http_header_via_1.1\", \"http_header_vary_age / http_header_content-length\", \"http_header_content-encoding_gzip + http_header_x-xss-enabled\", \"http_header_content-encoding_gzip + http_header_vary_age\", \"http_header_content-language_text/html + http_header_via_1.1\", \"http_header_content-encoding_gzip / http_header_content-language_text/html\", \"http_header_cache-control_set_public + http_header_content-encoding_gzip\", \"http_header_content-encoding_gzip + http_header_server_nginx\", \"http_header_content-encoding_gzip * http_header_content-language_text/html\", \"http_header_cache-control_set_max-age + http_header_transfer-encoding_chunked\", \"http_header_connection_keep-alive + http_header_content-language_text/html\", \"http_header_content-encoding_gzip + http_header_pragmano-cache\", \"http_header_cache-control_set_must-revalidate + http_header_content-encoding_gzip\", \"http_header_cache-control_set_no-store + http_header_vary_accept\", \"http_header_content-encoding_gzip + http_header_content-language_text/html\", \"http_header_connection_close + http_header_content-language_text/html\", \"http_header_content-language_text/html / http_header_connection_keep-alive\", \"http_header_connection_keep-alive / http_header_content-language_text/html\", \"http_header_cache-control_set_private + http_header_transfer-encoding_chunked\", \"http_header_cache-control_set_public + http_header_transfer-encoding_chunked\", \"http_header_cache-control_set_max-age + http_header_content-encoding_gzip\", \"http_header_transfer-encoding_chunked + http_header_via_1.1\", \"http_header_transfer-encoding_chunked + http_header_x-xss-enabled\", \"http_header_connection_keep-alive + http_header_vary_accept\", \"http_header_content-language_text/html\", \"http_header_content-encoding_gzip + http_header_transfer-encoding_chunked\", \"http_header_connection_keep-alive * http_header_content-language_text/html\", \"http_header_cache-control_set_private + http_header_vary_accept\", \"http_header_cache-control_set_private + http_header_content-encoding_gzip\", \"http_header_transfer-encoding_chunked\", \"http_header_content-language_text/html + http_header_transfer-encoding_chunked\", \"http_header_transfer-encoding_chunked + http_header_vary_accept\", \"http_header_content-encoding_gzip + http_header_expect-ctmax-age\", \"http_header_content-encoding_gzip + http_header_vary_accept\", \"http_header_content-encoding_gzip\", \"http_header_content-language_text/html / http_header_content-encoding_gzip\"], \"type\": \"bar\", \"uid\": \"fd8b18df-d48a-46f4-8ff6-eb3d285a87d8\"}], {\"autosize\": false, \"height\": 1000, \"width\": 1000, \"xaxis\": {\"tickfont\": {\"color\": \"black\", \"size\": 12}, \"title\": \"Feature Importances\"}, \"yaxis\": {\"automargin\": true}}, {\"showLink\": true, \"linkText\": \"Export to plot.ly\", \"plotlyServerURL\": \"https://plot.ly\"})});</script>"
      ],
      "text/vnd.plotly.v1+html": [
       "<div id=\"093b9538-bd0c-4956-ad9f-a8ce14a8ac7d\" style=\"height: 1000px; width: 1000px;\" class=\"plotly-graph-div\"></div><script type=\"text/javascript\">require([\"plotly\"], function(Plotly) { window.PLOTLYENV=window.PLOTLYENV || {};window.PLOTLYENV.BASE_URL=\"https://plot.ly\";Plotly.newPlot(\"093b9538-bd0c-4956-ad9f-a8ce14a8ac7d\", [{\"marker\": {\"color\": \"rgb(158,202,225)\", \"line\": {\"color\": \"rgb(8,48,107)\", \"width\": 1.5}}, \"opacity\": 0.6, \"orientation\": \"h\", \"text\": [0.1483, 0.1053, 0.1017, 0.0587, 0.0584, 0.0567, 0.0482, 0.0475, 0.0459, 0.0382, 0.0311, 0.0265, 0.0264, 0.0245, 0.0187, 0.0182, 0.0158, 0.014, 0.012, 0.0111, 0.0108, 0.0108, 0.0107, 0.0104, 0.0078, 0.0068, 0.0067, 0.0059, 0.0057, 0.0054, 0.0042, 0.0036, 0.0025, 0.0015, 0.0, 0.0], \"textposition\": \"outside\", \"x\": [0.14831250175721217, 0.10530672613893736, 0.10167274246268913, 0.05872170760846516, 0.058362006860900525, 0.056734164304719406, 0.04822880384868686, 0.047530088875014614, 0.045881577547663074, 0.03822814914164448, 0.03108173684526715, 0.02645358831545061, 0.026426686771587576, 0.02451736959424372, 0.018744812003602784, 0.01818712104432115, 0.015820802248917784, 0.01398959525255163, 0.011959654589124184, 0.01112914577995751, 0.010783139164594382, 0.01078135578088646, 0.010665588350364545, 0.010395183012164466, 0.007776530265952751, 0.006772639800481137, 0.006717067131149822, 0.005869023799987128, 0.005689049667235395, 0.005420574676574173, 0.004184852959635489, 0.0036177470889127254, 0.0025465136651709533, 0.0014683823082323165, 1.9339490852053474e-05, 4.031846849343056e-06], \"y\": [\"http_header_content-encoding_gzip + http_header_via_1.1\", \"http_header_vary_age / http_header_content-length\", \"http_header_content-encoding_gzip + http_header_x-xss-enabled\", \"http_header_content-encoding_gzip + http_header_vary_age\", \"http_header_content-language_text/html + http_header_via_1.1\", \"http_header_content-encoding_gzip / http_header_content-language_text/html\", \"http_header_cache-control_set_public + http_header_content-encoding_gzip\", \"http_header_content-encoding_gzip + http_header_server_nginx\", \"http_header_content-encoding_gzip * http_header_content-language_text/html\", \"http_header_cache-control_set_max-age + http_header_transfer-encoding_chunked\", \"http_header_connection_keep-alive + http_header_content-language_text/html\", \"http_header_content-encoding_gzip + http_header_pragmano-cache\", \"http_header_cache-control_set_must-revalidate + http_header_content-encoding_gzip\", \"http_header_cache-control_set_no-store + http_header_vary_accept\", \"http_header_content-encoding_gzip + http_header_content-language_text/html\", \"http_header_connection_close + http_header_content-language_text/html\", \"http_header_content-language_text/html / http_header_connection_keep-alive\", \"http_header_connection_keep-alive / http_header_content-language_text/html\", \"http_header_cache-control_set_private + http_header_transfer-encoding_chunked\", \"http_header_cache-control_set_public + http_header_transfer-encoding_chunked\", \"http_header_cache-control_set_max-age + http_header_content-encoding_gzip\", \"http_header_transfer-encoding_chunked + http_header_via_1.1\", \"http_header_transfer-encoding_chunked + http_header_x-xss-enabled\", \"http_header_connection_keep-alive + http_header_vary_accept\", \"http_header_content-language_text/html\", \"http_header_content-encoding_gzip + http_header_transfer-encoding_chunked\", \"http_header_connection_keep-alive * http_header_content-language_text/html\", \"http_header_cache-control_set_private + http_header_vary_accept\", \"http_header_cache-control_set_private + http_header_content-encoding_gzip\", \"http_header_transfer-encoding_chunked\", \"http_header_content-language_text/html + http_header_transfer-encoding_chunked\", \"http_header_transfer-encoding_chunked + http_header_vary_accept\", \"http_header_content-encoding_gzip + http_header_expect-ctmax-age\", \"http_header_content-encoding_gzip + http_header_vary_accept\", \"http_header_content-encoding_gzip\", \"http_header_content-language_text/html / http_header_content-encoding_gzip\"], \"type\": \"bar\", \"uid\": \"fd8b18df-d48a-46f4-8ff6-eb3d285a87d8\"}], {\"autosize\": false, \"height\": 1000, \"width\": 1000, \"xaxis\": {\"tickfont\": {\"color\": \"black\", \"size\": 12}, \"title\": \"Feature Importances\"}, \"yaxis\": {\"automargin\": true}}, {\"showLink\": true, \"linkText\": \"Export to plot.ly\", \"plotlyServerURL\": \"https://plot.ly\"})});</script>"
      ]
     },
     "metadata": {},
     "output_type": "display_data"
    },
    {
     "name": "stdout",
     "output_type": "stream",
     "text": [
      "\n",
      "\n",
      "\u001b[1mBagging Classifier\u001b[0m\n",
      "Accuracy of the model for training data is: 0.897966415876\n",
      "Confusion Matrix for training data is:\n"
     ]
    },
    {
     "data": {
      "text/plain": [
       "Predicted  False  True  __all__\n",
       "Actual                         \n",
       "False      28947  2906    31853\n",
       "True         837  3994     4831\n",
       "__all__    29784  6900    36684"
      ]
     },
     "metadata": {},
     "output_type": "display_data"
    },
    {
     "name": "stdout",
     "output_type": "stream",
     "text": [
      "Accuracy of the model for test data is: 0.896423898823\n",
      "Confusion Matrix for test data is:\n"
     ]
    },
    {
     "data": {
      "text/plain": [
       "Predicted  False  True  __all__\n",
       "Actual                         \n",
       "False       7258   724     7982\n",
       "True         226   964     1190\n",
       "__all__     7484  1688     9172"
      ]
     },
     "metadata": {},
     "output_type": "display_data"
    },
    {
     "name": "stdout",
     "output_type": "stream",
     "text": [
      "\n",
      "\n",
      "\u001b[1mNeural Network-1\u001b[0m\n",
      "The accuracy of the model on training data is: 0.890306400611\n"
     ]
    },
    {
     "data": {
      "text/plain": [
       "Predicted  False  True  __all__\n",
       "Actual                         \n",
       "False      28914  2939    31853\n",
       "True        1085  3746     4831\n",
       "__all__    29999  6685    36684"
      ]
     },
     "metadata": {},
     "output_type": "display_data"
    },
    {
     "name": "stdout",
     "output_type": "stream",
     "text": [
      "The accuracy of the model on test data is: 0.891626689926\n"
     ]
    },
    {
     "data": {
      "text/plain": [
       "Predicted  False  True  __all__\n",
       "Actual                         \n",
       "False       7258   724     7982\n",
       "True         270   920     1190\n",
       "__all__     7528  1644     9172"
      ]
     },
     "metadata": {},
     "output_type": "display_data"
    },
    {
     "name": "stdout",
     "output_type": "stream",
     "text": [
      "\n",
      "\n"
     ]
    }
   ],
   "source": [
    "feat_imp=[None]*4\n",
    "j=0\n",
    "for i in range(0,8):\n",
    "    if i>=2 and i<=5:\n",
    "        model,cm_train,cm_test,acc_train,acc_test,roc_auc,feat_imp[j],mcc=f[i](scaled_X_train,train_Y,scaled_X_test,test_Y,columns)\n",
    "        j=j+1\n",
    "    else:\n",
    "        model,cm_train,cm_test,acc_train,acc_test,roc_auc,mcc=f[i](scaled_X_train,train_Y,scaled_X_test,test_Y)\n",
    "    table_80_60_train.loc[i]=   ([acc_train,cm_train.TP,cm_train.TN,cm_train.FP,cm_train.FN,cm_train.FPR,cm_train.FNR])\n",
    "    table_80_60_test.loc[i] =   ([acc_test ,cm_test.TP, cm_test.TN, cm_test.FP, cm_test.FN, cm_test.FPR, cm_test.FNR,roc_auc,mcc])\n",
    "    print(\"\\n\")"
   ]
  },
  {
   "cell_type": "markdown",
   "metadata": {},
   "source": [
    "### <a id='4.A' style=\"text-decoration : none; color : #000000;\"> A. Results</a>"
   ]
  },
  {
   "cell_type": "code",
   "execution_count": 24,
   "metadata": {},
   "outputs": [
    {
     "data": {
      "application/vnd.plotly.v1+json": {
       "config": {
        "linkText": "Export to plot.ly",
        "plotlyServerURL": "https://plot.ly",
        "showLink": true
       },
       "data": [
        {
         "mode": "lines",
         "name": "KNN_model",
         "type": "scatter",
         "uid": "e8f78d8d-c318-4f16-83eb-3bdf8ed4c117",
         "x": [
          "accuracy",
          "FPR",
          "FNR",
          "auc"
         ],
         "y": [
          0.8958787614478849,
          0.09120521172638436,
          0.1907563025210084,
          0.8590192428763036
         ]
        },
        {
         "mode": "lines+markers",
         "name": "Logistic Regression",
         "type": "scatter",
         "uid": "13f78dc3-b216-4cc6-84da-0f7142d123d8",
         "x": [
          "accuracy",
          "FPR",
          "FNR",
          "auc"
         ],
         "y": [
          0.8782163105102486,
          0.07767476822851416,
          0.4176470588235294,
          0.7523390864739783
         ]
        },
        {
         "marker": {
          "symbol": "x"
         },
         "mode": "lines+markers",
         "name": "Random Forest",
         "type": "scatter",
         "uid": "eed95ab9-d961-4cfe-a440-dfa821497c48",
         "x": [
          "accuracy",
          "FPR",
          "FNR",
          "auc"
         ],
         "y": [
          0.8962058438726559,
          0.09095464795790528,
          0.1899159663865546,
          0.85956469282777
         ]
        },
        {
         "mode": "lines",
         "name": "Ada Boost",
         "type": "scatter",
         "uid": "3181cd34-c414-4703-b08d-a12797627c8c",
         "x": [
          "accuracy",
          "FPR",
          "FNR",
          "auc"
         ],
         "y": [
          0.8829044919319669,
          0.003132047105988474,
          0.8815126050420168,
          0.5576776739259973
         ]
        },
        {
         "mode": "lines+markers",
         "name": "GradientBoosting",
         "type": "scatter",
         "uid": "27577632-6c33-4c9d-8e84-aca0a4e88f66",
         "x": [
          "accuracy",
          "FPR",
          "FNR",
          "auc"
         ],
         "y": [
          0.8929350196249455,
          0.09082936607366575,
          0.21596638655462186,
          0.8466021236858561
         ]
        },
        {
         "marker": {
          "symbol": "x"
         },
         "mode": "lines+markers",
         "name": "ExtraTree Classifier",
         "type": "scatter",
         "uid": "5497d08a-15e0-4a51-96bc-92640c527c63",
         "x": [
          "accuracy",
          "FPR",
          "FNR",
          "auc"
         ],
         "y": [
          0.8962058438726559,
          0.09107992984214483,
          0.18907563025210083,
          0.8599222199528772
         ]
        },
        {
         "marker": {
          "symbol": "x"
         },
         "mode": "lines+markers",
         "name": "Bagging",
         "type": "scatter",
         "uid": "9e2952d6-58b9-4d8b-b3cb-f7e847dcd80c",
         "x": [
          "accuracy",
          "FPR",
          "FNR",
          "auc"
         ],
         "y": [
          0.8964238988225033,
          0.09070408418942622,
          0.1899159663865546,
          0.8596899747120096
         ]
        },
        {
         "marker": {
          "symbol": "x"
         },
         "mode": "lines+markers",
         "name": "Neural Network",
         "type": "scatter",
         "uid": "b19f6223-4f6b-4ebd-a631-cf98b5463567",
         "x": [
          "accuracy",
          "FPR",
          "FNR",
          "auc"
         ],
         "y": [
          0.8916266899258614,
          0.09070408418942622,
          0.226890756302521,
          0.8596899747120096
         ]
        }
       ],
       "layout": {
        "title": "Result comparision for Features selected in Section 1",
        "yaxis": {
         "dtick": 0.05,
         "tick0": 0
        }
       }
      },
      "text/html": [
       "<div id=\"a85430e4-9f75-40da-95ee-c209393f19e2\" style=\"height: 525px; width: 100%;\" class=\"plotly-graph-div\"></div><script type=\"text/javascript\">require([\"plotly\"], function(Plotly) { window.PLOTLYENV=window.PLOTLYENV || {};window.PLOTLYENV.BASE_URL=\"https://plot.ly\";Plotly.newPlot(\"a85430e4-9f75-40da-95ee-c209393f19e2\", [{\"mode\": \"lines\", \"name\": \"KNN_model\", \"x\": [\"accuracy\", \"FPR\", \"FNR\", \"auc\"], \"y\": [0.8958787614478849, 0.09120521172638436, 0.1907563025210084, 0.8590192428763036], \"type\": \"scatter\", \"uid\": \"e8f78d8d-c318-4f16-83eb-3bdf8ed4c117\"}, {\"mode\": \"lines+markers\", \"name\": \"Logistic Regression\", \"x\": [\"accuracy\", \"FPR\", \"FNR\", \"auc\"], \"y\": [0.8782163105102486, 0.07767476822851416, 0.4176470588235294, 0.7523390864739783], \"type\": \"scatter\", \"uid\": \"13f78dc3-b216-4cc6-84da-0f7142d123d8\"}, {\"marker\": {\"symbol\": \"x\"}, \"mode\": \"lines+markers\", \"name\": \"Random Forest\", \"x\": [\"accuracy\", \"FPR\", \"FNR\", \"auc\"], \"y\": [0.8962058438726559, 0.09095464795790528, 0.1899159663865546, 0.85956469282777], \"type\": \"scatter\", \"uid\": \"eed95ab9-d961-4cfe-a440-dfa821497c48\"}, {\"mode\": \"lines\", \"name\": \"Ada Boost\", \"x\": [\"accuracy\", \"FPR\", \"FNR\", \"auc\"], \"y\": [0.8829044919319669, 0.003132047105988474, 0.8815126050420168, 0.5576776739259973], \"type\": \"scatter\", \"uid\": \"3181cd34-c414-4703-b08d-a12797627c8c\"}, {\"mode\": \"lines+markers\", \"name\": \"GradientBoosting\", \"x\": [\"accuracy\", \"FPR\", \"FNR\", \"auc\"], \"y\": [0.8929350196249455, 0.09082936607366575, 0.21596638655462186, 0.8466021236858561], \"type\": \"scatter\", \"uid\": \"27577632-6c33-4c9d-8e84-aca0a4e88f66\"}, {\"marker\": {\"symbol\": \"x\"}, \"mode\": \"lines+markers\", \"name\": \"ExtraTree Classifier\", \"x\": [\"accuracy\", \"FPR\", \"FNR\", \"auc\"], \"y\": [0.8962058438726559, 0.09107992984214483, 0.18907563025210083, 0.8599222199528772], \"type\": \"scatter\", \"uid\": \"5497d08a-15e0-4a51-96bc-92640c527c63\"}, {\"marker\": {\"symbol\": \"x\"}, \"mode\": \"lines+markers\", \"name\": \"Bagging\", \"x\": [\"accuracy\", \"FPR\", \"FNR\", \"auc\"], \"y\": [0.8964238988225033, 0.09070408418942622, 0.1899159663865546, 0.8596899747120096], \"type\": \"scatter\", \"uid\": \"9e2952d6-58b9-4d8b-b3cb-f7e847dcd80c\"}, {\"marker\": {\"symbol\": \"x\"}, \"mode\": \"lines+markers\", \"name\": \"Neural Network\", \"x\": [\"accuracy\", \"FPR\", \"FNR\", \"auc\"], \"y\": [0.8916266899258614, 0.09070408418942622, 0.226890756302521, 0.8596899747120096], \"type\": \"scatter\", \"uid\": \"b19f6223-4f6b-4ebd-a631-cf98b5463567\"}], {\"title\": \"Result comparision for Features selected in Section 1\", \"yaxis\": {\"dtick\": 0.05, \"tick0\": 0}}, {\"showLink\": true, \"linkText\": \"Export to plot.ly\", \"plotlyServerURL\": \"https://plot.ly\"})});</script><script type=\"text/javascript\">window.addEventListener(\"resize\", function(){window._Plotly.Plots.resize(document.getElementById(\"a85430e4-9f75-40da-95ee-c209393f19e2\"));});</script>"
      ],
      "text/vnd.plotly.v1+html": [
       "<div id=\"a85430e4-9f75-40da-95ee-c209393f19e2\" style=\"height: 525px; width: 100%;\" class=\"plotly-graph-div\"></div><script type=\"text/javascript\">require([\"plotly\"], function(Plotly) { window.PLOTLYENV=window.PLOTLYENV || {};window.PLOTLYENV.BASE_URL=\"https://plot.ly\";Plotly.newPlot(\"a85430e4-9f75-40da-95ee-c209393f19e2\", [{\"mode\": \"lines\", \"name\": \"KNN_model\", \"x\": [\"accuracy\", \"FPR\", \"FNR\", \"auc\"], \"y\": [0.8958787614478849, 0.09120521172638436, 0.1907563025210084, 0.8590192428763036], \"type\": \"scatter\", \"uid\": \"e8f78d8d-c318-4f16-83eb-3bdf8ed4c117\"}, {\"mode\": \"lines+markers\", \"name\": \"Logistic Regression\", \"x\": [\"accuracy\", \"FPR\", \"FNR\", \"auc\"], \"y\": [0.8782163105102486, 0.07767476822851416, 0.4176470588235294, 0.7523390864739783], \"type\": \"scatter\", \"uid\": \"13f78dc3-b216-4cc6-84da-0f7142d123d8\"}, {\"marker\": {\"symbol\": \"x\"}, \"mode\": \"lines+markers\", \"name\": \"Random Forest\", \"x\": [\"accuracy\", \"FPR\", \"FNR\", \"auc\"], \"y\": [0.8962058438726559, 0.09095464795790528, 0.1899159663865546, 0.85956469282777], \"type\": \"scatter\", \"uid\": \"eed95ab9-d961-4cfe-a440-dfa821497c48\"}, {\"mode\": \"lines\", \"name\": \"Ada Boost\", \"x\": [\"accuracy\", \"FPR\", \"FNR\", \"auc\"], \"y\": [0.8829044919319669, 0.003132047105988474, 0.8815126050420168, 0.5576776739259973], \"type\": \"scatter\", \"uid\": \"3181cd34-c414-4703-b08d-a12797627c8c\"}, {\"mode\": \"lines+markers\", \"name\": \"GradientBoosting\", \"x\": [\"accuracy\", \"FPR\", \"FNR\", \"auc\"], \"y\": [0.8929350196249455, 0.09082936607366575, 0.21596638655462186, 0.8466021236858561], \"type\": \"scatter\", \"uid\": \"27577632-6c33-4c9d-8e84-aca0a4e88f66\"}, {\"marker\": {\"symbol\": \"x\"}, \"mode\": \"lines+markers\", \"name\": \"ExtraTree Classifier\", \"x\": [\"accuracy\", \"FPR\", \"FNR\", \"auc\"], \"y\": [0.8962058438726559, 0.09107992984214483, 0.18907563025210083, 0.8599222199528772], \"type\": \"scatter\", \"uid\": \"5497d08a-15e0-4a51-96bc-92640c527c63\"}, {\"marker\": {\"symbol\": \"x\"}, \"mode\": \"lines+markers\", \"name\": \"Bagging\", \"x\": [\"accuracy\", \"FPR\", \"FNR\", \"auc\"], \"y\": [0.8964238988225033, 0.09070408418942622, 0.1899159663865546, 0.8596899747120096], \"type\": \"scatter\", \"uid\": \"9e2952d6-58b9-4d8b-b3cb-f7e847dcd80c\"}, {\"marker\": {\"symbol\": \"x\"}, \"mode\": \"lines+markers\", \"name\": \"Neural Network\", \"x\": [\"accuracy\", \"FPR\", \"FNR\", \"auc\"], \"y\": [0.8916266899258614, 0.09070408418942622, 0.226890756302521, 0.8596899747120096], \"type\": \"scatter\", \"uid\": \"b19f6223-4f6b-4ebd-a631-cf98b5463567\"}], {\"title\": \"Result comparision for Features selected in Section 1\", \"yaxis\": {\"dtick\": 0.05, \"tick0\": 0}}, {\"showLink\": true, \"linkText\": \"Export to plot.ly\", \"plotlyServerURL\": \"https://plot.ly\"})});</script><script type=\"text/javascript\">window.addEventListener(\"resize\", function(){window._Plotly.Plots.resize(document.getElementById(\"a85430e4-9f75-40da-95ee-c209393f19e2\"));});</script>"
      ]
     },
     "metadata": {},
     "output_type": "display_data"
    }
   ],
   "source": [
    "trace0 = go.Scatter(x=table_80_60_test.iloc[0].index.values[[0,5,6,7]],\n",
    "                    y=table_80_60_test.iloc[0].values[[0,5,6,7]],\n",
    "                    mode = 'lines',\n",
    "                    name = 'KNN_model')\n",
    "\n",
    "trace1 = go.Scatter(x=table_80_60_test.iloc[1].index.values[[0,5,6,7]],\n",
    "                    y=table_80_60_test.iloc[1].values[[0,5,6,7]],\n",
    "                    mode = 'lines+markers',\n",
    "                    name = 'Logistic Regression')\n",
    "\n",
    "trace2 = go.Scatter(x=table_80_60_test.iloc[2].index.values[[0,5,6,7]],\n",
    "                    y=table_80_60_test.iloc[2].values[[0,5,6,7]],\n",
    "                    mode = 'lines+markers',marker=dict(symbol='x'),\n",
    "                    name = 'Random Forest')\n",
    "\n",
    "\n",
    "trace3 = go.Scatter(x=table_80_60_test.iloc[3].index.values[[0,5,6,7]],\n",
    "                    y=table_80_60_test.iloc[3].values[[0,5,6,7]],\n",
    "                    mode = 'lines',\n",
    "                    name = 'Ada Boost')\n",
    "\n",
    "trace4 = go.Scatter(x=table_80_60_test.iloc[4].index.values[[0,5,6,7]],\n",
    "                    y=table_80_60_test.iloc[4].values[[0,5,6,7]],\n",
    "                    mode = 'lines+markers',\n",
    "                    name = 'GradientBoosting')\n",
    "\n",
    "trace5 = go.Scatter(x=table_80_60_test.iloc[5].index.values[[0,5,6,7]],\n",
    "                    y=table_80_60_test.iloc[5].values[[0,5,6,7]],\n",
    "                    mode = 'lines+markers',marker=dict(symbol='x'),\n",
    "                    name = 'ExtraTree Classifier')\n",
    "\n",
    "trace6 = go.Scatter(x=table_80_60_test.iloc[6].index.values[[0,5,6,7]],\n",
    "                    y=table_80_60_test.iloc[6].values[[0,5,6,7]],\n",
    "                    mode = 'lines+markers',marker=dict(symbol='x'),\n",
    "                    name = 'Bagging')\n",
    "\n",
    "trace7 = go.Scatter(x=table_80_60_test.iloc[7].index.values[[0,5,6,7]],\n",
    "                    y=table_80_60_test.iloc[7].values[[0,5,6,7]],\n",
    "                    mode = 'lines+markers',marker=dict(symbol='x'),\n",
    "                    name = 'Neural Network')\n",
    "\n",
    "\n",
    "\n",
    "data = [trace0, trace1, trace2, trace3, trace4, trace5, trace6, trace7]\n",
    "layout = go.Layout(yaxis=dict(tick0=0,dtick=0.05),title='Result comparision for Features selected in Section 1')\n",
    "fig = go.Figure(data=data, layout=layout)\n",
    "\n",
    "iplot(fig, filename='Result')"
   ]
  },
  {
   "cell_type": "code",
   "execution_count": 25,
   "metadata": {},
   "outputs": [
    {
     "name": "stdout",
     "output_type": "stream",
     "text": [
      "Training Results\n"
     ]
    },
    {
     "data": {
      "text/html": [
       "<div>\n",
       "<style scoped>\n",
       "    .dataframe tbody tr th:only-of-type {\n",
       "        vertical-align: middle;\n",
       "    }\n",
       "\n",
       "    .dataframe tbody tr th {\n",
       "        vertical-align: top;\n",
       "    }\n",
       "\n",
       "    .dataframe thead th {\n",
       "        text-align: right;\n",
       "    }\n",
       "</style>\n",
       "<table border=\"1\" class=\"dataframe\">\n",
       "  <thead>\n",
       "    <tr style=\"text-align: right;\">\n",
       "      <th></th>\n",
       "      <th>accuracy</th>\n",
       "      <th>TP</th>\n",
       "      <th>TN</th>\n",
       "      <th>FP</th>\n",
       "      <th>FN</th>\n",
       "      <th>FPR</th>\n",
       "      <th>FNR</th>\n",
       "    </tr>\n",
       "    <tr>\n",
       "      <th>index</th>\n",
       "      <th></th>\n",
       "      <th></th>\n",
       "      <th></th>\n",
       "      <th></th>\n",
       "      <th></th>\n",
       "      <th></th>\n",
       "      <th></th>\n",
       "    </tr>\n",
       "  </thead>\n",
       "  <tbody>\n",
       "    <tr>\n",
       "      <th>KNeighborsClassifier</th>\n",
       "      <td>0.896631</td>\n",
       "      <td>3968.0</td>\n",
       "      <td>28924.0</td>\n",
       "      <td>2929.0</td>\n",
       "      <td>863.0</td>\n",
       "      <td>0.091954</td>\n",
       "      <td>0.178638</td>\n",
       "    </tr>\n",
       "    <tr>\n",
       "      <th>LogisticRegression</th>\n",
       "      <td>0.880275</td>\n",
       "      <td>2911.0</td>\n",
       "      <td>29381.0</td>\n",
       "      <td>2472.0</td>\n",
       "      <td>1920.0</td>\n",
       "      <td>0.077607</td>\n",
       "      <td>0.397433</td>\n",
       "    </tr>\n",
       "    <tr>\n",
       "      <th>RandomForestClassifier</th>\n",
       "      <td>0.897803</td>\n",
       "      <td>3991.0</td>\n",
       "      <td>28944.0</td>\n",
       "      <td>2909.0</td>\n",
       "      <td>840.0</td>\n",
       "      <td>0.091326</td>\n",
       "      <td>0.173877</td>\n",
       "    </tr>\n",
       "    <tr>\n",
       "      <th>AdaBoostClassifier</th>\n",
       "      <td>0.882428</td>\n",
       "      <td>620.0</td>\n",
       "      <td>31751.0</td>\n",
       "      <td>102.0</td>\n",
       "      <td>4211.0</td>\n",
       "      <td>0.003202</td>\n",
       "      <td>0.871662</td>\n",
       "    </tr>\n",
       "    <tr>\n",
       "      <th>GradientBoostingClassifier</th>\n",
       "      <td>0.894450</td>\n",
       "      <td>3865.0</td>\n",
       "      <td>28947.0</td>\n",
       "      <td>2906.0</td>\n",
       "      <td>966.0</td>\n",
       "      <td>0.091232</td>\n",
       "      <td>0.199959</td>\n",
       "    </tr>\n",
       "    <tr>\n",
       "      <th>ExtraTreeClassifier</th>\n",
       "      <td>0.898130</td>\n",
       "      <td>3999.0</td>\n",
       "      <td>28948.0</td>\n",
       "      <td>2905.0</td>\n",
       "      <td>832.0</td>\n",
       "      <td>0.091200</td>\n",
       "      <td>0.172221</td>\n",
       "    </tr>\n",
       "    <tr>\n",
       "      <th>BaggingClassifier</th>\n",
       "      <td>0.897966</td>\n",
       "      <td>3994.0</td>\n",
       "      <td>28947.0</td>\n",
       "      <td>2906.0</td>\n",
       "      <td>837.0</td>\n",
       "      <td>0.091232</td>\n",
       "      <td>0.173256</td>\n",
       "    </tr>\n",
       "    <tr>\n",
       "      <th>Neural Network-1</th>\n",
       "      <td>0.890306</td>\n",
       "      <td>3746.0</td>\n",
       "      <td>28914.0</td>\n",
       "      <td>2939.0</td>\n",
       "      <td>1085.0</td>\n",
       "      <td>0.092268</td>\n",
       "      <td>0.224591</td>\n",
       "    </tr>\n",
       "  </tbody>\n",
       "</table>\n",
       "</div>"
      ],
      "text/plain": [
       "                            accuracy      TP       TN      FP      FN  \\\n",
       "index                                                                   \n",
       "KNeighborsClassifier        0.896631  3968.0  28924.0  2929.0   863.0   \n",
       "LogisticRegression          0.880275  2911.0  29381.0  2472.0  1920.0   \n",
       "RandomForestClassifier      0.897803  3991.0  28944.0  2909.0   840.0   \n",
       "AdaBoostClassifier          0.882428   620.0  31751.0   102.0  4211.0   \n",
       "GradientBoostingClassifier  0.894450  3865.0  28947.0  2906.0   966.0   \n",
       "ExtraTreeClassifier         0.898130  3999.0  28948.0  2905.0   832.0   \n",
       "BaggingClassifier           0.897966  3994.0  28947.0  2906.0   837.0   \n",
       "Neural Network-1            0.890306  3746.0  28914.0  2939.0  1085.0   \n",
       "\n",
       "                                 FPR       FNR  \n",
       "index                                           \n",
       "KNeighborsClassifier        0.091954  0.178638  \n",
       "LogisticRegression          0.077607  0.397433  \n",
       "RandomForestClassifier      0.091326  0.173877  \n",
       "AdaBoostClassifier          0.003202  0.871662  \n",
       "GradientBoostingClassifier  0.091232  0.199959  \n",
       "ExtraTreeClassifier         0.091200  0.172221  \n",
       "BaggingClassifier           0.091232  0.173256  \n",
       "Neural Network-1            0.092268  0.224591  "
      ]
     },
     "metadata": {},
     "output_type": "display_data"
    },
    {
     "name": "stdout",
     "output_type": "stream",
     "text": [
      "Test Results\n"
     ]
    },
    {
     "data": {
      "text/html": [
       "<div>\n",
       "<style scoped>\n",
       "    .dataframe tbody tr th:only-of-type {\n",
       "        vertical-align: middle;\n",
       "    }\n",
       "\n",
       "    .dataframe tbody tr th {\n",
       "        vertical-align: top;\n",
       "    }\n",
       "\n",
       "    .dataframe thead th {\n",
       "        text-align: right;\n",
       "    }\n",
       "</style>\n",
       "<table border=\"1\" class=\"dataframe\">\n",
       "  <thead>\n",
       "    <tr style=\"text-align: right;\">\n",
       "      <th></th>\n",
       "      <th>accuracy</th>\n",
       "      <th>TP</th>\n",
       "      <th>TN</th>\n",
       "      <th>FP</th>\n",
       "      <th>FN</th>\n",
       "      <th>FPR</th>\n",
       "      <th>FNR</th>\n",
       "      <th>auc</th>\n",
       "      <th>mcc</th>\n",
       "    </tr>\n",
       "    <tr>\n",
       "      <th>index</th>\n",
       "      <th></th>\n",
       "      <th></th>\n",
       "      <th></th>\n",
       "      <th></th>\n",
       "      <th></th>\n",
       "      <th></th>\n",
       "      <th></th>\n",
       "      <th></th>\n",
       "      <th></th>\n",
       "    </tr>\n",
       "  </thead>\n",
       "  <tbody>\n",
       "    <tr>\n",
       "      <th>KNeighborsClassifier</th>\n",
       "      <td>0.895879</td>\n",
       "      <td>963.0</td>\n",
       "      <td>7254.0</td>\n",
       "      <td>728.0</td>\n",
       "      <td>227.0</td>\n",
       "      <td>0.091205</td>\n",
       "      <td>0.190756</td>\n",
       "      <td>0.859019</td>\n",
       "      <td>0.622193</td>\n",
       "    </tr>\n",
       "    <tr>\n",
       "      <th>LogisticRegression</th>\n",
       "      <td>0.878216</td>\n",
       "      <td>693.0</td>\n",
       "      <td>7362.0</td>\n",
       "      <td>620.0</td>\n",
       "      <td>497.0</td>\n",
       "      <td>0.077675</td>\n",
       "      <td>0.417647</td>\n",
       "      <td>0.752339</td>\n",
       "      <td>0.484203</td>\n",
       "    </tr>\n",
       "    <tr>\n",
       "      <th>RandomForestClassifier</th>\n",
       "      <td>0.896206</td>\n",
       "      <td>964.0</td>\n",
       "      <td>7256.0</td>\n",
       "      <td>726.0</td>\n",
       "      <td>226.0</td>\n",
       "      <td>0.090955</td>\n",
       "      <td>0.189916</td>\n",
       "      <td>0.859565</td>\n",
       "      <td>0.623281</td>\n",
       "    </tr>\n",
       "    <tr>\n",
       "      <th>AdaBoostClassifier</th>\n",
       "      <td>0.882904</td>\n",
       "      <td>141.0</td>\n",
       "      <td>7957.0</td>\n",
       "      <td>25.0</td>\n",
       "      <td>1049.0</td>\n",
       "      <td>0.003132</td>\n",
       "      <td>0.881513</td>\n",
       "      <td>0.557678</td>\n",
       "      <td>0.290768</td>\n",
       "    </tr>\n",
       "    <tr>\n",
       "      <th>GradientBoostingClassifier</th>\n",
       "      <td>0.892935</td>\n",
       "      <td>933.0</td>\n",
       "      <td>7257.0</td>\n",
       "      <td>725.0</td>\n",
       "      <td>257.0</td>\n",
       "      <td>0.090829</td>\n",
       "      <td>0.215966</td>\n",
       "      <td>0.846602</td>\n",
       "      <td>0.605289</td>\n",
       "    </tr>\n",
       "    <tr>\n",
       "      <th>ExtraTreeClassifier</th>\n",
       "      <td>0.896206</td>\n",
       "      <td>965.0</td>\n",
       "      <td>7255.0</td>\n",
       "      <td>727.0</td>\n",
       "      <td>225.0</td>\n",
       "      <td>0.091080</td>\n",
       "      <td>0.189076</td>\n",
       "      <td>0.859922</td>\n",
       "      <td>0.623616</td>\n",
       "    </tr>\n",
       "    <tr>\n",
       "      <th>BaggingClassifier</th>\n",
       "      <td>0.896424</td>\n",
       "      <td>964.0</td>\n",
       "      <td>7258.0</td>\n",
       "      <td>724.0</td>\n",
       "      <td>226.0</td>\n",
       "      <td>0.090704</td>\n",
       "      <td>0.189916</td>\n",
       "      <td>0.859690</td>\n",
       "      <td>0.623784</td>\n",
       "    </tr>\n",
       "    <tr>\n",
       "      <th>Neural Network-1</th>\n",
       "      <td>0.891627</td>\n",
       "      <td>920.0</td>\n",
       "      <td>7258.0</td>\n",
       "      <td>724.0</td>\n",
       "      <td>270.0</td>\n",
       "      <td>0.090704</td>\n",
       "      <td>0.226891</td>\n",
       "      <td>0.859690</td>\n",
       "      <td>0.597834</td>\n",
       "    </tr>\n",
       "  </tbody>\n",
       "</table>\n",
       "</div>"
      ],
      "text/plain": [
       "                            accuracy     TP      TN     FP      FN       FPR  \\\n",
       "index                                                                          \n",
       "KNeighborsClassifier        0.895879  963.0  7254.0  728.0   227.0  0.091205   \n",
       "LogisticRegression          0.878216  693.0  7362.0  620.0   497.0  0.077675   \n",
       "RandomForestClassifier      0.896206  964.0  7256.0  726.0   226.0  0.090955   \n",
       "AdaBoostClassifier          0.882904  141.0  7957.0   25.0  1049.0  0.003132   \n",
       "GradientBoostingClassifier  0.892935  933.0  7257.0  725.0   257.0  0.090829   \n",
       "ExtraTreeClassifier         0.896206  965.0  7255.0  727.0   225.0  0.091080   \n",
       "BaggingClassifier           0.896424  964.0  7258.0  724.0   226.0  0.090704   \n",
       "Neural Network-1            0.891627  920.0  7258.0  724.0   270.0  0.090704   \n",
       "\n",
       "                                 FNR       auc       mcc  \n",
       "index                                                     \n",
       "KNeighborsClassifier        0.190756  0.859019  0.622193  \n",
       "LogisticRegression          0.417647  0.752339  0.484203  \n",
       "RandomForestClassifier      0.189916  0.859565  0.623281  \n",
       "AdaBoostClassifier          0.881513  0.557678  0.290768  \n",
       "GradientBoostingClassifier  0.215966  0.846602  0.605289  \n",
       "ExtraTreeClassifier         0.189076  0.859922  0.623616  \n",
       "BaggingClassifier           0.189916  0.859690  0.623784  \n",
       "Neural Network-1            0.226891  0.859690  0.597834  "
      ]
     },
     "metadata": {},
     "output_type": "display_data"
    }
   ],
   "source": [
    "table_80_60_train['index']=ind_columns\n",
    "table_80_60_test['index']=ind_columns\n",
    "\n",
    "\n",
    "table_80_60_test.set_index(['index'],drop=True,inplace=True)\n",
    "table_80_60_train.set_index(['index'],drop=True,inplace=True)\n",
    "\n",
    "print(\"Training Results\")\n",
    "display(table_80_60_train)\n",
    "print(\"Test Results\")\n",
    "display(table_80_60_test)"
   ]
  },
  {
   "cell_type": "markdown",
   "metadata": {},
   "source": [
    "### <a id='4.B' style=\"text-decoration : none; color : #000000;\"> B. Average Feature Importances</a>"
   ]
  },
  {
   "cell_type": "code",
   "execution_count": 26,
   "metadata": {},
   "outputs": [
    {
     "data": {
      "application/vnd.plotly.v1+json": {
       "config": {
        "linkText": "Export to plot.ly",
        "plotlyServerURL": "https://plot.ly",
        "showLink": true
       },
       "data": [
        {
         "marker": {
          "color": "rgb(158,202,225)",
          "line": {
           "color": "rgb(8,48,107)",
           "width": 1.5
          }
         },
         "opacity": 0.6,
         "orientation": "h",
         "text": [
          0.1435,
          0.1365,
          0.0697,
          0.0615,
          0.061,
          0.0549,
          0.0437,
          0.0428,
          0.0366,
          0.0344,
          0.0272,
          0.0256,
          0.0216,
          0.0215,
          0.0209,
          0.0202,
          0.0178,
          0.0176,
          0.0149,
          0.0144,
          0.0142,
          0.0118,
          0.0117,
          0.0116,
          0.0115,
          0.0101,
          0.0077,
          0.0075,
          0.0058,
          0.0054,
          0.005,
          0.0049,
          0.0037,
          0.002,
          0.0006,
          0
         ],
         "textposition": "outside",
         "type": "bar",
         "uid": "88bd3532-a9c3-48cf-9901-6d526f60df94",
         "x": [
          0.14351064351235587,
          0.13648437133399613,
          0.06973708638004966,
          0.061538604884282845,
          0.06096145205034423,
          0.05491643528075429,
          0.04368041423714938,
          0.042823227983099704,
          0.03657536839079879,
          0.03440996840266977,
          0.02715431030961414,
          0.025601756805724858,
          0.021583725858537413,
          0.021490945968301232,
          0.02086101347180579,
          0.02023753416868555,
          0.017842851659951153,
          0.017638335382391165,
          0.01489642931873238,
          0.014444549743297386,
          0.014193127385306694,
          0.011759906938976755,
          0.01171921364703317,
          0.011563235605517525,
          0.0114720524690827,
          0.010074168049748483,
          0.007659522080370321,
          0.007547468377548504,
          0.005808301616024203,
          0.005448615300914754,
          0.005046027002278028,
          0.0049195755736890934,
          0.0037488585284390363,
          0.0020101816788710303,
          0.0006208030843906601,
          1.9917519267280402e-05
         ],
         "y": [
          "http_header_vary_age / http_header_content-length",
          "http_header_content-encoding_gzip + http_header_transfer-encoding_chunked",
          "http_header_cache-control_set_max-age + http_header_content-encoding_gzip",
          "http_header_content-encoding_gzip + http_header_via_1.1",
          "http_header_connection_keep-alive + http_header_content-language_text/html",
          "http_header_content-encoding_gzip + http_header_server_nginx",
          "http_header_content-encoding_gzip + http_header_x-xss-enabled",
          "http_header_cache-control_set_private + http_header_content-encoding_gzip",
          "http_header_cache-control_set_must-revalidate + http_header_content-encoding_gzip",
          "http_header_content-encoding_gzip + http_header_pragmano-cache",
          "http_header_content-language_text/html + http_header_via_1.1",
          "http_header_connection_close + http_header_content-language_text/html",
          "http_header_cache-control_set_max-age + http_header_transfer-encoding_chunked",
          "http_header_content-encoding_gzip + http_header_vary_age",
          "http_header_cache-control_set_no-store + http_header_vary_accept",
          "http_header_connection_keep-alive + http_header_vary_accept",
          "http_header_cache-control_set_private + http_header_vary_accept",
          "http_header_cache-control_set_public + http_header_content-encoding_gzip",
          "http_header_cache-control_set_private + http_header_transfer-encoding_chunked",
          "http_header_content-encoding_gzip + http_header_expect-ctmax-age",
          "http_header_content-encoding_gzip / http_header_content-language_text/html",
          "http_header_connection_keep-alive / http_header_content-language_text/html",
          "http_header_content-language_text/html / http_header_content-encoding_gzip",
          "http_header_transfer-encoding_chunked + http_header_via_1.1",
          "http_header_content-encoding_gzip * http_header_content-language_text/html",
          "http_header_connection_keep-alive * http_header_content-language_text/html",
          "http_header_content-encoding_gzip + http_header_content-language_text/html",
          "http_header_transfer-encoding_chunked + http_header_vary_accept",
          "http_header_cache-control_set_public + http_header_transfer-encoding_chunked",
          "http_header_content-language_text/html / http_header_connection_keep-alive",
          "http_header_transfer-encoding_chunked + http_header_x-xss-enabled",
          "http_header_content-language_text/html",
          "http_header_content-language_text/html + http_header_transfer-encoding_chunked",
          "http_header_transfer-encoding_chunked",
          "http_header_content-encoding_gzip + http_header_vary_accept",
          "http_header_content-encoding_gzip"
         ]
        }
       ],
       "layout": {
        "autosize": false,
        "height": 1000,
        "width": 1000,
        "xaxis": {
         "tickfont": {
          "color": "black",
          "size": 12
         },
         "title": "Feature Importances"
        },
        "yaxis": {
         "automargin": true
        }
       }
      },
      "text/html": [
       "<div id=\"607c2c88-7e03-4e06-8479-363360bb7307\" style=\"height: 1000px; width: 1000px;\" class=\"plotly-graph-div\"></div><script type=\"text/javascript\">require([\"plotly\"], function(Plotly) { window.PLOTLYENV=window.PLOTLYENV || {};window.PLOTLYENV.BASE_URL=\"https://plot.ly\";Plotly.newPlot(\"607c2c88-7e03-4e06-8479-363360bb7307\", [{\"marker\": {\"color\": \"rgb(158,202,225)\", \"line\": {\"color\": \"rgb(8,48,107)\", \"width\": 1.5}}, \"opacity\": 0.6, \"orientation\": \"h\", \"text\": [0.1435, 0.1365, 0.0697, 0.0615, 0.061, 0.0549, 0.0437, 0.0428, 0.0366, 0.0344, 0.0272, 0.0256, 0.0216, 0.0215, 0.0209, 0.0202, 0.0178, 0.0176, 0.0149, 0.0144, 0.0142, 0.0118, 0.0117, 0.0116, 0.0115, 0.0101, 0.0077, 0.0075, 0.0058, 0.0054, 0.005, 0.0049, 0.0037, 0.002, 0.0006, 0.0], \"textposition\": \"outside\", \"x\": [0.14351064351235587, 0.13648437133399613, 0.06973708638004966, 0.061538604884282845, 0.06096145205034423, 0.05491643528075429, 0.04368041423714938, 0.042823227983099704, 0.03657536839079879, 0.03440996840266977, 0.02715431030961414, 0.025601756805724858, 0.021583725858537413, 0.021490945968301232, 0.02086101347180579, 0.02023753416868555, 0.017842851659951153, 0.017638335382391165, 0.01489642931873238, 0.014444549743297386, 0.014193127385306694, 0.011759906938976755, 0.01171921364703317, 0.011563235605517525, 0.0114720524690827, 0.010074168049748483, 0.007659522080370321, 0.007547468377548504, 0.005808301616024203, 0.005448615300914754, 0.005046027002278028, 0.0049195755736890934, 0.0037488585284390363, 0.0020101816788710303, 0.0006208030843906601, 1.9917519267280402e-05], \"y\": [\"http_header_vary_age / http_header_content-length\", \"http_header_content-encoding_gzip + http_header_transfer-encoding_chunked\", \"http_header_cache-control_set_max-age + http_header_content-encoding_gzip\", \"http_header_content-encoding_gzip + http_header_via_1.1\", \"http_header_connection_keep-alive + http_header_content-language_text/html\", \"http_header_content-encoding_gzip + http_header_server_nginx\", \"http_header_content-encoding_gzip + http_header_x-xss-enabled\", \"http_header_cache-control_set_private + http_header_content-encoding_gzip\", \"http_header_cache-control_set_must-revalidate + http_header_content-encoding_gzip\", \"http_header_content-encoding_gzip + http_header_pragmano-cache\", \"http_header_content-language_text/html + http_header_via_1.1\", \"http_header_connection_close + http_header_content-language_text/html\", \"http_header_cache-control_set_max-age + http_header_transfer-encoding_chunked\", \"http_header_content-encoding_gzip + http_header_vary_age\", \"http_header_cache-control_set_no-store + http_header_vary_accept\", \"http_header_connection_keep-alive + http_header_vary_accept\", \"http_header_cache-control_set_private + http_header_vary_accept\", \"http_header_cache-control_set_public + http_header_content-encoding_gzip\", \"http_header_cache-control_set_private + http_header_transfer-encoding_chunked\", \"http_header_content-encoding_gzip + http_header_expect-ctmax-age\", \"http_header_content-encoding_gzip / http_header_content-language_text/html\", \"http_header_connection_keep-alive / http_header_content-language_text/html\", \"http_header_content-language_text/html / http_header_content-encoding_gzip\", \"http_header_transfer-encoding_chunked + http_header_via_1.1\", \"http_header_content-encoding_gzip * http_header_content-language_text/html\", \"http_header_connection_keep-alive * http_header_content-language_text/html\", \"http_header_content-encoding_gzip + http_header_content-language_text/html\", \"http_header_transfer-encoding_chunked + http_header_vary_accept\", \"http_header_cache-control_set_public + http_header_transfer-encoding_chunked\", \"http_header_content-language_text/html / http_header_connection_keep-alive\", \"http_header_transfer-encoding_chunked + http_header_x-xss-enabled\", \"http_header_content-language_text/html\", \"http_header_content-language_text/html + http_header_transfer-encoding_chunked\", \"http_header_transfer-encoding_chunked\", \"http_header_content-encoding_gzip + http_header_vary_accept\", \"http_header_content-encoding_gzip\"], \"type\": \"bar\", \"uid\": \"88bd3532-a9c3-48cf-9901-6d526f60df94\"}], {\"autosize\": false, \"height\": 1000, \"width\": 1000, \"xaxis\": {\"tickfont\": {\"color\": \"black\", \"size\": 12}, \"title\": \"Feature Importances\"}, \"yaxis\": {\"automargin\": true}}, {\"showLink\": true, \"linkText\": \"Export to plot.ly\", \"plotlyServerURL\": \"https://plot.ly\"})});</script>"
      ],
      "text/vnd.plotly.v1+html": [
       "<div id=\"607c2c88-7e03-4e06-8479-363360bb7307\" style=\"height: 1000px; width: 1000px;\" class=\"plotly-graph-div\"></div><script type=\"text/javascript\">require([\"plotly\"], function(Plotly) { window.PLOTLYENV=window.PLOTLYENV || {};window.PLOTLYENV.BASE_URL=\"https://plot.ly\";Plotly.newPlot(\"607c2c88-7e03-4e06-8479-363360bb7307\", [{\"marker\": {\"color\": \"rgb(158,202,225)\", \"line\": {\"color\": \"rgb(8,48,107)\", \"width\": 1.5}}, \"opacity\": 0.6, \"orientation\": \"h\", \"text\": [0.1435, 0.1365, 0.0697, 0.0615, 0.061, 0.0549, 0.0437, 0.0428, 0.0366, 0.0344, 0.0272, 0.0256, 0.0216, 0.0215, 0.0209, 0.0202, 0.0178, 0.0176, 0.0149, 0.0144, 0.0142, 0.0118, 0.0117, 0.0116, 0.0115, 0.0101, 0.0077, 0.0075, 0.0058, 0.0054, 0.005, 0.0049, 0.0037, 0.002, 0.0006, 0.0], \"textposition\": \"outside\", \"x\": [0.14351064351235587, 0.13648437133399613, 0.06973708638004966, 0.061538604884282845, 0.06096145205034423, 0.05491643528075429, 0.04368041423714938, 0.042823227983099704, 0.03657536839079879, 0.03440996840266977, 0.02715431030961414, 0.025601756805724858, 0.021583725858537413, 0.021490945968301232, 0.02086101347180579, 0.02023753416868555, 0.017842851659951153, 0.017638335382391165, 0.01489642931873238, 0.014444549743297386, 0.014193127385306694, 0.011759906938976755, 0.01171921364703317, 0.011563235605517525, 0.0114720524690827, 0.010074168049748483, 0.007659522080370321, 0.007547468377548504, 0.005808301616024203, 0.005448615300914754, 0.005046027002278028, 0.0049195755736890934, 0.0037488585284390363, 0.0020101816788710303, 0.0006208030843906601, 1.9917519267280402e-05], \"y\": [\"http_header_vary_age / http_header_content-length\", \"http_header_content-encoding_gzip + http_header_transfer-encoding_chunked\", \"http_header_cache-control_set_max-age + http_header_content-encoding_gzip\", \"http_header_content-encoding_gzip + http_header_via_1.1\", \"http_header_connection_keep-alive + http_header_content-language_text/html\", \"http_header_content-encoding_gzip + http_header_server_nginx\", \"http_header_content-encoding_gzip + http_header_x-xss-enabled\", \"http_header_cache-control_set_private + http_header_content-encoding_gzip\", \"http_header_cache-control_set_must-revalidate + http_header_content-encoding_gzip\", \"http_header_content-encoding_gzip + http_header_pragmano-cache\", \"http_header_content-language_text/html + http_header_via_1.1\", \"http_header_connection_close + http_header_content-language_text/html\", \"http_header_cache-control_set_max-age + http_header_transfer-encoding_chunked\", \"http_header_content-encoding_gzip + http_header_vary_age\", \"http_header_cache-control_set_no-store + http_header_vary_accept\", \"http_header_connection_keep-alive + http_header_vary_accept\", \"http_header_cache-control_set_private + http_header_vary_accept\", \"http_header_cache-control_set_public + http_header_content-encoding_gzip\", \"http_header_cache-control_set_private + http_header_transfer-encoding_chunked\", \"http_header_content-encoding_gzip + http_header_expect-ctmax-age\", \"http_header_content-encoding_gzip / http_header_content-language_text/html\", \"http_header_connection_keep-alive / http_header_content-language_text/html\", \"http_header_content-language_text/html / http_header_content-encoding_gzip\", \"http_header_transfer-encoding_chunked + http_header_via_1.1\", \"http_header_content-encoding_gzip * http_header_content-language_text/html\", \"http_header_connection_keep-alive * http_header_content-language_text/html\", \"http_header_content-encoding_gzip + http_header_content-language_text/html\", \"http_header_transfer-encoding_chunked + http_header_vary_accept\", \"http_header_cache-control_set_public + http_header_transfer-encoding_chunked\", \"http_header_content-language_text/html / http_header_connection_keep-alive\", \"http_header_transfer-encoding_chunked + http_header_x-xss-enabled\", \"http_header_content-language_text/html\", \"http_header_content-language_text/html + http_header_transfer-encoding_chunked\", \"http_header_transfer-encoding_chunked\", \"http_header_content-encoding_gzip + http_header_vary_accept\", \"http_header_content-encoding_gzip\"], \"type\": \"bar\", \"uid\": \"88bd3532-a9c3-48cf-9901-6d526f60df94\"}], {\"autosize\": false, \"height\": 1000, \"width\": 1000, \"xaxis\": {\"tickfont\": {\"color\": \"black\", \"size\": 12}, \"title\": \"Feature Importances\"}, \"yaxis\": {\"automargin\": true}}, {\"showLink\": true, \"linkText\": \"Export to plot.ly\", \"plotlyServerURL\": \"https://plot.ly\"})});</script>"
      ]
     },
     "metadata": {},
     "output_type": "display_data"
    }
   ],
   "source": [
    "feat_impt_plot(np.average(feat_imp,axis=0),columns)"
   ]
  },
  {
   "cell_type": "markdown",
   "metadata": {},
   "source": [
    "### <a id='5' style=\"text-decoration : none; color : #000000;\">5. Feature Transformation with PCA </a>"
   ]
  },
  {
   "cell_type": "code",
   "execution_count": 27,
   "metadata": {
    "collapsed": true
   },
   "outputs": [],
   "source": [
    "X=fs.loc[:,fs.columns!='Target']\n",
    "y=fs.Target.values\n",
    "feature_name = X.columns.tolist()\n",
    "X=np.nan_to_num(X)\n",
    "scaler=StandardScaler()\n",
    "scaled_X=scaler.fit_transform(X)"
   ]
  },
  {
   "cell_type": "code",
   "execution_count": 28,
   "metadata": {},
   "outputs": [
    {
     "data": {
      "image/png": "[encoded data removed]",
      "text/plain": [
       "<Figure size 720x576 with 1 Axes>"
      ]
     },
     "metadata": {},
     "output_type": "display_data"
    }
   ],
   "source": [
    "sns.set_style('whitegrid')\n",
    "pca = PCA(random_state=0)\n",
    "pca.fit(scaled_X)\n",
    "plt.figure(1, figsize=(10, 8))\n",
    "plt.plot(np.cumsum(pca.explained_variance_ratio_),'--o', linewidth=2)\n",
    "plt.axis('tight')\n",
    "plt.xlabel('Number of Components',size=14)\n",
    "plt.xticks(size=12)\n",
    "plt.xlim([0,200])\n",
    "plt.ylabel('% Explained Variance',size=14)\n",
    "plt.yticks(size=12)\n",
    "plt.title('% Variance Explained by Principal Components',size=14,y=1.05)\n",
    "plt.show()"
   ]
  },
  {
   "cell_type": "code",
   "execution_count": 29,
   "metadata": {},
   "outputs": [
    {
     "name": "stdout",
     "output_type": "stream",
     "text": [
      "Variance explained using 117 components is: 0.949510176903\n"
     ]
    }
   ],
   "source": [
    "pca=PCA(n_components=117,whiten=True,random_state=0)\n",
    "X_pca_21=pca.fit_transform(scaled_X)\n",
    "print(\"Variance explained using 117 components is:\",sum(pca.explained_variance_ratio_))"
   ]
  },
  {
   "cell_type": "code",
   "execution_count": 30,
   "metadata": {
    "collapsed": true
   },
   "outputs": [],
   "source": [
    "X_train=X_pca_21[:36684]\n",
    "Y_train=fs.iloc[:36684]['Target'].values\n",
    "X_test=X_pca_21[36684:]\n",
    "Y_test=fs.iloc[36684:]['Target'].values\n",
    "\n",
    "## Table to store training and test measures so we can compare later\n",
    "table_80_70_train=pd.DataFrame(columns=['accuracy','TP','TN','FP','FN','FPR','FNR'])\n",
    "table_80_70_test=pd.DataFrame(columns=['accuracy','TP','TN','FP','FN','FPR','FNR','auc','mcc'])"
   ]
  },
  {
   "cell_type": "code",
   "execution_count": 31,
   "metadata": {
    "scrolled": false
   },
   "outputs": [
    {
     "name": "stdout",
     "output_type": "stream",
     "text": [
      "\u001b[1mK-Nearest Neighbors\u001b[0m\n",
      "Accuracy of the model for training data is: 0.912686729909\n",
      "Confusion Matrix for training data is:\n"
     ]
    },
    {
     "data": {
      "text/plain": [
       "Predicted  False  True  __all__\n",
       "Actual                         \n",
       "False      29330  2523    31853\n",
       "True         680  4151     4831\n",
       "__all__    30010  6674    36684"
      ]
     },
     "metadata": {},
     "output_type": "display_data"
    },
    {
     "name": "stdout",
     "output_type": "stream",
     "text": [
      "Accuracy of the model for test data is: 0.909289140863\n",
      "Confusion Matrix for test data is:\n"
     ]
    },
    {
     "data": {
      "text/plain": [
       "Predicted  False  True  __all__\n",
       "Actual                         \n",
       "False       7331   651     7982\n",
       "True         181  1009     1190\n",
       "__all__     7512  1660     9172"
      ]
     },
     "metadata": {},
     "output_type": "display_data"
    },
    {
     "name": "stdout",
     "output_type": "stream",
     "text": [
      "\n",
      "\n",
      "\u001b[1mLogistic Regression\u001b[0m\n",
      "Accuracy of the model for training data is: 0.900174462981\n",
      "Confusion Matrix for training data is:\n"
     ]
    },
    {
     "data": {
      "text/plain": [
       "Predicted  False  True  __all__\n",
       "Actual                         \n",
       "False      29143  2710    31853\n",
       "True         952  3879     4831\n",
       "__all__    30095  6589    36684"
      ]
     },
     "metadata": {},
     "output_type": "display_data"
    },
    {
     "name": "stdout",
     "output_type": "stream",
     "text": [
      "Accuracy of the model for test data is: 0.898168338421\n",
      "Confusion Matrix for test data is:\n"
     ]
    },
    {
     "data": {
      "text/plain": [
       "Predicted  False  True  __all__\n",
       "Actual                         \n",
       "False       7307   675     7982\n",
       "True         259   931     1190\n",
       "__all__     7566  1606     9172"
      ]
     },
     "metadata": {},
     "output_type": "display_data"
    },
    {
     "name": "stdout",
     "output_type": "stream",
     "text": [
      "\n",
      "\n",
      "\u001b[1mRandomForest Classifier\u001b[0m\n",
      "Accuracy of the model for training data is: 0.91950169011\n",
      "Confusion Matrix for training data is:\n"
     ]
    },
    {
     "data": {
      "text/plain": [
       "Predicted  False  True  __all__\n",
       "Actual                         \n",
       "False      29377  2476    31853\n",
       "True         477  4354     4831\n",
       "__all__    29854  6830    36684"
      ]
     },
     "metadata": {},
     "output_type": "display_data"
    },
    {
     "name": "stdout",
     "output_type": "stream",
     "text": [
      "Accuracy of the model for test data is: 0.908744003489\n",
      "Confusion Matrix for test data is:\n"
     ]
    },
    {
     "data": {
      "text/plain": [
       "Predicted  False  True  __all__\n",
       "Actual                         \n",
       "False       7319   663     7982\n",
       "True         174  1016     1190\n",
       "__all__     7493  1679     9172"
      ]
     },
     "metadata": {},
     "output_type": "display_data"
    },
    {
     "data": {
      "application/vnd.plotly.v1+json": {
       "config": {
        "linkText": "Export to plot.ly",
        "plotlyServerURL": "https://plot.ly",
        "showLink": true
       },
       "data": [
        {
         "marker": {
          "color": "rgb(158,202,225)",
          "line": {
           "color": "rgb(8,48,107)",
           "width": 1.5
          }
         },
         "opacity": 0.6,
         "orientation": "h",
         "text": [
          0.0589,
          0.0546,
          0.0524,
          0.0502,
          0.0417,
          0.0388,
          0.0354,
          0.0342,
          0.0298,
          0.0271,
          0.024,
          0.0222,
          0.0221,
          0.022,
          0.0199,
          0.0192,
          0.0189,
          0.0189,
          0.0179,
          0.0178,
          0.0173,
          0.0166,
          0.0159,
          0.013,
          0.0117,
          0.0113,
          0.0102,
          0.0096,
          0.009,
          0.0088,
          0.0087,
          0.0069,
          0.0067,
          0.0066,
          0.0066,
          0.0063,
          0.0062,
          0.006,
          0.0058,
          0.0054,
          0.0053,
          0.0053,
          0.005,
          0.005,
          0.0049,
          0.0048,
          0.0048,
          0.0046,
          0.0045,
          0.0044,
          0.0042,
          0.0042,
          0.0038,
          0.0035,
          0.0035,
          0.0034,
          0.0033,
          0.0033,
          0.0033,
          0.0032,
          0.003,
          0.003,
          0.0029,
          0.0029,
          0.0029,
          0.0028,
          0.0028,
          0.0028,
          0.0027,
          0.0024,
          0.0024,
          0.0024,
          0.0023,
          0.0023,
          0.0023,
          0.0022,
          0.0022,
          0.0022,
          0.0022,
          0.0022,
          0.0021,
          0.0021,
          0.0021,
          0.0019,
          0.0018,
          0.0017,
          0.0017,
          0.0017,
          0.0016,
          0.0016,
          0.0016,
          0.0016,
          0.0016,
          0.0015,
          0.0014,
          0.0014,
          0.0013,
          0.0013,
          0.0012,
          0.0012,
          0.0012,
          0.0012,
          0.0012,
          0.0011,
          0.0011,
          0.0011,
          0.0011,
          0.0011,
          0.0011,
          0.0011,
          0.001,
          0.001,
          0.0009,
          0.0009,
          0.0009,
          0.0009,
          0.0007
         ],
         "textposition": "outside",
         "type": "bar",
         "uid": "868582d1-61bc-4f9f-a814-372a92e430ef",
         "x": [
          0.05889498713912289,
          0.054642971181340684,
          0.0524266793909311,
          0.05020110292718353,
          0.041695712534658425,
          0.038775982826357205,
          0.03543512101141188,
          0.034215543211059456,
          0.029767353057549174,
          0.027057858155268455,
          0.02395167905073414,
          0.022217330277475748,
          0.022104285672617262,
          0.021976383129933857,
          0.019890158417750985,
          0.01924579373757382,
          0.018918679873146504,
          0.018885624317454906,
          0.017949992869368776,
          0.017767088494144878,
          0.017266267526835997,
          0.016611101049858263,
          0.015893913080568096,
          0.012959461924882825,
          0.011665805929530646,
          0.01130843422044155,
          0.010170466463607402,
          0.009594133163390294,
          0.009026922344210025,
          0.008787975417574296,
          0.008724415341934137,
          0.006946155417971817,
          0.00671605561892889,
          0.006572324417432339,
          0.0065590909626473196,
          0.006324434053822393,
          0.006208980202208611,
          0.005987440031142076,
          0.005804292145797254,
          0.005421891616673424,
          0.005338772992987591,
          0.005312938160895659,
          0.005031661001576775,
          0.005021629410121506,
          0.004876402982511013,
          0.004791930524994116,
          0.004752073523383475,
          0.004648822646578895,
          0.004540002545162229,
          0.004371375006170469,
          0.0041721300466227755,
          0.004170052865176165,
          0.0038402068068143606,
          0.003532808036832677,
          0.0035164461866364896,
          0.0034334396988804803,
          0.003303202164436339,
          0.0032918310705742416,
          0.003261485248577478,
          0.0031527268989118666,
          0.003002524728539596,
          0.0029967498662306713,
          0.0029022404351605412,
          0.002883224703731062,
          0.002882023895401601,
          0.002826704739061255,
          0.002802968202972423,
          0.0027722576190217464,
          0.002675837317373313,
          0.0024350837566313836,
          0.002397990076215256,
          0.0023687018552584716,
          0.002343152777934763,
          0.0023405741613670436,
          0.0022813219683877504,
          0.0022497532290444142,
          0.002241896687689695,
          0.002223168225018294,
          0.002177020999795155,
          0.0021752571048246935,
          0.0021485716865110365,
          0.0021266858956629597,
          0.0021263301218092763,
          0.0019114685147985787,
          0.0017778415126928856,
          0.0017246482057567346,
          0.0017087471483164863,
          0.0016905322934473333,
          0.0016367401223602023,
          0.0016106683377276267,
          0.0016039827682990677,
          0.0015982057111697191,
          0.0015542044959399404,
          0.0014595385923504122,
          0.001443438897562788,
          0.0013928136527630278,
          0.0013469353482771858,
          0.001299870101485649,
          0.0011760873298965698,
          0.0011691073981294682,
          0.0011617191180500809,
          0.0011541684635379172,
          0.0011517659007818132,
          0.0011397948939485883,
          0.001137673762001456,
          0.0011360915866669608,
          0.0011248991650100995,
          0.0010842780491814908,
          0.0010751720987729261,
          0.0010705277213857033,
          0.0009993339440592327,
          0.0009877619108792075,
          0.0009325602779690807,
          0.0009317257147085159,
          0.000923233327244965,
          0.0008554459323531488,
          0.0007191516264467961
         ],
         "y": [
          "4",
          "1",
          "21",
          "116",
          "29",
          "30",
          "42",
          "43",
          "0",
          "14",
          "76",
          "2",
          "50",
          "23",
          "40",
          "9",
          "60",
          "99",
          "33",
          "6",
          "106",
          "22",
          "44",
          "19",
          "108",
          "82",
          "35",
          "97",
          "69",
          "41",
          "93",
          "70",
          "96",
          "67",
          "31",
          "5",
          "73",
          "28",
          "34",
          "71",
          "87",
          "8",
          "17",
          "78",
          "52",
          "26",
          "89",
          "101",
          "27",
          "58",
          "24",
          "74",
          "57",
          "38",
          "85",
          "94",
          "25",
          "20",
          "47",
          "100",
          "64",
          "90",
          "3",
          "48",
          "77",
          "105",
          "16",
          "107",
          "115",
          "81",
          "12",
          "49",
          "11",
          "13",
          "88",
          "104",
          "46",
          "86",
          "103",
          "53",
          "59",
          "15",
          "95",
          "98",
          "32",
          "84",
          "110",
          "102",
          "79",
          "66",
          "83",
          "55",
          "92",
          "112",
          "54",
          "10",
          "114",
          "62",
          "111",
          "45",
          "72",
          "91",
          "113",
          "7",
          "109",
          "18",
          "63",
          "75",
          "61",
          "56",
          "51",
          "80",
          "65",
          "36",
          "39",
          "37",
          "68"
         ]
        }
       ],
       "layout": {
        "autosize": false,
        "height": 1000,
        "width": 1000,
        "xaxis": {
         "tickfont": {
          "color": "black",
          "size": 12
         },
         "title": "Feature Importances"
        },
        "yaxis": {
         "automargin": true
        }
       }
      },
      "text/html": [
       "<div id=\"125b7cc3-faba-4198-97fe-e6aefe52d0a9\" style=\"height: 1000px; width: 1000px;\" class=\"plotly-graph-div\"></div><script type=\"text/javascript\">require([\"plotly\"], function(Plotly) { window.PLOTLYENV=window.PLOTLYENV || {};window.PLOTLYENV.BASE_URL=\"https://plot.ly\";Plotly.newPlot(\"125b7cc3-faba-4198-97fe-e6aefe52d0a9\", [{\"marker\": {\"color\": \"rgb(158,202,225)\", \"line\": {\"color\": \"rgb(8,48,107)\", \"width\": 1.5}}, \"opacity\": 0.6, \"orientation\": \"h\", \"text\": [0.0589, 0.0546, 0.0524, 0.0502, 0.0417, 0.0388, 0.0354, 0.0342, 0.0298, 0.0271, 0.024, 0.0222, 0.0221, 0.022, 0.0199, 0.0192, 0.0189, 0.0189, 0.0179, 0.0178, 0.0173, 0.0166, 0.0159, 0.013, 0.0117, 0.0113, 0.0102, 0.0096, 0.009, 0.0088, 0.0087, 0.0069, 0.0067, 0.0066, 0.0066, 0.0063, 0.0062, 0.006, 0.0058, 0.0054, 0.0053, 0.0053, 0.005, 0.005, 0.0049, 0.0048, 0.0048, 0.0046, 0.0045, 0.0044, 0.0042, 0.0042, 0.0038, 0.0035, 0.0035, 0.0034, 0.0033, 0.0033, 0.0033, 0.0032, 0.003, 0.003, 0.0029, 0.0029, 0.0029, 0.0028, 0.0028, 0.0028, 0.0027, 0.0024, 0.0024, 0.0024, 0.0023, 0.0023, 0.0023, 0.0022, 0.0022, 0.0022, 0.0022, 0.0022, 0.0021, 0.0021, 0.0021, 0.0019, 0.0018, 0.0017, 0.0017, 0.0017, 0.0016, 0.0016, 0.0016, 0.0016, 0.0016, 0.0015, 0.0014, 0.0014, 0.0013, 0.0013, 0.0012, 0.0012, 0.0012, 0.0012, 0.0012, 0.0011, 0.0011, 0.0011, 0.0011, 0.0011, 0.0011, 0.0011, 0.001, 0.001, 0.0009, 0.0009, 0.0009, 0.0009, 0.0007], \"textposition\": \"outside\", \"x\": [0.05889498713912289, 0.054642971181340684, 0.0524266793909311, 0.05020110292718353, 0.041695712534658425, 0.038775982826357205, 0.03543512101141188, 0.034215543211059456, 0.029767353057549174, 0.027057858155268455, 0.02395167905073414, 0.022217330277475748, 0.022104285672617262, 0.021976383129933857, 0.019890158417750985, 0.01924579373757382, 0.018918679873146504, 0.018885624317454906, 0.017949992869368776, 0.017767088494144878, 0.017266267526835997, 0.016611101049858263, 0.015893913080568096, 0.012959461924882825, 0.011665805929530646, 0.01130843422044155, 0.010170466463607402, 0.009594133163390294, 0.009026922344210025, 0.008787975417574296, 0.008724415341934137, 0.006946155417971817, 0.00671605561892889, 0.006572324417432339, 0.0065590909626473196, 0.006324434053822393, 0.006208980202208611, 0.005987440031142076, 0.005804292145797254, 0.005421891616673424, 0.005338772992987591, 0.005312938160895659, 0.005031661001576775, 0.005021629410121506, 0.004876402982511013, 0.004791930524994116, 0.004752073523383475, 0.004648822646578895, 0.004540002545162229, 0.004371375006170469, 0.0041721300466227755, 0.004170052865176165, 0.0038402068068143606, 0.003532808036832677, 0.0035164461866364896, 0.0034334396988804803, 0.003303202164436339, 0.0032918310705742416, 0.003261485248577478, 0.0031527268989118666, 0.003002524728539596, 0.0029967498662306713, 0.0029022404351605412, 0.002883224703731062, 0.002882023895401601, 0.002826704739061255, 0.002802968202972423, 0.0027722576190217464, 0.002675837317373313, 0.0024350837566313836, 0.002397990076215256, 0.0023687018552584716, 0.002343152777934763, 0.0023405741613670436, 0.0022813219683877504, 0.0022497532290444142, 0.002241896687689695, 0.002223168225018294, 0.002177020999795155, 0.0021752571048246935, 0.0021485716865110365, 0.0021266858956629597, 0.0021263301218092763, 0.0019114685147985787, 0.0017778415126928856, 0.0017246482057567346, 0.0017087471483164863, 0.0016905322934473333, 0.0016367401223602023, 0.0016106683377276267, 0.0016039827682990677, 0.0015982057111697191, 0.0015542044959399404, 0.0014595385923504122, 0.001443438897562788, 0.0013928136527630278, 0.0013469353482771858, 0.001299870101485649, 0.0011760873298965698, 0.0011691073981294682, 0.0011617191180500809, 0.0011541684635379172, 0.0011517659007818132, 0.0011397948939485883, 0.001137673762001456, 0.0011360915866669608, 0.0011248991650100995, 0.0010842780491814908, 0.0010751720987729261, 0.0010705277213857033, 0.0009993339440592327, 0.0009877619108792075, 0.0009325602779690807, 0.0009317257147085159, 0.000923233327244965, 0.0008554459323531488, 0.0007191516264467961], \"y\": [\"4\", \"1\", \"21\", \"116\", \"29\", \"30\", \"42\", \"43\", \"0\", \"14\", \"76\", \"2\", \"50\", \"23\", \"40\", \"9\", \"60\", \"99\", \"33\", \"6\", \"106\", \"22\", \"44\", \"19\", \"108\", \"82\", \"35\", \"97\", \"69\", \"41\", \"93\", \"70\", \"96\", \"67\", \"31\", \"5\", \"73\", \"28\", \"34\", \"71\", \"87\", \"8\", \"17\", \"78\", \"52\", \"26\", \"89\", \"101\", \"27\", \"58\", \"24\", \"74\", \"57\", \"38\", \"85\", \"94\", \"25\", \"20\", \"47\", \"100\", \"64\", \"90\", \"3\", \"48\", \"77\", \"105\", \"16\", \"107\", \"115\", \"81\", \"12\", \"49\", \"11\", \"13\", \"88\", \"104\", \"46\", \"86\", \"103\", \"53\", \"59\", \"15\", \"95\", \"98\", \"32\", \"84\", \"110\", \"102\", \"79\", \"66\", \"83\", \"55\", \"92\", \"112\", \"54\", \"10\", \"114\", \"62\", \"111\", \"45\", \"72\", \"91\", \"113\", \"7\", \"109\", \"18\", \"63\", \"75\", \"61\", \"56\", \"51\", \"80\", \"65\", \"36\", \"39\", \"37\", \"68\"], \"type\": \"bar\", \"uid\": \"868582d1-61bc-4f9f-a814-372a92e430ef\"}], {\"autosize\": false, \"height\": 1000, \"width\": 1000, \"xaxis\": {\"tickfont\": {\"color\": \"black\", \"size\": 12}, \"title\": \"Feature Importances\"}, \"yaxis\": {\"automargin\": true}}, {\"showLink\": true, \"linkText\": \"Export to plot.ly\", \"plotlyServerURL\": \"https://plot.ly\"})});</script>"
      ],
      "text/vnd.plotly.v1+html": [
       "<div id=\"125b7cc3-faba-4198-97fe-e6aefe52d0a9\" style=\"height: 1000px; width: 1000px;\" class=\"plotly-graph-div\"></div><script type=\"text/javascript\">require([\"plotly\"], function(Plotly) { window.PLOTLYENV=window.PLOTLYENV || {};window.PLOTLYENV.BASE_URL=\"https://plot.ly\";Plotly.newPlot(\"125b7cc3-faba-4198-97fe-e6aefe52d0a9\", [{\"marker\": {\"color\": \"rgb(158,202,225)\", \"line\": {\"color\": \"rgb(8,48,107)\", \"width\": 1.5}}, \"opacity\": 0.6, \"orientation\": \"h\", \"text\": [0.0589, 0.0546, 0.0524, 0.0502, 0.0417, 0.0388, 0.0354, 0.0342, 0.0298, 0.0271, 0.024, 0.0222, 0.0221, 0.022, 0.0199, 0.0192, 0.0189, 0.0189, 0.0179, 0.0178, 0.0173, 0.0166, 0.0159, 0.013, 0.0117, 0.0113, 0.0102, 0.0096, 0.009, 0.0088, 0.0087, 0.0069, 0.0067, 0.0066, 0.0066, 0.0063, 0.0062, 0.006, 0.0058, 0.0054, 0.0053, 0.0053, 0.005, 0.005, 0.0049, 0.0048, 0.0048, 0.0046, 0.0045, 0.0044, 0.0042, 0.0042, 0.0038, 0.0035, 0.0035, 0.0034, 0.0033, 0.0033, 0.0033, 0.0032, 0.003, 0.003, 0.0029, 0.0029, 0.0029, 0.0028, 0.0028, 0.0028, 0.0027, 0.0024, 0.0024, 0.0024, 0.0023, 0.0023, 0.0023, 0.0022, 0.0022, 0.0022, 0.0022, 0.0022, 0.0021, 0.0021, 0.0021, 0.0019, 0.0018, 0.0017, 0.0017, 0.0017, 0.0016, 0.0016, 0.0016, 0.0016, 0.0016, 0.0015, 0.0014, 0.0014, 0.0013, 0.0013, 0.0012, 0.0012, 0.0012, 0.0012, 0.0012, 0.0011, 0.0011, 0.0011, 0.0011, 0.0011, 0.0011, 0.0011, 0.001, 0.001, 0.0009, 0.0009, 0.0009, 0.0009, 0.0007], \"textposition\": \"outside\", \"x\": [0.05889498713912289, 0.054642971181340684, 0.0524266793909311, 0.05020110292718353, 0.041695712534658425, 0.038775982826357205, 0.03543512101141188, 0.034215543211059456, 0.029767353057549174, 0.027057858155268455, 0.02395167905073414, 0.022217330277475748, 0.022104285672617262, 0.021976383129933857, 0.019890158417750985, 0.01924579373757382, 0.018918679873146504, 0.018885624317454906, 0.017949992869368776, 0.017767088494144878, 0.017266267526835997, 0.016611101049858263, 0.015893913080568096, 0.012959461924882825, 0.011665805929530646, 0.01130843422044155, 0.010170466463607402, 0.009594133163390294, 0.009026922344210025, 0.008787975417574296, 0.008724415341934137, 0.006946155417971817, 0.00671605561892889, 0.006572324417432339, 0.0065590909626473196, 0.006324434053822393, 0.006208980202208611, 0.005987440031142076, 0.005804292145797254, 0.005421891616673424, 0.005338772992987591, 0.005312938160895659, 0.005031661001576775, 0.005021629410121506, 0.004876402982511013, 0.004791930524994116, 0.004752073523383475, 0.004648822646578895, 0.004540002545162229, 0.004371375006170469, 0.0041721300466227755, 0.004170052865176165, 0.0038402068068143606, 0.003532808036832677, 0.0035164461866364896, 0.0034334396988804803, 0.003303202164436339, 0.0032918310705742416, 0.003261485248577478, 0.0031527268989118666, 0.003002524728539596, 0.0029967498662306713, 0.0029022404351605412, 0.002883224703731062, 0.002882023895401601, 0.002826704739061255, 0.002802968202972423, 0.0027722576190217464, 0.002675837317373313, 0.0024350837566313836, 0.002397990076215256, 0.0023687018552584716, 0.002343152777934763, 0.0023405741613670436, 0.0022813219683877504, 0.0022497532290444142, 0.002241896687689695, 0.002223168225018294, 0.002177020999795155, 0.0021752571048246935, 0.0021485716865110365, 0.0021266858956629597, 0.0021263301218092763, 0.0019114685147985787, 0.0017778415126928856, 0.0017246482057567346, 0.0017087471483164863, 0.0016905322934473333, 0.0016367401223602023, 0.0016106683377276267, 0.0016039827682990677, 0.0015982057111697191, 0.0015542044959399404, 0.0014595385923504122, 0.001443438897562788, 0.0013928136527630278, 0.0013469353482771858, 0.001299870101485649, 0.0011760873298965698, 0.0011691073981294682, 0.0011617191180500809, 0.0011541684635379172, 0.0011517659007818132, 0.0011397948939485883, 0.001137673762001456, 0.0011360915866669608, 0.0011248991650100995, 0.0010842780491814908, 0.0010751720987729261, 0.0010705277213857033, 0.0009993339440592327, 0.0009877619108792075, 0.0009325602779690807, 0.0009317257147085159, 0.000923233327244965, 0.0008554459323531488, 0.0007191516264467961], \"y\": [\"4\", \"1\", \"21\", \"116\", \"29\", \"30\", \"42\", \"43\", \"0\", \"14\", \"76\", \"2\", \"50\", \"23\", \"40\", \"9\", \"60\", \"99\", \"33\", \"6\", \"106\", \"22\", \"44\", \"19\", \"108\", \"82\", \"35\", \"97\", \"69\", \"41\", \"93\", \"70\", \"96\", \"67\", \"31\", \"5\", \"73\", \"28\", \"34\", \"71\", \"87\", \"8\", \"17\", \"78\", \"52\", \"26\", \"89\", \"101\", \"27\", \"58\", \"24\", \"74\", \"57\", \"38\", \"85\", \"94\", \"25\", \"20\", \"47\", \"100\", \"64\", \"90\", \"3\", \"48\", \"77\", \"105\", \"16\", \"107\", \"115\", \"81\", \"12\", \"49\", \"11\", \"13\", \"88\", \"104\", \"46\", \"86\", \"103\", \"53\", \"59\", \"15\", \"95\", \"98\", \"32\", \"84\", \"110\", \"102\", \"79\", \"66\", \"83\", \"55\", \"92\", \"112\", \"54\", \"10\", \"114\", \"62\", \"111\", \"45\", \"72\", \"91\", \"113\", \"7\", \"109\", \"18\", \"63\", \"75\", \"61\", \"56\", \"51\", \"80\", \"65\", \"36\", \"39\", \"37\", \"68\"], \"type\": \"bar\", \"uid\": \"868582d1-61bc-4f9f-a814-372a92e430ef\"}], {\"autosize\": false, \"height\": 1000, \"width\": 1000, \"xaxis\": {\"tickfont\": {\"color\": \"black\", \"size\": 12}, \"title\": \"Feature Importances\"}, \"yaxis\": {\"automargin\": true}}, {\"showLink\": true, \"linkText\": \"Export to plot.ly\", \"plotlyServerURL\": \"https://plot.ly\"})});</script>"
      ]
     },
     "metadata": {},
     "output_type": "display_data"
    },
    {
     "name": "stdout",
     "output_type": "stream",
     "text": [
      "\n",
      "\n",
      "\u001b[1mAdaoost Classifier\u001b[0m\n",
      "Accuracy of the model for training data is: 0.905053974485\n",
      "Confusion Matrix for training data is:\n"
     ]
    },
    {
     "data": {
      "text/plain": [
       "Predicted  False  True  __all__\n",
       "Actual                         \n",
       "False      29289  2564    31853\n",
       "True         919  3912     4831\n",
       "__all__    30208  6476    36684"
      ]
     },
     "metadata": {},
     "output_type": "display_data"
    },
    {
     "name": "stdout",
     "output_type": "stream",
     "text": [
      "Accuracy of the model for test data is: 0.903074574793\n",
      "Confusion Matrix for test data is:\n"
     ]
    },
    {
     "data": {
      "text/plain": [
       "Predicted  False  True  __all__\n",
       "Actual                         \n",
       "False       7340   642     7982\n",
       "True         247   943     1190\n",
       "__all__     7587  1585     9172"
      ]
     },
     "metadata": {},
     "output_type": "display_data"
    },
    {
     "data": {
      "application/vnd.plotly.v1+json": {
       "config": {
        "linkText": "Export to plot.ly",
        "plotlyServerURL": "https://plot.ly",
        "showLink": true
       },
       "data": [
        {
         "marker": {
          "color": "rgb(158,202,225)",
          "line": {
           "color": "rgb(8,48,107)",
           "width": 1.5
          }
         },
         "opacity": 0.6,
         "orientation": "h",
         "text": [
          0.06,
          0.04,
          0.04,
          0.04,
          0.04,
          0.04,
          0.04,
          0.04,
          0.04,
          0.04,
          0.02,
          0.02,
          0.02,
          0.02,
          0.02,
          0.02,
          0.02,
          0.02,
          0.02,
          0.02,
          0.02,
          0.02,
          0.02,
          0.02,
          0.02,
          0.02,
          0.02,
          0.02,
          0.02,
          0.02,
          0.02,
          0.02,
          0.02,
          0.02,
          0.02,
          0.02,
          0.02,
          0.02,
          0.02,
          0,
          0,
          0,
          0,
          0,
          0,
          0,
          0,
          0,
          0,
          0,
          0,
          0,
          0,
          0,
          0,
          0,
          0,
          0,
          0,
          0,
          0,
          0,
          0,
          0,
          0,
          0,
          0,
          0,
          0,
          0,
          0,
          0,
          0,
          0,
          0,
          0,
          0,
          0,
          0,
          0,
          0,
          0,
          0,
          0,
          0,
          0,
          0,
          0,
          0,
          0,
          0,
          0,
          0,
          0,
          0,
          0,
          0,
          0,
          0,
          0,
          0,
          0,
          0,
          0,
          0,
          0,
          0,
          0,
          0,
          0,
          0,
          0,
          0,
          0,
          0,
          0,
          0
         ],
         "textposition": "outside",
         "type": "bar",
         "uid": "a0e165a5-c706-4aca-9bde-c8fdba07869c",
         "x": [
          0.06,
          0.04,
          0.04,
          0.04,
          0.04,
          0.04,
          0.04,
          0.04,
          0.04,
          0.04,
          0.02,
          0.02,
          0.02,
          0.02,
          0.02,
          0.02,
          0.02,
          0.02,
          0.02,
          0.02,
          0.02,
          0.02,
          0.02,
          0.02,
          0.02,
          0.02,
          0.02,
          0.02,
          0.02,
          0.02,
          0.02,
          0.02,
          0.02,
          0.02,
          0.02,
          0.02,
          0.02,
          0.02,
          0.02,
          0,
          0,
          0,
          0,
          0,
          0,
          0,
          0,
          0,
          0,
          0,
          0,
          0,
          0,
          0,
          0,
          0,
          0,
          0,
          0,
          0,
          0,
          0,
          0,
          0,
          0,
          0,
          0,
          0,
          0,
          0,
          0,
          0,
          0,
          0,
          0,
          0,
          0,
          0,
          0,
          0,
          0,
          0,
          0,
          0,
          0,
          0,
          0,
          0,
          0,
          0,
          0,
          0,
          0,
          0,
          0,
          0,
          0,
          0,
          0,
          0,
          0,
          0,
          0,
          0,
          0,
          0,
          0,
          0,
          0,
          0,
          0,
          0,
          0,
          0,
          0,
          0,
          0
         ],
         "y": [
          "0",
          "83",
          "26",
          "24",
          "23",
          "106",
          "15",
          "86",
          "27",
          "6",
          "56",
          "38",
          "74",
          "100",
          "64",
          "62",
          "99",
          "97",
          "37",
          "39",
          "57",
          "79",
          "42",
          "101",
          "1",
          "50",
          "85",
          "48",
          "95",
          "28",
          "19",
          "3",
          "7",
          "110",
          "12",
          "14",
          "105",
          "108",
          "21",
          "104",
          "81",
          "73",
          "115",
          "75",
          "76",
          "103",
          "77",
          "114",
          "78",
          "113",
          "80",
          "98",
          "112",
          "111",
          "82",
          "94",
          "84",
          "109",
          "96",
          "102",
          "71",
          "87",
          "88",
          "89",
          "90",
          "91",
          "107",
          "92",
          "93",
          "72",
          "58",
          "70",
          "18",
          "34",
          "33",
          "32",
          "31",
          "30",
          "29",
          "25",
          "22",
          "20",
          "17",
          "69",
          "16",
          "13",
          "11",
          "10",
          "9",
          "8",
          "5",
          "4",
          "2",
          "35",
          "36",
          "40",
          "41",
          "68",
          "67",
          "66",
          "65",
          "63",
          "61",
          "60",
          "59",
          "55",
          "54",
          "53",
          "52",
          "51",
          "49",
          "47",
          "46",
          "45",
          "44",
          "43",
          "116"
         ]
        }
       ],
       "layout": {
        "autosize": false,
        "height": 1000,
        "width": 1000,
        "xaxis": {
         "tickfont": {
          "color": "black",
          "size": 12
         },
         "title": "Feature Importances"
        },
        "yaxis": {
         "automargin": true
        }
       }
      },
      "text/html": [
       "<div id=\"0381c7e3-548d-48b7-b496-116400805ccb\" style=\"height: 1000px; width: 1000px;\" class=\"plotly-graph-div\"></div><script type=\"text/javascript\">require([\"plotly\"], function(Plotly) { window.PLOTLYENV=window.PLOTLYENV || {};window.PLOTLYENV.BASE_URL=\"https://plot.ly\";Plotly.newPlot(\"0381c7e3-548d-48b7-b496-116400805ccb\", [{\"marker\": {\"color\": \"rgb(158,202,225)\", \"line\": {\"color\": \"rgb(8,48,107)\", \"width\": 1.5}}, \"opacity\": 0.6, \"orientation\": \"h\", \"text\": [0.06, 0.04, 0.04, 0.04, 0.04, 0.04, 0.04, 0.04, 0.04, 0.04, 0.02, 0.02, 0.02, 0.02, 0.02, 0.02, 0.02, 0.02, 0.02, 0.02, 0.02, 0.02, 0.02, 0.02, 0.02, 0.02, 0.02, 0.02, 0.02, 0.02, 0.02, 0.02, 0.02, 0.02, 0.02, 0.02, 0.02, 0.02, 0.02, 0.0, 0.0, 0.0, 0.0, 0.0, 0.0, 0.0, 0.0, 0.0, 0.0, 0.0, 0.0, 0.0, 0.0, 0.0, 0.0, 0.0, 0.0, 0.0, 0.0, 0.0, 0.0, 0.0, 0.0, 0.0, 0.0, 0.0, 0.0, 0.0, 0.0, 0.0, 0.0, 0.0, 0.0, 0.0, 0.0, 0.0, 0.0, 0.0, 0.0, 0.0, 0.0, 0.0, 0.0, 0.0, 0.0, 0.0, 0.0, 0.0, 0.0, 0.0, 0.0, 0.0, 0.0, 0.0, 0.0, 0.0, 0.0, 0.0, 0.0, 0.0, 0.0, 0.0, 0.0, 0.0, 0.0, 0.0, 0.0, 0.0, 0.0, 0.0, 0.0, 0.0, 0.0, 0.0, 0.0, 0.0, 0.0], \"textposition\": \"outside\", \"x\": [0.06, 0.04, 0.04, 0.04, 0.04, 0.04, 0.04, 0.04, 0.04, 0.04, 0.02, 0.02, 0.02, 0.02, 0.02, 0.02, 0.02, 0.02, 0.02, 0.02, 0.02, 0.02, 0.02, 0.02, 0.02, 0.02, 0.02, 0.02, 0.02, 0.02, 0.02, 0.02, 0.02, 0.02, 0.02, 0.02, 0.02, 0.02, 0.02, 0.0, 0.0, 0.0, 0.0, 0.0, 0.0, 0.0, 0.0, 0.0, 0.0, 0.0, 0.0, 0.0, 0.0, 0.0, 0.0, 0.0, 0.0, 0.0, 0.0, 0.0, 0.0, 0.0, 0.0, 0.0, 0.0, 0.0, 0.0, 0.0, 0.0, 0.0, 0.0, 0.0, 0.0, 0.0, 0.0, 0.0, 0.0, 0.0, 0.0, 0.0, 0.0, 0.0, 0.0, 0.0, 0.0, 0.0, 0.0, 0.0, 0.0, 0.0, 0.0, 0.0, 0.0, 0.0, 0.0, 0.0, 0.0, 0.0, 0.0, 0.0, 0.0, 0.0, 0.0, 0.0, 0.0, 0.0, 0.0, 0.0, 0.0, 0.0, 0.0, 0.0, 0.0, 0.0, 0.0, 0.0, 0.0], \"y\": [\"0\", \"83\", \"26\", \"24\", \"23\", \"106\", \"15\", \"86\", \"27\", \"6\", \"56\", \"38\", \"74\", \"100\", \"64\", \"62\", \"99\", \"97\", \"37\", \"39\", \"57\", \"79\", \"42\", \"101\", \"1\", \"50\", \"85\", \"48\", \"95\", \"28\", \"19\", \"3\", \"7\", \"110\", \"12\", \"14\", \"105\", \"108\", \"21\", \"104\", \"81\", \"73\", \"115\", \"75\", \"76\", \"103\", \"77\", \"114\", \"78\", \"113\", \"80\", \"98\", \"112\", \"111\", \"82\", \"94\", \"84\", \"109\", \"96\", \"102\", \"71\", \"87\", \"88\", \"89\", \"90\", \"91\", \"107\", \"92\", \"93\", \"72\", \"58\", \"70\", \"18\", \"34\", \"33\", \"32\", \"31\", \"30\", \"29\", \"25\", \"22\", \"20\", \"17\", \"69\", \"16\", \"13\", \"11\", \"10\", \"9\", \"8\", \"5\", \"4\", \"2\", \"35\", \"36\", \"40\", \"41\", \"68\", \"67\", \"66\", \"65\", \"63\", \"61\", \"60\", \"59\", \"55\", \"54\", \"53\", \"52\", \"51\", \"49\", \"47\", \"46\", \"45\", \"44\", \"43\", \"116\"], \"type\": \"bar\", \"uid\": \"a0e165a5-c706-4aca-9bde-c8fdba07869c\"}], {\"autosize\": false, \"height\": 1000, \"width\": 1000, \"xaxis\": {\"tickfont\": {\"color\": \"black\", \"size\": 12}, \"title\": \"Feature Importances\"}, \"yaxis\": {\"automargin\": true}}, {\"showLink\": true, \"linkText\": \"Export to plot.ly\", \"plotlyServerURL\": \"https://plot.ly\"})});</script>"
      ],
      "text/vnd.plotly.v1+html": [
       "<div id=\"0381c7e3-548d-48b7-b496-116400805ccb\" style=\"height: 1000px; width: 1000px;\" class=\"plotly-graph-div\"></div><script type=\"text/javascript\">require([\"plotly\"], function(Plotly) { window.PLOTLYENV=window.PLOTLYENV || {};window.PLOTLYENV.BASE_URL=\"https://plot.ly\";Plotly.newPlot(\"0381c7e3-548d-48b7-b496-116400805ccb\", [{\"marker\": {\"color\": \"rgb(158,202,225)\", \"line\": {\"color\": \"rgb(8,48,107)\", \"width\": 1.5}}, \"opacity\": 0.6, \"orientation\": \"h\", \"text\": [0.06, 0.04, 0.04, 0.04, 0.04, 0.04, 0.04, 0.04, 0.04, 0.04, 0.02, 0.02, 0.02, 0.02, 0.02, 0.02, 0.02, 0.02, 0.02, 0.02, 0.02, 0.02, 0.02, 0.02, 0.02, 0.02, 0.02, 0.02, 0.02, 0.02, 0.02, 0.02, 0.02, 0.02, 0.02, 0.02, 0.02, 0.02, 0.02, 0.0, 0.0, 0.0, 0.0, 0.0, 0.0, 0.0, 0.0, 0.0, 0.0, 0.0, 0.0, 0.0, 0.0, 0.0, 0.0, 0.0, 0.0, 0.0, 0.0, 0.0, 0.0, 0.0, 0.0, 0.0, 0.0, 0.0, 0.0, 0.0, 0.0, 0.0, 0.0, 0.0, 0.0, 0.0, 0.0, 0.0, 0.0, 0.0, 0.0, 0.0, 0.0, 0.0, 0.0, 0.0, 0.0, 0.0, 0.0, 0.0, 0.0, 0.0, 0.0, 0.0, 0.0, 0.0, 0.0, 0.0, 0.0, 0.0, 0.0, 0.0, 0.0, 0.0, 0.0, 0.0, 0.0, 0.0, 0.0, 0.0, 0.0, 0.0, 0.0, 0.0, 0.0, 0.0, 0.0, 0.0, 0.0], \"textposition\": \"outside\", \"x\": [0.06, 0.04, 0.04, 0.04, 0.04, 0.04, 0.04, 0.04, 0.04, 0.04, 0.02, 0.02, 0.02, 0.02, 0.02, 0.02, 0.02, 0.02, 0.02, 0.02, 0.02, 0.02, 0.02, 0.02, 0.02, 0.02, 0.02, 0.02, 0.02, 0.02, 0.02, 0.02, 0.02, 0.02, 0.02, 0.02, 0.02, 0.02, 0.02, 0.0, 0.0, 0.0, 0.0, 0.0, 0.0, 0.0, 0.0, 0.0, 0.0, 0.0, 0.0, 0.0, 0.0, 0.0, 0.0, 0.0, 0.0, 0.0, 0.0, 0.0, 0.0, 0.0, 0.0, 0.0, 0.0, 0.0, 0.0, 0.0, 0.0, 0.0, 0.0, 0.0, 0.0, 0.0, 0.0, 0.0, 0.0, 0.0, 0.0, 0.0, 0.0, 0.0, 0.0, 0.0, 0.0, 0.0, 0.0, 0.0, 0.0, 0.0, 0.0, 0.0, 0.0, 0.0, 0.0, 0.0, 0.0, 0.0, 0.0, 0.0, 0.0, 0.0, 0.0, 0.0, 0.0, 0.0, 0.0, 0.0, 0.0, 0.0, 0.0, 0.0, 0.0, 0.0, 0.0, 0.0, 0.0], \"y\": [\"0\", \"83\", \"26\", \"24\", \"23\", \"106\", \"15\", \"86\", \"27\", \"6\", \"56\", \"38\", \"74\", \"100\", \"64\", \"62\", \"99\", \"97\", \"37\", \"39\", \"57\", \"79\", \"42\", \"101\", \"1\", \"50\", \"85\", \"48\", \"95\", \"28\", \"19\", \"3\", \"7\", \"110\", \"12\", \"14\", \"105\", \"108\", \"21\", \"104\", \"81\", \"73\", \"115\", \"75\", \"76\", \"103\", \"77\", \"114\", \"78\", \"113\", \"80\", \"98\", \"112\", \"111\", \"82\", \"94\", \"84\", \"109\", \"96\", \"102\", \"71\", \"87\", \"88\", \"89\", \"90\", \"91\", \"107\", \"92\", \"93\", \"72\", \"58\", \"70\", \"18\", \"34\", \"33\", \"32\", \"31\", \"30\", \"29\", \"25\", \"22\", \"20\", \"17\", \"69\", \"16\", \"13\", \"11\", \"10\", \"9\", \"8\", \"5\", \"4\", \"2\", \"35\", \"36\", \"40\", \"41\", \"68\", \"67\", \"66\", \"65\", \"63\", \"61\", \"60\", \"59\", \"55\", \"54\", \"53\", \"52\", \"51\", \"49\", \"47\", \"46\", \"45\", \"44\", \"43\", \"116\"], \"type\": \"bar\", \"uid\": \"a0e165a5-c706-4aca-9bde-c8fdba07869c\"}], {\"autosize\": false, \"height\": 1000, \"width\": 1000, \"xaxis\": {\"tickfont\": {\"color\": \"black\", \"size\": 12}, \"title\": \"Feature Importances\"}, \"yaxis\": {\"automargin\": true}}, {\"showLink\": true, \"linkText\": \"Export to plot.ly\", \"plotlyServerURL\": \"https://plot.ly\"})});</script>"
      ]
     },
     "metadata": {},
     "output_type": "display_data"
    },
    {
     "name": "stdout",
     "output_type": "stream",
     "text": [
      "\n",
      "\n",
      "\u001b[1mGradientBoosting Classifier\u001b[0m\n",
      "Accuracy of the model for training data is: 0.911650855959\n",
      "Confusion Matrix for training data is:\n"
     ]
    },
    {
     "data": {
      "text/plain": [
       "Predicted  False  True  __all__\n",
       "Actual                         \n",
       "False      29328  2525    31853\n",
       "True         716  4115     4831\n",
       "__all__    30044  6640    36684"
      ]
     },
     "metadata": {},
     "output_type": "display_data"
    },
    {
     "name": "stdout",
     "output_type": "stream",
     "text": [
      "Accuracy of the model for test data is: 0.908198866114\n",
      "Confusion Matrix for test data is:\n"
     ]
    },
    {
     "data": {
      "text/plain": [
       "Predicted  False  True  __all__\n",
       "Actual                         \n",
       "False       7341   641     7982\n",
       "True         201   989     1190\n",
       "__all__     7542  1630     9172"
      ]
     },
     "metadata": {},
     "output_type": "display_data"
    },
    {
     "data": {
      "application/vnd.plotly.v1+json": {
       "config": {
        "linkText": "Export to plot.ly",
        "plotlyServerURL": "https://plot.ly",
        "showLink": true
       },
       "data": [
        {
         "marker": {
          "color": "rgb(158,202,225)",
          "line": {
           "color": "rgb(8,48,107)",
           "width": 1.5
          }
         },
         "opacity": 0.6,
         "orientation": "h",
         "text": [
          0.51,
          0.1245,
          0.0648,
          0.0538,
          0.0471,
          0.0306,
          0.0178,
          0.0126,
          0.0117,
          0.0105,
          0.0099,
          0.0092,
          0.0086,
          0.0078,
          0.0074,
          0.007,
          0.0067,
          0.0055,
          0.0043,
          0.0039,
          0.0033,
          0.0025,
          0.0024,
          0.0023,
          0.0023,
          0.0022,
          0.0021,
          0.0017,
          0.0016,
          0.0016,
          0.0014,
          0.0013,
          0.0011,
          0.0011,
          0.0011,
          0.001,
          0.0009,
          0.0008,
          0.0008,
          0.0007,
          0.0007,
          0.0007,
          0.0006,
          0.0005,
          0.0005,
          0.0005,
          0.0005,
          0.0005,
          0.0004,
          0.0004,
          0.0004,
          0.0004,
          0.0004,
          0.0004,
          0.0004,
          0.0004,
          0.0004,
          0.0004,
          0.0004,
          0.0004,
          0.0003,
          0.0003,
          0.0003,
          0.0003,
          0.0003,
          0.0002,
          0.0002,
          0.0002,
          0.0002,
          0.0002,
          0.0002,
          0.0002,
          0.0002,
          0.0002,
          0.0001,
          0.0001,
          0.0001,
          0.0001,
          0.0001,
          0.0001,
          0.0001,
          0.0001,
          0.0001,
          0.0001,
          0.0001,
          0.0001,
          0.0001,
          0.0001,
          0.0001,
          0,
          0,
          0,
          0,
          0,
          0,
          0,
          0,
          0,
          0,
          0,
          0,
          0,
          0,
          0,
          0,
          0,
          0,
          0,
          0,
          0,
          0,
          0,
          0,
          0,
          0,
          0,
          0
         ],
         "textposition": "outside",
         "type": "bar",
         "uid": "e285e9b0-fb7b-4555-9377-0d31c53d2a65",
         "x": [
          0.510030981043913,
          0.1244758559917469,
          0.06482769203040686,
          0.0537671428277668,
          0.04708178049514154,
          0.03058317116102438,
          0.017763630644803442,
          0.012602411639360687,
          0.011698481474253227,
          0.010474853873677388,
          0.00994140548158226,
          0.009206846454180026,
          0.008565291445970773,
          0.0078003939834125876,
          0.007409551040373562,
          0.0070056272073634185,
          0.006657155354351484,
          0.00554940059839474,
          0.004272663604634899,
          0.003918870340346411,
          0.0032884154259048455,
          0.002539548365298732,
          0.002364976696922002,
          0.002313072164443269,
          0.0022955862647276977,
          0.0021882573655351485,
          0.0021232937281650726,
          0.0017117790481536495,
          0.0015890800784251165,
          0.0015848092568318825,
          0.0014439905364136466,
          0.001329344800778301,
          0.0011277278417309387,
          0.0011105417838247744,
          0.0010879509849847076,
          0.0009746012741494788,
          0.0009185557753096805,
          0.0007818852336874631,
          0.0007527630288154298,
          0.000748922121355397,
          0.0006944426826397207,
          0.0006571089038674268,
          0.0006128348370301273,
          0.0005464277254387102,
          0.0005459592012385365,
          0.0004896771521860381,
          0.0004894893276910228,
          0.00046321049126533904,
          0.0004353622041439974,
          0.00042560957415476347,
          0.00040927451942342745,
          0.0004065954244182064,
          0.0003960668610574185,
          0.00039213020537319255,
          0.00037767465608027853,
          0.0003774099964233227,
          0.0003732335737518159,
          0.0003630279304982233,
          0.00035977380937112803,
          0.00035533213573394034,
          0.0003423134061845882,
          0.0002822383070689326,
          0.0002776866824396819,
          0.00027650718708187446,
          0.00025767216136761244,
          0.0002399986271520569,
          0.00023270586762444057,
          0.00022414709764733486,
          0.00022392548171970588,
          0.00019792553801804678,
          0.00017566053816615797,
          0.00016704514256221485,
          0.0001583518478062969,
          0.00015645436193997876,
          0.00014527347640390037,
          0.00014052323512596127,
          0.00012503978096328926,
          0.00012170020861859996,
          0.00010993776197908066,
          0.0001056176174346604,
          9.098783420462006e-05,
          8.562976261813538e-05,
          8.009168706354027e-05,
          7.89287601458511e-05,
          7.022346330207305e-05,
          6.781561157486749e-05,
          6.708114691058162e-05,
          5.5006750002561346e-05,
          5.277035630385202e-05,
          4.643486187002507e-05,
          4.258659897898267e-05,
          4.041295498438293e-05,
          3.405870974008532e-05,
          3.275411873784672e-05,
          3.1802876209861684e-05,
          2.8055073239542894e-05,
          2.0153173306781874e-05,
          1.6527936117030588e-05,
          8.166951672961211e-06,
          7.690962209154521e-06,
          2.468013686635563e-06,
          5.790696103393792e-07,
          5.064322867966048e-08,
          4.8677029095641725e-08,
          0,
          0,
          0,
          0,
          0,
          0,
          0,
          0,
          0,
          0,
          0,
          0,
          0
         ],
         "y": [
          "0",
          "16",
          "24",
          "50",
          "41",
          "28",
          "73",
          "26",
          "10",
          "1",
          "36",
          "18",
          "4",
          "29",
          "2",
          "23",
          "43",
          "65",
          "8",
          "38",
          "6",
          "70",
          "96",
          "5",
          "112",
          "97",
          "93",
          "45",
          "17",
          "83",
          "21",
          "12",
          "100",
          "106",
          "72",
          "62",
          "15",
          "3",
          "14",
          "40",
          "67",
          "59",
          "44",
          "11",
          "47",
          "82",
          "115",
          "64",
          "31",
          "101",
          "74",
          "9",
          "107",
          "79",
          "32",
          "95",
          "86",
          "37",
          "90",
          "35",
          "78",
          "110",
          "57",
          "98",
          "33",
          "69",
          "63",
          "52",
          "58",
          "114",
          "87",
          "68",
          "109",
          "7",
          "84",
          "27",
          "105",
          "25",
          "85",
          "116",
          "111",
          "94",
          "113",
          "108",
          "51",
          "89",
          "48",
          "30",
          "76",
          "54",
          "66",
          "103",
          "61",
          "88",
          "77",
          "13",
          "71",
          "92",
          "49",
          "81",
          "102",
          "42",
          "46",
          "91",
          "75",
          "104",
          "56",
          "22",
          "20",
          "99",
          "60",
          "19",
          "34",
          "39",
          "55",
          "53",
          "80"
         ]
        }
       ],
       "layout": {
        "autosize": false,
        "height": 1000,
        "width": 1000,
        "xaxis": {
         "tickfont": {
          "color": "black",
          "size": 12
         },
         "title": "Feature Importances"
        },
        "yaxis": {
         "automargin": true
        }
       }
      },
      "text/html": [
       "<div id=\"4e5a66a5-d774-4442-b9f5-5cc1f746a7e4\" style=\"height: 1000px; width: 1000px;\" class=\"plotly-graph-div\"></div><script type=\"text/javascript\">require([\"plotly\"], function(Plotly) { window.PLOTLYENV=window.PLOTLYENV || {};window.PLOTLYENV.BASE_URL=\"https://plot.ly\";Plotly.newPlot(\"4e5a66a5-d774-4442-b9f5-5cc1f746a7e4\", [{\"marker\": {\"color\": \"rgb(158,202,225)\", \"line\": {\"color\": \"rgb(8,48,107)\", \"width\": 1.5}}, \"opacity\": 0.6, \"orientation\": \"h\", \"text\": [0.51, 0.1245, 0.0648, 0.0538, 0.0471, 0.0306, 0.0178, 0.0126, 0.0117, 0.0105, 0.0099, 0.0092, 0.0086, 0.0078, 0.0074, 0.007, 0.0067, 0.0055, 0.0043, 0.0039, 0.0033, 0.0025, 0.0024, 0.0023, 0.0023, 0.0022, 0.0021, 0.0017, 0.0016, 0.0016, 0.0014, 0.0013, 0.0011, 0.0011, 0.0011, 0.001, 0.0009, 0.0008, 0.0008, 0.0007, 0.0007, 0.0007, 0.0006, 0.0005, 0.0005, 0.0005, 0.0005, 0.0005, 0.0004, 0.0004, 0.0004, 0.0004, 0.0004, 0.0004, 0.0004, 0.0004, 0.0004, 0.0004, 0.0004, 0.0004, 0.0003, 0.0003, 0.0003, 0.0003, 0.0003, 0.0002, 0.0002, 0.0002, 0.0002, 0.0002, 0.0002, 0.0002, 0.0002, 0.0002, 0.0001, 0.0001, 0.0001, 0.0001, 0.0001, 0.0001, 0.0001, 0.0001, 0.0001, 0.0001, 0.0001, 0.0001, 0.0001, 0.0001, 0.0001, 0.0, 0.0, 0.0, 0.0, 0.0, 0.0, 0.0, 0.0, 0.0, 0.0, 0.0, 0.0, 0.0, 0.0, 0.0, 0.0, 0.0, 0.0, 0.0, 0.0, 0.0, 0.0, 0.0, 0.0, 0.0, 0.0, 0.0, 0.0], \"textposition\": \"outside\", \"x\": [0.510030981043913, 0.1244758559917469, 0.06482769203040686, 0.0537671428277668, 0.04708178049514154, 0.03058317116102438, 0.017763630644803442, 0.012602411639360687, 0.011698481474253227, 0.010474853873677388, 0.00994140548158226, 0.009206846454180026, 0.008565291445970773, 0.0078003939834125876, 0.007409551040373562, 0.0070056272073634185, 0.006657155354351484, 0.00554940059839474, 0.004272663604634899, 0.003918870340346411, 0.0032884154259048455, 0.002539548365298732, 0.002364976696922002, 0.002313072164443269, 0.0022955862647276977, 0.0021882573655351485, 0.0021232937281650726, 0.0017117790481536495, 0.0015890800784251165, 0.0015848092568318825, 0.0014439905364136466, 0.001329344800778301, 0.0011277278417309387, 0.0011105417838247744, 0.0010879509849847076, 0.0009746012741494788, 0.0009185557753096805, 0.0007818852336874631, 0.0007527630288154298, 0.000748922121355397, 0.0006944426826397207, 0.0006571089038674268, 0.0006128348370301273, 0.0005464277254387102, 0.0005459592012385365, 0.0004896771521860381, 0.0004894893276910228, 0.00046321049126533904, 0.0004353622041439974, 0.00042560957415476347, 0.00040927451942342745, 0.0004065954244182064, 0.0003960668610574185, 0.00039213020537319255, 0.00037767465608027853, 0.0003774099964233227, 0.0003732335737518159, 0.0003630279304982233, 0.00035977380937112803, 0.00035533213573394034, 0.0003423134061845882, 0.0002822383070689326, 0.0002776866824396819, 0.00027650718708187446, 0.00025767216136761244, 0.0002399986271520569, 0.00023270586762444057, 0.00022414709764733486, 0.00022392548171970588, 0.00019792553801804678, 0.00017566053816615797, 0.00016704514256221485, 0.0001583518478062969, 0.00015645436193997876, 0.00014527347640390037, 0.00014052323512596127, 0.00012503978096328926, 0.00012170020861859996, 0.00010993776197908066, 0.0001056176174346604, 9.098783420462006e-05, 8.562976261813538e-05, 8.009168706354027e-05, 7.89287601458511e-05, 7.022346330207305e-05, 6.781561157486749e-05, 6.708114691058162e-05, 5.5006750002561346e-05, 5.277035630385202e-05, 4.643486187002507e-05, 4.258659897898267e-05, 4.041295498438293e-05, 3.405870974008532e-05, 3.275411873784672e-05, 3.1802876209861684e-05, 2.8055073239542894e-05, 2.0153173306781874e-05, 1.6527936117030588e-05, 8.166951672961211e-06, 7.690962209154521e-06, 2.468013686635563e-06, 5.790696103393792e-07, 5.064322867966048e-08, 4.8677029095641725e-08, 0.0, 0.0, 0.0, 0.0, 0.0, 0.0, 0.0, 0.0, 0.0, 0.0, 0.0, 0.0, 0.0], \"y\": [\"0\", \"16\", \"24\", \"50\", \"41\", \"28\", \"73\", \"26\", \"10\", \"1\", \"36\", \"18\", \"4\", \"29\", \"2\", \"23\", \"43\", \"65\", \"8\", \"38\", \"6\", \"70\", \"96\", \"5\", \"112\", \"97\", \"93\", \"45\", \"17\", \"83\", \"21\", \"12\", \"100\", \"106\", \"72\", \"62\", \"15\", \"3\", \"14\", \"40\", \"67\", \"59\", \"44\", \"11\", \"47\", \"82\", \"115\", \"64\", \"31\", \"101\", \"74\", \"9\", \"107\", \"79\", \"32\", \"95\", \"86\", \"37\", \"90\", \"35\", \"78\", \"110\", \"57\", \"98\", \"33\", \"69\", \"63\", \"52\", \"58\", \"114\", \"87\", \"68\", \"109\", \"7\", \"84\", \"27\", \"105\", \"25\", \"85\", \"116\", \"111\", \"94\", \"113\", \"108\", \"51\", \"89\", \"48\", \"30\", \"76\", \"54\", \"66\", \"103\", \"61\", \"88\", \"77\", \"13\", \"71\", \"92\", \"49\", \"81\", \"102\", \"42\", \"46\", \"91\", \"75\", \"104\", \"56\", \"22\", \"20\", \"99\", \"60\", \"19\", \"34\", \"39\", \"55\", \"53\", \"80\"], \"type\": \"bar\", \"uid\": \"e285e9b0-fb7b-4555-9377-0d31c53d2a65\"}], {\"autosize\": false, \"height\": 1000, \"width\": 1000, \"xaxis\": {\"tickfont\": {\"color\": \"black\", \"size\": 12}, \"title\": \"Feature Importances\"}, \"yaxis\": {\"automargin\": true}}, {\"showLink\": true, \"linkText\": \"Export to plot.ly\", \"plotlyServerURL\": \"https://plot.ly\"})});</script>"
      ],
      "text/vnd.plotly.v1+html": [
       "<div id=\"4e5a66a5-d774-4442-b9f5-5cc1f746a7e4\" style=\"height: 1000px; width: 1000px;\" class=\"plotly-graph-div\"></div><script type=\"text/javascript\">require([\"plotly\"], function(Plotly) { window.PLOTLYENV=window.PLOTLYENV || {};window.PLOTLYENV.BASE_URL=\"https://plot.ly\";Plotly.newPlot(\"4e5a66a5-d774-4442-b9f5-5cc1f746a7e4\", [{\"marker\": {\"color\": \"rgb(158,202,225)\", \"line\": {\"color\": \"rgb(8,48,107)\", \"width\": 1.5}}, \"opacity\": 0.6, \"orientation\": \"h\", \"text\": [0.51, 0.1245, 0.0648, 0.0538, 0.0471, 0.0306, 0.0178, 0.0126, 0.0117, 0.0105, 0.0099, 0.0092, 0.0086, 0.0078, 0.0074, 0.007, 0.0067, 0.0055, 0.0043, 0.0039, 0.0033, 0.0025, 0.0024, 0.0023, 0.0023, 0.0022, 0.0021, 0.0017, 0.0016, 0.0016, 0.0014, 0.0013, 0.0011, 0.0011, 0.0011, 0.001, 0.0009, 0.0008, 0.0008, 0.0007, 0.0007, 0.0007, 0.0006, 0.0005, 0.0005, 0.0005, 0.0005, 0.0005, 0.0004, 0.0004, 0.0004, 0.0004, 0.0004, 0.0004, 0.0004, 0.0004, 0.0004, 0.0004, 0.0004, 0.0004, 0.0003, 0.0003, 0.0003, 0.0003, 0.0003, 0.0002, 0.0002, 0.0002, 0.0002, 0.0002, 0.0002, 0.0002, 0.0002, 0.0002, 0.0001, 0.0001, 0.0001, 0.0001, 0.0001, 0.0001, 0.0001, 0.0001, 0.0001, 0.0001, 0.0001, 0.0001, 0.0001, 0.0001, 0.0001, 0.0, 0.0, 0.0, 0.0, 0.0, 0.0, 0.0, 0.0, 0.0, 0.0, 0.0, 0.0, 0.0, 0.0, 0.0, 0.0, 0.0, 0.0, 0.0, 0.0, 0.0, 0.0, 0.0, 0.0, 0.0, 0.0, 0.0, 0.0], \"textposition\": \"outside\", \"x\": [0.510030981043913, 0.1244758559917469, 0.06482769203040686, 0.0537671428277668, 0.04708178049514154, 0.03058317116102438, 0.017763630644803442, 0.012602411639360687, 0.011698481474253227, 0.010474853873677388, 0.00994140548158226, 0.009206846454180026, 0.008565291445970773, 0.0078003939834125876, 0.007409551040373562, 0.0070056272073634185, 0.006657155354351484, 0.00554940059839474, 0.004272663604634899, 0.003918870340346411, 0.0032884154259048455, 0.002539548365298732, 0.002364976696922002, 0.002313072164443269, 0.0022955862647276977, 0.0021882573655351485, 0.0021232937281650726, 0.0017117790481536495, 0.0015890800784251165, 0.0015848092568318825, 0.0014439905364136466, 0.001329344800778301, 0.0011277278417309387, 0.0011105417838247744, 0.0010879509849847076, 0.0009746012741494788, 0.0009185557753096805, 0.0007818852336874631, 0.0007527630288154298, 0.000748922121355397, 0.0006944426826397207, 0.0006571089038674268, 0.0006128348370301273, 0.0005464277254387102, 0.0005459592012385365, 0.0004896771521860381, 0.0004894893276910228, 0.00046321049126533904, 0.0004353622041439974, 0.00042560957415476347, 0.00040927451942342745, 0.0004065954244182064, 0.0003960668610574185, 0.00039213020537319255, 0.00037767465608027853, 0.0003774099964233227, 0.0003732335737518159, 0.0003630279304982233, 0.00035977380937112803, 0.00035533213573394034, 0.0003423134061845882, 0.0002822383070689326, 0.0002776866824396819, 0.00027650718708187446, 0.00025767216136761244, 0.0002399986271520569, 0.00023270586762444057, 0.00022414709764733486, 0.00022392548171970588, 0.00019792553801804678, 0.00017566053816615797, 0.00016704514256221485, 0.0001583518478062969, 0.00015645436193997876, 0.00014527347640390037, 0.00014052323512596127, 0.00012503978096328926, 0.00012170020861859996, 0.00010993776197908066, 0.0001056176174346604, 9.098783420462006e-05, 8.562976261813538e-05, 8.009168706354027e-05, 7.89287601458511e-05, 7.022346330207305e-05, 6.781561157486749e-05, 6.708114691058162e-05, 5.5006750002561346e-05, 5.277035630385202e-05, 4.643486187002507e-05, 4.258659897898267e-05, 4.041295498438293e-05, 3.405870974008532e-05, 3.275411873784672e-05, 3.1802876209861684e-05, 2.8055073239542894e-05, 2.0153173306781874e-05, 1.6527936117030588e-05, 8.166951672961211e-06, 7.690962209154521e-06, 2.468013686635563e-06, 5.790696103393792e-07, 5.064322867966048e-08, 4.8677029095641725e-08, 0.0, 0.0, 0.0, 0.0, 0.0, 0.0, 0.0, 0.0, 0.0, 0.0, 0.0, 0.0, 0.0], \"y\": [\"0\", \"16\", \"24\", \"50\", \"41\", \"28\", \"73\", \"26\", \"10\", \"1\", \"36\", \"18\", \"4\", \"29\", \"2\", \"23\", \"43\", \"65\", \"8\", \"38\", \"6\", \"70\", \"96\", \"5\", \"112\", \"97\", \"93\", \"45\", \"17\", \"83\", \"21\", \"12\", \"100\", \"106\", \"72\", \"62\", \"15\", \"3\", \"14\", \"40\", \"67\", \"59\", \"44\", \"11\", \"47\", \"82\", \"115\", \"64\", \"31\", \"101\", \"74\", \"9\", \"107\", \"79\", \"32\", \"95\", \"86\", \"37\", \"90\", \"35\", \"78\", \"110\", \"57\", \"98\", \"33\", \"69\", \"63\", \"52\", \"58\", \"114\", \"87\", \"68\", \"109\", \"7\", \"84\", \"27\", \"105\", \"25\", \"85\", \"116\", \"111\", \"94\", \"113\", \"108\", \"51\", \"89\", \"48\", \"30\", \"76\", \"54\", \"66\", \"103\", \"61\", \"88\", \"77\", \"13\", \"71\", \"92\", \"49\", \"81\", \"102\", \"42\", \"46\", \"91\", \"75\", \"104\", \"56\", \"22\", \"20\", \"99\", \"60\", \"19\", \"34\", \"39\", \"55\", \"53\", \"80\"], \"type\": \"bar\", \"uid\": \"e285e9b0-fb7b-4555-9377-0d31c53d2a65\"}], {\"autosize\": false, \"height\": 1000, \"width\": 1000, \"xaxis\": {\"tickfont\": {\"color\": \"black\", \"size\": 12}, \"title\": \"Feature Importances\"}, \"yaxis\": {\"automargin\": true}}, {\"showLink\": true, \"linkText\": \"Export to plot.ly\", \"plotlyServerURL\": \"https://plot.ly\"})});</script>"
      ]
     },
     "metadata": {},
     "output_type": "display_data"
    },
    {
     "name": "stdout",
     "output_type": "stream",
     "text": [
      "\n",
      "\n",
      "\u001b[1mExtraTree Classifier\u001b[0m\n",
      "Accuracy of the model for training data is: 0.921055501036\n",
      "Confusion Matrix for training data is:\n"
     ]
    },
    {
     "data": {
      "text/plain": [
       "Predicted  False  True  __all__\n",
       "Actual                         \n",
       "False      29399  2454    31853\n",
       "True         442  4389     4831\n",
       "__all__    29841  6843    36684"
      ]
     },
     "metadata": {},
     "output_type": "display_data"
    },
    {
     "name": "stdout",
     "output_type": "stream",
     "text": [
      "Accuracy of the model for test data is: 0.908853030964\n",
      "Confusion Matrix for test data is:\n"
     ]
    },
    {
     "data": {
      "text/plain": [
       "Predicted  False  True  __all__\n",
       "Actual                         \n",
       "False       7320   662     7982\n",
       "True         174  1016     1190\n",
       "__all__     7494  1678     9172"
      ]
     },
     "metadata": {},
     "output_type": "display_data"
    },
    {
     "data": {
      "application/vnd.plotly.v1+json": {
       "config": {
        "linkText": "Export to plot.ly",
        "plotlyServerURL": "https://plot.ly",
        "showLink": true
       },
       "data": [
        {
         "marker": {
          "color": "rgb(158,202,225)",
          "line": {
           "color": "rgb(8,48,107)",
           "width": 1.5
          }
         },
         "opacity": 0.6,
         "orientation": "h",
         "text": [
          0.056,
          0.0471,
          0.0352,
          0.0327,
          0.0273,
          0.026,
          0.0246,
          0.0221,
          0.0216,
          0.0198,
          0.017,
          0.017,
          0.0169,
          0.0164,
          0.0141,
          0.0134,
          0.0128,
          0.0128,
          0.0127,
          0.0125,
          0.0125,
          0.012,
          0.0118,
          0.0114,
          0.011,
          0.0108,
          0.0107,
          0.0106,
          0.0105,
          0.0105,
          0.01,
          0.0096,
          0.0096,
          0.0094,
          0.0093,
          0.0089,
          0.0088,
          0.0088,
          0.0087,
          0.0086,
          0.0086,
          0.0086,
          0.008,
          0.008,
          0.0077,
          0.0076,
          0.0075,
          0.0074,
          0.0073,
          0.0069,
          0.0069,
          0.0068,
          0.0065,
          0.0064,
          0.0063,
          0.0061,
          0.006,
          0.006,
          0.0059,
          0.0056,
          0.0056,
          0.0055,
          0.0054,
          0.0054,
          0.0053,
          0.0052,
          0.0052,
          0.0052,
          0.0051,
          0.005,
          0.0047,
          0.0045,
          0.0045,
          0.0045,
          0.0045,
          0.0045,
          0.0045,
          0.0043,
          0.0043,
          0.0043,
          0.0043,
          0.0041,
          0.004,
          0.0039,
          0.0039,
          0.0038,
          0.0038,
          0.0037,
          0.0034,
          0.0034,
          0.0034,
          0.0033,
          0.0033,
          0.0032,
          0.0032,
          0.0031,
          0.0029,
          0.0027,
          0.0026,
          0.0025,
          0.0024,
          0.0024,
          0.0023,
          0.0022,
          0.0022,
          0.0021,
          0.002,
          0.002,
          0.0019,
          0.0019,
          0.0018,
          0.0018,
          0.0018,
          0.0018,
          0.0017,
          0.0013,
          0.0012
         ],
         "textposition": "outside",
         "type": "bar",
         "uid": "8b1d9ee9-076f-4784-b90b-9897090bcbae",
         "x": [
          0.05599773551361068,
          0.04707742067259253,
          0.03524541218288279,
          0.032694050436758326,
          0.027265273561085702,
          0.026003000423438886,
          0.024585515198066343,
          0.02206443309308939,
          0.02156427988671093,
          0.019835194495339926,
          0.01700732083740192,
          0.01696480084004689,
          0.01693672183432553,
          0.016392442733163,
          0.014100254997311965,
          0.013369424227137461,
          0.012800905209160973,
          0.012797513385527842,
          0.012705450142362656,
          0.012542433430627756,
          0.012454004507210913,
          0.011977451525496417,
          0.011843559898636577,
          0.011367504013516664,
          0.010987376580159525,
          0.010832609889111059,
          0.010691584242990245,
          0.010568942187641008,
          0.010456814097927395,
          0.01045170471581776,
          0.010035347669715802,
          0.009618650370857521,
          0.009574956998541405,
          0.009376432153204002,
          0.009251858265846786,
          0.008934833166297661,
          0.008838918823468055,
          0.008833811769280994,
          0.008676802938448198,
          0.008639457186378785,
          0.008562732345653773,
          0.0085504445644177,
          0.00800051492436092,
          0.007951786588599874,
          0.00770394919851642,
          0.007594582531433086,
          0.007490270320316501,
          0.007378323068166842,
          0.007300753418585349,
          0.006866118774493102,
          0.006856520803269914,
          0.006764532554935912,
          0.006526427290838729,
          0.006374615399092584,
          0.006303981367353796,
          0.006117747486606584,
          0.006025968892825593,
          0.005952941369254973,
          0.005947113440659405,
          0.005592108786928673,
          0.005561275747334735,
          0.005489739079861641,
          0.005412297843858989,
          0.005355085357615348,
          0.0052548038054578885,
          0.005212706902717872,
          0.005204139768416906,
          0.005187268442782332,
          0.005050585454438426,
          0.005030737347521816,
          0.004670935758491134,
          0.004512321558035269,
          0.004504090462875806,
          0.004461817377689785,
          0.00445941490249266,
          0.0044578598520221635,
          0.0044550617409271215,
          0.0043127204383486255,
          0.00431167291451754,
          0.0043109304475548935,
          0.004271021898714496,
          0.004114927569475113,
          0.004020957422295553,
          0.003936885297790943,
          0.003936784229489036,
          0.0038306763269926403,
          0.0037509239575721637,
          0.0037119904316571333,
          0.0034150856943259054,
          0.003395794468064576,
          0.0033670096368282527,
          0.0033335682320174676,
          0.0033292281149785016,
          0.003189537155606912,
          0.003168945359473581,
          0.0031447793404524257,
          0.002868045788692551,
          0.0027370396167877412,
          0.0025620063561619965,
          0.002534473783295706,
          0.002415486320368989,
          0.0023836243758704853,
          0.002318688891554827,
          0.002218789107094282,
          0.002208780483219344,
          0.0021005636299212226,
          0.002047286120340345,
          0.001969402293685008,
          0.0019207832095649747,
          0.0018708653809085655,
          0.0018408235693044965,
          0.0018303002744625885,
          0.0018170143318867453,
          0.0018118224561853708,
          0.001702170454750781,
          0.001305815985387197,
          0.0011790000043631755
         ],
         "y": [
          "1",
          "0",
          "21",
          "9",
          "28",
          "16",
          "34",
          "103",
          "24",
          "17",
          "3",
          "11",
          "81",
          "19",
          "39",
          "35",
          "5",
          "67",
          "86",
          "23",
          "50",
          "72",
          "31",
          "80",
          "44",
          "78",
          "13",
          "27",
          "112",
          "90",
          "83",
          "14",
          "53",
          "63",
          "96",
          "87",
          "91",
          "94",
          "100",
          "84",
          "32",
          "7",
          "59",
          "8",
          "66",
          "40",
          "74",
          "97",
          "77",
          "51",
          "68",
          "82",
          "38",
          "71",
          "25",
          "49",
          "36",
          "109",
          "116",
          "42",
          "43",
          "6",
          "101",
          "22",
          "75",
          "93",
          "64",
          "102",
          "57",
          "60",
          "54",
          "113",
          "61",
          "30",
          "20",
          "106",
          "98",
          "108",
          "10",
          "114",
          "89",
          "69",
          "29",
          "107",
          "115",
          "55",
          "65",
          "58",
          "45",
          "76",
          "47",
          "95",
          "2",
          "88",
          "92",
          "12",
          "79",
          "70",
          "15",
          "48",
          "111",
          "41",
          "4",
          "110",
          "37",
          "85",
          "104",
          "62",
          "105",
          "99",
          "73",
          "52",
          "33",
          "18",
          "56",
          "26",
          "46"
         ]
        }
       ],
       "layout": {
        "autosize": false,
        "height": 1000,
        "width": 1000,
        "xaxis": {
         "tickfont": {
          "color": "black",
          "size": 12
         },
         "title": "Feature Importances"
        },
        "yaxis": {
         "automargin": true
        }
       }
      },
      "text/html": [
       "<div id=\"2907dda1-4bf8-46ea-8cda-9cbc264f66c7\" style=\"height: 1000px; width: 1000px;\" class=\"plotly-graph-div\"></div><script type=\"text/javascript\">require([\"plotly\"], function(Plotly) { window.PLOTLYENV=window.PLOTLYENV || {};window.PLOTLYENV.BASE_URL=\"https://plot.ly\";Plotly.newPlot(\"2907dda1-4bf8-46ea-8cda-9cbc264f66c7\", [{\"marker\": {\"color\": \"rgb(158,202,225)\", \"line\": {\"color\": \"rgb(8,48,107)\", \"width\": 1.5}}, \"opacity\": 0.6, \"orientation\": \"h\", \"text\": [0.056, 0.0471, 0.0352, 0.0327, 0.0273, 0.026, 0.0246, 0.0221, 0.0216, 0.0198, 0.017, 0.017, 0.0169, 0.0164, 0.0141, 0.0134, 0.0128, 0.0128, 0.0127, 0.0125, 0.0125, 0.012, 0.0118, 0.0114, 0.011, 0.0108, 0.0107, 0.0106, 0.0105, 0.0105, 0.01, 0.0096, 0.0096, 0.0094, 0.0093, 0.0089, 0.0088, 0.0088, 0.0087, 0.0086, 0.0086, 0.0086, 0.008, 0.008, 0.0077, 0.0076, 0.0075, 0.0074, 0.0073, 0.0069, 0.0069, 0.0068, 0.0065, 0.0064, 0.0063, 0.0061, 0.006, 0.006, 0.0059, 0.0056, 0.0056, 0.0055, 0.0054, 0.0054, 0.0053, 0.0052, 0.0052, 0.0052, 0.0051, 0.005, 0.0047, 0.0045, 0.0045, 0.0045, 0.0045, 0.0045, 0.0045, 0.0043, 0.0043, 0.0043, 0.0043, 0.0041, 0.004, 0.0039, 0.0039, 0.0038, 0.0038, 0.0037, 0.0034, 0.0034, 0.0034, 0.0033, 0.0033, 0.0032, 0.0032, 0.0031, 0.0029, 0.0027, 0.0026, 0.0025, 0.0024, 0.0024, 0.0023, 0.0022, 0.0022, 0.0021, 0.002, 0.002, 0.0019, 0.0019, 0.0018, 0.0018, 0.0018, 0.0018, 0.0017, 0.0013, 0.0012], \"textposition\": \"outside\", \"x\": [0.05599773551361068, 0.04707742067259253, 0.03524541218288279, 0.032694050436758326, 0.027265273561085702, 0.026003000423438886, 0.024585515198066343, 0.02206443309308939, 0.02156427988671093, 0.019835194495339926, 0.01700732083740192, 0.01696480084004689, 0.01693672183432553, 0.016392442733163, 0.014100254997311965, 0.013369424227137461, 0.012800905209160973, 0.012797513385527842, 0.012705450142362656, 0.012542433430627756, 0.012454004507210913, 0.011977451525496417, 0.011843559898636577, 0.011367504013516664, 0.010987376580159525, 0.010832609889111059, 0.010691584242990245, 0.010568942187641008, 0.010456814097927395, 0.01045170471581776, 0.010035347669715802, 0.009618650370857521, 0.009574956998541405, 0.009376432153204002, 0.009251858265846786, 0.008934833166297661, 0.008838918823468055, 0.008833811769280994, 0.008676802938448198, 0.008639457186378785, 0.008562732345653773, 0.0085504445644177, 0.00800051492436092, 0.007951786588599874, 0.00770394919851642, 0.007594582531433086, 0.007490270320316501, 0.007378323068166842, 0.007300753418585349, 0.006866118774493102, 0.006856520803269914, 0.006764532554935912, 0.006526427290838729, 0.006374615399092584, 0.006303981367353796, 0.006117747486606584, 0.006025968892825593, 0.005952941369254973, 0.005947113440659405, 0.005592108786928673, 0.005561275747334735, 0.005489739079861641, 0.005412297843858989, 0.005355085357615348, 0.0052548038054578885, 0.005212706902717872, 0.005204139768416906, 0.005187268442782332, 0.005050585454438426, 0.005030737347521816, 0.004670935758491134, 0.004512321558035269, 0.004504090462875806, 0.004461817377689785, 0.00445941490249266, 0.0044578598520221635, 0.0044550617409271215, 0.0043127204383486255, 0.00431167291451754, 0.0043109304475548935, 0.004271021898714496, 0.004114927569475113, 0.004020957422295553, 0.003936885297790943, 0.003936784229489036, 0.0038306763269926403, 0.0037509239575721637, 0.0037119904316571333, 0.0034150856943259054, 0.003395794468064576, 0.0033670096368282527, 0.0033335682320174676, 0.0033292281149785016, 0.003189537155606912, 0.003168945359473581, 0.0031447793404524257, 0.002868045788692551, 0.0027370396167877412, 0.0025620063561619965, 0.002534473783295706, 0.002415486320368989, 0.0023836243758704853, 0.002318688891554827, 0.002218789107094282, 0.002208780483219344, 0.0021005636299212226, 0.002047286120340345, 0.001969402293685008, 0.0019207832095649747, 0.0018708653809085655, 0.0018408235693044965, 0.0018303002744625885, 0.0018170143318867453, 0.0018118224561853708, 0.001702170454750781, 0.001305815985387197, 0.0011790000043631755], \"y\": [\"1\", \"0\", \"21\", \"9\", \"28\", \"16\", \"34\", \"103\", \"24\", \"17\", \"3\", \"11\", \"81\", \"19\", \"39\", \"35\", \"5\", \"67\", \"86\", \"23\", \"50\", \"72\", \"31\", \"80\", \"44\", \"78\", \"13\", \"27\", \"112\", \"90\", \"83\", \"14\", \"53\", \"63\", \"96\", \"87\", \"91\", \"94\", \"100\", \"84\", \"32\", \"7\", \"59\", \"8\", \"66\", \"40\", \"74\", \"97\", \"77\", \"51\", \"68\", \"82\", \"38\", \"71\", \"25\", \"49\", \"36\", \"109\", \"116\", \"42\", \"43\", \"6\", \"101\", \"22\", \"75\", \"93\", \"64\", \"102\", \"57\", \"60\", \"54\", \"113\", \"61\", \"30\", \"20\", \"106\", \"98\", \"108\", \"10\", \"114\", \"89\", \"69\", \"29\", \"107\", \"115\", \"55\", \"65\", \"58\", \"45\", \"76\", \"47\", \"95\", \"2\", \"88\", \"92\", \"12\", \"79\", \"70\", \"15\", \"48\", \"111\", \"41\", \"4\", \"110\", \"37\", \"85\", \"104\", \"62\", \"105\", \"99\", \"73\", \"52\", \"33\", \"18\", \"56\", \"26\", \"46\"], \"type\": \"bar\", \"uid\": \"8b1d9ee9-076f-4784-b90b-9897090bcbae\"}], {\"autosize\": false, \"height\": 1000, \"width\": 1000, \"xaxis\": {\"tickfont\": {\"color\": \"black\", \"size\": 12}, \"title\": \"Feature Importances\"}, \"yaxis\": {\"automargin\": true}}, {\"showLink\": true, \"linkText\": \"Export to plot.ly\", \"plotlyServerURL\": \"https://plot.ly\"})});</script>"
      ],
      "text/vnd.plotly.v1+html": [
       "<div id=\"2907dda1-4bf8-46ea-8cda-9cbc264f66c7\" style=\"height: 1000px; width: 1000px;\" class=\"plotly-graph-div\"></div><script type=\"text/javascript\">require([\"plotly\"], function(Plotly) { window.PLOTLYENV=window.PLOTLYENV || {};window.PLOTLYENV.BASE_URL=\"https://plot.ly\";Plotly.newPlot(\"2907dda1-4bf8-46ea-8cda-9cbc264f66c7\", [{\"marker\": {\"color\": \"rgb(158,202,225)\", \"line\": {\"color\": \"rgb(8,48,107)\", \"width\": 1.5}}, \"opacity\": 0.6, \"orientation\": \"h\", \"text\": [0.056, 0.0471, 0.0352, 0.0327, 0.0273, 0.026, 0.0246, 0.0221, 0.0216, 0.0198, 0.017, 0.017, 0.0169, 0.0164, 0.0141, 0.0134, 0.0128, 0.0128, 0.0127, 0.0125, 0.0125, 0.012, 0.0118, 0.0114, 0.011, 0.0108, 0.0107, 0.0106, 0.0105, 0.0105, 0.01, 0.0096, 0.0096, 0.0094, 0.0093, 0.0089, 0.0088, 0.0088, 0.0087, 0.0086, 0.0086, 0.0086, 0.008, 0.008, 0.0077, 0.0076, 0.0075, 0.0074, 0.0073, 0.0069, 0.0069, 0.0068, 0.0065, 0.0064, 0.0063, 0.0061, 0.006, 0.006, 0.0059, 0.0056, 0.0056, 0.0055, 0.0054, 0.0054, 0.0053, 0.0052, 0.0052, 0.0052, 0.0051, 0.005, 0.0047, 0.0045, 0.0045, 0.0045, 0.0045, 0.0045, 0.0045, 0.0043, 0.0043, 0.0043, 0.0043, 0.0041, 0.004, 0.0039, 0.0039, 0.0038, 0.0038, 0.0037, 0.0034, 0.0034, 0.0034, 0.0033, 0.0033, 0.0032, 0.0032, 0.0031, 0.0029, 0.0027, 0.0026, 0.0025, 0.0024, 0.0024, 0.0023, 0.0022, 0.0022, 0.0021, 0.002, 0.002, 0.0019, 0.0019, 0.0018, 0.0018, 0.0018, 0.0018, 0.0017, 0.0013, 0.0012], \"textposition\": \"outside\", \"x\": [0.05599773551361068, 0.04707742067259253, 0.03524541218288279, 0.032694050436758326, 0.027265273561085702, 0.026003000423438886, 0.024585515198066343, 0.02206443309308939, 0.02156427988671093, 0.019835194495339926, 0.01700732083740192, 0.01696480084004689, 0.01693672183432553, 0.016392442733163, 0.014100254997311965, 0.013369424227137461, 0.012800905209160973, 0.012797513385527842, 0.012705450142362656, 0.012542433430627756, 0.012454004507210913, 0.011977451525496417, 0.011843559898636577, 0.011367504013516664, 0.010987376580159525, 0.010832609889111059, 0.010691584242990245, 0.010568942187641008, 0.010456814097927395, 0.01045170471581776, 0.010035347669715802, 0.009618650370857521, 0.009574956998541405, 0.009376432153204002, 0.009251858265846786, 0.008934833166297661, 0.008838918823468055, 0.008833811769280994, 0.008676802938448198, 0.008639457186378785, 0.008562732345653773, 0.0085504445644177, 0.00800051492436092, 0.007951786588599874, 0.00770394919851642, 0.007594582531433086, 0.007490270320316501, 0.007378323068166842, 0.007300753418585349, 0.006866118774493102, 0.006856520803269914, 0.006764532554935912, 0.006526427290838729, 0.006374615399092584, 0.006303981367353796, 0.006117747486606584, 0.006025968892825593, 0.005952941369254973, 0.005947113440659405, 0.005592108786928673, 0.005561275747334735, 0.005489739079861641, 0.005412297843858989, 0.005355085357615348, 0.0052548038054578885, 0.005212706902717872, 0.005204139768416906, 0.005187268442782332, 0.005050585454438426, 0.005030737347521816, 0.004670935758491134, 0.004512321558035269, 0.004504090462875806, 0.004461817377689785, 0.00445941490249266, 0.0044578598520221635, 0.0044550617409271215, 0.0043127204383486255, 0.00431167291451754, 0.0043109304475548935, 0.004271021898714496, 0.004114927569475113, 0.004020957422295553, 0.003936885297790943, 0.003936784229489036, 0.0038306763269926403, 0.0037509239575721637, 0.0037119904316571333, 0.0034150856943259054, 0.003395794468064576, 0.0033670096368282527, 0.0033335682320174676, 0.0033292281149785016, 0.003189537155606912, 0.003168945359473581, 0.0031447793404524257, 0.002868045788692551, 0.0027370396167877412, 0.0025620063561619965, 0.002534473783295706, 0.002415486320368989, 0.0023836243758704853, 0.002318688891554827, 0.002218789107094282, 0.002208780483219344, 0.0021005636299212226, 0.002047286120340345, 0.001969402293685008, 0.0019207832095649747, 0.0018708653809085655, 0.0018408235693044965, 0.0018303002744625885, 0.0018170143318867453, 0.0018118224561853708, 0.001702170454750781, 0.001305815985387197, 0.0011790000043631755], \"y\": [\"1\", \"0\", \"21\", \"9\", \"28\", \"16\", \"34\", \"103\", \"24\", \"17\", \"3\", \"11\", \"81\", \"19\", \"39\", \"35\", \"5\", \"67\", \"86\", \"23\", \"50\", \"72\", \"31\", \"80\", \"44\", \"78\", \"13\", \"27\", \"112\", \"90\", \"83\", \"14\", \"53\", \"63\", \"96\", \"87\", \"91\", \"94\", \"100\", \"84\", \"32\", \"7\", \"59\", \"8\", \"66\", \"40\", \"74\", \"97\", \"77\", \"51\", \"68\", \"82\", \"38\", \"71\", \"25\", \"49\", \"36\", \"109\", \"116\", \"42\", \"43\", \"6\", \"101\", \"22\", \"75\", \"93\", \"64\", \"102\", \"57\", \"60\", \"54\", \"113\", \"61\", \"30\", \"20\", \"106\", \"98\", \"108\", \"10\", \"114\", \"89\", \"69\", \"29\", \"107\", \"115\", \"55\", \"65\", \"58\", \"45\", \"76\", \"47\", \"95\", \"2\", \"88\", \"92\", \"12\", \"79\", \"70\", \"15\", \"48\", \"111\", \"41\", \"4\", \"110\", \"37\", \"85\", \"104\", \"62\", \"105\", \"99\", \"73\", \"52\", \"33\", \"18\", \"56\", \"26\", \"46\"], \"type\": \"bar\", \"uid\": \"8b1d9ee9-076f-4784-b90b-9897090bcbae\"}], {\"autosize\": false, \"height\": 1000, \"width\": 1000, \"xaxis\": {\"tickfont\": {\"color\": \"black\", \"size\": 12}, \"title\": \"Feature Importances\"}, \"yaxis\": {\"automargin\": true}}, {\"showLink\": true, \"linkText\": \"Export to plot.ly\", \"plotlyServerURL\": \"https://plot.ly\"})});</script>"
      ]
     },
     "metadata": {},
     "output_type": "display_data"
    },
    {
     "name": "stdout",
     "output_type": "stream",
     "text": [
      "\n",
      "\n",
      "\u001b[1mBagging Classifier\u001b[0m\n",
      "Accuracy of the model for training data is: 0.919419910588\n",
      "Confusion Matrix for training data is:\n"
     ]
    },
    {
     "data": {
      "text/plain": [
       "Predicted  False  True  __all__\n",
       "Actual                         \n",
       "False      29377  2476    31853\n",
       "True         480  4351     4831\n",
       "__all__    29857  6827    36684"
      ]
     },
     "metadata": {},
     "output_type": "display_data"
    },
    {
     "name": "stdout",
     "output_type": "stream",
     "text": [
      "Accuracy of the model for test data is: 0.909289140863\n",
      "Confusion Matrix for test data is:\n"
     ]
    },
    {
     "data": {
      "text/plain": [
       "Predicted  False  True  __all__\n",
       "Actual                         \n",
       "False       7327   655     7982\n",
       "True         177  1013     1190\n",
       "__all__     7504  1668     9172"
      ]
     },
     "metadata": {},
     "output_type": "display_data"
    },
    {
     "name": "stdout",
     "output_type": "stream",
     "text": [
      "\n",
      "\n",
      "\u001b[1mNeural Network-1\u001b[0m\n",
      "The accuracy of the model on training data is: 0.910287863919\n"
     ]
    },
    {
     "data": {
      "text/plain": [
       "Predicted  False  True  __all__\n",
       "Actual                         \n",
       "False      29270  2583    31853\n",
       "True         708  4123     4831\n",
       "__all__    29978  6706    36684"
      ]
     },
     "metadata": {},
     "output_type": "display_data"
    },
    {
     "name": "stdout",
     "output_type": "stream",
     "text": [
      "The accuracy of the model on test data is: 0.905364151766\n"
     ]
    },
    {
     "data": {
      "text/plain": [
       "Predicted  False  True  __all__\n",
       "Actual                         \n",
       "False       7327   655     7982\n",
       "True         213   977     1190\n",
       "__all__     7540  1632     9172"
      ]
     },
     "metadata": {},
     "output_type": "display_data"
    },
    {
     "name": "stdout",
     "output_type": "stream",
     "text": [
      "\n",
      "\n"
     ]
    }
   ],
   "source": [
    "feat_imp=[None]*4\n",
    "j=0\n",
    "for i in range(0,8):\n",
    "    if i>=2 and i<=5:\n",
    "        model,cm_train,cm_test,acc_train,acc_test,roc_auc,feat_imp[j],mcc=f[i](X_train,Y_train,X_test,Y_test,np.arange(0,117).astype(str))\n",
    "        j=j+1\n",
    "    else:\n",
    "        model,cm_train,cm_test,acc_train,acc_test,roc_auc,mcc=f[i](X_train,Y_train,X_test,Y_test)\n",
    "    table_80_70_train.loc[i]=   ([acc_train,cm_train.TP,cm_train.TN,cm_train.FP,cm_train.FN,cm_train.FPR,cm_train.FNR])\n",
    "    table_80_70_test.loc[i] =   ([acc_test ,cm_test.TP, cm_test.TN, cm_test.FP, cm_test.FN, cm_test.FPR, cm_test.FNR,roc_auc,mcc])\n",
    "    print(\"\\n\")"
   ]
  },
  {
   "cell_type": "markdown",
   "metadata": {},
   "source": [
    "### <a id='5.A' style=\"text-decoration : none; color : #000000;\"> A. Results</a>"
   ]
  },
  {
   "cell_type": "code",
   "execution_count": 32,
   "metadata": {},
   "outputs": [
    {
     "data": {
      "application/vnd.plotly.v1+json": {
       "config": {
        "linkText": "Export to plot.ly",
        "plotlyServerURL": "https://plot.ly",
        "showLink": true
       },
       "data": [
        {
         "mode": "lines",
         "name": "KNN_model",
         "type": "scatter",
         "uid": "008b7051-9567-4623-b02a-c051b2a992eb",
         "x": [
          "accuracy",
          "FPR",
          "FNR",
          "auc"
         ],
         "y": [
          0.9092891408634975,
          0.08155850663993987,
          0.15210084033613444,
          0.8831703265119628
         ]
        },
        {
         "mode": "lines+markers",
         "name": "Logistic Regression",
         "type": "scatter",
         "uid": "15e343c4-f734-49c3-b96d-01bd50541b34",
         "x": [
          "accuracy",
          "FPR",
          "FNR",
          "auc"
         ],
         "y": [
          0.8981683384212822,
          0.0845652718616888,
          0.21764705882352942,
          0.8488938346573908
         ]
        },
        {
         "marker": {
          "symbol": "x"
         },
         "mode": "lines+markers",
         "name": "Random Forest",
         "type": "scatter",
         "uid": "d3cbd50d-f776-4a01-b764-63597acc32f5",
         "x": [
          "accuracy",
          "FPR",
          "FNR",
          "auc"
         ],
         "y": [
          0.9087440034888792,
          0.08306188925081433,
          0.146218487394958,
          0.8853598116771138
         ]
        },
        {
         "mode": "lines",
         "name": "Ada Boost",
         "type": "scatter",
         "uid": "90080ea9-e889-4413-a5ba-cf7f60be0b36",
         "x": [
          "accuracy",
          "FPR",
          "FNR",
          "auc"
         ],
         "y": [
          0.9030745747928478,
          0.08043096968178401,
          0.20756302521008405,
          0.8560030025540659
         ]
        },
        {
         "mode": "lines+markers",
         "name": "GradientBoosting",
         "type": "scatter",
         "uid": "6106fec6-5b9f-4246-b1b9-f186362334e4",
         "x": [
          "accuracy",
          "FPR",
          "FNR",
          "auc"
         ],
         "y": [
          0.9081988661142608,
          0.08030568779754448,
          0.1689075630252101,
          0.8753933745886229
         ]
        },
        {
         "marker": {
          "symbol": "x"
         },
         "mode": "lines+markers",
         "name": "ExtraTree Classifier",
         "type": "scatter",
         "uid": "5f5bad55-81a2-4ec6-8d24-c244dab2db4b",
         "x": [
          "accuracy",
          "FPR",
          "FNR",
          "auc"
         ],
         "y": [
          0.9088530309638029,
          0.0829366073665748,
          0.146218487394958,
          0.8854224526192336
         ]
        },
        {
         "marker": {
          "symbol": "x"
         },
         "mode": "lines+markers",
         "name": "Bagging",
         "type": "scatter",
         "uid": "d947d519-1983-4551-beb8-705af6cffe0b",
         "x": [
          "accuracy",
          "FPR",
          "FNR",
          "auc"
         ],
         "y": [
          0.9092891408634975,
          0.08205963417689802,
          0.14873949579831933,
          0.8846004350123914
         ]
        },
        {
         "marker": {
          "symbol": "x"
         },
         "mode": "lines+markers",
         "name": "Neural Network",
         "type": "scatter",
         "uid": "fb94314f-6d72-4053-a4f5-d7504f685d7e",
         "x": [
          "accuracy",
          "FPR",
          "FNR",
          "auc"
         ],
         "y": [
          0.9053641517662451,
          0.08205963417689802,
          0.17899159663865546,
          0.8846004350123914
         ]
        }
       ],
       "layout": {
        "title": "Result comparision for Features selected in Section 1",
        "yaxis": {
         "dtick": 0.05,
         "tick0": 0
        }
       }
      },
      "text/html": [
       "<div id=\"fef47550-af79-40c3-a48c-1621f4aab4b6\" style=\"height: 525px; width: 100%;\" class=\"plotly-graph-div\"></div><script type=\"text/javascript\">require([\"plotly\"], function(Plotly) { window.PLOTLYENV=window.PLOTLYENV || {};window.PLOTLYENV.BASE_URL=\"https://plot.ly\";Plotly.newPlot(\"fef47550-af79-40c3-a48c-1621f4aab4b6\", [{\"mode\": \"lines\", \"name\": \"KNN_model\", \"x\": [\"accuracy\", \"FPR\", \"FNR\", \"auc\"], \"y\": [0.9092891408634975, 0.08155850663993987, 0.15210084033613444, 0.8831703265119628], \"type\": \"scatter\", \"uid\": \"008b7051-9567-4623-b02a-c051b2a992eb\"}, {\"mode\": \"lines+markers\", \"name\": \"Logistic Regression\", \"x\": [\"accuracy\", \"FPR\", \"FNR\", \"auc\"], \"y\": [0.8981683384212822, 0.0845652718616888, 0.21764705882352942, 0.8488938346573908], \"type\": \"scatter\", \"uid\": \"15e343c4-f734-49c3-b96d-01bd50541b34\"}, {\"marker\": {\"symbol\": \"x\"}, \"mode\": \"lines+markers\", \"name\": \"Random Forest\", \"x\": [\"accuracy\", \"FPR\", \"FNR\", \"auc\"], \"y\": [0.9087440034888792, 0.08306188925081433, 0.146218487394958, 0.8853598116771138], \"type\": \"scatter\", \"uid\": \"d3cbd50d-f776-4a01-b764-63597acc32f5\"}, {\"mode\": \"lines\", \"name\": \"Ada Boost\", \"x\": [\"accuracy\", \"FPR\", \"FNR\", \"auc\"], \"y\": [0.9030745747928478, 0.08043096968178401, 0.20756302521008405, 0.8560030025540659], \"type\": \"scatter\", \"uid\": \"90080ea9-e889-4413-a5ba-cf7f60be0b36\"}, {\"mode\": \"lines+markers\", \"name\": \"GradientBoosting\", \"x\": [\"accuracy\", \"FPR\", \"FNR\", \"auc\"], \"y\": [0.9081988661142608, 0.08030568779754448, 0.1689075630252101, 0.8753933745886229], \"type\": \"scatter\", \"uid\": \"6106fec6-5b9f-4246-b1b9-f186362334e4\"}, {\"marker\": {\"symbol\": \"x\"}, \"mode\": \"lines+markers\", \"name\": \"ExtraTree Classifier\", \"x\": [\"accuracy\", \"FPR\", \"FNR\", \"auc\"], \"y\": [0.9088530309638029, 0.0829366073665748, 0.146218487394958, 0.8854224526192336], \"type\": \"scatter\", \"uid\": \"5f5bad55-81a2-4ec6-8d24-c244dab2db4b\"}, {\"marker\": {\"symbol\": \"x\"}, \"mode\": \"lines+markers\", \"name\": \"Bagging\", \"x\": [\"accuracy\", \"FPR\", \"FNR\", \"auc\"], \"y\": [0.9092891408634975, 0.08205963417689802, 0.14873949579831933, 0.8846004350123914], \"type\": \"scatter\", \"uid\": \"d947d519-1983-4551-beb8-705af6cffe0b\"}, {\"marker\": {\"symbol\": \"x\"}, \"mode\": \"lines+markers\", \"name\": \"Neural Network\", \"x\": [\"accuracy\", \"FPR\", \"FNR\", \"auc\"], \"y\": [0.9053641517662451, 0.08205963417689802, 0.17899159663865546, 0.8846004350123914], \"type\": \"scatter\", \"uid\": \"fb94314f-6d72-4053-a4f5-d7504f685d7e\"}], {\"title\": \"Result comparision for Features selected in Section 1\", \"yaxis\": {\"dtick\": 0.05, \"tick0\": 0}}, {\"showLink\": true, \"linkText\": \"Export to plot.ly\", \"plotlyServerURL\": \"https://plot.ly\"})});</script><script type=\"text/javascript\">window.addEventListener(\"resize\", function(){window._Plotly.Plots.resize(document.getElementById(\"fef47550-af79-40c3-a48c-1621f4aab4b6\"));});</script>"
      ],
      "text/vnd.plotly.v1+html": [
       "<div id=\"fef47550-af79-40c3-a48c-1621f4aab4b6\" style=\"height: 525px; width: 100%;\" class=\"plotly-graph-div\"></div><script type=\"text/javascript\">require([\"plotly\"], function(Plotly) { window.PLOTLYENV=window.PLOTLYENV || {};window.PLOTLYENV.BASE_URL=\"https://plot.ly\";Plotly.newPlot(\"fef47550-af79-40c3-a48c-1621f4aab4b6\", [{\"mode\": \"lines\", \"name\": \"KNN_model\", \"x\": [\"accuracy\", \"FPR\", \"FNR\", \"auc\"], \"y\": [0.9092891408634975, 0.08155850663993987, 0.15210084033613444, 0.8831703265119628], \"type\": \"scatter\", \"uid\": \"008b7051-9567-4623-b02a-c051b2a992eb\"}, {\"mode\": \"lines+markers\", \"name\": \"Logistic Regression\", \"x\": [\"accuracy\", \"FPR\", \"FNR\", \"auc\"], \"y\": [0.8981683384212822, 0.0845652718616888, 0.21764705882352942, 0.8488938346573908], \"type\": \"scatter\", \"uid\": \"15e343c4-f734-49c3-b96d-01bd50541b34\"}, {\"marker\": {\"symbol\": \"x\"}, \"mode\": \"lines+markers\", \"name\": \"Random Forest\", \"x\": [\"accuracy\", \"FPR\", \"FNR\", \"auc\"], \"y\": [0.9087440034888792, 0.08306188925081433, 0.146218487394958, 0.8853598116771138], \"type\": \"scatter\", \"uid\": \"d3cbd50d-f776-4a01-b764-63597acc32f5\"}, {\"mode\": \"lines\", \"name\": \"Ada Boost\", \"x\": [\"accuracy\", \"FPR\", \"FNR\", \"auc\"], \"y\": [0.9030745747928478, 0.08043096968178401, 0.20756302521008405, 0.8560030025540659], \"type\": \"scatter\", \"uid\": \"90080ea9-e889-4413-a5ba-cf7f60be0b36\"}, {\"mode\": \"lines+markers\", \"name\": \"GradientBoosting\", \"x\": [\"accuracy\", \"FPR\", \"FNR\", \"auc\"], \"y\": [0.9081988661142608, 0.08030568779754448, 0.1689075630252101, 0.8753933745886229], \"type\": \"scatter\", \"uid\": \"6106fec6-5b9f-4246-b1b9-f186362334e4\"}, {\"marker\": {\"symbol\": \"x\"}, \"mode\": \"lines+markers\", \"name\": \"ExtraTree Classifier\", \"x\": [\"accuracy\", \"FPR\", \"FNR\", \"auc\"], \"y\": [0.9088530309638029, 0.0829366073665748, 0.146218487394958, 0.8854224526192336], \"type\": \"scatter\", \"uid\": \"5f5bad55-81a2-4ec6-8d24-c244dab2db4b\"}, {\"marker\": {\"symbol\": \"x\"}, \"mode\": \"lines+markers\", \"name\": \"Bagging\", \"x\": [\"accuracy\", \"FPR\", \"FNR\", \"auc\"], \"y\": [0.9092891408634975, 0.08205963417689802, 0.14873949579831933, 0.8846004350123914], \"type\": \"scatter\", \"uid\": \"d947d519-1983-4551-beb8-705af6cffe0b\"}, {\"marker\": {\"symbol\": \"x\"}, \"mode\": \"lines+markers\", \"name\": \"Neural Network\", \"x\": [\"accuracy\", \"FPR\", \"FNR\", \"auc\"], \"y\": [0.9053641517662451, 0.08205963417689802, 0.17899159663865546, 0.8846004350123914], \"type\": \"scatter\", \"uid\": \"fb94314f-6d72-4053-a4f5-d7504f685d7e\"}], {\"title\": \"Result comparision for Features selected in Section 1\", \"yaxis\": {\"dtick\": 0.05, \"tick0\": 0}}, {\"showLink\": true, \"linkText\": \"Export to plot.ly\", \"plotlyServerURL\": \"https://plot.ly\"})});</script><script type=\"text/javascript\">window.addEventListener(\"resize\", function(){window._Plotly.Plots.resize(document.getElementById(\"fef47550-af79-40c3-a48c-1621f4aab4b6\"));});</script>"
      ]
     },
     "metadata": {},
     "output_type": "display_data"
    }
   ],
   "source": [
    "trace0 = go.Scatter(x=table_80_70_test.iloc[0].index.values[[0,5,6,7]],\n",
    "                    y=table_80_70_test.iloc[0].values[[0,5,6,7]],\n",
    "                    mode = 'lines',\n",
    "                    name = 'KNN_model')\n",
    "\n",
    "trace1 = go.Scatter(x=table_80_70_test.iloc[1].index.values[[0,5,6,7]],\n",
    "                    y=table_80_70_test.iloc[1].values[[0,5,6,7]],\n",
    "                    mode = 'lines+markers',\n",
    "                    name = 'Logistic Regression')\n",
    "\n",
    "trace2 = go.Scatter(x=table_80_70_test.iloc[2].index.values[[0,5,6,7]],\n",
    "                    y=table_80_70_test.iloc[2].values[[0,5,6,7]],\n",
    "                    mode = 'lines+markers',marker=dict(symbol='x'),\n",
    "                    name = 'Random Forest')\n",
    "\n",
    "\n",
    "trace3 = go.Scatter(x=table_80_70_test.iloc[3].index.values[[0,5,6,7]],\n",
    "                    y=table_80_70_test.iloc[3].values[[0,5,6,7]],\n",
    "                    mode = 'lines',\n",
    "                    name = 'Ada Boost')\n",
    "\n",
    "trace4 = go.Scatter(x=table_80_70_test.iloc[4].index.values[[0,5,6,7]],\n",
    "                    y=table_80_70_test.iloc[4].values[[0,5,6,7]],\n",
    "                    mode = 'lines+markers',\n",
    "                    name = 'GradientBoosting')\n",
    "\n",
    "trace5 = go.Scatter(x=table_80_70_test.iloc[5].index.values[[0,5,6,7]],\n",
    "                    y=table_80_70_test.iloc[5].values[[0,5,6,7]],\n",
    "                    mode = 'lines+markers',marker=dict(symbol='x'),\n",
    "                    name = 'ExtraTree Classifier')\n",
    "\n",
    "trace6 = go.Scatter(x=table_80_70_test.iloc[6].index.values[[0,5,6,7]],\n",
    "                    y=table_80_70_test.iloc[6].values[[0,5,6,7]],\n",
    "                    mode = 'lines+markers',marker=dict(symbol='x'),\n",
    "                    name = 'Bagging')\n",
    "\n",
    "trace7 = go.Scatter(x=table_80_70_test.iloc[7].index.values[[0,5,6,7]],\n",
    "                    y=table_80_70_test.iloc[7].values[[0,5,6,7]],\n",
    "                    mode = 'lines+markers',marker=dict(symbol='x'),\n",
    "                    name = 'Neural Network')\n",
    "\n",
    "\n",
    "\n",
    "data = [trace0, trace1, trace2, trace3, trace4, trace5, trace6, trace7]\n",
    "layout = go.Layout(yaxis=dict(tick0=0,dtick=0.05),title='Result comparision for Features selected in Section 1')\n",
    "fig = go.Figure(data=data, layout=layout)\n",
    "\n",
    "iplot(fig, filename='Result')"
   ]
  },
  {
   "cell_type": "code",
   "execution_count": 33,
   "metadata": {},
   "outputs": [
    {
     "name": "stdout",
     "output_type": "stream",
     "text": [
      "Training Results\n"
     ]
    },
    {
     "data": {
      "text/html": [
       "<div>\n",
       "<style scoped>\n",
       "    .dataframe tbody tr th:only-of-type {\n",
       "        vertical-align: middle;\n",
       "    }\n",
       "\n",
       "    .dataframe tbody tr th {\n",
       "        vertical-align: top;\n",
       "    }\n",
       "\n",
       "    .dataframe thead th {\n",
       "        text-align: right;\n",
       "    }\n",
       "</style>\n",
       "<table border=\"1\" class=\"dataframe\">\n",
       "  <thead>\n",
       "    <tr style=\"text-align: right;\">\n",
       "      <th></th>\n",
       "      <th>accuracy</th>\n",
       "      <th>TP</th>\n",
       "      <th>TN</th>\n",
       "      <th>FP</th>\n",
       "      <th>FN</th>\n",
       "      <th>FPR</th>\n",
       "      <th>FNR</th>\n",
       "    </tr>\n",
       "    <tr>\n",
       "      <th>index</th>\n",
       "      <th></th>\n",
       "      <th></th>\n",
       "      <th></th>\n",
       "      <th></th>\n",
       "      <th></th>\n",
       "      <th></th>\n",
       "      <th></th>\n",
       "    </tr>\n",
       "  </thead>\n",
       "  <tbody>\n",
       "    <tr>\n",
       "      <th>KNeighborsClassifier</th>\n",
       "      <td>0.912687</td>\n",
       "      <td>4151.0</td>\n",
       "      <td>29330.0</td>\n",
       "      <td>2523.0</td>\n",
       "      <td>680.0</td>\n",
       "      <td>0.079208</td>\n",
       "      <td>0.140758</td>\n",
       "    </tr>\n",
       "    <tr>\n",
       "      <th>LogisticRegression</th>\n",
       "      <td>0.900174</td>\n",
       "      <td>3879.0</td>\n",
       "      <td>29143.0</td>\n",
       "      <td>2710.0</td>\n",
       "      <td>952.0</td>\n",
       "      <td>0.085078</td>\n",
       "      <td>0.197061</td>\n",
       "    </tr>\n",
       "    <tr>\n",
       "      <th>RandomForestClassifier</th>\n",
       "      <td>0.919502</td>\n",
       "      <td>4354.0</td>\n",
       "      <td>29377.0</td>\n",
       "      <td>2476.0</td>\n",
       "      <td>477.0</td>\n",
       "      <td>0.077732</td>\n",
       "      <td>0.098737</td>\n",
       "    </tr>\n",
       "    <tr>\n",
       "      <th>AdaBoostClassifier</th>\n",
       "      <td>0.905054</td>\n",
       "      <td>3912.0</td>\n",
       "      <td>29289.0</td>\n",
       "      <td>2564.0</td>\n",
       "      <td>919.0</td>\n",
       "      <td>0.080495</td>\n",
       "      <td>0.190230</td>\n",
       "    </tr>\n",
       "    <tr>\n",
       "      <th>GradientBoostingClassifier</th>\n",
       "      <td>0.911651</td>\n",
       "      <td>4115.0</td>\n",
       "      <td>29328.0</td>\n",
       "      <td>2525.0</td>\n",
       "      <td>716.0</td>\n",
       "      <td>0.079270</td>\n",
       "      <td>0.148209</td>\n",
       "    </tr>\n",
       "    <tr>\n",
       "      <th>ExtraTreeClassifier</th>\n",
       "      <td>0.921056</td>\n",
       "      <td>4389.0</td>\n",
       "      <td>29399.0</td>\n",
       "      <td>2454.0</td>\n",
       "      <td>442.0</td>\n",
       "      <td>0.077041</td>\n",
       "      <td>0.091492</td>\n",
       "    </tr>\n",
       "    <tr>\n",
       "      <th>BaggingClassifier</th>\n",
       "      <td>0.919420</td>\n",
       "      <td>4351.0</td>\n",
       "      <td>29377.0</td>\n",
       "      <td>2476.0</td>\n",
       "      <td>480.0</td>\n",
       "      <td>0.077732</td>\n",
       "      <td>0.099358</td>\n",
       "    </tr>\n",
       "    <tr>\n",
       "      <th>Neural Network-1</th>\n",
       "      <td>0.910288</td>\n",
       "      <td>4123.0</td>\n",
       "      <td>29270.0</td>\n",
       "      <td>2583.0</td>\n",
       "      <td>708.0</td>\n",
       "      <td>0.081091</td>\n",
       "      <td>0.146554</td>\n",
       "    </tr>\n",
       "  </tbody>\n",
       "</table>\n",
       "</div>"
      ],
      "text/plain": [
       "                            accuracy      TP       TN      FP     FN  \\\n",
       "index                                                                  \n",
       "KNeighborsClassifier        0.912687  4151.0  29330.0  2523.0  680.0   \n",
       "LogisticRegression          0.900174  3879.0  29143.0  2710.0  952.0   \n",
       "RandomForestClassifier      0.919502  4354.0  29377.0  2476.0  477.0   \n",
       "AdaBoostClassifier          0.905054  3912.0  29289.0  2564.0  919.0   \n",
       "GradientBoostingClassifier  0.911651  4115.0  29328.0  2525.0  716.0   \n",
       "ExtraTreeClassifier         0.921056  4389.0  29399.0  2454.0  442.0   \n",
       "BaggingClassifier           0.919420  4351.0  29377.0  2476.0  480.0   \n",
       "Neural Network-1            0.910288  4123.0  29270.0  2583.0  708.0   \n",
       "\n",
       "                                 FPR       FNR  \n",
       "index                                           \n",
       "KNeighborsClassifier        0.079208  0.140758  \n",
       "LogisticRegression          0.085078  0.197061  \n",
       "RandomForestClassifier      0.077732  0.098737  \n",
       "AdaBoostClassifier          0.080495  0.190230  \n",
       "GradientBoostingClassifier  0.079270  0.148209  \n",
       "ExtraTreeClassifier         0.077041  0.091492  \n",
       "BaggingClassifier           0.077732  0.099358  \n",
       "Neural Network-1            0.081091  0.146554  "
      ]
     },
     "metadata": {},
     "output_type": "display_data"
    },
    {
     "name": "stdout",
     "output_type": "stream",
     "text": [
      "Test Results\n"
     ]
    },
    {
     "data": {
      "text/html": [
       "<div>\n",
       "<style scoped>\n",
       "    .dataframe tbody tr th:only-of-type {\n",
       "        vertical-align: middle;\n",
       "    }\n",
       "\n",
       "    .dataframe tbody tr th {\n",
       "        vertical-align: top;\n",
       "    }\n",
       "\n",
       "    .dataframe thead th {\n",
       "        text-align: right;\n",
       "    }\n",
       "</style>\n",
       "<table border=\"1\" class=\"dataframe\">\n",
       "  <thead>\n",
       "    <tr style=\"text-align: right;\">\n",
       "      <th></th>\n",
       "      <th>accuracy</th>\n",
       "      <th>TP</th>\n",
       "      <th>TN</th>\n",
       "      <th>FP</th>\n",
       "      <th>FN</th>\n",
       "      <th>FPR</th>\n",
       "      <th>FNR</th>\n",
       "      <th>auc</th>\n",
       "      <th>mcc</th>\n",
       "    </tr>\n",
       "    <tr>\n",
       "      <th>index</th>\n",
       "      <th></th>\n",
       "      <th></th>\n",
       "      <th></th>\n",
       "      <th></th>\n",
       "      <th></th>\n",
       "      <th></th>\n",
       "      <th></th>\n",
       "      <th></th>\n",
       "      <th></th>\n",
       "    </tr>\n",
       "  </thead>\n",
       "  <tbody>\n",
       "    <tr>\n",
       "      <th>KNeighborsClassifier</th>\n",
       "      <td>0.909289</td>\n",
       "      <td>1009.0</td>\n",
       "      <td>7331.0</td>\n",
       "      <td>651.0</td>\n",
       "      <td>181.0</td>\n",
       "      <td>0.081559</td>\n",
       "      <td>0.152101</td>\n",
       "      <td>0.883170</td>\n",
       "      <td>0.668836</td>\n",
       "    </tr>\n",
       "    <tr>\n",
       "      <th>LogisticRegression</th>\n",
       "      <td>0.898168</td>\n",
       "      <td>931.0</td>\n",
       "      <td>7307.0</td>\n",
       "      <td>675.0</td>\n",
       "      <td>259.0</td>\n",
       "      <td>0.084565</td>\n",
       "      <td>0.217647</td>\n",
       "      <td>0.848894</td>\n",
       "      <td>0.616945</td>\n",
       "    </tr>\n",
       "    <tr>\n",
       "      <th>RandomForestClassifier</th>\n",
       "      <td>0.908744</td>\n",
       "      <td>1016.0</td>\n",
       "      <td>7319.0</td>\n",
       "      <td>663.0</td>\n",
       "      <td>174.0</td>\n",
       "      <td>0.083062</td>\n",
       "      <td>0.146218</td>\n",
       "      <td>0.885360</td>\n",
       "      <td>0.669688</td>\n",
       "    </tr>\n",
       "    <tr>\n",
       "      <th>AdaBoostClassifier</th>\n",
       "      <td>0.903075</td>\n",
       "      <td>943.0</td>\n",
       "      <td>7340.0</td>\n",
       "      <td>642.0</td>\n",
       "      <td>247.0</td>\n",
       "      <td>0.080431</td>\n",
       "      <td>0.207563</td>\n",
       "      <td>0.856003</td>\n",
       "      <td>0.632795</td>\n",
       "    </tr>\n",
       "    <tr>\n",
       "      <th>GradientBoostingClassifier</th>\n",
       "      <td>0.908199</td>\n",
       "      <td>989.0</td>\n",
       "      <td>7341.0</td>\n",
       "      <td>641.0</td>\n",
       "      <td>201.0</td>\n",
       "      <td>0.080306</td>\n",
       "      <td>0.168908</td>\n",
       "      <td>0.875393</td>\n",
       "      <td>0.659947</td>\n",
       "    </tr>\n",
       "    <tr>\n",
       "      <th>ExtraTreeClassifier</th>\n",
       "      <td>0.908853</td>\n",
       "      <td>1016.0</td>\n",
       "      <td>7320.0</td>\n",
       "      <td>662.0</td>\n",
       "      <td>174.0</td>\n",
       "      <td>0.082937</td>\n",
       "      <td>0.146218</td>\n",
       "      <td>0.885422</td>\n",
       "      <td>0.669952</td>\n",
       "    </tr>\n",
       "    <tr>\n",
       "      <th>BaggingClassifier</th>\n",
       "      <td>0.909289</td>\n",
       "      <td>1013.0</td>\n",
       "      <td>7327.0</td>\n",
       "      <td>655.0</td>\n",
       "      <td>177.0</td>\n",
       "      <td>0.082060</td>\n",
       "      <td>0.148739</td>\n",
       "      <td>0.884600</td>\n",
       "      <td>0.670077</td>\n",
       "    </tr>\n",
       "    <tr>\n",
       "      <th>Neural Network-1</th>\n",
       "      <td>0.905364</td>\n",
       "      <td>977.0</td>\n",
       "      <td>7327.0</td>\n",
       "      <td>655.0</td>\n",
       "      <td>213.0</td>\n",
       "      <td>0.082060</td>\n",
       "      <td>0.178992</td>\n",
       "      <td>0.884600</td>\n",
       "      <td>0.649229</td>\n",
       "    </tr>\n",
       "  </tbody>\n",
       "</table>\n",
       "</div>"
      ],
      "text/plain": [
       "                            accuracy      TP      TN     FP     FN       FPR  \\\n",
       "index                                                                          \n",
       "KNeighborsClassifier        0.909289  1009.0  7331.0  651.0  181.0  0.081559   \n",
       "LogisticRegression          0.898168   931.0  7307.0  675.0  259.0  0.084565   \n",
       "RandomForestClassifier      0.908744  1016.0  7319.0  663.0  174.0  0.083062   \n",
       "AdaBoostClassifier          0.903075   943.0  7340.0  642.0  247.0  0.080431   \n",
       "GradientBoostingClassifier  0.908199   989.0  7341.0  641.0  201.0  0.080306   \n",
       "ExtraTreeClassifier         0.908853  1016.0  7320.0  662.0  174.0  0.082937   \n",
       "BaggingClassifier           0.909289  1013.0  7327.0  655.0  177.0  0.082060   \n",
       "Neural Network-1            0.905364   977.0  7327.0  655.0  213.0  0.082060   \n",
       "\n",
       "                                 FNR       auc       mcc  \n",
       "index                                                     \n",
       "KNeighborsClassifier        0.152101  0.883170  0.668836  \n",
       "LogisticRegression          0.217647  0.848894  0.616945  \n",
       "RandomForestClassifier      0.146218  0.885360  0.669688  \n",
       "AdaBoostClassifier          0.207563  0.856003  0.632795  \n",
       "GradientBoostingClassifier  0.168908  0.875393  0.659947  \n",
       "ExtraTreeClassifier         0.146218  0.885422  0.669952  \n",
       "BaggingClassifier           0.148739  0.884600  0.670077  \n",
       "Neural Network-1            0.178992  0.884600  0.649229  "
      ]
     },
     "metadata": {},
     "output_type": "display_data"
    }
   ],
   "source": [
    "table_80_70_train['index']=ind_columns\n",
    "table_80_70_test['index']=ind_columns\n",
    "\n",
    "\n",
    "table_80_70_test.set_index(['index'],drop=True,inplace=True)\n",
    "table_80_70_train.set_index(['index'],drop=True,inplace=True)\n",
    "\n",
    "print(\"Training Results\")\n",
    "display(table_80_70_train)\n",
    "print(\"Test Results\")\n",
    "display(table_80_70_test)"
   ]
  },
  {
   "cell_type": "code",
   "execution_count": 34,
   "metadata": {},
   "outputs": [
    {
     "data": {
      "text/html": [
       "<script>\n",
       "code_show=true; \n",
       "function code_toggle() {\n",
       " if (code_show){\n",
       " $('div.input').hide();\n",
       " } else {\n",
       " $('div.input').show();\n",
       " }\n",
       " code_show = !code_show\n",
       "} \n",
       "$( document ).ready(code_toggle);\n",
       "</script>\n",
       "To toggle code, click <a href=\"javascript:code_toggle()\">here</a>."
      ],
      "text/plain": [
       "<IPython.core.display.HTML object>"
      ]
     },
     "execution_count": 34,
     "metadata": {},
     "output_type": "execute_result"
    }
   ],
   "source": [
    "### Original Creator : Darshan Bhansali\n",
    "### HTML code to hide the input cells \n",
    "HTML('''<script>\n",
    "code_show=true; \n",
    "function code_toggle() {\n",
    " if (code_show){\n",
    " $('div.input').hide();\n",
    " } else {\n",
    " $('div.input').show();\n",
    " }\n",
    " code_show = !code_show\n",
    "} \n",
    "$( document ).ready(code_toggle);\n",
    "</script>\n",
    "To toggle code, click <a href=\"javascript:code_toggle()\">here</a>.''')"
   ]
  }
 ],
 "metadata": {
  "kernelspec": {
   "display_name": "Python 3",
   "language": "python",
   "name": "python3"
  },
  "language_info": {
   "codemirror_mode": {
    "name": "ipython",
    "version": 3
   },
   "file_extension": ".py",
   "mimetype": "text/x-python",
   "name": "python",
   "nbconvert_exporter": "python",
   "pygments_lexer": "ipython3",
   "version": "3.6.7"
  }
 },
 "nbformat": 4,
 "nbformat_minor": 2
}
