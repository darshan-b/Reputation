{
 "cells": [
  {
   "cell_type": "markdown",
   "metadata": {},
   "source": [
    "***\n",
    "## Table of Contents\n",
    "<br>\n",
    "  <br>\n",
    "    <ol>\n",
    "        <h2><a href='#1' style=\"text-decoration : none; color : #000000;\">1. Initial Models</a></h2>\n",
    "        <ul>\n",
    "            <a href='#1.A' style=\"text-decoration : none; color : #000000;\"><h3>A. Results </h3></a>\n",
    "        </ul>\n",
    "        <ul>\n",
    "            <a href='#1.B' style=\"text-decoration : none; color : #000000;\"><h3>B. Average Feature Importance   </h3></a>\n",
    "        </ul>\n",
    "     </ol>\n",
    "     <br> \n",
    "\n",
    "<ol>\n",
    "        <h2><a href='#2' style=\"text-decoration : none; color : #000000;\">2. Oversampling </a></h2>\n",
    "        <ul>\n",
    "            <a href='#2.A' style=\"text-decoration : none; color : #000000;\"><h3>A. Results </h3></a>\n",
    "        </ul>\n",
    "        <ul>\n",
    "            <a href='#2.B' style=\"text-decoration : none; color : #000000;\"><h3>B. Average Feature Importance   </h3></a>\n",
    "        </ul>\n",
    "     </ol>\n",
    "     <br>\n",
    "     \n",
    " <ol>\n",
    "        <h2><a href='#3' style=\"text-decoration : none; color : #000000;\">3. Undersampling</a></h2>\n",
    "        <ul>\n",
    "            <a href='#3.A' style=\"text-decoration : none; color : #000000;\"><h3>A. Results </h3></a>\n",
    "        </ul>\n",
    "        <ul>\n",
    "            <a href='#3.B' style=\"text-decoration : none; color : #000000;\"><h3>B. Average Feature Importance   </h3></a>\n",
    "        </ul>\n",
    "     </ol>\n",
    "     <br>\n",
    "     \n",
    " <ol>\n",
    "        <h2><a href='#4' style=\"text-decoration : none; color : #000000;\">4.Feature Transformation with feature selection</a></h2>\n",
    "        <ul>\n",
    "            <a href='#4.A' style=\"text-decoration : none; color : #000000;\"><h3>A. Results </h3></a>\n",
    "        </ul>\n",
    "        <ul>\n",
    "            <a href='#4.B' style=\"text-decoration : none; color : #000000;\"><h3>B. Average Feature Importance   </h3></a>\n",
    "        </ul>\n",
    "     </ol>\n",
    "     <br>\n",
    "     \n",
    "     \n",
    " <ol>\n",
    "        <h2><a href='#5' style=\"text-decoration : none; color : #000000;\">5.Feature Transformation with PCA</a></h2>\n",
    "        <ul>\n",
    "            <a href='#5.A' style=\"text-decoration : none; color : #000000;\"><h3>A. Results </h3></a>\n",
    "        </ul>\n",
    "        <ul>\n",
    "            <a href='#5.B' style=\"text-decoration : none; color : #000000;\"><h3>B. Average Feature Importance   </h3></a>\n",
    "        </ul>\n",
    "     </ol>\n",
    "     <br>"
   ]
  },
  {
   "cell_type": "code",
   "execution_count": 1,
   "metadata": {},
   "outputs": [
    {
     "name": "stderr",
     "output_type": "stream",
     "text": [
      "Using TensorFlow backend.\n"
     ]
    },
    {
     "data": {
      "text/html": [
       "<script type=\"text/javascript\">window.PlotlyConfig = {MathJaxConfig: 'local'};</script><script type=\"text/javascript\">if (window.MathJax) {MathJax.Hub.Config({SVG: {font: \"STIX-Web\"}});}</script><script>requirejs.config({paths: { 'plotly': ['https://cdn.plot.ly/plotly-latest.min']},});if(!window._Plotly) {require(['plotly'],function(plotly) {window._Plotly=plotly;});}</script>"
      ],
      "text/vnd.plotly.v1+html": [
       "<script type=\"text/javascript\">window.PlotlyConfig = {MathJaxConfig: 'local'};</script><script type=\"text/javascript\">if (window.MathJax) {MathJax.Hub.Config({SVG: {font: \"STIX-Web\"}});}</script><script>requirejs.config({paths: { 'plotly': ['https://cdn.plot.ly/plotly-latest.min']},});if(!window._Plotly) {require(['plotly'],function(plotly) {window._Plotly=plotly;});}</script>"
      ]
     },
     "metadata": {},
     "output_type": "display_data"
    }
   ],
   "source": [
    "import pandas as pd\n",
    "import numpy as np\n",
    "import os\n",
    "import matplotlib.pyplot as plt\n",
    "import seaborn as sns\n",
    "%matplotlib inline\n",
    "\n",
    "from IPython.display import display,clear_output,HTML\n",
    "import warnings\n",
    "warnings.filterwarnings(\"ignore\")\n",
    "\n",
    "import keras\n",
    "from keras.layers import Dense,Dropout\n",
    "from keras.models import Sequential\n",
    "warnings.simplefilter(\"ignore\", DeprecationWarning)\n",
    "import researchpy as rp\n",
    "\n",
    "%matplotlib inline\n",
    "pd.set_option('display.max_columns', 500)\n",
    "pd.set_option('display.max_rows',305)\n",
    "\n",
    "from sklearn.feature_selection import SelectKBest,chi2,RFE,RFECV,f_regression,SelectFromModel\n",
    "from sklearn.linear_model import LogisticRegression\n",
    "from sklearn.ensemble import ExtraTreesClassifier,RandomForestClassifier,GradientBoostingClassifier,AdaBoostClassifier,BaggingClassifier\n",
    "from sklearn.neighbors import KNeighborsClassifier\n",
    "from sklearn.model_selection import train_test_split,cross_val_score\n",
    "\n",
    "from sklearn.preprocessing import StandardScaler,MinMaxScaler\n",
    "from sklearn import metrics\n",
    "\n",
    "\n",
    "\n",
    "from sklearn.decomposition import PCA\n",
    "from sklearn.metrics import accuracy_score,auc,roc_curve,recall_score,precision_score,matthews_corrcoef\n",
    "\n",
    "from pandas_ml import ConfusionMatrix\n",
    "\n",
    "\n",
    "from imblearn.over_sampling import SMOTE\n",
    "\n",
    "from plotly.offline import download_plotlyjs, init_notebook_mode, plot, iplot\n",
    "init_notebook_mode(connected=True)\n",
    "import plotly.graph_objs as go\n",
    "\n",
    "import featuretools as ft\n",
    "\n",
    "from scipy import stats"
   ]
  },
  {
   "cell_type": "code",
   "execution_count": 2,
   "metadata": {
    "collapsed": true
   },
   "outputs": [],
   "source": [
    "### Function to plot Feature Importance\n",
    "def feat_impt_plot(feat_impt,y_labels,width_s=1000,height_s=1000):\n",
    "    \n",
    "    m=pd.DataFrame(y_labels,feat_impt).reset_index()\n",
    "    m.columns=['Feature_Importance','Features']\n",
    "    m.sort_values(by='Feature_Importance',inplace=True,ascending=False)\n",
    "#     m['Features']=m['Features'].str.replace(\"dom_function_\",\"\")\n",
    "#     m['Features']=m['Features'].str.replace(\"js_function_\",\"\")\n",
    "#     m['Features']=m['Features'].apply(lambda x: str(x).lstrip('.'))\n",
    "#     m['Features']=m['Features'].str.replace(\"(\",\"\")\n",
    "    \n",
    "    data = [go.Bar(x=m.Feature_Importance.values,y=m.Features.values,text=np.round(m.Feature_Importance,4),\n",
    "            textposition = 'outside',\n",
    "            marker=dict(\n",
    "                color='rgb(158,202,225)',\n",
    "                line=dict(\n",
    "                    color='rgb(8,48,107)',\n",
    "                    width=1.5),\n",
    "            ),\n",
    "            opacity=0.6,\n",
    "            orientation='h'\n",
    "        )]\n",
    "    layout = go.Layout(autosize=False,\n",
    "    width=width_s,\n",
    "    height=height_s,\n",
    "    xaxis=dict(title='Feature Importances',\n",
    "        tickfont=dict(\n",
    "            size=12,\n",
    "            color='black'\n",
    "        )),\n",
    "    yaxis=dict(automargin=True))\n",
    "    fig = go.Figure(data=data, layout=layout)\n",
    "    iplot(fig)\n",
    "\n",
    "    \n",
    "def check_cat(data):\n",
    "    cat_var=[]\n",
    "    num_var=[]\n",
    "    for col in data.columns:\n",
    "        if col!='Target':\n",
    "            if len(data[col].value_counts())==2:\n",
    "                cat_var.append(col)\n",
    "            else:\n",
    "                num_var.append(col)\n",
    "    return cat_var,num_var\n",
    "\n",
    "\n",
    "def num_stats(data,columns):\n",
    "    lst=[]\n",
    "    for col in columns:\n",
    "        corr=stats.pointbiserialr(data[col],data.Target)[0]\n",
    "        corr_p=stats.pointbiserialr(data[col],data.Target)[1]\n",
    "        ttest=stats.ttest_ind(data[data.Target==1][col], data[data.Target==0][col], equal_var=False)[0]\n",
    "        ttest_p=stats.ttest_ind(data[data.Target==1][col], data[data.Target==0][col], equal_var=False)[1]\n",
    "        lst.append((corr,corr_p,ttest,ttest_p,col))\n",
    "    stats_data=pd.DataFrame(lst,columns=['Pt. Biserial Corr','Pt. Biserial Corr p-val','ttest','ttest p-val','Feature'])\n",
    "    stats_data.set_index('Feature',drop=True,inplace=True)\n",
    "    stats_data.sort_values(by='ttest',inplace=True)\n",
    "    del lst\n",
    "    return stats_data\n",
    "\n",
    "\n",
    "### Generate statistics for categorical data\n",
    "def cat_stats(data,columns):\n",
    "    lst=[]\n",
    "    for col in columns:\n",
    "        if col!='Target':\n",
    "            table, results = rp.crosstab(data['Target'], data[col], prop= 'col', test= 'chi-square')\n",
    "            x=results['results'].values.tolist()\n",
    "            x.append(col)\n",
    "            lst.append(x)\n",
    "    chi_df=pd.DataFrame(lst,columns=['Pearson Chi-square','p-value','Cramers V','Feature'])\n",
    "    chi_df.set_index('Feature',drop=True,inplace=True)\n",
    "    chi_df.sort_values(by='Cramers V',ascending=False,inplace=True)\n",
    "    del lst\n",
    "    return chi_df"
   ]
  },
  {
   "cell_type": "code",
   "execution_count": 3,
   "metadata": {
    "collapsed": true
   },
   "outputs": [],
   "source": [
    "def model_build(model,X_train,Y_train,X_test,Y_test,tree=False,feat=None):\n",
    "    \n",
    "    y_pred_train=model.predict(X_train)\n",
    "    acc_train=accuracy_score(Y_train,y_pred_train)\n",
    "    \n",
    "    print(\"Accuracy of the model for training data is:\",acc_train)\n",
    "    print(\"Confusion Matrix for training data is:\")\n",
    "    cm_train=ConfusionMatrix(Y_train,y_pred_train)\n",
    "    display(cm_train)\n",
    "    \n",
    "    \n",
    "    y_pred_test=model.predict(X_test)\n",
    "    acc_test=accuracy_score(Y_test,y_pred_test)\n",
    "    print(\"Accuracy of the model for test data is:\",acc_test)\n",
    "    print(\"Confusion Matrix for test data is:\")\n",
    "    cm_test=ConfusionMatrix(Y_test,y_pred_test)\n",
    "    display(cm_test)\n",
    "\n",
    "    fpr, tpr, threshold = roc_curve(Y_test, y_pred_test)\n",
    "    roc_auc =auc(fpr, tpr)\n",
    "    mcc=matthews_corrcoef(Y_test,y_pred_test)\n",
    "    if tree==True:\n",
    "        feat_impt_plot(model.feature_importances_,feat)\n",
    "        return model,cm_train,cm_test,acc_train,acc_test,roc_auc,model.feature_importances_,mcc\n",
    "    \n",
    "    return model,cm_train,cm_test,acc_train,acc_test,roc_auc,mcc\n",
    "\n",
    "def KNN_model(X_train,Y_train,X_test,Y_test):\n",
    "    print('\\033[1m' + 'K-Nearest Neighbors' + '\\033[0m')\n",
    "    knn=KNeighborsClassifier()\n",
    "    knn.fit(X_train,Y_train)\n",
    "\n",
    "    return model_build(knn,X_train,Y_train,X_test,Y_test)\n",
    "\n",
    "def Logistic_model(X_train,Y_train,X_test,Y_test):\n",
    "    print('\\033[1m' + 'Logistic Regression' + '\\033[0m')\n",
    "    log=LogisticRegression()\n",
    "    log.fit(X_train,Y_train)\n",
    "    \n",
    "    return model_build(log,X_train,Y_train,X_test,Y_test)\n",
    "\n",
    "def RandomForest(X_train,Y_train,X_test,Y_test,feat):\n",
    "    print('\\033[1m' + 'RandomForest Classifier' + '\\033[0m')\n",
    "    rf=RandomForestClassifier()\n",
    "    rf.fit(X_train,Y_train)\n",
    "\n",
    "    \n",
    "    return model_build(rf,X_train,Y_train,X_test,Y_test,True,feat)\n",
    "\n",
    "def AdaBoost(X_train,Y_train,X_test,Y_test,feat):\n",
    "    print('\\033[1m' + 'Adaoost Classifier' + '\\033[0m')\n",
    "    ada=AdaBoostClassifier()\n",
    "    ada.fit(X_train,Y_train)\n",
    "    \n",
    "    return model_build(ada,X_train,Y_train,X_test,Y_test,True,feat)\n",
    "\n",
    "def GradientBoosting(X_train,Y_train,X_test,Y_test,feat):\n",
    "    print('\\033[1m' + 'GradientBoosting Classifier' + '\\033[0m')\n",
    "    gbc=GradientBoostingClassifier()\n",
    "    gbc.fit(X_train,Y_train)\n",
    "    \n",
    "    return model_build(gbc,X_train,Y_train,X_test,Y_test,True,feat)\n",
    "\n",
    "def ExtraTree(X_train,Y_train,X_test,Y_test,feat):\n",
    "    print('\\033[1m' + 'ExtraTree Classifier' + '\\033[0m')\n",
    "    ext_tree=ExtraTreesClassifier()\n",
    "    ext_tree.fit(X_train,Y_train)\n",
    "    \n",
    "    return model_build(ext_tree,X_train,Y_train,X_test,Y_test,True,feat)\n",
    "\n",
    "def Bagging(X_train,Y_train,X_test,Y_test):\n",
    "    print('\\033[1m' + 'Bagging Classifier' + '\\033[0m')\n",
    "    bagging=BaggingClassifier()\n",
    "    bagging.fit(X_train,Y_train)\n",
    "    \n",
    "    return model_build(bagging,X_train,Y_train,X_test,Y_test)\n",
    "\n",
    "def DeepLearning1(X_train,Y_train,X_test,Y_test):\n",
    "    print('\\033[1m' + 'Neural Network-1' + '\\033[0m')\n",
    "    np.random.seed(0)\n",
    "    deep_learning=Sequential()\n",
    "    deep_learning.add(Dense(units=64,activation='relu',use_bias=True,kernel_initializer='uniform',input_dim=X_train.shape[1]))\n",
    "    deep_learning.add(Dense(units=128,activation='relu',use_bias=True,kernel_initializer='uniform'))\n",
    "    deep_learning.add(Dense(units=1,activation='sigmoid',use_bias=True,kernel_initializer='uniform'))\n",
    "    deep_learning.compile(optimizer='adam',loss='binary_crossentropy',metrics=['accuracy'])\n",
    "    deep_learning.fit(X_train,Y_train,batch_size=20,epochs=80,verbose=False)\n",
    "    acc_train=deep_learning.evaluate(X_train,Y_train,verbose=False)[1]\n",
    "    print(\"The accuracy of the model on training data is:\",acc_train)\n",
    "    cm_train=ConfusionMatrix(Y_train,deep_learning.predict_classes(X_train,batch_size=1,verbose=False).reshape(1,len(X_train))[0])\n",
    "    cm_test=ConfusionMatrix(Y_test,deep_learning.predict_classes(X_test,batch_size=1,verbose=False).reshape(1,len(X_test))[0])\n",
    "    display(cm_train)\n",
    "    acc_test=accuracy_score(Y_test,deep_learning.predict_classes(X_test,batch_size=1,verbose=False))\n",
    "    print(\"The accuracy of the model on test data is:\",acc_test)\n",
    "    display(cm_test)\n",
    "    mcc=matthews_corrcoef(Y_test,deep_learning.predict_classes(X_test,batch_size=1,verbose=False))\n",
    "    return  deep_learning,cm_train,cm_test,acc_train,acc_test,roc_auc,mcc"
   ]
  },
  {
   "cell_type": "code",
   "execution_count": 5,
   "metadata": {
    "collapsed": true
   },
   "outputs": [],
   "source": [
    "columns=['http_header_cache-control_set_max-age',\n",
    " 'http_header_cache-control_set_must-revalidate',\n",
    " 'http_header_cache-control_set_no-cache',\n",
    " 'http_header_cache-control_set_no-store',\n",
    " 'http_header_cache-control_set_private',\n",
    " 'http_header_cache-control_set_public',\n",
    " 'http_header_content-encoding_gzip',\n",
    " 'http_header_content-language_text/html',\n",
    " 'http_header_content-length',\n",
    " 'http_header_server_apache',\n",
    " 'http_header_server_nginx',\n",
    " 'http_header_strict-transport-security_max-age',\n",
    " 'http_header_x-cintent-type-options_nosniff',\n",
    " 'http_header_x-xss-enabled','Target','domain']"
   ]
  },
  {
   "cell_type": "code",
   "execution_count": 6,
   "metadata": {},
   "outputs": [
    {
     "name": "stdout",
     "output_type": "stream",
     "text": [
      "Shape of our dataset: (45856, 15)\n"
     ]
    }
   ],
   "source": [
    "df=pd.read_csv('Modified_http.csv',usecols=columns)\n",
    "\n",
    "df.rename(columns={'Malicious':'Target'},inplace=True)\n",
    "df.fillna(value=0,inplace=True)\n",
    "\n",
    "cookies=[columns for columns in df.columns if 'number' in columns]\n",
    "df.drop(cookies,axis=1,inplace=True)\n",
    "\n",
    "df=df[df['domain']!=0]\n",
    "\n",
    "df.sort_values(by='Target',inplace=True,ascending=False)\n",
    "df.drop_duplicates(['domain'], keep='first',inplace=True)\n",
    "\n",
    "df=df.sample(frac=1,random_state=0)\n",
    "df.set_index(['domain'],drop=True,inplace=True)\n",
    "print(\"Shape of our dataset:\",df.shape)"
   ]
  },
  {
   "cell_type": "code",
   "execution_count": 7,
   "metadata": {},
   "outputs": [
    {
     "data": {
      "text/plain": [
       "0    39835\n",
       "1     6021\n",
       "Name: Target, dtype: int64"
      ]
     },
     "execution_count": 7,
     "metadata": {},
     "output_type": "execute_result"
    }
   ],
   "source": [
    "df.Target.value_counts()"
   ]
  },
  {
   "cell_type": "code",
   "execution_count": 8,
   "metadata": {
    "collapsed": true
   },
   "outputs": [],
   "source": [
    "train=df.iloc[:36684,:]\n",
    "train_X=train.iloc[:,train.columns!='Target'].values\n",
    "train_Y=train.Target.values\n",
    "\n",
    "scaler=StandardScaler()\n",
    "scaled_X_train=scaler.fit_transform(train_X)"
   ]
  },
  {
   "cell_type": "code",
   "execution_count": 9,
   "metadata": {
    "collapsed": true
   },
   "outputs": [],
   "source": [
    "test=df.iloc[36684:,:]\n",
    "test_X=test.iloc[:,test.columns!='Target'].values\n",
    "test_Y=test.Target.values\n",
    "scaled_X_test=scaler.transform(test_X)"
   ]
  },
  {
   "cell_type": "markdown",
   "metadata": {},
   "source": [
    "### <a id='1' style=\"text-decoration : none; color : #000000;\"> 2. Initial Models</a>"
   ]
  },
  {
   "cell_type": "code",
   "execution_count": 10,
   "metadata": {
    "collapsed": true
   },
   "outputs": [],
   "source": [
    "ind_columns=['KNeighborsClassifier','LogisticRegression','RandomForestClassifier','AdaBoostClassifier',\n",
    "             'GradientBoostingClassifier','ExtraTreeClassifier','BaggingClassifier','Neural Network-1']\n",
    "\n",
    "f=[KNN_model,Logistic_model,RandomForest,AdaBoost,GradientBoosting, ExtraTree,Bagging,DeepLearning1]\n",
    "\n",
    "## Table to store training and test measures\n",
    "table_80_50_train=pd.DataFrame(columns=['accuracy','TP','TN','FP','FN','FPR','FNR'])\n",
    "table_80_50_test=pd.DataFrame(columns=['accuracy','TP','TN','FP','FN','FPR','FNR','auc','MCC'])"
   ]
  },
  {
   "cell_type": "code",
   "execution_count": 11,
   "metadata": {
    "scrolled": false
   },
   "outputs": [
    {
     "name": "stdout",
     "output_type": "stream",
     "text": [
      "\u001b[1mK-Nearest Neighbors\u001b[0m\n",
      "Accuracy of the model for training data is: 0.900610620434\n",
      "Confusion Matrix for training data is:\n"
     ]
    },
    {
     "data": {
      "text/plain": [
       "Predicted  False  True  __all__\n",
       "Actual                         \n",
       "False      28849  3004    31853\n",
       "True         642  4189     4831\n",
       "__all__    29491  7193    36684"
      ]
     },
     "metadata": {},
     "output_type": "display_data"
    },
    {
     "name": "stdout",
     "output_type": "stream",
     "text": [
      "Accuracy of the model for test data is: 0.902093327519\n",
      "Confusion Matrix for test data is:\n"
     ]
    },
    {
     "data": {
      "text/plain": [
       "Predicted  False  True  __all__\n",
       "Actual                         \n",
       "False       7244   738     7982\n",
       "True         160  1030     1190\n",
       "__all__     7404  1768     9172"
      ]
     },
     "metadata": {},
     "output_type": "display_data"
    },
    {
     "name": "stdout",
     "output_type": "stream",
     "text": [
      "\n",
      "\n",
      "\u001b[1mLogistic Regression\u001b[0m\n",
      "Accuracy of the model for training data is: 0.872860102497\n",
      "Confusion Matrix for training data is:\n"
     ]
    },
    {
     "data": {
      "text/plain": [
       "Predicted  False  True  __all__\n",
       "Actual                         \n",
       "False      29369  2484    31853\n",
       "True        2180  2651     4831\n",
       "__all__    31549  5135    36684"
      ]
     },
     "metadata": {},
     "output_type": "display_data"
    },
    {
     "name": "stdout",
     "output_type": "stream",
     "text": [
      "Accuracy of the model for test data is: 0.872764936764\n",
      "Confusion Matrix for test data is:\n"
     ]
    },
    {
     "data": {
      "text/plain": [
       "Predicted  False  True  __all__\n",
       "Actual                         \n",
       "False       7361   621     7982\n",
       "True         546   644     1190\n",
       "__all__     7907  1265     9172"
      ]
     },
     "metadata": {},
     "output_type": "display_data"
    },
    {
     "name": "stdout",
     "output_type": "stream",
     "text": [
      "\n",
      "\n",
      "\u001b[1mRandomForest Classifier\u001b[0m\n",
      "Accuracy of the model for training data is: 0.907016683023\n",
      "Confusion Matrix for training data is:\n"
     ]
    },
    {
     "data": {
      "text/plain": [
       "Predicted  False  True  __all__\n",
       "Actual                         \n",
       "False      28890  2963    31853\n",
       "True         448  4383     4831\n",
       "__all__    29338  7346    36684"
      ]
     },
     "metadata": {},
     "output_type": "display_data"
    },
    {
     "name": "stdout",
     "output_type": "stream",
     "text": [
      "Accuracy of the model for test data is: 0.901875272569\n",
      "Confusion Matrix for test data is:\n"
     ]
    },
    {
     "data": {
      "text/plain": [
       "Predicted  False  True  __all__\n",
       "Actual                         \n",
       "False       7229   753     7982\n",
       "True         147  1043     1190\n",
       "__all__     7376  1796     9172"
      ]
     },
     "metadata": {},
     "output_type": "display_data"
    },
    {
     "data": {
      "application/vnd.plotly.v1+json": {
       "config": {
        "linkText": "Export to plot.ly",
        "plotlyServerURL": "https://plot.ly",
        "showLink": true
       },
       "data": [
        {
         "marker": {
          "color": "rgb(158,202,225)",
          "line": {
           "color": "rgb(8,48,107)",
           "width": 1.5
          }
         },
         "opacity": 0.6,
         "orientation": "h",
         "text": [
          0.3681,
          0.2309,
          0.1491,
          0.0819,
          0.0354,
          0.0281,
          0.0241,
          0.018,
          0.015,
          0.0143,
          0.0124,
          0.0108,
          0.008,
          0.0039
         ],
         "textposition": "outside",
         "type": "bar",
         "uid": "07a5f9ee-ddb7-48ce-8388-da4442bfc44a",
         "x": [
          0.36806029617293273,
          0.2308966012130972,
          0.1490881893244878,
          0.08187311910262442,
          0.03535399127317731,
          0.028093792822753805,
          0.024128819319940414,
          0.018021571529533164,
          0.015041239662923322,
          0.01428991610821698,
          0.012426721236578878,
          0.010839719121465705,
          0.007982539474189239,
          0.0039034836380789687
         ],
         "y": [
          "http_header_content-length",
          "http_header_content-language_text/html",
          "http_header_content-encoding_gzip",
          "http_header_server_apache",
          "http_header_server_nginx",
          "http_header_cache-control_set_no-cache",
          "http_header_cache-control_set_max-age",
          "http_header_cache-control_set_must-revalidate",
          "http_header_cache-control_set_private",
          "http_header_cache-control_set_no-store",
          "http_header_strict-transport-security_max-age",
          "http_header_x-cintent-type-options_nosniff",
          "http_header_cache-control_set_public",
          "http_header_x-xss-enabled"
         ]
        }
       ],
       "layout": {
        "autosize": false,
        "height": 1000,
        "width": 1000,
        "xaxis": {
         "tickfont": {
          "color": "black",
          "size": 12
         },
         "title": "Feature Importances"
        },
        "yaxis": {
         "automargin": true
        }
       }
      },
      "text/html": [
       "<div id=\"612861e3-f3af-42dc-83d5-3b582d2d189c\" style=\"height: 1000px; width: 1000px;\" class=\"plotly-graph-div\"></div><script type=\"text/javascript\">require([\"plotly\"], function(Plotly) { window.PLOTLYENV=window.PLOTLYENV || {};window.PLOTLYENV.BASE_URL=\"https://plot.ly\";Plotly.newPlot(\"612861e3-f3af-42dc-83d5-3b582d2d189c\", [{\"marker\": {\"color\": \"rgb(158,202,225)\", \"line\": {\"color\": \"rgb(8,48,107)\", \"width\": 1.5}}, \"opacity\": 0.6, \"orientation\": \"h\", \"text\": [0.3681, 0.2309, 0.1491, 0.0819, 0.0354, 0.0281, 0.0241, 0.018, 0.015, 0.0143, 0.0124, 0.0108, 0.008, 0.0039], \"textposition\": \"outside\", \"x\": [0.36806029617293273, 0.2308966012130972, 0.1490881893244878, 0.08187311910262442, 0.03535399127317731, 0.028093792822753805, 0.024128819319940414, 0.018021571529533164, 0.015041239662923322, 0.01428991610821698, 0.012426721236578878, 0.010839719121465705, 0.007982539474189239, 0.0039034836380789687], \"y\": [\"http_header_content-length\", \"http_header_content-language_text/html\", \"http_header_content-encoding_gzip\", \"http_header_server_apache\", \"http_header_server_nginx\", \"http_header_cache-control_set_no-cache\", \"http_header_cache-control_set_max-age\", \"http_header_cache-control_set_must-revalidate\", \"http_header_cache-control_set_private\", \"http_header_cache-control_set_no-store\", \"http_header_strict-transport-security_max-age\", \"http_header_x-cintent-type-options_nosniff\", \"http_header_cache-control_set_public\", \"http_header_x-xss-enabled\"], \"type\": \"bar\", \"uid\": \"07a5f9ee-ddb7-48ce-8388-da4442bfc44a\"}], {\"autosize\": false, \"height\": 1000, \"width\": 1000, \"xaxis\": {\"tickfont\": {\"color\": \"black\", \"size\": 12}, \"title\": \"Feature Importances\"}, \"yaxis\": {\"automargin\": true}}, {\"showLink\": true, \"linkText\": \"Export to plot.ly\", \"plotlyServerURL\": \"https://plot.ly\"})});</script>"
      ],
      "text/vnd.plotly.v1+html": [
       "<div id=\"612861e3-f3af-42dc-83d5-3b582d2d189c\" style=\"height: 1000px; width: 1000px;\" class=\"plotly-graph-div\"></div><script type=\"text/javascript\">require([\"plotly\"], function(Plotly) { window.PLOTLYENV=window.PLOTLYENV || {};window.PLOTLYENV.BASE_URL=\"https://plot.ly\";Plotly.newPlot(\"612861e3-f3af-42dc-83d5-3b582d2d189c\", [{\"marker\": {\"color\": \"rgb(158,202,225)\", \"line\": {\"color\": \"rgb(8,48,107)\", \"width\": 1.5}}, \"opacity\": 0.6, \"orientation\": \"h\", \"text\": [0.3681, 0.2309, 0.1491, 0.0819, 0.0354, 0.0281, 0.0241, 0.018, 0.015, 0.0143, 0.0124, 0.0108, 0.008, 0.0039], \"textposition\": \"outside\", \"x\": [0.36806029617293273, 0.2308966012130972, 0.1490881893244878, 0.08187311910262442, 0.03535399127317731, 0.028093792822753805, 0.024128819319940414, 0.018021571529533164, 0.015041239662923322, 0.01428991610821698, 0.012426721236578878, 0.010839719121465705, 0.007982539474189239, 0.0039034836380789687], \"y\": [\"http_header_content-length\", \"http_header_content-language_text/html\", \"http_header_content-encoding_gzip\", \"http_header_server_apache\", \"http_header_server_nginx\", \"http_header_cache-control_set_no-cache\", \"http_header_cache-control_set_max-age\", \"http_header_cache-control_set_must-revalidate\", \"http_header_cache-control_set_private\", \"http_header_cache-control_set_no-store\", \"http_header_strict-transport-security_max-age\", \"http_header_x-cintent-type-options_nosniff\", \"http_header_cache-control_set_public\", \"http_header_x-xss-enabled\"], \"type\": \"bar\", \"uid\": \"07a5f9ee-ddb7-48ce-8388-da4442bfc44a\"}], {\"autosize\": false, \"height\": 1000, \"width\": 1000, \"xaxis\": {\"tickfont\": {\"color\": \"black\", \"size\": 12}, \"title\": \"Feature Importances\"}, \"yaxis\": {\"automargin\": true}}, {\"showLink\": true, \"linkText\": \"Export to plot.ly\", \"plotlyServerURL\": \"https://plot.ly\"})});</script>"
      ]
     },
     "metadata": {},
     "output_type": "display_data"
    },
    {
     "name": "stdout",
     "output_type": "stream",
     "text": [
      "\n",
      "\n",
      "\u001b[1mAdaoost Classifier\u001b[0m\n",
      "Accuracy of the model for training data is: 0.888997928252\n",
      "Confusion Matrix for training data is:\n"
     ]
    },
    {
     "data": {
      "text/plain": [
       "Predicted  False  True  __all__\n",
       "Actual                         \n",
       "False      29184  2669    31853\n",
       "True        1403  3428     4831\n",
       "__all__    30587  6097    36684"
      ]
     },
     "metadata": {},
     "output_type": "display_data"
    },
    {
     "name": "stdout",
     "output_type": "stream",
     "text": [
      "Accuracy of the model for test data is: 0.891408634976\n",
      "Confusion Matrix for test data is:\n"
     ]
    },
    {
     "data": {
      "text/plain": [
       "Predicted  False  True  __all__\n",
       "Actual                         \n",
       "False       7325   657     7982\n",
       "True         339   851     1190\n",
       "__all__     7664  1508     9172"
      ]
     },
     "metadata": {},
     "output_type": "display_data"
    },
    {
     "data": {
      "application/vnd.plotly.v1+json": {
       "config": {
        "linkText": "Export to plot.ly",
        "plotlyServerURL": "https://plot.ly",
        "showLink": true
       },
       "data": [
        {
         "marker": {
          "color": "rgb(158,202,225)",
          "line": {
           "color": "rgb(8,48,107)",
           "width": 1.5
          }
         },
         "opacity": 0.6,
         "orientation": "h",
         "text": [
          0.7,
          0.08,
          0.04,
          0.04,
          0.02,
          0.02,
          0.02,
          0.02,
          0.02,
          0.02,
          0.02,
          0,
          0,
          0
         ],
         "textposition": "outside",
         "type": "bar",
         "uid": "3796bda3-0175-4717-a003-1745782d4de2",
         "x": [
          0.7,
          0.08,
          0.04,
          0.04,
          0.02,
          0.02,
          0.02,
          0.02,
          0.02,
          0.02,
          0.02,
          0,
          0,
          0
         ],
         "y": [
          "http_header_content-length",
          "http_header_content-encoding_gzip",
          "http_header_cache-control_set_max-age",
          "http_header_content-language_text/html",
          "http_header_cache-control_set_no-store",
          "http_header_cache-control_set_private",
          "http_header_cache-control_set_public",
          "http_header_server_apache",
          "http_header_server_nginx",
          "http_header_strict-transport-security_max-age",
          "http_header_x-xss-enabled",
          "http_header_cache-control_set_must-revalidate",
          "http_header_cache-control_set_no-cache",
          "http_header_x-cintent-type-options_nosniff"
         ]
        }
       ],
       "layout": {
        "autosize": false,
        "height": 1000,
        "width": 1000,
        "xaxis": {
         "tickfont": {
          "color": "black",
          "size": 12
         },
         "title": "Feature Importances"
        },
        "yaxis": {
         "automargin": true
        }
       }
      },
      "text/html": [
       "<div id=\"13af8f25-fa20-440b-adcf-c02f801db786\" style=\"height: 1000px; width: 1000px;\" class=\"plotly-graph-div\"></div><script type=\"text/javascript\">require([\"plotly\"], function(Plotly) { window.PLOTLYENV=window.PLOTLYENV || {};window.PLOTLYENV.BASE_URL=\"https://plot.ly\";Plotly.newPlot(\"13af8f25-fa20-440b-adcf-c02f801db786\", [{\"marker\": {\"color\": \"rgb(158,202,225)\", \"line\": {\"color\": \"rgb(8,48,107)\", \"width\": 1.5}}, \"opacity\": 0.6, \"orientation\": \"h\", \"text\": [0.7, 0.08, 0.04, 0.04, 0.02, 0.02, 0.02, 0.02, 0.02, 0.02, 0.02, 0.0, 0.0, 0.0], \"textposition\": \"outside\", \"x\": [0.7, 0.08, 0.04, 0.04, 0.02, 0.02, 0.02, 0.02, 0.02, 0.02, 0.02, 0.0, 0.0, 0.0], \"y\": [\"http_header_content-length\", \"http_header_content-encoding_gzip\", \"http_header_cache-control_set_max-age\", \"http_header_content-language_text/html\", \"http_header_cache-control_set_no-store\", \"http_header_cache-control_set_private\", \"http_header_cache-control_set_public\", \"http_header_server_apache\", \"http_header_server_nginx\", \"http_header_strict-transport-security_max-age\", \"http_header_x-xss-enabled\", \"http_header_cache-control_set_must-revalidate\", \"http_header_cache-control_set_no-cache\", \"http_header_x-cintent-type-options_nosniff\"], \"type\": \"bar\", \"uid\": \"3796bda3-0175-4717-a003-1745782d4de2\"}], {\"autosize\": false, \"height\": 1000, \"width\": 1000, \"xaxis\": {\"tickfont\": {\"color\": \"black\", \"size\": 12}, \"title\": \"Feature Importances\"}, \"yaxis\": {\"automargin\": true}}, {\"showLink\": true, \"linkText\": \"Export to plot.ly\", \"plotlyServerURL\": \"https://plot.ly\"})});</script>"
      ],
      "text/vnd.plotly.v1+html": [
       "<div id=\"13af8f25-fa20-440b-adcf-c02f801db786\" style=\"height: 1000px; width: 1000px;\" class=\"plotly-graph-div\"></div><script type=\"text/javascript\">require([\"plotly\"], function(Plotly) { window.PLOTLYENV=window.PLOTLYENV || {};window.PLOTLYENV.BASE_URL=\"https://plot.ly\";Plotly.newPlot(\"13af8f25-fa20-440b-adcf-c02f801db786\", [{\"marker\": {\"color\": \"rgb(158,202,225)\", \"line\": {\"color\": \"rgb(8,48,107)\", \"width\": 1.5}}, \"opacity\": 0.6, \"orientation\": \"h\", \"text\": [0.7, 0.08, 0.04, 0.04, 0.02, 0.02, 0.02, 0.02, 0.02, 0.02, 0.02, 0.0, 0.0, 0.0], \"textposition\": \"outside\", \"x\": [0.7, 0.08, 0.04, 0.04, 0.02, 0.02, 0.02, 0.02, 0.02, 0.02, 0.02, 0.0, 0.0, 0.0], \"y\": [\"http_header_content-length\", \"http_header_content-encoding_gzip\", \"http_header_cache-control_set_max-age\", \"http_header_content-language_text/html\", \"http_header_cache-control_set_no-store\", \"http_header_cache-control_set_private\", \"http_header_cache-control_set_public\", \"http_header_server_apache\", \"http_header_server_nginx\", \"http_header_strict-transport-security_max-age\", \"http_header_x-xss-enabled\", \"http_header_cache-control_set_must-revalidate\", \"http_header_cache-control_set_no-cache\", \"http_header_x-cintent-type-options_nosniff\"], \"type\": \"bar\", \"uid\": \"3796bda3-0175-4717-a003-1745782d4de2\"}], {\"autosize\": false, \"height\": 1000, \"width\": 1000, \"xaxis\": {\"tickfont\": {\"color\": \"black\", \"size\": 12}, \"title\": \"Feature Importances\"}, \"yaxis\": {\"automargin\": true}}, {\"showLink\": true, \"linkText\": \"Export to plot.ly\", \"plotlyServerURL\": \"https://plot.ly\"})});</script>"
      ]
     },
     "metadata": {},
     "output_type": "display_data"
    },
    {
     "name": "stdout",
     "output_type": "stream",
     "text": [
      "\n",
      "\n",
      "\u001b[1mGradientBoosting Classifier\u001b[0m\n",
      "Accuracy of the model for training data is: 0.896030967179\n",
      "Confusion Matrix for training data is:\n"
     ]
    },
    {
     "data": {
      "text/plain": [
       "Predicted  False  True  __all__\n",
       "Actual                         \n",
       "False      28931  2922    31853\n",
       "True         892  3939     4831\n",
       "__all__    29823  6861    36684"
      ]
     },
     "metadata": {},
     "output_type": "display_data"
    },
    {
     "name": "stdout",
     "output_type": "stream",
     "text": [
      "Accuracy of the model for test data is: 0.898059310946\n",
      "Confusion Matrix for test data is:\n"
     ]
    },
    {
     "data": {
      "text/plain": [
       "Predicted  False  True  __all__\n",
       "Actual                         \n",
       "False       7271   711     7982\n",
       "True         224   966     1190\n",
       "__all__     7495  1677     9172"
      ]
     },
     "metadata": {},
     "output_type": "display_data"
    },
    {
     "data": {
      "application/vnd.plotly.v1+json": {
       "config": {
        "linkText": "Export to plot.ly",
        "plotlyServerURL": "https://plot.ly",
        "showLink": true
       },
       "data": [
        {
         "marker": {
          "color": "rgb(158,202,225)",
          "line": {
           "color": "rgb(8,48,107)",
           "width": 1.5
          }
         },
         "opacity": 0.6,
         "orientation": "h",
         "text": [
          0.4494,
          0.2752,
          0.182,
          0.0437,
          0.0184,
          0.0129,
          0.0058,
          0.0027,
          0.0027,
          0.0025,
          0.0023,
          0.0017,
          0.0006,
          0.0001
         ],
         "textposition": "outside",
         "type": "bar",
         "uid": "1599a597-cc88-444a-94a8-0ad7c9f280b3",
         "x": [
          0.4493599122671821,
          0.2751592993671083,
          0.18203247452420873,
          0.043745832945452104,
          0.018412451654774318,
          0.012851605747912633,
          0.005782730770102882,
          0.0027466424103135493,
          0.002659252068259813,
          0.002479754804597336,
          0.0023108166547109645,
          0.0017246689499103435,
          0.0005979385827948343,
          0.0001366192526720271
         ],
         "y": [
          "http_header_content-encoding_gzip",
          "http_header_content-length",
          "http_header_content-language_text/html",
          "http_header_server_apache",
          "http_header_cache-control_set_no-cache",
          "http_header_cache-control_set_max-age",
          "http_header_server_nginx",
          "http_header_cache-control_set_no-store",
          "http_header_x-cintent-type-options_nosniff",
          "http_header_cache-control_set_private",
          "http_header_strict-transport-security_max-age",
          "http_header_cache-control_set_must-revalidate",
          "http_header_x-xss-enabled",
          "http_header_cache-control_set_public"
         ]
        }
       ],
       "layout": {
        "autosize": false,
        "height": 1000,
        "width": 1000,
        "xaxis": {
         "tickfont": {
          "color": "black",
          "size": 12
         },
         "title": "Feature Importances"
        },
        "yaxis": {
         "automargin": true
        }
       }
      },
      "text/html": [
       "<div id=\"138e8e51-b892-4dc7-9949-db7fa082c3a3\" style=\"height: 1000px; width: 1000px;\" class=\"plotly-graph-div\"></div><script type=\"text/javascript\">require([\"plotly\"], function(Plotly) { window.PLOTLYENV=window.PLOTLYENV || {};window.PLOTLYENV.BASE_URL=\"https://plot.ly\";Plotly.newPlot(\"138e8e51-b892-4dc7-9949-db7fa082c3a3\", [{\"marker\": {\"color\": \"rgb(158,202,225)\", \"line\": {\"color\": \"rgb(8,48,107)\", \"width\": 1.5}}, \"opacity\": 0.6, \"orientation\": \"h\", \"text\": [0.4494, 0.2752, 0.182, 0.0437, 0.0184, 0.0129, 0.0058, 0.0027, 0.0027, 0.0025, 0.0023, 0.0017, 0.0006, 0.0001], \"textposition\": \"outside\", \"x\": [0.4493599122671821, 0.2751592993671083, 0.18203247452420873, 0.043745832945452104, 0.018412451654774318, 0.012851605747912633, 0.005782730770102882, 0.0027466424103135493, 0.002659252068259813, 0.002479754804597336, 0.0023108166547109645, 0.0017246689499103435, 0.0005979385827948343, 0.0001366192526720271], \"y\": [\"http_header_content-encoding_gzip\", \"http_header_content-length\", \"http_header_content-language_text/html\", \"http_header_server_apache\", \"http_header_cache-control_set_no-cache\", \"http_header_cache-control_set_max-age\", \"http_header_server_nginx\", \"http_header_cache-control_set_no-store\", \"http_header_x-cintent-type-options_nosniff\", \"http_header_cache-control_set_private\", \"http_header_strict-transport-security_max-age\", \"http_header_cache-control_set_must-revalidate\", \"http_header_x-xss-enabled\", \"http_header_cache-control_set_public\"], \"type\": \"bar\", \"uid\": \"1599a597-cc88-444a-94a8-0ad7c9f280b3\"}], {\"autosize\": false, \"height\": 1000, \"width\": 1000, \"xaxis\": {\"tickfont\": {\"color\": \"black\", \"size\": 12}, \"title\": \"Feature Importances\"}, \"yaxis\": {\"automargin\": true}}, {\"showLink\": true, \"linkText\": \"Export to plot.ly\", \"plotlyServerURL\": \"https://plot.ly\"})});</script>"
      ],
      "text/vnd.plotly.v1+html": [
       "<div id=\"138e8e51-b892-4dc7-9949-db7fa082c3a3\" style=\"height: 1000px; width: 1000px;\" class=\"plotly-graph-div\"></div><script type=\"text/javascript\">require([\"plotly\"], function(Plotly) { window.PLOTLYENV=window.PLOTLYENV || {};window.PLOTLYENV.BASE_URL=\"https://plot.ly\";Plotly.newPlot(\"138e8e51-b892-4dc7-9949-db7fa082c3a3\", [{\"marker\": {\"color\": \"rgb(158,202,225)\", \"line\": {\"color\": \"rgb(8,48,107)\", \"width\": 1.5}}, \"opacity\": 0.6, \"orientation\": \"h\", \"text\": [0.4494, 0.2752, 0.182, 0.0437, 0.0184, 0.0129, 0.0058, 0.0027, 0.0027, 0.0025, 0.0023, 0.0017, 0.0006, 0.0001], \"textposition\": \"outside\", \"x\": [0.4493599122671821, 0.2751592993671083, 0.18203247452420873, 0.043745832945452104, 0.018412451654774318, 0.012851605747912633, 0.005782730770102882, 0.0027466424103135493, 0.002659252068259813, 0.002479754804597336, 0.0023108166547109645, 0.0017246689499103435, 0.0005979385827948343, 0.0001366192526720271], \"y\": [\"http_header_content-encoding_gzip\", \"http_header_content-length\", \"http_header_content-language_text/html\", \"http_header_server_apache\", \"http_header_cache-control_set_no-cache\", \"http_header_cache-control_set_max-age\", \"http_header_server_nginx\", \"http_header_cache-control_set_no-store\", \"http_header_x-cintent-type-options_nosniff\", \"http_header_cache-control_set_private\", \"http_header_strict-transport-security_max-age\", \"http_header_cache-control_set_must-revalidate\", \"http_header_x-xss-enabled\", \"http_header_cache-control_set_public\"], \"type\": \"bar\", \"uid\": \"1599a597-cc88-444a-94a8-0ad7c9f280b3\"}], {\"autosize\": false, \"height\": 1000, \"width\": 1000, \"xaxis\": {\"tickfont\": {\"color\": \"black\", \"size\": 12}, \"title\": \"Feature Importances\"}, \"yaxis\": {\"automargin\": true}}, {\"showLink\": true, \"linkText\": \"Export to plot.ly\", \"plotlyServerURL\": \"https://plot.ly\"})});</script>"
      ]
     },
     "metadata": {},
     "output_type": "display_data"
    },
    {
     "name": "stdout",
     "output_type": "stream",
     "text": [
      "\n",
      "\n",
      "\u001b[1mExtraTree Classifier\u001b[0m\n",
      "Accuracy of the model for training data is: 0.908488714426\n",
      "Confusion Matrix for training data is:\n"
     ]
    },
    {
     "data": {
      "text/plain": [
       "Predicted  False  True  __all__\n",
       "Actual                         \n",
       "False      28912  2941    31853\n",
       "True         416  4415     4831\n",
       "__all__    29328  7356    36684"
      ]
     },
     "metadata": {},
     "output_type": "display_data"
    },
    {
     "name": "stdout",
     "output_type": "stream",
     "text": [
      "Accuracy of the model for test data is: 0.900021805495\n",
      "Confusion Matrix for test data is:\n"
     ]
    },
    {
     "data": {
      "text/plain": [
       "Predicted  False  True  __all__\n",
       "Actual                         \n",
       "False       7214   768     7982\n",
       "True         149  1041     1190\n",
       "__all__     7363  1809     9172"
      ]
     },
     "metadata": {},
     "output_type": "display_data"
    },
    {
     "data": {
      "application/vnd.plotly.v1+json": {
       "config": {
        "linkText": "Export to plot.ly",
        "plotlyServerURL": "https://plot.ly",
        "showLink": true
       },
       "data": [
        {
         "marker": {
          "color": "rgb(158,202,225)",
          "line": {
           "color": "rgb(8,48,107)",
           "width": 1.5
          }
         },
         "opacity": 0.6,
         "orientation": "h",
         "text": [
          0.3017,
          0.2374,
          0.1926,
          0.0636,
          0.0403,
          0.0389,
          0.0251,
          0.0217,
          0.0198,
          0.0187,
          0.0147,
          0.0121,
          0.0068,
          0.0068
         ],
         "textposition": "outside",
         "type": "bar",
         "uid": "fc3c1c7e-6f3f-4f21-9914-9fbab27869cc",
         "x": [
          0.30166198736339805,
          0.23739435026863562,
          0.1925539068931208,
          0.06359410028500878,
          0.04025102908999403,
          0.03892200287933521,
          0.02507245463113623,
          0.02174533358690252,
          0.019758911650198947,
          0.018650664031422994,
          0.014698466837039894,
          0.01211078399629684,
          0.006794915860889208,
          0.0067910926266208345
         ],
         "y": [
          "http_header_content-length",
          "http_header_content-language_text/html",
          "http_header_content-encoding_gzip",
          "http_header_server_apache",
          "http_header_server_nginx",
          "http_header_cache-control_set_max-age",
          "http_header_cache-control_set_no-cache",
          "http_header_cache-control_set_must-revalidate",
          "http_header_cache-control_set_private",
          "http_header_cache-control_set_no-store",
          "http_header_strict-transport-security_max-age",
          "http_header_x-xss-enabled",
          "http_header_x-cintent-type-options_nosniff",
          "http_header_cache-control_set_public"
         ]
        }
       ],
       "layout": {
        "autosize": false,
        "height": 1000,
        "width": 1000,
        "xaxis": {
         "tickfont": {
          "color": "black",
          "size": 12
         },
         "title": "Feature Importances"
        },
        "yaxis": {
         "automargin": true
        }
       }
      },
      "text/html": [
       "<div id=\"db598e14-3aad-4f1d-a778-1b480e5f44a1\" style=\"height: 1000px; width: 1000px;\" class=\"plotly-graph-div\"></div><script type=\"text/javascript\">require([\"plotly\"], function(Plotly) { window.PLOTLYENV=window.PLOTLYENV || {};window.PLOTLYENV.BASE_URL=\"https://plot.ly\";Plotly.newPlot(\"db598e14-3aad-4f1d-a778-1b480e5f44a1\", [{\"marker\": {\"color\": \"rgb(158,202,225)\", \"line\": {\"color\": \"rgb(8,48,107)\", \"width\": 1.5}}, \"opacity\": 0.6, \"orientation\": \"h\", \"text\": [0.3017, 0.2374, 0.1926, 0.0636, 0.0403, 0.0389, 0.0251, 0.0217, 0.0198, 0.0187, 0.0147, 0.0121, 0.0068, 0.0068], \"textposition\": \"outside\", \"x\": [0.30166198736339805, 0.23739435026863562, 0.1925539068931208, 0.06359410028500878, 0.04025102908999403, 0.03892200287933521, 0.02507245463113623, 0.02174533358690252, 0.019758911650198947, 0.018650664031422994, 0.014698466837039894, 0.01211078399629684, 0.006794915860889208, 0.0067910926266208345], \"y\": [\"http_header_content-length\", \"http_header_content-language_text/html\", \"http_header_content-encoding_gzip\", \"http_header_server_apache\", \"http_header_server_nginx\", \"http_header_cache-control_set_max-age\", \"http_header_cache-control_set_no-cache\", \"http_header_cache-control_set_must-revalidate\", \"http_header_cache-control_set_private\", \"http_header_cache-control_set_no-store\", \"http_header_strict-transport-security_max-age\", \"http_header_x-xss-enabled\", \"http_header_x-cintent-type-options_nosniff\", \"http_header_cache-control_set_public\"], \"type\": \"bar\", \"uid\": \"fc3c1c7e-6f3f-4f21-9914-9fbab27869cc\"}], {\"autosize\": false, \"height\": 1000, \"width\": 1000, \"xaxis\": {\"tickfont\": {\"color\": \"black\", \"size\": 12}, \"title\": \"Feature Importances\"}, \"yaxis\": {\"automargin\": true}}, {\"showLink\": true, \"linkText\": \"Export to plot.ly\", \"plotlyServerURL\": \"https://plot.ly\"})});</script>"
      ],
      "text/vnd.plotly.v1+html": [
       "<div id=\"db598e14-3aad-4f1d-a778-1b480e5f44a1\" style=\"height: 1000px; width: 1000px;\" class=\"plotly-graph-div\"></div><script type=\"text/javascript\">require([\"plotly\"], function(Plotly) { window.PLOTLYENV=window.PLOTLYENV || {};window.PLOTLYENV.BASE_URL=\"https://plot.ly\";Plotly.newPlot(\"db598e14-3aad-4f1d-a778-1b480e5f44a1\", [{\"marker\": {\"color\": \"rgb(158,202,225)\", \"line\": {\"color\": \"rgb(8,48,107)\", \"width\": 1.5}}, \"opacity\": 0.6, \"orientation\": \"h\", \"text\": [0.3017, 0.2374, 0.1926, 0.0636, 0.0403, 0.0389, 0.0251, 0.0217, 0.0198, 0.0187, 0.0147, 0.0121, 0.0068, 0.0068], \"textposition\": \"outside\", \"x\": [0.30166198736339805, 0.23739435026863562, 0.1925539068931208, 0.06359410028500878, 0.04025102908999403, 0.03892200287933521, 0.02507245463113623, 0.02174533358690252, 0.019758911650198947, 0.018650664031422994, 0.014698466837039894, 0.01211078399629684, 0.006794915860889208, 0.0067910926266208345], \"y\": [\"http_header_content-length\", \"http_header_content-language_text/html\", \"http_header_content-encoding_gzip\", \"http_header_server_apache\", \"http_header_server_nginx\", \"http_header_cache-control_set_max-age\", \"http_header_cache-control_set_no-cache\", \"http_header_cache-control_set_must-revalidate\", \"http_header_cache-control_set_private\", \"http_header_cache-control_set_no-store\", \"http_header_strict-transport-security_max-age\", \"http_header_x-xss-enabled\", \"http_header_x-cintent-type-options_nosniff\", \"http_header_cache-control_set_public\"], \"type\": \"bar\", \"uid\": \"fc3c1c7e-6f3f-4f21-9914-9fbab27869cc\"}], {\"autosize\": false, \"height\": 1000, \"width\": 1000, \"xaxis\": {\"tickfont\": {\"color\": \"black\", \"size\": 12}, \"title\": \"Feature Importances\"}, \"yaxis\": {\"automargin\": true}}, {\"showLink\": true, \"linkText\": \"Export to plot.ly\", \"plotlyServerURL\": \"https://plot.ly\"})});</script>"
      ]
     },
     "metadata": {},
     "output_type": "display_data"
    },
    {
     "name": "stdout",
     "output_type": "stream",
     "text": [
      "\n",
      "\n",
      "\u001b[1mBagging Classifier\u001b[0m\n",
      "Accuracy of the model for training data is: 0.906662305092\n",
      "Confusion Matrix for training data is:\n"
     ]
    },
    {
     "data": {
      "text/plain": [
       "Predicted  False  True  __all__\n",
       "Actual                         \n",
       "False      28889  2964    31853\n",
       "True         460  4371     4831\n",
       "__all__    29349  7335    36684"
      ]
     },
     "metadata": {},
     "output_type": "display_data"
    },
    {
     "name": "stdout",
     "output_type": "stream",
     "text": [
      "Accuracy of the model for test data is: 0.901875272569\n",
      "Confusion Matrix for test data is:\n"
     ]
    },
    {
     "data": {
      "text/plain": [
       "Predicted  False  True  __all__\n",
       "Actual                         \n",
       "False       7228   754     7982\n",
       "True         146  1044     1190\n",
       "__all__     7374  1798     9172"
      ]
     },
     "metadata": {},
     "output_type": "display_data"
    },
    {
     "name": "stdout",
     "output_type": "stream",
     "text": [
      "\n",
      "\n",
      "\u001b[1mNeural Network-1\u001b[0m\n",
      "The accuracy of the model on training data is: 0.886299204013\n"
     ]
    },
    {
     "data": {
      "text/plain": [
       "Predicted  False  True  __all__\n",
       "Actual                         \n",
       "False      28639  3214    31853\n",
       "True         957  3874     4831\n",
       "__all__    29596  7088    36684"
      ]
     },
     "metadata": {},
     "output_type": "display_data"
    },
    {
     "name": "stdout",
     "output_type": "stream",
     "text": [
      "The accuracy of the model on test data is: 0.891517662451\n"
     ]
    },
    {
     "data": {
      "text/plain": [
       "Predicted  False  True  __all__\n",
       "Actual                         \n",
       "False       7215   767     7982\n",
       "True         228   962     1190\n",
       "__all__     7443  1729     9172"
      ]
     },
     "metadata": {},
     "output_type": "display_data"
    },
    {
     "name": "stdout",
     "output_type": "stream",
     "text": [
      "\n",
      "\n"
     ]
    }
   ],
   "source": [
    "feat_imp=[None]*4\n",
    "j=0\n",
    "for i in range(0,8):\n",
    "    if i>=2 and i<=5:\n",
    "        model,cm_train,cm_test,acc_train,acc_test,roc_auc,feat_imp[j],mcc=f[i](scaled_X_train,train_Y,scaled_X_test,test_Y,columns[:-2])\n",
    "        j=j+1\n",
    "    else:\n",
    "        model,cm_train,cm_test,acc_train,acc_test,roc_auc,mcc=f[i](scaled_X_train,train_Y,scaled_X_test,test_Y)\n",
    "    table_80_50_train.loc[i]=   ([acc_train,cm_train.TP,cm_train.TN,cm_train.FP,cm_train.FN,cm_train.FPR,cm_train.FNR])\n",
    "    table_80_50_test.loc[i] =   ([acc_test ,cm_test.TP, cm_test.TN, cm_test.FP, cm_test.FN, cm_test.FPR, cm_test.FNR,roc_auc,mcc])\n",
    "    print(\"\\n\")"
   ]
  },
  {
   "cell_type": "markdown",
   "metadata": {},
   "source": [
    "### <a id='1.A' style=\"text-decoration : none; color : #000000;\"> A Results</a>"
   ]
  },
  {
   "cell_type": "code",
   "execution_count": 12,
   "metadata": {},
   "outputs": [
    {
     "data": {
      "application/vnd.plotly.v1+json": {
       "config": {
        "linkText": "Export to plot.ly",
        "plotlyServerURL": "https://plot.ly",
        "showLink": true
       },
       "data": [
        {
         "mode": "lines",
         "name": "KNN_model",
         "type": "scatter",
         "uid": "ae84f0ad-a54f-419e-94a6-f3697d823783",
         "x": [
          "accuracy",
          "FPR",
          "FNR",
          "auc"
         ],
         "y": [
          0.9020933275185347,
          0.09245803056877976,
          0.13445378151260504,
          0.8865440939593076
         ]
        },
        {
         "mode": "lines+markers",
         "name": "Logistic Regression",
         "type": "scatter",
         "uid": "4141d3bb-b6b4-4aec-adf0-2d0453395c94",
         "x": [
          "accuracy",
          "FPR",
          "FNR",
          "auc"
         ],
         "y": [
          0.8727649367640645,
          0.07780005011275369,
          0.4588235294117647,
          0.7316882102377408
         ]
        },
        {
         "marker": {
          "symbol": "x"
         },
         "mode": "lines+markers",
         "name": "Random Forest",
         "type": "scatter",
         "uid": "a2527dc1-512c-4ed1-8440-93fbf87c5270",
         "x": [
          "accuracy",
          "FPR",
          "FNR",
          "auc"
         ],
         "y": [
          0.9018752725686873,
          0.09433725883237284,
          0.12352941176470589,
          0.8910666647014607
         ]
        },
        {
         "mode": "lines",
         "name": "Ada Boost",
         "type": "scatter",
         "uid": "7159b451-7608-4db4-954f-c182e14c715f",
         "x": [
          "accuracy",
          "FPR",
          "FNR",
          "auc"
         ],
         "y": [
          0.891408634976014,
          0.0823101979453771,
          0.2848739495798319,
          0.8164079262373956
         ]
        },
        {
         "mode": "lines+markers",
         "name": "GradientBoosting",
         "type": "scatter",
         "uid": "e903b971-7d0a-450a-801a-710cbd354e8d",
         "x": [
          "accuracy",
          "FPR",
          "FNR",
          "auc"
         ],
         "y": [
          0.8980593109463585,
          0.08907541969431221,
          0.18823529411764706,
          0.8613446430940204
         ]
        },
        {
         "marker": {
          "symbol": "x"
         },
         "mode": "lines+markers",
         "name": "ExtraTree Classifier",
         "type": "scatter",
         "uid": "f00bd009-4759-49fa-828d-78a81e38c36b",
         "x": [
          "accuracy",
          "FPR",
          "FNR",
          "auc"
         ],
         "y": [
          0.9000218054949848,
          0.09621648709596592,
          0.12521008403361344,
          0.8892867144352103
         ]
        },
        {
         "marker": {
          "symbol": "x"
         },
         "mode": "lines+markers",
         "name": "Bagging",
         "type": "scatter",
         "uid": "7fa3e557-407e-4a0d-b662-799204228ae2",
         "x": [
          "accuracy",
          "FPR",
          "FNR",
          "auc"
         ],
         "y": [
          0.9018752725686873,
          0.09446254071661238,
          0.1226890756302521,
          0.8914241918265677
         ]
        },
        {
         "marker": {
          "symbol": "x"
         },
         "mode": "lines+markers",
         "name": "Neural Network",
         "type": "scatter",
         "uid": "5bb2d43f-b3fb-4205-9f9b-d44169a5b10b",
         "x": [
          "accuracy",
          "FPR",
          "FNR",
          "auc"
         ],
         "y": [
          0.8915176624509377,
          0.09609120521172639,
          0.1915966386554622,
          0.8914241918265677
         ]
        }
       ],
       "layout": {
        "title": "Result comparision for Features selected in Section 1",
        "yaxis": {
         "dtick": 0.05,
         "tick0": 0
        }
       }
      },
      "text/html": [
       "<div id=\"1246e3f4-7692-43c7-88ec-5828b83e2f92\" style=\"height: 525px; width: 100%;\" class=\"plotly-graph-div\"></div><script type=\"text/javascript\">require([\"plotly\"], function(Plotly) { window.PLOTLYENV=window.PLOTLYENV || {};window.PLOTLYENV.BASE_URL=\"https://plot.ly\";Plotly.newPlot(\"1246e3f4-7692-43c7-88ec-5828b83e2f92\", [{\"mode\": \"lines\", \"name\": \"KNN_model\", \"x\": [\"accuracy\", \"FPR\", \"FNR\", \"auc\"], \"y\": [0.9020933275185347, 0.09245803056877976, 0.13445378151260504, 0.8865440939593076], \"type\": \"scatter\", \"uid\": \"ae84f0ad-a54f-419e-94a6-f3697d823783\"}, {\"mode\": \"lines+markers\", \"name\": \"Logistic Regression\", \"x\": [\"accuracy\", \"FPR\", \"FNR\", \"auc\"], \"y\": [0.8727649367640645, 0.07780005011275369, 0.4588235294117647, 0.7316882102377408], \"type\": \"scatter\", \"uid\": \"4141d3bb-b6b4-4aec-adf0-2d0453395c94\"}, {\"marker\": {\"symbol\": \"x\"}, \"mode\": \"lines+markers\", \"name\": \"Random Forest\", \"x\": [\"accuracy\", \"FPR\", \"FNR\", \"auc\"], \"y\": [0.9018752725686873, 0.09433725883237284, 0.12352941176470589, 0.8910666647014607], \"type\": \"scatter\", \"uid\": \"a2527dc1-512c-4ed1-8440-93fbf87c5270\"}, {\"mode\": \"lines\", \"name\": \"Ada Boost\", \"x\": [\"accuracy\", \"FPR\", \"FNR\", \"auc\"], \"y\": [0.891408634976014, 0.0823101979453771, 0.2848739495798319, 0.8164079262373956], \"type\": \"scatter\", \"uid\": \"7159b451-7608-4db4-954f-c182e14c715f\"}, {\"mode\": \"lines+markers\", \"name\": \"GradientBoosting\", \"x\": [\"accuracy\", \"FPR\", \"FNR\", \"auc\"], \"y\": [0.8980593109463585, 0.08907541969431221, 0.18823529411764706, 0.8613446430940204], \"type\": \"scatter\", \"uid\": \"e903b971-7d0a-450a-801a-710cbd354e8d\"}, {\"marker\": {\"symbol\": \"x\"}, \"mode\": \"lines+markers\", \"name\": \"ExtraTree Classifier\", \"x\": [\"accuracy\", \"FPR\", \"FNR\", \"auc\"], \"y\": [0.9000218054949848, 0.09621648709596592, 0.12521008403361344, 0.8892867144352103], \"type\": \"scatter\", \"uid\": \"f00bd009-4759-49fa-828d-78a81e38c36b\"}, {\"marker\": {\"symbol\": \"x\"}, \"mode\": \"lines+markers\", \"name\": \"Bagging\", \"x\": [\"accuracy\", \"FPR\", \"FNR\", \"auc\"], \"y\": [0.9018752725686873, 0.09446254071661238, 0.1226890756302521, 0.8914241918265677], \"type\": \"scatter\", \"uid\": \"7fa3e557-407e-4a0d-b662-799204228ae2\"}, {\"marker\": {\"symbol\": \"x\"}, \"mode\": \"lines+markers\", \"name\": \"Neural Network\", \"x\": [\"accuracy\", \"FPR\", \"FNR\", \"auc\"], \"y\": [0.8915176624509377, 0.09609120521172639, 0.1915966386554622, 0.8914241918265677], \"type\": \"scatter\", \"uid\": \"5bb2d43f-b3fb-4205-9f9b-d44169a5b10b\"}], {\"title\": \"Result comparision for Features selected in Section 1\", \"yaxis\": {\"dtick\": 0.05, \"tick0\": 0}}, {\"showLink\": true, \"linkText\": \"Export to plot.ly\", \"plotlyServerURL\": \"https://plot.ly\"})});</script><script type=\"text/javascript\">window.addEventListener(\"resize\", function(){window._Plotly.Plots.resize(document.getElementById(\"1246e3f4-7692-43c7-88ec-5828b83e2f92\"));});</script>"
      ],
      "text/vnd.plotly.v1+html": [
       "<div id=\"1246e3f4-7692-43c7-88ec-5828b83e2f92\" style=\"height: 525px; width: 100%;\" class=\"plotly-graph-div\"></div><script type=\"text/javascript\">require([\"plotly\"], function(Plotly) { window.PLOTLYENV=window.PLOTLYENV || {};window.PLOTLYENV.BASE_URL=\"https://plot.ly\";Plotly.newPlot(\"1246e3f4-7692-43c7-88ec-5828b83e2f92\", [{\"mode\": \"lines\", \"name\": \"KNN_model\", \"x\": [\"accuracy\", \"FPR\", \"FNR\", \"auc\"], \"y\": [0.9020933275185347, 0.09245803056877976, 0.13445378151260504, 0.8865440939593076], \"type\": \"scatter\", \"uid\": \"ae84f0ad-a54f-419e-94a6-f3697d823783\"}, {\"mode\": \"lines+markers\", \"name\": \"Logistic Regression\", \"x\": [\"accuracy\", \"FPR\", \"FNR\", \"auc\"], \"y\": [0.8727649367640645, 0.07780005011275369, 0.4588235294117647, 0.7316882102377408], \"type\": \"scatter\", \"uid\": \"4141d3bb-b6b4-4aec-adf0-2d0453395c94\"}, {\"marker\": {\"symbol\": \"x\"}, \"mode\": \"lines+markers\", \"name\": \"Random Forest\", \"x\": [\"accuracy\", \"FPR\", \"FNR\", \"auc\"], \"y\": [0.9018752725686873, 0.09433725883237284, 0.12352941176470589, 0.8910666647014607], \"type\": \"scatter\", \"uid\": \"a2527dc1-512c-4ed1-8440-93fbf87c5270\"}, {\"mode\": \"lines\", \"name\": \"Ada Boost\", \"x\": [\"accuracy\", \"FPR\", \"FNR\", \"auc\"], \"y\": [0.891408634976014, 0.0823101979453771, 0.2848739495798319, 0.8164079262373956], \"type\": \"scatter\", \"uid\": \"7159b451-7608-4db4-954f-c182e14c715f\"}, {\"mode\": \"lines+markers\", \"name\": \"GradientBoosting\", \"x\": [\"accuracy\", \"FPR\", \"FNR\", \"auc\"], \"y\": [0.8980593109463585, 0.08907541969431221, 0.18823529411764706, 0.8613446430940204], \"type\": \"scatter\", \"uid\": \"e903b971-7d0a-450a-801a-710cbd354e8d\"}, {\"marker\": {\"symbol\": \"x\"}, \"mode\": \"lines+markers\", \"name\": \"ExtraTree Classifier\", \"x\": [\"accuracy\", \"FPR\", \"FNR\", \"auc\"], \"y\": [0.9000218054949848, 0.09621648709596592, 0.12521008403361344, 0.8892867144352103], \"type\": \"scatter\", \"uid\": \"f00bd009-4759-49fa-828d-78a81e38c36b\"}, {\"marker\": {\"symbol\": \"x\"}, \"mode\": \"lines+markers\", \"name\": \"Bagging\", \"x\": [\"accuracy\", \"FPR\", \"FNR\", \"auc\"], \"y\": [0.9018752725686873, 0.09446254071661238, 0.1226890756302521, 0.8914241918265677], \"type\": \"scatter\", \"uid\": \"7fa3e557-407e-4a0d-b662-799204228ae2\"}, {\"marker\": {\"symbol\": \"x\"}, \"mode\": \"lines+markers\", \"name\": \"Neural Network\", \"x\": [\"accuracy\", \"FPR\", \"FNR\", \"auc\"], \"y\": [0.8915176624509377, 0.09609120521172639, 0.1915966386554622, 0.8914241918265677], \"type\": \"scatter\", \"uid\": \"5bb2d43f-b3fb-4205-9f9b-d44169a5b10b\"}], {\"title\": \"Result comparision for Features selected in Section 1\", \"yaxis\": {\"dtick\": 0.05, \"tick0\": 0}}, {\"showLink\": true, \"linkText\": \"Export to plot.ly\", \"plotlyServerURL\": \"https://plot.ly\"})});</script><script type=\"text/javascript\">window.addEventListener(\"resize\", function(){window._Plotly.Plots.resize(document.getElementById(\"1246e3f4-7692-43c7-88ec-5828b83e2f92\"));});</script>"
      ]
     },
     "metadata": {},
     "output_type": "display_data"
    }
   ],
   "source": [
    "trace0 = go.Scatter(x=table_80_50_test.iloc[0].index.values[[0,5,6,7]],\n",
    "                    y=table_80_50_test.iloc[0].values[[0,5,6,7]],\n",
    "                    mode = 'lines',\n",
    "                    name = 'KNN_model')\n",
    "\n",
    "trace1 = go.Scatter(x=table_80_50_test.iloc[1].index.values[[0,5,6,7]],\n",
    "                    y=table_80_50_test.iloc[1].values[[0,5,6,7]],\n",
    "                    mode = 'lines+markers',\n",
    "                    name = 'Logistic Regression')\n",
    "\n",
    "trace2 = go.Scatter(x=table_80_50_test.iloc[2].index.values[[0,5,6,7]],\n",
    "                    y=table_80_50_test.iloc[2].values[[0,5,6,7]],\n",
    "                    mode = 'lines+markers',marker=dict(symbol='x'),\n",
    "                    name = 'Random Forest')\n",
    "\n",
    "\n",
    "trace3 = go.Scatter(x=table_80_50_test.iloc[3].index.values[[0,5,6,7]],\n",
    "                    y=table_80_50_test.iloc[3].values[[0,5,6,7]],\n",
    "                    mode = 'lines',\n",
    "                    name = 'Ada Boost')\n",
    "\n",
    "trace4 = go.Scatter(x=table_80_50_test.iloc[4].index.values[[0,5,6,7]],\n",
    "                    y=table_80_50_test.iloc[4].values[[0,5,6,7]],\n",
    "                    mode = 'lines+markers',\n",
    "                    name = 'GradientBoosting')\n",
    "\n",
    "trace5 = go.Scatter(x=table_80_50_test.iloc[5].index.values[[0,5,6,7]],\n",
    "                    y=table_80_50_test.iloc[5].values[[0,5,6,7]],\n",
    "                    mode = 'lines+markers',marker=dict(symbol='x'),\n",
    "                    name = 'ExtraTree Classifier')\n",
    "\n",
    "trace6 = go.Scatter(x=table_80_50_test.iloc[6].index.values[[0,5,6,7]],\n",
    "                    y=table_80_50_test.iloc[6].values[[0,5,6,7]],\n",
    "                    mode = 'lines+markers',marker=dict(symbol='x'),\n",
    "                    name = 'Bagging')\n",
    "\n",
    "trace7 = go.Scatter(x=table_80_50_test.iloc[7].index.values[[0,5,6,7]],\n",
    "                    y=table_80_50_test.iloc[7].values[[0,5,6,7]],\n",
    "                    mode = 'lines+markers',marker=dict(symbol='x'),\n",
    "                    name = 'Neural Network')\n",
    "\n",
    "\n",
    "\n",
    "data = [trace0, trace1, trace2, trace3, trace4, trace5, trace6, trace7]\n",
    "layout = go.Layout(yaxis=dict(tick0=0,dtick=0.05),title='Result comparision for Features selected in Section 1')\n",
    "fig = go.Figure(data=data, layout=layout)\n",
    "\n",
    "iplot(fig, filename='Result')"
   ]
  },
  {
   "cell_type": "code",
   "execution_count": 13,
   "metadata": {},
   "outputs": [
    {
     "name": "stdout",
     "output_type": "stream",
     "text": [
      "Training Results\n"
     ]
    },
    {
     "data": {
      "text/html": [
       "<div>\n",
       "<style scoped>\n",
       "    .dataframe tbody tr th:only-of-type {\n",
       "        vertical-align: middle;\n",
       "    }\n",
       "\n",
       "    .dataframe tbody tr th {\n",
       "        vertical-align: top;\n",
       "    }\n",
       "\n",
       "    .dataframe thead th {\n",
       "        text-align: right;\n",
       "    }\n",
       "</style>\n",
       "<table border=\"1\" class=\"dataframe\">\n",
       "  <thead>\n",
       "    <tr style=\"text-align: right;\">\n",
       "      <th></th>\n",
       "      <th>accuracy</th>\n",
       "      <th>TP</th>\n",
       "      <th>TN</th>\n",
       "      <th>FP</th>\n",
       "      <th>FN</th>\n",
       "      <th>FPR</th>\n",
       "      <th>FNR</th>\n",
       "    </tr>\n",
       "    <tr>\n",
       "      <th>index</th>\n",
       "      <th></th>\n",
       "      <th></th>\n",
       "      <th></th>\n",
       "      <th></th>\n",
       "      <th></th>\n",
       "      <th></th>\n",
       "      <th></th>\n",
       "    </tr>\n",
       "  </thead>\n",
       "  <tbody>\n",
       "    <tr>\n",
       "      <th>KNeighborsClassifier</th>\n",
       "      <td>0.900611</td>\n",
       "      <td>4189.0</td>\n",
       "      <td>28849.0</td>\n",
       "      <td>3004.0</td>\n",
       "      <td>642.0</td>\n",
       "      <td>0.094308</td>\n",
       "      <td>0.132892</td>\n",
       "    </tr>\n",
       "    <tr>\n",
       "      <th>LogisticRegression</th>\n",
       "      <td>0.872860</td>\n",
       "      <td>2651.0</td>\n",
       "      <td>29369.0</td>\n",
       "      <td>2484.0</td>\n",
       "      <td>2180.0</td>\n",
       "      <td>0.077983</td>\n",
       "      <td>0.451252</td>\n",
       "    </tr>\n",
       "    <tr>\n",
       "      <th>RandomForestClassifier</th>\n",
       "      <td>0.907017</td>\n",
       "      <td>4383.0</td>\n",
       "      <td>28890.0</td>\n",
       "      <td>2963.0</td>\n",
       "      <td>448.0</td>\n",
       "      <td>0.093021</td>\n",
       "      <td>0.092734</td>\n",
       "    </tr>\n",
       "    <tr>\n",
       "      <th>AdaBoostClassifier</th>\n",
       "      <td>0.888998</td>\n",
       "      <td>3428.0</td>\n",
       "      <td>29184.0</td>\n",
       "      <td>2669.0</td>\n",
       "      <td>1403.0</td>\n",
       "      <td>0.083791</td>\n",
       "      <td>0.290416</td>\n",
       "    </tr>\n",
       "    <tr>\n",
       "      <th>GradientBoostingClassifier</th>\n",
       "      <td>0.896031</td>\n",
       "      <td>3939.0</td>\n",
       "      <td>28931.0</td>\n",
       "      <td>2922.0</td>\n",
       "      <td>892.0</td>\n",
       "      <td>0.091734</td>\n",
       "      <td>0.184641</td>\n",
       "    </tr>\n",
       "    <tr>\n",
       "      <th>ExtraTreeClassifier</th>\n",
       "      <td>0.908489</td>\n",
       "      <td>4415.0</td>\n",
       "      <td>28912.0</td>\n",
       "      <td>2941.0</td>\n",
       "      <td>416.0</td>\n",
       "      <td>0.092330</td>\n",
       "      <td>0.086111</td>\n",
       "    </tr>\n",
       "    <tr>\n",
       "      <th>BaggingClassifier</th>\n",
       "      <td>0.906662</td>\n",
       "      <td>4371.0</td>\n",
       "      <td>28889.0</td>\n",
       "      <td>2964.0</td>\n",
       "      <td>460.0</td>\n",
       "      <td>0.093052</td>\n",
       "      <td>0.095218</td>\n",
       "    </tr>\n",
       "    <tr>\n",
       "      <th>Neural Network-1</th>\n",
       "      <td>0.886299</td>\n",
       "      <td>3874.0</td>\n",
       "      <td>28639.0</td>\n",
       "      <td>3214.0</td>\n",
       "      <td>957.0</td>\n",
       "      <td>0.100901</td>\n",
       "      <td>0.198096</td>\n",
       "    </tr>\n",
       "  </tbody>\n",
       "</table>\n",
       "</div>"
      ],
      "text/plain": [
       "                            accuracy      TP       TN      FP      FN  \\\n",
       "index                                                                   \n",
       "KNeighborsClassifier        0.900611  4189.0  28849.0  3004.0   642.0   \n",
       "LogisticRegression          0.872860  2651.0  29369.0  2484.0  2180.0   \n",
       "RandomForestClassifier      0.907017  4383.0  28890.0  2963.0   448.0   \n",
       "AdaBoostClassifier          0.888998  3428.0  29184.0  2669.0  1403.0   \n",
       "GradientBoostingClassifier  0.896031  3939.0  28931.0  2922.0   892.0   \n",
       "ExtraTreeClassifier         0.908489  4415.0  28912.0  2941.0   416.0   \n",
       "BaggingClassifier           0.906662  4371.0  28889.0  2964.0   460.0   \n",
       "Neural Network-1            0.886299  3874.0  28639.0  3214.0   957.0   \n",
       "\n",
       "                                 FPR       FNR  \n",
       "index                                           \n",
       "KNeighborsClassifier        0.094308  0.132892  \n",
       "LogisticRegression          0.077983  0.451252  \n",
       "RandomForestClassifier      0.093021  0.092734  \n",
       "AdaBoostClassifier          0.083791  0.290416  \n",
       "GradientBoostingClassifier  0.091734  0.184641  \n",
       "ExtraTreeClassifier         0.092330  0.086111  \n",
       "BaggingClassifier           0.093052  0.095218  \n",
       "Neural Network-1            0.100901  0.198096  "
      ]
     },
     "metadata": {},
     "output_type": "display_data"
    },
    {
     "name": "stdout",
     "output_type": "stream",
     "text": [
      "Test Results\n"
     ]
    },
    {
     "data": {
      "text/html": [
       "<div>\n",
       "<style scoped>\n",
       "    .dataframe tbody tr th:only-of-type {\n",
       "        vertical-align: middle;\n",
       "    }\n",
       "\n",
       "    .dataframe tbody tr th {\n",
       "        vertical-align: top;\n",
       "    }\n",
       "\n",
       "    .dataframe thead th {\n",
       "        text-align: right;\n",
       "    }\n",
       "</style>\n",
       "<table border=\"1\" class=\"dataframe\">\n",
       "  <thead>\n",
       "    <tr style=\"text-align: right;\">\n",
       "      <th></th>\n",
       "      <th>accuracy</th>\n",
       "      <th>TP</th>\n",
       "      <th>TN</th>\n",
       "      <th>FP</th>\n",
       "      <th>FN</th>\n",
       "      <th>FPR</th>\n",
       "      <th>FNR</th>\n",
       "      <th>auc</th>\n",
       "      <th>MCC</th>\n",
       "    </tr>\n",
       "    <tr>\n",
       "      <th>index</th>\n",
       "      <th></th>\n",
       "      <th></th>\n",
       "      <th></th>\n",
       "      <th></th>\n",
       "      <th></th>\n",
       "      <th></th>\n",
       "      <th></th>\n",
       "      <th></th>\n",
       "      <th></th>\n",
       "    </tr>\n",
       "  </thead>\n",
       "  <tbody>\n",
       "    <tr>\n",
       "      <th>KNeighborsClassifier</th>\n",
       "      <td>0.902093</td>\n",
       "      <td>1030.0</td>\n",
       "      <td>7244.0</td>\n",
       "      <td>738.0</td>\n",
       "      <td>160.0</td>\n",
       "      <td>0.092458</td>\n",
       "      <td>0.134454</td>\n",
       "      <td>0.886544</td>\n",
       "      <td>0.658543</td>\n",
       "    </tr>\n",
       "    <tr>\n",
       "      <th>LogisticRegression</th>\n",
       "      <td>0.872765</td>\n",
       "      <td>644.0</td>\n",
       "      <td>7361.0</td>\n",
       "      <td>621.0</td>\n",
       "      <td>546.0</td>\n",
       "      <td>0.077800</td>\n",
       "      <td>0.458824</td>\n",
       "      <td>0.731688</td>\n",
       "      <td>0.451557</td>\n",
       "    </tr>\n",
       "    <tr>\n",
       "      <th>RandomForestClassifier</th>\n",
       "      <td>0.901875</td>\n",
       "      <td>1043.0</td>\n",
       "      <td>7229.0</td>\n",
       "      <td>753.0</td>\n",
       "      <td>147.0</td>\n",
       "      <td>0.094337</td>\n",
       "      <td>0.123529</td>\n",
       "      <td>0.891067</td>\n",
       "      <td>0.662287</td>\n",
       "    </tr>\n",
       "    <tr>\n",
       "      <th>AdaBoostClassifier</th>\n",
       "      <td>0.891409</td>\n",
       "      <td>851.0</td>\n",
       "      <td>7325.0</td>\n",
       "      <td>657.0</td>\n",
       "      <td>339.0</td>\n",
       "      <td>0.082310</td>\n",
       "      <td>0.284874</td>\n",
       "      <td>0.816408</td>\n",
       "      <td>0.573691</td>\n",
       "    </tr>\n",
       "    <tr>\n",
       "      <th>GradientBoostingClassifier</th>\n",
       "      <td>0.898059</td>\n",
       "      <td>966.0</td>\n",
       "      <td>7271.0</td>\n",
       "      <td>711.0</td>\n",
       "      <td>224.0</td>\n",
       "      <td>0.089075</td>\n",
       "      <td>0.188235</td>\n",
       "      <td>0.861345</td>\n",
       "      <td>0.628244</td>\n",
       "    </tr>\n",
       "    <tr>\n",
       "      <th>ExtraTreeClassifier</th>\n",
       "      <td>0.900022</td>\n",
       "      <td>1041.0</td>\n",
       "      <td>7214.0</td>\n",
       "      <td>768.0</td>\n",
       "      <td>149.0</td>\n",
       "      <td>0.096216</td>\n",
       "      <td>0.125210</td>\n",
       "      <td>0.889287</td>\n",
       "      <td>0.657480</td>\n",
       "    </tr>\n",
       "    <tr>\n",
       "      <th>BaggingClassifier</th>\n",
       "      <td>0.901875</td>\n",
       "      <td>1044.0</td>\n",
       "      <td>7228.0</td>\n",
       "      <td>754.0</td>\n",
       "      <td>146.0</td>\n",
       "      <td>0.094463</td>\n",
       "      <td>0.122689</td>\n",
       "      <td>0.891424</td>\n",
       "      <td>0.662614</td>\n",
       "    </tr>\n",
       "    <tr>\n",
       "      <th>Neural Network-1</th>\n",
       "      <td>0.891518</td>\n",
       "      <td>962.0</td>\n",
       "      <td>7215.0</td>\n",
       "      <td>767.0</td>\n",
       "      <td>228.0</td>\n",
       "      <td>0.096091</td>\n",
       "      <td>0.191597</td>\n",
       "      <td>0.891424</td>\n",
       "      <td>0.611967</td>\n",
       "    </tr>\n",
       "  </tbody>\n",
       "</table>\n",
       "</div>"
      ],
      "text/plain": [
       "                            accuracy      TP      TN     FP     FN       FPR  \\\n",
       "index                                                                          \n",
       "KNeighborsClassifier        0.902093  1030.0  7244.0  738.0  160.0  0.092458   \n",
       "LogisticRegression          0.872765   644.0  7361.0  621.0  546.0  0.077800   \n",
       "RandomForestClassifier      0.901875  1043.0  7229.0  753.0  147.0  0.094337   \n",
       "AdaBoostClassifier          0.891409   851.0  7325.0  657.0  339.0  0.082310   \n",
       "GradientBoostingClassifier  0.898059   966.0  7271.0  711.0  224.0  0.089075   \n",
       "ExtraTreeClassifier         0.900022  1041.0  7214.0  768.0  149.0  0.096216   \n",
       "BaggingClassifier           0.901875  1044.0  7228.0  754.0  146.0  0.094463   \n",
       "Neural Network-1            0.891518   962.0  7215.0  767.0  228.0  0.096091   \n",
       "\n",
       "                                 FNR       auc       MCC  \n",
       "index                                                     \n",
       "KNeighborsClassifier        0.134454  0.886544  0.658543  \n",
       "LogisticRegression          0.458824  0.731688  0.451557  \n",
       "RandomForestClassifier      0.123529  0.891067  0.662287  \n",
       "AdaBoostClassifier          0.284874  0.816408  0.573691  \n",
       "GradientBoostingClassifier  0.188235  0.861345  0.628244  \n",
       "ExtraTreeClassifier         0.125210  0.889287  0.657480  \n",
       "BaggingClassifier           0.122689  0.891424  0.662614  \n",
       "Neural Network-1            0.191597  0.891424  0.611967  "
      ]
     },
     "metadata": {},
     "output_type": "display_data"
    }
   ],
   "source": [
    "table_80_50_train['index']=ind_columns\n",
    "table_80_50_test['index']=ind_columns\n",
    "\n",
    "\n",
    "table_80_50_test.set_index(['index'],drop=True,inplace=True)\n",
    "table_80_50_train.set_index(['index'],drop=True,inplace=True)\n",
    "\n",
    "print(\"Training Results\")\n",
    "display(table_80_50_train)\n",
    "print(\"Test Results\")\n",
    "display(table_80_50_test)"
   ]
  },
  {
   "cell_type": "markdown",
   "metadata": {},
   "source": [
    "### <a id='1.B' style=\"text-decoration : none; color : #000000;\"> B. Average Feature Importances</a>"
   ]
  },
  {
   "cell_type": "code",
   "execution_count": 14,
   "metadata": {},
   "outputs": [
    {
     "data": {
      "application/vnd.plotly.v1+json": {
       "config": {
        "linkText": "Export to plot.ly",
        "plotlyServerURL": "https://plot.ly",
        "showLink": true
       },
       "data": [
        {
         "marker": {
          "color": "rgb(158,202,225)",
          "line": {
           "color": "rgb(8,48,107)",
           "width": 1.5
          }
         },
         "opacity": 0.6,
         "orientation": "h",
         "text": [
          0.4112,
          0.2178,
          0.1726,
          0.0523,
          0.029,
          0.0253,
          0.0179,
          0.0143,
          0.0139,
          0.0124,
          0.0104,
          0.0092,
          0.0087,
          0.0051
         ],
         "textposition": "outside",
         "type": "bar",
         "uid": "36d8c851-06e7-4ea6-991e-366d65a7595d",
         "x": [
          0.4112203957258598,
          0.21775050212119768,
          0.17258085650148539,
          0.05230326308327132,
          0.028975606986797065,
          0.025346937783318556,
          0.017894674777166088,
          0.0143199765294299,
          0.01392180563748838,
          0.012359001182082436,
          0.010372893516586507,
          0.009153051554292661,
          0.008727562838370525,
          0.005073471762653682
         ],
         "y": [
          "http_header_content-length",
          "http_header_content-encoding_gzip",
          "http_header_content-language_text/html",
          "http_header_server_apache",
          "http_header_cache-control_set_max-age",
          "http_header_server_nginx",
          "http_header_cache-control_set_no-cache",
          "http_header_cache-control_set_private",
          "http_header_cache-control_set_no-store",
          "http_header_strict-transport-security_max-age",
          "http_header_cache-control_set_must-revalidate",
          "http_header_x-xss-enabled",
          "http_header_cache-control_set_public",
          "http_header_x-cintent-type-options_nosniff"
         ]
        }
       ],
       "layout": {
        "autosize": false,
        "height": 1000,
        "width": 1000,
        "xaxis": {
         "tickfont": {
          "color": "black",
          "size": 12
         },
         "title": "Feature Importances"
        },
        "yaxis": {
         "automargin": true
        }
       }
      },
      "text/html": [
       "<div id=\"234ba804-00f7-44bf-8dcf-b16ea30126a7\" style=\"height: 1000px; width: 1000px;\" class=\"plotly-graph-div\"></div><script type=\"text/javascript\">require([\"plotly\"], function(Plotly) { window.PLOTLYENV=window.PLOTLYENV || {};window.PLOTLYENV.BASE_URL=\"https://plot.ly\";Plotly.newPlot(\"234ba804-00f7-44bf-8dcf-b16ea30126a7\", [{\"marker\": {\"color\": \"rgb(158,202,225)\", \"line\": {\"color\": \"rgb(8,48,107)\", \"width\": 1.5}}, \"opacity\": 0.6, \"orientation\": \"h\", \"text\": [0.4112, 0.2178, 0.1726, 0.0523, 0.029, 0.0253, 0.0179, 0.0143, 0.0139, 0.0124, 0.0104, 0.0092, 0.0087, 0.0051], \"textposition\": \"outside\", \"x\": [0.4112203957258598, 0.21775050212119768, 0.17258085650148539, 0.05230326308327132, 0.028975606986797065, 0.025346937783318556, 0.017894674777166088, 0.0143199765294299, 0.01392180563748838, 0.012359001182082436, 0.010372893516586507, 0.009153051554292661, 0.008727562838370525, 0.005073471762653682], \"y\": [\"http_header_content-length\", \"http_header_content-encoding_gzip\", \"http_header_content-language_text/html\", \"http_header_server_apache\", \"http_header_cache-control_set_max-age\", \"http_header_server_nginx\", \"http_header_cache-control_set_no-cache\", \"http_header_cache-control_set_private\", \"http_header_cache-control_set_no-store\", \"http_header_strict-transport-security_max-age\", \"http_header_cache-control_set_must-revalidate\", \"http_header_x-xss-enabled\", \"http_header_cache-control_set_public\", \"http_header_x-cintent-type-options_nosniff\"], \"type\": \"bar\", \"uid\": \"36d8c851-06e7-4ea6-991e-366d65a7595d\"}], {\"autosize\": false, \"height\": 1000, \"width\": 1000, \"xaxis\": {\"tickfont\": {\"color\": \"black\", \"size\": 12}, \"title\": \"Feature Importances\"}, \"yaxis\": {\"automargin\": true}}, {\"showLink\": true, \"linkText\": \"Export to plot.ly\", \"plotlyServerURL\": \"https://plot.ly\"})});</script>"
      ],
      "text/vnd.plotly.v1+html": [
       "<div id=\"234ba804-00f7-44bf-8dcf-b16ea30126a7\" style=\"height: 1000px; width: 1000px;\" class=\"plotly-graph-div\"></div><script type=\"text/javascript\">require([\"plotly\"], function(Plotly) { window.PLOTLYENV=window.PLOTLYENV || {};window.PLOTLYENV.BASE_URL=\"https://plot.ly\";Plotly.newPlot(\"234ba804-00f7-44bf-8dcf-b16ea30126a7\", [{\"marker\": {\"color\": \"rgb(158,202,225)\", \"line\": {\"color\": \"rgb(8,48,107)\", \"width\": 1.5}}, \"opacity\": 0.6, \"orientation\": \"h\", \"text\": [0.4112, 0.2178, 0.1726, 0.0523, 0.029, 0.0253, 0.0179, 0.0143, 0.0139, 0.0124, 0.0104, 0.0092, 0.0087, 0.0051], \"textposition\": \"outside\", \"x\": [0.4112203957258598, 0.21775050212119768, 0.17258085650148539, 0.05230326308327132, 0.028975606986797065, 0.025346937783318556, 0.017894674777166088, 0.0143199765294299, 0.01392180563748838, 0.012359001182082436, 0.010372893516586507, 0.009153051554292661, 0.008727562838370525, 0.005073471762653682], \"y\": [\"http_header_content-length\", \"http_header_content-encoding_gzip\", \"http_header_content-language_text/html\", \"http_header_server_apache\", \"http_header_cache-control_set_max-age\", \"http_header_server_nginx\", \"http_header_cache-control_set_no-cache\", \"http_header_cache-control_set_private\", \"http_header_cache-control_set_no-store\", \"http_header_strict-transport-security_max-age\", \"http_header_cache-control_set_must-revalidate\", \"http_header_x-xss-enabled\", \"http_header_cache-control_set_public\", \"http_header_x-cintent-type-options_nosniff\"], \"type\": \"bar\", \"uid\": \"36d8c851-06e7-4ea6-991e-366d65a7595d\"}], {\"autosize\": false, \"height\": 1000, \"width\": 1000, \"xaxis\": {\"tickfont\": {\"color\": \"black\", \"size\": 12}, \"title\": \"Feature Importances\"}, \"yaxis\": {\"automargin\": true}}, {\"showLink\": true, \"linkText\": \"Export to plot.ly\", \"plotlyServerURL\": \"https://plot.ly\"})});</script>"
      ]
     },
     "metadata": {},
     "output_type": "display_data"
    }
   ],
   "source": [
    "feat_impt_plot(np.average(feat_imp,axis=0),columns[:-2])"
   ]
  },
  {
   "cell_type": "markdown",
   "metadata": {},
   "source": [
    "### <a id='2' style=\"text-decoration : none; color : #000000;\"> 2. OverSampling </a>"
   ]
  },
  {
   "cell_type": "code",
   "execution_count": 15,
   "metadata": {},
   "outputs": [
    {
     "name": "stderr",
     "output_type": "stream",
     "text": [
      "/nethomes/darshan/anaconda3/lib/python3.6/site-packages/sklearn/utils/deprecation.py:77: DeprecationWarning:\n",
      "\n",
      "Function _ratio_float is deprecated; Use a float for 'ratio' is deprecated from version 0.2. The support will be removed in 0.4. Use a dict, str, or a callable instead.\n",
      "\n"
     ]
    }
   ],
   "source": [
    "sm = SMOTE(random_state=12, ratio = 1.0)\n",
    "X_train, Y_train = sm.fit_sample(scaled_X_train,train_Y)"
   ]
  },
  {
   "cell_type": "code",
   "execution_count": 16,
   "metadata": {
    "collapsed": true
   },
   "outputs": [],
   "source": [
    "## Table to store training and test measures so we can compare later\n",
    "table_80_80_train=pd.DataFrame(columns=['accuracy','TP','TN','FP','FN','FPR','FNR'])\n",
    "table_80_80_test=pd.DataFrame(columns=['accuracy','TP','TN','FP','FN','FPR','FNR','auc','mcc'])"
   ]
  },
  {
   "cell_type": "code",
   "execution_count": 17,
   "metadata": {
    "scrolled": false
   },
   "outputs": [
    {
     "name": "stdout",
     "output_type": "stream",
     "text": [
      "\u001b[1mK-Nearest Neighbors\u001b[0m\n",
      "Accuracy of the model for training data is: 0.669152042194\n",
      "Confusion Matrix for training data is:\n"
     ]
    },
    {
     "data": {
      "text/plain": [
       "Predicted  False   True  __all__\n",
       "Actual                          \n",
       "False      30944    909    31853\n",
       "True       20168  11685    31853\n",
       "__all__    51112  12594    63706"
      ]
     },
     "metadata": {},
     "output_type": "display_data"
    },
    {
     "name": "stdout",
     "output_type": "stream",
     "text": [
      "Accuracy of the model for test data is: 0.887701700829\n",
      "Confusion Matrix for test data is:\n"
     ]
    },
    {
     "data": {
      "text/plain": [
       "Predicted  False  True  __all__\n",
       "Actual                         \n",
       "False       7729   253     7982\n",
       "True         777   413     1190\n",
       "__all__     8506   666     9172"
      ]
     },
     "metadata": {},
     "output_type": "display_data"
    },
    {
     "name": "stdout",
     "output_type": "stream",
     "text": [
      "\n",
      "\n",
      "\u001b[1mLogistic Regression\u001b[0m\n",
      "Accuracy of the model for training data is: 0.828634665495\n",
      "Confusion Matrix for training data is:\n"
     ]
    },
    {
     "data": {
      "text/plain": [
       "Predicted  False   True  __all__\n",
       "Actual                          \n",
       "False      26278   5575    31853\n",
       "True        5342  26511    31853\n",
       "__all__    31620  32086    63706"
      ]
     },
     "metadata": {},
     "output_type": "display_data"
    },
    {
     "name": "stdout",
     "output_type": "stream",
     "text": [
      "Accuracy of the model for test data is: 0.828499781945\n",
      "Confusion Matrix for test data is:\n"
     ]
    },
    {
     "data": {
      "text/plain": [
       "Predicted  False  True  __all__\n",
       "Actual                         \n",
       "False       6608  1374     7982\n",
       "True         199   991     1190\n",
       "__all__     6807  2365     9172"
      ]
     },
     "metadata": {},
     "output_type": "display_data"
    },
    {
     "name": "stdout",
     "output_type": "stream",
     "text": [
      "\n",
      "\n",
      "\u001b[1mRandomForest Classifier\u001b[0m\n",
      "Accuracy of the model for training data is: 0.919411044486\n",
      "Confusion Matrix for training data is:\n"
     ]
    },
    {
     "data": {
      "text/plain": [
       "Predicted  False   True  __all__\n",
       "Actual                          \n",
       "False      28693   3160    31853\n",
       "True        1974  29879    31853\n",
       "__all__    30667  33039    63706"
      ]
     },
     "metadata": {},
     "output_type": "display_data"
    },
    {
     "name": "stdout",
     "output_type": "stream",
     "text": [
      "Accuracy of the model for test data is: 0.887810728304\n",
      "Confusion Matrix for test data is:\n"
     ]
    },
    {
     "data": {
      "text/plain": [
       "Predicted  False  True  __all__\n",
       "Actual                         \n",
       "False       7077   905     7982\n",
       "True         124  1066     1190\n",
       "__all__     7201  1971     9172"
      ]
     },
     "metadata": {},
     "output_type": "display_data"
    },
    {
     "data": {
      "application/vnd.plotly.v1+json": {
       "config": {
        "linkText": "Export to plot.ly",
        "plotlyServerURL": "https://plot.ly",
        "showLink": true
       },
       "data": [
        {
         "marker": {
          "color": "rgb(158,202,225)",
          "line": {
           "color": "rgb(8,48,107)",
           "width": 1.5
          }
         },
         "opacity": 0.6,
         "orientation": "h",
         "text": [
          0.4158,
          0.2712,
          0.0613,
          0.0485,
          0.0435,
          0.0318,
          0.0285,
          0.0252,
          0.0238,
          0.0182,
          0.0125,
          0.0075,
          0.0072,
          0.005
         ],
         "textposition": "outside",
         "type": "bar",
         "uid": "d7933a3f-44b8-4f95-9c0b-afa1fba1c0a1",
         "x": [
          0.41577705039524826,
          0.2712081817398161,
          0.061272675370159034,
          0.048502546427691515,
          0.04352686802168264,
          0.03176015652781408,
          0.028539167461451326,
          0.025183884011788026,
          0.023819249053388884,
          0.018227575152475643,
          0.012528203450494088,
          0.007455043695505176,
          0.007184245775081449,
          0.0050151529174039125
         ],
         "y": [
          "http_header_content-encoding_gzip",
          "http_header_content-length",
          "http_header_cache-control_set_max-age",
          "http_header_content-language_text/html",
          "http_header_server_apache",
          "http_header_server_nginx",
          "http_header_cache-control_set_private",
          "http_header_strict-transport-security_max-age",
          "http_header_cache-control_set_no-cache",
          "http_header_cache-control_set_must-revalidate",
          "http_header_x-xss-enabled",
          "http_header_x-cintent-type-options_nosniff",
          "http_header_cache-control_set_no-store",
          "http_header_cache-control_set_public"
         ]
        }
       ],
       "layout": {
        "autosize": false,
        "height": 1000,
        "width": 1000,
        "xaxis": {
         "tickfont": {
          "color": "black",
          "size": 12
         },
         "title": "Feature Importances"
        },
        "yaxis": {
         "automargin": true
        }
       }
      },
      "text/html": [
       "<div id=\"5cb4b72f-a38d-4571-9e4c-147cbbe40652\" style=\"height: 1000px; width: 1000px;\" class=\"plotly-graph-div\"></div><script type=\"text/javascript\">require([\"plotly\"], function(Plotly) { window.PLOTLYENV=window.PLOTLYENV || {};window.PLOTLYENV.BASE_URL=\"https://plot.ly\";Plotly.newPlot(\"5cb4b72f-a38d-4571-9e4c-147cbbe40652\", [{\"marker\": {\"color\": \"rgb(158,202,225)\", \"line\": {\"color\": \"rgb(8,48,107)\", \"width\": 1.5}}, \"opacity\": 0.6, \"orientation\": \"h\", \"text\": [0.4158, 0.2712, 0.0613, 0.0485, 0.0435, 0.0318, 0.0285, 0.0252, 0.0238, 0.0182, 0.0125, 0.0075, 0.0072, 0.005], \"textposition\": \"outside\", \"x\": [0.41577705039524826, 0.2712081817398161, 0.061272675370159034, 0.048502546427691515, 0.04352686802168264, 0.03176015652781408, 0.028539167461451326, 0.025183884011788026, 0.023819249053388884, 0.018227575152475643, 0.012528203450494088, 0.007455043695505176, 0.007184245775081449, 0.0050151529174039125], \"y\": [\"http_header_content-encoding_gzip\", \"http_header_content-length\", \"http_header_cache-control_set_max-age\", \"http_header_content-language_text/html\", \"http_header_server_apache\", \"http_header_server_nginx\", \"http_header_cache-control_set_private\", \"http_header_strict-transport-security_max-age\", \"http_header_cache-control_set_no-cache\", \"http_header_cache-control_set_must-revalidate\", \"http_header_x-xss-enabled\", \"http_header_x-cintent-type-options_nosniff\", \"http_header_cache-control_set_no-store\", \"http_header_cache-control_set_public\"], \"type\": \"bar\", \"uid\": \"d7933a3f-44b8-4f95-9c0b-afa1fba1c0a1\"}], {\"autosize\": false, \"height\": 1000, \"width\": 1000, \"xaxis\": {\"tickfont\": {\"color\": \"black\", \"size\": 12}, \"title\": \"Feature Importances\"}, \"yaxis\": {\"automargin\": true}}, {\"showLink\": true, \"linkText\": \"Export to plot.ly\", \"plotlyServerURL\": \"https://plot.ly\"})});</script>"
      ],
      "text/vnd.plotly.v1+html": [
       "<div id=\"5cb4b72f-a38d-4571-9e4c-147cbbe40652\" style=\"height: 1000px; width: 1000px;\" class=\"plotly-graph-div\"></div><script type=\"text/javascript\">require([\"plotly\"], function(Plotly) { window.PLOTLYENV=window.PLOTLYENV || {};window.PLOTLYENV.BASE_URL=\"https://plot.ly\";Plotly.newPlot(\"5cb4b72f-a38d-4571-9e4c-147cbbe40652\", [{\"marker\": {\"color\": \"rgb(158,202,225)\", \"line\": {\"color\": \"rgb(8,48,107)\", \"width\": 1.5}}, \"opacity\": 0.6, \"orientation\": \"h\", \"text\": [0.4158, 0.2712, 0.0613, 0.0485, 0.0435, 0.0318, 0.0285, 0.0252, 0.0238, 0.0182, 0.0125, 0.0075, 0.0072, 0.005], \"textposition\": \"outside\", \"x\": [0.41577705039524826, 0.2712081817398161, 0.061272675370159034, 0.048502546427691515, 0.04352686802168264, 0.03176015652781408, 0.028539167461451326, 0.025183884011788026, 0.023819249053388884, 0.018227575152475643, 0.012528203450494088, 0.007455043695505176, 0.007184245775081449, 0.0050151529174039125], \"y\": [\"http_header_content-encoding_gzip\", \"http_header_content-length\", \"http_header_cache-control_set_max-age\", \"http_header_content-language_text/html\", \"http_header_server_apache\", \"http_header_server_nginx\", \"http_header_cache-control_set_private\", \"http_header_strict-transport-security_max-age\", \"http_header_cache-control_set_no-cache\", \"http_header_cache-control_set_must-revalidate\", \"http_header_x-xss-enabled\", \"http_header_x-cintent-type-options_nosniff\", \"http_header_cache-control_set_no-store\", \"http_header_cache-control_set_public\"], \"type\": \"bar\", \"uid\": \"d7933a3f-44b8-4f95-9c0b-afa1fba1c0a1\"}], {\"autosize\": false, \"height\": 1000, \"width\": 1000, \"xaxis\": {\"tickfont\": {\"color\": \"black\", \"size\": 12}, \"title\": \"Feature Importances\"}, \"yaxis\": {\"automargin\": true}}, {\"showLink\": true, \"linkText\": \"Export to plot.ly\", \"plotlyServerURL\": \"https://plot.ly\"})});</script>"
      ]
     },
     "metadata": {},
     "output_type": "display_data"
    },
    {
     "name": "stdout",
     "output_type": "stream",
     "text": [
      "\n",
      "\n",
      "\u001b[1mAdaoost Classifier\u001b[0m\n",
      "Accuracy of the model for training data is: 0.855774966251\n",
      "Confusion Matrix for training data is:\n"
     ]
    },
    {
     "data": {
      "text/plain": [
       "Predicted  False   True  __all__\n",
       "Actual                          \n",
       "False      26155   5698    31853\n",
       "True        3490  28363    31853\n",
       "__all__    29645  34061    63706"
      ]
     },
     "metadata": {},
     "output_type": "display_data"
    },
    {
     "name": "stdout",
     "output_type": "stream",
     "text": [
      "Accuracy of the model for test data is: 0.831443523768\n",
      "Confusion Matrix for test data is:\n"
     ]
    },
    {
     "data": {
      "text/plain": [
       "Predicted  False  True  __all__\n",
       "Actual                         \n",
       "False       6573  1409     7982\n",
       "True         137  1053     1190\n",
       "__all__     6710  2462     9172"
      ]
     },
     "metadata": {},
     "output_type": "display_data"
    },
    {
     "data": {
      "application/vnd.plotly.v1+json": {
       "config": {
        "linkText": "Export to plot.ly",
        "plotlyServerURL": "https://plot.ly",
        "showLink": true
       },
       "data": [
        {
         "marker": {
          "color": "rgb(158,202,225)",
          "line": {
           "color": "rgb(8,48,107)",
           "width": 1.5
          }
         },
         "opacity": 0.6,
         "orientation": "h",
         "text": [
          0.6,
          0.08,
          0.06,
          0.06,
          0.04,
          0.04,
          0.04,
          0.02,
          0.02,
          0.02,
          0.02,
          0,
          0,
          0
         ],
         "textposition": "outside",
         "type": "bar",
         "uid": "17fed6f6-f64b-4eaf-8a5a-f02cc096fe15",
         "x": [
          0.6,
          0.08,
          0.06,
          0.06,
          0.04,
          0.04,
          0.04,
          0.02,
          0.02,
          0.02,
          0.02,
          0,
          0,
          0
         ],
         "y": [
          "http_header_content-length",
          "http_header_content-encoding_gzip",
          "http_header_content-language_text/html",
          "http_header_server_nginx",
          "http_header_cache-control_set_max-age",
          "http_header_cache-control_set_no-store",
          "http_header_server_apache",
          "http_header_cache-control_set_private",
          "http_header_cache-control_set_public",
          "http_header_strict-transport-security_max-age",
          "http_header_x-cintent-type-options_nosniff",
          "http_header_cache-control_set_must-revalidate",
          "http_header_cache-control_set_no-cache",
          "http_header_x-xss-enabled"
         ]
        }
       ],
       "layout": {
        "autosize": false,
        "height": 1000,
        "width": 1000,
        "xaxis": {
         "tickfont": {
          "color": "black",
          "size": 12
         },
         "title": "Feature Importances"
        },
        "yaxis": {
         "automargin": true
        }
       }
      },
      "text/html": [
       "<div id=\"b12d78b2-4496-45c7-a34d-55515da16a80\" style=\"height: 1000px; width: 1000px;\" class=\"plotly-graph-div\"></div><script type=\"text/javascript\">require([\"plotly\"], function(Plotly) { window.PLOTLYENV=window.PLOTLYENV || {};window.PLOTLYENV.BASE_URL=\"https://plot.ly\";Plotly.newPlot(\"b12d78b2-4496-45c7-a34d-55515da16a80\", [{\"marker\": {\"color\": \"rgb(158,202,225)\", \"line\": {\"color\": \"rgb(8,48,107)\", \"width\": 1.5}}, \"opacity\": 0.6, \"orientation\": \"h\", \"text\": [0.6, 0.08, 0.06, 0.06, 0.04, 0.04, 0.04, 0.02, 0.02, 0.02, 0.02, 0.0, 0.0, 0.0], \"textposition\": \"outside\", \"x\": [0.6, 0.08, 0.06, 0.06, 0.04, 0.04, 0.04, 0.02, 0.02, 0.02, 0.02, 0.0, 0.0, 0.0], \"y\": [\"http_header_content-length\", \"http_header_content-encoding_gzip\", \"http_header_content-language_text/html\", \"http_header_server_nginx\", \"http_header_cache-control_set_max-age\", \"http_header_cache-control_set_no-store\", \"http_header_server_apache\", \"http_header_cache-control_set_private\", \"http_header_cache-control_set_public\", \"http_header_strict-transport-security_max-age\", \"http_header_x-cintent-type-options_nosniff\", \"http_header_cache-control_set_must-revalidate\", \"http_header_cache-control_set_no-cache\", \"http_header_x-xss-enabled\"], \"type\": \"bar\", \"uid\": \"17fed6f6-f64b-4eaf-8a5a-f02cc096fe15\"}], {\"autosize\": false, \"height\": 1000, \"width\": 1000, \"xaxis\": {\"tickfont\": {\"color\": \"black\", \"size\": 12}, \"title\": \"Feature Importances\"}, \"yaxis\": {\"automargin\": true}}, {\"showLink\": true, \"linkText\": \"Export to plot.ly\", \"plotlyServerURL\": \"https://plot.ly\"})});</script>"
      ],
      "text/vnd.plotly.v1+html": [
       "<div id=\"b12d78b2-4496-45c7-a34d-55515da16a80\" style=\"height: 1000px; width: 1000px;\" class=\"plotly-graph-div\"></div><script type=\"text/javascript\">require([\"plotly\"], function(Plotly) { window.PLOTLYENV=window.PLOTLYENV || {};window.PLOTLYENV.BASE_URL=\"https://plot.ly\";Plotly.newPlot(\"b12d78b2-4496-45c7-a34d-55515da16a80\", [{\"marker\": {\"color\": \"rgb(158,202,225)\", \"line\": {\"color\": \"rgb(8,48,107)\", \"width\": 1.5}}, \"opacity\": 0.6, \"orientation\": \"h\", \"text\": [0.6, 0.08, 0.06, 0.06, 0.04, 0.04, 0.04, 0.02, 0.02, 0.02, 0.02, 0.0, 0.0, 0.0], \"textposition\": \"outside\", \"x\": [0.6, 0.08, 0.06, 0.06, 0.04, 0.04, 0.04, 0.02, 0.02, 0.02, 0.02, 0.0, 0.0, 0.0], \"y\": [\"http_header_content-length\", \"http_header_content-encoding_gzip\", \"http_header_content-language_text/html\", \"http_header_server_nginx\", \"http_header_cache-control_set_max-age\", \"http_header_cache-control_set_no-store\", \"http_header_server_apache\", \"http_header_cache-control_set_private\", \"http_header_cache-control_set_public\", \"http_header_strict-transport-security_max-age\", \"http_header_x-cintent-type-options_nosniff\", \"http_header_cache-control_set_must-revalidate\", \"http_header_cache-control_set_no-cache\", \"http_header_x-xss-enabled\"], \"type\": \"bar\", \"uid\": \"17fed6f6-f64b-4eaf-8a5a-f02cc096fe15\"}], {\"autosize\": false, \"height\": 1000, \"width\": 1000, \"xaxis\": {\"tickfont\": {\"color\": \"black\", \"size\": 12}, \"title\": \"Feature Importances\"}, \"yaxis\": {\"automargin\": true}}, {\"showLink\": true, \"linkText\": \"Export to plot.ly\", \"plotlyServerURL\": \"https://plot.ly\"})});</script>"
      ]
     },
     "metadata": {},
     "output_type": "display_data"
    },
    {
     "name": "stdout",
     "output_type": "stream",
     "text": [
      "\n",
      "\n",
      "\u001b[1mGradientBoosting Classifier\u001b[0m\n",
      "Accuracy of the model for training data is: 0.883072238094\n",
      "Confusion Matrix for training data is:\n"
     ]
    },
    {
     "data": {
      "text/plain": [
       "Predicted  False   True  __all__\n",
       "Actual                          \n",
       "False      27481   4372    31853\n",
       "True        3077  28776    31853\n",
       "__all__    30558  33148    63706"
      ]
     },
     "metadata": {},
     "output_type": "display_data"
    },
    {
     "name": "stdout",
     "output_type": "stream",
     "text": [
      "Accuracy of the model for test data is: 0.868730920192\n",
      "Confusion Matrix for test data is:\n"
     ]
    },
    {
     "data": {
      "text/plain": [
       "Predicted  False  True  __all__\n",
       "Actual                         \n",
       "False       6902  1080     7982\n",
       "True         124  1066     1190\n",
       "__all__     7026  2146     9172"
      ]
     },
     "metadata": {},
     "output_type": "display_data"
    },
    {
     "data": {
      "application/vnd.plotly.v1+json": {
       "config": {
        "linkText": "Export to plot.ly",
        "plotlyServerURL": "https://plot.ly",
        "showLink": true
       },
       "data": [
        {
         "marker": {
          "color": "rgb(158,202,225)",
          "line": {
           "color": "rgb(8,48,107)",
           "width": 1.5
          }
         },
         "opacity": 0.6,
         "orientation": "h",
         "text": [
          0.6193,
          0.2132,
          0.0406,
          0.0334,
          0.032,
          0.0148,
          0.0134,
          0.0088,
          0.007,
          0.0057,
          0.0054,
          0.0027,
          0.0024,
          0.0011
         ],
         "textposition": "outside",
         "type": "bar",
         "uid": "d751a069-6c21-4c75-90a1-1e6226be8f4f",
         "x": [
          0.6192510715157222,
          0.2131764945577135,
          0.04063381844304778,
          0.033434037291370754,
          0.03201492491426904,
          0.01484781762225948,
          0.013350143252262577,
          0.008847479177207835,
          0.007042512033983942,
          0.005663886408225301,
          0.005442715587953501,
          0.002746391228830696,
          0.002418848103212014,
          0.0011298598639415873
         ],
         "y": [
          "http_header_content-encoding_gzip",
          "http_header_content-length",
          "http_header_server_apache",
          "http_header_content-language_text/html",
          "http_header_cache-control_set_max-age",
          "http_header_cache-control_set_no-cache",
          "http_header_server_nginx",
          "http_header_strict-transport-security_max-age",
          "http_header_cache-control_set_no-store",
          "http_header_cache-control_set_private",
          "http_header_x-cintent-type-options_nosniff",
          "http_header_x-xss-enabled",
          "http_header_cache-control_set_must-revalidate",
          "http_header_cache-control_set_public"
         ]
        }
       ],
       "layout": {
        "autosize": false,
        "height": 1000,
        "width": 1000,
        "xaxis": {
         "tickfont": {
          "color": "black",
          "size": 12
         },
         "title": "Feature Importances"
        },
        "yaxis": {
         "automargin": true
        }
       }
      },
      "text/html": [
       "<div id=\"367b1e50-a6e0-4098-8f59-ec92a121856d\" style=\"height: 1000px; width: 1000px;\" class=\"plotly-graph-div\"></div><script type=\"text/javascript\">require([\"plotly\"], function(Plotly) { window.PLOTLYENV=window.PLOTLYENV || {};window.PLOTLYENV.BASE_URL=\"https://plot.ly\";Plotly.newPlot(\"367b1e50-a6e0-4098-8f59-ec92a121856d\", [{\"marker\": {\"color\": \"rgb(158,202,225)\", \"line\": {\"color\": \"rgb(8,48,107)\", \"width\": 1.5}}, \"opacity\": 0.6, \"orientation\": \"h\", \"text\": [0.6193, 0.2132, 0.0406, 0.0334, 0.032, 0.0148, 0.0134, 0.0088, 0.007, 0.0057, 0.0054, 0.0027, 0.0024, 0.0011], \"textposition\": \"outside\", \"x\": [0.6192510715157222, 0.2131764945577135, 0.04063381844304778, 0.033434037291370754, 0.03201492491426904, 0.01484781762225948, 0.013350143252262577, 0.008847479177207835, 0.007042512033983942, 0.005663886408225301, 0.005442715587953501, 0.002746391228830696, 0.002418848103212014, 0.0011298598639415873], \"y\": [\"http_header_content-encoding_gzip\", \"http_header_content-length\", \"http_header_server_apache\", \"http_header_content-language_text/html\", \"http_header_cache-control_set_max-age\", \"http_header_cache-control_set_no-cache\", \"http_header_server_nginx\", \"http_header_strict-transport-security_max-age\", \"http_header_cache-control_set_no-store\", \"http_header_cache-control_set_private\", \"http_header_x-cintent-type-options_nosniff\", \"http_header_x-xss-enabled\", \"http_header_cache-control_set_must-revalidate\", \"http_header_cache-control_set_public\"], \"type\": \"bar\", \"uid\": \"d751a069-6c21-4c75-90a1-1e6226be8f4f\"}], {\"autosize\": false, \"height\": 1000, \"width\": 1000, \"xaxis\": {\"tickfont\": {\"color\": \"black\", \"size\": 12}, \"title\": \"Feature Importances\"}, \"yaxis\": {\"automargin\": true}}, {\"showLink\": true, \"linkText\": \"Export to plot.ly\", \"plotlyServerURL\": \"https://plot.ly\"})});</script>"
      ],
      "text/vnd.plotly.v1+html": [
       "<div id=\"367b1e50-a6e0-4098-8f59-ec92a121856d\" style=\"height: 1000px; width: 1000px;\" class=\"plotly-graph-div\"></div><script type=\"text/javascript\">require([\"plotly\"], function(Plotly) { window.PLOTLYENV=window.PLOTLYENV || {};window.PLOTLYENV.BASE_URL=\"https://plot.ly\";Plotly.newPlot(\"367b1e50-a6e0-4098-8f59-ec92a121856d\", [{\"marker\": {\"color\": \"rgb(158,202,225)\", \"line\": {\"color\": \"rgb(8,48,107)\", \"width\": 1.5}}, \"opacity\": 0.6, \"orientation\": \"h\", \"text\": [0.6193, 0.2132, 0.0406, 0.0334, 0.032, 0.0148, 0.0134, 0.0088, 0.007, 0.0057, 0.0054, 0.0027, 0.0024, 0.0011], \"textposition\": \"outside\", \"x\": [0.6192510715157222, 0.2131764945577135, 0.04063381844304778, 0.033434037291370754, 0.03201492491426904, 0.01484781762225948, 0.013350143252262577, 0.008847479177207835, 0.007042512033983942, 0.005663886408225301, 0.005442715587953501, 0.002746391228830696, 0.002418848103212014, 0.0011298598639415873], \"y\": [\"http_header_content-encoding_gzip\", \"http_header_content-length\", \"http_header_server_apache\", \"http_header_content-language_text/html\", \"http_header_cache-control_set_max-age\", \"http_header_cache-control_set_no-cache\", \"http_header_server_nginx\", \"http_header_strict-transport-security_max-age\", \"http_header_cache-control_set_no-store\", \"http_header_cache-control_set_private\", \"http_header_x-cintent-type-options_nosniff\", \"http_header_x-xss-enabled\", \"http_header_cache-control_set_must-revalidate\", \"http_header_cache-control_set_public\"], \"type\": \"bar\", \"uid\": \"d751a069-6c21-4c75-90a1-1e6226be8f4f\"}], {\"autosize\": false, \"height\": 1000, \"width\": 1000, \"xaxis\": {\"tickfont\": {\"color\": \"black\", \"size\": 12}, \"title\": \"Feature Importances\"}, \"yaxis\": {\"automargin\": true}}, {\"showLink\": true, \"linkText\": \"Export to plot.ly\", \"plotlyServerURL\": \"https://plot.ly\"})});</script>"
      ]
     },
     "metadata": {},
     "output_type": "display_data"
    },
    {
     "name": "stdout",
     "output_type": "stream",
     "text": [
      "\n",
      "\n",
      "\u001b[1mExtraTree Classifier\u001b[0m\n",
      "Accuracy of the model for training data is: 0.922362100901\n",
      "Confusion Matrix for training data is:\n"
     ]
    },
    {
     "data": {
      "text/plain": [
       "Predicted  False   True  __all__\n",
       "Actual                          \n",
       "False      28741   3112    31853\n",
       "True        1834  30019    31853\n",
       "__all__    30575  33131    63706"
      ]
     },
     "metadata": {},
     "output_type": "display_data"
    },
    {
     "name": "stdout",
     "output_type": "stream",
     "text": [
      "Accuracy of the model for test data is: 0.885412123855\n",
      "Confusion Matrix for test data is:\n"
     ]
    },
    {
     "data": {
      "text/plain": [
       "Predicted  False  True  __all__\n",
       "Actual                         \n",
       "False       7053   929     7982\n",
       "True         122  1068     1190\n",
       "__all__     7175  1997     9172"
      ]
     },
     "metadata": {},
     "output_type": "display_data"
    },
    {
     "data": {
      "application/vnd.plotly.v1+json": {
       "config": {
        "linkText": "Export to plot.ly",
        "plotlyServerURL": "https://plot.ly",
        "showLink": true
       },
       "data": [
        {
         "marker": {
          "color": "rgb(158,202,225)",
          "line": {
           "color": "rgb(8,48,107)",
           "width": 1.5
          }
         },
         "opacity": 0.6,
         "orientation": "h",
         "text": [
          0.3141,
          0.1876,
          0.1244,
          0.083,
          0.0526,
          0.0501,
          0.0409,
          0.0399,
          0.0238,
          0.0191,
          0.0188,
          0.017,
          0.0166,
          0.0123
         ],
         "textposition": "outside",
         "type": "bar",
         "uid": "163b1885-090d-417b-8b99-206e7143c56b",
         "x": [
          0.3140843920536002,
          0.18760790242436898,
          0.12436463723930484,
          0.08296315345032715,
          0.05258515511034458,
          0.05012731167970328,
          0.04088897683562186,
          0.03986641617881383,
          0.023835057728175808,
          0.01912429941723574,
          0.018766644212051636,
          0.016964316119276422,
          0.016557571430141096,
          0.012264166121034594
         ],
         "y": [
          "http_header_content-encoding_gzip",
          "http_header_content-length",
          "http_header_content-language_text/html",
          "http_header_server_apache",
          "http_header_cache-control_set_max-age",
          "http_header_server_nginx",
          "http_header_cache-control_set_no-cache",
          "http_header_strict-transport-security_max-age",
          "http_header_cache-control_set_must-revalidate",
          "http_header_cache-control_set_public",
          "http_header_x-xss-enabled",
          "http_header_x-cintent-type-options_nosniff",
          "http_header_cache-control_set_private",
          "http_header_cache-control_set_no-store"
         ]
        }
       ],
       "layout": {
        "autosize": false,
        "height": 1000,
        "width": 1000,
        "xaxis": {
         "tickfont": {
          "color": "black",
          "size": 12
         },
         "title": "Feature Importances"
        },
        "yaxis": {
         "automargin": true
        }
       }
      },
      "text/html": [
       "<div id=\"3b6db3a7-1d21-4f61-9e12-e23fc9832f21\" style=\"height: 1000px; width: 1000px;\" class=\"plotly-graph-div\"></div><script type=\"text/javascript\">require([\"plotly\"], function(Plotly) { window.PLOTLYENV=window.PLOTLYENV || {};window.PLOTLYENV.BASE_URL=\"https://plot.ly\";Plotly.newPlot(\"3b6db3a7-1d21-4f61-9e12-e23fc9832f21\", [{\"marker\": {\"color\": \"rgb(158,202,225)\", \"line\": {\"color\": \"rgb(8,48,107)\", \"width\": 1.5}}, \"opacity\": 0.6, \"orientation\": \"h\", \"text\": [0.3141, 0.1876, 0.1244, 0.083, 0.0526, 0.0501, 0.0409, 0.0399, 0.0238, 0.0191, 0.0188, 0.017, 0.0166, 0.0123], \"textposition\": \"outside\", \"x\": [0.3140843920536002, 0.18760790242436898, 0.12436463723930484, 0.08296315345032715, 0.05258515511034458, 0.05012731167970328, 0.04088897683562186, 0.03986641617881383, 0.023835057728175808, 0.01912429941723574, 0.018766644212051636, 0.016964316119276422, 0.016557571430141096, 0.012264166121034594], \"y\": [\"http_header_content-encoding_gzip\", \"http_header_content-length\", \"http_header_content-language_text/html\", \"http_header_server_apache\", \"http_header_cache-control_set_max-age\", \"http_header_server_nginx\", \"http_header_cache-control_set_no-cache\", \"http_header_strict-transport-security_max-age\", \"http_header_cache-control_set_must-revalidate\", \"http_header_cache-control_set_public\", \"http_header_x-xss-enabled\", \"http_header_x-cintent-type-options_nosniff\", \"http_header_cache-control_set_private\", \"http_header_cache-control_set_no-store\"], \"type\": \"bar\", \"uid\": \"163b1885-090d-417b-8b99-206e7143c56b\"}], {\"autosize\": false, \"height\": 1000, \"width\": 1000, \"xaxis\": {\"tickfont\": {\"color\": \"black\", \"size\": 12}, \"title\": \"Feature Importances\"}, \"yaxis\": {\"automargin\": true}}, {\"showLink\": true, \"linkText\": \"Export to plot.ly\", \"plotlyServerURL\": \"https://plot.ly\"})});</script>"
      ],
      "text/vnd.plotly.v1+html": [
       "<div id=\"3b6db3a7-1d21-4f61-9e12-e23fc9832f21\" style=\"height: 1000px; width: 1000px;\" class=\"plotly-graph-div\"></div><script type=\"text/javascript\">require([\"plotly\"], function(Plotly) { window.PLOTLYENV=window.PLOTLYENV || {};window.PLOTLYENV.BASE_URL=\"https://plot.ly\";Plotly.newPlot(\"3b6db3a7-1d21-4f61-9e12-e23fc9832f21\", [{\"marker\": {\"color\": \"rgb(158,202,225)\", \"line\": {\"color\": \"rgb(8,48,107)\", \"width\": 1.5}}, \"opacity\": 0.6, \"orientation\": \"h\", \"text\": [0.3141, 0.1876, 0.1244, 0.083, 0.0526, 0.0501, 0.0409, 0.0399, 0.0238, 0.0191, 0.0188, 0.017, 0.0166, 0.0123], \"textposition\": \"outside\", \"x\": [0.3140843920536002, 0.18760790242436898, 0.12436463723930484, 0.08296315345032715, 0.05258515511034458, 0.05012731167970328, 0.04088897683562186, 0.03986641617881383, 0.023835057728175808, 0.01912429941723574, 0.018766644212051636, 0.016964316119276422, 0.016557571430141096, 0.012264166121034594], \"y\": [\"http_header_content-encoding_gzip\", \"http_header_content-length\", \"http_header_content-language_text/html\", \"http_header_server_apache\", \"http_header_cache-control_set_max-age\", \"http_header_server_nginx\", \"http_header_cache-control_set_no-cache\", \"http_header_strict-transport-security_max-age\", \"http_header_cache-control_set_must-revalidate\", \"http_header_cache-control_set_public\", \"http_header_x-xss-enabled\", \"http_header_x-cintent-type-options_nosniff\", \"http_header_cache-control_set_private\", \"http_header_cache-control_set_no-store\"], \"type\": \"bar\", \"uid\": \"163b1885-090d-417b-8b99-206e7143c56b\"}], {\"autosize\": false, \"height\": 1000, \"width\": 1000, \"xaxis\": {\"tickfont\": {\"color\": \"black\", \"size\": 12}, \"title\": \"Feature Importances\"}, \"yaxis\": {\"automargin\": true}}, {\"showLink\": true, \"linkText\": \"Export to plot.ly\", \"plotlyServerURL\": \"https://plot.ly\"})});</script>"
      ]
     },
     "metadata": {},
     "output_type": "display_data"
    },
    {
     "name": "stdout",
     "output_type": "stream",
     "text": [
      "\n",
      "\n",
      "\u001b[1mBagging Classifier\u001b[0m\n",
      "Accuracy of the model for training data is: 0.919316861834\n",
      "Confusion Matrix for training data is:\n"
     ]
    },
    {
     "data": {
      "text/plain": [
       "Predicted  False   True  __all__\n",
       "Actual                          \n",
       "False      28698   3155    31853\n",
       "True        1985  29868    31853\n",
       "__all__    30683  33023    63706"
      ]
     },
     "metadata": {},
     "output_type": "display_data"
    },
    {
     "name": "stdout",
     "output_type": "stream",
     "text": [
      "Accuracy of the model for test data is: 0.886611426079\n",
      "Confusion Matrix for test data is:\n"
     ]
    },
    {
     "data": {
      "text/plain": [
       "Predicted  False  True  __all__\n",
       "Actual                         \n",
       "False       7064   918     7982\n",
       "True         122  1068     1190\n",
       "__all__     7186  1986     9172"
      ]
     },
     "metadata": {},
     "output_type": "display_data"
    },
    {
     "name": "stdout",
     "output_type": "stream",
     "text": [
      "\n",
      "\n",
      "\u001b[1mNeural Network-1\u001b[0m\n",
      "The accuracy of the model on training data is: 0.886823847038\n"
     ]
    },
    {
     "data": {
      "text/plain": [
       "Predicted  False   True  __all__\n",
       "Actual                          \n",
       "False      27749   4104    31853\n",
       "True        3106  28747    31853\n",
       "__all__    30855  32851    63706"
      ]
     },
     "metadata": {},
     "output_type": "display_data"
    },
    {
     "name": "stdout",
     "output_type": "stream",
     "text": [
      "The accuracy of the model on test data is: 0.875163541212\n"
     ]
    },
    {
     "data": {
      "text/plain": [
       "Predicted  False  True  __all__\n",
       "Actual                         \n",
       "False       6962  1020     7982\n",
       "True         125  1065     1190\n",
       "__all__     7087  2085     9172"
      ]
     },
     "metadata": {},
     "output_type": "display_data"
    },
    {
     "name": "stdout",
     "output_type": "stream",
     "text": [
      "\n",
      "\n"
     ]
    }
   ],
   "source": [
    "feat_imp=[None]*4\n",
    "j=0\n",
    "for i in range(0,8):\n",
    "    if i>=2 and i<=5:\n",
    "        model,cm_train,cm_test,acc_train,acc_test,roc_auc,feat_imp[j],mcc=f[i](X_train,Y_train,scaled_X_test,test_Y,columns[:-2])\n",
    "        j=j+1\n",
    "    else:\n",
    "        model,cm_train,cm_test,acc_train,acc_test,roc_auc,mcc=f[i](X_train,Y_train,scaled_X_test,test_Y)\n",
    "    table_80_80_train.loc[i]=   ([acc_train,cm_train.TP,cm_train.TN,cm_train.FP,cm_train.FN,cm_train.FPR,cm_train.FNR])\n",
    "    table_80_80_test.loc[i] =   ([acc_test ,cm_test.TP, cm_test.TN, cm_test.FP, cm_test.FN, cm_test.FPR, cm_test.FNR,roc_auc,mcc])\n",
    "    print(\"\\n\")"
   ]
  },
  {
   "cell_type": "markdown",
   "metadata": {},
   "source": [
    "### <a id='2.A' style=\"text-decoration : none; color : #000000;\"> A Results</a>"
   ]
  },
  {
   "cell_type": "code",
   "execution_count": 18,
   "metadata": {},
   "outputs": [
    {
     "data": {
      "application/vnd.plotly.v1+json": {
       "config": {
        "linkText": "Export to plot.ly",
        "plotlyServerURL": "https://plot.ly",
        "showLink": true
       },
       "data": [
        {
         "mode": "lines",
         "name": "KNN_model",
         "type": "scatter",
         "uid": "7f2883b4-3f7d-44b8-97c6-6569a608187b",
         "x": [
          "accuracy",
          "FPR",
          "FNR",
          "auc"
         ],
         "y": [
          0.8877017008286088,
          0.03169631671260336,
          0.6529411764705882,
          0.6576812534084043
         ]
        },
        {
         "mode": "lines+markers",
         "name": "Logistic Regression",
         "type": "scatter",
         "uid": "188f3a04-8e9d-4602-8121-dc7a19529e3a",
         "x": [
          "accuracy",
          "FPR",
          "FNR",
          "auc"
         ],
         "y": [
          0.8284997819450501,
          0.17213730894512652,
          0.1672268907563025,
          0.8303179001492854
         ]
        },
        {
         "marker": {
          "symbol": "x"
         },
         "mode": "lines+markers",
         "name": "Random Forest",
         "type": "scatter",
         "uid": "ea26c124-bc2e-4235-ab21-f02a6754cdae",
         "x": [
          "accuracy",
          "FPR",
          "FNR",
          "auc"
         ],
         "y": [
          0.8878107283035325,
          0.11338010523678275,
          0.10420168067226891,
          0.8912091070454741
         ]
        },
        {
         "mode": "lines",
         "name": "Ada Boost",
         "type": "scatter",
         "uid": "21c03d7c-9aaa-4080-91cf-307a50dcff58",
         "x": [
          "accuracy",
          "FPR",
          "FNR",
          "auc"
         ],
         "y": [
          0.8314435237679896,
          0.1765221748935104,
          0.11512605042016806,
          0.8541758873431607
         ]
        },
        {
         "mode": "lines+markers",
         "name": "GradientBoosting",
         "type": "scatter",
         "uid": "0322ea62-61a3-475a-994c-40f171737438",
         "x": [
          "accuracy",
          "FPR",
          "FNR",
          "auc"
         ],
         "y": [
          0.8687309201918884,
          0.1353044349787021,
          0.10420168067226891,
          0.8802469421745146
         ]
        },
        {
         "marker": {
          "symbol": "x"
         },
         "mode": "lines+markers",
         "name": "ExtraTree Classifier",
         "type": "scatter",
         "uid": "03b6cb87-e58d-4bd2-a858-f3e6cbffeb15",
         "x": [
          "accuracy",
          "FPR",
          "FNR",
          "auc"
         ],
         "y": [
          0.8854121238552115,
          0.1163868704585317,
          0.10252100840336134,
          0.8905460605690535
         ]
        },
        {
         "marker": {
          "symbol": "x"
         },
         "mode": "lines+markers",
         "name": "Bagging",
         "type": "scatter",
         "uid": "e6b54d0f-e435-4751-95a6-b18a3a51a11a",
         "x": [
          "accuracy",
          "FPR",
          "FNR",
          "auc"
         ],
         "y": [
          0.886611426079372,
          0.11500876973189676,
          0.10252100840336134,
          0.8912351109323708
         ]
        },
        {
         "marker": {
          "symbol": "x"
         },
         "mode": "lines+markers",
         "name": "Neural Network",
         "type": "scatter",
         "uid": "d84603c3-e3bc-4728-aa72-1c3ce949f11d",
         "x": [
          "accuracy",
          "FPR",
          "FNR",
          "auc"
         ],
         "y": [
          0.8751635412123855,
          0.12778752192432974,
          0.10504201680672269,
          0.8912351109323708
         ]
        }
       ],
       "layout": {
        "title": "Result comparision for Features selected in Section 1",
        "yaxis": {
         "dtick": 0.05,
         "tick0": 0
        }
       }
      },
      "text/html": [
       "<div id=\"e49d18b5-cdb4-4d6a-abf0-a59ba28924e6\" style=\"height: 525px; width: 100%;\" class=\"plotly-graph-div\"></div><script type=\"text/javascript\">require([\"plotly\"], function(Plotly) { window.PLOTLYENV=window.PLOTLYENV || {};window.PLOTLYENV.BASE_URL=\"https://plot.ly\";Plotly.newPlot(\"e49d18b5-cdb4-4d6a-abf0-a59ba28924e6\", [{\"mode\": \"lines\", \"name\": \"KNN_model\", \"x\": [\"accuracy\", \"FPR\", \"FNR\", \"auc\"], \"y\": [0.8877017008286088, 0.03169631671260336, 0.6529411764705882, 0.6576812534084043], \"type\": \"scatter\", \"uid\": \"7f2883b4-3f7d-44b8-97c6-6569a608187b\"}, {\"mode\": \"lines+markers\", \"name\": \"Logistic Regression\", \"x\": [\"accuracy\", \"FPR\", \"FNR\", \"auc\"], \"y\": [0.8284997819450501, 0.17213730894512652, 0.1672268907563025, 0.8303179001492854], \"type\": \"scatter\", \"uid\": \"188f3a04-8e9d-4602-8121-dc7a19529e3a\"}, {\"marker\": {\"symbol\": \"x\"}, \"mode\": \"lines+markers\", \"name\": \"Random Forest\", \"x\": [\"accuracy\", \"FPR\", \"FNR\", \"auc\"], \"y\": [0.8878107283035325, 0.11338010523678275, 0.10420168067226891, 0.8912091070454741], \"type\": \"scatter\", \"uid\": \"ea26c124-bc2e-4235-ab21-f02a6754cdae\"}, {\"mode\": \"lines\", \"name\": \"Ada Boost\", \"x\": [\"accuracy\", \"FPR\", \"FNR\", \"auc\"], \"y\": [0.8314435237679896, 0.1765221748935104, 0.11512605042016806, 0.8541758873431607], \"type\": \"scatter\", \"uid\": \"21c03d7c-9aaa-4080-91cf-307a50dcff58\"}, {\"mode\": \"lines+markers\", \"name\": \"GradientBoosting\", \"x\": [\"accuracy\", \"FPR\", \"FNR\", \"auc\"], \"y\": [0.8687309201918884, 0.1353044349787021, 0.10420168067226891, 0.8802469421745146], \"type\": \"scatter\", \"uid\": \"0322ea62-61a3-475a-994c-40f171737438\"}, {\"marker\": {\"symbol\": \"x\"}, \"mode\": \"lines+markers\", \"name\": \"ExtraTree Classifier\", \"x\": [\"accuracy\", \"FPR\", \"FNR\", \"auc\"], \"y\": [0.8854121238552115, 0.1163868704585317, 0.10252100840336134, 0.8905460605690535], \"type\": \"scatter\", \"uid\": \"03b6cb87-e58d-4bd2-a858-f3e6cbffeb15\"}, {\"marker\": {\"symbol\": \"x\"}, \"mode\": \"lines+markers\", \"name\": \"Bagging\", \"x\": [\"accuracy\", \"FPR\", \"FNR\", \"auc\"], \"y\": [0.886611426079372, 0.11500876973189676, 0.10252100840336134, 0.8912351109323708], \"type\": \"scatter\", \"uid\": \"e6b54d0f-e435-4751-95a6-b18a3a51a11a\"}, {\"marker\": {\"symbol\": \"x\"}, \"mode\": \"lines+markers\", \"name\": \"Neural Network\", \"x\": [\"accuracy\", \"FPR\", \"FNR\", \"auc\"], \"y\": [0.8751635412123855, 0.12778752192432974, 0.10504201680672269, 0.8912351109323708], \"type\": \"scatter\", \"uid\": \"d84603c3-e3bc-4728-aa72-1c3ce949f11d\"}], {\"title\": \"Result comparision for Features selected in Section 1\", \"yaxis\": {\"dtick\": 0.05, \"tick0\": 0}}, {\"showLink\": true, \"linkText\": \"Export to plot.ly\", \"plotlyServerURL\": \"https://plot.ly\"})});</script><script type=\"text/javascript\">window.addEventListener(\"resize\", function(){window._Plotly.Plots.resize(document.getElementById(\"e49d18b5-cdb4-4d6a-abf0-a59ba28924e6\"));});</script>"
      ],
      "text/vnd.plotly.v1+html": [
       "<div id=\"e49d18b5-cdb4-4d6a-abf0-a59ba28924e6\" style=\"height: 525px; width: 100%;\" class=\"plotly-graph-div\"></div><script type=\"text/javascript\">require([\"plotly\"], function(Plotly) { window.PLOTLYENV=window.PLOTLYENV || {};window.PLOTLYENV.BASE_URL=\"https://plot.ly\";Plotly.newPlot(\"e49d18b5-cdb4-4d6a-abf0-a59ba28924e6\", [{\"mode\": \"lines\", \"name\": \"KNN_model\", \"x\": [\"accuracy\", \"FPR\", \"FNR\", \"auc\"], \"y\": [0.8877017008286088, 0.03169631671260336, 0.6529411764705882, 0.6576812534084043], \"type\": \"scatter\", \"uid\": \"7f2883b4-3f7d-44b8-97c6-6569a608187b\"}, {\"mode\": \"lines+markers\", \"name\": \"Logistic Regression\", \"x\": [\"accuracy\", \"FPR\", \"FNR\", \"auc\"], \"y\": [0.8284997819450501, 0.17213730894512652, 0.1672268907563025, 0.8303179001492854], \"type\": \"scatter\", \"uid\": \"188f3a04-8e9d-4602-8121-dc7a19529e3a\"}, {\"marker\": {\"symbol\": \"x\"}, \"mode\": \"lines+markers\", \"name\": \"Random Forest\", \"x\": [\"accuracy\", \"FPR\", \"FNR\", \"auc\"], \"y\": [0.8878107283035325, 0.11338010523678275, 0.10420168067226891, 0.8912091070454741], \"type\": \"scatter\", \"uid\": \"ea26c124-bc2e-4235-ab21-f02a6754cdae\"}, {\"mode\": \"lines\", \"name\": \"Ada Boost\", \"x\": [\"accuracy\", \"FPR\", \"FNR\", \"auc\"], \"y\": [0.8314435237679896, 0.1765221748935104, 0.11512605042016806, 0.8541758873431607], \"type\": \"scatter\", \"uid\": \"21c03d7c-9aaa-4080-91cf-307a50dcff58\"}, {\"mode\": \"lines+markers\", \"name\": \"GradientBoosting\", \"x\": [\"accuracy\", \"FPR\", \"FNR\", \"auc\"], \"y\": [0.8687309201918884, 0.1353044349787021, 0.10420168067226891, 0.8802469421745146], \"type\": \"scatter\", \"uid\": \"0322ea62-61a3-475a-994c-40f171737438\"}, {\"marker\": {\"symbol\": \"x\"}, \"mode\": \"lines+markers\", \"name\": \"ExtraTree Classifier\", \"x\": [\"accuracy\", \"FPR\", \"FNR\", \"auc\"], \"y\": [0.8854121238552115, 0.1163868704585317, 0.10252100840336134, 0.8905460605690535], \"type\": \"scatter\", \"uid\": \"03b6cb87-e58d-4bd2-a858-f3e6cbffeb15\"}, {\"marker\": {\"symbol\": \"x\"}, \"mode\": \"lines+markers\", \"name\": \"Bagging\", \"x\": [\"accuracy\", \"FPR\", \"FNR\", \"auc\"], \"y\": [0.886611426079372, 0.11500876973189676, 0.10252100840336134, 0.8912351109323708], \"type\": \"scatter\", \"uid\": \"e6b54d0f-e435-4751-95a6-b18a3a51a11a\"}, {\"marker\": {\"symbol\": \"x\"}, \"mode\": \"lines+markers\", \"name\": \"Neural Network\", \"x\": [\"accuracy\", \"FPR\", \"FNR\", \"auc\"], \"y\": [0.8751635412123855, 0.12778752192432974, 0.10504201680672269, 0.8912351109323708], \"type\": \"scatter\", \"uid\": \"d84603c3-e3bc-4728-aa72-1c3ce949f11d\"}], {\"title\": \"Result comparision for Features selected in Section 1\", \"yaxis\": {\"dtick\": 0.05, \"tick0\": 0}}, {\"showLink\": true, \"linkText\": \"Export to plot.ly\", \"plotlyServerURL\": \"https://plot.ly\"})});</script><script type=\"text/javascript\">window.addEventListener(\"resize\", function(){window._Plotly.Plots.resize(document.getElementById(\"e49d18b5-cdb4-4d6a-abf0-a59ba28924e6\"));});</script>"
      ]
     },
     "metadata": {},
     "output_type": "display_data"
    }
   ],
   "source": [
    "trace0 = go.Scatter(x=table_80_80_test.iloc[0].index.values[[0,5,6,7]],\n",
    "                    y=table_80_80_test.iloc[0].values[[0,5,6,7]],\n",
    "                    mode = 'lines',\n",
    "                    name = 'KNN_model')\n",
    "\n",
    "trace1 = go.Scatter(x=table_80_80_test.iloc[1].index.values[[0,5,6,7]],\n",
    "                    y=table_80_80_test.iloc[1].values[[0,5,6,7]],\n",
    "                    mode = 'lines+markers',\n",
    "                    name = 'Logistic Regression')\n",
    "\n",
    "trace2 = go.Scatter(x=table_80_80_test.iloc[2].index.values[[0,5,6,7]],\n",
    "                    y=table_80_80_test.iloc[2].values[[0,5,6,7]],\n",
    "                    mode = 'lines+markers',marker=dict(symbol='x'),\n",
    "                    name = 'Random Forest')\n",
    "\n",
    "\n",
    "trace3 = go.Scatter(x=table_80_80_test.iloc[3].index.values[[0,5,6,7]],\n",
    "                    y=table_80_80_test.iloc[3].values[[0,5,6,7]],\n",
    "                    mode = 'lines',\n",
    "                    name = 'Ada Boost')\n",
    "\n",
    "trace4 = go.Scatter(x=table_80_80_test.iloc[4].index.values[[0,5,6,7]],\n",
    "                    y=table_80_80_test.iloc[4].values[[0,5,6,7]],\n",
    "                    mode = 'lines+markers',\n",
    "                    name = 'GradientBoosting')\n",
    "\n",
    "trace5 = go.Scatter(x=table_80_80_test.iloc[5].index.values[[0,5,6,7]],\n",
    "                    y=table_80_80_test.iloc[5].values[[0,5,6,7]],\n",
    "                    mode = 'lines+markers',marker=dict(symbol='x'),\n",
    "                    name = 'ExtraTree Classifier')\n",
    "\n",
    "trace6 = go.Scatter(x=table_80_80_test.iloc[6].index.values[[0,5,6,7]],\n",
    "                    y=table_80_80_test.iloc[6].values[[0,5,6,7]],\n",
    "                    mode = 'lines+markers',marker=dict(symbol='x'),\n",
    "                    name = 'Bagging')\n",
    "\n",
    "trace7 = go.Scatter(x=table_80_80_test.iloc[7].index.values[[0,5,6,7]],\n",
    "                    y=table_80_80_test.iloc[7].values[[0,5,6,7]],\n",
    "                    mode = 'lines+markers',marker=dict(symbol='x'),\n",
    "                    name = 'Neural Network')\n",
    "\n",
    "\n",
    "\n",
    "data = [trace0, trace1, trace2, trace3, trace4, trace5, trace6, trace7]\n",
    "layout = go.Layout(yaxis=dict(tick0=0,dtick=0.05),title='Result comparision for Features selected in Section 1')\n",
    "fig = go.Figure(data=data, layout=layout)\n",
    "\n",
    "iplot(fig, filename='Result')"
   ]
  },
  {
   "cell_type": "code",
   "execution_count": 19,
   "metadata": {},
   "outputs": [
    {
     "name": "stdout",
     "output_type": "stream",
     "text": [
      "Training Results\n"
     ]
    },
    {
     "data": {
      "text/html": [
       "<div>\n",
       "<style scoped>\n",
       "    .dataframe tbody tr th:only-of-type {\n",
       "        vertical-align: middle;\n",
       "    }\n",
       "\n",
       "    .dataframe tbody tr th {\n",
       "        vertical-align: top;\n",
       "    }\n",
       "\n",
       "    .dataframe thead th {\n",
       "        text-align: right;\n",
       "    }\n",
       "</style>\n",
       "<table border=\"1\" class=\"dataframe\">\n",
       "  <thead>\n",
       "    <tr style=\"text-align: right;\">\n",
       "      <th></th>\n",
       "      <th>accuracy</th>\n",
       "      <th>TP</th>\n",
       "      <th>TN</th>\n",
       "      <th>FP</th>\n",
       "      <th>FN</th>\n",
       "      <th>FPR</th>\n",
       "      <th>FNR</th>\n",
       "    </tr>\n",
       "    <tr>\n",
       "      <th>index</th>\n",
       "      <th></th>\n",
       "      <th></th>\n",
       "      <th></th>\n",
       "      <th></th>\n",
       "      <th></th>\n",
       "      <th></th>\n",
       "      <th></th>\n",
       "    </tr>\n",
       "  </thead>\n",
       "  <tbody>\n",
       "    <tr>\n",
       "      <th>KNeighborsClassifier</th>\n",
       "      <td>0.669152</td>\n",
       "      <td>11685.0</td>\n",
       "      <td>30944.0</td>\n",
       "      <td>909.0</td>\n",
       "      <td>20168.0</td>\n",
       "      <td>0.028537</td>\n",
       "      <td>0.633159</td>\n",
       "    </tr>\n",
       "    <tr>\n",
       "      <th>LogisticRegression</th>\n",
       "      <td>0.828635</td>\n",
       "      <td>26511.0</td>\n",
       "      <td>26278.0</td>\n",
       "      <td>5575.0</td>\n",
       "      <td>5342.0</td>\n",
       "      <td>0.175023</td>\n",
       "      <td>0.167708</td>\n",
       "    </tr>\n",
       "    <tr>\n",
       "      <th>RandomForestClassifier</th>\n",
       "      <td>0.919411</td>\n",
       "      <td>29879.0</td>\n",
       "      <td>28693.0</td>\n",
       "      <td>3160.0</td>\n",
       "      <td>1974.0</td>\n",
       "      <td>0.099206</td>\n",
       "      <td>0.061972</td>\n",
       "    </tr>\n",
       "    <tr>\n",
       "      <th>AdaBoostClassifier</th>\n",
       "      <td>0.855775</td>\n",
       "      <td>28363.0</td>\n",
       "      <td>26155.0</td>\n",
       "      <td>5698.0</td>\n",
       "      <td>3490.0</td>\n",
       "      <td>0.178884</td>\n",
       "      <td>0.109566</td>\n",
       "    </tr>\n",
       "    <tr>\n",
       "      <th>GradientBoostingClassifier</th>\n",
       "      <td>0.883072</td>\n",
       "      <td>28776.0</td>\n",
       "      <td>27481.0</td>\n",
       "      <td>4372.0</td>\n",
       "      <td>3077.0</td>\n",
       "      <td>0.137256</td>\n",
       "      <td>0.096600</td>\n",
       "    </tr>\n",
       "    <tr>\n",
       "      <th>ExtraTreeClassifier</th>\n",
       "      <td>0.922362</td>\n",
       "      <td>30019.0</td>\n",
       "      <td>28741.0</td>\n",
       "      <td>3112.0</td>\n",
       "      <td>1834.0</td>\n",
       "      <td>0.097699</td>\n",
       "      <td>0.057577</td>\n",
       "    </tr>\n",
       "    <tr>\n",
       "      <th>BaggingClassifier</th>\n",
       "      <td>0.919317</td>\n",
       "      <td>29868.0</td>\n",
       "      <td>28698.0</td>\n",
       "      <td>3155.0</td>\n",
       "      <td>1985.0</td>\n",
       "      <td>0.099049</td>\n",
       "      <td>0.062318</td>\n",
       "    </tr>\n",
       "    <tr>\n",
       "      <th>Neural Network-1</th>\n",
       "      <td>0.886824</td>\n",
       "      <td>28747.0</td>\n",
       "      <td>27749.0</td>\n",
       "      <td>4104.0</td>\n",
       "      <td>3106.0</td>\n",
       "      <td>0.128842</td>\n",
       "      <td>0.097510</td>\n",
       "    </tr>\n",
       "  </tbody>\n",
       "</table>\n",
       "</div>"
      ],
      "text/plain": [
       "                            accuracy       TP       TN      FP       FN  \\\n",
       "index                                                                     \n",
       "KNeighborsClassifier        0.669152  11685.0  30944.0   909.0  20168.0   \n",
       "LogisticRegression          0.828635  26511.0  26278.0  5575.0   5342.0   \n",
       "RandomForestClassifier      0.919411  29879.0  28693.0  3160.0   1974.0   \n",
       "AdaBoostClassifier          0.855775  28363.0  26155.0  5698.0   3490.0   \n",
       "GradientBoostingClassifier  0.883072  28776.0  27481.0  4372.0   3077.0   \n",
       "ExtraTreeClassifier         0.922362  30019.0  28741.0  3112.0   1834.0   \n",
       "BaggingClassifier           0.919317  29868.0  28698.0  3155.0   1985.0   \n",
       "Neural Network-1            0.886824  28747.0  27749.0  4104.0   3106.0   \n",
       "\n",
       "                                 FPR       FNR  \n",
       "index                                           \n",
       "KNeighborsClassifier        0.028537  0.633159  \n",
       "LogisticRegression          0.175023  0.167708  \n",
       "RandomForestClassifier      0.099206  0.061972  \n",
       "AdaBoostClassifier          0.178884  0.109566  \n",
       "GradientBoostingClassifier  0.137256  0.096600  \n",
       "ExtraTreeClassifier         0.097699  0.057577  \n",
       "BaggingClassifier           0.099049  0.062318  \n",
       "Neural Network-1            0.128842  0.097510  "
      ]
     },
     "metadata": {},
     "output_type": "display_data"
    },
    {
     "name": "stdout",
     "output_type": "stream",
     "text": [
      "Test Results\n"
     ]
    },
    {
     "data": {
      "text/html": [
       "<div>\n",
       "<style scoped>\n",
       "    .dataframe tbody tr th:only-of-type {\n",
       "        vertical-align: middle;\n",
       "    }\n",
       "\n",
       "    .dataframe tbody tr th {\n",
       "        vertical-align: top;\n",
       "    }\n",
       "\n",
       "    .dataframe thead th {\n",
       "        text-align: right;\n",
       "    }\n",
       "</style>\n",
       "<table border=\"1\" class=\"dataframe\">\n",
       "  <thead>\n",
       "    <tr style=\"text-align: right;\">\n",
       "      <th></th>\n",
       "      <th>accuracy</th>\n",
       "      <th>TP</th>\n",
       "      <th>TN</th>\n",
       "      <th>FP</th>\n",
       "      <th>FN</th>\n",
       "      <th>FPR</th>\n",
       "      <th>FNR</th>\n",
       "      <th>auc</th>\n",
       "      <th>mcc</th>\n",
       "    </tr>\n",
       "    <tr>\n",
       "      <th>index</th>\n",
       "      <th></th>\n",
       "      <th></th>\n",
       "      <th></th>\n",
       "      <th></th>\n",
       "      <th></th>\n",
       "      <th></th>\n",
       "      <th></th>\n",
       "      <th></th>\n",
       "      <th></th>\n",
       "    </tr>\n",
       "  </thead>\n",
       "  <tbody>\n",
       "    <tr>\n",
       "      <th>KNeighborsClassifier</th>\n",
       "      <td>0.887702</td>\n",
       "      <td>413.0</td>\n",
       "      <td>7729.0</td>\n",
       "      <td>253.0</td>\n",
       "      <td>777.0</td>\n",
       "      <td>0.031696</td>\n",
       "      <td>0.652941</td>\n",
       "      <td>0.657681</td>\n",
       "      <td>0.408357</td>\n",
       "    </tr>\n",
       "    <tr>\n",
       "      <th>LogisticRegression</th>\n",
       "      <td>0.828500</td>\n",
       "      <td>991.0</td>\n",
       "      <td>6608.0</td>\n",
       "      <td>1374.0</td>\n",
       "      <td>199.0</td>\n",
       "      <td>0.172137</td>\n",
       "      <td>0.167227</td>\n",
       "      <td>0.830318</td>\n",
       "      <td>0.507456</td>\n",
       "    </tr>\n",
       "    <tr>\n",
       "      <th>RandomForestClassifier</th>\n",
       "      <td>0.887811</td>\n",
       "      <td>1066.0</td>\n",
       "      <td>7077.0</td>\n",
       "      <td>905.0</td>\n",
       "      <td>124.0</td>\n",
       "      <td>0.113380</td>\n",
       "      <td>0.104202</td>\n",
       "      <td>0.891209</td>\n",
       "      <td>0.640072</td>\n",
       "    </tr>\n",
       "    <tr>\n",
       "      <th>AdaBoostClassifier</th>\n",
       "      <td>0.831444</td>\n",
       "      <td>1053.0</td>\n",
       "      <td>6573.0</td>\n",
       "      <td>1409.0</td>\n",
       "      <td>137.0</td>\n",
       "      <td>0.176522</td>\n",
       "      <td>0.115126</td>\n",
       "      <td>0.854176</td>\n",
       "      <td>0.537122</td>\n",
       "    </tr>\n",
       "    <tr>\n",
       "      <th>GradientBoostingClassifier</th>\n",
       "      <td>0.868731</td>\n",
       "      <td>1066.0</td>\n",
       "      <td>6902.0</td>\n",
       "      <td>1080.0</td>\n",
       "      <td>124.0</td>\n",
       "      <td>0.135304</td>\n",
       "      <td>0.104202</td>\n",
       "      <td>0.880247</td>\n",
       "      <td>0.603610</td>\n",
       "    </tr>\n",
       "    <tr>\n",
       "      <th>ExtraTreeClassifier</th>\n",
       "      <td>0.885412</td>\n",
       "      <td>1068.0</td>\n",
       "      <td>7053.0</td>\n",
       "      <td>929.0</td>\n",
       "      <td>122.0</td>\n",
       "      <td>0.116387</td>\n",
       "      <td>0.102521</td>\n",
       "      <td>0.890546</td>\n",
       "      <td>0.635963</td>\n",
       "    </tr>\n",
       "    <tr>\n",
       "      <th>BaggingClassifier</th>\n",
       "      <td>0.886611</td>\n",
       "      <td>1068.0</td>\n",
       "      <td>7064.0</td>\n",
       "      <td>918.0</td>\n",
       "      <td>122.0</td>\n",
       "      <td>0.115009</td>\n",
       "      <td>0.102521</td>\n",
       "      <td>0.891235</td>\n",
       "      <td>0.638357</td>\n",
       "    </tr>\n",
       "    <tr>\n",
       "      <th>Neural Network-1</th>\n",
       "      <td>0.875164</td>\n",
       "      <td>1065.0</td>\n",
       "      <td>6962.0</td>\n",
       "      <td>1020.0</td>\n",
       "      <td>125.0</td>\n",
       "      <td>0.127788</td>\n",
       "      <td>0.105042</td>\n",
       "      <td>0.891235</td>\n",
       "      <td>0.615088</td>\n",
       "    </tr>\n",
       "  </tbody>\n",
       "</table>\n",
       "</div>"
      ],
      "text/plain": [
       "                            accuracy      TP      TN      FP     FN       FPR  \\\n",
       "index                                                                           \n",
       "KNeighborsClassifier        0.887702   413.0  7729.0   253.0  777.0  0.031696   \n",
       "LogisticRegression          0.828500   991.0  6608.0  1374.0  199.0  0.172137   \n",
       "RandomForestClassifier      0.887811  1066.0  7077.0   905.0  124.0  0.113380   \n",
       "AdaBoostClassifier          0.831444  1053.0  6573.0  1409.0  137.0  0.176522   \n",
       "GradientBoostingClassifier  0.868731  1066.0  6902.0  1080.0  124.0  0.135304   \n",
       "ExtraTreeClassifier         0.885412  1068.0  7053.0   929.0  122.0  0.116387   \n",
       "BaggingClassifier           0.886611  1068.0  7064.0   918.0  122.0  0.115009   \n",
       "Neural Network-1            0.875164  1065.0  6962.0  1020.0  125.0  0.127788   \n",
       "\n",
       "                                 FNR       auc       mcc  \n",
       "index                                                     \n",
       "KNeighborsClassifier        0.652941  0.657681  0.408357  \n",
       "LogisticRegression          0.167227  0.830318  0.507456  \n",
       "RandomForestClassifier      0.104202  0.891209  0.640072  \n",
       "AdaBoostClassifier          0.115126  0.854176  0.537122  \n",
       "GradientBoostingClassifier  0.104202  0.880247  0.603610  \n",
       "ExtraTreeClassifier         0.102521  0.890546  0.635963  \n",
       "BaggingClassifier           0.102521  0.891235  0.638357  \n",
       "Neural Network-1            0.105042  0.891235  0.615088  "
      ]
     },
     "metadata": {},
     "output_type": "display_data"
    }
   ],
   "source": [
    "table_80_80_train['index']=ind_columns\n",
    "table_80_80_test['index']=ind_columns\n",
    "\n",
    "\n",
    "table_80_80_test.set_index(['index'],drop=True,inplace=True)\n",
    "table_80_80_train.set_index(['index'],drop=True,inplace=True)\n",
    "\n",
    "print(\"Training Results\")\n",
    "display(table_80_80_train)\n",
    "print(\"Test Results\")\n",
    "display(table_80_80_test)"
   ]
  },
  {
   "cell_type": "markdown",
   "metadata": {},
   "source": [
    "### <a id='2.B' style=\"text-decoration : none; color : #000000;\"> B. Average Feature Importances</a>"
   ]
  },
  {
   "cell_type": "code",
   "execution_count": 20,
   "metadata": {},
   "outputs": [
    {
     "data": {
      "application/vnd.plotly.v1+json": {
       "config": {
        "linkText": "Export to plot.ly",
        "plotlyServerURL": "https://plot.ly",
        "showLink": true
       },
       "data": [
        {
         "marker": {
          "color": "rgb(158,202,225)",
          "line": {
           "color": "rgb(8,48,107)",
           "width": 1.5
          }
         },
         "opacity": 0.6,
         "orientation": "h",
         "text": [
          0.3573,
          0.318,
          0.0666,
          0.0518,
          0.0465,
          0.0388,
          0.0235,
          0.0199,
          0.0177,
          0.0166,
          0.0125,
          0.0113,
          0.0111,
          0.0085
         ],
         "textposition": "outside",
         "type": "bar",
         "uid": "c5703337-6490-4be1-a579-433ba29597ad",
         "x": [
          0.3572781284911427,
          0.3179981446804746,
          0.06657530523959178,
          0.05178095997876439,
          0.046468188848693165,
          0.038809402864944983,
          0.02347444484195242,
          0.019889010877817553,
          0.01769015632495443,
          0.016622730982524998,
          0.012465518850683775,
          0.01131732804964531,
          0.011120370245965867,
          0.008510309722844105
         ],
         "y": [
          "http_header_content-encoding_gzip",
          "http_header_content-length",
          "http_header_content-language_text/html",
          "http_header_server_apache",
          "http_header_cache-control_set_max-age",
          "http_header_server_nginx",
          "http_header_strict-transport-security_max-age",
          "http_header_cache-control_set_no-cache",
          "http_header_cache-control_set_private",
          "http_header_cache-control_set_no-store",
          "http_header_x-cintent-type-options_nosniff",
          "http_header_cache-control_set_public",
          "http_header_cache-control_set_must-revalidate",
          "http_header_x-xss-enabled"
         ]
        }
       ],
       "layout": {
        "autosize": false,
        "height": 1000,
        "width": 1000,
        "xaxis": {
         "tickfont": {
          "color": "black",
          "size": 12
         },
         "title": "Feature Importances"
        },
        "yaxis": {
         "automargin": true
        }
       }
      },
      "text/html": [
       "<div id=\"b7ef617f-3620-45f7-acc6-6f55841dd692\" style=\"height: 1000px; width: 1000px;\" class=\"plotly-graph-div\"></div><script type=\"text/javascript\">require([\"plotly\"], function(Plotly) { window.PLOTLYENV=window.PLOTLYENV || {};window.PLOTLYENV.BASE_URL=\"https://plot.ly\";Plotly.newPlot(\"b7ef617f-3620-45f7-acc6-6f55841dd692\", [{\"marker\": {\"color\": \"rgb(158,202,225)\", \"line\": {\"color\": \"rgb(8,48,107)\", \"width\": 1.5}}, \"opacity\": 0.6, \"orientation\": \"h\", \"text\": [0.3573, 0.318, 0.0666, 0.0518, 0.0465, 0.0388, 0.0235, 0.0199, 0.0177, 0.0166, 0.0125, 0.0113, 0.0111, 0.0085], \"textposition\": \"outside\", \"x\": [0.3572781284911427, 0.3179981446804746, 0.06657530523959178, 0.05178095997876439, 0.046468188848693165, 0.038809402864944983, 0.02347444484195242, 0.019889010877817553, 0.01769015632495443, 0.016622730982524998, 0.012465518850683775, 0.01131732804964531, 0.011120370245965867, 0.008510309722844105], \"y\": [\"http_header_content-encoding_gzip\", \"http_header_content-length\", \"http_header_content-language_text/html\", \"http_header_server_apache\", \"http_header_cache-control_set_max-age\", \"http_header_server_nginx\", \"http_header_strict-transport-security_max-age\", \"http_header_cache-control_set_no-cache\", \"http_header_cache-control_set_private\", \"http_header_cache-control_set_no-store\", \"http_header_x-cintent-type-options_nosniff\", \"http_header_cache-control_set_public\", \"http_header_cache-control_set_must-revalidate\", \"http_header_x-xss-enabled\"], \"type\": \"bar\", \"uid\": \"c5703337-6490-4be1-a579-433ba29597ad\"}], {\"autosize\": false, \"height\": 1000, \"width\": 1000, \"xaxis\": {\"tickfont\": {\"color\": \"black\", \"size\": 12}, \"title\": \"Feature Importances\"}, \"yaxis\": {\"automargin\": true}}, {\"showLink\": true, \"linkText\": \"Export to plot.ly\", \"plotlyServerURL\": \"https://plot.ly\"})});</script>"
      ],
      "text/vnd.plotly.v1+html": [
       "<div id=\"b7ef617f-3620-45f7-acc6-6f55841dd692\" style=\"height: 1000px; width: 1000px;\" class=\"plotly-graph-div\"></div><script type=\"text/javascript\">require([\"plotly\"], function(Plotly) { window.PLOTLYENV=window.PLOTLYENV || {};window.PLOTLYENV.BASE_URL=\"https://plot.ly\";Plotly.newPlot(\"b7ef617f-3620-45f7-acc6-6f55841dd692\", [{\"marker\": {\"color\": \"rgb(158,202,225)\", \"line\": {\"color\": \"rgb(8,48,107)\", \"width\": 1.5}}, \"opacity\": 0.6, \"orientation\": \"h\", \"text\": [0.3573, 0.318, 0.0666, 0.0518, 0.0465, 0.0388, 0.0235, 0.0199, 0.0177, 0.0166, 0.0125, 0.0113, 0.0111, 0.0085], \"textposition\": \"outside\", \"x\": [0.3572781284911427, 0.3179981446804746, 0.06657530523959178, 0.05178095997876439, 0.046468188848693165, 0.038809402864944983, 0.02347444484195242, 0.019889010877817553, 0.01769015632495443, 0.016622730982524998, 0.012465518850683775, 0.01131732804964531, 0.011120370245965867, 0.008510309722844105], \"y\": [\"http_header_content-encoding_gzip\", \"http_header_content-length\", \"http_header_content-language_text/html\", \"http_header_server_apache\", \"http_header_cache-control_set_max-age\", \"http_header_server_nginx\", \"http_header_strict-transport-security_max-age\", \"http_header_cache-control_set_no-cache\", \"http_header_cache-control_set_private\", \"http_header_cache-control_set_no-store\", \"http_header_x-cintent-type-options_nosniff\", \"http_header_cache-control_set_public\", \"http_header_cache-control_set_must-revalidate\", \"http_header_x-xss-enabled\"], \"type\": \"bar\", \"uid\": \"c5703337-6490-4be1-a579-433ba29597ad\"}], {\"autosize\": false, \"height\": 1000, \"width\": 1000, \"xaxis\": {\"tickfont\": {\"color\": \"black\", \"size\": 12}, \"title\": \"Feature Importances\"}, \"yaxis\": {\"automargin\": true}}, {\"showLink\": true, \"linkText\": \"Export to plot.ly\", \"plotlyServerURL\": \"https://plot.ly\"})});</script>"
      ]
     },
     "metadata": {},
     "output_type": "display_data"
    }
   ],
   "source": [
    "feat_impt_plot(np.average(feat_imp,axis=0),columns[:-2])"
   ]
  },
  {
   "cell_type": "markdown",
   "metadata": {},
   "source": [
    "### <a id='3' style=\"text-decoration : none; color : #000000;\"> 3. Undersampling</a>"
   ]
  },
  {
   "cell_type": "code",
   "execution_count": 21,
   "metadata": {},
   "outputs": [
    {
     "name": "stdout",
     "output_type": "stream",
     "text": [
      "Shape after undersampling (9662, 14)\n"
     ]
    }
   ],
   "source": [
    "df_non=train[train.Target==0]\n",
    "df_mal=train[train.Target==1]\n",
    "\n",
    "df_non=df_non.sample(frac=len(df_mal)/len(df_non),random_state=0)\n",
    "df_u=df_non.append(df_mal)\n",
    "df_u.Target.value_counts() \n",
    "\n",
    "X_train=df_u[columns[:-2]]\n",
    "X_train=scaler.transform(X_train)\n",
    "Y_train=df_u.Target.values\n",
    "\n",
    "print(\"Shape after undersampling\",X_train.shape)\n"
   ]
  },
  {
   "cell_type": "code",
   "execution_count": 22,
   "metadata": {
    "collapsed": true
   },
   "outputs": [],
   "source": [
    "## Table to store training and test measures so we can compare later\n",
    "table_80_90_train=pd.DataFrame(columns=['accuracy','TP','TN','FP','FN','FPR','FNR'])\n",
    "table_80_90_test=pd.DataFrame(columns=['accuracy','TP','TN','FP','FN','FPR','FNR','auc','mcc'])"
   ]
  },
  {
   "cell_type": "code",
   "execution_count": 23,
   "metadata": {
    "scrolled": false
   },
   "outputs": [
    {
     "name": "stdout",
     "output_type": "stream",
     "text": [
      "\u001b[1mK-Nearest Neighbors\u001b[0m\n",
      "Accuracy of the model for training data is: 0.836783274684\n",
      "Confusion Matrix for training data is:\n"
     ]
    },
    {
     "data": {
      "text/plain": [
       "Predicted  False  True  __all__\n",
       "Actual                         \n",
       "False       4371   460     4831\n",
       "True        1117  3714     4831\n",
       "__all__     5488  4174     9662"
      ]
     },
     "metadata": {},
     "output_type": "display_data"
    },
    {
     "name": "stdout",
     "output_type": "stream",
     "text": [
      "Accuracy of the model for test data is: 0.877780200611\n",
      "Confusion Matrix for test data is:\n"
     ]
    },
    {
     "data": {
      "text/plain": [
       "Predicted  False  True  __all__\n",
       "Actual                         \n",
       "False       7138   844     7982\n",
       "True         277   913     1190\n",
       "__all__     7415  1757     9172"
      ]
     },
     "metadata": {},
     "output_type": "display_data"
    },
    {
     "name": "stdout",
     "output_type": "stream",
     "text": [
      "\n",
      "\n",
      "\u001b[1mLogistic Regression\u001b[0m\n",
      "Accuracy of the model for training data is: 0.831918857379\n",
      "Confusion Matrix for training data is:\n"
     ]
    },
    {
     "data": {
      "text/plain": [
       "Predicted  False  True  __all__\n",
       "Actual                         \n",
       "False       4014   817     4831\n",
       "True         807  4024     4831\n",
       "__all__     4821  4841     9662"
      ]
     },
     "metadata": {},
     "output_type": "display_data"
    },
    {
     "name": "stdout",
     "output_type": "stream",
     "text": [
      "Accuracy of the model for test data is: 0.826537287396\n",
      "Confusion Matrix for test data is:\n"
     ]
    },
    {
     "data": {
      "text/plain": [
       "Predicted  False  True  __all__\n",
       "Actual                         \n",
       "False       6588  1394     7982\n",
       "True         197   993     1190\n",
       "__all__     6785  2387     9172"
      ]
     },
     "metadata": {},
     "output_type": "display_data"
    },
    {
     "name": "stdout",
     "output_type": "stream",
     "text": [
      "\n",
      "\n",
      "\u001b[1mRandomForest Classifier\u001b[0m\n",
      "Accuracy of the model for training data is: 0.915545435728\n",
      "Confusion Matrix for training data is:\n"
     ]
    },
    {
     "data": {
      "text/plain": [
       "Predicted  False  True  __all__\n",
       "Actual                         \n",
       "False       4356   475     4831\n",
       "True         341  4490     4831\n",
       "__all__     4697  4965     9662"
      ]
     },
     "metadata": {},
     "output_type": "display_data"
    },
    {
     "name": "stdout",
     "output_type": "stream",
     "text": [
      "Accuracy of the model for test data is: 0.877235063236\n",
      "Confusion Matrix for test data is:\n"
     ]
    },
    {
     "data": {
      "text/plain": [
       "Predicted  False  True  __all__\n",
       "Actual                         \n",
       "False       6971  1011     7982\n",
       "True         115  1075     1190\n",
       "__all__     7086  2086     9172"
      ]
     },
     "metadata": {},
     "output_type": "display_data"
    },
    {
     "data": {
      "application/vnd.plotly.v1+json": {
       "config": {
        "linkText": "Export to plot.ly",
        "plotlyServerURL": "https://plot.ly",
        "showLink": true
       },
       "data": [
        {
         "marker": {
          "color": "rgb(158,202,225)",
          "line": {
           "color": "rgb(8,48,107)",
           "width": 1.5
          }
         },
         "opacity": 0.6,
         "orientation": "h",
         "text": [
          0.3242,
          0.2337,
          0.1364,
          0.0713,
          0.0543,
          0.0491,
          0.0217,
          0.0216,
          0.0211,
          0.0194,
          0.0132,
          0.0124,
          0.0113,
          0.0104
         ],
         "textposition": "outside",
         "type": "bar",
         "uid": "7db817bb-fb50-4ab8-8456-77a034d7430f",
         "x": [
          0.3242074490791421,
          0.23371843068860826,
          0.13637916444213052,
          0.07128836848018444,
          0.054318145462164846,
          0.04905392046571439,
          0.021673196032962444,
          0.021595201524644437,
          0.021085580242222807,
          0.019441827455453427,
          0.01316325077131151,
          0.012376928528754688,
          0.011258749831438064,
          0.01043978699526799
         ],
         "y": [
          "http_header_content-length",
          "http_header_content-language_text/html",
          "http_header_content-encoding_gzip",
          "http_header_server_apache",
          "http_header_cache-control_set_max-age",
          "http_header_server_nginx",
          "http_header_cache-control_set_no-store",
          "http_header_x-cintent-type-options_nosniff",
          "http_header_cache-control_set_no-cache",
          "http_header_strict-transport-security_max-age",
          "http_header_cache-control_set_must-revalidate",
          "http_header_x-xss-enabled",
          "http_header_cache-control_set_public",
          "http_header_cache-control_set_private"
         ]
        }
       ],
       "layout": {
        "autosize": false,
        "height": 1000,
        "width": 1000,
        "xaxis": {
         "tickfont": {
          "color": "black",
          "size": 12
         },
         "title": "Feature Importances"
        },
        "yaxis": {
         "automargin": true
        }
       }
      },
      "text/html": [
       "<div id=\"a069e8c5-84b1-4bf0-ba64-48c222b8e914\" style=\"height: 1000px; width: 1000px;\" class=\"plotly-graph-div\"></div><script type=\"text/javascript\">require([\"plotly\"], function(Plotly) { window.PLOTLYENV=window.PLOTLYENV || {};window.PLOTLYENV.BASE_URL=\"https://plot.ly\";Plotly.newPlot(\"a069e8c5-84b1-4bf0-ba64-48c222b8e914\", [{\"marker\": {\"color\": \"rgb(158,202,225)\", \"line\": {\"color\": \"rgb(8,48,107)\", \"width\": 1.5}}, \"opacity\": 0.6, \"orientation\": \"h\", \"text\": [0.3242, 0.2337, 0.1364, 0.0713, 0.0543, 0.0491, 0.0217, 0.0216, 0.0211, 0.0194, 0.0132, 0.0124, 0.0113, 0.0104], \"textposition\": \"outside\", \"x\": [0.3242074490791421, 0.23371843068860826, 0.13637916444213052, 0.07128836848018444, 0.054318145462164846, 0.04905392046571439, 0.021673196032962444, 0.021595201524644437, 0.021085580242222807, 0.019441827455453427, 0.01316325077131151, 0.012376928528754688, 0.011258749831438064, 0.01043978699526799], \"y\": [\"http_header_content-length\", \"http_header_content-language_text/html\", \"http_header_content-encoding_gzip\", \"http_header_server_apache\", \"http_header_cache-control_set_max-age\", \"http_header_server_nginx\", \"http_header_cache-control_set_no-store\", \"http_header_x-cintent-type-options_nosniff\", \"http_header_cache-control_set_no-cache\", \"http_header_strict-transport-security_max-age\", \"http_header_cache-control_set_must-revalidate\", \"http_header_x-xss-enabled\", \"http_header_cache-control_set_public\", \"http_header_cache-control_set_private\"], \"type\": \"bar\", \"uid\": \"7db817bb-fb50-4ab8-8456-77a034d7430f\"}], {\"autosize\": false, \"height\": 1000, \"width\": 1000, \"xaxis\": {\"tickfont\": {\"color\": \"black\", \"size\": 12}, \"title\": \"Feature Importances\"}, \"yaxis\": {\"automargin\": true}}, {\"showLink\": true, \"linkText\": \"Export to plot.ly\", \"plotlyServerURL\": \"https://plot.ly\"})});</script>"
      ],
      "text/vnd.plotly.v1+html": [
       "<div id=\"a069e8c5-84b1-4bf0-ba64-48c222b8e914\" style=\"height: 1000px; width: 1000px;\" class=\"plotly-graph-div\"></div><script type=\"text/javascript\">require([\"plotly\"], function(Plotly) { window.PLOTLYENV=window.PLOTLYENV || {};window.PLOTLYENV.BASE_URL=\"https://plot.ly\";Plotly.newPlot(\"a069e8c5-84b1-4bf0-ba64-48c222b8e914\", [{\"marker\": {\"color\": \"rgb(158,202,225)\", \"line\": {\"color\": \"rgb(8,48,107)\", \"width\": 1.5}}, \"opacity\": 0.6, \"orientation\": \"h\", \"text\": [0.3242, 0.2337, 0.1364, 0.0713, 0.0543, 0.0491, 0.0217, 0.0216, 0.0211, 0.0194, 0.0132, 0.0124, 0.0113, 0.0104], \"textposition\": \"outside\", \"x\": [0.3242074490791421, 0.23371843068860826, 0.13637916444213052, 0.07128836848018444, 0.054318145462164846, 0.04905392046571439, 0.021673196032962444, 0.021595201524644437, 0.021085580242222807, 0.019441827455453427, 0.01316325077131151, 0.012376928528754688, 0.011258749831438064, 0.01043978699526799], \"y\": [\"http_header_content-length\", \"http_header_content-language_text/html\", \"http_header_content-encoding_gzip\", \"http_header_server_apache\", \"http_header_cache-control_set_max-age\", \"http_header_server_nginx\", \"http_header_cache-control_set_no-store\", \"http_header_x-cintent-type-options_nosniff\", \"http_header_cache-control_set_no-cache\", \"http_header_strict-transport-security_max-age\", \"http_header_cache-control_set_must-revalidate\", \"http_header_x-xss-enabled\", \"http_header_cache-control_set_public\", \"http_header_cache-control_set_private\"], \"type\": \"bar\", \"uid\": \"7db817bb-fb50-4ab8-8456-77a034d7430f\"}], {\"autosize\": false, \"height\": 1000, \"width\": 1000, \"xaxis\": {\"tickfont\": {\"color\": \"black\", \"size\": 12}, \"title\": \"Feature Importances\"}, \"yaxis\": {\"automargin\": true}}, {\"showLink\": true, \"linkText\": \"Export to plot.ly\", \"plotlyServerURL\": \"https://plot.ly\"})});</script>"
      ]
     },
     "metadata": {},
     "output_type": "display_data"
    },
    {
     "name": "stdout",
     "output_type": "stream",
     "text": [
      "\n",
      "\n",
      "\u001b[1mAdaoost Classifier\u001b[0m\n",
      "Accuracy of the model for training data is: 0.856654936866\n",
      "Confusion Matrix for training data is:\n"
     ]
    },
    {
     "data": {
      "text/plain": [
       "Predicted  False  True  __all__\n",
       "Actual                         \n",
       "False       4006   825     4831\n",
       "True         560  4271     4831\n",
       "__all__     4566  5096     9662"
      ]
     },
     "metadata": {},
     "output_type": "display_data"
    },
    {
     "name": "stdout",
     "output_type": "stream",
     "text": [
      "Accuracy of the model for test data is: 0.831879633668\n",
      "Confusion Matrix for test data is:\n"
     ]
    },
    {
     "data": {
      "text/plain": [
       "Predicted  False  True  __all__\n",
       "Actual                         \n",
       "False       6587  1395     7982\n",
       "True         147  1043     1190\n",
       "__all__     6734  2438     9172"
      ]
     },
     "metadata": {},
     "output_type": "display_data"
    },
    {
     "data": {
      "application/vnd.plotly.v1+json": {
       "config": {
        "linkText": "Export to plot.ly",
        "plotlyServerURL": "https://plot.ly",
        "showLink": true
       },
       "data": [
        {
         "marker": {
          "color": "rgb(158,202,225)",
          "line": {
           "color": "rgb(8,48,107)",
           "width": 1.5
          }
         },
         "opacity": 0.6,
         "orientation": "h",
         "text": [
          0.66,
          0.06,
          0.06,
          0.04,
          0.04,
          0.04,
          0.02,
          0.02,
          0.02,
          0.02,
          0.02,
          0,
          0,
          0
         ],
         "textposition": "outside",
         "type": "bar",
         "uid": "cc64fff8-1045-43c9-a25b-22511cce666d",
         "x": [
          0.66,
          0.06,
          0.06,
          0.04,
          0.04,
          0.04,
          0.02,
          0.02,
          0.02,
          0.02,
          0.02,
          0,
          0,
          0
         ],
         "y": [
          "http_header_content-length",
          "http_header_content-encoding_gzip",
          "http_header_content-language_text/html",
          "http_header_cache-control_set_max-age",
          "http_header_server_nginx",
          "http_header_x-xss-enabled",
          "http_header_cache-control_set_no-store",
          "http_header_cache-control_set_private",
          "http_header_cache-control_set_public",
          "http_header_server_apache",
          "http_header_strict-transport-security_max-age",
          "http_header_cache-control_set_must-revalidate",
          "http_header_cache-control_set_no-cache",
          "http_header_x-cintent-type-options_nosniff"
         ]
        }
       ],
       "layout": {
        "autosize": false,
        "height": 1000,
        "width": 1000,
        "xaxis": {
         "tickfont": {
          "color": "black",
          "size": 12
         },
         "title": "Feature Importances"
        },
        "yaxis": {
         "automargin": true
        }
       }
      },
      "text/html": [
       "<div id=\"1aceefb1-af60-4b2b-aa8e-63350f208002\" style=\"height: 1000px; width: 1000px;\" class=\"plotly-graph-div\"></div><script type=\"text/javascript\">require([\"plotly\"], function(Plotly) { window.PLOTLYENV=window.PLOTLYENV || {};window.PLOTLYENV.BASE_URL=\"https://plot.ly\";Plotly.newPlot(\"1aceefb1-af60-4b2b-aa8e-63350f208002\", [{\"marker\": {\"color\": \"rgb(158,202,225)\", \"line\": {\"color\": \"rgb(8,48,107)\", \"width\": 1.5}}, \"opacity\": 0.6, \"orientation\": \"h\", \"text\": [0.66, 0.06, 0.06, 0.04, 0.04, 0.04, 0.02, 0.02, 0.02, 0.02, 0.02, 0.0, 0.0, 0.0], \"textposition\": \"outside\", \"x\": [0.66, 0.06, 0.06, 0.04, 0.04, 0.04, 0.02, 0.02, 0.02, 0.02, 0.02, 0.0, 0.0, 0.0], \"y\": [\"http_header_content-length\", \"http_header_content-encoding_gzip\", \"http_header_content-language_text/html\", \"http_header_cache-control_set_max-age\", \"http_header_server_nginx\", \"http_header_x-xss-enabled\", \"http_header_cache-control_set_no-store\", \"http_header_cache-control_set_private\", \"http_header_cache-control_set_public\", \"http_header_server_apache\", \"http_header_strict-transport-security_max-age\", \"http_header_cache-control_set_must-revalidate\", \"http_header_cache-control_set_no-cache\", \"http_header_x-cintent-type-options_nosniff\"], \"type\": \"bar\", \"uid\": \"cc64fff8-1045-43c9-a25b-22511cce666d\"}], {\"autosize\": false, \"height\": 1000, \"width\": 1000, \"xaxis\": {\"tickfont\": {\"color\": \"black\", \"size\": 12}, \"title\": \"Feature Importances\"}, \"yaxis\": {\"automargin\": true}}, {\"showLink\": true, \"linkText\": \"Export to plot.ly\", \"plotlyServerURL\": \"https://plot.ly\"})});</script>"
      ],
      "text/vnd.plotly.v1+html": [
       "<div id=\"1aceefb1-af60-4b2b-aa8e-63350f208002\" style=\"height: 1000px; width: 1000px;\" class=\"plotly-graph-div\"></div><script type=\"text/javascript\">require([\"plotly\"], function(Plotly) { window.PLOTLYENV=window.PLOTLYENV || {};window.PLOTLYENV.BASE_URL=\"https://plot.ly\";Plotly.newPlot(\"1aceefb1-af60-4b2b-aa8e-63350f208002\", [{\"marker\": {\"color\": \"rgb(158,202,225)\", \"line\": {\"color\": \"rgb(8,48,107)\", \"width\": 1.5}}, \"opacity\": 0.6, \"orientation\": \"h\", \"text\": [0.66, 0.06, 0.06, 0.04, 0.04, 0.04, 0.02, 0.02, 0.02, 0.02, 0.02, 0.0, 0.0, 0.0], \"textposition\": \"outside\", \"x\": [0.66, 0.06, 0.06, 0.04, 0.04, 0.04, 0.02, 0.02, 0.02, 0.02, 0.02, 0.0, 0.0, 0.0], \"y\": [\"http_header_content-length\", \"http_header_content-encoding_gzip\", \"http_header_content-language_text/html\", \"http_header_cache-control_set_max-age\", \"http_header_server_nginx\", \"http_header_x-xss-enabled\", \"http_header_cache-control_set_no-store\", \"http_header_cache-control_set_private\", \"http_header_cache-control_set_public\", \"http_header_server_apache\", \"http_header_strict-transport-security_max-age\", \"http_header_cache-control_set_must-revalidate\", \"http_header_cache-control_set_no-cache\", \"http_header_x-cintent-type-options_nosniff\"], \"type\": \"bar\", \"uid\": \"cc64fff8-1045-43c9-a25b-22511cce666d\"}], {\"autosize\": false, \"height\": 1000, \"width\": 1000, \"xaxis\": {\"tickfont\": {\"color\": \"black\", \"size\": 12}, \"title\": \"Feature Importances\"}, \"yaxis\": {\"automargin\": true}}, {\"showLink\": true, \"linkText\": \"Export to plot.ly\", \"plotlyServerURL\": \"https://plot.ly\"})});</script>"
      ]
     },
     "metadata": {},
     "output_type": "display_data"
    },
    {
     "name": "stdout",
     "output_type": "stream",
     "text": [
      "\n",
      "\n",
      "\u001b[1mGradientBoosting Classifier\u001b[0m\n",
      "Accuracy of the model for training data is: 0.883046988201\n",
      "Confusion Matrix for training data is:\n"
     ]
    },
    {
     "data": {
      "text/plain": [
       "Predicted  False  True  __all__\n",
       "Actual                         \n",
       "False       4164   667     4831\n",
       "True         463  4368     4831\n",
       "__all__     4627  5035     9662"
      ]
     },
     "metadata": {},
     "output_type": "display_data"
    },
    {
     "name": "stdout",
     "output_type": "stream",
     "text": [
      "Accuracy of the model for test data is: 0.859681639773\n",
      "Confusion Matrix for test data is:\n"
     ]
    },
    {
     "data": {
      "text/plain": [
       "Predicted  False  True  __all__\n",
       "Actual                         \n",
       "False       6809  1173     7982\n",
       "True         114  1076     1190\n",
       "__all__     6923  2249     9172"
      ]
     },
     "metadata": {},
     "output_type": "display_data"
    },
    {
     "data": {
      "application/vnd.plotly.v1+json": {
       "config": {
        "linkText": "Export to plot.ly",
        "plotlyServerURL": "https://plot.ly",
        "showLink": true
       },
       "data": [
        {
         "marker": {
          "color": "rgb(158,202,225)",
          "line": {
           "color": "rgb(8,48,107)",
           "width": 1.5
          }
         },
         "opacity": 0.6,
         "orientation": "h",
         "text": [
          0.6283,
          0.227,
          0.0434,
          0.0324,
          0.0223,
          0.009,
          0.0086,
          0.0062,
          0.0056,
          0.0055,
          0.0046,
          0.0034,
          0.0028,
          0.001
         ],
         "textposition": "outside",
         "type": "bar",
         "uid": "e62f5c5e-67c2-47b1-966f-008729a465dd",
         "x": [
          0.6283185202241712,
          0.22698275761043094,
          0.04342499346791021,
          0.03237608642148491,
          0.02228518464126448,
          0.008966177272457142,
          0.0086295062942639,
          0.006227766917139947,
          0.005568332875788925,
          0.005451489853853459,
          0.004567430466586389,
          0.0033706067465881836,
          0.0027821168157703712,
          0.0010490303922900996
         ],
         "y": [
          "http_header_content-encoding_gzip",
          "http_header_content-length",
          "http_header_server_apache",
          "http_header_content-language_text/html",
          "http_header_cache-control_set_max-age",
          "http_header_cache-control_set_no-cache",
          "http_header_cache-control_set_no-store",
          "http_header_x-xss-enabled",
          "http_header_strict-transport-security_max-age",
          "http_header_server_nginx",
          "http_header_cache-control_set_must-revalidate",
          "http_header_cache-control_set_private",
          "http_header_x-cintent-type-options_nosniff",
          "http_header_cache-control_set_public"
         ]
        }
       ],
       "layout": {
        "autosize": false,
        "height": 1000,
        "width": 1000,
        "xaxis": {
         "tickfont": {
          "color": "black",
          "size": 12
         },
         "title": "Feature Importances"
        },
        "yaxis": {
         "automargin": true
        }
       }
      },
      "text/html": [
       "<div id=\"1ddcc451-ccef-40b2-af8b-f0de15948b71\" style=\"height: 1000px; width: 1000px;\" class=\"plotly-graph-div\"></div><script type=\"text/javascript\">require([\"plotly\"], function(Plotly) { window.PLOTLYENV=window.PLOTLYENV || {};window.PLOTLYENV.BASE_URL=\"https://plot.ly\";Plotly.newPlot(\"1ddcc451-ccef-40b2-af8b-f0de15948b71\", [{\"marker\": {\"color\": \"rgb(158,202,225)\", \"line\": {\"color\": \"rgb(8,48,107)\", \"width\": 1.5}}, \"opacity\": 0.6, \"orientation\": \"h\", \"text\": [0.6283, 0.227, 0.0434, 0.0324, 0.0223, 0.009, 0.0086, 0.0062, 0.0056, 0.0055, 0.0046, 0.0034, 0.0028, 0.001], \"textposition\": \"outside\", \"x\": [0.6283185202241712, 0.22698275761043094, 0.04342499346791021, 0.03237608642148491, 0.02228518464126448, 0.008966177272457142, 0.0086295062942639, 0.006227766917139947, 0.005568332875788925, 0.005451489853853459, 0.004567430466586389, 0.0033706067465881836, 0.0027821168157703712, 0.0010490303922900996], \"y\": [\"http_header_content-encoding_gzip\", \"http_header_content-length\", \"http_header_server_apache\", \"http_header_content-language_text/html\", \"http_header_cache-control_set_max-age\", \"http_header_cache-control_set_no-cache\", \"http_header_cache-control_set_no-store\", \"http_header_x-xss-enabled\", \"http_header_strict-transport-security_max-age\", \"http_header_server_nginx\", \"http_header_cache-control_set_must-revalidate\", \"http_header_cache-control_set_private\", \"http_header_x-cintent-type-options_nosniff\", \"http_header_cache-control_set_public\"], \"type\": \"bar\", \"uid\": \"e62f5c5e-67c2-47b1-966f-008729a465dd\"}], {\"autosize\": false, \"height\": 1000, \"width\": 1000, \"xaxis\": {\"tickfont\": {\"color\": \"black\", \"size\": 12}, \"title\": \"Feature Importances\"}, \"yaxis\": {\"automargin\": true}}, {\"showLink\": true, \"linkText\": \"Export to plot.ly\", \"plotlyServerURL\": \"https://plot.ly\"})});</script>"
      ],
      "text/vnd.plotly.v1+html": [
       "<div id=\"1ddcc451-ccef-40b2-af8b-f0de15948b71\" style=\"height: 1000px; width: 1000px;\" class=\"plotly-graph-div\"></div><script type=\"text/javascript\">require([\"plotly\"], function(Plotly) { window.PLOTLYENV=window.PLOTLYENV || {};window.PLOTLYENV.BASE_URL=\"https://plot.ly\";Plotly.newPlot(\"1ddcc451-ccef-40b2-af8b-f0de15948b71\", [{\"marker\": {\"color\": \"rgb(158,202,225)\", \"line\": {\"color\": \"rgb(8,48,107)\", \"width\": 1.5}}, \"opacity\": 0.6, \"orientation\": \"h\", \"text\": [0.6283, 0.227, 0.0434, 0.0324, 0.0223, 0.009, 0.0086, 0.0062, 0.0056, 0.0055, 0.0046, 0.0034, 0.0028, 0.001], \"textposition\": \"outside\", \"x\": [0.6283185202241712, 0.22698275761043094, 0.04342499346791021, 0.03237608642148491, 0.02228518464126448, 0.008966177272457142, 0.0086295062942639, 0.006227766917139947, 0.005568332875788925, 0.005451489853853459, 0.004567430466586389, 0.0033706067465881836, 0.0027821168157703712, 0.0010490303922900996], \"y\": [\"http_header_content-encoding_gzip\", \"http_header_content-length\", \"http_header_server_apache\", \"http_header_content-language_text/html\", \"http_header_cache-control_set_max-age\", \"http_header_cache-control_set_no-cache\", \"http_header_cache-control_set_no-store\", \"http_header_x-xss-enabled\", \"http_header_strict-transport-security_max-age\", \"http_header_server_nginx\", \"http_header_cache-control_set_must-revalidate\", \"http_header_cache-control_set_private\", \"http_header_x-cintent-type-options_nosniff\", \"http_header_cache-control_set_public\"], \"type\": \"bar\", \"uid\": \"e62f5c5e-67c2-47b1-966f-008729a465dd\"}], {\"autosize\": false, \"height\": 1000, \"width\": 1000, \"xaxis\": {\"tickfont\": {\"color\": \"black\", \"size\": 12}, \"title\": \"Feature Importances\"}, \"yaxis\": {\"automargin\": true}}, {\"showLink\": true, \"linkText\": \"Export to plot.ly\", \"plotlyServerURL\": \"https://plot.ly\"})});</script>"
      ]
     },
     "metadata": {},
     "output_type": "display_data"
    },
    {
     "name": "stdout",
     "output_type": "stream",
     "text": [
      "\n",
      "\n",
      "\u001b[1mExtraTree Classifier\u001b[0m\n",
      "Accuracy of the model for training data is: 0.919478368868\n",
      "Confusion Matrix for training data is:\n"
     ]
    },
    {
     "data": {
      "text/plain": [
       "Predicted  False  True  __all__\n",
       "Actual                         \n",
       "False       4372   459     4831\n",
       "True         319  4512     4831\n",
       "__all__     4691  4971     9662"
      ]
     },
     "metadata": {},
     "output_type": "display_data"
    },
    {
     "name": "stdout",
     "output_type": "stream",
     "text": [
      "Accuracy of the model for test data is: 0.876798953336\n",
      "Confusion Matrix for test data is:\n"
     ]
    },
    {
     "data": {
      "text/plain": [
       "Predicted  False  True  __all__\n",
       "Actual                         \n",
       "False       6969  1013     7982\n",
       "True         117  1073     1190\n",
       "__all__     7086  2086     9172"
      ]
     },
     "metadata": {},
     "output_type": "display_data"
    },
    {
     "data": {
      "application/vnd.plotly.v1+json": {
       "config": {
        "linkText": "Export to plot.ly",
        "plotlyServerURL": "https://plot.ly",
        "showLink": true
       },
       "data": [
        {
         "marker": {
          "color": "rgb(158,202,225)",
          "line": {
           "color": "rgb(8,48,107)",
           "width": 1.5
          }
         },
         "opacity": 0.6,
         "orientation": "h",
         "text": [
          0.3292,
          0.2096,
          0.1009,
          0.082,
          0.0527,
          0.0489,
          0.0351,
          0.0291,
          0.0283,
          0.025,
          0.0234,
          0.0189,
          0.0105,
          0.0064
         ],
         "textposition": "outside",
         "type": "bar",
         "uid": "3f8675a2-f650-4be6-ba5d-7814d0682bbc",
         "x": [
          0.3291735741298055,
          0.20961853217826226,
          0.10093130860708029,
          0.08202624107811161,
          0.052652344307881294,
          0.04892494882631635,
          0.035122027964062996,
          0.029084607119925082,
          0.028298839612984173,
          0.02495467145486976,
          0.02343520060238381,
          0.018883971139019136,
          0.010524480418580924,
          0.0063692525607168555
         ],
         "y": [
          "http_header_content-encoding_gzip",
          "http_header_content-length",
          "http_header_content-language_text/html",
          "http_header_cache-control_set_max-age",
          "http_header_server_apache",
          "http_header_server_nginx",
          "http_header_strict-transport-security_max-age",
          "http_header_cache-control_set_no-cache",
          "http_header_cache-control_set_private",
          "http_header_cache-control_set_must-revalidate",
          "http_header_x-cintent-type-options_nosniff",
          "http_header_cache-control_set_no-store",
          "http_header_x-xss-enabled",
          "http_header_cache-control_set_public"
         ]
        }
       ],
       "layout": {
        "autosize": false,
        "height": 1000,
        "width": 1000,
        "xaxis": {
         "tickfont": {
          "color": "black",
          "size": 12
         },
         "title": "Feature Importances"
        },
        "yaxis": {
         "automargin": true
        }
       }
      },
      "text/html": [
       "<div id=\"9570d209-c2e3-4312-861f-0645df61061f\" style=\"height: 1000px; width: 1000px;\" class=\"plotly-graph-div\"></div><script type=\"text/javascript\">require([\"plotly\"], function(Plotly) { window.PLOTLYENV=window.PLOTLYENV || {};window.PLOTLYENV.BASE_URL=\"https://plot.ly\";Plotly.newPlot(\"9570d209-c2e3-4312-861f-0645df61061f\", [{\"marker\": {\"color\": \"rgb(158,202,225)\", \"line\": {\"color\": \"rgb(8,48,107)\", \"width\": 1.5}}, \"opacity\": 0.6, \"orientation\": \"h\", \"text\": [0.3292, 0.2096, 0.1009, 0.082, 0.0527, 0.0489, 0.0351, 0.0291, 0.0283, 0.025, 0.0234, 0.0189, 0.0105, 0.0064], \"textposition\": \"outside\", \"x\": [0.3291735741298055, 0.20961853217826226, 0.10093130860708029, 0.08202624107811161, 0.052652344307881294, 0.04892494882631635, 0.035122027964062996, 0.029084607119925082, 0.028298839612984173, 0.02495467145486976, 0.02343520060238381, 0.018883971139019136, 0.010524480418580924, 0.0063692525607168555], \"y\": [\"http_header_content-encoding_gzip\", \"http_header_content-length\", \"http_header_content-language_text/html\", \"http_header_cache-control_set_max-age\", \"http_header_server_apache\", \"http_header_server_nginx\", \"http_header_strict-transport-security_max-age\", \"http_header_cache-control_set_no-cache\", \"http_header_cache-control_set_private\", \"http_header_cache-control_set_must-revalidate\", \"http_header_x-cintent-type-options_nosniff\", \"http_header_cache-control_set_no-store\", \"http_header_x-xss-enabled\", \"http_header_cache-control_set_public\"], \"type\": \"bar\", \"uid\": \"3f8675a2-f650-4be6-ba5d-7814d0682bbc\"}], {\"autosize\": false, \"height\": 1000, \"width\": 1000, \"xaxis\": {\"tickfont\": {\"color\": \"black\", \"size\": 12}, \"title\": \"Feature Importances\"}, \"yaxis\": {\"automargin\": true}}, {\"showLink\": true, \"linkText\": \"Export to plot.ly\", \"plotlyServerURL\": \"https://plot.ly\"})});</script>"
      ],
      "text/vnd.plotly.v1+html": [
       "<div id=\"9570d209-c2e3-4312-861f-0645df61061f\" style=\"height: 1000px; width: 1000px;\" class=\"plotly-graph-div\"></div><script type=\"text/javascript\">require([\"plotly\"], function(Plotly) { window.PLOTLYENV=window.PLOTLYENV || {};window.PLOTLYENV.BASE_URL=\"https://plot.ly\";Plotly.newPlot(\"9570d209-c2e3-4312-861f-0645df61061f\", [{\"marker\": {\"color\": \"rgb(158,202,225)\", \"line\": {\"color\": \"rgb(8,48,107)\", \"width\": 1.5}}, \"opacity\": 0.6, \"orientation\": \"h\", \"text\": [0.3292, 0.2096, 0.1009, 0.082, 0.0527, 0.0489, 0.0351, 0.0291, 0.0283, 0.025, 0.0234, 0.0189, 0.0105, 0.0064], \"textposition\": \"outside\", \"x\": [0.3291735741298055, 0.20961853217826226, 0.10093130860708029, 0.08202624107811161, 0.052652344307881294, 0.04892494882631635, 0.035122027964062996, 0.029084607119925082, 0.028298839612984173, 0.02495467145486976, 0.02343520060238381, 0.018883971139019136, 0.010524480418580924, 0.0063692525607168555], \"y\": [\"http_header_content-encoding_gzip\", \"http_header_content-length\", \"http_header_content-language_text/html\", \"http_header_cache-control_set_max-age\", \"http_header_server_apache\", \"http_header_server_nginx\", \"http_header_strict-transport-security_max-age\", \"http_header_cache-control_set_no-cache\", \"http_header_cache-control_set_private\", \"http_header_cache-control_set_must-revalidate\", \"http_header_x-cintent-type-options_nosniff\", \"http_header_cache-control_set_no-store\", \"http_header_x-xss-enabled\", \"http_header_cache-control_set_public\"], \"type\": \"bar\", \"uid\": \"3f8675a2-f650-4be6-ba5d-7814d0682bbc\"}], {\"autosize\": false, \"height\": 1000, \"width\": 1000, \"xaxis\": {\"tickfont\": {\"color\": \"black\", \"size\": 12}, \"title\": \"Feature Importances\"}, \"yaxis\": {\"automargin\": true}}, {\"showLink\": true, \"linkText\": \"Export to plot.ly\", \"plotlyServerURL\": \"https://plot.ly\"})});</script>"
      ]
     },
     "metadata": {},
     "output_type": "display_data"
    },
    {
     "name": "stdout",
     "output_type": "stream",
     "text": [
      "\n",
      "\n",
      "\u001b[1mBagging Classifier\u001b[0m\n",
      "Accuracy of the model for training data is: 0.915855930449\n",
      "Confusion Matrix for training data is:\n"
     ]
    },
    {
     "data": {
      "text/plain": [
       "Predicted  False  True  __all__\n",
       "Actual                         \n",
       "False       4347   484     4831\n",
       "True         329  4502     4831\n",
       "__all__     4676  4986     9662"
      ]
     },
     "metadata": {},
     "output_type": "display_data"
    },
    {
     "name": "stdout",
     "output_type": "stream",
     "text": [
      "Accuracy of the model for test data is: 0.875817706062\n",
      "Confusion Matrix for test data is:\n"
     ]
    },
    {
     "data": {
      "text/plain": [
       "Predicted  False  True  __all__\n",
       "Actual                         \n",
       "False       6963  1019     7982\n",
       "True         120  1070     1190\n",
       "__all__     7083  2089     9172"
      ]
     },
     "metadata": {},
     "output_type": "display_data"
    },
    {
     "name": "stdout",
     "output_type": "stream",
     "text": [
      "\n",
      "\n",
      "\u001b[1mNeural Network-1\u001b[0m\n",
      "The accuracy of the model on training data is: 0.882632995177\n"
     ]
    },
    {
     "data": {
      "text/plain": [
       "Predicted  False  True  __all__\n",
       "Actual                         \n",
       "False       4246   585     4831\n",
       "True         549  4282     4831\n",
       "__all__     4795  4867     9662"
      ]
     },
     "metadata": {},
     "output_type": "display_data"
    },
    {
     "name": "stdout",
     "output_type": "stream",
     "text": [
      "The accuracy of the model on test data is: 0.877671173136\n"
     ]
    },
    {
     "data": {
      "text/plain": [
       "Predicted  False  True  __all__\n",
       "Actual                         \n",
       "False       6990   992     7982\n",
       "True         130  1060     1190\n",
       "__all__     7120  2052     9172"
      ]
     },
     "metadata": {},
     "output_type": "display_data"
    },
    {
     "name": "stdout",
     "output_type": "stream",
     "text": [
      "\n",
      "\n"
     ]
    }
   ],
   "source": [
    "feat_imp=[None]*4\n",
    "j=0\n",
    "for i in range(0,8):\n",
    "    if i>=2 and i<=5:\n",
    "        model,cm_train,cm_test,acc_train,acc_test,roc_auc,feat_imp[j],mcc=f[i](X_train,Y_train,scaled_X_test,test_Y,columns[:-2])\n",
    "        j=j+1\n",
    "    else:\n",
    "        model,cm_train,cm_test,acc_train,acc_test,roc_auc,mcc=f[i](X_train,Y_train,scaled_X_test,test_Y)\n",
    "    table_80_90_train.loc[i]=   ([acc_train,cm_train.TP,cm_train.TN,cm_train.FP,cm_train.FN,cm_train.FPR,cm_train.FNR])\n",
    "    table_80_90_test.loc[i] =   ([acc_test ,cm_test.TP, cm_test.TN, cm_test.FP, cm_test.FN, cm_test.FPR, cm_test.FNR,roc_auc,mcc])\n",
    "    print(\"\\n\")"
   ]
  },
  {
   "cell_type": "markdown",
   "metadata": {},
   "source": [
    "### <a id='3.A' style=\"text-decoration : none; color : #000000;\"> A. Results</a>"
   ]
  },
  {
   "cell_type": "code",
   "execution_count": 24,
   "metadata": {},
   "outputs": [
    {
     "data": {
      "application/vnd.plotly.v1+json": {
       "config": {
        "linkText": "Export to plot.ly",
        "plotlyServerURL": "https://plot.ly",
        "showLink": true
       },
       "data": [
        {
         "mode": "lines",
         "name": "KNN_model",
         "type": "scatter",
         "uid": "11055b50-32df-4602-9b97-687a4fc14617",
         "x": [
          "accuracy",
          "FPR",
          "FNR",
          "auc"
         ],
         "y": [
          0.8777802006105538,
          0.10573791029817088,
          0.23277310924369748,
          0.8307444902290658
         ]
        },
        {
         "mode": "lines+markers",
         "name": "Logistic Regression",
         "type": "scatter",
         "uid": "688c1f6b-4925-4434-803d-27fbe639d1e9",
         "x": [
          "accuracy",
          "FPR",
          "FNR",
          "auc"
         ],
         "y": [
          0.8265372873964238,
          0.1746429466299173,
          0.16554621848739495,
          0.8299054174413439
         ]
        },
        {
         "marker": {
          "symbol": "x"
         },
         "mode": "lines+markers",
         "name": "Random Forest",
         "type": "scatter",
         "uid": "293da835-c82d-4732-b990-b83b81dc4f90",
         "x": [
          "accuracy",
          "FPR",
          "FNR",
          "auc"
         ],
         "y": [
          0.8772350632359355,
          0.1266599849661739,
          0.09663865546218488,
          0.8883506797858205
         ]
        },
        {
         "mode": "lines",
         "name": "Ada Boost",
         "type": "scatter",
         "uid": "1dbecbe9-aba4-4250-bd6c-1e3188bb316e",
         "x": [
          "accuracy",
          "FPR",
          "FNR",
          "auc"
         ],
         "y": [
          0.8318796336676842,
          0.17476822851415685,
          0.12352941176470589,
          0.8508511798605687
         ]
        },
        {
         "mode": "lines+markers",
         "name": "GradientBoosting",
         "type": "scatter",
         "uid": "966816fa-1bcd-48da-9f44-c414baaf7b14",
         "x": [
          "accuracy",
          "FPR",
          "FNR",
          "auc"
         ],
         "y": [
          0.8596816397732229,
          0.1469556502129792,
          0.0957983193277311,
          0.8786230152296448
         ]
        },
        {
         "marker": {
          "symbol": "x"
         },
         "mode": "lines+markers",
         "name": "ExtraTree Classifier",
         "type": "scatter",
         "uid": "b4fa7762-d10d-41a1-b82e-07de3b3a80e2",
         "x": [
          "accuracy",
          "FPR",
          "FNR",
          "auc"
         ],
         "y": [
          0.8767989533362407,
          0.12691054873465296,
          0.09831932773109243,
          0.8873850617671273
         ]
        },
        {
         "marker": {
          "symbol": "x"
         },
         "mode": "lines+markers",
         "name": "Bagging",
         "type": "scatter",
         "uid": "6336dcbf-d385-4bc3-973c-60b40cdda60a",
         "x": [
          "accuracy",
          "FPR",
          "FNR",
          "auc"
         ],
         "y": [
          0.8758177060619277,
          0.1276622400400902,
          0.10084033613445378,
          0.885748711912728
         ]
        },
        {
         "marker": {
          "symbol": "x"
         },
         "mode": "lines+markers",
         "name": "Neural Network",
         "type": "scatter",
         "uid": "4cb6eeaa-b510-46f0-ad9c-d39a1b7c7cc3",
         "x": [
          "accuracy",
          "FPR",
          "FNR",
          "auc"
         ],
         "y": [
          0.8776711731356301,
          0.12427962916562266,
          0.1092436974789916,
          0.885748711912728
         ]
        }
       ],
       "layout": {
        "title": "Result comparision for Features selected in Section 1",
        "yaxis": {
         "dtick": 0.05,
         "tick0": 0
        }
       }
      },
      "text/html": [
       "<div id=\"1b39ae5e-13bc-4867-9ae4-b02a548dfe88\" style=\"height: 525px; width: 100%;\" class=\"plotly-graph-div\"></div><script type=\"text/javascript\">require([\"plotly\"], function(Plotly) { window.PLOTLYENV=window.PLOTLYENV || {};window.PLOTLYENV.BASE_URL=\"https://plot.ly\";Plotly.newPlot(\"1b39ae5e-13bc-4867-9ae4-b02a548dfe88\", [{\"mode\": \"lines\", \"name\": \"KNN_model\", \"x\": [\"accuracy\", \"FPR\", \"FNR\", \"auc\"], \"y\": [0.8777802006105538, 0.10573791029817088, 0.23277310924369748, 0.8307444902290658], \"type\": \"scatter\", \"uid\": \"11055b50-32df-4602-9b97-687a4fc14617\"}, {\"mode\": \"lines+markers\", \"name\": \"Logistic Regression\", \"x\": [\"accuracy\", \"FPR\", \"FNR\", \"auc\"], \"y\": [0.8265372873964238, 0.1746429466299173, 0.16554621848739495, 0.8299054174413439], \"type\": \"scatter\", \"uid\": \"688c1f6b-4925-4434-803d-27fbe639d1e9\"}, {\"marker\": {\"symbol\": \"x\"}, \"mode\": \"lines+markers\", \"name\": \"Random Forest\", \"x\": [\"accuracy\", \"FPR\", \"FNR\", \"auc\"], \"y\": [0.8772350632359355, 0.1266599849661739, 0.09663865546218488, 0.8883506797858205], \"type\": \"scatter\", \"uid\": \"293da835-c82d-4732-b990-b83b81dc4f90\"}, {\"mode\": \"lines\", \"name\": \"Ada Boost\", \"x\": [\"accuracy\", \"FPR\", \"FNR\", \"auc\"], \"y\": [0.8318796336676842, 0.17476822851415685, 0.12352941176470589, 0.8508511798605687], \"type\": \"scatter\", \"uid\": \"1dbecbe9-aba4-4250-bd6c-1e3188bb316e\"}, {\"mode\": \"lines+markers\", \"name\": \"GradientBoosting\", \"x\": [\"accuracy\", \"FPR\", \"FNR\", \"auc\"], \"y\": [0.8596816397732229, 0.1469556502129792, 0.0957983193277311, 0.8786230152296448], \"type\": \"scatter\", \"uid\": \"966816fa-1bcd-48da-9f44-c414baaf7b14\"}, {\"marker\": {\"symbol\": \"x\"}, \"mode\": \"lines+markers\", \"name\": \"ExtraTree Classifier\", \"x\": [\"accuracy\", \"FPR\", \"FNR\", \"auc\"], \"y\": [0.8767989533362407, 0.12691054873465296, 0.09831932773109243, 0.8873850617671273], \"type\": \"scatter\", \"uid\": \"b4fa7762-d10d-41a1-b82e-07de3b3a80e2\"}, {\"marker\": {\"symbol\": \"x\"}, \"mode\": \"lines+markers\", \"name\": \"Bagging\", \"x\": [\"accuracy\", \"FPR\", \"FNR\", \"auc\"], \"y\": [0.8758177060619277, 0.1276622400400902, 0.10084033613445378, 0.885748711912728], \"type\": \"scatter\", \"uid\": \"6336dcbf-d385-4bc3-973c-60b40cdda60a\"}, {\"marker\": {\"symbol\": \"x\"}, \"mode\": \"lines+markers\", \"name\": \"Neural Network\", \"x\": [\"accuracy\", \"FPR\", \"FNR\", \"auc\"], \"y\": [0.8776711731356301, 0.12427962916562266, 0.1092436974789916, 0.885748711912728], \"type\": \"scatter\", \"uid\": \"4cb6eeaa-b510-46f0-ad9c-d39a1b7c7cc3\"}], {\"title\": \"Result comparision for Features selected in Section 1\", \"yaxis\": {\"dtick\": 0.05, \"tick0\": 0}}, {\"showLink\": true, \"linkText\": \"Export to plot.ly\", \"plotlyServerURL\": \"https://plot.ly\"})});</script><script type=\"text/javascript\">window.addEventListener(\"resize\", function(){window._Plotly.Plots.resize(document.getElementById(\"1b39ae5e-13bc-4867-9ae4-b02a548dfe88\"));});</script>"
      ],
      "text/vnd.plotly.v1+html": [
       "<div id=\"1b39ae5e-13bc-4867-9ae4-b02a548dfe88\" style=\"height: 525px; width: 100%;\" class=\"plotly-graph-div\"></div><script type=\"text/javascript\">require([\"plotly\"], function(Plotly) { window.PLOTLYENV=window.PLOTLYENV || {};window.PLOTLYENV.BASE_URL=\"https://plot.ly\";Plotly.newPlot(\"1b39ae5e-13bc-4867-9ae4-b02a548dfe88\", [{\"mode\": \"lines\", \"name\": \"KNN_model\", \"x\": [\"accuracy\", \"FPR\", \"FNR\", \"auc\"], \"y\": [0.8777802006105538, 0.10573791029817088, 0.23277310924369748, 0.8307444902290658], \"type\": \"scatter\", \"uid\": \"11055b50-32df-4602-9b97-687a4fc14617\"}, {\"mode\": \"lines+markers\", \"name\": \"Logistic Regression\", \"x\": [\"accuracy\", \"FPR\", \"FNR\", \"auc\"], \"y\": [0.8265372873964238, 0.1746429466299173, 0.16554621848739495, 0.8299054174413439], \"type\": \"scatter\", \"uid\": \"688c1f6b-4925-4434-803d-27fbe639d1e9\"}, {\"marker\": {\"symbol\": \"x\"}, \"mode\": \"lines+markers\", \"name\": \"Random Forest\", \"x\": [\"accuracy\", \"FPR\", \"FNR\", \"auc\"], \"y\": [0.8772350632359355, 0.1266599849661739, 0.09663865546218488, 0.8883506797858205], \"type\": \"scatter\", \"uid\": \"293da835-c82d-4732-b990-b83b81dc4f90\"}, {\"mode\": \"lines\", \"name\": \"Ada Boost\", \"x\": [\"accuracy\", \"FPR\", \"FNR\", \"auc\"], \"y\": [0.8318796336676842, 0.17476822851415685, 0.12352941176470589, 0.8508511798605687], \"type\": \"scatter\", \"uid\": \"1dbecbe9-aba4-4250-bd6c-1e3188bb316e\"}, {\"mode\": \"lines+markers\", \"name\": \"GradientBoosting\", \"x\": [\"accuracy\", \"FPR\", \"FNR\", \"auc\"], \"y\": [0.8596816397732229, 0.1469556502129792, 0.0957983193277311, 0.8786230152296448], \"type\": \"scatter\", \"uid\": \"966816fa-1bcd-48da-9f44-c414baaf7b14\"}, {\"marker\": {\"symbol\": \"x\"}, \"mode\": \"lines+markers\", \"name\": \"ExtraTree Classifier\", \"x\": [\"accuracy\", \"FPR\", \"FNR\", \"auc\"], \"y\": [0.8767989533362407, 0.12691054873465296, 0.09831932773109243, 0.8873850617671273], \"type\": \"scatter\", \"uid\": \"b4fa7762-d10d-41a1-b82e-07de3b3a80e2\"}, {\"marker\": {\"symbol\": \"x\"}, \"mode\": \"lines+markers\", \"name\": \"Bagging\", \"x\": [\"accuracy\", \"FPR\", \"FNR\", \"auc\"], \"y\": [0.8758177060619277, 0.1276622400400902, 0.10084033613445378, 0.885748711912728], \"type\": \"scatter\", \"uid\": \"6336dcbf-d385-4bc3-973c-60b40cdda60a\"}, {\"marker\": {\"symbol\": \"x\"}, \"mode\": \"lines+markers\", \"name\": \"Neural Network\", \"x\": [\"accuracy\", \"FPR\", \"FNR\", \"auc\"], \"y\": [0.8776711731356301, 0.12427962916562266, 0.1092436974789916, 0.885748711912728], \"type\": \"scatter\", \"uid\": \"4cb6eeaa-b510-46f0-ad9c-d39a1b7c7cc3\"}], {\"title\": \"Result comparision for Features selected in Section 1\", \"yaxis\": {\"dtick\": 0.05, \"tick0\": 0}}, {\"showLink\": true, \"linkText\": \"Export to plot.ly\", \"plotlyServerURL\": \"https://plot.ly\"})});</script><script type=\"text/javascript\">window.addEventListener(\"resize\", function(){window._Plotly.Plots.resize(document.getElementById(\"1b39ae5e-13bc-4867-9ae4-b02a548dfe88\"));});</script>"
      ]
     },
     "metadata": {},
     "output_type": "display_data"
    }
   ],
   "source": [
    "trace0 = go.Scatter(x=table_80_90_test.iloc[0].index.values[[0,5,6,7]],\n",
    "                    y=table_80_90_test.iloc[0].values[[0,5,6,7]],\n",
    "                    mode = 'lines',\n",
    "                    name = 'KNN_model')\n",
    "\n",
    "trace1 = go.Scatter(x=table_80_90_test.iloc[1].index.values[[0,5,6,7]],\n",
    "                    y=table_80_90_test.iloc[1].values[[0,5,6,7]],\n",
    "                    mode = 'lines+markers',\n",
    "                    name = 'Logistic Regression')\n",
    "\n",
    "trace2 = go.Scatter(x=table_80_90_test.iloc[2].index.values[[0,5,6,7]],\n",
    "                    y=table_80_90_test.iloc[2].values[[0,5,6,7]],\n",
    "                    mode = 'lines+markers',marker=dict(symbol='x'),\n",
    "                    name = 'Random Forest')\n",
    "\n",
    "\n",
    "trace3 = go.Scatter(x=table_80_90_test.iloc[3].index.values[[0,5,6,7]],\n",
    "                    y=table_80_90_test.iloc[3].values[[0,5,6,7]],\n",
    "                    mode = 'lines',\n",
    "                    name = 'Ada Boost')\n",
    "\n",
    "trace4 = go.Scatter(x=table_80_90_test.iloc[4].index.values[[0,5,6,7]],\n",
    "                    y=table_80_90_test.iloc[4].values[[0,5,6,7]],\n",
    "                    mode = 'lines+markers',\n",
    "                    name = 'GradientBoosting')\n",
    "\n",
    "trace5 = go.Scatter(x=table_80_90_test.iloc[5].index.values[[0,5,6,7]],\n",
    "                    y=table_80_90_test.iloc[5].values[[0,5,6,7]],\n",
    "                    mode = 'lines+markers',marker=dict(symbol='x'),\n",
    "                    name = 'ExtraTree Classifier')\n",
    "\n",
    "trace6 = go.Scatter(x=table_80_90_test.iloc[6].index.values[[0,5,6,7]],\n",
    "                    y=table_80_90_test.iloc[6].values[[0,5,6,7]],\n",
    "                    mode = 'lines+markers',marker=dict(symbol='x'),\n",
    "                    name = 'Bagging')\n",
    "\n",
    "trace7 = go.Scatter(x=table_80_90_test.iloc[7].index.values[[0,5,6,7]],\n",
    "                    y=table_80_90_test.iloc[7].values[[0,5,6,7]],\n",
    "                    mode = 'lines+markers',marker=dict(symbol='x'),\n",
    "                    name = 'Neural Network')\n",
    "\n",
    "\n",
    "\n",
    "data = [trace0, trace1, trace2, trace3, trace4, trace5, trace6, trace7]\n",
    "layout = go.Layout(yaxis=dict(tick0=0,dtick=0.05),title='Result comparision for Features selected in Section 1')\n",
    "fig = go.Figure(data=data, layout=layout)\n",
    "\n",
    "iplot(fig, filename='Result')"
   ]
  },
  {
   "cell_type": "code",
   "execution_count": 25,
   "metadata": {},
   "outputs": [
    {
     "name": "stdout",
     "output_type": "stream",
     "text": [
      "Training Results\n"
     ]
    },
    {
     "data": {
      "text/html": [
       "<div>\n",
       "<style scoped>\n",
       "    .dataframe tbody tr th:only-of-type {\n",
       "        vertical-align: middle;\n",
       "    }\n",
       "\n",
       "    .dataframe tbody tr th {\n",
       "        vertical-align: top;\n",
       "    }\n",
       "\n",
       "    .dataframe thead th {\n",
       "        text-align: right;\n",
       "    }\n",
       "</style>\n",
       "<table border=\"1\" class=\"dataframe\">\n",
       "  <thead>\n",
       "    <tr style=\"text-align: right;\">\n",
       "      <th></th>\n",
       "      <th>accuracy</th>\n",
       "      <th>TP</th>\n",
       "      <th>TN</th>\n",
       "      <th>FP</th>\n",
       "      <th>FN</th>\n",
       "      <th>FPR</th>\n",
       "      <th>FNR</th>\n",
       "    </tr>\n",
       "    <tr>\n",
       "      <th>index</th>\n",
       "      <th></th>\n",
       "      <th></th>\n",
       "      <th></th>\n",
       "      <th></th>\n",
       "      <th></th>\n",
       "      <th></th>\n",
       "      <th></th>\n",
       "    </tr>\n",
       "  </thead>\n",
       "  <tbody>\n",
       "    <tr>\n",
       "      <th>KNeighborsClassifier</th>\n",
       "      <td>0.836783</td>\n",
       "      <td>3714.0</td>\n",
       "      <td>4371.0</td>\n",
       "      <td>460.0</td>\n",
       "      <td>1117.0</td>\n",
       "      <td>0.095218</td>\n",
       "      <td>0.231215</td>\n",
       "    </tr>\n",
       "    <tr>\n",
       "      <th>LogisticRegression</th>\n",
       "      <td>0.831919</td>\n",
       "      <td>4024.0</td>\n",
       "      <td>4014.0</td>\n",
       "      <td>817.0</td>\n",
       "      <td>807.0</td>\n",
       "      <td>0.169116</td>\n",
       "      <td>0.167046</td>\n",
       "    </tr>\n",
       "    <tr>\n",
       "      <th>RandomForestClassifier</th>\n",
       "      <td>0.915545</td>\n",
       "      <td>4490.0</td>\n",
       "      <td>4356.0</td>\n",
       "      <td>475.0</td>\n",
       "      <td>341.0</td>\n",
       "      <td>0.098323</td>\n",
       "      <td>0.070586</td>\n",
       "    </tr>\n",
       "    <tr>\n",
       "      <th>AdaBoostClassifier</th>\n",
       "      <td>0.856655</td>\n",
       "      <td>4271.0</td>\n",
       "      <td>4006.0</td>\n",
       "      <td>825.0</td>\n",
       "      <td>560.0</td>\n",
       "      <td>0.170772</td>\n",
       "      <td>0.115918</td>\n",
       "    </tr>\n",
       "    <tr>\n",
       "      <th>GradientBoostingClassifier</th>\n",
       "      <td>0.883047</td>\n",
       "      <td>4368.0</td>\n",
       "      <td>4164.0</td>\n",
       "      <td>667.0</td>\n",
       "      <td>463.0</td>\n",
       "      <td>0.138067</td>\n",
       "      <td>0.095839</td>\n",
       "    </tr>\n",
       "    <tr>\n",
       "      <th>ExtraTreeClassifier</th>\n",
       "      <td>0.919478</td>\n",
       "      <td>4512.0</td>\n",
       "      <td>4372.0</td>\n",
       "      <td>459.0</td>\n",
       "      <td>319.0</td>\n",
       "      <td>0.095011</td>\n",
       "      <td>0.066032</td>\n",
       "    </tr>\n",
       "    <tr>\n",
       "      <th>BaggingClassifier</th>\n",
       "      <td>0.915856</td>\n",
       "      <td>4502.0</td>\n",
       "      <td>4347.0</td>\n",
       "      <td>484.0</td>\n",
       "      <td>329.0</td>\n",
       "      <td>0.100186</td>\n",
       "      <td>0.068102</td>\n",
       "    </tr>\n",
       "    <tr>\n",
       "      <th>Neural Network-1</th>\n",
       "      <td>0.882633</td>\n",
       "      <td>4282.0</td>\n",
       "      <td>4246.0</td>\n",
       "      <td>585.0</td>\n",
       "      <td>549.0</td>\n",
       "      <td>0.121093</td>\n",
       "      <td>0.113641</td>\n",
       "    </tr>\n",
       "  </tbody>\n",
       "</table>\n",
       "</div>"
      ],
      "text/plain": [
       "                            accuracy      TP      TN     FP      FN       FPR  \\\n",
       "index                                                                           \n",
       "KNeighborsClassifier        0.836783  3714.0  4371.0  460.0  1117.0  0.095218   \n",
       "LogisticRegression          0.831919  4024.0  4014.0  817.0   807.0  0.169116   \n",
       "RandomForestClassifier      0.915545  4490.0  4356.0  475.0   341.0  0.098323   \n",
       "AdaBoostClassifier          0.856655  4271.0  4006.0  825.0   560.0  0.170772   \n",
       "GradientBoostingClassifier  0.883047  4368.0  4164.0  667.0   463.0  0.138067   \n",
       "ExtraTreeClassifier         0.919478  4512.0  4372.0  459.0   319.0  0.095011   \n",
       "BaggingClassifier           0.915856  4502.0  4347.0  484.0   329.0  0.100186   \n",
       "Neural Network-1            0.882633  4282.0  4246.0  585.0   549.0  0.121093   \n",
       "\n",
       "                                 FNR  \n",
       "index                                 \n",
       "KNeighborsClassifier        0.231215  \n",
       "LogisticRegression          0.167046  \n",
       "RandomForestClassifier      0.070586  \n",
       "AdaBoostClassifier          0.115918  \n",
       "GradientBoostingClassifier  0.095839  \n",
       "ExtraTreeClassifier         0.066032  \n",
       "BaggingClassifier           0.068102  \n",
       "Neural Network-1            0.113641  "
      ]
     },
     "metadata": {},
     "output_type": "display_data"
    },
    {
     "name": "stdout",
     "output_type": "stream",
     "text": [
      "Test Results\n"
     ]
    },
    {
     "data": {
      "text/html": [
       "<div>\n",
       "<style scoped>\n",
       "    .dataframe tbody tr th:only-of-type {\n",
       "        vertical-align: middle;\n",
       "    }\n",
       "\n",
       "    .dataframe tbody tr th {\n",
       "        vertical-align: top;\n",
       "    }\n",
       "\n",
       "    .dataframe thead th {\n",
       "        text-align: right;\n",
       "    }\n",
       "</style>\n",
       "<table border=\"1\" class=\"dataframe\">\n",
       "  <thead>\n",
       "    <tr style=\"text-align: right;\">\n",
       "      <th></th>\n",
       "      <th>accuracy</th>\n",
       "      <th>TP</th>\n",
       "      <th>TN</th>\n",
       "      <th>FP</th>\n",
       "      <th>FN</th>\n",
       "      <th>FPR</th>\n",
       "      <th>FNR</th>\n",
       "      <th>auc</th>\n",
       "      <th>mcc</th>\n",
       "    </tr>\n",
       "    <tr>\n",
       "      <th>index</th>\n",
       "      <th></th>\n",
       "      <th></th>\n",
       "      <th></th>\n",
       "      <th></th>\n",
       "      <th></th>\n",
       "      <th></th>\n",
       "      <th></th>\n",
       "      <th></th>\n",
       "      <th></th>\n",
       "    </tr>\n",
       "  </thead>\n",
       "  <tbody>\n",
       "    <tr>\n",
       "      <th>KNeighborsClassifier</th>\n",
       "      <td>0.877780</td>\n",
       "      <td>913.0</td>\n",
       "      <td>7138.0</td>\n",
       "      <td>844.0</td>\n",
       "      <td>277.0</td>\n",
       "      <td>0.105738</td>\n",
       "      <td>0.232773</td>\n",
       "      <td>0.830744</td>\n",
       "      <td>0.564821</td>\n",
       "    </tr>\n",
       "    <tr>\n",
       "      <th>LogisticRegression</th>\n",
       "      <td>0.826537</td>\n",
       "      <td>993.0</td>\n",
       "      <td>6588.0</td>\n",
       "      <td>1394.0</td>\n",
       "      <td>197.0</td>\n",
       "      <td>0.174643</td>\n",
       "      <td>0.165546</td>\n",
       "      <td>0.829905</td>\n",
       "      <td>0.505298</td>\n",
       "    </tr>\n",
       "    <tr>\n",
       "      <th>RandomForestClassifier</th>\n",
       "      <td>0.877235</td>\n",
       "      <td>1075.0</td>\n",
       "      <td>6971.0</td>\n",
       "      <td>1011.0</td>\n",
       "      <td>115.0</td>\n",
       "      <td>0.126660</td>\n",
       "      <td>0.096639</td>\n",
       "      <td>0.888351</td>\n",
       "      <td>0.622624</td>\n",
       "    </tr>\n",
       "    <tr>\n",
       "      <th>AdaBoostClassifier</th>\n",
       "      <td>0.831880</td>\n",
       "      <td>1043.0</td>\n",
       "      <td>6587.0</td>\n",
       "      <td>1395.0</td>\n",
       "      <td>147.0</td>\n",
       "      <td>0.174768</td>\n",
       "      <td>0.123529</td>\n",
       "      <td>0.850851</td>\n",
       "      <td>0.533739</td>\n",
       "    </tr>\n",
       "    <tr>\n",
       "      <th>GradientBoostingClassifier</th>\n",
       "      <td>0.859682</td>\n",
       "      <td>1076.0</td>\n",
       "      <td>6809.0</td>\n",
       "      <td>1173.0</td>\n",
       "      <td>114.0</td>\n",
       "      <td>0.146956</td>\n",
       "      <td>0.095798</td>\n",
       "      <td>0.878623</td>\n",
       "      <td>0.591459</td>\n",
       "    </tr>\n",
       "    <tr>\n",
       "      <th>ExtraTreeClassifier</th>\n",
       "      <td>0.876799</td>\n",
       "      <td>1073.0</td>\n",
       "      <td>6969.0</td>\n",
       "      <td>1013.0</td>\n",
       "      <td>117.0</td>\n",
       "      <td>0.126911</td>\n",
       "      <td>0.098319</td>\n",
       "      <td>0.887385</td>\n",
       "      <td>0.621076</td>\n",
       "    </tr>\n",
       "    <tr>\n",
       "      <th>BaggingClassifier</th>\n",
       "      <td>0.875818</td>\n",
       "      <td>1070.0</td>\n",
       "      <td>6963.0</td>\n",
       "      <td>1019.0</td>\n",
       "      <td>120.0</td>\n",
       "      <td>0.127662</td>\n",
       "      <td>0.100840</td>\n",
       "      <td>0.885749</td>\n",
       "      <td>0.618139</td>\n",
       "    </tr>\n",
       "    <tr>\n",
       "      <th>Neural Network-1</th>\n",
       "      <td>0.877671</td>\n",
       "      <td>1060.0</td>\n",
       "      <td>6990.0</td>\n",
       "      <td>992.0</td>\n",
       "      <td>130.0</td>\n",
       "      <td>0.124280</td>\n",
       "      <td>0.109244</td>\n",
       "      <td>0.885749</td>\n",
       "      <td>0.618016</td>\n",
       "    </tr>\n",
       "  </tbody>\n",
       "</table>\n",
       "</div>"
      ],
      "text/plain": [
       "                            accuracy      TP      TN      FP     FN       FPR  \\\n",
       "index                                                                           \n",
       "KNeighborsClassifier        0.877780   913.0  7138.0   844.0  277.0  0.105738   \n",
       "LogisticRegression          0.826537   993.0  6588.0  1394.0  197.0  0.174643   \n",
       "RandomForestClassifier      0.877235  1075.0  6971.0  1011.0  115.0  0.126660   \n",
       "AdaBoostClassifier          0.831880  1043.0  6587.0  1395.0  147.0  0.174768   \n",
       "GradientBoostingClassifier  0.859682  1076.0  6809.0  1173.0  114.0  0.146956   \n",
       "ExtraTreeClassifier         0.876799  1073.0  6969.0  1013.0  117.0  0.126911   \n",
       "BaggingClassifier           0.875818  1070.0  6963.0  1019.0  120.0  0.127662   \n",
       "Neural Network-1            0.877671  1060.0  6990.0   992.0  130.0  0.124280   \n",
       "\n",
       "                                 FNR       auc       mcc  \n",
       "index                                                     \n",
       "KNeighborsClassifier        0.232773  0.830744  0.564821  \n",
       "LogisticRegression          0.165546  0.829905  0.505298  \n",
       "RandomForestClassifier      0.096639  0.888351  0.622624  \n",
       "AdaBoostClassifier          0.123529  0.850851  0.533739  \n",
       "GradientBoostingClassifier  0.095798  0.878623  0.591459  \n",
       "ExtraTreeClassifier         0.098319  0.887385  0.621076  \n",
       "BaggingClassifier           0.100840  0.885749  0.618139  \n",
       "Neural Network-1            0.109244  0.885749  0.618016  "
      ]
     },
     "metadata": {},
     "output_type": "display_data"
    }
   ],
   "source": [
    "table_80_90_train['index']=ind_columns\n",
    "table_80_90_test['index']=ind_columns\n",
    "\n",
    "\n",
    "table_80_90_test.set_index(['index'],drop=True,inplace=True)\n",
    "table_80_90_train.set_index(['index'],drop=True,inplace=True)\n",
    "\n",
    "print(\"Training Results\")\n",
    "display(table_80_90_train)\n",
    "print(\"Test Results\")\n",
    "display(table_80_90_test)"
   ]
  },
  {
   "cell_type": "markdown",
   "metadata": {},
   "source": [
    "### <a id='3.B' style=\"text-decoration : none; color : #000000;\"> B. Average Feature Importances</a>"
   ]
  },
  {
   "cell_type": "code",
   "execution_count": 26,
   "metadata": {},
   "outputs": [
    {
     "data": {
      "application/vnd.plotly.v1+json": {
       "config": {
        "linkText": "Export to plot.ly",
        "plotlyServerURL": "https://plot.ly",
        "showLink": true
       },
       "data": [
        {
         "marker": {
          "color": "rgb(158,202,225)",
          "line": {
           "color": "rgb(8,48,107)",
           "width": 1.5
          }
         },
         "opacity": 0.6,
         "orientation": "h",
         "text": [
          0.3552,
          0.2885,
          0.1068,
          0.0497,
          0.0468,
          0.0359,
          0.02,
          0.0173,
          0.0173,
          0.0155,
          0.0148,
          0.012,
          0.0107,
          0.0097
         ],
         "textposition": "outside",
         "type": "bar",
         "uid": "17c0f8d8-3aca-404d-a085-b7302133db0a",
         "x": [
          0.3552021847169588,
          0.2884678146990268,
          0.10675645642929336,
          0.04965739279538524,
          0.04684142656399399,
          0.03585758978647105,
          0.020033047073826336,
          0.017296668366561373,
          0.01728229396611889,
          0.015527308338710088,
          0.014784091158651258,
          0.011953129735699654,
          0.010671338173191915,
          0.009669258196111256
         ],
         "y": [
          "http_header_content-length",
          "http_header_content-encoding_gzip",
          "http_header_content-language_text/html",
          "http_header_cache-control_set_max-age",
          "http_header_server_apache",
          "http_header_server_nginx",
          "http_header_strict-transport-security_max-age",
          "http_header_cache-control_set_no-store",
          "http_header_x-xss-enabled",
          "http_header_cache-control_set_private",
          "http_header_cache-control_set_no-cache",
          "http_header_x-cintent-type-options_nosniff",
          "http_header_cache-control_set_must-revalidate",
          "http_header_cache-control_set_public"
         ]
        }
       ],
       "layout": {
        "autosize": false,
        "height": 1000,
        "width": 1000,
        "xaxis": {
         "tickfont": {
          "color": "black",
          "size": 12
         },
         "title": "Feature Importances"
        },
        "yaxis": {
         "automargin": true
        }
       }
      },
      "text/html": [
       "<div id=\"76ab40e6-70d2-49de-a252-1f9a795ab35d\" style=\"height: 1000px; width: 1000px;\" class=\"plotly-graph-div\"></div><script type=\"text/javascript\">require([\"plotly\"], function(Plotly) { window.PLOTLYENV=window.PLOTLYENV || {};window.PLOTLYENV.BASE_URL=\"https://plot.ly\";Plotly.newPlot(\"76ab40e6-70d2-49de-a252-1f9a795ab35d\", [{\"marker\": {\"color\": \"rgb(158,202,225)\", \"line\": {\"color\": \"rgb(8,48,107)\", \"width\": 1.5}}, \"opacity\": 0.6, \"orientation\": \"h\", \"text\": [0.3552, 0.2885, 0.1068, 0.0497, 0.0468, 0.0359, 0.02, 0.0173, 0.0173, 0.0155, 0.0148, 0.012, 0.0107, 0.0097], \"textposition\": \"outside\", \"x\": [0.3552021847169588, 0.2884678146990268, 0.10675645642929336, 0.04965739279538524, 0.04684142656399399, 0.03585758978647105, 0.020033047073826336, 0.017296668366561373, 0.01728229396611889, 0.015527308338710088, 0.014784091158651258, 0.011953129735699654, 0.010671338173191915, 0.009669258196111256], \"y\": [\"http_header_content-length\", \"http_header_content-encoding_gzip\", \"http_header_content-language_text/html\", \"http_header_cache-control_set_max-age\", \"http_header_server_apache\", \"http_header_server_nginx\", \"http_header_strict-transport-security_max-age\", \"http_header_cache-control_set_no-store\", \"http_header_x-xss-enabled\", \"http_header_cache-control_set_private\", \"http_header_cache-control_set_no-cache\", \"http_header_x-cintent-type-options_nosniff\", \"http_header_cache-control_set_must-revalidate\", \"http_header_cache-control_set_public\"], \"type\": \"bar\", \"uid\": \"17c0f8d8-3aca-404d-a085-b7302133db0a\"}], {\"autosize\": false, \"height\": 1000, \"width\": 1000, \"xaxis\": {\"tickfont\": {\"color\": \"black\", \"size\": 12}, \"title\": \"Feature Importances\"}, \"yaxis\": {\"automargin\": true}}, {\"showLink\": true, \"linkText\": \"Export to plot.ly\", \"plotlyServerURL\": \"https://plot.ly\"})});</script>"
      ],
      "text/vnd.plotly.v1+html": [
       "<div id=\"76ab40e6-70d2-49de-a252-1f9a795ab35d\" style=\"height: 1000px; width: 1000px;\" class=\"plotly-graph-div\"></div><script type=\"text/javascript\">require([\"plotly\"], function(Plotly) { window.PLOTLYENV=window.PLOTLYENV || {};window.PLOTLYENV.BASE_URL=\"https://plot.ly\";Plotly.newPlot(\"76ab40e6-70d2-49de-a252-1f9a795ab35d\", [{\"marker\": {\"color\": \"rgb(158,202,225)\", \"line\": {\"color\": \"rgb(8,48,107)\", \"width\": 1.5}}, \"opacity\": 0.6, \"orientation\": \"h\", \"text\": [0.3552, 0.2885, 0.1068, 0.0497, 0.0468, 0.0359, 0.02, 0.0173, 0.0173, 0.0155, 0.0148, 0.012, 0.0107, 0.0097], \"textposition\": \"outside\", \"x\": [0.3552021847169588, 0.2884678146990268, 0.10675645642929336, 0.04965739279538524, 0.04684142656399399, 0.03585758978647105, 0.020033047073826336, 0.017296668366561373, 0.01728229396611889, 0.015527308338710088, 0.014784091158651258, 0.011953129735699654, 0.010671338173191915, 0.009669258196111256], \"y\": [\"http_header_content-length\", \"http_header_content-encoding_gzip\", \"http_header_content-language_text/html\", \"http_header_cache-control_set_max-age\", \"http_header_server_apache\", \"http_header_server_nginx\", \"http_header_strict-transport-security_max-age\", \"http_header_cache-control_set_no-store\", \"http_header_x-xss-enabled\", \"http_header_cache-control_set_private\", \"http_header_cache-control_set_no-cache\", \"http_header_x-cintent-type-options_nosniff\", \"http_header_cache-control_set_must-revalidate\", \"http_header_cache-control_set_public\"], \"type\": \"bar\", \"uid\": \"17c0f8d8-3aca-404d-a085-b7302133db0a\"}], {\"autosize\": false, \"height\": 1000, \"width\": 1000, \"xaxis\": {\"tickfont\": {\"color\": \"black\", \"size\": 12}, \"title\": \"Feature Importances\"}, \"yaxis\": {\"automargin\": true}}, {\"showLink\": true, \"linkText\": \"Export to plot.ly\", \"plotlyServerURL\": \"https://plot.ly\"})});</script>"
      ]
     },
     "metadata": {},
     "output_type": "display_data"
    }
   ],
   "source": [
    "feat_impt_plot(np.average(feat_imp,axis=0),columns[:-2])"
   ]
  },
  {
   "cell_type": "markdown",
   "metadata": {},
   "source": [
    "### <a id='4' style=\"text-decoration : none; color : #000000;\">4. Feature Transformation with feature selection </a>"
   ]
  },
  {
   "cell_type": "code",
   "execution_count": 27,
   "metadata": {},
   "outputs": [
    {
     "name": "stdout",
     "output_type": "stream",
     "text": [
      "Built 378 features\n",
      "EntitySet scattered to workers in 4.287 seconds\n",
      "Elapsed: 00:02 | Remaining: 00:00 | Progress: 100%|██████████| Calculated: 11/11 chunks\n"
     ]
    }
   ],
   "source": [
    "df.reset_index(inplace=True)\n",
    "columns.remove('Target')\n",
    "df_min=df[columns]\n",
    "\n",
    "es = ft.EntitySet(id = 'malicious')\n",
    "es.entity_from_dataframe(entity_id = 'data', dataframe = df_min, index = 'domain')\n",
    "\n",
    "feature_matrix_sessions, features_defs = ft.dfs(entityset=es,target_entity=\"data\",\n",
    "                                                trans_primitives = ['add','divide','multiply'],n_jobs=-1,\n",
    "                                                verbose=1,max_depth=1)"
   ]
  },
  {
   "cell_type": "code",
   "execution_count": 28,
   "metadata": {
    "collapsed": true
   },
   "outputs": [],
   "source": [
    "df.set_index(['domain'],drop=True,inplace=True)\n",
    "fs=pd.merge(feature_matrix_sessions,pd.DataFrame(df.Target),left_index=True, right_index=True)\n",
    "fs.replace([np.inf],0,inplace=True)\n",
    "fs.fillna(value=0,inplace=True)"
   ]
  },
  {
   "cell_type": "code",
   "execution_count": 29,
   "metadata": {
    "collapsed": true
   },
   "outputs": [],
   "source": [
    "X=fs.loc[:,fs.columns!='Target']\n",
    "y=fs.Target\n",
    "feature_name = X.columns.tolist()"
   ]
  },
  {
   "cell_type": "code",
   "execution_count": 30,
   "metadata": {
    "collapsed": true
   },
   "outputs": [],
   "source": [
    "def cor_selector(X, y):\n",
    "    cor_list = []\n",
    "    # calculate the correlation with y for each feature\n",
    "    for i in X.columns.tolist():\n",
    "        cor = np.corrcoef(X[i], y)[0, 1]\n",
    "        cor_list.append(cor)\n",
    "    # replace NaN with 0\n",
    "    cor_list = [0 if np.isnan(i) else i for i in cor_list]\n",
    "    # feature name\n",
    "    cor_feature = X.iloc[:,np.argsort(np.abs(cor_list))[-100:]].columns.tolist()\n",
    "    # feature selection? 0 for not select, 1 for select\n",
    "    cor_support = [True if i in cor_feature else False for i in feature_name]\n",
    "    return cor_support, cor_feature\n",
    "\n",
    "\n",
    "cor_support, cor_feature = cor_selector(X, y)"
   ]
  },
  {
   "cell_type": "code",
   "execution_count": 31,
   "metadata": {
    "collapsed": true
   },
   "outputs": [],
   "source": [
    "X_norm = MinMaxScaler().fit_transform(X)\n",
    "chi_selector = SelectKBest(chi2, k=100)\n",
    "chi_selector.fit(X_norm, y)\n",
    "chi_support = chi_selector.get_support()\n",
    "chi_feature = X.loc[:,chi_support].columns.tolist()"
   ]
  },
  {
   "cell_type": "code",
   "execution_count": 32,
   "metadata": {
    "collapsed": true
   },
   "outputs": [],
   "source": [
    "rfe_selector = RFE(estimator=LogisticRegression(random_state=0), n_features_to_select=100, step=0.3, verbose=False)\n",
    "rfe_selector.fit(X_norm, y)\n",
    "rfe_support = rfe_selector.get_support()\n",
    "rfe_feature = X.loc[:,rfe_support].columns.tolist()"
   ]
  },
  {
   "cell_type": "code",
   "execution_count": 33,
   "metadata": {
    "collapsed": true
   },
   "outputs": [],
   "source": [
    "embeded_rf_selector = SelectFromModel(RandomForestClassifier(n_estimators=100,random_state=0), threshold='23*median')\n",
    "embeded_rf_selector.fit(X, y)\n",
    "embeded_rf_support = embeded_rf_selector.get_support()\n",
    "embeded_rf_feature = X.loc[:,embeded_rf_support].columns.tolist()"
   ]
  },
  {
   "cell_type": "code",
   "execution_count": 34,
   "metadata": {
    "collapsed": true
   },
   "outputs": [],
   "source": [
    "feature_selection_df = pd.DataFrame({'Feature':feature_name, 'Pearson':cor_support, 'Chi-2':chi_support, 'RFE':rfe_support,\n",
    "                                    'Random Forest':embeded_rf_support})\n",
    "# count the selected times for each feature\n",
    "feature_selection_df['Total'] = np.sum(feature_selection_df, axis=1)\n",
    "# display the top 100\n",
    "feature_selection_df = feature_selection_df.sort_values(['Total','Feature'] , ascending=False)\n",
    "feature_selection_df.index = range(1, len(feature_selection_df)+1)"
   ]
  },
  {
   "cell_type": "code",
   "execution_count": 35,
   "metadata": {
    "collapsed": true
   },
   "outputs": [],
   "source": [
    "columns=feature_selection_df[feature_selection_df.Total>=3]['Feature'].values"
   ]
  },
  {
   "cell_type": "code",
   "execution_count": 37,
   "metadata": {},
   "outputs": [],
   "source": [
    "fs=fs.reindex(df.index.values)\n",
    "train=fs.iloc[:36684]\n",
    "train_Y=train.Target.values\n",
    "train_X=train[columns].values\n",
    "\n",
    "\n",
    "scaler=StandardScaler()\n",
    "scaled_X_train=scaler.fit_transform(train_X)\n",
    "\n",
    "test=fs.iloc[36684:]\n",
    "test_Y=test.Target.values\n",
    "test_X=test[columns]\n",
    "\n",
    "scaled_X_test=scaler.transform(test_X)"
   ]
  },
  {
   "cell_type": "code",
   "execution_count": 38,
   "metadata": {},
   "outputs": [
    {
     "name": "stdout",
     "output_type": "stream",
     "text": [
      "Features we will be using:\n",
      "\n"
     ]
    },
    {
     "data": {
      "text/plain": [
       "array(['http_header_content-language_text/html + http_header_server_nginx',\n",
       "       'http_header_content-language_text/html',\n",
       "       'http_header_content-encoding_gzip / http_header_content-length',\n",
       "       'http_header_content-encoding_gzip + http_header_server_nginx',\n",
       "       'http_header_content-encoding_gzip + http_header_content-language_text/html',\n",
       "       'http_header_content-encoding_gzip',\n",
       "       'http_header_cache-control_set_private + http_header_content-language_text/html',\n",
       "       'http_header_cache-control_set_no-cache + http_header_content-language_text/html',\n",
       "       'http_header_cache-control_set_no-cache + http_header_content-encoding_gzip',\n",
       "       'http_header_server_nginx / http_header_content-language_text/html',\n",
       "       'http_header_content-language_text/html / http_header_x-cintent-type-options_nosniff',\n",
       "       'http_header_content-language_text/html / http_header_server_nginx',\n",
       "       'http_header_content-language_text/html / http_header_content-encoding_gzip',\n",
       "       'http_header_content-language_text/html / http_header_cache-control_set_max-age',\n",
       "       'http_header_content-language_text/html + http_header_x-xss-enabled',\n",
       "       'http_header_content-language_text/html + http_header_x-cintent-type-options_nosniff',\n",
       "       'http_header_content-language_text/html * http_header_server_nginx',\n",
       "       'http_header_content-encoding_gzip / http_header_content-language_text/html',\n",
       "       'http_header_content-encoding_gzip / http_header_cache-control_set_no-store',\n",
       "       'http_header_content-encoding_gzip + http_header_x-xss-enabled',\n",
       "       'http_header_content-encoding_gzip + http_header_x-cintent-type-options_nosniff',\n",
       "       'http_header_content-encoding_gzip + http_header_strict-transport-security_max-age',\n",
       "       'http_header_content-encoding_gzip * http_header_content-language_text/html',\n",
       "       'http_header_cache-control_set_public + http_header_content-encoding_gzip',\n",
       "       'http_header_cache-control_set_private + http_header_content-encoding_gzip',\n",
       "       'http_header_cache-control_set_no-store / http_header_content-encoding_gzip',\n",
       "       'http_header_cache-control_set_no-store + http_header_content-language_text/html',\n",
       "       'http_header_cache-control_set_no-store + http_header_content-encoding_gzip',\n",
       "       'http_header_cache-control_set_no-store * http_header_content-encoding_gzip',\n",
       "       'http_header_cache-control_set_no-cache + http_header_server_nginx',\n",
       "       'http_header_cache-control_set_must-revalidate + http_header_content-language_text/html',\n",
       "       'http_header_cache-control_set_max-age / http_header_content-language_text/html',\n",
       "       'http_header_cache-control_set_max-age + http_header_content-language_text/html',\n",
       "       'http_header_cache-control_set_max-age + http_header_content-encoding_gzip',\n",
       "       'http_header_cache-control_set_max-age + http_header_cache-control_set_no-store',\n",
       "       'http_header_cache-control_set_max-age * http_header_content-language_text/html'], dtype=object)"
      ]
     },
     "metadata": {},
     "output_type": "display_data"
    }
   ],
   "source": [
    "print('Features we will be using:\\n')\n",
    "display(columns)"
   ]
  },
  {
   "cell_type": "code",
   "execution_count": 39,
   "metadata": {
    "collapsed": true
   },
   "outputs": [],
   "source": [
    "## Table to store training and test measures so we can compare later\n",
    "table_80_60_train=pd.DataFrame(columns=['accuracy','TP','TN','FP','FN','FPR','FNR'])\n",
    "table_80_60_test=pd.DataFrame(columns=['accuracy','TP','TN','FP','FN','FPR','FNR','auc','mcc'])"
   ]
  },
  {
   "cell_type": "code",
   "execution_count": 40,
   "metadata": {
    "scrolled": false
   },
   "outputs": [
    {
     "name": "stdout",
     "output_type": "stream",
     "text": [
      "\u001b[1mK-Nearest Neighbors\u001b[0m\n",
      "Accuracy of the model for training data is: 0.885236070221\n",
      "Confusion Matrix for training data is:\n"
     ]
    },
    {
     "data": {
      "text/plain": [
       "Predicted  False  True  __all__\n",
       "Actual                         \n",
       "False      29085  2768    31853\n",
       "True        1442  3389     4831\n",
       "__all__    30527  6157    36684"
      ]
     },
     "metadata": {},
     "output_type": "display_data"
    },
    {
     "name": "stdout",
     "output_type": "stream",
     "text": [
      "Accuracy of the model for test data is: 0.883122546882\n",
      "Confusion Matrix for test data is:\n"
     ]
    },
    {
     "data": {
      "text/plain": [
       "Predicted  False  True  __all__\n",
       "Actual                         \n",
       "False       7272   710     7982\n",
       "True         362   828     1190\n",
       "__all__     7634  1538     9172"
      ]
     },
     "metadata": {},
     "output_type": "display_data"
    },
    {
     "name": "stdout",
     "output_type": "stream",
     "text": [
      "\n",
      "\n",
      "\u001b[1mLogistic Regression\u001b[0m\n",
      "Accuracy of the model for training data is: 0.882537345982\n",
      "Confusion Matrix for training data is:\n"
     ]
    },
    {
     "data": {
      "text/plain": [
       "Predicted  False  True  __all__\n",
       "Actual                         \n",
       "False      29107  2746    31853\n",
       "True        1563  3268     4831\n",
       "__all__    30670  6014    36684"
      ]
     },
     "metadata": {},
     "output_type": "display_data"
    },
    {
     "name": "stdout",
     "output_type": "stream",
     "text": [
      "Accuracy of the model for test data is: 0.880287832534\n",
      "Confusion Matrix for test data is:\n"
     ]
    },
    {
     "data": {
      "text/plain": [
       "Predicted  False  True  __all__\n",
       "Actual                         \n",
       "False       7283   699     7982\n",
       "True         399   791     1190\n",
       "__all__     7682  1490     9172"
      ]
     },
     "metadata": {},
     "output_type": "display_data"
    },
    {
     "name": "stdout",
     "output_type": "stream",
     "text": [
      "\n",
      "\n",
      "\u001b[1mRandomForest Classifier\u001b[0m\n",
      "Accuracy of the model for training data is: 0.889243266819\n",
      "Confusion Matrix for training data is:\n"
     ]
    },
    {
     "data": {
      "text/plain": [
       "Predicted  False  True  __all__\n",
       "Actual                         \n",
       "False      29071  2782    31853\n",
       "True        1281  3550     4831\n",
       "__all__    30352  6332    36684"
      ]
     },
     "metadata": {},
     "output_type": "display_data"
    },
    {
     "name": "stdout",
     "output_type": "stream",
     "text": [
      "Accuracy of the model for test data is: 0.882795464457\n",
      "Confusion Matrix for test data is:\n"
     ]
    },
    {
     "data": {
      "text/plain": [
       "Predicted  False  True  __all__\n",
       "Actual                         \n",
       "False       7250   732     7982\n",
       "True         343   847     1190\n",
       "__all__     7593  1579     9172"
      ]
     },
     "metadata": {},
     "output_type": "display_data"
    },
    {
     "data": {
      "application/vnd.plotly.v1+json": {
       "config": {
        "linkText": "Export to plot.ly",
        "plotlyServerURL": "https://plot.ly",
        "showLink": true
       },
       "data": [
        {
         "marker": {
          "color": "rgb(158,202,225)",
          "line": {
           "color": "rgb(8,48,107)",
           "width": 1.5
          }
         },
         "opacity": 0.6,
         "orientation": "h",
         "text": [
          0.2306,
          0.1549,
          0.1131,
          0.1037,
          0.0645,
          0.0592,
          0.0586,
          0.0296,
          0.0278,
          0.0265,
          0.0171,
          0.0158,
          0.0121,
          0.0114,
          0.011,
          0.0107,
          0.0104,
          0.0091,
          0.0059,
          0.0046,
          0.004,
          0.0034,
          0.0032,
          0.0031,
          0.0027,
          0.0022,
          0.0018,
          0.0018,
          0.0004,
          0.0003,
          0.0001,
          0.0001,
          0.0001,
          0,
          0,
          0
         ],
         "textposition": "outside",
         "type": "bar",
         "uid": "d90254f9-b638-4941-94ab-8c90d2448276",
         "x": [
          0.23055181108572115,
          0.1549332024601937,
          0.11314102799869293,
          0.10368164788189642,
          0.0645401644265271,
          0.05923681621280948,
          0.0585878837353818,
          0.029567013050932484,
          0.0277788261236169,
          0.026535746484156235,
          0.017059518992679046,
          0.015813204568750013,
          0.012129433762816364,
          0.011436672406358138,
          0.011019968497660923,
          0.010702622124321801,
          0.010384063343696454,
          0.009149156550952716,
          0.005945066458938684,
          0.0045962545018293135,
          0.0040232898079284474,
          0.0034352416050059905,
          0.003234982478978861,
          0.0031374570767828194,
          0.002651314833732115,
          0.002238423385047591,
          0.0017909441796430867,
          0.0017536442965349346,
          0.0003675342121260554,
          0.0002521590185829826,
          0.00011049557602075188,
          0.00010509121302969405,
          8.203047722860116e-05,
          1.8701745174262474e-05,
          5.807910728014032e-06,
          2.781515524108069e-06
         ],
         "y": [
          "http_header_content-encoding_gzip / http_header_content-length",
          "http_header_content-encoding_gzip + http_header_x-cintent-type-options_nosniff",
          "http_header_content-encoding_gzip + http_header_strict-transport-security_max-age",
          "http_header_content-encoding_gzip + http_header_x-xss-enabled",
          "http_header_cache-control_set_private + http_header_content-encoding_gzip",
          "http_header_cache-control_set_max-age + http_header_content-encoding_gzip",
          "http_header_content-encoding_gzip + http_header_server_nginx",
          "http_header_cache-control_set_no-store + http_header_content-language_text/html",
          "http_header_cache-control_set_no-cache + http_header_content-language_text/html",
          "http_header_cache-control_set_private + http_header_content-language_text/html",
          "http_header_cache-control_set_no-cache + http_header_server_nginx",
          "http_header_content-language_text/html + http_header_server_nginx",
          "http_header_cache-control_set_must-revalidate + http_header_content-language_text/html",
          "http_header_content-language_text/html + http_header_x-xss-enabled",
          "http_header_content-language_text/html + http_header_x-cintent-type-options_nosniff",
          "http_header_cache-control_set_max-age + http_header_cache-control_set_no-store",
          "http_header_cache-control_set_no-cache + http_header_content-encoding_gzip",
          "http_header_content-encoding_gzip + http_header_content-language_text/html",
          "http_header_cache-control_set_max-age * http_header_content-language_text/html",
          "http_header_server_nginx / http_header_content-language_text/html",
          "http_header_content-language_text/html / http_header_server_nginx",
          "http_header_cache-control_set_max-age + http_header_content-language_text/html",
          "http_header_content-language_text/html * http_header_server_nginx",
          "http_header_cache-control_set_no-store + http_header_content-encoding_gzip",
          "http_header_cache-control_set_public + http_header_content-encoding_gzip",
          "http_header_content-language_text/html / http_header_cache-control_set_max-age",
          "http_header_cache-control_set_max-age / http_header_content-language_text/html",
          "http_header_content-language_text/html / http_header_x-cintent-type-options_nosniff",
          "http_header_content-language_text/html",
          "http_header_cache-control_set_no-store * http_header_content-encoding_gzip",
          "http_header_content-encoding_gzip * http_header_content-language_text/html",
          "http_header_content-encoding_gzip",
          "http_header_cache-control_set_no-store / http_header_content-encoding_gzip",
          "http_header_content-encoding_gzip / http_header_cache-control_set_no-store",
          "http_header_content-encoding_gzip / http_header_content-language_text/html",
          "http_header_content-language_text/html / http_header_content-encoding_gzip"
         ]
        }
       ],
       "layout": {
        "autosize": false,
        "height": 1000,
        "width": 1000,
        "xaxis": {
         "tickfont": {
          "color": "black",
          "size": 12
         },
         "title": "Feature Importances"
        },
        "yaxis": {
         "automargin": true
        }
       }
      },
      "text/html": [
       "<div id=\"cda7026f-523e-467a-923b-bec8971d7332\" style=\"height: 1000px; width: 1000px;\" class=\"plotly-graph-div\"></div><script type=\"text/javascript\">require([\"plotly\"], function(Plotly) { window.PLOTLYENV=window.PLOTLYENV || {};window.PLOTLYENV.BASE_URL=\"https://plot.ly\";Plotly.newPlot(\"cda7026f-523e-467a-923b-bec8971d7332\", [{\"marker\": {\"color\": \"rgb(158,202,225)\", \"line\": {\"color\": \"rgb(8,48,107)\", \"width\": 1.5}}, \"opacity\": 0.6, \"orientation\": \"h\", \"text\": [0.2306, 0.1549, 0.1131, 0.1037, 0.0645, 0.0592, 0.0586, 0.0296, 0.0278, 0.0265, 0.0171, 0.0158, 0.0121, 0.0114, 0.011, 0.0107, 0.0104, 0.0091, 0.0059, 0.0046, 0.004, 0.0034, 0.0032, 0.0031, 0.0027, 0.0022, 0.0018, 0.0018, 0.0004, 0.0003, 0.0001, 0.0001, 0.0001, 0.0, 0.0, 0.0], \"textposition\": \"outside\", \"x\": [0.23055181108572115, 0.1549332024601937, 0.11314102799869293, 0.10368164788189642, 0.0645401644265271, 0.05923681621280948, 0.0585878837353818, 0.029567013050932484, 0.0277788261236169, 0.026535746484156235, 0.017059518992679046, 0.015813204568750013, 0.012129433762816364, 0.011436672406358138, 0.011019968497660923, 0.010702622124321801, 0.010384063343696454, 0.009149156550952716, 0.005945066458938684, 0.0045962545018293135, 0.0040232898079284474, 0.0034352416050059905, 0.003234982478978861, 0.0031374570767828194, 0.002651314833732115, 0.002238423385047591, 0.0017909441796430867, 0.0017536442965349346, 0.0003675342121260554, 0.0002521590185829826, 0.00011049557602075188, 0.00010509121302969405, 8.203047722860116e-05, 1.8701745174262474e-05, 5.807910728014032e-06, 2.781515524108069e-06], \"y\": [\"http_header_content-encoding_gzip / http_header_content-length\", \"http_header_content-encoding_gzip + http_header_x-cintent-type-options_nosniff\", \"http_header_content-encoding_gzip + http_header_strict-transport-security_max-age\", \"http_header_content-encoding_gzip + http_header_x-xss-enabled\", \"http_header_cache-control_set_private + http_header_content-encoding_gzip\", \"http_header_cache-control_set_max-age + http_header_content-encoding_gzip\", \"http_header_content-encoding_gzip + http_header_server_nginx\", \"http_header_cache-control_set_no-store + http_header_content-language_text/html\", \"http_header_cache-control_set_no-cache + http_header_content-language_text/html\", \"http_header_cache-control_set_private + http_header_content-language_text/html\", \"http_header_cache-control_set_no-cache + http_header_server_nginx\", \"http_header_content-language_text/html + http_header_server_nginx\", \"http_header_cache-control_set_must-revalidate + http_header_content-language_text/html\", \"http_header_content-language_text/html + http_header_x-xss-enabled\", \"http_header_content-language_text/html + http_header_x-cintent-type-options_nosniff\", \"http_header_cache-control_set_max-age + http_header_cache-control_set_no-store\", \"http_header_cache-control_set_no-cache + http_header_content-encoding_gzip\", \"http_header_content-encoding_gzip + http_header_content-language_text/html\", \"http_header_cache-control_set_max-age * http_header_content-language_text/html\", \"http_header_server_nginx / http_header_content-language_text/html\", \"http_header_content-language_text/html / http_header_server_nginx\", \"http_header_cache-control_set_max-age + http_header_content-language_text/html\", \"http_header_content-language_text/html * http_header_server_nginx\", \"http_header_cache-control_set_no-store + http_header_content-encoding_gzip\", \"http_header_cache-control_set_public + http_header_content-encoding_gzip\", \"http_header_content-language_text/html / http_header_cache-control_set_max-age\", \"http_header_cache-control_set_max-age / http_header_content-language_text/html\", \"http_header_content-language_text/html / http_header_x-cintent-type-options_nosniff\", \"http_header_content-language_text/html\", \"http_header_cache-control_set_no-store * http_header_content-encoding_gzip\", \"http_header_content-encoding_gzip * http_header_content-language_text/html\", \"http_header_content-encoding_gzip\", \"http_header_cache-control_set_no-store / http_header_content-encoding_gzip\", \"http_header_content-encoding_gzip / http_header_cache-control_set_no-store\", \"http_header_content-encoding_gzip / http_header_content-language_text/html\", \"http_header_content-language_text/html / http_header_content-encoding_gzip\"], \"type\": \"bar\", \"uid\": \"d90254f9-b638-4941-94ab-8c90d2448276\"}], {\"autosize\": false, \"height\": 1000, \"width\": 1000, \"xaxis\": {\"tickfont\": {\"color\": \"black\", \"size\": 12}, \"title\": \"Feature Importances\"}, \"yaxis\": {\"automargin\": true}}, {\"showLink\": true, \"linkText\": \"Export to plot.ly\", \"plotlyServerURL\": \"https://plot.ly\"})});</script>"
      ],
      "text/vnd.plotly.v1+html": [
       "<div id=\"cda7026f-523e-467a-923b-bec8971d7332\" style=\"height: 1000px; width: 1000px;\" class=\"plotly-graph-div\"></div><script type=\"text/javascript\">require([\"plotly\"], function(Plotly) { window.PLOTLYENV=window.PLOTLYENV || {};window.PLOTLYENV.BASE_URL=\"https://plot.ly\";Plotly.newPlot(\"cda7026f-523e-467a-923b-bec8971d7332\", [{\"marker\": {\"color\": \"rgb(158,202,225)\", \"line\": {\"color\": \"rgb(8,48,107)\", \"width\": 1.5}}, \"opacity\": 0.6, \"orientation\": \"h\", \"text\": [0.2306, 0.1549, 0.1131, 0.1037, 0.0645, 0.0592, 0.0586, 0.0296, 0.0278, 0.0265, 0.0171, 0.0158, 0.0121, 0.0114, 0.011, 0.0107, 0.0104, 0.0091, 0.0059, 0.0046, 0.004, 0.0034, 0.0032, 0.0031, 0.0027, 0.0022, 0.0018, 0.0018, 0.0004, 0.0003, 0.0001, 0.0001, 0.0001, 0.0, 0.0, 0.0], \"textposition\": \"outside\", \"x\": [0.23055181108572115, 0.1549332024601937, 0.11314102799869293, 0.10368164788189642, 0.0645401644265271, 0.05923681621280948, 0.0585878837353818, 0.029567013050932484, 0.0277788261236169, 0.026535746484156235, 0.017059518992679046, 0.015813204568750013, 0.012129433762816364, 0.011436672406358138, 0.011019968497660923, 0.010702622124321801, 0.010384063343696454, 0.009149156550952716, 0.005945066458938684, 0.0045962545018293135, 0.0040232898079284474, 0.0034352416050059905, 0.003234982478978861, 0.0031374570767828194, 0.002651314833732115, 0.002238423385047591, 0.0017909441796430867, 0.0017536442965349346, 0.0003675342121260554, 0.0002521590185829826, 0.00011049557602075188, 0.00010509121302969405, 8.203047722860116e-05, 1.8701745174262474e-05, 5.807910728014032e-06, 2.781515524108069e-06], \"y\": [\"http_header_content-encoding_gzip / http_header_content-length\", \"http_header_content-encoding_gzip + http_header_x-cintent-type-options_nosniff\", \"http_header_content-encoding_gzip + http_header_strict-transport-security_max-age\", \"http_header_content-encoding_gzip + http_header_x-xss-enabled\", \"http_header_cache-control_set_private + http_header_content-encoding_gzip\", \"http_header_cache-control_set_max-age + http_header_content-encoding_gzip\", \"http_header_content-encoding_gzip + http_header_server_nginx\", \"http_header_cache-control_set_no-store + http_header_content-language_text/html\", \"http_header_cache-control_set_no-cache + http_header_content-language_text/html\", \"http_header_cache-control_set_private + http_header_content-language_text/html\", \"http_header_cache-control_set_no-cache + http_header_server_nginx\", \"http_header_content-language_text/html + http_header_server_nginx\", \"http_header_cache-control_set_must-revalidate + http_header_content-language_text/html\", \"http_header_content-language_text/html + http_header_x-xss-enabled\", \"http_header_content-language_text/html + http_header_x-cintent-type-options_nosniff\", \"http_header_cache-control_set_max-age + http_header_cache-control_set_no-store\", \"http_header_cache-control_set_no-cache + http_header_content-encoding_gzip\", \"http_header_content-encoding_gzip + http_header_content-language_text/html\", \"http_header_cache-control_set_max-age * http_header_content-language_text/html\", \"http_header_server_nginx / http_header_content-language_text/html\", \"http_header_content-language_text/html / http_header_server_nginx\", \"http_header_cache-control_set_max-age + http_header_content-language_text/html\", \"http_header_content-language_text/html * http_header_server_nginx\", \"http_header_cache-control_set_no-store + http_header_content-encoding_gzip\", \"http_header_cache-control_set_public + http_header_content-encoding_gzip\", \"http_header_content-language_text/html / http_header_cache-control_set_max-age\", \"http_header_cache-control_set_max-age / http_header_content-language_text/html\", \"http_header_content-language_text/html / http_header_x-cintent-type-options_nosniff\", \"http_header_content-language_text/html\", \"http_header_cache-control_set_no-store * http_header_content-encoding_gzip\", \"http_header_content-encoding_gzip * http_header_content-language_text/html\", \"http_header_content-encoding_gzip\", \"http_header_cache-control_set_no-store / http_header_content-encoding_gzip\", \"http_header_content-encoding_gzip / http_header_cache-control_set_no-store\", \"http_header_content-encoding_gzip / http_header_content-language_text/html\", \"http_header_content-language_text/html / http_header_content-encoding_gzip\"], \"type\": \"bar\", \"uid\": \"d90254f9-b638-4941-94ab-8c90d2448276\"}], {\"autosize\": false, \"height\": 1000, \"width\": 1000, \"xaxis\": {\"tickfont\": {\"color\": \"black\", \"size\": 12}, \"title\": \"Feature Importances\"}, \"yaxis\": {\"automargin\": true}}, {\"showLink\": true, \"linkText\": \"Export to plot.ly\", \"plotlyServerURL\": \"https://plot.ly\"})});</script>"
      ]
     },
     "metadata": {},
     "output_type": "display_data"
    },
    {
     "name": "stdout",
     "output_type": "stream",
     "text": [
      "\n",
      "\n",
      "\u001b[1mAdaoost Classifier\u001b[0m\n",
      "Accuracy of the model for training data is: 0.881092574419\n",
      "Confusion Matrix for training data is:\n"
     ]
    },
    {
     "data": {
      "text/plain": [
       "Predicted  False  True  __all__\n",
       "Actual                         \n",
       "False      29338  2515    31853\n",
       "True        1847  2984     4831\n",
       "__all__    31185  5499    36684"
      ]
     },
     "metadata": {},
     "output_type": "display_data"
    },
    {
     "name": "stdout",
     "output_type": "stream",
     "text": [
      "Accuracy of the model for test data is: 0.880178805059\n",
      "Confusion Matrix for test data is:\n"
     ]
    },
    {
     "data": {
      "text/plain": [
       "Predicted  False  True  __all__\n",
       "Actual                         \n",
       "False       7356   626     7982\n",
       "True         473   717     1190\n",
       "__all__     7829  1343     9172"
      ]
     },
     "metadata": {},
     "output_type": "display_data"
    },
    {
     "data": {
      "application/vnd.plotly.v1+json": {
       "config": {
        "linkText": "Export to plot.ly",
        "plotlyServerURL": "https://plot.ly",
        "showLink": true
       },
       "data": [
        {
         "marker": {
          "color": "rgb(158,202,225)",
          "line": {
           "color": "rgb(8,48,107)",
           "width": 1.5
          }
         },
         "opacity": 0.6,
         "orientation": "h",
         "text": [
          0.48,
          0.16,
          0.1,
          0.04,
          0.04,
          0.02,
          0.02,
          0.02,
          0.02,
          0.02,
          0.02,
          0.02,
          0.02,
          0.02,
          0,
          0,
          0,
          0,
          0,
          0,
          0,
          0,
          0,
          0,
          0,
          0,
          0,
          0,
          0,
          0,
          0,
          0,
          0,
          0,
          0,
          0
         ],
         "textposition": "outside",
         "type": "bar",
         "uid": "ee890483-d08a-43cd-b223-cf48abe95d2d",
         "x": [
          0.48,
          0.16,
          0.1,
          0.04,
          0.04,
          0.02,
          0.02,
          0.02,
          0.02,
          0.02,
          0.02,
          0.02,
          0.02,
          0.02,
          0,
          0,
          0,
          0,
          0,
          0,
          0,
          0,
          0,
          0,
          0,
          0,
          0,
          0,
          0,
          0,
          0,
          0,
          0,
          0,
          0,
          0
         ],
         "y": [
          "http_header_content-encoding_gzip / http_header_content-length",
          "http_header_cache-control_set_private + http_header_content-encoding_gzip",
          "http_header_content-encoding_gzip + http_header_strict-transport-security_max-age",
          "http_header_cache-control_set_no-cache + http_header_server_nginx",
          "http_header_cache-control_set_no-store + http_header_content-encoding_gzip",
          "http_header_content-language_text/html + http_header_server_nginx",
          "http_header_content-language_text/html + http_header_x-xss-enabled",
          "http_header_cache-control_set_max-age + http_header_cache-control_set_no-store",
          "http_header_cache-control_set_max-age + http_header_content-language_text/html",
          "http_header_cache-control_set_must-revalidate + http_header_content-language_text/html",
          "http_header_cache-control_set_public + http_header_content-encoding_gzip",
          "http_header_content-encoding_gzip / http_header_cache-control_set_no-store",
          "http_header_cache-control_set_private + http_header_content-language_text/html",
          "http_header_server_nginx / http_header_content-language_text/html",
          "http_header_content-language_text/html / http_header_content-encoding_gzip",
          "http_header_cache-control_set_no-store / http_header_content-encoding_gzip",
          "http_header_content-encoding_gzip + http_header_server_nginx",
          "http_header_cache-control_set_max-age + http_header_content-encoding_gzip",
          "http_header_content-encoding_gzip + http_header_content-language_text/html",
          "http_header_cache-control_set_max-age / http_header_content-language_text/html",
          "http_header_content-encoding_gzip",
          "http_header_cache-control_set_no-store * http_header_content-encoding_gzip",
          "http_header_cache-control_set_no-cache + http_header_content-language_text/html",
          "http_header_cache-control_set_no-store + http_header_content-language_text/html",
          "http_header_cache-control_set_no-cache + http_header_content-encoding_gzip",
          "http_header_content-language_text/html / http_header_cache-control_set_max-age",
          "http_header_content-encoding_gzip * http_header_content-language_text/html",
          "http_header_content-language_text/html / http_header_x-cintent-type-options_nosniff",
          "http_header_content-encoding_gzip + http_header_x-cintent-type-options_nosniff",
          "http_header_content-encoding_gzip + http_header_x-xss-enabled",
          "http_header_content-language_text/html",
          "http_header_content-encoding_gzip / http_header_content-language_text/html",
          "http_header_content-language_text/html * http_header_server_nginx",
          "http_header_content-language_text/html + http_header_x-cintent-type-options_nosniff",
          "http_header_content-language_text/html / http_header_server_nginx",
          "http_header_cache-control_set_max-age * http_header_content-language_text/html"
         ]
        }
       ],
       "layout": {
        "autosize": false,
        "height": 1000,
        "width": 1000,
        "xaxis": {
         "tickfont": {
          "color": "black",
          "size": 12
         },
         "title": "Feature Importances"
        },
        "yaxis": {
         "automargin": true
        }
       }
      },
      "text/html": [
       "<div id=\"92b9d94b-efaf-49b2-8e6c-0d1132d2cbe9\" style=\"height: 1000px; width: 1000px;\" class=\"plotly-graph-div\"></div><script type=\"text/javascript\">require([\"plotly\"], function(Plotly) { window.PLOTLYENV=window.PLOTLYENV || {};window.PLOTLYENV.BASE_URL=\"https://plot.ly\";Plotly.newPlot(\"92b9d94b-efaf-49b2-8e6c-0d1132d2cbe9\", [{\"marker\": {\"color\": \"rgb(158,202,225)\", \"line\": {\"color\": \"rgb(8,48,107)\", \"width\": 1.5}}, \"opacity\": 0.6, \"orientation\": \"h\", \"text\": [0.48, 0.16, 0.1, 0.04, 0.04, 0.02, 0.02, 0.02, 0.02, 0.02, 0.02, 0.02, 0.02, 0.02, 0.0, 0.0, 0.0, 0.0, 0.0, 0.0, 0.0, 0.0, 0.0, 0.0, 0.0, 0.0, 0.0, 0.0, 0.0, 0.0, 0.0, 0.0, 0.0, 0.0, 0.0, 0.0], \"textposition\": \"outside\", \"x\": [0.48, 0.16, 0.1, 0.04, 0.04, 0.02, 0.02, 0.02, 0.02, 0.02, 0.02, 0.02, 0.02, 0.02, 0.0, 0.0, 0.0, 0.0, 0.0, 0.0, 0.0, 0.0, 0.0, 0.0, 0.0, 0.0, 0.0, 0.0, 0.0, 0.0, 0.0, 0.0, 0.0, 0.0, 0.0, 0.0], \"y\": [\"http_header_content-encoding_gzip / http_header_content-length\", \"http_header_cache-control_set_private + http_header_content-encoding_gzip\", \"http_header_content-encoding_gzip + http_header_strict-transport-security_max-age\", \"http_header_cache-control_set_no-cache + http_header_server_nginx\", \"http_header_cache-control_set_no-store + http_header_content-encoding_gzip\", \"http_header_content-language_text/html + http_header_server_nginx\", \"http_header_content-language_text/html + http_header_x-xss-enabled\", \"http_header_cache-control_set_max-age + http_header_cache-control_set_no-store\", \"http_header_cache-control_set_max-age + http_header_content-language_text/html\", \"http_header_cache-control_set_must-revalidate + http_header_content-language_text/html\", \"http_header_cache-control_set_public + http_header_content-encoding_gzip\", \"http_header_content-encoding_gzip / http_header_cache-control_set_no-store\", \"http_header_cache-control_set_private + http_header_content-language_text/html\", \"http_header_server_nginx / http_header_content-language_text/html\", \"http_header_content-language_text/html / http_header_content-encoding_gzip\", \"http_header_cache-control_set_no-store / http_header_content-encoding_gzip\", \"http_header_content-encoding_gzip + http_header_server_nginx\", \"http_header_cache-control_set_max-age + http_header_content-encoding_gzip\", \"http_header_content-encoding_gzip + http_header_content-language_text/html\", \"http_header_cache-control_set_max-age / http_header_content-language_text/html\", \"http_header_content-encoding_gzip\", \"http_header_cache-control_set_no-store * http_header_content-encoding_gzip\", \"http_header_cache-control_set_no-cache + http_header_content-language_text/html\", \"http_header_cache-control_set_no-store + http_header_content-language_text/html\", \"http_header_cache-control_set_no-cache + http_header_content-encoding_gzip\", \"http_header_content-language_text/html / http_header_cache-control_set_max-age\", \"http_header_content-encoding_gzip * http_header_content-language_text/html\", \"http_header_content-language_text/html / http_header_x-cintent-type-options_nosniff\", \"http_header_content-encoding_gzip + http_header_x-cintent-type-options_nosniff\", \"http_header_content-encoding_gzip + http_header_x-xss-enabled\", \"http_header_content-language_text/html\", \"http_header_content-encoding_gzip / http_header_content-language_text/html\", \"http_header_content-language_text/html * http_header_server_nginx\", \"http_header_content-language_text/html + http_header_x-cintent-type-options_nosniff\", \"http_header_content-language_text/html / http_header_server_nginx\", \"http_header_cache-control_set_max-age * http_header_content-language_text/html\"], \"type\": \"bar\", \"uid\": \"ee890483-d08a-43cd-b223-cf48abe95d2d\"}], {\"autosize\": false, \"height\": 1000, \"width\": 1000, \"xaxis\": {\"tickfont\": {\"color\": \"black\", \"size\": 12}, \"title\": \"Feature Importances\"}, \"yaxis\": {\"automargin\": true}}, {\"showLink\": true, \"linkText\": \"Export to plot.ly\", \"plotlyServerURL\": \"https://plot.ly\"})});</script>"
      ],
      "text/vnd.plotly.v1+html": [
       "<div id=\"92b9d94b-efaf-49b2-8e6c-0d1132d2cbe9\" style=\"height: 1000px; width: 1000px;\" class=\"plotly-graph-div\"></div><script type=\"text/javascript\">require([\"plotly\"], function(Plotly) { window.PLOTLYENV=window.PLOTLYENV || {};window.PLOTLYENV.BASE_URL=\"https://plot.ly\";Plotly.newPlot(\"92b9d94b-efaf-49b2-8e6c-0d1132d2cbe9\", [{\"marker\": {\"color\": \"rgb(158,202,225)\", \"line\": {\"color\": \"rgb(8,48,107)\", \"width\": 1.5}}, \"opacity\": 0.6, \"orientation\": \"h\", \"text\": [0.48, 0.16, 0.1, 0.04, 0.04, 0.02, 0.02, 0.02, 0.02, 0.02, 0.02, 0.02, 0.02, 0.02, 0.0, 0.0, 0.0, 0.0, 0.0, 0.0, 0.0, 0.0, 0.0, 0.0, 0.0, 0.0, 0.0, 0.0, 0.0, 0.0, 0.0, 0.0, 0.0, 0.0, 0.0, 0.0], \"textposition\": \"outside\", \"x\": [0.48, 0.16, 0.1, 0.04, 0.04, 0.02, 0.02, 0.02, 0.02, 0.02, 0.02, 0.02, 0.02, 0.02, 0.0, 0.0, 0.0, 0.0, 0.0, 0.0, 0.0, 0.0, 0.0, 0.0, 0.0, 0.0, 0.0, 0.0, 0.0, 0.0, 0.0, 0.0, 0.0, 0.0, 0.0, 0.0], \"y\": [\"http_header_content-encoding_gzip / http_header_content-length\", \"http_header_cache-control_set_private + http_header_content-encoding_gzip\", \"http_header_content-encoding_gzip + http_header_strict-transport-security_max-age\", \"http_header_cache-control_set_no-cache + http_header_server_nginx\", \"http_header_cache-control_set_no-store + http_header_content-encoding_gzip\", \"http_header_content-language_text/html + http_header_server_nginx\", \"http_header_content-language_text/html + http_header_x-xss-enabled\", \"http_header_cache-control_set_max-age + http_header_cache-control_set_no-store\", \"http_header_cache-control_set_max-age + http_header_content-language_text/html\", \"http_header_cache-control_set_must-revalidate + http_header_content-language_text/html\", \"http_header_cache-control_set_public + http_header_content-encoding_gzip\", \"http_header_content-encoding_gzip / http_header_cache-control_set_no-store\", \"http_header_cache-control_set_private + http_header_content-language_text/html\", \"http_header_server_nginx / http_header_content-language_text/html\", \"http_header_content-language_text/html / http_header_content-encoding_gzip\", \"http_header_cache-control_set_no-store / http_header_content-encoding_gzip\", \"http_header_content-encoding_gzip + http_header_server_nginx\", \"http_header_cache-control_set_max-age + http_header_content-encoding_gzip\", \"http_header_content-encoding_gzip + http_header_content-language_text/html\", \"http_header_cache-control_set_max-age / http_header_content-language_text/html\", \"http_header_content-encoding_gzip\", \"http_header_cache-control_set_no-store * http_header_content-encoding_gzip\", \"http_header_cache-control_set_no-cache + http_header_content-language_text/html\", \"http_header_cache-control_set_no-store + http_header_content-language_text/html\", \"http_header_cache-control_set_no-cache + http_header_content-encoding_gzip\", \"http_header_content-language_text/html / http_header_cache-control_set_max-age\", \"http_header_content-encoding_gzip * http_header_content-language_text/html\", \"http_header_content-language_text/html / http_header_x-cintent-type-options_nosniff\", \"http_header_content-encoding_gzip + http_header_x-cintent-type-options_nosniff\", \"http_header_content-encoding_gzip + http_header_x-xss-enabled\", \"http_header_content-language_text/html\", \"http_header_content-encoding_gzip / http_header_content-language_text/html\", \"http_header_content-language_text/html * http_header_server_nginx\", \"http_header_content-language_text/html + http_header_x-cintent-type-options_nosniff\", \"http_header_content-language_text/html / http_header_server_nginx\", \"http_header_cache-control_set_max-age * http_header_content-language_text/html\"], \"type\": \"bar\", \"uid\": \"ee890483-d08a-43cd-b223-cf48abe95d2d\"}], {\"autosize\": false, \"height\": 1000, \"width\": 1000, \"xaxis\": {\"tickfont\": {\"color\": \"black\", \"size\": 12}, \"title\": \"Feature Importances\"}, \"yaxis\": {\"automargin\": true}}, {\"showLink\": true, \"linkText\": \"Export to plot.ly\", \"plotlyServerURL\": \"https://plot.ly\"})});</script>"
      ]
     },
     "metadata": {},
     "output_type": "display_data"
    },
    {
     "name": "stdout",
     "output_type": "stream",
     "text": [
      "\n",
      "\n",
      "\u001b[1mGradientBoosting Classifier\u001b[0m\n",
      "Accuracy of the model for training data is: 0.886081125286\n",
      "Confusion Matrix for training data is:\n"
     ]
    },
    {
     "data": {
      "text/plain": [
       "Predicted  False  True  __all__\n",
       "Actual                         \n",
       "False      29074  2779    31853\n",
       "True        1400  3431     4831\n",
       "__all__    30474  6210    36684"
      ]
     },
     "metadata": {},
     "output_type": "display_data"
    },
    {
     "name": "stdout",
     "output_type": "stream",
     "text": [
      "Accuracy of the model for test data is: 0.883340601832\n",
      "Confusion Matrix for test data is:\n"
     ]
    },
    {
     "data": {
      "text/plain": [
       "Predicted  False  True  __all__\n",
       "Actual                         \n",
       "False       7277   705     7982\n",
       "True         365   825     1190\n",
       "__all__     7642  1530     9172"
      ]
     },
     "metadata": {},
     "output_type": "display_data"
    },
    {
     "data": {
      "application/vnd.plotly.v1+json": {
       "config": {
        "linkText": "Export to plot.ly",
        "plotlyServerURL": "https://plot.ly",
        "showLink": true
       },
       "data": [
        {
         "marker": {
          "color": "rgb(158,202,225)",
          "line": {
           "color": "rgb(8,48,107)",
           "width": 1.5
          }
         },
         "opacity": 0.6,
         "orientation": "h",
         "text": [
          0.2582,
          0.1863,
          0.1841,
          0.1524,
          0.0692,
          0.0273,
          0.0256,
          0.0227,
          0.0209,
          0.0179,
          0.0081,
          0.0073,
          0.0056,
          0.0045,
          0.0024,
          0.0017,
          0.0014,
          0.0012,
          0.0012,
          0.0005,
          0.0004,
          0.0004,
          0.0004,
          0.0001,
          0.0001,
          0,
          0,
          0,
          0,
          0,
          0,
          0,
          0,
          0,
          0,
          0
         ],
         "textposition": "outside",
         "type": "bar",
         "uid": "677f5546-65df-4cae-98df-c0883bb896cc",
         "x": [
          0.25817886638996074,
          0.18628701422780228,
          0.18410516225079882,
          0.1523927725177014,
          0.06917691288932029,
          0.027313336220235716,
          0.02559191078876475,
          0.02273550889946919,
          0.02092664139013681,
          0.017866691198919565,
          0.0080903001350062,
          0.007284710564932038,
          0.00562059767392857,
          0.004542004769054382,
          0.0024369560043312672,
          0.0017384111043021277,
          0.001425607508120575,
          0.0012366300896880882,
          0.0011741909788150298,
          0.0004755491690478617,
          0.000407137298945595,
          0.0003746779020483985,
          0.00036296280379259215,
          8.13207724329635e-05,
          8.091387620550716e-05,
          4.8822141533289816e-05,
          3.624753285222054e-05,
          8.142901853881884e-06,
          0,
          0,
          0,
          0,
          0,
          0,
          0,
          0
         ],
         "y": [
          "http_header_cache-control_set_private + http_header_content-encoding_gzip",
          "http_header_cache-control_set_max-age + http_header_content-encoding_gzip",
          "http_header_content-encoding_gzip / http_header_content-length",
          "http_header_content-encoding_gzip + http_header_server_nginx",
          "http_header_content-language_text/html + http_header_server_nginx",
          "http_header_content-encoding_gzip + http_header_strict-transport-security_max-age",
          "http_header_cache-control_set_must-revalidate + http_header_content-language_text/html",
          "http_header_cache-control_set_no-cache + http_header_server_nginx",
          "http_header_cache-control_set_no-cache + http_header_content-language_text/html",
          "http_header_content-encoding_gzip + http_header_x-cintent-type-options_nosniff",
          "http_header_cache-control_set_max-age + http_header_cache-control_set_no-store",
          "http_header_cache-control_set_max-age / http_header_content-language_text/html",
          "http_header_cache-control_set_no-store + http_header_content-language_text/html",
          "http_header_cache-control_set_private + http_header_content-language_text/html",
          "http_header_cache-control_set_no-cache + http_header_content-encoding_gzip",
          "http_header_cache-control_set_no-store + http_header_content-encoding_gzip",
          "http_header_content-language_text/html + http_header_x-xss-enabled",
          "http_header_cache-control_set_max-age + http_header_content-language_text/html",
          "http_header_content-encoding_gzip + http_header_content-language_text/html",
          "http_header_cache-control_set_public + http_header_content-encoding_gzip",
          "http_header_content-language_text/html + http_header_x-cintent-type-options_nosniff",
          "http_header_content-language_text/html / http_header_cache-control_set_max-age",
          "http_header_cache-control_set_max-age * http_header_content-language_text/html",
          "http_header_content-language_text/html * http_header_server_nginx",
          "http_header_content-language_text/html / http_header_x-cintent-type-options_nosniff",
          "http_header_content-encoding_gzip / http_header_cache-control_set_no-store",
          "http_header_content-encoding_gzip + http_header_x-xss-enabled",
          "http_header_server_nginx / http_header_content-language_text/html",
          "http_header_content-encoding_gzip * http_header_content-language_text/html",
          "http_header_cache-control_set_no-store / http_header_content-encoding_gzip",
          "http_header_content-language_text/html",
          "http_header_content-encoding_gzip / http_header_content-language_text/html",
          "http_header_cache-control_set_no-store * http_header_content-encoding_gzip",
          "http_header_content-language_text/html / http_header_content-encoding_gzip",
          "http_header_content-language_text/html / http_header_server_nginx",
          "http_header_content-encoding_gzip"
         ]
        }
       ],
       "layout": {
        "autosize": false,
        "height": 1000,
        "width": 1000,
        "xaxis": {
         "tickfont": {
          "color": "black",
          "size": 12
         },
         "title": "Feature Importances"
        },
        "yaxis": {
         "automargin": true
        }
       }
      },
      "text/html": [
       "<div id=\"7f04e2ae-6381-4d93-a15e-e41354d15933\" style=\"height: 1000px; width: 1000px;\" class=\"plotly-graph-div\"></div><script type=\"text/javascript\">require([\"plotly\"], function(Plotly) { window.PLOTLYENV=window.PLOTLYENV || {};window.PLOTLYENV.BASE_URL=\"https://plot.ly\";Plotly.newPlot(\"7f04e2ae-6381-4d93-a15e-e41354d15933\", [{\"marker\": {\"color\": \"rgb(158,202,225)\", \"line\": {\"color\": \"rgb(8,48,107)\", \"width\": 1.5}}, \"opacity\": 0.6, \"orientation\": \"h\", \"text\": [0.2582, 0.1863, 0.1841, 0.1524, 0.0692, 0.0273, 0.0256, 0.0227, 0.0209, 0.0179, 0.0081, 0.0073, 0.0056, 0.0045, 0.0024, 0.0017, 0.0014, 0.0012, 0.0012, 0.0005, 0.0004, 0.0004, 0.0004, 0.0001, 0.0001, 0.0, 0.0, 0.0, 0.0, 0.0, 0.0, 0.0, 0.0, 0.0, 0.0, 0.0], \"textposition\": \"outside\", \"x\": [0.25817886638996074, 0.18628701422780228, 0.18410516225079882, 0.1523927725177014, 0.06917691288932029, 0.027313336220235716, 0.02559191078876475, 0.02273550889946919, 0.02092664139013681, 0.017866691198919565, 0.0080903001350062, 0.007284710564932038, 0.00562059767392857, 0.004542004769054382, 0.0024369560043312672, 0.0017384111043021277, 0.001425607508120575, 0.0012366300896880882, 0.0011741909788150298, 0.0004755491690478617, 0.000407137298945595, 0.0003746779020483985, 0.00036296280379259215, 8.13207724329635e-05, 8.091387620550716e-05, 4.8822141533289816e-05, 3.624753285222054e-05, 8.142901853881884e-06, 0.0, 0.0, 0.0, 0.0, 0.0, 0.0, 0.0, 0.0], \"y\": [\"http_header_cache-control_set_private + http_header_content-encoding_gzip\", \"http_header_cache-control_set_max-age + http_header_content-encoding_gzip\", \"http_header_content-encoding_gzip / http_header_content-length\", \"http_header_content-encoding_gzip + http_header_server_nginx\", \"http_header_content-language_text/html + http_header_server_nginx\", \"http_header_content-encoding_gzip + http_header_strict-transport-security_max-age\", \"http_header_cache-control_set_must-revalidate + http_header_content-language_text/html\", \"http_header_cache-control_set_no-cache + http_header_server_nginx\", \"http_header_cache-control_set_no-cache + http_header_content-language_text/html\", \"http_header_content-encoding_gzip + http_header_x-cintent-type-options_nosniff\", \"http_header_cache-control_set_max-age + http_header_cache-control_set_no-store\", \"http_header_cache-control_set_max-age / http_header_content-language_text/html\", \"http_header_cache-control_set_no-store + http_header_content-language_text/html\", \"http_header_cache-control_set_private + http_header_content-language_text/html\", \"http_header_cache-control_set_no-cache + http_header_content-encoding_gzip\", \"http_header_cache-control_set_no-store + http_header_content-encoding_gzip\", \"http_header_content-language_text/html + http_header_x-xss-enabled\", \"http_header_cache-control_set_max-age + http_header_content-language_text/html\", \"http_header_content-encoding_gzip + http_header_content-language_text/html\", \"http_header_cache-control_set_public + http_header_content-encoding_gzip\", \"http_header_content-language_text/html + http_header_x-cintent-type-options_nosniff\", \"http_header_content-language_text/html / http_header_cache-control_set_max-age\", \"http_header_cache-control_set_max-age * http_header_content-language_text/html\", \"http_header_content-language_text/html * http_header_server_nginx\", \"http_header_content-language_text/html / http_header_x-cintent-type-options_nosniff\", \"http_header_content-encoding_gzip / http_header_cache-control_set_no-store\", \"http_header_content-encoding_gzip + http_header_x-xss-enabled\", \"http_header_server_nginx / http_header_content-language_text/html\", \"http_header_content-encoding_gzip * http_header_content-language_text/html\", \"http_header_cache-control_set_no-store / http_header_content-encoding_gzip\", \"http_header_content-language_text/html\", \"http_header_content-encoding_gzip / http_header_content-language_text/html\", \"http_header_cache-control_set_no-store * http_header_content-encoding_gzip\", \"http_header_content-language_text/html / http_header_content-encoding_gzip\", \"http_header_content-language_text/html / http_header_server_nginx\", \"http_header_content-encoding_gzip\"], \"type\": \"bar\", \"uid\": \"677f5546-65df-4cae-98df-c0883bb896cc\"}], {\"autosize\": false, \"height\": 1000, \"width\": 1000, \"xaxis\": {\"tickfont\": {\"color\": \"black\", \"size\": 12}, \"title\": \"Feature Importances\"}, \"yaxis\": {\"automargin\": true}}, {\"showLink\": true, \"linkText\": \"Export to plot.ly\", \"plotlyServerURL\": \"https://plot.ly\"})});</script>"
      ],
      "text/vnd.plotly.v1+html": [
       "<div id=\"7f04e2ae-6381-4d93-a15e-e41354d15933\" style=\"height: 1000px; width: 1000px;\" class=\"plotly-graph-div\"></div><script type=\"text/javascript\">require([\"plotly\"], function(Plotly) { window.PLOTLYENV=window.PLOTLYENV || {};window.PLOTLYENV.BASE_URL=\"https://plot.ly\";Plotly.newPlot(\"7f04e2ae-6381-4d93-a15e-e41354d15933\", [{\"marker\": {\"color\": \"rgb(158,202,225)\", \"line\": {\"color\": \"rgb(8,48,107)\", \"width\": 1.5}}, \"opacity\": 0.6, \"orientation\": \"h\", \"text\": [0.2582, 0.1863, 0.1841, 0.1524, 0.0692, 0.0273, 0.0256, 0.0227, 0.0209, 0.0179, 0.0081, 0.0073, 0.0056, 0.0045, 0.0024, 0.0017, 0.0014, 0.0012, 0.0012, 0.0005, 0.0004, 0.0004, 0.0004, 0.0001, 0.0001, 0.0, 0.0, 0.0, 0.0, 0.0, 0.0, 0.0, 0.0, 0.0, 0.0, 0.0], \"textposition\": \"outside\", \"x\": [0.25817886638996074, 0.18628701422780228, 0.18410516225079882, 0.1523927725177014, 0.06917691288932029, 0.027313336220235716, 0.02559191078876475, 0.02273550889946919, 0.02092664139013681, 0.017866691198919565, 0.0080903001350062, 0.007284710564932038, 0.00562059767392857, 0.004542004769054382, 0.0024369560043312672, 0.0017384111043021277, 0.001425607508120575, 0.0012366300896880882, 0.0011741909788150298, 0.0004755491690478617, 0.000407137298945595, 0.0003746779020483985, 0.00036296280379259215, 8.13207724329635e-05, 8.091387620550716e-05, 4.8822141533289816e-05, 3.624753285222054e-05, 8.142901853881884e-06, 0.0, 0.0, 0.0, 0.0, 0.0, 0.0, 0.0, 0.0], \"y\": [\"http_header_cache-control_set_private + http_header_content-encoding_gzip\", \"http_header_cache-control_set_max-age + http_header_content-encoding_gzip\", \"http_header_content-encoding_gzip / http_header_content-length\", \"http_header_content-encoding_gzip + http_header_server_nginx\", \"http_header_content-language_text/html + http_header_server_nginx\", \"http_header_content-encoding_gzip + http_header_strict-transport-security_max-age\", \"http_header_cache-control_set_must-revalidate + http_header_content-language_text/html\", \"http_header_cache-control_set_no-cache + http_header_server_nginx\", \"http_header_cache-control_set_no-cache + http_header_content-language_text/html\", \"http_header_content-encoding_gzip + http_header_x-cintent-type-options_nosniff\", \"http_header_cache-control_set_max-age + http_header_cache-control_set_no-store\", \"http_header_cache-control_set_max-age / http_header_content-language_text/html\", \"http_header_cache-control_set_no-store + http_header_content-language_text/html\", \"http_header_cache-control_set_private + http_header_content-language_text/html\", \"http_header_cache-control_set_no-cache + http_header_content-encoding_gzip\", \"http_header_cache-control_set_no-store + http_header_content-encoding_gzip\", \"http_header_content-language_text/html + http_header_x-xss-enabled\", \"http_header_cache-control_set_max-age + http_header_content-language_text/html\", \"http_header_content-encoding_gzip + http_header_content-language_text/html\", \"http_header_cache-control_set_public + http_header_content-encoding_gzip\", \"http_header_content-language_text/html + http_header_x-cintent-type-options_nosniff\", \"http_header_content-language_text/html / http_header_cache-control_set_max-age\", \"http_header_cache-control_set_max-age * http_header_content-language_text/html\", \"http_header_content-language_text/html * http_header_server_nginx\", \"http_header_content-language_text/html / http_header_x-cintent-type-options_nosniff\", \"http_header_content-encoding_gzip / http_header_cache-control_set_no-store\", \"http_header_content-encoding_gzip + http_header_x-xss-enabled\", \"http_header_server_nginx / http_header_content-language_text/html\", \"http_header_content-encoding_gzip * http_header_content-language_text/html\", \"http_header_cache-control_set_no-store / http_header_content-encoding_gzip\", \"http_header_content-language_text/html\", \"http_header_content-encoding_gzip / http_header_content-language_text/html\", \"http_header_cache-control_set_no-store * http_header_content-encoding_gzip\", \"http_header_content-language_text/html / http_header_content-encoding_gzip\", \"http_header_content-language_text/html / http_header_server_nginx\", \"http_header_content-encoding_gzip\"], \"type\": \"bar\", \"uid\": \"677f5546-65df-4cae-98df-c0883bb896cc\"}], {\"autosize\": false, \"height\": 1000, \"width\": 1000, \"xaxis\": {\"tickfont\": {\"color\": \"black\", \"size\": 12}, \"title\": \"Feature Importances\"}, \"yaxis\": {\"automargin\": true}}, {\"showLink\": true, \"linkText\": \"Export to plot.ly\", \"plotlyServerURL\": \"https://plot.ly\"})});</script>"
      ]
     },
     "metadata": {},
     "output_type": "display_data"
    },
    {
     "name": "stdout",
     "output_type": "stream",
     "text": [
      "\n",
      "\n",
      "\u001b[1mExtraTree Classifier\u001b[0m\n",
      "Accuracy of the model for training data is: 0.890142841566\n",
      "Confusion Matrix for training data is:\n"
     ]
    },
    {
     "data": {
      "text/plain": [
       "Predicted  False  True  __all__\n",
       "Actual                         \n",
       "False      29083  2770    31853\n",
       "True        1260  3571     4831\n",
       "__all__    30343  6341    36684"
      ]
     },
     "metadata": {},
     "output_type": "display_data"
    },
    {
     "name": "stdout",
     "output_type": "stream",
     "text": [
      "Accuracy of the model for test data is: 0.881923244658\n",
      "Confusion Matrix for test data is:\n"
     ]
    },
    {
     "data": {
      "text/plain": [
       "Predicted  False  True  __all__\n",
       "Actual                         \n",
       "False       7240   742     7982\n",
       "True         341   849     1190\n",
       "__all__     7581  1591     9172"
      ]
     },
     "metadata": {},
     "output_type": "display_data"
    },
    {
     "data": {
      "application/vnd.plotly.v1+json": {
       "config": {
        "linkText": "Export to plot.ly",
        "plotlyServerURL": "https://plot.ly",
        "showLink": true
       },
       "data": [
        {
         "marker": {
          "color": "rgb(158,202,225)",
          "line": {
           "color": "rgb(8,48,107)",
           "width": 1.5
          }
         },
         "opacity": 0.6,
         "orientation": "h",
         "text": [
          0.2296,
          0.0989,
          0.0723,
          0.0654,
          0.064,
          0.0625,
          0.0617,
          0.0534,
          0.0524,
          0.0492,
          0.0428,
          0.0169,
          0.0154,
          0.0142,
          0.0126,
          0.0108,
          0.0107,
          0.0104,
          0.0103,
          0.0081,
          0.0058,
          0.005,
          0.005,
          0.0049,
          0.0037,
          0.0027,
          0.0024,
          0.0024,
          0.002,
          0.0014,
          0.0014,
          0.0009,
          0.0005,
          0.0004,
          0.0001,
          0
         ],
         "textposition": "outside",
         "type": "bar",
         "uid": "bccfba7c-d764-4b1c-b2cb-c62796c65574",
         "x": [
          0.22963173368385856,
          0.09885428915027863,
          0.07229845413894045,
          0.065359951860011,
          0.06401781487662592,
          0.06254753233165108,
          0.0616553309704817,
          0.05338479185156757,
          0.05244638945620993,
          0.049204698911756065,
          0.04281565217859334,
          0.01690218410507755,
          0.015382083774511465,
          0.014173208151797827,
          0.012569518647574654,
          0.010767910224879673,
          0.01067352523389525,
          0.010417270705168857,
          0.010318292909227039,
          0.008074378205236737,
          0.005773802670812294,
          0.005039740984830474,
          0.005001142862590159,
          0.004896927973168528,
          0.0036863666927466404,
          0.002667644048212483,
          0.0024098990703825536,
          0.0023954881221396602,
          0.0020172384586043366,
          0.0013854876320012173,
          0.0013750811297178543,
          0.0008965795075829057,
          0.00046173371664529425,
          0.00035852240304032036,
          0.00013585483604530677,
          3.4785241366605812e-06
         ],
         "y": [
          "http_header_content-encoding_gzip / http_header_content-length",
          "http_header_content-encoding_gzip",
          "http_header_cache-control_set_max-age + http_header_content-encoding_gzip",
          "http_header_content-encoding_gzip + http_header_server_nginx",
          "http_header_cache-control_set_private + http_header_content-language_text/html",
          "http_header_content-language_text/html + http_header_x-cintent-type-options_nosniff",
          "http_header_content-encoding_gzip + http_header_strict-transport-security_max-age",
          "http_header_cache-control_set_public + http_header_content-encoding_gzip",
          "http_header_content-language_text/html + http_header_server_nginx",
          "http_header_content-language_text/html / http_header_content-encoding_gzip",
          "http_header_content-language_text/html",
          "http_header_cache-control_set_private + http_header_content-encoding_gzip",
          "http_header_content-encoding_gzip + http_header_x-xss-enabled",
          "http_header_cache-control_set_must-revalidate + http_header_content-language_text/html",
          "http_header_cache-control_set_no-cache + http_header_server_nginx",
          "http_header_server_nginx / http_header_content-language_text/html",
          "http_header_cache-control_set_no-store + http_header_content-encoding_gzip",
          "http_header_content-encoding_gzip + http_header_content-language_text/html",
          "http_header_cache-control_set_no-cache + http_header_content-language_text/html",
          "http_header_cache-control_set_no-store + http_header_content-language_text/html",
          "http_header_cache-control_set_no-cache + http_header_content-encoding_gzip",
          "http_header_cache-control_set_max-age * http_header_content-language_text/html",
          "http_header_cache-control_set_max-age / http_header_content-language_text/html",
          "http_header_content-language_text/html * http_header_server_nginx",
          "http_header_content-language_text/html / http_header_x-cintent-type-options_nosniff",
          "http_header_cache-control_set_max-age + http_header_content-language_text/html",
          "http_header_cache-control_set_max-age + http_header_cache-control_set_no-store",
          "http_header_content-language_text/html + http_header_x-xss-enabled",
          "http_header_content-encoding_gzip + http_header_x-cintent-type-options_nosniff",
          "http_header_content-language_text/html / http_header_cache-control_set_max-age",
          "http_header_content-language_text/html / http_header_server_nginx",
          "http_header_content-encoding_gzip * http_header_content-language_text/html",
          "http_header_cache-control_set_no-store / http_header_content-encoding_gzip",
          "http_header_content-encoding_gzip / http_header_cache-control_set_no-store",
          "http_header_cache-control_set_no-store * http_header_content-encoding_gzip",
          "http_header_content-encoding_gzip / http_header_content-language_text/html"
         ]
        }
       ],
       "layout": {
        "autosize": false,
        "height": 1000,
        "width": 1000,
        "xaxis": {
         "tickfont": {
          "color": "black",
          "size": 12
         },
         "title": "Feature Importances"
        },
        "yaxis": {
         "automargin": true
        }
       }
      },
      "text/html": [
       "<div id=\"2bc4f244-6a25-4952-81a5-c11c68d14e3c\" style=\"height: 1000px; width: 1000px;\" class=\"plotly-graph-div\"></div><script type=\"text/javascript\">require([\"plotly\"], function(Plotly) { window.PLOTLYENV=window.PLOTLYENV || {};window.PLOTLYENV.BASE_URL=\"https://plot.ly\";Plotly.newPlot(\"2bc4f244-6a25-4952-81a5-c11c68d14e3c\", [{\"marker\": {\"color\": \"rgb(158,202,225)\", \"line\": {\"color\": \"rgb(8,48,107)\", \"width\": 1.5}}, \"opacity\": 0.6, \"orientation\": \"h\", \"text\": [0.2296, 0.0989, 0.0723, 0.0654, 0.064, 0.0625, 0.0617, 0.0534, 0.0524, 0.0492, 0.0428, 0.0169, 0.0154, 0.0142, 0.0126, 0.0108, 0.0107, 0.0104, 0.0103, 0.0081, 0.0058, 0.005, 0.005, 0.0049, 0.0037, 0.0027, 0.0024, 0.0024, 0.002, 0.0014, 0.0014, 0.0009, 0.0005, 0.0004, 0.0001, 0.0], \"textposition\": \"outside\", \"x\": [0.22963173368385856, 0.09885428915027863, 0.07229845413894045, 0.065359951860011, 0.06401781487662592, 0.06254753233165108, 0.0616553309704817, 0.05338479185156757, 0.05244638945620993, 0.049204698911756065, 0.04281565217859334, 0.01690218410507755, 0.015382083774511465, 0.014173208151797827, 0.012569518647574654, 0.010767910224879673, 0.01067352523389525, 0.010417270705168857, 0.010318292909227039, 0.008074378205236737, 0.005773802670812294, 0.005039740984830474, 0.005001142862590159, 0.004896927973168528, 0.0036863666927466404, 0.002667644048212483, 0.0024098990703825536, 0.0023954881221396602, 0.0020172384586043366, 0.0013854876320012173, 0.0013750811297178543, 0.0008965795075829057, 0.00046173371664529425, 0.00035852240304032036, 0.00013585483604530677, 3.4785241366605812e-06], \"y\": [\"http_header_content-encoding_gzip / http_header_content-length\", \"http_header_content-encoding_gzip\", \"http_header_cache-control_set_max-age + http_header_content-encoding_gzip\", \"http_header_content-encoding_gzip + http_header_server_nginx\", \"http_header_cache-control_set_private + http_header_content-language_text/html\", \"http_header_content-language_text/html + http_header_x-cintent-type-options_nosniff\", \"http_header_content-encoding_gzip + http_header_strict-transport-security_max-age\", \"http_header_cache-control_set_public + http_header_content-encoding_gzip\", \"http_header_content-language_text/html + http_header_server_nginx\", \"http_header_content-language_text/html / http_header_content-encoding_gzip\", \"http_header_content-language_text/html\", \"http_header_cache-control_set_private + http_header_content-encoding_gzip\", \"http_header_content-encoding_gzip + http_header_x-xss-enabled\", \"http_header_cache-control_set_must-revalidate + http_header_content-language_text/html\", \"http_header_cache-control_set_no-cache + http_header_server_nginx\", \"http_header_server_nginx / http_header_content-language_text/html\", \"http_header_cache-control_set_no-store + http_header_content-encoding_gzip\", \"http_header_content-encoding_gzip + http_header_content-language_text/html\", \"http_header_cache-control_set_no-cache + http_header_content-language_text/html\", \"http_header_cache-control_set_no-store + http_header_content-language_text/html\", \"http_header_cache-control_set_no-cache + http_header_content-encoding_gzip\", \"http_header_cache-control_set_max-age * http_header_content-language_text/html\", \"http_header_cache-control_set_max-age / http_header_content-language_text/html\", \"http_header_content-language_text/html * http_header_server_nginx\", \"http_header_content-language_text/html / http_header_x-cintent-type-options_nosniff\", \"http_header_cache-control_set_max-age + http_header_content-language_text/html\", \"http_header_cache-control_set_max-age + http_header_cache-control_set_no-store\", \"http_header_content-language_text/html + http_header_x-xss-enabled\", \"http_header_content-encoding_gzip + http_header_x-cintent-type-options_nosniff\", \"http_header_content-language_text/html / http_header_cache-control_set_max-age\", \"http_header_content-language_text/html / http_header_server_nginx\", \"http_header_content-encoding_gzip * http_header_content-language_text/html\", \"http_header_cache-control_set_no-store / http_header_content-encoding_gzip\", \"http_header_content-encoding_gzip / http_header_cache-control_set_no-store\", \"http_header_cache-control_set_no-store * http_header_content-encoding_gzip\", \"http_header_content-encoding_gzip / http_header_content-language_text/html\"], \"type\": \"bar\", \"uid\": \"bccfba7c-d764-4b1c-b2cb-c62796c65574\"}], {\"autosize\": false, \"height\": 1000, \"width\": 1000, \"xaxis\": {\"tickfont\": {\"color\": \"black\", \"size\": 12}, \"title\": \"Feature Importances\"}, \"yaxis\": {\"automargin\": true}}, {\"showLink\": true, \"linkText\": \"Export to plot.ly\", \"plotlyServerURL\": \"https://plot.ly\"})});</script>"
      ],
      "text/vnd.plotly.v1+html": [
       "<div id=\"2bc4f244-6a25-4952-81a5-c11c68d14e3c\" style=\"height: 1000px; width: 1000px;\" class=\"plotly-graph-div\"></div><script type=\"text/javascript\">require([\"plotly\"], function(Plotly) { window.PLOTLYENV=window.PLOTLYENV || {};window.PLOTLYENV.BASE_URL=\"https://plot.ly\";Plotly.newPlot(\"2bc4f244-6a25-4952-81a5-c11c68d14e3c\", [{\"marker\": {\"color\": \"rgb(158,202,225)\", \"line\": {\"color\": \"rgb(8,48,107)\", \"width\": 1.5}}, \"opacity\": 0.6, \"orientation\": \"h\", \"text\": [0.2296, 0.0989, 0.0723, 0.0654, 0.064, 0.0625, 0.0617, 0.0534, 0.0524, 0.0492, 0.0428, 0.0169, 0.0154, 0.0142, 0.0126, 0.0108, 0.0107, 0.0104, 0.0103, 0.0081, 0.0058, 0.005, 0.005, 0.0049, 0.0037, 0.0027, 0.0024, 0.0024, 0.002, 0.0014, 0.0014, 0.0009, 0.0005, 0.0004, 0.0001, 0.0], \"textposition\": \"outside\", \"x\": [0.22963173368385856, 0.09885428915027863, 0.07229845413894045, 0.065359951860011, 0.06401781487662592, 0.06254753233165108, 0.0616553309704817, 0.05338479185156757, 0.05244638945620993, 0.049204698911756065, 0.04281565217859334, 0.01690218410507755, 0.015382083774511465, 0.014173208151797827, 0.012569518647574654, 0.010767910224879673, 0.01067352523389525, 0.010417270705168857, 0.010318292909227039, 0.008074378205236737, 0.005773802670812294, 0.005039740984830474, 0.005001142862590159, 0.004896927973168528, 0.0036863666927466404, 0.002667644048212483, 0.0024098990703825536, 0.0023954881221396602, 0.0020172384586043366, 0.0013854876320012173, 0.0013750811297178543, 0.0008965795075829057, 0.00046173371664529425, 0.00035852240304032036, 0.00013585483604530677, 3.4785241366605812e-06], \"y\": [\"http_header_content-encoding_gzip / http_header_content-length\", \"http_header_content-encoding_gzip\", \"http_header_cache-control_set_max-age + http_header_content-encoding_gzip\", \"http_header_content-encoding_gzip + http_header_server_nginx\", \"http_header_cache-control_set_private + http_header_content-language_text/html\", \"http_header_content-language_text/html + http_header_x-cintent-type-options_nosniff\", \"http_header_content-encoding_gzip + http_header_strict-transport-security_max-age\", \"http_header_cache-control_set_public + http_header_content-encoding_gzip\", \"http_header_content-language_text/html + http_header_server_nginx\", \"http_header_content-language_text/html / http_header_content-encoding_gzip\", \"http_header_content-language_text/html\", \"http_header_cache-control_set_private + http_header_content-encoding_gzip\", \"http_header_content-encoding_gzip + http_header_x-xss-enabled\", \"http_header_cache-control_set_must-revalidate + http_header_content-language_text/html\", \"http_header_cache-control_set_no-cache + http_header_server_nginx\", \"http_header_server_nginx / http_header_content-language_text/html\", \"http_header_cache-control_set_no-store + http_header_content-encoding_gzip\", \"http_header_content-encoding_gzip + http_header_content-language_text/html\", \"http_header_cache-control_set_no-cache + http_header_content-language_text/html\", \"http_header_cache-control_set_no-store + http_header_content-language_text/html\", \"http_header_cache-control_set_no-cache + http_header_content-encoding_gzip\", \"http_header_cache-control_set_max-age * http_header_content-language_text/html\", \"http_header_cache-control_set_max-age / http_header_content-language_text/html\", \"http_header_content-language_text/html * http_header_server_nginx\", \"http_header_content-language_text/html / http_header_x-cintent-type-options_nosniff\", \"http_header_cache-control_set_max-age + http_header_content-language_text/html\", \"http_header_cache-control_set_max-age + http_header_cache-control_set_no-store\", \"http_header_content-language_text/html + http_header_x-xss-enabled\", \"http_header_content-encoding_gzip + http_header_x-cintent-type-options_nosniff\", \"http_header_content-language_text/html / http_header_cache-control_set_max-age\", \"http_header_content-language_text/html / http_header_server_nginx\", \"http_header_content-encoding_gzip * http_header_content-language_text/html\", \"http_header_cache-control_set_no-store / http_header_content-encoding_gzip\", \"http_header_content-encoding_gzip / http_header_cache-control_set_no-store\", \"http_header_cache-control_set_no-store * http_header_content-encoding_gzip\", \"http_header_content-encoding_gzip / http_header_content-language_text/html\"], \"type\": \"bar\", \"uid\": \"bccfba7c-d764-4b1c-b2cb-c62796c65574\"}], {\"autosize\": false, \"height\": 1000, \"width\": 1000, \"xaxis\": {\"tickfont\": {\"color\": \"black\", \"size\": 12}, \"title\": \"Feature Importances\"}, \"yaxis\": {\"automargin\": true}}, {\"showLink\": true, \"linkText\": \"Export to plot.ly\", \"plotlyServerURL\": \"https://plot.ly\"})});</script>"
      ]
     },
     "metadata": {},
     "output_type": "display_data"
    },
    {
     "name": "stdout",
     "output_type": "stream",
     "text": [
      "\n",
      "\n",
      "\u001b[1mBagging Classifier\u001b[0m\n",
      "Accuracy of the model for training data is: 0.889434085705\n",
      "Confusion Matrix for training data is:\n"
     ]
    },
    {
     "data": {
      "text/plain": [
       "Predicted  False  True  __all__\n",
       "Actual                         \n",
       "False      29079  2774    31853\n",
       "True        1282  3549     4831\n",
       "__all__    30361  6323    36684"
      ]
     },
     "metadata": {},
     "output_type": "display_data"
    },
    {
     "name": "stdout",
     "output_type": "stream",
     "text": [
      "Accuracy of the model for test data is: 0.883340601832\n",
      "Confusion Matrix for test data is:\n"
     ]
    },
    {
     "data": {
      "text/plain": [
       "Predicted  False  True  __all__\n",
       "Actual                         \n",
       "False       7256   726     7982\n",
       "True         344   846     1190\n",
       "__all__     7600  1572     9172"
      ]
     },
     "metadata": {},
     "output_type": "display_data"
    },
    {
     "name": "stdout",
     "output_type": "stream",
     "text": [
      "\n",
      "\n",
      "\u001b[1mNeural Network-1\u001b[0m\n",
      "The accuracy of the model on training data is: 0.885863046566\n"
     ]
    },
    {
     "data": {
      "text/plain": [
       "Predicted  False  True  __all__\n",
       "Actual                         \n",
       "False      29071  2782    31853\n",
       "True        1405  3426     4831\n",
       "__all__    30476  6208    36684"
      ]
     },
     "metadata": {},
     "output_type": "display_data"
    },
    {
     "name": "stdout",
     "output_type": "stream",
     "text": [
      "The accuracy of the model on test data is: 0.883449629307\n"
     ]
    },
    {
     "data": {
      "text/plain": [
       "Predicted  False  True  __all__\n",
       "Actual                         \n",
       "False       7271   711     7982\n",
       "True         358   832     1190\n",
       "__all__     7629  1543     9172"
      ]
     },
     "metadata": {},
     "output_type": "display_data"
    },
    {
     "name": "stdout",
     "output_type": "stream",
     "text": [
      "\n",
      "\n"
     ]
    }
   ],
   "source": [
    "feat_imp=[None]*4\n",
    "j=0\n",
    "for i in range(0,8):\n",
    "    if i>=2 and i<=5:\n",
    "        model,cm_train,cm_test,acc_train,acc_test,roc_auc,feat_imp[j],mcc=f[i](scaled_X_train,train_Y,scaled_X_test,test_Y,columns)\n",
    "        j=j+1\n",
    "    else:\n",
    "        model,cm_train,cm_test,acc_train,acc_test,roc_auc,mcc=f[i](scaled_X_train,train_Y,scaled_X_test,test_Y)\n",
    "    table_80_60_train.loc[i]=   ([acc_train,cm_train.TP,cm_train.TN,cm_train.FP,cm_train.FN,cm_train.FPR,cm_train.FNR])\n",
    "    table_80_60_test.loc[i] =   ([acc_test ,cm_test.TP, cm_test.TN, cm_test.FP, cm_test.FN, cm_test.FPR, cm_test.FNR,roc_auc,mcc])\n",
    "    print(\"\\n\")"
   ]
  },
  {
   "cell_type": "markdown",
   "metadata": {},
   "source": [
    "### <a id='4.A' style=\"text-decoration : none; color : #000000;\"> A. Results</a>"
   ]
  },
  {
   "cell_type": "code",
   "execution_count": 41,
   "metadata": {},
   "outputs": [
    {
     "data": {
      "application/vnd.plotly.v1+json": {
       "config": {
        "linkText": "Export to plot.ly",
        "plotlyServerURL": "https://plot.ly",
        "showLink": true
       },
       "data": [
        {
         "mode": "lines",
         "name": "KNN_model",
         "type": "scatter",
         "uid": "2a5b7d90-11f6-48c0-b31d-65beeb7f578d",
         "x": [
          "accuracy",
          "FPR",
          "FNR",
          "auc"
         ],
         "y": [
          0.8831225468818142,
          0.08895013781007266,
          0.3042016806722689,
          0.8034240907588291
         ]
        },
        {
         "mode": "lines+markers",
         "name": "Logistic Regression",
         "type": "scatter",
         "uid": "b15cf7e9-7ace-43b2-be47-d61d39a91bc9",
         "x": [
          "accuracy",
          "FPR",
          "FNR",
          "auc"
         ],
         "y": [
          0.8802878325337985,
          0.08757203708343773,
          0.3352941176470588,
          0.7885669226347516
         ]
        },
        {
         "marker": {
          "symbol": "x"
         },
         "mode": "lines+markers",
         "name": "Random Forest",
         "type": "scatter",
         "uid": "f8f44b00-9efd-4b5a-982e-e02e41d90d15",
         "x": [
          "accuracy",
          "FPR",
          "FNR",
          "auc"
         ],
         "y": [
          0.8827954644570432,
          0.09170633926334253,
          0.28823529411764703,
          0.8100291833095052
         ]
        },
        {
         "mode": "lines",
         "name": "Ada Boost",
         "type": "scatter",
         "uid": "d05d11a0-6cf7-4978-9257-3713303dc4cc",
         "x": [
          "accuracy",
          "FPR",
          "FNR",
          "auc"
         ],
         "y": [
          0.8801788050588748,
          0.07842645953395139,
          0.39747899159663863,
          0.762047274434705
         ]
        },
        {
         "mode": "lines+markers",
         "name": "GradientBoosting",
         "type": "scatter",
         "uid": "24c7f686-17c2-4c92-a141-272059084129",
         "x": [
          "accuracy",
          "FPR",
          "FNR",
          "auc"
         ],
         "y": [
          0.8833406018316616,
          0.08832372838887496,
          0.3067226890756303,
          0.8024767912677475
         ]
        },
        {
         "marker": {
          "symbol": "x"
         },
         "mode": "lines+markers",
         "name": "ExtraTree Classifier",
         "type": "scatter",
         "uid": "9655c09f-b4ab-4cf4-af92-ce1fd4f098fa",
         "x": [
          "accuracy",
          "FPR",
          "FNR",
          "auc"
         ],
         "y": [
          0.8819232446576537,
          0.0929591581057379,
          0.2865546218487395,
          0.8102431100227614
         ]
        },
        {
         "marker": {
          "symbol": "x"
         },
         "mode": "lines+markers",
         "name": "Bagging",
         "type": "scatter",
         "uid": "691a168c-9884-45d6-a000-a12eec99c8d9",
         "x": [
          "accuracy",
          "FPR",
          "FNR",
          "auc"
         ],
         "y": [
          0.8833406018316616,
          0.09095464795790528,
          0.28907563025210087,
          0.809984860894997
         ]
        },
        {
         "marker": {
          "symbol": "x"
         },
         "mode": "lines+markers",
         "name": "Neural Network",
         "type": "scatter",
         "uid": "c55f4d69-0c1b-4bd4-a2dd-942d2f05faa5",
         "x": [
          "accuracy",
          "FPR",
          "FNR",
          "auc"
         ],
         "y": [
          0.8834496293065852,
          0.08907541969431221,
          0.30084033613445377,
          0.809984860894997
         ]
        }
       ],
       "layout": {
        "title": "Result comparision for Features selected in Section 1",
        "yaxis": {
         "dtick": 0.05,
         "tick0": 0
        }
       }
      },
      "text/html": [
       "<div id=\"28e555fd-0ea9-418b-b786-9f65c8d54fbc\" style=\"height: 525px; width: 100%;\" class=\"plotly-graph-div\"></div><script type=\"text/javascript\">require([\"plotly\"], function(Plotly) { window.PLOTLYENV=window.PLOTLYENV || {};window.PLOTLYENV.BASE_URL=\"https://plot.ly\";Plotly.newPlot(\"28e555fd-0ea9-418b-b786-9f65c8d54fbc\", [{\"mode\": \"lines\", \"name\": \"KNN_model\", \"x\": [\"accuracy\", \"FPR\", \"FNR\", \"auc\"], \"y\": [0.8831225468818142, 0.08895013781007266, 0.3042016806722689, 0.8034240907588291], \"type\": \"scatter\", \"uid\": \"2a5b7d90-11f6-48c0-b31d-65beeb7f578d\"}, {\"mode\": \"lines+markers\", \"name\": \"Logistic Regression\", \"x\": [\"accuracy\", \"FPR\", \"FNR\", \"auc\"], \"y\": [0.8802878325337985, 0.08757203708343773, 0.3352941176470588, 0.7885669226347516], \"type\": \"scatter\", \"uid\": \"b15cf7e9-7ace-43b2-be47-d61d39a91bc9\"}, {\"marker\": {\"symbol\": \"x\"}, \"mode\": \"lines+markers\", \"name\": \"Random Forest\", \"x\": [\"accuracy\", \"FPR\", \"FNR\", \"auc\"], \"y\": [0.8827954644570432, 0.09170633926334253, 0.28823529411764703, 0.8100291833095052], \"type\": \"scatter\", \"uid\": \"f8f44b00-9efd-4b5a-982e-e02e41d90d15\"}, {\"mode\": \"lines\", \"name\": \"Ada Boost\", \"x\": [\"accuracy\", \"FPR\", \"FNR\", \"auc\"], \"y\": [0.8801788050588748, 0.07842645953395139, 0.39747899159663863, 0.762047274434705], \"type\": \"scatter\", \"uid\": \"d05d11a0-6cf7-4978-9257-3713303dc4cc\"}, {\"mode\": \"lines+markers\", \"name\": \"GradientBoosting\", \"x\": [\"accuracy\", \"FPR\", \"FNR\", \"auc\"], \"y\": [0.8833406018316616, 0.08832372838887496, 0.3067226890756303, 0.8024767912677475], \"type\": \"scatter\", \"uid\": \"24c7f686-17c2-4c92-a141-272059084129\"}, {\"marker\": {\"symbol\": \"x\"}, \"mode\": \"lines+markers\", \"name\": \"ExtraTree Classifier\", \"x\": [\"accuracy\", \"FPR\", \"FNR\", \"auc\"], \"y\": [0.8819232446576537, 0.0929591581057379, 0.2865546218487395, 0.8102431100227614], \"type\": \"scatter\", \"uid\": \"9655c09f-b4ab-4cf4-af92-ce1fd4f098fa\"}, {\"marker\": {\"symbol\": \"x\"}, \"mode\": \"lines+markers\", \"name\": \"Bagging\", \"x\": [\"accuracy\", \"FPR\", \"FNR\", \"auc\"], \"y\": [0.8833406018316616, 0.09095464795790528, 0.28907563025210087, 0.809984860894997], \"type\": \"scatter\", \"uid\": \"691a168c-9884-45d6-a000-a12eec99c8d9\"}, {\"marker\": {\"symbol\": \"x\"}, \"mode\": \"lines+markers\", \"name\": \"Neural Network\", \"x\": [\"accuracy\", \"FPR\", \"FNR\", \"auc\"], \"y\": [0.8834496293065852, 0.08907541969431221, 0.30084033613445377, 0.809984860894997], \"type\": \"scatter\", \"uid\": \"c55f4d69-0c1b-4bd4-a2dd-942d2f05faa5\"}], {\"title\": \"Result comparision for Features selected in Section 1\", \"yaxis\": {\"dtick\": 0.05, \"tick0\": 0}}, {\"showLink\": true, \"linkText\": \"Export to plot.ly\", \"plotlyServerURL\": \"https://plot.ly\"})});</script><script type=\"text/javascript\">window.addEventListener(\"resize\", function(){window._Plotly.Plots.resize(document.getElementById(\"28e555fd-0ea9-418b-b786-9f65c8d54fbc\"));});</script>"
      ],
      "text/vnd.plotly.v1+html": [
       "<div id=\"28e555fd-0ea9-418b-b786-9f65c8d54fbc\" style=\"height: 525px; width: 100%;\" class=\"plotly-graph-div\"></div><script type=\"text/javascript\">require([\"plotly\"], function(Plotly) { window.PLOTLYENV=window.PLOTLYENV || {};window.PLOTLYENV.BASE_URL=\"https://plot.ly\";Plotly.newPlot(\"28e555fd-0ea9-418b-b786-9f65c8d54fbc\", [{\"mode\": \"lines\", \"name\": \"KNN_model\", \"x\": [\"accuracy\", \"FPR\", \"FNR\", \"auc\"], \"y\": [0.8831225468818142, 0.08895013781007266, 0.3042016806722689, 0.8034240907588291], \"type\": \"scatter\", \"uid\": \"2a5b7d90-11f6-48c0-b31d-65beeb7f578d\"}, {\"mode\": \"lines+markers\", \"name\": \"Logistic Regression\", \"x\": [\"accuracy\", \"FPR\", \"FNR\", \"auc\"], \"y\": [0.8802878325337985, 0.08757203708343773, 0.3352941176470588, 0.7885669226347516], \"type\": \"scatter\", \"uid\": \"b15cf7e9-7ace-43b2-be47-d61d39a91bc9\"}, {\"marker\": {\"symbol\": \"x\"}, \"mode\": \"lines+markers\", \"name\": \"Random Forest\", \"x\": [\"accuracy\", \"FPR\", \"FNR\", \"auc\"], \"y\": [0.8827954644570432, 0.09170633926334253, 0.28823529411764703, 0.8100291833095052], \"type\": \"scatter\", \"uid\": \"f8f44b00-9efd-4b5a-982e-e02e41d90d15\"}, {\"mode\": \"lines\", \"name\": \"Ada Boost\", \"x\": [\"accuracy\", \"FPR\", \"FNR\", \"auc\"], \"y\": [0.8801788050588748, 0.07842645953395139, 0.39747899159663863, 0.762047274434705], \"type\": \"scatter\", \"uid\": \"d05d11a0-6cf7-4978-9257-3713303dc4cc\"}, {\"mode\": \"lines+markers\", \"name\": \"GradientBoosting\", \"x\": [\"accuracy\", \"FPR\", \"FNR\", \"auc\"], \"y\": [0.8833406018316616, 0.08832372838887496, 0.3067226890756303, 0.8024767912677475], \"type\": \"scatter\", \"uid\": \"24c7f686-17c2-4c92-a141-272059084129\"}, {\"marker\": {\"symbol\": \"x\"}, \"mode\": \"lines+markers\", \"name\": \"ExtraTree Classifier\", \"x\": [\"accuracy\", \"FPR\", \"FNR\", \"auc\"], \"y\": [0.8819232446576537, 0.0929591581057379, 0.2865546218487395, 0.8102431100227614], \"type\": \"scatter\", \"uid\": \"9655c09f-b4ab-4cf4-af92-ce1fd4f098fa\"}, {\"marker\": {\"symbol\": \"x\"}, \"mode\": \"lines+markers\", \"name\": \"Bagging\", \"x\": [\"accuracy\", \"FPR\", \"FNR\", \"auc\"], \"y\": [0.8833406018316616, 0.09095464795790528, 0.28907563025210087, 0.809984860894997], \"type\": \"scatter\", \"uid\": \"691a168c-9884-45d6-a000-a12eec99c8d9\"}, {\"marker\": {\"symbol\": \"x\"}, \"mode\": \"lines+markers\", \"name\": \"Neural Network\", \"x\": [\"accuracy\", \"FPR\", \"FNR\", \"auc\"], \"y\": [0.8834496293065852, 0.08907541969431221, 0.30084033613445377, 0.809984860894997], \"type\": \"scatter\", \"uid\": \"c55f4d69-0c1b-4bd4-a2dd-942d2f05faa5\"}], {\"title\": \"Result comparision for Features selected in Section 1\", \"yaxis\": {\"dtick\": 0.05, \"tick0\": 0}}, {\"showLink\": true, \"linkText\": \"Export to plot.ly\", \"plotlyServerURL\": \"https://plot.ly\"})});</script><script type=\"text/javascript\">window.addEventListener(\"resize\", function(){window._Plotly.Plots.resize(document.getElementById(\"28e555fd-0ea9-418b-b786-9f65c8d54fbc\"));});</script>"
      ]
     },
     "metadata": {},
     "output_type": "display_data"
    }
   ],
   "source": [
    "trace0 = go.Scatter(x=table_80_60_test.iloc[0].index.values[[0,5,6,7]],\n",
    "                    y=table_80_60_test.iloc[0].values[[0,5,6,7]],\n",
    "                    mode = 'lines',\n",
    "                    name = 'KNN_model')\n",
    "\n",
    "trace1 = go.Scatter(x=table_80_60_test.iloc[1].index.values[[0,5,6,7]],\n",
    "                    y=table_80_60_test.iloc[1].values[[0,5,6,7]],\n",
    "                    mode = 'lines+markers',\n",
    "                    name = 'Logistic Regression')\n",
    "\n",
    "trace2 = go.Scatter(x=table_80_60_test.iloc[2].index.values[[0,5,6,7]],\n",
    "                    y=table_80_60_test.iloc[2].values[[0,5,6,7]],\n",
    "                    mode = 'lines+markers',marker=dict(symbol='x'),\n",
    "                    name = 'Random Forest')\n",
    "\n",
    "\n",
    "trace3 = go.Scatter(x=table_80_60_test.iloc[3].index.values[[0,5,6,7]],\n",
    "                    y=table_80_60_test.iloc[3].values[[0,5,6,7]],\n",
    "                    mode = 'lines',\n",
    "                    name = 'Ada Boost')\n",
    "\n",
    "trace4 = go.Scatter(x=table_80_60_test.iloc[4].index.values[[0,5,6,7]],\n",
    "                    y=table_80_60_test.iloc[4].values[[0,5,6,7]],\n",
    "                    mode = 'lines+markers',\n",
    "                    name = 'GradientBoosting')\n",
    "\n",
    "trace5 = go.Scatter(x=table_80_60_test.iloc[5].index.values[[0,5,6,7]],\n",
    "                    y=table_80_60_test.iloc[5].values[[0,5,6,7]],\n",
    "                    mode = 'lines+markers',marker=dict(symbol='x'),\n",
    "                    name = 'ExtraTree Classifier')\n",
    "\n",
    "trace6 = go.Scatter(x=table_80_60_test.iloc[6].index.values[[0,5,6,7]],\n",
    "                    y=table_80_60_test.iloc[6].values[[0,5,6,7]],\n",
    "                    mode = 'lines+markers',marker=dict(symbol='x'),\n",
    "                    name = 'Bagging')\n",
    "\n",
    "trace7 = go.Scatter(x=table_80_60_test.iloc[7].index.values[[0,5,6,7]],\n",
    "                    y=table_80_60_test.iloc[7].values[[0,5,6,7]],\n",
    "                    mode = 'lines+markers',marker=dict(symbol='x'),\n",
    "                    name = 'Neural Network')\n",
    "\n",
    "\n",
    "\n",
    "data = [trace0, trace1, trace2, trace3, trace4, trace5, trace6, trace7]\n",
    "layout = go.Layout(yaxis=dict(tick0=0,dtick=0.05),title='Result comparision for Features selected in Section 1')\n",
    "fig = go.Figure(data=data, layout=layout)\n",
    "\n",
    "iplot(fig, filename='Result')"
   ]
  },
  {
   "cell_type": "code",
   "execution_count": 42,
   "metadata": {},
   "outputs": [
    {
     "name": "stdout",
     "output_type": "stream",
     "text": [
      "Training Results\n"
     ]
    },
    {
     "data": {
      "text/html": [
       "<div>\n",
       "<style scoped>\n",
       "    .dataframe tbody tr th:only-of-type {\n",
       "        vertical-align: middle;\n",
       "    }\n",
       "\n",
       "    .dataframe tbody tr th {\n",
       "        vertical-align: top;\n",
       "    }\n",
       "\n",
       "    .dataframe thead th {\n",
       "        text-align: right;\n",
       "    }\n",
       "</style>\n",
       "<table border=\"1\" class=\"dataframe\">\n",
       "  <thead>\n",
       "    <tr style=\"text-align: right;\">\n",
       "      <th></th>\n",
       "      <th>accuracy</th>\n",
       "      <th>TP</th>\n",
       "      <th>TN</th>\n",
       "      <th>FP</th>\n",
       "      <th>FN</th>\n",
       "      <th>FPR</th>\n",
       "      <th>FNR</th>\n",
       "    </tr>\n",
       "    <tr>\n",
       "      <th>index</th>\n",
       "      <th></th>\n",
       "      <th></th>\n",
       "      <th></th>\n",
       "      <th></th>\n",
       "      <th></th>\n",
       "      <th></th>\n",
       "      <th></th>\n",
       "    </tr>\n",
       "  </thead>\n",
       "  <tbody>\n",
       "    <tr>\n",
       "      <th>KNeighborsClassifier</th>\n",
       "      <td>0.885236</td>\n",
       "      <td>3389.0</td>\n",
       "      <td>29085.0</td>\n",
       "      <td>2768.0</td>\n",
       "      <td>1442.0</td>\n",
       "      <td>0.086899</td>\n",
       "      <td>0.298489</td>\n",
       "    </tr>\n",
       "    <tr>\n",
       "      <th>LogisticRegression</th>\n",
       "      <td>0.882537</td>\n",
       "      <td>3268.0</td>\n",
       "      <td>29107.0</td>\n",
       "      <td>2746.0</td>\n",
       "      <td>1563.0</td>\n",
       "      <td>0.086209</td>\n",
       "      <td>0.323535</td>\n",
       "    </tr>\n",
       "    <tr>\n",
       "      <th>RandomForestClassifier</th>\n",
       "      <td>0.889243</td>\n",
       "      <td>3550.0</td>\n",
       "      <td>29071.0</td>\n",
       "      <td>2782.0</td>\n",
       "      <td>1281.0</td>\n",
       "      <td>0.087339</td>\n",
       "      <td>0.265162</td>\n",
       "    </tr>\n",
       "    <tr>\n",
       "      <th>AdaBoostClassifier</th>\n",
       "      <td>0.881093</td>\n",
       "      <td>2984.0</td>\n",
       "      <td>29338.0</td>\n",
       "      <td>2515.0</td>\n",
       "      <td>1847.0</td>\n",
       "      <td>0.078956</td>\n",
       "      <td>0.382323</td>\n",
       "    </tr>\n",
       "    <tr>\n",
       "      <th>GradientBoostingClassifier</th>\n",
       "      <td>0.886081</td>\n",
       "      <td>3431.0</td>\n",
       "      <td>29074.0</td>\n",
       "      <td>2779.0</td>\n",
       "      <td>1400.0</td>\n",
       "      <td>0.087245</td>\n",
       "      <td>0.289795</td>\n",
       "    </tr>\n",
       "    <tr>\n",
       "      <th>ExtraTreeClassifier</th>\n",
       "      <td>0.890143</td>\n",
       "      <td>3571.0</td>\n",
       "      <td>29083.0</td>\n",
       "      <td>2770.0</td>\n",
       "      <td>1260.0</td>\n",
       "      <td>0.086962</td>\n",
       "      <td>0.260816</td>\n",
       "    </tr>\n",
       "    <tr>\n",
       "      <th>BaggingClassifier</th>\n",
       "      <td>0.889434</td>\n",
       "      <td>3549.0</td>\n",
       "      <td>29079.0</td>\n",
       "      <td>2774.0</td>\n",
       "      <td>1282.0</td>\n",
       "      <td>0.087088</td>\n",
       "      <td>0.265369</td>\n",
       "    </tr>\n",
       "    <tr>\n",
       "      <th>Neural Network-1</th>\n",
       "      <td>0.885863</td>\n",
       "      <td>3426.0</td>\n",
       "      <td>29071.0</td>\n",
       "      <td>2782.0</td>\n",
       "      <td>1405.0</td>\n",
       "      <td>0.087339</td>\n",
       "      <td>0.290830</td>\n",
       "    </tr>\n",
       "  </tbody>\n",
       "</table>\n",
       "</div>"
      ],
      "text/plain": [
       "                            accuracy      TP       TN      FP      FN  \\\n",
       "index                                                                   \n",
       "KNeighborsClassifier        0.885236  3389.0  29085.0  2768.0  1442.0   \n",
       "LogisticRegression          0.882537  3268.0  29107.0  2746.0  1563.0   \n",
       "RandomForestClassifier      0.889243  3550.0  29071.0  2782.0  1281.0   \n",
       "AdaBoostClassifier          0.881093  2984.0  29338.0  2515.0  1847.0   \n",
       "GradientBoostingClassifier  0.886081  3431.0  29074.0  2779.0  1400.0   \n",
       "ExtraTreeClassifier         0.890143  3571.0  29083.0  2770.0  1260.0   \n",
       "BaggingClassifier           0.889434  3549.0  29079.0  2774.0  1282.0   \n",
       "Neural Network-1            0.885863  3426.0  29071.0  2782.0  1405.0   \n",
       "\n",
       "                                 FPR       FNR  \n",
       "index                                           \n",
       "KNeighborsClassifier        0.086899  0.298489  \n",
       "LogisticRegression          0.086209  0.323535  \n",
       "RandomForestClassifier      0.087339  0.265162  \n",
       "AdaBoostClassifier          0.078956  0.382323  \n",
       "GradientBoostingClassifier  0.087245  0.289795  \n",
       "ExtraTreeClassifier         0.086962  0.260816  \n",
       "BaggingClassifier           0.087088  0.265369  \n",
       "Neural Network-1            0.087339  0.290830  "
      ]
     },
     "metadata": {},
     "output_type": "display_data"
    },
    {
     "name": "stdout",
     "output_type": "stream",
     "text": [
      "Test Results\n"
     ]
    },
    {
     "data": {
      "text/html": [
       "<div>\n",
       "<style scoped>\n",
       "    .dataframe tbody tr th:only-of-type {\n",
       "        vertical-align: middle;\n",
       "    }\n",
       "\n",
       "    .dataframe tbody tr th {\n",
       "        vertical-align: top;\n",
       "    }\n",
       "\n",
       "    .dataframe thead th {\n",
       "        text-align: right;\n",
       "    }\n",
       "</style>\n",
       "<table border=\"1\" class=\"dataframe\">\n",
       "  <thead>\n",
       "    <tr style=\"text-align: right;\">\n",
       "      <th></th>\n",
       "      <th>accuracy</th>\n",
       "      <th>TP</th>\n",
       "      <th>TN</th>\n",
       "      <th>FP</th>\n",
       "      <th>FN</th>\n",
       "      <th>FPR</th>\n",
       "      <th>FNR</th>\n",
       "      <th>auc</th>\n",
       "      <th>mcc</th>\n",
       "    </tr>\n",
       "    <tr>\n",
       "      <th>index</th>\n",
       "      <th></th>\n",
       "      <th></th>\n",
       "      <th></th>\n",
       "      <th></th>\n",
       "      <th></th>\n",
       "      <th></th>\n",
       "      <th></th>\n",
       "      <th></th>\n",
       "      <th></th>\n",
       "    </tr>\n",
       "  </thead>\n",
       "  <tbody>\n",
       "    <tr>\n",
       "      <th>KNeighborsClassifier</th>\n",
       "      <td>0.883123</td>\n",
       "      <td>828.0</td>\n",
       "      <td>7272.0</td>\n",
       "      <td>710.0</td>\n",
       "      <td>362.0</td>\n",
       "      <td>0.088950</td>\n",
       "      <td>0.304202</td>\n",
       "      <td>0.803424</td>\n",
       "      <td>0.545827</td>\n",
       "    </tr>\n",
       "    <tr>\n",
       "      <th>LogisticRegression</th>\n",
       "      <td>0.880288</td>\n",
       "      <td>791.0</td>\n",
       "      <td>7283.0</td>\n",
       "      <td>699.0</td>\n",
       "      <td>399.0</td>\n",
       "      <td>0.087572</td>\n",
       "      <td>0.335294</td>\n",
       "      <td>0.788567</td>\n",
       "      <td>0.525746</td>\n",
       "    </tr>\n",
       "    <tr>\n",
       "      <th>RandomForestClassifier</th>\n",
       "      <td>0.882795</td>\n",
       "      <td>847.0</td>\n",
       "      <td>7250.0</td>\n",
       "      <td>732.0</td>\n",
       "      <td>343.0</td>\n",
       "      <td>0.091706</td>\n",
       "      <td>0.288235</td>\n",
       "      <td>0.810029</td>\n",
       "      <td>0.551905</td>\n",
       "    </tr>\n",
       "    <tr>\n",
       "      <th>AdaBoostClassifier</th>\n",
       "      <td>0.880179</td>\n",
       "      <td>717.0</td>\n",
       "      <td>7356.0</td>\n",
       "      <td>626.0</td>\n",
       "      <td>473.0</td>\n",
       "      <td>0.078426</td>\n",
       "      <td>0.397479</td>\n",
       "      <td>0.762047</td>\n",
       "      <td>0.498136</td>\n",
       "    </tr>\n",
       "    <tr>\n",
       "      <th>GradientBoostingClassifier</th>\n",
       "      <td>0.883341</td>\n",
       "      <td>825.0</td>\n",
       "      <td>7277.0</td>\n",
       "      <td>705.0</td>\n",
       "      <td>365.0</td>\n",
       "      <td>0.088324</td>\n",
       "      <td>0.306723</td>\n",
       "      <td>0.802477</td>\n",
       "      <td>0.545258</td>\n",
       "    </tr>\n",
       "    <tr>\n",
       "      <th>ExtraTreeClassifier</th>\n",
       "      <td>0.881923</td>\n",
       "      <td>849.0</td>\n",
       "      <td>7240.0</td>\n",
       "      <td>742.0</td>\n",
       "      <td>341.0</td>\n",
       "      <td>0.092959</td>\n",
       "      <td>0.286555</td>\n",
       "      <td>0.810243</td>\n",
       "      <td>0.550634</td>\n",
       "    </tr>\n",
       "    <tr>\n",
       "      <th>BaggingClassifier</th>\n",
       "      <td>0.883341</td>\n",
       "      <td>846.0</td>\n",
       "      <td>7256.0</td>\n",
       "      <td>726.0</td>\n",
       "      <td>344.0</td>\n",
       "      <td>0.090955</td>\n",
       "      <td>0.289076</td>\n",
       "      <td>0.809985</td>\n",
       "      <td>0.552798</td>\n",
       "    </tr>\n",
       "    <tr>\n",
       "      <th>Neural Network-1</th>\n",
       "      <td>0.883450</td>\n",
       "      <td>832.0</td>\n",
       "      <td>7271.0</td>\n",
       "      <td>711.0</td>\n",
       "      <td>358.0</td>\n",
       "      <td>0.089075</td>\n",
       "      <td>0.300840</td>\n",
       "      <td>0.809985</td>\n",
       "      <td>0.548028</td>\n",
       "    </tr>\n",
       "  </tbody>\n",
       "</table>\n",
       "</div>"
      ],
      "text/plain": [
       "                            accuracy     TP      TN     FP     FN       FPR  \\\n",
       "index                                                                         \n",
       "KNeighborsClassifier        0.883123  828.0  7272.0  710.0  362.0  0.088950   \n",
       "LogisticRegression          0.880288  791.0  7283.0  699.0  399.0  0.087572   \n",
       "RandomForestClassifier      0.882795  847.0  7250.0  732.0  343.0  0.091706   \n",
       "AdaBoostClassifier          0.880179  717.0  7356.0  626.0  473.0  0.078426   \n",
       "GradientBoostingClassifier  0.883341  825.0  7277.0  705.0  365.0  0.088324   \n",
       "ExtraTreeClassifier         0.881923  849.0  7240.0  742.0  341.0  0.092959   \n",
       "BaggingClassifier           0.883341  846.0  7256.0  726.0  344.0  0.090955   \n",
       "Neural Network-1            0.883450  832.0  7271.0  711.0  358.0  0.089075   \n",
       "\n",
       "                                 FNR       auc       mcc  \n",
       "index                                                     \n",
       "KNeighborsClassifier        0.304202  0.803424  0.545827  \n",
       "LogisticRegression          0.335294  0.788567  0.525746  \n",
       "RandomForestClassifier      0.288235  0.810029  0.551905  \n",
       "AdaBoostClassifier          0.397479  0.762047  0.498136  \n",
       "GradientBoostingClassifier  0.306723  0.802477  0.545258  \n",
       "ExtraTreeClassifier         0.286555  0.810243  0.550634  \n",
       "BaggingClassifier           0.289076  0.809985  0.552798  \n",
       "Neural Network-1            0.300840  0.809985  0.548028  "
      ]
     },
     "metadata": {},
     "output_type": "display_data"
    }
   ],
   "source": [
    "table_80_60_train['index']=ind_columns\n",
    "table_80_60_test['index']=ind_columns\n",
    "\n",
    "\n",
    "table_80_60_test.set_index(['index'],drop=True,inplace=True)\n",
    "table_80_60_train.set_index(['index'],drop=True,inplace=True)\n",
    "\n",
    "print(\"Training Results\")\n",
    "display(table_80_60_train)\n",
    "print(\"Test Results\")\n",
    "display(table_80_60_test)"
   ]
  },
  {
   "cell_type": "markdown",
   "metadata": {},
   "source": [
    "### <a id='4.B' style=\"text-decoration : none; color : #000000;\"> B. Average Feature Importances</a>"
   ]
  },
  {
   "cell_type": "code",
   "execution_count": 43,
   "metadata": {},
   "outputs": [
    {
     "data": {
      "application/vnd.plotly.v1+json": {
       "config": {
        "linkText": "Export to plot.ly",
        "plotlyServerURL": "https://plot.ly",
        "showLink": true
       },
       "data": [
        {
         "marker": {
          "color": "rgb(158,202,225)",
          "line": {
           "color": "rgb(8,48,107)",
           "width": 1.5
          }
         },
         "opacity": 0.6,
         "orientation": "h",
         "text": [
          0.2811,
          0.1249,
          0.0795,
          0.0755,
          0.0691,
          0.0437,
          0.0394,
          0.0298,
          0.0288,
          0.0247,
          0.0231,
          0.0191,
          0.0185,
          0.018,
          0.0148,
          0.0139,
          0.0123,
          0.0108,
          0.0108,
          0.0103,
          0.0088,
          0.0088,
          0.0068,
          0.0052,
          0.0051,
          0.0046,
          0.0035,
          0.0028,
          0.0021,
          0.0014,
          0.0013,
          0.001,
          0.0003,
          0.0001,
          0.0001,
          0
         ],
         "textposition": "outside",
         "type": "bar",
         "uid": "91a2e12f-a23a-40ad-b5f1-60bc91d8c041",
         "x": [
          0.2810721767550946,
          0.12490530373039134,
          0.07945557114488805,
          0.07552742379735258,
          0.06908515202827355,
          0.0437042830294294,
          0.03935912672857006,
          0.029774994797315026,
          0.028773891532459135,
          0.024739845090827082,
          0.02309113663493072,
          0.019127913963586887,
          0.018493659532064402,
          0.017973638175844735,
          0.014755940105745187,
          0.013887348353745048,
          0.012301870106820044,
          0.010815497232524448,
          0.010795796597679848,
          0.01030070533242764,
          0.008843076907140717,
          0.008814442009154594,
          0.006834878935726641,
          0.00518515455873415,
          0.005106511572436968,
          0.004648705504710004,
          0.003519199401791321,
          0.0028369425618904372,
          0.002053307806145088,
          0.0013802312163717705,
          0.0013495927344115755,
          0.0009996472297743018,
          0.00025176877090091437,
          0.00013594104846847385,
          9.700346365707234e-05,
          2.3216087161686534e-06
         ],
         "y": [
          "http_header_content-encoding_gzip / http_header_content-length",
          "http_header_cache-control_set_private + http_header_content-encoding_gzip",
          "http_header_cache-control_set_max-age + http_header_content-encoding_gzip",
          "http_header_content-encoding_gzip + http_header_strict-transport-security_max-age",
          "http_header_content-encoding_gzip + http_header_server_nginx",
          "http_header_content-encoding_gzip + http_header_x-cintent-type-options_nosniff",
          "http_header_content-language_text/html + http_header_server_nginx",
          "http_header_content-encoding_gzip + http_header_x-xss-enabled",
          "http_header_cache-control_set_private + http_header_content-language_text/html",
          "http_header_content-encoding_gzip",
          "http_header_cache-control_set_no-cache + http_header_server_nginx",
          "http_header_cache-control_set_public + http_header_content-encoding_gzip",
          "http_header_content-language_text/html + http_header_x-cintent-type-options_nosniff",
          "http_header_cache-control_set_must-revalidate + http_header_content-language_text/html",
          "http_header_cache-control_set_no-cache + http_header_content-language_text/html",
          "http_header_cache-control_set_no-store + http_header_content-encoding_gzip",
          "http_header_content-language_text/html / http_header_content-encoding_gzip",
          "http_header_cache-control_set_no-store + http_header_content-language_text/html",
          "http_header_content-language_text/html",
          "http_header_cache-control_set_max-age + http_header_cache-control_set_no-store",
          "http_header_server_nginx / http_header_content-language_text/html",
          "http_header_content-language_text/html + http_header_x-xss-enabled",
          "http_header_cache-control_set_max-age + http_header_content-language_text/html",
          "http_header_content-encoding_gzip + http_header_content-language_text/html",
          "http_header_content-encoding_gzip / http_header_cache-control_set_no-store",
          "http_header_cache-control_set_no-cache + http_header_content-encoding_gzip",
          "http_header_cache-control_set_max-age / http_header_content-language_text/html",
          "http_header_cache-control_set_max-age * http_header_content-language_text/html",
          "http_header_content-language_text/html * http_header_server_nginx",
          "http_header_content-language_text/html / http_header_x-cintent-type-options_nosniff",
          "http_header_content-language_text/html / http_header_server_nginx",
          "http_header_content-language_text/html / http_header_cache-control_set_max-age",
          "http_header_content-encoding_gzip * http_header_content-language_text/html",
          "http_header_cache-control_set_no-store / http_header_content-encoding_gzip",
          "http_header_cache-control_set_no-store * http_header_content-encoding_gzip",
          "http_header_content-encoding_gzip / http_header_content-language_text/html"
         ]
        }
       ],
       "layout": {
        "autosize": false,
        "height": 1000,
        "width": 1000,
        "xaxis": {
         "tickfont": {
          "color": "black",
          "size": 12
         },
         "title": "Feature Importances"
        },
        "yaxis": {
         "automargin": true
        }
       }
      },
      "text/html": [
       "<div id=\"8c6c9a99-bbae-40e1-88d1-fe991bcaca88\" style=\"height: 1000px; width: 1000px;\" class=\"plotly-graph-div\"></div><script type=\"text/javascript\">require([\"plotly\"], function(Plotly) { window.PLOTLYENV=window.PLOTLYENV || {};window.PLOTLYENV.BASE_URL=\"https://plot.ly\";Plotly.newPlot(\"8c6c9a99-bbae-40e1-88d1-fe991bcaca88\", [{\"marker\": {\"color\": \"rgb(158,202,225)\", \"line\": {\"color\": \"rgb(8,48,107)\", \"width\": 1.5}}, \"opacity\": 0.6, \"orientation\": \"h\", \"text\": [0.2811, 0.1249, 0.0795, 0.0755, 0.0691, 0.0437, 0.0394, 0.0298, 0.0288, 0.0247, 0.0231, 0.0191, 0.0185, 0.018, 0.0148, 0.0139, 0.0123, 0.0108, 0.0108, 0.0103, 0.0088, 0.0088, 0.0068, 0.0052, 0.0051, 0.0046, 0.0035, 0.0028, 0.0021, 0.0014, 0.0013, 0.001, 0.0003, 0.0001, 0.0001, 0.0], \"textposition\": \"outside\", \"x\": [0.2810721767550946, 0.12490530373039134, 0.07945557114488805, 0.07552742379735258, 0.06908515202827355, 0.0437042830294294, 0.03935912672857006, 0.029774994797315026, 0.028773891532459135, 0.024739845090827082, 0.02309113663493072, 0.019127913963586887, 0.018493659532064402, 0.017973638175844735, 0.014755940105745187, 0.013887348353745048, 0.012301870106820044, 0.010815497232524448, 0.010795796597679848, 0.01030070533242764, 0.008843076907140717, 0.008814442009154594, 0.006834878935726641, 0.00518515455873415, 0.005106511572436968, 0.004648705504710004, 0.003519199401791321, 0.0028369425618904372, 0.002053307806145088, 0.0013802312163717705, 0.0013495927344115755, 0.0009996472297743018, 0.00025176877090091437, 0.00013594104846847385, 9.700346365707234e-05, 2.3216087161686534e-06], \"y\": [\"http_header_content-encoding_gzip / http_header_content-length\", \"http_header_cache-control_set_private + http_header_content-encoding_gzip\", \"http_header_cache-control_set_max-age + http_header_content-encoding_gzip\", \"http_header_content-encoding_gzip + http_header_strict-transport-security_max-age\", \"http_header_content-encoding_gzip + http_header_server_nginx\", \"http_header_content-encoding_gzip + http_header_x-cintent-type-options_nosniff\", \"http_header_content-language_text/html + http_header_server_nginx\", \"http_header_content-encoding_gzip + http_header_x-xss-enabled\", \"http_header_cache-control_set_private + http_header_content-language_text/html\", \"http_header_content-encoding_gzip\", \"http_header_cache-control_set_no-cache + http_header_server_nginx\", \"http_header_cache-control_set_public + http_header_content-encoding_gzip\", \"http_header_content-language_text/html + http_header_x-cintent-type-options_nosniff\", \"http_header_cache-control_set_must-revalidate + http_header_content-language_text/html\", \"http_header_cache-control_set_no-cache + http_header_content-language_text/html\", \"http_header_cache-control_set_no-store + http_header_content-encoding_gzip\", \"http_header_content-language_text/html / http_header_content-encoding_gzip\", \"http_header_cache-control_set_no-store + http_header_content-language_text/html\", \"http_header_content-language_text/html\", \"http_header_cache-control_set_max-age + http_header_cache-control_set_no-store\", \"http_header_server_nginx / http_header_content-language_text/html\", \"http_header_content-language_text/html + http_header_x-xss-enabled\", \"http_header_cache-control_set_max-age + http_header_content-language_text/html\", \"http_header_content-encoding_gzip + http_header_content-language_text/html\", \"http_header_content-encoding_gzip / http_header_cache-control_set_no-store\", \"http_header_cache-control_set_no-cache + http_header_content-encoding_gzip\", \"http_header_cache-control_set_max-age / http_header_content-language_text/html\", \"http_header_cache-control_set_max-age * http_header_content-language_text/html\", \"http_header_content-language_text/html * http_header_server_nginx\", \"http_header_content-language_text/html / http_header_x-cintent-type-options_nosniff\", \"http_header_content-language_text/html / http_header_server_nginx\", \"http_header_content-language_text/html / http_header_cache-control_set_max-age\", \"http_header_content-encoding_gzip * http_header_content-language_text/html\", \"http_header_cache-control_set_no-store / http_header_content-encoding_gzip\", \"http_header_cache-control_set_no-store * http_header_content-encoding_gzip\", \"http_header_content-encoding_gzip / http_header_content-language_text/html\"], \"type\": \"bar\", \"uid\": \"91a2e12f-a23a-40ad-b5f1-60bc91d8c041\"}], {\"autosize\": false, \"height\": 1000, \"width\": 1000, \"xaxis\": {\"tickfont\": {\"color\": \"black\", \"size\": 12}, \"title\": \"Feature Importances\"}, \"yaxis\": {\"automargin\": true}}, {\"showLink\": true, \"linkText\": \"Export to plot.ly\", \"plotlyServerURL\": \"https://plot.ly\"})});</script>"
      ],
      "text/vnd.plotly.v1+html": [
       "<div id=\"8c6c9a99-bbae-40e1-88d1-fe991bcaca88\" style=\"height: 1000px; width: 1000px;\" class=\"plotly-graph-div\"></div><script type=\"text/javascript\">require([\"plotly\"], function(Plotly) { window.PLOTLYENV=window.PLOTLYENV || {};window.PLOTLYENV.BASE_URL=\"https://plot.ly\";Plotly.newPlot(\"8c6c9a99-bbae-40e1-88d1-fe991bcaca88\", [{\"marker\": {\"color\": \"rgb(158,202,225)\", \"line\": {\"color\": \"rgb(8,48,107)\", \"width\": 1.5}}, \"opacity\": 0.6, \"orientation\": \"h\", \"text\": [0.2811, 0.1249, 0.0795, 0.0755, 0.0691, 0.0437, 0.0394, 0.0298, 0.0288, 0.0247, 0.0231, 0.0191, 0.0185, 0.018, 0.0148, 0.0139, 0.0123, 0.0108, 0.0108, 0.0103, 0.0088, 0.0088, 0.0068, 0.0052, 0.0051, 0.0046, 0.0035, 0.0028, 0.0021, 0.0014, 0.0013, 0.001, 0.0003, 0.0001, 0.0001, 0.0], \"textposition\": \"outside\", \"x\": [0.2810721767550946, 0.12490530373039134, 0.07945557114488805, 0.07552742379735258, 0.06908515202827355, 0.0437042830294294, 0.03935912672857006, 0.029774994797315026, 0.028773891532459135, 0.024739845090827082, 0.02309113663493072, 0.019127913963586887, 0.018493659532064402, 0.017973638175844735, 0.014755940105745187, 0.013887348353745048, 0.012301870106820044, 0.010815497232524448, 0.010795796597679848, 0.01030070533242764, 0.008843076907140717, 0.008814442009154594, 0.006834878935726641, 0.00518515455873415, 0.005106511572436968, 0.004648705504710004, 0.003519199401791321, 0.0028369425618904372, 0.002053307806145088, 0.0013802312163717705, 0.0013495927344115755, 0.0009996472297743018, 0.00025176877090091437, 0.00013594104846847385, 9.700346365707234e-05, 2.3216087161686534e-06], \"y\": [\"http_header_content-encoding_gzip / http_header_content-length\", \"http_header_cache-control_set_private + http_header_content-encoding_gzip\", \"http_header_cache-control_set_max-age + http_header_content-encoding_gzip\", \"http_header_content-encoding_gzip + http_header_strict-transport-security_max-age\", \"http_header_content-encoding_gzip + http_header_server_nginx\", \"http_header_content-encoding_gzip + http_header_x-cintent-type-options_nosniff\", \"http_header_content-language_text/html + http_header_server_nginx\", \"http_header_content-encoding_gzip + http_header_x-xss-enabled\", \"http_header_cache-control_set_private + http_header_content-language_text/html\", \"http_header_content-encoding_gzip\", \"http_header_cache-control_set_no-cache + http_header_server_nginx\", \"http_header_cache-control_set_public + http_header_content-encoding_gzip\", \"http_header_content-language_text/html + http_header_x-cintent-type-options_nosniff\", \"http_header_cache-control_set_must-revalidate + http_header_content-language_text/html\", \"http_header_cache-control_set_no-cache + http_header_content-language_text/html\", \"http_header_cache-control_set_no-store + http_header_content-encoding_gzip\", \"http_header_content-language_text/html / http_header_content-encoding_gzip\", \"http_header_cache-control_set_no-store + http_header_content-language_text/html\", \"http_header_content-language_text/html\", \"http_header_cache-control_set_max-age + http_header_cache-control_set_no-store\", \"http_header_server_nginx / http_header_content-language_text/html\", \"http_header_content-language_text/html + http_header_x-xss-enabled\", \"http_header_cache-control_set_max-age + http_header_content-language_text/html\", \"http_header_content-encoding_gzip + http_header_content-language_text/html\", \"http_header_content-encoding_gzip / http_header_cache-control_set_no-store\", \"http_header_cache-control_set_no-cache + http_header_content-encoding_gzip\", \"http_header_cache-control_set_max-age / http_header_content-language_text/html\", \"http_header_cache-control_set_max-age * http_header_content-language_text/html\", \"http_header_content-language_text/html * http_header_server_nginx\", \"http_header_content-language_text/html / http_header_x-cintent-type-options_nosniff\", \"http_header_content-language_text/html / http_header_server_nginx\", \"http_header_content-language_text/html / http_header_cache-control_set_max-age\", \"http_header_content-encoding_gzip * http_header_content-language_text/html\", \"http_header_cache-control_set_no-store / http_header_content-encoding_gzip\", \"http_header_cache-control_set_no-store * http_header_content-encoding_gzip\", \"http_header_content-encoding_gzip / http_header_content-language_text/html\"], \"type\": \"bar\", \"uid\": \"91a2e12f-a23a-40ad-b5f1-60bc91d8c041\"}], {\"autosize\": false, \"height\": 1000, \"width\": 1000, \"xaxis\": {\"tickfont\": {\"color\": \"black\", \"size\": 12}, \"title\": \"Feature Importances\"}, \"yaxis\": {\"automargin\": true}}, {\"showLink\": true, \"linkText\": \"Export to plot.ly\", \"plotlyServerURL\": \"https://plot.ly\"})});</script>"
      ]
     },
     "metadata": {},
     "output_type": "display_data"
    }
   ],
   "source": [
    "feat_impt_plot(np.average(feat_imp,axis=0),columns)"
   ]
  },
  {
   "cell_type": "markdown",
   "metadata": {},
   "source": [
    "### <a id='5' style=\"text-decoration : none; color : #000000;\">5. Feature Transformation with PCA </a>"
   ]
  },
  {
   "cell_type": "code",
   "execution_count": 44,
   "metadata": {
    "collapsed": true
   },
   "outputs": [],
   "source": [
    "X=fs.loc[:,fs.columns!='Target']\n",
    "y=fs.Target.values\n",
    "feature_name = X.columns.tolist()\n",
    "X=np.nan_to_num(X)\n",
    "scaler=StandardScaler()\n",
    "scaled_X=scaler.fit_transform(X)"
   ]
  },
  {
   "cell_type": "code",
   "execution_count": 45,
   "metadata": {},
   "outputs": [
    {
     "data": {
      "image/png": "[encoded data removed]",
      "text/plain": [
       "<Figure size 720x576 with 1 Axes>"
      ]
     },
     "metadata": {},
     "output_type": "display_data"
    }
   ],
   "source": [
    "sns.set_style('whitegrid')\n",
    "pca = PCA(random_state=0)\n",
    "pca.fit(scaled_X)\n",
    "plt.figure(1, figsize=(10, 8))\n",
    "plt.plot(np.cumsum(pca.explained_variance_ratio_),'--o', linewidth=2)\n",
    "plt.axis('tight')\n",
    "plt.xlabel('Number of Components',size=14)\n",
    "plt.xticks(size=12)\n",
    "plt.xlim([0,200])\n",
    "plt.ylabel('% Explained Variance',size=14)\n",
    "plt.yticks(size=12)\n",
    "plt.title('% Variance Explained by Principal Components',size=14,y=1.05)\n",
    "plt.show()"
   ]
  },
  {
   "cell_type": "code",
   "execution_count": 47,
   "metadata": {},
   "outputs": [
    {
     "data": {
      "text/plain": [
       "56"
      ]
     },
     "execution_count": 47,
     "metadata": {},
     "output_type": "execute_result"
    }
   ],
   "source": [
    "np.where(np.cumsum(pca.explained_variance_ratio_)>0.95)[0][0]"
   ]
  },
  {
   "cell_type": "code",
   "execution_count": 48,
   "metadata": {},
   "outputs": [
    {
     "name": "stdout",
     "output_type": "stream",
     "text": [
      "Variance explained using 56 components is: 0.949434396323\n"
     ]
    }
   ],
   "source": [
    "pca=PCA(n_components=56,whiten=True,random_state=0)\n",
    "X_pca_21=pca.fit_transform(scaled_X)\n",
    "print(\"Variance explained using 56 components is:\",sum(pca.explained_variance_ratio_))"
   ]
  },
  {
   "cell_type": "code",
   "execution_count": 52,
   "metadata": {
    "collapsed": true
   },
   "outputs": [],
   "source": [
    "X_train=X_pca_21[:36684]\n",
    "Y_train=fs.iloc[:36684]['Target'].values\n",
    "X_test=X_pca_21[36684:]\n",
    "Y_test=fs.iloc[36684:]['Target'].values\n",
    "\n",
    "## Table to store training and test measures so we can compare later\n",
    "table_80_70_train=pd.DataFrame(columns=['accuracy','TP','TN','FP','FN','FPR','FNR'])\n",
    "table_80_70_test=pd.DataFrame(columns=['accuracy','TP','TN','FP','FN','FPR','FNR','auc','mcc'])"
   ]
  },
  {
   "cell_type": "code",
   "execution_count": 53,
   "metadata": {
    "scrolled": false
   },
   "outputs": [
    {
     "name": "stdout",
     "output_type": "stream",
     "text": [
      "\u001b[1mK-Nearest Neighbors\u001b[0m\n",
      "Accuracy of the model for training data is: 0.891069676153\n",
      "Confusion Matrix for training data is:\n"
     ]
    },
    {
     "data": {
      "text/plain": [
       "Predicted  False  True  __all__\n",
       "Actual                         \n",
       "False      31688   165    31853\n",
       "True        3831  1000     4831\n",
       "__all__    35519  1165    36684"
      ]
     },
     "metadata": {},
     "output_type": "display_data"
    },
    {
     "name": "stdout",
     "output_type": "stream",
     "text": [
      "Accuracy of the model for test data is: 0.893698211949\n",
      "Confusion Matrix for test data is:\n"
     ]
    },
    {
     "data": {
      "text/plain": [
       "Predicted  False  True  __all__\n",
       "Actual                         \n",
       "False       7935    47     7982\n",
       "True         928   262     1190\n",
       "__all__     8863   309     9172"
      ]
     },
     "metadata": {},
     "output_type": "display_data"
    },
    {
     "name": "stdout",
     "output_type": "stream",
     "text": [
      "\n",
      "\n",
      "\u001b[1mLogistic Regression\u001b[0m\n",
      "Accuracy of the model for training data is: 0.886926180351\n",
      "Confusion Matrix for training data is:\n"
     ]
    },
    {
     "data": {
      "text/plain": [
       "Predicted  False  True  __all__\n",
       "Actual                         \n",
       "False      29294  2559    31853\n",
       "True        1589  3242     4831\n",
       "__all__    30883  5801    36684"
      ]
     },
     "metadata": {},
     "output_type": "display_data"
    },
    {
     "name": "stdout",
     "output_type": "stream",
     "text": [
      "Accuracy of the model for test data is: 0.88552115133\n",
      "Confusion Matrix for test data is:\n"
     ]
    },
    {
     "data": {
      "text/plain": [
       "Predicted  False  True  __all__\n",
       "Actual                         \n",
       "False       7335   647     7982\n",
       "True         403   787     1190\n",
       "__all__     7738  1434     9172"
      ]
     },
     "metadata": {},
     "output_type": "display_data"
    },
    {
     "name": "stdout",
     "output_type": "stream",
     "text": [
      "\n",
      "\n",
      "\u001b[1mRandomForest Classifier\u001b[0m\n",
      "Accuracy of the model for training data is: 0.907125722386\n",
      "Confusion Matrix for training data is:\n"
     ]
    },
    {
     "data": {
      "text/plain": [
       "Predicted  False  True  __all__\n",
       "Actual                         \n",
       "False      28884  2969    31853\n",
       "True         438  4393     4831\n",
       "__all__    29322  7362    36684"
      ]
     },
     "metadata": {},
     "output_type": "display_data"
    },
    {
     "name": "stdout",
     "output_type": "stream",
     "text": [
      "Accuracy of the model for test data is: 0.901439162669\n",
      "Confusion Matrix for test data is:\n"
     ]
    },
    {
     "data": {
      "text/plain": [
       "Predicted  False  True  __all__\n",
       "Actual                         \n",
       "False       7227   755     7982\n",
       "True         149  1041     1190\n",
       "__all__     7376  1796     9172"
      ]
     },
     "metadata": {},
     "output_type": "display_data"
    },
    {
     "data": {
      "application/vnd.plotly.v1+json": {
       "config": {
        "linkText": "Export to plot.ly",
        "plotlyServerURL": "https://plot.ly",
        "showLink": true
       },
       "data": [
        {
         "marker": {
          "color": "rgb(158,202,225)",
          "line": {
           "color": "rgb(8,48,107)",
           "width": 1.5
          }
         },
         "opacity": 0.6,
         "orientation": "h",
         "text": [
          0.1255,
          0.0598,
          0.0564,
          0.0563,
          0.055,
          0.0527,
          0.0451,
          0.0383,
          0.0373,
          0.0365,
          0.0329,
          0.0301,
          0.029,
          0.0224,
          0.0222,
          0.0208,
          0.0205,
          0.02,
          0.0178,
          0.0164,
          0.0152,
          0.014,
          0.0117,
          0.0104,
          0.0096,
          0.0091,
          0.0091,
          0.009,
          0.0087,
          0.0059,
          0.0059,
          0.0056,
          0.0056,
          0.0045,
          0.0045,
          0.0044,
          0.0044,
          0.0043,
          0.0043,
          0.0043,
          0.0042,
          0.0041,
          0.004,
          0.004,
          0.0038,
          0.0037,
          0.0035,
          0.0034,
          0.0032,
          0.0032,
          0.0032,
          0.0031,
          0.0031,
          0.0026,
          0.0026,
          0.0026
         ],
         "textposition": "outside",
         "type": "bar",
         "uid": "69d6cac7-c65c-4c5f-92d7-803360a8b4ec",
         "x": [
          0.12550317743054168,
          0.05979744325493497,
          0.056373093816577256,
          0.05632618974736183,
          0.054978538317658684,
          0.052728758861438886,
          0.04506585276397219,
          0.038310341424870054,
          0.0372785998965814,
          0.03646957634275941,
          0.03287743688197166,
          0.030137924668319483,
          0.02900167205510733,
          0.022434924183820926,
          0.022218599502127075,
          0.020768795180949245,
          0.02053514461237504,
          0.019979833374274773,
          0.017804686776812146,
          0.016394865449363655,
          0.015216905352724932,
          0.014043065632104714,
          0.011742386188610149,
          0.010423274214627961,
          0.009645367702602065,
          0.009103188272586434,
          0.009078259495323242,
          0.009025641571560269,
          0.008710812554479447,
          0.005922340358381834,
          0.005889645132260073,
          0.005581734482791067,
          0.005574743423322445,
          0.004538803290165255,
          0.004483546399638468,
          0.004442311465330439,
          0.0043969270738274755,
          0.004310654164702239,
          0.004267927687981831,
          0.00425927824330647,
          0.004201771663106743,
          0.004138085622052426,
          0.004030224490940143,
          0.004024843544209585,
          0.003834308246735939,
          0.0037300891015293056,
          0.003505996202015204,
          0.0033904734306749035,
          0.003196071390095266,
          0.0031703761279055867,
          0.003155907525990666,
          0.00313677217191992,
          0.0030891474077909655,
          0.002625143742308328,
          0.0025691038572797364,
          0.0025594182273007264
         ],
         "y": [
          "0",
          "1",
          "45",
          "3",
          "6",
          "9",
          "8",
          "37",
          "41",
          "29",
          "54",
          "28",
          "21",
          "38",
          "40",
          "53",
          "22",
          "35",
          "26",
          "44",
          "51",
          "2",
          "50",
          "18",
          "10",
          "15",
          "27",
          "49",
          "11",
          "31",
          "30",
          "23",
          "4",
          "43",
          "13",
          "12",
          "7",
          "19",
          "14",
          "48",
          "39",
          "42",
          "17",
          "47",
          "34",
          "16",
          "20",
          "24",
          "36",
          "52",
          "25",
          "32",
          "55",
          "33",
          "5",
          "46"
         ]
        }
       ],
       "layout": {
        "autosize": false,
        "height": 1000,
        "width": 1000,
        "xaxis": {
         "tickfont": {
          "color": "black",
          "size": 12
         },
         "title": "Feature Importances"
        },
        "yaxis": {
         "automargin": true
        }
       }
      },
      "text/html": [
       "<div id=\"f884dcc0-8090-4516-ac07-3740fe765b5d\" style=\"height: 1000px; width: 1000px;\" class=\"plotly-graph-div\"></div><script type=\"text/javascript\">require([\"plotly\"], function(Plotly) { window.PLOTLYENV=window.PLOTLYENV || {};window.PLOTLYENV.BASE_URL=\"https://plot.ly\";Plotly.newPlot(\"f884dcc0-8090-4516-ac07-3740fe765b5d\", [{\"marker\": {\"color\": \"rgb(158,202,225)\", \"line\": {\"color\": \"rgb(8,48,107)\", \"width\": 1.5}}, \"opacity\": 0.6, \"orientation\": \"h\", \"text\": [0.1255, 0.0598, 0.0564, 0.0563, 0.055, 0.0527, 0.0451, 0.0383, 0.0373, 0.0365, 0.0329, 0.0301, 0.029, 0.0224, 0.0222, 0.0208, 0.0205, 0.02, 0.0178, 0.0164, 0.0152, 0.014, 0.0117, 0.0104, 0.0096, 0.0091, 0.0091, 0.009, 0.0087, 0.0059, 0.0059, 0.0056, 0.0056, 0.0045, 0.0045, 0.0044, 0.0044, 0.0043, 0.0043, 0.0043, 0.0042, 0.0041, 0.004, 0.004, 0.0038, 0.0037, 0.0035, 0.0034, 0.0032, 0.0032, 0.0032, 0.0031, 0.0031, 0.0026, 0.0026, 0.0026], \"textposition\": \"outside\", \"x\": [0.12550317743054168, 0.05979744325493497, 0.056373093816577256, 0.05632618974736183, 0.054978538317658684, 0.052728758861438886, 0.04506585276397219, 0.038310341424870054, 0.0372785998965814, 0.03646957634275941, 0.03287743688197166, 0.030137924668319483, 0.02900167205510733, 0.022434924183820926, 0.022218599502127075, 0.020768795180949245, 0.02053514461237504, 0.019979833374274773, 0.017804686776812146, 0.016394865449363655, 0.015216905352724932, 0.014043065632104714, 0.011742386188610149, 0.010423274214627961, 0.009645367702602065, 0.009103188272586434, 0.009078259495323242, 0.009025641571560269, 0.008710812554479447, 0.005922340358381834, 0.005889645132260073, 0.005581734482791067, 0.005574743423322445, 0.004538803290165255, 0.004483546399638468, 0.004442311465330439, 0.0043969270738274755, 0.004310654164702239, 0.004267927687981831, 0.00425927824330647, 0.004201771663106743, 0.004138085622052426, 0.004030224490940143, 0.004024843544209585, 0.003834308246735939, 0.0037300891015293056, 0.003505996202015204, 0.0033904734306749035, 0.003196071390095266, 0.0031703761279055867, 0.003155907525990666, 0.00313677217191992, 0.0030891474077909655, 0.002625143742308328, 0.0025691038572797364, 0.0025594182273007264], \"y\": [\"0\", \"1\", \"45\", \"3\", \"6\", \"9\", \"8\", \"37\", \"41\", \"29\", \"54\", \"28\", \"21\", \"38\", \"40\", \"53\", \"22\", \"35\", \"26\", \"44\", \"51\", \"2\", \"50\", \"18\", \"10\", \"15\", \"27\", \"49\", \"11\", \"31\", \"30\", \"23\", \"4\", \"43\", \"13\", \"12\", \"7\", \"19\", \"14\", \"48\", \"39\", \"42\", \"17\", \"47\", \"34\", \"16\", \"20\", \"24\", \"36\", \"52\", \"25\", \"32\", \"55\", \"33\", \"5\", \"46\"], \"type\": \"bar\", \"uid\": \"69d6cac7-c65c-4c5f-92d7-803360a8b4ec\"}], {\"autosize\": false, \"height\": 1000, \"width\": 1000, \"xaxis\": {\"tickfont\": {\"color\": \"black\", \"size\": 12}, \"title\": \"Feature Importances\"}, \"yaxis\": {\"automargin\": true}}, {\"showLink\": true, \"linkText\": \"Export to plot.ly\", \"plotlyServerURL\": \"https://plot.ly\"})});</script>"
      ],
      "text/vnd.plotly.v1+html": [
       "<div id=\"f884dcc0-8090-4516-ac07-3740fe765b5d\" style=\"height: 1000px; width: 1000px;\" class=\"plotly-graph-div\"></div><script type=\"text/javascript\">require([\"plotly\"], function(Plotly) { window.PLOTLYENV=window.PLOTLYENV || {};window.PLOTLYENV.BASE_URL=\"https://plot.ly\";Plotly.newPlot(\"f884dcc0-8090-4516-ac07-3740fe765b5d\", [{\"marker\": {\"color\": \"rgb(158,202,225)\", \"line\": {\"color\": \"rgb(8,48,107)\", \"width\": 1.5}}, \"opacity\": 0.6, \"orientation\": \"h\", \"text\": [0.1255, 0.0598, 0.0564, 0.0563, 0.055, 0.0527, 0.0451, 0.0383, 0.0373, 0.0365, 0.0329, 0.0301, 0.029, 0.0224, 0.0222, 0.0208, 0.0205, 0.02, 0.0178, 0.0164, 0.0152, 0.014, 0.0117, 0.0104, 0.0096, 0.0091, 0.0091, 0.009, 0.0087, 0.0059, 0.0059, 0.0056, 0.0056, 0.0045, 0.0045, 0.0044, 0.0044, 0.0043, 0.0043, 0.0043, 0.0042, 0.0041, 0.004, 0.004, 0.0038, 0.0037, 0.0035, 0.0034, 0.0032, 0.0032, 0.0032, 0.0031, 0.0031, 0.0026, 0.0026, 0.0026], \"textposition\": \"outside\", \"x\": [0.12550317743054168, 0.05979744325493497, 0.056373093816577256, 0.05632618974736183, 0.054978538317658684, 0.052728758861438886, 0.04506585276397219, 0.038310341424870054, 0.0372785998965814, 0.03646957634275941, 0.03287743688197166, 0.030137924668319483, 0.02900167205510733, 0.022434924183820926, 0.022218599502127075, 0.020768795180949245, 0.02053514461237504, 0.019979833374274773, 0.017804686776812146, 0.016394865449363655, 0.015216905352724932, 0.014043065632104714, 0.011742386188610149, 0.010423274214627961, 0.009645367702602065, 0.009103188272586434, 0.009078259495323242, 0.009025641571560269, 0.008710812554479447, 0.005922340358381834, 0.005889645132260073, 0.005581734482791067, 0.005574743423322445, 0.004538803290165255, 0.004483546399638468, 0.004442311465330439, 0.0043969270738274755, 0.004310654164702239, 0.004267927687981831, 0.00425927824330647, 0.004201771663106743, 0.004138085622052426, 0.004030224490940143, 0.004024843544209585, 0.003834308246735939, 0.0037300891015293056, 0.003505996202015204, 0.0033904734306749035, 0.003196071390095266, 0.0031703761279055867, 0.003155907525990666, 0.00313677217191992, 0.0030891474077909655, 0.002625143742308328, 0.0025691038572797364, 0.0025594182273007264], \"y\": [\"0\", \"1\", \"45\", \"3\", \"6\", \"9\", \"8\", \"37\", \"41\", \"29\", \"54\", \"28\", \"21\", \"38\", \"40\", \"53\", \"22\", \"35\", \"26\", \"44\", \"51\", \"2\", \"50\", \"18\", \"10\", \"15\", \"27\", \"49\", \"11\", \"31\", \"30\", \"23\", \"4\", \"43\", \"13\", \"12\", \"7\", \"19\", \"14\", \"48\", \"39\", \"42\", \"17\", \"47\", \"34\", \"16\", \"20\", \"24\", \"36\", \"52\", \"25\", \"32\", \"55\", \"33\", \"5\", \"46\"], \"type\": \"bar\", \"uid\": \"69d6cac7-c65c-4c5f-92d7-803360a8b4ec\"}], {\"autosize\": false, \"height\": 1000, \"width\": 1000, \"xaxis\": {\"tickfont\": {\"color\": \"black\", \"size\": 12}, \"title\": \"Feature Importances\"}, \"yaxis\": {\"automargin\": true}}, {\"showLink\": true, \"linkText\": \"Export to plot.ly\", \"plotlyServerURL\": \"https://plot.ly\"})});</script>"
      ]
     },
     "metadata": {},
     "output_type": "display_data"
    },
    {
     "name": "stdout",
     "output_type": "stream",
     "text": [
      "\n",
      "\n",
      "\u001b[1mAdaoost Classifier\u001b[0m\n",
      "Accuracy of the model for training data is: 0.89368662087\n",
      "Confusion Matrix for training data is:\n"
     ]
    },
    {
     "data": {
      "text/plain": [
       "Predicted  False  True  __all__\n",
       "Actual                         \n",
       "False      28811  3042    31853\n",
       "True         858  3973     4831\n",
       "__all__    29669  7015    36684"
      ]
     },
     "metadata": {},
     "output_type": "display_data"
    },
    {
     "name": "stdout",
     "output_type": "stream",
     "text": [
      "Accuracy of the model for test data is: 0.896205843873\n",
      "Confusion Matrix for test data is:\n"
     ]
    },
    {
     "data": {
      "text/plain": [
       "Predicted  False  True  __all__\n",
       "Actual                         \n",
       "False       7251   731     7982\n",
       "True         221   969     1190\n",
       "__all__     7472  1700     9172"
      ]
     },
     "metadata": {},
     "output_type": "display_data"
    },
    {
     "data": {
      "application/vnd.plotly.v1+json": {
       "config": {
        "linkText": "Export to plot.ly",
        "plotlyServerURL": "https://plot.ly",
        "showLink": true
       },
       "data": [
        {
         "marker": {
          "color": "rgb(158,202,225)",
          "line": {
           "color": "rgb(8,48,107)",
           "width": 1.5
          }
         },
         "opacity": 0.6,
         "orientation": "h",
         "text": [
          0.08,
          0.06,
          0.06,
          0.06,
          0.06,
          0.04,
          0.04,
          0.04,
          0.04,
          0.04,
          0.04,
          0.04,
          0.04,
          0.04,
          0.02,
          0.02,
          0.02,
          0.02,
          0.02,
          0.02,
          0.02,
          0.02,
          0.02,
          0.02,
          0.02,
          0.02,
          0.02,
          0.02,
          0.02,
          0.02,
          0,
          0,
          0,
          0,
          0,
          0,
          0,
          0,
          0,
          0,
          0,
          0,
          0,
          0,
          0,
          0,
          0,
          0,
          0,
          0,
          0,
          0,
          0,
          0,
          0,
          0
         ],
         "textposition": "outside",
         "type": "bar",
         "uid": "f0ff5964-313d-4f32-8028-4d19cc482ce4",
         "x": [
          0.08,
          0.06,
          0.06,
          0.06,
          0.06,
          0.04,
          0.04,
          0.04,
          0.04,
          0.04,
          0.04,
          0.04,
          0.04,
          0.04,
          0.02,
          0.02,
          0.02,
          0.02,
          0.02,
          0.02,
          0.02,
          0.02,
          0.02,
          0.02,
          0.02,
          0.02,
          0.02,
          0.02,
          0.02,
          0.02,
          0,
          0,
          0,
          0,
          0,
          0,
          0,
          0,
          0,
          0,
          0,
          0,
          0,
          0,
          0,
          0,
          0,
          0,
          0,
          0,
          0,
          0,
          0,
          0,
          0,
          0
         ],
         "y": [
          "53",
          "28",
          "4",
          "44",
          "18",
          "13",
          "52",
          "46",
          "38",
          "37",
          "34",
          "32",
          "0",
          "2",
          "12",
          "1",
          "54",
          "3",
          "51",
          "50",
          "45",
          "8",
          "36",
          "14",
          "33",
          "31",
          "55",
          "15",
          "16",
          "21",
          "27",
          "42",
          "17",
          "11",
          "19",
          "49",
          "48",
          "47",
          "5",
          "20",
          "6",
          "43",
          "41",
          "26",
          "40",
          "39",
          "7",
          "22",
          "35",
          "23",
          "24",
          "10",
          "25",
          "30",
          "29",
          "9"
         ]
        }
       ],
       "layout": {
        "autosize": false,
        "height": 1000,
        "width": 1000,
        "xaxis": {
         "tickfont": {
          "color": "black",
          "size": 12
         },
         "title": "Feature Importances"
        },
        "yaxis": {
         "automargin": true
        }
       }
      },
      "text/html": [
       "<div id=\"7bd61ef2-c031-467c-947d-2a0e34f3f683\" style=\"height: 1000px; width: 1000px;\" class=\"plotly-graph-div\"></div><script type=\"text/javascript\">require([\"plotly\"], function(Plotly) { window.PLOTLYENV=window.PLOTLYENV || {};window.PLOTLYENV.BASE_URL=\"https://plot.ly\";Plotly.newPlot(\"7bd61ef2-c031-467c-947d-2a0e34f3f683\", [{\"marker\": {\"color\": \"rgb(158,202,225)\", \"line\": {\"color\": \"rgb(8,48,107)\", \"width\": 1.5}}, \"opacity\": 0.6, \"orientation\": \"h\", \"text\": [0.08, 0.06, 0.06, 0.06, 0.06, 0.04, 0.04, 0.04, 0.04, 0.04, 0.04, 0.04, 0.04, 0.04, 0.02, 0.02, 0.02, 0.02, 0.02, 0.02, 0.02, 0.02, 0.02, 0.02, 0.02, 0.02, 0.02, 0.02, 0.02, 0.02, 0.0, 0.0, 0.0, 0.0, 0.0, 0.0, 0.0, 0.0, 0.0, 0.0, 0.0, 0.0, 0.0, 0.0, 0.0, 0.0, 0.0, 0.0, 0.0, 0.0, 0.0, 0.0, 0.0, 0.0, 0.0, 0.0], \"textposition\": \"outside\", \"x\": [0.08, 0.06, 0.06, 0.06, 0.06, 0.04, 0.04, 0.04, 0.04, 0.04, 0.04, 0.04, 0.04, 0.04, 0.02, 0.02, 0.02, 0.02, 0.02, 0.02, 0.02, 0.02, 0.02, 0.02, 0.02, 0.02, 0.02, 0.02, 0.02, 0.02, 0.0, 0.0, 0.0, 0.0, 0.0, 0.0, 0.0, 0.0, 0.0, 0.0, 0.0, 0.0, 0.0, 0.0, 0.0, 0.0, 0.0, 0.0, 0.0, 0.0, 0.0, 0.0, 0.0, 0.0, 0.0, 0.0], \"y\": [\"53\", \"28\", \"4\", \"44\", \"18\", \"13\", \"52\", \"46\", \"38\", \"37\", \"34\", \"32\", \"0\", \"2\", \"12\", \"1\", \"54\", \"3\", \"51\", \"50\", \"45\", \"8\", \"36\", \"14\", \"33\", \"31\", \"55\", \"15\", \"16\", \"21\", \"27\", \"42\", \"17\", \"11\", \"19\", \"49\", \"48\", \"47\", \"5\", \"20\", \"6\", \"43\", \"41\", \"26\", \"40\", \"39\", \"7\", \"22\", \"35\", \"23\", \"24\", \"10\", \"25\", \"30\", \"29\", \"9\"], \"type\": \"bar\", \"uid\": \"f0ff5964-313d-4f32-8028-4d19cc482ce4\"}], {\"autosize\": false, \"height\": 1000, \"width\": 1000, \"xaxis\": {\"tickfont\": {\"color\": \"black\", \"size\": 12}, \"title\": \"Feature Importances\"}, \"yaxis\": {\"automargin\": true}}, {\"showLink\": true, \"linkText\": \"Export to plot.ly\", \"plotlyServerURL\": \"https://plot.ly\"})});</script>"
      ],
      "text/vnd.plotly.v1+html": [
       "<div id=\"7bd61ef2-c031-467c-947d-2a0e34f3f683\" style=\"height: 1000px; width: 1000px;\" class=\"plotly-graph-div\"></div><script type=\"text/javascript\">require([\"plotly\"], function(Plotly) { window.PLOTLYENV=window.PLOTLYENV || {};window.PLOTLYENV.BASE_URL=\"https://plot.ly\";Plotly.newPlot(\"7bd61ef2-c031-467c-947d-2a0e34f3f683\", [{\"marker\": {\"color\": \"rgb(158,202,225)\", \"line\": {\"color\": \"rgb(8,48,107)\", \"width\": 1.5}}, \"opacity\": 0.6, \"orientation\": \"h\", \"text\": [0.08, 0.06, 0.06, 0.06, 0.06, 0.04, 0.04, 0.04, 0.04, 0.04, 0.04, 0.04, 0.04, 0.04, 0.02, 0.02, 0.02, 0.02, 0.02, 0.02, 0.02, 0.02, 0.02, 0.02, 0.02, 0.02, 0.02, 0.02, 0.02, 0.02, 0.0, 0.0, 0.0, 0.0, 0.0, 0.0, 0.0, 0.0, 0.0, 0.0, 0.0, 0.0, 0.0, 0.0, 0.0, 0.0, 0.0, 0.0, 0.0, 0.0, 0.0, 0.0, 0.0, 0.0, 0.0, 0.0], \"textposition\": \"outside\", \"x\": [0.08, 0.06, 0.06, 0.06, 0.06, 0.04, 0.04, 0.04, 0.04, 0.04, 0.04, 0.04, 0.04, 0.04, 0.02, 0.02, 0.02, 0.02, 0.02, 0.02, 0.02, 0.02, 0.02, 0.02, 0.02, 0.02, 0.02, 0.02, 0.02, 0.02, 0.0, 0.0, 0.0, 0.0, 0.0, 0.0, 0.0, 0.0, 0.0, 0.0, 0.0, 0.0, 0.0, 0.0, 0.0, 0.0, 0.0, 0.0, 0.0, 0.0, 0.0, 0.0, 0.0, 0.0, 0.0, 0.0], \"y\": [\"53\", \"28\", \"4\", \"44\", \"18\", \"13\", \"52\", \"46\", \"38\", \"37\", \"34\", \"32\", \"0\", \"2\", \"12\", \"1\", \"54\", \"3\", \"51\", \"50\", \"45\", \"8\", \"36\", \"14\", \"33\", \"31\", \"55\", \"15\", \"16\", \"21\", \"27\", \"42\", \"17\", \"11\", \"19\", \"49\", \"48\", \"47\", \"5\", \"20\", \"6\", \"43\", \"41\", \"26\", \"40\", \"39\", \"7\", \"22\", \"35\", \"23\", \"24\", \"10\", \"25\", \"30\", \"29\", \"9\"], \"type\": \"bar\", \"uid\": \"f0ff5964-313d-4f32-8028-4d19cc482ce4\"}], {\"autosize\": false, \"height\": 1000, \"width\": 1000, \"xaxis\": {\"tickfont\": {\"color\": \"black\", \"size\": 12}, \"title\": \"Feature Importances\"}, \"yaxis\": {\"automargin\": true}}, {\"showLink\": true, \"linkText\": \"Export to plot.ly\", \"plotlyServerURL\": \"https://plot.ly\"})});</script>"
      ]
     },
     "metadata": {},
     "output_type": "display_data"
    },
    {
     "name": "stdout",
     "output_type": "stream",
     "text": [
      "\n",
      "\n",
      "\u001b[1mGradientBoosting Classifier\u001b[0m\n",
      "Accuracy of the model for training data is: 0.899847344892\n",
      "Confusion Matrix for training data is:\n"
     ]
    },
    {
     "data": {
      "text/plain": [
       "Predicted  False  True  __all__\n",
       "Actual                         \n",
       "False      28894  2959    31853\n",
       "True         715  4116     4831\n",
       "__all__    29609  7075    36684"
      ]
     },
     "metadata": {},
     "output_type": "display_data"
    },
    {
     "name": "stdout",
     "output_type": "stream",
     "text": [
      "Accuracy of the model for test data is: 0.900457915395\n",
      "Confusion Matrix for test data is:\n"
     ]
    },
    {
     "data": {
      "text/plain": [
       "Predicted  False  True  __all__\n",
       "Actual                         \n",
       "False       7258   724     7982\n",
       "True         189  1001     1190\n",
       "__all__     7447  1725     9172"
      ]
     },
     "metadata": {},
     "output_type": "display_data"
    },
    {
     "data": {
      "application/vnd.plotly.v1+json": {
       "config": {
        "linkText": "Export to plot.ly",
        "plotlyServerURL": "https://plot.ly",
        "showLink": true
       },
       "data": [
        {
         "marker": {
          "color": "rgb(158,202,225)",
          "line": {
           "color": "rgb(8,48,107)",
           "width": 1.5
          }
         },
         "opacity": 0.6,
         "orientation": "h",
         "text": [
          0.5808,
          0.0723,
          0.0633,
          0.0539,
          0.0534,
          0.0315,
          0.0192,
          0.0161,
          0.0159,
          0.0144,
          0.0086,
          0.0073,
          0.0069,
          0.006,
          0.0051,
          0.0047,
          0.0044,
          0.0033,
          0.0033,
          0.0029,
          0.0027,
          0.0021,
          0.0018,
          0.0017,
          0.0016,
          0.0015,
          0.0014,
          0.0012,
          0.0012,
          0.001,
          0.001,
          0.0009,
          0.0009,
          0.0008,
          0.0008,
          0.0006,
          0.0005,
          0.0005,
          0.0005,
          0.0005,
          0.0004,
          0.0004,
          0.0004,
          0.0004,
          0.0004,
          0.0003,
          0.0002,
          0.0002,
          0.0002,
          0.0001,
          0.0001,
          0.0001,
          0.0001,
          0,
          0,
          0
         ],
         "textposition": "outside",
         "type": "bar",
         "uid": "b671e6e4-2a86-4f2a-9dd9-9693bd0f4e4f",
         "x": [
          0.5808227053905325,
          0.07231215212107521,
          0.06326832795787342,
          0.0538694375630305,
          0.05343439420464993,
          0.03146414778453497,
          0.019242040029328673,
          0.016080011350292328,
          0.015884396665347474,
          0.01443115672819364,
          0.008614651799244127,
          0.007334247895148659,
          0.006897245426719416,
          0.006046149525459012,
          0.005119637917396958,
          0.004707915575151466,
          0.0043514934759245035,
          0.0033066215310796183,
          0.0032553232925594034,
          0.002853236224563847,
          0.0026695246351344194,
          0.0021267330191574447,
          0.0018049820803189719,
          0.0016938075137860073,
          0.0015748790038805402,
          0.0014661593983866376,
          0.0014303603476546636,
          0.0012421313886507653,
          0.0012279094700306974,
          0.0010325641059441499,
          0.0009625808344107121,
          0.000926075882092486,
          0.0009178685122061203,
          0.0008189838303970993,
          0.0007726333611517329,
          0.000588580598141289,
          0.0005445886779131699,
          0.0005361371725077442,
          0.0005288139158562762,
          0.00046175540813387533,
          0.00044137543325413004,
          0.0004388089460203626,
          0.00043315736758440084,
          0.00040566065809167953,
          0.0003639399873721458,
          0.00026218978811978554,
          0.00024479305254577577,
          0.0001818700824625691,
          0.00015539566437410603,
          0.00014808595387209188,
          0.00012742459853186768,
          8.892296991361016e-05,
          6.99025641055969e-05,
          1.611131989140194e-05,
          0,
          0
         ],
         "y": [
          "0",
          "50",
          "30",
          "53",
          "54",
          "21",
          "1",
          "28",
          "37",
          "18",
          "39",
          "40",
          "45",
          "55",
          "29",
          "38",
          "9",
          "24",
          "41",
          "10",
          "16",
          "27",
          "48",
          "14",
          "8",
          "52",
          "26",
          "34",
          "33",
          "44",
          "7",
          "11",
          "15",
          "4",
          "5",
          "35",
          "23",
          "31",
          "36",
          "2",
          "3",
          "17",
          "43",
          "51",
          "19",
          "6",
          "32",
          "47",
          "49",
          "22",
          "42",
          "20",
          "13",
          "25",
          "46",
          "12"
         ]
        }
       ],
       "layout": {
        "autosize": false,
        "height": 1000,
        "width": 1000,
        "xaxis": {
         "tickfont": {
          "color": "black",
          "size": 12
         },
         "title": "Feature Importances"
        },
        "yaxis": {
         "automargin": true
        }
       }
      },
      "text/html": [
       "<div id=\"6f41b333-5718-4679-a612-b909275ce778\" style=\"height: 1000px; width: 1000px;\" class=\"plotly-graph-div\"></div><script type=\"text/javascript\">require([\"plotly\"], function(Plotly) { window.PLOTLYENV=window.PLOTLYENV || {};window.PLOTLYENV.BASE_URL=\"https://plot.ly\";Plotly.newPlot(\"6f41b333-5718-4679-a612-b909275ce778\", [{\"marker\": {\"color\": \"rgb(158,202,225)\", \"line\": {\"color\": \"rgb(8,48,107)\", \"width\": 1.5}}, \"opacity\": 0.6, \"orientation\": \"h\", \"text\": [0.5808, 0.0723, 0.0633, 0.0539, 0.0534, 0.0315, 0.0192, 0.0161, 0.0159, 0.0144, 0.0086, 0.0073, 0.0069, 0.006, 0.0051, 0.0047, 0.0044, 0.0033, 0.0033, 0.0029, 0.0027, 0.0021, 0.0018, 0.0017, 0.0016, 0.0015, 0.0014, 0.0012, 0.0012, 0.001, 0.001, 0.0009, 0.0009, 0.0008, 0.0008, 0.0006, 0.0005, 0.0005, 0.0005, 0.0005, 0.0004, 0.0004, 0.0004, 0.0004, 0.0004, 0.0003, 0.0002, 0.0002, 0.0002, 0.0001, 0.0001, 0.0001, 0.0001, 0.0, 0.0, 0.0], \"textposition\": \"outside\", \"x\": [0.5808227053905325, 0.07231215212107521, 0.06326832795787342, 0.0538694375630305, 0.05343439420464993, 0.03146414778453497, 0.019242040029328673, 0.016080011350292328, 0.015884396665347474, 0.01443115672819364, 0.008614651799244127, 0.007334247895148659, 0.006897245426719416, 0.006046149525459012, 0.005119637917396958, 0.004707915575151466, 0.0043514934759245035, 0.0033066215310796183, 0.0032553232925594034, 0.002853236224563847, 0.0026695246351344194, 0.0021267330191574447, 0.0018049820803189719, 0.0016938075137860073, 0.0015748790038805402, 0.0014661593983866376, 0.0014303603476546636, 0.0012421313886507653, 0.0012279094700306974, 0.0010325641059441499, 0.0009625808344107121, 0.000926075882092486, 0.0009178685122061203, 0.0008189838303970993, 0.0007726333611517329, 0.000588580598141289, 0.0005445886779131699, 0.0005361371725077442, 0.0005288139158562762, 0.00046175540813387533, 0.00044137543325413004, 0.0004388089460203626, 0.00043315736758440084, 0.00040566065809167953, 0.0003639399873721458, 0.00026218978811978554, 0.00024479305254577577, 0.0001818700824625691, 0.00015539566437410603, 0.00014808595387209188, 0.00012742459853186768, 8.892296991361016e-05, 6.99025641055969e-05, 1.611131989140194e-05, 0.0, 0.0], \"y\": [\"0\", \"50\", \"30\", \"53\", \"54\", \"21\", \"1\", \"28\", \"37\", \"18\", \"39\", \"40\", \"45\", \"55\", \"29\", \"38\", \"9\", \"24\", \"41\", \"10\", \"16\", \"27\", \"48\", \"14\", \"8\", \"52\", \"26\", \"34\", \"33\", \"44\", \"7\", \"11\", \"15\", \"4\", \"5\", \"35\", \"23\", \"31\", \"36\", \"2\", \"3\", \"17\", \"43\", \"51\", \"19\", \"6\", \"32\", \"47\", \"49\", \"22\", \"42\", \"20\", \"13\", \"25\", \"46\", \"12\"], \"type\": \"bar\", \"uid\": \"b671e6e4-2a86-4f2a-9dd9-9693bd0f4e4f\"}], {\"autosize\": false, \"height\": 1000, \"width\": 1000, \"xaxis\": {\"tickfont\": {\"color\": \"black\", \"size\": 12}, \"title\": \"Feature Importances\"}, \"yaxis\": {\"automargin\": true}}, {\"showLink\": true, \"linkText\": \"Export to plot.ly\", \"plotlyServerURL\": \"https://plot.ly\"})});</script>"
      ],
      "text/vnd.plotly.v1+html": [
       "<div id=\"6f41b333-5718-4679-a612-b909275ce778\" style=\"height: 1000px; width: 1000px;\" class=\"plotly-graph-div\"></div><script type=\"text/javascript\">require([\"plotly\"], function(Plotly) { window.PLOTLYENV=window.PLOTLYENV || {};window.PLOTLYENV.BASE_URL=\"https://plot.ly\";Plotly.newPlot(\"6f41b333-5718-4679-a612-b909275ce778\", [{\"marker\": {\"color\": \"rgb(158,202,225)\", \"line\": {\"color\": \"rgb(8,48,107)\", \"width\": 1.5}}, \"opacity\": 0.6, \"orientation\": \"h\", \"text\": [0.5808, 0.0723, 0.0633, 0.0539, 0.0534, 0.0315, 0.0192, 0.0161, 0.0159, 0.0144, 0.0086, 0.0073, 0.0069, 0.006, 0.0051, 0.0047, 0.0044, 0.0033, 0.0033, 0.0029, 0.0027, 0.0021, 0.0018, 0.0017, 0.0016, 0.0015, 0.0014, 0.0012, 0.0012, 0.001, 0.001, 0.0009, 0.0009, 0.0008, 0.0008, 0.0006, 0.0005, 0.0005, 0.0005, 0.0005, 0.0004, 0.0004, 0.0004, 0.0004, 0.0004, 0.0003, 0.0002, 0.0002, 0.0002, 0.0001, 0.0001, 0.0001, 0.0001, 0.0, 0.0, 0.0], \"textposition\": \"outside\", \"x\": [0.5808227053905325, 0.07231215212107521, 0.06326832795787342, 0.0538694375630305, 0.05343439420464993, 0.03146414778453497, 0.019242040029328673, 0.016080011350292328, 0.015884396665347474, 0.01443115672819364, 0.008614651799244127, 0.007334247895148659, 0.006897245426719416, 0.006046149525459012, 0.005119637917396958, 0.004707915575151466, 0.0043514934759245035, 0.0033066215310796183, 0.0032553232925594034, 0.002853236224563847, 0.0026695246351344194, 0.0021267330191574447, 0.0018049820803189719, 0.0016938075137860073, 0.0015748790038805402, 0.0014661593983866376, 0.0014303603476546636, 0.0012421313886507653, 0.0012279094700306974, 0.0010325641059441499, 0.0009625808344107121, 0.000926075882092486, 0.0009178685122061203, 0.0008189838303970993, 0.0007726333611517329, 0.000588580598141289, 0.0005445886779131699, 0.0005361371725077442, 0.0005288139158562762, 0.00046175540813387533, 0.00044137543325413004, 0.0004388089460203626, 0.00043315736758440084, 0.00040566065809167953, 0.0003639399873721458, 0.00026218978811978554, 0.00024479305254577577, 0.0001818700824625691, 0.00015539566437410603, 0.00014808595387209188, 0.00012742459853186768, 8.892296991361016e-05, 6.99025641055969e-05, 1.611131989140194e-05, 0.0, 0.0], \"y\": [\"0\", \"50\", \"30\", \"53\", \"54\", \"21\", \"1\", \"28\", \"37\", \"18\", \"39\", \"40\", \"45\", \"55\", \"29\", \"38\", \"9\", \"24\", \"41\", \"10\", \"16\", \"27\", \"48\", \"14\", \"8\", \"52\", \"26\", \"34\", \"33\", \"44\", \"7\", \"11\", \"15\", \"4\", \"5\", \"35\", \"23\", \"31\", \"36\", \"2\", \"3\", \"17\", \"43\", \"51\", \"19\", \"6\", \"32\", \"47\", \"49\", \"22\", \"42\", \"20\", \"13\", \"25\", \"46\", \"12\"], \"type\": \"bar\", \"uid\": \"b671e6e4-2a86-4f2a-9dd9-9693bd0f4e4f\"}], {\"autosize\": false, \"height\": 1000, \"width\": 1000, \"xaxis\": {\"tickfont\": {\"color\": \"black\", \"size\": 12}, \"title\": \"Feature Importances\"}, \"yaxis\": {\"automargin\": true}}, {\"showLink\": true, \"linkText\": \"Export to plot.ly\", \"plotlyServerURL\": \"https://plot.ly\"})});</script>"
      ]
     },
     "metadata": {},
     "output_type": "display_data"
    },
    {
     "name": "stdout",
     "output_type": "stream",
     "text": [
      "\n",
      "\n",
      "\u001b[1mExtraTree Classifier\u001b[0m\n",
      "Accuracy of the model for training data is: 0.908488714426\n",
      "Confusion Matrix for training data is:\n"
     ]
    },
    {
     "data": {
      "text/plain": [
       "Predicted  False  True  __all__\n",
       "Actual                         \n",
       "False      28912  2941    31853\n",
       "True         416  4415     4831\n",
       "__all__    29328  7356    36684"
      ]
     },
     "metadata": {},
     "output_type": "display_data"
    },
    {
     "name": "stdout",
     "output_type": "stream",
     "text": [
      "Accuracy of the model for test data is: 0.89947666812\n",
      "Confusion Matrix for test data is:\n"
     ]
    },
    {
     "data": {
      "text/plain": [
       "Predicted  False  True  __all__\n",
       "Actual                         \n",
       "False       7212   770     7982\n",
       "True         152  1038     1190\n",
       "__all__     7364  1808     9172"
      ]
     },
     "metadata": {},
     "output_type": "display_data"
    },
    {
     "data": {
      "application/vnd.plotly.v1+json": {
       "config": {
        "linkText": "Export to plot.ly",
        "plotlyServerURL": "https://plot.ly",
        "showLink": true
       },
       "data": [
        {
         "marker": {
          "color": "rgb(158,202,225)",
          "line": {
           "color": "rgb(8,48,107)",
           "width": 1.5
          }
         },
         "opacity": 0.6,
         "orientation": "h",
         "text": [
          0.099,
          0.084,
          0.0572,
          0.037,
          0.0353,
          0.0347,
          0.0345,
          0.0317,
          0.0276,
          0.026,
          0.0243,
          0.0232,
          0.022,
          0.0208,
          0.0205,
          0.0201,
          0.0194,
          0.019,
          0.0183,
          0.0179,
          0.0175,
          0.0152,
          0.0149,
          0.0141,
          0.014,
          0.0134,
          0.0134,
          0.0132,
          0.0124,
          0.0105,
          0.0104,
          0.0098,
          0.0096,
          0.0093,
          0.0089,
          0.0088,
          0.0087,
          0.0084,
          0.0082,
          0.0082,
          0.0082,
          0.0082,
          0.0078,
          0.0076,
          0.0076,
          0.0071,
          0.007,
          0.0065,
          0.0058,
          0.0056,
          0.0049,
          0.0049,
          0.0045,
          0.0044,
          0.0043,
          0.0041
         ],
         "textposition": "outside",
         "type": "bar",
         "uid": "461a7bb3-f98c-4888-861d-bf333e0a22dc",
         "x": [
          0.09897593316817428,
          0.08399406226828293,
          0.05717309386836439,
          0.037009900592606094,
          0.03528501278465971,
          0.034748755294138206,
          0.03449523216737429,
          0.03173116734744902,
          0.02764427278404661,
          0.025985291816437973,
          0.024305312776009367,
          0.02318136516565252,
          0.021986472195183977,
          0.02083236220526666,
          0.020496688485293353,
          0.020080140291509826,
          0.019352372489799007,
          0.018970488367481685,
          0.018287277434102762,
          0.017922610741622456,
          0.017543806436474862,
          0.015182745953546174,
          0.014860261486551452,
          0.014115184635085954,
          0.01395246690957419,
          0.013449507381516268,
          0.013389248268837825,
          0.013230530534166698,
          0.012396488145183012,
          0.01053103892358192,
          0.01041282767835195,
          0.009762889446808405,
          0.009610060976429132,
          0.009256450940580193,
          0.008948921014563061,
          0.008848222176081524,
          0.008723339857091486,
          0.008416247260277242,
          0.008207301020481114,
          0.008190594987527462,
          0.008186388137623301,
          0.008163897116948919,
          0.007847480782767523,
          0.007643256688927645,
          0.007567094710810551,
          0.007112488891341131,
          0.006961242846876943,
          0.006493687269719273,
          0.005815661337157653,
          0.0055501058406363215,
          0.004935445625057603,
          0.004889240387685614,
          0.004494842954027473,
          0.00439736274587725,
          0.0043230845119157256,
          0.004132773876462016
         ],
         "y": [
          "0",
          "9",
          "53",
          "19",
          "6",
          "25",
          "8",
          "29",
          "26",
          "21",
          "54",
          "7",
          "5",
          "24",
          "15",
          "49",
          "32",
          "12",
          "14",
          "40",
          "41",
          "28",
          "3",
          "10",
          "1",
          "34",
          "48",
          "36",
          "16",
          "33",
          "30",
          "4",
          "50",
          "23",
          "18",
          "44",
          "47",
          "22",
          "31",
          "51",
          "11",
          "20",
          "37",
          "27",
          "2",
          "42",
          "17",
          "43",
          "46",
          "39",
          "45",
          "35",
          "38",
          "52",
          "13",
          "55"
         ]
        }
       ],
       "layout": {
        "autosize": false,
        "height": 1000,
        "width": 1000,
        "xaxis": {
         "tickfont": {
          "color": "black",
          "size": 12
         },
         "title": "Feature Importances"
        },
        "yaxis": {
         "automargin": true
        }
       }
      },
      "text/html": [
       "<div id=\"05bd960d-8347-4ffd-8266-b95ef46e1485\" style=\"height: 1000px; width: 1000px;\" class=\"plotly-graph-div\"></div><script type=\"text/javascript\">require([\"plotly\"], function(Plotly) { window.PLOTLYENV=window.PLOTLYENV || {};window.PLOTLYENV.BASE_URL=\"https://plot.ly\";Plotly.newPlot(\"05bd960d-8347-4ffd-8266-b95ef46e1485\", [{\"marker\": {\"color\": \"rgb(158,202,225)\", \"line\": {\"color\": \"rgb(8,48,107)\", \"width\": 1.5}}, \"opacity\": 0.6, \"orientation\": \"h\", \"text\": [0.099, 0.084, 0.0572, 0.037, 0.0353, 0.0347, 0.0345, 0.0317, 0.0276, 0.026, 0.0243, 0.0232, 0.022, 0.0208, 0.0205, 0.0201, 0.0194, 0.019, 0.0183, 0.0179, 0.0175, 0.0152, 0.0149, 0.0141, 0.014, 0.0134, 0.0134, 0.0132, 0.0124, 0.0105, 0.0104, 0.0098, 0.0096, 0.0093, 0.0089, 0.0088, 0.0087, 0.0084, 0.0082, 0.0082, 0.0082, 0.0082, 0.0078, 0.0076, 0.0076, 0.0071, 0.007, 0.0065, 0.0058, 0.0056, 0.0049, 0.0049, 0.0045, 0.0044, 0.0043, 0.0041], \"textposition\": \"outside\", \"x\": [0.09897593316817428, 0.08399406226828293, 0.05717309386836439, 0.037009900592606094, 0.03528501278465971, 0.034748755294138206, 0.03449523216737429, 0.03173116734744902, 0.02764427278404661, 0.025985291816437973, 0.024305312776009367, 0.02318136516565252, 0.021986472195183977, 0.02083236220526666, 0.020496688485293353, 0.020080140291509826, 0.019352372489799007, 0.018970488367481685, 0.018287277434102762, 0.017922610741622456, 0.017543806436474862, 0.015182745953546174, 0.014860261486551452, 0.014115184635085954, 0.01395246690957419, 0.013449507381516268, 0.013389248268837825, 0.013230530534166698, 0.012396488145183012, 0.01053103892358192, 0.01041282767835195, 0.009762889446808405, 0.009610060976429132, 0.009256450940580193, 0.008948921014563061, 0.008848222176081524, 0.008723339857091486, 0.008416247260277242, 0.008207301020481114, 0.008190594987527462, 0.008186388137623301, 0.008163897116948919, 0.007847480782767523, 0.007643256688927645, 0.007567094710810551, 0.007112488891341131, 0.006961242846876943, 0.006493687269719273, 0.005815661337157653, 0.0055501058406363215, 0.004935445625057603, 0.004889240387685614, 0.004494842954027473, 0.00439736274587725, 0.0043230845119157256, 0.004132773876462016], \"y\": [\"0\", \"9\", \"53\", \"19\", \"6\", \"25\", \"8\", \"29\", \"26\", \"21\", \"54\", \"7\", \"5\", \"24\", \"15\", \"49\", \"32\", \"12\", \"14\", \"40\", \"41\", \"28\", \"3\", \"10\", \"1\", \"34\", \"48\", \"36\", \"16\", \"33\", \"30\", \"4\", \"50\", \"23\", \"18\", \"44\", \"47\", \"22\", \"31\", \"51\", \"11\", \"20\", \"37\", \"27\", \"2\", \"42\", \"17\", \"43\", \"46\", \"39\", \"45\", \"35\", \"38\", \"52\", \"13\", \"55\"], \"type\": \"bar\", \"uid\": \"461a7bb3-f98c-4888-861d-bf333e0a22dc\"}], {\"autosize\": false, \"height\": 1000, \"width\": 1000, \"xaxis\": {\"tickfont\": {\"color\": \"black\", \"size\": 12}, \"title\": \"Feature Importances\"}, \"yaxis\": {\"automargin\": true}}, {\"showLink\": true, \"linkText\": \"Export to plot.ly\", \"plotlyServerURL\": \"https://plot.ly\"})});</script>"
      ],
      "text/vnd.plotly.v1+html": [
       "<div id=\"05bd960d-8347-4ffd-8266-b95ef46e1485\" style=\"height: 1000px; width: 1000px;\" class=\"plotly-graph-div\"></div><script type=\"text/javascript\">require([\"plotly\"], function(Plotly) { window.PLOTLYENV=window.PLOTLYENV || {};window.PLOTLYENV.BASE_URL=\"https://plot.ly\";Plotly.newPlot(\"05bd960d-8347-4ffd-8266-b95ef46e1485\", [{\"marker\": {\"color\": \"rgb(158,202,225)\", \"line\": {\"color\": \"rgb(8,48,107)\", \"width\": 1.5}}, \"opacity\": 0.6, \"orientation\": \"h\", \"text\": [0.099, 0.084, 0.0572, 0.037, 0.0353, 0.0347, 0.0345, 0.0317, 0.0276, 0.026, 0.0243, 0.0232, 0.022, 0.0208, 0.0205, 0.0201, 0.0194, 0.019, 0.0183, 0.0179, 0.0175, 0.0152, 0.0149, 0.0141, 0.014, 0.0134, 0.0134, 0.0132, 0.0124, 0.0105, 0.0104, 0.0098, 0.0096, 0.0093, 0.0089, 0.0088, 0.0087, 0.0084, 0.0082, 0.0082, 0.0082, 0.0082, 0.0078, 0.0076, 0.0076, 0.0071, 0.007, 0.0065, 0.0058, 0.0056, 0.0049, 0.0049, 0.0045, 0.0044, 0.0043, 0.0041], \"textposition\": \"outside\", \"x\": [0.09897593316817428, 0.08399406226828293, 0.05717309386836439, 0.037009900592606094, 0.03528501278465971, 0.034748755294138206, 0.03449523216737429, 0.03173116734744902, 0.02764427278404661, 0.025985291816437973, 0.024305312776009367, 0.02318136516565252, 0.021986472195183977, 0.02083236220526666, 0.020496688485293353, 0.020080140291509826, 0.019352372489799007, 0.018970488367481685, 0.018287277434102762, 0.017922610741622456, 0.017543806436474862, 0.015182745953546174, 0.014860261486551452, 0.014115184635085954, 0.01395246690957419, 0.013449507381516268, 0.013389248268837825, 0.013230530534166698, 0.012396488145183012, 0.01053103892358192, 0.01041282767835195, 0.009762889446808405, 0.009610060976429132, 0.009256450940580193, 0.008948921014563061, 0.008848222176081524, 0.008723339857091486, 0.008416247260277242, 0.008207301020481114, 0.008190594987527462, 0.008186388137623301, 0.008163897116948919, 0.007847480782767523, 0.007643256688927645, 0.007567094710810551, 0.007112488891341131, 0.006961242846876943, 0.006493687269719273, 0.005815661337157653, 0.0055501058406363215, 0.004935445625057603, 0.004889240387685614, 0.004494842954027473, 0.00439736274587725, 0.0043230845119157256, 0.004132773876462016], \"y\": [\"0\", \"9\", \"53\", \"19\", \"6\", \"25\", \"8\", \"29\", \"26\", \"21\", \"54\", \"7\", \"5\", \"24\", \"15\", \"49\", \"32\", \"12\", \"14\", \"40\", \"41\", \"28\", \"3\", \"10\", \"1\", \"34\", \"48\", \"36\", \"16\", \"33\", \"30\", \"4\", \"50\", \"23\", \"18\", \"44\", \"47\", \"22\", \"31\", \"51\", \"11\", \"20\", \"37\", \"27\", \"2\", \"42\", \"17\", \"43\", \"46\", \"39\", \"45\", \"35\", \"38\", \"52\", \"13\", \"55\"], \"type\": \"bar\", \"uid\": \"461a7bb3-f98c-4888-861d-bf333e0a22dc\"}], {\"autosize\": false, \"height\": 1000, \"width\": 1000, \"xaxis\": {\"tickfont\": {\"color\": \"black\", \"size\": 12}, \"title\": \"Feature Importances\"}, \"yaxis\": {\"automargin\": true}}, {\"showLink\": true, \"linkText\": \"Export to plot.ly\", \"plotlyServerURL\": \"https://plot.ly\"})});</script>"
      ]
     },
     "metadata": {},
     "output_type": "display_data"
    },
    {
     "name": "stdout",
     "output_type": "stream",
     "text": [
      "\n",
      "\n",
      "\u001b[1mBagging Classifier\u001b[0m\n",
      "Accuracy of the model for training data is: 0.906744084615\n",
      "Confusion Matrix for training data is:\n"
     ]
    },
    {
     "data": {
      "text/plain": [
       "Predicted  False  True  __all__\n",
       "Actual                         \n",
       "False      28890  2963    31853\n",
       "True         458  4373     4831\n",
       "__all__    29348  7336    36684"
      ]
     },
     "metadata": {},
     "output_type": "display_data"
    },
    {
     "name": "stdout",
     "output_type": "stream",
     "text": [
      "Accuracy of the model for test data is: 0.900021805495\n",
      "Confusion Matrix for test data is:\n"
     ]
    },
    {
     "data": {
      "text/plain": [
       "Predicted  False  True  __all__\n",
       "Actual                         \n",
       "False       7216   766     7982\n",
       "True         151  1039     1190\n",
       "__all__     7367  1805     9172"
      ]
     },
     "metadata": {},
     "output_type": "display_data"
    },
    {
     "name": "stdout",
     "output_type": "stream",
     "text": [
      "\n",
      "\n",
      "\u001b[1mNeural Network-1\u001b[0m\n",
      "The accuracy of the model on training data is: 0.896167266383\n"
     ]
    },
    {
     "data": {
      "text/plain": [
       "Predicted  False  True  __all__\n",
       "Actual                         \n",
       "False      28716  3137    31853\n",
       "True         672  4159     4831\n",
       "__all__    29388  7296    36684"
      ]
     },
     "metadata": {},
     "output_type": "display_data"
    },
    {
     "name": "stdout",
     "output_type": "stream",
     "text": [
      "The accuracy of the model on test data is: 0.899040558221\n"
     ]
    },
    {
     "data": {
      "text/plain": [
       "Predicted  False  True  __all__\n",
       "Actual                         \n",
       "False       7226   756     7982\n",
       "True         170  1020     1190\n",
       "__all__     7396  1776     9172"
      ]
     },
     "metadata": {},
     "output_type": "display_data"
    },
    {
     "name": "stdout",
     "output_type": "stream",
     "text": [
      "\n",
      "\n"
     ]
    }
   ],
   "source": [
    "feat_imp=[None]*4\n",
    "j=0\n",
    "for i in range(0,8):\n",
    "    if i>=2 and i<=5:\n",
    "        model,cm_train,cm_test,acc_train,acc_test,roc_auc,feat_imp[j],mcc=f[i](X_train,Y_train,X_test,Y_test,np.arange(0,56).astype(str))\n",
    "        j=j+1\n",
    "    else:\n",
    "        model,cm_train,cm_test,acc_train,acc_test,roc_auc,mcc=f[i](X_train,Y_train,X_test,Y_test)\n",
    "    table_80_70_train.loc[i]=   ([acc_train,cm_train.TP,cm_train.TN,cm_train.FP,cm_train.FN,cm_train.FPR,cm_train.FNR])\n",
    "    table_80_70_test.loc[i] =   ([acc_test ,cm_test.TP, cm_test.TN, cm_test.FP, cm_test.FN, cm_test.FPR, cm_test.FNR,roc_auc,mcc])\n",
    "    print(\"\\n\")"
   ]
  },
  {
   "cell_type": "markdown",
   "metadata": {},
   "source": [
    "### <a id='5.A' style=\"text-decoration : none; color : #000000;\"> A. Results</a>"
   ]
  },
  {
   "cell_type": "code",
   "execution_count": 54,
   "metadata": {},
   "outputs": [
    {
     "data": {
      "application/vnd.plotly.v1+json": {
       "config": {
        "linkText": "Export to plot.ly",
        "plotlyServerURL": "https://plot.ly",
        "showLink": true
       },
       "data": [
        {
         "mode": "lines",
         "name": "KNN_model",
         "type": "scatter",
         "uid": "c68ef0df-f518-4a26-8fae-af4dfd362a73",
         "x": [
          "accuracy",
          "FPR",
          "FNR",
          "auc"
         ],
         "y": [
          0.8936982119494112,
          0.005888248559258331,
          0.7798319327731092,
          0.6071399093338163
         ]
        },
        {
         "mode": "lines+markers",
         "name": "Logistic Regression",
         "type": "scatter",
         "uid": "32e14999-bec9-4553-8737-e130b3e88c21",
         "x": [
          "accuracy",
          "FPR",
          "FNR",
          "auc"
         ],
         "y": [
          0.8855211513301352,
          0.0810573791029817,
          0.33865546218487397,
          0.7901435793560722
         ]
        },
        {
         "marker": {
          "symbol": "x"
         },
         "mode": "lines+markers",
         "name": "Random Forest",
         "type": "scatter",
         "uid": "c1dfb33e-859a-4321-8ec0-acedc85a3799",
         "x": [
          "accuracy",
          "FPR",
          "FNR",
          "auc"
         ],
         "y": [
          0.9014391626689926,
          0.09458782260085191,
          0.12521008403361344,
          0.8901010466827673
         ]
        },
        {
         "mode": "lines",
         "name": "Ada Boost",
         "type": "scatter",
         "uid": "fa71c84c-7a4c-4baf-8293-afdd26688482",
         "x": [
          "accuracy",
          "FPR",
          "FNR",
          "auc"
         ],
         "y": [
          0.8962058438726559,
          0.09158105737910298,
          0.18571428571428572,
          0.8613523284533057
         ]
        },
        {
         "mode": "lines+markers",
         "name": "GradientBoosting",
         "type": "scatter",
         "uid": "af70dbfc-631a-4d88-8c49-184ef6ceb7f3",
         "x": [
          "accuracy",
          "FPR",
          "FNR",
          "auc"
         ],
         "y": [
          0.9004579153946795,
          0.09070408418942622,
          0.1588235294117647,
          0.8752361931994046
         ]
        },
        {
         "marker": {
          "symbol": "x"
         },
         "mode": "lines+markers",
         "name": "ExtraTree Classifier",
         "type": "scatter",
         "uid": "86a1ae95-f742-47ab-bafe-4c2d96861964",
         "x": [
          "accuracy",
          "FPR",
          "FNR",
          "auc"
         ],
         "y": [
          0.8994766681203663,
          0.096467050864445,
          0.12773109243697478,
          0.8879009283492902
         ]
        },
        {
         "marker": {
          "symbol": "x"
         },
         "mode": "lines+markers",
         "name": "Bagging",
         "type": "scatter",
         "uid": "ad49490a-8948-4ffe-b7e6-f007e42e6c0f",
         "x": [
          "accuracy",
          "FPR",
          "FNR",
          "auc"
         ],
         "y": [
          0.9000218054949848,
          0.09596592332748685,
          0.126890756302521,
          0.8885716601849961
         ]
        },
        {
         "marker": {
          "symbol": "x"
         },
         "mode": "lines+markers",
         "name": "Neural Network",
         "type": "scatter",
         "uid": "bcbe5837-dda3-4ed2-872d-15acec1740e1",
         "x": [
          "accuracy",
          "FPR",
          "FNR",
          "auc"
         ],
         "y": [
          0.8990405582206716,
          0.09471310448509146,
          0.14285714285714285,
          0.8885716601849961
         ]
        }
       ],
       "layout": {
        "title": "Result comparision for Features selected in Section 1",
        "yaxis": {
         "dtick": 0.05,
         "tick0": 0
        }
       }
      },
      "text/html": [
       "<div id=\"8e479223-38b3-4de4-aaa8-c3380cdde57f\" style=\"height: 525px; width: 100%;\" class=\"plotly-graph-div\"></div><script type=\"text/javascript\">require([\"plotly\"], function(Plotly) { window.PLOTLYENV=window.PLOTLYENV || {};window.PLOTLYENV.BASE_URL=\"https://plot.ly\";Plotly.newPlot(\"8e479223-38b3-4de4-aaa8-c3380cdde57f\", [{\"mode\": \"lines\", \"name\": \"KNN_model\", \"x\": [\"accuracy\", \"FPR\", \"FNR\", \"auc\"], \"y\": [0.8936982119494112, 0.005888248559258331, 0.7798319327731092, 0.6071399093338163], \"type\": \"scatter\", \"uid\": \"c68ef0df-f518-4a26-8fae-af4dfd362a73\"}, {\"mode\": \"lines+markers\", \"name\": \"Logistic Regression\", \"x\": [\"accuracy\", \"FPR\", \"FNR\", \"auc\"], \"y\": [0.8855211513301352, 0.0810573791029817, 0.33865546218487397, 0.7901435793560722], \"type\": \"scatter\", \"uid\": \"32e14999-bec9-4553-8737-e130b3e88c21\"}, {\"marker\": {\"symbol\": \"x\"}, \"mode\": \"lines+markers\", \"name\": \"Random Forest\", \"x\": [\"accuracy\", \"FPR\", \"FNR\", \"auc\"], \"y\": [0.9014391626689926, 0.09458782260085191, 0.12521008403361344, 0.8901010466827673], \"type\": \"scatter\", \"uid\": \"c1dfb33e-859a-4321-8ec0-acedc85a3799\"}, {\"mode\": \"lines\", \"name\": \"Ada Boost\", \"x\": [\"accuracy\", \"FPR\", \"FNR\", \"auc\"], \"y\": [0.8962058438726559, 0.09158105737910298, 0.18571428571428572, 0.8613523284533057], \"type\": \"scatter\", \"uid\": \"fa71c84c-7a4c-4baf-8293-afdd26688482\"}, {\"mode\": \"lines+markers\", \"name\": \"GradientBoosting\", \"x\": [\"accuracy\", \"FPR\", \"FNR\", \"auc\"], \"y\": [0.9004579153946795, 0.09070408418942622, 0.1588235294117647, 0.8752361931994046], \"type\": \"scatter\", \"uid\": \"af70dbfc-631a-4d88-8c49-184ef6ceb7f3\"}, {\"marker\": {\"symbol\": \"x\"}, \"mode\": \"lines+markers\", \"name\": \"ExtraTree Classifier\", \"x\": [\"accuracy\", \"FPR\", \"FNR\", \"auc\"], \"y\": [0.8994766681203663, 0.096467050864445, 0.12773109243697478, 0.8879009283492902], \"type\": \"scatter\", \"uid\": \"86a1ae95-f742-47ab-bafe-4c2d96861964\"}, {\"marker\": {\"symbol\": \"x\"}, \"mode\": \"lines+markers\", \"name\": \"Bagging\", \"x\": [\"accuracy\", \"FPR\", \"FNR\", \"auc\"], \"y\": [0.9000218054949848, 0.09596592332748685, 0.126890756302521, 0.8885716601849961], \"type\": \"scatter\", \"uid\": \"ad49490a-8948-4ffe-b7e6-f007e42e6c0f\"}, {\"marker\": {\"symbol\": \"x\"}, \"mode\": \"lines+markers\", \"name\": \"Neural Network\", \"x\": [\"accuracy\", \"FPR\", \"FNR\", \"auc\"], \"y\": [0.8990405582206716, 0.09471310448509146, 0.14285714285714285, 0.8885716601849961], \"type\": \"scatter\", \"uid\": \"bcbe5837-dda3-4ed2-872d-15acec1740e1\"}], {\"title\": \"Result comparision for Features selected in Section 1\", \"yaxis\": {\"dtick\": 0.05, \"tick0\": 0}}, {\"showLink\": true, \"linkText\": \"Export to plot.ly\", \"plotlyServerURL\": \"https://plot.ly\"})});</script><script type=\"text/javascript\">window.addEventListener(\"resize\", function(){window._Plotly.Plots.resize(document.getElementById(\"8e479223-38b3-4de4-aaa8-c3380cdde57f\"));});</script>"
      ],
      "text/vnd.plotly.v1+html": [
       "<div id=\"8e479223-38b3-4de4-aaa8-c3380cdde57f\" style=\"height: 525px; width: 100%;\" class=\"plotly-graph-div\"></div><script type=\"text/javascript\">require([\"plotly\"], function(Plotly) { window.PLOTLYENV=window.PLOTLYENV || {};window.PLOTLYENV.BASE_URL=\"https://plot.ly\";Plotly.newPlot(\"8e479223-38b3-4de4-aaa8-c3380cdde57f\", [{\"mode\": \"lines\", \"name\": \"KNN_model\", \"x\": [\"accuracy\", \"FPR\", \"FNR\", \"auc\"], \"y\": [0.8936982119494112, 0.005888248559258331, 0.7798319327731092, 0.6071399093338163], \"type\": \"scatter\", \"uid\": \"c68ef0df-f518-4a26-8fae-af4dfd362a73\"}, {\"mode\": \"lines+markers\", \"name\": \"Logistic Regression\", \"x\": [\"accuracy\", \"FPR\", \"FNR\", \"auc\"], \"y\": [0.8855211513301352, 0.0810573791029817, 0.33865546218487397, 0.7901435793560722], \"type\": \"scatter\", \"uid\": \"32e14999-bec9-4553-8737-e130b3e88c21\"}, {\"marker\": {\"symbol\": \"x\"}, \"mode\": \"lines+markers\", \"name\": \"Random Forest\", \"x\": [\"accuracy\", \"FPR\", \"FNR\", \"auc\"], \"y\": [0.9014391626689926, 0.09458782260085191, 0.12521008403361344, 0.8901010466827673], \"type\": \"scatter\", \"uid\": \"c1dfb33e-859a-4321-8ec0-acedc85a3799\"}, {\"mode\": \"lines\", \"name\": \"Ada Boost\", \"x\": [\"accuracy\", \"FPR\", \"FNR\", \"auc\"], \"y\": [0.8962058438726559, 0.09158105737910298, 0.18571428571428572, 0.8613523284533057], \"type\": \"scatter\", \"uid\": \"fa71c84c-7a4c-4baf-8293-afdd26688482\"}, {\"mode\": \"lines+markers\", \"name\": \"GradientBoosting\", \"x\": [\"accuracy\", \"FPR\", \"FNR\", \"auc\"], \"y\": [0.9004579153946795, 0.09070408418942622, 0.1588235294117647, 0.8752361931994046], \"type\": \"scatter\", \"uid\": \"af70dbfc-631a-4d88-8c49-184ef6ceb7f3\"}, {\"marker\": {\"symbol\": \"x\"}, \"mode\": \"lines+markers\", \"name\": \"ExtraTree Classifier\", \"x\": [\"accuracy\", \"FPR\", \"FNR\", \"auc\"], \"y\": [0.8994766681203663, 0.096467050864445, 0.12773109243697478, 0.8879009283492902], \"type\": \"scatter\", \"uid\": \"86a1ae95-f742-47ab-bafe-4c2d96861964\"}, {\"marker\": {\"symbol\": \"x\"}, \"mode\": \"lines+markers\", \"name\": \"Bagging\", \"x\": [\"accuracy\", \"FPR\", \"FNR\", \"auc\"], \"y\": [0.9000218054949848, 0.09596592332748685, 0.126890756302521, 0.8885716601849961], \"type\": \"scatter\", \"uid\": \"ad49490a-8948-4ffe-b7e6-f007e42e6c0f\"}, {\"marker\": {\"symbol\": \"x\"}, \"mode\": \"lines+markers\", \"name\": \"Neural Network\", \"x\": [\"accuracy\", \"FPR\", \"FNR\", \"auc\"], \"y\": [0.8990405582206716, 0.09471310448509146, 0.14285714285714285, 0.8885716601849961], \"type\": \"scatter\", \"uid\": \"bcbe5837-dda3-4ed2-872d-15acec1740e1\"}], {\"title\": \"Result comparision for Features selected in Section 1\", \"yaxis\": {\"dtick\": 0.05, \"tick0\": 0}}, {\"showLink\": true, \"linkText\": \"Export to plot.ly\", \"plotlyServerURL\": \"https://plot.ly\"})});</script><script type=\"text/javascript\">window.addEventListener(\"resize\", function(){window._Plotly.Plots.resize(document.getElementById(\"8e479223-38b3-4de4-aaa8-c3380cdde57f\"));});</script>"
      ]
     },
     "metadata": {},
     "output_type": "display_data"
    }
   ],
   "source": [
    "trace0 = go.Scatter(x=table_80_70_test.iloc[0].index.values[[0,5,6,7]],\n",
    "                    y=table_80_70_test.iloc[0].values[[0,5,6,7]],\n",
    "                    mode = 'lines',\n",
    "                    name = 'KNN_model')\n",
    "\n",
    "trace1 = go.Scatter(x=table_80_70_test.iloc[1].index.values[[0,5,6,7]],\n",
    "                    y=table_80_70_test.iloc[1].values[[0,5,6,7]],\n",
    "                    mode = 'lines+markers',\n",
    "                    name = 'Logistic Regression')\n",
    "\n",
    "trace2 = go.Scatter(x=table_80_70_test.iloc[2].index.values[[0,5,6,7]],\n",
    "                    y=table_80_70_test.iloc[2].values[[0,5,6,7]],\n",
    "                    mode = 'lines+markers',marker=dict(symbol='x'),\n",
    "                    name = 'Random Forest')\n",
    "\n",
    "\n",
    "trace3 = go.Scatter(x=table_80_70_test.iloc[3].index.values[[0,5,6,7]],\n",
    "                    y=table_80_70_test.iloc[3].values[[0,5,6,7]],\n",
    "                    mode = 'lines',\n",
    "                    name = 'Ada Boost')\n",
    "\n",
    "trace4 = go.Scatter(x=table_80_70_test.iloc[4].index.values[[0,5,6,7]],\n",
    "                    y=table_80_70_test.iloc[4].values[[0,5,6,7]],\n",
    "                    mode = 'lines+markers',\n",
    "                    name = 'GradientBoosting')\n",
    "\n",
    "trace5 = go.Scatter(x=table_80_70_test.iloc[5].index.values[[0,5,6,7]],\n",
    "                    y=table_80_70_test.iloc[5].values[[0,5,6,7]],\n",
    "                    mode = 'lines+markers',marker=dict(symbol='x'),\n",
    "                    name = 'ExtraTree Classifier')\n",
    "\n",
    "trace6 = go.Scatter(x=table_80_70_test.iloc[6].index.values[[0,5,6,7]],\n",
    "                    y=table_80_70_test.iloc[6].values[[0,5,6,7]],\n",
    "                    mode = 'lines+markers',marker=dict(symbol='x'),\n",
    "                    name = 'Bagging')\n",
    "\n",
    "trace7 = go.Scatter(x=table_80_70_test.iloc[7].index.values[[0,5,6,7]],\n",
    "                    y=table_80_70_test.iloc[7].values[[0,5,6,7]],\n",
    "                    mode = 'lines+markers',marker=dict(symbol='x'),\n",
    "                    name = 'Neural Network')\n",
    "\n",
    "\n",
    "\n",
    "data = [trace0, trace1, trace2, trace3, trace4, trace5, trace6, trace7]\n",
    "layout = go.Layout(yaxis=dict(tick0=0,dtick=0.05),title='Result comparision for Features selected in Section 1')\n",
    "fig = go.Figure(data=data, layout=layout)\n",
    "\n",
    "iplot(fig, filename='Result')"
   ]
  },
  {
   "cell_type": "code",
   "execution_count": 55,
   "metadata": {},
   "outputs": [
    {
     "name": "stdout",
     "output_type": "stream",
     "text": [
      "Training Results\n"
     ]
    },
    {
     "data": {
      "text/html": [
       "<div>\n",
       "<style scoped>\n",
       "    .dataframe tbody tr th:only-of-type {\n",
       "        vertical-align: middle;\n",
       "    }\n",
       "\n",
       "    .dataframe tbody tr th {\n",
       "        vertical-align: top;\n",
       "    }\n",
       "\n",
       "    .dataframe thead th {\n",
       "        text-align: right;\n",
       "    }\n",
       "</style>\n",
       "<table border=\"1\" class=\"dataframe\">\n",
       "  <thead>\n",
       "    <tr style=\"text-align: right;\">\n",
       "      <th></th>\n",
       "      <th>accuracy</th>\n",
       "      <th>TP</th>\n",
       "      <th>TN</th>\n",
       "      <th>FP</th>\n",
       "      <th>FN</th>\n",
       "      <th>FPR</th>\n",
       "      <th>FNR</th>\n",
       "    </tr>\n",
       "    <tr>\n",
       "      <th>index</th>\n",
       "      <th></th>\n",
       "      <th></th>\n",
       "      <th></th>\n",
       "      <th></th>\n",
       "      <th></th>\n",
       "      <th></th>\n",
       "      <th></th>\n",
       "    </tr>\n",
       "  </thead>\n",
       "  <tbody>\n",
       "    <tr>\n",
       "      <th>KNeighborsClassifier</th>\n",
       "      <td>0.891070</td>\n",
       "      <td>1000.0</td>\n",
       "      <td>31688.0</td>\n",
       "      <td>165.0</td>\n",
       "      <td>3831.0</td>\n",
       "      <td>0.005180</td>\n",
       "      <td>0.793004</td>\n",
       "    </tr>\n",
       "    <tr>\n",
       "      <th>LogisticRegression</th>\n",
       "      <td>0.886926</td>\n",
       "      <td>3242.0</td>\n",
       "      <td>29294.0</td>\n",
       "      <td>2559.0</td>\n",
       "      <td>1589.0</td>\n",
       "      <td>0.080338</td>\n",
       "      <td>0.328917</td>\n",
       "    </tr>\n",
       "    <tr>\n",
       "      <th>RandomForestClassifier</th>\n",
       "      <td>0.907126</td>\n",
       "      <td>4393.0</td>\n",
       "      <td>28884.0</td>\n",
       "      <td>2969.0</td>\n",
       "      <td>438.0</td>\n",
       "      <td>0.093209</td>\n",
       "      <td>0.090664</td>\n",
       "    </tr>\n",
       "    <tr>\n",
       "      <th>AdaBoostClassifier</th>\n",
       "      <td>0.893687</td>\n",
       "      <td>3973.0</td>\n",
       "      <td>28811.0</td>\n",
       "      <td>3042.0</td>\n",
       "      <td>858.0</td>\n",
       "      <td>0.095501</td>\n",
       "      <td>0.177603</td>\n",
       "    </tr>\n",
       "    <tr>\n",
       "      <th>GradientBoostingClassifier</th>\n",
       "      <td>0.899847</td>\n",
       "      <td>4116.0</td>\n",
       "      <td>28894.0</td>\n",
       "      <td>2959.0</td>\n",
       "      <td>715.0</td>\n",
       "      <td>0.092895</td>\n",
       "      <td>0.148002</td>\n",
       "    </tr>\n",
       "    <tr>\n",
       "      <th>ExtraTreeClassifier</th>\n",
       "      <td>0.908489</td>\n",
       "      <td>4415.0</td>\n",
       "      <td>28912.0</td>\n",
       "      <td>2941.0</td>\n",
       "      <td>416.0</td>\n",
       "      <td>0.092330</td>\n",
       "      <td>0.086111</td>\n",
       "    </tr>\n",
       "    <tr>\n",
       "      <th>BaggingClassifier</th>\n",
       "      <td>0.906744</td>\n",
       "      <td>4373.0</td>\n",
       "      <td>28890.0</td>\n",
       "      <td>2963.0</td>\n",
       "      <td>458.0</td>\n",
       "      <td>0.093021</td>\n",
       "      <td>0.094804</td>\n",
       "    </tr>\n",
       "    <tr>\n",
       "      <th>Neural Network-1</th>\n",
       "      <td>0.896167</td>\n",
       "      <td>4159.0</td>\n",
       "      <td>28716.0</td>\n",
       "      <td>3137.0</td>\n",
       "      <td>672.0</td>\n",
       "      <td>0.098484</td>\n",
       "      <td>0.139102</td>\n",
       "    </tr>\n",
       "  </tbody>\n",
       "</table>\n",
       "</div>"
      ],
      "text/plain": [
       "                            accuracy      TP       TN      FP      FN  \\\n",
       "index                                                                   \n",
       "KNeighborsClassifier        0.891070  1000.0  31688.0   165.0  3831.0   \n",
       "LogisticRegression          0.886926  3242.0  29294.0  2559.0  1589.0   \n",
       "RandomForestClassifier      0.907126  4393.0  28884.0  2969.0   438.0   \n",
       "AdaBoostClassifier          0.893687  3973.0  28811.0  3042.0   858.0   \n",
       "GradientBoostingClassifier  0.899847  4116.0  28894.0  2959.0   715.0   \n",
       "ExtraTreeClassifier         0.908489  4415.0  28912.0  2941.0   416.0   \n",
       "BaggingClassifier           0.906744  4373.0  28890.0  2963.0   458.0   \n",
       "Neural Network-1            0.896167  4159.0  28716.0  3137.0   672.0   \n",
       "\n",
       "                                 FPR       FNR  \n",
       "index                                           \n",
       "KNeighborsClassifier        0.005180  0.793004  \n",
       "LogisticRegression          0.080338  0.328917  \n",
       "RandomForestClassifier      0.093209  0.090664  \n",
       "AdaBoostClassifier          0.095501  0.177603  \n",
       "GradientBoostingClassifier  0.092895  0.148002  \n",
       "ExtraTreeClassifier         0.092330  0.086111  \n",
       "BaggingClassifier           0.093021  0.094804  \n",
       "Neural Network-1            0.098484  0.139102  "
      ]
     },
     "metadata": {},
     "output_type": "display_data"
    },
    {
     "name": "stdout",
     "output_type": "stream",
     "text": [
      "Test Results\n"
     ]
    },
    {
     "data": {
      "text/html": [
       "<div>\n",
       "<style scoped>\n",
       "    .dataframe tbody tr th:only-of-type {\n",
       "        vertical-align: middle;\n",
       "    }\n",
       "\n",
       "    .dataframe tbody tr th {\n",
       "        vertical-align: top;\n",
       "    }\n",
       "\n",
       "    .dataframe thead th {\n",
       "        text-align: right;\n",
       "    }\n",
       "</style>\n",
       "<table border=\"1\" class=\"dataframe\">\n",
       "  <thead>\n",
       "    <tr style=\"text-align: right;\">\n",
       "      <th></th>\n",
       "      <th>accuracy</th>\n",
       "      <th>TP</th>\n",
       "      <th>TN</th>\n",
       "      <th>FP</th>\n",
       "      <th>FN</th>\n",
       "      <th>FPR</th>\n",
       "      <th>FNR</th>\n",
       "      <th>auc</th>\n",
       "      <th>mcc</th>\n",
       "    </tr>\n",
       "    <tr>\n",
       "      <th>index</th>\n",
       "      <th></th>\n",
       "      <th></th>\n",
       "      <th></th>\n",
       "      <th></th>\n",
       "      <th></th>\n",
       "      <th></th>\n",
       "      <th></th>\n",
       "      <th></th>\n",
       "      <th></th>\n",
       "    </tr>\n",
       "  </thead>\n",
       "  <tbody>\n",
       "    <tr>\n",
       "      <th>KNeighborsClassifier</th>\n",
       "      <td>0.893698</td>\n",
       "      <td>262.0</td>\n",
       "      <td>7935.0</td>\n",
       "      <td>47.0</td>\n",
       "      <td>928.0</td>\n",
       "      <td>0.005888</td>\n",
       "      <td>0.779832</td>\n",
       "      <td>0.607140</td>\n",
       "      <td>0.399063</td>\n",
       "    </tr>\n",
       "    <tr>\n",
       "      <th>LogisticRegression</th>\n",
       "      <td>0.885521</td>\n",
       "      <td>787.0</td>\n",
       "      <td>7335.0</td>\n",
       "      <td>647.0</td>\n",
       "      <td>403.0</td>\n",
       "      <td>0.081057</td>\n",
       "      <td>0.338655</td>\n",
       "      <td>0.790144</td>\n",
       "      <td>0.536888</td>\n",
       "    </tr>\n",
       "    <tr>\n",
       "      <th>RandomForestClassifier</th>\n",
       "      <td>0.901439</td>\n",
       "      <td>1041.0</td>\n",
       "      <td>7227.0</td>\n",
       "      <td>755.0</td>\n",
       "      <td>149.0</td>\n",
       "      <td>0.094588</td>\n",
       "      <td>0.125210</td>\n",
       "      <td>0.890101</td>\n",
       "      <td>0.660652</td>\n",
       "    </tr>\n",
       "    <tr>\n",
       "      <th>AdaBoostClassifier</th>\n",
       "      <td>0.896206</td>\n",
       "      <td>969.0</td>\n",
       "      <td>7251.0</td>\n",
       "      <td>731.0</td>\n",
       "      <td>221.0</td>\n",
       "      <td>0.091581</td>\n",
       "      <td>0.185714</td>\n",
       "      <td>0.861352</td>\n",
       "      <td>0.624953</td>\n",
       "    </tr>\n",
       "    <tr>\n",
       "      <th>GradientBoostingClassifier</th>\n",
       "      <td>0.900458</td>\n",
       "      <td>1001.0</td>\n",
       "      <td>7258.0</td>\n",
       "      <td>724.0</td>\n",
       "      <td>189.0</td>\n",
       "      <td>0.090704</td>\n",
       "      <td>0.158824</td>\n",
       "      <td>0.875236</td>\n",
       "      <td>0.645326</td>\n",
       "    </tr>\n",
       "    <tr>\n",
       "      <th>ExtraTreeClassifier</th>\n",
       "      <td>0.899477</td>\n",
       "      <td>1038.0</td>\n",
       "      <td>7212.0</td>\n",
       "      <td>770.0</td>\n",
       "      <td>152.0</td>\n",
       "      <td>0.096467</td>\n",
       "      <td>0.127731</td>\n",
       "      <td>0.887901</td>\n",
       "      <td>0.655276</td>\n",
       "    </tr>\n",
       "    <tr>\n",
       "      <th>BaggingClassifier</th>\n",
       "      <td>0.900022</td>\n",
       "      <td>1039.0</td>\n",
       "      <td>7216.0</td>\n",
       "      <td>766.0</td>\n",
       "      <td>151.0</td>\n",
       "      <td>0.095966</td>\n",
       "      <td>0.126891</td>\n",
       "      <td>0.888572</td>\n",
       "      <td>0.656820</td>\n",
       "    </tr>\n",
       "    <tr>\n",
       "      <th>Neural Network-1</th>\n",
       "      <td>0.899041</td>\n",
       "      <td>1020.0</td>\n",
       "      <td>7226.0</td>\n",
       "      <td>756.0</td>\n",
       "      <td>170.0</td>\n",
       "      <td>0.094713</td>\n",
       "      <td>0.142857</td>\n",
       "      <td>0.888572</td>\n",
       "      <td>0.648350</td>\n",
       "    </tr>\n",
       "  </tbody>\n",
       "</table>\n",
       "</div>"
      ],
      "text/plain": [
       "                            accuracy      TP      TN     FP     FN       FPR  \\\n",
       "index                                                                          \n",
       "KNeighborsClassifier        0.893698   262.0  7935.0   47.0  928.0  0.005888   \n",
       "LogisticRegression          0.885521   787.0  7335.0  647.0  403.0  0.081057   \n",
       "RandomForestClassifier      0.901439  1041.0  7227.0  755.0  149.0  0.094588   \n",
       "AdaBoostClassifier          0.896206   969.0  7251.0  731.0  221.0  0.091581   \n",
       "GradientBoostingClassifier  0.900458  1001.0  7258.0  724.0  189.0  0.090704   \n",
       "ExtraTreeClassifier         0.899477  1038.0  7212.0  770.0  152.0  0.096467   \n",
       "BaggingClassifier           0.900022  1039.0  7216.0  766.0  151.0  0.095966   \n",
       "Neural Network-1            0.899041  1020.0  7226.0  756.0  170.0  0.094713   \n",
       "\n",
       "                                 FNR       auc       mcc  \n",
       "index                                                     \n",
       "KNeighborsClassifier        0.779832  0.607140  0.399063  \n",
       "LogisticRegression          0.338655  0.790144  0.536888  \n",
       "RandomForestClassifier      0.125210  0.890101  0.660652  \n",
       "AdaBoostClassifier          0.185714  0.861352  0.624953  \n",
       "GradientBoostingClassifier  0.158824  0.875236  0.645326  \n",
       "ExtraTreeClassifier         0.127731  0.887901  0.655276  \n",
       "BaggingClassifier           0.126891  0.888572  0.656820  \n",
       "Neural Network-1            0.142857  0.888572  0.648350  "
      ]
     },
     "metadata": {},
     "output_type": "display_data"
    }
   ],
   "source": [
    "table_80_70_train['index']=ind_columns\n",
    "table_80_70_test['index']=ind_columns\n",
    "\n",
    "\n",
    "table_80_70_test.set_index(['index'],drop=True,inplace=True)\n",
    "table_80_70_train.set_index(['index'],drop=True,inplace=True)\n",
    "\n",
    "print(\"Training Results\")\n",
    "display(table_80_70_train)\n",
    "print(\"Test Results\")\n",
    "display(table_80_70_test)"
   ]
  },
  {
   "cell_type": "code",
   "execution_count": 56,
   "metadata": {},
   "outputs": [
    {
     "data": {
      "text/html": [
       "<script>\n",
       "code_show=true; \n",
       "function code_toggle() {\n",
       " if (code_show){\n",
       " $('div.input').hide();\n",
       " } else {\n",
       " $('div.input').show();\n",
       " }\n",
       " code_show = !code_show\n",
       "} \n",
       "$( document ).ready(code_toggle);\n",
       "</script>\n",
       "To toggle code, click <a href=\"javascript:code_toggle()\">here</a>."
      ],
      "text/plain": [
       "<IPython.core.display.HTML object>"
      ]
     },
     "execution_count": 56,
     "metadata": {},
     "output_type": "execute_result"
    }
   ],
   "source": [
    "### Original Creator : Darshan Bhansali\n",
    "### HTML code to hide the input cells \n",
    "HTML('''<script>\n",
    "code_show=true; \n",
    "function code_toggle() {\n",
    " if (code_show){\n",
    " $('div.input').hide();\n",
    " } else {\n",
    " $('div.input').show();\n",
    " }\n",
    " code_show = !code_show\n",
    "} \n",
    "$( document ).ready(code_toggle);\n",
    "</script>\n",
    "To toggle code, click <a href=\"javascript:code_toggle()\">here</a>.''')"
   ]
  }
 ],
 "metadata": {
  "kernelspec": {
   "display_name": "Python 3",
   "language": "python",
   "name": "python3"
  },
  "language_info": {
   "codemirror_mode": {
    "name": "ipython",
    "version": 3
   },
   "file_extension": ".py",
   "mimetype": "text/x-python",
   "name": "python",
   "nbconvert_exporter": "python",
   "pygments_lexer": "ipython3",
   "version": "3.6.7"
  }
 },
 "nbformat": 4,
 "nbformat_minor": 2
}
