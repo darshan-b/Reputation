{
 "cells": [
  {
   "cell_type": "markdown",
   "metadata": {},
   "source": [
    "***\n",
    "## Table of Contents\n",
    "<br>\n",
    "  <br>\n",
    "    <ol>\n",
    "        <h2><a href='#1' style=\"text-decoration : none; color : #000000;\">1. Initial Models</a></h2>\n",
    "        <ul>\n",
    "            <a href='#1.A' style=\"text-decoration : none; color : #000000;\"><h3>A. Results </h3></a>\n",
    "        </ul>\n",
    "        <ul>\n",
    "            <a href='#1.B' style=\"text-decoration : none; color : #000000;\"><h3>B. Average Feature Importance   </h3></a>\n",
    "        </ul>\n",
    "     </ol>\n",
    "     <br> \n",
    "\n",
    "<ol>\n",
    "        <h2><a href='#2' style=\"text-decoration : none; color : #000000;\">2. Oversampling </a></h2>\n",
    "        <ul>\n",
    "            <a href='#2.A' style=\"text-decoration : none; color : #000000;\"><h3>A. Results </h3></a>\n",
    "        </ul>\n",
    "        <ul>\n",
    "            <a href='#2.B' style=\"text-decoration : none; color : #000000;\"><h3>B. Average Feature Importance   </h3></a>\n",
    "        </ul>\n",
    "     </ol>\n",
    "     <br>\n",
    "     \n",
    " <ol>\n",
    "        <h2><a href='#3' style=\"text-decoration : none; color : #000000;\">3. Undersampling</a></h2>\n",
    "        <ul>\n",
    "            <a href='#3.A' style=\"text-decoration : none; color : #000000;\"><h3>A. Results </h3></a>\n",
    "        </ul>\n",
    "        <ul>\n",
    "            <a href='#3.B' style=\"text-decoration : none; color : #000000;\"><h3>B. Average Feature Importance   </h3></a>\n",
    "        </ul>\n",
    "     </ol>\n",
    "     <br>\n",
    "     \n",
    " <ol>\n",
    "        <h2><a href='#4' style=\"text-decoration : none; color : #000000;\">4.Feature Transformation with feature selection</a></h2>\n",
    "        <ul>\n",
    "            <a href='#4.A' style=\"text-decoration : none; color : #000000;\"><h3>A. Results </h3></a>\n",
    "        </ul>\n",
    "        <ul>\n",
    "            <a href='#4.B' style=\"text-decoration : none; color : #000000;\"><h3>B. Average Feature Importance   </h3></a>\n",
    "        </ul>\n",
    "     </ol>\n",
    "     <br>\n",
    "     \n",
    "     \n",
    " <ol>\n",
    "        <h2><a href='#5' style=\"text-decoration : none; color : #000000;\">5.Feature Transformation with PCA</a></h2>\n",
    "        <ul>\n",
    "            <a href='#5.A' style=\"text-decoration : none; color : #000000;\"><h3>A. Results </h3></a>\n",
    "        </ul>\n",
    "        <ul>\n",
    "            <a href='#5.B' style=\"text-decoration : none; color : #000000;\"><h3>B. Average Feature Importance   </h3></a>\n",
    "        </ul>\n",
    "     </ol>\n",
    "     <br>"
   ]
  },
  {
   "cell_type": "code",
   "execution_count": 1,
   "metadata": {},
   "outputs": [
    {
     "name": "stderr",
     "output_type": "stream",
     "text": [
      "Using TensorFlow backend.\n"
     ]
    },
    {
     "data": {
      "text/html": [
       "<script type=\"text/javascript\">window.PlotlyConfig = {MathJaxConfig: 'local'};</script><script type=\"text/javascript\">if (window.MathJax) {MathJax.Hub.Config({SVG: {font: \"STIX-Web\"}});}</script><script>requirejs.config({paths: { 'plotly': ['https://cdn.plot.ly/plotly-latest.min']},});if(!window._Plotly) {require(['plotly'],function(plotly) {window._Plotly=plotly;});}</script>"
      ],
      "text/vnd.plotly.v1+html": [
       "<script type=\"text/javascript\">window.PlotlyConfig = {MathJaxConfig: 'local'};</script><script type=\"text/javascript\">if (window.MathJax) {MathJax.Hub.Config({SVG: {font: \"STIX-Web\"}});}</script><script>requirejs.config({paths: { 'plotly': ['https://cdn.plot.ly/plotly-latest.min']},});if(!window._Plotly) {require(['plotly'],function(plotly) {window._Plotly=plotly;});}</script>"
      ]
     },
     "metadata": {},
     "output_type": "display_data"
    }
   ],
   "source": [
    "import pandas as pd\n",
    "import numpy as np\n",
    "import os\n",
    "import matplotlib.pyplot as plt\n",
    "import seaborn as sns\n",
    "%matplotlib inline\n",
    "\n",
    "from IPython.display import display,clear_output,HTML\n",
    "import warnings\n",
    "warnings.filterwarnings(\"ignore\")\n",
    "\n",
    "import keras\n",
    "from keras.layers import Dense,Dropout\n",
    "from keras.models import Sequential\n",
    "warnings.simplefilter(\"ignore\", DeprecationWarning)\n",
    "import researchpy as rp\n",
    "\n",
    "%matplotlib inline\n",
    "pd.set_option('display.max_columns', 500)\n",
    "pd.set_option('display.max_rows',305)\n",
    "\n",
    "from sklearn.feature_selection import SelectKBest,chi2,RFE,RFECV,f_regression,SelectFromModel\n",
    "from sklearn.linear_model import LogisticRegression\n",
    "from sklearn.ensemble import ExtraTreesClassifier,RandomForestClassifier,GradientBoostingClassifier,AdaBoostClassifier,BaggingClassifier\n",
    "from sklearn.neighbors import KNeighborsClassifier\n",
    "from sklearn.model_selection import train_test_split,cross_val_score\n",
    "\n",
    "from sklearn.preprocessing import StandardScaler,MinMaxScaler\n",
    "from sklearn import metrics\n",
    "\n",
    "\n",
    "\n",
    "from sklearn.decomposition import PCA\n",
    "from sklearn.metrics import accuracy_score,auc,roc_curve,recall_score,precision_score,matthews_corrcoef\n",
    "\n",
    "from pandas_ml import ConfusionMatrix\n",
    "\n",
    "\n",
    "from imblearn.over_sampling import SMOTE\n",
    "\n",
    "from plotly.offline import download_plotlyjs, init_notebook_mode, plot, iplot\n",
    "init_notebook_mode(connected=True)\n",
    "import plotly.graph_objs as go\n",
    "\n",
    "import featuretools as ft\n",
    "\n",
    "from scipy import stats"
   ]
  },
  {
   "cell_type": "code",
   "execution_count": 2,
   "metadata": {
    "collapsed": true
   },
   "outputs": [],
   "source": [
    "### Function to plot Feature Importance\n",
    "def feat_impt_plot(feat_impt,y_labels,width_s=1000,height_s=1000):\n",
    "    \n",
    "    m=pd.DataFrame(y_labels,feat_impt).reset_index()\n",
    "    m.columns=['Feature_Importance','Features']\n",
    "    m.sort_values(by='Feature_Importance',inplace=True,ascending=False)\n",
    "#     m['Features']=m['Features'].str.replace(\"dom_function_\",\"\")\n",
    "#     m['Features']=m['Features'].str.replace(\"js_function_\",\"\")\n",
    "#     m['Features']=m['Features'].apply(lambda x: str(x).lstrip('.'))\n",
    "#     m['Features']=m['Features'].str.replace(\"(\",\"\")\n",
    "    \n",
    "    data = [go.Bar(x=m.Feature_Importance.values,y=m.Features.values,text=np.round(m.Feature_Importance,4),\n",
    "            textposition = 'outside',\n",
    "            marker=dict(\n",
    "                color='rgb(158,202,225)',\n",
    "                line=dict(\n",
    "                    color='rgb(8,48,107)',\n",
    "                    width=1.5),\n",
    "            ),\n",
    "            opacity=0.6,\n",
    "            orientation='h'\n",
    "        )]\n",
    "    layout = go.Layout(autosize=False,\n",
    "    width=width_s,\n",
    "    height=height_s,\n",
    "    xaxis=dict(title='Feature Importances',\n",
    "        tickfont=dict(\n",
    "            size=12,\n",
    "            color='black'\n",
    "        )),\n",
    "    yaxis=dict(automargin=True))\n",
    "    fig = go.Figure(data=data, layout=layout)\n",
    "    iplot(fig)\n",
    "\n",
    "    \n",
    "def check_cat(data):\n",
    "    cat_var=[]\n",
    "    num_var=[]\n",
    "    for col in data.columns:\n",
    "        if col!='Target':\n",
    "            if len(data[col].value_counts())==2:\n",
    "                cat_var.append(col)\n",
    "            else:\n",
    "                num_var.append(col)\n",
    "    return cat_var,num_var\n",
    "\n",
    "\n",
    "def num_stats(data,columns):\n",
    "    lst=[]\n",
    "    for col in columns:\n",
    "        corr=stats.pointbiserialr(data[col],data.Target)[0]\n",
    "        corr_p=stats.pointbiserialr(data[col],data.Target)[1]\n",
    "        ttest=stats.ttest_ind(data[data.Target==1][col], data[data.Target==0][col], equal_var=False)[0]\n",
    "        ttest_p=stats.ttest_ind(data[data.Target==1][col], data[data.Target==0][col], equal_var=False)[1]\n",
    "        lst.append((corr,corr_p,ttest,ttest_p,col))\n",
    "    stats_data=pd.DataFrame(lst,columns=['Pt. Biserial Corr','Pt. Biserial Corr p-val','ttest','ttest p-val','Feature'])\n",
    "    stats_data.set_index('Feature',drop=True,inplace=True)\n",
    "    stats_data.sort_values(by='ttest',inplace=True)\n",
    "    del lst\n",
    "    return stats_data\n",
    "\n",
    "\n",
    "### Generate statistics for categorical data\n",
    "def cat_stats(data,columns):\n",
    "    lst=[]\n",
    "    for col in columns:\n",
    "        if col!='Target':\n",
    "            table, results = rp.crosstab(data['Target'], data[col], prop= 'col', test= 'chi-square')\n",
    "            x=results['results'].values.tolist()\n",
    "            x.append(col)\n",
    "            lst.append(x)\n",
    "    chi_df=pd.DataFrame(lst,columns=['Pearson Chi-square','p-value','Cramers V','Feature'])\n",
    "    chi_df.set_index('Feature',drop=True,inplace=True)\n",
    "    chi_df.sort_values(by='Cramers V',ascending=False,inplace=True)\n",
    "    del lst\n",
    "    return chi_df"
   ]
  },
  {
   "cell_type": "code",
   "execution_count": 3,
   "metadata": {
    "collapsed": true
   },
   "outputs": [],
   "source": [
    "def model_build(model,X_train,Y_train,X_test,Y_test,tree=False,feat=None):\n",
    "    \n",
    "    y_pred_train=model.predict(X_train)\n",
    "    acc_train=accuracy_score(Y_train,y_pred_train)\n",
    "    \n",
    "    print(\"Accuracy of the model for training data is:\",acc_train)\n",
    "    print(\"Confusion Matrix for training data is:\")\n",
    "    cm_train=ConfusionMatrix(Y_train,y_pred_train)\n",
    "    display(cm_train)\n",
    "    \n",
    "    \n",
    "    y_pred_test=model.predict(X_test)\n",
    "    acc_test=accuracy_score(Y_test,y_pred_test)\n",
    "    print(\"Accuracy of the model for test data is:\",acc_test)\n",
    "    print(\"Confusion Matrix for test data is:\")\n",
    "    cm_test=ConfusionMatrix(Y_test,y_pred_test)\n",
    "    display(cm_test)\n",
    "\n",
    "    fpr, tpr, threshold = roc_curve(Y_test, y_pred_test)\n",
    "    roc_auc =auc(fpr, tpr)\n",
    "    mcc=matthews_corrcoef(Y_test,y_pred_test)\n",
    "    if tree==True:\n",
    "        feat_impt_plot(model.feature_importances_,feat)\n",
    "        return model,cm_train,cm_test,acc_train,acc_test,roc_auc,model.feature_importances_,mcc\n",
    "    \n",
    "    return model,cm_train,cm_test,acc_train,acc_test,roc_auc,mcc\n",
    "\n",
    "def KNN_model(X_train,Y_train,X_test,Y_test):\n",
    "    print('\\033[1m' + 'K-Nearest Neighbors' + '\\033[0m')\n",
    "    knn=KNeighborsClassifier()\n",
    "    knn.fit(X_train,Y_train)\n",
    "\n",
    "    return model_build(knn,X_train,Y_train,X_test,Y_test)\n",
    "\n",
    "def Logistic_model(X_train,Y_train,X_test,Y_test):\n",
    "    print('\\033[1m' + 'Logistic Regression' + '\\033[0m')\n",
    "    log=LogisticRegression()\n",
    "    log.fit(X_train,Y_train)\n",
    "    \n",
    "    return model_build(log,X_train,Y_train,X_test,Y_test)\n",
    "\n",
    "def RandomForest(X_train,Y_train,X_test,Y_test,feat):\n",
    "    print('\\033[1m' + 'RandomForest Classifier' + '\\033[0m')\n",
    "    rf=RandomForestClassifier()\n",
    "    rf.fit(X_train,Y_train)\n",
    "\n",
    "    \n",
    "    return model_build(rf,X_train,Y_train,X_test,Y_test,True,feat)\n",
    "\n",
    "def AdaBoost(X_train,Y_train,X_test,Y_test,feat):\n",
    "    print('\\033[1m' + 'Adaoost Classifier' + '\\033[0m')\n",
    "    ada=AdaBoostClassifier()\n",
    "    ada.fit(X_train,Y_train)\n",
    "    \n",
    "    return model_build(ada,X_train,Y_train,X_test,Y_test,True,feat)\n",
    "\n",
    "def GradientBoosting(X_train,Y_train,X_test,Y_test,feat):\n",
    "    print('\\033[1m' + 'GradientBoosting Classifier' + '\\033[0m')\n",
    "    gbc=GradientBoostingClassifier()\n",
    "    gbc.fit(X_train,Y_train)\n",
    "    \n",
    "    return model_build(gbc,X_train,Y_train,X_test,Y_test,True,feat)\n",
    "\n",
    "def ExtraTree(X_train,Y_train,X_test,Y_test,feat):\n",
    "    print('\\033[1m' + 'ExtraTree Classifier' + '\\033[0m')\n",
    "    ext_tree=ExtraTreesClassifier()\n",
    "    ext_tree.fit(X_train,Y_train)\n",
    "    \n",
    "    return model_build(ext_tree,X_train,Y_train,X_test,Y_test,True,feat)\n",
    "\n",
    "def Bagging(X_train,Y_train,X_test,Y_test):\n",
    "    print('\\033[1m' + 'Bagging Classifier' + '\\033[0m')\n",
    "    bagging=BaggingClassifier()\n",
    "    bagging.fit(X_train,Y_train)\n",
    "    \n",
    "    return model_build(bagging,X_train,Y_train,X_test,Y_test)\n",
    "\n",
    "def DeepLearning1(X_train,Y_train,X_test,Y_test):\n",
    "    print('\\033[1m' + 'Neural Network-1' + '\\033[0m')\n",
    "    np.random.seed(0)\n",
    "    deep_learning=Sequential()\n",
    "    deep_learning.add(Dense(units=64,activation='relu',use_bias=True,kernel_initializer='uniform',input_dim=X_train.shape[1]))\n",
    "    deep_learning.add(Dense(units=128,activation='relu',use_bias=True,kernel_initializer='uniform'))\n",
    "    deep_learning.add(Dense(units=1,activation='sigmoid',use_bias=True,kernel_initializer='uniform'))\n",
    "    deep_learning.compile(optimizer='adam',loss='binary_crossentropy',metrics=['accuracy'])\n",
    "    deep_learning.fit(X_train,Y_train,batch_size=20,epochs=80,verbose=False)\n",
    "    acc_train=deep_learning.evaluate(X_train,Y_train,verbose=False)[1]\n",
    "    print(\"The accuracy of the model on training data is:\",acc_train)\n",
    "    cm_train=ConfusionMatrix(Y_train,deep_learning.predict_classes(X_train,batch_size=1,verbose=False).reshape(1,len(X_train))[0])\n",
    "    cm_test=ConfusionMatrix(Y_test,deep_learning.predict_classes(X_test,batch_size=1,verbose=False).reshape(1,len(X_test))[0])\n",
    "    display(cm_train)\n",
    "    acc_test=accuracy_score(Y_test,deep_learning.predict_classes(X_test,batch_size=1,verbose=False))\n",
    "    print(\"The accuracy of the model on test data is:\",acc_test)\n",
    "    display(cm_test)\n",
    "    mcc=matthews_corrcoef(Y_test,deep_learning.predict_classes(X_test,batch_size=1,verbose=False))\n",
    "    return  deep_learning,cm_train,cm_test,acc_train,acc_test,roc_auc,mcc"
   ]
  },
  {
   "cell_type": "code",
   "execution_count": 4,
   "metadata": {
    "collapsed": true
   },
   "outputs": [],
   "source": [
    "columns=['http_header_cache-control_set_max-age',\n",
    " 'http_header_cache-control_set_must-revalidate',\n",
    " 'http_header_cache-control_set_no-cache',\n",
    " 'http_header_cache-control_set_no-store',\n",
    " 'http_header_cache-control_set_private',\n",
    " 'http_header_cache-control_set_public',\n",
    " 'http_header_content-encoding_gzip',\n",
    " 'http_header_content-language_text/html',\n",
    " 'http_header_content-length',\n",
    " 'http_header_server_apache',\n",
    " 'http_header_server_nginx','Target','domain']"
   ]
  },
  {
   "cell_type": "code",
   "execution_count": 5,
   "metadata": {},
   "outputs": [
    {
     "name": "stdout",
     "output_type": "stream",
     "text": [
      "Shape of our dataset: (45856, 12)\n"
     ]
    }
   ],
   "source": [
    "df=pd.read_csv('Modified_http.csv',usecols=columns)\n",
    "\n",
    "df.rename(columns={'Malicious':'Target'},inplace=True)\n",
    "df.fillna(value=0,inplace=True)\n",
    "\n",
    "cookies=[columns for columns in df.columns if 'number' in columns]\n",
    "df.drop(cookies,axis=1,inplace=True)\n",
    "\n",
    "df=df[df['domain']!=0]\n",
    "\n",
    "df.sort_values(by='Target',inplace=True,ascending=False)\n",
    "df.drop_duplicates(['domain'], keep='first',inplace=True)\n",
    "\n",
    "df=df.sample(frac=1,random_state=0)\n",
    "df.set_index(['domain'],drop=True,inplace=True)\n",
    "print(\"Shape of our dataset:\",df.shape)"
   ]
  },
  {
   "cell_type": "code",
   "execution_count": 6,
   "metadata": {},
   "outputs": [
    {
     "data": {
      "text/plain": [
       "0    39835\n",
       "1     6021\n",
       "Name: Target, dtype: int64"
      ]
     },
     "execution_count": 6,
     "metadata": {},
     "output_type": "execute_result"
    }
   ],
   "source": [
    "df.Target.value_counts()"
   ]
  },
  {
   "cell_type": "code",
   "execution_count": 7,
   "metadata": {
    "collapsed": true
   },
   "outputs": [],
   "source": [
    "train=df.iloc[:36684,:]\n",
    "train_X=train.iloc[:,train.columns!='Target'].values\n",
    "train_Y=train.Target.values\n",
    "\n",
    "scaler=StandardScaler()\n",
    "scaled_X_train=scaler.fit_transform(train_X)"
   ]
  },
  {
   "cell_type": "code",
   "execution_count": 8,
   "metadata": {
    "collapsed": true
   },
   "outputs": [],
   "source": [
    "test=df.iloc[36684:,:]\n",
    "test_X=test.iloc[:,test.columns!='Target'].values\n",
    "test_Y=test.Target.values\n",
    "scaled_X_test=scaler.transform(test_X)"
   ]
  },
  {
   "cell_type": "markdown",
   "metadata": {},
   "source": [
    "### <a id='1' style=\"text-decoration : none; color : #000000;\"> 2. Initial Models</a>"
   ]
  },
  {
   "cell_type": "code",
   "execution_count": 9,
   "metadata": {
    "collapsed": true
   },
   "outputs": [],
   "source": [
    "ind_columns=['KNeighborsClassifier','LogisticRegression','RandomForestClassifier','AdaBoostClassifier',\n",
    "             'GradientBoostingClassifier','ExtraTreeClassifier','BaggingClassifier','Neural Network-1']\n",
    "\n",
    "f=[KNN_model,Logistic_model,RandomForest,AdaBoost,GradientBoosting, ExtraTree,Bagging,DeepLearning1]\n",
    "\n",
    "## Table to store training and test measures\n",
    "table_80_50_train=pd.DataFrame(columns=['accuracy','TP','TN','FP','FN','FPR','FNR'])\n",
    "table_80_50_test=pd.DataFrame(columns=['accuracy','TP','TN','FP','FN','FPR','FNR','auc','MCC'])"
   ]
  },
  {
   "cell_type": "code",
   "execution_count": 10,
   "metadata": {
    "scrolled": false
   },
   "outputs": [
    {
     "name": "stdout",
     "output_type": "stream",
     "text": [
      "\u001b[1mK-Nearest Neighbors\u001b[0m\n",
      "Accuracy of the model for training data is: 0.891042416312\n",
      "Confusion Matrix for training data is:\n"
     ]
    },
    {
     "data": {
      "text/plain": [
       "Predicted  False  True  __all__\n",
       "Actual                         \n",
       "False      31711   142    31853\n",
       "True        3855   976     4831\n",
       "__all__    35566  1118    36684"
      ]
     },
     "metadata": {},
     "output_type": "display_data"
    },
    {
     "name": "stdout",
     "output_type": "stream",
     "text": [
      "Accuracy of the model for test data is: 0.892935019625\n",
      "Confusion Matrix for test data is:\n"
     ]
    },
    {
     "data": {
      "text/plain": [
       "Predicted  False  True  __all__\n",
       "Actual                         \n",
       "False       7936    46     7982\n",
       "True         936   254     1190\n",
       "__all__     8872   300     9172"
      ]
     },
     "metadata": {},
     "output_type": "display_data"
    },
    {
     "name": "stdout",
     "output_type": "stream",
     "text": [
      "\n",
      "\n",
      "\u001b[1mLogistic Regression\u001b[0m\n",
      "Accuracy of the model for training data is: 0.873105441064\n",
      "Confusion Matrix for training data is:\n"
     ]
    },
    {
     "data": {
      "text/plain": [
       "Predicted  False  True  __all__\n",
       "Actual                         \n",
       "False      29372  2481    31853\n",
       "True        2174  2657     4831\n",
       "__all__    31546  5138    36684"
      ]
     },
     "metadata": {},
     "output_type": "display_data"
    },
    {
     "name": "stdout",
     "output_type": "stream",
     "text": [
      "Accuracy of the model for test data is: 0.873746184038\n",
      "Confusion Matrix for test data is:\n"
     ]
    },
    {
     "data": {
      "text/plain": [
       "Predicted  False  True  __all__\n",
       "Actual                         \n",
       "False       7364   618     7982\n",
       "True         540   650     1190\n",
       "__all__     7904  1268     9172"
      ]
     },
     "metadata": {},
     "output_type": "display_data"
    },
    {
     "name": "stdout",
     "output_type": "stream",
     "text": [
      "\n",
      "\n",
      "\u001b[1mRandomForest Classifier\u001b[0m\n",
      "Accuracy of the model for training data is: 0.905680950823\n",
      "Confusion Matrix for training data is:\n"
     ]
    },
    {
     "data": {
      "text/plain": [
       "Predicted  False  True  __all__\n",
       "Actual                         \n",
       "False      28861  2992    31853\n",
       "True         468  4363     4831\n",
       "__all__    29329  7355    36684"
      ]
     },
     "metadata": {},
     "output_type": "display_data"
    },
    {
     "name": "stdout",
     "output_type": "stream",
     "text": [
      "Accuracy of the model for test data is: 0.898604448321\n",
      "Confusion Matrix for test data is:\n"
     ]
    },
    {
     "data": {
      "text/plain": [
       "Predicted  False  True  __all__\n",
       "Actual                         \n",
       "False       7211   771     7982\n",
       "True         159  1031     1190\n",
       "__all__     7370  1802     9172"
      ]
     },
     "metadata": {},
     "output_type": "display_data"
    },
    {
     "data": {
      "application/vnd.plotly.v1+json": {
       "config": {
        "linkText": "Export to plot.ly",
        "plotlyServerURL": "https://plot.ly",
        "showLink": true
       },
       "data": [
        {
         "marker": {
          "color": "rgb(158,202,225)",
          "line": {
           "color": "rgb(8,48,107)",
           "width": 1.5
          }
         },
         "opacity": 0.6,
         "orientation": "h",
         "text": [
          0.3941,
          0.2224,
          0.1801,
          0.0572,
          0.0359,
          0.0341,
          0.0294,
          0.0149,
          0.0145,
          0.0112,
          0.0062
         ],
         "textposition": "outside",
         "type": "bar",
         "uid": "84b50101-22a5-4cf7-9fa9-56913d3e8147",
         "x": [
          0.39405411090709064,
          0.22237253473579233,
          0.1801407432156832,
          0.05720420715328485,
          0.035939911401735504,
          0.03408204015308118,
          0.029437357968542986,
          0.014887541661088763,
          0.0145483110196211,
          0.01117628700827147,
          0.006156954775807954
         ],
         "y": [
          "http_header_content-length",
          "http_header_content-encoding_gzip",
          "http_header_content-language_text/html",
          "http_header_server_apache",
          "http_header_cache-control_set_max-age",
          "http_header_server_nginx",
          "http_header_cache-control_set_no-cache",
          "http_header_cache-control_set_must-revalidate",
          "http_header_cache-control_set_no-store",
          "http_header_cache-control_set_private",
          "http_header_cache-control_set_public"
         ]
        }
       ],
       "layout": {
        "autosize": false,
        "height": 1000,
        "width": 1000,
        "xaxis": {
         "tickfont": {
          "color": "black",
          "size": 12
         },
         "title": "Feature Importances"
        },
        "yaxis": {
         "automargin": true
        }
       }
      },
      "text/html": [
       "<div id=\"36ace9d8-ef81-4567-888d-fb1977478aad\" style=\"height: 1000px; width: 1000px;\" class=\"plotly-graph-div\"></div><script type=\"text/javascript\">require([\"plotly\"], function(Plotly) { window.PLOTLYENV=window.PLOTLYENV || {};window.PLOTLYENV.BASE_URL=\"https://plot.ly\";Plotly.newPlot(\"36ace9d8-ef81-4567-888d-fb1977478aad\", [{\"marker\": {\"color\": \"rgb(158,202,225)\", \"line\": {\"color\": \"rgb(8,48,107)\", \"width\": 1.5}}, \"opacity\": 0.6, \"orientation\": \"h\", \"text\": [0.3941, 0.2224, 0.1801, 0.0572, 0.0359, 0.0341, 0.0294, 0.0149, 0.0145, 0.0112, 0.0062], \"textposition\": \"outside\", \"x\": [0.39405411090709064, 0.22237253473579233, 0.1801407432156832, 0.05720420715328485, 0.035939911401735504, 0.03408204015308118, 0.029437357968542986, 0.014887541661088763, 0.0145483110196211, 0.01117628700827147, 0.006156954775807954], \"y\": [\"http_header_content-length\", \"http_header_content-encoding_gzip\", \"http_header_content-language_text/html\", \"http_header_server_apache\", \"http_header_cache-control_set_max-age\", \"http_header_server_nginx\", \"http_header_cache-control_set_no-cache\", \"http_header_cache-control_set_must-revalidate\", \"http_header_cache-control_set_no-store\", \"http_header_cache-control_set_private\", \"http_header_cache-control_set_public\"], \"type\": \"bar\", \"uid\": \"84b50101-22a5-4cf7-9fa9-56913d3e8147\"}], {\"autosize\": false, \"height\": 1000, \"width\": 1000, \"xaxis\": {\"tickfont\": {\"color\": \"black\", \"size\": 12}, \"title\": \"Feature Importances\"}, \"yaxis\": {\"automargin\": true}}, {\"showLink\": true, \"linkText\": \"Export to plot.ly\", \"plotlyServerURL\": \"https://plot.ly\"})});</script>"
      ],
      "text/vnd.plotly.v1+html": [
       "<div id=\"36ace9d8-ef81-4567-888d-fb1977478aad\" style=\"height: 1000px; width: 1000px;\" class=\"plotly-graph-div\"></div><script type=\"text/javascript\">require([\"plotly\"], function(Plotly) { window.PLOTLYENV=window.PLOTLYENV || {};window.PLOTLYENV.BASE_URL=\"https://plot.ly\";Plotly.newPlot(\"36ace9d8-ef81-4567-888d-fb1977478aad\", [{\"marker\": {\"color\": \"rgb(158,202,225)\", \"line\": {\"color\": \"rgb(8,48,107)\", \"width\": 1.5}}, \"opacity\": 0.6, \"orientation\": \"h\", \"text\": [0.3941, 0.2224, 0.1801, 0.0572, 0.0359, 0.0341, 0.0294, 0.0149, 0.0145, 0.0112, 0.0062], \"textposition\": \"outside\", \"x\": [0.39405411090709064, 0.22237253473579233, 0.1801407432156832, 0.05720420715328485, 0.035939911401735504, 0.03408204015308118, 0.029437357968542986, 0.014887541661088763, 0.0145483110196211, 0.01117628700827147, 0.006156954775807954], \"y\": [\"http_header_content-length\", \"http_header_content-encoding_gzip\", \"http_header_content-language_text/html\", \"http_header_server_apache\", \"http_header_cache-control_set_max-age\", \"http_header_server_nginx\", \"http_header_cache-control_set_no-cache\", \"http_header_cache-control_set_must-revalidate\", \"http_header_cache-control_set_no-store\", \"http_header_cache-control_set_private\", \"http_header_cache-control_set_public\"], \"type\": \"bar\", \"uid\": \"84b50101-22a5-4cf7-9fa9-56913d3e8147\"}], {\"autosize\": false, \"height\": 1000, \"width\": 1000, \"xaxis\": {\"tickfont\": {\"color\": \"black\", \"size\": 12}, \"title\": \"Feature Importances\"}, \"yaxis\": {\"automargin\": true}}, {\"showLink\": true, \"linkText\": \"Export to plot.ly\", \"plotlyServerURL\": \"https://plot.ly\"})});</script>"
      ]
     },
     "metadata": {},
     "output_type": "display_data"
    },
    {
     "name": "stdout",
     "output_type": "stream",
     "text": [
      "\n",
      "\n",
      "\u001b[1mAdaoost Classifier\u001b[0m\n",
      "Accuracy of the model for training data is: 0.881937629484\n",
      "Confusion Matrix for training data is:\n"
     ]
    },
    {
     "data": {
      "text/plain": [
       "Predicted  False  True  __all__\n",
       "Actual                         \n",
       "False      29160  2693    31853\n",
       "True        1638  3193     4831\n",
       "__all__    30798  5886    36684"
      ]
     },
     "metadata": {},
     "output_type": "display_data"
    },
    {
     "name": "stdout",
     "output_type": "stream",
     "text": [
      "Accuracy of the model for test data is: 0.886066288705\n",
      "Confusion Matrix for test data is:\n"
     ]
    },
    {
     "data": {
      "text/plain": [
       "Predicted  False  True  __all__\n",
       "Actual                         \n",
       "False       7321   661     7982\n",
       "True         384   806     1190\n",
       "__all__     7705  1467     9172"
      ]
     },
     "metadata": {},
     "output_type": "display_data"
    },
    {
     "data": {
      "application/vnd.plotly.v1+json": {
       "config": {
        "linkText": "Export to plot.ly",
        "plotlyServerURL": "https://plot.ly",
        "showLink": true
       },
       "data": [
        {
         "marker": {
          "color": "rgb(158,202,225)",
          "line": {
           "color": "rgb(8,48,107)",
           "width": 1.5
          }
         },
         "opacity": 0.6,
         "orientation": "h",
         "text": [
          0.78,
          0.06,
          0.04,
          0.02,
          0.02,
          0.02,
          0.02,
          0.02,
          0.02,
          0,
          0
         ],
         "textposition": "outside",
         "type": "bar",
         "uid": "e23f1a98-8e6e-4e87-8598-b8343f88a0e3",
         "x": [
          0.78,
          0.06,
          0.04,
          0.02,
          0.02,
          0.02,
          0.02,
          0.02,
          0.02,
          0,
          0
         ],
         "y": [
          "http_header_content-length",
          "http_header_content-encoding_gzip",
          "http_header_content-language_text/html",
          "http_header_cache-control_set_max-age",
          "http_header_cache-control_set_no-store",
          "http_header_cache-control_set_private",
          "http_header_cache-control_set_public",
          "http_header_server_apache",
          "http_header_server_nginx",
          "http_header_cache-control_set_must-revalidate",
          "http_header_cache-control_set_no-cache"
         ]
        }
       ],
       "layout": {
        "autosize": false,
        "height": 1000,
        "width": 1000,
        "xaxis": {
         "tickfont": {
          "color": "black",
          "size": 12
         },
         "title": "Feature Importances"
        },
        "yaxis": {
         "automargin": true
        }
       }
      },
      "text/html": [
       "<div id=\"c629079e-a540-480d-acec-d61a39885f7b\" style=\"height: 1000px; width: 1000px;\" class=\"plotly-graph-div\"></div><script type=\"text/javascript\">require([\"plotly\"], function(Plotly) { window.PLOTLYENV=window.PLOTLYENV || {};window.PLOTLYENV.BASE_URL=\"https://plot.ly\";Plotly.newPlot(\"c629079e-a540-480d-acec-d61a39885f7b\", [{\"marker\": {\"color\": \"rgb(158,202,225)\", \"line\": {\"color\": \"rgb(8,48,107)\", \"width\": 1.5}}, \"opacity\": 0.6, \"orientation\": \"h\", \"text\": [0.78, 0.06, 0.04, 0.02, 0.02, 0.02, 0.02, 0.02, 0.02, 0.0, 0.0], \"textposition\": \"outside\", \"x\": [0.78, 0.06, 0.04, 0.02, 0.02, 0.02, 0.02, 0.02, 0.02, 0.0, 0.0], \"y\": [\"http_header_content-length\", \"http_header_content-encoding_gzip\", \"http_header_content-language_text/html\", \"http_header_cache-control_set_max-age\", \"http_header_cache-control_set_no-store\", \"http_header_cache-control_set_private\", \"http_header_cache-control_set_public\", \"http_header_server_apache\", \"http_header_server_nginx\", \"http_header_cache-control_set_must-revalidate\", \"http_header_cache-control_set_no-cache\"], \"type\": \"bar\", \"uid\": \"e23f1a98-8e6e-4e87-8598-b8343f88a0e3\"}], {\"autosize\": false, \"height\": 1000, \"width\": 1000, \"xaxis\": {\"tickfont\": {\"color\": \"black\", \"size\": 12}, \"title\": \"Feature Importances\"}, \"yaxis\": {\"automargin\": true}}, {\"showLink\": true, \"linkText\": \"Export to plot.ly\", \"plotlyServerURL\": \"https://plot.ly\"})});</script>"
      ],
      "text/vnd.plotly.v1+html": [
       "<div id=\"c629079e-a540-480d-acec-d61a39885f7b\" style=\"height: 1000px; width: 1000px;\" class=\"plotly-graph-div\"></div><script type=\"text/javascript\">require([\"plotly\"], function(Plotly) { window.PLOTLYENV=window.PLOTLYENV || {};window.PLOTLYENV.BASE_URL=\"https://plot.ly\";Plotly.newPlot(\"c629079e-a540-480d-acec-d61a39885f7b\", [{\"marker\": {\"color\": \"rgb(158,202,225)\", \"line\": {\"color\": \"rgb(8,48,107)\", \"width\": 1.5}}, \"opacity\": 0.6, \"orientation\": \"h\", \"text\": [0.78, 0.06, 0.04, 0.02, 0.02, 0.02, 0.02, 0.02, 0.02, 0.0, 0.0], \"textposition\": \"outside\", \"x\": [0.78, 0.06, 0.04, 0.02, 0.02, 0.02, 0.02, 0.02, 0.02, 0.0, 0.0], \"y\": [\"http_header_content-length\", \"http_header_content-encoding_gzip\", \"http_header_content-language_text/html\", \"http_header_cache-control_set_max-age\", \"http_header_cache-control_set_no-store\", \"http_header_cache-control_set_private\", \"http_header_cache-control_set_public\", \"http_header_server_apache\", \"http_header_server_nginx\", \"http_header_cache-control_set_must-revalidate\", \"http_header_cache-control_set_no-cache\"], \"type\": \"bar\", \"uid\": \"e23f1a98-8e6e-4e87-8598-b8343f88a0e3\"}], {\"autosize\": false, \"height\": 1000, \"width\": 1000, \"xaxis\": {\"tickfont\": {\"color\": \"black\", \"size\": 12}, \"title\": \"Feature Importances\"}, \"yaxis\": {\"automargin\": true}}, {\"showLink\": true, \"linkText\": \"Export to plot.ly\", \"plotlyServerURL\": \"https://plot.ly\"})});</script>"
      ]
     },
     "metadata": {},
     "output_type": "display_data"
    },
    {
     "name": "stdout",
     "output_type": "stream",
     "text": [
      "\n",
      "\n",
      "\u001b[1mGradientBoosting Classifier\u001b[0m\n",
      "Accuracy of the model for training data is: 0.894204557845\n",
      "Confusion Matrix for training data is:\n"
     ]
    },
    {
     "data": {
      "text/plain": [
       "Predicted  False  True  __all__\n",
       "Actual                         \n",
       "False      29350  2503    31853\n",
       "True        1378  3453     4831\n",
       "__all__    30728  5956    36684"
      ]
     },
     "metadata": {},
     "output_type": "display_data"
    },
    {
     "name": "stdout",
     "output_type": "stream",
     "text": [
      "Accuracy of the model for test data is: 0.894352376799\n",
      "Confusion Matrix for test data is:\n"
     ]
    },
    {
     "data": {
      "text/plain": [
       "Predicted  False  True  __all__\n",
       "Actual                         \n",
       "False       7349   633     7982\n",
       "True         336   854     1190\n",
       "__all__     7685  1487     9172"
      ]
     },
     "metadata": {},
     "output_type": "display_data"
    },
    {
     "data": {
      "application/vnd.plotly.v1+json": {
       "config": {
        "linkText": "Export to plot.ly",
        "plotlyServerURL": "https://plot.ly",
        "showLink": true
       },
       "data": [
        {
         "marker": {
          "color": "rgb(158,202,225)",
          "line": {
           "color": "rgb(8,48,107)",
           "width": 1.5
          }
         },
         "opacity": 0.6,
         "orientation": "h",
         "text": [
          0.4419,
          0.2933,
          0.1772,
          0.0413,
          0.0202,
          0.0127,
          0.0049,
          0.0032,
          0.0027,
          0.0025,
          0.0003
         ],
         "textposition": "outside",
         "type": "bar",
         "uid": "f1582f15-2b19-4de0-af09-5c60e5f5fa3d",
         "x": [
          0.4418657832567222,
          0.2932824307238017,
          0.1771586745652014,
          0.041289601270204215,
          0.020214861297377575,
          0.012676374794119403,
          0.004864861233724308,
          0.0031642519029890137,
          0.0026949188764606065,
          0.0025024445781944927,
          0.0002857975012048616
         ],
         "y": [
          "http_header_content-encoding_gzip",
          "http_header_content-length",
          "http_header_content-language_text/html",
          "http_header_server_apache",
          "http_header_cache-control_set_no-cache",
          "http_header_cache-control_set_max-age",
          "http_header_server_nginx",
          "http_header_cache-control_set_no-store",
          "http_header_cache-control_set_private",
          "http_header_cache-control_set_must-revalidate",
          "http_header_cache-control_set_public"
         ]
        }
       ],
       "layout": {
        "autosize": false,
        "height": 1000,
        "width": 1000,
        "xaxis": {
         "tickfont": {
          "color": "black",
          "size": 12
         },
         "title": "Feature Importances"
        },
        "yaxis": {
         "automargin": true
        }
       }
      },
      "text/html": [
       "<div id=\"0fadfd2e-4689-44c5-8f0e-9b9ccd7410f7\" style=\"height: 1000px; width: 1000px;\" class=\"plotly-graph-div\"></div><script type=\"text/javascript\">require([\"plotly\"], function(Plotly) { window.PLOTLYENV=window.PLOTLYENV || {};window.PLOTLYENV.BASE_URL=\"https://plot.ly\";Plotly.newPlot(\"0fadfd2e-4689-44c5-8f0e-9b9ccd7410f7\", [{\"marker\": {\"color\": \"rgb(158,202,225)\", \"line\": {\"color\": \"rgb(8,48,107)\", \"width\": 1.5}}, \"opacity\": 0.6, \"orientation\": \"h\", \"text\": [0.4419, 0.2933, 0.1772, 0.0413, 0.0202, 0.0127, 0.0049, 0.0032, 0.0027, 0.0025, 0.0003], \"textposition\": \"outside\", \"x\": [0.4418657832567222, 0.2932824307238017, 0.1771586745652014, 0.041289601270204215, 0.020214861297377575, 0.012676374794119403, 0.004864861233724308, 0.0031642519029890137, 0.0026949188764606065, 0.0025024445781944927, 0.0002857975012048616], \"y\": [\"http_header_content-encoding_gzip\", \"http_header_content-length\", \"http_header_content-language_text/html\", \"http_header_server_apache\", \"http_header_cache-control_set_no-cache\", \"http_header_cache-control_set_max-age\", \"http_header_server_nginx\", \"http_header_cache-control_set_no-store\", \"http_header_cache-control_set_private\", \"http_header_cache-control_set_must-revalidate\", \"http_header_cache-control_set_public\"], \"type\": \"bar\", \"uid\": \"f1582f15-2b19-4de0-af09-5c60e5f5fa3d\"}], {\"autosize\": false, \"height\": 1000, \"width\": 1000, \"xaxis\": {\"tickfont\": {\"color\": \"black\", \"size\": 12}, \"title\": \"Feature Importances\"}, \"yaxis\": {\"automargin\": true}}, {\"showLink\": true, \"linkText\": \"Export to plot.ly\", \"plotlyServerURL\": \"https://plot.ly\"})});</script>"
      ],
      "text/vnd.plotly.v1+html": [
       "<div id=\"0fadfd2e-4689-44c5-8f0e-9b9ccd7410f7\" style=\"height: 1000px; width: 1000px;\" class=\"plotly-graph-div\"></div><script type=\"text/javascript\">require([\"plotly\"], function(Plotly) { window.PLOTLYENV=window.PLOTLYENV || {};window.PLOTLYENV.BASE_URL=\"https://plot.ly\";Plotly.newPlot(\"0fadfd2e-4689-44c5-8f0e-9b9ccd7410f7\", [{\"marker\": {\"color\": \"rgb(158,202,225)\", \"line\": {\"color\": \"rgb(8,48,107)\", \"width\": 1.5}}, \"opacity\": 0.6, \"orientation\": \"h\", \"text\": [0.4419, 0.2933, 0.1772, 0.0413, 0.0202, 0.0127, 0.0049, 0.0032, 0.0027, 0.0025, 0.0003], \"textposition\": \"outside\", \"x\": [0.4418657832567222, 0.2932824307238017, 0.1771586745652014, 0.041289601270204215, 0.020214861297377575, 0.012676374794119403, 0.004864861233724308, 0.0031642519029890137, 0.0026949188764606065, 0.0025024445781944927, 0.0002857975012048616], \"y\": [\"http_header_content-encoding_gzip\", \"http_header_content-length\", \"http_header_content-language_text/html\", \"http_header_server_apache\", \"http_header_cache-control_set_no-cache\", \"http_header_cache-control_set_max-age\", \"http_header_server_nginx\", \"http_header_cache-control_set_no-store\", \"http_header_cache-control_set_private\", \"http_header_cache-control_set_must-revalidate\", \"http_header_cache-control_set_public\"], \"type\": \"bar\", \"uid\": \"f1582f15-2b19-4de0-af09-5c60e5f5fa3d\"}], {\"autosize\": false, \"height\": 1000, \"width\": 1000, \"xaxis\": {\"tickfont\": {\"color\": \"black\", \"size\": 12}, \"title\": \"Feature Importances\"}, \"yaxis\": {\"automargin\": true}}, {\"showLink\": true, \"linkText\": \"Export to plot.ly\", \"plotlyServerURL\": \"https://plot.ly\"})});</script>"
      ]
     },
     "metadata": {},
     "output_type": "display_data"
    },
    {
     "name": "stdout",
     "output_type": "stream",
     "text": [
      "\n",
      "\n",
      "\u001b[1mExtraTree Classifier\u001b[0m\n",
      "Accuracy of the model for training data is: 0.907234761749\n",
      "Confusion Matrix for training data is:\n"
     ]
    },
    {
     "data": {
      "text/plain": [
       "Predicted  False  True  __all__\n",
       "Actual                         \n",
       "False      28877  2976    31853\n",
       "True         427  4404     4831\n",
       "__all__    29304  7380    36684"
      ]
     },
     "metadata": {},
     "output_type": "display_data"
    },
    {
     "name": "stdout",
     "output_type": "stream",
     "text": [
      "Accuracy of the model for test data is: 0.897841255997\n",
      "Confusion Matrix for test data is:\n"
     ]
    },
    {
     "data": {
      "text/plain": [
       "Predicted  False  True  __all__\n",
       "Actual                         \n",
       "False       7197   785     7982\n",
       "True         152  1038     1190\n",
       "__all__     7349  1823     9172"
      ]
     },
     "metadata": {},
     "output_type": "display_data"
    },
    {
     "data": {
      "application/vnd.plotly.v1+json": {
       "config": {
        "linkText": "Export to plot.ly",
        "plotlyServerURL": "https://plot.ly",
        "showLink": true
       },
       "data": [
        {
         "marker": {
          "color": "rgb(158,202,225)",
          "line": {
           "color": "rgb(8,48,107)",
           "width": 1.5
          }
         },
         "opacity": 0.6,
         "orientation": "h",
         "text": [
          0.3219,
          0.2637,
          0.1867,
          0.0754,
          0.0356,
          0.0281,
          0.0253,
          0.0234,
          0.0168,
          0.0162,
          0.0069
         ],
         "textposition": "outside",
         "type": "bar",
         "uid": "a1c73d53-c52e-4d3f-bfb9-987b96864b5d",
         "x": [
          0.321928030305863,
          0.2637242269661211,
          0.18669367553461752,
          0.07537725822728483,
          0.03559165341845943,
          0.02814475123228997,
          0.02527386104998227,
          0.023433203525875433,
          0.016793968090751968,
          0.016181500106734772,
          0.00685787154201978
         ],
         "y": [
          "http_header_content-length",
          "http_header_content-language_text/html",
          "http_header_content-encoding_gzip",
          "http_header_server_apache",
          "http_header_server_nginx",
          "http_header_cache-control_set_max-age",
          "http_header_cache-control_set_private",
          "http_header_cache-control_set_no-cache",
          "http_header_cache-control_set_must-revalidate",
          "http_header_cache-control_set_no-store",
          "http_header_cache-control_set_public"
         ]
        }
       ],
       "layout": {
        "autosize": false,
        "height": 1000,
        "width": 1000,
        "xaxis": {
         "tickfont": {
          "color": "black",
          "size": 12
         },
         "title": "Feature Importances"
        },
        "yaxis": {
         "automargin": true
        }
       }
      },
      "text/html": [
       "<div id=\"147efe8e-6492-4bdd-8ff3-efcbaafae946\" style=\"height: 1000px; width: 1000px;\" class=\"plotly-graph-div\"></div><script type=\"text/javascript\">require([\"plotly\"], function(Plotly) { window.PLOTLYENV=window.PLOTLYENV || {};window.PLOTLYENV.BASE_URL=\"https://plot.ly\";Plotly.newPlot(\"147efe8e-6492-4bdd-8ff3-efcbaafae946\", [{\"marker\": {\"color\": \"rgb(158,202,225)\", \"line\": {\"color\": \"rgb(8,48,107)\", \"width\": 1.5}}, \"opacity\": 0.6, \"orientation\": \"h\", \"text\": [0.3219, 0.2637, 0.1867, 0.0754, 0.0356, 0.0281, 0.0253, 0.0234, 0.0168, 0.0162, 0.0069], \"textposition\": \"outside\", \"x\": [0.321928030305863, 0.2637242269661211, 0.18669367553461752, 0.07537725822728483, 0.03559165341845943, 0.02814475123228997, 0.02527386104998227, 0.023433203525875433, 0.016793968090751968, 0.016181500106734772, 0.00685787154201978], \"y\": [\"http_header_content-length\", \"http_header_content-language_text/html\", \"http_header_content-encoding_gzip\", \"http_header_server_apache\", \"http_header_server_nginx\", \"http_header_cache-control_set_max-age\", \"http_header_cache-control_set_private\", \"http_header_cache-control_set_no-cache\", \"http_header_cache-control_set_must-revalidate\", \"http_header_cache-control_set_no-store\", \"http_header_cache-control_set_public\"], \"type\": \"bar\", \"uid\": \"a1c73d53-c52e-4d3f-bfb9-987b96864b5d\"}], {\"autosize\": false, \"height\": 1000, \"width\": 1000, \"xaxis\": {\"tickfont\": {\"color\": \"black\", \"size\": 12}, \"title\": \"Feature Importances\"}, \"yaxis\": {\"automargin\": true}}, {\"showLink\": true, \"linkText\": \"Export to plot.ly\", \"plotlyServerURL\": \"https://plot.ly\"})});</script>"
      ],
      "text/vnd.plotly.v1+html": [
       "<div id=\"147efe8e-6492-4bdd-8ff3-efcbaafae946\" style=\"height: 1000px; width: 1000px;\" class=\"plotly-graph-div\"></div><script type=\"text/javascript\">require([\"plotly\"], function(Plotly) { window.PLOTLYENV=window.PLOTLYENV || {};window.PLOTLYENV.BASE_URL=\"https://plot.ly\";Plotly.newPlot(\"147efe8e-6492-4bdd-8ff3-efcbaafae946\", [{\"marker\": {\"color\": \"rgb(158,202,225)\", \"line\": {\"color\": \"rgb(8,48,107)\", \"width\": 1.5}}, \"opacity\": 0.6, \"orientation\": \"h\", \"text\": [0.3219, 0.2637, 0.1867, 0.0754, 0.0356, 0.0281, 0.0253, 0.0234, 0.0168, 0.0162, 0.0069], \"textposition\": \"outside\", \"x\": [0.321928030305863, 0.2637242269661211, 0.18669367553461752, 0.07537725822728483, 0.03559165341845943, 0.02814475123228997, 0.02527386104998227, 0.023433203525875433, 0.016793968090751968, 0.016181500106734772, 0.00685787154201978], \"y\": [\"http_header_content-length\", \"http_header_content-language_text/html\", \"http_header_content-encoding_gzip\", \"http_header_server_apache\", \"http_header_server_nginx\", \"http_header_cache-control_set_max-age\", \"http_header_cache-control_set_private\", \"http_header_cache-control_set_no-cache\", \"http_header_cache-control_set_must-revalidate\", \"http_header_cache-control_set_no-store\", \"http_header_cache-control_set_public\"], \"type\": \"bar\", \"uid\": \"a1c73d53-c52e-4d3f-bfb9-987b96864b5d\"}], {\"autosize\": false, \"height\": 1000, \"width\": 1000, \"xaxis\": {\"tickfont\": {\"color\": \"black\", \"size\": 12}, \"title\": \"Feature Importances\"}, \"yaxis\": {\"automargin\": true}}, {\"showLink\": true, \"linkText\": \"Export to plot.ly\", \"plotlyServerURL\": \"https://plot.ly\"})});</script>"
      ]
     },
     "metadata": {},
     "output_type": "display_data"
    },
    {
     "name": "stdout",
     "output_type": "stream",
     "text": [
      "\n",
      "\n",
      "\u001b[1mBagging Classifier\u001b[0m\n",
      "Accuracy of the model for training data is: 0.906008068913\n",
      "Confusion Matrix for training data is:\n"
     ]
    },
    {
     "data": {
      "text/plain": [
       "Predicted  False  True  __all__\n",
       "Actual                         \n",
       "False      28861  2992    31853\n",
       "True         456  4375     4831\n",
       "__all__    29317  7367    36684"
      ]
     },
     "metadata": {},
     "output_type": "display_data"
    },
    {
     "name": "stdout",
     "output_type": "stream",
     "text": [
      "Accuracy of the model for test data is: 0.901003052769\n",
      "Confusion Matrix for test data is:\n"
     ]
    },
    {
     "data": {
      "text/plain": [
       "Predicted  False  True  __all__\n",
       "Actual                         \n",
       "False       7221   761     7982\n",
       "True         147  1043     1190\n",
       "__all__     7368  1804     9172"
      ]
     },
     "metadata": {},
     "output_type": "display_data"
    },
    {
     "name": "stdout",
     "output_type": "stream",
     "text": [
      "\n",
      "\n",
      "\u001b[1mNeural Network-1\u001b[0m\n",
      "The accuracy of the model on training data is: 0.883409660888\n"
     ]
    },
    {
     "data": {
      "text/plain": [
       "Predicted  False  True  __all__\n",
       "Actual                         \n",
       "False      28585  3268    31853\n",
       "True        1009  3822     4831\n",
       "__all__    29594  7090    36684"
      ]
     },
     "metadata": {},
     "output_type": "display_data"
    },
    {
     "name": "stdout",
     "output_type": "stream",
     "text": [
      "The accuracy of the model on test data is: 0.888573920628\n"
     ]
    },
    {
     "data": {
      "text/plain": [
       "Predicted  False  True  __all__\n",
       "Actual                         \n",
       "False       7206   776     7982\n",
       "True         246   944     1190\n",
       "__all__     7452  1720     9172"
      ]
     },
     "metadata": {},
     "output_type": "display_data"
    },
    {
     "name": "stdout",
     "output_type": "stream",
     "text": [
      "\n",
      "\n"
     ]
    }
   ],
   "source": [
    "feat_imp=[None]*4\n",
    "j=0\n",
    "for i in range(0,8):\n",
    "    if i>=2 and i<=5:\n",
    "        model,cm_train,cm_test,acc_train,acc_test,roc_auc,feat_imp[j],mcc=f[i](scaled_X_train,train_Y,scaled_X_test,test_Y,columns[:-2])\n",
    "        j=j+1\n",
    "    else:\n",
    "        model,cm_train,cm_test,acc_train,acc_test,roc_auc,mcc=f[i](scaled_X_train,train_Y,scaled_X_test,test_Y)\n",
    "    table_80_50_train.loc[i]=   ([acc_train,cm_train.TP,cm_train.TN,cm_train.FP,cm_train.FN,cm_train.FPR,cm_train.FNR])\n",
    "    table_80_50_test.loc[i] =   ([acc_test ,cm_test.TP, cm_test.TN, cm_test.FP, cm_test.FN, cm_test.FPR, cm_test.FNR,roc_auc,mcc])\n",
    "    print(\"\\n\")"
   ]
  },
  {
   "cell_type": "markdown",
   "metadata": {},
   "source": [
    "### <a id='1.A' style=\"text-decoration : none; color : #000000;\"> A Results</a>"
   ]
  },
  {
   "cell_type": "code",
   "execution_count": 11,
   "metadata": {},
   "outputs": [
    {
     "data": {
      "application/vnd.plotly.v1+json": {
       "config": {
        "linkText": "Export to plot.ly",
        "plotlyServerURL": "https://plot.ly",
        "showLink": true
       },
       "data": [
        {
         "mode": "lines",
         "name": "KNN_model",
         "type": "scatter",
         "uid": "31c4e58c-2bc0-48ab-8c2c-4b3b3b1f5e16",
         "x": [
          "accuracy",
          "FPR",
          "FNR",
          "auc"
         ],
         "y": [
          0.8929350196249455,
          0.005762966675018792,
          0.7865546218487395,
          0.6038412057381208
         ]
        },
        {
         "mode": "lines+markers",
         "name": "Logistic Regression",
         "type": "scatter",
         "uid": "f43f855a-0dd0-4b81-85e7-f0d0feed1378",
         "x": [
          "accuracy",
          "FPR",
          "FNR",
          "auc"
         ],
         "y": [
          0.8737461840383777,
          0.07742420446003508,
          0.453781512605042,
          0.7343971414674614
         ]
        },
        {
         "marker": {
          "symbol": "x"
         },
         "mode": "lines+markers",
         "name": "Random Forest",
         "type": "scatter",
         "uid": "78568428-f3e1-48c7-a626-49eec10d10a8",
         "x": [
          "accuracy",
          "FPR",
          "FNR",
          "auc"
         ],
         "y": [
          0.8986044483209769,
          0.09659233274868453,
          0.13361344537815126,
          0.8848971109365822
         ]
        },
        {
         "mode": "lines",
         "name": "Ada Boost",
         "type": "scatter",
         "uid": "0872ff7e-0a74-44b5-b311-dce2fffa6819",
         "x": [
          "accuracy",
          "FPR",
          "FNR",
          "auc"
         ],
         "y": [
          0.8860662887047536,
          0.08281132548233526,
          0.3226890756302521,
          0.7972497994437063
         ]
        },
        {
         "mode": "lines+markers",
         "name": "GradientBoosting",
         "type": "scatter",
         "uid": "c85aea9a-b744-4744-ad7e-bc257b32a2dc",
         "x": [
          "accuracy",
          "FPR",
          "FNR",
          "auc"
         ],
         "y": [
          0.8943523767989533,
          0.07930343272362816,
          0.2823529411764706,
          0.8191718130499507
         ]
        },
        {
         "marker": {
          "symbol": "x"
         },
         "mode": "lines+markers",
         "name": "ExtraTree Classifier",
         "type": "scatter",
         "uid": "4a8a41b8-4a37-40b3-b7a9-5676cc5be075",
         "x": [
          "accuracy",
          "FPR",
          "FNR",
          "auc"
         ],
         "y": [
          0.8978412559965111,
          0.09834627912803809,
          0.12773109243697478,
          0.8869613142174936
         ]
        },
        {
         "marker": {
          "symbol": "x"
         },
         "mode": "lines+markers",
         "name": "Bagging",
         "type": "scatter",
         "uid": "3579d523-39cf-4b44-ab26-bc959be063af",
         "x": [
          "accuracy",
          "FPR",
          "FNR",
          "auc"
         ],
         "y": [
          0.9010030527692978,
          0.09533951390628916,
          0.12352941176470589,
          0.8905655371645025
         ]
        },
        {
         "marker": {
          "symbol": "x"
         },
         "mode": "lines+markers",
         "name": "Neural Network",
         "type": "scatter",
         "uid": "3314672b-34ce-45e4-a23d-86f9cc46594c",
         "x": [
          "accuracy",
          "FPR",
          "FNR",
          "auc"
         ],
         "y": [
          0.8885739206279982,
          0.09721874216988223,
          0.20672268907563024,
          0.8905655371645025
         ]
        }
       ],
       "layout": {
        "title": "Result comparision for Features selected in Section 1",
        "yaxis": {
         "dtick": 0.05,
         "tick0": 0
        }
       }
      },
      "text/html": [
       "<div id=\"308bcbd8-0561-4d10-82c8-f1a84c363d00\" style=\"height: 525px; width: 100%;\" class=\"plotly-graph-div\"></div><script type=\"text/javascript\">require([\"plotly\"], function(Plotly) { window.PLOTLYENV=window.PLOTLYENV || {};window.PLOTLYENV.BASE_URL=\"https://plot.ly\";Plotly.newPlot(\"308bcbd8-0561-4d10-82c8-f1a84c363d00\", [{\"mode\": \"lines\", \"name\": \"KNN_model\", \"x\": [\"accuracy\", \"FPR\", \"FNR\", \"auc\"], \"y\": [0.8929350196249455, 0.005762966675018792, 0.7865546218487395, 0.6038412057381208], \"type\": \"scatter\", \"uid\": \"31c4e58c-2bc0-48ab-8c2c-4b3b3b1f5e16\"}, {\"mode\": \"lines+markers\", \"name\": \"Logistic Regression\", \"x\": [\"accuracy\", \"FPR\", \"FNR\", \"auc\"], \"y\": [0.8737461840383777, 0.07742420446003508, 0.453781512605042, 0.7343971414674614], \"type\": \"scatter\", \"uid\": \"f43f855a-0dd0-4b81-85e7-f0d0feed1378\"}, {\"marker\": {\"symbol\": \"x\"}, \"mode\": \"lines+markers\", \"name\": \"Random Forest\", \"x\": [\"accuracy\", \"FPR\", \"FNR\", \"auc\"], \"y\": [0.8986044483209769, 0.09659233274868453, 0.13361344537815126, 0.8848971109365822], \"type\": \"scatter\", \"uid\": \"78568428-f3e1-48c7-a626-49eec10d10a8\"}, {\"mode\": \"lines\", \"name\": \"Ada Boost\", \"x\": [\"accuracy\", \"FPR\", \"FNR\", \"auc\"], \"y\": [0.8860662887047536, 0.08281132548233526, 0.3226890756302521, 0.7972497994437063], \"type\": \"scatter\", \"uid\": \"0872ff7e-0a74-44b5-b311-dce2fffa6819\"}, {\"mode\": \"lines+markers\", \"name\": \"GradientBoosting\", \"x\": [\"accuracy\", \"FPR\", \"FNR\", \"auc\"], \"y\": [0.8943523767989533, 0.07930343272362816, 0.2823529411764706, 0.8191718130499507], \"type\": \"scatter\", \"uid\": \"c85aea9a-b744-4744-ad7e-bc257b32a2dc\"}, {\"marker\": {\"symbol\": \"x\"}, \"mode\": \"lines+markers\", \"name\": \"ExtraTree Classifier\", \"x\": [\"accuracy\", \"FPR\", \"FNR\", \"auc\"], \"y\": [0.8978412559965111, 0.09834627912803809, 0.12773109243697478, 0.8869613142174936], \"type\": \"scatter\", \"uid\": \"4a8a41b8-4a37-40b3-b7a9-5676cc5be075\"}, {\"marker\": {\"symbol\": \"x\"}, \"mode\": \"lines+markers\", \"name\": \"Bagging\", \"x\": [\"accuracy\", \"FPR\", \"FNR\", \"auc\"], \"y\": [0.9010030527692978, 0.09533951390628916, 0.12352941176470589, 0.8905655371645025], \"type\": \"scatter\", \"uid\": \"3579d523-39cf-4b44-ab26-bc959be063af\"}, {\"marker\": {\"symbol\": \"x\"}, \"mode\": \"lines+markers\", \"name\": \"Neural Network\", \"x\": [\"accuracy\", \"FPR\", \"FNR\", \"auc\"], \"y\": [0.8885739206279982, 0.09721874216988223, 0.20672268907563024, 0.8905655371645025], \"type\": \"scatter\", \"uid\": \"3314672b-34ce-45e4-a23d-86f9cc46594c\"}], {\"title\": \"Result comparision for Features selected in Section 1\", \"yaxis\": {\"dtick\": 0.05, \"tick0\": 0}}, {\"showLink\": true, \"linkText\": \"Export to plot.ly\", \"plotlyServerURL\": \"https://plot.ly\"})});</script><script type=\"text/javascript\">window.addEventListener(\"resize\", function(){window._Plotly.Plots.resize(document.getElementById(\"308bcbd8-0561-4d10-82c8-f1a84c363d00\"));});</script>"
      ],
      "text/vnd.plotly.v1+html": [
       "<div id=\"308bcbd8-0561-4d10-82c8-f1a84c363d00\" style=\"height: 525px; width: 100%;\" class=\"plotly-graph-div\"></div><script type=\"text/javascript\">require([\"plotly\"], function(Plotly) { window.PLOTLYENV=window.PLOTLYENV || {};window.PLOTLYENV.BASE_URL=\"https://plot.ly\";Plotly.newPlot(\"308bcbd8-0561-4d10-82c8-f1a84c363d00\", [{\"mode\": \"lines\", \"name\": \"KNN_model\", \"x\": [\"accuracy\", \"FPR\", \"FNR\", \"auc\"], \"y\": [0.8929350196249455, 0.005762966675018792, 0.7865546218487395, 0.6038412057381208], \"type\": \"scatter\", \"uid\": \"31c4e58c-2bc0-48ab-8c2c-4b3b3b1f5e16\"}, {\"mode\": \"lines+markers\", \"name\": \"Logistic Regression\", \"x\": [\"accuracy\", \"FPR\", \"FNR\", \"auc\"], \"y\": [0.8737461840383777, 0.07742420446003508, 0.453781512605042, 0.7343971414674614], \"type\": \"scatter\", \"uid\": \"f43f855a-0dd0-4b81-85e7-f0d0feed1378\"}, {\"marker\": {\"symbol\": \"x\"}, \"mode\": \"lines+markers\", \"name\": \"Random Forest\", \"x\": [\"accuracy\", \"FPR\", \"FNR\", \"auc\"], \"y\": [0.8986044483209769, 0.09659233274868453, 0.13361344537815126, 0.8848971109365822], \"type\": \"scatter\", \"uid\": \"78568428-f3e1-48c7-a626-49eec10d10a8\"}, {\"mode\": \"lines\", \"name\": \"Ada Boost\", \"x\": [\"accuracy\", \"FPR\", \"FNR\", \"auc\"], \"y\": [0.8860662887047536, 0.08281132548233526, 0.3226890756302521, 0.7972497994437063], \"type\": \"scatter\", \"uid\": \"0872ff7e-0a74-44b5-b311-dce2fffa6819\"}, {\"mode\": \"lines+markers\", \"name\": \"GradientBoosting\", \"x\": [\"accuracy\", \"FPR\", \"FNR\", \"auc\"], \"y\": [0.8943523767989533, 0.07930343272362816, 0.2823529411764706, 0.8191718130499507], \"type\": \"scatter\", \"uid\": \"c85aea9a-b744-4744-ad7e-bc257b32a2dc\"}, {\"marker\": {\"symbol\": \"x\"}, \"mode\": \"lines+markers\", \"name\": \"ExtraTree Classifier\", \"x\": [\"accuracy\", \"FPR\", \"FNR\", \"auc\"], \"y\": [0.8978412559965111, 0.09834627912803809, 0.12773109243697478, 0.8869613142174936], \"type\": \"scatter\", \"uid\": \"4a8a41b8-4a37-40b3-b7a9-5676cc5be075\"}, {\"marker\": {\"symbol\": \"x\"}, \"mode\": \"lines+markers\", \"name\": \"Bagging\", \"x\": [\"accuracy\", \"FPR\", \"FNR\", \"auc\"], \"y\": [0.9010030527692978, 0.09533951390628916, 0.12352941176470589, 0.8905655371645025], \"type\": \"scatter\", \"uid\": \"3579d523-39cf-4b44-ab26-bc959be063af\"}, {\"marker\": {\"symbol\": \"x\"}, \"mode\": \"lines+markers\", \"name\": \"Neural Network\", \"x\": [\"accuracy\", \"FPR\", \"FNR\", \"auc\"], \"y\": [0.8885739206279982, 0.09721874216988223, 0.20672268907563024, 0.8905655371645025], \"type\": \"scatter\", \"uid\": \"3314672b-34ce-45e4-a23d-86f9cc46594c\"}], {\"title\": \"Result comparision for Features selected in Section 1\", \"yaxis\": {\"dtick\": 0.05, \"tick0\": 0}}, {\"showLink\": true, \"linkText\": \"Export to plot.ly\", \"plotlyServerURL\": \"https://plot.ly\"})});</script><script type=\"text/javascript\">window.addEventListener(\"resize\", function(){window._Plotly.Plots.resize(document.getElementById(\"308bcbd8-0561-4d10-82c8-f1a84c363d00\"));});</script>"
      ]
     },
     "metadata": {},
     "output_type": "display_data"
    }
   ],
   "source": [
    "trace0 = go.Scatter(x=table_80_50_test.iloc[0].index.values[[0,5,6,7]],\n",
    "                    y=table_80_50_test.iloc[0].values[[0,5,6,7]],\n",
    "                    mode = 'lines',\n",
    "                    name = 'KNN_model')\n",
    "\n",
    "trace1 = go.Scatter(x=table_80_50_test.iloc[1].index.values[[0,5,6,7]],\n",
    "                    y=table_80_50_test.iloc[1].values[[0,5,6,7]],\n",
    "                    mode = 'lines+markers',\n",
    "                    name = 'Logistic Regression')\n",
    "\n",
    "trace2 = go.Scatter(x=table_80_50_test.iloc[2].index.values[[0,5,6,7]],\n",
    "                    y=table_80_50_test.iloc[2].values[[0,5,6,7]],\n",
    "                    mode = 'lines+markers',marker=dict(symbol='x'),\n",
    "                    name = 'Random Forest')\n",
    "\n",
    "\n",
    "trace3 = go.Scatter(x=table_80_50_test.iloc[3].index.values[[0,5,6,7]],\n",
    "                    y=table_80_50_test.iloc[3].values[[0,5,6,7]],\n",
    "                    mode = 'lines',\n",
    "                    name = 'Ada Boost')\n",
    "\n",
    "trace4 = go.Scatter(x=table_80_50_test.iloc[4].index.values[[0,5,6,7]],\n",
    "                    y=table_80_50_test.iloc[4].values[[0,5,6,7]],\n",
    "                    mode = 'lines+markers',\n",
    "                    name = 'GradientBoosting')\n",
    "\n",
    "trace5 = go.Scatter(x=table_80_50_test.iloc[5].index.values[[0,5,6,7]],\n",
    "                    y=table_80_50_test.iloc[5].values[[0,5,6,7]],\n",
    "                    mode = 'lines+markers',marker=dict(symbol='x'),\n",
    "                    name = 'ExtraTree Classifier')\n",
    "\n",
    "trace6 = go.Scatter(x=table_80_50_test.iloc[6].index.values[[0,5,6,7]],\n",
    "                    y=table_80_50_test.iloc[6].values[[0,5,6,7]],\n",
    "                    mode = 'lines+markers',marker=dict(symbol='x'),\n",
    "                    name = 'Bagging')\n",
    "\n",
    "trace7 = go.Scatter(x=table_80_50_test.iloc[7].index.values[[0,5,6,7]],\n",
    "                    y=table_80_50_test.iloc[7].values[[0,5,6,7]],\n",
    "                    mode = 'lines+markers',marker=dict(symbol='x'),\n",
    "                    name = 'Neural Network')\n",
    "\n",
    "\n",
    "\n",
    "data = [trace0, trace1, trace2, trace3, trace4, trace5, trace6, trace7]\n",
    "layout = go.Layout(yaxis=dict(tick0=0,dtick=0.05),title='Result comparision for Features selected in Section 1')\n",
    "fig = go.Figure(data=data, layout=layout)\n",
    "\n",
    "iplot(fig, filename='Result')"
   ]
  },
  {
   "cell_type": "code",
   "execution_count": 12,
   "metadata": {},
   "outputs": [
    {
     "name": "stdout",
     "output_type": "stream",
     "text": [
      "Training Results\n"
     ]
    },
    {
     "data": {
      "text/html": [
       "<div>\n",
       "<style scoped>\n",
       "    .dataframe tbody tr th:only-of-type {\n",
       "        vertical-align: middle;\n",
       "    }\n",
       "\n",
       "    .dataframe tbody tr th {\n",
       "        vertical-align: top;\n",
       "    }\n",
       "\n",
       "    .dataframe thead th {\n",
       "        text-align: right;\n",
       "    }\n",
       "</style>\n",
       "<table border=\"1\" class=\"dataframe\">\n",
       "  <thead>\n",
       "    <tr style=\"text-align: right;\">\n",
       "      <th></th>\n",
       "      <th>accuracy</th>\n",
       "      <th>TP</th>\n",
       "      <th>TN</th>\n",
       "      <th>FP</th>\n",
       "      <th>FN</th>\n",
       "      <th>FPR</th>\n",
       "      <th>FNR</th>\n",
       "    </tr>\n",
       "    <tr>\n",
       "      <th>index</th>\n",
       "      <th></th>\n",
       "      <th></th>\n",
       "      <th></th>\n",
       "      <th></th>\n",
       "      <th></th>\n",
       "      <th></th>\n",
       "      <th></th>\n",
       "    </tr>\n",
       "  </thead>\n",
       "  <tbody>\n",
       "    <tr>\n",
       "      <th>KNeighborsClassifier</th>\n",
       "      <td>0.891042</td>\n",
       "      <td>976.0</td>\n",
       "      <td>31711.0</td>\n",
       "      <td>142.0</td>\n",
       "      <td>3855.0</td>\n",
       "      <td>0.004458</td>\n",
       "      <td>0.797971</td>\n",
       "    </tr>\n",
       "    <tr>\n",
       "      <th>LogisticRegression</th>\n",
       "      <td>0.873105</td>\n",
       "      <td>2657.0</td>\n",
       "      <td>29372.0</td>\n",
       "      <td>2481.0</td>\n",
       "      <td>2174.0</td>\n",
       "      <td>0.077889</td>\n",
       "      <td>0.450010</td>\n",
       "    </tr>\n",
       "    <tr>\n",
       "      <th>RandomForestClassifier</th>\n",
       "      <td>0.905681</td>\n",
       "      <td>4363.0</td>\n",
       "      <td>28861.0</td>\n",
       "      <td>2992.0</td>\n",
       "      <td>468.0</td>\n",
       "      <td>0.093931</td>\n",
       "      <td>0.096874</td>\n",
       "    </tr>\n",
       "    <tr>\n",
       "      <th>AdaBoostClassifier</th>\n",
       "      <td>0.881938</td>\n",
       "      <td>3193.0</td>\n",
       "      <td>29160.0</td>\n",
       "      <td>2693.0</td>\n",
       "      <td>1638.0</td>\n",
       "      <td>0.084545</td>\n",
       "      <td>0.339060</td>\n",
       "    </tr>\n",
       "    <tr>\n",
       "      <th>GradientBoostingClassifier</th>\n",
       "      <td>0.894205</td>\n",
       "      <td>3453.0</td>\n",
       "      <td>29350.0</td>\n",
       "      <td>2503.0</td>\n",
       "      <td>1378.0</td>\n",
       "      <td>0.078580</td>\n",
       "      <td>0.285241</td>\n",
       "    </tr>\n",
       "    <tr>\n",
       "      <th>ExtraTreeClassifier</th>\n",
       "      <td>0.907235</td>\n",
       "      <td>4404.0</td>\n",
       "      <td>28877.0</td>\n",
       "      <td>2976.0</td>\n",
       "      <td>427.0</td>\n",
       "      <td>0.093429</td>\n",
       "      <td>0.088387</td>\n",
       "    </tr>\n",
       "    <tr>\n",
       "      <th>BaggingClassifier</th>\n",
       "      <td>0.906008</td>\n",
       "      <td>4375.0</td>\n",
       "      <td>28861.0</td>\n",
       "      <td>2992.0</td>\n",
       "      <td>456.0</td>\n",
       "      <td>0.093931</td>\n",
       "      <td>0.094390</td>\n",
       "    </tr>\n",
       "    <tr>\n",
       "      <th>Neural Network-1</th>\n",
       "      <td>0.883410</td>\n",
       "      <td>3822.0</td>\n",
       "      <td>28585.0</td>\n",
       "      <td>3268.0</td>\n",
       "      <td>1009.0</td>\n",
       "      <td>0.102596</td>\n",
       "      <td>0.208859</td>\n",
       "    </tr>\n",
       "  </tbody>\n",
       "</table>\n",
       "</div>"
      ],
      "text/plain": [
       "                            accuracy      TP       TN      FP      FN  \\\n",
       "index                                                                   \n",
       "KNeighborsClassifier        0.891042   976.0  31711.0   142.0  3855.0   \n",
       "LogisticRegression          0.873105  2657.0  29372.0  2481.0  2174.0   \n",
       "RandomForestClassifier      0.905681  4363.0  28861.0  2992.0   468.0   \n",
       "AdaBoostClassifier          0.881938  3193.0  29160.0  2693.0  1638.0   \n",
       "GradientBoostingClassifier  0.894205  3453.0  29350.0  2503.0  1378.0   \n",
       "ExtraTreeClassifier         0.907235  4404.0  28877.0  2976.0   427.0   \n",
       "BaggingClassifier           0.906008  4375.0  28861.0  2992.0   456.0   \n",
       "Neural Network-1            0.883410  3822.0  28585.0  3268.0  1009.0   \n",
       "\n",
       "                                 FPR       FNR  \n",
       "index                                           \n",
       "KNeighborsClassifier        0.004458  0.797971  \n",
       "LogisticRegression          0.077889  0.450010  \n",
       "RandomForestClassifier      0.093931  0.096874  \n",
       "AdaBoostClassifier          0.084545  0.339060  \n",
       "GradientBoostingClassifier  0.078580  0.285241  \n",
       "ExtraTreeClassifier         0.093429  0.088387  \n",
       "BaggingClassifier           0.093931  0.094390  \n",
       "Neural Network-1            0.102596  0.208859  "
      ]
     },
     "metadata": {},
     "output_type": "display_data"
    },
    {
     "name": "stdout",
     "output_type": "stream",
     "text": [
      "Test Results\n"
     ]
    },
    {
     "data": {
      "text/html": [
       "<div>\n",
       "<style scoped>\n",
       "    .dataframe tbody tr th:only-of-type {\n",
       "        vertical-align: middle;\n",
       "    }\n",
       "\n",
       "    .dataframe tbody tr th {\n",
       "        vertical-align: top;\n",
       "    }\n",
       "\n",
       "    .dataframe thead th {\n",
       "        text-align: right;\n",
       "    }\n",
       "</style>\n",
       "<table border=\"1\" class=\"dataframe\">\n",
       "  <thead>\n",
       "    <tr style=\"text-align: right;\">\n",
       "      <th></th>\n",
       "      <th>accuracy</th>\n",
       "      <th>TP</th>\n",
       "      <th>TN</th>\n",
       "      <th>FP</th>\n",
       "      <th>FN</th>\n",
       "      <th>FPR</th>\n",
       "      <th>FNR</th>\n",
       "      <th>auc</th>\n",
       "      <th>MCC</th>\n",
       "    </tr>\n",
       "    <tr>\n",
       "      <th>index</th>\n",
       "      <th></th>\n",
       "      <th></th>\n",
       "      <th></th>\n",
       "      <th></th>\n",
       "      <th></th>\n",
       "      <th></th>\n",
       "      <th></th>\n",
       "      <th></th>\n",
       "      <th></th>\n",
       "    </tr>\n",
       "  </thead>\n",
       "  <tbody>\n",
       "    <tr>\n",
       "      <th>KNeighborsClassifier</th>\n",
       "      <td>0.892935</td>\n",
       "      <td>254.0</td>\n",
       "      <td>7936.0</td>\n",
       "      <td>46.0</td>\n",
       "      <td>936.0</td>\n",
       "      <td>0.005763</td>\n",
       "      <td>0.786555</td>\n",
       "      <td>0.603841</td>\n",
       "      <td>0.392336</td>\n",
       "    </tr>\n",
       "    <tr>\n",
       "      <th>LogisticRegression</th>\n",
       "      <td>0.873746</td>\n",
       "      <td>650.0</td>\n",
       "      <td>7364.0</td>\n",
       "      <td>618.0</td>\n",
       "      <td>540.0</td>\n",
       "      <td>0.077424</td>\n",
       "      <td>0.453782</td>\n",
       "      <td>0.734397</td>\n",
       "      <td>0.456382</td>\n",
       "    </tr>\n",
       "    <tr>\n",
       "      <th>RandomForestClassifier</th>\n",
       "      <td>0.898604</td>\n",
       "      <td>1031.0</td>\n",
       "      <td>7211.0</td>\n",
       "      <td>771.0</td>\n",
       "      <td>159.0</td>\n",
       "      <td>0.096592</td>\n",
       "      <td>0.133613</td>\n",
       "      <td>0.884897</td>\n",
       "      <td>0.651018</td>\n",
       "    </tr>\n",
       "    <tr>\n",
       "      <th>AdaBoostClassifier</th>\n",
       "      <td>0.886066</td>\n",
       "      <td>806.0</td>\n",
       "      <td>7321.0</td>\n",
       "      <td>661.0</td>\n",
       "      <td>384.0</td>\n",
       "      <td>0.082811</td>\n",
       "      <td>0.322689</td>\n",
       "      <td>0.797250</td>\n",
       "      <td>0.544979</td>\n",
       "    </tr>\n",
       "    <tr>\n",
       "      <th>GradientBoostingClassifier</th>\n",
       "      <td>0.894352</td>\n",
       "      <td>854.0</td>\n",
       "      <td>7349.0</td>\n",
       "      <td>633.0</td>\n",
       "      <td>336.0</td>\n",
       "      <td>0.079303</td>\n",
       "      <td>0.282353</td>\n",
       "      <td>0.819172</td>\n",
       "      <td>0.581978</td>\n",
       "    </tr>\n",
       "    <tr>\n",
       "      <th>ExtraTreeClassifier</th>\n",
       "      <td>0.897841</td>\n",
       "      <td>1038.0</td>\n",
       "      <td>7197.0</td>\n",
       "      <td>785.0</td>\n",
       "      <td>152.0</td>\n",
       "      <td>0.098346</td>\n",
       "      <td>0.127731</td>\n",
       "      <td>0.886961</td>\n",
       "      <td>0.651658</td>\n",
       "    </tr>\n",
       "    <tr>\n",
       "      <th>BaggingClassifier</th>\n",
       "      <td>0.901003</td>\n",
       "      <td>1043.0</td>\n",
       "      <td>7221.0</td>\n",
       "      <td>761.0</td>\n",
       "      <td>147.0</td>\n",
       "      <td>0.095340</td>\n",
       "      <td>0.123529</td>\n",
       "      <td>0.890566</td>\n",
       "      <td>0.660329</td>\n",
       "    </tr>\n",
       "    <tr>\n",
       "      <th>Neural Network-1</th>\n",
       "      <td>0.888574</td>\n",
       "      <td>944.0</td>\n",
       "      <td>7206.0</td>\n",
       "      <td>776.0</td>\n",
       "      <td>246.0</td>\n",
       "      <td>0.097219</td>\n",
       "      <td>0.206723</td>\n",
       "      <td>0.890566</td>\n",
       "      <td>0.599204</td>\n",
       "    </tr>\n",
       "  </tbody>\n",
       "</table>\n",
       "</div>"
      ],
      "text/plain": [
       "                            accuracy      TP      TN     FP     FN       FPR  \\\n",
       "index                                                                          \n",
       "KNeighborsClassifier        0.892935   254.0  7936.0   46.0  936.0  0.005763   \n",
       "LogisticRegression          0.873746   650.0  7364.0  618.0  540.0  0.077424   \n",
       "RandomForestClassifier      0.898604  1031.0  7211.0  771.0  159.0  0.096592   \n",
       "AdaBoostClassifier          0.886066   806.0  7321.0  661.0  384.0  0.082811   \n",
       "GradientBoostingClassifier  0.894352   854.0  7349.0  633.0  336.0  0.079303   \n",
       "ExtraTreeClassifier         0.897841  1038.0  7197.0  785.0  152.0  0.098346   \n",
       "BaggingClassifier           0.901003  1043.0  7221.0  761.0  147.0  0.095340   \n",
       "Neural Network-1            0.888574   944.0  7206.0  776.0  246.0  0.097219   \n",
       "\n",
       "                                 FNR       auc       MCC  \n",
       "index                                                     \n",
       "KNeighborsClassifier        0.786555  0.603841  0.392336  \n",
       "LogisticRegression          0.453782  0.734397  0.456382  \n",
       "RandomForestClassifier      0.133613  0.884897  0.651018  \n",
       "AdaBoostClassifier          0.322689  0.797250  0.544979  \n",
       "GradientBoostingClassifier  0.282353  0.819172  0.581978  \n",
       "ExtraTreeClassifier         0.127731  0.886961  0.651658  \n",
       "BaggingClassifier           0.123529  0.890566  0.660329  \n",
       "Neural Network-1            0.206723  0.890566  0.599204  "
      ]
     },
     "metadata": {},
     "output_type": "display_data"
    }
   ],
   "source": [
    "table_80_50_train['index']=ind_columns\n",
    "table_80_50_test['index']=ind_columns\n",
    "\n",
    "\n",
    "table_80_50_test.set_index(['index'],drop=True,inplace=True)\n",
    "table_80_50_train.set_index(['index'],drop=True,inplace=True)\n",
    "\n",
    "print(\"Training Results\")\n",
    "display(table_80_50_train)\n",
    "print(\"Test Results\")\n",
    "display(table_80_50_test)"
   ]
  },
  {
   "cell_type": "markdown",
   "metadata": {},
   "source": [
    "### <a id='1.B' style=\"text-decoration : none; color : #000000;\"> B. Average Feature Importances</a>"
   ]
  },
  {
   "cell_type": "code",
   "execution_count": 13,
   "metadata": {},
   "outputs": [
    {
     "data": {
      "application/vnd.plotly.v1+json": {
       "config": {
        "linkText": "Export to plot.ly",
        "plotlyServerURL": "https://plot.ly",
        "showLink": true
       },
       "data": [
        {
         "marker": {
          "color": "rgb(158,202,225)",
          "line": {
           "color": "rgb(8,48,107)",
           "width": 1.5
          }
         },
         "opacity": 0.6,
         "orientation": "h",
         "text": [
          0.4473,
          0.2277,
          0.1653,
          0.0485,
          0.0242,
          0.0236,
          0.0183,
          0.0148,
          0.0135,
          0.0085,
          0.0083
         ],
         "textposition": "outside",
         "type": "bar",
         "uid": "30570a6a-1757-4102-ba2e-6e273a5595e1",
         "x": [
          0.4473161429841888,
          0.22773299838178301,
          0.16525591118675143,
          0.04846776666269348,
          0.02419025935703622,
          0.02363463870131623,
          0.018271355697949,
          0.014786266733678588,
          0.013473515757336223,
          0.008545988582508806,
          0.00832515595475815
         ],
         "y": [
          "http_header_content-length",
          "http_header_content-encoding_gzip",
          "http_header_content-language_text/html",
          "http_header_server_apache",
          "http_header_cache-control_set_max-age",
          "http_header_server_nginx",
          "http_header_cache-control_set_no-cache",
          "http_header_cache-control_set_private",
          "http_header_cache-control_set_no-store",
          "http_header_cache-control_set_must-revalidate",
          "http_header_cache-control_set_public"
         ]
        }
       ],
       "layout": {
        "autosize": false,
        "height": 1000,
        "width": 1000,
        "xaxis": {
         "tickfont": {
          "color": "black",
          "size": 12
         },
         "title": "Feature Importances"
        },
        "yaxis": {
         "automargin": true
        }
       }
      },
      "text/html": [
       "<div id=\"73edafa8-73ca-4d81-b780-332aeefa6793\" style=\"height: 1000px; width: 1000px;\" class=\"plotly-graph-div\"></div><script type=\"text/javascript\">require([\"plotly\"], function(Plotly) { window.PLOTLYENV=window.PLOTLYENV || {};window.PLOTLYENV.BASE_URL=\"https://plot.ly\";Plotly.newPlot(\"73edafa8-73ca-4d81-b780-332aeefa6793\", [{\"marker\": {\"color\": \"rgb(158,202,225)\", \"line\": {\"color\": \"rgb(8,48,107)\", \"width\": 1.5}}, \"opacity\": 0.6, \"orientation\": \"h\", \"text\": [0.4473, 0.2277, 0.1653, 0.0485, 0.0242, 0.0236, 0.0183, 0.0148, 0.0135, 0.0085, 0.0083], \"textposition\": \"outside\", \"x\": [0.4473161429841888, 0.22773299838178301, 0.16525591118675143, 0.04846776666269348, 0.02419025935703622, 0.02363463870131623, 0.018271355697949, 0.014786266733678588, 0.013473515757336223, 0.008545988582508806, 0.00832515595475815], \"y\": [\"http_header_content-length\", \"http_header_content-encoding_gzip\", \"http_header_content-language_text/html\", \"http_header_server_apache\", \"http_header_cache-control_set_max-age\", \"http_header_server_nginx\", \"http_header_cache-control_set_no-cache\", \"http_header_cache-control_set_private\", \"http_header_cache-control_set_no-store\", \"http_header_cache-control_set_must-revalidate\", \"http_header_cache-control_set_public\"], \"type\": \"bar\", \"uid\": \"30570a6a-1757-4102-ba2e-6e273a5595e1\"}], {\"autosize\": false, \"height\": 1000, \"width\": 1000, \"xaxis\": {\"tickfont\": {\"color\": \"black\", \"size\": 12}, \"title\": \"Feature Importances\"}, \"yaxis\": {\"automargin\": true}}, {\"showLink\": true, \"linkText\": \"Export to plot.ly\", \"plotlyServerURL\": \"https://plot.ly\"})});</script>"
      ],
      "text/vnd.plotly.v1+html": [
       "<div id=\"73edafa8-73ca-4d81-b780-332aeefa6793\" style=\"height: 1000px; width: 1000px;\" class=\"plotly-graph-div\"></div><script type=\"text/javascript\">require([\"plotly\"], function(Plotly) { window.PLOTLYENV=window.PLOTLYENV || {};window.PLOTLYENV.BASE_URL=\"https://plot.ly\";Plotly.newPlot(\"73edafa8-73ca-4d81-b780-332aeefa6793\", [{\"marker\": {\"color\": \"rgb(158,202,225)\", \"line\": {\"color\": \"rgb(8,48,107)\", \"width\": 1.5}}, \"opacity\": 0.6, \"orientation\": \"h\", \"text\": [0.4473, 0.2277, 0.1653, 0.0485, 0.0242, 0.0236, 0.0183, 0.0148, 0.0135, 0.0085, 0.0083], \"textposition\": \"outside\", \"x\": [0.4473161429841888, 0.22773299838178301, 0.16525591118675143, 0.04846776666269348, 0.02419025935703622, 0.02363463870131623, 0.018271355697949, 0.014786266733678588, 0.013473515757336223, 0.008545988582508806, 0.00832515595475815], \"y\": [\"http_header_content-length\", \"http_header_content-encoding_gzip\", \"http_header_content-language_text/html\", \"http_header_server_apache\", \"http_header_cache-control_set_max-age\", \"http_header_server_nginx\", \"http_header_cache-control_set_no-cache\", \"http_header_cache-control_set_private\", \"http_header_cache-control_set_no-store\", \"http_header_cache-control_set_must-revalidate\", \"http_header_cache-control_set_public\"], \"type\": \"bar\", \"uid\": \"30570a6a-1757-4102-ba2e-6e273a5595e1\"}], {\"autosize\": false, \"height\": 1000, \"width\": 1000, \"xaxis\": {\"tickfont\": {\"color\": \"black\", \"size\": 12}, \"title\": \"Feature Importances\"}, \"yaxis\": {\"automargin\": true}}, {\"showLink\": true, \"linkText\": \"Export to plot.ly\", \"plotlyServerURL\": \"https://plot.ly\"})});</script>"
      ]
     },
     "metadata": {},
     "output_type": "display_data"
    }
   ],
   "source": [
    "feat_impt_plot(np.average(feat_imp,axis=0),columns[:-2])"
   ]
  },
  {
   "cell_type": "markdown",
   "metadata": {},
   "source": [
    "### <a id='2' style=\"text-decoration : none; color : #000000;\"> 2. OverSampling </a>"
   ]
  },
  {
   "cell_type": "code",
   "execution_count": 14,
   "metadata": {},
   "outputs": [
    {
     "name": "stderr",
     "output_type": "stream",
     "text": [
      "/nethomes/darshan/anaconda3/lib/python3.6/site-packages/sklearn/utils/deprecation.py:77: DeprecationWarning:\n",
      "\n",
      "Function _ratio_float is deprecated; Use a float for 'ratio' is deprecated from version 0.2. The support will be removed in 0.4. Use a dict, str, or a callable instead.\n",
      "\n"
     ]
    }
   ],
   "source": [
    "sm = SMOTE(random_state=12, ratio = 1.0)\n",
    "X_train, Y_train = sm.fit_sample(scaled_X_train,train_Y)"
   ]
  },
  {
   "cell_type": "code",
   "execution_count": 15,
   "metadata": {
    "collapsed": true
   },
   "outputs": [],
   "source": [
    "## Table to store training and test measures so we can compare later\n",
    "table_80_80_train=pd.DataFrame(columns=['accuracy','TP','TN','FP','FN','FPR','FNR'])\n",
    "table_80_80_test=pd.DataFrame(columns=['accuracy','TP','TN','FP','FN','FPR','FNR','auc','mcc'])"
   ]
  },
  {
   "cell_type": "code",
   "execution_count": 16,
   "metadata": {
    "scrolled": false
   },
   "outputs": [
    {
     "name": "stdout",
     "output_type": "stream",
     "text": [
      "\u001b[1mK-Nearest Neighbors\u001b[0m\n",
      "Accuracy of the model for training data is: 0.618607352526\n",
      "Confusion Matrix for training data is:\n"
     ]
    },
    {
     "data": {
      "text/plain": [
       "Predicted  False  True  __all__\n",
       "Actual                         \n",
       "False      31226   627    31853\n",
       "True       23670  8183    31853\n",
       "__all__    54896  8810    63706"
      ]
     },
     "metadata": {},
     "output_type": "display_data"
    },
    {
     "name": "stdout",
     "output_type": "stream",
     "text": [
      "Accuracy of the model for test data is: 0.879197557785\n",
      "Confusion Matrix for test data is:\n"
     ]
    },
    {
     "data": {
      "text/plain": [
       "Predicted  False  True  __all__\n",
       "Actual                         \n",
       "False       7768   214     7982\n",
       "True         894   296     1190\n",
       "__all__     8662   510     9172"
      ]
     },
     "metadata": {},
     "output_type": "display_data"
    },
    {
     "name": "stdout",
     "output_type": "stream",
     "text": [
      "\n",
      "\n",
      "\u001b[1mLogistic Regression\u001b[0m\n",
      "Accuracy of the model for training data is: 0.827473079459\n",
      "Confusion Matrix for training data is:\n"
     ]
    },
    {
     "data": {
      "text/plain": [
       "Predicted  False   True  __all__\n",
       "Actual                          \n",
       "False      26109   5744    31853\n",
       "True        5247  26606    31853\n",
       "__all__    31356  32350    63706"
      ]
     },
     "metadata": {},
     "output_type": "display_data"
    },
    {
     "name": "stdout",
     "output_type": "stream",
     "text": [
      "Accuracy of the model for test data is: 0.822721325774\n",
      "Confusion Matrix for test data is:\n"
     ]
    },
    {
     "data": {
      "text/plain": [
       "Predicted  False  True  __all__\n",
       "Actual                         \n",
       "False       6549  1433     7982\n",
       "True         193   997     1190\n",
       "__all__     6742  2430     9172"
      ]
     },
     "metadata": {},
     "output_type": "display_data"
    },
    {
     "name": "stdout",
     "output_type": "stream",
     "text": [
      "\n",
      "\n",
      "\u001b[1mRandomForest Classifier\u001b[0m\n",
      "Accuracy of the model for training data is: 0.917213449283\n",
      "Confusion Matrix for training data is:\n"
     ]
    },
    {
     "data": {
      "text/plain": [
       "Predicted  False   True  __all__\n",
       "Actual                          \n",
       "False      28651   3202    31853\n",
       "True        2072  29781    31853\n",
       "__all__    30723  32983    63706"
      ]
     },
     "metadata": {},
     "output_type": "display_data"
    },
    {
     "name": "stdout",
     "output_type": "stream",
     "text": [
      "Accuracy of the model for test data is: 0.88508504143\n",
      "Confusion Matrix for test data is:\n"
     ]
    },
    {
     "data": {
      "text/plain": [
       "Predicted  False  True  __all__\n",
       "Actual                         \n",
       "False       7051   931     7982\n",
       "True         123  1067     1190\n",
       "__all__     7174  1998     9172"
      ]
     },
     "metadata": {},
     "output_type": "display_data"
    },
    {
     "data": {
      "application/vnd.plotly.v1+json": {
       "config": {
        "linkText": "Export to plot.ly",
        "plotlyServerURL": "https://plot.ly",
        "showLink": true
       },
       "data": [
        {
         "marker": {
          "color": "rgb(158,202,225)",
          "line": {
           "color": "rgb(8,48,107)",
           "width": 1.5
          }
         },
         "opacity": 0.6,
         "orientation": "h",
         "text": [
          0.2646,
          0.2589,
          0.1807,
          0.0835,
          0.0699,
          0.0321,
          0.0316,
          0.0273,
          0.0241,
          0.0146,
          0.0127
         ],
         "textposition": "outside",
         "type": "bar",
         "uid": "8c700ac0-6f89-4c9f-ab7d-ae6bf7afd4d9",
         "x": [
          0.26462690120128274,
          0.25892637537062946,
          0.1806738756614254,
          0.08350629862222009,
          0.06988816363031529,
          0.03205768033258636,
          0.031640342585647886,
          0.027308262633868756,
          0.02409562329603874,
          0.014569887786387134,
          0.012706588879598227
         ],
         "y": [
          "http_header_content-encoding_gzip",
          "http_header_content-length",
          "http_header_content-language_text/html",
          "http_header_server_apache",
          "http_header_cache-control_set_max-age",
          "http_header_cache-control_set_no-cache",
          "http_header_server_nginx",
          "http_header_cache-control_set_private",
          "http_header_cache-control_set_must-revalidate",
          "http_header_cache-control_set_public",
          "http_header_cache-control_set_no-store"
         ]
        }
       ],
       "layout": {
        "autosize": false,
        "height": 1000,
        "width": 1000,
        "xaxis": {
         "tickfont": {
          "color": "black",
          "size": 12
         },
         "title": "Feature Importances"
        },
        "yaxis": {
         "automargin": true
        }
       }
      },
      "text/html": [
       "<div id=\"55468f99-d518-4b8a-833c-8fdd4897a7dd\" style=\"height: 1000px; width: 1000px;\" class=\"plotly-graph-div\"></div><script type=\"text/javascript\">require([\"plotly\"], function(Plotly) { window.PLOTLYENV=window.PLOTLYENV || {};window.PLOTLYENV.BASE_URL=\"https://plot.ly\";Plotly.newPlot(\"55468f99-d518-4b8a-833c-8fdd4897a7dd\", [{\"marker\": {\"color\": \"rgb(158,202,225)\", \"line\": {\"color\": \"rgb(8,48,107)\", \"width\": 1.5}}, \"opacity\": 0.6, \"orientation\": \"h\", \"text\": [0.2646, 0.2589, 0.1807, 0.0835, 0.0699, 0.0321, 0.0316, 0.0273, 0.0241, 0.0146, 0.0127], \"textposition\": \"outside\", \"x\": [0.26462690120128274, 0.25892637537062946, 0.1806738756614254, 0.08350629862222009, 0.06988816363031529, 0.03205768033258636, 0.031640342585647886, 0.027308262633868756, 0.02409562329603874, 0.014569887786387134, 0.012706588879598227], \"y\": [\"http_header_content-encoding_gzip\", \"http_header_content-length\", \"http_header_content-language_text/html\", \"http_header_server_apache\", \"http_header_cache-control_set_max-age\", \"http_header_cache-control_set_no-cache\", \"http_header_server_nginx\", \"http_header_cache-control_set_private\", \"http_header_cache-control_set_must-revalidate\", \"http_header_cache-control_set_public\", \"http_header_cache-control_set_no-store\"], \"type\": \"bar\", \"uid\": \"8c700ac0-6f89-4c9f-ab7d-ae6bf7afd4d9\"}], {\"autosize\": false, \"height\": 1000, \"width\": 1000, \"xaxis\": {\"tickfont\": {\"color\": \"black\", \"size\": 12}, \"title\": \"Feature Importances\"}, \"yaxis\": {\"automargin\": true}}, {\"showLink\": true, \"linkText\": \"Export to plot.ly\", \"plotlyServerURL\": \"https://plot.ly\"})});</script>"
      ],
      "text/vnd.plotly.v1+html": [
       "<div id=\"55468f99-d518-4b8a-833c-8fdd4897a7dd\" style=\"height: 1000px; width: 1000px;\" class=\"plotly-graph-div\"></div><script type=\"text/javascript\">require([\"plotly\"], function(Plotly) { window.PLOTLYENV=window.PLOTLYENV || {};window.PLOTLYENV.BASE_URL=\"https://plot.ly\";Plotly.newPlot(\"55468f99-d518-4b8a-833c-8fdd4897a7dd\", [{\"marker\": {\"color\": \"rgb(158,202,225)\", \"line\": {\"color\": \"rgb(8,48,107)\", \"width\": 1.5}}, \"opacity\": 0.6, \"orientation\": \"h\", \"text\": [0.2646, 0.2589, 0.1807, 0.0835, 0.0699, 0.0321, 0.0316, 0.0273, 0.0241, 0.0146, 0.0127], \"textposition\": \"outside\", \"x\": [0.26462690120128274, 0.25892637537062946, 0.1806738756614254, 0.08350629862222009, 0.06988816363031529, 0.03205768033258636, 0.031640342585647886, 0.027308262633868756, 0.02409562329603874, 0.014569887786387134, 0.012706588879598227], \"y\": [\"http_header_content-encoding_gzip\", \"http_header_content-length\", \"http_header_content-language_text/html\", \"http_header_server_apache\", \"http_header_cache-control_set_max-age\", \"http_header_cache-control_set_no-cache\", \"http_header_server_nginx\", \"http_header_cache-control_set_private\", \"http_header_cache-control_set_must-revalidate\", \"http_header_cache-control_set_public\", \"http_header_cache-control_set_no-store\"], \"type\": \"bar\", \"uid\": \"8c700ac0-6f89-4c9f-ab7d-ae6bf7afd4d9\"}], {\"autosize\": false, \"height\": 1000, \"width\": 1000, \"xaxis\": {\"tickfont\": {\"color\": \"black\", \"size\": 12}, \"title\": \"Feature Importances\"}, \"yaxis\": {\"automargin\": true}}, {\"showLink\": true, \"linkText\": \"Export to plot.ly\", \"plotlyServerURL\": \"https://plot.ly\"})});</script>"
      ]
     },
     "metadata": {},
     "output_type": "display_data"
    },
    {
     "name": "stdout",
     "output_type": "stream",
     "text": [
      "\n",
      "\n",
      "\u001b[1mAdaoost Classifier\u001b[0m\n",
      "Accuracy of the model for training data is: 0.855037202147\n",
      "Confusion Matrix for training data is:\n"
     ]
    },
    {
     "data": {
      "text/plain": [
       "Predicted  False   True  __all__\n",
       "Actual                          \n",
       "False      26154   5699    31853\n",
       "True        3536  28317    31853\n",
       "__all__    29690  34016    63706"
      ]
     },
     "metadata": {},
     "output_type": "display_data"
    },
    {
     "name": "stdout",
     "output_type": "stream",
     "text": [
      "Accuracy of the model for test data is: 0.829153946795\n",
      "Confusion Matrix for test data is:\n"
     ]
    },
    {
     "data": {
      "text/plain": [
       "Predicted  False  True  __all__\n",
       "Actual                         \n",
       "False       6555  1427     7982\n",
       "True         140  1050     1190\n",
       "__all__     6695  2477     9172"
      ]
     },
     "metadata": {},
     "output_type": "display_data"
    },
    {
     "data": {
      "application/vnd.plotly.v1+json": {
       "config": {
        "linkText": "Export to plot.ly",
        "plotlyServerURL": "https://plot.ly",
        "showLink": true
       },
       "data": [
        {
         "marker": {
          "color": "rgb(158,202,225)",
          "line": {
           "color": "rgb(8,48,107)",
           "width": 1.5
          }
         },
         "opacity": 0.6,
         "orientation": "h",
         "text": [
          0.74,
          0.06,
          0.04,
          0.04,
          0.04,
          0.02,
          0.02,
          0.02,
          0.02,
          0,
          0
         ],
         "textposition": "outside",
         "type": "bar",
         "uid": "8e3f71cc-10c1-45bc-9e47-cfdd85959578",
         "x": [
          0.74,
          0.06,
          0.04,
          0.04,
          0.04,
          0.02,
          0.02,
          0.02,
          0.02,
          0,
          0
         ],
         "y": [
          "http_header_content-length",
          "http_header_content-encoding_gzip",
          "http_header_cache-control_set_max-age",
          "http_header_content-language_text/html",
          "http_header_server_nginx",
          "http_header_cache-control_set_no-store",
          "http_header_cache-control_set_private",
          "http_header_cache-control_set_public",
          "http_header_server_apache",
          "http_header_cache-control_set_must-revalidate",
          "http_header_cache-control_set_no-cache"
         ]
        }
       ],
       "layout": {
        "autosize": false,
        "height": 1000,
        "width": 1000,
        "xaxis": {
         "tickfont": {
          "color": "black",
          "size": 12
         },
         "title": "Feature Importances"
        },
        "yaxis": {
         "automargin": true
        }
       }
      },
      "text/html": [
       "<div id=\"ac93d84a-b794-4996-a012-9825c772660a\" style=\"height: 1000px; width: 1000px;\" class=\"plotly-graph-div\"></div><script type=\"text/javascript\">require([\"plotly\"], function(Plotly) { window.PLOTLYENV=window.PLOTLYENV || {};window.PLOTLYENV.BASE_URL=\"https://plot.ly\";Plotly.newPlot(\"ac93d84a-b794-4996-a012-9825c772660a\", [{\"marker\": {\"color\": \"rgb(158,202,225)\", \"line\": {\"color\": \"rgb(8,48,107)\", \"width\": 1.5}}, \"opacity\": 0.6, \"orientation\": \"h\", \"text\": [0.74, 0.06, 0.04, 0.04, 0.04, 0.02, 0.02, 0.02, 0.02, 0.0, 0.0], \"textposition\": \"outside\", \"x\": [0.74, 0.06, 0.04, 0.04, 0.04, 0.02, 0.02, 0.02, 0.02, 0.0, 0.0], \"y\": [\"http_header_content-length\", \"http_header_content-encoding_gzip\", \"http_header_cache-control_set_max-age\", \"http_header_content-language_text/html\", \"http_header_server_nginx\", \"http_header_cache-control_set_no-store\", \"http_header_cache-control_set_private\", \"http_header_cache-control_set_public\", \"http_header_server_apache\", \"http_header_cache-control_set_must-revalidate\", \"http_header_cache-control_set_no-cache\"], \"type\": \"bar\", \"uid\": \"8e3f71cc-10c1-45bc-9e47-cfdd85959578\"}], {\"autosize\": false, \"height\": 1000, \"width\": 1000, \"xaxis\": {\"tickfont\": {\"color\": \"black\", \"size\": 12}, \"title\": \"Feature Importances\"}, \"yaxis\": {\"automargin\": true}}, {\"showLink\": true, \"linkText\": \"Export to plot.ly\", \"plotlyServerURL\": \"https://plot.ly\"})});</script>"
      ],
      "text/vnd.plotly.v1+html": [
       "<div id=\"ac93d84a-b794-4996-a012-9825c772660a\" style=\"height: 1000px; width: 1000px;\" class=\"plotly-graph-div\"></div><script type=\"text/javascript\">require([\"plotly\"], function(Plotly) { window.PLOTLYENV=window.PLOTLYENV || {};window.PLOTLYENV.BASE_URL=\"https://plot.ly\";Plotly.newPlot(\"ac93d84a-b794-4996-a012-9825c772660a\", [{\"marker\": {\"color\": \"rgb(158,202,225)\", \"line\": {\"color\": \"rgb(8,48,107)\", \"width\": 1.5}}, \"opacity\": 0.6, \"orientation\": \"h\", \"text\": [0.74, 0.06, 0.04, 0.04, 0.04, 0.02, 0.02, 0.02, 0.02, 0.0, 0.0], \"textposition\": \"outside\", \"x\": [0.74, 0.06, 0.04, 0.04, 0.04, 0.02, 0.02, 0.02, 0.02, 0.0, 0.0], \"y\": [\"http_header_content-length\", \"http_header_content-encoding_gzip\", \"http_header_cache-control_set_max-age\", \"http_header_content-language_text/html\", \"http_header_server_nginx\", \"http_header_cache-control_set_no-store\", \"http_header_cache-control_set_private\", \"http_header_cache-control_set_public\", \"http_header_server_apache\", \"http_header_cache-control_set_must-revalidate\", \"http_header_cache-control_set_no-cache\"], \"type\": \"bar\", \"uid\": \"8e3f71cc-10c1-45bc-9e47-cfdd85959578\"}], {\"autosize\": false, \"height\": 1000, \"width\": 1000, \"xaxis\": {\"tickfont\": {\"color\": \"black\", \"size\": 12}, \"title\": \"Feature Importances\"}, \"yaxis\": {\"automargin\": true}}, {\"showLink\": true, \"linkText\": \"Export to plot.ly\", \"plotlyServerURL\": \"https://plot.ly\"})});</script>"
      ]
     },
     "metadata": {},
     "output_type": "display_data"
    },
    {
     "name": "stdout",
     "output_type": "stream",
     "text": [
      "\n",
      "\n",
      "\u001b[1mGradientBoosting Classifier\u001b[0m\n",
      "Accuracy of the model for training data is: 0.880639186262\n",
      "Confusion Matrix for training data is:\n"
     ]
    },
    {
     "data": {
      "text/plain": [
       "Predicted  False   True  __all__\n",
       "Actual                          \n",
       "False      27426   4427    31853\n",
       "True        3177  28676    31853\n",
       "__all__    30603  33103    63706"
      ]
     },
     "metadata": {},
     "output_type": "display_data"
    },
    {
     "name": "stdout",
     "output_type": "stream",
     "text": [
      "Accuracy of the model for test data is: 0.867640645443\n",
      "Confusion Matrix for test data is:\n"
     ]
    },
    {
     "data": {
      "text/plain": [
       "Predicted  False  True  __all__\n",
       "Actual                         \n",
       "False       6889  1093     7982\n",
       "True         121  1069     1190\n",
       "__all__     7010  2162     9172"
      ]
     },
     "metadata": {},
     "output_type": "display_data"
    },
    {
     "data": {
      "application/vnd.plotly.v1+json": {
       "config": {
        "linkText": "Export to plot.ly",
        "plotlyServerURL": "https://plot.ly",
        "showLink": true
       },
       "data": [
        {
         "marker": {
          "color": "rgb(158,202,225)",
          "line": {
           "color": "rgb(8,48,107)",
           "width": 1.5
          }
         },
         "opacity": 0.6,
         "orientation": "h",
         "text": [
          0.6257,
          0.2239,
          0.0398,
          0.0318,
          0.0303,
          0.0177,
          0.0127,
          0.0064,
          0.006,
          0.0045,
          0.0012
         ],
         "textposition": "outside",
         "type": "bar",
         "uid": "7e9db00d-a99e-4155-b04c-4c263536ea30",
         "x": [
          0.6257049218751627,
          0.2238765598186983,
          0.039769923476915145,
          0.03183051656364029,
          0.03028777375332344,
          0.017678879808777248,
          0.012700393639855444,
          0.006436068034545358,
          0.006016442045685009,
          0.004514074058435477,
          0.001184446924961602
         ],
         "y": [
          "http_header_content-encoding_gzip",
          "http_header_content-length",
          "http_header_server_apache",
          "http_header_content-language_text/html",
          "http_header_cache-control_set_max-age",
          "http_header_cache-control_set_no-cache",
          "http_header_server_nginx",
          "http_header_cache-control_set_no-store",
          "http_header_cache-control_set_private",
          "http_header_cache-control_set_must-revalidate",
          "http_header_cache-control_set_public"
         ]
        }
       ],
       "layout": {
        "autosize": false,
        "height": 1000,
        "width": 1000,
        "xaxis": {
         "tickfont": {
          "color": "black",
          "size": 12
         },
         "title": "Feature Importances"
        },
        "yaxis": {
         "automargin": true
        }
       }
      },
      "text/html": [
       "<div id=\"4096e716-5137-42aa-971f-1946d9551900\" style=\"height: 1000px; width: 1000px;\" class=\"plotly-graph-div\"></div><script type=\"text/javascript\">require([\"plotly\"], function(Plotly) { window.PLOTLYENV=window.PLOTLYENV || {};window.PLOTLYENV.BASE_URL=\"https://plot.ly\";Plotly.newPlot(\"4096e716-5137-42aa-971f-1946d9551900\", [{\"marker\": {\"color\": \"rgb(158,202,225)\", \"line\": {\"color\": \"rgb(8,48,107)\", \"width\": 1.5}}, \"opacity\": 0.6, \"orientation\": \"h\", \"text\": [0.6257, 0.2239, 0.0398, 0.0318, 0.0303, 0.0177, 0.0127, 0.0064, 0.006, 0.0045, 0.0012], \"textposition\": \"outside\", \"x\": [0.6257049218751627, 0.2238765598186983, 0.039769923476915145, 0.03183051656364029, 0.03028777375332344, 0.017678879808777248, 0.012700393639855444, 0.006436068034545358, 0.006016442045685009, 0.004514074058435477, 0.001184446924961602], \"y\": [\"http_header_content-encoding_gzip\", \"http_header_content-length\", \"http_header_server_apache\", \"http_header_content-language_text/html\", \"http_header_cache-control_set_max-age\", \"http_header_cache-control_set_no-cache\", \"http_header_server_nginx\", \"http_header_cache-control_set_no-store\", \"http_header_cache-control_set_private\", \"http_header_cache-control_set_must-revalidate\", \"http_header_cache-control_set_public\"], \"type\": \"bar\", \"uid\": \"7e9db00d-a99e-4155-b04c-4c263536ea30\"}], {\"autosize\": false, \"height\": 1000, \"width\": 1000, \"xaxis\": {\"tickfont\": {\"color\": \"black\", \"size\": 12}, \"title\": \"Feature Importances\"}, \"yaxis\": {\"automargin\": true}}, {\"showLink\": true, \"linkText\": \"Export to plot.ly\", \"plotlyServerURL\": \"https://plot.ly\"})});</script>"
      ],
      "text/vnd.plotly.v1+html": [
       "<div id=\"4096e716-5137-42aa-971f-1946d9551900\" style=\"height: 1000px; width: 1000px;\" class=\"plotly-graph-div\"></div><script type=\"text/javascript\">require([\"plotly\"], function(Plotly) { window.PLOTLYENV=window.PLOTLYENV || {};window.PLOTLYENV.BASE_URL=\"https://plot.ly\";Plotly.newPlot(\"4096e716-5137-42aa-971f-1946d9551900\", [{\"marker\": {\"color\": \"rgb(158,202,225)\", \"line\": {\"color\": \"rgb(8,48,107)\", \"width\": 1.5}}, \"opacity\": 0.6, \"orientation\": \"h\", \"text\": [0.6257, 0.2239, 0.0398, 0.0318, 0.0303, 0.0177, 0.0127, 0.0064, 0.006, 0.0045, 0.0012], \"textposition\": \"outside\", \"x\": [0.6257049218751627, 0.2238765598186983, 0.039769923476915145, 0.03183051656364029, 0.03028777375332344, 0.017678879808777248, 0.012700393639855444, 0.006436068034545358, 0.006016442045685009, 0.004514074058435477, 0.001184446924961602], \"y\": [\"http_header_content-encoding_gzip\", \"http_header_content-length\", \"http_header_server_apache\", \"http_header_content-language_text/html\", \"http_header_cache-control_set_max-age\", \"http_header_cache-control_set_no-cache\", \"http_header_server_nginx\", \"http_header_cache-control_set_no-store\", \"http_header_cache-control_set_private\", \"http_header_cache-control_set_must-revalidate\", \"http_header_cache-control_set_public\"], \"type\": \"bar\", \"uid\": \"7e9db00d-a99e-4155-b04c-4c263536ea30\"}], {\"autosize\": false, \"height\": 1000, \"width\": 1000, \"xaxis\": {\"tickfont\": {\"color\": \"black\", \"size\": 12}, \"title\": \"Feature Importances\"}, \"yaxis\": {\"automargin\": true}}, {\"showLink\": true, \"linkText\": \"Export to plot.ly\", \"plotlyServerURL\": \"https://plot.ly\"})});</script>"
      ]
     },
     "metadata": {},
     "output_type": "display_data"
    },
    {
     "name": "stdout",
     "output_type": "stream",
     "text": [
      "\n",
      "\n",
      "\u001b[1mExtraTree Classifier\u001b[0m\n",
      "Accuracy of the model for training data is: 0.920274385458\n",
      "Confusion Matrix for training data is:\n"
     ]
    },
    {
     "data": {
      "text/plain": [
       "Predicted  False   True  __all__\n",
       "Actual                          \n",
       "False      28696   3157    31853\n",
       "True        1922  29931    31853\n",
       "__all__    30618  33088    63706"
      ]
     },
     "metadata": {},
     "output_type": "display_data"
    },
    {
     "name": "stdout",
     "output_type": "stream",
     "text": [
      "Accuracy of the model for test data is: 0.883231574357\n",
      "Confusion Matrix for test data is:\n"
     ]
    },
    {
     "data": {
      "text/plain": [
       "Predicted  False  True  __all__\n",
       "Actual                         \n",
       "False       7033   949     7982\n",
       "True         122  1068     1190\n",
       "__all__     7155  2017     9172"
      ]
     },
     "metadata": {},
     "output_type": "display_data"
    },
    {
     "data": {
      "application/vnd.plotly.v1+json": {
       "config": {
        "linkText": "Export to plot.ly",
        "plotlyServerURL": "https://plot.ly",
        "showLink": true
       },
       "data": [
        {
         "marker": {
          "color": "rgb(158,202,225)",
          "line": {
           "color": "rgb(8,48,107)",
           "width": 1.5
          }
         },
         "opacity": 0.6,
         "orientation": "h",
         "text": [
          0.2805,
          0.2111,
          0.1469,
          0.1083,
          0.0811,
          0.0627,
          0.032,
          0.0241,
          0.0185,
          0.0178,
          0.0171
         ],
         "textposition": "outside",
         "type": "bar",
         "uid": "a4cfad44-137e-4f1f-80c7-1e52f237f245",
         "x": [
          0.2804763567689448,
          0.21109874138341103,
          0.146943166784296,
          0.10825886721880065,
          0.08111730776076412,
          0.06270529966475583,
          0.03197732896466667,
          0.024050105959588668,
          0.018496784678029492,
          0.01777837427006925,
          0.017097666546673516
         ],
         "y": [
          "http_header_content-encoding_gzip",
          "http_header_content-length",
          "http_header_content-language_text/html",
          "http_header_cache-control_set_max-age",
          "http_header_server_apache",
          "http_header_server_nginx",
          "http_header_cache-control_set_private",
          "http_header_cache-control_set_no-cache",
          "http_header_cache-control_set_must-revalidate",
          "http_header_cache-control_set_no-store",
          "http_header_cache-control_set_public"
         ]
        }
       ],
       "layout": {
        "autosize": false,
        "height": 1000,
        "width": 1000,
        "xaxis": {
         "tickfont": {
          "color": "black",
          "size": 12
         },
         "title": "Feature Importances"
        },
        "yaxis": {
         "automargin": true
        }
       }
      },
      "text/html": [
       "<div id=\"52dfe05f-990f-4320-834a-d65659465147\" style=\"height: 1000px; width: 1000px;\" class=\"plotly-graph-div\"></div><script type=\"text/javascript\">require([\"plotly\"], function(Plotly) { window.PLOTLYENV=window.PLOTLYENV || {};window.PLOTLYENV.BASE_URL=\"https://plot.ly\";Plotly.newPlot(\"52dfe05f-990f-4320-834a-d65659465147\", [{\"marker\": {\"color\": \"rgb(158,202,225)\", \"line\": {\"color\": \"rgb(8,48,107)\", \"width\": 1.5}}, \"opacity\": 0.6, \"orientation\": \"h\", \"text\": [0.2805, 0.2111, 0.1469, 0.1083, 0.0811, 0.0627, 0.032, 0.0241, 0.0185, 0.0178, 0.0171], \"textposition\": \"outside\", \"x\": [0.2804763567689448, 0.21109874138341103, 0.146943166784296, 0.10825886721880065, 0.08111730776076412, 0.06270529966475583, 0.03197732896466667, 0.024050105959588668, 0.018496784678029492, 0.01777837427006925, 0.017097666546673516], \"y\": [\"http_header_content-encoding_gzip\", \"http_header_content-length\", \"http_header_content-language_text/html\", \"http_header_cache-control_set_max-age\", \"http_header_server_apache\", \"http_header_server_nginx\", \"http_header_cache-control_set_private\", \"http_header_cache-control_set_no-cache\", \"http_header_cache-control_set_must-revalidate\", \"http_header_cache-control_set_no-store\", \"http_header_cache-control_set_public\"], \"type\": \"bar\", \"uid\": \"a4cfad44-137e-4f1f-80c7-1e52f237f245\"}], {\"autosize\": false, \"height\": 1000, \"width\": 1000, \"xaxis\": {\"tickfont\": {\"color\": \"black\", \"size\": 12}, \"title\": \"Feature Importances\"}, \"yaxis\": {\"automargin\": true}}, {\"showLink\": true, \"linkText\": \"Export to plot.ly\", \"plotlyServerURL\": \"https://plot.ly\"})});</script>"
      ],
      "text/vnd.plotly.v1+html": [
       "<div id=\"52dfe05f-990f-4320-834a-d65659465147\" style=\"height: 1000px; width: 1000px;\" class=\"plotly-graph-div\"></div><script type=\"text/javascript\">require([\"plotly\"], function(Plotly) { window.PLOTLYENV=window.PLOTLYENV || {};window.PLOTLYENV.BASE_URL=\"https://plot.ly\";Plotly.newPlot(\"52dfe05f-990f-4320-834a-d65659465147\", [{\"marker\": {\"color\": \"rgb(158,202,225)\", \"line\": {\"color\": \"rgb(8,48,107)\", \"width\": 1.5}}, \"opacity\": 0.6, \"orientation\": \"h\", \"text\": [0.2805, 0.2111, 0.1469, 0.1083, 0.0811, 0.0627, 0.032, 0.0241, 0.0185, 0.0178, 0.0171], \"textposition\": \"outside\", \"x\": [0.2804763567689448, 0.21109874138341103, 0.146943166784296, 0.10825886721880065, 0.08111730776076412, 0.06270529966475583, 0.03197732896466667, 0.024050105959588668, 0.018496784678029492, 0.01777837427006925, 0.017097666546673516], \"y\": [\"http_header_content-encoding_gzip\", \"http_header_content-length\", \"http_header_content-language_text/html\", \"http_header_cache-control_set_max-age\", \"http_header_server_apache\", \"http_header_server_nginx\", \"http_header_cache-control_set_private\", \"http_header_cache-control_set_no-cache\", \"http_header_cache-control_set_must-revalidate\", \"http_header_cache-control_set_no-store\", \"http_header_cache-control_set_public\"], \"type\": \"bar\", \"uid\": \"a4cfad44-137e-4f1f-80c7-1e52f237f245\"}], {\"autosize\": false, \"height\": 1000, \"width\": 1000, \"xaxis\": {\"tickfont\": {\"color\": \"black\", \"size\": 12}, \"title\": \"Feature Importances\"}, \"yaxis\": {\"automargin\": true}}, {\"showLink\": true, \"linkText\": \"Export to plot.ly\", \"plotlyServerURL\": \"https://plot.ly\"})});</script>"
      ]
     },
     "metadata": {},
     "output_type": "display_data"
    },
    {
     "name": "stdout",
     "output_type": "stream",
     "text": [
      "\n",
      "\n",
      "\u001b[1mBagging Classifier\u001b[0m\n",
      "Accuracy of the model for training data is: 0.916962295545\n",
      "Confusion Matrix for training data is:\n"
     ]
    },
    {
     "data": {
      "text/plain": [
       "Predicted  False   True  __all__\n",
       "Actual                          \n",
       "False      28653   3200    31853\n",
       "True        2090  29763    31853\n",
       "__all__    30743  32963    63706"
      ]
     },
     "metadata": {},
     "output_type": "display_data"
    },
    {
     "name": "stdout",
     "output_type": "stream",
     "text": [
      "Accuracy of the model for test data is: 0.883013519407\n",
      "Confusion Matrix for test data is:\n"
     ]
    },
    {
     "data": {
      "text/plain": [
       "Predicted  False  True  __all__\n",
       "Actual                         \n",
       "False       7030   952     7982\n",
       "True         121  1069     1190\n",
       "__all__     7151  2021     9172"
      ]
     },
     "metadata": {},
     "output_type": "display_data"
    },
    {
     "name": "stdout",
     "output_type": "stream",
     "text": [
      "\n",
      "\n",
      "\u001b[1mNeural Network-1\u001b[0m\n",
      "The accuracy of the model on training data is: 0.884092550156\n"
     ]
    },
    {
     "data": {
      "text/plain": [
       "Predicted  False   True  __all__\n",
       "Actual                          \n",
       "False      27817   4036    31853\n",
       "True        3348  28505    31853\n",
       "__all__    31165  32541    63706"
      ]
     },
     "metadata": {},
     "output_type": "display_data"
    },
    {
     "name": "stdout",
     "output_type": "stream",
     "text": [
      "The accuracy of the model on test data is: 0.87887047536\n"
     ]
    },
    {
     "data": {
      "text/plain": [
       "Predicted  False  True  __all__\n",
       "Actual                         \n",
       "False       7002   980     7982\n",
       "True         131  1059     1190\n",
       "__all__     7133  2039     9172"
      ]
     },
     "metadata": {},
     "output_type": "display_data"
    },
    {
     "name": "stdout",
     "output_type": "stream",
     "text": [
      "\n",
      "\n"
     ]
    }
   ],
   "source": [
    "feat_imp=[None]*4\n",
    "j=0\n",
    "for i in range(0,8):\n",
    "    if i>=2 and i<=5:\n",
    "        model,cm_train,cm_test,acc_train,acc_test,roc_auc,feat_imp[j],mcc=f[i](X_train,Y_train,scaled_X_test,test_Y,columns[:-2])\n",
    "        j=j+1\n",
    "    else:\n",
    "        model,cm_train,cm_test,acc_train,acc_test,roc_auc,mcc=f[i](X_train,Y_train,scaled_X_test,test_Y)\n",
    "    table_80_80_train.loc[i]=   ([acc_train,cm_train.TP,cm_train.TN,cm_train.FP,cm_train.FN,cm_train.FPR,cm_train.FNR])\n",
    "    table_80_80_test.loc[i] =   ([acc_test ,cm_test.TP, cm_test.TN, cm_test.FP, cm_test.FN, cm_test.FPR, cm_test.FNR,roc_auc,mcc])\n",
    "    print(\"\\n\")"
   ]
  },
  {
   "cell_type": "markdown",
   "metadata": {},
   "source": [
    "### <a id='2.A' style=\"text-decoration : none; color : #000000;\"> A Results</a>"
   ]
  },
  {
   "cell_type": "code",
   "execution_count": 17,
   "metadata": {},
   "outputs": [
    {
     "data": {
      "application/vnd.plotly.v1+json": {
       "config": {
        "linkText": "Export to plot.ly",
        "plotlyServerURL": "https://plot.ly",
        "showLink": true
       },
       "data": [
        {
         "mode": "lines",
         "name": "KNN_model",
         "type": "scatter",
         "uid": "da4c40d4-1439-45f5-af65-4add2c494ffa",
         "x": [
          "accuracy",
          "FPR",
          "FNR",
          "auc"
         ],
         "y": [
          0.8791975577845617,
          0.02681032322726134,
          0.7512605042016807,
          0.6109645862855291
         ]
        },
        {
         "mode": "lines+markers",
         "name": "Logistic Regression",
         "type": "scatter",
         "uid": "1718a9b9-66dc-4c28-8ecc-da2844eecbb5",
         "x": [
          "accuracy",
          "FPR",
          "FNR",
          "auc"
         ],
         "y": [
          0.8227213257740951,
          0.17952894011525933,
          0.16218487394957984,
          0.8291430929675805
         ]
        },
        {
         "marker": {
          "symbol": "x"
         },
         "mode": "lines+markers",
         "name": "Random Forest",
         "type": "scatter",
         "uid": "f8241d48-839d-4c0d-b454-581213072e4d",
         "x": [
          "accuracy",
          "FPR",
          "FNR",
          "auc"
         ],
         "y": [
          0.8850850414304404,
          0.11663743422701077,
          0.10336134453781512,
          0.8900006106175871
         ]
        },
        {
         "mode": "lines",
         "name": "Ada Boost",
         "type": "scatter",
         "uid": "c4dbce7f-8a5c-4338-967d-815b13078745",
         "x": [
          "accuracy",
          "FPR",
          "FNR",
          "auc"
         ],
         "y": [
          0.8291539467945922,
          0.1787772488098221,
          0.11764705882352941,
          0.8517878461833243
         ]
        },
        {
         "mode": "lines+markers",
         "name": "GradientBoosting",
         "type": "scatter",
         "uid": "2dcc3404-478c-41b6-82cf-16d5f6d01273",
         "x": [
          "accuracy",
          "FPR",
          "FNR",
          "auc"
         ],
         "y": [
          0.8676406454426515,
          0.1369330994738161,
          0.10168067226890756,
          0.8806931141286382
         ]
        },
        {
         "marker": {
          "symbol": "x"
         },
         "mode": "lines+markers",
         "name": "ExtraTree Classifier",
         "type": "scatter",
         "uid": "8911e962-7e93-428a-a53d-7f8c6f5a27be",
         "x": [
          "accuracy",
          "FPR",
          "FNR",
          "auc"
         ],
         "y": [
          0.8832315743567379,
          0.11889250814332247,
          0.10252100840336134,
          0.889293241726658
         ]
        },
        {
         "marker": {
          "symbol": "x"
         },
         "mode": "lines+markers",
         "name": "Bagging",
         "type": "scatter",
         "uid": "002858e9-75b6-4261-a821-bac48f5da9a3",
         "x": [
          "accuracy",
          "FPR",
          "FNR",
          "auc"
         ],
         "y": [
          0.8830135194068905,
          0.11926835379604109,
          0.10168067226890756,
          0.8895254869675256
         ]
        },
        {
         "marker": {
          "symbol": "x"
         },
         "mode": "lines+markers",
         "name": "Neural Network",
         "type": "scatter",
         "uid": "a10bc49a-75f8-48ec-88c6-e75e890fb089",
         "x": [
          "accuracy",
          "FPR",
          "FNR",
          "auc"
         ],
         "y": [
          0.8788704753597907,
          0.12277624655474818,
          0.11008403361344538,
          0.8895254869675256
         ]
        }
       ],
       "layout": {
        "title": "Result comparision for Features selected in Section 1",
        "yaxis": {
         "dtick": 0.05,
         "tick0": 0
        }
       }
      },
      "text/html": [
       "<div id=\"47a47aa4-a981-4f08-8bf0-2a0f4894f89a\" style=\"height: 525px; width: 100%;\" class=\"plotly-graph-div\"></div><script type=\"text/javascript\">require([\"plotly\"], function(Plotly) { window.PLOTLYENV=window.PLOTLYENV || {};window.PLOTLYENV.BASE_URL=\"https://plot.ly\";Plotly.newPlot(\"47a47aa4-a981-4f08-8bf0-2a0f4894f89a\", [{\"mode\": \"lines\", \"name\": \"KNN_model\", \"x\": [\"accuracy\", \"FPR\", \"FNR\", \"auc\"], \"y\": [0.8791975577845617, 0.02681032322726134, 0.7512605042016807, 0.6109645862855291], \"type\": \"scatter\", \"uid\": \"da4c40d4-1439-45f5-af65-4add2c494ffa\"}, {\"mode\": \"lines+markers\", \"name\": \"Logistic Regression\", \"x\": [\"accuracy\", \"FPR\", \"FNR\", \"auc\"], \"y\": [0.8227213257740951, 0.17952894011525933, 0.16218487394957984, 0.8291430929675805], \"type\": \"scatter\", \"uid\": \"1718a9b9-66dc-4c28-8ecc-da2844eecbb5\"}, {\"marker\": {\"symbol\": \"x\"}, \"mode\": \"lines+markers\", \"name\": \"Random Forest\", \"x\": [\"accuracy\", \"FPR\", \"FNR\", \"auc\"], \"y\": [0.8850850414304404, 0.11663743422701077, 0.10336134453781512, 0.8900006106175871], \"type\": \"scatter\", \"uid\": \"f8241d48-839d-4c0d-b454-581213072e4d\"}, {\"mode\": \"lines\", \"name\": \"Ada Boost\", \"x\": [\"accuracy\", \"FPR\", \"FNR\", \"auc\"], \"y\": [0.8291539467945922, 0.1787772488098221, 0.11764705882352941, 0.8517878461833243], \"type\": \"scatter\", \"uid\": \"c4dbce7f-8a5c-4338-967d-815b13078745\"}, {\"mode\": \"lines+markers\", \"name\": \"GradientBoosting\", \"x\": [\"accuracy\", \"FPR\", \"FNR\", \"auc\"], \"y\": [0.8676406454426515, 0.1369330994738161, 0.10168067226890756, 0.8806931141286382], \"type\": \"scatter\", \"uid\": \"2dcc3404-478c-41b6-82cf-16d5f6d01273\"}, {\"marker\": {\"symbol\": \"x\"}, \"mode\": \"lines+markers\", \"name\": \"ExtraTree Classifier\", \"x\": [\"accuracy\", \"FPR\", \"FNR\", \"auc\"], \"y\": [0.8832315743567379, 0.11889250814332247, 0.10252100840336134, 0.889293241726658], \"type\": \"scatter\", \"uid\": \"8911e962-7e93-428a-a53d-7f8c6f5a27be\"}, {\"marker\": {\"symbol\": \"x\"}, \"mode\": \"lines+markers\", \"name\": \"Bagging\", \"x\": [\"accuracy\", \"FPR\", \"FNR\", \"auc\"], \"y\": [0.8830135194068905, 0.11926835379604109, 0.10168067226890756, 0.8895254869675256], \"type\": \"scatter\", \"uid\": \"002858e9-75b6-4261-a821-bac48f5da9a3\"}, {\"marker\": {\"symbol\": \"x\"}, \"mode\": \"lines+markers\", \"name\": \"Neural Network\", \"x\": [\"accuracy\", \"FPR\", \"FNR\", \"auc\"], \"y\": [0.8788704753597907, 0.12277624655474818, 0.11008403361344538, 0.8895254869675256], \"type\": \"scatter\", \"uid\": \"a10bc49a-75f8-48ec-88c6-e75e890fb089\"}], {\"title\": \"Result comparision for Features selected in Section 1\", \"yaxis\": {\"dtick\": 0.05, \"tick0\": 0}}, {\"showLink\": true, \"linkText\": \"Export to plot.ly\", \"plotlyServerURL\": \"https://plot.ly\"})});</script><script type=\"text/javascript\">window.addEventListener(\"resize\", function(){window._Plotly.Plots.resize(document.getElementById(\"47a47aa4-a981-4f08-8bf0-2a0f4894f89a\"));});</script>"
      ],
      "text/vnd.plotly.v1+html": [
       "<div id=\"47a47aa4-a981-4f08-8bf0-2a0f4894f89a\" style=\"height: 525px; width: 100%;\" class=\"plotly-graph-div\"></div><script type=\"text/javascript\">require([\"plotly\"], function(Plotly) { window.PLOTLYENV=window.PLOTLYENV || {};window.PLOTLYENV.BASE_URL=\"https://plot.ly\";Plotly.newPlot(\"47a47aa4-a981-4f08-8bf0-2a0f4894f89a\", [{\"mode\": \"lines\", \"name\": \"KNN_model\", \"x\": [\"accuracy\", \"FPR\", \"FNR\", \"auc\"], \"y\": [0.8791975577845617, 0.02681032322726134, 0.7512605042016807, 0.6109645862855291], \"type\": \"scatter\", \"uid\": \"da4c40d4-1439-45f5-af65-4add2c494ffa\"}, {\"mode\": \"lines+markers\", \"name\": \"Logistic Regression\", \"x\": [\"accuracy\", \"FPR\", \"FNR\", \"auc\"], \"y\": [0.8227213257740951, 0.17952894011525933, 0.16218487394957984, 0.8291430929675805], \"type\": \"scatter\", \"uid\": \"1718a9b9-66dc-4c28-8ecc-da2844eecbb5\"}, {\"marker\": {\"symbol\": \"x\"}, \"mode\": \"lines+markers\", \"name\": \"Random Forest\", \"x\": [\"accuracy\", \"FPR\", \"FNR\", \"auc\"], \"y\": [0.8850850414304404, 0.11663743422701077, 0.10336134453781512, 0.8900006106175871], \"type\": \"scatter\", \"uid\": \"f8241d48-839d-4c0d-b454-581213072e4d\"}, {\"mode\": \"lines\", \"name\": \"Ada Boost\", \"x\": [\"accuracy\", \"FPR\", \"FNR\", \"auc\"], \"y\": [0.8291539467945922, 0.1787772488098221, 0.11764705882352941, 0.8517878461833243], \"type\": \"scatter\", \"uid\": \"c4dbce7f-8a5c-4338-967d-815b13078745\"}, {\"mode\": \"lines+markers\", \"name\": \"GradientBoosting\", \"x\": [\"accuracy\", \"FPR\", \"FNR\", \"auc\"], \"y\": [0.8676406454426515, 0.1369330994738161, 0.10168067226890756, 0.8806931141286382], \"type\": \"scatter\", \"uid\": \"2dcc3404-478c-41b6-82cf-16d5f6d01273\"}, {\"marker\": {\"symbol\": \"x\"}, \"mode\": \"lines+markers\", \"name\": \"ExtraTree Classifier\", \"x\": [\"accuracy\", \"FPR\", \"FNR\", \"auc\"], \"y\": [0.8832315743567379, 0.11889250814332247, 0.10252100840336134, 0.889293241726658], \"type\": \"scatter\", \"uid\": \"8911e962-7e93-428a-a53d-7f8c6f5a27be\"}, {\"marker\": {\"symbol\": \"x\"}, \"mode\": \"lines+markers\", \"name\": \"Bagging\", \"x\": [\"accuracy\", \"FPR\", \"FNR\", \"auc\"], \"y\": [0.8830135194068905, 0.11926835379604109, 0.10168067226890756, 0.8895254869675256], \"type\": \"scatter\", \"uid\": \"002858e9-75b6-4261-a821-bac48f5da9a3\"}, {\"marker\": {\"symbol\": \"x\"}, \"mode\": \"lines+markers\", \"name\": \"Neural Network\", \"x\": [\"accuracy\", \"FPR\", \"FNR\", \"auc\"], \"y\": [0.8788704753597907, 0.12277624655474818, 0.11008403361344538, 0.8895254869675256], \"type\": \"scatter\", \"uid\": \"a10bc49a-75f8-48ec-88c6-e75e890fb089\"}], {\"title\": \"Result comparision for Features selected in Section 1\", \"yaxis\": {\"dtick\": 0.05, \"tick0\": 0}}, {\"showLink\": true, \"linkText\": \"Export to plot.ly\", \"plotlyServerURL\": \"https://plot.ly\"})});</script><script type=\"text/javascript\">window.addEventListener(\"resize\", function(){window._Plotly.Plots.resize(document.getElementById(\"47a47aa4-a981-4f08-8bf0-2a0f4894f89a\"));});</script>"
      ]
     },
     "metadata": {},
     "output_type": "display_data"
    }
   ],
   "source": [
    "trace0 = go.Scatter(x=table_80_80_test.iloc[0].index.values[[0,5,6,7]],\n",
    "                    y=table_80_80_test.iloc[0].values[[0,5,6,7]],\n",
    "                    mode = 'lines',\n",
    "                    name = 'KNN_model')\n",
    "\n",
    "trace1 = go.Scatter(x=table_80_80_test.iloc[1].index.values[[0,5,6,7]],\n",
    "                    y=table_80_80_test.iloc[1].values[[0,5,6,7]],\n",
    "                    mode = 'lines+markers',\n",
    "                    name = 'Logistic Regression')\n",
    "\n",
    "trace2 = go.Scatter(x=table_80_80_test.iloc[2].index.values[[0,5,6,7]],\n",
    "                    y=table_80_80_test.iloc[2].values[[0,5,6,7]],\n",
    "                    mode = 'lines+markers',marker=dict(symbol='x'),\n",
    "                    name = 'Random Forest')\n",
    "\n",
    "\n",
    "trace3 = go.Scatter(x=table_80_80_test.iloc[3].index.values[[0,5,6,7]],\n",
    "                    y=table_80_80_test.iloc[3].values[[0,5,6,7]],\n",
    "                    mode = 'lines',\n",
    "                    name = 'Ada Boost')\n",
    "\n",
    "trace4 = go.Scatter(x=table_80_80_test.iloc[4].index.values[[0,5,6,7]],\n",
    "                    y=table_80_80_test.iloc[4].values[[0,5,6,7]],\n",
    "                    mode = 'lines+markers',\n",
    "                    name = 'GradientBoosting')\n",
    "\n",
    "trace5 = go.Scatter(x=table_80_80_test.iloc[5].index.values[[0,5,6,7]],\n",
    "                    y=table_80_80_test.iloc[5].values[[0,5,6,7]],\n",
    "                    mode = 'lines+markers',marker=dict(symbol='x'),\n",
    "                    name = 'ExtraTree Classifier')\n",
    "\n",
    "trace6 = go.Scatter(x=table_80_80_test.iloc[6].index.values[[0,5,6,7]],\n",
    "                    y=table_80_80_test.iloc[6].values[[0,5,6,7]],\n",
    "                    mode = 'lines+markers',marker=dict(symbol='x'),\n",
    "                    name = 'Bagging')\n",
    "\n",
    "trace7 = go.Scatter(x=table_80_80_test.iloc[7].index.values[[0,5,6,7]],\n",
    "                    y=table_80_80_test.iloc[7].values[[0,5,6,7]],\n",
    "                    mode = 'lines+markers',marker=dict(symbol='x'),\n",
    "                    name = 'Neural Network')\n",
    "\n",
    "\n",
    "\n",
    "data = [trace0, trace1, trace2, trace3, trace4, trace5, trace6, trace7]\n",
    "layout = go.Layout(yaxis=dict(tick0=0,dtick=0.05),title='Result comparision for Features selected in Section 1')\n",
    "fig = go.Figure(data=data, layout=layout)\n",
    "\n",
    "iplot(fig, filename='Result')"
   ]
  },
  {
   "cell_type": "code",
   "execution_count": 18,
   "metadata": {},
   "outputs": [
    {
     "name": "stdout",
     "output_type": "stream",
     "text": [
      "Training Results\n"
     ]
    },
    {
     "data": {
      "text/html": [
       "<div>\n",
       "<style scoped>\n",
       "    .dataframe tbody tr th:only-of-type {\n",
       "        vertical-align: middle;\n",
       "    }\n",
       "\n",
       "    .dataframe tbody tr th {\n",
       "        vertical-align: top;\n",
       "    }\n",
       "\n",
       "    .dataframe thead th {\n",
       "        text-align: right;\n",
       "    }\n",
       "</style>\n",
       "<table border=\"1\" class=\"dataframe\">\n",
       "  <thead>\n",
       "    <tr style=\"text-align: right;\">\n",
       "      <th></th>\n",
       "      <th>accuracy</th>\n",
       "      <th>TP</th>\n",
       "      <th>TN</th>\n",
       "      <th>FP</th>\n",
       "      <th>FN</th>\n",
       "      <th>FPR</th>\n",
       "      <th>FNR</th>\n",
       "    </tr>\n",
       "    <tr>\n",
       "      <th>index</th>\n",
       "      <th></th>\n",
       "      <th></th>\n",
       "      <th></th>\n",
       "      <th></th>\n",
       "      <th></th>\n",
       "      <th></th>\n",
       "      <th></th>\n",
       "    </tr>\n",
       "  </thead>\n",
       "  <tbody>\n",
       "    <tr>\n",
       "      <th>KNeighborsClassifier</th>\n",
       "      <td>0.618607</td>\n",
       "      <td>8183.0</td>\n",
       "      <td>31226.0</td>\n",
       "      <td>627.0</td>\n",
       "      <td>23670.0</td>\n",
       "      <td>0.019684</td>\n",
       "      <td>0.743101</td>\n",
       "    </tr>\n",
       "    <tr>\n",
       "      <th>LogisticRegression</th>\n",
       "      <td>0.827473</td>\n",
       "      <td>26606.0</td>\n",
       "      <td>26109.0</td>\n",
       "      <td>5744.0</td>\n",
       "      <td>5247.0</td>\n",
       "      <td>0.180328</td>\n",
       "      <td>0.164725</td>\n",
       "    </tr>\n",
       "    <tr>\n",
       "      <th>RandomForestClassifier</th>\n",
       "      <td>0.917213</td>\n",
       "      <td>29781.0</td>\n",
       "      <td>28651.0</td>\n",
       "      <td>3202.0</td>\n",
       "      <td>2072.0</td>\n",
       "      <td>0.100524</td>\n",
       "      <td>0.065049</td>\n",
       "    </tr>\n",
       "    <tr>\n",
       "      <th>AdaBoostClassifier</th>\n",
       "      <td>0.855037</td>\n",
       "      <td>28317.0</td>\n",
       "      <td>26154.0</td>\n",
       "      <td>5699.0</td>\n",
       "      <td>3536.0</td>\n",
       "      <td>0.178916</td>\n",
       "      <td>0.111010</td>\n",
       "    </tr>\n",
       "    <tr>\n",
       "      <th>GradientBoostingClassifier</th>\n",
       "      <td>0.880639</td>\n",
       "      <td>28676.0</td>\n",
       "      <td>27426.0</td>\n",
       "      <td>4427.0</td>\n",
       "      <td>3177.0</td>\n",
       "      <td>0.138982</td>\n",
       "      <td>0.099739</td>\n",
       "    </tr>\n",
       "    <tr>\n",
       "      <th>ExtraTreeClassifier</th>\n",
       "      <td>0.920274</td>\n",
       "      <td>29931.0</td>\n",
       "      <td>28696.0</td>\n",
       "      <td>3157.0</td>\n",
       "      <td>1922.0</td>\n",
       "      <td>0.099112</td>\n",
       "      <td>0.060340</td>\n",
       "    </tr>\n",
       "    <tr>\n",
       "      <th>BaggingClassifier</th>\n",
       "      <td>0.916962</td>\n",
       "      <td>29763.0</td>\n",
       "      <td>28653.0</td>\n",
       "      <td>3200.0</td>\n",
       "      <td>2090.0</td>\n",
       "      <td>0.100461</td>\n",
       "      <td>0.065614</td>\n",
       "    </tr>\n",
       "    <tr>\n",
       "      <th>Neural Network-1</th>\n",
       "      <td>0.884093</td>\n",
       "      <td>28505.0</td>\n",
       "      <td>27817.0</td>\n",
       "      <td>4036.0</td>\n",
       "      <td>3348.0</td>\n",
       "      <td>0.126707</td>\n",
       "      <td>0.105108</td>\n",
       "    </tr>\n",
       "  </tbody>\n",
       "</table>\n",
       "</div>"
      ],
      "text/plain": [
       "                            accuracy       TP       TN      FP       FN  \\\n",
       "index                                                                     \n",
       "KNeighborsClassifier        0.618607   8183.0  31226.0   627.0  23670.0   \n",
       "LogisticRegression          0.827473  26606.0  26109.0  5744.0   5247.0   \n",
       "RandomForestClassifier      0.917213  29781.0  28651.0  3202.0   2072.0   \n",
       "AdaBoostClassifier          0.855037  28317.0  26154.0  5699.0   3536.0   \n",
       "GradientBoostingClassifier  0.880639  28676.0  27426.0  4427.0   3177.0   \n",
       "ExtraTreeClassifier         0.920274  29931.0  28696.0  3157.0   1922.0   \n",
       "BaggingClassifier           0.916962  29763.0  28653.0  3200.0   2090.0   \n",
       "Neural Network-1            0.884093  28505.0  27817.0  4036.0   3348.0   \n",
       "\n",
       "                                 FPR       FNR  \n",
       "index                                           \n",
       "KNeighborsClassifier        0.019684  0.743101  \n",
       "LogisticRegression          0.180328  0.164725  \n",
       "RandomForestClassifier      0.100524  0.065049  \n",
       "AdaBoostClassifier          0.178916  0.111010  \n",
       "GradientBoostingClassifier  0.138982  0.099739  \n",
       "ExtraTreeClassifier         0.099112  0.060340  \n",
       "BaggingClassifier           0.100461  0.065614  \n",
       "Neural Network-1            0.126707  0.105108  "
      ]
     },
     "metadata": {},
     "output_type": "display_data"
    },
    {
     "name": "stdout",
     "output_type": "stream",
     "text": [
      "Test Results\n"
     ]
    },
    {
     "data": {
      "text/html": [
       "<div>\n",
       "<style scoped>\n",
       "    .dataframe tbody tr th:only-of-type {\n",
       "        vertical-align: middle;\n",
       "    }\n",
       "\n",
       "    .dataframe tbody tr th {\n",
       "        vertical-align: top;\n",
       "    }\n",
       "\n",
       "    .dataframe thead th {\n",
       "        text-align: right;\n",
       "    }\n",
       "</style>\n",
       "<table border=\"1\" class=\"dataframe\">\n",
       "  <thead>\n",
       "    <tr style=\"text-align: right;\">\n",
       "      <th></th>\n",
       "      <th>accuracy</th>\n",
       "      <th>TP</th>\n",
       "      <th>TN</th>\n",
       "      <th>FP</th>\n",
       "      <th>FN</th>\n",
       "      <th>FPR</th>\n",
       "      <th>FNR</th>\n",
       "      <th>auc</th>\n",
       "      <th>mcc</th>\n",
       "    </tr>\n",
       "    <tr>\n",
       "      <th>index</th>\n",
       "      <th></th>\n",
       "      <th></th>\n",
       "      <th></th>\n",
       "      <th></th>\n",
       "      <th></th>\n",
       "      <th></th>\n",
       "      <th></th>\n",
       "      <th></th>\n",
       "      <th></th>\n",
       "    </tr>\n",
       "  </thead>\n",
       "  <tbody>\n",
       "    <tr>\n",
       "      <th>KNeighborsClassifier</th>\n",
       "      <td>0.879198</td>\n",
       "      <td>296.0</td>\n",
       "      <td>7768.0</td>\n",
       "      <td>214.0</td>\n",
       "      <td>894.0</td>\n",
       "      <td>0.026810</td>\n",
       "      <td>0.751261</td>\n",
       "      <td>0.610965</td>\n",
       "      <td>0.325424</td>\n",
       "    </tr>\n",
       "    <tr>\n",
       "      <th>LogisticRegression</th>\n",
       "      <td>0.822721</td>\n",
       "      <td>997.0</td>\n",
       "      <td>6549.0</td>\n",
       "      <td>1433.0</td>\n",
       "      <td>193.0</td>\n",
       "      <td>0.179529</td>\n",
       "      <td>0.162185</td>\n",
       "      <td>0.829143</td>\n",
       "      <td>0.501241</td>\n",
       "    </tr>\n",
       "    <tr>\n",
       "      <th>RandomForestClassifier</th>\n",
       "      <td>0.885085</td>\n",
       "      <td>1067.0</td>\n",
       "      <td>7051.0</td>\n",
       "      <td>931.0</td>\n",
       "      <td>123.0</td>\n",
       "      <td>0.116637</td>\n",
       "      <td>0.103361</td>\n",
       "      <td>0.890001</td>\n",
       "      <td>0.634960</td>\n",
       "    </tr>\n",
       "    <tr>\n",
       "      <th>AdaBoostClassifier</th>\n",
       "      <td>0.829154</td>\n",
       "      <td>1050.0</td>\n",
       "      <td>6555.0</td>\n",
       "      <td>1427.0</td>\n",
       "      <td>140.0</td>\n",
       "      <td>0.178777</td>\n",
       "      <td>0.117647</td>\n",
       "      <td>0.851788</td>\n",
       "      <td>0.532478</td>\n",
       "    </tr>\n",
       "    <tr>\n",
       "      <th>GradientBoostingClassifier</th>\n",
       "      <td>0.867641</td>\n",
       "      <td>1069.0</td>\n",
       "      <td>6889.0</td>\n",
       "      <td>1093.0</td>\n",
       "      <td>121.0</td>\n",
       "      <td>0.136933</td>\n",
       "      <td>0.101681</td>\n",
       "      <td>0.880693</td>\n",
       "      <td>0.602764</td>\n",
       "    </tr>\n",
       "    <tr>\n",
       "      <th>ExtraTreeClassifier</th>\n",
       "      <td>0.883232</td>\n",
       "      <td>1068.0</td>\n",
       "      <td>7033.0</td>\n",
       "      <td>949.0</td>\n",
       "      <td>122.0</td>\n",
       "      <td>0.118893</td>\n",
       "      <td>0.102521</td>\n",
       "      <td>0.889293</td>\n",
       "      <td>0.631653</td>\n",
       "    </tr>\n",
       "    <tr>\n",
       "      <th>BaggingClassifier</th>\n",
       "      <td>0.883014</td>\n",
       "      <td>1069.0</td>\n",
       "      <td>7030.0</td>\n",
       "      <td>952.0</td>\n",
       "      <td>121.0</td>\n",
       "      <td>0.119268</td>\n",
       "      <td>0.101681</td>\n",
       "      <td>0.889525</td>\n",
       "      <td>0.631580</td>\n",
       "    </tr>\n",
       "    <tr>\n",
       "      <th>Neural Network-1</th>\n",
       "      <td>0.878870</td>\n",
       "      <td>1059.0</td>\n",
       "      <td>7002.0</td>\n",
       "      <td>980.0</td>\n",
       "      <td>131.0</td>\n",
       "      <td>0.122776</td>\n",
       "      <td>0.110084</td>\n",
       "      <td>0.889525</td>\n",
       "      <td>0.619953</td>\n",
       "    </tr>\n",
       "  </tbody>\n",
       "</table>\n",
       "</div>"
      ],
      "text/plain": [
       "                            accuracy      TP      TN      FP     FN       FPR  \\\n",
       "index                                                                           \n",
       "KNeighborsClassifier        0.879198   296.0  7768.0   214.0  894.0  0.026810   \n",
       "LogisticRegression          0.822721   997.0  6549.0  1433.0  193.0  0.179529   \n",
       "RandomForestClassifier      0.885085  1067.0  7051.0   931.0  123.0  0.116637   \n",
       "AdaBoostClassifier          0.829154  1050.0  6555.0  1427.0  140.0  0.178777   \n",
       "GradientBoostingClassifier  0.867641  1069.0  6889.0  1093.0  121.0  0.136933   \n",
       "ExtraTreeClassifier         0.883232  1068.0  7033.0   949.0  122.0  0.118893   \n",
       "BaggingClassifier           0.883014  1069.0  7030.0   952.0  121.0  0.119268   \n",
       "Neural Network-1            0.878870  1059.0  7002.0   980.0  131.0  0.122776   \n",
       "\n",
       "                                 FNR       auc       mcc  \n",
       "index                                                     \n",
       "KNeighborsClassifier        0.751261  0.610965  0.325424  \n",
       "LogisticRegression          0.162185  0.829143  0.501241  \n",
       "RandomForestClassifier      0.103361  0.890001  0.634960  \n",
       "AdaBoostClassifier          0.117647  0.851788  0.532478  \n",
       "GradientBoostingClassifier  0.101681  0.880693  0.602764  \n",
       "ExtraTreeClassifier         0.102521  0.889293  0.631653  \n",
       "BaggingClassifier           0.101681  0.889525  0.631580  \n",
       "Neural Network-1            0.110084  0.889525  0.619953  "
      ]
     },
     "metadata": {},
     "output_type": "display_data"
    }
   ],
   "source": [
    "table_80_80_train['index']=ind_columns\n",
    "table_80_80_test['index']=ind_columns\n",
    "\n",
    "\n",
    "table_80_80_test.set_index(['index'],drop=True,inplace=True)\n",
    "table_80_80_train.set_index(['index'],drop=True,inplace=True)\n",
    "\n",
    "print(\"Training Results\")\n",
    "display(table_80_80_train)\n",
    "print(\"Test Results\")\n",
    "display(table_80_80_test)"
   ]
  },
  {
   "cell_type": "markdown",
   "metadata": {},
   "source": [
    "### <a id='2.B' style=\"text-decoration : none; color : #000000;\"> B. Average Feature Importances</a>"
   ]
  },
  {
   "cell_type": "code",
   "execution_count": 19,
   "metadata": {},
   "outputs": [
    {
     "data": {
      "application/vnd.plotly.v1+json": {
       "config": {
        "linkText": "Export to plot.ly",
        "plotlyServerURL": "https://plot.ly",
        "showLink": true
       },
       "data": [
        {
         "marker": {
          "color": "rgb(158,202,225)",
          "line": {
           "color": "rgb(8,48,107)",
           "width": 1.5
          }
         },
         "opacity": 0.6,
         "orientation": "h",
         "text": [
          0.3585,
          0.3077,
          0.0999,
          0.0621,
          0.0561,
          0.0368,
          0.0213,
          0.0184,
          0.0142,
          0.0132,
          0.0118
         ],
         "textposition": "outside",
         "type": "bar",
         "uid": "ef38fdb9-6c31-4019-9b1f-1383f8bf238e",
         "x": [
          0.3584754191431847,
          0.30770204496134756,
          0.09986188975234042,
          0.062108701150609846,
          0.05609838246497484,
          0.03676150897256479,
          0.021325508411055107,
          0.01844666652523807,
          0.014230257796053209,
          0.013213000314505563,
          0.011776620508125928
         ],
         "y": [
          "http_header_content-length",
          "http_header_content-encoding_gzip",
          "http_header_content-language_text/html",
          "http_header_cache-control_set_max-age",
          "http_header_server_apache",
          "http_header_server_nginx",
          "http_header_cache-control_set_private",
          "http_header_cache-control_set_no-cache",
          "http_header_cache-control_set_no-store",
          "http_header_cache-control_set_public",
          "http_header_cache-control_set_must-revalidate"
         ]
        }
       ],
       "layout": {
        "autosize": false,
        "height": 1000,
        "width": 1000,
        "xaxis": {
         "tickfont": {
          "color": "black",
          "size": 12
         },
         "title": "Feature Importances"
        },
        "yaxis": {
         "automargin": true
        }
       }
      },
      "text/html": [
       "<div id=\"23173cf5-7482-4024-8ec3-9cd8ff2788d0\" style=\"height: 1000px; width: 1000px;\" class=\"plotly-graph-div\"></div><script type=\"text/javascript\">require([\"plotly\"], function(Plotly) { window.PLOTLYENV=window.PLOTLYENV || {};window.PLOTLYENV.BASE_URL=\"https://plot.ly\";Plotly.newPlot(\"23173cf5-7482-4024-8ec3-9cd8ff2788d0\", [{\"marker\": {\"color\": \"rgb(158,202,225)\", \"line\": {\"color\": \"rgb(8,48,107)\", \"width\": 1.5}}, \"opacity\": 0.6, \"orientation\": \"h\", \"text\": [0.3585, 0.3077, 0.0999, 0.0621, 0.0561, 0.0368, 0.0213, 0.0184, 0.0142, 0.0132, 0.0118], \"textposition\": \"outside\", \"x\": [0.3584754191431847, 0.30770204496134756, 0.09986188975234042, 0.062108701150609846, 0.05609838246497484, 0.03676150897256479, 0.021325508411055107, 0.01844666652523807, 0.014230257796053209, 0.013213000314505563, 0.011776620508125928], \"y\": [\"http_header_content-length\", \"http_header_content-encoding_gzip\", \"http_header_content-language_text/html\", \"http_header_cache-control_set_max-age\", \"http_header_server_apache\", \"http_header_server_nginx\", \"http_header_cache-control_set_private\", \"http_header_cache-control_set_no-cache\", \"http_header_cache-control_set_no-store\", \"http_header_cache-control_set_public\", \"http_header_cache-control_set_must-revalidate\"], \"type\": \"bar\", \"uid\": \"ef38fdb9-6c31-4019-9b1f-1383f8bf238e\"}], {\"autosize\": false, \"height\": 1000, \"width\": 1000, \"xaxis\": {\"tickfont\": {\"color\": \"black\", \"size\": 12}, \"title\": \"Feature Importances\"}, \"yaxis\": {\"automargin\": true}}, {\"showLink\": true, \"linkText\": \"Export to plot.ly\", \"plotlyServerURL\": \"https://plot.ly\"})});</script>"
      ],
      "text/vnd.plotly.v1+html": [
       "<div id=\"23173cf5-7482-4024-8ec3-9cd8ff2788d0\" style=\"height: 1000px; width: 1000px;\" class=\"plotly-graph-div\"></div><script type=\"text/javascript\">require([\"plotly\"], function(Plotly) { window.PLOTLYENV=window.PLOTLYENV || {};window.PLOTLYENV.BASE_URL=\"https://plot.ly\";Plotly.newPlot(\"23173cf5-7482-4024-8ec3-9cd8ff2788d0\", [{\"marker\": {\"color\": \"rgb(158,202,225)\", \"line\": {\"color\": \"rgb(8,48,107)\", \"width\": 1.5}}, \"opacity\": 0.6, \"orientation\": \"h\", \"text\": [0.3585, 0.3077, 0.0999, 0.0621, 0.0561, 0.0368, 0.0213, 0.0184, 0.0142, 0.0132, 0.0118], \"textposition\": \"outside\", \"x\": [0.3584754191431847, 0.30770204496134756, 0.09986188975234042, 0.062108701150609846, 0.05609838246497484, 0.03676150897256479, 0.021325508411055107, 0.01844666652523807, 0.014230257796053209, 0.013213000314505563, 0.011776620508125928], \"y\": [\"http_header_content-length\", \"http_header_content-encoding_gzip\", \"http_header_content-language_text/html\", \"http_header_cache-control_set_max-age\", \"http_header_server_apache\", \"http_header_server_nginx\", \"http_header_cache-control_set_private\", \"http_header_cache-control_set_no-cache\", \"http_header_cache-control_set_no-store\", \"http_header_cache-control_set_public\", \"http_header_cache-control_set_must-revalidate\"], \"type\": \"bar\", \"uid\": \"ef38fdb9-6c31-4019-9b1f-1383f8bf238e\"}], {\"autosize\": false, \"height\": 1000, \"width\": 1000, \"xaxis\": {\"tickfont\": {\"color\": \"black\", \"size\": 12}, \"title\": \"Feature Importances\"}, \"yaxis\": {\"automargin\": true}}, {\"showLink\": true, \"linkText\": \"Export to plot.ly\", \"plotlyServerURL\": \"https://plot.ly\"})});</script>"
      ]
     },
     "metadata": {},
     "output_type": "display_data"
    }
   ],
   "source": [
    "feat_impt_plot(np.average(feat_imp,axis=0),columns[:-2])"
   ]
  },
  {
   "cell_type": "markdown",
   "metadata": {},
   "source": [
    "### <a id='3' style=\"text-decoration : none; color : #000000;\"> 3. Undersampling</a>"
   ]
  },
  {
   "cell_type": "code",
   "execution_count": 20,
   "metadata": {},
   "outputs": [
    {
     "name": "stdout",
     "output_type": "stream",
     "text": [
      "Shape after undersampling (9662, 11)\n"
     ]
    }
   ],
   "source": [
    "df_non=train[train.Target==0]\n",
    "df_mal=train[train.Target==1]\n",
    "\n",
    "df_non=df_non.sample(frac=len(df_mal)/len(df_non),random_state=0)\n",
    "df_u=df_non.append(df_mal)\n",
    "df_u.Target.value_counts() \n",
    "\n",
    "X_train=df_u[columns[:-2]]\n",
    "X_train=scaler.transform(X_train)\n",
    "Y_train=df_u.Target.values\n",
    "\n",
    "print(\"Shape after undersampling\",X_train.shape)\n"
   ]
  },
  {
   "cell_type": "code",
   "execution_count": 21,
   "metadata": {
    "collapsed": true
   },
   "outputs": [],
   "source": [
    "## Table to store training and test measures so we can compare later\n",
    "table_80_90_train=pd.DataFrame(columns=['accuracy','TP','TN','FP','FN','FPR','FNR'])\n",
    "table_80_90_test=pd.DataFrame(columns=['accuracy','TP','TN','FP','FN','FPR','FNR','auc','mcc'])"
   ]
  },
  {
   "cell_type": "code",
   "execution_count": 22,
   "metadata": {
    "scrolled": false
   },
   "outputs": [
    {
     "name": "stdout",
     "output_type": "stream",
     "text": [
      "\u001b[1mK-Nearest Neighbors\u001b[0m\n",
      "Accuracy of the model for training data is: 0.597805837301\n",
      "Confusion Matrix for training data is:\n"
     ]
    },
    {
     "data": {
      "text/plain": [
       "Predicted  False  True  __all__\n",
       "Actual                         \n",
       "False       4718   113     4831\n",
       "True        3773  1058     4831\n",
       "__all__     8491  1171     9662"
      ]
     },
     "metadata": {},
     "output_type": "display_data"
    },
    {
     "name": "stdout",
     "output_type": "stream",
     "text": [
      "Accuracy of the model for test data is: 0.87112952464\n",
      "Confusion Matrix for test data is:\n"
     ]
    },
    {
     "data": {
      "text/plain": [
       "Predicted  False  True  __all__\n",
       "Actual                         \n",
       "False       7725   257     7982\n",
       "True         925   265     1190\n",
       "__all__     8650   522     9172"
      ]
     },
     "metadata": {},
     "output_type": "display_data"
    },
    {
     "name": "stdout",
     "output_type": "stream",
     "text": [
      "\n",
      "\n",
      "\u001b[1mLogistic Regression\u001b[0m\n",
      "Accuracy of the model for training data is: 0.830987373215\n",
      "Confusion Matrix for training data is:\n"
     ]
    },
    {
     "data": {
      "text/plain": [
       "Predicted  False  True  __all__\n",
       "Actual                         \n",
       "False       3993   838     4831\n",
       "True         795  4036     4831\n",
       "__all__     4788  4874     9662"
      ]
     },
     "metadata": {},
     "output_type": "display_data"
    },
    {
     "name": "stdout",
     "output_type": "stream",
     "text": [
      "Accuracy of the model for test data is: 0.823593545573\n",
      "Confusion Matrix for test data is:\n"
     ]
    },
    {
     "data": {
      "text/plain": [
       "Predicted  False  True  __all__\n",
       "Actual                         \n",
       "False       6554  1428     7982\n",
       "True         190  1000     1190\n",
       "__all__     6744  2428     9172"
      ]
     },
     "metadata": {},
     "output_type": "display_data"
    },
    {
     "name": "stdout",
     "output_type": "stream",
     "text": [
      "\n",
      "\n",
      "\u001b[1mRandomForest Classifier\u001b[0m\n",
      "Accuracy of the model for training data is: 0.914820948044\n",
      "Confusion Matrix for training data is:\n"
     ]
    },
    {
     "data": {
      "text/plain": [
       "Predicted  False  True  __all__\n",
       "Actual                         \n",
       "False       4352   479     4831\n",
       "True         344  4487     4831\n",
       "__all__     4696  4966     9662"
      ]
     },
     "metadata": {},
     "output_type": "display_data"
    },
    {
     "name": "stdout",
     "output_type": "stream",
     "text": [
      "Accuracy of the model for test data is: 0.875163541212\n",
      "Confusion Matrix for test data is:\n"
     ]
    },
    {
     "data": {
      "text/plain": [
       "Predicted  False  True  __all__\n",
       "Actual                         \n",
       "False       6952  1030     7982\n",
       "True         115  1075     1190\n",
       "__all__     7067  2105     9172"
      ]
     },
     "metadata": {},
     "output_type": "display_data"
    },
    {
     "data": {
      "application/vnd.plotly.v1+json": {
       "config": {
        "linkText": "Export to plot.ly",
        "plotlyServerURL": "https://plot.ly",
        "showLink": true
       },
       "data": [
        {
         "marker": {
          "color": "rgb(158,202,225)",
          "line": {
           "color": "rgb(8,48,107)",
           "width": 1.5
          }
         },
         "opacity": 0.6,
         "orientation": "h",
         "text": [
          0.3169,
          0.3029,
          0.1325,
          0.0686,
          0.0675,
          0.0251,
          0.0224,
          0.0195,
          0.0184,
          0.0162,
          0.01
         ],
         "textposition": "outside",
         "type": "bar",
         "uid": "abd8ce97-62d4-4f06-9bb2-33ec26dd71fc",
         "x": [
          0.3169377254018588,
          0.3028911851638667,
          0.1324620151706406,
          0.06856189105866163,
          0.06754789524289473,
          0.02510711432580625,
          0.02243035664038345,
          0.01946585157120543,
          0.018430493039938205,
          0.016198303524313683,
          0.009967168860430472
         ],
         "y": [
          "http_header_content-encoding_gzip",
          "http_header_content-length",
          "http_header_content-language_text/html",
          "http_header_server_apache",
          "http_header_cache-control_set_max-age",
          "http_header_cache-control_set_must-revalidate",
          "http_header_cache-control_set_no-cache",
          "http_header_server_nginx",
          "http_header_cache-control_set_private",
          "http_header_cache-control_set_public",
          "http_header_cache-control_set_no-store"
         ]
        }
       ],
       "layout": {
        "autosize": false,
        "height": 1000,
        "width": 1000,
        "xaxis": {
         "tickfont": {
          "color": "black",
          "size": 12
         },
         "title": "Feature Importances"
        },
        "yaxis": {
         "automargin": true
        }
       }
      },
      "text/html": [
       "<div id=\"5499f1f4-a878-41a2-bf85-66b411584518\" style=\"height: 1000px; width: 1000px;\" class=\"plotly-graph-div\"></div><script type=\"text/javascript\">require([\"plotly\"], function(Plotly) { window.PLOTLYENV=window.PLOTLYENV || {};window.PLOTLYENV.BASE_URL=\"https://plot.ly\";Plotly.newPlot(\"5499f1f4-a878-41a2-bf85-66b411584518\", [{\"marker\": {\"color\": \"rgb(158,202,225)\", \"line\": {\"color\": \"rgb(8,48,107)\", \"width\": 1.5}}, \"opacity\": 0.6, \"orientation\": \"h\", \"text\": [0.3169, 0.3029, 0.1325, 0.0686, 0.0675, 0.0251, 0.0224, 0.0195, 0.0184, 0.0162, 0.01], \"textposition\": \"outside\", \"x\": [0.3169377254018588, 0.3028911851638667, 0.1324620151706406, 0.06856189105866163, 0.06754789524289473, 0.02510711432580625, 0.02243035664038345, 0.01946585157120543, 0.018430493039938205, 0.016198303524313683, 0.009967168860430472], \"y\": [\"http_header_content-encoding_gzip\", \"http_header_content-length\", \"http_header_content-language_text/html\", \"http_header_server_apache\", \"http_header_cache-control_set_max-age\", \"http_header_cache-control_set_must-revalidate\", \"http_header_cache-control_set_no-cache\", \"http_header_server_nginx\", \"http_header_cache-control_set_private\", \"http_header_cache-control_set_public\", \"http_header_cache-control_set_no-store\"], \"type\": \"bar\", \"uid\": \"abd8ce97-62d4-4f06-9bb2-33ec26dd71fc\"}], {\"autosize\": false, \"height\": 1000, \"width\": 1000, \"xaxis\": {\"tickfont\": {\"color\": \"black\", \"size\": 12}, \"title\": \"Feature Importances\"}, \"yaxis\": {\"automargin\": true}}, {\"showLink\": true, \"linkText\": \"Export to plot.ly\", \"plotlyServerURL\": \"https://plot.ly\"})});</script>"
      ],
      "text/vnd.plotly.v1+html": [
       "<div id=\"5499f1f4-a878-41a2-bf85-66b411584518\" style=\"height: 1000px; width: 1000px;\" class=\"plotly-graph-div\"></div><script type=\"text/javascript\">require([\"plotly\"], function(Plotly) { window.PLOTLYENV=window.PLOTLYENV || {};window.PLOTLYENV.BASE_URL=\"https://plot.ly\";Plotly.newPlot(\"5499f1f4-a878-41a2-bf85-66b411584518\", [{\"marker\": {\"color\": \"rgb(158,202,225)\", \"line\": {\"color\": \"rgb(8,48,107)\", \"width\": 1.5}}, \"opacity\": 0.6, \"orientation\": \"h\", \"text\": [0.3169, 0.3029, 0.1325, 0.0686, 0.0675, 0.0251, 0.0224, 0.0195, 0.0184, 0.0162, 0.01], \"textposition\": \"outside\", \"x\": [0.3169377254018588, 0.3028911851638667, 0.1324620151706406, 0.06856189105866163, 0.06754789524289473, 0.02510711432580625, 0.02243035664038345, 0.01946585157120543, 0.018430493039938205, 0.016198303524313683, 0.009967168860430472], \"y\": [\"http_header_content-encoding_gzip\", \"http_header_content-length\", \"http_header_content-language_text/html\", \"http_header_server_apache\", \"http_header_cache-control_set_max-age\", \"http_header_cache-control_set_must-revalidate\", \"http_header_cache-control_set_no-cache\", \"http_header_server_nginx\", \"http_header_cache-control_set_private\", \"http_header_cache-control_set_public\", \"http_header_cache-control_set_no-store\"], \"type\": \"bar\", \"uid\": \"abd8ce97-62d4-4f06-9bb2-33ec26dd71fc\"}], {\"autosize\": false, \"height\": 1000, \"width\": 1000, \"xaxis\": {\"tickfont\": {\"color\": \"black\", \"size\": 12}, \"title\": \"Feature Importances\"}, \"yaxis\": {\"automargin\": true}}, {\"showLink\": true, \"linkText\": \"Export to plot.ly\", \"plotlyServerURL\": \"https://plot.ly\"})});</script>"
      ]
     },
     "metadata": {},
     "output_type": "display_data"
    },
    {
     "name": "stdout",
     "output_type": "stream",
     "text": [
      "\n",
      "\n",
      "\u001b[1mAdaoost Classifier\u001b[0m\n",
      "Accuracy of the model for training data is: 0.846719105775\n",
      "Confusion Matrix for training data is:\n"
     ]
    },
    {
     "data": {
      "text/plain": [
       "Predicted  False  True  __all__\n",
       "Actual                         \n",
       "False       4017   814     4831\n",
       "True         667  4164     4831\n",
       "__all__     4684  4978     9662"
      ]
     },
     "metadata": {},
     "output_type": "display_data"
    },
    {
     "name": "stdout",
     "output_type": "stream",
     "text": [
      "Accuracy of the model for test data is: 0.831661578718\n",
      "Confusion Matrix for test data is:\n"
     ]
    },
    {
     "data": {
      "text/plain": [
       "Predicted  False  True  __all__\n",
       "Actual                         \n",
       "False       6612  1370     7982\n",
       "True         174  1016     1190\n",
       "__all__     6786  2386     9172"
      ]
     },
     "metadata": {},
     "output_type": "display_data"
    },
    {
     "data": {
      "application/vnd.plotly.v1+json": {
       "config": {
        "linkText": "Export to plot.ly",
        "plotlyServerURL": "https://plot.ly",
        "showLink": true
       },
       "data": [
        {
         "marker": {
          "color": "rgb(158,202,225)",
          "line": {
           "color": "rgb(8,48,107)",
           "width": 1.5
          }
         },
         "opacity": 0.6,
         "orientation": "h",
         "text": [
          0.74,
          0.06,
          0.06,
          0.04,
          0.02,
          0.02,
          0.02,
          0.02,
          0.02,
          0,
          0
         ],
         "textposition": "outside",
         "type": "bar",
         "uid": "4b3b35bf-7ac7-4d08-ab4e-9dd2d24af871",
         "x": [
          0.74,
          0.06,
          0.06,
          0.04,
          0.02,
          0.02,
          0.02,
          0.02,
          0.02,
          0,
          0
         ],
         "y": [
          "http_header_content-length",
          "http_header_content-encoding_gzip",
          "http_header_content-language_text/html",
          "http_header_server_nginx",
          "http_header_cache-control_set_max-age",
          "http_header_cache-control_set_no-store",
          "http_header_cache-control_set_private",
          "http_header_cache-control_set_public",
          "http_header_server_apache",
          "http_header_cache-control_set_must-revalidate",
          "http_header_cache-control_set_no-cache"
         ]
        }
       ],
       "layout": {
        "autosize": false,
        "height": 1000,
        "width": 1000,
        "xaxis": {
         "tickfont": {
          "color": "black",
          "size": 12
         },
         "title": "Feature Importances"
        },
        "yaxis": {
         "automargin": true
        }
       }
      },
      "text/html": [
       "<div id=\"94f307cb-af24-4c6c-874f-5809341269ca\" style=\"height: 1000px; width: 1000px;\" class=\"plotly-graph-div\"></div><script type=\"text/javascript\">require([\"plotly\"], function(Plotly) { window.PLOTLYENV=window.PLOTLYENV || {};window.PLOTLYENV.BASE_URL=\"https://plot.ly\";Plotly.newPlot(\"94f307cb-af24-4c6c-874f-5809341269ca\", [{\"marker\": {\"color\": \"rgb(158,202,225)\", \"line\": {\"color\": \"rgb(8,48,107)\", \"width\": 1.5}}, \"opacity\": 0.6, \"orientation\": \"h\", \"text\": [0.74, 0.06, 0.06, 0.04, 0.02, 0.02, 0.02, 0.02, 0.02, 0.0, 0.0], \"textposition\": \"outside\", \"x\": [0.74, 0.06, 0.06, 0.04, 0.02, 0.02, 0.02, 0.02, 0.02, 0.0, 0.0], \"y\": [\"http_header_content-length\", \"http_header_content-encoding_gzip\", \"http_header_content-language_text/html\", \"http_header_server_nginx\", \"http_header_cache-control_set_max-age\", \"http_header_cache-control_set_no-store\", \"http_header_cache-control_set_private\", \"http_header_cache-control_set_public\", \"http_header_server_apache\", \"http_header_cache-control_set_must-revalidate\", \"http_header_cache-control_set_no-cache\"], \"type\": \"bar\", \"uid\": \"4b3b35bf-7ac7-4d08-ab4e-9dd2d24af871\"}], {\"autosize\": false, \"height\": 1000, \"width\": 1000, \"xaxis\": {\"tickfont\": {\"color\": \"black\", \"size\": 12}, \"title\": \"Feature Importances\"}, \"yaxis\": {\"automargin\": true}}, {\"showLink\": true, \"linkText\": \"Export to plot.ly\", \"plotlyServerURL\": \"https://plot.ly\"})});</script>"
      ],
      "text/vnd.plotly.v1+html": [
       "<div id=\"94f307cb-af24-4c6c-874f-5809341269ca\" style=\"height: 1000px; width: 1000px;\" class=\"plotly-graph-div\"></div><script type=\"text/javascript\">require([\"plotly\"], function(Plotly) { window.PLOTLYENV=window.PLOTLYENV || {};window.PLOTLYENV.BASE_URL=\"https://plot.ly\";Plotly.newPlot(\"94f307cb-af24-4c6c-874f-5809341269ca\", [{\"marker\": {\"color\": \"rgb(158,202,225)\", \"line\": {\"color\": \"rgb(8,48,107)\", \"width\": 1.5}}, \"opacity\": 0.6, \"orientation\": \"h\", \"text\": [0.74, 0.06, 0.06, 0.04, 0.02, 0.02, 0.02, 0.02, 0.02, 0.0, 0.0], \"textposition\": \"outside\", \"x\": [0.74, 0.06, 0.06, 0.04, 0.02, 0.02, 0.02, 0.02, 0.02, 0.0, 0.0], \"y\": [\"http_header_content-length\", \"http_header_content-encoding_gzip\", \"http_header_content-language_text/html\", \"http_header_server_nginx\", \"http_header_cache-control_set_max-age\", \"http_header_cache-control_set_no-store\", \"http_header_cache-control_set_private\", \"http_header_cache-control_set_public\", \"http_header_server_apache\", \"http_header_cache-control_set_must-revalidate\", \"http_header_cache-control_set_no-cache\"], \"type\": \"bar\", \"uid\": \"4b3b35bf-7ac7-4d08-ab4e-9dd2d24af871\"}], {\"autosize\": false, \"height\": 1000, \"width\": 1000, \"xaxis\": {\"tickfont\": {\"color\": \"black\", \"size\": 12}, \"title\": \"Feature Importances\"}, \"yaxis\": {\"automargin\": true}}, {\"showLink\": true, \"linkText\": \"Export to plot.ly\", \"plotlyServerURL\": \"https://plot.ly\"})});</script>"
      ]
     },
     "metadata": {},
     "output_type": "display_data"
    },
    {
     "name": "stdout",
     "output_type": "stream",
     "text": [
      "\n",
      "\n",
      "\u001b[1mGradientBoosting Classifier\u001b[0m\n",
      "Accuracy of the model for training data is: 0.88273649348\n",
      "Confusion Matrix for training data is:\n"
     ]
    },
    {
     "data": {
      "text/plain": [
       "Predicted  False  True  __all__\n",
       "Actual                         \n",
       "False       4165   666     4831\n",
       "True         467  4364     4831\n",
       "__all__     4632  5030     9662"
      ]
     },
     "metadata": {},
     "output_type": "display_data"
    },
    {
     "name": "stdout",
     "output_type": "stream",
     "text": [
      "Accuracy of the model for test data is: 0.862298299171\n",
      "Confusion Matrix for test data is:\n"
     ]
    },
    {
     "data": {
      "text/plain": [
       "Predicted  False  True  __all__\n",
       "Actual                         \n",
       "False       6833  1149     7982\n",
       "True         114  1076     1190\n",
       "__all__     6947  2225     9172"
      ]
     },
     "metadata": {},
     "output_type": "display_data"
    },
    {
     "data": {
      "application/vnd.plotly.v1+json": {
       "config": {
        "linkText": "Export to plot.ly",
        "plotlyServerURL": "https://plot.ly",
        "showLink": true
       },
       "data": [
        {
         "marker": {
          "color": "rgb(158,202,225)",
          "line": {
           "color": "rgb(8,48,107)",
           "width": 1.5
          }
         },
         "opacity": 0.6,
         "orientation": "h",
         "text": [
          0.6318,
          0.2362,
          0.0453,
          0.033,
          0.022,
          0.0109,
          0.0072,
          0.0044,
          0.0038,
          0.0038,
          0.0016
         ],
         "textposition": "outside",
         "type": "bar",
         "uid": "f33faa00-4328-4ede-930d-1c008d25e626",
         "x": [
          0.6318381331006657,
          0.23623041325374944,
          0.0452563044117988,
          0.032968573184278455,
          0.021980219329705807,
          0.010924634979564304,
          0.0071950221351664324,
          0.004423025096344413,
          0.003821111129531303,
          0.0037786232209098855,
          0.0015839401582852979
         ],
         "y": [
          "http_header_content-encoding_gzip",
          "http_header_content-length",
          "http_header_server_apache",
          "http_header_content-language_text/html",
          "http_header_cache-control_set_max-age",
          "http_header_cache-control_set_no-cache",
          "http_header_cache-control_set_no-store",
          "http_header_cache-control_set_private",
          "http_header_server_nginx",
          "http_header_cache-control_set_must-revalidate",
          "http_header_cache-control_set_public"
         ]
        }
       ],
       "layout": {
        "autosize": false,
        "height": 1000,
        "width": 1000,
        "xaxis": {
         "tickfont": {
          "color": "black",
          "size": 12
         },
         "title": "Feature Importances"
        },
        "yaxis": {
         "automargin": true
        }
       }
      },
      "text/html": [
       "<div id=\"a2280443-8992-4052-bda3-052687c836cc\" style=\"height: 1000px; width: 1000px;\" class=\"plotly-graph-div\"></div><script type=\"text/javascript\">require([\"plotly\"], function(Plotly) { window.PLOTLYENV=window.PLOTLYENV || {};window.PLOTLYENV.BASE_URL=\"https://plot.ly\";Plotly.newPlot(\"a2280443-8992-4052-bda3-052687c836cc\", [{\"marker\": {\"color\": \"rgb(158,202,225)\", \"line\": {\"color\": \"rgb(8,48,107)\", \"width\": 1.5}}, \"opacity\": 0.6, \"orientation\": \"h\", \"text\": [0.6318, 0.2362, 0.0453, 0.033, 0.022, 0.0109, 0.0072, 0.0044, 0.0038, 0.0038, 0.0016], \"textposition\": \"outside\", \"x\": [0.6318381331006657, 0.23623041325374944, 0.0452563044117988, 0.032968573184278455, 0.021980219329705807, 0.010924634979564304, 0.0071950221351664324, 0.004423025096344413, 0.003821111129531303, 0.0037786232209098855, 0.0015839401582852979], \"y\": [\"http_header_content-encoding_gzip\", \"http_header_content-length\", \"http_header_server_apache\", \"http_header_content-language_text/html\", \"http_header_cache-control_set_max-age\", \"http_header_cache-control_set_no-cache\", \"http_header_cache-control_set_no-store\", \"http_header_cache-control_set_private\", \"http_header_server_nginx\", \"http_header_cache-control_set_must-revalidate\", \"http_header_cache-control_set_public\"], \"type\": \"bar\", \"uid\": \"f33faa00-4328-4ede-930d-1c008d25e626\"}], {\"autosize\": false, \"height\": 1000, \"width\": 1000, \"xaxis\": {\"tickfont\": {\"color\": \"black\", \"size\": 12}, \"title\": \"Feature Importances\"}, \"yaxis\": {\"automargin\": true}}, {\"showLink\": true, \"linkText\": \"Export to plot.ly\", \"plotlyServerURL\": \"https://plot.ly\"})});</script>"
      ],
      "text/vnd.plotly.v1+html": [
       "<div id=\"a2280443-8992-4052-bda3-052687c836cc\" style=\"height: 1000px; width: 1000px;\" class=\"plotly-graph-div\"></div><script type=\"text/javascript\">require([\"plotly\"], function(Plotly) { window.PLOTLYENV=window.PLOTLYENV || {};window.PLOTLYENV.BASE_URL=\"https://plot.ly\";Plotly.newPlot(\"a2280443-8992-4052-bda3-052687c836cc\", [{\"marker\": {\"color\": \"rgb(158,202,225)\", \"line\": {\"color\": \"rgb(8,48,107)\", \"width\": 1.5}}, \"opacity\": 0.6, \"orientation\": \"h\", \"text\": [0.6318, 0.2362, 0.0453, 0.033, 0.022, 0.0109, 0.0072, 0.0044, 0.0038, 0.0038, 0.0016], \"textposition\": \"outside\", \"x\": [0.6318381331006657, 0.23623041325374944, 0.0452563044117988, 0.032968573184278455, 0.021980219329705807, 0.010924634979564304, 0.0071950221351664324, 0.004423025096344413, 0.003821111129531303, 0.0037786232209098855, 0.0015839401582852979], \"y\": [\"http_header_content-encoding_gzip\", \"http_header_content-length\", \"http_header_server_apache\", \"http_header_content-language_text/html\", \"http_header_cache-control_set_max-age\", \"http_header_cache-control_set_no-cache\", \"http_header_cache-control_set_no-store\", \"http_header_cache-control_set_private\", \"http_header_server_nginx\", \"http_header_cache-control_set_must-revalidate\", \"http_header_cache-control_set_public\"], \"type\": \"bar\", \"uid\": \"f33faa00-4328-4ede-930d-1c008d25e626\"}], {\"autosize\": false, \"height\": 1000, \"width\": 1000, \"xaxis\": {\"tickfont\": {\"color\": \"black\", \"size\": 12}, \"title\": \"Feature Importances\"}, \"yaxis\": {\"automargin\": true}}, {\"showLink\": true, \"linkText\": \"Export to plot.ly\", \"plotlyServerURL\": \"https://plot.ly\"})});</script>"
      ]
     },
     "metadata": {},
     "output_type": "display_data"
    },
    {
     "name": "stdout",
     "output_type": "stream",
     "text": [
      "\n",
      "\n",
      "\u001b[1mExtraTree Classifier\u001b[0m\n",
      "Accuracy of the model for training data is: 0.918857379425\n",
      "Confusion Matrix for training data is:\n"
     ]
    },
    {
     "data": {
      "text/plain": [
       "Predicted  False  True  __all__\n",
       "Actual                         \n",
       "False       4366   465     4831\n",
       "True         319  4512     4831\n",
       "__all__     4685  4977     9662"
      ]
     },
     "metadata": {},
     "output_type": "display_data"
    },
    {
     "name": "stdout",
     "output_type": "stream",
     "text": [
      "Accuracy of the model for test data is: 0.873310074139\n",
      "Confusion Matrix for test data is:\n"
     ]
    },
    {
     "data": {
      "text/plain": [
       "Predicted  False  True  __all__\n",
       "Actual                         \n",
       "False       6937  1045     7982\n",
       "True         117  1073     1190\n",
       "__all__     7054  2118     9172"
      ]
     },
     "metadata": {},
     "output_type": "display_data"
    },
    {
     "data": {
      "application/vnd.plotly.v1+json": {
       "config": {
        "linkText": "Export to plot.ly",
        "plotlyServerURL": "https://plot.ly",
        "showLink": true
       },
       "data": [
        {
         "marker": {
          "color": "rgb(158,202,225)",
          "line": {
           "color": "rgb(8,48,107)",
           "width": 1.5
          }
         },
         "opacity": 0.6,
         "orientation": "h",
         "text": [
          0.3838,
          0.2219,
          0.1544,
          0.0749,
          0.0406,
          0.0346,
          0.0265,
          0.0196,
          0.0172,
          0.0163,
          0.0103
         ],
         "textposition": "outside",
         "type": "bar",
         "uid": "d00067a3-fc3f-476c-96f4-06d02567fe25",
         "x": [
          0.3838072044330837,
          0.22189962352105805,
          0.15436392404117455,
          0.0748691243942238,
          0.04055877757100507,
          0.03455712192567446,
          0.02654700629414352,
          0.01959114642474238,
          0.017212914549424217,
          0.01633715437107618,
          0.010256002474394043
         ],
         "y": [
          "http_header_content-encoding_gzip",
          "http_header_content-length",
          "http_header_content-language_text/html",
          "http_header_server_apache",
          "http_header_cache-control_set_max-age",
          "http_header_server_nginx",
          "http_header_cache-control_set_no-cache",
          "http_header_cache-control_set_must-revalidate",
          "http_header_cache-control_set_private",
          "http_header_cache-control_set_no-store",
          "http_header_cache-control_set_public"
         ]
        }
       ],
       "layout": {
        "autosize": false,
        "height": 1000,
        "width": 1000,
        "xaxis": {
         "tickfont": {
          "color": "black",
          "size": 12
         },
         "title": "Feature Importances"
        },
        "yaxis": {
         "automargin": true
        }
       }
      },
      "text/html": [
       "<div id=\"ed0d2f5e-661a-4c52-827e-5c0c9364b813\" style=\"height: 1000px; width: 1000px;\" class=\"plotly-graph-div\"></div><script type=\"text/javascript\">require([\"plotly\"], function(Plotly) { window.PLOTLYENV=window.PLOTLYENV || {};window.PLOTLYENV.BASE_URL=\"https://plot.ly\";Plotly.newPlot(\"ed0d2f5e-661a-4c52-827e-5c0c9364b813\", [{\"marker\": {\"color\": \"rgb(158,202,225)\", \"line\": {\"color\": \"rgb(8,48,107)\", \"width\": 1.5}}, \"opacity\": 0.6, \"orientation\": \"h\", \"text\": [0.3838, 0.2219, 0.1544, 0.0749, 0.0406, 0.0346, 0.0265, 0.0196, 0.0172, 0.0163, 0.0103], \"textposition\": \"outside\", \"x\": [0.3838072044330837, 0.22189962352105805, 0.15436392404117455, 0.0748691243942238, 0.04055877757100507, 0.03455712192567446, 0.02654700629414352, 0.01959114642474238, 0.017212914549424217, 0.01633715437107618, 0.010256002474394043], \"y\": [\"http_header_content-encoding_gzip\", \"http_header_content-length\", \"http_header_content-language_text/html\", \"http_header_server_apache\", \"http_header_cache-control_set_max-age\", \"http_header_server_nginx\", \"http_header_cache-control_set_no-cache\", \"http_header_cache-control_set_must-revalidate\", \"http_header_cache-control_set_private\", \"http_header_cache-control_set_no-store\", \"http_header_cache-control_set_public\"], \"type\": \"bar\", \"uid\": \"d00067a3-fc3f-476c-96f4-06d02567fe25\"}], {\"autosize\": false, \"height\": 1000, \"width\": 1000, \"xaxis\": {\"tickfont\": {\"color\": \"black\", \"size\": 12}, \"title\": \"Feature Importances\"}, \"yaxis\": {\"automargin\": true}}, {\"showLink\": true, \"linkText\": \"Export to plot.ly\", \"plotlyServerURL\": \"https://plot.ly\"})});</script>"
      ],
      "text/vnd.plotly.v1+html": [
       "<div id=\"ed0d2f5e-661a-4c52-827e-5c0c9364b813\" style=\"height: 1000px; width: 1000px;\" class=\"plotly-graph-div\"></div><script type=\"text/javascript\">require([\"plotly\"], function(Plotly) { window.PLOTLYENV=window.PLOTLYENV || {};window.PLOTLYENV.BASE_URL=\"https://plot.ly\";Plotly.newPlot(\"ed0d2f5e-661a-4c52-827e-5c0c9364b813\", [{\"marker\": {\"color\": \"rgb(158,202,225)\", \"line\": {\"color\": \"rgb(8,48,107)\", \"width\": 1.5}}, \"opacity\": 0.6, \"orientation\": \"h\", \"text\": [0.3838, 0.2219, 0.1544, 0.0749, 0.0406, 0.0346, 0.0265, 0.0196, 0.0172, 0.0163, 0.0103], \"textposition\": \"outside\", \"x\": [0.3838072044330837, 0.22189962352105805, 0.15436392404117455, 0.0748691243942238, 0.04055877757100507, 0.03455712192567446, 0.02654700629414352, 0.01959114642474238, 0.017212914549424217, 0.01633715437107618, 0.010256002474394043], \"y\": [\"http_header_content-encoding_gzip\", \"http_header_content-length\", \"http_header_content-language_text/html\", \"http_header_server_apache\", \"http_header_cache-control_set_max-age\", \"http_header_server_nginx\", \"http_header_cache-control_set_no-cache\", \"http_header_cache-control_set_must-revalidate\", \"http_header_cache-control_set_private\", \"http_header_cache-control_set_no-store\", \"http_header_cache-control_set_public\"], \"type\": \"bar\", \"uid\": \"d00067a3-fc3f-476c-96f4-06d02567fe25\"}], {\"autosize\": false, \"height\": 1000, \"width\": 1000, \"xaxis\": {\"tickfont\": {\"color\": \"black\", \"size\": 12}, \"title\": \"Feature Importances\"}, \"yaxis\": {\"automargin\": true}}, {\"showLink\": true, \"linkText\": \"Export to plot.ly\", \"plotlyServerURL\": \"https://plot.ly\"})});</script>"
      ]
     },
     "metadata": {},
     "output_type": "display_data"
    },
    {
     "name": "stdout",
     "output_type": "stream",
     "text": [
      "\n",
      "\n",
      "\u001b[1mBagging Classifier\u001b[0m\n",
      "Accuracy of the model for training data is: 0.915338439247\n",
      "Confusion Matrix for training data is:\n"
     ]
    },
    {
     "data": {
      "text/plain": [
       "Predicted  False  True  __all__\n",
       "Actual                         \n",
       "False       4346   485     4831\n",
       "True         333  4498     4831\n",
       "__all__     4679  4983     9662"
      ]
     },
     "metadata": {},
     "output_type": "display_data"
    },
    {
     "name": "stdout",
     "output_type": "stream",
     "text": [
      "Accuracy of the model for test data is: 0.875381596162\n",
      "Confusion Matrix for test data is:\n"
     ]
    },
    {
     "data": {
      "text/plain": [
       "Predicted  False  True  __all__\n",
       "Actual                         \n",
       "False       6960  1022     7982\n",
       "True         121  1069     1190\n",
       "__all__     7081  2091     9172"
      ]
     },
     "metadata": {},
     "output_type": "display_data"
    },
    {
     "name": "stdout",
     "output_type": "stream",
     "text": [
      "\n",
      "\n",
      "\u001b[1mNeural Network-1\u001b[0m\n",
      "The accuracy of the model on training data is: 0.881701511099\n"
     ]
    },
    {
     "data": {
      "text/plain": [
       "Predicted  False  True  __all__\n",
       "Actual                         \n",
       "False       4248   583     4831\n",
       "True         560  4271     4831\n",
       "__all__     4808  4854     9662"
      ]
     },
     "metadata": {},
     "output_type": "display_data"
    },
    {
     "name": "stdout",
     "output_type": "stream",
     "text": [
      "The accuracy of the model on test data is: 0.878761447885\n"
     ]
    },
    {
     "data": {
      "text/plain": [
       "Predicted  False  True  __all__\n",
       "Actual                         \n",
       "False       7007   975     7982\n",
       "True         137  1053     1190\n",
       "__all__     7144  2028     9172"
      ]
     },
     "metadata": {},
     "output_type": "display_data"
    },
    {
     "name": "stdout",
     "output_type": "stream",
     "text": [
      "\n",
      "\n"
     ]
    }
   ],
   "source": [
    "feat_imp=[None]*4\n",
    "j=0\n",
    "for i in range(0,8):\n",
    "    if i>=2 and i<=5:\n",
    "        model,cm_train,cm_test,acc_train,acc_test,roc_auc,feat_imp[j],mcc=f[i](X_train,Y_train,scaled_X_test,test_Y,columns[:-2])\n",
    "        j=j+1\n",
    "    else:\n",
    "        model,cm_train,cm_test,acc_train,acc_test,roc_auc,mcc=f[i](X_train,Y_train,scaled_X_test,test_Y)\n",
    "    table_80_90_train.loc[i]=   ([acc_train,cm_train.TP,cm_train.TN,cm_train.FP,cm_train.FN,cm_train.FPR,cm_train.FNR])\n",
    "    table_80_90_test.loc[i] =   ([acc_test ,cm_test.TP, cm_test.TN, cm_test.FP, cm_test.FN, cm_test.FPR, cm_test.FNR,roc_auc,mcc])\n",
    "    print(\"\\n\")"
   ]
  },
  {
   "cell_type": "markdown",
   "metadata": {},
   "source": [
    "### <a id='3.A' style=\"text-decoration : none; color : #000000;\"> A. Results</a>"
   ]
  },
  {
   "cell_type": "code",
   "execution_count": 23,
   "metadata": {},
   "outputs": [
    {
     "data": {
      "application/vnd.plotly.v1+json": {
       "config": {
        "linkText": "Export to plot.ly",
        "plotlyServerURL": "https://plot.ly",
        "showLink": true
       },
       "data": [
        {
         "mode": "lines",
         "name": "KNN_model",
         "type": "scatter",
         "uid": "0c73c61b-effa-4968-bff0-5ab42677d5ce",
         "x": [
          "accuracy",
          "FPR",
          "FNR",
          "auc"
         ],
         "y": [
          0.8711295246402093,
          0.032197444249561516,
          0.7773109243697479,
          0.5952458156903453
         ]
        },
        {
         "mode": "lines+markers",
         "name": "Logistic Regression",
         "type": "scatter",
         "uid": "f9d1fa85-0da5-4cb0-90c8-6d0617c8f04e",
         "x": [
          "accuracy",
          "FPR",
          "FNR",
          "auc"
         ],
         "y": [
          0.8235935455734845,
          0.17890253069406165,
          0.15966386554621848,
          0.83071680187986
         ]
        },
        {
         "marker": {
          "symbol": "x"
         },
         "mode": "lines+markers",
         "name": "Random Forest",
         "type": "scatter",
         "uid": "5245fc89-f68b-4a8d-8bf9-f136bede463f",
         "x": [
          "accuracy",
          "FPR",
          "FNR",
          "auc"
         ],
         "y": [
          0.8751635412123855,
          0.12904034076672513,
          0.09663865546218488,
          0.8871605018855451
         ]
        },
        {
         "mode": "lines",
         "name": "Ada Boost",
         "type": "scatter",
         "uid": "f63b4ace-3c7a-482f-a91e-1a89db0aa552",
         "x": [
          "accuracy",
          "FPR",
          "FNR",
          "auc"
         ],
         "y": [
          0.8316615787178369,
          0.1716361814081684,
          0.146218487394958,
          0.8410726655984369
         ]
        },
        {
         "mode": "lines+markers",
         "name": "GradientBoosting",
         "type": "scatter",
         "uid": "1d019bb8-da11-46e6-9293-806404805372",
         "x": [
          "accuracy",
          "FPR",
          "FNR",
          "auc"
         ],
         "y": [
          0.8622982991713912,
          0.14394888499123026,
          0.0957983193277311,
          0.8801263978405193
         ]
        },
        {
         "marker": {
          "symbol": "x"
         },
         "mode": "lines+markers",
         "name": "ExtraTree Classifier",
         "type": "scatter",
         "uid": "227b2c98-b3e6-48a9-9fd1-f1bbcc36d31a",
         "x": [
          "accuracy",
          "FPR",
          "FNR",
          "auc"
         ],
         "y": [
          0.873310074138683,
          0.1309195690303182,
          0.09831932773109243,
          0.8853805516192946
         ]
        },
        {
         "marker": {
          "symbol": "x"
         },
         "mode": "lines+markers",
         "name": "Bagging",
         "type": "scatter",
         "uid": "af7d05ec-7397-4dd5-a323-ec35bc43b1dc",
         "x": [
          "accuracy",
          "FPR",
          "FNR",
          "auc"
         ],
         "y": [
          0.8753815961622329,
          0.1280380856928088,
          0.10168067226890756,
          0.8851406210191417
         ]
        },
        {
         "marker": {
          "symbol": "x"
         },
         "mode": "lines+markers",
         "name": "Neural Network",
         "type": "scatter",
         "uid": "031a9548-ca8e-49c7-8392-23ac9763e5e0",
         "x": [
          "accuracy",
          "FPR",
          "FNR",
          "auc"
         ],
         "y": [
          0.878761447884867,
          0.12214983713355049,
          0.11512605042016806,
          0.8851406210191417
         ]
        }
       ],
       "layout": {
        "title": "Result comparision for Features selected in Section 1",
        "yaxis": {
         "dtick": 0.05,
         "tick0": 0
        }
       }
      },
      "text/html": [
       "<div id=\"cbc7fe88-15ae-44d7-a385-250c57a9dcc4\" style=\"height: 525px; width: 100%;\" class=\"plotly-graph-div\"></div><script type=\"text/javascript\">require([\"plotly\"], function(Plotly) { window.PLOTLYENV=window.PLOTLYENV || {};window.PLOTLYENV.BASE_URL=\"https://plot.ly\";Plotly.newPlot(\"cbc7fe88-15ae-44d7-a385-250c57a9dcc4\", [{\"mode\": \"lines\", \"name\": \"KNN_model\", \"x\": [\"accuracy\", \"FPR\", \"FNR\", \"auc\"], \"y\": [0.8711295246402093, 0.032197444249561516, 0.7773109243697479, 0.5952458156903453], \"type\": \"scatter\", \"uid\": \"0c73c61b-effa-4968-bff0-5ab42677d5ce\"}, {\"mode\": \"lines+markers\", \"name\": \"Logistic Regression\", \"x\": [\"accuracy\", \"FPR\", \"FNR\", \"auc\"], \"y\": [0.8235935455734845, 0.17890253069406165, 0.15966386554621848, 0.83071680187986], \"type\": \"scatter\", \"uid\": \"f9d1fa85-0da5-4cb0-90c8-6d0617c8f04e\"}, {\"marker\": {\"symbol\": \"x\"}, \"mode\": \"lines+markers\", \"name\": \"Random Forest\", \"x\": [\"accuracy\", \"FPR\", \"FNR\", \"auc\"], \"y\": [0.8751635412123855, 0.12904034076672513, 0.09663865546218488, 0.8871605018855451], \"type\": \"scatter\", \"uid\": \"5245fc89-f68b-4a8d-8bf9-f136bede463f\"}, {\"mode\": \"lines\", \"name\": \"Ada Boost\", \"x\": [\"accuracy\", \"FPR\", \"FNR\", \"auc\"], \"y\": [0.8316615787178369, 0.1716361814081684, 0.146218487394958, 0.8410726655984369], \"type\": \"scatter\", \"uid\": \"f63b4ace-3c7a-482f-a91e-1a89db0aa552\"}, {\"mode\": \"lines+markers\", \"name\": \"GradientBoosting\", \"x\": [\"accuracy\", \"FPR\", \"FNR\", \"auc\"], \"y\": [0.8622982991713912, 0.14394888499123026, 0.0957983193277311, 0.8801263978405193], \"type\": \"scatter\", \"uid\": \"1d019bb8-da11-46e6-9293-806404805372\"}, {\"marker\": {\"symbol\": \"x\"}, \"mode\": \"lines+markers\", \"name\": \"ExtraTree Classifier\", \"x\": [\"accuracy\", \"FPR\", \"FNR\", \"auc\"], \"y\": [0.873310074138683, 0.1309195690303182, 0.09831932773109243, 0.8853805516192946], \"type\": \"scatter\", \"uid\": \"227b2c98-b3e6-48a9-9fd1-f1bbcc36d31a\"}, {\"marker\": {\"symbol\": \"x\"}, \"mode\": \"lines+markers\", \"name\": \"Bagging\", \"x\": [\"accuracy\", \"FPR\", \"FNR\", \"auc\"], \"y\": [0.8753815961622329, 0.1280380856928088, 0.10168067226890756, 0.8851406210191417], \"type\": \"scatter\", \"uid\": \"af7d05ec-7397-4dd5-a323-ec35bc43b1dc\"}, {\"marker\": {\"symbol\": \"x\"}, \"mode\": \"lines+markers\", \"name\": \"Neural Network\", \"x\": [\"accuracy\", \"FPR\", \"FNR\", \"auc\"], \"y\": [0.878761447884867, 0.12214983713355049, 0.11512605042016806, 0.8851406210191417], \"type\": \"scatter\", \"uid\": \"031a9548-ca8e-49c7-8392-23ac9763e5e0\"}], {\"title\": \"Result comparision for Features selected in Section 1\", \"yaxis\": {\"dtick\": 0.05, \"tick0\": 0}}, {\"showLink\": true, \"linkText\": \"Export to plot.ly\", \"plotlyServerURL\": \"https://plot.ly\"})});</script><script type=\"text/javascript\">window.addEventListener(\"resize\", function(){window._Plotly.Plots.resize(document.getElementById(\"cbc7fe88-15ae-44d7-a385-250c57a9dcc4\"));});</script>"
      ],
      "text/vnd.plotly.v1+html": [
       "<div id=\"cbc7fe88-15ae-44d7-a385-250c57a9dcc4\" style=\"height: 525px; width: 100%;\" class=\"plotly-graph-div\"></div><script type=\"text/javascript\">require([\"plotly\"], function(Plotly) { window.PLOTLYENV=window.PLOTLYENV || {};window.PLOTLYENV.BASE_URL=\"https://plot.ly\";Plotly.newPlot(\"cbc7fe88-15ae-44d7-a385-250c57a9dcc4\", [{\"mode\": \"lines\", \"name\": \"KNN_model\", \"x\": [\"accuracy\", \"FPR\", \"FNR\", \"auc\"], \"y\": [0.8711295246402093, 0.032197444249561516, 0.7773109243697479, 0.5952458156903453], \"type\": \"scatter\", \"uid\": \"0c73c61b-effa-4968-bff0-5ab42677d5ce\"}, {\"mode\": \"lines+markers\", \"name\": \"Logistic Regression\", \"x\": [\"accuracy\", \"FPR\", \"FNR\", \"auc\"], \"y\": [0.8235935455734845, 0.17890253069406165, 0.15966386554621848, 0.83071680187986], \"type\": \"scatter\", \"uid\": \"f9d1fa85-0da5-4cb0-90c8-6d0617c8f04e\"}, {\"marker\": {\"symbol\": \"x\"}, \"mode\": \"lines+markers\", \"name\": \"Random Forest\", \"x\": [\"accuracy\", \"FPR\", \"FNR\", \"auc\"], \"y\": [0.8751635412123855, 0.12904034076672513, 0.09663865546218488, 0.8871605018855451], \"type\": \"scatter\", \"uid\": \"5245fc89-f68b-4a8d-8bf9-f136bede463f\"}, {\"mode\": \"lines\", \"name\": \"Ada Boost\", \"x\": [\"accuracy\", \"FPR\", \"FNR\", \"auc\"], \"y\": [0.8316615787178369, 0.1716361814081684, 0.146218487394958, 0.8410726655984369], \"type\": \"scatter\", \"uid\": \"f63b4ace-3c7a-482f-a91e-1a89db0aa552\"}, {\"mode\": \"lines+markers\", \"name\": \"GradientBoosting\", \"x\": [\"accuracy\", \"FPR\", \"FNR\", \"auc\"], \"y\": [0.8622982991713912, 0.14394888499123026, 0.0957983193277311, 0.8801263978405193], \"type\": \"scatter\", \"uid\": \"1d019bb8-da11-46e6-9293-806404805372\"}, {\"marker\": {\"symbol\": \"x\"}, \"mode\": \"lines+markers\", \"name\": \"ExtraTree Classifier\", \"x\": [\"accuracy\", \"FPR\", \"FNR\", \"auc\"], \"y\": [0.873310074138683, 0.1309195690303182, 0.09831932773109243, 0.8853805516192946], \"type\": \"scatter\", \"uid\": \"227b2c98-b3e6-48a9-9fd1-f1bbcc36d31a\"}, {\"marker\": {\"symbol\": \"x\"}, \"mode\": \"lines+markers\", \"name\": \"Bagging\", \"x\": [\"accuracy\", \"FPR\", \"FNR\", \"auc\"], \"y\": [0.8753815961622329, 0.1280380856928088, 0.10168067226890756, 0.8851406210191417], \"type\": \"scatter\", \"uid\": \"af7d05ec-7397-4dd5-a323-ec35bc43b1dc\"}, {\"marker\": {\"symbol\": \"x\"}, \"mode\": \"lines+markers\", \"name\": \"Neural Network\", \"x\": [\"accuracy\", \"FPR\", \"FNR\", \"auc\"], \"y\": [0.878761447884867, 0.12214983713355049, 0.11512605042016806, 0.8851406210191417], \"type\": \"scatter\", \"uid\": \"031a9548-ca8e-49c7-8392-23ac9763e5e0\"}], {\"title\": \"Result comparision for Features selected in Section 1\", \"yaxis\": {\"dtick\": 0.05, \"tick0\": 0}}, {\"showLink\": true, \"linkText\": \"Export to plot.ly\", \"plotlyServerURL\": \"https://plot.ly\"})});</script><script type=\"text/javascript\">window.addEventListener(\"resize\", function(){window._Plotly.Plots.resize(document.getElementById(\"cbc7fe88-15ae-44d7-a385-250c57a9dcc4\"));});</script>"
      ]
     },
     "metadata": {},
     "output_type": "display_data"
    }
   ],
   "source": [
    "trace0 = go.Scatter(x=table_80_90_test.iloc[0].index.values[[0,5,6,7]],\n",
    "                    y=table_80_90_test.iloc[0].values[[0,5,6,7]],\n",
    "                    mode = 'lines',\n",
    "                    name = 'KNN_model')\n",
    "\n",
    "trace1 = go.Scatter(x=table_80_90_test.iloc[1].index.values[[0,5,6,7]],\n",
    "                    y=table_80_90_test.iloc[1].values[[0,5,6,7]],\n",
    "                    mode = 'lines+markers',\n",
    "                    name = 'Logistic Regression')\n",
    "\n",
    "trace2 = go.Scatter(x=table_80_90_test.iloc[2].index.values[[0,5,6,7]],\n",
    "                    y=table_80_90_test.iloc[2].values[[0,5,6,7]],\n",
    "                    mode = 'lines+markers',marker=dict(symbol='x'),\n",
    "                    name = 'Random Forest')\n",
    "\n",
    "\n",
    "trace3 = go.Scatter(x=table_80_90_test.iloc[3].index.values[[0,5,6,7]],\n",
    "                    y=table_80_90_test.iloc[3].values[[0,5,6,7]],\n",
    "                    mode = 'lines',\n",
    "                    name = 'Ada Boost')\n",
    "\n",
    "trace4 = go.Scatter(x=table_80_90_test.iloc[4].index.values[[0,5,6,7]],\n",
    "                    y=table_80_90_test.iloc[4].values[[0,5,6,7]],\n",
    "                    mode = 'lines+markers',\n",
    "                    name = 'GradientBoosting')\n",
    "\n",
    "trace5 = go.Scatter(x=table_80_90_test.iloc[5].index.values[[0,5,6,7]],\n",
    "                    y=table_80_90_test.iloc[5].values[[0,5,6,7]],\n",
    "                    mode = 'lines+markers',marker=dict(symbol='x'),\n",
    "                    name = 'ExtraTree Classifier')\n",
    "\n",
    "trace6 = go.Scatter(x=table_80_90_test.iloc[6].index.values[[0,5,6,7]],\n",
    "                    y=table_80_90_test.iloc[6].values[[0,5,6,7]],\n",
    "                    mode = 'lines+markers',marker=dict(symbol='x'),\n",
    "                    name = 'Bagging')\n",
    "\n",
    "trace7 = go.Scatter(x=table_80_90_test.iloc[7].index.values[[0,5,6,7]],\n",
    "                    y=table_80_90_test.iloc[7].values[[0,5,6,7]],\n",
    "                    mode = 'lines+markers',marker=dict(symbol='x'),\n",
    "                    name = 'Neural Network')\n",
    "\n",
    "\n",
    "\n",
    "data = [trace0, trace1, trace2, trace3, trace4, trace5, trace6, trace7]\n",
    "layout = go.Layout(yaxis=dict(tick0=0,dtick=0.05),title='Result comparision for Features selected in Section 1')\n",
    "fig = go.Figure(data=data, layout=layout)\n",
    "\n",
    "iplot(fig, filename='Result')"
   ]
  },
  {
   "cell_type": "code",
   "execution_count": 24,
   "metadata": {},
   "outputs": [
    {
     "name": "stdout",
     "output_type": "stream",
     "text": [
      "Training Results\n"
     ]
    },
    {
     "data": {
      "text/html": [
       "<div>\n",
       "<style scoped>\n",
       "    .dataframe tbody tr th:only-of-type {\n",
       "        vertical-align: middle;\n",
       "    }\n",
       "\n",
       "    .dataframe tbody tr th {\n",
       "        vertical-align: top;\n",
       "    }\n",
       "\n",
       "    .dataframe thead th {\n",
       "        text-align: right;\n",
       "    }\n",
       "</style>\n",
       "<table border=\"1\" class=\"dataframe\">\n",
       "  <thead>\n",
       "    <tr style=\"text-align: right;\">\n",
       "      <th></th>\n",
       "      <th>accuracy</th>\n",
       "      <th>TP</th>\n",
       "      <th>TN</th>\n",
       "      <th>FP</th>\n",
       "      <th>FN</th>\n",
       "      <th>FPR</th>\n",
       "      <th>FNR</th>\n",
       "    </tr>\n",
       "    <tr>\n",
       "      <th>index</th>\n",
       "      <th></th>\n",
       "      <th></th>\n",
       "      <th></th>\n",
       "      <th></th>\n",
       "      <th></th>\n",
       "      <th></th>\n",
       "      <th></th>\n",
       "    </tr>\n",
       "  </thead>\n",
       "  <tbody>\n",
       "    <tr>\n",
       "      <th>KNeighborsClassifier</th>\n",
       "      <td>0.597806</td>\n",
       "      <td>1058.0</td>\n",
       "      <td>4718.0</td>\n",
       "      <td>113.0</td>\n",
       "      <td>3773.0</td>\n",
       "      <td>0.023391</td>\n",
       "      <td>0.780998</td>\n",
       "    </tr>\n",
       "    <tr>\n",
       "      <th>LogisticRegression</th>\n",
       "      <td>0.830987</td>\n",
       "      <td>4036.0</td>\n",
       "      <td>3993.0</td>\n",
       "      <td>838.0</td>\n",
       "      <td>795.0</td>\n",
       "      <td>0.173463</td>\n",
       "      <td>0.164562</td>\n",
       "    </tr>\n",
       "    <tr>\n",
       "      <th>RandomForestClassifier</th>\n",
       "      <td>0.914821</td>\n",
       "      <td>4487.0</td>\n",
       "      <td>4352.0</td>\n",
       "      <td>479.0</td>\n",
       "      <td>344.0</td>\n",
       "      <td>0.099151</td>\n",
       "      <td>0.071207</td>\n",
       "    </tr>\n",
       "    <tr>\n",
       "      <th>AdaBoostClassifier</th>\n",
       "      <td>0.846719</td>\n",
       "      <td>4164.0</td>\n",
       "      <td>4017.0</td>\n",
       "      <td>814.0</td>\n",
       "      <td>667.0</td>\n",
       "      <td>0.168495</td>\n",
       "      <td>0.138067</td>\n",
       "    </tr>\n",
       "    <tr>\n",
       "      <th>GradientBoostingClassifier</th>\n",
       "      <td>0.882736</td>\n",
       "      <td>4364.0</td>\n",
       "      <td>4165.0</td>\n",
       "      <td>666.0</td>\n",
       "      <td>467.0</td>\n",
       "      <td>0.137860</td>\n",
       "      <td>0.096667</td>\n",
       "    </tr>\n",
       "    <tr>\n",
       "      <th>ExtraTreeClassifier</th>\n",
       "      <td>0.918857</td>\n",
       "      <td>4512.0</td>\n",
       "      <td>4366.0</td>\n",
       "      <td>465.0</td>\n",
       "      <td>319.0</td>\n",
       "      <td>0.096253</td>\n",
       "      <td>0.066032</td>\n",
       "    </tr>\n",
       "    <tr>\n",
       "      <th>BaggingClassifier</th>\n",
       "      <td>0.915338</td>\n",
       "      <td>4498.0</td>\n",
       "      <td>4346.0</td>\n",
       "      <td>485.0</td>\n",
       "      <td>333.0</td>\n",
       "      <td>0.100393</td>\n",
       "      <td>0.068930</td>\n",
       "    </tr>\n",
       "    <tr>\n",
       "      <th>Neural Network-1</th>\n",
       "      <td>0.881702</td>\n",
       "      <td>4271.0</td>\n",
       "      <td>4248.0</td>\n",
       "      <td>583.0</td>\n",
       "      <td>560.0</td>\n",
       "      <td>0.120679</td>\n",
       "      <td>0.115918</td>\n",
       "    </tr>\n",
       "  </tbody>\n",
       "</table>\n",
       "</div>"
      ],
      "text/plain": [
       "                            accuracy      TP      TN     FP      FN       FPR  \\\n",
       "index                                                                           \n",
       "KNeighborsClassifier        0.597806  1058.0  4718.0  113.0  3773.0  0.023391   \n",
       "LogisticRegression          0.830987  4036.0  3993.0  838.0   795.0  0.173463   \n",
       "RandomForestClassifier      0.914821  4487.0  4352.0  479.0   344.0  0.099151   \n",
       "AdaBoostClassifier          0.846719  4164.0  4017.0  814.0   667.0  0.168495   \n",
       "GradientBoostingClassifier  0.882736  4364.0  4165.0  666.0   467.0  0.137860   \n",
       "ExtraTreeClassifier         0.918857  4512.0  4366.0  465.0   319.0  0.096253   \n",
       "BaggingClassifier           0.915338  4498.0  4346.0  485.0   333.0  0.100393   \n",
       "Neural Network-1            0.881702  4271.0  4248.0  583.0   560.0  0.120679   \n",
       "\n",
       "                                 FNR  \n",
       "index                                 \n",
       "KNeighborsClassifier        0.780998  \n",
       "LogisticRegression          0.164562  \n",
       "RandomForestClassifier      0.071207  \n",
       "AdaBoostClassifier          0.138067  \n",
       "GradientBoostingClassifier  0.096667  \n",
       "ExtraTreeClassifier         0.066032  \n",
       "BaggingClassifier           0.068930  \n",
       "Neural Network-1            0.115918  "
      ]
     },
     "metadata": {},
     "output_type": "display_data"
    },
    {
     "name": "stdout",
     "output_type": "stream",
     "text": [
      "Test Results\n"
     ]
    },
    {
     "data": {
      "text/html": [
       "<div>\n",
       "<style scoped>\n",
       "    .dataframe tbody tr th:only-of-type {\n",
       "        vertical-align: middle;\n",
       "    }\n",
       "\n",
       "    .dataframe tbody tr th {\n",
       "        vertical-align: top;\n",
       "    }\n",
       "\n",
       "    .dataframe thead th {\n",
       "        text-align: right;\n",
       "    }\n",
       "</style>\n",
       "<table border=\"1\" class=\"dataframe\">\n",
       "  <thead>\n",
       "    <tr style=\"text-align: right;\">\n",
       "      <th></th>\n",
       "      <th>accuracy</th>\n",
       "      <th>TP</th>\n",
       "      <th>TN</th>\n",
       "      <th>FP</th>\n",
       "      <th>FN</th>\n",
       "      <th>FPR</th>\n",
       "      <th>FNR</th>\n",
       "      <th>auc</th>\n",
       "      <th>mcc</th>\n",
       "    </tr>\n",
       "    <tr>\n",
       "      <th>index</th>\n",
       "      <th></th>\n",
       "      <th></th>\n",
       "      <th></th>\n",
       "      <th></th>\n",
       "      <th></th>\n",
       "      <th></th>\n",
       "      <th></th>\n",
       "      <th></th>\n",
       "      <th></th>\n",
       "    </tr>\n",
       "  </thead>\n",
       "  <tbody>\n",
       "    <tr>\n",
       "      <th>KNeighborsClassifier</th>\n",
       "      <td>0.871130</td>\n",
       "      <td>265.0</td>\n",
       "      <td>7725.0</td>\n",
       "      <td>257.0</td>\n",
       "      <td>925.0</td>\n",
       "      <td>0.032197</td>\n",
       "      <td>0.777311</td>\n",
       "      <td>0.595246</td>\n",
       "      <td>0.276288</td>\n",
       "    </tr>\n",
       "    <tr>\n",
       "      <th>LogisticRegression</th>\n",
       "      <td>0.823594</td>\n",
       "      <td>1000.0</td>\n",
       "      <td>6554.0</td>\n",
       "      <td>1428.0</td>\n",
       "      <td>190.0</td>\n",
       "      <td>0.178903</td>\n",
       "      <td>0.159664</td>\n",
       "      <td>0.830717</td>\n",
       "      <td>0.503770</td>\n",
       "    </tr>\n",
       "    <tr>\n",
       "      <th>RandomForestClassifier</th>\n",
       "      <td>0.875164</td>\n",
       "      <td>1075.0</td>\n",
       "      <td>6952.0</td>\n",
       "      <td>1030.0</td>\n",
       "      <td>115.0</td>\n",
       "      <td>0.129040</td>\n",
       "      <td>0.096639</td>\n",
       "      <td>0.887161</td>\n",
       "      <td>0.618738</td>\n",
       "    </tr>\n",
       "    <tr>\n",
       "      <th>AdaBoostClassifier</th>\n",
       "      <td>0.831662</td>\n",
       "      <td>1016.0</td>\n",
       "      <td>6612.0</td>\n",
       "      <td>1370.0</td>\n",
       "      <td>174.0</td>\n",
       "      <td>0.171636</td>\n",
       "      <td>0.146218</td>\n",
       "      <td>0.841073</td>\n",
       "      <td>0.522473</td>\n",
       "    </tr>\n",
       "    <tr>\n",
       "      <th>GradientBoostingClassifier</th>\n",
       "      <td>0.862298</td>\n",
       "      <td>1076.0</td>\n",
       "      <td>6833.0</td>\n",
       "      <td>1149.0</td>\n",
       "      <td>114.0</td>\n",
       "      <td>0.143949</td>\n",
       "      <td>0.095798</td>\n",
       "      <td>0.880126</td>\n",
       "      <td>0.595969</td>\n",
       "    </tr>\n",
       "    <tr>\n",
       "      <th>ExtraTreeClassifier</th>\n",
       "      <td>0.873310</td>\n",
       "      <td>1073.0</td>\n",
       "      <td>6937.0</td>\n",
       "      <td>1045.0</td>\n",
       "      <td>117.0</td>\n",
       "      <td>0.130920</td>\n",
       "      <td>0.098319</td>\n",
       "      <td>0.885381</td>\n",
       "      <td>0.614566</td>\n",
       "    </tr>\n",
       "    <tr>\n",
       "      <th>BaggingClassifier</th>\n",
       "      <td>0.875382</td>\n",
       "      <td>1069.0</td>\n",
       "      <td>6960.0</td>\n",
       "      <td>1022.0</td>\n",
       "      <td>121.0</td>\n",
       "      <td>0.128038</td>\n",
       "      <td>0.101681</td>\n",
       "      <td>0.885141</td>\n",
       "      <td>0.616956</td>\n",
       "    </tr>\n",
       "    <tr>\n",
       "      <th>Neural Network-1</th>\n",
       "      <td>0.878761</td>\n",
       "      <td>1053.0</td>\n",
       "      <td>7007.0</td>\n",
       "      <td>975.0</td>\n",
       "      <td>137.0</td>\n",
       "      <td>0.122150</td>\n",
       "      <td>0.115126</td>\n",
       "      <td>0.885141</td>\n",
       "      <td>0.617578</td>\n",
       "    </tr>\n",
       "  </tbody>\n",
       "</table>\n",
       "</div>"
      ],
      "text/plain": [
       "                            accuracy      TP      TN      FP     FN       FPR  \\\n",
       "index                                                                           \n",
       "KNeighborsClassifier        0.871130   265.0  7725.0   257.0  925.0  0.032197   \n",
       "LogisticRegression          0.823594  1000.0  6554.0  1428.0  190.0  0.178903   \n",
       "RandomForestClassifier      0.875164  1075.0  6952.0  1030.0  115.0  0.129040   \n",
       "AdaBoostClassifier          0.831662  1016.0  6612.0  1370.0  174.0  0.171636   \n",
       "GradientBoostingClassifier  0.862298  1076.0  6833.0  1149.0  114.0  0.143949   \n",
       "ExtraTreeClassifier         0.873310  1073.0  6937.0  1045.0  117.0  0.130920   \n",
       "BaggingClassifier           0.875382  1069.0  6960.0  1022.0  121.0  0.128038   \n",
       "Neural Network-1            0.878761  1053.0  7007.0   975.0  137.0  0.122150   \n",
       "\n",
       "                                 FNR       auc       mcc  \n",
       "index                                                     \n",
       "KNeighborsClassifier        0.777311  0.595246  0.276288  \n",
       "LogisticRegression          0.159664  0.830717  0.503770  \n",
       "RandomForestClassifier      0.096639  0.887161  0.618738  \n",
       "AdaBoostClassifier          0.146218  0.841073  0.522473  \n",
       "GradientBoostingClassifier  0.095798  0.880126  0.595969  \n",
       "ExtraTreeClassifier         0.098319  0.885381  0.614566  \n",
       "BaggingClassifier           0.101681  0.885141  0.616956  \n",
       "Neural Network-1            0.115126  0.885141  0.617578  "
      ]
     },
     "metadata": {},
     "output_type": "display_data"
    }
   ],
   "source": [
    "table_80_90_train['index']=ind_columns\n",
    "table_80_90_test['index']=ind_columns\n",
    "\n",
    "\n",
    "table_80_90_test.set_index(['index'],drop=True,inplace=True)\n",
    "table_80_90_train.set_index(['index'],drop=True,inplace=True)\n",
    "\n",
    "print(\"Training Results\")\n",
    "display(table_80_90_train)\n",
    "print(\"Test Results\")\n",
    "display(table_80_90_test)"
   ]
  },
  {
   "cell_type": "markdown",
   "metadata": {},
   "source": [
    "### <a id='3.B' style=\"text-decoration : none; color : #000000;\"> B. Average Feature Importances</a>"
   ]
  },
  {
   "cell_type": "code",
   "execution_count": 25,
   "metadata": {},
   "outputs": [
    {
     "data": {
      "application/vnd.plotly.v1+json": {
       "config": {
        "linkText": "Export to plot.ly",
        "plotlyServerURL": "https://plot.ly",
        "showLink": true
       },
       "data": [
        {
         "marker": {
          "color": "rgb(158,202,225)",
          "line": {
           "color": "rgb(8,48,107)",
           "width": 1.5
          }
         },
         "opacity": 0.6,
         "orientation": "h",
         "text": [
          0.3753,
          0.3481,
          0.0949,
          0.0522,
          0.0375,
          0.0245,
          0.015,
          0.015,
          0.0134,
          0.0121,
          0.012
         ],
         "textposition": "outside",
         "type": "bar",
         "uid": "44cf0f30-a337-4bd6-9af8-4b31820aba2d",
         "x": [
          0.3752553054846685,
          0.3481457657339021,
          0.09494862809902341,
          0.052171829966171056,
          0.0375217230359014,
          0.0244610211566028,
          0.015016608171426709,
          0.014975499478522818,
          0.013374836341668271,
          0.012119220992864629,
          0.012009561539248257
         ],
         "y": [
          "http_header_content-length",
          "http_header_content-encoding_gzip",
          "http_header_content-language_text/html",
          "http_header_server_apache",
          "http_header_cache-control_set_max-age",
          "http_header_server_nginx",
          "http_header_cache-control_set_private",
          "http_header_cache-control_set_no-cache",
          "http_header_cache-control_set_no-store",
          "http_header_cache-control_set_must-revalidate",
          "http_header_cache-control_set_public"
         ]
        }
       ],
       "layout": {
        "autosize": false,
        "height": 1000,
        "width": 1000,
        "xaxis": {
         "tickfont": {
          "color": "black",
          "size": 12
         },
         "title": "Feature Importances"
        },
        "yaxis": {
         "automargin": true
        }
       }
      },
      "text/html": [
       "<div id=\"0b8fee8a-4558-4bb8-b9ed-c3a9f3781170\" style=\"height: 1000px; width: 1000px;\" class=\"plotly-graph-div\"></div><script type=\"text/javascript\">require([\"plotly\"], function(Plotly) { window.PLOTLYENV=window.PLOTLYENV || {};window.PLOTLYENV.BASE_URL=\"https://plot.ly\";Plotly.newPlot(\"0b8fee8a-4558-4bb8-b9ed-c3a9f3781170\", [{\"marker\": {\"color\": \"rgb(158,202,225)\", \"line\": {\"color\": \"rgb(8,48,107)\", \"width\": 1.5}}, \"opacity\": 0.6, \"orientation\": \"h\", \"text\": [0.3753, 0.3481, 0.0949, 0.0522, 0.0375, 0.0245, 0.015, 0.015, 0.0134, 0.0121, 0.012], \"textposition\": \"outside\", \"x\": [0.3752553054846685, 0.3481457657339021, 0.09494862809902341, 0.052171829966171056, 0.0375217230359014, 0.0244610211566028, 0.015016608171426709, 0.014975499478522818, 0.013374836341668271, 0.012119220992864629, 0.012009561539248257], \"y\": [\"http_header_content-length\", \"http_header_content-encoding_gzip\", \"http_header_content-language_text/html\", \"http_header_server_apache\", \"http_header_cache-control_set_max-age\", \"http_header_server_nginx\", \"http_header_cache-control_set_private\", \"http_header_cache-control_set_no-cache\", \"http_header_cache-control_set_no-store\", \"http_header_cache-control_set_must-revalidate\", \"http_header_cache-control_set_public\"], \"type\": \"bar\", \"uid\": \"44cf0f30-a337-4bd6-9af8-4b31820aba2d\"}], {\"autosize\": false, \"height\": 1000, \"width\": 1000, \"xaxis\": {\"tickfont\": {\"color\": \"black\", \"size\": 12}, \"title\": \"Feature Importances\"}, \"yaxis\": {\"automargin\": true}}, {\"showLink\": true, \"linkText\": \"Export to plot.ly\", \"plotlyServerURL\": \"https://plot.ly\"})});</script>"
      ],
      "text/vnd.plotly.v1+html": [
       "<div id=\"0b8fee8a-4558-4bb8-b9ed-c3a9f3781170\" style=\"height: 1000px; width: 1000px;\" class=\"plotly-graph-div\"></div><script type=\"text/javascript\">require([\"plotly\"], function(Plotly) { window.PLOTLYENV=window.PLOTLYENV || {};window.PLOTLYENV.BASE_URL=\"https://plot.ly\";Plotly.newPlot(\"0b8fee8a-4558-4bb8-b9ed-c3a9f3781170\", [{\"marker\": {\"color\": \"rgb(158,202,225)\", \"line\": {\"color\": \"rgb(8,48,107)\", \"width\": 1.5}}, \"opacity\": 0.6, \"orientation\": \"h\", \"text\": [0.3753, 0.3481, 0.0949, 0.0522, 0.0375, 0.0245, 0.015, 0.015, 0.0134, 0.0121, 0.012], \"textposition\": \"outside\", \"x\": [0.3752553054846685, 0.3481457657339021, 0.09494862809902341, 0.052171829966171056, 0.0375217230359014, 0.0244610211566028, 0.015016608171426709, 0.014975499478522818, 0.013374836341668271, 0.012119220992864629, 0.012009561539248257], \"y\": [\"http_header_content-length\", \"http_header_content-encoding_gzip\", \"http_header_content-language_text/html\", \"http_header_server_apache\", \"http_header_cache-control_set_max-age\", \"http_header_server_nginx\", \"http_header_cache-control_set_private\", \"http_header_cache-control_set_no-cache\", \"http_header_cache-control_set_no-store\", \"http_header_cache-control_set_must-revalidate\", \"http_header_cache-control_set_public\"], \"type\": \"bar\", \"uid\": \"44cf0f30-a337-4bd6-9af8-4b31820aba2d\"}], {\"autosize\": false, \"height\": 1000, \"width\": 1000, \"xaxis\": {\"tickfont\": {\"color\": \"black\", \"size\": 12}, \"title\": \"Feature Importances\"}, \"yaxis\": {\"automargin\": true}}, {\"showLink\": true, \"linkText\": \"Export to plot.ly\", \"plotlyServerURL\": \"https://plot.ly\"})});</script>"
      ]
     },
     "metadata": {},
     "output_type": "display_data"
    }
   ],
   "source": [
    "feat_impt_plot(np.average(feat_imp,axis=0),columns[:-2])"
   ]
  },
  {
   "cell_type": "markdown",
   "metadata": {},
   "source": [
    "### <a id='4' style=\"text-decoration : none; color : #000000;\">4. Feature Transformation with feature selection </a>"
   ]
  },
  {
   "cell_type": "code",
   "execution_count": 26,
   "metadata": {},
   "outputs": [
    {
     "name": "stdout",
     "output_type": "stream",
     "text": [
      "Built 231 features\n",
      "EntitySet scattered to workers in 4.179 seconds\n",
      "Elapsed: 00:01 | Remaining: 00:00 | Progress: 100%|██████████| Calculated: 11/11 chunks\n"
     ]
    }
   ],
   "source": [
    "df.reset_index(inplace=True)\n",
    "columns.remove('Target')\n",
    "df_min=df[columns]\n",
    "\n",
    "es = ft.EntitySet(id = 'malicious')\n",
    "es.entity_from_dataframe(entity_id = 'data', dataframe = df_min, index = 'domain')\n",
    "\n",
    "feature_matrix_sessions, features_defs = ft.dfs(entityset=es,target_entity=\"data\",\n",
    "                                                trans_primitives = ['add','divide','multiply'],n_jobs=-1,\n",
    "                                                verbose=1,max_depth=1)"
   ]
  },
  {
   "cell_type": "code",
   "execution_count": 27,
   "metadata": {
    "collapsed": true
   },
   "outputs": [],
   "source": [
    "df.set_index(['domain'],drop=True,inplace=True)\n",
    "fs=pd.merge(feature_matrix_sessions,pd.DataFrame(df.Target),left_index=True, right_index=True)\n",
    "fs.replace([np.inf],0,inplace=True)\n",
    "fs.fillna(value=0,inplace=True)"
   ]
  },
  {
   "cell_type": "code",
   "execution_count": 28,
   "metadata": {
    "collapsed": true
   },
   "outputs": [],
   "source": [
    "X=fs.loc[:,fs.columns!='Target']\n",
    "y=fs.Target\n",
    "feature_name = X.columns.tolist()"
   ]
  },
  {
   "cell_type": "code",
   "execution_count": 29,
   "metadata": {
    "collapsed": true
   },
   "outputs": [],
   "source": [
    "def cor_selector(X, y):\n",
    "    cor_list = []\n",
    "    # calculate the correlation with y for each feature\n",
    "    for i in X.columns.tolist():\n",
    "        cor = np.corrcoef(X[i], y)[0, 1]\n",
    "        cor_list.append(cor)\n",
    "    # replace NaN with 0\n",
    "    cor_list = [0 if np.isnan(i) else i for i in cor_list]\n",
    "    # feature name\n",
    "    cor_feature = X.iloc[:,np.argsort(np.abs(cor_list))[-100:]].columns.tolist()\n",
    "    # feature selection? 0 for not select, 1 for select\n",
    "    cor_support = [True if i in cor_feature else False for i in feature_name]\n",
    "    return cor_support, cor_feature\n",
    "\n",
    "\n",
    "cor_support, cor_feature = cor_selector(X, y)"
   ]
  },
  {
   "cell_type": "code",
   "execution_count": 30,
   "metadata": {
    "collapsed": true
   },
   "outputs": [],
   "source": [
    "X_norm = MinMaxScaler().fit_transform(X)\n",
    "chi_selector = SelectKBest(chi2, k=100)\n",
    "chi_selector.fit(X_norm, y)\n",
    "chi_support = chi_selector.get_support()\n",
    "chi_feature = X.loc[:,chi_support].columns.tolist()"
   ]
  },
  {
   "cell_type": "code",
   "execution_count": 31,
   "metadata": {
    "collapsed": true
   },
   "outputs": [],
   "source": [
    "rfe_selector = RFE(estimator=LogisticRegression(random_state=0), n_features_to_select=100, step=0.3, verbose=False)\n",
    "rfe_selector.fit(X_norm, y)\n",
    "rfe_support = rfe_selector.get_support()\n",
    "rfe_feature = X.loc[:,rfe_support].columns.tolist()"
   ]
  },
  {
   "cell_type": "code",
   "execution_count": 32,
   "metadata": {
    "collapsed": true
   },
   "outputs": [],
   "source": [
    "embeded_rf_selector = SelectFromModel(RandomForestClassifier(n_estimators=100,random_state=0), threshold='23*median')\n",
    "embeded_rf_selector.fit(X, y)\n",
    "embeded_rf_support = embeded_rf_selector.get_support()\n",
    "embeded_rf_feature = X.loc[:,embeded_rf_support].columns.tolist()"
   ]
  },
  {
   "cell_type": "code",
   "execution_count": 33,
   "metadata": {
    "collapsed": true
   },
   "outputs": [],
   "source": [
    "feature_selection_df = pd.DataFrame({'Feature':feature_name, 'Pearson':cor_support, 'Chi-2':chi_support, 'RFE':rfe_support,\n",
    "                                    'Random Forest':embeded_rf_support})\n",
    "# count the selected times for each feature\n",
    "feature_selection_df['Total'] = np.sum(feature_selection_df, axis=1)\n",
    "# display the top 100\n",
    "feature_selection_df = feature_selection_df.sort_values(['Total','Feature'] , ascending=False)\n",
    "feature_selection_df.index = range(1, len(feature_selection_df)+1)"
   ]
  },
  {
   "cell_type": "code",
   "execution_count": 34,
   "metadata": {
    "collapsed": true
   },
   "outputs": [],
   "source": [
    "columns=feature_selection_df[feature_selection_df.Total>=3]['Feature'].values"
   ]
  },
  {
   "cell_type": "code",
   "execution_count": 35,
   "metadata": {
    "collapsed": true
   },
   "outputs": [],
   "source": [
    "fs=fs.reindex(df.index.values)\n",
    "train=fs.iloc[:36684]\n",
    "train_Y=train.Target.values\n",
    "train_X=train[columns].values\n",
    "\n",
    "\n",
    "scaler=StandardScaler()\n",
    "scaled_X_train=scaler.fit_transform(train_X)\n",
    "\n",
    "test=fs.iloc[36684:]\n",
    "test_Y=test.Target.values\n",
    "test_X=test[columns]\n",
    "\n",
    "scaled_X_test=scaler.transform(test_X)"
   ]
  },
  {
   "cell_type": "code",
   "execution_count": 36,
   "metadata": {},
   "outputs": [
    {
     "name": "stdout",
     "output_type": "stream",
     "text": [
      "Features we will be using:\n",
      "\n"
     ]
    },
    {
     "data": {
      "text/plain": [
       "array([ 'http_header_content-language_text/html / http_header_content-encoding_gzip',\n",
       "       'http_header_content-language_text/html + http_header_server_nginx',\n",
       "       'http_header_content-encoding_gzip / http_header_content-length',\n",
       "       'http_header_content-encoding_gzip + http_header_content-language_text/html',\n",
       "       'http_header_content-encoding_gzip * http_header_content-language_text/html',\n",
       "       'http_header_content-encoding_gzip',\n",
       "       'http_header_cache-control_set_private + http_header_content-encoding_gzip',\n",
       "       'http_header_cache-control_set_no-cache + http_header_content-language_text/html',\n",
       "       'http_header_cache-control_set_no-cache + http_header_content-encoding_gzip',\n",
       "       'http_header_server_nginx / http_header_content-language_text/html',\n",
       "       'http_header_server_nginx / http_header_cache-control_set_must-revalidate',\n",
       "       'http_header_server_nginx / http_header_cache-control_set_max-age',\n",
       "       'http_header_content-language_text/html / http_header_server_nginx',\n",
       "       'http_header_content-language_text/html / http_header_cache-control_set_public',\n",
       "       'http_header_content-language_text/html / http_header_cache-control_set_no-cache',\n",
       "       'http_header_content-language_text/html / http_header_cache-control_set_max-age',\n",
       "       'http_header_content-language_text/html + http_header_server_apache',\n",
       "       'http_header_content-language_text/html * http_header_server_nginx',\n",
       "       'http_header_content-language_text/html',\n",
       "       'http_header_content-encoding_gzip / http_header_content-language_text/html',\n",
       "       'http_header_content-encoding_gzip / http_header_cache-control_set_must-revalidate',\n",
       "       'http_header_content-encoding_gzip + http_header_server_nginx',\n",
       "       'http_header_cache-control_set_public / http_header_content-language_text/html',\n",
       "       'http_header_cache-control_set_public / http_header_cache-control_set_max-age',\n",
       "       'http_header_cache-control_set_public + http_header_content-language_text/html',\n",
       "       'http_header_cache-control_set_public + http_header_content-encoding_gzip',\n",
       "       'http_header_cache-control_set_public * http_header_content-language_text/html',\n",
       "       'http_header_cache-control_set_private + http_header_content-language_text/html',\n",
       "       'http_header_cache-control_set_private',\n",
       "       'http_header_cache-control_set_no-store + http_header_content-language_text/html',\n",
       "       'http_header_cache-control_set_no-cache / http_header_content-language_text/html',\n",
       "       'http_header_cache-control_set_no-cache + http_header_cache-control_set_private',\n",
       "       'http_header_cache-control_set_no-cache * http_header_content-language_text/html',\n",
       "       'http_header_cache-control_set_no-cache',\n",
       "       'http_header_cache-control_set_must-revalidate / http_header_server_nginx',\n",
       "       'http_header_cache-control_set_must-revalidate / http_header_content-encoding_gzip',\n",
       "       'http_header_cache-control_set_must-revalidate + http_header_content-language_text/html',\n",
       "       'http_header_cache-control_set_must-revalidate * http_header_server_nginx',\n",
       "       'http_header_cache-control_set_must-revalidate * http_header_content-encoding_gzip',\n",
       "       'http_header_cache-control_set_max-age / http_header_content-language_text/html',\n",
       "       'http_header_cache-control_set_max-age / http_header_cache-control_set_public',\n",
       "       'http_header_cache-control_set_max-age + http_header_content-encoding_gzip',\n",
       "       'http_header_cache-control_set_max-age * http_header_content-language_text/html',\n",
       "       'http_header_cache-control_set_max-age * http_header_cache-control_set_public'], dtype=object)"
      ]
     },
     "metadata": {},
     "output_type": "display_data"
    }
   ],
   "source": [
    "print('Features we will be using:\\n')\n",
    "display(columns)"
   ]
  },
  {
   "cell_type": "code",
   "execution_count": 37,
   "metadata": {
    "collapsed": true
   },
   "outputs": [],
   "source": [
    "## Table to store training and test measures so we can compare later\n",
    "table_80_60_train=pd.DataFrame(columns=['accuracy','TP','TN','FP','FN','FPR','FNR'])\n",
    "table_80_60_test=pd.DataFrame(columns=['accuracy','TP','TN','FP','FN','FPR','FNR','auc','mcc'])"
   ]
  },
  {
   "cell_type": "code",
   "execution_count": 38,
   "metadata": {
    "scrolled": false
   },
   "outputs": [
    {
     "name": "stdout",
     "output_type": "stream",
     "text": [
      "\u001b[1mK-Nearest Neighbors\u001b[0m\n",
      "Accuracy of the model for training data is: 0.883055282957\n",
      "Confusion Matrix for training data is:\n"
     ]
    },
    {
     "data": {
      "text/plain": [
       "Predicted  False  True  __all__\n",
       "Actual                         \n",
       "False      29291  2562    31853\n",
       "True        1728  3103     4831\n",
       "__all__    31019  5665    36684"
      ]
     },
     "metadata": {},
     "output_type": "display_data"
    },
    {
     "name": "stdout",
     "output_type": "stream",
     "text": [
      "Accuracy of the model for test data is: 0.881705189708\n",
      "Confusion Matrix for test data is:\n"
     ]
    },
    {
     "data": {
      "text/plain": [
       "Predicted  False  True  __all__\n",
       "Actual                         \n",
       "False       7338   644     7982\n",
       "True         441   749     1190\n",
       "__all__     7779  1393     9172"
      ]
     },
     "metadata": {},
     "output_type": "display_data"
    },
    {
     "name": "stdout",
     "output_type": "stream",
     "text": [
      "\n",
      "\n",
      "\u001b[1mLogistic Regression\u001b[0m\n",
      "Accuracy of the model for training data is: 0.873677897721\n",
      "Confusion Matrix for training data is:\n"
     ]
    },
    {
     "data": {
      "text/plain": [
       "Predicted  False  True  __all__\n",
       "Actual                         \n",
       "False      29115  2738    31853\n",
       "True        1896  2935     4831\n",
       "__all__    31011  5673    36684"
      ]
     },
     "metadata": {},
     "output_type": "display_data"
    },
    {
     "name": "stdout",
     "output_type": "stream",
     "text": [
      "Accuracy of the model for test data is: 0.87156563454\n",
      "Confusion Matrix for test data is:\n"
     ]
    },
    {
     "data": {
      "text/plain": [
       "Predicted  False  True  __all__\n",
       "Actual                         \n",
       "False       7287   695     7982\n",
       "True         483   707     1190\n",
       "__all__     7770  1402     9172"
      ]
     },
     "metadata": {},
     "output_type": "display_data"
    },
    {
     "name": "stdout",
     "output_type": "stream",
     "text": [
      "\n",
      "\n",
      "\u001b[1mRandomForest Classifier\u001b[0m\n",
      "Accuracy of the model for training data is: 0.892950605168\n",
      "Confusion Matrix for training data is:\n"
     ]
    },
    {
     "data": {
      "text/plain": [
       "Predicted  False  True  __all__\n",
       "Actual                         \n",
       "False      29219  2634    31853\n",
       "True        1293  3538     4831\n",
       "__all__    30512  6172    36684"
      ]
     },
     "metadata": {},
     "output_type": "display_data"
    },
    {
     "name": "stdout",
     "output_type": "stream",
     "text": [
      "Accuracy of the model for test data is: 0.887156563454\n",
      "Confusion Matrix for test data is:\n"
     ]
    },
    {
     "data": {
      "text/plain": [
       "Predicted  False  True  __all__\n",
       "Actual                         \n",
       "False       7284   698     7982\n",
       "True         337   853     1190\n",
       "__all__     7621  1551     9172"
      ]
     },
     "metadata": {},
     "output_type": "display_data"
    },
    {
     "data": {
      "application/vnd.plotly.v1+json": {
       "config": {
        "linkText": "Export to plot.ly",
        "plotlyServerURL": "https://plot.ly",
        "showLink": true
       },
       "data": [
        {
         "marker": {
          "color": "rgb(158,202,225)",
          "line": {
           "color": "rgb(8,48,107)",
           "width": 1.5
          }
         },
         "opacity": 0.6,
         "orientation": "h",
         "text": [
          0.2083,
          0.1681,
          0.1108,
          0.1068,
          0.0541,
          0.0494,
          0.0465,
          0.0396,
          0.0393,
          0.023,
          0.0184,
          0.0152,
          0.0142,
          0.0138,
          0.0127,
          0.0105,
          0.0105,
          0.0091,
          0.0071,
          0.0055,
          0.0051,
          0.0041,
          0.0041,
          0.0038,
          0.0038,
          0.0036,
          0.0031,
          0.0023,
          0.0015,
          0.0015,
          0.0008,
          0.0006,
          0.0005,
          0.0004,
          0.0004,
          0.0003,
          0.0003,
          0.0003,
          0.0002,
          0.0002,
          0.0001,
          0.0001,
          0,
          0
         ],
         "textposition": "outside",
         "type": "bar",
         "uid": "b0e15e88-ac3b-4200-a1b0-9980302f36cf",
         "x": [
          0.2082700126865303,
          0.1680601131418626,
          0.11081482461474021,
          0.10675999798098659,
          0.05407982374394958,
          0.04941109258015765,
          0.04649353408570732,
          0.03959429532284555,
          0.03931631782106838,
          0.02295744381404497,
          0.018391412132437036,
          0.01518430997428435,
          0.014189449616210898,
          0.01376196506751238,
          0.01274224316232638,
          0.010521000634121905,
          0.010496832041223923,
          0.009125121735623076,
          0.0070976650186646215,
          0.005483888520581417,
          0.005116529740266662,
          0.004098913305349415,
          0.004051748247962937,
          0.0038492586455249446,
          0.0038369480062900784,
          0.003631540800578834,
          0.003083026027243582,
          0.002264994625422784,
          0.0014794027248071053,
          0.0014587390816524044,
          0.0008258954276157887,
          0.0006272598507188881,
          0.0005163826733041303,
          0.00035732742006187336,
          0.0003532960243686338,
          0.0003275297048637556,
          0.000306718303096437,
          0.0002945547435643911,
          0.00024682707198174427,
          0.00024147400187704226,
          0.00014223430125187298,
          0.0001270059644995039,
          1.0036983530964198e-05,
          1.012629287044851e-06
         ],
         "y": [
          "http_header_content-encoding_gzip / http_header_content-length",
          "http_header_cache-control_set_no-cache + http_header_content-language_text/html",
          "http_header_cache-control_set_max-age + http_header_content-encoding_gzip",
          "http_header_content-language_text/html + http_header_server_apache",
          "http_header_cache-control_set_private + http_header_content-encoding_gzip",
          "http_header_content-encoding_gzip + http_header_server_nginx",
          "http_header_cache-control_set_public + http_header_content-encoding_gzip",
          "http_header_content-encoding_gzip * http_header_content-language_text/html",
          "http_header_cache-control_set_must-revalidate + http_header_content-language_text/html",
          "http_header_cache-control_set_no-cache + http_header_content-encoding_gzip",
          "http_header_cache-control_set_no-store + http_header_content-language_text/html",
          "http_header_content-encoding_gzip + http_header_content-language_text/html",
          "http_header_cache-control_set_no-cache + http_header_cache-control_set_private",
          "http_header_cache-control_set_max-age / http_header_content-language_text/html",
          "http_header_content-language_text/html + http_header_server_nginx",
          "http_header_content-language_text/html / http_header_content-encoding_gzip",
          "http_header_cache-control_set_public + http_header_content-language_text/html",
          "http_header_cache-control_set_no-cache / http_header_content-language_text/html",
          "http_header_server_nginx / http_header_content-language_text/html",
          "http_header_content-language_text/html / http_header_server_nginx",
          "http_header_cache-control_set_private + http_header_content-language_text/html",
          "http_header_cache-control_set_max-age * http_header_content-language_text/html",
          "http_header_cache-control_set_no-cache",
          "http_header_content-language_text/html / http_header_cache-control_set_no-cache",
          "http_header_content-language_text/html / http_header_cache-control_set_max-age",
          "http_header_cache-control_set_must-revalidate / http_header_server_nginx",
          "http_header_content-language_text/html * http_header_server_nginx",
          "http_header_cache-control_set_no-cache * http_header_content-language_text/html",
          "http_header_cache-control_set_private",
          "http_header_server_nginx / http_header_cache-control_set_must-revalidate",
          "http_header_cache-control_set_must-revalidate * http_header_server_nginx",
          "http_header_cache-control_set_public / http_header_content-language_text/html",
          "http_header_cache-control_set_must-revalidate / http_header_content-encoding_gzip",
          "http_header_content-encoding_gzip / http_header_cache-control_set_must-revalidate",
          "http_header_content-language_text/html / http_header_cache-control_set_public",
          "http_header_cache-control_set_public * http_header_content-language_text/html",
          "http_header_server_nginx / http_header_cache-control_set_max-age",
          "http_header_content-encoding_gzip",
          "http_header_cache-control_set_public / http_header_cache-control_set_max-age",
          "http_header_cache-control_set_max-age * http_header_cache-control_set_public",
          "http_header_cache-control_set_max-age / http_header_cache-control_set_public",
          "http_header_cache-control_set_must-revalidate * http_header_content-encoding_gzip",
          "http_header_content-language_text/html",
          "http_header_content-encoding_gzip / http_header_content-language_text/html"
         ]
        }
       ],
       "layout": {
        "autosize": false,
        "height": 1000,
        "width": 1000,
        "xaxis": {
         "tickfont": {
          "color": "black",
          "size": 12
         },
         "title": "Feature Importances"
        },
        "yaxis": {
         "automargin": true
        }
       }
      },
      "text/html": [
       "<div id=\"68e46426-5a0d-4d87-8a80-19d0e0046725\" style=\"height: 1000px; width: 1000px;\" class=\"plotly-graph-div\"></div><script type=\"text/javascript\">require([\"plotly\"], function(Plotly) { window.PLOTLYENV=window.PLOTLYENV || {};window.PLOTLYENV.BASE_URL=\"https://plot.ly\";Plotly.newPlot(\"68e46426-5a0d-4d87-8a80-19d0e0046725\", [{\"marker\": {\"color\": \"rgb(158,202,225)\", \"line\": {\"color\": \"rgb(8,48,107)\", \"width\": 1.5}}, \"opacity\": 0.6, \"orientation\": \"h\", \"text\": [0.2083, 0.1681, 0.1108, 0.1068, 0.0541, 0.0494, 0.0465, 0.0396, 0.0393, 0.023, 0.0184, 0.0152, 0.0142, 0.0138, 0.0127, 0.0105, 0.0105, 0.0091, 0.0071, 0.0055, 0.0051, 0.0041, 0.0041, 0.0038, 0.0038, 0.0036, 0.0031, 0.0023, 0.0015, 0.0015, 0.0008, 0.0006, 0.0005, 0.0004, 0.0004, 0.0003, 0.0003, 0.0003, 0.0002, 0.0002, 0.0001, 0.0001, 0.0, 0.0], \"textposition\": \"outside\", \"x\": [0.2082700126865303, 0.1680601131418626, 0.11081482461474021, 0.10675999798098659, 0.05407982374394958, 0.04941109258015765, 0.04649353408570732, 0.03959429532284555, 0.03931631782106838, 0.02295744381404497, 0.018391412132437036, 0.01518430997428435, 0.014189449616210898, 0.01376196506751238, 0.01274224316232638, 0.010521000634121905, 0.010496832041223923, 0.009125121735623076, 0.0070976650186646215, 0.005483888520581417, 0.005116529740266662, 0.004098913305349415, 0.004051748247962937, 0.0038492586455249446, 0.0038369480062900784, 0.003631540800578834, 0.003083026027243582, 0.002264994625422784, 0.0014794027248071053, 0.0014587390816524044, 0.0008258954276157887, 0.0006272598507188881, 0.0005163826733041303, 0.00035732742006187336, 0.0003532960243686338, 0.0003275297048637556, 0.000306718303096437, 0.0002945547435643911, 0.00024682707198174427, 0.00024147400187704226, 0.00014223430125187298, 0.0001270059644995039, 1.0036983530964198e-05, 1.012629287044851e-06], \"y\": [\"http_header_content-encoding_gzip / http_header_content-length\", \"http_header_cache-control_set_no-cache + http_header_content-language_text/html\", \"http_header_cache-control_set_max-age + http_header_content-encoding_gzip\", \"http_header_content-language_text/html + http_header_server_apache\", \"http_header_cache-control_set_private + http_header_content-encoding_gzip\", \"http_header_content-encoding_gzip + http_header_server_nginx\", \"http_header_cache-control_set_public + http_header_content-encoding_gzip\", \"http_header_content-encoding_gzip * http_header_content-language_text/html\", \"http_header_cache-control_set_must-revalidate + http_header_content-language_text/html\", \"http_header_cache-control_set_no-cache + http_header_content-encoding_gzip\", \"http_header_cache-control_set_no-store + http_header_content-language_text/html\", \"http_header_content-encoding_gzip + http_header_content-language_text/html\", \"http_header_cache-control_set_no-cache + http_header_cache-control_set_private\", \"http_header_cache-control_set_max-age / http_header_content-language_text/html\", \"http_header_content-language_text/html + http_header_server_nginx\", \"http_header_content-language_text/html / http_header_content-encoding_gzip\", \"http_header_cache-control_set_public + http_header_content-language_text/html\", \"http_header_cache-control_set_no-cache / http_header_content-language_text/html\", \"http_header_server_nginx / http_header_content-language_text/html\", \"http_header_content-language_text/html / http_header_server_nginx\", \"http_header_cache-control_set_private + http_header_content-language_text/html\", \"http_header_cache-control_set_max-age * http_header_content-language_text/html\", \"http_header_cache-control_set_no-cache\", \"http_header_content-language_text/html / http_header_cache-control_set_no-cache\", \"http_header_content-language_text/html / http_header_cache-control_set_max-age\", \"http_header_cache-control_set_must-revalidate / http_header_server_nginx\", \"http_header_content-language_text/html * http_header_server_nginx\", \"http_header_cache-control_set_no-cache * http_header_content-language_text/html\", \"http_header_cache-control_set_private\", \"http_header_server_nginx / http_header_cache-control_set_must-revalidate\", \"http_header_cache-control_set_must-revalidate * http_header_server_nginx\", \"http_header_cache-control_set_public / http_header_content-language_text/html\", \"http_header_cache-control_set_must-revalidate / http_header_content-encoding_gzip\", \"http_header_content-encoding_gzip / http_header_cache-control_set_must-revalidate\", \"http_header_content-language_text/html / http_header_cache-control_set_public\", \"http_header_cache-control_set_public * http_header_content-language_text/html\", \"http_header_server_nginx / http_header_cache-control_set_max-age\", \"http_header_content-encoding_gzip\", \"http_header_cache-control_set_public / http_header_cache-control_set_max-age\", \"http_header_cache-control_set_max-age * http_header_cache-control_set_public\", \"http_header_cache-control_set_max-age / http_header_cache-control_set_public\", \"http_header_cache-control_set_must-revalidate * http_header_content-encoding_gzip\", \"http_header_content-language_text/html\", \"http_header_content-encoding_gzip / http_header_content-language_text/html\"], \"type\": \"bar\", \"uid\": \"b0e15e88-ac3b-4200-a1b0-9980302f36cf\"}], {\"autosize\": false, \"height\": 1000, \"width\": 1000, \"xaxis\": {\"tickfont\": {\"color\": \"black\", \"size\": 12}, \"title\": \"Feature Importances\"}, \"yaxis\": {\"automargin\": true}}, {\"showLink\": true, \"linkText\": \"Export to plot.ly\", \"plotlyServerURL\": \"https://plot.ly\"})});</script>"
      ],
      "text/vnd.plotly.v1+html": [
       "<div id=\"68e46426-5a0d-4d87-8a80-19d0e0046725\" style=\"height: 1000px; width: 1000px;\" class=\"plotly-graph-div\"></div><script type=\"text/javascript\">require([\"plotly\"], function(Plotly) { window.PLOTLYENV=window.PLOTLYENV || {};window.PLOTLYENV.BASE_URL=\"https://plot.ly\";Plotly.newPlot(\"68e46426-5a0d-4d87-8a80-19d0e0046725\", [{\"marker\": {\"color\": \"rgb(158,202,225)\", \"line\": {\"color\": \"rgb(8,48,107)\", \"width\": 1.5}}, \"opacity\": 0.6, \"orientation\": \"h\", \"text\": [0.2083, 0.1681, 0.1108, 0.1068, 0.0541, 0.0494, 0.0465, 0.0396, 0.0393, 0.023, 0.0184, 0.0152, 0.0142, 0.0138, 0.0127, 0.0105, 0.0105, 0.0091, 0.0071, 0.0055, 0.0051, 0.0041, 0.0041, 0.0038, 0.0038, 0.0036, 0.0031, 0.0023, 0.0015, 0.0015, 0.0008, 0.0006, 0.0005, 0.0004, 0.0004, 0.0003, 0.0003, 0.0003, 0.0002, 0.0002, 0.0001, 0.0001, 0.0, 0.0], \"textposition\": \"outside\", \"x\": [0.2082700126865303, 0.1680601131418626, 0.11081482461474021, 0.10675999798098659, 0.05407982374394958, 0.04941109258015765, 0.04649353408570732, 0.03959429532284555, 0.03931631782106838, 0.02295744381404497, 0.018391412132437036, 0.01518430997428435, 0.014189449616210898, 0.01376196506751238, 0.01274224316232638, 0.010521000634121905, 0.010496832041223923, 0.009125121735623076, 0.0070976650186646215, 0.005483888520581417, 0.005116529740266662, 0.004098913305349415, 0.004051748247962937, 0.0038492586455249446, 0.0038369480062900784, 0.003631540800578834, 0.003083026027243582, 0.002264994625422784, 0.0014794027248071053, 0.0014587390816524044, 0.0008258954276157887, 0.0006272598507188881, 0.0005163826733041303, 0.00035732742006187336, 0.0003532960243686338, 0.0003275297048637556, 0.000306718303096437, 0.0002945547435643911, 0.00024682707198174427, 0.00024147400187704226, 0.00014223430125187298, 0.0001270059644995039, 1.0036983530964198e-05, 1.012629287044851e-06], \"y\": [\"http_header_content-encoding_gzip / http_header_content-length\", \"http_header_cache-control_set_no-cache + http_header_content-language_text/html\", \"http_header_cache-control_set_max-age + http_header_content-encoding_gzip\", \"http_header_content-language_text/html + http_header_server_apache\", \"http_header_cache-control_set_private + http_header_content-encoding_gzip\", \"http_header_content-encoding_gzip + http_header_server_nginx\", \"http_header_cache-control_set_public + http_header_content-encoding_gzip\", \"http_header_content-encoding_gzip * http_header_content-language_text/html\", \"http_header_cache-control_set_must-revalidate + http_header_content-language_text/html\", \"http_header_cache-control_set_no-cache + http_header_content-encoding_gzip\", \"http_header_cache-control_set_no-store + http_header_content-language_text/html\", \"http_header_content-encoding_gzip + http_header_content-language_text/html\", \"http_header_cache-control_set_no-cache + http_header_cache-control_set_private\", \"http_header_cache-control_set_max-age / http_header_content-language_text/html\", \"http_header_content-language_text/html + http_header_server_nginx\", \"http_header_content-language_text/html / http_header_content-encoding_gzip\", \"http_header_cache-control_set_public + http_header_content-language_text/html\", \"http_header_cache-control_set_no-cache / http_header_content-language_text/html\", \"http_header_server_nginx / http_header_content-language_text/html\", \"http_header_content-language_text/html / http_header_server_nginx\", \"http_header_cache-control_set_private + http_header_content-language_text/html\", \"http_header_cache-control_set_max-age * http_header_content-language_text/html\", \"http_header_cache-control_set_no-cache\", \"http_header_content-language_text/html / http_header_cache-control_set_no-cache\", \"http_header_content-language_text/html / http_header_cache-control_set_max-age\", \"http_header_cache-control_set_must-revalidate / http_header_server_nginx\", \"http_header_content-language_text/html * http_header_server_nginx\", \"http_header_cache-control_set_no-cache * http_header_content-language_text/html\", \"http_header_cache-control_set_private\", \"http_header_server_nginx / http_header_cache-control_set_must-revalidate\", \"http_header_cache-control_set_must-revalidate * http_header_server_nginx\", \"http_header_cache-control_set_public / http_header_content-language_text/html\", \"http_header_cache-control_set_must-revalidate / http_header_content-encoding_gzip\", \"http_header_content-encoding_gzip / http_header_cache-control_set_must-revalidate\", \"http_header_content-language_text/html / http_header_cache-control_set_public\", \"http_header_cache-control_set_public * http_header_content-language_text/html\", \"http_header_server_nginx / http_header_cache-control_set_max-age\", \"http_header_content-encoding_gzip\", \"http_header_cache-control_set_public / http_header_cache-control_set_max-age\", \"http_header_cache-control_set_max-age * http_header_cache-control_set_public\", \"http_header_cache-control_set_max-age / http_header_cache-control_set_public\", \"http_header_cache-control_set_must-revalidate * http_header_content-encoding_gzip\", \"http_header_content-language_text/html\", \"http_header_content-encoding_gzip / http_header_content-language_text/html\"], \"type\": \"bar\", \"uid\": \"b0e15e88-ac3b-4200-a1b0-9980302f36cf\"}], {\"autosize\": false, \"height\": 1000, \"width\": 1000, \"xaxis\": {\"tickfont\": {\"color\": \"black\", \"size\": 12}, \"title\": \"Feature Importances\"}, \"yaxis\": {\"automargin\": true}}, {\"showLink\": true, \"linkText\": \"Export to plot.ly\", \"plotlyServerURL\": \"https://plot.ly\"})});</script>"
      ]
     },
     "metadata": {},
     "output_type": "display_data"
    },
    {
     "name": "stdout",
     "output_type": "stream",
     "text": [
      "\n",
      "\n",
      "\u001b[1mAdaoost Classifier\u001b[0m\n",
      "Accuracy of the model for training data is: 0.87397775597\n",
      "Confusion Matrix for training data is:\n"
     ]
    },
    {
     "data": {
      "text/plain": [
       "Predicted  False  True  __all__\n",
       "Actual                         \n",
       "False      29125  2728    31853\n",
       "True        1895  2936     4831\n",
       "__all__    31020  5664    36684"
      ]
     },
     "metadata": {},
     "output_type": "display_data"
    },
    {
     "name": "stdout",
     "output_type": "stream",
     "text": [
      "Accuracy of the model for test data is: 0.871892716965\n",
      "Confusion Matrix for test data is:\n"
     ]
    },
    {
     "data": {
      "text/plain": [
       "Predicted  False  True  __all__\n",
       "Actual                         \n",
       "False       7297   685     7982\n",
       "True         490   700     1190\n",
       "__all__     7787  1385     9172"
      ]
     },
     "metadata": {},
     "output_type": "display_data"
    },
    {
     "data": {
      "application/vnd.plotly.v1+json": {
       "config": {
        "linkText": "Export to plot.ly",
        "plotlyServerURL": "https://plot.ly",
        "showLink": true
       },
       "data": [
        {
         "marker": {
          "color": "rgb(158,202,225)",
          "line": {
           "color": "rgb(8,48,107)",
           "width": 1.5
          }
         },
         "opacity": 0.6,
         "orientation": "h",
         "text": [
          0.5,
          0.14,
          0.06,
          0.04,
          0.04,
          0.04,
          0.04,
          0.02,
          0.02,
          0.02,
          0.02,
          0.02,
          0.02,
          0.02,
          0,
          0,
          0,
          0,
          0,
          0,
          0,
          0,
          0,
          0,
          0,
          0,
          0,
          0,
          0,
          0,
          0,
          0,
          0,
          0,
          0,
          0,
          0,
          0,
          0,
          0,
          0,
          0,
          0,
          0
         ],
         "textposition": "outside",
         "type": "bar",
         "uid": "707eb17c-e262-4a5c-9c5d-efee7c073c3b",
         "x": [
          0.5,
          0.14,
          0.06,
          0.04,
          0.04,
          0.04,
          0.04,
          0.02,
          0.02,
          0.02,
          0.02,
          0.02,
          0.02,
          0.02,
          0,
          0,
          0,
          0,
          0,
          0,
          0,
          0,
          0,
          0,
          0,
          0,
          0,
          0,
          0,
          0,
          0,
          0,
          0,
          0,
          0,
          0,
          0,
          0,
          0,
          0,
          0,
          0,
          0,
          0
         ],
         "y": [
          "http_header_content-encoding_gzip / http_header_content-length",
          "http_header_cache-control_set_private + http_header_content-encoding_gzip",
          "http_header_cache-control_set_must-revalidate + http_header_content-language_text/html",
          "http_header_content-language_text/html + http_header_server_nginx",
          "http_header_content-language_text/html + http_header_server_apache",
          "http_header_cache-control_set_no-cache + http_header_content-encoding_gzip",
          "http_header_cache-control_set_must-revalidate / http_header_content-encoding_gzip",
          "http_header_cache-control_set_public / http_header_content-language_text/html",
          "http_header_cache-control_set_private",
          "http_header_cache-control_set_no-cache + http_header_cache-control_set_private",
          "http_header_content-language_text/html / http_header_server_nginx",
          "http_header_cache-control_set_must-revalidate * http_header_content-encoding_gzip",
          "http_header_cache-control_set_max-age / http_header_content-language_text/html",
          "http_header_cache-control_set_max-age + http_header_content-encoding_gzip",
          "http_header_cache-control_set_must-revalidate * http_header_server_nginx",
          "http_header_cache-control_set_public + http_header_content-encoding_gzip",
          "http_header_cache-control_set_must-revalidate / http_header_server_nginx",
          "http_header_cache-control_set_no-cache",
          "http_header_cache-control_set_no-cache * http_header_content-language_text/html",
          "http_header_cache-control_set_max-age / http_header_cache-control_set_public",
          "http_header_cache-control_set_no-cache / http_header_content-language_text/html",
          "http_header_cache-control_set_no-store + http_header_content-language_text/html",
          "http_header_cache-control_set_max-age * http_header_content-language_text/html",
          "http_header_cache-control_set_private + http_header_content-language_text/html",
          "http_header_cache-control_set_public * http_header_content-language_text/html",
          "http_header_content-language_text/html / http_header_content-encoding_gzip",
          "http_header_cache-control_set_public + http_header_content-language_text/html",
          "http_header_cache-control_set_public / http_header_cache-control_set_max-age",
          "http_header_content-encoding_gzip + http_header_content-language_text/html",
          "http_header_content-encoding_gzip * http_header_content-language_text/html",
          "http_header_content-encoding_gzip",
          "http_header_cache-control_set_no-cache + http_header_content-language_text/html",
          "http_header_server_nginx / http_header_content-language_text/html",
          "http_header_server_nginx / http_header_cache-control_set_must-revalidate",
          "http_header_server_nginx / http_header_cache-control_set_max-age",
          "http_header_content-language_text/html / http_header_cache-control_set_public",
          "http_header_content-language_text/html / http_header_cache-control_set_no-cache",
          "http_header_content-language_text/html / http_header_cache-control_set_max-age",
          "http_header_content-language_text/html * http_header_server_nginx",
          "http_header_content-language_text/html",
          "http_header_content-encoding_gzip / http_header_content-language_text/html",
          "http_header_content-encoding_gzip / http_header_cache-control_set_must-revalidate",
          "http_header_content-encoding_gzip + http_header_server_nginx",
          "http_header_cache-control_set_max-age * http_header_cache-control_set_public"
         ]
        }
       ],
       "layout": {
        "autosize": false,
        "height": 1000,
        "width": 1000,
        "xaxis": {
         "tickfont": {
          "color": "black",
          "size": 12
         },
         "title": "Feature Importances"
        },
        "yaxis": {
         "automargin": true
        }
       }
      },
      "text/html": [
       "<div id=\"d63497f5-e854-484f-8b5b-821f19bd8f46\" style=\"height: 1000px; width: 1000px;\" class=\"plotly-graph-div\"></div><script type=\"text/javascript\">require([\"plotly\"], function(Plotly) { window.PLOTLYENV=window.PLOTLYENV || {};window.PLOTLYENV.BASE_URL=\"https://plot.ly\";Plotly.newPlot(\"d63497f5-e854-484f-8b5b-821f19bd8f46\", [{\"marker\": {\"color\": \"rgb(158,202,225)\", \"line\": {\"color\": \"rgb(8,48,107)\", \"width\": 1.5}}, \"opacity\": 0.6, \"orientation\": \"h\", \"text\": [0.5, 0.14, 0.06, 0.04, 0.04, 0.04, 0.04, 0.02, 0.02, 0.02, 0.02, 0.02, 0.02, 0.02, 0.0, 0.0, 0.0, 0.0, 0.0, 0.0, 0.0, 0.0, 0.0, 0.0, 0.0, 0.0, 0.0, 0.0, 0.0, 0.0, 0.0, 0.0, 0.0, 0.0, 0.0, 0.0, 0.0, 0.0, 0.0, 0.0, 0.0, 0.0, 0.0, 0.0], \"textposition\": \"outside\", \"x\": [0.5, 0.14, 0.06, 0.04, 0.04, 0.04, 0.04, 0.02, 0.02, 0.02, 0.02, 0.02, 0.02, 0.02, 0.0, 0.0, 0.0, 0.0, 0.0, 0.0, 0.0, 0.0, 0.0, 0.0, 0.0, 0.0, 0.0, 0.0, 0.0, 0.0, 0.0, 0.0, 0.0, 0.0, 0.0, 0.0, 0.0, 0.0, 0.0, 0.0, 0.0, 0.0, 0.0, 0.0], \"y\": [\"http_header_content-encoding_gzip / http_header_content-length\", \"http_header_cache-control_set_private + http_header_content-encoding_gzip\", \"http_header_cache-control_set_must-revalidate + http_header_content-language_text/html\", \"http_header_content-language_text/html + http_header_server_nginx\", \"http_header_content-language_text/html + http_header_server_apache\", \"http_header_cache-control_set_no-cache + http_header_content-encoding_gzip\", \"http_header_cache-control_set_must-revalidate / http_header_content-encoding_gzip\", \"http_header_cache-control_set_public / http_header_content-language_text/html\", \"http_header_cache-control_set_private\", \"http_header_cache-control_set_no-cache + http_header_cache-control_set_private\", \"http_header_content-language_text/html / http_header_server_nginx\", \"http_header_cache-control_set_must-revalidate * http_header_content-encoding_gzip\", \"http_header_cache-control_set_max-age / http_header_content-language_text/html\", \"http_header_cache-control_set_max-age + http_header_content-encoding_gzip\", \"http_header_cache-control_set_must-revalidate * http_header_server_nginx\", \"http_header_cache-control_set_public + http_header_content-encoding_gzip\", \"http_header_cache-control_set_must-revalidate / http_header_server_nginx\", \"http_header_cache-control_set_no-cache\", \"http_header_cache-control_set_no-cache * http_header_content-language_text/html\", \"http_header_cache-control_set_max-age / http_header_cache-control_set_public\", \"http_header_cache-control_set_no-cache / http_header_content-language_text/html\", \"http_header_cache-control_set_no-store + http_header_content-language_text/html\", \"http_header_cache-control_set_max-age * http_header_content-language_text/html\", \"http_header_cache-control_set_private + http_header_content-language_text/html\", \"http_header_cache-control_set_public * http_header_content-language_text/html\", \"http_header_content-language_text/html / http_header_content-encoding_gzip\", \"http_header_cache-control_set_public + http_header_content-language_text/html\", \"http_header_cache-control_set_public / http_header_cache-control_set_max-age\", \"http_header_content-encoding_gzip + http_header_content-language_text/html\", \"http_header_content-encoding_gzip * http_header_content-language_text/html\", \"http_header_content-encoding_gzip\", \"http_header_cache-control_set_no-cache + http_header_content-language_text/html\", \"http_header_server_nginx / http_header_content-language_text/html\", \"http_header_server_nginx / http_header_cache-control_set_must-revalidate\", \"http_header_server_nginx / http_header_cache-control_set_max-age\", \"http_header_content-language_text/html / http_header_cache-control_set_public\", \"http_header_content-language_text/html / http_header_cache-control_set_no-cache\", \"http_header_content-language_text/html / http_header_cache-control_set_max-age\", \"http_header_content-language_text/html * http_header_server_nginx\", \"http_header_content-language_text/html\", \"http_header_content-encoding_gzip / http_header_content-language_text/html\", \"http_header_content-encoding_gzip / http_header_cache-control_set_must-revalidate\", \"http_header_content-encoding_gzip + http_header_server_nginx\", \"http_header_cache-control_set_max-age * http_header_cache-control_set_public\"], \"type\": \"bar\", \"uid\": \"707eb17c-e262-4a5c-9c5d-efee7c073c3b\"}], {\"autosize\": false, \"height\": 1000, \"width\": 1000, \"xaxis\": {\"tickfont\": {\"color\": \"black\", \"size\": 12}, \"title\": \"Feature Importances\"}, \"yaxis\": {\"automargin\": true}}, {\"showLink\": true, \"linkText\": \"Export to plot.ly\", \"plotlyServerURL\": \"https://plot.ly\"})});</script>"
      ],
      "text/vnd.plotly.v1+html": [
       "<div id=\"d63497f5-e854-484f-8b5b-821f19bd8f46\" style=\"height: 1000px; width: 1000px;\" class=\"plotly-graph-div\"></div><script type=\"text/javascript\">require([\"plotly\"], function(Plotly) { window.PLOTLYENV=window.PLOTLYENV || {};window.PLOTLYENV.BASE_URL=\"https://plot.ly\";Plotly.newPlot(\"d63497f5-e854-484f-8b5b-821f19bd8f46\", [{\"marker\": {\"color\": \"rgb(158,202,225)\", \"line\": {\"color\": \"rgb(8,48,107)\", \"width\": 1.5}}, \"opacity\": 0.6, \"orientation\": \"h\", \"text\": [0.5, 0.14, 0.06, 0.04, 0.04, 0.04, 0.04, 0.02, 0.02, 0.02, 0.02, 0.02, 0.02, 0.02, 0.0, 0.0, 0.0, 0.0, 0.0, 0.0, 0.0, 0.0, 0.0, 0.0, 0.0, 0.0, 0.0, 0.0, 0.0, 0.0, 0.0, 0.0, 0.0, 0.0, 0.0, 0.0, 0.0, 0.0, 0.0, 0.0, 0.0, 0.0, 0.0, 0.0], \"textposition\": \"outside\", \"x\": [0.5, 0.14, 0.06, 0.04, 0.04, 0.04, 0.04, 0.02, 0.02, 0.02, 0.02, 0.02, 0.02, 0.02, 0.0, 0.0, 0.0, 0.0, 0.0, 0.0, 0.0, 0.0, 0.0, 0.0, 0.0, 0.0, 0.0, 0.0, 0.0, 0.0, 0.0, 0.0, 0.0, 0.0, 0.0, 0.0, 0.0, 0.0, 0.0, 0.0, 0.0, 0.0, 0.0, 0.0], \"y\": [\"http_header_content-encoding_gzip / http_header_content-length\", \"http_header_cache-control_set_private + http_header_content-encoding_gzip\", \"http_header_cache-control_set_must-revalidate + http_header_content-language_text/html\", \"http_header_content-language_text/html + http_header_server_nginx\", \"http_header_content-language_text/html + http_header_server_apache\", \"http_header_cache-control_set_no-cache + http_header_content-encoding_gzip\", \"http_header_cache-control_set_must-revalidate / http_header_content-encoding_gzip\", \"http_header_cache-control_set_public / http_header_content-language_text/html\", \"http_header_cache-control_set_private\", \"http_header_cache-control_set_no-cache + http_header_cache-control_set_private\", \"http_header_content-language_text/html / http_header_server_nginx\", \"http_header_cache-control_set_must-revalidate * http_header_content-encoding_gzip\", \"http_header_cache-control_set_max-age / http_header_content-language_text/html\", \"http_header_cache-control_set_max-age + http_header_content-encoding_gzip\", \"http_header_cache-control_set_must-revalidate * http_header_server_nginx\", \"http_header_cache-control_set_public + http_header_content-encoding_gzip\", \"http_header_cache-control_set_must-revalidate / http_header_server_nginx\", \"http_header_cache-control_set_no-cache\", \"http_header_cache-control_set_no-cache * http_header_content-language_text/html\", \"http_header_cache-control_set_max-age / http_header_cache-control_set_public\", \"http_header_cache-control_set_no-cache / http_header_content-language_text/html\", \"http_header_cache-control_set_no-store + http_header_content-language_text/html\", \"http_header_cache-control_set_max-age * http_header_content-language_text/html\", \"http_header_cache-control_set_private + http_header_content-language_text/html\", \"http_header_cache-control_set_public * http_header_content-language_text/html\", \"http_header_content-language_text/html / http_header_content-encoding_gzip\", \"http_header_cache-control_set_public + http_header_content-language_text/html\", \"http_header_cache-control_set_public / http_header_cache-control_set_max-age\", \"http_header_content-encoding_gzip + http_header_content-language_text/html\", \"http_header_content-encoding_gzip * http_header_content-language_text/html\", \"http_header_content-encoding_gzip\", \"http_header_cache-control_set_no-cache + http_header_content-language_text/html\", \"http_header_server_nginx / http_header_content-language_text/html\", \"http_header_server_nginx / http_header_cache-control_set_must-revalidate\", \"http_header_server_nginx / http_header_cache-control_set_max-age\", \"http_header_content-language_text/html / http_header_cache-control_set_public\", \"http_header_content-language_text/html / http_header_cache-control_set_no-cache\", \"http_header_content-language_text/html / http_header_cache-control_set_max-age\", \"http_header_content-language_text/html * http_header_server_nginx\", \"http_header_content-language_text/html\", \"http_header_content-encoding_gzip / http_header_content-language_text/html\", \"http_header_content-encoding_gzip / http_header_cache-control_set_must-revalidate\", \"http_header_content-encoding_gzip + http_header_server_nginx\", \"http_header_cache-control_set_max-age * http_header_cache-control_set_public\"], \"type\": \"bar\", \"uid\": \"707eb17c-e262-4a5c-9c5d-efee7c073c3b\"}], {\"autosize\": false, \"height\": 1000, \"width\": 1000, \"xaxis\": {\"tickfont\": {\"color\": \"black\", \"size\": 12}, \"title\": \"Feature Importances\"}, \"yaxis\": {\"automargin\": true}}, {\"showLink\": true, \"linkText\": \"Export to plot.ly\", \"plotlyServerURL\": \"https://plot.ly\"})});</script>"
      ]
     },
     "metadata": {},
     "output_type": "display_data"
    },
    {
     "name": "stdout",
     "output_type": "stream",
     "text": [
      "\n",
      "\n",
      "\u001b[1mGradientBoosting Classifier\u001b[0m\n",
      "Accuracy of the model for training data is: 0.888534510958\n",
      "Confusion Matrix for training data is:\n"
     ]
    },
    {
     "data": {
      "text/plain": [
       "Predicted  False  True  __all__\n",
       "Actual                         \n",
       "False      29254  2599    31853\n",
       "True        1490  3341     4831\n",
       "__all__    30744  5940    36684"
      ]
     },
     "metadata": {},
     "output_type": "display_data"
    },
    {
     "name": "stdout",
     "output_type": "stream",
     "text": [
      "Accuracy of the model for test data is: 0.887374618404\n",
      "Confusion Matrix for test data is:\n"
     ]
    },
    {
     "data": {
      "text/plain": [
       "Predicted  False  True  __all__\n",
       "Actual                         \n",
       "False       7323   659     7982\n",
       "True         374   816     1190\n",
       "__all__     7697  1475     9172"
      ]
     },
     "metadata": {},
     "output_type": "display_data"
    },
    {
     "data": {
      "application/vnd.plotly.v1+json": {
       "config": {
        "linkText": "Export to plot.ly",
        "plotlyServerURL": "https://plot.ly",
        "showLink": true
       },
       "data": [
        {
         "marker": {
          "color": "rgb(158,202,225)",
          "line": {
           "color": "rgb(8,48,107)",
           "width": 1.5
          }
         },
         "opacity": 0.6,
         "orientation": "h",
         "text": [
          0.2967,
          0.2645,
          0.1702,
          0.0914,
          0.0765,
          0.023,
          0.0177,
          0.0167,
          0.0093,
          0.0057,
          0.0056,
          0.003,
          0.0028,
          0.0022,
          0.002,
          0.0019,
          0.0016,
          0.0015,
          0.0012,
          0.0011,
          0.0011,
          0.0008,
          0.0007,
          0.0007,
          0.0005,
          0.0004,
          0.0003,
          0.0003,
          0.0002,
          0.0001,
          0.0001,
          0.0001,
          0.0001,
          0.0001,
          0.0001,
          0,
          0,
          0,
          0,
          0,
          0,
          0,
          0,
          0
         ],
         "textposition": "outside",
         "type": "bar",
         "uid": "092b43e0-0f0d-409b-9189-e15718ec55b1",
         "x": [
          0.29668157342469975,
          0.26448349020992806,
          0.1702453665302561,
          0.09142066812702714,
          0.07653549821242607,
          0.022969745674446974,
          0.017656917954747955,
          0.016674002876744604,
          0.009317397744120581,
          0.005728257988830234,
          0.005571907739147765,
          0.002951628340378043,
          0.0027623981631221973,
          0.0022105740564557744,
          0.0019594958434657403,
          0.0018565656275657415,
          0.001557299553387754,
          0.0014943195784133676,
          0.0011720715246607333,
          0.001080043498794182,
          0.0010796328139419055,
          0.0008482460186080739,
          0.0007415763430029338,
          0.0006913733095200924,
          0.00046454370692503407,
          0.00036747558825583047,
          0.00033851471777465004,
          0.0003339441326317698,
          0.0001835604818272596,
          0.00013102248733257808,
          0.00012021656098460835,
          0.00012008390480630647,
          7.815158112259196e-05,
          6.604699441398538e-05,
          5.449674941965637e-05,
          3.3885548759447325e-05,
          1.4994904905397956e-05,
          3.0114871493602894e-06,
          0,
          0,
          0,
          0,
          0,
          0
         ],
         "y": [
          "http_header_cache-control_set_max-age + http_header_content-encoding_gzip",
          "http_header_cache-control_set_private + http_header_content-encoding_gzip",
          "http_header_content-encoding_gzip / http_header_content-length",
          "http_header_content-language_text/html + http_header_server_nginx",
          "http_header_content-language_text/html + http_header_server_apache",
          "http_header_content-encoding_gzip + http_header_server_nginx",
          "http_header_cache-control_set_must-revalidate + http_header_content-language_text/html",
          "http_header_cache-control_set_no-cache + http_header_content-encoding_gzip",
          "http_header_cache-control_set_no-store + http_header_content-language_text/html",
          "http_header_cache-control_set_no-cache + http_header_cache-control_set_private",
          "http_header_cache-control_set_no-cache + http_header_content-language_text/html",
          "http_header_cache-control_set_public + http_header_content-encoding_gzip",
          "http_header_content-language_text/html / http_header_cache-control_set_max-age",
          "http_header_server_nginx / http_header_cache-control_set_must-revalidate",
          "http_header_content-language_text/html / http_header_server_nginx",
          "http_header_cache-control_set_private + http_header_content-language_text/html",
          "http_header_cache-control_set_no-cache / http_header_content-language_text/html",
          "http_header_content-encoding_gzip + http_header_content-language_text/html",
          "http_header_cache-control_set_must-revalidate * http_header_server_nginx",
          "http_header_cache-control_set_no-cache",
          "http_header_cache-control_set_no-cache * http_header_content-language_text/html",
          "http_header_cache-control_set_public + http_header_content-language_text/html",
          "http_header_cache-control_set_max-age / http_header_content-language_text/html",
          "http_header_content-language_text/html * http_header_server_nginx",
          "http_header_server_nginx / http_header_content-language_text/html",
          "http_header_cache-control_set_must-revalidate / http_header_server_nginx",
          "http_header_cache-control_set_public / http_header_cache-control_set_max-age",
          "http_header_server_nginx / http_header_cache-control_set_max-age",
          "http_header_cache-control_set_max-age / http_header_cache-control_set_public",
          "http_header_cache-control_set_max-age * http_header_content-language_text/html",
          "http_header_cache-control_set_must-revalidate * http_header_content-encoding_gzip",
          "http_header_cache-control_set_public / http_header_content-language_text/html",
          "http_header_cache-control_set_must-revalidate / http_header_content-encoding_gzip",
          "http_header_content-encoding_gzip / http_header_cache-control_set_must-revalidate",
          "http_header_content-language_text/html / http_header_cache-control_set_no-cache",
          "http_header_cache-control_set_max-age * http_header_cache-control_set_public",
          "http_header_cache-control_set_private",
          "http_header_content-encoding_gzip",
          "http_header_cache-control_set_public * http_header_content-language_text/html",
          "http_header_content-encoding_gzip / http_header_content-language_text/html",
          "http_header_content-language_text/html",
          "http_header_content-language_text/html / http_header_cache-control_set_public",
          "http_header_content-encoding_gzip * http_header_content-language_text/html",
          "http_header_content-language_text/html / http_header_content-encoding_gzip"
         ]
        }
       ],
       "layout": {
        "autosize": false,
        "height": 1000,
        "width": 1000,
        "xaxis": {
         "tickfont": {
          "color": "black",
          "size": 12
         },
         "title": "Feature Importances"
        },
        "yaxis": {
         "automargin": true
        }
       }
      },
      "text/html": [
       "<div id=\"daa45364-67d0-44e4-9113-30957e1376d0\" style=\"height: 1000px; width: 1000px;\" class=\"plotly-graph-div\"></div><script type=\"text/javascript\">require([\"plotly\"], function(Plotly) { window.PLOTLYENV=window.PLOTLYENV || {};window.PLOTLYENV.BASE_URL=\"https://plot.ly\";Plotly.newPlot(\"daa45364-67d0-44e4-9113-30957e1376d0\", [{\"marker\": {\"color\": \"rgb(158,202,225)\", \"line\": {\"color\": \"rgb(8,48,107)\", \"width\": 1.5}}, \"opacity\": 0.6, \"orientation\": \"h\", \"text\": [0.2967, 0.2645, 0.1702, 0.0914, 0.0765, 0.023, 0.0177, 0.0167, 0.0093, 0.0057, 0.0056, 0.003, 0.0028, 0.0022, 0.002, 0.0019, 0.0016, 0.0015, 0.0012, 0.0011, 0.0011, 0.0008, 0.0007, 0.0007, 0.0005, 0.0004, 0.0003, 0.0003, 0.0002, 0.0001, 0.0001, 0.0001, 0.0001, 0.0001, 0.0001, 0.0, 0.0, 0.0, 0.0, 0.0, 0.0, 0.0, 0.0, 0.0], \"textposition\": \"outside\", \"x\": [0.29668157342469975, 0.26448349020992806, 0.1702453665302561, 0.09142066812702714, 0.07653549821242607, 0.022969745674446974, 0.017656917954747955, 0.016674002876744604, 0.009317397744120581, 0.005728257988830234, 0.005571907739147765, 0.002951628340378043, 0.0027623981631221973, 0.0022105740564557744, 0.0019594958434657403, 0.0018565656275657415, 0.001557299553387754, 0.0014943195784133676, 0.0011720715246607333, 0.001080043498794182, 0.0010796328139419055, 0.0008482460186080739, 0.0007415763430029338, 0.0006913733095200924, 0.00046454370692503407, 0.00036747558825583047, 0.00033851471777465004, 0.0003339441326317698, 0.0001835604818272596, 0.00013102248733257808, 0.00012021656098460835, 0.00012008390480630647, 7.815158112259196e-05, 6.604699441398538e-05, 5.449674941965637e-05, 3.3885548759447325e-05, 1.4994904905397956e-05, 3.0114871493602894e-06, 0.0, 0.0, 0.0, 0.0, 0.0, 0.0], \"y\": [\"http_header_cache-control_set_max-age + http_header_content-encoding_gzip\", \"http_header_cache-control_set_private + http_header_content-encoding_gzip\", \"http_header_content-encoding_gzip / http_header_content-length\", \"http_header_content-language_text/html + http_header_server_nginx\", \"http_header_content-language_text/html + http_header_server_apache\", \"http_header_content-encoding_gzip + http_header_server_nginx\", \"http_header_cache-control_set_must-revalidate + http_header_content-language_text/html\", \"http_header_cache-control_set_no-cache + http_header_content-encoding_gzip\", \"http_header_cache-control_set_no-store + http_header_content-language_text/html\", \"http_header_cache-control_set_no-cache + http_header_cache-control_set_private\", \"http_header_cache-control_set_no-cache + http_header_content-language_text/html\", \"http_header_cache-control_set_public + http_header_content-encoding_gzip\", \"http_header_content-language_text/html / http_header_cache-control_set_max-age\", \"http_header_server_nginx / http_header_cache-control_set_must-revalidate\", \"http_header_content-language_text/html / http_header_server_nginx\", \"http_header_cache-control_set_private + http_header_content-language_text/html\", \"http_header_cache-control_set_no-cache / http_header_content-language_text/html\", \"http_header_content-encoding_gzip + http_header_content-language_text/html\", \"http_header_cache-control_set_must-revalidate * http_header_server_nginx\", \"http_header_cache-control_set_no-cache\", \"http_header_cache-control_set_no-cache * http_header_content-language_text/html\", \"http_header_cache-control_set_public + http_header_content-language_text/html\", \"http_header_cache-control_set_max-age / http_header_content-language_text/html\", \"http_header_content-language_text/html * http_header_server_nginx\", \"http_header_server_nginx / http_header_content-language_text/html\", \"http_header_cache-control_set_must-revalidate / http_header_server_nginx\", \"http_header_cache-control_set_public / http_header_cache-control_set_max-age\", \"http_header_server_nginx / http_header_cache-control_set_max-age\", \"http_header_cache-control_set_max-age / http_header_cache-control_set_public\", \"http_header_cache-control_set_max-age * http_header_content-language_text/html\", \"http_header_cache-control_set_must-revalidate * http_header_content-encoding_gzip\", \"http_header_cache-control_set_public / http_header_content-language_text/html\", \"http_header_cache-control_set_must-revalidate / http_header_content-encoding_gzip\", \"http_header_content-encoding_gzip / http_header_cache-control_set_must-revalidate\", \"http_header_content-language_text/html / http_header_cache-control_set_no-cache\", \"http_header_cache-control_set_max-age * http_header_cache-control_set_public\", \"http_header_cache-control_set_private\", \"http_header_content-encoding_gzip\", \"http_header_cache-control_set_public * http_header_content-language_text/html\", \"http_header_content-encoding_gzip / http_header_content-language_text/html\", \"http_header_content-language_text/html\", \"http_header_content-language_text/html / http_header_cache-control_set_public\", \"http_header_content-encoding_gzip * http_header_content-language_text/html\", \"http_header_content-language_text/html / http_header_content-encoding_gzip\"], \"type\": \"bar\", \"uid\": \"092b43e0-0f0d-409b-9189-e15718ec55b1\"}], {\"autosize\": false, \"height\": 1000, \"width\": 1000, \"xaxis\": {\"tickfont\": {\"color\": \"black\", \"size\": 12}, \"title\": \"Feature Importances\"}, \"yaxis\": {\"automargin\": true}}, {\"showLink\": true, \"linkText\": \"Export to plot.ly\", \"plotlyServerURL\": \"https://plot.ly\"})});</script>"
      ],
      "text/vnd.plotly.v1+html": [
       "<div id=\"daa45364-67d0-44e4-9113-30957e1376d0\" style=\"height: 1000px; width: 1000px;\" class=\"plotly-graph-div\"></div><script type=\"text/javascript\">require([\"plotly\"], function(Plotly) { window.PLOTLYENV=window.PLOTLYENV || {};window.PLOTLYENV.BASE_URL=\"https://plot.ly\";Plotly.newPlot(\"daa45364-67d0-44e4-9113-30957e1376d0\", [{\"marker\": {\"color\": \"rgb(158,202,225)\", \"line\": {\"color\": \"rgb(8,48,107)\", \"width\": 1.5}}, \"opacity\": 0.6, \"orientation\": \"h\", \"text\": [0.2967, 0.2645, 0.1702, 0.0914, 0.0765, 0.023, 0.0177, 0.0167, 0.0093, 0.0057, 0.0056, 0.003, 0.0028, 0.0022, 0.002, 0.0019, 0.0016, 0.0015, 0.0012, 0.0011, 0.0011, 0.0008, 0.0007, 0.0007, 0.0005, 0.0004, 0.0003, 0.0003, 0.0002, 0.0001, 0.0001, 0.0001, 0.0001, 0.0001, 0.0001, 0.0, 0.0, 0.0, 0.0, 0.0, 0.0, 0.0, 0.0, 0.0], \"textposition\": \"outside\", \"x\": [0.29668157342469975, 0.26448349020992806, 0.1702453665302561, 0.09142066812702714, 0.07653549821242607, 0.022969745674446974, 0.017656917954747955, 0.016674002876744604, 0.009317397744120581, 0.005728257988830234, 0.005571907739147765, 0.002951628340378043, 0.0027623981631221973, 0.0022105740564557744, 0.0019594958434657403, 0.0018565656275657415, 0.001557299553387754, 0.0014943195784133676, 0.0011720715246607333, 0.001080043498794182, 0.0010796328139419055, 0.0008482460186080739, 0.0007415763430029338, 0.0006913733095200924, 0.00046454370692503407, 0.00036747558825583047, 0.00033851471777465004, 0.0003339441326317698, 0.0001835604818272596, 0.00013102248733257808, 0.00012021656098460835, 0.00012008390480630647, 7.815158112259196e-05, 6.604699441398538e-05, 5.449674941965637e-05, 3.3885548759447325e-05, 1.4994904905397956e-05, 3.0114871493602894e-06, 0.0, 0.0, 0.0, 0.0, 0.0, 0.0], \"y\": [\"http_header_cache-control_set_max-age + http_header_content-encoding_gzip\", \"http_header_cache-control_set_private + http_header_content-encoding_gzip\", \"http_header_content-encoding_gzip / http_header_content-length\", \"http_header_content-language_text/html + http_header_server_nginx\", \"http_header_content-language_text/html + http_header_server_apache\", \"http_header_content-encoding_gzip + http_header_server_nginx\", \"http_header_cache-control_set_must-revalidate + http_header_content-language_text/html\", \"http_header_cache-control_set_no-cache + http_header_content-encoding_gzip\", \"http_header_cache-control_set_no-store + http_header_content-language_text/html\", \"http_header_cache-control_set_no-cache + http_header_cache-control_set_private\", \"http_header_cache-control_set_no-cache + http_header_content-language_text/html\", \"http_header_cache-control_set_public + http_header_content-encoding_gzip\", \"http_header_content-language_text/html / http_header_cache-control_set_max-age\", \"http_header_server_nginx / http_header_cache-control_set_must-revalidate\", \"http_header_content-language_text/html / http_header_server_nginx\", \"http_header_cache-control_set_private + http_header_content-language_text/html\", \"http_header_cache-control_set_no-cache / http_header_content-language_text/html\", \"http_header_content-encoding_gzip + http_header_content-language_text/html\", \"http_header_cache-control_set_must-revalidate * http_header_server_nginx\", \"http_header_cache-control_set_no-cache\", \"http_header_cache-control_set_no-cache * http_header_content-language_text/html\", \"http_header_cache-control_set_public + http_header_content-language_text/html\", \"http_header_cache-control_set_max-age / http_header_content-language_text/html\", \"http_header_content-language_text/html * http_header_server_nginx\", \"http_header_server_nginx / http_header_content-language_text/html\", \"http_header_cache-control_set_must-revalidate / http_header_server_nginx\", \"http_header_cache-control_set_public / http_header_cache-control_set_max-age\", \"http_header_server_nginx / http_header_cache-control_set_max-age\", \"http_header_cache-control_set_max-age / http_header_cache-control_set_public\", \"http_header_cache-control_set_max-age * http_header_content-language_text/html\", \"http_header_cache-control_set_must-revalidate * http_header_content-encoding_gzip\", \"http_header_cache-control_set_public / http_header_content-language_text/html\", \"http_header_cache-control_set_must-revalidate / http_header_content-encoding_gzip\", \"http_header_content-encoding_gzip / http_header_cache-control_set_must-revalidate\", \"http_header_content-language_text/html / http_header_cache-control_set_no-cache\", \"http_header_cache-control_set_max-age * http_header_cache-control_set_public\", \"http_header_cache-control_set_private\", \"http_header_content-encoding_gzip\", \"http_header_cache-control_set_public * http_header_content-language_text/html\", \"http_header_content-encoding_gzip / http_header_content-language_text/html\", \"http_header_content-language_text/html\", \"http_header_content-language_text/html / http_header_cache-control_set_public\", \"http_header_content-encoding_gzip * http_header_content-language_text/html\", \"http_header_content-language_text/html / http_header_content-encoding_gzip\"], \"type\": \"bar\", \"uid\": \"092b43e0-0f0d-409b-9189-e15718ec55b1\"}], {\"autosize\": false, \"height\": 1000, \"width\": 1000, \"xaxis\": {\"tickfont\": {\"color\": \"black\", \"size\": 12}, \"title\": \"Feature Importances\"}, \"yaxis\": {\"automargin\": true}}, {\"showLink\": true, \"linkText\": \"Export to plot.ly\", \"plotlyServerURL\": \"https://plot.ly\"})});</script>"
      ]
     },
     "metadata": {},
     "output_type": "display_data"
    },
    {
     "name": "stdout",
     "output_type": "stream",
     "text": [
      "\n",
      "\n",
      "\u001b[1mExtraTree Classifier\u001b[0m\n",
      "Accuracy of the model for training data is: 0.893659361029\n",
      "Confusion Matrix for training data is:\n"
     ]
    },
    {
     "data": {
      "text/plain": [
       "Predicted  False  True  __all__\n",
       "Actual                         \n",
       "False      29234  2619    31853\n",
       "True        1282  3549     4831\n",
       "__all__    30516  6168    36684"
      ]
     },
     "metadata": {},
     "output_type": "display_data"
    },
    {
     "name": "stdout",
     "output_type": "stream",
     "text": [
      "Accuracy of the model for test data is: 0.887374618404\n",
      "Confusion Matrix for test data is:\n"
     ]
    },
    {
     "data": {
      "text/plain": [
       "Predicted  False  True  __all__\n",
       "Actual                         \n",
       "False       7285   697     7982\n",
       "True         336   854     1190\n",
       "__all__     7621  1551     9172"
      ]
     },
     "metadata": {},
     "output_type": "display_data"
    },
    {
     "data": {
      "application/vnd.plotly.v1+json": {
       "config": {
        "linkText": "Export to plot.ly",
        "plotlyServerURL": "https://plot.ly",
        "showLink": true
       },
       "data": [
        {
         "marker": {
          "color": "rgb(158,202,225)",
          "line": {
           "color": "rgb(8,48,107)",
           "width": 1.5
          }
         },
         "opacity": 0.6,
         "orientation": "h",
         "text": [
          0.2081,
          0.1371,
          0.103,
          0.0814,
          0.0723,
          0.0666,
          0.0546,
          0.0472,
          0.0462,
          0.0292,
          0.0265,
          0.0226,
          0.0134,
          0.0088,
          0.0087,
          0.0084,
          0.0069,
          0.0069,
          0.0068,
          0.0063,
          0.0055,
          0.0044,
          0.0036,
          0.0035,
          0.0035,
          0.0032,
          0.0026,
          0.0026,
          0.0024,
          0.0014,
          0.0013,
          0.0009,
          0.0008,
          0.0006,
          0.0005,
          0.0005,
          0.0005,
          0.0004,
          0.0002,
          0.0002,
          0.0001,
          0.0001,
          0.0001,
          0
         ],
         "textposition": "outside",
         "type": "bar",
         "uid": "71780d72-f2bb-450b-bb68-e1857ac48903",
         "x": [
          0.2080934485407675,
          0.1370877342009123,
          0.1030411669443219,
          0.0814450403652808,
          0.07230446875143286,
          0.06658622903232239,
          0.054610322461110784,
          0.047155085437077485,
          0.04619992108834124,
          0.029179456054939785,
          0.026516712992147185,
          0.02264896339922052,
          0.013430405993288246,
          0.008795574979180189,
          0.008686078429067377,
          0.00842512438999725,
          0.006914212629599991,
          0.006906661444130135,
          0.006796429331618973,
          0.006260267623831879,
          0.0054972259663724505,
          0.004433814990434729,
          0.003589293744902528,
          0.003544491737061442,
          0.0035398649530933323,
          0.0031570230933523737,
          0.0026449834925442593,
          0.002598496437112383,
          0.0024100740747729677,
          0.0013507080953493583,
          0.0013464143562208555,
          0.0008678609304690898,
          0.0008452581126411477,
          0.0005634810546708367,
          0.0005390507306145618,
          0.0004986023147013181,
          0.00047142527507569354,
          0.0003586188845223941,
          0.00022851468611742357,
          0.00018372186851825934,
          0.00010813224698893698,
          7.041868531256984e-05,
          6.7834406272162e-05,
          1.3857742900327542e-06
         ],
         "y": [
          "http_header_content-encoding_gzip / http_header_content-length",
          "http_header_content-language_text/html / http_header_content-encoding_gzip",
          "http_header_cache-control_set_private + http_header_content-encoding_gzip",
          "http_header_content-language_text/html + http_header_server_apache",
          "http_header_content-encoding_gzip + http_header_content-language_text/html",
          "http_header_cache-control_set_private + http_header_content-language_text/html",
          "http_header_content-encoding_gzip + http_header_server_nginx",
          "http_header_cache-control_set_public + http_header_content-encoding_gzip",
          "http_header_content-encoding_gzip",
          "http_header_cache-control_set_must-revalidate + http_header_content-language_text/html",
          "http_header_content-language_text/html + http_header_server_nginx",
          "http_header_cache-control_set_no-store + http_header_content-language_text/html",
          "http_header_content-language_text/html / http_header_cache-control_set_max-age",
          "http_header_cache-control_set_max-age / http_header_content-language_text/html",
          "http_header_cache-control_set_no-cache * http_header_content-language_text/html",
          "http_header_content-language_text/html",
          "http_header_server_nginx / http_header_content-language_text/html",
          "http_header_cache-control_set_no-cache",
          "http_header_cache-control_set_no-cache + http_header_cache-control_set_private",
          "http_header_cache-control_set_private",
          "http_header_cache-control_set_no-cache + http_header_content-language_text/html",
          "http_header_cache-control_set_max-age * http_header_content-language_text/html",
          "http_header_cache-control_set_no-cache / http_header_content-language_text/html",
          "http_header_content-language_text/html / http_header_server_nginx",
          "http_header_server_nginx / http_header_cache-control_set_must-revalidate",
          "http_header_cache-control_set_max-age + http_header_content-encoding_gzip",
          "http_header_cache-control_set_no-cache + http_header_content-encoding_gzip",
          "http_header_content-language_text/html * http_header_server_nginx",
          "http_header_content-encoding_gzip / http_header_cache-control_set_must-revalidate",
          "http_header_cache-control_set_must-revalidate * http_header_content-encoding_gzip",
          "http_header_cache-control_set_must-revalidate / http_header_server_nginx",
          "http_header_cache-control_set_public / http_header_content-language_text/html",
          "http_header_content-language_text/html / http_header_cache-control_set_no-cache",
          "http_header_cache-control_set_public / http_header_cache-control_set_max-age",
          "http_header_cache-control_set_public + http_header_content-language_text/html",
          "http_header_content-language_text/html / http_header_cache-control_set_public",
          "http_header_cache-control_set_must-revalidate / http_header_content-encoding_gzip",
          "http_header_server_nginx / http_header_cache-control_set_max-age",
          "http_header_cache-control_set_max-age / http_header_cache-control_set_public",
          "http_header_cache-control_set_public * http_header_content-language_text/html",
          "http_header_cache-control_set_max-age * http_header_cache-control_set_public",
          "http_header_content-encoding_gzip / http_header_content-language_text/html",
          "http_header_cache-control_set_must-revalidate * http_header_server_nginx",
          "http_header_content-encoding_gzip * http_header_content-language_text/html"
         ]
        }
       ],
       "layout": {
        "autosize": false,
        "height": 1000,
        "width": 1000,
        "xaxis": {
         "tickfont": {
          "color": "black",
          "size": 12
         },
         "title": "Feature Importances"
        },
        "yaxis": {
         "automargin": true
        }
       }
      },
      "text/html": [
       "<div id=\"0245a3a8-85d9-4c23-9c59-73dc841cd95d\" style=\"height: 1000px; width: 1000px;\" class=\"plotly-graph-div\"></div><script type=\"text/javascript\">require([\"plotly\"], function(Plotly) { window.PLOTLYENV=window.PLOTLYENV || {};window.PLOTLYENV.BASE_URL=\"https://plot.ly\";Plotly.newPlot(\"0245a3a8-85d9-4c23-9c59-73dc841cd95d\", [{\"marker\": {\"color\": \"rgb(158,202,225)\", \"line\": {\"color\": \"rgb(8,48,107)\", \"width\": 1.5}}, \"opacity\": 0.6, \"orientation\": \"h\", \"text\": [0.2081, 0.1371, 0.103, 0.0814, 0.0723, 0.0666, 0.0546, 0.0472, 0.0462, 0.0292, 0.0265, 0.0226, 0.0134, 0.0088, 0.0087, 0.0084, 0.0069, 0.0069, 0.0068, 0.0063, 0.0055, 0.0044, 0.0036, 0.0035, 0.0035, 0.0032, 0.0026, 0.0026, 0.0024, 0.0014, 0.0013, 0.0009, 0.0008, 0.0006, 0.0005, 0.0005, 0.0005, 0.0004, 0.0002, 0.0002, 0.0001, 0.0001, 0.0001, 0.0], \"textposition\": \"outside\", \"x\": [0.2080934485407675, 0.1370877342009123, 0.1030411669443219, 0.0814450403652808, 0.07230446875143286, 0.06658622903232239, 0.054610322461110784, 0.047155085437077485, 0.04619992108834124, 0.029179456054939785, 0.026516712992147185, 0.02264896339922052, 0.013430405993288246, 0.008795574979180189, 0.008686078429067377, 0.00842512438999725, 0.006914212629599991, 0.006906661444130135, 0.006796429331618973, 0.006260267623831879, 0.0054972259663724505, 0.004433814990434729, 0.003589293744902528, 0.003544491737061442, 0.0035398649530933323, 0.0031570230933523737, 0.0026449834925442593, 0.002598496437112383, 0.0024100740747729677, 0.0013507080953493583, 0.0013464143562208555, 0.0008678609304690898, 0.0008452581126411477, 0.0005634810546708367, 0.0005390507306145618, 0.0004986023147013181, 0.00047142527507569354, 0.0003586188845223941, 0.00022851468611742357, 0.00018372186851825934, 0.00010813224698893698, 7.041868531256984e-05, 6.7834406272162e-05, 1.3857742900327542e-06], \"y\": [\"http_header_content-encoding_gzip / http_header_content-length\", \"http_header_content-language_text/html / http_header_content-encoding_gzip\", \"http_header_cache-control_set_private + http_header_content-encoding_gzip\", \"http_header_content-language_text/html + http_header_server_apache\", \"http_header_content-encoding_gzip + http_header_content-language_text/html\", \"http_header_cache-control_set_private + http_header_content-language_text/html\", \"http_header_content-encoding_gzip + http_header_server_nginx\", \"http_header_cache-control_set_public + http_header_content-encoding_gzip\", \"http_header_content-encoding_gzip\", \"http_header_cache-control_set_must-revalidate + http_header_content-language_text/html\", \"http_header_content-language_text/html + http_header_server_nginx\", \"http_header_cache-control_set_no-store + http_header_content-language_text/html\", \"http_header_content-language_text/html / http_header_cache-control_set_max-age\", \"http_header_cache-control_set_max-age / http_header_content-language_text/html\", \"http_header_cache-control_set_no-cache * http_header_content-language_text/html\", \"http_header_content-language_text/html\", \"http_header_server_nginx / http_header_content-language_text/html\", \"http_header_cache-control_set_no-cache\", \"http_header_cache-control_set_no-cache + http_header_cache-control_set_private\", \"http_header_cache-control_set_private\", \"http_header_cache-control_set_no-cache + http_header_content-language_text/html\", \"http_header_cache-control_set_max-age * http_header_content-language_text/html\", \"http_header_cache-control_set_no-cache / http_header_content-language_text/html\", \"http_header_content-language_text/html / http_header_server_nginx\", \"http_header_server_nginx / http_header_cache-control_set_must-revalidate\", \"http_header_cache-control_set_max-age + http_header_content-encoding_gzip\", \"http_header_cache-control_set_no-cache + http_header_content-encoding_gzip\", \"http_header_content-language_text/html * http_header_server_nginx\", \"http_header_content-encoding_gzip / http_header_cache-control_set_must-revalidate\", \"http_header_cache-control_set_must-revalidate * http_header_content-encoding_gzip\", \"http_header_cache-control_set_must-revalidate / http_header_server_nginx\", \"http_header_cache-control_set_public / http_header_content-language_text/html\", \"http_header_content-language_text/html / http_header_cache-control_set_no-cache\", \"http_header_cache-control_set_public / http_header_cache-control_set_max-age\", \"http_header_cache-control_set_public + http_header_content-language_text/html\", \"http_header_content-language_text/html / http_header_cache-control_set_public\", \"http_header_cache-control_set_must-revalidate / http_header_content-encoding_gzip\", \"http_header_server_nginx / http_header_cache-control_set_max-age\", \"http_header_cache-control_set_max-age / http_header_cache-control_set_public\", \"http_header_cache-control_set_public * http_header_content-language_text/html\", \"http_header_cache-control_set_max-age * http_header_cache-control_set_public\", \"http_header_content-encoding_gzip / http_header_content-language_text/html\", \"http_header_cache-control_set_must-revalidate * http_header_server_nginx\", \"http_header_content-encoding_gzip * http_header_content-language_text/html\"], \"type\": \"bar\", \"uid\": \"71780d72-f2bb-450b-bb68-e1857ac48903\"}], {\"autosize\": false, \"height\": 1000, \"width\": 1000, \"xaxis\": {\"tickfont\": {\"color\": \"black\", \"size\": 12}, \"title\": \"Feature Importances\"}, \"yaxis\": {\"automargin\": true}}, {\"showLink\": true, \"linkText\": \"Export to plot.ly\", \"plotlyServerURL\": \"https://plot.ly\"})});</script>"
      ],
      "text/vnd.plotly.v1+html": [
       "<div id=\"0245a3a8-85d9-4c23-9c59-73dc841cd95d\" style=\"height: 1000px; width: 1000px;\" class=\"plotly-graph-div\"></div><script type=\"text/javascript\">require([\"plotly\"], function(Plotly) { window.PLOTLYENV=window.PLOTLYENV || {};window.PLOTLYENV.BASE_URL=\"https://plot.ly\";Plotly.newPlot(\"0245a3a8-85d9-4c23-9c59-73dc841cd95d\", [{\"marker\": {\"color\": \"rgb(158,202,225)\", \"line\": {\"color\": \"rgb(8,48,107)\", \"width\": 1.5}}, \"opacity\": 0.6, \"orientation\": \"h\", \"text\": [0.2081, 0.1371, 0.103, 0.0814, 0.0723, 0.0666, 0.0546, 0.0472, 0.0462, 0.0292, 0.0265, 0.0226, 0.0134, 0.0088, 0.0087, 0.0084, 0.0069, 0.0069, 0.0068, 0.0063, 0.0055, 0.0044, 0.0036, 0.0035, 0.0035, 0.0032, 0.0026, 0.0026, 0.0024, 0.0014, 0.0013, 0.0009, 0.0008, 0.0006, 0.0005, 0.0005, 0.0005, 0.0004, 0.0002, 0.0002, 0.0001, 0.0001, 0.0001, 0.0], \"textposition\": \"outside\", \"x\": [0.2080934485407675, 0.1370877342009123, 0.1030411669443219, 0.0814450403652808, 0.07230446875143286, 0.06658622903232239, 0.054610322461110784, 0.047155085437077485, 0.04619992108834124, 0.029179456054939785, 0.026516712992147185, 0.02264896339922052, 0.013430405993288246, 0.008795574979180189, 0.008686078429067377, 0.00842512438999725, 0.006914212629599991, 0.006906661444130135, 0.006796429331618973, 0.006260267623831879, 0.0054972259663724505, 0.004433814990434729, 0.003589293744902528, 0.003544491737061442, 0.0035398649530933323, 0.0031570230933523737, 0.0026449834925442593, 0.002598496437112383, 0.0024100740747729677, 0.0013507080953493583, 0.0013464143562208555, 0.0008678609304690898, 0.0008452581126411477, 0.0005634810546708367, 0.0005390507306145618, 0.0004986023147013181, 0.00047142527507569354, 0.0003586188845223941, 0.00022851468611742357, 0.00018372186851825934, 0.00010813224698893698, 7.041868531256984e-05, 6.7834406272162e-05, 1.3857742900327542e-06], \"y\": [\"http_header_content-encoding_gzip / http_header_content-length\", \"http_header_content-language_text/html / http_header_content-encoding_gzip\", \"http_header_cache-control_set_private + http_header_content-encoding_gzip\", \"http_header_content-language_text/html + http_header_server_apache\", \"http_header_content-encoding_gzip + http_header_content-language_text/html\", \"http_header_cache-control_set_private + http_header_content-language_text/html\", \"http_header_content-encoding_gzip + http_header_server_nginx\", \"http_header_cache-control_set_public + http_header_content-encoding_gzip\", \"http_header_content-encoding_gzip\", \"http_header_cache-control_set_must-revalidate + http_header_content-language_text/html\", \"http_header_content-language_text/html + http_header_server_nginx\", \"http_header_cache-control_set_no-store + http_header_content-language_text/html\", \"http_header_content-language_text/html / http_header_cache-control_set_max-age\", \"http_header_cache-control_set_max-age / http_header_content-language_text/html\", \"http_header_cache-control_set_no-cache * http_header_content-language_text/html\", \"http_header_content-language_text/html\", \"http_header_server_nginx / http_header_content-language_text/html\", \"http_header_cache-control_set_no-cache\", \"http_header_cache-control_set_no-cache + http_header_cache-control_set_private\", \"http_header_cache-control_set_private\", \"http_header_cache-control_set_no-cache + http_header_content-language_text/html\", \"http_header_cache-control_set_max-age * http_header_content-language_text/html\", \"http_header_cache-control_set_no-cache / http_header_content-language_text/html\", \"http_header_content-language_text/html / http_header_server_nginx\", \"http_header_server_nginx / http_header_cache-control_set_must-revalidate\", \"http_header_cache-control_set_max-age + http_header_content-encoding_gzip\", \"http_header_cache-control_set_no-cache + http_header_content-encoding_gzip\", \"http_header_content-language_text/html * http_header_server_nginx\", \"http_header_content-encoding_gzip / http_header_cache-control_set_must-revalidate\", \"http_header_cache-control_set_must-revalidate * http_header_content-encoding_gzip\", \"http_header_cache-control_set_must-revalidate / http_header_server_nginx\", \"http_header_cache-control_set_public / http_header_content-language_text/html\", \"http_header_content-language_text/html / http_header_cache-control_set_no-cache\", \"http_header_cache-control_set_public / http_header_cache-control_set_max-age\", \"http_header_cache-control_set_public + http_header_content-language_text/html\", \"http_header_content-language_text/html / http_header_cache-control_set_public\", \"http_header_cache-control_set_must-revalidate / http_header_content-encoding_gzip\", \"http_header_server_nginx / http_header_cache-control_set_max-age\", \"http_header_cache-control_set_max-age / http_header_cache-control_set_public\", \"http_header_cache-control_set_public * http_header_content-language_text/html\", \"http_header_cache-control_set_max-age * http_header_cache-control_set_public\", \"http_header_content-encoding_gzip / http_header_content-language_text/html\", \"http_header_cache-control_set_must-revalidate * http_header_server_nginx\", \"http_header_content-encoding_gzip * http_header_content-language_text/html\"], \"type\": \"bar\", \"uid\": \"71780d72-f2bb-450b-bb68-e1857ac48903\"}], {\"autosize\": false, \"height\": 1000, \"width\": 1000, \"xaxis\": {\"tickfont\": {\"color\": \"black\", \"size\": 12}, \"title\": \"Feature Importances\"}, \"yaxis\": {\"automargin\": true}}, {\"showLink\": true, \"linkText\": \"Export to plot.ly\", \"plotlyServerURL\": \"https://plot.ly\"})});</script>"
      ]
     },
     "metadata": {},
     "output_type": "display_data"
    },
    {
     "name": "stdout",
     "output_type": "stream",
     "text": [
      "\n",
      "\n",
      "\u001b[1mBagging Classifier\u001b[0m\n",
      "Accuracy of the model for training data is: 0.892923345328\n",
      "Confusion Matrix for training data is:\n"
     ]
    },
    {
     "data": {
      "text/plain": [
       "Predicted  False  True  __all__\n",
       "Actual                         \n",
       "False      29218  2635    31853\n",
       "True        1293  3538     4831\n",
       "__all__    30511  6173    36684"
      ]
     },
     "metadata": {},
     "output_type": "display_data"
    },
    {
     "name": "stdout",
     "output_type": "stream",
     "text": [
      "Accuracy of the model for test data is: 0.888464893153\n",
      "Confusion Matrix for test data is:\n"
     ]
    },
    {
     "data": {
      "text/plain": [
       "Predicted  False  True  __all__\n",
       "Actual                         \n",
       "False       7298   684     7982\n",
       "True         339   851     1190\n",
       "__all__     7637  1535     9172"
      ]
     },
     "metadata": {},
     "output_type": "display_data"
    },
    {
     "name": "stdout",
     "output_type": "stream",
     "text": [
      "\n",
      "\n",
      "\u001b[1mNeural Network-1\u001b[0m\n",
      "The accuracy of the model on training data is: 0.889188747144\n"
     ]
    },
    {
     "data": {
      "text/plain": [
       "Predicted  False  True  __all__\n",
       "Actual                         \n",
       "False      29212  2641    31853\n",
       "True        1424  3407     4831\n",
       "__all__    30636  6048    36684"
      ]
     },
     "metadata": {},
     "output_type": "display_data"
    },
    {
     "name": "stdout",
     "output_type": "stream",
     "text": [
      "The accuracy of the model on test data is: 0.888901003053\n"
     ]
    },
    {
     "data": {
      "text/plain": [
       "Predicted  False  True  __all__\n",
       "Actual                         \n",
       "False       7314   668     7982\n",
       "True         351   839     1190\n",
       "__all__     7665  1507     9172"
      ]
     },
     "metadata": {},
     "output_type": "display_data"
    },
    {
     "name": "stdout",
     "output_type": "stream",
     "text": [
      "\n",
      "\n"
     ]
    }
   ],
   "source": [
    "feat_imp=[None]*4\n",
    "j=0\n",
    "for i in range(0,8):\n",
    "    if i>=2 and i<=5:\n",
    "        model,cm_train,cm_test,acc_train,acc_test,roc_auc,feat_imp[j],mcc=f[i](scaled_X_train,train_Y,scaled_X_test,test_Y,columns)\n",
    "        j=j+1\n",
    "    else:\n",
    "        model,cm_train,cm_test,acc_train,acc_test,roc_auc,mcc=f[i](scaled_X_train,train_Y,scaled_X_test,test_Y)\n",
    "    table_80_60_train.loc[i]=   ([acc_train,cm_train.TP,cm_train.TN,cm_train.FP,cm_train.FN,cm_train.FPR,cm_train.FNR])\n",
    "    table_80_60_test.loc[i] =   ([acc_test ,cm_test.TP, cm_test.TN, cm_test.FP, cm_test.FN, cm_test.FPR, cm_test.FNR,roc_auc,mcc])\n",
    "    print(\"\\n\")"
   ]
  },
  {
   "cell_type": "markdown",
   "metadata": {},
   "source": [
    "### <a id='4.A' style=\"text-decoration : none; color : #000000;\"> A. Results</a>"
   ]
  },
  {
   "cell_type": "code",
   "execution_count": 39,
   "metadata": {},
   "outputs": [
    {
     "data": {
      "application/vnd.plotly.v1+json": {
       "config": {
        "linkText": "Export to plot.ly",
        "plotlyServerURL": "https://plot.ly",
        "showLink": true
       },
       "data": [
        {
         "mode": "lines",
         "name": "KNN_model",
         "type": "scatter",
         "uid": "9bacb7cc-8bf6-489d-a390-cdff797704fc",
         "x": [
          "accuracy",
          "FPR",
          "FNR",
          "auc"
         ],
         "y": [
          0.8817051897078063,
          0.08068153345026309,
          0.37058823529411766,
          0.7743651156278096
         ]
        },
        {
         "mode": "lines+markers",
         "name": "Logistic Regression",
         "type": "scatter",
         "uid": "03d887ae-50f4-4836-9423-c75ba98c4410",
         "x": [
          "accuracy",
          "FPR",
          "FNR",
          "auc"
         ],
         "y": [
          0.8715656345399041,
          0.08707090954647959,
          0.40588235294117647,
          0.7535233687561721
         ]
        },
        {
         "marker": {
          "symbol": "x"
         },
         "mode": "lines+markers",
         "name": "Random Forest",
         "type": "scatter",
         "uid": "c28fc0c4-37a9-4b6b-b100-1879479a5f8d",
         "x": [
          "accuracy",
          "FPR",
          "FNR",
          "auc"
         ],
         "y": [
          0.8871565634539904,
          0.0874467551991982,
          0.28319327731092436,
          0.8146799837449388
         ]
        },
        {
         "mode": "lines",
         "name": "Ada Boost",
         "type": "scatter",
         "uid": "820447b7-e71f-461b-a6a1-5178a7ce1120",
         "x": [
          "accuracy",
          "FPR",
          "FNR",
          "auc"
         ],
         "y": [
          0.8718927169646751,
          0.0858180907040842,
          0.4117647058823529,
          0.7512086017067815
         ]
        },
        {
         "mode": "lines+markers",
         "name": "GradientBoosting",
         "type": "scatter",
         "uid": "a5fc6795-372d-44a7-a0a9-b3a9f8e47ace",
         "x": [
          "accuracy",
          "FPR",
          "FNR",
          "auc"
         ],
         "y": [
          0.8873746184038378,
          0.08256076171385618,
          0.3142857142857143,
          0.8015767620002148
         ]
        },
        {
         "marker": {
          "symbol": "x"
         },
         "mode": "lines+markers",
         "name": "ExtraTree Classifier",
         "type": "scatter",
         "uid": "6664d7a0-76bb-4865-a2a5-a15c37728bda",
         "x": [
          "accuracy",
          "FPR",
          "FNR",
          "auc"
         ],
         "y": [
          0.8873746184038378,
          0.08732147331495865,
          0.2823529411764706,
          0.8151627927542854
         ]
        },
        {
         "marker": {
          "symbol": "x"
         },
         "mode": "lines+markers",
         "name": "Bagging",
         "type": "scatter",
         "uid": "6775f217-6ebf-46a4-9f91-307cb6a380ff",
         "x": [
          "accuracy",
          "FPR",
          "FNR",
          "auc"
         ],
         "y": [
          0.8884648931530745,
          0.08569280881984465,
          0.2848739495798319,
          0.8147166208001618
         ]
        },
        {
         "marker": {
          "symbol": "x"
         },
         "mode": "lines+markers",
         "name": "Neural Network",
         "type": "scatter",
         "uid": "b47febc6-53e0-456b-8ce7-4163b189b5fb",
         "x": [
          "accuracy",
          "FPR",
          "FNR",
          "auc"
         ],
         "y": [
          0.8889010030527693,
          0.08368829867201202,
          0.2949579831932773,
          0.8147166208001618
         ]
        }
       ],
       "layout": {
        "title": "Result comparision for Features selected in Section 1",
        "yaxis": {
         "dtick": 0.05,
         "tick0": 0
        }
       }
      },
      "text/html": [
       "<div id=\"e941e7e4-ad33-4590-bca1-102d61aed20b\" style=\"height: 525px; width: 100%;\" class=\"plotly-graph-div\"></div><script type=\"text/javascript\">require([\"plotly\"], function(Plotly) { window.PLOTLYENV=window.PLOTLYENV || {};window.PLOTLYENV.BASE_URL=\"https://plot.ly\";Plotly.newPlot(\"e941e7e4-ad33-4590-bca1-102d61aed20b\", [{\"mode\": \"lines\", \"name\": \"KNN_model\", \"x\": [\"accuracy\", \"FPR\", \"FNR\", \"auc\"], \"y\": [0.8817051897078063, 0.08068153345026309, 0.37058823529411766, 0.7743651156278096], \"type\": \"scatter\", \"uid\": \"9bacb7cc-8bf6-489d-a390-cdff797704fc\"}, {\"mode\": \"lines+markers\", \"name\": \"Logistic Regression\", \"x\": [\"accuracy\", \"FPR\", \"FNR\", \"auc\"], \"y\": [0.8715656345399041, 0.08707090954647959, 0.40588235294117647, 0.7535233687561721], \"type\": \"scatter\", \"uid\": \"03d887ae-50f4-4836-9423-c75ba98c4410\"}, {\"marker\": {\"symbol\": \"x\"}, \"mode\": \"lines+markers\", \"name\": \"Random Forest\", \"x\": [\"accuracy\", \"FPR\", \"FNR\", \"auc\"], \"y\": [0.8871565634539904, 0.0874467551991982, 0.28319327731092436, 0.8146799837449388], \"type\": \"scatter\", \"uid\": \"c28fc0c4-37a9-4b6b-b100-1879479a5f8d\"}, {\"mode\": \"lines\", \"name\": \"Ada Boost\", \"x\": [\"accuracy\", \"FPR\", \"FNR\", \"auc\"], \"y\": [0.8718927169646751, 0.0858180907040842, 0.4117647058823529, 0.7512086017067815], \"type\": \"scatter\", \"uid\": \"820447b7-e71f-461b-a6a1-5178a7ce1120\"}, {\"mode\": \"lines+markers\", \"name\": \"GradientBoosting\", \"x\": [\"accuracy\", \"FPR\", \"FNR\", \"auc\"], \"y\": [0.8873746184038378, 0.08256076171385618, 0.3142857142857143, 0.8015767620002148], \"type\": \"scatter\", \"uid\": \"a5fc6795-372d-44a7-a0a9-b3a9f8e47ace\"}, {\"marker\": {\"symbol\": \"x\"}, \"mode\": \"lines+markers\", \"name\": \"ExtraTree Classifier\", \"x\": [\"accuracy\", \"FPR\", \"FNR\", \"auc\"], \"y\": [0.8873746184038378, 0.08732147331495865, 0.2823529411764706, 0.8151627927542854], \"type\": \"scatter\", \"uid\": \"6664d7a0-76bb-4865-a2a5-a15c37728bda\"}, {\"marker\": {\"symbol\": \"x\"}, \"mode\": \"lines+markers\", \"name\": \"Bagging\", \"x\": [\"accuracy\", \"FPR\", \"FNR\", \"auc\"], \"y\": [0.8884648931530745, 0.08569280881984465, 0.2848739495798319, 0.8147166208001618], \"type\": \"scatter\", \"uid\": \"6775f217-6ebf-46a4-9f91-307cb6a380ff\"}, {\"marker\": {\"symbol\": \"x\"}, \"mode\": \"lines+markers\", \"name\": \"Neural Network\", \"x\": [\"accuracy\", \"FPR\", \"FNR\", \"auc\"], \"y\": [0.8889010030527693, 0.08368829867201202, 0.2949579831932773, 0.8147166208001618], \"type\": \"scatter\", \"uid\": \"b47febc6-53e0-456b-8ce7-4163b189b5fb\"}], {\"title\": \"Result comparision for Features selected in Section 1\", \"yaxis\": {\"dtick\": 0.05, \"tick0\": 0}}, {\"showLink\": true, \"linkText\": \"Export to plot.ly\", \"plotlyServerURL\": \"https://plot.ly\"})});</script><script type=\"text/javascript\">window.addEventListener(\"resize\", function(){window._Plotly.Plots.resize(document.getElementById(\"e941e7e4-ad33-4590-bca1-102d61aed20b\"));});</script>"
      ],
      "text/vnd.plotly.v1+html": [
       "<div id=\"e941e7e4-ad33-4590-bca1-102d61aed20b\" style=\"height: 525px; width: 100%;\" class=\"plotly-graph-div\"></div><script type=\"text/javascript\">require([\"plotly\"], function(Plotly) { window.PLOTLYENV=window.PLOTLYENV || {};window.PLOTLYENV.BASE_URL=\"https://plot.ly\";Plotly.newPlot(\"e941e7e4-ad33-4590-bca1-102d61aed20b\", [{\"mode\": \"lines\", \"name\": \"KNN_model\", \"x\": [\"accuracy\", \"FPR\", \"FNR\", \"auc\"], \"y\": [0.8817051897078063, 0.08068153345026309, 0.37058823529411766, 0.7743651156278096], \"type\": \"scatter\", \"uid\": \"9bacb7cc-8bf6-489d-a390-cdff797704fc\"}, {\"mode\": \"lines+markers\", \"name\": \"Logistic Regression\", \"x\": [\"accuracy\", \"FPR\", \"FNR\", \"auc\"], \"y\": [0.8715656345399041, 0.08707090954647959, 0.40588235294117647, 0.7535233687561721], \"type\": \"scatter\", \"uid\": \"03d887ae-50f4-4836-9423-c75ba98c4410\"}, {\"marker\": {\"symbol\": \"x\"}, \"mode\": \"lines+markers\", \"name\": \"Random Forest\", \"x\": [\"accuracy\", \"FPR\", \"FNR\", \"auc\"], \"y\": [0.8871565634539904, 0.0874467551991982, 0.28319327731092436, 0.8146799837449388], \"type\": \"scatter\", \"uid\": \"c28fc0c4-37a9-4b6b-b100-1879479a5f8d\"}, {\"mode\": \"lines\", \"name\": \"Ada Boost\", \"x\": [\"accuracy\", \"FPR\", \"FNR\", \"auc\"], \"y\": [0.8718927169646751, 0.0858180907040842, 0.4117647058823529, 0.7512086017067815], \"type\": \"scatter\", \"uid\": \"820447b7-e71f-461b-a6a1-5178a7ce1120\"}, {\"mode\": \"lines+markers\", \"name\": \"GradientBoosting\", \"x\": [\"accuracy\", \"FPR\", \"FNR\", \"auc\"], \"y\": [0.8873746184038378, 0.08256076171385618, 0.3142857142857143, 0.8015767620002148], \"type\": \"scatter\", \"uid\": \"a5fc6795-372d-44a7-a0a9-b3a9f8e47ace\"}, {\"marker\": {\"symbol\": \"x\"}, \"mode\": \"lines+markers\", \"name\": \"ExtraTree Classifier\", \"x\": [\"accuracy\", \"FPR\", \"FNR\", \"auc\"], \"y\": [0.8873746184038378, 0.08732147331495865, 0.2823529411764706, 0.8151627927542854], \"type\": \"scatter\", \"uid\": \"6664d7a0-76bb-4865-a2a5-a15c37728bda\"}, {\"marker\": {\"symbol\": \"x\"}, \"mode\": \"lines+markers\", \"name\": \"Bagging\", \"x\": [\"accuracy\", \"FPR\", \"FNR\", \"auc\"], \"y\": [0.8884648931530745, 0.08569280881984465, 0.2848739495798319, 0.8147166208001618], \"type\": \"scatter\", \"uid\": \"6775f217-6ebf-46a4-9f91-307cb6a380ff\"}, {\"marker\": {\"symbol\": \"x\"}, \"mode\": \"lines+markers\", \"name\": \"Neural Network\", \"x\": [\"accuracy\", \"FPR\", \"FNR\", \"auc\"], \"y\": [0.8889010030527693, 0.08368829867201202, 0.2949579831932773, 0.8147166208001618], \"type\": \"scatter\", \"uid\": \"b47febc6-53e0-456b-8ce7-4163b189b5fb\"}], {\"title\": \"Result comparision for Features selected in Section 1\", \"yaxis\": {\"dtick\": 0.05, \"tick0\": 0}}, {\"showLink\": true, \"linkText\": \"Export to plot.ly\", \"plotlyServerURL\": \"https://plot.ly\"})});</script><script type=\"text/javascript\">window.addEventListener(\"resize\", function(){window._Plotly.Plots.resize(document.getElementById(\"e941e7e4-ad33-4590-bca1-102d61aed20b\"));});</script>"
      ]
     },
     "metadata": {},
     "output_type": "display_data"
    }
   ],
   "source": [
    "trace0 = go.Scatter(x=table_80_60_test.iloc[0].index.values[[0,5,6,7]],\n",
    "                    y=table_80_60_test.iloc[0].values[[0,5,6,7]],\n",
    "                    mode = 'lines',\n",
    "                    name = 'KNN_model')\n",
    "\n",
    "trace1 = go.Scatter(x=table_80_60_test.iloc[1].index.values[[0,5,6,7]],\n",
    "                    y=table_80_60_test.iloc[1].values[[0,5,6,7]],\n",
    "                    mode = 'lines+markers',\n",
    "                    name = 'Logistic Regression')\n",
    "\n",
    "trace2 = go.Scatter(x=table_80_60_test.iloc[2].index.values[[0,5,6,7]],\n",
    "                    y=table_80_60_test.iloc[2].values[[0,5,6,7]],\n",
    "                    mode = 'lines+markers',marker=dict(symbol='x'),\n",
    "                    name = 'Random Forest')\n",
    "\n",
    "\n",
    "trace3 = go.Scatter(x=table_80_60_test.iloc[3].index.values[[0,5,6,7]],\n",
    "                    y=table_80_60_test.iloc[3].values[[0,5,6,7]],\n",
    "                    mode = 'lines',\n",
    "                    name = 'Ada Boost')\n",
    "\n",
    "trace4 = go.Scatter(x=table_80_60_test.iloc[4].index.values[[0,5,6,7]],\n",
    "                    y=table_80_60_test.iloc[4].values[[0,5,6,7]],\n",
    "                    mode = 'lines+markers',\n",
    "                    name = 'GradientBoosting')\n",
    "\n",
    "trace5 = go.Scatter(x=table_80_60_test.iloc[5].index.values[[0,5,6,7]],\n",
    "                    y=table_80_60_test.iloc[5].values[[0,5,6,7]],\n",
    "                    mode = 'lines+markers',marker=dict(symbol='x'),\n",
    "                    name = 'ExtraTree Classifier')\n",
    "\n",
    "trace6 = go.Scatter(x=table_80_60_test.iloc[6].index.values[[0,5,6,7]],\n",
    "                    y=table_80_60_test.iloc[6].values[[0,5,6,7]],\n",
    "                    mode = 'lines+markers',marker=dict(symbol='x'),\n",
    "                    name = 'Bagging')\n",
    "\n",
    "trace7 = go.Scatter(x=table_80_60_test.iloc[7].index.values[[0,5,6,7]],\n",
    "                    y=table_80_60_test.iloc[7].values[[0,5,6,7]],\n",
    "                    mode = 'lines+markers',marker=dict(symbol='x'),\n",
    "                    name = 'Neural Network')\n",
    "\n",
    "\n",
    "\n",
    "data = [trace0, trace1, trace2, trace3, trace4, trace5, trace6, trace7]\n",
    "layout = go.Layout(yaxis=dict(tick0=0,dtick=0.05),title='Result comparision for Features selected in Section 1')\n",
    "fig = go.Figure(data=data, layout=layout)\n",
    "\n",
    "iplot(fig, filename='Result')"
   ]
  },
  {
   "cell_type": "code",
   "execution_count": 40,
   "metadata": {},
   "outputs": [
    {
     "name": "stdout",
     "output_type": "stream",
     "text": [
      "Training Results\n"
     ]
    },
    {
     "data": {
      "text/html": [
       "<div>\n",
       "<style scoped>\n",
       "    .dataframe tbody tr th:only-of-type {\n",
       "        vertical-align: middle;\n",
       "    }\n",
       "\n",
       "    .dataframe tbody tr th {\n",
       "        vertical-align: top;\n",
       "    }\n",
       "\n",
       "    .dataframe thead th {\n",
       "        text-align: right;\n",
       "    }\n",
       "</style>\n",
       "<table border=\"1\" class=\"dataframe\">\n",
       "  <thead>\n",
       "    <tr style=\"text-align: right;\">\n",
       "      <th></th>\n",
       "      <th>accuracy</th>\n",
       "      <th>TP</th>\n",
       "      <th>TN</th>\n",
       "      <th>FP</th>\n",
       "      <th>FN</th>\n",
       "      <th>FPR</th>\n",
       "      <th>FNR</th>\n",
       "    </tr>\n",
       "    <tr>\n",
       "      <th>index</th>\n",
       "      <th></th>\n",
       "      <th></th>\n",
       "      <th></th>\n",
       "      <th></th>\n",
       "      <th></th>\n",
       "      <th></th>\n",
       "      <th></th>\n",
       "    </tr>\n",
       "  </thead>\n",
       "  <tbody>\n",
       "    <tr>\n",
       "      <th>KNeighborsClassifier</th>\n",
       "      <td>0.883055</td>\n",
       "      <td>3103.0</td>\n",
       "      <td>29291.0</td>\n",
       "      <td>2562.0</td>\n",
       "      <td>1728.0</td>\n",
       "      <td>0.080432</td>\n",
       "      <td>0.357690</td>\n",
       "    </tr>\n",
       "    <tr>\n",
       "      <th>LogisticRegression</th>\n",
       "      <td>0.873678</td>\n",
       "      <td>2935.0</td>\n",
       "      <td>29115.0</td>\n",
       "      <td>2738.0</td>\n",
       "      <td>1896.0</td>\n",
       "      <td>0.085957</td>\n",
       "      <td>0.392465</td>\n",
       "    </tr>\n",
       "    <tr>\n",
       "      <th>RandomForestClassifier</th>\n",
       "      <td>0.892951</td>\n",
       "      <td>3538.0</td>\n",
       "      <td>29219.0</td>\n",
       "      <td>2634.0</td>\n",
       "      <td>1293.0</td>\n",
       "      <td>0.082692</td>\n",
       "      <td>0.267646</td>\n",
       "    </tr>\n",
       "    <tr>\n",
       "      <th>AdaBoostClassifier</th>\n",
       "      <td>0.873978</td>\n",
       "      <td>2936.0</td>\n",
       "      <td>29125.0</td>\n",
       "      <td>2728.0</td>\n",
       "      <td>1895.0</td>\n",
       "      <td>0.085643</td>\n",
       "      <td>0.392258</td>\n",
       "    </tr>\n",
       "    <tr>\n",
       "      <th>GradientBoostingClassifier</th>\n",
       "      <td>0.888535</td>\n",
       "      <td>3341.0</td>\n",
       "      <td>29254.0</td>\n",
       "      <td>2599.0</td>\n",
       "      <td>1490.0</td>\n",
       "      <td>0.081594</td>\n",
       "      <td>0.308425</td>\n",
       "    </tr>\n",
       "    <tr>\n",
       "      <th>ExtraTreeClassifier</th>\n",
       "      <td>0.893659</td>\n",
       "      <td>3549.0</td>\n",
       "      <td>29234.0</td>\n",
       "      <td>2619.0</td>\n",
       "      <td>1282.0</td>\n",
       "      <td>0.082221</td>\n",
       "      <td>0.265369</td>\n",
       "    </tr>\n",
       "    <tr>\n",
       "      <th>BaggingClassifier</th>\n",
       "      <td>0.892923</td>\n",
       "      <td>3538.0</td>\n",
       "      <td>29218.0</td>\n",
       "      <td>2635.0</td>\n",
       "      <td>1293.0</td>\n",
       "      <td>0.082724</td>\n",
       "      <td>0.267646</td>\n",
       "    </tr>\n",
       "    <tr>\n",
       "      <th>Neural Network-1</th>\n",
       "      <td>0.889189</td>\n",
       "      <td>3407.0</td>\n",
       "      <td>29212.0</td>\n",
       "      <td>2641.0</td>\n",
       "      <td>1424.0</td>\n",
       "      <td>0.082912</td>\n",
       "      <td>0.294763</td>\n",
       "    </tr>\n",
       "  </tbody>\n",
       "</table>\n",
       "</div>"
      ],
      "text/plain": [
       "                            accuracy      TP       TN      FP      FN  \\\n",
       "index                                                                   \n",
       "KNeighborsClassifier        0.883055  3103.0  29291.0  2562.0  1728.0   \n",
       "LogisticRegression          0.873678  2935.0  29115.0  2738.0  1896.0   \n",
       "RandomForestClassifier      0.892951  3538.0  29219.0  2634.0  1293.0   \n",
       "AdaBoostClassifier          0.873978  2936.0  29125.0  2728.0  1895.0   \n",
       "GradientBoostingClassifier  0.888535  3341.0  29254.0  2599.0  1490.0   \n",
       "ExtraTreeClassifier         0.893659  3549.0  29234.0  2619.0  1282.0   \n",
       "BaggingClassifier           0.892923  3538.0  29218.0  2635.0  1293.0   \n",
       "Neural Network-1            0.889189  3407.0  29212.0  2641.0  1424.0   \n",
       "\n",
       "                                 FPR       FNR  \n",
       "index                                           \n",
       "KNeighborsClassifier        0.080432  0.357690  \n",
       "LogisticRegression          0.085957  0.392465  \n",
       "RandomForestClassifier      0.082692  0.267646  \n",
       "AdaBoostClassifier          0.085643  0.392258  \n",
       "GradientBoostingClassifier  0.081594  0.308425  \n",
       "ExtraTreeClassifier         0.082221  0.265369  \n",
       "BaggingClassifier           0.082724  0.267646  \n",
       "Neural Network-1            0.082912  0.294763  "
      ]
     },
     "metadata": {},
     "output_type": "display_data"
    },
    {
     "name": "stdout",
     "output_type": "stream",
     "text": [
      "Test Results\n"
     ]
    },
    {
     "data": {
      "text/html": [
       "<div>\n",
       "<style scoped>\n",
       "    .dataframe tbody tr th:only-of-type {\n",
       "        vertical-align: middle;\n",
       "    }\n",
       "\n",
       "    .dataframe tbody tr th {\n",
       "        vertical-align: top;\n",
       "    }\n",
       "\n",
       "    .dataframe thead th {\n",
       "        text-align: right;\n",
       "    }\n",
       "</style>\n",
       "<table border=\"1\" class=\"dataframe\">\n",
       "  <thead>\n",
       "    <tr style=\"text-align: right;\">\n",
       "      <th></th>\n",
       "      <th>accuracy</th>\n",
       "      <th>TP</th>\n",
       "      <th>TN</th>\n",
       "      <th>FP</th>\n",
       "      <th>FN</th>\n",
       "      <th>FPR</th>\n",
       "      <th>FNR</th>\n",
       "      <th>auc</th>\n",
       "      <th>mcc</th>\n",
       "    </tr>\n",
       "    <tr>\n",
       "      <th>index</th>\n",
       "      <th></th>\n",
       "      <th></th>\n",
       "      <th></th>\n",
       "      <th></th>\n",
       "      <th></th>\n",
       "      <th></th>\n",
       "      <th></th>\n",
       "      <th></th>\n",
       "      <th></th>\n",
       "    </tr>\n",
       "  </thead>\n",
       "  <tbody>\n",
       "    <tr>\n",
       "      <th>KNeighborsClassifier</th>\n",
       "      <td>0.881705</td>\n",
       "      <td>749.0</td>\n",
       "      <td>7338.0</td>\n",
       "      <td>644.0</td>\n",
       "      <td>441.0</td>\n",
       "      <td>0.080682</td>\n",
       "      <td>0.370588</td>\n",
       "      <td>0.774365</td>\n",
       "      <td>0.513749</td>\n",
       "    </tr>\n",
       "    <tr>\n",
       "      <th>LogisticRegression</th>\n",
       "      <td>0.871566</td>\n",
       "      <td>707.0</td>\n",
       "      <td>7287.0</td>\n",
       "      <td>695.0</td>\n",
       "      <td>483.0</td>\n",
       "      <td>0.087071</td>\n",
       "      <td>0.405882</td>\n",
       "      <td>0.753523</td>\n",
       "      <td>0.473470</td>\n",
       "    </tr>\n",
       "    <tr>\n",
       "      <th>RandomForestClassifier</th>\n",
       "      <td>0.887157</td>\n",
       "      <td>853.0</td>\n",
       "      <td>7284.0</td>\n",
       "      <td>698.0</td>\n",
       "      <td>337.0</td>\n",
       "      <td>0.087447</td>\n",
       "      <td>0.283193</td>\n",
       "      <td>0.814680</td>\n",
       "      <td>0.564179</td>\n",
       "    </tr>\n",
       "    <tr>\n",
       "      <th>AdaBoostClassifier</th>\n",
       "      <td>0.871893</td>\n",
       "      <td>700.0</td>\n",
       "      <td>7297.0</td>\n",
       "      <td>685.0</td>\n",
       "      <td>490.0</td>\n",
       "      <td>0.085818</td>\n",
       "      <td>0.411765</td>\n",
       "      <td>0.751209</td>\n",
       "      <td>0.471502</td>\n",
       "    </tr>\n",
       "    <tr>\n",
       "      <th>GradientBoostingClassifier</th>\n",
       "      <td>0.887375</td>\n",
       "      <td>816.0</td>\n",
       "      <td>7323.0</td>\n",
       "      <td>659.0</td>\n",
       "      <td>374.0</td>\n",
       "      <td>0.082561</td>\n",
       "      <td>0.314286</td>\n",
       "      <td>0.801577</td>\n",
       "      <td>0.551697</td>\n",
       "    </tr>\n",
       "    <tr>\n",
       "      <th>ExtraTreeClassifier</th>\n",
       "      <td>0.887375</td>\n",
       "      <td>854.0</td>\n",
       "      <td>7285.0</td>\n",
       "      <td>697.0</td>\n",
       "      <td>336.0</td>\n",
       "      <td>0.087321</td>\n",
       "      <td>0.282353</td>\n",
       "      <td>0.815163</td>\n",
       "      <td>0.565044</td>\n",
       "    </tr>\n",
       "    <tr>\n",
       "      <th>BaggingClassifier</th>\n",
       "      <td>0.888465</td>\n",
       "      <td>851.0</td>\n",
       "      <td>7298.0</td>\n",
       "      <td>684.0</td>\n",
       "      <td>339.0</td>\n",
       "      <td>0.085693</td>\n",
       "      <td>0.284874</td>\n",
       "      <td>0.814717</td>\n",
       "      <td>0.566583</td>\n",
       "    </tr>\n",
       "    <tr>\n",
       "      <th>Neural Network-1</th>\n",
       "      <td>0.888901</td>\n",
       "      <td>839.0</td>\n",
       "      <td>7314.0</td>\n",
       "      <td>668.0</td>\n",
       "      <td>351.0</td>\n",
       "      <td>0.083688</td>\n",
       "      <td>0.294958</td>\n",
       "      <td>0.814717</td>\n",
       "      <td>0.563450</td>\n",
       "    </tr>\n",
       "  </tbody>\n",
       "</table>\n",
       "</div>"
      ],
      "text/plain": [
       "                            accuracy     TP      TN     FP     FN       FPR  \\\n",
       "index                                                                         \n",
       "KNeighborsClassifier        0.881705  749.0  7338.0  644.0  441.0  0.080682   \n",
       "LogisticRegression          0.871566  707.0  7287.0  695.0  483.0  0.087071   \n",
       "RandomForestClassifier      0.887157  853.0  7284.0  698.0  337.0  0.087447   \n",
       "AdaBoostClassifier          0.871893  700.0  7297.0  685.0  490.0  0.085818   \n",
       "GradientBoostingClassifier  0.887375  816.0  7323.0  659.0  374.0  0.082561   \n",
       "ExtraTreeClassifier         0.887375  854.0  7285.0  697.0  336.0  0.087321   \n",
       "BaggingClassifier           0.888465  851.0  7298.0  684.0  339.0  0.085693   \n",
       "Neural Network-1            0.888901  839.0  7314.0  668.0  351.0  0.083688   \n",
       "\n",
       "                                 FNR       auc       mcc  \n",
       "index                                                     \n",
       "KNeighborsClassifier        0.370588  0.774365  0.513749  \n",
       "LogisticRegression          0.405882  0.753523  0.473470  \n",
       "RandomForestClassifier      0.283193  0.814680  0.564179  \n",
       "AdaBoostClassifier          0.411765  0.751209  0.471502  \n",
       "GradientBoostingClassifier  0.314286  0.801577  0.551697  \n",
       "ExtraTreeClassifier         0.282353  0.815163  0.565044  \n",
       "BaggingClassifier           0.284874  0.814717  0.566583  \n",
       "Neural Network-1            0.294958  0.814717  0.563450  "
      ]
     },
     "metadata": {},
     "output_type": "display_data"
    }
   ],
   "source": [
    "table_80_60_train['index']=ind_columns\n",
    "table_80_60_test['index']=ind_columns\n",
    "\n",
    "\n",
    "table_80_60_test.set_index(['index'],drop=True,inplace=True)\n",
    "table_80_60_train.set_index(['index'],drop=True,inplace=True)\n",
    "\n",
    "print(\"Training Results\")\n",
    "display(table_80_60_train)\n",
    "print(\"Test Results\")\n",
    "display(table_80_60_test)"
   ]
  },
  {
   "cell_type": "markdown",
   "metadata": {},
   "source": [
    "### <a id='4.B' style=\"text-decoration : none; color : #000000;\"> B. Average Feature Importances</a>"
   ]
  },
  {
   "cell_type": "code",
   "execution_count": 41,
   "metadata": {},
   "outputs": [
    {
     "data": {
      "application/vnd.plotly.v1+json": {
       "config": {
        "linkText": "Export to plot.ly",
        "plotlyServerURL": "https://plot.ly",
        "showLink": true
       },
       "data": [
        {
         "marker": {
          "color": "rgb(158,202,225)",
          "line": {
           "color": "rgb(8,48,107)",
           "width": 1.5
          }
         },
         "opacity": 0.6,
         "orientation": "h",
         "text": [
          0.2717,
          0.1404,
          0.1077,
          0.0762,
          0.0448,
          0.0427,
          0.0369,
          0.0365,
          0.0317,
          0.0242,
          0.0222,
          0.0206,
          0.0184,
          0.0126,
          0.0117,
          0.0116,
          0.0108,
          0.0103,
          0.0099,
          0.0077,
          0.0069,
          0.0054,
          0.0054,
          0.005,
          0.0036,
          0.0036,
          0.003,
          0.003,
          0.003,
          0.0022,
          0.0021,
          0.0018,
          0.0016,
          0.0013,
          0.0012,
          0.0007,
          0.0005,
          0.0003,
          0.0002,
          0.0002,
          0.0001,
          0.0001,
          0.0001,
          0
         ],
         "textposition": "outside",
         "type": "bar",
         "uid": "cd3f5367-25a3-47fd-a153-a358b737f8d1",
         "x": [
          0.2716522069393885,
          0.1404011202245499,
          0.10766335528319808,
          0.07618513413967337,
          0.0447823117118457,
          0.04266990607037518,
          0.03690218370875855,
          0.03653817295768903,
          0.03174779017892885,
          0.024150061965790712,
          0.022245774576032645,
          0.020569107545833458,
          0.0183898311000387,
          0.012589443318944534,
          0.011678534234165027,
          0.011624371829763749,
          0.010824779097423876,
          0.010266489882375605,
          0.009898920274283896,
          0.00774696902527715,
          0.006938666313386095,
          0.005403801171498571,
          0.005399482655208368,
          0.00500743804067513,
          0.0036191053387974116,
          0.0035679287584783398,
          0.0030096132977218137,
          0.0030076764671080167,
          0.0029710321976116395,
          0.0021659376957791805,
          0.002108790343382054,
          0.001802294522800378,
          0.0015932239434690142,
          0.00133635768626388,
          0.0011872533768964371,
          0.0007083621223122066,
          0.0005164503396371709,
          0.00028720571110680773,
          0.0002498203300626502,
          0.00021297458476748796,
          0.00013857736729913905,
          0.00012781289334550373,
          9.587294940635665e-05,
          1.785782864990367e-05
         ],
         "y": [
          "http_header_content-encoding_gzip / http_header_content-length",
          "http_header_cache-control_set_private + http_header_content-encoding_gzip",
          "http_header_cache-control_set_max-age + http_header_content-encoding_gzip",
          "http_header_content-language_text/html + http_header_server_apache",
          "http_header_cache-control_set_no-cache + http_header_content-language_text/html",
          "http_header_content-language_text/html + http_header_server_nginx",
          "http_header_content-language_text/html / http_header_content-encoding_gzip",
          "http_header_cache-control_set_must-revalidate + http_header_content-language_text/html",
          "http_header_content-encoding_gzip + http_header_server_nginx",
          "http_header_cache-control_set_public + http_header_content-encoding_gzip",
          "http_header_content-encoding_gzip + http_header_content-language_text/html",
          "http_header_cache-control_set_no-cache + http_header_content-encoding_gzip",
          "http_header_cache-control_set_private + http_header_content-language_text/html",
          "http_header_cache-control_set_no-store + http_header_content-language_text/html",
          "http_header_cache-control_set_no-cache + http_header_cache-control_set_private",
          "http_header_content-encoding_gzip",
          "http_header_cache-control_set_max-age / http_header_content-language_text/html",
          "http_header_cache-control_set_must-revalidate / http_header_content-encoding_gzip",
          "http_header_content-encoding_gzip * http_header_content-language_text/html",
          "http_header_content-language_text/html / http_header_server_nginx",
          "http_header_cache-control_set_private",
          "http_header_cache-control_set_public / http_header_content-language_text/html",
          "http_header_cache-control_set_must-revalidate * http_header_content-encoding_gzip",
          "http_header_content-language_text/html / http_header_cache-control_set_max-age",
          "http_header_server_nginx / http_header_content-language_text/html",
          "http_header_cache-control_set_no-cache / http_header_content-language_text/html",
          "http_header_cache-control_set_no-cache",
          "http_header_cache-control_set_no-cache * http_header_content-language_text/html",
          "http_header_cache-control_set_public + http_header_content-language_text/html",
          "http_header_cache-control_set_max-age * http_header_content-language_text/html",
          "http_header_content-language_text/html",
          "http_header_server_nginx / http_header_cache-control_set_must-revalidate",
          "http_header_content-language_text/html * http_header_server_nginx",
          "http_header_cache-control_set_must-revalidate / http_header_server_nginx",
          "http_header_content-language_text/html / http_header_cache-control_set_no-cache",
          "http_header_content-encoding_gzip / http_header_cache-control_set_must-revalidate",
          "http_header_cache-control_set_must-revalidate * http_header_server_nginx",
          "http_header_cache-control_set_public / http_header_cache-control_set_max-age",
          "http_header_server_nginx / http_header_cache-control_set_max-age",
          "http_header_content-language_text/html / http_header_cache-control_set_public",
          "http_header_cache-control_set_max-age / http_header_cache-control_set_public",
          "http_header_cache-control_set_public * http_header_content-language_text/html",
          "http_header_cache-control_set_max-age * http_header_cache-control_set_public",
          "http_header_content-encoding_gzip / http_header_content-language_text/html"
         ]
        }
       ],
       "layout": {
        "autosize": false,
        "height": 1000,
        "width": 1000,
        "xaxis": {
         "tickfont": {
          "color": "black",
          "size": 12
         },
         "title": "Feature Importances"
        },
        "yaxis": {
         "automargin": true
        }
       }
      },
      "text/html": [
       "<div id=\"2df9ae5a-2193-4bfc-b6bb-fc003875efd3\" style=\"height: 1000px; width: 1000px;\" class=\"plotly-graph-div\"></div><script type=\"text/javascript\">require([\"plotly\"], function(Plotly) { window.PLOTLYENV=window.PLOTLYENV || {};window.PLOTLYENV.BASE_URL=\"https://plot.ly\";Plotly.newPlot(\"2df9ae5a-2193-4bfc-b6bb-fc003875efd3\", [{\"marker\": {\"color\": \"rgb(158,202,225)\", \"line\": {\"color\": \"rgb(8,48,107)\", \"width\": 1.5}}, \"opacity\": 0.6, \"orientation\": \"h\", \"text\": [0.2717, 0.1404, 0.1077, 0.0762, 0.0448, 0.0427, 0.0369, 0.0365, 0.0317, 0.0242, 0.0222, 0.0206, 0.0184, 0.0126, 0.0117, 0.0116, 0.0108, 0.0103, 0.0099, 0.0077, 0.0069, 0.0054, 0.0054, 0.005, 0.0036, 0.0036, 0.003, 0.003, 0.003, 0.0022, 0.0021, 0.0018, 0.0016, 0.0013, 0.0012, 0.0007, 0.0005, 0.0003, 0.0002, 0.0002, 0.0001, 0.0001, 0.0001, 0.0], \"textposition\": \"outside\", \"x\": [0.2716522069393885, 0.1404011202245499, 0.10766335528319808, 0.07618513413967337, 0.0447823117118457, 0.04266990607037518, 0.03690218370875855, 0.03653817295768903, 0.03174779017892885, 0.024150061965790712, 0.022245774576032645, 0.020569107545833458, 0.0183898311000387, 0.012589443318944534, 0.011678534234165027, 0.011624371829763749, 0.010824779097423876, 0.010266489882375605, 0.009898920274283896, 0.00774696902527715, 0.006938666313386095, 0.005403801171498571, 0.005399482655208368, 0.00500743804067513, 0.0036191053387974116, 0.0035679287584783398, 0.0030096132977218137, 0.0030076764671080167, 0.0029710321976116395, 0.0021659376957791805, 0.002108790343382054, 0.001802294522800378, 0.0015932239434690142, 0.00133635768626388, 0.0011872533768964371, 0.0007083621223122066, 0.0005164503396371709, 0.00028720571110680773, 0.0002498203300626502, 0.00021297458476748796, 0.00013857736729913905, 0.00012781289334550373, 9.587294940635665e-05, 1.785782864990367e-05], \"y\": [\"http_header_content-encoding_gzip / http_header_content-length\", \"http_header_cache-control_set_private + http_header_content-encoding_gzip\", \"http_header_cache-control_set_max-age + http_header_content-encoding_gzip\", \"http_header_content-language_text/html + http_header_server_apache\", \"http_header_cache-control_set_no-cache + http_header_content-language_text/html\", \"http_header_content-language_text/html + http_header_server_nginx\", \"http_header_content-language_text/html / http_header_content-encoding_gzip\", \"http_header_cache-control_set_must-revalidate + http_header_content-language_text/html\", \"http_header_content-encoding_gzip + http_header_server_nginx\", \"http_header_cache-control_set_public + http_header_content-encoding_gzip\", \"http_header_content-encoding_gzip + http_header_content-language_text/html\", \"http_header_cache-control_set_no-cache + http_header_content-encoding_gzip\", \"http_header_cache-control_set_private + http_header_content-language_text/html\", \"http_header_cache-control_set_no-store + http_header_content-language_text/html\", \"http_header_cache-control_set_no-cache + http_header_cache-control_set_private\", \"http_header_content-encoding_gzip\", \"http_header_cache-control_set_max-age / http_header_content-language_text/html\", \"http_header_cache-control_set_must-revalidate / http_header_content-encoding_gzip\", \"http_header_content-encoding_gzip * http_header_content-language_text/html\", \"http_header_content-language_text/html / http_header_server_nginx\", \"http_header_cache-control_set_private\", \"http_header_cache-control_set_public / http_header_content-language_text/html\", \"http_header_cache-control_set_must-revalidate * http_header_content-encoding_gzip\", \"http_header_content-language_text/html / http_header_cache-control_set_max-age\", \"http_header_server_nginx / http_header_content-language_text/html\", \"http_header_cache-control_set_no-cache / http_header_content-language_text/html\", \"http_header_cache-control_set_no-cache\", \"http_header_cache-control_set_no-cache * http_header_content-language_text/html\", \"http_header_cache-control_set_public + http_header_content-language_text/html\", \"http_header_cache-control_set_max-age * http_header_content-language_text/html\", \"http_header_content-language_text/html\", \"http_header_server_nginx / http_header_cache-control_set_must-revalidate\", \"http_header_content-language_text/html * http_header_server_nginx\", \"http_header_cache-control_set_must-revalidate / http_header_server_nginx\", \"http_header_content-language_text/html / http_header_cache-control_set_no-cache\", \"http_header_content-encoding_gzip / http_header_cache-control_set_must-revalidate\", \"http_header_cache-control_set_must-revalidate * http_header_server_nginx\", \"http_header_cache-control_set_public / http_header_cache-control_set_max-age\", \"http_header_server_nginx / http_header_cache-control_set_max-age\", \"http_header_content-language_text/html / http_header_cache-control_set_public\", \"http_header_cache-control_set_max-age / http_header_cache-control_set_public\", \"http_header_cache-control_set_public * http_header_content-language_text/html\", \"http_header_cache-control_set_max-age * http_header_cache-control_set_public\", \"http_header_content-encoding_gzip / http_header_content-language_text/html\"], \"type\": \"bar\", \"uid\": \"cd3f5367-25a3-47fd-a153-a358b737f8d1\"}], {\"autosize\": false, \"height\": 1000, \"width\": 1000, \"xaxis\": {\"tickfont\": {\"color\": \"black\", \"size\": 12}, \"title\": \"Feature Importances\"}, \"yaxis\": {\"automargin\": true}}, {\"showLink\": true, \"linkText\": \"Export to plot.ly\", \"plotlyServerURL\": \"https://plot.ly\"})});</script>"
      ],
      "text/vnd.plotly.v1+html": [
       "<div id=\"2df9ae5a-2193-4bfc-b6bb-fc003875efd3\" style=\"height: 1000px; width: 1000px;\" class=\"plotly-graph-div\"></div><script type=\"text/javascript\">require([\"plotly\"], function(Plotly) { window.PLOTLYENV=window.PLOTLYENV || {};window.PLOTLYENV.BASE_URL=\"https://plot.ly\";Plotly.newPlot(\"2df9ae5a-2193-4bfc-b6bb-fc003875efd3\", [{\"marker\": {\"color\": \"rgb(158,202,225)\", \"line\": {\"color\": \"rgb(8,48,107)\", \"width\": 1.5}}, \"opacity\": 0.6, \"orientation\": \"h\", \"text\": [0.2717, 0.1404, 0.1077, 0.0762, 0.0448, 0.0427, 0.0369, 0.0365, 0.0317, 0.0242, 0.0222, 0.0206, 0.0184, 0.0126, 0.0117, 0.0116, 0.0108, 0.0103, 0.0099, 0.0077, 0.0069, 0.0054, 0.0054, 0.005, 0.0036, 0.0036, 0.003, 0.003, 0.003, 0.0022, 0.0021, 0.0018, 0.0016, 0.0013, 0.0012, 0.0007, 0.0005, 0.0003, 0.0002, 0.0002, 0.0001, 0.0001, 0.0001, 0.0], \"textposition\": \"outside\", \"x\": [0.2716522069393885, 0.1404011202245499, 0.10766335528319808, 0.07618513413967337, 0.0447823117118457, 0.04266990607037518, 0.03690218370875855, 0.03653817295768903, 0.03174779017892885, 0.024150061965790712, 0.022245774576032645, 0.020569107545833458, 0.0183898311000387, 0.012589443318944534, 0.011678534234165027, 0.011624371829763749, 0.010824779097423876, 0.010266489882375605, 0.009898920274283896, 0.00774696902527715, 0.006938666313386095, 0.005403801171498571, 0.005399482655208368, 0.00500743804067513, 0.0036191053387974116, 0.0035679287584783398, 0.0030096132977218137, 0.0030076764671080167, 0.0029710321976116395, 0.0021659376957791805, 0.002108790343382054, 0.001802294522800378, 0.0015932239434690142, 0.00133635768626388, 0.0011872533768964371, 0.0007083621223122066, 0.0005164503396371709, 0.00028720571110680773, 0.0002498203300626502, 0.00021297458476748796, 0.00013857736729913905, 0.00012781289334550373, 9.587294940635665e-05, 1.785782864990367e-05], \"y\": [\"http_header_content-encoding_gzip / http_header_content-length\", \"http_header_cache-control_set_private + http_header_content-encoding_gzip\", \"http_header_cache-control_set_max-age + http_header_content-encoding_gzip\", \"http_header_content-language_text/html + http_header_server_apache\", \"http_header_cache-control_set_no-cache + http_header_content-language_text/html\", \"http_header_content-language_text/html + http_header_server_nginx\", \"http_header_content-language_text/html / http_header_content-encoding_gzip\", \"http_header_cache-control_set_must-revalidate + http_header_content-language_text/html\", \"http_header_content-encoding_gzip + http_header_server_nginx\", \"http_header_cache-control_set_public + http_header_content-encoding_gzip\", \"http_header_content-encoding_gzip + http_header_content-language_text/html\", \"http_header_cache-control_set_no-cache + http_header_content-encoding_gzip\", \"http_header_cache-control_set_private + http_header_content-language_text/html\", \"http_header_cache-control_set_no-store + http_header_content-language_text/html\", \"http_header_cache-control_set_no-cache + http_header_cache-control_set_private\", \"http_header_content-encoding_gzip\", \"http_header_cache-control_set_max-age / http_header_content-language_text/html\", \"http_header_cache-control_set_must-revalidate / http_header_content-encoding_gzip\", \"http_header_content-encoding_gzip * http_header_content-language_text/html\", \"http_header_content-language_text/html / http_header_server_nginx\", \"http_header_cache-control_set_private\", \"http_header_cache-control_set_public / http_header_content-language_text/html\", \"http_header_cache-control_set_must-revalidate * http_header_content-encoding_gzip\", \"http_header_content-language_text/html / http_header_cache-control_set_max-age\", \"http_header_server_nginx / http_header_content-language_text/html\", \"http_header_cache-control_set_no-cache / http_header_content-language_text/html\", \"http_header_cache-control_set_no-cache\", \"http_header_cache-control_set_no-cache * http_header_content-language_text/html\", \"http_header_cache-control_set_public + http_header_content-language_text/html\", \"http_header_cache-control_set_max-age * http_header_content-language_text/html\", \"http_header_content-language_text/html\", \"http_header_server_nginx / http_header_cache-control_set_must-revalidate\", \"http_header_content-language_text/html * http_header_server_nginx\", \"http_header_cache-control_set_must-revalidate / http_header_server_nginx\", \"http_header_content-language_text/html / http_header_cache-control_set_no-cache\", \"http_header_content-encoding_gzip / http_header_cache-control_set_must-revalidate\", \"http_header_cache-control_set_must-revalidate * http_header_server_nginx\", \"http_header_cache-control_set_public / http_header_cache-control_set_max-age\", \"http_header_server_nginx / http_header_cache-control_set_max-age\", \"http_header_content-language_text/html / http_header_cache-control_set_public\", \"http_header_cache-control_set_max-age / http_header_cache-control_set_public\", \"http_header_cache-control_set_public * http_header_content-language_text/html\", \"http_header_cache-control_set_max-age * http_header_cache-control_set_public\", \"http_header_content-encoding_gzip / http_header_content-language_text/html\"], \"type\": \"bar\", \"uid\": \"cd3f5367-25a3-47fd-a153-a358b737f8d1\"}], {\"autosize\": false, \"height\": 1000, \"width\": 1000, \"xaxis\": {\"tickfont\": {\"color\": \"black\", \"size\": 12}, \"title\": \"Feature Importances\"}, \"yaxis\": {\"automargin\": true}}, {\"showLink\": true, \"linkText\": \"Export to plot.ly\", \"plotlyServerURL\": \"https://plot.ly\"})});</script>"
      ]
     },
     "metadata": {},
     "output_type": "display_data"
    }
   ],
   "source": [
    "feat_impt_plot(np.average(feat_imp,axis=0),columns)"
   ]
  },
  {
   "cell_type": "markdown",
   "metadata": {},
   "source": [
    "### <a id='5' style=\"text-decoration : none; color : #000000;\">5. Feature Transformation with PCA </a>"
   ]
  },
  {
   "cell_type": "code",
   "execution_count": 42,
   "metadata": {
    "collapsed": true
   },
   "outputs": [],
   "source": [
    "X=fs.loc[:,fs.columns!='Target']\n",
    "y=fs.Target.values\n",
    "feature_name = X.columns.tolist()\n",
    "X=np.nan_to_num(X)\n",
    "scaler=StandardScaler()\n",
    "scaled_X=scaler.fit_transform(X)"
   ]
  },
  {
   "cell_type": "code",
   "execution_count": 43,
   "metadata": {},
   "outputs": [
    {
     "data": {
      "image/png": "[encoded data removed]",
      "text/plain": [
       "<Figure size 720x576 with 1 Axes>"
      ]
     },
     "metadata": {},
     "output_type": "display_data"
    }
   ],
   "source": [
    "sns.set_style('whitegrid')\n",
    "pca = PCA(random_state=0)\n",
    "pca.fit(scaled_X)\n",
    "plt.figure(1, figsize=(10, 8))\n",
    "plt.plot(np.cumsum(pca.explained_variance_ratio_),'--o', linewidth=2)\n",
    "plt.axis('tight')\n",
    "plt.xlabel('Number of Components',size=14)\n",
    "plt.xticks(size=12)\n",
    "plt.xlim([0,200])\n",
    "plt.ylabel('% Explained Variance',size=14)\n",
    "plt.yticks(size=12)\n",
    "plt.title('% Variance Explained by Principal Components',size=14,y=1.05)\n",
    "plt.show()"
   ]
  },
  {
   "cell_type": "code",
   "execution_count": 44,
   "metadata": {},
   "outputs": [
    {
     "data": {
      "text/plain": [
       "34"
      ]
     },
     "execution_count": 44,
     "metadata": {},
     "output_type": "execute_result"
    }
   ],
   "source": [
    "np.where(np.cumsum(pca.explained_variance_ratio_)>0.95)[0][0]"
   ]
  },
  {
   "cell_type": "code",
   "execution_count": 45,
   "metadata": {},
   "outputs": [
    {
     "name": "stdout",
     "output_type": "stream",
     "text": [
      "Variance explained using 34 components is: 0.946903958497\n"
     ]
    }
   ],
   "source": [
    "pca=PCA(n_components=34,whiten=True,random_state=0)\n",
    "X_pca_21=pca.fit_transform(scaled_X)\n",
    "print(\"Variance explained using 34 components is:\",sum(pca.explained_variance_ratio_))"
   ]
  },
  {
   "cell_type": "code",
   "execution_count": 48,
   "metadata": {
    "collapsed": true
   },
   "outputs": [],
   "source": [
    "X_train=X_pca_21[:36684]\n",
    "Y_train=fs.iloc[:36684]['Target'].values\n",
    "X_test=X_pca_21[36684:]\n",
    "Y_test=fs.iloc[36684:]['Target'].values\n",
    "\n",
    "## Table to store training and test measures so we can compare later\n",
    "table_80_70_train=pd.DataFrame(columns=['accuracy','TP','TN','FP','FN','FPR','FNR'])\n",
    "table_80_70_test=pd.DataFrame(columns=['accuracy','TP','TN','FP','FN','FPR','FNR','auc','mcc'])"
   ]
  },
  {
   "cell_type": "code",
   "execution_count": 49,
   "metadata": {
    "scrolled": false
   },
   "outputs": [
    {
     "name": "stdout",
     "output_type": "stream",
     "text": [
      "\u001b[1mK-Nearest Neighbors\u001b[0m\n",
      "Accuracy of the model for training data is: 0.890715298223\n",
      "Confusion Matrix for training data is:\n"
     ]
    },
    {
     "data": {
      "text/plain": [
       "Predicted  False  True  __all__\n",
       "Actual                         \n",
       "False      31065   788    31853\n",
       "True        3221  1610     4831\n",
       "__all__    34286  2398    36684"
      ]
     },
     "metadata": {},
     "output_type": "display_data"
    },
    {
     "name": "stdout",
     "output_type": "stream",
     "text": [
      "Accuracy of the model for test data is: 0.893153074575\n",
      "Confusion Matrix for test data is:\n"
     ]
    },
    {
     "data": {
      "text/plain": [
       "Predicted  False  True  __all__\n",
       "Actual                         \n",
       "False       7792   190     7982\n",
       "True         790   400     1190\n",
       "__all__     8582   590     9172"
      ]
     },
     "metadata": {},
     "output_type": "display_data"
    },
    {
     "name": "stdout",
     "output_type": "stream",
     "text": [
      "\n",
      "\n",
      "\u001b[1mLogistic Regression\u001b[0m\n",
      "Accuracy of the model for training data is: 0.876213062916\n",
      "Confusion Matrix for training data is:\n"
     ]
    },
    {
     "data": {
      "text/plain": [
       "Predicted  False  True  __all__\n",
       "Actual                         \n",
       "False      29214  2639    31853\n",
       "True        1902  2929     4831\n",
       "__all__    31116  5568    36684"
      ]
     },
     "metadata": {},
     "output_type": "display_data"
    },
    {
     "name": "stdout",
     "output_type": "stream",
     "text": [
      "Accuracy of the model for test data is: 0.875163541212\n",
      "Confusion Matrix for test data is:\n"
     ]
    },
    {
     "data": {
      "text/plain": [
       "Predicted  False  True  __all__\n",
       "Actual                         \n",
       "False       7321   661     7982\n",
       "True         484   706     1190\n",
       "__all__     7805  1367     9172"
      ]
     },
     "metadata": {},
     "output_type": "display_data"
    },
    {
     "name": "stdout",
     "output_type": "stream",
     "text": [
      "\n",
      "\n",
      "\u001b[1mRandomForest Classifier\u001b[0m\n",
      "Accuracy of the model for training data is: 0.905653690982\n",
      "Confusion Matrix for training data is:\n"
     ]
    },
    {
     "data": {
      "text/plain": [
       "Predicted  False  True  __all__\n",
       "Actual                         \n",
       "False      28845  3008    31853\n",
       "True         453  4378     4831\n",
       "__all__    29298  7386    36684"
      ]
     },
     "metadata": {},
     "output_type": "display_data"
    },
    {
     "name": "stdout",
     "output_type": "stream",
     "text": [
      "Accuracy of the model for test data is: 0.899149585696\n",
      "Confusion Matrix for test data is:\n"
     ]
    },
    {
     "data": {
      "text/plain": [
       "Predicted  False  True  __all__\n",
       "Actual                         \n",
       "False       7210   772     7982\n",
       "True         153  1037     1190\n",
       "__all__     7363  1809     9172"
      ]
     },
     "metadata": {},
     "output_type": "display_data"
    },
    {
     "data": {
      "application/vnd.plotly.v1+json": {
       "config": {
        "linkText": "Export to plot.ly",
        "plotlyServerURL": "https://plot.ly",
        "showLink": true
       },
       "data": [
        {
         "marker": {
          "color": "rgb(158,202,225)",
          "line": {
           "color": "rgb(8,48,107)",
           "width": 1.5
          }
         },
         "opacity": 0.6,
         "orientation": "h",
         "text": [
          0.2187,
          0.1226,
          0.1052,
          0.0407,
          0.0391,
          0.0355,
          0.0348,
          0.0344,
          0.0308,
          0.0275,
          0.0246,
          0.0243,
          0.0228,
          0.0225,
          0.0211,
          0.02,
          0.0185,
          0.0172,
          0.0153,
          0.0122,
          0.0118,
          0.0117,
          0.0116,
          0.0101,
          0.0097,
          0.0089,
          0.0079,
          0.0074,
          0.0065,
          0.0061,
          0.0057,
          0.0049,
          0.0049,
          0.0049
         ],
         "textposition": "outside",
         "type": "bar",
         "uid": "1e1dbd97-d435-45c6-ae67-4071abaf9cb9",
         "x": [
          0.2186804163725376,
          0.12256321391791343,
          0.10520575884997208,
          0.040739981131414686,
          0.039126072637421405,
          0.035516252177254494,
          0.03479271280010174,
          0.03438143786132421,
          0.030791056849400755,
          0.027518300990346682,
          0.024637564038360208,
          0.024289312849844567,
          0.02277970686822879,
          0.022466008355655966,
          0.02108312302786356,
          0.020026346745959673,
          0.018547808599347404,
          0.01715834638070484,
          0.015307742472169789,
          0.0122271928058032,
          0.011802825150433075,
          0.011651334534549786,
          0.011645852759136124,
          0.010129857994792093,
          0.009676529230626752,
          0.008905083194071755,
          0.007948746469220435,
          0.0073918636627115135,
          0.006489255680270968,
          0.0060932986379718624,
          0.005720390718029604,
          0.004918371162594959,
          0.004909919681960952,
          0.004878315392005094
         ],
         "y": [
          "5",
          "1",
          "0",
          "7",
          "25",
          "23",
          "8",
          "6",
          "16",
          "4",
          "17",
          "19",
          "18",
          "20",
          "33",
          "14",
          "10",
          "11",
          "12",
          "2",
          "3",
          "31",
          "9",
          "27",
          "15",
          "26",
          "32",
          "22",
          "30",
          "21",
          "24",
          "29",
          "28",
          "13"
         ]
        }
       ],
       "layout": {
        "autosize": false,
        "height": 1000,
        "width": 1000,
        "xaxis": {
         "tickfont": {
          "color": "black",
          "size": 12
         },
         "title": "Feature Importances"
        },
        "yaxis": {
         "automargin": true
        }
       }
      },
      "text/html": [
       "<div id=\"efbd78e6-6b2d-4a00-b57d-01b138e73c4f\" style=\"height: 1000px; width: 1000px;\" class=\"plotly-graph-div\"></div><script type=\"text/javascript\">require([\"plotly\"], function(Plotly) { window.PLOTLYENV=window.PLOTLYENV || {};window.PLOTLYENV.BASE_URL=\"https://plot.ly\";Plotly.newPlot(\"efbd78e6-6b2d-4a00-b57d-01b138e73c4f\", [{\"marker\": {\"color\": \"rgb(158,202,225)\", \"line\": {\"color\": \"rgb(8,48,107)\", \"width\": 1.5}}, \"opacity\": 0.6, \"orientation\": \"h\", \"text\": [0.2187, 0.1226, 0.1052, 0.0407, 0.0391, 0.0355, 0.0348, 0.0344, 0.0308, 0.0275, 0.0246, 0.0243, 0.0228, 0.0225, 0.0211, 0.02, 0.0185, 0.0172, 0.0153, 0.0122, 0.0118, 0.0117, 0.0116, 0.0101, 0.0097, 0.0089, 0.0079, 0.0074, 0.0065, 0.0061, 0.0057, 0.0049, 0.0049, 0.0049], \"textposition\": \"outside\", \"x\": [0.2186804163725376, 0.12256321391791343, 0.10520575884997208, 0.040739981131414686, 0.039126072637421405, 0.035516252177254494, 0.03479271280010174, 0.03438143786132421, 0.030791056849400755, 0.027518300990346682, 0.024637564038360208, 0.024289312849844567, 0.02277970686822879, 0.022466008355655966, 0.02108312302786356, 0.020026346745959673, 0.018547808599347404, 0.01715834638070484, 0.015307742472169789, 0.0122271928058032, 0.011802825150433075, 0.011651334534549786, 0.011645852759136124, 0.010129857994792093, 0.009676529230626752, 0.008905083194071755, 0.007948746469220435, 0.0073918636627115135, 0.006489255680270968, 0.0060932986379718624, 0.005720390718029604, 0.004918371162594959, 0.004909919681960952, 0.004878315392005094], \"y\": [\"5\", \"1\", \"0\", \"7\", \"25\", \"23\", \"8\", \"6\", \"16\", \"4\", \"17\", \"19\", \"18\", \"20\", \"33\", \"14\", \"10\", \"11\", \"12\", \"2\", \"3\", \"31\", \"9\", \"27\", \"15\", \"26\", \"32\", \"22\", \"30\", \"21\", \"24\", \"29\", \"28\", \"13\"], \"type\": \"bar\", \"uid\": \"1e1dbd97-d435-45c6-ae67-4071abaf9cb9\"}], {\"autosize\": false, \"height\": 1000, \"width\": 1000, \"xaxis\": {\"tickfont\": {\"color\": \"black\", \"size\": 12}, \"title\": \"Feature Importances\"}, \"yaxis\": {\"automargin\": true}}, {\"showLink\": true, \"linkText\": \"Export to plot.ly\", \"plotlyServerURL\": \"https://plot.ly\"})});</script>"
      ],
      "text/vnd.plotly.v1+html": [
       "<div id=\"efbd78e6-6b2d-4a00-b57d-01b138e73c4f\" style=\"height: 1000px; width: 1000px;\" class=\"plotly-graph-div\"></div><script type=\"text/javascript\">require([\"plotly\"], function(Plotly) { window.PLOTLYENV=window.PLOTLYENV || {};window.PLOTLYENV.BASE_URL=\"https://plot.ly\";Plotly.newPlot(\"efbd78e6-6b2d-4a00-b57d-01b138e73c4f\", [{\"marker\": {\"color\": \"rgb(158,202,225)\", \"line\": {\"color\": \"rgb(8,48,107)\", \"width\": 1.5}}, \"opacity\": 0.6, \"orientation\": \"h\", \"text\": [0.2187, 0.1226, 0.1052, 0.0407, 0.0391, 0.0355, 0.0348, 0.0344, 0.0308, 0.0275, 0.0246, 0.0243, 0.0228, 0.0225, 0.0211, 0.02, 0.0185, 0.0172, 0.0153, 0.0122, 0.0118, 0.0117, 0.0116, 0.0101, 0.0097, 0.0089, 0.0079, 0.0074, 0.0065, 0.0061, 0.0057, 0.0049, 0.0049, 0.0049], \"textposition\": \"outside\", \"x\": [0.2186804163725376, 0.12256321391791343, 0.10520575884997208, 0.040739981131414686, 0.039126072637421405, 0.035516252177254494, 0.03479271280010174, 0.03438143786132421, 0.030791056849400755, 0.027518300990346682, 0.024637564038360208, 0.024289312849844567, 0.02277970686822879, 0.022466008355655966, 0.02108312302786356, 0.020026346745959673, 0.018547808599347404, 0.01715834638070484, 0.015307742472169789, 0.0122271928058032, 0.011802825150433075, 0.011651334534549786, 0.011645852759136124, 0.010129857994792093, 0.009676529230626752, 0.008905083194071755, 0.007948746469220435, 0.0073918636627115135, 0.006489255680270968, 0.0060932986379718624, 0.005720390718029604, 0.004918371162594959, 0.004909919681960952, 0.004878315392005094], \"y\": [\"5\", \"1\", \"0\", \"7\", \"25\", \"23\", \"8\", \"6\", \"16\", \"4\", \"17\", \"19\", \"18\", \"20\", \"33\", \"14\", \"10\", \"11\", \"12\", \"2\", \"3\", \"31\", \"9\", \"27\", \"15\", \"26\", \"32\", \"22\", \"30\", \"21\", \"24\", \"29\", \"28\", \"13\"], \"type\": \"bar\", \"uid\": \"1e1dbd97-d435-45c6-ae67-4071abaf9cb9\"}], {\"autosize\": false, \"height\": 1000, \"width\": 1000, \"xaxis\": {\"tickfont\": {\"color\": \"black\", \"size\": 12}, \"title\": \"Feature Importances\"}, \"yaxis\": {\"automargin\": true}}, {\"showLink\": true, \"linkText\": \"Export to plot.ly\", \"plotlyServerURL\": \"https://plot.ly\"})});</script>"
      ]
     },
     "metadata": {},
     "output_type": "display_data"
    },
    {
     "name": "stdout",
     "output_type": "stream",
     "text": [
      "\n",
      "\n",
      "\u001b[1mAdaoost Classifier\u001b[0m\n",
      "Accuracy of the model for training data is: 0.892214589467\n",
      "Confusion Matrix for training data is:\n"
     ]
    },
    {
     "data": {
      "text/plain": [
       "Predicted  False  True  __all__\n",
       "Actual                         \n",
       "False      28743  3110    31853\n",
       "True         844  3987     4831\n",
       "__all__    29587  7097    36684"
      ]
     },
     "metadata": {},
     "output_type": "display_data"
    },
    {
     "name": "stdout",
     "output_type": "stream",
     "text": [
      "Accuracy of the model for test data is: 0.894461404274\n",
      "Confusion Matrix for test data is:\n"
     ]
    },
    {
     "data": {
      "text/plain": [
       "Predicted  False  True  __all__\n",
       "Actual                         \n",
       "False       7230   752     7982\n",
       "True         216   974     1190\n",
       "__all__     7446  1726     9172"
      ]
     },
     "metadata": {},
     "output_type": "display_data"
    },
    {
     "data": {
      "application/vnd.plotly.v1+json": {
       "config": {
        "linkText": "Export to plot.ly",
        "plotlyServerURL": "https://plot.ly",
        "showLink": true
       },
       "data": [
        {
         "marker": {
          "color": "rgb(158,202,225)",
          "line": {
           "color": "rgb(8,48,107)",
           "width": 1.5
          }
         },
         "opacity": 0.6,
         "orientation": "h",
         "text": [
          0.06,
          0.06,
          0.06,
          0.06,
          0.06,
          0.06,
          0.06,
          0.04,
          0.04,
          0.04,
          0.04,
          0.04,
          0.04,
          0.04,
          0.04,
          0.04,
          0.02,
          0.02,
          0.02,
          0.02,
          0.02,
          0.02,
          0.02,
          0.02,
          0.02,
          0.02,
          0.02,
          0,
          0,
          0,
          0,
          0,
          0,
          0
         ],
         "textposition": "outside",
         "type": "bar",
         "uid": "a976b888-6a4c-45ea-887e-63842b9d464e",
         "x": [
          0.06,
          0.06,
          0.06,
          0.06,
          0.06,
          0.06,
          0.06,
          0.04,
          0.04,
          0.04,
          0.04,
          0.04,
          0.04,
          0.04,
          0.04,
          0.04,
          0.02,
          0.02,
          0.02,
          0.02,
          0.02,
          0.02,
          0.02,
          0.02,
          0.02,
          0.02,
          0.02,
          0,
          0,
          0,
          0,
          0,
          0,
          0
         ],
         "y": [
          "0",
          "12",
          "31",
          "30",
          "26",
          "1",
          "33",
          "7",
          "6",
          "2",
          "24",
          "15",
          "20",
          "17",
          "10",
          "11",
          "32",
          "29",
          "28",
          "27",
          "4",
          "25",
          "13",
          "8",
          "19",
          "18",
          "23",
          "14",
          "22",
          "21",
          "5",
          "3",
          "9",
          "16"
         ]
        }
       ],
       "layout": {
        "autosize": false,
        "height": 1000,
        "width": 1000,
        "xaxis": {
         "tickfont": {
          "color": "black",
          "size": 12
         },
         "title": "Feature Importances"
        },
        "yaxis": {
         "automargin": true
        }
       }
      },
      "text/html": [
       "<div id=\"03db2eab-2cc1-4cab-8377-d0a87466ce48\" style=\"height: 1000px; width: 1000px;\" class=\"plotly-graph-div\"></div><script type=\"text/javascript\">require([\"plotly\"], function(Plotly) { window.PLOTLYENV=window.PLOTLYENV || {};window.PLOTLYENV.BASE_URL=\"https://plot.ly\";Plotly.newPlot(\"03db2eab-2cc1-4cab-8377-d0a87466ce48\", [{\"marker\": {\"color\": \"rgb(158,202,225)\", \"line\": {\"color\": \"rgb(8,48,107)\", \"width\": 1.5}}, \"opacity\": 0.6, \"orientation\": \"h\", \"text\": [0.06, 0.06, 0.06, 0.06, 0.06, 0.06, 0.06, 0.04, 0.04, 0.04, 0.04, 0.04, 0.04, 0.04, 0.04, 0.04, 0.02, 0.02, 0.02, 0.02, 0.02, 0.02, 0.02, 0.02, 0.02, 0.02, 0.02, 0.0, 0.0, 0.0, 0.0, 0.0, 0.0, 0.0], \"textposition\": \"outside\", \"x\": [0.06, 0.06, 0.06, 0.06, 0.06, 0.06, 0.06, 0.04, 0.04, 0.04, 0.04, 0.04, 0.04, 0.04, 0.04, 0.04, 0.02, 0.02, 0.02, 0.02, 0.02, 0.02, 0.02, 0.02, 0.02, 0.02, 0.02, 0.0, 0.0, 0.0, 0.0, 0.0, 0.0, 0.0], \"y\": [\"0\", \"12\", \"31\", \"30\", \"26\", \"1\", \"33\", \"7\", \"6\", \"2\", \"24\", \"15\", \"20\", \"17\", \"10\", \"11\", \"32\", \"29\", \"28\", \"27\", \"4\", \"25\", \"13\", \"8\", \"19\", \"18\", \"23\", \"14\", \"22\", \"21\", \"5\", \"3\", \"9\", \"16\"], \"type\": \"bar\", \"uid\": \"a976b888-6a4c-45ea-887e-63842b9d464e\"}], {\"autosize\": false, \"height\": 1000, \"width\": 1000, \"xaxis\": {\"tickfont\": {\"color\": \"black\", \"size\": 12}, \"title\": \"Feature Importances\"}, \"yaxis\": {\"automargin\": true}}, {\"showLink\": true, \"linkText\": \"Export to plot.ly\", \"plotlyServerURL\": \"https://plot.ly\"})});</script>"
      ],
      "text/vnd.plotly.v1+html": [
       "<div id=\"03db2eab-2cc1-4cab-8377-d0a87466ce48\" style=\"height: 1000px; width: 1000px;\" class=\"plotly-graph-div\"></div><script type=\"text/javascript\">require([\"plotly\"], function(Plotly) { window.PLOTLYENV=window.PLOTLYENV || {};window.PLOTLYENV.BASE_URL=\"https://plot.ly\";Plotly.newPlot(\"03db2eab-2cc1-4cab-8377-d0a87466ce48\", [{\"marker\": {\"color\": \"rgb(158,202,225)\", \"line\": {\"color\": \"rgb(8,48,107)\", \"width\": 1.5}}, \"opacity\": 0.6, \"orientation\": \"h\", \"text\": [0.06, 0.06, 0.06, 0.06, 0.06, 0.06, 0.06, 0.04, 0.04, 0.04, 0.04, 0.04, 0.04, 0.04, 0.04, 0.04, 0.02, 0.02, 0.02, 0.02, 0.02, 0.02, 0.02, 0.02, 0.02, 0.02, 0.02, 0.0, 0.0, 0.0, 0.0, 0.0, 0.0, 0.0], \"textposition\": \"outside\", \"x\": [0.06, 0.06, 0.06, 0.06, 0.06, 0.06, 0.06, 0.04, 0.04, 0.04, 0.04, 0.04, 0.04, 0.04, 0.04, 0.04, 0.02, 0.02, 0.02, 0.02, 0.02, 0.02, 0.02, 0.02, 0.02, 0.02, 0.02, 0.0, 0.0, 0.0, 0.0, 0.0, 0.0, 0.0], \"y\": [\"0\", \"12\", \"31\", \"30\", \"26\", \"1\", \"33\", \"7\", \"6\", \"2\", \"24\", \"15\", \"20\", \"17\", \"10\", \"11\", \"32\", \"29\", \"28\", \"27\", \"4\", \"25\", \"13\", \"8\", \"19\", \"18\", \"23\", \"14\", \"22\", \"21\", \"5\", \"3\", \"9\", \"16\"], \"type\": \"bar\", \"uid\": \"a976b888-6a4c-45ea-887e-63842b9d464e\"}], {\"autosize\": false, \"height\": 1000, \"width\": 1000, \"xaxis\": {\"tickfont\": {\"color\": \"black\", \"size\": 12}, \"title\": \"Feature Importances\"}, \"yaxis\": {\"automargin\": true}}, {\"showLink\": true, \"linkText\": \"Export to plot.ly\", \"plotlyServerURL\": \"https://plot.ly\"})});</script>"
      ]
     },
     "metadata": {},
     "output_type": "display_data"
    },
    {
     "name": "stdout",
     "output_type": "stream",
     "text": [
      "\n",
      "\n",
      "\u001b[1mGradientBoosting Classifier\u001b[0m\n",
      "Accuracy of the model for training data is: 0.89842983317\n",
      "Confusion Matrix for training data is:\n"
     ]
    },
    {
     "data": {
      "text/plain": [
       "Predicted  False  True  __all__\n",
       "Actual                         \n",
       "False      28846  3007    31853\n",
       "True         719  4112     4831\n",
       "__all__    29565  7119    36684"
      ]
     },
     "metadata": {},
     "output_type": "display_data"
    },
    {
     "name": "stdout",
     "output_type": "stream",
     "text": [
      "Accuracy of the model for test data is: 0.898386393371\n",
      "Confusion Matrix for test data is:\n"
     ]
    },
    {
     "data": {
      "text/plain": [
       "Predicted  False  True  __all__\n",
       "Actual                         \n",
       "False       7245   737     7982\n",
       "True         195   995     1190\n",
       "__all__     7440  1732     9172"
      ]
     },
     "metadata": {},
     "output_type": "display_data"
    },
    {
     "data": {
      "application/vnd.plotly.v1+json": {
       "config": {
        "linkText": "Export to plot.ly",
        "plotlyServerURL": "https://plot.ly",
        "showLink": true
       },
       "data": [
        {
         "marker": {
          "color": "rgb(158,202,225)",
          "line": {
           "color": "rgb(8,48,107)",
           "width": 1.5
          }
         },
         "opacity": 0.6,
         "orientation": "h",
         "text": [
          0.5358,
          0.2388,
          0.0595,
          0.0468,
          0.0153,
          0.0118,
          0.0107,
          0.0105,
          0.0103,
          0.0071,
          0.007,
          0.0067,
          0.0048,
          0.0043,
          0.0039,
          0.0035,
          0.0029,
          0.0028,
          0.0026,
          0.0025,
          0.002,
          0.0019,
          0.0017,
          0.0012,
          0.0011,
          0.001,
          0.0009,
          0.0007,
          0.0005,
          0.0005,
          0.0003,
          0.0002,
          0.0002,
          0.0001
         ],
         "textposition": "outside",
         "type": "bar",
         "uid": "d3cc07ef-6a86-4e71-8d04-479996fb8e5c",
         "x": [
          0.5357945197953481,
          0.23883212278311394,
          0.059488518286153404,
          0.046815079314878105,
          0.015304147391796225,
          0.011820754604227802,
          0.010678400759854356,
          0.010456355925340352,
          0.010252151307113985,
          0.007078378195401324,
          0.006997863951604852,
          0.00674151826051361,
          0.004844630448955225,
          0.004266050536833914,
          0.003878466082011343,
          0.0034945878781848148,
          0.002918209341965139,
          0.0027820324157361077,
          0.0025539768236705397,
          0.0025287645917139046,
          0.001990776036201201,
          0.0018961109488003706,
          0.0017445220855949858,
          0.0012103792364650454,
          0.0011348314160606464,
          0.000987487650654333,
          0.0009149851939117385,
          0.0007013891964680425,
          0.0005385066368534035,
          0.0004590578756794867,
          0.00034365674006546384,
          0.0002431269863985714,
          0.00020216353600213704,
          0.00010647776642759107
         ],
         "y": [
          "0",
          "17",
          "8",
          "7",
          "1",
          "20",
          "6",
          "9",
          "31",
          "27",
          "25",
          "4",
          "30",
          "11",
          "15",
          "26",
          "28",
          "22",
          "23",
          "33",
          "13",
          "18",
          "29",
          "24",
          "16",
          "21",
          "3",
          "10",
          "5",
          "32",
          "14",
          "2",
          "12",
          "19"
         ]
        }
       ],
       "layout": {
        "autosize": false,
        "height": 1000,
        "width": 1000,
        "xaxis": {
         "tickfont": {
          "color": "black",
          "size": 12
         },
         "title": "Feature Importances"
        },
        "yaxis": {
         "automargin": true
        }
       }
      },
      "text/html": [
       "<div id=\"b6b60186-fce6-46b2-b95b-229a35880111\" style=\"height: 1000px; width: 1000px;\" class=\"plotly-graph-div\"></div><script type=\"text/javascript\">require([\"plotly\"], function(Plotly) { window.PLOTLYENV=window.PLOTLYENV || {};window.PLOTLYENV.BASE_URL=\"https://plot.ly\";Plotly.newPlot(\"b6b60186-fce6-46b2-b95b-229a35880111\", [{\"marker\": {\"color\": \"rgb(158,202,225)\", \"line\": {\"color\": \"rgb(8,48,107)\", \"width\": 1.5}}, \"opacity\": 0.6, \"orientation\": \"h\", \"text\": [0.5358, 0.2388, 0.0595, 0.0468, 0.0153, 0.0118, 0.0107, 0.0105, 0.0103, 0.0071, 0.007, 0.0067, 0.0048, 0.0043, 0.0039, 0.0035, 0.0029, 0.0028, 0.0026, 0.0025, 0.002, 0.0019, 0.0017, 0.0012, 0.0011, 0.001, 0.0009, 0.0007, 0.0005, 0.0005, 0.0003, 0.0002, 0.0002, 0.0001], \"textposition\": \"outside\", \"x\": [0.5357945197953481, 0.23883212278311394, 0.059488518286153404, 0.046815079314878105, 0.015304147391796225, 0.011820754604227802, 0.010678400759854356, 0.010456355925340352, 0.010252151307113985, 0.007078378195401324, 0.006997863951604852, 0.00674151826051361, 0.004844630448955225, 0.004266050536833914, 0.003878466082011343, 0.0034945878781848148, 0.002918209341965139, 0.0027820324157361077, 0.0025539768236705397, 0.0025287645917139046, 0.001990776036201201, 0.0018961109488003706, 0.0017445220855949858, 0.0012103792364650454, 0.0011348314160606464, 0.000987487650654333, 0.0009149851939117385, 0.0007013891964680425, 0.0005385066368534035, 0.0004590578756794867, 0.00034365674006546384, 0.0002431269863985714, 0.00020216353600213704, 0.00010647776642759107], \"y\": [\"0\", \"17\", \"8\", \"7\", \"1\", \"20\", \"6\", \"9\", \"31\", \"27\", \"25\", \"4\", \"30\", \"11\", \"15\", \"26\", \"28\", \"22\", \"23\", \"33\", \"13\", \"18\", \"29\", \"24\", \"16\", \"21\", \"3\", \"10\", \"5\", \"32\", \"14\", \"2\", \"12\", \"19\"], \"type\": \"bar\", \"uid\": \"d3cc07ef-6a86-4e71-8d04-479996fb8e5c\"}], {\"autosize\": false, \"height\": 1000, \"width\": 1000, \"xaxis\": {\"tickfont\": {\"color\": \"black\", \"size\": 12}, \"title\": \"Feature Importances\"}, \"yaxis\": {\"automargin\": true}}, {\"showLink\": true, \"linkText\": \"Export to plot.ly\", \"plotlyServerURL\": \"https://plot.ly\"})});</script>"
      ],
      "text/vnd.plotly.v1+html": [
       "<div id=\"b6b60186-fce6-46b2-b95b-229a35880111\" style=\"height: 1000px; width: 1000px;\" class=\"plotly-graph-div\"></div><script type=\"text/javascript\">require([\"plotly\"], function(Plotly) { window.PLOTLYENV=window.PLOTLYENV || {};window.PLOTLYENV.BASE_URL=\"https://plot.ly\";Plotly.newPlot(\"b6b60186-fce6-46b2-b95b-229a35880111\", [{\"marker\": {\"color\": \"rgb(158,202,225)\", \"line\": {\"color\": \"rgb(8,48,107)\", \"width\": 1.5}}, \"opacity\": 0.6, \"orientation\": \"h\", \"text\": [0.5358, 0.2388, 0.0595, 0.0468, 0.0153, 0.0118, 0.0107, 0.0105, 0.0103, 0.0071, 0.007, 0.0067, 0.0048, 0.0043, 0.0039, 0.0035, 0.0029, 0.0028, 0.0026, 0.0025, 0.002, 0.0019, 0.0017, 0.0012, 0.0011, 0.001, 0.0009, 0.0007, 0.0005, 0.0005, 0.0003, 0.0002, 0.0002, 0.0001], \"textposition\": \"outside\", \"x\": [0.5357945197953481, 0.23883212278311394, 0.059488518286153404, 0.046815079314878105, 0.015304147391796225, 0.011820754604227802, 0.010678400759854356, 0.010456355925340352, 0.010252151307113985, 0.007078378195401324, 0.006997863951604852, 0.00674151826051361, 0.004844630448955225, 0.004266050536833914, 0.003878466082011343, 0.0034945878781848148, 0.002918209341965139, 0.0027820324157361077, 0.0025539768236705397, 0.0025287645917139046, 0.001990776036201201, 0.0018961109488003706, 0.0017445220855949858, 0.0012103792364650454, 0.0011348314160606464, 0.000987487650654333, 0.0009149851939117385, 0.0007013891964680425, 0.0005385066368534035, 0.0004590578756794867, 0.00034365674006546384, 0.0002431269863985714, 0.00020216353600213704, 0.00010647776642759107], \"y\": [\"0\", \"17\", \"8\", \"7\", \"1\", \"20\", \"6\", \"9\", \"31\", \"27\", \"25\", \"4\", \"30\", \"11\", \"15\", \"26\", \"28\", \"22\", \"23\", \"33\", \"13\", \"18\", \"29\", \"24\", \"16\", \"21\", \"3\", \"10\", \"5\", \"32\", \"14\", \"2\", \"12\", \"19\"], \"type\": \"bar\", \"uid\": \"d3cc07ef-6a86-4e71-8d04-479996fb8e5c\"}], {\"autosize\": false, \"height\": 1000, \"width\": 1000, \"xaxis\": {\"tickfont\": {\"color\": \"black\", \"size\": 12}, \"title\": \"Feature Importances\"}, \"yaxis\": {\"automargin\": true}}, {\"showLink\": true, \"linkText\": \"Export to plot.ly\", \"plotlyServerURL\": \"https://plot.ly\"})});</script>"
      ]
     },
     "metadata": {},
     "output_type": "display_data"
    },
    {
     "name": "stdout",
     "output_type": "stream",
     "text": [
      "\n",
      "\n",
      "\u001b[1mExtraTree Classifier\u001b[0m\n",
      "Accuracy of the model for training data is: 0.907234761749\n",
      "Confusion Matrix for training data is:\n"
     ]
    },
    {
     "data": {
      "text/plain": [
       "Predicted  False  True  __all__\n",
       "Actual                         \n",
       "False      28877  2976    31853\n",
       "True         427  4404     4831\n",
       "__all__    29304  7380    36684"
      ]
     },
     "metadata": {},
     "output_type": "display_data"
    },
    {
     "name": "stdout",
     "output_type": "stream",
     "text": [
      "Accuracy of the model for test data is: 0.897514173572\n",
      "Confusion Matrix for test data is:\n"
     ]
    },
    {
     "data": {
      "text/plain": [
       "Predicted  False  True  __all__\n",
       "Actual                         \n",
       "False       7198   784     7982\n",
       "True         156  1034     1190\n",
       "__all__     7354  1818     9172"
      ]
     },
     "metadata": {},
     "output_type": "display_data"
    },
    {
     "data": {
      "application/vnd.plotly.v1+json": {
       "config": {
        "linkText": "Export to plot.ly",
        "plotlyServerURL": "https://plot.ly",
        "showLink": true
       },
       "data": [
        {
         "marker": {
          "color": "rgb(158,202,225)",
          "line": {
           "color": "rgb(8,48,107)",
           "width": 1.5
          }
         },
         "opacity": 0.6,
         "orientation": "h",
         "text": [
          0.1397,
          0.0898,
          0.0742,
          0.0703,
          0.0597,
          0.0514,
          0.0419,
          0.038,
          0.0363,
          0.0277,
          0.0241,
          0.023,
          0.0227,
          0.0217,
          0.0214,
          0.0196,
          0.0181,
          0.0179,
          0.0171,
          0.0166,
          0.0161,
          0.0154,
          0.0151,
          0.015,
          0.0131,
          0.0127,
          0.0124,
          0.012,
          0.0117,
          0.0101,
          0.01,
          0.0091,
          0.0091,
          0.0072
         ],
         "textposition": "outside",
         "type": "bar",
         "uid": "8d337225-08de-465b-9254-58a9de53aa73",
         "x": [
          0.13965762068207607,
          0.08975458797694565,
          0.07420952697110979,
          0.07025059825684768,
          0.059685271533547316,
          0.05139675194081198,
          0.04188339477700155,
          0.038039128752632996,
          0.03629515927956571,
          0.027716038580782643,
          0.02407746518383859,
          0.023044559584407515,
          0.0226924593772269,
          0.021720956101266058,
          0.021432055643920533,
          0.019573055145059106,
          0.018066609867572785,
          0.017932417481210786,
          0.017069569320245052,
          0.016629263179258252,
          0.01605707166472955,
          0.015426711717527916,
          0.015108761284828492,
          0.014963037675467902,
          0.013054530162724514,
          0.012706075836996992,
          0.012368403785276007,
          0.012043580815026845,
          0.011673390783385479,
          0.010122093935457382,
          0.009951211820666918,
          0.009133237999801851,
          0.009066993855875775,
          0.007198409026907377
         ],
         "y": [
          "1",
          "5",
          "0",
          "7",
          "26",
          "17",
          "20",
          "33",
          "14",
          "16",
          "30",
          "25",
          "21",
          "19",
          "22",
          "15",
          "10",
          "9",
          "12",
          "3",
          "6",
          "2",
          "32",
          "31",
          "23",
          "11",
          "27",
          "24",
          "8",
          "4",
          "29",
          "18",
          "13",
          "28"
         ]
        }
       ],
       "layout": {
        "autosize": false,
        "height": 1000,
        "width": 1000,
        "xaxis": {
         "tickfont": {
          "color": "black",
          "size": 12
         },
         "title": "Feature Importances"
        },
        "yaxis": {
         "automargin": true
        }
       }
      },
      "text/html": [
       "<div id=\"c59f3b66-cd28-4bdd-94b0-f735e2e07819\" style=\"height: 1000px; width: 1000px;\" class=\"plotly-graph-div\"></div><script type=\"text/javascript\">require([\"plotly\"], function(Plotly) { window.PLOTLYENV=window.PLOTLYENV || {};window.PLOTLYENV.BASE_URL=\"https://plot.ly\";Plotly.newPlot(\"c59f3b66-cd28-4bdd-94b0-f735e2e07819\", [{\"marker\": {\"color\": \"rgb(158,202,225)\", \"line\": {\"color\": \"rgb(8,48,107)\", \"width\": 1.5}}, \"opacity\": 0.6, \"orientation\": \"h\", \"text\": [0.1397, 0.0898, 0.0742, 0.0703, 0.0597, 0.0514, 0.0419, 0.038, 0.0363, 0.0277, 0.0241, 0.023, 0.0227, 0.0217, 0.0214, 0.0196, 0.0181, 0.0179, 0.0171, 0.0166, 0.0161, 0.0154, 0.0151, 0.015, 0.0131, 0.0127, 0.0124, 0.012, 0.0117, 0.0101, 0.01, 0.0091, 0.0091, 0.0072], \"textposition\": \"outside\", \"x\": [0.13965762068207607, 0.08975458797694565, 0.07420952697110979, 0.07025059825684768, 0.059685271533547316, 0.05139675194081198, 0.04188339477700155, 0.038039128752632996, 0.03629515927956571, 0.027716038580782643, 0.02407746518383859, 0.023044559584407515, 0.0226924593772269, 0.021720956101266058, 0.021432055643920533, 0.019573055145059106, 0.018066609867572785, 0.017932417481210786, 0.017069569320245052, 0.016629263179258252, 0.01605707166472955, 0.015426711717527916, 0.015108761284828492, 0.014963037675467902, 0.013054530162724514, 0.012706075836996992, 0.012368403785276007, 0.012043580815026845, 0.011673390783385479, 0.010122093935457382, 0.009951211820666918, 0.009133237999801851, 0.009066993855875775, 0.007198409026907377], \"y\": [\"1\", \"5\", \"0\", \"7\", \"26\", \"17\", \"20\", \"33\", \"14\", \"16\", \"30\", \"25\", \"21\", \"19\", \"22\", \"15\", \"10\", \"9\", \"12\", \"3\", \"6\", \"2\", \"32\", \"31\", \"23\", \"11\", \"27\", \"24\", \"8\", \"4\", \"29\", \"18\", \"13\", \"28\"], \"type\": \"bar\", \"uid\": \"8d337225-08de-465b-9254-58a9de53aa73\"}], {\"autosize\": false, \"height\": 1000, \"width\": 1000, \"xaxis\": {\"tickfont\": {\"color\": \"black\", \"size\": 12}, \"title\": \"Feature Importances\"}, \"yaxis\": {\"automargin\": true}}, {\"showLink\": true, \"linkText\": \"Export to plot.ly\", \"plotlyServerURL\": \"https://plot.ly\"})});</script>"
      ],
      "text/vnd.plotly.v1+html": [
       "<div id=\"c59f3b66-cd28-4bdd-94b0-f735e2e07819\" style=\"height: 1000px; width: 1000px;\" class=\"plotly-graph-div\"></div><script type=\"text/javascript\">require([\"plotly\"], function(Plotly) { window.PLOTLYENV=window.PLOTLYENV || {};window.PLOTLYENV.BASE_URL=\"https://plot.ly\";Plotly.newPlot(\"c59f3b66-cd28-4bdd-94b0-f735e2e07819\", [{\"marker\": {\"color\": \"rgb(158,202,225)\", \"line\": {\"color\": \"rgb(8,48,107)\", \"width\": 1.5}}, \"opacity\": 0.6, \"orientation\": \"h\", \"text\": [0.1397, 0.0898, 0.0742, 0.0703, 0.0597, 0.0514, 0.0419, 0.038, 0.0363, 0.0277, 0.0241, 0.023, 0.0227, 0.0217, 0.0214, 0.0196, 0.0181, 0.0179, 0.0171, 0.0166, 0.0161, 0.0154, 0.0151, 0.015, 0.0131, 0.0127, 0.0124, 0.012, 0.0117, 0.0101, 0.01, 0.0091, 0.0091, 0.0072], \"textposition\": \"outside\", \"x\": [0.13965762068207607, 0.08975458797694565, 0.07420952697110979, 0.07025059825684768, 0.059685271533547316, 0.05139675194081198, 0.04188339477700155, 0.038039128752632996, 0.03629515927956571, 0.027716038580782643, 0.02407746518383859, 0.023044559584407515, 0.0226924593772269, 0.021720956101266058, 0.021432055643920533, 0.019573055145059106, 0.018066609867572785, 0.017932417481210786, 0.017069569320245052, 0.016629263179258252, 0.01605707166472955, 0.015426711717527916, 0.015108761284828492, 0.014963037675467902, 0.013054530162724514, 0.012706075836996992, 0.012368403785276007, 0.012043580815026845, 0.011673390783385479, 0.010122093935457382, 0.009951211820666918, 0.009133237999801851, 0.009066993855875775, 0.007198409026907377], \"y\": [\"1\", \"5\", \"0\", \"7\", \"26\", \"17\", \"20\", \"33\", \"14\", \"16\", \"30\", \"25\", \"21\", \"19\", \"22\", \"15\", \"10\", \"9\", \"12\", \"3\", \"6\", \"2\", \"32\", \"31\", \"23\", \"11\", \"27\", \"24\", \"8\", \"4\", \"29\", \"18\", \"13\", \"28\"], \"type\": \"bar\", \"uid\": \"8d337225-08de-465b-9254-58a9de53aa73\"}], {\"autosize\": false, \"height\": 1000, \"width\": 1000, \"xaxis\": {\"tickfont\": {\"color\": \"black\", \"size\": 12}, \"title\": \"Feature Importances\"}, \"yaxis\": {\"automargin\": true}}, {\"showLink\": true, \"linkText\": \"Export to plot.ly\", \"plotlyServerURL\": \"https://plot.ly\"})});</script>"
      ]
     },
     "metadata": {},
     "output_type": "display_data"
    },
    {
     "name": "stdout",
     "output_type": "stream",
     "text": [
      "\n",
      "\n",
      "\u001b[1mBagging Classifier\u001b[0m\n",
      "Accuracy of the model for training data is: 0.90557191146\n",
      "Confusion Matrix for training data is:\n"
     ]
    },
    {
     "data": {
      "text/plain": [
       "Predicted  False  True  __all__\n",
       "Actual                         \n",
       "False      28855  2998    31853\n",
       "True         466  4365     4831\n",
       "__all__    29321  7363    36684"
      ]
     },
     "metadata": {},
     "output_type": "display_data"
    },
    {
     "name": "stdout",
     "output_type": "stream",
     "text": [
      "Accuracy of the model for test data is: 0.898386393371\n",
      "Confusion Matrix for test data is:\n"
     ]
    },
    {
     "data": {
      "text/plain": [
       "Predicted  False  True  __all__\n",
       "Actual                         \n",
       "False       7204   778     7982\n",
       "True         154  1036     1190\n",
       "__all__     7358  1814     9172"
      ]
     },
     "metadata": {},
     "output_type": "display_data"
    },
    {
     "name": "stdout",
     "output_type": "stream",
     "text": [
      "\n",
      "\n",
      "\u001b[1mNeural Network-1\u001b[0m\n",
      "The accuracy of the model on training data is: 0.891478573772\n"
     ]
    },
    {
     "data": {
      "text/plain": [
       "Predicted  False  True  __all__\n",
       "Actual                         \n",
       "False      29219  2634    31853\n",
       "True        1347  3484     4831\n",
       "__all__    30566  6118    36684"
      ]
     },
     "metadata": {},
     "output_type": "display_data"
    },
    {
     "name": "stdout",
     "output_type": "stream",
     "text": [
      "The accuracy of the model on test data is: 0.891844744876\n"
     ]
    },
    {
     "data": {
      "text/plain": [
       "Predicted  False  True  __all__\n",
       "Actual                         \n",
       "False       7328   654     7982\n",
       "True         338   852     1190\n",
       "__all__     7666  1506     9172"
      ]
     },
     "metadata": {},
     "output_type": "display_data"
    },
    {
     "name": "stdout",
     "output_type": "stream",
     "text": [
      "\n",
      "\n"
     ]
    }
   ],
   "source": [
    "feat_imp=[None]*4\n",
    "j=0\n",
    "for i in range(0,8):\n",
    "    if i>=2 and i<=5:\n",
    "        model,cm_train,cm_test,acc_train,acc_test,roc_auc,feat_imp[j],mcc=f[i](X_train,Y_train,X_test,Y_test,np.arange(0,34).astype(str))\n",
    "        j=j+1\n",
    "    else:\n",
    "        model,cm_train,cm_test,acc_train,acc_test,roc_auc,mcc=f[i](X_train,Y_train,X_test,Y_test)\n",
    "    table_80_70_train.loc[i]=   ([acc_train,cm_train.TP,cm_train.TN,cm_train.FP,cm_train.FN,cm_train.FPR,cm_train.FNR])\n",
    "    table_80_70_test.loc[i] =   ([acc_test ,cm_test.TP, cm_test.TN, cm_test.FP, cm_test.FN, cm_test.FPR, cm_test.FNR,roc_auc,mcc])\n",
    "    print(\"\\n\")"
   ]
  },
  {
   "cell_type": "markdown",
   "metadata": {},
   "source": [
    "### <a id='5.A' style=\"text-decoration : none; color : #000000;\"> A. Results</a>"
   ]
  },
  {
   "cell_type": "code",
   "execution_count": 50,
   "metadata": {},
   "outputs": [
    {
     "data": {
      "application/vnd.plotly.v1+json": {
       "config": {
        "linkText": "Export to plot.ly",
        "plotlyServerURL": "https://plot.ly",
        "showLink": true
       },
       "data": [
        {
         "mode": "lines",
         "name": "KNN_model",
         "type": "scatter",
         "uid": "3713ed57-a72e-4e26-8722-c0d03f405181",
         "x": [
          "accuracy",
          "FPR",
          "FNR",
          "auc"
         ],
         "y": [
          0.8931530745747929,
          0.023803558005512402,
          0.6638655462184874,
          0.6561654478880002
         ]
        },
        {
         "mode": "lines+markers",
         "name": "Logistic Regression",
         "type": "scatter",
         "uid": "0cbf3421-8074-4df6-893d-8b9aeca89936",
         "x": [
          "accuracy",
          "FPR",
          "FNR",
          "auc"
         ],
         "y": [
          0.8751635412123855,
          0.08281132548233526,
          0.40672268907563025,
          0.7552329927210173
         ]
        },
        {
         "marker": {
          "symbol": "x"
         },
         "mode": "lines+markers",
         "name": "Random Forest",
         "type": "scatter",
         "uid": "db49a7bc-fefe-4b96-a080-e7fa09260572",
         "x": [
          "accuracy",
          "FPR",
          "FNR",
          "auc"
         ],
         "y": [
          0.8991495856955953,
          0.09671761463292408,
          0.12857142857142856,
          0.8873554783978237
         ]
        },
        {
         "mode": "lines",
         "name": "Ada Boost",
         "type": "scatter",
         "uid": "c34361c6-5357-472a-923a-9b8ef0e227c8",
         "x": [
          "accuracy",
          "FPR",
          "FNR",
          "auc"
         ],
         "y": [
          0.894461404273877,
          0.0942119769481333,
          0.1815126050420168,
          0.8621377090049249
         ]
        },
        {
         "mode": "lines+markers",
         "name": "GradientBoosting",
         "type": "scatter",
         "uid": "af71c14f-8833-48fa-a749-0dc02c9748f1",
         "x": [
          "accuracy",
          "FPR",
          "FNR",
          "auc"
         ],
         "y": [
          0.8983863933711296,
          0.09233274868454022,
          0.1638655462184874,
          0.8719008525484863
         ]
        },
        {
         "marker": {
          "symbol": "x"
         },
         "mode": "lines+markers",
         "name": "ExtraTree Classifier",
         "type": "scatter",
         "uid": "f05a843c-5788-4ed8-8db5-349310925c15",
         "x": [
          "accuracy",
          "FPR",
          "FNR",
          "auc"
         ],
         "y": [
          0.8975141735717401,
          0.09822099724379854,
          0.13109243697478992,
          0.8853432828907059
         ]
        },
        {
         "marker": {
          "symbol": "x"
         },
         "mode": "lines+markers",
         "name": "Bagging",
         "type": "scatter",
         "uid": "a9c406d8-fb52-4a0d-9fe2-99600d709883",
         "x": [
          "accuracy",
          "FPR",
          "FNR",
          "auc"
         ],
         "y": [
          0.8983863933711296,
          0.09746930593836131,
          0.12941176470588237,
          0.8865594646778782
         ]
        },
        {
         "marker": {
          "symbol": "x"
         },
         "mode": "lines+markers",
         "name": "Neural Network",
         "type": "scatter",
         "uid": "dd424aee-0bbc-42de-82d5-133e8b9bb393",
         "x": [
          "accuracy",
          "FPR",
          "FNR",
          "auc"
         ],
         "y": [
          0.8918447448757086,
          0.08193435229265848,
          0.28403361344537814,
          0.8865594646778782
         ]
        }
       ],
       "layout": {
        "title": "Result comparision for Features selected in Section 1",
        "yaxis": {
         "dtick": 0.05,
         "tick0": 0
        }
       }
      },
      "text/html": [
       "<div id=\"ff410db2-961c-40fb-9e56-e69e0e82e479\" style=\"height: 525px; width: 100%;\" class=\"plotly-graph-div\"></div><script type=\"text/javascript\">require([\"plotly\"], function(Plotly) { window.PLOTLYENV=window.PLOTLYENV || {};window.PLOTLYENV.BASE_URL=\"https://plot.ly\";Plotly.newPlot(\"ff410db2-961c-40fb-9e56-e69e0e82e479\", [{\"mode\": \"lines\", \"name\": \"KNN_model\", \"x\": [\"accuracy\", \"FPR\", \"FNR\", \"auc\"], \"y\": [0.8931530745747929, 0.023803558005512402, 0.6638655462184874, 0.6561654478880002], \"type\": \"scatter\", \"uid\": \"3713ed57-a72e-4e26-8722-c0d03f405181\"}, {\"mode\": \"lines+markers\", \"name\": \"Logistic Regression\", \"x\": [\"accuracy\", \"FPR\", \"FNR\", \"auc\"], \"y\": [0.8751635412123855, 0.08281132548233526, 0.40672268907563025, 0.7552329927210173], \"type\": \"scatter\", \"uid\": \"0cbf3421-8074-4df6-893d-8b9aeca89936\"}, {\"marker\": {\"symbol\": \"x\"}, \"mode\": \"lines+markers\", \"name\": \"Random Forest\", \"x\": [\"accuracy\", \"FPR\", \"FNR\", \"auc\"], \"y\": [0.8991495856955953, 0.09671761463292408, 0.12857142857142856, 0.8873554783978237], \"type\": \"scatter\", \"uid\": \"db49a7bc-fefe-4b96-a080-e7fa09260572\"}, {\"mode\": \"lines\", \"name\": \"Ada Boost\", \"x\": [\"accuracy\", \"FPR\", \"FNR\", \"auc\"], \"y\": [0.894461404273877, 0.0942119769481333, 0.1815126050420168, 0.8621377090049249], \"type\": \"scatter\", \"uid\": \"c34361c6-5357-472a-923a-9b8ef0e227c8\"}, {\"mode\": \"lines+markers\", \"name\": \"GradientBoosting\", \"x\": [\"accuracy\", \"FPR\", \"FNR\", \"auc\"], \"y\": [0.8983863933711296, 0.09233274868454022, 0.1638655462184874, 0.8719008525484863], \"type\": \"scatter\", \"uid\": \"af71c14f-8833-48fa-a749-0dc02c9748f1\"}, {\"marker\": {\"symbol\": \"x\"}, \"mode\": \"lines+markers\", \"name\": \"ExtraTree Classifier\", \"x\": [\"accuracy\", \"FPR\", \"FNR\", \"auc\"], \"y\": [0.8975141735717401, 0.09822099724379854, 0.13109243697478992, 0.8853432828907059], \"type\": \"scatter\", \"uid\": \"f05a843c-5788-4ed8-8db5-349310925c15\"}, {\"marker\": {\"symbol\": \"x\"}, \"mode\": \"lines+markers\", \"name\": \"Bagging\", \"x\": [\"accuracy\", \"FPR\", \"FNR\", \"auc\"], \"y\": [0.8983863933711296, 0.09746930593836131, 0.12941176470588237, 0.8865594646778782], \"type\": \"scatter\", \"uid\": \"a9c406d8-fb52-4a0d-9fe2-99600d709883\"}, {\"marker\": {\"symbol\": \"x\"}, \"mode\": \"lines+markers\", \"name\": \"Neural Network\", \"x\": [\"accuracy\", \"FPR\", \"FNR\", \"auc\"], \"y\": [0.8918447448757086, 0.08193435229265848, 0.28403361344537814, 0.8865594646778782], \"type\": \"scatter\", \"uid\": \"dd424aee-0bbc-42de-82d5-133e8b9bb393\"}], {\"title\": \"Result comparision for Features selected in Section 1\", \"yaxis\": {\"dtick\": 0.05, \"tick0\": 0}}, {\"showLink\": true, \"linkText\": \"Export to plot.ly\", \"plotlyServerURL\": \"https://plot.ly\"})});</script><script type=\"text/javascript\">window.addEventListener(\"resize\", function(){window._Plotly.Plots.resize(document.getElementById(\"ff410db2-961c-40fb-9e56-e69e0e82e479\"));});</script>"
      ],
      "text/vnd.plotly.v1+html": [
       "<div id=\"ff410db2-961c-40fb-9e56-e69e0e82e479\" style=\"height: 525px; width: 100%;\" class=\"plotly-graph-div\"></div><script type=\"text/javascript\">require([\"plotly\"], function(Plotly) { window.PLOTLYENV=window.PLOTLYENV || {};window.PLOTLYENV.BASE_URL=\"https://plot.ly\";Plotly.newPlot(\"ff410db2-961c-40fb-9e56-e69e0e82e479\", [{\"mode\": \"lines\", \"name\": \"KNN_model\", \"x\": [\"accuracy\", \"FPR\", \"FNR\", \"auc\"], \"y\": [0.8931530745747929, 0.023803558005512402, 0.6638655462184874, 0.6561654478880002], \"type\": \"scatter\", \"uid\": \"3713ed57-a72e-4e26-8722-c0d03f405181\"}, {\"mode\": \"lines+markers\", \"name\": \"Logistic Regression\", \"x\": [\"accuracy\", \"FPR\", \"FNR\", \"auc\"], \"y\": [0.8751635412123855, 0.08281132548233526, 0.40672268907563025, 0.7552329927210173], \"type\": \"scatter\", \"uid\": \"0cbf3421-8074-4df6-893d-8b9aeca89936\"}, {\"marker\": {\"symbol\": \"x\"}, \"mode\": \"lines+markers\", \"name\": \"Random Forest\", \"x\": [\"accuracy\", \"FPR\", \"FNR\", \"auc\"], \"y\": [0.8991495856955953, 0.09671761463292408, 0.12857142857142856, 0.8873554783978237], \"type\": \"scatter\", \"uid\": \"db49a7bc-fefe-4b96-a080-e7fa09260572\"}, {\"mode\": \"lines\", \"name\": \"Ada Boost\", \"x\": [\"accuracy\", \"FPR\", \"FNR\", \"auc\"], \"y\": [0.894461404273877, 0.0942119769481333, 0.1815126050420168, 0.8621377090049249], \"type\": \"scatter\", \"uid\": \"c34361c6-5357-472a-923a-9b8ef0e227c8\"}, {\"mode\": \"lines+markers\", \"name\": \"GradientBoosting\", \"x\": [\"accuracy\", \"FPR\", \"FNR\", \"auc\"], \"y\": [0.8983863933711296, 0.09233274868454022, 0.1638655462184874, 0.8719008525484863], \"type\": \"scatter\", \"uid\": \"af71c14f-8833-48fa-a749-0dc02c9748f1\"}, {\"marker\": {\"symbol\": \"x\"}, \"mode\": \"lines+markers\", \"name\": \"ExtraTree Classifier\", \"x\": [\"accuracy\", \"FPR\", \"FNR\", \"auc\"], \"y\": [0.8975141735717401, 0.09822099724379854, 0.13109243697478992, 0.8853432828907059], \"type\": \"scatter\", \"uid\": \"f05a843c-5788-4ed8-8db5-349310925c15\"}, {\"marker\": {\"symbol\": \"x\"}, \"mode\": \"lines+markers\", \"name\": \"Bagging\", \"x\": [\"accuracy\", \"FPR\", \"FNR\", \"auc\"], \"y\": [0.8983863933711296, 0.09746930593836131, 0.12941176470588237, 0.8865594646778782], \"type\": \"scatter\", \"uid\": \"a9c406d8-fb52-4a0d-9fe2-99600d709883\"}, {\"marker\": {\"symbol\": \"x\"}, \"mode\": \"lines+markers\", \"name\": \"Neural Network\", \"x\": [\"accuracy\", \"FPR\", \"FNR\", \"auc\"], \"y\": [0.8918447448757086, 0.08193435229265848, 0.28403361344537814, 0.8865594646778782], \"type\": \"scatter\", \"uid\": \"dd424aee-0bbc-42de-82d5-133e8b9bb393\"}], {\"title\": \"Result comparision for Features selected in Section 1\", \"yaxis\": {\"dtick\": 0.05, \"tick0\": 0}}, {\"showLink\": true, \"linkText\": \"Export to plot.ly\", \"plotlyServerURL\": \"https://plot.ly\"})});</script><script type=\"text/javascript\">window.addEventListener(\"resize\", function(){window._Plotly.Plots.resize(document.getElementById(\"ff410db2-961c-40fb-9e56-e69e0e82e479\"));});</script>"
      ]
     },
     "metadata": {},
     "output_type": "display_data"
    }
   ],
   "source": [
    "trace0 = go.Scatter(x=table_80_70_test.iloc[0].index.values[[0,5,6,7]],\n",
    "                    y=table_80_70_test.iloc[0].values[[0,5,6,7]],\n",
    "                    mode = 'lines',\n",
    "                    name = 'KNN_model')\n",
    "\n",
    "trace1 = go.Scatter(x=table_80_70_test.iloc[1].index.values[[0,5,6,7]],\n",
    "                    y=table_80_70_test.iloc[1].values[[0,5,6,7]],\n",
    "                    mode = 'lines+markers',\n",
    "                    name = 'Logistic Regression')\n",
    "\n",
    "trace2 = go.Scatter(x=table_80_70_test.iloc[2].index.values[[0,5,6,7]],\n",
    "                    y=table_80_70_test.iloc[2].values[[0,5,6,7]],\n",
    "                    mode = 'lines+markers',marker=dict(symbol='x'),\n",
    "                    name = 'Random Forest')\n",
    "\n",
    "\n",
    "trace3 = go.Scatter(x=table_80_70_test.iloc[3].index.values[[0,5,6,7]],\n",
    "                    y=table_80_70_test.iloc[3].values[[0,5,6,7]],\n",
    "                    mode = 'lines',\n",
    "                    name = 'Ada Boost')\n",
    "\n",
    "trace4 = go.Scatter(x=table_80_70_test.iloc[4].index.values[[0,5,6,7]],\n",
    "                    y=table_80_70_test.iloc[4].values[[0,5,6,7]],\n",
    "                    mode = 'lines+markers',\n",
    "                    name = 'GradientBoosting')\n",
    "\n",
    "trace5 = go.Scatter(x=table_80_70_test.iloc[5].index.values[[0,5,6,7]],\n",
    "                    y=table_80_70_test.iloc[5].values[[0,5,6,7]],\n",
    "                    mode = 'lines+markers',marker=dict(symbol='x'),\n",
    "                    name = 'ExtraTree Classifier')\n",
    "\n",
    "trace6 = go.Scatter(x=table_80_70_test.iloc[6].index.values[[0,5,6,7]],\n",
    "                    y=table_80_70_test.iloc[6].values[[0,5,6,7]],\n",
    "                    mode = 'lines+markers',marker=dict(symbol='x'),\n",
    "                    name = 'Bagging')\n",
    "\n",
    "trace7 = go.Scatter(x=table_80_70_test.iloc[7].index.values[[0,5,6,7]],\n",
    "                    y=table_80_70_test.iloc[7].values[[0,5,6,7]],\n",
    "                    mode = 'lines+markers',marker=dict(symbol='x'),\n",
    "                    name = 'Neural Network')\n",
    "\n",
    "\n",
    "\n",
    "data = [trace0, trace1, trace2, trace3, trace4, trace5, trace6, trace7]\n",
    "layout = go.Layout(yaxis=dict(tick0=0,dtick=0.05),title='Result comparision for Features selected in Section 1')\n",
    "fig = go.Figure(data=data, layout=layout)\n",
    "\n",
    "iplot(fig, filename='Result')"
   ]
  },
  {
   "cell_type": "code",
   "execution_count": 51,
   "metadata": {},
   "outputs": [
    {
     "name": "stdout",
     "output_type": "stream",
     "text": [
      "Training Results\n"
     ]
    },
    {
     "data": {
      "text/html": [
       "<div>\n",
       "<style scoped>\n",
       "    .dataframe tbody tr th:only-of-type {\n",
       "        vertical-align: middle;\n",
       "    }\n",
       "\n",
       "    .dataframe tbody tr th {\n",
       "        vertical-align: top;\n",
       "    }\n",
       "\n",
       "    .dataframe thead th {\n",
       "        text-align: right;\n",
       "    }\n",
       "</style>\n",
       "<table border=\"1\" class=\"dataframe\">\n",
       "  <thead>\n",
       "    <tr style=\"text-align: right;\">\n",
       "      <th></th>\n",
       "      <th>accuracy</th>\n",
       "      <th>TP</th>\n",
       "      <th>TN</th>\n",
       "      <th>FP</th>\n",
       "      <th>FN</th>\n",
       "      <th>FPR</th>\n",
       "      <th>FNR</th>\n",
       "    </tr>\n",
       "    <tr>\n",
       "      <th>index</th>\n",
       "      <th></th>\n",
       "      <th></th>\n",
       "      <th></th>\n",
       "      <th></th>\n",
       "      <th></th>\n",
       "      <th></th>\n",
       "      <th></th>\n",
       "    </tr>\n",
       "  </thead>\n",
       "  <tbody>\n",
       "    <tr>\n",
       "      <th>KNeighborsClassifier</th>\n",
       "      <td>0.890715</td>\n",
       "      <td>1610.0</td>\n",
       "      <td>31065.0</td>\n",
       "      <td>788.0</td>\n",
       "      <td>3221.0</td>\n",
       "      <td>0.024739</td>\n",
       "      <td>0.666736</td>\n",
       "    </tr>\n",
       "    <tr>\n",
       "      <th>LogisticRegression</th>\n",
       "      <td>0.876213</td>\n",
       "      <td>2929.0</td>\n",
       "      <td>29214.0</td>\n",
       "      <td>2639.0</td>\n",
       "      <td>1902.0</td>\n",
       "      <td>0.082849</td>\n",
       "      <td>0.393707</td>\n",
       "    </tr>\n",
       "    <tr>\n",
       "      <th>RandomForestClassifier</th>\n",
       "      <td>0.905654</td>\n",
       "      <td>4378.0</td>\n",
       "      <td>28845.0</td>\n",
       "      <td>3008.0</td>\n",
       "      <td>453.0</td>\n",
       "      <td>0.094434</td>\n",
       "      <td>0.093769</td>\n",
       "    </tr>\n",
       "    <tr>\n",
       "      <th>AdaBoostClassifier</th>\n",
       "      <td>0.892215</td>\n",
       "      <td>3987.0</td>\n",
       "      <td>28743.0</td>\n",
       "      <td>3110.0</td>\n",
       "      <td>844.0</td>\n",
       "      <td>0.097636</td>\n",
       "      <td>0.174705</td>\n",
       "    </tr>\n",
       "    <tr>\n",
       "      <th>GradientBoostingClassifier</th>\n",
       "      <td>0.898430</td>\n",
       "      <td>4112.0</td>\n",
       "      <td>28846.0</td>\n",
       "      <td>3007.0</td>\n",
       "      <td>719.0</td>\n",
       "      <td>0.094402</td>\n",
       "      <td>0.148830</td>\n",
       "    </tr>\n",
       "    <tr>\n",
       "      <th>ExtraTreeClassifier</th>\n",
       "      <td>0.907235</td>\n",
       "      <td>4404.0</td>\n",
       "      <td>28877.0</td>\n",
       "      <td>2976.0</td>\n",
       "      <td>427.0</td>\n",
       "      <td>0.093429</td>\n",
       "      <td>0.088387</td>\n",
       "    </tr>\n",
       "    <tr>\n",
       "      <th>BaggingClassifier</th>\n",
       "      <td>0.905572</td>\n",
       "      <td>4365.0</td>\n",
       "      <td>28855.0</td>\n",
       "      <td>2998.0</td>\n",
       "      <td>466.0</td>\n",
       "      <td>0.094120</td>\n",
       "      <td>0.096460</td>\n",
       "    </tr>\n",
       "    <tr>\n",
       "      <th>Neural Network-1</th>\n",
       "      <td>0.891479</td>\n",
       "      <td>3484.0</td>\n",
       "      <td>29219.0</td>\n",
       "      <td>2634.0</td>\n",
       "      <td>1347.0</td>\n",
       "      <td>0.082692</td>\n",
       "      <td>0.278824</td>\n",
       "    </tr>\n",
       "  </tbody>\n",
       "</table>\n",
       "</div>"
      ],
      "text/plain": [
       "                            accuracy      TP       TN      FP      FN  \\\n",
       "index                                                                   \n",
       "KNeighborsClassifier        0.890715  1610.0  31065.0   788.0  3221.0   \n",
       "LogisticRegression          0.876213  2929.0  29214.0  2639.0  1902.0   \n",
       "RandomForestClassifier      0.905654  4378.0  28845.0  3008.0   453.0   \n",
       "AdaBoostClassifier          0.892215  3987.0  28743.0  3110.0   844.0   \n",
       "GradientBoostingClassifier  0.898430  4112.0  28846.0  3007.0   719.0   \n",
       "ExtraTreeClassifier         0.907235  4404.0  28877.0  2976.0   427.0   \n",
       "BaggingClassifier           0.905572  4365.0  28855.0  2998.0   466.0   \n",
       "Neural Network-1            0.891479  3484.0  29219.0  2634.0  1347.0   \n",
       "\n",
       "                                 FPR       FNR  \n",
       "index                                           \n",
       "KNeighborsClassifier        0.024739  0.666736  \n",
       "LogisticRegression          0.082849  0.393707  \n",
       "RandomForestClassifier      0.094434  0.093769  \n",
       "AdaBoostClassifier          0.097636  0.174705  \n",
       "GradientBoostingClassifier  0.094402  0.148830  \n",
       "ExtraTreeClassifier         0.093429  0.088387  \n",
       "BaggingClassifier           0.094120  0.096460  \n",
       "Neural Network-1            0.082692  0.278824  "
      ]
     },
     "metadata": {},
     "output_type": "display_data"
    },
    {
     "name": "stdout",
     "output_type": "stream",
     "text": [
      "Test Results\n"
     ]
    },
    {
     "data": {
      "text/html": [
       "<div>\n",
       "<style scoped>\n",
       "    .dataframe tbody tr th:only-of-type {\n",
       "        vertical-align: middle;\n",
       "    }\n",
       "\n",
       "    .dataframe tbody tr th {\n",
       "        vertical-align: top;\n",
       "    }\n",
       "\n",
       "    .dataframe thead th {\n",
       "        text-align: right;\n",
       "    }\n",
       "</style>\n",
       "<table border=\"1\" class=\"dataframe\">\n",
       "  <thead>\n",
       "    <tr style=\"text-align: right;\">\n",
       "      <th></th>\n",
       "      <th>accuracy</th>\n",
       "      <th>TP</th>\n",
       "      <th>TN</th>\n",
       "      <th>FP</th>\n",
       "      <th>FN</th>\n",
       "      <th>FPR</th>\n",
       "      <th>FNR</th>\n",
       "      <th>auc</th>\n",
       "      <th>mcc</th>\n",
       "    </tr>\n",
       "    <tr>\n",
       "      <th>index</th>\n",
       "      <th></th>\n",
       "      <th></th>\n",
       "      <th></th>\n",
       "      <th></th>\n",
       "      <th></th>\n",
       "      <th></th>\n",
       "      <th></th>\n",
       "      <th></th>\n",
       "      <th></th>\n",
       "    </tr>\n",
       "  </thead>\n",
       "  <tbody>\n",
       "    <tr>\n",
       "      <th>KNeighborsClassifier</th>\n",
       "      <td>0.893153</td>\n",
       "      <td>400.0</td>\n",
       "      <td>7792.0</td>\n",
       "      <td>190.0</td>\n",
       "      <td>790.0</td>\n",
       "      <td>0.023804</td>\n",
       "      <td>0.663866</td>\n",
       "      <td>0.656165</td>\n",
       "      <td>0.427783</td>\n",
       "    </tr>\n",
       "    <tr>\n",
       "      <th>LogisticRegression</th>\n",
       "      <td>0.875164</td>\n",
       "      <td>706.0</td>\n",
       "      <td>7321.0</td>\n",
       "      <td>661.0</td>\n",
       "      <td>484.0</td>\n",
       "      <td>0.082811</td>\n",
       "      <td>0.406723</td>\n",
       "      <td>0.755233</td>\n",
       "      <td>0.481643</td>\n",
       "    </tr>\n",
       "    <tr>\n",
       "      <th>RandomForestClassifier</th>\n",
       "      <td>0.899150</td>\n",
       "      <td>1037.0</td>\n",
       "      <td>7210.0</td>\n",
       "      <td>772.0</td>\n",
       "      <td>153.0</td>\n",
       "      <td>0.096718</td>\n",
       "      <td>0.128571</td>\n",
       "      <td>0.887355</td>\n",
       "      <td>0.654218</td>\n",
       "    </tr>\n",
       "    <tr>\n",
       "      <th>AdaBoostClassifier</th>\n",
       "      <td>0.894461</td>\n",
       "      <td>974.0</td>\n",
       "      <td>7230.0</td>\n",
       "      <td>752.0</td>\n",
       "      <td>216.0</td>\n",
       "      <td>0.094212</td>\n",
       "      <td>0.181513</td>\n",
       "      <td>0.862138</td>\n",
       "      <td>0.622660</td>\n",
       "    </tr>\n",
       "    <tr>\n",
       "      <th>GradientBoostingClassifier</th>\n",
       "      <td>0.898386</td>\n",
       "      <td>995.0</td>\n",
       "      <td>7245.0</td>\n",
       "      <td>737.0</td>\n",
       "      <td>195.0</td>\n",
       "      <td>0.092333</td>\n",
       "      <td>0.163866</td>\n",
       "      <td>0.871901</td>\n",
       "      <td>0.638596</td>\n",
       "    </tr>\n",
       "    <tr>\n",
       "      <th>ExtraTreeClassifier</th>\n",
       "      <td>0.897514</td>\n",
       "      <td>1034.0</td>\n",
       "      <td>7198.0</td>\n",
       "      <td>784.0</td>\n",
       "      <td>156.0</td>\n",
       "      <td>0.098221</td>\n",
       "      <td>0.131092</td>\n",
       "      <td>0.885343</td>\n",
       "      <td>0.649604</td>\n",
       "    </tr>\n",
       "    <tr>\n",
       "      <th>BaggingClassifier</th>\n",
       "      <td>0.898386</td>\n",
       "      <td>1036.0</td>\n",
       "      <td>7204.0</td>\n",
       "      <td>778.0</td>\n",
       "      <td>154.0</td>\n",
       "      <td>0.097469</td>\n",
       "      <td>0.129412</td>\n",
       "      <td>0.886559</td>\n",
       "      <td>0.652194</td>\n",
       "    </tr>\n",
       "    <tr>\n",
       "      <th>Neural Network-1</th>\n",
       "      <td>0.891845</td>\n",
       "      <td>852.0</td>\n",
       "      <td>7328.0</td>\n",
       "      <td>654.0</td>\n",
       "      <td>338.0</td>\n",
       "      <td>0.081934</td>\n",
       "      <td>0.284034</td>\n",
       "      <td>0.886559</td>\n",
       "      <td>0.575100</td>\n",
       "    </tr>\n",
       "  </tbody>\n",
       "</table>\n",
       "</div>"
      ],
      "text/plain": [
       "                            accuracy      TP      TN     FP     FN       FPR  \\\n",
       "index                                                                          \n",
       "KNeighborsClassifier        0.893153   400.0  7792.0  190.0  790.0  0.023804   \n",
       "LogisticRegression          0.875164   706.0  7321.0  661.0  484.0  0.082811   \n",
       "RandomForestClassifier      0.899150  1037.0  7210.0  772.0  153.0  0.096718   \n",
       "AdaBoostClassifier          0.894461   974.0  7230.0  752.0  216.0  0.094212   \n",
       "GradientBoostingClassifier  0.898386   995.0  7245.0  737.0  195.0  0.092333   \n",
       "ExtraTreeClassifier         0.897514  1034.0  7198.0  784.0  156.0  0.098221   \n",
       "BaggingClassifier           0.898386  1036.0  7204.0  778.0  154.0  0.097469   \n",
       "Neural Network-1            0.891845   852.0  7328.0  654.0  338.0  0.081934   \n",
       "\n",
       "                                 FNR       auc       mcc  \n",
       "index                                                     \n",
       "KNeighborsClassifier        0.663866  0.656165  0.427783  \n",
       "LogisticRegression          0.406723  0.755233  0.481643  \n",
       "RandomForestClassifier      0.128571  0.887355  0.654218  \n",
       "AdaBoostClassifier          0.181513  0.862138  0.622660  \n",
       "GradientBoostingClassifier  0.163866  0.871901  0.638596  \n",
       "ExtraTreeClassifier         0.131092  0.885343  0.649604  \n",
       "BaggingClassifier           0.129412  0.886559  0.652194  \n",
       "Neural Network-1            0.284034  0.886559  0.575100  "
      ]
     },
     "metadata": {},
     "output_type": "display_data"
    }
   ],
   "source": [
    "table_80_70_train['index']=ind_columns\n",
    "table_80_70_test['index']=ind_columns\n",
    "\n",
    "\n",
    "table_80_70_test.set_index(['index'],drop=True,inplace=True)\n",
    "table_80_70_train.set_index(['index'],drop=True,inplace=True)\n",
    "\n",
    "print(\"Training Results\")\n",
    "display(table_80_70_train)\n",
    "print(\"Test Results\")\n",
    "display(table_80_70_test)"
   ]
  },
  {
   "cell_type": "code",
   "execution_count": 52,
   "metadata": {},
   "outputs": [
    {
     "data": {
      "text/html": [
       "<script>\n",
       "code_show=true; \n",
       "function code_toggle() {\n",
       " if (code_show){\n",
       " $('div.input').hide();\n",
       " } else {\n",
       " $('div.input').show();\n",
       " }\n",
       " code_show = !code_show\n",
       "} \n",
       "$( document ).ready(code_toggle);\n",
       "</script>\n",
       "To toggle code, click <a href=\"javascript:code_toggle()\">here</a>."
      ],
      "text/plain": [
       "<IPython.core.display.HTML object>"
      ]
     },
     "execution_count": 52,
     "metadata": {},
     "output_type": "execute_result"
    }
   ],
   "source": [
    "### Original Creator : Darshan Bhansali\n",
    "### HTML code to hide the input cells \n",
    "HTML('''<script>\n",
    "code_show=true; \n",
    "function code_toggle() {\n",
    " if (code_show){\n",
    " $('div.input').hide();\n",
    " } else {\n",
    " $('div.input').show();\n",
    " }\n",
    " code_show = !code_show\n",
    "} \n",
    "$( document ).ready(code_toggle);\n",
    "</script>\n",
    "To toggle code, click <a href=\"javascript:code_toggle()\">here</a>.''')"
   ]
  }
 ],
 "metadata": {
  "kernelspec": {
   "display_name": "Python 3",
   "language": "python",
   "name": "python3"
  },
  "language_info": {
   "codemirror_mode": {
    "name": "ipython",
    "version": 3
   },
   "file_extension": ".py",
   "mimetype": "text/x-python",
   "name": "python",
   "nbconvert_exporter": "python",
   "pygments_lexer": "ipython3",
   "version": "3.6.7"
  }
 },
 "nbformat": 4,
 "nbformat_minor": 2
}
