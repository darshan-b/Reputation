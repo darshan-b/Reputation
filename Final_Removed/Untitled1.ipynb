{
 "cells": [
  {
   "cell_type": "markdown",
   "metadata": {},
   "source": [
    "***\n",
    "## Table of Contents\n",
    "<br>\n",
    "  <br>\n",
    "    <ol>\n",
    "        <h2><a href='#1' style=\"text-decoration : none; color : #000000;\">1. Initial Models</a></h2>\n",
    "        <ul>\n",
    "            <a href='#1.A' style=\"text-decoration : none; color : #000000;\"><h3>A. Results </h3></a>\n",
    "        </ul>\n",
    "        <ul>\n",
    "            <a href='#1.B' style=\"text-decoration : none; color : #000000;\"><h3>B. Average Feature Importance   </h3></a>\n",
    "        </ul>\n",
    "     </ol>\n",
    "     <br> \n",
    "\n",
    "<ol>\n",
    "        <h2><a href='#2' style=\"text-decoration : none; color : #000000;\">2. Oversampling </a></h2>\n",
    "        <ul>\n",
    "            <a href='#2.A' style=\"text-decoration : none; color : #000000;\"><h3>A. Results </h3></a>\n",
    "        </ul>\n",
    "        <ul>\n",
    "            <a href='#2.B' style=\"text-decoration : none; color : #000000;\"><h3>B. Average Feature Importance   </h3></a>\n",
    "        </ul>\n",
    "     </ol>\n",
    "     <br>\n",
    "     \n",
    " <ol>\n",
    "        <h2><a href='#3' style=\"text-decoration : none; color : #000000;\">3. Undersampling</a></h2>\n",
    "        <ul>\n",
    "            <a href='#3.A' style=\"text-decoration : none; color : #000000;\"><h3>A. Results </h3></a>\n",
    "        </ul>\n",
    "        <ul>\n",
    "            <a href='#3.B' style=\"text-decoration : none; color : #000000;\"><h3>B. Average Feature Importance   </h3></a>\n",
    "        </ul>\n",
    "     </ol>\n",
    "     <br>\n",
    "     \n",
    " <ol>\n",
    "        <h2><a href='#4' style=\"text-decoration : none; color : #000000;\">4.Feature Transformation with feature selection</a></h2>\n",
    "        <ul>\n",
    "            <a href='#4.A' style=\"text-decoration : none; color : #000000;\"><h3>A. Results </h3></a>\n",
    "        </ul>\n",
    "        <ul>\n",
    "            <a href='#4.B' style=\"text-decoration : none; color : #000000;\"><h3>B. Average Feature Importance   </h3></a>\n",
    "        </ul>\n",
    "     </ol>\n",
    "     <br>\n",
    "     \n",
    "     \n",
    " <ol>\n",
    "        <h2><a href='#5' style=\"text-decoration : none; color : #000000;\">5.Feature Transformation with PCA</a></h2>\n",
    "        <ul>\n",
    "            <a href='#5.A' style=\"text-decoration : none; color : #000000;\"><h3>A. Results </h3></a>\n",
    "        </ul>\n",
    "        <ul>\n",
    "            <a href='#5.B' style=\"text-decoration : none; color : #000000;\"><h3>B. Average Feature Importance   </h3></a>\n",
    "        </ul>\n",
    "     </ol>\n",
    "     <br>"
   ]
  },
  {
   "cell_type": "code",
   "execution_count": 2,
   "metadata": {},
   "outputs": [
    {
     "name": "stderr",
     "output_type": "stream",
     "text": [
      "Using TensorFlow backend.\n"
     ]
    },
    {
     "data": {
      "text/html": [
       "<script type=\"text/javascript\">window.PlotlyConfig = {MathJaxConfig: 'local'};</script><script type=\"text/javascript\">if (window.MathJax) {MathJax.Hub.Config({SVG: {font: \"STIX-Web\"}});}</script><script>requirejs.config({paths: { 'plotly': ['https://cdn.plot.ly/plotly-latest.min']},});if(!window._Plotly) {require(['plotly'],function(plotly) {window._Plotly=plotly;});}</script>"
      ],
      "text/vnd.plotly.v1+html": [
       "<script type=\"text/javascript\">window.PlotlyConfig = {MathJaxConfig: 'local'};</script><script type=\"text/javascript\">if (window.MathJax) {MathJax.Hub.Config({SVG: {font: \"STIX-Web\"}});}</script><script>requirejs.config({paths: { 'plotly': ['https://cdn.plot.ly/plotly-latest.min']},});if(!window._Plotly) {require(['plotly'],function(plotly) {window._Plotly=plotly;});}</script>"
      ]
     },
     "metadata": {},
     "output_type": "display_data"
    }
   ],
   "source": [
    "import pandas as pd\n",
    "import numpy as np\n",
    "import os\n",
    "import matplotlib.pyplot as plt\n",
    "import seaborn as sns\n",
    "%matplotlib inline\n",
    "\n",
    "from IPython.display import display,clear_output,HTML\n",
    "import warnings\n",
    "warnings.filterwarnings(\"ignore\")\n",
    "\n",
    "import keras\n",
    "from keras.layers import Dense,Dropout\n",
    "from keras.models import Sequential\n",
    "warnings.simplefilter(\"ignore\", DeprecationWarning)\n",
    "import researchpy as rp\n",
    "\n",
    "%matplotlib inline\n",
    "pd.set_option('display.max_columns', 500)\n",
    "pd.set_option('display.max_rows',305)\n",
    "\n",
    "from sklearn.feature_selection import SelectKBest,chi2,RFE,RFECV,f_regression,SelectFromModel\n",
    "from sklearn.linear_model import LogisticRegression\n",
    "from sklearn.ensemble import ExtraTreesClassifier,RandomForestClassifier,GradientBoostingClassifier,AdaBoostClassifier,BaggingClassifier\n",
    "from sklearn.neighbors import KNeighborsClassifier\n",
    "from sklearn.model_selection import train_test_split,cross_val_score\n",
    "\n",
    "from sklearn.preprocessing import StandardScaler,MinMaxScaler\n",
    "from sklearn import metrics\n",
    "\n",
    "\n",
    "\n",
    "from sklearn.decomposition import PCA\n",
    "from sklearn.metrics import accuracy_score,auc,roc_curve,recall_score,precision_score,matthews_corrcoef\n",
    "\n",
    "from pandas_ml import ConfusionMatrix\n",
    "\n",
    "\n",
    "from imblearn.over_sampling import SMOTE\n",
    "\n",
    "from plotly.offline import download_plotlyjs, init_notebook_mode, plot, iplot\n",
    "init_notebook_mode(connected=True)\n",
    "import plotly.graph_objs as go\n",
    "\n",
    "import featuretools as ft\n",
    "\n",
    "from scipy import stats"
   ]
  },
  {
   "cell_type": "code",
   "execution_count": 88,
   "metadata": {
    "collapsed": true
   },
   "outputs": [],
   "source": [
    "### Function to plot Feature Importance\n",
    "def feat_impt_plot(feat_impt,y_labels,width_s=1000,height_s=1000):\n",
    "    \n",
    "    m=pd.DataFrame(y_labels,feat_impt).reset_index()\n",
    "    m.columns=['Feature_Importance','Features']\n",
    "    m.sort_values(by='Feature_Importance',inplace=True,ascending=False)\n",
    "#     m['Features']=m['Features'].str.replace(\"dom_function_\",\"\")\n",
    "#     m['Features']=m['Features'].str.replace(\"js_function_\",\"\")\n",
    "#     m['Features']=m['Features'].apply(lambda x: str(x).lstrip('.'))\n",
    "#     m['Features']=m['Features'].str.replace(\"(\",\"\")\n",
    "    \n",
    "    data = [go.Bar(x=m.Feature_Importance.values,y=m.Features.values,text=np.round(m.Feature_Importance,4),\n",
    "            textposition = 'outside',\n",
    "            marker=dict(\n",
    "                color='rgb(158,202,225)',\n",
    "                line=dict(\n",
    "                    color='rgb(8,48,107)',\n",
    "                    width=1.5),\n",
    "            ),\n",
    "            opacity=0.6,\n",
    "            orientation='h'\n",
    "        )]\n",
    "    layout = go.Layout(autosize=False,\n",
    "    width=width_s,\n",
    "    height=height_s,\n",
    "    xaxis=dict(title='Feature Importances',\n",
    "        tickfont=dict(\n",
    "            size=12,\n",
    "            color='black'\n",
    "        )),\n",
    "    yaxis=dict(automargin=True))\n",
    "    fig = go.Figure(data=data, layout=layout)\n",
    "    iplot(fig)\n",
    "\n",
    "    \n",
    "def check_cat(data):\n",
    "    cat_var=[]\n",
    "    num_var=[]\n",
    "    for col in data.columns:\n",
    "        if col!='Target':\n",
    "            if len(data[col].value_counts())==2:\n",
    "                cat_var.append(col)\n",
    "            else:\n",
    "                num_var.append(col)\n",
    "    return cat_var,num_var\n",
    "\n",
    "\n",
    "def num_stats(data,columns):\n",
    "    lst=[]\n",
    "    for col in columns:\n",
    "        corr=stats.pointbiserialr(data[col],data.Target)[0]\n",
    "        corr_p=stats.pointbiserialr(data[col],data.Target)[1]\n",
    "        ttest=stats.ttest_ind(data[data.Target==1][col], data[data.Target==0][col], equal_var=False)[0]\n",
    "        ttest_p=stats.ttest_ind(data[data.Target==1][col], data[data.Target==0][col], equal_var=False)[1]\n",
    "        lst.append((corr,corr_p,ttest,ttest_p,col))\n",
    "    stats_data=pd.DataFrame(lst,columns=['Pt. Biserial Corr','Pt. Biserial Corr p-val','ttest','ttest p-val','Feature'])\n",
    "    stats_data.set_index('Feature',drop=True,inplace=True)\n",
    "    stats_data.sort_values(by='ttest',inplace=True)\n",
    "    del lst\n",
    "    return stats_data\n",
    "\n",
    "\n",
    "### Generate statistics for categorical data\n",
    "def cat_stats(data,columns):\n",
    "    lst=[]\n",
    "    for col in columns:\n",
    "        if col!='Target':\n",
    "            table, results = rp.crosstab(data['Target'], data[col], prop= 'col', test= 'chi-square')\n",
    "            x=results['results'].values.tolist()\n",
    "            x.append(col)\n",
    "            lst.append(x)\n",
    "    chi_df=pd.DataFrame(lst,columns=['Pearson Chi-square','p-value','Cramers V','Feature'])\n",
    "    chi_df.set_index('Feature',drop=True,inplace=True)\n",
    "    chi_df.sort_values(by='Cramers V',ascending=False,inplace=True)\n",
    "    del lst\n",
    "    return chi_df"
   ]
  },
  {
   "cell_type": "code",
   "execution_count": 89,
   "metadata": {
    "collapsed": true
   },
   "outputs": [],
   "source": [
    "def model_build(model,X_train,Y_train,X_test,Y_test,tree=False,feat=None):\n",
    "    \n",
    "    y_pred_train=model.predict(X_train)\n",
    "    acc_train=accuracy_score(Y_train,y_pred_train)\n",
    "    \n",
    "    print(\"Accuracy of the model for training data is:\",acc_train)\n",
    "    print(\"Confusion Matrix for training data is:\")\n",
    "    cm_train=ConfusionMatrix(Y_train,y_pred_train)\n",
    "    display(cm_train)\n",
    "    \n",
    "    \n",
    "    y_pred_test=model.predict(X_test)\n",
    "    acc_test=accuracy_score(Y_test,y_pred_test)\n",
    "    print(\"Accuracy of the model for test data is:\",acc_test)\n",
    "    print(\"Confusion Matrix for test data is:\")\n",
    "    cm_test=ConfusionMatrix(Y_test,y_pred_test)\n",
    "    display(cm_test)\n",
    "\n",
    "    fpr, tpr, threshold = roc_curve(Y_test, y_pred_test)\n",
    "    roc_auc =auc(fpr, tpr)\n",
    "    mcc=matthews_corrcoef(Y_test,y_pred_test)\n",
    "    if tree==True:\n",
    "        feat_impt_plot(model.feature_importances_,feat)\n",
    "        return model,cm_train,cm_test,acc_train,acc_test,roc_auc,model.feature_importances_,mcc\n",
    "    \n",
    "    return model,cm_train,cm_test,acc_train,acc_test,roc_auc,mcc\n",
    "\n",
    "def KNN_model(X_train,Y_train,X_test,Y_test):\n",
    "    print('\\033[1m' + 'K-Nearest Neighbors' + '\\033[0m')\n",
    "    knn=KNeighborsClassifier()\n",
    "    knn.fit(X_train,Y_train)\n",
    "\n",
    "    return model_build(knn,X_train,Y_train,X_test,Y_test)\n",
    "\n",
    "def Logistic_model(X_train,Y_train,X_test,Y_test):\n",
    "    print('\\033[1m' + 'Logistic Regression' + '\\033[0m')\n",
    "    log=LogisticRegression()\n",
    "    log.fit(X_train,Y_train)\n",
    "    \n",
    "    return model_build(log,X_train,Y_train,X_test,Y_test)\n",
    "\n",
    "def RandomForest(X_train,Y_train,X_test,Y_test,feat):\n",
    "    print('\\033[1m' + 'RandomForest Classifier' + '\\033[0m')\n",
    "    rf=RandomForestClassifier()\n",
    "    rf.fit(X_train,Y_train)\n",
    "\n",
    "    \n",
    "    return model_build(rf,X_train,Y_train,X_test,Y_test,True,feat)\n",
    "\n",
    "def AdaBoost(X_train,Y_train,X_test,Y_test,feat):\n",
    "    print('\\033[1m' + 'Adaoost Classifier' + '\\033[0m')\n",
    "    ada=AdaBoostClassifier()\n",
    "    ada.fit(X_train,Y_train)\n",
    "    \n",
    "    return model_build(ada,X_train,Y_train,X_test,Y_test,True,feat)\n",
    "\n",
    "def GradientBoosting(X_train,Y_train,X_test,Y_test,feat):\n",
    "    print('\\033[1m' + 'GradientBoosting Classifier' + '\\033[0m')\n",
    "    gbc=GradientBoostingClassifier()\n",
    "    gbc.fit(X_train,Y_train)\n",
    "    \n",
    "    return model_build(gbc,X_train,Y_train,X_test,Y_test,True,feat)\n",
    "\n",
    "def ExtraTree(X_train,Y_train,X_test,Y_test,feat):\n",
    "    print('\\033[1m' + 'ExtraTree Classifier' + '\\033[0m')\n",
    "    ext_tree=ExtraTreesClassifier()\n",
    "    ext_tree.fit(X_train,Y_train)\n",
    "    \n",
    "    return model_build(ext_tree,X_train,Y_train,X_test,Y_test,True,feat)\n",
    "\n",
    "def Bagging(X_train,Y_train,X_test,Y_test):\n",
    "    print('\\033[1m' + 'Bagging Classifier' + '\\033[0m')\n",
    "    bagging=BaggingClassifier()\n",
    "    bagging.fit(X_train,Y_train)\n",
    "    \n",
    "    return model_build(bagging,X_train,Y_train,X_test,Y_test)\n",
    "\n",
    "def DeepLearning1(X_train,Y_train,X_test,Y_test):\n",
    "    print('\\033[1m' + 'Neural Network-1' + '\\033[0m')\n",
    "    np.random.seed(0)\n",
    "    deep_learning=Sequential()\n",
    "    deep_learning.add(Dense(units=64,activation='relu',use_bias=True,kernel_initializer='uniform',input_dim=X_train.shape[1]))\n",
    "    deep_learning.add(Dense(units=128,activation='relu',use_bias=True,kernel_initializer='uniform'))\n",
    "    deep_learning.add(Dense(units=1,activation='sigmoid',use_bias=True,kernel_initializer='uniform'))\n",
    "    deep_learning.compile(optimizer='adam',loss='binary_crossentropy',metrics=['accuracy'])\n",
    "    deep_learning.fit(X_train,Y_train,batch_size=20,epochs=80,verbose=False)\n",
    "    acc_train=deep_learning.evaluate(X_train,Y_train,verbose=False)[1]\n",
    "    print(\"The accuracy of the model on training data is:\",acc_train)\n",
    "    cm_train=ConfusionMatrix(Y_train,deep_learning.predict_classes(X_train,batch_size=1,verbose=False).reshape(1,len(X_train))[0])\n",
    "    cm_test=ConfusionMatrix(Y_test,deep_learning.predict_classes(X_test,batch_size=1,verbose=False).reshape(1,len(X_test))[0])\n",
    "    display(cm_train)\n",
    "    acc_test=accuracy_score(Y_test,deep_learning.predict_classes(X_test,batch_size=1,verbose=False))\n",
    "    print(\"The accuracy of the model on test data is:\",acc_test)\n",
    "    display(cm_test)\n",
    "    mcc=matthews_corrcoef(Y_test,deep_learning.predict_classes(X_test,batch_size=1,verbose=False))\n",
    "    return  deep_learning,cm_train,cm_test,acc_train,acc_test,roc_auc,mcc"
   ]
  },
  {
   "cell_type": "code",
   "execution_count": 90,
   "metadata": {
    "collapsed": true
   },
   "outputs": [],
   "source": [
    "columns=['http_header_cache-control_set_max-age',\n",
    " 'http_header_cache-control_set_must-revalidate',\n",
    " 'http_header_cache-control_set_no-cache',\n",
    " 'http_header_cache-control_set_no-store',\n",
    " 'http_header_cache-control_set_private',\n",
    " 'http_header_cache-control_set_public',\n",
    " 'http_header_connection_close',\n",
    " 'http_header_connection_keep-alive',\n",
    " 'http_header_content-encoding_gzip',\n",
    " 'http_header_content-language_text/html',\n",
    " 'http_header_content-length',\n",
    " 'http_header_expect-ctmax-age',\n",
    " 'http_header_pragmano-cache',\n",
    " 'http_header_server_apache',\n",
    " 'http_header_server_nginx',\n",
    " 'http_header_strict-transport-security_max-age',\n",
    " 'http_header_transfer-encoding_chunked',\n",
    " 'http_header_vary_accept',\n",
    " 'http_header_vary_age',\n",
    " 'http_header_via_1.1',\n",
    " 'http_header_x-cintent-type-options_nosniff',\n",
    " 'http_header_x-xss-enabled','Target','domain']"
   ]
  },
  {
   "cell_type": "code",
   "execution_count": 91,
   "metadata": {},
   "outputs": [
    {
     "name": "stdout",
     "output_type": "stream",
     "text": [
      "Shape of our dataset: (45856, 23)\n"
     ]
    }
   ],
   "source": [
    "df=pd.read_csv('Modified_http.csv',usecols=columns)\n",
    "\n",
    "df.rename(columns={'Malicious':'Target'},inplace=True)\n",
    "df.fillna(value=0,inplace=True)\n",
    "\n",
    "cookies=[columns for columns in df.columns if 'number' in columns]\n",
    "df.drop(cookies,axis=1,inplace=True)\n",
    "\n",
    "df=df[df['domain']!=0]\n",
    "\n",
    "df.sort_values(by='Target',inplace=True,ascending=False)\n",
    "df.drop_duplicates(['domain'], keep='first',inplace=True)\n",
    "\n",
    "df=df.sample(frac=1,random_state=0)\n",
    "df.set_index(['domain'],drop=True,inplace=True)\n",
    "print(\"Shape of our dataset:\",df.shape)"
   ]
  },
  {
   "cell_type": "code",
   "execution_count": 20,
   "metadata": {
    "collapsed": true
   },
   "outputs": [],
   "source": [
    "train=df.iloc[:36684,:]\n",
    "train_X=train.iloc[:,train.columns!='Target'].values\n",
    "train_Y=train.Target.values\n",
    "\n",
    "scaler=StandardScaler()\n",
    "scaled_X_train=scaler.fit_transform(train_X)"
   ]
  },
  {
   "cell_type": "code",
   "execution_count": 21,
   "metadata": {
    "collapsed": true
   },
   "outputs": [],
   "source": [
    "test=df.iloc[36684:,:]\n",
    "test_X=test.iloc[:,test.columns!='Target'].values\n",
    "test_Y=test.Target.values\n",
    "scaled_X_test=scaler.transform(test_X)"
   ]
  },
  {
   "cell_type": "markdown",
   "metadata": {},
   "source": [
    "### <a id='1' style=\"text-decoration : none; color : #000000;\"> 2. Initial Models</a>"
   ]
  },
  {
   "cell_type": "code",
   "execution_count": 22,
   "metadata": {
    "collapsed": true
   },
   "outputs": [],
   "source": [
    "ind_columns=['KNeighborsClassifier','LogisticRegression','RandomForestClassifier','AdaBoostClassifier',\n",
    "             'GradientBoostingClassifier','ExtraTreeClassifier','BaggingClassifier','Neural Network-1']\n",
    "\n",
    "f=[KNN_model,Logistic_model,RandomForest,AdaBoost,GradientBoosting, ExtraTree,Bagging,DeepLearning1]\n",
    "\n",
    "## Table to store training and test measures\n",
    "table_80_50_train=pd.DataFrame(columns=['accuracy','TP','TN','FP','FN','FPR','FNR'])\n",
    "table_80_50_test=pd.DataFrame(columns=['accuracy','TP','TN','FP','FN','FPR','FNR','auc','MCC'])"
   ]
  },
  {
   "cell_type": "code",
   "execution_count": 23,
   "metadata": {
    "scrolled": false
   },
   "outputs": [
    {
     "name": "stdout",
     "output_type": "stream",
     "text": [
      "\u001b[1mK-Nearest Neighbors\u001b[0m\n",
      "Accuracy of the model for training data is: 0.905353832734\n",
      "Confusion Matrix for training data is:\n"
     ]
    },
    {
     "data": {
      "text/plain": [
       "Predicted  False  True  __all__\n",
       "Actual                         \n",
       "False      31703   150    31853\n",
       "True        3322  1509     4831\n",
       "__all__    35025  1659    36684"
      ]
     },
     "metadata": {},
     "output_type": "display_data"
    },
    {
     "name": "stdout",
     "output_type": "stream",
     "text": [
      "Accuracy of the model for test data is: 0.904709986917\n",
      "Confusion Matrix for test data is:\n"
     ]
    },
    {
     "data": {
      "text/plain": [
       "Predicted  False  True  __all__\n",
       "Actual                         \n",
       "False       7933    49     7982\n",
       "True         825   365     1190\n",
       "__all__     8758   414     9172"
      ]
     },
     "metadata": {},
     "output_type": "display_data"
    },
    {
     "name": "stdout",
     "output_type": "stream",
     "text": [
      "\n",
      "\n",
      "\u001b[1mLogistic Regression\u001b[0m\n",
      "Accuracy of the model for training data is: 0.884254715952\n",
      "Confusion Matrix for training data is:\n"
     ]
    },
    {
     "data": {
      "text/plain": [
       "Predicted  False  True  __all__\n",
       "Actual                         \n",
       "False      29126  2727    31853\n",
       "True        1519  3312     4831\n",
       "__all__    30645  6039    36684"
      ]
     },
     "metadata": {},
     "output_type": "display_data"
    },
    {
     "name": "stdout",
     "output_type": "stream",
     "text": [
      "Accuracy of the model for test data is: 0.883994766681\n",
      "Confusion Matrix for test data is:\n"
     ]
    },
    {
     "data": {
      "text/plain": [
       "Predicted  False  True  __all__\n",
       "Actual                         \n",
       "False       7311   671     7982\n",
       "True         393   797     1190\n",
       "__all__     7704  1468     9172"
      ]
     },
     "metadata": {},
     "output_type": "display_data"
    },
    {
     "name": "stdout",
     "output_type": "stream",
     "text": [
      "\n",
      "\n",
      "\u001b[1mRandomForest Classifier\u001b[0m\n",
      "Accuracy of the model for training data is: 0.919392650747\n",
      "Confusion Matrix for training data is:\n"
     ]
    },
    {
     "data": {
      "text/plain": [
       "Predicted  False  True  __all__\n",
       "Actual                         \n",
       "False      29374  2479    31853\n",
       "True         478  4353     4831\n",
       "__all__    29852  6832    36684"
      ]
     },
     "metadata": {},
     "output_type": "display_data"
    },
    {
     "name": "stdout",
     "output_type": "stream",
     "text": [
      "Accuracy of the model for test data is: 0.909289140863\n",
      "Confusion Matrix for test data is:\n"
     ]
    },
    {
     "data": {
      "text/plain": [
       "Predicted  False  True  __all__\n",
       "Actual                         \n",
       "False       7320   662     7982\n",
       "True         170  1020     1190\n",
       "__all__     7490  1682     9172"
      ]
     },
     "metadata": {},
     "output_type": "display_data"
    },
    {
     "data": {
      "application/vnd.plotly.v1+json": {
       "config": {
        "linkText": "Export to plot.ly",
        "plotlyServerURL": "https://plot.ly",
        "showLink": true
       },
       "data": [
        {
         "marker": {
          "color": "rgb(158,202,225)",
          "line": {
           "color": "rgb(8,48,107)",
           "width": 1.5
          }
         },
         "opacity": 0.6,
         "orientation": "h",
         "text": [
          0.3092,
          0.2017,
          0.0864,
          0.0772,
          0.0565,
          0.034,
          0.0281,
          0.0259,
          0.0248,
          0.0242,
          0.0181,
          0.0164,
          0.015,
          0.0139,
          0.0114,
          0.0111,
          0.0105,
          0.0098,
          0.0089,
          0.0074,
          0.006,
          0.0037
         ],
         "textposition": "outside",
         "type": "bar",
         "uid": "9ffa5131-b1b6-4c89-b990-2117356c7190",
         "x": [
          0.3092025887394032,
          0.20165932549620763,
          0.08636934579865922,
          0.07715874872099972,
          0.05654786250722742,
          0.03396203947237706,
          0.028059588969464956,
          0.025887095762737573,
          0.024756916772485503,
          0.024236859082418703,
          0.018093991570069846,
          0.01639219195020782,
          0.015004648040941721,
          0.013914627217866866,
          0.01140446175968258,
          0.01106834169610459,
          0.010511653093139076,
          0.009772982410141599,
          0.008854257237613428,
          0.0074118297336789,
          0.005993268217774272,
          0.003737375750798319
         ],
         "y": [
          "http_header_content-length",
          "http_header_content-encoding_gzip",
          "http_header_transfer-encoding_chunked",
          "http_header_vary_accept",
          "http_header_content-language_text/html",
          "http_header_server_apache",
          "http_header_connection_keep-alive",
          "http_header_cache-control_set_max-age",
          "http_header_server_nginx",
          "http_header_cache-control_set_no-store",
          "http_header_pragmano-cache",
          "http_header_connection_close",
          "http_header_cache-control_set_no-cache",
          "http_header_vary_age",
          "http_header_cache-control_set_private",
          "http_header_x-xss-enabled",
          "http_header_strict-transport-security_max-age",
          "http_header_expect-ctmax-age",
          "http_header_cache-control_set_must-revalidate",
          "http_header_via_1.1",
          "http_header_x-cintent-type-options_nosniff",
          "http_header_cache-control_set_public"
         ]
        }
       ],
       "layout": {
        "autosize": false,
        "height": 1000,
        "width": 1000,
        "xaxis": {
         "tickfont": {
          "color": "black",
          "size": 12
         },
         "title": "Feature Importances"
        },
        "yaxis": {
         "automargin": true
        }
       }
      },
      "text/html": [
       "<div id=\"028d9e17-3af9-4f69-b464-303ae78c3b7f\" style=\"height: 1000px; width: 1000px;\" class=\"plotly-graph-div\"></div><script type=\"text/javascript\">require([\"plotly\"], function(Plotly) { window.PLOTLYENV=window.PLOTLYENV || {};window.PLOTLYENV.BASE_URL=\"https://plot.ly\";Plotly.newPlot(\"028d9e17-3af9-4f69-b464-303ae78c3b7f\", [{\"marker\": {\"color\": \"rgb(158,202,225)\", \"line\": {\"color\": \"rgb(8,48,107)\", \"width\": 1.5}}, \"opacity\": 0.6, \"orientation\": \"h\", \"text\": [0.3092, 0.2017, 0.0864, 0.0772, 0.0565, 0.034, 0.0281, 0.0259, 0.0248, 0.0242, 0.0181, 0.0164, 0.015, 0.0139, 0.0114, 0.0111, 0.0105, 0.0098, 0.0089, 0.0074, 0.006, 0.0037], \"textposition\": \"outside\", \"x\": [0.3092025887394032, 0.20165932549620763, 0.08636934579865922, 0.07715874872099972, 0.05654786250722742, 0.03396203947237706, 0.028059588969464956, 0.025887095762737573, 0.024756916772485503, 0.024236859082418703, 0.018093991570069846, 0.01639219195020782, 0.015004648040941721, 0.013914627217866866, 0.01140446175968258, 0.01106834169610459, 0.010511653093139076, 0.009772982410141599, 0.008854257237613428, 0.0074118297336789, 0.005993268217774272, 0.003737375750798319], \"y\": [\"http_header_content-length\", \"http_header_content-encoding_gzip\", \"http_header_transfer-encoding_chunked\", \"http_header_vary_accept\", \"http_header_content-language_text/html\", \"http_header_server_apache\", \"http_header_connection_keep-alive\", \"http_header_cache-control_set_max-age\", \"http_header_server_nginx\", \"http_header_cache-control_set_no-store\", \"http_header_pragmano-cache\", \"http_header_connection_close\", \"http_header_cache-control_set_no-cache\", \"http_header_vary_age\", \"http_header_cache-control_set_private\", \"http_header_x-xss-enabled\", \"http_header_strict-transport-security_max-age\", \"http_header_expect-ctmax-age\", \"http_header_cache-control_set_must-revalidate\", \"http_header_via_1.1\", \"http_header_x-cintent-type-options_nosniff\", \"http_header_cache-control_set_public\"], \"type\": \"bar\", \"uid\": \"9ffa5131-b1b6-4c89-b990-2117356c7190\"}], {\"autosize\": false, \"height\": 1000, \"width\": 1000, \"xaxis\": {\"tickfont\": {\"color\": \"black\", \"size\": 12}, \"title\": \"Feature Importances\"}, \"yaxis\": {\"automargin\": true}}, {\"showLink\": true, \"linkText\": \"Export to plot.ly\", \"plotlyServerURL\": \"https://plot.ly\"})});</script>"
      ],
      "text/vnd.plotly.v1+html": [
       "<div id=\"028d9e17-3af9-4f69-b464-303ae78c3b7f\" style=\"height: 1000px; width: 1000px;\" class=\"plotly-graph-div\"></div><script type=\"text/javascript\">require([\"plotly\"], function(Plotly) { window.PLOTLYENV=window.PLOTLYENV || {};window.PLOTLYENV.BASE_URL=\"https://plot.ly\";Plotly.newPlot(\"028d9e17-3af9-4f69-b464-303ae78c3b7f\", [{\"marker\": {\"color\": \"rgb(158,202,225)\", \"line\": {\"color\": \"rgb(8,48,107)\", \"width\": 1.5}}, \"opacity\": 0.6, \"orientation\": \"h\", \"text\": [0.3092, 0.2017, 0.0864, 0.0772, 0.0565, 0.034, 0.0281, 0.0259, 0.0248, 0.0242, 0.0181, 0.0164, 0.015, 0.0139, 0.0114, 0.0111, 0.0105, 0.0098, 0.0089, 0.0074, 0.006, 0.0037], \"textposition\": \"outside\", \"x\": [0.3092025887394032, 0.20165932549620763, 0.08636934579865922, 0.07715874872099972, 0.05654786250722742, 0.03396203947237706, 0.028059588969464956, 0.025887095762737573, 0.024756916772485503, 0.024236859082418703, 0.018093991570069846, 0.01639219195020782, 0.015004648040941721, 0.013914627217866866, 0.01140446175968258, 0.01106834169610459, 0.010511653093139076, 0.009772982410141599, 0.008854257237613428, 0.0074118297336789, 0.005993268217774272, 0.003737375750798319], \"y\": [\"http_header_content-length\", \"http_header_content-encoding_gzip\", \"http_header_transfer-encoding_chunked\", \"http_header_vary_accept\", \"http_header_content-language_text/html\", \"http_header_server_apache\", \"http_header_connection_keep-alive\", \"http_header_cache-control_set_max-age\", \"http_header_server_nginx\", \"http_header_cache-control_set_no-store\", \"http_header_pragmano-cache\", \"http_header_connection_close\", \"http_header_cache-control_set_no-cache\", \"http_header_vary_age\", \"http_header_cache-control_set_private\", \"http_header_x-xss-enabled\", \"http_header_strict-transport-security_max-age\", \"http_header_expect-ctmax-age\", \"http_header_cache-control_set_must-revalidate\", \"http_header_via_1.1\", \"http_header_x-cintent-type-options_nosniff\", \"http_header_cache-control_set_public\"], \"type\": \"bar\", \"uid\": \"9ffa5131-b1b6-4c89-b990-2117356c7190\"}], {\"autosize\": false, \"height\": 1000, \"width\": 1000, \"xaxis\": {\"tickfont\": {\"color\": \"black\", \"size\": 12}, \"title\": \"Feature Importances\"}, \"yaxis\": {\"automargin\": true}}, {\"showLink\": true, \"linkText\": \"Export to plot.ly\", \"plotlyServerURL\": \"https://plot.ly\"})});</script>"
      ]
     },
     "metadata": {},
     "output_type": "display_data"
    },
    {
     "name": "stdout",
     "output_type": "stream",
     "text": [
      "\n",
      "\n",
      "\u001b[1mAdaoost Classifier\u001b[0m\n",
      "Accuracy of the model for training data is: 0.894804274343\n",
      "Confusion Matrix for training data is:\n"
     ]
    },
    {
     "data": {
      "text/plain": [
       "Predicted  False  True  __all__\n",
       "Actual                         \n",
       "False      29264  2589    31853\n",
       "True        1270  3561     4831\n",
       "__all__    30534  6150    36684"
      ]
     },
     "metadata": {},
     "output_type": "display_data"
    },
    {
     "name": "stdout",
     "output_type": "stream",
     "text": [
      "Accuracy of the model for test data is: 0.895442651548\n",
      "Confusion Matrix for test data is:\n"
     ]
    },
    {
     "data": {
      "text/plain": [
       "Predicted  False  True  __all__\n",
       "Actual                         \n",
       "False       7337   645     7982\n",
       "True         314   876     1190\n",
       "__all__     7651  1521     9172"
      ]
     },
     "metadata": {},
     "output_type": "display_data"
    },
    {
     "data": {
      "application/vnd.plotly.v1+json": {
       "config": {
        "linkText": "Export to plot.ly",
        "plotlyServerURL": "https://plot.ly",
        "showLink": true
       },
       "data": [
        {
         "marker": {
          "color": "rgb(158,202,225)",
          "line": {
           "color": "rgb(8,48,107)",
           "width": 1.5
          }
         },
         "opacity": 0.6,
         "orientation": "h",
         "text": [
          0.5,
          0.1,
          0.08,
          0.04,
          0.04,
          0.04,
          0.04,
          0.04,
          0.02,
          0.02,
          0.02,
          0.02,
          0.02,
          0.02,
          0,
          0,
          0,
          0,
          0,
          0,
          0,
          0
         ],
         "textposition": "outside",
         "type": "bar",
         "uid": "8c8dd21c-9b08-42e0-9763-66119295d765",
         "x": [
          0.5,
          0.1,
          0.08,
          0.04,
          0.04,
          0.04,
          0.04,
          0.04,
          0.02,
          0.02,
          0.02,
          0.02,
          0.02,
          0.02,
          0,
          0,
          0,
          0,
          0,
          0,
          0,
          0
         ],
         "y": [
          "http_header_content-length",
          "http_header_content-encoding_gzip",
          "http_header_transfer-encoding_chunked",
          "http_header_cache-control_set_max-age",
          "http_header_x-cintent-type-options_nosniff",
          "http_header_pragmano-cache",
          "http_header_expect-ctmax-age",
          "http_header_cache-control_set_no-store",
          "http_header_connection_keep-alive",
          "http_header_cache-control_set_private",
          "http_header_server_apache",
          "http_header_server_nginx",
          "http_header_vary_accept",
          "http_header_via_1.1",
          "http_header_connection_close",
          "http_header_content-language_text/html",
          "http_header_cache-control_set_public",
          "http_header_cache-control_set_must-revalidate",
          "http_header_strict-transport-security_max-age",
          "http_header_vary_age",
          "http_header_cache-control_set_no-cache",
          "http_header_x-xss-enabled"
         ]
        }
       ],
       "layout": {
        "autosize": false,
        "height": 1000,
        "width": 1000,
        "xaxis": {
         "tickfont": {
          "color": "black",
          "size": 12
         },
         "title": "Feature Importances"
        },
        "yaxis": {
         "automargin": true
        }
       }
      },
      "text/html": [
       "<div id=\"562c4441-9c98-4de0-9e86-5d91e69b3cb1\" style=\"height: 1000px; width: 1000px;\" class=\"plotly-graph-div\"></div><script type=\"text/javascript\">require([\"plotly\"], function(Plotly) { window.PLOTLYENV=window.PLOTLYENV || {};window.PLOTLYENV.BASE_URL=\"https://plot.ly\";Plotly.newPlot(\"562c4441-9c98-4de0-9e86-5d91e69b3cb1\", [{\"marker\": {\"color\": \"rgb(158,202,225)\", \"line\": {\"color\": \"rgb(8,48,107)\", \"width\": 1.5}}, \"opacity\": 0.6, \"orientation\": \"h\", \"text\": [0.5, 0.1, 0.08, 0.04, 0.04, 0.04, 0.04, 0.04, 0.02, 0.02, 0.02, 0.02, 0.02, 0.02, 0.0, 0.0, 0.0, 0.0, 0.0, 0.0, 0.0, 0.0], \"textposition\": \"outside\", \"x\": [0.5, 0.1, 0.08, 0.04, 0.04, 0.04, 0.04, 0.04, 0.02, 0.02, 0.02, 0.02, 0.02, 0.02, 0.0, 0.0, 0.0, 0.0, 0.0, 0.0, 0.0, 0.0], \"y\": [\"http_header_content-length\", \"http_header_content-encoding_gzip\", \"http_header_transfer-encoding_chunked\", \"http_header_cache-control_set_max-age\", \"http_header_x-cintent-type-options_nosniff\", \"http_header_pragmano-cache\", \"http_header_expect-ctmax-age\", \"http_header_cache-control_set_no-store\", \"http_header_connection_keep-alive\", \"http_header_cache-control_set_private\", \"http_header_server_apache\", \"http_header_server_nginx\", \"http_header_vary_accept\", \"http_header_via_1.1\", \"http_header_connection_close\", \"http_header_content-language_text/html\", \"http_header_cache-control_set_public\", \"http_header_cache-control_set_must-revalidate\", \"http_header_strict-transport-security_max-age\", \"http_header_vary_age\", \"http_header_cache-control_set_no-cache\", \"http_header_x-xss-enabled\"], \"type\": \"bar\", \"uid\": \"8c8dd21c-9b08-42e0-9763-66119295d765\"}], {\"autosize\": false, \"height\": 1000, \"width\": 1000, \"xaxis\": {\"tickfont\": {\"color\": \"black\", \"size\": 12}, \"title\": \"Feature Importances\"}, \"yaxis\": {\"automargin\": true}}, {\"showLink\": true, \"linkText\": \"Export to plot.ly\", \"plotlyServerURL\": \"https://plot.ly\"})});</script>"
      ],
      "text/vnd.plotly.v1+html": [
       "<div id=\"562c4441-9c98-4de0-9e86-5d91e69b3cb1\" style=\"height: 1000px; width: 1000px;\" class=\"plotly-graph-div\"></div><script type=\"text/javascript\">require([\"plotly\"], function(Plotly) { window.PLOTLYENV=window.PLOTLYENV || {};window.PLOTLYENV.BASE_URL=\"https://plot.ly\";Plotly.newPlot(\"562c4441-9c98-4de0-9e86-5d91e69b3cb1\", [{\"marker\": {\"color\": \"rgb(158,202,225)\", \"line\": {\"color\": \"rgb(8,48,107)\", \"width\": 1.5}}, \"opacity\": 0.6, \"orientation\": \"h\", \"text\": [0.5, 0.1, 0.08, 0.04, 0.04, 0.04, 0.04, 0.04, 0.02, 0.02, 0.02, 0.02, 0.02, 0.02, 0.0, 0.0, 0.0, 0.0, 0.0, 0.0, 0.0, 0.0], \"textposition\": \"outside\", \"x\": [0.5, 0.1, 0.08, 0.04, 0.04, 0.04, 0.04, 0.04, 0.02, 0.02, 0.02, 0.02, 0.02, 0.02, 0.0, 0.0, 0.0, 0.0, 0.0, 0.0, 0.0, 0.0], \"y\": [\"http_header_content-length\", \"http_header_content-encoding_gzip\", \"http_header_transfer-encoding_chunked\", \"http_header_cache-control_set_max-age\", \"http_header_x-cintent-type-options_nosniff\", \"http_header_pragmano-cache\", \"http_header_expect-ctmax-age\", \"http_header_cache-control_set_no-store\", \"http_header_connection_keep-alive\", \"http_header_cache-control_set_private\", \"http_header_server_apache\", \"http_header_server_nginx\", \"http_header_vary_accept\", \"http_header_via_1.1\", \"http_header_connection_close\", \"http_header_content-language_text/html\", \"http_header_cache-control_set_public\", \"http_header_cache-control_set_must-revalidate\", \"http_header_strict-transport-security_max-age\", \"http_header_vary_age\", \"http_header_cache-control_set_no-cache\", \"http_header_x-xss-enabled\"], \"type\": \"bar\", \"uid\": \"8c8dd21c-9b08-42e0-9763-66119295d765\"}], {\"autosize\": false, \"height\": 1000, \"width\": 1000, \"xaxis\": {\"tickfont\": {\"color\": \"black\", \"size\": 12}, \"title\": \"Feature Importances\"}, \"yaxis\": {\"automargin\": true}}, {\"showLink\": true, \"linkText\": \"Export to plot.ly\", \"plotlyServerURL\": \"https://plot.ly\"})});</script>"
      ]
     },
     "metadata": {},
     "output_type": "display_data"
    },
    {
     "name": "stdout",
     "output_type": "stream",
     "text": [
      "\n",
      "\n",
      "\u001b[1mGradientBoosting Classifier\u001b[0m\n",
      "Accuracy of the model for training data is: 0.907043942863\n",
      "Confusion Matrix for training data is:\n"
     ]
    },
    {
     "data": {
      "text/plain": [
       "Predicted  False  True  __all__\n",
       "Actual                         \n",
       "False      29348  2505    31853\n",
       "True         905  3926     4831\n",
       "__all__    30253  6431    36684"
      ]
     },
     "metadata": {},
     "output_type": "display_data"
    },
    {
     "name": "stdout",
     "output_type": "stream",
     "text": [
      "Accuracy of the model for test data is: 0.905146096816\n",
      "Confusion Matrix for test data is:\n"
     ]
    },
    {
     "data": {
      "text/plain": [
       "Predicted  False  True  __all__\n",
       "Actual                         \n",
       "False       7348   634     7982\n",
       "True         236   954     1190\n",
       "__all__     7584  1588     9172"
      ]
     },
     "metadata": {},
     "output_type": "display_data"
    },
    {
     "data": {
      "application/vnd.plotly.v1+json": {
       "config": {
        "linkText": "Export to plot.ly",
        "plotlyServerURL": "https://plot.ly",
        "showLink": true
       },
       "data": [
        {
         "marker": {
          "color": "rgb(158,202,225)",
          "line": {
           "color": "rgb(8,48,107)",
           "width": 1.5
          }
         },
         "opacity": 0.6,
         "orientation": "h",
         "text": [
          0.4622,
          0.2818,
          0.0895,
          0.0575,
          0.0474,
          0.019,
          0.008,
          0.0072,
          0.0045,
          0.0045,
          0.0044,
          0.0037,
          0.0023,
          0.0015,
          0.0014,
          0.0012,
          0.0011,
          0.001,
          0.0006,
          0.0004,
          0.0004,
          0.0003
         ],
         "textposition": "outside",
         "type": "bar",
         "uid": "a34930d8-0b47-42e7-91f9-1e5450be8d2f",
         "x": [
          0.4622202684346204,
          0.28175199403128853,
          0.08952024954093224,
          0.0574595470517486,
          0.047412011488577786,
          0.01900438859916717,
          0.00801485543403245,
          0.007232701331656947,
          0.004522895289075941,
          0.0044589193149769495,
          0.004447459615839042,
          0.0036658886752785444,
          0.0023351507928048992,
          0.0014686347561486185,
          0.0014008423617972495,
          0.0011662290016469614,
          0.0011234533503208717,
          0.0009953425818246399,
          0.0006307732159133733,
          0.00043709016910948526,
          0.0004101661197238209,
          0.000321138843515683
         ],
         "y": [
          "http_header_content-encoding_gzip",
          "http_header_content-length",
          "http_header_transfer-encoding_chunked",
          "http_header_content-language_text/html",
          "http_header_server_apache",
          "http_header_cache-control_set_must-revalidate",
          "http_header_pragmano-cache",
          "http_header_connection_keep-alive",
          "http_header_cache-control_set_max-age",
          "http_header_connection_close",
          "http_header_vary_age",
          "http_header_server_nginx",
          "http_header_vary_accept",
          "http_header_via_1.1",
          "http_header_cache-control_set_no-cache",
          "http_header_cache-control_set_no-store",
          "http_header_cache-control_set_private",
          "http_header_expect-ctmax-age",
          "http_header_strict-transport-security_max-age",
          "http_header_x-cintent-type-options_nosniff",
          "http_header_cache-control_set_public",
          "http_header_x-xss-enabled"
         ]
        }
       ],
       "layout": {
        "autosize": false,
        "height": 1000,
        "width": 1000,
        "xaxis": {
         "tickfont": {
          "color": "black",
          "size": 12
         },
         "title": "Feature Importances"
        },
        "yaxis": {
         "automargin": true
        }
       }
      },
      "text/html": [
       "<div id=\"a710f25f-3ebc-4eda-93aa-3197f0a6ae5e\" style=\"height: 1000px; width: 1000px;\" class=\"plotly-graph-div\"></div><script type=\"text/javascript\">require([\"plotly\"], function(Plotly) { window.PLOTLYENV=window.PLOTLYENV || {};window.PLOTLYENV.BASE_URL=\"https://plot.ly\";Plotly.newPlot(\"a710f25f-3ebc-4eda-93aa-3197f0a6ae5e\", [{\"marker\": {\"color\": \"rgb(158,202,225)\", \"line\": {\"color\": \"rgb(8,48,107)\", \"width\": 1.5}}, \"opacity\": 0.6, \"orientation\": \"h\", \"text\": [0.4622, 0.2818, 0.0895, 0.0575, 0.0474, 0.019, 0.008, 0.0072, 0.0045, 0.0045, 0.0044, 0.0037, 0.0023, 0.0015, 0.0014, 0.0012, 0.0011, 0.001, 0.0006, 0.0004, 0.0004, 0.0003], \"textposition\": \"outside\", \"x\": [0.4622202684346204, 0.28175199403128853, 0.08952024954093224, 0.0574595470517486, 0.047412011488577786, 0.01900438859916717, 0.00801485543403245, 0.007232701331656947, 0.004522895289075941, 0.0044589193149769495, 0.004447459615839042, 0.0036658886752785444, 0.0023351507928048992, 0.0014686347561486185, 0.0014008423617972495, 0.0011662290016469614, 0.0011234533503208717, 0.0009953425818246399, 0.0006307732159133733, 0.00043709016910948526, 0.0004101661197238209, 0.000321138843515683], \"y\": [\"http_header_content-encoding_gzip\", \"http_header_content-length\", \"http_header_transfer-encoding_chunked\", \"http_header_content-language_text/html\", \"http_header_server_apache\", \"http_header_cache-control_set_must-revalidate\", \"http_header_pragmano-cache\", \"http_header_connection_keep-alive\", \"http_header_cache-control_set_max-age\", \"http_header_connection_close\", \"http_header_vary_age\", \"http_header_server_nginx\", \"http_header_vary_accept\", \"http_header_via_1.1\", \"http_header_cache-control_set_no-cache\", \"http_header_cache-control_set_no-store\", \"http_header_cache-control_set_private\", \"http_header_expect-ctmax-age\", \"http_header_strict-transport-security_max-age\", \"http_header_x-cintent-type-options_nosniff\", \"http_header_cache-control_set_public\", \"http_header_x-xss-enabled\"], \"type\": \"bar\", \"uid\": \"a34930d8-0b47-42e7-91f9-1e5450be8d2f\"}], {\"autosize\": false, \"height\": 1000, \"width\": 1000, \"xaxis\": {\"tickfont\": {\"color\": \"black\", \"size\": 12}, \"title\": \"Feature Importances\"}, \"yaxis\": {\"automargin\": true}}, {\"showLink\": true, \"linkText\": \"Export to plot.ly\", \"plotlyServerURL\": \"https://plot.ly\"})});</script>"
      ],
      "text/vnd.plotly.v1+html": [
       "<div id=\"a710f25f-3ebc-4eda-93aa-3197f0a6ae5e\" style=\"height: 1000px; width: 1000px;\" class=\"plotly-graph-div\"></div><script type=\"text/javascript\">require([\"plotly\"], function(Plotly) { window.PLOTLYENV=window.PLOTLYENV || {};window.PLOTLYENV.BASE_URL=\"https://plot.ly\";Plotly.newPlot(\"a710f25f-3ebc-4eda-93aa-3197f0a6ae5e\", [{\"marker\": {\"color\": \"rgb(158,202,225)\", \"line\": {\"color\": \"rgb(8,48,107)\", \"width\": 1.5}}, \"opacity\": 0.6, \"orientation\": \"h\", \"text\": [0.4622, 0.2818, 0.0895, 0.0575, 0.0474, 0.019, 0.008, 0.0072, 0.0045, 0.0045, 0.0044, 0.0037, 0.0023, 0.0015, 0.0014, 0.0012, 0.0011, 0.001, 0.0006, 0.0004, 0.0004, 0.0003], \"textposition\": \"outside\", \"x\": [0.4622202684346204, 0.28175199403128853, 0.08952024954093224, 0.0574595470517486, 0.047412011488577786, 0.01900438859916717, 0.00801485543403245, 0.007232701331656947, 0.004522895289075941, 0.0044589193149769495, 0.004447459615839042, 0.0036658886752785444, 0.0023351507928048992, 0.0014686347561486185, 0.0014008423617972495, 0.0011662290016469614, 0.0011234533503208717, 0.0009953425818246399, 0.0006307732159133733, 0.00043709016910948526, 0.0004101661197238209, 0.000321138843515683], \"y\": [\"http_header_content-encoding_gzip\", \"http_header_content-length\", \"http_header_transfer-encoding_chunked\", \"http_header_content-language_text/html\", \"http_header_server_apache\", \"http_header_cache-control_set_must-revalidate\", \"http_header_pragmano-cache\", \"http_header_connection_keep-alive\", \"http_header_cache-control_set_max-age\", \"http_header_connection_close\", \"http_header_vary_age\", \"http_header_server_nginx\", \"http_header_vary_accept\", \"http_header_via_1.1\", \"http_header_cache-control_set_no-cache\", \"http_header_cache-control_set_no-store\", \"http_header_cache-control_set_private\", \"http_header_expect-ctmax-age\", \"http_header_strict-transport-security_max-age\", \"http_header_x-cintent-type-options_nosniff\", \"http_header_cache-control_set_public\", \"http_header_x-xss-enabled\"], \"type\": \"bar\", \"uid\": \"a34930d8-0b47-42e7-91f9-1e5450be8d2f\"}], {\"autosize\": false, \"height\": 1000, \"width\": 1000, \"xaxis\": {\"tickfont\": {\"color\": \"black\", \"size\": 12}, \"title\": \"Feature Importances\"}, \"yaxis\": {\"automargin\": true}}, {\"showLink\": true, \"linkText\": \"Export to plot.ly\", \"plotlyServerURL\": \"https://plot.ly\"})});</script>"
      ]
     },
     "metadata": {},
     "output_type": "display_data"
    },
    {
     "name": "stdout",
     "output_type": "stream",
     "text": [
      "\n",
      "\n",
      "\u001b[1mExtraTree Classifier\u001b[0m\n",
      "Accuracy of the model for training data is: 0.921055501036\n",
      "Confusion Matrix for training data is:\n"
     ]
    },
    {
     "data": {
      "text/plain": [
       "Predicted  False  True  __all__\n",
       "Actual                         \n",
       "False      29399  2454    31853\n",
       "True         442  4389     4831\n",
       "__all__    29841  6843    36684"
      ]
     },
     "metadata": {},
     "output_type": "display_data"
    },
    {
     "name": "stdout",
     "output_type": "stream",
     "text": [
      "Accuracy of the model for test data is: 0.908416921064\n",
      "Confusion Matrix for test data is:\n"
     ]
    },
    {
     "data": {
      "text/plain": [
       "Predicted  False  True  __all__\n",
       "Actual                         \n",
       "False       7315   667     7982\n",
       "True         173  1017     1190\n",
       "__all__     7488  1684     9172"
      ]
     },
     "metadata": {},
     "output_type": "display_data"
    },
    {
     "data": {
      "application/vnd.plotly.v1+json": {
       "config": {
        "linkText": "Export to plot.ly",
        "plotlyServerURL": "https://plot.ly",
        "showLink": true
       },
       "data": [
        {
         "marker": {
          "color": "rgb(158,202,225)",
          "line": {
           "color": "rgb(8,48,107)",
           "width": 1.5
          }
         },
         "opacity": 0.6,
         "orientation": "h",
         "text": [
          0.2341,
          0.1843,
          0.0952,
          0.0672,
          0.0641,
          0.0619,
          0.0446,
          0.0348,
          0.0325,
          0.0308,
          0.0222,
          0.0219,
          0.0211,
          0.0192,
          0.0172,
          0.0132,
          0.0095,
          0.0089,
          0.0065,
          0.0051,
          0.0032,
          0.0026
         ],
         "textposition": "outside",
         "type": "bar",
         "uid": "d633f9f9-9ff9-4c89-bba9-5385240d94ca",
         "x": [
          0.23405759109366478,
          0.18431386695200278,
          0.09524190093587395,
          0.06715414302610048,
          0.06412473685782306,
          0.061889504657705416,
          0.04456985579123232,
          0.03481646568607231,
          0.03248181272942852,
          0.03083626237067001,
          0.022171433594675927,
          0.021879369366604208,
          0.02111902483397063,
          0.01918141679556635,
          0.017190852450551304,
          0.013228042361052456,
          0.009528276782172234,
          0.008874530958263654,
          0.006515650361875529,
          0.005050381486530976,
          0.003203214785455117,
          0.0025716661227080185
         ],
         "y": [
          "http_header_content-length",
          "http_header_content-language_text/html",
          "http_header_vary_accept",
          "http_header_transfer-encoding_chunked",
          "http_header_content-encoding_gzip",
          "http_header_server_apache",
          "http_header_connection_keep-alive",
          "http_header_cache-control_set_max-age",
          "http_header_server_nginx",
          "http_header_connection_close",
          "http_header_cache-control_set_no-store",
          "http_header_cache-control_set_private",
          "http_header_cache-control_set_must-revalidate",
          "http_header_pragmano-cache",
          "http_header_vary_age",
          "http_header_cache-control_set_no-cache",
          "http_header_strict-transport-security_max-age",
          "http_header_via_1.1",
          "http_header_x-cintent-type-options_nosniff",
          "http_header_x-xss-enabled",
          "http_header_expect-ctmax-age",
          "http_header_cache-control_set_public"
         ]
        }
       ],
       "layout": {
        "autosize": false,
        "height": 1000,
        "width": 1000,
        "xaxis": {
         "tickfont": {
          "color": "black",
          "size": 12
         },
         "title": "Feature Importances"
        },
        "yaxis": {
         "automargin": true
        }
       }
      },
      "text/html": [
       "<div id=\"752b0815-704d-40d9-a604-950012f75b4b\" style=\"height: 1000px; width: 1000px;\" class=\"plotly-graph-div\"></div><script type=\"text/javascript\">require([\"plotly\"], function(Plotly) { window.PLOTLYENV=window.PLOTLYENV || {};window.PLOTLYENV.BASE_URL=\"https://plot.ly\";Plotly.newPlot(\"752b0815-704d-40d9-a604-950012f75b4b\", [{\"marker\": {\"color\": \"rgb(158,202,225)\", \"line\": {\"color\": \"rgb(8,48,107)\", \"width\": 1.5}}, \"opacity\": 0.6, \"orientation\": \"h\", \"text\": [0.2341, 0.1843, 0.0952, 0.0672, 0.0641, 0.0619, 0.0446, 0.0348, 0.0325, 0.0308, 0.0222, 0.0219, 0.0211, 0.0192, 0.0172, 0.0132, 0.0095, 0.0089, 0.0065, 0.0051, 0.0032, 0.0026], \"textposition\": \"outside\", \"x\": [0.23405759109366478, 0.18431386695200278, 0.09524190093587395, 0.06715414302610048, 0.06412473685782306, 0.061889504657705416, 0.04456985579123232, 0.03481646568607231, 0.03248181272942852, 0.03083626237067001, 0.022171433594675927, 0.021879369366604208, 0.02111902483397063, 0.01918141679556635, 0.017190852450551304, 0.013228042361052456, 0.009528276782172234, 0.008874530958263654, 0.006515650361875529, 0.005050381486530976, 0.003203214785455117, 0.0025716661227080185], \"y\": [\"http_header_content-length\", \"http_header_content-language_text/html\", \"http_header_vary_accept\", \"http_header_transfer-encoding_chunked\", \"http_header_content-encoding_gzip\", \"http_header_server_apache\", \"http_header_connection_keep-alive\", \"http_header_cache-control_set_max-age\", \"http_header_server_nginx\", \"http_header_connection_close\", \"http_header_cache-control_set_no-store\", \"http_header_cache-control_set_private\", \"http_header_cache-control_set_must-revalidate\", \"http_header_pragmano-cache\", \"http_header_vary_age\", \"http_header_cache-control_set_no-cache\", \"http_header_strict-transport-security_max-age\", \"http_header_via_1.1\", \"http_header_x-cintent-type-options_nosniff\", \"http_header_x-xss-enabled\", \"http_header_expect-ctmax-age\", \"http_header_cache-control_set_public\"], \"type\": \"bar\", \"uid\": \"d633f9f9-9ff9-4c89-bba9-5385240d94ca\"}], {\"autosize\": false, \"height\": 1000, \"width\": 1000, \"xaxis\": {\"tickfont\": {\"color\": \"black\", \"size\": 12}, \"title\": \"Feature Importances\"}, \"yaxis\": {\"automargin\": true}}, {\"showLink\": true, \"linkText\": \"Export to plot.ly\", \"plotlyServerURL\": \"https://plot.ly\"})});</script>"
      ],
      "text/vnd.plotly.v1+html": [
       "<div id=\"752b0815-704d-40d9-a604-950012f75b4b\" style=\"height: 1000px; width: 1000px;\" class=\"plotly-graph-div\"></div><script type=\"text/javascript\">require([\"plotly\"], function(Plotly) { window.PLOTLYENV=window.PLOTLYENV || {};window.PLOTLYENV.BASE_URL=\"https://plot.ly\";Plotly.newPlot(\"752b0815-704d-40d9-a604-950012f75b4b\", [{\"marker\": {\"color\": \"rgb(158,202,225)\", \"line\": {\"color\": \"rgb(8,48,107)\", \"width\": 1.5}}, \"opacity\": 0.6, \"orientation\": \"h\", \"text\": [0.2341, 0.1843, 0.0952, 0.0672, 0.0641, 0.0619, 0.0446, 0.0348, 0.0325, 0.0308, 0.0222, 0.0219, 0.0211, 0.0192, 0.0172, 0.0132, 0.0095, 0.0089, 0.0065, 0.0051, 0.0032, 0.0026], \"textposition\": \"outside\", \"x\": [0.23405759109366478, 0.18431386695200278, 0.09524190093587395, 0.06715414302610048, 0.06412473685782306, 0.061889504657705416, 0.04456985579123232, 0.03481646568607231, 0.03248181272942852, 0.03083626237067001, 0.022171433594675927, 0.021879369366604208, 0.02111902483397063, 0.01918141679556635, 0.017190852450551304, 0.013228042361052456, 0.009528276782172234, 0.008874530958263654, 0.006515650361875529, 0.005050381486530976, 0.003203214785455117, 0.0025716661227080185], \"y\": [\"http_header_content-length\", \"http_header_content-language_text/html\", \"http_header_vary_accept\", \"http_header_transfer-encoding_chunked\", \"http_header_content-encoding_gzip\", \"http_header_server_apache\", \"http_header_connection_keep-alive\", \"http_header_cache-control_set_max-age\", \"http_header_server_nginx\", \"http_header_connection_close\", \"http_header_cache-control_set_no-store\", \"http_header_cache-control_set_private\", \"http_header_cache-control_set_must-revalidate\", \"http_header_pragmano-cache\", \"http_header_vary_age\", \"http_header_cache-control_set_no-cache\", \"http_header_strict-transport-security_max-age\", \"http_header_via_1.1\", \"http_header_x-cintent-type-options_nosniff\", \"http_header_x-xss-enabled\", \"http_header_expect-ctmax-age\", \"http_header_cache-control_set_public\"], \"type\": \"bar\", \"uid\": \"d633f9f9-9ff9-4c89-bba9-5385240d94ca\"}], {\"autosize\": false, \"height\": 1000, \"width\": 1000, \"xaxis\": {\"tickfont\": {\"color\": \"black\", \"size\": 12}, \"title\": \"Feature Importances\"}, \"yaxis\": {\"automargin\": true}}, {\"showLink\": true, \"linkText\": \"Export to plot.ly\", \"plotlyServerURL\": \"https://plot.ly\"})});</script>"
      ]
     },
     "metadata": {},
     "output_type": "display_data"
    },
    {
     "name": "stdout",
     "output_type": "stream",
     "text": [
      "\n",
      "\n",
      "\u001b[1mBagging Classifier\u001b[0m\n",
      "Accuracy of the model for training data is: 0.919474430269\n",
      "Confusion Matrix for training data is:\n"
     ]
    },
    {
     "data": {
      "text/plain": [
       "Predicted  False  True  __all__\n",
       "Actual                         \n",
       "False      29373  2480    31853\n",
       "True         474  4357     4831\n",
       "__all__    29847  6837    36684"
      ]
     },
     "metadata": {},
     "output_type": "display_data"
    },
    {
     "name": "stdout",
     "output_type": "stream",
     "text": [
      "Accuracy of the model for test data is: 0.909507195813\n",
      "Confusion Matrix for test data is:\n"
     ]
    },
    {
     "data": {
      "text/plain": [
       "Predicted  False  True  __all__\n",
       "Actual                         \n",
       "False       7329   653     7982\n",
       "True         177  1013     1190\n",
       "__all__     7506  1666     9172"
      ]
     },
     "metadata": {},
     "output_type": "display_data"
    },
    {
     "name": "stdout",
     "output_type": "stream",
     "text": [
      "\n",
      "\n",
      "\u001b[1mNeural Network-1\u001b[0m\n",
      "The accuracy of the model on training data is: 0.906798604296\n"
     ]
    },
    {
     "data": {
      "text/plain": [
       "Predicted  False  True  __all__\n",
       "Actual                         \n",
       "False      29184  2669    31853\n",
       "True         750  4081     4831\n",
       "__all__    29934  6750    36684"
      ]
     },
     "metadata": {},
     "output_type": "display_data"
    },
    {
     "name": "stdout",
     "output_type": "stream",
     "text": [
      "The accuracy of the model on test data is: 0.905255124291\n"
     ]
    },
    {
     "data": {
      "text/plain": [
       "Predicted  False  True  __all__\n",
       "Actual                         \n",
       "False       7319   663     7982\n",
       "True         206   984     1190\n",
       "__all__     7525  1647     9172"
      ]
     },
     "metadata": {},
     "output_type": "display_data"
    },
    {
     "name": "stdout",
     "output_type": "stream",
     "text": [
      "\n",
      "\n"
     ]
    }
   ],
   "source": [
    "feat_imp=[None]*4\n",
    "j=0\n",
    "for i in range(0,8):\n",
    "    if i>=2 and i<=5:\n",
    "        model,cm_train,cm_test,acc_train,acc_test,roc_auc,feat_imp[j],mcc=f[i](scaled_X_train,train_Y,scaled_X_test,test_Y,columns[:-2])\n",
    "        j=j+1\n",
    "    else:\n",
    "        model,cm_train,cm_test,acc_train,acc_test,roc_auc,mcc=f[i](scaled_X_train,train_Y,scaled_X_test,test_Y)\n",
    "    table_80_50_train.loc[i]=   ([acc_train,cm_train.TP,cm_train.TN,cm_train.FP,cm_train.FN,cm_train.FPR,cm_train.FNR])\n",
    "    table_80_50_test.loc[i] =   ([acc_test ,cm_test.TP, cm_test.TN, cm_test.FP, cm_test.FN, cm_test.FPR, cm_test.FNR,roc_auc,mcc])\n",
    "    print(\"\\n\")"
   ]
  },
  {
   "cell_type": "markdown",
   "metadata": {},
   "source": [
    "### <a id='1.A' style=\"text-decoration : none; color : #000000;\"> A Results</a>"
   ]
  },
  {
   "cell_type": "code",
   "execution_count": 24,
   "metadata": {},
   "outputs": [
    {
     "data": {
      "application/vnd.plotly.v1+json": {
       "config": {
        "linkText": "Export to plot.ly",
        "plotlyServerURL": "https://plot.ly",
        "showLink": true
       },
       "data": [
        {
         "mode": "lines",
         "name": "KNN_model",
         "type": "scatter",
         "uid": "7a9b6a2e-db36-4a9e-8d33-9a89b37f5e29",
         "x": [
          "accuracy",
          "FPR",
          "FNR",
          "auc"
         ],
         "y": [
          0.904709986916703,
          0.006138812327737409,
          0.6932773109243697,
          0.6502919383739465
         ]
        },
        {
         "mode": "lines+markers",
         "name": "Logistic Regression",
         "type": "scatter",
         "uid": "60954969-9b65-4a41-9c89-5f5d19ad5c02",
         "x": [
          "accuracy",
          "FPR",
          "FNR",
          "auc"
         ],
         "y": [
          0.8839947666812037,
          0.08406414432473064,
          0.3302521008403361,
          0.7928418774174665
         ]
        },
        {
         "marker": {
          "symbol": "x"
         },
         "mode": "lines+markers",
         "name": "Random Forest",
         "type": "scatter",
         "uid": "dad211c9-2bca-4662-9eef-c061968a8037",
         "x": [
          "accuracy",
          "FPR",
          "FNR",
          "auc"
         ],
         "y": [
          0.9092891408634975,
          0.0829366073665748,
          0.14285714285714285,
          0.8871031248881411
         ]
        },
        {
         "mode": "lines",
         "name": "Ada Boost",
         "type": "scatter",
         "uid": "becd3802-d853-455d-888e-cd1cb65c8aa2",
         "x": [
          "accuracy",
          "FPR",
          "FNR",
          "auc"
         ],
         "y": [
          0.8954426515481901,
          0.08080681533450262,
          0.2638655462184874,
          0.827663819223505
         ]
        },
        {
         "mode": "lines+markers",
         "name": "GradientBoosting",
         "type": "scatter",
         "uid": "afa4b113-0b47-4f7f-8452-f8d85a8e67be",
         "x": [
          "accuracy",
          "FPR",
          "FNR",
          "auc"
         ],
         "y": [
          0.9051460968163977,
          0.0794287146078677,
          0.19831932773109243,
          0.8611259788305199
         ]
        },
        {
         "marker": {
          "symbol": "x"
         },
         "mode": "lines+markers",
         "name": "ExtraTree Classifier",
         "type": "scatter",
         "uid": "26d0263e-bcfe-4e24-b5ea-0e87ad012d7f",
         "x": [
          "accuracy",
          "FPR",
          "FNR",
          "auc"
         ],
         "y": [
          0.9084169210641082,
          0.08356301678777249,
          0.1453781512605042,
          0.8855294159758618
         ]
        },
        {
         "marker": {
          "symbol": "x"
         },
         "mode": "lines+markers",
         "name": "Bagging",
         "type": "scatter",
         "uid": "5a17c3db-bb36-4c5a-bde7-b48bc1e9b236",
         "x": [
          "accuracy",
          "FPR",
          "FNR",
          "auc"
         ],
         "y": [
          0.9095071958133449,
          0.08180907040841895,
          0.14873949579831933,
          0.884725716896631
         ]
        },
        {
         "marker": {
          "symbol": "x"
         },
         "mode": "lines+markers",
         "name": "Neural Network",
         "type": "scatter",
         "uid": "797e644d-0261-4de0-8c56-019db7f3e951",
         "x": [
          "accuracy",
          "FPR",
          "FNR",
          "auc"
         ],
         "y": [
          0.9052551242913214,
          0.08306188925081433,
          0.173109243697479,
          0.884725716896631
         ]
        }
       ],
       "layout": {
        "title": "Result comparision for Features selected in Section 1",
        "yaxis": {
         "dtick": 0.05,
         "tick0": 0
        }
       }
      },
      "text/html": [
       "<div id=\"d6f77312-fa3f-45f6-810d-9b99218deb4e\" style=\"height: 525px; width: 100%;\" class=\"plotly-graph-div\"></div><script type=\"text/javascript\">require([\"plotly\"], function(Plotly) { window.PLOTLYENV=window.PLOTLYENV || {};window.PLOTLYENV.BASE_URL=\"https://plot.ly\";Plotly.newPlot(\"d6f77312-fa3f-45f6-810d-9b99218deb4e\", [{\"mode\": \"lines\", \"name\": \"KNN_model\", \"x\": [\"accuracy\", \"FPR\", \"FNR\", \"auc\"], \"y\": [0.904709986916703, 0.006138812327737409, 0.6932773109243697, 0.6502919383739465], \"type\": \"scatter\", \"uid\": \"7a9b6a2e-db36-4a9e-8d33-9a89b37f5e29\"}, {\"mode\": \"lines+markers\", \"name\": \"Logistic Regression\", \"x\": [\"accuracy\", \"FPR\", \"FNR\", \"auc\"], \"y\": [0.8839947666812037, 0.08406414432473064, 0.3302521008403361, 0.7928418774174665], \"type\": \"scatter\", \"uid\": \"60954969-9b65-4a41-9c89-5f5d19ad5c02\"}, {\"marker\": {\"symbol\": \"x\"}, \"mode\": \"lines+markers\", \"name\": \"Random Forest\", \"x\": [\"accuracy\", \"FPR\", \"FNR\", \"auc\"], \"y\": [0.9092891408634975, 0.0829366073665748, 0.14285714285714285, 0.8871031248881411], \"type\": \"scatter\", \"uid\": \"dad211c9-2bca-4662-9eef-c061968a8037\"}, {\"mode\": \"lines\", \"name\": \"Ada Boost\", \"x\": [\"accuracy\", \"FPR\", \"FNR\", \"auc\"], \"y\": [0.8954426515481901, 0.08080681533450262, 0.2638655462184874, 0.827663819223505], \"type\": \"scatter\", \"uid\": \"becd3802-d853-455d-888e-cd1cb65c8aa2\"}, {\"mode\": \"lines+markers\", \"name\": \"GradientBoosting\", \"x\": [\"accuracy\", \"FPR\", \"FNR\", \"auc\"], \"y\": [0.9051460968163977, 0.0794287146078677, 0.19831932773109243, 0.8611259788305199], \"type\": \"scatter\", \"uid\": \"afa4b113-0b47-4f7f-8452-f8d85a8e67be\"}, {\"marker\": {\"symbol\": \"x\"}, \"mode\": \"lines+markers\", \"name\": \"ExtraTree Classifier\", \"x\": [\"accuracy\", \"FPR\", \"FNR\", \"auc\"], \"y\": [0.9084169210641082, 0.08356301678777249, 0.1453781512605042, 0.8855294159758618], \"type\": \"scatter\", \"uid\": \"26d0263e-bcfe-4e24-b5ea-0e87ad012d7f\"}, {\"marker\": {\"symbol\": \"x\"}, \"mode\": \"lines+markers\", \"name\": \"Bagging\", \"x\": [\"accuracy\", \"FPR\", \"FNR\", \"auc\"], \"y\": [0.9095071958133449, 0.08180907040841895, 0.14873949579831933, 0.884725716896631], \"type\": \"scatter\", \"uid\": \"5a17c3db-bb36-4c5a-bde7-b48bc1e9b236\"}, {\"marker\": {\"symbol\": \"x\"}, \"mode\": \"lines+markers\", \"name\": \"Neural Network\", \"x\": [\"accuracy\", \"FPR\", \"FNR\", \"auc\"], \"y\": [0.9052551242913214, 0.08306188925081433, 0.173109243697479, 0.884725716896631], \"type\": \"scatter\", \"uid\": \"797e644d-0261-4de0-8c56-019db7f3e951\"}], {\"title\": \"Result comparision for Features selected in Section 1\", \"yaxis\": {\"dtick\": 0.05, \"tick0\": 0}}, {\"showLink\": true, \"linkText\": \"Export to plot.ly\", \"plotlyServerURL\": \"https://plot.ly\"})});</script><script type=\"text/javascript\">window.addEventListener(\"resize\", function(){window._Plotly.Plots.resize(document.getElementById(\"d6f77312-fa3f-45f6-810d-9b99218deb4e\"));});</script>"
      ],
      "text/vnd.plotly.v1+html": [
       "<div id=\"d6f77312-fa3f-45f6-810d-9b99218deb4e\" style=\"height: 525px; width: 100%;\" class=\"plotly-graph-div\"></div><script type=\"text/javascript\">require([\"plotly\"], function(Plotly) { window.PLOTLYENV=window.PLOTLYENV || {};window.PLOTLYENV.BASE_URL=\"https://plot.ly\";Plotly.newPlot(\"d6f77312-fa3f-45f6-810d-9b99218deb4e\", [{\"mode\": \"lines\", \"name\": \"KNN_model\", \"x\": [\"accuracy\", \"FPR\", \"FNR\", \"auc\"], \"y\": [0.904709986916703, 0.006138812327737409, 0.6932773109243697, 0.6502919383739465], \"type\": \"scatter\", \"uid\": \"7a9b6a2e-db36-4a9e-8d33-9a89b37f5e29\"}, {\"mode\": \"lines+markers\", \"name\": \"Logistic Regression\", \"x\": [\"accuracy\", \"FPR\", \"FNR\", \"auc\"], \"y\": [0.8839947666812037, 0.08406414432473064, 0.3302521008403361, 0.7928418774174665], \"type\": \"scatter\", \"uid\": \"60954969-9b65-4a41-9c89-5f5d19ad5c02\"}, {\"marker\": {\"symbol\": \"x\"}, \"mode\": \"lines+markers\", \"name\": \"Random Forest\", \"x\": [\"accuracy\", \"FPR\", \"FNR\", \"auc\"], \"y\": [0.9092891408634975, 0.0829366073665748, 0.14285714285714285, 0.8871031248881411], \"type\": \"scatter\", \"uid\": \"dad211c9-2bca-4662-9eef-c061968a8037\"}, {\"mode\": \"lines\", \"name\": \"Ada Boost\", \"x\": [\"accuracy\", \"FPR\", \"FNR\", \"auc\"], \"y\": [0.8954426515481901, 0.08080681533450262, 0.2638655462184874, 0.827663819223505], \"type\": \"scatter\", \"uid\": \"becd3802-d853-455d-888e-cd1cb65c8aa2\"}, {\"mode\": \"lines+markers\", \"name\": \"GradientBoosting\", \"x\": [\"accuracy\", \"FPR\", \"FNR\", \"auc\"], \"y\": [0.9051460968163977, 0.0794287146078677, 0.19831932773109243, 0.8611259788305199], \"type\": \"scatter\", \"uid\": \"afa4b113-0b47-4f7f-8452-f8d85a8e67be\"}, {\"marker\": {\"symbol\": \"x\"}, \"mode\": \"lines+markers\", \"name\": \"ExtraTree Classifier\", \"x\": [\"accuracy\", \"FPR\", \"FNR\", \"auc\"], \"y\": [0.9084169210641082, 0.08356301678777249, 0.1453781512605042, 0.8855294159758618], \"type\": \"scatter\", \"uid\": \"26d0263e-bcfe-4e24-b5ea-0e87ad012d7f\"}, {\"marker\": {\"symbol\": \"x\"}, \"mode\": \"lines+markers\", \"name\": \"Bagging\", \"x\": [\"accuracy\", \"FPR\", \"FNR\", \"auc\"], \"y\": [0.9095071958133449, 0.08180907040841895, 0.14873949579831933, 0.884725716896631], \"type\": \"scatter\", \"uid\": \"5a17c3db-bb36-4c5a-bde7-b48bc1e9b236\"}, {\"marker\": {\"symbol\": \"x\"}, \"mode\": \"lines+markers\", \"name\": \"Neural Network\", \"x\": [\"accuracy\", \"FPR\", \"FNR\", \"auc\"], \"y\": [0.9052551242913214, 0.08306188925081433, 0.173109243697479, 0.884725716896631], \"type\": \"scatter\", \"uid\": \"797e644d-0261-4de0-8c56-019db7f3e951\"}], {\"title\": \"Result comparision for Features selected in Section 1\", \"yaxis\": {\"dtick\": 0.05, \"tick0\": 0}}, {\"showLink\": true, \"linkText\": \"Export to plot.ly\", \"plotlyServerURL\": \"https://plot.ly\"})});</script><script type=\"text/javascript\">window.addEventListener(\"resize\", function(){window._Plotly.Plots.resize(document.getElementById(\"d6f77312-fa3f-45f6-810d-9b99218deb4e\"));});</script>"
      ]
     },
     "metadata": {},
     "output_type": "display_data"
    }
   ],
   "source": [
    "trace0 = go.Scatter(x=table_80_50_test.iloc[0].index.values[[0,5,6,7]],\n",
    "                    y=table_80_50_test.iloc[0].values[[0,5,6,7]],\n",
    "                    mode = 'lines',\n",
    "                    name = 'KNN_model')\n",
    "\n",
    "trace1 = go.Scatter(x=table_80_50_test.iloc[1].index.values[[0,5,6,7]],\n",
    "                    y=table_80_50_test.iloc[1].values[[0,5,6,7]],\n",
    "                    mode = 'lines+markers',\n",
    "                    name = 'Logistic Regression')\n",
    "\n",
    "trace2 = go.Scatter(x=table_80_50_test.iloc[2].index.values[[0,5,6,7]],\n",
    "                    y=table_80_50_test.iloc[2].values[[0,5,6,7]],\n",
    "                    mode = 'lines+markers',marker=dict(symbol='x'),\n",
    "                    name = 'Random Forest')\n",
    "\n",
    "\n",
    "trace3 = go.Scatter(x=table_80_50_test.iloc[3].index.values[[0,5,6,7]],\n",
    "                    y=table_80_50_test.iloc[3].values[[0,5,6,7]],\n",
    "                    mode = 'lines',\n",
    "                    name = 'Ada Boost')\n",
    "\n",
    "trace4 = go.Scatter(x=table_80_50_test.iloc[4].index.values[[0,5,6,7]],\n",
    "                    y=table_80_50_test.iloc[4].values[[0,5,6,7]],\n",
    "                    mode = 'lines+markers',\n",
    "                    name = 'GradientBoosting')\n",
    "\n",
    "trace5 = go.Scatter(x=table_80_50_test.iloc[5].index.values[[0,5,6,7]],\n",
    "                    y=table_80_50_test.iloc[5].values[[0,5,6,7]],\n",
    "                    mode = 'lines+markers',marker=dict(symbol='x'),\n",
    "                    name = 'ExtraTree Classifier')\n",
    "\n",
    "trace6 = go.Scatter(x=table_80_50_test.iloc[6].index.values[[0,5,6,7]],\n",
    "                    y=table_80_50_test.iloc[6].values[[0,5,6,7]],\n",
    "                    mode = 'lines+markers',marker=dict(symbol='x'),\n",
    "                    name = 'Bagging')\n",
    "\n",
    "trace7 = go.Scatter(x=table_80_50_test.iloc[7].index.values[[0,5,6,7]],\n",
    "                    y=table_80_50_test.iloc[7].values[[0,5,6,7]],\n",
    "                    mode = 'lines+markers',marker=dict(symbol='x'),\n",
    "                    name = 'Neural Network')\n",
    "\n",
    "\n",
    "\n",
    "data = [trace0, trace1, trace2, trace3, trace4, trace5, trace6, trace7]\n",
    "layout = go.Layout(yaxis=dict(tick0=0,dtick=0.05),title='Result comparision for Features selected in Section 1')\n",
    "fig = go.Figure(data=data, layout=layout)\n",
    "\n",
    "iplot(fig, filename='Result')"
   ]
  },
  {
   "cell_type": "code",
   "execution_count": 25,
   "metadata": {},
   "outputs": [
    {
     "name": "stdout",
     "output_type": "stream",
     "text": [
      "Training Results\n"
     ]
    },
    {
     "data": {
      "text/html": [
       "<div>\n",
       "<style scoped>\n",
       "    .dataframe tbody tr th:only-of-type {\n",
       "        vertical-align: middle;\n",
       "    }\n",
       "\n",
       "    .dataframe tbody tr th {\n",
       "        vertical-align: top;\n",
       "    }\n",
       "\n",
       "    .dataframe thead th {\n",
       "        text-align: right;\n",
       "    }\n",
       "</style>\n",
       "<table border=\"1\" class=\"dataframe\">\n",
       "  <thead>\n",
       "    <tr style=\"text-align: right;\">\n",
       "      <th></th>\n",
       "      <th>accuracy</th>\n",
       "      <th>TP</th>\n",
       "      <th>TN</th>\n",
       "      <th>FP</th>\n",
       "      <th>FN</th>\n",
       "      <th>FPR</th>\n",
       "      <th>FNR</th>\n",
       "    </tr>\n",
       "    <tr>\n",
       "      <th>index</th>\n",
       "      <th></th>\n",
       "      <th></th>\n",
       "      <th></th>\n",
       "      <th></th>\n",
       "      <th></th>\n",
       "      <th></th>\n",
       "      <th></th>\n",
       "    </tr>\n",
       "  </thead>\n",
       "  <tbody>\n",
       "    <tr>\n",
       "      <th>KNeighborsClassifier</th>\n",
       "      <td>0.905354</td>\n",
       "      <td>1509.0</td>\n",
       "      <td>31703.0</td>\n",
       "      <td>150.0</td>\n",
       "      <td>3322.0</td>\n",
       "      <td>0.004709</td>\n",
       "      <td>0.687642</td>\n",
       "    </tr>\n",
       "    <tr>\n",
       "      <th>LogisticRegression</th>\n",
       "      <td>0.884255</td>\n",
       "      <td>3312.0</td>\n",
       "      <td>29126.0</td>\n",
       "      <td>2727.0</td>\n",
       "      <td>1519.0</td>\n",
       "      <td>0.085612</td>\n",
       "      <td>0.314428</td>\n",
       "    </tr>\n",
       "    <tr>\n",
       "      <th>RandomForestClassifier</th>\n",
       "      <td>0.919393</td>\n",
       "      <td>4353.0</td>\n",
       "      <td>29374.0</td>\n",
       "      <td>2479.0</td>\n",
       "      <td>478.0</td>\n",
       "      <td>0.077826</td>\n",
       "      <td>0.098944</td>\n",
       "    </tr>\n",
       "    <tr>\n",
       "      <th>AdaBoostClassifier</th>\n",
       "      <td>0.894804</td>\n",
       "      <td>3561.0</td>\n",
       "      <td>29264.0</td>\n",
       "      <td>2589.0</td>\n",
       "      <td>1270.0</td>\n",
       "      <td>0.081280</td>\n",
       "      <td>0.262886</td>\n",
       "    </tr>\n",
       "    <tr>\n",
       "      <th>GradientBoostingClassifier</th>\n",
       "      <td>0.907044</td>\n",
       "      <td>3926.0</td>\n",
       "      <td>29348.0</td>\n",
       "      <td>2505.0</td>\n",
       "      <td>905.0</td>\n",
       "      <td>0.078643</td>\n",
       "      <td>0.187332</td>\n",
       "    </tr>\n",
       "    <tr>\n",
       "      <th>ExtraTreeClassifier</th>\n",
       "      <td>0.921056</td>\n",
       "      <td>4389.0</td>\n",
       "      <td>29399.0</td>\n",
       "      <td>2454.0</td>\n",
       "      <td>442.0</td>\n",
       "      <td>0.077041</td>\n",
       "      <td>0.091492</td>\n",
       "    </tr>\n",
       "    <tr>\n",
       "      <th>BaggingClassifier</th>\n",
       "      <td>0.919474</td>\n",
       "      <td>4357.0</td>\n",
       "      <td>29373.0</td>\n",
       "      <td>2480.0</td>\n",
       "      <td>474.0</td>\n",
       "      <td>0.077858</td>\n",
       "      <td>0.098116</td>\n",
       "    </tr>\n",
       "    <tr>\n",
       "      <th>Neural Network-1</th>\n",
       "      <td>0.906799</td>\n",
       "      <td>4081.0</td>\n",
       "      <td>29184.0</td>\n",
       "      <td>2669.0</td>\n",
       "      <td>750.0</td>\n",
       "      <td>0.083791</td>\n",
       "      <td>0.155247</td>\n",
       "    </tr>\n",
       "  </tbody>\n",
       "</table>\n",
       "</div>"
      ],
      "text/plain": [
       "                            accuracy      TP       TN      FP      FN  \\\n",
       "index                                                                   \n",
       "KNeighborsClassifier        0.905354  1509.0  31703.0   150.0  3322.0   \n",
       "LogisticRegression          0.884255  3312.0  29126.0  2727.0  1519.0   \n",
       "RandomForestClassifier      0.919393  4353.0  29374.0  2479.0   478.0   \n",
       "AdaBoostClassifier          0.894804  3561.0  29264.0  2589.0  1270.0   \n",
       "GradientBoostingClassifier  0.907044  3926.0  29348.0  2505.0   905.0   \n",
       "ExtraTreeClassifier         0.921056  4389.0  29399.0  2454.0   442.0   \n",
       "BaggingClassifier           0.919474  4357.0  29373.0  2480.0   474.0   \n",
       "Neural Network-1            0.906799  4081.0  29184.0  2669.0   750.0   \n",
       "\n",
       "                                 FPR       FNR  \n",
       "index                                           \n",
       "KNeighborsClassifier        0.004709  0.687642  \n",
       "LogisticRegression          0.085612  0.314428  \n",
       "RandomForestClassifier      0.077826  0.098944  \n",
       "AdaBoostClassifier          0.081280  0.262886  \n",
       "GradientBoostingClassifier  0.078643  0.187332  \n",
       "ExtraTreeClassifier         0.077041  0.091492  \n",
       "BaggingClassifier           0.077858  0.098116  \n",
       "Neural Network-1            0.083791  0.155247  "
      ]
     },
     "metadata": {},
     "output_type": "display_data"
    },
    {
     "name": "stdout",
     "output_type": "stream",
     "text": [
      "Test Results\n"
     ]
    },
    {
     "data": {
      "text/html": [
       "<div>\n",
       "<style scoped>\n",
       "    .dataframe tbody tr th:only-of-type {\n",
       "        vertical-align: middle;\n",
       "    }\n",
       "\n",
       "    .dataframe tbody tr th {\n",
       "        vertical-align: top;\n",
       "    }\n",
       "\n",
       "    .dataframe thead th {\n",
       "        text-align: right;\n",
       "    }\n",
       "</style>\n",
       "<table border=\"1\" class=\"dataframe\">\n",
       "  <thead>\n",
       "    <tr style=\"text-align: right;\">\n",
       "      <th></th>\n",
       "      <th>accuracy</th>\n",
       "      <th>TP</th>\n",
       "      <th>TN</th>\n",
       "      <th>FP</th>\n",
       "      <th>FN</th>\n",
       "      <th>FPR</th>\n",
       "      <th>FNR</th>\n",
       "      <th>auc</th>\n",
       "      <th>MCC</th>\n",
       "    </tr>\n",
       "    <tr>\n",
       "      <th>index</th>\n",
       "      <th></th>\n",
       "      <th></th>\n",
       "      <th></th>\n",
       "      <th></th>\n",
       "      <th></th>\n",
       "      <th></th>\n",
       "      <th></th>\n",
       "      <th></th>\n",
       "      <th></th>\n",
       "    </tr>\n",
       "  </thead>\n",
       "  <tbody>\n",
       "    <tr>\n",
       "      <th>KNeighborsClassifier</th>\n",
       "      <td>0.904710</td>\n",
       "      <td>365.0</td>\n",
       "      <td>7933.0</td>\n",
       "      <td>49.0</td>\n",
       "      <td>825.0</td>\n",
       "      <td>0.006139</td>\n",
       "      <td>0.693277</td>\n",
       "      <td>0.650292</td>\n",
       "      <td>0.486511</td>\n",
       "    </tr>\n",
       "    <tr>\n",
       "      <th>LogisticRegression</th>\n",
       "      <td>0.883995</td>\n",
       "      <td>797.0</td>\n",
       "      <td>7311.0</td>\n",
       "      <td>671.0</td>\n",
       "      <td>393.0</td>\n",
       "      <td>0.084064</td>\n",
       "      <td>0.330252</td>\n",
       "      <td>0.792842</td>\n",
       "      <td>0.536749</td>\n",
       "    </tr>\n",
       "    <tr>\n",
       "      <th>RandomForestClassifier</th>\n",
       "      <td>0.909289</td>\n",
       "      <td>1020.0</td>\n",
       "      <td>7320.0</td>\n",
       "      <td>662.0</td>\n",
       "      <td>170.0</td>\n",
       "      <td>0.082937</td>\n",
       "      <td>0.142857</td>\n",
       "      <td>0.887103</td>\n",
       "      <td>0.672252</td>\n",
       "    </tr>\n",
       "    <tr>\n",
       "      <th>AdaBoostClassifier</th>\n",
       "      <td>0.895443</td>\n",
       "      <td>876.0</td>\n",
       "      <td>7337.0</td>\n",
       "      <td>645.0</td>\n",
       "      <td>314.0</td>\n",
       "      <td>0.080807</td>\n",
       "      <td>0.263866</td>\n",
       "      <td>0.827664</td>\n",
       "      <td>0.592058</td>\n",
       "    </tr>\n",
       "    <tr>\n",
       "      <th>GradientBoostingClassifier</th>\n",
       "      <td>0.905146</td>\n",
       "      <td>954.0</td>\n",
       "      <td>7348.0</td>\n",
       "      <td>634.0</td>\n",
       "      <td>236.0</td>\n",
       "      <td>0.079429</td>\n",
       "      <td>0.198319</td>\n",
       "      <td>0.861126</td>\n",
       "      <td>0.641422</td>\n",
       "    </tr>\n",
       "    <tr>\n",
       "      <th>ExtraTreeClassifier</th>\n",
       "      <td>0.908417</td>\n",
       "      <td>1017.0</td>\n",
       "      <td>7315.0</td>\n",
       "      <td>667.0</td>\n",
       "      <td>173.0</td>\n",
       "      <td>0.083563</td>\n",
       "      <td>0.145378</td>\n",
       "      <td>0.885529</td>\n",
       "      <td>0.669211</td>\n",
       "    </tr>\n",
       "    <tr>\n",
       "      <th>BaggingClassifier</th>\n",
       "      <td>0.909507</td>\n",
       "      <td>1013.0</td>\n",
       "      <td>7329.0</td>\n",
       "      <td>653.0</td>\n",
       "      <td>177.0</td>\n",
       "      <td>0.081809</td>\n",
       "      <td>0.148739</td>\n",
       "      <td>0.884726</td>\n",
       "      <td>0.670608</td>\n",
       "    </tr>\n",
       "    <tr>\n",
       "      <th>Neural Network-1</th>\n",
       "      <td>0.905255</td>\n",
       "      <td>984.0</td>\n",
       "      <td>7319.0</td>\n",
       "      <td>663.0</td>\n",
       "      <td>206.0</td>\n",
       "      <td>0.083062</td>\n",
       "      <td>0.173109</td>\n",
       "      <td>0.884726</td>\n",
       "      <td>0.651182</td>\n",
       "    </tr>\n",
       "  </tbody>\n",
       "</table>\n",
       "</div>"
      ],
      "text/plain": [
       "                            accuracy      TP      TN     FP     FN       FPR  \\\n",
       "index                                                                          \n",
       "KNeighborsClassifier        0.904710   365.0  7933.0   49.0  825.0  0.006139   \n",
       "LogisticRegression          0.883995   797.0  7311.0  671.0  393.0  0.084064   \n",
       "RandomForestClassifier      0.909289  1020.0  7320.0  662.0  170.0  0.082937   \n",
       "AdaBoostClassifier          0.895443   876.0  7337.0  645.0  314.0  0.080807   \n",
       "GradientBoostingClassifier  0.905146   954.0  7348.0  634.0  236.0  0.079429   \n",
       "ExtraTreeClassifier         0.908417  1017.0  7315.0  667.0  173.0  0.083563   \n",
       "BaggingClassifier           0.909507  1013.0  7329.0  653.0  177.0  0.081809   \n",
       "Neural Network-1            0.905255   984.0  7319.0  663.0  206.0  0.083062   \n",
       "\n",
       "                                 FNR       auc       MCC  \n",
       "index                                                     \n",
       "KNeighborsClassifier        0.693277  0.650292  0.486511  \n",
       "LogisticRegression          0.330252  0.792842  0.536749  \n",
       "RandomForestClassifier      0.142857  0.887103  0.672252  \n",
       "AdaBoostClassifier          0.263866  0.827664  0.592058  \n",
       "GradientBoostingClassifier  0.198319  0.861126  0.641422  \n",
       "ExtraTreeClassifier         0.145378  0.885529  0.669211  \n",
       "BaggingClassifier           0.148739  0.884726  0.670608  \n",
       "Neural Network-1            0.173109  0.884726  0.651182  "
      ]
     },
     "metadata": {},
     "output_type": "display_data"
    }
   ],
   "source": [
    "table_80_50_train['index']=ind_columns\n",
    "table_80_50_test['index']=ind_columns\n",
    "\n",
    "\n",
    "table_80_50_test.set_index(['index'],drop=True,inplace=True)\n",
    "table_80_50_train.set_index(['index'],drop=True,inplace=True)\n",
    "\n",
    "print(\"Training Results\")\n",
    "display(table_80_50_train)\n",
    "print(\"Test Results\")\n",
    "display(table_80_50_test)"
   ]
  },
  {
   "cell_type": "markdown",
   "metadata": {},
   "source": [
    "### <a id='1.B' style=\"text-decoration : none; color : #000000;\"> B. Average Feature Importances</a>"
   ]
  },
  {
   "cell_type": "code",
   "execution_count": 27,
   "metadata": {},
   "outputs": [
    {
     "data": {
      "application/vnd.plotly.v1+json": {
       "config": {
        "linkText": "Export to plot.ly",
        "plotlyServerURL": "https://plot.ly",
        "showLink": true
       },
       "data": [
        {
         "marker": {
          "color": "rgb(158,202,225)",
          "line": {
           "color": "rgb(8,48,107)",
           "width": 1.5
          }
         },
         "opacity": 0.6,
         "orientation": "h",
         "text": [
          0.3313,
          0.207,
          0.0808,
          0.0746,
          0.0487,
          0.0408,
          0.0263,
          0.025,
          0.0219,
          0.0213,
          0.0202,
          0.0136,
          0.0135,
          0.0132,
          0.0129,
          0.0122,
          0.0094,
          0.0089,
          0.0074,
          0.0052,
          0.0041,
          0.0017
         ],
         "textposition": "outside",
         "type": "bar",
         "uid": "11632a9c-7f9d-487c-b015-ea6cf801ae62",
         "x": [
          0.33125304346608914,
          0.20700108269716277,
          0.08076093459142297,
          0.0745803191277447,
          0.04868395011241965,
          0.04081588890466506,
          0.026306614184471458,
          0.024965536523088555,
          0.0218936304196854,
          0.02132256594991716,
          0.020226154544298144,
          0.013601821119151916,
          0.01349288494435534,
          0.013236502187189822,
          0.012921843408963695,
          0.012244417667687807,
          0.009438748862022794,
          0.008888234821064303,
          0.007408383190947856,
          0.005167675772806171,
          0.004109965506537812,
          0.0016798019983075396
         ],
         "y": [
          "http_header_content-length",
          "http_header_content-encoding_gzip",
          "http_header_transfer-encoding_chunked",
          "http_header_content-language_text/html",
          "http_header_vary_accept",
          "http_header_server_apache",
          "http_header_cache-control_set_max-age",
          "http_header_connection_keep-alive",
          "http_header_cache-control_set_no-store",
          "http_header_pragmano-cache",
          "http_header_server_nginx",
          "http_header_cache-control_set_private",
          "http_header_expect-ctmax-age",
          "http_header_x-cintent-type-options_nosniff",
          "http_header_connection_close",
          "http_header_cache-control_set_must-revalidate",
          "http_header_via_1.1",
          "http_header_vary_age",
          "http_header_cache-control_set_no-cache",
          "http_header_strict-transport-security_max-age",
          "http_header_x-xss-enabled",
          "http_header_cache-control_set_public"
         ]
        }
       ],
       "layout": {
        "autosize": false,
        "height": 1000,
        "width": 1000,
        "xaxis": {
         "tickfont": {
          "color": "black",
          "size": 12
         },
         "title": "Feature Importances"
        },
        "yaxis": {
         "automargin": true
        }
       }
      },
      "text/html": [
       "<div id=\"233ec9b1-0ab3-4de8-b9aa-44abce05f4c6\" style=\"height: 1000px; width: 1000px;\" class=\"plotly-graph-div\"></div><script type=\"text/javascript\">require([\"plotly\"], function(Plotly) { window.PLOTLYENV=window.PLOTLYENV || {};window.PLOTLYENV.BASE_URL=\"https://plot.ly\";Plotly.newPlot(\"233ec9b1-0ab3-4de8-b9aa-44abce05f4c6\", [{\"marker\": {\"color\": \"rgb(158,202,225)\", \"line\": {\"color\": \"rgb(8,48,107)\", \"width\": 1.5}}, \"opacity\": 0.6, \"orientation\": \"h\", \"text\": [0.3313, 0.207, 0.0808, 0.0746, 0.0487, 0.0408, 0.0263, 0.025, 0.0219, 0.0213, 0.0202, 0.0136, 0.0135, 0.0132, 0.0129, 0.0122, 0.0094, 0.0089, 0.0074, 0.0052, 0.0041, 0.0017], \"textposition\": \"outside\", \"x\": [0.33125304346608914, 0.20700108269716277, 0.08076093459142297, 0.0745803191277447, 0.04868395011241965, 0.04081588890466506, 0.026306614184471458, 0.024965536523088555, 0.0218936304196854, 0.02132256594991716, 0.020226154544298144, 0.013601821119151916, 0.01349288494435534, 0.013236502187189822, 0.012921843408963695, 0.012244417667687807, 0.009438748862022794, 0.008888234821064303, 0.007408383190947856, 0.005167675772806171, 0.004109965506537812, 0.0016798019983075396], \"y\": [\"http_header_content-length\", \"http_header_content-encoding_gzip\", \"http_header_transfer-encoding_chunked\", \"http_header_content-language_text/html\", \"http_header_vary_accept\", \"http_header_server_apache\", \"http_header_cache-control_set_max-age\", \"http_header_connection_keep-alive\", \"http_header_cache-control_set_no-store\", \"http_header_pragmano-cache\", \"http_header_server_nginx\", \"http_header_cache-control_set_private\", \"http_header_expect-ctmax-age\", \"http_header_x-cintent-type-options_nosniff\", \"http_header_connection_close\", \"http_header_cache-control_set_must-revalidate\", \"http_header_via_1.1\", \"http_header_vary_age\", \"http_header_cache-control_set_no-cache\", \"http_header_strict-transport-security_max-age\", \"http_header_x-xss-enabled\", \"http_header_cache-control_set_public\"], \"type\": \"bar\", \"uid\": \"11632a9c-7f9d-487c-b015-ea6cf801ae62\"}], {\"autosize\": false, \"height\": 1000, \"width\": 1000, \"xaxis\": {\"tickfont\": {\"color\": \"black\", \"size\": 12}, \"title\": \"Feature Importances\"}, \"yaxis\": {\"automargin\": true}}, {\"showLink\": true, \"linkText\": \"Export to plot.ly\", \"plotlyServerURL\": \"https://plot.ly\"})});</script>"
      ],
      "text/vnd.plotly.v1+html": [
       "<div id=\"233ec9b1-0ab3-4de8-b9aa-44abce05f4c6\" style=\"height: 1000px; width: 1000px;\" class=\"plotly-graph-div\"></div><script type=\"text/javascript\">require([\"plotly\"], function(Plotly) { window.PLOTLYENV=window.PLOTLYENV || {};window.PLOTLYENV.BASE_URL=\"https://plot.ly\";Plotly.newPlot(\"233ec9b1-0ab3-4de8-b9aa-44abce05f4c6\", [{\"marker\": {\"color\": \"rgb(158,202,225)\", \"line\": {\"color\": \"rgb(8,48,107)\", \"width\": 1.5}}, \"opacity\": 0.6, \"orientation\": \"h\", \"text\": [0.3313, 0.207, 0.0808, 0.0746, 0.0487, 0.0408, 0.0263, 0.025, 0.0219, 0.0213, 0.0202, 0.0136, 0.0135, 0.0132, 0.0129, 0.0122, 0.0094, 0.0089, 0.0074, 0.0052, 0.0041, 0.0017], \"textposition\": \"outside\", \"x\": [0.33125304346608914, 0.20700108269716277, 0.08076093459142297, 0.0745803191277447, 0.04868395011241965, 0.04081588890466506, 0.026306614184471458, 0.024965536523088555, 0.0218936304196854, 0.02132256594991716, 0.020226154544298144, 0.013601821119151916, 0.01349288494435534, 0.013236502187189822, 0.012921843408963695, 0.012244417667687807, 0.009438748862022794, 0.008888234821064303, 0.007408383190947856, 0.005167675772806171, 0.004109965506537812, 0.0016798019983075396], \"y\": [\"http_header_content-length\", \"http_header_content-encoding_gzip\", \"http_header_transfer-encoding_chunked\", \"http_header_content-language_text/html\", \"http_header_vary_accept\", \"http_header_server_apache\", \"http_header_cache-control_set_max-age\", \"http_header_connection_keep-alive\", \"http_header_cache-control_set_no-store\", \"http_header_pragmano-cache\", \"http_header_server_nginx\", \"http_header_cache-control_set_private\", \"http_header_expect-ctmax-age\", \"http_header_x-cintent-type-options_nosniff\", \"http_header_connection_close\", \"http_header_cache-control_set_must-revalidate\", \"http_header_via_1.1\", \"http_header_vary_age\", \"http_header_cache-control_set_no-cache\", \"http_header_strict-transport-security_max-age\", \"http_header_x-xss-enabled\", \"http_header_cache-control_set_public\"], \"type\": \"bar\", \"uid\": \"11632a9c-7f9d-487c-b015-ea6cf801ae62\"}], {\"autosize\": false, \"height\": 1000, \"width\": 1000, \"xaxis\": {\"tickfont\": {\"color\": \"black\", \"size\": 12}, \"title\": \"Feature Importances\"}, \"yaxis\": {\"automargin\": true}}, {\"showLink\": true, \"linkText\": \"Export to plot.ly\", \"plotlyServerURL\": \"https://plot.ly\"})});</script>"
      ]
     },
     "metadata": {},
     "output_type": "display_data"
    }
   ],
   "source": [
    "feat_impt_plot(np.average(feat_imp,axis=0),columns[:-2])"
   ]
  },
  {
   "cell_type": "markdown",
   "metadata": {},
   "source": [
    "### <a id='2' style=\"text-decoration : none; color : #000000;\"> 2. OverSampling </a>"
   ]
  },
  {
   "cell_type": "code",
   "execution_count": 31,
   "metadata": {
    "collapsed": true
   },
   "outputs": [],
   "source": [
    "sm = SMOTE(random_state=12, ratio = 1.0)\n",
    "X_train, Y_train = sm.fit_sample(scaled_X_train,train_Y)"
   ]
  },
  {
   "cell_type": "code",
   "execution_count": 32,
   "metadata": {
    "collapsed": true
   },
   "outputs": [],
   "source": [
    "## Table to store training and test measures so we can compare later\n",
    "table_80_80_train=pd.DataFrame(columns=['accuracy','TP','TN','FP','FN','FPR','FNR'])\n",
    "table_80_80_test=pd.DataFrame(columns=['accuracy','TP','TN','FP','FN','FPR','FNR','auc','mcc'])"
   ]
  },
  {
   "cell_type": "code",
   "execution_count": 34,
   "metadata": {
    "scrolled": false
   },
   "outputs": [
    {
     "name": "stdout",
     "output_type": "stream",
     "text": [
      "\u001b[1mK-Nearest Neighbors\u001b[0m\n",
      "Accuracy of the model for training data is: 0.911876432361\n",
      "Confusion Matrix for training data is:\n"
     ]
    },
    {
     "data": {
      "text/plain": [
       "Predicted  False   True  __all__\n",
       "Actual                          \n",
       "False      28909   2944    31853\n",
       "True        2670  29183    31853\n",
       "__all__    31579  32127    63706"
      ]
     },
     "metadata": {},
     "output_type": "display_data"
    },
    {
     "name": "stdout",
     "output_type": "stream",
     "text": [
      "Accuracy of the model for test data is: 0.898822503271\n",
      "Confusion Matrix for test data is:\n"
     ]
    },
    {
     "data": {
      "text/plain": [
       "Predicted  False  True  __all__\n",
       "Actual                         \n",
       "False       7203   779     7982\n",
       "True         149  1041     1190\n",
       "__all__     7352  1820     9172"
      ]
     },
     "metadata": {},
     "output_type": "display_data"
    },
    {
     "name": "stdout",
     "output_type": "stream",
     "text": [
      "\n",
      "\n",
      "\u001b[1mLogistic Regression\u001b[0m\n",
      "Accuracy of the model for training data is: 0.867108278655\n",
      "Confusion Matrix for training data is:\n"
     ]
    },
    {
     "data": {
      "text/plain": [
       "Predicted  False   True  __all__\n",
       "Actual                          \n",
       "False      26423   5430    31853\n",
       "True        3036  28817    31853\n",
       "__all__    29459  34247    63706"
      ]
     },
     "metadata": {},
     "output_type": "display_data"
    },
    {
     "name": "stdout",
     "output_type": "stream",
     "text": [
      "Accuracy of the model for test data is: 0.843109463585\n",
      "Confusion Matrix for test data is:\n"
     ]
    },
    {
     "data": {
      "text/plain": [
       "Predicted  False  True  __all__\n",
       "Actual                         \n",
       "False       6669  1313     7982\n",
       "True         126  1064     1190\n",
       "__all__     6795  2377     9172"
      ]
     },
     "metadata": {},
     "output_type": "display_data"
    },
    {
     "name": "stdout",
     "output_type": "stream",
     "text": [
      "\n",
      "\n",
      "\u001b[1mRandomForest Classifier\u001b[0m\n",
      "Accuracy of the model for training data is: 0.932612312812\n",
      "Confusion Matrix for training data is:\n"
     ]
    },
    {
     "data": {
      "text/plain": [
       "Predicted  False   True  __all__\n",
       "Actual                          \n",
       "False      28509   3344    31853\n",
       "True         949  30904    31853\n",
       "__all__    29458  34248    63706"
      ]
     },
     "metadata": {},
     "output_type": "display_data"
    },
    {
     "name": "stdout",
     "output_type": "stream",
     "text": [
      "Accuracy of the model for test data is: 0.887047535979\n",
      "Confusion Matrix for test data is:\n"
     ]
    },
    {
     "data": {
      "text/plain": [
       "Predicted  False  True  __all__\n",
       "Actual                         \n",
       "False       7051   931     7982\n",
       "True         105  1085     1190\n",
       "__all__     7156  2016     9172"
      ]
     },
     "metadata": {},
     "output_type": "display_data"
    },
    {
     "data": {
      "application/vnd.plotly.v1+json": {
       "config": {
        "linkText": "Export to plot.ly",
        "plotlyServerURL": "https://plot.ly",
        "showLink": true
       },
       "data": [
        {
         "marker": {
          "color": "rgb(158,202,225)",
          "line": {
           "color": "rgb(8,48,107)",
           "width": 1.5
          }
         },
         "opacity": 0.6,
         "orientation": "h",
         "text": [
          0.2634,
          0.1817,
          0.1455,
          0.0902,
          0.0528,
          0.0354,
          0.0344,
          0.0199,
          0.0179,
          0.0176,
          0.0171,
          0.0158,
          0.0152,
          0.0134,
          0.0133,
          0.0126,
          0.011,
          0.0108,
          0.0103,
          0.0092,
          0.0086,
          0.004
         ],
         "textposition": "outside",
         "type": "bar",
         "uid": "a1fd2739-74d8-439a-b201-aa6082f5dced",
         "x": [
          0.2633987435979453,
          0.18171215264911939,
          0.1454863353081395,
          0.09021552123583958,
          0.05276207470383839,
          0.03539466517584541,
          0.03440466275911182,
          0.01993103755367915,
          0.017886266560218297,
          0.017553850631988145,
          0.017148370453457257,
          0.015805777640398068,
          0.015176223303746605,
          0.013419723606901274,
          0.013349007449212424,
          0.012619060067669451,
          0.01096725880571096,
          0.010766991084243857,
          0.010284189631895474,
          0.00917856659203567,
          0.008579611303026691,
          0.0039599098859772735
         ],
         "y": [
          "http_header_content-encoding_gzip",
          "http_header_content-length",
          "http_header_vary_accept",
          "http_header_transfer-encoding_chunked",
          "http_header_cache-control_set_max-age",
          "http_header_server_apache",
          "http_header_server_nginx",
          "http_header_content-language_text/html",
          "http_header_cache-control_set_must-revalidate",
          "http_header_connection_keep-alive",
          "http_header_cache-control_set_no-cache",
          "http_header_expect-ctmax-age",
          "http_header_pragmano-cache",
          "http_header_x-xss-enabled",
          "http_header_strict-transport-security_max-age",
          "http_header_cache-control_set_private",
          "http_header_cache-control_set_no-store",
          "http_header_via_1.1",
          "http_header_vary_age",
          "http_header_x-cintent-type-options_nosniff",
          "http_header_connection_close",
          "http_header_cache-control_set_public"
         ]
        }
       ],
       "layout": {
        "autosize": false,
        "height": 1000,
        "width": 1000,
        "xaxis": {
         "tickfont": {
          "color": "black",
          "size": 12
         },
         "title": "Feature Importances"
        },
        "yaxis": {
         "automargin": true
        }
       }
      },
      "text/html": [
       "<div id=\"70614362-d9f5-4592-8550-7dcf90ef18af\" style=\"height: 1000px; width: 1000px;\" class=\"plotly-graph-div\"></div><script type=\"text/javascript\">require([\"plotly\"], function(Plotly) { window.PLOTLYENV=window.PLOTLYENV || {};window.PLOTLYENV.BASE_URL=\"https://plot.ly\";Plotly.newPlot(\"70614362-d9f5-4592-8550-7dcf90ef18af\", [{\"marker\": {\"color\": \"rgb(158,202,225)\", \"line\": {\"color\": \"rgb(8,48,107)\", \"width\": 1.5}}, \"opacity\": 0.6, \"orientation\": \"h\", \"text\": [0.2634, 0.1817, 0.1455, 0.0902, 0.0528, 0.0354, 0.0344, 0.0199, 0.0179, 0.0176, 0.0171, 0.0158, 0.0152, 0.0134, 0.0133, 0.0126, 0.011, 0.0108, 0.0103, 0.0092, 0.0086, 0.004], \"textposition\": \"outside\", \"x\": [0.2633987435979453, 0.18171215264911939, 0.1454863353081395, 0.09021552123583958, 0.05276207470383839, 0.03539466517584541, 0.03440466275911182, 0.01993103755367915, 0.017886266560218297, 0.017553850631988145, 0.017148370453457257, 0.015805777640398068, 0.015176223303746605, 0.013419723606901274, 0.013349007449212424, 0.012619060067669451, 0.01096725880571096, 0.010766991084243857, 0.010284189631895474, 0.00917856659203567, 0.008579611303026691, 0.0039599098859772735], \"y\": [\"http_header_content-encoding_gzip\", \"http_header_content-length\", \"http_header_vary_accept\", \"http_header_transfer-encoding_chunked\", \"http_header_cache-control_set_max-age\", \"http_header_server_apache\", \"http_header_server_nginx\", \"http_header_content-language_text/html\", \"http_header_cache-control_set_must-revalidate\", \"http_header_connection_keep-alive\", \"http_header_cache-control_set_no-cache\", \"http_header_expect-ctmax-age\", \"http_header_pragmano-cache\", \"http_header_x-xss-enabled\", \"http_header_strict-transport-security_max-age\", \"http_header_cache-control_set_private\", \"http_header_cache-control_set_no-store\", \"http_header_via_1.1\", \"http_header_vary_age\", \"http_header_x-cintent-type-options_nosniff\", \"http_header_connection_close\", \"http_header_cache-control_set_public\"], \"type\": \"bar\", \"uid\": \"a1fd2739-74d8-439a-b201-aa6082f5dced\"}], {\"autosize\": false, \"height\": 1000, \"width\": 1000, \"xaxis\": {\"tickfont\": {\"color\": \"black\", \"size\": 12}, \"title\": \"Feature Importances\"}, \"yaxis\": {\"automargin\": true}}, {\"showLink\": true, \"linkText\": \"Export to plot.ly\", \"plotlyServerURL\": \"https://plot.ly\"})});</script>"
      ],
      "text/vnd.plotly.v1+html": [
       "<div id=\"70614362-d9f5-4592-8550-7dcf90ef18af\" style=\"height: 1000px; width: 1000px;\" class=\"plotly-graph-div\"></div><script type=\"text/javascript\">require([\"plotly\"], function(Plotly) { window.PLOTLYENV=window.PLOTLYENV || {};window.PLOTLYENV.BASE_URL=\"https://plot.ly\";Plotly.newPlot(\"70614362-d9f5-4592-8550-7dcf90ef18af\", [{\"marker\": {\"color\": \"rgb(158,202,225)\", \"line\": {\"color\": \"rgb(8,48,107)\", \"width\": 1.5}}, \"opacity\": 0.6, \"orientation\": \"h\", \"text\": [0.2634, 0.1817, 0.1455, 0.0902, 0.0528, 0.0354, 0.0344, 0.0199, 0.0179, 0.0176, 0.0171, 0.0158, 0.0152, 0.0134, 0.0133, 0.0126, 0.011, 0.0108, 0.0103, 0.0092, 0.0086, 0.004], \"textposition\": \"outside\", \"x\": [0.2633987435979453, 0.18171215264911939, 0.1454863353081395, 0.09021552123583958, 0.05276207470383839, 0.03539466517584541, 0.03440466275911182, 0.01993103755367915, 0.017886266560218297, 0.017553850631988145, 0.017148370453457257, 0.015805777640398068, 0.015176223303746605, 0.013419723606901274, 0.013349007449212424, 0.012619060067669451, 0.01096725880571096, 0.010766991084243857, 0.010284189631895474, 0.00917856659203567, 0.008579611303026691, 0.0039599098859772735], \"y\": [\"http_header_content-encoding_gzip\", \"http_header_content-length\", \"http_header_vary_accept\", \"http_header_transfer-encoding_chunked\", \"http_header_cache-control_set_max-age\", \"http_header_server_apache\", \"http_header_server_nginx\", \"http_header_content-language_text/html\", \"http_header_cache-control_set_must-revalidate\", \"http_header_connection_keep-alive\", \"http_header_cache-control_set_no-cache\", \"http_header_expect-ctmax-age\", \"http_header_pragmano-cache\", \"http_header_x-xss-enabled\", \"http_header_strict-transport-security_max-age\", \"http_header_cache-control_set_private\", \"http_header_cache-control_set_no-store\", \"http_header_via_1.1\", \"http_header_vary_age\", \"http_header_x-cintent-type-options_nosniff\", \"http_header_connection_close\", \"http_header_cache-control_set_public\"], \"type\": \"bar\", \"uid\": \"a1fd2739-74d8-439a-b201-aa6082f5dced\"}], {\"autosize\": false, \"height\": 1000, \"width\": 1000, \"xaxis\": {\"tickfont\": {\"color\": \"black\", \"size\": 12}, \"title\": \"Feature Importances\"}, \"yaxis\": {\"automargin\": true}}, {\"showLink\": true, \"linkText\": \"Export to plot.ly\", \"plotlyServerURL\": \"https://plot.ly\"})});</script>"
      ]
     },
     "metadata": {},
     "output_type": "display_data"
    },
    {
     "name": "stdout",
     "output_type": "stream",
     "text": [
      "\n",
      "\n",
      "\u001b[1mAdaoost Classifier\u001b[0m\n",
      "Accuracy of the model for training data is: 0.873732458481\n",
      "Confusion Matrix for training data is:\n"
     ]
    },
    {
     "data": {
      "text/plain": [
       "Predicted  False   True  __all__\n",
       "Actual                          \n",
       "False      26814   5039    31853\n",
       "True        3005  28848    31853\n",
       "__all__    29819  33887    63706"
      ]
     },
     "metadata": {},
     "output_type": "display_data"
    },
    {
     "name": "stdout",
     "output_type": "stream",
     "text": [
      "Accuracy of the model for test data is: 0.849978194505\n",
      "Confusion Matrix for test data is:\n"
     ]
    },
    {
     "data": {
      "text/plain": [
       "Predicted  False  True  __all__\n",
       "Actual                         \n",
       "False       6743  1239     7982\n",
       "True         137  1053     1190\n",
       "__all__     6880  2292     9172"
      ]
     },
     "metadata": {},
     "output_type": "display_data"
    },
    {
     "data": {
      "application/vnd.plotly.v1+json": {
       "config": {
        "linkText": "Export to plot.ly",
        "plotlyServerURL": "https://plot.ly",
        "showLink": true
       },
       "data": [
        {
         "marker": {
          "color": "rgb(158,202,225)",
          "line": {
           "color": "rgb(8,48,107)",
           "width": 1.5
          }
         },
         "opacity": 0.6,
         "orientation": "h",
         "text": [
          0.38,
          0.12,
          0.08,
          0.04,
          0.04,
          0.04,
          0.04,
          0.04,
          0.04,
          0.04,
          0.04,
          0.02,
          0.02,
          0.02,
          0.02,
          0.02,
          0,
          0,
          0,
          0,
          0,
          0
         ],
         "textposition": "outside",
         "type": "bar",
         "uid": "26de9e32-6b52-4e3f-9747-e6e207dd5c16",
         "x": [
          0.38,
          0.12,
          0.08,
          0.04,
          0.04,
          0.04,
          0.04,
          0.04,
          0.04,
          0.04,
          0.04,
          0.02,
          0.02,
          0.02,
          0.02,
          0.02,
          0,
          0,
          0,
          0,
          0,
          0
         ],
         "y": [
          "http_header_content-length",
          "http_header_content-encoding_gzip",
          "http_header_transfer-encoding_chunked",
          "http_header_cache-control_set_max-age",
          "http_header_via_1.1",
          "http_header_vary_accept",
          "http_header_strict-transport-security_max-age",
          "http_header_pragmano-cache",
          "http_header_expect-ctmax-age",
          "http_header_connection_keep-alive",
          "http_header_cache-control_set_no-store",
          "http_header_server_apache",
          "http_header_server_nginx",
          "http_header_cache-control_set_public",
          "http_header_cache-control_set_private",
          "http_header_x-cintent-type-options_nosniff",
          "http_header_content-language_text/html",
          "http_header_cache-control_set_must-revalidate",
          "http_header_connection_close",
          "http_header_vary_age",
          "http_header_cache-control_set_no-cache",
          "http_header_x-xss-enabled"
         ]
        }
       ],
       "layout": {
        "autosize": false,
        "height": 1000,
        "width": 1000,
        "xaxis": {
         "tickfont": {
          "color": "black",
          "size": 12
         },
         "title": "Feature Importances"
        },
        "yaxis": {
         "automargin": true
        }
       }
      },
      "text/html": [
       "<div id=\"c654b76e-f5ca-4eda-acfb-54ec66b2cfa4\" style=\"height: 1000px; width: 1000px;\" class=\"plotly-graph-div\"></div><script type=\"text/javascript\">require([\"plotly\"], function(Plotly) { window.PLOTLYENV=window.PLOTLYENV || {};window.PLOTLYENV.BASE_URL=\"https://plot.ly\";Plotly.newPlot(\"c654b76e-f5ca-4eda-acfb-54ec66b2cfa4\", [{\"marker\": {\"color\": \"rgb(158,202,225)\", \"line\": {\"color\": \"rgb(8,48,107)\", \"width\": 1.5}}, \"opacity\": 0.6, \"orientation\": \"h\", \"text\": [0.38, 0.12, 0.08, 0.04, 0.04, 0.04, 0.04, 0.04, 0.04, 0.04, 0.04, 0.02, 0.02, 0.02, 0.02, 0.02, 0.0, 0.0, 0.0, 0.0, 0.0, 0.0], \"textposition\": \"outside\", \"x\": [0.38, 0.12, 0.08, 0.04, 0.04, 0.04, 0.04, 0.04, 0.04, 0.04, 0.04, 0.02, 0.02, 0.02, 0.02, 0.02, 0.0, 0.0, 0.0, 0.0, 0.0, 0.0], \"y\": [\"http_header_content-length\", \"http_header_content-encoding_gzip\", \"http_header_transfer-encoding_chunked\", \"http_header_cache-control_set_max-age\", \"http_header_via_1.1\", \"http_header_vary_accept\", \"http_header_strict-transport-security_max-age\", \"http_header_pragmano-cache\", \"http_header_expect-ctmax-age\", \"http_header_connection_keep-alive\", \"http_header_cache-control_set_no-store\", \"http_header_server_apache\", \"http_header_server_nginx\", \"http_header_cache-control_set_public\", \"http_header_cache-control_set_private\", \"http_header_x-cintent-type-options_nosniff\", \"http_header_content-language_text/html\", \"http_header_cache-control_set_must-revalidate\", \"http_header_connection_close\", \"http_header_vary_age\", \"http_header_cache-control_set_no-cache\", \"http_header_x-xss-enabled\"], \"type\": \"bar\", \"uid\": \"26de9e32-6b52-4e3f-9747-e6e207dd5c16\"}], {\"autosize\": false, \"height\": 1000, \"width\": 1000, \"xaxis\": {\"tickfont\": {\"color\": \"black\", \"size\": 12}, \"title\": \"Feature Importances\"}, \"yaxis\": {\"automargin\": true}}, {\"showLink\": true, \"linkText\": \"Export to plot.ly\", \"plotlyServerURL\": \"https://plot.ly\"})});</script>"
      ],
      "text/vnd.plotly.v1+html": [
       "<div id=\"c654b76e-f5ca-4eda-acfb-54ec66b2cfa4\" style=\"height: 1000px; width: 1000px;\" class=\"plotly-graph-div\"></div><script type=\"text/javascript\">require([\"plotly\"], function(Plotly) { window.PLOTLYENV=window.PLOTLYENV || {};window.PLOTLYENV.BASE_URL=\"https://plot.ly\";Plotly.newPlot(\"c654b76e-f5ca-4eda-acfb-54ec66b2cfa4\", [{\"marker\": {\"color\": \"rgb(158,202,225)\", \"line\": {\"color\": \"rgb(8,48,107)\", \"width\": 1.5}}, \"opacity\": 0.6, \"orientation\": \"h\", \"text\": [0.38, 0.12, 0.08, 0.04, 0.04, 0.04, 0.04, 0.04, 0.04, 0.04, 0.04, 0.02, 0.02, 0.02, 0.02, 0.02, 0.0, 0.0, 0.0, 0.0, 0.0, 0.0], \"textposition\": \"outside\", \"x\": [0.38, 0.12, 0.08, 0.04, 0.04, 0.04, 0.04, 0.04, 0.04, 0.04, 0.04, 0.02, 0.02, 0.02, 0.02, 0.02, 0.0, 0.0, 0.0, 0.0, 0.0, 0.0], \"y\": [\"http_header_content-length\", \"http_header_content-encoding_gzip\", \"http_header_transfer-encoding_chunked\", \"http_header_cache-control_set_max-age\", \"http_header_via_1.1\", \"http_header_vary_accept\", \"http_header_strict-transport-security_max-age\", \"http_header_pragmano-cache\", \"http_header_expect-ctmax-age\", \"http_header_connection_keep-alive\", \"http_header_cache-control_set_no-store\", \"http_header_server_apache\", \"http_header_server_nginx\", \"http_header_cache-control_set_public\", \"http_header_cache-control_set_private\", \"http_header_x-cintent-type-options_nosniff\", \"http_header_content-language_text/html\", \"http_header_cache-control_set_must-revalidate\", \"http_header_connection_close\", \"http_header_vary_age\", \"http_header_cache-control_set_no-cache\", \"http_header_x-xss-enabled\"], \"type\": \"bar\", \"uid\": \"26de9e32-6b52-4e3f-9747-e6e207dd5c16\"}], {\"autosize\": false, \"height\": 1000, \"width\": 1000, \"xaxis\": {\"tickfont\": {\"color\": \"black\", \"size\": 12}, \"title\": \"Feature Importances\"}, \"yaxis\": {\"automargin\": true}}, {\"showLink\": true, \"linkText\": \"Export to plot.ly\", \"plotlyServerURL\": \"https://plot.ly\"})});</script>"
      ]
     },
     "metadata": {},
     "output_type": "display_data"
    },
    {
     "name": "stdout",
     "output_type": "stream",
     "text": [
      "\n",
      "\n",
      "\u001b[1mGradientBoosting Classifier\u001b[0m\n",
      "Accuracy of the model for training data is: 0.89526889147\n",
      "Confusion Matrix for training data is:\n"
     ]
    },
    {
     "data": {
      "text/plain": [
       "Predicted  False   True  __all__\n",
       "Actual                          \n",
       "False      27919   3934    31853\n",
       "True        2738  29115    31853\n",
       "__all__    30657  33049    63706"
      ]
     },
     "metadata": {},
     "output_type": "display_data"
    },
    {
     "name": "stdout",
     "output_type": "stream",
     "text": [
      "Accuracy of the model for test data is: 0.879851722634\n",
      "Confusion Matrix for test data is:\n"
     ]
    },
    {
     "data": {
      "text/plain": [
       "Predicted  False  True  __all__\n",
       "Actual                         \n",
       "False       7004   978     7982\n",
       "True         124  1066     1190\n",
       "__all__     7128  2044     9172"
      ]
     },
     "metadata": {},
     "output_type": "display_data"
    },
    {
     "data": {
      "application/vnd.plotly.v1+json": {
       "config": {
        "linkText": "Export to plot.ly",
        "plotlyServerURL": "https://plot.ly",
        "showLink": true
       },
       "data": [
        {
         "marker": {
          "color": "rgb(158,202,225)",
          "line": {
           "color": "rgb(8,48,107)",
           "width": 1.5
          }
         },
         "opacity": 0.6,
         "orientation": "h",
         "text": [
          0.5763,
          0.2036,
          0.0652,
          0.0288,
          0.0272,
          0.0147,
          0.0107,
          0.0102,
          0.0079,
          0.0079,
          0.0075,
          0.0064,
          0.0056,
          0.0054,
          0.0052,
          0.0041,
          0.0035,
          0.0029,
          0.0022,
          0.0022,
          0.0018,
          0.0007
         ],
         "textposition": "outside",
         "type": "bar",
         "uid": "a20ecd45-5a51-43cb-99ac-3e680cac402a",
         "x": [
          0.5763397658429649,
          0.2036475489015445,
          0.06519844824943946,
          0.028795823046604312,
          0.027157695653711383,
          0.014744828882647523,
          0.010742166901504601,
          0.010224882899760724,
          0.007921933608793386,
          0.007910147756141475,
          0.00749259758304105,
          0.006410622115880233,
          0.005570599036953179,
          0.005361188752284467,
          0.0051600890151145854,
          0.004081305584100726,
          0.0034892224672550183,
          0.0028895431616516223,
          0.002209012441709953,
          0.0021692721317214617,
          0.0017843284902314637,
          0.0006989774769438862
         ],
         "y": [
          "http_header_content-encoding_gzip",
          "http_header_content-length",
          "http_header_transfer-encoding_chunked",
          "http_header_cache-control_set_max-age",
          "http_header_server_apache",
          "http_header_vary_accept",
          "http_header_cache-control_set_must-revalidate",
          "http_header_via_1.1",
          "http_header_connection_close",
          "http_header_vary_age",
          "http_header_server_nginx",
          "http_header_strict-transport-security_max-age",
          "http_header_pragmano-cache",
          "http_header_cache-control_set_private",
          "http_header_cache-control_set_no-store",
          "http_header_connection_keep-alive",
          "http_header_expect-ctmax-age",
          "http_header_content-language_text/html",
          "http_header_x-cintent-type-options_nosniff",
          "http_header_x-xss-enabled",
          "http_header_cache-control_set_no-cache",
          "http_header_cache-control_set_public"
         ]
        }
       ],
       "layout": {
        "autosize": false,
        "height": 1000,
        "width": 1000,
        "xaxis": {
         "tickfont": {
          "color": "black",
          "size": 12
         },
         "title": "Feature Importances"
        },
        "yaxis": {
         "automargin": true
        }
       }
      },
      "text/html": [
       "<div id=\"07c73ecf-63f4-4f84-8afd-8b3429048f25\" style=\"height: 1000px; width: 1000px;\" class=\"plotly-graph-div\"></div><script type=\"text/javascript\">require([\"plotly\"], function(Plotly) { window.PLOTLYENV=window.PLOTLYENV || {};window.PLOTLYENV.BASE_URL=\"https://plot.ly\";Plotly.newPlot(\"07c73ecf-63f4-4f84-8afd-8b3429048f25\", [{\"marker\": {\"color\": \"rgb(158,202,225)\", \"line\": {\"color\": \"rgb(8,48,107)\", \"width\": 1.5}}, \"opacity\": 0.6, \"orientation\": \"h\", \"text\": [0.5763, 0.2036, 0.0652, 0.0288, 0.0272, 0.0147, 0.0107, 0.0102, 0.0079, 0.0079, 0.0075, 0.0064, 0.0056, 0.0054, 0.0052, 0.0041, 0.0035, 0.0029, 0.0022, 0.0022, 0.0018, 0.0007], \"textposition\": \"outside\", \"x\": [0.5763397658429649, 0.2036475489015445, 0.06519844824943946, 0.028795823046604312, 0.027157695653711383, 0.014744828882647523, 0.010742166901504601, 0.010224882899760724, 0.007921933608793386, 0.007910147756141475, 0.00749259758304105, 0.006410622115880233, 0.005570599036953179, 0.005361188752284467, 0.0051600890151145854, 0.004081305584100726, 0.0034892224672550183, 0.0028895431616516223, 0.002209012441709953, 0.0021692721317214617, 0.0017843284902314637, 0.0006989774769438862], \"y\": [\"http_header_content-encoding_gzip\", \"http_header_content-length\", \"http_header_transfer-encoding_chunked\", \"http_header_cache-control_set_max-age\", \"http_header_server_apache\", \"http_header_vary_accept\", \"http_header_cache-control_set_must-revalidate\", \"http_header_via_1.1\", \"http_header_connection_close\", \"http_header_vary_age\", \"http_header_server_nginx\", \"http_header_strict-transport-security_max-age\", \"http_header_pragmano-cache\", \"http_header_cache-control_set_private\", \"http_header_cache-control_set_no-store\", \"http_header_connection_keep-alive\", \"http_header_expect-ctmax-age\", \"http_header_content-language_text/html\", \"http_header_x-cintent-type-options_nosniff\", \"http_header_x-xss-enabled\", \"http_header_cache-control_set_no-cache\", \"http_header_cache-control_set_public\"], \"type\": \"bar\", \"uid\": \"a20ecd45-5a51-43cb-99ac-3e680cac402a\"}], {\"autosize\": false, \"height\": 1000, \"width\": 1000, \"xaxis\": {\"tickfont\": {\"color\": \"black\", \"size\": 12}, \"title\": \"Feature Importances\"}, \"yaxis\": {\"automargin\": true}}, {\"showLink\": true, \"linkText\": \"Export to plot.ly\", \"plotlyServerURL\": \"https://plot.ly\"})});</script>"
      ],
      "text/vnd.plotly.v1+html": [
       "<div id=\"07c73ecf-63f4-4f84-8afd-8b3429048f25\" style=\"height: 1000px; width: 1000px;\" class=\"plotly-graph-div\"></div><script type=\"text/javascript\">require([\"plotly\"], function(Plotly) { window.PLOTLYENV=window.PLOTLYENV || {};window.PLOTLYENV.BASE_URL=\"https://plot.ly\";Plotly.newPlot(\"07c73ecf-63f4-4f84-8afd-8b3429048f25\", [{\"marker\": {\"color\": \"rgb(158,202,225)\", \"line\": {\"color\": \"rgb(8,48,107)\", \"width\": 1.5}}, \"opacity\": 0.6, \"orientation\": \"h\", \"text\": [0.5763, 0.2036, 0.0652, 0.0288, 0.0272, 0.0147, 0.0107, 0.0102, 0.0079, 0.0079, 0.0075, 0.0064, 0.0056, 0.0054, 0.0052, 0.0041, 0.0035, 0.0029, 0.0022, 0.0022, 0.0018, 0.0007], \"textposition\": \"outside\", \"x\": [0.5763397658429649, 0.2036475489015445, 0.06519844824943946, 0.028795823046604312, 0.027157695653711383, 0.014744828882647523, 0.010742166901504601, 0.010224882899760724, 0.007921933608793386, 0.007910147756141475, 0.00749259758304105, 0.006410622115880233, 0.005570599036953179, 0.005361188752284467, 0.0051600890151145854, 0.004081305584100726, 0.0034892224672550183, 0.0028895431616516223, 0.002209012441709953, 0.0021692721317214617, 0.0017843284902314637, 0.0006989774769438862], \"y\": [\"http_header_content-encoding_gzip\", \"http_header_content-length\", \"http_header_transfer-encoding_chunked\", \"http_header_cache-control_set_max-age\", \"http_header_server_apache\", \"http_header_vary_accept\", \"http_header_cache-control_set_must-revalidate\", \"http_header_via_1.1\", \"http_header_connection_close\", \"http_header_vary_age\", \"http_header_server_nginx\", \"http_header_strict-transport-security_max-age\", \"http_header_pragmano-cache\", \"http_header_cache-control_set_private\", \"http_header_cache-control_set_no-store\", \"http_header_connection_keep-alive\", \"http_header_expect-ctmax-age\", \"http_header_content-language_text/html\", \"http_header_x-cintent-type-options_nosniff\", \"http_header_x-xss-enabled\", \"http_header_cache-control_set_no-cache\", \"http_header_cache-control_set_public\"], \"type\": \"bar\", \"uid\": \"a20ecd45-5a51-43cb-99ac-3e680cac402a\"}], {\"autosize\": false, \"height\": 1000, \"width\": 1000, \"xaxis\": {\"tickfont\": {\"color\": \"black\", \"size\": 12}, \"title\": \"Feature Importances\"}, \"yaxis\": {\"automargin\": true}}, {\"showLink\": true, \"linkText\": \"Export to plot.ly\", \"plotlyServerURL\": \"https://plot.ly\"})});</script>"
      ]
     },
     "metadata": {},
     "output_type": "display_data"
    },
    {
     "name": "stdout",
     "output_type": "stream",
     "text": [
      "\n",
      "\n",
      "\u001b[1mExtraTree Classifier\u001b[0m\n",
      "Accuracy of the model for training data is: 0.935061061752\n",
      "Confusion Matrix for training data is:\n"
     ]
    },
    {
     "data": {
      "text/plain": [
       "Predicted  False   True  __all__\n",
       "Actual                          \n",
       "False      28552   3301    31853\n",
       "True         836  31017    31853\n",
       "__all__    29388  34318    63706"
      ]
     },
     "metadata": {},
     "output_type": "display_data"
    },
    {
     "name": "stdout",
     "output_type": "stream",
     "text": [
      "Accuracy of the model for test data is: 0.88617531618\n",
      "Confusion Matrix for test data is:\n"
     ]
    },
    {
     "data": {
      "text/plain": [
       "Predicted  False  True  __all__\n",
       "Actual                         \n",
       "False       7039   943     7982\n",
       "True         101  1089     1190\n",
       "__all__     7140  2032     9172"
      ]
     },
     "metadata": {},
     "output_type": "display_data"
    },
    {
     "data": {
      "application/vnd.plotly.v1+json": {
       "config": {
        "linkText": "Export to plot.ly",
        "plotlyServerURL": "https://plot.ly",
        "showLink": true
       },
       "data": [
        {
         "marker": {
          "color": "rgb(158,202,225)",
          "line": {
           "color": "rgb(8,48,107)",
           "width": 1.5
          }
         },
         "opacity": 0.6,
         "orientation": "h",
         "text": [
          0.1616,
          0.1325,
          0.118,
          0.1095,
          0.0732,
          0.0674,
          0.0502,
          0.0452,
          0.0299,
          0.0285,
          0.0245,
          0.0225,
          0.0219,
          0.0209,
          0.0186,
          0.0185,
          0.0148,
          0.0126,
          0.0093,
          0.0081,
          0.0081,
          0.0043
         ],
         "textposition": "outside",
         "type": "bar",
         "uid": "6ea2cc3d-ad72-4f13-86ec-e07609d877ee",
         "x": [
          0.16156063692376735,
          0.1325163260710295,
          0.11795801942522885,
          0.10950055231361691,
          0.07322156358139617,
          0.06742820027795801,
          0.05023516070413299,
          0.045225679009892106,
          0.029909568145114872,
          0.028451955509612447,
          0.02452355058868553,
          0.022450068112348235,
          0.02186314338346492,
          0.02087355854227577,
          0.018570652655375483,
          0.018494732165841455,
          0.014763871829388037,
          0.012629775961562376,
          0.009280046788653105,
          0.008123782339172733,
          0.008096615143418313,
          0.004322540528064856
         ],
         "y": [
          "http_header_vary_accept",
          "http_header_content-language_text/html",
          "http_header_content-length",
          "http_header_transfer-encoding_chunked",
          "http_header_cache-control_set_max-age",
          "http_header_server_apache",
          "http_header_connection_keep-alive",
          "http_header_content-encoding_gzip",
          "http_header_cache-control_set_private",
          "http_header_server_nginx",
          "http_header_pragmano-cache",
          "http_header_vary_age",
          "http_header_cache-control_set_no-cache",
          "http_header_connection_close",
          "http_header_cache-control_set_no-store",
          "http_header_cache-control_set_must-revalidate",
          "http_header_via_1.1",
          "http_header_strict-transport-security_max-age",
          "http_header_expect-ctmax-age",
          "http_header_x-cintent-type-options_nosniff",
          "http_header_x-xss-enabled",
          "http_header_cache-control_set_public"
         ]
        }
       ],
       "layout": {
        "autosize": false,
        "height": 1000,
        "width": 1000,
        "xaxis": {
         "tickfont": {
          "color": "black",
          "size": 12
         },
         "title": "Feature Importances"
        },
        "yaxis": {
         "automargin": true
        }
       }
      },
      "text/html": [
       "<div id=\"5cef9ced-afa7-421d-af0b-183999f5d40f\" style=\"height: 1000px; width: 1000px;\" class=\"plotly-graph-div\"></div><script type=\"text/javascript\">require([\"plotly\"], function(Plotly) { window.PLOTLYENV=window.PLOTLYENV || {};window.PLOTLYENV.BASE_URL=\"https://plot.ly\";Plotly.newPlot(\"5cef9ced-afa7-421d-af0b-183999f5d40f\", [{\"marker\": {\"color\": \"rgb(158,202,225)\", \"line\": {\"color\": \"rgb(8,48,107)\", \"width\": 1.5}}, \"opacity\": 0.6, \"orientation\": \"h\", \"text\": [0.1616, 0.1325, 0.118, 0.1095, 0.0732, 0.0674, 0.0502, 0.0452, 0.0299, 0.0285, 0.0245, 0.0225, 0.0219, 0.0209, 0.0186, 0.0185, 0.0148, 0.0126, 0.0093, 0.0081, 0.0081, 0.0043], \"textposition\": \"outside\", \"x\": [0.16156063692376735, 0.1325163260710295, 0.11795801942522885, 0.10950055231361691, 0.07322156358139617, 0.06742820027795801, 0.05023516070413299, 0.045225679009892106, 0.029909568145114872, 0.028451955509612447, 0.02452355058868553, 0.022450068112348235, 0.02186314338346492, 0.02087355854227577, 0.018570652655375483, 0.018494732165841455, 0.014763871829388037, 0.012629775961562376, 0.009280046788653105, 0.008123782339172733, 0.008096615143418313, 0.004322540528064856], \"y\": [\"http_header_vary_accept\", \"http_header_content-language_text/html\", \"http_header_content-length\", \"http_header_transfer-encoding_chunked\", \"http_header_cache-control_set_max-age\", \"http_header_server_apache\", \"http_header_connection_keep-alive\", \"http_header_content-encoding_gzip\", \"http_header_cache-control_set_private\", \"http_header_server_nginx\", \"http_header_pragmano-cache\", \"http_header_vary_age\", \"http_header_cache-control_set_no-cache\", \"http_header_connection_close\", \"http_header_cache-control_set_no-store\", \"http_header_cache-control_set_must-revalidate\", \"http_header_via_1.1\", \"http_header_strict-transport-security_max-age\", \"http_header_expect-ctmax-age\", \"http_header_x-cintent-type-options_nosniff\", \"http_header_x-xss-enabled\", \"http_header_cache-control_set_public\"], \"type\": \"bar\", \"uid\": \"6ea2cc3d-ad72-4f13-86ec-e07609d877ee\"}], {\"autosize\": false, \"height\": 1000, \"width\": 1000, \"xaxis\": {\"tickfont\": {\"color\": \"black\", \"size\": 12}, \"title\": \"Feature Importances\"}, \"yaxis\": {\"automargin\": true}}, {\"showLink\": true, \"linkText\": \"Export to plot.ly\", \"plotlyServerURL\": \"https://plot.ly\"})});</script>"
      ],
      "text/vnd.plotly.v1+html": [
       "<div id=\"5cef9ced-afa7-421d-af0b-183999f5d40f\" style=\"height: 1000px; width: 1000px;\" class=\"plotly-graph-div\"></div><script type=\"text/javascript\">require([\"plotly\"], function(Plotly) { window.PLOTLYENV=window.PLOTLYENV || {};window.PLOTLYENV.BASE_URL=\"https://plot.ly\";Plotly.newPlot(\"5cef9ced-afa7-421d-af0b-183999f5d40f\", [{\"marker\": {\"color\": \"rgb(158,202,225)\", \"line\": {\"color\": \"rgb(8,48,107)\", \"width\": 1.5}}, \"opacity\": 0.6, \"orientation\": \"h\", \"text\": [0.1616, 0.1325, 0.118, 0.1095, 0.0732, 0.0674, 0.0502, 0.0452, 0.0299, 0.0285, 0.0245, 0.0225, 0.0219, 0.0209, 0.0186, 0.0185, 0.0148, 0.0126, 0.0093, 0.0081, 0.0081, 0.0043], \"textposition\": \"outside\", \"x\": [0.16156063692376735, 0.1325163260710295, 0.11795801942522885, 0.10950055231361691, 0.07322156358139617, 0.06742820027795801, 0.05023516070413299, 0.045225679009892106, 0.029909568145114872, 0.028451955509612447, 0.02452355058868553, 0.022450068112348235, 0.02186314338346492, 0.02087355854227577, 0.018570652655375483, 0.018494732165841455, 0.014763871829388037, 0.012629775961562376, 0.009280046788653105, 0.008123782339172733, 0.008096615143418313, 0.004322540528064856], \"y\": [\"http_header_vary_accept\", \"http_header_content-language_text/html\", \"http_header_content-length\", \"http_header_transfer-encoding_chunked\", \"http_header_cache-control_set_max-age\", \"http_header_server_apache\", \"http_header_connection_keep-alive\", \"http_header_content-encoding_gzip\", \"http_header_cache-control_set_private\", \"http_header_server_nginx\", \"http_header_pragmano-cache\", \"http_header_vary_age\", \"http_header_cache-control_set_no-cache\", \"http_header_connection_close\", \"http_header_cache-control_set_no-store\", \"http_header_cache-control_set_must-revalidate\", \"http_header_via_1.1\", \"http_header_strict-transport-security_max-age\", \"http_header_expect-ctmax-age\", \"http_header_x-cintent-type-options_nosniff\", \"http_header_x-xss-enabled\", \"http_header_cache-control_set_public\"], \"type\": \"bar\", \"uid\": \"6ea2cc3d-ad72-4f13-86ec-e07609d877ee\"}], {\"autosize\": false, \"height\": 1000, \"width\": 1000, \"xaxis\": {\"tickfont\": {\"color\": \"black\", \"size\": 12}, \"title\": \"Feature Importances\"}, \"yaxis\": {\"automargin\": true}}, {\"showLink\": true, \"linkText\": \"Export to plot.ly\", \"plotlyServerURL\": \"https://plot.ly\"})});</script>"
      ]
     },
     "metadata": {},
     "output_type": "display_data"
    },
    {
     "name": "stdout",
     "output_type": "stream",
     "text": [
      "\n",
      "\n",
      "\u001b[1mBagging Classifier\u001b[0m\n",
      "Accuracy of the model for training data is: 0.932722192572\n",
      "Confusion Matrix for training data is:\n"
     ]
    },
    {
     "data": {
      "text/plain": [
       "Predicted  False   True  __all__\n",
       "Actual                          \n",
       "False      28531   3322    31853\n",
       "True         964  30889    31853\n",
       "__all__    29495  34211    63706"
      ]
     },
     "metadata": {},
     "output_type": "display_data"
    },
    {
     "name": "stdout",
     "output_type": "stream",
     "text": [
      "Accuracy of the model for test data is: 0.886720453554\n",
      "Confusion Matrix for test data is:\n"
     ]
    },
    {
     "data": {
      "text/plain": [
       "Predicted  False  True  __all__\n",
       "Actual                         \n",
       "False       7048   934     7982\n",
       "True         105  1085     1190\n",
       "__all__     7153  2019     9172"
      ]
     },
     "metadata": {},
     "output_type": "display_data"
    },
    {
     "name": "stdout",
     "output_type": "stream",
     "text": [
      "\n",
      "\n",
      "\u001b[1mNeural Network-1\u001b[0m\n",
      "The accuracy of the model on training data is: 0.910275327287\n"
     ]
    },
    {
     "data": {
      "text/plain": [
       "Predicted  False   True  __all__\n",
       "Actual                          \n",
       "False      27866   3987    31853\n",
       "True        1729  30124    31853\n",
       "__all__    29595  34111    63706"
      ]
     },
     "metadata": {},
     "output_type": "display_data"
    },
    {
     "name": "stdout",
     "output_type": "stream",
     "text": [
      "The accuracy of the model on test data is: 0.882686436982\n"
     ]
    },
    {
     "data": {
      "text/plain": [
       "Predicted  False  True  __all__\n",
       "Actual                         \n",
       "False       7009   973     7982\n",
       "True         103  1087     1190\n",
       "__all__     7112  2060     9172"
      ]
     },
     "metadata": {},
     "output_type": "display_data"
    },
    {
     "name": "stdout",
     "output_type": "stream",
     "text": [
      "\n",
      "\n"
     ]
    }
   ],
   "source": [
    "feat_imp=[None]*4\n",
    "j=0\n",
    "for i in range(0,8):\n",
    "    if i>=2 and i<=5:\n",
    "        model,cm_train,cm_test,acc_train,acc_test,roc_auc,feat_imp[j],mcc=f[i](X_train,Y_train,scaled_X_test,test_Y,columns[:-2])\n",
    "        j=j+1\n",
    "    else:\n",
    "        model,cm_train,cm_test,acc_train,acc_test,roc_auc,mcc=f[i](X_train,Y_train,scaled_X_test,test_Y)\n",
    "    table_80_80_train.loc[i]=   ([acc_train,cm_train.TP,cm_train.TN,cm_train.FP,cm_train.FN,cm_train.FPR,cm_train.FNR])\n",
    "    table_80_80_test.loc[i] =   ([acc_test ,cm_test.TP, cm_test.TN, cm_test.FP, cm_test.FN, cm_test.FPR, cm_test.FNR,roc_auc,mcc])\n",
    "    print(\"\\n\")"
   ]
  },
  {
   "cell_type": "markdown",
   "metadata": {},
   "source": [
    "### <a id='2.A' style=\"text-decoration : none; color : #000000;\"> A Results</a>"
   ]
  },
  {
   "cell_type": "code",
   "execution_count": 35,
   "metadata": {},
   "outputs": [
    {
     "data": {
      "application/vnd.plotly.v1+json": {
       "config": {
        "linkText": "Export to plot.ly",
        "plotlyServerURL": "https://plot.ly",
        "showLink": true
       },
       "data": [
        {
         "mode": "lines",
         "name": "KNN_model",
         "type": "scatter",
         "uid": "6a323dd2-dfd9-4aa4-8dbb-517404654978",
         "x": [
          "accuracy",
          "FPR",
          "FNR",
          "auc"
         ],
         "y": [
          0.8988225032708242,
          0.09759458782260085,
          0.12521008403361344,
          0.8885976640718929
         ]
        },
        {
         "mode": "lines+markers",
         "name": "Logistic Regression",
         "type": "scatter",
         "uid": "c56ddbdd-9dc6-42db-ada3-917d0c7e207a",
         "x": [
          "accuracy",
          "FPR",
          "FNR",
          "auc"
         ],
         "y": [
          0.8431094635848234,
          0.16449511400651465,
          0.10588235294117647,
          0.8648112665261544
         ]
        },
        {
         "marker": {
          "symbol": "x"
         },
         "mode": "lines+markers",
         "name": "Random Forest",
         "type": "scatter",
         "uid": "cf224bb0-f446-4c1f-9e2e-3c9b0ca2164d",
         "x": [
          "accuracy",
          "FPR",
          "FNR",
          "auc"
         ],
         "y": [
          0.8870475359790667,
          0.11663743422701077,
          0.08823529411764706,
          0.897563635827671
         ]
        },
        {
         "mode": "lines",
         "name": "Ada Boost",
         "type": "scatter",
         "uid": "160c1446-dc15-4f96-9a8d-fa8e52a2c0c5",
         "x": [
          "accuracy",
          "FPR",
          "FNR",
          "auc"
         ],
         "y": [
          0.8499781945050152,
          0.15522425457278877,
          0.11512605042016806,
          0.8648248475035216
         ]
        },
        {
         "mode": "lines+markers",
         "name": "GradientBoosting",
         "type": "scatter",
         "uid": "93375329-4948-4125-9b5b-d45678ffe45e",
         "x": [
          "accuracy",
          "FPR",
          "FNR",
          "auc"
         ],
         "y": [
          0.8798517226341038,
          0.1225256827862691,
          0.10420168067226891,
          0.886636318270731
         ]
        },
        {
         "marker": {
          "symbol": "x"
         },
         "mode": "lines+markers",
         "name": "ExtraTree Classifier",
         "type": "scatter",
         "uid": "d6f11714-62de-4f36-81d6-036c753a397a",
         "x": [
          "accuracy",
          "FPR",
          "FNR",
          "auc"
         ],
         "y": [
          0.8861753161796773,
          0.11814081683788524,
          0.08487394957983194,
          0.8984926167911413
         ]
        },
        {
         "marker": {
          "symbol": "x"
         },
         "mode": "lines+markers",
         "name": "Bagging",
         "type": "scatter",
         "uid": "0d0c9fa9-c4a1-47ec-823d-c76c4f585bf0",
         "x": [
          "accuracy",
          "FPR",
          "FNR",
          "auc"
         ],
         "y": [
          0.8867204535542956,
          0.11701327987972938,
          0.08823529411764706,
          0.8973757130013117
         ]
        },
        {
         "marker": {
          "symbol": "x"
         },
         "mode": "lines+markers",
         "name": "Neural Network",
         "type": "scatter",
         "uid": "b2cc9baf-850e-49bc-83ca-2d9ba7659159",
         "x": [
          "accuracy",
          "FPR",
          "FNR",
          "auc"
         ],
         "y": [
          0.8826864369821195,
          0.1218992733650714,
          0.0865546218487395,
          0.8973757130013117
         ]
        }
       ],
       "layout": {
        "title": "Result comparision for Features selected in Section 1",
        "yaxis": {
         "dtick": 0.05,
         "tick0": 0
        }
       }
      },
      "text/html": [
       "<div id=\"da622909-00bc-45aa-be7d-5af198aa30fa\" style=\"height: 525px; width: 100%;\" class=\"plotly-graph-div\"></div><script type=\"text/javascript\">require([\"plotly\"], function(Plotly) { window.PLOTLYENV=window.PLOTLYENV || {};window.PLOTLYENV.BASE_URL=\"https://plot.ly\";Plotly.newPlot(\"da622909-00bc-45aa-be7d-5af198aa30fa\", [{\"mode\": \"lines\", \"name\": \"KNN_model\", \"x\": [\"accuracy\", \"FPR\", \"FNR\", \"auc\"], \"y\": [0.8988225032708242, 0.09759458782260085, 0.12521008403361344, 0.8885976640718929], \"type\": \"scatter\", \"uid\": \"6a323dd2-dfd9-4aa4-8dbb-517404654978\"}, {\"mode\": \"lines+markers\", \"name\": \"Logistic Regression\", \"x\": [\"accuracy\", \"FPR\", \"FNR\", \"auc\"], \"y\": [0.8431094635848234, 0.16449511400651465, 0.10588235294117647, 0.8648112665261544], \"type\": \"scatter\", \"uid\": \"c56ddbdd-9dc6-42db-ada3-917d0c7e207a\"}, {\"marker\": {\"symbol\": \"x\"}, \"mode\": \"lines+markers\", \"name\": \"Random Forest\", \"x\": [\"accuracy\", \"FPR\", \"FNR\", \"auc\"], \"y\": [0.8870475359790667, 0.11663743422701077, 0.08823529411764706, 0.897563635827671], \"type\": \"scatter\", \"uid\": \"cf224bb0-f446-4c1f-9e2e-3c9b0ca2164d\"}, {\"mode\": \"lines\", \"name\": \"Ada Boost\", \"x\": [\"accuracy\", \"FPR\", \"FNR\", \"auc\"], \"y\": [0.8499781945050152, 0.15522425457278877, 0.11512605042016806, 0.8648248475035216], \"type\": \"scatter\", \"uid\": \"160c1446-dc15-4f96-9a8d-fa8e52a2c0c5\"}, {\"mode\": \"lines+markers\", \"name\": \"GradientBoosting\", \"x\": [\"accuracy\", \"FPR\", \"FNR\", \"auc\"], \"y\": [0.8798517226341038, 0.1225256827862691, 0.10420168067226891, 0.886636318270731], \"type\": \"scatter\", \"uid\": \"93375329-4948-4125-9b5b-d45678ffe45e\"}, {\"marker\": {\"symbol\": \"x\"}, \"mode\": \"lines+markers\", \"name\": \"ExtraTree Classifier\", \"x\": [\"accuracy\", \"FPR\", \"FNR\", \"auc\"], \"y\": [0.8861753161796773, 0.11814081683788524, 0.08487394957983194, 0.8984926167911413], \"type\": \"scatter\", \"uid\": \"d6f11714-62de-4f36-81d6-036c753a397a\"}, {\"marker\": {\"symbol\": \"x\"}, \"mode\": \"lines+markers\", \"name\": \"Bagging\", \"x\": [\"accuracy\", \"FPR\", \"FNR\", \"auc\"], \"y\": [0.8867204535542956, 0.11701327987972938, 0.08823529411764706, 0.8973757130013117], \"type\": \"scatter\", \"uid\": \"0d0c9fa9-c4a1-47ec-823d-c76c4f585bf0\"}, {\"marker\": {\"symbol\": \"x\"}, \"mode\": \"lines+markers\", \"name\": \"Neural Network\", \"x\": [\"accuracy\", \"FPR\", \"FNR\", \"auc\"], \"y\": [0.8826864369821195, 0.1218992733650714, 0.0865546218487395, 0.8973757130013117], \"type\": \"scatter\", \"uid\": \"b2cc9baf-850e-49bc-83ca-2d9ba7659159\"}], {\"title\": \"Result comparision for Features selected in Section 1\", \"yaxis\": {\"dtick\": 0.05, \"tick0\": 0}}, {\"showLink\": true, \"linkText\": \"Export to plot.ly\", \"plotlyServerURL\": \"https://plot.ly\"})});</script><script type=\"text/javascript\">window.addEventListener(\"resize\", function(){window._Plotly.Plots.resize(document.getElementById(\"da622909-00bc-45aa-be7d-5af198aa30fa\"));});</script>"
      ],
      "text/vnd.plotly.v1+html": [
       "<div id=\"da622909-00bc-45aa-be7d-5af198aa30fa\" style=\"height: 525px; width: 100%;\" class=\"plotly-graph-div\"></div><script type=\"text/javascript\">require([\"plotly\"], function(Plotly) { window.PLOTLYENV=window.PLOTLYENV || {};window.PLOTLYENV.BASE_URL=\"https://plot.ly\";Plotly.newPlot(\"da622909-00bc-45aa-be7d-5af198aa30fa\", [{\"mode\": \"lines\", \"name\": \"KNN_model\", \"x\": [\"accuracy\", \"FPR\", \"FNR\", \"auc\"], \"y\": [0.8988225032708242, 0.09759458782260085, 0.12521008403361344, 0.8885976640718929], \"type\": \"scatter\", \"uid\": \"6a323dd2-dfd9-4aa4-8dbb-517404654978\"}, {\"mode\": \"lines+markers\", \"name\": \"Logistic Regression\", \"x\": [\"accuracy\", \"FPR\", \"FNR\", \"auc\"], \"y\": [0.8431094635848234, 0.16449511400651465, 0.10588235294117647, 0.8648112665261544], \"type\": \"scatter\", \"uid\": \"c56ddbdd-9dc6-42db-ada3-917d0c7e207a\"}, {\"marker\": {\"symbol\": \"x\"}, \"mode\": \"lines+markers\", \"name\": \"Random Forest\", \"x\": [\"accuracy\", \"FPR\", \"FNR\", \"auc\"], \"y\": [0.8870475359790667, 0.11663743422701077, 0.08823529411764706, 0.897563635827671], \"type\": \"scatter\", \"uid\": \"cf224bb0-f446-4c1f-9e2e-3c9b0ca2164d\"}, {\"mode\": \"lines\", \"name\": \"Ada Boost\", \"x\": [\"accuracy\", \"FPR\", \"FNR\", \"auc\"], \"y\": [0.8499781945050152, 0.15522425457278877, 0.11512605042016806, 0.8648248475035216], \"type\": \"scatter\", \"uid\": \"160c1446-dc15-4f96-9a8d-fa8e52a2c0c5\"}, {\"mode\": \"lines+markers\", \"name\": \"GradientBoosting\", \"x\": [\"accuracy\", \"FPR\", \"FNR\", \"auc\"], \"y\": [0.8798517226341038, 0.1225256827862691, 0.10420168067226891, 0.886636318270731], \"type\": \"scatter\", \"uid\": \"93375329-4948-4125-9b5b-d45678ffe45e\"}, {\"marker\": {\"symbol\": \"x\"}, \"mode\": \"lines+markers\", \"name\": \"ExtraTree Classifier\", \"x\": [\"accuracy\", \"FPR\", \"FNR\", \"auc\"], \"y\": [0.8861753161796773, 0.11814081683788524, 0.08487394957983194, 0.8984926167911413], \"type\": \"scatter\", \"uid\": \"d6f11714-62de-4f36-81d6-036c753a397a\"}, {\"marker\": {\"symbol\": \"x\"}, \"mode\": \"lines+markers\", \"name\": \"Bagging\", \"x\": [\"accuracy\", \"FPR\", \"FNR\", \"auc\"], \"y\": [0.8867204535542956, 0.11701327987972938, 0.08823529411764706, 0.8973757130013117], \"type\": \"scatter\", \"uid\": \"0d0c9fa9-c4a1-47ec-823d-c76c4f585bf0\"}, {\"marker\": {\"symbol\": \"x\"}, \"mode\": \"lines+markers\", \"name\": \"Neural Network\", \"x\": [\"accuracy\", \"FPR\", \"FNR\", \"auc\"], \"y\": [0.8826864369821195, 0.1218992733650714, 0.0865546218487395, 0.8973757130013117], \"type\": \"scatter\", \"uid\": \"b2cc9baf-850e-49bc-83ca-2d9ba7659159\"}], {\"title\": \"Result comparision for Features selected in Section 1\", \"yaxis\": {\"dtick\": 0.05, \"tick0\": 0}}, {\"showLink\": true, \"linkText\": \"Export to plot.ly\", \"plotlyServerURL\": \"https://plot.ly\"})});</script><script type=\"text/javascript\">window.addEventListener(\"resize\", function(){window._Plotly.Plots.resize(document.getElementById(\"da622909-00bc-45aa-be7d-5af198aa30fa\"));});</script>"
      ]
     },
     "metadata": {},
     "output_type": "display_data"
    }
   ],
   "source": [
    "trace0 = go.Scatter(x=table_80_80_test.iloc[0].index.values[[0,5,6,7]],\n",
    "                    y=table_80_80_test.iloc[0].values[[0,5,6,7]],\n",
    "                    mode = 'lines',\n",
    "                    name = 'KNN_model')\n",
    "\n",
    "trace1 = go.Scatter(x=table_80_80_test.iloc[1].index.values[[0,5,6,7]],\n",
    "                    y=table_80_80_test.iloc[1].values[[0,5,6,7]],\n",
    "                    mode = 'lines+markers',\n",
    "                    name = 'Logistic Regression')\n",
    "\n",
    "trace2 = go.Scatter(x=table_80_80_test.iloc[2].index.values[[0,5,6,7]],\n",
    "                    y=table_80_80_test.iloc[2].values[[0,5,6,7]],\n",
    "                    mode = 'lines+markers',marker=dict(symbol='x'),\n",
    "                    name = 'Random Forest')\n",
    "\n",
    "\n",
    "trace3 = go.Scatter(x=table_80_80_test.iloc[3].index.values[[0,5,6,7]],\n",
    "                    y=table_80_80_test.iloc[3].values[[0,5,6,7]],\n",
    "                    mode = 'lines',\n",
    "                    name = 'Ada Boost')\n",
    "\n",
    "trace4 = go.Scatter(x=table_80_80_test.iloc[4].index.values[[0,5,6,7]],\n",
    "                    y=table_80_80_test.iloc[4].values[[0,5,6,7]],\n",
    "                    mode = 'lines+markers',\n",
    "                    name = 'GradientBoosting')\n",
    "\n",
    "trace5 = go.Scatter(x=table_80_80_test.iloc[5].index.values[[0,5,6,7]],\n",
    "                    y=table_80_80_test.iloc[5].values[[0,5,6,7]],\n",
    "                    mode = 'lines+markers',marker=dict(symbol='x'),\n",
    "                    name = 'ExtraTree Classifier')\n",
    "\n",
    "trace6 = go.Scatter(x=table_80_80_test.iloc[6].index.values[[0,5,6,7]],\n",
    "                    y=table_80_80_test.iloc[6].values[[0,5,6,7]],\n",
    "                    mode = 'lines+markers',marker=dict(symbol='x'),\n",
    "                    name = 'Bagging')\n",
    "\n",
    "trace7 = go.Scatter(x=table_80_80_test.iloc[7].index.values[[0,5,6,7]],\n",
    "                    y=table_80_80_test.iloc[7].values[[0,5,6,7]],\n",
    "                    mode = 'lines+markers',marker=dict(symbol='x'),\n",
    "                    name = 'Neural Network')\n",
    "\n",
    "\n",
    "\n",
    "data = [trace0, trace1, trace2, trace3, trace4, trace5, trace6, trace7]\n",
    "layout = go.Layout(yaxis=dict(tick0=0,dtick=0.05),title='Result comparision for Features selected in Section 1')\n",
    "fig = go.Figure(data=data, layout=layout)\n",
    "\n",
    "iplot(fig, filename='Result')"
   ]
  },
  {
   "cell_type": "code",
   "execution_count": 36,
   "metadata": {},
   "outputs": [
    {
     "name": "stdout",
     "output_type": "stream",
     "text": [
      "Training Results\n"
     ]
    },
    {
     "data": {
      "text/html": [
       "<div>\n",
       "<style scoped>\n",
       "    .dataframe tbody tr th:only-of-type {\n",
       "        vertical-align: middle;\n",
       "    }\n",
       "\n",
       "    .dataframe tbody tr th {\n",
       "        vertical-align: top;\n",
       "    }\n",
       "\n",
       "    .dataframe thead th {\n",
       "        text-align: right;\n",
       "    }\n",
       "</style>\n",
       "<table border=\"1\" class=\"dataframe\">\n",
       "  <thead>\n",
       "    <tr style=\"text-align: right;\">\n",
       "      <th></th>\n",
       "      <th>accuracy</th>\n",
       "      <th>TP</th>\n",
       "      <th>TN</th>\n",
       "      <th>FP</th>\n",
       "      <th>FN</th>\n",
       "      <th>FPR</th>\n",
       "      <th>FNR</th>\n",
       "    </tr>\n",
       "    <tr>\n",
       "      <th>index</th>\n",
       "      <th></th>\n",
       "      <th></th>\n",
       "      <th></th>\n",
       "      <th></th>\n",
       "      <th></th>\n",
       "      <th></th>\n",
       "      <th></th>\n",
       "    </tr>\n",
       "  </thead>\n",
       "  <tbody>\n",
       "    <tr>\n",
       "      <th>KNeighborsClassifier</th>\n",
       "      <td>0.911876</td>\n",
       "      <td>29183.0</td>\n",
       "      <td>28909.0</td>\n",
       "      <td>2944.0</td>\n",
       "      <td>2670.0</td>\n",
       "      <td>0.092425</td>\n",
       "      <td>0.083823</td>\n",
       "    </tr>\n",
       "    <tr>\n",
       "      <th>LogisticRegression</th>\n",
       "      <td>0.867108</td>\n",
       "      <td>28817.0</td>\n",
       "      <td>26423.0</td>\n",
       "      <td>5430.0</td>\n",
       "      <td>3036.0</td>\n",
       "      <td>0.170471</td>\n",
       "      <td>0.095313</td>\n",
       "    </tr>\n",
       "    <tr>\n",
       "      <th>RandomForestClassifier</th>\n",
       "      <td>0.932612</td>\n",
       "      <td>30904.0</td>\n",
       "      <td>28509.0</td>\n",
       "      <td>3344.0</td>\n",
       "      <td>949.0</td>\n",
       "      <td>0.104982</td>\n",
       "      <td>0.029793</td>\n",
       "    </tr>\n",
       "    <tr>\n",
       "      <th>AdaBoostClassifier</th>\n",
       "      <td>0.873732</td>\n",
       "      <td>28848.0</td>\n",
       "      <td>26814.0</td>\n",
       "      <td>5039.0</td>\n",
       "      <td>3005.0</td>\n",
       "      <td>0.158195</td>\n",
       "      <td>0.094340</td>\n",
       "    </tr>\n",
       "    <tr>\n",
       "      <th>GradientBoostingClassifier</th>\n",
       "      <td>0.895269</td>\n",
       "      <td>29115.0</td>\n",
       "      <td>27919.0</td>\n",
       "      <td>3934.0</td>\n",
       "      <td>2738.0</td>\n",
       "      <td>0.123505</td>\n",
       "      <td>0.085957</td>\n",
       "    </tr>\n",
       "    <tr>\n",
       "      <th>ExtraTreeClassifier</th>\n",
       "      <td>0.935061</td>\n",
       "      <td>31017.0</td>\n",
       "      <td>28552.0</td>\n",
       "      <td>3301.0</td>\n",
       "      <td>836.0</td>\n",
       "      <td>0.103632</td>\n",
       "      <td>0.026246</td>\n",
       "    </tr>\n",
       "    <tr>\n",
       "      <th>BaggingClassifier</th>\n",
       "      <td>0.932722</td>\n",
       "      <td>30889.0</td>\n",
       "      <td>28531.0</td>\n",
       "      <td>3322.0</td>\n",
       "      <td>964.0</td>\n",
       "      <td>0.104292</td>\n",
       "      <td>0.030264</td>\n",
       "    </tr>\n",
       "    <tr>\n",
       "      <th>Neural Network-1</th>\n",
       "      <td>0.910275</td>\n",
       "      <td>30124.0</td>\n",
       "      <td>27866.0</td>\n",
       "      <td>3987.0</td>\n",
       "      <td>1729.0</td>\n",
       "      <td>0.125169</td>\n",
       "      <td>0.054281</td>\n",
       "    </tr>\n",
       "  </tbody>\n",
       "</table>\n",
       "</div>"
      ],
      "text/plain": [
       "                            accuracy       TP       TN      FP      FN  \\\n",
       "index                                                                    \n",
       "KNeighborsClassifier        0.911876  29183.0  28909.0  2944.0  2670.0   \n",
       "LogisticRegression          0.867108  28817.0  26423.0  5430.0  3036.0   \n",
       "RandomForestClassifier      0.932612  30904.0  28509.0  3344.0   949.0   \n",
       "AdaBoostClassifier          0.873732  28848.0  26814.0  5039.0  3005.0   \n",
       "GradientBoostingClassifier  0.895269  29115.0  27919.0  3934.0  2738.0   \n",
       "ExtraTreeClassifier         0.935061  31017.0  28552.0  3301.0   836.0   \n",
       "BaggingClassifier           0.932722  30889.0  28531.0  3322.0   964.0   \n",
       "Neural Network-1            0.910275  30124.0  27866.0  3987.0  1729.0   \n",
       "\n",
       "                                 FPR       FNR  \n",
       "index                                           \n",
       "KNeighborsClassifier        0.092425  0.083823  \n",
       "LogisticRegression          0.170471  0.095313  \n",
       "RandomForestClassifier      0.104982  0.029793  \n",
       "AdaBoostClassifier          0.158195  0.094340  \n",
       "GradientBoostingClassifier  0.123505  0.085957  \n",
       "ExtraTreeClassifier         0.103632  0.026246  \n",
       "BaggingClassifier           0.104292  0.030264  \n",
       "Neural Network-1            0.125169  0.054281  "
      ]
     },
     "metadata": {},
     "output_type": "display_data"
    },
    {
     "name": "stdout",
     "output_type": "stream",
     "text": [
      "Test Results\n"
     ]
    },
    {
     "data": {
      "text/html": [
       "<div>\n",
       "<style scoped>\n",
       "    .dataframe tbody tr th:only-of-type {\n",
       "        vertical-align: middle;\n",
       "    }\n",
       "\n",
       "    .dataframe tbody tr th {\n",
       "        vertical-align: top;\n",
       "    }\n",
       "\n",
       "    .dataframe thead th {\n",
       "        text-align: right;\n",
       "    }\n",
       "</style>\n",
       "<table border=\"1\" class=\"dataframe\">\n",
       "  <thead>\n",
       "    <tr style=\"text-align: right;\">\n",
       "      <th></th>\n",
       "      <th>accuracy</th>\n",
       "      <th>TP</th>\n",
       "      <th>TN</th>\n",
       "      <th>FP</th>\n",
       "      <th>FN</th>\n",
       "      <th>FPR</th>\n",
       "      <th>FNR</th>\n",
       "      <th>auc</th>\n",
       "      <th>mcc</th>\n",
       "    </tr>\n",
       "    <tr>\n",
       "      <th>index</th>\n",
       "      <th></th>\n",
       "      <th></th>\n",
       "      <th></th>\n",
       "      <th></th>\n",
       "      <th></th>\n",
       "      <th></th>\n",
       "      <th></th>\n",
       "      <th></th>\n",
       "      <th></th>\n",
       "    </tr>\n",
       "  </thead>\n",
       "  <tbody>\n",
       "    <tr>\n",
       "      <th>KNeighborsClassifier</th>\n",
       "      <td>0.898823</td>\n",
       "      <td>1041.0</td>\n",
       "      <td>7203.0</td>\n",
       "      <td>779.0</td>\n",
       "      <td>149.0</td>\n",
       "      <td>0.097595</td>\n",
       "      <td>0.125210</td>\n",
       "      <td>0.888598</td>\n",
       "      <td>0.654819</td>\n",
       "    </tr>\n",
       "    <tr>\n",
       "      <th>LogisticRegression</th>\n",
       "      <td>0.843109</td>\n",
       "      <td>1064.0</td>\n",
       "      <td>6669.0</td>\n",
       "      <td>1313.0</td>\n",
       "      <td>126.0</td>\n",
       "      <td>0.164495</td>\n",
       "      <td>0.105882</td>\n",
       "      <td>0.864811</td>\n",
       "      <td>0.559523</td>\n",
       "    </tr>\n",
       "    <tr>\n",
       "      <th>RandomForestClassifier</th>\n",
       "      <td>0.887048</td>\n",
       "      <td>1085.0</td>\n",
       "      <td>7051.0</td>\n",
       "      <td>931.0</td>\n",
       "      <td>105.0</td>\n",
       "      <td>0.116637</td>\n",
       "      <td>0.088235</td>\n",
       "      <td>0.897564</td>\n",
       "      <td>0.645187</td>\n",
       "    </tr>\n",
       "    <tr>\n",
       "      <th>AdaBoostClassifier</th>\n",
       "      <td>0.849978</td>\n",
       "      <td>1053.0</td>\n",
       "      <td>6743.0</td>\n",
       "      <td>1239.0</td>\n",
       "      <td>137.0</td>\n",
       "      <td>0.155224</td>\n",
       "      <td>0.115126</td>\n",
       "      <td>0.864825</td>\n",
       "      <td>0.566294</td>\n",
       "    </tr>\n",
       "    <tr>\n",
       "      <th>GradientBoostingClassifier</th>\n",
       "      <td>0.879852</td>\n",
       "      <td>1066.0</td>\n",
       "      <td>7004.0</td>\n",
       "      <td>978.0</td>\n",
       "      <td>124.0</td>\n",
       "      <td>0.122526</td>\n",
       "      <td>0.104202</td>\n",
       "      <td>0.886636</td>\n",
       "      <td>0.624364</td>\n",
       "    </tr>\n",
       "    <tr>\n",
       "      <th>ExtraTreeClassifier</th>\n",
       "      <td>0.886175</td>\n",
       "      <td>1089.0</td>\n",
       "      <td>7039.0</td>\n",
       "      <td>943.0</td>\n",
       "      <td>101.0</td>\n",
       "      <td>0.118141</td>\n",
       "      <td>0.084874</td>\n",
       "      <td>0.898493</td>\n",
       "      <td>0.644865</td>\n",
       "    </tr>\n",
       "    <tr>\n",
       "      <th>BaggingClassifier</th>\n",
       "      <td>0.886720</td>\n",
       "      <td>1085.0</td>\n",
       "      <td>7048.0</td>\n",
       "      <td>934.0</td>\n",
       "      <td>105.0</td>\n",
       "      <td>0.117013</td>\n",
       "      <td>0.088235</td>\n",
       "      <td>0.897376</td>\n",
       "      <td>0.644538</td>\n",
       "    </tr>\n",
       "    <tr>\n",
       "      <th>Neural Network-1</th>\n",
       "      <td>0.882686</td>\n",
       "      <td>1087.0</td>\n",
       "      <td>7009.0</td>\n",
       "      <td>973.0</td>\n",
       "      <td>103.0</td>\n",
       "      <td>0.121899</td>\n",
       "      <td>0.086555</td>\n",
       "      <td>0.897376</td>\n",
       "      <td>0.637347</td>\n",
       "    </tr>\n",
       "  </tbody>\n",
       "</table>\n",
       "</div>"
      ],
      "text/plain": [
       "                            accuracy      TP      TN      FP     FN       FPR  \\\n",
       "index                                                                           \n",
       "KNeighborsClassifier        0.898823  1041.0  7203.0   779.0  149.0  0.097595   \n",
       "LogisticRegression          0.843109  1064.0  6669.0  1313.0  126.0  0.164495   \n",
       "RandomForestClassifier      0.887048  1085.0  7051.0   931.0  105.0  0.116637   \n",
       "AdaBoostClassifier          0.849978  1053.0  6743.0  1239.0  137.0  0.155224   \n",
       "GradientBoostingClassifier  0.879852  1066.0  7004.0   978.0  124.0  0.122526   \n",
       "ExtraTreeClassifier         0.886175  1089.0  7039.0   943.0  101.0  0.118141   \n",
       "BaggingClassifier           0.886720  1085.0  7048.0   934.0  105.0  0.117013   \n",
       "Neural Network-1            0.882686  1087.0  7009.0   973.0  103.0  0.121899   \n",
       "\n",
       "                                 FNR       auc       mcc  \n",
       "index                                                     \n",
       "KNeighborsClassifier        0.125210  0.888598  0.654819  \n",
       "LogisticRegression          0.105882  0.864811  0.559523  \n",
       "RandomForestClassifier      0.088235  0.897564  0.645187  \n",
       "AdaBoostClassifier          0.115126  0.864825  0.566294  \n",
       "GradientBoostingClassifier  0.104202  0.886636  0.624364  \n",
       "ExtraTreeClassifier         0.084874  0.898493  0.644865  \n",
       "BaggingClassifier           0.088235  0.897376  0.644538  \n",
       "Neural Network-1            0.086555  0.897376  0.637347  "
      ]
     },
     "metadata": {},
     "output_type": "display_data"
    }
   ],
   "source": [
    "table_80_80_train['index']=ind_columns\n",
    "table_80_80_test['index']=ind_columns\n",
    "\n",
    "\n",
    "table_80_80_test.set_index(['index'],drop=True,inplace=True)\n",
    "table_80_80_train.set_index(['index'],drop=True,inplace=True)\n",
    "\n",
    "print(\"Training Results\")\n",
    "display(table_80_80_train)\n",
    "print(\"Test Results\")\n",
    "display(table_80_80_test)"
   ]
  },
  {
   "cell_type": "markdown",
   "metadata": {},
   "source": [
    "### <a id='2.B' style=\"text-decoration : none; color : #000000;\"> B. Average Feature Importances</a>"
   ]
  },
  {
   "cell_type": "code",
   "execution_count": 37,
   "metadata": {},
   "outputs": [
    {
     "data": {
      "application/vnd.plotly.v1+json": {
       "config": {
        "linkText": "Export to plot.ly",
        "plotlyServerURL": "https://plot.ly",
        "showLink": true
       },
       "data": [
        {
         "marker": {
          "color": "rgb(158,202,225)",
          "line": {
           "color": "rgb(8,48,107)",
           "width": 1.5
          }
         },
         "opacity": 0.6,
         "orientation": "h",
         "text": [
          0.2512,
          0.2208,
          0.0904,
          0.0862,
          0.0487,
          0.0388,
          0.0375,
          0.028,
          0.0226,
          0.0213,
          0.0189,
          0.0187,
          0.0181,
          0.0171,
          0.017,
          0.0118,
          0.0102,
          0.0102,
          0.0099,
          0.0093,
          0.0072,
          0.0059
         ],
         "textposition": "outside",
         "type": "bar",
         "uid": "f9446e5a-e97d-4790-86cd-5805e20430b5",
         "x": [
          0.25124104711270057,
          0.22082943024397317,
          0.0904479502786386,
          0.08622863044972398,
          0.04869486533295972,
          0.03883422669659007,
          0.037495140276878704,
          0.027967579230055467,
          0.02258730396294133,
          0.02131759323234633,
          0.018938936453348154,
          0.018674500119050256,
          0.018097351381663757,
          0.01714376172407655,
          0.0169724542412672,
          0.011780791406891089,
          0.01019896058178841,
          0.010161101375096297,
          0.00987784034322959,
          0.009343775863523963,
          0.007245356972746504,
          0.005921402720510262
         ],
         "y": [
          "http_header_content-encoding_gzip",
          "http_header_content-length",
          "http_header_vary_accept",
          "http_header_transfer-encoding_chunked",
          "http_header_cache-control_set_max-age",
          "http_header_content-language_text/html",
          "http_header_server_apache",
          "http_header_connection_keep-alive",
          "http_header_server_nginx",
          "http_header_pragmano-cache",
          "http_header_via_1.1",
          "http_header_cache-control_set_no-store",
          "http_header_strict-transport-security_max-age",
          "http_header_expect-ctmax-age",
          "http_header_cache-control_set_private",
          "http_header_cache-control_set_must-revalidate",
          "http_header_cache-control_set_no-cache",
          "http_header_vary_age",
          "http_header_x-cintent-type-options_nosniff",
          "http_header_connection_close",
          "http_header_cache-control_set_public",
          "http_header_x-xss-enabled"
         ]
        }
       ],
       "layout": {
        "autosize": false,
        "height": 1000,
        "width": 1000,
        "xaxis": {
         "tickfont": {
          "color": "black",
          "size": 12
         },
         "title": "Feature Importances"
        },
        "yaxis": {
         "automargin": true
        }
       }
      },
      "text/html": [
       "<div id=\"18f5a90c-b75a-43a6-b976-7e05bb3a11f8\" style=\"height: 1000px; width: 1000px;\" class=\"plotly-graph-div\"></div><script type=\"text/javascript\">require([\"plotly\"], function(Plotly) { window.PLOTLYENV=window.PLOTLYENV || {};window.PLOTLYENV.BASE_URL=\"https://plot.ly\";Plotly.newPlot(\"18f5a90c-b75a-43a6-b976-7e05bb3a11f8\", [{\"marker\": {\"color\": \"rgb(158,202,225)\", \"line\": {\"color\": \"rgb(8,48,107)\", \"width\": 1.5}}, \"opacity\": 0.6, \"orientation\": \"h\", \"text\": [0.2512, 0.2208, 0.0904, 0.0862, 0.0487, 0.0388, 0.0375, 0.028, 0.0226, 0.0213, 0.0189, 0.0187, 0.0181, 0.0171, 0.017, 0.0118, 0.0102, 0.0102, 0.0099, 0.0093, 0.0072, 0.0059], \"textposition\": \"outside\", \"x\": [0.25124104711270057, 0.22082943024397317, 0.0904479502786386, 0.08622863044972398, 0.04869486533295972, 0.03883422669659007, 0.037495140276878704, 0.027967579230055467, 0.02258730396294133, 0.02131759323234633, 0.018938936453348154, 0.018674500119050256, 0.018097351381663757, 0.01714376172407655, 0.0169724542412672, 0.011780791406891089, 0.01019896058178841, 0.010161101375096297, 0.00987784034322959, 0.009343775863523963, 0.007245356972746504, 0.005921402720510262], \"y\": [\"http_header_content-encoding_gzip\", \"http_header_content-length\", \"http_header_vary_accept\", \"http_header_transfer-encoding_chunked\", \"http_header_cache-control_set_max-age\", \"http_header_content-language_text/html\", \"http_header_server_apache\", \"http_header_connection_keep-alive\", \"http_header_server_nginx\", \"http_header_pragmano-cache\", \"http_header_via_1.1\", \"http_header_cache-control_set_no-store\", \"http_header_strict-transport-security_max-age\", \"http_header_expect-ctmax-age\", \"http_header_cache-control_set_private\", \"http_header_cache-control_set_must-revalidate\", \"http_header_cache-control_set_no-cache\", \"http_header_vary_age\", \"http_header_x-cintent-type-options_nosniff\", \"http_header_connection_close\", \"http_header_cache-control_set_public\", \"http_header_x-xss-enabled\"], \"type\": \"bar\", \"uid\": \"f9446e5a-e97d-4790-86cd-5805e20430b5\"}], {\"autosize\": false, \"height\": 1000, \"width\": 1000, \"xaxis\": {\"tickfont\": {\"color\": \"black\", \"size\": 12}, \"title\": \"Feature Importances\"}, \"yaxis\": {\"automargin\": true}}, {\"showLink\": true, \"linkText\": \"Export to plot.ly\", \"plotlyServerURL\": \"https://plot.ly\"})});</script>"
      ],
      "text/vnd.plotly.v1+html": [
       "<div id=\"18f5a90c-b75a-43a6-b976-7e05bb3a11f8\" style=\"height: 1000px; width: 1000px;\" class=\"plotly-graph-div\"></div><script type=\"text/javascript\">require([\"plotly\"], function(Plotly) { window.PLOTLYENV=window.PLOTLYENV || {};window.PLOTLYENV.BASE_URL=\"https://plot.ly\";Plotly.newPlot(\"18f5a90c-b75a-43a6-b976-7e05bb3a11f8\", [{\"marker\": {\"color\": \"rgb(158,202,225)\", \"line\": {\"color\": \"rgb(8,48,107)\", \"width\": 1.5}}, \"opacity\": 0.6, \"orientation\": \"h\", \"text\": [0.2512, 0.2208, 0.0904, 0.0862, 0.0487, 0.0388, 0.0375, 0.028, 0.0226, 0.0213, 0.0189, 0.0187, 0.0181, 0.0171, 0.017, 0.0118, 0.0102, 0.0102, 0.0099, 0.0093, 0.0072, 0.0059], \"textposition\": \"outside\", \"x\": [0.25124104711270057, 0.22082943024397317, 0.0904479502786386, 0.08622863044972398, 0.04869486533295972, 0.03883422669659007, 0.037495140276878704, 0.027967579230055467, 0.02258730396294133, 0.02131759323234633, 0.018938936453348154, 0.018674500119050256, 0.018097351381663757, 0.01714376172407655, 0.0169724542412672, 0.011780791406891089, 0.01019896058178841, 0.010161101375096297, 0.00987784034322959, 0.009343775863523963, 0.007245356972746504, 0.005921402720510262], \"y\": [\"http_header_content-encoding_gzip\", \"http_header_content-length\", \"http_header_vary_accept\", \"http_header_transfer-encoding_chunked\", \"http_header_cache-control_set_max-age\", \"http_header_content-language_text/html\", \"http_header_server_apache\", \"http_header_connection_keep-alive\", \"http_header_server_nginx\", \"http_header_pragmano-cache\", \"http_header_via_1.1\", \"http_header_cache-control_set_no-store\", \"http_header_strict-transport-security_max-age\", \"http_header_expect-ctmax-age\", \"http_header_cache-control_set_private\", \"http_header_cache-control_set_must-revalidate\", \"http_header_cache-control_set_no-cache\", \"http_header_vary_age\", \"http_header_x-cintent-type-options_nosniff\", \"http_header_connection_close\", \"http_header_cache-control_set_public\", \"http_header_x-xss-enabled\"], \"type\": \"bar\", \"uid\": \"f9446e5a-e97d-4790-86cd-5805e20430b5\"}], {\"autosize\": false, \"height\": 1000, \"width\": 1000, \"xaxis\": {\"tickfont\": {\"color\": \"black\", \"size\": 12}, \"title\": \"Feature Importances\"}, \"yaxis\": {\"automargin\": true}}, {\"showLink\": true, \"linkText\": \"Export to plot.ly\", \"plotlyServerURL\": \"https://plot.ly\"})});</script>"
      ]
     },
     "metadata": {},
     "output_type": "display_data"
    }
   ],
   "source": [
    "feat_impt_plot(np.average(feat_imp,axis=0),columns[:-2])"
   ]
  },
  {
   "cell_type": "markdown",
   "metadata": {},
   "source": [
    "### <a id='3' style=\"text-decoration : none; color : #000000;\"> 3. Undersampling</a>"
   ]
  },
  {
   "cell_type": "code",
   "execution_count": 42,
   "metadata": {},
   "outputs": [
    {
     "name": "stdout",
     "output_type": "stream",
     "text": [
      "Shape after undersampling (9662, 22)\n"
     ]
    }
   ],
   "source": [
    "df_non=train[train.Target==0]\n",
    "df_mal=train[train.Target==1]\n",
    "\n",
    "df_non=df_non.sample(frac=len(df_mal)/len(df_non),random_state=0)\n",
    "df_u=df_non.append(df_mal)\n",
    "df_u.Target.value_counts() \n",
    "\n",
    "X_train=df_u[columns[:-2]]\n",
    "X_train=scaler.transform(X_train)\n",
    "Y_train=df_u.Target.values\n",
    "\n",
    "print(\"Shape after undersampling\",X_train.shape)\n"
   ]
  },
  {
   "cell_type": "code",
   "execution_count": 43,
   "metadata": {
    "collapsed": true
   },
   "outputs": [],
   "source": [
    "## Table to store training and test measures so we can compare later\n",
    "table_80_90_train=pd.DataFrame(columns=['accuracy','TP','TN','FP','FN','FPR','FNR'])\n",
    "table_80_90_test=pd.DataFrame(columns=['accuracy','TP','TN','FP','FN','FPR','FNR','auc','mcc'])"
   ]
  },
  {
   "cell_type": "code",
   "execution_count": 45,
   "metadata": {
    "scrolled": false
   },
   "outputs": [
    {
     "name": "stdout",
     "output_type": "stream",
     "text": [
      "\u001b[1mK-Nearest Neighbors\u001b[0m\n",
      "Accuracy of the model for training data is: 0.897847236597\n",
      "Confusion Matrix for training data is:\n"
     ]
    },
    {
     "data": {
      "text/plain": [
       "Predicted  False  True  __all__\n",
       "Actual                         \n",
       "False       4371   460     4831\n",
       "True         527  4304     4831\n",
       "__all__     4898  4764     9662"
      ]
     },
     "metadata": {},
     "output_type": "display_data"
    },
    {
     "name": "stdout",
     "output_type": "stream",
     "text": [
      "Accuracy of the model for test data is: 0.889446140427\n",
      "Confusion Matrix for test data is:\n"
     ]
    },
    {
     "data": {
      "text/plain": [
       "Predicted  False  True  __all__\n",
       "Actual                         \n",
       "False       7117   865     7982\n",
       "True         149  1041     1190\n",
       "__all__     7266  1906     9172"
      ]
     },
     "metadata": {},
     "output_type": "display_data"
    },
    {
     "name": "stdout",
     "output_type": "stream",
     "text": [
      "\n",
      "\n",
      "\u001b[1mLogistic Regression\u001b[0m\n",
      "Accuracy of the model for training data is: 0.864831297868\n",
      "Confusion Matrix for training data is:\n"
     ]
    },
    {
     "data": {
      "text/plain": [
       "Predicted  False  True  __all__\n",
       "Actual                         \n",
       "False       4028   803     4831\n",
       "True         503  4328     4831\n",
       "__all__     4531  5131     9662"
      ]
     },
     "metadata": {},
     "output_type": "display_data"
    },
    {
     "name": "stdout",
     "output_type": "stream",
     "text": [
      "Accuracy of the model for test data is: 0.842019188836\n",
      "Confusion Matrix for test data is:\n"
     ]
    },
    {
     "data": {
      "text/plain": [
       "Predicted  False  True  __all__\n",
       "Actual                         \n",
       "False       6667  1315     7982\n",
       "True         134  1056     1190\n",
       "__all__     6801  2371     9172"
      ]
     },
     "metadata": {},
     "output_type": "display_data"
    },
    {
     "name": "stdout",
     "output_type": "stream",
     "text": [
      "\n",
      "\n",
      "\u001b[1mRandomForest Classifier\u001b[0m\n",
      "Accuracy of the model for training data is: 0.929517698199\n",
      "Confusion Matrix for training data is:\n"
     ]
    },
    {
     "data": {
      "text/plain": [
       "Predicted  False  True  __all__\n",
       "Actual                         \n",
       "False       4341   490     4831\n",
       "True         191  4640     4831\n",
       "__all__     4532  5130     9662"
      ]
     },
     "metadata": {},
     "output_type": "display_data"
    },
    {
     "name": "stdout",
     "output_type": "stream",
     "text": [
      "Accuracy of the model for test data is: 0.874618403838\n",
      "Confusion Matrix for test data is:\n"
     ]
    },
    {
     "data": {
      "text/plain": [
       "Predicted  False  True  __all__\n",
       "Actual                         \n",
       "False       6929  1053     7982\n",
       "True          97  1093     1190\n",
       "__all__     7026  2146     9172"
      ]
     },
     "metadata": {},
     "output_type": "display_data"
    },
    {
     "data": {
      "application/vnd.plotly.v1+json": {
       "config": {
        "linkText": "Export to plot.ly",
        "plotlyServerURL": "https://plot.ly",
        "showLink": true
       },
       "data": [
        {
         "marker": {
          "color": "rgb(158,202,225)",
          "line": {
           "color": "rgb(8,48,107)",
           "width": 1.5
          }
         },
         "opacity": 0.6,
         "orientation": "h",
         "text": [
          0.2102,
          0.2069,
          0.1253,
          0.119,
          0.0515,
          0.048,
          0.0376,
          0.0255,
          0.0212,
          0.0199,
          0.0181,
          0.0169,
          0.0156,
          0.0146,
          0.0127,
          0.0107,
          0.0099,
          0.0088,
          0.0085,
          0.0073,
          0.007,
          0.0048
         ],
         "textposition": "outside",
         "type": "bar",
         "uid": "72198544-b8a6-47a8-83a8-ea0f9db709d2",
         "x": [
          0.2101725495870231,
          0.20685019215682718,
          0.12529552345162392,
          0.11903744706598687,
          0.05147346144089987,
          0.04797022689066928,
          0.037598334347107035,
          0.02549364799749444,
          0.02119511476386187,
          0.019873499336174737,
          0.018064637047117738,
          0.01692239345434913,
          0.015619865855306059,
          0.01464343396128481,
          0.012719082339998636,
          0.010710200875469377,
          0.009916636850659036,
          0.008812904822609399,
          0.008494907921880563,
          0.007328944107338817,
          0.0070326208881448015,
          0.0047743748381733064
         ],
         "y": [
          "http_header_content-length",
          "http_header_content-encoding_gzip",
          "http_header_vary_accept",
          "http_header_transfer-encoding_chunked",
          "http_header_connection_keep-alive",
          "http_header_server_apache",
          "http_header_content-language_text/html",
          "http_header_cache-control_set_max-age",
          "http_header_server_nginx",
          "http_header_vary_age",
          "http_header_cache-control_set_no-cache",
          "http_header_strict-transport-security_max-age",
          "http_header_pragmano-cache",
          "http_header_cache-control_set_private",
          "http_header_cache-control_set_must-revalidate",
          "http_header_via_1.1",
          "http_header_connection_close",
          "http_header_x-xss-enabled",
          "http_header_cache-control_set_no-store",
          "http_header_x-cintent-type-options_nosniff",
          "http_header_expect-ctmax-age",
          "http_header_cache-control_set_public"
         ]
        }
       ],
       "layout": {
        "autosize": false,
        "height": 1000,
        "width": 1000,
        "xaxis": {
         "tickfont": {
          "color": "black",
          "size": 12
         },
         "title": "Feature Importances"
        },
        "yaxis": {
         "automargin": true
        }
       }
      },
      "text/html": [
       "<div id=\"5a555fcc-7a66-49b1-9c7c-46ab29d7deae\" style=\"height: 1000px; width: 1000px;\" class=\"plotly-graph-div\"></div><script type=\"text/javascript\">require([\"plotly\"], function(Plotly) { window.PLOTLYENV=window.PLOTLYENV || {};window.PLOTLYENV.BASE_URL=\"https://plot.ly\";Plotly.newPlot(\"5a555fcc-7a66-49b1-9c7c-46ab29d7deae\", [{\"marker\": {\"color\": \"rgb(158,202,225)\", \"line\": {\"color\": \"rgb(8,48,107)\", \"width\": 1.5}}, \"opacity\": 0.6, \"orientation\": \"h\", \"text\": [0.2102, 0.2069, 0.1253, 0.119, 0.0515, 0.048, 0.0376, 0.0255, 0.0212, 0.0199, 0.0181, 0.0169, 0.0156, 0.0146, 0.0127, 0.0107, 0.0099, 0.0088, 0.0085, 0.0073, 0.007, 0.0048], \"textposition\": \"outside\", \"x\": [0.2101725495870231, 0.20685019215682718, 0.12529552345162392, 0.11903744706598687, 0.05147346144089987, 0.04797022689066928, 0.037598334347107035, 0.02549364799749444, 0.02119511476386187, 0.019873499336174737, 0.018064637047117738, 0.01692239345434913, 0.015619865855306059, 0.01464343396128481, 0.012719082339998636, 0.010710200875469377, 0.009916636850659036, 0.008812904822609399, 0.008494907921880563, 0.007328944107338817, 0.0070326208881448015, 0.0047743748381733064], \"y\": [\"http_header_content-length\", \"http_header_content-encoding_gzip\", \"http_header_vary_accept\", \"http_header_transfer-encoding_chunked\", \"http_header_connection_keep-alive\", \"http_header_server_apache\", \"http_header_content-language_text/html\", \"http_header_cache-control_set_max-age\", \"http_header_server_nginx\", \"http_header_vary_age\", \"http_header_cache-control_set_no-cache\", \"http_header_strict-transport-security_max-age\", \"http_header_pragmano-cache\", \"http_header_cache-control_set_private\", \"http_header_cache-control_set_must-revalidate\", \"http_header_via_1.1\", \"http_header_connection_close\", \"http_header_x-xss-enabled\", \"http_header_cache-control_set_no-store\", \"http_header_x-cintent-type-options_nosniff\", \"http_header_expect-ctmax-age\", \"http_header_cache-control_set_public\"], \"type\": \"bar\", \"uid\": \"72198544-b8a6-47a8-83a8-ea0f9db709d2\"}], {\"autosize\": false, \"height\": 1000, \"width\": 1000, \"xaxis\": {\"tickfont\": {\"color\": \"black\", \"size\": 12}, \"title\": \"Feature Importances\"}, \"yaxis\": {\"automargin\": true}}, {\"showLink\": true, \"linkText\": \"Export to plot.ly\", \"plotlyServerURL\": \"https://plot.ly\"})});</script>"
      ],
      "text/vnd.plotly.v1+html": [
       "<div id=\"5a555fcc-7a66-49b1-9c7c-46ab29d7deae\" style=\"height: 1000px; width: 1000px;\" class=\"plotly-graph-div\"></div><script type=\"text/javascript\">require([\"plotly\"], function(Plotly) { window.PLOTLYENV=window.PLOTLYENV || {};window.PLOTLYENV.BASE_URL=\"https://plot.ly\";Plotly.newPlot(\"5a555fcc-7a66-49b1-9c7c-46ab29d7deae\", [{\"marker\": {\"color\": \"rgb(158,202,225)\", \"line\": {\"color\": \"rgb(8,48,107)\", \"width\": 1.5}}, \"opacity\": 0.6, \"orientation\": \"h\", \"text\": [0.2102, 0.2069, 0.1253, 0.119, 0.0515, 0.048, 0.0376, 0.0255, 0.0212, 0.0199, 0.0181, 0.0169, 0.0156, 0.0146, 0.0127, 0.0107, 0.0099, 0.0088, 0.0085, 0.0073, 0.007, 0.0048], \"textposition\": \"outside\", \"x\": [0.2101725495870231, 0.20685019215682718, 0.12529552345162392, 0.11903744706598687, 0.05147346144089987, 0.04797022689066928, 0.037598334347107035, 0.02549364799749444, 0.02119511476386187, 0.019873499336174737, 0.018064637047117738, 0.01692239345434913, 0.015619865855306059, 0.01464343396128481, 0.012719082339998636, 0.010710200875469377, 0.009916636850659036, 0.008812904822609399, 0.008494907921880563, 0.007328944107338817, 0.0070326208881448015, 0.0047743748381733064], \"y\": [\"http_header_content-length\", \"http_header_content-encoding_gzip\", \"http_header_vary_accept\", \"http_header_transfer-encoding_chunked\", \"http_header_connection_keep-alive\", \"http_header_server_apache\", \"http_header_content-language_text/html\", \"http_header_cache-control_set_max-age\", \"http_header_server_nginx\", \"http_header_vary_age\", \"http_header_cache-control_set_no-cache\", \"http_header_strict-transport-security_max-age\", \"http_header_pragmano-cache\", \"http_header_cache-control_set_private\", \"http_header_cache-control_set_must-revalidate\", \"http_header_via_1.1\", \"http_header_connection_close\", \"http_header_x-xss-enabled\", \"http_header_cache-control_set_no-store\", \"http_header_x-cintent-type-options_nosniff\", \"http_header_expect-ctmax-age\", \"http_header_cache-control_set_public\"], \"type\": \"bar\", \"uid\": \"72198544-b8a6-47a8-83a8-ea0f9db709d2\"}], {\"autosize\": false, \"height\": 1000, \"width\": 1000, \"xaxis\": {\"tickfont\": {\"color\": \"black\", \"size\": 12}, \"title\": \"Feature Importances\"}, \"yaxis\": {\"automargin\": true}}, {\"showLink\": true, \"linkText\": \"Export to plot.ly\", \"plotlyServerURL\": \"https://plot.ly\"})});</script>"
      ]
     },
     "metadata": {},
     "output_type": "display_data"
    },
    {
     "name": "stdout",
     "output_type": "stream",
     "text": [
      "\n",
      "\n",
      "\u001b[1mAdaoost Classifier\u001b[0m\n",
      "Accuracy of the model for training data is: 0.871765679983\n",
      "Confusion Matrix for training data is:\n"
     ]
    },
    {
     "data": {
      "text/plain": [
       "Predicted  False  True  __all__\n",
       "Actual                         \n",
       "False       4076   755     4831\n",
       "True         484  4347     4831\n",
       "__all__     4560  5102     9662"
      ]
     },
     "metadata": {},
     "output_type": "display_data"
    },
    {
     "name": "stdout",
     "output_type": "stream",
     "text": [
      "Accuracy of the model for test data is: 0.846380287833\n",
      "Confusion Matrix for test data is:\n"
     ]
    },
    {
     "data": {
      "text/plain": [
       "Predicted  False  True  __all__\n",
       "Actual                         \n",
       "False       6710  1272     7982\n",
       "True         137  1053     1190\n",
       "__all__     6847  2325     9172"
      ]
     },
     "metadata": {},
     "output_type": "display_data"
    },
    {
     "data": {
      "application/vnd.plotly.v1+json": {
       "config": {
        "linkText": "Export to plot.ly",
        "plotlyServerURL": "https://plot.ly",
        "showLink": true
       },
       "data": [
        {
         "marker": {
          "color": "rgb(158,202,225)",
          "line": {
           "color": "rgb(8,48,107)",
           "width": 1.5
          }
         },
         "opacity": 0.6,
         "orientation": "h",
         "text": [
          0.46,
          0.1,
          0.08,
          0.06,
          0.06,
          0.04,
          0.04,
          0.02,
          0.02,
          0.02,
          0.02,
          0.02,
          0.02,
          0.02,
          0.02,
          0,
          0,
          0,
          0,
          0,
          0,
          0
         ],
         "textposition": "outside",
         "type": "bar",
         "uid": "34ab4c58-c72d-40ab-8705-713d921377ed",
         "x": [
          0.46,
          0.1,
          0.08,
          0.06,
          0.06,
          0.04,
          0.04,
          0.02,
          0.02,
          0.02,
          0.02,
          0.02,
          0.02,
          0.02,
          0.02,
          0,
          0,
          0,
          0,
          0,
          0,
          0
         ],
         "y": [
          "http_header_content-length",
          "http_header_content-encoding_gzip",
          "http_header_transfer-encoding_chunked",
          "http_header_pragmano-cache",
          "http_header_cache-control_set_no-store",
          "http_header_cache-control_set_max-age",
          "http_header_connection_keep-alive",
          "http_header_via_1.1",
          "http_header_vary_accept",
          "http_header_server_nginx",
          "http_header_server_apache",
          "http_header_expect-ctmax-age",
          "http_header_cache-control_set_public",
          "http_header_cache-control_set_private",
          "http_header_x-xss-enabled",
          "http_header_cache-control_set_must-revalidate",
          "http_header_content-language_text/html",
          "http_header_connection_close",
          "http_header_strict-transport-security_max-age",
          "http_header_vary_age",
          "http_header_cache-control_set_no-cache",
          "http_header_x-cintent-type-options_nosniff"
         ]
        }
       ],
       "layout": {
        "autosize": false,
        "height": 1000,
        "width": 1000,
        "xaxis": {
         "tickfont": {
          "color": "black",
          "size": 12
         },
         "title": "Feature Importances"
        },
        "yaxis": {
         "automargin": true
        }
       }
      },
      "text/html": [
       "<div id=\"0ebaab4f-da25-4869-a434-ff48644e2bf6\" style=\"height: 1000px; width: 1000px;\" class=\"plotly-graph-div\"></div><script type=\"text/javascript\">require([\"plotly\"], function(Plotly) { window.PLOTLYENV=window.PLOTLYENV || {};window.PLOTLYENV.BASE_URL=\"https://plot.ly\";Plotly.newPlot(\"0ebaab4f-da25-4869-a434-ff48644e2bf6\", [{\"marker\": {\"color\": \"rgb(158,202,225)\", \"line\": {\"color\": \"rgb(8,48,107)\", \"width\": 1.5}}, \"opacity\": 0.6, \"orientation\": \"h\", \"text\": [0.46, 0.1, 0.08, 0.06, 0.06, 0.04, 0.04, 0.02, 0.02, 0.02, 0.02, 0.02, 0.02, 0.02, 0.02, 0.0, 0.0, 0.0, 0.0, 0.0, 0.0, 0.0], \"textposition\": \"outside\", \"x\": [0.46, 0.1, 0.08, 0.06, 0.06, 0.04, 0.04, 0.02, 0.02, 0.02, 0.02, 0.02, 0.02, 0.02, 0.02, 0.0, 0.0, 0.0, 0.0, 0.0, 0.0, 0.0], \"y\": [\"http_header_content-length\", \"http_header_content-encoding_gzip\", \"http_header_transfer-encoding_chunked\", \"http_header_pragmano-cache\", \"http_header_cache-control_set_no-store\", \"http_header_cache-control_set_max-age\", \"http_header_connection_keep-alive\", \"http_header_via_1.1\", \"http_header_vary_accept\", \"http_header_server_nginx\", \"http_header_server_apache\", \"http_header_expect-ctmax-age\", \"http_header_cache-control_set_public\", \"http_header_cache-control_set_private\", \"http_header_x-xss-enabled\", \"http_header_cache-control_set_must-revalidate\", \"http_header_content-language_text/html\", \"http_header_connection_close\", \"http_header_strict-transport-security_max-age\", \"http_header_vary_age\", \"http_header_cache-control_set_no-cache\", \"http_header_x-cintent-type-options_nosniff\"], \"type\": \"bar\", \"uid\": \"34ab4c58-c72d-40ab-8705-713d921377ed\"}], {\"autosize\": false, \"height\": 1000, \"width\": 1000, \"xaxis\": {\"tickfont\": {\"color\": \"black\", \"size\": 12}, \"title\": \"Feature Importances\"}, \"yaxis\": {\"automargin\": true}}, {\"showLink\": true, \"linkText\": \"Export to plot.ly\", \"plotlyServerURL\": \"https://plot.ly\"})});</script>"
      ],
      "text/vnd.plotly.v1+html": [
       "<div id=\"0ebaab4f-da25-4869-a434-ff48644e2bf6\" style=\"height: 1000px; width: 1000px;\" class=\"plotly-graph-div\"></div><script type=\"text/javascript\">require([\"plotly\"], function(Plotly) { window.PLOTLYENV=window.PLOTLYENV || {};window.PLOTLYENV.BASE_URL=\"https://plot.ly\";Plotly.newPlot(\"0ebaab4f-da25-4869-a434-ff48644e2bf6\", [{\"marker\": {\"color\": \"rgb(158,202,225)\", \"line\": {\"color\": \"rgb(8,48,107)\", \"width\": 1.5}}, \"opacity\": 0.6, \"orientation\": \"h\", \"text\": [0.46, 0.1, 0.08, 0.06, 0.06, 0.04, 0.04, 0.02, 0.02, 0.02, 0.02, 0.02, 0.02, 0.02, 0.02, 0.0, 0.0, 0.0, 0.0, 0.0, 0.0, 0.0], \"textposition\": \"outside\", \"x\": [0.46, 0.1, 0.08, 0.06, 0.06, 0.04, 0.04, 0.02, 0.02, 0.02, 0.02, 0.02, 0.02, 0.02, 0.02, 0.0, 0.0, 0.0, 0.0, 0.0, 0.0, 0.0], \"y\": [\"http_header_content-length\", \"http_header_content-encoding_gzip\", \"http_header_transfer-encoding_chunked\", \"http_header_pragmano-cache\", \"http_header_cache-control_set_no-store\", \"http_header_cache-control_set_max-age\", \"http_header_connection_keep-alive\", \"http_header_via_1.1\", \"http_header_vary_accept\", \"http_header_server_nginx\", \"http_header_server_apache\", \"http_header_expect-ctmax-age\", \"http_header_cache-control_set_public\", \"http_header_cache-control_set_private\", \"http_header_x-xss-enabled\", \"http_header_cache-control_set_must-revalidate\", \"http_header_content-language_text/html\", \"http_header_connection_close\", \"http_header_strict-transport-security_max-age\", \"http_header_vary_age\", \"http_header_cache-control_set_no-cache\", \"http_header_x-cintent-type-options_nosniff\"], \"type\": \"bar\", \"uid\": \"34ab4c58-c72d-40ab-8705-713d921377ed\"}], {\"autosize\": false, \"height\": 1000, \"width\": 1000, \"xaxis\": {\"tickfont\": {\"color\": \"black\", \"size\": 12}, \"title\": \"Feature Importances\"}, \"yaxis\": {\"automargin\": true}}, {\"showLink\": true, \"linkText\": \"Export to plot.ly\", \"plotlyServerURL\": \"https://plot.ly\"})});</script>"
      ]
     },
     "metadata": {},
     "output_type": "display_data"
    },
    {
     "name": "stdout",
     "output_type": "stream",
     "text": [
      "\n",
      "\n",
      "\u001b[1mGradientBoosting Classifier\u001b[0m\n",
      "Accuracy of the model for training data is: 0.891326847444\n",
      "Confusion Matrix for training data is:\n"
     ]
    },
    {
     "data": {
      "text/plain": [
       "Predicted  False  True  __all__\n",
       "Actual                         \n",
       "False       4249   582     4831\n",
       "True         468  4363     4831\n",
       "__all__     4717  4945     9662"
      ]
     },
     "metadata": {},
     "output_type": "display_data"
    },
    {
     "name": "stdout",
     "output_type": "stream",
     "text": [
      "Accuracy of the model for test data is: 0.874945486263\n",
      "Confusion Matrix for test data is:\n"
     ]
    },
    {
     "data": {
      "text/plain": [
       "Predicted  False  True  __all__\n",
       "Actual                         \n",
       "False       6957  1025     7982\n",
       "True         122  1068     1190\n",
       "__all__     7079  2093     9172"
      ]
     },
     "metadata": {},
     "output_type": "display_data"
    },
    {
     "data": {
      "application/vnd.plotly.v1+json": {
       "config": {
        "linkText": "Export to plot.ly",
        "plotlyServerURL": "https://plot.ly",
        "showLink": true
       },
       "data": [
        {
         "marker": {
          "color": "rgb(158,202,225)",
          "line": {
           "color": "rgb(8,48,107)",
           "width": 1.5
          }
         },
         "opacity": 0.6,
         "orientation": "h",
         "text": [
          0.5895,
          0.2138,
          0.0517,
          0.0284,
          0.0159,
          0.0144,
          0.0139,
          0.0127,
          0.0121,
          0.0109,
          0.0083,
          0.0054,
          0.0036,
          0.0035,
          0.0034,
          0.0034,
          0.0025,
          0.0023,
          0.0021,
          0.001,
          0.0007,
          0.0005
         ],
         "textposition": "outside",
         "type": "bar",
         "uid": "518ceab0-cff7-4dcc-8d25-1f6464e359fe",
         "x": [
          0.5895184117307316,
          0.2137730571334697,
          0.051698272192910386,
          0.028365947208464897,
          0.015894677255071918,
          0.014435767053980328,
          0.013912021100948644,
          0.012707448375276096,
          0.012072341112668679,
          0.01090465792204306,
          0.008302853398464129,
          0.005384539575283036,
          0.0036473118293637824,
          0.0034718171840086988,
          0.0034182921650955287,
          0.0033540678634114245,
          0.0024684697560192685,
          0.002340036739068252,
          0.0020758391042827473,
          0.0010009332269544683,
          0.0007248578236151988,
          0.000528380248868241
         ],
         "y": [
          "http_header_content-encoding_gzip",
          "http_header_content-length",
          "http_header_transfer-encoding_chunked",
          "http_header_server_apache",
          "http_header_cache-control_set_max-age",
          "http_header_pragmano-cache",
          "http_header_vary_accept",
          "http_header_vary_age",
          "http_header_cache-control_set_must-revalidate",
          "http_header_connection_close",
          "http_header_via_1.1",
          "http_header_x-xss-enabled",
          "http_header_cache-control_set_no-store",
          "http_header_cache-control_set_private",
          "http_header_server_nginx",
          "http_header_expect-ctmax-age",
          "http_header_content-language_text/html",
          "http_header_strict-transport-security_max-age",
          "http_header_connection_keep-alive",
          "http_header_cache-control_set_no-cache",
          "http_header_x-cintent-type-options_nosniff",
          "http_header_cache-control_set_public"
         ]
        }
       ],
       "layout": {
        "autosize": false,
        "height": 1000,
        "width": 1000,
        "xaxis": {
         "tickfont": {
          "color": "black",
          "size": 12
         },
         "title": "Feature Importances"
        },
        "yaxis": {
         "automargin": true
        }
       }
      },
      "text/html": [
       "<div id=\"c95bb6f0-3e61-4d49-8376-00df3f0a4978\" style=\"height: 1000px; width: 1000px;\" class=\"plotly-graph-div\"></div><script type=\"text/javascript\">require([\"plotly\"], function(Plotly) { window.PLOTLYENV=window.PLOTLYENV || {};window.PLOTLYENV.BASE_URL=\"https://plot.ly\";Plotly.newPlot(\"c95bb6f0-3e61-4d49-8376-00df3f0a4978\", [{\"marker\": {\"color\": \"rgb(158,202,225)\", \"line\": {\"color\": \"rgb(8,48,107)\", \"width\": 1.5}}, \"opacity\": 0.6, \"orientation\": \"h\", \"text\": [0.5895, 0.2138, 0.0517, 0.0284, 0.0159, 0.0144, 0.0139, 0.0127, 0.0121, 0.0109, 0.0083, 0.0054, 0.0036, 0.0035, 0.0034, 0.0034, 0.0025, 0.0023, 0.0021, 0.001, 0.0007, 0.0005], \"textposition\": \"outside\", \"x\": [0.5895184117307316, 0.2137730571334697, 0.051698272192910386, 0.028365947208464897, 0.015894677255071918, 0.014435767053980328, 0.013912021100948644, 0.012707448375276096, 0.012072341112668679, 0.01090465792204306, 0.008302853398464129, 0.005384539575283036, 0.0036473118293637824, 0.0034718171840086988, 0.0034182921650955287, 0.0033540678634114245, 0.0024684697560192685, 0.002340036739068252, 0.0020758391042827473, 0.0010009332269544683, 0.0007248578236151988, 0.000528380248868241], \"y\": [\"http_header_content-encoding_gzip\", \"http_header_content-length\", \"http_header_transfer-encoding_chunked\", \"http_header_server_apache\", \"http_header_cache-control_set_max-age\", \"http_header_pragmano-cache\", \"http_header_vary_accept\", \"http_header_vary_age\", \"http_header_cache-control_set_must-revalidate\", \"http_header_connection_close\", \"http_header_via_1.1\", \"http_header_x-xss-enabled\", \"http_header_cache-control_set_no-store\", \"http_header_cache-control_set_private\", \"http_header_server_nginx\", \"http_header_expect-ctmax-age\", \"http_header_content-language_text/html\", \"http_header_strict-transport-security_max-age\", \"http_header_connection_keep-alive\", \"http_header_cache-control_set_no-cache\", \"http_header_x-cintent-type-options_nosniff\", \"http_header_cache-control_set_public\"], \"type\": \"bar\", \"uid\": \"518ceab0-cff7-4dcc-8d25-1f6464e359fe\"}], {\"autosize\": false, \"height\": 1000, \"width\": 1000, \"xaxis\": {\"tickfont\": {\"color\": \"black\", \"size\": 12}, \"title\": \"Feature Importances\"}, \"yaxis\": {\"automargin\": true}}, {\"showLink\": true, \"linkText\": \"Export to plot.ly\", \"plotlyServerURL\": \"https://plot.ly\"})});</script>"
      ],
      "text/vnd.plotly.v1+html": [
       "<div id=\"c95bb6f0-3e61-4d49-8376-00df3f0a4978\" style=\"height: 1000px; width: 1000px;\" class=\"plotly-graph-div\"></div><script type=\"text/javascript\">require([\"plotly\"], function(Plotly) { window.PLOTLYENV=window.PLOTLYENV || {};window.PLOTLYENV.BASE_URL=\"https://plot.ly\";Plotly.newPlot(\"c95bb6f0-3e61-4d49-8376-00df3f0a4978\", [{\"marker\": {\"color\": \"rgb(158,202,225)\", \"line\": {\"color\": \"rgb(8,48,107)\", \"width\": 1.5}}, \"opacity\": 0.6, \"orientation\": \"h\", \"text\": [0.5895, 0.2138, 0.0517, 0.0284, 0.0159, 0.0144, 0.0139, 0.0127, 0.0121, 0.0109, 0.0083, 0.0054, 0.0036, 0.0035, 0.0034, 0.0034, 0.0025, 0.0023, 0.0021, 0.001, 0.0007, 0.0005], \"textposition\": \"outside\", \"x\": [0.5895184117307316, 0.2137730571334697, 0.051698272192910386, 0.028365947208464897, 0.015894677255071918, 0.014435767053980328, 0.013912021100948644, 0.012707448375276096, 0.012072341112668679, 0.01090465792204306, 0.008302853398464129, 0.005384539575283036, 0.0036473118293637824, 0.0034718171840086988, 0.0034182921650955287, 0.0033540678634114245, 0.0024684697560192685, 0.002340036739068252, 0.0020758391042827473, 0.0010009332269544683, 0.0007248578236151988, 0.000528380248868241], \"y\": [\"http_header_content-encoding_gzip\", \"http_header_content-length\", \"http_header_transfer-encoding_chunked\", \"http_header_server_apache\", \"http_header_cache-control_set_max-age\", \"http_header_pragmano-cache\", \"http_header_vary_accept\", \"http_header_vary_age\", \"http_header_cache-control_set_must-revalidate\", \"http_header_connection_close\", \"http_header_via_1.1\", \"http_header_x-xss-enabled\", \"http_header_cache-control_set_no-store\", \"http_header_cache-control_set_private\", \"http_header_server_nginx\", \"http_header_expect-ctmax-age\", \"http_header_content-language_text/html\", \"http_header_strict-transport-security_max-age\", \"http_header_connection_keep-alive\", \"http_header_cache-control_set_no-cache\", \"http_header_x-cintent-type-options_nosniff\", \"http_header_cache-control_set_public\"], \"type\": \"bar\", \"uid\": \"518ceab0-cff7-4dcc-8d25-1f6464e359fe\"}], {\"autosize\": false, \"height\": 1000, \"width\": 1000, \"xaxis\": {\"tickfont\": {\"color\": \"black\", \"size\": 12}, \"title\": \"Feature Importances\"}, \"yaxis\": {\"automargin\": true}}, {\"showLink\": true, \"linkText\": \"Export to plot.ly\", \"plotlyServerURL\": \"https://plot.ly\"})});</script>"
      ]
     },
     "metadata": {},
     "output_type": "display_data"
    },
    {
     "name": "stdout",
     "output_type": "stream",
     "text": [
      "\n",
      "\n",
      "\u001b[1mExtraTree Classifier\u001b[0m\n",
      "Accuracy of the model for training data is: 0.933243634858\n",
      "Confusion Matrix for training data is:\n"
     ]
    },
    {
     "data": {
      "text/plain": [
       "Predicted  False  True  __all__\n",
       "Actual                         \n",
       "False       4362   469     4831\n",
       "True         176  4655     4831\n",
       "__all__     4538  5124     9662"
      ]
     },
     "metadata": {},
     "output_type": "display_data"
    },
    {
     "name": "stdout",
     "output_type": "stream",
     "text": [
      "Accuracy of the model for test data is: 0.874073266463\n",
      "Confusion Matrix for test data is:\n"
     ]
    },
    {
     "data": {
      "text/plain": [
       "Predicted  False  True  __all__\n",
       "Actual                         \n",
       "False       6915  1067     7982\n",
       "True          88  1102     1190\n",
       "__all__     7003  2169     9172"
      ]
     },
     "metadata": {},
     "output_type": "display_data"
    },
    {
     "data": {
      "application/vnd.plotly.v1+json": {
       "config": {
        "linkText": "Export to plot.ly",
        "plotlyServerURL": "https://plot.ly",
        "showLink": true
       },
       "data": [
        {
         "marker": {
          "color": "rgb(158,202,225)",
          "line": {
           "color": "rgb(8,48,107)",
           "width": 1.5
          }
         },
         "opacity": 0.6,
         "orientation": "h",
         "text": [
          0.1285,
          0.1213,
          0.1184,
          0.1147,
          0.0732,
          0.0688,
          0.0635,
          0.0597,
          0.0383,
          0.0276,
          0.0224,
          0.0217,
          0.0185,
          0.0173,
          0.0168,
          0.0166,
          0.0163,
          0.0144,
          0.0113,
          0.0111,
          0.0101,
          0.0095
         ],
         "textposition": "outside",
         "type": "bar",
         "uid": "1cc93f63-6ff2-4491-bf5c-9862530fb0d0",
         "x": [
          0.12848392076317178,
          0.1213152058275789,
          0.1183603573570881,
          0.11470839552433273,
          0.0731642567162882,
          0.06880539326114517,
          0.06353303152276238,
          0.05972976235396536,
          0.03827815985248419,
          0.027579755413553314,
          0.02242100038788723,
          0.021718279804268683,
          0.018483173104964522,
          0.01726151976031231,
          0.016827334207007265,
          0.016577206450844793,
          0.016301811671426487,
          0.014389057100917035,
          0.011255289681487065,
          0.01114800171621879,
          0.010140885443563757,
          0.009518202078731965
         ],
         "y": [
          "http_header_content-length",
          "http_header_transfer-encoding_chunked",
          "http_header_vary_accept",
          "http_header_content-encoding_gzip",
          "http_header_cache-control_set_max-age",
          "http_header_content-language_text/html",
          "http_header_server_apache",
          "http_header_connection_keep-alive",
          "http_header_server_nginx",
          "http_header_vary_age",
          "http_header_cache-control_set_must-revalidate",
          "http_header_cache-control_set_private",
          "http_header_pragmano-cache",
          "http_header_cache-control_set_no-cache",
          "http_header_strict-transport-security_max-age",
          "http_header_connection_close",
          "http_header_via_1.1",
          "http_header_x-xss-enabled",
          "http_header_x-cintent-type-options_nosniff",
          "http_header_expect-ctmax-age",
          "http_header_cache-control_set_public",
          "http_header_cache-control_set_no-store"
         ]
        }
       ],
       "layout": {
        "autosize": false,
        "height": 1000,
        "width": 1000,
        "xaxis": {
         "tickfont": {
          "color": "black",
          "size": 12
         },
         "title": "Feature Importances"
        },
        "yaxis": {
         "automargin": true
        }
       }
      },
      "text/html": [
       "<div id=\"b93915be-2240-4036-8804-fbfcb503d01e\" style=\"height: 1000px; width: 1000px;\" class=\"plotly-graph-div\"></div><script type=\"text/javascript\">require([\"plotly\"], function(Plotly) { window.PLOTLYENV=window.PLOTLYENV || {};window.PLOTLYENV.BASE_URL=\"https://plot.ly\";Plotly.newPlot(\"b93915be-2240-4036-8804-fbfcb503d01e\", [{\"marker\": {\"color\": \"rgb(158,202,225)\", \"line\": {\"color\": \"rgb(8,48,107)\", \"width\": 1.5}}, \"opacity\": 0.6, \"orientation\": \"h\", \"text\": [0.1285, 0.1213, 0.1184, 0.1147, 0.0732, 0.0688, 0.0635, 0.0597, 0.0383, 0.0276, 0.0224, 0.0217, 0.0185, 0.0173, 0.0168, 0.0166, 0.0163, 0.0144, 0.0113, 0.0111, 0.0101, 0.0095], \"textposition\": \"outside\", \"x\": [0.12848392076317178, 0.1213152058275789, 0.1183603573570881, 0.11470839552433273, 0.0731642567162882, 0.06880539326114517, 0.06353303152276238, 0.05972976235396536, 0.03827815985248419, 0.027579755413553314, 0.02242100038788723, 0.021718279804268683, 0.018483173104964522, 0.01726151976031231, 0.016827334207007265, 0.016577206450844793, 0.016301811671426487, 0.014389057100917035, 0.011255289681487065, 0.01114800171621879, 0.010140885443563757, 0.009518202078731965], \"y\": [\"http_header_content-length\", \"http_header_transfer-encoding_chunked\", \"http_header_vary_accept\", \"http_header_content-encoding_gzip\", \"http_header_cache-control_set_max-age\", \"http_header_content-language_text/html\", \"http_header_server_apache\", \"http_header_connection_keep-alive\", \"http_header_server_nginx\", \"http_header_vary_age\", \"http_header_cache-control_set_must-revalidate\", \"http_header_cache-control_set_private\", \"http_header_pragmano-cache\", \"http_header_cache-control_set_no-cache\", \"http_header_strict-transport-security_max-age\", \"http_header_connection_close\", \"http_header_via_1.1\", \"http_header_x-xss-enabled\", \"http_header_x-cintent-type-options_nosniff\", \"http_header_expect-ctmax-age\", \"http_header_cache-control_set_public\", \"http_header_cache-control_set_no-store\"], \"type\": \"bar\", \"uid\": \"1cc93f63-6ff2-4491-bf5c-9862530fb0d0\"}], {\"autosize\": false, \"height\": 1000, \"width\": 1000, \"xaxis\": {\"tickfont\": {\"color\": \"black\", \"size\": 12}, \"title\": \"Feature Importances\"}, \"yaxis\": {\"automargin\": true}}, {\"showLink\": true, \"linkText\": \"Export to plot.ly\", \"plotlyServerURL\": \"https://plot.ly\"})});</script>"
      ],
      "text/vnd.plotly.v1+html": [
       "<div id=\"b93915be-2240-4036-8804-fbfcb503d01e\" style=\"height: 1000px; width: 1000px;\" class=\"plotly-graph-div\"></div><script type=\"text/javascript\">require([\"plotly\"], function(Plotly) { window.PLOTLYENV=window.PLOTLYENV || {};window.PLOTLYENV.BASE_URL=\"https://plot.ly\";Plotly.newPlot(\"b93915be-2240-4036-8804-fbfcb503d01e\", [{\"marker\": {\"color\": \"rgb(158,202,225)\", \"line\": {\"color\": \"rgb(8,48,107)\", \"width\": 1.5}}, \"opacity\": 0.6, \"orientation\": \"h\", \"text\": [0.1285, 0.1213, 0.1184, 0.1147, 0.0732, 0.0688, 0.0635, 0.0597, 0.0383, 0.0276, 0.0224, 0.0217, 0.0185, 0.0173, 0.0168, 0.0166, 0.0163, 0.0144, 0.0113, 0.0111, 0.0101, 0.0095], \"textposition\": \"outside\", \"x\": [0.12848392076317178, 0.1213152058275789, 0.1183603573570881, 0.11470839552433273, 0.0731642567162882, 0.06880539326114517, 0.06353303152276238, 0.05972976235396536, 0.03827815985248419, 0.027579755413553314, 0.02242100038788723, 0.021718279804268683, 0.018483173104964522, 0.01726151976031231, 0.016827334207007265, 0.016577206450844793, 0.016301811671426487, 0.014389057100917035, 0.011255289681487065, 0.01114800171621879, 0.010140885443563757, 0.009518202078731965], \"y\": [\"http_header_content-length\", \"http_header_transfer-encoding_chunked\", \"http_header_vary_accept\", \"http_header_content-encoding_gzip\", \"http_header_cache-control_set_max-age\", \"http_header_content-language_text/html\", \"http_header_server_apache\", \"http_header_connection_keep-alive\", \"http_header_server_nginx\", \"http_header_vary_age\", \"http_header_cache-control_set_must-revalidate\", \"http_header_cache-control_set_private\", \"http_header_pragmano-cache\", \"http_header_cache-control_set_no-cache\", \"http_header_strict-transport-security_max-age\", \"http_header_connection_close\", \"http_header_via_1.1\", \"http_header_x-xss-enabled\", \"http_header_x-cintent-type-options_nosniff\", \"http_header_expect-ctmax-age\", \"http_header_cache-control_set_public\", \"http_header_cache-control_set_no-store\"], \"type\": \"bar\", \"uid\": \"1cc93f63-6ff2-4491-bf5c-9862530fb0d0\"}], {\"autosize\": false, \"height\": 1000, \"width\": 1000, \"xaxis\": {\"tickfont\": {\"color\": \"black\", \"size\": 12}, \"title\": \"Feature Importances\"}, \"yaxis\": {\"automargin\": true}}, {\"showLink\": true, \"linkText\": \"Export to plot.ly\", \"plotlyServerURL\": \"https://plot.ly\"})});</script>"
      ]
     },
     "metadata": {},
     "output_type": "display_data"
    },
    {
     "name": "stdout",
     "output_type": "stream",
     "text": [
      "\n",
      "\n",
      "\u001b[1mBagging Classifier\u001b[0m\n",
      "Accuracy of the model for training data is: 0.930138687642\n",
      "Confusion Matrix for training data is:\n"
     ]
    },
    {
     "data": {
      "text/plain": [
       "Predicted  False  True  __all__\n",
       "Actual                         \n",
       "False       4321   510     4831\n",
       "True         165  4666     4831\n",
       "__all__     4486  5176     9662"
      ]
     },
     "metadata": {},
     "output_type": "display_data"
    },
    {
     "name": "stdout",
     "output_type": "stream",
     "text": [
      "Accuracy of the model for test data is: 0.865787178369\n",
      "Confusion Matrix for test data is:\n"
     ]
    },
    {
     "data": {
      "text/plain": [
       "Predicted  False  True  __all__\n",
       "Actual                         \n",
       "False       6845  1137     7982\n",
       "True          94  1096     1190\n",
       "__all__     6939  2233     9172"
      ]
     },
     "metadata": {},
     "output_type": "display_data"
    },
    {
     "name": "stdout",
     "output_type": "stream",
     "text": [
      "\n",
      "\n",
      "\u001b[1mNeural Network-1\u001b[0m\n",
      "The accuracy of the model on training data is: 0.908197060564\n"
     ]
    },
    {
     "data": {
      "text/plain": [
       "Predicted  False  True  __all__\n",
       "Actual                         \n",
       "False       4291   540     4831\n",
       "True         347  4484     4831\n",
       "__all__     4638  5024     9662"
      ]
     },
     "metadata": {},
     "output_type": "display_data"
    },
    {
     "name": "stdout",
     "output_type": "stream",
     "text": [
      "The accuracy of the model on test data is: 0.882250327082\n"
     ]
    },
    {
     "data": {
      "text/plain": [
       "Predicted  False  True  __all__\n",
       "Actual                         \n",
       "False       7007   975     7982\n",
       "True         105  1085     1190\n",
       "__all__     7112  2060     9172"
      ]
     },
     "metadata": {},
     "output_type": "display_data"
    },
    {
     "name": "stdout",
     "output_type": "stream",
     "text": [
      "\n",
      "\n"
     ]
    }
   ],
   "source": [
    "feat_imp=[None]*4\n",
    "j=0\n",
    "for i in range(0,8):\n",
    "    if i>=2 and i<=5:\n",
    "        model,cm_train,cm_test,acc_train,acc_test,roc_auc,feat_imp[j],mcc=f[i](X_train,Y_train,scaled_X_test,test_Y,columns[:-2])\n",
    "        j=j+1\n",
    "    else:\n",
    "        model,cm_train,cm_test,acc_train,acc_test,roc_auc,mcc=f[i](X_train,Y_train,scaled_X_test,test_Y)\n",
    "    table_80_90_train.loc[i]=   ([acc_train,cm_train.TP,cm_train.TN,cm_train.FP,cm_train.FN,cm_train.FPR,cm_train.FNR])\n",
    "    table_80_90_test.loc[i] =   ([acc_test ,cm_test.TP, cm_test.TN, cm_test.FP, cm_test.FN, cm_test.FPR, cm_test.FNR,roc_auc,mcc])\n",
    "    print(\"\\n\")"
   ]
  },
  {
   "cell_type": "markdown",
   "metadata": {},
   "source": [
    "### <a id='3.A' style=\"text-decoration : none; color : #000000;\"> A. Results</a>"
   ]
  },
  {
   "cell_type": "code",
   "execution_count": 46,
   "metadata": {},
   "outputs": [
    {
     "data": {
      "application/vnd.plotly.v1+json": {
       "config": {
        "linkText": "Export to plot.ly",
        "plotlyServerURL": "https://plot.ly",
        "showLink": true
       },
       "data": [
        {
         "mode": "lines",
         "name": "KNN_model",
         "type": "scatter",
         "uid": "26cdc98c-7a11-4b4c-8f03-c45e91518d34",
         "x": [
          "accuracy",
          "FPR",
          "FNR",
          "auc"
         ],
         "y": [
          0.8894461404273877,
          0.1083688298672012,
          0.12521008403361344,
          0.8832105430495927
         ]
        },
        {
         "mode": "lines+markers",
         "name": "Logistic Regression",
         "type": "scatter",
         "uid": "b2582c41-e10a-491b-af12-c056ce28bd57",
         "x": [
          "accuracy",
          "FPR",
          "FNR",
          "auc"
         ],
         "y": [
          0.8420191888355866,
          0.16474567777499374,
          0.11260504201680673,
          0.8613246401040998
         ]
        },
        {
         "marker": {
          "symbol": "x"
         },
         "mode": "lines+markers",
         "name": "Random Forest",
         "type": "scatter",
         "uid": "43e275f8-2c99-4353-a942-20b4324af1c8",
         "x": [
          "accuracy",
          "FPR",
          "FNR",
          "auc"
         ],
         "y": [
          0.8746184038377671,
          0.13192182410423453,
          0.08151260504201681,
          0.8932827854268742
         ]
        },
        {
         "mode": "lines",
         "name": "Ada Boost",
         "type": "scatter",
         "uid": "d4d9b0da-a7d1-4963-b36d-c9b8ee4ff6ba",
         "x": [
          "accuracy",
          "FPR",
          "FNR",
          "auc"
         ],
         "y": [
          0.8463802878325338,
          0.15935855675269356,
          0.11512605042016806,
          0.8627576964135691
         ]
        },
        {
         "mode": "lines+markers",
         "name": "GradientBoosting",
         "type": "scatter",
         "uid": "c5cb8e10-2595-419b-96e9-b68b325d0473",
         "x": [
          "accuracy",
          "FPR",
          "FNR",
          "auc"
         ],
         "y": [
          0.8749454862625382,
          0.12841393134552745,
          0.10252100840336134,
          0.8845325301255555
         ]
        },
        {
         "marker": {
          "symbol": "x"
         },
         "mode": "lines+markers",
         "name": "ExtraTree Classifier",
         "type": "scatter",
         "uid": "e1a95e1c-ba2b-4005-b99f-a6eed8f649e0",
         "x": [
          "accuracy",
          "FPR",
          "FNR",
          "auc"
         ],
         "y": [
          0.8740732664631488,
          0.13367577048358809,
          0.07394957983193277,
          0.8961873248422396
         ]
        },
        {
         "marker": {
          "symbol": "x"
         },
         "mode": "lines+markers",
         "name": "Bagging",
         "type": "scatter",
         "uid": "6ac60d10-1a59-4328-be1e-644dfaf55a62",
         "x": [
          "accuracy",
          "FPR",
          "FNR",
          "auc"
         ],
         "y": [
          0.865787178368949,
          0.1424455023803558,
          0.07899159663865546,
          0.8892814504904943
         ]
        },
        {
         "marker": {
          "symbol": "x"
         },
         "mode": "lines+markers",
         "name": "Neural Network",
         "type": "scatter",
         "uid": "135b8a29-5cbc-4cd9-99de-5a27d70b6f39",
         "x": [
          "accuracy",
          "FPR",
          "FNR",
          "auc"
         ],
         "y": [
          0.8822503270824248,
          0.12214983713355049,
          0.08823529411764706,
          0.8892814504904943
         ]
        }
       ],
       "layout": {
        "title": "Result comparision for Features selected in Section 1",
        "yaxis": {
         "dtick": 0.05,
         "tick0": 0
        }
       }
      },
      "text/html": [
       "<div id=\"e7edd863-3706-42c1-b204-1b6a22d0d537\" style=\"height: 525px; width: 100%;\" class=\"plotly-graph-div\"></div><script type=\"text/javascript\">require([\"plotly\"], function(Plotly) { window.PLOTLYENV=window.PLOTLYENV || {};window.PLOTLYENV.BASE_URL=\"https://plot.ly\";Plotly.newPlot(\"e7edd863-3706-42c1-b204-1b6a22d0d537\", [{\"mode\": \"lines\", \"name\": \"KNN_model\", \"x\": [\"accuracy\", \"FPR\", \"FNR\", \"auc\"], \"y\": [0.8894461404273877, 0.1083688298672012, 0.12521008403361344, 0.8832105430495927], \"type\": \"scatter\", \"uid\": \"26cdc98c-7a11-4b4c-8f03-c45e91518d34\"}, {\"mode\": \"lines+markers\", \"name\": \"Logistic Regression\", \"x\": [\"accuracy\", \"FPR\", \"FNR\", \"auc\"], \"y\": [0.8420191888355866, 0.16474567777499374, 0.11260504201680673, 0.8613246401040998], \"type\": \"scatter\", \"uid\": \"b2582c41-e10a-491b-af12-c056ce28bd57\"}, {\"marker\": {\"symbol\": \"x\"}, \"mode\": \"lines+markers\", \"name\": \"Random Forest\", \"x\": [\"accuracy\", \"FPR\", \"FNR\", \"auc\"], \"y\": [0.8746184038377671, 0.13192182410423453, 0.08151260504201681, 0.8932827854268742], \"type\": \"scatter\", \"uid\": \"43e275f8-2c99-4353-a942-20b4324af1c8\"}, {\"mode\": \"lines\", \"name\": \"Ada Boost\", \"x\": [\"accuracy\", \"FPR\", \"FNR\", \"auc\"], \"y\": [0.8463802878325338, 0.15935855675269356, 0.11512605042016806, 0.8627576964135691], \"type\": \"scatter\", \"uid\": \"d4d9b0da-a7d1-4963-b36d-c9b8ee4ff6ba\"}, {\"mode\": \"lines+markers\", \"name\": \"GradientBoosting\", \"x\": [\"accuracy\", \"FPR\", \"FNR\", \"auc\"], \"y\": [0.8749454862625382, 0.12841393134552745, 0.10252100840336134, 0.8845325301255555], \"type\": \"scatter\", \"uid\": \"c5cb8e10-2595-419b-96e9-b68b325d0473\"}, {\"marker\": {\"symbol\": \"x\"}, \"mode\": \"lines+markers\", \"name\": \"ExtraTree Classifier\", \"x\": [\"accuracy\", \"FPR\", \"FNR\", \"auc\"], \"y\": [0.8740732664631488, 0.13367577048358809, 0.07394957983193277, 0.8961873248422396], \"type\": \"scatter\", \"uid\": \"e1a95e1c-ba2b-4005-b99f-a6eed8f649e0\"}, {\"marker\": {\"symbol\": \"x\"}, \"mode\": \"lines+markers\", \"name\": \"Bagging\", \"x\": [\"accuracy\", \"FPR\", \"FNR\", \"auc\"], \"y\": [0.865787178368949, 0.1424455023803558, 0.07899159663865546, 0.8892814504904943], \"type\": \"scatter\", \"uid\": \"6ac60d10-1a59-4328-be1e-644dfaf55a62\"}, {\"marker\": {\"symbol\": \"x\"}, \"mode\": \"lines+markers\", \"name\": \"Neural Network\", \"x\": [\"accuracy\", \"FPR\", \"FNR\", \"auc\"], \"y\": [0.8822503270824248, 0.12214983713355049, 0.08823529411764706, 0.8892814504904943], \"type\": \"scatter\", \"uid\": \"135b8a29-5cbc-4cd9-99de-5a27d70b6f39\"}], {\"title\": \"Result comparision for Features selected in Section 1\", \"yaxis\": {\"dtick\": 0.05, \"tick0\": 0}}, {\"showLink\": true, \"linkText\": \"Export to plot.ly\", \"plotlyServerURL\": \"https://plot.ly\"})});</script><script type=\"text/javascript\">window.addEventListener(\"resize\", function(){window._Plotly.Plots.resize(document.getElementById(\"e7edd863-3706-42c1-b204-1b6a22d0d537\"));});</script>"
      ],
      "text/vnd.plotly.v1+html": [
       "<div id=\"e7edd863-3706-42c1-b204-1b6a22d0d537\" style=\"height: 525px; width: 100%;\" class=\"plotly-graph-div\"></div><script type=\"text/javascript\">require([\"plotly\"], function(Plotly) { window.PLOTLYENV=window.PLOTLYENV || {};window.PLOTLYENV.BASE_URL=\"https://plot.ly\";Plotly.newPlot(\"e7edd863-3706-42c1-b204-1b6a22d0d537\", [{\"mode\": \"lines\", \"name\": \"KNN_model\", \"x\": [\"accuracy\", \"FPR\", \"FNR\", \"auc\"], \"y\": [0.8894461404273877, 0.1083688298672012, 0.12521008403361344, 0.8832105430495927], \"type\": \"scatter\", \"uid\": \"26cdc98c-7a11-4b4c-8f03-c45e91518d34\"}, {\"mode\": \"lines+markers\", \"name\": \"Logistic Regression\", \"x\": [\"accuracy\", \"FPR\", \"FNR\", \"auc\"], \"y\": [0.8420191888355866, 0.16474567777499374, 0.11260504201680673, 0.8613246401040998], \"type\": \"scatter\", \"uid\": \"b2582c41-e10a-491b-af12-c056ce28bd57\"}, {\"marker\": {\"symbol\": \"x\"}, \"mode\": \"lines+markers\", \"name\": \"Random Forest\", \"x\": [\"accuracy\", \"FPR\", \"FNR\", \"auc\"], \"y\": [0.8746184038377671, 0.13192182410423453, 0.08151260504201681, 0.8932827854268742], \"type\": \"scatter\", \"uid\": \"43e275f8-2c99-4353-a942-20b4324af1c8\"}, {\"mode\": \"lines\", \"name\": \"Ada Boost\", \"x\": [\"accuracy\", \"FPR\", \"FNR\", \"auc\"], \"y\": [0.8463802878325338, 0.15935855675269356, 0.11512605042016806, 0.8627576964135691], \"type\": \"scatter\", \"uid\": \"d4d9b0da-a7d1-4963-b36d-c9b8ee4ff6ba\"}, {\"mode\": \"lines+markers\", \"name\": \"GradientBoosting\", \"x\": [\"accuracy\", \"FPR\", \"FNR\", \"auc\"], \"y\": [0.8749454862625382, 0.12841393134552745, 0.10252100840336134, 0.8845325301255555], \"type\": \"scatter\", \"uid\": \"c5cb8e10-2595-419b-96e9-b68b325d0473\"}, {\"marker\": {\"symbol\": \"x\"}, \"mode\": \"lines+markers\", \"name\": \"ExtraTree Classifier\", \"x\": [\"accuracy\", \"FPR\", \"FNR\", \"auc\"], \"y\": [0.8740732664631488, 0.13367577048358809, 0.07394957983193277, 0.8961873248422396], \"type\": \"scatter\", \"uid\": \"e1a95e1c-ba2b-4005-b99f-a6eed8f649e0\"}, {\"marker\": {\"symbol\": \"x\"}, \"mode\": \"lines+markers\", \"name\": \"Bagging\", \"x\": [\"accuracy\", \"FPR\", \"FNR\", \"auc\"], \"y\": [0.865787178368949, 0.1424455023803558, 0.07899159663865546, 0.8892814504904943], \"type\": \"scatter\", \"uid\": \"6ac60d10-1a59-4328-be1e-644dfaf55a62\"}, {\"marker\": {\"symbol\": \"x\"}, \"mode\": \"lines+markers\", \"name\": \"Neural Network\", \"x\": [\"accuracy\", \"FPR\", \"FNR\", \"auc\"], \"y\": [0.8822503270824248, 0.12214983713355049, 0.08823529411764706, 0.8892814504904943], \"type\": \"scatter\", \"uid\": \"135b8a29-5cbc-4cd9-99de-5a27d70b6f39\"}], {\"title\": \"Result comparision for Features selected in Section 1\", \"yaxis\": {\"dtick\": 0.05, \"tick0\": 0}}, {\"showLink\": true, \"linkText\": \"Export to plot.ly\", \"plotlyServerURL\": \"https://plot.ly\"})});</script><script type=\"text/javascript\">window.addEventListener(\"resize\", function(){window._Plotly.Plots.resize(document.getElementById(\"e7edd863-3706-42c1-b204-1b6a22d0d537\"));});</script>"
      ]
     },
     "metadata": {},
     "output_type": "display_data"
    }
   ],
   "source": [
    "trace0 = go.Scatter(x=table_80_90_test.iloc[0].index.values[[0,5,6,7]],\n",
    "                    y=table_80_90_test.iloc[0].values[[0,5,6,7]],\n",
    "                    mode = 'lines',\n",
    "                    name = 'KNN_model')\n",
    "\n",
    "trace1 = go.Scatter(x=table_80_90_test.iloc[1].index.values[[0,5,6,7]],\n",
    "                    y=table_80_90_test.iloc[1].values[[0,5,6,7]],\n",
    "                    mode = 'lines+markers',\n",
    "                    name = 'Logistic Regression')\n",
    "\n",
    "trace2 = go.Scatter(x=table_80_90_test.iloc[2].index.values[[0,5,6,7]],\n",
    "                    y=table_80_90_test.iloc[2].values[[0,5,6,7]],\n",
    "                    mode = 'lines+markers',marker=dict(symbol='x'),\n",
    "                    name = 'Random Forest')\n",
    "\n",
    "\n",
    "trace3 = go.Scatter(x=table_80_90_test.iloc[3].index.values[[0,5,6,7]],\n",
    "                    y=table_80_90_test.iloc[3].values[[0,5,6,7]],\n",
    "                    mode = 'lines',\n",
    "                    name = 'Ada Boost')\n",
    "\n",
    "trace4 = go.Scatter(x=table_80_90_test.iloc[4].index.values[[0,5,6,7]],\n",
    "                    y=table_80_90_test.iloc[4].values[[0,5,6,7]],\n",
    "                    mode = 'lines+markers',\n",
    "                    name = 'GradientBoosting')\n",
    "\n",
    "trace5 = go.Scatter(x=table_80_90_test.iloc[5].index.values[[0,5,6,7]],\n",
    "                    y=table_80_90_test.iloc[5].values[[0,5,6,7]],\n",
    "                    mode = 'lines+markers',marker=dict(symbol='x'),\n",
    "                    name = 'ExtraTree Classifier')\n",
    "\n",
    "trace6 = go.Scatter(x=table_80_90_test.iloc[6].index.values[[0,5,6,7]],\n",
    "                    y=table_80_90_test.iloc[6].values[[0,5,6,7]],\n",
    "                    mode = 'lines+markers',marker=dict(symbol='x'),\n",
    "                    name = 'Bagging')\n",
    "\n",
    "trace7 = go.Scatter(x=table_80_90_test.iloc[7].index.values[[0,5,6,7]],\n",
    "                    y=table_80_90_test.iloc[7].values[[0,5,6,7]],\n",
    "                    mode = 'lines+markers',marker=dict(symbol='x'),\n",
    "                    name = 'Neural Network')\n",
    "\n",
    "\n",
    "\n",
    "data = [trace0, trace1, trace2, trace3, trace4, trace5, trace6, trace7]\n",
    "layout = go.Layout(yaxis=dict(tick0=0,dtick=0.05),title='Result comparision for Features selected in Section 1')\n",
    "fig = go.Figure(data=data, layout=layout)\n",
    "\n",
    "iplot(fig, filename='Result')"
   ]
  },
  {
   "cell_type": "code",
   "execution_count": 47,
   "metadata": {},
   "outputs": [
    {
     "name": "stdout",
     "output_type": "stream",
     "text": [
      "Training Results\n"
     ]
    },
    {
     "data": {
      "text/html": [
       "<div>\n",
       "<style scoped>\n",
       "    .dataframe tbody tr th:only-of-type {\n",
       "        vertical-align: middle;\n",
       "    }\n",
       "\n",
       "    .dataframe tbody tr th {\n",
       "        vertical-align: top;\n",
       "    }\n",
       "\n",
       "    .dataframe thead th {\n",
       "        text-align: right;\n",
       "    }\n",
       "</style>\n",
       "<table border=\"1\" class=\"dataframe\">\n",
       "  <thead>\n",
       "    <tr style=\"text-align: right;\">\n",
       "      <th></th>\n",
       "      <th>accuracy</th>\n",
       "      <th>TP</th>\n",
       "      <th>TN</th>\n",
       "      <th>FP</th>\n",
       "      <th>FN</th>\n",
       "      <th>FPR</th>\n",
       "      <th>FNR</th>\n",
       "    </tr>\n",
       "    <tr>\n",
       "      <th>index</th>\n",
       "      <th></th>\n",
       "      <th></th>\n",
       "      <th></th>\n",
       "      <th></th>\n",
       "      <th></th>\n",
       "      <th></th>\n",
       "      <th></th>\n",
       "    </tr>\n",
       "  </thead>\n",
       "  <tbody>\n",
       "    <tr>\n",
       "      <th>KNeighborsClassifier</th>\n",
       "      <td>0.897847</td>\n",
       "      <td>4304.0</td>\n",
       "      <td>4371.0</td>\n",
       "      <td>460.0</td>\n",
       "      <td>527.0</td>\n",
       "      <td>0.095218</td>\n",
       "      <td>0.109087</td>\n",
       "    </tr>\n",
       "    <tr>\n",
       "      <th>LogisticRegression</th>\n",
       "      <td>0.864831</td>\n",
       "      <td>4328.0</td>\n",
       "      <td>4028.0</td>\n",
       "      <td>803.0</td>\n",
       "      <td>503.0</td>\n",
       "      <td>0.166218</td>\n",
       "      <td>0.104119</td>\n",
       "    </tr>\n",
       "    <tr>\n",
       "      <th>RandomForestClassifier</th>\n",
       "      <td>0.929518</td>\n",
       "      <td>4640.0</td>\n",
       "      <td>4341.0</td>\n",
       "      <td>490.0</td>\n",
       "      <td>191.0</td>\n",
       "      <td>0.101428</td>\n",
       "      <td>0.039536</td>\n",
       "    </tr>\n",
       "    <tr>\n",
       "      <th>AdaBoostClassifier</th>\n",
       "      <td>0.871766</td>\n",
       "      <td>4347.0</td>\n",
       "      <td>4076.0</td>\n",
       "      <td>755.0</td>\n",
       "      <td>484.0</td>\n",
       "      <td>0.156282</td>\n",
       "      <td>0.100186</td>\n",
       "    </tr>\n",
       "    <tr>\n",
       "      <th>GradientBoostingClassifier</th>\n",
       "      <td>0.891327</td>\n",
       "      <td>4363.0</td>\n",
       "      <td>4249.0</td>\n",
       "      <td>582.0</td>\n",
       "      <td>468.0</td>\n",
       "      <td>0.120472</td>\n",
       "      <td>0.096874</td>\n",
       "    </tr>\n",
       "    <tr>\n",
       "      <th>ExtraTreeClassifier</th>\n",
       "      <td>0.933244</td>\n",
       "      <td>4655.0</td>\n",
       "      <td>4362.0</td>\n",
       "      <td>469.0</td>\n",
       "      <td>176.0</td>\n",
       "      <td>0.097081</td>\n",
       "      <td>0.036431</td>\n",
       "    </tr>\n",
       "    <tr>\n",
       "      <th>BaggingClassifier</th>\n",
       "      <td>0.930139</td>\n",
       "      <td>4666.0</td>\n",
       "      <td>4321.0</td>\n",
       "      <td>510.0</td>\n",
       "      <td>165.0</td>\n",
       "      <td>0.105568</td>\n",
       "      <td>0.034154</td>\n",
       "    </tr>\n",
       "    <tr>\n",
       "      <th>Neural Network-1</th>\n",
       "      <td>0.908197</td>\n",
       "      <td>4484.0</td>\n",
       "      <td>4291.0</td>\n",
       "      <td>540.0</td>\n",
       "      <td>347.0</td>\n",
       "      <td>0.111778</td>\n",
       "      <td>0.071828</td>\n",
       "    </tr>\n",
       "  </tbody>\n",
       "</table>\n",
       "</div>"
      ],
      "text/plain": [
       "                            accuracy      TP      TN     FP     FN       FPR  \\\n",
       "index                                                                          \n",
       "KNeighborsClassifier        0.897847  4304.0  4371.0  460.0  527.0  0.095218   \n",
       "LogisticRegression          0.864831  4328.0  4028.0  803.0  503.0  0.166218   \n",
       "RandomForestClassifier      0.929518  4640.0  4341.0  490.0  191.0  0.101428   \n",
       "AdaBoostClassifier          0.871766  4347.0  4076.0  755.0  484.0  0.156282   \n",
       "GradientBoostingClassifier  0.891327  4363.0  4249.0  582.0  468.0  0.120472   \n",
       "ExtraTreeClassifier         0.933244  4655.0  4362.0  469.0  176.0  0.097081   \n",
       "BaggingClassifier           0.930139  4666.0  4321.0  510.0  165.0  0.105568   \n",
       "Neural Network-1            0.908197  4484.0  4291.0  540.0  347.0  0.111778   \n",
       "\n",
       "                                 FNR  \n",
       "index                                 \n",
       "KNeighborsClassifier        0.109087  \n",
       "LogisticRegression          0.104119  \n",
       "RandomForestClassifier      0.039536  \n",
       "AdaBoostClassifier          0.100186  \n",
       "GradientBoostingClassifier  0.096874  \n",
       "ExtraTreeClassifier         0.036431  \n",
       "BaggingClassifier           0.034154  \n",
       "Neural Network-1            0.071828  "
      ]
     },
     "metadata": {},
     "output_type": "display_data"
    },
    {
     "name": "stdout",
     "output_type": "stream",
     "text": [
      "Test Results\n"
     ]
    },
    {
     "data": {
      "text/html": [
       "<div>\n",
       "<style scoped>\n",
       "    .dataframe tbody tr th:only-of-type {\n",
       "        vertical-align: middle;\n",
       "    }\n",
       "\n",
       "    .dataframe tbody tr th {\n",
       "        vertical-align: top;\n",
       "    }\n",
       "\n",
       "    .dataframe thead th {\n",
       "        text-align: right;\n",
       "    }\n",
       "</style>\n",
       "<table border=\"1\" class=\"dataframe\">\n",
       "  <thead>\n",
       "    <tr style=\"text-align: right;\">\n",
       "      <th></th>\n",
       "      <th>accuracy</th>\n",
       "      <th>TP</th>\n",
       "      <th>TN</th>\n",
       "      <th>FP</th>\n",
       "      <th>FN</th>\n",
       "      <th>FPR</th>\n",
       "      <th>FNR</th>\n",
       "      <th>auc</th>\n",
       "      <th>mcc</th>\n",
       "    </tr>\n",
       "    <tr>\n",
       "      <th>index</th>\n",
       "      <th></th>\n",
       "      <th></th>\n",
       "      <th></th>\n",
       "      <th></th>\n",
       "      <th></th>\n",
       "      <th></th>\n",
       "      <th></th>\n",
       "      <th></th>\n",
       "      <th></th>\n",
       "    </tr>\n",
       "  </thead>\n",
       "  <tbody>\n",
       "    <tr>\n",
       "      <th>KNeighborsClassifier</th>\n",
       "      <td>0.889446</td>\n",
       "      <td>1041.0</td>\n",
       "      <td>7117.0</td>\n",
       "      <td>865.0</td>\n",
       "      <td>149.0</td>\n",
       "      <td>0.108369</td>\n",
       "      <td>0.125210</td>\n",
       "      <td>0.883211</td>\n",
       "      <td>0.634728</td>\n",
       "    </tr>\n",
       "    <tr>\n",
       "      <th>LogisticRegression</th>\n",
       "      <td>0.842019</td>\n",
       "      <td>1056.0</td>\n",
       "      <td>6667.0</td>\n",
       "      <td>1315.0</td>\n",
       "      <td>134.0</td>\n",
       "      <td>0.164746</td>\n",
       "      <td>0.112605</td>\n",
       "      <td>0.861325</td>\n",
       "      <td>0.554632</td>\n",
       "    </tr>\n",
       "    <tr>\n",
       "      <th>RandomForestClassifier</th>\n",
       "      <td>0.874618</td>\n",
       "      <td>1093.0</td>\n",
       "      <td>6929.0</td>\n",
       "      <td>1053.0</td>\n",
       "      <td>97.0</td>\n",
       "      <td>0.131922</td>\n",
       "      <td>0.081513</td>\n",
       "      <td>0.893283</td>\n",
       "      <td>0.624303</td>\n",
       "    </tr>\n",
       "    <tr>\n",
       "      <th>AdaBoostClassifier</th>\n",
       "      <td>0.846380</td>\n",
       "      <td>1053.0</td>\n",
       "      <td>6710.0</td>\n",
       "      <td>1272.0</td>\n",
       "      <td>137.0</td>\n",
       "      <td>0.159359</td>\n",
       "      <td>0.115126</td>\n",
       "      <td>0.862758</td>\n",
       "      <td>0.560421</td>\n",
       "    </tr>\n",
       "    <tr>\n",
       "      <th>GradientBoostingClassifier</th>\n",
       "      <td>0.874945</td>\n",
       "      <td>1068.0</td>\n",
       "      <td>6957.0</td>\n",
       "      <td>1025.0</td>\n",
       "      <td>122.0</td>\n",
       "      <td>0.128414</td>\n",
       "      <td>0.102521</td>\n",
       "      <td>0.884533</td>\n",
       "      <td>0.615775</td>\n",
       "    </tr>\n",
       "    <tr>\n",
       "      <th>ExtraTreeClassifier</th>\n",
       "      <td>0.874073</td>\n",
       "      <td>1102.0</td>\n",
       "      <td>6915.0</td>\n",
       "      <td>1067.0</td>\n",
       "      <td>88.0</td>\n",
       "      <td>0.133676</td>\n",
       "      <td>0.073950</td>\n",
       "      <td>0.896187</td>\n",
       "      <td>0.626597</td>\n",
       "    </tr>\n",
       "    <tr>\n",
       "      <th>BaggingClassifier</th>\n",
       "      <td>0.865787</td>\n",
       "      <td>1096.0</td>\n",
       "      <td>6845.0</td>\n",
       "      <td>1137.0</td>\n",
       "      <td>94.0</td>\n",
       "      <td>0.142446</td>\n",
       "      <td>0.078992</td>\n",
       "      <td>0.889281</td>\n",
       "      <td>0.609579</td>\n",
       "    </tr>\n",
       "    <tr>\n",
       "      <th>Neural Network-1</th>\n",
       "      <td>0.882250</td>\n",
       "      <td>1085.0</td>\n",
       "      <td>7007.0</td>\n",
       "      <td>975.0</td>\n",
       "      <td>105.0</td>\n",
       "      <td>0.122150</td>\n",
       "      <td>0.088235</td>\n",
       "      <td>0.889281</td>\n",
       "      <td>0.635792</td>\n",
       "    </tr>\n",
       "  </tbody>\n",
       "</table>\n",
       "</div>"
      ],
      "text/plain": [
       "                            accuracy      TP      TN      FP     FN       FPR  \\\n",
       "index                                                                           \n",
       "KNeighborsClassifier        0.889446  1041.0  7117.0   865.0  149.0  0.108369   \n",
       "LogisticRegression          0.842019  1056.0  6667.0  1315.0  134.0  0.164746   \n",
       "RandomForestClassifier      0.874618  1093.0  6929.0  1053.0   97.0  0.131922   \n",
       "AdaBoostClassifier          0.846380  1053.0  6710.0  1272.0  137.0  0.159359   \n",
       "GradientBoostingClassifier  0.874945  1068.0  6957.0  1025.0  122.0  0.128414   \n",
       "ExtraTreeClassifier         0.874073  1102.0  6915.0  1067.0   88.0  0.133676   \n",
       "BaggingClassifier           0.865787  1096.0  6845.0  1137.0   94.0  0.142446   \n",
       "Neural Network-1            0.882250  1085.0  7007.0   975.0  105.0  0.122150   \n",
       "\n",
       "                                 FNR       auc       mcc  \n",
       "index                                                     \n",
       "KNeighborsClassifier        0.125210  0.883211  0.634728  \n",
       "LogisticRegression          0.112605  0.861325  0.554632  \n",
       "RandomForestClassifier      0.081513  0.893283  0.624303  \n",
       "AdaBoostClassifier          0.115126  0.862758  0.560421  \n",
       "GradientBoostingClassifier  0.102521  0.884533  0.615775  \n",
       "ExtraTreeClassifier         0.073950  0.896187  0.626597  \n",
       "BaggingClassifier           0.078992  0.889281  0.609579  \n",
       "Neural Network-1            0.088235  0.889281  0.635792  "
      ]
     },
     "metadata": {},
     "output_type": "display_data"
    }
   ],
   "source": [
    "table_80_90_train['index']=ind_columns\n",
    "table_80_90_test['index']=ind_columns\n",
    "\n",
    "\n",
    "table_80_90_test.set_index(['index'],drop=True,inplace=True)\n",
    "table_80_90_train.set_index(['index'],drop=True,inplace=True)\n",
    "\n",
    "print(\"Training Results\")\n",
    "display(table_80_90_train)\n",
    "print(\"Test Results\")\n",
    "display(table_80_90_test)"
   ]
  },
  {
   "cell_type": "markdown",
   "metadata": {},
   "source": [
    "### <a id='3.B' style=\"text-decoration : none; color : #000000;\"> B. Average Feature Importances</a>"
   ]
  },
  {
   "cell_type": "code",
   "execution_count": 49,
   "metadata": {},
   "outputs": [
    {
     "data": {
      "application/vnd.plotly.v1+json": {
       "config": {
        "linkText": "Export to plot.ly",
        "plotlyServerURL": "https://plot.ly",
        "showLink": true
       },
       "data": [
        {
         "marker": {
          "color": "rgb(158,202,225)",
          "line": {
           "color": "rgb(8,48,107)",
           "width": 1.5
          }
         },
         "opacity": 0.6,
         "orientation": "h",
         "text": [
          0.2531,
          0.2528,
          0.093,
          0.0694,
          0.04,
          0.0386,
          0.0383,
          0.0272,
          0.0271,
          0.0207,
          0.0204,
          0.015,
          0.015,
          0.0138,
          0.0121,
          0.0118,
          0.0104,
          0.0093,
          0.0091,
          0.009,
          0.0089,
          0.0048
         ],
         "textposition": "outside",
         "type": "bar",
         "uid": "f5d3753f-a079-478e-a14c-30b19445bf40",
         "x": [
          0.25310738187091614,
          0.2527692498529729,
          0.09301273127161905,
          0.06939197547741516,
          0.03996730140547414,
          0.038638145492213644,
          0.038319765724787,
          0.02721804934106787,
          0.027134701503562723,
          0.020722891695360398,
          0.02041510545749408,
          0.015040175781251037,
          0.014958382737390547,
          0.013828716486339997,
          0.012146625374702368,
          0.011803105960138636,
          0.010383672616943753,
          0.009349625305886722,
          0.009081772508596129,
          0.009022441100106162,
          0.008860910132651327,
          0.00482727290311027
         ],
         "y": [
          "http_header_content-length",
          "http_header_content-encoding_gzip",
          "http_header_transfer-encoding_chunked",
          "http_header_vary_accept",
          "http_header_server_apache",
          "http_header_cache-control_set_max-age",
          "http_header_connection_keep-alive",
          "http_header_content-language_text/html",
          "http_header_pragmano-cache",
          "http_header_server_nginx",
          "http_header_cache-control_set_no-store",
          "http_header_vary_age",
          "http_header_cache-control_set_private",
          "http_header_via_1.1",
          "http_header_x-xss-enabled",
          "http_header_cache-control_set_must-revalidate",
          "http_header_expect-ctmax-age",
          "http_header_connection_close",
          "http_header_cache-control_set_no-cache",
          "http_header_strict-transport-security_max-age",
          "http_header_cache-control_set_public",
          "http_header_x-cintent-type-options_nosniff"
         ]
        }
       ],
       "layout": {
        "autosize": false,
        "height": 1000,
        "width": 1000,
        "xaxis": {
         "tickfont": {
          "color": "black",
          "size": 12
         },
         "title": "Feature Importances"
        },
        "yaxis": {
         "automargin": true
        }
       }
      },
      "text/html": [
       "<div id=\"c0c4972a-aeaf-4f74-8805-a52715854fbd\" style=\"height: 1000px; width: 1000px;\" class=\"plotly-graph-div\"></div><script type=\"text/javascript\">require([\"plotly\"], function(Plotly) { window.PLOTLYENV=window.PLOTLYENV || {};window.PLOTLYENV.BASE_URL=\"https://plot.ly\";Plotly.newPlot(\"c0c4972a-aeaf-4f74-8805-a52715854fbd\", [{\"marker\": {\"color\": \"rgb(158,202,225)\", \"line\": {\"color\": \"rgb(8,48,107)\", \"width\": 1.5}}, \"opacity\": 0.6, \"orientation\": \"h\", \"text\": [0.2531, 0.2528, 0.093, 0.0694, 0.04, 0.0386, 0.0383, 0.0272, 0.0271, 0.0207, 0.0204, 0.015, 0.015, 0.0138, 0.0121, 0.0118, 0.0104, 0.0093, 0.0091, 0.009, 0.0089, 0.0048], \"textposition\": \"outside\", \"x\": [0.25310738187091614, 0.2527692498529729, 0.09301273127161905, 0.06939197547741516, 0.03996730140547414, 0.038638145492213644, 0.038319765724787, 0.02721804934106787, 0.027134701503562723, 0.020722891695360398, 0.02041510545749408, 0.015040175781251037, 0.014958382737390547, 0.013828716486339997, 0.012146625374702368, 0.011803105960138636, 0.010383672616943753, 0.009349625305886722, 0.009081772508596129, 0.009022441100106162, 0.008860910132651327, 0.00482727290311027], \"y\": [\"http_header_content-length\", \"http_header_content-encoding_gzip\", \"http_header_transfer-encoding_chunked\", \"http_header_vary_accept\", \"http_header_server_apache\", \"http_header_cache-control_set_max-age\", \"http_header_connection_keep-alive\", \"http_header_content-language_text/html\", \"http_header_pragmano-cache\", \"http_header_server_nginx\", \"http_header_cache-control_set_no-store\", \"http_header_vary_age\", \"http_header_cache-control_set_private\", \"http_header_via_1.1\", \"http_header_x-xss-enabled\", \"http_header_cache-control_set_must-revalidate\", \"http_header_expect-ctmax-age\", \"http_header_connection_close\", \"http_header_cache-control_set_no-cache\", \"http_header_strict-transport-security_max-age\", \"http_header_cache-control_set_public\", \"http_header_x-cintent-type-options_nosniff\"], \"type\": \"bar\", \"uid\": \"f5d3753f-a079-478e-a14c-30b19445bf40\"}], {\"autosize\": false, \"height\": 1000, \"width\": 1000, \"xaxis\": {\"tickfont\": {\"color\": \"black\", \"size\": 12}, \"title\": \"Feature Importances\"}, \"yaxis\": {\"automargin\": true}}, {\"showLink\": true, \"linkText\": \"Export to plot.ly\", \"plotlyServerURL\": \"https://plot.ly\"})});</script>"
      ],
      "text/vnd.plotly.v1+html": [
       "<div id=\"c0c4972a-aeaf-4f74-8805-a52715854fbd\" style=\"height: 1000px; width: 1000px;\" class=\"plotly-graph-div\"></div><script type=\"text/javascript\">require([\"plotly\"], function(Plotly) { window.PLOTLYENV=window.PLOTLYENV || {};window.PLOTLYENV.BASE_URL=\"https://plot.ly\";Plotly.newPlot(\"c0c4972a-aeaf-4f74-8805-a52715854fbd\", [{\"marker\": {\"color\": \"rgb(158,202,225)\", \"line\": {\"color\": \"rgb(8,48,107)\", \"width\": 1.5}}, \"opacity\": 0.6, \"orientation\": \"h\", \"text\": [0.2531, 0.2528, 0.093, 0.0694, 0.04, 0.0386, 0.0383, 0.0272, 0.0271, 0.0207, 0.0204, 0.015, 0.015, 0.0138, 0.0121, 0.0118, 0.0104, 0.0093, 0.0091, 0.009, 0.0089, 0.0048], \"textposition\": \"outside\", \"x\": [0.25310738187091614, 0.2527692498529729, 0.09301273127161905, 0.06939197547741516, 0.03996730140547414, 0.038638145492213644, 0.038319765724787, 0.02721804934106787, 0.027134701503562723, 0.020722891695360398, 0.02041510545749408, 0.015040175781251037, 0.014958382737390547, 0.013828716486339997, 0.012146625374702368, 0.011803105960138636, 0.010383672616943753, 0.009349625305886722, 0.009081772508596129, 0.009022441100106162, 0.008860910132651327, 0.00482727290311027], \"y\": [\"http_header_content-length\", \"http_header_content-encoding_gzip\", \"http_header_transfer-encoding_chunked\", \"http_header_vary_accept\", \"http_header_server_apache\", \"http_header_cache-control_set_max-age\", \"http_header_connection_keep-alive\", \"http_header_content-language_text/html\", \"http_header_pragmano-cache\", \"http_header_server_nginx\", \"http_header_cache-control_set_no-store\", \"http_header_vary_age\", \"http_header_cache-control_set_private\", \"http_header_via_1.1\", \"http_header_x-xss-enabled\", \"http_header_cache-control_set_must-revalidate\", \"http_header_expect-ctmax-age\", \"http_header_connection_close\", \"http_header_cache-control_set_no-cache\", \"http_header_strict-transport-security_max-age\", \"http_header_cache-control_set_public\", \"http_header_x-cintent-type-options_nosniff\"], \"type\": \"bar\", \"uid\": \"f5d3753f-a079-478e-a14c-30b19445bf40\"}], {\"autosize\": false, \"height\": 1000, \"width\": 1000, \"xaxis\": {\"tickfont\": {\"color\": \"black\", \"size\": 12}, \"title\": \"Feature Importances\"}, \"yaxis\": {\"automargin\": true}}, {\"showLink\": true, \"linkText\": \"Export to plot.ly\", \"plotlyServerURL\": \"https://plot.ly\"})});</script>"
      ]
     },
     "metadata": {},
     "output_type": "display_data"
    }
   ],
   "source": [
    "feat_impt_plot(np.average(feat_imp,axis=0),columns[:-2])"
   ]
  },
  {
   "cell_type": "markdown",
   "metadata": {},
   "source": [
    "### <a id='4' style=\"text-decoration : none; color : #000000;\">4. Feature Transformation with feature selection </a>"
   ]
  },
  {
   "cell_type": "code",
   "execution_count": 92,
   "metadata": {},
   "outputs": [
    {
     "name": "stdout",
     "output_type": "stream",
     "text": [
      "Built 946 features\n",
      "EntitySet scattered to workers in 5.241 seconds\n",
      "Elapsed: 00:05 | Remaining: 00:00 | Progress: 100%|██████████| Calculated: 11/11 chunks\n"
     ]
    }
   ],
   "source": [
    "df.reset_index(inplace=True)\n",
    "columns.remove('Target')\n",
    "df_min=df[columns]\n",
    "\n",
    "es = ft.EntitySet(id = 'malicious')\n",
    "es.entity_from_dataframe(entity_id = 'data', dataframe = df_min, index = 'domain')\n",
    "\n",
    "feature_matrix_sessions, features_defs = ft.dfs(entityset=es,target_entity=\"data\",\n",
    "                                                trans_primitives = ['add','divide','multiply'],n_jobs=-1,\n",
    "                                                verbose=1,max_depth=1)"
   ]
  },
  {
   "cell_type": "code",
   "execution_count": 93,
   "metadata": {
    "collapsed": true
   },
   "outputs": [],
   "source": [
    "df.set_index(['domain'],drop=True,inplace=True)\n",
    "fs=pd.merge(feature_matrix_sessions,pd.DataFrame(df.Target),left_index=True, right_index=True)\n",
    "fs.replace([np.inf],0,inplace=True)\n",
    "fs.fillna(value=0,inplace=True)"
   ]
  },
  {
   "cell_type": "code",
   "execution_count": 94,
   "metadata": {
    "collapsed": true
   },
   "outputs": [],
   "source": [
    "X=fs.loc[:,fs.columns!='Target']\n",
    "y=fs.Target\n",
    "feature_name = X.columns.tolist()"
   ]
  },
  {
   "cell_type": "code",
   "execution_count": 95,
   "metadata": {
    "collapsed": true
   },
   "outputs": [],
   "source": [
    "def cor_selector(X, y):\n",
    "    cor_list = []\n",
    "    # calculate the correlation with y for each feature\n",
    "    for i in X.columns.tolist():\n",
    "        cor = np.corrcoef(X[i], y)[0, 1]\n",
    "        cor_list.append(cor)\n",
    "    # replace NaN with 0\n",
    "    cor_list = [0 if np.isnan(i) else i for i in cor_list]\n",
    "    # feature name\n",
    "    cor_feature = X.iloc[:,np.argsort(np.abs(cor_list))[-100:]].columns.tolist()\n",
    "    # feature selection? 0 for not select, 1 for select\n",
    "    cor_support = [True if i in cor_feature else False for i in feature_name]\n",
    "    return cor_support, cor_feature\n",
    "\n",
    "\n",
    "cor_support, cor_feature = cor_selector(X, y)"
   ]
  },
  {
   "cell_type": "code",
   "execution_count": 96,
   "metadata": {
    "collapsed": true
   },
   "outputs": [],
   "source": [
    "X_norm = MinMaxScaler().fit_transform(X)\n",
    "chi_selector = SelectKBest(chi2, k=100)\n",
    "chi_selector.fit(X_norm, y)\n",
    "chi_support = chi_selector.get_support()\n",
    "chi_feature = X.loc[:,chi_support].columns.tolist()"
   ]
  },
  {
   "cell_type": "code",
   "execution_count": 97,
   "metadata": {
    "collapsed": true
   },
   "outputs": [],
   "source": [
    "rfe_selector = RFE(estimator=LogisticRegression(random_state=0), n_features_to_select=100, step=0.3, verbose=False)\n",
    "rfe_selector.fit(X_norm, y)\n",
    "rfe_support = rfe_selector.get_support()\n",
    "rfe_feature = X.loc[:,rfe_support].columns.tolist()"
   ]
  },
  {
   "cell_type": "code",
   "execution_count": 98,
   "metadata": {
    "collapsed": true
   },
   "outputs": [],
   "source": [
    "embeded_rf_selector = SelectFromModel(RandomForestClassifier(n_estimators=100,random_state=0), threshold='23*median')\n",
    "embeded_rf_selector.fit(X, y)\n",
    "embeded_rf_support = embeded_rf_selector.get_support()\n",
    "embeded_rf_feature = X.loc[:,embeded_rf_support].columns.tolist()"
   ]
  },
  {
   "cell_type": "code",
   "execution_count": 99,
   "metadata": {
    "collapsed": true
   },
   "outputs": [],
   "source": [
    "feature_selection_df = pd.DataFrame({'Feature':feature_name, 'Pearson':cor_support, 'Chi-2':chi_support, 'RFE':rfe_support,\n",
    "                                    'Random Forest':embeded_rf_support})\n",
    "# count the selected times for each feature\n",
    "feature_selection_df['Total'] = np.sum(feature_selection_df, axis=1)\n",
    "# display the top 100\n",
    "feature_selection_df = feature_selection_df.sort_values(['Total','Feature'] , ascending=False)\n",
    "feature_selection_df.index = range(1, len(feature_selection_df)+1)"
   ]
  },
  {
   "cell_type": "code",
   "execution_count": 100,
   "metadata": {
    "collapsed": true
   },
   "outputs": [],
   "source": [
    "columns=feature_selection_df[feature_selection_df.Total>=3]['Feature'].values"
   ]
  },
  {
   "cell_type": "code",
   "execution_count": 101,
   "metadata": {
    "collapsed": true
   },
   "outputs": [],
   "source": [
    "train=fs.iloc[:36684]\n",
    "train_Y=train.Target.values\n",
    "train_X=train[columns].values\n",
    "\n",
    "\n",
    "scaler=StandardScaler()\n",
    "scaled_X_train=scaler.fit_transform(train_X)\n",
    "\n",
    "test=fs.iloc[36684:]\n",
    "test_Y=test.Target.values\n",
    "test_X=test[columns]\n",
    "\n",
    "scaled_X_test=scaler.transform(test_X)"
   ]
  },
  {
   "cell_type": "code",
   "execution_count": 102,
   "metadata": {},
   "outputs": [
    {
     "name": "stdout",
     "output_type": "stream",
     "text": [
      "Features we will be using:\n",
      "\n"
     ]
    },
    {
     "data": {
      "text/plain": [
       "array([ 'http_header_content-language_text/html + http_header_transfer-encoding_chunked',\n",
       "       'http_header_vary_age / http_header_content-length',\n",
       "       'http_header_transfer-encoding_chunked + http_header_vary_accept',\n",
       "       'http_header_transfer-encoding_chunked',\n",
       "       'http_header_server_nginx + http_header_vary_accept',\n",
       "       'http_header_server_nginx + http_header_transfer-encoding_chunked',\n",
       "       'http_header_pragmano-cache + http_header_vary_accept',\n",
       "       'http_header_content-language_text/html / http_header_transfer-encoding_chunked',\n",
       "       'http_header_content-language_text/html / http_header_content-encoding_gzip',\n",
       "       'http_header_content-language_text/html / http_header_connection_keep-alive',\n",
       "       'http_header_content-language_text/html + http_header_via_1.1',\n",
       "       'http_header_content-language_text/html + http_header_vary_accept',\n",
       "       'http_header_content-language_text/html + http_header_server_nginx',\n",
       "       'http_header_content-language_text/html + http_header_expect-ctmax-age',\n",
       "       'http_header_content-language_text/html',\n",
       "       'http_header_content-encoding_gzip / http_header_content-language_text/html',\n",
       "       'http_header_content-encoding_gzip / http_header_connection_keep-alive',\n",
       "       'http_header_content-encoding_gzip + http_header_x-xss-enabled',\n",
       "       'http_header_content-encoding_gzip + http_header_via_1.1',\n",
       "       'http_header_content-encoding_gzip + http_header_vary_age',\n",
       "       'http_header_content-encoding_gzip + http_header_vary_accept',\n",
       "       'http_header_content-encoding_gzip + http_header_transfer-encoding_chunked',\n",
       "       'http_header_content-encoding_gzip + http_header_server_nginx',\n",
       "       'http_header_content-encoding_gzip + http_header_pragmano-cache',\n",
       "       'http_header_content-encoding_gzip + http_header_expect-ctmax-age',\n",
       "       'http_header_content-encoding_gzip + http_header_content-language_text/html',\n",
       "       'http_header_content-encoding_gzip * http_header_content-language_text/html',\n",
       "       'http_header_content-encoding_gzip',\n",
       "       'http_header_connection_keep-alive / http_header_content-language_text/html',\n",
       "       'http_header_connection_keep-alive + http_header_content-language_text/html',\n",
       "       'http_header_connection_keep-alive + http_header_content-encoding_gzip',\n",
       "       'http_header_connection_keep-alive * http_header_content-language_text/html',\n",
       "       'http_header_connection_keep-alive * http_header_content-encoding_gzip',\n",
       "       'http_header_connection_close + http_header_content-language_text/html',\n",
       "       'http_header_connection_close + http_header_content-encoding_gzip',\n",
       "       'http_header_cache-control_set_public + http_header_vary_accept',\n",
       "       'http_header_cache-control_set_public + http_header_transfer-encoding_chunked',\n",
       "       'http_header_cache-control_set_public + http_header_content-encoding_gzip',\n",
       "       'http_header_cache-control_set_private + http_header_content-encoding_gzip',\n",
       "       'http_header_cache-control_set_no-cache + http_header_content-encoding_gzip',\n",
       "       'http_header_cache-control_set_max-age + http_header_transfer-encoding_chunked',\n",
       "       'http_header_cache-control_set_max-age + http_header_content-language_text/html',\n",
       "       'http_header_cache-control_set_max-age + http_header_content-encoding_gzip'], dtype=object)"
      ]
     },
     "metadata": {},
     "output_type": "display_data"
    }
   ],
   "source": [
    "print('Features we will be using:\\n')\n",
    "display(columns)"
   ]
  },
  {
   "cell_type": "code",
   "execution_count": 103,
   "metadata": {
    "collapsed": true
   },
   "outputs": [],
   "source": [
    "## Table to store training and test measures so we can compare later\n",
    "table_80_60_train=pd.DataFrame(columns=['accuracy','TP','TN','FP','FN','FPR','FNR'])\n",
    "table_80_60_test=pd.DataFrame(columns=['accuracy','TP','TN','FP','FN','FPR','FNR','auc','mcc'])"
   ]
  },
  {
   "cell_type": "code",
   "execution_count": 108,
   "metadata": {
    "scrolled": false
   },
   "outputs": [
    {
     "name": "stdout",
     "output_type": "stream",
     "text": [
      "\u001b[1mK-Nearest Neighbors\u001b[0m\n",
      "Accuracy of the model for training data is: 0.896848762403\n",
      "Confusion Matrix for training data is:\n"
     ]
    },
    {
     "data": {
      "text/plain": [
       "Predicted  False  True  __all__\n",
       "Actual                         \n",
       "False      31508   926    32434\n",
       "True        2858  1392     4250\n",
       "__all__    34366  2318    36684"
      ]
     },
     "metadata": {},
     "output_type": "display_data"
    },
    {
     "name": "stdout",
     "output_type": "stream",
     "text": [
      "Accuracy of the model for test data is: 0.826646314871\n",
      "Confusion Matrix for test data is:\n"
     ]
    },
    {
     "data": {
      "text/plain": [
       "Predicted  False  True  __all__\n",
       "Actual                         \n",
       "False       7222   179     7401\n",
       "True        1411   360     1771\n",
       "__all__     8633   539     9172"
      ]
     },
     "metadata": {},
     "output_type": "display_data"
    },
    {
     "name": "stdout",
     "output_type": "stream",
     "text": [
      "\n",
      "\n",
      "\u001b[1mLogistic Regression\u001b[0m\n",
      "Accuracy of the model for training data is: 0.898893250463\n",
      "Confusion Matrix for training data is:\n"
     ]
    },
    {
     "data": {
      "text/plain": [
       "Predicted  False  True  __all__\n",
       "Actual                         \n",
       "False      32327   107    32434\n",
       "True        3602   648     4250\n",
       "__all__    35929   755    36684"
      ]
     },
     "metadata": {},
     "output_type": "display_data"
    },
    {
     "name": "stdout",
     "output_type": "stream",
     "text": [
      "Accuracy of the model for test data is: 0.816288704754\n",
      "Confusion Matrix for test data is:\n"
     ]
    },
    {
     "data": {
      "text/plain": [
       "Predicted  False  True  __all__\n",
       "Actual                         \n",
       "False       7381    20     7401\n",
       "True        1665   106     1771\n",
       "__all__     9046   126     9172"
      ]
     },
     "metadata": {},
     "output_type": "display_data"
    },
    {
     "name": "stdout",
     "output_type": "stream",
     "text": [
      "\n",
      "\n",
      "\u001b[1mRandomForest Classifier\u001b[0m\n",
      "Accuracy of the model for training data is: 0.90489041544\n",
      "Confusion Matrix for training data is:\n"
     ]
    },
    {
     "data": {
      "text/plain": [
       "Predicted  False  True  __all__\n",
       "Actual                         \n",
       "False      31922   512    32434\n",
       "True        2977  1273     4250\n",
       "__all__    34899  1785    36684"
      ]
     },
     "metadata": {},
     "output_type": "display_data"
    },
    {
     "name": "stdout",
     "output_type": "stream",
     "text": [
      "Accuracy of the model for test data is: 0.827627562146\n",
      "Confusion Matrix for test data is:\n"
     ]
    },
    {
     "data": {
      "text/plain": [
       "Predicted  False  True  __all__\n",
       "Actual                         \n",
       "False       7304    97     7401\n",
       "True        1484   287     1771\n",
       "__all__     8788   384     9172"
      ]
     },
     "metadata": {},
     "output_type": "display_data"
    },
    {
     "data": {
      "application/vnd.plotly.v1+json": {
       "config": {
        "linkText": "Export to plot.ly",
        "plotlyServerURL": "https://plot.ly",
        "showLink": true
       },
       "data": [
        {
         "marker": {
          "color": "rgb(158,202,225)",
          "line": {
           "color": "rgb(8,48,107)",
           "width": 1.5
          }
         },
         "opacity": 0.6,
         "orientation": "h",
         "text": [
          0.1311,
          0.1048,
          0.0643,
          0.0607,
          0.0601,
          0.0571,
          0.0544,
          0.0455,
          0.0455,
          0.0448,
          0.0275,
          0.0266,
          0.0254,
          0.023,
          0.0202,
          0.0191,
          0.0187,
          0.0169,
          0.0162,
          0.016,
          0.0145,
          0.013,
          0.0116,
          0.0106,
          0.01,
          0.0098,
          0.0096,
          0.0095,
          0.0082,
          0.008,
          0.0057,
          0.0049,
          0.0029,
          0.0014,
          0.0006,
          0.0006,
          0.0005,
          0.0004,
          0.0001,
          0.0001,
          0,
          0,
          0
         ],
         "textposition": "outside",
         "type": "bar",
         "uid": "f97073ed-b1ea-4c18-b8b0-2dfba7dc5e66",
         "x": [
          0.13111471989295553,
          0.10475708601222825,
          0.06432680297266805,
          0.060730667655577095,
          0.06005425729960934,
          0.05706429297159223,
          0.054394624225388565,
          0.045548147817520826,
          0.045491485094132006,
          0.04482279184651494,
          0.0275124868446739,
          0.026592204280395455,
          0.025447201949073635,
          0.022967216209724084,
          0.020183686234613273,
          0.01911517950888434,
          0.018728850130488486,
          0.016908491614045874,
          0.01619053345740237,
          0.015969076109059774,
          0.01453253424846268,
          0.013031704509423609,
          0.011608635473619275,
          0.010620729075067179,
          0.010032375292493718,
          0.009777234004921581,
          0.009605028496268764,
          0.009466353457748263,
          0.008167682256736631,
          0.007996095832907429,
          0.005651673063205716,
          0.004898726418274544,
          0.002910529271713967,
          0.001363615661745179,
          0.0006067192267551831,
          0.0005641424684532463,
          0.0005308622368232999,
          0.00042604955051101054,
          0.00013002711951040643,
          0.00010486089116588586,
          2.729446779667515e-05,
          1.95604092221618e-05,
          7.764440625598649e-06
         ],
         "y": [
          "http_header_vary_age / http_header_content-length",
          "http_header_content-encoding_gzip + http_header_vary_accept",
          "http_header_connection_keep-alive + http_header_content-language_text/html",
          "http_header_cache-control_set_private + http_header_content-encoding_gzip",
          "http_header_content-encoding_gzip + http_header_vary_age",
          "http_header_content-encoding_gzip + http_header_x-xss-enabled",
          "http_header_content-encoding_gzip + http_header_via_1.1",
          "http_header_content-encoding_gzip + http_header_content-language_text/html",
          "http_header_content-encoding_gzip + http_header_expect-ctmax-age",
          "http_header_content-encoding_gzip / http_header_content-language_text/html",
          "http_header_connection_close + http_header_content-language_text/html",
          "http_header_content-encoding_gzip + http_header_pragmano-cache",
          "http_header_cache-control_set_max-age + http_header_transfer-encoding_chunked",
          "http_header_content-language_text/html + http_header_server_nginx",
          "http_header_connection_close + http_header_content-encoding_gzip",
          "http_header_content-language_text/html + http_header_transfer-encoding_chunked",
          "http_header_connection_keep-alive * http_header_content-language_text/html",
          "http_header_content-encoding_gzip + http_header_transfer-encoding_chunked",
          "http_header_pragmano-cache + http_header_vary_accept",
          "http_header_cache-control_set_no-cache + http_header_content-encoding_gzip",
          "http_header_server_nginx + http_header_transfer-encoding_chunked",
          "http_header_cache-control_set_public + http_header_transfer-encoding_chunked",
          "http_header_cache-control_set_max-age + http_header_content-language_text/html",
          "http_header_connection_keep-alive + http_header_content-encoding_gzip",
          "http_header_content-language_text/html + http_header_via_1.1",
          "http_header_connection_keep-alive / http_header_content-language_text/html",
          "http_header_cache-control_set_max-age + http_header_content-encoding_gzip",
          "http_header_content-language_text/html + http_header_vary_accept",
          "http_header_server_nginx + http_header_vary_accept",
          "http_header_transfer-encoding_chunked",
          "http_header_content-encoding_gzip + http_header_server_nginx",
          "http_header_content-language_text/html / http_header_connection_keep-alive",
          "http_header_cache-control_set_public + http_header_vary_accept",
          "http_header_cache-control_set_public + http_header_content-encoding_gzip",
          "http_header_content-encoding_gzip / http_header_connection_keep-alive",
          "http_header_transfer-encoding_chunked + http_header_vary_accept",
          "http_header_content-language_text/html + http_header_expect-ctmax-age",
          "http_header_content-language_text/html / http_header_transfer-encoding_chunked",
          "http_header_content-language_text/html / http_header_content-encoding_gzip",
          "http_header_content-language_text/html",
          "http_header_content-encoding_gzip * http_header_content-language_text/html",
          "http_header_connection_keep-alive * http_header_content-encoding_gzip",
          "http_header_content-encoding_gzip"
         ]
        }
       ],
       "layout": {
        "autosize": false,
        "height": 1000,
        "width": 1000,
        "xaxis": {
         "tickfont": {
          "color": "black",
          "size": 12
         },
         "title": "Feature Importances"
        },
        "yaxis": {
         "automargin": true
        }
       }
      },
      "text/html": [
       "<div id=\"9106b3f3-46c4-434e-911e-c13b403784d6\" style=\"height: 1000px; width: 1000px;\" class=\"plotly-graph-div\"></div><script type=\"text/javascript\">require([\"plotly\"], function(Plotly) { window.PLOTLYENV=window.PLOTLYENV || {};window.PLOTLYENV.BASE_URL=\"https://plot.ly\";Plotly.newPlot(\"9106b3f3-46c4-434e-911e-c13b403784d6\", [{\"marker\": {\"color\": \"rgb(158,202,225)\", \"line\": {\"color\": \"rgb(8,48,107)\", \"width\": 1.5}}, \"opacity\": 0.6, \"orientation\": \"h\", \"text\": [0.1311, 0.1048, 0.0643, 0.0607, 0.0601, 0.0571, 0.0544, 0.0455, 0.0455, 0.0448, 0.0275, 0.0266, 0.0254, 0.023, 0.0202, 0.0191, 0.0187, 0.0169, 0.0162, 0.016, 0.0145, 0.013, 0.0116, 0.0106, 0.01, 0.0098, 0.0096, 0.0095, 0.0082, 0.008, 0.0057, 0.0049, 0.0029, 0.0014, 0.0006, 0.0006, 0.0005, 0.0004, 0.0001, 0.0001, 0.0, 0.0, 0.0], \"textposition\": \"outside\", \"x\": [0.13111471989295553, 0.10475708601222825, 0.06432680297266805, 0.060730667655577095, 0.06005425729960934, 0.05706429297159223, 0.054394624225388565, 0.045548147817520826, 0.045491485094132006, 0.04482279184651494, 0.0275124868446739, 0.026592204280395455, 0.025447201949073635, 0.022967216209724084, 0.020183686234613273, 0.01911517950888434, 0.018728850130488486, 0.016908491614045874, 0.01619053345740237, 0.015969076109059774, 0.01453253424846268, 0.013031704509423609, 0.011608635473619275, 0.010620729075067179, 0.010032375292493718, 0.009777234004921581, 0.009605028496268764, 0.009466353457748263, 0.008167682256736631, 0.007996095832907429, 0.005651673063205716, 0.004898726418274544, 0.002910529271713967, 0.001363615661745179, 0.0006067192267551831, 0.0005641424684532463, 0.0005308622368232999, 0.00042604955051101054, 0.00013002711951040643, 0.00010486089116588586, 2.729446779667515e-05, 1.95604092221618e-05, 7.764440625598649e-06], \"y\": [\"http_header_vary_age / http_header_content-length\", \"http_header_content-encoding_gzip + http_header_vary_accept\", \"http_header_connection_keep-alive + http_header_content-language_text/html\", \"http_header_cache-control_set_private + http_header_content-encoding_gzip\", \"http_header_content-encoding_gzip + http_header_vary_age\", \"http_header_content-encoding_gzip + http_header_x-xss-enabled\", \"http_header_content-encoding_gzip + http_header_via_1.1\", \"http_header_content-encoding_gzip + http_header_content-language_text/html\", \"http_header_content-encoding_gzip + http_header_expect-ctmax-age\", \"http_header_content-encoding_gzip / http_header_content-language_text/html\", \"http_header_connection_close + http_header_content-language_text/html\", \"http_header_content-encoding_gzip + http_header_pragmano-cache\", \"http_header_cache-control_set_max-age + http_header_transfer-encoding_chunked\", \"http_header_content-language_text/html + http_header_server_nginx\", \"http_header_connection_close + http_header_content-encoding_gzip\", \"http_header_content-language_text/html + http_header_transfer-encoding_chunked\", \"http_header_connection_keep-alive * http_header_content-language_text/html\", \"http_header_content-encoding_gzip + http_header_transfer-encoding_chunked\", \"http_header_pragmano-cache + http_header_vary_accept\", \"http_header_cache-control_set_no-cache + http_header_content-encoding_gzip\", \"http_header_server_nginx + http_header_transfer-encoding_chunked\", \"http_header_cache-control_set_public + http_header_transfer-encoding_chunked\", \"http_header_cache-control_set_max-age + http_header_content-language_text/html\", \"http_header_connection_keep-alive + http_header_content-encoding_gzip\", \"http_header_content-language_text/html + http_header_via_1.1\", \"http_header_connection_keep-alive / http_header_content-language_text/html\", \"http_header_cache-control_set_max-age + http_header_content-encoding_gzip\", \"http_header_content-language_text/html + http_header_vary_accept\", \"http_header_server_nginx + http_header_vary_accept\", \"http_header_transfer-encoding_chunked\", \"http_header_content-encoding_gzip + http_header_server_nginx\", \"http_header_content-language_text/html / http_header_connection_keep-alive\", \"http_header_cache-control_set_public + http_header_vary_accept\", \"http_header_cache-control_set_public + http_header_content-encoding_gzip\", \"http_header_content-encoding_gzip / http_header_connection_keep-alive\", \"http_header_transfer-encoding_chunked + http_header_vary_accept\", \"http_header_content-language_text/html + http_header_expect-ctmax-age\", \"http_header_content-language_text/html / http_header_transfer-encoding_chunked\", \"http_header_content-language_text/html / http_header_content-encoding_gzip\", \"http_header_content-language_text/html\", \"http_header_content-encoding_gzip * http_header_content-language_text/html\", \"http_header_connection_keep-alive * http_header_content-encoding_gzip\", \"http_header_content-encoding_gzip\"], \"type\": \"bar\", \"uid\": \"f97073ed-b1ea-4c18-b8b0-2dfba7dc5e66\"}], {\"autosize\": false, \"height\": 1000, \"width\": 1000, \"xaxis\": {\"tickfont\": {\"color\": \"black\", \"size\": 12}, \"title\": \"Feature Importances\"}, \"yaxis\": {\"automargin\": true}}, {\"showLink\": true, \"linkText\": \"Export to plot.ly\", \"plotlyServerURL\": \"https://plot.ly\"})});</script>"
      ],
      "text/vnd.plotly.v1+html": [
       "<div id=\"9106b3f3-46c4-434e-911e-c13b403784d6\" style=\"height: 1000px; width: 1000px;\" class=\"plotly-graph-div\"></div><script type=\"text/javascript\">require([\"plotly\"], function(Plotly) { window.PLOTLYENV=window.PLOTLYENV || {};window.PLOTLYENV.BASE_URL=\"https://plot.ly\";Plotly.newPlot(\"9106b3f3-46c4-434e-911e-c13b403784d6\", [{\"marker\": {\"color\": \"rgb(158,202,225)\", \"line\": {\"color\": \"rgb(8,48,107)\", \"width\": 1.5}}, \"opacity\": 0.6, \"orientation\": \"h\", \"text\": [0.1311, 0.1048, 0.0643, 0.0607, 0.0601, 0.0571, 0.0544, 0.0455, 0.0455, 0.0448, 0.0275, 0.0266, 0.0254, 0.023, 0.0202, 0.0191, 0.0187, 0.0169, 0.0162, 0.016, 0.0145, 0.013, 0.0116, 0.0106, 0.01, 0.0098, 0.0096, 0.0095, 0.0082, 0.008, 0.0057, 0.0049, 0.0029, 0.0014, 0.0006, 0.0006, 0.0005, 0.0004, 0.0001, 0.0001, 0.0, 0.0, 0.0], \"textposition\": \"outside\", \"x\": [0.13111471989295553, 0.10475708601222825, 0.06432680297266805, 0.060730667655577095, 0.06005425729960934, 0.05706429297159223, 0.054394624225388565, 0.045548147817520826, 0.045491485094132006, 0.04482279184651494, 0.0275124868446739, 0.026592204280395455, 0.025447201949073635, 0.022967216209724084, 0.020183686234613273, 0.01911517950888434, 0.018728850130488486, 0.016908491614045874, 0.01619053345740237, 0.015969076109059774, 0.01453253424846268, 0.013031704509423609, 0.011608635473619275, 0.010620729075067179, 0.010032375292493718, 0.009777234004921581, 0.009605028496268764, 0.009466353457748263, 0.008167682256736631, 0.007996095832907429, 0.005651673063205716, 0.004898726418274544, 0.002910529271713967, 0.001363615661745179, 0.0006067192267551831, 0.0005641424684532463, 0.0005308622368232999, 0.00042604955051101054, 0.00013002711951040643, 0.00010486089116588586, 2.729446779667515e-05, 1.95604092221618e-05, 7.764440625598649e-06], \"y\": [\"http_header_vary_age / http_header_content-length\", \"http_header_content-encoding_gzip + http_header_vary_accept\", \"http_header_connection_keep-alive + http_header_content-language_text/html\", \"http_header_cache-control_set_private + http_header_content-encoding_gzip\", \"http_header_content-encoding_gzip + http_header_vary_age\", \"http_header_content-encoding_gzip + http_header_x-xss-enabled\", \"http_header_content-encoding_gzip + http_header_via_1.1\", \"http_header_content-encoding_gzip + http_header_content-language_text/html\", \"http_header_content-encoding_gzip + http_header_expect-ctmax-age\", \"http_header_content-encoding_gzip / http_header_content-language_text/html\", \"http_header_connection_close + http_header_content-language_text/html\", \"http_header_content-encoding_gzip + http_header_pragmano-cache\", \"http_header_cache-control_set_max-age + http_header_transfer-encoding_chunked\", \"http_header_content-language_text/html + http_header_server_nginx\", \"http_header_connection_close + http_header_content-encoding_gzip\", \"http_header_content-language_text/html + http_header_transfer-encoding_chunked\", \"http_header_connection_keep-alive * http_header_content-language_text/html\", \"http_header_content-encoding_gzip + http_header_transfer-encoding_chunked\", \"http_header_pragmano-cache + http_header_vary_accept\", \"http_header_cache-control_set_no-cache + http_header_content-encoding_gzip\", \"http_header_server_nginx + http_header_transfer-encoding_chunked\", \"http_header_cache-control_set_public + http_header_transfer-encoding_chunked\", \"http_header_cache-control_set_max-age + http_header_content-language_text/html\", \"http_header_connection_keep-alive + http_header_content-encoding_gzip\", \"http_header_content-language_text/html + http_header_via_1.1\", \"http_header_connection_keep-alive / http_header_content-language_text/html\", \"http_header_cache-control_set_max-age + http_header_content-encoding_gzip\", \"http_header_content-language_text/html + http_header_vary_accept\", \"http_header_server_nginx + http_header_vary_accept\", \"http_header_transfer-encoding_chunked\", \"http_header_content-encoding_gzip + http_header_server_nginx\", \"http_header_content-language_text/html / http_header_connection_keep-alive\", \"http_header_cache-control_set_public + http_header_vary_accept\", \"http_header_cache-control_set_public + http_header_content-encoding_gzip\", \"http_header_content-encoding_gzip / http_header_connection_keep-alive\", \"http_header_transfer-encoding_chunked + http_header_vary_accept\", \"http_header_content-language_text/html + http_header_expect-ctmax-age\", \"http_header_content-language_text/html / http_header_transfer-encoding_chunked\", \"http_header_content-language_text/html / http_header_content-encoding_gzip\", \"http_header_content-language_text/html\", \"http_header_content-encoding_gzip * http_header_content-language_text/html\", \"http_header_connection_keep-alive * http_header_content-encoding_gzip\", \"http_header_content-encoding_gzip\"], \"type\": \"bar\", \"uid\": \"f97073ed-b1ea-4c18-b8b0-2dfba7dc5e66\"}], {\"autosize\": false, \"height\": 1000, \"width\": 1000, \"xaxis\": {\"tickfont\": {\"color\": \"black\", \"size\": 12}, \"title\": \"Feature Importances\"}, \"yaxis\": {\"automargin\": true}}, {\"showLink\": true, \"linkText\": \"Export to plot.ly\", \"plotlyServerURL\": \"https://plot.ly\"})});</script>"
      ]
     },
     "metadata": {},
     "output_type": "display_data"
    },
    {
     "name": "stdout",
     "output_type": "stream",
     "text": [
      "\n",
      "\n",
      "\u001b[1mAdaoost Classifier\u001b[0m\n",
      "Accuracy of the model for training data is: 0.889488605387\n",
      "Confusion Matrix for training data is:\n"
     ]
    },
    {
     "data": {
      "text/plain": [
       "Predicted  False  True  __all__\n",
       "Actual                         \n",
       "False      32368    66    32434\n",
       "True        3988   262     4250\n",
       "__all__    36356   328    36684"
      ]
     },
     "metadata": {},
     "output_type": "display_data"
    },
    {
     "name": "stdout",
     "output_type": "stream",
     "text": [
      "Accuracy of the model for test data is: 0.810619276058\n",
      "Confusion Matrix for test data is:\n"
     ]
    },
    {
     "data": {
      "text/plain": [
       "Predicted  False  True  __all__\n",
       "Actual                         \n",
       "False       7391    10     7401\n",
       "True        1727    44     1771\n",
       "__all__     9118    54     9172"
      ]
     },
     "metadata": {},
     "output_type": "display_data"
    },
    {
     "data": {
      "application/vnd.plotly.v1+json": {
       "config": {
        "linkText": "Export to plot.ly",
        "plotlyServerURL": "https://plot.ly",
        "showLink": true
       },
       "data": [
        {
         "marker": {
          "color": "rgb(158,202,225)",
          "line": {
           "color": "rgb(8,48,107)",
           "width": 1.5
          }
         },
         "opacity": 0.6,
         "orientation": "h",
         "text": [
          0.16,
          0.1,
          0.08,
          0.06,
          0.06,
          0.06,
          0.04,
          0.04,
          0.04,
          0.04,
          0.04,
          0.04,
          0.02,
          0.02,
          0.02,
          0.02,
          0.02,
          0.02,
          0.02,
          0.02,
          0.02,
          0.02,
          0.02,
          0.02,
          0,
          0,
          0,
          0,
          0,
          0,
          0,
          0,
          0,
          0,
          0,
          0,
          0,
          0,
          0,
          0,
          0,
          0,
          0
         ],
         "textposition": "outside",
         "type": "bar",
         "uid": "dbf21219-ae6b-4fcf-9ed3-2a74c6e792db",
         "x": [
          0.16,
          0.1,
          0.08,
          0.06,
          0.06,
          0.06,
          0.04,
          0.04,
          0.04,
          0.04,
          0.04,
          0.04,
          0.02,
          0.02,
          0.02,
          0.02,
          0.02,
          0.02,
          0.02,
          0.02,
          0.02,
          0.02,
          0.02,
          0.02,
          0,
          0,
          0,
          0,
          0,
          0,
          0,
          0,
          0,
          0,
          0,
          0,
          0,
          0,
          0,
          0,
          0,
          0,
          0
         ],
         "y": [
          "http_header_vary_age / http_header_content-length",
          "http_header_connection_keep-alive + http_header_content-language_text/html",
          "http_header_content-encoding_gzip + http_header_transfer-encoding_chunked",
          "http_header_server_nginx + http_header_transfer-encoding_chunked",
          "http_header_connection_keep-alive + http_header_content-encoding_gzip",
          "http_header_content-encoding_gzip + http_header_pragmano-cache",
          "http_header_cache-control_set_max-age + http_header_content-language_text/html",
          "http_header_cache-control_set_max-age + http_header_transfer-encoding_chunked",
          "http_header_cache-control_set_private + http_header_content-encoding_gzip",
          "http_header_content-language_text/html + http_header_via_1.1",
          "http_header_content-language_text/html + http_header_server_nginx",
          "http_header_server_nginx + http_header_vary_accept",
          "http_header_content-encoding_gzip + http_header_via_1.1",
          "http_header_content-encoding_gzip + http_header_server_nginx",
          "http_header_transfer-encoding_chunked + http_header_vary_accept",
          "http_header_connection_close + http_header_content-language_text/html",
          "http_header_content-encoding_gzip + http_header_vary_age",
          "http_header_cache-control_set_public + http_header_vary_accept",
          "http_header_content-encoding_gzip + http_header_x-xss-enabled",
          "http_header_connection_close + http_header_content-encoding_gzip",
          "http_header_connection_keep-alive / http_header_content-language_text/html",
          "http_header_content-language_text/html + http_header_expect-ctmax-age",
          "http_header_pragmano-cache + http_header_vary_accept",
          "http_header_cache-control_set_public + http_header_transfer-encoding_chunked",
          "http_header_cache-control_set_public + http_header_content-encoding_gzip",
          "http_header_cache-control_set_no-cache + http_header_content-encoding_gzip",
          "http_header_connection_keep-alive * http_header_content-encoding_gzip",
          "http_header_connection_keep-alive * http_header_content-language_text/html",
          "http_header_content-language_text/html + http_header_transfer-encoding_chunked",
          "http_header_content-encoding_gzip",
          "http_header_content-encoding_gzip * http_header_content-language_text/html",
          "http_header_content-encoding_gzip + http_header_content-language_text/html",
          "http_header_content-encoding_gzip + http_header_expect-ctmax-age",
          "http_header_content-encoding_gzip + http_header_vary_accept",
          "http_header_content-encoding_gzip / http_header_connection_keep-alive",
          "http_header_content-encoding_gzip / http_header_content-language_text/html",
          "http_header_content-language_text/html",
          "http_header_content-language_text/html + http_header_vary_accept",
          "http_header_content-language_text/html / http_header_connection_keep-alive",
          "http_header_content-language_text/html / http_header_content-encoding_gzip",
          "http_header_content-language_text/html / http_header_transfer-encoding_chunked",
          "http_header_transfer-encoding_chunked",
          "http_header_cache-control_set_max-age + http_header_content-encoding_gzip"
         ]
        }
       ],
       "layout": {
        "autosize": false,
        "height": 1000,
        "width": 1000,
        "xaxis": {
         "tickfont": {
          "color": "black",
          "size": 12
         },
         "title": "Feature Importances"
        },
        "yaxis": {
         "automargin": true
        }
       }
      },
      "text/html": [
       "<div id=\"e3000337-3f71-4511-9f68-3850fb2151db\" style=\"height: 1000px; width: 1000px;\" class=\"plotly-graph-div\"></div><script type=\"text/javascript\">require([\"plotly\"], function(Plotly) { window.PLOTLYENV=window.PLOTLYENV || {};window.PLOTLYENV.BASE_URL=\"https://plot.ly\";Plotly.newPlot(\"e3000337-3f71-4511-9f68-3850fb2151db\", [{\"marker\": {\"color\": \"rgb(158,202,225)\", \"line\": {\"color\": \"rgb(8,48,107)\", \"width\": 1.5}}, \"opacity\": 0.6, \"orientation\": \"h\", \"text\": [0.16, 0.1, 0.08, 0.06, 0.06, 0.06, 0.04, 0.04, 0.04, 0.04, 0.04, 0.04, 0.02, 0.02, 0.02, 0.02, 0.02, 0.02, 0.02, 0.02, 0.02, 0.02, 0.02, 0.02, 0.0, 0.0, 0.0, 0.0, 0.0, 0.0, 0.0, 0.0, 0.0, 0.0, 0.0, 0.0, 0.0, 0.0, 0.0, 0.0, 0.0, 0.0, 0.0], \"textposition\": \"outside\", \"x\": [0.16, 0.1, 0.08, 0.06, 0.06, 0.06, 0.04, 0.04, 0.04, 0.04, 0.04, 0.04, 0.02, 0.02, 0.02, 0.02, 0.02, 0.02, 0.02, 0.02, 0.02, 0.02, 0.02, 0.02, 0.0, 0.0, 0.0, 0.0, 0.0, 0.0, 0.0, 0.0, 0.0, 0.0, 0.0, 0.0, 0.0, 0.0, 0.0, 0.0, 0.0, 0.0, 0.0], \"y\": [\"http_header_vary_age / http_header_content-length\", \"http_header_connection_keep-alive + http_header_content-language_text/html\", \"http_header_content-encoding_gzip + http_header_transfer-encoding_chunked\", \"http_header_server_nginx + http_header_transfer-encoding_chunked\", \"http_header_connection_keep-alive + http_header_content-encoding_gzip\", \"http_header_content-encoding_gzip + http_header_pragmano-cache\", \"http_header_cache-control_set_max-age + http_header_content-language_text/html\", \"http_header_cache-control_set_max-age + http_header_transfer-encoding_chunked\", \"http_header_cache-control_set_private + http_header_content-encoding_gzip\", \"http_header_content-language_text/html + http_header_via_1.1\", \"http_header_content-language_text/html + http_header_server_nginx\", \"http_header_server_nginx + http_header_vary_accept\", \"http_header_content-encoding_gzip + http_header_via_1.1\", \"http_header_content-encoding_gzip + http_header_server_nginx\", \"http_header_transfer-encoding_chunked + http_header_vary_accept\", \"http_header_connection_close + http_header_content-language_text/html\", \"http_header_content-encoding_gzip + http_header_vary_age\", \"http_header_cache-control_set_public + http_header_vary_accept\", \"http_header_content-encoding_gzip + http_header_x-xss-enabled\", \"http_header_connection_close + http_header_content-encoding_gzip\", \"http_header_connection_keep-alive / http_header_content-language_text/html\", \"http_header_content-language_text/html + http_header_expect-ctmax-age\", \"http_header_pragmano-cache + http_header_vary_accept\", \"http_header_cache-control_set_public + http_header_transfer-encoding_chunked\", \"http_header_cache-control_set_public + http_header_content-encoding_gzip\", \"http_header_cache-control_set_no-cache + http_header_content-encoding_gzip\", \"http_header_connection_keep-alive * http_header_content-encoding_gzip\", \"http_header_connection_keep-alive * http_header_content-language_text/html\", \"http_header_content-language_text/html + http_header_transfer-encoding_chunked\", \"http_header_content-encoding_gzip\", \"http_header_content-encoding_gzip * http_header_content-language_text/html\", \"http_header_content-encoding_gzip + http_header_content-language_text/html\", \"http_header_content-encoding_gzip + http_header_expect-ctmax-age\", \"http_header_content-encoding_gzip + http_header_vary_accept\", \"http_header_content-encoding_gzip / http_header_connection_keep-alive\", \"http_header_content-encoding_gzip / http_header_content-language_text/html\", \"http_header_content-language_text/html\", \"http_header_content-language_text/html + http_header_vary_accept\", \"http_header_content-language_text/html / http_header_connection_keep-alive\", \"http_header_content-language_text/html / http_header_content-encoding_gzip\", \"http_header_content-language_text/html / http_header_transfer-encoding_chunked\", \"http_header_transfer-encoding_chunked\", \"http_header_cache-control_set_max-age + http_header_content-encoding_gzip\"], \"type\": \"bar\", \"uid\": \"dbf21219-ae6b-4fcf-9ed3-2a74c6e792db\"}], {\"autosize\": false, \"height\": 1000, \"width\": 1000, \"xaxis\": {\"tickfont\": {\"color\": \"black\", \"size\": 12}, \"title\": \"Feature Importances\"}, \"yaxis\": {\"automargin\": true}}, {\"showLink\": true, \"linkText\": \"Export to plot.ly\", \"plotlyServerURL\": \"https://plot.ly\"})});</script>"
      ],
      "text/vnd.plotly.v1+html": [
       "<div id=\"e3000337-3f71-4511-9f68-3850fb2151db\" style=\"height: 1000px; width: 1000px;\" class=\"plotly-graph-div\"></div><script type=\"text/javascript\">require([\"plotly\"], function(Plotly) { window.PLOTLYENV=window.PLOTLYENV || {};window.PLOTLYENV.BASE_URL=\"https://plot.ly\";Plotly.newPlot(\"e3000337-3f71-4511-9f68-3850fb2151db\", [{\"marker\": {\"color\": \"rgb(158,202,225)\", \"line\": {\"color\": \"rgb(8,48,107)\", \"width\": 1.5}}, \"opacity\": 0.6, \"orientation\": \"h\", \"text\": [0.16, 0.1, 0.08, 0.06, 0.06, 0.06, 0.04, 0.04, 0.04, 0.04, 0.04, 0.04, 0.02, 0.02, 0.02, 0.02, 0.02, 0.02, 0.02, 0.02, 0.02, 0.02, 0.02, 0.02, 0.0, 0.0, 0.0, 0.0, 0.0, 0.0, 0.0, 0.0, 0.0, 0.0, 0.0, 0.0, 0.0, 0.0, 0.0, 0.0, 0.0, 0.0, 0.0], \"textposition\": \"outside\", \"x\": [0.16, 0.1, 0.08, 0.06, 0.06, 0.06, 0.04, 0.04, 0.04, 0.04, 0.04, 0.04, 0.02, 0.02, 0.02, 0.02, 0.02, 0.02, 0.02, 0.02, 0.02, 0.02, 0.02, 0.02, 0.0, 0.0, 0.0, 0.0, 0.0, 0.0, 0.0, 0.0, 0.0, 0.0, 0.0, 0.0, 0.0, 0.0, 0.0, 0.0, 0.0, 0.0, 0.0], \"y\": [\"http_header_vary_age / http_header_content-length\", \"http_header_connection_keep-alive + http_header_content-language_text/html\", \"http_header_content-encoding_gzip + http_header_transfer-encoding_chunked\", \"http_header_server_nginx + http_header_transfer-encoding_chunked\", \"http_header_connection_keep-alive + http_header_content-encoding_gzip\", \"http_header_content-encoding_gzip + http_header_pragmano-cache\", \"http_header_cache-control_set_max-age + http_header_content-language_text/html\", \"http_header_cache-control_set_max-age + http_header_transfer-encoding_chunked\", \"http_header_cache-control_set_private + http_header_content-encoding_gzip\", \"http_header_content-language_text/html + http_header_via_1.1\", \"http_header_content-language_text/html + http_header_server_nginx\", \"http_header_server_nginx + http_header_vary_accept\", \"http_header_content-encoding_gzip + http_header_via_1.1\", \"http_header_content-encoding_gzip + http_header_server_nginx\", \"http_header_transfer-encoding_chunked + http_header_vary_accept\", \"http_header_connection_close + http_header_content-language_text/html\", \"http_header_content-encoding_gzip + http_header_vary_age\", \"http_header_cache-control_set_public + http_header_vary_accept\", \"http_header_content-encoding_gzip + http_header_x-xss-enabled\", \"http_header_connection_close + http_header_content-encoding_gzip\", \"http_header_connection_keep-alive / http_header_content-language_text/html\", \"http_header_content-language_text/html + http_header_expect-ctmax-age\", \"http_header_pragmano-cache + http_header_vary_accept\", \"http_header_cache-control_set_public + http_header_transfer-encoding_chunked\", \"http_header_cache-control_set_public + http_header_content-encoding_gzip\", \"http_header_cache-control_set_no-cache + http_header_content-encoding_gzip\", \"http_header_connection_keep-alive * http_header_content-encoding_gzip\", \"http_header_connection_keep-alive * http_header_content-language_text/html\", \"http_header_content-language_text/html + http_header_transfer-encoding_chunked\", \"http_header_content-encoding_gzip\", \"http_header_content-encoding_gzip * http_header_content-language_text/html\", \"http_header_content-encoding_gzip + http_header_content-language_text/html\", \"http_header_content-encoding_gzip + http_header_expect-ctmax-age\", \"http_header_content-encoding_gzip + http_header_vary_accept\", \"http_header_content-encoding_gzip / http_header_connection_keep-alive\", \"http_header_content-encoding_gzip / http_header_content-language_text/html\", \"http_header_content-language_text/html\", \"http_header_content-language_text/html + http_header_vary_accept\", \"http_header_content-language_text/html / http_header_connection_keep-alive\", \"http_header_content-language_text/html / http_header_content-encoding_gzip\", \"http_header_content-language_text/html / http_header_transfer-encoding_chunked\", \"http_header_transfer-encoding_chunked\", \"http_header_cache-control_set_max-age + http_header_content-encoding_gzip\"], \"type\": \"bar\", \"uid\": \"dbf21219-ae6b-4fcf-9ed3-2a74c6e792db\"}], {\"autosize\": false, \"height\": 1000, \"width\": 1000, \"xaxis\": {\"tickfont\": {\"color\": \"black\", \"size\": 12}, \"title\": \"Feature Importances\"}, \"yaxis\": {\"automargin\": true}}, {\"showLink\": true, \"linkText\": \"Export to plot.ly\", \"plotlyServerURL\": \"https://plot.ly\"})});</script>"
      ]
     },
     "metadata": {},
     "output_type": "display_data"
    },
    {
     "name": "stdout",
     "output_type": "stream",
     "text": [
      "\n",
      "\n",
      "\u001b[1mGradientBoosting Classifier\u001b[0m\n",
      "Accuracy of the model for training data is: 0.903064006106\n",
      "Confusion Matrix for training data is:\n"
     ]
    },
    {
     "data": {
      "text/plain": [
       "Predicted  False  True  __all__\n",
       "Actual                         \n",
       "False      31887   547    32434\n",
       "True        3009  1241     4250\n",
       "__all__    34896  1788    36684"
      ]
     },
     "metadata": {},
     "output_type": "display_data"
    },
    {
     "name": "stdout",
     "output_type": "stream",
     "text": [
      "Accuracy of the model for test data is: 0.825665067597\n",
      "Confusion Matrix for test data is:\n"
     ]
    },
    {
     "data": {
      "text/plain": [
       "Predicted  False  True  __all__\n",
       "Actual                         \n",
       "False       7295   106     7401\n",
       "True        1493   278     1771\n",
       "__all__     8788   384     9172"
      ]
     },
     "metadata": {},
     "output_type": "display_data"
    },
    {
     "data": {
      "application/vnd.plotly.v1+json": {
       "config": {
        "linkText": "Export to plot.ly",
        "plotlyServerURL": "https://plot.ly",
        "showLink": true
       },
       "data": [
        {
         "marker": {
          "color": "rgb(158,202,225)",
          "line": {
           "color": "rgb(8,48,107)",
           "width": 1.5
          }
         },
         "opacity": 0.6,
         "orientation": "h",
         "text": [
          0.4175,
          0.1545,
          0.1104,
          0.0544,
          0.0404,
          0.0348,
          0.0309,
          0.0299,
          0.0262,
          0.0193,
          0.0177,
          0.0174,
          0.0145,
          0.0056,
          0.0052,
          0.004,
          0.0038,
          0.0028,
          0.0021,
          0.0019,
          0.0013,
          0.001,
          0.001,
          0.0008,
          0.0005,
          0.0004,
          0.0003,
          0.0003,
          0.0003,
          0.0003,
          0.0002,
          0.0001,
          0.0001,
          0,
          0,
          0,
          0,
          0,
          0,
          0,
          0,
          0,
          0
         ],
         "textposition": "outside",
         "type": "bar",
         "uid": "7eec9948-3624-449e-9e8a-611dc4ce5861",
         "x": [
          0.41751104296176017,
          0.15449006032174048,
          0.11039733697284199,
          0.05441257850596427,
          0.04043918145423621,
          0.03482085910062594,
          0.03088161383949183,
          0.029920524715065934,
          0.026192977304138443,
          0.019315620984215024,
          0.017725979155212266,
          0.017445322022022855,
          0.014480731818800482,
          0.005554400617705121,
          0.005184550689496673,
          0.003970215162258257,
          0.0038022256049817893,
          0.002841364294946437,
          0.0021256724879050817,
          0.0018921046922272624,
          0.001285901353839275,
          0.001028243688376983,
          0.0010105908637112087,
          0.0007503391809591355,
          0.00047442531999838147,
          0.0003751948776500742,
          0.00034360742859458073,
          0.00033397361589418916,
          0.0003088259909752258,
          0.0002531924942184933,
          0.00020309060428314287,
          0.00011800049369098827,
          6.658078326556718e-05,
          1.9665586507303176e-05,
          1.556630360984197e-05,
          3.7248404244498126e-06,
          2.616062278791688e-06,
          2.097806086028913e-06,
          0,
          0,
          0,
          0,
          0
         ],
         "y": [
          "http_header_content-encoding_gzip + http_header_transfer-encoding_chunked",
          "http_header_vary_age / http_header_content-length",
          "http_header_cache-control_set_private + http_header_content-encoding_gzip",
          "http_header_cache-control_set_max-age + http_header_content-encoding_gzip",
          "http_header_content-encoding_gzip + http_header_pragmano-cache",
          "http_header_connection_keep-alive + http_header_content-language_text/html",
          "http_header_content-encoding_gzip + http_header_via_1.1",
          "http_header_server_nginx + http_header_transfer-encoding_chunked",
          "http_header_server_nginx + http_header_vary_accept",
          "http_header_cache-control_set_max-age + http_header_content-language_text/html",
          "http_header_connection_close + http_header_content-language_text/html",
          "http_header_connection_close + http_header_content-encoding_gzip",
          "http_header_cache-control_set_max-age + http_header_transfer-encoding_chunked",
          "http_header_content-encoding_gzip + http_header_x-xss-enabled",
          "http_header_connection_keep-alive * http_header_content-language_text/html",
          "http_header_connection_keep-alive + http_header_content-encoding_gzip",
          "http_header_cache-control_set_no-cache + http_header_content-encoding_gzip",
          "http_header_content-encoding_gzip + http_header_server_nginx",
          "http_header_content-language_text/html + http_header_via_1.1",
          "http_header_content-language_text/html + http_header_server_nginx",
          "http_header_pragmano-cache + http_header_vary_accept",
          "http_header_cache-control_set_public + http_header_vary_accept",
          "http_header_content-language_text/html / http_header_connection_keep-alive",
          "http_header_content-encoding_gzip + http_header_content-language_text/html",
          "http_header_connection_keep-alive / http_header_content-language_text/html",
          "http_header_transfer-encoding_chunked + http_header_vary_accept",
          "http_header_content-language_text/html + http_header_transfer-encoding_chunked",
          "http_header_content-encoding_gzip + http_header_vary_accept",
          "http_header_content-language_text/html + http_header_vary_accept",
          "http_header_content-language_text/html + http_header_expect-ctmax-age",
          "http_header_cache-control_set_public + http_header_content-encoding_gzip",
          "http_header_content-encoding_gzip + http_header_expect-ctmax-age",
          "http_header_cache-control_set_public + http_header_transfer-encoding_chunked",
          "http_header_content-encoding_gzip + http_header_vary_age",
          "http_header_content-encoding_gzip / http_header_connection_keep-alive",
          "http_header_content-language_text/html / http_header_content-encoding_gzip",
          "http_header_content-encoding_gzip",
          "http_header_content-encoding_gzip / http_header_content-language_text/html",
          "http_header_content-language_text/html / http_header_transfer-encoding_chunked",
          "http_header_transfer-encoding_chunked",
          "http_header_connection_keep-alive * http_header_content-encoding_gzip",
          "http_header_content-language_text/html",
          "http_header_content-encoding_gzip * http_header_content-language_text/html"
         ]
        }
       ],
       "layout": {
        "autosize": false,
        "height": 1000,
        "width": 1000,
        "xaxis": {
         "tickfont": {
          "color": "black",
          "size": 12
         },
         "title": "Feature Importances"
        },
        "yaxis": {
         "automargin": true
        }
       }
      },
      "text/html": [
       "<div id=\"0d747a8e-e4fd-4a62-b7c4-6d3aaa768426\" style=\"height: 1000px; width: 1000px;\" class=\"plotly-graph-div\"></div><script type=\"text/javascript\">require([\"plotly\"], function(Plotly) { window.PLOTLYENV=window.PLOTLYENV || {};window.PLOTLYENV.BASE_URL=\"https://plot.ly\";Plotly.newPlot(\"0d747a8e-e4fd-4a62-b7c4-6d3aaa768426\", [{\"marker\": {\"color\": \"rgb(158,202,225)\", \"line\": {\"color\": \"rgb(8,48,107)\", \"width\": 1.5}}, \"opacity\": 0.6, \"orientation\": \"h\", \"text\": [0.4175, 0.1545, 0.1104, 0.0544, 0.0404, 0.0348, 0.0309, 0.0299, 0.0262, 0.0193, 0.0177, 0.0174, 0.0145, 0.0056, 0.0052, 0.004, 0.0038, 0.0028, 0.0021, 0.0019, 0.0013, 0.001, 0.001, 0.0008, 0.0005, 0.0004, 0.0003, 0.0003, 0.0003, 0.0003, 0.0002, 0.0001, 0.0001, 0.0, 0.0, 0.0, 0.0, 0.0, 0.0, 0.0, 0.0, 0.0, 0.0], \"textposition\": \"outside\", \"x\": [0.41751104296176017, 0.15449006032174048, 0.11039733697284199, 0.05441257850596427, 0.04043918145423621, 0.03482085910062594, 0.03088161383949183, 0.029920524715065934, 0.026192977304138443, 0.019315620984215024, 0.017725979155212266, 0.017445322022022855, 0.014480731818800482, 0.005554400617705121, 0.005184550689496673, 0.003970215162258257, 0.0038022256049817893, 0.002841364294946437, 0.0021256724879050817, 0.0018921046922272624, 0.001285901353839275, 0.001028243688376983, 0.0010105908637112087, 0.0007503391809591355, 0.00047442531999838147, 0.0003751948776500742, 0.00034360742859458073, 0.00033397361589418916, 0.0003088259909752258, 0.0002531924942184933, 0.00020309060428314287, 0.00011800049369098827, 6.658078326556718e-05, 1.9665586507303176e-05, 1.556630360984197e-05, 3.7248404244498126e-06, 2.616062278791688e-06, 2.097806086028913e-06, 0.0, 0.0, 0.0, 0.0, 0.0], \"y\": [\"http_header_content-encoding_gzip + http_header_transfer-encoding_chunked\", \"http_header_vary_age / http_header_content-length\", \"http_header_cache-control_set_private + http_header_content-encoding_gzip\", \"http_header_cache-control_set_max-age + http_header_content-encoding_gzip\", \"http_header_content-encoding_gzip + http_header_pragmano-cache\", \"http_header_connection_keep-alive + http_header_content-language_text/html\", \"http_header_content-encoding_gzip + http_header_via_1.1\", \"http_header_server_nginx + http_header_transfer-encoding_chunked\", \"http_header_server_nginx + http_header_vary_accept\", \"http_header_cache-control_set_max-age + http_header_content-language_text/html\", \"http_header_connection_close + http_header_content-language_text/html\", \"http_header_connection_close + http_header_content-encoding_gzip\", \"http_header_cache-control_set_max-age + http_header_transfer-encoding_chunked\", \"http_header_content-encoding_gzip + http_header_x-xss-enabled\", \"http_header_connection_keep-alive * http_header_content-language_text/html\", \"http_header_connection_keep-alive + http_header_content-encoding_gzip\", \"http_header_cache-control_set_no-cache + http_header_content-encoding_gzip\", \"http_header_content-encoding_gzip + http_header_server_nginx\", \"http_header_content-language_text/html + http_header_via_1.1\", \"http_header_content-language_text/html + http_header_server_nginx\", \"http_header_pragmano-cache + http_header_vary_accept\", \"http_header_cache-control_set_public + http_header_vary_accept\", \"http_header_content-language_text/html / http_header_connection_keep-alive\", \"http_header_content-encoding_gzip + http_header_content-language_text/html\", \"http_header_connection_keep-alive / http_header_content-language_text/html\", \"http_header_transfer-encoding_chunked + http_header_vary_accept\", \"http_header_content-language_text/html + http_header_transfer-encoding_chunked\", \"http_header_content-encoding_gzip + http_header_vary_accept\", \"http_header_content-language_text/html + http_header_vary_accept\", \"http_header_content-language_text/html + http_header_expect-ctmax-age\", \"http_header_cache-control_set_public + http_header_content-encoding_gzip\", \"http_header_content-encoding_gzip + http_header_expect-ctmax-age\", \"http_header_cache-control_set_public + http_header_transfer-encoding_chunked\", \"http_header_content-encoding_gzip + http_header_vary_age\", \"http_header_content-encoding_gzip / http_header_connection_keep-alive\", \"http_header_content-language_text/html / http_header_content-encoding_gzip\", \"http_header_content-encoding_gzip\", \"http_header_content-encoding_gzip / http_header_content-language_text/html\", \"http_header_content-language_text/html / http_header_transfer-encoding_chunked\", \"http_header_transfer-encoding_chunked\", \"http_header_connection_keep-alive * http_header_content-encoding_gzip\", \"http_header_content-language_text/html\", \"http_header_content-encoding_gzip * http_header_content-language_text/html\"], \"type\": \"bar\", \"uid\": \"7eec9948-3624-449e-9e8a-611dc4ce5861\"}], {\"autosize\": false, \"height\": 1000, \"width\": 1000, \"xaxis\": {\"tickfont\": {\"color\": \"black\", \"size\": 12}, \"title\": \"Feature Importances\"}, \"yaxis\": {\"automargin\": true}}, {\"showLink\": true, \"linkText\": \"Export to plot.ly\", \"plotlyServerURL\": \"https://plot.ly\"})});</script>"
      ],
      "text/vnd.plotly.v1+html": [
       "<div id=\"0d747a8e-e4fd-4a62-b7c4-6d3aaa768426\" style=\"height: 1000px; width: 1000px;\" class=\"plotly-graph-div\"></div><script type=\"text/javascript\">require([\"plotly\"], function(Plotly) { window.PLOTLYENV=window.PLOTLYENV || {};window.PLOTLYENV.BASE_URL=\"https://plot.ly\";Plotly.newPlot(\"0d747a8e-e4fd-4a62-b7c4-6d3aaa768426\", [{\"marker\": {\"color\": \"rgb(158,202,225)\", \"line\": {\"color\": \"rgb(8,48,107)\", \"width\": 1.5}}, \"opacity\": 0.6, \"orientation\": \"h\", \"text\": [0.4175, 0.1545, 0.1104, 0.0544, 0.0404, 0.0348, 0.0309, 0.0299, 0.0262, 0.0193, 0.0177, 0.0174, 0.0145, 0.0056, 0.0052, 0.004, 0.0038, 0.0028, 0.0021, 0.0019, 0.0013, 0.001, 0.001, 0.0008, 0.0005, 0.0004, 0.0003, 0.0003, 0.0003, 0.0003, 0.0002, 0.0001, 0.0001, 0.0, 0.0, 0.0, 0.0, 0.0, 0.0, 0.0, 0.0, 0.0, 0.0], \"textposition\": \"outside\", \"x\": [0.41751104296176017, 0.15449006032174048, 0.11039733697284199, 0.05441257850596427, 0.04043918145423621, 0.03482085910062594, 0.03088161383949183, 0.029920524715065934, 0.026192977304138443, 0.019315620984215024, 0.017725979155212266, 0.017445322022022855, 0.014480731818800482, 0.005554400617705121, 0.005184550689496673, 0.003970215162258257, 0.0038022256049817893, 0.002841364294946437, 0.0021256724879050817, 0.0018921046922272624, 0.001285901353839275, 0.001028243688376983, 0.0010105908637112087, 0.0007503391809591355, 0.00047442531999838147, 0.0003751948776500742, 0.00034360742859458073, 0.00033397361589418916, 0.0003088259909752258, 0.0002531924942184933, 0.00020309060428314287, 0.00011800049369098827, 6.658078326556718e-05, 1.9665586507303176e-05, 1.556630360984197e-05, 3.7248404244498126e-06, 2.616062278791688e-06, 2.097806086028913e-06, 0.0, 0.0, 0.0, 0.0, 0.0], \"y\": [\"http_header_content-encoding_gzip + http_header_transfer-encoding_chunked\", \"http_header_vary_age / http_header_content-length\", \"http_header_cache-control_set_private + http_header_content-encoding_gzip\", \"http_header_cache-control_set_max-age + http_header_content-encoding_gzip\", \"http_header_content-encoding_gzip + http_header_pragmano-cache\", \"http_header_connection_keep-alive + http_header_content-language_text/html\", \"http_header_content-encoding_gzip + http_header_via_1.1\", \"http_header_server_nginx + http_header_transfer-encoding_chunked\", \"http_header_server_nginx + http_header_vary_accept\", \"http_header_cache-control_set_max-age + http_header_content-language_text/html\", \"http_header_connection_close + http_header_content-language_text/html\", \"http_header_connection_close + http_header_content-encoding_gzip\", \"http_header_cache-control_set_max-age + http_header_transfer-encoding_chunked\", \"http_header_content-encoding_gzip + http_header_x-xss-enabled\", \"http_header_connection_keep-alive * http_header_content-language_text/html\", \"http_header_connection_keep-alive + http_header_content-encoding_gzip\", \"http_header_cache-control_set_no-cache + http_header_content-encoding_gzip\", \"http_header_content-encoding_gzip + http_header_server_nginx\", \"http_header_content-language_text/html + http_header_via_1.1\", \"http_header_content-language_text/html + http_header_server_nginx\", \"http_header_pragmano-cache + http_header_vary_accept\", \"http_header_cache-control_set_public + http_header_vary_accept\", \"http_header_content-language_text/html / http_header_connection_keep-alive\", \"http_header_content-encoding_gzip + http_header_content-language_text/html\", \"http_header_connection_keep-alive / http_header_content-language_text/html\", \"http_header_transfer-encoding_chunked + http_header_vary_accept\", \"http_header_content-language_text/html + http_header_transfer-encoding_chunked\", \"http_header_content-encoding_gzip + http_header_vary_accept\", \"http_header_content-language_text/html + http_header_vary_accept\", \"http_header_content-language_text/html + http_header_expect-ctmax-age\", \"http_header_cache-control_set_public + http_header_content-encoding_gzip\", \"http_header_content-encoding_gzip + http_header_expect-ctmax-age\", \"http_header_cache-control_set_public + http_header_transfer-encoding_chunked\", \"http_header_content-encoding_gzip + http_header_vary_age\", \"http_header_content-encoding_gzip / http_header_connection_keep-alive\", \"http_header_content-language_text/html / http_header_content-encoding_gzip\", \"http_header_content-encoding_gzip\", \"http_header_content-encoding_gzip / http_header_content-language_text/html\", \"http_header_content-language_text/html / http_header_transfer-encoding_chunked\", \"http_header_transfer-encoding_chunked\", \"http_header_connection_keep-alive * http_header_content-encoding_gzip\", \"http_header_content-language_text/html\", \"http_header_content-encoding_gzip * http_header_content-language_text/html\"], \"type\": \"bar\", \"uid\": \"7eec9948-3624-449e-9e8a-611dc4ce5861\"}], {\"autosize\": false, \"height\": 1000, \"width\": 1000, \"xaxis\": {\"tickfont\": {\"color\": \"black\", \"size\": 12}, \"title\": \"Feature Importances\"}, \"yaxis\": {\"automargin\": true}}, {\"showLink\": true, \"linkText\": \"Export to plot.ly\", \"plotlyServerURL\": \"https://plot.ly\"})});</script>"
      ]
     },
     "metadata": {},
     "output_type": "display_data"
    },
    {
     "name": "stdout",
     "output_type": "stream",
     "text": [
      "\n",
      "\n",
      "\u001b[1mExtraTree Classifier\u001b[0m\n",
      "Accuracy of the model for training data is: 0.905108494166\n",
      "Confusion Matrix for training data is:\n"
     ]
    },
    {
     "data": {
      "text/plain": [
       "Predicted  False  True  __all__\n",
       "Actual                         \n",
       "False      31925   509    32434\n",
       "True        2972  1278     4250\n",
       "__all__    34897  1787    36684"
      ]
     },
     "metadata": {},
     "output_type": "display_data"
    },
    {
     "name": "stdout",
     "output_type": "stream",
     "text": [
      "Accuracy of the model for test data is: 0.827627562146\n",
      "Confusion Matrix for test data is:\n"
     ]
    },
    {
     "data": {
      "text/plain": [
       "Predicted  False  True  __all__\n",
       "Actual                         \n",
       "False       7304    97     7401\n",
       "True        1484   287     1771\n",
       "__all__     8788   384     9172"
      ]
     },
     "metadata": {},
     "output_type": "display_data"
    },
    {
     "data": {
      "application/vnd.plotly.v1+json": {
       "config": {
        "linkText": "Export to plot.ly",
        "plotlyServerURL": "https://plot.ly",
        "showLink": true
       },
       "data": [
        {
         "marker": {
          "color": "rgb(158,202,225)",
          "line": {
           "color": "rgb(8,48,107)",
           "width": 1.5
          }
         },
         "opacity": 0.6,
         "orientation": "h",
         "text": [
          0.1627,
          0.1109,
          0.0677,
          0.0671,
          0.0638,
          0.056,
          0.0505,
          0.0501,
          0.0448,
          0.042,
          0.0356,
          0.0238,
          0.0199,
          0.0173,
          0.0168,
          0.0165,
          0.016,
          0.0157,
          0.0144,
          0.0141,
          0.0118,
          0.0111,
          0.0106,
          0.0091,
          0.0077,
          0.0061,
          0.0057,
          0.0055,
          0.0055,
          0.0046,
          0.0034,
          0.003,
          0.0019,
          0.0017,
          0.0017,
          0.0015,
          0.0008,
          0.0008,
          0.0007,
          0.0006,
          0.0003,
          0.0002,
          0
         ],
         "textposition": "outside",
         "type": "bar",
         "uid": "05a2bad8-f3ea-4249-ab39-7d61601d2f29",
         "x": [
          0.16271472069249202,
          0.11090399745049151,
          0.06767956604127759,
          0.06708062257686248,
          0.06378291953487067,
          0.05602442544115316,
          0.050468874080187784,
          0.0500784936026756,
          0.044801091197239025,
          0.042000320711209245,
          0.03561895574910216,
          0.023767798247829004,
          0.01991925168019605,
          0.0173365376992,
          0.016813541378933976,
          0.01651570187422968,
          0.01596067303281625,
          0.015735264586847035,
          0.014372303370444466,
          0.01407533855238075,
          0.011763897675344791,
          0.011113900875856087,
          0.010555070196110444,
          0.009128323488817834,
          0.0077413833850617075,
          0.0061037714994558664,
          0.0056600525441803905,
          0.005546112208854213,
          0.00549623533835499,
          0.004607422282039976,
          0.003398597029699275,
          0.0030070188030093515,
          0.0019251866028488572,
          0.001710884610484804,
          0.0016893715009864362,
          0.0014934067577075775,
          0.0008103476474436084,
          0.0007872358803658524,
          0.0007404770884433124,
          0.0005525513654701132,
          0.0003323985718575215,
          0.00018565646437309786,
          3.006827954782556e-07
         ],
         "y": [
          "http_header_content-encoding_gzip + http_header_transfer-encoding_chunked",
          "http_header_vary_age / http_header_content-length",
          "http_header_content-encoding_gzip + http_header_via_1.1",
          "http_header_connection_keep-alive + http_header_content-language_text/html",
          "http_header_cache-control_set_max-age + http_header_content-encoding_gzip",
          "http_header_content-encoding_gzip + http_header_server_nginx",
          "http_header_content-language_text/html + http_header_via_1.1",
          "http_header_content-language_text/html + http_header_server_nginx",
          "http_header_content-encoding_gzip / http_header_content-language_text/html",
          "http_header_content-encoding_gzip + http_header_pragmano-cache",
          "http_header_connection_close + http_header_content-language_text/html",
          "http_header_content-encoding_gzip + http_header_vary_age",
          "http_header_server_nginx + http_header_transfer-encoding_chunked",
          "http_header_connection_close + http_header_content-encoding_gzip",
          "http_header_cache-control_set_private + http_header_content-encoding_gzip",
          "http_header_connection_keep-alive / http_header_content-language_text/html",
          "http_header_cache-control_set_max-age + http_header_transfer-encoding_chunked",
          "http_header_pragmano-cache + http_header_vary_accept",
          "http_header_cache-control_set_max-age + http_header_content-language_text/html",
          "http_header_cache-control_set_no-cache + http_header_content-encoding_gzip",
          "http_header_content-language_text/html + http_header_transfer-encoding_chunked",
          "http_header_content-language_text/html / http_header_content-encoding_gzip",
          "http_header_content-encoding_gzip + http_header_content-language_text/html",
          "http_header_content-encoding_gzip + http_header_x-xss-enabled",
          "http_header_connection_keep-alive * http_header_content-language_text/html",
          "http_header_content-encoding_gzip * http_header_content-language_text/html",
          "http_header_cache-control_set_public + http_header_transfer-encoding_chunked",
          "http_header_connection_keep-alive + http_header_content-encoding_gzip",
          "http_header_connection_keep-alive * http_header_content-encoding_gzip",
          "http_header_content-language_text/html / http_header_connection_keep-alive",
          "http_header_server_nginx + http_header_vary_accept",
          "http_header_transfer-encoding_chunked",
          "http_header_content-language_text/html / http_header_transfer-encoding_chunked",
          "http_header_transfer-encoding_chunked + http_header_vary_accept",
          "http_header_cache-control_set_public + http_header_vary_accept",
          "http_header_cache-control_set_public + http_header_content-encoding_gzip",
          "http_header_content-encoding_gzip + http_header_vary_accept",
          "http_header_content-language_text/html + http_header_expect-ctmax-age",
          "http_header_content-encoding_gzip + http_header_expect-ctmax-age",
          "http_header_content-language_text/html + http_header_vary_accept",
          "http_header_content-language_text/html",
          "http_header_content-encoding_gzip / http_header_connection_keep-alive",
          "http_header_content-encoding_gzip"
         ]
        }
       ],
       "layout": {
        "autosize": false,
        "height": 1000,
        "width": 1000,
        "xaxis": {
         "tickfont": {
          "color": "black",
          "size": 12
         },
         "title": "Feature Importances"
        },
        "yaxis": {
         "automargin": true
        }
       }
      },
      "text/html": [
       "<div id=\"1994421e-bb17-40ed-929c-bbe053ee91d5\" style=\"height: 1000px; width: 1000px;\" class=\"plotly-graph-div\"></div><script type=\"text/javascript\">require([\"plotly\"], function(Plotly) { window.PLOTLYENV=window.PLOTLYENV || {};window.PLOTLYENV.BASE_URL=\"https://plot.ly\";Plotly.newPlot(\"1994421e-bb17-40ed-929c-bbe053ee91d5\", [{\"marker\": {\"color\": \"rgb(158,202,225)\", \"line\": {\"color\": \"rgb(8,48,107)\", \"width\": 1.5}}, \"opacity\": 0.6, \"orientation\": \"h\", \"text\": [0.1627, 0.1109, 0.0677, 0.0671, 0.0638, 0.056, 0.0505, 0.0501, 0.0448, 0.042, 0.0356, 0.0238, 0.0199, 0.0173, 0.0168, 0.0165, 0.016, 0.0157, 0.0144, 0.0141, 0.0118, 0.0111, 0.0106, 0.0091, 0.0077, 0.0061, 0.0057, 0.0055, 0.0055, 0.0046, 0.0034, 0.003, 0.0019, 0.0017, 0.0017, 0.0015, 0.0008, 0.0008, 0.0007, 0.0006, 0.0003, 0.0002, 0.0], \"textposition\": \"outside\", \"x\": [0.16271472069249202, 0.11090399745049151, 0.06767956604127759, 0.06708062257686248, 0.06378291953487067, 0.05602442544115316, 0.050468874080187784, 0.0500784936026756, 0.044801091197239025, 0.042000320711209245, 0.03561895574910216, 0.023767798247829004, 0.01991925168019605, 0.0173365376992, 0.016813541378933976, 0.01651570187422968, 0.01596067303281625, 0.015735264586847035, 0.014372303370444466, 0.01407533855238075, 0.011763897675344791, 0.011113900875856087, 0.010555070196110444, 0.009128323488817834, 0.0077413833850617075, 0.0061037714994558664, 0.0056600525441803905, 0.005546112208854213, 0.00549623533835499, 0.004607422282039976, 0.003398597029699275, 0.0030070188030093515, 0.0019251866028488572, 0.001710884610484804, 0.0016893715009864362, 0.0014934067577075775, 0.0008103476474436084, 0.0007872358803658524, 0.0007404770884433124, 0.0005525513654701132, 0.0003323985718575215, 0.00018565646437309786, 3.006827954782556e-07], \"y\": [\"http_header_content-encoding_gzip + http_header_transfer-encoding_chunked\", \"http_header_vary_age / http_header_content-length\", \"http_header_content-encoding_gzip + http_header_via_1.1\", \"http_header_connection_keep-alive + http_header_content-language_text/html\", \"http_header_cache-control_set_max-age + http_header_content-encoding_gzip\", \"http_header_content-encoding_gzip + http_header_server_nginx\", \"http_header_content-language_text/html + http_header_via_1.1\", \"http_header_content-language_text/html + http_header_server_nginx\", \"http_header_content-encoding_gzip / http_header_content-language_text/html\", \"http_header_content-encoding_gzip + http_header_pragmano-cache\", \"http_header_connection_close + http_header_content-language_text/html\", \"http_header_content-encoding_gzip + http_header_vary_age\", \"http_header_server_nginx + http_header_transfer-encoding_chunked\", \"http_header_connection_close + http_header_content-encoding_gzip\", \"http_header_cache-control_set_private + http_header_content-encoding_gzip\", \"http_header_connection_keep-alive / http_header_content-language_text/html\", \"http_header_cache-control_set_max-age + http_header_transfer-encoding_chunked\", \"http_header_pragmano-cache + http_header_vary_accept\", \"http_header_cache-control_set_max-age + http_header_content-language_text/html\", \"http_header_cache-control_set_no-cache + http_header_content-encoding_gzip\", \"http_header_content-language_text/html + http_header_transfer-encoding_chunked\", \"http_header_content-language_text/html / http_header_content-encoding_gzip\", \"http_header_content-encoding_gzip + http_header_content-language_text/html\", \"http_header_content-encoding_gzip + http_header_x-xss-enabled\", \"http_header_connection_keep-alive * http_header_content-language_text/html\", \"http_header_content-encoding_gzip * http_header_content-language_text/html\", \"http_header_cache-control_set_public + http_header_transfer-encoding_chunked\", \"http_header_connection_keep-alive + http_header_content-encoding_gzip\", \"http_header_connection_keep-alive * http_header_content-encoding_gzip\", \"http_header_content-language_text/html / http_header_connection_keep-alive\", \"http_header_server_nginx + http_header_vary_accept\", \"http_header_transfer-encoding_chunked\", \"http_header_content-language_text/html / http_header_transfer-encoding_chunked\", \"http_header_transfer-encoding_chunked + http_header_vary_accept\", \"http_header_cache-control_set_public + http_header_vary_accept\", \"http_header_cache-control_set_public + http_header_content-encoding_gzip\", \"http_header_content-encoding_gzip + http_header_vary_accept\", \"http_header_content-language_text/html + http_header_expect-ctmax-age\", \"http_header_content-encoding_gzip + http_header_expect-ctmax-age\", \"http_header_content-language_text/html + http_header_vary_accept\", \"http_header_content-language_text/html\", \"http_header_content-encoding_gzip / http_header_connection_keep-alive\", \"http_header_content-encoding_gzip\"], \"type\": \"bar\", \"uid\": \"05a2bad8-f3ea-4249-ab39-7d61601d2f29\"}], {\"autosize\": false, \"height\": 1000, \"width\": 1000, \"xaxis\": {\"tickfont\": {\"color\": \"black\", \"size\": 12}, \"title\": \"Feature Importances\"}, \"yaxis\": {\"automargin\": true}}, {\"showLink\": true, \"linkText\": \"Export to plot.ly\", \"plotlyServerURL\": \"https://plot.ly\"})});</script>"
      ],
      "text/vnd.plotly.v1+html": [
       "<div id=\"1994421e-bb17-40ed-929c-bbe053ee91d5\" style=\"height: 1000px; width: 1000px;\" class=\"plotly-graph-div\"></div><script type=\"text/javascript\">require([\"plotly\"], function(Plotly) { window.PLOTLYENV=window.PLOTLYENV || {};window.PLOTLYENV.BASE_URL=\"https://plot.ly\";Plotly.newPlot(\"1994421e-bb17-40ed-929c-bbe053ee91d5\", [{\"marker\": {\"color\": \"rgb(158,202,225)\", \"line\": {\"color\": \"rgb(8,48,107)\", \"width\": 1.5}}, \"opacity\": 0.6, \"orientation\": \"h\", \"text\": [0.1627, 0.1109, 0.0677, 0.0671, 0.0638, 0.056, 0.0505, 0.0501, 0.0448, 0.042, 0.0356, 0.0238, 0.0199, 0.0173, 0.0168, 0.0165, 0.016, 0.0157, 0.0144, 0.0141, 0.0118, 0.0111, 0.0106, 0.0091, 0.0077, 0.0061, 0.0057, 0.0055, 0.0055, 0.0046, 0.0034, 0.003, 0.0019, 0.0017, 0.0017, 0.0015, 0.0008, 0.0008, 0.0007, 0.0006, 0.0003, 0.0002, 0.0], \"textposition\": \"outside\", \"x\": [0.16271472069249202, 0.11090399745049151, 0.06767956604127759, 0.06708062257686248, 0.06378291953487067, 0.05602442544115316, 0.050468874080187784, 0.0500784936026756, 0.044801091197239025, 0.042000320711209245, 0.03561895574910216, 0.023767798247829004, 0.01991925168019605, 0.0173365376992, 0.016813541378933976, 0.01651570187422968, 0.01596067303281625, 0.015735264586847035, 0.014372303370444466, 0.01407533855238075, 0.011763897675344791, 0.011113900875856087, 0.010555070196110444, 0.009128323488817834, 0.0077413833850617075, 0.0061037714994558664, 0.0056600525441803905, 0.005546112208854213, 0.00549623533835499, 0.004607422282039976, 0.003398597029699275, 0.0030070188030093515, 0.0019251866028488572, 0.001710884610484804, 0.0016893715009864362, 0.0014934067577075775, 0.0008103476474436084, 0.0007872358803658524, 0.0007404770884433124, 0.0005525513654701132, 0.0003323985718575215, 0.00018565646437309786, 3.006827954782556e-07], \"y\": [\"http_header_content-encoding_gzip + http_header_transfer-encoding_chunked\", \"http_header_vary_age / http_header_content-length\", \"http_header_content-encoding_gzip + http_header_via_1.1\", \"http_header_connection_keep-alive + http_header_content-language_text/html\", \"http_header_cache-control_set_max-age + http_header_content-encoding_gzip\", \"http_header_content-encoding_gzip + http_header_server_nginx\", \"http_header_content-language_text/html + http_header_via_1.1\", \"http_header_content-language_text/html + http_header_server_nginx\", \"http_header_content-encoding_gzip / http_header_content-language_text/html\", \"http_header_content-encoding_gzip + http_header_pragmano-cache\", \"http_header_connection_close + http_header_content-language_text/html\", \"http_header_content-encoding_gzip + http_header_vary_age\", \"http_header_server_nginx + http_header_transfer-encoding_chunked\", \"http_header_connection_close + http_header_content-encoding_gzip\", \"http_header_cache-control_set_private + http_header_content-encoding_gzip\", \"http_header_connection_keep-alive / http_header_content-language_text/html\", \"http_header_cache-control_set_max-age + http_header_transfer-encoding_chunked\", \"http_header_pragmano-cache + http_header_vary_accept\", \"http_header_cache-control_set_max-age + http_header_content-language_text/html\", \"http_header_cache-control_set_no-cache + http_header_content-encoding_gzip\", \"http_header_content-language_text/html + http_header_transfer-encoding_chunked\", \"http_header_content-language_text/html / http_header_content-encoding_gzip\", \"http_header_content-encoding_gzip + http_header_content-language_text/html\", \"http_header_content-encoding_gzip + http_header_x-xss-enabled\", \"http_header_connection_keep-alive * http_header_content-language_text/html\", \"http_header_content-encoding_gzip * http_header_content-language_text/html\", \"http_header_cache-control_set_public + http_header_transfer-encoding_chunked\", \"http_header_connection_keep-alive + http_header_content-encoding_gzip\", \"http_header_connection_keep-alive * http_header_content-encoding_gzip\", \"http_header_content-language_text/html / http_header_connection_keep-alive\", \"http_header_server_nginx + http_header_vary_accept\", \"http_header_transfer-encoding_chunked\", \"http_header_content-language_text/html / http_header_transfer-encoding_chunked\", \"http_header_transfer-encoding_chunked + http_header_vary_accept\", \"http_header_cache-control_set_public + http_header_vary_accept\", \"http_header_cache-control_set_public + http_header_content-encoding_gzip\", \"http_header_content-encoding_gzip + http_header_vary_accept\", \"http_header_content-language_text/html + http_header_expect-ctmax-age\", \"http_header_content-encoding_gzip + http_header_expect-ctmax-age\", \"http_header_content-language_text/html + http_header_vary_accept\", \"http_header_content-language_text/html\", \"http_header_content-encoding_gzip / http_header_connection_keep-alive\", \"http_header_content-encoding_gzip\"], \"type\": \"bar\", \"uid\": \"05a2bad8-f3ea-4249-ab39-7d61601d2f29\"}], {\"autosize\": false, \"height\": 1000, \"width\": 1000, \"xaxis\": {\"tickfont\": {\"color\": \"black\", \"size\": 12}, \"title\": \"Feature Importances\"}, \"yaxis\": {\"automargin\": true}}, {\"showLink\": true, \"linkText\": \"Export to plot.ly\", \"plotlyServerURL\": \"https://plot.ly\"})});</script>"
      ]
     },
     "metadata": {},
     "output_type": "display_data"
    },
    {
     "name": "stdout",
     "output_type": "stream",
     "text": [
      "\n",
      "\n",
      "\u001b[1mBagging Classifier\u001b[0m\n",
      "Accuracy of the model for training data is: 0.904999454803\n",
      "Confusion Matrix for training data is:\n"
     ]
    },
    {
     "data": {
      "text/plain": [
       "Predicted  False  True  __all__\n",
       "Actual                         \n",
       "False      31924   510    32434\n",
       "True        2975  1275     4250\n",
       "__all__    34899  1785    36684"
      ]
     },
     "metadata": {},
     "output_type": "display_data"
    },
    {
     "name": "stdout",
     "output_type": "stream",
     "text": [
      "Accuracy of the model for test data is: 0.827518534671\n",
      "Confusion Matrix for test data is:\n"
     ]
    },
    {
     "data": {
      "text/plain": [
       "Predicted  False  True  __all__\n",
       "Actual                         \n",
       "False       7303    98     7401\n",
       "True        1484   287     1771\n",
       "__all__     8787   385     9172"
      ]
     },
     "metadata": {},
     "output_type": "display_data"
    },
    {
     "name": "stdout",
     "output_type": "stream",
     "text": [
      "\n",
      "\n",
      "\u001b[1mNeural Network-1\u001b[0m\n",
      "The accuracy of the model on training data is: 0.904508777662\n"
     ]
    },
    {
     "data": {
      "text/plain": [
       "Predicted  False  True  __all__\n",
       "Actual                         \n",
       "False      31920   514    32434\n",
       "True        2989  1261     4250\n",
       "__all__    34909  1775    36684"
      ]
     },
     "metadata": {},
     "output_type": "display_data"
    },
    {
     "name": "stdout",
     "output_type": "stream",
     "text": [
      "The accuracy of the model on test data is: 0.827736589621\n"
     ]
    },
    {
     "data": {
      "text/plain": [
       "Predicted  False  True  __all__\n",
       "Actual                         \n",
       "False       7305    96     7401\n",
       "True        1484   287     1771\n",
       "__all__     8789   383     9172"
      ]
     },
     "metadata": {},
     "output_type": "display_data"
    },
    {
     "name": "stdout",
     "output_type": "stream",
     "text": [
      "\n",
      "\n"
     ]
    }
   ],
   "source": [
    "feat_imp=[None]*4\n",
    "j=0\n",
    "for i in range(0,8):\n",
    "    if i>=2 and i<=5:\n",
    "        model,cm_train,cm_test,acc_train,acc_test,roc_auc,feat_imp[j],mcc=f[i](scaled_X_train,train_Y,scaled_X_test,test_Y,columns)\n",
    "        j=j+1\n",
    "    else:\n",
    "        model,cm_train,cm_test,acc_train,acc_test,roc_auc,mcc=f[i](scaled_X_train,train_Y,scaled_X_test,test_Y)\n",
    "    table_80_60_train.loc[i]=   ([acc_train,cm_train.TP,cm_train.TN,cm_train.FP,cm_train.FN,cm_train.FPR,cm_train.FNR])\n",
    "    table_80_60_test.loc[i] =   ([acc_test ,cm_test.TP, cm_test.TN, cm_test.FP, cm_test.FN, cm_test.FPR, cm_test.FNR,roc_auc,mcc])\n",
    "    print(\"\\n\")"
   ]
  },
  {
   "cell_type": "markdown",
   "metadata": {},
   "source": [
    "### <a id='4.A' style=\"text-decoration : none; color : #000000;\"> A. Results</a>"
   ]
  },
  {
   "cell_type": "code",
   "execution_count": 109,
   "metadata": {},
   "outputs": [
    {
     "data": {
      "application/vnd.plotly.v1+json": {
       "config": {
        "linkText": "Export to plot.ly",
        "plotlyServerURL": "https://plot.ly",
        "showLink": true
       },
       "data": [
        {
         "mode": "lines",
         "name": "KNN_model",
         "type": "scatter",
         "uid": "ad944530-445f-401d-8960-6bd8a21513a5",
         "x": [
          "accuracy",
          "FPR",
          "FNR",
          "auc"
         ],
         "y": [
          0.8266463148713475,
          0.024185920821510606,
          0.7967250141163185,
          0.5895445325310855
         ]
        },
        {
         "mode": "lines+markers",
         "name": "Logistic Regression",
         "type": "scatter",
         "uid": "0d03da31-870d-403e-a51a-3a6bb970fe85",
         "x": [
          "accuracy",
          "FPR",
          "FNR",
          "auc"
         ],
         "y": [
          0.8162887047535979,
          0.0027023375219564923,
          0.9401468097120271,
          0.5285754263830081
         ]
        },
        {
         "marker": {
          "symbol": "x"
         },
         "mode": "lines+markers",
         "name": "Random Forest",
         "type": "scatter",
         "uid": "ccc855df-6971-4705-ae01-c91c77a76815",
         "x": [
          "accuracy",
          "FPR",
          "FNR",
          "auc"
         ],
         "y": [
          0.8276275621456607,
          0.013106336981488989,
          0.8379446640316206,
          0.5744744994934452
         ]
        },
        {
         "mode": "lines",
         "name": "Ada Boost",
         "type": "scatter",
         "uid": "d99ea4bd-6a2b-42e0-a7f1-6b0d24da279f",
         "x": [
          "accuracy",
          "FPR",
          "FNR",
          "auc"
         ],
         "y": [
          0.8106192760575665,
          0.0013511687609782462,
          0.9751552795031055,
          0.5117467758679581
         ]
        },
        {
         "mode": "lines+markers",
         "name": "GradientBoosting",
         "type": "scatter",
         "uid": "67f3508f-0572-4196-a5a9-f3c889373abb",
         "x": [
          "accuracy",
          "FPR",
          "FNR",
          "auc"
         ],
         "y": [
          0.8256650675970345,
          0.01432238886636941,
          0.8430265386787126,
          0.571325536227459
         ]
        },
        {
         "marker": {
          "symbol": "x"
         },
         "mode": "lines+markers",
         "name": "ExtraTree Classifier",
         "type": "scatter",
         "uid": "5ed904a2-5046-45ba-a92e-c6a7209bf3cb",
         "x": [
          "accuracy",
          "FPR",
          "FNR",
          "auc"
         ],
         "y": [
          0.8276275621456607,
          0.013106336981488989,
          0.8379446640316206,
          0.5744744994934452
         ]
        },
        {
         "marker": {
          "symbol": "x"
         },
         "mode": "lines+markers",
         "name": "Bagging",
         "type": "scatter",
         "uid": "c4d4fbe9-0a93-4fbf-9e08-e5bc90329c93",
         "x": [
          "accuracy",
          "FPR",
          "FNR",
          "auc"
         ],
         "y": [
          0.827518534670737,
          0.013241453857586813,
          0.8379446640316206,
          0.5744069410553962
         ]
        },
        {
         "marker": {
          "symbol": "x"
         },
         "mode": "lines+markers",
         "name": "Neural Network",
         "type": "scatter",
         "uid": "fbd6c1ee-29ea-427c-805f-afe3425276a4",
         "x": [
          "accuracy",
          "FPR",
          "FNR",
          "auc"
         ],
         "y": [
          0.8277365896205844,
          0.012971220105391163,
          0.8379446640316206,
          0.5744069410553962
         ]
        }
       ],
       "layout": {
        "title": "Result comparision for Features selected in Section 1",
        "yaxis": {
         "dtick": 0.05,
         "tick0": 0
        }
       }
      },
      "text/html": [
       "<div id=\"e42f66eb-566e-4944-85ec-ae51165f508a\" style=\"height: 525px; width: 100%;\" class=\"plotly-graph-div\"></div><script type=\"text/javascript\">require([\"plotly\"], function(Plotly) { window.PLOTLYENV=window.PLOTLYENV || {};window.PLOTLYENV.BASE_URL=\"https://plot.ly\";Plotly.newPlot(\"e42f66eb-566e-4944-85ec-ae51165f508a\", [{\"mode\": \"lines\", \"name\": \"KNN_model\", \"x\": [\"accuracy\", \"FPR\", \"FNR\", \"auc\"], \"y\": [0.8266463148713475, 0.024185920821510606, 0.7967250141163185, 0.5895445325310855], \"type\": \"scatter\", \"uid\": \"ad944530-445f-401d-8960-6bd8a21513a5\"}, {\"mode\": \"lines+markers\", \"name\": \"Logistic Regression\", \"x\": [\"accuracy\", \"FPR\", \"FNR\", \"auc\"], \"y\": [0.8162887047535979, 0.0027023375219564923, 0.9401468097120271, 0.5285754263830081], \"type\": \"scatter\", \"uid\": \"0d03da31-870d-403e-a51a-3a6bb970fe85\"}, {\"marker\": {\"symbol\": \"x\"}, \"mode\": \"lines+markers\", \"name\": \"Random Forest\", \"x\": [\"accuracy\", \"FPR\", \"FNR\", \"auc\"], \"y\": [0.8276275621456607, 0.013106336981488989, 0.8379446640316206, 0.5744744994934452], \"type\": \"scatter\", \"uid\": \"ccc855df-6971-4705-ae01-c91c77a76815\"}, {\"mode\": \"lines\", \"name\": \"Ada Boost\", \"x\": [\"accuracy\", \"FPR\", \"FNR\", \"auc\"], \"y\": [0.8106192760575665, 0.0013511687609782462, 0.9751552795031055, 0.5117467758679581], \"type\": \"scatter\", \"uid\": \"d99ea4bd-6a2b-42e0-a7f1-6b0d24da279f\"}, {\"mode\": \"lines+markers\", \"name\": \"GradientBoosting\", \"x\": [\"accuracy\", \"FPR\", \"FNR\", \"auc\"], \"y\": [0.8256650675970345, 0.01432238886636941, 0.8430265386787126, 0.571325536227459], \"type\": \"scatter\", \"uid\": \"67f3508f-0572-4196-a5a9-f3c889373abb\"}, {\"marker\": {\"symbol\": \"x\"}, \"mode\": \"lines+markers\", \"name\": \"ExtraTree Classifier\", \"x\": [\"accuracy\", \"FPR\", \"FNR\", \"auc\"], \"y\": [0.8276275621456607, 0.013106336981488989, 0.8379446640316206, 0.5744744994934452], \"type\": \"scatter\", \"uid\": \"5ed904a2-5046-45ba-a92e-c6a7209bf3cb\"}, {\"marker\": {\"symbol\": \"x\"}, \"mode\": \"lines+markers\", \"name\": \"Bagging\", \"x\": [\"accuracy\", \"FPR\", \"FNR\", \"auc\"], \"y\": [0.827518534670737, 0.013241453857586813, 0.8379446640316206, 0.5744069410553962], \"type\": \"scatter\", \"uid\": \"c4d4fbe9-0a93-4fbf-9e08-e5bc90329c93\"}, {\"marker\": {\"symbol\": \"x\"}, \"mode\": \"lines+markers\", \"name\": \"Neural Network\", \"x\": [\"accuracy\", \"FPR\", \"FNR\", \"auc\"], \"y\": [0.8277365896205844, 0.012971220105391163, 0.8379446640316206, 0.5744069410553962], \"type\": \"scatter\", \"uid\": \"fbd6c1ee-29ea-427c-805f-afe3425276a4\"}], {\"title\": \"Result comparision for Features selected in Section 1\", \"yaxis\": {\"dtick\": 0.05, \"tick0\": 0}}, {\"showLink\": true, \"linkText\": \"Export to plot.ly\", \"plotlyServerURL\": \"https://plot.ly\"})});</script><script type=\"text/javascript\">window.addEventListener(\"resize\", function(){window._Plotly.Plots.resize(document.getElementById(\"e42f66eb-566e-4944-85ec-ae51165f508a\"));});</script>"
      ],
      "text/vnd.plotly.v1+html": [
       "<div id=\"e42f66eb-566e-4944-85ec-ae51165f508a\" style=\"height: 525px; width: 100%;\" class=\"plotly-graph-div\"></div><script type=\"text/javascript\">require([\"plotly\"], function(Plotly) { window.PLOTLYENV=window.PLOTLYENV || {};window.PLOTLYENV.BASE_URL=\"https://plot.ly\";Plotly.newPlot(\"e42f66eb-566e-4944-85ec-ae51165f508a\", [{\"mode\": \"lines\", \"name\": \"KNN_model\", \"x\": [\"accuracy\", \"FPR\", \"FNR\", \"auc\"], \"y\": [0.8266463148713475, 0.024185920821510606, 0.7967250141163185, 0.5895445325310855], \"type\": \"scatter\", \"uid\": \"ad944530-445f-401d-8960-6bd8a21513a5\"}, {\"mode\": \"lines+markers\", \"name\": \"Logistic Regression\", \"x\": [\"accuracy\", \"FPR\", \"FNR\", \"auc\"], \"y\": [0.8162887047535979, 0.0027023375219564923, 0.9401468097120271, 0.5285754263830081], \"type\": \"scatter\", \"uid\": \"0d03da31-870d-403e-a51a-3a6bb970fe85\"}, {\"marker\": {\"symbol\": \"x\"}, \"mode\": \"lines+markers\", \"name\": \"Random Forest\", \"x\": [\"accuracy\", \"FPR\", \"FNR\", \"auc\"], \"y\": [0.8276275621456607, 0.013106336981488989, 0.8379446640316206, 0.5744744994934452], \"type\": \"scatter\", \"uid\": \"ccc855df-6971-4705-ae01-c91c77a76815\"}, {\"mode\": \"lines\", \"name\": \"Ada Boost\", \"x\": [\"accuracy\", \"FPR\", \"FNR\", \"auc\"], \"y\": [0.8106192760575665, 0.0013511687609782462, 0.9751552795031055, 0.5117467758679581], \"type\": \"scatter\", \"uid\": \"d99ea4bd-6a2b-42e0-a7f1-6b0d24da279f\"}, {\"mode\": \"lines+markers\", \"name\": \"GradientBoosting\", \"x\": [\"accuracy\", \"FPR\", \"FNR\", \"auc\"], \"y\": [0.8256650675970345, 0.01432238886636941, 0.8430265386787126, 0.571325536227459], \"type\": \"scatter\", \"uid\": \"67f3508f-0572-4196-a5a9-f3c889373abb\"}, {\"marker\": {\"symbol\": \"x\"}, \"mode\": \"lines+markers\", \"name\": \"ExtraTree Classifier\", \"x\": [\"accuracy\", \"FPR\", \"FNR\", \"auc\"], \"y\": [0.8276275621456607, 0.013106336981488989, 0.8379446640316206, 0.5744744994934452], \"type\": \"scatter\", \"uid\": \"5ed904a2-5046-45ba-a92e-c6a7209bf3cb\"}, {\"marker\": {\"symbol\": \"x\"}, \"mode\": \"lines+markers\", \"name\": \"Bagging\", \"x\": [\"accuracy\", \"FPR\", \"FNR\", \"auc\"], \"y\": [0.827518534670737, 0.013241453857586813, 0.8379446640316206, 0.5744069410553962], \"type\": \"scatter\", \"uid\": \"c4d4fbe9-0a93-4fbf-9e08-e5bc90329c93\"}, {\"marker\": {\"symbol\": \"x\"}, \"mode\": \"lines+markers\", \"name\": \"Neural Network\", \"x\": [\"accuracy\", \"FPR\", \"FNR\", \"auc\"], \"y\": [0.8277365896205844, 0.012971220105391163, 0.8379446640316206, 0.5744069410553962], \"type\": \"scatter\", \"uid\": \"fbd6c1ee-29ea-427c-805f-afe3425276a4\"}], {\"title\": \"Result comparision for Features selected in Section 1\", \"yaxis\": {\"dtick\": 0.05, \"tick0\": 0}}, {\"showLink\": true, \"linkText\": \"Export to plot.ly\", \"plotlyServerURL\": \"https://plot.ly\"})});</script><script type=\"text/javascript\">window.addEventListener(\"resize\", function(){window._Plotly.Plots.resize(document.getElementById(\"e42f66eb-566e-4944-85ec-ae51165f508a\"));});</script>"
      ]
     },
     "metadata": {},
     "output_type": "display_data"
    }
   ],
   "source": [
    "trace0 = go.Scatter(x=table_80_60_test.iloc[0].index.values[[0,5,6,7]],\n",
    "                    y=table_80_60_test.iloc[0].values[[0,5,6,7]],\n",
    "                    mode = 'lines',\n",
    "                    name = 'KNN_model')\n",
    "\n",
    "trace1 = go.Scatter(x=table_80_60_test.iloc[1].index.values[[0,5,6,7]],\n",
    "                    y=table_80_60_test.iloc[1].values[[0,5,6,7]],\n",
    "                    mode = 'lines+markers',\n",
    "                    name = 'Logistic Regression')\n",
    "\n",
    "trace2 = go.Scatter(x=table_80_60_test.iloc[2].index.values[[0,5,6,7]],\n",
    "                    y=table_80_60_test.iloc[2].values[[0,5,6,7]],\n",
    "                    mode = 'lines+markers',marker=dict(symbol='x'),\n",
    "                    name = 'Random Forest')\n",
    "\n",
    "\n",
    "trace3 = go.Scatter(x=table_80_60_test.iloc[3].index.values[[0,5,6,7]],\n",
    "                    y=table_80_60_test.iloc[3].values[[0,5,6,7]],\n",
    "                    mode = 'lines',\n",
    "                    name = 'Ada Boost')\n",
    "\n",
    "trace4 = go.Scatter(x=table_80_60_test.iloc[4].index.values[[0,5,6,7]],\n",
    "                    y=table_80_60_test.iloc[4].values[[0,5,6,7]],\n",
    "                    mode = 'lines+markers',\n",
    "                    name = 'GradientBoosting')\n",
    "\n",
    "trace5 = go.Scatter(x=table_80_60_test.iloc[5].index.values[[0,5,6,7]],\n",
    "                    y=table_80_60_test.iloc[5].values[[0,5,6,7]],\n",
    "                    mode = 'lines+markers',marker=dict(symbol='x'),\n",
    "                    name = 'ExtraTree Classifier')\n",
    "\n",
    "trace6 = go.Scatter(x=table_80_60_test.iloc[6].index.values[[0,5,6,7]],\n",
    "                    y=table_80_60_test.iloc[6].values[[0,5,6,7]],\n",
    "                    mode = 'lines+markers',marker=dict(symbol='x'),\n",
    "                    name = 'Bagging')\n",
    "\n",
    "trace7 = go.Scatter(x=table_80_60_test.iloc[7].index.values[[0,5,6,7]],\n",
    "                    y=table_80_60_test.iloc[7].values[[0,5,6,7]],\n",
    "                    mode = 'lines+markers',marker=dict(symbol='x'),\n",
    "                    name = 'Neural Network')\n",
    "\n",
    "\n",
    "\n",
    "data = [trace0, trace1, trace2, trace3, trace4, trace5, trace6, trace7]\n",
    "layout = go.Layout(yaxis=dict(tick0=0,dtick=0.05),title='Result comparision for Features selected in Section 1')\n",
    "fig = go.Figure(data=data, layout=layout)\n",
    "\n",
    "iplot(fig, filename='Result')"
   ]
  },
  {
   "cell_type": "code",
   "execution_count": 110,
   "metadata": {},
   "outputs": [
    {
     "name": "stdout",
     "output_type": "stream",
     "text": [
      "Training Results\n"
     ]
    },
    {
     "data": {
      "text/html": [
       "<div>\n",
       "<style scoped>\n",
       "    .dataframe tbody tr th:only-of-type {\n",
       "        vertical-align: middle;\n",
       "    }\n",
       "\n",
       "    .dataframe tbody tr th {\n",
       "        vertical-align: top;\n",
       "    }\n",
       "\n",
       "    .dataframe thead th {\n",
       "        text-align: right;\n",
       "    }\n",
       "</style>\n",
       "<table border=\"1\" class=\"dataframe\">\n",
       "  <thead>\n",
       "    <tr style=\"text-align: right;\">\n",
       "      <th></th>\n",
       "      <th>accuracy</th>\n",
       "      <th>TP</th>\n",
       "      <th>TN</th>\n",
       "      <th>FP</th>\n",
       "      <th>FN</th>\n",
       "      <th>FPR</th>\n",
       "      <th>FNR</th>\n",
       "    </tr>\n",
       "    <tr>\n",
       "      <th>index</th>\n",
       "      <th></th>\n",
       "      <th></th>\n",
       "      <th></th>\n",
       "      <th></th>\n",
       "      <th></th>\n",
       "      <th></th>\n",
       "      <th></th>\n",
       "    </tr>\n",
       "  </thead>\n",
       "  <tbody>\n",
       "    <tr>\n",
       "      <th>KNeighborsClassifier</th>\n",
       "      <td>0.896849</td>\n",
       "      <td>1392.0</td>\n",
       "      <td>31508.0</td>\n",
       "      <td>926.0</td>\n",
       "      <td>2858.0</td>\n",
       "      <td>0.028550</td>\n",
       "      <td>0.672471</td>\n",
       "    </tr>\n",
       "    <tr>\n",
       "      <th>LogisticRegression</th>\n",
       "      <td>0.898893</td>\n",
       "      <td>648.0</td>\n",
       "      <td>32327.0</td>\n",
       "      <td>107.0</td>\n",
       "      <td>3602.0</td>\n",
       "      <td>0.003299</td>\n",
       "      <td>0.847529</td>\n",
       "    </tr>\n",
       "    <tr>\n",
       "      <th>RandomForestClassifier</th>\n",
       "      <td>0.904890</td>\n",
       "      <td>1273.0</td>\n",
       "      <td>31922.0</td>\n",
       "      <td>512.0</td>\n",
       "      <td>2977.0</td>\n",
       "      <td>0.015786</td>\n",
       "      <td>0.700471</td>\n",
       "    </tr>\n",
       "    <tr>\n",
       "      <th>AdaBoostClassifier</th>\n",
       "      <td>0.889489</td>\n",
       "      <td>262.0</td>\n",
       "      <td>32368.0</td>\n",
       "      <td>66.0</td>\n",
       "      <td>3988.0</td>\n",
       "      <td>0.002035</td>\n",
       "      <td>0.938353</td>\n",
       "    </tr>\n",
       "    <tr>\n",
       "      <th>GradientBoostingClassifier</th>\n",
       "      <td>0.903064</td>\n",
       "      <td>1241.0</td>\n",
       "      <td>31887.0</td>\n",
       "      <td>547.0</td>\n",
       "      <td>3009.0</td>\n",
       "      <td>0.016865</td>\n",
       "      <td>0.708000</td>\n",
       "    </tr>\n",
       "    <tr>\n",
       "      <th>ExtraTreeClassifier</th>\n",
       "      <td>0.905108</td>\n",
       "      <td>1278.0</td>\n",
       "      <td>31925.0</td>\n",
       "      <td>509.0</td>\n",
       "      <td>2972.0</td>\n",
       "      <td>0.015693</td>\n",
       "      <td>0.699294</td>\n",
       "    </tr>\n",
       "    <tr>\n",
       "      <th>BaggingClassifier</th>\n",
       "      <td>0.904999</td>\n",
       "      <td>1275.0</td>\n",
       "      <td>31924.0</td>\n",
       "      <td>510.0</td>\n",
       "      <td>2975.0</td>\n",
       "      <td>0.015724</td>\n",
       "      <td>0.700000</td>\n",
       "    </tr>\n",
       "    <tr>\n",
       "      <th>Neural Network-1</th>\n",
       "      <td>0.904509</td>\n",
       "      <td>1261.0</td>\n",
       "      <td>31920.0</td>\n",
       "      <td>514.0</td>\n",
       "      <td>2989.0</td>\n",
       "      <td>0.015848</td>\n",
       "      <td>0.703294</td>\n",
       "    </tr>\n",
       "  </tbody>\n",
       "</table>\n",
       "</div>"
      ],
      "text/plain": [
       "                            accuracy      TP       TN     FP      FN  \\\n",
       "index                                                                  \n",
       "KNeighborsClassifier        0.896849  1392.0  31508.0  926.0  2858.0   \n",
       "LogisticRegression          0.898893   648.0  32327.0  107.0  3602.0   \n",
       "RandomForestClassifier      0.904890  1273.0  31922.0  512.0  2977.0   \n",
       "AdaBoostClassifier          0.889489   262.0  32368.0   66.0  3988.0   \n",
       "GradientBoostingClassifier  0.903064  1241.0  31887.0  547.0  3009.0   \n",
       "ExtraTreeClassifier         0.905108  1278.0  31925.0  509.0  2972.0   \n",
       "BaggingClassifier           0.904999  1275.0  31924.0  510.0  2975.0   \n",
       "Neural Network-1            0.904509  1261.0  31920.0  514.0  2989.0   \n",
       "\n",
       "                                 FPR       FNR  \n",
       "index                                           \n",
       "KNeighborsClassifier        0.028550  0.672471  \n",
       "LogisticRegression          0.003299  0.847529  \n",
       "RandomForestClassifier      0.015786  0.700471  \n",
       "AdaBoostClassifier          0.002035  0.938353  \n",
       "GradientBoostingClassifier  0.016865  0.708000  \n",
       "ExtraTreeClassifier         0.015693  0.699294  \n",
       "BaggingClassifier           0.015724  0.700000  \n",
       "Neural Network-1            0.015848  0.703294  "
      ]
     },
     "metadata": {},
     "output_type": "display_data"
    },
    {
     "name": "stdout",
     "output_type": "stream",
     "text": [
      "Test Results\n"
     ]
    },
    {
     "data": {
      "text/html": [
       "<div>\n",
       "<style scoped>\n",
       "    .dataframe tbody tr th:only-of-type {\n",
       "        vertical-align: middle;\n",
       "    }\n",
       "\n",
       "    .dataframe tbody tr th {\n",
       "        vertical-align: top;\n",
       "    }\n",
       "\n",
       "    .dataframe thead th {\n",
       "        text-align: right;\n",
       "    }\n",
       "</style>\n",
       "<table border=\"1\" class=\"dataframe\">\n",
       "  <thead>\n",
       "    <tr style=\"text-align: right;\">\n",
       "      <th></th>\n",
       "      <th>accuracy</th>\n",
       "      <th>TP</th>\n",
       "      <th>TN</th>\n",
       "      <th>FP</th>\n",
       "      <th>FN</th>\n",
       "      <th>FPR</th>\n",
       "      <th>FNR</th>\n",
       "      <th>auc</th>\n",
       "      <th>mcc</th>\n",
       "    </tr>\n",
       "    <tr>\n",
       "      <th>index</th>\n",
       "      <th></th>\n",
       "      <th></th>\n",
       "      <th></th>\n",
       "      <th></th>\n",
       "      <th></th>\n",
       "      <th></th>\n",
       "      <th></th>\n",
       "      <th></th>\n",
       "      <th></th>\n",
       "    </tr>\n",
       "  </thead>\n",
       "  <tbody>\n",
       "    <tr>\n",
       "      <th>KNeighborsClassifier</th>\n",
       "      <td>0.826646</td>\n",
       "      <td>360.0</td>\n",
       "      <td>7222.0</td>\n",
       "      <td>179.0</td>\n",
       "      <td>1411.0</td>\n",
       "      <td>0.024186</td>\n",
       "      <td>0.796725</td>\n",
       "      <td>0.589545</td>\n",
       "      <td>0.300572</td>\n",
       "    </tr>\n",
       "    <tr>\n",
       "      <th>LogisticRegression</th>\n",
       "      <td>0.816289</td>\n",
       "      <td>106.0</td>\n",
       "      <td>7381.0</td>\n",
       "      <td>20.0</td>\n",
       "      <td>1665.0</td>\n",
       "      <td>0.002702</td>\n",
       "      <td>0.940147</td>\n",
       "      <td>0.528575</td>\n",
       "      <td>0.193804</td>\n",
       "    </tr>\n",
       "    <tr>\n",
       "      <th>RandomForestClassifier</th>\n",
       "      <td>0.827628</td>\n",
       "      <td>287.0</td>\n",
       "      <td>7304.0</td>\n",
       "      <td>97.0</td>\n",
       "      <td>1484.0</td>\n",
       "      <td>0.013106</td>\n",
       "      <td>0.837945</td>\n",
       "      <td>0.574474</td>\n",
       "      <td>0.293550</td>\n",
       "    </tr>\n",
       "    <tr>\n",
       "      <th>AdaBoostClassifier</th>\n",
       "      <td>0.810619</td>\n",
       "      <td>44.0</td>\n",
       "      <td>7391.0</td>\n",
       "      <td>10.0</td>\n",
       "      <td>1727.0</td>\n",
       "      <td>0.001351</td>\n",
       "      <td>0.975155</td>\n",
       "      <td>0.511747</td>\n",
       "      <td>0.121215</td>\n",
       "    </tr>\n",
       "    <tr>\n",
       "      <th>GradientBoostingClassifier</th>\n",
       "      <td>0.825665</td>\n",
       "      <td>278.0</td>\n",
       "      <td>7295.0</td>\n",
       "      <td>106.0</td>\n",
       "      <td>1493.0</td>\n",
       "      <td>0.014322</td>\n",
       "      <td>0.843027</td>\n",
       "      <td>0.571326</td>\n",
       "      <td>0.281138</td>\n",
       "    </tr>\n",
       "    <tr>\n",
       "      <th>ExtraTreeClassifier</th>\n",
       "      <td>0.827628</td>\n",
       "      <td>287.0</td>\n",
       "      <td>7304.0</td>\n",
       "      <td>97.0</td>\n",
       "      <td>1484.0</td>\n",
       "      <td>0.013106</td>\n",
       "      <td>0.837945</td>\n",
       "      <td>0.574474</td>\n",
       "      <td>0.293550</td>\n",
       "    </tr>\n",
       "    <tr>\n",
       "      <th>BaggingClassifier</th>\n",
       "      <td>0.827519</td>\n",
       "      <td>287.0</td>\n",
       "      <td>7303.0</td>\n",
       "      <td>98.0</td>\n",
       "      <td>1484.0</td>\n",
       "      <td>0.013241</td>\n",
       "      <td>0.837945</td>\n",
       "      <td>0.574407</td>\n",
       "      <td>0.292919</td>\n",
       "    </tr>\n",
       "    <tr>\n",
       "      <th>Neural Network-1</th>\n",
       "      <td>0.827737</td>\n",
       "      <td>287.0</td>\n",
       "      <td>7305.0</td>\n",
       "      <td>96.0</td>\n",
       "      <td>1484.0</td>\n",
       "      <td>0.012971</td>\n",
       "      <td>0.837945</td>\n",
       "      <td>0.574407</td>\n",
       "      <td>0.294182</td>\n",
       "    </tr>\n",
       "  </tbody>\n",
       "</table>\n",
       "</div>"
      ],
      "text/plain": [
       "                            accuracy     TP      TN     FP      FN       FPR  \\\n",
       "index                                                                          \n",
       "KNeighborsClassifier        0.826646  360.0  7222.0  179.0  1411.0  0.024186   \n",
       "LogisticRegression          0.816289  106.0  7381.0   20.0  1665.0  0.002702   \n",
       "RandomForestClassifier      0.827628  287.0  7304.0   97.0  1484.0  0.013106   \n",
       "AdaBoostClassifier          0.810619   44.0  7391.0   10.0  1727.0  0.001351   \n",
       "GradientBoostingClassifier  0.825665  278.0  7295.0  106.0  1493.0  0.014322   \n",
       "ExtraTreeClassifier         0.827628  287.0  7304.0   97.0  1484.0  0.013106   \n",
       "BaggingClassifier           0.827519  287.0  7303.0   98.0  1484.0  0.013241   \n",
       "Neural Network-1            0.827737  287.0  7305.0   96.0  1484.0  0.012971   \n",
       "\n",
       "                                 FNR       auc       mcc  \n",
       "index                                                     \n",
       "KNeighborsClassifier        0.796725  0.589545  0.300572  \n",
       "LogisticRegression          0.940147  0.528575  0.193804  \n",
       "RandomForestClassifier      0.837945  0.574474  0.293550  \n",
       "AdaBoostClassifier          0.975155  0.511747  0.121215  \n",
       "GradientBoostingClassifier  0.843027  0.571326  0.281138  \n",
       "ExtraTreeClassifier         0.837945  0.574474  0.293550  \n",
       "BaggingClassifier           0.837945  0.574407  0.292919  \n",
       "Neural Network-1            0.837945  0.574407  0.294182  "
      ]
     },
     "metadata": {},
     "output_type": "display_data"
    }
   ],
   "source": [
    "table_80_60_train['index']=ind_columns\n",
    "table_80_60_test['index']=ind_columns\n",
    "\n",
    "\n",
    "table_80_60_test.set_index(['index'],drop=True,inplace=True)\n",
    "table_80_60_train.set_index(['index'],drop=True,inplace=True)\n",
    "\n",
    "print(\"Training Results\")\n",
    "display(table_80_60_train)\n",
    "print(\"Test Results\")\n",
    "display(table_80_60_test)"
   ]
  },
  {
   "cell_type": "markdown",
   "metadata": {},
   "source": [
    "### <a id='4.B' style=\"text-decoration : none; color : #000000;\"> B. Average Feature Importances</a>"
   ]
  },
  {
   "cell_type": "code",
   "execution_count": 111,
   "metadata": {},
   "outputs": [
    {
     "data": {
      "application/vnd.plotly.v1+json": {
       "config": {
        "linkText": "Export to plot.ly",
        "plotlyServerURL": "https://plot.ly",
        "showLink": true
       },
       "data": [
        {
         "marker": {
          "color": "rgb(158,202,225)",
          "line": {
           "color": "rgb(8,48,107)",
           "width": 1.5
          }
         },
         "opacity": 0.6,
         "orientation": "h",
         "text": [
          0.1693,
          0.1391,
          0.0666,
          0.057,
          0.0432,
          0.0423,
          0.032,
          0.0311,
          0.0287,
          0.0265,
          0.026,
          0.0257,
          0.0252,
          0.024,
          0.0229,
          0.0224,
          0.0213,
          0.0211,
          0.02,
          0.0194,
          0.0187,
          0.0142,
          0.0133,
          0.0117,
          0.0116,
          0.0097,
          0.0085,
          0.0079,
          0.0078,
          0.0064,
          0.0057,
          0.0054,
          0.0028,
          0.0028,
          0.0026,
          0.0026,
          0.0015,
          0.0014,
          0.0008,
          0.0006,
          0.0002,
          0.0001,
          0
         ],
         "textposition": "outside",
         "type": "bar",
         "uid": "33791eb1-9298-4f83-a08d-31ed8a642c84",
         "x": [
          0.16928356381707452,
          0.1391271944162969,
          0.06655707116253912,
          0.056985386501838264,
          0.04323895102653949,
          0.042257926611460224,
          0.03195013163427592,
          0.031093077660931164,
          0.028734453626156738,
          0.026475351818891508,
          0.02596043028348641,
          0.025656730465146646,
          0.025214355437247083,
          0.02397215170017259,
          0.0229367542695288,
          0.02240649521246,
          0.021324139957069693,
          0.02112936569982633,
          0.020034264111544915,
          0.019439814147643588,
          0.018741386488959032,
          0.0142133892986476,
          0.01330292484952217,
          0.011691840299787412,
          0.011587490669066577,
          0.009689584459217391,
          0.008461660066605578,
          0.007913696051261717,
          0.007805671153205927,
          0.006407036115269346,
          0.005662555489147031,
          0.005392822652851912,
          0.002811913208947736,
          0.002750778658979195,
          0.0026291848910064324,
          0.0025819327035484004,
          0.0015327664918131354,
          0.001378948936894288,
          0.0007650282559339748,
          0.000587809038339967,
          0.00020198549868453075,
          0.00010931486575585183,
          2.6702964249671484e-06
         ],
         "y": [
          "http_header_content-encoding_gzip + http_header_transfer-encoding_chunked",
          "http_header_vary_age / http_header_content-length",
          "http_header_connection_keep-alive + http_header_content-language_text/html",
          "http_header_cache-control_set_private + http_header_content-encoding_gzip",
          "http_header_content-encoding_gzip + http_header_via_1.1",
          "http_header_content-encoding_gzip + http_header_pragmano-cache",
          "http_header_cache-control_set_max-age + http_header_content-encoding_gzip",
          "http_header_server_nginx + http_header_transfer-encoding_chunked",
          "http_header_content-language_text/html + http_header_server_nginx",
          "http_header_content-encoding_gzip + http_header_vary_accept",
          "http_header_content-encoding_gzip + http_header_vary_age",
          "http_header_content-language_text/html + http_header_via_1.1",
          "http_header_connection_close + http_header_content-language_text/html",
          "http_header_cache-control_set_max-age + http_header_transfer-encoding_chunked",
          "http_header_content-encoding_gzip + http_header_x-xss-enabled",
          "http_header_content-encoding_gzip / http_header_content-language_text/html",
          "http_header_cache-control_set_max-age + http_header_content-language_text/html",
          "http_header_content-encoding_gzip + http_header_server_nginx",
          "http_header_connection_keep-alive + http_header_content-encoding_gzip",
          "http_header_server_nginx + http_header_vary_accept",
          "http_header_connection_close + http_header_content-encoding_gzip",
          "http_header_content-encoding_gzip + http_header_content-language_text/html",
          "http_header_pragmano-cache + http_header_vary_accept",
          "http_header_connection_keep-alive / http_header_content-language_text/html",
          "http_header_content-encoding_gzip + http_header_expect-ctmax-age",
          "http_header_cache-control_set_public + http_header_transfer-encoding_chunked",
          "http_header_cache-control_set_no-cache + http_header_content-encoding_gzip",
          "http_header_connection_keep-alive * http_header_content-language_text/html",
          "http_header_content-language_text/html + http_header_transfer-encoding_chunked",
          "http_header_cache-control_set_public + http_header_vary_accept",
          "http_header_transfer-encoding_chunked + http_header_vary_accept",
          "http_header_content-language_text/html + http_header_expect-ctmax-age",
          "http_header_content-language_text/html / http_header_content-encoding_gzip",
          "http_header_transfer-encoding_chunked",
          "http_header_content-language_text/html / http_header_connection_keep-alive",
          "http_header_content-language_text/html + http_header_vary_accept",
          "http_header_content-encoding_gzip * http_header_content-language_text/html",
          "http_header_connection_keep-alive * http_header_content-encoding_gzip",
          "http_header_cache-control_set_public + http_header_content-encoding_gzip",
          "http_header_content-language_text/html / http_header_transfer-encoding_chunked",
          "http_header_content-encoding_gzip / http_header_connection_keep-alive",
          "http_header_content-language_text/html",
          "http_header_content-encoding_gzip"
         ]
        }
       ],
       "layout": {
        "autosize": false,
        "height": 1000,
        "width": 1000,
        "xaxis": {
         "tickfont": {
          "color": "black",
          "size": 12
         },
         "title": "Feature Importances"
        },
        "yaxis": {
         "automargin": true
        }
       }
      },
      "text/html": [
       "<div id=\"b174f72c-17ee-4a2a-a143-a8b64d86311f\" style=\"height: 1000px; width: 1000px;\" class=\"plotly-graph-div\"></div><script type=\"text/javascript\">require([\"plotly\"], function(Plotly) { window.PLOTLYENV=window.PLOTLYENV || {};window.PLOTLYENV.BASE_URL=\"https://plot.ly\";Plotly.newPlot(\"b174f72c-17ee-4a2a-a143-a8b64d86311f\", [{\"marker\": {\"color\": \"rgb(158,202,225)\", \"line\": {\"color\": \"rgb(8,48,107)\", \"width\": 1.5}}, \"opacity\": 0.6, \"orientation\": \"h\", \"text\": [0.1693, 0.1391, 0.0666, 0.057, 0.0432, 0.0423, 0.032, 0.0311, 0.0287, 0.0265, 0.026, 0.0257, 0.0252, 0.024, 0.0229, 0.0224, 0.0213, 0.0211, 0.02, 0.0194, 0.0187, 0.0142, 0.0133, 0.0117, 0.0116, 0.0097, 0.0085, 0.0079, 0.0078, 0.0064, 0.0057, 0.0054, 0.0028, 0.0028, 0.0026, 0.0026, 0.0015, 0.0014, 0.0008, 0.0006, 0.0002, 0.0001, 0.0], \"textposition\": \"outside\", \"x\": [0.16928356381707452, 0.1391271944162969, 0.06655707116253912, 0.056985386501838264, 0.04323895102653949, 0.042257926611460224, 0.03195013163427592, 0.031093077660931164, 0.028734453626156738, 0.026475351818891508, 0.02596043028348641, 0.025656730465146646, 0.025214355437247083, 0.02397215170017259, 0.0229367542695288, 0.02240649521246, 0.021324139957069693, 0.02112936569982633, 0.020034264111544915, 0.019439814147643588, 0.018741386488959032, 0.0142133892986476, 0.01330292484952217, 0.011691840299787412, 0.011587490669066577, 0.009689584459217391, 0.008461660066605578, 0.007913696051261717, 0.007805671153205927, 0.006407036115269346, 0.005662555489147031, 0.005392822652851912, 0.002811913208947736, 0.002750778658979195, 0.0026291848910064324, 0.0025819327035484004, 0.0015327664918131354, 0.001378948936894288, 0.0007650282559339748, 0.000587809038339967, 0.00020198549868453075, 0.00010931486575585183, 2.6702964249671484e-06], \"y\": [\"http_header_content-encoding_gzip + http_header_transfer-encoding_chunked\", \"http_header_vary_age / http_header_content-length\", \"http_header_connection_keep-alive + http_header_content-language_text/html\", \"http_header_cache-control_set_private + http_header_content-encoding_gzip\", \"http_header_content-encoding_gzip + http_header_via_1.1\", \"http_header_content-encoding_gzip + http_header_pragmano-cache\", \"http_header_cache-control_set_max-age + http_header_content-encoding_gzip\", \"http_header_server_nginx + http_header_transfer-encoding_chunked\", \"http_header_content-language_text/html + http_header_server_nginx\", \"http_header_content-encoding_gzip + http_header_vary_accept\", \"http_header_content-encoding_gzip + http_header_vary_age\", \"http_header_content-language_text/html + http_header_via_1.1\", \"http_header_connection_close + http_header_content-language_text/html\", \"http_header_cache-control_set_max-age + http_header_transfer-encoding_chunked\", \"http_header_content-encoding_gzip + http_header_x-xss-enabled\", \"http_header_content-encoding_gzip / http_header_content-language_text/html\", \"http_header_cache-control_set_max-age + http_header_content-language_text/html\", \"http_header_content-encoding_gzip + http_header_server_nginx\", \"http_header_connection_keep-alive + http_header_content-encoding_gzip\", \"http_header_server_nginx + http_header_vary_accept\", \"http_header_connection_close + http_header_content-encoding_gzip\", \"http_header_content-encoding_gzip + http_header_content-language_text/html\", \"http_header_pragmano-cache + http_header_vary_accept\", \"http_header_connection_keep-alive / http_header_content-language_text/html\", \"http_header_content-encoding_gzip + http_header_expect-ctmax-age\", \"http_header_cache-control_set_public + http_header_transfer-encoding_chunked\", \"http_header_cache-control_set_no-cache + http_header_content-encoding_gzip\", \"http_header_connection_keep-alive * http_header_content-language_text/html\", \"http_header_content-language_text/html + http_header_transfer-encoding_chunked\", \"http_header_cache-control_set_public + http_header_vary_accept\", \"http_header_transfer-encoding_chunked + http_header_vary_accept\", \"http_header_content-language_text/html + http_header_expect-ctmax-age\", \"http_header_content-language_text/html / http_header_content-encoding_gzip\", \"http_header_transfer-encoding_chunked\", \"http_header_content-language_text/html / http_header_connection_keep-alive\", \"http_header_content-language_text/html + http_header_vary_accept\", \"http_header_content-encoding_gzip * http_header_content-language_text/html\", \"http_header_connection_keep-alive * http_header_content-encoding_gzip\", \"http_header_cache-control_set_public + http_header_content-encoding_gzip\", \"http_header_content-language_text/html / http_header_transfer-encoding_chunked\", \"http_header_content-encoding_gzip / http_header_connection_keep-alive\", \"http_header_content-language_text/html\", \"http_header_content-encoding_gzip\"], \"type\": \"bar\", \"uid\": \"33791eb1-9298-4f83-a08d-31ed8a642c84\"}], {\"autosize\": false, \"height\": 1000, \"width\": 1000, \"xaxis\": {\"tickfont\": {\"color\": \"black\", \"size\": 12}, \"title\": \"Feature Importances\"}, \"yaxis\": {\"automargin\": true}}, {\"showLink\": true, \"linkText\": \"Export to plot.ly\", \"plotlyServerURL\": \"https://plot.ly\"})});</script>"
      ],
      "text/vnd.plotly.v1+html": [
       "<div id=\"b174f72c-17ee-4a2a-a143-a8b64d86311f\" style=\"height: 1000px; width: 1000px;\" class=\"plotly-graph-div\"></div><script type=\"text/javascript\">require([\"plotly\"], function(Plotly) { window.PLOTLYENV=window.PLOTLYENV || {};window.PLOTLYENV.BASE_URL=\"https://plot.ly\";Plotly.newPlot(\"b174f72c-17ee-4a2a-a143-a8b64d86311f\", [{\"marker\": {\"color\": \"rgb(158,202,225)\", \"line\": {\"color\": \"rgb(8,48,107)\", \"width\": 1.5}}, \"opacity\": 0.6, \"orientation\": \"h\", \"text\": [0.1693, 0.1391, 0.0666, 0.057, 0.0432, 0.0423, 0.032, 0.0311, 0.0287, 0.0265, 0.026, 0.0257, 0.0252, 0.024, 0.0229, 0.0224, 0.0213, 0.0211, 0.02, 0.0194, 0.0187, 0.0142, 0.0133, 0.0117, 0.0116, 0.0097, 0.0085, 0.0079, 0.0078, 0.0064, 0.0057, 0.0054, 0.0028, 0.0028, 0.0026, 0.0026, 0.0015, 0.0014, 0.0008, 0.0006, 0.0002, 0.0001, 0.0], \"textposition\": \"outside\", \"x\": [0.16928356381707452, 0.1391271944162969, 0.06655707116253912, 0.056985386501838264, 0.04323895102653949, 0.042257926611460224, 0.03195013163427592, 0.031093077660931164, 0.028734453626156738, 0.026475351818891508, 0.02596043028348641, 0.025656730465146646, 0.025214355437247083, 0.02397215170017259, 0.0229367542695288, 0.02240649521246, 0.021324139957069693, 0.02112936569982633, 0.020034264111544915, 0.019439814147643588, 0.018741386488959032, 0.0142133892986476, 0.01330292484952217, 0.011691840299787412, 0.011587490669066577, 0.009689584459217391, 0.008461660066605578, 0.007913696051261717, 0.007805671153205927, 0.006407036115269346, 0.005662555489147031, 0.005392822652851912, 0.002811913208947736, 0.002750778658979195, 0.0026291848910064324, 0.0025819327035484004, 0.0015327664918131354, 0.001378948936894288, 0.0007650282559339748, 0.000587809038339967, 0.00020198549868453075, 0.00010931486575585183, 2.6702964249671484e-06], \"y\": [\"http_header_content-encoding_gzip + http_header_transfer-encoding_chunked\", \"http_header_vary_age / http_header_content-length\", \"http_header_connection_keep-alive + http_header_content-language_text/html\", \"http_header_cache-control_set_private + http_header_content-encoding_gzip\", \"http_header_content-encoding_gzip + http_header_via_1.1\", \"http_header_content-encoding_gzip + http_header_pragmano-cache\", \"http_header_cache-control_set_max-age + http_header_content-encoding_gzip\", \"http_header_server_nginx + http_header_transfer-encoding_chunked\", \"http_header_content-language_text/html + http_header_server_nginx\", \"http_header_content-encoding_gzip + http_header_vary_accept\", \"http_header_content-encoding_gzip + http_header_vary_age\", \"http_header_content-language_text/html + http_header_via_1.1\", \"http_header_connection_close + http_header_content-language_text/html\", \"http_header_cache-control_set_max-age + http_header_transfer-encoding_chunked\", \"http_header_content-encoding_gzip + http_header_x-xss-enabled\", \"http_header_content-encoding_gzip / http_header_content-language_text/html\", \"http_header_cache-control_set_max-age + http_header_content-language_text/html\", \"http_header_content-encoding_gzip + http_header_server_nginx\", \"http_header_connection_keep-alive + http_header_content-encoding_gzip\", \"http_header_server_nginx + http_header_vary_accept\", \"http_header_connection_close + http_header_content-encoding_gzip\", \"http_header_content-encoding_gzip + http_header_content-language_text/html\", \"http_header_pragmano-cache + http_header_vary_accept\", \"http_header_connection_keep-alive / http_header_content-language_text/html\", \"http_header_content-encoding_gzip + http_header_expect-ctmax-age\", \"http_header_cache-control_set_public + http_header_transfer-encoding_chunked\", \"http_header_cache-control_set_no-cache + http_header_content-encoding_gzip\", \"http_header_connection_keep-alive * http_header_content-language_text/html\", \"http_header_content-language_text/html + http_header_transfer-encoding_chunked\", \"http_header_cache-control_set_public + http_header_vary_accept\", \"http_header_transfer-encoding_chunked + http_header_vary_accept\", \"http_header_content-language_text/html + http_header_expect-ctmax-age\", \"http_header_content-language_text/html / http_header_content-encoding_gzip\", \"http_header_transfer-encoding_chunked\", \"http_header_content-language_text/html / http_header_connection_keep-alive\", \"http_header_content-language_text/html + http_header_vary_accept\", \"http_header_content-encoding_gzip * http_header_content-language_text/html\", \"http_header_connection_keep-alive * http_header_content-encoding_gzip\", \"http_header_cache-control_set_public + http_header_content-encoding_gzip\", \"http_header_content-language_text/html / http_header_transfer-encoding_chunked\", \"http_header_content-encoding_gzip / http_header_connection_keep-alive\", \"http_header_content-language_text/html\", \"http_header_content-encoding_gzip\"], \"type\": \"bar\", \"uid\": \"33791eb1-9298-4f83-a08d-31ed8a642c84\"}], {\"autosize\": false, \"height\": 1000, \"width\": 1000, \"xaxis\": {\"tickfont\": {\"color\": \"black\", \"size\": 12}, \"title\": \"Feature Importances\"}, \"yaxis\": {\"automargin\": true}}, {\"showLink\": true, \"linkText\": \"Export to plot.ly\", \"plotlyServerURL\": \"https://plot.ly\"})});</script>"
      ]
     },
     "metadata": {},
     "output_type": "display_data"
    }
   ],
   "source": [
    "feat_impt_plot(np.average(feat_imp,axis=0),columns)"
   ]
  },
  {
   "cell_type": "markdown",
   "metadata": {},
   "source": [
    "### <a id='5' style=\"text-decoration : none; color : #000000;\">5. Feature Transformation with PCA </a>"
   ]
  },
  {
   "cell_type": "code",
   "execution_count": 112,
   "metadata": {
    "collapsed": true
   },
   "outputs": [],
   "source": [
    "X=fs.loc[:,fs.columns!='Target']\n",
    "y=fs.Target.values\n",
    "feature_name = X.columns.tolist()\n",
    "X=np.nan_to_num(X)\n",
    "scaler=StandardScaler()\n",
    "scaled_X=scaler.fit_transform(X)"
   ]
  },
  {
   "cell_type": "code",
   "execution_count": 115,
   "metadata": {},
   "outputs": [
    {
     "data": {
      "image/png": "[encoded data removed]",
      "text/plain": [
       "<Figure size 720x576 with 1 Axes>"
      ]
     },
     "metadata": {},
     "output_type": "display_data"
    }
   ],
   "source": [
    "sns.set_style('whitegrid')\n",
    "pca = PCA(random_state=0)\n",
    "pca.fit(scaled_X)\n",
    "plt.figure(1, figsize=(10, 8))\n",
    "plt.plot(np.cumsum(pca.explained_variance_ratio_),'--o', linewidth=2)\n",
    "plt.axis('tight')\n",
    "plt.xlabel('Number of Components',size=14)\n",
    "plt.xticks(size=12)\n",
    "plt.xlim([0,200])\n",
    "plt.ylabel('% Explained Variance',size=14)\n",
    "plt.yticks(size=12)\n",
    "plt.title('% Variance Explained by Principal Components',size=14,y=1.05)\n",
    "plt.show()"
   ]
  },
  {
   "cell_type": "code",
   "execution_count": 116,
   "metadata": {},
   "outputs": [
    {
     "name": "stdout",
     "output_type": "stream",
     "text": [
      "Variance explained using 117 components is: 0.94951751129\n"
     ]
    }
   ],
   "source": [
    "pca=PCA(n_components=117,whiten=True,random_state=0)\n",
    "X_pca_21=pca.fit_transform(scaled_X)\n",
    "print(\"Variance explained using 117 components is:\",sum(pca.explained_variance_ratio_))"
   ]
  },
  {
   "cell_type": "code",
   "execution_count": 122,
   "metadata": {
    "collapsed": true
   },
   "outputs": [],
   "source": [
    "X_train=X_pca_21[:36684]\n",
    "Y_train=fs.iloc[:36684]['Target'].values\n",
    "X_test=X_pca_21[36684:]\n",
    "Y_test=fs.iloc[36684:]['Target'].values\n",
    "\n",
    "## Table to store training and test measures so we can compare later\n",
    "table_80_70_train=pd.DataFrame(columns=['accuracy','TP','TN','FP','FN','FPR','FNR'])\n",
    "table_80_70_test=pd.DataFrame(columns=['accuracy','TP','TN','FP','FN','FPR','FNR','auc','mcc'])"
   ]
  },
  {
   "cell_type": "code",
   "execution_count": 124,
   "metadata": {
    "scrolled": false
   },
   "outputs": [
    {
     "name": "stdout",
     "output_type": "stream",
     "text": [
      "\u001b[1mK-Nearest Neighbors\u001b[0m\n",
      "Accuracy of the model for training data is: 0.919992367245\n",
      "Confusion Matrix for training data is:\n"
     ]
    },
    {
     "data": {
      "text/plain": [
       "Predicted  False  True  __all__\n",
       "Actual                         \n",
       "False      32313   121    32434\n",
       "True        2814  1436     4250\n",
       "__all__    35127  1557    36684"
      ]
     },
     "metadata": {},
     "output_type": "display_data"
    },
    {
     "name": "stdout",
     "output_type": "stream",
     "text": [
      "Accuracy of the model for test data is: 0.835368512865\n",
      "Confusion Matrix for test data is:\n"
     ]
    },
    {
     "data": {
      "text/plain": [
       "Predicted  False  True  __all__\n",
       "Actual                         \n",
       "False       7366    35     7401\n",
       "True        1475   296     1771\n",
       "__all__     8841   331     9172"
      ]
     },
     "metadata": {},
     "output_type": "display_data"
    },
    {
     "name": "stdout",
     "output_type": "stream",
     "text": [
      "\n",
      "\n",
      "\u001b[1mLogistic Regression\u001b[0m\n",
      "Accuracy of the model for training data is: 0.911514556755\n",
      "Confusion Matrix for training data is:\n"
     ]
    },
    {
     "data": {
      "text/plain": [
       "Predicted  False  True  __all__\n",
       "Actual                         \n",
       "False      32148   286    32434\n",
       "True        2960  1290     4250\n",
       "__all__    35108  1576    36684"
      ]
     },
     "metadata": {},
     "output_type": "display_data"
    },
    {
     "name": "stdout",
     "output_type": "stream",
     "text": [
      "Accuracy of the model for test data is: 0.831661578718\n",
      "Confusion Matrix for test data is:\n"
     ]
    },
    {
     "data": {
      "text/plain": [
       "Predicted  False  True  __all__\n",
       "Actual                         \n",
       "False       7348    53     7401\n",
       "True        1491   280     1771\n",
       "__all__     8839   333     9172"
      ]
     },
     "metadata": {},
     "output_type": "display_data"
    },
    {
     "name": "stdout",
     "output_type": "stream",
     "text": [
      "\n",
      "\n",
      "\u001b[1mRandomForest Classifier\u001b[0m\n",
      "Accuracy of the model for training data is: 0.924572020499\n",
      "Confusion Matrix for training data is:\n"
     ]
    },
    {
     "data": {
      "text/plain": [
       "Predicted  False  True  __all__\n",
       "Actual                         \n",
       "False      32365    69    32434\n",
       "True        2698  1552     4250\n",
       "__all__    35063  1621    36684"
      ]
     },
     "metadata": {},
     "output_type": "display_data"
    },
    {
     "name": "stdout",
     "output_type": "stream",
     "text": [
      "Accuracy of the model for test data is: 0.836458787614\n",
      "Confusion Matrix for test data is:\n"
     ]
    },
    {
     "data": {
      "text/plain": [
       "Predicted  False  True  __all__\n",
       "Actual                         \n",
       "False       7366    35     7401\n",
       "True        1465   306     1771\n",
       "__all__     8831   341     9172"
      ]
     },
     "metadata": {},
     "output_type": "display_data"
    },
    {
     "data": {
      "application/vnd.plotly.v1+json": {
       "config": {
        "linkText": "Export to plot.ly",
        "plotlyServerURL": "https://plot.ly",
        "showLink": true
       },
       "data": [
        {
         "marker": {
          "color": "rgb(158,202,225)",
          "line": {
           "color": "rgb(8,48,107)",
           "width": 1.5
          }
         },
         "opacity": 0.6,
         "orientation": "h",
         "text": [
          0.1131,
          0.0557,
          0.0555,
          0.0414,
          0.0406,
          0.0367,
          0.0366,
          0.0314,
          0.0293,
          0.0259,
          0.0252,
          0.0225,
          0.022,
          0.0191,
          0.0182,
          0.0169,
          0.0167,
          0.0161,
          0.0158,
          0.0155,
          0.0153,
          0.0132,
          0.0122,
          0.0116,
          0.0115,
          0.0103,
          0.0103,
          0.0098,
          0.0095,
          0.0095,
          0.0087,
          0.0087,
          0.0083,
          0.0082,
          0.008,
          0.0079,
          0.0078,
          0.0076,
          0.0075,
          0.007,
          0.0063,
          0.0054,
          0.0051,
          0.0046,
          0.0043,
          0.0041,
          0.0039,
          0.0035,
          0.0033,
          0.0032,
          0.003,
          0.003,
          0.003,
          0.0029,
          0.0028,
          0.0028,
          0.0028,
          0.0028,
          0.0026,
          0.0026,
          0.0024,
          0.0024,
          0.0024,
          0.0023,
          0.0022,
          0.0021,
          0.0021,
          0.002,
          0.002,
          0.0019,
          0.0019,
          0.0018,
          0.0018,
          0.0018,
          0.0018,
          0.0017,
          0.0017,
          0.0017,
          0.0017,
          0.0016,
          0.0016,
          0.0016,
          0.0015,
          0.0015,
          0.0014,
          0.0014,
          0.0013,
          0.0013,
          0.0013,
          0.0013,
          0.0013,
          0.0013,
          0.0012,
          0.0012,
          0.0012,
          0.0011,
          0.0011,
          0.0011,
          0.0011,
          0.0011,
          0.0011,
          0.001,
          0.001,
          0.001,
          0.001,
          0.001,
          0.001,
          0.001,
          0.001,
          0.001,
          0.001,
          0.0009,
          0.0009,
          0.0008,
          0.0008,
          0.0007,
          0.0006
         ],
         "textposition": "outside",
         "type": "bar",
         "uid": "363e9510-a0b4-4c67-a6b8-9d7f8cf240b4",
         "x": [
          0.11307885308078121,
          0.055708818762188896,
          0.055478466932733936,
          0.041389159819723874,
          0.040614099979672615,
          0.03670402139869759,
          0.03661522654101674,
          0.031383707356589775,
          0.029290515230199855,
          0.025927089466628812,
          0.025172456814234124,
          0.022466695226259603,
          0.022011939673462495,
          0.019120945851639003,
          0.018199589781210997,
          0.016853878709235586,
          0.016669107957856928,
          0.01607757464696414,
          0.01582248326831774,
          0.015460678625596993,
          0.01530855645281157,
          0.013168154181718022,
          0.012214217065919639,
          0.011637093120628614,
          0.011537506073203859,
          0.010345307683262061,
          0.010269132580592574,
          0.009760284510958377,
          0.009501234587094332,
          0.009463982286267736,
          0.008732069421647514,
          0.008663258093357565,
          0.008331851891184832,
          0.008189521724015473,
          0.008013276686713266,
          0.007897489610931743,
          0.007810115876604196,
          0.0076069811440865566,
          0.007493412294563138,
          0.0069761277936223635,
          0.0063436269507605725,
          0.005413156720599407,
          0.005050879093311478,
          0.004617449298155096,
          0.004322720841550082,
          0.004079922942263175,
          0.0039021106927981343,
          0.0035149709024714397,
          0.003311758558066527,
          0.00320829070538671,
          0.0029581507091041,
          0.002958078666221144,
          0.0029518923721122514,
          0.0029311935972276995,
          0.002841444812242715,
          0.0028279506787419646,
          0.002781268553803247,
          0.0027662724686046336,
          0.0026209598244282574,
          0.002568022261152913,
          0.002413325154506961,
          0.002374714585794355,
          0.002369173682500702,
          0.002327386845491771,
          0.002204134016242568,
          0.002141259632021686,
          0.0020765346792293365,
          0.002039733926362156,
          0.002009693902606189,
          0.0019133217868523528,
          0.0018762617752371858,
          0.0018349286473513758,
          0.0017920167812986352,
          0.0017796524503374568,
          0.0017661170157432728,
          0.0017416838917454192,
          0.0016979576522033475,
          0.001686125543239744,
          0.0016709983265643298,
          0.001602533723278481,
          0.001593838996903886,
          0.001558060164860577,
          0.001524711286619598,
          0.001459394789622356,
          0.0013558865777993764,
          0.0013528957919634887,
          0.001330072690189078,
          0.0013231000326363034,
          0.0013223473718547874,
          0.0013014682338509428,
          0.001295590471052946,
          0.001268566148892767,
          0.001249814675347257,
          0.0012244461891390884,
          0.0011850143976740587,
          0.0011493692269067442,
          0.001113803604375812,
          0.001113201310694104,
          0.001104251777948028,
          0.0010959990486493643,
          0.001073000227398005,
          0.0010428511303435168,
          0.0010315824794754802,
          0.0010264051008041352,
          0.0010186855172827855,
          0.0010056280686106952,
          0.0009965233775070601,
          0.0009914248886113905,
          0.0009823587733673246,
          0.0009678452948608708,
          0.0009585492962112668,
          0.0009288174005322167,
          0.000927264482245811,
          0.0008335406957860603,
          0.0007784711610046191,
          0.0006551239488984119,
          0.0006075385002765903
         ],
         "y": [
          "21",
          "89",
          "4",
          "2",
          "1",
          "29",
          "87",
          "41",
          "18",
          "30",
          "43",
          "59",
          "40",
          "60",
          "14",
          "42",
          "76",
          "104",
          "116",
          "22",
          "72",
          "12",
          "24",
          "31",
          "0",
          "27",
          "58",
          "10",
          "13",
          "28",
          "32",
          "45",
          "51",
          "46",
          "23",
          "36",
          "19",
          "73",
          "49",
          "16",
          "94",
          "112",
          "3",
          "78",
          "97",
          "15",
          "95",
          "17",
          "50",
          "26",
          "101",
          "8",
          "109",
          "62",
          "6",
          "11",
          "106",
          "100",
          "115",
          "96",
          "85",
          "93",
          "55",
          "33",
          "67",
          "47",
          "114",
          "66",
          "53",
          "37",
          "103",
          "99",
          "105",
          "110",
          "48",
          "56",
          "38",
          "102",
          "44",
          "54",
          "39",
          "108",
          "84",
          "69",
          "74",
          "5",
          "25",
          "111",
          "61",
          "63",
          "52",
          "70",
          "20",
          "71",
          "34",
          "75",
          "81",
          "86",
          "57",
          "65",
          "88",
          "98",
          "107",
          "113",
          "64",
          "79",
          "77",
          "80",
          "92",
          "7",
          "83",
          "91",
          "9",
          "35",
          "82",
          "68",
          "90"
         ]
        }
       ],
       "layout": {
        "autosize": false,
        "height": 1000,
        "width": 1000,
        "xaxis": {
         "tickfont": {
          "color": "black",
          "size": 12
         },
         "title": "Feature Importances"
        },
        "yaxis": {
         "automargin": true
        }
       }
      },
      "text/html": [
       "<div id=\"a78ba31e-6296-4ccd-9f89-85b331d638bb\" style=\"height: 1000px; width: 1000px;\" class=\"plotly-graph-div\"></div><script type=\"text/javascript\">require([\"plotly\"], function(Plotly) { window.PLOTLYENV=window.PLOTLYENV || {};window.PLOTLYENV.BASE_URL=\"https://plot.ly\";Plotly.newPlot(\"a78ba31e-6296-4ccd-9f89-85b331d638bb\", [{\"marker\": {\"color\": \"rgb(158,202,225)\", \"line\": {\"color\": \"rgb(8,48,107)\", \"width\": 1.5}}, \"opacity\": 0.6, \"orientation\": \"h\", \"text\": [0.1131, 0.0557, 0.0555, 0.0414, 0.0406, 0.0367, 0.0366, 0.0314, 0.0293, 0.0259, 0.0252, 0.0225, 0.022, 0.0191, 0.0182, 0.0169, 0.0167, 0.0161, 0.0158, 0.0155, 0.0153, 0.0132, 0.0122, 0.0116, 0.0115, 0.0103, 0.0103, 0.0098, 0.0095, 0.0095, 0.0087, 0.0087, 0.0083, 0.0082, 0.008, 0.0079, 0.0078, 0.0076, 0.0075, 0.007, 0.0063, 0.0054, 0.0051, 0.0046, 0.0043, 0.0041, 0.0039, 0.0035, 0.0033, 0.0032, 0.003, 0.003, 0.003, 0.0029, 0.0028, 0.0028, 0.0028, 0.0028, 0.0026, 0.0026, 0.0024, 0.0024, 0.0024, 0.0023, 0.0022, 0.0021, 0.0021, 0.002, 0.002, 0.0019, 0.0019, 0.0018, 0.0018, 0.0018, 0.0018, 0.0017, 0.0017, 0.0017, 0.0017, 0.0016, 0.0016, 0.0016, 0.0015, 0.0015, 0.0014, 0.0014, 0.0013, 0.0013, 0.0013, 0.0013, 0.0013, 0.0013, 0.0012, 0.0012, 0.0012, 0.0011, 0.0011, 0.0011, 0.0011, 0.0011, 0.0011, 0.001, 0.001, 0.001, 0.001, 0.001, 0.001, 0.001, 0.001, 0.001, 0.001, 0.0009, 0.0009, 0.0008, 0.0008, 0.0007, 0.0006], \"textposition\": \"outside\", \"x\": [0.11307885308078121, 0.055708818762188896, 0.055478466932733936, 0.041389159819723874, 0.040614099979672615, 0.03670402139869759, 0.03661522654101674, 0.031383707356589775, 0.029290515230199855, 0.025927089466628812, 0.025172456814234124, 0.022466695226259603, 0.022011939673462495, 0.019120945851639003, 0.018199589781210997, 0.016853878709235586, 0.016669107957856928, 0.01607757464696414, 0.01582248326831774, 0.015460678625596993, 0.01530855645281157, 0.013168154181718022, 0.012214217065919639, 0.011637093120628614, 0.011537506073203859, 0.010345307683262061, 0.010269132580592574, 0.009760284510958377, 0.009501234587094332, 0.009463982286267736, 0.008732069421647514, 0.008663258093357565, 0.008331851891184832, 0.008189521724015473, 0.008013276686713266, 0.007897489610931743, 0.007810115876604196, 0.0076069811440865566, 0.007493412294563138, 0.0069761277936223635, 0.0063436269507605725, 0.005413156720599407, 0.005050879093311478, 0.004617449298155096, 0.004322720841550082, 0.004079922942263175, 0.0039021106927981343, 0.0035149709024714397, 0.003311758558066527, 0.00320829070538671, 0.0029581507091041, 0.002958078666221144, 0.0029518923721122514, 0.0029311935972276995, 0.002841444812242715, 0.0028279506787419646, 0.002781268553803247, 0.0027662724686046336, 0.0026209598244282574, 0.002568022261152913, 0.002413325154506961, 0.002374714585794355, 0.002369173682500702, 0.002327386845491771, 0.002204134016242568, 0.002141259632021686, 0.0020765346792293365, 0.002039733926362156, 0.002009693902606189, 0.0019133217868523528, 0.0018762617752371858, 0.0018349286473513758, 0.0017920167812986352, 0.0017796524503374568, 0.0017661170157432728, 0.0017416838917454192, 0.0016979576522033475, 0.001686125543239744, 0.0016709983265643298, 0.001602533723278481, 0.001593838996903886, 0.001558060164860577, 0.001524711286619598, 0.001459394789622356, 0.0013558865777993764, 0.0013528957919634887, 0.001330072690189078, 0.0013231000326363034, 0.0013223473718547874, 0.0013014682338509428, 0.001295590471052946, 0.001268566148892767, 0.001249814675347257, 0.0012244461891390884, 0.0011850143976740587, 0.0011493692269067442, 0.001113803604375812, 0.001113201310694104, 0.001104251777948028, 0.0010959990486493643, 0.001073000227398005, 0.0010428511303435168, 0.0010315824794754802, 0.0010264051008041352, 0.0010186855172827855, 0.0010056280686106952, 0.0009965233775070601, 0.0009914248886113905, 0.0009823587733673246, 0.0009678452948608708, 0.0009585492962112668, 0.0009288174005322167, 0.000927264482245811, 0.0008335406957860603, 0.0007784711610046191, 0.0006551239488984119, 0.0006075385002765903], \"y\": [\"21\", \"89\", \"4\", \"2\", \"1\", \"29\", \"87\", \"41\", \"18\", \"30\", \"43\", \"59\", \"40\", \"60\", \"14\", \"42\", \"76\", \"104\", \"116\", \"22\", \"72\", \"12\", \"24\", \"31\", \"0\", \"27\", \"58\", \"10\", \"13\", \"28\", \"32\", \"45\", \"51\", \"46\", \"23\", \"36\", \"19\", \"73\", \"49\", \"16\", \"94\", \"112\", \"3\", \"78\", \"97\", \"15\", \"95\", \"17\", \"50\", \"26\", \"101\", \"8\", \"109\", \"62\", \"6\", \"11\", \"106\", \"100\", \"115\", \"96\", \"85\", \"93\", \"55\", \"33\", \"67\", \"47\", \"114\", \"66\", \"53\", \"37\", \"103\", \"99\", \"105\", \"110\", \"48\", \"56\", \"38\", \"102\", \"44\", \"54\", \"39\", \"108\", \"84\", \"69\", \"74\", \"5\", \"25\", \"111\", \"61\", \"63\", \"52\", \"70\", \"20\", \"71\", \"34\", \"75\", \"81\", \"86\", \"57\", \"65\", \"88\", \"98\", \"107\", \"113\", \"64\", \"79\", \"77\", \"80\", \"92\", \"7\", \"83\", \"91\", \"9\", \"35\", \"82\", \"68\", \"90\"], \"type\": \"bar\", \"uid\": \"363e9510-a0b4-4c67-a6b8-9d7f8cf240b4\"}], {\"autosize\": false, \"height\": 1000, \"width\": 1000, \"xaxis\": {\"tickfont\": {\"color\": \"black\", \"size\": 12}, \"title\": \"Feature Importances\"}, \"yaxis\": {\"automargin\": true}}, {\"showLink\": true, \"linkText\": \"Export to plot.ly\", \"plotlyServerURL\": \"https://plot.ly\"})});</script>"
      ],
      "text/vnd.plotly.v1+html": [
       "<div id=\"a78ba31e-6296-4ccd-9f89-85b331d638bb\" style=\"height: 1000px; width: 1000px;\" class=\"plotly-graph-div\"></div><script type=\"text/javascript\">require([\"plotly\"], function(Plotly) { window.PLOTLYENV=window.PLOTLYENV || {};window.PLOTLYENV.BASE_URL=\"https://plot.ly\";Plotly.newPlot(\"a78ba31e-6296-4ccd-9f89-85b331d638bb\", [{\"marker\": {\"color\": \"rgb(158,202,225)\", \"line\": {\"color\": \"rgb(8,48,107)\", \"width\": 1.5}}, \"opacity\": 0.6, \"orientation\": \"h\", \"text\": [0.1131, 0.0557, 0.0555, 0.0414, 0.0406, 0.0367, 0.0366, 0.0314, 0.0293, 0.0259, 0.0252, 0.0225, 0.022, 0.0191, 0.0182, 0.0169, 0.0167, 0.0161, 0.0158, 0.0155, 0.0153, 0.0132, 0.0122, 0.0116, 0.0115, 0.0103, 0.0103, 0.0098, 0.0095, 0.0095, 0.0087, 0.0087, 0.0083, 0.0082, 0.008, 0.0079, 0.0078, 0.0076, 0.0075, 0.007, 0.0063, 0.0054, 0.0051, 0.0046, 0.0043, 0.0041, 0.0039, 0.0035, 0.0033, 0.0032, 0.003, 0.003, 0.003, 0.0029, 0.0028, 0.0028, 0.0028, 0.0028, 0.0026, 0.0026, 0.0024, 0.0024, 0.0024, 0.0023, 0.0022, 0.0021, 0.0021, 0.002, 0.002, 0.0019, 0.0019, 0.0018, 0.0018, 0.0018, 0.0018, 0.0017, 0.0017, 0.0017, 0.0017, 0.0016, 0.0016, 0.0016, 0.0015, 0.0015, 0.0014, 0.0014, 0.0013, 0.0013, 0.0013, 0.0013, 0.0013, 0.0013, 0.0012, 0.0012, 0.0012, 0.0011, 0.0011, 0.0011, 0.0011, 0.0011, 0.0011, 0.001, 0.001, 0.001, 0.001, 0.001, 0.001, 0.001, 0.001, 0.001, 0.001, 0.0009, 0.0009, 0.0008, 0.0008, 0.0007, 0.0006], \"textposition\": \"outside\", \"x\": [0.11307885308078121, 0.055708818762188896, 0.055478466932733936, 0.041389159819723874, 0.040614099979672615, 0.03670402139869759, 0.03661522654101674, 0.031383707356589775, 0.029290515230199855, 0.025927089466628812, 0.025172456814234124, 0.022466695226259603, 0.022011939673462495, 0.019120945851639003, 0.018199589781210997, 0.016853878709235586, 0.016669107957856928, 0.01607757464696414, 0.01582248326831774, 0.015460678625596993, 0.01530855645281157, 0.013168154181718022, 0.012214217065919639, 0.011637093120628614, 0.011537506073203859, 0.010345307683262061, 0.010269132580592574, 0.009760284510958377, 0.009501234587094332, 0.009463982286267736, 0.008732069421647514, 0.008663258093357565, 0.008331851891184832, 0.008189521724015473, 0.008013276686713266, 0.007897489610931743, 0.007810115876604196, 0.0076069811440865566, 0.007493412294563138, 0.0069761277936223635, 0.0063436269507605725, 0.005413156720599407, 0.005050879093311478, 0.004617449298155096, 0.004322720841550082, 0.004079922942263175, 0.0039021106927981343, 0.0035149709024714397, 0.003311758558066527, 0.00320829070538671, 0.0029581507091041, 0.002958078666221144, 0.0029518923721122514, 0.0029311935972276995, 0.002841444812242715, 0.0028279506787419646, 0.002781268553803247, 0.0027662724686046336, 0.0026209598244282574, 0.002568022261152913, 0.002413325154506961, 0.002374714585794355, 0.002369173682500702, 0.002327386845491771, 0.002204134016242568, 0.002141259632021686, 0.0020765346792293365, 0.002039733926362156, 0.002009693902606189, 0.0019133217868523528, 0.0018762617752371858, 0.0018349286473513758, 0.0017920167812986352, 0.0017796524503374568, 0.0017661170157432728, 0.0017416838917454192, 0.0016979576522033475, 0.001686125543239744, 0.0016709983265643298, 0.001602533723278481, 0.001593838996903886, 0.001558060164860577, 0.001524711286619598, 0.001459394789622356, 0.0013558865777993764, 0.0013528957919634887, 0.001330072690189078, 0.0013231000326363034, 0.0013223473718547874, 0.0013014682338509428, 0.001295590471052946, 0.001268566148892767, 0.001249814675347257, 0.0012244461891390884, 0.0011850143976740587, 0.0011493692269067442, 0.001113803604375812, 0.001113201310694104, 0.001104251777948028, 0.0010959990486493643, 0.001073000227398005, 0.0010428511303435168, 0.0010315824794754802, 0.0010264051008041352, 0.0010186855172827855, 0.0010056280686106952, 0.0009965233775070601, 0.0009914248886113905, 0.0009823587733673246, 0.0009678452948608708, 0.0009585492962112668, 0.0009288174005322167, 0.000927264482245811, 0.0008335406957860603, 0.0007784711610046191, 0.0006551239488984119, 0.0006075385002765903], \"y\": [\"21\", \"89\", \"4\", \"2\", \"1\", \"29\", \"87\", \"41\", \"18\", \"30\", \"43\", \"59\", \"40\", \"60\", \"14\", \"42\", \"76\", \"104\", \"116\", \"22\", \"72\", \"12\", \"24\", \"31\", \"0\", \"27\", \"58\", \"10\", \"13\", \"28\", \"32\", \"45\", \"51\", \"46\", \"23\", \"36\", \"19\", \"73\", \"49\", \"16\", \"94\", \"112\", \"3\", \"78\", \"97\", \"15\", \"95\", \"17\", \"50\", \"26\", \"101\", \"8\", \"109\", \"62\", \"6\", \"11\", \"106\", \"100\", \"115\", \"96\", \"85\", \"93\", \"55\", \"33\", \"67\", \"47\", \"114\", \"66\", \"53\", \"37\", \"103\", \"99\", \"105\", \"110\", \"48\", \"56\", \"38\", \"102\", \"44\", \"54\", \"39\", \"108\", \"84\", \"69\", \"74\", \"5\", \"25\", \"111\", \"61\", \"63\", \"52\", \"70\", \"20\", \"71\", \"34\", \"75\", \"81\", \"86\", \"57\", \"65\", \"88\", \"98\", \"107\", \"113\", \"64\", \"79\", \"77\", \"80\", \"92\", \"7\", \"83\", \"91\", \"9\", \"35\", \"82\", \"68\", \"90\"], \"type\": \"bar\", \"uid\": \"363e9510-a0b4-4c67-a6b8-9d7f8cf240b4\"}], {\"autosize\": false, \"height\": 1000, \"width\": 1000, \"xaxis\": {\"tickfont\": {\"color\": \"black\", \"size\": 12}, \"title\": \"Feature Importances\"}, \"yaxis\": {\"automargin\": true}}, {\"showLink\": true, \"linkText\": \"Export to plot.ly\", \"plotlyServerURL\": \"https://plot.ly\"})});</script>"
      ]
     },
     "metadata": {},
     "output_type": "display_data"
    },
    {
     "name": "stdout",
     "output_type": "stream",
     "text": [
      "\n",
      "\n",
      "\u001b[1mAdaoost Classifier\u001b[0m\n",
      "Accuracy of the model for training data is: 0.916257769055\n",
      "Confusion Matrix for training data is:\n"
     ]
    },
    {
     "data": {
      "text/plain": [
       "Predicted  False  True  __all__\n",
       "Actual                         \n",
       "False      32300   134    32434\n",
       "True        2938  1312     4250\n",
       "__all__    35238  1446    36684"
      ]
     },
     "metadata": {},
     "output_type": "display_data"
    },
    {
     "name": "stdout",
     "output_type": "stream",
     "text": [
      "Accuracy of the model for test data is: 0.830789358918\n",
      "Confusion Matrix for test data is:\n"
     ]
    },
    {
     "data": {
      "text/plain": [
       "Predicted  False  True  __all__\n",
       "Actual                         \n",
       "False       7369    32     7401\n",
       "True        1520   251     1771\n",
       "__all__     8889   283     9172"
      ]
     },
     "metadata": {},
     "output_type": "display_data"
    },
    {
     "data": {
      "application/vnd.plotly.v1+json": {
       "config": {
        "linkText": "Export to plot.ly",
        "plotlyServerURL": "https://plot.ly",
        "showLink": true
       },
       "data": [
        {
         "marker": {
          "color": "rgb(158,202,225)",
          "line": {
           "color": "rgb(8,48,107)",
           "width": 1.5
          }
         },
         "opacity": 0.6,
         "orientation": "h",
         "text": [
          0.06,
          0.06,
          0.06,
          0.04,
          0.04,
          0.04,
          0.04,
          0.04,
          0.02,
          0.02,
          0.02,
          0.02,
          0.02,
          0.02,
          0.02,
          0.02,
          0.02,
          0.02,
          0.02,
          0.02,
          0.02,
          0.02,
          0.02,
          0.02,
          0.02,
          0.02,
          0.02,
          0.02,
          0.02,
          0.02,
          0.02,
          0.02,
          0.02,
          0.02,
          0.02,
          0.02,
          0.02,
          0.02,
          0.02,
          0,
          0,
          0,
          0,
          0,
          0,
          0,
          0,
          0,
          0,
          0,
          0,
          0,
          0,
          0,
          0,
          0,
          0,
          0,
          0,
          0,
          0,
          0,
          0,
          0,
          0,
          0,
          0,
          0,
          0,
          0,
          0,
          0,
          0,
          0,
          0,
          0,
          0,
          0,
          0,
          0,
          0,
          0,
          0,
          0,
          0,
          0,
          0,
          0,
          0,
          0,
          0,
          0,
          0,
          0,
          0,
          0,
          0,
          0,
          0,
          0,
          0,
          0,
          0,
          0,
          0,
          0,
          0,
          0,
          0,
          0,
          0,
          0,
          0,
          0,
          0,
          0,
          0
         ],
         "textposition": "outside",
         "type": "bar",
         "uid": "e07403d2-cca4-459b-80fe-46604a655fb0",
         "x": [
          0.06,
          0.06,
          0.06,
          0.04,
          0.04,
          0.04,
          0.04,
          0.04,
          0.02,
          0.02,
          0.02,
          0.02,
          0.02,
          0.02,
          0.02,
          0.02,
          0.02,
          0.02,
          0.02,
          0.02,
          0.02,
          0.02,
          0.02,
          0.02,
          0.02,
          0.02,
          0.02,
          0.02,
          0.02,
          0.02,
          0.02,
          0.02,
          0.02,
          0.02,
          0.02,
          0.02,
          0.02,
          0.02,
          0.02,
          0,
          0,
          0,
          0,
          0,
          0,
          0,
          0,
          0,
          0,
          0,
          0,
          0,
          0,
          0,
          0,
          0,
          0,
          0,
          0,
          0,
          0,
          0,
          0,
          0,
          0,
          0,
          0,
          0,
          0,
          0,
          0,
          0,
          0,
          0,
          0,
          0,
          0,
          0,
          0,
          0,
          0,
          0,
          0,
          0,
          0,
          0,
          0,
          0,
          0,
          0,
          0,
          0,
          0,
          0,
          0,
          0,
          0,
          0,
          0,
          0,
          0,
          0,
          0,
          0,
          0,
          0,
          0,
          0,
          0,
          0,
          0,
          0,
          0,
          0,
          0,
          0,
          0
         ],
         "y": [
          "0",
          "14",
          "102",
          "23",
          "38",
          "114",
          "32",
          "6",
          "62",
          "1",
          "57",
          "53",
          "56",
          "65",
          "52",
          "51",
          "43",
          "64",
          "72",
          "68",
          "70",
          "83",
          "84",
          "85",
          "97",
          "99",
          "105",
          "106",
          "107",
          "115",
          "37",
          "58",
          "10",
          "21",
          "27",
          "8",
          "19",
          "28",
          "24",
          "89",
          "94",
          "93",
          "92",
          "91",
          "90",
          "88",
          "87",
          "86",
          "11",
          "12",
          "13",
          "82",
          "81",
          "80",
          "79",
          "95",
          "31",
          "96",
          "77",
          "2",
          "3",
          "113",
          "112",
          "111",
          "110",
          "109",
          "108",
          "4",
          "5",
          "7",
          "104",
          "103",
          "101",
          "100",
          "9",
          "98",
          "78",
          "74",
          "76",
          "42",
          "50",
          "49",
          "48",
          "47",
          "46",
          "45",
          "44",
          "41",
          "25",
          "40",
          "39",
          "29",
          "30",
          "36",
          "35",
          "34",
          "26",
          "54",
          "75",
          "67",
          "33",
          "73",
          "15",
          "71",
          "16",
          "69",
          "17",
          "66",
          "55",
          "18",
          "63",
          "20",
          "61",
          "60",
          "59",
          "22",
          "116"
         ]
        }
       ],
       "layout": {
        "autosize": false,
        "height": 1000,
        "width": 1000,
        "xaxis": {
         "tickfont": {
          "color": "black",
          "size": 12
         },
         "title": "Feature Importances"
        },
        "yaxis": {
         "automargin": true
        }
       }
      },
      "text/html": [
       "<div id=\"7b71d72d-cb4d-490a-bf37-b4f7262685ab\" style=\"height: 1000px; width: 1000px;\" class=\"plotly-graph-div\"></div><script type=\"text/javascript\">require([\"plotly\"], function(Plotly) { window.PLOTLYENV=window.PLOTLYENV || {};window.PLOTLYENV.BASE_URL=\"https://plot.ly\";Plotly.newPlot(\"7b71d72d-cb4d-490a-bf37-b4f7262685ab\", [{\"marker\": {\"color\": \"rgb(158,202,225)\", \"line\": {\"color\": \"rgb(8,48,107)\", \"width\": 1.5}}, \"opacity\": 0.6, \"orientation\": \"h\", \"text\": [0.06, 0.06, 0.06, 0.04, 0.04, 0.04, 0.04, 0.04, 0.02, 0.02, 0.02, 0.02, 0.02, 0.02, 0.02, 0.02, 0.02, 0.02, 0.02, 0.02, 0.02, 0.02, 0.02, 0.02, 0.02, 0.02, 0.02, 0.02, 0.02, 0.02, 0.02, 0.02, 0.02, 0.02, 0.02, 0.02, 0.02, 0.02, 0.02, 0.0, 0.0, 0.0, 0.0, 0.0, 0.0, 0.0, 0.0, 0.0, 0.0, 0.0, 0.0, 0.0, 0.0, 0.0, 0.0, 0.0, 0.0, 0.0, 0.0, 0.0, 0.0, 0.0, 0.0, 0.0, 0.0, 0.0, 0.0, 0.0, 0.0, 0.0, 0.0, 0.0, 0.0, 0.0, 0.0, 0.0, 0.0, 0.0, 0.0, 0.0, 0.0, 0.0, 0.0, 0.0, 0.0, 0.0, 0.0, 0.0, 0.0, 0.0, 0.0, 0.0, 0.0, 0.0, 0.0, 0.0, 0.0, 0.0, 0.0, 0.0, 0.0, 0.0, 0.0, 0.0, 0.0, 0.0, 0.0, 0.0, 0.0, 0.0, 0.0, 0.0, 0.0, 0.0, 0.0, 0.0, 0.0], \"textposition\": \"outside\", \"x\": [0.06, 0.06, 0.06, 0.04, 0.04, 0.04, 0.04, 0.04, 0.02, 0.02, 0.02, 0.02, 0.02, 0.02, 0.02, 0.02, 0.02, 0.02, 0.02, 0.02, 0.02, 0.02, 0.02, 0.02, 0.02, 0.02, 0.02, 0.02, 0.02, 0.02, 0.02, 0.02, 0.02, 0.02, 0.02, 0.02, 0.02, 0.02, 0.02, 0.0, 0.0, 0.0, 0.0, 0.0, 0.0, 0.0, 0.0, 0.0, 0.0, 0.0, 0.0, 0.0, 0.0, 0.0, 0.0, 0.0, 0.0, 0.0, 0.0, 0.0, 0.0, 0.0, 0.0, 0.0, 0.0, 0.0, 0.0, 0.0, 0.0, 0.0, 0.0, 0.0, 0.0, 0.0, 0.0, 0.0, 0.0, 0.0, 0.0, 0.0, 0.0, 0.0, 0.0, 0.0, 0.0, 0.0, 0.0, 0.0, 0.0, 0.0, 0.0, 0.0, 0.0, 0.0, 0.0, 0.0, 0.0, 0.0, 0.0, 0.0, 0.0, 0.0, 0.0, 0.0, 0.0, 0.0, 0.0, 0.0, 0.0, 0.0, 0.0, 0.0, 0.0, 0.0, 0.0, 0.0, 0.0], \"y\": [\"0\", \"14\", \"102\", \"23\", \"38\", \"114\", \"32\", \"6\", \"62\", \"1\", \"57\", \"53\", \"56\", \"65\", \"52\", \"51\", \"43\", \"64\", \"72\", \"68\", \"70\", \"83\", \"84\", \"85\", \"97\", \"99\", \"105\", \"106\", \"107\", \"115\", \"37\", \"58\", \"10\", \"21\", \"27\", \"8\", \"19\", \"28\", \"24\", \"89\", \"94\", \"93\", \"92\", \"91\", \"90\", \"88\", \"87\", \"86\", \"11\", \"12\", \"13\", \"82\", \"81\", \"80\", \"79\", \"95\", \"31\", \"96\", \"77\", \"2\", \"3\", \"113\", \"112\", \"111\", \"110\", \"109\", \"108\", \"4\", \"5\", \"7\", \"104\", \"103\", \"101\", \"100\", \"9\", \"98\", \"78\", \"74\", \"76\", \"42\", \"50\", \"49\", \"48\", \"47\", \"46\", \"45\", \"44\", \"41\", \"25\", \"40\", \"39\", \"29\", \"30\", \"36\", \"35\", \"34\", \"26\", \"54\", \"75\", \"67\", \"33\", \"73\", \"15\", \"71\", \"16\", \"69\", \"17\", \"66\", \"55\", \"18\", \"63\", \"20\", \"61\", \"60\", \"59\", \"22\", \"116\"], \"type\": \"bar\", \"uid\": \"e07403d2-cca4-459b-80fe-46604a655fb0\"}], {\"autosize\": false, \"height\": 1000, \"width\": 1000, \"xaxis\": {\"tickfont\": {\"color\": \"black\", \"size\": 12}, \"title\": \"Feature Importances\"}, \"yaxis\": {\"automargin\": true}}, {\"showLink\": true, \"linkText\": \"Export to plot.ly\", \"plotlyServerURL\": \"https://plot.ly\"})});</script>"
      ],
      "text/vnd.plotly.v1+html": [
       "<div id=\"7b71d72d-cb4d-490a-bf37-b4f7262685ab\" style=\"height: 1000px; width: 1000px;\" class=\"plotly-graph-div\"></div><script type=\"text/javascript\">require([\"plotly\"], function(Plotly) { window.PLOTLYENV=window.PLOTLYENV || {};window.PLOTLYENV.BASE_URL=\"https://plot.ly\";Plotly.newPlot(\"7b71d72d-cb4d-490a-bf37-b4f7262685ab\", [{\"marker\": {\"color\": \"rgb(158,202,225)\", \"line\": {\"color\": \"rgb(8,48,107)\", \"width\": 1.5}}, \"opacity\": 0.6, \"orientation\": \"h\", \"text\": [0.06, 0.06, 0.06, 0.04, 0.04, 0.04, 0.04, 0.04, 0.02, 0.02, 0.02, 0.02, 0.02, 0.02, 0.02, 0.02, 0.02, 0.02, 0.02, 0.02, 0.02, 0.02, 0.02, 0.02, 0.02, 0.02, 0.02, 0.02, 0.02, 0.02, 0.02, 0.02, 0.02, 0.02, 0.02, 0.02, 0.02, 0.02, 0.02, 0.0, 0.0, 0.0, 0.0, 0.0, 0.0, 0.0, 0.0, 0.0, 0.0, 0.0, 0.0, 0.0, 0.0, 0.0, 0.0, 0.0, 0.0, 0.0, 0.0, 0.0, 0.0, 0.0, 0.0, 0.0, 0.0, 0.0, 0.0, 0.0, 0.0, 0.0, 0.0, 0.0, 0.0, 0.0, 0.0, 0.0, 0.0, 0.0, 0.0, 0.0, 0.0, 0.0, 0.0, 0.0, 0.0, 0.0, 0.0, 0.0, 0.0, 0.0, 0.0, 0.0, 0.0, 0.0, 0.0, 0.0, 0.0, 0.0, 0.0, 0.0, 0.0, 0.0, 0.0, 0.0, 0.0, 0.0, 0.0, 0.0, 0.0, 0.0, 0.0, 0.0, 0.0, 0.0, 0.0, 0.0, 0.0], \"textposition\": \"outside\", \"x\": [0.06, 0.06, 0.06, 0.04, 0.04, 0.04, 0.04, 0.04, 0.02, 0.02, 0.02, 0.02, 0.02, 0.02, 0.02, 0.02, 0.02, 0.02, 0.02, 0.02, 0.02, 0.02, 0.02, 0.02, 0.02, 0.02, 0.02, 0.02, 0.02, 0.02, 0.02, 0.02, 0.02, 0.02, 0.02, 0.02, 0.02, 0.02, 0.02, 0.0, 0.0, 0.0, 0.0, 0.0, 0.0, 0.0, 0.0, 0.0, 0.0, 0.0, 0.0, 0.0, 0.0, 0.0, 0.0, 0.0, 0.0, 0.0, 0.0, 0.0, 0.0, 0.0, 0.0, 0.0, 0.0, 0.0, 0.0, 0.0, 0.0, 0.0, 0.0, 0.0, 0.0, 0.0, 0.0, 0.0, 0.0, 0.0, 0.0, 0.0, 0.0, 0.0, 0.0, 0.0, 0.0, 0.0, 0.0, 0.0, 0.0, 0.0, 0.0, 0.0, 0.0, 0.0, 0.0, 0.0, 0.0, 0.0, 0.0, 0.0, 0.0, 0.0, 0.0, 0.0, 0.0, 0.0, 0.0, 0.0, 0.0, 0.0, 0.0, 0.0, 0.0, 0.0, 0.0, 0.0, 0.0], \"y\": [\"0\", \"14\", \"102\", \"23\", \"38\", \"114\", \"32\", \"6\", \"62\", \"1\", \"57\", \"53\", \"56\", \"65\", \"52\", \"51\", \"43\", \"64\", \"72\", \"68\", \"70\", \"83\", \"84\", \"85\", \"97\", \"99\", \"105\", \"106\", \"107\", \"115\", \"37\", \"58\", \"10\", \"21\", \"27\", \"8\", \"19\", \"28\", \"24\", \"89\", \"94\", \"93\", \"92\", \"91\", \"90\", \"88\", \"87\", \"86\", \"11\", \"12\", \"13\", \"82\", \"81\", \"80\", \"79\", \"95\", \"31\", \"96\", \"77\", \"2\", \"3\", \"113\", \"112\", \"111\", \"110\", \"109\", \"108\", \"4\", \"5\", \"7\", \"104\", \"103\", \"101\", \"100\", \"9\", \"98\", \"78\", \"74\", \"76\", \"42\", \"50\", \"49\", \"48\", \"47\", \"46\", \"45\", \"44\", \"41\", \"25\", \"40\", \"39\", \"29\", \"30\", \"36\", \"35\", \"34\", \"26\", \"54\", \"75\", \"67\", \"33\", \"73\", \"15\", \"71\", \"16\", \"69\", \"17\", \"66\", \"55\", \"18\", \"63\", \"20\", \"61\", \"60\", \"59\", \"22\", \"116\"], \"type\": \"bar\", \"uid\": \"e07403d2-cca4-459b-80fe-46604a655fb0\"}], {\"autosize\": false, \"height\": 1000, \"width\": 1000, \"xaxis\": {\"tickfont\": {\"color\": \"black\", \"size\": 12}, \"title\": \"Feature Importances\"}, \"yaxis\": {\"automargin\": true}}, {\"showLink\": true, \"linkText\": \"Export to plot.ly\", \"plotlyServerURL\": \"https://plot.ly\"})});</script>"
      ]
     },
     "metadata": {},
     "output_type": "display_data"
    },
    {
     "name": "stdout",
     "output_type": "stream",
     "text": [
      "\n",
      "\n",
      "\u001b[1mGradientBoosting Classifier\u001b[0m\n",
      "Accuracy of the model for training data is: 0.920046886926\n",
      "Confusion Matrix for training data is:\n"
     ]
    },
    {
     "data": {
      "text/plain": [
       "Predicted  False  True  __all__\n",
       "Actual                         \n",
       "False      32362    72    32434\n",
       "True        2861  1389     4250\n",
       "__all__    35223  1461    36684"
      ]
     },
     "metadata": {},
     "output_type": "display_data"
    },
    {
     "name": "stdout",
     "output_type": "stream",
     "text": [
      "Accuracy of the model for test data is: 0.831770606193\n",
      "Confusion Matrix for test data is:\n"
     ]
    },
    {
     "data": {
      "text/plain": [
       "Predicted  False  True  __all__\n",
       "Actual                         \n",
       "False       7371    30     7401\n",
       "True        1513   258     1771\n",
       "__all__     8884   288     9172"
      ]
     },
     "metadata": {},
     "output_type": "display_data"
    },
    {
     "data": {
      "application/vnd.plotly.v1+json": {
       "config": {
        "linkText": "Export to plot.ly",
        "plotlyServerURL": "https://plot.ly",
        "showLink": true
       },
       "data": [
        {
         "marker": {
          "color": "rgb(158,202,225)",
          "line": {
           "color": "rgb(8,48,107)",
           "width": 1.5
          }
         },
         "opacity": 0.6,
         "orientation": "h",
         "text": [
          0.4767,
          0.1543,
          0.0922,
          0.0562,
          0.0241,
          0.0212,
          0.0207,
          0.0159,
          0.011,
          0.0098,
          0.008,
          0.007,
          0.0056,
          0.0054,
          0.0053,
          0.0053,
          0.0052,
          0.0047,
          0.0043,
          0.0041,
          0.0041,
          0.0038,
          0.0038,
          0.0036,
          0.0036,
          0.0031,
          0.0031,
          0.0028,
          0.0027,
          0.0024,
          0.0023,
          0.0021,
          0.0019,
          0.0018,
          0.0017,
          0.0016,
          0.0016,
          0.0016,
          0.0015,
          0.0012,
          0.0012,
          0.0011,
          0.001,
          0.0008,
          0.0007,
          0.0006,
          0.0006,
          0.0006,
          0.0006,
          0.0005,
          0.0005,
          0.0004,
          0.0003,
          0.0003,
          0.0003,
          0.0003,
          0.0003,
          0.0002,
          0.0002,
          0.0002,
          0.0001,
          0.0001,
          0.0001,
          0.0001,
          0.0001,
          0.0001,
          0.0001,
          0.0001,
          0.0001,
          0.0001,
          0.0001,
          0.0001,
          0.0001,
          0.0001,
          0.0001,
          0.0001,
          0.0001,
          0.0001,
          0.0001,
          0.0001,
          0.0001,
          0,
          0,
          0,
          0,
          0,
          0,
          0,
          0,
          0,
          0,
          0,
          0,
          0,
          0,
          0,
          0,
          0,
          0,
          0,
          0,
          0,
          0,
          0,
          0,
          0,
          0,
          0,
          0,
          0,
          0,
          0,
          0,
          0,
          0,
          0,
          0
         ],
         "textposition": "outside",
         "type": "bar",
         "uid": "02819d62-b0c7-4655-8996-fea47122a592",
         "x": [
          0.4767237574626159,
          0.15430050168508877,
          0.09221410931247488,
          0.05615818927368642,
          0.024148485654378965,
          0.021212385239651646,
          0.020684863110493674,
          0.01591304428557032,
          0.011037909919268396,
          0.009754752481591038,
          0.008043012131304131,
          0.006953042391838716,
          0.005554421310410997,
          0.005449690005280701,
          0.005326758585988757,
          0.005285302260325699,
          0.0051579325658937985,
          0.0046836684821172205,
          0.004277176089623913,
          0.00413588719046802,
          0.004065043944608579,
          0.0038380116295035588,
          0.003830890619041214,
          0.003644572103417438,
          0.0035526984849010433,
          0.0031028041676458263,
          0.003081162397087028,
          0.0028293429377515265,
          0.002709406106539022,
          0.0024379596195191265,
          0.002264043364384102,
          0.0020737889756386493,
          0.0018917533668369622,
          0.0018300782397522196,
          0.001725397530276472,
          0.0016179735544062863,
          0.0016063299179896893,
          0.001551522783655639,
          0.0014503810199386694,
          0.0011683847570510052,
          0.0011507221052398959,
          0.001067903763869387,
          0.0009971752914295867,
          0.0008409343883916324,
          0.0007477563436806137,
          0.000622286546990404,
          0.0005880625728650487,
          0.0005853090170461361,
          0.0005781949897137655,
          0.0005161490166888329,
          0.00046823253970945054,
          0.00042371984972242667,
          0.0003053815103229752,
          0.0002924448343802863,
          0.00028399332699350185,
          0.0002799364979010526,
          0.00025530614109676596,
          0.0002459959463460565,
          0.00017034338048100843,
          0.00016292404989093063,
          0.00014515522463449303,
          0.00013352084916149148,
          0.0001332393036243553,
          0.00012258439991304703,
          0.00012101309162293568,
          0.00012086574578843715,
          0.00011498476030048697,
          0.0001022712250307609,
          9.058512875506904e-05,
          9.021988009149736e-05,
          8.240409005888235e-05,
          8.155189484874688e-05,
          8.082050493611063e-05,
          7.6715726444923e-05,
          6.47038121985987e-05,
          6.165163983641986e-05,
          6.022601112133159e-05,
          5.8950683136296314e-05,
          5.886034364628698e-05,
          5.634841588998464e-05,
          5.562612559038245e-05,
          3.959274593357117e-05,
          3.863429483083236e-05,
          2.8347837485709693e-05,
          2.723250528751543e-05,
          2.5400247585863484e-05,
          2.1833779550593764e-05,
          1.6057061145189903e-05,
          1.3510880957253416e-05,
          5.874848641923838e-06,
          2.0098711753727684e-06,
          0,
          0,
          0,
          0,
          0,
          0,
          0,
          0,
          0,
          0,
          0,
          0,
          0,
          0,
          0,
          0,
          0,
          0,
          0,
          0,
          0,
          0,
          0,
          0,
          0,
          0
         ],
         "y": [
          "0",
          "16",
          "24",
          "41",
          "73",
          "50",
          "36",
          "28",
          "52",
          "29",
          "1",
          "15",
          "3",
          "5",
          "65",
          "23",
          "4",
          "6",
          "26",
          "106",
          "18",
          "21",
          "116",
          "115",
          "94",
          "55",
          "70",
          "12",
          "96",
          "45",
          "38",
          "14",
          "8",
          "43",
          "87",
          "97",
          "101",
          "54",
          "32",
          "72",
          "68",
          "30",
          "39",
          "59",
          "25",
          "113",
          "78",
          "62",
          "2",
          "104",
          "112",
          "47",
          "10",
          "98",
          "31",
          "17",
          "44",
          "7",
          "74",
          "71",
          "51",
          "48",
          "13",
          "92",
          "37",
          "49",
          "33",
          "107",
          "103",
          "58",
          "34",
          "9",
          "66",
          "64",
          "27",
          "90",
          "102",
          "89",
          "57",
          "19",
          "75",
          "42",
          "109",
          "88",
          "111",
          "76",
          "100",
          "35",
          "105",
          "93",
          "85",
          "40",
          "99",
          "46",
          "108",
          "110",
          "11",
          "114",
          "20",
          "53",
          "56",
          "67",
          "77",
          "63",
          "79",
          "80",
          "81",
          "82",
          "83",
          "84",
          "86",
          "61",
          "91",
          "60",
          "69",
          "95",
          "22"
         ]
        }
       ],
       "layout": {
        "autosize": false,
        "height": 1000,
        "width": 1000,
        "xaxis": {
         "tickfont": {
          "color": "black",
          "size": 12
         },
         "title": "Feature Importances"
        },
        "yaxis": {
         "automargin": true
        }
       }
      },
      "text/html": [
       "<div id=\"08494102-adf1-4b57-91a0-5aa0f8483099\" style=\"height: 1000px; width: 1000px;\" class=\"plotly-graph-div\"></div><script type=\"text/javascript\">require([\"plotly\"], function(Plotly) { window.PLOTLYENV=window.PLOTLYENV || {};window.PLOTLYENV.BASE_URL=\"https://plot.ly\";Plotly.newPlot(\"08494102-adf1-4b57-91a0-5aa0f8483099\", [{\"marker\": {\"color\": \"rgb(158,202,225)\", \"line\": {\"color\": \"rgb(8,48,107)\", \"width\": 1.5}}, \"opacity\": 0.6, \"orientation\": \"h\", \"text\": [0.4767, 0.1543, 0.0922, 0.0562, 0.0241, 0.0212, 0.0207, 0.0159, 0.011, 0.0098, 0.008, 0.007, 0.0056, 0.0054, 0.0053, 0.0053, 0.0052, 0.0047, 0.0043, 0.0041, 0.0041, 0.0038, 0.0038, 0.0036, 0.0036, 0.0031, 0.0031, 0.0028, 0.0027, 0.0024, 0.0023, 0.0021, 0.0019, 0.0018, 0.0017, 0.0016, 0.0016, 0.0016, 0.0015, 0.0012, 0.0012, 0.0011, 0.001, 0.0008, 0.0007, 0.0006, 0.0006, 0.0006, 0.0006, 0.0005, 0.0005, 0.0004, 0.0003, 0.0003, 0.0003, 0.0003, 0.0003, 0.0002, 0.0002, 0.0002, 0.0001, 0.0001, 0.0001, 0.0001, 0.0001, 0.0001, 0.0001, 0.0001, 0.0001, 0.0001, 0.0001, 0.0001, 0.0001, 0.0001, 0.0001, 0.0001, 0.0001, 0.0001, 0.0001, 0.0001, 0.0001, 0.0, 0.0, 0.0, 0.0, 0.0, 0.0, 0.0, 0.0, 0.0, 0.0, 0.0, 0.0, 0.0, 0.0, 0.0, 0.0, 0.0, 0.0, 0.0, 0.0, 0.0, 0.0, 0.0, 0.0, 0.0, 0.0, 0.0, 0.0, 0.0, 0.0, 0.0, 0.0, 0.0, 0.0, 0.0, 0.0], \"textposition\": \"outside\", \"x\": [0.4767237574626159, 0.15430050168508877, 0.09221410931247488, 0.05615818927368642, 0.024148485654378965, 0.021212385239651646, 0.020684863110493674, 0.01591304428557032, 0.011037909919268396, 0.009754752481591038, 0.008043012131304131, 0.006953042391838716, 0.005554421310410997, 0.005449690005280701, 0.005326758585988757, 0.005285302260325699, 0.0051579325658937985, 0.0046836684821172205, 0.004277176089623913, 0.00413588719046802, 0.004065043944608579, 0.0038380116295035588, 0.003830890619041214, 0.003644572103417438, 0.0035526984849010433, 0.0031028041676458263, 0.003081162397087028, 0.0028293429377515265, 0.002709406106539022, 0.0024379596195191265, 0.002264043364384102, 0.0020737889756386493, 0.0018917533668369622, 0.0018300782397522196, 0.001725397530276472, 0.0016179735544062863, 0.0016063299179896893, 0.001551522783655639, 0.0014503810199386694, 0.0011683847570510052, 0.0011507221052398959, 0.001067903763869387, 0.0009971752914295867, 0.0008409343883916324, 0.0007477563436806137, 0.000622286546990404, 0.0005880625728650487, 0.0005853090170461361, 0.0005781949897137655, 0.0005161490166888329, 0.00046823253970945054, 0.00042371984972242667, 0.0003053815103229752, 0.0002924448343802863, 0.00028399332699350185, 0.0002799364979010526, 0.00025530614109676596, 0.0002459959463460565, 0.00017034338048100843, 0.00016292404989093063, 0.00014515522463449303, 0.00013352084916149148, 0.0001332393036243553, 0.00012258439991304703, 0.00012101309162293568, 0.00012086574578843715, 0.00011498476030048697, 0.0001022712250307609, 9.058512875506904e-05, 9.021988009149736e-05, 8.240409005888235e-05, 8.155189484874688e-05, 8.082050493611063e-05, 7.6715726444923e-05, 6.47038121985987e-05, 6.165163983641986e-05, 6.022601112133159e-05, 5.8950683136296314e-05, 5.886034364628698e-05, 5.634841588998464e-05, 5.562612559038245e-05, 3.959274593357117e-05, 3.863429483083236e-05, 2.8347837485709693e-05, 2.723250528751543e-05, 2.5400247585863484e-05, 2.1833779550593764e-05, 1.6057061145189903e-05, 1.3510880957253416e-05, 5.874848641923838e-06, 2.0098711753727684e-06, 0.0, 0.0, 0.0, 0.0, 0.0, 0.0, 0.0, 0.0, 0.0, 0.0, 0.0, 0.0, 0.0, 0.0, 0.0, 0.0, 0.0, 0.0, 0.0, 0.0, 0.0, 0.0, 0.0, 0.0, 0.0, 0.0], \"y\": [\"0\", \"16\", \"24\", \"41\", \"73\", \"50\", \"36\", \"28\", \"52\", \"29\", \"1\", \"15\", \"3\", \"5\", \"65\", \"23\", \"4\", \"6\", \"26\", \"106\", \"18\", \"21\", \"116\", \"115\", \"94\", \"55\", \"70\", \"12\", \"96\", \"45\", \"38\", \"14\", \"8\", \"43\", \"87\", \"97\", \"101\", \"54\", \"32\", \"72\", \"68\", \"30\", \"39\", \"59\", \"25\", \"113\", \"78\", \"62\", \"2\", \"104\", \"112\", \"47\", \"10\", \"98\", \"31\", \"17\", \"44\", \"7\", \"74\", \"71\", \"51\", \"48\", \"13\", \"92\", \"37\", \"49\", \"33\", \"107\", \"103\", \"58\", \"34\", \"9\", \"66\", \"64\", \"27\", \"90\", \"102\", \"89\", \"57\", \"19\", \"75\", \"42\", \"109\", \"88\", \"111\", \"76\", \"100\", \"35\", \"105\", \"93\", \"85\", \"40\", \"99\", \"46\", \"108\", \"110\", \"11\", \"114\", \"20\", \"53\", \"56\", \"67\", \"77\", \"63\", \"79\", \"80\", \"81\", \"82\", \"83\", \"84\", \"86\", \"61\", \"91\", \"60\", \"69\", \"95\", \"22\"], \"type\": \"bar\", \"uid\": \"02819d62-b0c7-4655-8996-fea47122a592\"}], {\"autosize\": false, \"height\": 1000, \"width\": 1000, \"xaxis\": {\"tickfont\": {\"color\": \"black\", \"size\": 12}, \"title\": \"Feature Importances\"}, \"yaxis\": {\"automargin\": true}}, {\"showLink\": true, \"linkText\": \"Export to plot.ly\", \"plotlyServerURL\": \"https://plot.ly\"})});</script>"
      ],
      "text/vnd.plotly.v1+html": [
       "<div id=\"08494102-adf1-4b57-91a0-5aa0f8483099\" style=\"height: 1000px; width: 1000px;\" class=\"plotly-graph-div\"></div><script type=\"text/javascript\">require([\"plotly\"], function(Plotly) { window.PLOTLYENV=window.PLOTLYENV || {};window.PLOTLYENV.BASE_URL=\"https://plot.ly\";Plotly.newPlot(\"08494102-adf1-4b57-91a0-5aa0f8483099\", [{\"marker\": {\"color\": \"rgb(158,202,225)\", \"line\": {\"color\": \"rgb(8,48,107)\", \"width\": 1.5}}, \"opacity\": 0.6, \"orientation\": \"h\", \"text\": [0.4767, 0.1543, 0.0922, 0.0562, 0.0241, 0.0212, 0.0207, 0.0159, 0.011, 0.0098, 0.008, 0.007, 0.0056, 0.0054, 0.0053, 0.0053, 0.0052, 0.0047, 0.0043, 0.0041, 0.0041, 0.0038, 0.0038, 0.0036, 0.0036, 0.0031, 0.0031, 0.0028, 0.0027, 0.0024, 0.0023, 0.0021, 0.0019, 0.0018, 0.0017, 0.0016, 0.0016, 0.0016, 0.0015, 0.0012, 0.0012, 0.0011, 0.001, 0.0008, 0.0007, 0.0006, 0.0006, 0.0006, 0.0006, 0.0005, 0.0005, 0.0004, 0.0003, 0.0003, 0.0003, 0.0003, 0.0003, 0.0002, 0.0002, 0.0002, 0.0001, 0.0001, 0.0001, 0.0001, 0.0001, 0.0001, 0.0001, 0.0001, 0.0001, 0.0001, 0.0001, 0.0001, 0.0001, 0.0001, 0.0001, 0.0001, 0.0001, 0.0001, 0.0001, 0.0001, 0.0001, 0.0, 0.0, 0.0, 0.0, 0.0, 0.0, 0.0, 0.0, 0.0, 0.0, 0.0, 0.0, 0.0, 0.0, 0.0, 0.0, 0.0, 0.0, 0.0, 0.0, 0.0, 0.0, 0.0, 0.0, 0.0, 0.0, 0.0, 0.0, 0.0, 0.0, 0.0, 0.0, 0.0, 0.0, 0.0, 0.0], \"textposition\": \"outside\", \"x\": [0.4767237574626159, 0.15430050168508877, 0.09221410931247488, 0.05615818927368642, 0.024148485654378965, 0.021212385239651646, 0.020684863110493674, 0.01591304428557032, 0.011037909919268396, 0.009754752481591038, 0.008043012131304131, 0.006953042391838716, 0.005554421310410997, 0.005449690005280701, 0.005326758585988757, 0.005285302260325699, 0.0051579325658937985, 0.0046836684821172205, 0.004277176089623913, 0.00413588719046802, 0.004065043944608579, 0.0038380116295035588, 0.003830890619041214, 0.003644572103417438, 0.0035526984849010433, 0.0031028041676458263, 0.003081162397087028, 0.0028293429377515265, 0.002709406106539022, 0.0024379596195191265, 0.002264043364384102, 0.0020737889756386493, 0.0018917533668369622, 0.0018300782397522196, 0.001725397530276472, 0.0016179735544062863, 0.0016063299179896893, 0.001551522783655639, 0.0014503810199386694, 0.0011683847570510052, 0.0011507221052398959, 0.001067903763869387, 0.0009971752914295867, 0.0008409343883916324, 0.0007477563436806137, 0.000622286546990404, 0.0005880625728650487, 0.0005853090170461361, 0.0005781949897137655, 0.0005161490166888329, 0.00046823253970945054, 0.00042371984972242667, 0.0003053815103229752, 0.0002924448343802863, 0.00028399332699350185, 0.0002799364979010526, 0.00025530614109676596, 0.0002459959463460565, 0.00017034338048100843, 0.00016292404989093063, 0.00014515522463449303, 0.00013352084916149148, 0.0001332393036243553, 0.00012258439991304703, 0.00012101309162293568, 0.00012086574578843715, 0.00011498476030048697, 0.0001022712250307609, 9.058512875506904e-05, 9.021988009149736e-05, 8.240409005888235e-05, 8.155189484874688e-05, 8.082050493611063e-05, 7.6715726444923e-05, 6.47038121985987e-05, 6.165163983641986e-05, 6.022601112133159e-05, 5.8950683136296314e-05, 5.886034364628698e-05, 5.634841588998464e-05, 5.562612559038245e-05, 3.959274593357117e-05, 3.863429483083236e-05, 2.8347837485709693e-05, 2.723250528751543e-05, 2.5400247585863484e-05, 2.1833779550593764e-05, 1.6057061145189903e-05, 1.3510880957253416e-05, 5.874848641923838e-06, 2.0098711753727684e-06, 0.0, 0.0, 0.0, 0.0, 0.0, 0.0, 0.0, 0.0, 0.0, 0.0, 0.0, 0.0, 0.0, 0.0, 0.0, 0.0, 0.0, 0.0, 0.0, 0.0, 0.0, 0.0, 0.0, 0.0, 0.0, 0.0], \"y\": [\"0\", \"16\", \"24\", \"41\", \"73\", \"50\", \"36\", \"28\", \"52\", \"29\", \"1\", \"15\", \"3\", \"5\", \"65\", \"23\", \"4\", \"6\", \"26\", \"106\", \"18\", \"21\", \"116\", \"115\", \"94\", \"55\", \"70\", \"12\", \"96\", \"45\", \"38\", \"14\", \"8\", \"43\", \"87\", \"97\", \"101\", \"54\", \"32\", \"72\", \"68\", \"30\", \"39\", \"59\", \"25\", \"113\", \"78\", \"62\", \"2\", \"104\", \"112\", \"47\", \"10\", \"98\", \"31\", \"17\", \"44\", \"7\", \"74\", \"71\", \"51\", \"48\", \"13\", \"92\", \"37\", \"49\", \"33\", \"107\", \"103\", \"58\", \"34\", \"9\", \"66\", \"64\", \"27\", \"90\", \"102\", \"89\", \"57\", \"19\", \"75\", \"42\", \"109\", \"88\", \"111\", \"76\", \"100\", \"35\", \"105\", \"93\", \"85\", \"40\", \"99\", \"46\", \"108\", \"110\", \"11\", \"114\", \"20\", \"53\", \"56\", \"67\", \"77\", \"63\", \"79\", \"80\", \"81\", \"82\", \"83\", \"84\", \"86\", \"61\", \"91\", \"60\", \"69\", \"95\", \"22\"], \"type\": \"bar\", \"uid\": \"02819d62-b0c7-4655-8996-fea47122a592\"}], {\"autosize\": false, \"height\": 1000, \"width\": 1000, \"xaxis\": {\"tickfont\": {\"color\": \"black\", \"size\": 12}, \"title\": \"Feature Importances\"}, \"yaxis\": {\"automargin\": true}}, {\"showLink\": true, \"linkText\": \"Export to plot.ly\", \"plotlyServerURL\": \"https://plot.ly\"})});</script>"
      ]
     },
     "metadata": {},
     "output_type": "display_data"
    },
    {
     "name": "stdout",
     "output_type": "stream",
     "text": [
      "\n",
      "\n",
      "\u001b[1mExtraTree Classifier\u001b[0m\n",
      "Accuracy of the model for training data is: 0.92596227238\n",
      "Confusion Matrix for training data is:\n"
     ]
    },
    {
     "data": {
      "text/plain": [
       "Predicted  False  True  __all__\n",
       "Actual                         \n",
       "False      32372    62    32434\n",
       "True        2654  1596     4250\n",
       "__all__    35026  1658    36684"
      ]
     },
     "metadata": {},
     "output_type": "display_data"
    },
    {
     "name": "stdout",
     "output_type": "stream",
     "text": [
      "Accuracy of the model for test data is: 0.83591365024\n",
      "Confusion Matrix for test data is:\n"
     ]
    },
    {
     "data": {
      "text/plain": [
       "Predicted  False  True  __all__\n",
       "Actual                         \n",
       "False       7354    47     7401\n",
       "True        1458   313     1771\n",
       "__all__     8812   360     9172"
      ]
     },
     "metadata": {},
     "output_type": "display_data"
    },
    {
     "data": {
      "application/vnd.plotly.v1+json": {
       "config": {
        "linkText": "Export to plot.ly",
        "plotlyServerURL": "https://plot.ly",
        "showLink": true
       },
       "data": [
        {
         "marker": {
          "color": "rgb(158,202,225)",
          "line": {
           "color": "rgb(8,48,107)",
           "width": 1.5
          }
         },
         "opacity": 0.6,
         "orientation": "h",
         "text": [
          0.0658,
          0.0545,
          0.0511,
          0.0322,
          0.0301,
          0.0252,
          0.0246,
          0.0213,
          0.0195,
          0.017,
          0.0166,
          0.016,
          0.0152,
          0.0149,
          0.0146,
          0.0145,
          0.014,
          0.0136,
          0.0127,
          0.0124,
          0.012,
          0.012,
          0.0119,
          0.0119,
          0.0115,
          0.0113,
          0.0109,
          0.0107,
          0.0107,
          0.0101,
          0.0101,
          0.0099,
          0.0095,
          0.0093,
          0.0093,
          0.0089,
          0.0087,
          0.0087,
          0.0083,
          0.0083,
          0.0083,
          0.0081,
          0.008,
          0.0079,
          0.0078,
          0.0075,
          0.007,
          0.0066,
          0.0065,
          0.0064,
          0.0064,
          0.0062,
          0.0061,
          0.0061,
          0.006,
          0.0058,
          0.0058,
          0.0056,
          0.0055,
          0.0055,
          0.0055,
          0.0052,
          0.0052,
          0.0051,
          0.0051,
          0.0047,
          0.0047,
          0.0047,
          0.0046,
          0.0045,
          0.0044,
          0.0044,
          0.0043,
          0.0043,
          0.0042,
          0.0041,
          0.0041,
          0.0041,
          0.004,
          0.004,
          0.0039,
          0.0039,
          0.0037,
          0.0036,
          0.0036,
          0.0036,
          0.0035,
          0.0034,
          0.0033,
          0.003,
          0.0028,
          0.0027,
          0.0027,
          0.0026,
          0.0026,
          0.0026,
          0.0024,
          0.0023,
          0.0023,
          0.0022,
          0.0021,
          0.0021,
          0.002,
          0.002,
          0.002,
          0.0018,
          0.0016,
          0.0016,
          0.0016,
          0.0014,
          0.0013,
          0.0013,
          0.0012,
          0.0011,
          0.001,
          0.0008,
          0.0008
         ],
         "textposition": "outside",
         "type": "bar",
         "uid": "4e0031b8-67f0-4367-975e-260ac953d725",
         "x": [
          0.06579839059081649,
          0.05453427155772241,
          0.05109778657167703,
          0.03216965412446187,
          0.030092534260070136,
          0.025150192169871827,
          0.024589487059774175,
          0.02126840192014789,
          0.019452211101392794,
          0.016991398838762946,
          0.016587772922143026,
          0.016027131151552975,
          0.015226231003209589,
          0.014862505619541133,
          0.01460308228810149,
          0.014469529217300003,
          0.014047577111687881,
          0.013640347957551691,
          0.012678717464393214,
          0.0123603832770243,
          0.012003087429258371,
          0.011985065689340851,
          0.011890469250836214,
          0.011862369344082382,
          0.011489590892384981,
          0.011296851721108886,
          0.010887726812549722,
          0.010727328606546127,
          0.010726305165424933,
          0.010102774907023906,
          0.010050408726335532,
          0.009921331610408573,
          0.009453469119205643,
          0.009315501662499379,
          0.009295562550820192,
          0.008908396799460863,
          0.008706474165262445,
          0.008683036858699384,
          0.008344439125459627,
          0.008294784811487559,
          0.008289718259083983,
          0.008109872229784433,
          0.00800983371729303,
          0.007883669650380053,
          0.007763217304219172,
          0.00750238146569433,
          0.007019923991690007,
          0.006631081513004264,
          0.006477559021338938,
          0.006385609963991662,
          0.006353252948889497,
          0.006226441985769668,
          0.006128346229964965,
          0.006102349771640309,
          0.0059614355892717704,
          0.005797487656257529,
          0.0057710541289198265,
          0.005606093484456305,
          0.005528201059856757,
          0.005480497035384751,
          0.005475815096699241,
          0.005218006947266789,
          0.005202702063123499,
          0.005128028897440127,
          0.005062357188968935,
          0.004736866283006179,
          0.004711527405657084,
          0.0046657581137379235,
          0.004582180989300909,
          0.004473888962665889,
          0.004399459915380778,
          0.004363868675987003,
          0.00429356450211391,
          0.004254585590041129,
          0.004152710391347483,
          0.004118990979662012,
          0.004110905227696924,
          0.00408323178372452,
          0.0039895215063149025,
          0.003958013350247879,
          0.003929227497891047,
          0.003877307735329831,
          0.003680276071416598,
          0.0036469966960014045,
          0.0035914871971206505,
          0.0035738287495037,
          0.0035030417426570454,
          0.0033651203177208636,
          0.0032586753642077247,
          0.0030429014243036788,
          0.002758713245029939,
          0.002709769709731983,
          0.00269987210265341,
          0.0026050212373188784,
          0.002598943608391858,
          0.0025764526885668016,
          0.0023890592517668554,
          0.0022968875062049977,
          0.0022926279126375066,
          0.002202362725428426,
          0.002137756202010334,
          0.0020883699791577463,
          0.0020338998879771237,
          0.0020293490881077144,
          0.00198002364027651,
          0.0018317325593099711,
          0.0016389638827016787,
          0.001571799457253209,
          0.0015705882984908628,
          0.0014053091661146723,
          0.0012804856067351992,
          0.0012771093270788816,
          0.0012099198510605162,
          0.0011461113423206284,
          0.0009816907979132074,
          0.0008425940097112766,
          0.0007731317872245095
         ],
         "y": [
          "0",
          "1",
          "2",
          "12",
          "11",
          "33",
          "21",
          "113",
          "30",
          "10",
          "95",
          "25",
          "23",
          "16",
          "19",
          "34",
          "14",
          "27",
          "78",
          "115",
          "7",
          "59",
          "44",
          "29",
          "92",
          "4",
          "49",
          "5",
          "69",
          "31",
          "116",
          "9",
          "42",
          "103",
          "45",
          "43",
          "22",
          "107",
          "36",
          "62",
          "15",
          "101",
          "108",
          "114",
          "24",
          "64",
          "105",
          "82",
          "41",
          "70",
          "110",
          "58",
          "97",
          "53",
          "74",
          "61",
          "79",
          "3",
          "67",
          "99",
          "60",
          "37",
          "18",
          "8",
          "73",
          "46",
          "84",
          "20",
          "89",
          "94",
          "17",
          "81",
          "77",
          "66",
          "87",
          "6",
          "98",
          "40",
          "104",
          "65",
          "85",
          "106",
          "50",
          "54",
          "72",
          "68",
          "71",
          "38",
          "47",
          "57",
          "86",
          "13",
          "91",
          "51",
          "52",
          "32",
          "56",
          "75",
          "93",
          "96",
          "28",
          "76",
          "48",
          "109",
          "63",
          "100",
          "90",
          "35",
          "55",
          "111",
          "88",
          "102",
          "112",
          "80",
          "39",
          "26",
          "83"
         ]
        }
       ],
       "layout": {
        "autosize": false,
        "height": 1000,
        "width": 1000,
        "xaxis": {
         "tickfont": {
          "color": "black",
          "size": 12
         },
         "title": "Feature Importances"
        },
        "yaxis": {
         "automargin": true
        }
       }
      },
      "text/html": [
       "<div id=\"f79ac45c-99f7-4526-830b-7cc471ec44b0\" style=\"height: 1000px; width: 1000px;\" class=\"plotly-graph-div\"></div><script type=\"text/javascript\">require([\"plotly\"], function(Plotly) { window.PLOTLYENV=window.PLOTLYENV || {};window.PLOTLYENV.BASE_URL=\"https://plot.ly\";Plotly.newPlot(\"f79ac45c-99f7-4526-830b-7cc471ec44b0\", [{\"marker\": {\"color\": \"rgb(158,202,225)\", \"line\": {\"color\": \"rgb(8,48,107)\", \"width\": 1.5}}, \"opacity\": 0.6, \"orientation\": \"h\", \"text\": [0.0658, 0.0545, 0.0511, 0.0322, 0.0301, 0.0252, 0.0246, 0.0213, 0.0195, 0.017, 0.0166, 0.016, 0.0152, 0.0149, 0.0146, 0.0145, 0.014, 0.0136, 0.0127, 0.0124, 0.012, 0.012, 0.0119, 0.0119, 0.0115, 0.0113, 0.0109, 0.0107, 0.0107, 0.0101, 0.0101, 0.0099, 0.0095, 0.0093, 0.0093, 0.0089, 0.0087, 0.0087, 0.0083, 0.0083, 0.0083, 0.0081, 0.008, 0.0079, 0.0078, 0.0075, 0.007, 0.0066, 0.0065, 0.0064, 0.0064, 0.0062, 0.0061, 0.0061, 0.006, 0.0058, 0.0058, 0.0056, 0.0055, 0.0055, 0.0055, 0.0052, 0.0052, 0.0051, 0.0051, 0.0047, 0.0047, 0.0047, 0.0046, 0.0045, 0.0044, 0.0044, 0.0043, 0.0043, 0.0042, 0.0041, 0.0041, 0.0041, 0.004, 0.004, 0.0039, 0.0039, 0.0037, 0.0036, 0.0036, 0.0036, 0.0035, 0.0034, 0.0033, 0.003, 0.0028, 0.0027, 0.0027, 0.0026, 0.0026, 0.0026, 0.0024, 0.0023, 0.0023, 0.0022, 0.0021, 0.0021, 0.002, 0.002, 0.002, 0.0018, 0.0016, 0.0016, 0.0016, 0.0014, 0.0013, 0.0013, 0.0012, 0.0011, 0.001, 0.0008, 0.0008], \"textposition\": \"outside\", \"x\": [0.06579839059081649, 0.05453427155772241, 0.05109778657167703, 0.03216965412446187, 0.030092534260070136, 0.025150192169871827, 0.024589487059774175, 0.02126840192014789, 0.019452211101392794, 0.016991398838762946, 0.016587772922143026, 0.016027131151552975, 0.015226231003209589, 0.014862505619541133, 0.01460308228810149, 0.014469529217300003, 0.014047577111687881, 0.013640347957551691, 0.012678717464393214, 0.0123603832770243, 0.012003087429258371, 0.011985065689340851, 0.011890469250836214, 0.011862369344082382, 0.011489590892384981, 0.011296851721108886, 0.010887726812549722, 0.010727328606546127, 0.010726305165424933, 0.010102774907023906, 0.010050408726335532, 0.009921331610408573, 0.009453469119205643, 0.009315501662499379, 0.009295562550820192, 0.008908396799460863, 0.008706474165262445, 0.008683036858699384, 0.008344439125459627, 0.008294784811487559, 0.008289718259083983, 0.008109872229784433, 0.00800983371729303, 0.007883669650380053, 0.007763217304219172, 0.00750238146569433, 0.007019923991690007, 0.006631081513004264, 0.006477559021338938, 0.006385609963991662, 0.006353252948889497, 0.006226441985769668, 0.006128346229964965, 0.006102349771640309, 0.0059614355892717704, 0.005797487656257529, 0.0057710541289198265, 0.005606093484456305, 0.005528201059856757, 0.005480497035384751, 0.005475815096699241, 0.005218006947266789, 0.005202702063123499, 0.005128028897440127, 0.005062357188968935, 0.004736866283006179, 0.004711527405657084, 0.0046657581137379235, 0.004582180989300909, 0.004473888962665889, 0.004399459915380778, 0.004363868675987003, 0.00429356450211391, 0.004254585590041129, 0.004152710391347483, 0.004118990979662012, 0.004110905227696924, 0.00408323178372452, 0.0039895215063149025, 0.003958013350247879, 0.003929227497891047, 0.003877307735329831, 0.003680276071416598, 0.0036469966960014045, 0.0035914871971206505, 0.0035738287495037, 0.0035030417426570454, 0.0033651203177208636, 0.0032586753642077247, 0.0030429014243036788, 0.002758713245029939, 0.002709769709731983, 0.00269987210265341, 0.0026050212373188784, 0.002598943608391858, 0.0025764526885668016, 0.0023890592517668554, 0.0022968875062049977, 0.0022926279126375066, 0.002202362725428426, 0.002137756202010334, 0.0020883699791577463, 0.0020338998879771237, 0.0020293490881077144, 0.00198002364027651, 0.0018317325593099711, 0.0016389638827016787, 0.001571799457253209, 0.0015705882984908628, 0.0014053091661146723, 0.0012804856067351992, 0.0012771093270788816, 0.0012099198510605162, 0.0011461113423206284, 0.0009816907979132074, 0.0008425940097112766, 0.0007731317872245095], \"y\": [\"0\", \"1\", \"2\", \"12\", \"11\", \"33\", \"21\", \"113\", \"30\", \"10\", \"95\", \"25\", \"23\", \"16\", \"19\", \"34\", \"14\", \"27\", \"78\", \"115\", \"7\", \"59\", \"44\", \"29\", \"92\", \"4\", \"49\", \"5\", \"69\", \"31\", \"116\", \"9\", \"42\", \"103\", \"45\", \"43\", \"22\", \"107\", \"36\", \"62\", \"15\", \"101\", \"108\", \"114\", \"24\", \"64\", \"105\", \"82\", \"41\", \"70\", \"110\", \"58\", \"97\", \"53\", \"74\", \"61\", \"79\", \"3\", \"67\", \"99\", \"60\", \"37\", \"18\", \"8\", \"73\", \"46\", \"84\", \"20\", \"89\", \"94\", \"17\", \"81\", \"77\", \"66\", \"87\", \"6\", \"98\", \"40\", \"104\", \"65\", \"85\", \"106\", \"50\", \"54\", \"72\", \"68\", \"71\", \"38\", \"47\", \"57\", \"86\", \"13\", \"91\", \"51\", \"52\", \"32\", \"56\", \"75\", \"93\", \"96\", \"28\", \"76\", \"48\", \"109\", \"63\", \"100\", \"90\", \"35\", \"55\", \"111\", \"88\", \"102\", \"112\", \"80\", \"39\", \"26\", \"83\"], \"type\": \"bar\", \"uid\": \"4e0031b8-67f0-4367-975e-260ac953d725\"}], {\"autosize\": false, \"height\": 1000, \"width\": 1000, \"xaxis\": {\"tickfont\": {\"color\": \"black\", \"size\": 12}, \"title\": \"Feature Importances\"}, \"yaxis\": {\"automargin\": true}}, {\"showLink\": true, \"linkText\": \"Export to plot.ly\", \"plotlyServerURL\": \"https://plot.ly\"})});</script>"
      ],
      "text/vnd.plotly.v1+html": [
       "<div id=\"f79ac45c-99f7-4526-830b-7cc471ec44b0\" style=\"height: 1000px; width: 1000px;\" class=\"plotly-graph-div\"></div><script type=\"text/javascript\">require([\"plotly\"], function(Plotly) { window.PLOTLYENV=window.PLOTLYENV || {};window.PLOTLYENV.BASE_URL=\"https://plot.ly\";Plotly.newPlot(\"f79ac45c-99f7-4526-830b-7cc471ec44b0\", [{\"marker\": {\"color\": \"rgb(158,202,225)\", \"line\": {\"color\": \"rgb(8,48,107)\", \"width\": 1.5}}, \"opacity\": 0.6, \"orientation\": \"h\", \"text\": [0.0658, 0.0545, 0.0511, 0.0322, 0.0301, 0.0252, 0.0246, 0.0213, 0.0195, 0.017, 0.0166, 0.016, 0.0152, 0.0149, 0.0146, 0.0145, 0.014, 0.0136, 0.0127, 0.0124, 0.012, 0.012, 0.0119, 0.0119, 0.0115, 0.0113, 0.0109, 0.0107, 0.0107, 0.0101, 0.0101, 0.0099, 0.0095, 0.0093, 0.0093, 0.0089, 0.0087, 0.0087, 0.0083, 0.0083, 0.0083, 0.0081, 0.008, 0.0079, 0.0078, 0.0075, 0.007, 0.0066, 0.0065, 0.0064, 0.0064, 0.0062, 0.0061, 0.0061, 0.006, 0.0058, 0.0058, 0.0056, 0.0055, 0.0055, 0.0055, 0.0052, 0.0052, 0.0051, 0.0051, 0.0047, 0.0047, 0.0047, 0.0046, 0.0045, 0.0044, 0.0044, 0.0043, 0.0043, 0.0042, 0.0041, 0.0041, 0.0041, 0.004, 0.004, 0.0039, 0.0039, 0.0037, 0.0036, 0.0036, 0.0036, 0.0035, 0.0034, 0.0033, 0.003, 0.0028, 0.0027, 0.0027, 0.0026, 0.0026, 0.0026, 0.0024, 0.0023, 0.0023, 0.0022, 0.0021, 0.0021, 0.002, 0.002, 0.002, 0.0018, 0.0016, 0.0016, 0.0016, 0.0014, 0.0013, 0.0013, 0.0012, 0.0011, 0.001, 0.0008, 0.0008], \"textposition\": \"outside\", \"x\": [0.06579839059081649, 0.05453427155772241, 0.05109778657167703, 0.03216965412446187, 0.030092534260070136, 0.025150192169871827, 0.024589487059774175, 0.02126840192014789, 0.019452211101392794, 0.016991398838762946, 0.016587772922143026, 0.016027131151552975, 0.015226231003209589, 0.014862505619541133, 0.01460308228810149, 0.014469529217300003, 0.014047577111687881, 0.013640347957551691, 0.012678717464393214, 0.0123603832770243, 0.012003087429258371, 0.011985065689340851, 0.011890469250836214, 0.011862369344082382, 0.011489590892384981, 0.011296851721108886, 0.010887726812549722, 0.010727328606546127, 0.010726305165424933, 0.010102774907023906, 0.010050408726335532, 0.009921331610408573, 0.009453469119205643, 0.009315501662499379, 0.009295562550820192, 0.008908396799460863, 0.008706474165262445, 0.008683036858699384, 0.008344439125459627, 0.008294784811487559, 0.008289718259083983, 0.008109872229784433, 0.00800983371729303, 0.007883669650380053, 0.007763217304219172, 0.00750238146569433, 0.007019923991690007, 0.006631081513004264, 0.006477559021338938, 0.006385609963991662, 0.006353252948889497, 0.006226441985769668, 0.006128346229964965, 0.006102349771640309, 0.0059614355892717704, 0.005797487656257529, 0.0057710541289198265, 0.005606093484456305, 0.005528201059856757, 0.005480497035384751, 0.005475815096699241, 0.005218006947266789, 0.005202702063123499, 0.005128028897440127, 0.005062357188968935, 0.004736866283006179, 0.004711527405657084, 0.0046657581137379235, 0.004582180989300909, 0.004473888962665889, 0.004399459915380778, 0.004363868675987003, 0.00429356450211391, 0.004254585590041129, 0.004152710391347483, 0.004118990979662012, 0.004110905227696924, 0.00408323178372452, 0.0039895215063149025, 0.003958013350247879, 0.003929227497891047, 0.003877307735329831, 0.003680276071416598, 0.0036469966960014045, 0.0035914871971206505, 0.0035738287495037, 0.0035030417426570454, 0.0033651203177208636, 0.0032586753642077247, 0.0030429014243036788, 0.002758713245029939, 0.002709769709731983, 0.00269987210265341, 0.0026050212373188784, 0.002598943608391858, 0.0025764526885668016, 0.0023890592517668554, 0.0022968875062049977, 0.0022926279126375066, 0.002202362725428426, 0.002137756202010334, 0.0020883699791577463, 0.0020338998879771237, 0.0020293490881077144, 0.00198002364027651, 0.0018317325593099711, 0.0016389638827016787, 0.001571799457253209, 0.0015705882984908628, 0.0014053091661146723, 0.0012804856067351992, 0.0012771093270788816, 0.0012099198510605162, 0.0011461113423206284, 0.0009816907979132074, 0.0008425940097112766, 0.0007731317872245095], \"y\": [\"0\", \"1\", \"2\", \"12\", \"11\", \"33\", \"21\", \"113\", \"30\", \"10\", \"95\", \"25\", \"23\", \"16\", \"19\", \"34\", \"14\", \"27\", \"78\", \"115\", \"7\", \"59\", \"44\", \"29\", \"92\", \"4\", \"49\", \"5\", \"69\", \"31\", \"116\", \"9\", \"42\", \"103\", \"45\", \"43\", \"22\", \"107\", \"36\", \"62\", \"15\", \"101\", \"108\", \"114\", \"24\", \"64\", \"105\", \"82\", \"41\", \"70\", \"110\", \"58\", \"97\", \"53\", \"74\", \"61\", \"79\", \"3\", \"67\", \"99\", \"60\", \"37\", \"18\", \"8\", \"73\", \"46\", \"84\", \"20\", \"89\", \"94\", \"17\", \"81\", \"77\", \"66\", \"87\", \"6\", \"98\", \"40\", \"104\", \"65\", \"85\", \"106\", \"50\", \"54\", \"72\", \"68\", \"71\", \"38\", \"47\", \"57\", \"86\", \"13\", \"91\", \"51\", \"52\", \"32\", \"56\", \"75\", \"93\", \"96\", \"28\", \"76\", \"48\", \"109\", \"63\", \"100\", \"90\", \"35\", \"55\", \"111\", \"88\", \"102\", \"112\", \"80\", \"39\", \"26\", \"83\"], \"type\": \"bar\", \"uid\": \"4e0031b8-67f0-4367-975e-260ac953d725\"}], {\"autosize\": false, \"height\": 1000, \"width\": 1000, \"xaxis\": {\"tickfont\": {\"color\": \"black\", \"size\": 12}, \"title\": \"Feature Importances\"}, \"yaxis\": {\"automargin\": true}}, {\"showLink\": true, \"linkText\": \"Export to plot.ly\", \"plotlyServerURL\": \"https://plot.ly\"})});</script>"
      ]
     },
     "metadata": {},
     "output_type": "display_data"
    },
    {
     "name": "stdout",
     "output_type": "stream",
     "text": [
      "\n",
      "\n",
      "\u001b[1mBagging Classifier\u001b[0m\n",
      "Accuracy of the model for training data is: 0.924790099226\n",
      "Confusion Matrix for training data is:\n"
     ]
    },
    {
     "data": {
      "text/plain": [
       "Predicted  False  True  __all__\n",
       "Actual                         \n",
       "False      32366    68    32434\n",
       "True        2691  1559     4250\n",
       "__all__    35057  1627    36684"
      ]
     },
     "metadata": {},
     "output_type": "display_data"
    },
    {
     "name": "stdout",
     "output_type": "stream",
     "text": [
      "Accuracy of the model for test data is: 0.83525948539\n",
      "Confusion Matrix for test data is:\n"
     ]
    },
    {
     "data": {
      "text/plain": [
       "Predicted  False  True  __all__\n",
       "Actual                         \n",
       "False       7362    39     7401\n",
       "True        1472   299     1771\n",
       "__all__     8834   338     9172"
      ]
     },
     "metadata": {},
     "output_type": "display_data"
    },
    {
     "name": "stdout",
     "output_type": "stream",
     "text": [
      "\n",
      "\n",
      "\u001b[1mNeural Network-1\u001b[0m\n",
      "The accuracy of the model on training data is: 0.916639406826\n"
     ]
    },
    {
     "data": {
      "text/plain": [
       "Predicted  False  True  __all__\n",
       "Actual                         \n",
       "False      29903  2531    32434\n",
       "True         527  3723     4250\n",
       "__all__    30430  6254    36684"
      ]
     },
     "metadata": {},
     "output_type": "display_data"
    },
    {
     "name": "stdout",
     "output_type": "stream",
     "text": [
      "The accuracy of the model on test data is: 0.869821194941\n"
     ]
    },
    {
     "data": {
      "text/plain": [
       "Predicted  False  True  __all__\n",
       "Actual                         \n",
       "False       6842   559     7401\n",
       "True         635  1136     1771\n",
       "__all__     7477  1695     9172"
      ]
     },
     "metadata": {},
     "output_type": "display_data"
    },
    {
     "name": "stdout",
     "output_type": "stream",
     "text": [
      "\n",
      "\n"
     ]
    }
   ],
   "source": [
    "feat_imp=[None]*4\n",
    "j=0\n",
    "for i in range(0,8):\n",
    "    if i>=2 and i<=5:\n",
    "        model,cm_train,cm_test,acc_train,acc_test,roc_auc,feat_imp[j],mcc=f[i](X_train,Y_train,X_test,Y_test,np.arange(0,117).astype(str))\n",
    "        j=j+1\n",
    "    else:\n",
    "        model,cm_train,cm_test,acc_train,acc_test,roc_auc,mcc=f[i](X_train,Y_train,X_test,Y_test)\n",
    "    table_80_70_train.loc[i]=   ([acc_train,cm_train.TP,cm_train.TN,cm_train.FP,cm_train.FN,cm_train.FPR,cm_train.FNR])\n",
    "    table_80_70_test.loc[i] =   ([acc_test ,cm_test.TP, cm_test.TN, cm_test.FP, cm_test.FN, cm_test.FPR, cm_test.FNR,roc_auc,mcc])\n",
    "    print(\"\\n\")"
   ]
  },
  {
   "cell_type": "markdown",
   "metadata": {},
   "source": [
    "### <a id='5.A' style=\"text-decoration : none; color : #000000;\"> A. Results</a>"
   ]
  },
  {
   "cell_type": "code",
   "execution_count": 125,
   "metadata": {},
   "outputs": [
    {
     "data": {
      "application/vnd.plotly.v1+json": {
       "config": {
        "linkText": "Export to plot.ly",
        "plotlyServerURL": "https://plot.ly",
        "showLink": true
       },
       "data": [
        {
         "mode": "lines",
         "name": "KNN_model",
         "type": "scatter",
         "uid": "c0b715a5-a4b7-419a-a289-b1dd00d3fd9e",
         "x": [
          "accuracy",
          "FPR",
          "FNR",
          "auc"
         ],
         "y": [
          0.835368512865242,
          0.004729090663423862,
          0.8328627893845285,
          0.5812040599760239
         ]
        },
        {
         "mode": "lines+markers",
         "name": "Logistic Regression",
         "type": "scatter",
         "uid": "10b52e54-3f2c-49da-b2c8-a2e62186caff",
         "x": [
          "accuracy",
          "FPR",
          "FNR",
          "auc"
         ],
         "y": [
          0.8316615787178369,
          0.007161194433184705,
          0.841897233201581,
          0.575470786182617
         ]
        },
        {
         "marker": {
          "symbol": "x"
         },
         "mode": "lines+markers",
         "name": "Random Forest",
         "type": "scatter",
         "uid": "1db4490d-3db8-4bbd-897d-e48183777232",
         "x": [
          "accuracy",
          "FPR",
          "FNR",
          "auc"
         ],
         "y": [
          0.8364587876144789,
          0.004729090663423862,
          0.8272162619988707,
          0.5840273236688527
         ]
        },
        {
         "mode": "lines",
         "name": "Ada Boost",
         "type": "scatter",
         "uid": "bfeb7bf7-7087-4921-8c17-5d5dd5823acd",
         "x": [
          "accuracy",
          "FPR",
          "FNR",
          "auc"
         ],
         "y": [
          0.8307893589184474,
          0.004323740035130388,
          0.8582721626199887,
          0.5687020486724405
         ]
        },
        {
         "mode": "lines+markers",
         "name": "GradientBoosting",
         "type": "scatter",
         "uid": "1a98b5bf-8621-482c-a704-62bda1480140",
         "x": [
          "accuracy",
          "FPR",
          "FNR",
          "auc"
         ],
         "y": [
          0.8317706061927606,
          0.004053506282934738,
          0.8543195934500283,
          0.5708134501335185
         ]
        },
        {
         "marker": {
          "symbol": "x"
         },
         "mode": "lines+markers",
         "name": "ExtraTree Classifier",
         "type": "scatter",
         "uid": "30774a8d-a1f5-4536-afe2-0f01bed8f791",
         "x": [
          "accuracy",
          "FPR",
          "FNR",
          "auc"
         ],
         "y": [
          0.8359136502398604,
          0.006350493176597757,
          0.8232636928289102,
          0.585192906997246
         ]
        },
        {
         "marker": {
          "symbol": "x"
         },
         "mode": "lines+markers",
         "name": "Bagging",
         "type": "scatter",
         "uid": "8825c7b6-958c-49b6-98e5-ae8ca4e4eeba",
         "x": [
          "accuracy",
          "FPR",
          "FNR",
          "auc"
         ],
         "y": [
          0.8352594853903184,
          0.00526955816781516,
          0.8311688311688312,
          0.5817808053316769
         ]
        },
        {
         "marker": {
          "symbol": "x"
         },
         "mode": "lines+markers",
         "name": "Neural Network",
         "type": "scatter",
         "uid": "ef03821f-842e-494a-a1fb-c0539d23ccc3",
         "x": [
          "accuracy",
          "FPR",
          "FNR",
          "auc"
         ],
         "y": [
          0.8698211949411252,
          0.07553033373868397,
          0.3585544889892716,
          0.5817808053316769
         ]
        }
       ],
       "layout": {
        "title": "Result comparision for Features selected in Section 1",
        "yaxis": {
         "dtick": 0.05,
         "tick0": 0
        }
       }
      },
      "text/html": [
       "<div id=\"c1b0140e-e370-4258-816b-21396a18d9ef\" style=\"height: 525px; width: 100%;\" class=\"plotly-graph-div\"></div><script type=\"text/javascript\">require([\"plotly\"], function(Plotly) { window.PLOTLYENV=window.PLOTLYENV || {};window.PLOTLYENV.BASE_URL=\"https://plot.ly\";Plotly.newPlot(\"c1b0140e-e370-4258-816b-21396a18d9ef\", [{\"mode\": \"lines\", \"name\": \"KNN_model\", \"x\": [\"accuracy\", \"FPR\", \"FNR\", \"auc\"], \"y\": [0.835368512865242, 0.004729090663423862, 0.8328627893845285, 0.5812040599760239], \"type\": \"scatter\", \"uid\": \"c0b715a5-a4b7-419a-a289-b1dd00d3fd9e\"}, {\"mode\": \"lines+markers\", \"name\": \"Logistic Regression\", \"x\": [\"accuracy\", \"FPR\", \"FNR\", \"auc\"], \"y\": [0.8316615787178369, 0.007161194433184705, 0.841897233201581, 0.575470786182617], \"type\": \"scatter\", \"uid\": \"10b52e54-3f2c-49da-b2c8-a2e62186caff\"}, {\"marker\": {\"symbol\": \"x\"}, \"mode\": \"lines+markers\", \"name\": \"Random Forest\", \"x\": [\"accuracy\", \"FPR\", \"FNR\", \"auc\"], \"y\": [0.8364587876144789, 0.004729090663423862, 0.8272162619988707, 0.5840273236688527], \"type\": \"scatter\", \"uid\": \"1db4490d-3db8-4bbd-897d-e48183777232\"}, {\"mode\": \"lines\", \"name\": \"Ada Boost\", \"x\": [\"accuracy\", \"FPR\", \"FNR\", \"auc\"], \"y\": [0.8307893589184474, 0.004323740035130388, 0.8582721626199887, 0.5687020486724405], \"type\": \"scatter\", \"uid\": \"bfeb7bf7-7087-4921-8c17-5d5dd5823acd\"}, {\"mode\": \"lines+markers\", \"name\": \"GradientBoosting\", \"x\": [\"accuracy\", \"FPR\", \"FNR\", \"auc\"], \"y\": [0.8317706061927606, 0.004053506282934738, 0.8543195934500283, 0.5708134501335185], \"type\": \"scatter\", \"uid\": \"1a98b5bf-8621-482c-a704-62bda1480140\"}, {\"marker\": {\"symbol\": \"x\"}, \"mode\": \"lines+markers\", \"name\": \"ExtraTree Classifier\", \"x\": [\"accuracy\", \"FPR\", \"FNR\", \"auc\"], \"y\": [0.8359136502398604, 0.006350493176597757, 0.8232636928289102, 0.585192906997246], \"type\": \"scatter\", \"uid\": \"30774a8d-a1f5-4536-afe2-0f01bed8f791\"}, {\"marker\": {\"symbol\": \"x\"}, \"mode\": \"lines+markers\", \"name\": \"Bagging\", \"x\": [\"accuracy\", \"FPR\", \"FNR\", \"auc\"], \"y\": [0.8352594853903184, 0.00526955816781516, 0.8311688311688312, 0.5817808053316769], \"type\": \"scatter\", \"uid\": \"8825c7b6-958c-49b6-98e5-ae8ca4e4eeba\"}, {\"marker\": {\"symbol\": \"x\"}, \"mode\": \"lines+markers\", \"name\": \"Neural Network\", \"x\": [\"accuracy\", \"FPR\", \"FNR\", \"auc\"], \"y\": [0.8698211949411252, 0.07553033373868397, 0.3585544889892716, 0.5817808053316769], \"type\": \"scatter\", \"uid\": \"ef03821f-842e-494a-a1fb-c0539d23ccc3\"}], {\"title\": \"Result comparision for Features selected in Section 1\", \"yaxis\": {\"dtick\": 0.05, \"tick0\": 0}}, {\"showLink\": true, \"linkText\": \"Export to plot.ly\", \"plotlyServerURL\": \"https://plot.ly\"})});</script><script type=\"text/javascript\">window.addEventListener(\"resize\", function(){window._Plotly.Plots.resize(document.getElementById(\"c1b0140e-e370-4258-816b-21396a18d9ef\"));});</script>"
      ],
      "text/vnd.plotly.v1+html": [
       "<div id=\"c1b0140e-e370-4258-816b-21396a18d9ef\" style=\"height: 525px; width: 100%;\" class=\"plotly-graph-div\"></div><script type=\"text/javascript\">require([\"plotly\"], function(Plotly) { window.PLOTLYENV=window.PLOTLYENV || {};window.PLOTLYENV.BASE_URL=\"https://plot.ly\";Plotly.newPlot(\"c1b0140e-e370-4258-816b-21396a18d9ef\", [{\"mode\": \"lines\", \"name\": \"KNN_model\", \"x\": [\"accuracy\", \"FPR\", \"FNR\", \"auc\"], \"y\": [0.835368512865242, 0.004729090663423862, 0.8328627893845285, 0.5812040599760239], \"type\": \"scatter\", \"uid\": \"c0b715a5-a4b7-419a-a289-b1dd00d3fd9e\"}, {\"mode\": \"lines+markers\", \"name\": \"Logistic Regression\", \"x\": [\"accuracy\", \"FPR\", \"FNR\", \"auc\"], \"y\": [0.8316615787178369, 0.007161194433184705, 0.841897233201581, 0.575470786182617], \"type\": \"scatter\", \"uid\": \"10b52e54-3f2c-49da-b2c8-a2e62186caff\"}, {\"marker\": {\"symbol\": \"x\"}, \"mode\": \"lines+markers\", \"name\": \"Random Forest\", \"x\": [\"accuracy\", \"FPR\", \"FNR\", \"auc\"], \"y\": [0.8364587876144789, 0.004729090663423862, 0.8272162619988707, 0.5840273236688527], \"type\": \"scatter\", \"uid\": \"1db4490d-3db8-4bbd-897d-e48183777232\"}, {\"mode\": \"lines\", \"name\": \"Ada Boost\", \"x\": [\"accuracy\", \"FPR\", \"FNR\", \"auc\"], \"y\": [0.8307893589184474, 0.004323740035130388, 0.8582721626199887, 0.5687020486724405], \"type\": \"scatter\", \"uid\": \"bfeb7bf7-7087-4921-8c17-5d5dd5823acd\"}, {\"mode\": \"lines+markers\", \"name\": \"GradientBoosting\", \"x\": [\"accuracy\", \"FPR\", \"FNR\", \"auc\"], \"y\": [0.8317706061927606, 0.004053506282934738, 0.8543195934500283, 0.5708134501335185], \"type\": \"scatter\", \"uid\": \"1a98b5bf-8621-482c-a704-62bda1480140\"}, {\"marker\": {\"symbol\": \"x\"}, \"mode\": \"lines+markers\", \"name\": \"ExtraTree Classifier\", \"x\": [\"accuracy\", \"FPR\", \"FNR\", \"auc\"], \"y\": [0.8359136502398604, 0.006350493176597757, 0.8232636928289102, 0.585192906997246], \"type\": \"scatter\", \"uid\": \"30774a8d-a1f5-4536-afe2-0f01bed8f791\"}, {\"marker\": {\"symbol\": \"x\"}, \"mode\": \"lines+markers\", \"name\": \"Bagging\", \"x\": [\"accuracy\", \"FPR\", \"FNR\", \"auc\"], \"y\": [0.8352594853903184, 0.00526955816781516, 0.8311688311688312, 0.5817808053316769], \"type\": \"scatter\", \"uid\": \"8825c7b6-958c-49b6-98e5-ae8ca4e4eeba\"}, {\"marker\": {\"symbol\": \"x\"}, \"mode\": \"lines+markers\", \"name\": \"Neural Network\", \"x\": [\"accuracy\", \"FPR\", \"FNR\", \"auc\"], \"y\": [0.8698211949411252, 0.07553033373868397, 0.3585544889892716, 0.5817808053316769], \"type\": \"scatter\", \"uid\": \"ef03821f-842e-494a-a1fb-c0539d23ccc3\"}], {\"title\": \"Result comparision for Features selected in Section 1\", \"yaxis\": {\"dtick\": 0.05, \"tick0\": 0}}, {\"showLink\": true, \"linkText\": \"Export to plot.ly\", \"plotlyServerURL\": \"https://plot.ly\"})});</script><script type=\"text/javascript\">window.addEventListener(\"resize\", function(){window._Plotly.Plots.resize(document.getElementById(\"c1b0140e-e370-4258-816b-21396a18d9ef\"));});</script>"
      ]
     },
     "metadata": {},
     "output_type": "display_data"
    }
   ],
   "source": [
    "trace0 = go.Scatter(x=table_80_70_test.iloc[0].index.values[[0,5,6,7]],\n",
    "                    y=table_80_70_test.iloc[0].values[[0,5,6,7]],\n",
    "                    mode = 'lines',\n",
    "                    name = 'KNN_model')\n",
    "\n",
    "trace1 = go.Scatter(x=table_80_70_test.iloc[1].index.values[[0,5,6,7]],\n",
    "                    y=table_80_70_test.iloc[1].values[[0,5,6,7]],\n",
    "                    mode = 'lines+markers',\n",
    "                    name = 'Logistic Regression')\n",
    "\n",
    "trace2 = go.Scatter(x=table_80_70_test.iloc[2].index.values[[0,5,6,7]],\n",
    "                    y=table_80_70_test.iloc[2].values[[0,5,6,7]],\n",
    "                    mode = 'lines+markers',marker=dict(symbol='x'),\n",
    "                    name = 'Random Forest')\n",
    "\n",
    "\n",
    "trace3 = go.Scatter(x=table_80_70_test.iloc[3].index.values[[0,5,6,7]],\n",
    "                    y=table_80_70_test.iloc[3].values[[0,5,6,7]],\n",
    "                    mode = 'lines',\n",
    "                    name = 'Ada Boost')\n",
    "\n",
    "trace4 = go.Scatter(x=table_80_70_test.iloc[4].index.values[[0,5,6,7]],\n",
    "                    y=table_80_70_test.iloc[4].values[[0,5,6,7]],\n",
    "                    mode = 'lines+markers',\n",
    "                    name = 'GradientBoosting')\n",
    "\n",
    "trace5 = go.Scatter(x=table_80_70_test.iloc[5].index.values[[0,5,6,7]],\n",
    "                    y=table_80_70_test.iloc[5].values[[0,5,6,7]],\n",
    "                    mode = 'lines+markers',marker=dict(symbol='x'),\n",
    "                    name = 'ExtraTree Classifier')\n",
    "\n",
    "trace6 = go.Scatter(x=table_80_70_test.iloc[6].index.values[[0,5,6,7]],\n",
    "                    y=table_80_70_test.iloc[6].values[[0,5,6,7]],\n",
    "                    mode = 'lines+markers',marker=dict(symbol='x'),\n",
    "                    name = 'Bagging')\n",
    "\n",
    "trace7 = go.Scatter(x=table_80_70_test.iloc[7].index.values[[0,5,6,7]],\n",
    "                    y=table_80_70_test.iloc[7].values[[0,5,6,7]],\n",
    "                    mode = 'lines+markers',marker=dict(symbol='x'),\n",
    "                    name = 'Neural Network')\n",
    "\n",
    "\n",
    "\n",
    "data = [trace0, trace1, trace2, trace3, trace4, trace5, trace6, trace7]\n",
    "layout = go.Layout(yaxis=dict(tick0=0,dtick=0.05),title='Result comparision for Features selected in Section 1')\n",
    "fig = go.Figure(data=data, layout=layout)\n",
    "\n",
    "iplot(fig, filename='Result')"
   ]
  },
  {
   "cell_type": "code",
   "execution_count": 126,
   "metadata": {},
   "outputs": [
    {
     "name": "stdout",
     "output_type": "stream",
     "text": [
      "Training Results\n"
     ]
    },
    {
     "data": {
      "text/html": [
       "<div>\n",
       "<style scoped>\n",
       "    .dataframe tbody tr th:only-of-type {\n",
       "        vertical-align: middle;\n",
       "    }\n",
       "\n",
       "    .dataframe tbody tr th {\n",
       "        vertical-align: top;\n",
       "    }\n",
       "\n",
       "    .dataframe thead th {\n",
       "        text-align: right;\n",
       "    }\n",
       "</style>\n",
       "<table border=\"1\" class=\"dataframe\">\n",
       "  <thead>\n",
       "    <tr style=\"text-align: right;\">\n",
       "      <th></th>\n",
       "      <th>accuracy</th>\n",
       "      <th>TP</th>\n",
       "      <th>TN</th>\n",
       "      <th>FP</th>\n",
       "      <th>FN</th>\n",
       "      <th>FPR</th>\n",
       "      <th>FNR</th>\n",
       "    </tr>\n",
       "    <tr>\n",
       "      <th>index</th>\n",
       "      <th></th>\n",
       "      <th></th>\n",
       "      <th></th>\n",
       "      <th></th>\n",
       "      <th></th>\n",
       "      <th></th>\n",
       "      <th></th>\n",
       "    </tr>\n",
       "  </thead>\n",
       "  <tbody>\n",
       "    <tr>\n",
       "      <th>KNeighborsClassifier</th>\n",
       "      <td>0.919992</td>\n",
       "      <td>1436.0</td>\n",
       "      <td>32313.0</td>\n",
       "      <td>121.0</td>\n",
       "      <td>2814.0</td>\n",
       "      <td>0.003731</td>\n",
       "      <td>0.662118</td>\n",
       "    </tr>\n",
       "    <tr>\n",
       "      <th>LogisticRegression</th>\n",
       "      <td>0.911515</td>\n",
       "      <td>1290.0</td>\n",
       "      <td>32148.0</td>\n",
       "      <td>286.0</td>\n",
       "      <td>2960.0</td>\n",
       "      <td>0.008818</td>\n",
       "      <td>0.696471</td>\n",
       "    </tr>\n",
       "    <tr>\n",
       "      <th>RandomForestClassifier</th>\n",
       "      <td>0.924572</td>\n",
       "      <td>1552.0</td>\n",
       "      <td>32365.0</td>\n",
       "      <td>69.0</td>\n",
       "      <td>2698.0</td>\n",
       "      <td>0.002127</td>\n",
       "      <td>0.634824</td>\n",
       "    </tr>\n",
       "    <tr>\n",
       "      <th>AdaBoostClassifier</th>\n",
       "      <td>0.916258</td>\n",
       "      <td>1312.0</td>\n",
       "      <td>32300.0</td>\n",
       "      <td>134.0</td>\n",
       "      <td>2938.0</td>\n",
       "      <td>0.004131</td>\n",
       "      <td>0.691294</td>\n",
       "    </tr>\n",
       "    <tr>\n",
       "      <th>GradientBoostingClassifier</th>\n",
       "      <td>0.920047</td>\n",
       "      <td>1389.0</td>\n",
       "      <td>32362.0</td>\n",
       "      <td>72.0</td>\n",
       "      <td>2861.0</td>\n",
       "      <td>0.002220</td>\n",
       "      <td>0.673176</td>\n",
       "    </tr>\n",
       "    <tr>\n",
       "      <th>ExtraTreeClassifier</th>\n",
       "      <td>0.925962</td>\n",
       "      <td>1596.0</td>\n",
       "      <td>32372.0</td>\n",
       "      <td>62.0</td>\n",
       "      <td>2654.0</td>\n",
       "      <td>0.001912</td>\n",
       "      <td>0.624471</td>\n",
       "    </tr>\n",
       "    <tr>\n",
       "      <th>BaggingClassifier</th>\n",
       "      <td>0.924790</td>\n",
       "      <td>1559.0</td>\n",
       "      <td>32366.0</td>\n",
       "      <td>68.0</td>\n",
       "      <td>2691.0</td>\n",
       "      <td>0.002097</td>\n",
       "      <td>0.633176</td>\n",
       "    </tr>\n",
       "    <tr>\n",
       "      <th>Neural Network-1</th>\n",
       "      <td>0.916639</td>\n",
       "      <td>3723.0</td>\n",
       "      <td>29903.0</td>\n",
       "      <td>2531.0</td>\n",
       "      <td>527.0</td>\n",
       "      <td>0.078035</td>\n",
       "      <td>0.124000</td>\n",
       "    </tr>\n",
       "  </tbody>\n",
       "</table>\n",
       "</div>"
      ],
      "text/plain": [
       "                            accuracy      TP       TN      FP      FN  \\\n",
       "index                                                                   \n",
       "KNeighborsClassifier        0.919992  1436.0  32313.0   121.0  2814.0   \n",
       "LogisticRegression          0.911515  1290.0  32148.0   286.0  2960.0   \n",
       "RandomForestClassifier      0.924572  1552.0  32365.0    69.0  2698.0   \n",
       "AdaBoostClassifier          0.916258  1312.0  32300.0   134.0  2938.0   \n",
       "GradientBoostingClassifier  0.920047  1389.0  32362.0    72.0  2861.0   \n",
       "ExtraTreeClassifier         0.925962  1596.0  32372.0    62.0  2654.0   \n",
       "BaggingClassifier           0.924790  1559.0  32366.0    68.0  2691.0   \n",
       "Neural Network-1            0.916639  3723.0  29903.0  2531.0   527.0   \n",
       "\n",
       "                                 FPR       FNR  \n",
       "index                                           \n",
       "KNeighborsClassifier        0.003731  0.662118  \n",
       "LogisticRegression          0.008818  0.696471  \n",
       "RandomForestClassifier      0.002127  0.634824  \n",
       "AdaBoostClassifier          0.004131  0.691294  \n",
       "GradientBoostingClassifier  0.002220  0.673176  \n",
       "ExtraTreeClassifier         0.001912  0.624471  \n",
       "BaggingClassifier           0.002097  0.633176  \n",
       "Neural Network-1            0.078035  0.124000  "
      ]
     },
     "metadata": {},
     "output_type": "display_data"
    },
    {
     "name": "stdout",
     "output_type": "stream",
     "text": [
      "Test Results\n"
     ]
    },
    {
     "data": {
      "text/html": [
       "<div>\n",
       "<style scoped>\n",
       "    .dataframe tbody tr th:only-of-type {\n",
       "        vertical-align: middle;\n",
       "    }\n",
       "\n",
       "    .dataframe tbody tr th {\n",
       "        vertical-align: top;\n",
       "    }\n",
       "\n",
       "    .dataframe thead th {\n",
       "        text-align: right;\n",
       "    }\n",
       "</style>\n",
       "<table border=\"1\" class=\"dataframe\">\n",
       "  <thead>\n",
       "    <tr style=\"text-align: right;\">\n",
       "      <th></th>\n",
       "      <th>accuracy</th>\n",
       "      <th>TP</th>\n",
       "      <th>TN</th>\n",
       "      <th>FP</th>\n",
       "      <th>FN</th>\n",
       "      <th>FPR</th>\n",
       "      <th>FNR</th>\n",
       "      <th>auc</th>\n",
       "      <th>mcc</th>\n",
       "    </tr>\n",
       "    <tr>\n",
       "      <th>index</th>\n",
       "      <th></th>\n",
       "      <th></th>\n",
       "      <th></th>\n",
       "      <th></th>\n",
       "      <th></th>\n",
       "      <th></th>\n",
       "      <th></th>\n",
       "      <th></th>\n",
       "      <th></th>\n",
       "    </tr>\n",
       "  </thead>\n",
       "  <tbody>\n",
       "    <tr>\n",
       "      <th>KNeighborsClassifier</th>\n",
       "      <td>0.835369</td>\n",
       "      <td>296.0</td>\n",
       "      <td>7366.0</td>\n",
       "      <td>35.0</td>\n",
       "      <td>1475.0</td>\n",
       "      <td>0.004729</td>\n",
       "      <td>0.832863</td>\n",
       "      <td>0.581204</td>\n",
       "      <td>0.343714</td>\n",
       "    </tr>\n",
       "    <tr>\n",
       "      <th>LogisticRegression</th>\n",
       "      <td>0.831662</td>\n",
       "      <td>280.0</td>\n",
       "      <td>7348.0</td>\n",
       "      <td>53.0</td>\n",
       "      <td>1491.0</td>\n",
       "      <td>0.007161</td>\n",
       "      <td>0.841897</td>\n",
       "      <td>0.575471</td>\n",
       "      <td>0.318522</td>\n",
       "    </tr>\n",
       "    <tr>\n",
       "      <th>RandomForestClassifier</th>\n",
       "      <td>0.836459</td>\n",
       "      <td>306.0</td>\n",
       "      <td>7366.0</td>\n",
       "      <td>35.0</td>\n",
       "      <td>1465.0</td>\n",
       "      <td>0.004729</td>\n",
       "      <td>0.827216</td>\n",
       "      <td>0.584027</td>\n",
       "      <td>0.350609</td>\n",
       "    </tr>\n",
       "    <tr>\n",
       "      <th>AdaBoostClassifier</th>\n",
       "      <td>0.830789</td>\n",
       "      <td>251.0</td>\n",
       "      <td>7369.0</td>\n",
       "      <td>32.0</td>\n",
       "      <td>1520.0</td>\n",
       "      <td>0.004324</td>\n",
       "      <td>0.858272</td>\n",
       "      <td>0.568702</td>\n",
       "      <td>0.313642</td>\n",
       "    </tr>\n",
       "    <tr>\n",
       "      <th>GradientBoostingClassifier</th>\n",
       "      <td>0.831771</td>\n",
       "      <td>258.0</td>\n",
       "      <td>7371.0</td>\n",
       "      <td>30.0</td>\n",
       "      <td>1513.0</td>\n",
       "      <td>0.004054</td>\n",
       "      <td>0.854320</td>\n",
       "      <td>0.570813</td>\n",
       "      <td>0.320553</td>\n",
       "    </tr>\n",
       "    <tr>\n",
       "      <th>ExtraTreeClassifier</th>\n",
       "      <td>0.835914</td>\n",
       "      <td>313.0</td>\n",
       "      <td>7354.0</td>\n",
       "      <td>47.0</td>\n",
       "      <td>1458.0</td>\n",
       "      <td>0.006350</td>\n",
       "      <td>0.823264</td>\n",
       "      <td>0.585193</td>\n",
       "      <td>0.346337</td>\n",
       "    </tr>\n",
       "    <tr>\n",
       "      <th>BaggingClassifier</th>\n",
       "      <td>0.835259</td>\n",
       "      <td>299.0</td>\n",
       "      <td>7362.0</td>\n",
       "      <td>39.0</td>\n",
       "      <td>1472.0</td>\n",
       "      <td>0.005270</td>\n",
       "      <td>0.831169</td>\n",
       "      <td>0.581781</td>\n",
       "      <td>0.342688</td>\n",
       "    </tr>\n",
       "    <tr>\n",
       "      <th>Neural Network-1</th>\n",
       "      <td>0.869821</td>\n",
       "      <td>1136.0</td>\n",
       "      <td>6842.0</td>\n",
       "      <td>559.0</td>\n",
       "      <td>635.0</td>\n",
       "      <td>0.075530</td>\n",
       "      <td>0.358554</td>\n",
       "      <td>0.581781</td>\n",
       "      <td>0.575516</td>\n",
       "    </tr>\n",
       "  </tbody>\n",
       "</table>\n",
       "</div>"
      ],
      "text/plain": [
       "                            accuracy      TP      TN     FP      FN       FPR  \\\n",
       "index                                                                           \n",
       "KNeighborsClassifier        0.835369   296.0  7366.0   35.0  1475.0  0.004729   \n",
       "LogisticRegression          0.831662   280.0  7348.0   53.0  1491.0  0.007161   \n",
       "RandomForestClassifier      0.836459   306.0  7366.0   35.0  1465.0  0.004729   \n",
       "AdaBoostClassifier          0.830789   251.0  7369.0   32.0  1520.0  0.004324   \n",
       "GradientBoostingClassifier  0.831771   258.0  7371.0   30.0  1513.0  0.004054   \n",
       "ExtraTreeClassifier         0.835914   313.0  7354.0   47.0  1458.0  0.006350   \n",
       "BaggingClassifier           0.835259   299.0  7362.0   39.0  1472.0  0.005270   \n",
       "Neural Network-1            0.869821  1136.0  6842.0  559.0   635.0  0.075530   \n",
       "\n",
       "                                 FNR       auc       mcc  \n",
       "index                                                     \n",
       "KNeighborsClassifier        0.832863  0.581204  0.343714  \n",
       "LogisticRegression          0.841897  0.575471  0.318522  \n",
       "RandomForestClassifier      0.827216  0.584027  0.350609  \n",
       "AdaBoostClassifier          0.858272  0.568702  0.313642  \n",
       "GradientBoostingClassifier  0.854320  0.570813  0.320553  \n",
       "ExtraTreeClassifier         0.823264  0.585193  0.346337  \n",
       "BaggingClassifier           0.831169  0.581781  0.342688  \n",
       "Neural Network-1            0.358554  0.581781  0.575516  "
      ]
     },
     "metadata": {},
     "output_type": "display_data"
    }
   ],
   "source": [
    "table_80_70_train['index']=ind_columns\n",
    "table_80_70_test['index']=ind_columns\n",
    "\n",
    "\n",
    "table_80_70_test.set_index(['index'],drop=True,inplace=True)\n",
    "table_80_70_train.set_index(['index'],drop=True,inplace=True)\n",
    "\n",
    "print(\"Training Results\")\n",
    "display(table_80_70_train)\n",
    "print(\"Test Results\")\n",
    "display(table_80_70_test)"
   ]
  },
  {
   "cell_type": "code",
   "execution_count": 3,
   "metadata": {},
   "outputs": [
    {
     "data": {
      "text/html": [
       "<script>\n",
       "code_show=true; \n",
       "function code_toggle() {\n",
       " if (code_show){\n",
       " $('div.input').hide();\n",
       " } else {\n",
       " $('div.input').show();\n",
       " }\n",
       " code_show = !code_show\n",
       "} \n",
       "$( document ).ready(code_toggle);\n",
       "</script>\n",
       "To toggle code, click <a href=\"javascript:code_toggle()\">here</a>."
      ],
      "text/plain": [
       "<IPython.core.display.HTML object>"
      ]
     },
     "execution_count": 3,
     "metadata": {},
     "output_type": "execute_result"
    }
   ],
   "source": [
    "### Original Creator : Darshan Bhansali\n",
    "### HTML code to hide the input cells \n",
    "HTML('''<script>\n",
    "code_show=true; \n",
    "function code_toggle() {\n",
    " if (code_show){\n",
    " $('div.input').hide();\n",
    " } else {\n",
    " $('div.input').show();\n",
    " }\n",
    " code_show = !code_show\n",
    "} \n",
    "$( document ).ready(code_toggle);\n",
    "</script>\n",
    "To toggle code, click <a href=\"javascript:code_toggle()\">here</a>.''')"
   ]
  },
  {
   "cell_type": "code",
   "execution_count": null,
   "metadata": {
    "collapsed": true
   },
   "outputs": [],
   "source": []
  }
 ],
 "metadata": {
  "kernelspec": {
   "display_name": "Python 3",
   "language": "python",
   "name": "python3"
  },
  "language_info": {
   "codemirror_mode": {
    "name": "ipython",
    "version": 3
   },
   "file_extension": ".py",
   "mimetype": "text/x-python",
   "name": "python",
   "nbconvert_exporter": "python",
   "pygments_lexer": "ipython3",
   "version": "3.6.6"
  }
 },
 "nbformat": 4,
 "nbformat_minor": 2
}
