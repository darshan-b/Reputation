{
 "cells": [
  {
   "cell_type": "markdown",
   "metadata": {},
   "source": [
    "***\n",
    "## Table of Contents\n",
    "<br>\n",
    "  <br>\n",
    "    <ol>\n",
    "        <h2><a href='#1' style=\"text-decoration : none; color : #000000;\">1. Initial Models</a></h2>\n",
    "        <ul>\n",
    "            <a href='#1.A' style=\"text-decoration : none; color : #000000;\"><h3>A. Results </h3></a>\n",
    "        </ul>\n",
    "        <ul>\n",
    "            <a href='#1.B' style=\"text-decoration : none; color : #000000;\"><h3>B. Average Feature Importance   </h3></a>\n",
    "        </ul>\n",
    "     </ol>\n",
    "     <br> \n",
    "\n",
    "<ol>\n",
    "        <h2><a href='#2' style=\"text-decoration : none; color : #000000;\">2. Oversampling </a></h2>\n",
    "        <ul>\n",
    "            <a href='#2.A' style=\"text-decoration : none; color : #000000;\"><h3>A. Results </h3></a>\n",
    "        </ul>\n",
    "        <ul>\n",
    "            <a href='#2.B' style=\"text-decoration : none; color : #000000;\"><h3>B. Average Feature Importance   </h3></a>\n",
    "        </ul>\n",
    "     </ol>\n",
    "     <br>\n",
    "     \n",
    " <ol>\n",
    "        <h2><a href='#3' style=\"text-decoration : none; color : #000000;\">3. Undersampling</a></h2>\n",
    "        <ul>\n",
    "            <a href='#3.A' style=\"text-decoration : none; color : #000000;\"><h3>A. Results </h3></a>\n",
    "        </ul>\n",
    "        <ul>\n",
    "            <a href='#3.B' style=\"text-decoration : none; color : #000000;\"><h3>B. Average Feature Importance   </h3></a>\n",
    "        </ul>\n",
    "     </ol>\n",
    "     <br>\n",
    "     \n",
    " <ol>\n",
    "        <h2><a href='#4' style=\"text-decoration : none; color : #000000;\">4.Feature Transformation with feature selection</a></h2>\n",
    "        <ul>\n",
    "            <a href='#4.A' style=\"text-decoration : none; color : #000000;\"><h3>A. Results </h3></a>\n",
    "        </ul>\n",
    "        <ul>\n",
    "            <a href='#4.B' style=\"text-decoration : none; color : #000000;\"><h3>B. Average Feature Importance   </h3></a>\n",
    "        </ul>\n",
    "     </ol>\n",
    "     <br>\n",
    "     \n",
    "     \n",
    " <ol>\n",
    "        <h2><a href='#5' style=\"text-decoration : none; color : #000000;\">5.Feature Transformation with PCA</a></h2>\n",
    "        <ul>\n",
    "            <a href='#5.A' style=\"text-decoration : none; color : #000000;\"><h3>A. Results </h3></a>\n",
    "        </ul>\n",
    "        <ul>\n",
    "            <a href='#5.B' style=\"text-decoration : none; color : #000000;\"><h3>B. Average Feature Importance   </h3></a>\n",
    "        </ul>\n",
    "     </ol>\n",
    "     <br>"
   ]
  },
  {
   "cell_type": "code",
   "execution_count": 1,
   "metadata": {},
   "outputs": [
    {
     "name": "stderr",
     "output_type": "stream",
     "text": [
      "Using TensorFlow backend.\n"
     ]
    },
    {
     "data": {
      "text/html": [
       "<script type=\"text/javascript\">window.PlotlyConfig = {MathJaxConfig: 'local'};</script><script type=\"text/javascript\">if (window.MathJax) {MathJax.Hub.Config({SVG: {font: \"STIX-Web\"}});}</script><script>requirejs.config({paths: { 'plotly': ['https://cdn.plot.ly/plotly-latest.min']},});if(!window._Plotly) {require(['plotly'],function(plotly) {window._Plotly=plotly;});}</script>"
      ],
      "text/vnd.plotly.v1+html": [
       "<script type=\"text/javascript\">window.PlotlyConfig = {MathJaxConfig: 'local'};</script><script type=\"text/javascript\">if (window.MathJax) {MathJax.Hub.Config({SVG: {font: \"STIX-Web\"}});}</script><script>requirejs.config({paths: { 'plotly': ['https://cdn.plot.ly/plotly-latest.min']},});if(!window._Plotly) {require(['plotly'],function(plotly) {window._Plotly=plotly;});}</script>"
      ]
     },
     "metadata": {},
     "output_type": "display_data"
    }
   ],
   "source": [
    "import pandas as pd\n",
    "import numpy as np\n",
    "import copy\n",
    "import matplotlib.pyplot as plt\n",
    "import seaborn as sns\n",
    "%matplotlib inline\n",
    "\n",
    "from IPython.display import display,clear_output,HTML\n",
    "import warnings\n",
    "warnings.filterwarnings(\"ignore\")\n",
    "\n",
    "import keras\n",
    "from keras.layers import Dense,Dropout\n",
    "from keras.models import Sequential\n",
    "warnings.simplefilter(\"ignore\", DeprecationWarning)\n",
    "import researchpy as rp\n",
    "\n",
    "%matplotlib inline\n",
    "pd.set_option('display.max_columns', 500)\n",
    "pd.set_option('display.max_rows',305)\n",
    "\n",
    "from sklearn.feature_selection import SelectKBest,chi2,RFE,RFECV,f_regression,SelectFromModel\n",
    "from sklearn.linear_model import LogisticRegression\n",
    "from sklearn.ensemble import ExtraTreesClassifier,RandomForestClassifier,GradientBoostingClassifier,AdaBoostClassifier,BaggingClassifier\n",
    "from sklearn.neighbors import KNeighborsClassifier\n",
    "from sklearn.model_selection import train_test_split,cross_val_score\n",
    "\n",
    "from sklearn.preprocessing import StandardScaler,MinMaxScaler\n",
    "from sklearn import metrics\n",
    "\n",
    "\n",
    "\n",
    "from sklearn.decomposition import PCA\n",
    "from sklearn.metrics import accuracy_score,auc,roc_curve,recall_score,precision_score,matthews_corrcoef\n",
    "\n",
    "from pandas_ml import ConfusionMatrix\n",
    "\n",
    "\n",
    "from imblearn.over_sampling import SMOTE\n",
    "\n",
    "from plotly.offline import download_plotlyjs, init_notebook_mode, plot, iplot\n",
    "init_notebook_mode(connected=True)\n",
    "import plotly.graph_objs as go\n",
    "\n",
    "import featuretools as ft\n",
    "\n",
    "from scipy import stats\n",
    "import re"
   ]
  },
  {
   "cell_type": "code",
   "execution_count": 2,
   "metadata": {
    "collapsed": true
   },
   "outputs": [],
   "source": [
    "### Function to plot Feature Importance\n",
    "def feat_impt_plot(feat_impt,y_labels,width_s=1000,height_s=1000):\n",
    "    \n",
    "    m=pd.DataFrame(y_labels,feat_impt).reset_index()\n",
    "    m.columns=['Feature_Importance','Features']\n",
    "    m.sort_values(by='Feature_Importance',inplace=True,ascending=False)\n",
    "    m['Features']=m['Features'].str.replace(\"dom_function_\",\"\")\n",
    "    m['Features']=m['Features'].str.replace(\"js_function_\",\"\")\n",
    "    m['Features']=m['Features'].apply(lambda x: str(x).lstrip('.'))\n",
    "    m['Features']=m['Features'].str.replace(\"(\",\"\")\n",
    "    \n",
    "    data = [go.Bar(x=m.Feature_Importance.values,y=m.Features.values,text=np.round(m.Feature_Importance,4),\n",
    "            textposition = 'outside',\n",
    "            marker=dict(\n",
    "                color='rgb(158,202,225)',\n",
    "                line=dict(\n",
    "                    color='rgb(8,48,107)',\n",
    "                    width=1.5),\n",
    "            ),\n",
    "            opacity=0.6,\n",
    "            orientation='h'\n",
    "        )]\n",
    "    layout = go.Layout(autosize=False,\n",
    "    width=width_s,\n",
    "    height=height_s,\n",
    "    xaxis=dict(title='Feature Importances',\n",
    "        tickfont=dict(\n",
    "            size=12,\n",
    "            color='black'\n",
    "        )),\n",
    "    yaxis=dict(automargin=True))\n",
    "    fig = go.Figure(data=data, layout=layout)\n",
    "    iplot(fig)"
   ]
  },
  {
   "cell_type": "code",
   "execution_count": 3,
   "metadata": {
    "collapsed": true
   },
   "outputs": [],
   "source": [
    "def uni_value(data):\n",
    "    lst=[]\n",
    "    for col in data.columns[:]:\n",
    "        lst.append([col,dict(data[col].value_counts()),data[col].value_counts().values[0]>=len(data)*0.95])\n",
    "    col_values=pd.DataFrame(lst,columns=['Feature','Value_Counts','95_%_same_values'])\n",
    "    col_values.set_index('Feature',drop=True,inplace=True)\n",
    "    del lst\n",
    "    return col_values\n",
    "\n",
    "    \n",
    "def check_cat(data):\n",
    "    cat_var=[]\n",
    "    num_var=[]\n",
    "    for col in data.columns:\n",
    "        if col!='Target':\n",
    "            if len(data[col].value_counts())==2:\n",
    "                cat_var.append(col)\n",
    "            else:\n",
    "                num_var.append(col)\n",
    "    return cat_var,num_var\n",
    "\n",
    "\n",
    "def num_stats(data,columns):\n",
    "    lst=[]\n",
    "    c=0\n",
    "    for col in columns:\n",
    "        corr=stats.pointbiserialr(data[col],data.Target)[0]\n",
    "        corr_p=stats.pointbiserialr(data[col],data.Target)[1]\n",
    "        ttest=stats.ttest_ind(data[data.Target==1][col], data[data.Target==0][col], equal_var=False)[0]\n",
    "        ttest_p=stats.ttest_ind(data[data.Target==1][col], data[data.Target==0][col], equal_var=False)[1]\n",
    "        lst.append((corr,corr_p,ttest,ttest_p,col))\n",
    "    stats_data=pd.DataFrame(lst,columns=['Pt. Biserial Corr','Pt. Biserial Corr p-val','ttest','ttest p-val','Feature'])\n",
    "    stats_data.set_index('Feature',drop=True,inplace=True)\n",
    "    stats_data.sort_values(by='ttest',inplace=True)\n",
    "    del lst\n",
    "    return stats_data\n",
    "\n",
    "\n",
    "### Generate statistics for categorical data\n",
    "def cat_stats(data,columns):\n",
    "    lst=[]\n",
    "    c=0\n",
    "    for col in columns:\n",
    "        if col!='Target':\n",
    "            table, results = rp.crosstab(data['Target'], data[col], prop= 'col', test= 'chi-square')\n",
    "            x=results['results'].values.tolist()\n",
    "            x.append(col)\n",
    "            lst.append(x)\n",
    "    chi_df=pd.DataFrame(lst,columns=['Pearson Chi-square','p-value','Cramers V','Feature'])\n",
    "    chi_df.set_index('Feature',drop=True,inplace=True)\n",
    "    chi_df.sort_values(by='Cramers V',ascending=False,inplace=True)\n",
    "    del lst\n",
    "    return chi_df\n",
    "\n",
    "def remove_feat(data):\n",
    "    col_no_unique=[]\n",
    "    for col in data.columns[:]:\n",
    "        if len(data[col].value_counts())<=1:\n",
    "#             print(col)\n",
    "            col_no_unique.append(col)\n",
    "    return col_no_unique\n",
    "\n",
    "### Generate plot for class balance for categorical nature\n",
    "def class_bal(data,title=''):\n",
    "    d = [go.Bar(x=data.Target.value_counts().index.values,\n",
    "               y=data.Target.value_counts().values,\n",
    "               text=data.Target.value_counts().values,\n",
    "               textposition = 'outside',\n",
    "            )]\n",
    "    layout = go.Layout(title=title,xaxis=dict(title='Domain Type',tickfont=dict(size=12,color='black')),\n",
    "                    yaxis=dict(title='Number of Instances'))\n",
    "    fig = go.Figure(data=d, layout=layout)\n",
    "    iplot(fig)"
   ]
  },
  {
   "cell_type": "code",
   "execution_count": 4,
   "metadata": {
    "collapsed": true
   },
   "outputs": [],
   "source": [
    "def model_build(model,X_train,Y_train,X_test,Y_test,tree=False,feat=None):\n",
    "    \n",
    "    y_pred_train=model.predict(X_train)\n",
    "    acc_train=accuracy_score(Y_train,y_pred_train)\n",
    "    \n",
    "    print(\"Accuracy of the model for training data is:\",acc_train)\n",
    "    print(\"Confusion Matrix for training data is:\")\n",
    "    cm_train=ConfusionMatrix(Y_train,y_pred_train)\n",
    "    display(cm_train)\n",
    "    \n",
    "    \n",
    "    y_pred_test=model.predict(X_test)\n",
    "    acc_test=accuracy_score(Y_test,y_pred_test)\n",
    "    print(\"Accuracy of the model for test data is:\",acc_test)\n",
    "    print(\"Confusion Matrix for test data is:\")\n",
    "    cm_test=ConfusionMatrix(Y_test,y_pred_test)\n",
    "    display(cm_test)\n",
    "\n",
    "    fpr, tpr, threshold = roc_curve(Y_test, y_pred_test)\n",
    "    roc_auc =auc(fpr, tpr)\n",
    "    mcc=matthews_corrcoef(Y_test,y_pred_test)\n",
    "    if tree==True:\n",
    "        feat_impt_plot(model.feature_importances_,feat)\n",
    "        return model,cm_train,cm_test,acc_train,acc_test,roc_auc,model.feature_importances_,mcc\n",
    "    \n",
    "    return model,cm_train,cm_test,acc_train,acc_test,roc_auc,mcc\n",
    "\n",
    "def KNN_model(X_train,Y_train,X_test,Y_test):\n",
    "    print('\\033[1m' + 'K-Nearest Neighbors' + '\\033[0m')\n",
    "    knn=KNeighborsClassifier()\n",
    "    knn.fit(X_train,Y_train)\n",
    "\n",
    "    return model_build(knn,X_train,Y_train,X_test,Y_test)\n",
    "\n",
    "def Logistic_model(X_train,Y_train,X_test,Y_test):\n",
    "    print('\\033[1m' + 'Logistic Regression' + '\\033[0m')\n",
    "    log=LogisticRegression()\n",
    "    log.fit(X_train,Y_train)\n",
    "    \n",
    "    return model_build(log,X_train,Y_train,X_test,Y_test)\n",
    "\n",
    "def RandomForest(X_train,Y_train,X_test,Y_test,feat):\n",
    "    print('\\033[1m' + 'RandomForest Classifier' + '\\033[0m')\n",
    "    rf=RandomForestClassifier()\n",
    "    rf.fit(X_train,Y_train)\n",
    "\n",
    "    \n",
    "    return model_build(rf,X_train,Y_train,X_test,Y_test,True,feat)\n",
    "\n",
    "def AdaBoost(X_train,Y_train,X_test,Y_test,feat):\n",
    "    print('\\033[1m' + 'Adaoost Classifier' + '\\033[0m')\n",
    "    ada=AdaBoostClassifier()\n",
    "    ada.fit(X_train,Y_train)\n",
    "    \n",
    "    return model_build(ada,X_train,Y_train,X_test,Y_test,True,feat)\n",
    "\n",
    "def GradientBoosting(X_train,Y_train,X_test,Y_test,feat):\n",
    "    print('\\033[1m' + 'GradientBoosting Classifier' + '\\033[0m')\n",
    "    gbc=GradientBoostingClassifier()\n",
    "    gbc.fit(X_train,Y_train)\n",
    "    \n",
    "    return model_build(gbc,X_train,Y_train,X_test,Y_test,True,feat)\n",
    "\n",
    "def ExtraTree(X_train,Y_train,X_test,Y_test,feat):\n",
    "    print('\\033[1m' + 'ExtraTree Classifier' + '\\033[0m')\n",
    "    ext_tree=ExtraTreesClassifier()\n",
    "    ext_tree.fit(X_train,Y_train)\n",
    "    \n",
    "    return model_build(ext_tree,X_train,Y_train,X_test,Y_test,True,feat)\n",
    "\n",
    "def Bagging(X_train,Y_train,X_test,Y_test):\n",
    "    print('\\033[1m' + 'Bagging Classifier' + '\\033[0m')\n",
    "    bagging=BaggingClassifier()\n",
    "    bagging.fit(X_train,Y_train)\n",
    "    \n",
    "    return model_build(bagging,X_train,Y_train,X_test,Y_test)\n",
    "\n",
    "def DeepLearning1(X_train,Y_train,X_test,Y_test):\n",
    "    print('\\033[1m' + 'Neural Network-1' + '\\033[0m')\n",
    "    np.random.seed(0)\n",
    "    deep_learning=Sequential()\n",
    "    deep_learning.add(Dense(units=64,activation='relu',use_bias=True,kernel_initializer='uniform',input_dim=X_train.shape[1]))\n",
    "    deep_learning.add(Dense(units=128,activation='relu',use_bias=True,kernel_initializer='uniform'))\n",
    "    deep_learning.add(Dense(units=1,activation='sigmoid',use_bias=True,kernel_initializer='uniform'))\n",
    "    deep_learning.compile(optimizer='adam',loss='binary_crossentropy',metrics=['accuracy'])\n",
    "    deep_learning.fit(X_train,Y_train,batch_size=20,epochs=80,verbose=False)\n",
    "    acc_train=deep_learning.evaluate(X_train,Y_train,verbose=False)[1]\n",
    "    print(\"The accuracy of the model on training data is:\",acc_train)\n",
    "    cm_train=ConfusionMatrix(Y_train,deep_learning.predict_classes(X_train,batch_size=1,verbose=False).reshape(1,len(X_train))[0])\n",
    "    cm_test=ConfusionMatrix(Y_test,deep_learning.predict_classes(X_test,batch_size=1,verbose=False).reshape(1,len(X_test))[0])\n",
    "    display(cm_train)\n",
    "    acc_test=accuracy_score(Y_test,deep_learning.predict_classes(X_test,batch_size=1,verbose=False))\n",
    "    print(\"The accuracy of the model on test data is:\",acc_test)\n",
    "    display(cm_test)\n",
    "    mcc=matthews_corrcoef(Y_test,deep_learning.predict_classes(X_test,batch_size=1,verbose=False))\n",
    "    return  deep_learning,cm_train,cm_test,acc_train,acc_test,roc_auc,mcc"
   ]
  },
  {
   "cell_type": "code",
   "execution_count": 5,
   "metadata": {},
   "outputs": [
    {
     "name": "stdout",
     "output_type": "stream",
     "text": [
      "Shape of our dataset: (46771, 4195)\n"
     ]
    }
   ],
   "source": [
    "df=pd.read_csv('URL.csv')\n",
    "\n",
    "df.drop(['Unnamed: 0'],axis=1,inplace=True)\n",
    "\n",
    "df.fillna(value=0,inplace=True)\n",
    "\n",
    "cookies=[columns for columns in df.columns if 'number' in columns]\n",
    "\n",
    "df.drop(cookies,axis=1,inplace=True)\n",
    "df=df[df['domain']!=0]\n",
    "df.sort_values(by='Target',inplace=True,ascending=False)\n",
    "\n",
    "df.drop_duplicates(['domain'], keep='first',inplace=True)\n",
    "\n",
    "df=df.sample(frac=1,random_state=0)\n",
    "print(\"Shape of our dataset:\",df.shape)"
   ]
  },
  {
   "cell_type": "code",
   "execution_count": 6,
   "metadata": {
    "collapsed": true
   },
   "outputs": [],
   "source": [
    "df['url_number_vowels'] = df['domain'].str.lower().str.count(r'[aeiou]')\n",
    "df['url_number_consonants'] = df['domain'].str.count(r'[bcdfghjklmnpqrstvwxzy]', flags=re.I)\n",
    "df['url_number_digits'] = df['domain'].str.count(r'\\d')\n",
    "df['url_number_special_chars']=df['url_length']-df[['url_number_vowels','url_number_consonants','url_number_digits']].sum(axis=1)"
   ]
  },
  {
   "cell_type": "code",
   "execution_count": 7,
   "metadata": {},
   "outputs": [],
   "source": [
    "df['url_port']=df['url_port'].apply(lambda x: 0 if x==0 else 1 )\n",
    "df['url_number_vowels/url_length'] = df['url_number_vowels']/df['url_length']\n",
    "df['url_number_consonants/url_length'] = df['url_number_consonants']/df['url_length']\n",
    "df['url_number_digits/url_length'] = df['url_number_digits']/df['url_length']\n",
    "df['url_number_special_chars/url_length']=df['url_number_special_chars']/df['url_length']"
   ]
  },
  {
   "cell_type": "code",
   "execution_count": 8,
   "metadata": {},
   "outputs": [],
   "source": [
    "characters='abcdefghijklmnopqrstuvwxyz0123456789'\n",
    "for char in characters:\n",
    "    field=char+\"_average\"\n",
    "    df[field]=df['domain'].apply(lambda x: str.count(x, char))\n",
    "    df[field]=df[field]/df['url_length']"
   ]
  },
  {
   "cell_type": "code",
   "execution_count": 9,
   "metadata": {
    "collapsed": true
   },
   "outputs": [],
   "source": [
    "df.set_index(['domain'],inplace=True,drop=True)"
   ]
  },
  {
   "cell_type": "code",
   "execution_count": 11,
   "metadata": {},
   "outputs": [
    {
     "data": {
      "text/html": [
       "<div>\n",
       "<style scoped>\n",
       "    .dataframe tbody tr th:only-of-type {\n",
       "        vertical-align: middle;\n",
       "    }\n",
       "\n",
       "    .dataframe tbody tr th {\n",
       "        vertical-align: top;\n",
       "    }\n",
       "\n",
       "    .dataframe thead th {\n",
       "        text-align: right;\n",
       "    }\n",
       "</style>\n",
       "<table border=\"1\" class=\"dataframe\">\n",
       "  <thead>\n",
       "    <tr style=\"text-align: right;\">\n",
       "      <th></th>\n",
       "      <th>a_average</th>\n",
       "      <th>b_average</th>\n",
       "      <th>c_average</th>\n",
       "      <th>d_average</th>\n",
       "      <th>e_average</th>\n",
       "      <th>f_average</th>\n",
       "      <th>g_average</th>\n",
       "      <th>h_average</th>\n",
       "      <th>i_average</th>\n",
       "      <th>j_average</th>\n",
       "      <th>k_average</th>\n",
       "      <th>l_average</th>\n",
       "      <th>m_average</th>\n",
       "      <th>n_average</th>\n",
       "      <th>o_average</th>\n",
       "      <th>p_average</th>\n",
       "      <th>q_average</th>\n",
       "      <th>r_average</th>\n",
       "      <th>s_average</th>\n",
       "      <th>t_average</th>\n",
       "      <th>u_average</th>\n",
       "      <th>v_average</th>\n",
       "      <th>w_average</th>\n",
       "      <th>x_average</th>\n",
       "      <th>y_average</th>\n",
       "      <th>z_average</th>\n",
       "      <th>0_average</th>\n",
       "      <th>1_average</th>\n",
       "      <th>2_average</th>\n",
       "      <th>3_average</th>\n",
       "      <th>4_average</th>\n",
       "      <th>5_average</th>\n",
       "      <th>6_average</th>\n",
       "      <th>7_average</th>\n",
       "      <th>8_average</th>\n",
       "      <th>9_average</th>\n",
       "    </tr>\n",
       "    <tr>\n",
       "      <th>domain</th>\n",
       "      <th></th>\n",
       "      <th></th>\n",
       "      <th></th>\n",
       "      <th></th>\n",
       "      <th></th>\n",
       "      <th></th>\n",
       "      <th></th>\n",
       "      <th></th>\n",
       "      <th></th>\n",
       "      <th></th>\n",
       "      <th></th>\n",
       "      <th></th>\n",
       "      <th></th>\n",
       "      <th></th>\n",
       "      <th></th>\n",
       "      <th></th>\n",
       "      <th></th>\n",
       "      <th></th>\n",
       "      <th></th>\n",
       "      <th></th>\n",
       "      <th></th>\n",
       "      <th></th>\n",
       "      <th></th>\n",
       "      <th></th>\n",
       "      <th></th>\n",
       "      <th></th>\n",
       "      <th></th>\n",
       "      <th></th>\n",
       "      <th></th>\n",
       "      <th></th>\n",
       "      <th></th>\n",
       "      <th></th>\n",
       "      <th></th>\n",
       "      <th></th>\n",
       "      <th></th>\n",
       "      <th></th>\n",
       "    </tr>\n",
       "  </thead>\n",
       "  <tbody>\n",
       "    <tr>\n",
       "      <th>tjk.org</th>\n",
       "      <td>0.000000</td>\n",
       "      <td>0.000000</td>\n",
       "      <td>0.000000</td>\n",
       "      <td>0.000000</td>\n",
       "      <td>0.000000</td>\n",
       "      <td>0.000000</td>\n",
       "      <td>0.142857</td>\n",
       "      <td>0.000000</td>\n",
       "      <td>0.000000</td>\n",
       "      <td>0.142857</td>\n",
       "      <td>0.142857</td>\n",
       "      <td>0.000000</td>\n",
       "      <td>0.000000</td>\n",
       "      <td>0.000000</td>\n",
       "      <td>0.142857</td>\n",
       "      <td>0.000000</td>\n",
       "      <td>0.0</td>\n",
       "      <td>0.142857</td>\n",
       "      <td>0.000000</td>\n",
       "      <td>0.142857</td>\n",
       "      <td>0.000000</td>\n",
       "      <td>0.0</td>\n",
       "      <td>0.0</td>\n",
       "      <td>0.000000</td>\n",
       "      <td>0.000000</td>\n",
       "      <td>0.000000</td>\n",
       "      <td>0.000000</td>\n",
       "      <td>0.000000</td>\n",
       "      <td>0.000000</td>\n",
       "      <td>0.00</td>\n",
       "      <td>0.0</td>\n",
       "      <td>0.0</td>\n",
       "      <td>0.00</td>\n",
       "      <td>0.000000</td>\n",
       "      <td>0.000000</td>\n",
       "      <td>0.0</td>\n",
       "    </tr>\n",
       "    <tr>\n",
       "      <th>magenta-musik-360.de</th>\n",
       "      <td>0.100000</td>\n",
       "      <td>0.000000</td>\n",
       "      <td>0.000000</td>\n",
       "      <td>0.050000</td>\n",
       "      <td>0.100000</td>\n",
       "      <td>0.000000</td>\n",
       "      <td>0.050000</td>\n",
       "      <td>0.000000</td>\n",
       "      <td>0.050000</td>\n",
       "      <td>0.000000</td>\n",
       "      <td>0.050000</td>\n",
       "      <td>0.000000</td>\n",
       "      <td>0.100000</td>\n",
       "      <td>0.050000</td>\n",
       "      <td>0.000000</td>\n",
       "      <td>0.000000</td>\n",
       "      <td>0.0</td>\n",
       "      <td>0.000000</td>\n",
       "      <td>0.050000</td>\n",
       "      <td>0.050000</td>\n",
       "      <td>0.050000</td>\n",
       "      <td>0.0</td>\n",
       "      <td>0.0</td>\n",
       "      <td>0.000000</td>\n",
       "      <td>0.000000</td>\n",
       "      <td>0.000000</td>\n",
       "      <td>0.050000</td>\n",
       "      <td>0.000000</td>\n",
       "      <td>0.000000</td>\n",
       "      <td>0.05</td>\n",
       "      <td>0.0</td>\n",
       "      <td>0.0</td>\n",
       "      <td>0.05</td>\n",
       "      <td>0.000000</td>\n",
       "      <td>0.000000</td>\n",
       "      <td>0.0</td>\n",
       "    </tr>\n",
       "    <tr>\n",
       "      <th>hitgelsin.com</th>\n",
       "      <td>0.000000</td>\n",
       "      <td>0.000000</td>\n",
       "      <td>0.076923</td>\n",
       "      <td>0.000000</td>\n",
       "      <td>0.076923</td>\n",
       "      <td>0.000000</td>\n",
       "      <td>0.076923</td>\n",
       "      <td>0.076923</td>\n",
       "      <td>0.153846</td>\n",
       "      <td>0.000000</td>\n",
       "      <td>0.000000</td>\n",
       "      <td>0.076923</td>\n",
       "      <td>0.076923</td>\n",
       "      <td>0.076923</td>\n",
       "      <td>0.076923</td>\n",
       "      <td>0.000000</td>\n",
       "      <td>0.0</td>\n",
       "      <td>0.000000</td>\n",
       "      <td>0.076923</td>\n",
       "      <td>0.076923</td>\n",
       "      <td>0.000000</td>\n",
       "      <td>0.0</td>\n",
       "      <td>0.0</td>\n",
       "      <td>0.000000</td>\n",
       "      <td>0.000000</td>\n",
       "      <td>0.000000</td>\n",
       "      <td>0.000000</td>\n",
       "      <td>0.000000</td>\n",
       "      <td>0.000000</td>\n",
       "      <td>0.00</td>\n",
       "      <td>0.0</td>\n",
       "      <td>0.0</td>\n",
       "      <td>0.00</td>\n",
       "      <td>0.000000</td>\n",
       "      <td>0.000000</td>\n",
       "      <td>0.0</td>\n",
       "    </tr>\n",
       "    <tr>\n",
       "      <th>80.82.77.17/bins-arm7</th>\n",
       "      <td>0.047619</td>\n",
       "      <td>0.047619</td>\n",
       "      <td>0.000000</td>\n",
       "      <td>0.000000</td>\n",
       "      <td>0.000000</td>\n",
       "      <td>0.000000</td>\n",
       "      <td>0.000000</td>\n",
       "      <td>0.000000</td>\n",
       "      <td>0.047619</td>\n",
       "      <td>0.000000</td>\n",
       "      <td>0.000000</td>\n",
       "      <td>0.000000</td>\n",
       "      <td>0.047619</td>\n",
       "      <td>0.047619</td>\n",
       "      <td>0.000000</td>\n",
       "      <td>0.000000</td>\n",
       "      <td>0.0</td>\n",
       "      <td>0.047619</td>\n",
       "      <td>0.047619</td>\n",
       "      <td>0.000000</td>\n",
       "      <td>0.000000</td>\n",
       "      <td>0.0</td>\n",
       "      <td>0.0</td>\n",
       "      <td>0.000000</td>\n",
       "      <td>0.000000</td>\n",
       "      <td>0.000000</td>\n",
       "      <td>0.047619</td>\n",
       "      <td>0.047619</td>\n",
       "      <td>0.047619</td>\n",
       "      <td>0.00</td>\n",
       "      <td>0.0</td>\n",
       "      <td>0.0</td>\n",
       "      <td>0.00</td>\n",
       "      <td>0.190476</td>\n",
       "      <td>0.095238</td>\n",
       "      <td>0.0</td>\n",
       "    </tr>\n",
       "    <tr>\n",
       "      <th>nu.edu.bd</th>\n",
       "      <td>0.000000</td>\n",
       "      <td>0.111111</td>\n",
       "      <td>0.000000</td>\n",
       "      <td>0.222222</td>\n",
       "      <td>0.111111</td>\n",
       "      <td>0.000000</td>\n",
       "      <td>0.000000</td>\n",
       "      <td>0.000000</td>\n",
       "      <td>0.000000</td>\n",
       "      <td>0.000000</td>\n",
       "      <td>0.000000</td>\n",
       "      <td>0.000000</td>\n",
       "      <td>0.000000</td>\n",
       "      <td>0.111111</td>\n",
       "      <td>0.000000</td>\n",
       "      <td>0.000000</td>\n",
       "      <td>0.0</td>\n",
       "      <td>0.000000</td>\n",
       "      <td>0.000000</td>\n",
       "      <td>0.000000</td>\n",
       "      <td>0.222222</td>\n",
       "      <td>0.0</td>\n",
       "      <td>0.0</td>\n",
       "      <td>0.000000</td>\n",
       "      <td>0.000000</td>\n",
       "      <td>0.000000</td>\n",
       "      <td>0.000000</td>\n",
       "      <td>0.000000</td>\n",
       "      <td>0.000000</td>\n",
       "      <td>0.00</td>\n",
       "      <td>0.0</td>\n",
       "      <td>0.0</td>\n",
       "      <td>0.00</td>\n",
       "      <td>0.000000</td>\n",
       "      <td>0.000000</td>\n",
       "      <td>0.0</td>\n",
       "    </tr>\n",
       "    <tr>\n",
       "      <th>allocine.fr</th>\n",
       "      <td>0.090909</td>\n",
       "      <td>0.000000</td>\n",
       "      <td>0.090909</td>\n",
       "      <td>0.000000</td>\n",
       "      <td>0.090909</td>\n",
       "      <td>0.090909</td>\n",
       "      <td>0.000000</td>\n",
       "      <td>0.000000</td>\n",
       "      <td>0.090909</td>\n",
       "      <td>0.000000</td>\n",
       "      <td>0.000000</td>\n",
       "      <td>0.181818</td>\n",
       "      <td>0.000000</td>\n",
       "      <td>0.090909</td>\n",
       "      <td>0.090909</td>\n",
       "      <td>0.000000</td>\n",
       "      <td>0.0</td>\n",
       "      <td>0.090909</td>\n",
       "      <td>0.000000</td>\n",
       "      <td>0.000000</td>\n",
       "      <td>0.000000</td>\n",
       "      <td>0.0</td>\n",
       "      <td>0.0</td>\n",
       "      <td>0.000000</td>\n",
       "      <td>0.000000</td>\n",
       "      <td>0.000000</td>\n",
       "      <td>0.000000</td>\n",
       "      <td>0.000000</td>\n",
       "      <td>0.000000</td>\n",
       "      <td>0.00</td>\n",
       "      <td>0.0</td>\n",
       "      <td>0.0</td>\n",
       "      <td>0.00</td>\n",
       "      <td>0.000000</td>\n",
       "      <td>0.000000</td>\n",
       "      <td>0.0</td>\n",
       "    </tr>\n",
       "    <tr>\n",
       "      <th>vsetop.org</th>\n",
       "      <td>0.000000</td>\n",
       "      <td>0.000000</td>\n",
       "      <td>0.000000</td>\n",
       "      <td>0.000000</td>\n",
       "      <td>0.100000</td>\n",
       "      <td>0.000000</td>\n",
       "      <td>0.100000</td>\n",
       "      <td>0.000000</td>\n",
       "      <td>0.000000</td>\n",
       "      <td>0.000000</td>\n",
       "      <td>0.000000</td>\n",
       "      <td>0.000000</td>\n",
       "      <td>0.000000</td>\n",
       "      <td>0.000000</td>\n",
       "      <td>0.200000</td>\n",
       "      <td>0.100000</td>\n",
       "      <td>0.0</td>\n",
       "      <td>0.100000</td>\n",
       "      <td>0.100000</td>\n",
       "      <td>0.100000</td>\n",
       "      <td>0.000000</td>\n",
       "      <td>0.1</td>\n",
       "      <td>0.0</td>\n",
       "      <td>0.000000</td>\n",
       "      <td>0.000000</td>\n",
       "      <td>0.000000</td>\n",
       "      <td>0.000000</td>\n",
       "      <td>0.000000</td>\n",
       "      <td>0.000000</td>\n",
       "      <td>0.00</td>\n",
       "      <td>0.0</td>\n",
       "      <td>0.0</td>\n",
       "      <td>0.00</td>\n",
       "      <td>0.000000</td>\n",
       "      <td>0.000000</td>\n",
       "      <td>0.0</td>\n",
       "    </tr>\n",
       "    <tr>\n",
       "      <th>ipko.pl</th>\n",
       "      <td>0.000000</td>\n",
       "      <td>0.000000</td>\n",
       "      <td>0.000000</td>\n",
       "      <td>0.000000</td>\n",
       "      <td>0.000000</td>\n",
       "      <td>0.000000</td>\n",
       "      <td>0.000000</td>\n",
       "      <td>0.000000</td>\n",
       "      <td>0.142857</td>\n",
       "      <td>0.000000</td>\n",
       "      <td>0.142857</td>\n",
       "      <td>0.142857</td>\n",
       "      <td>0.000000</td>\n",
       "      <td>0.000000</td>\n",
       "      <td>0.142857</td>\n",
       "      <td>0.285714</td>\n",
       "      <td>0.0</td>\n",
       "      <td>0.000000</td>\n",
       "      <td>0.000000</td>\n",
       "      <td>0.000000</td>\n",
       "      <td>0.000000</td>\n",
       "      <td>0.0</td>\n",
       "      <td>0.0</td>\n",
       "      <td>0.000000</td>\n",
       "      <td>0.000000</td>\n",
       "      <td>0.000000</td>\n",
       "      <td>0.000000</td>\n",
       "      <td>0.000000</td>\n",
       "      <td>0.000000</td>\n",
       "      <td>0.00</td>\n",
       "      <td>0.0</td>\n",
       "      <td>0.0</td>\n",
       "      <td>0.00</td>\n",
       "      <td>0.000000</td>\n",
       "      <td>0.000000</td>\n",
       "      <td>0.0</td>\n",
       "    </tr>\n",
       "    <tr>\n",
       "      <th>0594zs.com</th>\n",
       "      <td>0.000000</td>\n",
       "      <td>0.000000</td>\n",
       "      <td>0.100000</td>\n",
       "      <td>0.000000</td>\n",
       "      <td>0.000000</td>\n",
       "      <td>0.000000</td>\n",
       "      <td>0.000000</td>\n",
       "      <td>0.000000</td>\n",
       "      <td>0.000000</td>\n",
       "      <td>0.000000</td>\n",
       "      <td>0.000000</td>\n",
       "      <td>0.000000</td>\n",
       "      <td>0.100000</td>\n",
       "      <td>0.000000</td>\n",
       "      <td>0.100000</td>\n",
       "      <td>0.000000</td>\n",
       "      <td>0.0</td>\n",
       "      <td>0.000000</td>\n",
       "      <td>0.100000</td>\n",
       "      <td>0.000000</td>\n",
       "      <td>0.000000</td>\n",
       "      <td>0.0</td>\n",
       "      <td>0.0</td>\n",
       "      <td>0.000000</td>\n",
       "      <td>0.000000</td>\n",
       "      <td>0.100000</td>\n",
       "      <td>0.100000</td>\n",
       "      <td>0.000000</td>\n",
       "      <td>0.000000</td>\n",
       "      <td>0.00</td>\n",
       "      <td>0.1</td>\n",
       "      <td>0.1</td>\n",
       "      <td>0.00</td>\n",
       "      <td>0.000000</td>\n",
       "      <td>0.000000</td>\n",
       "      <td>0.1</td>\n",
       "    </tr>\n",
       "    <tr>\n",
       "      <th>completeness.miltondaza.xyz</th>\n",
       "      <td>0.074074</td>\n",
       "      <td>0.000000</td>\n",
       "      <td>0.037037</td>\n",
       "      <td>0.037037</td>\n",
       "      <td>0.111111</td>\n",
       "      <td>0.000000</td>\n",
       "      <td>0.000000</td>\n",
       "      <td>0.000000</td>\n",
       "      <td>0.037037</td>\n",
       "      <td>0.000000</td>\n",
       "      <td>0.000000</td>\n",
       "      <td>0.074074</td>\n",
       "      <td>0.074074</td>\n",
       "      <td>0.074074</td>\n",
       "      <td>0.074074</td>\n",
       "      <td>0.037037</td>\n",
       "      <td>0.0</td>\n",
       "      <td>0.000000</td>\n",
       "      <td>0.074074</td>\n",
       "      <td>0.074074</td>\n",
       "      <td>0.000000</td>\n",
       "      <td>0.0</td>\n",
       "      <td>0.0</td>\n",
       "      <td>0.037037</td>\n",
       "      <td>0.037037</td>\n",
       "      <td>0.074074</td>\n",
       "      <td>0.000000</td>\n",
       "      <td>0.000000</td>\n",
       "      <td>0.000000</td>\n",
       "      <td>0.00</td>\n",
       "      <td>0.0</td>\n",
       "      <td>0.0</td>\n",
       "      <td>0.00</td>\n",
       "      <td>0.000000</td>\n",
       "      <td>0.000000</td>\n",
       "      <td>0.0</td>\n",
       "    </tr>\n",
       "  </tbody>\n",
       "</table>\n",
       "</div>"
      ],
      "text/plain": [
       "                             a_average  b_average  c_average  d_average  \\\n",
       "domain                                                                    \n",
       "tjk.org                       0.000000   0.000000   0.000000   0.000000   \n",
       "magenta-musik-360.de          0.100000   0.000000   0.000000   0.050000   \n",
       "hitgelsin.com                 0.000000   0.000000   0.076923   0.000000   \n",
       "80.82.77.17/bins-arm7         0.047619   0.047619   0.000000   0.000000   \n",
       "nu.edu.bd                     0.000000   0.111111   0.000000   0.222222   \n",
       "allocine.fr                   0.090909   0.000000   0.090909   0.000000   \n",
       "vsetop.org                    0.000000   0.000000   0.000000   0.000000   \n",
       "ipko.pl                       0.000000   0.000000   0.000000   0.000000   \n",
       "0594zs.com                    0.000000   0.000000   0.100000   0.000000   \n",
       "completeness.miltondaza.xyz   0.074074   0.000000   0.037037   0.037037   \n",
       "\n",
       "                             e_average  f_average  g_average  h_average  \\\n",
       "domain                                                                    \n",
       "tjk.org                       0.000000   0.000000   0.142857   0.000000   \n",
       "magenta-musik-360.de          0.100000   0.000000   0.050000   0.000000   \n",
       "hitgelsin.com                 0.076923   0.000000   0.076923   0.076923   \n",
       "80.82.77.17/bins-arm7         0.000000   0.000000   0.000000   0.000000   \n",
       "nu.edu.bd                     0.111111   0.000000   0.000000   0.000000   \n",
       "allocine.fr                   0.090909   0.090909   0.000000   0.000000   \n",
       "vsetop.org                    0.100000   0.000000   0.100000   0.000000   \n",
       "ipko.pl                       0.000000   0.000000   0.000000   0.000000   \n",
       "0594zs.com                    0.000000   0.000000   0.000000   0.000000   \n",
       "completeness.miltondaza.xyz   0.111111   0.000000   0.000000   0.000000   \n",
       "\n",
       "                             i_average  j_average  k_average  l_average  \\\n",
       "domain                                                                    \n",
       "tjk.org                       0.000000   0.142857   0.142857   0.000000   \n",
       "magenta-musik-360.de          0.050000   0.000000   0.050000   0.000000   \n",
       "hitgelsin.com                 0.153846   0.000000   0.000000   0.076923   \n",
       "80.82.77.17/bins-arm7         0.047619   0.000000   0.000000   0.000000   \n",
       "nu.edu.bd                     0.000000   0.000000   0.000000   0.000000   \n",
       "allocine.fr                   0.090909   0.000000   0.000000   0.181818   \n",
       "vsetop.org                    0.000000   0.000000   0.000000   0.000000   \n",
       "ipko.pl                       0.142857   0.000000   0.142857   0.142857   \n",
       "0594zs.com                    0.000000   0.000000   0.000000   0.000000   \n",
       "completeness.miltondaza.xyz   0.037037   0.000000   0.000000   0.074074   \n",
       "\n",
       "                             m_average  n_average  o_average  p_average  \\\n",
       "domain                                                                    \n",
       "tjk.org                       0.000000   0.000000   0.142857   0.000000   \n",
       "magenta-musik-360.de          0.100000   0.050000   0.000000   0.000000   \n",
       "hitgelsin.com                 0.076923   0.076923   0.076923   0.000000   \n",
       "80.82.77.17/bins-arm7         0.047619   0.047619   0.000000   0.000000   \n",
       "nu.edu.bd                     0.000000   0.111111   0.000000   0.000000   \n",
       "allocine.fr                   0.000000   0.090909   0.090909   0.000000   \n",
       "vsetop.org                    0.000000   0.000000   0.200000   0.100000   \n",
       "ipko.pl                       0.000000   0.000000   0.142857   0.285714   \n",
       "0594zs.com                    0.100000   0.000000   0.100000   0.000000   \n",
       "completeness.miltondaza.xyz   0.074074   0.074074   0.074074   0.037037   \n",
       "\n",
       "                             q_average  r_average  s_average  t_average  \\\n",
       "domain                                                                    \n",
       "tjk.org                            0.0   0.142857   0.000000   0.142857   \n",
       "magenta-musik-360.de               0.0   0.000000   0.050000   0.050000   \n",
       "hitgelsin.com                      0.0   0.000000   0.076923   0.076923   \n",
       "80.82.77.17/bins-arm7              0.0   0.047619   0.047619   0.000000   \n",
       "nu.edu.bd                          0.0   0.000000   0.000000   0.000000   \n",
       "allocine.fr                        0.0   0.090909   0.000000   0.000000   \n",
       "vsetop.org                         0.0   0.100000   0.100000   0.100000   \n",
       "ipko.pl                            0.0   0.000000   0.000000   0.000000   \n",
       "0594zs.com                         0.0   0.000000   0.100000   0.000000   \n",
       "completeness.miltondaza.xyz        0.0   0.000000   0.074074   0.074074   \n",
       "\n",
       "                             u_average  v_average  w_average  x_average  \\\n",
       "domain                                                                    \n",
       "tjk.org                       0.000000        0.0        0.0   0.000000   \n",
       "magenta-musik-360.de          0.050000        0.0        0.0   0.000000   \n",
       "hitgelsin.com                 0.000000        0.0        0.0   0.000000   \n",
       "80.82.77.17/bins-arm7         0.000000        0.0        0.0   0.000000   \n",
       "nu.edu.bd                     0.222222        0.0        0.0   0.000000   \n",
       "allocine.fr                   0.000000        0.0        0.0   0.000000   \n",
       "vsetop.org                    0.000000        0.1        0.0   0.000000   \n",
       "ipko.pl                       0.000000        0.0        0.0   0.000000   \n",
       "0594zs.com                    0.000000        0.0        0.0   0.000000   \n",
       "completeness.miltondaza.xyz   0.000000        0.0        0.0   0.037037   \n",
       "\n",
       "                             y_average  z_average  0_average  1_average  \\\n",
       "domain                                                                    \n",
       "tjk.org                       0.000000   0.000000   0.000000   0.000000   \n",
       "magenta-musik-360.de          0.000000   0.000000   0.050000   0.000000   \n",
       "hitgelsin.com                 0.000000   0.000000   0.000000   0.000000   \n",
       "80.82.77.17/bins-arm7         0.000000   0.000000   0.047619   0.047619   \n",
       "nu.edu.bd                     0.000000   0.000000   0.000000   0.000000   \n",
       "allocine.fr                   0.000000   0.000000   0.000000   0.000000   \n",
       "vsetop.org                    0.000000   0.000000   0.000000   0.000000   \n",
       "ipko.pl                       0.000000   0.000000   0.000000   0.000000   \n",
       "0594zs.com                    0.000000   0.100000   0.100000   0.000000   \n",
       "completeness.miltondaza.xyz   0.037037   0.074074   0.000000   0.000000   \n",
       "\n",
       "                             2_average  3_average  4_average  5_average  \\\n",
       "domain                                                                    \n",
       "tjk.org                       0.000000       0.00        0.0        0.0   \n",
       "magenta-musik-360.de          0.000000       0.05        0.0        0.0   \n",
       "hitgelsin.com                 0.000000       0.00        0.0        0.0   \n",
       "80.82.77.17/bins-arm7         0.047619       0.00        0.0        0.0   \n",
       "nu.edu.bd                     0.000000       0.00        0.0        0.0   \n",
       "allocine.fr                   0.000000       0.00        0.0        0.0   \n",
       "vsetop.org                    0.000000       0.00        0.0        0.0   \n",
       "ipko.pl                       0.000000       0.00        0.0        0.0   \n",
       "0594zs.com                    0.000000       0.00        0.1        0.1   \n",
       "completeness.miltondaza.xyz   0.000000       0.00        0.0        0.0   \n",
       "\n",
       "                             6_average  7_average  8_average  9_average  \n",
       "domain                                                                   \n",
       "tjk.org                           0.00   0.000000   0.000000        0.0  \n",
       "magenta-musik-360.de              0.05   0.000000   0.000000        0.0  \n",
       "hitgelsin.com                     0.00   0.000000   0.000000        0.0  \n",
       "80.82.77.17/bins-arm7             0.00   0.190476   0.095238        0.0  \n",
       "nu.edu.bd                         0.00   0.000000   0.000000        0.0  \n",
       "allocine.fr                       0.00   0.000000   0.000000        0.0  \n",
       "vsetop.org                        0.00   0.000000   0.000000        0.0  \n",
       "ipko.pl                           0.00   0.000000   0.000000        0.0  \n",
       "0594zs.com                        0.00   0.000000   0.000000        0.1  \n",
       "completeness.miltondaza.xyz       0.00   0.000000   0.000000        0.0  "
      ]
     },
     "execution_count": 11,
     "metadata": {},
     "output_type": "execute_result"
    }
   ],
   "source": [
    "df[['a_average',\n",
    " 'b_average',\n",
    " 'c_average',\n",
    " 'd_average',\n",
    " 'e_average',\n",
    " 'f_average',\n",
    " 'g_average',\n",
    " 'h_average',\n",
    " 'i_average',\n",
    " 'j_average',\n",
    " 'k_average',\n",
    " 'l_average',\n",
    " 'm_average',\n",
    " 'n_average',\n",
    " 'o_average',\n",
    " 'p_average',\n",
    " 'q_average',\n",
    " 'r_average',\n",
    " 's_average',\n",
    " 't_average',\n",
    " 'u_average',\n",
    " 'v_average',\n",
    " 'w_average',\n",
    " 'x_average',\n",
    " 'y_average',\n",
    " 'z_average',\n",
    " '0_average',\n",
    " '1_average',\n",
    " '2_average',\n",
    " '3_average',\n",
    " '4_average',\n",
    " '5_average',\n",
    " '6_average',\n",
    " '7_average',\n",
    " '8_average',\n",
    " '9_average']].head(10)"
   ]
  },
  {
   "cell_type": "code",
   "execution_count": 15,
   "metadata": {
    "collapsed": true
   },
   "outputs": [],
   "source": [
    "fin_col=['url_char_%',\n",
    " 'url_char_&',\n",
    " 'url_char_+',\n",
    " 'url_char_-',\n",
    " 'url_char_.',\n",
    " 'url_char_/',\n",
    " 'url_char_:',\n",
    " 'url_char_=',\n",
    " 'url_char_?',\n",
    " 'url_char__',\n",
    " 'url_port',\n",
    " 'url_number_vowels/url_length',\n",
    " 'url_number_consonants/url_length',\n",
    " 'url_number_digits/url_length',\n",
    " 'url_number_special_chars/url_length',\n",
    " 'url_length',\n",
    " 'url_tlds',\n",
    " 'url_extensions',\n",
    " 'url_number_digits',\n",
    " 'url_number_consonants',\n",
    " 'url_number_vowels',\n",
    " 'url_number_special_chars',\n",
    " 'a_average',\n",
    " 'b_average',\n",
    " 'c_average',\n",
    " 'd_average',\n",
    " 'e_average',\n",
    " 'f_average',\n",
    " 'g_average',\n",
    " 'h_average',\n",
    " 'i_average',\n",
    " 'j_average',\n",
    " 'k_average',\n",
    " 'l_average',\n",
    " 'm_average',\n",
    " 'n_average',\n",
    " 'o_average',\n",
    " 'p_average',\n",
    " 'q_average',\n",
    " 'r_average',\n",
    " 's_average',\n",
    " 't_average',\n",
    " 'u_average',\n",
    " 'v_average',\n",
    " 'w_average',\n",
    " 'x_average',\n",
    " 'y_average',\n",
    " 'z_average',\n",
    " '0_average',\n",
    " '1_average',\n",
    " '2_average',\n",
    " '3_average',\n",
    " '4_average',\n",
    " '5_average',\n",
    " '6_average',\n",
    " '7_average',\n",
    " '8_average',\n",
    " '9_average',\n",
    " 'Target']"
   ]
  },
  {
   "cell_type": "code",
   "execution_count": 16,
   "metadata": {},
   "outputs": [],
   "source": [
    "df_sel=df[fin_col]"
   ]
  },
  {
   "cell_type": "code",
   "execution_count": 17,
   "metadata": {},
   "outputs": [
    {
     "data": {
      "application/vnd.plotly.v1+json": {
       "config": {
        "linkText": "Export to plot.ly",
        "plotlyServerURL": "https://plot.ly",
        "showLink": true
       },
       "data": [
        {
         "text": [
          39877,
          6894
         ],
         "textposition": "outside",
         "type": "bar",
         "uid": "c0cfe2c3-7fc2-4c65-9369-9c1133a7f10e",
         "x": [
          0,
          1
         ],
         "y": [
          39877,
          6894
         ]
        }
       ],
       "layout": {
        "xaxis": {
         "tickfont": {
          "color": "black",
          "size": 12
         },
         "title": "Domain Type"
        },
        "yaxis": {
         "title": "Number of Instances"
        }
       }
      },
      "text/html": [
       "<div id=\"399421b7-3f29-4df3-ba40-562017228ddc\" style=\"height: 525px; width: 100%;\" class=\"plotly-graph-div\"></div><script type=\"text/javascript\">require([\"plotly\"], function(Plotly) { window.PLOTLYENV=window.PLOTLYENV || {};window.PLOTLYENV.BASE_URL=\"https://plot.ly\";Plotly.newPlot(\"399421b7-3f29-4df3-ba40-562017228ddc\", [{\"text\": [39877.0, 6894.0], \"textposition\": \"outside\", \"x\": [0, 1], \"y\": [39877, 6894], \"type\": \"bar\", \"uid\": \"c0cfe2c3-7fc2-4c65-9369-9c1133a7f10e\"}], {\"xaxis\": {\"tickfont\": {\"color\": \"black\", \"size\": 12}, \"title\": \"Domain Type\"}, \"yaxis\": {\"title\": \"Number of Instances\"}}, {\"showLink\": true, \"linkText\": \"Export to plot.ly\", \"plotlyServerURL\": \"https://plot.ly\"})});</script><script type=\"text/javascript\">window.addEventListener(\"resize\", function(){window._Plotly.Plots.resize(document.getElementById(\"399421b7-3f29-4df3-ba40-562017228ddc\"));});</script>"
      ],
      "text/vnd.plotly.v1+html": [
       "<div id=\"399421b7-3f29-4df3-ba40-562017228ddc\" style=\"height: 525px; width: 100%;\" class=\"plotly-graph-div\"></div><script type=\"text/javascript\">require([\"plotly\"], function(Plotly) { window.PLOTLYENV=window.PLOTLYENV || {};window.PLOTLYENV.BASE_URL=\"https://plot.ly\";Plotly.newPlot(\"399421b7-3f29-4df3-ba40-562017228ddc\", [{\"text\": [39877.0, 6894.0], \"textposition\": \"outside\", \"x\": [0, 1], \"y\": [39877, 6894], \"type\": \"bar\", \"uid\": \"c0cfe2c3-7fc2-4c65-9369-9c1133a7f10e\"}], {\"xaxis\": {\"tickfont\": {\"color\": \"black\", \"size\": 12}, \"title\": \"Domain Type\"}, \"yaxis\": {\"title\": \"Number of Instances\"}}, {\"showLink\": true, \"linkText\": \"Export to plot.ly\", \"plotlyServerURL\": \"https://plot.ly\"})});</script><script type=\"text/javascript\">window.addEventListener(\"resize\", function(){window._Plotly.Plots.resize(document.getElementById(\"399421b7-3f29-4df3-ba40-562017228ddc\"));});</script>"
      ]
     },
     "metadata": {},
     "output_type": "display_data"
    }
   ],
   "source": [
    "data = [go.Bar(x=df.Target.value_counts().index.values,\n",
    "               y=df.Target.value_counts().values,\n",
    "               text=df.Target.value_counts().values,\n",
    "               textposition = 'outside',\n",
    "            )]\n",
    "layout = go.Layout( xaxis=dict(title='Domain Type',tickfont=dict(size=12,color='black')),\n",
    "                    yaxis=dict(title='Number of Instances'))\n",
    "fig = go.Figure(data=data, layout=layout)\n",
    "iplot(fig)"
   ]
  },
  {
   "cell_type": "code",
   "execution_count": 18,
   "metadata": {},
   "outputs": [],
   "source": [
    "train=df_sel.iloc[:37417,:]\n",
    "train_X=train.iloc[:,train.columns!='Target'].values\n",
    "train_Y=train.Target.values\n",
    "\n",
    "scaler=StandardScaler()\n",
    "scaled_X_train=scaler.fit_transform(train_X)\n",
    "\n",
    "test=df_sel.iloc[37417:,:]\n",
    "test_X=test.iloc[:,test.columns!='Target'].values\n",
    "test_Y=test.Target.values\n",
    "scaled_X_test=scaler.transform(test_X)"
   ]
  },
  {
   "cell_type": "code",
   "execution_count": 19,
   "metadata": {
    "collapsed": true
   },
   "outputs": [],
   "source": [
    "columns=fin_col"
   ]
  },
  {
   "cell_type": "markdown",
   "metadata": {},
   "source": [
    "### <a id='1' style=\"text-decoration : none; color : #000000;\"> 2. Initial Models</a>"
   ]
  },
  {
   "cell_type": "code",
   "execution_count": 20,
   "metadata": {
    "collapsed": true
   },
   "outputs": [],
   "source": [
    "columns.remove('Target')"
   ]
  },
  {
   "cell_type": "code",
   "execution_count": 21,
   "metadata": {
    "collapsed": true
   },
   "outputs": [],
   "source": [
    "ind_columns=['KNeighborsClassifier','LogisticRegression','RandomForestClassifier','AdaBoostClassifier',\n",
    "             'GradientBoostingClassifier','ExtraTreeClassifier','BaggingClassifier','Neural Network-1']\n",
    "\n",
    "f=[KNN_model,Logistic_model,RandomForest,AdaBoost,GradientBoosting, ExtraTree,Bagging,DeepLearning1]\n",
    "\n",
    "## Table to store training and test measures\n",
    "table_80_50_train=pd.DataFrame(columns=['accuracy','TP','TN','FP','FN','FPR','FNR'])\n",
    "table_80_50_test=pd.DataFrame(columns=['accuracy','TP','TN','FP','FN','FPR','FNR','auc','MCC'])"
   ]
  },
  {
   "cell_type": "code",
   "execution_count": 22,
   "metadata": {
    "scrolled": false
   },
   "outputs": [
    {
     "name": "stdout",
     "output_type": "stream",
     "text": [
      "\u001b[1mK-Nearest Neighbors\u001b[0m\n",
      "Accuracy of the model for training data is: 0.969880001069\n",
      "Confusion Matrix for training data is:\n"
     ]
    },
    {
     "data": {
      "text/plain": [
       "Predicted  False  True  __all__\n",
       "Actual                         \n",
       "False      31752   140    31892\n",
       "True         987  4538     5525\n",
       "__all__    32739  4678    37417"
      ]
     },
     "metadata": {},
     "output_type": "display_data"
    },
    {
     "name": "stdout",
     "output_type": "stream",
     "text": [
      "Accuracy of the model for test data is: 0.961513790892\n",
      "Confusion Matrix for test data is:\n"
     ]
    },
    {
     "data": {
      "text/plain": [
       "Predicted  False  True  __all__\n",
       "Actual                         \n",
       "False       7924    61     7985\n",
       "True         299  1070     1369\n",
       "__all__     8223  1131     9354"
      ]
     },
     "metadata": {},
     "output_type": "display_data"
    },
    {
     "name": "stdout",
     "output_type": "stream",
     "text": [
      "\n",
      "\n",
      "\u001b[1mLogistic Regression\u001b[0m\n",
      "Accuracy of the model for training data is: 0.952107330892\n",
      "Confusion Matrix for training data is:\n"
     ]
    },
    {
     "data": {
      "text/plain": [
       "Predicted  False  True  __all__\n",
       "Actual                         \n",
       "False      31410   482    31892\n",
       "True        1310  4215     5525\n",
       "__all__    32720  4697    37417"
      ]
     },
     "metadata": {},
     "output_type": "display_data"
    },
    {
     "name": "stdout",
     "output_type": "stream",
     "text": [
      "Accuracy of the model for test data is: 0.95381654907\n",
      "Confusion Matrix for test data is:\n"
     ]
    },
    {
     "data": {
      "text/plain": [
       "Predicted  False  True  __all__\n",
       "Actual                         \n",
       "False       7857   128     7985\n",
       "True         304  1065     1369\n",
       "__all__     8161  1193     9354"
      ]
     },
     "metadata": {},
     "output_type": "display_data"
    },
    {
     "name": "stdout",
     "output_type": "stream",
     "text": [
      "\n",
      "\n",
      "\u001b[1mRandomForest Classifier\u001b[0m\n",
      "Accuracy of the model for training data is: 0.995242804073\n",
      "Confusion Matrix for training data is:\n"
     ]
    },
    {
     "data": {
      "text/plain": [
       "Predicted  False  True  __all__\n",
       "Actual                         \n",
       "False      31888     4    31892\n",
       "True         174  5351     5525\n",
       "__all__    32062  5355    37417"
      ]
     },
     "metadata": {},
     "output_type": "display_data"
    },
    {
     "name": "stdout",
     "output_type": "stream",
     "text": [
      "Accuracy of the model for test data is: 0.966538379303\n",
      "Confusion Matrix for test data is:\n"
     ]
    },
    {
     "data": {
      "text/plain": [
       "Predicted  False  True  __all__\n",
       "Actual                         \n",
       "False       7911    74     7985\n",
       "True         239  1130     1369\n",
       "__all__     8150  1204     9354"
      ]
     },
     "metadata": {},
     "output_type": "display_data"
    },
    {
     "data": {
      "application/vnd.plotly.v1+json": {
       "config": {
        "linkText": "Export to plot.ly",
        "plotlyServerURL": "https://plot.ly",
        "showLink": true
       },
       "data": [
        {
         "marker": {
          "color": "rgb(158,202,225)",
          "line": {
           "color": "rgb(8,48,107)",
           "width": 1.5
          }
         },
         "opacity": 0.6,
         "orientation": "h",
         "text": [
          0.1423,
          0.1028,
          0.0705,
          0.0695,
          0.054,
          0.0346,
          0.0302,
          0.03,
          0.0299,
          0.0293,
          0.0236,
          0.0232,
          0.0209,
          0.02,
          0.0192,
          0.019,
          0.0173,
          0.0161,
          0.016,
          0.0153,
          0.0147,
          0.0146,
          0.0134,
          0.0134,
          0.013,
          0.0128,
          0.0118,
          0.0109,
          0.0109,
          0.0096,
          0.0093,
          0.009,
          0.0089,
          0.0088,
          0.0084,
          0.0078,
          0.007,
          0.0065,
          0.0046,
          0.0041,
          0.0026,
          0.0026,
          0.0021,
          0.002,
          0.0018,
          0.0016,
          0.0015,
          0.0011,
          0.0006,
          0.0005,
          0.0001,
          0,
          0,
          0,
          0,
          0,
          0,
          0
         ],
         "textposition": "outside",
         "type": "bar",
         "uid": "aceb4a42-f0b6-4a71-8f1b-e66806a0f04a",
         "x": [
          0.14233716222214782,
          0.10279242828793653,
          0.07054932837905947,
          0.06949866835011102,
          0.05396472325803965,
          0.034615723695590225,
          0.030229564043542313,
          0.029967176822468865,
          0.029876559305208356,
          0.029339207527395033,
          0.02364995693814998,
          0.023171566940205262,
          0.020933631771187084,
          0.01995360184938453,
          0.019153711785066953,
          0.019016760264451503,
          0.017300644495544974,
          0.01612400820563204,
          0.01604300569274816,
          0.015330905406149172,
          0.014710107610060044,
          0.014582138234868472,
          0.01343398301362301,
          0.013427646499812767,
          0.013020480264844004,
          0.012813647927892968,
          0.011750194207311356,
          0.010948058404201865,
          0.010868586220309708,
          0.009598515669387303,
          0.009329011576158012,
          0.008995075311633481,
          0.008881439354554713,
          0.008808509757837642,
          0.008405718506719893,
          0.007845291752442266,
          0.0070221026147412905,
          0.006485049921066061,
          0.004631711258395096,
          0.004110932230031278,
          0.0026347159954399563,
          0.0025551905708499347,
          0.002091372735372982,
          0.001969492412420941,
          0.0017647810683812768,
          0.0015686597014634945,
          0.0015028318138536301,
          0.0011064832626517917,
          0.0006309173397626141,
          0.0005232381382124436,
          0.0001357813856807804,
          0,
          0,
          0,
          0,
          0,
          0,
          0
         ],
         "y": [
          "url_length",
          "url_char_.",
          "url_number_consonants",
          "url_extensions",
          "url_char_/",
          "url_number_special_chars",
          "w_average",
          "z_average",
          "url_tlds",
          "url_number_special_chars/url_length",
          "c_average",
          "o_average",
          "url_number_digits",
          "url_number_digits/url_length",
          "url_number_vowels/url_length",
          "m_average",
          "i_average",
          "b_average",
          "url_number_vowels",
          "x_average",
          "url_number_consonants/url_length",
          "e_average",
          "r_average",
          "y_average",
          "a_average",
          "s_average",
          "t_average",
          "n_average",
          "l_average",
          "k_average",
          "u_average",
          "p_average",
          "d_average",
          "g_average",
          "h_average",
          "f_average",
          "url_char_-",
          "v_average",
          "8_average",
          "j_average",
          "9_average",
          "6_average",
          "q_average",
          "3_average",
          "1_average",
          "4_average",
          "0_average",
          "2_average",
          "5_average",
          "7_average",
          "url_port",
          "url_char_?",
          "url_char_=",
          "url_char_:",
          "url_char_&",
          "url_char__",
          "url_char_+",
          "url_char_%"
         ]
        }
       ],
       "layout": {
        "autosize": false,
        "height": 1000,
        "width": 1000,
        "xaxis": {
         "tickfont": {
          "color": "black",
          "size": 12
         },
         "title": "Feature Importances"
        },
        "yaxis": {
         "automargin": true
        }
       }
      },
      "text/html": [
       "<div id=\"2eed937b-595a-49b7-8414-a4df94a5c89e\" style=\"height: 1000px; width: 1000px;\" class=\"plotly-graph-div\"></div><script type=\"text/javascript\">require([\"plotly\"], function(Plotly) { window.PLOTLYENV=window.PLOTLYENV || {};window.PLOTLYENV.BASE_URL=\"https://plot.ly\";Plotly.newPlot(\"2eed937b-595a-49b7-8414-a4df94a5c89e\", [{\"marker\": {\"color\": \"rgb(158,202,225)\", \"line\": {\"color\": \"rgb(8,48,107)\", \"width\": 1.5}}, \"opacity\": 0.6, \"orientation\": \"h\", \"text\": [0.1423, 0.1028, 0.0705, 0.0695, 0.054, 0.0346, 0.0302, 0.03, 0.0299, 0.0293, 0.0236, 0.0232, 0.0209, 0.02, 0.0192, 0.019, 0.0173, 0.0161, 0.016, 0.0153, 0.0147, 0.0146, 0.0134, 0.0134, 0.013, 0.0128, 0.0118, 0.0109, 0.0109, 0.0096, 0.0093, 0.009, 0.0089, 0.0088, 0.0084, 0.0078, 0.007, 0.0065, 0.0046, 0.0041, 0.0026, 0.0026, 0.0021, 0.002, 0.0018, 0.0016, 0.0015, 0.0011, 0.0006, 0.0005, 0.0001, 0.0, 0.0, 0.0, 0.0, 0.0, 0.0, 0.0], \"textposition\": \"outside\", \"x\": [0.14233716222214782, 0.10279242828793653, 0.07054932837905947, 0.06949866835011102, 0.05396472325803965, 0.034615723695590225, 0.030229564043542313, 0.029967176822468865, 0.029876559305208356, 0.029339207527395033, 0.02364995693814998, 0.023171566940205262, 0.020933631771187084, 0.01995360184938453, 0.019153711785066953, 0.019016760264451503, 0.017300644495544974, 0.01612400820563204, 0.01604300569274816, 0.015330905406149172, 0.014710107610060044, 0.014582138234868472, 0.01343398301362301, 0.013427646499812767, 0.013020480264844004, 0.012813647927892968, 0.011750194207311356, 0.010948058404201865, 0.010868586220309708, 0.009598515669387303, 0.009329011576158012, 0.008995075311633481, 0.008881439354554713, 0.008808509757837642, 0.008405718506719893, 0.007845291752442266, 0.0070221026147412905, 0.006485049921066061, 0.004631711258395096, 0.004110932230031278, 0.0026347159954399563, 0.0025551905708499347, 0.002091372735372982, 0.001969492412420941, 0.0017647810683812768, 0.0015686597014634945, 0.0015028318138536301, 0.0011064832626517917, 0.0006309173397626141, 0.0005232381382124436, 0.0001357813856807804, 0.0, 0.0, 0.0, 0.0, 0.0, 0.0, 0.0], \"y\": [\"url_length\", \"url_char_.\", \"url_number_consonants\", \"url_extensions\", \"url_char_/\", \"url_number_special_chars\", \"w_average\", \"z_average\", \"url_tlds\", \"url_number_special_chars/url_length\", \"c_average\", \"o_average\", \"url_number_digits\", \"url_number_digits/url_length\", \"url_number_vowels/url_length\", \"m_average\", \"i_average\", \"b_average\", \"url_number_vowels\", \"x_average\", \"url_number_consonants/url_length\", \"e_average\", \"r_average\", \"y_average\", \"a_average\", \"s_average\", \"t_average\", \"n_average\", \"l_average\", \"k_average\", \"u_average\", \"p_average\", \"d_average\", \"g_average\", \"h_average\", \"f_average\", \"url_char_-\", \"v_average\", \"8_average\", \"j_average\", \"9_average\", \"6_average\", \"q_average\", \"3_average\", \"1_average\", \"4_average\", \"0_average\", \"2_average\", \"5_average\", \"7_average\", \"url_port\", \"url_char_?\", \"url_char_=\", \"url_char_:\", \"url_char_&\", \"url_char__\", \"url_char_+\", \"url_char_%\"], \"type\": \"bar\", \"uid\": \"aceb4a42-f0b6-4a71-8f1b-e66806a0f04a\"}], {\"autosize\": false, \"height\": 1000, \"width\": 1000, \"xaxis\": {\"tickfont\": {\"color\": \"black\", \"size\": 12}, \"title\": \"Feature Importances\"}, \"yaxis\": {\"automargin\": true}}, {\"showLink\": true, \"linkText\": \"Export to plot.ly\", \"plotlyServerURL\": \"https://plot.ly\"})});</script>"
      ],
      "text/vnd.plotly.v1+html": [
       "<div id=\"2eed937b-595a-49b7-8414-a4df94a5c89e\" style=\"height: 1000px; width: 1000px;\" class=\"plotly-graph-div\"></div><script type=\"text/javascript\">require([\"plotly\"], function(Plotly) { window.PLOTLYENV=window.PLOTLYENV || {};window.PLOTLYENV.BASE_URL=\"https://plot.ly\";Plotly.newPlot(\"2eed937b-595a-49b7-8414-a4df94a5c89e\", [{\"marker\": {\"color\": \"rgb(158,202,225)\", \"line\": {\"color\": \"rgb(8,48,107)\", \"width\": 1.5}}, \"opacity\": 0.6, \"orientation\": \"h\", \"text\": [0.1423, 0.1028, 0.0705, 0.0695, 0.054, 0.0346, 0.0302, 0.03, 0.0299, 0.0293, 0.0236, 0.0232, 0.0209, 0.02, 0.0192, 0.019, 0.0173, 0.0161, 0.016, 0.0153, 0.0147, 0.0146, 0.0134, 0.0134, 0.013, 0.0128, 0.0118, 0.0109, 0.0109, 0.0096, 0.0093, 0.009, 0.0089, 0.0088, 0.0084, 0.0078, 0.007, 0.0065, 0.0046, 0.0041, 0.0026, 0.0026, 0.0021, 0.002, 0.0018, 0.0016, 0.0015, 0.0011, 0.0006, 0.0005, 0.0001, 0.0, 0.0, 0.0, 0.0, 0.0, 0.0, 0.0], \"textposition\": \"outside\", \"x\": [0.14233716222214782, 0.10279242828793653, 0.07054932837905947, 0.06949866835011102, 0.05396472325803965, 0.034615723695590225, 0.030229564043542313, 0.029967176822468865, 0.029876559305208356, 0.029339207527395033, 0.02364995693814998, 0.023171566940205262, 0.020933631771187084, 0.01995360184938453, 0.019153711785066953, 0.019016760264451503, 0.017300644495544974, 0.01612400820563204, 0.01604300569274816, 0.015330905406149172, 0.014710107610060044, 0.014582138234868472, 0.01343398301362301, 0.013427646499812767, 0.013020480264844004, 0.012813647927892968, 0.011750194207311356, 0.010948058404201865, 0.010868586220309708, 0.009598515669387303, 0.009329011576158012, 0.008995075311633481, 0.008881439354554713, 0.008808509757837642, 0.008405718506719893, 0.007845291752442266, 0.0070221026147412905, 0.006485049921066061, 0.004631711258395096, 0.004110932230031278, 0.0026347159954399563, 0.0025551905708499347, 0.002091372735372982, 0.001969492412420941, 0.0017647810683812768, 0.0015686597014634945, 0.0015028318138536301, 0.0011064832626517917, 0.0006309173397626141, 0.0005232381382124436, 0.0001357813856807804, 0.0, 0.0, 0.0, 0.0, 0.0, 0.0, 0.0], \"y\": [\"url_length\", \"url_char_.\", \"url_number_consonants\", \"url_extensions\", \"url_char_/\", \"url_number_special_chars\", \"w_average\", \"z_average\", \"url_tlds\", \"url_number_special_chars/url_length\", \"c_average\", \"o_average\", \"url_number_digits\", \"url_number_digits/url_length\", \"url_number_vowels/url_length\", \"m_average\", \"i_average\", \"b_average\", \"url_number_vowels\", \"x_average\", \"url_number_consonants/url_length\", \"e_average\", \"r_average\", \"y_average\", \"a_average\", \"s_average\", \"t_average\", \"n_average\", \"l_average\", \"k_average\", \"u_average\", \"p_average\", \"d_average\", \"g_average\", \"h_average\", \"f_average\", \"url_char_-\", \"v_average\", \"8_average\", \"j_average\", \"9_average\", \"6_average\", \"q_average\", \"3_average\", \"1_average\", \"4_average\", \"0_average\", \"2_average\", \"5_average\", \"7_average\", \"url_port\", \"url_char_?\", \"url_char_=\", \"url_char_:\", \"url_char_&\", \"url_char__\", \"url_char_+\", \"url_char_%\"], \"type\": \"bar\", \"uid\": \"aceb4a42-f0b6-4a71-8f1b-e66806a0f04a\"}], {\"autosize\": false, \"height\": 1000, \"width\": 1000, \"xaxis\": {\"tickfont\": {\"color\": \"black\", \"size\": 12}, \"title\": \"Feature Importances\"}, \"yaxis\": {\"automargin\": true}}, {\"showLink\": true, \"linkText\": \"Export to plot.ly\", \"plotlyServerURL\": \"https://plot.ly\"})});</script>"
      ]
     },
     "metadata": {},
     "output_type": "display_data"
    },
    {
     "name": "stdout",
     "output_type": "stream",
     "text": [
      "\n",
      "\n",
      "\u001b[1mAdaoost Classifier\u001b[0m\n",
      "Accuracy of the model for training data is: 0.950690862442\n",
      "Confusion Matrix for training data is:\n"
     ]
    },
    {
     "data": {
      "text/plain": [
       "Predicted  False  True  __all__\n",
       "Actual                         \n",
       "False      31300   592    31892\n",
       "True        1253  4272     5525\n",
       "__all__    32553  4864    37417"
      ]
     },
     "metadata": {},
     "output_type": "display_data"
    },
    {
     "name": "stdout",
     "output_type": "stream",
     "text": [
      "Accuracy of the model for test data is: 0.952426769297\n",
      "Confusion Matrix for test data is:\n"
     ]
    },
    {
     "data": {
      "text/plain": [
       "Predicted  False  True  __all__\n",
       "Actual                         \n",
       "False       7826   159     7985\n",
       "True         286  1083     1369\n",
       "__all__     8112  1242     9354"
      ]
     },
     "metadata": {},
     "output_type": "display_data"
    },
    {
     "data": {
      "application/vnd.plotly.v1+json": {
       "config": {
        "linkText": "Export to plot.ly",
        "plotlyServerURL": "https://plot.ly",
        "showLink": true
       },
       "data": [
        {
         "marker": {
          "color": "rgb(158,202,225)",
          "line": {
           "color": "rgb(8,48,107)",
           "width": 1.5
          }
         },
         "opacity": 0.6,
         "orientation": "h",
         "text": [
          0.08,
          0.08,
          0.06,
          0.06,
          0.04,
          0.04,
          0.04,
          0.04,
          0.04,
          0.04,
          0.04,
          0.04,
          0.04,
          0.02,
          0.02,
          0.02,
          0.02,
          0.02,
          0.02,
          0.02,
          0.02,
          0.02,
          0.02,
          0.02,
          0.02,
          0.02,
          0.02,
          0.02,
          0.02,
          0.02,
          0.02,
          0,
          0,
          0,
          0,
          0,
          0,
          0,
          0,
          0,
          0,
          0,
          0,
          0,
          0,
          0,
          0,
          0,
          0,
          0,
          0,
          0,
          0,
          0,
          0,
          0,
          0,
          0
         ],
         "textposition": "outside",
         "type": "bar",
         "uid": "d9b5957a-bb5e-47b5-8bf4-968136ef6074",
         "x": [
          0.08,
          0.08,
          0.06,
          0.06,
          0.04,
          0.04,
          0.04,
          0.04,
          0.04,
          0.04,
          0.04,
          0.04,
          0.04,
          0.02,
          0.02,
          0.02,
          0.02,
          0.02,
          0.02,
          0.02,
          0.02,
          0.02,
          0.02,
          0.02,
          0.02,
          0.02,
          0.02,
          0.02,
          0.02,
          0.02,
          0.02,
          0,
          0,
          0,
          0,
          0,
          0,
          0,
          0,
          0,
          0,
          0,
          0,
          0,
          0,
          0,
          0,
          0,
          0,
          0,
          0,
          0,
          0,
          0,
          0,
          0,
          0,
          0
         ],
         "y": [
          "url_extensions",
          "url_number_special_chars/url_length",
          "url_length",
          "w_average",
          "z_average",
          "m_average",
          "y_average",
          "url_number_consonants/url_length",
          "url_number_vowels/url_length",
          "n_average",
          "o_average",
          "url_char_.",
          "c_average",
          "k_average",
          "b_average",
          "p_average",
          "q_average",
          "i_average",
          "r_average",
          "g_average",
          "f_average",
          "s_average",
          "d_average",
          "h_average",
          "a_average",
          "url_number_digits",
          "url_char_/",
          "url_tlds",
          "t_average",
          "url_number_consonants",
          "0_average",
          "x_average",
          "1_average",
          "2_average",
          "u_average",
          "3_average",
          "4_average",
          "5_average",
          "6_average",
          "7_average",
          "8_average",
          "v_average",
          "url_char_%",
          "l_average",
          "j_average",
          "url_char_&",
          "e_average",
          "url_number_special_chars",
          "url_number_vowels",
          "url_number_digits/url_length",
          "url_port",
          "url_char__",
          "url_char_?",
          "url_char_=",
          "url_char_:",
          "url_char_-",
          "url_char_+",
          "9_average"
         ]
        }
       ],
       "layout": {
        "autosize": false,
        "height": 1000,
        "width": 1000,
        "xaxis": {
         "tickfont": {
          "color": "black",
          "size": 12
         },
         "title": "Feature Importances"
        },
        "yaxis": {
         "automargin": true
        }
       }
      },
      "text/html": [
       "<div id=\"de5ac5a6-42e8-4de8-8232-1dc75b7f6cbd\" style=\"height: 1000px; width: 1000px;\" class=\"plotly-graph-div\"></div><script type=\"text/javascript\">require([\"plotly\"], function(Plotly) { window.PLOTLYENV=window.PLOTLYENV || {};window.PLOTLYENV.BASE_URL=\"https://plot.ly\";Plotly.newPlot(\"de5ac5a6-42e8-4de8-8232-1dc75b7f6cbd\", [{\"marker\": {\"color\": \"rgb(158,202,225)\", \"line\": {\"color\": \"rgb(8,48,107)\", \"width\": 1.5}}, \"opacity\": 0.6, \"orientation\": \"h\", \"text\": [0.08, 0.08, 0.06, 0.06, 0.04, 0.04, 0.04, 0.04, 0.04, 0.04, 0.04, 0.04, 0.04, 0.02, 0.02, 0.02, 0.02, 0.02, 0.02, 0.02, 0.02, 0.02, 0.02, 0.02, 0.02, 0.02, 0.02, 0.02, 0.02, 0.02, 0.02, 0.0, 0.0, 0.0, 0.0, 0.0, 0.0, 0.0, 0.0, 0.0, 0.0, 0.0, 0.0, 0.0, 0.0, 0.0, 0.0, 0.0, 0.0, 0.0, 0.0, 0.0, 0.0, 0.0, 0.0, 0.0, 0.0, 0.0], \"textposition\": \"outside\", \"x\": [0.08, 0.08, 0.06, 0.06, 0.04, 0.04, 0.04, 0.04, 0.04, 0.04, 0.04, 0.04, 0.04, 0.02, 0.02, 0.02, 0.02, 0.02, 0.02, 0.02, 0.02, 0.02, 0.02, 0.02, 0.02, 0.02, 0.02, 0.02, 0.02, 0.02, 0.02, 0.0, 0.0, 0.0, 0.0, 0.0, 0.0, 0.0, 0.0, 0.0, 0.0, 0.0, 0.0, 0.0, 0.0, 0.0, 0.0, 0.0, 0.0, 0.0, 0.0, 0.0, 0.0, 0.0, 0.0, 0.0, 0.0, 0.0], \"y\": [\"url_extensions\", \"url_number_special_chars/url_length\", \"url_length\", \"w_average\", \"z_average\", \"m_average\", \"y_average\", \"url_number_consonants/url_length\", \"url_number_vowels/url_length\", \"n_average\", \"o_average\", \"url_char_.\", \"c_average\", \"k_average\", \"b_average\", \"p_average\", \"q_average\", \"i_average\", \"r_average\", \"g_average\", \"f_average\", \"s_average\", \"d_average\", \"h_average\", \"a_average\", \"url_number_digits\", \"url_char_/\", \"url_tlds\", \"t_average\", \"url_number_consonants\", \"0_average\", \"x_average\", \"1_average\", \"2_average\", \"u_average\", \"3_average\", \"4_average\", \"5_average\", \"6_average\", \"7_average\", \"8_average\", \"v_average\", \"url_char_%\", \"l_average\", \"j_average\", \"url_char_&\", \"e_average\", \"url_number_special_chars\", \"url_number_vowels\", \"url_number_digits/url_length\", \"url_port\", \"url_char__\", \"url_char_?\", \"url_char_=\", \"url_char_:\", \"url_char_-\", \"url_char_+\", \"9_average\"], \"type\": \"bar\", \"uid\": \"d9b5957a-bb5e-47b5-8bf4-968136ef6074\"}], {\"autosize\": false, \"height\": 1000, \"width\": 1000, \"xaxis\": {\"tickfont\": {\"color\": \"black\", \"size\": 12}, \"title\": \"Feature Importances\"}, \"yaxis\": {\"automargin\": true}}, {\"showLink\": true, \"linkText\": \"Export to plot.ly\", \"plotlyServerURL\": \"https://plot.ly\"})});</script>"
      ],
      "text/vnd.plotly.v1+html": [
       "<div id=\"de5ac5a6-42e8-4de8-8232-1dc75b7f6cbd\" style=\"height: 1000px; width: 1000px;\" class=\"plotly-graph-div\"></div><script type=\"text/javascript\">require([\"plotly\"], function(Plotly) { window.PLOTLYENV=window.PLOTLYENV || {};window.PLOTLYENV.BASE_URL=\"https://plot.ly\";Plotly.newPlot(\"de5ac5a6-42e8-4de8-8232-1dc75b7f6cbd\", [{\"marker\": {\"color\": \"rgb(158,202,225)\", \"line\": {\"color\": \"rgb(8,48,107)\", \"width\": 1.5}}, \"opacity\": 0.6, \"orientation\": \"h\", \"text\": [0.08, 0.08, 0.06, 0.06, 0.04, 0.04, 0.04, 0.04, 0.04, 0.04, 0.04, 0.04, 0.04, 0.02, 0.02, 0.02, 0.02, 0.02, 0.02, 0.02, 0.02, 0.02, 0.02, 0.02, 0.02, 0.02, 0.02, 0.02, 0.02, 0.02, 0.02, 0.0, 0.0, 0.0, 0.0, 0.0, 0.0, 0.0, 0.0, 0.0, 0.0, 0.0, 0.0, 0.0, 0.0, 0.0, 0.0, 0.0, 0.0, 0.0, 0.0, 0.0, 0.0, 0.0, 0.0, 0.0, 0.0, 0.0], \"textposition\": \"outside\", \"x\": [0.08, 0.08, 0.06, 0.06, 0.04, 0.04, 0.04, 0.04, 0.04, 0.04, 0.04, 0.04, 0.04, 0.02, 0.02, 0.02, 0.02, 0.02, 0.02, 0.02, 0.02, 0.02, 0.02, 0.02, 0.02, 0.02, 0.02, 0.02, 0.02, 0.02, 0.02, 0.0, 0.0, 0.0, 0.0, 0.0, 0.0, 0.0, 0.0, 0.0, 0.0, 0.0, 0.0, 0.0, 0.0, 0.0, 0.0, 0.0, 0.0, 0.0, 0.0, 0.0, 0.0, 0.0, 0.0, 0.0, 0.0, 0.0], \"y\": [\"url_extensions\", \"url_number_special_chars/url_length\", \"url_length\", \"w_average\", \"z_average\", \"m_average\", \"y_average\", \"url_number_consonants/url_length\", \"url_number_vowels/url_length\", \"n_average\", \"o_average\", \"url_char_.\", \"c_average\", \"k_average\", \"b_average\", \"p_average\", \"q_average\", \"i_average\", \"r_average\", \"g_average\", \"f_average\", \"s_average\", \"d_average\", \"h_average\", \"a_average\", \"url_number_digits\", \"url_char_/\", \"url_tlds\", \"t_average\", \"url_number_consonants\", \"0_average\", \"x_average\", \"1_average\", \"2_average\", \"u_average\", \"3_average\", \"4_average\", \"5_average\", \"6_average\", \"7_average\", \"8_average\", \"v_average\", \"url_char_%\", \"l_average\", \"j_average\", \"url_char_&\", \"e_average\", \"url_number_special_chars\", \"url_number_vowels\", \"url_number_digits/url_length\", \"url_port\", \"url_char__\", \"url_char_?\", \"url_char_=\", \"url_char_:\", \"url_char_-\", \"url_char_+\", \"9_average\"], \"type\": \"bar\", \"uid\": \"d9b5957a-bb5e-47b5-8bf4-968136ef6074\"}], {\"autosize\": false, \"height\": 1000, \"width\": 1000, \"xaxis\": {\"tickfont\": {\"color\": \"black\", \"size\": 12}, \"title\": \"Feature Importances\"}, \"yaxis\": {\"automargin\": true}}, {\"showLink\": true, \"linkText\": \"Export to plot.ly\", \"plotlyServerURL\": \"https://plot.ly\"})});</script>"
      ]
     },
     "metadata": {},
     "output_type": "display_data"
    },
    {
     "name": "stdout",
     "output_type": "stream",
     "text": [
      "\n",
      "\n",
      "\u001b[1mGradientBoosting Classifier\u001b[0m\n",
      "Accuracy of the model for training data is: 0.963198546115\n",
      "Confusion Matrix for training data is:\n"
     ]
    },
    {
     "data": {
      "text/plain": [
       "Predicted  False  True  __all__\n",
       "Actual                         \n",
       "False      31517   375    31892\n",
       "True        1002  4523     5525\n",
       "__all__    32519  4898    37417"
      ]
     },
     "metadata": {},
     "output_type": "display_data"
    },
    {
     "name": "stdout",
     "output_type": "stream",
     "text": [
      "Accuracy of the model for test data is: 0.963224289074\n",
      "Confusion Matrix for test data is:\n"
     ]
    },
    {
     "data": {
      "text/plain": [
       "Predicted  False  True  __all__\n",
       "Actual                         \n",
       "False       7877   108     7985\n",
       "True         236  1133     1369\n",
       "__all__     8113  1241     9354"
      ]
     },
     "metadata": {},
     "output_type": "display_data"
    },
    {
     "data": {
      "application/vnd.plotly.v1+json": {
       "config": {
        "linkText": "Export to plot.ly",
        "plotlyServerURL": "https://plot.ly",
        "showLink": true
       },
       "data": [
        {
         "marker": {
          "color": "rgb(158,202,225)",
          "line": {
           "color": "rgb(8,48,107)",
           "width": 1.5
          }
         },
         "opacity": 0.6,
         "orientation": "h",
         "text": [
          0.3315,
          0.3206,
          0.0774,
          0.0773,
          0.0392,
          0.0305,
          0.0223,
          0.0208,
          0.0154,
          0.0122,
          0.0092,
          0.0069,
          0.0062,
          0.0059,
          0.003,
          0.0026,
          0.0022,
          0.0019,
          0.0014,
          0.0012,
          0.0012,
          0.0011,
          0.001,
          0.0009,
          0.0008,
          0.0008,
          0.0008,
          0.0007,
          0.0007,
          0.0006,
          0.0005,
          0.0005,
          0.0005,
          0.0004,
          0.0004,
          0.0004,
          0.0002,
          0.0002,
          0.0002,
          0.0001,
          0.0001,
          0.0001,
          0.0001,
          0,
          0,
          0,
          0,
          0,
          0,
          0,
          0,
          0,
          0,
          0,
          0,
          0,
          0,
          0
         ],
         "textposition": "outside",
         "type": "bar",
         "uid": "e55cdb31-b8a5-46aa-b728-8465236f39c0",
         "x": [
          0.33150184839614116,
          0.32058546302750063,
          0.07737080203633916,
          0.0772657960217381,
          0.039181935323938294,
          0.03052667280241197,
          0.022286004724885605,
          0.020756505368711174,
          0.015434040689109179,
          0.012237314225169901,
          0.009211941321718885,
          0.006888006710320597,
          0.006179986574861067,
          0.00586571891649253,
          0.003045336858295933,
          0.0026470040423379007,
          0.0021987423631490213,
          0.0018623009289226264,
          0.0013917051590494913,
          0.0012058583029821253,
          0.0011969418438732373,
          0.0011089423648435225,
          0.0009589199284983072,
          0.000880970505574738,
          0.0008183858968510672,
          0.0008118303782620486,
          0.0007515911426012145,
          0.0007371856894883366,
          0.0007029827454030603,
          0.0006318417108617942,
          0.0005236635416955785,
          0.00046760091933967186,
          0.00045304804886685084,
          0.00043297715599812455,
          0.000429876525859278,
          0.0003930335247887716,
          0.00022241921291449106,
          0.00021796121654284707,
          0.00015079804337064968,
          0.00012682817706115954,
          9.099111058779482e-05,
          5.6938385404954596e-05,
          5.5681713879331826e-05,
          4.835796940062435e-05,
          3.2282865856009755e-05,
          2.9092754737803462e-05,
          2.587283336340191e-05,
          0,
          0,
          0,
          0,
          0,
          0,
          0,
          0,
          0,
          0,
          0
         ],
         "y": [
          "url_extensions",
          "url_length",
          "url_char_.",
          "url_char_/",
          "w_average",
          "url_number_digits/url_length",
          "z_average",
          "url_tlds",
          "m_average",
          "url_number_special_chars",
          "b_average",
          "url_number_consonants",
          "url_number_digits",
          "o_average",
          "r_average",
          "url_number_vowels/url_length",
          "f_average",
          "i_average",
          "l_average",
          "k_average",
          "url_number_vowels",
          "y_average",
          "x_average",
          "c_average",
          "j_average",
          "url_number_consonants/url_length",
          "u_average",
          "q_average",
          "6_average",
          "url_char_-",
          "h_average",
          "s_average",
          "9_average",
          "d_average",
          "url_number_special_chars/url_length",
          "p_average",
          "n_average",
          "a_average",
          "3_average",
          "0_average",
          "2_average",
          "t_average",
          "1_average",
          "g_average",
          "8_average",
          "v_average",
          "5_average",
          "url_char_&",
          "4_average",
          "url_char_+",
          "7_average",
          "url_char_?",
          "url_char_:",
          "url_char_=",
          "url_char__",
          "url_port",
          "e_average",
          "url_char_%"
         ]
        }
       ],
       "layout": {
        "autosize": false,
        "height": 1000,
        "width": 1000,
        "xaxis": {
         "tickfont": {
          "color": "black",
          "size": 12
         },
         "title": "Feature Importances"
        },
        "yaxis": {
         "automargin": true
        }
       }
      },
      "text/html": [
       "<div id=\"2d5a3866-1c55-4aae-b843-8658798e8d8e\" style=\"height: 1000px; width: 1000px;\" class=\"plotly-graph-div\"></div><script type=\"text/javascript\">require([\"plotly\"], function(Plotly) { window.PLOTLYENV=window.PLOTLYENV || {};window.PLOTLYENV.BASE_URL=\"https://plot.ly\";Plotly.newPlot(\"2d5a3866-1c55-4aae-b843-8658798e8d8e\", [{\"marker\": {\"color\": \"rgb(158,202,225)\", \"line\": {\"color\": \"rgb(8,48,107)\", \"width\": 1.5}}, \"opacity\": 0.6, \"orientation\": \"h\", \"text\": [0.3315, 0.3206, 0.0774, 0.0773, 0.0392, 0.0305, 0.0223, 0.0208, 0.0154, 0.0122, 0.0092, 0.0069, 0.0062, 0.0059, 0.003, 0.0026, 0.0022, 0.0019, 0.0014, 0.0012, 0.0012, 0.0011, 0.001, 0.0009, 0.0008, 0.0008, 0.0008, 0.0007, 0.0007, 0.0006, 0.0005, 0.0005, 0.0005, 0.0004, 0.0004, 0.0004, 0.0002, 0.0002, 0.0002, 0.0001, 0.0001, 0.0001, 0.0001, 0.0, 0.0, 0.0, 0.0, 0.0, 0.0, 0.0, 0.0, 0.0, 0.0, 0.0, 0.0, 0.0, 0.0, 0.0], \"textposition\": \"outside\", \"x\": [0.33150184839614116, 0.32058546302750063, 0.07737080203633916, 0.0772657960217381, 0.039181935323938294, 0.03052667280241197, 0.022286004724885605, 0.020756505368711174, 0.015434040689109179, 0.012237314225169901, 0.009211941321718885, 0.006888006710320597, 0.006179986574861067, 0.00586571891649253, 0.003045336858295933, 0.0026470040423379007, 0.0021987423631490213, 0.0018623009289226264, 0.0013917051590494913, 0.0012058583029821253, 0.0011969418438732373, 0.0011089423648435225, 0.0009589199284983072, 0.000880970505574738, 0.0008183858968510672, 0.0008118303782620486, 0.0007515911426012145, 0.0007371856894883366, 0.0007029827454030603, 0.0006318417108617942, 0.0005236635416955785, 0.00046760091933967186, 0.00045304804886685084, 0.00043297715599812455, 0.000429876525859278, 0.0003930335247887716, 0.00022241921291449106, 0.00021796121654284707, 0.00015079804337064968, 0.00012682817706115954, 9.099111058779482e-05, 5.6938385404954596e-05, 5.5681713879331826e-05, 4.835796940062435e-05, 3.2282865856009755e-05, 2.9092754737803462e-05, 2.587283336340191e-05, 0.0, 0.0, 0.0, 0.0, 0.0, 0.0, 0.0, 0.0, 0.0, 0.0, 0.0], \"y\": [\"url_extensions\", \"url_length\", \"url_char_.\", \"url_char_/\", \"w_average\", \"url_number_digits/url_length\", \"z_average\", \"url_tlds\", \"m_average\", \"url_number_special_chars\", \"b_average\", \"url_number_consonants\", \"url_number_digits\", \"o_average\", \"r_average\", \"url_number_vowels/url_length\", \"f_average\", \"i_average\", \"l_average\", \"k_average\", \"url_number_vowels\", \"y_average\", \"x_average\", \"c_average\", \"j_average\", \"url_number_consonants/url_length\", \"u_average\", \"q_average\", \"6_average\", \"url_char_-\", \"h_average\", \"s_average\", \"9_average\", \"d_average\", \"url_number_special_chars/url_length\", \"p_average\", \"n_average\", \"a_average\", \"3_average\", \"0_average\", \"2_average\", \"t_average\", \"1_average\", \"g_average\", \"8_average\", \"v_average\", \"5_average\", \"url_char_&\", \"4_average\", \"url_char_+\", \"7_average\", \"url_char_?\", \"url_char_:\", \"url_char_=\", \"url_char__\", \"url_port\", \"e_average\", \"url_char_%\"], \"type\": \"bar\", \"uid\": \"e55cdb31-b8a5-46aa-b728-8465236f39c0\"}], {\"autosize\": false, \"height\": 1000, \"width\": 1000, \"xaxis\": {\"tickfont\": {\"color\": \"black\", \"size\": 12}, \"title\": \"Feature Importances\"}, \"yaxis\": {\"automargin\": true}}, {\"showLink\": true, \"linkText\": \"Export to plot.ly\", \"plotlyServerURL\": \"https://plot.ly\"})});</script>"
      ],
      "text/vnd.plotly.v1+html": [
       "<div id=\"2d5a3866-1c55-4aae-b843-8658798e8d8e\" style=\"height: 1000px; width: 1000px;\" class=\"plotly-graph-div\"></div><script type=\"text/javascript\">require([\"plotly\"], function(Plotly) { window.PLOTLYENV=window.PLOTLYENV || {};window.PLOTLYENV.BASE_URL=\"https://plot.ly\";Plotly.newPlot(\"2d5a3866-1c55-4aae-b843-8658798e8d8e\", [{\"marker\": {\"color\": \"rgb(158,202,225)\", \"line\": {\"color\": \"rgb(8,48,107)\", \"width\": 1.5}}, \"opacity\": 0.6, \"orientation\": \"h\", \"text\": [0.3315, 0.3206, 0.0774, 0.0773, 0.0392, 0.0305, 0.0223, 0.0208, 0.0154, 0.0122, 0.0092, 0.0069, 0.0062, 0.0059, 0.003, 0.0026, 0.0022, 0.0019, 0.0014, 0.0012, 0.0012, 0.0011, 0.001, 0.0009, 0.0008, 0.0008, 0.0008, 0.0007, 0.0007, 0.0006, 0.0005, 0.0005, 0.0005, 0.0004, 0.0004, 0.0004, 0.0002, 0.0002, 0.0002, 0.0001, 0.0001, 0.0001, 0.0001, 0.0, 0.0, 0.0, 0.0, 0.0, 0.0, 0.0, 0.0, 0.0, 0.0, 0.0, 0.0, 0.0, 0.0, 0.0], \"textposition\": \"outside\", \"x\": [0.33150184839614116, 0.32058546302750063, 0.07737080203633916, 0.0772657960217381, 0.039181935323938294, 0.03052667280241197, 0.022286004724885605, 0.020756505368711174, 0.015434040689109179, 0.012237314225169901, 0.009211941321718885, 0.006888006710320597, 0.006179986574861067, 0.00586571891649253, 0.003045336858295933, 0.0026470040423379007, 0.0021987423631490213, 0.0018623009289226264, 0.0013917051590494913, 0.0012058583029821253, 0.0011969418438732373, 0.0011089423648435225, 0.0009589199284983072, 0.000880970505574738, 0.0008183858968510672, 0.0008118303782620486, 0.0007515911426012145, 0.0007371856894883366, 0.0007029827454030603, 0.0006318417108617942, 0.0005236635416955785, 0.00046760091933967186, 0.00045304804886685084, 0.00043297715599812455, 0.000429876525859278, 0.0003930335247887716, 0.00022241921291449106, 0.00021796121654284707, 0.00015079804337064968, 0.00012682817706115954, 9.099111058779482e-05, 5.6938385404954596e-05, 5.5681713879331826e-05, 4.835796940062435e-05, 3.2282865856009755e-05, 2.9092754737803462e-05, 2.587283336340191e-05, 0.0, 0.0, 0.0, 0.0, 0.0, 0.0, 0.0, 0.0, 0.0, 0.0, 0.0], \"y\": [\"url_extensions\", \"url_length\", \"url_char_.\", \"url_char_/\", \"w_average\", \"url_number_digits/url_length\", \"z_average\", \"url_tlds\", \"m_average\", \"url_number_special_chars\", \"b_average\", \"url_number_consonants\", \"url_number_digits\", \"o_average\", \"r_average\", \"url_number_vowels/url_length\", \"f_average\", \"i_average\", \"l_average\", \"k_average\", \"url_number_vowels\", \"y_average\", \"x_average\", \"c_average\", \"j_average\", \"url_number_consonants/url_length\", \"u_average\", \"q_average\", \"6_average\", \"url_char_-\", \"h_average\", \"s_average\", \"9_average\", \"d_average\", \"url_number_special_chars/url_length\", \"p_average\", \"n_average\", \"a_average\", \"3_average\", \"0_average\", \"2_average\", \"t_average\", \"1_average\", \"g_average\", \"8_average\", \"v_average\", \"5_average\", \"url_char_&\", \"4_average\", \"url_char_+\", \"7_average\", \"url_char_?\", \"url_char_:\", \"url_char_=\", \"url_char__\", \"url_port\", \"e_average\", \"url_char_%\"], \"type\": \"bar\", \"uid\": \"e55cdb31-b8a5-46aa-b728-8465236f39c0\"}], {\"autosize\": false, \"height\": 1000, \"width\": 1000, \"xaxis\": {\"tickfont\": {\"color\": \"black\", \"size\": 12}, \"title\": \"Feature Importances\"}, \"yaxis\": {\"automargin\": true}}, {\"showLink\": true, \"linkText\": \"Export to plot.ly\", \"plotlyServerURL\": \"https://plot.ly\"})});</script>"
      ]
     },
     "metadata": {},
     "output_type": "display_data"
    },
    {
     "name": "stdout",
     "output_type": "stream",
     "text": [
      "\n",
      "\n",
      "\u001b[1mExtraTree Classifier\u001b[0m\n",
      "Accuracy of the model for training data is: 0.99997327418\n",
      "Confusion Matrix for training data is:\n"
     ]
    },
    {
     "data": {
      "text/plain": [
       "Predicted  False  True  __all__\n",
       "Actual                         \n",
       "False      31892     0    31892\n",
       "True           1  5524     5525\n",
       "__all__    31893  5524    37417"
      ]
     },
     "metadata": {},
     "output_type": "display_data"
    },
    {
     "name": "stdout",
     "output_type": "stream",
     "text": [
      "Accuracy of the model for test data is: 0.965469317939\n",
      "Confusion Matrix for test data is:\n"
     ]
    },
    {
     "data": {
      "text/plain": [
       "Predicted  False  True  __all__\n",
       "Actual                         \n",
       "False       7917    68     7985\n",
       "True         255  1114     1369\n",
       "__all__     8172  1182     9354"
      ]
     },
     "metadata": {},
     "output_type": "display_data"
    },
    {
     "data": {
      "application/vnd.plotly.v1+json": {
       "config": {
        "linkText": "Export to plot.ly",
        "plotlyServerURL": "https://plot.ly",
        "showLink": true
       },
       "data": [
        {
         "marker": {
          "color": "rgb(158,202,225)",
          "line": {
           "color": "rgb(8,48,107)",
           "width": 1.5
          }
         },
         "opacity": 0.6,
         "orientation": "h",
         "text": [
          0.0926,
          0.0849,
          0.0762,
          0.0741,
          0.0551,
          0.0384,
          0.0318,
          0.0286,
          0.028,
          0.0268,
          0.0267,
          0.0262,
          0.0247,
          0.0225,
          0.0201,
          0.0201,
          0.0176,
          0.0165,
          0.0152,
          0.0147,
          0.0145,
          0.014,
          0.0129,
          0.0128,
          0.0127,
          0.0122,
          0.0121,
          0.0119,
          0.0118,
          0.0111,
          0.011,
          0.0106,
          0.0103,
          0.0101,
          0.0095,
          0.0095,
          0.0095,
          0.0091,
          0.0089,
          0.0078,
          0.0057,
          0.0056,
          0.0051,
          0.0041,
          0.0038,
          0.0037,
          0.0021,
          0.0021,
          0.0017,
          0.001,
          0.0006,
          0.0006,
          0.0002,
          0.0002,
          0.0001,
          0.0001,
          0,
          0
         ],
         "textposition": "outside",
         "type": "bar",
         "uid": "3f3b0442-80a9-40c5-aba3-778d742631ef",
         "x": [
          0.09261682299324725,
          0.08488783603029586,
          0.0762028164154876,
          0.07413716272625843,
          0.05509442201566288,
          0.03842945432584327,
          0.03182595466643643,
          0.028616834570632847,
          0.027978788391099112,
          0.026769667742141418,
          0.02667207845419569,
          0.026215749417372803,
          0.02465510593259935,
          0.022527361867760196,
          0.020124658750825676,
          0.020090666617020678,
          0.017638083172098452,
          0.016471294540919744,
          0.01519746548304535,
          0.014729314251510783,
          0.014521201468520381,
          0.01397360214828119,
          0.012941191022832416,
          0.012787511959569087,
          0.01266951941485758,
          0.012221217388200123,
          0.012113945693103926,
          0.011881747884618273,
          0.011824093861048888,
          0.011074627525893225,
          0.011026133810760615,
          0.010624827513354806,
          0.010309026337517863,
          0.010140280293782415,
          0.009541633083788545,
          0.009535092719934553,
          0.009471696416178513,
          0.009147978527457917,
          0.008880899366925495,
          0.00775702932329665,
          0.005746091266647957,
          0.005564016440324261,
          0.005087614110440531,
          0.004057422286312079,
          0.003801522547007688,
          0.00372240984730519,
          0.002145180480656474,
          0.0021034373131663085,
          0.0016765996600199011,
          0.0010474896836385808,
          0.0006144554163619977,
          0.0005570125965057834,
          0.00019556685159600288,
          0.0001782327395559322,
          9.039908218700609e-05,
          8.775555389799582e-05,
          0,
          0
         ],
         "y": [
          "url_number_consonants",
          "url_number_special_chars",
          "url_length",
          "url_char_.",
          "url_extensions",
          "url_tlds",
          "w_average",
          "url_number_special_chars/url_length",
          "url_char_/",
          "url_number_vowels",
          "url_number_digits",
          "o_average",
          "url_number_digits/url_length",
          "m_average",
          "i_average",
          "c_average",
          "b_average",
          "z_average",
          "r_average",
          "y_average",
          "e_average",
          "x_average",
          "url_number_consonants/url_length",
          "n_average",
          "url_number_vowels/url_length",
          "u_average",
          "a_average",
          "s_average",
          "k_average",
          "l_average",
          "t_average",
          "d_average",
          "h_average",
          "p_average",
          "url_char_-",
          "f_average",
          "g_average",
          "3_average",
          "0_average",
          "v_average",
          "6_average",
          "j_average",
          "1_average",
          "4_average",
          "q_average",
          "2_average",
          "8_average",
          "7_average",
          "9_average",
          "5_average",
          "url_char_?",
          "url_char_:",
          "url_char__",
          "url_port",
          "url_char_+",
          "url_char_=",
          "url_char_&",
          "url_char_%"
         ]
        }
       ],
       "layout": {
        "autosize": false,
        "height": 1000,
        "width": 1000,
        "xaxis": {
         "tickfont": {
          "color": "black",
          "size": 12
         },
         "title": "Feature Importances"
        },
        "yaxis": {
         "automargin": true
        }
       }
      },
      "text/html": [
       "<div id=\"ea372122-f35e-4d05-9c3a-f2726cb79d3d\" style=\"height: 1000px; width: 1000px;\" class=\"plotly-graph-div\"></div><script type=\"text/javascript\">require([\"plotly\"], function(Plotly) { window.PLOTLYENV=window.PLOTLYENV || {};window.PLOTLYENV.BASE_URL=\"https://plot.ly\";Plotly.newPlot(\"ea372122-f35e-4d05-9c3a-f2726cb79d3d\", [{\"marker\": {\"color\": \"rgb(158,202,225)\", \"line\": {\"color\": \"rgb(8,48,107)\", \"width\": 1.5}}, \"opacity\": 0.6, \"orientation\": \"h\", \"text\": [0.0926, 0.0849, 0.0762, 0.0741, 0.0551, 0.0384, 0.0318, 0.0286, 0.028, 0.0268, 0.0267, 0.0262, 0.0247, 0.0225, 0.0201, 0.0201, 0.0176, 0.0165, 0.0152, 0.0147, 0.0145, 0.014, 0.0129, 0.0128, 0.0127, 0.0122, 0.0121, 0.0119, 0.0118, 0.0111, 0.011, 0.0106, 0.0103, 0.0101, 0.0095, 0.0095, 0.0095, 0.0091, 0.0089, 0.0078, 0.0057, 0.0056, 0.0051, 0.0041, 0.0038, 0.0037, 0.0021, 0.0021, 0.0017, 0.001, 0.0006, 0.0006, 0.0002, 0.0002, 0.0001, 0.0001, 0.0, 0.0], \"textposition\": \"outside\", \"x\": [0.09261682299324725, 0.08488783603029586, 0.0762028164154876, 0.07413716272625843, 0.05509442201566288, 0.03842945432584327, 0.03182595466643643, 0.028616834570632847, 0.027978788391099112, 0.026769667742141418, 0.02667207845419569, 0.026215749417372803, 0.02465510593259935, 0.022527361867760196, 0.020124658750825676, 0.020090666617020678, 0.017638083172098452, 0.016471294540919744, 0.01519746548304535, 0.014729314251510783, 0.014521201468520381, 0.01397360214828119, 0.012941191022832416, 0.012787511959569087, 0.01266951941485758, 0.012221217388200123, 0.012113945693103926, 0.011881747884618273, 0.011824093861048888, 0.011074627525893225, 0.011026133810760615, 0.010624827513354806, 0.010309026337517863, 0.010140280293782415, 0.009541633083788545, 0.009535092719934553, 0.009471696416178513, 0.009147978527457917, 0.008880899366925495, 0.00775702932329665, 0.005746091266647957, 0.005564016440324261, 0.005087614110440531, 0.004057422286312079, 0.003801522547007688, 0.00372240984730519, 0.002145180480656474, 0.0021034373131663085, 0.0016765996600199011, 0.0010474896836385808, 0.0006144554163619977, 0.0005570125965057834, 0.00019556685159600288, 0.0001782327395559322, 9.039908218700609e-05, 8.775555389799582e-05, 0.0, 0.0], \"y\": [\"url_number_consonants\", \"url_number_special_chars\", \"url_length\", \"url_char_.\", \"url_extensions\", \"url_tlds\", \"w_average\", \"url_number_special_chars/url_length\", \"url_char_/\", \"url_number_vowels\", \"url_number_digits\", \"o_average\", \"url_number_digits/url_length\", \"m_average\", \"i_average\", \"c_average\", \"b_average\", \"z_average\", \"r_average\", \"y_average\", \"e_average\", \"x_average\", \"url_number_consonants/url_length\", \"n_average\", \"url_number_vowels/url_length\", \"u_average\", \"a_average\", \"s_average\", \"k_average\", \"l_average\", \"t_average\", \"d_average\", \"h_average\", \"p_average\", \"url_char_-\", \"f_average\", \"g_average\", \"3_average\", \"0_average\", \"v_average\", \"6_average\", \"j_average\", \"1_average\", \"4_average\", \"q_average\", \"2_average\", \"8_average\", \"7_average\", \"9_average\", \"5_average\", \"url_char_?\", \"url_char_:\", \"url_char__\", \"url_port\", \"url_char_+\", \"url_char_=\", \"url_char_&\", \"url_char_%\"], \"type\": \"bar\", \"uid\": \"3f3b0442-80a9-40c5-aba3-778d742631ef\"}], {\"autosize\": false, \"height\": 1000, \"width\": 1000, \"xaxis\": {\"tickfont\": {\"color\": \"black\", \"size\": 12}, \"title\": \"Feature Importances\"}, \"yaxis\": {\"automargin\": true}}, {\"showLink\": true, \"linkText\": \"Export to plot.ly\", \"plotlyServerURL\": \"https://plot.ly\"})});</script>"
      ],
      "text/vnd.plotly.v1+html": [
       "<div id=\"ea372122-f35e-4d05-9c3a-f2726cb79d3d\" style=\"height: 1000px; width: 1000px;\" class=\"plotly-graph-div\"></div><script type=\"text/javascript\">require([\"plotly\"], function(Plotly) { window.PLOTLYENV=window.PLOTLYENV || {};window.PLOTLYENV.BASE_URL=\"https://plot.ly\";Plotly.newPlot(\"ea372122-f35e-4d05-9c3a-f2726cb79d3d\", [{\"marker\": {\"color\": \"rgb(158,202,225)\", \"line\": {\"color\": \"rgb(8,48,107)\", \"width\": 1.5}}, \"opacity\": 0.6, \"orientation\": \"h\", \"text\": [0.0926, 0.0849, 0.0762, 0.0741, 0.0551, 0.0384, 0.0318, 0.0286, 0.028, 0.0268, 0.0267, 0.0262, 0.0247, 0.0225, 0.0201, 0.0201, 0.0176, 0.0165, 0.0152, 0.0147, 0.0145, 0.014, 0.0129, 0.0128, 0.0127, 0.0122, 0.0121, 0.0119, 0.0118, 0.0111, 0.011, 0.0106, 0.0103, 0.0101, 0.0095, 0.0095, 0.0095, 0.0091, 0.0089, 0.0078, 0.0057, 0.0056, 0.0051, 0.0041, 0.0038, 0.0037, 0.0021, 0.0021, 0.0017, 0.001, 0.0006, 0.0006, 0.0002, 0.0002, 0.0001, 0.0001, 0.0, 0.0], \"textposition\": \"outside\", \"x\": [0.09261682299324725, 0.08488783603029586, 0.0762028164154876, 0.07413716272625843, 0.05509442201566288, 0.03842945432584327, 0.03182595466643643, 0.028616834570632847, 0.027978788391099112, 0.026769667742141418, 0.02667207845419569, 0.026215749417372803, 0.02465510593259935, 0.022527361867760196, 0.020124658750825676, 0.020090666617020678, 0.017638083172098452, 0.016471294540919744, 0.01519746548304535, 0.014729314251510783, 0.014521201468520381, 0.01397360214828119, 0.012941191022832416, 0.012787511959569087, 0.01266951941485758, 0.012221217388200123, 0.012113945693103926, 0.011881747884618273, 0.011824093861048888, 0.011074627525893225, 0.011026133810760615, 0.010624827513354806, 0.010309026337517863, 0.010140280293782415, 0.009541633083788545, 0.009535092719934553, 0.009471696416178513, 0.009147978527457917, 0.008880899366925495, 0.00775702932329665, 0.005746091266647957, 0.005564016440324261, 0.005087614110440531, 0.004057422286312079, 0.003801522547007688, 0.00372240984730519, 0.002145180480656474, 0.0021034373131663085, 0.0016765996600199011, 0.0010474896836385808, 0.0006144554163619977, 0.0005570125965057834, 0.00019556685159600288, 0.0001782327395559322, 9.039908218700609e-05, 8.775555389799582e-05, 0.0, 0.0], \"y\": [\"url_number_consonants\", \"url_number_special_chars\", \"url_length\", \"url_char_.\", \"url_extensions\", \"url_tlds\", \"w_average\", \"url_number_special_chars/url_length\", \"url_char_/\", \"url_number_vowels\", \"url_number_digits\", \"o_average\", \"url_number_digits/url_length\", \"m_average\", \"i_average\", \"c_average\", \"b_average\", \"z_average\", \"r_average\", \"y_average\", \"e_average\", \"x_average\", \"url_number_consonants/url_length\", \"n_average\", \"url_number_vowels/url_length\", \"u_average\", \"a_average\", \"s_average\", \"k_average\", \"l_average\", \"t_average\", \"d_average\", \"h_average\", \"p_average\", \"url_char_-\", \"f_average\", \"g_average\", \"3_average\", \"0_average\", \"v_average\", \"6_average\", \"j_average\", \"1_average\", \"4_average\", \"q_average\", \"2_average\", \"8_average\", \"7_average\", \"9_average\", \"5_average\", \"url_char_?\", \"url_char_:\", \"url_char__\", \"url_port\", \"url_char_+\", \"url_char_=\", \"url_char_&\", \"url_char_%\"], \"type\": \"bar\", \"uid\": \"3f3b0442-80a9-40c5-aba3-778d742631ef\"}], {\"autosize\": false, \"height\": 1000, \"width\": 1000, \"xaxis\": {\"tickfont\": {\"color\": \"black\", \"size\": 12}, \"title\": \"Feature Importances\"}, \"yaxis\": {\"automargin\": true}}, {\"showLink\": true, \"linkText\": \"Export to plot.ly\", \"plotlyServerURL\": \"https://plot.ly\"})});</script>"
      ]
     },
     "metadata": {},
     "output_type": "display_data"
    },
    {
     "name": "stdout",
     "output_type": "stream",
     "text": [
      "\n",
      "\n",
      "\u001b[1mBagging Classifier\u001b[0m\n",
      "Accuracy of the model for training data is: 0.994922094235\n",
      "Confusion Matrix for training data is:\n"
     ]
    },
    {
     "data": {
      "text/plain": [
       "Predicted  False  True  __all__\n",
       "Actual                         \n",
       "False      31878    14    31892\n",
       "True         176  5349     5525\n",
       "__all__    32054  5363    37417"
      ]
     },
     "metadata": {},
     "output_type": "display_data"
    },
    {
     "name": "stdout",
     "output_type": "stream",
     "text": [
      "Accuracy of the model for test data is: 0.964400256575\n",
      "Confusion Matrix for test data is:\n"
     ]
    },
    {
     "data": {
      "text/plain": [
       "Predicted  False  True  __all__\n",
       "Actual                         \n",
       "False       7894    91     7985\n",
       "True         242  1127     1369\n",
       "__all__     8136  1218     9354"
      ]
     },
     "metadata": {},
     "output_type": "display_data"
    },
    {
     "name": "stdout",
     "output_type": "stream",
     "text": [
      "\n",
      "\n",
      "\u001b[1mNeural Network-1\u001b[0m\n",
      "The accuracy of the model on training data is: 0.995002271695\n"
     ]
    },
    {
     "data": {
      "text/plain": [
       "Predicted  False  True  __all__\n",
       "Actual                         \n",
       "False      31884     8    31892\n",
       "True         179  5346     5525\n",
       "__all__    32063  5354    37417"
      ]
     },
     "metadata": {},
     "output_type": "display_data"
    },
    {
     "name": "stdout",
     "output_type": "stream",
     "text": [
      "The accuracy of the model on test data is: 0.959161855891\n"
     ]
    },
    {
     "data": {
      "text/plain": [
       "Predicted  False  True  __all__\n",
       "Actual                         \n",
       "False       7849   136     7985\n",
       "True         246  1123     1369\n",
       "__all__     8095  1259     9354"
      ]
     },
     "metadata": {},
     "output_type": "display_data"
    },
    {
     "name": "stdout",
     "output_type": "stream",
     "text": [
      "\n",
      "\n"
     ]
    }
   ],
   "source": [
    "feat_imp=[None]*4\n",
    "j=0\n",
    "for i in range(0,8):\n",
    "    if i>=2 and i<=5:\n",
    "        model,cm_train,cm_test,acc_train,acc_test,roc_auc,feat_imp[j],mcc=f[i](scaled_X_train,train_Y,scaled_X_test,test_Y,columns)\n",
    "        j=j+1\n",
    "    else:\n",
    "        model,cm_train,cm_test,acc_train,acc_test,roc_auc,mcc=f[i](scaled_X_train,train_Y,scaled_X_test,test_Y)\n",
    "    table_80_50_train.loc[i]=   ([acc_train,cm_train.TP,cm_train.TN,cm_train.FP,cm_train.FN,cm_train.FPR,cm_train.FNR])\n",
    "    table_80_50_test.loc[i] =   ([acc_test ,cm_test.TP, cm_test.TN, cm_test.FP, cm_test.FN, cm_test.FPR, cm_test.FNR,roc_auc,mcc])\n",
    "    print(\"\\n\")"
   ]
  },
  {
   "cell_type": "markdown",
   "metadata": {},
   "source": [
    "### <a id='1.A' style=\"text-decoration : none; color : #000000;\"> A Results</a>"
   ]
  },
  {
   "cell_type": "code",
   "execution_count": 23,
   "metadata": {},
   "outputs": [
    {
     "data": {
      "application/vnd.plotly.v1+json": {
       "config": {
        "linkText": "Export to plot.ly",
        "plotlyServerURL": "https://plot.ly",
        "showLink": true
       },
       "data": [
        {
         "mode": "lines",
         "name": "KNN_model",
         "type": "scatter",
         "uid": "d3c88286-8bac-4396-804f-72443547ce4e",
         "x": [
          "accuracy",
          "FPR",
          "FNR",
          "auc"
         ],
         "y": [
          0.9615137908915972,
          0.0076393237319974956,
          0.21840759678597516,
          0.8869765397410136
         ]
        },
        {
         "mode": "lines+markers",
         "name": "Logistic Regression",
         "type": "scatter",
         "uid": "20bdb89b-1854-41fe-ada0-74a5e4a9d68a",
         "x": [
          "accuracy",
          "FPR",
          "FNR",
          "auc"
         ],
         "y": [
          0.9538165490699166,
          0.016030056355666875,
          0.2220598977355734,
          0.8809550229543799
         ]
        },
        {
         "marker": {
          "symbol": "x"
         },
         "mode": "lines+markers",
         "name": "Random Forest",
         "type": "scatter",
         "uid": "b174fbc2-a03e-46b9-bbb1-f95da937902b",
         "x": [
          "accuracy",
          "FPR",
          "FNR",
          "auc"
         ],
         "y": [
          0.966538379302972,
          0.009267376330619912,
          0.1745799853907962,
          0.908076319139292
         ]
        },
        {
         "mode": "lines",
         "name": "Ada Boost",
         "type": "scatter",
         "uid": "4138bcbd-0f82-4545-84e0-223ee55e7a77",
         "x": [
          "accuracy",
          "FPR",
          "FNR",
          "auc"
         ],
         "y": [
          0.9524267692965577,
          0.019912335629304948,
          0.2089116143170197,
          0.8855880250268376
         ]
        },
        {
         "mode": "lines+markers",
         "name": "GradientBoosting",
         "type": "scatter",
         "uid": "8b1120eb-25e6-48e3-8803-dba9c600f002",
         "x": [
          "accuracy",
          "FPR",
          "FNR",
          "auc"
         ],
         "y": [
          0.9632242890741929,
          0.013525360050093926,
          0.17238860482103727,
          0.9070430175644343
         ]
        },
        {
         "marker": {
          "symbol": "x"
         },
         "mode": "lines+markers",
         "name": "ExtraTree Classifier",
         "type": "scatter",
         "uid": "e0312b77-f3c3-4140-82de-4b40ace0be53",
         "x": [
          "accuracy",
          "FPR",
          "FNR",
          "auc"
         ],
         "y": [
          0.9654693179388497,
          0.008515967438948028,
          0.1862673484295106,
          0.9026083420657708
         ]
        },
        {
         "marker": {
          "symbol": "x"
         },
         "mode": "lines+markers",
         "name": "Bagging",
         "type": "scatter",
         "uid": "242b49c5-1fc8-455f-aefd-99113a64fe2b",
         "x": [
          "accuracy",
          "FPR",
          "FNR",
          "auc"
         ],
         "y": [
          0.9644002565747274,
          0.01139636819035692,
          0.17677136596055515,
          0.905916132924544
         ]
        },
        {
         "marker": {
          "symbol": "x"
         },
         "mode": "lines+markers",
         "name": "Neural Network",
         "type": "scatter",
         "uid": "8c9a0a52-c497-432b-880c-e2b67dd389bf",
         "x": [
          "accuracy",
          "FPR",
          "FNR",
          "auc"
         ],
         "y": [
          0.9591618558905282,
          0.017031934877896057,
          0.17969320672023376,
          0.905916132924544
         ]
        }
       ],
       "layout": {
        "title": "Result comparision for Features selected in Section 1",
        "yaxis": {
         "dtick": 0.05,
         "tick0": 0
        }
       }
      },
      "text/html": [
       "<div id=\"11c36332-b253-4c01-96da-5cb510a59dfb\" style=\"height: 525px; width: 100%;\" class=\"plotly-graph-div\"></div><script type=\"text/javascript\">require([\"plotly\"], function(Plotly) { window.PLOTLYENV=window.PLOTLYENV || {};window.PLOTLYENV.BASE_URL=\"https://plot.ly\";Plotly.newPlot(\"11c36332-b253-4c01-96da-5cb510a59dfb\", [{\"mode\": \"lines\", \"name\": \"KNN_model\", \"x\": [\"accuracy\", \"FPR\", \"FNR\", \"auc\"], \"y\": [0.9615137908915972, 0.0076393237319974956, 0.21840759678597516, 0.8869765397410136], \"type\": \"scatter\", \"uid\": \"d3c88286-8bac-4396-804f-72443547ce4e\"}, {\"mode\": \"lines+markers\", \"name\": \"Logistic Regression\", \"x\": [\"accuracy\", \"FPR\", \"FNR\", \"auc\"], \"y\": [0.9538165490699166, 0.016030056355666875, 0.2220598977355734, 0.8809550229543799], \"type\": \"scatter\", \"uid\": \"20bdb89b-1854-41fe-ada0-74a5e4a9d68a\"}, {\"marker\": {\"symbol\": \"x\"}, \"mode\": \"lines+markers\", \"name\": \"Random Forest\", \"x\": [\"accuracy\", \"FPR\", \"FNR\", \"auc\"], \"y\": [0.966538379302972, 0.009267376330619912, 0.1745799853907962, 0.908076319139292], \"type\": \"scatter\", \"uid\": \"b174fbc2-a03e-46b9-bbb1-f95da937902b\"}, {\"mode\": \"lines\", \"name\": \"Ada Boost\", \"x\": [\"accuracy\", \"FPR\", \"FNR\", \"auc\"], \"y\": [0.9524267692965577, 0.019912335629304948, 0.2089116143170197, 0.8855880250268376], \"type\": \"scatter\", \"uid\": \"4138bcbd-0f82-4545-84e0-223ee55e7a77\"}, {\"mode\": \"lines+markers\", \"name\": \"GradientBoosting\", \"x\": [\"accuracy\", \"FPR\", \"FNR\", \"auc\"], \"y\": [0.9632242890741929, 0.013525360050093926, 0.17238860482103727, 0.9070430175644343], \"type\": \"scatter\", \"uid\": \"8b1120eb-25e6-48e3-8803-dba9c600f002\"}, {\"marker\": {\"symbol\": \"x\"}, \"mode\": \"lines+markers\", \"name\": \"ExtraTree Classifier\", \"x\": [\"accuracy\", \"FPR\", \"FNR\", \"auc\"], \"y\": [0.9654693179388497, 0.008515967438948028, 0.1862673484295106, 0.9026083420657708], \"type\": \"scatter\", \"uid\": \"e0312b77-f3c3-4140-82de-4b40ace0be53\"}, {\"marker\": {\"symbol\": \"x\"}, \"mode\": \"lines+markers\", \"name\": \"Bagging\", \"x\": [\"accuracy\", \"FPR\", \"FNR\", \"auc\"], \"y\": [0.9644002565747274, 0.01139636819035692, 0.17677136596055515, 0.905916132924544], \"type\": \"scatter\", \"uid\": \"242b49c5-1fc8-455f-aefd-99113a64fe2b\"}, {\"marker\": {\"symbol\": \"x\"}, \"mode\": \"lines+markers\", \"name\": \"Neural Network\", \"x\": [\"accuracy\", \"FPR\", \"FNR\", \"auc\"], \"y\": [0.9591618558905282, 0.017031934877896057, 0.17969320672023376, 0.905916132924544], \"type\": \"scatter\", \"uid\": \"8c9a0a52-c497-432b-880c-e2b67dd389bf\"}], {\"title\": \"Result comparision for Features selected in Section 1\", \"yaxis\": {\"dtick\": 0.05, \"tick0\": 0}}, {\"showLink\": true, \"linkText\": \"Export to plot.ly\", \"plotlyServerURL\": \"https://plot.ly\"})});</script><script type=\"text/javascript\">window.addEventListener(\"resize\", function(){window._Plotly.Plots.resize(document.getElementById(\"11c36332-b253-4c01-96da-5cb510a59dfb\"));});</script>"
      ],
      "text/vnd.plotly.v1+html": [
       "<div id=\"11c36332-b253-4c01-96da-5cb510a59dfb\" style=\"height: 525px; width: 100%;\" class=\"plotly-graph-div\"></div><script type=\"text/javascript\">require([\"plotly\"], function(Plotly) { window.PLOTLYENV=window.PLOTLYENV || {};window.PLOTLYENV.BASE_URL=\"https://plot.ly\";Plotly.newPlot(\"11c36332-b253-4c01-96da-5cb510a59dfb\", [{\"mode\": \"lines\", \"name\": \"KNN_model\", \"x\": [\"accuracy\", \"FPR\", \"FNR\", \"auc\"], \"y\": [0.9615137908915972, 0.0076393237319974956, 0.21840759678597516, 0.8869765397410136], \"type\": \"scatter\", \"uid\": \"d3c88286-8bac-4396-804f-72443547ce4e\"}, {\"mode\": \"lines+markers\", \"name\": \"Logistic Regression\", \"x\": [\"accuracy\", \"FPR\", \"FNR\", \"auc\"], \"y\": [0.9538165490699166, 0.016030056355666875, 0.2220598977355734, 0.8809550229543799], \"type\": \"scatter\", \"uid\": \"20bdb89b-1854-41fe-ada0-74a5e4a9d68a\"}, {\"marker\": {\"symbol\": \"x\"}, \"mode\": \"lines+markers\", \"name\": \"Random Forest\", \"x\": [\"accuracy\", \"FPR\", \"FNR\", \"auc\"], \"y\": [0.966538379302972, 0.009267376330619912, 0.1745799853907962, 0.908076319139292], \"type\": \"scatter\", \"uid\": \"b174fbc2-a03e-46b9-bbb1-f95da937902b\"}, {\"mode\": \"lines\", \"name\": \"Ada Boost\", \"x\": [\"accuracy\", \"FPR\", \"FNR\", \"auc\"], \"y\": [0.9524267692965577, 0.019912335629304948, 0.2089116143170197, 0.8855880250268376], \"type\": \"scatter\", \"uid\": \"4138bcbd-0f82-4545-84e0-223ee55e7a77\"}, {\"mode\": \"lines+markers\", \"name\": \"GradientBoosting\", \"x\": [\"accuracy\", \"FPR\", \"FNR\", \"auc\"], \"y\": [0.9632242890741929, 0.013525360050093926, 0.17238860482103727, 0.9070430175644343], \"type\": \"scatter\", \"uid\": \"8b1120eb-25e6-48e3-8803-dba9c600f002\"}, {\"marker\": {\"symbol\": \"x\"}, \"mode\": \"lines+markers\", \"name\": \"ExtraTree Classifier\", \"x\": [\"accuracy\", \"FPR\", \"FNR\", \"auc\"], \"y\": [0.9654693179388497, 0.008515967438948028, 0.1862673484295106, 0.9026083420657708], \"type\": \"scatter\", \"uid\": \"e0312b77-f3c3-4140-82de-4b40ace0be53\"}, {\"marker\": {\"symbol\": \"x\"}, \"mode\": \"lines+markers\", \"name\": \"Bagging\", \"x\": [\"accuracy\", \"FPR\", \"FNR\", \"auc\"], \"y\": [0.9644002565747274, 0.01139636819035692, 0.17677136596055515, 0.905916132924544], \"type\": \"scatter\", \"uid\": \"242b49c5-1fc8-455f-aefd-99113a64fe2b\"}, {\"marker\": {\"symbol\": \"x\"}, \"mode\": \"lines+markers\", \"name\": \"Neural Network\", \"x\": [\"accuracy\", \"FPR\", \"FNR\", \"auc\"], \"y\": [0.9591618558905282, 0.017031934877896057, 0.17969320672023376, 0.905916132924544], \"type\": \"scatter\", \"uid\": \"8c9a0a52-c497-432b-880c-e2b67dd389bf\"}], {\"title\": \"Result comparision for Features selected in Section 1\", \"yaxis\": {\"dtick\": 0.05, \"tick0\": 0}}, {\"showLink\": true, \"linkText\": \"Export to plot.ly\", \"plotlyServerURL\": \"https://plot.ly\"})});</script><script type=\"text/javascript\">window.addEventListener(\"resize\", function(){window._Plotly.Plots.resize(document.getElementById(\"11c36332-b253-4c01-96da-5cb510a59dfb\"));});</script>"
      ]
     },
     "metadata": {},
     "output_type": "display_data"
    }
   ],
   "source": [
    "trace0 = go.Scatter(x=table_80_50_test.iloc[0].index.values[[0,5,6,7]],\n",
    "                    y=table_80_50_test.iloc[0].values[[0,5,6,7]],\n",
    "                    mode = 'lines',\n",
    "                    name = 'KNN_model')\n",
    "\n",
    "trace1 = go.Scatter(x=table_80_50_test.iloc[1].index.values[[0,5,6,7]],\n",
    "                    y=table_80_50_test.iloc[1].values[[0,5,6,7]],\n",
    "                    mode = 'lines+markers',\n",
    "                    name = 'Logistic Regression')\n",
    "\n",
    "trace2 = go.Scatter(x=table_80_50_test.iloc[2].index.values[[0,5,6,7]],\n",
    "                    y=table_80_50_test.iloc[2].values[[0,5,6,7]],\n",
    "                    mode = 'lines+markers',marker=dict(symbol='x'),\n",
    "                    name = 'Random Forest')\n",
    "\n",
    "\n",
    "trace3 = go.Scatter(x=table_80_50_test.iloc[3].index.values[[0,5,6,7]],\n",
    "                    y=table_80_50_test.iloc[3].values[[0,5,6,7]],\n",
    "                    mode = 'lines',\n",
    "                    name = 'Ada Boost')\n",
    "\n",
    "trace4 = go.Scatter(x=table_80_50_test.iloc[4].index.values[[0,5,6,7]],\n",
    "                    y=table_80_50_test.iloc[4].values[[0,5,6,7]],\n",
    "                    mode = 'lines+markers',\n",
    "                    name = 'GradientBoosting')\n",
    "\n",
    "trace5 = go.Scatter(x=table_80_50_test.iloc[5].index.values[[0,5,6,7]],\n",
    "                    y=table_80_50_test.iloc[5].values[[0,5,6,7]],\n",
    "                    mode = 'lines+markers',marker=dict(symbol='x'),\n",
    "                    name = 'ExtraTree Classifier')\n",
    "\n",
    "trace6 = go.Scatter(x=table_80_50_test.iloc[6].index.values[[0,5,6,7]],\n",
    "                    y=table_80_50_test.iloc[6].values[[0,5,6,7]],\n",
    "                    mode = 'lines+markers',marker=dict(symbol='x'),\n",
    "                    name = 'Bagging')\n",
    "\n",
    "trace7 = go.Scatter(x=table_80_50_test.iloc[7].index.values[[0,5,6,7]],\n",
    "                    y=table_80_50_test.iloc[7].values[[0,5,6,7]],\n",
    "                    mode = 'lines+markers',marker=dict(symbol='x'),\n",
    "                    name = 'Neural Network')\n",
    "\n",
    "\n",
    "\n",
    "data = [trace0, trace1, trace2, trace3, trace4, trace5, trace6, trace7]\n",
    "layout = go.Layout(yaxis=dict(tick0=0,dtick=0.05),title='Result comparision for Features selected in Section 1')\n",
    "fig = go.Figure(data=data, layout=layout)\n",
    "\n",
    "iplot(fig, filename='Result')"
   ]
  },
  {
   "cell_type": "code",
   "execution_count": 24,
   "metadata": {},
   "outputs": [
    {
     "name": "stdout",
     "output_type": "stream",
     "text": [
      "Training Results\n"
     ]
    },
    {
     "data": {
      "text/html": [
       "<div>\n",
       "<style scoped>\n",
       "    .dataframe tbody tr th:only-of-type {\n",
       "        vertical-align: middle;\n",
       "    }\n",
       "\n",
       "    .dataframe tbody tr th {\n",
       "        vertical-align: top;\n",
       "    }\n",
       "\n",
       "    .dataframe thead th {\n",
       "        text-align: right;\n",
       "    }\n",
       "</style>\n",
       "<table border=\"1\" class=\"dataframe\">\n",
       "  <thead>\n",
       "    <tr style=\"text-align: right;\">\n",
       "      <th></th>\n",
       "      <th>accuracy</th>\n",
       "      <th>TP</th>\n",
       "      <th>TN</th>\n",
       "      <th>FP</th>\n",
       "      <th>FN</th>\n",
       "      <th>FPR</th>\n",
       "      <th>FNR</th>\n",
       "    </tr>\n",
       "    <tr>\n",
       "      <th>index</th>\n",
       "      <th></th>\n",
       "      <th></th>\n",
       "      <th></th>\n",
       "      <th></th>\n",
       "      <th></th>\n",
       "      <th></th>\n",
       "      <th></th>\n",
       "    </tr>\n",
       "  </thead>\n",
       "  <tbody>\n",
       "    <tr>\n",
       "      <th>KNeighborsClassifier</th>\n",
       "      <td>0.969880</td>\n",
       "      <td>4538.0</td>\n",
       "      <td>31752.0</td>\n",
       "      <td>140.0</td>\n",
       "      <td>987.0</td>\n",
       "      <td>0.004390</td>\n",
       "      <td>0.178643</td>\n",
       "    </tr>\n",
       "    <tr>\n",
       "      <th>LogisticRegression</th>\n",
       "      <td>0.952107</td>\n",
       "      <td>4215.0</td>\n",
       "      <td>31410.0</td>\n",
       "      <td>482.0</td>\n",
       "      <td>1310.0</td>\n",
       "      <td>0.015114</td>\n",
       "      <td>0.237104</td>\n",
       "    </tr>\n",
       "    <tr>\n",
       "      <th>RandomForestClassifier</th>\n",
       "      <td>0.995243</td>\n",
       "      <td>5351.0</td>\n",
       "      <td>31888.0</td>\n",
       "      <td>4.0</td>\n",
       "      <td>174.0</td>\n",
       "      <td>0.000125</td>\n",
       "      <td>0.031493</td>\n",
       "    </tr>\n",
       "    <tr>\n",
       "      <th>AdaBoostClassifier</th>\n",
       "      <td>0.950691</td>\n",
       "      <td>4272.0</td>\n",
       "      <td>31300.0</td>\n",
       "      <td>592.0</td>\n",
       "      <td>1253.0</td>\n",
       "      <td>0.018563</td>\n",
       "      <td>0.226787</td>\n",
       "    </tr>\n",
       "    <tr>\n",
       "      <th>GradientBoostingClassifier</th>\n",
       "      <td>0.963199</td>\n",
       "      <td>4523.0</td>\n",
       "      <td>31517.0</td>\n",
       "      <td>375.0</td>\n",
       "      <td>1002.0</td>\n",
       "      <td>0.011758</td>\n",
       "      <td>0.181357</td>\n",
       "    </tr>\n",
       "    <tr>\n",
       "      <th>ExtraTreeClassifier</th>\n",
       "      <td>0.999973</td>\n",
       "      <td>5524.0</td>\n",
       "      <td>31892.0</td>\n",
       "      <td>0.0</td>\n",
       "      <td>1.0</td>\n",
       "      <td>0.000000</td>\n",
       "      <td>0.000181</td>\n",
       "    </tr>\n",
       "    <tr>\n",
       "      <th>BaggingClassifier</th>\n",
       "      <td>0.994922</td>\n",
       "      <td>5349.0</td>\n",
       "      <td>31878.0</td>\n",
       "      <td>14.0</td>\n",
       "      <td>176.0</td>\n",
       "      <td>0.000439</td>\n",
       "      <td>0.031855</td>\n",
       "    </tr>\n",
       "    <tr>\n",
       "      <th>Neural Network-1</th>\n",
       "      <td>0.995002</td>\n",
       "      <td>5346.0</td>\n",
       "      <td>31884.0</td>\n",
       "      <td>8.0</td>\n",
       "      <td>179.0</td>\n",
       "      <td>0.000251</td>\n",
       "      <td>0.032398</td>\n",
       "    </tr>\n",
       "  </tbody>\n",
       "</table>\n",
       "</div>"
      ],
      "text/plain": [
       "                            accuracy      TP       TN     FP      FN  \\\n",
       "index                                                                  \n",
       "KNeighborsClassifier        0.969880  4538.0  31752.0  140.0   987.0   \n",
       "LogisticRegression          0.952107  4215.0  31410.0  482.0  1310.0   \n",
       "RandomForestClassifier      0.995243  5351.0  31888.0    4.0   174.0   \n",
       "AdaBoostClassifier          0.950691  4272.0  31300.0  592.0  1253.0   \n",
       "GradientBoostingClassifier  0.963199  4523.0  31517.0  375.0  1002.0   \n",
       "ExtraTreeClassifier         0.999973  5524.0  31892.0    0.0     1.0   \n",
       "BaggingClassifier           0.994922  5349.0  31878.0   14.0   176.0   \n",
       "Neural Network-1            0.995002  5346.0  31884.0    8.0   179.0   \n",
       "\n",
       "                                 FPR       FNR  \n",
       "index                                           \n",
       "KNeighborsClassifier        0.004390  0.178643  \n",
       "LogisticRegression          0.015114  0.237104  \n",
       "RandomForestClassifier      0.000125  0.031493  \n",
       "AdaBoostClassifier          0.018563  0.226787  \n",
       "GradientBoostingClassifier  0.011758  0.181357  \n",
       "ExtraTreeClassifier         0.000000  0.000181  \n",
       "BaggingClassifier           0.000439  0.031855  \n",
       "Neural Network-1            0.000251  0.032398  "
      ]
     },
     "metadata": {},
     "output_type": "display_data"
    },
    {
     "name": "stdout",
     "output_type": "stream",
     "text": [
      "Test Results\n"
     ]
    },
    {
     "data": {
      "text/html": [
       "<div>\n",
       "<style scoped>\n",
       "    .dataframe tbody tr th:only-of-type {\n",
       "        vertical-align: middle;\n",
       "    }\n",
       "\n",
       "    .dataframe tbody tr th {\n",
       "        vertical-align: top;\n",
       "    }\n",
       "\n",
       "    .dataframe thead th {\n",
       "        text-align: right;\n",
       "    }\n",
       "</style>\n",
       "<table border=\"1\" class=\"dataframe\">\n",
       "  <thead>\n",
       "    <tr style=\"text-align: right;\">\n",
       "      <th></th>\n",
       "      <th>accuracy</th>\n",
       "      <th>TP</th>\n",
       "      <th>TN</th>\n",
       "      <th>FP</th>\n",
       "      <th>FN</th>\n",
       "      <th>FPR</th>\n",
       "      <th>FNR</th>\n",
       "      <th>auc</th>\n",
       "      <th>MCC</th>\n",
       "    </tr>\n",
       "    <tr>\n",
       "      <th>index</th>\n",
       "      <th></th>\n",
       "      <th></th>\n",
       "      <th></th>\n",
       "      <th></th>\n",
       "      <th></th>\n",
       "      <th></th>\n",
       "      <th></th>\n",
       "      <th></th>\n",
       "      <th></th>\n",
       "    </tr>\n",
       "  </thead>\n",
       "  <tbody>\n",
       "    <tr>\n",
       "      <th>KNeighborsClassifier</th>\n",
       "      <td>0.961514</td>\n",
       "      <td>1070.0</td>\n",
       "      <td>7924.0</td>\n",
       "      <td>61.0</td>\n",
       "      <td>299.0</td>\n",
       "      <td>0.007639</td>\n",
       "      <td>0.218408</td>\n",
       "      <td>0.886977</td>\n",
       "      <td>0.839088</td>\n",
       "    </tr>\n",
       "    <tr>\n",
       "      <th>LogisticRegression</th>\n",
       "      <td>0.953817</td>\n",
       "      <td>1065.0</td>\n",
       "      <td>7857.0</td>\n",
       "      <td>128.0</td>\n",
       "      <td>304.0</td>\n",
       "      <td>0.016030</td>\n",
       "      <td>0.222060</td>\n",
       "      <td>0.880955</td>\n",
       "      <td>0.807330</td>\n",
       "    </tr>\n",
       "    <tr>\n",
       "      <th>RandomForestClassifier</th>\n",
       "      <td>0.966538</td>\n",
       "      <td>1130.0</td>\n",
       "      <td>7911.0</td>\n",
       "      <td>74.0</td>\n",
       "      <td>239.0</td>\n",
       "      <td>0.009267</td>\n",
       "      <td>0.174580</td>\n",
       "      <td>0.908076</td>\n",
       "      <td>0.861427</td>\n",
       "    </tr>\n",
       "    <tr>\n",
       "      <th>AdaBoostClassifier</th>\n",
       "      <td>0.952427</td>\n",
       "      <td>1083.0</td>\n",
       "      <td>7826.0</td>\n",
       "      <td>159.0</td>\n",
       "      <td>286.0</td>\n",
       "      <td>0.019912</td>\n",
       "      <td>0.208912</td>\n",
       "      <td>0.885588</td>\n",
       "      <td>0.803282</td>\n",
       "    </tr>\n",
       "    <tr>\n",
       "      <th>GradientBoostingClassifier</th>\n",
       "      <td>0.963224</td>\n",
       "      <td>1133.0</td>\n",
       "      <td>7877.0</td>\n",
       "      <td>108.0</td>\n",
       "      <td>236.0</td>\n",
       "      <td>0.013525</td>\n",
       "      <td>0.172389</td>\n",
       "      <td>0.907043</td>\n",
       "      <td>0.848268</td>\n",
       "    </tr>\n",
       "    <tr>\n",
       "      <th>ExtraTreeClassifier</th>\n",
       "      <td>0.965469</td>\n",
       "      <td>1114.0</td>\n",
       "      <td>7917.0</td>\n",
       "      <td>68.0</td>\n",
       "      <td>255.0</td>\n",
       "      <td>0.008516</td>\n",
       "      <td>0.186267</td>\n",
       "      <td>0.902608</td>\n",
       "      <td>0.856602</td>\n",
       "    </tr>\n",
       "    <tr>\n",
       "      <th>BaggingClassifier</th>\n",
       "      <td>0.964400</td>\n",
       "      <td>1127.0</td>\n",
       "      <td>7894.0</td>\n",
       "      <td>91.0</td>\n",
       "      <td>242.0</td>\n",
       "      <td>0.011396</td>\n",
       "      <td>0.176771</td>\n",
       "      <td>0.905916</td>\n",
       "      <td>0.852661</td>\n",
       "    </tr>\n",
       "    <tr>\n",
       "      <th>Neural Network-1</th>\n",
       "      <td>0.959162</td>\n",
       "      <td>1123.0</td>\n",
       "      <td>7849.0</td>\n",
       "      <td>136.0</td>\n",
       "      <td>246.0</td>\n",
       "      <td>0.017032</td>\n",
       "      <td>0.179693</td>\n",
       "      <td>0.905916</td>\n",
       "      <td>0.831921</td>\n",
       "    </tr>\n",
       "  </tbody>\n",
       "</table>\n",
       "</div>"
      ],
      "text/plain": [
       "                            accuracy      TP      TN     FP     FN       FPR  \\\n",
       "index                                                                          \n",
       "KNeighborsClassifier        0.961514  1070.0  7924.0   61.0  299.0  0.007639   \n",
       "LogisticRegression          0.953817  1065.0  7857.0  128.0  304.0  0.016030   \n",
       "RandomForestClassifier      0.966538  1130.0  7911.0   74.0  239.0  0.009267   \n",
       "AdaBoostClassifier          0.952427  1083.0  7826.0  159.0  286.0  0.019912   \n",
       "GradientBoostingClassifier  0.963224  1133.0  7877.0  108.0  236.0  0.013525   \n",
       "ExtraTreeClassifier         0.965469  1114.0  7917.0   68.0  255.0  0.008516   \n",
       "BaggingClassifier           0.964400  1127.0  7894.0   91.0  242.0  0.011396   \n",
       "Neural Network-1            0.959162  1123.0  7849.0  136.0  246.0  0.017032   \n",
       "\n",
       "                                 FNR       auc       MCC  \n",
       "index                                                     \n",
       "KNeighborsClassifier        0.218408  0.886977  0.839088  \n",
       "LogisticRegression          0.222060  0.880955  0.807330  \n",
       "RandomForestClassifier      0.174580  0.908076  0.861427  \n",
       "AdaBoostClassifier          0.208912  0.885588  0.803282  \n",
       "GradientBoostingClassifier  0.172389  0.907043  0.848268  \n",
       "ExtraTreeClassifier         0.186267  0.902608  0.856602  \n",
       "BaggingClassifier           0.176771  0.905916  0.852661  \n",
       "Neural Network-1            0.179693  0.905916  0.831921  "
      ]
     },
     "metadata": {},
     "output_type": "display_data"
    }
   ],
   "source": [
    "table_80_50_train['index']=ind_columns\n",
    "table_80_50_test['index']=ind_columns\n",
    "\n",
    "\n",
    "table_80_50_test.set_index(['index'],drop=True,inplace=True)\n",
    "table_80_50_train.set_index(['index'],drop=True,inplace=True)\n",
    "\n",
    "print(\"Training Results\")\n",
    "display(table_80_50_train)\n",
    "print(\"Test Results\")\n",
    "display(table_80_50_test)"
   ]
  },
  {
   "cell_type": "markdown",
   "metadata": {},
   "source": [
    "### <a id='1.B' style=\"text-decoration : none; color : #000000;\"> B. Average Feature Importances</a>"
   ]
  },
  {
   "cell_type": "code",
   "execution_count": 25,
   "metadata": {},
   "outputs": [
    {
     "data": {
      "application/vnd.plotly.v1+json": {
       "config": {
        "linkText": "Export to plot.ly",
        "plotlyServerURL": "https://plot.ly",
        "showLink": true
       },
       "data": [
        {
         "marker": {
          "color": "rgb(158,202,225)",
          "line": {
           "color": "rgb(8,48,107)",
           "width": 1.5
          }
         },
         "opacity": 0.6,
         "orientation": "h",
         "text": [
          0.1498,
          0.134,
          0.0736,
          0.0475,
          0.0448,
          0.0403,
          0.0346,
          0.0329,
          0.0273,
          0.0272,
          0.0242,
          0.0238,
          0.0212,
          0.0188,
          0.0186,
          0.0184,
          0.0173,
          0.0171,
          0.016,
          0.0157,
          0.0148,
          0.0129,
          0.0113,
          0.0113,
          0.011,
          0.0107,
          0.0107,
          0.01,
          0.0099,
          0.0099,
          0.0098,
          0.0096,
          0.0076,
          0.0076,
          0.0073,
          0.0067,
          0.0058,
          0.0056,
          0.0043,
          0.0036,
          0.0028,
          0.0026,
          0.0023,
          0.0017,
          0.0017,
          0.0014,
          0.0012,
          0.0012,
          0.0007,
          0.0004,
          0.0002,
          0.0001,
          0.0001,
          0,
          0,
          0,
          0,
          0
         ],
         "textposition": "outside",
         "type": "bar",
         "uid": "b3972cb1-b872-4d3f-bac2-cf9367ad4d47",
         "x": [
          0.14978136041628398,
          0.13402373469047876,
          0.07357509826263353,
          0.04751353952065683,
          0.04480232691771922,
          0.04030936350847925,
          0.03459647965597179,
          0.032935218487764,
          0.0272656297499407,
          0.027181119022068552,
          0.02424454070533022,
          0.023813258818517646,
          0.02115539851518635,
          0.01878384514609896,
          0.018617558810565607,
          0.01844642420006096,
          0.01731647577904177,
          0.017115782252788626,
          0.01598949739417136,
          0.015743508174862343,
          0.014821901043823318,
          0.012919196338741074,
          0.011338096793622694,
          0.01129074918296273,
          0.011002403819690705,
          0.010708316600869232,
          0.01065711695835458,
          0.009984811005976911,
          0.00989478170888146,
          0.009882097282551168,
          0.009809602096483332,
          0.009582141035854195,
          0.007627639839460071,
          0.007565856870732168,
          0.007275834925847213,
          0.0066575202429672515,
          0.005833729726313106,
          0.005575455026739838,
          0.004298894352347907,
          0.0035677929997751283,
          0.002817067245812377,
          0.0026233336418016516,
          0.0022510661457252382,
          0.0017270192231752849,
          0.001702293651226895,
          0.0014065204969438932,
          0.001229971055136194,
          0.0011910909260816772,
          0.0006566688628446881,
          0.0004260699641911492,
          0.00015361385409049942,
          0.00013925314912644585,
          7.850353130917816e-05,
          4.889171289900072e-05,
          2.2599770546751522e-05,
          2.1938888474498955e-05,
          0,
          0
         ],
         "y": [
          "url_length",
          "url_extensions",
          "url_char_.",
          "url_number_consonants",
          "url_char_/",
          "w_average",
          "url_number_special_chars/url_length",
          "url_number_special_chars",
          "url_tlds",
          "z_average",
          "m_average",
          "o_average",
          "c_average",
          "url_number_digits/url_length",
          "url_number_vowels/url_length",
          "url_number_digits",
          "y_average",
          "url_number_consonants/url_length",
          "n_average",
          "b_average",
          "i_average",
          "r_average",
          "a_average",
          "s_average",
          "url_number_vowels",
          "t_average",
          "k_average",
          "d_average",
          "f_average",
          "p_average",
          "h_average",
          "g_average",
          "0_average",
          "x_average",
          "e_average",
          "q_average",
          "l_average",
          "u_average",
          "url_char_-",
          "v_average",
          "3_average",
          "j_average",
          "6_average",
          "1_average",
          "8_average",
          "4_average",
          "2_average",
          "9_average",
          "7_average",
          "5_average",
          "url_char_?",
          "url_char_:",
          "url_port",
          "url_char__",
          "url_char_+",
          "url_char_=",
          "url_char_&",
          "url_char_%"
         ]
        }
       ],
       "layout": {
        "autosize": false,
        "height": 1000,
        "width": 1000,
        "xaxis": {
         "tickfont": {
          "color": "black",
          "size": 12
         },
         "title": "Feature Importances"
        },
        "yaxis": {
         "automargin": true
        }
       }
      },
      "text/html": [
       "<div id=\"271fbcd0-b5e0-408e-af75-2b02134645b0\" style=\"height: 1000px; width: 1000px;\" class=\"plotly-graph-div\"></div><script type=\"text/javascript\">require([\"plotly\"], function(Plotly) { window.PLOTLYENV=window.PLOTLYENV || {};window.PLOTLYENV.BASE_URL=\"https://plot.ly\";Plotly.newPlot(\"271fbcd0-b5e0-408e-af75-2b02134645b0\", [{\"marker\": {\"color\": \"rgb(158,202,225)\", \"line\": {\"color\": \"rgb(8,48,107)\", \"width\": 1.5}}, \"opacity\": 0.6, \"orientation\": \"h\", \"text\": [0.1498, 0.134, 0.0736, 0.0475, 0.0448, 0.0403, 0.0346, 0.0329, 0.0273, 0.0272, 0.0242, 0.0238, 0.0212, 0.0188, 0.0186, 0.0184, 0.0173, 0.0171, 0.016, 0.0157, 0.0148, 0.0129, 0.0113, 0.0113, 0.011, 0.0107, 0.0107, 0.01, 0.0099, 0.0099, 0.0098, 0.0096, 0.0076, 0.0076, 0.0073, 0.0067, 0.0058, 0.0056, 0.0043, 0.0036, 0.0028, 0.0026, 0.0023, 0.0017, 0.0017, 0.0014, 0.0012, 0.0012, 0.0007, 0.0004, 0.0002, 0.0001, 0.0001, 0.0, 0.0, 0.0, 0.0, 0.0], \"textposition\": \"outside\", \"x\": [0.14978136041628398, 0.13402373469047876, 0.07357509826263353, 0.04751353952065683, 0.04480232691771922, 0.04030936350847925, 0.03459647965597179, 0.032935218487764, 0.0272656297499407, 0.027181119022068552, 0.02424454070533022, 0.023813258818517646, 0.02115539851518635, 0.01878384514609896, 0.018617558810565607, 0.01844642420006096, 0.01731647577904177, 0.017115782252788626, 0.01598949739417136, 0.015743508174862343, 0.014821901043823318, 0.012919196338741074, 0.011338096793622694, 0.01129074918296273, 0.011002403819690705, 0.010708316600869232, 0.01065711695835458, 0.009984811005976911, 0.00989478170888146, 0.009882097282551168, 0.009809602096483332, 0.009582141035854195, 0.007627639839460071, 0.007565856870732168, 0.007275834925847213, 0.0066575202429672515, 0.005833729726313106, 0.005575455026739838, 0.004298894352347907, 0.0035677929997751283, 0.002817067245812377, 0.0026233336418016516, 0.0022510661457252382, 0.0017270192231752849, 0.001702293651226895, 0.0014065204969438932, 0.001229971055136194, 0.0011910909260816772, 0.0006566688628446881, 0.0004260699641911492, 0.00015361385409049942, 0.00013925314912644585, 7.850353130917816e-05, 4.889171289900072e-05, 2.2599770546751522e-05, 2.1938888474498955e-05, 0.0, 0.0], \"y\": [\"url_length\", \"url_extensions\", \"url_char_.\", \"url_number_consonants\", \"url_char_/\", \"w_average\", \"url_number_special_chars/url_length\", \"url_number_special_chars\", \"url_tlds\", \"z_average\", \"m_average\", \"o_average\", \"c_average\", \"url_number_digits/url_length\", \"url_number_vowels/url_length\", \"url_number_digits\", \"y_average\", \"url_number_consonants/url_length\", \"n_average\", \"b_average\", \"i_average\", \"r_average\", \"a_average\", \"s_average\", \"url_number_vowels\", \"t_average\", \"k_average\", \"d_average\", \"f_average\", \"p_average\", \"h_average\", \"g_average\", \"0_average\", \"x_average\", \"e_average\", \"q_average\", \"l_average\", \"u_average\", \"url_char_-\", \"v_average\", \"3_average\", \"j_average\", \"6_average\", \"1_average\", \"8_average\", \"4_average\", \"2_average\", \"9_average\", \"7_average\", \"5_average\", \"url_char_?\", \"url_char_:\", \"url_port\", \"url_char__\", \"url_char_+\", \"url_char_=\", \"url_char_&\", \"url_char_%\"], \"type\": \"bar\", \"uid\": \"b3972cb1-b872-4d3f-bac2-cf9367ad4d47\"}], {\"autosize\": false, \"height\": 1000, \"width\": 1000, \"xaxis\": {\"tickfont\": {\"color\": \"black\", \"size\": 12}, \"title\": \"Feature Importances\"}, \"yaxis\": {\"automargin\": true}}, {\"showLink\": true, \"linkText\": \"Export to plot.ly\", \"plotlyServerURL\": \"https://plot.ly\"})});</script>"
      ],
      "text/vnd.plotly.v1+html": [
       "<div id=\"271fbcd0-b5e0-408e-af75-2b02134645b0\" style=\"height: 1000px; width: 1000px;\" class=\"plotly-graph-div\"></div><script type=\"text/javascript\">require([\"plotly\"], function(Plotly) { window.PLOTLYENV=window.PLOTLYENV || {};window.PLOTLYENV.BASE_URL=\"https://plot.ly\";Plotly.newPlot(\"271fbcd0-b5e0-408e-af75-2b02134645b0\", [{\"marker\": {\"color\": \"rgb(158,202,225)\", \"line\": {\"color\": \"rgb(8,48,107)\", \"width\": 1.5}}, \"opacity\": 0.6, \"orientation\": \"h\", \"text\": [0.1498, 0.134, 0.0736, 0.0475, 0.0448, 0.0403, 0.0346, 0.0329, 0.0273, 0.0272, 0.0242, 0.0238, 0.0212, 0.0188, 0.0186, 0.0184, 0.0173, 0.0171, 0.016, 0.0157, 0.0148, 0.0129, 0.0113, 0.0113, 0.011, 0.0107, 0.0107, 0.01, 0.0099, 0.0099, 0.0098, 0.0096, 0.0076, 0.0076, 0.0073, 0.0067, 0.0058, 0.0056, 0.0043, 0.0036, 0.0028, 0.0026, 0.0023, 0.0017, 0.0017, 0.0014, 0.0012, 0.0012, 0.0007, 0.0004, 0.0002, 0.0001, 0.0001, 0.0, 0.0, 0.0, 0.0, 0.0], \"textposition\": \"outside\", \"x\": [0.14978136041628398, 0.13402373469047876, 0.07357509826263353, 0.04751353952065683, 0.04480232691771922, 0.04030936350847925, 0.03459647965597179, 0.032935218487764, 0.0272656297499407, 0.027181119022068552, 0.02424454070533022, 0.023813258818517646, 0.02115539851518635, 0.01878384514609896, 0.018617558810565607, 0.01844642420006096, 0.01731647577904177, 0.017115782252788626, 0.01598949739417136, 0.015743508174862343, 0.014821901043823318, 0.012919196338741074, 0.011338096793622694, 0.01129074918296273, 0.011002403819690705, 0.010708316600869232, 0.01065711695835458, 0.009984811005976911, 0.00989478170888146, 0.009882097282551168, 0.009809602096483332, 0.009582141035854195, 0.007627639839460071, 0.007565856870732168, 0.007275834925847213, 0.0066575202429672515, 0.005833729726313106, 0.005575455026739838, 0.004298894352347907, 0.0035677929997751283, 0.002817067245812377, 0.0026233336418016516, 0.0022510661457252382, 0.0017270192231752849, 0.001702293651226895, 0.0014065204969438932, 0.001229971055136194, 0.0011910909260816772, 0.0006566688628446881, 0.0004260699641911492, 0.00015361385409049942, 0.00013925314912644585, 7.850353130917816e-05, 4.889171289900072e-05, 2.2599770546751522e-05, 2.1938888474498955e-05, 0.0, 0.0], \"y\": [\"url_length\", \"url_extensions\", \"url_char_.\", \"url_number_consonants\", \"url_char_/\", \"w_average\", \"url_number_special_chars/url_length\", \"url_number_special_chars\", \"url_tlds\", \"z_average\", \"m_average\", \"o_average\", \"c_average\", \"url_number_digits/url_length\", \"url_number_vowels/url_length\", \"url_number_digits\", \"y_average\", \"url_number_consonants/url_length\", \"n_average\", \"b_average\", \"i_average\", \"r_average\", \"a_average\", \"s_average\", \"url_number_vowels\", \"t_average\", \"k_average\", \"d_average\", \"f_average\", \"p_average\", \"h_average\", \"g_average\", \"0_average\", \"x_average\", \"e_average\", \"q_average\", \"l_average\", \"u_average\", \"url_char_-\", \"v_average\", \"3_average\", \"j_average\", \"6_average\", \"1_average\", \"8_average\", \"4_average\", \"2_average\", \"9_average\", \"7_average\", \"5_average\", \"url_char_?\", \"url_char_:\", \"url_port\", \"url_char__\", \"url_char_+\", \"url_char_=\", \"url_char_&\", \"url_char_%\"], \"type\": \"bar\", \"uid\": \"b3972cb1-b872-4d3f-bac2-cf9367ad4d47\"}], {\"autosize\": false, \"height\": 1000, \"width\": 1000, \"xaxis\": {\"tickfont\": {\"color\": \"black\", \"size\": 12}, \"title\": \"Feature Importances\"}, \"yaxis\": {\"automargin\": true}}, {\"showLink\": true, \"linkText\": \"Export to plot.ly\", \"plotlyServerURL\": \"https://plot.ly\"})});</script>"
      ]
     },
     "metadata": {},
     "output_type": "display_data"
    }
   ],
   "source": [
    "feat_impt_plot(np.average(feat_imp,axis=0),columns)"
   ]
  },
  {
   "cell_type": "markdown",
   "metadata": {},
   "source": [
    "### <a id='2' style=\"text-decoration : none; color : #000000;\"> 2. OverSampling </a>"
   ]
  },
  {
   "cell_type": "code",
   "execution_count": 26,
   "metadata": {},
   "outputs": [
    {
     "name": "stderr",
     "output_type": "stream",
     "text": [
      "/nethomes/darshan/anaconda3/lib/python3.6/site-packages/sklearn/utils/deprecation.py:77: DeprecationWarning:\n",
      "\n",
      "Function _ratio_float is deprecated; Use a float for 'ratio' is deprecated from version 0.2. The support will be removed in 0.4. Use a dict, str, or a callable instead.\n",
      "\n"
     ]
    }
   ],
   "source": [
    "sm = SMOTE(random_state=12, ratio = 1.0)\n",
    "X_train, Y_train = sm.fit_sample(scaled_X_train,train_Y)"
   ]
  },
  {
   "cell_type": "code",
   "execution_count": 27,
   "metadata": {
    "collapsed": true
   },
   "outputs": [],
   "source": [
    "## Table to store training and test measures so we can compare later\n",
    "table_80_80_train=pd.DataFrame(columns=['accuracy','TP','TN','FP','FN','FPR','FNR'])\n",
    "table_80_80_test=pd.DataFrame(columns=['accuracy','TP','TN','FP','FN','FPR','FNR','auc','mcc'])"
   ]
  },
  {
   "cell_type": "code",
   "execution_count": 28,
   "metadata": {
    "scrolled": false
   },
   "outputs": [
    {
     "name": "stdout",
     "output_type": "stream",
     "text": [
      "\u001b[1mK-Nearest Neighbors\u001b[0m\n",
      "Accuracy of the model for training data is: 0.97046281199\n",
      "Confusion Matrix for training data is:\n"
     ]
    },
    {
     "data": {
      "text/plain": [
       "Predicted  False   True  __all__\n",
       "Actual                          \n",
       "False      30031   1861    31892\n",
       "True          23  31869    31892\n",
       "__all__    30054  33730    63784"
      ]
     },
     "metadata": {},
     "output_type": "display_data"
    },
    {
     "name": "stdout",
     "output_type": "stream",
     "text": [
      "Accuracy of the model for test data is: 0.906670942912\n",
      "Confusion Matrix for test data is:\n"
     ]
    },
    {
     "data": {
      "text/plain": [
       "Predicted  False  True  __all__\n",
       "Actual                         \n",
       "False       7275   710     7985\n",
       "True         163  1206     1369\n",
       "__all__     7438  1916     9354"
      ]
     },
     "metadata": {},
     "output_type": "display_data"
    },
    {
     "name": "stdout",
     "output_type": "stream",
     "text": [
      "\n",
      "\n",
      "\u001b[1mLogistic Regression\u001b[0m\n",
      "Accuracy of the model for training data is: 0.911310046407\n",
      "Confusion Matrix for training data is:\n"
     ]
    },
    {
     "data": {
      "text/plain": [
       "Predicted  False   True  __all__\n",
       "Actual                          \n",
       "False      29889   2003    31892\n",
       "True        3654  28238    31892\n",
       "__all__    33543  30241    63784"
      ]
     },
     "metadata": {},
     "output_type": "display_data"
    },
    {
     "name": "stdout",
     "output_type": "stream",
     "text": [
      "Accuracy of the model for test data is: 0.929762668377\n",
      "Confusion Matrix for test data is:\n"
     ]
    },
    {
     "data": {
      "text/plain": [
       "Predicted  False  True  __all__\n",
       "Actual                         \n",
       "False       7483   502     7985\n",
       "True         155  1214     1369\n",
       "__all__     7638  1716     9354"
      ]
     },
     "metadata": {},
     "output_type": "display_data"
    },
    {
     "name": "stdout",
     "output_type": "stream",
     "text": [
      "\n",
      "\n",
      "\u001b[1mRandomForest Classifier\u001b[0m\n",
      "Accuracy of the model for training data is: 0.998118650445\n",
      "Confusion Matrix for training data is:\n"
     ]
    },
    {
     "data": {
      "text/plain": [
       "Predicted  False   True  __all__\n",
       "Actual                          \n",
       "False      31879     13    31892\n",
       "True         107  31785    31892\n",
       "__all__    31986  31798    63784"
      ]
     },
     "metadata": {},
     "output_type": "display_data"
    },
    {
     "name": "stdout",
     "output_type": "stream",
     "text": [
      "Accuracy of the model for test data is: 0.962582852256\n",
      "Confusion Matrix for test data is:\n"
     ]
    },
    {
     "data": {
      "text/plain": [
       "Predicted  False  True  __all__\n",
       "Actual                         \n",
       "False       7851   134     7985\n",
       "True         216  1153     1369\n",
       "__all__     8067  1287     9354"
      ]
     },
     "metadata": {},
     "output_type": "display_data"
    },
    {
     "data": {
      "application/vnd.plotly.v1+json": {
       "config": {
        "linkText": "Export to plot.ly",
        "plotlyServerURL": "https://plot.ly",
        "showLink": true
       },
       "data": [
        {
         "marker": {
          "color": "rgb(158,202,225)",
          "line": {
           "color": "rgb(8,48,107)",
           "width": 1.5
          }
         },
         "opacity": 0.6,
         "orientation": "h",
         "text": [
          0.1739,
          0.1213,
          0.0866,
          0.0469,
          0.0378,
          0.0345,
          0.0335,
          0.0334,
          0.0332,
          0.0322,
          0.0259,
          0.0256,
          0.0244,
          0.0234,
          0.0228,
          0.0178,
          0.017,
          0.0166,
          0.0161,
          0.0158,
          0.0152,
          0.0134,
          0.013,
          0.0127,
          0.0103,
          0.0099,
          0.0097,
          0.0095,
          0.0092,
          0.0072,
          0.0065,
          0.006,
          0.0051,
          0.005,
          0.0049,
          0.0041,
          0.0039,
          0.0039,
          0.0033,
          0.0022,
          0.002,
          0.0011,
          0.0008,
          0.0005,
          0.0004,
          0.0004,
          0.0003,
          0.0003,
          0.0003,
          0.0002,
          0,
          0,
          0,
          0,
          0,
          0,
          0,
          0
         ],
         "textposition": "outside",
         "type": "bar",
         "uid": "d76a871f-dec5-4803-a2e6-7723e4f9e8d0",
         "x": [
          0.17389767536547934,
          0.12131456046606437,
          0.08663699573732878,
          0.04693648457413523,
          0.03776284654557707,
          0.034503184884838764,
          0.03354310140072274,
          0.03342403133816737,
          0.033219769643088135,
          0.03216650395816382,
          0.0259254027169352,
          0.025574231079363047,
          0.024388208658828032,
          0.023419418447186948,
          0.02275586483901211,
          0.01784655498859633,
          0.016968863691161122,
          0.016556532074895405,
          0.016098735705163254,
          0.0158340724549283,
          0.015199427482307756,
          0.013412682834247736,
          0.013005186999920672,
          0.012684313566098986,
          0.01025732270694891,
          0.00988819403323501,
          0.009650603927560968,
          0.009486036953518347,
          0.009235408123993701,
          0.007246274276418688,
          0.006500000760958314,
          0.005985544007322512,
          0.005062174698847438,
          0.004969168588893067,
          0.004915794994418523,
          0.004058791028274534,
          0.003890313843999637,
          0.003871631517476621,
          0.003302706004441046,
          0.0022175626136911267,
          0.001963519436246181,
          0.0010685383818734944,
          0.0007882525821722577,
          0.00046986652386031314,
          0.00043890284124497545,
          0.0004183684106998114,
          0.000339726029889015,
          0.00033359467102149205,
          0.0003030315280041426,
          0.0002468161224844723,
          1.720594029487563e-05,
          0,
          0,
          0,
          0,
          0,
          0,
          0
         ],
         "y": [
          "url_length",
          "url_extensions",
          "url_number_special_chars",
          "url_char_.",
          "url_number_vowels",
          "m_average",
          "z_average",
          "url_number_consonants",
          "w_average",
          "url_tlds",
          "url_number_special_chars/url_length",
          "o_average",
          "url_char_/",
          "l_average",
          "b_average",
          "d_average",
          "s_average",
          "i_average",
          "url_number_vowels/url_length",
          "url_number_digits/url_length",
          "url_number_digits",
          "r_average",
          "url_number_consonants/url_length",
          "c_average",
          "e_average",
          "t_average",
          "n_average",
          "a_average",
          "u_average",
          "y_average",
          "p_average",
          "g_average",
          "h_average",
          "k_average",
          "f_average",
          "url_char_-",
          "v_average",
          "x_average",
          "1_average",
          "j_average",
          "q_average",
          "8_average",
          "0_average",
          "6_average",
          "9_average",
          "2_average",
          "7_average",
          "3_average",
          "4_average",
          "5_average",
          "url_port",
          "url_char_&",
          "url_char__",
          "url_char_?",
          "url_char_=",
          "url_char_:",
          "url_char_+",
          "url_char_%"
         ]
        }
       ],
       "layout": {
        "autosize": false,
        "height": 1000,
        "width": 1000,
        "xaxis": {
         "tickfont": {
          "color": "black",
          "size": 12
         },
         "title": "Feature Importances"
        },
        "yaxis": {
         "automargin": true
        }
       }
      },
      "text/html": [
       "<div id=\"4e6f1be2-720e-4a73-a09d-67b3cc975cd7\" style=\"height: 1000px; width: 1000px;\" class=\"plotly-graph-div\"></div><script type=\"text/javascript\">require([\"plotly\"], function(Plotly) { window.PLOTLYENV=window.PLOTLYENV || {};window.PLOTLYENV.BASE_URL=\"https://plot.ly\";Plotly.newPlot(\"4e6f1be2-720e-4a73-a09d-67b3cc975cd7\", [{\"marker\": {\"color\": \"rgb(158,202,225)\", \"line\": {\"color\": \"rgb(8,48,107)\", \"width\": 1.5}}, \"opacity\": 0.6, \"orientation\": \"h\", \"text\": [0.1739, 0.1213, 0.0866, 0.0469, 0.0378, 0.0345, 0.0335, 0.0334, 0.0332, 0.0322, 0.0259, 0.0256, 0.0244, 0.0234, 0.0228, 0.0178, 0.017, 0.0166, 0.0161, 0.0158, 0.0152, 0.0134, 0.013, 0.0127, 0.0103, 0.0099, 0.0097, 0.0095, 0.0092, 0.0072, 0.0065, 0.006, 0.0051, 0.005, 0.0049, 0.0041, 0.0039, 0.0039, 0.0033, 0.0022, 0.002, 0.0011, 0.0008, 0.0005, 0.0004, 0.0004, 0.0003, 0.0003, 0.0003, 0.0002, 0.0, 0.0, 0.0, 0.0, 0.0, 0.0, 0.0, 0.0], \"textposition\": \"outside\", \"x\": [0.17389767536547934, 0.12131456046606437, 0.08663699573732878, 0.04693648457413523, 0.03776284654557707, 0.034503184884838764, 0.03354310140072274, 0.03342403133816737, 0.033219769643088135, 0.03216650395816382, 0.0259254027169352, 0.025574231079363047, 0.024388208658828032, 0.023419418447186948, 0.02275586483901211, 0.01784655498859633, 0.016968863691161122, 0.016556532074895405, 0.016098735705163254, 0.0158340724549283, 0.015199427482307756, 0.013412682834247736, 0.013005186999920672, 0.012684313566098986, 0.01025732270694891, 0.00988819403323501, 0.009650603927560968, 0.009486036953518347, 0.009235408123993701, 0.007246274276418688, 0.006500000760958314, 0.005985544007322512, 0.005062174698847438, 0.004969168588893067, 0.004915794994418523, 0.004058791028274534, 0.003890313843999637, 0.003871631517476621, 0.003302706004441046, 0.0022175626136911267, 0.001963519436246181, 0.0010685383818734944, 0.0007882525821722577, 0.00046986652386031314, 0.00043890284124497545, 0.0004183684106998114, 0.000339726029889015, 0.00033359467102149205, 0.0003030315280041426, 0.0002468161224844723, 1.720594029487563e-05, 0.0, 0.0, 0.0, 0.0, 0.0, 0.0, 0.0], \"y\": [\"url_length\", \"url_extensions\", \"url_number_special_chars\", \"url_char_.\", \"url_number_vowels\", \"m_average\", \"z_average\", \"url_number_consonants\", \"w_average\", \"url_tlds\", \"url_number_special_chars/url_length\", \"o_average\", \"url_char_/\", \"l_average\", \"b_average\", \"d_average\", \"s_average\", \"i_average\", \"url_number_vowels/url_length\", \"url_number_digits/url_length\", \"url_number_digits\", \"r_average\", \"url_number_consonants/url_length\", \"c_average\", \"e_average\", \"t_average\", \"n_average\", \"a_average\", \"u_average\", \"y_average\", \"p_average\", \"g_average\", \"h_average\", \"k_average\", \"f_average\", \"url_char_-\", \"v_average\", \"x_average\", \"1_average\", \"j_average\", \"q_average\", \"8_average\", \"0_average\", \"6_average\", \"9_average\", \"2_average\", \"7_average\", \"3_average\", \"4_average\", \"5_average\", \"url_port\", \"url_char_&\", \"url_char__\", \"url_char_?\", \"url_char_=\", \"url_char_:\", \"url_char_+\", \"url_char_%\"], \"type\": \"bar\", \"uid\": \"d76a871f-dec5-4803-a2e6-7723e4f9e8d0\"}], {\"autosize\": false, \"height\": 1000, \"width\": 1000, \"xaxis\": {\"tickfont\": {\"color\": \"black\", \"size\": 12}, \"title\": \"Feature Importances\"}, \"yaxis\": {\"automargin\": true}}, {\"showLink\": true, \"linkText\": \"Export to plot.ly\", \"plotlyServerURL\": \"https://plot.ly\"})});</script>"
      ],
      "text/vnd.plotly.v1+html": [
       "<div id=\"4e6f1be2-720e-4a73-a09d-67b3cc975cd7\" style=\"height: 1000px; width: 1000px;\" class=\"plotly-graph-div\"></div><script type=\"text/javascript\">require([\"plotly\"], function(Plotly) { window.PLOTLYENV=window.PLOTLYENV || {};window.PLOTLYENV.BASE_URL=\"https://plot.ly\";Plotly.newPlot(\"4e6f1be2-720e-4a73-a09d-67b3cc975cd7\", [{\"marker\": {\"color\": \"rgb(158,202,225)\", \"line\": {\"color\": \"rgb(8,48,107)\", \"width\": 1.5}}, \"opacity\": 0.6, \"orientation\": \"h\", \"text\": [0.1739, 0.1213, 0.0866, 0.0469, 0.0378, 0.0345, 0.0335, 0.0334, 0.0332, 0.0322, 0.0259, 0.0256, 0.0244, 0.0234, 0.0228, 0.0178, 0.017, 0.0166, 0.0161, 0.0158, 0.0152, 0.0134, 0.013, 0.0127, 0.0103, 0.0099, 0.0097, 0.0095, 0.0092, 0.0072, 0.0065, 0.006, 0.0051, 0.005, 0.0049, 0.0041, 0.0039, 0.0039, 0.0033, 0.0022, 0.002, 0.0011, 0.0008, 0.0005, 0.0004, 0.0004, 0.0003, 0.0003, 0.0003, 0.0002, 0.0, 0.0, 0.0, 0.0, 0.0, 0.0, 0.0, 0.0], \"textposition\": \"outside\", \"x\": [0.17389767536547934, 0.12131456046606437, 0.08663699573732878, 0.04693648457413523, 0.03776284654557707, 0.034503184884838764, 0.03354310140072274, 0.03342403133816737, 0.033219769643088135, 0.03216650395816382, 0.0259254027169352, 0.025574231079363047, 0.024388208658828032, 0.023419418447186948, 0.02275586483901211, 0.01784655498859633, 0.016968863691161122, 0.016556532074895405, 0.016098735705163254, 0.0158340724549283, 0.015199427482307756, 0.013412682834247736, 0.013005186999920672, 0.012684313566098986, 0.01025732270694891, 0.00988819403323501, 0.009650603927560968, 0.009486036953518347, 0.009235408123993701, 0.007246274276418688, 0.006500000760958314, 0.005985544007322512, 0.005062174698847438, 0.004969168588893067, 0.004915794994418523, 0.004058791028274534, 0.003890313843999637, 0.003871631517476621, 0.003302706004441046, 0.0022175626136911267, 0.001963519436246181, 0.0010685383818734944, 0.0007882525821722577, 0.00046986652386031314, 0.00043890284124497545, 0.0004183684106998114, 0.000339726029889015, 0.00033359467102149205, 0.0003030315280041426, 0.0002468161224844723, 1.720594029487563e-05, 0.0, 0.0, 0.0, 0.0, 0.0, 0.0, 0.0], \"y\": [\"url_length\", \"url_extensions\", \"url_number_special_chars\", \"url_char_.\", \"url_number_vowels\", \"m_average\", \"z_average\", \"url_number_consonants\", \"w_average\", \"url_tlds\", \"url_number_special_chars/url_length\", \"o_average\", \"url_char_/\", \"l_average\", \"b_average\", \"d_average\", \"s_average\", \"i_average\", \"url_number_vowels/url_length\", \"url_number_digits/url_length\", \"url_number_digits\", \"r_average\", \"url_number_consonants/url_length\", \"c_average\", \"e_average\", \"t_average\", \"n_average\", \"a_average\", \"u_average\", \"y_average\", \"p_average\", \"g_average\", \"h_average\", \"k_average\", \"f_average\", \"url_char_-\", \"v_average\", \"x_average\", \"1_average\", \"j_average\", \"q_average\", \"8_average\", \"0_average\", \"6_average\", \"9_average\", \"2_average\", \"7_average\", \"3_average\", \"4_average\", \"5_average\", \"url_port\", \"url_char_&\", \"url_char__\", \"url_char_?\", \"url_char_=\", \"url_char_:\", \"url_char_+\", \"url_char_%\"], \"type\": \"bar\", \"uid\": \"d76a871f-dec5-4803-a2e6-7723e4f9e8d0\"}], {\"autosize\": false, \"height\": 1000, \"width\": 1000, \"xaxis\": {\"tickfont\": {\"color\": \"black\", \"size\": 12}, \"title\": \"Feature Importances\"}, \"yaxis\": {\"automargin\": true}}, {\"showLink\": true, \"linkText\": \"Export to plot.ly\", \"plotlyServerURL\": \"https://plot.ly\"})});</script>"
      ]
     },
     "metadata": {},
     "output_type": "display_data"
    },
    {
     "name": "stdout",
     "output_type": "stream",
     "text": [
      "\n",
      "\n",
      "\u001b[1mAdaoost Classifier\u001b[0m\n",
      "Accuracy of the model for training data is: 0.941207826414\n",
      "Confusion Matrix for training data is:\n"
     ]
    },
    {
     "data": {
      "text/plain": [
       "Predicted  False   True  __all__\n",
       "Actual                          \n",
       "False      30551   1341    31892\n",
       "True        2409  29483    31892\n",
       "__all__    32960  30824    63784"
      ]
     },
     "metadata": {},
     "output_type": "display_data"
    },
    {
     "name": "stdout",
     "output_type": "stream",
     "text": [
      "Accuracy of the model for test data is: 0.940560188155\n",
      "Confusion Matrix for test data is:\n"
     ]
    },
    {
     "data": {
      "text/plain": [
       "Predicted  False  True  __all__\n",
       "Actual                         \n",
       "False       7643   342     7985\n",
       "True         214  1155     1369\n",
       "__all__     7857  1497     9354"
      ]
     },
     "metadata": {},
     "output_type": "display_data"
    },
    {
     "data": {
      "application/vnd.plotly.v1+json": {
       "config": {
        "linkText": "Export to plot.ly",
        "plotlyServerURL": "https://plot.ly",
        "showLink": true
       },
       "data": [
        {
         "marker": {
          "color": "rgb(158,202,225)",
          "line": {
           "color": "rgb(8,48,107)",
           "width": 1.5
          }
         },
         "opacity": 0.6,
         "orientation": "h",
         "text": [
          0.08,
          0.08,
          0.08,
          0.06,
          0.04,
          0.04,
          0.04,
          0.04,
          0.04,
          0.04,
          0.02,
          0.02,
          0.02,
          0.02,
          0.02,
          0.02,
          0.02,
          0.02,
          0.02,
          0.02,
          0.02,
          0.02,
          0.02,
          0.02,
          0.02,
          0.02,
          0.02,
          0.02,
          0.02,
          0.02,
          0.02,
          0.02,
          0.02,
          0,
          0,
          0,
          0,
          0,
          0,
          0,
          0,
          0,
          0,
          0,
          0,
          0,
          0,
          0,
          0,
          0,
          0,
          0,
          0,
          0,
          0,
          0,
          0,
          0
         ],
         "textposition": "outside",
         "type": "bar",
         "uid": "6388512c-1e97-4533-b463-9f5a205f4b67",
         "x": [
          0.08,
          0.08,
          0.08,
          0.06,
          0.04,
          0.04,
          0.04,
          0.04,
          0.04,
          0.04,
          0.02,
          0.02,
          0.02,
          0.02,
          0.02,
          0.02,
          0.02,
          0.02,
          0.02,
          0.02,
          0.02,
          0.02,
          0.02,
          0.02,
          0.02,
          0.02,
          0.02,
          0.02,
          0.02,
          0.02,
          0.02,
          0.02,
          0.02,
          0,
          0,
          0,
          0,
          0,
          0,
          0,
          0,
          0,
          0,
          0,
          0,
          0,
          0,
          0,
          0,
          0,
          0,
          0,
          0,
          0,
          0,
          0,
          0,
          0
         ],
         "y": [
          "w_average",
          "url_number_consonants",
          "url_length",
          "url_extensions",
          "u_average",
          "url_number_digits/url_length",
          "a_average",
          "n_average",
          "g_average",
          "i_average",
          "e_average",
          "f_average",
          "j_average",
          "y_average",
          "k_average",
          "l_average",
          "m_average",
          "o_average",
          "p_average",
          "q_average",
          "r_average",
          "s_average",
          "t_average",
          "d_average",
          "h_average",
          "b_average",
          "url_number_special_chars/url_length",
          "url_char_-",
          "url_char_/",
          "url_number_vowels",
          "z_average",
          "url_tlds",
          "url_number_digits",
          "0_average",
          "1_average",
          "2_average",
          "x_average",
          "4_average",
          "5_average",
          "6_average",
          "7_average",
          "8_average",
          "3_average",
          "url_char_%",
          "v_average",
          "url_char_&",
          "c_average",
          "url_number_special_chars",
          "url_number_consonants/url_length",
          "url_number_vowels/url_length",
          "url_port",
          "url_char__",
          "url_char_?",
          "url_char_=",
          "url_char_:",
          "url_char_.",
          "url_char_+",
          "9_average"
         ]
        }
       ],
       "layout": {
        "autosize": false,
        "height": 1000,
        "width": 1000,
        "xaxis": {
         "tickfont": {
          "color": "black",
          "size": 12
         },
         "title": "Feature Importances"
        },
        "yaxis": {
         "automargin": true
        }
       }
      },
      "text/html": [
       "<div id=\"d649af27-51eb-48c5-9a3f-94c8deb80efc\" style=\"height: 1000px; width: 1000px;\" class=\"plotly-graph-div\"></div><script type=\"text/javascript\">require([\"plotly\"], function(Plotly) { window.PLOTLYENV=window.PLOTLYENV || {};window.PLOTLYENV.BASE_URL=\"https://plot.ly\";Plotly.newPlot(\"d649af27-51eb-48c5-9a3f-94c8deb80efc\", [{\"marker\": {\"color\": \"rgb(158,202,225)\", \"line\": {\"color\": \"rgb(8,48,107)\", \"width\": 1.5}}, \"opacity\": 0.6, \"orientation\": \"h\", \"text\": [0.08, 0.08, 0.08, 0.06, 0.04, 0.04, 0.04, 0.04, 0.04, 0.04, 0.02, 0.02, 0.02, 0.02, 0.02, 0.02, 0.02, 0.02, 0.02, 0.02, 0.02, 0.02, 0.02, 0.02, 0.02, 0.02, 0.02, 0.02, 0.02, 0.02, 0.02, 0.02, 0.02, 0.0, 0.0, 0.0, 0.0, 0.0, 0.0, 0.0, 0.0, 0.0, 0.0, 0.0, 0.0, 0.0, 0.0, 0.0, 0.0, 0.0, 0.0, 0.0, 0.0, 0.0, 0.0, 0.0, 0.0, 0.0], \"textposition\": \"outside\", \"x\": [0.08, 0.08, 0.08, 0.06, 0.04, 0.04, 0.04, 0.04, 0.04, 0.04, 0.02, 0.02, 0.02, 0.02, 0.02, 0.02, 0.02, 0.02, 0.02, 0.02, 0.02, 0.02, 0.02, 0.02, 0.02, 0.02, 0.02, 0.02, 0.02, 0.02, 0.02, 0.02, 0.02, 0.0, 0.0, 0.0, 0.0, 0.0, 0.0, 0.0, 0.0, 0.0, 0.0, 0.0, 0.0, 0.0, 0.0, 0.0, 0.0, 0.0, 0.0, 0.0, 0.0, 0.0, 0.0, 0.0, 0.0, 0.0], \"y\": [\"w_average\", \"url_number_consonants\", \"url_length\", \"url_extensions\", \"u_average\", \"url_number_digits/url_length\", \"a_average\", \"n_average\", \"g_average\", \"i_average\", \"e_average\", \"f_average\", \"j_average\", \"y_average\", \"k_average\", \"l_average\", \"m_average\", \"o_average\", \"p_average\", \"q_average\", \"r_average\", \"s_average\", \"t_average\", \"d_average\", \"h_average\", \"b_average\", \"url_number_special_chars/url_length\", \"url_char_-\", \"url_char_/\", \"url_number_vowels\", \"z_average\", \"url_tlds\", \"url_number_digits\", \"0_average\", \"1_average\", \"2_average\", \"x_average\", \"4_average\", \"5_average\", \"6_average\", \"7_average\", \"8_average\", \"3_average\", \"url_char_%\", \"v_average\", \"url_char_&\", \"c_average\", \"url_number_special_chars\", \"url_number_consonants/url_length\", \"url_number_vowels/url_length\", \"url_port\", \"url_char__\", \"url_char_?\", \"url_char_=\", \"url_char_:\", \"url_char_.\", \"url_char_+\", \"9_average\"], \"type\": \"bar\", \"uid\": \"6388512c-1e97-4533-b463-9f5a205f4b67\"}], {\"autosize\": false, \"height\": 1000, \"width\": 1000, \"xaxis\": {\"tickfont\": {\"color\": \"black\", \"size\": 12}, \"title\": \"Feature Importances\"}, \"yaxis\": {\"automargin\": true}}, {\"showLink\": true, \"linkText\": \"Export to plot.ly\", \"plotlyServerURL\": \"https://plot.ly\"})});</script>"
      ],
      "text/vnd.plotly.v1+html": [
       "<div id=\"d649af27-51eb-48c5-9a3f-94c8deb80efc\" style=\"height: 1000px; width: 1000px;\" class=\"plotly-graph-div\"></div><script type=\"text/javascript\">require([\"plotly\"], function(Plotly) { window.PLOTLYENV=window.PLOTLYENV || {};window.PLOTLYENV.BASE_URL=\"https://plot.ly\";Plotly.newPlot(\"d649af27-51eb-48c5-9a3f-94c8deb80efc\", [{\"marker\": {\"color\": \"rgb(158,202,225)\", \"line\": {\"color\": \"rgb(8,48,107)\", \"width\": 1.5}}, \"opacity\": 0.6, \"orientation\": \"h\", \"text\": [0.08, 0.08, 0.08, 0.06, 0.04, 0.04, 0.04, 0.04, 0.04, 0.04, 0.02, 0.02, 0.02, 0.02, 0.02, 0.02, 0.02, 0.02, 0.02, 0.02, 0.02, 0.02, 0.02, 0.02, 0.02, 0.02, 0.02, 0.02, 0.02, 0.02, 0.02, 0.02, 0.02, 0.0, 0.0, 0.0, 0.0, 0.0, 0.0, 0.0, 0.0, 0.0, 0.0, 0.0, 0.0, 0.0, 0.0, 0.0, 0.0, 0.0, 0.0, 0.0, 0.0, 0.0, 0.0, 0.0, 0.0, 0.0], \"textposition\": \"outside\", \"x\": [0.08, 0.08, 0.08, 0.06, 0.04, 0.04, 0.04, 0.04, 0.04, 0.04, 0.02, 0.02, 0.02, 0.02, 0.02, 0.02, 0.02, 0.02, 0.02, 0.02, 0.02, 0.02, 0.02, 0.02, 0.02, 0.02, 0.02, 0.02, 0.02, 0.02, 0.02, 0.02, 0.02, 0.0, 0.0, 0.0, 0.0, 0.0, 0.0, 0.0, 0.0, 0.0, 0.0, 0.0, 0.0, 0.0, 0.0, 0.0, 0.0, 0.0, 0.0, 0.0, 0.0, 0.0, 0.0, 0.0, 0.0, 0.0], \"y\": [\"w_average\", \"url_number_consonants\", \"url_length\", \"url_extensions\", \"u_average\", \"url_number_digits/url_length\", \"a_average\", \"n_average\", \"g_average\", \"i_average\", \"e_average\", \"f_average\", \"j_average\", \"y_average\", \"k_average\", \"l_average\", \"m_average\", \"o_average\", \"p_average\", \"q_average\", \"r_average\", \"s_average\", \"t_average\", \"d_average\", \"h_average\", \"b_average\", \"url_number_special_chars/url_length\", \"url_char_-\", \"url_char_/\", \"url_number_vowels\", \"z_average\", \"url_tlds\", \"url_number_digits\", \"0_average\", \"1_average\", \"2_average\", \"x_average\", \"4_average\", \"5_average\", \"6_average\", \"7_average\", \"8_average\", \"3_average\", \"url_char_%\", \"v_average\", \"url_char_&\", \"c_average\", \"url_number_special_chars\", \"url_number_consonants/url_length\", \"url_number_vowels/url_length\", \"url_port\", \"url_char__\", \"url_char_?\", \"url_char_=\", \"url_char_:\", \"url_char_.\", \"url_char_+\", \"9_average\"], \"type\": \"bar\", \"uid\": \"6388512c-1e97-4533-b463-9f5a205f4b67\"}], {\"autosize\": false, \"height\": 1000, \"width\": 1000, \"xaxis\": {\"tickfont\": {\"color\": \"black\", \"size\": 12}, \"title\": \"Feature Importances\"}, \"yaxis\": {\"automargin\": true}}, {\"showLink\": true, \"linkText\": \"Export to plot.ly\", \"plotlyServerURL\": \"https://plot.ly\"})});</script>"
      ]
     },
     "metadata": {},
     "output_type": "display_data"
    },
    {
     "name": "stdout",
     "output_type": "stream",
     "text": [
      "\n",
      "\n",
      "\u001b[1mGradientBoosting Classifier\u001b[0m\n",
      "Accuracy of the model for training data is: 0.958516242318\n",
      "Confusion Matrix for training data is:\n"
     ]
    },
    {
     "data": {
      "text/plain": [
       "Predicted  False   True  __all__\n",
       "Actual                          \n",
       "False      30958    934    31892\n",
       "True        1712  30180    31892\n",
       "__all__    32670  31114    63784"
      ]
     },
     "metadata": {},
     "output_type": "display_data"
    },
    {
     "name": "stdout",
     "output_type": "stream",
     "text": [
      "Accuracy of the model for test data is: 0.950395552705\n",
      "Confusion Matrix for test data is:\n"
     ]
    },
    {
     "data": {
      "text/plain": [
       "Predicted  False  True  __all__\n",
       "Actual                         \n",
       "False       7723   262     7985\n",
       "True         202  1167     1369\n",
       "__all__     7925  1429     9354"
      ]
     },
     "metadata": {},
     "output_type": "display_data"
    },
    {
     "data": {
      "application/vnd.plotly.v1+json": {
       "config": {
        "linkText": "Export to plot.ly",
        "plotlyServerURL": "https://plot.ly",
        "showLink": true
       },
       "data": [
        {
         "marker": {
          "color": "rgb(158,202,225)",
          "line": {
           "color": "rgb(8,48,107)",
           "width": 1.5
          }
         },
         "opacity": 0.6,
         "orientation": "h",
         "text": [
          0.4394,
          0.2176,
          0.0451,
          0.0435,
          0.041,
          0.037,
          0.0244,
          0.0242,
          0.0197,
          0.0197,
          0.0137,
          0.01,
          0.0077,
          0.0074,
          0.0054,
          0.0053,
          0.0051,
          0.0048,
          0.004,
          0.0033,
          0.0024,
          0.0022,
          0.0022,
          0.0021,
          0.0018,
          0.0018,
          0.0016,
          0.0014,
          0.0013,
          0.0011,
          0.001,
          0.0007,
          0.0006,
          0.0005,
          0.0003,
          0.0003,
          0.0003,
          0.0001,
          0.0001,
          0,
          0,
          0,
          0,
          0,
          0,
          0,
          0,
          0,
          0,
          0,
          0,
          0,
          0,
          0,
          0,
          0,
          0,
          0
         ],
         "textposition": "outside",
         "type": "bar",
         "uid": "bb404cd2-0fad-4d93-9ef6-61d8fe3bdcec",
         "x": [
          0.4394134823605655,
          0.21758831589528,
          0.04511524608543784,
          0.04347602855634637,
          0.04095802223095917,
          0.036960993572219054,
          0.024385135667190815,
          0.024228435729228854,
          0.01972481835776799,
          0.01972211702626319,
          0.013657074244579933,
          0.009995044426756602,
          0.007669320152203776,
          0.007434374114716601,
          0.005425071530544615,
          0.005308756147927052,
          0.0050692452225515215,
          0.004840439118299946,
          0.003965222814369783,
          0.003309818724139687,
          0.002351853920986612,
          0.002249037770971075,
          0.0021943376357737685,
          0.002058239280692573,
          0.0018076342280074962,
          0.0017846778172600772,
          0.0016132816845822629,
          0.00144761244350509,
          0.0013222564704196084,
          0.0011198290500635593,
          0.0009576622169760867,
          0.0006552443294422084,
          0.000567599588436822,
          0.000462951735560916,
          0.00033221324280841176,
          0.0003141705608174114,
          0.000261191728198268,
          0.00014591070162511702,
          0.00010733361652424046,
          0,
          0,
          0,
          0,
          0,
          0,
          0,
          0,
          0,
          0,
          0,
          0,
          0,
          0,
          0,
          0,
          0,
          0,
          0
         ],
         "y": [
          "url_length",
          "url_extensions",
          "url_number_special_chars",
          "z_average",
          "url_char_/",
          "url_char_.",
          "b_average",
          "w_average",
          "url_number_digits/url_length",
          "i_average",
          "url_number_special_chars/url_length",
          "d_average",
          "url_number_vowels",
          "s_average",
          "o_average",
          "url_tlds",
          "m_average",
          "url_number_consonants",
          "l_average",
          "f_average",
          "h_average",
          "n_average",
          "r_average",
          "p_average",
          "u_average",
          "url_number_digits",
          "y_average",
          "t_average",
          "a_average",
          "url_number_vowels/url_length",
          "9_average",
          "c_average",
          "url_char_-",
          "g_average",
          "e_average",
          "q_average",
          "k_average",
          "x_average",
          "j_average",
          "3_average",
          "2_average",
          "6_average",
          "4_average",
          "5_average",
          "0_average",
          "7_average",
          "8_average",
          "1_average",
          "url_char_:",
          "url_char_+",
          "v_average",
          "url_char_=",
          "url_char_?",
          "url_char__",
          "url_port",
          "url_number_consonants/url_length",
          "url_char_&",
          "url_char_%"
         ]
        }
       ],
       "layout": {
        "autosize": false,
        "height": 1000,
        "width": 1000,
        "xaxis": {
         "tickfont": {
          "color": "black",
          "size": 12
         },
         "title": "Feature Importances"
        },
        "yaxis": {
         "automargin": true
        }
       }
      },
      "text/html": [
       "<div id=\"d0e071d7-6da6-4a40-b397-17b9baab8afa\" style=\"height: 1000px; width: 1000px;\" class=\"plotly-graph-div\"></div><script type=\"text/javascript\">require([\"plotly\"], function(Plotly) { window.PLOTLYENV=window.PLOTLYENV || {};window.PLOTLYENV.BASE_URL=\"https://plot.ly\";Plotly.newPlot(\"d0e071d7-6da6-4a40-b397-17b9baab8afa\", [{\"marker\": {\"color\": \"rgb(158,202,225)\", \"line\": {\"color\": \"rgb(8,48,107)\", \"width\": 1.5}}, \"opacity\": 0.6, \"orientation\": \"h\", \"text\": [0.4394, 0.2176, 0.0451, 0.0435, 0.041, 0.037, 0.0244, 0.0242, 0.0197, 0.0197, 0.0137, 0.01, 0.0077, 0.0074, 0.0054, 0.0053, 0.0051, 0.0048, 0.004, 0.0033, 0.0024, 0.0022, 0.0022, 0.0021, 0.0018, 0.0018, 0.0016, 0.0014, 0.0013, 0.0011, 0.001, 0.0007, 0.0006, 0.0005, 0.0003, 0.0003, 0.0003, 0.0001, 0.0001, 0.0, 0.0, 0.0, 0.0, 0.0, 0.0, 0.0, 0.0, 0.0, 0.0, 0.0, 0.0, 0.0, 0.0, 0.0, 0.0, 0.0, 0.0, 0.0], \"textposition\": \"outside\", \"x\": [0.4394134823605655, 0.21758831589528, 0.04511524608543784, 0.04347602855634637, 0.04095802223095917, 0.036960993572219054, 0.024385135667190815, 0.024228435729228854, 0.01972481835776799, 0.01972211702626319, 0.013657074244579933, 0.009995044426756602, 0.007669320152203776, 0.007434374114716601, 0.005425071530544615, 0.005308756147927052, 0.0050692452225515215, 0.004840439118299946, 0.003965222814369783, 0.003309818724139687, 0.002351853920986612, 0.002249037770971075, 0.0021943376357737685, 0.002058239280692573, 0.0018076342280074962, 0.0017846778172600772, 0.0016132816845822629, 0.00144761244350509, 0.0013222564704196084, 0.0011198290500635593, 0.0009576622169760867, 0.0006552443294422084, 0.000567599588436822, 0.000462951735560916, 0.00033221324280841176, 0.0003141705608174114, 0.000261191728198268, 0.00014591070162511702, 0.00010733361652424046, 0.0, 0.0, 0.0, 0.0, 0.0, 0.0, 0.0, 0.0, 0.0, 0.0, 0.0, 0.0, 0.0, 0.0, 0.0, 0.0, 0.0, 0.0, 0.0], \"y\": [\"url_length\", \"url_extensions\", \"url_number_special_chars\", \"z_average\", \"url_char_/\", \"url_char_.\", \"b_average\", \"w_average\", \"url_number_digits/url_length\", \"i_average\", \"url_number_special_chars/url_length\", \"d_average\", \"url_number_vowels\", \"s_average\", \"o_average\", \"url_tlds\", \"m_average\", \"url_number_consonants\", \"l_average\", \"f_average\", \"h_average\", \"n_average\", \"r_average\", \"p_average\", \"u_average\", \"url_number_digits\", \"y_average\", \"t_average\", \"a_average\", \"url_number_vowels/url_length\", \"9_average\", \"c_average\", \"url_char_-\", \"g_average\", \"e_average\", \"q_average\", \"k_average\", \"x_average\", \"j_average\", \"3_average\", \"2_average\", \"6_average\", \"4_average\", \"5_average\", \"0_average\", \"7_average\", \"8_average\", \"1_average\", \"url_char_:\", \"url_char_+\", \"v_average\", \"url_char_=\", \"url_char_?\", \"url_char__\", \"url_port\", \"url_number_consonants/url_length\", \"url_char_&\", \"url_char_%\"], \"type\": \"bar\", \"uid\": \"bb404cd2-0fad-4d93-9ef6-61d8fe3bdcec\"}], {\"autosize\": false, \"height\": 1000, \"width\": 1000, \"xaxis\": {\"tickfont\": {\"color\": \"black\", \"size\": 12}, \"title\": \"Feature Importances\"}, \"yaxis\": {\"automargin\": true}}, {\"showLink\": true, \"linkText\": \"Export to plot.ly\", \"plotlyServerURL\": \"https://plot.ly\"})});</script>"
      ],
      "text/vnd.plotly.v1+html": [
       "<div id=\"d0e071d7-6da6-4a40-b397-17b9baab8afa\" style=\"height: 1000px; width: 1000px;\" class=\"plotly-graph-div\"></div><script type=\"text/javascript\">require([\"plotly\"], function(Plotly) { window.PLOTLYENV=window.PLOTLYENV || {};window.PLOTLYENV.BASE_URL=\"https://plot.ly\";Plotly.newPlot(\"d0e071d7-6da6-4a40-b397-17b9baab8afa\", [{\"marker\": {\"color\": \"rgb(158,202,225)\", \"line\": {\"color\": \"rgb(8,48,107)\", \"width\": 1.5}}, \"opacity\": 0.6, \"orientation\": \"h\", \"text\": [0.4394, 0.2176, 0.0451, 0.0435, 0.041, 0.037, 0.0244, 0.0242, 0.0197, 0.0197, 0.0137, 0.01, 0.0077, 0.0074, 0.0054, 0.0053, 0.0051, 0.0048, 0.004, 0.0033, 0.0024, 0.0022, 0.0022, 0.0021, 0.0018, 0.0018, 0.0016, 0.0014, 0.0013, 0.0011, 0.001, 0.0007, 0.0006, 0.0005, 0.0003, 0.0003, 0.0003, 0.0001, 0.0001, 0.0, 0.0, 0.0, 0.0, 0.0, 0.0, 0.0, 0.0, 0.0, 0.0, 0.0, 0.0, 0.0, 0.0, 0.0, 0.0, 0.0, 0.0, 0.0], \"textposition\": \"outside\", \"x\": [0.4394134823605655, 0.21758831589528, 0.04511524608543784, 0.04347602855634637, 0.04095802223095917, 0.036960993572219054, 0.024385135667190815, 0.024228435729228854, 0.01972481835776799, 0.01972211702626319, 0.013657074244579933, 0.009995044426756602, 0.007669320152203776, 0.007434374114716601, 0.005425071530544615, 0.005308756147927052, 0.0050692452225515215, 0.004840439118299946, 0.003965222814369783, 0.003309818724139687, 0.002351853920986612, 0.002249037770971075, 0.0021943376357737685, 0.002058239280692573, 0.0018076342280074962, 0.0017846778172600772, 0.0016132816845822629, 0.00144761244350509, 0.0013222564704196084, 0.0011198290500635593, 0.0009576622169760867, 0.0006552443294422084, 0.000567599588436822, 0.000462951735560916, 0.00033221324280841176, 0.0003141705608174114, 0.000261191728198268, 0.00014591070162511702, 0.00010733361652424046, 0.0, 0.0, 0.0, 0.0, 0.0, 0.0, 0.0, 0.0, 0.0, 0.0, 0.0, 0.0, 0.0, 0.0, 0.0, 0.0, 0.0, 0.0, 0.0], \"y\": [\"url_length\", \"url_extensions\", \"url_number_special_chars\", \"z_average\", \"url_char_/\", \"url_char_.\", \"b_average\", \"w_average\", \"url_number_digits/url_length\", \"i_average\", \"url_number_special_chars/url_length\", \"d_average\", \"url_number_vowels\", \"s_average\", \"o_average\", \"url_tlds\", \"m_average\", \"url_number_consonants\", \"l_average\", \"f_average\", \"h_average\", \"n_average\", \"r_average\", \"p_average\", \"u_average\", \"url_number_digits\", \"y_average\", \"t_average\", \"a_average\", \"url_number_vowels/url_length\", \"9_average\", \"c_average\", \"url_char_-\", \"g_average\", \"e_average\", \"q_average\", \"k_average\", \"x_average\", \"j_average\", \"3_average\", \"2_average\", \"6_average\", \"4_average\", \"5_average\", \"0_average\", \"7_average\", \"8_average\", \"1_average\", \"url_char_:\", \"url_char_+\", \"v_average\", \"url_char_=\", \"url_char_?\", \"url_char__\", \"url_port\", \"url_number_consonants/url_length\", \"url_char_&\", \"url_char_%\"], \"type\": \"bar\", \"uid\": \"bb404cd2-0fad-4d93-9ef6-61d8fe3bdcec\"}], {\"autosize\": false, \"height\": 1000, \"width\": 1000, \"xaxis\": {\"tickfont\": {\"color\": \"black\", \"size\": 12}, \"title\": \"Feature Importances\"}, \"yaxis\": {\"automargin\": true}}, {\"showLink\": true, \"linkText\": \"Export to plot.ly\", \"plotlyServerURL\": \"https://plot.ly\"})});</script>"
      ]
     },
     "metadata": {},
     "output_type": "display_data"
    },
    {
     "name": "stdout",
     "output_type": "stream",
     "text": [
      "\n",
      "\n",
      "\u001b[1mExtraTree Classifier\u001b[0m\n",
      "Accuracy of the model for training data is: 0.999984322087\n",
      "Confusion Matrix for training data is:\n"
     ]
    },
    {
     "data": {
      "text/plain": [
       "Predicted  False   True  __all__\n",
       "Actual                          \n",
       "False      31892      0    31892\n",
       "True           1  31891    31892\n",
       "__all__    31893  31891    63784"
      ]
     },
     "metadata": {},
     "output_type": "display_data"
    },
    {
     "name": "stdout",
     "output_type": "stream",
     "text": [
      "Accuracy of the model for test data is: 0.962475946119\n",
      "Confusion Matrix for test data is:\n"
     ]
    },
    {
     "data": {
      "text/plain": [
       "Predicted  False  True  __all__\n",
       "Actual                         \n",
       "False       7861   124     7985\n",
       "True         227  1142     1369\n",
       "__all__     8088  1266     9354"
      ]
     },
     "metadata": {},
     "output_type": "display_data"
    },
    {
     "data": {
      "application/vnd.plotly.v1+json": {
       "config": {
        "linkText": "Export to plot.ly",
        "plotlyServerURL": "https://plot.ly",
        "showLink": true
       },
       "data": [
        {
         "marker": {
          "color": "rgb(158,202,225)",
          "line": {
           "color": "rgb(8,48,107)",
           "width": 1.5
          }
         },
         "opacity": 0.6,
         "orientation": "h",
         "text": [
          0.1154,
          0.0921,
          0.0589,
          0.0457,
          0.0404,
          0.0389,
          0.0342,
          0.034,
          0.0317,
          0.0263,
          0.026,
          0.0238,
          0.0237,
          0.0225,
          0.0213,
          0.0213,
          0.0206,
          0.0193,
          0.0186,
          0.0182,
          0.0177,
          0.0172,
          0.0157,
          0.0155,
          0.0152,
          0.0146,
          0.0126,
          0.012,
          0.0117,
          0.0113,
          0.011,
          0.011,
          0.0107,
          0.0104,
          0.0102,
          0.0089,
          0.0088,
          0.0074,
          0.0066,
          0.0052,
          0.0048,
          0.0045,
          0.0041,
          0.0036,
          0.0036,
          0.0034,
          0.0029,
          0.0028,
          0.0014,
          0.0014,
          0.0004,
          0.0003,
          0.0001,
          0,
          0,
          0,
          0,
          0
         ],
         "textposition": "outside",
         "type": "bar",
         "uid": "2b9c908d-1fff-429a-b2f7-d0044f75a23e",
         "x": [
          0.11541059595393896,
          0.09212174036872903,
          0.05890175217052244,
          0.04570526565224094,
          0.04043028292898425,
          0.038936495336305194,
          0.03418729402107653,
          0.0340305637020197,
          0.03165337154708751,
          0.02628785066466225,
          0.025969514848370893,
          0.023780212449552772,
          0.023722598186365525,
          0.022455113953429615,
          0.02129439618915823,
          0.02127343422019878,
          0.02064082977342193,
          0.01933411517620316,
          0.018600264487756084,
          0.01820656580836691,
          0.017712595642191745,
          0.01719205620022939,
          0.015680081348630377,
          0.015497672996723586,
          0.01519735061965381,
          0.01455519219944813,
          0.012621007149463135,
          0.012012836561902003,
          0.011717380945462309,
          0.011314789155594798,
          0.01098795117254176,
          0.010976328895042922,
          0.010695480781203815,
          0.010441139430251673,
          0.010156468770413296,
          0.008944799881225231,
          0.008831727448602378,
          0.0073766095132840786,
          0.006621647431155215,
          0.005173703964748009,
          0.0048135314300307725,
          0.004508764559180995,
          0.00412876010711385,
          0.003647279046503353,
          0.003556449007202745,
          0.0034024411214655264,
          0.0028689829834356523,
          0.0027698086401369082,
          0.0014154499223178589,
          0.0013987189703424073,
          0.0003554145502751972,
          0.0003448403534528059,
          9.850959640190901e-05,
          1.996739420222033e-05,
          1.3378609765594852e-05,
          8.626162013898391e-06,
          0,
          0
         ],
         "y": [
          "url_extensions",
          "url_char_.",
          "url_number_consonants",
          "url_length",
          "a_average",
          "url_number_special_chars",
          "i_average",
          "url_tlds",
          "m_average",
          "url_number_special_chars/url_length",
          "o_average",
          "url_number_vowels",
          "y_average",
          "w_average",
          "b_average",
          "s_average",
          "c_average",
          "z_average",
          "url_char_/",
          "url_number_digits/url_length",
          "d_average",
          "e_average",
          "n_average",
          "url_number_vowels/url_length",
          "x_average",
          "r_average",
          "t_average",
          "u_average",
          "g_average",
          "url_number_consonants/url_length",
          "l_average",
          "url_char_-",
          "url_number_digits",
          "h_average",
          "k_average",
          "p_average",
          "f_average",
          "v_average",
          "5_average",
          "9_average",
          "j_average",
          "8_average",
          "6_average",
          "q_average",
          "2_average",
          "1_average",
          "3_average",
          "0_average",
          "4_average",
          "7_average",
          "url_port",
          "url_char_=",
          "url_char_?",
          "url_char_:",
          "url_char__",
          "url_char_+",
          "url_char_&",
          "url_char_%"
         ]
        }
       ],
       "layout": {
        "autosize": false,
        "height": 1000,
        "width": 1000,
        "xaxis": {
         "tickfont": {
          "color": "black",
          "size": 12
         },
         "title": "Feature Importances"
        },
        "yaxis": {
         "automargin": true
        }
       }
      },
      "text/html": [
       "<div id=\"e4b9a094-9571-4f80-ab2a-7c3f63f0b865\" style=\"height: 1000px; width: 1000px;\" class=\"plotly-graph-div\"></div><script type=\"text/javascript\">require([\"plotly\"], function(Plotly) { window.PLOTLYENV=window.PLOTLYENV || {};window.PLOTLYENV.BASE_URL=\"https://plot.ly\";Plotly.newPlot(\"e4b9a094-9571-4f80-ab2a-7c3f63f0b865\", [{\"marker\": {\"color\": \"rgb(158,202,225)\", \"line\": {\"color\": \"rgb(8,48,107)\", \"width\": 1.5}}, \"opacity\": 0.6, \"orientation\": \"h\", \"text\": [0.1154, 0.0921, 0.0589, 0.0457, 0.0404, 0.0389, 0.0342, 0.034, 0.0317, 0.0263, 0.026, 0.0238, 0.0237, 0.0225, 0.0213, 0.0213, 0.0206, 0.0193, 0.0186, 0.0182, 0.0177, 0.0172, 0.0157, 0.0155, 0.0152, 0.0146, 0.0126, 0.012, 0.0117, 0.0113, 0.011, 0.011, 0.0107, 0.0104, 0.0102, 0.0089, 0.0088, 0.0074, 0.0066, 0.0052, 0.0048, 0.0045, 0.0041, 0.0036, 0.0036, 0.0034, 0.0029, 0.0028, 0.0014, 0.0014, 0.0004, 0.0003, 0.0001, 0.0, 0.0, 0.0, 0.0, 0.0], \"textposition\": \"outside\", \"x\": [0.11541059595393896, 0.09212174036872903, 0.05890175217052244, 0.04570526565224094, 0.04043028292898425, 0.038936495336305194, 0.03418729402107653, 0.0340305637020197, 0.03165337154708751, 0.02628785066466225, 0.025969514848370893, 0.023780212449552772, 0.023722598186365525, 0.022455113953429615, 0.02129439618915823, 0.02127343422019878, 0.02064082977342193, 0.01933411517620316, 0.018600264487756084, 0.01820656580836691, 0.017712595642191745, 0.01719205620022939, 0.015680081348630377, 0.015497672996723586, 0.01519735061965381, 0.01455519219944813, 0.012621007149463135, 0.012012836561902003, 0.011717380945462309, 0.011314789155594798, 0.01098795117254176, 0.010976328895042922, 0.010695480781203815, 0.010441139430251673, 0.010156468770413296, 0.008944799881225231, 0.008831727448602378, 0.0073766095132840786, 0.006621647431155215, 0.005173703964748009, 0.0048135314300307725, 0.004508764559180995, 0.00412876010711385, 0.003647279046503353, 0.003556449007202745, 0.0034024411214655264, 0.0028689829834356523, 0.0027698086401369082, 0.0014154499223178589, 0.0013987189703424073, 0.0003554145502751972, 0.0003448403534528059, 9.850959640190901e-05, 1.996739420222033e-05, 1.3378609765594852e-05, 8.626162013898391e-06, 0.0, 0.0], \"y\": [\"url_extensions\", \"url_char_.\", \"url_number_consonants\", \"url_length\", \"a_average\", \"url_number_special_chars\", \"i_average\", \"url_tlds\", \"m_average\", \"url_number_special_chars/url_length\", \"o_average\", \"url_number_vowels\", \"y_average\", \"w_average\", \"b_average\", \"s_average\", \"c_average\", \"z_average\", \"url_char_/\", \"url_number_digits/url_length\", \"d_average\", \"e_average\", \"n_average\", \"url_number_vowels/url_length\", \"x_average\", \"r_average\", \"t_average\", \"u_average\", \"g_average\", \"url_number_consonants/url_length\", \"l_average\", \"url_char_-\", \"url_number_digits\", \"h_average\", \"k_average\", \"p_average\", \"f_average\", \"v_average\", \"5_average\", \"9_average\", \"j_average\", \"8_average\", \"6_average\", \"q_average\", \"2_average\", \"1_average\", \"3_average\", \"0_average\", \"4_average\", \"7_average\", \"url_port\", \"url_char_=\", \"url_char_?\", \"url_char_:\", \"url_char__\", \"url_char_+\", \"url_char_&\", \"url_char_%\"], \"type\": \"bar\", \"uid\": \"2b9c908d-1fff-429a-b2f7-d0044f75a23e\"}], {\"autosize\": false, \"height\": 1000, \"width\": 1000, \"xaxis\": {\"tickfont\": {\"color\": \"black\", \"size\": 12}, \"title\": \"Feature Importances\"}, \"yaxis\": {\"automargin\": true}}, {\"showLink\": true, \"linkText\": \"Export to plot.ly\", \"plotlyServerURL\": \"https://plot.ly\"})});</script>"
      ],
      "text/vnd.plotly.v1+html": [
       "<div id=\"e4b9a094-9571-4f80-ab2a-7c3f63f0b865\" style=\"height: 1000px; width: 1000px;\" class=\"plotly-graph-div\"></div><script type=\"text/javascript\">require([\"plotly\"], function(Plotly) { window.PLOTLYENV=window.PLOTLYENV || {};window.PLOTLYENV.BASE_URL=\"https://plot.ly\";Plotly.newPlot(\"e4b9a094-9571-4f80-ab2a-7c3f63f0b865\", [{\"marker\": {\"color\": \"rgb(158,202,225)\", \"line\": {\"color\": \"rgb(8,48,107)\", \"width\": 1.5}}, \"opacity\": 0.6, \"orientation\": \"h\", \"text\": [0.1154, 0.0921, 0.0589, 0.0457, 0.0404, 0.0389, 0.0342, 0.034, 0.0317, 0.0263, 0.026, 0.0238, 0.0237, 0.0225, 0.0213, 0.0213, 0.0206, 0.0193, 0.0186, 0.0182, 0.0177, 0.0172, 0.0157, 0.0155, 0.0152, 0.0146, 0.0126, 0.012, 0.0117, 0.0113, 0.011, 0.011, 0.0107, 0.0104, 0.0102, 0.0089, 0.0088, 0.0074, 0.0066, 0.0052, 0.0048, 0.0045, 0.0041, 0.0036, 0.0036, 0.0034, 0.0029, 0.0028, 0.0014, 0.0014, 0.0004, 0.0003, 0.0001, 0.0, 0.0, 0.0, 0.0, 0.0], \"textposition\": \"outside\", \"x\": [0.11541059595393896, 0.09212174036872903, 0.05890175217052244, 0.04570526565224094, 0.04043028292898425, 0.038936495336305194, 0.03418729402107653, 0.0340305637020197, 0.03165337154708751, 0.02628785066466225, 0.025969514848370893, 0.023780212449552772, 0.023722598186365525, 0.022455113953429615, 0.02129439618915823, 0.02127343422019878, 0.02064082977342193, 0.01933411517620316, 0.018600264487756084, 0.01820656580836691, 0.017712595642191745, 0.01719205620022939, 0.015680081348630377, 0.015497672996723586, 0.01519735061965381, 0.01455519219944813, 0.012621007149463135, 0.012012836561902003, 0.011717380945462309, 0.011314789155594798, 0.01098795117254176, 0.010976328895042922, 0.010695480781203815, 0.010441139430251673, 0.010156468770413296, 0.008944799881225231, 0.008831727448602378, 0.0073766095132840786, 0.006621647431155215, 0.005173703964748009, 0.0048135314300307725, 0.004508764559180995, 0.00412876010711385, 0.003647279046503353, 0.003556449007202745, 0.0034024411214655264, 0.0028689829834356523, 0.0027698086401369082, 0.0014154499223178589, 0.0013987189703424073, 0.0003554145502751972, 0.0003448403534528059, 9.850959640190901e-05, 1.996739420222033e-05, 1.3378609765594852e-05, 8.626162013898391e-06, 0.0, 0.0], \"y\": [\"url_extensions\", \"url_char_.\", \"url_number_consonants\", \"url_length\", \"a_average\", \"url_number_special_chars\", \"i_average\", \"url_tlds\", \"m_average\", \"url_number_special_chars/url_length\", \"o_average\", \"url_number_vowels\", \"y_average\", \"w_average\", \"b_average\", \"s_average\", \"c_average\", \"z_average\", \"url_char_/\", \"url_number_digits/url_length\", \"d_average\", \"e_average\", \"n_average\", \"url_number_vowels/url_length\", \"x_average\", \"r_average\", \"t_average\", \"u_average\", \"g_average\", \"url_number_consonants/url_length\", \"l_average\", \"url_char_-\", \"url_number_digits\", \"h_average\", \"k_average\", \"p_average\", \"f_average\", \"v_average\", \"5_average\", \"9_average\", \"j_average\", \"8_average\", \"6_average\", \"q_average\", \"2_average\", \"1_average\", \"3_average\", \"0_average\", \"4_average\", \"7_average\", \"url_port\", \"url_char_=\", \"url_char_?\", \"url_char_:\", \"url_char__\", \"url_char_+\", \"url_char_&\", \"url_char_%\"], \"type\": \"bar\", \"uid\": \"2b9c908d-1fff-429a-b2f7-d0044f75a23e\"}], {\"autosize\": false, \"height\": 1000, \"width\": 1000, \"xaxis\": {\"tickfont\": {\"color\": \"black\", \"size\": 12}, \"title\": \"Feature Importances\"}, \"yaxis\": {\"automargin\": true}}, {\"showLink\": true, \"linkText\": \"Export to plot.ly\", \"plotlyServerURL\": \"https://plot.ly\"})});</script>"
      ]
     },
     "metadata": {},
     "output_type": "display_data"
    },
    {
     "name": "stdout",
     "output_type": "stream",
     "text": [
      "\n",
      "\n",
      "\u001b[1mBagging Classifier\u001b[0m\n",
      "Accuracy of the model for training data is: 0.997413144362\n",
      "Confusion Matrix for training data is:\n"
     ]
    },
    {
     "data": {
      "text/plain": [
       "Predicted  False   True  __all__\n",
       "Actual                          \n",
       "False      31873     19    31892\n",
       "True         146  31746    31892\n",
       "__all__    32019  31765    63784"
      ]
     },
     "metadata": {},
     "output_type": "display_data"
    },
    {
     "name": "stdout",
     "output_type": "stream",
     "text": [
      "Accuracy of the model for test data is: 0.961727603164\n",
      "Confusion Matrix for test data is:\n"
     ]
    },
    {
     "data": {
      "text/plain": [
       "Predicted  False  True  __all__\n",
       "Actual                         \n",
       "False       7839   146     7985\n",
       "True         212  1157     1369\n",
       "__all__     8051  1303     9354"
      ]
     },
     "metadata": {},
     "output_type": "display_data"
    },
    {
     "name": "stdout",
     "output_type": "stream",
     "text": [
      "\n",
      "\n",
      "\u001b[1mNeural Network-1\u001b[0m\n",
      "The accuracy of the model on training data is: 0.997632635144\n"
     ]
    },
    {
     "data": {
      "text/plain": [
       "Predicted  False   True  __all__\n",
       "Actual                          \n",
       "False      31800     92    31892\n",
       "True          59  31833    31892\n",
       "__all__    31859  31925    63784"
      ]
     },
     "metadata": {},
     "output_type": "display_data"
    },
    {
     "name": "stdout",
     "output_type": "stream",
     "text": [
      "The accuracy of the model on test data is: 0.945584776566\n"
     ]
    },
    {
     "data": {
      "text/plain": [
       "Predicted  False  True  __all__\n",
       "Actual                         \n",
       "False       7671   314     7985\n",
       "True         195  1174     1369\n",
       "__all__     7866  1488     9354"
      ]
     },
     "metadata": {},
     "output_type": "display_data"
    },
    {
     "name": "stdout",
     "output_type": "stream",
     "text": [
      "\n",
      "\n"
     ]
    }
   ],
   "source": [
    "feat_imp=[None]*4\n",
    "j=0\n",
    "for i in range(0,8):\n",
    "    if i>=2 and i<=5:\n",
    "        model,cm_train,cm_test,acc_train,acc_test,roc_auc,feat_imp[j],mcc=f[i](X_train,Y_train,scaled_X_test,test_Y,columns)\n",
    "        j=j+1\n",
    "    else:\n",
    "        model,cm_train,cm_test,acc_train,acc_test,roc_auc,mcc=f[i](X_train,Y_train,scaled_X_test,test_Y)\n",
    "    table_80_80_train.loc[i]=   ([acc_train,cm_train.TP,cm_train.TN,cm_train.FP,cm_train.FN,cm_train.FPR,cm_train.FNR])\n",
    "    table_80_80_test.loc[i] =   ([acc_test ,cm_test.TP, cm_test.TN, cm_test.FP, cm_test.FN, cm_test.FPR, cm_test.FNR,roc_auc,mcc])\n",
    "    print(\"\\n\")"
   ]
  },
  {
   "cell_type": "markdown",
   "metadata": {},
   "source": [
    "### <a id='2.A' style=\"text-decoration : none; color : #000000;\"> A Results</a>"
   ]
  },
  {
   "cell_type": "code",
   "execution_count": 29,
   "metadata": {},
   "outputs": [
    {
     "data": {
      "application/vnd.plotly.v1+json": {
       "config": {
        "linkText": "Export to plot.ly",
        "plotlyServerURL": "https://plot.ly",
        "showLink": true
       },
       "data": [
        {
         "mode": "lines",
         "name": "KNN_model",
         "type": "scatter",
         "uid": "670625ed-68a1-4506-8a65-492b65c6de69",
         "x": [
          "accuracy",
          "FPR",
          "FNR",
          "auc"
         ],
         "y": [
          0.9066709429121231,
          0.08891671884783969,
          0.11906501095690285,
          0.8960091350976287
         ]
        },
        {
         "mode": "lines+markers",
         "name": "Logistic Regression",
         "type": "scatter",
         "uid": "f017e610-d2c6-4770-9e8a-29bc9dd814cf",
         "x": [
          "accuracy",
          "FPR",
          "FNR",
          "auc"
         ],
         "y": [
          0.9297626683771648,
          0.06286787726988102,
          0.11322132943754565,
          0.9119553966462867
         ]
        },
        {
         "marker": {
          "symbol": "x"
         },
         "mode": "lines+markers",
         "name": "Random Forest",
         "type": "scatter",
         "uid": "a5a13df5-cbbb-4d18-b65d-a62a99ce6dc7",
         "x": [
          "accuracy",
          "FPR",
          "FNR",
          "auc"
         ],
         "y": [
          0.9625828522557195,
          0.01678146524733876,
          0.15777940102264426,
          0.9127195668650083
         ]
        },
        {
         "mode": "lines",
         "name": "Ada Boost",
         "type": "scatter",
         "uid": "bdbc4599-84ab-404b-8011-e64ee25d03f8",
         "x": [
          "accuracy",
          "FPR",
          "FNR",
          "auc"
         ],
         "y": [
          0.9405601881548001,
          0.04283030682529743,
          0.15631848064280496,
          0.9004256062659488
         ]
        },
        {
         "mode": "lines+markers",
         "name": "GradientBoosting",
         "type": "scatter",
         "uid": "72ea9d3e-fd69-44bd-acbe-42a864448a32",
         "x": [
          "accuracy",
          "FPR",
          "FNR",
          "auc"
         ],
         "y": [
          0.9503955527047252,
          0.032811521603005635,
          0.14755295836376917,
          0.9098177600166126
         ]
        },
        {
         "marker": {
          "symbol": "x"
         },
         "mode": "lines+markers",
         "name": "ExtraTree Classifier",
         "type": "scatter",
         "uid": "8ce711a7-f7e8-484f-af75-4bc72d8264c8",
         "x": [
          "accuracy",
          "FPR",
          "FNR",
          "auc"
         ],
         "y": [
          0.9624759461193072,
          0.015529117094552285,
          0.1658144631117604,
          0.9093282098968437
         ]
        },
        {
         "marker": {
          "symbol": "x"
         },
         "mode": "lines+markers",
         "name": "Bagging",
         "type": "scatter",
         "uid": "72a56f51-d0ab-4517-8672-75c0734d984d",
         "x": [
          "accuracy",
          "FPR",
          "FNR",
          "auc"
         ],
         "y": [
          0.9617276031644216,
          0.01828428303068253,
          0.15485756026296568,
          0.913429078353176
         ]
        },
        {
         "marker": {
          "symbol": "x"
         },
         "mode": "lines+markers",
         "name": "Neural Network",
         "type": "scatter",
         "uid": "c2d3449b-c8f0-4d9b-9973-9d33fbaebddd",
         "x": [
          "accuracy",
          "FPR",
          "FNR",
          "auc"
         ],
         "y": [
          0.9455847765661749,
          0.0393237319974953,
          0.14243973703433163,
          0.913429078353176
         ]
        }
       ],
       "layout": {
        "title": "Result comparision for Features selected in Section 1",
        "yaxis": {
         "dtick": 0.05,
         "tick0": 0
        }
       }
      },
      "text/html": [
       "<div id=\"4e49ca0d-cbfd-4327-9652-53ab519530fd\" style=\"height: 525px; width: 100%;\" class=\"plotly-graph-div\"></div><script type=\"text/javascript\">require([\"plotly\"], function(Plotly) { window.PLOTLYENV=window.PLOTLYENV || {};window.PLOTLYENV.BASE_URL=\"https://plot.ly\";Plotly.newPlot(\"4e49ca0d-cbfd-4327-9652-53ab519530fd\", [{\"mode\": \"lines\", \"name\": \"KNN_model\", \"x\": [\"accuracy\", \"FPR\", \"FNR\", \"auc\"], \"y\": [0.9066709429121231, 0.08891671884783969, 0.11906501095690285, 0.8960091350976287], \"type\": \"scatter\", \"uid\": \"670625ed-68a1-4506-8a65-492b65c6de69\"}, {\"mode\": \"lines+markers\", \"name\": \"Logistic Regression\", \"x\": [\"accuracy\", \"FPR\", \"FNR\", \"auc\"], \"y\": [0.9297626683771648, 0.06286787726988102, 0.11322132943754565, 0.9119553966462867], \"type\": \"scatter\", \"uid\": \"f017e610-d2c6-4770-9e8a-29bc9dd814cf\"}, {\"marker\": {\"symbol\": \"x\"}, \"mode\": \"lines+markers\", \"name\": \"Random Forest\", \"x\": [\"accuracy\", \"FPR\", \"FNR\", \"auc\"], \"y\": [0.9625828522557195, 0.01678146524733876, 0.15777940102264426, 0.9127195668650083], \"type\": \"scatter\", \"uid\": \"a5a13df5-cbbb-4d18-b65d-a62a99ce6dc7\"}, {\"mode\": \"lines\", \"name\": \"Ada Boost\", \"x\": [\"accuracy\", \"FPR\", \"FNR\", \"auc\"], \"y\": [0.9405601881548001, 0.04283030682529743, 0.15631848064280496, 0.9004256062659488], \"type\": \"scatter\", \"uid\": \"bdbc4599-84ab-404b-8011-e64ee25d03f8\"}, {\"mode\": \"lines+markers\", \"name\": \"GradientBoosting\", \"x\": [\"accuracy\", \"FPR\", \"FNR\", \"auc\"], \"y\": [0.9503955527047252, 0.032811521603005635, 0.14755295836376917, 0.9098177600166126], \"type\": \"scatter\", \"uid\": \"72ea9d3e-fd69-44bd-acbe-42a864448a32\"}, {\"marker\": {\"symbol\": \"x\"}, \"mode\": \"lines+markers\", \"name\": \"ExtraTree Classifier\", \"x\": [\"accuracy\", \"FPR\", \"FNR\", \"auc\"], \"y\": [0.9624759461193072, 0.015529117094552285, 0.1658144631117604, 0.9093282098968437], \"type\": \"scatter\", \"uid\": \"8ce711a7-f7e8-484f-af75-4bc72d8264c8\"}, {\"marker\": {\"symbol\": \"x\"}, \"mode\": \"lines+markers\", \"name\": \"Bagging\", \"x\": [\"accuracy\", \"FPR\", \"FNR\", \"auc\"], \"y\": [0.9617276031644216, 0.01828428303068253, 0.15485756026296568, 0.913429078353176], \"type\": \"scatter\", \"uid\": \"72a56f51-d0ab-4517-8672-75c0734d984d\"}, {\"marker\": {\"symbol\": \"x\"}, \"mode\": \"lines+markers\", \"name\": \"Neural Network\", \"x\": [\"accuracy\", \"FPR\", \"FNR\", \"auc\"], \"y\": [0.9455847765661749, 0.0393237319974953, 0.14243973703433163, 0.913429078353176], \"type\": \"scatter\", \"uid\": \"c2d3449b-c8f0-4d9b-9973-9d33fbaebddd\"}], {\"title\": \"Result comparision for Features selected in Section 1\", \"yaxis\": {\"dtick\": 0.05, \"tick0\": 0}}, {\"showLink\": true, \"linkText\": \"Export to plot.ly\", \"plotlyServerURL\": \"https://plot.ly\"})});</script><script type=\"text/javascript\">window.addEventListener(\"resize\", function(){window._Plotly.Plots.resize(document.getElementById(\"4e49ca0d-cbfd-4327-9652-53ab519530fd\"));});</script>"
      ],
      "text/vnd.plotly.v1+html": [
       "<div id=\"4e49ca0d-cbfd-4327-9652-53ab519530fd\" style=\"height: 525px; width: 100%;\" class=\"plotly-graph-div\"></div><script type=\"text/javascript\">require([\"plotly\"], function(Plotly) { window.PLOTLYENV=window.PLOTLYENV || {};window.PLOTLYENV.BASE_URL=\"https://plot.ly\";Plotly.newPlot(\"4e49ca0d-cbfd-4327-9652-53ab519530fd\", [{\"mode\": \"lines\", \"name\": \"KNN_model\", \"x\": [\"accuracy\", \"FPR\", \"FNR\", \"auc\"], \"y\": [0.9066709429121231, 0.08891671884783969, 0.11906501095690285, 0.8960091350976287], \"type\": \"scatter\", \"uid\": \"670625ed-68a1-4506-8a65-492b65c6de69\"}, {\"mode\": \"lines+markers\", \"name\": \"Logistic Regression\", \"x\": [\"accuracy\", \"FPR\", \"FNR\", \"auc\"], \"y\": [0.9297626683771648, 0.06286787726988102, 0.11322132943754565, 0.9119553966462867], \"type\": \"scatter\", \"uid\": \"f017e610-d2c6-4770-9e8a-29bc9dd814cf\"}, {\"marker\": {\"symbol\": \"x\"}, \"mode\": \"lines+markers\", \"name\": \"Random Forest\", \"x\": [\"accuracy\", \"FPR\", \"FNR\", \"auc\"], \"y\": [0.9625828522557195, 0.01678146524733876, 0.15777940102264426, 0.9127195668650083], \"type\": \"scatter\", \"uid\": \"a5a13df5-cbbb-4d18-b65d-a62a99ce6dc7\"}, {\"mode\": \"lines\", \"name\": \"Ada Boost\", \"x\": [\"accuracy\", \"FPR\", \"FNR\", \"auc\"], \"y\": [0.9405601881548001, 0.04283030682529743, 0.15631848064280496, 0.9004256062659488], \"type\": \"scatter\", \"uid\": \"bdbc4599-84ab-404b-8011-e64ee25d03f8\"}, {\"mode\": \"lines+markers\", \"name\": \"GradientBoosting\", \"x\": [\"accuracy\", \"FPR\", \"FNR\", \"auc\"], \"y\": [0.9503955527047252, 0.032811521603005635, 0.14755295836376917, 0.9098177600166126], \"type\": \"scatter\", \"uid\": \"72ea9d3e-fd69-44bd-acbe-42a864448a32\"}, {\"marker\": {\"symbol\": \"x\"}, \"mode\": \"lines+markers\", \"name\": \"ExtraTree Classifier\", \"x\": [\"accuracy\", \"FPR\", \"FNR\", \"auc\"], \"y\": [0.9624759461193072, 0.015529117094552285, 0.1658144631117604, 0.9093282098968437], \"type\": \"scatter\", \"uid\": \"8ce711a7-f7e8-484f-af75-4bc72d8264c8\"}, {\"marker\": {\"symbol\": \"x\"}, \"mode\": \"lines+markers\", \"name\": \"Bagging\", \"x\": [\"accuracy\", \"FPR\", \"FNR\", \"auc\"], \"y\": [0.9617276031644216, 0.01828428303068253, 0.15485756026296568, 0.913429078353176], \"type\": \"scatter\", \"uid\": \"72a56f51-d0ab-4517-8672-75c0734d984d\"}, {\"marker\": {\"symbol\": \"x\"}, \"mode\": \"lines+markers\", \"name\": \"Neural Network\", \"x\": [\"accuracy\", \"FPR\", \"FNR\", \"auc\"], \"y\": [0.9455847765661749, 0.0393237319974953, 0.14243973703433163, 0.913429078353176], \"type\": \"scatter\", \"uid\": \"c2d3449b-c8f0-4d9b-9973-9d33fbaebddd\"}], {\"title\": \"Result comparision for Features selected in Section 1\", \"yaxis\": {\"dtick\": 0.05, \"tick0\": 0}}, {\"showLink\": true, \"linkText\": \"Export to plot.ly\", \"plotlyServerURL\": \"https://plot.ly\"})});</script><script type=\"text/javascript\">window.addEventListener(\"resize\", function(){window._Plotly.Plots.resize(document.getElementById(\"4e49ca0d-cbfd-4327-9652-53ab519530fd\"));});</script>"
      ]
     },
     "metadata": {},
     "output_type": "display_data"
    }
   ],
   "source": [
    "trace0 = go.Scatter(x=table_80_80_test.iloc[0].index.values[[0,5,6,7]],\n",
    "                    y=table_80_80_test.iloc[0].values[[0,5,6,7]],\n",
    "                    mode = 'lines',\n",
    "                    name = 'KNN_model')\n",
    "\n",
    "trace1 = go.Scatter(x=table_80_80_test.iloc[1].index.values[[0,5,6,7]],\n",
    "                    y=table_80_80_test.iloc[1].values[[0,5,6,7]],\n",
    "                    mode = 'lines+markers',\n",
    "                    name = 'Logistic Regression')\n",
    "\n",
    "trace2 = go.Scatter(x=table_80_80_test.iloc[2].index.values[[0,5,6,7]],\n",
    "                    y=table_80_80_test.iloc[2].values[[0,5,6,7]],\n",
    "                    mode = 'lines+markers',marker=dict(symbol='x'),\n",
    "                    name = 'Random Forest')\n",
    "\n",
    "\n",
    "trace3 = go.Scatter(x=table_80_80_test.iloc[3].index.values[[0,5,6,7]],\n",
    "                    y=table_80_80_test.iloc[3].values[[0,5,6,7]],\n",
    "                    mode = 'lines',\n",
    "                    name = 'Ada Boost')\n",
    "\n",
    "trace4 = go.Scatter(x=table_80_80_test.iloc[4].index.values[[0,5,6,7]],\n",
    "                    y=table_80_80_test.iloc[4].values[[0,5,6,7]],\n",
    "                    mode = 'lines+markers',\n",
    "                    name = 'GradientBoosting')\n",
    "\n",
    "trace5 = go.Scatter(x=table_80_80_test.iloc[5].index.values[[0,5,6,7]],\n",
    "                    y=table_80_80_test.iloc[5].values[[0,5,6,7]],\n",
    "                    mode = 'lines+markers',marker=dict(symbol='x'),\n",
    "                    name = 'ExtraTree Classifier')\n",
    "\n",
    "trace6 = go.Scatter(x=table_80_80_test.iloc[6].index.values[[0,5,6,7]],\n",
    "                    y=table_80_80_test.iloc[6].values[[0,5,6,7]],\n",
    "                    mode = 'lines+markers',marker=dict(symbol='x'),\n",
    "                    name = 'Bagging')\n",
    "\n",
    "trace7 = go.Scatter(x=table_80_80_test.iloc[7].index.values[[0,5,6,7]],\n",
    "                    y=table_80_80_test.iloc[7].values[[0,5,6,7]],\n",
    "                    mode = 'lines+markers',marker=dict(symbol='x'),\n",
    "                    name = 'Neural Network')\n",
    "\n",
    "\n",
    "\n",
    "data = [trace0, trace1, trace2, trace3, trace4, trace5, trace6, trace7]\n",
    "layout = go.Layout(yaxis=dict(tick0=0,dtick=0.05),title='Result comparision for Features selected in Section 1')\n",
    "fig = go.Figure(data=data, layout=layout)\n",
    "\n",
    "iplot(fig, filename='Result')"
   ]
  },
  {
   "cell_type": "code",
   "execution_count": 30,
   "metadata": {},
   "outputs": [
    {
     "name": "stdout",
     "output_type": "stream",
     "text": [
      "Training Results\n"
     ]
    },
    {
     "data": {
      "text/html": [
       "<div>\n",
       "<style scoped>\n",
       "    .dataframe tbody tr th:only-of-type {\n",
       "        vertical-align: middle;\n",
       "    }\n",
       "\n",
       "    .dataframe tbody tr th {\n",
       "        vertical-align: top;\n",
       "    }\n",
       "\n",
       "    .dataframe thead th {\n",
       "        text-align: right;\n",
       "    }\n",
       "</style>\n",
       "<table border=\"1\" class=\"dataframe\">\n",
       "  <thead>\n",
       "    <tr style=\"text-align: right;\">\n",
       "      <th></th>\n",
       "      <th>accuracy</th>\n",
       "      <th>TP</th>\n",
       "      <th>TN</th>\n",
       "      <th>FP</th>\n",
       "      <th>FN</th>\n",
       "      <th>FPR</th>\n",
       "      <th>FNR</th>\n",
       "    </tr>\n",
       "    <tr>\n",
       "      <th>index</th>\n",
       "      <th></th>\n",
       "      <th></th>\n",
       "      <th></th>\n",
       "      <th></th>\n",
       "      <th></th>\n",
       "      <th></th>\n",
       "      <th></th>\n",
       "    </tr>\n",
       "  </thead>\n",
       "  <tbody>\n",
       "    <tr>\n",
       "      <th>KNeighborsClassifier</th>\n",
       "      <td>0.970463</td>\n",
       "      <td>31869.0</td>\n",
       "      <td>30031.0</td>\n",
       "      <td>1861.0</td>\n",
       "      <td>23.0</td>\n",
       "      <td>0.058353</td>\n",
       "      <td>0.000721</td>\n",
       "    </tr>\n",
       "    <tr>\n",
       "      <th>LogisticRegression</th>\n",
       "      <td>0.911310</td>\n",
       "      <td>28238.0</td>\n",
       "      <td>29889.0</td>\n",
       "      <td>2003.0</td>\n",
       "      <td>3654.0</td>\n",
       "      <td>0.062806</td>\n",
       "      <td>0.114574</td>\n",
       "    </tr>\n",
       "    <tr>\n",
       "      <th>RandomForestClassifier</th>\n",
       "      <td>0.998119</td>\n",
       "      <td>31785.0</td>\n",
       "      <td>31879.0</td>\n",
       "      <td>13.0</td>\n",
       "      <td>107.0</td>\n",
       "      <td>0.000408</td>\n",
       "      <td>0.003355</td>\n",
       "    </tr>\n",
       "    <tr>\n",
       "      <th>AdaBoostClassifier</th>\n",
       "      <td>0.941208</td>\n",
       "      <td>29483.0</td>\n",
       "      <td>30551.0</td>\n",
       "      <td>1341.0</td>\n",
       "      <td>2409.0</td>\n",
       "      <td>0.042048</td>\n",
       "      <td>0.075536</td>\n",
       "    </tr>\n",
       "    <tr>\n",
       "      <th>GradientBoostingClassifier</th>\n",
       "      <td>0.958516</td>\n",
       "      <td>30180.0</td>\n",
       "      <td>30958.0</td>\n",
       "      <td>934.0</td>\n",
       "      <td>1712.0</td>\n",
       "      <td>0.029286</td>\n",
       "      <td>0.053681</td>\n",
       "    </tr>\n",
       "    <tr>\n",
       "      <th>ExtraTreeClassifier</th>\n",
       "      <td>0.999984</td>\n",
       "      <td>31891.0</td>\n",
       "      <td>31892.0</td>\n",
       "      <td>0.0</td>\n",
       "      <td>1.0</td>\n",
       "      <td>0.000000</td>\n",
       "      <td>0.000031</td>\n",
       "    </tr>\n",
       "    <tr>\n",
       "      <th>BaggingClassifier</th>\n",
       "      <td>0.997413</td>\n",
       "      <td>31746.0</td>\n",
       "      <td>31873.0</td>\n",
       "      <td>19.0</td>\n",
       "      <td>146.0</td>\n",
       "      <td>0.000596</td>\n",
       "      <td>0.004578</td>\n",
       "    </tr>\n",
       "    <tr>\n",
       "      <th>Neural Network-1</th>\n",
       "      <td>0.997633</td>\n",
       "      <td>31833.0</td>\n",
       "      <td>31800.0</td>\n",
       "      <td>92.0</td>\n",
       "      <td>59.0</td>\n",
       "      <td>0.002885</td>\n",
       "      <td>0.001850</td>\n",
       "    </tr>\n",
       "  </tbody>\n",
       "</table>\n",
       "</div>"
      ],
      "text/plain": [
       "                            accuracy       TP       TN      FP      FN  \\\n",
       "index                                                                    \n",
       "KNeighborsClassifier        0.970463  31869.0  30031.0  1861.0    23.0   \n",
       "LogisticRegression          0.911310  28238.0  29889.0  2003.0  3654.0   \n",
       "RandomForestClassifier      0.998119  31785.0  31879.0    13.0   107.0   \n",
       "AdaBoostClassifier          0.941208  29483.0  30551.0  1341.0  2409.0   \n",
       "GradientBoostingClassifier  0.958516  30180.0  30958.0   934.0  1712.0   \n",
       "ExtraTreeClassifier         0.999984  31891.0  31892.0     0.0     1.0   \n",
       "BaggingClassifier           0.997413  31746.0  31873.0    19.0   146.0   \n",
       "Neural Network-1            0.997633  31833.0  31800.0    92.0    59.0   \n",
       "\n",
       "                                 FPR       FNR  \n",
       "index                                           \n",
       "KNeighborsClassifier        0.058353  0.000721  \n",
       "LogisticRegression          0.062806  0.114574  \n",
       "RandomForestClassifier      0.000408  0.003355  \n",
       "AdaBoostClassifier          0.042048  0.075536  \n",
       "GradientBoostingClassifier  0.029286  0.053681  \n",
       "ExtraTreeClassifier         0.000000  0.000031  \n",
       "BaggingClassifier           0.000596  0.004578  \n",
       "Neural Network-1            0.002885  0.001850  "
      ]
     },
     "metadata": {},
     "output_type": "display_data"
    },
    {
     "name": "stdout",
     "output_type": "stream",
     "text": [
      "Test Results\n"
     ]
    },
    {
     "data": {
      "text/html": [
       "<div>\n",
       "<style scoped>\n",
       "    .dataframe tbody tr th:only-of-type {\n",
       "        vertical-align: middle;\n",
       "    }\n",
       "\n",
       "    .dataframe tbody tr th {\n",
       "        vertical-align: top;\n",
       "    }\n",
       "\n",
       "    .dataframe thead th {\n",
       "        text-align: right;\n",
       "    }\n",
       "</style>\n",
       "<table border=\"1\" class=\"dataframe\">\n",
       "  <thead>\n",
       "    <tr style=\"text-align: right;\">\n",
       "      <th></th>\n",
       "      <th>accuracy</th>\n",
       "      <th>TP</th>\n",
       "      <th>TN</th>\n",
       "      <th>FP</th>\n",
       "      <th>FN</th>\n",
       "      <th>FPR</th>\n",
       "      <th>FNR</th>\n",
       "      <th>auc</th>\n",
       "      <th>mcc</th>\n",
       "    </tr>\n",
       "    <tr>\n",
       "      <th>index</th>\n",
       "      <th></th>\n",
       "      <th></th>\n",
       "      <th></th>\n",
       "      <th></th>\n",
       "      <th></th>\n",
       "      <th></th>\n",
       "      <th></th>\n",
       "      <th></th>\n",
       "      <th></th>\n",
       "    </tr>\n",
       "  </thead>\n",
       "  <tbody>\n",
       "    <tr>\n",
       "      <th>KNeighborsClassifier</th>\n",
       "      <td>0.906671</td>\n",
       "      <td>1206.0</td>\n",
       "      <td>7275.0</td>\n",
       "      <td>710.0</td>\n",
       "      <td>163.0</td>\n",
       "      <td>0.088917</td>\n",
       "      <td>0.119065</td>\n",
       "      <td>0.896009</td>\n",
       "      <td>0.693663</td>\n",
       "    </tr>\n",
       "    <tr>\n",
       "      <th>LogisticRegression</th>\n",
       "      <td>0.929763</td>\n",
       "      <td>1214.0</td>\n",
       "      <td>7483.0</td>\n",
       "      <td>502.0</td>\n",
       "      <td>155.0</td>\n",
       "      <td>0.062868</td>\n",
       "      <td>0.113221</td>\n",
       "      <td>0.911955</td>\n",
       "      <td>0.752438</td>\n",
       "    </tr>\n",
       "    <tr>\n",
       "      <th>RandomForestClassifier</th>\n",
       "      <td>0.962583</td>\n",
       "      <td>1153.0</td>\n",
       "      <td>7851.0</td>\n",
       "      <td>134.0</td>\n",
       "      <td>216.0</td>\n",
       "      <td>0.016781</td>\n",
       "      <td>0.157779</td>\n",
       "      <td>0.912720</td>\n",
       "      <td>0.846991</td>\n",
       "    </tr>\n",
       "    <tr>\n",
       "      <th>AdaBoostClassifier</th>\n",
       "      <td>0.940560</td>\n",
       "      <td>1155.0</td>\n",
       "      <td>7643.0</td>\n",
       "      <td>342.0</td>\n",
       "      <td>214.0</td>\n",
       "      <td>0.042830</td>\n",
       "      <td>0.156318</td>\n",
       "      <td>0.900426</td>\n",
       "      <td>0.772061</td>\n",
       "    </tr>\n",
       "    <tr>\n",
       "      <th>GradientBoostingClassifier</th>\n",
       "      <td>0.950396</td>\n",
       "      <td>1167.0</td>\n",
       "      <td>7723.0</td>\n",
       "      <td>262.0</td>\n",
       "      <td>202.0</td>\n",
       "      <td>0.032812</td>\n",
       "      <td>0.147553</td>\n",
       "      <td>0.909818</td>\n",
       "      <td>0.805275</td>\n",
       "    </tr>\n",
       "    <tr>\n",
       "      <th>ExtraTreeClassifier</th>\n",
       "      <td>0.962476</td>\n",
       "      <td>1142.0</td>\n",
       "      <td>7861.0</td>\n",
       "      <td>124.0</td>\n",
       "      <td>227.0</td>\n",
       "      <td>0.015529</td>\n",
       "      <td>0.165814</td>\n",
       "      <td>0.909328</td>\n",
       "      <td>0.845870</td>\n",
       "    </tr>\n",
       "    <tr>\n",
       "      <th>BaggingClassifier</th>\n",
       "      <td>0.961728</td>\n",
       "      <td>1157.0</td>\n",
       "      <td>7839.0</td>\n",
       "      <td>146.0</td>\n",
       "      <td>212.0</td>\n",
       "      <td>0.018284</td>\n",
       "      <td>0.154858</td>\n",
       "      <td>0.913429</td>\n",
       "      <td>0.844060</td>\n",
       "    </tr>\n",
       "    <tr>\n",
       "      <th>Neural Network-1</th>\n",
       "      <td>0.945585</td>\n",
       "      <td>1174.0</td>\n",
       "      <td>7671.0</td>\n",
       "      <td>314.0</td>\n",
       "      <td>195.0</td>\n",
       "      <td>0.039324</td>\n",
       "      <td>0.142440</td>\n",
       "      <td>0.913429</td>\n",
       "      <td>0.790751</td>\n",
       "    </tr>\n",
       "  </tbody>\n",
       "</table>\n",
       "</div>"
      ],
      "text/plain": [
       "                            accuracy      TP      TN     FP     FN       FPR  \\\n",
       "index                                                                          \n",
       "KNeighborsClassifier        0.906671  1206.0  7275.0  710.0  163.0  0.088917   \n",
       "LogisticRegression          0.929763  1214.0  7483.0  502.0  155.0  0.062868   \n",
       "RandomForestClassifier      0.962583  1153.0  7851.0  134.0  216.0  0.016781   \n",
       "AdaBoostClassifier          0.940560  1155.0  7643.0  342.0  214.0  0.042830   \n",
       "GradientBoostingClassifier  0.950396  1167.0  7723.0  262.0  202.0  0.032812   \n",
       "ExtraTreeClassifier         0.962476  1142.0  7861.0  124.0  227.0  0.015529   \n",
       "BaggingClassifier           0.961728  1157.0  7839.0  146.0  212.0  0.018284   \n",
       "Neural Network-1            0.945585  1174.0  7671.0  314.0  195.0  0.039324   \n",
       "\n",
       "                                 FNR       auc       mcc  \n",
       "index                                                     \n",
       "KNeighborsClassifier        0.119065  0.896009  0.693663  \n",
       "LogisticRegression          0.113221  0.911955  0.752438  \n",
       "RandomForestClassifier      0.157779  0.912720  0.846991  \n",
       "AdaBoostClassifier          0.156318  0.900426  0.772061  \n",
       "GradientBoostingClassifier  0.147553  0.909818  0.805275  \n",
       "ExtraTreeClassifier         0.165814  0.909328  0.845870  \n",
       "BaggingClassifier           0.154858  0.913429  0.844060  \n",
       "Neural Network-1            0.142440  0.913429  0.790751  "
      ]
     },
     "metadata": {},
     "output_type": "display_data"
    }
   ],
   "source": [
    "table_80_80_train['index']=ind_columns\n",
    "table_80_80_test['index']=ind_columns\n",
    "\n",
    "\n",
    "table_80_80_test.set_index(['index'],drop=True,inplace=True)\n",
    "table_80_80_train.set_index(['index'],drop=True,inplace=True)\n",
    "\n",
    "print(\"Training Results\")\n",
    "display(table_80_80_train)\n",
    "print(\"Test Results\")\n",
    "display(table_80_80_test)"
   ]
  },
  {
   "cell_type": "markdown",
   "metadata": {},
   "source": [
    "### <a id='2.B' style=\"text-decoration : none; color : #000000;\"> B. Average Feature Importances</a>"
   ]
  },
  {
   "cell_type": "code",
   "execution_count": 31,
   "metadata": {},
   "outputs": [
    {
     "data": {
      "application/vnd.plotly.v1+json": {
       "config": {
        "linkText": "Export to plot.ly",
        "plotlyServerURL": "https://plot.ly",
        "showLink": true
       },
       "data": [
        {
         "marker": {
          "color": "rgb(158,202,225)",
          "line": {
           "color": "rgb(8,48,107)",
           "width": 1.5
          }
         },
         "opacity": 0.6,
         "orientation": "h",
         "text": [
          0.1848,
          0.1286,
          0.0443,
          0.044,
          0.0427,
          0.04,
          0.0291,
          0.0276,
          0.026,
          0.0234,
          0.0229,
          0.0228,
          0.0228,
          0.0223,
          0.0221,
          0.0215,
          0.0192,
          0.0169,
          0.0164,
          0.0164,
          0.0158,
          0.0146,
          0.0145,
          0.0131,
          0.0125,
          0.0119,
          0.0119,
          0.011,
          0.0095,
          0.0094,
          0.0093,
          0.0089,
          0.0088,
          0.0085,
          0.0082,
          0.0068,
          0.0065,
          0.0061,
          0.0048,
          0.0028,
          0.0017,
          0.0017,
          0.0016,
          0.0014,
          0.0011,
          0.001,
          0.0009,
          0.0008,
          0.0004,
          0.0004,
          0.0001,
          0.0001,
          0,
          0,
          0,
          0,
          0,
          0
         ],
         "textposition": "outside",
         "type": "bar",
         "uid": "26f2dfe8-768a-40c8-b2af-f41501bcb23b",
         "x": [
          0.18475410584457147,
          0.12857836807882084,
          0.04429155565674744,
          0.04400480462877083,
          0.042672184289767955,
          0.03997582983143665,
          0.02908831128331807,
          0.02761648578055878,
          0.025986623844385826,
          0.0234413641552658,
          0.02287645595202764,
          0.022809644088230552,
          0.02280645041361945,
          0.022303094786833406,
          0.02210884917384029,
          0.021467581906544346,
          0.019242204364569637,
          0.016894930761790605,
          0.016419168006519127,
          0.01638854876438617,
          0.0157639697284758,
          0.014593148108524624,
          0.014541469172086433,
          0.013145538536841618,
          0.012540553167367411,
          0.011945398037496679,
          0.011919896520192912,
          0.010989203406550808,
          0.00946379201252143,
          0.00937575998071903,
          0.009264335291790148,
          0.00890067987793857,
          0.008846707271876158,
          0.00849509691724078,
          0.0081790594379876,
          0.0067846069150615355,
          0.006481242260891737,
          0.006079994038878867,
          0.004803723209688887,
          0.0028167308393209287,
          0.001717115888409922,
          0.001676286781476643,
          0.0016425672557422678,
          0.0013943257352636224,
          0.0011496566577435408,
          0.0009937043544756391,
          0.0008895153055772915,
          0.0008006444136142861,
          0.00043461125005785556,
          0.00042962036258050037,
          9.31551226425182e-05,
          8.621008836320147e-05,
          2.4627399100477252e-05,
          4.991848550555082e-06,
          3.344652441398713e-06,
          2.1565405034745977e-06,
          0,
          0
         ],
         "y": [
          "url_length",
          "url_extensions",
          "url_number_consonants",
          "url_char_.",
          "url_number_special_chars",
          "w_average",
          "z_average",
          "i_average",
          "url_char_/",
          "url_number_digits/url_length",
          "url_tlds",
          "a_average",
          "m_average",
          "url_number_vowels",
          "b_average",
          "url_number_special_chars/url_length",
          "o_average",
          "n_average",
          "s_average",
          "d_average",
          "u_average",
          "l_average",
          "g_average",
          "y_average",
          "r_average",
          "e_average",
          "url_number_digits",
          "t_average",
          "h_average",
          "p_average",
          "f_average",
          "url_char_-",
          "k_average",
          "c_average",
          "url_number_vowels/url_length",
          "j_average",
          "q_average",
          "url_number_consonants/url_length",
          "x_average",
          "v_average",
          "5_average",
          "1_average",
          "9_average",
          "8_average",
          "6_average",
          "2_average",
          "0_average",
          "3_average",
          "7_average",
          "4_average",
          "url_port",
          "url_char_=",
          "url_char_?",
          "url_char_:",
          "url_char__",
          "url_char_+",
          "url_char_&",
          "url_char_%"
         ]
        }
       ],
       "layout": {
        "autosize": false,
        "height": 1000,
        "width": 1000,
        "xaxis": {
         "tickfont": {
          "color": "black",
          "size": 12
         },
         "title": "Feature Importances"
        },
        "yaxis": {
         "automargin": true
        }
       }
      },
      "text/html": [
       "<div id=\"8e838e62-4c71-47ea-8ce3-92a16c0a0582\" style=\"height: 1000px; width: 1000px;\" class=\"plotly-graph-div\"></div><script type=\"text/javascript\">require([\"plotly\"], function(Plotly) { window.PLOTLYENV=window.PLOTLYENV || {};window.PLOTLYENV.BASE_URL=\"https://plot.ly\";Plotly.newPlot(\"8e838e62-4c71-47ea-8ce3-92a16c0a0582\", [{\"marker\": {\"color\": \"rgb(158,202,225)\", \"line\": {\"color\": \"rgb(8,48,107)\", \"width\": 1.5}}, \"opacity\": 0.6, \"orientation\": \"h\", \"text\": [0.1848, 0.1286, 0.0443, 0.044, 0.0427, 0.04, 0.0291, 0.0276, 0.026, 0.0234, 0.0229, 0.0228, 0.0228, 0.0223, 0.0221, 0.0215, 0.0192, 0.0169, 0.0164, 0.0164, 0.0158, 0.0146, 0.0145, 0.0131, 0.0125, 0.0119, 0.0119, 0.011, 0.0095, 0.0094, 0.0093, 0.0089, 0.0088, 0.0085, 0.0082, 0.0068, 0.0065, 0.0061, 0.0048, 0.0028, 0.0017, 0.0017, 0.0016, 0.0014, 0.0011, 0.001, 0.0009, 0.0008, 0.0004, 0.0004, 0.0001, 0.0001, 0.0, 0.0, 0.0, 0.0, 0.0, 0.0], \"textposition\": \"outside\", \"x\": [0.18475410584457147, 0.12857836807882084, 0.04429155565674744, 0.04400480462877083, 0.042672184289767955, 0.03997582983143665, 0.02908831128331807, 0.02761648578055878, 0.025986623844385826, 0.0234413641552658, 0.02287645595202764, 0.022809644088230552, 0.02280645041361945, 0.022303094786833406, 0.02210884917384029, 0.021467581906544346, 0.019242204364569637, 0.016894930761790605, 0.016419168006519127, 0.01638854876438617, 0.0157639697284758, 0.014593148108524624, 0.014541469172086433, 0.013145538536841618, 0.012540553167367411, 0.011945398037496679, 0.011919896520192912, 0.010989203406550808, 0.00946379201252143, 0.00937575998071903, 0.009264335291790148, 0.00890067987793857, 0.008846707271876158, 0.00849509691724078, 0.0081790594379876, 0.0067846069150615355, 0.006481242260891737, 0.006079994038878867, 0.004803723209688887, 0.0028167308393209287, 0.001717115888409922, 0.001676286781476643, 0.0016425672557422678, 0.0013943257352636224, 0.0011496566577435408, 0.0009937043544756391, 0.0008895153055772915, 0.0008006444136142861, 0.00043461125005785556, 0.00042962036258050037, 9.31551226425182e-05, 8.621008836320147e-05, 2.4627399100477252e-05, 4.991848550555082e-06, 3.344652441398713e-06, 2.1565405034745977e-06, 0.0, 0.0], \"y\": [\"url_length\", \"url_extensions\", \"url_number_consonants\", \"url_char_.\", \"url_number_special_chars\", \"w_average\", \"z_average\", \"i_average\", \"url_char_/\", \"url_number_digits/url_length\", \"url_tlds\", \"a_average\", \"m_average\", \"url_number_vowels\", \"b_average\", \"url_number_special_chars/url_length\", \"o_average\", \"n_average\", \"s_average\", \"d_average\", \"u_average\", \"l_average\", \"g_average\", \"y_average\", \"r_average\", \"e_average\", \"url_number_digits\", \"t_average\", \"h_average\", \"p_average\", \"f_average\", \"url_char_-\", \"k_average\", \"c_average\", \"url_number_vowels/url_length\", \"j_average\", \"q_average\", \"url_number_consonants/url_length\", \"x_average\", \"v_average\", \"5_average\", \"1_average\", \"9_average\", \"8_average\", \"6_average\", \"2_average\", \"0_average\", \"3_average\", \"7_average\", \"4_average\", \"url_port\", \"url_char_=\", \"url_char_?\", \"url_char_:\", \"url_char__\", \"url_char_+\", \"url_char_&\", \"url_char_%\"], \"type\": \"bar\", \"uid\": \"26f2dfe8-768a-40c8-b2af-f41501bcb23b\"}], {\"autosize\": false, \"height\": 1000, \"width\": 1000, \"xaxis\": {\"tickfont\": {\"color\": \"black\", \"size\": 12}, \"title\": \"Feature Importances\"}, \"yaxis\": {\"automargin\": true}}, {\"showLink\": true, \"linkText\": \"Export to plot.ly\", \"plotlyServerURL\": \"https://plot.ly\"})});</script>"
      ],
      "text/vnd.plotly.v1+html": [
       "<div id=\"8e838e62-4c71-47ea-8ce3-92a16c0a0582\" style=\"height: 1000px; width: 1000px;\" class=\"plotly-graph-div\"></div><script type=\"text/javascript\">require([\"plotly\"], function(Plotly) { window.PLOTLYENV=window.PLOTLYENV || {};window.PLOTLYENV.BASE_URL=\"https://plot.ly\";Plotly.newPlot(\"8e838e62-4c71-47ea-8ce3-92a16c0a0582\", [{\"marker\": {\"color\": \"rgb(158,202,225)\", \"line\": {\"color\": \"rgb(8,48,107)\", \"width\": 1.5}}, \"opacity\": 0.6, \"orientation\": \"h\", \"text\": [0.1848, 0.1286, 0.0443, 0.044, 0.0427, 0.04, 0.0291, 0.0276, 0.026, 0.0234, 0.0229, 0.0228, 0.0228, 0.0223, 0.0221, 0.0215, 0.0192, 0.0169, 0.0164, 0.0164, 0.0158, 0.0146, 0.0145, 0.0131, 0.0125, 0.0119, 0.0119, 0.011, 0.0095, 0.0094, 0.0093, 0.0089, 0.0088, 0.0085, 0.0082, 0.0068, 0.0065, 0.0061, 0.0048, 0.0028, 0.0017, 0.0017, 0.0016, 0.0014, 0.0011, 0.001, 0.0009, 0.0008, 0.0004, 0.0004, 0.0001, 0.0001, 0.0, 0.0, 0.0, 0.0, 0.0, 0.0], \"textposition\": \"outside\", \"x\": [0.18475410584457147, 0.12857836807882084, 0.04429155565674744, 0.04400480462877083, 0.042672184289767955, 0.03997582983143665, 0.02908831128331807, 0.02761648578055878, 0.025986623844385826, 0.0234413641552658, 0.02287645595202764, 0.022809644088230552, 0.02280645041361945, 0.022303094786833406, 0.02210884917384029, 0.021467581906544346, 0.019242204364569637, 0.016894930761790605, 0.016419168006519127, 0.01638854876438617, 0.0157639697284758, 0.014593148108524624, 0.014541469172086433, 0.013145538536841618, 0.012540553167367411, 0.011945398037496679, 0.011919896520192912, 0.010989203406550808, 0.00946379201252143, 0.00937575998071903, 0.009264335291790148, 0.00890067987793857, 0.008846707271876158, 0.00849509691724078, 0.0081790594379876, 0.0067846069150615355, 0.006481242260891737, 0.006079994038878867, 0.004803723209688887, 0.0028167308393209287, 0.001717115888409922, 0.001676286781476643, 0.0016425672557422678, 0.0013943257352636224, 0.0011496566577435408, 0.0009937043544756391, 0.0008895153055772915, 0.0008006444136142861, 0.00043461125005785556, 0.00042962036258050037, 9.31551226425182e-05, 8.621008836320147e-05, 2.4627399100477252e-05, 4.991848550555082e-06, 3.344652441398713e-06, 2.1565405034745977e-06, 0.0, 0.0], \"y\": [\"url_length\", \"url_extensions\", \"url_number_consonants\", \"url_char_.\", \"url_number_special_chars\", \"w_average\", \"z_average\", \"i_average\", \"url_char_/\", \"url_number_digits/url_length\", \"url_tlds\", \"a_average\", \"m_average\", \"url_number_vowels\", \"b_average\", \"url_number_special_chars/url_length\", \"o_average\", \"n_average\", \"s_average\", \"d_average\", \"u_average\", \"l_average\", \"g_average\", \"y_average\", \"r_average\", \"e_average\", \"url_number_digits\", \"t_average\", \"h_average\", \"p_average\", \"f_average\", \"url_char_-\", \"k_average\", \"c_average\", \"url_number_vowels/url_length\", \"j_average\", \"q_average\", \"url_number_consonants/url_length\", \"x_average\", \"v_average\", \"5_average\", \"1_average\", \"9_average\", \"8_average\", \"6_average\", \"2_average\", \"0_average\", \"3_average\", \"7_average\", \"4_average\", \"url_port\", \"url_char_=\", \"url_char_?\", \"url_char_:\", \"url_char__\", \"url_char_+\", \"url_char_&\", \"url_char_%\"], \"type\": \"bar\", \"uid\": \"26f2dfe8-768a-40c8-b2af-f41501bcb23b\"}], {\"autosize\": false, \"height\": 1000, \"width\": 1000, \"xaxis\": {\"tickfont\": {\"color\": \"black\", \"size\": 12}, \"title\": \"Feature Importances\"}, \"yaxis\": {\"automargin\": true}}, {\"showLink\": true, \"linkText\": \"Export to plot.ly\", \"plotlyServerURL\": \"https://plot.ly\"})});</script>"
      ]
     },
     "metadata": {},
     "output_type": "display_data"
    }
   ],
   "source": [
    "feat_impt_plot(np.average(feat_imp,axis=0),columns)"
   ]
  },
  {
   "cell_type": "markdown",
   "metadata": {},
   "source": [
    "### <a id='3' style=\"text-decoration : none; color : #000000;\"> 3. Undersampling</a>"
   ]
  },
  {
   "cell_type": "code",
   "execution_count": 32,
   "metadata": {},
   "outputs": [
    {
     "name": "stdout",
     "output_type": "stream",
     "text": [
      "Shape after undersampling (11050, 58)\n"
     ]
    }
   ],
   "source": [
    "df_non=train[train.Target==0]\n",
    "df_mal=train[train.Target==1]\n",
    "\n",
    "df_non=df_non.sample(frac=len(df_mal)/len(df_non),random_state=0)\n",
    "df_u=df_non.append(df_mal)\n",
    "df_u.Target.value_counts() \n",
    "\n",
    "X_train=df_u[columns]\n",
    "X_train=scaler.transform(X_train)\n",
    "Y_train=df_u.Target.values\n",
    "\n",
    "print(\"Shape after undersampling\",X_train.shape)\n"
   ]
  },
  {
   "cell_type": "code",
   "execution_count": 33,
   "metadata": {
    "collapsed": true
   },
   "outputs": [],
   "source": [
    "## Table to store training and test measures so we can compare later\n",
    "table_80_90_train=pd.DataFrame(columns=['accuracy','TP','TN','FP','FN','FPR','FNR'])\n",
    "table_80_90_test=pd.DataFrame(columns=['accuracy','TP','TN','FP','FN','FPR','FNR','auc','mcc'])"
   ]
  },
  {
   "cell_type": "code",
   "execution_count": 34,
   "metadata": {
    "scrolled": false
   },
   "outputs": [
    {
     "name": "stdout",
     "output_type": "stream",
     "text": [
      "\u001b[1mK-Nearest Neighbors\u001b[0m\n",
      "Accuracy of the model for training data is: 0.926063348416\n",
      "Confusion Matrix for training data is:\n"
     ]
    },
    {
     "data": {
      "text/plain": [
       "Predicted  False  True  __all__\n",
       "Actual                         \n",
       "False       5305   220     5525\n",
       "True         597  4928     5525\n",
       "__all__     5902  5148    11050"
      ]
     },
     "metadata": {},
     "output_type": "display_data"
    },
    {
     "name": "stdout",
     "output_type": "stream",
     "text": [
      "Accuracy of the model for test data is: 0.926127859739\n",
      "Confusion Matrix for test data is:\n"
     ]
    },
    {
     "data": {
      "text/plain": [
       "Predicted  False  True  __all__\n",
       "Actual                         \n",
       "False       7473   512     7985\n",
       "True         179  1190     1369\n",
       "__all__     7652  1702     9354"
      ]
     },
     "metadata": {},
     "output_type": "display_data"
    },
    {
     "name": "stdout",
     "output_type": "stream",
     "text": [
      "\n",
      "\n",
      "\u001b[1mLogistic Regression\u001b[0m\n",
      "Accuracy of the model for training data is: 0.908687782805\n",
      "Confusion Matrix for training data is:\n"
     ]
    },
    {
     "data": {
      "text/plain": [
       "Predicted  False  True  __all__\n",
       "Actual                         \n",
       "False       5169   356     5525\n",
       "True         653  4872     5525\n",
       "__all__     5822  5228    11050"
      ]
     },
     "metadata": {},
     "output_type": "display_data"
    },
    {
     "name": "stdout",
     "output_type": "stream",
     "text": [
      "Accuracy of the model for test data is: 0.927945264058\n",
      "Confusion Matrix for test data is:\n"
     ]
    },
    {
     "data": {
      "text/plain": [
       "Predicted  False  True  __all__\n",
       "Actual                         \n",
       "False       7462   523     7985\n",
       "True         151  1218     1369\n",
       "__all__     7613  1741     9354"
      ]
     },
     "metadata": {},
     "output_type": "display_data"
    },
    {
     "name": "stdout",
     "output_type": "stream",
     "text": [
      "\n",
      "\n",
      "\u001b[1mRandomForest Classifier\u001b[0m\n",
      "Accuracy of the model for training data is: 0.989230769231\n",
      "Confusion Matrix for training data is:\n"
     ]
    },
    {
     "data": {
      "text/plain": [
       "Predicted  False  True  __all__\n",
       "Actual                         \n",
       "False       5514    11     5525\n",
       "True         108  5417     5525\n",
       "__all__     5622  5428    11050"
      ]
     },
     "metadata": {},
     "output_type": "display_data"
    },
    {
     "name": "stdout",
     "output_type": "stream",
     "text": [
      "Accuracy of the model for test data is: 0.940132563609\n",
      "Confusion Matrix for test data is:\n"
     ]
    },
    {
     "data": {
      "text/plain": [
       "Predicted  False  True  __all__\n",
       "Actual                         \n",
       "False       7590   395     7985\n",
       "True         165  1204     1369\n",
       "__all__     7755  1599     9354"
      ]
     },
     "metadata": {},
     "output_type": "display_data"
    },
    {
     "data": {
      "application/vnd.plotly.v1+json": {
       "config": {
        "linkText": "Export to plot.ly",
        "plotlyServerURL": "https://plot.ly",
        "showLink": true
       },
       "data": [
        {
         "marker": {
          "color": "rgb(158,202,225)",
          "line": {
           "color": "rgb(8,48,107)",
           "width": 1.5
          }
         },
         "opacity": 0.6,
         "orientation": "h",
         "text": [
          0.1448,
          0.1123,
          0.1065,
          0.0633,
          0.063,
          0.034,
          0.023,
          0.0227,
          0.0226,
          0.0225,
          0.0222,
          0.0205,
          0.0198,
          0.0166,
          0.0162,
          0.0148,
          0.0147,
          0.0147,
          0.0141,
          0.0138,
          0.0138,
          0.0136,
          0.0136,
          0.0132,
          0.0126,
          0.012,
          0.0117,
          0.0116,
          0.0115,
          0.0105,
          0.0091,
          0.0083,
          0.0082,
          0.0076,
          0.0073,
          0.0071,
          0.0064,
          0.0057,
          0.0055,
          0.0054,
          0.0053,
          0.0044,
          0.0036,
          0.0024,
          0.002,
          0.0014,
          0.0014,
          0.0012,
          0.0008,
          0.0005,
          0,
          0,
          0,
          0,
          0,
          0,
          0,
          0
         ],
         "textposition": "outside",
         "type": "bar",
         "uid": "6b5fdc4e-64c0-4947-b459-7ee30072e52b",
         "x": [
          0.14475379085061954,
          0.11231298800929053,
          0.10648825248022989,
          0.06333045429353258,
          0.06298419806411212,
          0.033959784223874544,
          0.02298957273207792,
          0.02270698794241815,
          0.022626941768087532,
          0.022507980260741158,
          0.022220091035695787,
          0.020531451746009392,
          0.01980083352541267,
          0.016599911848748556,
          0.01624620504659255,
          0.014764064307424354,
          0.014709236436053583,
          0.014651287766971877,
          0.014059575047567252,
          0.013826558412897202,
          0.013769010225007603,
          0.01364233012970654,
          0.013639913628797667,
          0.013233010961159017,
          0.012621702310209856,
          0.011995813466505339,
          0.011665948265761544,
          0.0116355264885544,
          0.01153588817232526,
          0.010527008881636003,
          0.009094386137493578,
          0.008334380325393909,
          0.00822089186094934,
          0.007551571601895896,
          0.007342898856462943,
          0.007053581575888791,
          0.006432407266950532,
          0.00570253404460846,
          0.005528257230475477,
          0.005362716855378402,
          0.005275200088967825,
          0.004370735627556423,
          0.0035777837231476504,
          0.0024298018119812623,
          0.0020425619928009266,
          0.0014144121654119494,
          0.0014039531514034118,
          0.001198357476383569,
          0.0007683567982281583,
          0.0005347601665785207,
          1.809971886959737e-05,
          6.03319515296268e-06,
          0,
          0,
          0,
          0,
          0,
          0
         ],
         "y": [
          "url_extensions",
          "url_number_consonants",
          "url_number_special_chars",
          "url_char_.",
          "url_length",
          "url_number_vowels",
          "m_average",
          "url_number_special_chars/url_length",
          "z_average",
          "o_average",
          "b_average",
          "c_average",
          "url_number_vowels/url_length",
          "a_average",
          "i_average",
          "e_average",
          "url_number_digits",
          "w_average",
          "s_average",
          "url_char_/",
          "y_average",
          "n_average",
          "url_number_consonants/url_length",
          "0_average",
          "r_average",
          "l_average",
          "t_average",
          "url_tlds",
          "d_average",
          "g_average",
          "u_average",
          "8_average",
          "p_average",
          "k_average",
          "2_average",
          "h_average",
          "f_average",
          "9_average",
          "v_average",
          "url_char_-",
          "url_number_digits/url_length",
          "x_average",
          "j_average",
          "q_average",
          "6_average",
          "3_average",
          "4_average",
          "1_average",
          "5_average",
          "7_average",
          "url_port",
          "url_char_?",
          "url_char_+",
          "url_char_:",
          "url_char_=",
          "url_char__",
          "url_char_&",
          "url_char_%"
         ]
        }
       ],
       "layout": {
        "autosize": false,
        "height": 1000,
        "width": 1000,
        "xaxis": {
         "tickfont": {
          "color": "black",
          "size": 12
         },
         "title": "Feature Importances"
        },
        "yaxis": {
         "automargin": true
        }
       }
      },
      "text/html": [
       "<div id=\"35430223-3700-4868-8dd9-2ad9580c465f\" style=\"height: 1000px; width: 1000px;\" class=\"plotly-graph-div\"></div><script type=\"text/javascript\">require([\"plotly\"], function(Plotly) { window.PLOTLYENV=window.PLOTLYENV || {};window.PLOTLYENV.BASE_URL=\"https://plot.ly\";Plotly.newPlot(\"35430223-3700-4868-8dd9-2ad9580c465f\", [{\"marker\": {\"color\": \"rgb(158,202,225)\", \"line\": {\"color\": \"rgb(8,48,107)\", \"width\": 1.5}}, \"opacity\": 0.6, \"orientation\": \"h\", \"text\": [0.1448, 0.1123, 0.1065, 0.0633, 0.063, 0.034, 0.023, 0.0227, 0.0226, 0.0225, 0.0222, 0.0205, 0.0198, 0.0166, 0.0162, 0.0148, 0.0147, 0.0147, 0.0141, 0.0138, 0.0138, 0.0136, 0.0136, 0.0132, 0.0126, 0.012, 0.0117, 0.0116, 0.0115, 0.0105, 0.0091, 0.0083, 0.0082, 0.0076, 0.0073, 0.0071, 0.0064, 0.0057, 0.0055, 0.0054, 0.0053, 0.0044, 0.0036, 0.0024, 0.002, 0.0014, 0.0014, 0.0012, 0.0008, 0.0005, 0.0, 0.0, 0.0, 0.0, 0.0, 0.0, 0.0, 0.0], \"textposition\": \"outside\", \"x\": [0.14475379085061954, 0.11231298800929053, 0.10648825248022989, 0.06333045429353258, 0.06298419806411212, 0.033959784223874544, 0.02298957273207792, 0.02270698794241815, 0.022626941768087532, 0.022507980260741158, 0.022220091035695787, 0.020531451746009392, 0.01980083352541267, 0.016599911848748556, 0.01624620504659255, 0.014764064307424354, 0.014709236436053583, 0.014651287766971877, 0.014059575047567252, 0.013826558412897202, 0.013769010225007603, 0.01364233012970654, 0.013639913628797667, 0.013233010961159017, 0.012621702310209856, 0.011995813466505339, 0.011665948265761544, 0.0116355264885544, 0.01153588817232526, 0.010527008881636003, 0.009094386137493578, 0.008334380325393909, 0.00822089186094934, 0.007551571601895896, 0.007342898856462943, 0.007053581575888791, 0.006432407266950532, 0.00570253404460846, 0.005528257230475477, 0.005362716855378402, 0.005275200088967825, 0.004370735627556423, 0.0035777837231476504, 0.0024298018119812623, 0.0020425619928009266, 0.0014144121654119494, 0.0014039531514034118, 0.001198357476383569, 0.0007683567982281583, 0.0005347601665785207, 1.809971886959737e-05, 6.03319515296268e-06, 0.0, 0.0, 0.0, 0.0, 0.0, 0.0], \"y\": [\"url_extensions\", \"url_number_consonants\", \"url_number_special_chars\", \"url_char_.\", \"url_length\", \"url_number_vowels\", \"m_average\", \"url_number_special_chars/url_length\", \"z_average\", \"o_average\", \"b_average\", \"c_average\", \"url_number_vowels/url_length\", \"a_average\", \"i_average\", \"e_average\", \"url_number_digits\", \"w_average\", \"s_average\", \"url_char_/\", \"y_average\", \"n_average\", \"url_number_consonants/url_length\", \"0_average\", \"r_average\", \"l_average\", \"t_average\", \"url_tlds\", \"d_average\", \"g_average\", \"u_average\", \"8_average\", \"p_average\", \"k_average\", \"2_average\", \"h_average\", \"f_average\", \"9_average\", \"v_average\", \"url_char_-\", \"url_number_digits/url_length\", \"x_average\", \"j_average\", \"q_average\", \"6_average\", \"3_average\", \"4_average\", \"1_average\", \"5_average\", \"7_average\", \"url_port\", \"url_char_?\", \"url_char_+\", \"url_char_:\", \"url_char_=\", \"url_char__\", \"url_char_&\", \"url_char_%\"], \"type\": \"bar\", \"uid\": \"6b5fdc4e-64c0-4947-b459-7ee30072e52b\"}], {\"autosize\": false, \"height\": 1000, \"width\": 1000, \"xaxis\": {\"tickfont\": {\"color\": \"black\", \"size\": 12}, \"title\": \"Feature Importances\"}, \"yaxis\": {\"automargin\": true}}, {\"showLink\": true, \"linkText\": \"Export to plot.ly\", \"plotlyServerURL\": \"https://plot.ly\"})});</script>"
      ],
      "text/vnd.plotly.v1+html": [
       "<div id=\"35430223-3700-4868-8dd9-2ad9580c465f\" style=\"height: 1000px; width: 1000px;\" class=\"plotly-graph-div\"></div><script type=\"text/javascript\">require([\"plotly\"], function(Plotly) { window.PLOTLYENV=window.PLOTLYENV || {};window.PLOTLYENV.BASE_URL=\"https://plot.ly\";Plotly.newPlot(\"35430223-3700-4868-8dd9-2ad9580c465f\", [{\"marker\": {\"color\": \"rgb(158,202,225)\", \"line\": {\"color\": \"rgb(8,48,107)\", \"width\": 1.5}}, \"opacity\": 0.6, \"orientation\": \"h\", \"text\": [0.1448, 0.1123, 0.1065, 0.0633, 0.063, 0.034, 0.023, 0.0227, 0.0226, 0.0225, 0.0222, 0.0205, 0.0198, 0.0166, 0.0162, 0.0148, 0.0147, 0.0147, 0.0141, 0.0138, 0.0138, 0.0136, 0.0136, 0.0132, 0.0126, 0.012, 0.0117, 0.0116, 0.0115, 0.0105, 0.0091, 0.0083, 0.0082, 0.0076, 0.0073, 0.0071, 0.0064, 0.0057, 0.0055, 0.0054, 0.0053, 0.0044, 0.0036, 0.0024, 0.002, 0.0014, 0.0014, 0.0012, 0.0008, 0.0005, 0.0, 0.0, 0.0, 0.0, 0.0, 0.0, 0.0, 0.0], \"textposition\": \"outside\", \"x\": [0.14475379085061954, 0.11231298800929053, 0.10648825248022989, 0.06333045429353258, 0.06298419806411212, 0.033959784223874544, 0.02298957273207792, 0.02270698794241815, 0.022626941768087532, 0.022507980260741158, 0.022220091035695787, 0.020531451746009392, 0.01980083352541267, 0.016599911848748556, 0.01624620504659255, 0.014764064307424354, 0.014709236436053583, 0.014651287766971877, 0.014059575047567252, 0.013826558412897202, 0.013769010225007603, 0.01364233012970654, 0.013639913628797667, 0.013233010961159017, 0.012621702310209856, 0.011995813466505339, 0.011665948265761544, 0.0116355264885544, 0.01153588817232526, 0.010527008881636003, 0.009094386137493578, 0.008334380325393909, 0.00822089186094934, 0.007551571601895896, 0.007342898856462943, 0.007053581575888791, 0.006432407266950532, 0.00570253404460846, 0.005528257230475477, 0.005362716855378402, 0.005275200088967825, 0.004370735627556423, 0.0035777837231476504, 0.0024298018119812623, 0.0020425619928009266, 0.0014144121654119494, 0.0014039531514034118, 0.001198357476383569, 0.0007683567982281583, 0.0005347601665785207, 1.809971886959737e-05, 6.03319515296268e-06, 0.0, 0.0, 0.0, 0.0, 0.0, 0.0], \"y\": [\"url_extensions\", \"url_number_consonants\", \"url_number_special_chars\", \"url_char_.\", \"url_length\", \"url_number_vowels\", \"m_average\", \"url_number_special_chars/url_length\", \"z_average\", \"o_average\", \"b_average\", \"c_average\", \"url_number_vowels/url_length\", \"a_average\", \"i_average\", \"e_average\", \"url_number_digits\", \"w_average\", \"s_average\", \"url_char_/\", \"y_average\", \"n_average\", \"url_number_consonants/url_length\", \"0_average\", \"r_average\", \"l_average\", \"t_average\", \"url_tlds\", \"d_average\", \"g_average\", \"u_average\", \"8_average\", \"p_average\", \"k_average\", \"2_average\", \"h_average\", \"f_average\", \"9_average\", \"v_average\", \"url_char_-\", \"url_number_digits/url_length\", \"x_average\", \"j_average\", \"q_average\", \"6_average\", \"3_average\", \"4_average\", \"1_average\", \"5_average\", \"7_average\", \"url_port\", \"url_char_?\", \"url_char_+\", \"url_char_:\", \"url_char_=\", \"url_char__\", \"url_char_&\", \"url_char_%\"], \"type\": \"bar\", \"uid\": \"6b5fdc4e-64c0-4947-b459-7ee30072e52b\"}], {\"autosize\": false, \"height\": 1000, \"width\": 1000, \"xaxis\": {\"tickfont\": {\"color\": \"black\", \"size\": 12}, \"title\": \"Feature Importances\"}, \"yaxis\": {\"automargin\": true}}, {\"showLink\": true, \"linkText\": \"Export to plot.ly\", \"plotlyServerURL\": \"https://plot.ly\"})});</script>"
      ]
     },
     "metadata": {},
     "output_type": "display_data"
    },
    {
     "name": "stdout",
     "output_type": "stream",
     "text": [
      "\n",
      "\n",
      "\u001b[1mAdaoost Classifier\u001b[0m\n",
      "Accuracy of the model for training data is: 0.906968325792\n",
      "Confusion Matrix for training data is:\n"
     ]
    },
    {
     "data": {
      "text/plain": [
       "Predicted  False  True  __all__\n",
       "Actual                         \n",
       "False       5140   385     5525\n",
       "True         643  4882     5525\n",
       "__all__     5783  5267    11050"
      ]
     },
     "metadata": {},
     "output_type": "display_data"
    },
    {
     "name": "stdout",
     "output_type": "stream",
     "text": [
      "Accuracy of the model for test data is: 0.916506307462\n",
      "Confusion Matrix for test data is:\n"
     ]
    },
    {
     "data": {
      "text/plain": [
       "Predicted  False  True  __all__\n",
       "Actual                         \n",
       "False       7353   632     7985\n",
       "True         149  1220     1369\n",
       "__all__     7502  1852     9354"
      ]
     },
     "metadata": {},
     "output_type": "display_data"
    },
    {
     "data": {
      "application/vnd.plotly.v1+json": {
       "config": {
        "linkText": "Export to plot.ly",
        "plotlyServerURL": "https://plot.ly",
        "showLink": true
       },
       "data": [
        {
         "marker": {
          "color": "rgb(158,202,225)",
          "line": {
           "color": "rgb(8,48,107)",
           "width": 1.5
          }
         },
         "opacity": 0.6,
         "orientation": "h",
         "text": [
          0.08,
          0.08,
          0.06,
          0.06,
          0.04,
          0.04,
          0.04,
          0.04,
          0.04,
          0.04,
          0.02,
          0.02,
          0.02,
          0.02,
          0.02,
          0.02,
          0.02,
          0.02,
          0.02,
          0.02,
          0.02,
          0.02,
          0.02,
          0.02,
          0.02,
          0.02,
          0.02,
          0.02,
          0.02,
          0.02,
          0.02,
          0.02,
          0.02,
          0.02,
          0,
          0,
          0,
          0,
          0,
          0,
          0,
          0,
          0,
          0,
          0,
          0,
          0,
          0,
          0,
          0,
          0,
          0,
          0,
          0,
          0,
          0,
          0,
          0
         ],
         "textposition": "outside",
         "type": "bar",
         "uid": "c71536e3-b738-4b50-a958-b604ab1b4b4d",
         "x": [
          0.08,
          0.08,
          0.06,
          0.06,
          0.04,
          0.04,
          0.04,
          0.04,
          0.04,
          0.04,
          0.02,
          0.02,
          0.02,
          0.02,
          0.02,
          0.02,
          0.02,
          0.02,
          0.02,
          0.02,
          0.02,
          0.02,
          0.02,
          0.02,
          0.02,
          0.02,
          0.02,
          0.02,
          0.02,
          0.02,
          0.02,
          0.02,
          0.02,
          0.02,
          0,
          0,
          0,
          0,
          0,
          0,
          0,
          0,
          0,
          0,
          0,
          0,
          0,
          0,
          0,
          0,
          0,
          0,
          0,
          0,
          0,
          0,
          0,
          0
         ],
         "y": [
          "url_length",
          "url_number_special_chars/url_length",
          "w_average",
          "url_extensions",
          "url_number_digits/url_length",
          "z_average",
          "url_char_.",
          "o_average",
          "m_average",
          "url_tlds",
          "f_average",
          "g_average",
          "y_average",
          "j_average",
          "i_average",
          "c_average",
          "k_average",
          "n_average",
          "p_average",
          "q_average",
          "r_average",
          "s_average",
          "d_average",
          "h_average",
          "b_average",
          "url_number_vowels/url_length",
          "url_char_/",
          "3_average",
          "a_average",
          "2_average",
          "url_number_special_chars",
          "url_number_consonants/url_length",
          "url_number_consonants",
          "0_average",
          "1_average",
          "4_average",
          "5_average",
          "6_average",
          "v_average",
          "7_average",
          "8_average",
          "x_average",
          "url_char_%",
          "u_average",
          "t_average",
          "l_average",
          "url_char_&",
          "e_average",
          "url_number_vowels",
          "url_number_digits",
          "url_port",
          "url_char__",
          "url_char_?",
          "url_char_=",
          "url_char_:",
          "url_char_-",
          "url_char_+",
          "9_average"
         ]
        }
       ],
       "layout": {
        "autosize": false,
        "height": 1000,
        "width": 1000,
        "xaxis": {
         "tickfont": {
          "color": "black",
          "size": 12
         },
         "title": "Feature Importances"
        },
        "yaxis": {
         "automargin": true
        }
       }
      },
      "text/html": [
       "<div id=\"ca7b1296-1887-4d84-93b4-5ec13353f94f\" style=\"height: 1000px; width: 1000px;\" class=\"plotly-graph-div\"></div><script type=\"text/javascript\">require([\"plotly\"], function(Plotly) { window.PLOTLYENV=window.PLOTLYENV || {};window.PLOTLYENV.BASE_URL=\"https://plot.ly\";Plotly.newPlot(\"ca7b1296-1887-4d84-93b4-5ec13353f94f\", [{\"marker\": {\"color\": \"rgb(158,202,225)\", \"line\": {\"color\": \"rgb(8,48,107)\", \"width\": 1.5}}, \"opacity\": 0.6, \"orientation\": \"h\", \"text\": [0.08, 0.08, 0.06, 0.06, 0.04, 0.04, 0.04, 0.04, 0.04, 0.04, 0.02, 0.02, 0.02, 0.02, 0.02, 0.02, 0.02, 0.02, 0.02, 0.02, 0.02, 0.02, 0.02, 0.02, 0.02, 0.02, 0.02, 0.02, 0.02, 0.02, 0.02, 0.02, 0.02, 0.02, 0.0, 0.0, 0.0, 0.0, 0.0, 0.0, 0.0, 0.0, 0.0, 0.0, 0.0, 0.0, 0.0, 0.0, 0.0, 0.0, 0.0, 0.0, 0.0, 0.0, 0.0, 0.0, 0.0, 0.0], \"textposition\": \"outside\", \"x\": [0.08, 0.08, 0.06, 0.06, 0.04, 0.04, 0.04, 0.04, 0.04, 0.04, 0.02, 0.02, 0.02, 0.02, 0.02, 0.02, 0.02, 0.02, 0.02, 0.02, 0.02, 0.02, 0.02, 0.02, 0.02, 0.02, 0.02, 0.02, 0.02, 0.02, 0.02, 0.02, 0.02, 0.02, 0.0, 0.0, 0.0, 0.0, 0.0, 0.0, 0.0, 0.0, 0.0, 0.0, 0.0, 0.0, 0.0, 0.0, 0.0, 0.0, 0.0, 0.0, 0.0, 0.0, 0.0, 0.0, 0.0, 0.0], \"y\": [\"url_length\", \"url_number_special_chars/url_length\", \"w_average\", \"url_extensions\", \"url_number_digits/url_length\", \"z_average\", \"url_char_.\", \"o_average\", \"m_average\", \"url_tlds\", \"f_average\", \"g_average\", \"y_average\", \"j_average\", \"i_average\", \"c_average\", \"k_average\", \"n_average\", \"p_average\", \"q_average\", \"r_average\", \"s_average\", \"d_average\", \"h_average\", \"b_average\", \"url_number_vowels/url_length\", \"url_char_/\", \"3_average\", \"a_average\", \"2_average\", \"url_number_special_chars\", \"url_number_consonants/url_length\", \"url_number_consonants\", \"0_average\", \"1_average\", \"4_average\", \"5_average\", \"6_average\", \"v_average\", \"7_average\", \"8_average\", \"x_average\", \"url_char_%\", \"u_average\", \"t_average\", \"l_average\", \"url_char_&\", \"e_average\", \"url_number_vowels\", \"url_number_digits\", \"url_port\", \"url_char__\", \"url_char_?\", \"url_char_=\", \"url_char_:\", \"url_char_-\", \"url_char_+\", \"9_average\"], \"type\": \"bar\", \"uid\": \"c71536e3-b738-4b50-a958-b604ab1b4b4d\"}], {\"autosize\": false, \"height\": 1000, \"width\": 1000, \"xaxis\": {\"tickfont\": {\"color\": \"black\", \"size\": 12}, \"title\": \"Feature Importances\"}, \"yaxis\": {\"automargin\": true}}, {\"showLink\": true, \"linkText\": \"Export to plot.ly\", \"plotlyServerURL\": \"https://plot.ly\"})});</script>"
      ],
      "text/vnd.plotly.v1+html": [
       "<div id=\"ca7b1296-1887-4d84-93b4-5ec13353f94f\" style=\"height: 1000px; width: 1000px;\" class=\"plotly-graph-div\"></div><script type=\"text/javascript\">require([\"plotly\"], function(Plotly) { window.PLOTLYENV=window.PLOTLYENV || {};window.PLOTLYENV.BASE_URL=\"https://plot.ly\";Plotly.newPlot(\"ca7b1296-1887-4d84-93b4-5ec13353f94f\", [{\"marker\": {\"color\": \"rgb(158,202,225)\", \"line\": {\"color\": \"rgb(8,48,107)\", \"width\": 1.5}}, \"opacity\": 0.6, \"orientation\": \"h\", \"text\": [0.08, 0.08, 0.06, 0.06, 0.04, 0.04, 0.04, 0.04, 0.04, 0.04, 0.02, 0.02, 0.02, 0.02, 0.02, 0.02, 0.02, 0.02, 0.02, 0.02, 0.02, 0.02, 0.02, 0.02, 0.02, 0.02, 0.02, 0.02, 0.02, 0.02, 0.02, 0.02, 0.02, 0.02, 0.0, 0.0, 0.0, 0.0, 0.0, 0.0, 0.0, 0.0, 0.0, 0.0, 0.0, 0.0, 0.0, 0.0, 0.0, 0.0, 0.0, 0.0, 0.0, 0.0, 0.0, 0.0, 0.0, 0.0], \"textposition\": \"outside\", \"x\": [0.08, 0.08, 0.06, 0.06, 0.04, 0.04, 0.04, 0.04, 0.04, 0.04, 0.02, 0.02, 0.02, 0.02, 0.02, 0.02, 0.02, 0.02, 0.02, 0.02, 0.02, 0.02, 0.02, 0.02, 0.02, 0.02, 0.02, 0.02, 0.02, 0.02, 0.02, 0.02, 0.02, 0.02, 0.0, 0.0, 0.0, 0.0, 0.0, 0.0, 0.0, 0.0, 0.0, 0.0, 0.0, 0.0, 0.0, 0.0, 0.0, 0.0, 0.0, 0.0, 0.0, 0.0, 0.0, 0.0, 0.0, 0.0], \"y\": [\"url_length\", \"url_number_special_chars/url_length\", \"w_average\", \"url_extensions\", \"url_number_digits/url_length\", \"z_average\", \"url_char_.\", \"o_average\", \"m_average\", \"url_tlds\", \"f_average\", \"g_average\", \"y_average\", \"j_average\", \"i_average\", \"c_average\", \"k_average\", \"n_average\", \"p_average\", \"q_average\", \"r_average\", \"s_average\", \"d_average\", \"h_average\", \"b_average\", \"url_number_vowels/url_length\", \"url_char_/\", \"3_average\", \"a_average\", \"2_average\", \"url_number_special_chars\", \"url_number_consonants/url_length\", \"url_number_consonants\", \"0_average\", \"1_average\", \"4_average\", \"5_average\", \"6_average\", \"v_average\", \"7_average\", \"8_average\", \"x_average\", \"url_char_%\", \"u_average\", \"t_average\", \"l_average\", \"url_char_&\", \"e_average\", \"url_number_vowels\", \"url_number_digits\", \"url_port\", \"url_char__\", \"url_char_?\", \"url_char_=\", \"url_char_:\", \"url_char_-\", \"url_char_+\", \"9_average\"], \"type\": \"bar\", \"uid\": \"c71536e3-b738-4b50-a958-b604ab1b4b4d\"}], {\"autosize\": false, \"height\": 1000, \"width\": 1000, \"xaxis\": {\"tickfont\": {\"color\": \"black\", \"size\": 12}, \"title\": \"Feature Importances\"}, \"yaxis\": {\"automargin\": true}}, {\"showLink\": true, \"linkText\": \"Export to plot.ly\", \"plotlyServerURL\": \"https://plot.ly\"})});</script>"
      ]
     },
     "metadata": {},
     "output_type": "display_data"
    },
    {
     "name": "stdout",
     "output_type": "stream",
     "text": [
      "\n",
      "\n",
      "\u001b[1mGradientBoosting Classifier\u001b[0m\n",
      "Accuracy of the model for training data is: 0.918823529412\n",
      "Confusion Matrix for training data is:\n"
     ]
    },
    {
     "data": {
      "text/plain": [
       "Predicted  False  True  __all__\n",
       "Actual                         \n",
       "False       5256   269     5525\n",
       "True         628  4897     5525\n",
       "__all__     5884  5166    11050"
      ]
     },
     "metadata": {},
     "output_type": "display_data"
    },
    {
     "name": "stdout",
     "output_type": "stream",
     "text": [
      "Accuracy of the model for test data is: 0.93414581997\n",
      "Confusion Matrix for test data is:\n"
     ]
    },
    {
     "data": {
      "text/plain": [
       "Predicted  False  True  __all__\n",
       "Actual                         \n",
       "False       7520   465     7985\n",
       "True         151  1218     1369\n",
       "__all__     7671  1683     9354"
      ]
     },
     "metadata": {},
     "output_type": "display_data"
    },
    {
     "data": {
      "application/vnd.plotly.v1+json": {
       "config": {
        "linkText": "Export to plot.ly",
        "plotlyServerURL": "https://plot.ly",
        "showLink": true
       },
       "data": [
        {
         "marker": {
          "color": "rgb(158,202,225)",
          "line": {
           "color": "rgb(8,48,107)",
           "width": 1.5
          }
         },
         "opacity": 0.6,
         "orientation": "h",
         "text": [
          0.4013,
          0.2673,
          0.0585,
          0.0505,
          0.0477,
          0.0391,
          0.0235,
          0.0211,
          0.0147,
          0.0123,
          0.0117,
          0.0086,
          0.0063,
          0.0056,
          0.0038,
          0.0036,
          0.0024,
          0.0021,
          0.002,
          0.0016,
          0.0014,
          0.0014,
          0.0013,
          0.0012,
          0.0011,
          0.001,
          0.0008,
          0.0008,
          0.0008,
          0.0007,
          0.0007,
          0.0006,
          0.0005,
          0.0005,
          0.0005,
          0.0004,
          0.0003,
          0.0003,
          0.0003,
          0.0002,
          0.0002,
          0.0002,
          0.0002,
          0.0002,
          0.0001,
          0.0001,
          0.0001,
          0.0001,
          0.0001,
          0.0001,
          0,
          0,
          0,
          0,
          0,
          0,
          0,
          0
         ],
         "textposition": "outside",
         "type": "bar",
         "uid": "c631713e-e2f3-45aa-a9b0-3be3eb00c309",
         "x": [
          0.4013240331524207,
          0.26734277615413216,
          0.05853823692483513,
          0.05045828364807009,
          0.04766564892149417,
          0.03909307606567398,
          0.023491434926782413,
          0.021144906764707698,
          0.014699449981045646,
          0.012266436154903361,
          0.011749275735038096,
          0.008551250274352305,
          0.006336007425148406,
          0.00557291214002572,
          0.0037630741195142183,
          0.0035967417526255804,
          0.002426034153660858,
          0.0021187343270143606,
          0.001987996378198182,
          0.0015961677177204214,
          0.0014426538003262184,
          0.0013754137511260854,
          0.0012900201146977173,
          0.001237489211180137,
          0.0011026912030793455,
          0.0010186692889058125,
          0.0008438929267413997,
          0.0007941015023179692,
          0.0007758371715425161,
          0.0007189741986021834,
          0.0007107782332841647,
          0.0006386213211041957,
          0.0005231628367596166,
          0.0004794644320618873,
          0.00045273273702404386,
          0.0003520402728861018,
          0.00030381204657990176,
          0.00029362494932253414,
          0.0002825483083257396,
          0.00023768545922270618,
          0.00022928898629307568,
          0.00019876260948110613,
          0.00019811059870216376,
          0.00017832136686694126,
          0.00013059091176606324,
          0.00012167872312528161,
          0.000118438049561491,
          8.83119499670659e-05,
          7.633821172895774e-05,
          6.346811005420625e-05,
          0,
          0,
          0,
          0,
          0,
          0,
          0,
          0
         ],
         "y": [
          "url_length",
          "url_extensions",
          "url_number_special_chars",
          "url_char_/",
          "z_average",
          "url_char_.",
          "w_average",
          "url_number_digits/url_length",
          "b_average",
          "m_average",
          "o_average",
          "url_number_digits",
          "url_tlds",
          "url_number_consonants",
          "i_average",
          "r_average",
          "n_average",
          "a_average",
          "c_average",
          "url_number_special_chars/url_length",
          "y_average",
          "q_average",
          "url_number_vowels",
          "d_average",
          "g_average",
          "f_average",
          "9_average",
          "x_average",
          "t_average",
          "e_average",
          "url_number_vowels/url_length",
          "s_average",
          "0_average",
          "h_average",
          "p_average",
          "k_average",
          "v_average",
          "u_average",
          "l_average",
          "6_average",
          "url_char_-",
          "3_average",
          "5_average",
          "j_average",
          "8_average",
          "7_average",
          "url_number_consonants/url_length",
          "4_average",
          "1_average",
          "2_average",
          "url_char_:",
          "url_char_+",
          "url_char_=",
          "url_char_?",
          "url_char__",
          "url_port",
          "url_char_&",
          "url_char_%"
         ]
        }
       ],
       "layout": {
        "autosize": false,
        "height": 1000,
        "width": 1000,
        "xaxis": {
         "tickfont": {
          "color": "black",
          "size": 12
         },
         "title": "Feature Importances"
        },
        "yaxis": {
         "automargin": true
        }
       }
      },
      "text/html": [
       "<div id=\"1d3d0ebd-916f-4253-84a6-8771aa9b4997\" style=\"height: 1000px; width: 1000px;\" class=\"plotly-graph-div\"></div><script type=\"text/javascript\">require([\"plotly\"], function(Plotly) { window.PLOTLYENV=window.PLOTLYENV || {};window.PLOTLYENV.BASE_URL=\"https://plot.ly\";Plotly.newPlot(\"1d3d0ebd-916f-4253-84a6-8771aa9b4997\", [{\"marker\": {\"color\": \"rgb(158,202,225)\", \"line\": {\"color\": \"rgb(8,48,107)\", \"width\": 1.5}}, \"opacity\": 0.6, \"orientation\": \"h\", \"text\": [0.4013, 0.2673, 0.0585, 0.0505, 0.0477, 0.0391, 0.0235, 0.0211, 0.0147, 0.0123, 0.0117, 0.0086, 0.0063, 0.0056, 0.0038, 0.0036, 0.0024, 0.0021, 0.002, 0.0016, 0.0014, 0.0014, 0.0013, 0.0012, 0.0011, 0.001, 0.0008, 0.0008, 0.0008, 0.0007, 0.0007, 0.0006, 0.0005, 0.0005, 0.0005, 0.0004, 0.0003, 0.0003, 0.0003, 0.0002, 0.0002, 0.0002, 0.0002, 0.0002, 0.0001, 0.0001, 0.0001, 0.0001, 0.0001, 0.0001, 0.0, 0.0, 0.0, 0.0, 0.0, 0.0, 0.0, 0.0], \"textposition\": \"outside\", \"x\": [0.4013240331524207, 0.26734277615413216, 0.05853823692483513, 0.05045828364807009, 0.04766564892149417, 0.03909307606567398, 0.023491434926782413, 0.021144906764707698, 0.014699449981045646, 0.012266436154903361, 0.011749275735038096, 0.008551250274352305, 0.006336007425148406, 0.00557291214002572, 0.0037630741195142183, 0.0035967417526255804, 0.002426034153660858, 0.0021187343270143606, 0.001987996378198182, 0.0015961677177204214, 0.0014426538003262184, 0.0013754137511260854, 0.0012900201146977173, 0.001237489211180137, 0.0011026912030793455, 0.0010186692889058125, 0.0008438929267413997, 0.0007941015023179692, 0.0007758371715425161, 0.0007189741986021834, 0.0007107782332841647, 0.0006386213211041957, 0.0005231628367596166, 0.0004794644320618873, 0.00045273273702404386, 0.0003520402728861018, 0.00030381204657990176, 0.00029362494932253414, 0.0002825483083257396, 0.00023768545922270618, 0.00022928898629307568, 0.00019876260948110613, 0.00019811059870216376, 0.00017832136686694126, 0.00013059091176606324, 0.00012167872312528161, 0.000118438049561491, 8.83119499670659e-05, 7.633821172895774e-05, 6.346811005420625e-05, 0.0, 0.0, 0.0, 0.0, 0.0, 0.0, 0.0, 0.0], \"y\": [\"url_length\", \"url_extensions\", \"url_number_special_chars\", \"url_char_/\", \"z_average\", \"url_char_.\", \"w_average\", \"url_number_digits/url_length\", \"b_average\", \"m_average\", \"o_average\", \"url_number_digits\", \"url_tlds\", \"url_number_consonants\", \"i_average\", \"r_average\", \"n_average\", \"a_average\", \"c_average\", \"url_number_special_chars/url_length\", \"y_average\", \"q_average\", \"url_number_vowels\", \"d_average\", \"g_average\", \"f_average\", \"9_average\", \"x_average\", \"t_average\", \"e_average\", \"url_number_vowels/url_length\", \"s_average\", \"0_average\", \"h_average\", \"p_average\", \"k_average\", \"v_average\", \"u_average\", \"l_average\", \"6_average\", \"url_char_-\", \"3_average\", \"5_average\", \"j_average\", \"8_average\", \"7_average\", \"url_number_consonants/url_length\", \"4_average\", \"1_average\", \"2_average\", \"url_char_:\", \"url_char_+\", \"url_char_=\", \"url_char_?\", \"url_char__\", \"url_port\", \"url_char_&\", \"url_char_%\"], \"type\": \"bar\", \"uid\": \"c631713e-e2f3-45aa-a9b0-3be3eb00c309\"}], {\"autosize\": false, \"height\": 1000, \"width\": 1000, \"xaxis\": {\"tickfont\": {\"color\": \"black\", \"size\": 12}, \"title\": \"Feature Importances\"}, \"yaxis\": {\"automargin\": true}}, {\"showLink\": true, \"linkText\": \"Export to plot.ly\", \"plotlyServerURL\": \"https://plot.ly\"})});</script>"
      ],
      "text/vnd.plotly.v1+html": [
       "<div id=\"1d3d0ebd-916f-4253-84a6-8771aa9b4997\" style=\"height: 1000px; width: 1000px;\" class=\"plotly-graph-div\"></div><script type=\"text/javascript\">require([\"plotly\"], function(Plotly) { window.PLOTLYENV=window.PLOTLYENV || {};window.PLOTLYENV.BASE_URL=\"https://plot.ly\";Plotly.newPlot(\"1d3d0ebd-916f-4253-84a6-8771aa9b4997\", [{\"marker\": {\"color\": \"rgb(158,202,225)\", \"line\": {\"color\": \"rgb(8,48,107)\", \"width\": 1.5}}, \"opacity\": 0.6, \"orientation\": \"h\", \"text\": [0.4013, 0.2673, 0.0585, 0.0505, 0.0477, 0.0391, 0.0235, 0.0211, 0.0147, 0.0123, 0.0117, 0.0086, 0.0063, 0.0056, 0.0038, 0.0036, 0.0024, 0.0021, 0.002, 0.0016, 0.0014, 0.0014, 0.0013, 0.0012, 0.0011, 0.001, 0.0008, 0.0008, 0.0008, 0.0007, 0.0007, 0.0006, 0.0005, 0.0005, 0.0005, 0.0004, 0.0003, 0.0003, 0.0003, 0.0002, 0.0002, 0.0002, 0.0002, 0.0002, 0.0001, 0.0001, 0.0001, 0.0001, 0.0001, 0.0001, 0.0, 0.0, 0.0, 0.0, 0.0, 0.0, 0.0, 0.0], \"textposition\": \"outside\", \"x\": [0.4013240331524207, 0.26734277615413216, 0.05853823692483513, 0.05045828364807009, 0.04766564892149417, 0.03909307606567398, 0.023491434926782413, 0.021144906764707698, 0.014699449981045646, 0.012266436154903361, 0.011749275735038096, 0.008551250274352305, 0.006336007425148406, 0.00557291214002572, 0.0037630741195142183, 0.0035967417526255804, 0.002426034153660858, 0.0021187343270143606, 0.001987996378198182, 0.0015961677177204214, 0.0014426538003262184, 0.0013754137511260854, 0.0012900201146977173, 0.001237489211180137, 0.0011026912030793455, 0.0010186692889058125, 0.0008438929267413997, 0.0007941015023179692, 0.0007758371715425161, 0.0007189741986021834, 0.0007107782332841647, 0.0006386213211041957, 0.0005231628367596166, 0.0004794644320618873, 0.00045273273702404386, 0.0003520402728861018, 0.00030381204657990176, 0.00029362494932253414, 0.0002825483083257396, 0.00023768545922270618, 0.00022928898629307568, 0.00019876260948110613, 0.00019811059870216376, 0.00017832136686694126, 0.00013059091176606324, 0.00012167872312528161, 0.000118438049561491, 8.83119499670659e-05, 7.633821172895774e-05, 6.346811005420625e-05, 0.0, 0.0, 0.0, 0.0, 0.0, 0.0, 0.0, 0.0], \"y\": [\"url_length\", \"url_extensions\", \"url_number_special_chars\", \"url_char_/\", \"z_average\", \"url_char_.\", \"w_average\", \"url_number_digits/url_length\", \"b_average\", \"m_average\", \"o_average\", \"url_number_digits\", \"url_tlds\", \"url_number_consonants\", \"i_average\", \"r_average\", \"n_average\", \"a_average\", \"c_average\", \"url_number_special_chars/url_length\", \"y_average\", \"q_average\", \"url_number_vowels\", \"d_average\", \"g_average\", \"f_average\", \"9_average\", \"x_average\", \"t_average\", \"e_average\", \"url_number_vowels/url_length\", \"s_average\", \"0_average\", \"h_average\", \"p_average\", \"k_average\", \"v_average\", \"u_average\", \"l_average\", \"6_average\", \"url_char_-\", \"3_average\", \"5_average\", \"j_average\", \"8_average\", \"7_average\", \"url_number_consonants/url_length\", \"4_average\", \"1_average\", \"2_average\", \"url_char_:\", \"url_char_+\", \"url_char_=\", \"url_char_?\", \"url_char__\", \"url_port\", \"url_char_&\", \"url_char_%\"], \"type\": \"bar\", \"uid\": \"c631713e-e2f3-45aa-a9b0-3be3eb00c309\"}], {\"autosize\": false, \"height\": 1000, \"width\": 1000, \"xaxis\": {\"tickfont\": {\"color\": \"black\", \"size\": 12}, \"title\": \"Feature Importances\"}, \"yaxis\": {\"automargin\": true}}, {\"showLink\": true, \"linkText\": \"Export to plot.ly\", \"plotlyServerURL\": \"https://plot.ly\"})});</script>"
      ]
     },
     "metadata": {},
     "output_type": "display_data"
    },
    {
     "name": "stdout",
     "output_type": "stream",
     "text": [
      "\n",
      "\n",
      "\u001b[1mExtraTree Classifier\u001b[0m\n",
      "Accuracy of the model for training data is: 1.0\n",
      "Confusion Matrix for training data is:\n"
     ]
    },
    {
     "data": {
      "text/plain": [
       "Predicted  False  True  __all__\n",
       "Actual                         \n",
       "False       5525     0     5525\n",
       "True           0  5525     5525\n",
       "__all__     5525  5525    11050"
      ]
     },
     "metadata": {},
     "output_type": "display_data"
    },
    {
     "name": "stdout",
     "output_type": "stream",
     "text": [
      "Accuracy of the model for test data is: 0.941949967928\n",
      "Confusion Matrix for test data is:\n"
     ]
    },
    {
     "data": {
      "text/plain": [
       "Predicted  False  True  __all__\n",
       "Actual                         \n",
       "False       7607   378     7985\n",
       "True         165  1204     1369\n",
       "__all__     7772  1582     9354"
      ]
     },
     "metadata": {},
     "output_type": "display_data"
    },
    {
     "data": {
      "application/vnd.plotly.v1+json": {
       "config": {
        "linkText": "Export to plot.ly",
        "plotlyServerURL": "https://plot.ly",
        "showLink": true
       },
       "data": [
        {
         "marker": {
          "color": "rgb(158,202,225)",
          "line": {
           "color": "rgb(8,48,107)",
           "width": 1.5
          }
         },
         "opacity": 0.6,
         "orientation": "h",
         "text": [
          0.1004,
          0.0829,
          0.0603,
          0.057,
          0.0368,
          0.0362,
          0.0361,
          0.0348,
          0.0329,
          0.0313,
          0.0309,
          0.0295,
          0.0262,
          0.0233,
          0.0216,
          0.021,
          0.02,
          0.0199,
          0.019,
          0.018,
          0.0176,
          0.0156,
          0.0151,
          0.015,
          0.015,
          0.0144,
          0.0142,
          0.0137,
          0.0131,
          0.0121,
          0.0118,
          0.0117,
          0.0103,
          0.0096,
          0.0093,
          0.0091,
          0.0078,
          0.0067,
          0.0064,
          0.0053,
          0.0048,
          0.0044,
          0.0042,
          0.0028,
          0.0026,
          0.0023,
          0.0021,
          0.0019,
          0.0014,
          0.0014,
          0.0001,
          0,
          0,
          0,
          0,
          0,
          0,
          0
         ],
         "textposition": "outside",
         "type": "bar",
         "uid": "99a5c6d4-a1c1-4a71-b5f0-d3dc0c71cc5f",
         "x": [
          0.10035493658976011,
          0.08286274852199613,
          0.06032671858957037,
          0.05699940076961946,
          0.03675515376420536,
          0.03616764207967945,
          0.036143128136705394,
          0.03484374599574622,
          0.03287217612836192,
          0.03130515195499055,
          0.03094600020681062,
          0.02954873332942446,
          0.026234597322983822,
          0.023340127068088936,
          0.021632834804734373,
          0.02102538512712091,
          0.01995963906458909,
          0.01992603900294631,
          0.01903660132874451,
          0.01803528779352907,
          0.017556529170032018,
          0.01563527287863236,
          0.015087334898003377,
          0.01504911711007691,
          0.015026553624159006,
          0.014379692303384681,
          0.014178041840070372,
          0.013672703612048337,
          0.013123563420783016,
          0.012130298750644402,
          0.01177672805924886,
          0.011718510395524902,
          0.010252201797221748,
          0.009590907364535658,
          0.009323829495506187,
          0.009145198898322434,
          0.00783507273051413,
          0.006739850978750262,
          0.006412391591992096,
          0.005255945232463392,
          0.004814909097462459,
          0.0044102514116825635,
          0.004151780337281424,
          0.00277846513277812,
          0.0025999651263574,
          0.002280221697091015,
          0.0020607612622107504,
          0.001850157699494731,
          0.0013979918865501258,
          0.0013651813035537703,
          7.229702959745669e-05,
          8.563280756025629e-06,
          3.663003663003678e-06,
          0,
          0,
          0,
          0,
          0
         ],
         "y": [
          "url_extensions",
          "url_char_.",
          "url_length",
          "url_number_consonants",
          "url_number_special_chars",
          "url_number_vowels",
          "m_average",
          "url_tlds",
          "c_average",
          "url_char_/",
          "w_average",
          "o_average",
          "url_number_special_chars/url_length",
          "url_number_vowels/url_length",
          "z_average",
          "u_average",
          "url_number_digits/url_length",
          "x_average",
          "url_number_consonants/url_length",
          "i_average",
          "l_average",
          "s_average",
          "r_average",
          "n_average",
          "e_average",
          "b_average",
          "a_average",
          "t_average",
          "g_average",
          "d_average",
          "y_average",
          "p_average",
          "url_number_digits",
          "h_average",
          "v_average",
          "f_average",
          "k_average",
          "j_average",
          "6_average",
          "2_average",
          "url_char_-",
          "q_average",
          "5_average",
          "8_average",
          "0_average",
          "7_average",
          "1_average",
          "4_average",
          "9_average",
          "3_average",
          "url_port",
          "url_char_?",
          "url_char_:",
          "url_char_&",
          "url_char__",
          "url_char_=",
          "url_char_+",
          "url_char_%"
         ]
        }
       ],
       "layout": {
        "autosize": false,
        "height": 1000,
        "width": 1000,
        "xaxis": {
         "tickfont": {
          "color": "black",
          "size": 12
         },
         "title": "Feature Importances"
        },
        "yaxis": {
         "automargin": true
        }
       }
      },
      "text/html": [
       "<div id=\"aadaa760-8012-40f5-83ad-b8f5a9a389cb\" style=\"height: 1000px; width: 1000px;\" class=\"plotly-graph-div\"></div><script type=\"text/javascript\">require([\"plotly\"], function(Plotly) { window.PLOTLYENV=window.PLOTLYENV || {};window.PLOTLYENV.BASE_URL=\"https://plot.ly\";Plotly.newPlot(\"aadaa760-8012-40f5-83ad-b8f5a9a389cb\", [{\"marker\": {\"color\": \"rgb(158,202,225)\", \"line\": {\"color\": \"rgb(8,48,107)\", \"width\": 1.5}}, \"opacity\": 0.6, \"orientation\": \"h\", \"text\": [0.1004, 0.0829, 0.0603, 0.057, 0.0368, 0.0362, 0.0361, 0.0348, 0.0329, 0.0313, 0.0309, 0.0295, 0.0262, 0.0233, 0.0216, 0.021, 0.02, 0.0199, 0.019, 0.018, 0.0176, 0.0156, 0.0151, 0.015, 0.015, 0.0144, 0.0142, 0.0137, 0.0131, 0.0121, 0.0118, 0.0117, 0.0103, 0.0096, 0.0093, 0.0091, 0.0078, 0.0067, 0.0064, 0.0053, 0.0048, 0.0044, 0.0042, 0.0028, 0.0026, 0.0023, 0.0021, 0.0019, 0.0014, 0.0014, 0.0001, 0.0, 0.0, 0.0, 0.0, 0.0, 0.0, 0.0], \"textposition\": \"outside\", \"x\": [0.10035493658976011, 0.08286274852199613, 0.06032671858957037, 0.05699940076961946, 0.03675515376420536, 0.03616764207967945, 0.036143128136705394, 0.03484374599574622, 0.03287217612836192, 0.03130515195499055, 0.03094600020681062, 0.02954873332942446, 0.026234597322983822, 0.023340127068088936, 0.021632834804734373, 0.02102538512712091, 0.01995963906458909, 0.01992603900294631, 0.01903660132874451, 0.01803528779352907, 0.017556529170032018, 0.01563527287863236, 0.015087334898003377, 0.01504911711007691, 0.015026553624159006, 0.014379692303384681, 0.014178041840070372, 0.013672703612048337, 0.013123563420783016, 0.012130298750644402, 0.01177672805924886, 0.011718510395524902, 0.010252201797221748, 0.009590907364535658, 0.009323829495506187, 0.009145198898322434, 0.00783507273051413, 0.006739850978750262, 0.006412391591992096, 0.005255945232463392, 0.004814909097462459, 0.0044102514116825635, 0.004151780337281424, 0.00277846513277812, 0.0025999651263574, 0.002280221697091015, 0.0020607612622107504, 0.001850157699494731, 0.0013979918865501258, 0.0013651813035537703, 7.229702959745669e-05, 8.563280756025629e-06, 3.663003663003678e-06, 0.0, 0.0, 0.0, 0.0, 0.0], \"y\": [\"url_extensions\", \"url_char_.\", \"url_length\", \"url_number_consonants\", \"url_number_special_chars\", \"url_number_vowels\", \"m_average\", \"url_tlds\", \"c_average\", \"url_char_/\", \"w_average\", \"o_average\", \"url_number_special_chars/url_length\", \"url_number_vowels/url_length\", \"z_average\", \"u_average\", \"url_number_digits/url_length\", \"x_average\", \"url_number_consonants/url_length\", \"i_average\", \"l_average\", \"s_average\", \"r_average\", \"n_average\", \"e_average\", \"b_average\", \"a_average\", \"t_average\", \"g_average\", \"d_average\", \"y_average\", \"p_average\", \"url_number_digits\", \"h_average\", \"v_average\", \"f_average\", \"k_average\", \"j_average\", \"6_average\", \"2_average\", \"url_char_-\", \"q_average\", \"5_average\", \"8_average\", \"0_average\", \"7_average\", \"1_average\", \"4_average\", \"9_average\", \"3_average\", \"url_port\", \"url_char_?\", \"url_char_:\", \"url_char_&\", \"url_char__\", \"url_char_=\", \"url_char_+\", \"url_char_%\"], \"type\": \"bar\", \"uid\": \"99a5c6d4-a1c1-4a71-b5f0-d3dc0c71cc5f\"}], {\"autosize\": false, \"height\": 1000, \"width\": 1000, \"xaxis\": {\"tickfont\": {\"color\": \"black\", \"size\": 12}, \"title\": \"Feature Importances\"}, \"yaxis\": {\"automargin\": true}}, {\"showLink\": true, \"linkText\": \"Export to plot.ly\", \"plotlyServerURL\": \"https://plot.ly\"})});</script>"
      ],
      "text/vnd.plotly.v1+html": [
       "<div id=\"aadaa760-8012-40f5-83ad-b8f5a9a389cb\" style=\"height: 1000px; width: 1000px;\" class=\"plotly-graph-div\"></div><script type=\"text/javascript\">require([\"plotly\"], function(Plotly) { window.PLOTLYENV=window.PLOTLYENV || {};window.PLOTLYENV.BASE_URL=\"https://plot.ly\";Plotly.newPlot(\"aadaa760-8012-40f5-83ad-b8f5a9a389cb\", [{\"marker\": {\"color\": \"rgb(158,202,225)\", \"line\": {\"color\": \"rgb(8,48,107)\", \"width\": 1.5}}, \"opacity\": 0.6, \"orientation\": \"h\", \"text\": [0.1004, 0.0829, 0.0603, 0.057, 0.0368, 0.0362, 0.0361, 0.0348, 0.0329, 0.0313, 0.0309, 0.0295, 0.0262, 0.0233, 0.0216, 0.021, 0.02, 0.0199, 0.019, 0.018, 0.0176, 0.0156, 0.0151, 0.015, 0.015, 0.0144, 0.0142, 0.0137, 0.0131, 0.0121, 0.0118, 0.0117, 0.0103, 0.0096, 0.0093, 0.0091, 0.0078, 0.0067, 0.0064, 0.0053, 0.0048, 0.0044, 0.0042, 0.0028, 0.0026, 0.0023, 0.0021, 0.0019, 0.0014, 0.0014, 0.0001, 0.0, 0.0, 0.0, 0.0, 0.0, 0.0, 0.0], \"textposition\": \"outside\", \"x\": [0.10035493658976011, 0.08286274852199613, 0.06032671858957037, 0.05699940076961946, 0.03675515376420536, 0.03616764207967945, 0.036143128136705394, 0.03484374599574622, 0.03287217612836192, 0.03130515195499055, 0.03094600020681062, 0.02954873332942446, 0.026234597322983822, 0.023340127068088936, 0.021632834804734373, 0.02102538512712091, 0.01995963906458909, 0.01992603900294631, 0.01903660132874451, 0.01803528779352907, 0.017556529170032018, 0.01563527287863236, 0.015087334898003377, 0.01504911711007691, 0.015026553624159006, 0.014379692303384681, 0.014178041840070372, 0.013672703612048337, 0.013123563420783016, 0.012130298750644402, 0.01177672805924886, 0.011718510395524902, 0.010252201797221748, 0.009590907364535658, 0.009323829495506187, 0.009145198898322434, 0.00783507273051413, 0.006739850978750262, 0.006412391591992096, 0.005255945232463392, 0.004814909097462459, 0.0044102514116825635, 0.004151780337281424, 0.00277846513277812, 0.0025999651263574, 0.002280221697091015, 0.0020607612622107504, 0.001850157699494731, 0.0013979918865501258, 0.0013651813035537703, 7.229702959745669e-05, 8.563280756025629e-06, 3.663003663003678e-06, 0.0, 0.0, 0.0, 0.0, 0.0], \"y\": [\"url_extensions\", \"url_char_.\", \"url_length\", \"url_number_consonants\", \"url_number_special_chars\", \"url_number_vowels\", \"m_average\", \"url_tlds\", \"c_average\", \"url_char_/\", \"w_average\", \"o_average\", \"url_number_special_chars/url_length\", \"url_number_vowels/url_length\", \"z_average\", \"u_average\", \"url_number_digits/url_length\", \"x_average\", \"url_number_consonants/url_length\", \"i_average\", \"l_average\", \"s_average\", \"r_average\", \"n_average\", \"e_average\", \"b_average\", \"a_average\", \"t_average\", \"g_average\", \"d_average\", \"y_average\", \"p_average\", \"url_number_digits\", \"h_average\", \"v_average\", \"f_average\", \"k_average\", \"j_average\", \"6_average\", \"2_average\", \"url_char_-\", \"q_average\", \"5_average\", \"8_average\", \"0_average\", \"7_average\", \"1_average\", \"4_average\", \"9_average\", \"3_average\", \"url_port\", \"url_char_?\", \"url_char_:\", \"url_char_&\", \"url_char__\", \"url_char_=\", \"url_char_+\", \"url_char_%\"], \"type\": \"bar\", \"uid\": \"99a5c6d4-a1c1-4a71-b5f0-d3dc0c71cc5f\"}], {\"autosize\": false, \"height\": 1000, \"width\": 1000, \"xaxis\": {\"tickfont\": {\"color\": \"black\", \"size\": 12}, \"title\": \"Feature Importances\"}, \"yaxis\": {\"automargin\": true}}, {\"showLink\": true, \"linkText\": \"Export to plot.ly\", \"plotlyServerURL\": \"https://plot.ly\"})});</script>"
      ]
     },
     "metadata": {},
     "output_type": "display_data"
    },
    {
     "name": "stdout",
     "output_type": "stream",
     "text": [
      "\n",
      "\n",
      "\u001b[1mBagging Classifier\u001b[0m\n",
      "Accuracy of the model for training data is: 0.989140271493\n",
      "Confusion Matrix for training data is:\n"
     ]
    },
    {
     "data": {
      "text/plain": [
       "Predicted  False  True  __all__\n",
       "Actual                         \n",
       "False       5507    18     5525\n",
       "True         102  5423     5525\n",
       "__all__     5609  5441    11050"
      ]
     },
     "metadata": {},
     "output_type": "display_data"
    },
    {
     "name": "stdout",
     "output_type": "stream",
     "text": [
      "Accuracy of the model for test data is: 0.938101347017\n",
      "Confusion Matrix for test data is:\n"
     ]
    },
    {
     "data": {
      "text/plain": [
       "Predicted  False  True  __all__\n",
       "Actual                         \n",
       "False       7565   420     7985\n",
       "True         159  1210     1369\n",
       "__all__     7724  1630     9354"
      ]
     },
     "metadata": {},
     "output_type": "display_data"
    },
    {
     "name": "stdout",
     "output_type": "stream",
     "text": [
      "\n",
      "\n",
      "\u001b[1mNeural Network-1\u001b[0m\n",
      "The accuracy of the model on training data is: 0.999909502262\n"
     ]
    },
    {
     "data": {
      "text/plain": [
       "Predicted  False  True  __all__\n",
       "Actual                         \n",
       "False       5525     0     5525\n",
       "True           1  5524     5525\n",
       "__all__     5526  5524    11050"
      ]
     },
     "metadata": {},
     "output_type": "display_data"
    },
    {
     "name": "stdout",
     "output_type": "stream",
     "text": [
      "The accuracy of the model on test data is: 0.895766516998\n"
     ]
    },
    {
     "data": {
      "text/plain": [
       "Predicted  False  True  __all__\n",
       "Actual                         \n",
       "False       7154   831     7985\n",
       "True         144  1225     1369\n",
       "__all__     7298  2056     9354"
      ]
     },
     "metadata": {},
     "output_type": "display_data"
    },
    {
     "name": "stdout",
     "output_type": "stream",
     "text": [
      "\n",
      "\n"
     ]
    }
   ],
   "source": [
    "feat_imp=[None]*4\n",
    "j=0\n",
    "for i in range(0,8):\n",
    "    if i>=2 and i<=5:\n",
    "        model,cm_train,cm_test,acc_train,acc_test,roc_auc,feat_imp[j],mcc=f[i](X_train,Y_train,scaled_X_test,test_Y,columns)\n",
    "        j=j+1\n",
    "    else:\n",
    "        model,cm_train,cm_test,acc_train,acc_test,roc_auc,mcc=f[i](X_train,Y_train,scaled_X_test,test_Y)\n",
    "    table_80_90_train.loc[i]=   ([acc_train,cm_train.TP,cm_train.TN,cm_train.FP,cm_train.FN,cm_train.FPR,cm_train.FNR])\n",
    "    table_80_90_test.loc[i] =   ([acc_test ,cm_test.TP, cm_test.TN, cm_test.FP, cm_test.FN, cm_test.FPR, cm_test.FNR,roc_auc,mcc])\n",
    "    print(\"\\n\")"
   ]
  },
  {
   "cell_type": "markdown",
   "metadata": {},
   "source": [
    "### <a id='3.A' style=\"text-decoration : none; color : #000000;\"> A. Results</a>"
   ]
  },
  {
   "cell_type": "code",
   "execution_count": 35,
   "metadata": {},
   "outputs": [
    {
     "data": {
      "application/vnd.plotly.v1+json": {
       "config": {
        "linkText": "Export to plot.ly",
        "plotlyServerURL": "https://plot.ly",
        "showLink": true
       },
       "data": [
        {
         "mode": "lines",
         "name": "KNN_model",
         "type": "scatter",
         "uid": "ce91c7cb-f0e8-4238-90da-3f177ac1d4df",
         "x": [
          "accuracy",
          "FPR",
          "FNR",
          "auc"
         ],
         "y": [
          0.926127859739149,
          0.0641202254226675,
          0.13075237399561723,
          0.9025637002908575
         ]
        },
        {
         "mode": "lines+markers",
         "name": "Logistic Regression",
         "type": "scatter",
         "uid": "242261eb-c1dd-4fff-81bd-19416c8bfda9",
         "x": [
          "accuracy",
          "FPR",
          "FNR",
          "auc"
         ],
         "y": [
          0.9279452640581569,
          0.06549780839073262,
          0.11029948867786706,
          0.9121013514657001
         ]
        },
        {
         "marker": {
          "symbol": "x"
         },
         "mode": "lines+markers",
         "name": "Random Forest",
         "type": "scatter",
         "uid": "8c7c435d-61ed-4fc8-98fc-aa68fdd2bdbf",
         "x": [
          "accuracy",
          "FPR",
          "FNR",
          "auc"
         ],
         "y": [
          0.9401325636091512,
          0.049467752035065746,
          0.12052593133674215,
          0.9150031583140961
         ]
        },
        {
         "mode": "lines",
         "name": "Ada Boost",
         "type": "scatter",
         "uid": "754a5b55-1792-4d1e-b4d7-082c280828d4",
         "x": [
          "accuracy",
          "FPR",
          "FNR",
          "auc"
         ],
         "y": [
          0.9165063074620483,
          0.0791484032561052,
          0.10883856829802775,
          0.9060065142229335
         ]
        },
        {
         "mode": "lines+markers",
         "name": "GradientBoosting",
         "type": "scatter",
         "uid": "08d4a802-c163-4af4-a71d-cab1b034755c",
         "x": [
          "accuracy",
          "FPR",
          "FNR",
          "auc"
         ],
         "y": [
          0.9341458199700663,
          0.05823418910457107,
          0.11029948867786706,
          0.9157331611087809
         ]
        },
        {
         "marker": {
          "symbol": "x"
         },
         "mode": "lines+markers",
         "name": "ExtraTree Classifier",
         "type": "scatter",
         "uid": "3ca13dd4-ca42-45c2-9301-59cb745af8ae",
         "x": [
          "accuracy",
          "FPR",
          "FNR",
          "auc"
         ],
         "y": [
          0.9419499679281591,
          0.04733876017532874,
          0.12052593133674215,
          0.9160676542439645
         ]
        },
        {
         "marker": {
          "symbol": "x"
         },
         "mode": "lines+markers",
         "name": "Bagging",
         "type": "scatter",
         "uid": "06194700-5b1e-48e7-9c40-89e92d456b9a",
         "x": [
          "accuracy",
          "FPR",
          "FNR",
          "auc"
         ],
         "y": [
          0.9381013470173188,
          0.052598622417031934,
          0.11614317019722425,
          0.9156291036928719
         ]
        },
        {
         "marker": {
          "symbol": "x"
         },
         "mode": "lines+markers",
         "name": "Neural Network",
         "type": "scatter",
         "uid": "ccdc6e4f-846b-4f57-a785-d1dfcc33330d",
         "x": [
          "accuracy",
          "FPR",
          "FNR",
          "auc"
         ],
         "y": [
          0.8957665169980756,
          0.10407013149655604,
          0.10518626734842951,
          0.9156291036928719
         ]
        }
       ],
       "layout": {
        "title": "Result comparision for Features selected in Section 1",
        "yaxis": {
         "dtick": 0.05,
         "tick0": 0
        }
       }
      },
      "text/html": [
       "<div id=\"bb2ca09f-9c05-4729-96b8-edd3bf502c85\" style=\"height: 525px; width: 100%;\" class=\"plotly-graph-div\"></div><script type=\"text/javascript\">require([\"plotly\"], function(Plotly) { window.PLOTLYENV=window.PLOTLYENV || {};window.PLOTLYENV.BASE_URL=\"https://plot.ly\";Plotly.newPlot(\"bb2ca09f-9c05-4729-96b8-edd3bf502c85\", [{\"mode\": \"lines\", \"name\": \"KNN_model\", \"x\": [\"accuracy\", \"FPR\", \"FNR\", \"auc\"], \"y\": [0.926127859739149, 0.0641202254226675, 0.13075237399561723, 0.9025637002908575], \"type\": \"scatter\", \"uid\": \"ce91c7cb-f0e8-4238-90da-3f177ac1d4df\"}, {\"mode\": \"lines+markers\", \"name\": \"Logistic Regression\", \"x\": [\"accuracy\", \"FPR\", \"FNR\", \"auc\"], \"y\": [0.9279452640581569, 0.06549780839073262, 0.11029948867786706, 0.9121013514657001], \"type\": \"scatter\", \"uid\": \"242261eb-c1dd-4fff-81bd-19416c8bfda9\"}, {\"marker\": {\"symbol\": \"x\"}, \"mode\": \"lines+markers\", \"name\": \"Random Forest\", \"x\": [\"accuracy\", \"FPR\", \"FNR\", \"auc\"], \"y\": [0.9401325636091512, 0.049467752035065746, 0.12052593133674215, 0.9150031583140961], \"type\": \"scatter\", \"uid\": \"8c7c435d-61ed-4fc8-98fc-aa68fdd2bdbf\"}, {\"mode\": \"lines\", \"name\": \"Ada Boost\", \"x\": [\"accuracy\", \"FPR\", \"FNR\", \"auc\"], \"y\": [0.9165063074620483, 0.0791484032561052, 0.10883856829802775, 0.9060065142229335], \"type\": \"scatter\", \"uid\": \"754a5b55-1792-4d1e-b4d7-082c280828d4\"}, {\"mode\": \"lines+markers\", \"name\": \"GradientBoosting\", \"x\": [\"accuracy\", \"FPR\", \"FNR\", \"auc\"], \"y\": [0.9341458199700663, 0.05823418910457107, 0.11029948867786706, 0.9157331611087809], \"type\": \"scatter\", \"uid\": \"08d4a802-c163-4af4-a71d-cab1b034755c\"}, {\"marker\": {\"symbol\": \"x\"}, \"mode\": \"lines+markers\", \"name\": \"ExtraTree Classifier\", \"x\": [\"accuracy\", \"FPR\", \"FNR\", \"auc\"], \"y\": [0.9419499679281591, 0.04733876017532874, 0.12052593133674215, 0.9160676542439645], \"type\": \"scatter\", \"uid\": \"3ca13dd4-ca42-45c2-9301-59cb745af8ae\"}, {\"marker\": {\"symbol\": \"x\"}, \"mode\": \"lines+markers\", \"name\": \"Bagging\", \"x\": [\"accuracy\", \"FPR\", \"FNR\", \"auc\"], \"y\": [0.9381013470173188, 0.052598622417031934, 0.11614317019722425, 0.9156291036928719], \"type\": \"scatter\", \"uid\": \"06194700-5b1e-48e7-9c40-89e92d456b9a\"}, {\"marker\": {\"symbol\": \"x\"}, \"mode\": \"lines+markers\", \"name\": \"Neural Network\", \"x\": [\"accuracy\", \"FPR\", \"FNR\", \"auc\"], \"y\": [0.8957665169980756, 0.10407013149655604, 0.10518626734842951, 0.9156291036928719], \"type\": \"scatter\", \"uid\": \"ccdc6e4f-846b-4f57-a785-d1dfcc33330d\"}], {\"title\": \"Result comparision for Features selected in Section 1\", \"yaxis\": {\"dtick\": 0.05, \"tick0\": 0}}, {\"showLink\": true, \"linkText\": \"Export to plot.ly\", \"plotlyServerURL\": \"https://plot.ly\"})});</script><script type=\"text/javascript\">window.addEventListener(\"resize\", function(){window._Plotly.Plots.resize(document.getElementById(\"bb2ca09f-9c05-4729-96b8-edd3bf502c85\"));});</script>"
      ],
      "text/vnd.plotly.v1+html": [
       "<div id=\"bb2ca09f-9c05-4729-96b8-edd3bf502c85\" style=\"height: 525px; width: 100%;\" class=\"plotly-graph-div\"></div><script type=\"text/javascript\">require([\"plotly\"], function(Plotly) { window.PLOTLYENV=window.PLOTLYENV || {};window.PLOTLYENV.BASE_URL=\"https://plot.ly\";Plotly.newPlot(\"bb2ca09f-9c05-4729-96b8-edd3bf502c85\", [{\"mode\": \"lines\", \"name\": \"KNN_model\", \"x\": [\"accuracy\", \"FPR\", \"FNR\", \"auc\"], \"y\": [0.926127859739149, 0.0641202254226675, 0.13075237399561723, 0.9025637002908575], \"type\": \"scatter\", \"uid\": \"ce91c7cb-f0e8-4238-90da-3f177ac1d4df\"}, {\"mode\": \"lines+markers\", \"name\": \"Logistic Regression\", \"x\": [\"accuracy\", \"FPR\", \"FNR\", \"auc\"], \"y\": [0.9279452640581569, 0.06549780839073262, 0.11029948867786706, 0.9121013514657001], \"type\": \"scatter\", \"uid\": \"242261eb-c1dd-4fff-81bd-19416c8bfda9\"}, {\"marker\": {\"symbol\": \"x\"}, \"mode\": \"lines+markers\", \"name\": \"Random Forest\", \"x\": [\"accuracy\", \"FPR\", \"FNR\", \"auc\"], \"y\": [0.9401325636091512, 0.049467752035065746, 0.12052593133674215, 0.9150031583140961], \"type\": \"scatter\", \"uid\": \"8c7c435d-61ed-4fc8-98fc-aa68fdd2bdbf\"}, {\"mode\": \"lines\", \"name\": \"Ada Boost\", \"x\": [\"accuracy\", \"FPR\", \"FNR\", \"auc\"], \"y\": [0.9165063074620483, 0.0791484032561052, 0.10883856829802775, 0.9060065142229335], \"type\": \"scatter\", \"uid\": \"754a5b55-1792-4d1e-b4d7-082c280828d4\"}, {\"mode\": \"lines+markers\", \"name\": \"GradientBoosting\", \"x\": [\"accuracy\", \"FPR\", \"FNR\", \"auc\"], \"y\": [0.9341458199700663, 0.05823418910457107, 0.11029948867786706, 0.9157331611087809], \"type\": \"scatter\", \"uid\": \"08d4a802-c163-4af4-a71d-cab1b034755c\"}, {\"marker\": {\"symbol\": \"x\"}, \"mode\": \"lines+markers\", \"name\": \"ExtraTree Classifier\", \"x\": [\"accuracy\", \"FPR\", \"FNR\", \"auc\"], \"y\": [0.9419499679281591, 0.04733876017532874, 0.12052593133674215, 0.9160676542439645], \"type\": \"scatter\", \"uid\": \"3ca13dd4-ca42-45c2-9301-59cb745af8ae\"}, {\"marker\": {\"symbol\": \"x\"}, \"mode\": \"lines+markers\", \"name\": \"Bagging\", \"x\": [\"accuracy\", \"FPR\", \"FNR\", \"auc\"], \"y\": [0.9381013470173188, 0.052598622417031934, 0.11614317019722425, 0.9156291036928719], \"type\": \"scatter\", \"uid\": \"06194700-5b1e-48e7-9c40-89e92d456b9a\"}, {\"marker\": {\"symbol\": \"x\"}, \"mode\": \"lines+markers\", \"name\": \"Neural Network\", \"x\": [\"accuracy\", \"FPR\", \"FNR\", \"auc\"], \"y\": [0.8957665169980756, 0.10407013149655604, 0.10518626734842951, 0.9156291036928719], \"type\": \"scatter\", \"uid\": \"ccdc6e4f-846b-4f57-a785-d1dfcc33330d\"}], {\"title\": \"Result comparision for Features selected in Section 1\", \"yaxis\": {\"dtick\": 0.05, \"tick0\": 0}}, {\"showLink\": true, \"linkText\": \"Export to plot.ly\", \"plotlyServerURL\": \"https://plot.ly\"})});</script><script type=\"text/javascript\">window.addEventListener(\"resize\", function(){window._Plotly.Plots.resize(document.getElementById(\"bb2ca09f-9c05-4729-96b8-edd3bf502c85\"));});</script>"
      ]
     },
     "metadata": {},
     "output_type": "display_data"
    }
   ],
   "source": [
    "trace0 = go.Scatter(x=table_80_90_test.iloc[0].index.values[[0,5,6,7]],\n",
    "                    y=table_80_90_test.iloc[0].values[[0,5,6,7]],\n",
    "                    mode = 'lines',\n",
    "                    name = 'KNN_model')\n",
    "\n",
    "trace1 = go.Scatter(x=table_80_90_test.iloc[1].index.values[[0,5,6,7]],\n",
    "                    y=table_80_90_test.iloc[1].values[[0,5,6,7]],\n",
    "                    mode = 'lines+markers',\n",
    "                    name = 'Logistic Regression')\n",
    "\n",
    "trace2 = go.Scatter(x=table_80_90_test.iloc[2].index.values[[0,5,6,7]],\n",
    "                    y=table_80_90_test.iloc[2].values[[0,5,6,7]],\n",
    "                    mode = 'lines+markers',marker=dict(symbol='x'),\n",
    "                    name = 'Random Forest')\n",
    "\n",
    "\n",
    "trace3 = go.Scatter(x=table_80_90_test.iloc[3].index.values[[0,5,6,7]],\n",
    "                    y=table_80_90_test.iloc[3].values[[0,5,6,7]],\n",
    "                    mode = 'lines',\n",
    "                    name = 'Ada Boost')\n",
    "\n",
    "trace4 = go.Scatter(x=table_80_90_test.iloc[4].index.values[[0,5,6,7]],\n",
    "                    y=table_80_90_test.iloc[4].values[[0,5,6,7]],\n",
    "                    mode = 'lines+markers',\n",
    "                    name = 'GradientBoosting')\n",
    "\n",
    "trace5 = go.Scatter(x=table_80_90_test.iloc[5].index.values[[0,5,6,7]],\n",
    "                    y=table_80_90_test.iloc[5].values[[0,5,6,7]],\n",
    "                    mode = 'lines+markers',marker=dict(symbol='x'),\n",
    "                    name = 'ExtraTree Classifier')\n",
    "\n",
    "trace6 = go.Scatter(x=table_80_90_test.iloc[6].index.values[[0,5,6,7]],\n",
    "                    y=table_80_90_test.iloc[6].values[[0,5,6,7]],\n",
    "                    mode = 'lines+markers',marker=dict(symbol='x'),\n",
    "                    name = 'Bagging')\n",
    "\n",
    "trace7 = go.Scatter(x=table_80_90_test.iloc[7].index.values[[0,5,6,7]],\n",
    "                    y=table_80_90_test.iloc[7].values[[0,5,6,7]],\n",
    "                    mode = 'lines+markers',marker=dict(symbol='x'),\n",
    "                    name = 'Neural Network')\n",
    "\n",
    "\n",
    "\n",
    "data = [trace0, trace1, trace2, trace3, trace4, trace5, trace6, trace7]\n",
    "layout = go.Layout(yaxis=dict(tick0=0,dtick=0.05),title='Result comparision for Features selected in Section 1')\n",
    "fig = go.Figure(data=data, layout=layout)\n",
    "\n",
    "iplot(fig, filename='Result')"
   ]
  },
  {
   "cell_type": "code",
   "execution_count": 36,
   "metadata": {},
   "outputs": [
    {
     "name": "stdout",
     "output_type": "stream",
     "text": [
      "Training Results\n"
     ]
    },
    {
     "data": {
      "text/html": [
       "<div>\n",
       "<style scoped>\n",
       "    .dataframe tbody tr th:only-of-type {\n",
       "        vertical-align: middle;\n",
       "    }\n",
       "\n",
       "    .dataframe tbody tr th {\n",
       "        vertical-align: top;\n",
       "    }\n",
       "\n",
       "    .dataframe thead th {\n",
       "        text-align: right;\n",
       "    }\n",
       "</style>\n",
       "<table border=\"1\" class=\"dataframe\">\n",
       "  <thead>\n",
       "    <tr style=\"text-align: right;\">\n",
       "      <th></th>\n",
       "      <th>accuracy</th>\n",
       "      <th>TP</th>\n",
       "      <th>TN</th>\n",
       "      <th>FP</th>\n",
       "      <th>FN</th>\n",
       "      <th>FPR</th>\n",
       "      <th>FNR</th>\n",
       "    </tr>\n",
       "    <tr>\n",
       "      <th>index</th>\n",
       "      <th></th>\n",
       "      <th></th>\n",
       "      <th></th>\n",
       "      <th></th>\n",
       "      <th></th>\n",
       "      <th></th>\n",
       "      <th></th>\n",
       "    </tr>\n",
       "  </thead>\n",
       "  <tbody>\n",
       "    <tr>\n",
       "      <th>KNeighborsClassifier</th>\n",
       "      <td>0.926063</td>\n",
       "      <td>4928.0</td>\n",
       "      <td>5305.0</td>\n",
       "      <td>220.0</td>\n",
       "      <td>597.0</td>\n",
       "      <td>0.039819</td>\n",
       "      <td>0.108054</td>\n",
       "    </tr>\n",
       "    <tr>\n",
       "      <th>LogisticRegression</th>\n",
       "      <td>0.908688</td>\n",
       "      <td>4872.0</td>\n",
       "      <td>5169.0</td>\n",
       "      <td>356.0</td>\n",
       "      <td>653.0</td>\n",
       "      <td>0.064434</td>\n",
       "      <td>0.118190</td>\n",
       "    </tr>\n",
       "    <tr>\n",
       "      <th>RandomForestClassifier</th>\n",
       "      <td>0.989231</td>\n",
       "      <td>5417.0</td>\n",
       "      <td>5514.0</td>\n",
       "      <td>11.0</td>\n",
       "      <td>108.0</td>\n",
       "      <td>0.001991</td>\n",
       "      <td>0.019548</td>\n",
       "    </tr>\n",
       "    <tr>\n",
       "      <th>AdaBoostClassifier</th>\n",
       "      <td>0.906968</td>\n",
       "      <td>4882.0</td>\n",
       "      <td>5140.0</td>\n",
       "      <td>385.0</td>\n",
       "      <td>643.0</td>\n",
       "      <td>0.069683</td>\n",
       "      <td>0.116380</td>\n",
       "    </tr>\n",
       "    <tr>\n",
       "      <th>GradientBoostingClassifier</th>\n",
       "      <td>0.918824</td>\n",
       "      <td>4897.0</td>\n",
       "      <td>5256.0</td>\n",
       "      <td>269.0</td>\n",
       "      <td>628.0</td>\n",
       "      <td>0.048688</td>\n",
       "      <td>0.113665</td>\n",
       "    </tr>\n",
       "    <tr>\n",
       "      <th>ExtraTreeClassifier</th>\n",
       "      <td>1.000000</td>\n",
       "      <td>5525.0</td>\n",
       "      <td>5525.0</td>\n",
       "      <td>0.0</td>\n",
       "      <td>0.0</td>\n",
       "      <td>0.000000</td>\n",
       "      <td>0.000000</td>\n",
       "    </tr>\n",
       "    <tr>\n",
       "      <th>BaggingClassifier</th>\n",
       "      <td>0.989140</td>\n",
       "      <td>5423.0</td>\n",
       "      <td>5507.0</td>\n",
       "      <td>18.0</td>\n",
       "      <td>102.0</td>\n",
       "      <td>0.003258</td>\n",
       "      <td>0.018462</td>\n",
       "    </tr>\n",
       "    <tr>\n",
       "      <th>Neural Network-1</th>\n",
       "      <td>0.999910</td>\n",
       "      <td>5524.0</td>\n",
       "      <td>5525.0</td>\n",
       "      <td>0.0</td>\n",
       "      <td>1.0</td>\n",
       "      <td>0.000000</td>\n",
       "      <td>0.000181</td>\n",
       "    </tr>\n",
       "  </tbody>\n",
       "</table>\n",
       "</div>"
      ],
      "text/plain": [
       "                            accuracy      TP      TN     FP     FN       FPR  \\\n",
       "index                                                                          \n",
       "KNeighborsClassifier        0.926063  4928.0  5305.0  220.0  597.0  0.039819   \n",
       "LogisticRegression          0.908688  4872.0  5169.0  356.0  653.0  0.064434   \n",
       "RandomForestClassifier      0.989231  5417.0  5514.0   11.0  108.0  0.001991   \n",
       "AdaBoostClassifier          0.906968  4882.0  5140.0  385.0  643.0  0.069683   \n",
       "GradientBoostingClassifier  0.918824  4897.0  5256.0  269.0  628.0  0.048688   \n",
       "ExtraTreeClassifier         1.000000  5525.0  5525.0    0.0    0.0  0.000000   \n",
       "BaggingClassifier           0.989140  5423.0  5507.0   18.0  102.0  0.003258   \n",
       "Neural Network-1            0.999910  5524.0  5525.0    0.0    1.0  0.000000   \n",
       "\n",
       "                                 FNR  \n",
       "index                                 \n",
       "KNeighborsClassifier        0.108054  \n",
       "LogisticRegression          0.118190  \n",
       "RandomForestClassifier      0.019548  \n",
       "AdaBoostClassifier          0.116380  \n",
       "GradientBoostingClassifier  0.113665  \n",
       "ExtraTreeClassifier         0.000000  \n",
       "BaggingClassifier           0.018462  \n",
       "Neural Network-1            0.000181  "
      ]
     },
     "metadata": {},
     "output_type": "display_data"
    },
    {
     "name": "stdout",
     "output_type": "stream",
     "text": [
      "Test Results\n"
     ]
    },
    {
     "data": {
      "text/html": [
       "<div>\n",
       "<style scoped>\n",
       "    .dataframe tbody tr th:only-of-type {\n",
       "        vertical-align: middle;\n",
       "    }\n",
       "\n",
       "    .dataframe tbody tr th {\n",
       "        vertical-align: top;\n",
       "    }\n",
       "\n",
       "    .dataframe thead th {\n",
       "        text-align: right;\n",
       "    }\n",
       "</style>\n",
       "<table border=\"1\" class=\"dataframe\">\n",
       "  <thead>\n",
       "    <tr style=\"text-align: right;\">\n",
       "      <th></th>\n",
       "      <th>accuracy</th>\n",
       "      <th>TP</th>\n",
       "      <th>TN</th>\n",
       "      <th>FP</th>\n",
       "      <th>FN</th>\n",
       "      <th>FPR</th>\n",
       "      <th>FNR</th>\n",
       "      <th>auc</th>\n",
       "      <th>mcc</th>\n",
       "    </tr>\n",
       "    <tr>\n",
       "      <th>index</th>\n",
       "      <th></th>\n",
       "      <th></th>\n",
       "      <th></th>\n",
       "      <th></th>\n",
       "      <th></th>\n",
       "      <th></th>\n",
       "      <th></th>\n",
       "      <th></th>\n",
       "      <th></th>\n",
       "    </tr>\n",
       "  </thead>\n",
       "  <tbody>\n",
       "    <tr>\n",
       "      <th>KNeighborsClassifier</th>\n",
       "      <td>0.926128</td>\n",
       "      <td>1190.0</td>\n",
       "      <td>7473.0</td>\n",
       "      <td>512.0</td>\n",
       "      <td>179.0</td>\n",
       "      <td>0.064120</td>\n",
       "      <td>0.130752</td>\n",
       "      <td>0.902564</td>\n",
       "      <td>0.737627</td>\n",
       "    </tr>\n",
       "    <tr>\n",
       "      <th>LogisticRegression</th>\n",
       "      <td>0.927945</td>\n",
       "      <td>1218.0</td>\n",
       "      <td>7462.0</td>\n",
       "      <td>523.0</td>\n",
       "      <td>151.0</td>\n",
       "      <td>0.065498</td>\n",
       "      <td>0.110299</td>\n",
       "      <td>0.912101</td>\n",
       "      <td>0.748507</td>\n",
       "    </tr>\n",
       "    <tr>\n",
       "      <th>RandomForestClassifier</th>\n",
       "      <td>0.940133</td>\n",
       "      <td>1204.0</td>\n",
       "      <td>7590.0</td>\n",
       "      <td>395.0</td>\n",
       "      <td>165.0</td>\n",
       "      <td>0.049468</td>\n",
       "      <td>0.120526</td>\n",
       "      <td>0.915003</td>\n",
       "      <td>0.779301</td>\n",
       "    </tr>\n",
       "    <tr>\n",
       "      <th>AdaBoostClassifier</th>\n",
       "      <td>0.916506</td>\n",
       "      <td>1220.0</td>\n",
       "      <td>7353.0</td>\n",
       "      <td>632.0</td>\n",
       "      <td>149.0</td>\n",
       "      <td>0.079148</td>\n",
       "      <td>0.108839</td>\n",
       "      <td>0.906007</td>\n",
       "      <td>0.720266</td>\n",
       "    </tr>\n",
       "    <tr>\n",
       "      <th>GradientBoostingClassifier</th>\n",
       "      <td>0.934146</td>\n",
       "      <td>1218.0</td>\n",
       "      <td>7520.0</td>\n",
       "      <td>465.0</td>\n",
       "      <td>151.0</td>\n",
       "      <td>0.058234</td>\n",
       "      <td>0.110299</td>\n",
       "      <td>0.915733</td>\n",
       "      <td>0.765096</td>\n",
       "    </tr>\n",
       "    <tr>\n",
       "      <th>ExtraTreeClassifier</th>\n",
       "      <td>0.941950</td>\n",
       "      <td>1204.0</td>\n",
       "      <td>7607.0</td>\n",
       "      <td>378.0</td>\n",
       "      <td>165.0</td>\n",
       "      <td>0.047339</td>\n",
       "      <td>0.120526</td>\n",
       "      <td>0.916068</td>\n",
       "      <td>0.784627</td>\n",
       "    </tr>\n",
       "    <tr>\n",
       "      <th>BaggingClassifier</th>\n",
       "      <td>0.938101</td>\n",
       "      <td>1210.0</td>\n",
       "      <td>7565.0</td>\n",
       "      <td>420.0</td>\n",
       "      <td>159.0</td>\n",
       "      <td>0.052599</td>\n",
       "      <td>0.116143</td>\n",
       "      <td>0.915629</td>\n",
       "      <td>0.774569</td>\n",
       "    </tr>\n",
       "    <tr>\n",
       "      <th>Neural Network-1</th>\n",
       "      <td>0.895767</td>\n",
       "      <td>1225.0</td>\n",
       "      <td>7154.0</td>\n",
       "      <td>831.0</td>\n",
       "      <td>144.0</td>\n",
       "      <td>0.104070</td>\n",
       "      <td>0.105186</td>\n",
       "      <td>0.915629</td>\n",
       "      <td>0.674934</td>\n",
       "    </tr>\n",
       "  </tbody>\n",
       "</table>\n",
       "</div>"
      ],
      "text/plain": [
       "                            accuracy      TP      TN     FP     FN       FPR  \\\n",
       "index                                                                          \n",
       "KNeighborsClassifier        0.926128  1190.0  7473.0  512.0  179.0  0.064120   \n",
       "LogisticRegression          0.927945  1218.0  7462.0  523.0  151.0  0.065498   \n",
       "RandomForestClassifier      0.940133  1204.0  7590.0  395.0  165.0  0.049468   \n",
       "AdaBoostClassifier          0.916506  1220.0  7353.0  632.0  149.0  0.079148   \n",
       "GradientBoostingClassifier  0.934146  1218.0  7520.0  465.0  151.0  0.058234   \n",
       "ExtraTreeClassifier         0.941950  1204.0  7607.0  378.0  165.0  0.047339   \n",
       "BaggingClassifier           0.938101  1210.0  7565.0  420.0  159.0  0.052599   \n",
       "Neural Network-1            0.895767  1225.0  7154.0  831.0  144.0  0.104070   \n",
       "\n",
       "                                 FNR       auc       mcc  \n",
       "index                                                     \n",
       "KNeighborsClassifier        0.130752  0.902564  0.737627  \n",
       "LogisticRegression          0.110299  0.912101  0.748507  \n",
       "RandomForestClassifier      0.120526  0.915003  0.779301  \n",
       "AdaBoostClassifier          0.108839  0.906007  0.720266  \n",
       "GradientBoostingClassifier  0.110299  0.915733  0.765096  \n",
       "ExtraTreeClassifier         0.120526  0.916068  0.784627  \n",
       "BaggingClassifier           0.116143  0.915629  0.774569  \n",
       "Neural Network-1            0.105186  0.915629  0.674934  "
      ]
     },
     "metadata": {},
     "output_type": "display_data"
    }
   ],
   "source": [
    "table_80_90_train['index']=ind_columns\n",
    "table_80_90_test['index']=ind_columns\n",
    "\n",
    "\n",
    "table_80_90_test.set_index(['index'],drop=True,inplace=True)\n",
    "table_80_90_train.set_index(['index'],drop=True,inplace=True)\n",
    "\n",
    "print(\"Training Results\")\n",
    "display(table_80_90_train)\n",
    "print(\"Test Results\")\n",
    "display(table_80_90_test)"
   ]
  },
  {
   "cell_type": "markdown",
   "metadata": {},
   "source": [
    "### <a id='3.B' style=\"text-decoration : none; color : #000000;\"> B. Average Feature Importances</a>"
   ]
  },
  {
   "cell_type": "code",
   "execution_count": 37,
   "metadata": {},
   "outputs": [
    {
     "data": {
      "application/vnd.plotly.v1+json": {
       "config": {
        "linkText": "Export to plot.ly",
        "plotlyServerURL": "https://plot.ly",
        "showLink": true
       },
       "data": [
        {
         "marker": {
          "color": "rgb(158,202,225)",
          "line": {
           "color": "rgb(8,48,107)",
           "width": 1.5
          }
         },
         "opacity": 0.6,
         "orientation": "h",
         "text": [
          0.1512,
          0.1431,
          0.0563,
          0.0554,
          0.0487,
          0.033,
          0.0326,
          0.0323,
          0.0289,
          0.0278,
          0.026,
          0.0232,
          0.0216,
          0.0188,
          0.0179,
          0.0178,
          0.016,
          0.0145,
          0.0132,
          0.0132,
          0.0128,
          0.0128,
          0.0126,
          0.0117,
          0.0112,
          0.0112,
          0.0101,
          0.0093,
          0.0091,
          0.0091,
          0.0089,
          0.0084,
          0.0082,
          0.0076,
          0.0076,
          0.0076,
          0.0075,
          0.0071,
          0.0065,
          0.0063,
          0.0057,
          0.0038,
          0.0028,
          0.0026,
          0.0022,
          0.002,
          0.0013,
          0.0008,
          0.0008,
          0.0007,
          0,
          0,
          0,
          0,
          0,
          0,
          0,
          0
         ],
         "textposition": "outside",
         "type": "bar",
         "uid": "bbabbb1f-10ee-4839-8ff9-37f4aa0d5034",
         "x": [
          0.1511587374515258,
          0.14311287589862795,
          0.05632156972030067,
          0.05544541079231759,
          0.04872132522973393,
          0.03298135637357902,
          0.0326344382457806,
          0.03227218072514123,
          0.02889749850398946,
          0.027849784255921668,
          0.025951497331300928,
          0.023203819977362254,
          0.021594936479566153,
          0.01884790606314237,
          0.017854361604562927,
          0.017824808330031527,
          0.015962934706696442,
          0.014511141739908959,
          0.01322417200395832,
          0.013198738251775918,
          0.012826444740209705,
          0.012779370348361078,
          0.012583367311825952,
          0.01174709802114567,
          0.011225919033537451,
          0.011188315876374592,
          0.010098033748374572,
          0.009280988343121584,
          0.009149068863544694,
          0.009089034731069008,
          0.008934671151324031,
          0.008378172126906908,
          0.008165578049745135,
          0.007627398032546386,
          0.007623989017191213,
          0.007603349053484256,
          0.007458722736215774,
          0.0070538667436974775,
          0.006528622262338099,
          0.006272719033205176,
          0.005744589019611706,
          0.0037889746931403915,
          0.0028108590924845233,
          0.0026017287347834843,
          0.002173159761003932,
          0.0019861047144749963,
          0.0012795619335529366,
          0.0008356057002163022,
          0.0008338642375808193,
          0.0007341651466987043,
          2.2599187116763515e-05,
          3.649118977247077e-06,
          9.157509157509195e-07,
          0,
          0,
          0,
          0,
          0
         ],
         "y": [
          "url_length",
          "url_extensions",
          "url_char_.",
          "url_number_special_chars",
          "url_number_consonants",
          "z_average",
          "url_number_special_chars/url_length",
          "w_average",
          "url_char_/",
          "m_average",
          "o_average",
          "url_tlds",
          "url_number_digits/url_length",
          "c_average",
          "url_number_vowels",
          "b_average",
          "url_number_vowels/url_length",
          "i_average",
          "a_average",
          "url_number_consonants/url_length",
          "r_average",
          "n_average",
          "s_average",
          "y_average",
          "d_average",
          "g_average",
          "p_average",
          "h_average",
          "f_average",
          "0_average",
          "k_average",
          "url_number_digits",
          "2_average",
          "e_average",
          "j_average",
          "u_average",
          "l_average",
          "q_average",
          "t_average",
          "x_average",
          "3_average",
          "v_average",
          "8_average",
          "url_char_-",
          "6_average",
          "9_average",
          "5_average",
          "4_average",
          "1_average",
          "7_average",
          "url_port",
          "url_char_?",
          "url_char_:",
          "url_char_&",
          "url_char__",
          "url_char_=",
          "url_char_+",
          "url_char_%"
         ]
        }
       ],
       "layout": {
        "autosize": false,
        "height": 1000,
        "width": 1000,
        "xaxis": {
         "tickfont": {
          "color": "black",
          "size": 12
         },
         "title": "Feature Importances"
        },
        "yaxis": {
         "automargin": true
        }
       }
      },
      "text/html": [
       "<div id=\"8c5b0125-a472-4a92-9584-14a107810d9e\" style=\"height: 1000px; width: 1000px;\" class=\"plotly-graph-div\"></div><script type=\"text/javascript\">require([\"plotly\"], function(Plotly) { window.PLOTLYENV=window.PLOTLYENV || {};window.PLOTLYENV.BASE_URL=\"https://plot.ly\";Plotly.newPlot(\"8c5b0125-a472-4a92-9584-14a107810d9e\", [{\"marker\": {\"color\": \"rgb(158,202,225)\", \"line\": {\"color\": \"rgb(8,48,107)\", \"width\": 1.5}}, \"opacity\": 0.6, \"orientation\": \"h\", \"text\": [0.1512, 0.1431, 0.0563, 0.0554, 0.0487, 0.033, 0.0326, 0.0323, 0.0289, 0.0278, 0.026, 0.0232, 0.0216, 0.0188, 0.0179, 0.0178, 0.016, 0.0145, 0.0132, 0.0132, 0.0128, 0.0128, 0.0126, 0.0117, 0.0112, 0.0112, 0.0101, 0.0093, 0.0091, 0.0091, 0.0089, 0.0084, 0.0082, 0.0076, 0.0076, 0.0076, 0.0075, 0.0071, 0.0065, 0.0063, 0.0057, 0.0038, 0.0028, 0.0026, 0.0022, 0.002, 0.0013, 0.0008, 0.0008, 0.0007, 0.0, 0.0, 0.0, 0.0, 0.0, 0.0, 0.0, 0.0], \"textposition\": \"outside\", \"x\": [0.1511587374515258, 0.14311287589862795, 0.05632156972030067, 0.05544541079231759, 0.04872132522973393, 0.03298135637357902, 0.0326344382457806, 0.03227218072514123, 0.02889749850398946, 0.027849784255921668, 0.025951497331300928, 0.023203819977362254, 0.021594936479566153, 0.01884790606314237, 0.017854361604562927, 0.017824808330031527, 0.015962934706696442, 0.014511141739908959, 0.01322417200395832, 0.013198738251775918, 0.012826444740209705, 0.012779370348361078, 0.012583367311825952, 0.01174709802114567, 0.011225919033537451, 0.011188315876374592, 0.010098033748374572, 0.009280988343121584, 0.009149068863544694, 0.009089034731069008, 0.008934671151324031, 0.008378172126906908, 0.008165578049745135, 0.007627398032546386, 0.007623989017191213, 0.007603349053484256, 0.007458722736215774, 0.0070538667436974775, 0.006528622262338099, 0.006272719033205176, 0.005744589019611706, 0.0037889746931403915, 0.0028108590924845233, 0.0026017287347834843, 0.002173159761003932, 0.0019861047144749963, 0.0012795619335529366, 0.0008356057002163022, 0.0008338642375808193, 0.0007341651466987043, 2.2599187116763515e-05, 3.649118977247077e-06, 9.157509157509195e-07, 0.0, 0.0, 0.0, 0.0, 0.0], \"y\": [\"url_length\", \"url_extensions\", \"url_char_.\", \"url_number_special_chars\", \"url_number_consonants\", \"z_average\", \"url_number_special_chars/url_length\", \"w_average\", \"url_char_/\", \"m_average\", \"o_average\", \"url_tlds\", \"url_number_digits/url_length\", \"c_average\", \"url_number_vowels\", \"b_average\", \"url_number_vowels/url_length\", \"i_average\", \"a_average\", \"url_number_consonants/url_length\", \"r_average\", \"n_average\", \"s_average\", \"y_average\", \"d_average\", \"g_average\", \"p_average\", \"h_average\", \"f_average\", \"0_average\", \"k_average\", \"url_number_digits\", \"2_average\", \"e_average\", \"j_average\", \"u_average\", \"l_average\", \"q_average\", \"t_average\", \"x_average\", \"3_average\", \"v_average\", \"8_average\", \"url_char_-\", \"6_average\", \"9_average\", \"5_average\", \"4_average\", \"1_average\", \"7_average\", \"url_port\", \"url_char_?\", \"url_char_:\", \"url_char_&\", \"url_char__\", \"url_char_=\", \"url_char_+\", \"url_char_%\"], \"type\": \"bar\", \"uid\": \"bbabbb1f-10ee-4839-8ff9-37f4aa0d5034\"}], {\"autosize\": false, \"height\": 1000, \"width\": 1000, \"xaxis\": {\"tickfont\": {\"color\": \"black\", \"size\": 12}, \"title\": \"Feature Importances\"}, \"yaxis\": {\"automargin\": true}}, {\"showLink\": true, \"linkText\": \"Export to plot.ly\", \"plotlyServerURL\": \"https://plot.ly\"})});</script>"
      ],
      "text/vnd.plotly.v1+html": [
       "<div id=\"8c5b0125-a472-4a92-9584-14a107810d9e\" style=\"height: 1000px; width: 1000px;\" class=\"plotly-graph-div\"></div><script type=\"text/javascript\">require([\"plotly\"], function(Plotly) { window.PLOTLYENV=window.PLOTLYENV || {};window.PLOTLYENV.BASE_URL=\"https://plot.ly\";Plotly.newPlot(\"8c5b0125-a472-4a92-9584-14a107810d9e\", [{\"marker\": {\"color\": \"rgb(158,202,225)\", \"line\": {\"color\": \"rgb(8,48,107)\", \"width\": 1.5}}, \"opacity\": 0.6, \"orientation\": \"h\", \"text\": [0.1512, 0.1431, 0.0563, 0.0554, 0.0487, 0.033, 0.0326, 0.0323, 0.0289, 0.0278, 0.026, 0.0232, 0.0216, 0.0188, 0.0179, 0.0178, 0.016, 0.0145, 0.0132, 0.0132, 0.0128, 0.0128, 0.0126, 0.0117, 0.0112, 0.0112, 0.0101, 0.0093, 0.0091, 0.0091, 0.0089, 0.0084, 0.0082, 0.0076, 0.0076, 0.0076, 0.0075, 0.0071, 0.0065, 0.0063, 0.0057, 0.0038, 0.0028, 0.0026, 0.0022, 0.002, 0.0013, 0.0008, 0.0008, 0.0007, 0.0, 0.0, 0.0, 0.0, 0.0, 0.0, 0.0, 0.0], \"textposition\": \"outside\", \"x\": [0.1511587374515258, 0.14311287589862795, 0.05632156972030067, 0.05544541079231759, 0.04872132522973393, 0.03298135637357902, 0.0326344382457806, 0.03227218072514123, 0.02889749850398946, 0.027849784255921668, 0.025951497331300928, 0.023203819977362254, 0.021594936479566153, 0.01884790606314237, 0.017854361604562927, 0.017824808330031527, 0.015962934706696442, 0.014511141739908959, 0.01322417200395832, 0.013198738251775918, 0.012826444740209705, 0.012779370348361078, 0.012583367311825952, 0.01174709802114567, 0.011225919033537451, 0.011188315876374592, 0.010098033748374572, 0.009280988343121584, 0.009149068863544694, 0.009089034731069008, 0.008934671151324031, 0.008378172126906908, 0.008165578049745135, 0.007627398032546386, 0.007623989017191213, 0.007603349053484256, 0.007458722736215774, 0.0070538667436974775, 0.006528622262338099, 0.006272719033205176, 0.005744589019611706, 0.0037889746931403915, 0.0028108590924845233, 0.0026017287347834843, 0.002173159761003932, 0.0019861047144749963, 0.0012795619335529366, 0.0008356057002163022, 0.0008338642375808193, 0.0007341651466987043, 2.2599187116763515e-05, 3.649118977247077e-06, 9.157509157509195e-07, 0.0, 0.0, 0.0, 0.0, 0.0], \"y\": [\"url_length\", \"url_extensions\", \"url_char_.\", \"url_number_special_chars\", \"url_number_consonants\", \"z_average\", \"url_number_special_chars/url_length\", \"w_average\", \"url_char_/\", \"m_average\", \"o_average\", \"url_tlds\", \"url_number_digits/url_length\", \"c_average\", \"url_number_vowels\", \"b_average\", \"url_number_vowels/url_length\", \"i_average\", \"a_average\", \"url_number_consonants/url_length\", \"r_average\", \"n_average\", \"s_average\", \"y_average\", \"d_average\", \"g_average\", \"p_average\", \"h_average\", \"f_average\", \"0_average\", \"k_average\", \"url_number_digits\", \"2_average\", \"e_average\", \"j_average\", \"u_average\", \"l_average\", \"q_average\", \"t_average\", \"x_average\", \"3_average\", \"v_average\", \"8_average\", \"url_char_-\", \"6_average\", \"9_average\", \"5_average\", \"4_average\", \"1_average\", \"7_average\", \"url_port\", \"url_char_?\", \"url_char_:\", \"url_char_&\", \"url_char__\", \"url_char_=\", \"url_char_+\", \"url_char_%\"], \"type\": \"bar\", \"uid\": \"bbabbb1f-10ee-4839-8ff9-37f4aa0d5034\"}], {\"autosize\": false, \"height\": 1000, \"width\": 1000, \"xaxis\": {\"tickfont\": {\"color\": \"black\", \"size\": 12}, \"title\": \"Feature Importances\"}, \"yaxis\": {\"automargin\": true}}, {\"showLink\": true, \"linkText\": \"Export to plot.ly\", \"plotlyServerURL\": \"https://plot.ly\"})});</script>"
      ]
     },
     "metadata": {},
     "output_type": "display_data"
    }
   ],
   "source": [
    "feat_impt_plot(np.average(feat_imp,axis=0),columns)"
   ]
  },
  {
   "cell_type": "markdown",
   "metadata": {},
   "source": [
    "### <a id='4' style=\"text-decoration : none; color : #000000;\">4. Feature Transformation with feature selection </a>"
   ]
  },
  {
   "cell_type": "code",
   "execution_count": 38,
   "metadata": {
    "collapsed": true
   },
   "outputs": [],
   "source": [
    "df.reset_index(inplace=True)\n",
    "\n",
    "# columns=columns.tolist()\n",
    "columns.append('domain')\n",
    "\n",
    "df_min=df[columns]"
   ]
  },
  {
   "cell_type": "code",
   "execution_count": 39,
   "metadata": {},
   "outputs": [
    {
     "name": "stdout",
     "output_type": "stream",
     "text": [
      "Built 6670 features\n",
      "EntitySet scattered to workers in 5.303 seconds\n",
      "Elapsed: 01:08 | Remaining: 00:00 | Progress: 100%|██████████| Calculated: 11/11 chunks\n"
     ]
    }
   ],
   "source": [
    "es = ft.EntitySet(id = 'malicious')\n",
    "es.entity_from_dataframe(entity_id = 'data', dataframe = df_min, index = 'domain')\n",
    "\n",
    "feature_matrix_sessions, features_defs = ft.dfs(entityset=es,target_entity=\"data\",\n",
    "                                                trans_primitives = ['add','divide','multiply'],n_jobs=-1,\n",
    "                                                verbose=1,max_depth=1)"
   ]
  },
  {
   "cell_type": "code",
   "execution_count": 40,
   "metadata": {
    "collapsed": true
   },
   "outputs": [],
   "source": [
    "df.set_index(['domain'],drop=True,inplace=True)\n",
    "fs=pd.merge(feature_matrix_sessions,pd.DataFrame(df.Target),left_index=True, right_index=True)\n",
    "fs.replace([np.inf],0,inplace=True)\n",
    "fs.fillna(value=0,inplace=True)"
   ]
  },
  {
   "cell_type": "code",
   "execution_count": 41,
   "metadata": {
    "collapsed": true
   },
   "outputs": [],
   "source": [
    "X=fs.loc[:,fs.columns!='Target']\n",
    "y=fs.Target\n",
    "feature_name = X.columns.tolist()"
   ]
  },
  {
   "cell_type": "code",
   "execution_count": 42,
   "metadata": {
    "collapsed": true
   },
   "outputs": [],
   "source": [
    "def cor_selector(X, y):\n",
    "    cor_list = []\n",
    "    # calculate the correlation with y for each feature\n",
    "    for i in X.columns.tolist():\n",
    "        cor = np.corrcoef(X[i], y)[0, 1]\n",
    "        cor_list.append(cor)\n",
    "    # replace NaN with 0\n",
    "    cor_list = [0 if np.isnan(i) else i for i in cor_list]\n",
    "    # feature name\n",
    "    cor_feature = X.iloc[:,np.argsort(np.abs(cor_list))[-100:]].columns.tolist()\n",
    "    # feature selection? 0 for not select, 1 for select\n",
    "    cor_support = [True if i in cor_feature else False for i in feature_name]\n",
    "    return cor_support, cor_feature\n",
    "\n",
    "\n",
    "cor_support, cor_feature = cor_selector(X, y)"
   ]
  },
  {
   "cell_type": "code",
   "execution_count": 43,
   "metadata": {
    "collapsed": true
   },
   "outputs": [],
   "source": [
    "X_norm = MinMaxScaler().fit_transform(X)\n",
    "chi_selector = SelectKBest(chi2, k=100)\n",
    "chi_selector.fit(X_norm, y)\n",
    "chi_support = chi_selector.get_support()\n",
    "chi_feature = X.loc[:,chi_support].columns.tolist()"
   ]
  },
  {
   "cell_type": "code",
   "execution_count": 44,
   "metadata": {
    "collapsed": true
   },
   "outputs": [],
   "source": [
    "rfe_selector = RFE(estimator=LogisticRegression(random_state=0), n_features_to_select=100, step=0.3, verbose=False)\n",
    "rfe_selector.fit(X_norm, y)\n",
    "rfe_support = rfe_selector.get_support()\n",
    "rfe_feature = X.loc[:,rfe_support].columns.tolist()"
   ]
  },
  {
   "cell_type": "code",
   "execution_count": 45,
   "metadata": {
    "collapsed": true
   },
   "outputs": [],
   "source": [
    "embeded_rf_selector = SelectFromModel(RandomForestClassifier(n_estimators=100,random_state=0), threshold='23*median')\n",
    "embeded_rf_selector.fit(X, y)\n",
    "embeded_rf_support = embeded_rf_selector.get_support()\n",
    "embeded_rf_feature = X.loc[:,embeded_rf_support].columns.tolist()"
   ]
  },
  {
   "cell_type": "code",
   "execution_count": 46,
   "metadata": {
    "collapsed": true
   },
   "outputs": [],
   "source": [
    "feature_selection_df = pd.DataFrame({'Feature':feature_name, 'Pearson':cor_support, 'Chi-2':chi_support, 'RFE':rfe_support,\n",
    "                                    'Random Forest':embeded_rf_support})\n",
    "# count the selected times for each feature\n",
    "feature_selection_df['Total'] = np.sum(feature_selection_df, axis=1)\n",
    "# display the top 100\n",
    "feature_selection_df = feature_selection_df.sort_values(['Total','Feature'] , ascending=False)\n",
    "feature_selection_df.index = range(1, len(feature_selection_df)+1)"
   ]
  },
  {
   "cell_type": "code",
   "execution_count": 47,
   "metadata": {},
   "outputs": [
    {
     "name": "stdout",
     "output_type": "stream",
     "text": [
      "The train/test split ratio is 80:20\n"
     ]
    },
    {
     "data": {
      "text/plain": [
       "(46771, 22)"
      ]
     },
     "execution_count": 47,
     "metadata": {},
     "output_type": "execute_result"
    }
   ],
   "source": [
    "X=fs[feature_selection_df[feature_selection_df.Total>=3]['Feature']]\n",
    "X.fillna(value=0,inplace=True)\n",
    "y=fs.Target.values\n",
    "feature_name = X.columns.tolist()\n",
    "\n",
    "scaler=StandardScaler()\n",
    "scaled_X=scaler.fit_transform(X)\n",
    "\n",
    "print(\"The train/test split ratio is 80:20\")\n",
    "X_train, X_test, Y_train, Y_test = train_test_split(scaled_X,y,random_state=0,test_size=0.2)\n",
    "\n",
    "X.shape"
   ]
  },
  {
   "cell_type": "code",
   "execution_count": 48,
   "metadata": {},
   "outputs": [
    {
     "name": "stdout",
     "output_type": "stream",
     "text": [
      "Features we will be using:\n",
      "\n"
     ]
    },
    {
     "data": {
      "text/plain": [
       "['url_number_consonants * w_average',\n",
       " 'url_length * w_average',\n",
       " 'url_char_/ / url_length',\n",
       " 'url_char_. + z_average',\n",
       " 'url_char_. + w_average',\n",
       " 'url_char_. + url_number_special_chars/url_length',\n",
       " 'url_char_. + url_char_?',\n",
       " 'url_char_.',\n",
       " 'url_char_& + url_char_.',\n",
       " 'u_average + url_char_.',\n",
       " 't_average + url_char_.',\n",
       " 'l_average + url_char_.',\n",
       " 'k_average + url_char_.',\n",
       " 'i_average + url_char_.',\n",
       " 'g_average + url_char_.',\n",
       " 'd_average + url_char_.',\n",
       " 'c_average + url_char_.',\n",
       " '5_average + url_char_.',\n",
       " '4_average + url_char_.',\n",
       " '3_average + url_char_.',\n",
       " '2_average + url_char_.',\n",
       " '1_average + url_char_.']"
      ]
     },
     "metadata": {},
     "output_type": "display_data"
    }
   ],
   "source": [
    "print('Features we will be using:\\n')\n",
    "display(feature_name)"
   ]
  },
  {
   "cell_type": "code",
   "execution_count": 49,
   "metadata": {
    "collapsed": true
   },
   "outputs": [],
   "source": [
    "fs=fs.reindex(df_sel.index.values)"
   ]
  },
  {
   "cell_type": "code",
   "execution_count": 50,
   "metadata": {
    "collapsed": true
   },
   "outputs": [],
   "source": [
    "train=fs.iloc[:37417]\n",
    "train_Y=train.Target.values\n",
    "train_X=train[feature_name].values\n",
    "\n",
    "\n",
    "scaler=StandardScaler()\n",
    "scaled_X_train=scaler.fit_transform(train_X)\n",
    "\n",
    "test=fs.iloc[37417:]\n",
    "test_Y=test.Target.values\n",
    "test_X=test[feature_name]\n",
    "\n",
    "scaled_X_test=scaler.transform(test_X)"
   ]
  },
  {
   "cell_type": "code",
   "execution_count": 51,
   "metadata": {
    "collapsed": true
   },
   "outputs": [],
   "source": [
    "## Table to store training and test measures so we can compare later\n",
    "table_80_60_train=pd.DataFrame(columns=['accuracy','TP','TN','FP','FN','FPR','FNR'])\n",
    "table_80_60_test=pd.DataFrame(columns=['accuracy','TP','TN','FP','FN','FPR','FNR','auc','mcc'])"
   ]
  },
  {
   "cell_type": "code",
   "execution_count": 52,
   "metadata": {
    "scrolled": false
   },
   "outputs": [
    {
     "name": "stdout",
     "output_type": "stream",
     "text": [
      "\u001b[1mK-Nearest Neighbors\u001b[0m\n",
      "Accuracy of the model for training data is: 0.956303284603\n",
      "Confusion Matrix for training data is:\n"
     ]
    },
    {
     "data": {
      "text/plain": [
       "Predicted  False  True  __all__\n",
       "Actual                         \n",
       "False      31532   360    31892\n",
       "True        1275  4250     5525\n",
       "__all__    32807  4610    37417"
      ]
     },
     "metadata": {},
     "output_type": "display_data"
    },
    {
     "name": "stdout",
     "output_type": "stream",
     "text": [
      "Accuracy of the model for test data is: 0.94815052384\n",
      "Confusion Matrix for test data is:\n"
     ]
    },
    {
     "data": {
      "text/plain": [
       "Predicted  False  True  __all__\n",
       "Actual                         \n",
       "False       7851   134     7985\n",
       "True         351  1018     1369\n",
       "__all__     8202  1152     9354"
      ]
     },
     "metadata": {},
     "output_type": "display_data"
    },
    {
     "name": "stdout",
     "output_type": "stream",
     "text": [
      "\n",
      "\n",
      "\u001b[1mLogistic Regression\u001b[0m\n",
      "Accuracy of the model for training data is: 0.941791164444\n",
      "Confusion Matrix for training data is:\n"
     ]
    },
    {
     "data": {
      "text/plain": [
       "Predicted  False  True  __all__\n",
       "Actual                         \n",
       "False      31437   455    31892\n",
       "True        1723  3802     5525\n",
       "__all__    33160  4257    37417"
      ]
     },
     "metadata": {},
     "output_type": "display_data"
    },
    {
     "name": "stdout",
     "output_type": "stream",
     "text": [
      "Accuracy of the model for test data is: 0.943125935429\n",
      "Confusion Matrix for test data is:\n"
     ]
    },
    {
     "data": {
      "text/plain": [
       "Predicted  False  True  __all__\n",
       "Actual                         \n",
       "False       7861   124     7985\n",
       "True         408   961     1369\n",
       "__all__     8269  1085     9354"
      ]
     },
     "metadata": {},
     "output_type": "display_data"
    },
    {
     "name": "stdout",
     "output_type": "stream",
     "text": [
      "\n",
      "\n",
      "\u001b[1mRandomForest Classifier\u001b[0m\n",
      "Accuracy of the model for training data is: 0.986049122057\n",
      "Confusion Matrix for training data is:\n"
     ]
    },
    {
     "data": {
      "text/plain": [
       "Predicted  False  True  __all__\n",
       "Actual                         \n",
       "False      31819    73    31892\n",
       "True         449  5076     5525\n",
       "__all__    32268  5149    37417"
      ]
     },
     "metadata": {},
     "output_type": "display_data"
    },
    {
     "name": "stdout",
     "output_type": "stream",
     "text": [
      "Accuracy of the model for test data is: 0.951036989523\n",
      "Confusion Matrix for test data is:\n"
     ]
    },
    {
     "data": {
      "text/plain": [
       "Predicted  False  True  __all__\n",
       "Actual                         \n",
       "False       7850   135     7985\n",
       "True         323  1046     1369\n",
       "__all__     8173  1181     9354"
      ]
     },
     "metadata": {},
     "output_type": "display_data"
    },
    {
     "data": {
      "application/vnd.plotly.v1+json": {
       "config": {
        "linkText": "Export to plot.ly",
        "plotlyServerURL": "https://plot.ly",
        "showLink": true
       },
       "data": [
        {
         "marker": {
          "color": "rgb(158,202,225)",
          "line": {
           "color": "rgb(8,48,107)",
           "width": 1.5
          }
         },
         "opacity": 0.6,
         "orientation": "h",
         "text": [
          0.1253,
          0.1125,
          0.1101,
          0.0743,
          0.058,
          0.0492,
          0.047,
          0.0464,
          0.0437,
          0.043,
          0.0398,
          0.0375,
          0.0345,
          0.0331,
          0.0305,
          0.0298,
          0.0296,
          0.0261,
          0.02,
          0.0088,
          0.0005,
          0.0003
         ],
         "textposition": "outside",
         "type": "bar",
         "uid": "7115518f-1f28-4e8c-a49f-49111430a5fa",
         "x": [
          0.1253305475774129,
          0.11250389108235723,
          0.11006609203456727,
          0.07428236450099789,
          0.05802566268978747,
          0.04919838711895726,
          0.04701368243414093,
          0.04643804053625595,
          0.04369961260111118,
          0.042959284906241665,
          0.039846707075196816,
          0.037462278417524794,
          0.03449856166277889,
          0.033087688699830795,
          0.03052036119403706,
          0.029805800283688084,
          0.029567282228863723,
          0.02606016812749487,
          0.020034611415708743,
          0.008847643187794184,
          0.0004973326944364774,
          0.00025399953081581706
         ],
         "y": [
          "i_average + url_char_.",
          "3_average + url_char_.",
          "url_char_. + url_number_special_chars/url_length",
          "url_char_. + w_average",
          "c_average + url_char_.",
          "l_average + url_char_.",
          "url_char_. + z_average",
          "url_char_/ / url_length",
          "t_average + url_char_.",
          "1_average + url_char_.",
          "url_number_consonants * w_average",
          "4_average + url_char_.",
          "u_average + url_char_.",
          "d_average + url_char_.",
          "g_average + url_char_.",
          "url_char_. + url_char_?",
          "url_length * w_average",
          "k_average + url_char_.",
          "2_average + url_char_.",
          "5_average + url_char_.",
          "url_char_.",
          "url_char_& + url_char_."
         ]
        }
       ],
       "layout": {
        "autosize": false,
        "height": 1000,
        "width": 1000,
        "xaxis": {
         "tickfont": {
          "color": "black",
          "size": 12
         },
         "title": "Feature Importances"
        },
        "yaxis": {
         "automargin": true
        }
       }
      },
      "text/html": [
       "<div id=\"7e2b594e-c128-47f2-96bc-9cbf3a65d086\" style=\"height: 1000px; width: 1000px;\" class=\"plotly-graph-div\"></div><script type=\"text/javascript\">require([\"plotly\"], function(Plotly) { window.PLOTLYENV=window.PLOTLYENV || {};window.PLOTLYENV.BASE_URL=\"https://plot.ly\";Plotly.newPlot(\"7e2b594e-c128-47f2-96bc-9cbf3a65d086\", [{\"marker\": {\"color\": \"rgb(158,202,225)\", \"line\": {\"color\": \"rgb(8,48,107)\", \"width\": 1.5}}, \"opacity\": 0.6, \"orientation\": \"h\", \"text\": [0.1253, 0.1125, 0.1101, 0.0743, 0.058, 0.0492, 0.047, 0.0464, 0.0437, 0.043, 0.0398, 0.0375, 0.0345, 0.0331, 0.0305, 0.0298, 0.0296, 0.0261, 0.02, 0.0088, 0.0005, 0.0003], \"textposition\": \"outside\", \"x\": [0.1253305475774129, 0.11250389108235723, 0.11006609203456727, 0.07428236450099789, 0.05802566268978747, 0.04919838711895726, 0.04701368243414093, 0.04643804053625595, 0.04369961260111118, 0.042959284906241665, 0.039846707075196816, 0.037462278417524794, 0.03449856166277889, 0.033087688699830795, 0.03052036119403706, 0.029805800283688084, 0.029567282228863723, 0.02606016812749487, 0.020034611415708743, 0.008847643187794184, 0.0004973326944364774, 0.00025399953081581706], \"y\": [\"i_average + url_char_.\", \"3_average + url_char_.\", \"url_char_. + url_number_special_chars/url_length\", \"url_char_. + w_average\", \"c_average + url_char_.\", \"l_average + url_char_.\", \"url_char_. + z_average\", \"url_char_/ / url_length\", \"t_average + url_char_.\", \"1_average + url_char_.\", \"url_number_consonants * w_average\", \"4_average + url_char_.\", \"u_average + url_char_.\", \"d_average + url_char_.\", \"g_average + url_char_.\", \"url_char_. + url_char_?\", \"url_length * w_average\", \"k_average + url_char_.\", \"2_average + url_char_.\", \"5_average + url_char_.\", \"url_char_.\", \"url_char_& + url_char_.\"], \"type\": \"bar\", \"uid\": \"7115518f-1f28-4e8c-a49f-49111430a5fa\"}], {\"autosize\": false, \"height\": 1000, \"width\": 1000, \"xaxis\": {\"tickfont\": {\"color\": \"black\", \"size\": 12}, \"title\": \"Feature Importances\"}, \"yaxis\": {\"automargin\": true}}, {\"showLink\": true, \"linkText\": \"Export to plot.ly\", \"plotlyServerURL\": \"https://plot.ly\"})});</script>"
      ],
      "text/vnd.plotly.v1+html": [
       "<div id=\"7e2b594e-c128-47f2-96bc-9cbf3a65d086\" style=\"height: 1000px; width: 1000px;\" class=\"plotly-graph-div\"></div><script type=\"text/javascript\">require([\"plotly\"], function(Plotly) { window.PLOTLYENV=window.PLOTLYENV || {};window.PLOTLYENV.BASE_URL=\"https://plot.ly\";Plotly.newPlot(\"7e2b594e-c128-47f2-96bc-9cbf3a65d086\", [{\"marker\": {\"color\": \"rgb(158,202,225)\", \"line\": {\"color\": \"rgb(8,48,107)\", \"width\": 1.5}}, \"opacity\": 0.6, \"orientation\": \"h\", \"text\": [0.1253, 0.1125, 0.1101, 0.0743, 0.058, 0.0492, 0.047, 0.0464, 0.0437, 0.043, 0.0398, 0.0375, 0.0345, 0.0331, 0.0305, 0.0298, 0.0296, 0.0261, 0.02, 0.0088, 0.0005, 0.0003], \"textposition\": \"outside\", \"x\": [0.1253305475774129, 0.11250389108235723, 0.11006609203456727, 0.07428236450099789, 0.05802566268978747, 0.04919838711895726, 0.04701368243414093, 0.04643804053625595, 0.04369961260111118, 0.042959284906241665, 0.039846707075196816, 0.037462278417524794, 0.03449856166277889, 0.033087688699830795, 0.03052036119403706, 0.029805800283688084, 0.029567282228863723, 0.02606016812749487, 0.020034611415708743, 0.008847643187794184, 0.0004973326944364774, 0.00025399953081581706], \"y\": [\"i_average + url_char_.\", \"3_average + url_char_.\", \"url_char_. + url_number_special_chars/url_length\", \"url_char_. + w_average\", \"c_average + url_char_.\", \"l_average + url_char_.\", \"url_char_. + z_average\", \"url_char_/ / url_length\", \"t_average + url_char_.\", \"1_average + url_char_.\", \"url_number_consonants * w_average\", \"4_average + url_char_.\", \"u_average + url_char_.\", \"d_average + url_char_.\", \"g_average + url_char_.\", \"url_char_. + url_char_?\", \"url_length * w_average\", \"k_average + url_char_.\", \"2_average + url_char_.\", \"5_average + url_char_.\", \"url_char_.\", \"url_char_& + url_char_.\"], \"type\": \"bar\", \"uid\": \"7115518f-1f28-4e8c-a49f-49111430a5fa\"}], {\"autosize\": false, \"height\": 1000, \"width\": 1000, \"xaxis\": {\"tickfont\": {\"color\": \"black\", \"size\": 12}, \"title\": \"Feature Importances\"}, \"yaxis\": {\"automargin\": true}}, {\"showLink\": true, \"linkText\": \"Export to plot.ly\", \"plotlyServerURL\": \"https://plot.ly\"})});</script>"
      ]
     },
     "metadata": {},
     "output_type": "display_data"
    },
    {
     "name": "stdout",
     "output_type": "stream",
     "text": [
      "\n",
      "\n",
      "\u001b[1mAdaoost Classifier\u001b[0m\n",
      "Accuracy of the model for training data is: 0.94235240666\n",
      "Confusion Matrix for training data is:\n"
     ]
    },
    {
     "data": {
      "text/plain": [
       "Predicted  False  True  __all__\n",
       "Actual                         \n",
       "False      31256   636    31892\n",
       "True        1521  4004     5525\n",
       "__all__    32777  4640    37417"
      ]
     },
     "metadata": {},
     "output_type": "display_data"
    },
    {
     "name": "stdout",
     "output_type": "stream",
     "text": [
      "Accuracy of the model for test data is: 0.942377592474\n",
      "Confusion Matrix for test data is:\n"
     ]
    },
    {
     "data": {
      "text/plain": [
       "Predicted  False  True  __all__\n",
       "Actual                         \n",
       "False       7803   182     7985\n",
       "True         357  1012     1369\n",
       "__all__     8160  1194     9354"
      ]
     },
     "metadata": {},
     "output_type": "display_data"
    },
    {
     "data": {
      "application/vnd.plotly.v1+json": {
       "config": {
        "linkText": "Export to plot.ly",
        "plotlyServerURL": "https://plot.ly",
        "showLink": true
       },
       "data": [
        {
         "marker": {
          "color": "rgb(158,202,225)",
          "line": {
           "color": "rgb(8,48,107)",
           "width": 1.5
          }
         },
         "opacity": 0.6,
         "orientation": "h",
         "text": [
          0.22,
          0.14,
          0.12,
          0.08,
          0.08,
          0.06,
          0.06,
          0.04,
          0.04,
          0.02,
          0.02,
          0.02,
          0.02,
          0.02,
          0.02,
          0.02,
          0.02,
          0,
          0,
          0,
          0,
          0
         ],
         "textposition": "outside",
         "type": "bar",
         "uid": "f370c045-3f2e-4271-9735-00e55d09e161",
         "x": [
          0.22,
          0.14,
          0.12,
          0.08,
          0.08,
          0.06,
          0.06,
          0.04,
          0.04,
          0.02,
          0.02,
          0.02,
          0.02,
          0.02,
          0.02,
          0.02,
          0.02,
          0,
          0,
          0,
          0,
          0
         ],
         "y": [
          "url_char_. + url_number_special_chars/url_length",
          "i_average + url_char_.",
          "url_char_. + z_average",
          "url_number_consonants * w_average",
          "1_average + url_char_.",
          "5_average + url_char_.",
          "c_average + url_char_.",
          "g_average + url_char_.",
          "d_average + url_char_.",
          "url_char_. + w_average",
          "2_average + url_char_.",
          "3_average + url_char_.",
          "4_average + url_char_.",
          "url_char_/ / url_length",
          "k_average + url_char_.",
          "u_average + url_char_.",
          "l_average + url_char_.",
          "url_char_. + url_char_?",
          "url_length * w_average",
          "t_average + url_char_.",
          "url_char_& + url_char_.",
          "url_char_."
         ]
        }
       ],
       "layout": {
        "autosize": false,
        "height": 1000,
        "width": 1000,
        "xaxis": {
         "tickfont": {
          "color": "black",
          "size": 12
         },
         "title": "Feature Importances"
        },
        "yaxis": {
         "automargin": true
        }
       }
      },
      "text/html": [
       "<div id=\"a1afffa1-f16f-462b-8d67-00f9e36c7d71\" style=\"height: 1000px; width: 1000px;\" class=\"plotly-graph-div\"></div><script type=\"text/javascript\">require([\"plotly\"], function(Plotly) { window.PLOTLYENV=window.PLOTLYENV || {};window.PLOTLYENV.BASE_URL=\"https://plot.ly\";Plotly.newPlot(\"a1afffa1-f16f-462b-8d67-00f9e36c7d71\", [{\"marker\": {\"color\": \"rgb(158,202,225)\", \"line\": {\"color\": \"rgb(8,48,107)\", \"width\": 1.5}}, \"opacity\": 0.6, \"orientation\": \"h\", \"text\": [0.22, 0.14, 0.12, 0.08, 0.08, 0.06, 0.06, 0.04, 0.04, 0.02, 0.02, 0.02, 0.02, 0.02, 0.02, 0.02, 0.02, 0.0, 0.0, 0.0, 0.0, 0.0], \"textposition\": \"outside\", \"x\": [0.22, 0.14, 0.12, 0.08, 0.08, 0.06, 0.06, 0.04, 0.04, 0.02, 0.02, 0.02, 0.02, 0.02, 0.02, 0.02, 0.02, 0.0, 0.0, 0.0, 0.0, 0.0], \"y\": [\"url_char_. + url_number_special_chars/url_length\", \"i_average + url_char_.\", \"url_char_. + z_average\", \"url_number_consonants * w_average\", \"1_average + url_char_.\", \"5_average + url_char_.\", \"c_average + url_char_.\", \"g_average + url_char_.\", \"d_average + url_char_.\", \"url_char_. + w_average\", \"2_average + url_char_.\", \"3_average + url_char_.\", \"4_average + url_char_.\", \"url_char_/ / url_length\", \"k_average + url_char_.\", \"u_average + url_char_.\", \"l_average + url_char_.\", \"url_char_. + url_char_?\", \"url_length * w_average\", \"t_average + url_char_.\", \"url_char_& + url_char_.\", \"url_char_.\"], \"type\": \"bar\", \"uid\": \"f370c045-3f2e-4271-9735-00e55d09e161\"}], {\"autosize\": false, \"height\": 1000, \"width\": 1000, \"xaxis\": {\"tickfont\": {\"color\": \"black\", \"size\": 12}, \"title\": \"Feature Importances\"}, \"yaxis\": {\"automargin\": true}}, {\"showLink\": true, \"linkText\": \"Export to plot.ly\", \"plotlyServerURL\": \"https://plot.ly\"})});</script>"
      ],
      "text/vnd.plotly.v1+html": [
       "<div id=\"a1afffa1-f16f-462b-8d67-00f9e36c7d71\" style=\"height: 1000px; width: 1000px;\" class=\"plotly-graph-div\"></div><script type=\"text/javascript\">require([\"plotly\"], function(Plotly) { window.PLOTLYENV=window.PLOTLYENV || {};window.PLOTLYENV.BASE_URL=\"https://plot.ly\";Plotly.newPlot(\"a1afffa1-f16f-462b-8d67-00f9e36c7d71\", [{\"marker\": {\"color\": \"rgb(158,202,225)\", \"line\": {\"color\": \"rgb(8,48,107)\", \"width\": 1.5}}, \"opacity\": 0.6, \"orientation\": \"h\", \"text\": [0.22, 0.14, 0.12, 0.08, 0.08, 0.06, 0.06, 0.04, 0.04, 0.02, 0.02, 0.02, 0.02, 0.02, 0.02, 0.02, 0.02, 0.0, 0.0, 0.0, 0.0, 0.0], \"textposition\": \"outside\", \"x\": [0.22, 0.14, 0.12, 0.08, 0.08, 0.06, 0.06, 0.04, 0.04, 0.02, 0.02, 0.02, 0.02, 0.02, 0.02, 0.02, 0.02, 0.0, 0.0, 0.0, 0.0, 0.0], \"y\": [\"url_char_. + url_number_special_chars/url_length\", \"i_average + url_char_.\", \"url_char_. + z_average\", \"url_number_consonants * w_average\", \"1_average + url_char_.\", \"5_average + url_char_.\", \"c_average + url_char_.\", \"g_average + url_char_.\", \"d_average + url_char_.\", \"url_char_. + w_average\", \"2_average + url_char_.\", \"3_average + url_char_.\", \"4_average + url_char_.\", \"url_char_/ / url_length\", \"k_average + url_char_.\", \"u_average + url_char_.\", \"l_average + url_char_.\", \"url_char_. + url_char_?\", \"url_length * w_average\", \"t_average + url_char_.\", \"url_char_& + url_char_.\", \"url_char_.\"], \"type\": \"bar\", \"uid\": \"f370c045-3f2e-4271-9735-00e55d09e161\"}], {\"autosize\": false, \"height\": 1000, \"width\": 1000, \"xaxis\": {\"tickfont\": {\"color\": \"black\", \"size\": 12}, \"title\": \"Feature Importances\"}, \"yaxis\": {\"automargin\": true}}, {\"showLink\": true, \"linkText\": \"Export to plot.ly\", \"plotlyServerURL\": \"https://plot.ly\"})});</script>"
      ]
     },
     "metadata": {},
     "output_type": "display_data"
    },
    {
     "name": "stdout",
     "output_type": "stream",
     "text": [
      "\n",
      "\n",
      "\u001b[1mGradientBoosting Classifier\u001b[0m\n",
      "Accuracy of the model for training data is: 0.950530507523\n",
      "Confusion Matrix for training data is:\n"
     ]
    },
    {
     "data": {
      "text/plain": [
       "Predicted  False  True  __all__\n",
       "Actual                         \n",
       "False      31403   489    31892\n",
       "True        1362  4163     5525\n",
       "__all__    32765  4652    37417"
      ]
     },
     "metadata": {},
     "output_type": "display_data"
    },
    {
     "name": "stdout",
     "output_type": "stream",
     "text": [
      "Accuracy of the model for test data is: 0.947722899294\n",
      "Confusion Matrix for test data is:\n"
     ]
    },
    {
     "data": {
      "text/plain": [
       "Predicted  False  True  __all__\n",
       "Actual                         \n",
       "False       7835   150     7985\n",
       "True         339  1030     1369\n",
       "__all__     8174  1180     9354"
      ]
     },
     "metadata": {},
     "output_type": "display_data"
    },
    {
     "data": {
      "application/vnd.plotly.v1+json": {
       "config": {
        "linkText": "Export to plot.ly",
        "plotlyServerURL": "https://plot.ly",
        "showLink": true
       },
       "data": [
        {
         "marker": {
          "color": "rgb(158,202,225)",
          "line": {
           "color": "rgb(8,48,107)",
           "width": 1.5
          }
         },
         "opacity": 0.6,
         "orientation": "h",
         "text": [
          0.1709,
          0.141,
          0.1348,
          0.0907,
          0.079,
          0.0786,
          0.0772,
          0.055,
          0.0537,
          0.0329,
          0.0319,
          0.0186,
          0.0116,
          0.0053,
          0.0047,
          0.0043,
          0.0042,
          0.0029,
          0.0026,
          0,
          0,
          0
         ],
         "textposition": "outside",
         "type": "bar",
         "uid": "f27ccc00-bcd4-4345-a28a-5d1768241a98",
         "x": [
          0.17093551269311674,
          0.14096419487988998,
          0.13481452560728746,
          0.09073446391489605,
          0.0790224738387665,
          0.07856829786636843,
          0.07724676998764303,
          0.05502367856341683,
          0.053662052674026094,
          0.03294362437894945,
          0.031904237938267466,
          0.018615744787751128,
          0.01156571693233707,
          0.0053227788198598495,
          0.004665055148111077,
          0.004333714176804171,
          0.004152611003885608,
          0.002922591118703072,
          0.0026019556699200044,
          0,
          0,
          0
         ],
         "y": [
          "5_average + url_char_.",
          "url_char_. + url_number_special_chars/url_length",
          "i_average + url_char_.",
          "url_char_/ / url_length",
          "url_char_. + w_average",
          "l_average + url_char_.",
          "url_char_. + z_average",
          "3_average + url_char_.",
          "4_average + url_char_.",
          "url_number_consonants * w_average",
          "url_length * w_average",
          "2_average + url_char_.",
          "c_average + url_char_.",
          "u_average + url_char_.",
          "d_average + url_char_.",
          "1_average + url_char_.",
          "g_average + url_char_.",
          "t_average + url_char_.",
          "k_average + url_char_.",
          "url_char_& + url_char_.",
          "url_char_.",
          "url_char_. + url_char_?"
         ]
        }
       ],
       "layout": {
        "autosize": false,
        "height": 1000,
        "width": 1000,
        "xaxis": {
         "tickfont": {
          "color": "black",
          "size": 12
         },
         "title": "Feature Importances"
        },
        "yaxis": {
         "automargin": true
        }
       }
      },
      "text/html": [
       "<div id=\"cd2bfa17-32a1-4ce8-8f2d-72e9d351f765\" style=\"height: 1000px; width: 1000px;\" class=\"plotly-graph-div\"></div><script type=\"text/javascript\">require([\"plotly\"], function(Plotly) { window.PLOTLYENV=window.PLOTLYENV || {};window.PLOTLYENV.BASE_URL=\"https://plot.ly\";Plotly.newPlot(\"cd2bfa17-32a1-4ce8-8f2d-72e9d351f765\", [{\"marker\": {\"color\": \"rgb(158,202,225)\", \"line\": {\"color\": \"rgb(8,48,107)\", \"width\": 1.5}}, \"opacity\": 0.6, \"orientation\": \"h\", \"text\": [0.1709, 0.141, 0.1348, 0.0907, 0.079, 0.0786, 0.0772, 0.055, 0.0537, 0.0329, 0.0319, 0.0186, 0.0116, 0.0053, 0.0047, 0.0043, 0.0042, 0.0029, 0.0026, 0.0, 0.0, 0.0], \"textposition\": \"outside\", \"x\": [0.17093551269311674, 0.14096419487988998, 0.13481452560728746, 0.09073446391489605, 0.0790224738387665, 0.07856829786636843, 0.07724676998764303, 0.05502367856341683, 0.053662052674026094, 0.03294362437894945, 0.031904237938267466, 0.018615744787751128, 0.01156571693233707, 0.0053227788198598495, 0.004665055148111077, 0.004333714176804171, 0.004152611003885608, 0.002922591118703072, 0.0026019556699200044, 0.0, 0.0, 0.0], \"y\": [\"5_average + url_char_.\", \"url_char_. + url_number_special_chars/url_length\", \"i_average + url_char_.\", \"url_char_/ / url_length\", \"url_char_. + w_average\", \"l_average + url_char_.\", \"url_char_. + z_average\", \"3_average + url_char_.\", \"4_average + url_char_.\", \"url_number_consonants * w_average\", \"url_length * w_average\", \"2_average + url_char_.\", \"c_average + url_char_.\", \"u_average + url_char_.\", \"d_average + url_char_.\", \"1_average + url_char_.\", \"g_average + url_char_.\", \"t_average + url_char_.\", \"k_average + url_char_.\", \"url_char_& + url_char_.\", \"url_char_.\", \"url_char_. + url_char_?\"], \"type\": \"bar\", \"uid\": \"f27ccc00-bcd4-4345-a28a-5d1768241a98\"}], {\"autosize\": false, \"height\": 1000, \"width\": 1000, \"xaxis\": {\"tickfont\": {\"color\": \"black\", \"size\": 12}, \"title\": \"Feature Importances\"}, \"yaxis\": {\"automargin\": true}}, {\"showLink\": true, \"linkText\": \"Export to plot.ly\", \"plotlyServerURL\": \"https://plot.ly\"})});</script>"
      ],
      "text/vnd.plotly.v1+html": [
       "<div id=\"cd2bfa17-32a1-4ce8-8f2d-72e9d351f765\" style=\"height: 1000px; width: 1000px;\" class=\"plotly-graph-div\"></div><script type=\"text/javascript\">require([\"plotly\"], function(Plotly) { window.PLOTLYENV=window.PLOTLYENV || {};window.PLOTLYENV.BASE_URL=\"https://plot.ly\";Plotly.newPlot(\"cd2bfa17-32a1-4ce8-8f2d-72e9d351f765\", [{\"marker\": {\"color\": \"rgb(158,202,225)\", \"line\": {\"color\": \"rgb(8,48,107)\", \"width\": 1.5}}, \"opacity\": 0.6, \"orientation\": \"h\", \"text\": [0.1709, 0.141, 0.1348, 0.0907, 0.079, 0.0786, 0.0772, 0.055, 0.0537, 0.0329, 0.0319, 0.0186, 0.0116, 0.0053, 0.0047, 0.0043, 0.0042, 0.0029, 0.0026, 0.0, 0.0, 0.0], \"textposition\": \"outside\", \"x\": [0.17093551269311674, 0.14096419487988998, 0.13481452560728746, 0.09073446391489605, 0.0790224738387665, 0.07856829786636843, 0.07724676998764303, 0.05502367856341683, 0.053662052674026094, 0.03294362437894945, 0.031904237938267466, 0.018615744787751128, 0.01156571693233707, 0.0053227788198598495, 0.004665055148111077, 0.004333714176804171, 0.004152611003885608, 0.002922591118703072, 0.0026019556699200044, 0.0, 0.0, 0.0], \"y\": [\"5_average + url_char_.\", \"url_char_. + url_number_special_chars/url_length\", \"i_average + url_char_.\", \"url_char_/ / url_length\", \"url_char_. + w_average\", \"l_average + url_char_.\", \"url_char_. + z_average\", \"3_average + url_char_.\", \"4_average + url_char_.\", \"url_number_consonants * w_average\", \"url_length * w_average\", \"2_average + url_char_.\", \"c_average + url_char_.\", \"u_average + url_char_.\", \"d_average + url_char_.\", \"1_average + url_char_.\", \"g_average + url_char_.\", \"t_average + url_char_.\", \"k_average + url_char_.\", \"url_char_& + url_char_.\", \"url_char_.\", \"url_char_. + url_char_?\"], \"type\": \"bar\", \"uid\": \"f27ccc00-bcd4-4345-a28a-5d1768241a98\"}], {\"autosize\": false, \"height\": 1000, \"width\": 1000, \"xaxis\": {\"tickfont\": {\"color\": \"black\", \"size\": 12}, \"title\": \"Feature Importances\"}, \"yaxis\": {\"automargin\": true}}, {\"showLink\": true, \"linkText\": \"Export to plot.ly\", \"plotlyServerURL\": \"https://plot.ly\"})});</script>"
      ]
     },
     "metadata": {},
     "output_type": "display_data"
    },
    {
     "name": "stdout",
     "output_type": "stream",
     "text": [
      "\n",
      "\n",
      "\u001b[1mExtraTree Classifier\u001b[0m\n",
      "Accuracy of the model for training data is: 0.989790736831\n",
      "Confusion Matrix for training data is:\n"
     ]
    },
    {
     "data": {
      "text/plain": [
       "Predicted  False  True  __all__\n",
       "Actual                         \n",
       "False      31879    13    31892\n",
       "True         369  5156     5525\n",
       "__all__    32248  5169    37417"
      ]
     },
     "metadata": {},
     "output_type": "display_data"
    },
    {
     "name": "stdout",
     "output_type": "stream",
     "text": [
      "Accuracy of the model for test data is: 0.948898866795\n",
      "Confusion Matrix for test data is:\n"
     ]
    },
    {
     "data": {
      "text/plain": [
       "Predicted  False  True  __all__\n",
       "Actual                         \n",
       "False       7852   133     7985\n",
       "True         345  1024     1369\n",
       "__all__     8197  1157     9354"
      ]
     },
     "metadata": {},
     "output_type": "display_data"
    },
    {
     "data": {
      "application/vnd.plotly.v1+json": {
       "config": {
        "linkText": "Export to plot.ly",
        "plotlyServerURL": "https://plot.ly",
        "showLink": true
       },
       "data": [
        {
         "marker": {
          "color": "rgb(158,202,225)",
          "line": {
           "color": "rgb(8,48,107)",
           "width": 1.5
          }
         },
         "opacity": 0.6,
         "orientation": "h",
         "text": [
          0.0996,
          0.0868,
          0.0846,
          0.0608,
          0.0599,
          0.059,
          0.0546,
          0.0534,
          0.0529,
          0.0523,
          0.0518,
          0.0419,
          0.0356,
          0.0348,
          0.0345,
          0.0327,
          0.0304,
          0.0275,
          0.0186,
          0.0172,
          0.011,
          0.0001
         ],
         "textposition": "outside",
         "type": "bar",
         "uid": "c1f6d8ab-15c5-44c3-9c74-6be9a9570a2f",
         "x": [
          0.09961263806437215,
          0.08675874870203046,
          0.08457431246202395,
          0.0608360558106386,
          0.05987772226721609,
          0.059049969035465735,
          0.0545955538694934,
          0.053442013845826586,
          0.052862507768039246,
          0.05225850256580884,
          0.051835629618220656,
          0.041908987752496775,
          0.03563584493645128,
          0.03481954373699734,
          0.034535940355546524,
          0.03265339959150555,
          0.030367773581681422,
          0.027464189943836974,
          0.018643126178273066,
          0.01718476329195511,
          0.011029131850741817,
          5.3644771378407984e-05
         ],
         "y": [
          "url_char_. + url_number_special_chars/url_length",
          "t_average + url_char_.",
          "url_char_. + url_char_?",
          "url_length * w_average",
          "i_average + url_char_.",
          "url_char_/ / url_length",
          "url_char_. + z_average",
          "c_average + url_char_.",
          "2_average + url_char_.",
          "url_char_.",
          "l_average + url_char_.",
          "3_average + url_char_.",
          "d_average + url_char_.",
          "url_number_consonants * w_average",
          "u_average + url_char_.",
          "4_average + url_char_.",
          "g_average + url_char_.",
          "k_average + url_char_.",
          "url_char_. + w_average",
          "5_average + url_char_.",
          "1_average + url_char_.",
          "url_char_& + url_char_."
         ]
        }
       ],
       "layout": {
        "autosize": false,
        "height": 1000,
        "width": 1000,
        "xaxis": {
         "tickfont": {
          "color": "black",
          "size": 12
         },
         "title": "Feature Importances"
        },
        "yaxis": {
         "automargin": true
        }
       }
      },
      "text/html": [
       "<div id=\"399b8aa3-f629-49a0-9033-9dc9b822628e\" style=\"height: 1000px; width: 1000px;\" class=\"plotly-graph-div\"></div><script type=\"text/javascript\">require([\"plotly\"], function(Plotly) { window.PLOTLYENV=window.PLOTLYENV || {};window.PLOTLYENV.BASE_URL=\"https://plot.ly\";Plotly.newPlot(\"399b8aa3-f629-49a0-9033-9dc9b822628e\", [{\"marker\": {\"color\": \"rgb(158,202,225)\", \"line\": {\"color\": \"rgb(8,48,107)\", \"width\": 1.5}}, \"opacity\": 0.6, \"orientation\": \"h\", \"text\": [0.0996, 0.0868, 0.0846, 0.0608, 0.0599, 0.059, 0.0546, 0.0534, 0.0529, 0.0523, 0.0518, 0.0419, 0.0356, 0.0348, 0.0345, 0.0327, 0.0304, 0.0275, 0.0186, 0.0172, 0.011, 0.0001], \"textposition\": \"outside\", \"x\": [0.09961263806437215, 0.08675874870203046, 0.08457431246202395, 0.0608360558106386, 0.05987772226721609, 0.059049969035465735, 0.0545955538694934, 0.053442013845826586, 0.052862507768039246, 0.05225850256580884, 0.051835629618220656, 0.041908987752496775, 0.03563584493645128, 0.03481954373699734, 0.034535940355546524, 0.03265339959150555, 0.030367773581681422, 0.027464189943836974, 0.018643126178273066, 0.01718476329195511, 0.011029131850741817, 5.3644771378407984e-05], \"y\": [\"url_char_. + url_number_special_chars/url_length\", \"t_average + url_char_.\", \"url_char_. + url_char_?\", \"url_length * w_average\", \"i_average + url_char_.\", \"url_char_/ / url_length\", \"url_char_. + z_average\", \"c_average + url_char_.\", \"2_average + url_char_.\", \"url_char_.\", \"l_average + url_char_.\", \"3_average + url_char_.\", \"d_average + url_char_.\", \"url_number_consonants * w_average\", \"u_average + url_char_.\", \"4_average + url_char_.\", \"g_average + url_char_.\", \"k_average + url_char_.\", \"url_char_. + w_average\", \"5_average + url_char_.\", \"1_average + url_char_.\", \"url_char_& + url_char_.\"], \"type\": \"bar\", \"uid\": \"c1f6d8ab-15c5-44c3-9c74-6be9a9570a2f\"}], {\"autosize\": false, \"height\": 1000, \"width\": 1000, \"xaxis\": {\"tickfont\": {\"color\": \"black\", \"size\": 12}, \"title\": \"Feature Importances\"}, \"yaxis\": {\"automargin\": true}}, {\"showLink\": true, \"linkText\": \"Export to plot.ly\", \"plotlyServerURL\": \"https://plot.ly\"})});</script>"
      ],
      "text/vnd.plotly.v1+html": [
       "<div id=\"399b8aa3-f629-49a0-9033-9dc9b822628e\" style=\"height: 1000px; width: 1000px;\" class=\"plotly-graph-div\"></div><script type=\"text/javascript\">require([\"plotly\"], function(Plotly) { window.PLOTLYENV=window.PLOTLYENV || {};window.PLOTLYENV.BASE_URL=\"https://plot.ly\";Plotly.newPlot(\"399b8aa3-f629-49a0-9033-9dc9b822628e\", [{\"marker\": {\"color\": \"rgb(158,202,225)\", \"line\": {\"color\": \"rgb(8,48,107)\", \"width\": 1.5}}, \"opacity\": 0.6, \"orientation\": \"h\", \"text\": [0.0996, 0.0868, 0.0846, 0.0608, 0.0599, 0.059, 0.0546, 0.0534, 0.0529, 0.0523, 0.0518, 0.0419, 0.0356, 0.0348, 0.0345, 0.0327, 0.0304, 0.0275, 0.0186, 0.0172, 0.011, 0.0001], \"textposition\": \"outside\", \"x\": [0.09961263806437215, 0.08675874870203046, 0.08457431246202395, 0.0608360558106386, 0.05987772226721609, 0.059049969035465735, 0.0545955538694934, 0.053442013845826586, 0.052862507768039246, 0.05225850256580884, 0.051835629618220656, 0.041908987752496775, 0.03563584493645128, 0.03481954373699734, 0.034535940355546524, 0.03265339959150555, 0.030367773581681422, 0.027464189943836974, 0.018643126178273066, 0.01718476329195511, 0.011029131850741817, 5.3644771378407984e-05], \"y\": [\"url_char_. + url_number_special_chars/url_length\", \"t_average + url_char_.\", \"url_char_. + url_char_?\", \"url_length * w_average\", \"i_average + url_char_.\", \"url_char_/ / url_length\", \"url_char_. + z_average\", \"c_average + url_char_.\", \"2_average + url_char_.\", \"url_char_.\", \"l_average + url_char_.\", \"3_average + url_char_.\", \"d_average + url_char_.\", \"url_number_consonants * w_average\", \"u_average + url_char_.\", \"4_average + url_char_.\", \"g_average + url_char_.\", \"k_average + url_char_.\", \"url_char_. + w_average\", \"5_average + url_char_.\", \"1_average + url_char_.\", \"url_char_& + url_char_.\"], \"type\": \"bar\", \"uid\": \"c1f6d8ab-15c5-44c3-9c74-6be9a9570a2f\"}], {\"autosize\": false, \"height\": 1000, \"width\": 1000, \"xaxis\": {\"tickfont\": {\"color\": \"black\", \"size\": 12}, \"title\": \"Feature Importances\"}, \"yaxis\": {\"automargin\": true}}, {\"showLink\": true, \"linkText\": \"Export to plot.ly\", \"plotlyServerURL\": \"https://plot.ly\"})});</script>"
      ]
     },
     "metadata": {},
     "output_type": "display_data"
    },
    {
     "name": "stdout",
     "output_type": "stream",
     "text": [
      "\n",
      "\n",
      "\u001b[1mBagging Classifier\u001b[0m\n",
      "Accuracy of the model for training data is: 0.986049122057\n",
      "Confusion Matrix for training data is:\n"
     ]
    },
    {
     "data": {
      "text/plain": [
       "Predicted  False  True  __all__\n",
       "Actual                         \n",
       "False      31813    79    31892\n",
       "True         443  5082     5525\n",
       "__all__    32256  5161    37417"
      ]
     },
     "metadata": {},
     "output_type": "display_data"
    },
    {
     "name": "stdout",
     "output_type": "stream",
     "text": [
      "Accuracy of the model for test data is: 0.947615993158\n",
      "Confusion Matrix for test data is:\n"
     ]
    },
    {
     "data": {
      "text/plain": [
       "Predicted  False  True  __all__\n",
       "Actual                         \n",
       "False       7831   154     7985\n",
       "True         336  1033     1369\n",
       "__all__     8167  1187     9354"
      ]
     },
     "metadata": {},
     "output_type": "display_data"
    },
    {
     "name": "stdout",
     "output_type": "stream",
     "text": [
      "\n",
      "\n",
      "\u001b[1mNeural Network-1\u001b[0m\n",
      "The accuracy of the model on training data is: 0.948926958336\n"
     ]
    },
    {
     "data": {
      "text/plain": [
       "Predicted  False  True  __all__\n",
       "Actual                         \n",
       "False      31436   456    31892\n",
       "True        1455  4070     5525\n",
       "__all__    32891  4526    37417"
      ]
     },
     "metadata": {},
     "output_type": "display_data"
    },
    {
     "name": "stdout",
     "output_type": "stream",
     "text": [
      "The accuracy of the model on test data is: 0.947722899294\n"
     ]
    },
    {
     "data": {
      "text/plain": [
       "Predicted  False  True  __all__\n",
       "Actual                         \n",
       "False       7853   132     7985\n",
       "True         357  1012     1369\n",
       "__all__     8210  1144     9354"
      ]
     },
     "metadata": {},
     "output_type": "display_data"
    },
    {
     "name": "stdout",
     "output_type": "stream",
     "text": [
      "\n",
      "\n"
     ]
    }
   ],
   "source": [
    "feat_imp=[None]*4\n",
    "j=0\n",
    "for i in range(0,8):\n",
    "    if i>=2 and i<=5:\n",
    "        model,cm_train,cm_test,acc_train,acc_test,roc_auc,feat_imp[j],mcc=f[i](scaled_X_train,train_Y,scaled_X_test,test_Y,feature_name)\n",
    "        j=j+1\n",
    "    else:\n",
    "        model,cm_train,cm_test,acc_train,acc_test,roc_auc,mcc=f[i](scaled_X_train,train_Y,scaled_X_test,test_Y)\n",
    "    table_80_60_train.loc[i]=   ([acc_train,cm_train.TP,cm_train.TN,cm_train.FP,cm_train.FN,cm_train.FPR,cm_train.FNR])\n",
    "    table_80_60_test.loc[i] =   ([acc_test ,cm_test.TP, cm_test.TN, cm_test.FP, cm_test.FN, cm_test.FPR, cm_test.FNR,roc_auc,mcc])\n",
    "    print(\"\\n\")"
   ]
  },
  {
   "cell_type": "markdown",
   "metadata": {},
   "source": [
    "### <a id='4.A' style=\"text-decoration : none; color : #000000;\"> A. Results</a>"
   ]
  },
  {
   "cell_type": "code",
   "execution_count": 53,
   "metadata": {},
   "outputs": [
    {
     "data": {
      "application/vnd.plotly.v1+json": {
       "config": {
        "linkText": "Export to plot.ly",
        "plotlyServerURL": "https://plot.ly",
        "showLink": true
       },
       "data": [
        {
         "mode": "lines",
         "name": "KNN_model",
         "type": "scatter",
         "uid": "bb9329e5-bb26-482e-85c3-2644d2584761",
         "x": [
          "accuracy",
          "FPR",
          "FNR",
          "auc"
         ],
         "y": [
          0.9481505238400684,
          0.01678146524733876,
          0.25639152666179693,
          0.8634135040454319
         ]
        },
        {
         "mode": "lines+markers",
         "name": "Logistic Regression",
         "type": "scatter",
         "uid": "7787e32a-d47f-4a41-bd6b-14eabd6fdf65",
         "x": [
          "accuracy",
          "FPR",
          "FNR",
          "auc"
         ],
         "y": [
          0.9431259354286936,
          0.015529117094552285,
          0.29802775748721694,
          0.8432215627091153
         ]
        },
        {
         "marker": {
          "symbol": "x"
         },
         "mode": "lines+markers",
         "name": "Random Forest",
         "type": "scatter",
         "uid": "3e8b0147-4df6-458d-8880-f36141cc959b",
         "x": [
          "accuracy",
          "FPR",
          "FNR",
          "auc"
         ],
         "y": [
          0.9510369895231986,
          0.016906700062617408,
          0.23593864134404674,
          0.8735773292966679
         ]
        },
        {
         "mode": "lines",
         "name": "Ada Boost",
         "type": "scatter",
         "uid": "618070f8-5e42-4d48-87f3-e7965e8052f0",
         "x": [
          "accuracy",
          "FPR",
          "FNR",
          "auc"
         ],
         "y": [
          0.942377592473808,
          0.02279273638071384,
          0.26077428780131484,
          0.8582164879089856
         ]
        },
        {
         "mode": "lines+markers",
         "name": "GradientBoosting",
         "type": "scatter",
         "uid": "72bbc69c-8891-4690-89ae-4592c71538ad",
         "x": [
          "accuracy",
          "FPR",
          "FNR",
          "auc"
         ],
         "y": [
          0.9477228992944196,
          0.01878522229179712,
          0.24762600438276114,
          0.8667943866627209
         ]
        },
        {
         "marker": {
          "symbol": "x"
         },
         "mode": "lines+markers",
         "name": "ExtraTree Classifier",
         "type": "scatter",
         "uid": "1270b565-4d52-4bcb-bd2b-2277c2b16eb7",
         "x": [
          "accuracy",
          "FPR",
          "FNR",
          "auc"
         ],
         "y": [
          0.948898866794954,
          0.016656230432060114,
          0.252008765522279,
          0.8656675020228305
         ]
        },
        {
         "marker": {
          "symbol": "x"
         },
         "mode": "lines+markers",
         "name": "Bagging",
         "type": "scatter",
         "uid": "da263382-deba-4ced-af46-d1a82d3775fd",
         "x": [
          "accuracy",
          "FPR",
          "FNR",
          "auc"
         ],
         "y": [
          0.9476159931580073,
          0.01928616155291171,
          0.24543462381300218,
          0.8676396073170431
         ]
        },
        {
         "marker": {
          "symbol": "x"
         },
         "mode": "lines+markers",
         "name": "Neural Network",
         "type": "scatter",
         "uid": "1e5aa92b-ba0e-4996-93f0-634f554dd876",
         "x": [
          "accuracy",
          "FPR",
          "FNR",
          "auc"
         ],
         "y": [
          0.9477228992944196,
          0.016530995616781466,
          0.26077428780131484,
          0.8676396073170431
         ]
        }
       ],
       "layout": {
        "title": "Result comparision for Features selected in Section 1",
        "yaxis": {
         "dtick": 0.05,
         "tick0": 0
        }
       }
      },
      "text/html": [
       "<div id=\"f244036e-92a2-4985-b49e-127afaa99860\" style=\"height: 525px; width: 100%;\" class=\"plotly-graph-div\"></div><script type=\"text/javascript\">require([\"plotly\"], function(Plotly) { window.PLOTLYENV=window.PLOTLYENV || {};window.PLOTLYENV.BASE_URL=\"https://plot.ly\";Plotly.newPlot(\"f244036e-92a2-4985-b49e-127afaa99860\", [{\"mode\": \"lines\", \"name\": \"KNN_model\", \"x\": [\"accuracy\", \"FPR\", \"FNR\", \"auc\"], \"y\": [0.9481505238400684, 0.01678146524733876, 0.25639152666179693, 0.8634135040454319], \"type\": \"scatter\", \"uid\": \"bb9329e5-bb26-482e-85c3-2644d2584761\"}, {\"mode\": \"lines+markers\", \"name\": \"Logistic Regression\", \"x\": [\"accuracy\", \"FPR\", \"FNR\", \"auc\"], \"y\": [0.9431259354286936, 0.015529117094552285, 0.29802775748721694, 0.8432215627091153], \"type\": \"scatter\", \"uid\": \"7787e32a-d47f-4a41-bd6b-14eabd6fdf65\"}, {\"marker\": {\"symbol\": \"x\"}, \"mode\": \"lines+markers\", \"name\": \"Random Forest\", \"x\": [\"accuracy\", \"FPR\", \"FNR\", \"auc\"], \"y\": [0.9510369895231986, 0.016906700062617408, 0.23593864134404674, 0.8735773292966679], \"type\": \"scatter\", \"uid\": \"3e8b0147-4df6-458d-8880-f36141cc959b\"}, {\"mode\": \"lines\", \"name\": \"Ada Boost\", \"x\": [\"accuracy\", \"FPR\", \"FNR\", \"auc\"], \"y\": [0.942377592473808, 0.02279273638071384, 0.26077428780131484, 0.8582164879089856], \"type\": \"scatter\", \"uid\": \"618070f8-5e42-4d48-87f3-e7965e8052f0\"}, {\"mode\": \"lines+markers\", \"name\": \"GradientBoosting\", \"x\": [\"accuracy\", \"FPR\", \"FNR\", \"auc\"], \"y\": [0.9477228992944196, 0.01878522229179712, 0.24762600438276114, 0.8667943866627209], \"type\": \"scatter\", \"uid\": \"72bbc69c-8891-4690-89ae-4592c71538ad\"}, {\"marker\": {\"symbol\": \"x\"}, \"mode\": \"lines+markers\", \"name\": \"ExtraTree Classifier\", \"x\": [\"accuracy\", \"FPR\", \"FNR\", \"auc\"], \"y\": [0.948898866794954, 0.016656230432060114, 0.252008765522279, 0.8656675020228305], \"type\": \"scatter\", \"uid\": \"1270b565-4d52-4bcb-bd2b-2277c2b16eb7\"}, {\"marker\": {\"symbol\": \"x\"}, \"mode\": \"lines+markers\", \"name\": \"Bagging\", \"x\": [\"accuracy\", \"FPR\", \"FNR\", \"auc\"], \"y\": [0.9476159931580073, 0.01928616155291171, 0.24543462381300218, 0.8676396073170431], \"type\": \"scatter\", \"uid\": \"da263382-deba-4ced-af46-d1a82d3775fd\"}, {\"marker\": {\"symbol\": \"x\"}, \"mode\": \"lines+markers\", \"name\": \"Neural Network\", \"x\": [\"accuracy\", \"FPR\", \"FNR\", \"auc\"], \"y\": [0.9477228992944196, 0.016530995616781466, 0.26077428780131484, 0.8676396073170431], \"type\": \"scatter\", \"uid\": \"1e5aa92b-ba0e-4996-93f0-634f554dd876\"}], {\"title\": \"Result comparision for Features selected in Section 1\", \"yaxis\": {\"dtick\": 0.05, \"tick0\": 0}}, {\"showLink\": true, \"linkText\": \"Export to plot.ly\", \"plotlyServerURL\": \"https://plot.ly\"})});</script><script type=\"text/javascript\">window.addEventListener(\"resize\", function(){window._Plotly.Plots.resize(document.getElementById(\"f244036e-92a2-4985-b49e-127afaa99860\"));});</script>"
      ],
      "text/vnd.plotly.v1+html": [
       "<div id=\"f244036e-92a2-4985-b49e-127afaa99860\" style=\"height: 525px; width: 100%;\" class=\"plotly-graph-div\"></div><script type=\"text/javascript\">require([\"plotly\"], function(Plotly) { window.PLOTLYENV=window.PLOTLYENV || {};window.PLOTLYENV.BASE_URL=\"https://plot.ly\";Plotly.newPlot(\"f244036e-92a2-4985-b49e-127afaa99860\", [{\"mode\": \"lines\", \"name\": \"KNN_model\", \"x\": [\"accuracy\", \"FPR\", \"FNR\", \"auc\"], \"y\": [0.9481505238400684, 0.01678146524733876, 0.25639152666179693, 0.8634135040454319], \"type\": \"scatter\", \"uid\": \"bb9329e5-bb26-482e-85c3-2644d2584761\"}, {\"mode\": \"lines+markers\", \"name\": \"Logistic Regression\", \"x\": [\"accuracy\", \"FPR\", \"FNR\", \"auc\"], \"y\": [0.9431259354286936, 0.015529117094552285, 0.29802775748721694, 0.8432215627091153], \"type\": \"scatter\", \"uid\": \"7787e32a-d47f-4a41-bd6b-14eabd6fdf65\"}, {\"marker\": {\"symbol\": \"x\"}, \"mode\": \"lines+markers\", \"name\": \"Random Forest\", \"x\": [\"accuracy\", \"FPR\", \"FNR\", \"auc\"], \"y\": [0.9510369895231986, 0.016906700062617408, 0.23593864134404674, 0.8735773292966679], \"type\": \"scatter\", \"uid\": \"3e8b0147-4df6-458d-8880-f36141cc959b\"}, {\"mode\": \"lines\", \"name\": \"Ada Boost\", \"x\": [\"accuracy\", \"FPR\", \"FNR\", \"auc\"], \"y\": [0.942377592473808, 0.02279273638071384, 0.26077428780131484, 0.8582164879089856], \"type\": \"scatter\", \"uid\": \"618070f8-5e42-4d48-87f3-e7965e8052f0\"}, {\"mode\": \"lines+markers\", \"name\": \"GradientBoosting\", \"x\": [\"accuracy\", \"FPR\", \"FNR\", \"auc\"], \"y\": [0.9477228992944196, 0.01878522229179712, 0.24762600438276114, 0.8667943866627209], \"type\": \"scatter\", \"uid\": \"72bbc69c-8891-4690-89ae-4592c71538ad\"}, {\"marker\": {\"symbol\": \"x\"}, \"mode\": \"lines+markers\", \"name\": \"ExtraTree Classifier\", \"x\": [\"accuracy\", \"FPR\", \"FNR\", \"auc\"], \"y\": [0.948898866794954, 0.016656230432060114, 0.252008765522279, 0.8656675020228305], \"type\": \"scatter\", \"uid\": \"1270b565-4d52-4bcb-bd2b-2277c2b16eb7\"}, {\"marker\": {\"symbol\": \"x\"}, \"mode\": \"lines+markers\", \"name\": \"Bagging\", \"x\": [\"accuracy\", \"FPR\", \"FNR\", \"auc\"], \"y\": [0.9476159931580073, 0.01928616155291171, 0.24543462381300218, 0.8676396073170431], \"type\": \"scatter\", \"uid\": \"da263382-deba-4ced-af46-d1a82d3775fd\"}, {\"marker\": {\"symbol\": \"x\"}, \"mode\": \"lines+markers\", \"name\": \"Neural Network\", \"x\": [\"accuracy\", \"FPR\", \"FNR\", \"auc\"], \"y\": [0.9477228992944196, 0.016530995616781466, 0.26077428780131484, 0.8676396073170431], \"type\": \"scatter\", \"uid\": \"1e5aa92b-ba0e-4996-93f0-634f554dd876\"}], {\"title\": \"Result comparision for Features selected in Section 1\", \"yaxis\": {\"dtick\": 0.05, \"tick0\": 0}}, {\"showLink\": true, \"linkText\": \"Export to plot.ly\", \"plotlyServerURL\": \"https://plot.ly\"})});</script><script type=\"text/javascript\">window.addEventListener(\"resize\", function(){window._Plotly.Plots.resize(document.getElementById(\"f244036e-92a2-4985-b49e-127afaa99860\"));});</script>"
      ]
     },
     "metadata": {},
     "output_type": "display_data"
    }
   ],
   "source": [
    "trace0 = go.Scatter(x=table_80_60_test.iloc[0].index.values[[0,5,6,7]],\n",
    "                    y=table_80_60_test.iloc[0].values[[0,5,6,7]],\n",
    "                    mode = 'lines',\n",
    "                    name = 'KNN_model')\n",
    "\n",
    "trace1 = go.Scatter(x=table_80_60_test.iloc[1].index.values[[0,5,6,7]],\n",
    "                    y=table_80_60_test.iloc[1].values[[0,5,6,7]],\n",
    "                    mode = 'lines+markers',\n",
    "                    name = 'Logistic Regression')\n",
    "\n",
    "trace2 = go.Scatter(x=table_80_60_test.iloc[2].index.values[[0,5,6,7]],\n",
    "                    y=table_80_60_test.iloc[2].values[[0,5,6,7]],\n",
    "                    mode = 'lines+markers',marker=dict(symbol='x'),\n",
    "                    name = 'Random Forest')\n",
    "\n",
    "\n",
    "trace3 = go.Scatter(x=table_80_60_test.iloc[3].index.values[[0,5,6,7]],\n",
    "                    y=table_80_60_test.iloc[3].values[[0,5,6,7]],\n",
    "                    mode = 'lines',\n",
    "                    name = 'Ada Boost')\n",
    "\n",
    "trace4 = go.Scatter(x=table_80_60_test.iloc[4].index.values[[0,5,6,7]],\n",
    "                    y=table_80_60_test.iloc[4].values[[0,5,6,7]],\n",
    "                    mode = 'lines+markers',\n",
    "                    name = 'GradientBoosting')\n",
    "\n",
    "trace5 = go.Scatter(x=table_80_60_test.iloc[5].index.values[[0,5,6,7]],\n",
    "                    y=table_80_60_test.iloc[5].values[[0,5,6,7]],\n",
    "                    mode = 'lines+markers',marker=dict(symbol='x'),\n",
    "                    name = 'ExtraTree Classifier')\n",
    "\n",
    "trace6 = go.Scatter(x=table_80_60_test.iloc[6].index.values[[0,5,6,7]],\n",
    "                    y=table_80_60_test.iloc[6].values[[0,5,6,7]],\n",
    "                    mode = 'lines+markers',marker=dict(symbol='x'),\n",
    "                    name = 'Bagging')\n",
    "\n",
    "trace7 = go.Scatter(x=table_80_60_test.iloc[7].index.values[[0,5,6,7]],\n",
    "                    y=table_80_60_test.iloc[7].values[[0,5,6,7]],\n",
    "                    mode = 'lines+markers',marker=dict(symbol='x'),\n",
    "                    name = 'Neural Network')\n",
    "\n",
    "\n",
    "\n",
    "data = [trace0, trace1, trace2, trace3, trace4, trace5, trace6, trace7]\n",
    "layout = go.Layout(yaxis=dict(tick0=0,dtick=0.05),title='Result comparision for Features selected in Section 1')\n",
    "fig = go.Figure(data=data, layout=layout)\n",
    "\n",
    "iplot(fig, filename='Result')"
   ]
  },
  {
   "cell_type": "code",
   "execution_count": 54,
   "metadata": {},
   "outputs": [
    {
     "name": "stdout",
     "output_type": "stream",
     "text": [
      "Training Results\n"
     ]
    },
    {
     "data": {
      "text/html": [
       "<div>\n",
       "<style scoped>\n",
       "    .dataframe tbody tr th:only-of-type {\n",
       "        vertical-align: middle;\n",
       "    }\n",
       "\n",
       "    .dataframe tbody tr th {\n",
       "        vertical-align: top;\n",
       "    }\n",
       "\n",
       "    .dataframe thead th {\n",
       "        text-align: right;\n",
       "    }\n",
       "</style>\n",
       "<table border=\"1\" class=\"dataframe\">\n",
       "  <thead>\n",
       "    <tr style=\"text-align: right;\">\n",
       "      <th></th>\n",
       "      <th>accuracy</th>\n",
       "      <th>TP</th>\n",
       "      <th>TN</th>\n",
       "      <th>FP</th>\n",
       "      <th>FN</th>\n",
       "      <th>FPR</th>\n",
       "      <th>FNR</th>\n",
       "    </tr>\n",
       "    <tr>\n",
       "      <th>index</th>\n",
       "      <th></th>\n",
       "      <th></th>\n",
       "      <th></th>\n",
       "      <th></th>\n",
       "      <th></th>\n",
       "      <th></th>\n",
       "      <th></th>\n",
       "    </tr>\n",
       "  </thead>\n",
       "  <tbody>\n",
       "    <tr>\n",
       "      <th>KNeighborsClassifier</th>\n",
       "      <td>0.956303</td>\n",
       "      <td>4250.0</td>\n",
       "      <td>31532.0</td>\n",
       "      <td>360.0</td>\n",
       "      <td>1275.0</td>\n",
       "      <td>0.011288</td>\n",
       "      <td>0.230769</td>\n",
       "    </tr>\n",
       "    <tr>\n",
       "      <th>LogisticRegression</th>\n",
       "      <td>0.941791</td>\n",
       "      <td>3802.0</td>\n",
       "      <td>31437.0</td>\n",
       "      <td>455.0</td>\n",
       "      <td>1723.0</td>\n",
       "      <td>0.014267</td>\n",
       "      <td>0.311855</td>\n",
       "    </tr>\n",
       "    <tr>\n",
       "      <th>RandomForestClassifier</th>\n",
       "      <td>0.986049</td>\n",
       "      <td>5076.0</td>\n",
       "      <td>31819.0</td>\n",
       "      <td>73.0</td>\n",
       "      <td>449.0</td>\n",
       "      <td>0.002289</td>\n",
       "      <td>0.081267</td>\n",
       "    </tr>\n",
       "    <tr>\n",
       "      <th>AdaBoostClassifier</th>\n",
       "      <td>0.942352</td>\n",
       "      <td>4004.0</td>\n",
       "      <td>31256.0</td>\n",
       "      <td>636.0</td>\n",
       "      <td>1521.0</td>\n",
       "      <td>0.019942</td>\n",
       "      <td>0.275294</td>\n",
       "    </tr>\n",
       "    <tr>\n",
       "      <th>GradientBoostingClassifier</th>\n",
       "      <td>0.950531</td>\n",
       "      <td>4163.0</td>\n",
       "      <td>31403.0</td>\n",
       "      <td>489.0</td>\n",
       "      <td>1362.0</td>\n",
       "      <td>0.015333</td>\n",
       "      <td>0.246516</td>\n",
       "    </tr>\n",
       "    <tr>\n",
       "      <th>ExtraTreeClassifier</th>\n",
       "      <td>0.989791</td>\n",
       "      <td>5156.0</td>\n",
       "      <td>31879.0</td>\n",
       "      <td>13.0</td>\n",
       "      <td>369.0</td>\n",
       "      <td>0.000408</td>\n",
       "      <td>0.066787</td>\n",
       "    </tr>\n",
       "    <tr>\n",
       "      <th>BaggingClassifier</th>\n",
       "      <td>0.986049</td>\n",
       "      <td>5082.0</td>\n",
       "      <td>31813.0</td>\n",
       "      <td>79.0</td>\n",
       "      <td>443.0</td>\n",
       "      <td>0.002477</td>\n",
       "      <td>0.080181</td>\n",
       "    </tr>\n",
       "    <tr>\n",
       "      <th>Neural Network-1</th>\n",
       "      <td>0.948927</td>\n",
       "      <td>4070.0</td>\n",
       "      <td>31436.0</td>\n",
       "      <td>456.0</td>\n",
       "      <td>1455.0</td>\n",
       "      <td>0.014298</td>\n",
       "      <td>0.263348</td>\n",
       "    </tr>\n",
       "  </tbody>\n",
       "</table>\n",
       "</div>"
      ],
      "text/plain": [
       "                            accuracy      TP       TN     FP      FN  \\\n",
       "index                                                                  \n",
       "KNeighborsClassifier        0.956303  4250.0  31532.0  360.0  1275.0   \n",
       "LogisticRegression          0.941791  3802.0  31437.0  455.0  1723.0   \n",
       "RandomForestClassifier      0.986049  5076.0  31819.0   73.0   449.0   \n",
       "AdaBoostClassifier          0.942352  4004.0  31256.0  636.0  1521.0   \n",
       "GradientBoostingClassifier  0.950531  4163.0  31403.0  489.0  1362.0   \n",
       "ExtraTreeClassifier         0.989791  5156.0  31879.0   13.0   369.0   \n",
       "BaggingClassifier           0.986049  5082.0  31813.0   79.0   443.0   \n",
       "Neural Network-1            0.948927  4070.0  31436.0  456.0  1455.0   \n",
       "\n",
       "                                 FPR       FNR  \n",
       "index                                           \n",
       "KNeighborsClassifier        0.011288  0.230769  \n",
       "LogisticRegression          0.014267  0.311855  \n",
       "RandomForestClassifier      0.002289  0.081267  \n",
       "AdaBoostClassifier          0.019942  0.275294  \n",
       "GradientBoostingClassifier  0.015333  0.246516  \n",
       "ExtraTreeClassifier         0.000408  0.066787  \n",
       "BaggingClassifier           0.002477  0.080181  \n",
       "Neural Network-1            0.014298  0.263348  "
      ]
     },
     "metadata": {},
     "output_type": "display_data"
    },
    {
     "name": "stdout",
     "output_type": "stream",
     "text": [
      "Test Results\n"
     ]
    },
    {
     "data": {
      "text/html": [
       "<div>\n",
       "<style scoped>\n",
       "    .dataframe tbody tr th:only-of-type {\n",
       "        vertical-align: middle;\n",
       "    }\n",
       "\n",
       "    .dataframe tbody tr th {\n",
       "        vertical-align: top;\n",
       "    }\n",
       "\n",
       "    .dataframe thead th {\n",
       "        text-align: right;\n",
       "    }\n",
       "</style>\n",
       "<table border=\"1\" class=\"dataframe\">\n",
       "  <thead>\n",
       "    <tr style=\"text-align: right;\">\n",
       "      <th></th>\n",
       "      <th>accuracy</th>\n",
       "      <th>TP</th>\n",
       "      <th>TN</th>\n",
       "      <th>FP</th>\n",
       "      <th>FN</th>\n",
       "      <th>FPR</th>\n",
       "      <th>FNR</th>\n",
       "      <th>auc</th>\n",
       "      <th>mcc</th>\n",
       "    </tr>\n",
       "    <tr>\n",
       "      <th>index</th>\n",
       "      <th></th>\n",
       "      <th></th>\n",
       "      <th></th>\n",
       "      <th></th>\n",
       "      <th></th>\n",
       "      <th></th>\n",
       "      <th></th>\n",
       "      <th></th>\n",
       "      <th></th>\n",
       "    </tr>\n",
       "  </thead>\n",
       "  <tbody>\n",
       "    <tr>\n",
       "      <th>KNeighborsClassifier</th>\n",
       "      <td>0.948151</td>\n",
       "      <td>1018.0</td>\n",
       "      <td>7851.0</td>\n",
       "      <td>134.0</td>\n",
       "      <td>351.0</td>\n",
       "      <td>0.016781</td>\n",
       "      <td>0.256392</td>\n",
       "      <td>0.863414</td>\n",
       "      <td>0.781779</td>\n",
       "    </tr>\n",
       "    <tr>\n",
       "      <th>LogisticRegression</th>\n",
       "      <td>0.943126</td>\n",
       "      <td>961.0</td>\n",
       "      <td>7861.0</td>\n",
       "      <td>124.0</td>\n",
       "      <td>408.0</td>\n",
       "      <td>0.015529</td>\n",
       "      <td>0.298028</td>\n",
       "      <td>0.843222</td>\n",
       "      <td>0.757709</td>\n",
       "    </tr>\n",
       "    <tr>\n",
       "      <th>RandomForestClassifier</th>\n",
       "      <td>0.951037</td>\n",
       "      <td>1046.0</td>\n",
       "      <td>7850.0</td>\n",
       "      <td>135.0</td>\n",
       "      <td>323.0</td>\n",
       "      <td>0.016907</td>\n",
       "      <td>0.235939</td>\n",
       "      <td>0.873577</td>\n",
       "      <td>0.795122</td>\n",
       "    </tr>\n",
       "    <tr>\n",
       "      <th>AdaBoostClassifier</th>\n",
       "      <td>0.942378</td>\n",
       "      <td>1012.0</td>\n",
       "      <td>7803.0</td>\n",
       "      <td>182.0</td>\n",
       "      <td>357.0</td>\n",
       "      <td>0.022793</td>\n",
       "      <td>0.260774</td>\n",
       "      <td>0.858216</td>\n",
       "      <td>0.758870</td>\n",
       "    </tr>\n",
       "    <tr>\n",
       "      <th>GradientBoostingClassifier</th>\n",
       "      <td>0.947723</td>\n",
       "      <td>1030.0</td>\n",
       "      <td>7835.0</td>\n",
       "      <td>150.0</td>\n",
       "      <td>339.0</td>\n",
       "      <td>0.018785</td>\n",
       "      <td>0.247626</td>\n",
       "      <td>0.866794</td>\n",
       "      <td>0.780969</td>\n",
       "    </tr>\n",
       "    <tr>\n",
       "      <th>ExtraTreeClassifier</th>\n",
       "      <td>0.948899</td>\n",
       "      <td>1024.0</td>\n",
       "      <td>7852.0</td>\n",
       "      <td>133.0</td>\n",
       "      <td>345.0</td>\n",
       "      <td>0.016656</td>\n",
       "      <td>0.252009</td>\n",
       "      <td>0.865668</td>\n",
       "      <td>0.785166</td>\n",
       "    </tr>\n",
       "    <tr>\n",
       "      <th>BaggingClassifier</th>\n",
       "      <td>0.947616</td>\n",
       "      <td>1033.0</td>\n",
       "      <td>7831.0</td>\n",
       "      <td>154.0</td>\n",
       "      <td>336.0</td>\n",
       "      <td>0.019286</td>\n",
       "      <td>0.245435</td>\n",
       "      <td>0.867640</td>\n",
       "      <td>0.780791</td>\n",
       "    </tr>\n",
       "    <tr>\n",
       "      <th>Neural Network-1</th>\n",
       "      <td>0.947723</td>\n",
       "      <td>1012.0</td>\n",
       "      <td>7853.0</td>\n",
       "      <td>132.0</td>\n",
       "      <td>357.0</td>\n",
       "      <td>0.016531</td>\n",
       "      <td>0.260774</td>\n",
       "      <td>0.867640</td>\n",
       "      <td>0.779668</td>\n",
       "    </tr>\n",
       "  </tbody>\n",
       "</table>\n",
       "</div>"
      ],
      "text/plain": [
       "                            accuracy      TP      TN     FP     FN       FPR  \\\n",
       "index                                                                          \n",
       "KNeighborsClassifier        0.948151  1018.0  7851.0  134.0  351.0  0.016781   \n",
       "LogisticRegression          0.943126   961.0  7861.0  124.0  408.0  0.015529   \n",
       "RandomForestClassifier      0.951037  1046.0  7850.0  135.0  323.0  0.016907   \n",
       "AdaBoostClassifier          0.942378  1012.0  7803.0  182.0  357.0  0.022793   \n",
       "GradientBoostingClassifier  0.947723  1030.0  7835.0  150.0  339.0  0.018785   \n",
       "ExtraTreeClassifier         0.948899  1024.0  7852.0  133.0  345.0  0.016656   \n",
       "BaggingClassifier           0.947616  1033.0  7831.0  154.0  336.0  0.019286   \n",
       "Neural Network-1            0.947723  1012.0  7853.0  132.0  357.0  0.016531   \n",
       "\n",
       "                                 FNR       auc       mcc  \n",
       "index                                                     \n",
       "KNeighborsClassifier        0.256392  0.863414  0.781779  \n",
       "LogisticRegression          0.298028  0.843222  0.757709  \n",
       "RandomForestClassifier      0.235939  0.873577  0.795122  \n",
       "AdaBoostClassifier          0.260774  0.858216  0.758870  \n",
       "GradientBoostingClassifier  0.247626  0.866794  0.780969  \n",
       "ExtraTreeClassifier         0.252009  0.865668  0.785166  \n",
       "BaggingClassifier           0.245435  0.867640  0.780791  \n",
       "Neural Network-1            0.260774  0.867640  0.779668  "
      ]
     },
     "metadata": {},
     "output_type": "display_data"
    }
   ],
   "source": [
    "table_80_60_train['index']=ind_columns\n",
    "table_80_60_test['index']=ind_columns\n",
    "\n",
    "\n",
    "table_80_60_test.set_index(['index'],drop=True,inplace=True)\n",
    "table_80_60_train.set_index(['index'],drop=True,inplace=True)\n",
    "\n",
    "print(\"Training Results\")\n",
    "display(table_80_60_train)\n",
    "print(\"Test Results\")\n",
    "display(table_80_60_test)"
   ]
  },
  {
   "cell_type": "markdown",
   "metadata": {},
   "source": [
    "### <a id='4.B' style=\"text-decoration : none; color : #000000;\"> B. Average Feature Importances</a>"
   ]
  },
  {
   "cell_type": "code",
   "execution_count": 55,
   "metadata": {},
   "outputs": [
    {
     "data": {
      "application/vnd.plotly.v1+json": {
       "config": {
        "linkText": "Export to plot.ly",
        "plotlyServerURL": "https://plot.ly",
        "showLink": true
       },
       "data": [
        {
         "marker": {
          "color": "rgb(158,202,225)",
          "line": {
           "color": "rgb(8,48,107)",
           "width": 1.5
          }
         },
         "opacity": 0.6,
         "orientation": "h",
         "text": [
          0.1427,
          0.115,
          0.0747,
          0.0642,
          0.0574,
          0.0541,
          0.0499,
          0.048,
          0.0469,
          0.0458,
          0.0359,
          0.0346,
          0.0333,
          0.0306,
          0.0286,
          0.0283,
          0.0279,
          0.0263,
          0.0236,
          0.019,
          0.0132,
          0.0001
         ],
         "textposition": "outside",
         "type": "bar",
         "uid": "bae6a89e-673c-4512-a950-e797a29f28a6",
         "x": [
          0.14266073124470735,
          0.11500569886297912,
          0.07471400157281934,
          0.06424197979321651,
          0.057359139349567705,
          0.05405561837165443,
          0.04990057865088659,
          0.04798699112950937,
          0.0469024687977859,
          0.04575834836698778,
          0.03594443267076411,
          0.03458053273344691,
          0.03334523810546118,
          0.030576893994442446,
          0.028595028186428006,
          0.028347147196098287,
          0.02787821599287478,
          0.026260186444901027,
          0.023589320209546315,
          0.019031578435312963,
          0.01318895881506133,
          7.691107554855626e-05
         ],
         "y": [
          "url_char_. + url_number_special_chars/url_length",
          "i_average + url_char_.",
          "url_char_. + z_average",
          "5_average + url_char_.",
          "3_average + url_char_.",
          "url_char_/ / url_length",
          "l_average + url_char_.",
          "url_char_. + w_average",
          "url_number_consonants * w_average",
          "c_average + url_char_.",
          "4_average + url_char_.",
          "1_average + url_char_.",
          "t_average + url_char_.",
          "url_length * w_average",
          "url_char_. + url_char_?",
          "d_average + url_char_.",
          "2_average + url_char_.",
          "g_average + url_char_.",
          "u_average + url_char_.",
          "k_average + url_char_.",
          "url_char_.",
          "url_char_& + url_char_."
         ]
        }
       ],
       "layout": {
        "autosize": false,
        "height": 1000,
        "width": 1000,
        "xaxis": {
         "tickfont": {
          "color": "black",
          "size": 12
         },
         "title": "Feature Importances"
        },
        "yaxis": {
         "automargin": true
        }
       }
      },
      "text/html": [
       "<div id=\"2663cb94-fced-4d31-9908-31d10ddf1601\" style=\"height: 1000px; width: 1000px;\" class=\"plotly-graph-div\"></div><script type=\"text/javascript\">require([\"plotly\"], function(Plotly) { window.PLOTLYENV=window.PLOTLYENV || {};window.PLOTLYENV.BASE_URL=\"https://plot.ly\";Plotly.newPlot(\"2663cb94-fced-4d31-9908-31d10ddf1601\", [{\"marker\": {\"color\": \"rgb(158,202,225)\", \"line\": {\"color\": \"rgb(8,48,107)\", \"width\": 1.5}}, \"opacity\": 0.6, \"orientation\": \"h\", \"text\": [0.1427, 0.115, 0.0747, 0.0642, 0.0574, 0.0541, 0.0499, 0.048, 0.0469, 0.0458, 0.0359, 0.0346, 0.0333, 0.0306, 0.0286, 0.0283, 0.0279, 0.0263, 0.0236, 0.019, 0.0132, 0.0001], \"textposition\": \"outside\", \"x\": [0.14266073124470735, 0.11500569886297912, 0.07471400157281934, 0.06424197979321651, 0.057359139349567705, 0.05405561837165443, 0.04990057865088659, 0.04798699112950937, 0.0469024687977859, 0.04575834836698778, 0.03594443267076411, 0.03458053273344691, 0.03334523810546118, 0.030576893994442446, 0.028595028186428006, 0.028347147196098287, 0.02787821599287478, 0.026260186444901027, 0.023589320209546315, 0.019031578435312963, 0.01318895881506133, 7.691107554855626e-05], \"y\": [\"url_char_. + url_number_special_chars/url_length\", \"i_average + url_char_.\", \"url_char_. + z_average\", \"5_average + url_char_.\", \"3_average + url_char_.\", \"url_char_/ / url_length\", \"l_average + url_char_.\", \"url_char_. + w_average\", \"url_number_consonants * w_average\", \"c_average + url_char_.\", \"4_average + url_char_.\", \"1_average + url_char_.\", \"t_average + url_char_.\", \"url_length * w_average\", \"url_char_. + url_char_?\", \"d_average + url_char_.\", \"2_average + url_char_.\", \"g_average + url_char_.\", \"u_average + url_char_.\", \"k_average + url_char_.\", \"url_char_.\", \"url_char_& + url_char_.\"], \"type\": \"bar\", \"uid\": \"bae6a89e-673c-4512-a950-e797a29f28a6\"}], {\"autosize\": false, \"height\": 1000, \"width\": 1000, \"xaxis\": {\"tickfont\": {\"color\": \"black\", \"size\": 12}, \"title\": \"Feature Importances\"}, \"yaxis\": {\"automargin\": true}}, {\"showLink\": true, \"linkText\": \"Export to plot.ly\", \"plotlyServerURL\": \"https://plot.ly\"})});</script>"
      ],
      "text/vnd.plotly.v1+html": [
       "<div id=\"2663cb94-fced-4d31-9908-31d10ddf1601\" style=\"height: 1000px; width: 1000px;\" class=\"plotly-graph-div\"></div><script type=\"text/javascript\">require([\"plotly\"], function(Plotly) { window.PLOTLYENV=window.PLOTLYENV || {};window.PLOTLYENV.BASE_URL=\"https://plot.ly\";Plotly.newPlot(\"2663cb94-fced-4d31-9908-31d10ddf1601\", [{\"marker\": {\"color\": \"rgb(158,202,225)\", \"line\": {\"color\": \"rgb(8,48,107)\", \"width\": 1.5}}, \"opacity\": 0.6, \"orientation\": \"h\", \"text\": [0.1427, 0.115, 0.0747, 0.0642, 0.0574, 0.0541, 0.0499, 0.048, 0.0469, 0.0458, 0.0359, 0.0346, 0.0333, 0.0306, 0.0286, 0.0283, 0.0279, 0.0263, 0.0236, 0.019, 0.0132, 0.0001], \"textposition\": \"outside\", \"x\": [0.14266073124470735, 0.11500569886297912, 0.07471400157281934, 0.06424197979321651, 0.057359139349567705, 0.05405561837165443, 0.04990057865088659, 0.04798699112950937, 0.0469024687977859, 0.04575834836698778, 0.03594443267076411, 0.03458053273344691, 0.03334523810546118, 0.030576893994442446, 0.028595028186428006, 0.028347147196098287, 0.02787821599287478, 0.026260186444901027, 0.023589320209546315, 0.019031578435312963, 0.01318895881506133, 7.691107554855626e-05], \"y\": [\"url_char_. + url_number_special_chars/url_length\", \"i_average + url_char_.\", \"url_char_. + z_average\", \"5_average + url_char_.\", \"3_average + url_char_.\", \"url_char_/ / url_length\", \"l_average + url_char_.\", \"url_char_. + w_average\", \"url_number_consonants * w_average\", \"c_average + url_char_.\", \"4_average + url_char_.\", \"1_average + url_char_.\", \"t_average + url_char_.\", \"url_length * w_average\", \"url_char_. + url_char_?\", \"d_average + url_char_.\", \"2_average + url_char_.\", \"g_average + url_char_.\", \"u_average + url_char_.\", \"k_average + url_char_.\", \"url_char_.\", \"url_char_& + url_char_.\"], \"type\": \"bar\", \"uid\": \"bae6a89e-673c-4512-a950-e797a29f28a6\"}], {\"autosize\": false, \"height\": 1000, \"width\": 1000, \"xaxis\": {\"tickfont\": {\"color\": \"black\", \"size\": 12}, \"title\": \"Feature Importances\"}, \"yaxis\": {\"automargin\": true}}, {\"showLink\": true, \"linkText\": \"Export to plot.ly\", \"plotlyServerURL\": \"https://plot.ly\"})});</script>"
      ]
     },
     "metadata": {},
     "output_type": "display_data"
    }
   ],
   "source": [
    "feat_impt_plot(np.average(feat_imp,axis=0),feature_name)"
   ]
  },
  {
   "cell_type": "markdown",
   "metadata": {},
   "source": [
    "### <a id='5' style=\"text-decoration : none; color : #000000;\">5. Feature Transformation with PCA </a>"
   ]
  },
  {
   "cell_type": "code",
   "execution_count": 65,
   "metadata": {
    "collapsed": true
   },
   "outputs": [],
   "source": [
    "X=fs.loc[:,fs.columns!='Target']\n",
    "y=fs.Target.values\n",
    "feature_name = X.columns.tolist()\n",
    "X=np.nan_to_num(X)\n",
    "scaler=StandardScaler()\n",
    "scaled_X=scaler.fit_transform(X)"
   ]
  },
  {
   "cell_type": "code",
   "execution_count": 66,
   "metadata": {},
   "outputs": [
    {
     "data": {
      "image/png": "[encoded data removed]",
      "text/plain": [
       "<Figure size 720x576 with 1 Axes>"
      ]
     },
     "metadata": {},
     "output_type": "display_data"
    }
   ],
   "source": [
    "sns.set_style('whitegrid')\n",
    "pca = PCA(random_state=0)\n",
    "pca.fit(scaled_X)\n",
    "plt.figure(1, figsize=(10, 8))\n",
    "plt.plot(np.cumsum(pca.explained_variance_ratio_),'--o', linewidth=2)\n",
    "plt.axis('tight')\n",
    "plt.xlabel('Number of Components',size=14)\n",
    "plt.xticks(size=12)\n",
    "plt.xlim([0,200])\n",
    "plt.ylabel('% Explained Variance',size=14)\n",
    "plt.yticks(size=12)\n",
    "plt.title('% Variance Explained by Principal Components',size=14,y=1.05)\n",
    "plt.show()"
   ]
  },
  {
   "cell_type": "code",
   "execution_count": 70,
   "metadata": {},
   "outputs": [
    {
     "name": "stdout",
     "output_type": "stream",
     "text": [
      "Variance explained using 125 components is: 0.792018705953\n"
     ]
    }
   ],
   "source": [
    "pca=PCA(n_components=125,whiten=True,random_state=0)\n",
    "X_pca_21=pca.fit_transform(scaled_X)\n",
    "print(\"Variance explained using 125 components is:\",sum(pca.explained_variance_ratio_))"
   ]
  },
  {
   "cell_type": "code",
   "execution_count": 71,
   "metadata": {
    "collapsed": true
   },
   "outputs": [],
   "source": [
    "X_train=X_pca_21[:37417]\n",
    "Y_train=fs.iloc[:37417]['Target'].values\n",
    "X_test=X_pca_21[37417:]\n",
    "Y_test=fs.iloc[37417:]['Target'].values\n",
    "\n",
    "## Table to store training and test measures so we can compare later\n",
    "table_80_70_train=pd.DataFrame(columns=['accuracy','TP','TN','FP','FN','FPR','FNR'])\n",
    "table_80_70_test=pd.DataFrame(columns=['accuracy','TP','TN','FP','FN','FPR','FNR','auc','mcc'])"
   ]
  },
  {
   "cell_type": "code",
   "execution_count": 72,
   "metadata": {
    "scrolled": false
   },
   "outputs": [
    {
     "name": "stdout",
     "output_type": "stream",
     "text": [
      "\u001b[1mK-Nearest Neighbors\u001b[0m\n",
      "Accuracy of the model for training data is: 0.961594996927\n",
      "Confusion Matrix for training data is:\n"
     ]
    },
    {
     "data": {
      "text/plain": [
       "Predicted  False  True  __all__\n",
       "Actual                         \n",
       "False      31854    38    31892\n",
       "True        1399  4126     5525\n",
       "__all__    33253  4164    37417"
      ]
     },
     "metadata": {},
     "output_type": "display_data"
    },
    {
     "name": "stdout",
     "output_type": "stream",
     "text": [
      "Accuracy of the model for test data is: 0.955954671798\n",
      "Confusion Matrix for test data is:\n"
     ]
    },
    {
     "data": {
      "text/plain": [
       "Predicted  False  True  __all__\n",
       "Actual                         \n",
       "False       7964    21     7985\n",
       "True         391   978     1369\n",
       "__all__     8355   999     9354"
      ]
     },
     "metadata": {},
     "output_type": "display_data"
    },
    {
     "name": "stdout",
     "output_type": "stream",
     "text": [
      "\n",
      "\n",
      "\u001b[1mLogistic Regression\u001b[0m\n",
      "Accuracy of the model for training data is: 0.957078333378\n",
      "Confusion Matrix for training data is:\n"
     ]
    },
    {
     "data": {
      "text/plain": [
       "Predicted  False  True  __all__\n",
       "Actual                         \n",
       "False      31483   409    31892\n",
       "True        1197  4328     5525\n",
       "__all__    32680  4737    37417"
      ]
     },
     "metadata": {},
     "output_type": "display_data"
    },
    {
     "name": "stdout",
     "output_type": "stream",
     "text": [
      "Accuracy of the model for test data is: 0.959268762027\n",
      "Confusion Matrix for test data is:\n"
     ]
    },
    {
     "data": {
      "text/plain": [
       "Predicted  False  True  __all__\n",
       "Actual                         \n",
       "False       7878   107     7985\n",
       "True         274  1095     1369\n",
       "__all__     8152  1202     9354"
      ]
     },
     "metadata": {},
     "output_type": "display_data"
    },
    {
     "name": "stdout",
     "output_type": "stream",
     "text": [
      "\n",
      "\n",
      "\u001b[1mRandomForest Classifier\u001b[0m\n",
      "Accuracy of the model for training data is: 0.994494481118\n",
      "Confusion Matrix for training data is:\n"
     ]
    },
    {
     "data": {
      "text/plain": [
       "Predicted  False  True  __all__\n",
       "Actual                         \n",
       "False      31887     5    31892\n",
       "True         201  5324     5525\n",
       "__all__    32088  5329    37417"
      ]
     },
     "metadata": {},
     "output_type": "display_data"
    },
    {
     "name": "stdout",
     "output_type": "stream",
     "text": [
      "Accuracy of the model for test data is: 0.9594825743\n",
      "Confusion Matrix for test data is:\n"
     ]
    },
    {
     "data": {
      "text/plain": [
       "Predicted  False  True  __all__\n",
       "Actual                         \n",
       "False       7893    92     7985\n",
       "True         287  1082     1369\n",
       "__all__     8180  1174     9354"
      ]
     },
     "metadata": {},
     "output_type": "display_data"
    },
    {
     "data": {
      "application/vnd.plotly.v1+json": {
       "config": {
        "linkText": "Export to plot.ly",
        "plotlyServerURL": "https://plot.ly",
        "showLink": true
       },
       "data": [
        {
         "marker": {
          "color": "rgb(158,202,225)",
          "line": {
           "color": "rgb(8,48,107)",
           "width": 1.5
          }
         },
         "opacity": 0.6,
         "orientation": "h",
         "text": [
          0.1338,
          0.0875,
          0.087,
          0.0738,
          0.032,
          0.0315,
          0.023,
          0.0226,
          0.0205,
          0.0131,
          0.0127,
          0.0124,
          0.0114,
          0.0111,
          0.0109,
          0.0098,
          0.0096,
          0.0092,
          0.0087,
          0.0086,
          0.007,
          0.007,
          0.0068,
          0.0067,
          0.0063,
          0.0057,
          0.0057,
          0.0055,
          0.0054,
          0.0052,
          0.0051,
          0.0051,
          0.005,
          0.005,
          0.0049,
          0.0048,
          0.0047,
          0.0047,
          0.0047,
          0.0046,
          0.0046,
          0.0045,
          0.0044,
          0.0041,
          0.0041,
          0.004,
          0.004,
          0.004,
          0.0039,
          0.0039,
          0.0039,
          0.0038,
          0.0038,
          0.0038,
          0.0037,
          0.0037,
          0.0037,
          0.0037,
          0.0036,
          0.0036,
          0.0036,
          0.0035,
          0.0035,
          0.0035,
          0.0035,
          0.0034,
          0.0034,
          0.0033,
          0.0033,
          0.0033,
          0.0033,
          0.0033,
          0.0033,
          0.0033,
          0.0032,
          0.0032,
          0.0032,
          0.0032,
          0.0032,
          0.0032,
          0.0031,
          0.0031,
          0.0031,
          0.003,
          0.003,
          0.003,
          0.003,
          0.0029,
          0.0029,
          0.0029,
          0.0028,
          0.0028,
          0.0028,
          0.0027,
          0.0027,
          0.0027,
          0.0027,
          0.0026,
          0.0026,
          0.0026,
          0.0026,
          0.0026,
          0.0025,
          0.0025,
          0.0025,
          0.0025,
          0.0025,
          0.0025,
          0.0025,
          0.0024,
          0.0024,
          0.0024,
          0.0024,
          0.0024,
          0.0024,
          0.0023,
          0.0023,
          0.0022,
          0.0022,
          0.0021,
          0.0021,
          0.0021,
          0.002,
          0.002,
          0.002
         ],
         "textposition": "outside",
         "type": "bar",
         "uid": "f29d2e98-6be3-49f6-8ff4-b48af24c5a9d",
         "x": [
          0.13381529186707428,
          0.08749195018171776,
          0.0870459094443979,
          0.07381248599492697,
          0.03199560224263111,
          0.03154618998862117,
          0.023046463726444515,
          0.022621373781578184,
          0.020528045724094425,
          0.013089537948268743,
          0.012730133991025013,
          0.01238336044744939,
          0.011416899113720881,
          0.01110528238065888,
          0.010922943140144626,
          0.009834956265042988,
          0.009557299026655005,
          0.009201665893362668,
          0.00873073169530226,
          0.008610603532704278,
          0.006992185431711551,
          0.006967638563538751,
          0.006816020532405734,
          0.006707345604879093,
          0.006334329132866398,
          0.005718643086036987,
          0.005709861058687973,
          0.005482827800854181,
          0.005413478286404474,
          0.0052498337886989835,
          0.005107116107816579,
          0.005082393187736725,
          0.005025806458511212,
          0.004994121951680447,
          0.004888252245822359,
          0.0048036537477462084,
          0.004685262158203596,
          0.0046828227716950435,
          0.004678291057746168,
          0.004632363877977789,
          0.004631676315244428,
          0.004491790614356806,
          0.00442663913770458,
          0.004146052487803677,
          0.0041018627361905195,
          0.004036596293326582,
          0.0040111802262399274,
          0.003971367018106559,
          0.0038951018987482427,
          0.0038808506550535643,
          0.0038608267726512693,
          0.003846795574051481,
          0.0038453554574772062,
          0.0037646572269878107,
          0.0037120805592505647,
          0.0036911413701404784,
          0.0036779659148498227,
          0.0036727173598779792,
          0.0035831297762821098,
          0.003574862169953419,
          0.003565591732610598,
          0.003475241625058495,
          0.003456541559277509,
          0.0034546321337243684,
          0.0034521988444409907,
          0.0033687093742910783,
          0.0033601844623489057,
          0.003332685323918881,
          0.003330076225257869,
          0.003326075140886615,
          0.0033234219693795072,
          0.003292464673904816,
          0.0032864443403161554,
          0.0032632118346544213,
          0.003209770018098951,
          0.0031843754599191498,
          0.003172591546629411,
          0.003164985796433855,
          0.003161606110651179,
          0.003155812860377829,
          0.003110334474302399,
          0.0031007497699095,
          0.0030880704833469667,
          0.0030423756040102437,
          0.00301682726769978,
          0.0029916601259388485,
          0.002989748759918507,
          0.0029438796590766213,
          0.0029315176982639573,
          0.0028610625376759473,
          0.0028260110143439143,
          0.0027919589741312537,
          0.0027769650317684877,
          0.002743304486080952,
          0.002741409727382546,
          0.0027295037024107883,
          0.0026514008037657015,
          0.0025929271588558786,
          0.002583792395461346,
          0.002571846333648602,
          0.0025637671447297375,
          0.0025550190010429287,
          0.0025376983496427415,
          0.002533201015916896,
          0.002523482151432161,
          0.0025098403495838586,
          0.002507613255934635,
          0.002492238061745484,
          0.0024787118431333346,
          0.0024269603708661812,
          0.002404382717818483,
          0.002397018577816614,
          0.0023729650087598404,
          0.002372155942666618,
          0.0023617156504775476,
          0.0022975509788196093,
          0.0022622795606497643,
          0.002235285800006434,
          0.002172124163334285,
          0.002113831043761755,
          0.002085262478278088,
          0.0020754724546155163,
          0.002034318638236674,
          0.0020169147428318727,
          0.00196660085658784
         ],
         "y": [
          "8",
          "1",
          "0",
          "10",
          "2",
          "86",
          "3",
          "6",
          "87",
          "12",
          "9",
          "83",
          "59",
          "64",
          "77",
          "79",
          "76",
          "67",
          "50",
          "11",
          "52",
          "73",
          "49",
          "28",
          "81",
          "113",
          "71",
          "80",
          "29",
          "56",
          "85",
          "65",
          "66",
          "53",
          "4",
          "97",
          "34",
          "70",
          "5",
          "7",
          "68",
          "93",
          "47",
          "25",
          "78",
          "35",
          "60",
          "19",
          "37",
          "75",
          "24",
          "58",
          "38",
          "33",
          "41",
          "17",
          "103",
          "14",
          "43",
          "36",
          "18",
          "48",
          "42",
          "13",
          "116",
          "92",
          "100",
          "30",
          "40",
          "31",
          "45",
          "46",
          "32",
          "82",
          "20",
          "90",
          "102",
          "88",
          "26",
          "117",
          "21",
          "51",
          "89",
          "22",
          "98",
          "72",
          "39",
          "27",
          "104",
          "114",
          "23",
          "111",
          "109",
          "84",
          "119",
          "57",
          "115",
          "15",
          "107",
          "63",
          "94",
          "108",
          "99",
          "55",
          "124",
          "74",
          "96",
          "62",
          "54",
          "106",
          "118",
          "61",
          "110",
          "44",
          "16",
          "95",
          "91",
          "121",
          "120",
          "101",
          "105",
          "122",
          "123",
          "69",
          "112"
         ]
        }
       ],
       "layout": {
        "autosize": false,
        "height": 1000,
        "width": 1000,
        "xaxis": {
         "tickfont": {
          "color": "black",
          "size": 12
         },
         "title": "Feature Importances"
        },
        "yaxis": {
         "automargin": true
        }
       }
      },
      "text/html": [
       "<div id=\"63844625-3bb8-4dd4-9de7-868aad2d8bb9\" style=\"height: 1000px; width: 1000px;\" class=\"plotly-graph-div\"></div><script type=\"text/javascript\">require([\"plotly\"], function(Plotly) { window.PLOTLYENV=window.PLOTLYENV || {};window.PLOTLYENV.BASE_URL=\"https://plot.ly\";Plotly.newPlot(\"63844625-3bb8-4dd4-9de7-868aad2d8bb9\", [{\"marker\": {\"color\": \"rgb(158,202,225)\", \"line\": {\"color\": \"rgb(8,48,107)\", \"width\": 1.5}}, \"opacity\": 0.6, \"orientation\": \"h\", \"text\": [0.1338, 0.0875, 0.087, 0.0738, 0.032, 0.0315, 0.023, 0.0226, 0.0205, 0.0131, 0.0127, 0.0124, 0.0114, 0.0111, 0.0109, 0.0098, 0.0096, 0.0092, 0.0087, 0.0086, 0.007, 0.007, 0.0068, 0.0067, 0.0063, 0.0057, 0.0057, 0.0055, 0.0054, 0.0052, 0.0051, 0.0051, 0.005, 0.005, 0.0049, 0.0048, 0.0047, 0.0047, 0.0047, 0.0046, 0.0046, 0.0045, 0.0044, 0.0041, 0.0041, 0.004, 0.004, 0.004, 0.0039, 0.0039, 0.0039, 0.0038, 0.0038, 0.0038, 0.0037, 0.0037, 0.0037, 0.0037, 0.0036, 0.0036, 0.0036, 0.0035, 0.0035, 0.0035, 0.0035, 0.0034, 0.0034, 0.0033, 0.0033, 0.0033, 0.0033, 0.0033, 0.0033, 0.0033, 0.0032, 0.0032, 0.0032, 0.0032, 0.0032, 0.0032, 0.0031, 0.0031, 0.0031, 0.003, 0.003, 0.003, 0.003, 0.0029, 0.0029, 0.0029, 0.0028, 0.0028, 0.0028, 0.0027, 0.0027, 0.0027, 0.0027, 0.0026, 0.0026, 0.0026, 0.0026, 0.0026, 0.0025, 0.0025, 0.0025, 0.0025, 0.0025, 0.0025, 0.0025, 0.0024, 0.0024, 0.0024, 0.0024, 0.0024, 0.0024, 0.0023, 0.0023, 0.0022, 0.0022, 0.0021, 0.0021, 0.0021, 0.002, 0.002, 0.002], \"textposition\": \"outside\", \"x\": [0.13381529186707428, 0.08749195018171776, 0.0870459094443979, 0.07381248599492697, 0.03199560224263111, 0.03154618998862117, 0.023046463726444515, 0.022621373781578184, 0.020528045724094425, 0.013089537948268743, 0.012730133991025013, 0.01238336044744939, 0.011416899113720881, 0.01110528238065888, 0.010922943140144626, 0.009834956265042988, 0.009557299026655005, 0.009201665893362668, 0.00873073169530226, 0.008610603532704278, 0.006992185431711551, 0.006967638563538751, 0.006816020532405734, 0.006707345604879093, 0.006334329132866398, 0.005718643086036987, 0.005709861058687973, 0.005482827800854181, 0.005413478286404474, 0.0052498337886989835, 0.005107116107816579, 0.005082393187736725, 0.005025806458511212, 0.004994121951680447, 0.004888252245822359, 0.0048036537477462084, 0.004685262158203596, 0.0046828227716950435, 0.004678291057746168, 0.004632363877977789, 0.004631676315244428, 0.004491790614356806, 0.00442663913770458, 0.004146052487803677, 0.0041018627361905195, 0.004036596293326582, 0.0040111802262399274, 0.003971367018106559, 0.0038951018987482427, 0.0038808506550535643, 0.0038608267726512693, 0.003846795574051481, 0.0038453554574772062, 0.0037646572269878107, 0.0037120805592505647, 0.0036911413701404784, 0.0036779659148498227, 0.0036727173598779792, 0.0035831297762821098, 0.003574862169953419, 0.003565591732610598, 0.003475241625058495, 0.003456541559277509, 0.0034546321337243684, 0.0034521988444409907, 0.0033687093742910783, 0.0033601844623489057, 0.003332685323918881, 0.003330076225257869, 0.003326075140886615, 0.0033234219693795072, 0.003292464673904816, 0.0032864443403161554, 0.0032632118346544213, 0.003209770018098951, 0.0031843754599191498, 0.003172591546629411, 0.003164985796433855, 0.003161606110651179, 0.003155812860377829, 0.003110334474302399, 0.0031007497699095, 0.0030880704833469667, 0.0030423756040102437, 0.00301682726769978, 0.0029916601259388485, 0.002989748759918507, 0.0029438796590766213, 0.0029315176982639573, 0.0028610625376759473, 0.0028260110143439143, 0.0027919589741312537, 0.0027769650317684877, 0.002743304486080952, 0.002741409727382546, 0.0027295037024107883, 0.0026514008037657015, 0.0025929271588558786, 0.002583792395461346, 0.002571846333648602, 0.0025637671447297375, 0.0025550190010429287, 0.0025376983496427415, 0.002533201015916896, 0.002523482151432161, 0.0025098403495838586, 0.002507613255934635, 0.002492238061745484, 0.0024787118431333346, 0.0024269603708661812, 0.002404382717818483, 0.002397018577816614, 0.0023729650087598404, 0.002372155942666618, 0.0023617156504775476, 0.0022975509788196093, 0.0022622795606497643, 0.002235285800006434, 0.002172124163334285, 0.002113831043761755, 0.002085262478278088, 0.0020754724546155163, 0.002034318638236674, 0.0020169147428318727, 0.00196660085658784], \"y\": [\"8\", \"1\", \"0\", \"10\", \"2\", \"86\", \"3\", \"6\", \"87\", \"12\", \"9\", \"83\", \"59\", \"64\", \"77\", \"79\", \"76\", \"67\", \"50\", \"11\", \"52\", \"73\", \"49\", \"28\", \"81\", \"113\", \"71\", \"80\", \"29\", \"56\", \"85\", \"65\", \"66\", \"53\", \"4\", \"97\", \"34\", \"70\", \"5\", \"7\", \"68\", \"93\", \"47\", \"25\", \"78\", \"35\", \"60\", \"19\", \"37\", \"75\", \"24\", \"58\", \"38\", \"33\", \"41\", \"17\", \"103\", \"14\", \"43\", \"36\", \"18\", \"48\", \"42\", \"13\", \"116\", \"92\", \"100\", \"30\", \"40\", \"31\", \"45\", \"46\", \"32\", \"82\", \"20\", \"90\", \"102\", \"88\", \"26\", \"117\", \"21\", \"51\", \"89\", \"22\", \"98\", \"72\", \"39\", \"27\", \"104\", \"114\", \"23\", \"111\", \"109\", \"84\", \"119\", \"57\", \"115\", \"15\", \"107\", \"63\", \"94\", \"108\", \"99\", \"55\", \"124\", \"74\", \"96\", \"62\", \"54\", \"106\", \"118\", \"61\", \"110\", \"44\", \"16\", \"95\", \"91\", \"121\", \"120\", \"101\", \"105\", \"122\", \"123\", \"69\", \"112\"], \"type\": \"bar\", \"uid\": \"f29d2e98-6be3-49f6-8ff4-b48af24c5a9d\"}], {\"autosize\": false, \"height\": 1000, \"width\": 1000, \"xaxis\": {\"tickfont\": {\"color\": \"black\", \"size\": 12}, \"title\": \"Feature Importances\"}, \"yaxis\": {\"automargin\": true}}, {\"showLink\": true, \"linkText\": \"Export to plot.ly\", \"plotlyServerURL\": \"https://plot.ly\"})});</script>"
      ],
      "text/vnd.plotly.v1+html": [
       "<div id=\"63844625-3bb8-4dd4-9de7-868aad2d8bb9\" style=\"height: 1000px; width: 1000px;\" class=\"plotly-graph-div\"></div><script type=\"text/javascript\">require([\"plotly\"], function(Plotly) { window.PLOTLYENV=window.PLOTLYENV || {};window.PLOTLYENV.BASE_URL=\"https://plot.ly\";Plotly.newPlot(\"63844625-3bb8-4dd4-9de7-868aad2d8bb9\", [{\"marker\": {\"color\": \"rgb(158,202,225)\", \"line\": {\"color\": \"rgb(8,48,107)\", \"width\": 1.5}}, \"opacity\": 0.6, \"orientation\": \"h\", \"text\": [0.1338, 0.0875, 0.087, 0.0738, 0.032, 0.0315, 0.023, 0.0226, 0.0205, 0.0131, 0.0127, 0.0124, 0.0114, 0.0111, 0.0109, 0.0098, 0.0096, 0.0092, 0.0087, 0.0086, 0.007, 0.007, 0.0068, 0.0067, 0.0063, 0.0057, 0.0057, 0.0055, 0.0054, 0.0052, 0.0051, 0.0051, 0.005, 0.005, 0.0049, 0.0048, 0.0047, 0.0047, 0.0047, 0.0046, 0.0046, 0.0045, 0.0044, 0.0041, 0.0041, 0.004, 0.004, 0.004, 0.0039, 0.0039, 0.0039, 0.0038, 0.0038, 0.0038, 0.0037, 0.0037, 0.0037, 0.0037, 0.0036, 0.0036, 0.0036, 0.0035, 0.0035, 0.0035, 0.0035, 0.0034, 0.0034, 0.0033, 0.0033, 0.0033, 0.0033, 0.0033, 0.0033, 0.0033, 0.0032, 0.0032, 0.0032, 0.0032, 0.0032, 0.0032, 0.0031, 0.0031, 0.0031, 0.003, 0.003, 0.003, 0.003, 0.0029, 0.0029, 0.0029, 0.0028, 0.0028, 0.0028, 0.0027, 0.0027, 0.0027, 0.0027, 0.0026, 0.0026, 0.0026, 0.0026, 0.0026, 0.0025, 0.0025, 0.0025, 0.0025, 0.0025, 0.0025, 0.0025, 0.0024, 0.0024, 0.0024, 0.0024, 0.0024, 0.0024, 0.0023, 0.0023, 0.0022, 0.0022, 0.0021, 0.0021, 0.0021, 0.002, 0.002, 0.002], \"textposition\": \"outside\", \"x\": [0.13381529186707428, 0.08749195018171776, 0.0870459094443979, 0.07381248599492697, 0.03199560224263111, 0.03154618998862117, 0.023046463726444515, 0.022621373781578184, 0.020528045724094425, 0.013089537948268743, 0.012730133991025013, 0.01238336044744939, 0.011416899113720881, 0.01110528238065888, 0.010922943140144626, 0.009834956265042988, 0.009557299026655005, 0.009201665893362668, 0.00873073169530226, 0.008610603532704278, 0.006992185431711551, 0.006967638563538751, 0.006816020532405734, 0.006707345604879093, 0.006334329132866398, 0.005718643086036987, 0.005709861058687973, 0.005482827800854181, 0.005413478286404474, 0.0052498337886989835, 0.005107116107816579, 0.005082393187736725, 0.005025806458511212, 0.004994121951680447, 0.004888252245822359, 0.0048036537477462084, 0.004685262158203596, 0.0046828227716950435, 0.004678291057746168, 0.004632363877977789, 0.004631676315244428, 0.004491790614356806, 0.00442663913770458, 0.004146052487803677, 0.0041018627361905195, 0.004036596293326582, 0.0040111802262399274, 0.003971367018106559, 0.0038951018987482427, 0.0038808506550535643, 0.0038608267726512693, 0.003846795574051481, 0.0038453554574772062, 0.0037646572269878107, 0.0037120805592505647, 0.0036911413701404784, 0.0036779659148498227, 0.0036727173598779792, 0.0035831297762821098, 0.003574862169953419, 0.003565591732610598, 0.003475241625058495, 0.003456541559277509, 0.0034546321337243684, 0.0034521988444409907, 0.0033687093742910783, 0.0033601844623489057, 0.003332685323918881, 0.003330076225257869, 0.003326075140886615, 0.0033234219693795072, 0.003292464673904816, 0.0032864443403161554, 0.0032632118346544213, 0.003209770018098951, 0.0031843754599191498, 0.003172591546629411, 0.003164985796433855, 0.003161606110651179, 0.003155812860377829, 0.003110334474302399, 0.0031007497699095, 0.0030880704833469667, 0.0030423756040102437, 0.00301682726769978, 0.0029916601259388485, 0.002989748759918507, 0.0029438796590766213, 0.0029315176982639573, 0.0028610625376759473, 0.0028260110143439143, 0.0027919589741312537, 0.0027769650317684877, 0.002743304486080952, 0.002741409727382546, 0.0027295037024107883, 0.0026514008037657015, 0.0025929271588558786, 0.002583792395461346, 0.002571846333648602, 0.0025637671447297375, 0.0025550190010429287, 0.0025376983496427415, 0.002533201015916896, 0.002523482151432161, 0.0025098403495838586, 0.002507613255934635, 0.002492238061745484, 0.0024787118431333346, 0.0024269603708661812, 0.002404382717818483, 0.002397018577816614, 0.0023729650087598404, 0.002372155942666618, 0.0023617156504775476, 0.0022975509788196093, 0.0022622795606497643, 0.002235285800006434, 0.002172124163334285, 0.002113831043761755, 0.002085262478278088, 0.0020754724546155163, 0.002034318638236674, 0.0020169147428318727, 0.00196660085658784], \"y\": [\"8\", \"1\", \"0\", \"10\", \"2\", \"86\", \"3\", \"6\", \"87\", \"12\", \"9\", \"83\", \"59\", \"64\", \"77\", \"79\", \"76\", \"67\", \"50\", \"11\", \"52\", \"73\", \"49\", \"28\", \"81\", \"113\", \"71\", \"80\", \"29\", \"56\", \"85\", \"65\", \"66\", \"53\", \"4\", \"97\", \"34\", \"70\", \"5\", \"7\", \"68\", \"93\", \"47\", \"25\", \"78\", \"35\", \"60\", \"19\", \"37\", \"75\", \"24\", \"58\", \"38\", \"33\", \"41\", \"17\", \"103\", \"14\", \"43\", \"36\", \"18\", \"48\", \"42\", \"13\", \"116\", \"92\", \"100\", \"30\", \"40\", \"31\", \"45\", \"46\", \"32\", \"82\", \"20\", \"90\", \"102\", \"88\", \"26\", \"117\", \"21\", \"51\", \"89\", \"22\", \"98\", \"72\", \"39\", \"27\", \"104\", \"114\", \"23\", \"111\", \"109\", \"84\", \"119\", \"57\", \"115\", \"15\", \"107\", \"63\", \"94\", \"108\", \"99\", \"55\", \"124\", \"74\", \"96\", \"62\", \"54\", \"106\", \"118\", \"61\", \"110\", \"44\", \"16\", \"95\", \"91\", \"121\", \"120\", \"101\", \"105\", \"122\", \"123\", \"69\", \"112\"], \"type\": \"bar\", \"uid\": \"f29d2e98-6be3-49f6-8ff4-b48af24c5a9d\"}], {\"autosize\": false, \"height\": 1000, \"width\": 1000, \"xaxis\": {\"tickfont\": {\"color\": \"black\", \"size\": 12}, \"title\": \"Feature Importances\"}, \"yaxis\": {\"automargin\": true}}, {\"showLink\": true, \"linkText\": \"Export to plot.ly\", \"plotlyServerURL\": \"https://plot.ly\"})});</script>"
      ]
     },
     "metadata": {},
     "output_type": "display_data"
    },
    {
     "name": "stdout",
     "output_type": "stream",
     "text": [
      "\n",
      "\n",
      "\u001b[1mAdaoost Classifier\u001b[0m\n",
      "Accuracy of the model for training data is: 0.951572814496\n",
      "Confusion Matrix for training data is:\n"
     ]
    },
    {
     "data": {
      "text/plain": [
       "Predicted  False  True  __all__\n",
       "Actual                         \n",
       "False      31307   585    31892\n",
       "True        1227  4298     5525\n",
       "__all__    32534  4883    37417"
      ]
     },
     "metadata": {},
     "output_type": "display_data"
    },
    {
     "name": "stdout",
     "output_type": "stream",
     "text": [
      "Accuracy of the model for test data is: 0.952533675433\n",
      "Confusion Matrix for test data is:\n"
     ]
    },
    {
     "data": {
      "text/plain": [
       "Predicted  False  True  __all__\n",
       "Actual                         \n",
       "False       7829   156     7985\n",
       "True         288  1081     1369\n",
       "__all__     8117  1237     9354"
      ]
     },
     "metadata": {},
     "output_type": "display_data"
    },
    {
     "data": {
      "application/vnd.plotly.v1+json": {
       "config": {
        "linkText": "Export to plot.ly",
        "plotlyServerURL": "https://plot.ly",
        "showLink": true
       },
       "data": [
        {
         "marker": {
          "color": "rgb(158,202,225)",
          "line": {
           "color": "rgb(8,48,107)",
           "width": 1.5
          }
         },
         "opacity": 0.6,
         "orientation": "h",
         "text": [
          0.22,
          0.06,
          0.06,
          0.06,
          0.04,
          0.04,
          0.04,
          0.04,
          0.02,
          0.02,
          0.02,
          0.02,
          0.02,
          0.02,
          0.02,
          0.02,
          0.02,
          0.02,
          0.02,
          0.02,
          0.02,
          0.02,
          0.02,
          0.02,
          0.02,
          0.02,
          0.02,
          0.02,
          0.02,
          0.02,
          0,
          0,
          0,
          0,
          0,
          0,
          0,
          0,
          0,
          0,
          0,
          0,
          0,
          0,
          0,
          0,
          0,
          0,
          0,
          0,
          0,
          0,
          0,
          0,
          0,
          0,
          0,
          0,
          0,
          0,
          0,
          0,
          0,
          0,
          0,
          0,
          0,
          0,
          0,
          0,
          0,
          0,
          0,
          0,
          0,
          0,
          0,
          0,
          0,
          0,
          0,
          0,
          0,
          0,
          0,
          0,
          0,
          0,
          0,
          0,
          0,
          0,
          0,
          0,
          0,
          0,
          0,
          0,
          0,
          0,
          0,
          0,
          0,
          0,
          0,
          0,
          0,
          0,
          0,
          0,
          0,
          0,
          0,
          0,
          0,
          0,
          0,
          0,
          0,
          0,
          0,
          0,
          0,
          0,
          0
         ],
         "textposition": "outside",
         "type": "bar",
         "uid": "a2fb0a39-77ac-4798-b3cc-49ce599aa51d",
         "x": [
          0.22,
          0.06,
          0.06,
          0.06,
          0.04,
          0.04,
          0.04,
          0.04,
          0.02,
          0.02,
          0.02,
          0.02,
          0.02,
          0.02,
          0.02,
          0.02,
          0.02,
          0.02,
          0.02,
          0.02,
          0.02,
          0.02,
          0.02,
          0.02,
          0.02,
          0.02,
          0.02,
          0.02,
          0.02,
          0.02,
          0,
          0,
          0,
          0,
          0,
          0,
          0,
          0,
          0,
          0,
          0,
          0,
          0,
          0,
          0,
          0,
          0,
          0,
          0,
          0,
          0,
          0,
          0,
          0,
          0,
          0,
          0,
          0,
          0,
          0,
          0,
          0,
          0,
          0,
          0,
          0,
          0,
          0,
          0,
          0,
          0,
          0,
          0,
          0,
          0,
          0,
          0,
          0,
          0,
          0,
          0,
          0,
          0,
          0,
          0,
          0,
          0,
          0,
          0,
          0,
          0,
          0,
          0,
          0,
          0,
          0,
          0,
          0,
          0,
          0,
          0,
          0,
          0,
          0,
          0,
          0,
          0,
          0,
          0,
          0,
          0,
          0,
          0,
          0,
          0,
          0,
          0,
          0,
          0,
          0,
          0,
          0,
          0,
          0,
          0
         ],
         "y": [
          "0",
          "12",
          "3",
          "8",
          "1",
          "7",
          "11",
          "2",
          "64",
          "66",
          "81",
          "83",
          "112",
          "87",
          "90",
          "92",
          "46",
          "73",
          "35",
          "30",
          "29",
          "28",
          "26",
          "74",
          "15",
          "116",
          "19",
          "13",
          "5",
          "9",
          "121",
          "91",
          "120",
          "89",
          "88",
          "86",
          "85",
          "84",
          "113",
          "82",
          "93",
          "80",
          "79",
          "123",
          "78",
          "77",
          "76",
          "75",
          "122",
          "94",
          "111",
          "95",
          "114",
          "110",
          "115",
          "109",
          "108",
          "107",
          "106",
          "117",
          "118",
          "104",
          "103",
          "102",
          "101",
          "100",
          "99",
          "98",
          "97",
          "96",
          "119",
          "105",
          "62",
          "72",
          "71",
          "40",
          "39",
          "38",
          "37",
          "36",
          "34",
          "33",
          "32",
          "31",
          "27",
          "25",
          "24",
          "23",
          "22",
          "21",
          "20",
          "18",
          "17",
          "16",
          "14",
          "10",
          "6",
          "4",
          "41",
          "42",
          "43",
          "57",
          "70",
          "69",
          "68",
          "67",
          "65",
          "63",
          "61",
          "60",
          "59",
          "58",
          "56",
          "44",
          "55",
          "54",
          "53",
          "52",
          "51",
          "50",
          "49",
          "48",
          "47",
          "45",
          "124"
         ]
        }
       ],
       "layout": {
        "autosize": false,
        "height": 1000,
        "width": 1000,
        "xaxis": {
         "tickfont": {
          "color": "black",
          "size": 12
         },
         "title": "Feature Importances"
        },
        "yaxis": {
         "automargin": true
        }
       }
      },
      "text/html": [
       "<div id=\"8c4a2468-b617-4a0d-abd2-a0aa2076b8af\" style=\"height: 1000px; width: 1000px;\" class=\"plotly-graph-div\"></div><script type=\"text/javascript\">require([\"plotly\"], function(Plotly) { window.PLOTLYENV=window.PLOTLYENV || {};window.PLOTLYENV.BASE_URL=\"https://plot.ly\";Plotly.newPlot(\"8c4a2468-b617-4a0d-abd2-a0aa2076b8af\", [{\"marker\": {\"color\": \"rgb(158,202,225)\", \"line\": {\"color\": \"rgb(8,48,107)\", \"width\": 1.5}}, \"opacity\": 0.6, \"orientation\": \"h\", \"text\": [0.22, 0.06, 0.06, 0.06, 0.04, 0.04, 0.04, 0.04, 0.02, 0.02, 0.02, 0.02, 0.02, 0.02, 0.02, 0.02, 0.02, 0.02, 0.02, 0.02, 0.02, 0.02, 0.02, 0.02, 0.02, 0.02, 0.02, 0.02, 0.02, 0.02, 0.0, 0.0, 0.0, 0.0, 0.0, 0.0, 0.0, 0.0, 0.0, 0.0, 0.0, 0.0, 0.0, 0.0, 0.0, 0.0, 0.0, 0.0, 0.0, 0.0, 0.0, 0.0, 0.0, 0.0, 0.0, 0.0, 0.0, 0.0, 0.0, 0.0, 0.0, 0.0, 0.0, 0.0, 0.0, 0.0, 0.0, 0.0, 0.0, 0.0, 0.0, 0.0, 0.0, 0.0, 0.0, 0.0, 0.0, 0.0, 0.0, 0.0, 0.0, 0.0, 0.0, 0.0, 0.0, 0.0, 0.0, 0.0, 0.0, 0.0, 0.0, 0.0, 0.0, 0.0, 0.0, 0.0, 0.0, 0.0, 0.0, 0.0, 0.0, 0.0, 0.0, 0.0, 0.0, 0.0, 0.0, 0.0, 0.0, 0.0, 0.0, 0.0, 0.0, 0.0, 0.0, 0.0, 0.0, 0.0, 0.0, 0.0, 0.0, 0.0, 0.0, 0.0, 0.0], \"textposition\": \"outside\", \"x\": [0.22, 0.06, 0.06, 0.06, 0.04, 0.04, 0.04, 0.04, 0.02, 0.02, 0.02, 0.02, 0.02, 0.02, 0.02, 0.02, 0.02, 0.02, 0.02, 0.02, 0.02, 0.02, 0.02, 0.02, 0.02, 0.02, 0.02, 0.02, 0.02, 0.02, 0.0, 0.0, 0.0, 0.0, 0.0, 0.0, 0.0, 0.0, 0.0, 0.0, 0.0, 0.0, 0.0, 0.0, 0.0, 0.0, 0.0, 0.0, 0.0, 0.0, 0.0, 0.0, 0.0, 0.0, 0.0, 0.0, 0.0, 0.0, 0.0, 0.0, 0.0, 0.0, 0.0, 0.0, 0.0, 0.0, 0.0, 0.0, 0.0, 0.0, 0.0, 0.0, 0.0, 0.0, 0.0, 0.0, 0.0, 0.0, 0.0, 0.0, 0.0, 0.0, 0.0, 0.0, 0.0, 0.0, 0.0, 0.0, 0.0, 0.0, 0.0, 0.0, 0.0, 0.0, 0.0, 0.0, 0.0, 0.0, 0.0, 0.0, 0.0, 0.0, 0.0, 0.0, 0.0, 0.0, 0.0, 0.0, 0.0, 0.0, 0.0, 0.0, 0.0, 0.0, 0.0, 0.0, 0.0, 0.0, 0.0, 0.0, 0.0, 0.0, 0.0, 0.0, 0.0], \"y\": [\"0\", \"12\", \"3\", \"8\", \"1\", \"7\", \"11\", \"2\", \"64\", \"66\", \"81\", \"83\", \"112\", \"87\", \"90\", \"92\", \"46\", \"73\", \"35\", \"30\", \"29\", \"28\", \"26\", \"74\", \"15\", \"116\", \"19\", \"13\", \"5\", \"9\", \"121\", \"91\", \"120\", \"89\", \"88\", \"86\", \"85\", \"84\", \"113\", \"82\", \"93\", \"80\", \"79\", \"123\", \"78\", \"77\", \"76\", \"75\", \"122\", \"94\", \"111\", \"95\", \"114\", \"110\", \"115\", \"109\", \"108\", \"107\", \"106\", \"117\", \"118\", \"104\", \"103\", \"102\", \"101\", \"100\", \"99\", \"98\", \"97\", \"96\", \"119\", \"105\", \"62\", \"72\", \"71\", \"40\", \"39\", \"38\", \"37\", \"36\", \"34\", \"33\", \"32\", \"31\", \"27\", \"25\", \"24\", \"23\", \"22\", \"21\", \"20\", \"18\", \"17\", \"16\", \"14\", \"10\", \"6\", \"4\", \"41\", \"42\", \"43\", \"57\", \"70\", \"69\", \"68\", \"67\", \"65\", \"63\", \"61\", \"60\", \"59\", \"58\", \"56\", \"44\", \"55\", \"54\", \"53\", \"52\", \"51\", \"50\", \"49\", \"48\", \"47\", \"45\", \"124\"], \"type\": \"bar\", \"uid\": \"a2fb0a39-77ac-4798-b3cc-49ce599aa51d\"}], {\"autosize\": false, \"height\": 1000, \"width\": 1000, \"xaxis\": {\"tickfont\": {\"color\": \"black\", \"size\": 12}, \"title\": \"Feature Importances\"}, \"yaxis\": {\"automargin\": true}}, {\"showLink\": true, \"linkText\": \"Export to plot.ly\", \"plotlyServerURL\": \"https://plot.ly\"})});</script>"
      ],
      "text/vnd.plotly.v1+html": [
       "<div id=\"8c4a2468-b617-4a0d-abd2-a0aa2076b8af\" style=\"height: 1000px; width: 1000px;\" class=\"plotly-graph-div\"></div><script type=\"text/javascript\">require([\"plotly\"], function(Plotly) { window.PLOTLYENV=window.PLOTLYENV || {};window.PLOTLYENV.BASE_URL=\"https://plot.ly\";Plotly.newPlot(\"8c4a2468-b617-4a0d-abd2-a0aa2076b8af\", [{\"marker\": {\"color\": \"rgb(158,202,225)\", \"line\": {\"color\": \"rgb(8,48,107)\", \"width\": 1.5}}, \"opacity\": 0.6, \"orientation\": \"h\", \"text\": [0.22, 0.06, 0.06, 0.06, 0.04, 0.04, 0.04, 0.04, 0.02, 0.02, 0.02, 0.02, 0.02, 0.02, 0.02, 0.02, 0.02, 0.02, 0.02, 0.02, 0.02, 0.02, 0.02, 0.02, 0.02, 0.02, 0.02, 0.02, 0.02, 0.02, 0.0, 0.0, 0.0, 0.0, 0.0, 0.0, 0.0, 0.0, 0.0, 0.0, 0.0, 0.0, 0.0, 0.0, 0.0, 0.0, 0.0, 0.0, 0.0, 0.0, 0.0, 0.0, 0.0, 0.0, 0.0, 0.0, 0.0, 0.0, 0.0, 0.0, 0.0, 0.0, 0.0, 0.0, 0.0, 0.0, 0.0, 0.0, 0.0, 0.0, 0.0, 0.0, 0.0, 0.0, 0.0, 0.0, 0.0, 0.0, 0.0, 0.0, 0.0, 0.0, 0.0, 0.0, 0.0, 0.0, 0.0, 0.0, 0.0, 0.0, 0.0, 0.0, 0.0, 0.0, 0.0, 0.0, 0.0, 0.0, 0.0, 0.0, 0.0, 0.0, 0.0, 0.0, 0.0, 0.0, 0.0, 0.0, 0.0, 0.0, 0.0, 0.0, 0.0, 0.0, 0.0, 0.0, 0.0, 0.0, 0.0, 0.0, 0.0, 0.0, 0.0, 0.0, 0.0], \"textposition\": \"outside\", \"x\": [0.22, 0.06, 0.06, 0.06, 0.04, 0.04, 0.04, 0.04, 0.02, 0.02, 0.02, 0.02, 0.02, 0.02, 0.02, 0.02, 0.02, 0.02, 0.02, 0.02, 0.02, 0.02, 0.02, 0.02, 0.02, 0.02, 0.02, 0.02, 0.02, 0.02, 0.0, 0.0, 0.0, 0.0, 0.0, 0.0, 0.0, 0.0, 0.0, 0.0, 0.0, 0.0, 0.0, 0.0, 0.0, 0.0, 0.0, 0.0, 0.0, 0.0, 0.0, 0.0, 0.0, 0.0, 0.0, 0.0, 0.0, 0.0, 0.0, 0.0, 0.0, 0.0, 0.0, 0.0, 0.0, 0.0, 0.0, 0.0, 0.0, 0.0, 0.0, 0.0, 0.0, 0.0, 0.0, 0.0, 0.0, 0.0, 0.0, 0.0, 0.0, 0.0, 0.0, 0.0, 0.0, 0.0, 0.0, 0.0, 0.0, 0.0, 0.0, 0.0, 0.0, 0.0, 0.0, 0.0, 0.0, 0.0, 0.0, 0.0, 0.0, 0.0, 0.0, 0.0, 0.0, 0.0, 0.0, 0.0, 0.0, 0.0, 0.0, 0.0, 0.0, 0.0, 0.0, 0.0, 0.0, 0.0, 0.0, 0.0, 0.0, 0.0, 0.0, 0.0, 0.0], \"y\": [\"0\", \"12\", \"3\", \"8\", \"1\", \"7\", \"11\", \"2\", \"64\", \"66\", \"81\", \"83\", \"112\", \"87\", \"90\", \"92\", \"46\", \"73\", \"35\", \"30\", \"29\", \"28\", \"26\", \"74\", \"15\", \"116\", \"19\", \"13\", \"5\", \"9\", \"121\", \"91\", \"120\", \"89\", \"88\", \"86\", \"85\", \"84\", \"113\", \"82\", \"93\", \"80\", \"79\", \"123\", \"78\", \"77\", \"76\", \"75\", \"122\", \"94\", \"111\", \"95\", \"114\", \"110\", \"115\", \"109\", \"108\", \"107\", \"106\", \"117\", \"118\", \"104\", \"103\", \"102\", \"101\", \"100\", \"99\", \"98\", \"97\", \"96\", \"119\", \"105\", \"62\", \"72\", \"71\", \"40\", \"39\", \"38\", \"37\", \"36\", \"34\", \"33\", \"32\", \"31\", \"27\", \"25\", \"24\", \"23\", \"22\", \"21\", \"20\", \"18\", \"17\", \"16\", \"14\", \"10\", \"6\", \"4\", \"41\", \"42\", \"43\", \"57\", \"70\", \"69\", \"68\", \"67\", \"65\", \"63\", \"61\", \"60\", \"59\", \"58\", \"56\", \"44\", \"55\", \"54\", \"53\", \"52\", \"51\", \"50\", \"49\", \"48\", \"47\", \"45\", \"124\"], \"type\": \"bar\", \"uid\": \"a2fb0a39-77ac-4798-b3cc-49ce599aa51d\"}], {\"autosize\": false, \"height\": 1000, \"width\": 1000, \"xaxis\": {\"tickfont\": {\"color\": \"black\", \"size\": 12}, \"title\": \"Feature Importances\"}, \"yaxis\": {\"automargin\": true}}, {\"showLink\": true, \"linkText\": \"Export to plot.ly\", \"plotlyServerURL\": \"https://plot.ly\"})});</script>"
      ]
     },
     "metadata": {},
     "output_type": "display_data"
    },
    {
     "name": "stdout",
     "output_type": "stream",
     "text": [
      "\n",
      "\n",
      "\u001b[1mGradientBoosting Classifier\u001b[0m\n",
      "Accuracy of the model for training data is: 0.962289868242\n",
      "Confusion Matrix for training data is:\n"
     ]
    },
    {
     "data": {
      "text/plain": [
       "Predicted  False  True  __all__\n",
       "Actual                         \n",
       "False      31505   387    31892\n",
       "True        1024  4501     5525\n",
       "__all__    32529  4888    37417"
      ]
     },
     "metadata": {},
     "output_type": "display_data"
    },
    {
     "name": "stdout",
     "output_type": "stream",
     "text": [
      "Accuracy of the model for test data is: 0.960872354073\n",
      "Confusion Matrix for test data is:\n"
     ]
    },
    {
     "data": {
      "text/plain": [
       "Predicted  False  True  __all__\n",
       "Actual                         \n",
       "False       7866   119     7985\n",
       "True         247  1122     1369\n",
       "__all__     8113  1241     9354"
      ]
     },
     "metadata": {},
     "output_type": "display_data"
    },
    {
     "data": {
      "application/vnd.plotly.v1+json": {
       "config": {
        "linkText": "Export to plot.ly",
        "plotlyServerURL": "https://plot.ly",
        "showLink": true
       },
       "data": [
        {
         "marker": {
          "color": "rgb(158,202,225)",
          "line": {
           "color": "rgb(8,48,107)",
           "width": 1.5
          }
         },
         "opacity": 0.6,
         "orientation": "h",
         "text": [
          0.7025,
          0.1115,
          0.0493,
          0.0199,
          0.0129,
          0.0102,
          0.0081,
          0.0079,
          0.0071,
          0.0067,
          0.0054,
          0.005,
          0.0048,
          0.0039,
          0.0039,
          0.0035,
          0.0029,
          0.0027,
          0.0025,
          0.0024,
          0.0018,
          0.0014,
          0.0013,
          0.0012,
          0.0012,
          0.0011,
          0.001,
          0.0009,
          0.0009,
          0.0008,
          0.0008,
          0.0007,
          0.0006,
          0.0006,
          0.0006,
          0.0006,
          0.0006,
          0.0005,
          0.0005,
          0.0005,
          0.0005,
          0.0004,
          0.0004,
          0.0004,
          0.0004,
          0.0004,
          0.0004,
          0.0004,
          0.0004,
          0.0003,
          0.0003,
          0.0003,
          0.0003,
          0.0003,
          0.0003,
          0.0003,
          0.0002,
          0.0002,
          0.0002,
          0.0002,
          0.0002,
          0.0002,
          0.0002,
          0.0001,
          0.0001,
          0.0001,
          0.0001,
          0.0001,
          0.0001,
          0.0001,
          0.0001,
          0.0001,
          0.0001,
          0.0001,
          0.0001,
          0.0001,
          0.0001,
          0.0001,
          0.0001,
          0.0001,
          0.0001,
          0.0001,
          0.0001,
          0.0001,
          0.0001,
          0.0001,
          0,
          0,
          0,
          0,
          0,
          0,
          0,
          0,
          0,
          0,
          0,
          0,
          0,
          0,
          0,
          0,
          0,
          0,
          0,
          0,
          0,
          0,
          0,
          0,
          0,
          0,
          0,
          0,
          0,
          0,
          0,
          0,
          0,
          0,
          0,
          0,
          0,
          0,
          0
         ],
         "textposition": "outside",
         "type": "bar",
         "uid": "cc25def7-e282-43b4-a4ab-3b8a15d12774",
         "x": [
          0.7025033975284825,
          0.11152331504742422,
          0.049332255769583166,
          0.019858731360041782,
          0.012876057735536312,
          0.010229287957189435,
          0.008129104479079854,
          0.007938675716125236,
          0.007112670219001819,
          0.006742433534086346,
          0.005385699478363728,
          0.005040398061646128,
          0.004769321513084375,
          0.0038968795473862394,
          0.0038652352635346575,
          0.0034617545282384864,
          0.002926437731513964,
          0.002674400905930679,
          0.002536181554957954,
          0.002433316806358108,
          0.001759655073474762,
          0.00140808302056064,
          0.0012925585356012947,
          0.0012231223572143313,
          0.0011759801397676856,
          0.0010610401427147583,
          0.0010377345936642536,
          0.0009274814736966554,
          0.000903564656679045,
          0.000808420927329005,
          0.000793526793409193,
          0.0007321035889991424,
          0.0006391841363765899,
          0.0006356179340462513,
          0.0006049241969996773,
          0.0005950513989421258,
          0.0005616675409043539,
          0.0005280152371199454,
          0.0005143695402856592,
          0.0004929807712103578,
          0.0004739658883054727,
          0.00043923697366359216,
          0.00043312382985024505,
          0.0004286467824446857,
          0.00040331278846682234,
          0.0003666973890668191,
          0.00036171552530315756,
          0.0003605237630291753,
          0.000359623327772837,
          0.0003450788230237242,
          0.000333807360913886,
          0.0003100646740533014,
          0.0002660770883390433,
          0.0002614709441741663,
          0.00025995276807770813,
          0.0002575941664832353,
          0.0002206066044798681,
          0.00018801607799685192,
          0.00017352706433154504,
          0.000165661486946394,
          0.00016097210586837928,
          0.00015902860780797062,
          0.00015423949660753488,
          0.00013399202174032418,
          0.00013110770283335785,
          0.00012469046232033577,
          0.00011337940822722354,
          0.00011106468393140166,
          0.00010229422763284365,
          9.584610072194923e-05,
          9.507121064589944e-05,
          9.101915324517495e-05,
          8.638249107142619e-05,
          8.291691137413662e-05,
          8.187469350090623e-05,
          7.601457577358271e-05,
          7.198095904893577e-05,
          7.189495605975912e-05,
          6.826277244899782e-05,
          6.519217799056091e-05,
          6.516481871678679e-05,
          6.174628812784445e-05,
          5.972604440258745e-05,
          5.875727258420911e-05,
          5.598120505473051e-05,
          5.1263571795716184e-05,
          4.909221372163766e-05,
          4.80361409880432e-05,
          3.534601000771941e-05,
          3.3813816130737335e-05,
          2.8270163094721412e-05,
          2.00614369003686e-05,
          1.617617634122851e-05,
          0,
          0,
          0,
          0,
          0,
          0,
          0,
          0,
          0,
          0,
          0,
          0,
          0,
          0,
          0,
          0,
          0,
          0,
          0,
          0,
          0,
          0,
          0,
          0,
          0,
          0,
          0,
          0,
          0,
          0,
          0,
          0
         ],
         "y": [
          "0",
          "8",
          "12",
          "2",
          "28",
          "3",
          "66",
          "87",
          "80",
          "10",
          "1",
          "7",
          "81",
          "73",
          "93",
          "50",
          "9",
          "4",
          "88",
          "5",
          "13",
          "52",
          "19",
          "53",
          "84",
          "78",
          "6",
          "90",
          "29",
          "33",
          "30",
          "11",
          "92",
          "26",
          "74",
          "109",
          "70",
          "35",
          "103",
          "36",
          "44",
          "67",
          "47",
          "18",
          "42",
          "15",
          "25",
          "116",
          "97",
          "57",
          "64",
          "59",
          "56",
          "46",
          "54",
          "34",
          "77",
          "115",
          "68",
          "105",
          "27",
          "49",
          "72",
          "23",
          "60",
          "96",
          "124",
          "17",
          "117",
          "24",
          "123",
          "62",
          "121",
          "100",
          "71",
          "51",
          "89",
          "83",
          "75",
          "76",
          "86",
          "104",
          "58",
          "39",
          "91",
          "31",
          "120",
          "38",
          "22",
          "94",
          "95",
          "98",
          "48",
          "32",
          "79",
          "69",
          "122",
          "45",
          "119",
          "118",
          "61",
          "14",
          "16",
          "114",
          "113",
          "112",
          "111",
          "110",
          "108",
          "37",
          "107",
          "106",
          "20",
          "43",
          "21",
          "102",
          "101",
          "41",
          "99",
          "55",
          "82",
          "63",
          "40",
          "85",
          "65"
         ]
        }
       ],
       "layout": {
        "autosize": false,
        "height": 1000,
        "width": 1000,
        "xaxis": {
         "tickfont": {
          "color": "black",
          "size": 12
         },
         "title": "Feature Importances"
        },
        "yaxis": {
         "automargin": true
        }
       }
      },
      "text/html": [
       "<div id=\"1de0e8be-1bc2-44c4-a7f3-65b9c941f004\" style=\"height: 1000px; width: 1000px;\" class=\"plotly-graph-div\"></div><script type=\"text/javascript\">require([\"plotly\"], function(Plotly) { window.PLOTLYENV=window.PLOTLYENV || {};window.PLOTLYENV.BASE_URL=\"https://plot.ly\";Plotly.newPlot(\"1de0e8be-1bc2-44c4-a7f3-65b9c941f004\", [{\"marker\": {\"color\": \"rgb(158,202,225)\", \"line\": {\"color\": \"rgb(8,48,107)\", \"width\": 1.5}}, \"opacity\": 0.6, \"orientation\": \"h\", \"text\": [0.7025, 0.1115, 0.0493, 0.0199, 0.0129, 0.0102, 0.0081, 0.0079, 0.0071, 0.0067, 0.0054, 0.005, 0.0048, 0.0039, 0.0039, 0.0035, 0.0029, 0.0027, 0.0025, 0.0024, 0.0018, 0.0014, 0.0013, 0.0012, 0.0012, 0.0011, 0.001, 0.0009, 0.0009, 0.0008, 0.0008, 0.0007, 0.0006, 0.0006, 0.0006, 0.0006, 0.0006, 0.0005, 0.0005, 0.0005, 0.0005, 0.0004, 0.0004, 0.0004, 0.0004, 0.0004, 0.0004, 0.0004, 0.0004, 0.0003, 0.0003, 0.0003, 0.0003, 0.0003, 0.0003, 0.0003, 0.0002, 0.0002, 0.0002, 0.0002, 0.0002, 0.0002, 0.0002, 0.0001, 0.0001, 0.0001, 0.0001, 0.0001, 0.0001, 0.0001, 0.0001, 0.0001, 0.0001, 0.0001, 0.0001, 0.0001, 0.0001, 0.0001, 0.0001, 0.0001, 0.0001, 0.0001, 0.0001, 0.0001, 0.0001, 0.0001, 0.0, 0.0, 0.0, 0.0, 0.0, 0.0, 0.0, 0.0, 0.0, 0.0, 0.0, 0.0, 0.0, 0.0, 0.0, 0.0, 0.0, 0.0, 0.0, 0.0, 0.0, 0.0, 0.0, 0.0, 0.0, 0.0, 0.0, 0.0, 0.0, 0.0, 0.0, 0.0, 0.0, 0.0, 0.0, 0.0, 0.0, 0.0, 0.0], \"textposition\": \"outside\", \"x\": [0.7025033975284825, 0.11152331504742422, 0.049332255769583166, 0.019858731360041782, 0.012876057735536312, 0.010229287957189435, 0.008129104479079854, 0.007938675716125236, 0.007112670219001819, 0.006742433534086346, 0.005385699478363728, 0.005040398061646128, 0.004769321513084375, 0.0038968795473862394, 0.0038652352635346575, 0.0034617545282384864, 0.002926437731513964, 0.002674400905930679, 0.002536181554957954, 0.002433316806358108, 0.001759655073474762, 0.00140808302056064, 0.0012925585356012947, 0.0012231223572143313, 0.0011759801397676856, 0.0010610401427147583, 0.0010377345936642536, 0.0009274814736966554, 0.000903564656679045, 0.000808420927329005, 0.000793526793409193, 0.0007321035889991424, 0.0006391841363765899, 0.0006356179340462513, 0.0006049241969996773, 0.0005950513989421258, 0.0005616675409043539, 0.0005280152371199454, 0.0005143695402856592, 0.0004929807712103578, 0.0004739658883054727, 0.00043923697366359216, 0.00043312382985024505, 0.0004286467824446857, 0.00040331278846682234, 0.0003666973890668191, 0.00036171552530315756, 0.0003605237630291753, 0.000359623327772837, 0.0003450788230237242, 0.000333807360913886, 0.0003100646740533014, 0.0002660770883390433, 0.0002614709441741663, 0.00025995276807770813, 0.0002575941664832353, 0.0002206066044798681, 0.00018801607799685192, 0.00017352706433154504, 0.000165661486946394, 0.00016097210586837928, 0.00015902860780797062, 0.00015423949660753488, 0.00013399202174032418, 0.00013110770283335785, 0.00012469046232033577, 0.00011337940822722354, 0.00011106468393140166, 0.00010229422763284365, 9.584610072194923e-05, 9.507121064589944e-05, 9.101915324517495e-05, 8.638249107142619e-05, 8.291691137413662e-05, 8.187469350090623e-05, 7.601457577358271e-05, 7.198095904893577e-05, 7.189495605975912e-05, 6.826277244899782e-05, 6.519217799056091e-05, 6.516481871678679e-05, 6.174628812784445e-05, 5.972604440258745e-05, 5.875727258420911e-05, 5.598120505473051e-05, 5.1263571795716184e-05, 4.909221372163766e-05, 4.80361409880432e-05, 3.534601000771941e-05, 3.3813816130737335e-05, 2.8270163094721412e-05, 2.00614369003686e-05, 1.617617634122851e-05, 0.0, 0.0, 0.0, 0.0, 0.0, 0.0, 0.0, 0.0, 0.0, 0.0, 0.0, 0.0, 0.0, 0.0, 0.0, 0.0, 0.0, 0.0, 0.0, 0.0, 0.0, 0.0, 0.0, 0.0, 0.0, 0.0, 0.0, 0.0, 0.0, 0.0, 0.0, 0.0], \"y\": [\"0\", \"8\", \"12\", \"2\", \"28\", \"3\", \"66\", \"87\", \"80\", \"10\", \"1\", \"7\", \"81\", \"73\", \"93\", \"50\", \"9\", \"4\", \"88\", \"5\", \"13\", \"52\", \"19\", \"53\", \"84\", \"78\", \"6\", \"90\", \"29\", \"33\", \"30\", \"11\", \"92\", \"26\", \"74\", \"109\", \"70\", \"35\", \"103\", \"36\", \"44\", \"67\", \"47\", \"18\", \"42\", \"15\", \"25\", \"116\", \"97\", \"57\", \"64\", \"59\", \"56\", \"46\", \"54\", \"34\", \"77\", \"115\", \"68\", \"105\", \"27\", \"49\", \"72\", \"23\", \"60\", \"96\", \"124\", \"17\", \"117\", \"24\", \"123\", \"62\", \"121\", \"100\", \"71\", \"51\", \"89\", \"83\", \"75\", \"76\", \"86\", \"104\", \"58\", \"39\", \"91\", \"31\", \"120\", \"38\", \"22\", \"94\", \"95\", \"98\", \"48\", \"32\", \"79\", \"69\", \"122\", \"45\", \"119\", \"118\", \"61\", \"14\", \"16\", \"114\", \"113\", \"112\", \"111\", \"110\", \"108\", \"37\", \"107\", \"106\", \"20\", \"43\", \"21\", \"102\", \"101\", \"41\", \"99\", \"55\", \"82\", \"63\", \"40\", \"85\", \"65\"], \"type\": \"bar\", \"uid\": \"cc25def7-e282-43b4-a4ab-3b8a15d12774\"}], {\"autosize\": false, \"height\": 1000, \"width\": 1000, \"xaxis\": {\"tickfont\": {\"color\": \"black\", \"size\": 12}, \"title\": \"Feature Importances\"}, \"yaxis\": {\"automargin\": true}}, {\"showLink\": true, \"linkText\": \"Export to plot.ly\", \"plotlyServerURL\": \"https://plot.ly\"})});</script>"
      ],
      "text/vnd.plotly.v1+html": [
       "<div id=\"1de0e8be-1bc2-44c4-a7f3-65b9c941f004\" style=\"height: 1000px; width: 1000px;\" class=\"plotly-graph-div\"></div><script type=\"text/javascript\">require([\"plotly\"], function(Plotly) { window.PLOTLYENV=window.PLOTLYENV || {};window.PLOTLYENV.BASE_URL=\"https://plot.ly\";Plotly.newPlot(\"1de0e8be-1bc2-44c4-a7f3-65b9c941f004\", [{\"marker\": {\"color\": \"rgb(158,202,225)\", \"line\": {\"color\": \"rgb(8,48,107)\", \"width\": 1.5}}, \"opacity\": 0.6, \"orientation\": \"h\", \"text\": [0.7025, 0.1115, 0.0493, 0.0199, 0.0129, 0.0102, 0.0081, 0.0079, 0.0071, 0.0067, 0.0054, 0.005, 0.0048, 0.0039, 0.0039, 0.0035, 0.0029, 0.0027, 0.0025, 0.0024, 0.0018, 0.0014, 0.0013, 0.0012, 0.0012, 0.0011, 0.001, 0.0009, 0.0009, 0.0008, 0.0008, 0.0007, 0.0006, 0.0006, 0.0006, 0.0006, 0.0006, 0.0005, 0.0005, 0.0005, 0.0005, 0.0004, 0.0004, 0.0004, 0.0004, 0.0004, 0.0004, 0.0004, 0.0004, 0.0003, 0.0003, 0.0003, 0.0003, 0.0003, 0.0003, 0.0003, 0.0002, 0.0002, 0.0002, 0.0002, 0.0002, 0.0002, 0.0002, 0.0001, 0.0001, 0.0001, 0.0001, 0.0001, 0.0001, 0.0001, 0.0001, 0.0001, 0.0001, 0.0001, 0.0001, 0.0001, 0.0001, 0.0001, 0.0001, 0.0001, 0.0001, 0.0001, 0.0001, 0.0001, 0.0001, 0.0001, 0.0, 0.0, 0.0, 0.0, 0.0, 0.0, 0.0, 0.0, 0.0, 0.0, 0.0, 0.0, 0.0, 0.0, 0.0, 0.0, 0.0, 0.0, 0.0, 0.0, 0.0, 0.0, 0.0, 0.0, 0.0, 0.0, 0.0, 0.0, 0.0, 0.0, 0.0, 0.0, 0.0, 0.0, 0.0, 0.0, 0.0, 0.0, 0.0], \"textposition\": \"outside\", \"x\": [0.7025033975284825, 0.11152331504742422, 0.049332255769583166, 0.019858731360041782, 0.012876057735536312, 0.010229287957189435, 0.008129104479079854, 0.007938675716125236, 0.007112670219001819, 0.006742433534086346, 0.005385699478363728, 0.005040398061646128, 0.004769321513084375, 0.0038968795473862394, 0.0038652352635346575, 0.0034617545282384864, 0.002926437731513964, 0.002674400905930679, 0.002536181554957954, 0.002433316806358108, 0.001759655073474762, 0.00140808302056064, 0.0012925585356012947, 0.0012231223572143313, 0.0011759801397676856, 0.0010610401427147583, 0.0010377345936642536, 0.0009274814736966554, 0.000903564656679045, 0.000808420927329005, 0.000793526793409193, 0.0007321035889991424, 0.0006391841363765899, 0.0006356179340462513, 0.0006049241969996773, 0.0005950513989421258, 0.0005616675409043539, 0.0005280152371199454, 0.0005143695402856592, 0.0004929807712103578, 0.0004739658883054727, 0.00043923697366359216, 0.00043312382985024505, 0.0004286467824446857, 0.00040331278846682234, 0.0003666973890668191, 0.00036171552530315756, 0.0003605237630291753, 0.000359623327772837, 0.0003450788230237242, 0.000333807360913886, 0.0003100646740533014, 0.0002660770883390433, 0.0002614709441741663, 0.00025995276807770813, 0.0002575941664832353, 0.0002206066044798681, 0.00018801607799685192, 0.00017352706433154504, 0.000165661486946394, 0.00016097210586837928, 0.00015902860780797062, 0.00015423949660753488, 0.00013399202174032418, 0.00013110770283335785, 0.00012469046232033577, 0.00011337940822722354, 0.00011106468393140166, 0.00010229422763284365, 9.584610072194923e-05, 9.507121064589944e-05, 9.101915324517495e-05, 8.638249107142619e-05, 8.291691137413662e-05, 8.187469350090623e-05, 7.601457577358271e-05, 7.198095904893577e-05, 7.189495605975912e-05, 6.826277244899782e-05, 6.519217799056091e-05, 6.516481871678679e-05, 6.174628812784445e-05, 5.972604440258745e-05, 5.875727258420911e-05, 5.598120505473051e-05, 5.1263571795716184e-05, 4.909221372163766e-05, 4.80361409880432e-05, 3.534601000771941e-05, 3.3813816130737335e-05, 2.8270163094721412e-05, 2.00614369003686e-05, 1.617617634122851e-05, 0.0, 0.0, 0.0, 0.0, 0.0, 0.0, 0.0, 0.0, 0.0, 0.0, 0.0, 0.0, 0.0, 0.0, 0.0, 0.0, 0.0, 0.0, 0.0, 0.0, 0.0, 0.0, 0.0, 0.0, 0.0, 0.0, 0.0, 0.0, 0.0, 0.0, 0.0, 0.0], \"y\": [\"0\", \"8\", \"12\", \"2\", \"28\", \"3\", \"66\", \"87\", \"80\", \"10\", \"1\", \"7\", \"81\", \"73\", \"93\", \"50\", \"9\", \"4\", \"88\", \"5\", \"13\", \"52\", \"19\", \"53\", \"84\", \"78\", \"6\", \"90\", \"29\", \"33\", \"30\", \"11\", \"92\", \"26\", \"74\", \"109\", \"70\", \"35\", \"103\", \"36\", \"44\", \"67\", \"47\", \"18\", \"42\", \"15\", \"25\", \"116\", \"97\", \"57\", \"64\", \"59\", \"56\", \"46\", \"54\", \"34\", \"77\", \"115\", \"68\", \"105\", \"27\", \"49\", \"72\", \"23\", \"60\", \"96\", \"124\", \"17\", \"117\", \"24\", \"123\", \"62\", \"121\", \"100\", \"71\", \"51\", \"89\", \"83\", \"75\", \"76\", \"86\", \"104\", \"58\", \"39\", \"91\", \"31\", \"120\", \"38\", \"22\", \"94\", \"95\", \"98\", \"48\", \"32\", \"79\", \"69\", \"122\", \"45\", \"119\", \"118\", \"61\", \"14\", \"16\", \"114\", \"113\", \"112\", \"111\", \"110\", \"108\", \"37\", \"107\", \"106\", \"20\", \"43\", \"21\", \"102\", \"101\", \"41\", \"99\", \"55\", \"82\", \"63\", \"40\", \"85\", \"65\"], \"type\": \"bar\", \"uid\": \"cc25def7-e282-43b4-a4ab-3b8a15d12774\"}], {\"autosize\": false, \"height\": 1000, \"width\": 1000, \"xaxis\": {\"tickfont\": {\"color\": \"black\", \"size\": 12}, \"title\": \"Feature Importances\"}, \"yaxis\": {\"automargin\": true}}, {\"showLink\": true, \"linkText\": \"Export to plot.ly\", \"plotlyServerURL\": \"https://plot.ly\"})});</script>"
      ]
     },
     "metadata": {},
     "output_type": "display_data"
    },
    {
     "name": "stdout",
     "output_type": "stream",
     "text": [
      "\n",
      "\n",
      "\u001b[1mExtraTree Classifier\u001b[0m\n",
      "Accuracy of the model for training data is: 0.99997327418\n",
      "Confusion Matrix for training data is:\n"
     ]
    },
    {
     "data": {
      "text/plain": [
       "Predicted  False  True  __all__\n",
       "Actual                         \n",
       "False      31892     0    31892\n",
       "True           1  5524     5525\n",
       "__all__    31893  5524    37417"
      ]
     },
     "metadata": {},
     "output_type": "display_data"
    },
    {
     "name": "stdout",
     "output_type": "stream",
     "text": [
      "Accuracy of the model for test data is: 0.955206328843\n",
      "Confusion Matrix for test data is:\n"
     ]
    },
    {
     "data": {
      "text/plain": [
       "Predicted  False  True  __all__\n",
       "Actual                         \n",
       "False       7906    79     7985\n",
       "True         340  1029     1369\n",
       "__all__     8246  1108     9354"
      ]
     },
     "metadata": {},
     "output_type": "display_data"
    },
    {
     "data": {
      "application/vnd.plotly.v1+json": {
       "config": {
        "linkText": "Export to plot.ly",
        "plotlyServerURL": "https://plot.ly",
        "showLink": true
       },
       "data": [
        {
         "marker": {
          "color": "rgb(158,202,225)",
          "line": {
           "color": "rgb(8,48,107)",
           "width": 1.5
          }
         },
         "opacity": 0.6,
         "orientation": "h",
         "text": [
          0.0578,
          0.0452,
          0.0438,
          0.0416,
          0.0243,
          0.0235,
          0.0179,
          0.0171,
          0.015,
          0.0148,
          0.0135,
          0.0132,
          0.013,
          0.0125,
          0.0123,
          0.012,
          0.0117,
          0.0112,
          0.0112,
          0.0103,
          0.0094,
          0.0093,
          0.0092,
          0.0092,
          0.0089,
          0.0088,
          0.0087,
          0.0087,
          0.0084,
          0.0083,
          0.0083,
          0.0082,
          0.0082,
          0.0081,
          0.0078,
          0.0077,
          0.0077,
          0.0075,
          0.0074,
          0.0074,
          0.007,
          0.0069,
          0.0068,
          0.0068,
          0.0067,
          0.0065,
          0.0064,
          0.0064,
          0.0064,
          0.0064,
          0.0063,
          0.0061,
          0.0061,
          0.006,
          0.006,
          0.0059,
          0.0058,
          0.0057,
          0.0057,
          0.0057,
          0.0056,
          0.0056,
          0.0055,
          0.0054,
          0.0054,
          0.0053,
          0.0053,
          0.0053,
          0.0052,
          0.0052,
          0.0051,
          0.0051,
          0.0051,
          0.005,
          0.005,
          0.005,
          0.005,
          0.0049,
          0.0049,
          0.0049,
          0.0049,
          0.0048,
          0.0047,
          0.0046,
          0.0046,
          0.0046,
          0.0045,
          0.0045,
          0.0045,
          0.0045,
          0.0045,
          0.0045,
          0.0044,
          0.0044,
          0.0044,
          0.0044,
          0.0043,
          0.0043,
          0.0041,
          0.0041,
          0.0041,
          0.0041,
          0.0041,
          0.004,
          0.004,
          0.004,
          0.004,
          0.0039,
          0.0039,
          0.0039,
          0.0038,
          0.0037,
          0.0037,
          0.0037,
          0.0036,
          0.0035,
          0.0034,
          0.0034,
          0.0034,
          0.0034,
          0.0033,
          0.0033,
          0.0032,
          0.0031,
          0.003
         ],
         "textposition": "outside",
         "type": "bar",
         "uid": "cd42f3ee-51b0-441d-ab89-cd42b94398bb",
         "x": [
          0.05780148009587084,
          0.04520663039693613,
          0.0437507581381708,
          0.041590852793808794,
          0.02432407604136854,
          0.023458258913174625,
          0.01787732059635732,
          0.01714894478392351,
          0.015045901425128728,
          0.01481118567613146,
          0.013488595087635512,
          0.013195960899340619,
          0.012967655502456394,
          0.01245127126760064,
          0.012309969169230755,
          0.012023582417261506,
          0.011711344620534404,
          0.011219634042581325,
          0.011155851635448098,
          0.010294934246043708,
          0.009366376349740586,
          0.00933205768875178,
          0.00923100549665003,
          0.009184057130768267,
          0.008925962659407847,
          0.00878073222194534,
          0.008715780532034116,
          0.008677715125962267,
          0.00843966813700631,
          0.008305703963945178,
          0.00830070137709669,
          0.008247862907464982,
          0.008219438205540372,
          0.008079335488610034,
          0.007803671363850647,
          0.007740374960604533,
          0.007736727739213968,
          0.007544090710281466,
          0.007419639190431084,
          0.007391666095255564,
          0.007039920956672244,
          0.006911190816415694,
          0.0067725946169192325,
          0.00676083047275008,
          0.006709413127319321,
          0.006481195405720773,
          0.006442716183307403,
          0.006409315796908027,
          0.006396771949571766,
          0.006372607324503765,
          0.0062940613620085725,
          0.006147334938831071,
          0.006130600948710672,
          0.006043182943702376,
          0.005960959558241585,
          0.005927948429720471,
          0.005779253218494641,
          0.0057302993430753705,
          0.005706835205360967,
          0.00569389121718034,
          0.0056275420896746055,
          0.005564698337266524,
          0.005507644767474848,
          0.005372342395296421,
          0.005365094055839371,
          0.005315250708614364,
          0.00530043244419195,
          0.00529999734838528,
          0.0052235270227641295,
          0.005180337654798406,
          0.0050885317736323035,
          0.005078137495698725,
          0.005067635768780646,
          0.00503637501459031,
          0.005013623905870006,
          0.004987727575429221,
          0.004975862707220866,
          0.00494310898667319,
          0.004931335616778169,
          0.004890639367708008,
          0.004861821404556389,
          0.0047660616084262775,
          0.004697609187388258,
          0.004635165373106414,
          0.004605805663350752,
          0.004555489201308343,
          0.004544659814902842,
          0.004536667044212998,
          0.004533893789600637,
          0.00452688967048687,
          0.0045108642867996655,
          0.004495120293150999,
          0.004438067546390193,
          0.004413722892729367,
          0.004377548725636097,
          0.00435208397338088,
          0.004340691155319024,
          0.004305859902610456,
          0.004148361571423878,
          0.004138202904966451,
          0.004128617663636952,
          0.004118364607860122,
          0.004051527203589185,
          0.004028907083623393,
          0.0040201555055694935,
          0.003955206569060432,
          0.0039505485727535095,
          0.0038928216080181474,
          0.003887514289215857,
          0.003865758820016154,
          0.0038168238297563465,
          0.003736018332408437,
          0.003735259636995224,
          0.0037260595834945494,
          0.0036320898835258512,
          0.0035033064173745293,
          0.003428434441856066,
          0.0034167382765316274,
          0.0033882696188463207,
          0.003371835673856597,
          0.0033072146167660394,
          0.003283647607268767,
          0.0031680597778901793,
          0.003080201464464035,
          0.0029644889602089344
         ],
         "y": [
          "2",
          "8",
          "3",
          "0",
          "87",
          "10",
          "1",
          "9",
          "6",
          "86",
          "12",
          "73",
          "11",
          "75",
          "102",
          "98",
          "91",
          "109",
          "89",
          "114",
          "76",
          "93",
          "66",
          "77",
          "70",
          "104",
          "110",
          "97",
          "117",
          "100",
          "64",
          "111",
          "113",
          "28",
          "90",
          "5",
          "84",
          "69",
          "105",
          "101",
          "85",
          "119",
          "78",
          "68",
          "56",
          "67",
          "112",
          "94",
          "123",
          "88",
          "44",
          "122",
          "49",
          "121",
          "7",
          "53",
          "14",
          "120",
          "118",
          "106",
          "4",
          "54",
          "83",
          "81",
          "30",
          "71",
          "74",
          "108",
          "37",
          "65",
          "34",
          "48",
          "18",
          "13",
          "29",
          "39",
          "92",
          "50",
          "79",
          "61",
          "99",
          "96",
          "57",
          "25",
          "19",
          "103",
          "38",
          "46",
          "26",
          "63",
          "20",
          "42",
          "33",
          "35",
          "124",
          "52",
          "27",
          "80",
          "60",
          "59",
          "17",
          "107",
          "115",
          "47",
          "95",
          "16",
          "22",
          "62",
          "116",
          "41",
          "58",
          "43",
          "45",
          "82",
          "21",
          "32",
          "31",
          "51",
          "15",
          "24",
          "72",
          "23",
          "36",
          "55",
          "40"
         ]
        }
       ],
       "layout": {
        "autosize": false,
        "height": 1000,
        "width": 1000,
        "xaxis": {
         "tickfont": {
          "color": "black",
          "size": 12
         },
         "title": "Feature Importances"
        },
        "yaxis": {
         "automargin": true
        }
       }
      },
      "text/html": [
       "<div id=\"59c448d9-e023-4054-8d86-c01d0fca4521\" style=\"height: 1000px; width: 1000px;\" class=\"plotly-graph-div\"></div><script type=\"text/javascript\">require([\"plotly\"], function(Plotly) { window.PLOTLYENV=window.PLOTLYENV || {};window.PLOTLYENV.BASE_URL=\"https://plot.ly\";Plotly.newPlot(\"59c448d9-e023-4054-8d86-c01d0fca4521\", [{\"marker\": {\"color\": \"rgb(158,202,225)\", \"line\": {\"color\": \"rgb(8,48,107)\", \"width\": 1.5}}, \"opacity\": 0.6, \"orientation\": \"h\", \"text\": [0.0578, 0.0452, 0.0438, 0.0416, 0.0243, 0.0235, 0.0179, 0.0171, 0.015, 0.0148, 0.0135, 0.0132, 0.013, 0.0125, 0.0123, 0.012, 0.0117, 0.0112, 0.0112, 0.0103, 0.0094, 0.0093, 0.0092, 0.0092, 0.0089, 0.0088, 0.0087, 0.0087, 0.0084, 0.0083, 0.0083, 0.0082, 0.0082, 0.0081, 0.0078, 0.0077, 0.0077, 0.0075, 0.0074, 0.0074, 0.007, 0.0069, 0.0068, 0.0068, 0.0067, 0.0065, 0.0064, 0.0064, 0.0064, 0.0064, 0.0063, 0.0061, 0.0061, 0.006, 0.006, 0.0059, 0.0058, 0.0057, 0.0057, 0.0057, 0.0056, 0.0056, 0.0055, 0.0054, 0.0054, 0.0053, 0.0053, 0.0053, 0.0052, 0.0052, 0.0051, 0.0051, 0.0051, 0.005, 0.005, 0.005, 0.005, 0.0049, 0.0049, 0.0049, 0.0049, 0.0048, 0.0047, 0.0046, 0.0046, 0.0046, 0.0045, 0.0045, 0.0045, 0.0045, 0.0045, 0.0045, 0.0044, 0.0044, 0.0044, 0.0044, 0.0043, 0.0043, 0.0041, 0.0041, 0.0041, 0.0041, 0.0041, 0.004, 0.004, 0.004, 0.004, 0.0039, 0.0039, 0.0039, 0.0038, 0.0037, 0.0037, 0.0037, 0.0036, 0.0035, 0.0034, 0.0034, 0.0034, 0.0034, 0.0033, 0.0033, 0.0032, 0.0031, 0.003], \"textposition\": \"outside\", \"x\": [0.05780148009587084, 0.04520663039693613, 0.0437507581381708, 0.041590852793808794, 0.02432407604136854, 0.023458258913174625, 0.01787732059635732, 0.01714894478392351, 0.015045901425128728, 0.01481118567613146, 0.013488595087635512, 0.013195960899340619, 0.012967655502456394, 0.01245127126760064, 0.012309969169230755, 0.012023582417261506, 0.011711344620534404, 0.011219634042581325, 0.011155851635448098, 0.010294934246043708, 0.009366376349740586, 0.00933205768875178, 0.00923100549665003, 0.009184057130768267, 0.008925962659407847, 0.00878073222194534, 0.008715780532034116, 0.008677715125962267, 0.00843966813700631, 0.008305703963945178, 0.00830070137709669, 0.008247862907464982, 0.008219438205540372, 0.008079335488610034, 0.007803671363850647, 0.007740374960604533, 0.007736727739213968, 0.007544090710281466, 0.007419639190431084, 0.007391666095255564, 0.007039920956672244, 0.006911190816415694, 0.0067725946169192325, 0.00676083047275008, 0.006709413127319321, 0.006481195405720773, 0.006442716183307403, 0.006409315796908027, 0.006396771949571766, 0.006372607324503765, 0.0062940613620085725, 0.006147334938831071, 0.006130600948710672, 0.006043182943702376, 0.005960959558241585, 0.005927948429720471, 0.005779253218494641, 0.0057302993430753705, 0.005706835205360967, 0.00569389121718034, 0.0056275420896746055, 0.005564698337266524, 0.005507644767474848, 0.005372342395296421, 0.005365094055839371, 0.005315250708614364, 0.00530043244419195, 0.00529999734838528, 0.0052235270227641295, 0.005180337654798406, 0.0050885317736323035, 0.005078137495698725, 0.005067635768780646, 0.00503637501459031, 0.005013623905870006, 0.004987727575429221, 0.004975862707220866, 0.00494310898667319, 0.004931335616778169, 0.004890639367708008, 0.004861821404556389, 0.0047660616084262775, 0.004697609187388258, 0.004635165373106414, 0.004605805663350752, 0.004555489201308343, 0.004544659814902842, 0.004536667044212998, 0.004533893789600637, 0.00452688967048687, 0.0045108642867996655, 0.004495120293150999, 0.004438067546390193, 0.004413722892729367, 0.004377548725636097, 0.00435208397338088, 0.004340691155319024, 0.004305859902610456, 0.004148361571423878, 0.004138202904966451, 0.004128617663636952, 0.004118364607860122, 0.004051527203589185, 0.004028907083623393, 0.0040201555055694935, 0.003955206569060432, 0.0039505485727535095, 0.0038928216080181474, 0.003887514289215857, 0.003865758820016154, 0.0038168238297563465, 0.003736018332408437, 0.003735259636995224, 0.0037260595834945494, 0.0036320898835258512, 0.0035033064173745293, 0.003428434441856066, 0.0034167382765316274, 0.0033882696188463207, 0.003371835673856597, 0.0033072146167660394, 0.003283647607268767, 0.0031680597778901793, 0.003080201464464035, 0.0029644889602089344], \"y\": [\"2\", \"8\", \"3\", \"0\", \"87\", \"10\", \"1\", \"9\", \"6\", \"86\", \"12\", \"73\", \"11\", \"75\", \"102\", \"98\", \"91\", \"109\", \"89\", \"114\", \"76\", \"93\", \"66\", \"77\", \"70\", \"104\", \"110\", \"97\", \"117\", \"100\", \"64\", \"111\", \"113\", \"28\", \"90\", \"5\", \"84\", \"69\", \"105\", \"101\", \"85\", \"119\", \"78\", \"68\", \"56\", \"67\", \"112\", \"94\", \"123\", \"88\", \"44\", \"122\", \"49\", \"121\", \"7\", \"53\", \"14\", \"120\", \"118\", \"106\", \"4\", \"54\", \"83\", \"81\", \"30\", \"71\", \"74\", \"108\", \"37\", \"65\", \"34\", \"48\", \"18\", \"13\", \"29\", \"39\", \"92\", \"50\", \"79\", \"61\", \"99\", \"96\", \"57\", \"25\", \"19\", \"103\", \"38\", \"46\", \"26\", \"63\", \"20\", \"42\", \"33\", \"35\", \"124\", \"52\", \"27\", \"80\", \"60\", \"59\", \"17\", \"107\", \"115\", \"47\", \"95\", \"16\", \"22\", \"62\", \"116\", \"41\", \"58\", \"43\", \"45\", \"82\", \"21\", \"32\", \"31\", \"51\", \"15\", \"24\", \"72\", \"23\", \"36\", \"55\", \"40\"], \"type\": \"bar\", \"uid\": \"cd42f3ee-51b0-441d-ab89-cd42b94398bb\"}], {\"autosize\": false, \"height\": 1000, \"width\": 1000, \"xaxis\": {\"tickfont\": {\"color\": \"black\", \"size\": 12}, \"title\": \"Feature Importances\"}, \"yaxis\": {\"automargin\": true}}, {\"showLink\": true, \"linkText\": \"Export to plot.ly\", \"plotlyServerURL\": \"https://plot.ly\"})});</script>"
      ],
      "text/vnd.plotly.v1+html": [
       "<div id=\"59c448d9-e023-4054-8d86-c01d0fca4521\" style=\"height: 1000px; width: 1000px;\" class=\"plotly-graph-div\"></div><script type=\"text/javascript\">require([\"plotly\"], function(Plotly) { window.PLOTLYENV=window.PLOTLYENV || {};window.PLOTLYENV.BASE_URL=\"https://plot.ly\";Plotly.newPlot(\"59c448d9-e023-4054-8d86-c01d0fca4521\", [{\"marker\": {\"color\": \"rgb(158,202,225)\", \"line\": {\"color\": \"rgb(8,48,107)\", \"width\": 1.5}}, \"opacity\": 0.6, \"orientation\": \"h\", \"text\": [0.0578, 0.0452, 0.0438, 0.0416, 0.0243, 0.0235, 0.0179, 0.0171, 0.015, 0.0148, 0.0135, 0.0132, 0.013, 0.0125, 0.0123, 0.012, 0.0117, 0.0112, 0.0112, 0.0103, 0.0094, 0.0093, 0.0092, 0.0092, 0.0089, 0.0088, 0.0087, 0.0087, 0.0084, 0.0083, 0.0083, 0.0082, 0.0082, 0.0081, 0.0078, 0.0077, 0.0077, 0.0075, 0.0074, 0.0074, 0.007, 0.0069, 0.0068, 0.0068, 0.0067, 0.0065, 0.0064, 0.0064, 0.0064, 0.0064, 0.0063, 0.0061, 0.0061, 0.006, 0.006, 0.0059, 0.0058, 0.0057, 0.0057, 0.0057, 0.0056, 0.0056, 0.0055, 0.0054, 0.0054, 0.0053, 0.0053, 0.0053, 0.0052, 0.0052, 0.0051, 0.0051, 0.0051, 0.005, 0.005, 0.005, 0.005, 0.0049, 0.0049, 0.0049, 0.0049, 0.0048, 0.0047, 0.0046, 0.0046, 0.0046, 0.0045, 0.0045, 0.0045, 0.0045, 0.0045, 0.0045, 0.0044, 0.0044, 0.0044, 0.0044, 0.0043, 0.0043, 0.0041, 0.0041, 0.0041, 0.0041, 0.0041, 0.004, 0.004, 0.004, 0.004, 0.0039, 0.0039, 0.0039, 0.0038, 0.0037, 0.0037, 0.0037, 0.0036, 0.0035, 0.0034, 0.0034, 0.0034, 0.0034, 0.0033, 0.0033, 0.0032, 0.0031, 0.003], \"textposition\": \"outside\", \"x\": [0.05780148009587084, 0.04520663039693613, 0.0437507581381708, 0.041590852793808794, 0.02432407604136854, 0.023458258913174625, 0.01787732059635732, 0.01714894478392351, 0.015045901425128728, 0.01481118567613146, 0.013488595087635512, 0.013195960899340619, 0.012967655502456394, 0.01245127126760064, 0.012309969169230755, 0.012023582417261506, 0.011711344620534404, 0.011219634042581325, 0.011155851635448098, 0.010294934246043708, 0.009366376349740586, 0.00933205768875178, 0.00923100549665003, 0.009184057130768267, 0.008925962659407847, 0.00878073222194534, 0.008715780532034116, 0.008677715125962267, 0.00843966813700631, 0.008305703963945178, 0.00830070137709669, 0.008247862907464982, 0.008219438205540372, 0.008079335488610034, 0.007803671363850647, 0.007740374960604533, 0.007736727739213968, 0.007544090710281466, 0.007419639190431084, 0.007391666095255564, 0.007039920956672244, 0.006911190816415694, 0.0067725946169192325, 0.00676083047275008, 0.006709413127319321, 0.006481195405720773, 0.006442716183307403, 0.006409315796908027, 0.006396771949571766, 0.006372607324503765, 0.0062940613620085725, 0.006147334938831071, 0.006130600948710672, 0.006043182943702376, 0.005960959558241585, 0.005927948429720471, 0.005779253218494641, 0.0057302993430753705, 0.005706835205360967, 0.00569389121718034, 0.0056275420896746055, 0.005564698337266524, 0.005507644767474848, 0.005372342395296421, 0.005365094055839371, 0.005315250708614364, 0.00530043244419195, 0.00529999734838528, 0.0052235270227641295, 0.005180337654798406, 0.0050885317736323035, 0.005078137495698725, 0.005067635768780646, 0.00503637501459031, 0.005013623905870006, 0.004987727575429221, 0.004975862707220866, 0.00494310898667319, 0.004931335616778169, 0.004890639367708008, 0.004861821404556389, 0.0047660616084262775, 0.004697609187388258, 0.004635165373106414, 0.004605805663350752, 0.004555489201308343, 0.004544659814902842, 0.004536667044212998, 0.004533893789600637, 0.00452688967048687, 0.0045108642867996655, 0.004495120293150999, 0.004438067546390193, 0.004413722892729367, 0.004377548725636097, 0.00435208397338088, 0.004340691155319024, 0.004305859902610456, 0.004148361571423878, 0.004138202904966451, 0.004128617663636952, 0.004118364607860122, 0.004051527203589185, 0.004028907083623393, 0.0040201555055694935, 0.003955206569060432, 0.0039505485727535095, 0.0038928216080181474, 0.003887514289215857, 0.003865758820016154, 0.0038168238297563465, 0.003736018332408437, 0.003735259636995224, 0.0037260595834945494, 0.0036320898835258512, 0.0035033064173745293, 0.003428434441856066, 0.0034167382765316274, 0.0033882696188463207, 0.003371835673856597, 0.0033072146167660394, 0.003283647607268767, 0.0031680597778901793, 0.003080201464464035, 0.0029644889602089344], \"y\": [\"2\", \"8\", \"3\", \"0\", \"87\", \"10\", \"1\", \"9\", \"6\", \"86\", \"12\", \"73\", \"11\", \"75\", \"102\", \"98\", \"91\", \"109\", \"89\", \"114\", \"76\", \"93\", \"66\", \"77\", \"70\", \"104\", \"110\", \"97\", \"117\", \"100\", \"64\", \"111\", \"113\", \"28\", \"90\", \"5\", \"84\", \"69\", \"105\", \"101\", \"85\", \"119\", \"78\", \"68\", \"56\", \"67\", \"112\", \"94\", \"123\", \"88\", \"44\", \"122\", \"49\", \"121\", \"7\", \"53\", \"14\", \"120\", \"118\", \"106\", \"4\", \"54\", \"83\", \"81\", \"30\", \"71\", \"74\", \"108\", \"37\", \"65\", \"34\", \"48\", \"18\", \"13\", \"29\", \"39\", \"92\", \"50\", \"79\", \"61\", \"99\", \"96\", \"57\", \"25\", \"19\", \"103\", \"38\", \"46\", \"26\", \"63\", \"20\", \"42\", \"33\", \"35\", \"124\", \"52\", \"27\", \"80\", \"60\", \"59\", \"17\", \"107\", \"115\", \"47\", \"95\", \"16\", \"22\", \"62\", \"116\", \"41\", \"58\", \"43\", \"45\", \"82\", \"21\", \"32\", \"31\", \"51\", \"15\", \"24\", \"72\", \"23\", \"36\", \"55\", \"40\"], \"type\": \"bar\", \"uid\": \"cd42f3ee-51b0-441d-ab89-cd42b94398bb\"}], {\"autosize\": false, \"height\": 1000, \"width\": 1000, \"xaxis\": {\"tickfont\": {\"color\": \"black\", \"size\": 12}, \"title\": \"Feature Importances\"}, \"yaxis\": {\"automargin\": true}}, {\"showLink\": true, \"linkText\": \"Export to plot.ly\", \"plotlyServerURL\": \"https://plot.ly\"})});</script>"
      ]
     },
     "metadata": {},
     "output_type": "display_data"
    },
    {
     "name": "stdout",
     "output_type": "stream",
     "text": [
      "\n",
      "\n",
      "\u001b[1mBagging Classifier\u001b[0m\n",
      "Accuracy of the model for training data is: 0.993853061443\n",
      "Confusion Matrix for training data is:\n"
     ]
    },
    {
     "data": {
      "text/plain": [
       "Predicted  False  True  __all__\n",
       "Actual                         \n",
       "False      31878    14    31892\n",
       "True         216  5309     5525\n",
       "__all__    32094  5323    37417"
      ]
     },
     "metadata": {},
     "output_type": "display_data"
    },
    {
     "name": "stdout",
     "output_type": "stream",
     "text": [
      "Accuracy of the model for test data is: 0.961513790892\n",
      "Confusion Matrix for test data is:\n"
     ]
    },
    {
     "data": {
      "text/plain": [
       "Predicted  False  True  __all__\n",
       "Actual                         \n",
       "False       7896    89     7985\n",
       "True         271  1098     1369\n",
       "__all__     8167  1187     9354"
      ]
     },
     "metadata": {},
     "output_type": "display_data"
    },
    {
     "name": "stdout",
     "output_type": "stream",
     "text": [
      "\n",
      "\n",
      "\u001b[1mNeural Network-1\u001b[0m\n",
      "The accuracy of the model on training data is: 0.998022289334\n"
     ]
    },
    {
     "data": {
      "text/plain": [
       "Predicted  False  True  __all__\n",
       "Actual                         \n",
       "False      31890     2    31892\n",
       "True          72  5453     5525\n",
       "__all__    31962  5455    37417"
      ]
     },
     "metadata": {},
     "output_type": "display_data"
    },
    {
     "name": "stdout",
     "output_type": "stream",
     "text": [
      "The accuracy of the model on test data is: 0.961620697028\n"
     ]
    },
    {
     "data": {
      "text/plain": [
       "Predicted  False  True  __all__\n",
       "Actual                         \n",
       "False       7860   125     7985\n",
       "True         234  1135     1369\n",
       "__all__     8094  1260     9354"
      ]
     },
     "metadata": {},
     "output_type": "display_data"
    },
    {
     "name": "stdout",
     "output_type": "stream",
     "text": [
      "\n",
      "\n"
     ]
    }
   ],
   "source": [
    "feat_imp=[None]*4\n",
    "j=0\n",
    "for i in range(0,8):\n",
    "    if i>=2 and i<=5:\n",
    "        model,cm_train,cm_test,acc_train,acc_test,roc_auc,feat_imp[j],mcc=f[i](X_train,Y_train,X_test,Y_test,np.arange(0,125).astype(str))\n",
    "        j=j+1\n",
    "    else:\n",
    "        model,cm_train,cm_test,acc_train,acc_test,roc_auc,mcc=f[i](X_train,Y_train,X_test,Y_test)\n",
    "    table_80_70_train.loc[i]=   ([acc_train,cm_train.TP,cm_train.TN,cm_train.FP,cm_train.FN,cm_train.FPR,cm_train.FNR])\n",
    "    table_80_70_test.loc[i] =   ([acc_test ,cm_test.TP, cm_test.TN, cm_test.FP, cm_test.FN, cm_test.FPR, cm_test.FNR,roc_auc,mcc])\n",
    "    print(\"\\n\")"
   ]
  },
  {
   "cell_type": "markdown",
   "metadata": {},
   "source": [
    "### <a id='5.A' style=\"text-decoration : none; color : #000000;\"> A. Results</a>"
   ]
  },
  {
   "cell_type": "code",
   "execution_count": 73,
   "metadata": {},
   "outputs": [
    {
     "data": {
      "application/vnd.plotly.v1+json": {
       "config": {
        "linkText": "Export to plot.ly",
        "plotlyServerURL": "https://plot.ly",
        "showLink": true
       },
       "data": [
        {
         "mode": "lines",
         "name": "KNN_model",
         "type": "scatter",
         "uid": "07d740ef-ee22-4e1d-8de1-9e4bb6ce84b4",
         "x": [
          "accuracy",
          "FPR",
          "FNR",
          "auc"
         ],
         "y": [
          0.9559546717981612,
          0.002629931120851597,
          0.2856099342585829,
          0.8558800673102827
         ]
        },
        {
         "mode": "lines+markers",
         "name": "Logistic Regression",
         "type": "scatter",
         "uid": "d4e29aea-8b96-4b6c-9b71-e2335a0b8495",
         "x": [
          "accuracy",
          "FPR",
          "FNR",
          "auc"
         ],
         "y": [
          0.9592687620269403,
          0.013400125234815279,
          0.20014609203798392,
          0.8932268913636003
         ]
        },
        {
         "marker": {
          "symbol": "x"
         },
         "mode": "lines+markers",
         "name": "Random Forest",
         "type": "scatter",
         "uid": "1f31c879-58fe-44a0-a93e-380b7a55e0db",
         "x": [
          "accuracy",
          "FPR",
          "FNR",
          "auc"
         ],
         "y": [
          0.9594825742997648,
          0.011521603005635567,
          0.20964207450693936,
          0.8894181612437125
         ]
        },
        {
         "mode": "lines",
         "name": "Ada Boost",
         "type": "scatter",
         "uid": "a82a08c8-6c25-49e2-924d-2fb2d07475e2",
         "x": [
          "accuracy",
          "FPR",
          "FNR",
          "auc"
         ],
         "y": [
          0.9525336754329699,
          0.019536631183469006,
          0.21037253469685901,
          0.8850454170598359
         ]
        },
        {
         "mode": "lines+markers",
         "name": "GradientBoosting",
         "type": "scatter",
         "uid": "fe3065f2-4ade-47ee-a00d-c07c76ac4d52",
         "x": [
          "accuracy",
          "FPR",
          "FNR",
          "auc"
         ],
         "y": [
          0.9608723540731238,
          0.014902943018159049,
          0.1804236669101534,
          0.9023366950358437
         ]
        },
        {
         "marker": {
          "symbol": "x"
         },
         "mode": "lines+markers",
         "name": "ExtraTree Classifier",
         "type": "scatter",
         "uid": "f15c5487-0f2e-4ab6-a12b-4865f4cbea4c",
         "x": [
          "accuracy",
          "FPR",
          "FNR",
          "auc"
         ],
         "y": [
          0.9552063288432756,
          0.00989355040701315,
          0.2483564645726808,
          0.870874992510153
         ]
        },
        {
         "marker": {
          "symbol": "x"
         },
         "mode": "lines+markers",
         "name": "Bagging",
         "type": "scatter",
         "uid": "71ac5e3d-4efc-4d5e-a6fa-46ae7d3bcc17",
         "x": [
          "accuracy",
          "FPR",
          "FNR",
          "auc"
         ],
         "y": [
          0.9615137908915972,
          0.011145898559799625,
          0.197954711468225,
          0.8954496949859877
         ]
        },
        {
         "marker": {
          "symbol": "x"
         },
         "mode": "lines+markers",
         "name": "Neural Network",
         "type": "scatter",
         "uid": "936525c7-d1a4-4db2-b867-9d24fe549a1b",
         "x": [
          "accuracy",
          "FPR",
          "FNR",
          "auc"
         ],
         "y": [
          0.9616206970280095,
          0.015654351909830933,
          0.17092768444119796,
          0.8954496949859877
         ]
        }
       ],
       "layout": {
        "title": "Result comparision for Features selected in Section 1",
        "yaxis": {
         "dtick": 0.05,
         "tick0": 0
        }
       }
      },
      "text/html": [
       "<div id=\"00c7077a-afff-460d-9998-ed340ae21e08\" style=\"height: 525px; width: 100%;\" class=\"plotly-graph-div\"></div><script type=\"text/javascript\">require([\"plotly\"], function(Plotly) { window.PLOTLYENV=window.PLOTLYENV || {};window.PLOTLYENV.BASE_URL=\"https://plot.ly\";Plotly.newPlot(\"00c7077a-afff-460d-9998-ed340ae21e08\", [{\"mode\": \"lines\", \"name\": \"KNN_model\", \"x\": [\"accuracy\", \"FPR\", \"FNR\", \"auc\"], \"y\": [0.9559546717981612, 0.002629931120851597, 0.2856099342585829, 0.8558800673102827], \"type\": \"scatter\", \"uid\": \"07d740ef-ee22-4e1d-8de1-9e4bb6ce84b4\"}, {\"mode\": \"lines+markers\", \"name\": \"Logistic Regression\", \"x\": [\"accuracy\", \"FPR\", \"FNR\", \"auc\"], \"y\": [0.9592687620269403, 0.013400125234815279, 0.20014609203798392, 0.8932268913636003], \"type\": \"scatter\", \"uid\": \"d4e29aea-8b96-4b6c-9b71-e2335a0b8495\"}, {\"marker\": {\"symbol\": \"x\"}, \"mode\": \"lines+markers\", \"name\": \"Random Forest\", \"x\": [\"accuracy\", \"FPR\", \"FNR\", \"auc\"], \"y\": [0.9594825742997648, 0.011521603005635567, 0.20964207450693936, 0.8894181612437125], \"type\": \"scatter\", \"uid\": \"1f31c879-58fe-44a0-a93e-380b7a55e0db\"}, {\"mode\": \"lines\", \"name\": \"Ada Boost\", \"x\": [\"accuracy\", \"FPR\", \"FNR\", \"auc\"], \"y\": [0.9525336754329699, 0.019536631183469006, 0.21037253469685901, 0.8850454170598359], \"type\": \"scatter\", \"uid\": \"a82a08c8-6c25-49e2-924d-2fb2d07475e2\"}, {\"mode\": \"lines+markers\", \"name\": \"GradientBoosting\", \"x\": [\"accuracy\", \"FPR\", \"FNR\", \"auc\"], \"y\": [0.9608723540731238, 0.014902943018159049, 0.1804236669101534, 0.9023366950358437], \"type\": \"scatter\", \"uid\": \"fe3065f2-4ade-47ee-a00d-c07c76ac4d52\"}, {\"marker\": {\"symbol\": \"x\"}, \"mode\": \"lines+markers\", \"name\": \"ExtraTree Classifier\", \"x\": [\"accuracy\", \"FPR\", \"FNR\", \"auc\"], \"y\": [0.9552063288432756, 0.00989355040701315, 0.2483564645726808, 0.870874992510153], \"type\": \"scatter\", \"uid\": \"f15c5487-0f2e-4ab6-a12b-4865f4cbea4c\"}, {\"marker\": {\"symbol\": \"x\"}, \"mode\": \"lines+markers\", \"name\": \"Bagging\", \"x\": [\"accuracy\", \"FPR\", \"FNR\", \"auc\"], \"y\": [0.9615137908915972, 0.011145898559799625, 0.197954711468225, 0.8954496949859877], \"type\": \"scatter\", \"uid\": \"71ac5e3d-4efc-4d5e-a6fa-46ae7d3bcc17\"}, {\"marker\": {\"symbol\": \"x\"}, \"mode\": \"lines+markers\", \"name\": \"Neural Network\", \"x\": [\"accuracy\", \"FPR\", \"FNR\", \"auc\"], \"y\": [0.9616206970280095, 0.015654351909830933, 0.17092768444119796, 0.8954496949859877], \"type\": \"scatter\", \"uid\": \"936525c7-d1a4-4db2-b867-9d24fe549a1b\"}], {\"title\": \"Result comparision for Features selected in Section 1\", \"yaxis\": {\"dtick\": 0.05, \"tick0\": 0}}, {\"showLink\": true, \"linkText\": \"Export to plot.ly\", \"plotlyServerURL\": \"https://plot.ly\"})});</script><script type=\"text/javascript\">window.addEventListener(\"resize\", function(){window._Plotly.Plots.resize(document.getElementById(\"00c7077a-afff-460d-9998-ed340ae21e08\"));});</script>"
      ],
      "text/vnd.plotly.v1+html": [
       "<div id=\"00c7077a-afff-460d-9998-ed340ae21e08\" style=\"height: 525px; width: 100%;\" class=\"plotly-graph-div\"></div><script type=\"text/javascript\">require([\"plotly\"], function(Plotly) { window.PLOTLYENV=window.PLOTLYENV || {};window.PLOTLYENV.BASE_URL=\"https://plot.ly\";Plotly.newPlot(\"00c7077a-afff-460d-9998-ed340ae21e08\", [{\"mode\": \"lines\", \"name\": \"KNN_model\", \"x\": [\"accuracy\", \"FPR\", \"FNR\", \"auc\"], \"y\": [0.9559546717981612, 0.002629931120851597, 0.2856099342585829, 0.8558800673102827], \"type\": \"scatter\", \"uid\": \"07d740ef-ee22-4e1d-8de1-9e4bb6ce84b4\"}, {\"mode\": \"lines+markers\", \"name\": \"Logistic Regression\", \"x\": [\"accuracy\", \"FPR\", \"FNR\", \"auc\"], \"y\": [0.9592687620269403, 0.013400125234815279, 0.20014609203798392, 0.8932268913636003], \"type\": \"scatter\", \"uid\": \"d4e29aea-8b96-4b6c-9b71-e2335a0b8495\"}, {\"marker\": {\"symbol\": \"x\"}, \"mode\": \"lines+markers\", \"name\": \"Random Forest\", \"x\": [\"accuracy\", \"FPR\", \"FNR\", \"auc\"], \"y\": [0.9594825742997648, 0.011521603005635567, 0.20964207450693936, 0.8894181612437125], \"type\": \"scatter\", \"uid\": \"1f31c879-58fe-44a0-a93e-380b7a55e0db\"}, {\"mode\": \"lines\", \"name\": \"Ada Boost\", \"x\": [\"accuracy\", \"FPR\", \"FNR\", \"auc\"], \"y\": [0.9525336754329699, 0.019536631183469006, 0.21037253469685901, 0.8850454170598359], \"type\": \"scatter\", \"uid\": \"a82a08c8-6c25-49e2-924d-2fb2d07475e2\"}, {\"mode\": \"lines+markers\", \"name\": \"GradientBoosting\", \"x\": [\"accuracy\", \"FPR\", \"FNR\", \"auc\"], \"y\": [0.9608723540731238, 0.014902943018159049, 0.1804236669101534, 0.9023366950358437], \"type\": \"scatter\", \"uid\": \"fe3065f2-4ade-47ee-a00d-c07c76ac4d52\"}, {\"marker\": {\"symbol\": \"x\"}, \"mode\": \"lines+markers\", \"name\": \"ExtraTree Classifier\", \"x\": [\"accuracy\", \"FPR\", \"FNR\", \"auc\"], \"y\": [0.9552063288432756, 0.00989355040701315, 0.2483564645726808, 0.870874992510153], \"type\": \"scatter\", \"uid\": \"f15c5487-0f2e-4ab6-a12b-4865f4cbea4c\"}, {\"marker\": {\"symbol\": \"x\"}, \"mode\": \"lines+markers\", \"name\": \"Bagging\", \"x\": [\"accuracy\", \"FPR\", \"FNR\", \"auc\"], \"y\": [0.9615137908915972, 0.011145898559799625, 0.197954711468225, 0.8954496949859877], \"type\": \"scatter\", \"uid\": \"71ac5e3d-4efc-4d5e-a6fa-46ae7d3bcc17\"}, {\"marker\": {\"symbol\": \"x\"}, \"mode\": \"lines+markers\", \"name\": \"Neural Network\", \"x\": [\"accuracy\", \"FPR\", \"FNR\", \"auc\"], \"y\": [0.9616206970280095, 0.015654351909830933, 0.17092768444119796, 0.8954496949859877], \"type\": \"scatter\", \"uid\": \"936525c7-d1a4-4db2-b867-9d24fe549a1b\"}], {\"title\": \"Result comparision for Features selected in Section 1\", \"yaxis\": {\"dtick\": 0.05, \"tick0\": 0}}, {\"showLink\": true, \"linkText\": \"Export to plot.ly\", \"plotlyServerURL\": \"https://plot.ly\"})});</script><script type=\"text/javascript\">window.addEventListener(\"resize\", function(){window._Plotly.Plots.resize(document.getElementById(\"00c7077a-afff-460d-9998-ed340ae21e08\"));});</script>"
      ]
     },
     "metadata": {},
     "output_type": "display_data"
    }
   ],
   "source": [
    "trace0 = go.Scatter(x=table_80_70_test.iloc[0].index.values[[0,5,6,7]],\n",
    "                    y=table_80_70_test.iloc[0].values[[0,5,6,7]],\n",
    "                    mode = 'lines',\n",
    "                    name = 'KNN_model')\n",
    "\n",
    "trace1 = go.Scatter(x=table_80_70_test.iloc[1].index.values[[0,5,6,7]],\n",
    "                    y=table_80_70_test.iloc[1].values[[0,5,6,7]],\n",
    "                    mode = 'lines+markers',\n",
    "                    name = 'Logistic Regression')\n",
    "\n",
    "trace2 = go.Scatter(x=table_80_70_test.iloc[2].index.values[[0,5,6,7]],\n",
    "                    y=table_80_70_test.iloc[2].values[[0,5,6,7]],\n",
    "                    mode = 'lines+markers',marker=dict(symbol='x'),\n",
    "                    name = 'Random Forest')\n",
    "\n",
    "\n",
    "trace3 = go.Scatter(x=table_80_70_test.iloc[3].index.values[[0,5,6,7]],\n",
    "                    y=table_80_70_test.iloc[3].values[[0,5,6,7]],\n",
    "                    mode = 'lines',\n",
    "                    name = 'Ada Boost')\n",
    "\n",
    "trace4 = go.Scatter(x=table_80_70_test.iloc[4].index.values[[0,5,6,7]],\n",
    "                    y=table_80_70_test.iloc[4].values[[0,5,6,7]],\n",
    "                    mode = 'lines+markers',\n",
    "                    name = 'GradientBoosting')\n",
    "\n",
    "trace5 = go.Scatter(x=table_80_70_test.iloc[5].index.values[[0,5,6,7]],\n",
    "                    y=table_80_70_test.iloc[5].values[[0,5,6,7]],\n",
    "                    mode = 'lines+markers',marker=dict(symbol='x'),\n",
    "                    name = 'ExtraTree Classifier')\n",
    "\n",
    "trace6 = go.Scatter(x=table_80_70_test.iloc[6].index.values[[0,5,6,7]],\n",
    "                    y=table_80_70_test.iloc[6].values[[0,5,6,7]],\n",
    "                    mode = 'lines+markers',marker=dict(symbol='x'),\n",
    "                    name = 'Bagging')\n",
    "\n",
    "trace7 = go.Scatter(x=table_80_70_test.iloc[7].index.values[[0,5,6,7]],\n",
    "                    y=table_80_70_test.iloc[7].values[[0,5,6,7]],\n",
    "                    mode = 'lines+markers',marker=dict(symbol='x'),\n",
    "                    name = 'Neural Network')\n",
    "\n",
    "\n",
    "\n",
    "data = [trace0, trace1, trace2, trace3, trace4, trace5, trace6, trace7]\n",
    "layout = go.Layout(yaxis=dict(tick0=0,dtick=0.05),title='Result comparision for Features selected in Section 1')\n",
    "fig = go.Figure(data=data, layout=layout)\n",
    "\n",
    "iplot(fig, filename='Result')"
   ]
  },
  {
   "cell_type": "code",
   "execution_count": 74,
   "metadata": {},
   "outputs": [
    {
     "name": "stdout",
     "output_type": "stream",
     "text": [
      "Training Results\n"
     ]
    },
    {
     "data": {
      "text/html": [
       "<div>\n",
       "<style scoped>\n",
       "    .dataframe tbody tr th:only-of-type {\n",
       "        vertical-align: middle;\n",
       "    }\n",
       "\n",
       "    .dataframe tbody tr th {\n",
       "        vertical-align: top;\n",
       "    }\n",
       "\n",
       "    .dataframe thead th {\n",
       "        text-align: right;\n",
       "    }\n",
       "</style>\n",
       "<table border=\"1\" class=\"dataframe\">\n",
       "  <thead>\n",
       "    <tr style=\"text-align: right;\">\n",
       "      <th></th>\n",
       "      <th>accuracy</th>\n",
       "      <th>TP</th>\n",
       "      <th>TN</th>\n",
       "      <th>FP</th>\n",
       "      <th>FN</th>\n",
       "      <th>FPR</th>\n",
       "      <th>FNR</th>\n",
       "    </tr>\n",
       "    <tr>\n",
       "      <th>index</th>\n",
       "      <th></th>\n",
       "      <th></th>\n",
       "      <th></th>\n",
       "      <th></th>\n",
       "      <th></th>\n",
       "      <th></th>\n",
       "      <th></th>\n",
       "    </tr>\n",
       "  </thead>\n",
       "  <tbody>\n",
       "    <tr>\n",
       "      <th>KNeighborsClassifier</th>\n",
       "      <td>0.961595</td>\n",
       "      <td>4126.0</td>\n",
       "      <td>31854.0</td>\n",
       "      <td>38.0</td>\n",
       "      <td>1399.0</td>\n",
       "      <td>0.001192</td>\n",
       "      <td>0.253213</td>\n",
       "    </tr>\n",
       "    <tr>\n",
       "      <th>LogisticRegression</th>\n",
       "      <td>0.957078</td>\n",
       "      <td>4328.0</td>\n",
       "      <td>31483.0</td>\n",
       "      <td>409.0</td>\n",
       "      <td>1197.0</td>\n",
       "      <td>0.012825</td>\n",
       "      <td>0.216652</td>\n",
       "    </tr>\n",
       "    <tr>\n",
       "      <th>RandomForestClassifier</th>\n",
       "      <td>0.994494</td>\n",
       "      <td>5324.0</td>\n",
       "      <td>31887.0</td>\n",
       "      <td>5.0</td>\n",
       "      <td>201.0</td>\n",
       "      <td>0.000157</td>\n",
       "      <td>0.036380</td>\n",
       "    </tr>\n",
       "    <tr>\n",
       "      <th>AdaBoostClassifier</th>\n",
       "      <td>0.951573</td>\n",
       "      <td>4298.0</td>\n",
       "      <td>31307.0</td>\n",
       "      <td>585.0</td>\n",
       "      <td>1227.0</td>\n",
       "      <td>0.018343</td>\n",
       "      <td>0.222081</td>\n",
       "    </tr>\n",
       "    <tr>\n",
       "      <th>GradientBoostingClassifier</th>\n",
       "      <td>0.962290</td>\n",
       "      <td>4501.0</td>\n",
       "      <td>31505.0</td>\n",
       "      <td>387.0</td>\n",
       "      <td>1024.0</td>\n",
       "      <td>0.012135</td>\n",
       "      <td>0.185339</td>\n",
       "    </tr>\n",
       "    <tr>\n",
       "      <th>ExtraTreeClassifier</th>\n",
       "      <td>0.999973</td>\n",
       "      <td>5524.0</td>\n",
       "      <td>31892.0</td>\n",
       "      <td>0.0</td>\n",
       "      <td>1.0</td>\n",
       "      <td>0.000000</td>\n",
       "      <td>0.000181</td>\n",
       "    </tr>\n",
       "    <tr>\n",
       "      <th>BaggingClassifier</th>\n",
       "      <td>0.993853</td>\n",
       "      <td>5309.0</td>\n",
       "      <td>31878.0</td>\n",
       "      <td>14.0</td>\n",
       "      <td>216.0</td>\n",
       "      <td>0.000439</td>\n",
       "      <td>0.039095</td>\n",
       "    </tr>\n",
       "    <tr>\n",
       "      <th>Neural Network-1</th>\n",
       "      <td>0.998022</td>\n",
       "      <td>5453.0</td>\n",
       "      <td>31890.0</td>\n",
       "      <td>2.0</td>\n",
       "      <td>72.0</td>\n",
       "      <td>0.000063</td>\n",
       "      <td>0.013032</td>\n",
       "    </tr>\n",
       "  </tbody>\n",
       "</table>\n",
       "</div>"
      ],
      "text/plain": [
       "                            accuracy      TP       TN     FP      FN  \\\n",
       "index                                                                  \n",
       "KNeighborsClassifier        0.961595  4126.0  31854.0   38.0  1399.0   \n",
       "LogisticRegression          0.957078  4328.0  31483.0  409.0  1197.0   \n",
       "RandomForestClassifier      0.994494  5324.0  31887.0    5.0   201.0   \n",
       "AdaBoostClassifier          0.951573  4298.0  31307.0  585.0  1227.0   \n",
       "GradientBoostingClassifier  0.962290  4501.0  31505.0  387.0  1024.0   \n",
       "ExtraTreeClassifier         0.999973  5524.0  31892.0    0.0     1.0   \n",
       "BaggingClassifier           0.993853  5309.0  31878.0   14.0   216.0   \n",
       "Neural Network-1            0.998022  5453.0  31890.0    2.0    72.0   \n",
       "\n",
       "                                 FPR       FNR  \n",
       "index                                           \n",
       "KNeighborsClassifier        0.001192  0.253213  \n",
       "LogisticRegression          0.012825  0.216652  \n",
       "RandomForestClassifier      0.000157  0.036380  \n",
       "AdaBoostClassifier          0.018343  0.222081  \n",
       "GradientBoostingClassifier  0.012135  0.185339  \n",
       "ExtraTreeClassifier         0.000000  0.000181  \n",
       "BaggingClassifier           0.000439  0.039095  \n",
       "Neural Network-1            0.000063  0.013032  "
      ]
     },
     "metadata": {},
     "output_type": "display_data"
    },
    {
     "name": "stdout",
     "output_type": "stream",
     "text": [
      "Test Results\n"
     ]
    },
    {
     "data": {
      "text/html": [
       "<div>\n",
       "<style scoped>\n",
       "    .dataframe tbody tr th:only-of-type {\n",
       "        vertical-align: middle;\n",
       "    }\n",
       "\n",
       "    .dataframe tbody tr th {\n",
       "        vertical-align: top;\n",
       "    }\n",
       "\n",
       "    .dataframe thead th {\n",
       "        text-align: right;\n",
       "    }\n",
       "</style>\n",
       "<table border=\"1\" class=\"dataframe\">\n",
       "  <thead>\n",
       "    <tr style=\"text-align: right;\">\n",
       "      <th></th>\n",
       "      <th>accuracy</th>\n",
       "      <th>TP</th>\n",
       "      <th>TN</th>\n",
       "      <th>FP</th>\n",
       "      <th>FN</th>\n",
       "      <th>FPR</th>\n",
       "      <th>FNR</th>\n",
       "      <th>auc</th>\n",
       "      <th>mcc</th>\n",
       "    </tr>\n",
       "    <tr>\n",
       "      <th>index</th>\n",
       "      <th></th>\n",
       "      <th></th>\n",
       "      <th></th>\n",
       "      <th></th>\n",
       "      <th></th>\n",
       "      <th></th>\n",
       "      <th></th>\n",
       "      <th></th>\n",
       "      <th></th>\n",
       "    </tr>\n",
       "  </thead>\n",
       "  <tbody>\n",
       "    <tr>\n",
       "      <th>KNeighborsClassifier</th>\n",
       "      <td>0.955955</td>\n",
       "      <td>978.0</td>\n",
       "      <td>7964.0</td>\n",
       "      <td>21.0</td>\n",
       "      <td>391.0</td>\n",
       "      <td>0.002630</td>\n",
       "      <td>0.285610</td>\n",
       "      <td>0.855880</td>\n",
       "      <td>0.814548</td>\n",
       "    </tr>\n",
       "    <tr>\n",
       "      <th>LogisticRegression</th>\n",
       "      <td>0.959269</td>\n",
       "      <td>1095.0</td>\n",
       "      <td>7878.0</td>\n",
       "      <td>107.0</td>\n",
       "      <td>274.0</td>\n",
       "      <td>0.013400</td>\n",
       "      <td>0.200146</td>\n",
       "      <td>0.893227</td>\n",
       "      <td>0.830669</td>\n",
       "    </tr>\n",
       "    <tr>\n",
       "      <th>RandomForestClassifier</th>\n",
       "      <td>0.959483</td>\n",
       "      <td>1082.0</td>\n",
       "      <td>7893.0</td>\n",
       "      <td>92.0</td>\n",
       "      <td>287.0</td>\n",
       "      <td>0.011522</td>\n",
       "      <td>0.209642</td>\n",
       "      <td>0.889418</td>\n",
       "      <td>0.830950</td>\n",
       "    </tr>\n",
       "    <tr>\n",
       "      <th>AdaBoostClassifier</th>\n",
       "      <td>0.952534</td>\n",
       "      <td>1081.0</td>\n",
       "      <td>7829.0</td>\n",
       "      <td>156.0</td>\n",
       "      <td>288.0</td>\n",
       "      <td>0.019537</td>\n",
       "      <td>0.210373</td>\n",
       "      <td>0.885045</td>\n",
       "      <td>0.803523</td>\n",
       "    </tr>\n",
       "    <tr>\n",
       "      <th>GradientBoostingClassifier</th>\n",
       "      <td>0.960872</td>\n",
       "      <td>1122.0</td>\n",
       "      <td>7866.0</td>\n",
       "      <td>119.0</td>\n",
       "      <td>247.0</td>\n",
       "      <td>0.014903</td>\n",
       "      <td>0.180424</td>\n",
       "      <td>0.902337</td>\n",
       "      <td>0.838460</td>\n",
       "    </tr>\n",
       "    <tr>\n",
       "      <th>ExtraTreeClassifier</th>\n",
       "      <td>0.955206</td>\n",
       "      <td>1029.0</td>\n",
       "      <td>7906.0</td>\n",
       "      <td>79.0</td>\n",
       "      <td>340.0</td>\n",
       "      <td>0.009894</td>\n",
       "      <td>0.248356</td>\n",
       "      <td>0.870875</td>\n",
       "      <td>0.811344</td>\n",
       "    </tr>\n",
       "    <tr>\n",
       "      <th>BaggingClassifier</th>\n",
       "      <td>0.961514</td>\n",
       "      <td>1098.0</td>\n",
       "      <td>7896.0</td>\n",
       "      <td>89.0</td>\n",
       "      <td>271.0</td>\n",
       "      <td>0.011146</td>\n",
       "      <td>0.197955</td>\n",
       "      <td>0.895450</td>\n",
       "      <td>0.839854</td>\n",
       "    </tr>\n",
       "    <tr>\n",
       "      <th>Neural Network-1</th>\n",
       "      <td>0.961621</td>\n",
       "      <td>1135.0</td>\n",
       "      <td>7860.0</td>\n",
       "      <td>125.0</td>\n",
       "      <td>234.0</td>\n",
       "      <td>0.015654</td>\n",
       "      <td>0.170928</td>\n",
       "      <td>0.895450</td>\n",
       "      <td>0.842143</td>\n",
       "    </tr>\n",
       "  </tbody>\n",
       "</table>\n",
       "</div>"
      ],
      "text/plain": [
       "                            accuracy      TP      TN     FP     FN       FPR  \\\n",
       "index                                                                          \n",
       "KNeighborsClassifier        0.955955   978.0  7964.0   21.0  391.0  0.002630   \n",
       "LogisticRegression          0.959269  1095.0  7878.0  107.0  274.0  0.013400   \n",
       "RandomForestClassifier      0.959483  1082.0  7893.0   92.0  287.0  0.011522   \n",
       "AdaBoostClassifier          0.952534  1081.0  7829.0  156.0  288.0  0.019537   \n",
       "GradientBoostingClassifier  0.960872  1122.0  7866.0  119.0  247.0  0.014903   \n",
       "ExtraTreeClassifier         0.955206  1029.0  7906.0   79.0  340.0  0.009894   \n",
       "BaggingClassifier           0.961514  1098.0  7896.0   89.0  271.0  0.011146   \n",
       "Neural Network-1            0.961621  1135.0  7860.0  125.0  234.0  0.015654   \n",
       "\n",
       "                                 FNR       auc       mcc  \n",
       "index                                                     \n",
       "KNeighborsClassifier        0.285610  0.855880  0.814548  \n",
       "LogisticRegression          0.200146  0.893227  0.830669  \n",
       "RandomForestClassifier      0.209642  0.889418  0.830950  \n",
       "AdaBoostClassifier          0.210373  0.885045  0.803523  \n",
       "GradientBoostingClassifier  0.180424  0.902337  0.838460  \n",
       "ExtraTreeClassifier         0.248356  0.870875  0.811344  \n",
       "BaggingClassifier           0.197955  0.895450  0.839854  \n",
       "Neural Network-1            0.170928  0.895450  0.842143  "
      ]
     },
     "metadata": {},
     "output_type": "display_data"
    }
   ],
   "source": [
    "table_80_70_train['index']=ind_columns\n",
    "table_80_70_test['index']=ind_columns\n",
    "\n",
    "\n",
    "table_80_70_test.set_index(['index'],drop=True,inplace=True)\n",
    "table_80_70_train.set_index(['index'],drop=True,inplace=True)\n",
    "\n",
    "print(\"Training Results\")\n",
    "display(table_80_70_train)\n",
    "print(\"Test Results\")\n",
    "display(table_80_70_test)"
   ]
  },
  {
   "cell_type": "code",
   "execution_count": 75,
   "metadata": {},
   "outputs": [
    {
     "data": {
      "text/html": [
       "<script>\n",
       "code_show=true; \n",
       "function code_toggle() {\n",
       " if (code_show){\n",
       " $('div.input').hide();\n",
       " } else {\n",
       " $('div.input').show();\n",
       " }\n",
       " code_show = !code_show\n",
       "} \n",
       "$( document ).ready(code_toggle);\n",
       "</script>\n",
       "To toggle code, click <a href=\"javascript:code_toggle()\">here</a>."
      ],
      "text/plain": [
       "<IPython.core.display.HTML object>"
      ]
     },
     "execution_count": 75,
     "metadata": {},
     "output_type": "execute_result"
    }
   ],
   "source": [
    "### Original Creator : Darshan Bhansali\n",
    "### HTML code to hide the input cells \n",
    "HTML('''<script>\n",
    "code_show=true; \n",
    "function code_toggle() {\n",
    " if (code_show){\n",
    " $('div.input').hide();\n",
    " } else {\n",
    " $('div.input').show();\n",
    " }\n",
    " code_show = !code_show\n",
    "} \n",
    "$( document ).ready(code_toggle);\n",
    "</script>\n",
    "To toggle code, click <a href=\"javascript:code_toggle()\">here</a>.''')"
   ]
  }
 ],
 "metadata": {
  "kernelspec": {
   "display_name": "Python 3",
   "language": "python",
   "name": "python3"
  },
  "language_info": {
   "codemirror_mode": {
    "name": "ipython",
    "version": 3
   },
   "file_extension": ".py",
   "mimetype": "text/x-python",
   "name": "python",
   "nbconvert_exporter": "python",
   "pygments_lexer": "ipython3",
   "version": "3.6.7"
  }
 },
 "nbformat": 4,
 "nbformat_minor": 2
}
