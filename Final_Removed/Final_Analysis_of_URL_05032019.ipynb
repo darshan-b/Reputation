{
 "cells": [
  {
   "cell_type": "markdown",
   "metadata": {},
   "source": [
    "***\n",
    "## Table of Contents\n",
    "<br>\n",
    "  <br>\n",
    "    <ol>\n",
    "        <h2><a href='#1' style=\"text-decoration : none; color : #000000;\">1. Initial Models</a></h2>\n",
    "        <ul>\n",
    "            <a href='#1.A' style=\"text-decoration : none; color : #000000;\"><h3>A. Results </h3></a>\n",
    "        </ul>\n",
    "        <ul>\n",
    "            <a href='#1.B' style=\"text-decoration : none; color : #000000;\"><h3>B. Average Feature Importance   </h3></a>\n",
    "        </ul>\n",
    "     </ol>\n",
    "     <br> \n",
    "\n",
    "<ol>\n",
    "        <h2><a href='#2' style=\"text-decoration : none; color : #000000;\">2. Oversampling </a></h2>\n",
    "        <ul>\n",
    "            <a href='#2.A' style=\"text-decoration : none; color : #000000;\"><h3>A. Results </h3></a>\n",
    "        </ul>\n",
    "        <ul>\n",
    "            <a href='#2.B' style=\"text-decoration : none; color : #000000;\"><h3>B. Average Feature Importance   </h3></a>\n",
    "        </ul>\n",
    "     </ol>\n",
    "     <br>\n",
    "     \n",
    " <ol>\n",
    "        <h2><a href='#3' style=\"text-decoration : none; color : #000000;\">3. Undersampling</a></h2>\n",
    "        <ul>\n",
    "            <a href='#3.A' style=\"text-decoration : none; color : #000000;\"><h3>A. Results </h3></a>\n",
    "        </ul>\n",
    "        <ul>\n",
    "            <a href='#3.B' style=\"text-decoration : none; color : #000000;\"><h3>B. Average Feature Importance   </h3></a>\n",
    "        </ul>\n",
    "     </ol>\n",
    "     <br>\n",
    "     \n",
    " <ol>\n",
    "        <h2><a href='#4' style=\"text-decoration : none; color : #000000;\">4.Feature Transformation with feature selection</a></h2>\n",
    "        <ul>\n",
    "            <a href='#4.A' style=\"text-decoration : none; color : #000000;\"><h3>A. Results </h3></a>\n",
    "        </ul>\n",
    "        <ul>\n",
    "            <a href='#4.B' style=\"text-decoration : none; color : #000000;\"><h3>B. Average Feature Importance   </h3></a>\n",
    "        </ul>\n",
    "     </ol>\n",
    "     <br>\n",
    "     \n",
    "     \n",
    " <ol>\n",
    "        <h2><a href='#5' style=\"text-decoration : none; color : #000000;\">5.Feature Transformation with PCA</a></h2>\n",
    "        <ul>\n",
    "            <a href='#5.A' style=\"text-decoration : none; color : #000000;\"><h3>A. Results </h3></a>\n",
    "        </ul>\n",
    "        <ul>\n",
    "            <a href='#5.B' style=\"text-decoration : none; color : #000000;\"><h3>B. Average Feature Importance   </h3></a>\n",
    "        </ul>\n",
    "     </ol>\n",
    "     <br>"
   ]
  },
  {
   "cell_type": "code",
   "execution_count": 1,
   "metadata": {},
   "outputs": [
    {
     "name": "stderr",
     "output_type": "stream",
     "text": [
      "Using TensorFlow backend.\n"
     ]
    },
    {
     "data": {
      "text/html": [
       "<script type=\"text/javascript\">window.PlotlyConfig = {MathJaxConfig: 'local'};</script><script type=\"text/javascript\">if (window.MathJax) {MathJax.Hub.Config({SVG: {font: \"STIX-Web\"}});}</script><script>requirejs.config({paths: { 'plotly': ['https://cdn.plot.ly/plotly-latest.min']},});if(!window._Plotly) {require(['plotly'],function(plotly) {window._Plotly=plotly;});}</script>"
      ],
      "text/vnd.plotly.v1+html": [
       "<script type=\"text/javascript\">window.PlotlyConfig = {MathJaxConfig: 'local'};</script><script type=\"text/javascript\">if (window.MathJax) {MathJax.Hub.Config({SVG: {font: \"STIX-Web\"}});}</script><script>requirejs.config({paths: { 'plotly': ['https://cdn.plot.ly/plotly-latest.min']},});if(!window._Plotly) {require(['plotly'],function(plotly) {window._Plotly=plotly;});}</script>"
      ]
     },
     "metadata": {},
     "output_type": "display_data"
    }
   ],
   "source": [
    "import pandas as pd\n",
    "import numpy as np\n",
    "import copy\n",
    "import matplotlib.pyplot as plt\n",
    "import seaborn as sns\n",
    "%matplotlib inline\n",
    "\n",
    "from IPython.display import display,clear_output,HTML\n",
    "import warnings\n",
    "warnings.filterwarnings(\"ignore\")\n",
    "\n",
    "import keras\n",
    "from keras.layers import Dense,Dropout\n",
    "from keras.models import Sequential\n",
    "warnings.simplefilter(\"ignore\", DeprecationWarning)\n",
    "import researchpy as rp\n",
    "\n",
    "%matplotlib inline\n",
    "pd.set_option('display.max_columns', 500)\n",
    "pd.set_option('display.max_rows',305)\n",
    "\n",
    "from sklearn.feature_selection import SelectKBest,chi2,RFE,RFECV,f_regression,SelectFromModel\n",
    "from sklearn.linear_model import LogisticRegression\n",
    "from sklearn.ensemble import ExtraTreesClassifier,RandomForestClassifier,GradientBoostingClassifier,AdaBoostClassifier,BaggingClassifier\n",
    "from sklearn.neighbors import KNeighborsClassifier\n",
    "from sklearn.model_selection import train_test_split,cross_val_score\n",
    "\n",
    "from sklearn.preprocessing import StandardScaler,MinMaxScaler\n",
    "from sklearn import metrics\n",
    "\n",
    "\n",
    "\n",
    "from sklearn.decomposition import PCA\n",
    "from sklearn.metrics import accuracy_score,auc,roc_curve,recall_score,precision_score,matthews_corrcoef\n",
    "\n",
    "from pandas_ml import ConfusionMatrix\n",
    "\n",
    "\n",
    "from imblearn.over_sampling import SMOTE\n",
    "\n",
    "from plotly.offline import download_plotlyjs, init_notebook_mode, plot, iplot\n",
    "init_notebook_mode(connected=True)\n",
    "import plotly.graph_objs as go\n",
    "\n",
    "import featuretools as ft\n",
    "\n",
    "from scipy import stats"
   ]
  },
  {
   "cell_type": "code",
   "execution_count": 2,
   "metadata": {
    "collapsed": true
   },
   "outputs": [],
   "source": [
    "### Function to plot Feature Importance\n",
    "def feat_impt_plot(feat_impt,y_labels,width_s=1000,height_s=1000):\n",
    "    \n",
    "    m=pd.DataFrame(y_labels,feat_impt).reset_index()\n",
    "    m.columns=['Feature_Importance','Features']\n",
    "    m.sort_values(by='Feature_Importance',inplace=True,ascending=False)\n",
    "    m['Features']=m['Features'].str.replace(\"dom_function_\",\"\")\n",
    "    m['Features']=m['Features'].str.replace(\"js_function_\",\"\")\n",
    "    m['Features']=m['Features'].apply(lambda x: str(x).lstrip('.'))\n",
    "    m['Features']=m['Features'].str.replace(\"(\",\"\")\n",
    "    \n",
    "    data = [go.Bar(x=m.Feature_Importance.values,y=m.Features.values,text=np.round(m.Feature_Importance,4),\n",
    "            textposition = 'outside',\n",
    "            marker=dict(\n",
    "                color='rgb(158,202,225)',\n",
    "                line=dict(\n",
    "                    color='rgb(8,48,107)',\n",
    "                    width=1.5),\n",
    "            ),\n",
    "            opacity=0.6,\n",
    "            orientation='h'\n",
    "        )]\n",
    "    layout = go.Layout(autosize=False,\n",
    "    width=width_s,\n",
    "    height=height_s,\n",
    "    xaxis=dict(title='Feature Importances',\n",
    "        tickfont=dict(\n",
    "            size=12,\n",
    "            color='black'\n",
    "        )),\n",
    "    yaxis=dict(automargin=True))\n",
    "    fig = go.Figure(data=data, layout=layout)\n",
    "    iplot(fig)"
   ]
  },
  {
   "cell_type": "code",
   "execution_count": 3,
   "metadata": {
    "collapsed": true
   },
   "outputs": [],
   "source": [
    "def uni_value(data):\n",
    "    lst=[]\n",
    "    for col in data.columns[:]:\n",
    "        lst.append([col,dict(data[col].value_counts()),data[col].value_counts().values[0]>=len(data)*0.95])\n",
    "    col_values=pd.DataFrame(lst,columns=['Feature','Value_Counts','95_%_same_values'])\n",
    "    col_values.set_index('Feature',drop=True,inplace=True)\n",
    "    del lst\n",
    "    return col_values\n",
    "\n",
    "    \n",
    "def check_cat(data):\n",
    "    cat_var=[]\n",
    "    num_var=[]\n",
    "    for col in data.columns:\n",
    "        if col!='Target':\n",
    "            if len(data[col].value_counts())==2:\n",
    "                cat_var.append(col)\n",
    "            else:\n",
    "                num_var.append(col)\n",
    "    return cat_var,num_var\n",
    "\n",
    "\n",
    "def num_stats(data,columns):\n",
    "    lst=[]\n",
    "    c=0\n",
    "    for col in columns:\n",
    "        corr=stats.pointbiserialr(data[col],data.Target)[0]\n",
    "        corr_p=stats.pointbiserialr(data[col],data.Target)[1]\n",
    "        ttest=stats.ttest_ind(data[data.Target==1][col], data[data.Target==0][col], equal_var=False)[0]\n",
    "        ttest_p=stats.ttest_ind(data[data.Target==1][col], data[data.Target==0][col], equal_var=False)[1]\n",
    "        lst.append((corr,corr_p,ttest,ttest_p,col))\n",
    "    stats_data=pd.DataFrame(lst,columns=['Pt. Biserial Corr','Pt. Biserial Corr p-val','ttest','ttest p-val','Feature'])\n",
    "    stats_data.set_index('Feature',drop=True,inplace=True)\n",
    "    stats_data.sort_values(by='ttest',inplace=True)\n",
    "    del lst\n",
    "    return stats_data\n",
    "\n",
    "\n",
    "### Generate statistics for categorical data\n",
    "def cat_stats(data,columns):\n",
    "    lst=[]\n",
    "    c=0\n",
    "    for col in columns:\n",
    "        if col!='Target':\n",
    "            table, results = rp.crosstab(data['Target'], data[col], prop= 'col', test= 'chi-square')\n",
    "            x=results['results'].values.tolist()\n",
    "            x.append(col)\n",
    "            lst.append(x)\n",
    "    chi_df=pd.DataFrame(lst,columns=['Pearson Chi-square','p-value','Cramers V','Feature'])\n",
    "    chi_df.set_index('Feature',drop=True,inplace=True)\n",
    "    chi_df.sort_values(by='Cramers V',ascending=False,inplace=True)\n",
    "    del lst\n",
    "    return chi_df\n",
    "\n",
    "def remove_feat(data):\n",
    "    col_no_unique=[]\n",
    "    for col in data.columns[:]:\n",
    "        if len(data[col].value_counts())<=1:\n",
    "#             print(col)\n",
    "            col_no_unique.append(col)\n",
    "    return col_no_unique\n",
    "\n",
    "### Generate plot for class balance for categorical nature\n",
    "def class_bal(data,title=''):\n",
    "    d = [go.Bar(x=data.Target.value_counts().index.values,\n",
    "               y=data.Target.value_counts().values,\n",
    "               text=data.Target.value_counts().values,\n",
    "               textposition = 'outside',\n",
    "            )]\n",
    "    layout = go.Layout(title=title,xaxis=dict(title='Domain Type',tickfont=dict(size=12,color='black')),\n",
    "                    yaxis=dict(title='Number of Instances'))\n",
    "    fig = go.Figure(data=d, layout=layout)\n",
    "    iplot(fig)"
   ]
  },
  {
   "cell_type": "code",
   "execution_count": 4,
   "metadata": {
    "collapsed": true
   },
   "outputs": [],
   "source": [
    "def model_build(model,X_train,Y_train,X_test,Y_test,tree=False,feat=None):\n",
    "    \n",
    "    y_pred_train=model.predict(X_train)\n",
    "    acc_train=accuracy_score(Y_train,y_pred_train)\n",
    "    \n",
    "    print(\"Accuracy of the model for training data is:\",acc_train)\n",
    "    print(\"Confusion Matrix for training data is:\")\n",
    "    cm_train=ConfusionMatrix(Y_train,y_pred_train)\n",
    "    display(cm_train)\n",
    "    \n",
    "    \n",
    "    y_pred_test=model.predict(X_test)\n",
    "    acc_test=accuracy_score(Y_test,y_pred_test)\n",
    "    print(\"Accuracy of the model for test data is:\",acc_test)\n",
    "    print(\"Confusion Matrix for test data is:\")\n",
    "    cm_test=ConfusionMatrix(Y_test,y_pred_test)\n",
    "    display(cm_test)\n",
    "\n",
    "    fpr, tpr, threshold = roc_curve(Y_test, y_pred_test)\n",
    "    roc_auc =auc(fpr, tpr)\n",
    "    mcc=matthews_corrcoef(Y_test,y_pred_test)\n",
    "    if tree==True:\n",
    "        feat_impt_plot(model.feature_importances_,feat)\n",
    "        return model,cm_train,cm_test,acc_train,acc_test,roc_auc,model.feature_importances_,mcc\n",
    "    \n",
    "    return model,cm_train,cm_test,acc_train,acc_test,roc_auc,mcc\n",
    "\n",
    "def KNN_model(X_train,Y_train,X_test,Y_test):\n",
    "    print('\\033[1m' + 'K-Nearest Neighbors' + '\\033[0m')\n",
    "    knn=KNeighborsClassifier()\n",
    "    knn.fit(X_train,Y_train)\n",
    "\n",
    "    return model_build(knn,X_train,Y_train,X_test,Y_test)\n",
    "\n",
    "def Logistic_model(X_train,Y_train,X_test,Y_test):\n",
    "    print('\\033[1m' + 'Logistic Regression' + '\\033[0m')\n",
    "    log=LogisticRegression()\n",
    "    log.fit(X_train,Y_train)\n",
    "    \n",
    "    return model_build(log,X_train,Y_train,X_test,Y_test)\n",
    "\n",
    "def RandomForest(X_train,Y_train,X_test,Y_test,feat):\n",
    "    print('\\033[1m' + 'RandomForest Classifier' + '\\033[0m')\n",
    "    rf=RandomForestClassifier()\n",
    "    rf.fit(X_train,Y_train)\n",
    "\n",
    "    \n",
    "    return model_build(rf,X_train,Y_train,X_test,Y_test,True,feat)\n",
    "\n",
    "def AdaBoost(X_train,Y_train,X_test,Y_test,feat):\n",
    "    print('\\033[1m' + 'Adaoost Classifier' + '\\033[0m')\n",
    "    ada=AdaBoostClassifier()\n",
    "    ada.fit(X_train,Y_train)\n",
    "    \n",
    "    return model_build(ada,X_train,Y_train,X_test,Y_test,True,feat)\n",
    "\n",
    "def GradientBoosting(X_train,Y_train,X_test,Y_test,feat):\n",
    "    print('\\033[1m' + 'GradientBoosting Classifier' + '\\033[0m')\n",
    "    gbc=GradientBoostingClassifier()\n",
    "    gbc.fit(X_train,Y_train)\n",
    "    \n",
    "    return model_build(gbc,X_train,Y_train,X_test,Y_test,True,feat)\n",
    "\n",
    "def ExtraTree(X_train,Y_train,X_test,Y_test,feat):\n",
    "    print('\\033[1m' + 'ExtraTree Classifier' + '\\033[0m')\n",
    "    ext_tree=ExtraTreesClassifier()\n",
    "    ext_tree.fit(X_train,Y_train)\n",
    "    \n",
    "    return model_build(ext_tree,X_train,Y_train,X_test,Y_test,True,feat)\n",
    "\n",
    "def Bagging(X_train,Y_train,X_test,Y_test):\n",
    "    print('\\033[1m' + 'Bagging Classifier' + '\\033[0m')\n",
    "    bagging=BaggingClassifier()\n",
    "    bagging.fit(X_train,Y_train)\n",
    "    \n",
    "    return model_build(bagging,X_train,Y_train,X_test,Y_test)\n",
    "\n",
    "def DeepLearning1(X_train,Y_train,X_test,Y_test):\n",
    "    print('\\033[1m' + 'Neural Network-1' + '\\033[0m')\n",
    "    np.random.seed(0)\n",
    "    deep_learning=Sequential()\n",
    "    deep_learning.add(Dense(units=64,activation='relu',use_bias=True,kernel_initializer='uniform',input_dim=X_train.shape[1]))\n",
    "    deep_learning.add(Dense(units=128,activation='relu',use_bias=True,kernel_initializer='uniform'))\n",
    "    deep_learning.add(Dense(units=1,activation='sigmoid',use_bias=True,kernel_initializer='uniform'))\n",
    "    deep_learning.compile(optimizer='adam',loss='binary_crossentropy',metrics=['accuracy'])\n",
    "    deep_learning.fit(X_train,Y_train,batch_size=20,epochs=80,verbose=False)\n",
    "    acc_train=deep_learning.evaluate(X_train,Y_train,verbose=False)[1]\n",
    "    print(\"The accuracy of the model on training data is:\",acc_train)\n",
    "    cm_train=ConfusionMatrix(Y_train,deep_learning.predict_classes(X_train,batch_size=1,verbose=False).reshape(1,len(X_train))[0])\n",
    "    cm_test=ConfusionMatrix(Y_test,deep_learning.predict_classes(X_test,batch_size=1,verbose=False).reshape(1,len(X_test))[0])\n",
    "    display(cm_train)\n",
    "    acc_test=accuracy_score(Y_test,deep_learning.predict_classes(X_test,batch_size=1,verbose=False))\n",
    "    print(\"The accuracy of the model on test data is:\",acc_test)\n",
    "    display(cm_test)\n",
    "    mcc=matthews_corrcoef(Y_test,deep_learning.predict_classes(X_test,batch_size=1,verbose=False))\n",
    "    return  deep_learning,cm_train,cm_test,acc_train,acc_test,roc_auc,mcc"
   ]
  },
  {
   "cell_type": "code",
   "execution_count": 5,
   "metadata": {},
   "outputs": [
    {
     "name": "stdout",
     "output_type": "stream",
     "text": [
      "Shape of our dataset: (46771, 4194)\n"
     ]
    }
   ],
   "source": [
    "df=pd.read_csv('URL.csv')\n",
    "\n",
    "df.drop(['Unnamed: 0'],axis=1,inplace=True)\n",
    "\n",
    "df.fillna(value=0,inplace=True)\n",
    "\n",
    "cookies=[columns for columns in df.columns if 'number' in columns]\n",
    "\n",
    "df.drop(cookies,axis=1,inplace=True)\n",
    "df=df[df['domain']!=0]\n",
    "df.sort_values(by='Target',inplace=True,ascending=False)\n",
    "\n",
    "df.drop_duplicates(['domain'], keep='first',inplace=True)\n",
    "\n",
    "df=df.sample(frac=1,random_state=0)\n",
    "df.set_index(['domain'],drop=True,inplace=True)\n",
    "print(\"Shape of our dataset:\",df.shape)"
   ]
  },
  {
   "cell_type": "code",
   "execution_count": 6,
   "metadata": {
    "collapsed": true
   },
   "outputs": [],
   "source": [
    "fin_col=['Target',\n",
    " 'url_char_-',\n",
    " 'url_char_.',\n",
    " 'url_char_a',\n",
    " 'url_char_b',\n",
    " 'url_char_c',\n",
    " 'url_char_d',\n",
    " 'url_char_e',\n",
    " 'url_char_f',\n",
    " 'url_char_g',\n",
    " 'url_char_h',\n",
    " 'url_char_i',\n",
    " 'url_char_j',\n",
    " 'url_char_k',\n",
    " 'url_char_l',\n",
    " 'url_char_m',\n",
    " 'url_char_n',\n",
    " 'url_char_o',\n",
    " 'url_char_p',\n",
    " 'url_char_r',\n",
    " 'url_char_s',\n",
    " 'url_char_t',\n",
    " 'url_char_u',\n",
    " 'url_char_v',\n",
    " 'url_char_w',\n",
    " 'url_char_x',\n",
    " 'url_char_y',\n",
    " 'url_char_z',\n",
    " 'url_extension_.com',\n",
    " 'url_word_count_info',\n",
    " 'url_extension_.net',\n",
    " 'url_extensions',\n",
    " 'url_length',\n",
    " 'url_tlds',\n",
    " 'url_words_with_length_4',\n",
    " 'url_words_with_length_5',\n",
    " 'url_words_with_length_6',\n",
    " 'url_words_with_length_7',\n",
    " 'url_words_with_length_8']"
   ]
  },
  {
   "cell_type": "code",
   "execution_count": 7,
   "metadata": {
    "collapsed": true
   },
   "outputs": [],
   "source": [
    "# col_no_unique=[]\n",
    "# for col in df.columns[:-1]:\n",
    "#     if len(df[col].value_counts())==1:\n",
    "#         col_no_unique.append(col)\n",
    "\n",
    "# print(\"{} columns have only one unique value in them rendering them meaningless for classification\".format(len(col_no_unique)))\n",
    "# display(np.array(col_no_unique))\n",
    "# ### Drop those columns\n",
    "# df.drop(col_no_unique,axis=1,inplace=True)\n",
    "\n",
    "# print(\"Shape of our dataset after dropping them:\",df.shape)\n",
    "\n",
    "# ext_end=[col for col in df.columns if 'extension_ends' in col]\n",
    "\n",
    "# for col in ext_end:\n",
    "#     df[col]=df[col].astype(int)\n",
    "\n",
    "# # ### Check and converting data types\n",
    "# # df['Target']=df.Target.apply(lambda x: 1 if x=='Malicious' else 0)\n",
    "# print(\"Columns which are of type object:\\n\",df.dtypes[(df.dtypes=='object')])\n",
    "\n",
    "# lst=[]\n",
    "# for col in df.columns[:-1]:\n",
    "#     lst.append([col,dict(df[col].value_counts()),df[col].value_counts().values[0]>=len(df)*0.95])\n",
    "\n",
    "# col_values=pd.DataFrame(lst,columns=['Feature','Value_Counts','95_%_same_values'])\n",
    "# col_values.set_index('Feature',drop=True,inplace=True)\n",
    "# del lst\n",
    "\n",
    "# print(\"{} columns have more than 95% same values\".format(len(col_values[col_values['95_%_same_values']==True].index.values)))\n",
    "\n",
    "# columns=col_values[col_values['95_%_same_values']==False].index.values\n",
    "# columns=columns.tolist()\n",
    "# col_values['95_%_same_values'].value_counts()\n",
    "\n",
    "# print(\"Columns which are of type object:\",df[columns].dtypes[(df.dtypes=='object')])\n",
    "# columns.remove('url_host')\n",
    "\n",
    "# rem=['url_tld_NET','url_tld_COM','url_tld_NE','url_tld_CO','url_extension_endswith_.com', 'url_extension_.c']\n",
    "# for col in rem:\n",
    "#     columns.remove(col)\n",
    "\n",
    "# df_sel=df[columns]\n",
    "\n",
    "# cat_var_js,num_var_js=check_cat(df_sel)\n",
    "\n",
    "# print(\"Stats for numerical features for HTML experiment\\n\")\n",
    "# num_stats_js=num_stats(df_sel,num_var_js)\n",
    "# display(num_stats_js)\n",
    "# print(\"\\nStats for Categorical features for HTML experiment\\n\")\n",
    "# cat_stats_js=cat_stats(df_sel,cat_var_js)\n",
    "# display(cat_stats_js)"
   ]
  },
  {
   "cell_type": "code",
   "execution_count": 8,
   "metadata": {
    "collapsed": true
   },
   "outputs": [],
   "source": [
    "df_sel=df[fin_col]"
   ]
  },
  {
   "cell_type": "code",
   "execution_count": 9,
   "metadata": {
    "collapsed": true
   },
   "outputs": [],
   "source": [
    "train=df_sel.iloc[:37417,:]\n",
    "train_X=train.iloc[:,train.columns!='Target'].values\n",
    "train_Y=train.Target.values\n",
    "\n",
    "scaler=StandardScaler()\n",
    "scaled_X_train=scaler.fit_transform(train_X)\n",
    "\n",
    "test=df_sel.iloc[37417:,:]\n",
    "test_X=test.iloc[:,test.columns!='Target'].values\n",
    "test_Y=test.Target.values\n",
    "scaled_X_test=scaler.transform(test_X)"
   ]
  },
  {
   "cell_type": "markdown",
   "metadata": {},
   "source": [
    "### <a id='1' style=\"text-decoration : none; color : #000000;\"> 2. Initial Models</a>"
   ]
  },
  {
   "cell_type": "code",
   "execution_count": 11,
   "metadata": {},
   "outputs": [],
   "source": [
    "columns=fin_col.copy()"
   ]
  },
  {
   "cell_type": "code",
   "execution_count": 12,
   "metadata": {},
   "outputs": [],
   "source": [
    "columns.remove('Target')"
   ]
  },
  {
   "cell_type": "code",
   "execution_count": 13,
   "metadata": {
    "collapsed": true
   },
   "outputs": [],
   "source": [
    "ind_columns=['KNeighborsClassifier','LogisticRegression','RandomForestClassifier','AdaBoostClassifier',\n",
    "             'GradientBoostingClassifier','ExtraTreeClassifier','BaggingClassifier','Neural Network-1']\n",
    "\n",
    "f=[KNN_model,Logistic_model,RandomForest,AdaBoost,GradientBoosting, ExtraTree,Bagging,DeepLearning1]\n",
    "\n",
    "## Table to store training and test measures\n",
    "table_80_50_train=pd.DataFrame(columns=['accuracy','TP','TN','FP','FN','FPR','FNR'])\n",
    "table_80_50_test=pd.DataFrame(columns=['accuracy','TP','TN','FP','FN','FPR','FNR','auc','MCC'])"
   ]
  },
  {
   "cell_type": "code",
   "execution_count": 14,
   "metadata": {
    "scrolled": false
   },
   "outputs": [
    {
     "name": "stdout",
     "output_type": "stream",
     "text": [
      "\u001b[1mK-Nearest Neighbors\u001b[0m\n",
      "Accuracy of the model for training data is: 0.962396771521\n",
      "Confusion Matrix for training data is:\n"
     ]
    },
    {
     "data": {
      "text/plain": [
       "Predicted  False  True  __all__\n",
       "Actual                         \n",
       "False      31805    87    31892\n",
       "True        1320  4205     5525\n",
       "__all__    33125  4292    37417"
      ]
     },
     "metadata": {},
     "output_type": "display_data"
    },
    {
     "name": "stdout",
     "output_type": "stream",
     "text": [
      "Accuracy of the model for test data is: 0.956809920889\n",
      "Confusion Matrix for test data is:\n"
     ]
    },
    {
     "data": {
      "text/plain": [
       "Predicted  False  True  __all__\n",
       "Actual                         \n",
       "False       7958    27     7985\n",
       "True         377   992     1369\n",
       "__all__     8335  1019     9354"
      ]
     },
     "metadata": {},
     "output_type": "display_data"
    },
    {
     "name": "stdout",
     "output_type": "stream",
     "text": [
      "\n",
      "\n",
      "\u001b[1mLogistic Regression\u001b[0m\n",
      "Accuracy of the model for training data is: 0.950263249325\n",
      "Confusion Matrix for training data is:\n"
     ]
    },
    {
     "data": {
      "text/plain": [
       "Predicted  False  True  __all__\n",
       "Actual                         \n",
       "False      31480   412    31892\n",
       "True        1449  4076     5525\n",
       "__all__    32929  4488    37417"
      ]
     },
     "metadata": {},
     "output_type": "display_data"
    },
    {
     "name": "stdout",
     "output_type": "stream",
     "text": [
      "Accuracy of the model for test data is: 0.949967928159\n",
      "Confusion Matrix for test data is:\n"
     ]
    },
    {
     "data": {
      "text/plain": [
       "Predicted  False  True  __all__\n",
       "Actual                         \n",
       "False       7862   123     7985\n",
       "True         345  1024     1369\n",
       "__all__     8207  1147     9354"
      ]
     },
     "metadata": {},
     "output_type": "display_data"
    },
    {
     "name": "stdout",
     "output_type": "stream",
     "text": [
      "\n",
      "\n",
      "\u001b[1mRandomForest Classifier\u001b[0m\n",
      "Accuracy of the model for training data is: 0.994815190956\n",
      "Confusion Matrix for training data is:\n"
     ]
    },
    {
     "data": {
      "text/plain": [
       "Predicted  False  True  __all__\n",
       "Actual                         \n",
       "False      31886     6    31892\n",
       "True         188  5337     5525\n",
       "__all__    32074  5343    37417"
      ]
     },
     "metadata": {},
     "output_type": "display_data"
    },
    {
     "name": "stdout",
     "output_type": "stream",
     "text": [
      "Accuracy of the model for test data is: 0.963545007483\n",
      "Confusion Matrix for test data is:\n"
     ]
    },
    {
     "data": {
      "text/plain": [
       "Predicted  False  True  __all__\n",
       "Actual                         \n",
       "False       7923    62     7985\n",
       "True         279  1090     1369\n",
       "__all__     8202  1152     9354"
      ]
     },
     "metadata": {},
     "output_type": "display_data"
    },
    {
     "data": {
      "application/vnd.plotly.v1+json": {
       "config": {
        "linkText": "Export to plot.ly",
        "plotlyServerURL": "https://plot.ly",
        "showLink": true
       },
       "data": [
        {
         "marker": {
          "color": "rgb(158,202,225)",
          "line": {
           "color": "rgb(8,48,107)",
           "width": 1.5
          }
         },
         "opacity": 0.6,
         "orientation": "h",
         "text": [
          0.1875,
          0.1306,
          0.0944,
          0.0769,
          0.0487,
          0.0362,
          0.033,
          0.0287,
          0.0228,
          0.0227,
          0.0202,
          0.0196,
          0.0191,
          0.0165,
          0.0154,
          0.0154,
          0.0151,
          0.0145,
          0.0141,
          0.0129,
          0.0127,
          0.0126,
          0.0125,
          0.0119,
          0.0118,
          0.0117,
          0.0114,
          0.0097,
          0.0093,
          0.0089,
          0.0087,
          0.0085,
          0.0067,
          0.006,
          0.0051,
          0.0043,
          0.003,
          0.0009
         ],
         "textposition": "outside",
         "type": "bar",
         "uid": "855e2d48-2365-4e6f-ac1c-510bfa1c94a8",
         "x": [
          0.1875042671094945,
          0.13058621685690017,
          0.09440098681783943,
          0.07690896329729252,
          0.04871020445150516,
          0.03624443128236492,
          0.0329520997049041,
          0.028723397686608552,
          0.02279407385489445,
          0.022697395769864383,
          0.0201771644073605,
          0.019588950154545606,
          0.01913234175553531,
          0.016488947934317388,
          0.015402421353636907,
          0.015387421477383817,
          0.01512855614767808,
          0.014496362650342107,
          0.014130901884423832,
          0.012920314453743897,
          0.012677844074180895,
          0.012568894469600866,
          0.012510782922819028,
          0.011889411683618959,
          0.01176332754916742,
          0.011680418954118362,
          0.011427619468259393,
          0.009718407403118055,
          0.00927758602402404,
          0.008860460669816234,
          0.008662277863781955,
          0.008514829530360207,
          0.006709305676895945,
          0.006042604443507503,
          0.0050994204575617545,
          0.004280343810998584,
          0.0030469318099761926,
          0.0008941141375589954
         ],
         "y": [
          "url_length",
          "url_char_.",
          "url_char_w",
          "url_extensions",
          "url_tlds",
          "url_words_with_length_4",
          "url_char_z",
          "url_char_e",
          "url_char_l",
          "url_char_y",
          "url_char_i",
          "url_char_o",
          "url_char_b",
          "url_char_s",
          "url_char_n",
          "url_words_with_length_5",
          "url_char_m",
          "url_extension_.com",
          "url_char_a",
          "url_char_t",
          "url_char_c",
          "url_char_d",
          "url_char_r",
          "url_char_p",
          "url_char_k",
          "url_char_h",
          "url_char_u",
          "url_char_f",
          "url_words_with_length_7",
          "url_char_g",
          "url_char_-",
          "url_words_with_length_6",
          "url_char_x",
          "url_char_v",
          "url_char_j",
          "url_words_with_length_8",
          "url_extension_.net",
          "url_word_count_info"
         ]
        }
       ],
       "layout": {
        "autosize": false,
        "height": 1000,
        "width": 1000,
        "xaxis": {
         "tickfont": {
          "color": "black",
          "size": 12
         },
         "title": "Feature Importances"
        },
        "yaxis": {
         "automargin": true
        }
       }
      },
      "text/html": [
       "<div id=\"4a4f0fce-4d2f-4161-b6d7-ab9db33df05e\" style=\"height: 1000px; width: 1000px;\" class=\"plotly-graph-div\"></div><script type=\"text/javascript\">require([\"plotly\"], function(Plotly) { window.PLOTLYENV=window.PLOTLYENV || {};window.PLOTLYENV.BASE_URL=\"https://plot.ly\";Plotly.newPlot(\"4a4f0fce-4d2f-4161-b6d7-ab9db33df05e\", [{\"marker\": {\"color\": \"rgb(158,202,225)\", \"line\": {\"color\": \"rgb(8,48,107)\", \"width\": 1.5}}, \"opacity\": 0.6, \"orientation\": \"h\", \"text\": [0.1875, 0.1306, 0.0944, 0.0769, 0.0487, 0.0362, 0.033, 0.0287, 0.0228, 0.0227, 0.0202, 0.0196, 0.0191, 0.0165, 0.0154, 0.0154, 0.0151, 0.0145, 0.0141, 0.0129, 0.0127, 0.0126, 0.0125, 0.0119, 0.0118, 0.0117, 0.0114, 0.0097, 0.0093, 0.0089, 0.0087, 0.0085, 0.0067, 0.006, 0.0051, 0.0043, 0.003, 0.0009], \"textposition\": \"outside\", \"x\": [0.1875042671094945, 0.13058621685690017, 0.09440098681783943, 0.07690896329729252, 0.04871020445150516, 0.03624443128236492, 0.0329520997049041, 0.028723397686608552, 0.02279407385489445, 0.022697395769864383, 0.0201771644073605, 0.019588950154545606, 0.01913234175553531, 0.016488947934317388, 0.015402421353636907, 0.015387421477383817, 0.01512855614767808, 0.014496362650342107, 0.014130901884423832, 0.012920314453743897, 0.012677844074180895, 0.012568894469600866, 0.012510782922819028, 0.011889411683618959, 0.01176332754916742, 0.011680418954118362, 0.011427619468259393, 0.009718407403118055, 0.00927758602402404, 0.008860460669816234, 0.008662277863781955, 0.008514829530360207, 0.006709305676895945, 0.006042604443507503, 0.0050994204575617545, 0.004280343810998584, 0.0030469318099761926, 0.0008941141375589954], \"y\": [\"url_length\", \"url_char_.\", \"url_char_w\", \"url_extensions\", \"url_tlds\", \"url_words_with_length_4\", \"url_char_z\", \"url_char_e\", \"url_char_l\", \"url_char_y\", \"url_char_i\", \"url_char_o\", \"url_char_b\", \"url_char_s\", \"url_char_n\", \"url_words_with_length_5\", \"url_char_m\", \"url_extension_.com\", \"url_char_a\", \"url_char_t\", \"url_char_c\", \"url_char_d\", \"url_char_r\", \"url_char_p\", \"url_char_k\", \"url_char_h\", \"url_char_u\", \"url_char_f\", \"url_words_with_length_7\", \"url_char_g\", \"url_char_-\", \"url_words_with_length_6\", \"url_char_x\", \"url_char_v\", \"url_char_j\", \"url_words_with_length_8\", \"url_extension_.net\", \"url_word_count_info\"], \"type\": \"bar\", \"uid\": \"855e2d48-2365-4e6f-ac1c-510bfa1c94a8\"}], {\"autosize\": false, \"height\": 1000, \"width\": 1000, \"xaxis\": {\"tickfont\": {\"color\": \"black\", \"size\": 12}, \"title\": \"Feature Importances\"}, \"yaxis\": {\"automargin\": true}}, {\"showLink\": true, \"linkText\": \"Export to plot.ly\", \"plotlyServerURL\": \"https://plot.ly\"})});</script>"
      ],
      "text/vnd.plotly.v1+html": [
       "<div id=\"4a4f0fce-4d2f-4161-b6d7-ab9db33df05e\" style=\"height: 1000px; width: 1000px;\" class=\"plotly-graph-div\"></div><script type=\"text/javascript\">require([\"plotly\"], function(Plotly) { window.PLOTLYENV=window.PLOTLYENV || {};window.PLOTLYENV.BASE_URL=\"https://plot.ly\";Plotly.newPlot(\"4a4f0fce-4d2f-4161-b6d7-ab9db33df05e\", [{\"marker\": {\"color\": \"rgb(158,202,225)\", \"line\": {\"color\": \"rgb(8,48,107)\", \"width\": 1.5}}, \"opacity\": 0.6, \"orientation\": \"h\", \"text\": [0.1875, 0.1306, 0.0944, 0.0769, 0.0487, 0.0362, 0.033, 0.0287, 0.0228, 0.0227, 0.0202, 0.0196, 0.0191, 0.0165, 0.0154, 0.0154, 0.0151, 0.0145, 0.0141, 0.0129, 0.0127, 0.0126, 0.0125, 0.0119, 0.0118, 0.0117, 0.0114, 0.0097, 0.0093, 0.0089, 0.0087, 0.0085, 0.0067, 0.006, 0.0051, 0.0043, 0.003, 0.0009], \"textposition\": \"outside\", \"x\": [0.1875042671094945, 0.13058621685690017, 0.09440098681783943, 0.07690896329729252, 0.04871020445150516, 0.03624443128236492, 0.0329520997049041, 0.028723397686608552, 0.02279407385489445, 0.022697395769864383, 0.0201771644073605, 0.019588950154545606, 0.01913234175553531, 0.016488947934317388, 0.015402421353636907, 0.015387421477383817, 0.01512855614767808, 0.014496362650342107, 0.014130901884423832, 0.012920314453743897, 0.012677844074180895, 0.012568894469600866, 0.012510782922819028, 0.011889411683618959, 0.01176332754916742, 0.011680418954118362, 0.011427619468259393, 0.009718407403118055, 0.00927758602402404, 0.008860460669816234, 0.008662277863781955, 0.008514829530360207, 0.006709305676895945, 0.006042604443507503, 0.0050994204575617545, 0.004280343810998584, 0.0030469318099761926, 0.0008941141375589954], \"y\": [\"url_length\", \"url_char_.\", \"url_char_w\", \"url_extensions\", \"url_tlds\", \"url_words_with_length_4\", \"url_char_z\", \"url_char_e\", \"url_char_l\", \"url_char_y\", \"url_char_i\", \"url_char_o\", \"url_char_b\", \"url_char_s\", \"url_char_n\", \"url_words_with_length_5\", \"url_char_m\", \"url_extension_.com\", \"url_char_a\", \"url_char_t\", \"url_char_c\", \"url_char_d\", \"url_char_r\", \"url_char_p\", \"url_char_k\", \"url_char_h\", \"url_char_u\", \"url_char_f\", \"url_words_with_length_7\", \"url_char_g\", \"url_char_-\", \"url_words_with_length_6\", \"url_char_x\", \"url_char_v\", \"url_char_j\", \"url_words_with_length_8\", \"url_extension_.net\", \"url_word_count_info\"], \"type\": \"bar\", \"uid\": \"855e2d48-2365-4e6f-ac1c-510bfa1c94a8\"}], {\"autosize\": false, \"height\": 1000, \"width\": 1000, \"xaxis\": {\"tickfont\": {\"color\": \"black\", \"size\": 12}, \"title\": \"Feature Importances\"}, \"yaxis\": {\"automargin\": true}}, {\"showLink\": true, \"linkText\": \"Export to plot.ly\", \"plotlyServerURL\": \"https://plot.ly\"})});</script>"
      ]
     },
     "metadata": {},
     "output_type": "display_data"
    },
    {
     "name": "stdout",
     "output_type": "stream",
     "text": [
      "\n",
      "\n",
      "\u001b[1mAdaoost Classifier\u001b[0m\n",
      "Accuracy of the model for training data is: 0.946281102173\n",
      "Confusion Matrix for training data is:\n"
     ]
    },
    {
     "data": {
      "text/plain": [
       "Predicted  False  True  __all__\n",
       "Actual                         \n",
       "False      31428   464    31892\n",
       "True        1546  3979     5525\n",
       "__all__    32974  4443    37417"
      ]
     },
     "metadata": {},
     "output_type": "display_data"
    },
    {
     "name": "stdout",
     "output_type": "stream",
     "text": [
      "Accuracy of the model for test data is: 0.944622621338\n",
      "Confusion Matrix for test data is:\n"
     ]
    },
    {
     "data": {
      "text/plain": [
       "Predicted  False  True  __all__\n",
       "Actual                         \n",
       "False       7853   132     7985\n",
       "True         386   983     1369\n",
       "__all__     8239  1115     9354"
      ]
     },
     "metadata": {},
     "output_type": "display_data"
    },
    {
     "data": {
      "application/vnd.plotly.v1+json": {
       "config": {
        "linkText": "Export to plot.ly",
        "plotlyServerURL": "https://plot.ly",
        "showLink": true
       },
       "data": [
        {
         "marker": {
          "color": "rgb(158,202,225)",
          "line": {
           "color": "rgb(8,48,107)",
           "width": 1.5
          }
         },
         "opacity": 0.6,
         "orientation": "h",
         "text": [
          0.26,
          0.14,
          0.08,
          0.06,
          0.04,
          0.04,
          0.04,
          0.04,
          0.02,
          0.02,
          0.02,
          0.02,
          0.02,
          0.02,
          0.02,
          0.02,
          0.02,
          0.02,
          0.02,
          0.02,
          0.02,
          0.02,
          0.02,
          0,
          0,
          0,
          0,
          0,
          0,
          0,
          0,
          0,
          0,
          0,
          0,
          0,
          0,
          0
         ],
         "textposition": "outside",
         "type": "bar",
         "uid": "c9a6c6e4-4523-4c73-9a64-ffef1580414f",
         "x": [
          0.26,
          0.14,
          0.08,
          0.06,
          0.04,
          0.04,
          0.04,
          0.04,
          0.02,
          0.02,
          0.02,
          0.02,
          0.02,
          0.02,
          0.02,
          0.02,
          0.02,
          0.02,
          0.02,
          0.02,
          0.02,
          0.02,
          0.02,
          0,
          0,
          0,
          0,
          0,
          0,
          0,
          0,
          0,
          0,
          0,
          0,
          0,
          0,
          0
         ],
         "y": [
          "url_length",
          "url_char_w",
          "url_extensions",
          "url_tlds",
          "url_char_o",
          "url_char_z",
          "url_words_with_length_4",
          "url_char_r",
          "url_char_m",
          "url_char_y",
          "url_char_x",
          "url_extension_.net",
          "url_char_t",
          "url_char_.",
          "url_char_p",
          "url_extension_.com",
          "url_char_n",
          "url_char_j",
          "url_char_h",
          "url_char_g",
          "url_char_f",
          "url_char_b",
          "url_char_a",
          "url_word_count_info",
          "url_words_with_length_5",
          "url_words_with_length_6",
          "url_words_with_length_7",
          "url_char_-",
          "url_char_s",
          "url_char_v",
          "url_char_u",
          "url_char_l",
          "url_char_k",
          "url_char_i",
          "url_char_e",
          "url_char_d",
          "url_char_c",
          "url_words_with_length_8"
         ]
        }
       ],
       "layout": {
        "autosize": false,
        "height": 1000,
        "width": 1000,
        "xaxis": {
         "tickfont": {
          "color": "black",
          "size": 12
         },
         "title": "Feature Importances"
        },
        "yaxis": {
         "automargin": true
        }
       }
      },
      "text/html": [
       "<div id=\"a663dfd5-d390-467e-a733-3c5f063b4b1e\" style=\"height: 1000px; width: 1000px;\" class=\"plotly-graph-div\"></div><script type=\"text/javascript\">require([\"plotly\"], function(Plotly) { window.PLOTLYENV=window.PLOTLYENV || {};window.PLOTLYENV.BASE_URL=\"https://plot.ly\";Plotly.newPlot(\"a663dfd5-d390-467e-a733-3c5f063b4b1e\", [{\"marker\": {\"color\": \"rgb(158,202,225)\", \"line\": {\"color\": \"rgb(8,48,107)\", \"width\": 1.5}}, \"opacity\": 0.6, \"orientation\": \"h\", \"text\": [0.26, 0.14, 0.08, 0.06, 0.04, 0.04, 0.04, 0.04, 0.02, 0.02, 0.02, 0.02, 0.02, 0.02, 0.02, 0.02, 0.02, 0.02, 0.02, 0.02, 0.02, 0.02, 0.02, 0.0, 0.0, 0.0, 0.0, 0.0, 0.0, 0.0, 0.0, 0.0, 0.0, 0.0, 0.0, 0.0, 0.0, 0.0], \"textposition\": \"outside\", \"x\": [0.26, 0.14, 0.08, 0.06, 0.04, 0.04, 0.04, 0.04, 0.02, 0.02, 0.02, 0.02, 0.02, 0.02, 0.02, 0.02, 0.02, 0.02, 0.02, 0.02, 0.02, 0.02, 0.02, 0.0, 0.0, 0.0, 0.0, 0.0, 0.0, 0.0, 0.0, 0.0, 0.0, 0.0, 0.0, 0.0, 0.0, 0.0], \"y\": [\"url_length\", \"url_char_w\", \"url_extensions\", \"url_tlds\", \"url_char_o\", \"url_char_z\", \"url_words_with_length_4\", \"url_char_r\", \"url_char_m\", \"url_char_y\", \"url_char_x\", \"url_extension_.net\", \"url_char_t\", \"url_char_.\", \"url_char_p\", \"url_extension_.com\", \"url_char_n\", \"url_char_j\", \"url_char_h\", \"url_char_g\", \"url_char_f\", \"url_char_b\", \"url_char_a\", \"url_word_count_info\", \"url_words_with_length_5\", \"url_words_with_length_6\", \"url_words_with_length_7\", \"url_char_-\", \"url_char_s\", \"url_char_v\", \"url_char_u\", \"url_char_l\", \"url_char_k\", \"url_char_i\", \"url_char_e\", \"url_char_d\", \"url_char_c\", \"url_words_with_length_8\"], \"type\": \"bar\", \"uid\": \"c9a6c6e4-4523-4c73-9a64-ffef1580414f\"}], {\"autosize\": false, \"height\": 1000, \"width\": 1000, \"xaxis\": {\"tickfont\": {\"color\": \"black\", \"size\": 12}, \"title\": \"Feature Importances\"}, \"yaxis\": {\"automargin\": true}}, {\"showLink\": true, \"linkText\": \"Export to plot.ly\", \"plotlyServerURL\": \"https://plot.ly\"})});</script>"
      ],
      "text/vnd.plotly.v1+html": [
       "<div id=\"a663dfd5-d390-467e-a733-3c5f063b4b1e\" style=\"height: 1000px; width: 1000px;\" class=\"plotly-graph-div\"></div><script type=\"text/javascript\">require([\"plotly\"], function(Plotly) { window.PLOTLYENV=window.PLOTLYENV || {};window.PLOTLYENV.BASE_URL=\"https://plot.ly\";Plotly.newPlot(\"a663dfd5-d390-467e-a733-3c5f063b4b1e\", [{\"marker\": {\"color\": \"rgb(158,202,225)\", \"line\": {\"color\": \"rgb(8,48,107)\", \"width\": 1.5}}, \"opacity\": 0.6, \"orientation\": \"h\", \"text\": [0.26, 0.14, 0.08, 0.06, 0.04, 0.04, 0.04, 0.04, 0.02, 0.02, 0.02, 0.02, 0.02, 0.02, 0.02, 0.02, 0.02, 0.02, 0.02, 0.02, 0.02, 0.02, 0.02, 0.0, 0.0, 0.0, 0.0, 0.0, 0.0, 0.0, 0.0, 0.0, 0.0, 0.0, 0.0, 0.0, 0.0, 0.0], \"textposition\": \"outside\", \"x\": [0.26, 0.14, 0.08, 0.06, 0.04, 0.04, 0.04, 0.04, 0.02, 0.02, 0.02, 0.02, 0.02, 0.02, 0.02, 0.02, 0.02, 0.02, 0.02, 0.02, 0.02, 0.02, 0.02, 0.0, 0.0, 0.0, 0.0, 0.0, 0.0, 0.0, 0.0, 0.0, 0.0, 0.0, 0.0, 0.0, 0.0, 0.0], \"y\": [\"url_length\", \"url_char_w\", \"url_extensions\", \"url_tlds\", \"url_char_o\", \"url_char_z\", \"url_words_with_length_4\", \"url_char_r\", \"url_char_m\", \"url_char_y\", \"url_char_x\", \"url_extension_.net\", \"url_char_t\", \"url_char_.\", \"url_char_p\", \"url_extension_.com\", \"url_char_n\", \"url_char_j\", \"url_char_h\", \"url_char_g\", \"url_char_f\", \"url_char_b\", \"url_char_a\", \"url_word_count_info\", \"url_words_with_length_5\", \"url_words_with_length_6\", \"url_words_with_length_7\", \"url_char_-\", \"url_char_s\", \"url_char_v\", \"url_char_u\", \"url_char_l\", \"url_char_k\", \"url_char_i\", \"url_char_e\", \"url_char_d\", \"url_char_c\", \"url_words_with_length_8\"], \"type\": \"bar\", \"uid\": \"c9a6c6e4-4523-4c73-9a64-ffef1580414f\"}], {\"autosize\": false, \"height\": 1000, \"width\": 1000, \"xaxis\": {\"tickfont\": {\"color\": \"black\", \"size\": 12}, \"title\": \"Feature Importances\"}, \"yaxis\": {\"automargin\": true}}, {\"showLink\": true, \"linkText\": \"Export to plot.ly\", \"plotlyServerURL\": \"https://plot.ly\"})});</script>"
      ]
     },
     "metadata": {},
     "output_type": "display_data"
    },
    {
     "name": "stdout",
     "output_type": "stream",
     "text": [
      "\n",
      "\n",
      "\u001b[1mGradientBoosting Classifier\u001b[0m\n",
      "Accuracy of the model for training data is: 0.958521527648\n",
      "Confusion Matrix for training data is:\n"
     ]
    },
    {
     "data": {
      "text/plain": [
       "Predicted  False  True  __all__\n",
       "Actual                         \n",
       "False      31514   378    31892\n",
       "True        1174  4351     5525\n",
       "__all__    32688  4729    37417"
      ]
     },
     "metadata": {},
     "output_type": "display_data"
    },
    {
     "name": "stdout",
     "output_type": "stream",
     "text": [
      "Accuracy of the model for test data is: 0.957558263844\n",
      "Confusion Matrix for test data is:\n"
     ]
    },
    {
     "data": {
      "text/plain": [
       "Predicted  False  True  __all__\n",
       "Actual                         \n",
       "False       7885   100     7985\n",
       "True         297  1072     1369\n",
       "__all__     8182  1172     9354"
      ]
     },
     "metadata": {},
     "output_type": "display_data"
    },
    {
     "data": {
      "application/vnd.plotly.v1+json": {
       "config": {
        "linkText": "Export to plot.ly",
        "plotlyServerURL": "https://plot.ly",
        "showLink": true
       },
       "data": [
        {
         "marker": {
          "color": "rgb(158,202,225)",
          "line": {
           "color": "rgb(8,48,107)",
           "width": 1.5
          }
         },
         "opacity": 0.6,
         "orientation": "h",
         "text": [
          0.4123,
          0.3176,
          0.0812,
          0.0603,
          0.0331,
          0.0298,
          0.0236,
          0.0163,
          0.0087,
          0.0027,
          0.0014,
          0.0013,
          0.0013,
          0.0013,
          0.0013,
          0.001,
          0.001,
          0.0008,
          0.0006,
          0.0006,
          0.0004,
          0.0004,
          0.0004,
          0.0004,
          0.0003,
          0.0003,
          0.0003,
          0.0002,
          0.0002,
          0.0002,
          0.0001,
          0.0001,
          0.0001,
          0.0001,
          0,
          0,
          0,
          0
         ],
         "textposition": "outside",
         "type": "bar",
         "uid": "190c5d8a-43fb-4c0c-82d8-8c001c0b4c46",
         "x": [
          0.4122936823424215,
          0.31760777595018314,
          0.08121969770829522,
          0.0603348777088682,
          0.03309254972738729,
          0.029777277698162807,
          0.0235623431335089,
          0.01634933827459317,
          0.008715431823772202,
          0.0026708129019374104,
          0.0014428046601497292,
          0.0013343309582056282,
          0.001318447584515806,
          0.0012962643932910077,
          0.001277917099560801,
          0.0010124649568765806,
          0.0009761524862971118,
          0.0008185412476143847,
          0.0006078447717973755,
          0.0005896716173536512,
          0.0004434719271267078,
          0.00042027398422187943,
          0.00035864021991563477,
          0.00035691228908359525,
          0.0003463068923661981,
          0.0002990363264500043,
          0.00025863366498992443,
          0.00024115723177748702,
          0.0001856739908300592,
          0.0001707699742587278,
          0.00014018592709555115,
          0.00012329509248203594,
          0.00011625780442938425,
          0.00010414845933232438,
          4.772741651682229e-05,
          4.734644773183221e-05,
          4.193530659985431e-05,
          0
         ],
         "y": [
          "url_extensions",
          "url_length",
          "url_char_.",
          "url_char_w",
          "url_char_z",
          "url_extension_.com",
          "url_tlds",
          "url_words_with_length_4",
          "url_char_b",
          "url_char_o",
          "url_char_y",
          "url_char_-",
          "url_char_c",
          "url_char_f",
          "url_char_i",
          "url_char_e",
          "url_char_p",
          "url_char_l",
          "url_char_r",
          "url_char_j",
          "url_char_m",
          "url_char_x",
          "url_char_d",
          "url_extension_.net",
          "url_char_h",
          "url_char_t",
          "url_char_a",
          "url_char_g",
          "url_char_v",
          "url_words_with_length_6",
          "url_words_with_length_5",
          "url_words_with_length_7",
          "url_char_u",
          "url_word_count_info",
          "url_words_with_length_8",
          "url_char_s",
          "url_char_k",
          "url_char_n"
         ]
        }
       ],
       "layout": {
        "autosize": false,
        "height": 1000,
        "width": 1000,
        "xaxis": {
         "tickfont": {
          "color": "black",
          "size": 12
         },
         "title": "Feature Importances"
        },
        "yaxis": {
         "automargin": true
        }
       }
      },
      "text/html": [
       "<div id=\"ec2f0813-4509-4506-944e-c2c8aac45293\" style=\"height: 1000px; width: 1000px;\" class=\"plotly-graph-div\"></div><script type=\"text/javascript\">require([\"plotly\"], function(Plotly) { window.PLOTLYENV=window.PLOTLYENV || {};window.PLOTLYENV.BASE_URL=\"https://plot.ly\";Plotly.newPlot(\"ec2f0813-4509-4506-944e-c2c8aac45293\", [{\"marker\": {\"color\": \"rgb(158,202,225)\", \"line\": {\"color\": \"rgb(8,48,107)\", \"width\": 1.5}}, \"opacity\": 0.6, \"orientation\": \"h\", \"text\": [0.4123, 0.3176, 0.0812, 0.0603, 0.0331, 0.0298, 0.0236, 0.0163, 0.0087, 0.0027, 0.0014, 0.0013, 0.0013, 0.0013, 0.0013, 0.001, 0.001, 0.0008, 0.0006, 0.0006, 0.0004, 0.0004, 0.0004, 0.0004, 0.0003, 0.0003, 0.0003, 0.0002, 0.0002, 0.0002, 0.0001, 0.0001, 0.0001, 0.0001, 0.0, 0.0, 0.0, 0.0], \"textposition\": \"outside\", \"x\": [0.4122936823424215, 0.31760777595018314, 0.08121969770829522, 0.0603348777088682, 0.03309254972738729, 0.029777277698162807, 0.0235623431335089, 0.01634933827459317, 0.008715431823772202, 0.0026708129019374104, 0.0014428046601497292, 0.0013343309582056282, 0.001318447584515806, 0.0012962643932910077, 0.001277917099560801, 0.0010124649568765806, 0.0009761524862971118, 0.0008185412476143847, 0.0006078447717973755, 0.0005896716173536512, 0.0004434719271267078, 0.00042027398422187943, 0.00035864021991563477, 0.00035691228908359525, 0.0003463068923661981, 0.0002990363264500043, 0.00025863366498992443, 0.00024115723177748702, 0.0001856739908300592, 0.0001707699742587278, 0.00014018592709555115, 0.00012329509248203594, 0.00011625780442938425, 0.00010414845933232438, 4.772741651682229e-05, 4.734644773183221e-05, 4.193530659985431e-05, 0.0], \"y\": [\"url_extensions\", \"url_length\", \"url_char_.\", \"url_char_w\", \"url_char_z\", \"url_extension_.com\", \"url_tlds\", \"url_words_with_length_4\", \"url_char_b\", \"url_char_o\", \"url_char_y\", \"url_char_-\", \"url_char_c\", \"url_char_f\", \"url_char_i\", \"url_char_e\", \"url_char_p\", \"url_char_l\", \"url_char_r\", \"url_char_j\", \"url_char_m\", \"url_char_x\", \"url_char_d\", \"url_extension_.net\", \"url_char_h\", \"url_char_t\", \"url_char_a\", \"url_char_g\", \"url_char_v\", \"url_words_with_length_6\", \"url_words_with_length_5\", \"url_words_with_length_7\", \"url_char_u\", \"url_word_count_info\", \"url_words_with_length_8\", \"url_char_s\", \"url_char_k\", \"url_char_n\"], \"type\": \"bar\", \"uid\": \"190c5d8a-43fb-4c0c-82d8-8c001c0b4c46\"}], {\"autosize\": false, \"height\": 1000, \"width\": 1000, \"xaxis\": {\"tickfont\": {\"color\": \"black\", \"size\": 12}, \"title\": \"Feature Importances\"}, \"yaxis\": {\"automargin\": true}}, {\"showLink\": true, \"linkText\": \"Export to plot.ly\", \"plotlyServerURL\": \"https://plot.ly\"})});</script>"
      ],
      "text/vnd.plotly.v1+html": [
       "<div id=\"ec2f0813-4509-4506-944e-c2c8aac45293\" style=\"height: 1000px; width: 1000px;\" class=\"plotly-graph-div\"></div><script type=\"text/javascript\">require([\"plotly\"], function(Plotly) { window.PLOTLYENV=window.PLOTLYENV || {};window.PLOTLYENV.BASE_URL=\"https://plot.ly\";Plotly.newPlot(\"ec2f0813-4509-4506-944e-c2c8aac45293\", [{\"marker\": {\"color\": \"rgb(158,202,225)\", \"line\": {\"color\": \"rgb(8,48,107)\", \"width\": 1.5}}, \"opacity\": 0.6, \"orientation\": \"h\", \"text\": [0.4123, 0.3176, 0.0812, 0.0603, 0.0331, 0.0298, 0.0236, 0.0163, 0.0087, 0.0027, 0.0014, 0.0013, 0.0013, 0.0013, 0.0013, 0.001, 0.001, 0.0008, 0.0006, 0.0006, 0.0004, 0.0004, 0.0004, 0.0004, 0.0003, 0.0003, 0.0003, 0.0002, 0.0002, 0.0002, 0.0001, 0.0001, 0.0001, 0.0001, 0.0, 0.0, 0.0, 0.0], \"textposition\": \"outside\", \"x\": [0.4122936823424215, 0.31760777595018314, 0.08121969770829522, 0.0603348777088682, 0.03309254972738729, 0.029777277698162807, 0.0235623431335089, 0.01634933827459317, 0.008715431823772202, 0.0026708129019374104, 0.0014428046601497292, 0.0013343309582056282, 0.001318447584515806, 0.0012962643932910077, 0.001277917099560801, 0.0010124649568765806, 0.0009761524862971118, 0.0008185412476143847, 0.0006078447717973755, 0.0005896716173536512, 0.0004434719271267078, 0.00042027398422187943, 0.00035864021991563477, 0.00035691228908359525, 0.0003463068923661981, 0.0002990363264500043, 0.00025863366498992443, 0.00024115723177748702, 0.0001856739908300592, 0.0001707699742587278, 0.00014018592709555115, 0.00012329509248203594, 0.00011625780442938425, 0.00010414845933232438, 4.772741651682229e-05, 4.734644773183221e-05, 4.193530659985431e-05, 0.0], \"y\": [\"url_extensions\", \"url_length\", \"url_char_.\", \"url_char_w\", \"url_char_z\", \"url_extension_.com\", \"url_tlds\", \"url_words_with_length_4\", \"url_char_b\", \"url_char_o\", \"url_char_y\", \"url_char_-\", \"url_char_c\", \"url_char_f\", \"url_char_i\", \"url_char_e\", \"url_char_p\", \"url_char_l\", \"url_char_r\", \"url_char_j\", \"url_char_m\", \"url_char_x\", \"url_char_d\", \"url_extension_.net\", \"url_char_h\", \"url_char_t\", \"url_char_a\", \"url_char_g\", \"url_char_v\", \"url_words_with_length_6\", \"url_words_with_length_5\", \"url_words_with_length_7\", \"url_char_u\", \"url_word_count_info\", \"url_words_with_length_8\", \"url_char_s\", \"url_char_k\", \"url_char_n\"], \"type\": \"bar\", \"uid\": \"190c5d8a-43fb-4c0c-82d8-8c001c0b4c46\"}], {\"autosize\": false, \"height\": 1000, \"width\": 1000, \"xaxis\": {\"tickfont\": {\"color\": \"black\", \"size\": 12}, \"title\": \"Feature Importances\"}, \"yaxis\": {\"automargin\": true}}, {\"showLink\": true, \"linkText\": \"Export to plot.ly\", \"plotlyServerURL\": \"https://plot.ly\"})});</script>"
      ]
     },
     "metadata": {},
     "output_type": "display_data"
    },
    {
     "name": "stdout",
     "output_type": "stream",
     "text": [
      "\n",
      "\n",
      "\u001b[1mExtraTree Classifier\u001b[0m\n",
      "Accuracy of the model for training data is: 0.99997327418\n",
      "Confusion Matrix for training data is:\n"
     ]
    },
    {
     "data": {
      "text/plain": [
       "Predicted  False  True  __all__\n",
       "Actual                         \n",
       "False      31892     0    31892\n",
       "True           1  5524     5525\n",
       "__all__    31893  5524    37417"
      ]
     },
     "metadata": {},
     "output_type": "display_data"
    },
    {
     "name": "stdout",
     "output_type": "stream",
     "text": [
      "Accuracy of the model for test data is: 0.961299978619\n",
      "Confusion Matrix for test data is:\n"
     ]
    },
    {
     "data": {
      "text/plain": [
       "Predicted  False  True  __all__\n",
       "Actual                         \n",
       "False       7920    65     7985\n",
       "True         297  1072     1369\n",
       "__all__     8217  1137     9354"
      ]
     },
     "metadata": {},
     "output_type": "display_data"
    },
    {
     "data": {
      "application/vnd.plotly.v1+json": {
       "config": {
        "linkText": "Export to plot.ly",
        "plotlyServerURL": "https://plot.ly",
        "showLink": true
       },
       "data": [
        {
         "marker": {
          "color": "rgb(158,202,225)",
          "line": {
           "color": "rgb(8,48,107)",
           "width": 1.5
          }
         },
         "opacity": 0.6,
         "orientation": "h",
         "text": [
          0.1265,
          0.0937,
          0.0869,
          0.0818,
          0.0493,
          0.0354,
          0.0308,
          0.0305,
          0.0296,
          0.0276,
          0.0246,
          0.023,
          0.0213,
          0.0199,
          0.0182,
          0.0181,
          0.0173,
          0.0169,
          0.0167,
          0.0164,
          0.0162,
          0.0161,
          0.0159,
          0.0159,
          0.0151,
          0.015,
          0.0141,
          0.0135,
          0.013,
          0.0124,
          0.012,
          0.0116,
          0.0099,
          0.0098,
          0.0081,
          0.0075,
          0.0073,
          0.002
         ],
         "textposition": "outside",
         "type": "bar",
         "uid": "395aff71-e317-4806-b080-344d6a9542e8",
         "x": [
          0.12645280003729245,
          0.09374027125755696,
          0.08691763892964319,
          0.08179797353459331,
          0.049329149156735724,
          0.03543695427938244,
          0.030788175288066544,
          0.030539444750880836,
          0.02960516236320866,
          0.027608511179634365,
          0.02462663044740166,
          0.02300805037484941,
          0.021291899572964512,
          0.01985638062311667,
          0.018166653881809273,
          0.018064908567574874,
          0.01730924037601855,
          0.016910169033374042,
          0.016730830325202665,
          0.016392818447515896,
          0.016173667372518734,
          0.016077215786774762,
          0.015933399065226558,
          0.01591687702605035,
          0.01512748813551181,
          0.014996074146943608,
          0.014090539447799578,
          0.013494315661732575,
          0.012954401740470297,
          0.012427807229648929,
          0.01204077356124423,
          0.01161150674815521,
          0.009883843885497344,
          0.009814518215328544,
          0.00810535214942835,
          0.007464222066251749,
          0.007269748097475918,
          0.0020445872371193967
         ],
         "y": [
          "url_char_.",
          "url_length",
          "url_char_w",
          "url_extensions",
          "url_tlds",
          "url_char_z",
          "url_char_i",
          "url_words_with_length_4",
          "url_char_y",
          "url_char_b",
          "url_extension_.com",
          "url_char_e",
          "url_char_n",
          "url_char_o",
          "url_char_s",
          "url_char_u",
          "url_char_d",
          "url_char_x",
          "url_char_r",
          "url_char_p",
          "url_words_with_length_5",
          "url_char_l",
          "url_words_with_length_7",
          "url_char_a",
          "url_char_t",
          "url_char_k",
          "url_char_c",
          "url_words_with_length_6",
          "url_char_m",
          "url_char_h",
          "url_char_f",
          "url_char_g",
          "url_char_-",
          "url_char_v",
          "url_words_with_length_8",
          "url_char_j",
          "url_extension_.net",
          "url_word_count_info"
         ]
        }
       ],
       "layout": {
        "autosize": false,
        "height": 1000,
        "width": 1000,
        "xaxis": {
         "tickfont": {
          "color": "black",
          "size": 12
         },
         "title": "Feature Importances"
        },
        "yaxis": {
         "automargin": true
        }
       }
      },
      "text/html": [
       "<div id=\"9ab75ad1-af50-4db2-bb2e-b0d4cadb54fe\" style=\"height: 1000px; width: 1000px;\" class=\"plotly-graph-div\"></div><script type=\"text/javascript\">require([\"plotly\"], function(Plotly) { window.PLOTLYENV=window.PLOTLYENV || {};window.PLOTLYENV.BASE_URL=\"https://plot.ly\";Plotly.newPlot(\"9ab75ad1-af50-4db2-bb2e-b0d4cadb54fe\", [{\"marker\": {\"color\": \"rgb(158,202,225)\", \"line\": {\"color\": \"rgb(8,48,107)\", \"width\": 1.5}}, \"opacity\": 0.6, \"orientation\": \"h\", \"text\": [0.1265, 0.0937, 0.0869, 0.0818, 0.0493, 0.0354, 0.0308, 0.0305, 0.0296, 0.0276, 0.0246, 0.023, 0.0213, 0.0199, 0.0182, 0.0181, 0.0173, 0.0169, 0.0167, 0.0164, 0.0162, 0.0161, 0.0159, 0.0159, 0.0151, 0.015, 0.0141, 0.0135, 0.013, 0.0124, 0.012, 0.0116, 0.0099, 0.0098, 0.0081, 0.0075, 0.0073, 0.002], \"textposition\": \"outside\", \"x\": [0.12645280003729245, 0.09374027125755696, 0.08691763892964319, 0.08179797353459331, 0.049329149156735724, 0.03543695427938244, 0.030788175288066544, 0.030539444750880836, 0.02960516236320866, 0.027608511179634365, 0.02462663044740166, 0.02300805037484941, 0.021291899572964512, 0.01985638062311667, 0.018166653881809273, 0.018064908567574874, 0.01730924037601855, 0.016910169033374042, 0.016730830325202665, 0.016392818447515896, 0.016173667372518734, 0.016077215786774762, 0.015933399065226558, 0.01591687702605035, 0.01512748813551181, 0.014996074146943608, 0.014090539447799578, 0.013494315661732575, 0.012954401740470297, 0.012427807229648929, 0.01204077356124423, 0.01161150674815521, 0.009883843885497344, 0.009814518215328544, 0.00810535214942835, 0.007464222066251749, 0.007269748097475918, 0.0020445872371193967], \"y\": [\"url_char_.\", \"url_length\", \"url_char_w\", \"url_extensions\", \"url_tlds\", \"url_char_z\", \"url_char_i\", \"url_words_with_length_4\", \"url_char_y\", \"url_char_b\", \"url_extension_.com\", \"url_char_e\", \"url_char_n\", \"url_char_o\", \"url_char_s\", \"url_char_u\", \"url_char_d\", \"url_char_x\", \"url_char_r\", \"url_char_p\", \"url_words_with_length_5\", \"url_char_l\", \"url_words_with_length_7\", \"url_char_a\", \"url_char_t\", \"url_char_k\", \"url_char_c\", \"url_words_with_length_6\", \"url_char_m\", \"url_char_h\", \"url_char_f\", \"url_char_g\", \"url_char_-\", \"url_char_v\", \"url_words_with_length_8\", \"url_char_j\", \"url_extension_.net\", \"url_word_count_info\"], \"type\": \"bar\", \"uid\": \"395aff71-e317-4806-b080-344d6a9542e8\"}], {\"autosize\": false, \"height\": 1000, \"width\": 1000, \"xaxis\": {\"tickfont\": {\"color\": \"black\", \"size\": 12}, \"title\": \"Feature Importances\"}, \"yaxis\": {\"automargin\": true}}, {\"showLink\": true, \"linkText\": \"Export to plot.ly\", \"plotlyServerURL\": \"https://plot.ly\"})});</script>"
      ],
      "text/vnd.plotly.v1+html": [
       "<div id=\"9ab75ad1-af50-4db2-bb2e-b0d4cadb54fe\" style=\"height: 1000px; width: 1000px;\" class=\"plotly-graph-div\"></div><script type=\"text/javascript\">require([\"plotly\"], function(Plotly) { window.PLOTLYENV=window.PLOTLYENV || {};window.PLOTLYENV.BASE_URL=\"https://plot.ly\";Plotly.newPlot(\"9ab75ad1-af50-4db2-bb2e-b0d4cadb54fe\", [{\"marker\": {\"color\": \"rgb(158,202,225)\", \"line\": {\"color\": \"rgb(8,48,107)\", \"width\": 1.5}}, \"opacity\": 0.6, \"orientation\": \"h\", \"text\": [0.1265, 0.0937, 0.0869, 0.0818, 0.0493, 0.0354, 0.0308, 0.0305, 0.0296, 0.0276, 0.0246, 0.023, 0.0213, 0.0199, 0.0182, 0.0181, 0.0173, 0.0169, 0.0167, 0.0164, 0.0162, 0.0161, 0.0159, 0.0159, 0.0151, 0.015, 0.0141, 0.0135, 0.013, 0.0124, 0.012, 0.0116, 0.0099, 0.0098, 0.0081, 0.0075, 0.0073, 0.002], \"textposition\": \"outside\", \"x\": [0.12645280003729245, 0.09374027125755696, 0.08691763892964319, 0.08179797353459331, 0.049329149156735724, 0.03543695427938244, 0.030788175288066544, 0.030539444750880836, 0.02960516236320866, 0.027608511179634365, 0.02462663044740166, 0.02300805037484941, 0.021291899572964512, 0.01985638062311667, 0.018166653881809273, 0.018064908567574874, 0.01730924037601855, 0.016910169033374042, 0.016730830325202665, 0.016392818447515896, 0.016173667372518734, 0.016077215786774762, 0.015933399065226558, 0.01591687702605035, 0.01512748813551181, 0.014996074146943608, 0.014090539447799578, 0.013494315661732575, 0.012954401740470297, 0.012427807229648929, 0.01204077356124423, 0.01161150674815521, 0.009883843885497344, 0.009814518215328544, 0.00810535214942835, 0.007464222066251749, 0.007269748097475918, 0.0020445872371193967], \"y\": [\"url_char_.\", \"url_length\", \"url_char_w\", \"url_extensions\", \"url_tlds\", \"url_char_z\", \"url_char_i\", \"url_words_with_length_4\", \"url_char_y\", \"url_char_b\", \"url_extension_.com\", \"url_char_e\", \"url_char_n\", \"url_char_o\", \"url_char_s\", \"url_char_u\", \"url_char_d\", \"url_char_x\", \"url_char_r\", \"url_char_p\", \"url_words_with_length_5\", \"url_char_l\", \"url_words_with_length_7\", \"url_char_a\", \"url_char_t\", \"url_char_k\", \"url_char_c\", \"url_words_with_length_6\", \"url_char_m\", \"url_char_h\", \"url_char_f\", \"url_char_g\", \"url_char_-\", \"url_char_v\", \"url_words_with_length_8\", \"url_char_j\", \"url_extension_.net\", \"url_word_count_info\"], \"type\": \"bar\", \"uid\": \"395aff71-e317-4806-b080-344d6a9542e8\"}], {\"autosize\": false, \"height\": 1000, \"width\": 1000, \"xaxis\": {\"tickfont\": {\"color\": \"black\", \"size\": 12}, \"title\": \"Feature Importances\"}, \"yaxis\": {\"automargin\": true}}, {\"showLink\": true, \"linkText\": \"Export to plot.ly\", \"plotlyServerURL\": \"https://plot.ly\"})});</script>"
      ]
     },
     "metadata": {},
     "output_type": "display_data"
    },
    {
     "name": "stdout",
     "output_type": "stream",
     "text": [
      "\n",
      "\n",
      "\u001b[1mBagging Classifier\u001b[0m\n",
      "Accuracy of the model for training data is: 0.994147045461\n",
      "Confusion Matrix for training data is:\n"
     ]
    },
    {
     "data": {
      "text/plain": [
       "Predicted  False  True  __all__\n",
       "Actual                         \n",
       "False      31883     9    31892\n",
       "True         210  5315     5525\n",
       "__all__    32093  5324    37417"
      ]
     },
     "metadata": {},
     "output_type": "display_data"
    },
    {
     "name": "stdout",
     "output_type": "stream",
     "text": [
      "Accuracy of the model for test data is: 0.963224289074\n",
      "Confusion Matrix for test data is:\n"
     ]
    },
    {
     "data": {
      "text/plain": [
       "Predicted  False  True  __all__\n",
       "Actual                         \n",
       "False       7908    77     7985\n",
       "True         267  1102     1369\n",
       "__all__     8175  1179     9354"
      ]
     },
     "metadata": {},
     "output_type": "display_data"
    },
    {
     "name": "stdout",
     "output_type": "stream",
     "text": [
      "\n",
      "\n",
      "\u001b[1mNeural Network-1\u001b[0m\n",
      "The accuracy of the model on training data is: 0.996685998343\n"
     ]
    },
    {
     "data": {
      "text/plain": [
       "Predicted  False  True  __all__\n",
       "Actual                         \n",
       "False      31872    20    31892\n",
       "True         104  5421     5525\n",
       "__all__    31976  5441    37417"
      ]
     },
     "metadata": {},
     "output_type": "display_data"
    },
    {
     "name": "stdout",
     "output_type": "stream",
     "text": [
      "The accuracy of the model on test data is: 0.956061577935\n"
     ]
    },
    {
     "data": {
      "text/plain": [
       "Predicted  False  True  __all__\n",
       "Actual                         \n",
       "False       7809   176     7985\n",
       "True         235  1134     1369\n",
       "__all__     8044  1310     9354"
      ]
     },
     "metadata": {},
     "output_type": "display_data"
    },
    {
     "name": "stdout",
     "output_type": "stream",
     "text": [
      "\n",
      "\n"
     ]
    }
   ],
   "source": [
    "feat_imp=[None]*4\n",
    "j=0\n",
    "for i in range(0,8):\n",
    "    if i>=2 and i<=5:\n",
    "        model,cm_train,cm_test,acc_train,acc_test,roc_auc,feat_imp[j],mcc=f[i](scaled_X_train,train_Y,scaled_X_test,test_Y,columns)\n",
    "        j=j+1\n",
    "    else:\n",
    "        model,cm_train,cm_test,acc_train,acc_test,roc_auc,mcc=f[i](scaled_X_train,train_Y,scaled_X_test,test_Y)\n",
    "    table_80_50_train.loc[i]=   ([acc_train,cm_train.TP,cm_train.TN,cm_train.FP,cm_train.FN,cm_train.FPR,cm_train.FNR])\n",
    "    table_80_50_test.loc[i] =   ([acc_test ,cm_test.TP, cm_test.TN, cm_test.FP, cm_test.FN, cm_test.FPR, cm_test.FNR,roc_auc,mcc])\n",
    "    print(\"\\n\")"
   ]
  },
  {
   "cell_type": "markdown",
   "metadata": {},
   "source": [
    "### <a id='1.A' style=\"text-decoration : none; color : #000000;\"> A Results</a>"
   ]
  },
  {
   "cell_type": "code",
   "execution_count": 15,
   "metadata": {},
   "outputs": [
    {
     "data": {
      "application/vnd.plotly.v1+json": {
       "config": {
        "linkText": "Export to plot.ly",
        "plotlyServerURL": "https://plot.ly",
        "showLink": true
       },
       "data": [
        {
         "mode": "lines",
         "name": "KNN_model",
         "type": "scatter",
         "uid": "a568d469-0ac4-4a86-89cf-e92548980907",
         "x": [
          "accuracy",
          "FPR",
          "FNR",
          "auc"
         ],
         "y": [
          0.956809920889459,
          0.0033813400125234814,
          0.2753834915997078,
          0.8606175841938845
         ]
        },
        {
         "mode": "lines+markers",
         "name": "Logistic Regression",
         "type": "scatter",
         "uid": "d21cb60b-cd2b-4cd9-8023-cec354766707",
         "x": [
          "accuracy",
          "FPR",
          "FNR",
          "auc"
         ],
         "y": [
          0.9499679281590764,
          0.015403882279273638,
          0.252008765522279,
          0.8662936760992237
         ]
        },
        {
         "marker": {
          "symbol": "x"
         },
         "mode": "lines+markers",
         "name": "Random Forest",
         "type": "scatter",
         "uid": "5287489b-1257-4fc1-9449-c054b516ded9",
         "x": [
          "accuracy",
          "FPR",
          "FNR",
          "auc"
         ],
         "y": [
          0.9635450074834295,
          0.007764558547276142,
          0.20379839298758218,
          0.8942185242325709
         ]
        },
        {
         "mode": "lines",
         "name": "Ada Boost",
         "type": "scatter",
         "uid": "624d3f89-3529-4129-b04b-7269684d532d",
         "x": [
          "accuracy",
          "FPR",
          "FNR",
          "auc"
         ],
         "y": [
          0.9446226213384649,
          0.016530995616781466,
          0.28195763330898466,
          0.8507556855371169
         ]
        },
        {
         "mode": "lines+markers",
         "name": "GradientBoosting",
         "type": "scatter",
         "uid": "01857746-a532-4a36-ab8b-e693d0503fda",
         "x": [
          "accuracy",
          "FPR",
          "FNR",
          "auc"
         ],
         "y": [
          0.9575582638443446,
          0.012523481527864746,
          0.21694667640613585,
          0.8852649210329997
         ]
        },
        {
         "marker": {
          "symbol": "x"
         },
         "mode": "lines+markers",
         "name": "ExtraTree Classifier",
         "type": "scatter",
         "uid": "d8c9cbfb-d30e-4688-a197-14526d1e56c0",
         "x": [
          "accuracy",
          "FPR",
          "FNR",
          "auc"
         ],
         "y": [
          0.9612999786187727,
          0.008140262993112084,
          0.21694667640613585,
          0.887456530300376
         ]
        },
        {
         "marker": {
          "symbol": "x"
         },
         "mode": "lines+markers",
         "name": "Bagging",
         "type": "scatter",
         "uid": "cd6d204a-5ec1-412f-9657-d3be657c30df",
         "x": [
          "accuracy",
          "FPR",
          "FNR",
          "auc"
         ],
         "y": [
          0.9632242890741929,
          0.009643080776455855,
          0.19503287070854639,
          0.8976620242574989
         ]
        },
        {
         "marker": {
          "symbol": "x"
         },
         "mode": "lines+markers",
         "name": "Neural Network",
         "type": "scatter",
         "uid": "7bd784fd-0aea-4e6c-b1a3-f793edfc8d22",
         "x": [
          "accuracy",
          "FPR",
          "FNR",
          "auc"
         ],
         "y": [
          0.9560615779345735,
          0.022041327489041952,
          0.17165814463111762,
          0.8976620242574989
         ]
        }
       ],
       "layout": {
        "title": "Result comparision for Features selected in Section 1",
        "yaxis": {
         "dtick": 0.05,
         "tick0": 0
        }
       }
      },
      "text/html": [
       "<div id=\"bb776c7c-a97d-45b5-83d6-a792c545f343\" style=\"height: 525px; width: 100%;\" class=\"plotly-graph-div\"></div><script type=\"text/javascript\">require([\"plotly\"], function(Plotly) { window.PLOTLYENV=window.PLOTLYENV || {};window.PLOTLYENV.BASE_URL=\"https://plot.ly\";Plotly.newPlot(\"bb776c7c-a97d-45b5-83d6-a792c545f343\", [{\"mode\": \"lines\", \"name\": \"KNN_model\", \"x\": [\"accuracy\", \"FPR\", \"FNR\", \"auc\"], \"y\": [0.956809920889459, 0.0033813400125234814, 0.2753834915997078, 0.8606175841938845], \"type\": \"scatter\", \"uid\": \"a568d469-0ac4-4a86-89cf-e92548980907\"}, {\"mode\": \"lines+markers\", \"name\": \"Logistic Regression\", \"x\": [\"accuracy\", \"FPR\", \"FNR\", \"auc\"], \"y\": [0.9499679281590764, 0.015403882279273638, 0.252008765522279, 0.8662936760992237], \"type\": \"scatter\", \"uid\": \"d21cb60b-cd2b-4cd9-8023-cec354766707\"}, {\"marker\": {\"symbol\": \"x\"}, \"mode\": \"lines+markers\", \"name\": \"Random Forest\", \"x\": [\"accuracy\", \"FPR\", \"FNR\", \"auc\"], \"y\": [0.9635450074834295, 0.007764558547276142, 0.20379839298758218, 0.8942185242325709], \"type\": \"scatter\", \"uid\": \"5287489b-1257-4fc1-9449-c054b516ded9\"}, {\"mode\": \"lines\", \"name\": \"Ada Boost\", \"x\": [\"accuracy\", \"FPR\", \"FNR\", \"auc\"], \"y\": [0.9446226213384649, 0.016530995616781466, 0.28195763330898466, 0.8507556855371169], \"type\": \"scatter\", \"uid\": \"624d3f89-3529-4129-b04b-7269684d532d\"}, {\"mode\": \"lines+markers\", \"name\": \"GradientBoosting\", \"x\": [\"accuracy\", \"FPR\", \"FNR\", \"auc\"], \"y\": [0.9575582638443446, 0.012523481527864746, 0.21694667640613585, 0.8852649210329997], \"type\": \"scatter\", \"uid\": \"01857746-a532-4a36-ab8b-e693d0503fda\"}, {\"marker\": {\"symbol\": \"x\"}, \"mode\": \"lines+markers\", \"name\": \"ExtraTree Classifier\", \"x\": [\"accuracy\", \"FPR\", \"FNR\", \"auc\"], \"y\": [0.9612999786187727, 0.008140262993112084, 0.21694667640613585, 0.887456530300376], \"type\": \"scatter\", \"uid\": \"d8c9cbfb-d30e-4688-a197-14526d1e56c0\"}, {\"marker\": {\"symbol\": \"x\"}, \"mode\": \"lines+markers\", \"name\": \"Bagging\", \"x\": [\"accuracy\", \"FPR\", \"FNR\", \"auc\"], \"y\": [0.9632242890741929, 0.009643080776455855, 0.19503287070854639, 0.8976620242574989], \"type\": \"scatter\", \"uid\": \"cd6d204a-5ec1-412f-9657-d3be657c30df\"}, {\"marker\": {\"symbol\": \"x\"}, \"mode\": \"lines+markers\", \"name\": \"Neural Network\", \"x\": [\"accuracy\", \"FPR\", \"FNR\", \"auc\"], \"y\": [0.9560615779345735, 0.022041327489041952, 0.17165814463111762, 0.8976620242574989], \"type\": \"scatter\", \"uid\": \"7bd784fd-0aea-4e6c-b1a3-f793edfc8d22\"}], {\"title\": \"Result comparision for Features selected in Section 1\", \"yaxis\": {\"dtick\": 0.05, \"tick0\": 0}}, {\"showLink\": true, \"linkText\": \"Export to plot.ly\", \"plotlyServerURL\": \"https://plot.ly\"})});</script><script type=\"text/javascript\">window.addEventListener(\"resize\", function(){window._Plotly.Plots.resize(document.getElementById(\"bb776c7c-a97d-45b5-83d6-a792c545f343\"));});</script>"
      ],
      "text/vnd.plotly.v1+html": [
       "<div id=\"bb776c7c-a97d-45b5-83d6-a792c545f343\" style=\"height: 525px; width: 100%;\" class=\"plotly-graph-div\"></div><script type=\"text/javascript\">require([\"plotly\"], function(Plotly) { window.PLOTLYENV=window.PLOTLYENV || {};window.PLOTLYENV.BASE_URL=\"https://plot.ly\";Plotly.newPlot(\"bb776c7c-a97d-45b5-83d6-a792c545f343\", [{\"mode\": \"lines\", \"name\": \"KNN_model\", \"x\": [\"accuracy\", \"FPR\", \"FNR\", \"auc\"], \"y\": [0.956809920889459, 0.0033813400125234814, 0.2753834915997078, 0.8606175841938845], \"type\": \"scatter\", \"uid\": \"a568d469-0ac4-4a86-89cf-e92548980907\"}, {\"mode\": \"lines+markers\", \"name\": \"Logistic Regression\", \"x\": [\"accuracy\", \"FPR\", \"FNR\", \"auc\"], \"y\": [0.9499679281590764, 0.015403882279273638, 0.252008765522279, 0.8662936760992237], \"type\": \"scatter\", \"uid\": \"d21cb60b-cd2b-4cd9-8023-cec354766707\"}, {\"marker\": {\"symbol\": \"x\"}, \"mode\": \"lines+markers\", \"name\": \"Random Forest\", \"x\": [\"accuracy\", \"FPR\", \"FNR\", \"auc\"], \"y\": [0.9635450074834295, 0.007764558547276142, 0.20379839298758218, 0.8942185242325709], \"type\": \"scatter\", \"uid\": \"5287489b-1257-4fc1-9449-c054b516ded9\"}, {\"mode\": \"lines\", \"name\": \"Ada Boost\", \"x\": [\"accuracy\", \"FPR\", \"FNR\", \"auc\"], \"y\": [0.9446226213384649, 0.016530995616781466, 0.28195763330898466, 0.8507556855371169], \"type\": \"scatter\", \"uid\": \"624d3f89-3529-4129-b04b-7269684d532d\"}, {\"mode\": \"lines+markers\", \"name\": \"GradientBoosting\", \"x\": [\"accuracy\", \"FPR\", \"FNR\", \"auc\"], \"y\": [0.9575582638443446, 0.012523481527864746, 0.21694667640613585, 0.8852649210329997], \"type\": \"scatter\", \"uid\": \"01857746-a532-4a36-ab8b-e693d0503fda\"}, {\"marker\": {\"symbol\": \"x\"}, \"mode\": \"lines+markers\", \"name\": \"ExtraTree Classifier\", \"x\": [\"accuracy\", \"FPR\", \"FNR\", \"auc\"], \"y\": [0.9612999786187727, 0.008140262993112084, 0.21694667640613585, 0.887456530300376], \"type\": \"scatter\", \"uid\": \"d8c9cbfb-d30e-4688-a197-14526d1e56c0\"}, {\"marker\": {\"symbol\": \"x\"}, \"mode\": \"lines+markers\", \"name\": \"Bagging\", \"x\": [\"accuracy\", \"FPR\", \"FNR\", \"auc\"], \"y\": [0.9632242890741929, 0.009643080776455855, 0.19503287070854639, 0.8976620242574989], \"type\": \"scatter\", \"uid\": \"cd6d204a-5ec1-412f-9657-d3be657c30df\"}, {\"marker\": {\"symbol\": \"x\"}, \"mode\": \"lines+markers\", \"name\": \"Neural Network\", \"x\": [\"accuracy\", \"FPR\", \"FNR\", \"auc\"], \"y\": [0.9560615779345735, 0.022041327489041952, 0.17165814463111762, 0.8976620242574989], \"type\": \"scatter\", \"uid\": \"7bd784fd-0aea-4e6c-b1a3-f793edfc8d22\"}], {\"title\": \"Result comparision for Features selected in Section 1\", \"yaxis\": {\"dtick\": 0.05, \"tick0\": 0}}, {\"showLink\": true, \"linkText\": \"Export to plot.ly\", \"plotlyServerURL\": \"https://plot.ly\"})});</script><script type=\"text/javascript\">window.addEventListener(\"resize\", function(){window._Plotly.Plots.resize(document.getElementById(\"bb776c7c-a97d-45b5-83d6-a792c545f343\"));});</script>"
      ]
     },
     "metadata": {},
     "output_type": "display_data"
    }
   ],
   "source": [
    "trace0 = go.Scatter(x=table_80_50_test.iloc[0].index.values[[0,5,6,7]],\n",
    "                    y=table_80_50_test.iloc[0].values[[0,5,6,7]],\n",
    "                    mode = 'lines',\n",
    "                    name = 'KNN_model')\n",
    "\n",
    "trace1 = go.Scatter(x=table_80_50_test.iloc[1].index.values[[0,5,6,7]],\n",
    "                    y=table_80_50_test.iloc[1].values[[0,5,6,7]],\n",
    "                    mode = 'lines+markers',\n",
    "                    name = 'Logistic Regression')\n",
    "\n",
    "trace2 = go.Scatter(x=table_80_50_test.iloc[2].index.values[[0,5,6,7]],\n",
    "                    y=table_80_50_test.iloc[2].values[[0,5,6,7]],\n",
    "                    mode = 'lines+markers',marker=dict(symbol='x'),\n",
    "                    name = 'Random Forest')\n",
    "\n",
    "\n",
    "trace3 = go.Scatter(x=table_80_50_test.iloc[3].index.values[[0,5,6,7]],\n",
    "                    y=table_80_50_test.iloc[3].values[[0,5,6,7]],\n",
    "                    mode = 'lines',\n",
    "                    name = 'Ada Boost')\n",
    "\n",
    "trace4 = go.Scatter(x=table_80_50_test.iloc[4].index.values[[0,5,6,7]],\n",
    "                    y=table_80_50_test.iloc[4].values[[0,5,6,7]],\n",
    "                    mode = 'lines+markers',\n",
    "                    name = 'GradientBoosting')\n",
    "\n",
    "trace5 = go.Scatter(x=table_80_50_test.iloc[5].index.values[[0,5,6,7]],\n",
    "                    y=table_80_50_test.iloc[5].values[[0,5,6,7]],\n",
    "                    mode = 'lines+markers',marker=dict(symbol='x'),\n",
    "                    name = 'ExtraTree Classifier')\n",
    "\n",
    "trace6 = go.Scatter(x=table_80_50_test.iloc[6].index.values[[0,5,6,7]],\n",
    "                    y=table_80_50_test.iloc[6].values[[0,5,6,7]],\n",
    "                    mode = 'lines+markers',marker=dict(symbol='x'),\n",
    "                    name = 'Bagging')\n",
    "\n",
    "trace7 = go.Scatter(x=table_80_50_test.iloc[7].index.values[[0,5,6,7]],\n",
    "                    y=table_80_50_test.iloc[7].values[[0,5,6,7]],\n",
    "                    mode = 'lines+markers',marker=dict(symbol='x'),\n",
    "                    name = 'Neural Network')\n",
    "\n",
    "\n",
    "\n",
    "data = [trace0, trace1, trace2, trace3, trace4, trace5, trace6, trace7]\n",
    "layout = go.Layout(yaxis=dict(tick0=0,dtick=0.05),title='Result comparision for Features selected in Section 1')\n",
    "fig = go.Figure(data=data, layout=layout)\n",
    "\n",
    "iplot(fig, filename='Result')"
   ]
  },
  {
   "cell_type": "code",
   "execution_count": 16,
   "metadata": {},
   "outputs": [
    {
     "name": "stdout",
     "output_type": "stream",
     "text": [
      "Training Results\n"
     ]
    },
    {
     "data": {
      "text/html": [
       "<div>\n",
       "<style scoped>\n",
       "    .dataframe tbody tr th:only-of-type {\n",
       "        vertical-align: middle;\n",
       "    }\n",
       "\n",
       "    .dataframe tbody tr th {\n",
       "        vertical-align: top;\n",
       "    }\n",
       "\n",
       "    .dataframe thead th {\n",
       "        text-align: right;\n",
       "    }\n",
       "</style>\n",
       "<table border=\"1\" class=\"dataframe\">\n",
       "  <thead>\n",
       "    <tr style=\"text-align: right;\">\n",
       "      <th></th>\n",
       "      <th>accuracy</th>\n",
       "      <th>TP</th>\n",
       "      <th>TN</th>\n",
       "      <th>FP</th>\n",
       "      <th>FN</th>\n",
       "      <th>FPR</th>\n",
       "      <th>FNR</th>\n",
       "    </tr>\n",
       "    <tr>\n",
       "      <th>index</th>\n",
       "      <th></th>\n",
       "      <th></th>\n",
       "      <th></th>\n",
       "      <th></th>\n",
       "      <th></th>\n",
       "      <th></th>\n",
       "      <th></th>\n",
       "    </tr>\n",
       "  </thead>\n",
       "  <tbody>\n",
       "    <tr>\n",
       "      <th>KNeighborsClassifier</th>\n",
       "      <td>0.962397</td>\n",
       "      <td>4205.0</td>\n",
       "      <td>31805.0</td>\n",
       "      <td>87.0</td>\n",
       "      <td>1320.0</td>\n",
       "      <td>0.002728</td>\n",
       "      <td>0.238914</td>\n",
       "    </tr>\n",
       "    <tr>\n",
       "      <th>LogisticRegression</th>\n",
       "      <td>0.950263</td>\n",
       "      <td>4076.0</td>\n",
       "      <td>31480.0</td>\n",
       "      <td>412.0</td>\n",
       "      <td>1449.0</td>\n",
       "      <td>0.012919</td>\n",
       "      <td>0.262262</td>\n",
       "    </tr>\n",
       "    <tr>\n",
       "      <th>RandomForestClassifier</th>\n",
       "      <td>0.994815</td>\n",
       "      <td>5337.0</td>\n",
       "      <td>31886.0</td>\n",
       "      <td>6.0</td>\n",
       "      <td>188.0</td>\n",
       "      <td>0.000188</td>\n",
       "      <td>0.034027</td>\n",
       "    </tr>\n",
       "    <tr>\n",
       "      <th>AdaBoostClassifier</th>\n",
       "      <td>0.946281</td>\n",
       "      <td>3979.0</td>\n",
       "      <td>31428.0</td>\n",
       "      <td>464.0</td>\n",
       "      <td>1546.0</td>\n",
       "      <td>0.014549</td>\n",
       "      <td>0.279819</td>\n",
       "    </tr>\n",
       "    <tr>\n",
       "      <th>GradientBoostingClassifier</th>\n",
       "      <td>0.958522</td>\n",
       "      <td>4351.0</td>\n",
       "      <td>31514.0</td>\n",
       "      <td>378.0</td>\n",
       "      <td>1174.0</td>\n",
       "      <td>0.011853</td>\n",
       "      <td>0.212489</td>\n",
       "    </tr>\n",
       "    <tr>\n",
       "      <th>ExtraTreeClassifier</th>\n",
       "      <td>0.999973</td>\n",
       "      <td>5524.0</td>\n",
       "      <td>31892.0</td>\n",
       "      <td>0.0</td>\n",
       "      <td>1.0</td>\n",
       "      <td>0.000000</td>\n",
       "      <td>0.000181</td>\n",
       "    </tr>\n",
       "    <tr>\n",
       "      <th>BaggingClassifier</th>\n",
       "      <td>0.994147</td>\n",
       "      <td>5315.0</td>\n",
       "      <td>31883.0</td>\n",
       "      <td>9.0</td>\n",
       "      <td>210.0</td>\n",
       "      <td>0.000282</td>\n",
       "      <td>0.038009</td>\n",
       "    </tr>\n",
       "    <tr>\n",
       "      <th>Neural Network-1</th>\n",
       "      <td>0.996686</td>\n",
       "      <td>5421.0</td>\n",
       "      <td>31872.0</td>\n",
       "      <td>20.0</td>\n",
       "      <td>104.0</td>\n",
       "      <td>0.000627</td>\n",
       "      <td>0.018824</td>\n",
       "    </tr>\n",
       "  </tbody>\n",
       "</table>\n",
       "</div>"
      ],
      "text/plain": [
       "                            accuracy      TP       TN     FP      FN  \\\n",
       "index                                                                  \n",
       "KNeighborsClassifier        0.962397  4205.0  31805.0   87.0  1320.0   \n",
       "LogisticRegression          0.950263  4076.0  31480.0  412.0  1449.0   \n",
       "RandomForestClassifier      0.994815  5337.0  31886.0    6.0   188.0   \n",
       "AdaBoostClassifier          0.946281  3979.0  31428.0  464.0  1546.0   \n",
       "GradientBoostingClassifier  0.958522  4351.0  31514.0  378.0  1174.0   \n",
       "ExtraTreeClassifier         0.999973  5524.0  31892.0    0.0     1.0   \n",
       "BaggingClassifier           0.994147  5315.0  31883.0    9.0   210.0   \n",
       "Neural Network-1            0.996686  5421.0  31872.0   20.0   104.0   \n",
       "\n",
       "                                 FPR       FNR  \n",
       "index                                           \n",
       "KNeighborsClassifier        0.002728  0.238914  \n",
       "LogisticRegression          0.012919  0.262262  \n",
       "RandomForestClassifier      0.000188  0.034027  \n",
       "AdaBoostClassifier          0.014549  0.279819  \n",
       "GradientBoostingClassifier  0.011853  0.212489  \n",
       "ExtraTreeClassifier         0.000000  0.000181  \n",
       "BaggingClassifier           0.000282  0.038009  \n",
       "Neural Network-1            0.000627  0.018824  "
      ]
     },
     "metadata": {},
     "output_type": "display_data"
    },
    {
     "name": "stdout",
     "output_type": "stream",
     "text": [
      "Test Results\n"
     ]
    },
    {
     "data": {
      "text/html": [
       "<div>\n",
       "<style scoped>\n",
       "    .dataframe tbody tr th:only-of-type {\n",
       "        vertical-align: middle;\n",
       "    }\n",
       "\n",
       "    .dataframe tbody tr th {\n",
       "        vertical-align: top;\n",
       "    }\n",
       "\n",
       "    .dataframe thead th {\n",
       "        text-align: right;\n",
       "    }\n",
       "</style>\n",
       "<table border=\"1\" class=\"dataframe\">\n",
       "  <thead>\n",
       "    <tr style=\"text-align: right;\">\n",
       "      <th></th>\n",
       "      <th>accuracy</th>\n",
       "      <th>TP</th>\n",
       "      <th>TN</th>\n",
       "      <th>FP</th>\n",
       "      <th>FN</th>\n",
       "      <th>FPR</th>\n",
       "      <th>FNR</th>\n",
       "      <th>auc</th>\n",
       "      <th>MCC</th>\n",
       "    </tr>\n",
       "    <tr>\n",
       "      <th>index</th>\n",
       "      <th></th>\n",
       "      <th></th>\n",
       "      <th></th>\n",
       "      <th></th>\n",
       "      <th></th>\n",
       "      <th></th>\n",
       "      <th></th>\n",
       "      <th></th>\n",
       "      <th></th>\n",
       "    </tr>\n",
       "  </thead>\n",
       "  <tbody>\n",
       "    <tr>\n",
       "      <th>KNeighborsClassifier</th>\n",
       "      <td>0.956810</td>\n",
       "      <td>992.0</td>\n",
       "      <td>7958.0</td>\n",
       "      <td>27.0</td>\n",
       "      <td>377.0</td>\n",
       "      <td>0.003381</td>\n",
       "      <td>0.275383</td>\n",
       "      <td>0.860618</td>\n",
       "      <td>0.818231</td>\n",
       "    </tr>\n",
       "    <tr>\n",
       "      <th>LogisticRegression</th>\n",
       "      <td>0.949968</td>\n",
       "      <td>1024.0</td>\n",
       "      <td>7862.0</td>\n",
       "      <td>123.0</td>\n",
       "      <td>345.0</td>\n",
       "      <td>0.015404</td>\n",
       "      <td>0.252009</td>\n",
       "      <td>0.866294</td>\n",
       "      <td>0.789450</td>\n",
       "    </tr>\n",
       "    <tr>\n",
       "      <th>RandomForestClassifier</th>\n",
       "      <td>0.963545</td>\n",
       "      <td>1090.0</td>\n",
       "      <td>7923.0</td>\n",
       "      <td>62.0</td>\n",
       "      <td>279.0</td>\n",
       "      <td>0.007765</td>\n",
       "      <td>0.203798</td>\n",
       "      <td>0.894219</td>\n",
       "      <td>0.848047</td>\n",
       "    </tr>\n",
       "    <tr>\n",
       "      <th>AdaBoostClassifier</th>\n",
       "      <td>0.944623</td>\n",
       "      <td>983.0</td>\n",
       "      <td>7853.0</td>\n",
       "      <td>132.0</td>\n",
       "      <td>386.0</td>\n",
       "      <td>0.016531</td>\n",
       "      <td>0.281958</td>\n",
       "      <td>0.850756</td>\n",
       "      <td>0.765243</td>\n",
       "    </tr>\n",
       "    <tr>\n",
       "      <th>GradientBoostingClassifier</th>\n",
       "      <td>0.957558</td>\n",
       "      <td>1072.0</td>\n",
       "      <td>7885.0</td>\n",
       "      <td>100.0</td>\n",
       "      <td>297.0</td>\n",
       "      <td>0.012523</td>\n",
       "      <td>0.216947</td>\n",
       "      <td>0.885265</td>\n",
       "      <td>0.822688</td>\n",
       "    </tr>\n",
       "    <tr>\n",
       "      <th>ExtraTreeClassifier</th>\n",
       "      <td>0.961300</td>\n",
       "      <td>1072.0</td>\n",
       "      <td>7920.0</td>\n",
       "      <td>65.0</td>\n",
       "      <td>297.0</td>\n",
       "      <td>0.008140</td>\n",
       "      <td>0.216947</td>\n",
       "      <td>0.887457</td>\n",
       "      <td>0.838215</td>\n",
       "    </tr>\n",
       "    <tr>\n",
       "      <th>BaggingClassifier</th>\n",
       "      <td>0.963224</td>\n",
       "      <td>1102.0</td>\n",
       "      <td>7908.0</td>\n",
       "      <td>77.0</td>\n",
       "      <td>267.0</td>\n",
       "      <td>0.009643</td>\n",
       "      <td>0.195033</td>\n",
       "      <td>0.897662</td>\n",
       "      <td>0.846998</td>\n",
       "    </tr>\n",
       "    <tr>\n",
       "      <th>Neural Network-1</th>\n",
       "      <td>0.956062</td>\n",
       "      <td>1134.0</td>\n",
       "      <td>7809.0</td>\n",
       "      <td>176.0</td>\n",
       "      <td>235.0</td>\n",
       "      <td>0.022041</td>\n",
       "      <td>0.171658</td>\n",
       "      <td>0.897662</td>\n",
       "      <td>0.821229</td>\n",
       "    </tr>\n",
       "  </tbody>\n",
       "</table>\n",
       "</div>"
      ],
      "text/plain": [
       "                            accuracy      TP      TN     FP     FN       FPR  \\\n",
       "index                                                                          \n",
       "KNeighborsClassifier        0.956810   992.0  7958.0   27.0  377.0  0.003381   \n",
       "LogisticRegression          0.949968  1024.0  7862.0  123.0  345.0  0.015404   \n",
       "RandomForestClassifier      0.963545  1090.0  7923.0   62.0  279.0  0.007765   \n",
       "AdaBoostClassifier          0.944623   983.0  7853.0  132.0  386.0  0.016531   \n",
       "GradientBoostingClassifier  0.957558  1072.0  7885.0  100.0  297.0  0.012523   \n",
       "ExtraTreeClassifier         0.961300  1072.0  7920.0   65.0  297.0  0.008140   \n",
       "BaggingClassifier           0.963224  1102.0  7908.0   77.0  267.0  0.009643   \n",
       "Neural Network-1            0.956062  1134.0  7809.0  176.0  235.0  0.022041   \n",
       "\n",
       "                                 FNR       auc       MCC  \n",
       "index                                                     \n",
       "KNeighborsClassifier        0.275383  0.860618  0.818231  \n",
       "LogisticRegression          0.252009  0.866294  0.789450  \n",
       "RandomForestClassifier      0.203798  0.894219  0.848047  \n",
       "AdaBoostClassifier          0.281958  0.850756  0.765243  \n",
       "GradientBoostingClassifier  0.216947  0.885265  0.822688  \n",
       "ExtraTreeClassifier         0.216947  0.887457  0.838215  \n",
       "BaggingClassifier           0.195033  0.897662  0.846998  \n",
       "Neural Network-1            0.171658  0.897662  0.821229  "
      ]
     },
     "metadata": {},
     "output_type": "display_data"
    }
   ],
   "source": [
    "table_80_50_train['index']=ind_columns\n",
    "table_80_50_test['index']=ind_columns\n",
    "\n",
    "\n",
    "table_80_50_test.set_index(['index'],drop=True,inplace=True)\n",
    "table_80_50_train.set_index(['index'],drop=True,inplace=True)\n",
    "\n",
    "print(\"Training Results\")\n",
    "display(table_80_50_train)\n",
    "print(\"Test Results\")\n",
    "display(table_80_50_test)"
   ]
  },
  {
   "cell_type": "markdown",
   "metadata": {},
   "source": [
    "### <a id='1.B' style=\"text-decoration : none; color : #000000;\"> B. Average Feature Importances</a>"
   ]
  },
  {
   "cell_type": "code",
   "execution_count": 17,
   "metadata": {},
   "outputs": [
    {
     "data": {
      "application/vnd.plotly.v1+json": {
       "config": {
        "linkText": "Export to plot.ly",
        "plotlyServerURL": "https://plot.ly",
        "showLink": true
       },
       "data": [
        {
         "marker": {
          "color": "rgb(158,202,225)",
          "line": {
           "color": "rgb(8,48,107)",
           "width": 1.5
          }
         },
         "opacity": 0.6,
         "orientation": "h",
         "text": [
          0.2147,
          0.1628,
          0.0954,
          0.0896,
          0.0454,
          0.0354,
          0.0308,
          0.0222,
          0.0205,
          0.0189,
          0.0184,
          0.0175,
          0.0142,
          0.0132,
          0.0131,
          0.0126,
          0.0123,
          0.0121,
          0.0121,
          0.0111,
          0.011,
          0.0108,
          0.0102,
          0.0099,
          0.0087,
          0.0083,
          0.0079,
          0.0077,
          0.0076,
          0.0074,
          0.007,
          0.0067,
          0.0063,
          0.0055,
          0.005,
          0.004,
          0.0031,
          0.0008
         ],
         "textposition": "outside",
         "type": "bar",
         "uid": "346583d6-18af-4500-a1e2-d94fe17649a1",
         "x": [
          0.21471307857930866,
          0.16275015479357682,
          0.09541337586408771,
          0.08956467865062195,
          0.045400424185437445,
          0.03537040092791846,
          0.030783303576959728,
          0.02222506769897664,
          0.02052903591989992,
          0.01886407118973547,
          0.018436340698305693,
          0.017462364504954767,
          0.014173580231650355,
          0.013185978254583636,
          0.01306081419874696,
          0.012576603143866025,
          0.012314595654357992,
          0.012131607453818773,
          0.012086709728926427,
          0.011113633269033373,
          0.011009937173622968,
          0.010763861339413323,
          0.010178281162437233,
          0.0099224577223209,
          0.008675737065964622,
          0.00828832853529179,
          0.007925318694249525,
          0.007668398049133927,
          0.0075591937663837625,
          0.007402196460065912,
          0.007021707776624069,
          0.00670033425067772,
          0.006333570045433159,
          0.005544978791587878,
          0.004970113176871231,
          0.004010699162416527,
          0.003108355844235939,
          0.0007607124585026792
         ],
         "y": [
          "url_length",
          "url_extensions",
          "url_char_w",
          "url_char_.",
          "url_tlds",
          "url_char_z",
          "url_words_with_length_4",
          "url_extension_.com",
          "url_char_o",
          "url_char_b",
          "url_char_y",
          "url_char_r",
          "url_char_n",
          "url_char_e",
          "url_char_i",
          "url_char_a",
          "url_char_p",
          "url_char_m",
          "url_char_t",
          "url_char_h",
          "url_char_x",
          "url_char_f",
          "url_char_g",
          "url_char_l",
          "url_char_s",
          "url_char_j",
          "url_words_with_length_5",
          "url_extension_.net",
          "url_char_d",
          "url_char_u",
          "url_char_c",
          "url_char_k",
          "url_words_with_length_7",
          "url_words_with_length_6",
          "url_char_-",
          "url_char_v",
          "url_words_with_length_8",
          "url_word_count_info"
         ]
        }
       ],
       "layout": {
        "autosize": false,
        "height": 1000,
        "width": 1000,
        "xaxis": {
         "tickfont": {
          "color": "black",
          "size": 12
         },
         "title": "Feature Importances"
        },
        "yaxis": {
         "automargin": true
        }
       }
      },
      "text/html": [
       "<div id=\"5a01140c-71db-4b50-8ea4-40976f0891a4\" style=\"height: 1000px; width: 1000px;\" class=\"plotly-graph-div\"></div><script type=\"text/javascript\">require([\"plotly\"], function(Plotly) { window.PLOTLYENV=window.PLOTLYENV || {};window.PLOTLYENV.BASE_URL=\"https://plot.ly\";Plotly.newPlot(\"5a01140c-71db-4b50-8ea4-40976f0891a4\", [{\"marker\": {\"color\": \"rgb(158,202,225)\", \"line\": {\"color\": \"rgb(8,48,107)\", \"width\": 1.5}}, \"opacity\": 0.6, \"orientation\": \"h\", \"text\": [0.2147, 0.1628, 0.0954, 0.0896, 0.0454, 0.0354, 0.0308, 0.0222, 0.0205, 0.0189, 0.0184, 0.0175, 0.0142, 0.0132, 0.0131, 0.0126, 0.0123, 0.0121, 0.0121, 0.0111, 0.011, 0.0108, 0.0102, 0.0099, 0.0087, 0.0083, 0.0079, 0.0077, 0.0076, 0.0074, 0.007, 0.0067, 0.0063, 0.0055, 0.005, 0.004, 0.0031, 0.0008], \"textposition\": \"outside\", \"x\": [0.21471307857930866, 0.16275015479357682, 0.09541337586408771, 0.08956467865062195, 0.045400424185437445, 0.03537040092791846, 0.030783303576959728, 0.02222506769897664, 0.02052903591989992, 0.01886407118973547, 0.018436340698305693, 0.017462364504954767, 0.014173580231650355, 0.013185978254583636, 0.01306081419874696, 0.012576603143866025, 0.012314595654357992, 0.012131607453818773, 0.012086709728926427, 0.011113633269033373, 0.011009937173622968, 0.010763861339413323, 0.010178281162437233, 0.0099224577223209, 0.008675737065964622, 0.00828832853529179, 0.007925318694249525, 0.007668398049133927, 0.0075591937663837625, 0.007402196460065912, 0.007021707776624069, 0.00670033425067772, 0.006333570045433159, 0.005544978791587878, 0.004970113176871231, 0.004010699162416527, 0.003108355844235939, 0.0007607124585026792], \"y\": [\"url_length\", \"url_extensions\", \"url_char_w\", \"url_char_.\", \"url_tlds\", \"url_char_z\", \"url_words_with_length_4\", \"url_extension_.com\", \"url_char_o\", \"url_char_b\", \"url_char_y\", \"url_char_r\", \"url_char_n\", \"url_char_e\", \"url_char_i\", \"url_char_a\", \"url_char_p\", \"url_char_m\", \"url_char_t\", \"url_char_h\", \"url_char_x\", \"url_char_f\", \"url_char_g\", \"url_char_l\", \"url_char_s\", \"url_char_j\", \"url_words_with_length_5\", \"url_extension_.net\", \"url_char_d\", \"url_char_u\", \"url_char_c\", \"url_char_k\", \"url_words_with_length_7\", \"url_words_with_length_6\", \"url_char_-\", \"url_char_v\", \"url_words_with_length_8\", \"url_word_count_info\"], \"type\": \"bar\", \"uid\": \"346583d6-18af-4500-a1e2-d94fe17649a1\"}], {\"autosize\": false, \"height\": 1000, \"width\": 1000, \"xaxis\": {\"tickfont\": {\"color\": \"black\", \"size\": 12}, \"title\": \"Feature Importances\"}, \"yaxis\": {\"automargin\": true}}, {\"showLink\": true, \"linkText\": \"Export to plot.ly\", \"plotlyServerURL\": \"https://plot.ly\"})});</script>"
      ],
      "text/vnd.plotly.v1+html": [
       "<div id=\"5a01140c-71db-4b50-8ea4-40976f0891a4\" style=\"height: 1000px; width: 1000px;\" class=\"plotly-graph-div\"></div><script type=\"text/javascript\">require([\"plotly\"], function(Plotly) { window.PLOTLYENV=window.PLOTLYENV || {};window.PLOTLYENV.BASE_URL=\"https://plot.ly\";Plotly.newPlot(\"5a01140c-71db-4b50-8ea4-40976f0891a4\", [{\"marker\": {\"color\": \"rgb(158,202,225)\", \"line\": {\"color\": \"rgb(8,48,107)\", \"width\": 1.5}}, \"opacity\": 0.6, \"orientation\": \"h\", \"text\": [0.2147, 0.1628, 0.0954, 0.0896, 0.0454, 0.0354, 0.0308, 0.0222, 0.0205, 0.0189, 0.0184, 0.0175, 0.0142, 0.0132, 0.0131, 0.0126, 0.0123, 0.0121, 0.0121, 0.0111, 0.011, 0.0108, 0.0102, 0.0099, 0.0087, 0.0083, 0.0079, 0.0077, 0.0076, 0.0074, 0.007, 0.0067, 0.0063, 0.0055, 0.005, 0.004, 0.0031, 0.0008], \"textposition\": \"outside\", \"x\": [0.21471307857930866, 0.16275015479357682, 0.09541337586408771, 0.08956467865062195, 0.045400424185437445, 0.03537040092791846, 0.030783303576959728, 0.02222506769897664, 0.02052903591989992, 0.01886407118973547, 0.018436340698305693, 0.017462364504954767, 0.014173580231650355, 0.013185978254583636, 0.01306081419874696, 0.012576603143866025, 0.012314595654357992, 0.012131607453818773, 0.012086709728926427, 0.011113633269033373, 0.011009937173622968, 0.010763861339413323, 0.010178281162437233, 0.0099224577223209, 0.008675737065964622, 0.00828832853529179, 0.007925318694249525, 0.007668398049133927, 0.0075591937663837625, 0.007402196460065912, 0.007021707776624069, 0.00670033425067772, 0.006333570045433159, 0.005544978791587878, 0.004970113176871231, 0.004010699162416527, 0.003108355844235939, 0.0007607124585026792], \"y\": [\"url_length\", \"url_extensions\", \"url_char_w\", \"url_char_.\", \"url_tlds\", \"url_char_z\", \"url_words_with_length_4\", \"url_extension_.com\", \"url_char_o\", \"url_char_b\", \"url_char_y\", \"url_char_r\", \"url_char_n\", \"url_char_e\", \"url_char_i\", \"url_char_a\", \"url_char_p\", \"url_char_m\", \"url_char_t\", \"url_char_h\", \"url_char_x\", \"url_char_f\", \"url_char_g\", \"url_char_l\", \"url_char_s\", \"url_char_j\", \"url_words_with_length_5\", \"url_extension_.net\", \"url_char_d\", \"url_char_u\", \"url_char_c\", \"url_char_k\", \"url_words_with_length_7\", \"url_words_with_length_6\", \"url_char_-\", \"url_char_v\", \"url_words_with_length_8\", \"url_word_count_info\"], \"type\": \"bar\", \"uid\": \"346583d6-18af-4500-a1e2-d94fe17649a1\"}], {\"autosize\": false, \"height\": 1000, \"width\": 1000, \"xaxis\": {\"tickfont\": {\"color\": \"black\", \"size\": 12}, \"title\": \"Feature Importances\"}, \"yaxis\": {\"automargin\": true}}, {\"showLink\": true, \"linkText\": \"Export to plot.ly\", \"plotlyServerURL\": \"https://plot.ly\"})});</script>"
      ]
     },
     "metadata": {},
     "output_type": "display_data"
    }
   ],
   "source": [
    "feat_impt_plot(np.average(feat_imp,axis=0),columns)"
   ]
  },
  {
   "cell_type": "markdown",
   "metadata": {},
   "source": [
    "### <a id='2' style=\"text-decoration : none; color : #000000;\"> 2. OverSampling </a>"
   ]
  },
  {
   "cell_type": "code",
   "execution_count": 18,
   "metadata": {},
   "outputs": [
    {
     "name": "stderr",
     "output_type": "stream",
     "text": [
      "/nethomes/darshan/anaconda3/lib/python3.6/site-packages/sklearn/utils/deprecation.py:77: DeprecationWarning:\n",
      "\n",
      "Function _ratio_float is deprecated; Use a float for 'ratio' is deprecated from version 0.2. The support will be removed in 0.4. Use a dict, str, or a callable instead.\n",
      "\n"
     ]
    }
   ],
   "source": [
    "sm = SMOTE(random_state=12, ratio = 1.0)\n",
    "X_train, Y_train = sm.fit_sample(scaled_X_train,train_Y)"
   ]
  },
  {
   "cell_type": "code",
   "execution_count": 19,
   "metadata": {
    "collapsed": true
   },
   "outputs": [],
   "source": [
    "## Table to store training and test measures so we can compare later\n",
    "table_80_80_train=pd.DataFrame(columns=['accuracy','TP','TN','FP','FN','FPR','FNR'])\n",
    "table_80_80_test=pd.DataFrame(columns=['accuracy','TP','TN','FP','FN','FPR','FNR','auc','mcc'])"
   ]
  },
  {
   "cell_type": "code",
   "execution_count": 20,
   "metadata": {
    "scrolled": false
   },
   "outputs": [
    {
     "name": "stdout",
     "output_type": "stream",
     "text": [
      "\u001b[1mK-Nearest Neighbors\u001b[0m\n",
      "Accuracy of the model for training data is: 0.976310673523\n",
      "Confusion Matrix for training data is:\n"
     ]
    },
    {
     "data": {
      "text/plain": [
       "Predicted  False   True  __all__\n",
       "Actual                          \n",
       "False      30406   1486    31892\n",
       "True          25  31867    31892\n",
       "__all__    30431  33353    63784"
      ]
     },
     "metadata": {},
     "output_type": "display_data"
    },
    {
     "name": "stdout",
     "output_type": "stream",
     "text": [
      "Accuracy of the model for test data is: 0.918751336327\n",
      "Confusion Matrix for test data is:\n"
     ]
    },
    {
     "data": {
      "text/plain": [
       "Predicted  False  True  __all__\n",
       "Actual                         \n",
       "False       7412   573     7985\n",
       "True         187  1182     1369\n",
       "__all__     7599  1755     9354"
      ]
     },
     "metadata": {},
     "output_type": "display_data"
    },
    {
     "name": "stdout",
     "output_type": "stream",
     "text": [
      "\n",
      "\n",
      "\u001b[1mLogistic Regression\u001b[0m\n",
      "Accuracy of the model for training data is: 0.893766461809\n",
      "Confusion Matrix for training data is:\n"
     ]
    },
    {
     "data": {
      "text/plain": [
       "Predicted  False   True  __all__\n",
       "Actual                          \n",
       "False      29539   2353    31892\n",
       "True        4423  27469    31892\n",
       "__all__    33962  29822    63784"
      ]
     },
     "metadata": {},
     "output_type": "display_data"
    },
    {
     "name": "stdout",
     "output_type": "stream",
     "text": [
      "Accuracy of the model for test data is: 0.917254650417\n",
      "Confusion Matrix for test data is:\n"
     ]
    },
    {
     "data": {
      "text/plain": [
       "Predicted  False  True  __all__\n",
       "Actual                         \n",
       "False       7382   603     7985\n",
       "True         171  1198     1369\n",
       "__all__     7553  1801     9354"
      ]
     },
     "metadata": {},
     "output_type": "display_data"
    },
    {
     "name": "stdout",
     "output_type": "stream",
     "text": [
      "\n",
      "\n",
      "\u001b[1mRandomForest Classifier\u001b[0m\n",
      "Accuracy of the model for training data is: 0.997899159664\n",
      "Confusion Matrix for training data is:\n"
     ]
    },
    {
     "data": {
      "text/plain": [
       "Predicted  False   True  __all__\n",
       "Actual                          \n",
       "False      31887      5    31892\n",
       "True         129  31763    31892\n",
       "__all__    32016  31768    63784"
      ]
     },
     "metadata": {},
     "output_type": "display_data"
    },
    {
     "name": "stdout",
     "output_type": "stream",
     "text": [
      "Accuracy of the model for test data is: 0.961941415437\n",
      "Confusion Matrix for test data is:\n"
     ]
    },
    {
     "data": {
      "text/plain": [
       "Predicted  False  True  __all__\n",
       "Actual                         \n",
       "False       7887    98     7985\n",
       "True         258  1111     1369\n",
       "__all__     8145  1209     9354"
      ]
     },
     "metadata": {},
     "output_type": "display_data"
    },
    {
     "data": {
      "application/vnd.plotly.v1+json": {
       "config": {
        "linkText": "Export to plot.ly",
        "plotlyServerURL": "https://plot.ly",
        "showLink": true
       },
       "data": [
        {
         "marker": {
          "color": "rgb(158,202,225)",
          "line": {
           "color": "rgb(8,48,107)",
           "width": 1.5
          }
         },
         "opacity": 0.6,
         "orientation": "h",
         "text": [
          0.2266,
          0.1694,
          0.0599,
          0.0547,
          0.0384,
          0.0353,
          0.0335,
          0.0317,
          0.0306,
          0.0257,
          0.0256,
          0.0248,
          0.0172,
          0.0171,
          0.0161,
          0.0158,
          0.0153,
          0.0146,
          0.0142,
          0.0141,
          0.0134,
          0.0117,
          0.0107,
          0.0102,
          0.0098,
          0.0092,
          0.0081,
          0.0077,
          0.0061,
          0.0059,
          0.0059,
          0.0048,
          0.0046,
          0.0037,
          0.0027,
          0.0021,
          0.0019,
          0.0007
         ],
         "textposition": "outside",
         "type": "bar",
         "uid": "a2f83d5f-817f-4e5a-b1d4-0b60e7591fe1",
         "x": [
          0.22662135942940193,
          0.16944558170235163,
          0.05988652018822155,
          0.0546844728960383,
          0.03838982530618042,
          0.035257164546526075,
          0.03350029724825683,
          0.03171886903479203,
          0.030577652961651325,
          0.025725527251172036,
          0.02561316323938207,
          0.024757839725787135,
          0.017242387838239427,
          0.017102338274031098,
          0.016149418743747267,
          0.01582728015023532,
          0.01530584699791274,
          0.014649817181909733,
          0.014220482611036363,
          0.01414164714354663,
          0.013433427315856566,
          0.011676797346814332,
          0.010712443383181981,
          0.010244344868716278,
          0.009816661683314246,
          0.00919480248050768,
          0.008125664248814475,
          0.0076575630601042445,
          0.006120652893525428,
          0.005864767006278503,
          0.005863988896630335,
          0.0047916535868921225,
          0.0045741678349300215,
          0.0036950793821416187,
          0.0027214024552719147,
          0.0021248614066852354,
          0.0018963310414681846,
          0.0006678986384469134
         ],
         "y": [
          "url_extensions",
          "url_length",
          "url_tlds",
          "url_char_.",
          "url_char_i",
          "url_char_l",
          "url_char_w",
          "url_char_e",
          "url_char_s",
          "url_char_o",
          "url_words_with_length_4",
          "url_char_b",
          "url_char_m",
          "url_char_z",
          "url_char_u",
          "url_words_with_length_7",
          "url_char_a",
          "url_words_with_length_5",
          "url_extension_.com",
          "url_char_r",
          "url_char_t",
          "url_char_d",
          "url_char_n",
          "url_char_c",
          "url_char_y",
          "url_char_f",
          "url_char_g",
          "url_char_p",
          "url_char_k",
          "url_char_h",
          "url_words_with_length_6",
          "url_char_x",
          "url_char_-",
          "url_char_v",
          "url_char_j",
          "url_extension_.net",
          "url_words_with_length_8",
          "url_word_count_info"
         ]
        }
       ],
       "layout": {
        "autosize": false,
        "height": 1000,
        "width": 1000,
        "xaxis": {
         "tickfont": {
          "color": "black",
          "size": 12
         },
         "title": "Feature Importances"
        },
        "yaxis": {
         "automargin": true
        }
       }
      },
      "text/html": [
       "<div id=\"ad2e238f-e3f9-440d-bca6-c7d547032274\" style=\"height: 1000px; width: 1000px;\" class=\"plotly-graph-div\"></div><script type=\"text/javascript\">require([\"plotly\"], function(Plotly) { window.PLOTLYENV=window.PLOTLYENV || {};window.PLOTLYENV.BASE_URL=\"https://plot.ly\";Plotly.newPlot(\"ad2e238f-e3f9-440d-bca6-c7d547032274\", [{\"marker\": {\"color\": \"rgb(158,202,225)\", \"line\": {\"color\": \"rgb(8,48,107)\", \"width\": 1.5}}, \"opacity\": 0.6, \"orientation\": \"h\", \"text\": [0.2266, 0.1694, 0.0599, 0.0547, 0.0384, 0.0353, 0.0335, 0.0317, 0.0306, 0.0257, 0.0256, 0.0248, 0.0172, 0.0171, 0.0161, 0.0158, 0.0153, 0.0146, 0.0142, 0.0141, 0.0134, 0.0117, 0.0107, 0.0102, 0.0098, 0.0092, 0.0081, 0.0077, 0.0061, 0.0059, 0.0059, 0.0048, 0.0046, 0.0037, 0.0027, 0.0021, 0.0019, 0.0007], \"textposition\": \"outside\", \"x\": [0.22662135942940193, 0.16944558170235163, 0.05988652018822155, 0.0546844728960383, 0.03838982530618042, 0.035257164546526075, 0.03350029724825683, 0.03171886903479203, 0.030577652961651325, 0.025725527251172036, 0.02561316323938207, 0.024757839725787135, 0.017242387838239427, 0.017102338274031098, 0.016149418743747267, 0.01582728015023532, 0.01530584699791274, 0.014649817181909733, 0.014220482611036363, 0.01414164714354663, 0.013433427315856566, 0.011676797346814332, 0.010712443383181981, 0.010244344868716278, 0.009816661683314246, 0.00919480248050768, 0.008125664248814475, 0.0076575630601042445, 0.006120652893525428, 0.005864767006278503, 0.005863988896630335, 0.0047916535868921225, 0.0045741678349300215, 0.0036950793821416187, 0.0027214024552719147, 0.0021248614066852354, 0.0018963310414681846, 0.0006678986384469134], \"y\": [\"url_extensions\", \"url_length\", \"url_tlds\", \"url_char_.\", \"url_char_i\", \"url_char_l\", \"url_char_w\", \"url_char_e\", \"url_char_s\", \"url_char_o\", \"url_words_with_length_4\", \"url_char_b\", \"url_char_m\", \"url_char_z\", \"url_char_u\", \"url_words_with_length_7\", \"url_char_a\", \"url_words_with_length_5\", \"url_extension_.com\", \"url_char_r\", \"url_char_t\", \"url_char_d\", \"url_char_n\", \"url_char_c\", \"url_char_y\", \"url_char_f\", \"url_char_g\", \"url_char_p\", \"url_char_k\", \"url_char_h\", \"url_words_with_length_6\", \"url_char_x\", \"url_char_-\", \"url_char_v\", \"url_char_j\", \"url_extension_.net\", \"url_words_with_length_8\", \"url_word_count_info\"], \"type\": \"bar\", \"uid\": \"a2f83d5f-817f-4e5a-b1d4-0b60e7591fe1\"}], {\"autosize\": false, \"height\": 1000, \"width\": 1000, \"xaxis\": {\"tickfont\": {\"color\": \"black\", \"size\": 12}, \"title\": \"Feature Importances\"}, \"yaxis\": {\"automargin\": true}}, {\"showLink\": true, \"linkText\": \"Export to plot.ly\", \"plotlyServerURL\": \"https://plot.ly\"})});</script>"
      ],
      "text/vnd.plotly.v1+html": [
       "<div id=\"ad2e238f-e3f9-440d-bca6-c7d547032274\" style=\"height: 1000px; width: 1000px;\" class=\"plotly-graph-div\"></div><script type=\"text/javascript\">require([\"plotly\"], function(Plotly) { window.PLOTLYENV=window.PLOTLYENV || {};window.PLOTLYENV.BASE_URL=\"https://plot.ly\";Plotly.newPlot(\"ad2e238f-e3f9-440d-bca6-c7d547032274\", [{\"marker\": {\"color\": \"rgb(158,202,225)\", \"line\": {\"color\": \"rgb(8,48,107)\", \"width\": 1.5}}, \"opacity\": 0.6, \"orientation\": \"h\", \"text\": [0.2266, 0.1694, 0.0599, 0.0547, 0.0384, 0.0353, 0.0335, 0.0317, 0.0306, 0.0257, 0.0256, 0.0248, 0.0172, 0.0171, 0.0161, 0.0158, 0.0153, 0.0146, 0.0142, 0.0141, 0.0134, 0.0117, 0.0107, 0.0102, 0.0098, 0.0092, 0.0081, 0.0077, 0.0061, 0.0059, 0.0059, 0.0048, 0.0046, 0.0037, 0.0027, 0.0021, 0.0019, 0.0007], \"textposition\": \"outside\", \"x\": [0.22662135942940193, 0.16944558170235163, 0.05988652018822155, 0.0546844728960383, 0.03838982530618042, 0.035257164546526075, 0.03350029724825683, 0.03171886903479203, 0.030577652961651325, 0.025725527251172036, 0.02561316323938207, 0.024757839725787135, 0.017242387838239427, 0.017102338274031098, 0.016149418743747267, 0.01582728015023532, 0.01530584699791274, 0.014649817181909733, 0.014220482611036363, 0.01414164714354663, 0.013433427315856566, 0.011676797346814332, 0.010712443383181981, 0.010244344868716278, 0.009816661683314246, 0.00919480248050768, 0.008125664248814475, 0.0076575630601042445, 0.006120652893525428, 0.005864767006278503, 0.005863988896630335, 0.0047916535868921225, 0.0045741678349300215, 0.0036950793821416187, 0.0027214024552719147, 0.0021248614066852354, 0.0018963310414681846, 0.0006678986384469134], \"y\": [\"url_extensions\", \"url_length\", \"url_tlds\", \"url_char_.\", \"url_char_i\", \"url_char_l\", \"url_char_w\", \"url_char_e\", \"url_char_s\", \"url_char_o\", \"url_words_with_length_4\", \"url_char_b\", \"url_char_m\", \"url_char_z\", \"url_char_u\", \"url_words_with_length_7\", \"url_char_a\", \"url_words_with_length_5\", \"url_extension_.com\", \"url_char_r\", \"url_char_t\", \"url_char_d\", \"url_char_n\", \"url_char_c\", \"url_char_y\", \"url_char_f\", \"url_char_g\", \"url_char_p\", \"url_char_k\", \"url_char_h\", \"url_words_with_length_6\", \"url_char_x\", \"url_char_-\", \"url_char_v\", \"url_char_j\", \"url_extension_.net\", \"url_words_with_length_8\", \"url_word_count_info\"], \"type\": \"bar\", \"uid\": \"a2f83d5f-817f-4e5a-b1d4-0b60e7591fe1\"}], {\"autosize\": false, \"height\": 1000, \"width\": 1000, \"xaxis\": {\"tickfont\": {\"color\": \"black\", \"size\": 12}, \"title\": \"Feature Importances\"}, \"yaxis\": {\"automargin\": true}}, {\"showLink\": true, \"linkText\": \"Export to plot.ly\", \"plotlyServerURL\": \"https://plot.ly\"})});</script>"
      ]
     },
     "metadata": {},
     "output_type": "display_data"
    },
    {
     "name": "stdout",
     "output_type": "stream",
     "text": [
      "\n",
      "\n",
      "\u001b[1mAdaoost Classifier\u001b[0m\n",
      "Accuracy of the model for training data is: 0.936488774614\n",
      "Confusion Matrix for training data is:\n"
     ]
    },
    {
     "data": {
      "text/plain": [
       "Predicted  False   True  __all__\n",
       "Actual                          \n",
       "False      30318   1574    31892\n",
       "True        2477  29415    31892\n",
       "__all__    32795  30989    63784"
      ]
     },
     "metadata": {},
     "output_type": "display_data"
    },
    {
     "name": "stdout",
     "output_type": "stream",
     "text": [
      "Accuracy of the model for test data is: 0.92997648065\n",
      "Confusion Matrix for test data is:\n"
     ]
    },
    {
     "data": {
      "text/plain": [
       "Predicted  False  True  __all__\n",
       "Actual                         \n",
       "False       7569   416     7985\n",
       "True         239  1130     1369\n",
       "__all__     7808  1546     9354"
      ]
     },
     "metadata": {},
     "output_type": "display_data"
    },
    {
     "data": {
      "application/vnd.plotly.v1+json": {
       "config": {
        "linkText": "Export to plot.ly",
        "plotlyServerURL": "https://plot.ly",
        "showLink": true
       },
       "data": [
        {
         "marker": {
          "color": "rgb(158,202,225)",
          "line": {
           "color": "rgb(8,48,107)",
           "width": 1.5
          }
         },
         "opacity": 0.6,
         "orientation": "h",
         "text": [
          0.14,
          0.1,
          0.1,
          0.08,
          0.08,
          0.08,
          0.06,
          0.06,
          0.04,
          0.04,
          0.04,
          0.02,
          0.02,
          0.02,
          0.02,
          0.02,
          0.02,
          0.02,
          0.02,
          0.02,
          0,
          0,
          0,
          0,
          0,
          0,
          0,
          0,
          0,
          0,
          0,
          0,
          0,
          0,
          0,
          0,
          0,
          0
         ],
         "textposition": "outside",
         "type": "bar",
         "uid": "63088501-c014-47ba-a157-5c60f8b6c7ef",
         "x": [
          0.14,
          0.1,
          0.1,
          0.08,
          0.08,
          0.08,
          0.06,
          0.06,
          0.04,
          0.04,
          0.04,
          0.02,
          0.02,
          0.02,
          0.02,
          0.02,
          0.02,
          0.02,
          0.02,
          0.02,
          0,
          0,
          0,
          0,
          0,
          0,
          0,
          0,
          0,
          0,
          0,
          0,
          0,
          0,
          0,
          0,
          0,
          0
         ],
         "y": [
          "url_length",
          "url_char_a",
          "url_char_t",
          "url_char_s",
          "url_char_u",
          "url_char_r",
          "url_char_w",
          "url_words_with_length_4",
          "url_char_i",
          "url_extensions",
          "url_char_l",
          "url_tlds",
          "url_char_o",
          "url_char_z",
          "url_extension_.com",
          "url_words_with_length_5",
          "url_char_n",
          "url_char_g",
          "url_char_m",
          "url_extension_.net",
          "url_word_count_info",
          "url_words_with_length_6",
          "url_words_with_length_7",
          "url_char_y",
          "url_char_-",
          "url_char_x",
          "url_char_v",
          "url_char_.",
          "url_char_p",
          "url_char_k",
          "url_char_j",
          "url_char_h",
          "url_char_f",
          "url_char_e",
          "url_char_d",
          "url_char_c",
          "url_char_b",
          "url_words_with_length_8"
         ]
        }
       ],
       "layout": {
        "autosize": false,
        "height": 1000,
        "width": 1000,
        "xaxis": {
         "tickfont": {
          "color": "black",
          "size": 12
         },
         "title": "Feature Importances"
        },
        "yaxis": {
         "automargin": true
        }
       }
      },
      "text/html": [
       "<div id=\"47a6d86e-4e96-4fa5-8290-5c712842acd8\" style=\"height: 1000px; width: 1000px;\" class=\"plotly-graph-div\"></div><script type=\"text/javascript\">require([\"plotly\"], function(Plotly) { window.PLOTLYENV=window.PLOTLYENV || {};window.PLOTLYENV.BASE_URL=\"https://plot.ly\";Plotly.newPlot(\"47a6d86e-4e96-4fa5-8290-5c712842acd8\", [{\"marker\": {\"color\": \"rgb(158,202,225)\", \"line\": {\"color\": \"rgb(8,48,107)\", \"width\": 1.5}}, \"opacity\": 0.6, \"orientation\": \"h\", \"text\": [0.14, 0.1, 0.1, 0.08, 0.08, 0.08, 0.06, 0.06, 0.04, 0.04, 0.04, 0.02, 0.02, 0.02, 0.02, 0.02, 0.02, 0.02, 0.02, 0.02, 0.0, 0.0, 0.0, 0.0, 0.0, 0.0, 0.0, 0.0, 0.0, 0.0, 0.0, 0.0, 0.0, 0.0, 0.0, 0.0, 0.0, 0.0], \"textposition\": \"outside\", \"x\": [0.14, 0.1, 0.1, 0.08, 0.08, 0.08, 0.06, 0.06, 0.04, 0.04, 0.04, 0.02, 0.02, 0.02, 0.02, 0.02, 0.02, 0.02, 0.02, 0.02, 0.0, 0.0, 0.0, 0.0, 0.0, 0.0, 0.0, 0.0, 0.0, 0.0, 0.0, 0.0, 0.0, 0.0, 0.0, 0.0, 0.0, 0.0], \"y\": [\"url_length\", \"url_char_a\", \"url_char_t\", \"url_char_s\", \"url_char_u\", \"url_char_r\", \"url_char_w\", \"url_words_with_length_4\", \"url_char_i\", \"url_extensions\", \"url_char_l\", \"url_tlds\", \"url_char_o\", \"url_char_z\", \"url_extension_.com\", \"url_words_with_length_5\", \"url_char_n\", \"url_char_g\", \"url_char_m\", \"url_extension_.net\", \"url_word_count_info\", \"url_words_with_length_6\", \"url_words_with_length_7\", \"url_char_y\", \"url_char_-\", \"url_char_x\", \"url_char_v\", \"url_char_.\", \"url_char_p\", \"url_char_k\", \"url_char_j\", \"url_char_h\", \"url_char_f\", \"url_char_e\", \"url_char_d\", \"url_char_c\", \"url_char_b\", \"url_words_with_length_8\"], \"type\": \"bar\", \"uid\": \"63088501-c014-47ba-a157-5c60f8b6c7ef\"}], {\"autosize\": false, \"height\": 1000, \"width\": 1000, \"xaxis\": {\"tickfont\": {\"color\": \"black\", \"size\": 12}, \"title\": \"Feature Importances\"}, \"yaxis\": {\"automargin\": true}}, {\"showLink\": true, \"linkText\": \"Export to plot.ly\", \"plotlyServerURL\": \"https://plot.ly\"})});</script>"
      ],
      "text/vnd.plotly.v1+html": [
       "<div id=\"47a6d86e-4e96-4fa5-8290-5c712842acd8\" style=\"height: 1000px; width: 1000px;\" class=\"plotly-graph-div\"></div><script type=\"text/javascript\">require([\"plotly\"], function(Plotly) { window.PLOTLYENV=window.PLOTLYENV || {};window.PLOTLYENV.BASE_URL=\"https://plot.ly\";Plotly.newPlot(\"47a6d86e-4e96-4fa5-8290-5c712842acd8\", [{\"marker\": {\"color\": \"rgb(158,202,225)\", \"line\": {\"color\": \"rgb(8,48,107)\", \"width\": 1.5}}, \"opacity\": 0.6, \"orientation\": \"h\", \"text\": [0.14, 0.1, 0.1, 0.08, 0.08, 0.08, 0.06, 0.06, 0.04, 0.04, 0.04, 0.02, 0.02, 0.02, 0.02, 0.02, 0.02, 0.02, 0.02, 0.02, 0.0, 0.0, 0.0, 0.0, 0.0, 0.0, 0.0, 0.0, 0.0, 0.0, 0.0, 0.0, 0.0, 0.0, 0.0, 0.0, 0.0, 0.0], \"textposition\": \"outside\", \"x\": [0.14, 0.1, 0.1, 0.08, 0.08, 0.08, 0.06, 0.06, 0.04, 0.04, 0.04, 0.02, 0.02, 0.02, 0.02, 0.02, 0.02, 0.02, 0.02, 0.02, 0.0, 0.0, 0.0, 0.0, 0.0, 0.0, 0.0, 0.0, 0.0, 0.0, 0.0, 0.0, 0.0, 0.0, 0.0, 0.0, 0.0, 0.0], \"y\": [\"url_length\", \"url_char_a\", \"url_char_t\", \"url_char_s\", \"url_char_u\", \"url_char_r\", \"url_char_w\", \"url_words_with_length_4\", \"url_char_i\", \"url_extensions\", \"url_char_l\", \"url_tlds\", \"url_char_o\", \"url_char_z\", \"url_extension_.com\", \"url_words_with_length_5\", \"url_char_n\", \"url_char_g\", \"url_char_m\", \"url_extension_.net\", \"url_word_count_info\", \"url_words_with_length_6\", \"url_words_with_length_7\", \"url_char_y\", \"url_char_-\", \"url_char_x\", \"url_char_v\", \"url_char_.\", \"url_char_p\", \"url_char_k\", \"url_char_j\", \"url_char_h\", \"url_char_f\", \"url_char_e\", \"url_char_d\", \"url_char_c\", \"url_char_b\", \"url_words_with_length_8\"], \"type\": \"bar\", \"uid\": \"63088501-c014-47ba-a157-5c60f8b6c7ef\"}], {\"autosize\": false, \"height\": 1000, \"width\": 1000, \"xaxis\": {\"tickfont\": {\"color\": \"black\", \"size\": 12}, \"title\": \"Feature Importances\"}, \"yaxis\": {\"automargin\": true}}, {\"showLink\": true, \"linkText\": \"Export to plot.ly\", \"plotlyServerURL\": \"https://plot.ly\"})});</script>"
      ]
     },
     "metadata": {},
     "output_type": "display_data"
    },
    {
     "name": "stdout",
     "output_type": "stream",
     "text": [
      "\n",
      "\n",
      "\u001b[1mGradientBoosting Classifier\u001b[0m\n",
      "Accuracy of the model for training data is: 0.964536560893\n",
      "Confusion Matrix for training data is:\n"
     ]
    },
    {
     "data": {
      "text/plain": [
       "Predicted  False   True  __all__\n",
       "Actual                          \n",
       "False      31072    820    31892\n",
       "True        1442  30450    31892\n",
       "__all__    32514  31270    63784"
      ]
     },
     "metadata": {},
     "output_type": "display_data"
    },
    {
     "name": "stdout",
     "output_type": "stream",
     "text": [
      "Accuracy of the model for test data is: 0.947615993158\n",
      "Confusion Matrix for test data is:\n"
     ]
    },
    {
     "data": {
      "text/plain": [
       "Predicted  False  True  __all__\n",
       "Actual                         \n",
       "False       7749   236     7985\n",
       "True         254  1115     1369\n",
       "__all__     8003  1351     9354"
      ]
     },
     "metadata": {},
     "output_type": "display_data"
    },
    {
     "data": {
      "application/vnd.plotly.v1+json": {
       "config": {
        "linkText": "Export to plot.ly",
        "plotlyServerURL": "https://plot.ly",
        "showLink": true
       },
       "data": [
        {
         "marker": {
          "color": "rgb(158,202,225)",
          "line": {
           "color": "rgb(8,48,107)",
           "width": 1.5
          }
         },
         "opacity": 0.6,
         "orientation": "h",
         "text": [
          0.4441,
          0.2174,
          0.0837,
          0.0389,
          0.0364,
          0.0323,
          0.0228,
          0.021,
          0.0133,
          0.0118,
          0.0116,
          0.0101,
          0.0082,
          0.0074,
          0.0064,
          0.0051,
          0.0043,
          0.0039,
          0.0038,
          0.0034,
          0.0026,
          0.0024,
          0.0023,
          0.0018,
          0.0014,
          0.0013,
          0.0012,
          0.0007,
          0.0002,
          0.0002,
          0.0002,
          0.0001,
          0,
          0,
          0,
          0,
          0,
          0
         ],
         "textposition": "outside",
         "type": "bar",
         "uid": "7dd26677-0be4-45bf-a6b1-f87307367584",
         "x": [
          0.44405810447762717,
          0.21738093902858466,
          0.08370765162537401,
          0.03891110734152481,
          0.03638680105105397,
          0.032300650228339105,
          0.022766344680950807,
          0.021013472161652773,
          0.013297730424247655,
          0.011762876421077182,
          0.011616422899530507,
          0.01005583229335287,
          0.008228959358129364,
          0.007405824387175429,
          0.006359171985056746,
          0.005128230354560354,
          0.0042843768049356905,
          0.003890716630452231,
          0.003762600915671999,
          0.003352546125353203,
          0.0025701630437918207,
          0.002359372147743714,
          0.002275401563597518,
          0.0017677758214825828,
          0.0013929657972874619,
          0.0013493324978044075,
          0.0012483685385766376,
          0.0006858457438033595,
          0.0001941165468705172,
          0.00016363096829570547,
          0.00015411487899446923,
          0.00013944249373939064,
          2.911076336196462e-05,
          0,
          0,
          0,
          0,
          0
         ],
         "y": [
          "url_extensions",
          "url_length",
          "url_char_.",
          "url_char_z",
          "url_char_i",
          "url_char_b",
          "url_char_w",
          "url_char_o",
          "url_char_c",
          "url_char_s",
          "url_words_with_length_4",
          "url_char_m",
          "url_char_d",
          "url_char_a",
          "url_tlds",
          "url_char_r",
          "url_char_l",
          "url_extension_.com",
          "url_char_e",
          "url_char_y",
          "url_char_u",
          "url_char_h",
          "url_words_with_length_5",
          "url_char_t",
          "url_char_p",
          "url_char_n",
          "url_char_f",
          "url_char_g",
          "url_words_with_length_7",
          "url_char_-",
          "url_char_x",
          "url_char_v",
          "url_word_count_info",
          "url_extension_.net",
          "url_char_k",
          "url_words_with_length_6",
          "url_char_j",
          "url_words_with_length_8"
         ]
        }
       ],
       "layout": {
        "autosize": false,
        "height": 1000,
        "width": 1000,
        "xaxis": {
         "tickfont": {
          "color": "black",
          "size": 12
         },
         "title": "Feature Importances"
        },
        "yaxis": {
         "automargin": true
        }
       }
      },
      "text/html": [
       "<div id=\"2e0ce394-0dea-4424-a9d8-3b025736e8c5\" style=\"height: 1000px; width: 1000px;\" class=\"plotly-graph-div\"></div><script type=\"text/javascript\">require([\"plotly\"], function(Plotly) { window.PLOTLYENV=window.PLOTLYENV || {};window.PLOTLYENV.BASE_URL=\"https://plot.ly\";Plotly.newPlot(\"2e0ce394-0dea-4424-a9d8-3b025736e8c5\", [{\"marker\": {\"color\": \"rgb(158,202,225)\", \"line\": {\"color\": \"rgb(8,48,107)\", \"width\": 1.5}}, \"opacity\": 0.6, \"orientation\": \"h\", \"text\": [0.4441, 0.2174, 0.0837, 0.0389, 0.0364, 0.0323, 0.0228, 0.021, 0.0133, 0.0118, 0.0116, 0.0101, 0.0082, 0.0074, 0.0064, 0.0051, 0.0043, 0.0039, 0.0038, 0.0034, 0.0026, 0.0024, 0.0023, 0.0018, 0.0014, 0.0013, 0.0012, 0.0007, 0.0002, 0.0002, 0.0002, 0.0001, 0.0, 0.0, 0.0, 0.0, 0.0, 0.0], \"textposition\": \"outside\", \"x\": [0.44405810447762717, 0.21738093902858466, 0.08370765162537401, 0.03891110734152481, 0.03638680105105397, 0.032300650228339105, 0.022766344680950807, 0.021013472161652773, 0.013297730424247655, 0.011762876421077182, 0.011616422899530507, 0.01005583229335287, 0.008228959358129364, 0.007405824387175429, 0.006359171985056746, 0.005128230354560354, 0.0042843768049356905, 0.003890716630452231, 0.003762600915671999, 0.003352546125353203, 0.0025701630437918207, 0.002359372147743714, 0.002275401563597518, 0.0017677758214825828, 0.0013929657972874619, 0.0013493324978044075, 0.0012483685385766376, 0.0006858457438033595, 0.0001941165468705172, 0.00016363096829570547, 0.00015411487899446923, 0.00013944249373939064, 2.911076336196462e-05, 0.0, 0.0, 0.0, 0.0, 0.0], \"y\": [\"url_extensions\", \"url_length\", \"url_char_.\", \"url_char_z\", \"url_char_i\", \"url_char_b\", \"url_char_w\", \"url_char_o\", \"url_char_c\", \"url_char_s\", \"url_words_with_length_4\", \"url_char_m\", \"url_char_d\", \"url_char_a\", \"url_tlds\", \"url_char_r\", \"url_char_l\", \"url_extension_.com\", \"url_char_e\", \"url_char_y\", \"url_char_u\", \"url_char_h\", \"url_words_with_length_5\", \"url_char_t\", \"url_char_p\", \"url_char_n\", \"url_char_f\", \"url_char_g\", \"url_words_with_length_7\", \"url_char_-\", \"url_char_x\", \"url_char_v\", \"url_word_count_info\", \"url_extension_.net\", \"url_char_k\", \"url_words_with_length_6\", \"url_char_j\", \"url_words_with_length_8\"], \"type\": \"bar\", \"uid\": \"7dd26677-0be4-45bf-a6b1-f87307367584\"}], {\"autosize\": false, \"height\": 1000, \"width\": 1000, \"xaxis\": {\"tickfont\": {\"color\": \"black\", \"size\": 12}, \"title\": \"Feature Importances\"}, \"yaxis\": {\"automargin\": true}}, {\"showLink\": true, \"linkText\": \"Export to plot.ly\", \"plotlyServerURL\": \"https://plot.ly\"})});</script>"
      ],
      "text/vnd.plotly.v1+html": [
       "<div id=\"2e0ce394-0dea-4424-a9d8-3b025736e8c5\" style=\"height: 1000px; width: 1000px;\" class=\"plotly-graph-div\"></div><script type=\"text/javascript\">require([\"plotly\"], function(Plotly) { window.PLOTLYENV=window.PLOTLYENV || {};window.PLOTLYENV.BASE_URL=\"https://plot.ly\";Plotly.newPlot(\"2e0ce394-0dea-4424-a9d8-3b025736e8c5\", [{\"marker\": {\"color\": \"rgb(158,202,225)\", \"line\": {\"color\": \"rgb(8,48,107)\", \"width\": 1.5}}, \"opacity\": 0.6, \"orientation\": \"h\", \"text\": [0.4441, 0.2174, 0.0837, 0.0389, 0.0364, 0.0323, 0.0228, 0.021, 0.0133, 0.0118, 0.0116, 0.0101, 0.0082, 0.0074, 0.0064, 0.0051, 0.0043, 0.0039, 0.0038, 0.0034, 0.0026, 0.0024, 0.0023, 0.0018, 0.0014, 0.0013, 0.0012, 0.0007, 0.0002, 0.0002, 0.0002, 0.0001, 0.0, 0.0, 0.0, 0.0, 0.0, 0.0], \"textposition\": \"outside\", \"x\": [0.44405810447762717, 0.21738093902858466, 0.08370765162537401, 0.03891110734152481, 0.03638680105105397, 0.032300650228339105, 0.022766344680950807, 0.021013472161652773, 0.013297730424247655, 0.011762876421077182, 0.011616422899530507, 0.01005583229335287, 0.008228959358129364, 0.007405824387175429, 0.006359171985056746, 0.005128230354560354, 0.0042843768049356905, 0.003890716630452231, 0.003762600915671999, 0.003352546125353203, 0.0025701630437918207, 0.002359372147743714, 0.002275401563597518, 0.0017677758214825828, 0.0013929657972874619, 0.0013493324978044075, 0.0012483685385766376, 0.0006858457438033595, 0.0001941165468705172, 0.00016363096829570547, 0.00015411487899446923, 0.00013944249373939064, 2.911076336196462e-05, 0.0, 0.0, 0.0, 0.0, 0.0], \"y\": [\"url_extensions\", \"url_length\", \"url_char_.\", \"url_char_z\", \"url_char_i\", \"url_char_b\", \"url_char_w\", \"url_char_o\", \"url_char_c\", \"url_char_s\", \"url_words_with_length_4\", \"url_char_m\", \"url_char_d\", \"url_char_a\", \"url_tlds\", \"url_char_r\", \"url_char_l\", \"url_extension_.com\", \"url_char_e\", \"url_char_y\", \"url_char_u\", \"url_char_h\", \"url_words_with_length_5\", \"url_char_t\", \"url_char_p\", \"url_char_n\", \"url_char_f\", \"url_char_g\", \"url_words_with_length_7\", \"url_char_-\", \"url_char_x\", \"url_char_v\", \"url_word_count_info\", \"url_extension_.net\", \"url_char_k\", \"url_words_with_length_6\", \"url_char_j\", \"url_words_with_length_8\"], \"type\": \"bar\", \"uid\": \"7dd26677-0be4-45bf-a6b1-f87307367584\"}], {\"autosize\": false, \"height\": 1000, \"width\": 1000, \"xaxis\": {\"tickfont\": {\"color\": \"black\", \"size\": 12}, \"title\": \"Feature Importances\"}, \"yaxis\": {\"automargin\": true}}, {\"showLink\": true, \"linkText\": \"Export to plot.ly\", \"plotlyServerURL\": \"https://plot.ly\"})});</script>"
      ]
     },
     "metadata": {},
     "output_type": "display_data"
    },
    {
     "name": "stdout",
     "output_type": "stream",
     "text": [
      "\n",
      "\n",
      "\u001b[1mExtraTree Classifier\u001b[0m\n",
      "Accuracy of the model for training data is: 0.999984322087\n",
      "Confusion Matrix for training data is:\n"
     ]
    },
    {
     "data": {
      "text/plain": [
       "Predicted  False   True  __all__\n",
       "Actual                          \n",
       "False      31892      0    31892\n",
       "True           1  31891    31892\n",
       "__all__    31893  31891    63784"
      ]
     },
     "metadata": {},
     "output_type": "display_data"
    },
    {
     "name": "stdout",
     "output_type": "stream",
     "text": [
      "Accuracy of the model for test data is: 0.964079538165\n",
      "Confusion Matrix for test data is:\n"
     ]
    },
    {
     "data": {
      "text/plain": [
       "Predicted  False  True  __all__\n",
       "Actual                         \n",
       "False       7920    65     7985\n",
       "True         271  1098     1369\n",
       "__all__     8191  1163     9354"
      ]
     },
     "metadata": {},
     "output_type": "display_data"
    },
    {
     "data": {
      "application/vnd.plotly.v1+json": {
       "config": {
        "linkText": "Export to plot.ly",
        "plotlyServerURL": "https://plot.ly",
        "showLink": true
       },
       "data": [
        {
         "marker": {
          "color": "rgb(158,202,225)",
          "line": {
           "color": "rgb(8,48,107)",
           "width": 1.5
          }
         },
         "opacity": 0.6,
         "orientation": "h",
         "text": [
          0.1206,
          0.0816,
          0.0718,
          0.0595,
          0.0551,
          0.0531,
          0.0466,
          0.0399,
          0.0342,
          0.0334,
          0.028,
          0.0278,
          0.0278,
          0.0226,
          0.0207,
          0.0185,
          0.0165,
          0.0165,
          0.0165,
          0.0158,
          0.0154,
          0.0152,
          0.0136,
          0.0134,
          0.0134,
          0.0131,
          0.013,
          0.0127,
          0.0119,
          0.0117,
          0.011,
          0.0103,
          0.0093,
          0.0075,
          0.0073,
          0.0069,
          0.0054,
          0.0024
         ],
         "textposition": "outside",
         "type": "bar",
         "uid": "37bc2f7e-c337-4b6e-88cc-9f6589daa26c",
         "x": [
          0.1205862838087233,
          0.08161468155539624,
          0.07178348196337468,
          0.0595284013685799,
          0.05513468780772217,
          0.05307528174800176,
          0.0465753425967679,
          0.039938754825496046,
          0.03422839248541526,
          0.03335657438800364,
          0.02804751129468861,
          0.027823259108910158,
          0.02782290362687594,
          0.022621048133749273,
          0.020693890292866772,
          0.018483171542445997,
          0.016517664579622136,
          0.016511743911424785,
          0.016495634545681002,
          0.01576908734173573,
          0.015412759294703524,
          0.01516932475735669,
          0.013642911550383071,
          0.01342006890573579,
          0.013360275438220806,
          0.013080749011127537,
          0.012963362600439825,
          0.012728044336879643,
          0.011937236903544656,
          0.01167691187514983,
          0.011008492924148655,
          0.010251064764761784,
          0.009266132902625165,
          0.007457848155678693,
          0.007264476643297141,
          0.006915419479042813,
          0.00539553159422832,
          0.0024415919371947345
         ],
         "y": [
          "url_char_.",
          "url_extensions",
          "url_char_w",
          "url_length",
          "url_tlds",
          "url_char_i",
          "url_char_s",
          "url_char_z",
          "url_char_y",
          "url_char_b",
          "url_char_u",
          "url_extension_.com",
          "url_char_a",
          "url_char_e",
          "url_char_o",
          "url_words_with_length_4",
          "url_char_c",
          "url_char_n",
          "url_char_t",
          "url_char_l",
          "url_char_p",
          "url_char_x",
          "url_char_m",
          "url_words_with_length_5",
          "url_char_r",
          "url_char_k",
          "url_char_d",
          "url_char_g",
          "url_char_f",
          "url_char_h",
          "url_words_with_length_7",
          "url_words_with_length_6",
          "url_char_-",
          "url_char_v",
          "url_extension_.net",
          "url_char_j",
          "url_words_with_length_8",
          "url_word_count_info"
         ]
        }
       ],
       "layout": {
        "autosize": false,
        "height": 1000,
        "width": 1000,
        "xaxis": {
         "tickfont": {
          "color": "black",
          "size": 12
         },
         "title": "Feature Importances"
        },
        "yaxis": {
         "automargin": true
        }
       }
      },
      "text/html": [
       "<div id=\"e276fbe1-39cb-4b6b-9b78-b3c2b072e78c\" style=\"height: 1000px; width: 1000px;\" class=\"plotly-graph-div\"></div><script type=\"text/javascript\">require([\"plotly\"], function(Plotly) { window.PLOTLYENV=window.PLOTLYENV || {};window.PLOTLYENV.BASE_URL=\"https://plot.ly\";Plotly.newPlot(\"e276fbe1-39cb-4b6b-9b78-b3c2b072e78c\", [{\"marker\": {\"color\": \"rgb(158,202,225)\", \"line\": {\"color\": \"rgb(8,48,107)\", \"width\": 1.5}}, \"opacity\": 0.6, \"orientation\": \"h\", \"text\": [0.1206, 0.0816, 0.0718, 0.0595, 0.0551, 0.0531, 0.0466, 0.0399, 0.0342, 0.0334, 0.028, 0.0278, 0.0278, 0.0226, 0.0207, 0.0185, 0.0165, 0.0165, 0.0165, 0.0158, 0.0154, 0.0152, 0.0136, 0.0134, 0.0134, 0.0131, 0.013, 0.0127, 0.0119, 0.0117, 0.011, 0.0103, 0.0093, 0.0075, 0.0073, 0.0069, 0.0054, 0.0024], \"textposition\": \"outside\", \"x\": [0.1205862838087233, 0.08161468155539624, 0.07178348196337468, 0.0595284013685799, 0.05513468780772217, 0.05307528174800176, 0.0465753425967679, 0.039938754825496046, 0.03422839248541526, 0.03335657438800364, 0.02804751129468861, 0.027823259108910158, 0.02782290362687594, 0.022621048133749273, 0.020693890292866772, 0.018483171542445997, 0.016517664579622136, 0.016511743911424785, 0.016495634545681002, 0.01576908734173573, 0.015412759294703524, 0.01516932475735669, 0.013642911550383071, 0.01342006890573579, 0.013360275438220806, 0.013080749011127537, 0.012963362600439825, 0.012728044336879643, 0.011937236903544656, 0.01167691187514983, 0.011008492924148655, 0.010251064764761784, 0.009266132902625165, 0.007457848155678693, 0.007264476643297141, 0.006915419479042813, 0.00539553159422832, 0.0024415919371947345], \"y\": [\"url_char_.\", \"url_extensions\", \"url_char_w\", \"url_length\", \"url_tlds\", \"url_char_i\", \"url_char_s\", \"url_char_z\", \"url_char_y\", \"url_char_b\", \"url_char_u\", \"url_extension_.com\", \"url_char_a\", \"url_char_e\", \"url_char_o\", \"url_words_with_length_4\", \"url_char_c\", \"url_char_n\", \"url_char_t\", \"url_char_l\", \"url_char_p\", \"url_char_x\", \"url_char_m\", \"url_words_with_length_5\", \"url_char_r\", \"url_char_k\", \"url_char_d\", \"url_char_g\", \"url_char_f\", \"url_char_h\", \"url_words_with_length_7\", \"url_words_with_length_6\", \"url_char_-\", \"url_char_v\", \"url_extension_.net\", \"url_char_j\", \"url_words_with_length_8\", \"url_word_count_info\"], \"type\": \"bar\", \"uid\": \"37bc2f7e-c337-4b6e-88cc-9f6589daa26c\"}], {\"autosize\": false, \"height\": 1000, \"width\": 1000, \"xaxis\": {\"tickfont\": {\"color\": \"black\", \"size\": 12}, \"title\": \"Feature Importances\"}, \"yaxis\": {\"automargin\": true}}, {\"showLink\": true, \"linkText\": \"Export to plot.ly\", \"plotlyServerURL\": \"https://plot.ly\"})});</script>"
      ],
      "text/vnd.plotly.v1+html": [
       "<div id=\"e276fbe1-39cb-4b6b-9b78-b3c2b072e78c\" style=\"height: 1000px; width: 1000px;\" class=\"plotly-graph-div\"></div><script type=\"text/javascript\">require([\"plotly\"], function(Plotly) { window.PLOTLYENV=window.PLOTLYENV || {};window.PLOTLYENV.BASE_URL=\"https://plot.ly\";Plotly.newPlot(\"e276fbe1-39cb-4b6b-9b78-b3c2b072e78c\", [{\"marker\": {\"color\": \"rgb(158,202,225)\", \"line\": {\"color\": \"rgb(8,48,107)\", \"width\": 1.5}}, \"opacity\": 0.6, \"orientation\": \"h\", \"text\": [0.1206, 0.0816, 0.0718, 0.0595, 0.0551, 0.0531, 0.0466, 0.0399, 0.0342, 0.0334, 0.028, 0.0278, 0.0278, 0.0226, 0.0207, 0.0185, 0.0165, 0.0165, 0.0165, 0.0158, 0.0154, 0.0152, 0.0136, 0.0134, 0.0134, 0.0131, 0.013, 0.0127, 0.0119, 0.0117, 0.011, 0.0103, 0.0093, 0.0075, 0.0073, 0.0069, 0.0054, 0.0024], \"textposition\": \"outside\", \"x\": [0.1205862838087233, 0.08161468155539624, 0.07178348196337468, 0.0595284013685799, 0.05513468780772217, 0.05307528174800176, 0.0465753425967679, 0.039938754825496046, 0.03422839248541526, 0.03335657438800364, 0.02804751129468861, 0.027823259108910158, 0.02782290362687594, 0.022621048133749273, 0.020693890292866772, 0.018483171542445997, 0.016517664579622136, 0.016511743911424785, 0.016495634545681002, 0.01576908734173573, 0.015412759294703524, 0.01516932475735669, 0.013642911550383071, 0.01342006890573579, 0.013360275438220806, 0.013080749011127537, 0.012963362600439825, 0.012728044336879643, 0.011937236903544656, 0.01167691187514983, 0.011008492924148655, 0.010251064764761784, 0.009266132902625165, 0.007457848155678693, 0.007264476643297141, 0.006915419479042813, 0.00539553159422832, 0.0024415919371947345], \"y\": [\"url_char_.\", \"url_extensions\", \"url_char_w\", \"url_length\", \"url_tlds\", \"url_char_i\", \"url_char_s\", \"url_char_z\", \"url_char_y\", \"url_char_b\", \"url_char_u\", \"url_extension_.com\", \"url_char_a\", \"url_char_e\", \"url_char_o\", \"url_words_with_length_4\", \"url_char_c\", \"url_char_n\", \"url_char_t\", \"url_char_l\", \"url_char_p\", \"url_char_x\", \"url_char_m\", \"url_words_with_length_5\", \"url_char_r\", \"url_char_k\", \"url_char_d\", \"url_char_g\", \"url_char_f\", \"url_char_h\", \"url_words_with_length_7\", \"url_words_with_length_6\", \"url_char_-\", \"url_char_v\", \"url_extension_.net\", \"url_char_j\", \"url_words_with_length_8\", \"url_word_count_info\"], \"type\": \"bar\", \"uid\": \"37bc2f7e-c337-4b6e-88cc-9f6589daa26c\"}], {\"autosize\": false, \"height\": 1000, \"width\": 1000, \"xaxis\": {\"tickfont\": {\"color\": \"black\", \"size\": 12}, \"title\": \"Feature Importances\"}, \"yaxis\": {\"automargin\": true}}, {\"showLink\": true, \"linkText\": \"Export to plot.ly\", \"plotlyServerURL\": \"https://plot.ly\"})});</script>"
      ]
     },
     "metadata": {},
     "output_type": "display_data"
    },
    {
     "name": "stdout",
     "output_type": "stream",
     "text": [
      "\n",
      "\n",
      "\u001b[1mBagging Classifier\u001b[0m\n",
      "Accuracy of the model for training data is: 0.996989840712\n",
      "Confusion Matrix for training data is:\n"
     ]
    },
    {
     "data": {
      "text/plain": [
       "Predicted  False   True  __all__\n",
       "Actual                          \n",
       "False      31880     12    31892\n",
       "True         180  31712    31892\n",
       "__all__    32060  31724    63784"
      ]
     },
     "metadata": {},
     "output_type": "display_data"
    },
    {
     "name": "stdout",
     "output_type": "stream",
     "text": [
      "Accuracy of the model for test data is: 0.957878982254\n",
      "Confusion Matrix for test data is:\n"
     ]
    },
    {
     "data": {
      "text/plain": [
       "Predicted  False  True  __all__\n",
       "Actual                         \n",
       "False       7853   132     7985\n",
       "True         262  1107     1369\n",
       "__all__     8115  1239     9354"
      ]
     },
     "metadata": {},
     "output_type": "display_data"
    },
    {
     "name": "stdout",
     "output_type": "stream",
     "text": [
      "\n",
      "\n",
      "\u001b[1mNeural Network-1\u001b[0m\n",
      "The accuracy of the model on training data is: 0.997209331494\n"
     ]
    },
    {
     "data": {
      "text/plain": [
       "Predicted  False   True  __all__\n",
       "Actual                          \n",
       "False      31837     55    31892\n",
       "True         123  31769    31892\n",
       "__all__    31960  31824    63784"
      ]
     },
     "metadata": {},
     "output_type": "display_data"
    },
    {
     "name": "stdout",
     "output_type": "stream",
     "text": [
      "The accuracy of the model on test data is: 0.947188368612\n"
     ]
    },
    {
     "data": {
      "text/plain": [
       "Predicted  False  True  __all__\n",
       "Actual                         \n",
       "False       7721   264     7985\n",
       "True         230  1139     1369\n",
       "__all__     7951  1403     9354"
      ]
     },
     "metadata": {},
     "output_type": "display_data"
    },
    {
     "name": "stdout",
     "output_type": "stream",
     "text": [
      "\n",
      "\n"
     ]
    }
   ],
   "source": [
    "feat_imp=[None]*4\n",
    "j=0\n",
    "for i in range(0,8):\n",
    "    if i>=2 and i<=5:\n",
    "        model,cm_train,cm_test,acc_train,acc_test,roc_auc,feat_imp[j],mcc=f[i](X_train,Y_train,scaled_X_test,test_Y,columns)\n",
    "        j=j+1\n",
    "    else:\n",
    "        model,cm_train,cm_test,acc_train,acc_test,roc_auc,mcc=f[i](X_train,Y_train,scaled_X_test,test_Y)\n",
    "    table_80_80_train.loc[i]=   ([acc_train,cm_train.TP,cm_train.TN,cm_train.FP,cm_train.FN,cm_train.FPR,cm_train.FNR])\n",
    "    table_80_80_test.loc[i] =   ([acc_test ,cm_test.TP, cm_test.TN, cm_test.FP, cm_test.FN, cm_test.FPR, cm_test.FNR,roc_auc,mcc])\n",
    "    print(\"\\n\")"
   ]
  },
  {
   "cell_type": "markdown",
   "metadata": {},
   "source": [
    "### <a id='2.A' style=\"text-decoration : none; color : #000000;\"> A Results</a>"
   ]
  },
  {
   "cell_type": "code",
   "execution_count": 21,
   "metadata": {},
   "outputs": [
    {
     "data": {
      "application/vnd.plotly.v1+json": {
       "config": {
        "linkText": "Export to plot.ly",
        "plotlyServerURL": "https://plot.ly",
        "showLink": true
       },
       "data": [
        {
         "mode": "lines",
         "name": "KNN_model",
         "type": "scatter",
         "uid": "0246e17c-b672-47ca-ab2b-cce5a361ca38",
         "x": [
          "accuracy",
          "FPR",
          "FNR",
          "auc"
         ],
         "y": [
          0.9187513363267051,
          0.071759549154665,
          0.13659605551497445,
          0.8958221976651803
         ]
        },
        {
         "mode": "lines+markers",
         "name": "Logistic Regression",
         "type": "scatter",
         "uid": "9a8fce07-8c14-4eb5-8ce5-0ff1ccf52c55",
         "x": [
          "accuracy",
          "FPR",
          "FNR",
          "auc"
         ],
         "y": [
          0.9172546504169339,
          0.07551659361302442,
          0.12490869247626005,
          0.8997873569553578
         ]
        },
        {
         "marker": {
          "symbol": "x"
         },
         "mode": "lines+markers",
         "name": "Random Forest",
         "type": "scatter",
         "uid": "fe243da1-68a4-4058-bdf6-b790578bf3b7",
         "x": [
          "accuracy",
          "FPR",
          "FNR",
          "auc"
         ],
         "y": [
          0.9619414154372461,
          0.012273011897307451,
          0.18845872899926955,
          0.8996341295517114
         ]
        },
        {
         "mode": "lines",
         "name": "Ada Boost",
         "type": "scatter",
         "uid": "798d2e10-98cf-4a92-9cb5-6b8df10a3f0f",
         "x": [
          "accuracy",
          "FPR",
          "FNR",
          "auc"
         ],
         "y": [
          0.9299764806499893,
          0.05209768315591735,
          0.1745799853907962,
          0.8866611657266432
         ]
        },
        {
         "mode": "lines+markers",
         "name": "GradientBoosting",
         "type": "scatter",
         "uid": "7d36ddad-f53d-40eb-b177-56db8b7981c7",
         "x": [
          "accuracy",
          "FPR",
          "FNR",
          "auc"
         ],
         "y": [
          0.9476159931580073,
          0.0295554164057608,
          0.18553688823959094,
          0.8924538476773242
         ]
        },
        {
         "marker": {
          "symbol": "x"
         },
         "mode": "lines+markers",
         "name": "ExtraTree Classifier",
         "type": "scatter",
         "uid": "de2d318a-56de-40ec-9299-2069aa443128",
         "x": [
          "accuracy",
          "FPR",
          "FNR",
          "auc"
         ],
         "y": [
          0.9640795381654907,
          0.008140262993112084,
          0.197954711468225,
          0.8969525127693314
         ]
        },
        {
         "marker": {
          "symbol": "x"
         },
         "mode": "lines+markers",
         "name": "Bagging",
         "type": "scatter",
         "uid": "35d1af87-aeb2-4182-a22f-42158b7ba101",
         "x": [
          "accuracy",
          "FPR",
          "FNR",
          "auc"
         ],
         "y": [
          0.9578789822535814,
          0.016530995616781466,
          0.19138056975894813,
          0.8960442173121352
         ]
        },
        {
         "marker": {
          "symbol": "x"
         },
         "mode": "lines+markers",
         "name": "Neural Network",
         "type": "scatter",
         "uid": "272e468a-5c8a-4830-8b18-fde624346f53",
         "x": [
          "accuracy",
          "FPR",
          "FNR",
          "auc"
         ],
         "y": [
          0.9471883686123583,
          0.03306199123356293,
          0.16800584368151936,
          0.8960442173121352
         ]
        }
       ],
       "layout": {
        "title": "Result comparision for Features selected in Section 1",
        "yaxis": {
         "dtick": 0.05,
         "tick0": 0
        }
       }
      },
      "text/html": [
       "<div id=\"762746f4-eb40-415a-b516-dadff4fd9e85\" style=\"height: 525px; width: 100%;\" class=\"plotly-graph-div\"></div><script type=\"text/javascript\">require([\"plotly\"], function(Plotly) { window.PLOTLYENV=window.PLOTLYENV || {};window.PLOTLYENV.BASE_URL=\"https://plot.ly\";Plotly.newPlot(\"762746f4-eb40-415a-b516-dadff4fd9e85\", [{\"mode\": \"lines\", \"name\": \"KNN_model\", \"x\": [\"accuracy\", \"FPR\", \"FNR\", \"auc\"], \"y\": [0.9187513363267051, 0.071759549154665, 0.13659605551497445, 0.8958221976651803], \"type\": \"scatter\", \"uid\": \"0246e17c-b672-47ca-ab2b-cce5a361ca38\"}, {\"mode\": \"lines+markers\", \"name\": \"Logistic Regression\", \"x\": [\"accuracy\", \"FPR\", \"FNR\", \"auc\"], \"y\": [0.9172546504169339, 0.07551659361302442, 0.12490869247626005, 0.8997873569553578], \"type\": \"scatter\", \"uid\": \"9a8fce07-8c14-4eb5-8ce5-0ff1ccf52c55\"}, {\"marker\": {\"symbol\": \"x\"}, \"mode\": \"lines+markers\", \"name\": \"Random Forest\", \"x\": [\"accuracy\", \"FPR\", \"FNR\", \"auc\"], \"y\": [0.9619414154372461, 0.012273011897307451, 0.18845872899926955, 0.8996341295517114], \"type\": \"scatter\", \"uid\": \"fe243da1-68a4-4058-bdf6-b790578bf3b7\"}, {\"mode\": \"lines\", \"name\": \"Ada Boost\", \"x\": [\"accuracy\", \"FPR\", \"FNR\", \"auc\"], \"y\": [0.9299764806499893, 0.05209768315591735, 0.1745799853907962, 0.8866611657266432], \"type\": \"scatter\", \"uid\": \"798d2e10-98cf-4a92-9cb5-6b8df10a3f0f\"}, {\"mode\": \"lines+markers\", \"name\": \"GradientBoosting\", \"x\": [\"accuracy\", \"FPR\", \"FNR\", \"auc\"], \"y\": [0.9476159931580073, 0.0295554164057608, 0.18553688823959094, 0.8924538476773242], \"type\": \"scatter\", \"uid\": \"7d36ddad-f53d-40eb-b177-56db8b7981c7\"}, {\"marker\": {\"symbol\": \"x\"}, \"mode\": \"lines+markers\", \"name\": \"ExtraTree Classifier\", \"x\": [\"accuracy\", \"FPR\", \"FNR\", \"auc\"], \"y\": [0.9640795381654907, 0.008140262993112084, 0.197954711468225, 0.8969525127693314], \"type\": \"scatter\", \"uid\": \"de2d318a-56de-40ec-9299-2069aa443128\"}, {\"marker\": {\"symbol\": \"x\"}, \"mode\": \"lines+markers\", \"name\": \"Bagging\", \"x\": [\"accuracy\", \"FPR\", \"FNR\", \"auc\"], \"y\": [0.9578789822535814, 0.016530995616781466, 0.19138056975894813, 0.8960442173121352], \"type\": \"scatter\", \"uid\": \"35d1af87-aeb2-4182-a22f-42158b7ba101\"}, {\"marker\": {\"symbol\": \"x\"}, \"mode\": \"lines+markers\", \"name\": \"Neural Network\", \"x\": [\"accuracy\", \"FPR\", \"FNR\", \"auc\"], \"y\": [0.9471883686123583, 0.03306199123356293, 0.16800584368151936, 0.8960442173121352], \"type\": \"scatter\", \"uid\": \"272e468a-5c8a-4830-8b18-fde624346f53\"}], {\"title\": \"Result comparision for Features selected in Section 1\", \"yaxis\": {\"dtick\": 0.05, \"tick0\": 0}}, {\"showLink\": true, \"linkText\": \"Export to plot.ly\", \"plotlyServerURL\": \"https://plot.ly\"})});</script><script type=\"text/javascript\">window.addEventListener(\"resize\", function(){window._Plotly.Plots.resize(document.getElementById(\"762746f4-eb40-415a-b516-dadff4fd9e85\"));});</script>"
      ],
      "text/vnd.plotly.v1+html": [
       "<div id=\"762746f4-eb40-415a-b516-dadff4fd9e85\" style=\"height: 525px; width: 100%;\" class=\"plotly-graph-div\"></div><script type=\"text/javascript\">require([\"plotly\"], function(Plotly) { window.PLOTLYENV=window.PLOTLYENV || {};window.PLOTLYENV.BASE_URL=\"https://plot.ly\";Plotly.newPlot(\"762746f4-eb40-415a-b516-dadff4fd9e85\", [{\"mode\": \"lines\", \"name\": \"KNN_model\", \"x\": [\"accuracy\", \"FPR\", \"FNR\", \"auc\"], \"y\": [0.9187513363267051, 0.071759549154665, 0.13659605551497445, 0.8958221976651803], \"type\": \"scatter\", \"uid\": \"0246e17c-b672-47ca-ab2b-cce5a361ca38\"}, {\"mode\": \"lines+markers\", \"name\": \"Logistic Regression\", \"x\": [\"accuracy\", \"FPR\", \"FNR\", \"auc\"], \"y\": [0.9172546504169339, 0.07551659361302442, 0.12490869247626005, 0.8997873569553578], \"type\": \"scatter\", \"uid\": \"9a8fce07-8c14-4eb5-8ce5-0ff1ccf52c55\"}, {\"marker\": {\"symbol\": \"x\"}, \"mode\": \"lines+markers\", \"name\": \"Random Forest\", \"x\": [\"accuracy\", \"FPR\", \"FNR\", \"auc\"], \"y\": [0.9619414154372461, 0.012273011897307451, 0.18845872899926955, 0.8996341295517114], \"type\": \"scatter\", \"uid\": \"fe243da1-68a4-4058-bdf6-b790578bf3b7\"}, {\"mode\": \"lines\", \"name\": \"Ada Boost\", \"x\": [\"accuracy\", \"FPR\", \"FNR\", \"auc\"], \"y\": [0.9299764806499893, 0.05209768315591735, 0.1745799853907962, 0.8866611657266432], \"type\": \"scatter\", \"uid\": \"798d2e10-98cf-4a92-9cb5-6b8df10a3f0f\"}, {\"mode\": \"lines+markers\", \"name\": \"GradientBoosting\", \"x\": [\"accuracy\", \"FPR\", \"FNR\", \"auc\"], \"y\": [0.9476159931580073, 0.0295554164057608, 0.18553688823959094, 0.8924538476773242], \"type\": \"scatter\", \"uid\": \"7d36ddad-f53d-40eb-b177-56db8b7981c7\"}, {\"marker\": {\"symbol\": \"x\"}, \"mode\": \"lines+markers\", \"name\": \"ExtraTree Classifier\", \"x\": [\"accuracy\", \"FPR\", \"FNR\", \"auc\"], \"y\": [0.9640795381654907, 0.008140262993112084, 0.197954711468225, 0.8969525127693314], \"type\": \"scatter\", \"uid\": \"de2d318a-56de-40ec-9299-2069aa443128\"}, {\"marker\": {\"symbol\": \"x\"}, \"mode\": \"lines+markers\", \"name\": \"Bagging\", \"x\": [\"accuracy\", \"FPR\", \"FNR\", \"auc\"], \"y\": [0.9578789822535814, 0.016530995616781466, 0.19138056975894813, 0.8960442173121352], \"type\": \"scatter\", \"uid\": \"35d1af87-aeb2-4182-a22f-42158b7ba101\"}, {\"marker\": {\"symbol\": \"x\"}, \"mode\": \"lines+markers\", \"name\": \"Neural Network\", \"x\": [\"accuracy\", \"FPR\", \"FNR\", \"auc\"], \"y\": [0.9471883686123583, 0.03306199123356293, 0.16800584368151936, 0.8960442173121352], \"type\": \"scatter\", \"uid\": \"272e468a-5c8a-4830-8b18-fde624346f53\"}], {\"title\": \"Result comparision for Features selected in Section 1\", \"yaxis\": {\"dtick\": 0.05, \"tick0\": 0}}, {\"showLink\": true, \"linkText\": \"Export to plot.ly\", \"plotlyServerURL\": \"https://plot.ly\"})});</script><script type=\"text/javascript\">window.addEventListener(\"resize\", function(){window._Plotly.Plots.resize(document.getElementById(\"762746f4-eb40-415a-b516-dadff4fd9e85\"));});</script>"
      ]
     },
     "metadata": {},
     "output_type": "display_data"
    }
   ],
   "source": [
    "trace0 = go.Scatter(x=table_80_80_test.iloc[0].index.values[[0,5,6,7]],\n",
    "                    y=table_80_80_test.iloc[0].values[[0,5,6,7]],\n",
    "                    mode = 'lines',\n",
    "                    name = 'KNN_model')\n",
    "\n",
    "trace1 = go.Scatter(x=table_80_80_test.iloc[1].index.values[[0,5,6,7]],\n",
    "                    y=table_80_80_test.iloc[1].values[[0,5,6,7]],\n",
    "                    mode = 'lines+markers',\n",
    "                    name = 'Logistic Regression')\n",
    "\n",
    "trace2 = go.Scatter(x=table_80_80_test.iloc[2].index.values[[0,5,6,7]],\n",
    "                    y=table_80_80_test.iloc[2].values[[0,5,6,7]],\n",
    "                    mode = 'lines+markers',marker=dict(symbol='x'),\n",
    "                    name = 'Random Forest')\n",
    "\n",
    "\n",
    "trace3 = go.Scatter(x=table_80_80_test.iloc[3].index.values[[0,5,6,7]],\n",
    "                    y=table_80_80_test.iloc[3].values[[0,5,6,7]],\n",
    "                    mode = 'lines',\n",
    "                    name = 'Ada Boost')\n",
    "\n",
    "trace4 = go.Scatter(x=table_80_80_test.iloc[4].index.values[[0,5,6,7]],\n",
    "                    y=table_80_80_test.iloc[4].values[[0,5,6,7]],\n",
    "                    mode = 'lines+markers',\n",
    "                    name = 'GradientBoosting')\n",
    "\n",
    "trace5 = go.Scatter(x=table_80_80_test.iloc[5].index.values[[0,5,6,7]],\n",
    "                    y=table_80_80_test.iloc[5].values[[0,5,6,7]],\n",
    "                    mode = 'lines+markers',marker=dict(symbol='x'),\n",
    "                    name = 'ExtraTree Classifier')\n",
    "\n",
    "trace6 = go.Scatter(x=table_80_80_test.iloc[6].index.values[[0,5,6,7]],\n",
    "                    y=table_80_80_test.iloc[6].values[[0,5,6,7]],\n",
    "                    mode = 'lines+markers',marker=dict(symbol='x'),\n",
    "                    name = 'Bagging')\n",
    "\n",
    "trace7 = go.Scatter(x=table_80_80_test.iloc[7].index.values[[0,5,6,7]],\n",
    "                    y=table_80_80_test.iloc[7].values[[0,5,6,7]],\n",
    "                    mode = 'lines+markers',marker=dict(symbol='x'),\n",
    "                    name = 'Neural Network')\n",
    "\n",
    "\n",
    "\n",
    "data = [trace0, trace1, trace2, trace3, trace4, trace5, trace6, trace7]\n",
    "layout = go.Layout(yaxis=dict(tick0=0,dtick=0.05),title='Result comparision for Features selected in Section 1')\n",
    "fig = go.Figure(data=data, layout=layout)\n",
    "\n",
    "iplot(fig, filename='Result')"
   ]
  },
  {
   "cell_type": "code",
   "execution_count": 22,
   "metadata": {},
   "outputs": [
    {
     "name": "stdout",
     "output_type": "stream",
     "text": [
      "Training Results\n"
     ]
    },
    {
     "data": {
      "text/html": [
       "<div>\n",
       "<style scoped>\n",
       "    .dataframe tbody tr th:only-of-type {\n",
       "        vertical-align: middle;\n",
       "    }\n",
       "\n",
       "    .dataframe tbody tr th {\n",
       "        vertical-align: top;\n",
       "    }\n",
       "\n",
       "    .dataframe thead th {\n",
       "        text-align: right;\n",
       "    }\n",
       "</style>\n",
       "<table border=\"1\" class=\"dataframe\">\n",
       "  <thead>\n",
       "    <tr style=\"text-align: right;\">\n",
       "      <th></th>\n",
       "      <th>accuracy</th>\n",
       "      <th>TP</th>\n",
       "      <th>TN</th>\n",
       "      <th>FP</th>\n",
       "      <th>FN</th>\n",
       "      <th>FPR</th>\n",
       "      <th>FNR</th>\n",
       "    </tr>\n",
       "    <tr>\n",
       "      <th>index</th>\n",
       "      <th></th>\n",
       "      <th></th>\n",
       "      <th></th>\n",
       "      <th></th>\n",
       "      <th></th>\n",
       "      <th></th>\n",
       "      <th></th>\n",
       "    </tr>\n",
       "  </thead>\n",
       "  <tbody>\n",
       "    <tr>\n",
       "      <th>KNeighborsClassifier</th>\n",
       "      <td>0.976311</td>\n",
       "      <td>31867.0</td>\n",
       "      <td>30406.0</td>\n",
       "      <td>1486.0</td>\n",
       "      <td>25.0</td>\n",
       "      <td>0.046595</td>\n",
       "      <td>0.000784</td>\n",
       "    </tr>\n",
       "    <tr>\n",
       "      <th>LogisticRegression</th>\n",
       "      <td>0.893766</td>\n",
       "      <td>27469.0</td>\n",
       "      <td>29539.0</td>\n",
       "      <td>2353.0</td>\n",
       "      <td>4423.0</td>\n",
       "      <td>0.073780</td>\n",
       "      <td>0.138687</td>\n",
       "    </tr>\n",
       "    <tr>\n",
       "      <th>RandomForestClassifier</th>\n",
       "      <td>0.997899</td>\n",
       "      <td>31763.0</td>\n",
       "      <td>31887.0</td>\n",
       "      <td>5.0</td>\n",
       "      <td>129.0</td>\n",
       "      <td>0.000157</td>\n",
       "      <td>0.004045</td>\n",
       "    </tr>\n",
       "    <tr>\n",
       "      <th>AdaBoostClassifier</th>\n",
       "      <td>0.936489</td>\n",
       "      <td>29415.0</td>\n",
       "      <td>30318.0</td>\n",
       "      <td>1574.0</td>\n",
       "      <td>2477.0</td>\n",
       "      <td>0.049354</td>\n",
       "      <td>0.077668</td>\n",
       "    </tr>\n",
       "    <tr>\n",
       "      <th>GradientBoostingClassifier</th>\n",
       "      <td>0.964537</td>\n",
       "      <td>30450.0</td>\n",
       "      <td>31072.0</td>\n",
       "      <td>820.0</td>\n",
       "      <td>1442.0</td>\n",
       "      <td>0.025712</td>\n",
       "      <td>0.045215</td>\n",
       "    </tr>\n",
       "    <tr>\n",
       "      <th>ExtraTreeClassifier</th>\n",
       "      <td>0.999984</td>\n",
       "      <td>31891.0</td>\n",
       "      <td>31892.0</td>\n",
       "      <td>0.0</td>\n",
       "      <td>1.0</td>\n",
       "      <td>0.000000</td>\n",
       "      <td>0.000031</td>\n",
       "    </tr>\n",
       "    <tr>\n",
       "      <th>BaggingClassifier</th>\n",
       "      <td>0.996990</td>\n",
       "      <td>31712.0</td>\n",
       "      <td>31880.0</td>\n",
       "      <td>12.0</td>\n",
       "      <td>180.0</td>\n",
       "      <td>0.000376</td>\n",
       "      <td>0.005644</td>\n",
       "    </tr>\n",
       "    <tr>\n",
       "      <th>Neural Network-1</th>\n",
       "      <td>0.997209</td>\n",
       "      <td>31769.0</td>\n",
       "      <td>31837.0</td>\n",
       "      <td>55.0</td>\n",
       "      <td>123.0</td>\n",
       "      <td>0.001725</td>\n",
       "      <td>0.003857</td>\n",
       "    </tr>\n",
       "  </tbody>\n",
       "</table>\n",
       "</div>"
      ],
      "text/plain": [
       "                            accuracy       TP       TN      FP      FN  \\\n",
       "index                                                                    \n",
       "KNeighborsClassifier        0.976311  31867.0  30406.0  1486.0    25.0   \n",
       "LogisticRegression          0.893766  27469.0  29539.0  2353.0  4423.0   \n",
       "RandomForestClassifier      0.997899  31763.0  31887.0     5.0   129.0   \n",
       "AdaBoostClassifier          0.936489  29415.0  30318.0  1574.0  2477.0   \n",
       "GradientBoostingClassifier  0.964537  30450.0  31072.0   820.0  1442.0   \n",
       "ExtraTreeClassifier         0.999984  31891.0  31892.0     0.0     1.0   \n",
       "BaggingClassifier           0.996990  31712.0  31880.0    12.0   180.0   \n",
       "Neural Network-1            0.997209  31769.0  31837.0    55.0   123.0   \n",
       "\n",
       "                                 FPR       FNR  \n",
       "index                                           \n",
       "KNeighborsClassifier        0.046595  0.000784  \n",
       "LogisticRegression          0.073780  0.138687  \n",
       "RandomForestClassifier      0.000157  0.004045  \n",
       "AdaBoostClassifier          0.049354  0.077668  \n",
       "GradientBoostingClassifier  0.025712  0.045215  \n",
       "ExtraTreeClassifier         0.000000  0.000031  \n",
       "BaggingClassifier           0.000376  0.005644  \n",
       "Neural Network-1            0.001725  0.003857  "
      ]
     },
     "metadata": {},
     "output_type": "display_data"
    },
    {
     "name": "stdout",
     "output_type": "stream",
     "text": [
      "Test Results\n"
     ]
    },
    {
     "data": {
      "text/html": [
       "<div>\n",
       "<style scoped>\n",
       "    .dataframe tbody tr th:only-of-type {\n",
       "        vertical-align: middle;\n",
       "    }\n",
       "\n",
       "    .dataframe tbody tr th {\n",
       "        vertical-align: top;\n",
       "    }\n",
       "\n",
       "    .dataframe thead th {\n",
       "        text-align: right;\n",
       "    }\n",
       "</style>\n",
       "<table border=\"1\" class=\"dataframe\">\n",
       "  <thead>\n",
       "    <tr style=\"text-align: right;\">\n",
       "      <th></th>\n",
       "      <th>accuracy</th>\n",
       "      <th>TP</th>\n",
       "      <th>TN</th>\n",
       "      <th>FP</th>\n",
       "      <th>FN</th>\n",
       "      <th>FPR</th>\n",
       "      <th>FNR</th>\n",
       "      <th>auc</th>\n",
       "      <th>mcc</th>\n",
       "    </tr>\n",
       "    <tr>\n",
       "      <th>index</th>\n",
       "      <th></th>\n",
       "      <th></th>\n",
       "      <th></th>\n",
       "      <th></th>\n",
       "      <th></th>\n",
       "      <th></th>\n",
       "      <th></th>\n",
       "      <th></th>\n",
       "      <th></th>\n",
       "    </tr>\n",
       "  </thead>\n",
       "  <tbody>\n",
       "    <tr>\n",
       "      <th>KNeighborsClassifier</th>\n",
       "      <td>0.918751</td>\n",
       "      <td>1182.0</td>\n",
       "      <td>7412.0</td>\n",
       "      <td>573.0</td>\n",
       "      <td>187.0</td>\n",
       "      <td>0.071760</td>\n",
       "      <td>0.136596</td>\n",
       "      <td>0.895822</td>\n",
       "      <td>0.716725</td>\n",
       "    </tr>\n",
       "    <tr>\n",
       "      <th>LogisticRegression</th>\n",
       "      <td>0.917255</td>\n",
       "      <td>1198.0</td>\n",
       "      <td>7382.0</td>\n",
       "      <td>603.0</td>\n",
       "      <td>171.0</td>\n",
       "      <td>0.075517</td>\n",
       "      <td>0.124909</td>\n",
       "      <td>0.899787</td>\n",
       "      <td>0.716773</td>\n",
       "    </tr>\n",
       "    <tr>\n",
       "      <th>RandomForestClassifier</th>\n",
       "      <td>0.961941</td>\n",
       "      <td>1111.0</td>\n",
       "      <td>7887.0</td>\n",
       "      <td>98.0</td>\n",
       "      <td>258.0</td>\n",
       "      <td>0.012273</td>\n",
       "      <td>0.188459</td>\n",
       "      <td>0.899634</td>\n",
       "      <td>0.842118</td>\n",
       "    </tr>\n",
       "    <tr>\n",
       "      <th>AdaBoostClassifier</th>\n",
       "      <td>0.929976</td>\n",
       "      <td>1130.0</td>\n",
       "      <td>7569.0</td>\n",
       "      <td>416.0</td>\n",
       "      <td>239.0</td>\n",
       "      <td>0.052098</td>\n",
       "      <td>0.174580</td>\n",
       "      <td>0.886661</td>\n",
       "      <td>0.735911</td>\n",
       "    </tr>\n",
       "    <tr>\n",
       "      <th>GradientBoostingClassifier</th>\n",
       "      <td>0.947616</td>\n",
       "      <td>1115.0</td>\n",
       "      <td>7749.0</td>\n",
       "      <td>236.0</td>\n",
       "      <td>254.0</td>\n",
       "      <td>0.029555</td>\n",
       "      <td>0.185537</td>\n",
       "      <td>0.892454</td>\n",
       "      <td>0.789230</td>\n",
       "    </tr>\n",
       "    <tr>\n",
       "      <th>ExtraTreeClassifier</th>\n",
       "      <td>0.964080</td>\n",
       "      <td>1098.0</td>\n",
       "      <td>7920.0</td>\n",
       "      <td>65.0</td>\n",
       "      <td>271.0</td>\n",
       "      <td>0.008140</td>\n",
       "      <td>0.197955</td>\n",
       "      <td>0.896953</td>\n",
       "      <td>0.850451</td>\n",
       "    </tr>\n",
       "    <tr>\n",
       "      <th>BaggingClassifier</th>\n",
       "      <td>0.957879</td>\n",
       "      <td>1107.0</td>\n",
       "      <td>7853.0</td>\n",
       "      <td>132.0</td>\n",
       "      <td>262.0</td>\n",
       "      <td>0.016531</td>\n",
       "      <td>0.191381</td>\n",
       "      <td>0.896044</td>\n",
       "      <td>0.825910</td>\n",
       "    </tr>\n",
       "    <tr>\n",
       "      <th>Neural Network-1</th>\n",
       "      <td>0.947188</td>\n",
       "      <td>1139.0</td>\n",
       "      <td>7721.0</td>\n",
       "      <td>264.0</td>\n",
       "      <td>230.0</td>\n",
       "      <td>0.033062</td>\n",
       "      <td>0.168006</td>\n",
       "      <td>0.896044</td>\n",
       "      <td>0.790878</td>\n",
       "    </tr>\n",
       "  </tbody>\n",
       "</table>\n",
       "</div>"
      ],
      "text/plain": [
       "                            accuracy      TP      TN     FP     FN       FPR  \\\n",
       "index                                                                          \n",
       "KNeighborsClassifier        0.918751  1182.0  7412.0  573.0  187.0  0.071760   \n",
       "LogisticRegression          0.917255  1198.0  7382.0  603.0  171.0  0.075517   \n",
       "RandomForestClassifier      0.961941  1111.0  7887.0   98.0  258.0  0.012273   \n",
       "AdaBoostClassifier          0.929976  1130.0  7569.0  416.0  239.0  0.052098   \n",
       "GradientBoostingClassifier  0.947616  1115.0  7749.0  236.0  254.0  0.029555   \n",
       "ExtraTreeClassifier         0.964080  1098.0  7920.0   65.0  271.0  0.008140   \n",
       "BaggingClassifier           0.957879  1107.0  7853.0  132.0  262.0  0.016531   \n",
       "Neural Network-1            0.947188  1139.0  7721.0  264.0  230.0  0.033062   \n",
       "\n",
       "                                 FNR       auc       mcc  \n",
       "index                                                     \n",
       "KNeighborsClassifier        0.136596  0.895822  0.716725  \n",
       "LogisticRegression          0.124909  0.899787  0.716773  \n",
       "RandomForestClassifier      0.188459  0.899634  0.842118  \n",
       "AdaBoostClassifier          0.174580  0.886661  0.735911  \n",
       "GradientBoostingClassifier  0.185537  0.892454  0.789230  \n",
       "ExtraTreeClassifier         0.197955  0.896953  0.850451  \n",
       "BaggingClassifier           0.191381  0.896044  0.825910  \n",
       "Neural Network-1            0.168006  0.896044  0.790878  "
      ]
     },
     "metadata": {},
     "output_type": "display_data"
    }
   ],
   "source": [
    "table_80_80_train['index']=ind_columns\n",
    "table_80_80_test['index']=ind_columns\n",
    "\n",
    "\n",
    "table_80_80_test.set_index(['index'],drop=True,inplace=True)\n",
    "table_80_80_train.set_index(['index'],drop=True,inplace=True)\n",
    "\n",
    "print(\"Training Results\")\n",
    "display(table_80_80_train)\n",
    "print(\"Test Results\")\n",
    "display(table_80_80_test)"
   ]
  },
  {
   "cell_type": "markdown",
   "metadata": {},
   "source": [
    "### <a id='2.B' style=\"text-decoration : none; color : #000000;\"> B. Average Feature Importances</a>"
   ]
  },
  {
   "cell_type": "code",
   "execution_count": 23,
   "metadata": {},
   "outputs": [
    {
     "data": {
      "application/vnd.plotly.v1+json": {
       "config": {
        "linkText": "Export to plot.ly",
        "plotlyServerURL": "https://plot.ly",
        "showLink": true
       },
       "data": [
        {
         "marker": {
          "color": "rgb(158,202,225)",
          "line": {
           "color": "rgb(8,48,107)",
           "width": 1.5
          }
         },
         "opacity": 0.6,
         "orientation": "h",
         "text": [
          0.1981,
          0.1466,
          0.0647,
          0.047,
          0.0422,
          0.042,
          0.0376,
          0.0353,
          0.0329,
          0.0317,
          0.029,
          0.0289,
          0.0282,
          0.0238,
          0.0226,
          0.0219,
          0.0165,
          0.0152,
          0.0145,
          0.0126,
          0.0121,
          0.0118,
          0.0104,
          0.01,
          0.0082,
          0.0073,
          0.0068,
          0.0061,
          0.0056,
          0.005,
          0.005,
          0.0048,
          0.004,
          0.0035,
          0.0028,
          0.0024,
          0.0018,
          0.0008
         ],
         "textposition": "outside",
         "type": "bar",
         "uid": "f0d7d10c-bf99-4f26-863f-da057dbaac6b",
         "x": [
          0.19807353636560632,
          0.14658873052487903,
          0.06474460208253391,
          0.047012530973145575,
          0.0422289679948741,
          0.04196297702630904,
          0.03763364375299103,
          0.03534509499525011,
          0.03292420942075504,
          0.031691773270556924,
          0.028988050110262988,
          0.02892818942033964,
          0.028157538234081948,
          0.023827657173299377,
          0.02260376608553247,
          0.021858222426422894,
          0.016483614587599688,
          0.015235282920493842,
          0.014525629521053325,
          0.012586321912810762,
          0.012143379948102793,
          0.011849400073520677,
          0.01038488858237437,
          0.010014934968146517,
          0.008217279826345882,
          0.007347334512495594,
          0.006757472405313623,
          0.006115822038023808,
          0.005595101980657244,
          0.0050287733058108205,
          0.0049752627572930115,
          0.004800350476163241,
          0.00402876341534803,
          0.003500982926462723,
          0.0028230925078899256,
          0.002409205483578682,
          0.001822965658924126,
          0.0007846503347509031
         ],
         "y": [
          "url_extensions",
          "url_length",
          "url_char_.",
          "url_char_w",
          "url_char_s",
          "url_char_i",
          "url_char_a",
          "url_tlds",
          "url_char_t",
          "url_char_u",
          "url_char_z",
          "url_words_with_length_4",
          "url_char_r",
          "url_char_l",
          "url_char_b",
          "url_char_o",
          "url_extension_.com",
          "url_char_m",
          "url_char_e",
          "url_words_with_length_5",
          "url_char_n",
          "url_char_y",
          "url_char_g",
          "url_char_c",
          "url_char_d",
          "url_extension_.net",
          "url_words_with_length_7",
          "url_char_p",
          "url_char_f",
          "url_char_x",
          "url_char_h",
          "url_char_k",
          "url_words_with_length_6",
          "url_char_-",
          "url_char_v",
          "url_char_j",
          "url_words_with_length_8",
          "url_word_count_info"
         ]
        }
       ],
       "layout": {
        "autosize": false,
        "height": 1000,
        "width": 1000,
        "xaxis": {
         "tickfont": {
          "color": "black",
          "size": 12
         },
         "title": "Feature Importances"
        },
        "yaxis": {
         "automargin": true
        }
       }
      },
      "text/html": [
       "<div id=\"606fd371-4779-4423-9a2b-f56bdded6ba5\" style=\"height: 1000px; width: 1000px;\" class=\"plotly-graph-div\"></div><script type=\"text/javascript\">require([\"plotly\"], function(Plotly) { window.PLOTLYENV=window.PLOTLYENV || {};window.PLOTLYENV.BASE_URL=\"https://plot.ly\";Plotly.newPlot(\"606fd371-4779-4423-9a2b-f56bdded6ba5\", [{\"marker\": {\"color\": \"rgb(158,202,225)\", \"line\": {\"color\": \"rgb(8,48,107)\", \"width\": 1.5}}, \"opacity\": 0.6, \"orientation\": \"h\", \"text\": [0.1981, 0.1466, 0.0647, 0.047, 0.0422, 0.042, 0.0376, 0.0353, 0.0329, 0.0317, 0.029, 0.0289, 0.0282, 0.0238, 0.0226, 0.0219, 0.0165, 0.0152, 0.0145, 0.0126, 0.0121, 0.0118, 0.0104, 0.01, 0.0082, 0.0073, 0.0068, 0.0061, 0.0056, 0.005, 0.005, 0.0048, 0.004, 0.0035, 0.0028, 0.0024, 0.0018, 0.0008], \"textposition\": \"outside\", \"x\": [0.19807353636560632, 0.14658873052487903, 0.06474460208253391, 0.047012530973145575, 0.0422289679948741, 0.04196297702630904, 0.03763364375299103, 0.03534509499525011, 0.03292420942075504, 0.031691773270556924, 0.028988050110262988, 0.02892818942033964, 0.028157538234081948, 0.023827657173299377, 0.02260376608553247, 0.021858222426422894, 0.016483614587599688, 0.015235282920493842, 0.014525629521053325, 0.012586321912810762, 0.012143379948102793, 0.011849400073520677, 0.01038488858237437, 0.010014934968146517, 0.008217279826345882, 0.007347334512495594, 0.006757472405313623, 0.006115822038023808, 0.005595101980657244, 0.0050287733058108205, 0.0049752627572930115, 0.004800350476163241, 0.00402876341534803, 0.003500982926462723, 0.0028230925078899256, 0.002409205483578682, 0.001822965658924126, 0.0007846503347509031], \"y\": [\"url_extensions\", \"url_length\", \"url_char_.\", \"url_char_w\", \"url_char_s\", \"url_char_i\", \"url_char_a\", \"url_tlds\", \"url_char_t\", \"url_char_u\", \"url_char_z\", \"url_words_with_length_4\", \"url_char_r\", \"url_char_l\", \"url_char_b\", \"url_char_o\", \"url_extension_.com\", \"url_char_m\", \"url_char_e\", \"url_words_with_length_5\", \"url_char_n\", \"url_char_y\", \"url_char_g\", \"url_char_c\", \"url_char_d\", \"url_extension_.net\", \"url_words_with_length_7\", \"url_char_p\", \"url_char_f\", \"url_char_x\", \"url_char_h\", \"url_char_k\", \"url_words_with_length_6\", \"url_char_-\", \"url_char_v\", \"url_char_j\", \"url_words_with_length_8\", \"url_word_count_info\"], \"type\": \"bar\", \"uid\": \"f0d7d10c-bf99-4f26-863f-da057dbaac6b\"}], {\"autosize\": false, \"height\": 1000, \"width\": 1000, \"xaxis\": {\"tickfont\": {\"color\": \"black\", \"size\": 12}, \"title\": \"Feature Importances\"}, \"yaxis\": {\"automargin\": true}}, {\"showLink\": true, \"linkText\": \"Export to plot.ly\", \"plotlyServerURL\": \"https://plot.ly\"})});</script>"
      ],
      "text/vnd.plotly.v1+html": [
       "<div id=\"606fd371-4779-4423-9a2b-f56bdded6ba5\" style=\"height: 1000px; width: 1000px;\" class=\"plotly-graph-div\"></div><script type=\"text/javascript\">require([\"plotly\"], function(Plotly) { window.PLOTLYENV=window.PLOTLYENV || {};window.PLOTLYENV.BASE_URL=\"https://plot.ly\";Plotly.newPlot(\"606fd371-4779-4423-9a2b-f56bdded6ba5\", [{\"marker\": {\"color\": \"rgb(158,202,225)\", \"line\": {\"color\": \"rgb(8,48,107)\", \"width\": 1.5}}, \"opacity\": 0.6, \"orientation\": \"h\", \"text\": [0.1981, 0.1466, 0.0647, 0.047, 0.0422, 0.042, 0.0376, 0.0353, 0.0329, 0.0317, 0.029, 0.0289, 0.0282, 0.0238, 0.0226, 0.0219, 0.0165, 0.0152, 0.0145, 0.0126, 0.0121, 0.0118, 0.0104, 0.01, 0.0082, 0.0073, 0.0068, 0.0061, 0.0056, 0.005, 0.005, 0.0048, 0.004, 0.0035, 0.0028, 0.0024, 0.0018, 0.0008], \"textposition\": \"outside\", \"x\": [0.19807353636560632, 0.14658873052487903, 0.06474460208253391, 0.047012530973145575, 0.0422289679948741, 0.04196297702630904, 0.03763364375299103, 0.03534509499525011, 0.03292420942075504, 0.031691773270556924, 0.028988050110262988, 0.02892818942033964, 0.028157538234081948, 0.023827657173299377, 0.02260376608553247, 0.021858222426422894, 0.016483614587599688, 0.015235282920493842, 0.014525629521053325, 0.012586321912810762, 0.012143379948102793, 0.011849400073520677, 0.01038488858237437, 0.010014934968146517, 0.008217279826345882, 0.007347334512495594, 0.006757472405313623, 0.006115822038023808, 0.005595101980657244, 0.0050287733058108205, 0.0049752627572930115, 0.004800350476163241, 0.00402876341534803, 0.003500982926462723, 0.0028230925078899256, 0.002409205483578682, 0.001822965658924126, 0.0007846503347509031], \"y\": [\"url_extensions\", \"url_length\", \"url_char_.\", \"url_char_w\", \"url_char_s\", \"url_char_i\", \"url_char_a\", \"url_tlds\", \"url_char_t\", \"url_char_u\", \"url_char_z\", \"url_words_with_length_4\", \"url_char_r\", \"url_char_l\", \"url_char_b\", \"url_char_o\", \"url_extension_.com\", \"url_char_m\", \"url_char_e\", \"url_words_with_length_5\", \"url_char_n\", \"url_char_y\", \"url_char_g\", \"url_char_c\", \"url_char_d\", \"url_extension_.net\", \"url_words_with_length_7\", \"url_char_p\", \"url_char_f\", \"url_char_x\", \"url_char_h\", \"url_char_k\", \"url_words_with_length_6\", \"url_char_-\", \"url_char_v\", \"url_char_j\", \"url_words_with_length_8\", \"url_word_count_info\"], \"type\": \"bar\", \"uid\": \"f0d7d10c-bf99-4f26-863f-da057dbaac6b\"}], {\"autosize\": false, \"height\": 1000, \"width\": 1000, \"xaxis\": {\"tickfont\": {\"color\": \"black\", \"size\": 12}, \"title\": \"Feature Importances\"}, \"yaxis\": {\"automargin\": true}}, {\"showLink\": true, \"linkText\": \"Export to plot.ly\", \"plotlyServerURL\": \"https://plot.ly\"})});</script>"
      ]
     },
     "metadata": {},
     "output_type": "display_data"
    }
   ],
   "source": [
    "feat_impt_plot(np.average(feat_imp,axis=0),columns)"
   ]
  },
  {
   "cell_type": "markdown",
   "metadata": {},
   "source": [
    "### <a id='3' style=\"text-decoration : none; color : #000000;\"> 3. Undersampling</a>"
   ]
  },
  {
   "cell_type": "code",
   "execution_count": 24,
   "metadata": {},
   "outputs": [
    {
     "name": "stdout",
     "output_type": "stream",
     "text": [
      "Shape after undersampling (11050, 38)\n"
     ]
    }
   ],
   "source": [
    "df_non=train[train.Target==0]\n",
    "df_mal=train[train.Target==1]\n",
    "\n",
    "df_non=df_non.sample(frac=len(df_mal)/len(df_non),random_state=0)\n",
    "df_u=df_non.append(df_mal)\n",
    "df_u.Target.value_counts() \n",
    "\n",
    "X_train=df_u[columns]\n",
    "X_train=scaler.transform(X_train)\n",
    "Y_train=df_u.Target.values\n",
    "\n",
    "print(\"Shape after undersampling\",X_train.shape)\n"
   ]
  },
  {
   "cell_type": "code",
   "execution_count": 25,
   "metadata": {
    "collapsed": true
   },
   "outputs": [],
   "source": [
    "## Table to store training and test measures so we can compare later\n",
    "table_80_90_train=pd.DataFrame(columns=['accuracy','TP','TN','FP','FN','FPR','FNR'])\n",
    "table_80_90_test=pd.DataFrame(columns=['accuracy','TP','TN','FP','FN','FPR','FNR','auc','mcc'])"
   ]
  },
  {
   "cell_type": "code",
   "execution_count": 26,
   "metadata": {
    "scrolled": false
   },
   "outputs": [
    {
     "name": "stdout",
     "output_type": "stream",
     "text": [
      "\u001b[1mK-Nearest Neighbors\u001b[0m\n",
      "Accuracy of the model for training data is: 0.915656108597\n",
      "Confusion Matrix for training data is:\n"
     ]
    },
    {
     "data": {
      "text/plain": [
       "Predicted  False  True  __all__\n",
       "Actual                         \n",
       "False       5409   116     5525\n",
       "True         816  4709     5525\n",
       "__all__     6225  4825    11050"
      ]
     },
     "metadata": {},
     "output_type": "display_data"
    },
    {
     "name": "stdout",
     "output_type": "stream",
     "text": [
      "Accuracy of the model for test data is: 0.944836433611\n",
      "Confusion Matrix for test data is:\n"
     ]
    },
    {
     "data": {
      "text/plain": [
       "Predicted  False  True  __all__\n",
       "Actual                         \n",
       "False       7726   259     7985\n",
       "True         257  1112     1369\n",
       "__all__     7983  1371     9354"
      ]
     },
     "metadata": {},
     "output_type": "display_data"
    },
    {
     "name": "stdout",
     "output_type": "stream",
     "text": [
      "\n",
      "\n",
      "\u001b[1mLogistic Regression\u001b[0m\n",
      "Accuracy of the model for training data is: 0.898552036199\n",
      "Confusion Matrix for training data is:\n"
     ]
    },
    {
     "data": {
      "text/plain": [
       "Predicted  False  True  __all__\n",
       "Actual                         \n",
       "False       5144   381     5525\n",
       "True         740  4785     5525\n",
       "__all__     5884  5166    11050"
      ]
     },
     "metadata": {},
     "output_type": "display_data"
    },
    {
     "name": "stdout",
     "output_type": "stream",
     "text": [
      "Accuracy of the model for test data is: 0.9201411161\n",
      "Confusion Matrix for test data is:\n"
     ]
    },
    {
     "data": {
      "text/plain": [
       "Predicted  False  True  __all__\n",
       "Actual                         \n",
       "False       7409   576     7985\n",
       "True         171  1198     1369\n",
       "__all__     7580  1774     9354"
      ]
     },
     "metadata": {},
     "output_type": "display_data"
    },
    {
     "name": "stdout",
     "output_type": "stream",
     "text": [
      "\n",
      "\n",
      "\u001b[1mRandomForest Classifier\u001b[0m\n",
      "Accuracy of the model for training data is: 0.990678733032\n",
      "Confusion Matrix for training data is:\n"
     ]
    },
    {
     "data": {
      "text/plain": [
       "Predicted  False  True  __all__\n",
       "Actual                         \n",
       "False       5515    10     5525\n",
       "True          93  5432     5525\n",
       "__all__     5608  5442    11050"
      ]
     },
     "metadata": {},
     "output_type": "display_data"
    },
    {
     "name": "stdout",
     "output_type": "stream",
     "text": [
      "Accuracy of the model for test data is: 0.938635877699\n",
      "Confusion Matrix for test data is:\n"
     ]
    },
    {
     "data": {
      "text/plain": [
       "Predicted  False  True  __all__\n",
       "Actual                         \n",
       "False       7592   393     7985\n",
       "True         181  1188     1369\n",
       "__all__     7773  1581     9354"
      ]
     },
     "metadata": {},
     "output_type": "display_data"
    },
    {
     "data": {
      "application/vnd.plotly.v1+json": {
       "config": {
        "linkText": "Export to plot.ly",
        "plotlyServerURL": "https://plot.ly",
        "showLink": true
       },
       "data": [
        {
         "marker": {
          "color": "rgb(158,202,225)",
          "line": {
           "color": "rgb(8,48,107)",
           "width": 1.5
          }
         },
         "opacity": 0.6,
         "orientation": "h",
         "text": [
          0.1915,
          0.1456,
          0.1174,
          0.0454,
          0.0351,
          0.0337,
          0.032,
          0.0311,
          0.0259,
          0.0253,
          0.0232,
          0.0171,
          0.0169,
          0.0163,
          0.0152,
          0.0149,
          0.0146,
          0.0144,
          0.0143,
          0.013,
          0.013,
          0.013,
          0.0127,
          0.0122,
          0.0117,
          0.0117,
          0.0111,
          0.0096,
          0.009,
          0.0089,
          0.0084,
          0.0083,
          0.0076,
          0.0067,
          0.0046,
          0.0043,
          0.0027,
          0.0017
         ],
         "textposition": "outside",
         "type": "bar",
         "uid": "ab80c2be-5d80-4dfc-8105-4f0e16cbfc56",
         "x": [
          0.1914512369840256,
          0.14564999307106158,
          0.11738324770951183,
          0.04544077619487384,
          0.03512550021739525,
          0.0336519879422192,
          0.03204354894051999,
          0.031098395945357526,
          0.025904466688126026,
          0.025261163118716463,
          0.023182169748301146,
          0.017067774156857934,
          0.016873291558487026,
          0.016288083036620625,
          0.015228595009061586,
          0.014909194886661948,
          0.014557064691913818,
          0.014448010450564385,
          0.014287753007843459,
          0.012990280069393692,
          0.012980521561406926,
          0.012964373346184027,
          0.01266844900780712,
          0.012238831214515928,
          0.011743562674457367,
          0.011715885586691099,
          0.011073943431293943,
          0.009613137043027423,
          0.008968598630740614,
          0.00892911116789208,
          0.008387313743191098,
          0.00833100642003269,
          0.007647748628869688,
          0.00666730903578332,
          0.004614445539791854,
          0.004293564983628539,
          0.0026674071476949822,
          0.0016522574094784287
         ],
         "y": [
          "url_length",
          "url_char_.",
          "url_extensions",
          "url_char_w",
          "url_char_z",
          "url_tlds",
          "url_words_with_length_4",
          "url_char_i",
          "url_char_e",
          "url_char_b",
          "url_char_o",
          "url_char_y",
          "url_extension_.com",
          "url_char_a",
          "url_char_c",
          "url_char_s",
          "url_char_n",
          "url_words_with_length_5",
          "url_char_x",
          "url_words_with_length_7",
          "url_char_t",
          "url_char_l",
          "url_char_u",
          "url_char_m",
          "url_char_r",
          "url_char_p",
          "url_char_d",
          "url_char_g",
          "url_char_k",
          "url_words_with_length_6",
          "url_char_h",
          "url_char_v",
          "url_char_f",
          "url_char_-",
          "url_char_j",
          "url_words_with_length_8",
          "url_extension_.net",
          "url_word_count_info"
         ]
        }
       ],
       "layout": {
        "autosize": false,
        "height": 1000,
        "width": 1000,
        "xaxis": {
         "tickfont": {
          "color": "black",
          "size": 12
         },
         "title": "Feature Importances"
        },
        "yaxis": {
         "automargin": true
        }
       }
      },
      "text/html": [
       "<div id=\"937731ee-3d79-4d74-880f-4baf8d06a80e\" style=\"height: 1000px; width: 1000px;\" class=\"plotly-graph-div\"></div><script type=\"text/javascript\">require([\"plotly\"], function(Plotly) { window.PLOTLYENV=window.PLOTLYENV || {};window.PLOTLYENV.BASE_URL=\"https://plot.ly\";Plotly.newPlot(\"937731ee-3d79-4d74-880f-4baf8d06a80e\", [{\"marker\": {\"color\": \"rgb(158,202,225)\", \"line\": {\"color\": \"rgb(8,48,107)\", \"width\": 1.5}}, \"opacity\": 0.6, \"orientation\": \"h\", \"text\": [0.1915, 0.1456, 0.1174, 0.0454, 0.0351, 0.0337, 0.032, 0.0311, 0.0259, 0.0253, 0.0232, 0.0171, 0.0169, 0.0163, 0.0152, 0.0149, 0.0146, 0.0144, 0.0143, 0.013, 0.013, 0.013, 0.0127, 0.0122, 0.0117, 0.0117, 0.0111, 0.0096, 0.009, 0.0089, 0.0084, 0.0083, 0.0076, 0.0067, 0.0046, 0.0043, 0.0027, 0.0017], \"textposition\": \"outside\", \"x\": [0.1914512369840256, 0.14564999307106158, 0.11738324770951183, 0.04544077619487384, 0.03512550021739525, 0.0336519879422192, 0.03204354894051999, 0.031098395945357526, 0.025904466688126026, 0.025261163118716463, 0.023182169748301146, 0.017067774156857934, 0.016873291558487026, 0.016288083036620625, 0.015228595009061586, 0.014909194886661948, 0.014557064691913818, 0.014448010450564385, 0.014287753007843459, 0.012990280069393692, 0.012980521561406926, 0.012964373346184027, 0.01266844900780712, 0.012238831214515928, 0.011743562674457367, 0.011715885586691099, 0.011073943431293943, 0.009613137043027423, 0.008968598630740614, 0.00892911116789208, 0.008387313743191098, 0.00833100642003269, 0.007647748628869688, 0.00666730903578332, 0.004614445539791854, 0.004293564983628539, 0.0026674071476949822, 0.0016522574094784287], \"y\": [\"url_length\", \"url_char_.\", \"url_extensions\", \"url_char_w\", \"url_char_z\", \"url_tlds\", \"url_words_with_length_4\", \"url_char_i\", \"url_char_e\", \"url_char_b\", \"url_char_o\", \"url_char_y\", \"url_extension_.com\", \"url_char_a\", \"url_char_c\", \"url_char_s\", \"url_char_n\", \"url_words_with_length_5\", \"url_char_x\", \"url_words_with_length_7\", \"url_char_t\", \"url_char_l\", \"url_char_u\", \"url_char_m\", \"url_char_r\", \"url_char_p\", \"url_char_d\", \"url_char_g\", \"url_char_k\", \"url_words_with_length_6\", \"url_char_h\", \"url_char_v\", \"url_char_f\", \"url_char_-\", \"url_char_j\", \"url_words_with_length_8\", \"url_extension_.net\", \"url_word_count_info\"], \"type\": \"bar\", \"uid\": \"ab80c2be-5d80-4dfc-8105-4f0e16cbfc56\"}], {\"autosize\": false, \"height\": 1000, \"width\": 1000, \"xaxis\": {\"tickfont\": {\"color\": \"black\", \"size\": 12}, \"title\": \"Feature Importances\"}, \"yaxis\": {\"automargin\": true}}, {\"showLink\": true, \"linkText\": \"Export to plot.ly\", \"plotlyServerURL\": \"https://plot.ly\"})});</script>"
      ],
      "text/vnd.plotly.v1+html": [
       "<div id=\"937731ee-3d79-4d74-880f-4baf8d06a80e\" style=\"height: 1000px; width: 1000px;\" class=\"plotly-graph-div\"></div><script type=\"text/javascript\">require([\"plotly\"], function(Plotly) { window.PLOTLYENV=window.PLOTLYENV || {};window.PLOTLYENV.BASE_URL=\"https://plot.ly\";Plotly.newPlot(\"937731ee-3d79-4d74-880f-4baf8d06a80e\", [{\"marker\": {\"color\": \"rgb(158,202,225)\", \"line\": {\"color\": \"rgb(8,48,107)\", \"width\": 1.5}}, \"opacity\": 0.6, \"orientation\": \"h\", \"text\": [0.1915, 0.1456, 0.1174, 0.0454, 0.0351, 0.0337, 0.032, 0.0311, 0.0259, 0.0253, 0.0232, 0.0171, 0.0169, 0.0163, 0.0152, 0.0149, 0.0146, 0.0144, 0.0143, 0.013, 0.013, 0.013, 0.0127, 0.0122, 0.0117, 0.0117, 0.0111, 0.0096, 0.009, 0.0089, 0.0084, 0.0083, 0.0076, 0.0067, 0.0046, 0.0043, 0.0027, 0.0017], \"textposition\": \"outside\", \"x\": [0.1914512369840256, 0.14564999307106158, 0.11738324770951183, 0.04544077619487384, 0.03512550021739525, 0.0336519879422192, 0.03204354894051999, 0.031098395945357526, 0.025904466688126026, 0.025261163118716463, 0.023182169748301146, 0.017067774156857934, 0.016873291558487026, 0.016288083036620625, 0.015228595009061586, 0.014909194886661948, 0.014557064691913818, 0.014448010450564385, 0.014287753007843459, 0.012990280069393692, 0.012980521561406926, 0.012964373346184027, 0.01266844900780712, 0.012238831214515928, 0.011743562674457367, 0.011715885586691099, 0.011073943431293943, 0.009613137043027423, 0.008968598630740614, 0.00892911116789208, 0.008387313743191098, 0.00833100642003269, 0.007647748628869688, 0.00666730903578332, 0.004614445539791854, 0.004293564983628539, 0.0026674071476949822, 0.0016522574094784287], \"y\": [\"url_length\", \"url_char_.\", \"url_extensions\", \"url_char_w\", \"url_char_z\", \"url_tlds\", \"url_words_with_length_4\", \"url_char_i\", \"url_char_e\", \"url_char_b\", \"url_char_o\", \"url_char_y\", \"url_extension_.com\", \"url_char_a\", \"url_char_c\", \"url_char_s\", \"url_char_n\", \"url_words_with_length_5\", \"url_char_x\", \"url_words_with_length_7\", \"url_char_t\", \"url_char_l\", \"url_char_u\", \"url_char_m\", \"url_char_r\", \"url_char_p\", \"url_char_d\", \"url_char_g\", \"url_char_k\", \"url_words_with_length_6\", \"url_char_h\", \"url_char_v\", \"url_char_f\", \"url_char_-\", \"url_char_j\", \"url_words_with_length_8\", \"url_extension_.net\", \"url_word_count_info\"], \"type\": \"bar\", \"uid\": \"ab80c2be-5d80-4dfc-8105-4f0e16cbfc56\"}], {\"autosize\": false, \"height\": 1000, \"width\": 1000, \"xaxis\": {\"tickfont\": {\"color\": \"black\", \"size\": 12}, \"title\": \"Feature Importances\"}, \"yaxis\": {\"automargin\": true}}, {\"showLink\": true, \"linkText\": \"Export to plot.ly\", \"plotlyServerURL\": \"https://plot.ly\"})});</script>"
      ]
     },
     "metadata": {},
     "output_type": "display_data"
    },
    {
     "name": "stdout",
     "output_type": "stream",
     "text": [
      "\n",
      "\n",
      "\u001b[1mAdaoost Classifier\u001b[0m\n",
      "Accuracy of the model for training data is: 0.891945701357\n",
      "Confusion Matrix for training data is:\n"
     ]
    },
    {
     "data": {
      "text/plain": [
       "Predicted  False  True  __all__\n",
       "Actual                         \n",
       "False       5056   469     5525\n",
       "True         725  4800     5525\n",
       "__all__     5781  5269    11050"
      ]
     },
     "metadata": {},
     "output_type": "display_data"
    },
    {
     "name": "stdout",
     "output_type": "stream",
     "text": [
      "Accuracy of the model for test data is: 0.902180885183\n",
      "Confusion Matrix for test data is:\n"
     ]
    },
    {
     "data": {
      "text/plain": [
       "Predicted  False  True  __all__\n",
       "Actual                         \n",
       "False       7242   743     7985\n",
       "True         172  1197     1369\n",
       "__all__     7414  1940     9354"
      ]
     },
     "metadata": {},
     "output_type": "display_data"
    },
    {
     "data": {
      "application/vnd.plotly.v1+json": {
       "config": {
        "linkText": "Export to plot.ly",
        "plotlyServerURL": "https://plot.ly",
        "showLink": true
       },
       "data": [
        {
         "marker": {
          "color": "rgb(158,202,225)",
          "line": {
           "color": "rgb(8,48,107)",
           "width": 1.5
          }
         },
         "opacity": 0.6,
         "orientation": "h",
         "text": [
          0.3,
          0.1,
          0.1,
          0.08,
          0.06,
          0.04,
          0.04,
          0.02,
          0.02,
          0.02,
          0.02,
          0.02,
          0.02,
          0.02,
          0.02,
          0.02,
          0.02,
          0.02,
          0.02,
          0.02,
          0.02,
          0,
          0,
          0,
          0,
          0,
          0,
          0,
          0,
          0,
          0,
          0,
          0,
          0,
          0,
          0,
          0,
          0
         ],
         "textposition": "outside",
         "type": "bar",
         "uid": "a2780a96-373e-4786-89ea-7fa14da998f8",
         "x": [
          0.3,
          0.1,
          0.1,
          0.08,
          0.06,
          0.04,
          0.04,
          0.02,
          0.02,
          0.02,
          0.02,
          0.02,
          0.02,
          0.02,
          0.02,
          0.02,
          0.02,
          0.02,
          0.02,
          0.02,
          0.02,
          0,
          0,
          0,
          0,
          0,
          0,
          0,
          0,
          0,
          0,
          0,
          0,
          0,
          0,
          0,
          0,
          0
         ],
         "y": [
          "url_length",
          "url_char_w",
          "url_tlds",
          "url_extensions",
          "url_words_with_length_4",
          "url_char_r",
          "url_char_o",
          "url_char_l",
          "url_char_n",
          "url_char_x",
          "url_extension_.com",
          "url_char_t",
          "url_char_.",
          "url_extension_.net",
          "url_char_y",
          "url_char_m",
          "url_char_z",
          "url_char_g",
          "url_char_f",
          "url_char_b",
          "url_char_a",
          "url_words_with_length_5",
          "url_words_with_length_6",
          "url_word_count_info",
          "url_words_with_length_7",
          "url_char_-",
          "url_char_s",
          "url_char_v",
          "url_char_u",
          "url_char_p",
          "url_char_k",
          "url_char_j",
          "url_char_i",
          "url_char_h",
          "url_char_e",
          "url_char_d",
          "url_char_c",
          "url_words_with_length_8"
         ]
        }
       ],
       "layout": {
        "autosize": false,
        "height": 1000,
        "width": 1000,
        "xaxis": {
         "tickfont": {
          "color": "black",
          "size": 12
         },
         "title": "Feature Importances"
        },
        "yaxis": {
         "automargin": true
        }
       }
      },
      "text/html": [
       "<div id=\"2456f32f-b825-4bd7-9b7f-c53c2e8984a1\" style=\"height: 1000px; width: 1000px;\" class=\"plotly-graph-div\"></div><script type=\"text/javascript\">require([\"plotly\"], function(Plotly) { window.PLOTLYENV=window.PLOTLYENV || {};window.PLOTLYENV.BASE_URL=\"https://plot.ly\";Plotly.newPlot(\"2456f32f-b825-4bd7-9b7f-c53c2e8984a1\", [{\"marker\": {\"color\": \"rgb(158,202,225)\", \"line\": {\"color\": \"rgb(8,48,107)\", \"width\": 1.5}}, \"opacity\": 0.6, \"orientation\": \"h\", \"text\": [0.3, 0.1, 0.1, 0.08, 0.06, 0.04, 0.04, 0.02, 0.02, 0.02, 0.02, 0.02, 0.02, 0.02, 0.02, 0.02, 0.02, 0.02, 0.02, 0.02, 0.02, 0.0, 0.0, 0.0, 0.0, 0.0, 0.0, 0.0, 0.0, 0.0, 0.0, 0.0, 0.0, 0.0, 0.0, 0.0, 0.0, 0.0], \"textposition\": \"outside\", \"x\": [0.3, 0.1, 0.1, 0.08, 0.06, 0.04, 0.04, 0.02, 0.02, 0.02, 0.02, 0.02, 0.02, 0.02, 0.02, 0.02, 0.02, 0.02, 0.02, 0.02, 0.02, 0.0, 0.0, 0.0, 0.0, 0.0, 0.0, 0.0, 0.0, 0.0, 0.0, 0.0, 0.0, 0.0, 0.0, 0.0, 0.0, 0.0], \"y\": [\"url_length\", \"url_char_w\", \"url_tlds\", \"url_extensions\", \"url_words_with_length_4\", \"url_char_r\", \"url_char_o\", \"url_char_l\", \"url_char_n\", \"url_char_x\", \"url_extension_.com\", \"url_char_t\", \"url_char_.\", \"url_extension_.net\", \"url_char_y\", \"url_char_m\", \"url_char_z\", \"url_char_g\", \"url_char_f\", \"url_char_b\", \"url_char_a\", \"url_words_with_length_5\", \"url_words_with_length_6\", \"url_word_count_info\", \"url_words_with_length_7\", \"url_char_-\", \"url_char_s\", \"url_char_v\", \"url_char_u\", \"url_char_p\", \"url_char_k\", \"url_char_j\", \"url_char_i\", \"url_char_h\", \"url_char_e\", \"url_char_d\", \"url_char_c\", \"url_words_with_length_8\"], \"type\": \"bar\", \"uid\": \"a2780a96-373e-4786-89ea-7fa14da998f8\"}], {\"autosize\": false, \"height\": 1000, \"width\": 1000, \"xaxis\": {\"tickfont\": {\"color\": \"black\", \"size\": 12}, \"title\": \"Feature Importances\"}, \"yaxis\": {\"automargin\": true}}, {\"showLink\": true, \"linkText\": \"Export to plot.ly\", \"plotlyServerURL\": \"https://plot.ly\"})});</script>"
      ],
      "text/vnd.plotly.v1+html": [
       "<div id=\"2456f32f-b825-4bd7-9b7f-c53c2e8984a1\" style=\"height: 1000px; width: 1000px;\" class=\"plotly-graph-div\"></div><script type=\"text/javascript\">require([\"plotly\"], function(Plotly) { window.PLOTLYENV=window.PLOTLYENV || {};window.PLOTLYENV.BASE_URL=\"https://plot.ly\";Plotly.newPlot(\"2456f32f-b825-4bd7-9b7f-c53c2e8984a1\", [{\"marker\": {\"color\": \"rgb(158,202,225)\", \"line\": {\"color\": \"rgb(8,48,107)\", \"width\": 1.5}}, \"opacity\": 0.6, \"orientation\": \"h\", \"text\": [0.3, 0.1, 0.1, 0.08, 0.06, 0.04, 0.04, 0.02, 0.02, 0.02, 0.02, 0.02, 0.02, 0.02, 0.02, 0.02, 0.02, 0.02, 0.02, 0.02, 0.02, 0.0, 0.0, 0.0, 0.0, 0.0, 0.0, 0.0, 0.0, 0.0, 0.0, 0.0, 0.0, 0.0, 0.0, 0.0, 0.0, 0.0], \"textposition\": \"outside\", \"x\": [0.3, 0.1, 0.1, 0.08, 0.06, 0.04, 0.04, 0.02, 0.02, 0.02, 0.02, 0.02, 0.02, 0.02, 0.02, 0.02, 0.02, 0.02, 0.02, 0.02, 0.02, 0.0, 0.0, 0.0, 0.0, 0.0, 0.0, 0.0, 0.0, 0.0, 0.0, 0.0, 0.0, 0.0, 0.0, 0.0, 0.0, 0.0], \"y\": [\"url_length\", \"url_char_w\", \"url_tlds\", \"url_extensions\", \"url_words_with_length_4\", \"url_char_r\", \"url_char_o\", \"url_char_l\", \"url_char_n\", \"url_char_x\", \"url_extension_.com\", \"url_char_t\", \"url_char_.\", \"url_extension_.net\", \"url_char_y\", \"url_char_m\", \"url_char_z\", \"url_char_g\", \"url_char_f\", \"url_char_b\", \"url_char_a\", \"url_words_with_length_5\", \"url_words_with_length_6\", \"url_word_count_info\", \"url_words_with_length_7\", \"url_char_-\", \"url_char_s\", \"url_char_v\", \"url_char_u\", \"url_char_p\", \"url_char_k\", \"url_char_j\", \"url_char_i\", \"url_char_h\", \"url_char_e\", \"url_char_d\", \"url_char_c\", \"url_words_with_length_8\"], \"type\": \"bar\", \"uid\": \"a2780a96-373e-4786-89ea-7fa14da998f8\"}], {\"autosize\": false, \"height\": 1000, \"width\": 1000, \"xaxis\": {\"tickfont\": {\"color\": \"black\", \"size\": 12}, \"title\": \"Feature Importances\"}, \"yaxis\": {\"automargin\": true}}, {\"showLink\": true, \"linkText\": \"Export to plot.ly\", \"plotlyServerURL\": \"https://plot.ly\"})});</script>"
      ]
     },
     "metadata": {},
     "output_type": "display_data"
    },
    {
     "name": "stdout",
     "output_type": "stream",
     "text": [
      "\n",
      "\n",
      "\u001b[1mGradientBoosting Classifier\u001b[0m\n",
      "Accuracy of the model for training data is: 0.90742081448\n",
      "Confusion Matrix for training data is:\n"
     ]
    },
    {
     "data": {
      "text/plain": [
       "Predicted  False  True  __all__\n",
       "Actual                         \n",
       "False       5229   296     5525\n",
       "True         727  4798     5525\n",
       "__all__     5956  5094    11050"
      ]
     },
     "metadata": {},
     "output_type": "display_data"
    },
    {
     "name": "stdout",
     "output_type": "stream",
     "text": [
      "Accuracy of the model for test data is: 0.926448578148\n",
      "Confusion Matrix for test data is:\n"
     ]
    },
    {
     "data": {
      "text/plain": [
       "Predicted  False  True  __all__\n",
       "Actual                         \n",
       "False       7477   508     7985\n",
       "True         180  1189     1369\n",
       "__all__     7657  1697     9354"
      ]
     },
     "metadata": {},
     "output_type": "display_data"
    },
    {
     "data": {
      "application/vnd.plotly.v1+json": {
       "config": {
        "linkText": "Export to plot.ly",
        "plotlyServerURL": "https://plot.ly",
        "showLink": true
       },
       "data": [
        {
         "marker": {
          "color": "rgb(158,202,225)",
          "line": {
           "color": "rgb(8,48,107)",
           "width": 1.5
          }
         },
         "opacity": 0.6,
         "orientation": "h",
         "text": [
          0.4366,
          0.3067,
          0.0816,
          0.0474,
          0.0322,
          0.0306,
          0.0135,
          0.0131,
          0.009,
          0.0087,
          0.0016,
          0.0015,
          0.0014,
          0.0014,
          0.0013,
          0.0013,
          0.0011,
          0.001,
          0.001,
          0.001,
          0.0009,
          0.0009,
          0.0009,
          0.0008,
          0.0007,
          0.0007,
          0.0006,
          0.0006,
          0.0005,
          0.0004,
          0.0002,
          0.0002,
          0.0002,
          0.0002,
          0.0001,
          0.0001,
          0.0001,
          0.0001
         ],
         "textposition": "outside",
         "type": "bar",
         "uid": "80c819af-4870-4b50-996f-af4c97f4a436",
         "x": [
          0.4365555576198481,
          0.3067150778116909,
          0.08162694578596888,
          0.047384521651629936,
          0.0321582005762534,
          0.030586957145765557,
          0.01348251891081236,
          0.013119009089570864,
          0.008994315180050812,
          0.008690331838065295,
          0.0015500702644649382,
          0.0015234108055801228,
          0.0013861233116644,
          0.0013624059591693255,
          0.0013467552322828983,
          0.0013050098577283259,
          0.0011130107040804547,
          0.0010339652652113958,
          0.0010094620177631944,
          0.0009935346607372738,
          0.000886500228356344,
          0.000886168272742657,
          0.0008735286077091564,
          0.0007867235416624427,
          0.0007437183746284949,
          0.0006901394731630291,
          0.000630937818959104,
          0.0005862943305745571,
          0.0004679994915623642,
          0.00036149420561801927,
          0.0002233290912811526,
          0.00018352724901443302,
          0.00017648274219836236,
          0.00016233020415375583,
          0.00014453606318897485,
          0.00011009008309019714,
          8.814927739364104e-05,
          6.086725636496454e-05
         ],
         "y": [
          "url_length",
          "url_extensions",
          "url_char_.",
          "url_char_z",
          "url_char_w",
          "url_char_b",
          "url_extension_.com",
          "url_words_with_length_4",
          "url_char_o",
          "url_tlds",
          "url_char_e",
          "url_char_m",
          "url_words_with_length_6",
          "url_char_c",
          "url_char_y",
          "url_char_i",
          "url_char_-",
          "url_char_a",
          "url_char_r",
          "url_char_l",
          "url_char_n",
          "url_char_d",
          "url_char_x",
          "url_char_f",
          "url_char_p",
          "url_char_g",
          "url_word_count_info",
          "url_extension_.net",
          "url_words_with_length_5",
          "url_char_u",
          "url_char_h",
          "url_char_k",
          "url_char_j",
          "url_words_with_length_8",
          "url_char_t",
          "url_char_s",
          "url_char_v",
          "url_words_with_length_7"
         ]
        }
       ],
       "layout": {
        "autosize": false,
        "height": 1000,
        "width": 1000,
        "xaxis": {
         "tickfont": {
          "color": "black",
          "size": 12
         },
         "title": "Feature Importances"
        },
        "yaxis": {
         "automargin": true
        }
       }
      },
      "text/html": [
       "<div id=\"3bd457a1-aa8b-4872-86e6-7a8fa99885eb\" style=\"height: 1000px; width: 1000px;\" class=\"plotly-graph-div\"></div><script type=\"text/javascript\">require([\"plotly\"], function(Plotly) { window.PLOTLYENV=window.PLOTLYENV || {};window.PLOTLYENV.BASE_URL=\"https://plot.ly\";Plotly.newPlot(\"3bd457a1-aa8b-4872-86e6-7a8fa99885eb\", [{\"marker\": {\"color\": \"rgb(158,202,225)\", \"line\": {\"color\": \"rgb(8,48,107)\", \"width\": 1.5}}, \"opacity\": 0.6, \"orientation\": \"h\", \"text\": [0.4366, 0.3067, 0.0816, 0.0474, 0.0322, 0.0306, 0.0135, 0.0131, 0.009, 0.0087, 0.0016, 0.0015, 0.0014, 0.0014, 0.0013, 0.0013, 0.0011, 0.001, 0.001, 0.001, 0.0009, 0.0009, 0.0009, 0.0008, 0.0007, 0.0007, 0.0006, 0.0006, 0.0005, 0.0004, 0.0002, 0.0002, 0.0002, 0.0002, 0.0001, 0.0001, 0.0001, 0.0001], \"textposition\": \"outside\", \"x\": [0.4365555576198481, 0.3067150778116909, 0.08162694578596888, 0.047384521651629936, 0.0321582005762534, 0.030586957145765557, 0.01348251891081236, 0.013119009089570864, 0.008994315180050812, 0.008690331838065295, 0.0015500702644649382, 0.0015234108055801228, 0.0013861233116644, 0.0013624059591693255, 0.0013467552322828983, 0.0013050098577283259, 0.0011130107040804547, 0.0010339652652113958, 0.0010094620177631944, 0.0009935346607372738, 0.000886500228356344, 0.000886168272742657, 0.0008735286077091564, 0.0007867235416624427, 0.0007437183746284949, 0.0006901394731630291, 0.000630937818959104, 0.0005862943305745571, 0.0004679994915623642, 0.00036149420561801927, 0.0002233290912811526, 0.00018352724901443302, 0.00017648274219836236, 0.00016233020415375583, 0.00014453606318897485, 0.00011009008309019714, 8.814927739364104e-05, 6.086725636496454e-05], \"y\": [\"url_length\", \"url_extensions\", \"url_char_.\", \"url_char_z\", \"url_char_w\", \"url_char_b\", \"url_extension_.com\", \"url_words_with_length_4\", \"url_char_o\", \"url_tlds\", \"url_char_e\", \"url_char_m\", \"url_words_with_length_6\", \"url_char_c\", \"url_char_y\", \"url_char_i\", \"url_char_-\", \"url_char_a\", \"url_char_r\", \"url_char_l\", \"url_char_n\", \"url_char_d\", \"url_char_x\", \"url_char_f\", \"url_char_p\", \"url_char_g\", \"url_word_count_info\", \"url_extension_.net\", \"url_words_with_length_5\", \"url_char_u\", \"url_char_h\", \"url_char_k\", \"url_char_j\", \"url_words_with_length_8\", \"url_char_t\", \"url_char_s\", \"url_char_v\", \"url_words_with_length_7\"], \"type\": \"bar\", \"uid\": \"80c819af-4870-4b50-996f-af4c97f4a436\"}], {\"autosize\": false, \"height\": 1000, \"width\": 1000, \"xaxis\": {\"tickfont\": {\"color\": \"black\", \"size\": 12}, \"title\": \"Feature Importances\"}, \"yaxis\": {\"automargin\": true}}, {\"showLink\": true, \"linkText\": \"Export to plot.ly\", \"plotlyServerURL\": \"https://plot.ly\"})});</script>"
      ],
      "text/vnd.plotly.v1+html": [
       "<div id=\"3bd457a1-aa8b-4872-86e6-7a8fa99885eb\" style=\"height: 1000px; width: 1000px;\" class=\"plotly-graph-div\"></div><script type=\"text/javascript\">require([\"plotly\"], function(Plotly) { window.PLOTLYENV=window.PLOTLYENV || {};window.PLOTLYENV.BASE_URL=\"https://plot.ly\";Plotly.newPlot(\"3bd457a1-aa8b-4872-86e6-7a8fa99885eb\", [{\"marker\": {\"color\": \"rgb(158,202,225)\", \"line\": {\"color\": \"rgb(8,48,107)\", \"width\": 1.5}}, \"opacity\": 0.6, \"orientation\": \"h\", \"text\": [0.4366, 0.3067, 0.0816, 0.0474, 0.0322, 0.0306, 0.0135, 0.0131, 0.009, 0.0087, 0.0016, 0.0015, 0.0014, 0.0014, 0.0013, 0.0013, 0.0011, 0.001, 0.001, 0.001, 0.0009, 0.0009, 0.0009, 0.0008, 0.0007, 0.0007, 0.0006, 0.0006, 0.0005, 0.0004, 0.0002, 0.0002, 0.0002, 0.0002, 0.0001, 0.0001, 0.0001, 0.0001], \"textposition\": \"outside\", \"x\": [0.4365555576198481, 0.3067150778116909, 0.08162694578596888, 0.047384521651629936, 0.0321582005762534, 0.030586957145765557, 0.01348251891081236, 0.013119009089570864, 0.008994315180050812, 0.008690331838065295, 0.0015500702644649382, 0.0015234108055801228, 0.0013861233116644, 0.0013624059591693255, 0.0013467552322828983, 0.0013050098577283259, 0.0011130107040804547, 0.0010339652652113958, 0.0010094620177631944, 0.0009935346607372738, 0.000886500228356344, 0.000886168272742657, 0.0008735286077091564, 0.0007867235416624427, 0.0007437183746284949, 0.0006901394731630291, 0.000630937818959104, 0.0005862943305745571, 0.0004679994915623642, 0.00036149420561801927, 0.0002233290912811526, 0.00018352724901443302, 0.00017648274219836236, 0.00016233020415375583, 0.00014453606318897485, 0.00011009008309019714, 8.814927739364104e-05, 6.086725636496454e-05], \"y\": [\"url_length\", \"url_extensions\", \"url_char_.\", \"url_char_z\", \"url_char_w\", \"url_char_b\", \"url_extension_.com\", \"url_words_with_length_4\", \"url_char_o\", \"url_tlds\", \"url_char_e\", \"url_char_m\", \"url_words_with_length_6\", \"url_char_c\", \"url_char_y\", \"url_char_i\", \"url_char_-\", \"url_char_a\", \"url_char_r\", \"url_char_l\", \"url_char_n\", \"url_char_d\", \"url_char_x\", \"url_char_f\", \"url_char_p\", \"url_char_g\", \"url_word_count_info\", \"url_extension_.net\", \"url_words_with_length_5\", \"url_char_u\", \"url_char_h\", \"url_char_k\", \"url_char_j\", \"url_words_with_length_8\", \"url_char_t\", \"url_char_s\", \"url_char_v\", \"url_words_with_length_7\"], \"type\": \"bar\", \"uid\": \"80c819af-4870-4b50-996f-af4c97f4a436\"}], {\"autosize\": false, \"height\": 1000, \"width\": 1000, \"xaxis\": {\"tickfont\": {\"color\": \"black\", \"size\": 12}, \"title\": \"Feature Importances\"}, \"yaxis\": {\"automargin\": true}}, {\"showLink\": true, \"linkText\": \"Export to plot.ly\", \"plotlyServerURL\": \"https://plot.ly\"})});</script>"
      ]
     },
     "metadata": {},
     "output_type": "display_data"
    },
    {
     "name": "stdout",
     "output_type": "stream",
     "text": [
      "\n",
      "\n",
      "\u001b[1mExtraTree Classifier\u001b[0m\n",
      "Accuracy of the model for training data is: 0.999909502262\n",
      "Confusion Matrix for training data is:\n"
     ]
    },
    {
     "data": {
      "text/plain": [
       "Predicted  False  True  __all__\n",
       "Actual                         \n",
       "False       5525     0     5525\n",
       "True           1  5524     5525\n",
       "__all__     5526  5524    11050"
      ]
     },
     "metadata": {},
     "output_type": "display_data"
    },
    {
     "name": "stdout",
     "output_type": "stream",
     "text": [
      "Accuracy of the model for test data is: 0.936283942698\n",
      "Confusion Matrix for test data is:\n"
     ]
    },
    {
     "data": {
      "text/plain": [
       "Predicted  False  True  __all__\n",
       "Actual                         \n",
       "False       7570   415     7985\n",
       "True         181  1188     1369\n",
       "__all__     7751  1603     9354"
      ]
     },
     "metadata": {},
     "output_type": "display_data"
    },
    {
     "data": {
      "application/vnd.plotly.v1+json": {
       "config": {
        "linkText": "Export to plot.ly",
        "plotlyServerURL": "https://plot.ly",
        "showLink": true
       },
       "data": [
        {
         "marker": {
          "color": "rgb(158,202,225)",
          "line": {
           "color": "rgb(8,48,107)",
           "width": 1.5
          }
         },
         "opacity": 0.6,
         "orientation": "h",
         "text": [
          0.0978,
          0.0876,
          0.0871,
          0.0865,
          0.0611,
          0.0374,
          0.0365,
          0.0337,
          0.0271,
          0.0243,
          0.0225,
          0.0224,
          0.0203,
          0.0203,
          0.0202,
          0.0194,
          0.0189,
          0.0184,
          0.0175,
          0.0175,
          0.0168,
          0.0166,
          0.0164,
          0.0163,
          0.0159,
          0.0151,
          0.015,
          0.0129,
          0.0126,
          0.0121,
          0.0121,
          0.0118,
          0.0117,
          0.0116,
          0.0101,
          0.0074,
          0.007,
          0.0021
         ],
         "textposition": "outside",
         "type": "bar",
         "uid": "93459057-1538-4670-ae89-53916817e024",
         "x": [
          0.09776635309672028,
          0.08755227220487717,
          0.08711659120310107,
          0.08649180697936812,
          0.061116702579571955,
          0.037358156349659805,
          0.03645798118590033,
          0.03372237017738806,
          0.0271421894297132,
          0.024296112581438215,
          0.0225414293638547,
          0.022381829869813456,
          0.020324785959853802,
          0.020287559122132554,
          0.02024489075836842,
          0.0193542409335338,
          0.018933588323733284,
          0.0183693692171384,
          0.01754312756912812,
          0.01746908184264165,
          0.016828453786041267,
          0.01662953791403187,
          0.016352583219814913,
          0.016259529221140805,
          0.015903492443233472,
          0.015114392464774574,
          0.015028263581644571,
          0.012881589661154259,
          0.012593060768750353,
          0.012127138262012917,
          0.012091030024941746,
          0.011827386018616163,
          0.011693898571747133,
          0.011551846684068553,
          0.010145389438241661,
          0.0074208260727423175,
          0.007016456895840443,
          0.0020646862232666097
         ],
         "y": [
          "url_char_.",
          "url_length",
          "url_extensions",
          "url_char_w",
          "url_tlds",
          "url_char_z",
          "url_char_i",
          "url_extension_.com",
          "url_char_e",
          "url_words_with_length_4",
          "url_char_b",
          "url_char_o",
          "url_char_s",
          "url_char_n",
          "url_char_y",
          "url_char_u",
          "url_char_p",
          "url_char_m",
          "url_char_a",
          "url_char_c",
          "url_char_t",
          "url_char_l",
          "url_words_with_length_5",
          "url_char_d",
          "url_char_r",
          "url_char_k",
          "url_words_with_length_7",
          "url_char_f",
          "url_char_x",
          "url_char_g",
          "url_words_with_length_6",
          "url_char_-",
          "url_words_with_length_8",
          "url_char_h",
          "url_char_v",
          "url_extension_.net",
          "url_char_j",
          "url_word_count_info"
         ]
        }
       ],
       "layout": {
        "autosize": false,
        "height": 1000,
        "width": 1000,
        "xaxis": {
         "tickfont": {
          "color": "black",
          "size": 12
         },
         "title": "Feature Importances"
        },
        "yaxis": {
         "automargin": true
        }
       }
      },
      "text/html": [
       "<div id=\"ed4f5571-1fbe-4e1b-8429-7e2107e0cc96\" style=\"height: 1000px; width: 1000px;\" class=\"plotly-graph-div\"></div><script type=\"text/javascript\">require([\"plotly\"], function(Plotly) { window.PLOTLYENV=window.PLOTLYENV || {};window.PLOTLYENV.BASE_URL=\"https://plot.ly\";Plotly.newPlot(\"ed4f5571-1fbe-4e1b-8429-7e2107e0cc96\", [{\"marker\": {\"color\": \"rgb(158,202,225)\", \"line\": {\"color\": \"rgb(8,48,107)\", \"width\": 1.5}}, \"opacity\": 0.6, \"orientation\": \"h\", \"text\": [0.0978, 0.0876, 0.0871, 0.0865, 0.0611, 0.0374, 0.0365, 0.0337, 0.0271, 0.0243, 0.0225, 0.0224, 0.0203, 0.0203, 0.0202, 0.0194, 0.0189, 0.0184, 0.0175, 0.0175, 0.0168, 0.0166, 0.0164, 0.0163, 0.0159, 0.0151, 0.015, 0.0129, 0.0126, 0.0121, 0.0121, 0.0118, 0.0117, 0.0116, 0.0101, 0.0074, 0.007, 0.0021], \"textposition\": \"outside\", \"x\": [0.09776635309672028, 0.08755227220487717, 0.08711659120310107, 0.08649180697936812, 0.061116702579571955, 0.037358156349659805, 0.03645798118590033, 0.03372237017738806, 0.0271421894297132, 0.024296112581438215, 0.0225414293638547, 0.022381829869813456, 0.020324785959853802, 0.020287559122132554, 0.02024489075836842, 0.0193542409335338, 0.018933588323733284, 0.0183693692171384, 0.01754312756912812, 0.01746908184264165, 0.016828453786041267, 0.01662953791403187, 0.016352583219814913, 0.016259529221140805, 0.015903492443233472, 0.015114392464774574, 0.015028263581644571, 0.012881589661154259, 0.012593060768750353, 0.012127138262012917, 0.012091030024941746, 0.011827386018616163, 0.011693898571747133, 0.011551846684068553, 0.010145389438241661, 0.0074208260727423175, 0.007016456895840443, 0.0020646862232666097], \"y\": [\"url_char_.\", \"url_length\", \"url_extensions\", \"url_char_w\", \"url_tlds\", \"url_char_z\", \"url_char_i\", \"url_extension_.com\", \"url_char_e\", \"url_words_with_length_4\", \"url_char_b\", \"url_char_o\", \"url_char_s\", \"url_char_n\", \"url_char_y\", \"url_char_u\", \"url_char_p\", \"url_char_m\", \"url_char_a\", \"url_char_c\", \"url_char_t\", \"url_char_l\", \"url_words_with_length_5\", \"url_char_d\", \"url_char_r\", \"url_char_k\", \"url_words_with_length_7\", \"url_char_f\", \"url_char_x\", \"url_char_g\", \"url_words_with_length_6\", \"url_char_-\", \"url_words_with_length_8\", \"url_char_h\", \"url_char_v\", \"url_extension_.net\", \"url_char_j\", \"url_word_count_info\"], \"type\": \"bar\", \"uid\": \"93459057-1538-4670-ae89-53916817e024\"}], {\"autosize\": false, \"height\": 1000, \"width\": 1000, \"xaxis\": {\"tickfont\": {\"color\": \"black\", \"size\": 12}, \"title\": \"Feature Importances\"}, \"yaxis\": {\"automargin\": true}}, {\"showLink\": true, \"linkText\": \"Export to plot.ly\", \"plotlyServerURL\": \"https://plot.ly\"})});</script>"
      ],
      "text/vnd.plotly.v1+html": [
       "<div id=\"ed4f5571-1fbe-4e1b-8429-7e2107e0cc96\" style=\"height: 1000px; width: 1000px;\" class=\"plotly-graph-div\"></div><script type=\"text/javascript\">require([\"plotly\"], function(Plotly) { window.PLOTLYENV=window.PLOTLYENV || {};window.PLOTLYENV.BASE_URL=\"https://plot.ly\";Plotly.newPlot(\"ed4f5571-1fbe-4e1b-8429-7e2107e0cc96\", [{\"marker\": {\"color\": \"rgb(158,202,225)\", \"line\": {\"color\": \"rgb(8,48,107)\", \"width\": 1.5}}, \"opacity\": 0.6, \"orientation\": \"h\", \"text\": [0.0978, 0.0876, 0.0871, 0.0865, 0.0611, 0.0374, 0.0365, 0.0337, 0.0271, 0.0243, 0.0225, 0.0224, 0.0203, 0.0203, 0.0202, 0.0194, 0.0189, 0.0184, 0.0175, 0.0175, 0.0168, 0.0166, 0.0164, 0.0163, 0.0159, 0.0151, 0.015, 0.0129, 0.0126, 0.0121, 0.0121, 0.0118, 0.0117, 0.0116, 0.0101, 0.0074, 0.007, 0.0021], \"textposition\": \"outside\", \"x\": [0.09776635309672028, 0.08755227220487717, 0.08711659120310107, 0.08649180697936812, 0.061116702579571955, 0.037358156349659805, 0.03645798118590033, 0.03372237017738806, 0.0271421894297132, 0.024296112581438215, 0.0225414293638547, 0.022381829869813456, 0.020324785959853802, 0.020287559122132554, 0.02024489075836842, 0.0193542409335338, 0.018933588323733284, 0.0183693692171384, 0.01754312756912812, 0.01746908184264165, 0.016828453786041267, 0.01662953791403187, 0.016352583219814913, 0.016259529221140805, 0.015903492443233472, 0.015114392464774574, 0.015028263581644571, 0.012881589661154259, 0.012593060768750353, 0.012127138262012917, 0.012091030024941746, 0.011827386018616163, 0.011693898571747133, 0.011551846684068553, 0.010145389438241661, 0.0074208260727423175, 0.007016456895840443, 0.0020646862232666097], \"y\": [\"url_char_.\", \"url_length\", \"url_extensions\", \"url_char_w\", \"url_tlds\", \"url_char_z\", \"url_char_i\", \"url_extension_.com\", \"url_char_e\", \"url_words_with_length_4\", \"url_char_b\", \"url_char_o\", \"url_char_s\", \"url_char_n\", \"url_char_y\", \"url_char_u\", \"url_char_p\", \"url_char_m\", \"url_char_a\", \"url_char_c\", \"url_char_t\", \"url_char_l\", \"url_words_with_length_5\", \"url_char_d\", \"url_char_r\", \"url_char_k\", \"url_words_with_length_7\", \"url_char_f\", \"url_char_x\", \"url_char_g\", \"url_words_with_length_6\", \"url_char_-\", \"url_words_with_length_8\", \"url_char_h\", \"url_char_v\", \"url_extension_.net\", \"url_char_j\", \"url_word_count_info\"], \"type\": \"bar\", \"uid\": \"93459057-1538-4670-ae89-53916817e024\"}], {\"autosize\": false, \"height\": 1000, \"width\": 1000, \"xaxis\": {\"tickfont\": {\"color\": \"black\", \"size\": 12}, \"title\": \"Feature Importances\"}, \"yaxis\": {\"automargin\": true}}, {\"showLink\": true, \"linkText\": \"Export to plot.ly\", \"plotlyServerURL\": \"https://plot.ly\"})});</script>"
      ]
     },
     "metadata": {},
     "output_type": "display_data"
    },
    {
     "name": "stdout",
     "output_type": "stream",
     "text": [
      "\n",
      "\n",
      "\u001b[1mBagging Classifier\u001b[0m\n",
      "Accuracy of the model for training data is: 0.990497737557\n",
      "Confusion Matrix for training data is:\n"
     ]
    },
    {
     "data": {
      "text/plain": [
       "Predicted  False  True  __all__\n",
       "Actual                         \n",
       "False       5518     7     5525\n",
       "True          98  5427     5525\n",
       "__all__     5616  5434    11050"
      ]
     },
     "metadata": {},
     "output_type": "display_data"
    },
    {
     "name": "stdout",
     "output_type": "stream",
     "text": [
      "Accuracy of the model for test data is: 0.930404105196\n",
      "Confusion Matrix for test data is:\n"
     ]
    },
    {
     "data": {
      "text/plain": [
       "Predicted  False  True  __all__\n",
       "Actual                         \n",
       "False       7518   467     7985\n",
       "True         184  1185     1369\n",
       "__all__     7702  1652     9354"
      ]
     },
     "metadata": {},
     "output_type": "display_data"
    },
    {
     "name": "stdout",
     "output_type": "stream",
     "text": [
      "\n",
      "\n",
      "\u001b[1mNeural Network-1\u001b[0m\n",
      "The accuracy of the model on training data is: 0.999457013575\n"
     ]
    },
    {
     "data": {
      "text/plain": [
       "Predicted  False  True  __all__\n",
       "Actual                         \n",
       "False       5525     0     5525\n",
       "True           6  5519     5525\n",
       "__all__     5531  5519    11050"
      ]
     },
     "metadata": {},
     "output_type": "display_data"
    },
    {
     "name": "stdout",
     "output_type": "stream",
     "text": [
      "The accuracy of the model on test data is: 0.889031430404\n"
     ]
    },
    {
     "data": {
      "text/plain": [
       "Predicted  False  True  __all__\n",
       "Actual                         \n",
       "False       7102   883     7985\n",
       "True         155  1214     1369\n",
       "__all__     7257  2097     9354"
      ]
     },
     "metadata": {},
     "output_type": "display_data"
    },
    {
     "name": "stdout",
     "output_type": "stream",
     "text": [
      "\n",
      "\n"
     ]
    }
   ],
   "source": [
    "feat_imp=[None]*4\n",
    "j=0\n",
    "for i in range(0,8):\n",
    "    if i>=2 and i<=5:\n",
    "        model,cm_train,cm_test,acc_train,acc_test,roc_auc,feat_imp[j],mcc=f[i](X_train,Y_train,scaled_X_test,test_Y,columns)\n",
    "        j=j+1\n",
    "    else:\n",
    "        model,cm_train,cm_test,acc_train,acc_test,roc_auc,mcc=f[i](X_train,Y_train,scaled_X_test,test_Y)\n",
    "    table_80_90_train.loc[i]=   ([acc_train,cm_train.TP,cm_train.TN,cm_train.FP,cm_train.FN,cm_train.FPR,cm_train.FNR])\n",
    "    table_80_90_test.loc[i] =   ([acc_test ,cm_test.TP, cm_test.TN, cm_test.FP, cm_test.FN, cm_test.FPR, cm_test.FNR,roc_auc,mcc])\n",
    "    print(\"\\n\")"
   ]
  },
  {
   "cell_type": "markdown",
   "metadata": {},
   "source": [
    "### <a id='3.A' style=\"text-decoration : none; color : #000000;\"> A. Results</a>"
   ]
  },
  {
   "cell_type": "code",
   "execution_count": 27,
   "metadata": {},
   "outputs": [
    {
     "data": {
      "application/vnd.plotly.v1+json": {
       "config": {
        "linkText": "Export to plot.ly",
        "plotlyServerURL": "https://plot.ly",
        "showLink": true
       },
       "data": [
        {
         "mode": "lines",
         "name": "KNN_model",
         "type": "scatter",
         "uid": "b1b7a9cb-2f46-4d5d-89e3-c3261ed4e3b3",
         "x": [
          "accuracy",
          "FPR",
          "FNR",
          "auc"
         ],
         "y": [
          0.9448364336112893,
          0.03243581715716969,
          0.1877282688093499,
          0.8899179570167403
         ]
        },
        {
         "mode": "lines+markers",
         "name": "Logistic Regression",
         "type": "scatter",
         "uid": "11e6e66b-d6c1-4f70-98c5-d20d4d293887",
         "x": [
          "accuracy",
          "FPR",
          "FNR",
          "auc"
         ],
         "y": [
          0.9201411161000641,
          0.07213525360050094,
          0.12490869247626005,
          0.9014780269616196
         ]
        },
        {
         "marker": {
          "symbol": "x"
         },
         "mode": "lines+markers",
         "name": "Random Forest",
         "type": "scatter",
         "uid": "3ff8c38a-632f-4553-8a05-f33f5f5a58b9",
         "x": [
          "accuracy",
          "FPR",
          "FNR",
          "auc"
         ],
         "y": [
          0.93863587769938,
          0.049217282404508456,
          0.13221329437545654,
          0.9092847116100174
         ]
        },
        {
         "mode": "lines",
         "name": "Ada Boost",
         "type": "scatter",
         "uid": "86c86083-bbba-4903-9255-7c66879e361c",
         "x": [
          "accuracy",
          "FPR",
          "FNR",
          "auc"
         ],
         "y": [
          0.9021808851828095,
          0.09304946775203507,
          0.1256391526661797,
          0.8906556897908927
         ]
        },
        {
         "mode": "lines+markers",
         "name": "GradientBoosting",
         "type": "scatter",
         "uid": "4006cd9c-2549-4a6f-bb7a-71c671c45639",
         "x": [
          "accuracy",
          "FPR",
          "FNR",
          "auc"
         ],
         "y": [
          0.9264485781483858,
          0.06361928616155291,
          0.13148283418553688,
          0.9024489398264552
         ]
        },
        {
         "marker": {
          "symbol": "x"
         },
         "mode": "lines+markers",
         "name": "ExtraTree Classifier",
         "type": "scatter",
         "uid": "15f9a7cc-0f72-4037-8998-1e0ebb34f7db",
         "x": [
          "accuracy",
          "FPR",
          "FNR",
          "auc"
         ],
         "y": [
          0.9362839426983108,
          0.051972448340638695,
          0.13221329437545654,
          0.9079071286419523
         ]
        },
        {
         "marker": {
          "symbol": "x"
         },
         "mode": "lines+markers",
         "name": "Bagging",
         "type": "scatter",
         "uid": "e5d3b75b-ba96-43a5-abee-4a8108cce853",
         "x": [
          "accuracy",
          "FPR",
          "FNR",
          "auc"
         ],
         "y": [
          0.9304041051956382,
          0.05848465873512836,
          0.1344046749452155,
          0.9035553331598281
         ]
        },
        {
         "marker": {
          "symbol": "x"
         },
         "mode": "lines+markers",
         "name": "Neural Network",
         "type": "scatter",
         "uid": "facc627d-82e4-4425-9d6a-7bcaecb0dc6d",
         "x": [
          "accuracy",
          "FPR",
          "FNR",
          "auc"
         ],
         "y": [
          0.8890314304041051,
          0.11058234189104571,
          0.11322132943754565,
          0.9035553331598281
         ]
        }
       ],
       "layout": {
        "title": "Result comparision for Features selected in Section 1",
        "yaxis": {
         "dtick": 0.05,
         "tick0": 0
        }
       }
      },
      "text/html": [
       "<div id=\"c9ccb27a-ea15-4ed8-a9b8-c1176127a3ba\" style=\"height: 525px; width: 100%;\" class=\"plotly-graph-div\"></div><script type=\"text/javascript\">require([\"plotly\"], function(Plotly) { window.PLOTLYENV=window.PLOTLYENV || {};window.PLOTLYENV.BASE_URL=\"https://plot.ly\";Plotly.newPlot(\"c9ccb27a-ea15-4ed8-a9b8-c1176127a3ba\", [{\"mode\": \"lines\", \"name\": \"KNN_model\", \"x\": [\"accuracy\", \"FPR\", \"FNR\", \"auc\"], \"y\": [0.9448364336112893, 0.03243581715716969, 0.1877282688093499, 0.8899179570167403], \"type\": \"scatter\", \"uid\": \"b1b7a9cb-2f46-4d5d-89e3-c3261ed4e3b3\"}, {\"mode\": \"lines+markers\", \"name\": \"Logistic Regression\", \"x\": [\"accuracy\", \"FPR\", \"FNR\", \"auc\"], \"y\": [0.9201411161000641, 0.07213525360050094, 0.12490869247626005, 0.9014780269616196], \"type\": \"scatter\", \"uid\": \"11e6e66b-d6c1-4f70-98c5-d20d4d293887\"}, {\"marker\": {\"symbol\": \"x\"}, \"mode\": \"lines+markers\", \"name\": \"Random Forest\", \"x\": [\"accuracy\", \"FPR\", \"FNR\", \"auc\"], \"y\": [0.93863587769938, 0.049217282404508456, 0.13221329437545654, 0.9092847116100174], \"type\": \"scatter\", \"uid\": \"3ff8c38a-632f-4553-8a05-f33f5f5a58b9\"}, {\"mode\": \"lines\", \"name\": \"Ada Boost\", \"x\": [\"accuracy\", \"FPR\", \"FNR\", \"auc\"], \"y\": [0.9021808851828095, 0.09304946775203507, 0.1256391526661797, 0.8906556897908927], \"type\": \"scatter\", \"uid\": \"86c86083-bbba-4903-9255-7c66879e361c\"}, {\"mode\": \"lines+markers\", \"name\": \"GradientBoosting\", \"x\": [\"accuracy\", \"FPR\", \"FNR\", \"auc\"], \"y\": [0.9264485781483858, 0.06361928616155291, 0.13148283418553688, 0.9024489398264552], \"type\": \"scatter\", \"uid\": \"4006cd9c-2549-4a6f-bb7a-71c671c45639\"}, {\"marker\": {\"symbol\": \"x\"}, \"mode\": \"lines+markers\", \"name\": \"ExtraTree Classifier\", \"x\": [\"accuracy\", \"FPR\", \"FNR\", \"auc\"], \"y\": [0.9362839426983108, 0.051972448340638695, 0.13221329437545654, 0.9079071286419523], \"type\": \"scatter\", \"uid\": \"15f9a7cc-0f72-4037-8998-1e0ebb34f7db\"}, {\"marker\": {\"symbol\": \"x\"}, \"mode\": \"lines+markers\", \"name\": \"Bagging\", \"x\": [\"accuracy\", \"FPR\", \"FNR\", \"auc\"], \"y\": [0.9304041051956382, 0.05848465873512836, 0.1344046749452155, 0.9035553331598281], \"type\": \"scatter\", \"uid\": \"e5d3b75b-ba96-43a5-abee-4a8108cce853\"}, {\"marker\": {\"symbol\": \"x\"}, \"mode\": \"lines+markers\", \"name\": \"Neural Network\", \"x\": [\"accuracy\", \"FPR\", \"FNR\", \"auc\"], \"y\": [0.8890314304041051, 0.11058234189104571, 0.11322132943754565, 0.9035553331598281], \"type\": \"scatter\", \"uid\": \"facc627d-82e4-4425-9d6a-7bcaecb0dc6d\"}], {\"title\": \"Result comparision for Features selected in Section 1\", \"yaxis\": {\"dtick\": 0.05, \"tick0\": 0}}, {\"showLink\": true, \"linkText\": \"Export to plot.ly\", \"plotlyServerURL\": \"https://plot.ly\"})});</script><script type=\"text/javascript\">window.addEventListener(\"resize\", function(){window._Plotly.Plots.resize(document.getElementById(\"c9ccb27a-ea15-4ed8-a9b8-c1176127a3ba\"));});</script>"
      ],
      "text/vnd.plotly.v1+html": [
       "<div id=\"c9ccb27a-ea15-4ed8-a9b8-c1176127a3ba\" style=\"height: 525px; width: 100%;\" class=\"plotly-graph-div\"></div><script type=\"text/javascript\">require([\"plotly\"], function(Plotly) { window.PLOTLYENV=window.PLOTLYENV || {};window.PLOTLYENV.BASE_URL=\"https://plot.ly\";Plotly.newPlot(\"c9ccb27a-ea15-4ed8-a9b8-c1176127a3ba\", [{\"mode\": \"lines\", \"name\": \"KNN_model\", \"x\": [\"accuracy\", \"FPR\", \"FNR\", \"auc\"], \"y\": [0.9448364336112893, 0.03243581715716969, 0.1877282688093499, 0.8899179570167403], \"type\": \"scatter\", \"uid\": \"b1b7a9cb-2f46-4d5d-89e3-c3261ed4e3b3\"}, {\"mode\": \"lines+markers\", \"name\": \"Logistic Regression\", \"x\": [\"accuracy\", \"FPR\", \"FNR\", \"auc\"], \"y\": [0.9201411161000641, 0.07213525360050094, 0.12490869247626005, 0.9014780269616196], \"type\": \"scatter\", \"uid\": \"11e6e66b-d6c1-4f70-98c5-d20d4d293887\"}, {\"marker\": {\"symbol\": \"x\"}, \"mode\": \"lines+markers\", \"name\": \"Random Forest\", \"x\": [\"accuracy\", \"FPR\", \"FNR\", \"auc\"], \"y\": [0.93863587769938, 0.049217282404508456, 0.13221329437545654, 0.9092847116100174], \"type\": \"scatter\", \"uid\": \"3ff8c38a-632f-4553-8a05-f33f5f5a58b9\"}, {\"mode\": \"lines\", \"name\": \"Ada Boost\", \"x\": [\"accuracy\", \"FPR\", \"FNR\", \"auc\"], \"y\": [0.9021808851828095, 0.09304946775203507, 0.1256391526661797, 0.8906556897908927], \"type\": \"scatter\", \"uid\": \"86c86083-bbba-4903-9255-7c66879e361c\"}, {\"mode\": \"lines+markers\", \"name\": \"GradientBoosting\", \"x\": [\"accuracy\", \"FPR\", \"FNR\", \"auc\"], \"y\": [0.9264485781483858, 0.06361928616155291, 0.13148283418553688, 0.9024489398264552], \"type\": \"scatter\", \"uid\": \"4006cd9c-2549-4a6f-bb7a-71c671c45639\"}, {\"marker\": {\"symbol\": \"x\"}, \"mode\": \"lines+markers\", \"name\": \"ExtraTree Classifier\", \"x\": [\"accuracy\", \"FPR\", \"FNR\", \"auc\"], \"y\": [0.9362839426983108, 0.051972448340638695, 0.13221329437545654, 0.9079071286419523], \"type\": \"scatter\", \"uid\": \"15f9a7cc-0f72-4037-8998-1e0ebb34f7db\"}, {\"marker\": {\"symbol\": \"x\"}, \"mode\": \"lines+markers\", \"name\": \"Bagging\", \"x\": [\"accuracy\", \"FPR\", \"FNR\", \"auc\"], \"y\": [0.9304041051956382, 0.05848465873512836, 0.1344046749452155, 0.9035553331598281], \"type\": \"scatter\", \"uid\": \"e5d3b75b-ba96-43a5-abee-4a8108cce853\"}, {\"marker\": {\"symbol\": \"x\"}, \"mode\": \"lines+markers\", \"name\": \"Neural Network\", \"x\": [\"accuracy\", \"FPR\", \"FNR\", \"auc\"], \"y\": [0.8890314304041051, 0.11058234189104571, 0.11322132943754565, 0.9035553331598281], \"type\": \"scatter\", \"uid\": \"facc627d-82e4-4425-9d6a-7bcaecb0dc6d\"}], {\"title\": \"Result comparision for Features selected in Section 1\", \"yaxis\": {\"dtick\": 0.05, \"tick0\": 0}}, {\"showLink\": true, \"linkText\": \"Export to plot.ly\", \"plotlyServerURL\": \"https://plot.ly\"})});</script><script type=\"text/javascript\">window.addEventListener(\"resize\", function(){window._Plotly.Plots.resize(document.getElementById(\"c9ccb27a-ea15-4ed8-a9b8-c1176127a3ba\"));});</script>"
      ]
     },
     "metadata": {},
     "output_type": "display_data"
    }
   ],
   "source": [
    "trace0 = go.Scatter(x=table_80_90_test.iloc[0].index.values[[0,5,6,7]],\n",
    "                    y=table_80_90_test.iloc[0].values[[0,5,6,7]],\n",
    "                    mode = 'lines',\n",
    "                    name = 'KNN_model')\n",
    "\n",
    "trace1 = go.Scatter(x=table_80_90_test.iloc[1].index.values[[0,5,6,7]],\n",
    "                    y=table_80_90_test.iloc[1].values[[0,5,6,7]],\n",
    "                    mode = 'lines+markers',\n",
    "                    name = 'Logistic Regression')\n",
    "\n",
    "trace2 = go.Scatter(x=table_80_90_test.iloc[2].index.values[[0,5,6,7]],\n",
    "                    y=table_80_90_test.iloc[2].values[[0,5,6,7]],\n",
    "                    mode = 'lines+markers',marker=dict(symbol='x'),\n",
    "                    name = 'Random Forest')\n",
    "\n",
    "\n",
    "trace3 = go.Scatter(x=table_80_90_test.iloc[3].index.values[[0,5,6,7]],\n",
    "                    y=table_80_90_test.iloc[3].values[[0,5,6,7]],\n",
    "                    mode = 'lines',\n",
    "                    name = 'Ada Boost')\n",
    "\n",
    "trace4 = go.Scatter(x=table_80_90_test.iloc[4].index.values[[0,5,6,7]],\n",
    "                    y=table_80_90_test.iloc[4].values[[0,5,6,7]],\n",
    "                    mode = 'lines+markers',\n",
    "                    name = 'GradientBoosting')\n",
    "\n",
    "trace5 = go.Scatter(x=table_80_90_test.iloc[5].index.values[[0,5,6,7]],\n",
    "                    y=table_80_90_test.iloc[5].values[[0,5,6,7]],\n",
    "                    mode = 'lines+markers',marker=dict(symbol='x'),\n",
    "                    name = 'ExtraTree Classifier')\n",
    "\n",
    "trace6 = go.Scatter(x=table_80_90_test.iloc[6].index.values[[0,5,6,7]],\n",
    "                    y=table_80_90_test.iloc[6].values[[0,5,6,7]],\n",
    "                    mode = 'lines+markers',marker=dict(symbol='x'),\n",
    "                    name = 'Bagging')\n",
    "\n",
    "trace7 = go.Scatter(x=table_80_90_test.iloc[7].index.values[[0,5,6,7]],\n",
    "                    y=table_80_90_test.iloc[7].values[[0,5,6,7]],\n",
    "                    mode = 'lines+markers',marker=dict(symbol='x'),\n",
    "                    name = 'Neural Network')\n",
    "\n",
    "\n",
    "\n",
    "data = [trace0, trace1, trace2, trace3, trace4, trace5, trace6, trace7]\n",
    "layout = go.Layout(yaxis=dict(tick0=0,dtick=0.05),title='Result comparision for Features selected in Section 1')\n",
    "fig = go.Figure(data=data, layout=layout)\n",
    "\n",
    "iplot(fig, filename='Result')"
   ]
  },
  {
   "cell_type": "code",
   "execution_count": 28,
   "metadata": {},
   "outputs": [
    {
     "name": "stdout",
     "output_type": "stream",
     "text": [
      "Training Results\n"
     ]
    },
    {
     "data": {
      "text/html": [
       "<div>\n",
       "<style scoped>\n",
       "    .dataframe tbody tr th:only-of-type {\n",
       "        vertical-align: middle;\n",
       "    }\n",
       "\n",
       "    .dataframe tbody tr th {\n",
       "        vertical-align: top;\n",
       "    }\n",
       "\n",
       "    .dataframe thead th {\n",
       "        text-align: right;\n",
       "    }\n",
       "</style>\n",
       "<table border=\"1\" class=\"dataframe\">\n",
       "  <thead>\n",
       "    <tr style=\"text-align: right;\">\n",
       "      <th></th>\n",
       "      <th>accuracy</th>\n",
       "      <th>TP</th>\n",
       "      <th>TN</th>\n",
       "      <th>FP</th>\n",
       "      <th>FN</th>\n",
       "      <th>FPR</th>\n",
       "      <th>FNR</th>\n",
       "    </tr>\n",
       "    <tr>\n",
       "      <th>index</th>\n",
       "      <th></th>\n",
       "      <th></th>\n",
       "      <th></th>\n",
       "      <th></th>\n",
       "      <th></th>\n",
       "      <th></th>\n",
       "      <th></th>\n",
       "    </tr>\n",
       "  </thead>\n",
       "  <tbody>\n",
       "    <tr>\n",
       "      <th>KNeighborsClassifier</th>\n",
       "      <td>0.915656</td>\n",
       "      <td>4709.0</td>\n",
       "      <td>5409.0</td>\n",
       "      <td>116.0</td>\n",
       "      <td>816.0</td>\n",
       "      <td>0.020995</td>\n",
       "      <td>0.147692</td>\n",
       "    </tr>\n",
       "    <tr>\n",
       "      <th>LogisticRegression</th>\n",
       "      <td>0.898552</td>\n",
       "      <td>4785.0</td>\n",
       "      <td>5144.0</td>\n",
       "      <td>381.0</td>\n",
       "      <td>740.0</td>\n",
       "      <td>0.068959</td>\n",
       "      <td>0.133937</td>\n",
       "    </tr>\n",
       "    <tr>\n",
       "      <th>RandomForestClassifier</th>\n",
       "      <td>0.990679</td>\n",
       "      <td>5432.0</td>\n",
       "      <td>5515.0</td>\n",
       "      <td>10.0</td>\n",
       "      <td>93.0</td>\n",
       "      <td>0.001810</td>\n",
       "      <td>0.016833</td>\n",
       "    </tr>\n",
       "    <tr>\n",
       "      <th>AdaBoostClassifier</th>\n",
       "      <td>0.891946</td>\n",
       "      <td>4800.0</td>\n",
       "      <td>5056.0</td>\n",
       "      <td>469.0</td>\n",
       "      <td>725.0</td>\n",
       "      <td>0.084887</td>\n",
       "      <td>0.131222</td>\n",
       "    </tr>\n",
       "    <tr>\n",
       "      <th>GradientBoostingClassifier</th>\n",
       "      <td>0.907421</td>\n",
       "      <td>4798.0</td>\n",
       "      <td>5229.0</td>\n",
       "      <td>296.0</td>\n",
       "      <td>727.0</td>\n",
       "      <td>0.053575</td>\n",
       "      <td>0.131584</td>\n",
       "    </tr>\n",
       "    <tr>\n",
       "      <th>ExtraTreeClassifier</th>\n",
       "      <td>0.999910</td>\n",
       "      <td>5524.0</td>\n",
       "      <td>5525.0</td>\n",
       "      <td>0.0</td>\n",
       "      <td>1.0</td>\n",
       "      <td>0.000000</td>\n",
       "      <td>0.000181</td>\n",
       "    </tr>\n",
       "    <tr>\n",
       "      <th>BaggingClassifier</th>\n",
       "      <td>0.990498</td>\n",
       "      <td>5427.0</td>\n",
       "      <td>5518.0</td>\n",
       "      <td>7.0</td>\n",
       "      <td>98.0</td>\n",
       "      <td>0.001267</td>\n",
       "      <td>0.017738</td>\n",
       "    </tr>\n",
       "    <tr>\n",
       "      <th>Neural Network-1</th>\n",
       "      <td>0.999457</td>\n",
       "      <td>5519.0</td>\n",
       "      <td>5525.0</td>\n",
       "      <td>0.0</td>\n",
       "      <td>6.0</td>\n",
       "      <td>0.000000</td>\n",
       "      <td>0.001086</td>\n",
       "    </tr>\n",
       "  </tbody>\n",
       "</table>\n",
       "</div>"
      ],
      "text/plain": [
       "                            accuracy      TP      TN     FP     FN       FPR  \\\n",
       "index                                                                          \n",
       "KNeighborsClassifier        0.915656  4709.0  5409.0  116.0  816.0  0.020995   \n",
       "LogisticRegression          0.898552  4785.0  5144.0  381.0  740.0  0.068959   \n",
       "RandomForestClassifier      0.990679  5432.0  5515.0   10.0   93.0  0.001810   \n",
       "AdaBoostClassifier          0.891946  4800.0  5056.0  469.0  725.0  0.084887   \n",
       "GradientBoostingClassifier  0.907421  4798.0  5229.0  296.0  727.0  0.053575   \n",
       "ExtraTreeClassifier         0.999910  5524.0  5525.0    0.0    1.0  0.000000   \n",
       "BaggingClassifier           0.990498  5427.0  5518.0    7.0   98.0  0.001267   \n",
       "Neural Network-1            0.999457  5519.0  5525.0    0.0    6.0  0.000000   \n",
       "\n",
       "                                 FNR  \n",
       "index                                 \n",
       "KNeighborsClassifier        0.147692  \n",
       "LogisticRegression          0.133937  \n",
       "RandomForestClassifier      0.016833  \n",
       "AdaBoostClassifier          0.131222  \n",
       "GradientBoostingClassifier  0.131584  \n",
       "ExtraTreeClassifier         0.000181  \n",
       "BaggingClassifier           0.017738  \n",
       "Neural Network-1            0.001086  "
      ]
     },
     "metadata": {},
     "output_type": "display_data"
    },
    {
     "name": "stdout",
     "output_type": "stream",
     "text": [
      "Test Results\n"
     ]
    },
    {
     "data": {
      "text/html": [
       "<div>\n",
       "<style scoped>\n",
       "    .dataframe tbody tr th:only-of-type {\n",
       "        vertical-align: middle;\n",
       "    }\n",
       "\n",
       "    .dataframe tbody tr th {\n",
       "        vertical-align: top;\n",
       "    }\n",
       "\n",
       "    .dataframe thead th {\n",
       "        text-align: right;\n",
       "    }\n",
       "</style>\n",
       "<table border=\"1\" class=\"dataframe\">\n",
       "  <thead>\n",
       "    <tr style=\"text-align: right;\">\n",
       "      <th></th>\n",
       "      <th>accuracy</th>\n",
       "      <th>TP</th>\n",
       "      <th>TN</th>\n",
       "      <th>FP</th>\n",
       "      <th>FN</th>\n",
       "      <th>FPR</th>\n",
       "      <th>FNR</th>\n",
       "      <th>auc</th>\n",
       "      <th>mcc</th>\n",
       "    </tr>\n",
       "    <tr>\n",
       "      <th>index</th>\n",
       "      <th></th>\n",
       "      <th></th>\n",
       "      <th></th>\n",
       "      <th></th>\n",
       "      <th></th>\n",
       "      <th></th>\n",
       "      <th></th>\n",
       "      <th></th>\n",
       "      <th></th>\n",
       "    </tr>\n",
       "  </thead>\n",
       "  <tbody>\n",
       "    <tr>\n",
       "      <th>KNeighborsClassifier</th>\n",
       "      <td>0.944836</td>\n",
       "      <td>1112.0</td>\n",
       "      <td>7726.0</td>\n",
       "      <td>259.0</td>\n",
       "      <td>257.0</td>\n",
       "      <td>0.032436</td>\n",
       "      <td>0.187728</td>\n",
       "      <td>0.889918</td>\n",
       "      <td>0.779365</td>\n",
       "    </tr>\n",
       "    <tr>\n",
       "      <th>LogisticRegression</th>\n",
       "      <td>0.920141</td>\n",
       "      <td>1198.0</td>\n",
       "      <td>7409.0</td>\n",
       "      <td>576.0</td>\n",
       "      <td>171.0</td>\n",
       "      <td>0.072135</td>\n",
       "      <td>0.124909</td>\n",
       "      <td>0.901478</td>\n",
       "      <td>0.723968</td>\n",
       "    </tr>\n",
       "    <tr>\n",
       "      <th>RandomForestClassifier</th>\n",
       "      <td>0.938636</td>\n",
       "      <td>1188.0</td>\n",
       "      <td>7592.0</td>\n",
       "      <td>393.0</td>\n",
       "      <td>181.0</td>\n",
       "      <td>0.049217</td>\n",
       "      <td>0.132213</td>\n",
       "      <td>0.909285</td>\n",
       "      <td>0.772030</td>\n",
       "    </tr>\n",
       "    <tr>\n",
       "      <th>AdaBoostClassifier</th>\n",
       "      <td>0.902181</td>\n",
       "      <td>1197.0</td>\n",
       "      <td>7242.0</td>\n",
       "      <td>743.0</td>\n",
       "      <td>172.0</td>\n",
       "      <td>0.093049</td>\n",
       "      <td>0.125639</td>\n",
       "      <td>0.890656</td>\n",
       "      <td>0.681140</td>\n",
       "    </tr>\n",
       "    <tr>\n",
       "      <th>GradientBoostingClassifier</th>\n",
       "      <td>0.926449</td>\n",
       "      <td>1189.0</td>\n",
       "      <td>7477.0</td>\n",
       "      <td>508.0</td>\n",
       "      <td>180.0</td>\n",
       "      <td>0.063619</td>\n",
       "      <td>0.131483</td>\n",
       "      <td>0.902449</td>\n",
       "      <td>0.738261</td>\n",
       "    </tr>\n",
       "    <tr>\n",
       "      <th>ExtraTreeClassifier</th>\n",
       "      <td>0.936284</td>\n",
       "      <td>1188.0</td>\n",
       "      <td>7570.0</td>\n",
       "      <td>415.0</td>\n",
       "      <td>181.0</td>\n",
       "      <td>0.051972</td>\n",
       "      <td>0.132213</td>\n",
       "      <td>0.907907</td>\n",
       "      <td>0.765217</td>\n",
       "    </tr>\n",
       "    <tr>\n",
       "      <th>BaggingClassifier</th>\n",
       "      <td>0.930404</td>\n",
       "      <td>1185.0</td>\n",
       "      <td>7518.0</td>\n",
       "      <td>467.0</td>\n",
       "      <td>184.0</td>\n",
       "      <td>0.058485</td>\n",
       "      <td>0.134405</td>\n",
       "      <td>0.903555</td>\n",
       "      <td>0.748110</td>\n",
       "    </tr>\n",
       "    <tr>\n",
       "      <th>Neural Network-1</th>\n",
       "      <td>0.889031</td>\n",
       "      <td>1214.0</td>\n",
       "      <td>7102.0</td>\n",
       "      <td>883.0</td>\n",
       "      <td>155.0</td>\n",
       "      <td>0.110582</td>\n",
       "      <td>0.113221</td>\n",
       "      <td>0.903555</td>\n",
       "      <td>0.657859</td>\n",
       "    </tr>\n",
       "  </tbody>\n",
       "</table>\n",
       "</div>"
      ],
      "text/plain": [
       "                            accuracy      TP      TN     FP     FN       FPR  \\\n",
       "index                                                                          \n",
       "KNeighborsClassifier        0.944836  1112.0  7726.0  259.0  257.0  0.032436   \n",
       "LogisticRegression          0.920141  1198.0  7409.0  576.0  171.0  0.072135   \n",
       "RandomForestClassifier      0.938636  1188.0  7592.0  393.0  181.0  0.049217   \n",
       "AdaBoostClassifier          0.902181  1197.0  7242.0  743.0  172.0  0.093049   \n",
       "GradientBoostingClassifier  0.926449  1189.0  7477.0  508.0  180.0  0.063619   \n",
       "ExtraTreeClassifier         0.936284  1188.0  7570.0  415.0  181.0  0.051972   \n",
       "BaggingClassifier           0.930404  1185.0  7518.0  467.0  184.0  0.058485   \n",
       "Neural Network-1            0.889031  1214.0  7102.0  883.0  155.0  0.110582   \n",
       "\n",
       "                                 FNR       auc       mcc  \n",
       "index                                                     \n",
       "KNeighborsClassifier        0.187728  0.889918  0.779365  \n",
       "LogisticRegression          0.124909  0.901478  0.723968  \n",
       "RandomForestClassifier      0.132213  0.909285  0.772030  \n",
       "AdaBoostClassifier          0.125639  0.890656  0.681140  \n",
       "GradientBoostingClassifier  0.131483  0.902449  0.738261  \n",
       "ExtraTreeClassifier         0.132213  0.907907  0.765217  \n",
       "BaggingClassifier           0.134405  0.903555  0.748110  \n",
       "Neural Network-1            0.113221  0.903555  0.657859  "
      ]
     },
     "metadata": {},
     "output_type": "display_data"
    }
   ],
   "source": [
    "table_80_90_train['index']=ind_columns\n",
    "table_80_90_test['index']=ind_columns\n",
    "\n",
    "\n",
    "table_80_90_test.set_index(['index'],drop=True,inplace=True)\n",
    "table_80_90_train.set_index(['index'],drop=True,inplace=True)\n",
    "\n",
    "print(\"Training Results\")\n",
    "display(table_80_90_train)\n",
    "print(\"Test Results\")\n",
    "display(table_80_90_test)"
   ]
  },
  {
   "cell_type": "markdown",
   "metadata": {},
   "source": [
    "### <a id='3.B' style=\"text-decoration : none; color : #000000;\"> B. Average Feature Importances</a>"
   ]
  },
  {
   "cell_type": "code",
   "execution_count": 29,
   "metadata": {},
   "outputs": [
    {
     "data": {
      "application/vnd.plotly.v1+json": {
       "config": {
        "linkText": "Export to plot.ly",
        "plotlyServerURL": "https://plot.ly",
        "showLink": true
       },
       "data": [
        {
         "marker": {
          "color": "rgb(158,202,225)",
          "line": {
           "color": "rgb(8,48,107)",
           "width": 1.5
          }
         },
         "opacity": 0.6,
         "orientation": "h",
         "text": [
          0.2539,
          0.1478,
          0.0863,
          0.066,
          0.0509,
          0.035,
          0.0324,
          0.0246,
          0.0236,
          0.021,
          0.0172,
          0.0172,
          0.0147,
          0.0139,
          0.0137,
          0.0136,
          0.013,
          0.0126,
          0.0125,
          0.0119,
          0.0106,
          0.0103,
          0.0088,
          0.0085,
          0.0081,
          0.0078,
          0.0078,
          0.0077,
          0.0071,
          0.007,
          0.0061,
          0.0056,
          0.005,
          0.0049,
          0.0046,
          0.004,
          0.003,
          0.0011
         ],
         "textposition": "outside",
         "type": "bar",
         "uid": "0b9eac46-ce43-44e0-9b0e-23c3883567ac",
         "x": [
          0.2538897667021877,
          0.14780372918107595,
          0.08626082298843768,
          0.06602269593762383,
          0.05086475558996412,
          0.03496704455467125,
          0.03236466765288227,
          0.024597387407084177,
          0.023639578699541357,
          0.02101954516167186,
          0.017215346747246545,
          0.01716412928386351,
          0.014664855036877315,
          0.013932781010600678,
          0.013716293967740033,
          0.01364918159557604,
          0.013032902809308612,
          0.012646861480238294,
          0.012488377852659292,
          0.011938585596075742,
          0.010607603694550842,
          0.010329015457921597,
          0.008836017732401487,
          0.008515020702718139,
          0.008096046036739735,
          0.00784829807126322,
          0.007817148290485416,
          0.007668631887752964,
          0.007054910231294351,
          0.007019852726850807,
          0.006066629586132405,
          0.005601566126124557,
          0.005040622379635201,
          0.0049019264396199845,
          0.004641136283916998,
          0.004037448439882357,
          0.002951846294457665,
          0.0010869703629260356
         ],
         "y": [
          "url_length",
          "url_extensions",
          "url_char_.",
          "url_char_w",
          "url_tlds",
          "url_char_z",
          "url_words_with_length_4",
          "url_char_b",
          "url_char_o",
          "url_extension_.com",
          "url_char_i",
          "url_char_r",
          "url_char_y",
          "url_char_n",
          "url_char_a",
          "url_char_e",
          "url_char_m",
          "url_char_l",
          "url_char_t",
          "url_char_x",
          "url_char_g",
          "url_char_f",
          "url_char_s",
          "url_char_c",
          "url_char_u",
          "url_char_p",
          "url_words_with_length_5",
          "url_extension_.net",
          "url_char_d",
          "url_words_with_length_7",
          "url_char_k",
          "url_words_with_length_6",
          "url_char_h",
          "url_char_-",
          "url_char_v",
          "url_words_with_length_8",
          "url_char_j",
          "url_word_count_info"
         ]
        }
       ],
       "layout": {
        "autosize": false,
        "height": 1000,
        "width": 1000,
        "xaxis": {
         "tickfont": {
          "color": "black",
          "size": 12
         },
         "title": "Feature Importances"
        },
        "yaxis": {
         "automargin": true
        }
       }
      },
      "text/html": [
       "<div id=\"c37c8fbd-a2b3-4c09-aee7-d6e47b673633\" style=\"height: 1000px; width: 1000px;\" class=\"plotly-graph-div\"></div><script type=\"text/javascript\">require([\"plotly\"], function(Plotly) { window.PLOTLYENV=window.PLOTLYENV || {};window.PLOTLYENV.BASE_URL=\"https://plot.ly\";Plotly.newPlot(\"c37c8fbd-a2b3-4c09-aee7-d6e47b673633\", [{\"marker\": {\"color\": \"rgb(158,202,225)\", \"line\": {\"color\": \"rgb(8,48,107)\", \"width\": 1.5}}, \"opacity\": 0.6, \"orientation\": \"h\", \"text\": [0.2539, 0.1478, 0.0863, 0.066, 0.0509, 0.035, 0.0324, 0.0246, 0.0236, 0.021, 0.0172, 0.0172, 0.0147, 0.0139, 0.0137, 0.0136, 0.013, 0.0126, 0.0125, 0.0119, 0.0106, 0.0103, 0.0088, 0.0085, 0.0081, 0.0078, 0.0078, 0.0077, 0.0071, 0.007, 0.0061, 0.0056, 0.005, 0.0049, 0.0046, 0.004, 0.003, 0.0011], \"textposition\": \"outside\", \"x\": [0.2538897667021877, 0.14780372918107595, 0.08626082298843768, 0.06602269593762383, 0.05086475558996412, 0.03496704455467125, 0.03236466765288227, 0.024597387407084177, 0.023639578699541357, 0.02101954516167186, 0.017215346747246545, 0.01716412928386351, 0.014664855036877315, 0.013932781010600678, 0.013716293967740033, 0.01364918159557604, 0.013032902809308612, 0.012646861480238294, 0.012488377852659292, 0.011938585596075742, 0.010607603694550842, 0.010329015457921597, 0.008836017732401487, 0.008515020702718139, 0.008096046036739735, 0.00784829807126322, 0.007817148290485416, 0.007668631887752964, 0.007054910231294351, 0.007019852726850807, 0.006066629586132405, 0.005601566126124557, 0.005040622379635201, 0.0049019264396199845, 0.004641136283916998, 0.004037448439882357, 0.002951846294457665, 0.0010869703629260356], \"y\": [\"url_length\", \"url_extensions\", \"url_char_.\", \"url_char_w\", \"url_tlds\", \"url_char_z\", \"url_words_with_length_4\", \"url_char_b\", \"url_char_o\", \"url_extension_.com\", \"url_char_i\", \"url_char_r\", \"url_char_y\", \"url_char_n\", \"url_char_a\", \"url_char_e\", \"url_char_m\", \"url_char_l\", \"url_char_t\", \"url_char_x\", \"url_char_g\", \"url_char_f\", \"url_char_s\", \"url_char_c\", \"url_char_u\", \"url_char_p\", \"url_words_with_length_5\", \"url_extension_.net\", \"url_char_d\", \"url_words_with_length_7\", \"url_char_k\", \"url_words_with_length_6\", \"url_char_h\", \"url_char_-\", \"url_char_v\", \"url_words_with_length_8\", \"url_char_j\", \"url_word_count_info\"], \"type\": \"bar\", \"uid\": \"0b9eac46-ce43-44e0-9b0e-23c3883567ac\"}], {\"autosize\": false, \"height\": 1000, \"width\": 1000, \"xaxis\": {\"tickfont\": {\"color\": \"black\", \"size\": 12}, \"title\": \"Feature Importances\"}, \"yaxis\": {\"automargin\": true}}, {\"showLink\": true, \"linkText\": \"Export to plot.ly\", \"plotlyServerURL\": \"https://plot.ly\"})});</script>"
      ],
      "text/vnd.plotly.v1+html": [
       "<div id=\"c37c8fbd-a2b3-4c09-aee7-d6e47b673633\" style=\"height: 1000px; width: 1000px;\" class=\"plotly-graph-div\"></div><script type=\"text/javascript\">require([\"plotly\"], function(Plotly) { window.PLOTLYENV=window.PLOTLYENV || {};window.PLOTLYENV.BASE_URL=\"https://plot.ly\";Plotly.newPlot(\"c37c8fbd-a2b3-4c09-aee7-d6e47b673633\", [{\"marker\": {\"color\": \"rgb(158,202,225)\", \"line\": {\"color\": \"rgb(8,48,107)\", \"width\": 1.5}}, \"opacity\": 0.6, \"orientation\": \"h\", \"text\": [0.2539, 0.1478, 0.0863, 0.066, 0.0509, 0.035, 0.0324, 0.0246, 0.0236, 0.021, 0.0172, 0.0172, 0.0147, 0.0139, 0.0137, 0.0136, 0.013, 0.0126, 0.0125, 0.0119, 0.0106, 0.0103, 0.0088, 0.0085, 0.0081, 0.0078, 0.0078, 0.0077, 0.0071, 0.007, 0.0061, 0.0056, 0.005, 0.0049, 0.0046, 0.004, 0.003, 0.0011], \"textposition\": \"outside\", \"x\": [0.2538897667021877, 0.14780372918107595, 0.08626082298843768, 0.06602269593762383, 0.05086475558996412, 0.03496704455467125, 0.03236466765288227, 0.024597387407084177, 0.023639578699541357, 0.02101954516167186, 0.017215346747246545, 0.01716412928386351, 0.014664855036877315, 0.013932781010600678, 0.013716293967740033, 0.01364918159557604, 0.013032902809308612, 0.012646861480238294, 0.012488377852659292, 0.011938585596075742, 0.010607603694550842, 0.010329015457921597, 0.008836017732401487, 0.008515020702718139, 0.008096046036739735, 0.00784829807126322, 0.007817148290485416, 0.007668631887752964, 0.007054910231294351, 0.007019852726850807, 0.006066629586132405, 0.005601566126124557, 0.005040622379635201, 0.0049019264396199845, 0.004641136283916998, 0.004037448439882357, 0.002951846294457665, 0.0010869703629260356], \"y\": [\"url_length\", \"url_extensions\", \"url_char_.\", \"url_char_w\", \"url_tlds\", \"url_char_z\", \"url_words_with_length_4\", \"url_char_b\", \"url_char_o\", \"url_extension_.com\", \"url_char_i\", \"url_char_r\", \"url_char_y\", \"url_char_n\", \"url_char_a\", \"url_char_e\", \"url_char_m\", \"url_char_l\", \"url_char_t\", \"url_char_x\", \"url_char_g\", \"url_char_f\", \"url_char_s\", \"url_char_c\", \"url_char_u\", \"url_char_p\", \"url_words_with_length_5\", \"url_extension_.net\", \"url_char_d\", \"url_words_with_length_7\", \"url_char_k\", \"url_words_with_length_6\", \"url_char_h\", \"url_char_-\", \"url_char_v\", \"url_words_with_length_8\", \"url_char_j\", \"url_word_count_info\"], \"type\": \"bar\", \"uid\": \"0b9eac46-ce43-44e0-9b0e-23c3883567ac\"}], {\"autosize\": false, \"height\": 1000, \"width\": 1000, \"xaxis\": {\"tickfont\": {\"color\": \"black\", \"size\": 12}, \"title\": \"Feature Importances\"}, \"yaxis\": {\"automargin\": true}}, {\"showLink\": true, \"linkText\": \"Export to plot.ly\", \"plotlyServerURL\": \"https://plot.ly\"})});</script>"
      ]
     },
     "metadata": {},
     "output_type": "display_data"
    }
   ],
   "source": [
    "feat_impt_plot(np.average(feat_imp,axis=0),columns)"
   ]
  },
  {
   "cell_type": "markdown",
   "metadata": {},
   "source": [
    "### <a id='4' style=\"text-decoration : none; color : #000000;\">4. Feature Transformation with feature selection </a>"
   ]
  },
  {
   "cell_type": "code",
   "execution_count": 30,
   "metadata": {
    "collapsed": true
   },
   "outputs": [],
   "source": [
    "df.reset_index(inplace=True)\n",
    "\n",
    "# columns=columns.tolist()\n",
    "columns.append('domain')\n",
    "\n",
    "df_min=df[columns]"
   ]
  },
  {
   "cell_type": "code",
   "execution_count": 31,
   "metadata": {},
   "outputs": [
    {
     "name": "stdout",
     "output_type": "stream",
     "text": [
      "Built 2850 features\n",
      "EntitySet scattered to workers in 4.639 seconds\n",
      "Elapsed: 00:23 | Remaining: 00:00 | Progress: 100%|██████████| Calculated: 11/11 chunks\n"
     ]
    }
   ],
   "source": [
    "es = ft.EntitySet(id = 'malicious')\n",
    "es.entity_from_dataframe(entity_id = 'data', dataframe = df_min, index = 'domain')\n",
    "\n",
    "feature_matrix_sessions, features_defs = ft.dfs(entityset=es,target_entity=\"data\",\n",
    "                                                trans_primitives = ['add','divide','multiply'],n_jobs=-1,\n",
    "                                                verbose=1,max_depth=1)"
   ]
  },
  {
   "cell_type": "code",
   "execution_count": 32,
   "metadata": {},
   "outputs": [],
   "source": [
    "df.set_index(['domain'],drop=True,inplace=True)\n",
    "fs=pd.merge(feature_matrix_sessions,pd.DataFrame(df.Target),left_index=True, right_index=True)\n",
    "fs.replace([np.inf],0,inplace=True)\n",
    "fs.fillna(value=0,inplace=True)"
   ]
  },
  {
   "cell_type": "code",
   "execution_count": 33,
   "metadata": {
    "collapsed": true
   },
   "outputs": [],
   "source": [
    "X=fs.loc[:,fs.columns!='Target']\n",
    "y=fs.Target\n",
    "feature_name = X.columns.tolist()"
   ]
  },
  {
   "cell_type": "code",
   "execution_count": 34,
   "metadata": {
    "collapsed": true
   },
   "outputs": [],
   "source": [
    "def cor_selector(X, y):\n",
    "    cor_list = []\n",
    "    # calculate the correlation with y for each feature\n",
    "    for i in X.columns.tolist():\n",
    "        cor = np.corrcoef(X[i], y)[0, 1]\n",
    "        cor_list.append(cor)\n",
    "    # replace NaN with 0\n",
    "    cor_list = [0 if np.isnan(i) else i for i in cor_list]\n",
    "    # feature name\n",
    "    cor_feature = X.iloc[:,np.argsort(np.abs(cor_list))[-100:]].columns.tolist()\n",
    "    # feature selection? 0 for not select, 1 for select\n",
    "    cor_support = [True if i in cor_feature else False for i in feature_name]\n",
    "    return cor_support, cor_feature\n",
    "\n",
    "\n",
    "cor_support, cor_feature = cor_selector(X, y)"
   ]
  },
  {
   "cell_type": "code",
   "execution_count": 35,
   "metadata": {
    "collapsed": true
   },
   "outputs": [],
   "source": [
    "X_norm = MinMaxScaler().fit_transform(X)\n",
    "chi_selector = SelectKBest(chi2, k=100)\n",
    "chi_selector.fit(X_norm, y)\n",
    "chi_support = chi_selector.get_support()\n",
    "chi_feature = X.loc[:,chi_support].columns.tolist()"
   ]
  },
  {
   "cell_type": "code",
   "execution_count": 36,
   "metadata": {
    "collapsed": true
   },
   "outputs": [],
   "source": [
    "rfe_selector = RFE(estimator=LogisticRegression(random_state=0), n_features_to_select=100, step=0.3, verbose=False)\n",
    "rfe_selector.fit(X_norm, y)\n",
    "rfe_support = rfe_selector.get_support()\n",
    "rfe_feature = X.loc[:,rfe_support].columns.tolist()"
   ]
  },
  {
   "cell_type": "code",
   "execution_count": 37,
   "metadata": {
    "collapsed": true
   },
   "outputs": [],
   "source": [
    "embeded_rf_selector = SelectFromModel(RandomForestClassifier(n_estimators=100,random_state=0), threshold='23*median')\n",
    "embeded_rf_selector.fit(X, y)\n",
    "embeded_rf_support = embeded_rf_selector.get_support()\n",
    "embeded_rf_feature = X.loc[:,embeded_rf_support].columns.tolist()"
   ]
  },
  {
   "cell_type": "code",
   "execution_count": 38,
   "metadata": {
    "collapsed": true
   },
   "outputs": [],
   "source": [
    "feature_selection_df = pd.DataFrame({'Feature':feature_name, 'Pearson':cor_support, 'Chi-2':chi_support, 'RFE':rfe_support,\n",
    "                                    'Random Forest':embeded_rf_support})\n",
    "# count the selected times for each feature\n",
    "feature_selection_df['Total'] = np.sum(feature_selection_df, axis=1)\n",
    "# display the top 100\n",
    "feature_selection_df = feature_selection_df.sort_values(['Total','Feature'] , ascending=False)\n",
    "feature_selection_df.index = range(1, len(feature_selection_df)+1)"
   ]
  },
  {
   "cell_type": "code",
   "execution_count": 39,
   "metadata": {},
   "outputs": [
    {
     "name": "stdout",
     "output_type": "stream",
     "text": [
      "The train/test split ratio is 80:20\n"
     ]
    },
    {
     "data": {
      "text/plain": [
       "(46771, 43)"
      ]
     },
     "execution_count": 39,
     "metadata": {},
     "output_type": "execute_result"
    }
   ],
   "source": [
    "X=fs[feature_selection_df[feature_selection_df.Total>=3]['Feature']]\n",
    "X.fillna(value=0,inplace=True)\n",
    "y=fs.Target.values\n",
    "feature_name = X.columns.tolist()\n",
    "\n",
    "scaler=StandardScaler()\n",
    "scaled_X=scaler.fit_transform(X)\n",
    "\n",
    "print(\"The train/test split ratio is 80:20\")\n",
    "X_train, X_test, Y_train, Y_test = train_test_split(scaled_X,y,random_state=0,test_size=0.2)\n",
    "\n",
    "X.shape"
   ]
  },
  {
   "cell_type": "code",
   "execution_count": 40,
   "metadata": {},
   "outputs": [
    {
     "name": "stdout",
     "output_type": "stream",
     "text": [
      "Features we will be using:\n",
      "\n"
     ]
    },
    {
     "data": {
      "text/plain": [
       "['url_char_w * url_extensions',\n",
       " 'url_char_. + url_char_w',\n",
       " 'url_length + url_words_with_length_8',\n",
       " 'url_length + url_words_with_length_7',\n",
       " 'url_length + url_words_with_length_5',\n",
       " 'url_length + url_words_with_length_4',\n",
       " 'url_length + url_word_count_info',\n",
       " 'url_length + url_tlds',\n",
       " 'url_length',\n",
       " 'url_extensions + url_length',\n",
       " 'url_extension_.net + url_length',\n",
       " 'url_extension_.com + url_length',\n",
       " 'url_char_z + url_length',\n",
       " 'url_char_y + url_length',\n",
       " 'url_char_x + url_length',\n",
       " 'url_char_w + url_words_with_length_8',\n",
       " 'url_char_w + url_words_with_length_7',\n",
       " 'url_char_w + url_length',\n",
       " 'url_char_w + url_extensions',\n",
       " 'url_char_w + url_char_y',\n",
       " 'url_char_w + url_char_x',\n",
       " 'url_char_v + url_length',\n",
       " 'url_char_s + url_length',\n",
       " 'url_char_p + url_length',\n",
       " 'url_char_n + url_length',\n",
       " 'url_char_l + url_length',\n",
       " 'url_char_k + url_length',\n",
       " 'url_char_j + url_length',\n",
       " 'url_char_i + url_length',\n",
       " 'url_char_h + url_length',\n",
       " 'url_char_g + url_length',\n",
       " 'url_char_f + url_length',\n",
       " 'url_char_d + url_length',\n",
       " 'url_char_c + url_length',\n",
       " 'url_char_b + url_length',\n",
       " 'url_char_. + url_words_with_length_8',\n",
       " 'url_char_. + url_length',\n",
       " 'url_char_. + url_extension_.net',\n",
       " 'url_char_. + url_char_z',\n",
       " 'url_char_. + url_char_x',\n",
       " 'url_char_. * url_char_w',\n",
       " 'url_char_.',\n",
       " 'url_char_- + url_length']"
      ]
     },
     "metadata": {},
     "output_type": "display_data"
    }
   ],
   "source": [
    "print('Features we will be using:\\n')\n",
    "display(feature_name)"
   ]
  },
  {
   "cell_type": "code",
   "execution_count": 41,
   "metadata": {
    "collapsed": true
   },
   "outputs": [],
   "source": [
    "fs=fs.reindex(df_sel.index.values)"
   ]
  },
  {
   "cell_type": "code",
   "execution_count": 42,
   "metadata": {
    "collapsed": true
   },
   "outputs": [],
   "source": [
    "train=fs.iloc[:37417]\n",
    "train_Y=train.Target.values\n",
    "train_X=train[feature_name].values\n",
    "\n",
    "\n",
    "scaler=StandardScaler()\n",
    "scaled_X_train=scaler.fit_transform(train_X)\n",
    "\n",
    "test=fs.iloc[37417:]\n",
    "test_Y=test.Target.values\n",
    "test_X=test[feature_name]\n",
    "\n",
    "scaled_X_test=scaler.transform(test_X)"
   ]
  },
  {
   "cell_type": "code",
   "execution_count": 43,
   "metadata": {
    "collapsed": true
   },
   "outputs": [],
   "source": [
    "## Table to store training and test measures so we can compare later\n",
    "table_80_60_train=pd.DataFrame(columns=['accuracy','TP','TN','FP','FN','FPR','FNR'])\n",
    "table_80_60_test=pd.DataFrame(columns=['accuracy','TP','TN','FP','FN','FPR','FNR','auc','mcc'])"
   ]
  },
  {
   "cell_type": "code",
   "execution_count": 44,
   "metadata": {
    "scrolled": false
   },
   "outputs": [
    {
     "name": "stdout",
     "output_type": "stream",
     "text": [
      "\u001b[1mK-Nearest Neighbors\u001b[0m\n",
      "Accuracy of the model for training data is: 0.960178528476\n",
      "Confusion Matrix for training data is:\n"
     ]
    },
    {
     "data": {
      "text/plain": [
       "Predicted  False  True  __all__\n",
       "Actual                         \n",
       "False      31498   394    31892\n",
       "True        1096  4429     5525\n",
       "__all__    32594  4823    37417"
      ]
     },
     "metadata": {},
     "output_type": "display_data"
    },
    {
     "name": "stdout",
     "output_type": "stream",
     "text": [
      "Accuracy of the model for test data is: 0.95114389566\n",
      "Confusion Matrix for test data is:\n"
     ]
    },
    {
     "data": {
      "text/plain": [
       "Predicted  False  True  __all__\n",
       "Actual                         \n",
       "False       7835   150     7985\n",
       "True         307  1062     1369\n",
       "__all__     8142  1212     9354"
      ]
     },
     "metadata": {},
     "output_type": "display_data"
    },
    {
     "name": "stdout",
     "output_type": "stream",
     "text": [
      "\n",
      "\n",
      "\u001b[1mLogistic Regression\u001b[0m\n",
      "Accuracy of the model for training data is: 0.943261084534\n",
      "Confusion Matrix for training data is:\n"
     ]
    },
    {
     "data": {
      "text/plain": [
       "Predicted  False  True  __all__\n",
       "Actual                         \n",
       "False      31454   438    31892\n",
       "True        1685  3840     5525\n",
       "__all__    33139  4278    37417"
      ]
     },
     "metadata": {},
     "output_type": "display_data"
    },
    {
     "name": "stdout",
     "output_type": "stream",
     "text": [
      "Accuracy of the model for test data is: 0.942805217019\n",
      "Confusion Matrix for test data is:\n"
     ]
    },
    {
     "data": {
      "text/plain": [
       "Predicted  False  True  __all__\n",
       "Actual                         \n",
       "False       7854   131     7985\n",
       "True         404   965     1369\n",
       "__all__     8258  1096     9354"
      ]
     },
     "metadata": {},
     "output_type": "display_data"
    },
    {
     "name": "stdout",
     "output_type": "stream",
     "text": [
      "\n",
      "\n",
      "\u001b[1mRandomForest Classifier\u001b[0m\n",
      "Accuracy of the model for training data is: 0.994013416362\n",
      "Confusion Matrix for training data is:\n"
     ]
    },
    {
     "data": {
      "text/plain": [
       "Predicted  False  True  __all__\n",
       "Actual                         \n",
       "False      31886     6    31892\n",
       "True         218  5307     5525\n",
       "__all__    32104  5313    37417"
      ]
     },
     "metadata": {},
     "output_type": "display_data"
    },
    {
     "name": "stdout",
     "output_type": "stream",
     "text": [
      "Accuracy of the model for test data is: 0.955847765662\n",
      "Confusion Matrix for test data is:\n"
     ]
    },
    {
     "data": {
      "text/plain": [
       "Predicted  False  True  __all__\n",
       "Actual                         \n",
       "False       7876   109     7985\n",
       "True         304  1065     1369\n",
       "__all__     8180  1174     9354"
      ]
     },
     "metadata": {},
     "output_type": "display_data"
    },
    {
     "data": {
      "application/vnd.plotly.v1+json": {
       "config": {
        "linkText": "Export to plot.ly",
        "plotlyServerURL": "https://plot.ly",
        "showLink": true
       },
       "data": [
        {
         "marker": {
          "color": "rgb(158,202,225)",
          "line": {
           "color": "rgb(8,48,107)",
           "width": 1.5
          }
         },
         "opacity": 0.6,
         "orientation": "h",
         "text": [
          0.1161,
          0.1063,
          0.0653,
          0.0543,
          0.052,
          0.0517,
          0.0509,
          0.0387,
          0.0331,
          0.0258,
          0.0257,
          0.0231,
          0.0205,
          0.0195,
          0.0193,
          0.019,
          0.0186,
          0.017,
          0.0169,
          0.0158,
          0.0155,
          0.0153,
          0.015,
          0.014,
          0.0133,
          0.0129,
          0.0115,
          0.0105,
          0.0103,
          0.0093,
          0.0092,
          0.0088,
          0.0086,
          0.0084,
          0.0074,
          0.0064,
          0.0061,
          0.006,
          0.0054,
          0.0054,
          0.0053,
          0.0043,
          0.0016
         ],
         "textposition": "outside",
         "type": "bar",
         "uid": "1e7f0b34-8981-427b-9f78-c90a5a148952",
         "x": [
          0.11610780368258684,
          0.1063343908553619,
          0.06532174056629256,
          0.05426088394807049,
          0.051980943602694764,
          0.05173927890480532,
          0.05089458421708428,
          0.03867700611058299,
          0.03313481308616591,
          0.025824710633812982,
          0.025731982155011685,
          0.02307164197188835,
          0.02046015064504108,
          0.019482336538572557,
          0.01929563029522821,
          0.019001108275398915,
          0.01857361205897132,
          0.016969054145589923,
          0.01690879751454524,
          0.0157541414248629,
          0.01545152738811186,
          0.015329732560275883,
          0.015035123172048687,
          0.014006968750231502,
          0.013281118084770543,
          0.012890465018035766,
          0.011513424096053717,
          0.010517430012786495,
          0.010336004207328848,
          0.009254365864168959,
          0.009244503391309642,
          0.008834480334766887,
          0.008603999310120734,
          0.008352597397781231,
          0.0073701043778740495,
          0.006373527044608652,
          0.0060744757354528256,
          0.005956836102671328,
          0.005442165208235839,
          0.005384851286304614,
          0.005292651554343048,
          0.00431791470890947,
          0.0016111237612412067
         ],
         "y": [
          "url_char_. + url_length",
          "url_char_j + url_length",
          "url_extensions + url_length",
          "url_length + url_tlds",
          "url_char_. + url_char_z",
          "url_char_w + url_length",
          "url_char_b + url_length",
          "url_char_. + url_char_w",
          "url_length + url_words_with_length_4",
          "url_char_w + url_extensions",
          "url_char_.",
          "url_char_w + url_char_y",
          "url_char_i + url_length",
          "url_char_h + url_length",
          "url_char_. + url_char_x",
          "url_char_c + url_length",
          "url_char_n + url_length",
          "url_char_s + url_length",
          "url_length + url_words_with_length_5",
          "url_char_l + url_length",
          "url_extension_.com + url_length",
          "url_char_f + url_length",
          "url_char_w * url_extensions",
          "url_char_k + url_length",
          "url_char_d + url_length",
          "url_char_p + url_length",
          "url_char_g + url_length",
          "url_char_. * url_char_w",
          "url_char_w + url_words_with_length_7",
          "url_char_w + url_words_with_length_8",
          "url_char_. + url_extension_.net",
          "url_char_y + url_length",
          "url_char_z + url_length",
          "url_char_v + url_length",
          "url_char_w + url_char_x",
          "url_length + url_words_with_length_7",
          "url_length + url_word_count_info",
          "url_char_- + url_length",
          "url_char_x + url_length",
          "url_char_. + url_words_with_length_8",
          "url_extension_.net + url_length",
          "url_length + url_words_with_length_8",
          "url_length"
         ]
        }
       ],
       "layout": {
        "autosize": false,
        "height": 1000,
        "width": 1000,
        "xaxis": {
         "tickfont": {
          "color": "black",
          "size": 12
         },
         "title": "Feature Importances"
        },
        "yaxis": {
         "automargin": true
        }
       }
      },
      "text/html": [
       "<div id=\"94627988-c179-40cf-82e7-55cb19354229\" style=\"height: 1000px; width: 1000px;\" class=\"plotly-graph-div\"></div><script type=\"text/javascript\">require([\"plotly\"], function(Plotly) { window.PLOTLYENV=window.PLOTLYENV || {};window.PLOTLYENV.BASE_URL=\"https://plot.ly\";Plotly.newPlot(\"94627988-c179-40cf-82e7-55cb19354229\", [{\"marker\": {\"color\": \"rgb(158,202,225)\", \"line\": {\"color\": \"rgb(8,48,107)\", \"width\": 1.5}}, \"opacity\": 0.6, \"orientation\": \"h\", \"text\": [0.1161, 0.1063, 0.0653, 0.0543, 0.052, 0.0517, 0.0509, 0.0387, 0.0331, 0.0258, 0.0257, 0.0231, 0.0205, 0.0195, 0.0193, 0.019, 0.0186, 0.017, 0.0169, 0.0158, 0.0155, 0.0153, 0.015, 0.014, 0.0133, 0.0129, 0.0115, 0.0105, 0.0103, 0.0093, 0.0092, 0.0088, 0.0086, 0.0084, 0.0074, 0.0064, 0.0061, 0.006, 0.0054, 0.0054, 0.0053, 0.0043, 0.0016], \"textposition\": \"outside\", \"x\": [0.11610780368258684, 0.1063343908553619, 0.06532174056629256, 0.05426088394807049, 0.051980943602694764, 0.05173927890480532, 0.05089458421708428, 0.03867700611058299, 0.03313481308616591, 0.025824710633812982, 0.025731982155011685, 0.02307164197188835, 0.02046015064504108, 0.019482336538572557, 0.01929563029522821, 0.019001108275398915, 0.01857361205897132, 0.016969054145589923, 0.01690879751454524, 0.0157541414248629, 0.01545152738811186, 0.015329732560275883, 0.015035123172048687, 0.014006968750231502, 0.013281118084770543, 0.012890465018035766, 0.011513424096053717, 0.010517430012786495, 0.010336004207328848, 0.009254365864168959, 0.009244503391309642, 0.008834480334766887, 0.008603999310120734, 0.008352597397781231, 0.0073701043778740495, 0.006373527044608652, 0.0060744757354528256, 0.005956836102671328, 0.005442165208235839, 0.005384851286304614, 0.005292651554343048, 0.00431791470890947, 0.0016111237612412067], \"y\": [\"url_char_. + url_length\", \"url_char_j + url_length\", \"url_extensions + url_length\", \"url_length + url_tlds\", \"url_char_. + url_char_z\", \"url_char_w + url_length\", \"url_char_b + url_length\", \"url_char_. + url_char_w\", \"url_length + url_words_with_length_4\", \"url_char_w + url_extensions\", \"url_char_.\", \"url_char_w + url_char_y\", \"url_char_i + url_length\", \"url_char_h + url_length\", \"url_char_. + url_char_x\", \"url_char_c + url_length\", \"url_char_n + url_length\", \"url_char_s + url_length\", \"url_length + url_words_with_length_5\", \"url_char_l + url_length\", \"url_extension_.com + url_length\", \"url_char_f + url_length\", \"url_char_w * url_extensions\", \"url_char_k + url_length\", \"url_char_d + url_length\", \"url_char_p + url_length\", \"url_char_g + url_length\", \"url_char_. * url_char_w\", \"url_char_w + url_words_with_length_7\", \"url_char_w + url_words_with_length_8\", \"url_char_. + url_extension_.net\", \"url_char_y + url_length\", \"url_char_z + url_length\", \"url_char_v + url_length\", \"url_char_w + url_char_x\", \"url_length + url_words_with_length_7\", \"url_length + url_word_count_info\", \"url_char_- + url_length\", \"url_char_x + url_length\", \"url_char_. + url_words_with_length_8\", \"url_extension_.net + url_length\", \"url_length + url_words_with_length_8\", \"url_length\"], \"type\": \"bar\", \"uid\": \"1e7f0b34-8981-427b-9f78-c90a5a148952\"}], {\"autosize\": false, \"height\": 1000, \"width\": 1000, \"xaxis\": {\"tickfont\": {\"color\": \"black\", \"size\": 12}, \"title\": \"Feature Importances\"}, \"yaxis\": {\"automargin\": true}}, {\"showLink\": true, \"linkText\": \"Export to plot.ly\", \"plotlyServerURL\": \"https://plot.ly\"})});</script>"
      ],
      "text/vnd.plotly.v1+html": [
       "<div id=\"94627988-c179-40cf-82e7-55cb19354229\" style=\"height: 1000px; width: 1000px;\" class=\"plotly-graph-div\"></div><script type=\"text/javascript\">require([\"plotly\"], function(Plotly) { window.PLOTLYENV=window.PLOTLYENV || {};window.PLOTLYENV.BASE_URL=\"https://plot.ly\";Plotly.newPlot(\"94627988-c179-40cf-82e7-55cb19354229\", [{\"marker\": {\"color\": \"rgb(158,202,225)\", \"line\": {\"color\": \"rgb(8,48,107)\", \"width\": 1.5}}, \"opacity\": 0.6, \"orientation\": \"h\", \"text\": [0.1161, 0.1063, 0.0653, 0.0543, 0.052, 0.0517, 0.0509, 0.0387, 0.0331, 0.0258, 0.0257, 0.0231, 0.0205, 0.0195, 0.0193, 0.019, 0.0186, 0.017, 0.0169, 0.0158, 0.0155, 0.0153, 0.015, 0.014, 0.0133, 0.0129, 0.0115, 0.0105, 0.0103, 0.0093, 0.0092, 0.0088, 0.0086, 0.0084, 0.0074, 0.0064, 0.0061, 0.006, 0.0054, 0.0054, 0.0053, 0.0043, 0.0016], \"textposition\": \"outside\", \"x\": [0.11610780368258684, 0.1063343908553619, 0.06532174056629256, 0.05426088394807049, 0.051980943602694764, 0.05173927890480532, 0.05089458421708428, 0.03867700611058299, 0.03313481308616591, 0.025824710633812982, 0.025731982155011685, 0.02307164197188835, 0.02046015064504108, 0.019482336538572557, 0.01929563029522821, 0.019001108275398915, 0.01857361205897132, 0.016969054145589923, 0.01690879751454524, 0.0157541414248629, 0.01545152738811186, 0.015329732560275883, 0.015035123172048687, 0.014006968750231502, 0.013281118084770543, 0.012890465018035766, 0.011513424096053717, 0.010517430012786495, 0.010336004207328848, 0.009254365864168959, 0.009244503391309642, 0.008834480334766887, 0.008603999310120734, 0.008352597397781231, 0.0073701043778740495, 0.006373527044608652, 0.0060744757354528256, 0.005956836102671328, 0.005442165208235839, 0.005384851286304614, 0.005292651554343048, 0.00431791470890947, 0.0016111237612412067], \"y\": [\"url_char_. + url_length\", \"url_char_j + url_length\", \"url_extensions + url_length\", \"url_length + url_tlds\", \"url_char_. + url_char_z\", \"url_char_w + url_length\", \"url_char_b + url_length\", \"url_char_. + url_char_w\", \"url_length + url_words_with_length_4\", \"url_char_w + url_extensions\", \"url_char_.\", \"url_char_w + url_char_y\", \"url_char_i + url_length\", \"url_char_h + url_length\", \"url_char_. + url_char_x\", \"url_char_c + url_length\", \"url_char_n + url_length\", \"url_char_s + url_length\", \"url_length + url_words_with_length_5\", \"url_char_l + url_length\", \"url_extension_.com + url_length\", \"url_char_f + url_length\", \"url_char_w * url_extensions\", \"url_char_k + url_length\", \"url_char_d + url_length\", \"url_char_p + url_length\", \"url_char_g + url_length\", \"url_char_. * url_char_w\", \"url_char_w + url_words_with_length_7\", \"url_char_w + url_words_with_length_8\", \"url_char_. + url_extension_.net\", \"url_char_y + url_length\", \"url_char_z + url_length\", \"url_char_v + url_length\", \"url_char_w + url_char_x\", \"url_length + url_words_with_length_7\", \"url_length + url_word_count_info\", \"url_char_- + url_length\", \"url_char_x + url_length\", \"url_char_. + url_words_with_length_8\", \"url_extension_.net + url_length\", \"url_length + url_words_with_length_8\", \"url_length\"], \"type\": \"bar\", \"uid\": \"1e7f0b34-8981-427b-9f78-c90a5a148952\"}], {\"autosize\": false, \"height\": 1000, \"width\": 1000, \"xaxis\": {\"tickfont\": {\"color\": \"black\", \"size\": 12}, \"title\": \"Feature Importances\"}, \"yaxis\": {\"automargin\": true}}, {\"showLink\": true, \"linkText\": \"Export to plot.ly\", \"plotlyServerURL\": \"https://plot.ly\"})});</script>"
      ]
     },
     "metadata": {},
     "output_type": "display_data"
    },
    {
     "name": "stdout",
     "output_type": "stream",
     "text": [
      "\n",
      "\n",
      "\u001b[1mAdaoost Classifier\u001b[0m\n",
      "Accuracy of the model for training data is: 0.936686532859\n",
      "Confusion Matrix for training data is:\n"
     ]
    },
    {
     "data": {
      "text/plain": [
       "Predicted  False  True  __all__\n",
       "Actual                         \n",
       "False      31326   566    31892\n",
       "True        1803  3722     5525\n",
       "__all__    33129  4288    37417"
      ]
     },
     "metadata": {},
     "output_type": "display_data"
    },
    {
     "name": "stdout",
     "output_type": "stream",
     "text": [
      "Accuracy of the model for test data is: 0.936711567244\n",
      "Confusion Matrix for test data is:\n"
     ]
    },
    {
     "data": {
      "text/plain": [
       "Predicted  False  True  __all__\n",
       "Actual                         \n",
       "False       7835   150     7985\n",
       "True         442   927     1369\n",
       "__all__     8277  1077     9354"
      ]
     },
     "metadata": {},
     "output_type": "display_data"
    },
    {
     "data": {
      "application/vnd.plotly.v1+json": {
       "config": {
        "linkText": "Export to plot.ly",
        "plotlyServerURL": "https://plot.ly",
        "showLink": true
       },
       "data": [
        {
         "marker": {
          "color": "rgb(158,202,225)",
          "line": {
           "color": "rgb(8,48,107)",
           "width": 1.5
          }
         },
         "opacity": 0.6,
         "orientation": "h",
         "text": [
          0.12,
          0.12,
          0.1,
          0.08,
          0.08,
          0.08,
          0.08,
          0.06,
          0.06,
          0.04,
          0.02,
          0.02,
          0.02,
          0.02,
          0.02,
          0.02,
          0.02,
          0.02,
          0.02,
          0,
          0,
          0,
          0,
          0,
          0,
          0,
          0,
          0,
          0,
          0,
          0,
          0,
          0,
          0,
          0,
          0,
          0,
          0,
          0,
          0,
          0,
          0,
          0
         ],
         "textposition": "outside",
         "type": "bar",
         "uid": "24e8644f-57c7-405d-838f-04dc7345e0fe",
         "x": [
          0.12,
          0.12,
          0.1,
          0.08,
          0.08,
          0.08,
          0.08,
          0.06,
          0.06,
          0.04,
          0.02,
          0.02,
          0.02,
          0.02,
          0.02,
          0.02,
          0.02,
          0.02,
          0.02,
          0,
          0,
          0,
          0,
          0,
          0,
          0,
          0,
          0,
          0,
          0,
          0,
          0,
          0,
          0,
          0,
          0,
          0,
          0,
          0,
          0,
          0,
          0,
          0
         ],
         "y": [
          "url_extensions + url_length",
          "url_length + url_words_with_length_4",
          "url_char_. + url_char_z",
          "url_char_w * url_extensions",
          "url_char_w + url_extensions",
          "url_char_c + url_length",
          "url_char_b + url_length",
          "url_char_i + url_length",
          "url_char_. + url_length",
          "url_char_w + url_char_y",
          "url_char_. + url_extension_.net",
          "url_char_f + url_length",
          "url_char_s + url_length",
          "url_char_. + url_char_w",
          "url_char_n + url_length",
          "url_char_d + url_length",
          "url_char_. * url_char_w",
          "url_extension_.com + url_length",
          "url_char_. + url_words_with_length_8",
          "url_char_h + url_length",
          "url_char_.",
          "url_char_k + url_length",
          "url_char_. + url_char_x",
          "url_char_j + url_length",
          "url_char_g + url_length",
          "url_char_v + url_length",
          "url_char_l + url_length",
          "url_extension_.net + url_length",
          "url_length + url_words_with_length_8",
          "url_length + url_words_with_length_7",
          "url_length + url_words_with_length_5",
          "url_length + url_word_count_info",
          "url_length + url_tlds",
          "url_length",
          "url_char_z + url_length",
          "url_char_p + url_length",
          "url_char_y + url_length",
          "url_char_x + url_length",
          "url_char_w + url_words_with_length_8",
          "url_char_w + url_words_with_length_7",
          "url_char_w + url_length",
          "url_char_w + url_char_x",
          "url_char_- + url_length"
         ]
        }
       ],
       "layout": {
        "autosize": false,
        "height": 1000,
        "width": 1000,
        "xaxis": {
         "tickfont": {
          "color": "black",
          "size": 12
         },
         "title": "Feature Importances"
        },
        "yaxis": {
         "automargin": true
        }
       }
      },
      "text/html": [
       "<div id=\"a08b6e13-eea1-49b4-9492-98dad8e3f08e\" style=\"height: 1000px; width: 1000px;\" class=\"plotly-graph-div\"></div><script type=\"text/javascript\">require([\"plotly\"], function(Plotly) { window.PLOTLYENV=window.PLOTLYENV || {};window.PLOTLYENV.BASE_URL=\"https://plot.ly\";Plotly.newPlot(\"a08b6e13-eea1-49b4-9492-98dad8e3f08e\", [{\"marker\": {\"color\": \"rgb(158,202,225)\", \"line\": {\"color\": \"rgb(8,48,107)\", \"width\": 1.5}}, \"opacity\": 0.6, \"orientation\": \"h\", \"text\": [0.12, 0.12, 0.1, 0.08, 0.08, 0.08, 0.08, 0.06, 0.06, 0.04, 0.02, 0.02, 0.02, 0.02, 0.02, 0.02, 0.02, 0.02, 0.02, 0.0, 0.0, 0.0, 0.0, 0.0, 0.0, 0.0, 0.0, 0.0, 0.0, 0.0, 0.0, 0.0, 0.0, 0.0, 0.0, 0.0, 0.0, 0.0, 0.0, 0.0, 0.0, 0.0, 0.0], \"textposition\": \"outside\", \"x\": [0.12, 0.12, 0.1, 0.08, 0.08, 0.08, 0.08, 0.06, 0.06, 0.04, 0.02, 0.02, 0.02, 0.02, 0.02, 0.02, 0.02, 0.02, 0.02, 0.0, 0.0, 0.0, 0.0, 0.0, 0.0, 0.0, 0.0, 0.0, 0.0, 0.0, 0.0, 0.0, 0.0, 0.0, 0.0, 0.0, 0.0, 0.0, 0.0, 0.0, 0.0, 0.0, 0.0], \"y\": [\"url_extensions + url_length\", \"url_length + url_words_with_length_4\", \"url_char_. + url_char_z\", \"url_char_w * url_extensions\", \"url_char_w + url_extensions\", \"url_char_c + url_length\", \"url_char_b + url_length\", \"url_char_i + url_length\", \"url_char_. + url_length\", \"url_char_w + url_char_y\", \"url_char_. + url_extension_.net\", \"url_char_f + url_length\", \"url_char_s + url_length\", \"url_char_. + url_char_w\", \"url_char_n + url_length\", \"url_char_d + url_length\", \"url_char_. * url_char_w\", \"url_extension_.com + url_length\", \"url_char_. + url_words_with_length_8\", \"url_char_h + url_length\", \"url_char_.\", \"url_char_k + url_length\", \"url_char_. + url_char_x\", \"url_char_j + url_length\", \"url_char_g + url_length\", \"url_char_v + url_length\", \"url_char_l + url_length\", \"url_extension_.net + url_length\", \"url_length + url_words_with_length_8\", \"url_length + url_words_with_length_7\", \"url_length + url_words_with_length_5\", \"url_length + url_word_count_info\", \"url_length + url_tlds\", \"url_length\", \"url_char_z + url_length\", \"url_char_p + url_length\", \"url_char_y + url_length\", \"url_char_x + url_length\", \"url_char_w + url_words_with_length_8\", \"url_char_w + url_words_with_length_7\", \"url_char_w + url_length\", \"url_char_w + url_char_x\", \"url_char_- + url_length\"], \"type\": \"bar\", \"uid\": \"24e8644f-57c7-405d-838f-04dc7345e0fe\"}], {\"autosize\": false, \"height\": 1000, \"width\": 1000, \"xaxis\": {\"tickfont\": {\"color\": \"black\", \"size\": 12}, \"title\": \"Feature Importances\"}, \"yaxis\": {\"automargin\": true}}, {\"showLink\": true, \"linkText\": \"Export to plot.ly\", \"plotlyServerURL\": \"https://plot.ly\"})});</script>"
      ],
      "text/vnd.plotly.v1+html": [
       "<div id=\"a08b6e13-eea1-49b4-9492-98dad8e3f08e\" style=\"height: 1000px; width: 1000px;\" class=\"plotly-graph-div\"></div><script type=\"text/javascript\">require([\"plotly\"], function(Plotly) { window.PLOTLYENV=window.PLOTLYENV || {};window.PLOTLYENV.BASE_URL=\"https://plot.ly\";Plotly.newPlot(\"a08b6e13-eea1-49b4-9492-98dad8e3f08e\", [{\"marker\": {\"color\": \"rgb(158,202,225)\", \"line\": {\"color\": \"rgb(8,48,107)\", \"width\": 1.5}}, \"opacity\": 0.6, \"orientation\": \"h\", \"text\": [0.12, 0.12, 0.1, 0.08, 0.08, 0.08, 0.08, 0.06, 0.06, 0.04, 0.02, 0.02, 0.02, 0.02, 0.02, 0.02, 0.02, 0.02, 0.02, 0.0, 0.0, 0.0, 0.0, 0.0, 0.0, 0.0, 0.0, 0.0, 0.0, 0.0, 0.0, 0.0, 0.0, 0.0, 0.0, 0.0, 0.0, 0.0, 0.0, 0.0, 0.0, 0.0, 0.0], \"textposition\": \"outside\", \"x\": [0.12, 0.12, 0.1, 0.08, 0.08, 0.08, 0.08, 0.06, 0.06, 0.04, 0.02, 0.02, 0.02, 0.02, 0.02, 0.02, 0.02, 0.02, 0.02, 0.0, 0.0, 0.0, 0.0, 0.0, 0.0, 0.0, 0.0, 0.0, 0.0, 0.0, 0.0, 0.0, 0.0, 0.0, 0.0, 0.0, 0.0, 0.0, 0.0, 0.0, 0.0, 0.0, 0.0], \"y\": [\"url_extensions + url_length\", \"url_length + url_words_with_length_4\", \"url_char_. + url_char_z\", \"url_char_w * url_extensions\", \"url_char_w + url_extensions\", \"url_char_c + url_length\", \"url_char_b + url_length\", \"url_char_i + url_length\", \"url_char_. + url_length\", \"url_char_w + url_char_y\", \"url_char_. + url_extension_.net\", \"url_char_f + url_length\", \"url_char_s + url_length\", \"url_char_. + url_char_w\", \"url_char_n + url_length\", \"url_char_d + url_length\", \"url_char_. * url_char_w\", \"url_extension_.com + url_length\", \"url_char_. + url_words_with_length_8\", \"url_char_h + url_length\", \"url_char_.\", \"url_char_k + url_length\", \"url_char_. + url_char_x\", \"url_char_j + url_length\", \"url_char_g + url_length\", \"url_char_v + url_length\", \"url_char_l + url_length\", \"url_extension_.net + url_length\", \"url_length + url_words_with_length_8\", \"url_length + url_words_with_length_7\", \"url_length + url_words_with_length_5\", \"url_length + url_word_count_info\", \"url_length + url_tlds\", \"url_length\", \"url_char_z + url_length\", \"url_char_p + url_length\", \"url_char_y + url_length\", \"url_char_x + url_length\", \"url_char_w + url_words_with_length_8\", \"url_char_w + url_words_with_length_7\", \"url_char_w + url_length\", \"url_char_w + url_char_x\", \"url_char_- + url_length\"], \"type\": \"bar\", \"uid\": \"24e8644f-57c7-405d-838f-04dc7345e0fe\"}], {\"autosize\": false, \"height\": 1000, \"width\": 1000, \"xaxis\": {\"tickfont\": {\"color\": \"black\", \"size\": 12}, \"title\": \"Feature Importances\"}, \"yaxis\": {\"automargin\": true}}, {\"showLink\": true, \"linkText\": \"Export to plot.ly\", \"plotlyServerURL\": \"https://plot.ly\"})});</script>"
      ]
     },
     "metadata": {},
     "output_type": "display_data"
    },
    {
     "name": "stdout",
     "output_type": "stream",
     "text": [
      "\n",
      "\n",
      "\u001b[1mGradientBoosting Classifier\u001b[0m\n",
      "Accuracy of the model for training data is: 0.947457038245\n",
      "Confusion Matrix for training data is:\n"
     ]
    },
    {
     "data": {
      "text/plain": [
       "Predicted  False  True  __all__\n",
       "Actual                         \n",
       "False      31321   571    31892\n",
       "True        1395  4130     5525\n",
       "__all__    32716  4701    37417"
      ]
     },
     "metadata": {},
     "output_type": "display_data"
    },
    {
     "name": "stdout",
     "output_type": "stream",
     "text": [
      "Accuracy of the model for test data is: 0.944194996793\n",
      "Confusion Matrix for test data is:\n"
     ]
    },
    {
     "data": {
      "text/plain": [
       "Predicted  False  True  __all__\n",
       "Actual                         \n",
       "False       7828   157     7985\n",
       "True         365  1004     1369\n",
       "__all__     8193  1161     9354"
      ]
     },
     "metadata": {},
     "output_type": "display_data"
    },
    {
     "data": {
      "application/vnd.plotly.v1+json": {
       "config": {
        "linkText": "Export to plot.ly",
        "plotlyServerURL": "https://plot.ly",
        "showLink": true
       },
       "data": [
        {
         "marker": {
          "color": "rgb(158,202,225)",
          "line": {
           "color": "rgb(8,48,107)",
           "width": 1.5
          }
         },
         "opacity": 0.6,
         "orientation": "h",
         "text": [
          0.5444,
          0.0902,
          0.0651,
          0.0438,
          0.0413,
          0.0358,
          0.0331,
          0.0258,
          0.0207,
          0.0176,
          0.0174,
          0.0131,
          0.011,
          0.0068,
          0.0055,
          0.0041,
          0.0033,
          0.0029,
          0.0023,
          0.002,
          0.0019,
          0.0017,
          0.0013,
          0.0012,
          0.0012,
          0.0009,
          0.0009,
          0.0009,
          0.0007,
          0.0005,
          0.0005,
          0.0004,
          0.0004,
          0.0003,
          0.0003,
          0.0002,
          0.0002,
          0.0001,
          0.0001,
          0.0001,
          0.0001,
          0,
          0
         ],
         "textposition": "outside",
         "type": "bar",
         "uid": "e1f75c72-62ab-416e-9258-9565cd9332f1",
         "x": [
          0.5444498758088422,
          0.0901532931328055,
          0.06509906735532266,
          0.043806548016670596,
          0.041259947734223826,
          0.035771516615537555,
          0.033084178366204135,
          0.025797520413071852,
          0.02073194692473665,
          0.017647008479681148,
          0.017367671792649635,
          0.013104327619050914,
          0.010983544483295969,
          0.00682901780902355,
          0.005527901001484518,
          0.004081779103523087,
          0.003342950865003817,
          0.0029383096267407865,
          0.0022616496294816935,
          0.0020405766380071143,
          0.0019028829190002917,
          0.00168542886039698,
          0.0012764186936684771,
          0.0011784063693110144,
          0.0011748094871488761,
          0.0009062968893469261,
          0.000880864034054055,
          0.0008719319295394816,
          0.0007223467795626215,
          0.0005436505275388492,
          0.00046528489346791397,
          0.0003764459100192549,
          0.0003600841207846381,
          0.0003058925997327406,
          0.0003040921167957189,
          0.0001957705336567515,
          0.0001513500197090603,
          0.00014977813609174035,
          0.00011680320122955335,
          6.785260967752982e-05,
          6.304064705491225e-05,
          2.1937306855413746e-05,
          0
         ],
         "y": [
          "url_extensions + url_length",
          "url_char_. + url_char_z",
          "url_char_. + url_char_x",
          "url_char_w + url_length",
          "url_char_.",
          "url_char_w + url_extensions",
          "url_char_. * url_char_w",
          "url_char_w * url_extensions",
          "url_char_. + url_char_w",
          "url_length + url_words_with_length_4",
          "url_char_w + url_char_y",
          "url_char_z + url_length",
          "url_char_b + url_length",
          "url_char_. + url_length",
          "url_char_i + url_length",
          "url_char_f + url_length",
          "url_char_w + url_char_x",
          "url_char_k + url_length",
          "url_char_p + url_length",
          "url_char_y + url_length",
          "url_extension_.com + url_length",
          "url_char_. + url_extension_.net",
          "url_char_j + url_length",
          "url_length + url_tlds",
          "url_char_- + url_length",
          "url_char_c + url_length",
          "url_char_. + url_words_with_length_8",
          "url_char_w + url_words_with_length_8",
          "url_char_x + url_length",
          "url_char_n + url_length",
          "url_char_l + url_length",
          "url_char_d + url_length",
          "url_length + url_word_count_info",
          "url_char_h + url_length",
          "url_char_g + url_length",
          "url_char_s + url_length",
          "url_length + url_words_with_length_5",
          "url_length + url_words_with_length_8",
          "url_char_v + url_length",
          "url_extension_.net + url_length",
          "url_length + url_words_with_length_7",
          "url_char_w + url_words_with_length_7",
          "url_length"
         ]
        }
       ],
       "layout": {
        "autosize": false,
        "height": 1000,
        "width": 1000,
        "xaxis": {
         "tickfont": {
          "color": "black",
          "size": 12
         },
         "title": "Feature Importances"
        },
        "yaxis": {
         "automargin": true
        }
       }
      },
      "text/html": [
       "<div id=\"1938af5d-1097-4977-9b2e-05f845b96095\" style=\"height: 1000px; width: 1000px;\" class=\"plotly-graph-div\"></div><script type=\"text/javascript\">require([\"plotly\"], function(Plotly) { window.PLOTLYENV=window.PLOTLYENV || {};window.PLOTLYENV.BASE_URL=\"https://plot.ly\";Plotly.newPlot(\"1938af5d-1097-4977-9b2e-05f845b96095\", [{\"marker\": {\"color\": \"rgb(158,202,225)\", \"line\": {\"color\": \"rgb(8,48,107)\", \"width\": 1.5}}, \"opacity\": 0.6, \"orientation\": \"h\", \"text\": [0.5444, 0.0902, 0.0651, 0.0438, 0.0413, 0.0358, 0.0331, 0.0258, 0.0207, 0.0176, 0.0174, 0.0131, 0.011, 0.0068, 0.0055, 0.0041, 0.0033, 0.0029, 0.0023, 0.002, 0.0019, 0.0017, 0.0013, 0.0012, 0.0012, 0.0009, 0.0009, 0.0009, 0.0007, 0.0005, 0.0005, 0.0004, 0.0004, 0.0003, 0.0003, 0.0002, 0.0002, 0.0001, 0.0001, 0.0001, 0.0001, 0.0, 0.0], \"textposition\": \"outside\", \"x\": [0.5444498758088422, 0.0901532931328055, 0.06509906735532266, 0.043806548016670596, 0.041259947734223826, 0.035771516615537555, 0.033084178366204135, 0.025797520413071852, 0.02073194692473665, 0.017647008479681148, 0.017367671792649635, 0.013104327619050914, 0.010983544483295969, 0.00682901780902355, 0.005527901001484518, 0.004081779103523087, 0.003342950865003817, 0.0029383096267407865, 0.0022616496294816935, 0.0020405766380071143, 0.0019028829190002917, 0.00168542886039698, 0.0012764186936684771, 0.0011784063693110144, 0.0011748094871488761, 0.0009062968893469261, 0.000880864034054055, 0.0008719319295394816, 0.0007223467795626215, 0.0005436505275388492, 0.00046528489346791397, 0.0003764459100192549, 0.0003600841207846381, 0.0003058925997327406, 0.0003040921167957189, 0.0001957705336567515, 0.0001513500197090603, 0.00014977813609174035, 0.00011680320122955335, 6.785260967752982e-05, 6.304064705491225e-05, 2.1937306855413746e-05, 0.0], \"y\": [\"url_extensions + url_length\", \"url_char_. + url_char_z\", \"url_char_. + url_char_x\", \"url_char_w + url_length\", \"url_char_.\", \"url_char_w + url_extensions\", \"url_char_. * url_char_w\", \"url_char_w * url_extensions\", \"url_char_. + url_char_w\", \"url_length + url_words_with_length_4\", \"url_char_w + url_char_y\", \"url_char_z + url_length\", \"url_char_b + url_length\", \"url_char_. + url_length\", \"url_char_i + url_length\", \"url_char_f + url_length\", \"url_char_w + url_char_x\", \"url_char_k + url_length\", \"url_char_p + url_length\", \"url_char_y + url_length\", \"url_extension_.com + url_length\", \"url_char_. + url_extension_.net\", \"url_char_j + url_length\", \"url_length + url_tlds\", \"url_char_- + url_length\", \"url_char_c + url_length\", \"url_char_. + url_words_with_length_8\", \"url_char_w + url_words_with_length_8\", \"url_char_x + url_length\", \"url_char_n + url_length\", \"url_char_l + url_length\", \"url_char_d + url_length\", \"url_length + url_word_count_info\", \"url_char_h + url_length\", \"url_char_g + url_length\", \"url_char_s + url_length\", \"url_length + url_words_with_length_5\", \"url_length + url_words_with_length_8\", \"url_char_v + url_length\", \"url_extension_.net + url_length\", \"url_length + url_words_with_length_7\", \"url_char_w + url_words_with_length_7\", \"url_length\"], \"type\": \"bar\", \"uid\": \"e1f75c72-62ab-416e-9258-9565cd9332f1\"}], {\"autosize\": false, \"height\": 1000, \"width\": 1000, \"xaxis\": {\"tickfont\": {\"color\": \"black\", \"size\": 12}, \"title\": \"Feature Importances\"}, \"yaxis\": {\"automargin\": true}}, {\"showLink\": true, \"linkText\": \"Export to plot.ly\", \"plotlyServerURL\": \"https://plot.ly\"})});</script>"
      ],
      "text/vnd.plotly.v1+html": [
       "<div id=\"1938af5d-1097-4977-9b2e-05f845b96095\" style=\"height: 1000px; width: 1000px;\" class=\"plotly-graph-div\"></div><script type=\"text/javascript\">require([\"plotly\"], function(Plotly) { window.PLOTLYENV=window.PLOTLYENV || {};window.PLOTLYENV.BASE_URL=\"https://plot.ly\";Plotly.newPlot(\"1938af5d-1097-4977-9b2e-05f845b96095\", [{\"marker\": {\"color\": \"rgb(158,202,225)\", \"line\": {\"color\": \"rgb(8,48,107)\", \"width\": 1.5}}, \"opacity\": 0.6, \"orientation\": \"h\", \"text\": [0.5444, 0.0902, 0.0651, 0.0438, 0.0413, 0.0358, 0.0331, 0.0258, 0.0207, 0.0176, 0.0174, 0.0131, 0.011, 0.0068, 0.0055, 0.0041, 0.0033, 0.0029, 0.0023, 0.002, 0.0019, 0.0017, 0.0013, 0.0012, 0.0012, 0.0009, 0.0009, 0.0009, 0.0007, 0.0005, 0.0005, 0.0004, 0.0004, 0.0003, 0.0003, 0.0002, 0.0002, 0.0001, 0.0001, 0.0001, 0.0001, 0.0, 0.0], \"textposition\": \"outside\", \"x\": [0.5444498758088422, 0.0901532931328055, 0.06509906735532266, 0.043806548016670596, 0.041259947734223826, 0.035771516615537555, 0.033084178366204135, 0.025797520413071852, 0.02073194692473665, 0.017647008479681148, 0.017367671792649635, 0.013104327619050914, 0.010983544483295969, 0.00682901780902355, 0.005527901001484518, 0.004081779103523087, 0.003342950865003817, 0.0029383096267407865, 0.0022616496294816935, 0.0020405766380071143, 0.0019028829190002917, 0.00168542886039698, 0.0012764186936684771, 0.0011784063693110144, 0.0011748094871488761, 0.0009062968893469261, 0.000880864034054055, 0.0008719319295394816, 0.0007223467795626215, 0.0005436505275388492, 0.00046528489346791397, 0.0003764459100192549, 0.0003600841207846381, 0.0003058925997327406, 0.0003040921167957189, 0.0001957705336567515, 0.0001513500197090603, 0.00014977813609174035, 0.00011680320122955335, 6.785260967752982e-05, 6.304064705491225e-05, 2.1937306855413746e-05, 0.0], \"y\": [\"url_extensions + url_length\", \"url_char_. + url_char_z\", \"url_char_. + url_char_x\", \"url_char_w + url_length\", \"url_char_.\", \"url_char_w + url_extensions\", \"url_char_. * url_char_w\", \"url_char_w * url_extensions\", \"url_char_. + url_char_w\", \"url_length + url_words_with_length_4\", \"url_char_w + url_char_y\", \"url_char_z + url_length\", \"url_char_b + url_length\", \"url_char_. + url_length\", \"url_char_i + url_length\", \"url_char_f + url_length\", \"url_char_w + url_char_x\", \"url_char_k + url_length\", \"url_char_p + url_length\", \"url_char_y + url_length\", \"url_extension_.com + url_length\", \"url_char_. + url_extension_.net\", \"url_char_j + url_length\", \"url_length + url_tlds\", \"url_char_- + url_length\", \"url_char_c + url_length\", \"url_char_. + url_words_with_length_8\", \"url_char_w + url_words_with_length_8\", \"url_char_x + url_length\", \"url_char_n + url_length\", \"url_char_l + url_length\", \"url_char_d + url_length\", \"url_length + url_word_count_info\", \"url_char_h + url_length\", \"url_char_g + url_length\", \"url_char_s + url_length\", \"url_length + url_words_with_length_5\", \"url_length + url_words_with_length_8\", \"url_char_v + url_length\", \"url_extension_.net + url_length\", \"url_length + url_words_with_length_7\", \"url_char_w + url_words_with_length_7\", \"url_length\"], \"type\": \"bar\", \"uid\": \"e1f75c72-62ab-416e-9258-9565cd9332f1\"}], {\"autosize\": false, \"height\": 1000, \"width\": 1000, \"xaxis\": {\"tickfont\": {\"color\": \"black\", \"size\": 12}, \"title\": \"Feature Importances\"}, \"yaxis\": {\"automargin\": true}}, {\"showLink\": true, \"linkText\": \"Export to plot.ly\", \"plotlyServerURL\": \"https://plot.ly\"})});</script>"
      ]
     },
     "metadata": {},
     "output_type": "display_data"
    },
    {
     "name": "stdout",
     "output_type": "stream",
     "text": [
      "\n",
      "\n",
      "\u001b[1mExtraTree Classifier\u001b[0m\n",
      "Accuracy of the model for training data is: 0.999732741802\n",
      "Confusion Matrix for training data is:\n"
     ]
    },
    {
     "data": {
      "text/plain": [
       "Predicted  False  True  __all__\n",
       "Actual                         \n",
       "False      31892     0    31892\n",
       "True          10  5515     5525\n",
       "__all__    31902  5515    37417"
      ]
     },
     "metadata": {},
     "output_type": "display_data"
    },
    {
     "name": "stdout",
     "output_type": "stream",
     "text": [
      "Accuracy of the model for test data is: 0.95531323498\n",
      "Confusion Matrix for test data is:\n"
     ]
    },
    {
     "data": {
      "text/plain": [
       "Predicted  False  True  __all__\n",
       "Actual                         \n",
       "False       7871   114     7985\n",
       "True         304  1065     1369\n",
       "__all__     8175  1179     9354"
      ]
     },
     "metadata": {},
     "output_type": "display_data"
    },
    {
     "data": {
      "application/vnd.plotly.v1+json": {
       "config": {
        "linkText": "Export to plot.ly",
        "plotlyServerURL": "https://plot.ly",
        "showLink": true
       },
       "data": [
        {
         "marker": {
          "color": "rgb(158,202,225)",
          "line": {
           "color": "rgb(8,48,107)",
           "width": 1.5
          }
         },
         "opacity": 0.6,
         "orientation": "h",
         "text": [
          0.0605,
          0.0568,
          0.0422,
          0.0384,
          0.0365,
          0.0355,
          0.033,
          0.0327,
          0.0326,
          0.0313,
          0.0309,
          0.0306,
          0.0301,
          0.0298,
          0.0291,
          0.0269,
          0.026,
          0.0253,
          0.0249,
          0.0246,
          0.022,
          0.0216,
          0.0212,
          0.0207,
          0.0205,
          0.0187,
          0.018,
          0.0177,
          0.0174,
          0.0167,
          0.0166,
          0.0165,
          0.0158,
          0.014,
          0.0103,
          0.0096,
          0.0092,
          0.0079,
          0.0075,
          0.0065,
          0.0052,
          0.0046,
          0.0041
         ],
         "textposition": "outside",
         "type": "bar",
         "uid": "b0a60f35-00b4-4fb9-805e-245a4d9705d1",
         "x": [
          0.060485129467390444,
          0.056784626009622904,
          0.04217065811004195,
          0.03844869270926464,
          0.03654934678669554,
          0.03552516737999636,
          0.03299603885135939,
          0.03270583054889985,
          0.032586105710905686,
          0.031283488470550715,
          0.030877274892137367,
          0.03059951163850701,
          0.030107498895796912,
          0.02975122686667165,
          0.029060301337347334,
          0.026938076248838615,
          0.025960851877552232,
          0.025283307640743862,
          0.024899991153101382,
          0.02457133154142684,
          0.02197788989298049,
          0.021562296152268307,
          0.0212364513606391,
          0.020715813595415904,
          0.02051239642556742,
          0.01872682772532456,
          0.01798288512698993,
          0.01766042987470013,
          0.017376242816367928,
          0.016743256420105233,
          0.016648298019295824,
          0.016466707700255274,
          0.015788726833786314,
          0.01403728562272628,
          0.010335676670771213,
          0.009625449513551888,
          0.009210535432204889,
          0.007854497463497298,
          0.007540617805180286,
          0.006482947783121365,
          0.005237233231448569,
          0.004616186757529232,
          0.004076891639421908
         ],
         "y": [
          "url_extension_.com + url_length",
          "url_char_b + url_length",
          "url_char_f + url_length",
          "url_char_w + url_words_with_length_7",
          "url_char_. + url_length",
          "url_char_.",
          "url_char_w + url_extensions",
          "url_char_. + url_char_w",
          "url_length + url_tlds",
          "url_char_. + url_char_z",
          "url_extensions + url_length",
          "url_length + url_words_with_length_4",
          "url_char_g + url_length",
          "url_char_w + url_char_x",
          "url_char_w + url_char_y",
          "url_char_s + url_length",
          "url_char_p + url_length",
          "url_length + url_words_with_length_5",
          "url_char_z + url_length",
          "url_char_w * url_extensions",
          "url_char_. + url_extension_.net",
          "url_char_k + url_length",
          "url_char_h + url_length",
          "url_char_c + url_length",
          "url_char_i + url_length",
          "url_char_w + url_length",
          "url_length",
          "url_char_n + url_length",
          "url_char_. + url_char_x",
          "url_char_x + url_length",
          "url_char_y + url_length",
          "url_char_l + url_length",
          "url_char_v + url_length",
          "url_char_d + url_length",
          "url_char_. * url_char_w",
          "url_char_. + url_words_with_length_8",
          "url_char_j + url_length",
          "url_length + url_words_with_length_7",
          "url_length + url_word_count_info",
          "url_char_- + url_length",
          "url_char_w + url_words_with_length_8",
          "url_extension_.net + url_length",
          "url_length + url_words_with_length_8"
         ]
        }
       ],
       "layout": {
        "autosize": false,
        "height": 1000,
        "width": 1000,
        "xaxis": {
         "tickfont": {
          "color": "black",
          "size": 12
         },
         "title": "Feature Importances"
        },
        "yaxis": {
         "automargin": true
        }
       }
      },
      "text/html": [
       "<div id=\"65afd1b4-863b-4022-89eb-4dd3eb82a0a2\" style=\"height: 1000px; width: 1000px;\" class=\"plotly-graph-div\"></div><script type=\"text/javascript\">require([\"plotly\"], function(Plotly) { window.PLOTLYENV=window.PLOTLYENV || {};window.PLOTLYENV.BASE_URL=\"https://plot.ly\";Plotly.newPlot(\"65afd1b4-863b-4022-89eb-4dd3eb82a0a2\", [{\"marker\": {\"color\": \"rgb(158,202,225)\", \"line\": {\"color\": \"rgb(8,48,107)\", \"width\": 1.5}}, \"opacity\": 0.6, \"orientation\": \"h\", \"text\": [0.0605, 0.0568, 0.0422, 0.0384, 0.0365, 0.0355, 0.033, 0.0327, 0.0326, 0.0313, 0.0309, 0.0306, 0.0301, 0.0298, 0.0291, 0.0269, 0.026, 0.0253, 0.0249, 0.0246, 0.022, 0.0216, 0.0212, 0.0207, 0.0205, 0.0187, 0.018, 0.0177, 0.0174, 0.0167, 0.0166, 0.0165, 0.0158, 0.014, 0.0103, 0.0096, 0.0092, 0.0079, 0.0075, 0.0065, 0.0052, 0.0046, 0.0041], \"textposition\": \"outside\", \"x\": [0.060485129467390444, 0.056784626009622904, 0.04217065811004195, 0.03844869270926464, 0.03654934678669554, 0.03552516737999636, 0.03299603885135939, 0.03270583054889985, 0.032586105710905686, 0.031283488470550715, 0.030877274892137367, 0.03059951163850701, 0.030107498895796912, 0.02975122686667165, 0.029060301337347334, 0.026938076248838615, 0.025960851877552232, 0.025283307640743862, 0.024899991153101382, 0.02457133154142684, 0.02197788989298049, 0.021562296152268307, 0.0212364513606391, 0.020715813595415904, 0.02051239642556742, 0.01872682772532456, 0.01798288512698993, 0.01766042987470013, 0.017376242816367928, 0.016743256420105233, 0.016648298019295824, 0.016466707700255274, 0.015788726833786314, 0.01403728562272628, 0.010335676670771213, 0.009625449513551888, 0.009210535432204889, 0.007854497463497298, 0.007540617805180286, 0.006482947783121365, 0.005237233231448569, 0.004616186757529232, 0.004076891639421908], \"y\": [\"url_extension_.com + url_length\", \"url_char_b + url_length\", \"url_char_f + url_length\", \"url_char_w + url_words_with_length_7\", \"url_char_. + url_length\", \"url_char_.\", \"url_char_w + url_extensions\", \"url_char_. + url_char_w\", \"url_length + url_tlds\", \"url_char_. + url_char_z\", \"url_extensions + url_length\", \"url_length + url_words_with_length_4\", \"url_char_g + url_length\", \"url_char_w + url_char_x\", \"url_char_w + url_char_y\", \"url_char_s + url_length\", \"url_char_p + url_length\", \"url_length + url_words_with_length_5\", \"url_char_z + url_length\", \"url_char_w * url_extensions\", \"url_char_. + url_extension_.net\", \"url_char_k + url_length\", \"url_char_h + url_length\", \"url_char_c + url_length\", \"url_char_i + url_length\", \"url_char_w + url_length\", \"url_length\", \"url_char_n + url_length\", \"url_char_. + url_char_x\", \"url_char_x + url_length\", \"url_char_y + url_length\", \"url_char_l + url_length\", \"url_char_v + url_length\", \"url_char_d + url_length\", \"url_char_. * url_char_w\", \"url_char_. + url_words_with_length_8\", \"url_char_j + url_length\", \"url_length + url_words_with_length_7\", \"url_length + url_word_count_info\", \"url_char_- + url_length\", \"url_char_w + url_words_with_length_8\", \"url_extension_.net + url_length\", \"url_length + url_words_with_length_8\"], \"type\": \"bar\", \"uid\": \"b0a60f35-00b4-4fb9-805e-245a4d9705d1\"}], {\"autosize\": false, \"height\": 1000, \"width\": 1000, \"xaxis\": {\"tickfont\": {\"color\": \"black\", \"size\": 12}, \"title\": \"Feature Importances\"}, \"yaxis\": {\"automargin\": true}}, {\"showLink\": true, \"linkText\": \"Export to plot.ly\", \"plotlyServerURL\": \"https://plot.ly\"})});</script>"
      ],
      "text/vnd.plotly.v1+html": [
       "<div id=\"65afd1b4-863b-4022-89eb-4dd3eb82a0a2\" style=\"height: 1000px; width: 1000px;\" class=\"plotly-graph-div\"></div><script type=\"text/javascript\">require([\"plotly\"], function(Plotly) { window.PLOTLYENV=window.PLOTLYENV || {};window.PLOTLYENV.BASE_URL=\"https://plot.ly\";Plotly.newPlot(\"65afd1b4-863b-4022-89eb-4dd3eb82a0a2\", [{\"marker\": {\"color\": \"rgb(158,202,225)\", \"line\": {\"color\": \"rgb(8,48,107)\", \"width\": 1.5}}, \"opacity\": 0.6, \"orientation\": \"h\", \"text\": [0.0605, 0.0568, 0.0422, 0.0384, 0.0365, 0.0355, 0.033, 0.0327, 0.0326, 0.0313, 0.0309, 0.0306, 0.0301, 0.0298, 0.0291, 0.0269, 0.026, 0.0253, 0.0249, 0.0246, 0.022, 0.0216, 0.0212, 0.0207, 0.0205, 0.0187, 0.018, 0.0177, 0.0174, 0.0167, 0.0166, 0.0165, 0.0158, 0.014, 0.0103, 0.0096, 0.0092, 0.0079, 0.0075, 0.0065, 0.0052, 0.0046, 0.0041], \"textposition\": \"outside\", \"x\": [0.060485129467390444, 0.056784626009622904, 0.04217065811004195, 0.03844869270926464, 0.03654934678669554, 0.03552516737999636, 0.03299603885135939, 0.03270583054889985, 0.032586105710905686, 0.031283488470550715, 0.030877274892137367, 0.03059951163850701, 0.030107498895796912, 0.02975122686667165, 0.029060301337347334, 0.026938076248838615, 0.025960851877552232, 0.025283307640743862, 0.024899991153101382, 0.02457133154142684, 0.02197788989298049, 0.021562296152268307, 0.0212364513606391, 0.020715813595415904, 0.02051239642556742, 0.01872682772532456, 0.01798288512698993, 0.01766042987470013, 0.017376242816367928, 0.016743256420105233, 0.016648298019295824, 0.016466707700255274, 0.015788726833786314, 0.01403728562272628, 0.010335676670771213, 0.009625449513551888, 0.009210535432204889, 0.007854497463497298, 0.007540617805180286, 0.006482947783121365, 0.005237233231448569, 0.004616186757529232, 0.004076891639421908], \"y\": [\"url_extension_.com + url_length\", \"url_char_b + url_length\", \"url_char_f + url_length\", \"url_char_w + url_words_with_length_7\", \"url_char_. + url_length\", \"url_char_.\", \"url_char_w + url_extensions\", \"url_char_. + url_char_w\", \"url_length + url_tlds\", \"url_char_. + url_char_z\", \"url_extensions + url_length\", \"url_length + url_words_with_length_4\", \"url_char_g + url_length\", \"url_char_w + url_char_x\", \"url_char_w + url_char_y\", \"url_char_s + url_length\", \"url_char_p + url_length\", \"url_length + url_words_with_length_5\", \"url_char_z + url_length\", \"url_char_w * url_extensions\", \"url_char_. + url_extension_.net\", \"url_char_k + url_length\", \"url_char_h + url_length\", \"url_char_c + url_length\", \"url_char_i + url_length\", \"url_char_w + url_length\", \"url_length\", \"url_char_n + url_length\", \"url_char_. + url_char_x\", \"url_char_x + url_length\", \"url_char_y + url_length\", \"url_char_l + url_length\", \"url_char_v + url_length\", \"url_char_d + url_length\", \"url_char_. * url_char_w\", \"url_char_. + url_words_with_length_8\", \"url_char_j + url_length\", \"url_length + url_words_with_length_7\", \"url_length + url_word_count_info\", \"url_char_- + url_length\", \"url_char_w + url_words_with_length_8\", \"url_extension_.net + url_length\", \"url_length + url_words_with_length_8\"], \"type\": \"bar\", \"uid\": \"b0a60f35-00b4-4fb9-805e-245a4d9705d1\"}], {\"autosize\": false, \"height\": 1000, \"width\": 1000, \"xaxis\": {\"tickfont\": {\"color\": \"black\", \"size\": 12}, \"title\": \"Feature Importances\"}, \"yaxis\": {\"automargin\": true}}, {\"showLink\": true, \"linkText\": \"Export to plot.ly\", \"plotlyServerURL\": \"https://plot.ly\"})});</script>"
      ]
     },
     "metadata": {},
     "output_type": "display_data"
    },
    {
     "name": "stdout",
     "output_type": "stream",
     "text": [
      "\n",
      "\n",
      "\u001b[1mBagging Classifier\u001b[0m\n",
      "Accuracy of the model for training data is: 0.993505625785\n",
      "Confusion Matrix for training data is:\n"
     ]
    },
    {
     "data": {
      "text/plain": [
       "Predicted  False  True  __all__\n",
       "Actual                         \n",
       "False      31877    15    31892\n",
       "True         228  5297     5525\n",
       "__all__    32105  5312    37417"
      ]
     },
     "metadata": {},
     "output_type": "display_data"
    },
    {
     "name": "stdout",
     "output_type": "stream",
     "text": [
      "Accuracy of the model for test data is: 0.953602736797\n",
      "Confusion Matrix for test data is:\n"
     ]
    },
    {
     "data": {
      "text/plain": [
       "Predicted  False  True  __all__\n",
       "Actual                         \n",
       "False       7846   139     7985\n",
       "True         295  1074     1369\n",
       "__all__     8141  1213     9354"
      ]
     },
     "metadata": {},
     "output_type": "display_data"
    },
    {
     "name": "stdout",
     "output_type": "stream",
     "text": [
      "\n",
      "\n",
      "\u001b[1mNeural Network-1\u001b[0m\n",
      "The accuracy of the model on training data is: 0.967982467862\n"
     ]
    },
    {
     "data": {
      "text/plain": [
       "Predicted  False  True  __all__\n",
       "Actual                         \n",
       "False      31660   232    31892\n",
       "True         966  4559     5525\n",
       "__all__    32626  4791    37417"
      ]
     },
     "metadata": {},
     "output_type": "display_data"
    },
    {
     "name": "stdout",
     "output_type": "stream",
     "text": [
      "The accuracy of the model on test data is: 0.9594825743\n"
     ]
    },
    {
     "data": {
      "text/plain": [
       "Predicted  False  True  __all__\n",
       "Actual                         \n",
       "False       7874   111     7985\n",
       "True         268  1101     1369\n",
       "__all__     8142  1212     9354"
      ]
     },
     "metadata": {},
     "output_type": "display_data"
    },
    {
     "name": "stdout",
     "output_type": "stream",
     "text": [
      "\n",
      "\n"
     ]
    }
   ],
   "source": [
    "feat_imp=[None]*4\n",
    "j=0\n",
    "for i in range(0,8):\n",
    "    if i>=2 and i<=5:\n",
    "        model,cm_train,cm_test,acc_train,acc_test,roc_auc,feat_imp[j],mcc=f[i](scaled_X_train,train_Y,scaled_X_test,test_Y,feature_name)\n",
    "        j=j+1\n",
    "    else:\n",
    "        model,cm_train,cm_test,acc_train,acc_test,roc_auc,mcc=f[i](scaled_X_train,train_Y,scaled_X_test,test_Y)\n",
    "    table_80_60_train.loc[i]=   ([acc_train,cm_train.TP,cm_train.TN,cm_train.FP,cm_train.FN,cm_train.FPR,cm_train.FNR])\n",
    "    table_80_60_test.loc[i] =   ([acc_test ,cm_test.TP, cm_test.TN, cm_test.FP, cm_test.FN, cm_test.FPR, cm_test.FNR,roc_auc,mcc])\n",
    "    print(\"\\n\")"
   ]
  },
  {
   "cell_type": "markdown",
   "metadata": {},
   "source": [
    "### <a id='4.A' style=\"text-decoration : none; color : #000000;\"> A. Results</a>"
   ]
  },
  {
   "cell_type": "code",
   "execution_count": 45,
   "metadata": {},
   "outputs": [
    {
     "data": {
      "application/vnd.plotly.v1+json": {
       "config": {
        "linkText": "Export to plot.ly",
        "plotlyServerURL": "https://plot.ly",
        "showLink": true
       },
       "data": [
        {
         "mode": "lines",
         "name": "KNN_model",
         "type": "scatter",
         "uid": "1d6ec173-45cd-4753-8840-c9dfb0b890bb",
         "x": [
          "accuracy",
          "FPR",
          "FNR",
          "auc"
         ],
         "y": [
          0.9511438956596109,
          0.01878522229179712,
          0.22425127830533237,
          0.8784817497014352
         ]
        },
        {
         "mode": "lines+markers",
         "name": "Logistic Regression",
         "type": "scatter",
         "uid": "df443aed-abb4-4e33-905e-3038dea9233c",
         "x": [
          "accuracy",
          "FPR",
          "FNR",
          "auc"
         ],
         "y": [
          0.942805217019457,
          0.016405760801502817,
          0.29510591672753833,
          0.8442441612354795
         ]
        },
        {
         "marker": {
          "symbol": "x"
         },
         "mode": "lines+markers",
         "name": "Random Forest",
         "type": "scatter",
         "uid": "727ef395-6f0b-4221-9a7e-6492c53c8077",
         "x": [
          "accuracy",
          "FPR",
          "FNR",
          "auc"
         ],
         "y": [
          0.955847765661749,
          0.013650594865372574,
          0.2220598977355734,
          0.882144753699527
         ]
        },
        {
         "mode": "lines",
         "name": "Ada Boost",
         "type": "scatter",
         "uid": "c358b5d3-1d8b-4c26-b19b-098fa7d8554c",
         "x": [
          "accuracy",
          "FPR",
          "FNR",
          "auc"
         ],
         "y": [
          0.9367115672439598,
          0.01878522229179712,
          0.32286340394448504,
          0.829175686881859
         ]
        },
        {
         "mode": "lines+markers",
         "name": "GradientBoosting",
         "type": "scatter",
         "uid": "9c2bffa7-25ee-4beb-8478-12efd7c14914",
         "x": [
          "accuracy",
          "FPR",
          "FNR",
          "auc"
         ],
         "y": [
          0.9441949967928159,
          0.01966186599874765,
          0.266617969320672,
          0.8568600823402901
         ]
        },
        {
         "marker": {
          "symbol": "x"
         },
         "mode": "lines+markers",
         "name": "ExtraTree Classifier",
         "type": "scatter",
         "uid": "735bd012-0cd0-40b9-8304-c2d49a1361ca",
         "x": [
          "accuracy",
          "FPR",
          "FNR",
          "auc"
         ],
         "y": [
          0.9553132349796878,
          0.014276768941765812,
          0.2220598977355734,
          0.8818316666613304
         ]
        },
        {
         "marker": {
          "symbol": "x"
         },
         "mode": "lines+markers",
         "name": "Bagging",
         "type": "scatter",
         "uid": "1345df9a-0eb1-4871-ade9-72720b0e98d4",
         "x": [
          "accuracy",
          "FPR",
          "FNR",
          "auc"
         ],
         "y": [
          0.9536027367970922,
          0.017407639323732,
          0.21548575602629658,
          0.8835533023249857
         ]
        },
        {
         "marker": {
          "symbol": "x"
         },
         "mode": "lines+markers",
         "name": "Neural Network",
         "type": "scatter",
         "uid": "d97c6116-786c-49dc-ab0c-9df9c15ad713",
         "x": [
          "accuracy",
          "FPR",
          "FNR",
          "auc"
         ],
         "y": [
          0.9594825742997648,
          0.013901064495929868,
          0.19576333089846604,
          0.8835533023249857
         ]
        }
       ],
       "layout": {
        "title": "Result comparision for Features selected in Section 1",
        "yaxis": {
         "dtick": 0.05,
         "tick0": 0
        }
       }
      },
      "text/html": [
       "<div id=\"37d90fa9-31c6-4f7c-b75a-825fd9933fb8\" style=\"height: 525px; width: 100%;\" class=\"plotly-graph-div\"></div><script type=\"text/javascript\">require([\"plotly\"], function(Plotly) { window.PLOTLYENV=window.PLOTLYENV || {};window.PLOTLYENV.BASE_URL=\"https://plot.ly\";Plotly.newPlot(\"37d90fa9-31c6-4f7c-b75a-825fd9933fb8\", [{\"mode\": \"lines\", \"name\": \"KNN_model\", \"x\": [\"accuracy\", \"FPR\", \"FNR\", \"auc\"], \"y\": [0.9511438956596109, 0.01878522229179712, 0.22425127830533237, 0.8784817497014352], \"type\": \"scatter\", \"uid\": \"1d6ec173-45cd-4753-8840-c9dfb0b890bb\"}, {\"mode\": \"lines+markers\", \"name\": \"Logistic Regression\", \"x\": [\"accuracy\", \"FPR\", \"FNR\", \"auc\"], \"y\": [0.942805217019457, 0.016405760801502817, 0.29510591672753833, 0.8442441612354795], \"type\": \"scatter\", \"uid\": \"df443aed-abb4-4e33-905e-3038dea9233c\"}, {\"marker\": {\"symbol\": \"x\"}, \"mode\": \"lines+markers\", \"name\": \"Random Forest\", \"x\": [\"accuracy\", \"FPR\", \"FNR\", \"auc\"], \"y\": [0.955847765661749, 0.013650594865372574, 0.2220598977355734, 0.882144753699527], \"type\": \"scatter\", \"uid\": \"727ef395-6f0b-4221-9a7e-6492c53c8077\"}, {\"mode\": \"lines\", \"name\": \"Ada Boost\", \"x\": [\"accuracy\", \"FPR\", \"FNR\", \"auc\"], \"y\": [0.9367115672439598, 0.01878522229179712, 0.32286340394448504, 0.829175686881859], \"type\": \"scatter\", \"uid\": \"c358b5d3-1d8b-4c26-b19b-098fa7d8554c\"}, {\"mode\": \"lines+markers\", \"name\": \"GradientBoosting\", \"x\": [\"accuracy\", \"FPR\", \"FNR\", \"auc\"], \"y\": [0.9441949967928159, 0.01966186599874765, 0.266617969320672, 0.8568600823402901], \"type\": \"scatter\", \"uid\": \"9c2bffa7-25ee-4beb-8478-12efd7c14914\"}, {\"marker\": {\"symbol\": \"x\"}, \"mode\": \"lines+markers\", \"name\": \"ExtraTree Classifier\", \"x\": [\"accuracy\", \"FPR\", \"FNR\", \"auc\"], \"y\": [0.9553132349796878, 0.014276768941765812, 0.2220598977355734, 0.8818316666613304], \"type\": \"scatter\", \"uid\": \"735bd012-0cd0-40b9-8304-c2d49a1361ca\"}, {\"marker\": {\"symbol\": \"x\"}, \"mode\": \"lines+markers\", \"name\": \"Bagging\", \"x\": [\"accuracy\", \"FPR\", \"FNR\", \"auc\"], \"y\": [0.9536027367970922, 0.017407639323732, 0.21548575602629658, 0.8835533023249857], \"type\": \"scatter\", \"uid\": \"1345df9a-0eb1-4871-ade9-72720b0e98d4\"}, {\"marker\": {\"symbol\": \"x\"}, \"mode\": \"lines+markers\", \"name\": \"Neural Network\", \"x\": [\"accuracy\", \"FPR\", \"FNR\", \"auc\"], \"y\": [0.9594825742997648, 0.013901064495929868, 0.19576333089846604, 0.8835533023249857], \"type\": \"scatter\", \"uid\": \"d97c6116-786c-49dc-ab0c-9df9c15ad713\"}], {\"title\": \"Result comparision for Features selected in Section 1\", \"yaxis\": {\"dtick\": 0.05, \"tick0\": 0}}, {\"showLink\": true, \"linkText\": \"Export to plot.ly\", \"plotlyServerURL\": \"https://plot.ly\"})});</script><script type=\"text/javascript\">window.addEventListener(\"resize\", function(){window._Plotly.Plots.resize(document.getElementById(\"37d90fa9-31c6-4f7c-b75a-825fd9933fb8\"));});</script>"
      ],
      "text/vnd.plotly.v1+html": [
       "<div id=\"37d90fa9-31c6-4f7c-b75a-825fd9933fb8\" style=\"height: 525px; width: 100%;\" class=\"plotly-graph-div\"></div><script type=\"text/javascript\">require([\"plotly\"], function(Plotly) { window.PLOTLYENV=window.PLOTLYENV || {};window.PLOTLYENV.BASE_URL=\"https://plot.ly\";Plotly.newPlot(\"37d90fa9-31c6-4f7c-b75a-825fd9933fb8\", [{\"mode\": \"lines\", \"name\": \"KNN_model\", \"x\": [\"accuracy\", \"FPR\", \"FNR\", \"auc\"], \"y\": [0.9511438956596109, 0.01878522229179712, 0.22425127830533237, 0.8784817497014352], \"type\": \"scatter\", \"uid\": \"1d6ec173-45cd-4753-8840-c9dfb0b890bb\"}, {\"mode\": \"lines+markers\", \"name\": \"Logistic Regression\", \"x\": [\"accuracy\", \"FPR\", \"FNR\", \"auc\"], \"y\": [0.942805217019457, 0.016405760801502817, 0.29510591672753833, 0.8442441612354795], \"type\": \"scatter\", \"uid\": \"df443aed-abb4-4e33-905e-3038dea9233c\"}, {\"marker\": {\"symbol\": \"x\"}, \"mode\": \"lines+markers\", \"name\": \"Random Forest\", \"x\": [\"accuracy\", \"FPR\", \"FNR\", \"auc\"], \"y\": [0.955847765661749, 0.013650594865372574, 0.2220598977355734, 0.882144753699527], \"type\": \"scatter\", \"uid\": \"727ef395-6f0b-4221-9a7e-6492c53c8077\"}, {\"mode\": \"lines\", \"name\": \"Ada Boost\", \"x\": [\"accuracy\", \"FPR\", \"FNR\", \"auc\"], \"y\": [0.9367115672439598, 0.01878522229179712, 0.32286340394448504, 0.829175686881859], \"type\": \"scatter\", \"uid\": \"c358b5d3-1d8b-4c26-b19b-098fa7d8554c\"}, {\"mode\": \"lines+markers\", \"name\": \"GradientBoosting\", \"x\": [\"accuracy\", \"FPR\", \"FNR\", \"auc\"], \"y\": [0.9441949967928159, 0.01966186599874765, 0.266617969320672, 0.8568600823402901], \"type\": \"scatter\", \"uid\": \"9c2bffa7-25ee-4beb-8478-12efd7c14914\"}, {\"marker\": {\"symbol\": \"x\"}, \"mode\": \"lines+markers\", \"name\": \"ExtraTree Classifier\", \"x\": [\"accuracy\", \"FPR\", \"FNR\", \"auc\"], \"y\": [0.9553132349796878, 0.014276768941765812, 0.2220598977355734, 0.8818316666613304], \"type\": \"scatter\", \"uid\": \"735bd012-0cd0-40b9-8304-c2d49a1361ca\"}, {\"marker\": {\"symbol\": \"x\"}, \"mode\": \"lines+markers\", \"name\": \"Bagging\", \"x\": [\"accuracy\", \"FPR\", \"FNR\", \"auc\"], \"y\": [0.9536027367970922, 0.017407639323732, 0.21548575602629658, 0.8835533023249857], \"type\": \"scatter\", \"uid\": \"1345df9a-0eb1-4871-ade9-72720b0e98d4\"}, {\"marker\": {\"symbol\": \"x\"}, \"mode\": \"lines+markers\", \"name\": \"Neural Network\", \"x\": [\"accuracy\", \"FPR\", \"FNR\", \"auc\"], \"y\": [0.9594825742997648, 0.013901064495929868, 0.19576333089846604, 0.8835533023249857], \"type\": \"scatter\", \"uid\": \"d97c6116-786c-49dc-ab0c-9df9c15ad713\"}], {\"title\": \"Result comparision for Features selected in Section 1\", \"yaxis\": {\"dtick\": 0.05, \"tick0\": 0}}, {\"showLink\": true, \"linkText\": \"Export to plot.ly\", \"plotlyServerURL\": \"https://plot.ly\"})});</script><script type=\"text/javascript\">window.addEventListener(\"resize\", function(){window._Plotly.Plots.resize(document.getElementById(\"37d90fa9-31c6-4f7c-b75a-825fd9933fb8\"));});</script>"
      ]
     },
     "metadata": {},
     "output_type": "display_data"
    }
   ],
   "source": [
    "trace0 = go.Scatter(x=table_80_60_test.iloc[0].index.values[[0,5,6,7]],\n",
    "                    y=table_80_60_test.iloc[0].values[[0,5,6,7]],\n",
    "                    mode = 'lines',\n",
    "                    name = 'KNN_model')\n",
    "\n",
    "trace1 = go.Scatter(x=table_80_60_test.iloc[1].index.values[[0,5,6,7]],\n",
    "                    y=table_80_60_test.iloc[1].values[[0,5,6,7]],\n",
    "                    mode = 'lines+markers',\n",
    "                    name = 'Logistic Regression')\n",
    "\n",
    "trace2 = go.Scatter(x=table_80_60_test.iloc[2].index.values[[0,5,6,7]],\n",
    "                    y=table_80_60_test.iloc[2].values[[0,5,6,7]],\n",
    "                    mode = 'lines+markers',marker=dict(symbol='x'),\n",
    "                    name = 'Random Forest')\n",
    "\n",
    "\n",
    "trace3 = go.Scatter(x=table_80_60_test.iloc[3].index.values[[0,5,6,7]],\n",
    "                    y=table_80_60_test.iloc[3].values[[0,5,6,7]],\n",
    "                    mode = 'lines',\n",
    "                    name = 'Ada Boost')\n",
    "\n",
    "trace4 = go.Scatter(x=table_80_60_test.iloc[4].index.values[[0,5,6,7]],\n",
    "                    y=table_80_60_test.iloc[4].values[[0,5,6,7]],\n",
    "                    mode = 'lines+markers',\n",
    "                    name = 'GradientBoosting')\n",
    "\n",
    "trace5 = go.Scatter(x=table_80_60_test.iloc[5].index.values[[0,5,6,7]],\n",
    "                    y=table_80_60_test.iloc[5].values[[0,5,6,7]],\n",
    "                    mode = 'lines+markers',marker=dict(symbol='x'),\n",
    "                    name = 'ExtraTree Classifier')\n",
    "\n",
    "trace6 = go.Scatter(x=table_80_60_test.iloc[6].index.values[[0,5,6,7]],\n",
    "                    y=table_80_60_test.iloc[6].values[[0,5,6,7]],\n",
    "                    mode = 'lines+markers',marker=dict(symbol='x'),\n",
    "                    name = 'Bagging')\n",
    "\n",
    "trace7 = go.Scatter(x=table_80_60_test.iloc[7].index.values[[0,5,6,7]],\n",
    "                    y=table_80_60_test.iloc[7].values[[0,5,6,7]],\n",
    "                    mode = 'lines+markers',marker=dict(symbol='x'),\n",
    "                    name = 'Neural Network')\n",
    "\n",
    "\n",
    "\n",
    "data = [trace0, trace1, trace2, trace3, trace4, trace5, trace6, trace7]\n",
    "layout = go.Layout(yaxis=dict(tick0=0,dtick=0.05),title='Result comparision for Features selected in Section 1')\n",
    "fig = go.Figure(data=data, layout=layout)\n",
    "\n",
    "iplot(fig, filename='Result')"
   ]
  },
  {
   "cell_type": "code",
   "execution_count": 46,
   "metadata": {},
   "outputs": [
    {
     "name": "stdout",
     "output_type": "stream",
     "text": [
      "Training Results\n"
     ]
    },
    {
     "data": {
      "text/html": [
       "<div>\n",
       "<style scoped>\n",
       "    .dataframe tbody tr th:only-of-type {\n",
       "        vertical-align: middle;\n",
       "    }\n",
       "\n",
       "    .dataframe tbody tr th {\n",
       "        vertical-align: top;\n",
       "    }\n",
       "\n",
       "    .dataframe thead th {\n",
       "        text-align: right;\n",
       "    }\n",
       "</style>\n",
       "<table border=\"1\" class=\"dataframe\">\n",
       "  <thead>\n",
       "    <tr style=\"text-align: right;\">\n",
       "      <th></th>\n",
       "      <th>accuracy</th>\n",
       "      <th>TP</th>\n",
       "      <th>TN</th>\n",
       "      <th>FP</th>\n",
       "      <th>FN</th>\n",
       "      <th>FPR</th>\n",
       "      <th>FNR</th>\n",
       "    </tr>\n",
       "    <tr>\n",
       "      <th>index</th>\n",
       "      <th></th>\n",
       "      <th></th>\n",
       "      <th></th>\n",
       "      <th></th>\n",
       "      <th></th>\n",
       "      <th></th>\n",
       "      <th></th>\n",
       "    </tr>\n",
       "  </thead>\n",
       "  <tbody>\n",
       "    <tr>\n",
       "      <th>KNeighborsClassifier</th>\n",
       "      <td>0.960179</td>\n",
       "      <td>4429.0</td>\n",
       "      <td>31498.0</td>\n",
       "      <td>394.0</td>\n",
       "      <td>1096.0</td>\n",
       "      <td>0.012354</td>\n",
       "      <td>0.198371</td>\n",
       "    </tr>\n",
       "    <tr>\n",
       "      <th>LogisticRegression</th>\n",
       "      <td>0.943261</td>\n",
       "      <td>3840.0</td>\n",
       "      <td>31454.0</td>\n",
       "      <td>438.0</td>\n",
       "      <td>1685.0</td>\n",
       "      <td>0.013734</td>\n",
       "      <td>0.304977</td>\n",
       "    </tr>\n",
       "    <tr>\n",
       "      <th>RandomForestClassifier</th>\n",
       "      <td>0.994013</td>\n",
       "      <td>5307.0</td>\n",
       "      <td>31886.0</td>\n",
       "      <td>6.0</td>\n",
       "      <td>218.0</td>\n",
       "      <td>0.000188</td>\n",
       "      <td>0.039457</td>\n",
       "    </tr>\n",
       "    <tr>\n",
       "      <th>AdaBoostClassifier</th>\n",
       "      <td>0.936687</td>\n",
       "      <td>3722.0</td>\n",
       "      <td>31326.0</td>\n",
       "      <td>566.0</td>\n",
       "      <td>1803.0</td>\n",
       "      <td>0.017747</td>\n",
       "      <td>0.326335</td>\n",
       "    </tr>\n",
       "    <tr>\n",
       "      <th>GradientBoostingClassifier</th>\n",
       "      <td>0.947457</td>\n",
       "      <td>4130.0</td>\n",
       "      <td>31321.0</td>\n",
       "      <td>571.0</td>\n",
       "      <td>1395.0</td>\n",
       "      <td>0.017904</td>\n",
       "      <td>0.252489</td>\n",
       "    </tr>\n",
       "    <tr>\n",
       "      <th>ExtraTreeClassifier</th>\n",
       "      <td>0.999733</td>\n",
       "      <td>5515.0</td>\n",
       "      <td>31892.0</td>\n",
       "      <td>0.0</td>\n",
       "      <td>10.0</td>\n",
       "      <td>0.000000</td>\n",
       "      <td>0.001810</td>\n",
       "    </tr>\n",
       "    <tr>\n",
       "      <th>BaggingClassifier</th>\n",
       "      <td>0.993506</td>\n",
       "      <td>5297.0</td>\n",
       "      <td>31877.0</td>\n",
       "      <td>15.0</td>\n",
       "      <td>228.0</td>\n",
       "      <td>0.000470</td>\n",
       "      <td>0.041267</td>\n",
       "    </tr>\n",
       "    <tr>\n",
       "      <th>Neural Network-1</th>\n",
       "      <td>0.967982</td>\n",
       "      <td>4559.0</td>\n",
       "      <td>31660.0</td>\n",
       "      <td>232.0</td>\n",
       "      <td>966.0</td>\n",
       "      <td>0.007275</td>\n",
       "      <td>0.174842</td>\n",
       "    </tr>\n",
       "  </tbody>\n",
       "</table>\n",
       "</div>"
      ],
      "text/plain": [
       "                            accuracy      TP       TN     FP      FN  \\\n",
       "index                                                                  \n",
       "KNeighborsClassifier        0.960179  4429.0  31498.0  394.0  1096.0   \n",
       "LogisticRegression          0.943261  3840.0  31454.0  438.0  1685.0   \n",
       "RandomForestClassifier      0.994013  5307.0  31886.0    6.0   218.0   \n",
       "AdaBoostClassifier          0.936687  3722.0  31326.0  566.0  1803.0   \n",
       "GradientBoostingClassifier  0.947457  4130.0  31321.0  571.0  1395.0   \n",
       "ExtraTreeClassifier         0.999733  5515.0  31892.0    0.0    10.0   \n",
       "BaggingClassifier           0.993506  5297.0  31877.0   15.0   228.0   \n",
       "Neural Network-1            0.967982  4559.0  31660.0  232.0   966.0   \n",
       "\n",
       "                                 FPR       FNR  \n",
       "index                                           \n",
       "KNeighborsClassifier        0.012354  0.198371  \n",
       "LogisticRegression          0.013734  0.304977  \n",
       "RandomForestClassifier      0.000188  0.039457  \n",
       "AdaBoostClassifier          0.017747  0.326335  \n",
       "GradientBoostingClassifier  0.017904  0.252489  \n",
       "ExtraTreeClassifier         0.000000  0.001810  \n",
       "BaggingClassifier           0.000470  0.041267  \n",
       "Neural Network-1            0.007275  0.174842  "
      ]
     },
     "metadata": {},
     "output_type": "display_data"
    },
    {
     "name": "stdout",
     "output_type": "stream",
     "text": [
      "Test Results\n"
     ]
    },
    {
     "data": {
      "text/html": [
       "<div>\n",
       "<style scoped>\n",
       "    .dataframe tbody tr th:only-of-type {\n",
       "        vertical-align: middle;\n",
       "    }\n",
       "\n",
       "    .dataframe tbody tr th {\n",
       "        vertical-align: top;\n",
       "    }\n",
       "\n",
       "    .dataframe thead th {\n",
       "        text-align: right;\n",
       "    }\n",
       "</style>\n",
       "<table border=\"1\" class=\"dataframe\">\n",
       "  <thead>\n",
       "    <tr style=\"text-align: right;\">\n",
       "      <th></th>\n",
       "      <th>accuracy</th>\n",
       "      <th>TP</th>\n",
       "      <th>TN</th>\n",
       "      <th>FP</th>\n",
       "      <th>FN</th>\n",
       "      <th>FPR</th>\n",
       "      <th>FNR</th>\n",
       "      <th>auc</th>\n",
       "      <th>mcc</th>\n",
       "    </tr>\n",
       "    <tr>\n",
       "      <th>index</th>\n",
       "      <th></th>\n",
       "      <th></th>\n",
       "      <th></th>\n",
       "      <th></th>\n",
       "      <th></th>\n",
       "      <th></th>\n",
       "      <th></th>\n",
       "      <th></th>\n",
       "      <th></th>\n",
       "    </tr>\n",
       "  </thead>\n",
       "  <tbody>\n",
       "    <tr>\n",
       "      <th>KNeighborsClassifier</th>\n",
       "      <td>0.951144</td>\n",
       "      <td>1062.0</td>\n",
       "      <td>7835.0</td>\n",
       "      <td>150.0</td>\n",
       "      <td>307.0</td>\n",
       "      <td>0.018785</td>\n",
       "      <td>0.224251</td>\n",
       "      <td>0.878482</td>\n",
       "      <td>0.796704</td>\n",
       "    </tr>\n",
       "    <tr>\n",
       "      <th>LogisticRegression</th>\n",
       "      <td>0.942805</td>\n",
       "      <td>965.0</td>\n",
       "      <td>7854.0</td>\n",
       "      <td>131.0</td>\n",
       "      <td>404.0</td>\n",
       "      <td>0.016406</td>\n",
       "      <td>0.295106</td>\n",
       "      <td>0.844244</td>\n",
       "      <td>0.756647</td>\n",
       "    </tr>\n",
       "    <tr>\n",
       "      <th>RandomForestClassifier</th>\n",
       "      <td>0.955848</td>\n",
       "      <td>1065.0</td>\n",
       "      <td>7876.0</td>\n",
       "      <td>109.0</td>\n",
       "      <td>304.0</td>\n",
       "      <td>0.013651</td>\n",
       "      <td>0.222060</td>\n",
       "      <td>0.882145</td>\n",
       "      <td>0.815429</td>\n",
       "    </tr>\n",
       "    <tr>\n",
       "      <th>AdaBoostClassifier</th>\n",
       "      <td>0.936712</td>\n",
       "      <td>927.0</td>\n",
       "      <td>7835.0</td>\n",
       "      <td>150.0</td>\n",
       "      <td>442.0</td>\n",
       "      <td>0.018785</td>\n",
       "      <td>0.322863</td>\n",
       "      <td>0.829176</td>\n",
       "      <td>0.729042</td>\n",
       "    </tr>\n",
       "    <tr>\n",
       "      <th>GradientBoostingClassifier</th>\n",
       "      <td>0.944195</td>\n",
       "      <td>1004.0</td>\n",
       "      <td>7828.0</td>\n",
       "      <td>157.0</td>\n",
       "      <td>365.0</td>\n",
       "      <td>0.019662</td>\n",
       "      <td>0.266618</td>\n",
       "      <td>0.856860</td>\n",
       "      <td>0.765120</td>\n",
       "    </tr>\n",
       "    <tr>\n",
       "      <th>ExtraTreeClassifier</th>\n",
       "      <td>0.955313</td>\n",
       "      <td>1065.0</td>\n",
       "      <td>7871.0</td>\n",
       "      <td>114.0</td>\n",
       "      <td>304.0</td>\n",
       "      <td>0.014277</td>\n",
       "      <td>0.222060</td>\n",
       "      <td>0.881832</td>\n",
       "      <td>0.813280</td>\n",
       "    </tr>\n",
       "    <tr>\n",
       "      <th>BaggingClassifier</th>\n",
       "      <td>0.953603</td>\n",
       "      <td>1074.0</td>\n",
       "      <td>7846.0</td>\n",
       "      <td>139.0</td>\n",
       "      <td>295.0</td>\n",
       "      <td>0.017408</td>\n",
       "      <td>0.215486</td>\n",
       "      <td>0.883553</td>\n",
       "      <td>0.807097</td>\n",
       "    </tr>\n",
       "    <tr>\n",
       "      <th>Neural Network-1</th>\n",
       "      <td>0.959483</td>\n",
       "      <td>1101.0</td>\n",
       "      <td>7874.0</td>\n",
       "      <td>111.0</td>\n",
       "      <td>268.0</td>\n",
       "      <td>0.013901</td>\n",
       "      <td>0.195763</td>\n",
       "      <td>0.883553</td>\n",
       "      <td>0.831829</td>\n",
       "    </tr>\n",
       "  </tbody>\n",
       "</table>\n",
       "</div>"
      ],
      "text/plain": [
       "                            accuracy      TP      TN     FP     FN       FPR  \\\n",
       "index                                                                          \n",
       "KNeighborsClassifier        0.951144  1062.0  7835.0  150.0  307.0  0.018785   \n",
       "LogisticRegression          0.942805   965.0  7854.0  131.0  404.0  0.016406   \n",
       "RandomForestClassifier      0.955848  1065.0  7876.0  109.0  304.0  0.013651   \n",
       "AdaBoostClassifier          0.936712   927.0  7835.0  150.0  442.0  0.018785   \n",
       "GradientBoostingClassifier  0.944195  1004.0  7828.0  157.0  365.0  0.019662   \n",
       "ExtraTreeClassifier         0.955313  1065.0  7871.0  114.0  304.0  0.014277   \n",
       "BaggingClassifier           0.953603  1074.0  7846.0  139.0  295.0  0.017408   \n",
       "Neural Network-1            0.959483  1101.0  7874.0  111.0  268.0  0.013901   \n",
       "\n",
       "                                 FNR       auc       mcc  \n",
       "index                                                     \n",
       "KNeighborsClassifier        0.224251  0.878482  0.796704  \n",
       "LogisticRegression          0.295106  0.844244  0.756647  \n",
       "RandomForestClassifier      0.222060  0.882145  0.815429  \n",
       "AdaBoostClassifier          0.322863  0.829176  0.729042  \n",
       "GradientBoostingClassifier  0.266618  0.856860  0.765120  \n",
       "ExtraTreeClassifier         0.222060  0.881832  0.813280  \n",
       "BaggingClassifier           0.215486  0.883553  0.807097  \n",
       "Neural Network-1            0.195763  0.883553  0.831829  "
      ]
     },
     "metadata": {},
     "output_type": "display_data"
    }
   ],
   "source": [
    "table_80_60_train['index']=ind_columns\n",
    "table_80_60_test['index']=ind_columns\n",
    "\n",
    "\n",
    "table_80_60_test.set_index(['index'],drop=True,inplace=True)\n",
    "table_80_60_train.set_index(['index'],drop=True,inplace=True)\n",
    "\n",
    "print(\"Training Results\")\n",
    "display(table_80_60_train)\n",
    "print(\"Test Results\")\n",
    "display(table_80_60_test)"
   ]
  },
  {
   "cell_type": "markdown",
   "metadata": {},
   "source": [
    "### <a id='4.B' style=\"text-decoration : none; color : #000000;\"> B. Average Feature Importances</a>"
   ]
  },
  {
   "cell_type": "code",
   "execution_count": 47,
   "metadata": {},
   "outputs": [
    {
     "data": {
      "application/vnd.plotly.v1+json": {
       "config": {
        "linkText": "Export to plot.ly",
        "plotlyServerURL": "https://plot.ly",
        "showLink": true
       },
       "data": [
        {
         "marker": {
          "color": "rgb(158,202,225)",
          "line": {
           "color": "rgb(8,48,107)",
           "width": 1.5
          }
         },
         "opacity": 0.6,
         "orientation": "h",
         "text": [
          0.1902,
          0.0684,
          0.0549,
          0.0503,
          0.0497,
          0.0436,
          0.0364,
          0.0302,
          0.0292,
          0.0286,
          0.028,
          0.0274,
          0.0266,
          0.0256,
          0.0254,
          0.0245,
          0.022,
          0.0204,
          0.0185,
          0.016,
          0.0142,
          0.0132,
          0.0122,
          0.0119,
          0.0117,
          0.0106,
          0.0105,
          0.0103,
          0.0103,
          0.0101,
          0.0096,
          0.009,
          0.0082,
          0.0069,
          0.0061,
          0.0057,
          0.0049,
          0.0038,
          0.0036,
          0.0035,
          0.0034,
          0.0025,
          0.0021
         ],
         "textposition": "outside",
         "type": "bar",
         "uid": "b69d322d-b0b2-4cb7-9a03-03b35161add1",
         "x": [
          0.19016222281681802,
          0.06835443130151275,
          0.05487154206957648,
          0.050345333301088514,
          0.04966568867750079,
          0.043648066525177484,
          0.03635099378163685,
          0.030155804690040436,
          0.029205336245308813,
          0.02856816366170012,
          0.028028695896054872,
          0.027374903775471332,
          0.026625112018023256,
          0.025629274317307965,
          0.0254427351167297,
          0.02445988494362565,
          0.022006349007071796,
          0.02039554244346023,
          0.018484321262440463,
          0.016025725232021323,
          0.014194423115302576,
          0.013226955536171777,
          0.012201658555862225,
          0.01192371240437902,
          0.011652079520568258,
          0.01058586379374954,
          0.010481253777161588,
          0.010278241631267422,
          0.010256170124736098,
          0.010116070527387378,
          0.00962689363231015,
          0.00897279120847764,
          0.008171533504646522,
          0.006880838748017456,
          0.006064531858199274,
          0.005726942101975923,
          0.004898502222057784,
          0.003840882756289252,
          0.0035727662887902155,
          0.003493794415354437,
          0.003403648343235392,
          0.002494172730387452,
          0.0021361461211057793
         ],
         "y": [
          "url_extensions + url_length",
          "url_char_. + url_char_z",
          "url_char_. + url_length",
          "url_length + url_words_with_length_4",
          "url_char_b + url_length",
          "url_char_w + url_extensions",
          "url_char_w * url_extensions",
          "url_char_c + url_length",
          "url_char_j + url_length",
          "url_char_w + url_length",
          "url_char_. + url_char_w",
          "url_char_w + url_char_y",
          "url_char_i + url_length",
          "url_char_.",
          "url_char_. + url_char_x",
          "url_extension_.com + url_length",
          "url_length + url_tlds",
          "url_char_f + url_length",
          "url_char_. * url_char_w",
          "url_char_s + url_length",
          "url_char_n + url_length",
          "url_char_. + url_extension_.net",
          "url_char_w + url_words_with_length_7",
          "url_char_d + url_length",
          "url_char_z + url_length",
          "url_length + url_words_with_length_5",
          "url_char_g + url_length",
          "url_char_p + url_length",
          "url_char_h + url_length",
          "url_char_w + url_char_x",
          "url_char_k + url_length",
          "url_char_. + url_words_with_length_8",
          "url_char_l + url_length",
          "url_char_y + url_length",
          "url_char_v + url_length",
          "url_char_x + url_length",
          "url_length",
          "url_char_w + url_words_with_length_8",
          "url_length + url_words_with_length_7",
          "url_length + url_word_count_info",
          "url_char_- + url_length",
          "url_extension_.net + url_length",
          "url_length + url_words_with_length_8"
         ]
        }
       ],
       "layout": {
        "autosize": false,
        "height": 1000,
        "width": 1000,
        "xaxis": {
         "tickfont": {
          "color": "black",
          "size": 12
         },
         "title": "Feature Importances"
        },
        "yaxis": {
         "automargin": true
        }
       }
      },
      "text/html": [
       "<div id=\"128a80bb-ab05-44ec-8d62-44528663880b\" style=\"height: 1000px; width: 1000px;\" class=\"plotly-graph-div\"></div><script type=\"text/javascript\">require([\"plotly\"], function(Plotly) { window.PLOTLYENV=window.PLOTLYENV || {};window.PLOTLYENV.BASE_URL=\"https://plot.ly\";Plotly.newPlot(\"128a80bb-ab05-44ec-8d62-44528663880b\", [{\"marker\": {\"color\": \"rgb(158,202,225)\", \"line\": {\"color\": \"rgb(8,48,107)\", \"width\": 1.5}}, \"opacity\": 0.6, \"orientation\": \"h\", \"text\": [0.1902, 0.0684, 0.0549, 0.0503, 0.0497, 0.0436, 0.0364, 0.0302, 0.0292, 0.0286, 0.028, 0.0274, 0.0266, 0.0256, 0.0254, 0.0245, 0.022, 0.0204, 0.0185, 0.016, 0.0142, 0.0132, 0.0122, 0.0119, 0.0117, 0.0106, 0.0105, 0.0103, 0.0103, 0.0101, 0.0096, 0.009, 0.0082, 0.0069, 0.0061, 0.0057, 0.0049, 0.0038, 0.0036, 0.0035, 0.0034, 0.0025, 0.0021], \"textposition\": \"outside\", \"x\": [0.19016222281681802, 0.06835443130151275, 0.05487154206957648, 0.050345333301088514, 0.04966568867750079, 0.043648066525177484, 0.03635099378163685, 0.030155804690040436, 0.029205336245308813, 0.02856816366170012, 0.028028695896054872, 0.027374903775471332, 0.026625112018023256, 0.025629274317307965, 0.0254427351167297, 0.02445988494362565, 0.022006349007071796, 0.02039554244346023, 0.018484321262440463, 0.016025725232021323, 0.014194423115302576, 0.013226955536171777, 0.012201658555862225, 0.01192371240437902, 0.011652079520568258, 0.01058586379374954, 0.010481253777161588, 0.010278241631267422, 0.010256170124736098, 0.010116070527387378, 0.00962689363231015, 0.00897279120847764, 0.008171533504646522, 0.006880838748017456, 0.006064531858199274, 0.005726942101975923, 0.004898502222057784, 0.003840882756289252, 0.0035727662887902155, 0.003493794415354437, 0.003403648343235392, 0.002494172730387452, 0.0021361461211057793], \"y\": [\"url_extensions + url_length\", \"url_char_. + url_char_z\", \"url_char_. + url_length\", \"url_length + url_words_with_length_4\", \"url_char_b + url_length\", \"url_char_w + url_extensions\", \"url_char_w * url_extensions\", \"url_char_c + url_length\", \"url_char_j + url_length\", \"url_char_w + url_length\", \"url_char_. + url_char_w\", \"url_char_w + url_char_y\", \"url_char_i + url_length\", \"url_char_.\", \"url_char_. + url_char_x\", \"url_extension_.com + url_length\", \"url_length + url_tlds\", \"url_char_f + url_length\", \"url_char_. * url_char_w\", \"url_char_s + url_length\", \"url_char_n + url_length\", \"url_char_. + url_extension_.net\", \"url_char_w + url_words_with_length_7\", \"url_char_d + url_length\", \"url_char_z + url_length\", \"url_length + url_words_with_length_5\", \"url_char_g + url_length\", \"url_char_p + url_length\", \"url_char_h + url_length\", \"url_char_w + url_char_x\", \"url_char_k + url_length\", \"url_char_. + url_words_with_length_8\", \"url_char_l + url_length\", \"url_char_y + url_length\", \"url_char_v + url_length\", \"url_char_x + url_length\", \"url_length\", \"url_char_w + url_words_with_length_8\", \"url_length + url_words_with_length_7\", \"url_length + url_word_count_info\", \"url_char_- + url_length\", \"url_extension_.net + url_length\", \"url_length + url_words_with_length_8\"], \"type\": \"bar\", \"uid\": \"b69d322d-b0b2-4cb7-9a03-03b35161add1\"}], {\"autosize\": false, \"height\": 1000, \"width\": 1000, \"xaxis\": {\"tickfont\": {\"color\": \"black\", \"size\": 12}, \"title\": \"Feature Importances\"}, \"yaxis\": {\"automargin\": true}}, {\"showLink\": true, \"linkText\": \"Export to plot.ly\", \"plotlyServerURL\": \"https://plot.ly\"})});</script>"
      ],
      "text/vnd.plotly.v1+html": [
       "<div id=\"128a80bb-ab05-44ec-8d62-44528663880b\" style=\"height: 1000px; width: 1000px;\" class=\"plotly-graph-div\"></div><script type=\"text/javascript\">require([\"plotly\"], function(Plotly) { window.PLOTLYENV=window.PLOTLYENV || {};window.PLOTLYENV.BASE_URL=\"https://plot.ly\";Plotly.newPlot(\"128a80bb-ab05-44ec-8d62-44528663880b\", [{\"marker\": {\"color\": \"rgb(158,202,225)\", \"line\": {\"color\": \"rgb(8,48,107)\", \"width\": 1.5}}, \"opacity\": 0.6, \"orientation\": \"h\", \"text\": [0.1902, 0.0684, 0.0549, 0.0503, 0.0497, 0.0436, 0.0364, 0.0302, 0.0292, 0.0286, 0.028, 0.0274, 0.0266, 0.0256, 0.0254, 0.0245, 0.022, 0.0204, 0.0185, 0.016, 0.0142, 0.0132, 0.0122, 0.0119, 0.0117, 0.0106, 0.0105, 0.0103, 0.0103, 0.0101, 0.0096, 0.009, 0.0082, 0.0069, 0.0061, 0.0057, 0.0049, 0.0038, 0.0036, 0.0035, 0.0034, 0.0025, 0.0021], \"textposition\": \"outside\", \"x\": [0.19016222281681802, 0.06835443130151275, 0.05487154206957648, 0.050345333301088514, 0.04966568867750079, 0.043648066525177484, 0.03635099378163685, 0.030155804690040436, 0.029205336245308813, 0.02856816366170012, 0.028028695896054872, 0.027374903775471332, 0.026625112018023256, 0.025629274317307965, 0.0254427351167297, 0.02445988494362565, 0.022006349007071796, 0.02039554244346023, 0.018484321262440463, 0.016025725232021323, 0.014194423115302576, 0.013226955536171777, 0.012201658555862225, 0.01192371240437902, 0.011652079520568258, 0.01058586379374954, 0.010481253777161588, 0.010278241631267422, 0.010256170124736098, 0.010116070527387378, 0.00962689363231015, 0.00897279120847764, 0.008171533504646522, 0.006880838748017456, 0.006064531858199274, 0.005726942101975923, 0.004898502222057784, 0.003840882756289252, 0.0035727662887902155, 0.003493794415354437, 0.003403648343235392, 0.002494172730387452, 0.0021361461211057793], \"y\": [\"url_extensions + url_length\", \"url_char_. + url_char_z\", \"url_char_. + url_length\", \"url_length + url_words_with_length_4\", \"url_char_b + url_length\", \"url_char_w + url_extensions\", \"url_char_w * url_extensions\", \"url_char_c + url_length\", \"url_char_j + url_length\", \"url_char_w + url_length\", \"url_char_. + url_char_w\", \"url_char_w + url_char_y\", \"url_char_i + url_length\", \"url_char_.\", \"url_char_. + url_char_x\", \"url_extension_.com + url_length\", \"url_length + url_tlds\", \"url_char_f + url_length\", \"url_char_. * url_char_w\", \"url_char_s + url_length\", \"url_char_n + url_length\", \"url_char_. + url_extension_.net\", \"url_char_w + url_words_with_length_7\", \"url_char_d + url_length\", \"url_char_z + url_length\", \"url_length + url_words_with_length_5\", \"url_char_g + url_length\", \"url_char_p + url_length\", \"url_char_h + url_length\", \"url_char_w + url_char_x\", \"url_char_k + url_length\", \"url_char_. + url_words_with_length_8\", \"url_char_l + url_length\", \"url_char_y + url_length\", \"url_char_v + url_length\", \"url_char_x + url_length\", \"url_length\", \"url_char_w + url_words_with_length_8\", \"url_length + url_words_with_length_7\", \"url_length + url_word_count_info\", \"url_char_- + url_length\", \"url_extension_.net + url_length\", \"url_length + url_words_with_length_8\"], \"type\": \"bar\", \"uid\": \"b69d322d-b0b2-4cb7-9a03-03b35161add1\"}], {\"autosize\": false, \"height\": 1000, \"width\": 1000, \"xaxis\": {\"tickfont\": {\"color\": \"black\", \"size\": 12}, \"title\": \"Feature Importances\"}, \"yaxis\": {\"automargin\": true}}, {\"showLink\": true, \"linkText\": \"Export to plot.ly\", \"plotlyServerURL\": \"https://plot.ly\"})});</script>"
      ]
     },
     "metadata": {},
     "output_type": "display_data"
    }
   ],
   "source": [
    "feat_impt_plot(np.average(feat_imp,axis=0),feature_name)"
   ]
  },
  {
   "cell_type": "markdown",
   "metadata": {},
   "source": [
    "### <a id='5' style=\"text-decoration : none; color : #000000;\">5. Feature Transformation with PCA </a>"
   ]
  },
  {
   "cell_type": "code",
   "execution_count": 48,
   "metadata": {
    "collapsed": true
   },
   "outputs": [],
   "source": [
    "X=fs.loc[:,fs.columns!='Target']\n",
    "y=fs.Target.values\n",
    "feature_name = X.columns.tolist()\n",
    "X=np.nan_to_num(X)\n",
    "scaler=StandardScaler()\n",
    "scaled_X=scaler.fit_transform(X)"
   ]
  },
  {
   "cell_type": "code",
   "execution_count": 49,
   "metadata": {},
   "outputs": [
    {
     "data": {
      "image/png": "[encoded data removed]",
      "text/plain": [
       "<Figure size 720x576 with 1 Axes>"
      ]
     },
     "metadata": {},
     "output_type": "display_data"
    }
   ],
   "source": [
    "sns.set_style('whitegrid')\n",
    "pca = PCA(random_state=0)\n",
    "pca.fit(scaled_X)\n",
    "plt.figure(1, figsize=(10, 8))\n",
    "plt.plot(np.cumsum(pca.explained_variance_ratio_),'--o', linewidth=2)\n",
    "plt.axis('tight')\n",
    "plt.xlabel('Number of Components',size=14)\n",
    "plt.xticks(size=12)\n",
    "plt.xlim([0,200])\n",
    "plt.ylabel('% Explained Variance',size=14)\n",
    "plt.yticks(size=12)\n",
    "plt.title('% Variance Explained by Principal Components',size=14,y=1.05)\n",
    "plt.show()"
   ]
  },
  {
   "cell_type": "code",
   "execution_count": 50,
   "metadata": {},
   "outputs": [
    {
     "data": {
      "text/plain": [
       "array([ 105,  106,  107, ..., 2847, 2848, 2849])"
      ]
     },
     "execution_count": 50,
     "metadata": {},
     "output_type": "execute_result"
    }
   ],
   "source": [
    "np.where(np.cumsum(pca.explained_variance_ratio_)>=0.8)[0]"
   ]
  },
  {
   "cell_type": "code",
   "execution_count": 51,
   "metadata": {},
   "outputs": [
    {
     "name": "stdout",
     "output_type": "stream",
     "text": [
      "Variance explained using 110 components is: 0.80384895696\n"
     ]
    }
   ],
   "source": [
    "pca=PCA(n_components=110,whiten=True,random_state=0)\n",
    "X_pca_21=pca.fit_transform(scaled_X)\n",
    "print(\"Variance explained using 110 components is:\",sum(pca.explained_variance_ratio_))"
   ]
  },
  {
   "cell_type": "code",
   "execution_count": 52,
   "metadata": {
    "collapsed": true
   },
   "outputs": [],
   "source": [
    "X_train=X_pca_21[:37417]\n",
    "Y_train=fs.iloc[:37417]['Target'].values\n",
    "X_test=X_pca_21[37417:]\n",
    "Y_test=fs.iloc[37417:]['Target'].values\n",
    "\n",
    "## Table to store training and test measures so we can compare later\n",
    "table_80_70_train=pd.DataFrame(columns=['accuracy','TP','TN','FP','FN','FPR','FNR'])\n",
    "table_80_70_test=pd.DataFrame(columns=['accuracy','TP','TN','FP','FN','FPR','FNR','auc','mcc'])"
   ]
  },
  {
   "cell_type": "code",
   "execution_count": 53,
   "metadata": {
    "scrolled": false
   },
   "outputs": [
    {
     "name": "stdout",
     "output_type": "stream",
     "text": [
      "\u001b[1mK-Nearest Neighbors\u001b[0m\n",
      "Accuracy of the model for training data is: 0.947884651362\n",
      "Confusion Matrix for training data is:\n"
     ]
    },
    {
     "data": {
      "text/plain": [
       "Predicted  False  True  __all__\n",
       "Actual                         \n",
       "False      31841    51    31892\n",
       "True        1899  3626     5525\n",
       "__all__    33740  3677    37417"
      ]
     },
     "metadata": {},
     "output_type": "display_data"
    },
    {
     "name": "stdout",
     "output_type": "stream",
     "text": [
      "Accuracy of the model for test data is: 0.938208253154\n",
      "Confusion Matrix for test data is:\n"
     ]
    },
    {
     "data": {
      "text/plain": [
       "Predicted  False  True  __all__\n",
       "Actual                         \n",
       "False       7966    19     7985\n",
       "True         559   810     1369\n",
       "__all__     8525   829     9354"
      ]
     },
     "metadata": {},
     "output_type": "display_data"
    },
    {
     "name": "stdout",
     "output_type": "stream",
     "text": [
      "\n",
      "\n",
      "\u001b[1mLogistic Regression\u001b[0m\n",
      "Accuracy of the model for training data is: 0.952748750568\n",
      "Confusion Matrix for training data is:\n"
     ]
    },
    {
     "data": {
      "text/plain": [
       "Predicted  False  True  __all__\n",
       "Actual                         \n",
       "False      31470   422    31892\n",
       "True        1346  4179     5525\n",
       "__all__    32816  4601    37417"
      ]
     },
     "metadata": {},
     "output_type": "display_data"
    },
    {
     "name": "stdout",
     "output_type": "stream",
     "text": [
      "Accuracy of the model for test data is: 0.951464614069\n",
      "Confusion Matrix for test data is:\n"
     ]
    },
    {
     "data": {
      "text/plain": [
       "Predicted  False  True  __all__\n",
       "Actual                         \n",
       "False       7862   123     7985\n",
       "True         331  1038     1369\n",
       "__all__     8193  1161     9354"
      ]
     },
     "metadata": {},
     "output_type": "display_data"
    },
    {
     "name": "stdout",
     "output_type": "stream",
     "text": [
      "\n",
      "\n",
      "\u001b[1mRandomForest Classifier\u001b[0m\n",
      "Accuracy of the model for training data is: 0.993906513082\n",
      "Confusion Matrix for training data is:\n"
     ]
    },
    {
     "data": {
      "text/plain": [
       "Predicted  False  True  __all__\n",
       "Actual                         \n",
       "False      31885     7    31892\n",
       "True         221  5304     5525\n",
       "__all__    32106  5311    37417"
      ]
     },
     "metadata": {},
     "output_type": "display_data"
    },
    {
     "name": "stdout",
     "output_type": "stream",
     "text": [
      "Accuracy of the model for test data is: 0.943125935429\n",
      "Confusion Matrix for test data is:\n"
     ]
    },
    {
     "data": {
      "text/plain": [
       "Predicted  False  True  __all__\n",
       "Actual                         \n",
       "False       7902    83     7985\n",
       "True         449   920     1369\n",
       "__all__     8351  1003     9354"
      ]
     },
     "metadata": {},
     "output_type": "display_data"
    },
    {
     "data": {
      "application/vnd.plotly.v1+json": {
       "config": {
        "linkText": "Export to plot.ly",
        "plotlyServerURL": "https://plot.ly",
        "showLink": true
       },
       "data": [
        {
         "marker": {
          "color": "rgb(158,202,225)",
          "line": {
           "color": "rgb(8,48,107)",
           "width": 1.5
          }
         },
         "opacity": 0.6,
         "orientation": "h",
         "text": [
          0.0996,
          0.0797,
          0.0437,
          0.04,
          0.0299,
          0.0274,
          0.02,
          0.0179,
          0.0159,
          0.0157,
          0.0152,
          0.0129,
          0.0127,
          0.0122,
          0.0121,
          0.0119,
          0.0114,
          0.0107,
          0.0107,
          0.0104,
          0.0103,
          0.0102,
          0.0099,
          0.0099,
          0.0098,
          0.0096,
          0.0096,
          0.0095,
          0.0093,
          0.0092,
          0.0092,
          0.0088,
          0.0084,
          0.0082,
          0.0076,
          0.0076,
          0.0069,
          0.0064,
          0.0064,
          0.0063,
          0.0063,
          0.0062,
          0.0062,
          0.0061,
          0.006,
          0.0059,
          0.0058,
          0.0058,
          0.0057,
          0.0057,
          0.0054,
          0.0054,
          0.0053,
          0.0053,
          0.0053,
          0.0052,
          0.0052,
          0.0051,
          0.0051,
          0.0051,
          0.0051,
          0.0051,
          0.005,
          0.0049,
          0.0049,
          0.0048,
          0.0048,
          0.0046,
          0.0046,
          0.0046,
          0.0046,
          0.0045,
          0.0044,
          0.0044,
          0.0044,
          0.0043,
          0.0043,
          0.0043,
          0.0043,
          0.0042,
          0.0042,
          0.0042,
          0.0041,
          0.0041,
          0.004,
          0.004,
          0.0039,
          0.0039,
          0.0039,
          0.0039,
          0.0039,
          0.0039,
          0.0039,
          0.0039,
          0.0038,
          0.0038,
          0.0038,
          0.0038,
          0.0037,
          0.0036,
          0.0036,
          0.0036,
          0.0035,
          0.0035,
          0.0034,
          0.0034,
          0.0034,
          0.0033,
          0.0032,
          0.0029
         ],
         "textposition": "outside",
         "type": "bar",
         "uid": "8fb7dc96-39a9-4fb2-b1a2-e0203552d89c",
         "x": [
          0.09955914354036291,
          0.07971800514937608,
          0.043718718375604544,
          0.040004043456899126,
          0.029934830829734287,
          0.027436743945699737,
          0.02000365537712297,
          0.017919321220446777,
          0.015937413887301792,
          0.015743266714826072,
          0.015170939827652701,
          0.012851602218285227,
          0.012653148147778787,
          0.012217732161927824,
          0.01210362230298412,
          0.011897701325039143,
          0.01136213893060151,
          0.010745024161940888,
          0.010702117566115974,
          0.010386466065842613,
          0.010252345193448073,
          0.010218412467043633,
          0.009936246081157908,
          0.009915872852262666,
          0.009759666226413805,
          0.009604559820191379,
          0.009567907826636784,
          0.009503708811924073,
          0.009286901622468192,
          0.009239048703718236,
          0.009230645724439103,
          0.008770084330686649,
          0.008432586578818093,
          0.008238280437783496,
          0.007630569293921604,
          0.007578209805152658,
          0.006925300072655613,
          0.006417657666516001,
          0.006411768868009093,
          0.006331785836495146,
          0.006251279643884497,
          0.0062026140302204455,
          0.006187084843360282,
          0.006148924597352103,
          0.0060377099689896685,
          0.005936026345996652,
          0.005847591753702246,
          0.0058436271529287084,
          0.005672284031871663,
          0.005662451631112316,
          0.005381863634744723,
          0.005372766518287673,
          0.005316462296093672,
          0.0053020134195659865,
          0.005264239906893172,
          0.005237279244703822,
          0.005158825469865657,
          0.005149754975529639,
          0.005137869179531903,
          0.005133241592009269,
          0.005125991346541814,
          0.005062373052346965,
          0.005027917603509459,
          0.00489974200225025,
          0.004883144307944795,
          0.004790642306944369,
          0.004753363984820927,
          0.004639331346769915,
          0.004634795194676242,
          0.004627556209880646,
          0.004577407953785433,
          0.004542848614138609,
          0.004416477528314911,
          0.0043869403913463344,
          0.004371054849642197,
          0.004344771082141766,
          0.004342223929228606,
          0.004282229171000877,
          0.00426873490292563,
          0.0042396248021537315,
          0.004221379326900912,
          0.004158730485751708,
          0.004094510174736286,
          0.004084294755039262,
          0.004045429845452205,
          0.00400290650820322,
          0.003945314023250808,
          0.0039244812437900945,
          0.0039233740071806765,
          0.00391643330222321,
          0.0038858863992215697,
          0.003882634168985006,
          0.003864517547450142,
          0.0038623028278244793,
          0.0038027308293618637,
          0.0037897784995212466,
          0.0037793057607414743,
          0.0037760794085786504,
          0.003704324121095516,
          0.0036378934524450104,
          0.003606664290287568,
          0.0036054185388713065,
          0.0035254816572087345,
          0.0035183043218907336,
          0.003416600079958896,
          0.003410862849658034,
          0.0033905169909996167,
          0.0033489499364953565,
          0.0031916205146251264,
          0.002904999889958332
         ],
         "y": [
          "0",
          "6",
          "1",
          "97",
          "3",
          "40",
          "81",
          "45",
          "4",
          "65",
          "2",
          "62",
          "7",
          "74",
          "13",
          "72",
          "20",
          "84",
          "5",
          "57",
          "12",
          "59",
          "64",
          "41",
          "16",
          "34",
          "33",
          "14",
          "58",
          "17",
          "79",
          "43",
          "39",
          "28",
          "69",
          "35",
          "38",
          "75",
          "8",
          "9",
          "51",
          "44",
          "27",
          "92",
          "82",
          "48",
          "73",
          "60",
          "18",
          "26",
          "42",
          "108",
          "71",
          "77",
          "78",
          "61",
          "85",
          "37",
          "63",
          "36",
          "56",
          "53",
          "93",
          "46",
          "29",
          "87",
          "22",
          "103",
          "55",
          "49",
          "30",
          "23",
          "67",
          "50",
          "31",
          "83",
          "86",
          "47",
          "95",
          "68",
          "54",
          "107",
          "32",
          "19",
          "96",
          "104",
          "80",
          "21",
          "11",
          "90",
          "98",
          "10",
          "94",
          "100",
          "70",
          "24",
          "102",
          "76",
          "66",
          "89",
          "15",
          "88",
          "109",
          "91",
          "52",
          "99",
          "105",
          "101",
          "25",
          "106"
         ]
        }
       ],
       "layout": {
        "autosize": false,
        "height": 1000,
        "width": 1000,
        "xaxis": {
         "tickfont": {
          "color": "black",
          "size": 12
         },
         "title": "Feature Importances"
        },
        "yaxis": {
         "automargin": true
        }
       }
      },
      "text/html": [
       "<div id=\"3803c8e3-5fc3-497f-bcc1-f29c4b10f9cd\" style=\"height: 1000px; width: 1000px;\" class=\"plotly-graph-div\"></div><script type=\"text/javascript\">require([\"plotly\"], function(Plotly) { window.PLOTLYENV=window.PLOTLYENV || {};window.PLOTLYENV.BASE_URL=\"https://plot.ly\";Plotly.newPlot(\"3803c8e3-5fc3-497f-bcc1-f29c4b10f9cd\", [{\"marker\": {\"color\": \"rgb(158,202,225)\", \"line\": {\"color\": \"rgb(8,48,107)\", \"width\": 1.5}}, \"opacity\": 0.6, \"orientation\": \"h\", \"text\": [0.0996, 0.0797, 0.0437, 0.04, 0.0299, 0.0274, 0.02, 0.0179, 0.0159, 0.0157, 0.0152, 0.0129, 0.0127, 0.0122, 0.0121, 0.0119, 0.0114, 0.0107, 0.0107, 0.0104, 0.0103, 0.0102, 0.0099, 0.0099, 0.0098, 0.0096, 0.0096, 0.0095, 0.0093, 0.0092, 0.0092, 0.0088, 0.0084, 0.0082, 0.0076, 0.0076, 0.0069, 0.0064, 0.0064, 0.0063, 0.0063, 0.0062, 0.0062, 0.0061, 0.006, 0.0059, 0.0058, 0.0058, 0.0057, 0.0057, 0.0054, 0.0054, 0.0053, 0.0053, 0.0053, 0.0052, 0.0052, 0.0051, 0.0051, 0.0051, 0.0051, 0.0051, 0.005, 0.0049, 0.0049, 0.0048, 0.0048, 0.0046, 0.0046, 0.0046, 0.0046, 0.0045, 0.0044, 0.0044, 0.0044, 0.0043, 0.0043, 0.0043, 0.0043, 0.0042, 0.0042, 0.0042, 0.0041, 0.0041, 0.004, 0.004, 0.0039, 0.0039, 0.0039, 0.0039, 0.0039, 0.0039, 0.0039, 0.0039, 0.0038, 0.0038, 0.0038, 0.0038, 0.0037, 0.0036, 0.0036, 0.0036, 0.0035, 0.0035, 0.0034, 0.0034, 0.0034, 0.0033, 0.0032, 0.0029], \"textposition\": \"outside\", \"x\": [0.09955914354036291, 0.07971800514937608, 0.043718718375604544, 0.040004043456899126, 0.029934830829734287, 0.027436743945699737, 0.02000365537712297, 0.017919321220446777, 0.015937413887301792, 0.015743266714826072, 0.015170939827652701, 0.012851602218285227, 0.012653148147778787, 0.012217732161927824, 0.01210362230298412, 0.011897701325039143, 0.01136213893060151, 0.010745024161940888, 0.010702117566115974, 0.010386466065842613, 0.010252345193448073, 0.010218412467043633, 0.009936246081157908, 0.009915872852262666, 0.009759666226413805, 0.009604559820191379, 0.009567907826636784, 0.009503708811924073, 0.009286901622468192, 0.009239048703718236, 0.009230645724439103, 0.008770084330686649, 0.008432586578818093, 0.008238280437783496, 0.007630569293921604, 0.007578209805152658, 0.006925300072655613, 0.006417657666516001, 0.006411768868009093, 0.006331785836495146, 0.006251279643884497, 0.0062026140302204455, 0.006187084843360282, 0.006148924597352103, 0.0060377099689896685, 0.005936026345996652, 0.005847591753702246, 0.0058436271529287084, 0.005672284031871663, 0.005662451631112316, 0.005381863634744723, 0.005372766518287673, 0.005316462296093672, 0.0053020134195659865, 0.005264239906893172, 0.005237279244703822, 0.005158825469865657, 0.005149754975529639, 0.005137869179531903, 0.005133241592009269, 0.005125991346541814, 0.005062373052346965, 0.005027917603509459, 0.00489974200225025, 0.004883144307944795, 0.004790642306944369, 0.004753363984820927, 0.004639331346769915, 0.004634795194676242, 0.004627556209880646, 0.004577407953785433, 0.004542848614138609, 0.004416477528314911, 0.0043869403913463344, 0.004371054849642197, 0.004344771082141766, 0.004342223929228606, 0.004282229171000877, 0.00426873490292563, 0.0042396248021537315, 0.004221379326900912, 0.004158730485751708, 0.004094510174736286, 0.004084294755039262, 0.004045429845452205, 0.00400290650820322, 0.003945314023250808, 0.0039244812437900945, 0.0039233740071806765, 0.00391643330222321, 0.0038858863992215697, 0.003882634168985006, 0.003864517547450142, 0.0038623028278244793, 0.0038027308293618637, 0.0037897784995212466, 0.0037793057607414743, 0.0037760794085786504, 0.003704324121095516, 0.0036378934524450104, 0.003606664290287568, 0.0036054185388713065, 0.0035254816572087345, 0.0035183043218907336, 0.003416600079958896, 0.003410862849658034, 0.0033905169909996167, 0.0033489499364953565, 0.0031916205146251264, 0.002904999889958332], \"y\": [\"0\", \"6\", \"1\", \"97\", \"3\", \"40\", \"81\", \"45\", \"4\", \"65\", \"2\", \"62\", \"7\", \"74\", \"13\", \"72\", \"20\", \"84\", \"5\", \"57\", \"12\", \"59\", \"64\", \"41\", \"16\", \"34\", \"33\", \"14\", \"58\", \"17\", \"79\", \"43\", \"39\", \"28\", \"69\", \"35\", \"38\", \"75\", \"8\", \"9\", \"51\", \"44\", \"27\", \"92\", \"82\", \"48\", \"73\", \"60\", \"18\", \"26\", \"42\", \"108\", \"71\", \"77\", \"78\", \"61\", \"85\", \"37\", \"63\", \"36\", \"56\", \"53\", \"93\", \"46\", \"29\", \"87\", \"22\", \"103\", \"55\", \"49\", \"30\", \"23\", \"67\", \"50\", \"31\", \"83\", \"86\", \"47\", \"95\", \"68\", \"54\", \"107\", \"32\", \"19\", \"96\", \"104\", \"80\", \"21\", \"11\", \"90\", \"98\", \"10\", \"94\", \"100\", \"70\", \"24\", \"102\", \"76\", \"66\", \"89\", \"15\", \"88\", \"109\", \"91\", \"52\", \"99\", \"105\", \"101\", \"25\", \"106\"], \"type\": \"bar\", \"uid\": \"8fb7dc96-39a9-4fb2-b1a2-e0203552d89c\"}], {\"autosize\": false, \"height\": 1000, \"width\": 1000, \"xaxis\": {\"tickfont\": {\"color\": \"black\", \"size\": 12}, \"title\": \"Feature Importances\"}, \"yaxis\": {\"automargin\": true}}, {\"showLink\": true, \"linkText\": \"Export to plot.ly\", \"plotlyServerURL\": \"https://plot.ly\"})});</script>"
      ],
      "text/vnd.plotly.v1+html": [
       "<div id=\"3803c8e3-5fc3-497f-bcc1-f29c4b10f9cd\" style=\"height: 1000px; width: 1000px;\" class=\"plotly-graph-div\"></div><script type=\"text/javascript\">require([\"plotly\"], function(Plotly) { window.PLOTLYENV=window.PLOTLYENV || {};window.PLOTLYENV.BASE_URL=\"https://plot.ly\";Plotly.newPlot(\"3803c8e3-5fc3-497f-bcc1-f29c4b10f9cd\", [{\"marker\": {\"color\": \"rgb(158,202,225)\", \"line\": {\"color\": \"rgb(8,48,107)\", \"width\": 1.5}}, \"opacity\": 0.6, \"orientation\": \"h\", \"text\": [0.0996, 0.0797, 0.0437, 0.04, 0.0299, 0.0274, 0.02, 0.0179, 0.0159, 0.0157, 0.0152, 0.0129, 0.0127, 0.0122, 0.0121, 0.0119, 0.0114, 0.0107, 0.0107, 0.0104, 0.0103, 0.0102, 0.0099, 0.0099, 0.0098, 0.0096, 0.0096, 0.0095, 0.0093, 0.0092, 0.0092, 0.0088, 0.0084, 0.0082, 0.0076, 0.0076, 0.0069, 0.0064, 0.0064, 0.0063, 0.0063, 0.0062, 0.0062, 0.0061, 0.006, 0.0059, 0.0058, 0.0058, 0.0057, 0.0057, 0.0054, 0.0054, 0.0053, 0.0053, 0.0053, 0.0052, 0.0052, 0.0051, 0.0051, 0.0051, 0.0051, 0.0051, 0.005, 0.0049, 0.0049, 0.0048, 0.0048, 0.0046, 0.0046, 0.0046, 0.0046, 0.0045, 0.0044, 0.0044, 0.0044, 0.0043, 0.0043, 0.0043, 0.0043, 0.0042, 0.0042, 0.0042, 0.0041, 0.0041, 0.004, 0.004, 0.0039, 0.0039, 0.0039, 0.0039, 0.0039, 0.0039, 0.0039, 0.0039, 0.0038, 0.0038, 0.0038, 0.0038, 0.0037, 0.0036, 0.0036, 0.0036, 0.0035, 0.0035, 0.0034, 0.0034, 0.0034, 0.0033, 0.0032, 0.0029], \"textposition\": \"outside\", \"x\": [0.09955914354036291, 0.07971800514937608, 0.043718718375604544, 0.040004043456899126, 0.029934830829734287, 0.027436743945699737, 0.02000365537712297, 0.017919321220446777, 0.015937413887301792, 0.015743266714826072, 0.015170939827652701, 0.012851602218285227, 0.012653148147778787, 0.012217732161927824, 0.01210362230298412, 0.011897701325039143, 0.01136213893060151, 0.010745024161940888, 0.010702117566115974, 0.010386466065842613, 0.010252345193448073, 0.010218412467043633, 0.009936246081157908, 0.009915872852262666, 0.009759666226413805, 0.009604559820191379, 0.009567907826636784, 0.009503708811924073, 0.009286901622468192, 0.009239048703718236, 0.009230645724439103, 0.008770084330686649, 0.008432586578818093, 0.008238280437783496, 0.007630569293921604, 0.007578209805152658, 0.006925300072655613, 0.006417657666516001, 0.006411768868009093, 0.006331785836495146, 0.006251279643884497, 0.0062026140302204455, 0.006187084843360282, 0.006148924597352103, 0.0060377099689896685, 0.005936026345996652, 0.005847591753702246, 0.0058436271529287084, 0.005672284031871663, 0.005662451631112316, 0.005381863634744723, 0.005372766518287673, 0.005316462296093672, 0.0053020134195659865, 0.005264239906893172, 0.005237279244703822, 0.005158825469865657, 0.005149754975529639, 0.005137869179531903, 0.005133241592009269, 0.005125991346541814, 0.005062373052346965, 0.005027917603509459, 0.00489974200225025, 0.004883144307944795, 0.004790642306944369, 0.004753363984820927, 0.004639331346769915, 0.004634795194676242, 0.004627556209880646, 0.004577407953785433, 0.004542848614138609, 0.004416477528314911, 0.0043869403913463344, 0.004371054849642197, 0.004344771082141766, 0.004342223929228606, 0.004282229171000877, 0.00426873490292563, 0.0042396248021537315, 0.004221379326900912, 0.004158730485751708, 0.004094510174736286, 0.004084294755039262, 0.004045429845452205, 0.00400290650820322, 0.003945314023250808, 0.0039244812437900945, 0.0039233740071806765, 0.00391643330222321, 0.0038858863992215697, 0.003882634168985006, 0.003864517547450142, 0.0038623028278244793, 0.0038027308293618637, 0.0037897784995212466, 0.0037793057607414743, 0.0037760794085786504, 0.003704324121095516, 0.0036378934524450104, 0.003606664290287568, 0.0036054185388713065, 0.0035254816572087345, 0.0035183043218907336, 0.003416600079958896, 0.003410862849658034, 0.0033905169909996167, 0.0033489499364953565, 0.0031916205146251264, 0.002904999889958332], \"y\": [\"0\", \"6\", \"1\", \"97\", \"3\", \"40\", \"81\", \"45\", \"4\", \"65\", \"2\", \"62\", \"7\", \"74\", \"13\", \"72\", \"20\", \"84\", \"5\", \"57\", \"12\", \"59\", \"64\", \"41\", \"16\", \"34\", \"33\", \"14\", \"58\", \"17\", \"79\", \"43\", \"39\", \"28\", \"69\", \"35\", \"38\", \"75\", \"8\", \"9\", \"51\", \"44\", \"27\", \"92\", \"82\", \"48\", \"73\", \"60\", \"18\", \"26\", \"42\", \"108\", \"71\", \"77\", \"78\", \"61\", \"85\", \"37\", \"63\", \"36\", \"56\", \"53\", \"93\", \"46\", \"29\", \"87\", \"22\", \"103\", \"55\", \"49\", \"30\", \"23\", \"67\", \"50\", \"31\", \"83\", \"86\", \"47\", \"95\", \"68\", \"54\", \"107\", \"32\", \"19\", \"96\", \"104\", \"80\", \"21\", \"11\", \"90\", \"98\", \"10\", \"94\", \"100\", \"70\", \"24\", \"102\", \"76\", \"66\", \"89\", \"15\", \"88\", \"109\", \"91\", \"52\", \"99\", \"105\", \"101\", \"25\", \"106\"], \"type\": \"bar\", \"uid\": \"8fb7dc96-39a9-4fb2-b1a2-e0203552d89c\"}], {\"autosize\": false, \"height\": 1000, \"width\": 1000, \"xaxis\": {\"tickfont\": {\"color\": \"black\", \"size\": 12}, \"title\": \"Feature Importances\"}, \"yaxis\": {\"automargin\": true}}, {\"showLink\": true, \"linkText\": \"Export to plot.ly\", \"plotlyServerURL\": \"https://plot.ly\"})});</script>"
      ]
     },
     "metadata": {},
     "output_type": "display_data"
    },
    {
     "name": "stdout",
     "output_type": "stream",
     "text": [
      "\n",
      "\n",
      "\u001b[1mAdaoost Classifier\u001b[0m\n",
      "Accuracy of the model for training data is: 0.937621936553\n",
      "Confusion Matrix for training data is:\n"
     ]
    },
    {
     "data": {
      "text/plain": [
       "Predicted  False  True  __all__\n",
       "Actual                         \n",
       "False      31247   645    31892\n",
       "True        1689  3836     5525\n",
       "__all__    32936  4481    37417"
      ]
     },
     "metadata": {},
     "output_type": "display_data"
    },
    {
     "name": "stdout",
     "output_type": "stream",
     "text": [
      "Accuracy of the model for test data is: 0.934573444516\n",
      "Confusion Matrix for test data is:\n"
     ]
    },
    {
     "data": {
      "text/plain": [
       "Predicted  False  True  __all__\n",
       "Actual                         \n",
       "False       7806   179     7985\n",
       "True         433   936     1369\n",
       "__all__     8239  1115     9354"
      ]
     },
     "metadata": {},
     "output_type": "display_data"
    },
    {
     "data": {
      "application/vnd.plotly.v1+json": {
       "config": {
        "linkText": "Export to plot.ly",
        "plotlyServerURL": "https://plot.ly",
        "showLink": true
       },
       "data": [
        {
         "marker": {
          "color": "rgb(158,202,225)",
          "line": {
           "color": "rgb(8,48,107)",
           "width": 1.5
          }
         },
         "opacity": 0.6,
         "orientation": "h",
         "text": [
          0.12,
          0.1,
          0.1,
          0.06,
          0.06,
          0.04,
          0.04,
          0.02,
          0.02,
          0.02,
          0.02,
          0.02,
          0.02,
          0.02,
          0.02,
          0.02,
          0.02,
          0.02,
          0.02,
          0.02,
          0.02,
          0.02,
          0.02,
          0.02,
          0.02,
          0.02,
          0.02,
          0.02,
          0.02,
          0.02,
          0.02,
          0,
          0,
          0,
          0,
          0,
          0,
          0,
          0,
          0,
          0,
          0,
          0,
          0,
          0,
          0,
          0,
          0,
          0,
          0,
          0,
          0,
          0,
          0,
          0,
          0,
          0,
          0,
          0,
          0,
          0,
          0,
          0,
          0,
          0,
          0,
          0,
          0,
          0,
          0,
          0,
          0,
          0,
          0,
          0,
          0,
          0,
          0,
          0,
          0,
          0,
          0,
          0,
          0,
          0,
          0,
          0,
          0,
          0,
          0,
          0,
          0,
          0,
          0,
          0,
          0,
          0,
          0,
          0,
          0,
          0,
          0,
          0,
          0,
          0,
          0,
          0,
          0,
          0,
          0
         ],
         "textposition": "outside",
         "type": "bar",
         "uid": "cbb6a6f1-984c-4821-bec7-6e9d5124038a",
         "x": [
          0.12,
          0.1,
          0.1,
          0.06,
          0.06,
          0.04,
          0.04,
          0.02,
          0.02,
          0.02,
          0.02,
          0.02,
          0.02,
          0.02,
          0.02,
          0.02,
          0.02,
          0.02,
          0.02,
          0.02,
          0.02,
          0.02,
          0.02,
          0.02,
          0.02,
          0.02,
          0.02,
          0.02,
          0.02,
          0.02,
          0.02,
          0,
          0,
          0,
          0,
          0,
          0,
          0,
          0,
          0,
          0,
          0,
          0,
          0,
          0,
          0,
          0,
          0,
          0,
          0,
          0,
          0,
          0,
          0,
          0,
          0,
          0,
          0,
          0,
          0,
          0,
          0,
          0,
          0,
          0,
          0,
          0,
          0,
          0,
          0,
          0,
          0,
          0,
          0,
          0,
          0,
          0,
          0,
          0,
          0,
          0,
          0,
          0,
          0,
          0,
          0,
          0,
          0,
          0,
          0,
          0,
          0,
          0,
          0,
          0,
          0,
          0,
          0,
          0,
          0,
          0,
          0,
          0,
          0,
          0,
          0,
          0,
          0,
          0,
          0
         ],
         "y": [
          "0",
          "3",
          "6",
          "2",
          "1",
          "65",
          "20",
          "85",
          "97",
          "28",
          "29",
          "31",
          "34",
          "37",
          "48",
          "84",
          "45",
          "23",
          "49",
          "53",
          "59",
          "74",
          "25",
          "93",
          "13",
          "18",
          "14",
          "17",
          "5",
          "16",
          "7",
          "98",
          "107",
          "81",
          "80",
          "79",
          "106",
          "78",
          "75",
          "77",
          "76",
          "104",
          "73",
          "72",
          "71",
          "70",
          "108",
          "105",
          "103",
          "82",
          "83",
          "100",
          "96",
          "101",
          "95",
          "94",
          "68",
          "92",
          "91",
          "102",
          "90",
          "89",
          "88",
          "87",
          "86",
          "99",
          "69",
          "55",
          "67",
          "22",
          "36",
          "35",
          "33",
          "32",
          "30",
          "27",
          "26",
          "24",
          "21",
          "66",
          "19",
          "15",
          "12",
          "11",
          "10",
          "9",
          "8",
          "4",
          "38",
          "39",
          "40",
          "41",
          "64",
          "63",
          "62",
          "61",
          "60",
          "58",
          "57",
          "56",
          "54",
          "52",
          "51",
          "50",
          "47",
          "46",
          "44",
          "43",
          "42",
          "109"
         ]
        }
       ],
       "layout": {
        "autosize": false,
        "height": 1000,
        "width": 1000,
        "xaxis": {
         "tickfont": {
          "color": "black",
          "size": 12
         },
         "title": "Feature Importances"
        },
        "yaxis": {
         "automargin": true
        }
       }
      },
      "text/html": [
       "<div id=\"aa148c2d-d79b-4d3b-8331-c4d212ecf018\" style=\"height: 1000px; width: 1000px;\" class=\"plotly-graph-div\"></div><script type=\"text/javascript\">require([\"plotly\"], function(Plotly) { window.PLOTLYENV=window.PLOTLYENV || {};window.PLOTLYENV.BASE_URL=\"https://plot.ly\";Plotly.newPlot(\"aa148c2d-d79b-4d3b-8331-c4d212ecf018\", [{\"marker\": {\"color\": \"rgb(158,202,225)\", \"line\": {\"color\": \"rgb(8,48,107)\", \"width\": 1.5}}, \"opacity\": 0.6, \"orientation\": \"h\", \"text\": [0.12, 0.1, 0.1, 0.06, 0.06, 0.04, 0.04, 0.02, 0.02, 0.02, 0.02, 0.02, 0.02, 0.02, 0.02, 0.02, 0.02, 0.02, 0.02, 0.02, 0.02, 0.02, 0.02, 0.02, 0.02, 0.02, 0.02, 0.02, 0.02, 0.02, 0.02, 0.0, 0.0, 0.0, 0.0, 0.0, 0.0, 0.0, 0.0, 0.0, 0.0, 0.0, 0.0, 0.0, 0.0, 0.0, 0.0, 0.0, 0.0, 0.0, 0.0, 0.0, 0.0, 0.0, 0.0, 0.0, 0.0, 0.0, 0.0, 0.0, 0.0, 0.0, 0.0, 0.0, 0.0, 0.0, 0.0, 0.0, 0.0, 0.0, 0.0, 0.0, 0.0, 0.0, 0.0, 0.0, 0.0, 0.0, 0.0, 0.0, 0.0, 0.0, 0.0, 0.0, 0.0, 0.0, 0.0, 0.0, 0.0, 0.0, 0.0, 0.0, 0.0, 0.0, 0.0, 0.0, 0.0, 0.0, 0.0, 0.0, 0.0, 0.0, 0.0, 0.0, 0.0, 0.0, 0.0, 0.0, 0.0, 0.0], \"textposition\": \"outside\", \"x\": [0.12, 0.1, 0.1, 0.06, 0.06, 0.04, 0.04, 0.02, 0.02, 0.02, 0.02, 0.02, 0.02, 0.02, 0.02, 0.02, 0.02, 0.02, 0.02, 0.02, 0.02, 0.02, 0.02, 0.02, 0.02, 0.02, 0.02, 0.02, 0.02, 0.02, 0.02, 0.0, 0.0, 0.0, 0.0, 0.0, 0.0, 0.0, 0.0, 0.0, 0.0, 0.0, 0.0, 0.0, 0.0, 0.0, 0.0, 0.0, 0.0, 0.0, 0.0, 0.0, 0.0, 0.0, 0.0, 0.0, 0.0, 0.0, 0.0, 0.0, 0.0, 0.0, 0.0, 0.0, 0.0, 0.0, 0.0, 0.0, 0.0, 0.0, 0.0, 0.0, 0.0, 0.0, 0.0, 0.0, 0.0, 0.0, 0.0, 0.0, 0.0, 0.0, 0.0, 0.0, 0.0, 0.0, 0.0, 0.0, 0.0, 0.0, 0.0, 0.0, 0.0, 0.0, 0.0, 0.0, 0.0, 0.0, 0.0, 0.0, 0.0, 0.0, 0.0, 0.0, 0.0, 0.0, 0.0, 0.0, 0.0, 0.0], \"y\": [\"0\", \"3\", \"6\", \"2\", \"1\", \"65\", \"20\", \"85\", \"97\", \"28\", \"29\", \"31\", \"34\", \"37\", \"48\", \"84\", \"45\", \"23\", \"49\", \"53\", \"59\", \"74\", \"25\", \"93\", \"13\", \"18\", \"14\", \"17\", \"5\", \"16\", \"7\", \"98\", \"107\", \"81\", \"80\", \"79\", \"106\", \"78\", \"75\", \"77\", \"76\", \"104\", \"73\", \"72\", \"71\", \"70\", \"108\", \"105\", \"103\", \"82\", \"83\", \"100\", \"96\", \"101\", \"95\", \"94\", \"68\", \"92\", \"91\", \"102\", \"90\", \"89\", \"88\", \"87\", \"86\", \"99\", \"69\", \"55\", \"67\", \"22\", \"36\", \"35\", \"33\", \"32\", \"30\", \"27\", \"26\", \"24\", \"21\", \"66\", \"19\", \"15\", \"12\", \"11\", \"10\", \"9\", \"8\", \"4\", \"38\", \"39\", \"40\", \"41\", \"64\", \"63\", \"62\", \"61\", \"60\", \"58\", \"57\", \"56\", \"54\", \"52\", \"51\", \"50\", \"47\", \"46\", \"44\", \"43\", \"42\", \"109\"], \"type\": \"bar\", \"uid\": \"cbb6a6f1-984c-4821-bec7-6e9d5124038a\"}], {\"autosize\": false, \"height\": 1000, \"width\": 1000, \"xaxis\": {\"tickfont\": {\"color\": \"black\", \"size\": 12}, \"title\": \"Feature Importances\"}, \"yaxis\": {\"automargin\": true}}, {\"showLink\": true, \"linkText\": \"Export to plot.ly\", \"plotlyServerURL\": \"https://plot.ly\"})});</script>"
      ],
      "text/vnd.plotly.v1+html": [
       "<div id=\"aa148c2d-d79b-4d3b-8331-c4d212ecf018\" style=\"height: 1000px; width: 1000px;\" class=\"plotly-graph-div\"></div><script type=\"text/javascript\">require([\"plotly\"], function(Plotly) { window.PLOTLYENV=window.PLOTLYENV || {};window.PLOTLYENV.BASE_URL=\"https://plot.ly\";Plotly.newPlot(\"aa148c2d-d79b-4d3b-8331-c4d212ecf018\", [{\"marker\": {\"color\": \"rgb(158,202,225)\", \"line\": {\"color\": \"rgb(8,48,107)\", \"width\": 1.5}}, \"opacity\": 0.6, \"orientation\": \"h\", \"text\": [0.12, 0.1, 0.1, 0.06, 0.06, 0.04, 0.04, 0.02, 0.02, 0.02, 0.02, 0.02, 0.02, 0.02, 0.02, 0.02, 0.02, 0.02, 0.02, 0.02, 0.02, 0.02, 0.02, 0.02, 0.02, 0.02, 0.02, 0.02, 0.02, 0.02, 0.02, 0.0, 0.0, 0.0, 0.0, 0.0, 0.0, 0.0, 0.0, 0.0, 0.0, 0.0, 0.0, 0.0, 0.0, 0.0, 0.0, 0.0, 0.0, 0.0, 0.0, 0.0, 0.0, 0.0, 0.0, 0.0, 0.0, 0.0, 0.0, 0.0, 0.0, 0.0, 0.0, 0.0, 0.0, 0.0, 0.0, 0.0, 0.0, 0.0, 0.0, 0.0, 0.0, 0.0, 0.0, 0.0, 0.0, 0.0, 0.0, 0.0, 0.0, 0.0, 0.0, 0.0, 0.0, 0.0, 0.0, 0.0, 0.0, 0.0, 0.0, 0.0, 0.0, 0.0, 0.0, 0.0, 0.0, 0.0, 0.0, 0.0, 0.0, 0.0, 0.0, 0.0, 0.0, 0.0, 0.0, 0.0, 0.0, 0.0], \"textposition\": \"outside\", \"x\": [0.12, 0.1, 0.1, 0.06, 0.06, 0.04, 0.04, 0.02, 0.02, 0.02, 0.02, 0.02, 0.02, 0.02, 0.02, 0.02, 0.02, 0.02, 0.02, 0.02, 0.02, 0.02, 0.02, 0.02, 0.02, 0.02, 0.02, 0.02, 0.02, 0.02, 0.02, 0.0, 0.0, 0.0, 0.0, 0.0, 0.0, 0.0, 0.0, 0.0, 0.0, 0.0, 0.0, 0.0, 0.0, 0.0, 0.0, 0.0, 0.0, 0.0, 0.0, 0.0, 0.0, 0.0, 0.0, 0.0, 0.0, 0.0, 0.0, 0.0, 0.0, 0.0, 0.0, 0.0, 0.0, 0.0, 0.0, 0.0, 0.0, 0.0, 0.0, 0.0, 0.0, 0.0, 0.0, 0.0, 0.0, 0.0, 0.0, 0.0, 0.0, 0.0, 0.0, 0.0, 0.0, 0.0, 0.0, 0.0, 0.0, 0.0, 0.0, 0.0, 0.0, 0.0, 0.0, 0.0, 0.0, 0.0, 0.0, 0.0, 0.0, 0.0, 0.0, 0.0, 0.0, 0.0, 0.0, 0.0, 0.0, 0.0], \"y\": [\"0\", \"3\", \"6\", \"2\", \"1\", \"65\", \"20\", \"85\", \"97\", \"28\", \"29\", \"31\", \"34\", \"37\", \"48\", \"84\", \"45\", \"23\", \"49\", \"53\", \"59\", \"74\", \"25\", \"93\", \"13\", \"18\", \"14\", \"17\", \"5\", \"16\", \"7\", \"98\", \"107\", \"81\", \"80\", \"79\", \"106\", \"78\", \"75\", \"77\", \"76\", \"104\", \"73\", \"72\", \"71\", \"70\", \"108\", \"105\", \"103\", \"82\", \"83\", \"100\", \"96\", \"101\", \"95\", \"94\", \"68\", \"92\", \"91\", \"102\", \"90\", \"89\", \"88\", \"87\", \"86\", \"99\", \"69\", \"55\", \"67\", \"22\", \"36\", \"35\", \"33\", \"32\", \"30\", \"27\", \"26\", \"24\", \"21\", \"66\", \"19\", \"15\", \"12\", \"11\", \"10\", \"9\", \"8\", \"4\", \"38\", \"39\", \"40\", \"41\", \"64\", \"63\", \"62\", \"61\", \"60\", \"58\", \"57\", \"56\", \"54\", \"52\", \"51\", \"50\", \"47\", \"46\", \"44\", \"43\", \"42\", \"109\"], \"type\": \"bar\", \"uid\": \"cbb6a6f1-984c-4821-bec7-6e9d5124038a\"}], {\"autosize\": false, \"height\": 1000, \"width\": 1000, \"xaxis\": {\"tickfont\": {\"color\": \"black\", \"size\": 12}, \"title\": \"Feature Importances\"}, \"yaxis\": {\"automargin\": true}}, {\"showLink\": true, \"linkText\": \"Export to plot.ly\", \"plotlyServerURL\": \"https://plot.ly\"})});</script>"
      ]
     },
     "metadata": {},
     "output_type": "display_data"
    },
    {
     "name": "stdout",
     "output_type": "stream",
     "text": [
      "\n",
      "\n",
      "\u001b[1mGradientBoosting Classifier\u001b[0m\n",
      "Accuracy of the model for training data is: 0.95392468664\n",
      "Confusion Matrix for training data is:\n"
     ]
    },
    {
     "data": {
      "text/plain": [
       "Predicted  False  True  __all__\n",
       "Actual                         \n",
       "False      31596   296    31892\n",
       "True        1428  4097     5525\n",
       "__all__    33024  4393    37417"
      ]
     },
     "metadata": {},
     "output_type": "display_data"
    },
    {
     "name": "stdout",
     "output_type": "stream",
     "text": [
      "Accuracy of the model for test data is: 0.948364336113\n",
      "Confusion Matrix for test data is:\n"
     ]
    },
    {
     "data": {
      "text/plain": [
       "Predicted  False  True  __all__\n",
       "Actual                         \n",
       "False       7885   100     7985\n",
       "True         383   986     1369\n",
       "__all__     8268  1086     9354"
      ]
     },
     "metadata": {},
     "output_type": "display_data"
    },
    {
     "data": {
      "application/vnd.plotly.v1+json": {
       "config": {
        "linkText": "Export to plot.ly",
        "plotlyServerURL": "https://plot.ly",
        "showLink": true
       },
       "data": [
        {
         "marker": {
          "color": "rgb(158,202,225)",
          "line": {
           "color": "rgb(8,48,107)",
           "width": 1.5
          }
         },
         "opacity": 0.6,
         "orientation": "h",
         "text": [
          0.407,
          0.1246,
          0.1215,
          0.0621,
          0.0562,
          0.0307,
          0.0292,
          0.0216,
          0.0168,
          0.0145,
          0.014,
          0.0128,
          0.0113,
          0.0088,
          0.0058,
          0.0046,
          0.0044,
          0.004,
          0.004,
          0.0038,
          0.0036,
          0.0033,
          0.0026,
          0.0022,
          0.002,
          0.0019,
          0.0018,
          0.0016,
          0.0014,
          0.0014,
          0.0014,
          0.0012,
          0.0012,
          0.0012,
          0.0011,
          0.0011,
          0.001,
          0.001,
          0.0008,
          0.0008,
          0.0007,
          0.0006,
          0.0006,
          0.0006,
          0.0005,
          0.0004,
          0.0004,
          0.0004,
          0.0004,
          0.0004,
          0.0003,
          0.0003,
          0.0003,
          0.0003,
          0.0003,
          0.0002,
          0.0002,
          0.0002,
          0.0002,
          0.0002,
          0.0002,
          0.0002,
          0.0001,
          0.0001,
          0.0001,
          0.0001,
          0.0001,
          0.0001,
          0.0001,
          0.0001,
          0.0001,
          0.0001,
          0.0001,
          0.0001,
          0.0001,
          0.0001,
          0,
          0,
          0,
          0,
          0,
          0,
          0,
          0,
          0,
          0,
          0,
          0,
          0,
          0,
          0,
          0,
          0,
          0,
          0,
          0,
          0,
          0,
          0,
          0,
          0,
          0,
          0,
          0,
          0,
          0,
          0,
          0,
          0,
          0
         ],
         "textposition": "outside",
         "type": "bar",
         "uid": "664347c2-ca5c-4a29-9a97-cf02ff5b4ba0",
         "x": [
          0.4069878387219971,
          0.12460314813172702,
          0.12154837652163021,
          0.062061620306774694,
          0.05620859901308374,
          0.030714775034094262,
          0.029209756013638087,
          0.0215584337444373,
          0.016833409465120193,
          0.014495162436095143,
          0.014011894938490954,
          0.012822013605358477,
          0.011262482270688018,
          0.008788208767932373,
          0.005827310536834403,
          0.004632896697976383,
          0.004367134608676148,
          0.003989971977409593,
          0.0039558061597585355,
          0.003839820491775564,
          0.003625155983063993,
          0.0033064982903840186,
          0.002608693432757481,
          0.0022470202495342984,
          0.0020201179103127445,
          0.0018723205225817186,
          0.0017716308645775408,
          0.0015722274167880204,
          0.001441685233886486,
          0.0014202982064760595,
          0.001368275759547285,
          0.0011860340481325078,
          0.0011772553213977928,
          0.0011515732661582932,
          0.0010934982957152596,
          0.0010715788978025841,
          0.0010387020260933604,
          0.0009983751590382573,
          0.0008351435708675426,
          0.0008148689059713704,
          0.0006914617623777233,
          0.0005902241507671402,
          0.0005711674415466206,
          0.0005592283543966518,
          0.0005030288249655464,
          0.00044603269680957056,
          0.0004424808007582939,
          0.00038977143384130144,
          0.00038022589849473726,
          0.0003694318879181563,
          0.00034376565766477106,
          0.00034223126898444797,
          0.0003414234017448231,
          0.00031540402249680436,
          0.00031284213211472126,
          0.0002475642917806756,
          0.00022411384439725507,
          0.00022369821509332112,
          0.00019692540827420088,
          0.000191688080445685,
          0.00017507230804129784,
          0.00016946868179885564,
          0.0001457773831968239,
          0.00014125035705599,
          0.00013214814201413313,
          0.00012893863222528465,
          0.0001271568182815237,
          0.00012014046929569779,
          0.00011665889821649018,
          0.00011063784486921226,
          0.00010680425953901223,
          0.00010195660286959604,
          8.49752585125719e-05,
          7.546216372487941e-05,
          6.305956871276162e-05,
          6.183395353987632e-05,
          4.982468761546202e-05,
          3.7734875747607124e-05,
          2.8776715285457574e-05,
          0,
          0,
          0,
          0,
          0,
          0,
          0,
          0,
          0,
          0,
          0,
          0,
          0,
          0,
          0,
          0,
          0,
          0,
          0,
          0,
          0,
          0,
          0,
          0,
          0,
          0,
          0,
          0,
          0,
          0,
          0
         ],
         "y": [
          "0",
          "6",
          "1",
          "3",
          "97",
          "2",
          "13",
          "45",
          "40",
          "81",
          "65",
          "4",
          "7",
          "28",
          "16",
          "17",
          "37",
          "5",
          "33",
          "34",
          "20",
          "22",
          "18",
          "85",
          "39",
          "25",
          "77",
          "103",
          "14",
          "59",
          "43",
          "92",
          "73",
          "74",
          "72",
          "71",
          "9",
          "15",
          "12",
          "99",
          "88",
          "31",
          "54",
          "35",
          "23",
          "29",
          "107",
          "76",
          "82",
          "91",
          "41",
          "93",
          "8",
          "100",
          "48",
          "46",
          "30",
          "106",
          "67",
          "51",
          "78",
          "27",
          "69",
          "105",
          "68",
          "90",
          "52",
          "95",
          "21",
          "98",
          "75",
          "26",
          "79",
          "11",
          "36",
          "55",
          "63",
          "50",
          "58",
          "101",
          "96",
          "47",
          "44",
          "42",
          "38",
          "102",
          "94",
          "32",
          "104",
          "24",
          "19",
          "10",
          "108",
          "49",
          "70",
          "66",
          "53",
          "56",
          "57",
          "89",
          "87",
          "86",
          "60",
          "84",
          "83",
          "61",
          "62",
          "80",
          "64",
          "109"
         ]
        }
       ],
       "layout": {
        "autosize": false,
        "height": 1000,
        "width": 1000,
        "xaxis": {
         "tickfont": {
          "color": "black",
          "size": 12
         },
         "title": "Feature Importances"
        },
        "yaxis": {
         "automargin": true
        }
       }
      },
      "text/html": [
       "<div id=\"95d2bd26-4980-406d-acc1-ff3375491883\" style=\"height: 1000px; width: 1000px;\" class=\"plotly-graph-div\"></div><script type=\"text/javascript\">require([\"plotly\"], function(Plotly) { window.PLOTLYENV=window.PLOTLYENV || {};window.PLOTLYENV.BASE_URL=\"https://plot.ly\";Plotly.newPlot(\"95d2bd26-4980-406d-acc1-ff3375491883\", [{\"marker\": {\"color\": \"rgb(158,202,225)\", \"line\": {\"color\": \"rgb(8,48,107)\", \"width\": 1.5}}, \"opacity\": 0.6, \"orientation\": \"h\", \"text\": [0.407, 0.1246, 0.1215, 0.0621, 0.0562, 0.0307, 0.0292, 0.0216, 0.0168, 0.0145, 0.014, 0.0128, 0.0113, 0.0088, 0.0058, 0.0046, 0.0044, 0.004, 0.004, 0.0038, 0.0036, 0.0033, 0.0026, 0.0022, 0.002, 0.0019, 0.0018, 0.0016, 0.0014, 0.0014, 0.0014, 0.0012, 0.0012, 0.0012, 0.0011, 0.0011, 0.001, 0.001, 0.0008, 0.0008, 0.0007, 0.0006, 0.0006, 0.0006, 0.0005, 0.0004, 0.0004, 0.0004, 0.0004, 0.0004, 0.0003, 0.0003, 0.0003, 0.0003, 0.0003, 0.0002, 0.0002, 0.0002, 0.0002, 0.0002, 0.0002, 0.0002, 0.0001, 0.0001, 0.0001, 0.0001, 0.0001, 0.0001, 0.0001, 0.0001, 0.0001, 0.0001, 0.0001, 0.0001, 0.0001, 0.0001, 0.0, 0.0, 0.0, 0.0, 0.0, 0.0, 0.0, 0.0, 0.0, 0.0, 0.0, 0.0, 0.0, 0.0, 0.0, 0.0, 0.0, 0.0, 0.0, 0.0, 0.0, 0.0, 0.0, 0.0, 0.0, 0.0, 0.0, 0.0, 0.0, 0.0, 0.0, 0.0, 0.0, 0.0], \"textposition\": \"outside\", \"x\": [0.4069878387219971, 0.12460314813172702, 0.12154837652163021, 0.062061620306774694, 0.05620859901308374, 0.030714775034094262, 0.029209756013638087, 0.0215584337444373, 0.016833409465120193, 0.014495162436095143, 0.014011894938490954, 0.012822013605358477, 0.011262482270688018, 0.008788208767932373, 0.005827310536834403, 0.004632896697976383, 0.004367134608676148, 0.003989971977409593, 0.0039558061597585355, 0.003839820491775564, 0.003625155983063993, 0.0033064982903840186, 0.002608693432757481, 0.0022470202495342984, 0.0020201179103127445, 0.0018723205225817186, 0.0017716308645775408, 0.0015722274167880204, 0.001441685233886486, 0.0014202982064760595, 0.001368275759547285, 0.0011860340481325078, 0.0011772553213977928, 0.0011515732661582932, 0.0010934982957152596, 0.0010715788978025841, 0.0010387020260933604, 0.0009983751590382573, 0.0008351435708675426, 0.0008148689059713704, 0.0006914617623777233, 0.0005902241507671402, 0.0005711674415466206, 0.0005592283543966518, 0.0005030288249655464, 0.00044603269680957056, 0.0004424808007582939, 0.00038977143384130144, 0.00038022589849473726, 0.0003694318879181563, 0.00034376565766477106, 0.00034223126898444797, 0.0003414234017448231, 0.00031540402249680436, 0.00031284213211472126, 0.0002475642917806756, 0.00022411384439725507, 0.00022369821509332112, 0.00019692540827420088, 0.000191688080445685, 0.00017507230804129784, 0.00016946868179885564, 0.0001457773831968239, 0.00014125035705599, 0.00013214814201413313, 0.00012893863222528465, 0.0001271568182815237, 0.00012014046929569779, 0.00011665889821649018, 0.00011063784486921226, 0.00010680425953901223, 0.00010195660286959604, 8.49752585125719e-05, 7.546216372487941e-05, 6.305956871276162e-05, 6.183395353987632e-05, 4.982468761546202e-05, 3.7734875747607124e-05, 2.8776715285457574e-05, 0.0, 0.0, 0.0, 0.0, 0.0, 0.0, 0.0, 0.0, 0.0, 0.0, 0.0, 0.0, 0.0, 0.0, 0.0, 0.0, 0.0, 0.0, 0.0, 0.0, 0.0, 0.0, 0.0, 0.0, 0.0, 0.0, 0.0, 0.0, 0.0, 0.0, 0.0], \"y\": [\"0\", \"6\", \"1\", \"3\", \"97\", \"2\", \"13\", \"45\", \"40\", \"81\", \"65\", \"4\", \"7\", \"28\", \"16\", \"17\", \"37\", \"5\", \"33\", \"34\", \"20\", \"22\", \"18\", \"85\", \"39\", \"25\", \"77\", \"103\", \"14\", \"59\", \"43\", \"92\", \"73\", \"74\", \"72\", \"71\", \"9\", \"15\", \"12\", \"99\", \"88\", \"31\", \"54\", \"35\", \"23\", \"29\", \"107\", \"76\", \"82\", \"91\", \"41\", \"93\", \"8\", \"100\", \"48\", \"46\", \"30\", \"106\", \"67\", \"51\", \"78\", \"27\", \"69\", \"105\", \"68\", \"90\", \"52\", \"95\", \"21\", \"98\", \"75\", \"26\", \"79\", \"11\", \"36\", \"55\", \"63\", \"50\", \"58\", \"101\", \"96\", \"47\", \"44\", \"42\", \"38\", \"102\", \"94\", \"32\", \"104\", \"24\", \"19\", \"10\", \"108\", \"49\", \"70\", \"66\", \"53\", \"56\", \"57\", \"89\", \"87\", \"86\", \"60\", \"84\", \"83\", \"61\", \"62\", \"80\", \"64\", \"109\"], \"type\": \"bar\", \"uid\": \"664347c2-ca5c-4a29-9a97-cf02ff5b4ba0\"}], {\"autosize\": false, \"height\": 1000, \"width\": 1000, \"xaxis\": {\"tickfont\": {\"color\": \"black\", \"size\": 12}, \"title\": \"Feature Importances\"}, \"yaxis\": {\"automargin\": true}}, {\"showLink\": true, \"linkText\": \"Export to plot.ly\", \"plotlyServerURL\": \"https://plot.ly\"})});</script>"
      ],
      "text/vnd.plotly.v1+html": [
       "<div id=\"95d2bd26-4980-406d-acc1-ff3375491883\" style=\"height: 1000px; width: 1000px;\" class=\"plotly-graph-div\"></div><script type=\"text/javascript\">require([\"plotly\"], function(Plotly) { window.PLOTLYENV=window.PLOTLYENV || {};window.PLOTLYENV.BASE_URL=\"https://plot.ly\";Plotly.newPlot(\"95d2bd26-4980-406d-acc1-ff3375491883\", [{\"marker\": {\"color\": \"rgb(158,202,225)\", \"line\": {\"color\": \"rgb(8,48,107)\", \"width\": 1.5}}, \"opacity\": 0.6, \"orientation\": \"h\", \"text\": [0.407, 0.1246, 0.1215, 0.0621, 0.0562, 0.0307, 0.0292, 0.0216, 0.0168, 0.0145, 0.014, 0.0128, 0.0113, 0.0088, 0.0058, 0.0046, 0.0044, 0.004, 0.004, 0.0038, 0.0036, 0.0033, 0.0026, 0.0022, 0.002, 0.0019, 0.0018, 0.0016, 0.0014, 0.0014, 0.0014, 0.0012, 0.0012, 0.0012, 0.0011, 0.0011, 0.001, 0.001, 0.0008, 0.0008, 0.0007, 0.0006, 0.0006, 0.0006, 0.0005, 0.0004, 0.0004, 0.0004, 0.0004, 0.0004, 0.0003, 0.0003, 0.0003, 0.0003, 0.0003, 0.0002, 0.0002, 0.0002, 0.0002, 0.0002, 0.0002, 0.0002, 0.0001, 0.0001, 0.0001, 0.0001, 0.0001, 0.0001, 0.0001, 0.0001, 0.0001, 0.0001, 0.0001, 0.0001, 0.0001, 0.0001, 0.0, 0.0, 0.0, 0.0, 0.0, 0.0, 0.0, 0.0, 0.0, 0.0, 0.0, 0.0, 0.0, 0.0, 0.0, 0.0, 0.0, 0.0, 0.0, 0.0, 0.0, 0.0, 0.0, 0.0, 0.0, 0.0, 0.0, 0.0, 0.0, 0.0, 0.0, 0.0, 0.0, 0.0], \"textposition\": \"outside\", \"x\": [0.4069878387219971, 0.12460314813172702, 0.12154837652163021, 0.062061620306774694, 0.05620859901308374, 0.030714775034094262, 0.029209756013638087, 0.0215584337444373, 0.016833409465120193, 0.014495162436095143, 0.014011894938490954, 0.012822013605358477, 0.011262482270688018, 0.008788208767932373, 0.005827310536834403, 0.004632896697976383, 0.004367134608676148, 0.003989971977409593, 0.0039558061597585355, 0.003839820491775564, 0.003625155983063993, 0.0033064982903840186, 0.002608693432757481, 0.0022470202495342984, 0.0020201179103127445, 0.0018723205225817186, 0.0017716308645775408, 0.0015722274167880204, 0.001441685233886486, 0.0014202982064760595, 0.001368275759547285, 0.0011860340481325078, 0.0011772553213977928, 0.0011515732661582932, 0.0010934982957152596, 0.0010715788978025841, 0.0010387020260933604, 0.0009983751590382573, 0.0008351435708675426, 0.0008148689059713704, 0.0006914617623777233, 0.0005902241507671402, 0.0005711674415466206, 0.0005592283543966518, 0.0005030288249655464, 0.00044603269680957056, 0.0004424808007582939, 0.00038977143384130144, 0.00038022589849473726, 0.0003694318879181563, 0.00034376565766477106, 0.00034223126898444797, 0.0003414234017448231, 0.00031540402249680436, 0.00031284213211472126, 0.0002475642917806756, 0.00022411384439725507, 0.00022369821509332112, 0.00019692540827420088, 0.000191688080445685, 0.00017507230804129784, 0.00016946868179885564, 0.0001457773831968239, 0.00014125035705599, 0.00013214814201413313, 0.00012893863222528465, 0.0001271568182815237, 0.00012014046929569779, 0.00011665889821649018, 0.00011063784486921226, 0.00010680425953901223, 0.00010195660286959604, 8.49752585125719e-05, 7.546216372487941e-05, 6.305956871276162e-05, 6.183395353987632e-05, 4.982468761546202e-05, 3.7734875747607124e-05, 2.8776715285457574e-05, 0.0, 0.0, 0.0, 0.0, 0.0, 0.0, 0.0, 0.0, 0.0, 0.0, 0.0, 0.0, 0.0, 0.0, 0.0, 0.0, 0.0, 0.0, 0.0, 0.0, 0.0, 0.0, 0.0, 0.0, 0.0, 0.0, 0.0, 0.0, 0.0, 0.0, 0.0], \"y\": [\"0\", \"6\", \"1\", \"3\", \"97\", \"2\", \"13\", \"45\", \"40\", \"81\", \"65\", \"4\", \"7\", \"28\", \"16\", \"17\", \"37\", \"5\", \"33\", \"34\", \"20\", \"22\", \"18\", \"85\", \"39\", \"25\", \"77\", \"103\", \"14\", \"59\", \"43\", \"92\", \"73\", \"74\", \"72\", \"71\", \"9\", \"15\", \"12\", \"99\", \"88\", \"31\", \"54\", \"35\", \"23\", \"29\", \"107\", \"76\", \"82\", \"91\", \"41\", \"93\", \"8\", \"100\", \"48\", \"46\", \"30\", \"106\", \"67\", \"51\", \"78\", \"27\", \"69\", \"105\", \"68\", \"90\", \"52\", \"95\", \"21\", \"98\", \"75\", \"26\", \"79\", \"11\", \"36\", \"55\", \"63\", \"50\", \"58\", \"101\", \"96\", \"47\", \"44\", \"42\", \"38\", \"102\", \"94\", \"32\", \"104\", \"24\", \"19\", \"10\", \"108\", \"49\", \"70\", \"66\", \"53\", \"56\", \"57\", \"89\", \"87\", \"86\", \"60\", \"84\", \"83\", \"61\", \"62\", \"80\", \"64\", \"109\"], \"type\": \"bar\", \"uid\": \"664347c2-ca5c-4a29-9a97-cf02ff5b4ba0\"}], {\"autosize\": false, \"height\": 1000, \"width\": 1000, \"xaxis\": {\"tickfont\": {\"color\": \"black\", \"size\": 12}, \"title\": \"Feature Importances\"}, \"yaxis\": {\"automargin\": true}}, {\"showLink\": true, \"linkText\": \"Export to plot.ly\", \"plotlyServerURL\": \"https://plot.ly\"})});</script>"
      ]
     },
     "metadata": {},
     "output_type": "display_data"
    },
    {
     "name": "stdout",
     "output_type": "stream",
     "text": [
      "\n",
      "\n",
      "\u001b[1mExtraTree Classifier\u001b[0m\n",
      "Accuracy of the model for training data is: 0.99997327418\n",
      "Confusion Matrix for training data is:\n"
     ]
    },
    {
     "data": {
      "text/plain": [
       "Predicted  False  True  __all__\n",
       "Actual                         \n",
       "False      31892     0    31892\n",
       "True           1  5524     5525\n",
       "__all__    31893  5524    37417"
      ]
     },
     "metadata": {},
     "output_type": "display_data"
    },
    {
     "name": "stdout",
     "output_type": "stream",
     "text": [
      "Accuracy of the model for test data is: 0.935749412016\n",
      "Confusion Matrix for test data is:\n"
     ]
    },
    {
     "data": {
      "text/plain": [
       "Predicted  False  True  __all__\n",
       "Actual                         \n",
       "False       7921    64     7985\n",
       "True         537   832     1369\n",
       "__all__     8458   896     9354"
      ]
     },
     "metadata": {},
     "output_type": "display_data"
    },
    {
     "data": {
      "application/vnd.plotly.v1+json": {
       "config": {
        "linkText": "Export to plot.ly",
        "plotlyServerURL": "https://plot.ly",
        "showLink": true
       },
       "data": [
        {
         "marker": {
          "color": "rgb(158,202,225)",
          "line": {
           "color": "rgb(8,48,107)",
           "width": 1.5
          }
         },
         "opacity": 0.6,
         "orientation": "h",
         "text": [
          0.0397,
          0.0338,
          0.0255,
          0.0236,
          0.019,
          0.0171,
          0.017,
          0.0163,
          0.0163,
          0.0163,
          0.0144,
          0.0142,
          0.0138,
          0.0137,
          0.0133,
          0.0129,
          0.0126,
          0.0124,
          0.012,
          0.012,
          0.012,
          0.0117,
          0.0115,
          0.0113,
          0.0108,
          0.0106,
          0.0104,
          0.01,
          0.0097,
          0.0097,
          0.0096,
          0.0092,
          0.0092,
          0.009,
          0.0089,
          0.0089,
          0.0089,
          0.0088,
          0.0087,
          0.0086,
          0.0085,
          0.0083,
          0.0083,
          0.0083,
          0.0083,
          0.0083,
          0.0082,
          0.0081,
          0.008,
          0.0079,
          0.0079,
          0.0079,
          0.0078,
          0.0075,
          0.0075,
          0.0073,
          0.0073,
          0.0072,
          0.0071,
          0.0071,
          0.0069,
          0.0068,
          0.0068,
          0.0067,
          0.0067,
          0.0065,
          0.0065,
          0.0065,
          0.0065,
          0.0063,
          0.0063,
          0.0063,
          0.0063,
          0.0063,
          0.0062,
          0.0062,
          0.0062,
          0.0062,
          0.0062,
          0.0061,
          0.0061,
          0.006,
          0.006,
          0.006,
          0.006,
          0.006,
          0.0059,
          0.0058,
          0.0058,
          0.0057,
          0.0057,
          0.0056,
          0.0055,
          0.0054,
          0.0053,
          0.0053,
          0.0053,
          0.0052,
          0.0051,
          0.0051,
          0.0051,
          0.005,
          0.005,
          0.0049,
          0.0049,
          0.0048,
          0.0048,
          0.0048,
          0.0046,
          0.0043
         ],
         "textposition": "outside",
         "type": "bar",
         "uid": "19eea496-9d6a-4830-a18b-792448379072",
         "x": [
          0.03972571505772993,
          0.03381096569529728,
          0.025526835288041193,
          0.023647022709576544,
          0.01898881741953908,
          0.01708926532375927,
          0.016997585921409042,
          0.016342361332002703,
          0.016308583099276002,
          0.016274932876841793,
          0.014388612826535113,
          0.014216608134306594,
          0.013824046171831594,
          0.01373532888181253,
          0.01333836397102904,
          0.01291849699695275,
          0.01263438408684078,
          0.01239898903717905,
          0.012031000876058035,
          0.011980530624605187,
          0.011955718219912126,
          0.011746850817184133,
          0.011480266381882443,
          0.01130088091209093,
          0.010785374417877849,
          0.010574512858956081,
          0.010430820238942783,
          0.010000470151455967,
          0.00972850785755133,
          0.009701247048735097,
          0.009575949398359733,
          0.009227010028077938,
          0.009172360440211162,
          0.008982907380883743,
          0.008934261038331523,
          0.008913365795392968,
          0.008873118532988908,
          0.00880876297913237,
          0.008690643618208446,
          0.00857744893271944,
          0.008544366784330092,
          0.008347457675202534,
          0.008330128201536845,
          0.008288643832031869,
          0.00826015715167949,
          0.008258689946394018,
          0.008197259799700877,
          0.008077437530806033,
          0.007992804922137758,
          0.007941791907058533,
          0.007905597529151922,
          0.00788920242682464,
          0.007751620332530571,
          0.007546489006901904,
          0.007495933728639427,
          0.007343292050413288,
          0.00726217436813636,
          0.007189600923570715,
          0.007075310201251383,
          0.007053992669285668,
          0.006860704877368781,
          0.006797763523765793,
          0.00677081940428174,
          0.006712431551964743,
          0.0067114024705296395,
          0.006534112902045036,
          0.006496950324633452,
          0.00648102739399351,
          0.006480297346936689,
          0.006297973264896556,
          0.006287596174303224,
          0.006283094599687168,
          0.0062632583944074215,
          0.006255476228403017,
          0.006238266938909355,
          0.006225595893826045,
          0.006175955804223457,
          0.006175699062691372,
          0.006172931603102677,
          0.006138389506264881,
          0.00611638834143049,
          0.006040751444327732,
          0.006034967743432136,
          0.006001648823688255,
          0.0059795167686346965,
          0.005973604587652706,
          0.005904513827092374,
          0.005825498870924791,
          0.0058139578732829865,
          0.005716592090376818,
          0.005665986117791391,
          0.005596680984690451,
          0.005485586659369513,
          0.005436823176385304,
          0.005346675965036905,
          0.005336585419179333,
          0.005328543224134707,
          0.005232527444580099,
          0.005129004912775394,
          0.005097662030045379,
          0.005066397522551293,
          0.0050255497297255185,
          0.004958624457212182,
          0.00493699374900336,
          0.004906327817992904,
          0.00483439898263195,
          0.004823885204895807,
          0.004771188115150586,
          0.0045771098828502835,
          0.00428538659981768
         ],
         "y": [
          "0",
          "1",
          "6",
          "4",
          "3",
          "74",
          "65",
          "63",
          "81",
          "7",
          "13",
          "97",
          "40",
          "72",
          "45",
          "64",
          "59",
          "8",
          "35",
          "44",
          "71",
          "34",
          "41",
          "20",
          "77",
          "39",
          "42",
          "79",
          "75",
          "5",
          "62",
          "12",
          "28",
          "66",
          "43",
          "14",
          "2",
          "33",
          "52",
          "82",
          "73",
          "90",
          "49",
          "58",
          "70",
          "60",
          "9",
          "76",
          "67",
          "83",
          "78",
          "51",
          "15",
          "93",
          "84",
          "61",
          "80",
          "69",
          "85",
          "107",
          "17",
          "21",
          "47",
          "57",
          "46",
          "92",
          "56",
          "109",
          "100",
          "50",
          "26",
          "10",
          "48",
          "108",
          "16",
          "19",
          "103",
          "18",
          "68",
          "29",
          "53",
          "87",
          "54",
          "36",
          "55",
          "38",
          "27",
          "86",
          "30",
          "105",
          "96",
          "11",
          "94",
          "22",
          "91",
          "98",
          "32",
          "31",
          "104",
          "23",
          "99",
          "89",
          "37",
          "25",
          "88",
          "24",
          "95",
          "101",
          "106",
          "102"
         ]
        }
       ],
       "layout": {
        "autosize": false,
        "height": 1000,
        "width": 1000,
        "xaxis": {
         "tickfont": {
          "color": "black",
          "size": 12
         },
         "title": "Feature Importances"
        },
        "yaxis": {
         "automargin": true
        }
       }
      },
      "text/html": [
       "<div id=\"afafc66f-b753-4e42-9884-f5d19799484a\" style=\"height: 1000px; width: 1000px;\" class=\"plotly-graph-div\"></div><script type=\"text/javascript\">require([\"plotly\"], function(Plotly) { window.PLOTLYENV=window.PLOTLYENV || {};window.PLOTLYENV.BASE_URL=\"https://plot.ly\";Plotly.newPlot(\"afafc66f-b753-4e42-9884-f5d19799484a\", [{\"marker\": {\"color\": \"rgb(158,202,225)\", \"line\": {\"color\": \"rgb(8,48,107)\", \"width\": 1.5}}, \"opacity\": 0.6, \"orientation\": \"h\", \"text\": [0.0397, 0.0338, 0.0255, 0.0236, 0.019, 0.0171, 0.017, 0.0163, 0.0163, 0.0163, 0.0144, 0.0142, 0.0138, 0.0137, 0.0133, 0.0129, 0.0126, 0.0124, 0.012, 0.012, 0.012, 0.0117, 0.0115, 0.0113, 0.0108, 0.0106, 0.0104, 0.01, 0.0097, 0.0097, 0.0096, 0.0092, 0.0092, 0.009, 0.0089, 0.0089, 0.0089, 0.0088, 0.0087, 0.0086, 0.0085, 0.0083, 0.0083, 0.0083, 0.0083, 0.0083, 0.0082, 0.0081, 0.008, 0.0079, 0.0079, 0.0079, 0.0078, 0.0075, 0.0075, 0.0073, 0.0073, 0.0072, 0.0071, 0.0071, 0.0069, 0.0068, 0.0068, 0.0067, 0.0067, 0.0065, 0.0065, 0.0065, 0.0065, 0.0063, 0.0063, 0.0063, 0.0063, 0.0063, 0.0062, 0.0062, 0.0062, 0.0062, 0.0062, 0.0061, 0.0061, 0.006, 0.006, 0.006, 0.006, 0.006, 0.0059, 0.0058, 0.0058, 0.0057, 0.0057, 0.0056, 0.0055, 0.0054, 0.0053, 0.0053, 0.0053, 0.0052, 0.0051, 0.0051, 0.0051, 0.005, 0.005, 0.0049, 0.0049, 0.0048, 0.0048, 0.0048, 0.0046, 0.0043], \"textposition\": \"outside\", \"x\": [0.03972571505772993, 0.03381096569529728, 0.025526835288041193, 0.023647022709576544, 0.01898881741953908, 0.01708926532375927, 0.016997585921409042, 0.016342361332002703, 0.016308583099276002, 0.016274932876841793, 0.014388612826535113, 0.014216608134306594, 0.013824046171831594, 0.01373532888181253, 0.01333836397102904, 0.01291849699695275, 0.01263438408684078, 0.01239898903717905, 0.012031000876058035, 0.011980530624605187, 0.011955718219912126, 0.011746850817184133, 0.011480266381882443, 0.01130088091209093, 0.010785374417877849, 0.010574512858956081, 0.010430820238942783, 0.010000470151455967, 0.00972850785755133, 0.009701247048735097, 0.009575949398359733, 0.009227010028077938, 0.009172360440211162, 0.008982907380883743, 0.008934261038331523, 0.008913365795392968, 0.008873118532988908, 0.00880876297913237, 0.008690643618208446, 0.00857744893271944, 0.008544366784330092, 0.008347457675202534, 0.008330128201536845, 0.008288643832031869, 0.00826015715167949, 0.008258689946394018, 0.008197259799700877, 0.008077437530806033, 0.007992804922137758, 0.007941791907058533, 0.007905597529151922, 0.00788920242682464, 0.007751620332530571, 0.007546489006901904, 0.007495933728639427, 0.007343292050413288, 0.00726217436813636, 0.007189600923570715, 0.007075310201251383, 0.007053992669285668, 0.006860704877368781, 0.006797763523765793, 0.00677081940428174, 0.006712431551964743, 0.0067114024705296395, 0.006534112902045036, 0.006496950324633452, 0.00648102739399351, 0.006480297346936689, 0.006297973264896556, 0.006287596174303224, 0.006283094599687168, 0.0062632583944074215, 0.006255476228403017, 0.006238266938909355, 0.006225595893826045, 0.006175955804223457, 0.006175699062691372, 0.006172931603102677, 0.006138389506264881, 0.00611638834143049, 0.006040751444327732, 0.006034967743432136, 0.006001648823688255, 0.0059795167686346965, 0.005973604587652706, 0.005904513827092374, 0.005825498870924791, 0.0058139578732829865, 0.005716592090376818, 0.005665986117791391, 0.005596680984690451, 0.005485586659369513, 0.005436823176385304, 0.005346675965036905, 0.005336585419179333, 0.005328543224134707, 0.005232527444580099, 0.005129004912775394, 0.005097662030045379, 0.005066397522551293, 0.0050255497297255185, 0.004958624457212182, 0.00493699374900336, 0.004906327817992904, 0.00483439898263195, 0.004823885204895807, 0.004771188115150586, 0.0045771098828502835, 0.00428538659981768], \"y\": [\"0\", \"1\", \"6\", \"4\", \"3\", \"74\", \"65\", \"63\", \"81\", \"7\", \"13\", \"97\", \"40\", \"72\", \"45\", \"64\", \"59\", \"8\", \"35\", \"44\", \"71\", \"34\", \"41\", \"20\", \"77\", \"39\", \"42\", \"79\", \"75\", \"5\", \"62\", \"12\", \"28\", \"66\", \"43\", \"14\", \"2\", \"33\", \"52\", \"82\", \"73\", \"90\", \"49\", \"58\", \"70\", \"60\", \"9\", \"76\", \"67\", \"83\", \"78\", \"51\", \"15\", \"93\", \"84\", \"61\", \"80\", \"69\", \"85\", \"107\", \"17\", \"21\", \"47\", \"57\", \"46\", \"92\", \"56\", \"109\", \"100\", \"50\", \"26\", \"10\", \"48\", \"108\", \"16\", \"19\", \"103\", \"18\", \"68\", \"29\", \"53\", \"87\", \"54\", \"36\", \"55\", \"38\", \"27\", \"86\", \"30\", \"105\", \"96\", \"11\", \"94\", \"22\", \"91\", \"98\", \"32\", \"31\", \"104\", \"23\", \"99\", \"89\", \"37\", \"25\", \"88\", \"24\", \"95\", \"101\", \"106\", \"102\"], \"type\": \"bar\", \"uid\": \"19eea496-9d6a-4830-a18b-792448379072\"}], {\"autosize\": false, \"height\": 1000, \"width\": 1000, \"xaxis\": {\"tickfont\": {\"color\": \"black\", \"size\": 12}, \"title\": \"Feature Importances\"}, \"yaxis\": {\"automargin\": true}}, {\"showLink\": true, \"linkText\": \"Export to plot.ly\", \"plotlyServerURL\": \"https://plot.ly\"})});</script>"
      ],
      "text/vnd.plotly.v1+html": [
       "<div id=\"afafc66f-b753-4e42-9884-f5d19799484a\" style=\"height: 1000px; width: 1000px;\" class=\"plotly-graph-div\"></div><script type=\"text/javascript\">require([\"plotly\"], function(Plotly) { window.PLOTLYENV=window.PLOTLYENV || {};window.PLOTLYENV.BASE_URL=\"https://plot.ly\";Plotly.newPlot(\"afafc66f-b753-4e42-9884-f5d19799484a\", [{\"marker\": {\"color\": \"rgb(158,202,225)\", \"line\": {\"color\": \"rgb(8,48,107)\", \"width\": 1.5}}, \"opacity\": 0.6, \"orientation\": \"h\", \"text\": [0.0397, 0.0338, 0.0255, 0.0236, 0.019, 0.0171, 0.017, 0.0163, 0.0163, 0.0163, 0.0144, 0.0142, 0.0138, 0.0137, 0.0133, 0.0129, 0.0126, 0.0124, 0.012, 0.012, 0.012, 0.0117, 0.0115, 0.0113, 0.0108, 0.0106, 0.0104, 0.01, 0.0097, 0.0097, 0.0096, 0.0092, 0.0092, 0.009, 0.0089, 0.0089, 0.0089, 0.0088, 0.0087, 0.0086, 0.0085, 0.0083, 0.0083, 0.0083, 0.0083, 0.0083, 0.0082, 0.0081, 0.008, 0.0079, 0.0079, 0.0079, 0.0078, 0.0075, 0.0075, 0.0073, 0.0073, 0.0072, 0.0071, 0.0071, 0.0069, 0.0068, 0.0068, 0.0067, 0.0067, 0.0065, 0.0065, 0.0065, 0.0065, 0.0063, 0.0063, 0.0063, 0.0063, 0.0063, 0.0062, 0.0062, 0.0062, 0.0062, 0.0062, 0.0061, 0.0061, 0.006, 0.006, 0.006, 0.006, 0.006, 0.0059, 0.0058, 0.0058, 0.0057, 0.0057, 0.0056, 0.0055, 0.0054, 0.0053, 0.0053, 0.0053, 0.0052, 0.0051, 0.0051, 0.0051, 0.005, 0.005, 0.0049, 0.0049, 0.0048, 0.0048, 0.0048, 0.0046, 0.0043], \"textposition\": \"outside\", \"x\": [0.03972571505772993, 0.03381096569529728, 0.025526835288041193, 0.023647022709576544, 0.01898881741953908, 0.01708926532375927, 0.016997585921409042, 0.016342361332002703, 0.016308583099276002, 0.016274932876841793, 0.014388612826535113, 0.014216608134306594, 0.013824046171831594, 0.01373532888181253, 0.01333836397102904, 0.01291849699695275, 0.01263438408684078, 0.01239898903717905, 0.012031000876058035, 0.011980530624605187, 0.011955718219912126, 0.011746850817184133, 0.011480266381882443, 0.01130088091209093, 0.010785374417877849, 0.010574512858956081, 0.010430820238942783, 0.010000470151455967, 0.00972850785755133, 0.009701247048735097, 0.009575949398359733, 0.009227010028077938, 0.009172360440211162, 0.008982907380883743, 0.008934261038331523, 0.008913365795392968, 0.008873118532988908, 0.00880876297913237, 0.008690643618208446, 0.00857744893271944, 0.008544366784330092, 0.008347457675202534, 0.008330128201536845, 0.008288643832031869, 0.00826015715167949, 0.008258689946394018, 0.008197259799700877, 0.008077437530806033, 0.007992804922137758, 0.007941791907058533, 0.007905597529151922, 0.00788920242682464, 0.007751620332530571, 0.007546489006901904, 0.007495933728639427, 0.007343292050413288, 0.00726217436813636, 0.007189600923570715, 0.007075310201251383, 0.007053992669285668, 0.006860704877368781, 0.006797763523765793, 0.00677081940428174, 0.006712431551964743, 0.0067114024705296395, 0.006534112902045036, 0.006496950324633452, 0.00648102739399351, 0.006480297346936689, 0.006297973264896556, 0.006287596174303224, 0.006283094599687168, 0.0062632583944074215, 0.006255476228403017, 0.006238266938909355, 0.006225595893826045, 0.006175955804223457, 0.006175699062691372, 0.006172931603102677, 0.006138389506264881, 0.00611638834143049, 0.006040751444327732, 0.006034967743432136, 0.006001648823688255, 0.0059795167686346965, 0.005973604587652706, 0.005904513827092374, 0.005825498870924791, 0.0058139578732829865, 0.005716592090376818, 0.005665986117791391, 0.005596680984690451, 0.005485586659369513, 0.005436823176385304, 0.005346675965036905, 0.005336585419179333, 0.005328543224134707, 0.005232527444580099, 0.005129004912775394, 0.005097662030045379, 0.005066397522551293, 0.0050255497297255185, 0.004958624457212182, 0.00493699374900336, 0.004906327817992904, 0.00483439898263195, 0.004823885204895807, 0.004771188115150586, 0.0045771098828502835, 0.00428538659981768], \"y\": [\"0\", \"1\", \"6\", \"4\", \"3\", \"74\", \"65\", \"63\", \"81\", \"7\", \"13\", \"97\", \"40\", \"72\", \"45\", \"64\", \"59\", \"8\", \"35\", \"44\", \"71\", \"34\", \"41\", \"20\", \"77\", \"39\", \"42\", \"79\", \"75\", \"5\", \"62\", \"12\", \"28\", \"66\", \"43\", \"14\", \"2\", \"33\", \"52\", \"82\", \"73\", \"90\", \"49\", \"58\", \"70\", \"60\", \"9\", \"76\", \"67\", \"83\", \"78\", \"51\", \"15\", \"93\", \"84\", \"61\", \"80\", \"69\", \"85\", \"107\", \"17\", \"21\", \"47\", \"57\", \"46\", \"92\", \"56\", \"109\", \"100\", \"50\", \"26\", \"10\", \"48\", \"108\", \"16\", \"19\", \"103\", \"18\", \"68\", \"29\", \"53\", \"87\", \"54\", \"36\", \"55\", \"38\", \"27\", \"86\", \"30\", \"105\", \"96\", \"11\", \"94\", \"22\", \"91\", \"98\", \"32\", \"31\", \"104\", \"23\", \"99\", \"89\", \"37\", \"25\", \"88\", \"24\", \"95\", \"101\", \"106\", \"102\"], \"type\": \"bar\", \"uid\": \"19eea496-9d6a-4830-a18b-792448379072\"}], {\"autosize\": false, \"height\": 1000, \"width\": 1000, \"xaxis\": {\"tickfont\": {\"color\": \"black\", \"size\": 12}, \"title\": \"Feature Importances\"}, \"yaxis\": {\"automargin\": true}}, {\"showLink\": true, \"linkText\": \"Export to plot.ly\", \"plotlyServerURL\": \"https://plot.ly\"})});</script>"
      ]
     },
     "metadata": {},
     "output_type": "display_data"
    },
    {
     "name": "stdout",
     "output_type": "stream",
     "text": [
      "\n",
      "\n",
      "\u001b[1mBagging Classifier\u001b[0m\n",
      "Accuracy of the model for training data is: 0.993452174145\n",
      "Confusion Matrix for training data is:\n"
     ]
    },
    {
     "data": {
      "text/plain": [
       "Predicted  False  True  __all__\n",
       "Actual                         \n",
       "False      31885     7    31892\n",
       "True         238  5287     5525\n",
       "__all__    32123  5294    37417"
      ]
     },
     "metadata": {},
     "output_type": "display_data"
    },
    {
     "name": "stdout",
     "output_type": "stream",
     "text": [
      "Accuracy of the model for test data is: 0.946333119521\n",
      "Confusion Matrix for test data is:\n"
     ]
    },
    {
     "data": {
      "text/plain": [
       "Predicted  False  True  __all__\n",
       "Actual                         \n",
       "False       7883   102     7985\n",
       "True         400   969     1369\n",
       "__all__     8283  1071     9354"
      ]
     },
     "metadata": {},
     "output_type": "display_data"
    },
    {
     "name": "stdout",
     "output_type": "stream",
     "text": [
      "\n",
      "\n",
      "\u001b[1mNeural Network-1\u001b[0m\n",
      "The accuracy of the model on training data is: 0.997594676217\n"
     ]
    },
    {
     "data": {
      "text/plain": [
       "Predicted  False  True  __all__\n",
       "Actual                         \n",
       "False      31857    35    31892\n",
       "True          55  5470     5525\n",
       "__all__    31912  5505    37417"
      ]
     },
     "metadata": {},
     "output_type": "display_data"
    },
    {
     "name": "stdout",
     "output_type": "stream",
     "text": [
      "The accuracy of the model on test data is: 0.953068206115\n"
     ]
    },
    {
     "data": {
      "text/plain": [
       "Predicted  False  True  __all__\n",
       "Actual                         \n",
       "False       7790   195     7985\n",
       "True         244  1125     1369\n",
       "__all__     8034  1320     9354"
      ]
     },
     "metadata": {},
     "output_type": "display_data"
    },
    {
     "name": "stdout",
     "output_type": "stream",
     "text": [
      "\n",
      "\n"
     ]
    }
   ],
   "source": [
    "feat_imp=[None]*4\n",
    "j=0\n",
    "for i in range(0,8):\n",
    "    if i>=2 and i<=5:\n",
    "        model,cm_train,cm_test,acc_train,acc_test,roc_auc,feat_imp[j],mcc=f[i](X_train,Y_train,X_test,Y_test,np.arange(0,110).astype(str))\n",
    "        j=j+1\n",
    "    else:\n",
    "        model,cm_train,cm_test,acc_train,acc_test,roc_auc,mcc=f[i](X_train,Y_train,X_test,Y_test)\n",
    "    table_80_70_train.loc[i]=   ([acc_train,cm_train.TP,cm_train.TN,cm_train.FP,cm_train.FN,cm_train.FPR,cm_train.FNR])\n",
    "    table_80_70_test.loc[i] =   ([acc_test ,cm_test.TP, cm_test.TN, cm_test.FP, cm_test.FN, cm_test.FPR, cm_test.FNR,roc_auc,mcc])\n",
    "    print(\"\\n\")"
   ]
  },
  {
   "cell_type": "markdown",
   "metadata": {},
   "source": [
    "### <a id='5.A' style=\"text-decoration : none; color : #000000;\"> A. Results</a>"
   ]
  },
  {
   "cell_type": "code",
   "execution_count": 54,
   "metadata": {},
   "outputs": [
    {
     "data": {
      "application/vnd.plotly.v1+json": {
       "config": {
        "linkText": "Export to plot.ly",
        "plotlyServerURL": "https://plot.ly",
        "showLink": true
       },
       "data": [
        {
         "mode": "lines",
         "name": "KNN_model",
         "type": "scatter",
         "uid": "59ce26eb-7ffe-47df-8a8a-8ec5f86a9237",
         "x": [
          "accuracy",
          "FPR",
          "FNR",
          "auc"
         ],
         "y": [
          0.938208253153731,
          0.002379461490294302,
          0.408327246165084,
          0.7946466461723108
         ]
        },
        {
         "mode": "lines+markers",
         "name": "Logistic Regression",
         "type": "scatter",
         "uid": "1394f375-6f11-4e26-aa1c-bd7b9a1a39f3",
         "x": [
          "accuracy",
          "FPR",
          "FNR",
          "auc"
         ],
         "y": [
          0.9514646140688475,
          0.015403882279273638,
          0.24178232286340395,
          0.8714068974286613
         ]
        },
        {
         "marker": {
          "symbol": "x"
         },
         "mode": "lines+markers",
         "name": "Random Forest",
         "type": "scatter",
         "uid": "4c5d4aa9-b5b7-411c-a868-ff8ac93ec787",
         "x": [
          "accuracy",
          "FPR",
          "FNR",
          "auc"
         ],
         "y": [
          0.9431259354286936,
          0.010394489668127739,
          0.3279766252739226,
          0.830814442528975
         ]
        },
        {
         "mode": "lines",
         "name": "Ada Boost",
         "type": "scatter",
         "uid": "5dc20976-3f0d-4b31-bd3e-bb4c423b2f4e",
         "x": [
          "accuracy",
          "FPR",
          "FNR",
          "auc"
         ],
         "y": [
          0.9345734445157152,
          0.022417031934877898,
          0.3162892622352082,
          0.8306468529149571
         ]
        },
        {
         "mode": "lines+markers",
         "name": "GradientBoosting",
         "type": "scatter",
         "uid": "4020e809-e720-4097-85cb-4b56afd6af22",
         "x": [
          "accuracy",
          "FPR",
          "FNR",
          "auc"
         ],
         "y": [
          0.9483643361128928,
          0.012523481527864746,
          0.27976625273922573,
          0.8538551328664548
         ]
        },
        {
         "marker": {
          "symbol": "x"
         },
         "mode": "lines+markers",
         "name": "ExtraTree Classifier",
         "type": "scatter",
         "uid": "60bb7d2d-521d-436d-8588-75d6702c20f7",
         "x": [
          "accuracy",
          "FPR",
          "FNR",
          "auc"
         ],
         "y": [
          0.9357494120162497,
          0.008015028177833438,
          0.3922571219868517,
          0.7998639249176575
         ]
        },
        {
         "marker": {
          "symbol": "x"
         },
         "mode": "lines+markers",
         "name": "Bagging",
         "type": "scatter",
         "uid": "9a696daf-41db-4ae4-b8e0-bd3a7a25fd23",
         "x": [
          "accuracy",
          "FPR",
          "FNR",
          "auc"
         ],
         "y": [
          0.9463331195210605,
          0.012773951158422042,
          0.2921840759678597,
          0.847520986436859
         ]
        },
        {
         "marker": {
          "symbol": "x"
         },
         "mode": "lines+markers",
         "name": "Neural Network",
         "type": "scatter",
         "uid": "fd006e4a-2bb5-490d-a459-332ecf0ad8da",
         "x": [
          "accuracy",
          "FPR",
          "FNR",
          "auc"
         ],
         "y": [
          0.953068206115031,
          0.024420788979336257,
          0.17823228634039445,
          0.847520986436859
         ]
        }
       ],
       "layout": {
        "title": "Result comparision for Features selected in Section 1",
        "yaxis": {
         "dtick": 0.05,
         "tick0": 0
        }
       }
      },
      "text/html": [
       "<div id=\"546c4cfe-3e13-4e56-a101-4cbd648d765b\" style=\"height: 525px; width: 100%;\" class=\"plotly-graph-div\"></div><script type=\"text/javascript\">require([\"plotly\"], function(Plotly) { window.PLOTLYENV=window.PLOTLYENV || {};window.PLOTLYENV.BASE_URL=\"https://plot.ly\";Plotly.newPlot(\"546c4cfe-3e13-4e56-a101-4cbd648d765b\", [{\"mode\": \"lines\", \"name\": \"KNN_model\", \"x\": [\"accuracy\", \"FPR\", \"FNR\", \"auc\"], \"y\": [0.938208253153731, 0.002379461490294302, 0.408327246165084, 0.7946466461723108], \"type\": \"scatter\", \"uid\": \"59ce26eb-7ffe-47df-8a8a-8ec5f86a9237\"}, {\"mode\": \"lines+markers\", \"name\": \"Logistic Regression\", \"x\": [\"accuracy\", \"FPR\", \"FNR\", \"auc\"], \"y\": [0.9514646140688475, 0.015403882279273638, 0.24178232286340395, 0.8714068974286613], \"type\": \"scatter\", \"uid\": \"1394f375-6f11-4e26-aa1c-bd7b9a1a39f3\"}, {\"marker\": {\"symbol\": \"x\"}, \"mode\": \"lines+markers\", \"name\": \"Random Forest\", \"x\": [\"accuracy\", \"FPR\", \"FNR\", \"auc\"], \"y\": [0.9431259354286936, 0.010394489668127739, 0.3279766252739226, 0.830814442528975], \"type\": \"scatter\", \"uid\": \"4c5d4aa9-b5b7-411c-a868-ff8ac93ec787\"}, {\"mode\": \"lines\", \"name\": \"Ada Boost\", \"x\": [\"accuracy\", \"FPR\", \"FNR\", \"auc\"], \"y\": [0.9345734445157152, 0.022417031934877898, 0.3162892622352082, 0.8306468529149571], \"type\": \"scatter\", \"uid\": \"5dc20976-3f0d-4b31-bd3e-bb4c423b2f4e\"}, {\"mode\": \"lines+markers\", \"name\": \"GradientBoosting\", \"x\": [\"accuracy\", \"FPR\", \"FNR\", \"auc\"], \"y\": [0.9483643361128928, 0.012523481527864746, 0.27976625273922573, 0.8538551328664548], \"type\": \"scatter\", \"uid\": \"4020e809-e720-4097-85cb-4b56afd6af22\"}, {\"marker\": {\"symbol\": \"x\"}, \"mode\": \"lines+markers\", \"name\": \"ExtraTree Classifier\", \"x\": [\"accuracy\", \"FPR\", \"FNR\", \"auc\"], \"y\": [0.9357494120162497, 0.008015028177833438, 0.3922571219868517, 0.7998639249176575], \"type\": \"scatter\", \"uid\": \"60bb7d2d-521d-436d-8588-75d6702c20f7\"}, {\"marker\": {\"symbol\": \"x\"}, \"mode\": \"lines+markers\", \"name\": \"Bagging\", \"x\": [\"accuracy\", \"FPR\", \"FNR\", \"auc\"], \"y\": [0.9463331195210605, 0.012773951158422042, 0.2921840759678597, 0.847520986436859], \"type\": \"scatter\", \"uid\": \"9a696daf-41db-4ae4-b8e0-bd3a7a25fd23\"}, {\"marker\": {\"symbol\": \"x\"}, \"mode\": \"lines+markers\", \"name\": \"Neural Network\", \"x\": [\"accuracy\", \"FPR\", \"FNR\", \"auc\"], \"y\": [0.953068206115031, 0.024420788979336257, 0.17823228634039445, 0.847520986436859], \"type\": \"scatter\", \"uid\": \"fd006e4a-2bb5-490d-a459-332ecf0ad8da\"}], {\"title\": \"Result comparision for Features selected in Section 1\", \"yaxis\": {\"dtick\": 0.05, \"tick0\": 0}}, {\"showLink\": true, \"linkText\": \"Export to plot.ly\", \"plotlyServerURL\": \"https://plot.ly\"})});</script><script type=\"text/javascript\">window.addEventListener(\"resize\", function(){window._Plotly.Plots.resize(document.getElementById(\"546c4cfe-3e13-4e56-a101-4cbd648d765b\"));});</script>"
      ],
      "text/vnd.plotly.v1+html": [
       "<div id=\"546c4cfe-3e13-4e56-a101-4cbd648d765b\" style=\"height: 525px; width: 100%;\" class=\"plotly-graph-div\"></div><script type=\"text/javascript\">require([\"plotly\"], function(Plotly) { window.PLOTLYENV=window.PLOTLYENV || {};window.PLOTLYENV.BASE_URL=\"https://plot.ly\";Plotly.newPlot(\"546c4cfe-3e13-4e56-a101-4cbd648d765b\", [{\"mode\": \"lines\", \"name\": \"KNN_model\", \"x\": [\"accuracy\", \"FPR\", \"FNR\", \"auc\"], \"y\": [0.938208253153731, 0.002379461490294302, 0.408327246165084, 0.7946466461723108], \"type\": \"scatter\", \"uid\": \"59ce26eb-7ffe-47df-8a8a-8ec5f86a9237\"}, {\"mode\": \"lines+markers\", \"name\": \"Logistic Regression\", \"x\": [\"accuracy\", \"FPR\", \"FNR\", \"auc\"], \"y\": [0.9514646140688475, 0.015403882279273638, 0.24178232286340395, 0.8714068974286613], \"type\": \"scatter\", \"uid\": \"1394f375-6f11-4e26-aa1c-bd7b9a1a39f3\"}, {\"marker\": {\"symbol\": \"x\"}, \"mode\": \"lines+markers\", \"name\": \"Random Forest\", \"x\": [\"accuracy\", \"FPR\", \"FNR\", \"auc\"], \"y\": [0.9431259354286936, 0.010394489668127739, 0.3279766252739226, 0.830814442528975], \"type\": \"scatter\", \"uid\": \"4c5d4aa9-b5b7-411c-a868-ff8ac93ec787\"}, {\"mode\": \"lines\", \"name\": \"Ada Boost\", \"x\": [\"accuracy\", \"FPR\", \"FNR\", \"auc\"], \"y\": [0.9345734445157152, 0.022417031934877898, 0.3162892622352082, 0.8306468529149571], \"type\": \"scatter\", \"uid\": \"5dc20976-3f0d-4b31-bd3e-bb4c423b2f4e\"}, {\"mode\": \"lines+markers\", \"name\": \"GradientBoosting\", \"x\": [\"accuracy\", \"FPR\", \"FNR\", \"auc\"], \"y\": [0.9483643361128928, 0.012523481527864746, 0.27976625273922573, 0.8538551328664548], \"type\": \"scatter\", \"uid\": \"4020e809-e720-4097-85cb-4b56afd6af22\"}, {\"marker\": {\"symbol\": \"x\"}, \"mode\": \"lines+markers\", \"name\": \"ExtraTree Classifier\", \"x\": [\"accuracy\", \"FPR\", \"FNR\", \"auc\"], \"y\": [0.9357494120162497, 0.008015028177833438, 0.3922571219868517, 0.7998639249176575], \"type\": \"scatter\", \"uid\": \"60bb7d2d-521d-436d-8588-75d6702c20f7\"}, {\"marker\": {\"symbol\": \"x\"}, \"mode\": \"lines+markers\", \"name\": \"Bagging\", \"x\": [\"accuracy\", \"FPR\", \"FNR\", \"auc\"], \"y\": [0.9463331195210605, 0.012773951158422042, 0.2921840759678597, 0.847520986436859], \"type\": \"scatter\", \"uid\": \"9a696daf-41db-4ae4-b8e0-bd3a7a25fd23\"}, {\"marker\": {\"symbol\": \"x\"}, \"mode\": \"lines+markers\", \"name\": \"Neural Network\", \"x\": [\"accuracy\", \"FPR\", \"FNR\", \"auc\"], \"y\": [0.953068206115031, 0.024420788979336257, 0.17823228634039445, 0.847520986436859], \"type\": \"scatter\", \"uid\": \"fd006e4a-2bb5-490d-a459-332ecf0ad8da\"}], {\"title\": \"Result comparision for Features selected in Section 1\", \"yaxis\": {\"dtick\": 0.05, \"tick0\": 0}}, {\"showLink\": true, \"linkText\": \"Export to plot.ly\", \"plotlyServerURL\": \"https://plot.ly\"})});</script><script type=\"text/javascript\">window.addEventListener(\"resize\", function(){window._Plotly.Plots.resize(document.getElementById(\"546c4cfe-3e13-4e56-a101-4cbd648d765b\"));});</script>"
      ]
     },
     "metadata": {},
     "output_type": "display_data"
    }
   ],
   "source": [
    "trace0 = go.Scatter(x=table_80_70_test.iloc[0].index.values[[0,5,6,7]],\n",
    "                    y=table_80_70_test.iloc[0].values[[0,5,6,7]],\n",
    "                    mode = 'lines',\n",
    "                    name = 'KNN_model')\n",
    "\n",
    "trace1 = go.Scatter(x=table_80_70_test.iloc[1].index.values[[0,5,6,7]],\n",
    "                    y=table_80_70_test.iloc[1].values[[0,5,6,7]],\n",
    "                    mode = 'lines+markers',\n",
    "                    name = 'Logistic Regression')\n",
    "\n",
    "trace2 = go.Scatter(x=table_80_70_test.iloc[2].index.values[[0,5,6,7]],\n",
    "                    y=table_80_70_test.iloc[2].values[[0,5,6,7]],\n",
    "                    mode = 'lines+markers',marker=dict(symbol='x'),\n",
    "                    name = 'Random Forest')\n",
    "\n",
    "\n",
    "trace3 = go.Scatter(x=table_80_70_test.iloc[3].index.values[[0,5,6,7]],\n",
    "                    y=table_80_70_test.iloc[3].values[[0,5,6,7]],\n",
    "                    mode = 'lines',\n",
    "                    name = 'Ada Boost')\n",
    "\n",
    "trace4 = go.Scatter(x=table_80_70_test.iloc[4].index.values[[0,5,6,7]],\n",
    "                    y=table_80_70_test.iloc[4].values[[0,5,6,7]],\n",
    "                    mode = 'lines+markers',\n",
    "                    name = 'GradientBoosting')\n",
    "\n",
    "trace5 = go.Scatter(x=table_80_70_test.iloc[5].index.values[[0,5,6,7]],\n",
    "                    y=table_80_70_test.iloc[5].values[[0,5,6,7]],\n",
    "                    mode = 'lines+markers',marker=dict(symbol='x'),\n",
    "                    name = 'ExtraTree Classifier')\n",
    "\n",
    "trace6 = go.Scatter(x=table_80_70_test.iloc[6].index.values[[0,5,6,7]],\n",
    "                    y=table_80_70_test.iloc[6].values[[0,5,6,7]],\n",
    "                    mode = 'lines+markers',marker=dict(symbol='x'),\n",
    "                    name = 'Bagging')\n",
    "\n",
    "trace7 = go.Scatter(x=table_80_70_test.iloc[7].index.values[[0,5,6,7]],\n",
    "                    y=table_80_70_test.iloc[7].values[[0,5,6,7]],\n",
    "                    mode = 'lines+markers',marker=dict(symbol='x'),\n",
    "                    name = 'Neural Network')\n",
    "\n",
    "\n",
    "\n",
    "data = [trace0, trace1, trace2, trace3, trace4, trace5, trace6, trace7]\n",
    "layout = go.Layout(yaxis=dict(tick0=0,dtick=0.05),title='Result comparision for Features selected in Section 1')\n",
    "fig = go.Figure(data=data, layout=layout)\n",
    "\n",
    "iplot(fig, filename='Result')"
   ]
  },
  {
   "cell_type": "code",
   "execution_count": 55,
   "metadata": {},
   "outputs": [
    {
     "name": "stdout",
     "output_type": "stream",
     "text": [
      "Training Results\n"
     ]
    },
    {
     "data": {
      "text/html": [
       "<div>\n",
       "<style scoped>\n",
       "    .dataframe tbody tr th:only-of-type {\n",
       "        vertical-align: middle;\n",
       "    }\n",
       "\n",
       "    .dataframe tbody tr th {\n",
       "        vertical-align: top;\n",
       "    }\n",
       "\n",
       "    .dataframe thead th {\n",
       "        text-align: right;\n",
       "    }\n",
       "</style>\n",
       "<table border=\"1\" class=\"dataframe\">\n",
       "  <thead>\n",
       "    <tr style=\"text-align: right;\">\n",
       "      <th></th>\n",
       "      <th>accuracy</th>\n",
       "      <th>TP</th>\n",
       "      <th>TN</th>\n",
       "      <th>FP</th>\n",
       "      <th>FN</th>\n",
       "      <th>FPR</th>\n",
       "      <th>FNR</th>\n",
       "    </tr>\n",
       "    <tr>\n",
       "      <th>index</th>\n",
       "      <th></th>\n",
       "      <th></th>\n",
       "      <th></th>\n",
       "      <th></th>\n",
       "      <th></th>\n",
       "      <th></th>\n",
       "      <th></th>\n",
       "    </tr>\n",
       "  </thead>\n",
       "  <tbody>\n",
       "    <tr>\n",
       "      <th>KNeighborsClassifier</th>\n",
       "      <td>0.947885</td>\n",
       "      <td>3626.0</td>\n",
       "      <td>31841.0</td>\n",
       "      <td>51.0</td>\n",
       "      <td>1899.0</td>\n",
       "      <td>0.001599</td>\n",
       "      <td>0.343710</td>\n",
       "    </tr>\n",
       "    <tr>\n",
       "      <th>LogisticRegression</th>\n",
       "      <td>0.952749</td>\n",
       "      <td>4179.0</td>\n",
       "      <td>31470.0</td>\n",
       "      <td>422.0</td>\n",
       "      <td>1346.0</td>\n",
       "      <td>0.013232</td>\n",
       "      <td>0.243620</td>\n",
       "    </tr>\n",
       "    <tr>\n",
       "      <th>RandomForestClassifier</th>\n",
       "      <td>0.993907</td>\n",
       "      <td>5304.0</td>\n",
       "      <td>31885.0</td>\n",
       "      <td>7.0</td>\n",
       "      <td>221.0</td>\n",
       "      <td>0.000219</td>\n",
       "      <td>0.040000</td>\n",
       "    </tr>\n",
       "    <tr>\n",
       "      <th>AdaBoostClassifier</th>\n",
       "      <td>0.937622</td>\n",
       "      <td>3836.0</td>\n",
       "      <td>31247.0</td>\n",
       "      <td>645.0</td>\n",
       "      <td>1689.0</td>\n",
       "      <td>0.020225</td>\n",
       "      <td>0.305701</td>\n",
       "    </tr>\n",
       "    <tr>\n",
       "      <th>GradientBoostingClassifier</th>\n",
       "      <td>0.953925</td>\n",
       "      <td>4097.0</td>\n",
       "      <td>31596.0</td>\n",
       "      <td>296.0</td>\n",
       "      <td>1428.0</td>\n",
       "      <td>0.009281</td>\n",
       "      <td>0.258462</td>\n",
       "    </tr>\n",
       "    <tr>\n",
       "      <th>ExtraTreeClassifier</th>\n",
       "      <td>0.999973</td>\n",
       "      <td>5524.0</td>\n",
       "      <td>31892.0</td>\n",
       "      <td>0.0</td>\n",
       "      <td>1.0</td>\n",
       "      <td>0.000000</td>\n",
       "      <td>0.000181</td>\n",
       "    </tr>\n",
       "    <tr>\n",
       "      <th>BaggingClassifier</th>\n",
       "      <td>0.993452</td>\n",
       "      <td>5287.0</td>\n",
       "      <td>31885.0</td>\n",
       "      <td>7.0</td>\n",
       "      <td>238.0</td>\n",
       "      <td>0.000219</td>\n",
       "      <td>0.043077</td>\n",
       "    </tr>\n",
       "    <tr>\n",
       "      <th>Neural Network-1</th>\n",
       "      <td>0.997595</td>\n",
       "      <td>5470.0</td>\n",
       "      <td>31857.0</td>\n",
       "      <td>35.0</td>\n",
       "      <td>55.0</td>\n",
       "      <td>0.001097</td>\n",
       "      <td>0.009955</td>\n",
       "    </tr>\n",
       "  </tbody>\n",
       "</table>\n",
       "</div>"
      ],
      "text/plain": [
       "                            accuracy      TP       TN     FP      FN  \\\n",
       "index                                                                  \n",
       "KNeighborsClassifier        0.947885  3626.0  31841.0   51.0  1899.0   \n",
       "LogisticRegression          0.952749  4179.0  31470.0  422.0  1346.0   \n",
       "RandomForestClassifier      0.993907  5304.0  31885.0    7.0   221.0   \n",
       "AdaBoostClassifier          0.937622  3836.0  31247.0  645.0  1689.0   \n",
       "GradientBoostingClassifier  0.953925  4097.0  31596.0  296.0  1428.0   \n",
       "ExtraTreeClassifier         0.999973  5524.0  31892.0    0.0     1.0   \n",
       "BaggingClassifier           0.993452  5287.0  31885.0    7.0   238.0   \n",
       "Neural Network-1            0.997595  5470.0  31857.0   35.0    55.0   \n",
       "\n",
       "                                 FPR       FNR  \n",
       "index                                           \n",
       "KNeighborsClassifier        0.001599  0.343710  \n",
       "LogisticRegression          0.013232  0.243620  \n",
       "RandomForestClassifier      0.000219  0.040000  \n",
       "AdaBoostClassifier          0.020225  0.305701  \n",
       "GradientBoostingClassifier  0.009281  0.258462  \n",
       "ExtraTreeClassifier         0.000000  0.000181  \n",
       "BaggingClassifier           0.000219  0.043077  \n",
       "Neural Network-1            0.001097  0.009955  "
      ]
     },
     "metadata": {},
     "output_type": "display_data"
    },
    {
     "name": "stdout",
     "output_type": "stream",
     "text": [
      "Test Results\n"
     ]
    },
    {
     "data": {
      "text/html": [
       "<div>\n",
       "<style scoped>\n",
       "    .dataframe tbody tr th:only-of-type {\n",
       "        vertical-align: middle;\n",
       "    }\n",
       "\n",
       "    .dataframe tbody tr th {\n",
       "        vertical-align: top;\n",
       "    }\n",
       "\n",
       "    .dataframe thead th {\n",
       "        text-align: right;\n",
       "    }\n",
       "</style>\n",
       "<table border=\"1\" class=\"dataframe\">\n",
       "  <thead>\n",
       "    <tr style=\"text-align: right;\">\n",
       "      <th></th>\n",
       "      <th>accuracy</th>\n",
       "      <th>TP</th>\n",
       "      <th>TN</th>\n",
       "      <th>FP</th>\n",
       "      <th>FN</th>\n",
       "      <th>FPR</th>\n",
       "      <th>FNR</th>\n",
       "      <th>auc</th>\n",
       "      <th>mcc</th>\n",
       "    </tr>\n",
       "    <tr>\n",
       "      <th>index</th>\n",
       "      <th></th>\n",
       "      <th></th>\n",
       "      <th></th>\n",
       "      <th></th>\n",
       "      <th></th>\n",
       "      <th></th>\n",
       "      <th></th>\n",
       "      <th></th>\n",
       "      <th></th>\n",
       "    </tr>\n",
       "  </thead>\n",
       "  <tbody>\n",
       "    <tr>\n",
       "      <th>KNeighborsClassifier</th>\n",
       "      <td>0.938208</td>\n",
       "      <td>810.0</td>\n",
       "      <td>7966.0</td>\n",
       "      <td>19.0</td>\n",
       "      <td>559.0</td>\n",
       "      <td>0.002379</td>\n",
       "      <td>0.408327</td>\n",
       "      <td>0.794647</td>\n",
       "      <td>0.732903</td>\n",
       "    </tr>\n",
       "    <tr>\n",
       "      <th>LogisticRegression</th>\n",
       "      <td>0.951465</td>\n",
       "      <td>1038.0</td>\n",
       "      <td>7862.0</td>\n",
       "      <td>123.0</td>\n",
       "      <td>331.0</td>\n",
       "      <td>0.015404</td>\n",
       "      <td>0.241782</td>\n",
       "      <td>0.871407</td>\n",
       "      <td>0.796309</td>\n",
       "    </tr>\n",
       "    <tr>\n",
       "      <th>RandomForestClassifier</th>\n",
       "      <td>0.943126</td>\n",
       "      <td>920.0</td>\n",
       "      <td>7902.0</td>\n",
       "      <td>83.0</td>\n",
       "      <td>449.0</td>\n",
       "      <td>0.010394</td>\n",
       "      <td>0.327977</td>\n",
       "      <td>0.830814</td>\n",
       "      <td>0.755847</td>\n",
       "    </tr>\n",
       "    <tr>\n",
       "      <th>AdaBoostClassifier</th>\n",
       "      <td>0.934573</td>\n",
       "      <td>936.0</td>\n",
       "      <td>7806.0</td>\n",
       "      <td>179.0</td>\n",
       "      <td>433.0</td>\n",
       "      <td>0.022417</td>\n",
       "      <td>0.316289</td>\n",
       "      <td>0.830647</td>\n",
       "      <td>0.721371</td>\n",
       "    </tr>\n",
       "    <tr>\n",
       "      <th>GradientBoostingClassifier</th>\n",
       "      <td>0.948364</td>\n",
       "      <td>986.0</td>\n",
       "      <td>7885.0</td>\n",
       "      <td>100.0</td>\n",
       "      <td>383.0</td>\n",
       "      <td>0.012523</td>\n",
       "      <td>0.279766</td>\n",
       "      <td>0.853855</td>\n",
       "      <td>0.780871</td>\n",
       "    </tr>\n",
       "    <tr>\n",
       "      <th>ExtraTreeClassifier</th>\n",
       "      <td>0.935749</td>\n",
       "      <td>832.0</td>\n",
       "      <td>7921.0</td>\n",
       "      <td>64.0</td>\n",
       "      <td>537.0</td>\n",
       "      <td>0.008015</td>\n",
       "      <td>0.392257</td>\n",
       "      <td>0.799864</td>\n",
       "      <td>0.720287</td>\n",
       "    </tr>\n",
       "    <tr>\n",
       "      <th>BaggingClassifier</th>\n",
       "      <td>0.946333</td>\n",
       "      <td>969.0</td>\n",
       "      <td>7883.0</td>\n",
       "      <td>102.0</td>\n",
       "      <td>400.0</td>\n",
       "      <td>0.012774</td>\n",
       "      <td>0.292184</td>\n",
       "      <td>0.847521</td>\n",
       "      <td>0.771546</td>\n",
       "    </tr>\n",
       "    <tr>\n",
       "      <th>Neural Network-1</th>\n",
       "      <td>0.953068</td>\n",
       "      <td>1125.0</td>\n",
       "      <td>7790.0</td>\n",
       "      <td>195.0</td>\n",
       "      <td>244.0</td>\n",
       "      <td>0.024421</td>\n",
       "      <td>0.178232</td>\n",
       "      <td>0.847521</td>\n",
       "      <td>0.809531</td>\n",
       "    </tr>\n",
       "  </tbody>\n",
       "</table>\n",
       "</div>"
      ],
      "text/plain": [
       "                            accuracy      TP      TN     FP     FN       FPR  \\\n",
       "index                                                                          \n",
       "KNeighborsClassifier        0.938208   810.0  7966.0   19.0  559.0  0.002379   \n",
       "LogisticRegression          0.951465  1038.0  7862.0  123.0  331.0  0.015404   \n",
       "RandomForestClassifier      0.943126   920.0  7902.0   83.0  449.0  0.010394   \n",
       "AdaBoostClassifier          0.934573   936.0  7806.0  179.0  433.0  0.022417   \n",
       "GradientBoostingClassifier  0.948364   986.0  7885.0  100.0  383.0  0.012523   \n",
       "ExtraTreeClassifier         0.935749   832.0  7921.0   64.0  537.0  0.008015   \n",
       "BaggingClassifier           0.946333   969.0  7883.0  102.0  400.0  0.012774   \n",
       "Neural Network-1            0.953068  1125.0  7790.0  195.0  244.0  0.024421   \n",
       "\n",
       "                                 FNR       auc       mcc  \n",
       "index                                                     \n",
       "KNeighborsClassifier        0.408327  0.794647  0.732903  \n",
       "LogisticRegression          0.241782  0.871407  0.796309  \n",
       "RandomForestClassifier      0.327977  0.830814  0.755847  \n",
       "AdaBoostClassifier          0.316289  0.830647  0.721371  \n",
       "GradientBoostingClassifier  0.279766  0.853855  0.780871  \n",
       "ExtraTreeClassifier         0.392257  0.799864  0.720287  \n",
       "BaggingClassifier           0.292184  0.847521  0.771546  \n",
       "Neural Network-1            0.178232  0.847521  0.809531  "
      ]
     },
     "metadata": {},
     "output_type": "display_data"
    }
   ],
   "source": [
    "table_80_70_train['index']=ind_columns\n",
    "table_80_70_test['index']=ind_columns\n",
    "\n",
    "\n",
    "table_80_70_test.set_index(['index'],drop=True,inplace=True)\n",
    "table_80_70_train.set_index(['index'],drop=True,inplace=True)\n",
    "\n",
    "print(\"Training Results\")\n",
    "display(table_80_70_train)\n",
    "print(\"Test Results\")\n",
    "display(table_80_70_test)"
   ]
  },
  {
   "cell_type": "code",
   "execution_count": 56,
   "metadata": {},
   "outputs": [
    {
     "data": {
      "text/html": [
       "<script>\n",
       "code_show=true; \n",
       "function code_toggle() {\n",
       " if (code_show){\n",
       " $('div.input').hide();\n",
       " } else {\n",
       " $('div.input').show();\n",
       " }\n",
       " code_show = !code_show\n",
       "} \n",
       "$( document ).ready(code_toggle);\n",
       "</script>\n",
       "To toggle code, click <a href=\"javascript:code_toggle()\">here</a>."
      ],
      "text/plain": [
       "<IPython.core.display.HTML object>"
      ]
     },
     "execution_count": 56,
     "metadata": {},
     "output_type": "execute_result"
    }
   ],
   "source": [
    "### Original Creator : Darshan Bhansali\n",
    "### HTML code to hide the input cells \n",
    "HTML('''<script>\n",
    "code_show=true; \n",
    "function code_toggle() {\n",
    " if (code_show){\n",
    " $('div.input').hide();\n",
    " } else {\n",
    " $('div.input').show();\n",
    " }\n",
    " code_show = !code_show\n",
    "} \n",
    "$( document ).ready(code_toggle);\n",
    "</script>\n",
    "To toggle code, click <a href=\"javascript:code_toggle()\">here</a>.''')"
   ]
  }
 ],
 "metadata": {
  "kernelspec": {
   "display_name": "Python 3",
   "language": "python",
   "name": "python3"
  },
  "language_info": {
   "codemirror_mode": {
    "name": "ipython",
    "version": 3
   },
   "file_extension": ".py",
   "mimetype": "text/x-python",
   "name": "python",
   "nbconvert_exporter": "python",
   "pygments_lexer": "ipython3",
   "version": "3.6.7"
  }
 },
 "nbformat": 4,
 "nbformat_minor": 2
}
