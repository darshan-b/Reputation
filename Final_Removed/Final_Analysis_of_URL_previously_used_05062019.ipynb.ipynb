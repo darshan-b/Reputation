{
 "cells": [
  {
   "cell_type": "markdown",
   "metadata": {},
   "source": [
    "***\n",
    "## Table of Contents\n",
    "<br>\n",
    "  <br>\n",
    "    <ol>\n",
    "        <h2><a href='#1' style=\"text-decoration : none; color : #000000;\">1. Initial Models</a></h2>\n",
    "        <ul>\n",
    "            <a href='#1.A' style=\"text-decoration : none; color : #000000;\"><h3>A. Results </h3></a>\n",
    "        </ul>\n",
    "        <ul>\n",
    "            <a href='#1.B' style=\"text-decoration : none; color : #000000;\"><h3>B. Average Feature Importance   </h3></a>\n",
    "        </ul>\n",
    "     </ol>\n",
    "     <br> \n",
    "\n",
    "<ol>\n",
    "        <h2><a href='#2' style=\"text-decoration : none; color : #000000;\">2. Oversampling </a></h2>\n",
    "        <ul>\n",
    "            <a href='#2.A' style=\"text-decoration : none; color : #000000;\"><h3>A. Results </h3></a>\n",
    "        </ul>\n",
    "        <ul>\n",
    "            <a href='#2.B' style=\"text-decoration : none; color : #000000;\"><h3>B. Average Feature Importance   </h3></a>\n",
    "        </ul>\n",
    "     </ol>\n",
    "     <br>\n",
    "     \n",
    " <ol>\n",
    "        <h2><a href='#3' style=\"text-decoration : none; color : #000000;\">3. Undersampling</a></h2>\n",
    "        <ul>\n",
    "            <a href='#3.A' style=\"text-decoration : none; color : #000000;\"><h3>A. Results </h3></a>\n",
    "        </ul>\n",
    "        <ul>\n",
    "            <a href='#3.B' style=\"text-decoration : none; color : #000000;\"><h3>B. Average Feature Importance   </h3></a>\n",
    "        </ul>\n",
    "     </ol>\n",
    "     <br>\n",
    "     \n",
    " <ol>\n",
    "        <h2><a href='#4' style=\"text-decoration : none; color : #000000;\">4.Feature Transformation with feature selection</a></h2>\n",
    "        <ul>\n",
    "            <a href='#4.A' style=\"text-decoration : none; color : #000000;\"><h3>A. Results </h3></a>\n",
    "        </ul>\n",
    "        <ul>\n",
    "            <a href='#4.B' style=\"text-decoration : none; color : #000000;\"><h3>B. Average Feature Importance   </h3></a>\n",
    "        </ul>\n",
    "     </ol>\n",
    "     <br>\n",
    "     \n",
    "     \n",
    " <ol>\n",
    "        <h2><a href='#5' style=\"text-decoration : none; color : #000000;\">5.Feature Transformation with PCA</a></h2>\n",
    "        <ul>\n",
    "            <a href='#5.A' style=\"text-decoration : none; color : #000000;\"><h3>A. Results </h3></a>\n",
    "        </ul>\n",
    "        <ul>\n",
    "            <a href='#5.B' style=\"text-decoration : none; color : #000000;\"><h3>B. Average Feature Importance   </h3></a>\n",
    "        </ul>\n",
    "     </ol>\n",
    "     <br>"
   ]
  },
  {
   "cell_type": "code",
   "execution_count": 1,
   "metadata": {},
   "outputs": [
    {
     "name": "stderr",
     "output_type": "stream",
     "text": [
      "Using TensorFlow backend.\n"
     ]
    },
    {
     "data": {
      "text/html": [
       "<script type=\"text/javascript\">window.PlotlyConfig = {MathJaxConfig: 'local'};</script><script type=\"text/javascript\">if (window.MathJax) {MathJax.Hub.Config({SVG: {font: \"STIX-Web\"}});}</script><script>requirejs.config({paths: { 'plotly': ['https://cdn.plot.ly/plotly-latest.min']},});if(!window._Plotly) {require(['plotly'],function(plotly) {window._Plotly=plotly;});}</script>"
      ],
      "text/vnd.plotly.v1+html": [
       "<script type=\"text/javascript\">window.PlotlyConfig = {MathJaxConfig: 'local'};</script><script type=\"text/javascript\">if (window.MathJax) {MathJax.Hub.Config({SVG: {font: \"STIX-Web\"}});}</script><script>requirejs.config({paths: { 'plotly': ['https://cdn.plot.ly/plotly-latest.min']},});if(!window._Plotly) {require(['plotly'],function(plotly) {window._Plotly=plotly;});}</script>"
      ]
     },
     "metadata": {},
     "output_type": "display_data"
    }
   ],
   "source": [
    "import pandas as pd\n",
    "import numpy as np\n",
    "import copy\n",
    "import matplotlib.pyplot as plt\n",
    "import seaborn as sns\n",
    "%matplotlib inline\n",
    "\n",
    "from IPython.display import display,clear_output,HTML\n",
    "import warnings\n",
    "warnings.filterwarnings(\"ignore\")\n",
    "\n",
    "import keras\n",
    "from keras.layers import Dense,Dropout\n",
    "from keras.models import Sequential\n",
    "warnings.simplefilter(\"ignore\", DeprecationWarning)\n",
    "import researchpy as rp\n",
    "\n",
    "%matplotlib inline\n",
    "pd.set_option('display.max_columns', 500)\n",
    "pd.set_option('display.max_rows',305)\n",
    "\n",
    "from sklearn.feature_selection import SelectKBest,chi2,RFE,RFECV,f_regression,SelectFromModel\n",
    "from sklearn.linear_model import LogisticRegression\n",
    "from sklearn.ensemble import ExtraTreesClassifier,RandomForestClassifier,GradientBoostingClassifier,AdaBoostClassifier,BaggingClassifier\n",
    "from sklearn.neighbors import KNeighborsClassifier\n",
    "from sklearn.model_selection import train_test_split,cross_val_score\n",
    "\n",
    "from sklearn.preprocessing import StandardScaler,MinMaxScaler\n",
    "from sklearn import metrics\n",
    "\n",
    "\n",
    "\n",
    "from sklearn.decomposition import PCA\n",
    "from sklearn.metrics import accuracy_score,auc,roc_curve,recall_score,precision_score,matthews_corrcoef\n",
    "\n",
    "from pandas_ml import ConfusionMatrix\n",
    "\n",
    "\n",
    "from imblearn.over_sampling import SMOTE\n",
    "\n",
    "from plotly.offline import download_plotlyjs, init_notebook_mode, plot, iplot\n",
    "init_notebook_mode(connected=True)\n",
    "import plotly.graph_objs as go\n",
    "\n",
    "import featuretools as ft\n",
    "\n",
    "from scipy import stats\n",
    "import re"
   ]
  },
  {
   "cell_type": "code",
   "execution_count": 2,
   "metadata": {
    "collapsed": true
   },
   "outputs": [],
   "source": [
    "### Function to plot Feature Importance\n",
    "def feat_impt_plot(feat_impt,y_labels,width_s=1000,height_s=1000):\n",
    "    \n",
    "    m=pd.DataFrame(y_labels,feat_impt).reset_index()\n",
    "    m.columns=['Feature_Importance','Features']\n",
    "    m.sort_values(by='Feature_Importance',inplace=True,ascending=False)\n",
    "    m['Features']=m['Features'].str.replace(\"dom_function_\",\"\")\n",
    "    m['Features']=m['Features'].str.replace(\"js_function_\",\"\")\n",
    "    m['Features']=m['Features'].apply(lambda x: str(x).lstrip('.'))\n",
    "    m['Features']=m['Features'].str.replace(\"(\",\"\")\n",
    "    \n",
    "    data = [go.Bar(x=m.Feature_Importance.values,y=m.Features.values,text=np.round(m.Feature_Importance,4),\n",
    "            textposition = 'outside',\n",
    "            marker=dict(\n",
    "                color='rgb(158,202,225)',\n",
    "                line=dict(\n",
    "                    color='rgb(8,48,107)',\n",
    "                    width=1.5),\n",
    "            ),\n",
    "            opacity=0.6,\n",
    "            orientation='h'\n",
    "        )]\n",
    "    layout = go.Layout(autosize=False,\n",
    "    width=width_s,\n",
    "    height=height_s,\n",
    "    xaxis=dict(title='Feature Importances',\n",
    "        tickfont=dict(\n",
    "            size=12,\n",
    "            color='black'\n",
    "        )),\n",
    "    yaxis=dict(automargin=True))\n",
    "    fig = go.Figure(data=data, layout=layout)\n",
    "    iplot(fig)"
   ]
  },
  {
   "cell_type": "code",
   "execution_count": 3,
   "metadata": {
    "collapsed": true
   },
   "outputs": [],
   "source": [
    "def uni_value(data):\n",
    "    lst=[]\n",
    "    for col in data.columns[:]:\n",
    "        lst.append([col,dict(data[col].value_counts()),data[col].value_counts().values[0]>=len(data)*0.95])\n",
    "    col_values=pd.DataFrame(lst,columns=['Feature','Value_Counts','95_%_same_values'])\n",
    "    col_values.set_index('Feature',drop=True,inplace=True)\n",
    "    del lst\n",
    "    return col_values\n",
    "\n",
    "    \n",
    "def check_cat(data):\n",
    "    cat_var=[]\n",
    "    num_var=[]\n",
    "    for col in data.columns:\n",
    "        if col!='Target':\n",
    "            if len(data[col].value_counts())==2:\n",
    "                cat_var.append(col)\n",
    "            else:\n",
    "                num_var.append(col)\n",
    "    return cat_var,num_var\n",
    "\n",
    "\n",
    "def num_stats(data,columns):\n",
    "    lst=[]\n",
    "    c=0\n",
    "    for col in columns:\n",
    "        corr=stats.pointbiserialr(data[col],data.Target)[0]\n",
    "        corr_p=stats.pointbiserialr(data[col],data.Target)[1]\n",
    "        ttest=stats.ttest_ind(data[data.Target==1][col], data[data.Target==0][col], equal_var=False)[0]\n",
    "        ttest_p=stats.ttest_ind(data[data.Target==1][col], data[data.Target==0][col], equal_var=False)[1]\n",
    "        lst.append((corr,corr_p,ttest,ttest_p,col))\n",
    "    stats_data=pd.DataFrame(lst,columns=['Pt. Biserial Corr','Pt. Biserial Corr p-val','ttest','ttest p-val','Feature'])\n",
    "    stats_data.set_index('Feature',drop=True,inplace=True)\n",
    "    stats_data.sort_values(by='ttest',inplace=True)\n",
    "    del lst\n",
    "    return stats_data\n",
    "\n",
    "\n",
    "### Generate statistics for categorical data\n",
    "def cat_stats(data,columns):\n",
    "    lst=[]\n",
    "    c=0\n",
    "    for col in columns:\n",
    "        if col!='Target':\n",
    "            table, results = rp.crosstab(data['Target'], data[col], prop= 'col', test= 'chi-square')\n",
    "            x=results['results'].values.tolist()\n",
    "            x.append(col)\n",
    "            lst.append(x)\n",
    "    chi_df=pd.DataFrame(lst,columns=['Pearson Chi-square','p-value','Cramers V','Feature'])\n",
    "    chi_df.set_index('Feature',drop=True,inplace=True)\n",
    "    chi_df.sort_values(by='Cramers V',ascending=False,inplace=True)\n",
    "    del lst\n",
    "    return chi_df\n",
    "\n",
    "def remove_feat(data):\n",
    "    col_no_unique=[]\n",
    "    for col in data.columns[:]:\n",
    "        if len(data[col].value_counts())<=1:\n",
    "#             print(col)\n",
    "            col_no_unique.append(col)\n",
    "    return col_no_unique\n",
    "\n",
    "### Generate plot for class balance for categorical nature\n",
    "def class_bal(data,title=''):\n",
    "    d = [go.Bar(x=data.Target.value_counts().index.values,\n",
    "               y=data.Target.value_counts().values,\n",
    "               text=data.Target.value_counts().values,\n",
    "               textposition = 'outside',\n",
    "            )]\n",
    "    layout = go.Layout(title=title,xaxis=dict(title='Domain Type',tickfont=dict(size=12,color='black')),\n",
    "                    yaxis=dict(title='Number of Instances'))\n",
    "    fig = go.Figure(data=d, layout=layout)\n",
    "    iplot(fig)"
   ]
  },
  {
   "cell_type": "code",
   "execution_count": 4,
   "metadata": {
    "collapsed": true
   },
   "outputs": [],
   "source": [
    "def model_build(model,X_train,Y_train,X_test,Y_test,tree=False,feat=None):\n",
    "    \n",
    "    y_pred_train=model.predict(X_train)\n",
    "    acc_train=accuracy_score(Y_train,y_pred_train)\n",
    "    \n",
    "    print(\"Accuracy of the model for training data is:\",acc_train)\n",
    "    print(\"Confusion Matrix for training data is:\")\n",
    "    cm_train=ConfusionMatrix(Y_train,y_pred_train)\n",
    "    display(cm_train)\n",
    "    \n",
    "    \n",
    "    y_pred_test=model.predict(X_test)\n",
    "    acc_test=accuracy_score(Y_test,y_pred_test)\n",
    "    print(\"Accuracy of the model for test data is:\",acc_test)\n",
    "    print(\"Confusion Matrix for test data is:\")\n",
    "    cm_test=ConfusionMatrix(Y_test,y_pred_test)\n",
    "    display(cm_test)\n",
    "\n",
    "    fpr, tpr, threshold = roc_curve(Y_test, y_pred_test)\n",
    "    roc_auc =auc(fpr, tpr)\n",
    "    mcc=matthews_corrcoef(Y_test,y_pred_test)\n",
    "    if tree==True:\n",
    "        feat_impt_plot(model.feature_importances_,feat)\n",
    "        return model,cm_train,cm_test,acc_train,acc_test,roc_auc,model.feature_importances_,mcc\n",
    "    \n",
    "    return model,cm_train,cm_test,acc_train,acc_test,roc_auc,mcc\n",
    "\n",
    "def KNN_model(X_train,Y_train,X_test,Y_test):\n",
    "    print('\\033[1m' + 'K-Nearest Neighbors' + '\\033[0m')\n",
    "    knn=KNeighborsClassifier()\n",
    "    knn.fit(X_train,Y_train)\n",
    "\n",
    "    return model_build(knn,X_train,Y_train,X_test,Y_test)\n",
    "\n",
    "def Logistic_model(X_train,Y_train,X_test,Y_test):\n",
    "    print('\\033[1m' + 'Logistic Regression' + '\\033[0m')\n",
    "    log=LogisticRegression()\n",
    "    log.fit(X_train,Y_train)\n",
    "    \n",
    "    return model_build(log,X_train,Y_train,X_test,Y_test)\n",
    "\n",
    "def RandomForest(X_train,Y_train,X_test,Y_test,feat):\n",
    "    print('\\033[1m' + 'RandomForest Classifier' + '\\033[0m')\n",
    "    rf=RandomForestClassifier()\n",
    "    rf.fit(X_train,Y_train)\n",
    "\n",
    "    \n",
    "    return model_build(rf,X_train,Y_train,X_test,Y_test,True,feat)\n",
    "\n",
    "def AdaBoost(X_train,Y_train,X_test,Y_test,feat):\n",
    "    print('\\033[1m' + 'Adaoost Classifier' + '\\033[0m')\n",
    "    ada=AdaBoostClassifier()\n",
    "    ada.fit(X_train,Y_train)\n",
    "    \n",
    "    return model_build(ada,X_train,Y_train,X_test,Y_test,True,feat)\n",
    "\n",
    "def GradientBoosting(X_train,Y_train,X_test,Y_test,feat):\n",
    "    print('\\033[1m' + 'GradientBoosting Classifier' + '\\033[0m')\n",
    "    gbc=GradientBoostingClassifier()\n",
    "    gbc.fit(X_train,Y_train)\n",
    "    \n",
    "    return model_build(gbc,X_train,Y_train,X_test,Y_test,True,feat)\n",
    "\n",
    "def ExtraTree(X_train,Y_train,X_test,Y_test,feat):\n",
    "    print('\\033[1m' + 'ExtraTree Classifier' + '\\033[0m')\n",
    "    ext_tree=ExtraTreesClassifier()\n",
    "    ext_tree.fit(X_train,Y_train)\n",
    "    \n",
    "    return model_build(ext_tree,X_train,Y_train,X_test,Y_test,True,feat)\n",
    "\n",
    "def Bagging(X_train,Y_train,X_test,Y_test):\n",
    "    print('\\033[1m' + 'Bagging Classifier' + '\\033[0m')\n",
    "    bagging=BaggingClassifier()\n",
    "    bagging.fit(X_train,Y_train)\n",
    "    \n",
    "    return model_build(bagging,X_train,Y_train,X_test,Y_test)\n",
    "\n",
    "def DeepLearning1(X_train,Y_train,X_test,Y_test):\n",
    "    print('\\033[1m' + 'Neural Network-1' + '\\033[0m')\n",
    "    np.random.seed(0)\n",
    "    deep_learning=Sequential()\n",
    "    deep_learning.add(Dense(units=64,activation='relu',use_bias=True,kernel_initializer='uniform',input_dim=X_train.shape[1]))\n",
    "    deep_learning.add(Dense(units=128,activation='relu',use_bias=True,kernel_initializer='uniform'))\n",
    "    deep_learning.add(Dense(units=1,activation='sigmoid',use_bias=True,kernel_initializer='uniform'))\n",
    "    deep_learning.compile(optimizer='adam',loss='binary_crossentropy',metrics=['accuracy'])\n",
    "    deep_learning.fit(X_train,Y_train,batch_size=20,epochs=80,verbose=False)\n",
    "    acc_train=deep_learning.evaluate(X_train,Y_train,verbose=False)[1]\n",
    "    print(\"The accuracy of the model on training data is:\",acc_train)\n",
    "    cm_train=ConfusionMatrix(Y_train,deep_learning.predict_classes(X_train,batch_size=1,verbose=False).reshape(1,len(X_train))[0])\n",
    "    cm_test=ConfusionMatrix(Y_test,deep_learning.predict_classes(X_test,batch_size=1,verbose=False).reshape(1,len(X_test))[0])\n",
    "    display(cm_train)\n",
    "    acc_test=accuracy_score(Y_test,deep_learning.predict_classes(X_test,batch_size=1,verbose=False))\n",
    "    print(\"The accuracy of the model on test data is:\",acc_test)\n",
    "    display(cm_test)\n",
    "    mcc=matthews_corrcoef(Y_test,deep_learning.predict_classes(X_test,batch_size=1,verbose=False))\n",
    "    return  deep_learning,cm_train,cm_test,acc_train,acc_test,roc_auc,mcc"
   ]
  },
  {
   "cell_type": "code",
   "execution_count": 5,
   "metadata": {},
   "outputs": [
    {
     "name": "stdout",
     "output_type": "stream",
     "text": [
      "Shape of our dataset: (46771, 4195)\n"
     ]
    }
   ],
   "source": [
    "df=pd.read_csv('URL.csv')\n",
    "\n",
    "df.drop(['Unnamed: 0'],axis=1,inplace=True)\n",
    "\n",
    "df.fillna(value=0,inplace=True)\n",
    "\n",
    "cookies=[columns for columns in df.columns if 'number' in columns]\n",
    "\n",
    "df.drop(cookies,axis=1,inplace=True)\n",
    "df=df[df['domain']!=0]\n",
    "df.sort_values(by='Target',inplace=True,ascending=False)\n",
    "\n",
    "df.drop_duplicates(['domain'], keep='first',inplace=True)\n",
    "\n",
    "df=df.sample(frac=1,random_state=0)\n",
    "print(\"Shape of our dataset:\",df.shape)"
   ]
  },
  {
   "cell_type": "code",
   "execution_count": 10,
   "metadata": {
    "collapsed": true
   },
   "outputs": [],
   "source": [
    "df['url_number_vowels'] = df['domain'].str.lower().str.count(r'[aeiou]')\n",
    "df['url_number_consonants'] = df['domain'].str.count(r'[bcdfghjklmnpqrstvwxzy]', flags=re.I)\n",
    "df['url_number_digits'] = df['domain'].str.count(r'\\d')\n",
    "df['url_number_special_chars']=df['url_length']-df[['url_number_vowels','url_number_consonants','url_number_digits']].sum(axis=1)\n",
    "df.set_index(['domain'],inplace=True,drop=True)"
   ]
  },
  {
   "cell_type": "code",
   "execution_count": 11,
   "metadata": {},
   "outputs": [
    {
     "data": {
      "text/html": [
       "<div>\n",
       "<style scoped>\n",
       "    .dataframe tbody tr th:only-of-type {\n",
       "        vertical-align: middle;\n",
       "    }\n",
       "\n",
       "    .dataframe tbody tr th {\n",
       "        vertical-align: top;\n",
       "    }\n",
       "\n",
       "    .dataframe thead th {\n",
       "        text-align: right;\n",
       "    }\n",
       "</style>\n",
       "<table border=\"1\" class=\"dataframe\">\n",
       "  <thead>\n",
       "    <tr style=\"text-align: right;\">\n",
       "      <th></th>\n",
       "      <th>url_number_vowels</th>\n",
       "      <th>url_number_consonants</th>\n",
       "      <th>url_number_digits</th>\n",
       "      <th>url_number_special_chars</th>\n",
       "      <th>url_length</th>\n",
       "    </tr>\n",
       "    <tr>\n",
       "      <th>domain</th>\n",
       "      <th></th>\n",
       "      <th></th>\n",
       "      <th></th>\n",
       "      <th></th>\n",
       "      <th></th>\n",
       "    </tr>\n",
       "  </thead>\n",
       "  <tbody>\n",
       "    <tr>\n",
       "      <th>tjk.org</th>\n",
       "      <td>1</td>\n",
       "      <td>5</td>\n",
       "      <td>0</td>\n",
       "      <td>1</td>\n",
       "      <td>7</td>\n",
       "    </tr>\n",
       "    <tr>\n",
       "      <th>magenta-musik-360.de</th>\n",
       "      <td>6</td>\n",
       "      <td>8</td>\n",
       "      <td>3</td>\n",
       "      <td>3</td>\n",
       "      <td>20</td>\n",
       "    </tr>\n",
       "    <tr>\n",
       "      <th>hitgelsin.com</th>\n",
       "      <td>4</td>\n",
       "      <td>8</td>\n",
       "      <td>0</td>\n",
       "      <td>1</td>\n",
       "      <td>13</td>\n",
       "    </tr>\n",
       "    <tr>\n",
       "      <th>80.82.77.17/bins-arm7</th>\n",
       "      <td>2</td>\n",
       "      <td>5</td>\n",
       "      <td>9</td>\n",
       "      <td>5</td>\n",
       "      <td>21</td>\n",
       "    </tr>\n",
       "    <tr>\n",
       "      <th>nu.edu.bd</th>\n",
       "      <td>3</td>\n",
       "      <td>4</td>\n",
       "      <td>0</td>\n",
       "      <td>2</td>\n",
       "      <td>9</td>\n",
       "    </tr>\n",
       "    <tr>\n",
       "      <th>allocine.fr</th>\n",
       "      <td>4</td>\n",
       "      <td>6</td>\n",
       "      <td>0</td>\n",
       "      <td>1</td>\n",
       "      <td>11</td>\n",
       "    </tr>\n",
       "    <tr>\n",
       "      <th>vsetop.org</th>\n",
       "      <td>3</td>\n",
       "      <td>6</td>\n",
       "      <td>0</td>\n",
       "      <td>1</td>\n",
       "      <td>10</td>\n",
       "    </tr>\n",
       "    <tr>\n",
       "      <th>ipko.pl</th>\n",
       "      <td>2</td>\n",
       "      <td>4</td>\n",
       "      <td>0</td>\n",
       "      <td>1</td>\n",
       "      <td>7</td>\n",
       "    </tr>\n",
       "    <tr>\n",
       "      <th>0594zs.com</th>\n",
       "      <td>1</td>\n",
       "      <td>4</td>\n",
       "      <td>4</td>\n",
       "      <td>1</td>\n",
       "      <td>10</td>\n",
       "    </tr>\n",
       "    <tr>\n",
       "      <th>completeness.miltondaza.xyz</th>\n",
       "      <td>8</td>\n",
       "      <td>17</td>\n",
       "      <td>0</td>\n",
       "      <td>2</td>\n",
       "      <td>27</td>\n",
       "    </tr>\n",
       "  </tbody>\n",
       "</table>\n",
       "</div>"
      ],
      "text/plain": [
       "                             url_number_vowels  url_number_consonants  \\\n",
       "domain                                                                  \n",
       "tjk.org                                      1                      5   \n",
       "magenta-musik-360.de                         6                      8   \n",
       "hitgelsin.com                                4                      8   \n",
       "80.82.77.17/bins-arm7                        2                      5   \n",
       "nu.edu.bd                                    3                      4   \n",
       "allocine.fr                                  4                      6   \n",
       "vsetop.org                                   3                      6   \n",
       "ipko.pl                                      2                      4   \n",
       "0594zs.com                                   1                      4   \n",
       "completeness.miltondaza.xyz                  8                     17   \n",
       "\n",
       "                             url_number_digits  url_number_special_chars  \\\n",
       "domain                                                                     \n",
       "tjk.org                                      0                         1   \n",
       "magenta-musik-360.de                         3                         3   \n",
       "hitgelsin.com                                0                         1   \n",
       "80.82.77.17/bins-arm7                        9                         5   \n",
       "nu.edu.bd                                    0                         2   \n",
       "allocine.fr                                  0                         1   \n",
       "vsetop.org                                   0                         1   \n",
       "ipko.pl                                      0                         1   \n",
       "0594zs.com                                   4                         1   \n",
       "completeness.miltondaza.xyz                  0                         2   \n",
       "\n",
       "                             url_length  \n",
       "domain                                   \n",
       "tjk.org                               7  \n",
       "magenta-musik-360.de                 20  \n",
       "hitgelsin.com                        13  \n",
       "80.82.77.17/bins-arm7                21  \n",
       "nu.edu.bd                             9  \n",
       "allocine.fr                          11  \n",
       "vsetop.org                           10  \n",
       "ipko.pl                               7  \n",
       "0594zs.com                           10  \n",
       "completeness.miltondaza.xyz          27  "
      ]
     },
     "execution_count": 11,
     "metadata": {},
     "output_type": "execute_result"
    }
   ],
   "source": [
    "df[['url_number_vowels','url_number_consonants','url_number_digits','url_number_special_chars','url_length']].head(10)"
   ]
  },
  {
   "cell_type": "code",
   "execution_count": 12,
   "metadata": {
    "collapsed": true
   },
   "outputs": [],
   "source": [
    "df['url_port']=df['url_port'].apply(lambda x: 0 if x==0 else 1 )\n",
    "df['url_number_vowels/url_length'] = df['url_number_vowels']/df['url_length']\n",
    "df['url_number_consonants/url_length'] = df['url_number_consonants']/df['url_length']\n",
    "df['url_number_digits/url_length'] = df['url_number_digits']/df['url_length']\n",
    "df['url_number_special_chars/url_length']=df['url_number_special_chars']/df['url_length']"
   ]
  },
  {
   "cell_type": "code",
   "execution_count": 13,
   "metadata": {
    "collapsed": true
   },
   "outputs": [],
   "source": [
    "fin_col=['url_char_%',\n",
    " 'url_char_&',\n",
    " 'url_char_+',\n",
    " 'url_char_-',\n",
    " 'url_char_.',\n",
    " 'url_char_/',\n",
    " 'url_char_:',\n",
    " 'url_char_=',\n",
    " 'url_char_?',\n",
    " 'url_char__',\n",
    " 'url_port',\n",
    " 'url_number_vowels/url_length',\n",
    " 'url_number_consonants/url_length',\n",
    " 'url_number_digits/url_length',\n",
    " 'url_number_special_chars/url_length',\n",
    " 'url_length',\n",
    " 'url_tlds',\n",
    " 'url_extensions',\n",
    " 'url_number_digits',\n",
    " 'url_number_consonants',\n",
    " 'url_number_vowels',\n",
    " 'url_number_special_chars',\n",
    " 'Target']"
   ]
  },
  {
   "cell_type": "code",
   "execution_count": 14,
   "metadata": {},
   "outputs": [],
   "source": [
    "df_sel=df[fin_col]"
   ]
  },
  {
   "cell_type": "code",
   "execution_count": 15,
   "metadata": {},
   "outputs": [
    {
     "data": {
      "application/vnd.plotly.v1+json": {
       "config": {
        "linkText": "Export to plot.ly",
        "plotlyServerURL": "https://plot.ly",
        "showLink": true
       },
       "data": [
        {
         "text": [
          39877,
          6894
         ],
         "textposition": "outside",
         "type": "bar",
         "uid": "084f94d3-9460-4ed2-ad05-e4854d414754",
         "x": [
          0,
          1
         ],
         "y": [
          39877,
          6894
         ]
        }
       ],
       "layout": {
        "xaxis": {
         "tickfont": {
          "color": "black",
          "size": 12
         },
         "title": "Domain Type"
        },
        "yaxis": {
         "title": "Number of Instances"
        }
       }
      },
      "text/html": [
       "<div id=\"92ceadbb-c5e9-4521-bf7a-da14b8ef7f25\" style=\"height: 525px; width: 100%;\" class=\"plotly-graph-div\"></div><script type=\"text/javascript\">require([\"plotly\"], function(Plotly) { window.PLOTLYENV=window.PLOTLYENV || {};window.PLOTLYENV.BASE_URL=\"https://plot.ly\";Plotly.newPlot(\"92ceadbb-c5e9-4521-bf7a-da14b8ef7f25\", [{\"text\": [39877.0, 6894.0], \"textposition\": \"outside\", \"x\": [0, 1], \"y\": [39877, 6894], \"type\": \"bar\", \"uid\": \"084f94d3-9460-4ed2-ad05-e4854d414754\"}], {\"xaxis\": {\"tickfont\": {\"color\": \"black\", \"size\": 12}, \"title\": \"Domain Type\"}, \"yaxis\": {\"title\": \"Number of Instances\"}}, {\"showLink\": true, \"linkText\": \"Export to plot.ly\", \"plotlyServerURL\": \"https://plot.ly\"})});</script><script type=\"text/javascript\">window.addEventListener(\"resize\", function(){window._Plotly.Plots.resize(document.getElementById(\"92ceadbb-c5e9-4521-bf7a-da14b8ef7f25\"));});</script>"
      ],
      "text/vnd.plotly.v1+html": [
       "<div id=\"92ceadbb-c5e9-4521-bf7a-da14b8ef7f25\" style=\"height: 525px; width: 100%;\" class=\"plotly-graph-div\"></div><script type=\"text/javascript\">require([\"plotly\"], function(Plotly) { window.PLOTLYENV=window.PLOTLYENV || {};window.PLOTLYENV.BASE_URL=\"https://plot.ly\";Plotly.newPlot(\"92ceadbb-c5e9-4521-bf7a-da14b8ef7f25\", [{\"text\": [39877.0, 6894.0], \"textposition\": \"outside\", \"x\": [0, 1], \"y\": [39877, 6894], \"type\": \"bar\", \"uid\": \"084f94d3-9460-4ed2-ad05-e4854d414754\"}], {\"xaxis\": {\"tickfont\": {\"color\": \"black\", \"size\": 12}, \"title\": \"Domain Type\"}, \"yaxis\": {\"title\": \"Number of Instances\"}}, {\"showLink\": true, \"linkText\": \"Export to plot.ly\", \"plotlyServerURL\": \"https://plot.ly\"})});</script><script type=\"text/javascript\">window.addEventListener(\"resize\", function(){window._Plotly.Plots.resize(document.getElementById(\"92ceadbb-c5e9-4521-bf7a-da14b8ef7f25\"));});</script>"
      ]
     },
     "metadata": {},
     "output_type": "display_data"
    }
   ],
   "source": [
    "data = [go.Bar(x=df.Target.value_counts().index.values,\n",
    "               y=df.Target.value_counts().values,\n",
    "               text=df.Target.value_counts().values,\n",
    "               textposition = 'outside',\n",
    "            )]\n",
    "layout = go.Layout( xaxis=dict(title='Domain Type',tickfont=dict(size=12,color='black')),\n",
    "                    yaxis=dict(title='Number of Instances'))\n",
    "fig = go.Figure(data=data, layout=layout)\n",
    "iplot(fig)"
   ]
  },
  {
   "cell_type": "code",
   "execution_count": 16,
   "metadata": {
    "collapsed": true
   },
   "outputs": [],
   "source": [
    "train=df_sel.iloc[:37417,:]\n",
    "train_X=train.iloc[:,train.columns!='Target'].values\n",
    "train_Y=train.Target.values\n",
    "\n",
    "scaler=StandardScaler()\n",
    "scaled_X_train=scaler.fit_transform(train_X)\n",
    "\n",
    "test=df_sel.iloc[37417:,:]\n",
    "test_X=test.iloc[:,test.columns!='Target'].values\n",
    "test_Y=test.Target.values\n",
    "scaled_X_test=scaler.transform(test_X)"
   ]
  },
  {
   "cell_type": "code",
   "execution_count": 17,
   "metadata": {
    "collapsed": true
   },
   "outputs": [],
   "source": [
    "columns=fin_col"
   ]
  },
  {
   "cell_type": "markdown",
   "metadata": {},
   "source": [
    "### <a id='1' style=\"text-decoration : none; color : #000000;\"> 2. Initial Models</a>"
   ]
  },
  {
   "cell_type": "code",
   "execution_count": 18,
   "metadata": {
    "collapsed": true
   },
   "outputs": [],
   "source": [
    "columns.remove('Target')"
   ]
  },
  {
   "cell_type": "code",
   "execution_count": 19,
   "metadata": {
    "collapsed": true
   },
   "outputs": [],
   "source": [
    "ind_columns=['KNeighborsClassifier','LogisticRegression','RandomForestClassifier','AdaBoostClassifier',\n",
    "             'GradientBoostingClassifier','ExtraTreeClassifier','BaggingClassifier','Neural Network-1']\n",
    "\n",
    "f=[KNN_model,Logistic_model,RandomForest,AdaBoost,GradientBoosting, ExtraTree,Bagging,DeepLearning1]\n",
    "\n",
    "## Table to store training and test measures\n",
    "table_80_50_train=pd.DataFrame(columns=['accuracy','TP','TN','FP','FN','FPR','FNR'])\n",
    "table_80_50_test=pd.DataFrame(columns=['accuracy','TP','TN','FP','FN','FPR','FNR','auc','MCC'])"
   ]
  },
  {
   "cell_type": "code",
   "execution_count": 20,
   "metadata": {
    "scrolled": false
   },
   "outputs": [
    {
     "name": "stdout",
     "output_type": "stream",
     "text": [
      "\u001b[1mK-Nearest Neighbors\u001b[0m\n",
      "Accuracy of the model for training data is: 0.956623994441\n",
      "Confusion Matrix for training data is:\n"
     ]
    },
    {
     "data": {
      "text/plain": [
       "Predicted  False  True  __all__\n",
       "Actual                         \n",
       "False      31383   509    31892\n",
       "True        1114  4411     5525\n",
       "__all__    32497  4920    37417"
      ]
     },
     "metadata": {},
     "output_type": "display_data"
    },
    {
     "name": "stdout",
     "output_type": "stream",
     "text": [
      "Accuracy of the model for test data is: 0.951464614069\n",
      "Confusion Matrix for test data is:\n"
     ]
    },
    {
     "data": {
      "text/plain": [
       "Predicted  False  True  __all__\n",
       "Actual                         \n",
       "False       7834   151     7985\n",
       "True         303  1066     1369\n",
       "__all__     8137  1217     9354"
      ]
     },
     "metadata": {},
     "output_type": "display_data"
    },
    {
     "name": "stdout",
     "output_type": "stream",
     "text": [
      "\n",
      "\n",
      "\u001b[1mLogistic Regression\u001b[0m\n",
      "Accuracy of the model for training data is: 0.938183178769\n",
      "Confusion Matrix for training data is:\n"
     ]
    },
    {
     "data": {
      "text/plain": [
       "Predicted  False  True  __all__\n",
       "Actual                         \n",
       "False      31290   602    31892\n",
       "True        1711  3814     5525\n",
       "__all__    33001  4416    37417"
      ]
     },
     "metadata": {},
     "output_type": "display_data"
    },
    {
     "name": "stdout",
     "output_type": "stream",
     "text": [
      "Accuracy of the model for test data is: 0.935535599743\n",
      "Confusion Matrix for test data is:\n"
     ]
    },
    {
     "data": {
      "text/plain": [
       "Predicted  False  True  __all__\n",
       "Actual                         \n",
       "False       7828   157     7985\n",
       "True         446   923     1369\n",
       "__all__     8274  1080     9354"
      ]
     },
     "metadata": {},
     "output_type": "display_data"
    },
    {
     "name": "stdout",
     "output_type": "stream",
     "text": [
      "\n",
      "\n",
      "\u001b[1mRandomForest Classifier\u001b[0m\n",
      "Accuracy of the model for training data is: 0.96400032071\n",
      "Confusion Matrix for training data is:\n"
     ]
    },
    {
     "data": {
      "text/plain": [
       "Predicted  False  True  __all__\n",
       "Actual                         \n",
       "False      31537   355    31892\n",
       "True         992  4533     5525\n",
       "__all__    32529  4888    37417"
      ]
     },
     "metadata": {},
     "output_type": "display_data"
    },
    {
     "name": "stdout",
     "output_type": "stream",
     "text": [
      "Accuracy of the model for test data is: 0.950181740432\n",
      "Confusion Matrix for test data is:\n"
     ]
    },
    {
     "data": {
      "text/plain": [
       "Predicted  False  True  __all__\n",
       "Actual                         \n",
       "False       7818   167     7985\n",
       "True         299  1070     1369\n",
       "__all__     8117  1237     9354"
      ]
     },
     "metadata": {},
     "output_type": "display_data"
    },
    {
     "data": {
      "application/vnd.plotly.v1+json": {
       "config": {
        "linkText": "Export to plot.ly",
        "plotlyServerURL": "https://plot.ly",
        "showLink": true
       },
       "data": [
        {
         "marker": {
          "color": "rgb(158,202,225)",
          "line": {
           "color": "rgb(8,48,107)",
           "width": 1.5
          }
         },
         "opacity": 0.6,
         "orientation": "h",
         "text": [
          0.207,
          0.1445,
          0.1427,
          0.1031,
          0.0741,
          0.0723,
          0.0474,
          0.0447,
          0.0381,
          0.0376,
          0.0367,
          0.026,
          0.0183,
          0.0072,
          0.0002,
          0.0001,
          0,
          0,
          0,
          0,
          0,
          0
         ],
         "textposition": "outside",
         "type": "bar",
         "uid": "ee9db1ee-2d04-4d67-b09b-77b2c7d0f965",
         "x": [
          0.20703237833151505,
          0.14452917607905041,
          0.14265261721414765,
          0.10306364874183194,
          0.07411002377469461,
          0.07227512850354954,
          0.047412138378407354,
          0.04474960039260463,
          0.03805142222690849,
          0.03758549385947221,
          0.03673605527066443,
          0.026008700566499947,
          0.018321780763932906,
          0.007173958940258286,
          0.0001978322741531144,
          0.00010004468230936656,
          0,
          0,
          0,
          0,
          0,
          0
         ],
         "y": [
          "url_char_.",
          "url_length",
          "url_extensions",
          "url_number_consonants",
          "url_tlds",
          "url_char_/",
          "url_number_special_chars/url_length",
          "url_number_special_chars",
          "url_number_digits",
          "url_number_vowels",
          "url_number_consonants/url_length",
          "url_number_vowels/url_length",
          "url_number_digits/url_length",
          "url_char_-",
          "url_port",
          "url_char__",
          "url_char_&",
          "url_char_?",
          "url_char_=",
          "url_char_:",
          "url_char_+",
          "url_char_%"
         ]
        }
       ],
       "layout": {
        "autosize": false,
        "height": 1000,
        "width": 1000,
        "xaxis": {
         "tickfont": {
          "color": "black",
          "size": 12
         },
         "title": "Feature Importances"
        },
        "yaxis": {
         "automargin": true
        }
       }
      },
      "text/html": [
       "<div id=\"98416a24-60bb-4e84-9d80-0307438904cf\" style=\"height: 1000px; width: 1000px;\" class=\"plotly-graph-div\"></div><script type=\"text/javascript\">require([\"plotly\"], function(Plotly) { window.PLOTLYENV=window.PLOTLYENV || {};window.PLOTLYENV.BASE_URL=\"https://plot.ly\";Plotly.newPlot(\"98416a24-60bb-4e84-9d80-0307438904cf\", [{\"marker\": {\"color\": \"rgb(158,202,225)\", \"line\": {\"color\": \"rgb(8,48,107)\", \"width\": 1.5}}, \"opacity\": 0.6, \"orientation\": \"h\", \"text\": [0.207, 0.1445, 0.1427, 0.1031, 0.0741, 0.0723, 0.0474, 0.0447, 0.0381, 0.0376, 0.0367, 0.026, 0.0183, 0.0072, 0.0002, 0.0001, 0.0, 0.0, 0.0, 0.0, 0.0, 0.0], \"textposition\": \"outside\", \"x\": [0.20703237833151505, 0.14452917607905041, 0.14265261721414765, 0.10306364874183194, 0.07411002377469461, 0.07227512850354954, 0.047412138378407354, 0.04474960039260463, 0.03805142222690849, 0.03758549385947221, 0.03673605527066443, 0.026008700566499947, 0.018321780763932906, 0.007173958940258286, 0.0001978322741531144, 0.00010004468230936656, 0.0, 0.0, 0.0, 0.0, 0.0, 0.0], \"y\": [\"url_char_.\", \"url_length\", \"url_extensions\", \"url_number_consonants\", \"url_tlds\", \"url_char_/\", \"url_number_special_chars/url_length\", \"url_number_special_chars\", \"url_number_digits\", \"url_number_vowels\", \"url_number_consonants/url_length\", \"url_number_vowels/url_length\", \"url_number_digits/url_length\", \"url_char_-\", \"url_port\", \"url_char__\", \"url_char_&\", \"url_char_?\", \"url_char_=\", \"url_char_:\", \"url_char_+\", \"url_char_%\"], \"type\": \"bar\", \"uid\": \"ee9db1ee-2d04-4d67-b09b-77b2c7d0f965\"}], {\"autosize\": false, \"height\": 1000, \"width\": 1000, \"xaxis\": {\"tickfont\": {\"color\": \"black\", \"size\": 12}, \"title\": \"Feature Importances\"}, \"yaxis\": {\"automargin\": true}}, {\"showLink\": true, \"linkText\": \"Export to plot.ly\", \"plotlyServerURL\": \"https://plot.ly\"})});</script>"
      ],
      "text/vnd.plotly.v1+html": [
       "<div id=\"98416a24-60bb-4e84-9d80-0307438904cf\" style=\"height: 1000px; width: 1000px;\" class=\"plotly-graph-div\"></div><script type=\"text/javascript\">require([\"plotly\"], function(Plotly) { window.PLOTLYENV=window.PLOTLYENV || {};window.PLOTLYENV.BASE_URL=\"https://plot.ly\";Plotly.newPlot(\"98416a24-60bb-4e84-9d80-0307438904cf\", [{\"marker\": {\"color\": \"rgb(158,202,225)\", \"line\": {\"color\": \"rgb(8,48,107)\", \"width\": 1.5}}, \"opacity\": 0.6, \"orientation\": \"h\", \"text\": [0.207, 0.1445, 0.1427, 0.1031, 0.0741, 0.0723, 0.0474, 0.0447, 0.0381, 0.0376, 0.0367, 0.026, 0.0183, 0.0072, 0.0002, 0.0001, 0.0, 0.0, 0.0, 0.0, 0.0, 0.0], \"textposition\": \"outside\", \"x\": [0.20703237833151505, 0.14452917607905041, 0.14265261721414765, 0.10306364874183194, 0.07411002377469461, 0.07227512850354954, 0.047412138378407354, 0.04474960039260463, 0.03805142222690849, 0.03758549385947221, 0.03673605527066443, 0.026008700566499947, 0.018321780763932906, 0.007173958940258286, 0.0001978322741531144, 0.00010004468230936656, 0.0, 0.0, 0.0, 0.0, 0.0, 0.0], \"y\": [\"url_char_.\", \"url_length\", \"url_extensions\", \"url_number_consonants\", \"url_tlds\", \"url_char_/\", \"url_number_special_chars/url_length\", \"url_number_special_chars\", \"url_number_digits\", \"url_number_vowels\", \"url_number_consonants/url_length\", \"url_number_vowels/url_length\", \"url_number_digits/url_length\", \"url_char_-\", \"url_port\", \"url_char__\", \"url_char_&\", \"url_char_?\", \"url_char_=\", \"url_char_:\", \"url_char_+\", \"url_char_%\"], \"type\": \"bar\", \"uid\": \"ee9db1ee-2d04-4d67-b09b-77b2c7d0f965\"}], {\"autosize\": false, \"height\": 1000, \"width\": 1000, \"xaxis\": {\"tickfont\": {\"color\": \"black\", \"size\": 12}, \"title\": \"Feature Importances\"}, \"yaxis\": {\"automargin\": true}}, {\"showLink\": true, \"linkText\": \"Export to plot.ly\", \"plotlyServerURL\": \"https://plot.ly\"})});</script>"
      ]
     },
     "metadata": {},
     "output_type": "display_data"
    },
    {
     "name": "stdout",
     "output_type": "stream",
     "text": [
      "\n",
      "\n",
      "\u001b[1mAdaoost Classifier\u001b[0m\n",
      "Accuracy of the model for training data is: 0.935884758265\n",
      "Confusion Matrix for training data is:\n"
     ]
    },
    {
     "data": {
      "text/plain": [
       "Predicted  False  True  __all__\n",
       "Actual                         \n",
       "False      31182   710    31892\n",
       "True        1689  3836     5525\n",
       "__all__    32871  4546    37417"
      ]
     },
     "metadata": {},
     "output_type": "display_data"
    },
    {
     "name": "stdout",
     "output_type": "stream",
     "text": [
      "Accuracy of the model for test data is: 0.931900791105\n",
      "Confusion Matrix for test data is:\n"
     ]
    },
    {
     "data": {
      "text/plain": [
       "Predicted  False  True  __all__\n",
       "Actual                         \n",
       "False       7779   206     7985\n",
       "True         431   938     1369\n",
       "__all__     8210  1144     9354"
      ]
     },
     "metadata": {},
     "output_type": "display_data"
    },
    {
     "data": {
      "application/vnd.plotly.v1+json": {
       "config": {
        "linkText": "Export to plot.ly",
        "plotlyServerURL": "https://plot.ly",
        "showLink": true
       },
       "data": [
        {
         "marker": {
          "color": "rgb(158,202,225)",
          "line": {
           "color": "rgb(8,48,107)",
           "width": 1.5
          }
         },
         "opacity": 0.6,
         "orientation": "h",
         "text": [
          0.18,
          0.16,
          0.14,
          0.12,
          0.12,
          0.08,
          0.06,
          0.06,
          0.02,
          0.02,
          0.02,
          0.02,
          0,
          0,
          0,
          0,
          0,
          0,
          0,
          0,
          0,
          0
         ],
         "textposition": "outside",
         "type": "bar",
         "uid": "04a46844-47c5-45d8-b284-2150ca4ae962",
         "x": [
          0.18,
          0.16,
          0.14,
          0.12,
          0.12,
          0.08,
          0.06,
          0.06,
          0.02,
          0.02,
          0.02,
          0.02,
          0,
          0,
          0,
          0,
          0,
          0,
          0,
          0,
          0,
          0
         ],
         "y": [
          "url_extensions",
          "url_length",
          "url_number_consonants/url_length",
          "url_number_vowels/url_length",
          "url_number_special_chars/url_length",
          "url_char_.",
          "url_number_consonants",
          "url_tlds",
          "url_number_vowels",
          "url_char_-",
          "url_char_/",
          "url_number_digits",
          "url_number_digits/url_length",
          "url_char_%",
          "url_char_&",
          "url_port",
          "url_char__",
          "url_char_?",
          "url_char_=",
          "url_char_:",
          "url_char_+",
          "url_number_special_chars"
         ]
        }
       ],
       "layout": {
        "autosize": false,
        "height": 1000,
        "width": 1000,
        "xaxis": {
         "tickfont": {
          "color": "black",
          "size": 12
         },
         "title": "Feature Importances"
        },
        "yaxis": {
         "automargin": true
        }
       }
      },
      "text/html": [
       "<div id=\"7078e913-90f0-47fe-b286-075ced530752\" style=\"height: 1000px; width: 1000px;\" class=\"plotly-graph-div\"></div><script type=\"text/javascript\">require([\"plotly\"], function(Plotly) { window.PLOTLYENV=window.PLOTLYENV || {};window.PLOTLYENV.BASE_URL=\"https://plot.ly\";Plotly.newPlot(\"7078e913-90f0-47fe-b286-075ced530752\", [{\"marker\": {\"color\": \"rgb(158,202,225)\", \"line\": {\"color\": \"rgb(8,48,107)\", \"width\": 1.5}}, \"opacity\": 0.6, \"orientation\": \"h\", \"text\": [0.18, 0.16, 0.14, 0.12, 0.12, 0.08, 0.06, 0.06, 0.02, 0.02, 0.02, 0.02, 0.0, 0.0, 0.0, 0.0, 0.0, 0.0, 0.0, 0.0, 0.0, 0.0], \"textposition\": \"outside\", \"x\": [0.18, 0.16, 0.14, 0.12, 0.12, 0.08, 0.06, 0.06, 0.02, 0.02, 0.02, 0.02, 0.0, 0.0, 0.0, 0.0, 0.0, 0.0, 0.0, 0.0, 0.0, 0.0], \"y\": [\"url_extensions\", \"url_length\", \"url_number_consonants/url_length\", \"url_number_vowels/url_length\", \"url_number_special_chars/url_length\", \"url_char_.\", \"url_number_consonants\", \"url_tlds\", \"url_number_vowels\", \"url_char_-\", \"url_char_/\", \"url_number_digits\", \"url_number_digits/url_length\", \"url_char_%\", \"url_char_&\", \"url_port\", \"url_char__\", \"url_char_?\", \"url_char_=\", \"url_char_:\", \"url_char_+\", \"url_number_special_chars\"], \"type\": \"bar\", \"uid\": \"04a46844-47c5-45d8-b284-2150ca4ae962\"}], {\"autosize\": false, \"height\": 1000, \"width\": 1000, \"xaxis\": {\"tickfont\": {\"color\": \"black\", \"size\": 12}, \"title\": \"Feature Importances\"}, \"yaxis\": {\"automargin\": true}}, {\"showLink\": true, \"linkText\": \"Export to plot.ly\", \"plotlyServerURL\": \"https://plot.ly\"})});</script>"
      ],
      "text/vnd.plotly.v1+html": [
       "<div id=\"7078e913-90f0-47fe-b286-075ced530752\" style=\"height: 1000px; width: 1000px;\" class=\"plotly-graph-div\"></div><script type=\"text/javascript\">require([\"plotly\"], function(Plotly) { window.PLOTLYENV=window.PLOTLYENV || {};window.PLOTLYENV.BASE_URL=\"https://plot.ly\";Plotly.newPlot(\"7078e913-90f0-47fe-b286-075ced530752\", [{\"marker\": {\"color\": \"rgb(158,202,225)\", \"line\": {\"color\": \"rgb(8,48,107)\", \"width\": 1.5}}, \"opacity\": 0.6, \"orientation\": \"h\", \"text\": [0.18, 0.16, 0.14, 0.12, 0.12, 0.08, 0.06, 0.06, 0.02, 0.02, 0.02, 0.02, 0.0, 0.0, 0.0, 0.0, 0.0, 0.0, 0.0, 0.0, 0.0, 0.0], \"textposition\": \"outside\", \"x\": [0.18, 0.16, 0.14, 0.12, 0.12, 0.08, 0.06, 0.06, 0.02, 0.02, 0.02, 0.02, 0.0, 0.0, 0.0, 0.0, 0.0, 0.0, 0.0, 0.0, 0.0, 0.0], \"y\": [\"url_extensions\", \"url_length\", \"url_number_consonants/url_length\", \"url_number_vowels/url_length\", \"url_number_special_chars/url_length\", \"url_char_.\", \"url_number_consonants\", \"url_tlds\", \"url_number_vowels\", \"url_char_-\", \"url_char_/\", \"url_number_digits\", \"url_number_digits/url_length\", \"url_char_%\", \"url_char_&\", \"url_port\", \"url_char__\", \"url_char_?\", \"url_char_=\", \"url_char_:\", \"url_char_+\", \"url_number_special_chars\"], \"type\": \"bar\", \"uid\": \"04a46844-47c5-45d8-b284-2150ca4ae962\"}], {\"autosize\": false, \"height\": 1000, \"width\": 1000, \"xaxis\": {\"tickfont\": {\"color\": \"black\", \"size\": 12}, \"title\": \"Feature Importances\"}, \"yaxis\": {\"automargin\": true}}, {\"showLink\": true, \"linkText\": \"Export to plot.ly\", \"plotlyServerURL\": \"https://plot.ly\"})});</script>"
      ]
     },
     "metadata": {},
     "output_type": "display_data"
    },
    {
     "name": "stdout",
     "output_type": "stream",
     "text": [
      "\n",
      "\n",
      "\u001b[1mGradientBoosting Classifier\u001b[0m\n",
      "Accuracy of the model for training data is: 0.950343426785\n",
      "Confusion Matrix for training data is:\n"
     ]
    },
    {
     "data": {
      "text/plain": [
       "Predicted  False  True  __all__\n",
       "Actual                         \n",
       "False      31295   597    31892\n",
       "True        1261  4264     5525\n",
       "__all__    32556  4861    37417"
      ]
     },
     "metadata": {},
     "output_type": "display_data"
    },
    {
     "name": "stdout",
     "output_type": "stream",
     "text": [
      "Accuracy of the model for test data is: 0.947295274749\n",
      "Confusion Matrix for test data is:\n"
     ]
    },
    {
     "data": {
      "text/plain": [
       "Predicted  False  True  __all__\n",
       "Actual                         \n",
       "False       7815   170     7985\n",
       "True         323  1046     1369\n",
       "__all__     8138  1216     9354"
      ]
     },
     "metadata": {},
     "output_type": "display_data"
    },
    {
     "data": {
      "application/vnd.plotly.v1+json": {
       "config": {
        "linkText": "Export to plot.ly",
        "plotlyServerURL": "https://plot.ly",
        "showLink": true
       },
       "data": [
        {
         "marker": {
          "color": "rgb(158,202,225)",
          "line": {
           "color": "rgb(8,48,107)",
           "width": 1.5
          }
         },
         "opacity": 0.6,
         "orientation": "h",
         "text": [
          0.3851,
          0.3573,
          0.0848,
          0.081,
          0.0326,
          0.0145,
          0.0139,
          0.0117,
          0.0079,
          0.0054,
          0.0028,
          0.0015,
          0.0008,
          0.0008,
          0,
          0,
          0,
          0,
          0,
          0,
          0,
          0
         ],
         "textposition": "outside",
         "type": "bar",
         "uid": "bdb3f9b8-a30d-4922-ba96-ed64ffb8c527",
         "x": [
          0.38506150332902994,
          0.3572528599564796,
          0.08482424633915982,
          0.08103290044575912,
          0.032563433750466754,
          0.014498088629946884,
          0.013903502779165902,
          0.01167298104043591,
          0.007897179165299507,
          0.00538808092152806,
          0.0028111899038289322,
          0.001495966907990208,
          0.0008476078113297382,
          0.0007504590195796392,
          0,
          0,
          0,
          0,
          0,
          0,
          0,
          0
         ],
         "y": [
          "url_length",
          "url_extensions",
          "url_char_.",
          "url_char_/",
          "url_tlds",
          "url_number_digits/url_length",
          "url_number_vowels/url_length",
          "url_number_consonants",
          "url_number_special_chars",
          "url_number_digits",
          "url_number_special_chars/url_length",
          "url_number_consonants/url_length",
          "url_char_-",
          "url_number_vowels",
          "url_char__",
          "url_port",
          "url_char_&",
          "url_char_?",
          "url_char_=",
          "url_char_:",
          "url_char_+",
          "url_char_%"
         ]
        }
       ],
       "layout": {
        "autosize": false,
        "height": 1000,
        "width": 1000,
        "xaxis": {
         "tickfont": {
          "color": "black",
          "size": 12
         },
         "title": "Feature Importances"
        },
        "yaxis": {
         "automargin": true
        }
       }
      },
      "text/html": [
       "<div id=\"977a411d-c631-4bd6-a0cb-9b2f936ca6bf\" style=\"height: 1000px; width: 1000px;\" class=\"plotly-graph-div\"></div><script type=\"text/javascript\">require([\"plotly\"], function(Plotly) { window.PLOTLYENV=window.PLOTLYENV || {};window.PLOTLYENV.BASE_URL=\"https://plot.ly\";Plotly.newPlot(\"977a411d-c631-4bd6-a0cb-9b2f936ca6bf\", [{\"marker\": {\"color\": \"rgb(158,202,225)\", \"line\": {\"color\": \"rgb(8,48,107)\", \"width\": 1.5}}, \"opacity\": 0.6, \"orientation\": \"h\", \"text\": [0.3851, 0.3573, 0.0848, 0.081, 0.0326, 0.0145, 0.0139, 0.0117, 0.0079, 0.0054, 0.0028, 0.0015, 0.0008, 0.0008, 0.0, 0.0, 0.0, 0.0, 0.0, 0.0, 0.0, 0.0], \"textposition\": \"outside\", \"x\": [0.38506150332902994, 0.3572528599564796, 0.08482424633915982, 0.08103290044575912, 0.032563433750466754, 0.014498088629946884, 0.013903502779165902, 0.01167298104043591, 0.007897179165299507, 0.00538808092152806, 0.0028111899038289322, 0.001495966907990208, 0.0008476078113297382, 0.0007504590195796392, 0.0, 0.0, 0.0, 0.0, 0.0, 0.0, 0.0, 0.0], \"y\": [\"url_length\", \"url_extensions\", \"url_char_.\", \"url_char_/\", \"url_tlds\", \"url_number_digits/url_length\", \"url_number_vowels/url_length\", \"url_number_consonants\", \"url_number_special_chars\", \"url_number_digits\", \"url_number_special_chars/url_length\", \"url_number_consonants/url_length\", \"url_char_-\", \"url_number_vowels\", \"url_char__\", \"url_port\", \"url_char_&\", \"url_char_?\", \"url_char_=\", \"url_char_:\", \"url_char_+\", \"url_char_%\"], \"type\": \"bar\", \"uid\": \"bdb3f9b8-a30d-4922-ba96-ed64ffb8c527\"}], {\"autosize\": false, \"height\": 1000, \"width\": 1000, \"xaxis\": {\"tickfont\": {\"color\": \"black\", \"size\": 12}, \"title\": \"Feature Importances\"}, \"yaxis\": {\"automargin\": true}}, {\"showLink\": true, \"linkText\": \"Export to plot.ly\", \"plotlyServerURL\": \"https://plot.ly\"})});</script>"
      ],
      "text/vnd.plotly.v1+html": [
       "<div id=\"977a411d-c631-4bd6-a0cb-9b2f936ca6bf\" style=\"height: 1000px; width: 1000px;\" class=\"plotly-graph-div\"></div><script type=\"text/javascript\">require([\"plotly\"], function(Plotly) { window.PLOTLYENV=window.PLOTLYENV || {};window.PLOTLYENV.BASE_URL=\"https://plot.ly\";Plotly.newPlot(\"977a411d-c631-4bd6-a0cb-9b2f936ca6bf\", [{\"marker\": {\"color\": \"rgb(158,202,225)\", \"line\": {\"color\": \"rgb(8,48,107)\", \"width\": 1.5}}, \"opacity\": 0.6, \"orientation\": \"h\", \"text\": [0.3851, 0.3573, 0.0848, 0.081, 0.0326, 0.0145, 0.0139, 0.0117, 0.0079, 0.0054, 0.0028, 0.0015, 0.0008, 0.0008, 0.0, 0.0, 0.0, 0.0, 0.0, 0.0, 0.0, 0.0], \"textposition\": \"outside\", \"x\": [0.38506150332902994, 0.3572528599564796, 0.08482424633915982, 0.08103290044575912, 0.032563433750466754, 0.014498088629946884, 0.013903502779165902, 0.01167298104043591, 0.007897179165299507, 0.00538808092152806, 0.0028111899038289322, 0.001495966907990208, 0.0008476078113297382, 0.0007504590195796392, 0.0, 0.0, 0.0, 0.0, 0.0, 0.0, 0.0, 0.0], \"y\": [\"url_length\", \"url_extensions\", \"url_char_.\", \"url_char_/\", \"url_tlds\", \"url_number_digits/url_length\", \"url_number_vowels/url_length\", \"url_number_consonants\", \"url_number_special_chars\", \"url_number_digits\", \"url_number_special_chars/url_length\", \"url_number_consonants/url_length\", \"url_char_-\", \"url_number_vowels\", \"url_char__\", \"url_port\", \"url_char_&\", \"url_char_?\", \"url_char_=\", \"url_char_:\", \"url_char_+\", \"url_char_%\"], \"type\": \"bar\", \"uid\": \"bdb3f9b8-a30d-4922-ba96-ed64ffb8c527\"}], {\"autosize\": false, \"height\": 1000, \"width\": 1000, \"xaxis\": {\"tickfont\": {\"color\": \"black\", \"size\": 12}, \"title\": \"Feature Importances\"}, \"yaxis\": {\"automargin\": true}}, {\"showLink\": true, \"linkText\": \"Export to plot.ly\", \"plotlyServerURL\": \"https://plot.ly\"})});</script>"
      ]
     },
     "metadata": {},
     "output_type": "display_data"
    },
    {
     "name": "stdout",
     "output_type": "stream",
     "text": [
      "\n",
      "\n",
      "\u001b[1mExtraTree Classifier\u001b[0m\n",
      "Accuracy of the model for training data is: 0.964615014566\n",
      "Confusion Matrix for training data is:\n"
     ]
    },
    {
     "data": {
      "text/plain": [
       "Predicted  False  True  __all__\n",
       "Actual                         \n",
       "False      31593   299    31892\n",
       "True        1025  4500     5525\n",
       "__all__    32618  4799    37417"
      ]
     },
     "metadata": {},
     "output_type": "display_data"
    },
    {
     "name": "stdout",
     "output_type": "stream",
     "text": [
      "Accuracy of the model for test data is: 0.949861022023\n",
      "Confusion Matrix for test data is:\n"
     ]
    },
    {
     "data": {
      "text/plain": [
       "Predicted  False  True  __all__\n",
       "Actual                         \n",
       "False       7834   151     7985\n",
       "True         318  1051     1369\n",
       "__all__     8152  1202     9354"
      ]
     },
     "metadata": {},
     "output_type": "display_data"
    },
    {
     "data": {
      "application/vnd.plotly.v1+json": {
       "config": {
        "linkText": "Export to plot.ly",
        "plotlyServerURL": "https://plot.ly",
        "showLink": true
       },
       "data": [
        {
         "marker": {
          "color": "rgb(158,202,225)",
          "line": {
           "color": "rgb(8,48,107)",
           "width": 1.5
          }
         },
         "opacity": 0.6,
         "orientation": "h",
         "text": [
          0.1695,
          0.1572,
          0.1175,
          0.0912,
          0.0905,
          0.0676,
          0.0623,
          0.0559,
          0.0425,
          0.0401,
          0.0338,
          0.0235,
          0.022,
          0.0195,
          0.0032,
          0.0028,
          0.0004,
          0.0002,
          0.0002,
          0,
          0,
          0
         ],
         "textposition": "outside",
         "type": "bar",
         "uid": "6a38e073-e359-4486-b846-974467135fd5",
         "x": [
          0.1695379874235522,
          0.1572381719257739,
          0.11752965812589292,
          0.09118269110046151,
          0.09047676773289111,
          0.06755135250092613,
          0.06229662140762201,
          0.05589766969728891,
          0.0424982731979046,
          0.04007548288789897,
          0.03382930555925718,
          0.02352623738184698,
          0.021956007078361633,
          0.019453318337131355,
          0.0032417584380094963,
          0.0028443071304943587,
          0.00044708405340909013,
          0.00020233220633736148,
          0.00017633493866259302,
          3.1054984776380346e-05,
          7.583891501402832e-06,
          0
         ],
         "y": [
          "url_length",
          "url_char_.",
          "url_extensions",
          "url_number_consonants",
          "url_number_special_chars",
          "url_number_vowels",
          "url_number_digits",
          "url_tlds",
          "url_number_special_chars/url_length",
          "url_char_/",
          "url_number_digits/url_length",
          "url_number_consonants/url_length",
          "url_number_vowels/url_length",
          "url_char_-",
          "url_char_?",
          "url_port",
          "url_char_+",
          "url_char_:",
          "url_char__",
          "url_char_%",
          "url_char_=",
          "url_char_&"
         ]
        }
       ],
       "layout": {
        "autosize": false,
        "height": 1000,
        "width": 1000,
        "xaxis": {
         "tickfont": {
          "color": "black",
          "size": 12
         },
         "title": "Feature Importances"
        },
        "yaxis": {
         "automargin": true
        }
       }
      },
      "text/html": [
       "<div id=\"0cec1a81-e449-4ee0-aca4-e68d12be8e24\" style=\"height: 1000px; width: 1000px;\" class=\"plotly-graph-div\"></div><script type=\"text/javascript\">require([\"plotly\"], function(Plotly) { window.PLOTLYENV=window.PLOTLYENV || {};window.PLOTLYENV.BASE_URL=\"https://plot.ly\";Plotly.newPlot(\"0cec1a81-e449-4ee0-aca4-e68d12be8e24\", [{\"marker\": {\"color\": \"rgb(158,202,225)\", \"line\": {\"color\": \"rgb(8,48,107)\", \"width\": 1.5}}, \"opacity\": 0.6, \"orientation\": \"h\", \"text\": [0.1695, 0.1572, 0.1175, 0.0912, 0.0905, 0.0676, 0.0623, 0.0559, 0.0425, 0.0401, 0.0338, 0.0235, 0.022, 0.0195, 0.0032, 0.0028, 0.0004, 0.0002, 0.0002, 0.0, 0.0, 0.0], \"textposition\": \"outside\", \"x\": [0.1695379874235522, 0.1572381719257739, 0.11752965812589292, 0.09118269110046151, 0.09047676773289111, 0.06755135250092613, 0.06229662140762201, 0.05589766969728891, 0.0424982731979046, 0.04007548288789897, 0.03382930555925718, 0.02352623738184698, 0.021956007078361633, 0.019453318337131355, 0.0032417584380094963, 0.0028443071304943587, 0.00044708405340909013, 0.00020233220633736148, 0.00017633493866259302, 3.1054984776380346e-05, 7.583891501402832e-06, 0.0], \"y\": [\"url_length\", \"url_char_.\", \"url_extensions\", \"url_number_consonants\", \"url_number_special_chars\", \"url_number_vowels\", \"url_number_digits\", \"url_tlds\", \"url_number_special_chars/url_length\", \"url_char_/\", \"url_number_digits/url_length\", \"url_number_consonants/url_length\", \"url_number_vowels/url_length\", \"url_char_-\", \"url_char_?\", \"url_port\", \"url_char_+\", \"url_char_:\", \"url_char__\", \"url_char_%\", \"url_char_=\", \"url_char_&\"], \"type\": \"bar\", \"uid\": \"6a38e073-e359-4486-b846-974467135fd5\"}], {\"autosize\": false, \"height\": 1000, \"width\": 1000, \"xaxis\": {\"tickfont\": {\"color\": \"black\", \"size\": 12}, \"title\": \"Feature Importances\"}, \"yaxis\": {\"automargin\": true}}, {\"showLink\": true, \"linkText\": \"Export to plot.ly\", \"plotlyServerURL\": \"https://plot.ly\"})});</script>"
      ],
      "text/vnd.plotly.v1+html": [
       "<div id=\"0cec1a81-e449-4ee0-aca4-e68d12be8e24\" style=\"height: 1000px; width: 1000px;\" class=\"plotly-graph-div\"></div><script type=\"text/javascript\">require([\"plotly\"], function(Plotly) { window.PLOTLYENV=window.PLOTLYENV || {};window.PLOTLYENV.BASE_URL=\"https://plot.ly\";Plotly.newPlot(\"0cec1a81-e449-4ee0-aca4-e68d12be8e24\", [{\"marker\": {\"color\": \"rgb(158,202,225)\", \"line\": {\"color\": \"rgb(8,48,107)\", \"width\": 1.5}}, \"opacity\": 0.6, \"orientation\": \"h\", \"text\": [0.1695, 0.1572, 0.1175, 0.0912, 0.0905, 0.0676, 0.0623, 0.0559, 0.0425, 0.0401, 0.0338, 0.0235, 0.022, 0.0195, 0.0032, 0.0028, 0.0004, 0.0002, 0.0002, 0.0, 0.0, 0.0], \"textposition\": \"outside\", \"x\": [0.1695379874235522, 0.1572381719257739, 0.11752965812589292, 0.09118269110046151, 0.09047676773289111, 0.06755135250092613, 0.06229662140762201, 0.05589766969728891, 0.0424982731979046, 0.04007548288789897, 0.03382930555925718, 0.02352623738184698, 0.021956007078361633, 0.019453318337131355, 0.0032417584380094963, 0.0028443071304943587, 0.00044708405340909013, 0.00020233220633736148, 0.00017633493866259302, 3.1054984776380346e-05, 7.583891501402832e-06, 0.0], \"y\": [\"url_length\", \"url_char_.\", \"url_extensions\", \"url_number_consonants\", \"url_number_special_chars\", \"url_number_vowels\", \"url_number_digits\", \"url_tlds\", \"url_number_special_chars/url_length\", \"url_char_/\", \"url_number_digits/url_length\", \"url_number_consonants/url_length\", \"url_number_vowels/url_length\", \"url_char_-\", \"url_char_?\", \"url_port\", \"url_char_+\", \"url_char_:\", \"url_char__\", \"url_char_%\", \"url_char_=\", \"url_char_&\"], \"type\": \"bar\", \"uid\": \"6a38e073-e359-4486-b846-974467135fd5\"}], {\"autosize\": false, \"height\": 1000, \"width\": 1000, \"xaxis\": {\"tickfont\": {\"color\": \"black\", \"size\": 12}, \"title\": \"Feature Importances\"}, \"yaxis\": {\"automargin\": true}}, {\"showLink\": true, \"linkText\": \"Export to plot.ly\", \"plotlyServerURL\": \"https://plot.ly\"})});</script>"
      ]
     },
     "metadata": {},
     "output_type": "display_data"
    },
    {
     "name": "stdout",
     "output_type": "stream",
     "text": [
      "\n",
      "\n",
      "\u001b[1mBagging Classifier\u001b[0m\n",
      "Accuracy of the model for training data is: 0.963759788332\n",
      "Confusion Matrix for training data is:\n"
     ]
    },
    {
     "data": {
      "text/plain": [
       "Predicted  False  True  __all__\n",
       "Actual                         \n",
       "False      31499   393    31892\n",
       "True         963  4562     5525\n",
       "__all__    32462  4955    37417"
      ]
     },
     "metadata": {},
     "output_type": "display_data"
    },
    {
     "name": "stdout",
     "output_type": "stream",
     "text": [
      "Accuracy of the model for test data is: 0.949219585204\n",
      "Confusion Matrix for test data is:\n"
     ]
    },
    {
     "data": {
      "text/plain": [
       "Predicted  False  True  __all__\n",
       "Actual                         \n",
       "False       7813   172     7985\n",
       "True         303  1066     1369\n",
       "__all__     8116  1238     9354"
      ]
     },
     "metadata": {},
     "output_type": "display_data"
    },
    {
     "name": "stdout",
     "output_type": "stream",
     "text": [
      "\n",
      "\n",
      "\u001b[1mNeural Network-1\u001b[0m\n",
      "The accuracy of the model on training data is: 0.958040462894\n"
     ]
    },
    {
     "data": {
      "text/plain": [
       "Predicted  False  True  __all__\n",
       "Actual                         \n",
       "False      31474   418    31892\n",
       "True        1152  4373     5525\n",
       "__all__    32626  4791    37417"
      ]
     },
     "metadata": {},
     "output_type": "display_data"
    },
    {
     "name": "stdout",
     "output_type": "stream",
     "text": [
      "The accuracy of the model on test data is: 0.954244173616\n"
     ]
    },
    {
     "data": {
      "text/plain": [
       "Predicted  False  True  __all__\n",
       "Actual                         \n",
       "False       7863   122     7985\n",
       "True         306  1063     1369\n",
       "__all__     8169  1185     9354"
      ]
     },
     "metadata": {},
     "output_type": "display_data"
    },
    {
     "name": "stdout",
     "output_type": "stream",
     "text": [
      "\n",
      "\n"
     ]
    }
   ],
   "source": [
    "feat_imp=[None]*4\n",
    "j=0\n",
    "for i in range(0,8):\n",
    "    if i>=2 and i<=5:\n",
    "        model,cm_train,cm_test,acc_train,acc_test,roc_auc,feat_imp[j],mcc=f[i](scaled_X_train,train_Y,scaled_X_test,test_Y,columns)\n",
    "        j=j+1\n",
    "    else:\n",
    "        model,cm_train,cm_test,acc_train,acc_test,roc_auc,mcc=f[i](scaled_X_train,train_Y,scaled_X_test,test_Y)\n",
    "    table_80_50_train.loc[i]=   ([acc_train,cm_train.TP,cm_train.TN,cm_train.FP,cm_train.FN,cm_train.FPR,cm_train.FNR])\n",
    "    table_80_50_test.loc[i] =   ([acc_test ,cm_test.TP, cm_test.TN, cm_test.FP, cm_test.FN, cm_test.FPR, cm_test.FNR,roc_auc,mcc])\n",
    "    print(\"\\n\")"
   ]
  },
  {
   "cell_type": "markdown",
   "metadata": {},
   "source": [
    "### <a id='1.A' style=\"text-decoration : none; color : #000000;\"> A Results</a>"
   ]
  },
  {
   "cell_type": "code",
   "execution_count": 21,
   "metadata": {},
   "outputs": [
    {
     "data": {
      "application/vnd.plotly.v1+json": {
       "config": {
        "linkText": "Export to plot.ly",
        "plotlyServerURL": "https://plot.ly",
        "showLink": true
       },
       "data": [
        {
         "mode": "lines",
         "name": "KNN_model",
         "type": "scatter",
         "uid": "8d8775de-09d4-4833-b1fc-22337d052c81",
         "x": [
          "accuracy",
          "FPR",
          "FNR",
          "auc"
         ],
         "y": [
          0.9514646140688475,
          0.018910457107075767,
          0.22132943754565376,
          0.8798800526736352
         ]
        },
        {
         "mode": "lines+markers",
         "name": "Logistic Regression",
         "type": "scatter",
         "uid": "ba0cb73f-7b5b-4930-90b4-8fee48d6fa02",
         "x": [
          "accuracy",
          "FPR",
          "FNR",
          "auc"
         ],
         "y": [
          0.9355355997434253,
          0.01966186599874765,
          0.32578524470416365,
          0.8272764446485443
         ]
        },
        {
         "marker": {
          "symbol": "x"
         },
         "mode": "lines+markers",
         "name": "Random Forest",
         "type": "scatter",
         "uid": "7d439c33-50bd-4dff-8fef-c1b3e1b47e09",
         "x": [
          "accuracy",
          "FPR",
          "FNR",
          "auc"
         ],
         "y": [
          0.9501817404319008,
          0.020914214151534126,
          0.21840759678597516,
          0.8803390945312453
         ]
        },
        {
         "mode": "lines",
         "name": "Ada Boost",
         "type": "scatter",
         "uid": "f4b1e5a4-a9cd-4f0e-a87a-f897b872c8a3",
         "x": [
          "accuracy",
          "FPR",
          "FNR",
          "auc"
         ],
         "y": [
          0.9319007911054095,
          0.025798371947401377,
          0.3148283418553689,
          0.8296866430986148
         ]
        },
        {
         "mode": "lines+markers",
         "name": "GradientBoosting",
         "type": "scatter",
         "uid": "9a26b58d-fe49-4fb7-8999-dd43f81bc876",
         "x": [
          "accuracy",
          "FPR",
          "FNR",
          "auc"
         ],
         "y": [
          0.9472952747487706,
          0.021289918597370068,
          0.23593864134404674,
          0.8713857200292916
         ]
        },
        {
         "marker": {
          "symbol": "x"
         },
         "mode": "lines+markers",
         "name": "ExtraTree Classifier",
         "type": "scatter",
         "uid": "035544c5-3ac6-4682-a161-e5ac26442eb6",
         "x": [
          "accuracy",
          "FPR",
          "FNR",
          "auc"
         ],
         "y": [
          0.9498610220226641,
          0.018910457107075767,
          0.2322863403944485,
          0.8744016012492379
         ]
        },
        {
         "marker": {
          "symbol": "x"
         },
         "mode": "lines+markers",
         "name": "Bagging",
         "type": "scatter",
         "uid": "09f30403-91d3-40a5-a41b-4ff8501d780b",
         "x": [
          "accuracy",
          "FPR",
          "FNR",
          "auc"
         ],
         "y": [
          0.9492195852041907,
          0.021540388227927365,
          0.22132943754565376,
          0.8785650871132094
         ]
        },
        {
         "marker": {
          "symbol": "x"
         },
         "mode": "lines+markers",
         "name": "Neural Network",
         "type": "scatter",
         "uid": "6599ce17-7a5b-4e51-970c-265d84573cc6",
         "x": [
          "accuracy",
          "FPR",
          "FNR",
          "auc"
         ],
         "y": [
          0.9542441736155656,
          0.015278647463994991,
          0.22352081811541272,
          0.8785650871132094
         ]
        }
       ],
       "layout": {
        "title": "Result comparision for Features selected in Section 1",
        "yaxis": {
         "dtick": 0.05,
         "tick0": 0
        }
       }
      },
      "text/html": [
       "<div id=\"ff10e83a-72f5-478f-ac97-cff28782bdce\" style=\"height: 525px; width: 100%;\" class=\"plotly-graph-div\"></div><script type=\"text/javascript\">require([\"plotly\"], function(Plotly) { window.PLOTLYENV=window.PLOTLYENV || {};window.PLOTLYENV.BASE_URL=\"https://plot.ly\";Plotly.newPlot(\"ff10e83a-72f5-478f-ac97-cff28782bdce\", [{\"mode\": \"lines\", \"name\": \"KNN_model\", \"x\": [\"accuracy\", \"FPR\", \"FNR\", \"auc\"], \"y\": [0.9514646140688475, 0.018910457107075767, 0.22132943754565376, 0.8798800526736352], \"type\": \"scatter\", \"uid\": \"8d8775de-09d4-4833-b1fc-22337d052c81\"}, {\"mode\": \"lines+markers\", \"name\": \"Logistic Regression\", \"x\": [\"accuracy\", \"FPR\", \"FNR\", \"auc\"], \"y\": [0.9355355997434253, 0.01966186599874765, 0.32578524470416365, 0.8272764446485443], \"type\": \"scatter\", \"uid\": \"ba0cb73f-7b5b-4930-90b4-8fee48d6fa02\"}, {\"marker\": {\"symbol\": \"x\"}, \"mode\": \"lines+markers\", \"name\": \"Random Forest\", \"x\": [\"accuracy\", \"FPR\", \"FNR\", \"auc\"], \"y\": [0.9501817404319008, 0.020914214151534126, 0.21840759678597516, 0.8803390945312453], \"type\": \"scatter\", \"uid\": \"7d439c33-50bd-4dff-8fef-c1b3e1b47e09\"}, {\"mode\": \"lines\", \"name\": \"Ada Boost\", \"x\": [\"accuracy\", \"FPR\", \"FNR\", \"auc\"], \"y\": [0.9319007911054095, 0.025798371947401377, 0.3148283418553689, 0.8296866430986148], \"type\": \"scatter\", \"uid\": \"f4b1e5a4-a9cd-4f0e-a87a-f897b872c8a3\"}, {\"mode\": \"lines+markers\", \"name\": \"GradientBoosting\", \"x\": [\"accuracy\", \"FPR\", \"FNR\", \"auc\"], \"y\": [0.9472952747487706, 0.021289918597370068, 0.23593864134404674, 0.8713857200292916], \"type\": \"scatter\", \"uid\": \"9a26b58d-fe49-4fb7-8999-dd43f81bc876\"}, {\"marker\": {\"symbol\": \"x\"}, \"mode\": \"lines+markers\", \"name\": \"ExtraTree Classifier\", \"x\": [\"accuracy\", \"FPR\", \"FNR\", \"auc\"], \"y\": [0.9498610220226641, 0.018910457107075767, 0.2322863403944485, 0.8744016012492379], \"type\": \"scatter\", \"uid\": \"035544c5-3ac6-4682-a161-e5ac26442eb6\"}, {\"marker\": {\"symbol\": \"x\"}, \"mode\": \"lines+markers\", \"name\": \"Bagging\", \"x\": [\"accuracy\", \"FPR\", \"FNR\", \"auc\"], \"y\": [0.9492195852041907, 0.021540388227927365, 0.22132943754565376, 0.8785650871132094], \"type\": \"scatter\", \"uid\": \"09f30403-91d3-40a5-a41b-4ff8501d780b\"}, {\"marker\": {\"symbol\": \"x\"}, \"mode\": \"lines+markers\", \"name\": \"Neural Network\", \"x\": [\"accuracy\", \"FPR\", \"FNR\", \"auc\"], \"y\": [0.9542441736155656, 0.015278647463994991, 0.22352081811541272, 0.8785650871132094], \"type\": \"scatter\", \"uid\": \"6599ce17-7a5b-4e51-970c-265d84573cc6\"}], {\"title\": \"Result comparision for Features selected in Section 1\", \"yaxis\": {\"dtick\": 0.05, \"tick0\": 0}}, {\"showLink\": true, \"linkText\": \"Export to plot.ly\", \"plotlyServerURL\": \"https://plot.ly\"})});</script><script type=\"text/javascript\">window.addEventListener(\"resize\", function(){window._Plotly.Plots.resize(document.getElementById(\"ff10e83a-72f5-478f-ac97-cff28782bdce\"));});</script>"
      ],
      "text/vnd.plotly.v1+html": [
       "<div id=\"ff10e83a-72f5-478f-ac97-cff28782bdce\" style=\"height: 525px; width: 100%;\" class=\"plotly-graph-div\"></div><script type=\"text/javascript\">require([\"plotly\"], function(Plotly) { window.PLOTLYENV=window.PLOTLYENV || {};window.PLOTLYENV.BASE_URL=\"https://plot.ly\";Plotly.newPlot(\"ff10e83a-72f5-478f-ac97-cff28782bdce\", [{\"mode\": \"lines\", \"name\": \"KNN_model\", \"x\": [\"accuracy\", \"FPR\", \"FNR\", \"auc\"], \"y\": [0.9514646140688475, 0.018910457107075767, 0.22132943754565376, 0.8798800526736352], \"type\": \"scatter\", \"uid\": \"8d8775de-09d4-4833-b1fc-22337d052c81\"}, {\"mode\": \"lines+markers\", \"name\": \"Logistic Regression\", \"x\": [\"accuracy\", \"FPR\", \"FNR\", \"auc\"], \"y\": [0.9355355997434253, 0.01966186599874765, 0.32578524470416365, 0.8272764446485443], \"type\": \"scatter\", \"uid\": \"ba0cb73f-7b5b-4930-90b4-8fee48d6fa02\"}, {\"marker\": {\"symbol\": \"x\"}, \"mode\": \"lines+markers\", \"name\": \"Random Forest\", \"x\": [\"accuracy\", \"FPR\", \"FNR\", \"auc\"], \"y\": [0.9501817404319008, 0.020914214151534126, 0.21840759678597516, 0.8803390945312453], \"type\": \"scatter\", \"uid\": \"7d439c33-50bd-4dff-8fef-c1b3e1b47e09\"}, {\"mode\": \"lines\", \"name\": \"Ada Boost\", \"x\": [\"accuracy\", \"FPR\", \"FNR\", \"auc\"], \"y\": [0.9319007911054095, 0.025798371947401377, 0.3148283418553689, 0.8296866430986148], \"type\": \"scatter\", \"uid\": \"f4b1e5a4-a9cd-4f0e-a87a-f897b872c8a3\"}, {\"mode\": \"lines+markers\", \"name\": \"GradientBoosting\", \"x\": [\"accuracy\", \"FPR\", \"FNR\", \"auc\"], \"y\": [0.9472952747487706, 0.021289918597370068, 0.23593864134404674, 0.8713857200292916], \"type\": \"scatter\", \"uid\": \"9a26b58d-fe49-4fb7-8999-dd43f81bc876\"}, {\"marker\": {\"symbol\": \"x\"}, \"mode\": \"lines+markers\", \"name\": \"ExtraTree Classifier\", \"x\": [\"accuracy\", \"FPR\", \"FNR\", \"auc\"], \"y\": [0.9498610220226641, 0.018910457107075767, 0.2322863403944485, 0.8744016012492379], \"type\": \"scatter\", \"uid\": \"035544c5-3ac6-4682-a161-e5ac26442eb6\"}, {\"marker\": {\"symbol\": \"x\"}, \"mode\": \"lines+markers\", \"name\": \"Bagging\", \"x\": [\"accuracy\", \"FPR\", \"FNR\", \"auc\"], \"y\": [0.9492195852041907, 0.021540388227927365, 0.22132943754565376, 0.8785650871132094], \"type\": \"scatter\", \"uid\": \"09f30403-91d3-40a5-a41b-4ff8501d780b\"}, {\"marker\": {\"symbol\": \"x\"}, \"mode\": \"lines+markers\", \"name\": \"Neural Network\", \"x\": [\"accuracy\", \"FPR\", \"FNR\", \"auc\"], \"y\": [0.9542441736155656, 0.015278647463994991, 0.22352081811541272, 0.8785650871132094], \"type\": \"scatter\", \"uid\": \"6599ce17-7a5b-4e51-970c-265d84573cc6\"}], {\"title\": \"Result comparision for Features selected in Section 1\", \"yaxis\": {\"dtick\": 0.05, \"tick0\": 0}}, {\"showLink\": true, \"linkText\": \"Export to plot.ly\", \"plotlyServerURL\": \"https://plot.ly\"})});</script><script type=\"text/javascript\">window.addEventListener(\"resize\", function(){window._Plotly.Plots.resize(document.getElementById(\"ff10e83a-72f5-478f-ac97-cff28782bdce\"));});</script>"
      ]
     },
     "metadata": {},
     "output_type": "display_data"
    }
   ],
   "source": [
    "trace0 = go.Scatter(x=table_80_50_test.iloc[0].index.values[[0,5,6,7]],\n",
    "                    y=table_80_50_test.iloc[0].values[[0,5,6,7]],\n",
    "                    mode = 'lines',\n",
    "                    name = 'KNN_model')\n",
    "\n",
    "trace1 = go.Scatter(x=table_80_50_test.iloc[1].index.values[[0,5,6,7]],\n",
    "                    y=table_80_50_test.iloc[1].values[[0,5,6,7]],\n",
    "                    mode = 'lines+markers',\n",
    "                    name = 'Logistic Regression')\n",
    "\n",
    "trace2 = go.Scatter(x=table_80_50_test.iloc[2].index.values[[0,5,6,7]],\n",
    "                    y=table_80_50_test.iloc[2].values[[0,5,6,7]],\n",
    "                    mode = 'lines+markers',marker=dict(symbol='x'),\n",
    "                    name = 'Random Forest')\n",
    "\n",
    "\n",
    "trace3 = go.Scatter(x=table_80_50_test.iloc[3].index.values[[0,5,6,7]],\n",
    "                    y=table_80_50_test.iloc[3].values[[0,5,6,7]],\n",
    "                    mode = 'lines',\n",
    "                    name = 'Ada Boost')\n",
    "\n",
    "trace4 = go.Scatter(x=table_80_50_test.iloc[4].index.values[[0,5,6,7]],\n",
    "                    y=table_80_50_test.iloc[4].values[[0,5,6,7]],\n",
    "                    mode = 'lines+markers',\n",
    "                    name = 'GradientBoosting')\n",
    "\n",
    "trace5 = go.Scatter(x=table_80_50_test.iloc[5].index.values[[0,5,6,7]],\n",
    "                    y=table_80_50_test.iloc[5].values[[0,5,6,7]],\n",
    "                    mode = 'lines+markers',marker=dict(symbol='x'),\n",
    "                    name = 'ExtraTree Classifier')\n",
    "\n",
    "trace6 = go.Scatter(x=table_80_50_test.iloc[6].index.values[[0,5,6,7]],\n",
    "                    y=table_80_50_test.iloc[6].values[[0,5,6,7]],\n",
    "                    mode = 'lines+markers',marker=dict(symbol='x'),\n",
    "                    name = 'Bagging')\n",
    "\n",
    "trace7 = go.Scatter(x=table_80_50_test.iloc[7].index.values[[0,5,6,7]],\n",
    "                    y=table_80_50_test.iloc[7].values[[0,5,6,7]],\n",
    "                    mode = 'lines+markers',marker=dict(symbol='x'),\n",
    "                    name = 'Neural Network')\n",
    "\n",
    "\n",
    "\n",
    "data = [trace0, trace1, trace2, trace3, trace4, trace5, trace6, trace7]\n",
    "layout = go.Layout(yaxis=dict(tick0=0,dtick=0.05),title='Result comparision for Features selected in Section 1')\n",
    "fig = go.Figure(data=data, layout=layout)\n",
    "\n",
    "iplot(fig, filename='Result')"
   ]
  },
  {
   "cell_type": "code",
   "execution_count": 22,
   "metadata": {},
   "outputs": [
    {
     "name": "stdout",
     "output_type": "stream",
     "text": [
      "Training Results\n"
     ]
    },
    {
     "data": {
      "text/html": [
       "<div>\n",
       "<style scoped>\n",
       "    .dataframe tbody tr th:only-of-type {\n",
       "        vertical-align: middle;\n",
       "    }\n",
       "\n",
       "    .dataframe tbody tr th {\n",
       "        vertical-align: top;\n",
       "    }\n",
       "\n",
       "    .dataframe thead th {\n",
       "        text-align: right;\n",
       "    }\n",
       "</style>\n",
       "<table border=\"1\" class=\"dataframe\">\n",
       "  <thead>\n",
       "    <tr style=\"text-align: right;\">\n",
       "      <th></th>\n",
       "      <th>accuracy</th>\n",
       "      <th>TP</th>\n",
       "      <th>TN</th>\n",
       "      <th>FP</th>\n",
       "      <th>FN</th>\n",
       "      <th>FPR</th>\n",
       "      <th>FNR</th>\n",
       "    </tr>\n",
       "    <tr>\n",
       "      <th>index</th>\n",
       "      <th></th>\n",
       "      <th></th>\n",
       "      <th></th>\n",
       "      <th></th>\n",
       "      <th></th>\n",
       "      <th></th>\n",
       "      <th></th>\n",
       "    </tr>\n",
       "  </thead>\n",
       "  <tbody>\n",
       "    <tr>\n",
       "      <th>KNeighborsClassifier</th>\n",
       "      <td>0.956624</td>\n",
       "      <td>4411.0</td>\n",
       "      <td>31383.0</td>\n",
       "      <td>509.0</td>\n",
       "      <td>1114.0</td>\n",
       "      <td>0.015960</td>\n",
       "      <td>0.201629</td>\n",
       "    </tr>\n",
       "    <tr>\n",
       "      <th>LogisticRegression</th>\n",
       "      <td>0.938183</td>\n",
       "      <td>3814.0</td>\n",
       "      <td>31290.0</td>\n",
       "      <td>602.0</td>\n",
       "      <td>1711.0</td>\n",
       "      <td>0.018876</td>\n",
       "      <td>0.309683</td>\n",
       "    </tr>\n",
       "    <tr>\n",
       "      <th>RandomForestClassifier</th>\n",
       "      <td>0.964000</td>\n",
       "      <td>4533.0</td>\n",
       "      <td>31537.0</td>\n",
       "      <td>355.0</td>\n",
       "      <td>992.0</td>\n",
       "      <td>0.011131</td>\n",
       "      <td>0.179548</td>\n",
       "    </tr>\n",
       "    <tr>\n",
       "      <th>AdaBoostClassifier</th>\n",
       "      <td>0.935885</td>\n",
       "      <td>3836.0</td>\n",
       "      <td>31182.0</td>\n",
       "      <td>710.0</td>\n",
       "      <td>1689.0</td>\n",
       "      <td>0.022263</td>\n",
       "      <td>0.305701</td>\n",
       "    </tr>\n",
       "    <tr>\n",
       "      <th>GradientBoostingClassifier</th>\n",
       "      <td>0.950343</td>\n",
       "      <td>4264.0</td>\n",
       "      <td>31295.0</td>\n",
       "      <td>597.0</td>\n",
       "      <td>1261.0</td>\n",
       "      <td>0.018719</td>\n",
       "      <td>0.228235</td>\n",
       "    </tr>\n",
       "    <tr>\n",
       "      <th>ExtraTreeClassifier</th>\n",
       "      <td>0.964615</td>\n",
       "      <td>4500.0</td>\n",
       "      <td>31593.0</td>\n",
       "      <td>299.0</td>\n",
       "      <td>1025.0</td>\n",
       "      <td>0.009375</td>\n",
       "      <td>0.185520</td>\n",
       "    </tr>\n",
       "    <tr>\n",
       "      <th>BaggingClassifier</th>\n",
       "      <td>0.963760</td>\n",
       "      <td>4562.0</td>\n",
       "      <td>31499.0</td>\n",
       "      <td>393.0</td>\n",
       "      <td>963.0</td>\n",
       "      <td>0.012323</td>\n",
       "      <td>0.174299</td>\n",
       "    </tr>\n",
       "    <tr>\n",
       "      <th>Neural Network-1</th>\n",
       "      <td>0.958040</td>\n",
       "      <td>4373.0</td>\n",
       "      <td>31474.0</td>\n",
       "      <td>418.0</td>\n",
       "      <td>1152.0</td>\n",
       "      <td>0.013107</td>\n",
       "      <td>0.208507</td>\n",
       "    </tr>\n",
       "  </tbody>\n",
       "</table>\n",
       "</div>"
      ],
      "text/plain": [
       "                            accuracy      TP       TN     FP      FN  \\\n",
       "index                                                                  \n",
       "KNeighborsClassifier        0.956624  4411.0  31383.0  509.0  1114.0   \n",
       "LogisticRegression          0.938183  3814.0  31290.0  602.0  1711.0   \n",
       "RandomForestClassifier      0.964000  4533.0  31537.0  355.0   992.0   \n",
       "AdaBoostClassifier          0.935885  3836.0  31182.0  710.0  1689.0   \n",
       "GradientBoostingClassifier  0.950343  4264.0  31295.0  597.0  1261.0   \n",
       "ExtraTreeClassifier         0.964615  4500.0  31593.0  299.0  1025.0   \n",
       "BaggingClassifier           0.963760  4562.0  31499.0  393.0   963.0   \n",
       "Neural Network-1            0.958040  4373.0  31474.0  418.0  1152.0   \n",
       "\n",
       "                                 FPR       FNR  \n",
       "index                                           \n",
       "KNeighborsClassifier        0.015960  0.201629  \n",
       "LogisticRegression          0.018876  0.309683  \n",
       "RandomForestClassifier      0.011131  0.179548  \n",
       "AdaBoostClassifier          0.022263  0.305701  \n",
       "GradientBoostingClassifier  0.018719  0.228235  \n",
       "ExtraTreeClassifier         0.009375  0.185520  \n",
       "BaggingClassifier           0.012323  0.174299  \n",
       "Neural Network-1            0.013107  0.208507  "
      ]
     },
     "metadata": {},
     "output_type": "display_data"
    },
    {
     "name": "stdout",
     "output_type": "stream",
     "text": [
      "Test Results\n"
     ]
    },
    {
     "data": {
      "text/html": [
       "<div>\n",
       "<style scoped>\n",
       "    .dataframe tbody tr th:only-of-type {\n",
       "        vertical-align: middle;\n",
       "    }\n",
       "\n",
       "    .dataframe tbody tr th {\n",
       "        vertical-align: top;\n",
       "    }\n",
       "\n",
       "    .dataframe thead th {\n",
       "        text-align: right;\n",
       "    }\n",
       "</style>\n",
       "<table border=\"1\" class=\"dataframe\">\n",
       "  <thead>\n",
       "    <tr style=\"text-align: right;\">\n",
       "      <th></th>\n",
       "      <th>accuracy</th>\n",
       "      <th>TP</th>\n",
       "      <th>TN</th>\n",
       "      <th>FP</th>\n",
       "      <th>FN</th>\n",
       "      <th>FPR</th>\n",
       "      <th>FNR</th>\n",
       "      <th>auc</th>\n",
       "      <th>MCC</th>\n",
       "    </tr>\n",
       "    <tr>\n",
       "      <th>index</th>\n",
       "      <th></th>\n",
       "      <th></th>\n",
       "      <th></th>\n",
       "      <th></th>\n",
       "      <th></th>\n",
       "      <th></th>\n",
       "      <th></th>\n",
       "      <th></th>\n",
       "      <th></th>\n",
       "    </tr>\n",
       "  </thead>\n",
       "  <tbody>\n",
       "    <tr>\n",
       "      <th>KNeighborsClassifier</th>\n",
       "      <td>0.951465</td>\n",
       "      <td>1066.0</td>\n",
       "      <td>7834.0</td>\n",
       "      <td>151.0</td>\n",
       "      <td>303.0</td>\n",
       "      <td>0.018910</td>\n",
       "      <td>0.221329</td>\n",
       "      <td>0.879880</td>\n",
       "      <td>0.798249</td>\n",
       "    </tr>\n",
       "    <tr>\n",
       "      <th>LogisticRegression</th>\n",
       "      <td>0.935536</td>\n",
       "      <td>923.0</td>\n",
       "      <td>7828.0</td>\n",
       "      <td>157.0</td>\n",
       "      <td>446.0</td>\n",
       "      <td>0.019662</td>\n",
       "      <td>0.325785</td>\n",
       "      <td>0.827276</td>\n",
       "      <td>0.723960</td>\n",
       "    </tr>\n",
       "    <tr>\n",
       "      <th>RandomForestClassifier</th>\n",
       "      <td>0.950182</td>\n",
       "      <td>1070.0</td>\n",
       "      <td>7818.0</td>\n",
       "      <td>167.0</td>\n",
       "      <td>299.0</td>\n",
       "      <td>0.020914</td>\n",
       "      <td>0.218408</td>\n",
       "      <td>0.880339</td>\n",
       "      <td>0.793702</td>\n",
       "    </tr>\n",
       "    <tr>\n",
       "      <th>AdaBoostClassifier</th>\n",
       "      <td>0.931901</td>\n",
       "      <td>938.0</td>\n",
       "      <td>7779.0</td>\n",
       "      <td>206.0</td>\n",
       "      <td>431.0</td>\n",
       "      <td>0.025798</td>\n",
       "      <td>0.314828</td>\n",
       "      <td>0.829687</td>\n",
       "      <td>0.711354</td>\n",
       "    </tr>\n",
       "    <tr>\n",
       "      <th>GradientBoostingClassifier</th>\n",
       "      <td>0.947295</td>\n",
       "      <td>1046.0</td>\n",
       "      <td>7815.0</td>\n",
       "      <td>170.0</td>\n",
       "      <td>323.0</td>\n",
       "      <td>0.021290</td>\n",
       "      <td>0.235939</td>\n",
       "      <td>0.871386</td>\n",
       "      <td>0.780672</td>\n",
       "    </tr>\n",
       "    <tr>\n",
       "      <th>ExtraTreeClassifier</th>\n",
       "      <td>0.949861</td>\n",
       "      <td>1051.0</td>\n",
       "      <td>7834.0</td>\n",
       "      <td>151.0</td>\n",
       "      <td>318.0</td>\n",
       "      <td>0.018910</td>\n",
       "      <td>0.232286</td>\n",
       "      <td>0.874402</td>\n",
       "      <td>0.790902</td>\n",
       "    </tr>\n",
       "    <tr>\n",
       "      <th>BaggingClassifier</th>\n",
       "      <td>0.949220</td>\n",
       "      <td>1066.0</td>\n",
       "      <td>7813.0</td>\n",
       "      <td>172.0</td>\n",
       "      <td>303.0</td>\n",
       "      <td>0.021540</td>\n",
       "      <td>0.221329</td>\n",
       "      <td>0.878565</td>\n",
       "      <td>0.789730</td>\n",
       "    </tr>\n",
       "    <tr>\n",
       "      <th>Neural Network-1</th>\n",
       "      <td>0.954244</td>\n",
       "      <td>1063.0</td>\n",
       "      <td>7863.0</td>\n",
       "      <td>122.0</td>\n",
       "      <td>306.0</td>\n",
       "      <td>0.015279</td>\n",
       "      <td>0.223521</td>\n",
       "      <td>0.878565</td>\n",
       "      <td>0.808900</td>\n",
       "    </tr>\n",
       "  </tbody>\n",
       "</table>\n",
       "</div>"
      ],
      "text/plain": [
       "                            accuracy      TP      TN     FP     FN       FPR  \\\n",
       "index                                                                          \n",
       "KNeighborsClassifier        0.951465  1066.0  7834.0  151.0  303.0  0.018910   \n",
       "LogisticRegression          0.935536   923.0  7828.0  157.0  446.0  0.019662   \n",
       "RandomForestClassifier      0.950182  1070.0  7818.0  167.0  299.0  0.020914   \n",
       "AdaBoostClassifier          0.931901   938.0  7779.0  206.0  431.0  0.025798   \n",
       "GradientBoostingClassifier  0.947295  1046.0  7815.0  170.0  323.0  0.021290   \n",
       "ExtraTreeClassifier         0.949861  1051.0  7834.0  151.0  318.0  0.018910   \n",
       "BaggingClassifier           0.949220  1066.0  7813.0  172.0  303.0  0.021540   \n",
       "Neural Network-1            0.954244  1063.0  7863.0  122.0  306.0  0.015279   \n",
       "\n",
       "                                 FNR       auc       MCC  \n",
       "index                                                     \n",
       "KNeighborsClassifier        0.221329  0.879880  0.798249  \n",
       "LogisticRegression          0.325785  0.827276  0.723960  \n",
       "RandomForestClassifier      0.218408  0.880339  0.793702  \n",
       "AdaBoostClassifier          0.314828  0.829687  0.711354  \n",
       "GradientBoostingClassifier  0.235939  0.871386  0.780672  \n",
       "ExtraTreeClassifier         0.232286  0.874402  0.790902  \n",
       "BaggingClassifier           0.221329  0.878565  0.789730  \n",
       "Neural Network-1            0.223521  0.878565  0.808900  "
      ]
     },
     "metadata": {},
     "output_type": "display_data"
    }
   ],
   "source": [
    "table_80_50_train['index']=ind_columns\n",
    "table_80_50_test['index']=ind_columns\n",
    "\n",
    "\n",
    "table_80_50_test.set_index(['index'],drop=True,inplace=True)\n",
    "table_80_50_train.set_index(['index'],drop=True,inplace=True)\n",
    "\n",
    "print(\"Training Results\")\n",
    "display(table_80_50_train)\n",
    "print(\"Test Results\")\n",
    "display(table_80_50_test)"
   ]
  },
  {
   "cell_type": "markdown",
   "metadata": {},
   "source": [
    "### <a id='1.B' style=\"text-decoration : none; color : #000000;\"> B. Average Feature Importances</a>"
   ]
  },
  {
   "cell_type": "code",
   "execution_count": 23,
   "metadata": {},
   "outputs": [
    {
     "data": {
      "application/vnd.plotly.v1+json": {
       "config": {
        "linkText": "Export to plot.ly",
        "plotlyServerURL": "https://plot.ly",
        "showLink": true
       },
       "data": [
        {
         "marker": {
          "color": "rgb(158,202,225)",
          "line": {
           "color": "rgb(8,48,107)",
           "width": 1.5
          }
         },
         "opacity": 0.6,
         "orientation": "h",
         "text": [
          0.2148,
          0.1994,
          0.1323,
          0.0665,
          0.0556,
          0.0533,
          0.0532,
          0.0504,
          0.0455,
          0.0358,
          0.0315,
          0.0314,
          0.0167,
          0.0119,
          0.0008,
          0.0008,
          0.0001,
          0.0001,
          0.0001,
          0,
          0,
          0
         ],
         "textposition": "outside",
         "type": "bar",
         "uid": "fd93623e-24b0-4d86-9f3b-c1b100ce6529",
         "x": [
          0.21478216670790815,
          0.19935878382413003,
          0.1322736991491122,
          0.06647983022068234,
          0.055642781805612565,
          0.05334587795930191,
          0.053180400370035213,
          0.0504395648901254,
          0.04546705260600687,
          0.03578088682269881,
          0.0314718263449945,
          0.03143403113901464,
          0.01666229373828424,
          0.011868721272179845,
          0.0008104396095023741,
          0.0007605348511618683,
          0.00011177101335227253,
          6.90949052429899e-05,
          5.058305158434037e-05,
          7.763746194095087e-06,
          1.895972875350708e-06,
          0
         ],
         "y": [
          "url_length",
          "url_extensions",
          "url_char_.",
          "url_number_consonants",
          "url_tlds",
          "url_char_/",
          "url_number_special_chars/url_length",
          "url_number_consonants/url_length",
          "url_number_vowels/url_length",
          "url_number_special_chars",
          "url_number_vowels",
          "url_number_digits",
          "url_number_digits/url_length",
          "url_char_-",
          "url_char_?",
          "url_port",
          "url_char_+",
          "url_char__",
          "url_char_:",
          "url_char_%",
          "url_char_=",
          "url_char_&"
         ]
        }
       ],
       "layout": {
        "autosize": false,
        "height": 1000,
        "width": 1000,
        "xaxis": {
         "tickfont": {
          "color": "black",
          "size": 12
         },
         "title": "Feature Importances"
        },
        "yaxis": {
         "automargin": true
        }
       }
      },
      "text/html": [
       "<div id=\"b8c64a98-db7e-416b-9691-21f5c93b0a91\" style=\"height: 1000px; width: 1000px;\" class=\"plotly-graph-div\"></div><script type=\"text/javascript\">require([\"plotly\"], function(Plotly) { window.PLOTLYENV=window.PLOTLYENV || {};window.PLOTLYENV.BASE_URL=\"https://plot.ly\";Plotly.newPlot(\"b8c64a98-db7e-416b-9691-21f5c93b0a91\", [{\"marker\": {\"color\": \"rgb(158,202,225)\", \"line\": {\"color\": \"rgb(8,48,107)\", \"width\": 1.5}}, \"opacity\": 0.6, \"orientation\": \"h\", \"text\": [0.2148, 0.1994, 0.1323, 0.0665, 0.0556, 0.0533, 0.0532, 0.0504, 0.0455, 0.0358, 0.0315, 0.0314, 0.0167, 0.0119, 0.0008, 0.0008, 0.0001, 0.0001, 0.0001, 0.0, 0.0, 0.0], \"textposition\": \"outside\", \"x\": [0.21478216670790815, 0.19935878382413003, 0.1322736991491122, 0.06647983022068234, 0.055642781805612565, 0.05334587795930191, 0.053180400370035213, 0.0504395648901254, 0.04546705260600687, 0.03578088682269881, 0.0314718263449945, 0.03143403113901464, 0.01666229373828424, 0.011868721272179845, 0.0008104396095023741, 0.0007605348511618683, 0.00011177101335227253, 6.90949052429899e-05, 5.058305158434037e-05, 7.763746194095087e-06, 1.895972875350708e-06, 0.0], \"y\": [\"url_length\", \"url_extensions\", \"url_char_.\", \"url_number_consonants\", \"url_tlds\", \"url_char_/\", \"url_number_special_chars/url_length\", \"url_number_consonants/url_length\", \"url_number_vowels/url_length\", \"url_number_special_chars\", \"url_number_vowels\", \"url_number_digits\", \"url_number_digits/url_length\", \"url_char_-\", \"url_char_?\", \"url_port\", \"url_char_+\", \"url_char__\", \"url_char_:\", \"url_char_%\", \"url_char_=\", \"url_char_&\"], \"type\": \"bar\", \"uid\": \"fd93623e-24b0-4d86-9f3b-c1b100ce6529\"}], {\"autosize\": false, \"height\": 1000, \"width\": 1000, \"xaxis\": {\"tickfont\": {\"color\": \"black\", \"size\": 12}, \"title\": \"Feature Importances\"}, \"yaxis\": {\"automargin\": true}}, {\"showLink\": true, \"linkText\": \"Export to plot.ly\", \"plotlyServerURL\": \"https://plot.ly\"})});</script>"
      ],
      "text/vnd.plotly.v1+html": [
       "<div id=\"b8c64a98-db7e-416b-9691-21f5c93b0a91\" style=\"height: 1000px; width: 1000px;\" class=\"plotly-graph-div\"></div><script type=\"text/javascript\">require([\"plotly\"], function(Plotly) { window.PLOTLYENV=window.PLOTLYENV || {};window.PLOTLYENV.BASE_URL=\"https://plot.ly\";Plotly.newPlot(\"b8c64a98-db7e-416b-9691-21f5c93b0a91\", [{\"marker\": {\"color\": \"rgb(158,202,225)\", \"line\": {\"color\": \"rgb(8,48,107)\", \"width\": 1.5}}, \"opacity\": 0.6, \"orientation\": \"h\", \"text\": [0.2148, 0.1994, 0.1323, 0.0665, 0.0556, 0.0533, 0.0532, 0.0504, 0.0455, 0.0358, 0.0315, 0.0314, 0.0167, 0.0119, 0.0008, 0.0008, 0.0001, 0.0001, 0.0001, 0.0, 0.0, 0.0], \"textposition\": \"outside\", \"x\": [0.21478216670790815, 0.19935878382413003, 0.1322736991491122, 0.06647983022068234, 0.055642781805612565, 0.05334587795930191, 0.053180400370035213, 0.0504395648901254, 0.04546705260600687, 0.03578088682269881, 0.0314718263449945, 0.03143403113901464, 0.01666229373828424, 0.011868721272179845, 0.0008104396095023741, 0.0007605348511618683, 0.00011177101335227253, 6.90949052429899e-05, 5.058305158434037e-05, 7.763746194095087e-06, 1.895972875350708e-06, 0.0], \"y\": [\"url_length\", \"url_extensions\", \"url_char_.\", \"url_number_consonants\", \"url_tlds\", \"url_char_/\", \"url_number_special_chars/url_length\", \"url_number_consonants/url_length\", \"url_number_vowels/url_length\", \"url_number_special_chars\", \"url_number_vowels\", \"url_number_digits\", \"url_number_digits/url_length\", \"url_char_-\", \"url_char_?\", \"url_port\", \"url_char_+\", \"url_char__\", \"url_char_:\", \"url_char_%\", \"url_char_=\", \"url_char_&\"], \"type\": \"bar\", \"uid\": \"fd93623e-24b0-4d86-9f3b-c1b100ce6529\"}], {\"autosize\": false, \"height\": 1000, \"width\": 1000, \"xaxis\": {\"tickfont\": {\"color\": \"black\", \"size\": 12}, \"title\": \"Feature Importances\"}, \"yaxis\": {\"automargin\": true}}, {\"showLink\": true, \"linkText\": \"Export to plot.ly\", \"plotlyServerURL\": \"https://plot.ly\"})});</script>"
      ]
     },
     "metadata": {},
     "output_type": "display_data"
    }
   ],
   "source": [
    "feat_impt_plot(np.average(feat_imp,axis=0),columns)"
   ]
  },
  {
   "cell_type": "markdown",
   "metadata": {},
   "source": [
    "### <a id='2' style=\"text-decoration : none; color : #000000;\"> 2. OverSampling </a>"
   ]
  },
  {
   "cell_type": "code",
   "execution_count": 24,
   "metadata": {},
   "outputs": [
    {
     "name": "stderr",
     "output_type": "stream",
     "text": [
      "/nethomes/darshan/anaconda3/lib/python3.6/site-packages/sklearn/utils/deprecation.py:77: DeprecationWarning:\n",
      "\n",
      "Function _ratio_float is deprecated; Use a float for 'ratio' is deprecated from version 0.2. The support will be removed in 0.4. Use a dict, str, or a callable instead.\n",
      "\n"
     ]
    }
   ],
   "source": [
    "sm = SMOTE(random_state=12, ratio = 1.0)\n",
    "X_train, Y_train = sm.fit_sample(scaled_X_train,train_Y)"
   ]
  },
  {
   "cell_type": "code",
   "execution_count": 25,
   "metadata": {
    "collapsed": true
   },
   "outputs": [],
   "source": [
    "## Table to store training and test measures so we can compare later\n",
    "table_80_80_train=pd.DataFrame(columns=['accuracy','TP','TN','FP','FN','FPR','FNR'])\n",
    "table_80_80_test=pd.DataFrame(columns=['accuracy','TP','TN','FP','FN','FPR','FNR','auc','mcc'])"
   ]
  },
  {
   "cell_type": "code",
   "execution_count": 26,
   "metadata": {
    "scrolled": false
   },
   "outputs": [
    {
     "name": "stdout",
     "output_type": "stream",
     "text": [
      "\u001b[1mK-Nearest Neighbors\u001b[0m\n",
      "Accuracy of the model for training data is: 0.924071867553\n",
      "Confusion Matrix for training data is:\n"
     ]
    },
    {
     "data": {
      "text/plain": [
       "Predicted  False   True  __all__\n",
       "Actual                          \n",
       "False      31143    749    31892\n",
       "True        4094  27798    31892\n",
       "__all__    35237  28547    63784"
      ]
     },
     "metadata": {},
     "output_type": "display_data"
    },
    {
     "name": "stdout",
     "output_type": "stream",
     "text": [
      "Accuracy of the model for test data is: 0.947722899294\n",
      "Confusion Matrix for test data is:\n"
     ]
    },
    {
     "data": {
      "text/plain": [
       "Predicted  False  True  __all__\n",
       "Actual                         \n",
       "False       7753   232     7985\n",
       "True         257  1112     1369\n",
       "__all__     8010  1344     9354"
      ]
     },
     "metadata": {},
     "output_type": "display_data"
    },
    {
     "name": "stdout",
     "output_type": "stream",
     "text": [
      "\n",
      "\n",
      "\u001b[1mLogistic Regression\u001b[0m\n",
      "Accuracy of the model for training data is: 0.879327103976\n",
      "Confusion Matrix for training data is:\n"
     ]
    },
    {
     "data": {
      "text/plain": [
       "Predicted  False   True  __all__\n",
       "Actual                          \n",
       "False      29602   2290    31892\n",
       "True        5407  26485    31892\n",
       "__all__    35009  28775    63784"
      ]
     },
     "metadata": {},
     "output_type": "display_data"
    },
    {
     "name": "stdout",
     "output_type": "stream",
     "text": [
      "Accuracy of the model for test data is: 0.910840282232\n",
      "Confusion Matrix for test data is:\n"
     ]
    },
    {
     "data": {
      "text/plain": [
       "Predicted  False  True  __all__\n",
       "Actual                         \n",
       "False       7382   603     7985\n",
       "True         231  1138     1369\n",
       "__all__     7613  1741     9354"
      ]
     },
     "metadata": {},
     "output_type": "display_data"
    },
    {
     "name": "stdout",
     "output_type": "stream",
     "text": [
      "\n",
      "\n",
      "\u001b[1mRandomForest Classifier\u001b[0m\n",
      "Accuracy of the model for training data is: 0.949626865672\n",
      "Confusion Matrix for training data is:\n"
     ]
    },
    {
     "data": {
      "text/plain": [
       "Predicted  False   True  __all__\n",
       "Actual                          \n",
       "False      31186    706    31892\n",
       "True        2507  29385    31892\n",
       "__all__    33693  30091    63784"
      ]
     },
     "metadata": {},
     "output_type": "display_data"
    },
    {
     "name": "stdout",
     "output_type": "stream",
     "text": [
      "Accuracy of the model for test data is: 0.946867650203\n",
      "Confusion Matrix for test data is:\n"
     ]
    },
    {
     "data": {
      "text/plain": [
       "Predicted  False  True  __all__\n",
       "Actual                         \n",
       "False       7732   253     7985\n",
       "True         244  1125     1369\n",
       "__all__     7976  1378     9354"
      ]
     },
     "metadata": {},
     "output_type": "display_data"
    },
    {
     "data": {
      "application/vnd.plotly.v1+json": {
       "config": {
        "linkText": "Export to plot.ly",
        "plotlyServerURL": "https://plot.ly",
        "showLink": true
       },
       "data": [
        {
         "marker": {
          "color": "rgb(158,202,225)",
          "line": {
           "color": "rgb(8,48,107)",
           "width": 1.5
          }
         },
         "opacity": 0.6,
         "orientation": "h",
         "text": [
          0.23,
          0.1795,
          0.1627,
          0.1021,
          0.0479,
          0.0437,
          0.0381,
          0.0377,
          0.0372,
          0.0339,
          0.0338,
          0.0247,
          0.02,
          0.0087,
          0,
          0,
          0,
          0,
          0,
          0,
          0,
          0
         ],
         "textposition": "outside",
         "type": "bar",
         "uid": "691e9583-8398-4e8e-b285-eaab80f4cdfa",
         "x": [
          0.23002520225427778,
          0.1794522351055173,
          0.16265261529125277,
          0.1021250035988498,
          0.04787985775524056,
          0.0436941922417068,
          0.03808202595088653,
          0.03772943680384984,
          0.037234732607071046,
          0.03388738986670397,
          0.03377936176336506,
          0.024663396248336692,
          0.020040798542542256,
          0.008742811168534462,
          8.273117781451696e-06,
          1.3089335671251288e-06,
          1.0446286238351362e-06,
          3.141218927780438e-07,
          0,
          0,
          0,
          0
         ],
         "y": [
          "url_extensions",
          "url_length",
          "url_number_consonants",
          "url_number_special_chars",
          "url_number_special_chars/url_length",
          "url_number_vowels",
          "url_number_vowels/url_length",
          "url_number_digits/url_length",
          "url_number_digits",
          "url_tlds",
          "url_char_.",
          "url_number_consonants/url_length",
          "url_char_/",
          "url_char_-",
          "url_port",
          "url_char_:",
          "url_char__",
          "url_char_?",
          "url_char_=",
          "url_char_&",
          "url_char_+",
          "url_char_%"
         ]
        }
       ],
       "layout": {
        "autosize": false,
        "height": 1000,
        "width": 1000,
        "xaxis": {
         "tickfont": {
          "color": "black",
          "size": 12
         },
         "title": "Feature Importances"
        },
        "yaxis": {
         "automargin": true
        }
       }
      },
      "text/html": [
       "<div id=\"94573f79-11d5-4cdb-90ca-9b0b6a6f2bc8\" style=\"height: 1000px; width: 1000px;\" class=\"plotly-graph-div\"></div><script type=\"text/javascript\">require([\"plotly\"], function(Plotly) { window.PLOTLYENV=window.PLOTLYENV || {};window.PLOTLYENV.BASE_URL=\"https://plot.ly\";Plotly.newPlot(\"94573f79-11d5-4cdb-90ca-9b0b6a6f2bc8\", [{\"marker\": {\"color\": \"rgb(158,202,225)\", \"line\": {\"color\": \"rgb(8,48,107)\", \"width\": 1.5}}, \"opacity\": 0.6, \"orientation\": \"h\", \"text\": [0.23, 0.1795, 0.1627, 0.1021, 0.0479, 0.0437, 0.0381, 0.0377, 0.0372, 0.0339, 0.0338, 0.0247, 0.02, 0.0087, 0.0, 0.0, 0.0, 0.0, 0.0, 0.0, 0.0, 0.0], \"textposition\": \"outside\", \"x\": [0.23002520225427778, 0.1794522351055173, 0.16265261529125277, 0.1021250035988498, 0.04787985775524056, 0.0436941922417068, 0.03808202595088653, 0.03772943680384984, 0.037234732607071046, 0.03388738986670397, 0.03377936176336506, 0.024663396248336692, 0.020040798542542256, 0.008742811168534462, 8.273117781451696e-06, 1.3089335671251288e-06, 1.0446286238351362e-06, 3.141218927780438e-07, 0.0, 0.0, 0.0, 0.0], \"y\": [\"url_extensions\", \"url_length\", \"url_number_consonants\", \"url_number_special_chars\", \"url_number_special_chars/url_length\", \"url_number_vowels\", \"url_number_vowels/url_length\", \"url_number_digits/url_length\", \"url_number_digits\", \"url_tlds\", \"url_char_.\", \"url_number_consonants/url_length\", \"url_char_/\", \"url_char_-\", \"url_port\", \"url_char_:\", \"url_char__\", \"url_char_?\", \"url_char_=\", \"url_char_&\", \"url_char_+\", \"url_char_%\"], \"type\": \"bar\", \"uid\": \"691e9583-8398-4e8e-b285-eaab80f4cdfa\"}], {\"autosize\": false, \"height\": 1000, \"width\": 1000, \"xaxis\": {\"tickfont\": {\"color\": \"black\", \"size\": 12}, \"title\": \"Feature Importances\"}, \"yaxis\": {\"automargin\": true}}, {\"showLink\": true, \"linkText\": \"Export to plot.ly\", \"plotlyServerURL\": \"https://plot.ly\"})});</script>"
      ],
      "text/vnd.plotly.v1+html": [
       "<div id=\"94573f79-11d5-4cdb-90ca-9b0b6a6f2bc8\" style=\"height: 1000px; width: 1000px;\" class=\"plotly-graph-div\"></div><script type=\"text/javascript\">require([\"plotly\"], function(Plotly) { window.PLOTLYENV=window.PLOTLYENV || {};window.PLOTLYENV.BASE_URL=\"https://plot.ly\";Plotly.newPlot(\"94573f79-11d5-4cdb-90ca-9b0b6a6f2bc8\", [{\"marker\": {\"color\": \"rgb(158,202,225)\", \"line\": {\"color\": \"rgb(8,48,107)\", \"width\": 1.5}}, \"opacity\": 0.6, \"orientation\": \"h\", \"text\": [0.23, 0.1795, 0.1627, 0.1021, 0.0479, 0.0437, 0.0381, 0.0377, 0.0372, 0.0339, 0.0338, 0.0247, 0.02, 0.0087, 0.0, 0.0, 0.0, 0.0, 0.0, 0.0, 0.0, 0.0], \"textposition\": \"outside\", \"x\": [0.23002520225427778, 0.1794522351055173, 0.16265261529125277, 0.1021250035988498, 0.04787985775524056, 0.0436941922417068, 0.03808202595088653, 0.03772943680384984, 0.037234732607071046, 0.03388738986670397, 0.03377936176336506, 0.024663396248336692, 0.020040798542542256, 0.008742811168534462, 8.273117781451696e-06, 1.3089335671251288e-06, 1.0446286238351362e-06, 3.141218927780438e-07, 0.0, 0.0, 0.0, 0.0], \"y\": [\"url_extensions\", \"url_length\", \"url_number_consonants\", \"url_number_special_chars\", \"url_number_special_chars/url_length\", \"url_number_vowels\", \"url_number_vowels/url_length\", \"url_number_digits/url_length\", \"url_number_digits\", \"url_tlds\", \"url_char_.\", \"url_number_consonants/url_length\", \"url_char_/\", \"url_char_-\", \"url_port\", \"url_char_:\", \"url_char__\", \"url_char_?\", \"url_char_=\", \"url_char_&\", \"url_char_+\", \"url_char_%\"], \"type\": \"bar\", \"uid\": \"691e9583-8398-4e8e-b285-eaab80f4cdfa\"}], {\"autosize\": false, \"height\": 1000, \"width\": 1000, \"xaxis\": {\"tickfont\": {\"color\": \"black\", \"size\": 12}, \"title\": \"Feature Importances\"}, \"yaxis\": {\"automargin\": true}}, {\"showLink\": true, \"linkText\": \"Export to plot.ly\", \"plotlyServerURL\": \"https://plot.ly\"})});</script>"
      ]
     },
     "metadata": {},
     "output_type": "display_data"
    },
    {
     "name": "stdout",
     "output_type": "stream",
     "text": [
      "\n",
      "\n",
      "\u001b[1mAdaoost Classifier\u001b[0m\n",
      "Accuracy of the model for training data is: 0.893766461809\n",
      "Confusion Matrix for training data is:\n"
     ]
    },
    {
     "data": {
      "text/plain": [
       "Predicted  False   True  __all__\n",
       "Actual                          \n",
       "False      29662   2230    31892\n",
       "True        4546  27346    31892\n",
       "__all__    34208  29576    63784"
      ]
     },
     "metadata": {},
     "output_type": "display_data"
    },
    {
     "name": "stdout",
     "output_type": "stream",
     "text": [
      "Accuracy of the model for test data is: 0.916613213598\n",
      "Confusion Matrix for test data is:\n"
     ]
    },
    {
     "data": {
      "text/plain": [
       "Predicted  False  True  __all__\n",
       "Actual                         \n",
       "False       7409   576     7985\n",
       "True         204  1165     1369\n",
       "__all__     7613  1741     9354"
      ]
     },
     "metadata": {},
     "output_type": "display_data"
    },
    {
     "data": {
      "application/vnd.plotly.v1+json": {
       "config": {
        "linkText": "Export to plot.ly",
        "plotlyServerURL": "https://plot.ly",
        "showLink": true
       },
       "data": [
        {
         "marker": {
          "color": "rgb(158,202,225)",
          "line": {
           "color": "rgb(8,48,107)",
           "width": 1.5
          }
         },
         "opacity": 0.6,
         "orientation": "h",
         "text": [
          0.18,
          0.18,
          0.16,
          0.14,
          0.08,
          0.06,
          0.04,
          0.04,
          0.04,
          0.02,
          0.02,
          0.02,
          0.02,
          0,
          0,
          0,
          0,
          0,
          0,
          0,
          0,
          0
         ],
         "textposition": "outside",
         "type": "bar",
         "uid": "e1ffcf1f-ca5a-46cf-af38-95f80034e085",
         "x": [
          0.18,
          0.18,
          0.16,
          0.14,
          0.08,
          0.06,
          0.04,
          0.04,
          0.04,
          0.02,
          0.02,
          0.02,
          0.02,
          0,
          0,
          0,
          0,
          0,
          0,
          0,
          0,
          0
         ],
         "y": [
          "url_number_consonants",
          "url_length",
          "url_number_special_chars/url_length",
          "url_extensions",
          "url_number_vowels/url_length",
          "url_number_digits",
          "url_char_-",
          "url_char_.",
          "url_tlds",
          "url_number_digits/url_length",
          "url_number_vowels",
          "url_char_/",
          "url_number_consonants/url_length",
          "url_char_%",
          "url_char_&",
          "url_port",
          "url_char__",
          "url_char_?",
          "url_char_=",
          "url_char_:",
          "url_char_+",
          "url_number_special_chars"
         ]
        }
       ],
       "layout": {
        "autosize": false,
        "height": 1000,
        "width": 1000,
        "xaxis": {
         "tickfont": {
          "color": "black",
          "size": 12
         },
         "title": "Feature Importances"
        },
        "yaxis": {
         "automargin": true
        }
       }
      },
      "text/html": [
       "<div id=\"b021cebf-7e95-483d-afcb-76e30908c15b\" style=\"height: 1000px; width: 1000px;\" class=\"plotly-graph-div\"></div><script type=\"text/javascript\">require([\"plotly\"], function(Plotly) { window.PLOTLYENV=window.PLOTLYENV || {};window.PLOTLYENV.BASE_URL=\"https://plot.ly\";Plotly.newPlot(\"b021cebf-7e95-483d-afcb-76e30908c15b\", [{\"marker\": {\"color\": \"rgb(158,202,225)\", \"line\": {\"color\": \"rgb(8,48,107)\", \"width\": 1.5}}, \"opacity\": 0.6, \"orientation\": \"h\", \"text\": [0.18, 0.18, 0.16, 0.14, 0.08, 0.06, 0.04, 0.04, 0.04, 0.02, 0.02, 0.02, 0.02, 0.0, 0.0, 0.0, 0.0, 0.0, 0.0, 0.0, 0.0, 0.0], \"textposition\": \"outside\", \"x\": [0.18, 0.18, 0.16, 0.14, 0.08, 0.06, 0.04, 0.04, 0.04, 0.02, 0.02, 0.02, 0.02, 0.0, 0.0, 0.0, 0.0, 0.0, 0.0, 0.0, 0.0, 0.0], \"y\": [\"url_number_consonants\", \"url_length\", \"url_number_special_chars/url_length\", \"url_extensions\", \"url_number_vowels/url_length\", \"url_number_digits\", \"url_char_-\", \"url_char_.\", \"url_tlds\", \"url_number_digits/url_length\", \"url_number_vowels\", \"url_char_/\", \"url_number_consonants/url_length\", \"url_char_%\", \"url_char_&\", \"url_port\", \"url_char__\", \"url_char_?\", \"url_char_=\", \"url_char_:\", \"url_char_+\", \"url_number_special_chars\"], \"type\": \"bar\", \"uid\": \"e1ffcf1f-ca5a-46cf-af38-95f80034e085\"}], {\"autosize\": false, \"height\": 1000, \"width\": 1000, \"xaxis\": {\"tickfont\": {\"color\": \"black\", \"size\": 12}, \"title\": \"Feature Importances\"}, \"yaxis\": {\"automargin\": true}}, {\"showLink\": true, \"linkText\": \"Export to plot.ly\", \"plotlyServerURL\": \"https://plot.ly\"})});</script>"
      ],
      "text/vnd.plotly.v1+html": [
       "<div id=\"b021cebf-7e95-483d-afcb-76e30908c15b\" style=\"height: 1000px; width: 1000px;\" class=\"plotly-graph-div\"></div><script type=\"text/javascript\">require([\"plotly\"], function(Plotly) { window.PLOTLYENV=window.PLOTLYENV || {};window.PLOTLYENV.BASE_URL=\"https://plot.ly\";Plotly.newPlot(\"b021cebf-7e95-483d-afcb-76e30908c15b\", [{\"marker\": {\"color\": \"rgb(158,202,225)\", \"line\": {\"color\": \"rgb(8,48,107)\", \"width\": 1.5}}, \"opacity\": 0.6, \"orientation\": \"h\", \"text\": [0.18, 0.18, 0.16, 0.14, 0.08, 0.06, 0.04, 0.04, 0.04, 0.02, 0.02, 0.02, 0.02, 0.0, 0.0, 0.0, 0.0, 0.0, 0.0, 0.0, 0.0, 0.0], \"textposition\": \"outside\", \"x\": [0.18, 0.18, 0.16, 0.14, 0.08, 0.06, 0.04, 0.04, 0.04, 0.02, 0.02, 0.02, 0.02, 0.0, 0.0, 0.0, 0.0, 0.0, 0.0, 0.0, 0.0, 0.0], \"y\": [\"url_number_consonants\", \"url_length\", \"url_number_special_chars/url_length\", \"url_extensions\", \"url_number_vowels/url_length\", \"url_number_digits\", \"url_char_-\", \"url_char_.\", \"url_tlds\", \"url_number_digits/url_length\", \"url_number_vowels\", \"url_char_/\", \"url_number_consonants/url_length\", \"url_char_%\", \"url_char_&\", \"url_port\", \"url_char__\", \"url_char_?\", \"url_char_=\", \"url_char_:\", \"url_char_+\", \"url_number_special_chars\"], \"type\": \"bar\", \"uid\": \"e1ffcf1f-ca5a-46cf-af38-95f80034e085\"}], {\"autosize\": false, \"height\": 1000, \"width\": 1000, \"xaxis\": {\"tickfont\": {\"color\": \"black\", \"size\": 12}, \"title\": \"Feature Importances\"}, \"yaxis\": {\"automargin\": true}}, {\"showLink\": true, \"linkText\": \"Export to plot.ly\", \"plotlyServerURL\": \"https://plot.ly\"})});</script>"
      ]
     },
     "metadata": {},
     "output_type": "display_data"
    },
    {
     "name": "stdout",
     "output_type": "stream",
     "text": [
      "\n",
      "\n",
      "\u001b[1mGradientBoosting Classifier\u001b[0m\n",
      "Accuracy of the model for training data is: 0.917737990719\n",
      "Confusion Matrix for training data is:\n"
     ]
    },
    {
     "data": {
      "text/plain": [
       "Predicted  False   True  __all__\n",
       "Actual                          \n",
       "False      30319   1573    31892\n",
       "True        3674  28218    31892\n",
       "__all__    33993  29791    63784"
      ]
     },
     "metadata": {},
     "output_type": "display_data"
    },
    {
     "name": "stdout",
     "output_type": "stream",
     "text": [
      "Accuracy of the model for test data is: 0.936070130425\n",
      "Confusion Matrix for test data is:\n"
     ]
    },
    {
     "data": {
      "text/plain": [
       "Predicted  False  True  __all__\n",
       "Actual                         \n",
       "False       7575   410     7985\n",
       "True         188  1181     1369\n",
       "__all__     7763  1591     9354"
      ]
     },
     "metadata": {},
     "output_type": "display_data"
    },
    {
     "data": {
      "application/vnd.plotly.v1+json": {
       "config": {
        "linkText": "Export to plot.ly",
        "plotlyServerURL": "https://plot.ly",
        "showLink": true
       },
       "data": [
        {
         "marker": {
          "color": "rgb(158,202,225)",
          "line": {
           "color": "rgb(8,48,107)",
           "width": 1.5
          }
         },
         "opacity": 0.6,
         "orientation": "h",
         "text": [
          0.539,
          0.2068,
          0.0633,
          0.0396,
          0.0378,
          0.0291,
          0.0277,
          0.019,
          0.0141,
          0.0118,
          0.0079,
          0.0015,
          0.0014,
          0.001,
          0,
          0,
          0,
          0,
          0,
          0,
          0,
          0
         ],
         "textposition": "outside",
         "type": "bar",
         "uid": "c4606055-ff25-4668-b8b6-e5707b7a25b5",
         "x": [
          0.5389689877931938,
          0.20682420068593146,
          0.0632925486711792,
          0.03962278887945404,
          0.0377983424197426,
          0.02913550892794744,
          0.027702249282020083,
          0.018986134057784588,
          0.01408682306677432,
          0.011835358141478956,
          0.007900980916112606,
          0.0014679156019367391,
          0.0013965821384268795,
          0.0009815794180173256,
          0,
          0,
          0,
          0,
          0,
          0,
          0,
          0
         ],
         "y": [
          "url_length",
          "url_extensions",
          "url_number_special_chars",
          "url_char_.",
          "url_char_/",
          "url_number_digits/url_length",
          "url_number_consonants",
          "url_number_vowels/url_length",
          "url_tlds",
          "url_number_digits",
          "url_number_special_chars/url_length",
          "url_char_-",
          "url_number_vowels",
          "url_number_consonants/url_length",
          "url_char_?",
          "url_char__",
          "url_port",
          "url_char_&",
          "url_char_=",
          "url_char_:",
          "url_char_+",
          "url_char_%"
         ]
        }
       ],
       "layout": {
        "autosize": false,
        "height": 1000,
        "width": 1000,
        "xaxis": {
         "tickfont": {
          "color": "black",
          "size": 12
         },
         "title": "Feature Importances"
        },
        "yaxis": {
         "automargin": true
        }
       }
      },
      "text/html": [
       "<div id=\"2944d8ca-75d4-4261-bc0c-336b30e3e21c\" style=\"height: 1000px; width: 1000px;\" class=\"plotly-graph-div\"></div><script type=\"text/javascript\">require([\"plotly\"], function(Plotly) { window.PLOTLYENV=window.PLOTLYENV || {};window.PLOTLYENV.BASE_URL=\"https://plot.ly\";Plotly.newPlot(\"2944d8ca-75d4-4261-bc0c-336b30e3e21c\", [{\"marker\": {\"color\": \"rgb(158,202,225)\", \"line\": {\"color\": \"rgb(8,48,107)\", \"width\": 1.5}}, \"opacity\": 0.6, \"orientation\": \"h\", \"text\": [0.539, 0.2068, 0.0633, 0.0396, 0.0378, 0.0291, 0.0277, 0.019, 0.0141, 0.0118, 0.0079, 0.0015, 0.0014, 0.001, 0.0, 0.0, 0.0, 0.0, 0.0, 0.0, 0.0, 0.0], \"textposition\": \"outside\", \"x\": [0.5389689877931938, 0.20682420068593146, 0.0632925486711792, 0.03962278887945404, 0.0377983424197426, 0.02913550892794744, 0.027702249282020083, 0.018986134057784588, 0.01408682306677432, 0.011835358141478956, 0.007900980916112606, 0.0014679156019367391, 0.0013965821384268795, 0.0009815794180173256, 0.0, 0.0, 0.0, 0.0, 0.0, 0.0, 0.0, 0.0], \"y\": [\"url_length\", \"url_extensions\", \"url_number_special_chars\", \"url_char_.\", \"url_char_/\", \"url_number_digits/url_length\", \"url_number_consonants\", \"url_number_vowels/url_length\", \"url_tlds\", \"url_number_digits\", \"url_number_special_chars/url_length\", \"url_char_-\", \"url_number_vowels\", \"url_number_consonants/url_length\", \"url_char_?\", \"url_char__\", \"url_port\", \"url_char_&\", \"url_char_=\", \"url_char_:\", \"url_char_+\", \"url_char_%\"], \"type\": \"bar\", \"uid\": \"c4606055-ff25-4668-b8b6-e5707b7a25b5\"}], {\"autosize\": false, \"height\": 1000, \"width\": 1000, \"xaxis\": {\"tickfont\": {\"color\": \"black\", \"size\": 12}, \"title\": \"Feature Importances\"}, \"yaxis\": {\"automargin\": true}}, {\"showLink\": true, \"linkText\": \"Export to plot.ly\", \"plotlyServerURL\": \"https://plot.ly\"})});</script>"
      ],
      "text/vnd.plotly.v1+html": [
       "<div id=\"2944d8ca-75d4-4261-bc0c-336b30e3e21c\" style=\"height: 1000px; width: 1000px;\" class=\"plotly-graph-div\"></div><script type=\"text/javascript\">require([\"plotly\"], function(Plotly) { window.PLOTLYENV=window.PLOTLYENV || {};window.PLOTLYENV.BASE_URL=\"https://plot.ly\";Plotly.newPlot(\"2944d8ca-75d4-4261-bc0c-336b30e3e21c\", [{\"marker\": {\"color\": \"rgb(158,202,225)\", \"line\": {\"color\": \"rgb(8,48,107)\", \"width\": 1.5}}, \"opacity\": 0.6, \"orientation\": \"h\", \"text\": [0.539, 0.2068, 0.0633, 0.0396, 0.0378, 0.0291, 0.0277, 0.019, 0.0141, 0.0118, 0.0079, 0.0015, 0.0014, 0.001, 0.0, 0.0, 0.0, 0.0, 0.0, 0.0, 0.0, 0.0], \"textposition\": \"outside\", \"x\": [0.5389689877931938, 0.20682420068593146, 0.0632925486711792, 0.03962278887945404, 0.0377983424197426, 0.02913550892794744, 0.027702249282020083, 0.018986134057784588, 0.01408682306677432, 0.011835358141478956, 0.007900980916112606, 0.0014679156019367391, 0.0013965821384268795, 0.0009815794180173256, 0.0, 0.0, 0.0, 0.0, 0.0, 0.0, 0.0, 0.0], \"y\": [\"url_length\", \"url_extensions\", \"url_number_special_chars\", \"url_char_.\", \"url_char_/\", \"url_number_digits/url_length\", \"url_number_consonants\", \"url_number_vowels/url_length\", \"url_tlds\", \"url_number_digits\", \"url_number_special_chars/url_length\", \"url_char_-\", \"url_number_vowels\", \"url_number_consonants/url_length\", \"url_char_?\", \"url_char__\", \"url_port\", \"url_char_&\", \"url_char_=\", \"url_char_:\", \"url_char_+\", \"url_char_%\"], \"type\": \"bar\", \"uid\": \"c4606055-ff25-4668-b8b6-e5707b7a25b5\"}], {\"autosize\": false, \"height\": 1000, \"width\": 1000, \"xaxis\": {\"tickfont\": {\"color\": \"black\", \"size\": 12}, \"title\": \"Feature Importances\"}, \"yaxis\": {\"automargin\": true}}, {\"showLink\": true, \"linkText\": \"Export to plot.ly\", \"plotlyServerURL\": \"https://plot.ly\"})});</script>"
      ]
     },
     "metadata": {},
     "output_type": "display_data"
    },
    {
     "name": "stdout",
     "output_type": "stream",
     "text": [
      "\n",
      "\n",
      "\u001b[1mExtraTree Classifier\u001b[0m\n",
      "Accuracy of the model for training data is: 0.95009720306\n",
      "Confusion Matrix for training data is:\n"
     ]
    },
    {
     "data": {
      "text/plain": [
       "Predicted  False   True  __all__\n",
       "Actual                          \n",
       "False      31244    648    31892\n",
       "True        2535  29357    31892\n",
       "__all__    33779  30005    63784"
      ]
     },
     "metadata": {},
     "output_type": "display_data"
    },
    {
     "name": "stdout",
     "output_type": "stream",
     "text": [
      "Accuracy of the model for test data is: 0.946226213385\n",
      "Confusion Matrix for test data is:\n"
     ]
    },
    {
     "data": {
      "text/plain": [
       "Predicted  False  True  __all__\n",
       "Actual                         \n",
       "False       7733   252     7985\n",
       "True         251  1118     1369\n",
       "__all__     7984  1370     9354"
      ]
     },
     "metadata": {},
     "output_type": "display_data"
    },
    {
     "data": {
      "application/vnd.plotly.v1+json": {
       "config": {
        "linkText": "Export to plot.ly",
        "plotlyServerURL": "https://plot.ly",
        "showLink": true
       },
       "data": [
        {
         "marker": {
          "color": "rgb(158,202,225)",
          "line": {
           "color": "rgb(8,48,107)",
           "width": 1.5
          }
         },
         "opacity": 0.6,
         "orientation": "h",
         "text": [
          0.1987,
          0.1707,
          0.1075,
          0.1005,
          0.0841,
          0.0598,
          0.0471,
          0.0471,
          0.0451,
          0.0347,
          0.034,
          0.0318,
          0.027,
          0.0105,
          0.0007,
          0.0003,
          0.0002,
          0,
          0,
          0,
          0,
          0
         ],
         "textposition": "outside",
         "type": "bar",
         "uid": "594240d0-b2b5-4a04-b40d-c935028d11fc",
         "x": [
          0.1987309384980459,
          0.17066172888749082,
          0.10748650432419646,
          0.10050604574911878,
          0.084084788529213,
          0.05983350942155959,
          0.04709651010007053,
          0.047061378568635646,
          0.045118197577552685,
          0.03472687819287362,
          0.033980424452768845,
          0.03184666350452438,
          0.02702086141505166,
          0.010522257379159291,
          0.0006675286316722405,
          0.0003407206621284701,
          0.00020429352118503464,
          3.5371511190115314e-05,
          3.0244245275169313e-05,
          2.7168227428039998e-05,
          1.4033956501538318e-05,
          3.952644358214358e-06
         ],
         "y": [
          "url_char_.",
          "url_extensions",
          "url_length",
          "url_number_consonants",
          "url_number_special_chars",
          "url_number_special_chars/url_length",
          "url_number_vowels",
          "url_number_digits/url_length",
          "url_number_vowels/url_length",
          "url_tlds",
          "url_number_consonants/url_length",
          "url_char_/",
          "url_number_digits",
          "url_char_-",
          "url_port",
          "url_char_=",
          "url_char__",
          "url_char_%",
          "url_char_:",
          "url_char_&",
          "url_char_+",
          "url_char_?"
         ]
        }
       ],
       "layout": {
        "autosize": false,
        "height": 1000,
        "width": 1000,
        "xaxis": {
         "tickfont": {
          "color": "black",
          "size": 12
         },
         "title": "Feature Importances"
        },
        "yaxis": {
         "automargin": true
        }
       }
      },
      "text/html": [
       "<div id=\"c5fac36e-b8ca-4b7f-a4c2-b66c100db7fe\" style=\"height: 1000px; width: 1000px;\" class=\"plotly-graph-div\"></div><script type=\"text/javascript\">require([\"plotly\"], function(Plotly) { window.PLOTLYENV=window.PLOTLYENV || {};window.PLOTLYENV.BASE_URL=\"https://plot.ly\";Plotly.newPlot(\"c5fac36e-b8ca-4b7f-a4c2-b66c100db7fe\", [{\"marker\": {\"color\": \"rgb(158,202,225)\", \"line\": {\"color\": \"rgb(8,48,107)\", \"width\": 1.5}}, \"opacity\": 0.6, \"orientation\": \"h\", \"text\": [0.1987, 0.1707, 0.1075, 0.1005, 0.0841, 0.0598, 0.0471, 0.0471, 0.0451, 0.0347, 0.034, 0.0318, 0.027, 0.0105, 0.0007, 0.0003, 0.0002, 0.0, 0.0, 0.0, 0.0, 0.0], \"textposition\": \"outside\", \"x\": [0.1987309384980459, 0.17066172888749082, 0.10748650432419646, 0.10050604574911878, 0.084084788529213, 0.05983350942155959, 0.04709651010007053, 0.047061378568635646, 0.045118197577552685, 0.03472687819287362, 0.033980424452768845, 0.03184666350452438, 0.02702086141505166, 0.010522257379159291, 0.0006675286316722405, 0.0003407206621284701, 0.00020429352118503464, 3.5371511190115314e-05, 3.0244245275169313e-05, 2.7168227428039998e-05, 1.4033956501538318e-05, 3.952644358214358e-06], \"y\": [\"url_char_.\", \"url_extensions\", \"url_length\", \"url_number_consonants\", \"url_number_special_chars\", \"url_number_special_chars/url_length\", \"url_number_vowels\", \"url_number_digits/url_length\", \"url_number_vowels/url_length\", \"url_tlds\", \"url_number_consonants/url_length\", \"url_char_/\", \"url_number_digits\", \"url_char_-\", \"url_port\", \"url_char_=\", \"url_char__\", \"url_char_%\", \"url_char_:\", \"url_char_&\", \"url_char_+\", \"url_char_?\"], \"type\": \"bar\", \"uid\": \"594240d0-b2b5-4a04-b40d-c935028d11fc\"}], {\"autosize\": false, \"height\": 1000, \"width\": 1000, \"xaxis\": {\"tickfont\": {\"color\": \"black\", \"size\": 12}, \"title\": \"Feature Importances\"}, \"yaxis\": {\"automargin\": true}}, {\"showLink\": true, \"linkText\": \"Export to plot.ly\", \"plotlyServerURL\": \"https://plot.ly\"})});</script>"
      ],
      "text/vnd.plotly.v1+html": [
       "<div id=\"c5fac36e-b8ca-4b7f-a4c2-b66c100db7fe\" style=\"height: 1000px; width: 1000px;\" class=\"plotly-graph-div\"></div><script type=\"text/javascript\">require([\"plotly\"], function(Plotly) { window.PLOTLYENV=window.PLOTLYENV || {};window.PLOTLYENV.BASE_URL=\"https://plot.ly\";Plotly.newPlot(\"c5fac36e-b8ca-4b7f-a4c2-b66c100db7fe\", [{\"marker\": {\"color\": \"rgb(158,202,225)\", \"line\": {\"color\": \"rgb(8,48,107)\", \"width\": 1.5}}, \"opacity\": 0.6, \"orientation\": \"h\", \"text\": [0.1987, 0.1707, 0.1075, 0.1005, 0.0841, 0.0598, 0.0471, 0.0471, 0.0451, 0.0347, 0.034, 0.0318, 0.027, 0.0105, 0.0007, 0.0003, 0.0002, 0.0, 0.0, 0.0, 0.0, 0.0], \"textposition\": \"outside\", \"x\": [0.1987309384980459, 0.17066172888749082, 0.10748650432419646, 0.10050604574911878, 0.084084788529213, 0.05983350942155959, 0.04709651010007053, 0.047061378568635646, 0.045118197577552685, 0.03472687819287362, 0.033980424452768845, 0.03184666350452438, 0.02702086141505166, 0.010522257379159291, 0.0006675286316722405, 0.0003407206621284701, 0.00020429352118503464, 3.5371511190115314e-05, 3.0244245275169313e-05, 2.7168227428039998e-05, 1.4033956501538318e-05, 3.952644358214358e-06], \"y\": [\"url_char_.\", \"url_extensions\", \"url_length\", \"url_number_consonants\", \"url_number_special_chars\", \"url_number_special_chars/url_length\", \"url_number_vowels\", \"url_number_digits/url_length\", \"url_number_vowels/url_length\", \"url_tlds\", \"url_number_consonants/url_length\", \"url_char_/\", \"url_number_digits\", \"url_char_-\", \"url_port\", \"url_char_=\", \"url_char__\", \"url_char_%\", \"url_char_:\", \"url_char_&\", \"url_char_+\", \"url_char_?\"], \"type\": \"bar\", \"uid\": \"594240d0-b2b5-4a04-b40d-c935028d11fc\"}], {\"autosize\": false, \"height\": 1000, \"width\": 1000, \"xaxis\": {\"tickfont\": {\"color\": \"black\", \"size\": 12}, \"title\": \"Feature Importances\"}, \"yaxis\": {\"automargin\": true}}, {\"showLink\": true, \"linkText\": \"Export to plot.ly\", \"plotlyServerURL\": \"https://plot.ly\"})});</script>"
      ]
     },
     "metadata": {},
     "output_type": "display_data"
    },
    {
     "name": "stdout",
     "output_type": "stream",
     "text": [
      "\n",
      "\n",
      "\u001b[1mBagging Classifier\u001b[0m\n",
      "Accuracy of the model for training data is: 0.949454408629\n",
      "Confusion Matrix for training data is:\n"
     ]
    },
    {
     "data": {
      "text/plain": [
       "Predicted  False   True  __all__\n",
       "Actual                          \n",
       "False      31154    738    31892\n",
       "True        2486  29406    31892\n",
       "__all__    33640  30144    63784"
      ]
     },
     "metadata": {},
     "output_type": "display_data"
    },
    {
     "name": "stdout",
     "output_type": "stream",
     "text": [
      "Accuracy of the model for test data is: 0.943232841565\n",
      "Confusion Matrix for test data is:\n"
     ]
    },
    {
     "data": {
      "text/plain": [
       "Predicted  False  True  __all__\n",
       "Actual                         \n",
       "False       7718   267     7985\n",
       "True         264  1105     1369\n",
       "__all__     7982  1372     9354"
      ]
     },
     "metadata": {},
     "output_type": "display_data"
    },
    {
     "name": "stdout",
     "output_type": "stream",
     "text": [
      "\n",
      "\n",
      "\u001b[1mNeural Network-1\u001b[0m\n",
      "The accuracy of the model on training data is: 0.921814248087\n"
     ]
    },
    {
     "data": {
      "text/plain": [
       "Predicted  False   True  __all__\n",
       "Actual                          \n",
       "False      30716   1176    31892\n",
       "True        3811  28081    31892\n",
       "__all__    34527  29257    63784"
      ]
     },
     "metadata": {},
     "output_type": "display_data"
    },
    {
     "name": "stdout",
     "output_type": "stream",
     "text": [
      "The accuracy of the model on test data is: 0.940667094291\n"
     ]
    },
    {
     "data": {
      "text/plain": [
       "Predicted  False  True  __all__\n",
       "Actual                         \n",
       "False       7625   360     7985\n",
       "True         195  1174     1369\n",
       "__all__     7820  1534     9354"
      ]
     },
     "metadata": {},
     "output_type": "display_data"
    },
    {
     "name": "stdout",
     "output_type": "stream",
     "text": [
      "\n",
      "\n"
     ]
    }
   ],
   "source": [
    "feat_imp=[None]*4\n",
    "j=0\n",
    "for i in range(0,8):\n",
    "    if i>=2 and i<=5:\n",
    "        model,cm_train,cm_test,acc_train,acc_test,roc_auc,feat_imp[j],mcc=f[i](X_train,Y_train,scaled_X_test,test_Y,columns)\n",
    "        j=j+1\n",
    "    else:\n",
    "        model,cm_train,cm_test,acc_train,acc_test,roc_auc,mcc=f[i](X_train,Y_train,scaled_X_test,test_Y)\n",
    "    table_80_80_train.loc[i]=   ([acc_train,cm_train.TP,cm_train.TN,cm_train.FP,cm_train.FN,cm_train.FPR,cm_train.FNR])\n",
    "    table_80_80_test.loc[i] =   ([acc_test ,cm_test.TP, cm_test.TN, cm_test.FP, cm_test.FN, cm_test.FPR, cm_test.FNR,roc_auc,mcc])\n",
    "    print(\"\\n\")"
   ]
  },
  {
   "cell_type": "markdown",
   "metadata": {},
   "source": [
    "### <a id='2.A' style=\"text-decoration : none; color : #000000;\"> A Results</a>"
   ]
  },
  {
   "cell_type": "code",
   "execution_count": 27,
   "metadata": {},
   "outputs": [
    {
     "data": {
      "application/vnd.plotly.v1+json": {
       "config": {
        "linkText": "Export to plot.ly",
        "plotlyServerURL": "https://plot.ly",
        "showLink": true
       },
       "data": [
        {
         "mode": "lines",
         "name": "KNN_model",
         "type": "scatter",
         "uid": "23a143d5-592c-43b5-b92d-bcaeaf400e77",
         "x": [
          "accuracy",
          "FPR",
          "FNR",
          "auc"
         ],
         "y": [
          0.9477228992944196,
          0.02905447714464621,
          0.1877282688093499,
          0.8916086270230019
         ]
        },
        {
         "mode": "lines+markers",
         "name": "Logistic Regression",
         "type": "scatter",
         "uid": "86cb3e26-bf33-42fe-9176-526a3c77adc2",
         "x": [
          "accuracy",
          "FPR",
          "FNR",
          "auc"
         ],
         "y": [
          0.9108402822322001,
          0.07551659361302442,
          0.168736303871439,
          0.8778735512577682
         ]
        },
        {
         "marker": {
          "symbol": "x"
         },
         "mode": "lines+markers",
         "name": "Random Forest",
         "type": "scatter",
         "uid": "03692f9e-efe1-4b34-b384-7f03465164e0",
         "x": [
          "accuracy",
          "FPR",
          "FNR",
          "auc"
         ],
         "y": [
          0.9468676502031217,
          0.03168440826549781,
          0.17823228634039445,
          0.8950416526970539
         ]
        },
        {
         "mode": "lines",
         "name": "Ada Boost",
         "type": "scatter",
         "uid": "b879f1bc-c2c4-4c2f-b6f0-3a461ea14df5",
         "x": [
          "accuracy",
          "FPR",
          "FNR",
          "auc"
         ],
         "y": [
          0.9166132135984606,
          0.07213525360050094,
          0.14901387874360847,
          0.8894254338279454
         ]
        },
        {
         "mode": "lines+markers",
         "name": "GradientBoosting",
         "type": "scatter",
         "uid": "9b4bdfce-a8ce-4193-86b6-af1eb25629ae",
         "x": [
          "accuracy",
          "FPR",
          "FNR",
          "auc"
         ],
         "y": [
          0.9360701304254864,
          0.05134627426424546,
          0.13732651570489407,
          0.9056636050154302
         ]
        },
        {
         "marker": {
          "symbol": "x"
         },
         "mode": "lines+markers",
         "name": "ExtraTree Classifier",
         "type": "scatter",
         "uid": "1909a6ea-04bc-42df-935f-bc0f5c0bbece",
         "x": [
          "accuracy",
          "FPR",
          "FNR",
          "auc"
         ],
         "y": [
          0.9462262133846483,
          0.03155917345021916,
          0.183345507669832,
          0.8925476594399744
         ]
        },
        {
         "marker": {
          "symbol": "x"
         },
         "mode": "lines+markers",
         "name": "Bagging",
         "type": "scatter",
         "uid": "097ddc36-e51e-424a-8169-1a163cc790c5",
         "x": [
          "accuracy",
          "FPR",
          "FNR",
          "auc"
         ],
         "y": [
          0.9432328415651058,
          0.033437695679398874,
          0.19284149013878743,
          0.8868604070909069
         ]
        },
        {
         "marker": {
          "symbol": "x"
         },
         "mode": "lines+markers",
         "name": "Neural Network",
         "type": "scatter",
         "uid": "b254ae55-7350-4ff1-be9b-064ce244769b",
         "x": [
          "accuracy",
          "FPR",
          "FNR",
          "auc"
         ],
         "y": [
          0.9406670942912123,
          0.045084533500313086,
          0.14243973703433163,
          0.8868604070909069
         ]
        }
       ],
       "layout": {
        "title": "Result comparision for Features selected in Section 1",
        "yaxis": {
         "dtick": 0.05,
         "tick0": 0
        }
       }
      },
      "text/html": [
       "<div id=\"a52cc30b-eb36-4f4c-a137-23e2a5e5d09a\" style=\"height: 525px; width: 100%;\" class=\"plotly-graph-div\"></div><script type=\"text/javascript\">require([\"plotly\"], function(Plotly) { window.PLOTLYENV=window.PLOTLYENV || {};window.PLOTLYENV.BASE_URL=\"https://plot.ly\";Plotly.newPlot(\"a52cc30b-eb36-4f4c-a137-23e2a5e5d09a\", [{\"mode\": \"lines\", \"name\": \"KNN_model\", \"x\": [\"accuracy\", \"FPR\", \"FNR\", \"auc\"], \"y\": [0.9477228992944196, 0.02905447714464621, 0.1877282688093499, 0.8916086270230019], \"type\": \"scatter\", \"uid\": \"23a143d5-592c-43b5-b92d-bcaeaf400e77\"}, {\"mode\": \"lines+markers\", \"name\": \"Logistic Regression\", \"x\": [\"accuracy\", \"FPR\", \"FNR\", \"auc\"], \"y\": [0.9108402822322001, 0.07551659361302442, 0.168736303871439, 0.8778735512577682], \"type\": \"scatter\", \"uid\": \"86cb3e26-bf33-42fe-9176-526a3c77adc2\"}, {\"marker\": {\"symbol\": \"x\"}, \"mode\": \"lines+markers\", \"name\": \"Random Forest\", \"x\": [\"accuracy\", \"FPR\", \"FNR\", \"auc\"], \"y\": [0.9468676502031217, 0.03168440826549781, 0.17823228634039445, 0.8950416526970539], \"type\": \"scatter\", \"uid\": \"03692f9e-efe1-4b34-b384-7f03465164e0\"}, {\"mode\": \"lines\", \"name\": \"Ada Boost\", \"x\": [\"accuracy\", \"FPR\", \"FNR\", \"auc\"], \"y\": [0.9166132135984606, 0.07213525360050094, 0.14901387874360847, 0.8894254338279454], \"type\": \"scatter\", \"uid\": \"b879f1bc-c2c4-4c2f-b6f0-3a461ea14df5\"}, {\"mode\": \"lines+markers\", \"name\": \"GradientBoosting\", \"x\": [\"accuracy\", \"FPR\", \"FNR\", \"auc\"], \"y\": [0.9360701304254864, 0.05134627426424546, 0.13732651570489407, 0.9056636050154302], \"type\": \"scatter\", \"uid\": \"9b4bdfce-a8ce-4193-86b6-af1eb25629ae\"}, {\"marker\": {\"symbol\": \"x\"}, \"mode\": \"lines+markers\", \"name\": \"ExtraTree Classifier\", \"x\": [\"accuracy\", \"FPR\", \"FNR\", \"auc\"], \"y\": [0.9462262133846483, 0.03155917345021916, 0.183345507669832, 0.8925476594399744], \"type\": \"scatter\", \"uid\": \"1909a6ea-04bc-42df-935f-bc0f5c0bbece\"}, {\"marker\": {\"symbol\": \"x\"}, \"mode\": \"lines+markers\", \"name\": \"Bagging\", \"x\": [\"accuracy\", \"FPR\", \"FNR\", \"auc\"], \"y\": [0.9432328415651058, 0.033437695679398874, 0.19284149013878743, 0.8868604070909069], \"type\": \"scatter\", \"uid\": \"097ddc36-e51e-424a-8169-1a163cc790c5\"}, {\"marker\": {\"symbol\": \"x\"}, \"mode\": \"lines+markers\", \"name\": \"Neural Network\", \"x\": [\"accuracy\", \"FPR\", \"FNR\", \"auc\"], \"y\": [0.9406670942912123, 0.045084533500313086, 0.14243973703433163, 0.8868604070909069], \"type\": \"scatter\", \"uid\": \"b254ae55-7350-4ff1-be9b-064ce244769b\"}], {\"title\": \"Result comparision for Features selected in Section 1\", \"yaxis\": {\"dtick\": 0.05, \"tick0\": 0}}, {\"showLink\": true, \"linkText\": \"Export to plot.ly\", \"plotlyServerURL\": \"https://plot.ly\"})});</script><script type=\"text/javascript\">window.addEventListener(\"resize\", function(){window._Plotly.Plots.resize(document.getElementById(\"a52cc30b-eb36-4f4c-a137-23e2a5e5d09a\"));});</script>"
      ],
      "text/vnd.plotly.v1+html": [
       "<div id=\"a52cc30b-eb36-4f4c-a137-23e2a5e5d09a\" style=\"height: 525px; width: 100%;\" class=\"plotly-graph-div\"></div><script type=\"text/javascript\">require([\"plotly\"], function(Plotly) { window.PLOTLYENV=window.PLOTLYENV || {};window.PLOTLYENV.BASE_URL=\"https://plot.ly\";Plotly.newPlot(\"a52cc30b-eb36-4f4c-a137-23e2a5e5d09a\", [{\"mode\": \"lines\", \"name\": \"KNN_model\", \"x\": [\"accuracy\", \"FPR\", \"FNR\", \"auc\"], \"y\": [0.9477228992944196, 0.02905447714464621, 0.1877282688093499, 0.8916086270230019], \"type\": \"scatter\", \"uid\": \"23a143d5-592c-43b5-b92d-bcaeaf400e77\"}, {\"mode\": \"lines+markers\", \"name\": \"Logistic Regression\", \"x\": [\"accuracy\", \"FPR\", \"FNR\", \"auc\"], \"y\": [0.9108402822322001, 0.07551659361302442, 0.168736303871439, 0.8778735512577682], \"type\": \"scatter\", \"uid\": \"86cb3e26-bf33-42fe-9176-526a3c77adc2\"}, {\"marker\": {\"symbol\": \"x\"}, \"mode\": \"lines+markers\", \"name\": \"Random Forest\", \"x\": [\"accuracy\", \"FPR\", \"FNR\", \"auc\"], \"y\": [0.9468676502031217, 0.03168440826549781, 0.17823228634039445, 0.8950416526970539], \"type\": \"scatter\", \"uid\": \"03692f9e-efe1-4b34-b384-7f03465164e0\"}, {\"mode\": \"lines\", \"name\": \"Ada Boost\", \"x\": [\"accuracy\", \"FPR\", \"FNR\", \"auc\"], \"y\": [0.9166132135984606, 0.07213525360050094, 0.14901387874360847, 0.8894254338279454], \"type\": \"scatter\", \"uid\": \"b879f1bc-c2c4-4c2f-b6f0-3a461ea14df5\"}, {\"mode\": \"lines+markers\", \"name\": \"GradientBoosting\", \"x\": [\"accuracy\", \"FPR\", \"FNR\", \"auc\"], \"y\": [0.9360701304254864, 0.05134627426424546, 0.13732651570489407, 0.9056636050154302], \"type\": \"scatter\", \"uid\": \"9b4bdfce-a8ce-4193-86b6-af1eb25629ae\"}, {\"marker\": {\"symbol\": \"x\"}, \"mode\": \"lines+markers\", \"name\": \"ExtraTree Classifier\", \"x\": [\"accuracy\", \"FPR\", \"FNR\", \"auc\"], \"y\": [0.9462262133846483, 0.03155917345021916, 0.183345507669832, 0.8925476594399744], \"type\": \"scatter\", \"uid\": \"1909a6ea-04bc-42df-935f-bc0f5c0bbece\"}, {\"marker\": {\"symbol\": \"x\"}, \"mode\": \"lines+markers\", \"name\": \"Bagging\", \"x\": [\"accuracy\", \"FPR\", \"FNR\", \"auc\"], \"y\": [0.9432328415651058, 0.033437695679398874, 0.19284149013878743, 0.8868604070909069], \"type\": \"scatter\", \"uid\": \"097ddc36-e51e-424a-8169-1a163cc790c5\"}, {\"marker\": {\"symbol\": \"x\"}, \"mode\": \"lines+markers\", \"name\": \"Neural Network\", \"x\": [\"accuracy\", \"FPR\", \"FNR\", \"auc\"], \"y\": [0.9406670942912123, 0.045084533500313086, 0.14243973703433163, 0.8868604070909069], \"type\": \"scatter\", \"uid\": \"b254ae55-7350-4ff1-be9b-064ce244769b\"}], {\"title\": \"Result comparision for Features selected in Section 1\", \"yaxis\": {\"dtick\": 0.05, \"tick0\": 0}}, {\"showLink\": true, \"linkText\": \"Export to plot.ly\", \"plotlyServerURL\": \"https://plot.ly\"})});</script><script type=\"text/javascript\">window.addEventListener(\"resize\", function(){window._Plotly.Plots.resize(document.getElementById(\"a52cc30b-eb36-4f4c-a137-23e2a5e5d09a\"));});</script>"
      ]
     },
     "metadata": {},
     "output_type": "display_data"
    }
   ],
   "source": [
    "trace0 = go.Scatter(x=table_80_80_test.iloc[0].index.values[[0,5,6,7]],\n",
    "                    y=table_80_80_test.iloc[0].values[[0,5,6,7]],\n",
    "                    mode = 'lines',\n",
    "                    name = 'KNN_model')\n",
    "\n",
    "trace1 = go.Scatter(x=table_80_80_test.iloc[1].index.values[[0,5,6,7]],\n",
    "                    y=table_80_80_test.iloc[1].values[[0,5,6,7]],\n",
    "                    mode = 'lines+markers',\n",
    "                    name = 'Logistic Regression')\n",
    "\n",
    "trace2 = go.Scatter(x=table_80_80_test.iloc[2].index.values[[0,5,6,7]],\n",
    "                    y=table_80_80_test.iloc[2].values[[0,5,6,7]],\n",
    "                    mode = 'lines+markers',marker=dict(symbol='x'),\n",
    "                    name = 'Random Forest')\n",
    "\n",
    "\n",
    "trace3 = go.Scatter(x=table_80_80_test.iloc[3].index.values[[0,5,6,7]],\n",
    "                    y=table_80_80_test.iloc[3].values[[0,5,6,7]],\n",
    "                    mode = 'lines',\n",
    "                    name = 'Ada Boost')\n",
    "\n",
    "trace4 = go.Scatter(x=table_80_80_test.iloc[4].index.values[[0,5,6,7]],\n",
    "                    y=table_80_80_test.iloc[4].values[[0,5,6,7]],\n",
    "                    mode = 'lines+markers',\n",
    "                    name = 'GradientBoosting')\n",
    "\n",
    "trace5 = go.Scatter(x=table_80_80_test.iloc[5].index.values[[0,5,6,7]],\n",
    "                    y=table_80_80_test.iloc[5].values[[0,5,6,7]],\n",
    "                    mode = 'lines+markers',marker=dict(symbol='x'),\n",
    "                    name = 'ExtraTree Classifier')\n",
    "\n",
    "trace6 = go.Scatter(x=table_80_80_test.iloc[6].index.values[[0,5,6,7]],\n",
    "                    y=table_80_80_test.iloc[6].values[[0,5,6,7]],\n",
    "                    mode = 'lines+markers',marker=dict(symbol='x'),\n",
    "                    name = 'Bagging')\n",
    "\n",
    "trace7 = go.Scatter(x=table_80_80_test.iloc[7].index.values[[0,5,6,7]],\n",
    "                    y=table_80_80_test.iloc[7].values[[0,5,6,7]],\n",
    "                    mode = 'lines+markers',marker=dict(symbol='x'),\n",
    "                    name = 'Neural Network')\n",
    "\n",
    "\n",
    "\n",
    "data = [trace0, trace1, trace2, trace3, trace4, trace5, trace6, trace7]\n",
    "layout = go.Layout(yaxis=dict(tick0=0,dtick=0.05),title='Result comparision for Features selected in Section 1')\n",
    "fig = go.Figure(data=data, layout=layout)\n",
    "\n",
    "iplot(fig, filename='Result')"
   ]
  },
  {
   "cell_type": "code",
   "execution_count": 28,
   "metadata": {},
   "outputs": [
    {
     "name": "stdout",
     "output_type": "stream",
     "text": [
      "Training Results\n"
     ]
    },
    {
     "data": {
      "text/html": [
       "<div>\n",
       "<style scoped>\n",
       "    .dataframe tbody tr th:only-of-type {\n",
       "        vertical-align: middle;\n",
       "    }\n",
       "\n",
       "    .dataframe tbody tr th {\n",
       "        vertical-align: top;\n",
       "    }\n",
       "\n",
       "    .dataframe thead th {\n",
       "        text-align: right;\n",
       "    }\n",
       "</style>\n",
       "<table border=\"1\" class=\"dataframe\">\n",
       "  <thead>\n",
       "    <tr style=\"text-align: right;\">\n",
       "      <th></th>\n",
       "      <th>accuracy</th>\n",
       "      <th>TP</th>\n",
       "      <th>TN</th>\n",
       "      <th>FP</th>\n",
       "      <th>FN</th>\n",
       "      <th>FPR</th>\n",
       "      <th>FNR</th>\n",
       "    </tr>\n",
       "    <tr>\n",
       "      <th>index</th>\n",
       "      <th></th>\n",
       "      <th></th>\n",
       "      <th></th>\n",
       "      <th></th>\n",
       "      <th></th>\n",
       "      <th></th>\n",
       "      <th></th>\n",
       "    </tr>\n",
       "  </thead>\n",
       "  <tbody>\n",
       "    <tr>\n",
       "      <th>KNeighborsClassifier</th>\n",
       "      <td>0.924072</td>\n",
       "      <td>27798.0</td>\n",
       "      <td>31143.0</td>\n",
       "      <td>749.0</td>\n",
       "      <td>4094.0</td>\n",
       "      <td>0.023486</td>\n",
       "      <td>0.128371</td>\n",
       "    </tr>\n",
       "    <tr>\n",
       "      <th>LogisticRegression</th>\n",
       "      <td>0.879327</td>\n",
       "      <td>26485.0</td>\n",
       "      <td>29602.0</td>\n",
       "      <td>2290.0</td>\n",
       "      <td>5407.0</td>\n",
       "      <td>0.071805</td>\n",
       "      <td>0.169541</td>\n",
       "    </tr>\n",
       "    <tr>\n",
       "      <th>RandomForestClassifier</th>\n",
       "      <td>0.949627</td>\n",
       "      <td>29385.0</td>\n",
       "      <td>31186.0</td>\n",
       "      <td>706.0</td>\n",
       "      <td>2507.0</td>\n",
       "      <td>0.022137</td>\n",
       "      <td>0.078609</td>\n",
       "    </tr>\n",
       "    <tr>\n",
       "      <th>AdaBoostClassifier</th>\n",
       "      <td>0.893766</td>\n",
       "      <td>27346.0</td>\n",
       "      <td>29662.0</td>\n",
       "      <td>2230.0</td>\n",
       "      <td>4546.0</td>\n",
       "      <td>0.069923</td>\n",
       "      <td>0.142544</td>\n",
       "    </tr>\n",
       "    <tr>\n",
       "      <th>GradientBoostingClassifier</th>\n",
       "      <td>0.917738</td>\n",
       "      <td>28218.0</td>\n",
       "      <td>30319.0</td>\n",
       "      <td>1573.0</td>\n",
       "      <td>3674.0</td>\n",
       "      <td>0.049323</td>\n",
       "      <td>0.115201</td>\n",
       "    </tr>\n",
       "    <tr>\n",
       "      <th>ExtraTreeClassifier</th>\n",
       "      <td>0.950097</td>\n",
       "      <td>29357.0</td>\n",
       "      <td>31244.0</td>\n",
       "      <td>648.0</td>\n",
       "      <td>2535.0</td>\n",
       "      <td>0.020319</td>\n",
       "      <td>0.079487</td>\n",
       "    </tr>\n",
       "    <tr>\n",
       "      <th>BaggingClassifier</th>\n",
       "      <td>0.949454</td>\n",
       "      <td>29406.0</td>\n",
       "      <td>31154.0</td>\n",
       "      <td>738.0</td>\n",
       "      <td>2486.0</td>\n",
       "      <td>0.023141</td>\n",
       "      <td>0.077951</td>\n",
       "    </tr>\n",
       "    <tr>\n",
       "      <th>Neural Network-1</th>\n",
       "      <td>0.921814</td>\n",
       "      <td>28081.0</td>\n",
       "      <td>30716.0</td>\n",
       "      <td>1176.0</td>\n",
       "      <td>3811.0</td>\n",
       "      <td>0.036874</td>\n",
       "      <td>0.119497</td>\n",
       "    </tr>\n",
       "  </tbody>\n",
       "</table>\n",
       "</div>"
      ],
      "text/plain": [
       "                            accuracy       TP       TN      FP      FN  \\\n",
       "index                                                                    \n",
       "KNeighborsClassifier        0.924072  27798.0  31143.0   749.0  4094.0   \n",
       "LogisticRegression          0.879327  26485.0  29602.0  2290.0  5407.0   \n",
       "RandomForestClassifier      0.949627  29385.0  31186.0   706.0  2507.0   \n",
       "AdaBoostClassifier          0.893766  27346.0  29662.0  2230.0  4546.0   \n",
       "GradientBoostingClassifier  0.917738  28218.0  30319.0  1573.0  3674.0   \n",
       "ExtraTreeClassifier         0.950097  29357.0  31244.0   648.0  2535.0   \n",
       "BaggingClassifier           0.949454  29406.0  31154.0   738.0  2486.0   \n",
       "Neural Network-1            0.921814  28081.0  30716.0  1176.0  3811.0   \n",
       "\n",
       "                                 FPR       FNR  \n",
       "index                                           \n",
       "KNeighborsClassifier        0.023486  0.128371  \n",
       "LogisticRegression          0.071805  0.169541  \n",
       "RandomForestClassifier      0.022137  0.078609  \n",
       "AdaBoostClassifier          0.069923  0.142544  \n",
       "GradientBoostingClassifier  0.049323  0.115201  \n",
       "ExtraTreeClassifier         0.020319  0.079487  \n",
       "BaggingClassifier           0.023141  0.077951  \n",
       "Neural Network-1            0.036874  0.119497  "
      ]
     },
     "metadata": {},
     "output_type": "display_data"
    },
    {
     "name": "stdout",
     "output_type": "stream",
     "text": [
      "Test Results\n"
     ]
    },
    {
     "data": {
      "text/html": [
       "<div>\n",
       "<style scoped>\n",
       "    .dataframe tbody tr th:only-of-type {\n",
       "        vertical-align: middle;\n",
       "    }\n",
       "\n",
       "    .dataframe tbody tr th {\n",
       "        vertical-align: top;\n",
       "    }\n",
       "\n",
       "    .dataframe thead th {\n",
       "        text-align: right;\n",
       "    }\n",
       "</style>\n",
       "<table border=\"1\" class=\"dataframe\">\n",
       "  <thead>\n",
       "    <tr style=\"text-align: right;\">\n",
       "      <th></th>\n",
       "      <th>accuracy</th>\n",
       "      <th>TP</th>\n",
       "      <th>TN</th>\n",
       "      <th>FP</th>\n",
       "      <th>FN</th>\n",
       "      <th>FPR</th>\n",
       "      <th>FNR</th>\n",
       "      <th>auc</th>\n",
       "      <th>mcc</th>\n",
       "    </tr>\n",
       "    <tr>\n",
       "      <th>index</th>\n",
       "      <th></th>\n",
       "      <th></th>\n",
       "      <th></th>\n",
       "      <th></th>\n",
       "      <th></th>\n",
       "      <th></th>\n",
       "      <th></th>\n",
       "      <th></th>\n",
       "      <th></th>\n",
       "    </tr>\n",
       "  </thead>\n",
       "  <tbody>\n",
       "    <tr>\n",
       "      <th>KNeighborsClassifier</th>\n",
       "      <td>0.947723</td>\n",
       "      <td>1112.0</td>\n",
       "      <td>7753.0</td>\n",
       "      <td>232.0</td>\n",
       "      <td>257.0</td>\n",
       "      <td>0.029054</td>\n",
       "      <td>0.187728</td>\n",
       "      <td>0.891609</td>\n",
       "      <td>0.789234</td>\n",
       "    </tr>\n",
       "    <tr>\n",
       "      <th>LogisticRegression</th>\n",
       "      <td>0.910840</td>\n",
       "      <td>1138.0</td>\n",
       "      <td>7382.0</td>\n",
       "      <td>603.0</td>\n",
       "      <td>231.0</td>\n",
       "      <td>0.075517</td>\n",
       "      <td>0.168736</td>\n",
       "      <td>0.877874</td>\n",
       "      <td>0.686339</td>\n",
       "    </tr>\n",
       "    <tr>\n",
       "      <th>RandomForestClassifier</th>\n",
       "      <td>0.946868</td>\n",
       "      <td>1125.0</td>\n",
       "      <td>7732.0</td>\n",
       "      <td>253.0</td>\n",
       "      <td>244.0</td>\n",
       "      <td>0.031684</td>\n",
       "      <td>0.178232</td>\n",
       "      <td>0.895042</td>\n",
       "      <td>0.787943</td>\n",
       "    </tr>\n",
       "    <tr>\n",
       "      <th>AdaBoostClassifier</th>\n",
       "      <td>0.916613</td>\n",
       "      <td>1165.0</td>\n",
       "      <td>7409.0</td>\n",
       "      <td>576.0</td>\n",
       "      <td>204.0</td>\n",
       "      <td>0.072135</td>\n",
       "      <td>0.149014</td>\n",
       "      <td>0.889425</td>\n",
       "      <td>0.707320</td>\n",
       "    </tr>\n",
       "    <tr>\n",
       "      <th>GradientBoostingClassifier</th>\n",
       "      <td>0.936070</td>\n",
       "      <td>1181.0</td>\n",
       "      <td>7575.0</td>\n",
       "      <td>410.0</td>\n",
       "      <td>188.0</td>\n",
       "      <td>0.051346</td>\n",
       "      <td>0.137327</td>\n",
       "      <td>0.905664</td>\n",
       "      <td>0.763283</td>\n",
       "    </tr>\n",
       "    <tr>\n",
       "      <th>ExtraTreeClassifier</th>\n",
       "      <td>0.946226</td>\n",
       "      <td>1118.0</td>\n",
       "      <td>7733.0</td>\n",
       "      <td>252.0</td>\n",
       "      <td>251.0</td>\n",
       "      <td>0.031559</td>\n",
       "      <td>0.183346</td>\n",
       "      <td>0.892548</td>\n",
       "      <td>0.784858</td>\n",
       "    </tr>\n",
       "    <tr>\n",
       "      <th>BaggingClassifier</th>\n",
       "      <td>0.943233</td>\n",
       "      <td>1105.0</td>\n",
       "      <td>7718.0</td>\n",
       "      <td>267.0</td>\n",
       "      <td>264.0</td>\n",
       "      <td>0.033438</td>\n",
       "      <td>0.192841</td>\n",
       "      <td>0.886860</td>\n",
       "      <td>0.773020</td>\n",
       "    </tr>\n",
       "    <tr>\n",
       "      <th>Neural Network-1</th>\n",
       "      <td>0.940667</td>\n",
       "      <td>1174.0</td>\n",
       "      <td>7625.0</td>\n",
       "      <td>360.0</td>\n",
       "      <td>195.0</td>\n",
       "      <td>0.045085</td>\n",
       "      <td>0.142440</td>\n",
       "      <td>0.886860</td>\n",
       "      <td>0.775592</td>\n",
       "    </tr>\n",
       "  </tbody>\n",
       "</table>\n",
       "</div>"
      ],
      "text/plain": [
       "                            accuracy      TP      TN     FP     FN       FPR  \\\n",
       "index                                                                          \n",
       "KNeighborsClassifier        0.947723  1112.0  7753.0  232.0  257.0  0.029054   \n",
       "LogisticRegression          0.910840  1138.0  7382.0  603.0  231.0  0.075517   \n",
       "RandomForestClassifier      0.946868  1125.0  7732.0  253.0  244.0  0.031684   \n",
       "AdaBoostClassifier          0.916613  1165.0  7409.0  576.0  204.0  0.072135   \n",
       "GradientBoostingClassifier  0.936070  1181.0  7575.0  410.0  188.0  0.051346   \n",
       "ExtraTreeClassifier         0.946226  1118.0  7733.0  252.0  251.0  0.031559   \n",
       "BaggingClassifier           0.943233  1105.0  7718.0  267.0  264.0  0.033438   \n",
       "Neural Network-1            0.940667  1174.0  7625.0  360.0  195.0  0.045085   \n",
       "\n",
       "                                 FNR       auc       mcc  \n",
       "index                                                     \n",
       "KNeighborsClassifier        0.187728  0.891609  0.789234  \n",
       "LogisticRegression          0.168736  0.877874  0.686339  \n",
       "RandomForestClassifier      0.178232  0.895042  0.787943  \n",
       "AdaBoostClassifier          0.149014  0.889425  0.707320  \n",
       "GradientBoostingClassifier  0.137327  0.905664  0.763283  \n",
       "ExtraTreeClassifier         0.183346  0.892548  0.784858  \n",
       "BaggingClassifier           0.192841  0.886860  0.773020  \n",
       "Neural Network-1            0.142440  0.886860  0.775592  "
      ]
     },
     "metadata": {},
     "output_type": "display_data"
    }
   ],
   "source": [
    "table_80_80_train['index']=ind_columns\n",
    "table_80_80_test['index']=ind_columns\n",
    "\n",
    "\n",
    "table_80_80_test.set_index(['index'],drop=True,inplace=True)\n",
    "table_80_80_train.set_index(['index'],drop=True,inplace=True)\n",
    "\n",
    "print(\"Training Results\")\n",
    "display(table_80_80_train)\n",
    "print(\"Test Results\")\n",
    "display(table_80_80_test)"
   ]
  },
  {
   "cell_type": "markdown",
   "metadata": {},
   "source": [
    "### <a id='2.B' style=\"text-decoration : none; color : #000000;\"> B. Average Feature Importances</a>"
   ]
  },
  {
   "cell_type": "code",
   "execution_count": 29,
   "metadata": {},
   "outputs": [
    {
     "data": {
      "application/vnd.plotly.v1+json": {
       "config": {
        "linkText": "Export to plot.ly",
        "plotlyServerURL": "https://plot.ly",
        "showLink": true
       },
       "data": [
        {
         "marker": {
          "color": "rgb(158,202,225)",
          "line": {
           "color": "rgb(8,48,107)",
           "width": 1.5
          }
         },
         "opacity": 0.6,
         "orientation": "h",
         "text": [
          0.2515,
          0.1869,
          0.1177,
          0.078,
          0.0689,
          0.0624,
          0.0455,
          0.034,
          0.0335,
          0.0307,
          0.028,
          0.0274,
          0.0199,
          0.0152,
          0.0002,
          0.0001,
          0.0001,
          0,
          0,
          0,
          0,
          0
         ],
         "textposition": "outside",
         "type": "bar",
         "uid": "c90483f3-45c1-458b-b56f-44829f82619b",
         "x": [
          0.2514769318057269,
          0.18687778295692503,
          0.11771522758059791,
          0.07803327228521625,
          0.06890358702322819,
          0.0623755851998105,
          0.04554658939655595,
          0.03402273804090042,
          0.033481581075108235,
          0.03067527278158798,
          0.028046821120051052,
          0.02742145111670231,
          0.019906350029780716,
          0.015183246037407623,
          0.00016895043736342305,
          8.518016553211752e-05,
          5.133453745221744e-05,
          8.842877797528828e-06,
          7.88829471057361e-06,
          6.7920568570099995e-06,
          3.5084891253845794e-06,
          1.0666915627481005e-06
         ],
         "y": [
          "url_length",
          "url_extensions",
          "url_number_consonants",
          "url_char_.",
          "url_number_special_chars/url_length",
          "url_number_special_chars",
          "url_number_vowels/url_length",
          "url_number_digits",
          "url_number_digits/url_length",
          "url_tlds",
          "url_number_vowels",
          "url_char_/",
          "url_number_consonants/url_length",
          "url_char_-",
          "url_port",
          "url_char_=",
          "url_char__",
          "url_char_%",
          "url_char_:",
          "url_char_&",
          "url_char_+",
          "url_char_?"
         ]
        }
       ],
       "layout": {
        "autosize": false,
        "height": 1000,
        "width": 1000,
        "xaxis": {
         "tickfont": {
          "color": "black",
          "size": 12
         },
         "title": "Feature Importances"
        },
        "yaxis": {
         "automargin": true
        }
       }
      },
      "text/html": [
       "<div id=\"74fb7567-af44-4037-b7e0-0fede265ed23\" style=\"height: 1000px; width: 1000px;\" class=\"plotly-graph-div\"></div><script type=\"text/javascript\">require([\"plotly\"], function(Plotly) { window.PLOTLYENV=window.PLOTLYENV || {};window.PLOTLYENV.BASE_URL=\"https://plot.ly\";Plotly.newPlot(\"74fb7567-af44-4037-b7e0-0fede265ed23\", [{\"marker\": {\"color\": \"rgb(158,202,225)\", \"line\": {\"color\": \"rgb(8,48,107)\", \"width\": 1.5}}, \"opacity\": 0.6, \"orientation\": \"h\", \"text\": [0.2515, 0.1869, 0.1177, 0.078, 0.0689, 0.0624, 0.0455, 0.034, 0.0335, 0.0307, 0.028, 0.0274, 0.0199, 0.0152, 0.0002, 0.0001, 0.0001, 0.0, 0.0, 0.0, 0.0, 0.0], \"textposition\": \"outside\", \"x\": [0.2514769318057269, 0.18687778295692503, 0.11771522758059791, 0.07803327228521625, 0.06890358702322819, 0.0623755851998105, 0.04554658939655595, 0.03402273804090042, 0.033481581075108235, 0.03067527278158798, 0.028046821120051052, 0.02742145111670231, 0.019906350029780716, 0.015183246037407623, 0.00016895043736342305, 8.518016553211752e-05, 5.133453745221744e-05, 8.842877797528828e-06, 7.88829471057361e-06, 6.7920568570099995e-06, 3.5084891253845794e-06, 1.0666915627481005e-06], \"y\": [\"url_length\", \"url_extensions\", \"url_number_consonants\", \"url_char_.\", \"url_number_special_chars/url_length\", \"url_number_special_chars\", \"url_number_vowels/url_length\", \"url_number_digits\", \"url_number_digits/url_length\", \"url_tlds\", \"url_number_vowels\", \"url_char_/\", \"url_number_consonants/url_length\", \"url_char_-\", \"url_port\", \"url_char_=\", \"url_char__\", \"url_char_%\", \"url_char_:\", \"url_char_&\", \"url_char_+\", \"url_char_?\"], \"type\": \"bar\", \"uid\": \"c90483f3-45c1-458b-b56f-44829f82619b\"}], {\"autosize\": false, \"height\": 1000, \"width\": 1000, \"xaxis\": {\"tickfont\": {\"color\": \"black\", \"size\": 12}, \"title\": \"Feature Importances\"}, \"yaxis\": {\"automargin\": true}}, {\"showLink\": true, \"linkText\": \"Export to plot.ly\", \"plotlyServerURL\": \"https://plot.ly\"})});</script>"
      ],
      "text/vnd.plotly.v1+html": [
       "<div id=\"74fb7567-af44-4037-b7e0-0fede265ed23\" style=\"height: 1000px; width: 1000px;\" class=\"plotly-graph-div\"></div><script type=\"text/javascript\">require([\"plotly\"], function(Plotly) { window.PLOTLYENV=window.PLOTLYENV || {};window.PLOTLYENV.BASE_URL=\"https://plot.ly\";Plotly.newPlot(\"74fb7567-af44-4037-b7e0-0fede265ed23\", [{\"marker\": {\"color\": \"rgb(158,202,225)\", \"line\": {\"color\": \"rgb(8,48,107)\", \"width\": 1.5}}, \"opacity\": 0.6, \"orientation\": \"h\", \"text\": [0.2515, 0.1869, 0.1177, 0.078, 0.0689, 0.0624, 0.0455, 0.034, 0.0335, 0.0307, 0.028, 0.0274, 0.0199, 0.0152, 0.0002, 0.0001, 0.0001, 0.0, 0.0, 0.0, 0.0, 0.0], \"textposition\": \"outside\", \"x\": [0.2514769318057269, 0.18687778295692503, 0.11771522758059791, 0.07803327228521625, 0.06890358702322819, 0.0623755851998105, 0.04554658939655595, 0.03402273804090042, 0.033481581075108235, 0.03067527278158798, 0.028046821120051052, 0.02742145111670231, 0.019906350029780716, 0.015183246037407623, 0.00016895043736342305, 8.518016553211752e-05, 5.133453745221744e-05, 8.842877797528828e-06, 7.88829471057361e-06, 6.7920568570099995e-06, 3.5084891253845794e-06, 1.0666915627481005e-06], \"y\": [\"url_length\", \"url_extensions\", \"url_number_consonants\", \"url_char_.\", \"url_number_special_chars/url_length\", \"url_number_special_chars\", \"url_number_vowels/url_length\", \"url_number_digits\", \"url_number_digits/url_length\", \"url_tlds\", \"url_number_vowels\", \"url_char_/\", \"url_number_consonants/url_length\", \"url_char_-\", \"url_port\", \"url_char_=\", \"url_char__\", \"url_char_%\", \"url_char_:\", \"url_char_&\", \"url_char_+\", \"url_char_?\"], \"type\": \"bar\", \"uid\": \"c90483f3-45c1-458b-b56f-44829f82619b\"}], {\"autosize\": false, \"height\": 1000, \"width\": 1000, \"xaxis\": {\"tickfont\": {\"color\": \"black\", \"size\": 12}, \"title\": \"Feature Importances\"}, \"yaxis\": {\"automargin\": true}}, {\"showLink\": true, \"linkText\": \"Export to plot.ly\", \"plotlyServerURL\": \"https://plot.ly\"})});</script>"
      ]
     },
     "metadata": {},
     "output_type": "display_data"
    }
   ],
   "source": [
    "feat_impt_plot(np.average(feat_imp,axis=0),columns)"
   ]
  },
  {
   "cell_type": "markdown",
   "metadata": {},
   "source": [
    "### <a id='3' style=\"text-decoration : none; color : #000000;\"> 3. Undersampling</a>"
   ]
  },
  {
   "cell_type": "code",
   "execution_count": 30,
   "metadata": {},
   "outputs": [
    {
     "name": "stdout",
     "output_type": "stream",
     "text": [
      "Shape after undersampling (11050, 22)\n"
     ]
    }
   ],
   "source": [
    "df_non=train[train.Target==0]\n",
    "df_mal=train[train.Target==1]\n",
    "\n",
    "df_non=df_non.sample(frac=len(df_mal)/len(df_non),random_state=0)\n",
    "df_u=df_non.append(df_mal)\n",
    "df_u.Target.value_counts() \n",
    "\n",
    "X_train=df_u[columns]\n",
    "X_train=scaler.transform(X_train)\n",
    "Y_train=df_u.Target.values\n",
    "\n",
    "print(\"Shape after undersampling\",X_train.shape)\n"
   ]
  },
  {
   "cell_type": "code",
   "execution_count": 31,
   "metadata": {
    "collapsed": true
   },
   "outputs": [],
   "source": [
    "## Table to store training and test measures so we can compare later\n",
    "table_80_90_train=pd.DataFrame(columns=['accuracy','TP','TN','FP','FN','FPR','FNR'])\n",
    "table_80_90_test=pd.DataFrame(columns=['accuracy','TP','TN','FP','FN','FPR','FNR','auc','mcc'])"
   ]
  },
  {
   "cell_type": "code",
   "execution_count": 32,
   "metadata": {
    "scrolled": false
   },
   "outputs": [
    {
     "name": "stdout",
     "output_type": "stream",
     "text": [
      "\u001b[1mK-Nearest Neighbors\u001b[0m\n",
      "Accuracy of the model for training data is: 0.91257918552\n",
      "Confusion Matrix for training data is:\n"
     ]
    },
    {
     "data": {
      "text/plain": [
       "Predicted  False  True  __all__\n",
       "Actual                         \n",
       "False       5321   204     5525\n",
       "True         762  4763     5525\n",
       "__all__     6083  4967    11050"
      ]
     },
     "metadata": {},
     "output_type": "display_data"
    },
    {
     "name": "stdout",
     "output_type": "stream",
     "text": [
      "Accuracy of the model for test data is: 0.935856318153\n",
      "Confusion Matrix for test data is:\n"
     ]
    },
    {
     "data": {
      "text/plain": [
       "Predicted  False  True  __all__\n",
       "Actual                         \n",
       "False       7571   414     7985\n",
       "True         186  1183     1369\n",
       "__all__     7757  1597     9354"
      ]
     },
     "metadata": {},
     "output_type": "display_data"
    },
    {
     "name": "stdout",
     "output_type": "stream",
     "text": [
      "\n",
      "\n",
      "\u001b[1mLogistic Regression\u001b[0m\n",
      "Accuracy of the model for training data is: 0.879004524887\n",
      "Confusion Matrix for training data is:\n"
     ]
    },
    {
     "data": {
      "text/plain": [
       "Predicted  False  True  __all__\n",
       "Actual                         \n",
       "False       5102   423     5525\n",
       "True         914  4611     5525\n",
       "__all__     6016  5034    11050"
      ]
     },
     "metadata": {},
     "output_type": "display_data"
    },
    {
     "name": "stdout",
     "output_type": "stream",
     "text": [
      "Accuracy of the model for test data is: 0.910733376096\n",
      "Confusion Matrix for test data is:\n"
     ]
    },
    {
     "data": {
      "text/plain": [
       "Predicted  False  True  __all__\n",
       "Actual                         \n",
       "False       7378   607     7985\n",
       "True         228  1141     1369\n",
       "__all__     7606  1748     9354"
      ]
     },
     "metadata": {},
     "output_type": "display_data"
    },
    {
     "name": "stdout",
     "output_type": "stream",
     "text": [
      "\n",
      "\n",
      "\u001b[1mRandomForest Classifier\u001b[0m\n",
      "Accuracy of the model for training data is: 0.928687782805\n",
      "Confusion Matrix for training data is:\n"
     ]
    },
    {
     "data": {
      "text/plain": [
       "Predicted  False  True  __all__\n",
       "Actual                         \n",
       "False       5342   183     5525\n",
       "True         605  4920     5525\n",
       "__all__     5947  5103    11050"
      ]
     },
     "metadata": {},
     "output_type": "display_data"
    },
    {
     "name": "stdout",
     "output_type": "stream",
     "text": [
      "Accuracy of the model for test data is: 0.922493051101\n",
      "Confusion Matrix for test data is:\n"
     ]
    },
    {
     "data": {
      "text/plain": [
       "Predicted  False  True  __all__\n",
       "Actual                         \n",
       "False       7443   542     7985\n",
       "True         183  1186     1369\n",
       "__all__     7626  1728     9354"
      ]
     },
     "metadata": {},
     "output_type": "display_data"
    },
    {
     "data": {
      "application/vnd.plotly.v1+json": {
       "config": {
        "linkText": "Export to plot.ly",
        "plotlyServerURL": "https://plot.ly",
        "showLink": true
       },
       "data": [
        {
         "marker": {
          "color": "rgb(158,202,225)",
          "line": {
           "color": "rgb(8,48,107)",
           "width": 1.5
          }
         },
         "opacity": 0.6,
         "orientation": "h",
         "text": [
          0.1916,
          0.1704,
          0.1233,
          0.1124,
          0.084,
          0.0583,
          0.0414,
          0.0407,
          0.0383,
          0.0369,
          0.0363,
          0.0322,
          0.0253,
          0.0088,
          0.0002,
          0.0001,
          0,
          0,
          0,
          0,
          0,
          0
         ],
         "textposition": "outside",
         "type": "bar",
         "uid": "f4406d8f-31f7-44e7-a007-e82b33002455",
         "x": [
          0.19155339466626872,
          0.17039325173963168,
          0.1233491254704047,
          0.11236908753482037,
          0.08399352045654736,
          0.05825906948834708,
          0.04143495041505071,
          0.04074044933800168,
          0.03826320235465366,
          0.03691318093587096,
          0.03628106207970699,
          0.03216041887259706,
          0.025279574093257713,
          0.008793173773758794,
          0.00016332169717576405,
          5.321708390670606e-05,
          0,
          0,
          0,
          0,
          0,
          0
         ],
         "y": [
          "url_extensions",
          "url_length",
          "url_number_consonants",
          "url_char_.",
          "url_number_vowels",
          "url_tlds",
          "url_number_special_chars/url_length",
          "url_char_/",
          "url_number_vowels/url_length",
          "url_number_consonants/url_length",
          "url_number_special_chars",
          "url_number_digits",
          "url_number_digits/url_length",
          "url_char_-",
          "url_port",
          "url_char_?",
          "url_char_&",
          "url_char__",
          "url_char_=",
          "url_char_:",
          "url_char_+",
          "url_char_%"
         ]
        }
       ],
       "layout": {
        "autosize": false,
        "height": 1000,
        "width": 1000,
        "xaxis": {
         "tickfont": {
          "color": "black",
          "size": 12
         },
         "title": "Feature Importances"
        },
        "yaxis": {
         "automargin": true
        }
       }
      },
      "text/html": [
       "<div id=\"e31a584d-cb71-44fb-9aed-dc91dab88f6e\" style=\"height: 1000px; width: 1000px;\" class=\"plotly-graph-div\"></div><script type=\"text/javascript\">require([\"plotly\"], function(Plotly) { window.PLOTLYENV=window.PLOTLYENV || {};window.PLOTLYENV.BASE_URL=\"https://plot.ly\";Plotly.newPlot(\"e31a584d-cb71-44fb-9aed-dc91dab88f6e\", [{\"marker\": {\"color\": \"rgb(158,202,225)\", \"line\": {\"color\": \"rgb(8,48,107)\", \"width\": 1.5}}, \"opacity\": 0.6, \"orientation\": \"h\", \"text\": [0.1916, 0.1704, 0.1233, 0.1124, 0.084, 0.0583, 0.0414, 0.0407, 0.0383, 0.0369, 0.0363, 0.0322, 0.0253, 0.0088, 0.0002, 0.0001, 0.0, 0.0, 0.0, 0.0, 0.0, 0.0], \"textposition\": \"outside\", \"x\": [0.19155339466626872, 0.17039325173963168, 0.1233491254704047, 0.11236908753482037, 0.08399352045654736, 0.05825906948834708, 0.04143495041505071, 0.04074044933800168, 0.03826320235465366, 0.03691318093587096, 0.03628106207970699, 0.03216041887259706, 0.025279574093257713, 0.008793173773758794, 0.00016332169717576405, 5.321708390670606e-05, 0.0, 0.0, 0.0, 0.0, 0.0, 0.0], \"y\": [\"url_extensions\", \"url_length\", \"url_number_consonants\", \"url_char_.\", \"url_number_vowels\", \"url_tlds\", \"url_number_special_chars/url_length\", \"url_char_/\", \"url_number_vowels/url_length\", \"url_number_consonants/url_length\", \"url_number_special_chars\", \"url_number_digits\", \"url_number_digits/url_length\", \"url_char_-\", \"url_port\", \"url_char_?\", \"url_char_&\", \"url_char__\", \"url_char_=\", \"url_char_:\", \"url_char_+\", \"url_char_%\"], \"type\": \"bar\", \"uid\": \"f4406d8f-31f7-44e7-a007-e82b33002455\"}], {\"autosize\": false, \"height\": 1000, \"width\": 1000, \"xaxis\": {\"tickfont\": {\"color\": \"black\", \"size\": 12}, \"title\": \"Feature Importances\"}, \"yaxis\": {\"automargin\": true}}, {\"showLink\": true, \"linkText\": \"Export to plot.ly\", \"plotlyServerURL\": \"https://plot.ly\"})});</script>"
      ],
      "text/vnd.plotly.v1+html": [
       "<div id=\"e31a584d-cb71-44fb-9aed-dc91dab88f6e\" style=\"height: 1000px; width: 1000px;\" class=\"plotly-graph-div\"></div><script type=\"text/javascript\">require([\"plotly\"], function(Plotly) { window.PLOTLYENV=window.PLOTLYENV || {};window.PLOTLYENV.BASE_URL=\"https://plot.ly\";Plotly.newPlot(\"e31a584d-cb71-44fb-9aed-dc91dab88f6e\", [{\"marker\": {\"color\": \"rgb(158,202,225)\", \"line\": {\"color\": \"rgb(8,48,107)\", \"width\": 1.5}}, \"opacity\": 0.6, \"orientation\": \"h\", \"text\": [0.1916, 0.1704, 0.1233, 0.1124, 0.084, 0.0583, 0.0414, 0.0407, 0.0383, 0.0369, 0.0363, 0.0322, 0.0253, 0.0088, 0.0002, 0.0001, 0.0, 0.0, 0.0, 0.0, 0.0, 0.0], \"textposition\": \"outside\", \"x\": [0.19155339466626872, 0.17039325173963168, 0.1233491254704047, 0.11236908753482037, 0.08399352045654736, 0.05825906948834708, 0.04143495041505071, 0.04074044933800168, 0.03826320235465366, 0.03691318093587096, 0.03628106207970699, 0.03216041887259706, 0.025279574093257713, 0.008793173773758794, 0.00016332169717576405, 5.321708390670606e-05, 0.0, 0.0, 0.0, 0.0, 0.0, 0.0], \"y\": [\"url_extensions\", \"url_length\", \"url_number_consonants\", \"url_char_.\", \"url_number_vowels\", \"url_tlds\", \"url_number_special_chars/url_length\", \"url_char_/\", \"url_number_vowels/url_length\", \"url_number_consonants/url_length\", \"url_number_special_chars\", \"url_number_digits\", \"url_number_digits/url_length\", \"url_char_-\", \"url_port\", \"url_char_?\", \"url_char_&\", \"url_char__\", \"url_char_=\", \"url_char_:\", \"url_char_+\", \"url_char_%\"], \"type\": \"bar\", \"uid\": \"f4406d8f-31f7-44e7-a007-e82b33002455\"}], {\"autosize\": false, \"height\": 1000, \"width\": 1000, \"xaxis\": {\"tickfont\": {\"color\": \"black\", \"size\": 12}, \"title\": \"Feature Importances\"}, \"yaxis\": {\"automargin\": true}}, {\"showLink\": true, \"linkText\": \"Export to plot.ly\", \"plotlyServerURL\": \"https://plot.ly\"})});</script>"
      ]
     },
     "metadata": {},
     "output_type": "display_data"
    },
    {
     "name": "stdout",
     "output_type": "stream",
     "text": [
      "\n",
      "\n",
      "\u001b[1mAdaoost Classifier\u001b[0m\n",
      "Accuracy of the model for training data is: 0.887239819005\n",
      "Confusion Matrix for training data is:\n"
     ]
    },
    {
     "data": {
      "text/plain": [
       "Predicted  False  True  __all__\n",
       "Actual                         \n",
       "False       5111   414     5525\n",
       "True         832  4693     5525\n",
       "__all__     5943  5107    11050"
      ]
     },
     "metadata": {},
     "output_type": "display_data"
    },
    {
     "name": "stdout",
     "output_type": "stream",
     "text": [
      "Accuracy of the model for test data is: 0.909985033141\n",
      "Confusion Matrix for test data is:\n"
     ]
    },
    {
     "data": {
      "text/plain": [
       "Predicted  False  True  __all__\n",
       "Actual                         \n",
       "False       7352   633     7985\n",
       "True         209  1160     1369\n",
       "__all__     7561  1793     9354"
      ]
     },
     "metadata": {},
     "output_type": "display_data"
    },
    {
     "data": {
      "application/vnd.plotly.v1+json": {
       "config": {
        "linkText": "Export to plot.ly",
        "plotlyServerURL": "https://plot.ly",
        "showLink": true
       },
       "data": [
        {
         "marker": {
          "color": "rgb(158,202,225)",
          "line": {
           "color": "rgb(8,48,107)",
           "width": 1.5
          }
         },
         "opacity": 0.6,
         "orientation": "h",
         "text": [
          0.18,
          0.14,
          0.12,
          0.12,
          0.1,
          0.08,
          0.06,
          0.06,
          0.04,
          0.02,
          0.02,
          0.02,
          0.02,
          0.02,
          0,
          0,
          0,
          0,
          0,
          0,
          0,
          0
         ],
         "textposition": "outside",
         "type": "bar",
         "uid": "43af06a1-17b8-4bf5-9119-f324ea106943",
         "x": [
          0.18,
          0.14,
          0.12,
          0.12,
          0.1,
          0.08,
          0.06,
          0.06,
          0.04,
          0.02,
          0.02,
          0.02,
          0.02,
          0.02,
          0,
          0,
          0,
          0,
          0,
          0,
          0,
          0
         ],
         "y": [
          "url_length",
          "url_extensions",
          "url_char_.",
          "url_number_special_chars/url_length",
          "url_number_digits/url_length",
          "url_number_vowels/url_length",
          "url_number_consonants/url_length",
          "url_number_consonants",
          "url_tlds",
          "url_number_vowels",
          "url_number_digits",
          "url_number_special_chars",
          "url_char_/",
          "url_char_-",
          "url_char_&",
          "url_port",
          "url_char__",
          "url_char_?",
          "url_char_=",
          "url_char_:",
          "url_char_+",
          "url_char_%"
         ]
        }
       ],
       "layout": {
        "autosize": false,
        "height": 1000,
        "width": 1000,
        "xaxis": {
         "tickfont": {
          "color": "black",
          "size": 12
         },
         "title": "Feature Importances"
        },
        "yaxis": {
         "automargin": true
        }
       }
      },
      "text/html": [
       "<div id=\"8767d897-33d7-474a-9282-77c34f056650\" style=\"height: 1000px; width: 1000px;\" class=\"plotly-graph-div\"></div><script type=\"text/javascript\">require([\"plotly\"], function(Plotly) { window.PLOTLYENV=window.PLOTLYENV || {};window.PLOTLYENV.BASE_URL=\"https://plot.ly\";Plotly.newPlot(\"8767d897-33d7-474a-9282-77c34f056650\", [{\"marker\": {\"color\": \"rgb(158,202,225)\", \"line\": {\"color\": \"rgb(8,48,107)\", \"width\": 1.5}}, \"opacity\": 0.6, \"orientation\": \"h\", \"text\": [0.18, 0.14, 0.12, 0.12, 0.1, 0.08, 0.06, 0.06, 0.04, 0.02, 0.02, 0.02, 0.02, 0.02, 0.0, 0.0, 0.0, 0.0, 0.0, 0.0, 0.0, 0.0], \"textposition\": \"outside\", \"x\": [0.18, 0.14, 0.12, 0.12, 0.1, 0.08, 0.06, 0.06, 0.04, 0.02, 0.02, 0.02, 0.02, 0.02, 0.0, 0.0, 0.0, 0.0, 0.0, 0.0, 0.0, 0.0], \"y\": [\"url_length\", \"url_extensions\", \"url_char_.\", \"url_number_special_chars/url_length\", \"url_number_digits/url_length\", \"url_number_vowels/url_length\", \"url_number_consonants/url_length\", \"url_number_consonants\", \"url_tlds\", \"url_number_vowels\", \"url_number_digits\", \"url_number_special_chars\", \"url_char_/\", \"url_char_-\", \"url_char_&\", \"url_port\", \"url_char__\", \"url_char_?\", \"url_char_=\", \"url_char_:\", \"url_char_+\", \"url_char_%\"], \"type\": \"bar\", \"uid\": \"43af06a1-17b8-4bf5-9119-f324ea106943\"}], {\"autosize\": false, \"height\": 1000, \"width\": 1000, \"xaxis\": {\"tickfont\": {\"color\": \"black\", \"size\": 12}, \"title\": \"Feature Importances\"}, \"yaxis\": {\"automargin\": true}}, {\"showLink\": true, \"linkText\": \"Export to plot.ly\", \"plotlyServerURL\": \"https://plot.ly\"})});</script>"
      ],
      "text/vnd.plotly.v1+html": [
       "<div id=\"8767d897-33d7-474a-9282-77c34f056650\" style=\"height: 1000px; width: 1000px;\" class=\"plotly-graph-div\"></div><script type=\"text/javascript\">require([\"plotly\"], function(Plotly) { window.PLOTLYENV=window.PLOTLYENV || {};window.PLOTLYENV.BASE_URL=\"https://plot.ly\";Plotly.newPlot(\"8767d897-33d7-474a-9282-77c34f056650\", [{\"marker\": {\"color\": \"rgb(158,202,225)\", \"line\": {\"color\": \"rgb(8,48,107)\", \"width\": 1.5}}, \"opacity\": 0.6, \"orientation\": \"h\", \"text\": [0.18, 0.14, 0.12, 0.12, 0.1, 0.08, 0.06, 0.06, 0.04, 0.02, 0.02, 0.02, 0.02, 0.02, 0.0, 0.0, 0.0, 0.0, 0.0, 0.0, 0.0, 0.0], \"textposition\": \"outside\", \"x\": [0.18, 0.14, 0.12, 0.12, 0.1, 0.08, 0.06, 0.06, 0.04, 0.02, 0.02, 0.02, 0.02, 0.02, 0.0, 0.0, 0.0, 0.0, 0.0, 0.0, 0.0, 0.0], \"y\": [\"url_length\", \"url_extensions\", \"url_char_.\", \"url_number_special_chars/url_length\", \"url_number_digits/url_length\", \"url_number_vowels/url_length\", \"url_number_consonants/url_length\", \"url_number_consonants\", \"url_tlds\", \"url_number_vowels\", \"url_number_digits\", \"url_number_special_chars\", \"url_char_/\", \"url_char_-\", \"url_char_&\", \"url_port\", \"url_char__\", \"url_char_?\", \"url_char_=\", \"url_char_:\", \"url_char_+\", \"url_char_%\"], \"type\": \"bar\", \"uid\": \"43af06a1-17b8-4bf5-9119-f324ea106943\"}], {\"autosize\": false, \"height\": 1000, \"width\": 1000, \"xaxis\": {\"tickfont\": {\"color\": \"black\", \"size\": 12}, \"title\": \"Feature Importances\"}, \"yaxis\": {\"automargin\": true}}, {\"showLink\": true, \"linkText\": \"Export to plot.ly\", \"plotlyServerURL\": \"https://plot.ly\"})});</script>"
      ]
     },
     "metadata": {},
     "output_type": "display_data"
    },
    {
     "name": "stdout",
     "output_type": "stream",
     "text": [
      "\n",
      "\n",
      "\u001b[1mGradientBoosting Classifier\u001b[0m\n",
      "Accuracy of the model for training data is: 0.90443438914\n",
      "Confusion Matrix for training data is:\n"
     ]
    },
    {
     "data": {
      "text/plain": [
       "Predicted  False  True  __all__\n",
       "Actual                         \n",
       "False       5228   297     5525\n",
       "True         759  4766     5525\n",
       "__all__     5987  5063    11050"
      ]
     },
     "metadata": {},
     "output_type": "display_data"
    },
    {
     "name": "stdout",
     "output_type": "stream",
     "text": [
      "Accuracy of the model for test data is: 0.931045542014\n",
      "Confusion Matrix for test data is:\n"
     ]
    },
    {
     "data": {
      "text/plain": [
       "Predicted  False  True  __all__\n",
       "Actual                         \n",
       "False       7516   469     7985\n",
       "True         176  1193     1369\n",
       "__all__     7692  1662     9354"
      ]
     },
     "metadata": {},
     "output_type": "display_data"
    },
    {
     "data": {
      "application/vnd.plotly.v1+json": {
       "config": {
        "linkText": "Export to plot.ly",
        "plotlyServerURL": "https://plot.ly",
        "showLink": true
       },
       "data": [
        {
         "marker": {
          "color": "rgb(158,202,225)",
          "line": {
           "color": "rgb(8,48,107)",
           "width": 1.5
          }
         },
         "opacity": 0.6,
         "orientation": "h",
         "text": [
          0.4846,
          0.2695,
          0.0659,
          0.0472,
          0.0422,
          0.0387,
          0.0236,
          0.0147,
          0.0056,
          0.0044,
          0.0013,
          0.0012,
          0.0007,
          0.0005,
          0,
          0,
          0,
          0,
          0,
          0,
          0,
          0
         ],
         "textposition": "outside",
         "type": "bar",
         "uid": "ddcf6285-6ffa-4578-ba15-2b4a0f086b5b",
         "x": [
          0.4846196365966466,
          0.2695362330980111,
          0.06586140761104864,
          0.04718251096340259,
          0.04223826996376224,
          0.03874199387249443,
          0.02355826318952143,
          0.014670495892993903,
          0.00555554069932569,
          0.004406038604785705,
          0.0012583658642440652,
          0.0011738400146773232,
          0.0006537350510736395,
          0.0005436685780125446,
          0,
          0,
          0,
          0,
          0,
          0,
          0,
          0
         ],
         "y": [
          "url_length",
          "url_extensions",
          "url_number_special_chars",
          "url_char_/",
          "url_char_.",
          "url_number_digits/url_length",
          "url_number_vowels/url_length",
          "url_tlds",
          "url_number_consonants",
          "url_number_special_chars/url_length",
          "url_number_consonants/url_length",
          "url_char_-",
          "url_number_digits",
          "url_number_vowels",
          "url_char_=",
          "url_char_?",
          "url_char__",
          "url_port",
          "url_char_&",
          "url_char_:",
          "url_char_+",
          "url_char_%"
         ]
        }
       ],
       "layout": {
        "autosize": false,
        "height": 1000,
        "width": 1000,
        "xaxis": {
         "tickfont": {
          "color": "black",
          "size": 12
         },
         "title": "Feature Importances"
        },
        "yaxis": {
         "automargin": true
        }
       }
      },
      "text/html": [
       "<div id=\"3e471052-a2e8-4ba2-a836-7de0123de919\" style=\"height: 1000px; width: 1000px;\" class=\"plotly-graph-div\"></div><script type=\"text/javascript\">require([\"plotly\"], function(Plotly) { window.PLOTLYENV=window.PLOTLYENV || {};window.PLOTLYENV.BASE_URL=\"https://plot.ly\";Plotly.newPlot(\"3e471052-a2e8-4ba2-a836-7de0123de919\", [{\"marker\": {\"color\": \"rgb(158,202,225)\", \"line\": {\"color\": \"rgb(8,48,107)\", \"width\": 1.5}}, \"opacity\": 0.6, \"orientation\": \"h\", \"text\": [0.4846, 0.2695, 0.0659, 0.0472, 0.0422, 0.0387, 0.0236, 0.0147, 0.0056, 0.0044, 0.0013, 0.0012, 0.0007, 0.0005, 0.0, 0.0, 0.0, 0.0, 0.0, 0.0, 0.0, 0.0], \"textposition\": \"outside\", \"x\": [0.4846196365966466, 0.2695362330980111, 0.06586140761104864, 0.04718251096340259, 0.04223826996376224, 0.03874199387249443, 0.02355826318952143, 0.014670495892993903, 0.00555554069932569, 0.004406038604785705, 0.0012583658642440652, 0.0011738400146773232, 0.0006537350510736395, 0.0005436685780125446, 0.0, 0.0, 0.0, 0.0, 0.0, 0.0, 0.0, 0.0], \"y\": [\"url_length\", \"url_extensions\", \"url_number_special_chars\", \"url_char_/\", \"url_char_.\", \"url_number_digits/url_length\", \"url_number_vowels/url_length\", \"url_tlds\", \"url_number_consonants\", \"url_number_special_chars/url_length\", \"url_number_consonants/url_length\", \"url_char_-\", \"url_number_digits\", \"url_number_vowels\", \"url_char_=\", \"url_char_?\", \"url_char__\", \"url_port\", \"url_char_&\", \"url_char_:\", \"url_char_+\", \"url_char_%\"], \"type\": \"bar\", \"uid\": \"ddcf6285-6ffa-4578-ba15-2b4a0f086b5b\"}], {\"autosize\": false, \"height\": 1000, \"width\": 1000, \"xaxis\": {\"tickfont\": {\"color\": \"black\", \"size\": 12}, \"title\": \"Feature Importances\"}, \"yaxis\": {\"automargin\": true}}, {\"showLink\": true, \"linkText\": \"Export to plot.ly\", \"plotlyServerURL\": \"https://plot.ly\"})});</script>"
      ],
      "text/vnd.plotly.v1+html": [
       "<div id=\"3e471052-a2e8-4ba2-a836-7de0123de919\" style=\"height: 1000px; width: 1000px;\" class=\"plotly-graph-div\"></div><script type=\"text/javascript\">require([\"plotly\"], function(Plotly) { window.PLOTLYENV=window.PLOTLYENV || {};window.PLOTLYENV.BASE_URL=\"https://plot.ly\";Plotly.newPlot(\"3e471052-a2e8-4ba2-a836-7de0123de919\", [{\"marker\": {\"color\": \"rgb(158,202,225)\", \"line\": {\"color\": \"rgb(8,48,107)\", \"width\": 1.5}}, \"opacity\": 0.6, \"orientation\": \"h\", \"text\": [0.4846, 0.2695, 0.0659, 0.0472, 0.0422, 0.0387, 0.0236, 0.0147, 0.0056, 0.0044, 0.0013, 0.0012, 0.0007, 0.0005, 0.0, 0.0, 0.0, 0.0, 0.0, 0.0, 0.0, 0.0], \"textposition\": \"outside\", \"x\": [0.4846196365966466, 0.2695362330980111, 0.06586140761104864, 0.04718251096340259, 0.04223826996376224, 0.03874199387249443, 0.02355826318952143, 0.014670495892993903, 0.00555554069932569, 0.004406038604785705, 0.0012583658642440652, 0.0011738400146773232, 0.0006537350510736395, 0.0005436685780125446, 0.0, 0.0, 0.0, 0.0, 0.0, 0.0, 0.0, 0.0], \"y\": [\"url_length\", \"url_extensions\", \"url_number_special_chars\", \"url_char_/\", \"url_char_.\", \"url_number_digits/url_length\", \"url_number_vowels/url_length\", \"url_tlds\", \"url_number_consonants\", \"url_number_special_chars/url_length\", \"url_number_consonants/url_length\", \"url_char_-\", \"url_number_digits\", \"url_number_vowels\", \"url_char_=\", \"url_char_?\", \"url_char__\", \"url_port\", \"url_char_&\", \"url_char_:\", \"url_char_+\", \"url_char_%\"], \"type\": \"bar\", \"uid\": \"ddcf6285-6ffa-4578-ba15-2b4a0f086b5b\"}], {\"autosize\": false, \"height\": 1000, \"width\": 1000, \"xaxis\": {\"tickfont\": {\"color\": \"black\", \"size\": 12}, \"title\": \"Feature Importances\"}, \"yaxis\": {\"automargin\": true}}, {\"showLink\": true, \"linkText\": \"Export to plot.ly\", \"plotlyServerURL\": \"https://plot.ly\"})});</script>"
      ]
     },
     "metadata": {},
     "output_type": "display_data"
    },
    {
     "name": "stdout",
     "output_type": "stream",
     "text": [
      "\n",
      "\n",
      "\u001b[1mExtraTree Classifier\u001b[0m\n",
      "Accuracy of the model for training data is: 0.930769230769\n",
      "Confusion Matrix for training data is:\n"
     ]
    },
    {
     "data": {
      "text/plain": [
       "Predicted  False  True  __all__\n",
       "Actual                         \n",
       "False       5397   128     5525\n",
       "True         637  4888     5525\n",
       "__all__     6034  5016    11050"
      ]
     },
     "metadata": {},
     "output_type": "display_data"
    },
    {
     "name": "stdout",
     "output_type": "stream",
     "text": [
      "Accuracy of the model for test data is: 0.926876202694\n",
      "Confusion Matrix for test data is:\n"
     ]
    },
    {
     "data": {
      "text/plain": [
       "Predicted  False  True  __all__\n",
       "Actual                         \n",
       "False       7503   482     7985\n",
       "True         202  1167     1369\n",
       "__all__     7705  1649     9354"
      ]
     },
     "metadata": {},
     "output_type": "display_data"
    },
    {
     "data": {
      "application/vnd.plotly.v1+json": {
       "config": {
        "linkText": "Export to plot.ly",
        "plotlyServerURL": "https://plot.ly",
        "showLink": true
       },
       "data": [
        {
         "marker": {
          "color": "rgb(158,202,225)",
          "line": {
           "color": "rgb(8,48,107)",
           "width": 1.5
          }
         },
         "opacity": 0.6,
         "orientation": "h",
         "text": [
          0.1499,
          0.1388,
          0.124,
          0.1225,
          0.0824,
          0.0741,
          0.0608,
          0.0462,
          0.0447,
          0.0441,
          0.0396,
          0.0289,
          0.0288,
          0.0116,
          0.0016,
          0.0015,
          0.0003,
          0.0001,
          0,
          0,
          0,
          0
         ],
         "textposition": "outside",
         "type": "bar",
         "uid": "b5fb3225-8bba-4245-98bf-cf9a950e9751",
         "x": [
          0.14986341390145325,
          0.13876460357489392,
          0.12402283658526767,
          0.12245930131556822,
          0.08243513482200156,
          0.07411377898314932,
          0.06082631812945466,
          0.0462170682084946,
          0.04468145804933905,
          0.04414575748504772,
          0.039552664774168945,
          0.028915589815410342,
          0.02883101725345944,
          0.011582187882930807,
          0.0016282838273367676,
          0.0015291213968944958,
          0.0002909834377529231,
          8.957425122991324e-05,
          3.5824135323375865e-05,
          8.723445344219226e-06,
          5.9013345345209175e-06,
          4.573909442586165e-07
         ],
         "y": [
          "url_char_.",
          "url_extensions",
          "url_number_special_chars",
          "url_length",
          "url_number_consonants",
          "url_number_vowels",
          "url_tlds",
          "url_number_digits/url_length",
          "url_number_vowels/url_length",
          "url_number_special_chars/url_length",
          "url_char_/",
          "url_number_digits",
          "url_number_consonants/url_length",
          "url_char_-",
          "url_port",
          "url_char_?",
          "url_char_=",
          "url_char_%",
          "url_char__",
          "url_char_&",
          "url_char_:",
          "url_char_+"
         ]
        }
       ],
       "layout": {
        "autosize": false,
        "height": 1000,
        "width": 1000,
        "xaxis": {
         "tickfont": {
          "color": "black",
          "size": 12
         },
         "title": "Feature Importances"
        },
        "yaxis": {
         "automargin": true
        }
       }
      },
      "text/html": [
       "<div id=\"a424e637-f29a-4012-b604-e4c5f7beb41d\" style=\"height: 1000px; width: 1000px;\" class=\"plotly-graph-div\"></div><script type=\"text/javascript\">require([\"plotly\"], function(Plotly) { window.PLOTLYENV=window.PLOTLYENV || {};window.PLOTLYENV.BASE_URL=\"https://plot.ly\";Plotly.newPlot(\"a424e637-f29a-4012-b604-e4c5f7beb41d\", [{\"marker\": {\"color\": \"rgb(158,202,225)\", \"line\": {\"color\": \"rgb(8,48,107)\", \"width\": 1.5}}, \"opacity\": 0.6, \"orientation\": \"h\", \"text\": [0.1499, 0.1388, 0.124, 0.1225, 0.0824, 0.0741, 0.0608, 0.0462, 0.0447, 0.0441, 0.0396, 0.0289, 0.0288, 0.0116, 0.0016, 0.0015, 0.0003, 0.0001, 0.0, 0.0, 0.0, 0.0], \"textposition\": \"outside\", \"x\": [0.14986341390145325, 0.13876460357489392, 0.12402283658526767, 0.12245930131556822, 0.08243513482200156, 0.07411377898314932, 0.06082631812945466, 0.0462170682084946, 0.04468145804933905, 0.04414575748504772, 0.039552664774168945, 0.028915589815410342, 0.02883101725345944, 0.011582187882930807, 0.0016282838273367676, 0.0015291213968944958, 0.0002909834377529231, 8.957425122991324e-05, 3.5824135323375865e-05, 8.723445344219226e-06, 5.9013345345209175e-06, 4.573909442586165e-07], \"y\": [\"url_char_.\", \"url_extensions\", \"url_number_special_chars\", \"url_length\", \"url_number_consonants\", \"url_number_vowels\", \"url_tlds\", \"url_number_digits/url_length\", \"url_number_vowels/url_length\", \"url_number_special_chars/url_length\", \"url_char_/\", \"url_number_digits\", \"url_number_consonants/url_length\", \"url_char_-\", \"url_port\", \"url_char_?\", \"url_char_=\", \"url_char_%\", \"url_char__\", \"url_char_&\", \"url_char_:\", \"url_char_+\"], \"type\": \"bar\", \"uid\": \"b5fb3225-8bba-4245-98bf-cf9a950e9751\"}], {\"autosize\": false, \"height\": 1000, \"width\": 1000, \"xaxis\": {\"tickfont\": {\"color\": \"black\", \"size\": 12}, \"title\": \"Feature Importances\"}, \"yaxis\": {\"automargin\": true}}, {\"showLink\": true, \"linkText\": \"Export to plot.ly\", \"plotlyServerURL\": \"https://plot.ly\"})});</script>"
      ],
      "text/vnd.plotly.v1+html": [
       "<div id=\"a424e637-f29a-4012-b604-e4c5f7beb41d\" style=\"height: 1000px; width: 1000px;\" class=\"plotly-graph-div\"></div><script type=\"text/javascript\">require([\"plotly\"], function(Plotly) { window.PLOTLYENV=window.PLOTLYENV || {};window.PLOTLYENV.BASE_URL=\"https://plot.ly\";Plotly.newPlot(\"a424e637-f29a-4012-b604-e4c5f7beb41d\", [{\"marker\": {\"color\": \"rgb(158,202,225)\", \"line\": {\"color\": \"rgb(8,48,107)\", \"width\": 1.5}}, \"opacity\": 0.6, \"orientation\": \"h\", \"text\": [0.1499, 0.1388, 0.124, 0.1225, 0.0824, 0.0741, 0.0608, 0.0462, 0.0447, 0.0441, 0.0396, 0.0289, 0.0288, 0.0116, 0.0016, 0.0015, 0.0003, 0.0001, 0.0, 0.0, 0.0, 0.0], \"textposition\": \"outside\", \"x\": [0.14986341390145325, 0.13876460357489392, 0.12402283658526767, 0.12245930131556822, 0.08243513482200156, 0.07411377898314932, 0.06082631812945466, 0.0462170682084946, 0.04468145804933905, 0.04414575748504772, 0.039552664774168945, 0.028915589815410342, 0.02883101725345944, 0.011582187882930807, 0.0016282838273367676, 0.0015291213968944958, 0.0002909834377529231, 8.957425122991324e-05, 3.5824135323375865e-05, 8.723445344219226e-06, 5.9013345345209175e-06, 4.573909442586165e-07], \"y\": [\"url_char_.\", \"url_extensions\", \"url_number_special_chars\", \"url_length\", \"url_number_consonants\", \"url_number_vowels\", \"url_tlds\", \"url_number_digits/url_length\", \"url_number_vowels/url_length\", \"url_number_special_chars/url_length\", \"url_char_/\", \"url_number_digits\", \"url_number_consonants/url_length\", \"url_char_-\", \"url_port\", \"url_char_?\", \"url_char_=\", \"url_char_%\", \"url_char__\", \"url_char_&\", \"url_char_:\", \"url_char_+\"], \"type\": \"bar\", \"uid\": \"b5fb3225-8bba-4245-98bf-cf9a950e9751\"}], {\"autosize\": false, \"height\": 1000, \"width\": 1000, \"xaxis\": {\"tickfont\": {\"color\": \"black\", \"size\": 12}, \"title\": \"Feature Importances\"}, \"yaxis\": {\"automargin\": true}}, {\"showLink\": true, \"linkText\": \"Export to plot.ly\", \"plotlyServerURL\": \"https://plot.ly\"})});</script>"
      ]
     },
     "metadata": {},
     "output_type": "display_data"
    },
    {
     "name": "stdout",
     "output_type": "stream",
     "text": [
      "\n",
      "\n",
      "\u001b[1mBagging Classifier\u001b[0m\n",
      "Accuracy of the model for training data is: 0.929140271493\n",
      "Confusion Matrix for training data is:\n"
     ]
    },
    {
     "data": {
      "text/plain": [
       "Predicted  False  True  __all__\n",
       "Actual                         \n",
       "False       5354   171     5525\n",
       "True         612  4913     5525\n",
       "__all__     5966  5084    11050"
      ]
     },
     "metadata": {},
     "output_type": "display_data"
    },
    {
     "name": "stdout",
     "output_type": "stream",
     "text": [
      "Accuracy of the model for test data is: 0.921103271328\n",
      "Confusion Matrix for test data is:\n"
     ]
    },
    {
     "data": {
      "text/plain": [
       "Predicted  False  True  __all__\n",
       "Actual                         \n",
       "False       7436   549     7985\n",
       "True         189  1180     1369\n",
       "__all__     7625  1729     9354"
      ]
     },
     "metadata": {},
     "output_type": "display_data"
    },
    {
     "name": "stdout",
     "output_type": "stream",
     "text": [
      "\n",
      "\n",
      "\u001b[1mNeural Network-1\u001b[0m\n",
      "The accuracy of the model on training data is: 0.915475113133\n"
     ]
    },
    {
     "data": {
      "text/plain": [
       "Predicted  False  True  __all__\n",
       "Actual                         \n",
       "False       5310   215     5525\n",
       "True         719  4806     5525\n",
       "__all__     6029  5021    11050"
      ]
     },
     "metadata": {},
     "output_type": "display_data"
    },
    {
     "name": "stdout",
     "output_type": "stream",
     "text": [
      "The accuracy of the model on test data is: 0.937566816335\n"
     ]
    },
    {
     "data": {
      "text/plain": [
       "Predicted  False  True  __all__\n",
       "Actual                         \n",
       "False       7581   404     7985\n",
       "True         180  1189     1369\n",
       "__all__     7761  1593     9354"
      ]
     },
     "metadata": {},
     "output_type": "display_data"
    },
    {
     "name": "stdout",
     "output_type": "stream",
     "text": [
      "\n",
      "\n"
     ]
    }
   ],
   "source": [
    "feat_imp=[None]*4\n",
    "j=0\n",
    "for i in range(0,8):\n",
    "    if i>=2 and i<=5:\n",
    "        model,cm_train,cm_test,acc_train,acc_test,roc_auc,feat_imp[j],mcc=f[i](X_train,Y_train,scaled_X_test,test_Y,columns)\n",
    "        j=j+1\n",
    "    else:\n",
    "        model,cm_train,cm_test,acc_train,acc_test,roc_auc,mcc=f[i](X_train,Y_train,scaled_X_test,test_Y)\n",
    "    table_80_90_train.loc[i]=   ([acc_train,cm_train.TP,cm_train.TN,cm_train.FP,cm_train.FN,cm_train.FPR,cm_train.FNR])\n",
    "    table_80_90_test.loc[i] =   ([acc_test ,cm_test.TP, cm_test.TN, cm_test.FP, cm_test.FN, cm_test.FPR, cm_test.FNR,roc_auc,mcc])\n",
    "    print(\"\\n\")"
   ]
  },
  {
   "cell_type": "markdown",
   "metadata": {},
   "source": [
    "### <a id='3.A' style=\"text-decoration : none; color : #000000;\"> A. Results</a>"
   ]
  },
  {
   "cell_type": "code",
   "execution_count": 33,
   "metadata": {},
   "outputs": [
    {
     "data": {
      "application/vnd.plotly.v1+json": {
       "config": {
        "linkText": "Export to plot.ly",
        "plotlyServerURL": "https://plot.ly",
        "showLink": true
       },
       "data": [
        {
         "mode": "lines",
         "name": "KNN_model",
         "type": "scatter",
         "uid": "4d5a3cca-eda5-4076-9242-796acb4fcc70",
         "x": [
          "accuracy",
          "FPR",
          "FNR",
          "auc"
         ],
         "y": [
          0.935856318152662,
          0.05184721352536005,
          0.1358655953250548,
          0.9061435955747925
         ]
        },
        {
         "mode": "lines+markers",
         "name": "Logistic Regression",
         "type": "scatter",
         "uid": "96c4c815-2170-4a72-ab39-e01abd8fa69d",
         "x": [
          "accuracy",
          "FPR",
          "FNR",
          "auc"
         ],
         "y": [
          0.9107333760957879,
          0.07601753287413901,
          0.16654492330168005,
          0.8787187719120904
         ]
        },
        {
         "marker": {
          "symbol": "x"
         },
         "mode": "lines+markers",
         "name": "Random Forest",
         "type": "scatter",
         "uid": "b9d5c161-617a-4520-a5f5-6c21b0781df7",
         "x": [
          "accuracy",
          "FPR",
          "FNR",
          "auc"
         ],
         "y": [
          0.9224930511011332,
          0.06787726988102692,
          0.13367421475529584,
          0.8992242576818386
         ]
        },
        {
         "mode": "lines",
         "name": "Ada Boost",
         "type": "scatter",
         "uid": "3b54592d-458e-49a4-a02e-bcbf135ac476",
         "x": [
          "accuracy",
          "FPR",
          "FNR",
          "auc"
         ],
         "y": [
          0.9099850331409023,
          0.07927363807138385,
          0.15266617969320673,
          0.8840300911177047
         ]
        },
        {
         "mode": "lines+markers",
         "name": "GradientBoosting",
         "type": "scatter",
         "uid": "2064754f-c37b-490c-be36-175a56c48ab8",
         "x": [
          "accuracy",
          "FPR",
          "FNR",
          "auc"
         ],
         "y": [
          0.9310455420141116,
          0.05873512836568566,
          0.12856099342585828,
          0.9063519391042281
         ]
        },
        {
         "marker": {
          "symbol": "x"
         },
         "mode": "lines+markers",
         "name": "ExtraTree Classifier",
         "type": "scatter",
         "uid": "88c09f58-f102-4cb9-8571-88f8c6ca5aa3",
         "x": [
          "accuracy",
          "FPR",
          "FNR",
          "auc"
         ],
         "y": [
          0.9268762026940346,
          0.06036318096430808,
          0.14755295836376917,
          0.8960419303359615
         ]
        },
        {
         "marker": {
          "symbol": "x"
         },
         "mode": "lines+markers",
         "name": "Bagging",
         "type": "scatter",
         "uid": "3c4f45de-79a9-44b2-a552-b61da1e26db4",
         "x": [
          "accuracy",
          "FPR",
          "FNR",
          "auc"
         ],
         "y": [
          0.9211032713277743,
          0.06875391358797746,
          0.13805697589481372,
          0.8965945552586045
         ]
        },
        {
         "marker": {
          "symbol": "x"
         },
         "mode": "lines+markers",
         "name": "Neural Network",
         "type": "scatter",
         "uid": "faad2021-eb11-4a3c-8391-1eaf7733c9ca",
         "x": [
          "accuracy",
          "FPR",
          "FNR",
          "auc"
         ],
         "y": [
          0.9375668163352576,
          0.05059486537257358,
          0.13148283418553688,
          0.8965945552586045
         ]
        }
       ],
       "layout": {
        "title": "Result comparision for Features selected in Section 1",
        "yaxis": {
         "dtick": 0.05,
         "tick0": 0
        }
       }
      },
      "text/html": [
       "<div id=\"a4594caa-f05e-4703-9b68-57a097b7ace7\" style=\"height: 525px; width: 100%;\" class=\"plotly-graph-div\"></div><script type=\"text/javascript\">require([\"plotly\"], function(Plotly) { window.PLOTLYENV=window.PLOTLYENV || {};window.PLOTLYENV.BASE_URL=\"https://plot.ly\";Plotly.newPlot(\"a4594caa-f05e-4703-9b68-57a097b7ace7\", [{\"mode\": \"lines\", \"name\": \"KNN_model\", \"x\": [\"accuracy\", \"FPR\", \"FNR\", \"auc\"], \"y\": [0.935856318152662, 0.05184721352536005, 0.1358655953250548, 0.9061435955747925], \"type\": \"scatter\", \"uid\": \"4d5a3cca-eda5-4076-9242-796acb4fcc70\"}, {\"mode\": \"lines+markers\", \"name\": \"Logistic Regression\", \"x\": [\"accuracy\", \"FPR\", \"FNR\", \"auc\"], \"y\": [0.9107333760957879, 0.07601753287413901, 0.16654492330168005, 0.8787187719120904], \"type\": \"scatter\", \"uid\": \"96c4c815-2170-4a72-ab39-e01abd8fa69d\"}, {\"marker\": {\"symbol\": \"x\"}, \"mode\": \"lines+markers\", \"name\": \"Random Forest\", \"x\": [\"accuracy\", \"FPR\", \"FNR\", \"auc\"], \"y\": [0.9224930511011332, 0.06787726988102692, 0.13367421475529584, 0.8992242576818386], \"type\": \"scatter\", \"uid\": \"b9d5c161-617a-4520-a5f5-6c21b0781df7\"}, {\"mode\": \"lines\", \"name\": \"Ada Boost\", \"x\": [\"accuracy\", \"FPR\", \"FNR\", \"auc\"], \"y\": [0.9099850331409023, 0.07927363807138385, 0.15266617969320673, 0.8840300911177047], \"type\": \"scatter\", \"uid\": \"3b54592d-458e-49a4-a02e-bcbf135ac476\"}, {\"mode\": \"lines+markers\", \"name\": \"GradientBoosting\", \"x\": [\"accuracy\", \"FPR\", \"FNR\", \"auc\"], \"y\": [0.9310455420141116, 0.05873512836568566, 0.12856099342585828, 0.9063519391042281], \"type\": \"scatter\", \"uid\": \"2064754f-c37b-490c-be36-175a56c48ab8\"}, {\"marker\": {\"symbol\": \"x\"}, \"mode\": \"lines+markers\", \"name\": \"ExtraTree Classifier\", \"x\": [\"accuracy\", \"FPR\", \"FNR\", \"auc\"], \"y\": [0.9268762026940346, 0.06036318096430808, 0.14755295836376917, 0.8960419303359615], \"type\": \"scatter\", \"uid\": \"88c09f58-f102-4cb9-8571-88f8c6ca5aa3\"}, {\"marker\": {\"symbol\": \"x\"}, \"mode\": \"lines+markers\", \"name\": \"Bagging\", \"x\": [\"accuracy\", \"FPR\", \"FNR\", \"auc\"], \"y\": [0.9211032713277743, 0.06875391358797746, 0.13805697589481372, 0.8965945552586045], \"type\": \"scatter\", \"uid\": \"3c4f45de-79a9-44b2-a552-b61da1e26db4\"}, {\"marker\": {\"symbol\": \"x\"}, \"mode\": \"lines+markers\", \"name\": \"Neural Network\", \"x\": [\"accuracy\", \"FPR\", \"FNR\", \"auc\"], \"y\": [0.9375668163352576, 0.05059486537257358, 0.13148283418553688, 0.8965945552586045], \"type\": \"scatter\", \"uid\": \"faad2021-eb11-4a3c-8391-1eaf7733c9ca\"}], {\"title\": \"Result comparision for Features selected in Section 1\", \"yaxis\": {\"dtick\": 0.05, \"tick0\": 0}}, {\"showLink\": true, \"linkText\": \"Export to plot.ly\", \"plotlyServerURL\": \"https://plot.ly\"})});</script><script type=\"text/javascript\">window.addEventListener(\"resize\", function(){window._Plotly.Plots.resize(document.getElementById(\"a4594caa-f05e-4703-9b68-57a097b7ace7\"));});</script>"
      ],
      "text/vnd.plotly.v1+html": [
       "<div id=\"a4594caa-f05e-4703-9b68-57a097b7ace7\" style=\"height: 525px; width: 100%;\" class=\"plotly-graph-div\"></div><script type=\"text/javascript\">require([\"plotly\"], function(Plotly) { window.PLOTLYENV=window.PLOTLYENV || {};window.PLOTLYENV.BASE_URL=\"https://plot.ly\";Plotly.newPlot(\"a4594caa-f05e-4703-9b68-57a097b7ace7\", [{\"mode\": \"lines\", \"name\": \"KNN_model\", \"x\": [\"accuracy\", \"FPR\", \"FNR\", \"auc\"], \"y\": [0.935856318152662, 0.05184721352536005, 0.1358655953250548, 0.9061435955747925], \"type\": \"scatter\", \"uid\": \"4d5a3cca-eda5-4076-9242-796acb4fcc70\"}, {\"mode\": \"lines+markers\", \"name\": \"Logistic Regression\", \"x\": [\"accuracy\", \"FPR\", \"FNR\", \"auc\"], \"y\": [0.9107333760957879, 0.07601753287413901, 0.16654492330168005, 0.8787187719120904], \"type\": \"scatter\", \"uid\": \"96c4c815-2170-4a72-ab39-e01abd8fa69d\"}, {\"marker\": {\"symbol\": \"x\"}, \"mode\": \"lines+markers\", \"name\": \"Random Forest\", \"x\": [\"accuracy\", \"FPR\", \"FNR\", \"auc\"], \"y\": [0.9224930511011332, 0.06787726988102692, 0.13367421475529584, 0.8992242576818386], \"type\": \"scatter\", \"uid\": \"b9d5c161-617a-4520-a5f5-6c21b0781df7\"}, {\"mode\": \"lines\", \"name\": \"Ada Boost\", \"x\": [\"accuracy\", \"FPR\", \"FNR\", \"auc\"], \"y\": [0.9099850331409023, 0.07927363807138385, 0.15266617969320673, 0.8840300911177047], \"type\": \"scatter\", \"uid\": \"3b54592d-458e-49a4-a02e-bcbf135ac476\"}, {\"mode\": \"lines+markers\", \"name\": \"GradientBoosting\", \"x\": [\"accuracy\", \"FPR\", \"FNR\", \"auc\"], \"y\": [0.9310455420141116, 0.05873512836568566, 0.12856099342585828, 0.9063519391042281], \"type\": \"scatter\", \"uid\": \"2064754f-c37b-490c-be36-175a56c48ab8\"}, {\"marker\": {\"symbol\": \"x\"}, \"mode\": \"lines+markers\", \"name\": \"ExtraTree Classifier\", \"x\": [\"accuracy\", \"FPR\", \"FNR\", \"auc\"], \"y\": [0.9268762026940346, 0.06036318096430808, 0.14755295836376917, 0.8960419303359615], \"type\": \"scatter\", \"uid\": \"88c09f58-f102-4cb9-8571-88f8c6ca5aa3\"}, {\"marker\": {\"symbol\": \"x\"}, \"mode\": \"lines+markers\", \"name\": \"Bagging\", \"x\": [\"accuracy\", \"FPR\", \"FNR\", \"auc\"], \"y\": [0.9211032713277743, 0.06875391358797746, 0.13805697589481372, 0.8965945552586045], \"type\": \"scatter\", \"uid\": \"3c4f45de-79a9-44b2-a552-b61da1e26db4\"}, {\"marker\": {\"symbol\": \"x\"}, \"mode\": \"lines+markers\", \"name\": \"Neural Network\", \"x\": [\"accuracy\", \"FPR\", \"FNR\", \"auc\"], \"y\": [0.9375668163352576, 0.05059486537257358, 0.13148283418553688, 0.8965945552586045], \"type\": \"scatter\", \"uid\": \"faad2021-eb11-4a3c-8391-1eaf7733c9ca\"}], {\"title\": \"Result comparision for Features selected in Section 1\", \"yaxis\": {\"dtick\": 0.05, \"tick0\": 0}}, {\"showLink\": true, \"linkText\": \"Export to plot.ly\", \"plotlyServerURL\": \"https://plot.ly\"})});</script><script type=\"text/javascript\">window.addEventListener(\"resize\", function(){window._Plotly.Plots.resize(document.getElementById(\"a4594caa-f05e-4703-9b68-57a097b7ace7\"));});</script>"
      ]
     },
     "metadata": {},
     "output_type": "display_data"
    }
   ],
   "source": [
    "trace0 = go.Scatter(x=table_80_90_test.iloc[0].index.values[[0,5,6,7]],\n",
    "                    y=table_80_90_test.iloc[0].values[[0,5,6,7]],\n",
    "                    mode = 'lines',\n",
    "                    name = 'KNN_model')\n",
    "\n",
    "trace1 = go.Scatter(x=table_80_90_test.iloc[1].index.values[[0,5,6,7]],\n",
    "                    y=table_80_90_test.iloc[1].values[[0,5,6,7]],\n",
    "                    mode = 'lines+markers',\n",
    "                    name = 'Logistic Regression')\n",
    "\n",
    "trace2 = go.Scatter(x=table_80_90_test.iloc[2].index.values[[0,5,6,7]],\n",
    "                    y=table_80_90_test.iloc[2].values[[0,5,6,7]],\n",
    "                    mode = 'lines+markers',marker=dict(symbol='x'),\n",
    "                    name = 'Random Forest')\n",
    "\n",
    "\n",
    "trace3 = go.Scatter(x=table_80_90_test.iloc[3].index.values[[0,5,6,7]],\n",
    "                    y=table_80_90_test.iloc[3].values[[0,5,6,7]],\n",
    "                    mode = 'lines',\n",
    "                    name = 'Ada Boost')\n",
    "\n",
    "trace4 = go.Scatter(x=table_80_90_test.iloc[4].index.values[[0,5,6,7]],\n",
    "                    y=table_80_90_test.iloc[4].values[[0,5,6,7]],\n",
    "                    mode = 'lines+markers',\n",
    "                    name = 'GradientBoosting')\n",
    "\n",
    "trace5 = go.Scatter(x=table_80_90_test.iloc[5].index.values[[0,5,6,7]],\n",
    "                    y=table_80_90_test.iloc[5].values[[0,5,6,7]],\n",
    "                    mode = 'lines+markers',marker=dict(symbol='x'),\n",
    "                    name = 'ExtraTree Classifier')\n",
    "\n",
    "trace6 = go.Scatter(x=table_80_90_test.iloc[6].index.values[[0,5,6,7]],\n",
    "                    y=table_80_90_test.iloc[6].values[[0,5,6,7]],\n",
    "                    mode = 'lines+markers',marker=dict(symbol='x'),\n",
    "                    name = 'Bagging')\n",
    "\n",
    "trace7 = go.Scatter(x=table_80_90_test.iloc[7].index.values[[0,5,6,7]],\n",
    "                    y=table_80_90_test.iloc[7].values[[0,5,6,7]],\n",
    "                    mode = 'lines+markers',marker=dict(symbol='x'),\n",
    "                    name = 'Neural Network')\n",
    "\n",
    "\n",
    "\n",
    "data = [trace0, trace1, trace2, trace3, trace4, trace5, trace6, trace7]\n",
    "layout = go.Layout(yaxis=dict(tick0=0,dtick=0.05),title='Result comparision for Features selected in Section 1')\n",
    "fig = go.Figure(data=data, layout=layout)\n",
    "\n",
    "iplot(fig, filename='Result')"
   ]
  },
  {
   "cell_type": "code",
   "execution_count": 34,
   "metadata": {},
   "outputs": [
    {
     "name": "stdout",
     "output_type": "stream",
     "text": [
      "Training Results\n"
     ]
    },
    {
     "data": {
      "text/html": [
       "<div>\n",
       "<style scoped>\n",
       "    .dataframe tbody tr th:only-of-type {\n",
       "        vertical-align: middle;\n",
       "    }\n",
       "\n",
       "    .dataframe tbody tr th {\n",
       "        vertical-align: top;\n",
       "    }\n",
       "\n",
       "    .dataframe thead th {\n",
       "        text-align: right;\n",
       "    }\n",
       "</style>\n",
       "<table border=\"1\" class=\"dataframe\">\n",
       "  <thead>\n",
       "    <tr style=\"text-align: right;\">\n",
       "      <th></th>\n",
       "      <th>accuracy</th>\n",
       "      <th>TP</th>\n",
       "      <th>TN</th>\n",
       "      <th>FP</th>\n",
       "      <th>FN</th>\n",
       "      <th>FPR</th>\n",
       "      <th>FNR</th>\n",
       "    </tr>\n",
       "    <tr>\n",
       "      <th>index</th>\n",
       "      <th></th>\n",
       "      <th></th>\n",
       "      <th></th>\n",
       "      <th></th>\n",
       "      <th></th>\n",
       "      <th></th>\n",
       "      <th></th>\n",
       "    </tr>\n",
       "  </thead>\n",
       "  <tbody>\n",
       "    <tr>\n",
       "      <th>KNeighborsClassifier</th>\n",
       "      <td>0.912579</td>\n",
       "      <td>4763.0</td>\n",
       "      <td>5321.0</td>\n",
       "      <td>204.0</td>\n",
       "      <td>762.0</td>\n",
       "      <td>0.036923</td>\n",
       "      <td>0.137919</td>\n",
       "    </tr>\n",
       "    <tr>\n",
       "      <th>LogisticRegression</th>\n",
       "      <td>0.879005</td>\n",
       "      <td>4611.0</td>\n",
       "      <td>5102.0</td>\n",
       "      <td>423.0</td>\n",
       "      <td>914.0</td>\n",
       "      <td>0.076561</td>\n",
       "      <td>0.165430</td>\n",
       "    </tr>\n",
       "    <tr>\n",
       "      <th>RandomForestClassifier</th>\n",
       "      <td>0.928688</td>\n",
       "      <td>4920.0</td>\n",
       "      <td>5342.0</td>\n",
       "      <td>183.0</td>\n",
       "      <td>605.0</td>\n",
       "      <td>0.033122</td>\n",
       "      <td>0.109502</td>\n",
       "    </tr>\n",
       "    <tr>\n",
       "      <th>AdaBoostClassifier</th>\n",
       "      <td>0.887240</td>\n",
       "      <td>4693.0</td>\n",
       "      <td>5111.0</td>\n",
       "      <td>414.0</td>\n",
       "      <td>832.0</td>\n",
       "      <td>0.074932</td>\n",
       "      <td>0.150588</td>\n",
       "    </tr>\n",
       "    <tr>\n",
       "      <th>GradientBoostingClassifier</th>\n",
       "      <td>0.904434</td>\n",
       "      <td>4766.0</td>\n",
       "      <td>5228.0</td>\n",
       "      <td>297.0</td>\n",
       "      <td>759.0</td>\n",
       "      <td>0.053756</td>\n",
       "      <td>0.137376</td>\n",
       "    </tr>\n",
       "    <tr>\n",
       "      <th>ExtraTreeClassifier</th>\n",
       "      <td>0.930769</td>\n",
       "      <td>4888.0</td>\n",
       "      <td>5397.0</td>\n",
       "      <td>128.0</td>\n",
       "      <td>637.0</td>\n",
       "      <td>0.023167</td>\n",
       "      <td>0.115294</td>\n",
       "    </tr>\n",
       "    <tr>\n",
       "      <th>BaggingClassifier</th>\n",
       "      <td>0.929140</td>\n",
       "      <td>4913.0</td>\n",
       "      <td>5354.0</td>\n",
       "      <td>171.0</td>\n",
       "      <td>612.0</td>\n",
       "      <td>0.030950</td>\n",
       "      <td>0.110769</td>\n",
       "    </tr>\n",
       "    <tr>\n",
       "      <th>Neural Network-1</th>\n",
       "      <td>0.915475</td>\n",
       "      <td>4806.0</td>\n",
       "      <td>5310.0</td>\n",
       "      <td>215.0</td>\n",
       "      <td>719.0</td>\n",
       "      <td>0.038914</td>\n",
       "      <td>0.130136</td>\n",
       "    </tr>\n",
       "  </tbody>\n",
       "</table>\n",
       "</div>"
      ],
      "text/plain": [
       "                            accuracy      TP      TN     FP     FN       FPR  \\\n",
       "index                                                                          \n",
       "KNeighborsClassifier        0.912579  4763.0  5321.0  204.0  762.0  0.036923   \n",
       "LogisticRegression          0.879005  4611.0  5102.0  423.0  914.0  0.076561   \n",
       "RandomForestClassifier      0.928688  4920.0  5342.0  183.0  605.0  0.033122   \n",
       "AdaBoostClassifier          0.887240  4693.0  5111.0  414.0  832.0  0.074932   \n",
       "GradientBoostingClassifier  0.904434  4766.0  5228.0  297.0  759.0  0.053756   \n",
       "ExtraTreeClassifier         0.930769  4888.0  5397.0  128.0  637.0  0.023167   \n",
       "BaggingClassifier           0.929140  4913.0  5354.0  171.0  612.0  0.030950   \n",
       "Neural Network-1            0.915475  4806.0  5310.0  215.0  719.0  0.038914   \n",
       "\n",
       "                                 FNR  \n",
       "index                                 \n",
       "KNeighborsClassifier        0.137919  \n",
       "LogisticRegression          0.165430  \n",
       "RandomForestClassifier      0.109502  \n",
       "AdaBoostClassifier          0.150588  \n",
       "GradientBoostingClassifier  0.137376  \n",
       "ExtraTreeClassifier         0.115294  \n",
       "BaggingClassifier           0.110769  \n",
       "Neural Network-1            0.130136  "
      ]
     },
     "metadata": {},
     "output_type": "display_data"
    },
    {
     "name": "stdout",
     "output_type": "stream",
     "text": [
      "Test Results\n"
     ]
    },
    {
     "data": {
      "text/html": [
       "<div>\n",
       "<style scoped>\n",
       "    .dataframe tbody tr th:only-of-type {\n",
       "        vertical-align: middle;\n",
       "    }\n",
       "\n",
       "    .dataframe tbody tr th {\n",
       "        vertical-align: top;\n",
       "    }\n",
       "\n",
       "    .dataframe thead th {\n",
       "        text-align: right;\n",
       "    }\n",
       "</style>\n",
       "<table border=\"1\" class=\"dataframe\">\n",
       "  <thead>\n",
       "    <tr style=\"text-align: right;\">\n",
       "      <th></th>\n",
       "      <th>accuracy</th>\n",
       "      <th>TP</th>\n",
       "      <th>TN</th>\n",
       "      <th>FP</th>\n",
       "      <th>FN</th>\n",
       "      <th>FPR</th>\n",
       "      <th>FNR</th>\n",
       "      <th>auc</th>\n",
       "      <th>mcc</th>\n",
       "    </tr>\n",
       "    <tr>\n",
       "      <th>index</th>\n",
       "      <th></th>\n",
       "      <th></th>\n",
       "      <th></th>\n",
       "      <th></th>\n",
       "      <th></th>\n",
       "      <th></th>\n",
       "      <th></th>\n",
       "      <th></th>\n",
       "      <th></th>\n",
       "    </tr>\n",
       "  </thead>\n",
       "  <tbody>\n",
       "    <tr>\n",
       "      <th>KNeighborsClassifier</th>\n",
       "      <td>0.935856</td>\n",
       "      <td>1183.0</td>\n",
       "      <td>7571.0</td>\n",
       "      <td>414.0</td>\n",
       "      <td>186.0</td>\n",
       "      <td>0.051847</td>\n",
       "      <td>0.135866</td>\n",
       "      <td>0.906144</td>\n",
       "      <td>0.763044</td>\n",
       "    </tr>\n",
       "    <tr>\n",
       "      <th>LogisticRegression</th>\n",
       "      <td>0.910733</td>\n",
       "      <td>1141.0</td>\n",
       "      <td>7378.0</td>\n",
       "      <td>607.0</td>\n",
       "      <td>228.0</td>\n",
       "      <td>0.076018</td>\n",
       "      <td>0.166545</td>\n",
       "      <td>0.878719</td>\n",
       "      <td>0.686811</td>\n",
       "    </tr>\n",
       "    <tr>\n",
       "      <th>RandomForestClassifier</th>\n",
       "      <td>0.922493</td>\n",
       "      <td>1186.0</td>\n",
       "      <td>7443.0</td>\n",
       "      <td>542.0</td>\n",
       "      <td>183.0</td>\n",
       "      <td>0.067877</td>\n",
       "      <td>0.133674</td>\n",
       "      <td>0.899224</td>\n",
       "      <td>0.727220</td>\n",
       "    </tr>\n",
       "    <tr>\n",
       "      <th>AdaBoostClassifier</th>\n",
       "      <td>0.909985</td>\n",
       "      <td>1160.0</td>\n",
       "      <td>7352.0</td>\n",
       "      <td>633.0</td>\n",
       "      <td>209.0</td>\n",
       "      <td>0.079274</td>\n",
       "      <td>0.152666</td>\n",
       "      <td>0.884030</td>\n",
       "      <td>0.689691</td>\n",
       "    </tr>\n",
       "    <tr>\n",
       "      <th>GradientBoostingClassifier</th>\n",
       "      <td>0.931046</td>\n",
       "      <td>1193.0</td>\n",
       "      <td>7516.0</td>\n",
       "      <td>469.0</td>\n",
       "      <td>176.0</td>\n",
       "      <td>0.058735</td>\n",
       "      <td>0.128561</td>\n",
       "      <td>0.906352</td>\n",
       "      <td>0.751513</td>\n",
       "    </tr>\n",
       "    <tr>\n",
       "      <th>ExtraTreeClassifier</th>\n",
       "      <td>0.926876</td>\n",
       "      <td>1167.0</td>\n",
       "      <td>7503.0</td>\n",
       "      <td>482.0</td>\n",
       "      <td>202.0</td>\n",
       "      <td>0.060363</td>\n",
       "      <td>0.147553</td>\n",
       "      <td>0.896042</td>\n",
       "      <td>0.734706</td>\n",
       "    </tr>\n",
       "    <tr>\n",
       "      <th>BaggingClassifier</th>\n",
       "      <td>0.921103</td>\n",
       "      <td>1180.0</td>\n",
       "      <td>7436.0</td>\n",
       "      <td>549.0</td>\n",
       "      <td>189.0</td>\n",
       "      <td>0.068754</td>\n",
       "      <td>0.138057</td>\n",
       "      <td>0.896595</td>\n",
       "      <td>0.722268</td>\n",
       "    </tr>\n",
       "    <tr>\n",
       "      <th>Neural Network-1</th>\n",
       "      <td>0.937567</td>\n",
       "      <td>1189.0</td>\n",
       "      <td>7581.0</td>\n",
       "      <td>404.0</td>\n",
       "      <td>180.0</td>\n",
       "      <td>0.050595</td>\n",
       "      <td>0.131483</td>\n",
       "      <td>0.896595</td>\n",
       "      <td>0.769103</td>\n",
       "    </tr>\n",
       "  </tbody>\n",
       "</table>\n",
       "</div>"
      ],
      "text/plain": [
       "                            accuracy      TP      TN     FP     FN       FPR  \\\n",
       "index                                                                          \n",
       "KNeighborsClassifier        0.935856  1183.0  7571.0  414.0  186.0  0.051847   \n",
       "LogisticRegression          0.910733  1141.0  7378.0  607.0  228.0  0.076018   \n",
       "RandomForestClassifier      0.922493  1186.0  7443.0  542.0  183.0  0.067877   \n",
       "AdaBoostClassifier          0.909985  1160.0  7352.0  633.0  209.0  0.079274   \n",
       "GradientBoostingClassifier  0.931046  1193.0  7516.0  469.0  176.0  0.058735   \n",
       "ExtraTreeClassifier         0.926876  1167.0  7503.0  482.0  202.0  0.060363   \n",
       "BaggingClassifier           0.921103  1180.0  7436.0  549.0  189.0  0.068754   \n",
       "Neural Network-1            0.937567  1189.0  7581.0  404.0  180.0  0.050595   \n",
       "\n",
       "                                 FNR       auc       mcc  \n",
       "index                                                     \n",
       "KNeighborsClassifier        0.135866  0.906144  0.763044  \n",
       "LogisticRegression          0.166545  0.878719  0.686811  \n",
       "RandomForestClassifier      0.133674  0.899224  0.727220  \n",
       "AdaBoostClassifier          0.152666  0.884030  0.689691  \n",
       "GradientBoostingClassifier  0.128561  0.906352  0.751513  \n",
       "ExtraTreeClassifier         0.147553  0.896042  0.734706  \n",
       "BaggingClassifier           0.138057  0.896595  0.722268  \n",
       "Neural Network-1            0.131483  0.896595  0.769103  "
      ]
     },
     "metadata": {},
     "output_type": "display_data"
    }
   ],
   "source": [
    "table_80_90_train['index']=ind_columns\n",
    "table_80_90_test['index']=ind_columns\n",
    "\n",
    "\n",
    "table_80_90_test.set_index(['index'],drop=True,inplace=True)\n",
    "table_80_90_train.set_index(['index'],drop=True,inplace=True)\n",
    "\n",
    "print(\"Training Results\")\n",
    "display(table_80_90_train)\n",
    "print(\"Test Results\")\n",
    "display(table_80_90_test)"
   ]
  },
  {
   "cell_type": "markdown",
   "metadata": {},
   "source": [
    "### <a id='3.B' style=\"text-decoration : none; color : #000000;\"> B. Average Feature Importances</a>"
   ]
  },
  {
   "cell_type": "code",
   "execution_count": 35,
   "metadata": {},
   "outputs": [
    {
     "data": {
      "application/vnd.plotly.v1+json": {
       "config": {
        "linkText": "Export to plot.ly",
        "plotlyServerURL": "https://plot.ly",
        "showLink": true
       },
       "data": [
        {
         "marker": {
          "color": "rgb(158,202,225)",
          "line": {
           "color": "rgb(8,48,107)",
           "width": 1.5
          }
         },
         "opacity": 0.6,
         "orientation": "h",
         "text": [
          0.2394,
          0.185,
          0.1061,
          0.0678,
          0.0615,
          0.0526,
          0.0525,
          0.0466,
          0.0447,
          0.0434,
          0.0369,
          0.0318,
          0.0204,
          0.0104,
          0.0004,
          0.0004,
          0.0001,
          0,
          0,
          0,
          0,
          0
         ],
         "textposition": "outside",
         "type": "bar",
         "uid": "ab2c3a7b-3c51-4868-ad9b-bd550df8c6c2",
         "x": [
          0.2393680474129616,
          0.18496355783479346,
          0.10611769285000897,
          0.06783495024793298,
          0.06154132656900582,
          0.05255965904356169,
          0.052496686626221034,
          0.04662573089837853,
          0.044662742004427304,
          0.043438970877698914,
          0.0368689062688933,
          0.031750641013393616,
          0.02043243593477026,
          0.010387300417841732,
          0.0004479013811281329,
          0.00039558462020030044,
          7.274585943823077e-05,
          2.239356280747831e-05,
          8.956033830843966e-06,
          2.1808613360548065e-06,
          1.4753336336302294e-06,
          1.1434773606465413e-07
         ],
         "y": [
          "url_length",
          "url_extensions",
          "url_char_.",
          "url_number_consonants",
          "url_number_special_chars",
          "url_number_digits/url_length",
          "url_number_special_chars/url_length",
          "url_number_vowels/url_length",
          "url_number_vowels",
          "url_tlds",
          "url_char_/",
          "url_number_consonants/url_length",
          "url_number_digits",
          "url_char_-",
          "url_port",
          "url_char_?",
          "url_char_=",
          "url_char_%",
          "url_char__",
          "url_char_&",
          "url_char_:",
          "url_char_+"
         ]
        }
       ],
       "layout": {
        "autosize": false,
        "height": 1000,
        "width": 1000,
        "xaxis": {
         "tickfont": {
          "color": "black",
          "size": 12
         },
         "title": "Feature Importances"
        },
        "yaxis": {
         "automargin": true
        }
       }
      },
      "text/html": [
       "<div id=\"412d5f4d-94b7-490d-955e-66e4044c876e\" style=\"height: 1000px; width: 1000px;\" class=\"plotly-graph-div\"></div><script type=\"text/javascript\">require([\"plotly\"], function(Plotly) { window.PLOTLYENV=window.PLOTLYENV || {};window.PLOTLYENV.BASE_URL=\"https://plot.ly\";Plotly.newPlot(\"412d5f4d-94b7-490d-955e-66e4044c876e\", [{\"marker\": {\"color\": \"rgb(158,202,225)\", \"line\": {\"color\": \"rgb(8,48,107)\", \"width\": 1.5}}, \"opacity\": 0.6, \"orientation\": \"h\", \"text\": [0.2394, 0.185, 0.1061, 0.0678, 0.0615, 0.0526, 0.0525, 0.0466, 0.0447, 0.0434, 0.0369, 0.0318, 0.0204, 0.0104, 0.0004, 0.0004, 0.0001, 0.0, 0.0, 0.0, 0.0, 0.0], \"textposition\": \"outside\", \"x\": [0.2393680474129616, 0.18496355783479346, 0.10611769285000897, 0.06783495024793298, 0.06154132656900582, 0.05255965904356169, 0.052496686626221034, 0.04662573089837853, 0.044662742004427304, 0.043438970877698914, 0.0368689062688933, 0.031750641013393616, 0.02043243593477026, 0.010387300417841732, 0.0004479013811281329, 0.00039558462020030044, 7.274585943823077e-05, 2.239356280747831e-05, 8.956033830843966e-06, 2.1808613360548065e-06, 1.4753336336302294e-06, 1.1434773606465413e-07], \"y\": [\"url_length\", \"url_extensions\", \"url_char_.\", \"url_number_consonants\", \"url_number_special_chars\", \"url_number_digits/url_length\", \"url_number_special_chars/url_length\", \"url_number_vowels/url_length\", \"url_number_vowels\", \"url_tlds\", \"url_char_/\", \"url_number_consonants/url_length\", \"url_number_digits\", \"url_char_-\", \"url_port\", \"url_char_?\", \"url_char_=\", \"url_char_%\", \"url_char__\", \"url_char_&\", \"url_char_:\", \"url_char_+\"], \"type\": \"bar\", \"uid\": \"ab2c3a7b-3c51-4868-ad9b-bd550df8c6c2\"}], {\"autosize\": false, \"height\": 1000, \"width\": 1000, \"xaxis\": {\"tickfont\": {\"color\": \"black\", \"size\": 12}, \"title\": \"Feature Importances\"}, \"yaxis\": {\"automargin\": true}}, {\"showLink\": true, \"linkText\": \"Export to plot.ly\", \"plotlyServerURL\": \"https://plot.ly\"})});</script>"
      ],
      "text/vnd.plotly.v1+html": [
       "<div id=\"412d5f4d-94b7-490d-955e-66e4044c876e\" style=\"height: 1000px; width: 1000px;\" class=\"plotly-graph-div\"></div><script type=\"text/javascript\">require([\"plotly\"], function(Plotly) { window.PLOTLYENV=window.PLOTLYENV || {};window.PLOTLYENV.BASE_URL=\"https://plot.ly\";Plotly.newPlot(\"412d5f4d-94b7-490d-955e-66e4044c876e\", [{\"marker\": {\"color\": \"rgb(158,202,225)\", \"line\": {\"color\": \"rgb(8,48,107)\", \"width\": 1.5}}, \"opacity\": 0.6, \"orientation\": \"h\", \"text\": [0.2394, 0.185, 0.1061, 0.0678, 0.0615, 0.0526, 0.0525, 0.0466, 0.0447, 0.0434, 0.0369, 0.0318, 0.0204, 0.0104, 0.0004, 0.0004, 0.0001, 0.0, 0.0, 0.0, 0.0, 0.0], \"textposition\": \"outside\", \"x\": [0.2393680474129616, 0.18496355783479346, 0.10611769285000897, 0.06783495024793298, 0.06154132656900582, 0.05255965904356169, 0.052496686626221034, 0.04662573089837853, 0.044662742004427304, 0.043438970877698914, 0.0368689062688933, 0.031750641013393616, 0.02043243593477026, 0.010387300417841732, 0.0004479013811281329, 0.00039558462020030044, 7.274585943823077e-05, 2.239356280747831e-05, 8.956033830843966e-06, 2.1808613360548065e-06, 1.4753336336302294e-06, 1.1434773606465413e-07], \"y\": [\"url_length\", \"url_extensions\", \"url_char_.\", \"url_number_consonants\", \"url_number_special_chars\", \"url_number_digits/url_length\", \"url_number_special_chars/url_length\", \"url_number_vowels/url_length\", \"url_number_vowels\", \"url_tlds\", \"url_char_/\", \"url_number_consonants/url_length\", \"url_number_digits\", \"url_char_-\", \"url_port\", \"url_char_?\", \"url_char_=\", \"url_char_%\", \"url_char__\", \"url_char_&\", \"url_char_:\", \"url_char_+\"], \"type\": \"bar\", \"uid\": \"ab2c3a7b-3c51-4868-ad9b-bd550df8c6c2\"}], {\"autosize\": false, \"height\": 1000, \"width\": 1000, \"xaxis\": {\"tickfont\": {\"color\": \"black\", \"size\": 12}, \"title\": \"Feature Importances\"}, \"yaxis\": {\"automargin\": true}}, {\"showLink\": true, \"linkText\": \"Export to plot.ly\", \"plotlyServerURL\": \"https://plot.ly\"})});</script>"
      ]
     },
     "metadata": {},
     "output_type": "display_data"
    }
   ],
   "source": [
    "feat_impt_plot(np.average(feat_imp,axis=0),columns)"
   ]
  },
  {
   "cell_type": "markdown",
   "metadata": {},
   "source": [
    "### <a id='4' style=\"text-decoration : none; color : #000000;\">4. Feature Transformation with feature selection </a>"
   ]
  },
  {
   "cell_type": "code",
   "execution_count": 36,
   "metadata": {
    "collapsed": true
   },
   "outputs": [],
   "source": [
    "df.reset_index(inplace=True)\n",
    "\n",
    "# columns=columns.tolist()\n",
    "columns.append('domain')\n",
    "\n",
    "df_min=df[columns]"
   ]
  },
  {
   "cell_type": "code",
   "execution_count": 37,
   "metadata": {},
   "outputs": [
    {
     "name": "stdout",
     "output_type": "stream",
     "text": [
      "Built 946 features\n",
      "EntitySet scattered to workers in 4.576 seconds\n",
      "Elapsed: 00:05 | Remaining: 00:00 | Progress: 100%|██████████| Calculated: 11/11 chunks\n"
     ]
    }
   ],
   "source": [
    "es = ft.EntitySet(id = 'malicious')\n",
    "es.entity_from_dataframe(entity_id = 'data', dataframe = df_min, index = 'domain')\n",
    "\n",
    "feature_matrix_sessions, features_defs = ft.dfs(entityset=es,target_entity=\"data\",\n",
    "                                                trans_primitives = ['add','divide','multiply'],n_jobs=-1,\n",
    "                                                verbose=1,max_depth=1)"
   ]
  },
  {
   "cell_type": "code",
   "execution_count": 38,
   "metadata": {
    "collapsed": true
   },
   "outputs": [],
   "source": [
    "df.set_index(['domain'],drop=True,inplace=True)\n",
    "fs=pd.merge(feature_matrix_sessions,pd.DataFrame(df.Target),left_index=True, right_index=True)\n",
    "fs.replace([np.inf],0,inplace=True)\n",
    "fs.fillna(value=0,inplace=True)"
   ]
  },
  {
   "cell_type": "code",
   "execution_count": 39,
   "metadata": {
    "collapsed": true
   },
   "outputs": [],
   "source": [
    "X=fs.loc[:,fs.columns!='Target']\n",
    "y=fs.Target\n",
    "feature_name = X.columns.tolist()"
   ]
  },
  {
   "cell_type": "code",
   "execution_count": 40,
   "metadata": {
    "collapsed": true
   },
   "outputs": [],
   "source": [
    "def cor_selector(X, y):\n",
    "    cor_list = []\n",
    "    # calculate the correlation with y for each feature\n",
    "    for i in X.columns.tolist():\n",
    "        cor = np.corrcoef(X[i], y)[0, 1]\n",
    "        cor_list.append(cor)\n",
    "    # replace NaN with 0\n",
    "    cor_list = [0 if np.isnan(i) else i for i in cor_list]\n",
    "    # feature name\n",
    "    cor_feature = X.iloc[:,np.argsort(np.abs(cor_list))[-100:]].columns.tolist()\n",
    "    # feature selection? 0 for not select, 1 for select\n",
    "    cor_support = [True if i in cor_feature else False for i in feature_name]\n",
    "    return cor_support, cor_feature\n",
    "\n",
    "\n",
    "cor_support, cor_feature = cor_selector(X, y)"
   ]
  },
  {
   "cell_type": "code",
   "execution_count": 41,
   "metadata": {
    "collapsed": true
   },
   "outputs": [],
   "source": [
    "X_norm = MinMaxScaler().fit_transform(X)\n",
    "chi_selector = SelectKBest(chi2, k=100)\n",
    "chi_selector.fit(X_norm, y)\n",
    "chi_support = chi_selector.get_support()\n",
    "chi_feature = X.loc[:,chi_support].columns.tolist()"
   ]
  },
  {
   "cell_type": "code",
   "execution_count": 42,
   "metadata": {
    "collapsed": true
   },
   "outputs": [],
   "source": [
    "rfe_selector = RFE(estimator=LogisticRegression(random_state=0), n_features_to_select=100, step=0.3, verbose=False)\n",
    "rfe_selector.fit(X_norm, y)\n",
    "rfe_support = rfe_selector.get_support()\n",
    "rfe_feature = X.loc[:,rfe_support].columns.tolist()"
   ]
  },
  {
   "cell_type": "code",
   "execution_count": 43,
   "metadata": {
    "collapsed": true
   },
   "outputs": [],
   "source": [
    "embeded_rf_selector = SelectFromModel(RandomForestClassifier(n_estimators=100,random_state=0), threshold='23*median')\n",
    "embeded_rf_selector.fit(X, y)\n",
    "embeded_rf_support = embeded_rf_selector.get_support()\n",
    "embeded_rf_feature = X.loc[:,embeded_rf_support].columns.tolist()"
   ]
  },
  {
   "cell_type": "code",
   "execution_count": 44,
   "metadata": {
    "collapsed": true
   },
   "outputs": [],
   "source": [
    "feature_selection_df = pd.DataFrame({'Feature':feature_name, 'Pearson':cor_support, 'Chi-2':chi_support, 'RFE':rfe_support,\n",
    "                                    'Random Forest':embeded_rf_support})\n",
    "# count the selected times for each feature\n",
    "feature_selection_df['Total'] = np.sum(feature_selection_df, axis=1)\n",
    "# display the top 100\n",
    "feature_selection_df = feature_selection_df.sort_values(['Total','Feature'] , ascending=False)\n",
    "feature_selection_df.index = range(1, len(feature_selection_df)+1)"
   ]
  },
  {
   "cell_type": "code",
   "execution_count": 47,
   "metadata": {},
   "outputs": [
    {
     "name": "stdout",
     "output_type": "stream",
     "text": [
      "The train/test split ratio is 80:20\n"
     ]
    },
    {
     "data": {
      "text/plain": [
       "(46771, 29)"
      ]
     },
     "execution_count": 47,
     "metadata": {},
     "output_type": "execute_result"
    }
   ],
   "source": [
    "X=fs[feature_selection_df[feature_selection_df.Total>=3]['Feature']]\n",
    "X.fillna(value=0,inplace=True)\n",
    "y=fs.Target.values\n",
    "feature_name = X.columns.tolist()\n",
    "\n",
    "scaler=StandardScaler()\n",
    "scaled_X=scaler.fit_transform(X)\n",
    "\n",
    "print(\"The train/test split ratio is 80:20\")\n",
    "X_train, X_test, Y_train, Y_test = train_test_split(scaled_X,y,random_state=0,test_size=0.2)\n",
    "\n",
    "X.shape"
   ]
  },
  {
   "cell_type": "code",
   "execution_count": 48,
   "metadata": {},
   "outputs": [
    {
     "name": "stdout",
     "output_type": "stream",
     "text": [
      "Features we will be using:\n",
      "\n"
     ]
    },
    {
     "data": {
      "text/plain": [
       "['url_number_consonants/url_length / url_number_special_chars',\n",
       " 'url_number_vowels/url_length / url_number_vowels',\n",
       " 'url_number_vowels/url_length / url_number_special_chars',\n",
       " 'url_number_vowels/url_length / url_char_/',\n",
       " 'url_number_special_chars/url_length / url_char_/',\n",
       " 'url_number_digits/url_length + url_number_special_chars',\n",
       " 'url_number_consonants/url_length / url_char_/',\n",
       " 'url_extensions / url_number_vowels/url_length',\n",
       " 'url_extensions + url_port',\n",
       " 'url_extensions + url_number_vowels/url_length',\n",
       " 'url_extensions + url_number_consonants/url_length',\n",
       " 'url_extensions * url_number_consonants/url_length',\n",
       " 'url_char_= + url_extensions',\n",
       " 'url_char_: + url_extensions',\n",
       " 'url_char_/ / url_number_special_chars',\n",
       " 'url_char_/ / url_length',\n",
       " 'url_char_/ / url_extensions',\n",
       " 'url_char_/ + url_extensions',\n",
       " 'url_char_. + url_port',\n",
       " 'url_char_. + url_number_special_chars/url_length',\n",
       " 'url_char_. + url_number_digits/url_length',\n",
       " 'url_char_. + url_char__',\n",
       " 'url_char_. + url_char_:',\n",
       " 'url_char_. + url_char_/',\n",
       " 'url_char_. * url_number_digits/url_length',\n",
       " 'url_char_+ + url_extensions',\n",
       " 'url_char_+ + url_char_.',\n",
       " 'url_char_% + url_extensions',\n",
       " 'url_char_% + url_char_.']"
      ]
     },
     "metadata": {},
     "output_type": "display_data"
    }
   ],
   "source": [
    "print('Features we will be using:\\n')\n",
    "display(feature_name)"
   ]
  },
  {
   "cell_type": "code",
   "execution_count": 49,
   "metadata": {
    "collapsed": true
   },
   "outputs": [],
   "source": [
    "fs=fs.reindex(df_sel.index.values)"
   ]
  },
  {
   "cell_type": "code",
   "execution_count": 50,
   "metadata": {
    "collapsed": true
   },
   "outputs": [],
   "source": [
    "train=fs.iloc[:37417]\n",
    "train_Y=train.Target.values\n",
    "train_X=train[feature_name].values\n",
    "\n",
    "\n",
    "scaler=StandardScaler()\n",
    "scaled_X_train=scaler.fit_transform(train_X)\n",
    "\n",
    "test=fs.iloc[37417:]\n",
    "test_Y=test.Target.values\n",
    "test_X=test[feature_name]\n",
    "\n",
    "scaled_X_test=scaler.transform(test_X)"
   ]
  },
  {
   "cell_type": "code",
   "execution_count": 51,
   "metadata": {
    "collapsed": true
   },
   "outputs": [],
   "source": [
    "## Table to store training and test measures so we can compare later\n",
    "table_80_60_train=pd.DataFrame(columns=['accuracy','TP','TN','FP','FN','FPR','FNR'])\n",
    "table_80_60_test=pd.DataFrame(columns=['accuracy','TP','TN','FP','FN','FPR','FNR','auc','mcc'])"
   ]
  },
  {
   "cell_type": "code",
   "execution_count": 52,
   "metadata": {
    "scrolled": false
   },
   "outputs": [
    {
     "name": "stdout",
     "output_type": "stream",
     "text": [
      "\u001b[1mK-Nearest Neighbors\u001b[0m\n",
      "Accuracy of the model for training data is: 0.949915813668\n",
      "Confusion Matrix for training data is:\n"
     ]
    },
    {
     "data": {
      "text/plain": [
       "Predicted  False  True  __all__\n",
       "Actual                         \n",
       "False      31260   632    31892\n",
       "True        1242  4283     5525\n",
       "__all__    32502  4915    37417"
      ]
     },
     "metadata": {},
     "output_type": "display_data"
    },
    {
     "name": "stdout",
     "output_type": "stream",
     "text": [
      "Accuracy of the model for test data is: 0.942377592474\n",
      "Confusion Matrix for test data is:\n"
     ]
    },
    {
     "data": {
      "text/plain": [
       "Predicted  False  True  __all__\n",
       "Actual                         \n",
       "False       7792   193     7985\n",
       "True         346  1023     1369\n",
       "__all__     8138  1216     9354"
      ]
     },
     "metadata": {},
     "output_type": "display_data"
    },
    {
     "name": "stdout",
     "output_type": "stream",
     "text": [
      "\n",
      "\n",
      "\u001b[1mLogistic Regression\u001b[0m\n",
      "Accuracy of the model for training data is: 0.936446000481\n",
      "Confusion Matrix for training data is:\n"
     ]
    },
    {
     "data": {
      "text/plain": [
       "Predicted  False  True  __all__\n",
       "Actual                         \n",
       "False      31251   641    31892\n",
       "True        1737  3788     5525\n",
       "__all__    32988  4429    37417"
      ]
     },
     "metadata": {},
     "output_type": "display_data"
    },
    {
     "name": "stdout",
     "output_type": "stream",
     "text": [
      "Accuracy of the model for test data is: 0.934573444516\n",
      "Confusion Matrix for test data is:\n"
     ]
    },
    {
     "data": {
      "text/plain": [
       "Predicted  False  True  __all__\n",
       "Actual                         \n",
       "False       7819   166     7985\n",
       "True         446   923     1369\n",
       "__all__     8265  1089     9354"
      ]
     },
     "metadata": {},
     "output_type": "display_data"
    },
    {
     "name": "stdout",
     "output_type": "stream",
     "text": [
      "\n",
      "\n",
      "\u001b[1mRandomForest Classifier\u001b[0m\n",
      "Accuracy of the model for training data is: 0.956436913702\n",
      "Confusion Matrix for training data is:\n"
     ]
    },
    {
     "data": {
      "text/plain": [
       "Predicted  False  True  __all__\n",
       "Actual                         \n",
       "False      31348   544    31892\n",
       "True        1086  4439     5525\n",
       "__all__    32434  4983    37417"
      ]
     },
     "metadata": {},
     "output_type": "display_data"
    },
    {
     "name": "stdout",
     "output_type": "stream",
     "text": [
      "Accuracy of the model for test data is: 0.944088090656\n",
      "Confusion Matrix for test data is:\n"
     ]
    },
    {
     "data": {
      "text/plain": [
       "Predicted  False  True  __all__\n",
       "Actual                         \n",
       "False       7790   195     7985\n",
       "True         328  1041     1369\n",
       "__all__     8118  1236     9354"
      ]
     },
     "metadata": {},
     "output_type": "display_data"
    },
    {
     "data": {
      "application/vnd.plotly.v1+json": {
       "config": {
        "linkText": "Export to plot.ly",
        "plotlyServerURL": "https://plot.ly",
        "showLink": true
       },
       "data": [
        {
         "marker": {
          "color": "rgb(158,202,225)",
          "line": {
           "color": "rgb(8,48,107)",
           "width": 1.5
          }
         },
         "opacity": 0.6,
         "orientation": "h",
         "text": [
          0.1253,
          0.0853,
          0.0778,
          0.075,
          0.071,
          0.0629,
          0.0503,
          0.0494,
          0.0488,
          0.0483,
          0.0423,
          0.0291,
          0.0288,
          0.0269,
          0.025,
          0.0236,
          0.0216,
          0.0203,
          0.0188,
          0.0178,
          0.0156,
          0.0095,
          0.0094,
          0.0085,
          0.0035,
          0.0024,
          0.0017,
          0.0005,
          0.0003
         ],
         "textposition": "outside",
         "type": "bar",
         "uid": "a88b6e4c-7c98-4c54-9d35-e9f5e31569b7",
         "x": [
          0.1253480951534942,
          0.08529931364943506,
          0.0778021386371894,
          0.07504250445911811,
          0.07101611226850695,
          0.06292484627323533,
          0.05034111002298218,
          0.049371545043939154,
          0.04884184985920696,
          0.04832042879449924,
          0.0422832635085171,
          0.029134503021407316,
          0.028797505751965213,
          0.0268727888827525,
          0.02503426885712981,
          0.02360937974088401,
          0.02164838727093865,
          0.020332879188309286,
          0.018816433271305853,
          0.017813646772013216,
          0.01556808088837761,
          0.00948914698925443,
          0.009430870112571278,
          0.008513038267076492,
          0.0034948758452096962,
          0.002411332551552516,
          0.0016678837106546246,
          0.0004984133914242834,
          0.000275357817049507
         ],
         "y": [
          "url_number_vowels/url_length / url_number_vowels",
          "url_char_. + url_number_special_chars/url_length",
          "url_extensions + url_number_consonants/url_length",
          "url_extensions + url_number_vowels/url_length",
          "url_char_/ + url_extensions",
          "url_char_. + url_char_/",
          "url_char_% + url_extensions",
          "url_extensions + url_port",
          "url_char_: + url_extensions",
          "url_char_+ + url_extensions",
          "url_char_. + url_char__",
          "url_number_digits/url_length + url_number_special_chars",
          "url_number_special_chars/url_length / url_char_/",
          "url_number_consonants/url_length / url_number_special_chars",
          "url_char_. * url_number_digits/url_length",
          "url_extensions * url_number_consonants/url_length",
          "url_number_vowels/url_length / url_number_special_chars",
          "url_char_. + url_number_digits/url_length",
          "url_extensions / url_number_vowels/url_length",
          "url_char_/ / url_length",
          "url_char_+ + url_char_.",
          "url_char_/ / url_extensions",
          "url_char_= + url_extensions",
          "url_number_vowels/url_length / url_char_/",
          "url_char_. + url_char_:",
          "url_char_% + url_char_.",
          "url_number_consonants/url_length / url_char_/",
          "url_char_/ / url_number_special_chars",
          "url_char_. + url_port"
         ]
        }
       ],
       "layout": {
        "autosize": false,
        "height": 1000,
        "width": 1000,
        "xaxis": {
         "tickfont": {
          "color": "black",
          "size": 12
         },
         "title": "Feature Importances"
        },
        "yaxis": {
         "automargin": true
        }
       }
      },
      "text/html": [
       "<div id=\"c6d6af71-3f29-4247-9d9f-f74e5d0af5d6\" style=\"height: 1000px; width: 1000px;\" class=\"plotly-graph-div\"></div><script type=\"text/javascript\">require([\"plotly\"], function(Plotly) { window.PLOTLYENV=window.PLOTLYENV || {};window.PLOTLYENV.BASE_URL=\"https://plot.ly\";Plotly.newPlot(\"c6d6af71-3f29-4247-9d9f-f74e5d0af5d6\", [{\"marker\": {\"color\": \"rgb(158,202,225)\", \"line\": {\"color\": \"rgb(8,48,107)\", \"width\": 1.5}}, \"opacity\": 0.6, \"orientation\": \"h\", \"text\": [0.1253, 0.0853, 0.0778, 0.075, 0.071, 0.0629, 0.0503, 0.0494, 0.0488, 0.0483, 0.0423, 0.0291, 0.0288, 0.0269, 0.025, 0.0236, 0.0216, 0.0203, 0.0188, 0.0178, 0.0156, 0.0095, 0.0094, 0.0085, 0.0035, 0.0024, 0.0017, 0.0005, 0.0003], \"textposition\": \"outside\", \"x\": [0.1253480951534942, 0.08529931364943506, 0.0778021386371894, 0.07504250445911811, 0.07101611226850695, 0.06292484627323533, 0.05034111002298218, 0.049371545043939154, 0.04884184985920696, 0.04832042879449924, 0.0422832635085171, 0.029134503021407316, 0.028797505751965213, 0.0268727888827525, 0.02503426885712981, 0.02360937974088401, 0.02164838727093865, 0.020332879188309286, 0.018816433271305853, 0.017813646772013216, 0.01556808088837761, 0.00948914698925443, 0.009430870112571278, 0.008513038267076492, 0.0034948758452096962, 0.002411332551552516, 0.0016678837106546246, 0.0004984133914242834, 0.000275357817049507], \"y\": [\"url_number_vowels/url_length / url_number_vowels\", \"url_char_. + url_number_special_chars/url_length\", \"url_extensions + url_number_consonants/url_length\", \"url_extensions + url_number_vowels/url_length\", \"url_char_/ + url_extensions\", \"url_char_. + url_char_/\", \"url_char_% + url_extensions\", \"url_extensions + url_port\", \"url_char_: + url_extensions\", \"url_char_+ + url_extensions\", \"url_char_. + url_char__\", \"url_number_digits/url_length + url_number_special_chars\", \"url_number_special_chars/url_length / url_char_/\", \"url_number_consonants/url_length / url_number_special_chars\", \"url_char_. * url_number_digits/url_length\", \"url_extensions * url_number_consonants/url_length\", \"url_number_vowels/url_length / url_number_special_chars\", \"url_char_. + url_number_digits/url_length\", \"url_extensions / url_number_vowels/url_length\", \"url_char_/ / url_length\", \"url_char_+ + url_char_.\", \"url_char_/ / url_extensions\", \"url_char_= + url_extensions\", \"url_number_vowels/url_length / url_char_/\", \"url_char_. + url_char_:\", \"url_char_% + url_char_.\", \"url_number_consonants/url_length / url_char_/\", \"url_char_/ / url_number_special_chars\", \"url_char_. + url_port\"], \"type\": \"bar\", \"uid\": \"a88b6e4c-7c98-4c54-9d35-e9f5e31569b7\"}], {\"autosize\": false, \"height\": 1000, \"width\": 1000, \"xaxis\": {\"tickfont\": {\"color\": \"black\", \"size\": 12}, \"title\": \"Feature Importances\"}, \"yaxis\": {\"automargin\": true}}, {\"showLink\": true, \"linkText\": \"Export to plot.ly\", \"plotlyServerURL\": \"https://plot.ly\"})});</script>"
      ],
      "text/vnd.plotly.v1+html": [
       "<div id=\"c6d6af71-3f29-4247-9d9f-f74e5d0af5d6\" style=\"height: 1000px; width: 1000px;\" class=\"plotly-graph-div\"></div><script type=\"text/javascript\">require([\"plotly\"], function(Plotly) { window.PLOTLYENV=window.PLOTLYENV || {};window.PLOTLYENV.BASE_URL=\"https://plot.ly\";Plotly.newPlot(\"c6d6af71-3f29-4247-9d9f-f74e5d0af5d6\", [{\"marker\": {\"color\": \"rgb(158,202,225)\", \"line\": {\"color\": \"rgb(8,48,107)\", \"width\": 1.5}}, \"opacity\": 0.6, \"orientation\": \"h\", \"text\": [0.1253, 0.0853, 0.0778, 0.075, 0.071, 0.0629, 0.0503, 0.0494, 0.0488, 0.0483, 0.0423, 0.0291, 0.0288, 0.0269, 0.025, 0.0236, 0.0216, 0.0203, 0.0188, 0.0178, 0.0156, 0.0095, 0.0094, 0.0085, 0.0035, 0.0024, 0.0017, 0.0005, 0.0003], \"textposition\": \"outside\", \"x\": [0.1253480951534942, 0.08529931364943506, 0.0778021386371894, 0.07504250445911811, 0.07101611226850695, 0.06292484627323533, 0.05034111002298218, 0.049371545043939154, 0.04884184985920696, 0.04832042879449924, 0.0422832635085171, 0.029134503021407316, 0.028797505751965213, 0.0268727888827525, 0.02503426885712981, 0.02360937974088401, 0.02164838727093865, 0.020332879188309286, 0.018816433271305853, 0.017813646772013216, 0.01556808088837761, 0.00948914698925443, 0.009430870112571278, 0.008513038267076492, 0.0034948758452096962, 0.002411332551552516, 0.0016678837106546246, 0.0004984133914242834, 0.000275357817049507], \"y\": [\"url_number_vowels/url_length / url_number_vowels\", \"url_char_. + url_number_special_chars/url_length\", \"url_extensions + url_number_consonants/url_length\", \"url_extensions + url_number_vowels/url_length\", \"url_char_/ + url_extensions\", \"url_char_. + url_char_/\", \"url_char_% + url_extensions\", \"url_extensions + url_port\", \"url_char_: + url_extensions\", \"url_char_+ + url_extensions\", \"url_char_. + url_char__\", \"url_number_digits/url_length + url_number_special_chars\", \"url_number_special_chars/url_length / url_char_/\", \"url_number_consonants/url_length / url_number_special_chars\", \"url_char_. * url_number_digits/url_length\", \"url_extensions * url_number_consonants/url_length\", \"url_number_vowels/url_length / url_number_special_chars\", \"url_char_. + url_number_digits/url_length\", \"url_extensions / url_number_vowels/url_length\", \"url_char_/ / url_length\", \"url_char_+ + url_char_.\", \"url_char_/ / url_extensions\", \"url_char_= + url_extensions\", \"url_number_vowels/url_length / url_char_/\", \"url_char_. + url_char_:\", \"url_char_% + url_char_.\", \"url_number_consonants/url_length / url_char_/\", \"url_char_/ / url_number_special_chars\", \"url_char_. + url_port\"], \"type\": \"bar\", \"uid\": \"a88b6e4c-7c98-4c54-9d35-e9f5e31569b7\"}], {\"autosize\": false, \"height\": 1000, \"width\": 1000, \"xaxis\": {\"tickfont\": {\"color\": \"black\", \"size\": 12}, \"title\": \"Feature Importances\"}, \"yaxis\": {\"automargin\": true}}, {\"showLink\": true, \"linkText\": \"Export to plot.ly\", \"plotlyServerURL\": \"https://plot.ly\"})});</script>"
      ]
     },
     "metadata": {},
     "output_type": "display_data"
    },
    {
     "name": "stdout",
     "output_type": "stream",
     "text": [
      "\n",
      "\n",
      "\u001b[1mAdaoost Classifier\u001b[0m\n",
      "Accuracy of the model for training data is: 0.939626373039\n",
      "Confusion Matrix for training data is:\n"
     ]
    },
    {
     "data": {
      "text/plain": [
       "Predicted  False  True  __all__\n",
       "Actual                         \n",
       "False      31299   593    31892\n",
       "True        1666  3859     5525\n",
       "__all__    32965  4452    37417"
      ]
     },
     "metadata": {},
     "output_type": "display_data"
    },
    {
     "name": "stdout",
     "output_type": "stream",
     "text": [
      "Accuracy of the model for test data is: 0.937032285653\n",
      "Confusion Matrix for test data is:\n"
     ]
    },
    {
     "data": {
      "text/plain": [
       "Predicted  False  True  __all__\n",
       "Actual                         \n",
       "False       7819   166     7985\n",
       "True         423   946     1369\n",
       "__all__     8242  1112     9354"
      ]
     },
     "metadata": {},
     "output_type": "display_data"
    },
    {
     "data": {
      "application/vnd.plotly.v1+json": {
       "config": {
        "linkText": "Export to plot.ly",
        "plotlyServerURL": "https://plot.ly",
        "showLink": true
       },
       "data": [
        {
         "marker": {
          "color": "rgb(158,202,225)",
          "line": {
           "color": "rgb(8,48,107)",
           "width": 1.5
          }
         },
         "opacity": 0.6,
         "orientation": "h",
         "text": [
          0.18,
          0.12,
          0.12,
          0.1,
          0.1,
          0.1,
          0.1,
          0.08,
          0.04,
          0.02,
          0.02,
          0.02,
          0,
          0,
          0,
          0,
          0,
          0,
          0,
          0,
          0,
          0,
          0,
          0,
          0,
          0,
          0,
          0,
          0
         ],
         "textposition": "outside",
         "type": "bar",
         "uid": "4251bdf3-57a1-428a-8f7a-7b2b6e71b940",
         "x": [
          0.18,
          0.12,
          0.12,
          0.1,
          0.1,
          0.1,
          0.1,
          0.08,
          0.04,
          0.02,
          0.02,
          0.02,
          0,
          0,
          0,
          0,
          0,
          0,
          0,
          0,
          0,
          0,
          0,
          0,
          0,
          0,
          0,
          0,
          0
         ],
         "y": [
          "url_number_vowels/url_length / url_number_vowels",
          "url_extensions + url_number_vowels/url_length",
          "url_extensions + url_number_consonants/url_length",
          "url_char_. + url_number_special_chars/url_length",
          "url_char_. + url_number_digits/url_length",
          "url_number_consonants/url_length / url_number_special_chars",
          "url_number_vowels/url_length / url_number_special_chars",
          "url_extensions * url_number_consonants/url_length",
          "url_extensions / url_number_vowels/url_length",
          "url_char_. * url_number_digits/url_length",
          "url_number_special_chars/url_length / url_char_/",
          "url_char_/ + url_extensions",
          "url_char_+ + url_extensions",
          "url_char_+ + url_char_.",
          "url_char_. + url_char_/",
          "url_char_. + url_char_:",
          "url_char_% + url_extensions",
          "url_char_. + url_char__",
          "url_char_/ / url_number_special_chars",
          "url_char_. + url_port",
          "url_char_/ / url_extensions",
          "url_char_/ / url_length",
          "url_char_: + url_extensions",
          "url_char_= + url_extensions",
          "url_extensions + url_port",
          "url_number_consonants/url_length / url_char_/",
          "url_number_digits/url_length + url_number_special_chars",
          "url_number_vowels/url_length / url_char_/",
          "url_char_% + url_char_."
         ]
        }
       ],
       "layout": {
        "autosize": false,
        "height": 1000,
        "width": 1000,
        "xaxis": {
         "tickfont": {
          "color": "black",
          "size": 12
         },
         "title": "Feature Importances"
        },
        "yaxis": {
         "automargin": true
        }
       }
      },
      "text/html": [
       "<div id=\"9b9fe629-f4cb-4743-a66e-7f5f730746b6\" style=\"height: 1000px; width: 1000px;\" class=\"plotly-graph-div\"></div><script type=\"text/javascript\">require([\"plotly\"], function(Plotly) { window.PLOTLYENV=window.PLOTLYENV || {};window.PLOTLYENV.BASE_URL=\"https://plot.ly\";Plotly.newPlot(\"9b9fe629-f4cb-4743-a66e-7f5f730746b6\", [{\"marker\": {\"color\": \"rgb(158,202,225)\", \"line\": {\"color\": \"rgb(8,48,107)\", \"width\": 1.5}}, \"opacity\": 0.6, \"orientation\": \"h\", \"text\": [0.18, 0.12, 0.12, 0.1, 0.1, 0.1, 0.1, 0.08, 0.04, 0.02, 0.02, 0.02, 0.0, 0.0, 0.0, 0.0, 0.0, 0.0, 0.0, 0.0, 0.0, 0.0, 0.0, 0.0, 0.0, 0.0, 0.0, 0.0, 0.0], \"textposition\": \"outside\", \"x\": [0.18, 0.12, 0.12, 0.1, 0.1, 0.1, 0.1, 0.08, 0.04, 0.02, 0.02, 0.02, 0.0, 0.0, 0.0, 0.0, 0.0, 0.0, 0.0, 0.0, 0.0, 0.0, 0.0, 0.0, 0.0, 0.0, 0.0, 0.0, 0.0], \"y\": [\"url_number_vowels/url_length / url_number_vowels\", \"url_extensions + url_number_vowels/url_length\", \"url_extensions + url_number_consonants/url_length\", \"url_char_. + url_number_special_chars/url_length\", \"url_char_. + url_number_digits/url_length\", \"url_number_consonants/url_length / url_number_special_chars\", \"url_number_vowels/url_length / url_number_special_chars\", \"url_extensions * url_number_consonants/url_length\", \"url_extensions / url_number_vowels/url_length\", \"url_char_. * url_number_digits/url_length\", \"url_number_special_chars/url_length / url_char_/\", \"url_char_/ + url_extensions\", \"url_char_+ + url_extensions\", \"url_char_+ + url_char_.\", \"url_char_. + url_char_/\", \"url_char_. + url_char_:\", \"url_char_% + url_extensions\", \"url_char_. + url_char__\", \"url_char_/ / url_number_special_chars\", \"url_char_. + url_port\", \"url_char_/ / url_extensions\", \"url_char_/ / url_length\", \"url_char_: + url_extensions\", \"url_char_= + url_extensions\", \"url_extensions + url_port\", \"url_number_consonants/url_length / url_char_/\", \"url_number_digits/url_length + url_number_special_chars\", \"url_number_vowels/url_length / url_char_/\", \"url_char_% + url_char_.\"], \"type\": \"bar\", \"uid\": \"4251bdf3-57a1-428a-8f7a-7b2b6e71b940\"}], {\"autosize\": false, \"height\": 1000, \"width\": 1000, \"xaxis\": {\"tickfont\": {\"color\": \"black\", \"size\": 12}, \"title\": \"Feature Importances\"}, \"yaxis\": {\"automargin\": true}}, {\"showLink\": true, \"linkText\": \"Export to plot.ly\", \"plotlyServerURL\": \"https://plot.ly\"})});</script>"
      ],
      "text/vnd.plotly.v1+html": [
       "<div id=\"9b9fe629-f4cb-4743-a66e-7f5f730746b6\" style=\"height: 1000px; width: 1000px;\" class=\"plotly-graph-div\"></div><script type=\"text/javascript\">require([\"plotly\"], function(Plotly) { window.PLOTLYENV=window.PLOTLYENV || {};window.PLOTLYENV.BASE_URL=\"https://plot.ly\";Plotly.newPlot(\"9b9fe629-f4cb-4743-a66e-7f5f730746b6\", [{\"marker\": {\"color\": \"rgb(158,202,225)\", \"line\": {\"color\": \"rgb(8,48,107)\", \"width\": 1.5}}, \"opacity\": 0.6, \"orientation\": \"h\", \"text\": [0.18, 0.12, 0.12, 0.1, 0.1, 0.1, 0.1, 0.08, 0.04, 0.02, 0.02, 0.02, 0.0, 0.0, 0.0, 0.0, 0.0, 0.0, 0.0, 0.0, 0.0, 0.0, 0.0, 0.0, 0.0, 0.0, 0.0, 0.0, 0.0], \"textposition\": \"outside\", \"x\": [0.18, 0.12, 0.12, 0.1, 0.1, 0.1, 0.1, 0.08, 0.04, 0.02, 0.02, 0.02, 0.0, 0.0, 0.0, 0.0, 0.0, 0.0, 0.0, 0.0, 0.0, 0.0, 0.0, 0.0, 0.0, 0.0, 0.0, 0.0, 0.0], \"y\": [\"url_number_vowels/url_length / url_number_vowels\", \"url_extensions + url_number_vowels/url_length\", \"url_extensions + url_number_consonants/url_length\", \"url_char_. + url_number_special_chars/url_length\", \"url_char_. + url_number_digits/url_length\", \"url_number_consonants/url_length / url_number_special_chars\", \"url_number_vowels/url_length / url_number_special_chars\", \"url_extensions * url_number_consonants/url_length\", \"url_extensions / url_number_vowels/url_length\", \"url_char_. * url_number_digits/url_length\", \"url_number_special_chars/url_length / url_char_/\", \"url_char_/ + url_extensions\", \"url_char_+ + url_extensions\", \"url_char_+ + url_char_.\", \"url_char_. + url_char_/\", \"url_char_. + url_char_:\", \"url_char_% + url_extensions\", \"url_char_. + url_char__\", \"url_char_/ / url_number_special_chars\", \"url_char_. + url_port\", \"url_char_/ / url_extensions\", \"url_char_/ / url_length\", \"url_char_: + url_extensions\", \"url_char_= + url_extensions\", \"url_extensions + url_port\", \"url_number_consonants/url_length / url_char_/\", \"url_number_digits/url_length + url_number_special_chars\", \"url_number_vowels/url_length / url_char_/\", \"url_char_% + url_char_.\"], \"type\": \"bar\", \"uid\": \"4251bdf3-57a1-428a-8f7a-7b2b6e71b940\"}], {\"autosize\": false, \"height\": 1000, \"width\": 1000, \"xaxis\": {\"tickfont\": {\"color\": \"black\", \"size\": 12}, \"title\": \"Feature Importances\"}, \"yaxis\": {\"automargin\": true}}, {\"showLink\": true, \"linkText\": \"Export to plot.ly\", \"plotlyServerURL\": \"https://plot.ly\"})});</script>"
      ]
     },
     "metadata": {},
     "output_type": "display_data"
    },
    {
     "name": "stdout",
     "output_type": "stream",
     "text": [
      "\n",
      "\n",
      "\u001b[1mGradientBoosting Classifier\u001b[0m\n",
      "Accuracy of the model for training data is: 0.947911377181\n",
      "Confusion Matrix for training data is:\n"
     ]
    },
    {
     "data": {
      "text/plain": [
       "Predicted  False  True  __all__\n",
       "Actual                         \n",
       "False      31206   686    31892\n",
       "True        1263  4262     5525\n",
       "__all__    32469  4948    37417"
      ]
     },
     "metadata": {},
     "output_type": "display_data"
    },
    {
     "name": "stdout",
     "output_type": "stream",
     "text": [
      "Accuracy of the model for test data is: 0.944836433611\n",
      "Confusion Matrix for test data is:\n"
     ]
    },
    {
     "data": {
      "text/plain": [
       "Predicted  False  True  __all__\n",
       "Actual                         \n",
       "False       7793   192     7985\n",
       "True         324  1045     1369\n",
       "__all__     8117  1237     9354"
      ]
     },
     "metadata": {},
     "output_type": "display_data"
    },
    {
     "data": {
      "application/vnd.plotly.v1+json": {
       "config": {
        "linkText": "Export to plot.ly",
        "plotlyServerURL": "https://plot.ly",
        "showLink": true
       },
       "data": [
        {
         "marker": {
          "color": "rgb(158,202,225)",
          "line": {
           "color": "rgb(8,48,107)",
           "width": 1.5
          }
         },
         "opacity": 0.6,
         "orientation": "h",
         "text": [
          0.5454,
          0.2623,
          0.0431,
          0.0222,
          0.0194,
          0.0145,
          0.014,
          0.0121,
          0.0121,
          0.0097,
          0.0095,
          0.0077,
          0.0071,
          0.0066,
          0.0038,
          0.0037,
          0.0033,
          0.0018,
          0.0011,
          0.0003,
          0.0001,
          0,
          0,
          0,
          0,
          0,
          0,
          0,
          0
         ],
         "textposition": "outside",
         "type": "bar",
         "uid": "d8c75f51-4856-45b9-a83c-e2b143474c3d",
         "x": [
          0.5453964483165581,
          0.262261722648984,
          0.043113988116809124,
          0.022204567022496704,
          0.019385909219509646,
          0.014542363366739633,
          0.01401025185912916,
          0.012147054810536097,
          0.01209097702231715,
          0.009720611933504385,
          0.009530848557870028,
          0.007702823758953799,
          0.007140965709419964,
          0.006613248633212825,
          0.0038316376935767387,
          0.0037404826916986925,
          0.003250258786947899,
          0.00180043359587493,
          0.0011164284373805248,
          0.0003053221487046292,
          9.36556697758986e-05,
          0,
          0,
          0,
          0,
          0,
          0,
          0,
          0
         ],
         "y": [
          "url_char_/ + url_extensions",
          "url_number_vowels/url_length / url_number_vowels",
          "url_char_. + url_number_digits/url_length",
          "url_number_digits/url_length + url_number_special_chars",
          "url_char_. + url_char_/",
          "url_extensions + url_number_vowels/url_length",
          "url_char_/ / url_length",
          "url_number_vowels/url_length / url_number_special_chars",
          "url_extensions / url_number_vowels/url_length",
          "url_extensions + url_number_consonants/url_length",
          "url_char_. + url_number_special_chars/url_length",
          "url_number_special_chars/url_length / url_char_/",
          "url_char_. * url_number_digits/url_length",
          "url_number_vowels/url_length / url_char_/",
          "url_extensions * url_number_consonants/url_length",
          "url_number_consonants/url_length / url_number_special_chars",
          "url_number_consonants/url_length / url_char_/",
          "url_char_/ / url_extensions",
          "url_char_/ / url_number_special_chars",
          "url_char_% + url_extensions",
          "url_char_: + url_extensions",
          "url_char_. + url_port",
          "url_char_. + url_char__",
          "url_char_. + url_char_:",
          "url_char_= + url_extensions",
          "url_extensions + url_port",
          "url_char_+ + url_extensions",
          "url_char_+ + url_char_.",
          "url_char_% + url_char_."
         ]
        }
       ],
       "layout": {
        "autosize": false,
        "height": 1000,
        "width": 1000,
        "xaxis": {
         "tickfont": {
          "color": "black",
          "size": 12
         },
         "title": "Feature Importances"
        },
        "yaxis": {
         "automargin": true
        }
       }
      },
      "text/html": [
       "<div id=\"f029e945-d059-4402-9cea-6be7bc262a01\" style=\"height: 1000px; width: 1000px;\" class=\"plotly-graph-div\"></div><script type=\"text/javascript\">require([\"plotly\"], function(Plotly) { window.PLOTLYENV=window.PLOTLYENV || {};window.PLOTLYENV.BASE_URL=\"https://plot.ly\";Plotly.newPlot(\"f029e945-d059-4402-9cea-6be7bc262a01\", [{\"marker\": {\"color\": \"rgb(158,202,225)\", \"line\": {\"color\": \"rgb(8,48,107)\", \"width\": 1.5}}, \"opacity\": 0.6, \"orientation\": \"h\", \"text\": [0.5454, 0.2623, 0.0431, 0.0222, 0.0194, 0.0145, 0.014, 0.0121, 0.0121, 0.0097, 0.0095, 0.0077, 0.0071, 0.0066, 0.0038, 0.0037, 0.0033, 0.0018, 0.0011, 0.0003, 0.0001, 0.0, 0.0, 0.0, 0.0, 0.0, 0.0, 0.0, 0.0], \"textposition\": \"outside\", \"x\": [0.5453964483165581, 0.262261722648984, 0.043113988116809124, 0.022204567022496704, 0.019385909219509646, 0.014542363366739633, 0.01401025185912916, 0.012147054810536097, 0.01209097702231715, 0.009720611933504385, 0.009530848557870028, 0.007702823758953799, 0.007140965709419964, 0.006613248633212825, 0.0038316376935767387, 0.0037404826916986925, 0.003250258786947899, 0.00180043359587493, 0.0011164284373805248, 0.0003053221487046292, 9.36556697758986e-05, 0.0, 0.0, 0.0, 0.0, 0.0, 0.0, 0.0, 0.0], \"y\": [\"url_char_/ + url_extensions\", \"url_number_vowels/url_length / url_number_vowels\", \"url_char_. + url_number_digits/url_length\", \"url_number_digits/url_length + url_number_special_chars\", \"url_char_. + url_char_/\", \"url_extensions + url_number_vowels/url_length\", \"url_char_/ / url_length\", \"url_number_vowels/url_length / url_number_special_chars\", \"url_extensions / url_number_vowels/url_length\", \"url_extensions + url_number_consonants/url_length\", \"url_char_. + url_number_special_chars/url_length\", \"url_number_special_chars/url_length / url_char_/\", \"url_char_. * url_number_digits/url_length\", \"url_number_vowels/url_length / url_char_/\", \"url_extensions * url_number_consonants/url_length\", \"url_number_consonants/url_length / url_number_special_chars\", \"url_number_consonants/url_length / url_char_/\", \"url_char_/ / url_extensions\", \"url_char_/ / url_number_special_chars\", \"url_char_% + url_extensions\", \"url_char_: + url_extensions\", \"url_char_. + url_port\", \"url_char_. + url_char__\", \"url_char_. + url_char_:\", \"url_char_= + url_extensions\", \"url_extensions + url_port\", \"url_char_+ + url_extensions\", \"url_char_+ + url_char_.\", \"url_char_% + url_char_.\"], \"type\": \"bar\", \"uid\": \"d8c75f51-4856-45b9-a83c-e2b143474c3d\"}], {\"autosize\": false, \"height\": 1000, \"width\": 1000, \"xaxis\": {\"tickfont\": {\"color\": \"black\", \"size\": 12}, \"title\": \"Feature Importances\"}, \"yaxis\": {\"automargin\": true}}, {\"showLink\": true, \"linkText\": \"Export to plot.ly\", \"plotlyServerURL\": \"https://plot.ly\"})});</script>"
      ],
      "text/vnd.plotly.v1+html": [
       "<div id=\"f029e945-d059-4402-9cea-6be7bc262a01\" style=\"height: 1000px; width: 1000px;\" class=\"plotly-graph-div\"></div><script type=\"text/javascript\">require([\"plotly\"], function(Plotly) { window.PLOTLYENV=window.PLOTLYENV || {};window.PLOTLYENV.BASE_URL=\"https://plot.ly\";Plotly.newPlot(\"f029e945-d059-4402-9cea-6be7bc262a01\", [{\"marker\": {\"color\": \"rgb(158,202,225)\", \"line\": {\"color\": \"rgb(8,48,107)\", \"width\": 1.5}}, \"opacity\": 0.6, \"orientation\": \"h\", \"text\": [0.5454, 0.2623, 0.0431, 0.0222, 0.0194, 0.0145, 0.014, 0.0121, 0.0121, 0.0097, 0.0095, 0.0077, 0.0071, 0.0066, 0.0038, 0.0037, 0.0033, 0.0018, 0.0011, 0.0003, 0.0001, 0.0, 0.0, 0.0, 0.0, 0.0, 0.0, 0.0, 0.0], \"textposition\": \"outside\", \"x\": [0.5453964483165581, 0.262261722648984, 0.043113988116809124, 0.022204567022496704, 0.019385909219509646, 0.014542363366739633, 0.01401025185912916, 0.012147054810536097, 0.01209097702231715, 0.009720611933504385, 0.009530848557870028, 0.007702823758953799, 0.007140965709419964, 0.006613248633212825, 0.0038316376935767387, 0.0037404826916986925, 0.003250258786947899, 0.00180043359587493, 0.0011164284373805248, 0.0003053221487046292, 9.36556697758986e-05, 0.0, 0.0, 0.0, 0.0, 0.0, 0.0, 0.0, 0.0], \"y\": [\"url_char_/ + url_extensions\", \"url_number_vowels/url_length / url_number_vowels\", \"url_char_. + url_number_digits/url_length\", \"url_number_digits/url_length + url_number_special_chars\", \"url_char_. + url_char_/\", \"url_extensions + url_number_vowels/url_length\", \"url_char_/ / url_length\", \"url_number_vowels/url_length / url_number_special_chars\", \"url_extensions / url_number_vowels/url_length\", \"url_extensions + url_number_consonants/url_length\", \"url_char_. + url_number_special_chars/url_length\", \"url_number_special_chars/url_length / url_char_/\", \"url_char_. * url_number_digits/url_length\", \"url_number_vowels/url_length / url_char_/\", \"url_extensions * url_number_consonants/url_length\", \"url_number_consonants/url_length / url_number_special_chars\", \"url_number_consonants/url_length / url_char_/\", \"url_char_/ / url_extensions\", \"url_char_/ / url_number_special_chars\", \"url_char_% + url_extensions\", \"url_char_: + url_extensions\", \"url_char_. + url_port\", \"url_char_. + url_char__\", \"url_char_. + url_char_:\", \"url_char_= + url_extensions\", \"url_extensions + url_port\", \"url_char_+ + url_extensions\", \"url_char_+ + url_char_.\", \"url_char_% + url_char_.\"], \"type\": \"bar\", \"uid\": \"d8c75f51-4856-45b9-a83c-e2b143474c3d\"}], {\"autosize\": false, \"height\": 1000, \"width\": 1000, \"xaxis\": {\"tickfont\": {\"color\": \"black\", \"size\": 12}, \"title\": \"Feature Importances\"}, \"yaxis\": {\"automargin\": true}}, {\"showLink\": true, \"linkText\": \"Export to plot.ly\", \"plotlyServerURL\": \"https://plot.ly\"})});</script>"
      ]
     },
     "metadata": {},
     "output_type": "display_data"
    },
    {
     "name": "stdout",
     "output_type": "stream",
     "text": [
      "\n",
      "\n",
      "\u001b[1mExtraTree Classifier\u001b[0m\n",
      "Accuracy of the model for training data is: 0.956864526819\n",
      "Confusion Matrix for training data is:\n"
     ]
    },
    {
     "data": {
      "text/plain": [
       "Predicted  False  True  __all__\n",
       "Actual                         \n",
       "False      31422   470    31892\n",
       "True        1144  4381     5525\n",
       "__all__    32566  4851    37417"
      ]
     },
     "metadata": {},
     "output_type": "display_data"
    },
    {
     "name": "stdout",
     "output_type": "stream",
     "text": [
      "Accuracy of the model for test data is: 0.944301902929\n",
      "Confusion Matrix for test data is:\n"
     ]
    },
    {
     "data": {
      "text/plain": [
       "Predicted  False  True  __all__\n",
       "Actual                         \n",
       "False       7815   170     7985\n",
       "True         351  1018     1369\n",
       "__all__     8166  1188     9354"
      ]
     },
     "metadata": {},
     "output_type": "display_data"
    },
    {
     "data": {
      "application/vnd.plotly.v1+json": {
       "config": {
        "linkText": "Export to plot.ly",
        "plotlyServerURL": "https://plot.ly",
        "showLink": true
       },
       "data": [
        {
         "marker": {
          "color": "rgb(158,202,225)",
          "line": {
           "color": "rgb(8,48,107)",
           "width": 1.5
          }
         },
         "opacity": 0.6,
         "orientation": "h",
         "text": [
          0.1156,
          0.0864,
          0.0656,
          0.0647,
          0.0622,
          0.0581,
          0.0544,
          0.0524,
          0.0507,
          0.0469,
          0.0386,
          0.0345,
          0.0268,
          0.0262,
          0.026,
          0.0242,
          0.0226,
          0.0214,
          0.0202,
          0.0176,
          0.0172,
          0.014,
          0.0118,
          0.0113,
          0.0085,
          0.0082,
          0.0072,
          0.0034,
          0.0034
         ],
         "textposition": "outside",
         "type": "bar",
         "uid": "8b196868-1a4c-4127-a059-e8e4ceaa9267",
         "x": [
          0.11560714779808179,
          0.0864093574111198,
          0.06558869196351494,
          0.06471765192964314,
          0.06215659572897993,
          0.05810683116905731,
          0.05437429340509762,
          0.0524466323231376,
          0.050695825643182965,
          0.04690744180219046,
          0.038577637294570026,
          0.034501435297139296,
          0.026773071178784476,
          0.026235548906758378,
          0.02598982704661375,
          0.024159400914954676,
          0.022575573925381558,
          0.02135300095217878,
          0.020160410516687783,
          0.01760325356249317,
          0.017207392406902954,
          0.01397777483217583,
          0.011813505725262895,
          0.011340813199805112,
          0.008466861833554731,
          0.008213497366480912,
          0.007191904672368228,
          0.0034346321146590487,
          0.003413989079222823
         ],
         "y": [
          "url_number_vowels/url_length / url_number_vowels",
          "url_extensions + url_port",
          "url_number_vowels/url_length / url_number_special_chars",
          "url_char_= + url_extensions",
          "url_char_% + url_extensions",
          "url_char_. + url_number_special_chars/url_length",
          "url_number_digits/url_length + url_number_special_chars",
          "url_number_consonants/url_length / url_number_special_chars",
          "url_char_. + url_char_/",
          "url_char_. + url_number_digits/url_length",
          "url_char_/ + url_extensions",
          "url_extensions * url_number_consonants/url_length",
          "url_extensions + url_number_vowels/url_length",
          "url_char_. * url_number_digits/url_length",
          "url_extensions + url_number_consonants/url_length",
          "url_extensions / url_number_vowels/url_length",
          "url_char_. + url_port",
          "url_char_/ / url_extensions",
          "url_char_/ / url_number_special_chars",
          "url_char_. + url_char__",
          "url_char_+ + url_char_.",
          "url_number_vowels/url_length / url_char_/",
          "url_char_: + url_extensions",
          "url_char_+ + url_extensions",
          "url_number_special_chars/url_length / url_char_/",
          "url_char_/ / url_length",
          "url_number_consonants/url_length / url_char_/",
          "url_char_% + url_char_.",
          "url_char_. + url_char_:"
         ]
        }
       ],
       "layout": {
        "autosize": false,
        "height": 1000,
        "width": 1000,
        "xaxis": {
         "tickfont": {
          "color": "black",
          "size": 12
         },
         "title": "Feature Importances"
        },
        "yaxis": {
         "automargin": true
        }
       }
      },
      "text/html": [
       "<div id=\"1b891cb3-6df7-4d47-af1e-ae5ce55b9b94\" style=\"height: 1000px; width: 1000px;\" class=\"plotly-graph-div\"></div><script type=\"text/javascript\">require([\"plotly\"], function(Plotly) { window.PLOTLYENV=window.PLOTLYENV || {};window.PLOTLYENV.BASE_URL=\"https://plot.ly\";Plotly.newPlot(\"1b891cb3-6df7-4d47-af1e-ae5ce55b9b94\", [{\"marker\": {\"color\": \"rgb(158,202,225)\", \"line\": {\"color\": \"rgb(8,48,107)\", \"width\": 1.5}}, \"opacity\": 0.6, \"orientation\": \"h\", \"text\": [0.1156, 0.0864, 0.0656, 0.0647, 0.0622, 0.0581, 0.0544, 0.0524, 0.0507, 0.0469, 0.0386, 0.0345, 0.0268, 0.0262, 0.026, 0.0242, 0.0226, 0.0214, 0.0202, 0.0176, 0.0172, 0.014, 0.0118, 0.0113, 0.0085, 0.0082, 0.0072, 0.0034, 0.0034], \"textposition\": \"outside\", \"x\": [0.11560714779808179, 0.0864093574111198, 0.06558869196351494, 0.06471765192964314, 0.06215659572897993, 0.05810683116905731, 0.05437429340509762, 0.0524466323231376, 0.050695825643182965, 0.04690744180219046, 0.038577637294570026, 0.034501435297139296, 0.026773071178784476, 0.026235548906758378, 0.02598982704661375, 0.024159400914954676, 0.022575573925381558, 0.02135300095217878, 0.020160410516687783, 0.01760325356249317, 0.017207392406902954, 0.01397777483217583, 0.011813505725262895, 0.011340813199805112, 0.008466861833554731, 0.008213497366480912, 0.007191904672368228, 0.0034346321146590487, 0.003413989079222823], \"y\": [\"url_number_vowels/url_length / url_number_vowels\", \"url_extensions + url_port\", \"url_number_vowels/url_length / url_number_special_chars\", \"url_char_= + url_extensions\", \"url_char_% + url_extensions\", \"url_char_. + url_number_special_chars/url_length\", \"url_number_digits/url_length + url_number_special_chars\", \"url_number_consonants/url_length / url_number_special_chars\", \"url_char_. + url_char_/\", \"url_char_. + url_number_digits/url_length\", \"url_char_/ + url_extensions\", \"url_extensions * url_number_consonants/url_length\", \"url_extensions + url_number_vowels/url_length\", \"url_char_. * url_number_digits/url_length\", \"url_extensions + url_number_consonants/url_length\", \"url_extensions / url_number_vowels/url_length\", \"url_char_. + url_port\", \"url_char_/ / url_extensions\", \"url_char_/ / url_number_special_chars\", \"url_char_. + url_char__\", \"url_char_+ + url_char_.\", \"url_number_vowels/url_length / url_char_/\", \"url_char_: + url_extensions\", \"url_char_+ + url_extensions\", \"url_number_special_chars/url_length / url_char_/\", \"url_char_/ / url_length\", \"url_number_consonants/url_length / url_char_/\", \"url_char_% + url_char_.\", \"url_char_. + url_char_:\"], \"type\": \"bar\", \"uid\": \"8b196868-1a4c-4127-a059-e8e4ceaa9267\"}], {\"autosize\": false, \"height\": 1000, \"width\": 1000, \"xaxis\": {\"tickfont\": {\"color\": \"black\", \"size\": 12}, \"title\": \"Feature Importances\"}, \"yaxis\": {\"automargin\": true}}, {\"showLink\": true, \"linkText\": \"Export to plot.ly\", \"plotlyServerURL\": \"https://plot.ly\"})});</script>"
      ],
      "text/vnd.plotly.v1+html": [
       "<div id=\"1b891cb3-6df7-4d47-af1e-ae5ce55b9b94\" style=\"height: 1000px; width: 1000px;\" class=\"plotly-graph-div\"></div><script type=\"text/javascript\">require([\"plotly\"], function(Plotly) { window.PLOTLYENV=window.PLOTLYENV || {};window.PLOTLYENV.BASE_URL=\"https://plot.ly\";Plotly.newPlot(\"1b891cb3-6df7-4d47-af1e-ae5ce55b9b94\", [{\"marker\": {\"color\": \"rgb(158,202,225)\", \"line\": {\"color\": \"rgb(8,48,107)\", \"width\": 1.5}}, \"opacity\": 0.6, \"orientation\": \"h\", \"text\": [0.1156, 0.0864, 0.0656, 0.0647, 0.0622, 0.0581, 0.0544, 0.0524, 0.0507, 0.0469, 0.0386, 0.0345, 0.0268, 0.0262, 0.026, 0.0242, 0.0226, 0.0214, 0.0202, 0.0176, 0.0172, 0.014, 0.0118, 0.0113, 0.0085, 0.0082, 0.0072, 0.0034, 0.0034], \"textposition\": \"outside\", \"x\": [0.11560714779808179, 0.0864093574111198, 0.06558869196351494, 0.06471765192964314, 0.06215659572897993, 0.05810683116905731, 0.05437429340509762, 0.0524466323231376, 0.050695825643182965, 0.04690744180219046, 0.038577637294570026, 0.034501435297139296, 0.026773071178784476, 0.026235548906758378, 0.02598982704661375, 0.024159400914954676, 0.022575573925381558, 0.02135300095217878, 0.020160410516687783, 0.01760325356249317, 0.017207392406902954, 0.01397777483217583, 0.011813505725262895, 0.011340813199805112, 0.008466861833554731, 0.008213497366480912, 0.007191904672368228, 0.0034346321146590487, 0.003413989079222823], \"y\": [\"url_number_vowels/url_length / url_number_vowels\", \"url_extensions + url_port\", \"url_number_vowels/url_length / url_number_special_chars\", \"url_char_= + url_extensions\", \"url_char_% + url_extensions\", \"url_char_. + url_number_special_chars/url_length\", \"url_number_digits/url_length + url_number_special_chars\", \"url_number_consonants/url_length / url_number_special_chars\", \"url_char_. + url_char_/\", \"url_char_. + url_number_digits/url_length\", \"url_char_/ + url_extensions\", \"url_extensions * url_number_consonants/url_length\", \"url_extensions + url_number_vowels/url_length\", \"url_char_. * url_number_digits/url_length\", \"url_extensions + url_number_consonants/url_length\", \"url_extensions / url_number_vowels/url_length\", \"url_char_. + url_port\", \"url_char_/ / url_extensions\", \"url_char_/ / url_number_special_chars\", \"url_char_. + url_char__\", \"url_char_+ + url_char_.\", \"url_number_vowels/url_length / url_char_/\", \"url_char_: + url_extensions\", \"url_char_+ + url_extensions\", \"url_number_special_chars/url_length / url_char_/\", \"url_char_/ / url_length\", \"url_number_consonants/url_length / url_char_/\", \"url_char_% + url_char_.\", \"url_char_. + url_char_:\"], \"type\": \"bar\", \"uid\": \"8b196868-1a4c-4127-a059-e8e4ceaa9267\"}], {\"autosize\": false, \"height\": 1000, \"width\": 1000, \"xaxis\": {\"tickfont\": {\"color\": \"black\", \"size\": 12}, \"title\": \"Feature Importances\"}, \"yaxis\": {\"automargin\": true}}, {\"showLink\": true, \"linkText\": \"Export to plot.ly\", \"plotlyServerURL\": \"https://plot.ly\"})});</script>"
      ]
     },
     "metadata": {},
     "output_type": "display_data"
    },
    {
     "name": "stdout",
     "output_type": "stream",
     "text": [
      "\n",
      "\n",
      "\u001b[1mBagging Classifier\u001b[0m\n",
      "Accuracy of the model for training data is: 0.956410187883\n",
      "Confusion Matrix for training data is:\n"
     ]
    },
    {
     "data": {
      "text/plain": [
       "Predicted  False  True  __all__\n",
       "Actual                         \n",
       "False      31358   534    31892\n",
       "True        1097  4428     5525\n",
       "__all__    32455  4962    37417"
      ]
     },
     "metadata": {},
     "output_type": "display_data"
    },
    {
     "name": "stdout",
     "output_type": "stream",
     "text": [
      "Accuracy of the model for test data is: 0.943019029292\n",
      "Confusion Matrix for test data is:\n"
     ]
    },
    {
     "data": {
      "text/plain": [
       "Predicted  False  True  __all__\n",
       "Actual                         \n",
       "False       7789   196     7985\n",
       "True         337  1032     1369\n",
       "__all__     8126  1228     9354"
      ]
     },
     "metadata": {},
     "output_type": "display_data"
    },
    {
     "name": "stdout",
     "output_type": "stream",
     "text": [
      "\n",
      "\n",
      "\u001b[1mNeural Network-1\u001b[0m\n",
      "The accuracy of the model on training data is: 0.950503781705\n"
     ]
    },
    {
     "data": {
      "text/plain": [
       "Predicted  False  True  __all__\n",
       "Actual                         \n",
       "False      31212   680    31892\n",
       "True        1172  4353     5525\n",
       "__all__    32384  5033    37417"
      ]
     },
     "metadata": {},
     "output_type": "display_data"
    },
    {
     "name": "stdout",
     "output_type": "stream",
     "text": [
      "The accuracy of the model on test data is: 0.947295274749\n"
     ]
    },
    {
     "data": {
      "text/plain": [
       "Predicted  False  True  __all__\n",
       "Actual                         \n",
       "False       7799   186     7985\n",
       "True         307  1062     1369\n",
       "__all__     8106  1248     9354"
      ]
     },
     "metadata": {},
     "output_type": "display_data"
    },
    {
     "name": "stdout",
     "output_type": "stream",
     "text": [
      "\n",
      "\n"
     ]
    }
   ],
   "source": [
    "feat_imp=[None]*4\n",
    "j=0\n",
    "for i in range(0,8):\n",
    "    if i>=2 and i<=5:\n",
    "        model,cm_train,cm_test,acc_train,acc_test,roc_auc,feat_imp[j],mcc=f[i](scaled_X_train,train_Y,scaled_X_test,test_Y,feature_name)\n",
    "        j=j+1\n",
    "    else:\n",
    "        model,cm_train,cm_test,acc_train,acc_test,roc_auc,mcc=f[i](scaled_X_train,train_Y,scaled_X_test,test_Y)\n",
    "    table_80_60_train.loc[i]=   ([acc_train,cm_train.TP,cm_train.TN,cm_train.FP,cm_train.FN,cm_train.FPR,cm_train.FNR])\n",
    "    table_80_60_test.loc[i] =   ([acc_test ,cm_test.TP, cm_test.TN, cm_test.FP, cm_test.FN, cm_test.FPR, cm_test.FNR,roc_auc,mcc])\n",
    "    print(\"\\n\")"
   ]
  },
  {
   "cell_type": "markdown",
   "metadata": {},
   "source": [
    "### <a id='4.A' style=\"text-decoration : none; color : #000000;\"> A. Results</a>"
   ]
  },
  {
   "cell_type": "code",
   "execution_count": 53,
   "metadata": {},
   "outputs": [
    {
     "data": {
      "application/vnd.plotly.v1+json": {
       "config": {
        "linkText": "Export to plot.ly",
        "plotlyServerURL": "https://plot.ly",
        "showLink": true
       },
       "data": [
        {
         "mode": "lines",
         "name": "KNN_model",
         "type": "scatter",
         "uid": "8511c383-ddd3-4d49-a6c5-23983230d98d",
         "x": [
          "accuracy",
          "FPR",
          "FNR",
          "auc"
         ],
         "y": [
          0.942377592473808,
          0.02417031934877896,
          0.2527392257121987,
          0.8615452274695111
         ]
        },
        {
         "mode": "lines+markers",
         "name": "Logistic Regression",
         "type": "scatter",
         "uid": "fc5bceaf-80ef-4bf2-9e82-8f8ddbe51da2",
         "x": [
          "accuracy",
          "FPR",
          "FNR",
          "auc"
         ],
         "y": [
          0.9345734445157152,
          0.020788979336255477,
          0.32578524470416365,
          0.8267128879797905
         ]
        },
        {
         "marker": {
          "symbol": "x"
         },
         "mode": "lines+markers",
         "name": "Random Forest",
         "type": "scatter",
         "uid": "be0c5ae6-9131-4a41-887e-f2836b0cf9c0",
         "x": [
          "accuracy",
          "FPR",
          "FNR",
          "auc"
         ],
         "y": [
          0.9440880906564036,
          0.024420788979336257,
          0.239590942293645,
          0.8679941343635094
         ]
        },
        {
         "mode": "lines",
         "name": "Ada Boost",
         "type": "scatter",
         "uid": "3819d19b-a9af-4900-8617-4f8261ee3e96",
         "x": [
          "accuracy",
          "FPR",
          "FNR",
          "auc"
         ],
         "y": [
          0.9370322856531965,
          0.020788979336255477,
          0.3089846603360117,
          0.8351131801638664
         ]
        },
        {
         "mode": "lines+markers",
         "name": "GradientBoosting",
         "type": "scatter",
         "uid": "7c366afc-c10c-4dee-96e5-7823c4a2b3a2",
         "x": [
          "accuracy",
          "FPR",
          "FNR",
          "auc"
         ],
         "y": [
          0.9448364336112893,
          0.024045084533500315,
          0.2366691015339664,
          0.8696429069662667
         ]
        },
        {
         "marker": {
          "symbol": "x"
         },
         "mode": "lines+markers",
         "name": "ExtraTree Classifier",
         "type": "scatter",
         "uid": "805639e1-6aa9-408f-82dd-4d0d4a2367ed",
         "x": [
          "accuracy",
          "FPR",
          "FNR",
          "auc"
         ],
         "y": [
          0.9443019029292281,
          0.021289918597370068,
          0.25639152666179693,
          0.8611592773704164
         ]
        },
        {
         "marker": {
          "symbol": "x"
         },
         "mode": "lines+markers",
         "name": "Bagging",
         "type": "scatter",
         "uid": "9d4439a7-95fd-4a39-ae0d-a937e57835ae",
         "x": [
          "accuracy",
          "FPR",
          "FNR",
          "auc"
         ],
         "y": [
          0.9430190292922814,
          0.024546023794614902,
          0.24616508400292184,
          0.8646444461012316
         ]
        },
        {
         "marker": {
          "symbol": "x"
         },
         "mode": "lines+markers",
         "name": "Neural Network",
         "type": "scatter",
         "uid": "1d2087f7-5ed7-407b-bbaa-4c244544e977",
         "x": [
          "accuracy",
          "FPR",
          "FNR",
          "auc"
         ],
         "y": [
          0.9472952747487706,
          0.023293675641828427,
          0.22425127830533237,
          0.8646444461012316
         ]
        }
       ],
       "layout": {
        "title": "Result comparision for Features selected in Section 1",
        "yaxis": {
         "dtick": 0.05,
         "tick0": 0
        }
       }
      },
      "text/html": [
       "<div id=\"c3363b74-8cd6-4947-b2ac-9e23685c7df4\" style=\"height: 525px; width: 100%;\" class=\"plotly-graph-div\"></div><script type=\"text/javascript\">require([\"plotly\"], function(Plotly) { window.PLOTLYENV=window.PLOTLYENV || {};window.PLOTLYENV.BASE_URL=\"https://plot.ly\";Plotly.newPlot(\"c3363b74-8cd6-4947-b2ac-9e23685c7df4\", [{\"mode\": \"lines\", \"name\": \"KNN_model\", \"x\": [\"accuracy\", \"FPR\", \"FNR\", \"auc\"], \"y\": [0.942377592473808, 0.02417031934877896, 0.2527392257121987, 0.8615452274695111], \"type\": \"scatter\", \"uid\": \"8511c383-ddd3-4d49-a6c5-23983230d98d\"}, {\"mode\": \"lines+markers\", \"name\": \"Logistic Regression\", \"x\": [\"accuracy\", \"FPR\", \"FNR\", \"auc\"], \"y\": [0.9345734445157152, 0.020788979336255477, 0.32578524470416365, 0.8267128879797905], \"type\": \"scatter\", \"uid\": \"fc5bceaf-80ef-4bf2-9e82-8f8ddbe51da2\"}, {\"marker\": {\"symbol\": \"x\"}, \"mode\": \"lines+markers\", \"name\": \"Random Forest\", \"x\": [\"accuracy\", \"FPR\", \"FNR\", \"auc\"], \"y\": [0.9440880906564036, 0.024420788979336257, 0.239590942293645, 0.8679941343635094], \"type\": \"scatter\", \"uid\": \"be0c5ae6-9131-4a41-887e-f2836b0cf9c0\"}, {\"mode\": \"lines\", \"name\": \"Ada Boost\", \"x\": [\"accuracy\", \"FPR\", \"FNR\", \"auc\"], \"y\": [0.9370322856531965, 0.020788979336255477, 0.3089846603360117, 0.8351131801638664], \"type\": \"scatter\", \"uid\": \"3819d19b-a9af-4900-8617-4f8261ee3e96\"}, {\"mode\": \"lines+markers\", \"name\": \"GradientBoosting\", \"x\": [\"accuracy\", \"FPR\", \"FNR\", \"auc\"], \"y\": [0.9448364336112893, 0.024045084533500315, 0.2366691015339664, 0.8696429069662667], \"type\": \"scatter\", \"uid\": \"7c366afc-c10c-4dee-96e5-7823c4a2b3a2\"}, {\"marker\": {\"symbol\": \"x\"}, \"mode\": \"lines+markers\", \"name\": \"ExtraTree Classifier\", \"x\": [\"accuracy\", \"FPR\", \"FNR\", \"auc\"], \"y\": [0.9443019029292281, 0.021289918597370068, 0.25639152666179693, 0.8611592773704164], \"type\": \"scatter\", \"uid\": \"805639e1-6aa9-408f-82dd-4d0d4a2367ed\"}, {\"marker\": {\"symbol\": \"x\"}, \"mode\": \"lines+markers\", \"name\": \"Bagging\", \"x\": [\"accuracy\", \"FPR\", \"FNR\", \"auc\"], \"y\": [0.9430190292922814, 0.024546023794614902, 0.24616508400292184, 0.8646444461012316], \"type\": \"scatter\", \"uid\": \"9d4439a7-95fd-4a39-ae0d-a937e57835ae\"}, {\"marker\": {\"symbol\": \"x\"}, \"mode\": \"lines+markers\", \"name\": \"Neural Network\", \"x\": [\"accuracy\", \"FPR\", \"FNR\", \"auc\"], \"y\": [0.9472952747487706, 0.023293675641828427, 0.22425127830533237, 0.8646444461012316], \"type\": \"scatter\", \"uid\": \"1d2087f7-5ed7-407b-bbaa-4c244544e977\"}], {\"title\": \"Result comparision for Features selected in Section 1\", \"yaxis\": {\"dtick\": 0.05, \"tick0\": 0}}, {\"showLink\": true, \"linkText\": \"Export to plot.ly\", \"plotlyServerURL\": \"https://plot.ly\"})});</script><script type=\"text/javascript\">window.addEventListener(\"resize\", function(){window._Plotly.Plots.resize(document.getElementById(\"c3363b74-8cd6-4947-b2ac-9e23685c7df4\"));});</script>"
      ],
      "text/vnd.plotly.v1+html": [
       "<div id=\"c3363b74-8cd6-4947-b2ac-9e23685c7df4\" style=\"height: 525px; width: 100%;\" class=\"plotly-graph-div\"></div><script type=\"text/javascript\">require([\"plotly\"], function(Plotly) { window.PLOTLYENV=window.PLOTLYENV || {};window.PLOTLYENV.BASE_URL=\"https://plot.ly\";Plotly.newPlot(\"c3363b74-8cd6-4947-b2ac-9e23685c7df4\", [{\"mode\": \"lines\", \"name\": \"KNN_model\", \"x\": [\"accuracy\", \"FPR\", \"FNR\", \"auc\"], \"y\": [0.942377592473808, 0.02417031934877896, 0.2527392257121987, 0.8615452274695111], \"type\": \"scatter\", \"uid\": \"8511c383-ddd3-4d49-a6c5-23983230d98d\"}, {\"mode\": \"lines+markers\", \"name\": \"Logistic Regression\", \"x\": [\"accuracy\", \"FPR\", \"FNR\", \"auc\"], \"y\": [0.9345734445157152, 0.020788979336255477, 0.32578524470416365, 0.8267128879797905], \"type\": \"scatter\", \"uid\": \"fc5bceaf-80ef-4bf2-9e82-8f8ddbe51da2\"}, {\"marker\": {\"symbol\": \"x\"}, \"mode\": \"lines+markers\", \"name\": \"Random Forest\", \"x\": [\"accuracy\", \"FPR\", \"FNR\", \"auc\"], \"y\": [0.9440880906564036, 0.024420788979336257, 0.239590942293645, 0.8679941343635094], \"type\": \"scatter\", \"uid\": \"be0c5ae6-9131-4a41-887e-f2836b0cf9c0\"}, {\"mode\": \"lines\", \"name\": \"Ada Boost\", \"x\": [\"accuracy\", \"FPR\", \"FNR\", \"auc\"], \"y\": [0.9370322856531965, 0.020788979336255477, 0.3089846603360117, 0.8351131801638664], \"type\": \"scatter\", \"uid\": \"3819d19b-a9af-4900-8617-4f8261ee3e96\"}, {\"mode\": \"lines+markers\", \"name\": \"GradientBoosting\", \"x\": [\"accuracy\", \"FPR\", \"FNR\", \"auc\"], \"y\": [0.9448364336112893, 0.024045084533500315, 0.2366691015339664, 0.8696429069662667], \"type\": \"scatter\", \"uid\": \"7c366afc-c10c-4dee-96e5-7823c4a2b3a2\"}, {\"marker\": {\"symbol\": \"x\"}, \"mode\": \"lines+markers\", \"name\": \"ExtraTree Classifier\", \"x\": [\"accuracy\", \"FPR\", \"FNR\", \"auc\"], \"y\": [0.9443019029292281, 0.021289918597370068, 0.25639152666179693, 0.8611592773704164], \"type\": \"scatter\", \"uid\": \"805639e1-6aa9-408f-82dd-4d0d4a2367ed\"}, {\"marker\": {\"symbol\": \"x\"}, \"mode\": \"lines+markers\", \"name\": \"Bagging\", \"x\": [\"accuracy\", \"FPR\", \"FNR\", \"auc\"], \"y\": [0.9430190292922814, 0.024546023794614902, 0.24616508400292184, 0.8646444461012316], \"type\": \"scatter\", \"uid\": \"9d4439a7-95fd-4a39-ae0d-a937e57835ae\"}, {\"marker\": {\"symbol\": \"x\"}, \"mode\": \"lines+markers\", \"name\": \"Neural Network\", \"x\": [\"accuracy\", \"FPR\", \"FNR\", \"auc\"], \"y\": [0.9472952747487706, 0.023293675641828427, 0.22425127830533237, 0.8646444461012316], \"type\": \"scatter\", \"uid\": \"1d2087f7-5ed7-407b-bbaa-4c244544e977\"}], {\"title\": \"Result comparision for Features selected in Section 1\", \"yaxis\": {\"dtick\": 0.05, \"tick0\": 0}}, {\"showLink\": true, \"linkText\": \"Export to plot.ly\", \"plotlyServerURL\": \"https://plot.ly\"})});</script><script type=\"text/javascript\">window.addEventListener(\"resize\", function(){window._Plotly.Plots.resize(document.getElementById(\"c3363b74-8cd6-4947-b2ac-9e23685c7df4\"));});</script>"
      ]
     },
     "metadata": {},
     "output_type": "display_data"
    }
   ],
   "source": [
    "trace0 = go.Scatter(x=table_80_60_test.iloc[0].index.values[[0,5,6,7]],\n",
    "                    y=table_80_60_test.iloc[0].values[[0,5,6,7]],\n",
    "                    mode = 'lines',\n",
    "                    name = 'KNN_model')\n",
    "\n",
    "trace1 = go.Scatter(x=table_80_60_test.iloc[1].index.values[[0,5,6,7]],\n",
    "                    y=table_80_60_test.iloc[1].values[[0,5,6,7]],\n",
    "                    mode = 'lines+markers',\n",
    "                    name = 'Logistic Regression')\n",
    "\n",
    "trace2 = go.Scatter(x=table_80_60_test.iloc[2].index.values[[0,5,6,7]],\n",
    "                    y=table_80_60_test.iloc[2].values[[0,5,6,7]],\n",
    "                    mode = 'lines+markers',marker=dict(symbol='x'),\n",
    "                    name = 'Random Forest')\n",
    "\n",
    "\n",
    "trace3 = go.Scatter(x=table_80_60_test.iloc[3].index.values[[0,5,6,7]],\n",
    "                    y=table_80_60_test.iloc[3].values[[0,5,6,7]],\n",
    "                    mode = 'lines',\n",
    "                    name = 'Ada Boost')\n",
    "\n",
    "trace4 = go.Scatter(x=table_80_60_test.iloc[4].index.values[[0,5,6,7]],\n",
    "                    y=table_80_60_test.iloc[4].values[[0,5,6,7]],\n",
    "                    mode = 'lines+markers',\n",
    "                    name = 'GradientBoosting')\n",
    "\n",
    "trace5 = go.Scatter(x=table_80_60_test.iloc[5].index.values[[0,5,6,7]],\n",
    "                    y=table_80_60_test.iloc[5].values[[0,5,6,7]],\n",
    "                    mode = 'lines+markers',marker=dict(symbol='x'),\n",
    "                    name = 'ExtraTree Classifier')\n",
    "\n",
    "trace6 = go.Scatter(x=table_80_60_test.iloc[6].index.values[[0,5,6,7]],\n",
    "                    y=table_80_60_test.iloc[6].values[[0,5,6,7]],\n",
    "                    mode = 'lines+markers',marker=dict(symbol='x'),\n",
    "                    name = 'Bagging')\n",
    "\n",
    "trace7 = go.Scatter(x=table_80_60_test.iloc[7].index.values[[0,5,6,7]],\n",
    "                    y=table_80_60_test.iloc[7].values[[0,5,6,7]],\n",
    "                    mode = 'lines+markers',marker=dict(symbol='x'),\n",
    "                    name = 'Neural Network')\n",
    "\n",
    "\n",
    "\n",
    "data = [trace0, trace1, trace2, trace3, trace4, trace5, trace6, trace7]\n",
    "layout = go.Layout(yaxis=dict(tick0=0,dtick=0.05),title='Result comparision for Features selected in Section 1')\n",
    "fig = go.Figure(data=data, layout=layout)\n",
    "\n",
    "iplot(fig, filename='Result')"
   ]
  },
  {
   "cell_type": "code",
   "execution_count": 54,
   "metadata": {},
   "outputs": [
    {
     "name": "stdout",
     "output_type": "stream",
     "text": [
      "Training Results\n"
     ]
    },
    {
     "data": {
      "text/html": [
       "<div>\n",
       "<style scoped>\n",
       "    .dataframe tbody tr th:only-of-type {\n",
       "        vertical-align: middle;\n",
       "    }\n",
       "\n",
       "    .dataframe tbody tr th {\n",
       "        vertical-align: top;\n",
       "    }\n",
       "\n",
       "    .dataframe thead th {\n",
       "        text-align: right;\n",
       "    }\n",
       "</style>\n",
       "<table border=\"1\" class=\"dataframe\">\n",
       "  <thead>\n",
       "    <tr style=\"text-align: right;\">\n",
       "      <th></th>\n",
       "      <th>accuracy</th>\n",
       "      <th>TP</th>\n",
       "      <th>TN</th>\n",
       "      <th>FP</th>\n",
       "      <th>FN</th>\n",
       "      <th>FPR</th>\n",
       "      <th>FNR</th>\n",
       "    </tr>\n",
       "    <tr>\n",
       "      <th>index</th>\n",
       "      <th></th>\n",
       "      <th></th>\n",
       "      <th></th>\n",
       "      <th></th>\n",
       "      <th></th>\n",
       "      <th></th>\n",
       "      <th></th>\n",
       "    </tr>\n",
       "  </thead>\n",
       "  <tbody>\n",
       "    <tr>\n",
       "      <th>KNeighborsClassifier</th>\n",
       "      <td>0.949916</td>\n",
       "      <td>4283.0</td>\n",
       "      <td>31260.0</td>\n",
       "      <td>632.0</td>\n",
       "      <td>1242.0</td>\n",
       "      <td>0.019817</td>\n",
       "      <td>0.224796</td>\n",
       "    </tr>\n",
       "    <tr>\n",
       "      <th>LogisticRegression</th>\n",
       "      <td>0.936446</td>\n",
       "      <td>3788.0</td>\n",
       "      <td>31251.0</td>\n",
       "      <td>641.0</td>\n",
       "      <td>1737.0</td>\n",
       "      <td>0.020099</td>\n",
       "      <td>0.314389</td>\n",
       "    </tr>\n",
       "    <tr>\n",
       "      <th>RandomForestClassifier</th>\n",
       "      <td>0.956437</td>\n",
       "      <td>4439.0</td>\n",
       "      <td>31348.0</td>\n",
       "      <td>544.0</td>\n",
       "      <td>1086.0</td>\n",
       "      <td>0.017058</td>\n",
       "      <td>0.196561</td>\n",
       "    </tr>\n",
       "    <tr>\n",
       "      <th>AdaBoostClassifier</th>\n",
       "      <td>0.939626</td>\n",
       "      <td>3859.0</td>\n",
       "      <td>31299.0</td>\n",
       "      <td>593.0</td>\n",
       "      <td>1666.0</td>\n",
       "      <td>0.018594</td>\n",
       "      <td>0.301538</td>\n",
       "    </tr>\n",
       "    <tr>\n",
       "      <th>GradientBoostingClassifier</th>\n",
       "      <td>0.947911</td>\n",
       "      <td>4262.0</td>\n",
       "      <td>31206.0</td>\n",
       "      <td>686.0</td>\n",
       "      <td>1263.0</td>\n",
       "      <td>0.021510</td>\n",
       "      <td>0.228597</td>\n",
       "    </tr>\n",
       "    <tr>\n",
       "      <th>ExtraTreeClassifier</th>\n",
       "      <td>0.956865</td>\n",
       "      <td>4381.0</td>\n",
       "      <td>31422.0</td>\n",
       "      <td>470.0</td>\n",
       "      <td>1144.0</td>\n",
       "      <td>0.014737</td>\n",
       "      <td>0.207059</td>\n",
       "    </tr>\n",
       "    <tr>\n",
       "      <th>BaggingClassifier</th>\n",
       "      <td>0.956410</td>\n",
       "      <td>4428.0</td>\n",
       "      <td>31358.0</td>\n",
       "      <td>534.0</td>\n",
       "      <td>1097.0</td>\n",
       "      <td>0.016744</td>\n",
       "      <td>0.198552</td>\n",
       "    </tr>\n",
       "    <tr>\n",
       "      <th>Neural Network-1</th>\n",
       "      <td>0.950504</td>\n",
       "      <td>4353.0</td>\n",
       "      <td>31212.0</td>\n",
       "      <td>680.0</td>\n",
       "      <td>1172.0</td>\n",
       "      <td>0.021322</td>\n",
       "      <td>0.212127</td>\n",
       "    </tr>\n",
       "  </tbody>\n",
       "</table>\n",
       "</div>"
      ],
      "text/plain": [
       "                            accuracy      TP       TN     FP      FN  \\\n",
       "index                                                                  \n",
       "KNeighborsClassifier        0.949916  4283.0  31260.0  632.0  1242.0   \n",
       "LogisticRegression          0.936446  3788.0  31251.0  641.0  1737.0   \n",
       "RandomForestClassifier      0.956437  4439.0  31348.0  544.0  1086.0   \n",
       "AdaBoostClassifier          0.939626  3859.0  31299.0  593.0  1666.0   \n",
       "GradientBoostingClassifier  0.947911  4262.0  31206.0  686.0  1263.0   \n",
       "ExtraTreeClassifier         0.956865  4381.0  31422.0  470.0  1144.0   \n",
       "BaggingClassifier           0.956410  4428.0  31358.0  534.0  1097.0   \n",
       "Neural Network-1            0.950504  4353.0  31212.0  680.0  1172.0   \n",
       "\n",
       "                                 FPR       FNR  \n",
       "index                                           \n",
       "KNeighborsClassifier        0.019817  0.224796  \n",
       "LogisticRegression          0.020099  0.314389  \n",
       "RandomForestClassifier      0.017058  0.196561  \n",
       "AdaBoostClassifier          0.018594  0.301538  \n",
       "GradientBoostingClassifier  0.021510  0.228597  \n",
       "ExtraTreeClassifier         0.014737  0.207059  \n",
       "BaggingClassifier           0.016744  0.198552  \n",
       "Neural Network-1            0.021322  0.212127  "
      ]
     },
     "metadata": {},
     "output_type": "display_data"
    },
    {
     "name": "stdout",
     "output_type": "stream",
     "text": [
      "Test Results\n"
     ]
    },
    {
     "data": {
      "text/html": [
       "<div>\n",
       "<style scoped>\n",
       "    .dataframe tbody tr th:only-of-type {\n",
       "        vertical-align: middle;\n",
       "    }\n",
       "\n",
       "    .dataframe tbody tr th {\n",
       "        vertical-align: top;\n",
       "    }\n",
       "\n",
       "    .dataframe thead th {\n",
       "        text-align: right;\n",
       "    }\n",
       "</style>\n",
       "<table border=\"1\" class=\"dataframe\">\n",
       "  <thead>\n",
       "    <tr style=\"text-align: right;\">\n",
       "      <th></th>\n",
       "      <th>accuracy</th>\n",
       "      <th>TP</th>\n",
       "      <th>TN</th>\n",
       "      <th>FP</th>\n",
       "      <th>FN</th>\n",
       "      <th>FPR</th>\n",
       "      <th>FNR</th>\n",
       "      <th>auc</th>\n",
       "      <th>mcc</th>\n",
       "    </tr>\n",
       "    <tr>\n",
       "      <th>index</th>\n",
       "      <th></th>\n",
       "      <th></th>\n",
       "      <th></th>\n",
       "      <th></th>\n",
       "      <th></th>\n",
       "      <th></th>\n",
       "      <th></th>\n",
       "      <th></th>\n",
       "      <th></th>\n",
       "    </tr>\n",
       "  </thead>\n",
       "  <tbody>\n",
       "    <tr>\n",
       "      <th>KNeighborsClassifier</th>\n",
       "      <td>0.942378</td>\n",
       "      <td>1023.0</td>\n",
       "      <td>7792.0</td>\n",
       "      <td>193.0</td>\n",
       "      <td>346.0</td>\n",
       "      <td>0.024170</td>\n",
       "      <td>0.252739</td>\n",
       "      <td>0.861545</td>\n",
       "      <td>0.759987</td>\n",
       "    </tr>\n",
       "    <tr>\n",
       "      <th>LogisticRegression</th>\n",
       "      <td>0.934573</td>\n",
       "      <td>923.0</td>\n",
       "      <td>7819.0</td>\n",
       "      <td>166.0</td>\n",
       "      <td>446.0</td>\n",
       "      <td>0.020789</td>\n",
       "      <td>0.325785</td>\n",
       "      <td>0.826713</td>\n",
       "      <td>0.720112</td>\n",
       "    </tr>\n",
       "    <tr>\n",
       "      <th>RandomForestClassifier</th>\n",
       "      <td>0.944088</td>\n",
       "      <td>1041.0</td>\n",
       "      <td>7790.0</td>\n",
       "      <td>195.0</td>\n",
       "      <td>328.0</td>\n",
       "      <td>0.024421</td>\n",
       "      <td>0.239591</td>\n",
       "      <td>0.867994</td>\n",
       "      <td>0.768204</td>\n",
       "    </tr>\n",
       "    <tr>\n",
       "      <th>AdaBoostClassifier</th>\n",
       "      <td>0.937032</td>\n",
       "      <td>946.0</td>\n",
       "      <td>7819.0</td>\n",
       "      <td>166.0</td>\n",
       "      <td>423.0</td>\n",
       "      <td>0.020789</td>\n",
       "      <td>0.308985</td>\n",
       "      <td>0.835113</td>\n",
       "      <td>0.731968</td>\n",
       "    </tr>\n",
       "    <tr>\n",
       "      <th>GradientBoostingClassifier</th>\n",
       "      <td>0.944836</td>\n",
       "      <td>1045.0</td>\n",
       "      <td>7793.0</td>\n",
       "      <td>192.0</td>\n",
       "      <td>324.0</td>\n",
       "      <td>0.024045</td>\n",
       "      <td>0.236669</td>\n",
       "      <td>0.869643</td>\n",
       "      <td>0.771381</td>\n",
       "    </tr>\n",
       "    <tr>\n",
       "      <th>ExtraTreeClassifier</th>\n",
       "      <td>0.944302</td>\n",
       "      <td>1018.0</td>\n",
       "      <td>7815.0</td>\n",
       "      <td>170.0</td>\n",
       "      <td>351.0</td>\n",
       "      <td>0.021290</td>\n",
       "      <td>0.256392</td>\n",
       "      <td>0.861159</td>\n",
       "      <td>0.766752</td>\n",
       "    </tr>\n",
       "    <tr>\n",
       "      <th>BaggingClassifier</th>\n",
       "      <td>0.943019</td>\n",
       "      <td>1032.0</td>\n",
       "      <td>7789.0</td>\n",
       "      <td>196.0</td>\n",
       "      <td>337.0</td>\n",
       "      <td>0.024546</td>\n",
       "      <td>0.246165</td>\n",
       "      <td>0.864644</td>\n",
       "      <td>0.763310</td>\n",
       "    </tr>\n",
       "    <tr>\n",
       "      <th>Neural Network-1</th>\n",
       "      <td>0.947295</td>\n",
       "      <td>1062.0</td>\n",
       "      <td>7799.0</td>\n",
       "      <td>186.0</td>\n",
       "      <td>307.0</td>\n",
       "      <td>0.023294</td>\n",
       "      <td>0.224251</td>\n",
       "      <td>0.864644</td>\n",
       "      <td>0.782184</td>\n",
       "    </tr>\n",
       "  </tbody>\n",
       "</table>\n",
       "</div>"
      ],
      "text/plain": [
       "                            accuracy      TP      TN     FP     FN       FPR  \\\n",
       "index                                                                          \n",
       "KNeighborsClassifier        0.942378  1023.0  7792.0  193.0  346.0  0.024170   \n",
       "LogisticRegression          0.934573   923.0  7819.0  166.0  446.0  0.020789   \n",
       "RandomForestClassifier      0.944088  1041.0  7790.0  195.0  328.0  0.024421   \n",
       "AdaBoostClassifier          0.937032   946.0  7819.0  166.0  423.0  0.020789   \n",
       "GradientBoostingClassifier  0.944836  1045.0  7793.0  192.0  324.0  0.024045   \n",
       "ExtraTreeClassifier         0.944302  1018.0  7815.0  170.0  351.0  0.021290   \n",
       "BaggingClassifier           0.943019  1032.0  7789.0  196.0  337.0  0.024546   \n",
       "Neural Network-1            0.947295  1062.0  7799.0  186.0  307.0  0.023294   \n",
       "\n",
       "                                 FNR       auc       mcc  \n",
       "index                                                     \n",
       "KNeighborsClassifier        0.252739  0.861545  0.759987  \n",
       "LogisticRegression          0.325785  0.826713  0.720112  \n",
       "RandomForestClassifier      0.239591  0.867994  0.768204  \n",
       "AdaBoostClassifier          0.308985  0.835113  0.731968  \n",
       "GradientBoostingClassifier  0.236669  0.869643  0.771381  \n",
       "ExtraTreeClassifier         0.256392  0.861159  0.766752  \n",
       "BaggingClassifier           0.246165  0.864644  0.763310  \n",
       "Neural Network-1            0.224251  0.864644  0.782184  "
      ]
     },
     "metadata": {},
     "output_type": "display_data"
    }
   ],
   "source": [
    "table_80_60_train['index']=ind_columns\n",
    "table_80_60_test['index']=ind_columns\n",
    "\n",
    "\n",
    "table_80_60_test.set_index(['index'],drop=True,inplace=True)\n",
    "table_80_60_train.set_index(['index'],drop=True,inplace=True)\n",
    "\n",
    "print(\"Training Results\")\n",
    "display(table_80_60_train)\n",
    "print(\"Test Results\")\n",
    "display(table_80_60_test)"
   ]
  },
  {
   "cell_type": "markdown",
   "metadata": {},
   "source": [
    "### <a id='4.B' style=\"text-decoration : none; color : #000000;\"> B. Average Feature Importances</a>"
   ]
  },
  {
   "cell_type": "code",
   "execution_count": 55,
   "metadata": {},
   "outputs": [
    {
     "data": {
      "application/vnd.plotly.v1+json": {
       "config": {
        "linkText": "Export to plot.ly",
        "plotlyServerURL": "https://plot.ly",
        "showLink": true
       },
       "data": [
        {
         "marker": {
          "color": "rgb(158,202,225)",
          "line": {
           "color": "rgb(8,48,107)",
           "width": 1.5
          }
         },
         "opacity": 0.6,
         "orientation": "h",
         "text": [
          0.1708,
          0.1687,
          0.0632,
          0.0591,
          0.0584,
          0.0526,
          0.0498,
          0.0458,
          0.0355,
          0.0339,
          0.0333,
          0.0282,
          0.0264,
          0.0238,
          0.0196,
          0.0185,
          0.0162,
          0.0152,
          0.015,
          0.0149,
          0.01,
          0.0082,
          0.0082,
          0.0073,
          0.0057,
          0.0054,
          0.003,
          0.0017,
          0.0015
         ],
         "textposition": "outside",
         "type": "bar",
         "uid": "456965dc-95bd-4aa1-b1ac-78b9843587d7",
         "x": [
          0.17080424140014,
          0.16874754946990875,
          0.06323424834409061,
          0.059089484751160555,
          0.058378144404326884,
          0.052588577276827225,
          0.049846033511247424,
          0.045764975974397194,
          0.035485613182900014,
          0.033945225613764736,
          0.03325164528398199,
          0.028200756975166684,
          0.02642834086225041,
          0.02376670280214442,
          0.01960269586832704,
          0.018537130510553605,
          0.016241797836118437,
          0.015187252813561439,
          0.014971629267752567,
          0.014915310498576088,
          0.010009348999405823,
          0.00819386832382014,
          0.008160645384327035,
          0.007276015433116286,
          0.0057127329356077665,
          0.005443813086373148,
          0.003027511792492688,
          0.0017272162311081298,
          0.0014614911665528911
         ],
         "y": [
          "url_number_vowels/url_length / url_number_vowels",
          "url_char_/ + url_extensions",
          "url_char_. + url_number_special_chars/url_length",
          "url_extensions + url_number_vowels/url_length",
          "url_extensions + url_number_consonants/url_length",
          "url_char_. + url_number_digits/url_length",
          "url_number_vowels/url_length / url_number_special_chars",
          "url_number_consonants/url_length / url_number_special_chars",
          "url_extensions * url_number_consonants/url_length",
          "url_extensions + url_port",
          "url_char_. + url_char_/",
          "url_char_% + url_extensions",
          "url_number_digits/url_length + url_number_special_chars",
          "url_extensions / url_number_vowels/url_length",
          "url_char_. * url_number_digits/url_length",
          "url_char_= + url_extensions",
          "url_number_special_chars/url_length / url_char_/",
          "url_char_: + url_extensions",
          "url_char_. + url_char__",
          "url_char_+ + url_extensions",
          "url_char_/ / url_length",
          "url_char_+ + url_char_.",
          "url_char_/ / url_extensions",
          "url_number_vowels/url_length / url_char_/",
          "url_char_. + url_port",
          "url_char_/ / url_number_special_chars",
          "url_number_consonants/url_length / url_char_/",
          "url_char_. + url_char_:",
          "url_char_% + url_char_."
         ]
        }
       ],
       "layout": {
        "autosize": false,
        "height": 1000,
        "width": 1000,
        "xaxis": {
         "tickfont": {
          "color": "black",
          "size": 12
         },
         "title": "Feature Importances"
        },
        "yaxis": {
         "automargin": true
        }
       }
      },
      "text/html": [
       "<div id=\"515e23cb-13b3-4aaa-9dc7-f1071a8ffbec\" style=\"height: 1000px; width: 1000px;\" class=\"plotly-graph-div\"></div><script type=\"text/javascript\">require([\"plotly\"], function(Plotly) { window.PLOTLYENV=window.PLOTLYENV || {};window.PLOTLYENV.BASE_URL=\"https://plot.ly\";Plotly.newPlot(\"515e23cb-13b3-4aaa-9dc7-f1071a8ffbec\", [{\"marker\": {\"color\": \"rgb(158,202,225)\", \"line\": {\"color\": \"rgb(8,48,107)\", \"width\": 1.5}}, \"opacity\": 0.6, \"orientation\": \"h\", \"text\": [0.1708, 0.1687, 0.0632, 0.0591, 0.0584, 0.0526, 0.0498, 0.0458, 0.0355, 0.0339, 0.0333, 0.0282, 0.0264, 0.0238, 0.0196, 0.0185, 0.0162, 0.0152, 0.015, 0.0149, 0.01, 0.0082, 0.0082, 0.0073, 0.0057, 0.0054, 0.003, 0.0017, 0.0015], \"textposition\": \"outside\", \"x\": [0.17080424140014, 0.16874754946990875, 0.06323424834409061, 0.059089484751160555, 0.058378144404326884, 0.052588577276827225, 0.049846033511247424, 0.045764975974397194, 0.035485613182900014, 0.033945225613764736, 0.03325164528398199, 0.028200756975166684, 0.02642834086225041, 0.02376670280214442, 0.01960269586832704, 0.018537130510553605, 0.016241797836118437, 0.015187252813561439, 0.014971629267752567, 0.014915310498576088, 0.010009348999405823, 0.00819386832382014, 0.008160645384327035, 0.007276015433116286, 0.0057127329356077665, 0.005443813086373148, 0.003027511792492688, 0.0017272162311081298, 0.0014614911665528911], \"y\": [\"url_number_vowels/url_length / url_number_vowels\", \"url_char_/ + url_extensions\", \"url_char_. + url_number_special_chars/url_length\", \"url_extensions + url_number_vowels/url_length\", \"url_extensions + url_number_consonants/url_length\", \"url_char_. + url_number_digits/url_length\", \"url_number_vowels/url_length / url_number_special_chars\", \"url_number_consonants/url_length / url_number_special_chars\", \"url_extensions * url_number_consonants/url_length\", \"url_extensions + url_port\", \"url_char_. + url_char_/\", \"url_char_% + url_extensions\", \"url_number_digits/url_length + url_number_special_chars\", \"url_extensions / url_number_vowels/url_length\", \"url_char_. * url_number_digits/url_length\", \"url_char_= + url_extensions\", \"url_number_special_chars/url_length / url_char_/\", \"url_char_: + url_extensions\", \"url_char_. + url_char__\", \"url_char_+ + url_extensions\", \"url_char_/ / url_length\", \"url_char_+ + url_char_.\", \"url_char_/ / url_extensions\", \"url_number_vowels/url_length / url_char_/\", \"url_char_. + url_port\", \"url_char_/ / url_number_special_chars\", \"url_number_consonants/url_length / url_char_/\", \"url_char_. + url_char_:\", \"url_char_% + url_char_.\"], \"type\": \"bar\", \"uid\": \"456965dc-95bd-4aa1-b1ac-78b9843587d7\"}], {\"autosize\": false, \"height\": 1000, \"width\": 1000, \"xaxis\": {\"tickfont\": {\"color\": \"black\", \"size\": 12}, \"title\": \"Feature Importances\"}, \"yaxis\": {\"automargin\": true}}, {\"showLink\": true, \"linkText\": \"Export to plot.ly\", \"plotlyServerURL\": \"https://plot.ly\"})});</script>"
      ],
      "text/vnd.plotly.v1+html": [
       "<div id=\"515e23cb-13b3-4aaa-9dc7-f1071a8ffbec\" style=\"height: 1000px; width: 1000px;\" class=\"plotly-graph-div\"></div><script type=\"text/javascript\">require([\"plotly\"], function(Plotly) { window.PLOTLYENV=window.PLOTLYENV || {};window.PLOTLYENV.BASE_URL=\"https://plot.ly\";Plotly.newPlot(\"515e23cb-13b3-4aaa-9dc7-f1071a8ffbec\", [{\"marker\": {\"color\": \"rgb(158,202,225)\", \"line\": {\"color\": \"rgb(8,48,107)\", \"width\": 1.5}}, \"opacity\": 0.6, \"orientation\": \"h\", \"text\": [0.1708, 0.1687, 0.0632, 0.0591, 0.0584, 0.0526, 0.0498, 0.0458, 0.0355, 0.0339, 0.0333, 0.0282, 0.0264, 0.0238, 0.0196, 0.0185, 0.0162, 0.0152, 0.015, 0.0149, 0.01, 0.0082, 0.0082, 0.0073, 0.0057, 0.0054, 0.003, 0.0017, 0.0015], \"textposition\": \"outside\", \"x\": [0.17080424140014, 0.16874754946990875, 0.06323424834409061, 0.059089484751160555, 0.058378144404326884, 0.052588577276827225, 0.049846033511247424, 0.045764975974397194, 0.035485613182900014, 0.033945225613764736, 0.03325164528398199, 0.028200756975166684, 0.02642834086225041, 0.02376670280214442, 0.01960269586832704, 0.018537130510553605, 0.016241797836118437, 0.015187252813561439, 0.014971629267752567, 0.014915310498576088, 0.010009348999405823, 0.00819386832382014, 0.008160645384327035, 0.007276015433116286, 0.0057127329356077665, 0.005443813086373148, 0.003027511792492688, 0.0017272162311081298, 0.0014614911665528911], \"y\": [\"url_number_vowels/url_length / url_number_vowels\", \"url_char_/ + url_extensions\", \"url_char_. + url_number_special_chars/url_length\", \"url_extensions + url_number_vowels/url_length\", \"url_extensions + url_number_consonants/url_length\", \"url_char_. + url_number_digits/url_length\", \"url_number_vowels/url_length / url_number_special_chars\", \"url_number_consonants/url_length / url_number_special_chars\", \"url_extensions * url_number_consonants/url_length\", \"url_extensions + url_port\", \"url_char_. + url_char_/\", \"url_char_% + url_extensions\", \"url_number_digits/url_length + url_number_special_chars\", \"url_extensions / url_number_vowels/url_length\", \"url_char_. * url_number_digits/url_length\", \"url_char_= + url_extensions\", \"url_number_special_chars/url_length / url_char_/\", \"url_char_: + url_extensions\", \"url_char_. + url_char__\", \"url_char_+ + url_extensions\", \"url_char_/ / url_length\", \"url_char_+ + url_char_.\", \"url_char_/ / url_extensions\", \"url_number_vowels/url_length / url_char_/\", \"url_char_. + url_port\", \"url_char_/ / url_number_special_chars\", \"url_number_consonants/url_length / url_char_/\", \"url_char_. + url_char_:\", \"url_char_% + url_char_.\"], \"type\": \"bar\", \"uid\": \"456965dc-95bd-4aa1-b1ac-78b9843587d7\"}], {\"autosize\": false, \"height\": 1000, \"width\": 1000, \"xaxis\": {\"tickfont\": {\"color\": \"black\", \"size\": 12}, \"title\": \"Feature Importances\"}, \"yaxis\": {\"automargin\": true}}, {\"showLink\": true, \"linkText\": \"Export to plot.ly\", \"plotlyServerURL\": \"https://plot.ly\"})});</script>"
      ]
     },
     "metadata": {},
     "output_type": "display_data"
    }
   ],
   "source": [
    "feat_impt_plot(np.average(feat_imp,axis=0),feature_name)"
   ]
  },
  {
   "cell_type": "markdown",
   "metadata": {},
   "source": [
    "### <a id='5' style=\"text-decoration : none; color : #000000;\">5. Feature Transformation with PCA </a>"
   ]
  },
  {
   "cell_type": "code",
   "execution_count": 56,
   "metadata": {
    "collapsed": true
   },
   "outputs": [],
   "source": [
    "X=fs.loc[:,fs.columns!='Target']\n",
    "y=fs.Target.values\n",
    "feature_name = X.columns.tolist()\n",
    "X=np.nan_to_num(X)\n",
    "scaler=StandardScaler()\n",
    "scaled_X=scaler.fit_transform(X)"
   ]
  },
  {
   "cell_type": "code",
   "execution_count": 57,
   "metadata": {},
   "outputs": [
    {
     "data": {
      "image/png": "[encoded data removed]",
      "text/plain": [
       "<Figure size 720x576 with 1 Axes>"
      ]
     },
     "metadata": {},
     "output_type": "display_data"
    }
   ],
   "source": [
    "sns.set_style('whitegrid')\n",
    "pca = PCA(random_state=0)\n",
    "pca.fit(scaled_X)\n",
    "plt.figure(1, figsize=(10, 8))\n",
    "plt.plot(np.cumsum(pca.explained_variance_ratio_),'--o', linewidth=2)\n",
    "plt.axis('tight')\n",
    "plt.xlabel('Number of Components',size=14)\n",
    "plt.xticks(size=12)\n",
    "plt.xlim([0,200])\n",
    "plt.ylabel('% Explained Variance',size=14)\n",
    "plt.yticks(size=12)\n",
    "plt.title('% Variance Explained by Principal Components',size=14,y=1.05)\n",
    "plt.show()"
   ]
  },
  {
   "cell_type": "code",
   "execution_count": 59,
   "metadata": {},
   "outputs": [
    {
     "name": "stdout",
     "output_type": "stream",
     "text": [
      "Variance explained using 27 components is: 0.89039818179\n"
     ]
    }
   ],
   "source": [
    "pca=PCA(n_components=27,whiten=True,random_state=0)\n",
    "X_pca_21=pca.fit_transform(scaled_X)\n",
    "print(\"Variance explained using 27 components is:\",sum(pca.explained_variance_ratio_))"
   ]
  },
  {
   "cell_type": "code",
   "execution_count": 60,
   "metadata": {
    "collapsed": true
   },
   "outputs": [],
   "source": [
    "X_train=X_pca_21[:37417]\n",
    "Y_train=fs.iloc[:37417]['Target'].values\n",
    "X_test=X_pca_21[37417:]\n",
    "Y_test=fs.iloc[37417:]['Target'].values\n",
    "\n",
    "## Table to store training and test measures so we can compare later\n",
    "table_80_70_train=pd.DataFrame(columns=['accuracy','TP','TN','FP','FN','FPR','FNR'])\n",
    "table_80_70_test=pd.DataFrame(columns=['accuracy','TP','TN','FP','FN','FPR','FNR','auc','mcc'])"
   ]
  },
  {
   "cell_type": "code",
   "execution_count": 61,
   "metadata": {
    "scrolled": false
   },
   "outputs": [
    {
     "name": "stdout",
     "output_type": "stream",
     "text": [
      "\u001b[1mK-Nearest Neighbors\u001b[0m\n",
      "Accuracy of the model for training data is: 0.957024881738\n",
      "Confusion Matrix for training data is:\n"
     ]
    },
    {
     "data": {
      "text/plain": [
       "Predicted  False  True  __all__\n",
       "Actual                         \n",
       "False      31404   488    31892\n",
       "True        1120  4405     5525\n",
       "__all__    32524  4893    37417"
      ]
     },
     "metadata": {},
     "output_type": "display_data"
    },
    {
     "name": "stdout",
     "output_type": "stream",
     "text": [
      "Accuracy of the model for test data is: 0.951999144751\n",
      "Confusion Matrix for test data is:\n"
     ]
    },
    {
     "data": {
      "text/plain": [
       "Predicted  False  True  __all__\n",
       "Actual                         \n",
       "False       7835   150     7985\n",
       "True         299  1070     1369\n",
       "__all__     8134  1220     9354"
      ]
     },
     "metadata": {},
     "output_type": "display_data"
    },
    {
     "name": "stdout",
     "output_type": "stream",
     "text": [
      "\n",
      "\n",
      "\u001b[1mLogistic Regression\u001b[0m\n",
      "Accuracy of the model for training data is: 0.93807627549\n",
      "Confusion Matrix for training data is:\n"
     ]
    },
    {
     "data": {
      "text/plain": [
       "Predicted  False  True  __all__\n",
       "Actual                         \n",
       "False      31333   559    31892\n",
       "True        1758  3767     5525\n",
       "__all__    33091  4326    37417"
      ]
     },
     "metadata": {},
     "output_type": "display_data"
    },
    {
     "name": "stdout",
     "output_type": "stream",
     "text": [
      "Accuracy of the model for test data is: 0.935749412016\n",
      "Confusion Matrix for test data is:\n"
     ]
    },
    {
     "data": {
      "text/plain": [
       "Predicted  False  True  __all__\n",
       "Actual                         \n",
       "False       7839   146     7985\n",
       "True         455   914     1369\n",
       "__all__     8294  1060     9354"
      ]
     },
     "metadata": {},
     "output_type": "display_data"
    },
    {
     "name": "stdout",
     "output_type": "stream",
     "text": [
      "\n",
      "\n",
      "\u001b[1mRandomForest Classifier\u001b[0m\n",
      "Accuracy of the model for training data is: 0.96400032071\n",
      "Confusion Matrix for training data is:\n"
     ]
    },
    {
     "data": {
      "text/plain": [
       "Predicted  False  True  __all__\n",
       "Actual                         \n",
       "False      31511   381    31892\n",
       "True         966  4559     5525\n",
       "__all__    32477  4940    37417"
      ]
     },
     "metadata": {},
     "output_type": "display_data"
    },
    {
     "name": "stdout",
     "output_type": "stream",
     "text": [
      "Accuracy of the model for test data is: 0.954244173616\n",
      "Confusion Matrix for test data is:\n"
     ]
    },
    {
     "data": {
      "text/plain": [
       "Predicted  False  True  __all__\n",
       "Actual                         \n",
       "False       7839   146     7985\n",
       "True         282  1087     1369\n",
       "__all__     8121  1233     9354"
      ]
     },
     "metadata": {},
     "output_type": "display_data"
    },
    {
     "data": {
      "application/vnd.plotly.v1+json": {
       "config": {
        "linkText": "Export to plot.ly",
        "plotlyServerURL": "https://plot.ly",
        "showLink": true
       },
       "data": [
        {
         "marker": {
          "color": "rgb(158,202,225)",
          "line": {
           "color": "rgb(8,48,107)",
           "width": 1.5
          }
         },
         "opacity": 0.6,
         "orientation": "h",
         "text": [
          0.1705,
          0.1377,
          0.1081,
          0.0612,
          0.0565,
          0.0565,
          0.0547,
          0.0452,
          0.0416,
          0.0311,
          0.0224,
          0.0216,
          0.0207,
          0.0189,
          0.0163,
          0.0162,
          0.0157,
          0.0144,
          0.0133,
          0.0131,
          0.0126,
          0.0122,
          0.0107,
          0.0105,
          0.0076,
          0.0056,
          0.0049
         ],
         "textposition": "outside",
         "type": "bar",
         "uid": "eef61b2c-affa-4df3-a3c5-d6c21929109c",
         "x": [
          0.17047240187247004,
          0.1377314600755873,
          0.1081146724425562,
          0.06124799614272767,
          0.05651133788086603,
          0.056461857921927726,
          0.05474015039308881,
          0.04524345749954952,
          0.041569603393570895,
          0.031144237465118973,
          0.022449821168363034,
          0.021561554890659897,
          0.020703764200113026,
          0.018901446168672103,
          0.016327845377348143,
          0.016246244423992185,
          0.015722025916546208,
          0.014435662502419544,
          0.013293751964604115,
          0.013126851595446742,
          0.01259851028661243,
          0.012183611596132193,
          0.010696095131363803,
          0.010452361038315174,
          0.007556410128654985,
          0.005577594669650466,
          0.004929273853642864
         ],
         "y": [
          "0",
          "1",
          "6",
          "21",
          "10",
          "15",
          "18",
          "16",
          "3",
          "22",
          "13",
          "23",
          "5",
          "19",
          "12",
          "11",
          "17",
          "2",
          "4",
          "20",
          "8",
          "14",
          "25",
          "26",
          "9",
          "24",
          "7"
         ]
        }
       ],
       "layout": {
        "autosize": false,
        "height": 1000,
        "width": 1000,
        "xaxis": {
         "tickfont": {
          "color": "black",
          "size": 12
         },
         "title": "Feature Importances"
        },
        "yaxis": {
         "automargin": true
        }
       }
      },
      "text/html": [
       "<div id=\"9b82a7a0-4ab6-44c5-8500-e844bafd8e15\" style=\"height: 1000px; width: 1000px;\" class=\"plotly-graph-div\"></div><script type=\"text/javascript\">require([\"plotly\"], function(Plotly) { window.PLOTLYENV=window.PLOTLYENV || {};window.PLOTLYENV.BASE_URL=\"https://plot.ly\";Plotly.newPlot(\"9b82a7a0-4ab6-44c5-8500-e844bafd8e15\", [{\"marker\": {\"color\": \"rgb(158,202,225)\", \"line\": {\"color\": \"rgb(8,48,107)\", \"width\": 1.5}}, \"opacity\": 0.6, \"orientation\": \"h\", \"text\": [0.1705, 0.1377, 0.1081, 0.0612, 0.0565, 0.0565, 0.0547, 0.0452, 0.0416, 0.0311, 0.0224, 0.0216, 0.0207, 0.0189, 0.0163, 0.0162, 0.0157, 0.0144, 0.0133, 0.0131, 0.0126, 0.0122, 0.0107, 0.0105, 0.0076, 0.0056, 0.0049], \"textposition\": \"outside\", \"x\": [0.17047240187247004, 0.1377314600755873, 0.1081146724425562, 0.06124799614272767, 0.05651133788086603, 0.056461857921927726, 0.05474015039308881, 0.04524345749954952, 0.041569603393570895, 0.031144237465118973, 0.022449821168363034, 0.021561554890659897, 0.020703764200113026, 0.018901446168672103, 0.016327845377348143, 0.016246244423992185, 0.015722025916546208, 0.014435662502419544, 0.013293751964604115, 0.013126851595446742, 0.01259851028661243, 0.012183611596132193, 0.010696095131363803, 0.010452361038315174, 0.007556410128654985, 0.005577594669650466, 0.004929273853642864], \"y\": [\"0\", \"1\", \"6\", \"21\", \"10\", \"15\", \"18\", \"16\", \"3\", \"22\", \"13\", \"23\", \"5\", \"19\", \"12\", \"11\", \"17\", \"2\", \"4\", \"20\", \"8\", \"14\", \"25\", \"26\", \"9\", \"24\", \"7\"], \"type\": \"bar\", \"uid\": \"eef61b2c-affa-4df3-a3c5-d6c21929109c\"}], {\"autosize\": false, \"height\": 1000, \"width\": 1000, \"xaxis\": {\"tickfont\": {\"color\": \"black\", \"size\": 12}, \"title\": \"Feature Importances\"}, \"yaxis\": {\"automargin\": true}}, {\"showLink\": true, \"linkText\": \"Export to plot.ly\", \"plotlyServerURL\": \"https://plot.ly\"})});</script>"
      ],
      "text/vnd.plotly.v1+html": [
       "<div id=\"9b82a7a0-4ab6-44c5-8500-e844bafd8e15\" style=\"height: 1000px; width: 1000px;\" class=\"plotly-graph-div\"></div><script type=\"text/javascript\">require([\"plotly\"], function(Plotly) { window.PLOTLYENV=window.PLOTLYENV || {};window.PLOTLYENV.BASE_URL=\"https://plot.ly\";Plotly.newPlot(\"9b82a7a0-4ab6-44c5-8500-e844bafd8e15\", [{\"marker\": {\"color\": \"rgb(158,202,225)\", \"line\": {\"color\": \"rgb(8,48,107)\", \"width\": 1.5}}, \"opacity\": 0.6, \"orientation\": \"h\", \"text\": [0.1705, 0.1377, 0.1081, 0.0612, 0.0565, 0.0565, 0.0547, 0.0452, 0.0416, 0.0311, 0.0224, 0.0216, 0.0207, 0.0189, 0.0163, 0.0162, 0.0157, 0.0144, 0.0133, 0.0131, 0.0126, 0.0122, 0.0107, 0.0105, 0.0076, 0.0056, 0.0049], \"textposition\": \"outside\", \"x\": [0.17047240187247004, 0.1377314600755873, 0.1081146724425562, 0.06124799614272767, 0.05651133788086603, 0.056461857921927726, 0.05474015039308881, 0.04524345749954952, 0.041569603393570895, 0.031144237465118973, 0.022449821168363034, 0.021561554890659897, 0.020703764200113026, 0.018901446168672103, 0.016327845377348143, 0.016246244423992185, 0.015722025916546208, 0.014435662502419544, 0.013293751964604115, 0.013126851595446742, 0.01259851028661243, 0.012183611596132193, 0.010696095131363803, 0.010452361038315174, 0.007556410128654985, 0.005577594669650466, 0.004929273853642864], \"y\": [\"0\", \"1\", \"6\", \"21\", \"10\", \"15\", \"18\", \"16\", \"3\", \"22\", \"13\", \"23\", \"5\", \"19\", \"12\", \"11\", \"17\", \"2\", \"4\", \"20\", \"8\", \"14\", \"25\", \"26\", \"9\", \"24\", \"7\"], \"type\": \"bar\", \"uid\": \"eef61b2c-affa-4df3-a3c5-d6c21929109c\"}], {\"autosize\": false, \"height\": 1000, \"width\": 1000, \"xaxis\": {\"tickfont\": {\"color\": \"black\", \"size\": 12}, \"title\": \"Feature Importances\"}, \"yaxis\": {\"automargin\": true}}, {\"showLink\": true, \"linkText\": \"Export to plot.ly\", \"plotlyServerURL\": \"https://plot.ly\"})});</script>"
      ]
     },
     "metadata": {},
     "output_type": "display_data"
    },
    {
     "name": "stdout",
     "output_type": "stream",
     "text": [
      "\n",
      "\n",
      "\u001b[1mAdaoost Classifier\u001b[0m\n",
      "Accuracy of the model for training data is: 0.942806745597\n",
      "Confusion Matrix for training data is:\n"
     ]
    },
    {
     "data": {
      "text/plain": [
       "Predicted  False  True  __all__\n",
       "Actual                         \n",
       "False      31313   579    31892\n",
       "True        1561  3964     5525\n",
       "__all__    32874  4543    37417"
      ]
     },
     "metadata": {},
     "output_type": "display_data"
    },
    {
     "name": "stdout",
     "output_type": "stream",
     "text": [
      "Accuracy of the model for test data is: 0.941094718837\n",
      "Confusion Matrix for test data is:\n"
     ]
    },
    {
     "data": {
      "text/plain": [
       "Predicted  False  True  __all__\n",
       "Actual                         \n",
       "False       7826   159     7985\n",
       "True         392   977     1369\n",
       "__all__     8218  1136     9354"
      ]
     },
     "metadata": {},
     "output_type": "display_data"
    },
    {
     "data": {
      "application/vnd.plotly.v1+json": {
       "config": {
        "linkText": "Export to plot.ly",
        "plotlyServerURL": "https://plot.ly",
        "showLink": true
       },
       "data": [
        {
         "marker": {
          "color": "rgb(158,202,225)",
          "line": {
           "color": "rgb(8,48,107)",
           "width": 1.5
          }
         },
         "opacity": 0.6,
         "orientation": "h",
         "text": [
          0.16,
          0.1,
          0.1,
          0.1,
          0.08,
          0.08,
          0.06,
          0.06,
          0.06,
          0.04,
          0.04,
          0.04,
          0.02,
          0.02,
          0.02,
          0.02,
          0,
          0,
          0,
          0,
          0,
          0,
          0,
          0,
          0,
          0,
          0
         ],
         "textposition": "outside",
         "type": "bar",
         "uid": "4a11eeea-9c0c-46cc-a3bb-9655453ba238",
         "x": [
          0.16,
          0.1,
          0.1,
          0.1,
          0.08,
          0.08,
          0.06,
          0.06,
          0.06,
          0.04,
          0.04,
          0.04,
          0.02,
          0.02,
          0.02,
          0.02,
          0,
          0,
          0,
          0,
          0,
          0,
          0,
          0,
          0,
          0,
          0
         ],
         "y": [
          "0",
          "4",
          "18",
          "13",
          "15",
          "12",
          "6",
          "23",
          "20",
          "21",
          "3",
          "10",
          "1",
          "16",
          "22",
          "25",
          "11",
          "14",
          "5",
          "17",
          "2",
          "19",
          "9",
          "8",
          "7",
          "24",
          "26"
         ]
        }
       ],
       "layout": {
        "autosize": false,
        "height": 1000,
        "width": 1000,
        "xaxis": {
         "tickfont": {
          "color": "black",
          "size": 12
         },
         "title": "Feature Importances"
        },
        "yaxis": {
         "automargin": true
        }
       }
      },
      "text/html": [
       "<div id=\"03da4ffc-2f41-452d-a6e2-e30c6ace0ba5\" style=\"height: 1000px; width: 1000px;\" class=\"plotly-graph-div\"></div><script type=\"text/javascript\">require([\"plotly\"], function(Plotly) { window.PLOTLYENV=window.PLOTLYENV || {};window.PLOTLYENV.BASE_URL=\"https://plot.ly\";Plotly.newPlot(\"03da4ffc-2f41-452d-a6e2-e30c6ace0ba5\", [{\"marker\": {\"color\": \"rgb(158,202,225)\", \"line\": {\"color\": \"rgb(8,48,107)\", \"width\": 1.5}}, \"opacity\": 0.6, \"orientation\": \"h\", \"text\": [0.16, 0.1, 0.1, 0.1, 0.08, 0.08, 0.06, 0.06, 0.06, 0.04, 0.04, 0.04, 0.02, 0.02, 0.02, 0.02, 0.0, 0.0, 0.0, 0.0, 0.0, 0.0, 0.0, 0.0, 0.0, 0.0, 0.0], \"textposition\": \"outside\", \"x\": [0.16, 0.1, 0.1, 0.1, 0.08, 0.08, 0.06, 0.06, 0.06, 0.04, 0.04, 0.04, 0.02, 0.02, 0.02, 0.02, 0.0, 0.0, 0.0, 0.0, 0.0, 0.0, 0.0, 0.0, 0.0, 0.0, 0.0], \"y\": [\"0\", \"4\", \"18\", \"13\", \"15\", \"12\", \"6\", \"23\", \"20\", \"21\", \"3\", \"10\", \"1\", \"16\", \"22\", \"25\", \"11\", \"14\", \"5\", \"17\", \"2\", \"19\", \"9\", \"8\", \"7\", \"24\", \"26\"], \"type\": \"bar\", \"uid\": \"4a11eeea-9c0c-46cc-a3bb-9655453ba238\"}], {\"autosize\": false, \"height\": 1000, \"width\": 1000, \"xaxis\": {\"tickfont\": {\"color\": \"black\", \"size\": 12}, \"title\": \"Feature Importances\"}, \"yaxis\": {\"automargin\": true}}, {\"showLink\": true, \"linkText\": \"Export to plot.ly\", \"plotlyServerURL\": \"https://plot.ly\"})});</script>"
      ],
      "text/vnd.plotly.v1+html": [
       "<div id=\"03da4ffc-2f41-452d-a6e2-e30c6ace0ba5\" style=\"height: 1000px; width: 1000px;\" class=\"plotly-graph-div\"></div><script type=\"text/javascript\">require([\"plotly\"], function(Plotly) { window.PLOTLYENV=window.PLOTLYENV || {};window.PLOTLYENV.BASE_URL=\"https://plot.ly\";Plotly.newPlot(\"03da4ffc-2f41-452d-a6e2-e30c6ace0ba5\", [{\"marker\": {\"color\": \"rgb(158,202,225)\", \"line\": {\"color\": \"rgb(8,48,107)\", \"width\": 1.5}}, \"opacity\": 0.6, \"orientation\": \"h\", \"text\": [0.16, 0.1, 0.1, 0.1, 0.08, 0.08, 0.06, 0.06, 0.06, 0.04, 0.04, 0.04, 0.02, 0.02, 0.02, 0.02, 0.0, 0.0, 0.0, 0.0, 0.0, 0.0, 0.0, 0.0, 0.0, 0.0, 0.0], \"textposition\": \"outside\", \"x\": [0.16, 0.1, 0.1, 0.1, 0.08, 0.08, 0.06, 0.06, 0.06, 0.04, 0.04, 0.04, 0.02, 0.02, 0.02, 0.02, 0.0, 0.0, 0.0, 0.0, 0.0, 0.0, 0.0, 0.0, 0.0, 0.0, 0.0], \"y\": [\"0\", \"4\", \"18\", \"13\", \"15\", \"12\", \"6\", \"23\", \"20\", \"21\", \"3\", \"10\", \"1\", \"16\", \"22\", \"25\", \"11\", \"14\", \"5\", \"17\", \"2\", \"19\", \"9\", \"8\", \"7\", \"24\", \"26\"], \"type\": \"bar\", \"uid\": \"4a11eeea-9c0c-46cc-a3bb-9655453ba238\"}], {\"autosize\": false, \"height\": 1000, \"width\": 1000, \"xaxis\": {\"tickfont\": {\"color\": \"black\", \"size\": 12}, \"title\": \"Feature Importances\"}, \"yaxis\": {\"automargin\": true}}, {\"showLink\": true, \"linkText\": \"Export to plot.ly\", \"plotlyServerURL\": \"https://plot.ly\"})});</script>"
      ]
     },
     "metadata": {},
     "output_type": "display_data"
    },
    {
     "name": "stdout",
     "output_type": "stream",
     "text": [
      "\n",
      "\n",
      "\u001b[1mGradientBoosting Classifier\u001b[0m\n",
      "Accuracy of the model for training data is: 0.953630702622\n",
      "Confusion Matrix for training data is:\n"
     ]
    },
    {
     "data": {
      "text/plain": [
       "Predicted  False  True  __all__\n",
       "Actual                         \n",
       "False      31356   536    31892\n",
       "True        1199  4326     5525\n",
       "__all__    32555  4862    37417"
      ]
     },
     "metadata": {},
     "output_type": "display_data"
    },
    {
     "name": "stdout",
     "output_type": "stream",
     "text": [
      "Accuracy of the model for test data is: 0.950930083387\n",
      "Confusion Matrix for test data is:\n"
     ]
    },
    {
     "data": {
      "text/plain": [
       "Predicted  False  True  __all__\n",
       "Actual                         \n",
       "False       7844   141     7985\n",
       "True         318  1051     1369\n",
       "__all__     8162  1192     9354"
      ]
     },
     "metadata": {},
     "output_type": "display_data"
    },
    {
     "data": {
      "application/vnd.plotly.v1+json": {
       "config": {
        "linkText": "Export to plot.ly",
        "plotlyServerURL": "https://plot.ly",
        "showLink": true
       },
       "data": [
        {
         "marker": {
          "color": "rgb(158,202,225)",
          "line": {
           "color": "rgb(8,48,107)",
           "width": 1.5
          }
         },
         "opacity": 0.6,
         "orientation": "h",
         "text": [
          0.7731,
          0.0453,
          0.0193,
          0.0165,
          0.0149,
          0.0147,
          0.0136,
          0.0136,
          0.0125,
          0.0123,
          0.0122,
          0.0113,
          0.0081,
          0.0074,
          0.0057,
          0.0045,
          0.0037,
          0.0025,
          0.0019,
          0.0017,
          0.0015,
          0.0014,
          0.0006,
          0.0005,
          0.0005,
          0.0005,
          0.0003
         ],
         "textposition": "outside",
         "type": "bar",
         "uid": "909be8e6-8d32-4308-bcae-e39a1643952f",
         "x": [
          0.7730643246862149,
          0.045295664985648396,
          0.01927397780904846,
          0.0165214934776367,
          0.014940144248941578,
          0.014706578241845519,
          0.013642782628596233,
          0.013562179528829285,
          0.012534991134448857,
          0.012262733397718563,
          0.012184895655664454,
          0.011275969202241698,
          0.00806156732686024,
          0.00743942984158595,
          0.0057382274082872975,
          0.004524686405476507,
          0.003718832166227379,
          0.002457251528254279,
          0.0018508025692424155,
          0.0016926528143495663,
          0.0015181172170726847,
          0.0014083883632732437,
          0.000551769238208255,
          0.0004989542805559598,
          0.0004836056630570152,
          0.0004752349597945978,
          0.00031474522092017116
         ],
         "y": [
          "0",
          "16",
          "22",
          "6",
          "8",
          "18",
          "12",
          "15",
          "19",
          "14",
          "4",
          "21",
          "10",
          "3",
          "20",
          "11",
          "13",
          "23",
          "17",
          "7",
          "9",
          "1",
          "25",
          "5",
          "26",
          "2",
          "24"
         ]
        }
       ],
       "layout": {
        "autosize": false,
        "height": 1000,
        "width": 1000,
        "xaxis": {
         "tickfont": {
          "color": "black",
          "size": 12
         },
         "title": "Feature Importances"
        },
        "yaxis": {
         "automargin": true
        }
       }
      },
      "text/html": [
       "<div id=\"16906404-6f1c-4af1-9308-16dace6a1c19\" style=\"height: 1000px; width: 1000px;\" class=\"plotly-graph-div\"></div><script type=\"text/javascript\">require([\"plotly\"], function(Plotly) { window.PLOTLYENV=window.PLOTLYENV || {};window.PLOTLYENV.BASE_URL=\"https://plot.ly\";Plotly.newPlot(\"16906404-6f1c-4af1-9308-16dace6a1c19\", [{\"marker\": {\"color\": \"rgb(158,202,225)\", \"line\": {\"color\": \"rgb(8,48,107)\", \"width\": 1.5}}, \"opacity\": 0.6, \"orientation\": \"h\", \"text\": [0.7731, 0.0453, 0.0193, 0.0165, 0.0149, 0.0147, 0.0136, 0.0136, 0.0125, 0.0123, 0.0122, 0.0113, 0.0081, 0.0074, 0.0057, 0.0045, 0.0037, 0.0025, 0.0019, 0.0017, 0.0015, 0.0014, 0.0006, 0.0005, 0.0005, 0.0005, 0.0003], \"textposition\": \"outside\", \"x\": [0.7730643246862149, 0.045295664985648396, 0.01927397780904846, 0.0165214934776367, 0.014940144248941578, 0.014706578241845519, 0.013642782628596233, 0.013562179528829285, 0.012534991134448857, 0.012262733397718563, 0.012184895655664454, 0.011275969202241698, 0.00806156732686024, 0.00743942984158595, 0.0057382274082872975, 0.004524686405476507, 0.003718832166227379, 0.002457251528254279, 0.0018508025692424155, 0.0016926528143495663, 0.0015181172170726847, 0.0014083883632732437, 0.000551769238208255, 0.0004989542805559598, 0.0004836056630570152, 0.0004752349597945978, 0.00031474522092017116], \"y\": [\"0\", \"16\", \"22\", \"6\", \"8\", \"18\", \"12\", \"15\", \"19\", \"14\", \"4\", \"21\", \"10\", \"3\", \"20\", \"11\", \"13\", \"23\", \"17\", \"7\", \"9\", \"1\", \"25\", \"5\", \"26\", \"2\", \"24\"], \"type\": \"bar\", \"uid\": \"909be8e6-8d32-4308-bcae-e39a1643952f\"}], {\"autosize\": false, \"height\": 1000, \"width\": 1000, \"xaxis\": {\"tickfont\": {\"color\": \"black\", \"size\": 12}, \"title\": \"Feature Importances\"}, \"yaxis\": {\"automargin\": true}}, {\"showLink\": true, \"linkText\": \"Export to plot.ly\", \"plotlyServerURL\": \"https://plot.ly\"})});</script>"
      ],
      "text/vnd.plotly.v1+html": [
       "<div id=\"16906404-6f1c-4af1-9308-16dace6a1c19\" style=\"height: 1000px; width: 1000px;\" class=\"plotly-graph-div\"></div><script type=\"text/javascript\">require([\"plotly\"], function(Plotly) { window.PLOTLYENV=window.PLOTLYENV || {};window.PLOTLYENV.BASE_URL=\"https://plot.ly\";Plotly.newPlot(\"16906404-6f1c-4af1-9308-16dace6a1c19\", [{\"marker\": {\"color\": \"rgb(158,202,225)\", \"line\": {\"color\": \"rgb(8,48,107)\", \"width\": 1.5}}, \"opacity\": 0.6, \"orientation\": \"h\", \"text\": [0.7731, 0.0453, 0.0193, 0.0165, 0.0149, 0.0147, 0.0136, 0.0136, 0.0125, 0.0123, 0.0122, 0.0113, 0.0081, 0.0074, 0.0057, 0.0045, 0.0037, 0.0025, 0.0019, 0.0017, 0.0015, 0.0014, 0.0006, 0.0005, 0.0005, 0.0005, 0.0003], \"textposition\": \"outside\", \"x\": [0.7730643246862149, 0.045295664985648396, 0.01927397780904846, 0.0165214934776367, 0.014940144248941578, 0.014706578241845519, 0.013642782628596233, 0.013562179528829285, 0.012534991134448857, 0.012262733397718563, 0.012184895655664454, 0.011275969202241698, 0.00806156732686024, 0.00743942984158595, 0.0057382274082872975, 0.004524686405476507, 0.003718832166227379, 0.002457251528254279, 0.0018508025692424155, 0.0016926528143495663, 0.0015181172170726847, 0.0014083883632732437, 0.000551769238208255, 0.0004989542805559598, 0.0004836056630570152, 0.0004752349597945978, 0.00031474522092017116], \"y\": [\"0\", \"16\", \"22\", \"6\", \"8\", \"18\", \"12\", \"15\", \"19\", \"14\", \"4\", \"21\", \"10\", \"3\", \"20\", \"11\", \"13\", \"23\", \"17\", \"7\", \"9\", \"1\", \"25\", \"5\", \"26\", \"2\", \"24\"], \"type\": \"bar\", \"uid\": \"909be8e6-8d32-4308-bcae-e39a1643952f\"}], {\"autosize\": false, \"height\": 1000, \"width\": 1000, \"xaxis\": {\"tickfont\": {\"color\": \"black\", \"size\": 12}, \"title\": \"Feature Importances\"}, \"yaxis\": {\"automargin\": true}}, {\"showLink\": true, \"linkText\": \"Export to plot.ly\", \"plotlyServerURL\": \"https://plot.ly\"})});</script>"
      ]
     },
     "metadata": {},
     "output_type": "display_data"
    },
    {
     "name": "stdout",
     "output_type": "stream",
     "text": [
      "\n",
      "\n",
      "\u001b[1mExtraTree Classifier\u001b[0m\n",
      "Accuracy of the model for training data is: 0.964615014566\n",
      "Confusion Matrix for training data is:\n"
     ]
    },
    {
     "data": {
      "text/plain": [
       "Predicted  False  True  __all__\n",
       "Actual                         \n",
       "False      31593   299    31892\n",
       "True        1025  4500     5525\n",
       "__all__    32618  4799    37417"
      ]
     },
     "metadata": {},
     "output_type": "display_data"
    },
    {
     "name": "stdout",
     "output_type": "stream",
     "text": [
      "Accuracy of the model for test data is: 0.950716271114\n",
      "Confusion Matrix for test data is:\n"
     ]
    },
    {
     "data": {
      "text/plain": [
       "Predicted  False  True  __all__\n",
       "Actual                         \n",
       "False       7843   142     7985\n",
       "True         319  1050     1369\n",
       "__all__     8162  1192     9354"
      ]
     },
     "metadata": {},
     "output_type": "display_data"
    },
    {
     "data": {
      "application/vnd.plotly.v1+json": {
       "config": {
        "linkText": "Export to plot.ly",
        "plotlyServerURL": "https://plot.ly",
        "showLink": true
       },
       "data": [
        {
         "marker": {
          "color": "rgb(158,202,225)",
          "line": {
           "color": "rgb(8,48,107)",
           "width": 1.5
          }
         },
         "opacity": 0.6,
         "orientation": "h",
         "text": [
          0.1419,
          0.0682,
          0.0635,
          0.0582,
          0.0565,
          0.0539,
          0.0516,
          0.0499,
          0.0433,
          0.0382,
          0.0291,
          0.0284,
          0.0281,
          0.0259,
          0.0248,
          0.0248,
          0.0243,
          0.0242,
          0.0238,
          0.022,
          0.0211,
          0.0183,
          0.0181,
          0.0173,
          0.0157,
          0.015,
          0.0138
         ],
         "textposition": "outside",
         "type": "bar",
         "uid": "8d33b56f-0a5d-4eaf-87d7-d4444f1d5e83",
         "x": [
          0.14188479831992237,
          0.06820455777428289,
          0.06353567738076141,
          0.05823128309123797,
          0.05651267483467666,
          0.053859027164690876,
          0.05162566455892355,
          0.04985967593422242,
          0.04328803855589469,
          0.03816346497890914,
          0.029134026425531166,
          0.028426286910174976,
          0.028083633513225313,
          0.025919130012996745,
          0.024820953171459416,
          0.02479571118691634,
          0.024286298612221334,
          0.0242472295530153,
          0.023755192572386306,
          0.021976699883933914,
          0.02108911083879022,
          0.018319187565593024,
          0.018118953646893077,
          0.01732949507388213,
          0.015728367704071013,
          0.015033811709966583,
          0.013771049025421112
         ],
         "y": [
          "0",
          "10",
          "13",
          "3",
          "23",
          "1",
          "6",
          "14",
          "12",
          "16",
          "17",
          "4",
          "22",
          "25",
          "2",
          "11",
          "18",
          "19",
          "15",
          "24",
          "20",
          "26",
          "8",
          "21",
          "9",
          "5",
          "7"
         ]
        }
       ],
       "layout": {
        "autosize": false,
        "height": 1000,
        "width": 1000,
        "xaxis": {
         "tickfont": {
          "color": "black",
          "size": 12
         },
         "title": "Feature Importances"
        },
        "yaxis": {
         "automargin": true
        }
       }
      },
      "text/html": [
       "<div id=\"1cdbad54-c6d8-43c7-9b18-844bf4676ce0\" style=\"height: 1000px; width: 1000px;\" class=\"plotly-graph-div\"></div><script type=\"text/javascript\">require([\"plotly\"], function(Plotly) { window.PLOTLYENV=window.PLOTLYENV || {};window.PLOTLYENV.BASE_URL=\"https://plot.ly\";Plotly.newPlot(\"1cdbad54-c6d8-43c7-9b18-844bf4676ce0\", [{\"marker\": {\"color\": \"rgb(158,202,225)\", \"line\": {\"color\": \"rgb(8,48,107)\", \"width\": 1.5}}, \"opacity\": 0.6, \"orientation\": \"h\", \"text\": [0.1419, 0.0682, 0.0635, 0.0582, 0.0565, 0.0539, 0.0516, 0.0499, 0.0433, 0.0382, 0.0291, 0.0284, 0.0281, 0.0259, 0.0248, 0.0248, 0.0243, 0.0242, 0.0238, 0.022, 0.0211, 0.0183, 0.0181, 0.0173, 0.0157, 0.015, 0.0138], \"textposition\": \"outside\", \"x\": [0.14188479831992237, 0.06820455777428289, 0.06353567738076141, 0.05823128309123797, 0.05651267483467666, 0.053859027164690876, 0.05162566455892355, 0.04985967593422242, 0.04328803855589469, 0.03816346497890914, 0.029134026425531166, 0.028426286910174976, 0.028083633513225313, 0.025919130012996745, 0.024820953171459416, 0.02479571118691634, 0.024286298612221334, 0.0242472295530153, 0.023755192572386306, 0.021976699883933914, 0.02108911083879022, 0.018319187565593024, 0.018118953646893077, 0.01732949507388213, 0.015728367704071013, 0.015033811709966583, 0.013771049025421112], \"y\": [\"0\", \"10\", \"13\", \"3\", \"23\", \"1\", \"6\", \"14\", \"12\", \"16\", \"17\", \"4\", \"22\", \"25\", \"2\", \"11\", \"18\", \"19\", \"15\", \"24\", \"20\", \"26\", \"8\", \"21\", \"9\", \"5\", \"7\"], \"type\": \"bar\", \"uid\": \"8d33b56f-0a5d-4eaf-87d7-d4444f1d5e83\"}], {\"autosize\": false, \"height\": 1000, \"width\": 1000, \"xaxis\": {\"tickfont\": {\"color\": \"black\", \"size\": 12}, \"title\": \"Feature Importances\"}, \"yaxis\": {\"automargin\": true}}, {\"showLink\": true, \"linkText\": \"Export to plot.ly\", \"plotlyServerURL\": \"https://plot.ly\"})});</script>"
      ],
      "text/vnd.plotly.v1+html": [
       "<div id=\"1cdbad54-c6d8-43c7-9b18-844bf4676ce0\" style=\"height: 1000px; width: 1000px;\" class=\"plotly-graph-div\"></div><script type=\"text/javascript\">require([\"plotly\"], function(Plotly) { window.PLOTLYENV=window.PLOTLYENV || {};window.PLOTLYENV.BASE_URL=\"https://plot.ly\";Plotly.newPlot(\"1cdbad54-c6d8-43c7-9b18-844bf4676ce0\", [{\"marker\": {\"color\": \"rgb(158,202,225)\", \"line\": {\"color\": \"rgb(8,48,107)\", \"width\": 1.5}}, \"opacity\": 0.6, \"orientation\": \"h\", \"text\": [0.1419, 0.0682, 0.0635, 0.0582, 0.0565, 0.0539, 0.0516, 0.0499, 0.0433, 0.0382, 0.0291, 0.0284, 0.0281, 0.0259, 0.0248, 0.0248, 0.0243, 0.0242, 0.0238, 0.022, 0.0211, 0.0183, 0.0181, 0.0173, 0.0157, 0.015, 0.0138], \"textposition\": \"outside\", \"x\": [0.14188479831992237, 0.06820455777428289, 0.06353567738076141, 0.05823128309123797, 0.05651267483467666, 0.053859027164690876, 0.05162566455892355, 0.04985967593422242, 0.04328803855589469, 0.03816346497890914, 0.029134026425531166, 0.028426286910174976, 0.028083633513225313, 0.025919130012996745, 0.024820953171459416, 0.02479571118691634, 0.024286298612221334, 0.0242472295530153, 0.023755192572386306, 0.021976699883933914, 0.02108911083879022, 0.018319187565593024, 0.018118953646893077, 0.01732949507388213, 0.015728367704071013, 0.015033811709966583, 0.013771049025421112], \"y\": [\"0\", \"10\", \"13\", \"3\", \"23\", \"1\", \"6\", \"14\", \"12\", \"16\", \"17\", \"4\", \"22\", \"25\", \"2\", \"11\", \"18\", \"19\", \"15\", \"24\", \"20\", \"26\", \"8\", \"21\", \"9\", \"5\", \"7\"], \"type\": \"bar\", \"uid\": \"8d33b56f-0a5d-4eaf-87d7-d4444f1d5e83\"}], {\"autosize\": false, \"height\": 1000, \"width\": 1000, \"xaxis\": {\"tickfont\": {\"color\": \"black\", \"size\": 12}, \"title\": \"Feature Importances\"}, \"yaxis\": {\"automargin\": true}}, {\"showLink\": true, \"linkText\": \"Export to plot.ly\", \"plotlyServerURL\": \"https://plot.ly\"})});</script>"
      ]
     },
     "metadata": {},
     "output_type": "display_data"
    },
    {
     "name": "stdout",
     "output_type": "stream",
     "text": [
      "\n",
      "\n",
      "\u001b[1mBagging Classifier\u001b[0m\n",
      "Accuracy of the model for training data is: 0.96392014325\n",
      "Confusion Matrix for training data is:\n"
     ]
    },
    {
     "data": {
      "text/plain": [
       "Predicted  False  True  __all__\n",
       "Actual                         \n",
       "False      31538   354    31892\n",
       "True         996  4529     5525\n",
       "__all__    32534  4883    37417"
      ]
     },
     "metadata": {},
     "output_type": "display_data"
    },
    {
     "name": "stdout",
     "output_type": "stream",
     "text": [
      "Accuracy of the model for test data is: 0.951785332478\n",
      "Confusion Matrix for test data is:\n"
     ]
    },
    {
     "data": {
      "text/plain": [
       "Predicted  False  True  __all__\n",
       "Actual                         \n",
       "False       7837   148     7985\n",
       "True         303  1066     1369\n",
       "__all__     8140  1214     9354"
      ]
     },
     "metadata": {},
     "output_type": "display_data"
    },
    {
     "name": "stdout",
     "output_type": "stream",
     "text": [
      "\n",
      "\n",
      "\u001b[1mNeural Network-1\u001b[0m\n",
      "The accuracy of the model on training data is: 0.958868963309\n"
     ]
    },
    {
     "data": {
      "text/plain": [
       "Predicted  False  True  __all__\n",
       "Actual                         \n",
       "False      31505   387    31892\n",
       "True        1152  4373     5525\n",
       "__all__    32657  4760    37417"
      ]
     },
     "metadata": {},
     "output_type": "display_data"
    },
    {
     "name": "stdout",
     "output_type": "stream",
     "text": [
      "The accuracy of the model on test data is: 0.953709642934\n"
     ]
    },
    {
     "data": {
      "text/plain": [
       "Predicted  False  True  __all__\n",
       "Actual                         \n",
       "False       7864   121     7985\n",
       "True         312  1057     1369\n",
       "__all__     8176  1178     9354"
      ]
     },
     "metadata": {},
     "output_type": "display_data"
    },
    {
     "name": "stdout",
     "output_type": "stream",
     "text": [
      "\n",
      "\n"
     ]
    }
   ],
   "source": [
    "feat_imp=[None]*4\n",
    "j=0\n",
    "for i in range(0,8):\n",
    "    if i>=2 and i<=5:\n",
    "        model,cm_train,cm_test,acc_train,acc_test,roc_auc,feat_imp[j],mcc=f[i](X_train,Y_train,X_test,Y_test,np.arange(0,27).astype(str))\n",
    "        j=j+1\n",
    "    else:\n",
    "        model,cm_train,cm_test,acc_train,acc_test,roc_auc,mcc=f[i](X_train,Y_train,X_test,Y_test)\n",
    "    table_80_70_train.loc[i]=   ([acc_train,cm_train.TP,cm_train.TN,cm_train.FP,cm_train.FN,cm_train.FPR,cm_train.FNR])\n",
    "    table_80_70_test.loc[i] =   ([acc_test ,cm_test.TP, cm_test.TN, cm_test.FP, cm_test.FN, cm_test.FPR, cm_test.FNR,roc_auc,mcc])\n",
    "    print(\"\\n\")"
   ]
  },
  {
   "cell_type": "markdown",
   "metadata": {},
   "source": [
    "### <a id='5.A' style=\"text-decoration : none; color : #000000;\"> A. Results</a>"
   ]
  },
  {
   "cell_type": "code",
   "execution_count": 62,
   "metadata": {},
   "outputs": [
    {
     "data": {
      "application/vnd.plotly.v1+json": {
       "config": {
        "linkText": "Export to plot.ly",
        "plotlyServerURL": "https://plot.ly",
        "showLink": true
       },
       "data": [
        {
         "mode": "lines",
         "name": "KNN_model",
         "type": "scatter",
         "uid": "5d9ee33e-2c33-4052-b78f-5d6bb0c6e688",
         "x": [
          "accuracy",
          "FPR",
          "FNR",
          "auc"
         ],
         "y": [
          0.9519991447509087,
          0.01878522229179712,
          0.21840759678597516,
          0.8814035904611137
         ]
        },
        {
         "mode": "lines+markers",
         "name": "Logistic Regression",
         "type": "scatter",
         "uid": "149378d6-40fe-42fa-aa82-1df0f7d38887",
         "x": [
          "accuracy",
          "FPR",
          "FNR",
          "auc"
         ],
         "y": [
          0.9357494120162497,
          0.01828428303068253,
          0.3323593864134405,
          0.8246781652779386
         ]
        },
        {
         "marker": {
          "symbol": "x"
         },
         "mode": "lines+markers",
         "name": "Random Forest",
         "type": "scatter",
         "uid": "c7a239cc-48f0-49a4-9e24-bd55fdfc7ea1",
         "x": [
          "accuracy",
          "FPR",
          "FNR",
          "auc"
         ],
         "y": [
          0.9542441736155656,
          0.01828428303068253,
          0.20598977355734113,
          0.8878629717059882
         ]
        },
        {
         "mode": "lines",
         "name": "Ada Boost",
         "type": "scatter",
         "uid": "3fbcce2c-b8e3-429f-889e-a1c481ed7243",
         "x": [
          "accuracy",
          "FPR",
          "FNR",
          "auc"
         ],
         "y": [
          0.9410947188368612,
          0.019912335629304948,
          0.28634039444850257,
          0.8468736349610962
         ]
        },
        {
         "mode": "lines+markers",
         "name": "GradientBoosting",
         "type": "scatter",
         "uid": "3927dc60-0a78-4fb8-b03d-d35bf1f29a84",
         "x": [
          "accuracy",
          "FPR",
          "FNR",
          "auc"
         ],
         "y": [
          0.9509300833867864,
          0.017658108954289292,
          0.2322863403944485,
          0.8750277753256311
         ]
        },
        {
         "marker": {
          "symbol": "x"
         },
         "mode": "lines+markers",
         "name": "ExtraTree Classifier",
         "type": "scatter",
         "uid": "2bd3daca-38eb-4e1e-8f7e-de397c85709a",
         "x": [
          "accuracy",
          "FPR",
          "FNR",
          "auc"
         ],
         "y": [
          0.950716271113962,
          0.01778334376956794,
          0.23301680058436816,
          0.8745999278230319
         ]
        },
        {
         "marker": {
          "symbol": "x"
         },
         "mode": "lines+markers",
         "name": "Bagging",
         "type": "scatter",
         "uid": "ccca8d2a-a02f-40cd-8f85-1e793328735b",
         "x": [
          "accuracy",
          "FPR",
          "FNR",
          "auc"
         ],
         "y": [
          0.9517853324780843,
          0.018534752661239825,
          0.22132943754565376,
          0.8800679048965532
         ]
        },
        {
         "marker": {
          "symbol": "x"
         },
         "mode": "lines+markers",
         "name": "Neural Network",
         "type": "scatter",
         "uid": "ade66338-78a4-4569-8b5d-c79f631dc88a",
         "x": [
          "accuracy",
          "FPR",
          "FNR",
          "auc"
         ],
         "y": [
          0.9537096429335044,
          0.015153412648716343,
          0.2279035792549306,
          0.8800679048965532
         ]
        }
       ],
       "layout": {
        "title": "Result comparision for Features selected in Section 1",
        "yaxis": {
         "dtick": 0.05,
         "tick0": 0
        }
       }
      },
      "text/html": [
       "<div id=\"da14bbea-8f4c-4be0-a155-835ec8a7d0a5\" style=\"height: 525px; width: 100%;\" class=\"plotly-graph-div\"></div><script type=\"text/javascript\">require([\"plotly\"], function(Plotly) { window.PLOTLYENV=window.PLOTLYENV || {};window.PLOTLYENV.BASE_URL=\"https://plot.ly\";Plotly.newPlot(\"da14bbea-8f4c-4be0-a155-835ec8a7d0a5\", [{\"mode\": \"lines\", \"name\": \"KNN_model\", \"x\": [\"accuracy\", \"FPR\", \"FNR\", \"auc\"], \"y\": [0.9519991447509087, 0.01878522229179712, 0.21840759678597516, 0.8814035904611137], \"type\": \"scatter\", \"uid\": \"5d9ee33e-2c33-4052-b78f-5d6bb0c6e688\"}, {\"mode\": \"lines+markers\", \"name\": \"Logistic Regression\", \"x\": [\"accuracy\", \"FPR\", \"FNR\", \"auc\"], \"y\": [0.9357494120162497, 0.01828428303068253, 0.3323593864134405, 0.8246781652779386], \"type\": \"scatter\", \"uid\": \"149378d6-40fe-42fa-aa82-1df0f7d38887\"}, {\"marker\": {\"symbol\": \"x\"}, \"mode\": \"lines+markers\", \"name\": \"Random Forest\", \"x\": [\"accuracy\", \"FPR\", \"FNR\", \"auc\"], \"y\": [0.9542441736155656, 0.01828428303068253, 0.20598977355734113, 0.8878629717059882], \"type\": \"scatter\", \"uid\": \"c7a239cc-48f0-49a4-9e24-bd55fdfc7ea1\"}, {\"mode\": \"lines\", \"name\": \"Ada Boost\", \"x\": [\"accuracy\", \"FPR\", \"FNR\", \"auc\"], \"y\": [0.9410947188368612, 0.019912335629304948, 0.28634039444850257, 0.8468736349610962], \"type\": \"scatter\", \"uid\": \"3fbcce2c-b8e3-429f-889e-a1c481ed7243\"}, {\"mode\": \"lines+markers\", \"name\": \"GradientBoosting\", \"x\": [\"accuracy\", \"FPR\", \"FNR\", \"auc\"], \"y\": [0.9509300833867864, 0.017658108954289292, 0.2322863403944485, 0.8750277753256311], \"type\": \"scatter\", \"uid\": \"3927dc60-0a78-4fb8-b03d-d35bf1f29a84\"}, {\"marker\": {\"symbol\": \"x\"}, \"mode\": \"lines+markers\", \"name\": \"ExtraTree Classifier\", \"x\": [\"accuracy\", \"FPR\", \"FNR\", \"auc\"], \"y\": [0.950716271113962, 0.01778334376956794, 0.23301680058436816, 0.8745999278230319], \"type\": \"scatter\", \"uid\": \"2bd3daca-38eb-4e1e-8f7e-de397c85709a\"}, {\"marker\": {\"symbol\": \"x\"}, \"mode\": \"lines+markers\", \"name\": \"Bagging\", \"x\": [\"accuracy\", \"FPR\", \"FNR\", \"auc\"], \"y\": [0.9517853324780843, 0.018534752661239825, 0.22132943754565376, 0.8800679048965532], \"type\": \"scatter\", \"uid\": \"ccca8d2a-a02f-40cd-8f85-1e793328735b\"}, {\"marker\": {\"symbol\": \"x\"}, \"mode\": \"lines+markers\", \"name\": \"Neural Network\", \"x\": [\"accuracy\", \"FPR\", \"FNR\", \"auc\"], \"y\": [0.9537096429335044, 0.015153412648716343, 0.2279035792549306, 0.8800679048965532], \"type\": \"scatter\", \"uid\": \"ade66338-78a4-4569-8b5d-c79f631dc88a\"}], {\"title\": \"Result comparision for Features selected in Section 1\", \"yaxis\": {\"dtick\": 0.05, \"tick0\": 0}}, {\"showLink\": true, \"linkText\": \"Export to plot.ly\", \"plotlyServerURL\": \"https://plot.ly\"})});</script><script type=\"text/javascript\">window.addEventListener(\"resize\", function(){window._Plotly.Plots.resize(document.getElementById(\"da14bbea-8f4c-4be0-a155-835ec8a7d0a5\"));});</script>"
      ],
      "text/vnd.plotly.v1+html": [
       "<div id=\"da14bbea-8f4c-4be0-a155-835ec8a7d0a5\" style=\"height: 525px; width: 100%;\" class=\"plotly-graph-div\"></div><script type=\"text/javascript\">require([\"plotly\"], function(Plotly) { window.PLOTLYENV=window.PLOTLYENV || {};window.PLOTLYENV.BASE_URL=\"https://plot.ly\";Plotly.newPlot(\"da14bbea-8f4c-4be0-a155-835ec8a7d0a5\", [{\"mode\": \"lines\", \"name\": \"KNN_model\", \"x\": [\"accuracy\", \"FPR\", \"FNR\", \"auc\"], \"y\": [0.9519991447509087, 0.01878522229179712, 0.21840759678597516, 0.8814035904611137], \"type\": \"scatter\", \"uid\": \"5d9ee33e-2c33-4052-b78f-5d6bb0c6e688\"}, {\"mode\": \"lines+markers\", \"name\": \"Logistic Regression\", \"x\": [\"accuracy\", \"FPR\", \"FNR\", \"auc\"], \"y\": [0.9357494120162497, 0.01828428303068253, 0.3323593864134405, 0.8246781652779386], \"type\": \"scatter\", \"uid\": \"149378d6-40fe-42fa-aa82-1df0f7d38887\"}, {\"marker\": {\"symbol\": \"x\"}, \"mode\": \"lines+markers\", \"name\": \"Random Forest\", \"x\": [\"accuracy\", \"FPR\", \"FNR\", \"auc\"], \"y\": [0.9542441736155656, 0.01828428303068253, 0.20598977355734113, 0.8878629717059882], \"type\": \"scatter\", \"uid\": \"c7a239cc-48f0-49a4-9e24-bd55fdfc7ea1\"}, {\"mode\": \"lines\", \"name\": \"Ada Boost\", \"x\": [\"accuracy\", \"FPR\", \"FNR\", \"auc\"], \"y\": [0.9410947188368612, 0.019912335629304948, 0.28634039444850257, 0.8468736349610962], \"type\": \"scatter\", \"uid\": \"3fbcce2c-b8e3-429f-889e-a1c481ed7243\"}, {\"mode\": \"lines+markers\", \"name\": \"GradientBoosting\", \"x\": [\"accuracy\", \"FPR\", \"FNR\", \"auc\"], \"y\": [0.9509300833867864, 0.017658108954289292, 0.2322863403944485, 0.8750277753256311], \"type\": \"scatter\", \"uid\": \"3927dc60-0a78-4fb8-b03d-d35bf1f29a84\"}, {\"marker\": {\"symbol\": \"x\"}, \"mode\": \"lines+markers\", \"name\": \"ExtraTree Classifier\", \"x\": [\"accuracy\", \"FPR\", \"FNR\", \"auc\"], \"y\": [0.950716271113962, 0.01778334376956794, 0.23301680058436816, 0.8745999278230319], \"type\": \"scatter\", \"uid\": \"2bd3daca-38eb-4e1e-8f7e-de397c85709a\"}, {\"marker\": {\"symbol\": \"x\"}, \"mode\": \"lines+markers\", \"name\": \"Bagging\", \"x\": [\"accuracy\", \"FPR\", \"FNR\", \"auc\"], \"y\": [0.9517853324780843, 0.018534752661239825, 0.22132943754565376, 0.8800679048965532], \"type\": \"scatter\", \"uid\": \"ccca8d2a-a02f-40cd-8f85-1e793328735b\"}, {\"marker\": {\"symbol\": \"x\"}, \"mode\": \"lines+markers\", \"name\": \"Neural Network\", \"x\": [\"accuracy\", \"FPR\", \"FNR\", \"auc\"], \"y\": [0.9537096429335044, 0.015153412648716343, 0.2279035792549306, 0.8800679048965532], \"type\": \"scatter\", \"uid\": \"ade66338-78a4-4569-8b5d-c79f631dc88a\"}], {\"title\": \"Result comparision for Features selected in Section 1\", \"yaxis\": {\"dtick\": 0.05, \"tick0\": 0}}, {\"showLink\": true, \"linkText\": \"Export to plot.ly\", \"plotlyServerURL\": \"https://plot.ly\"})});</script><script type=\"text/javascript\">window.addEventListener(\"resize\", function(){window._Plotly.Plots.resize(document.getElementById(\"da14bbea-8f4c-4be0-a155-835ec8a7d0a5\"));});</script>"
      ]
     },
     "metadata": {},
     "output_type": "display_data"
    }
   ],
   "source": [
    "trace0 = go.Scatter(x=table_80_70_test.iloc[0].index.values[[0,5,6,7]],\n",
    "                    y=table_80_70_test.iloc[0].values[[0,5,6,7]],\n",
    "                    mode = 'lines',\n",
    "                    name = 'KNN_model')\n",
    "\n",
    "trace1 = go.Scatter(x=table_80_70_test.iloc[1].index.values[[0,5,6,7]],\n",
    "                    y=table_80_70_test.iloc[1].values[[0,5,6,7]],\n",
    "                    mode = 'lines+markers',\n",
    "                    name = 'Logistic Regression')\n",
    "\n",
    "trace2 = go.Scatter(x=table_80_70_test.iloc[2].index.values[[0,5,6,7]],\n",
    "                    y=table_80_70_test.iloc[2].values[[0,5,6,7]],\n",
    "                    mode = 'lines+markers',marker=dict(symbol='x'),\n",
    "                    name = 'Random Forest')\n",
    "\n",
    "\n",
    "trace3 = go.Scatter(x=table_80_70_test.iloc[3].index.values[[0,5,6,7]],\n",
    "                    y=table_80_70_test.iloc[3].values[[0,5,6,7]],\n",
    "                    mode = 'lines',\n",
    "                    name = 'Ada Boost')\n",
    "\n",
    "trace4 = go.Scatter(x=table_80_70_test.iloc[4].index.values[[0,5,6,7]],\n",
    "                    y=table_80_70_test.iloc[4].values[[0,5,6,7]],\n",
    "                    mode = 'lines+markers',\n",
    "                    name = 'GradientBoosting')\n",
    "\n",
    "trace5 = go.Scatter(x=table_80_70_test.iloc[5].index.values[[0,5,6,7]],\n",
    "                    y=table_80_70_test.iloc[5].values[[0,5,6,7]],\n",
    "                    mode = 'lines+markers',marker=dict(symbol='x'),\n",
    "                    name = 'ExtraTree Classifier')\n",
    "\n",
    "trace6 = go.Scatter(x=table_80_70_test.iloc[6].index.values[[0,5,6,7]],\n",
    "                    y=table_80_70_test.iloc[6].values[[0,5,6,7]],\n",
    "                    mode = 'lines+markers',marker=dict(symbol='x'),\n",
    "                    name = 'Bagging')\n",
    "\n",
    "trace7 = go.Scatter(x=table_80_70_test.iloc[7].index.values[[0,5,6,7]],\n",
    "                    y=table_80_70_test.iloc[7].values[[0,5,6,7]],\n",
    "                    mode = 'lines+markers',marker=dict(symbol='x'),\n",
    "                    name = 'Neural Network')\n",
    "\n",
    "\n",
    "\n",
    "data = [trace0, trace1, trace2, trace3, trace4, trace5, trace6, trace7]\n",
    "layout = go.Layout(yaxis=dict(tick0=0,dtick=0.05),title='Result comparision for Features selected in Section 1')\n",
    "fig = go.Figure(data=data, layout=layout)\n",
    "\n",
    "iplot(fig, filename='Result')"
   ]
  },
  {
   "cell_type": "code",
   "execution_count": 63,
   "metadata": {},
   "outputs": [
    {
     "name": "stdout",
     "output_type": "stream",
     "text": [
      "Training Results\n"
     ]
    },
    {
     "data": {
      "text/html": [
       "<div>\n",
       "<style scoped>\n",
       "    .dataframe tbody tr th:only-of-type {\n",
       "        vertical-align: middle;\n",
       "    }\n",
       "\n",
       "    .dataframe tbody tr th {\n",
       "        vertical-align: top;\n",
       "    }\n",
       "\n",
       "    .dataframe thead th {\n",
       "        text-align: right;\n",
       "    }\n",
       "</style>\n",
       "<table border=\"1\" class=\"dataframe\">\n",
       "  <thead>\n",
       "    <tr style=\"text-align: right;\">\n",
       "      <th></th>\n",
       "      <th>accuracy</th>\n",
       "      <th>TP</th>\n",
       "      <th>TN</th>\n",
       "      <th>FP</th>\n",
       "      <th>FN</th>\n",
       "      <th>FPR</th>\n",
       "      <th>FNR</th>\n",
       "    </tr>\n",
       "    <tr>\n",
       "      <th>index</th>\n",
       "      <th></th>\n",
       "      <th></th>\n",
       "      <th></th>\n",
       "      <th></th>\n",
       "      <th></th>\n",
       "      <th></th>\n",
       "      <th></th>\n",
       "    </tr>\n",
       "  </thead>\n",
       "  <tbody>\n",
       "    <tr>\n",
       "      <th>KNeighborsClassifier</th>\n",
       "      <td>0.957025</td>\n",
       "      <td>4405.0</td>\n",
       "      <td>31404.0</td>\n",
       "      <td>488.0</td>\n",
       "      <td>1120.0</td>\n",
       "      <td>0.015302</td>\n",
       "      <td>0.202715</td>\n",
       "    </tr>\n",
       "    <tr>\n",
       "      <th>LogisticRegression</th>\n",
       "      <td>0.938076</td>\n",
       "      <td>3767.0</td>\n",
       "      <td>31333.0</td>\n",
       "      <td>559.0</td>\n",
       "      <td>1758.0</td>\n",
       "      <td>0.017528</td>\n",
       "      <td>0.318190</td>\n",
       "    </tr>\n",
       "    <tr>\n",
       "      <th>RandomForestClassifier</th>\n",
       "      <td>0.964000</td>\n",
       "      <td>4559.0</td>\n",
       "      <td>31511.0</td>\n",
       "      <td>381.0</td>\n",
       "      <td>966.0</td>\n",
       "      <td>0.011947</td>\n",
       "      <td>0.174842</td>\n",
       "    </tr>\n",
       "    <tr>\n",
       "      <th>AdaBoostClassifier</th>\n",
       "      <td>0.942807</td>\n",
       "      <td>3964.0</td>\n",
       "      <td>31313.0</td>\n",
       "      <td>579.0</td>\n",
       "      <td>1561.0</td>\n",
       "      <td>0.018155</td>\n",
       "      <td>0.282534</td>\n",
       "    </tr>\n",
       "    <tr>\n",
       "      <th>GradientBoostingClassifier</th>\n",
       "      <td>0.953631</td>\n",
       "      <td>4326.0</td>\n",
       "      <td>31356.0</td>\n",
       "      <td>536.0</td>\n",
       "      <td>1199.0</td>\n",
       "      <td>0.016807</td>\n",
       "      <td>0.217014</td>\n",
       "    </tr>\n",
       "    <tr>\n",
       "      <th>ExtraTreeClassifier</th>\n",
       "      <td>0.964615</td>\n",
       "      <td>4500.0</td>\n",
       "      <td>31593.0</td>\n",
       "      <td>299.0</td>\n",
       "      <td>1025.0</td>\n",
       "      <td>0.009375</td>\n",
       "      <td>0.185520</td>\n",
       "    </tr>\n",
       "    <tr>\n",
       "      <th>BaggingClassifier</th>\n",
       "      <td>0.963920</td>\n",
       "      <td>4529.0</td>\n",
       "      <td>31538.0</td>\n",
       "      <td>354.0</td>\n",
       "      <td>996.0</td>\n",
       "      <td>0.011100</td>\n",
       "      <td>0.180271</td>\n",
       "    </tr>\n",
       "    <tr>\n",
       "      <th>Neural Network-1</th>\n",
       "      <td>0.958869</td>\n",
       "      <td>4373.0</td>\n",
       "      <td>31505.0</td>\n",
       "      <td>387.0</td>\n",
       "      <td>1152.0</td>\n",
       "      <td>0.012135</td>\n",
       "      <td>0.208507</td>\n",
       "    </tr>\n",
       "  </tbody>\n",
       "</table>\n",
       "</div>"
      ],
      "text/plain": [
       "                            accuracy      TP       TN     FP      FN  \\\n",
       "index                                                                  \n",
       "KNeighborsClassifier        0.957025  4405.0  31404.0  488.0  1120.0   \n",
       "LogisticRegression          0.938076  3767.0  31333.0  559.0  1758.0   \n",
       "RandomForestClassifier      0.964000  4559.0  31511.0  381.0   966.0   \n",
       "AdaBoostClassifier          0.942807  3964.0  31313.0  579.0  1561.0   \n",
       "GradientBoostingClassifier  0.953631  4326.0  31356.0  536.0  1199.0   \n",
       "ExtraTreeClassifier         0.964615  4500.0  31593.0  299.0  1025.0   \n",
       "BaggingClassifier           0.963920  4529.0  31538.0  354.0   996.0   \n",
       "Neural Network-1            0.958869  4373.0  31505.0  387.0  1152.0   \n",
       "\n",
       "                                 FPR       FNR  \n",
       "index                                           \n",
       "KNeighborsClassifier        0.015302  0.202715  \n",
       "LogisticRegression          0.017528  0.318190  \n",
       "RandomForestClassifier      0.011947  0.174842  \n",
       "AdaBoostClassifier          0.018155  0.282534  \n",
       "GradientBoostingClassifier  0.016807  0.217014  \n",
       "ExtraTreeClassifier         0.009375  0.185520  \n",
       "BaggingClassifier           0.011100  0.180271  \n",
       "Neural Network-1            0.012135  0.208507  "
      ]
     },
     "metadata": {},
     "output_type": "display_data"
    },
    {
     "name": "stdout",
     "output_type": "stream",
     "text": [
      "Test Results\n"
     ]
    },
    {
     "data": {
      "text/html": [
       "<div>\n",
       "<style scoped>\n",
       "    .dataframe tbody tr th:only-of-type {\n",
       "        vertical-align: middle;\n",
       "    }\n",
       "\n",
       "    .dataframe tbody tr th {\n",
       "        vertical-align: top;\n",
       "    }\n",
       "\n",
       "    .dataframe thead th {\n",
       "        text-align: right;\n",
       "    }\n",
       "</style>\n",
       "<table border=\"1\" class=\"dataframe\">\n",
       "  <thead>\n",
       "    <tr style=\"text-align: right;\">\n",
       "      <th></th>\n",
       "      <th>accuracy</th>\n",
       "      <th>TP</th>\n",
       "      <th>TN</th>\n",
       "      <th>FP</th>\n",
       "      <th>FN</th>\n",
       "      <th>FPR</th>\n",
       "      <th>FNR</th>\n",
       "      <th>auc</th>\n",
       "      <th>mcc</th>\n",
       "    </tr>\n",
       "    <tr>\n",
       "      <th>index</th>\n",
       "      <th></th>\n",
       "      <th></th>\n",
       "      <th></th>\n",
       "      <th></th>\n",
       "      <th></th>\n",
       "      <th></th>\n",
       "      <th></th>\n",
       "      <th></th>\n",
       "      <th></th>\n",
       "    </tr>\n",
       "  </thead>\n",
       "  <tbody>\n",
       "    <tr>\n",
       "      <th>KNeighborsClassifier</th>\n",
       "      <td>0.951999</td>\n",
       "      <td>1070.0</td>\n",
       "      <td>7835.0</td>\n",
       "      <td>150.0</td>\n",
       "      <td>299.0</td>\n",
       "      <td>0.018785</td>\n",
       "      <td>0.218408</td>\n",
       "      <td>0.881404</td>\n",
       "      <td>0.800612</td>\n",
       "    </tr>\n",
       "    <tr>\n",
       "      <th>LogisticRegression</th>\n",
       "      <td>0.935749</td>\n",
       "      <td>914.0</td>\n",
       "      <td>7839.0</td>\n",
       "      <td>146.0</td>\n",
       "      <td>455.0</td>\n",
       "      <td>0.018284</td>\n",
       "      <td>0.332359</td>\n",
       "      <td>0.824678</td>\n",
       "      <td>0.724081</td>\n",
       "    </tr>\n",
       "    <tr>\n",
       "      <th>RandomForestClassifier</th>\n",
       "      <td>0.954244</td>\n",
       "      <td>1087.0</td>\n",
       "      <td>7839.0</td>\n",
       "      <td>146.0</td>\n",
       "      <td>282.0</td>\n",
       "      <td>0.018284</td>\n",
       "      <td>0.205990</td>\n",
       "      <td>0.887863</td>\n",
       "      <td>0.810515</td>\n",
       "    </tr>\n",
       "    <tr>\n",
       "      <th>AdaBoostClassifier</th>\n",
       "      <td>0.941095</td>\n",
       "      <td>977.0</td>\n",
       "      <td>7826.0</td>\n",
       "      <td>159.0</td>\n",
       "      <td>392.0</td>\n",
       "      <td>0.019912</td>\n",
       "      <td>0.286340</td>\n",
       "      <td>0.846874</td>\n",
       "      <td>0.750703</td>\n",
       "    </tr>\n",
       "    <tr>\n",
       "      <th>GradientBoostingClassifier</th>\n",
       "      <td>0.950930</td>\n",
       "      <td>1051.0</td>\n",
       "      <td>7844.0</td>\n",
       "      <td>141.0</td>\n",
       "      <td>318.0</td>\n",
       "      <td>0.017658</td>\n",
       "      <td>0.232286</td>\n",
       "      <td>0.875028</td>\n",
       "      <td>0.795053</td>\n",
       "    </tr>\n",
       "    <tr>\n",
       "      <th>ExtraTreeClassifier</th>\n",
       "      <td>0.950716</td>\n",
       "      <td>1050.0</td>\n",
       "      <td>7843.0</td>\n",
       "      <td>142.0</td>\n",
       "      <td>319.0</td>\n",
       "      <td>0.017783</td>\n",
       "      <td>0.233017</td>\n",
       "      <td>0.874600</td>\n",
       "      <td>0.794146</td>\n",
       "    </tr>\n",
       "    <tr>\n",
       "      <th>BaggingClassifier</th>\n",
       "      <td>0.951785</td>\n",
       "      <td>1066.0</td>\n",
       "      <td>7837.0</td>\n",
       "      <td>148.0</td>\n",
       "      <td>303.0</td>\n",
       "      <td>0.018535</td>\n",
       "      <td>0.221329</td>\n",
       "      <td>0.880068</td>\n",
       "      <td>0.799482</td>\n",
       "    </tr>\n",
       "    <tr>\n",
       "      <th>Neural Network-1</th>\n",
       "      <td>0.953710</td>\n",
       "      <td>1057.0</td>\n",
       "      <td>7864.0</td>\n",
       "      <td>121.0</td>\n",
       "      <td>312.0</td>\n",
       "      <td>0.015153</td>\n",
       "      <td>0.227904</td>\n",
       "      <td>0.880068</td>\n",
       "      <td>0.806416</td>\n",
       "    </tr>\n",
       "  </tbody>\n",
       "</table>\n",
       "</div>"
      ],
      "text/plain": [
       "                            accuracy      TP      TN     FP     FN       FPR  \\\n",
       "index                                                                          \n",
       "KNeighborsClassifier        0.951999  1070.0  7835.0  150.0  299.0  0.018785   \n",
       "LogisticRegression          0.935749   914.0  7839.0  146.0  455.0  0.018284   \n",
       "RandomForestClassifier      0.954244  1087.0  7839.0  146.0  282.0  0.018284   \n",
       "AdaBoostClassifier          0.941095   977.0  7826.0  159.0  392.0  0.019912   \n",
       "GradientBoostingClassifier  0.950930  1051.0  7844.0  141.0  318.0  0.017658   \n",
       "ExtraTreeClassifier         0.950716  1050.0  7843.0  142.0  319.0  0.017783   \n",
       "BaggingClassifier           0.951785  1066.0  7837.0  148.0  303.0  0.018535   \n",
       "Neural Network-1            0.953710  1057.0  7864.0  121.0  312.0  0.015153   \n",
       "\n",
       "                                 FNR       auc       mcc  \n",
       "index                                                     \n",
       "KNeighborsClassifier        0.218408  0.881404  0.800612  \n",
       "LogisticRegression          0.332359  0.824678  0.724081  \n",
       "RandomForestClassifier      0.205990  0.887863  0.810515  \n",
       "AdaBoostClassifier          0.286340  0.846874  0.750703  \n",
       "GradientBoostingClassifier  0.232286  0.875028  0.795053  \n",
       "ExtraTreeClassifier         0.233017  0.874600  0.794146  \n",
       "BaggingClassifier           0.221329  0.880068  0.799482  \n",
       "Neural Network-1            0.227904  0.880068  0.806416  "
      ]
     },
     "metadata": {},
     "output_type": "display_data"
    }
   ],
   "source": [
    "table_80_70_train['index']=ind_columns\n",
    "table_80_70_test['index']=ind_columns\n",
    "\n",
    "\n",
    "table_80_70_test.set_index(['index'],drop=True,inplace=True)\n",
    "table_80_70_train.set_index(['index'],drop=True,inplace=True)\n",
    "\n",
    "print(\"Training Results\")\n",
    "display(table_80_70_train)\n",
    "print(\"Test Results\")\n",
    "display(table_80_70_test)"
   ]
  },
  {
   "cell_type": "code",
   "execution_count": 64,
   "metadata": {},
   "outputs": [
    {
     "data": {
      "text/html": [
       "<script>\n",
       "code_show=true; \n",
       "function code_toggle() {\n",
       " if (code_show){\n",
       " $('div.input').hide();\n",
       " } else {\n",
       " $('div.input').show();\n",
       " }\n",
       " code_show = !code_show\n",
       "} \n",
       "$( document ).ready(code_toggle);\n",
       "</script>\n",
       "To toggle code, click <a href=\"javascript:code_toggle()\">here</a>."
      ],
      "text/plain": [
       "<IPython.core.display.HTML object>"
      ]
     },
     "execution_count": 64,
     "metadata": {},
     "output_type": "execute_result"
    }
   ],
   "source": [
    "### Original Creator : Darshan Bhansali\n",
    "### HTML code to hide the input cells \n",
    "HTML('''<script>\n",
    "code_show=true; \n",
    "function code_toggle() {\n",
    " if (code_show){\n",
    " $('div.input').hide();\n",
    " } else {\n",
    " $('div.input').show();\n",
    " }\n",
    " code_show = !code_show\n",
    "} \n",
    "$( document ).ready(code_toggle);\n",
    "</script>\n",
    "To toggle code, click <a href=\"javascript:code_toggle()\">here</a>.''')"
   ]
  }
 ],
 "metadata": {
  "kernelspec": {
   "display_name": "Python 3",
   "language": "python",
   "name": "python3"
  },
  "language_info": {
   "codemirror_mode": {
    "name": "ipython",
    "version": 3
   },
   "file_extension": ".py",
   "mimetype": "text/x-python",
   "name": "python",
   "nbconvert_exporter": "python",
   "pygments_lexer": "ipython3",
   "version": "3.6.7"
  }
 },
 "nbformat": 4,
 "nbformat_minor": 2
}
