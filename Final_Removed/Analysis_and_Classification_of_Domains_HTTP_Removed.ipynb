{
 "cells": [
  {
   "cell_type": "markdown",
   "metadata": {},
   "source": [
    "***\n",
    "## Table of Contents\n",
    "<br>\n",
    "    <ol><h2><a href='#0' style=\"text-decoration : none; color : #000000;\">1. Loading and Cleaning Data </a></h2> </ol>\n",
    "    <br>\n",
    "    <ol>\n",
    "        <h2><a href='#1' style=\"text-decoration : none; color : #000000;\">2. Initial Models</a></h2>\n",
    "        <ul>\n",
    "            <a href='#1.A' style=\"text-decoration : none; color : #000000;\"><h3>A. Results </h3></a>\n",
    "        </ul>\n",
    "        <ul>\n",
    "            <a href='#1.B' style=\"text-decoration : none; color : #000000;\"><h3>B. Average Feature Importance   </h3></a>\n",
    "        </ul>\n",
    "     </ol>\n",
    "     <br> \n",
    "\n",
    "<ol>\n",
    "        <h2><a href='#2' style=\"text-decoration : none; color : #000000;\">3. Feature Transformation with feature selection </a></h2>\n",
    "        <ul>\n",
    "            <a href='#2.A' style=\"text-decoration : none; color : #000000;\"><h3>A. Results </h3></a>\n",
    "        </ul>\n",
    "        <ul>\n",
    "            <a href='#2.B' style=\"text-decoration : none; color : #000000;\"><h3>B. Average Feature Importance   </h3></a>\n",
    "        </ul>\n",
    "     </ol>\n",
    "     <br>\n",
    "     \n",
    " <ol>\n",
    "        <h2><a href='#3' style=\"text-decoration : none; color : #000000;\">4. Feature Transformation with PCA</a></h2>\n",
    "        <ul>\n",
    "            <a href='#3.A' style=\"text-decoration : none; color : #000000;\"><h3>A. Results </h3></a>\n",
    "        </ul>\n",
    "        <ul>\n",
    "            <a href='#3.B' style=\"text-decoration : none; color : #000000;\"><h3>B. Average Feature Importance   </h3></a>\n",
    "        </ul>\n",
    "     </ol>\n",
    "     <br>\n",
    "     \n",
    " <ol>\n",
    "        <h2><a href='#4' style=\"text-decoration : none; color : #000000;\">5.Over Sampling</a></h2>\n",
    "        <ul>\n",
    "            <a href='#4.A' style=\"text-decoration : none; color : #000000;\"><h3>A. Results </h3></a>\n",
    "        </ul>\n",
    "        <ul>\n",
    "            <a href='#4.B' style=\"text-decoration : none; color : #000000;\"><h3>B. Average Feature Importance   </h3></a>\n",
    "        </ul>\n",
    "     </ol>\n",
    "     <br>\n",
    "     \n",
    "     \n",
    " <ol>\n",
    "        <h2><a href='#5' style=\"text-decoration : none; color : #000000;\">6.Under Sampling</a></h2>\n",
    "        <ul>\n",
    "            <a href='#5.A' style=\"text-decoration : none; color : #000000;\"><h3>A. Results </h3></a>\n",
    "        </ul>\n",
    "        <ul>\n",
    "            <a href='#5.B' style=\"text-decoration : none; color : #000000;\"><h3>B. Average Feature Importance   </h3></a>\n",
    "        </ul>\n",
    "     </ol>\n",
    "     <br>\n",
    "     \n",
    "     \n",
    " <ol>\n",
    "        <h2><a href='#6' style=\"text-decoration : none; color : #000000;\">5. Comparing Results</a></h2>  \n",
    "     </ol>\n",
    "     <br>"
   ]
  },
  {
   "cell_type": "code",
   "execution_count": 1,
   "metadata": {},
   "outputs": [
    {
     "name": "stderr",
     "output_type": "stream",
     "text": [
      "Using TensorFlow backend.\n"
     ]
    },
    {
     "data": {
      "text/html": [
       "<script type=\"text/javascript\">window.PlotlyConfig = {MathJaxConfig: 'local'};</script><script type=\"text/javascript\">if (window.MathJax) {MathJax.Hub.Config({SVG: {font: \"STIX-Web\"}});}</script><script>requirejs.config({paths: { 'plotly': ['https://cdn.plot.ly/plotly-latest.min']},});if(!window._Plotly) {require(['plotly'],function(plotly) {window._Plotly=plotly;});}</script>"
      ],
      "text/vnd.plotly.v1+html": [
       "<script type=\"text/javascript\">window.PlotlyConfig = {MathJaxConfig: 'local'};</script><script type=\"text/javascript\">if (window.MathJax) {MathJax.Hub.Config({SVG: {font: \"STIX-Web\"}});}</script><script>requirejs.config({paths: { 'plotly': ['https://cdn.plot.ly/plotly-latest.min']},});if(!window._Plotly) {require(['plotly'],function(plotly) {window._Plotly=plotly;});}</script>"
      ]
     },
     "metadata": {},
     "output_type": "display_data"
    }
   ],
   "source": [
    "import pandas as pd\n",
    "import numpy as np\n",
    "import os\n",
    "import json\n",
    "from pandas.io.json import json_normalize\n",
    "from IPython.display import display,clear_output,HTML\n",
    "import matplotlib.pyplot as plt\n",
    "import seaborn as sns\n",
    "import warnings\n",
    "warnings.filterwarnings(\"ignore\")\n",
    "from tabulate import tabulate\n",
    "\n",
    "import keras\n",
    "from keras.layers import Dense,Dropout\n",
    "from keras.models import Sequential\n",
    "from keras.wrappers.scikit_learn import KerasClassifier\n",
    "\n",
    "import researchpy as rp\n",
    "\n",
    "%matplotlib inline\n",
    "pd.set_option('display.max_columns', 500)\n",
    "pd.set_option('display.max_rows',305)\n",
    "\n",
    "from sklearn.feature_selection import SelectKBest,chi2,RFE,RFECV,f_regression,SelectFromModel\n",
    "from sklearn.linear_model import LogisticRegression,RandomizedLasso,LinearRegression, Ridge,Lasso\n",
    "from sklearn.ensemble import ExtraTreesClassifier,RandomForestClassifier,GradientBoostingClassifier,AdaBoostClassifier,BaggingClassifier,VotingClassifier\n",
    "from sklearn.svm import SVC\n",
    "from sklearn.neighbors import KNeighborsClassifier\n",
    "from sklearn.model_selection import StratifiedKFold,GridSearchCV,train_test_split,cross_val_score\n",
    "\n",
    "from sklearn.preprocessing import MinMaxScaler,StandardScaler,binarize\n",
    "from sklearn.ensemble import RandomForestRegressor\n",
    "# from minepy import MINE\n",
    "from sklearn import metrics\n",
    "\n",
    "import warnings\n",
    "warnings.simplefilter(\"ignore\", DeprecationWarning)\n",
    "\n",
    "from sklearn.decomposition import PCA\n",
    "from sklearn.metrics import accuracy_score,auc,roc_curve,recall_score,precision_score\n",
    "from sklearn import metrics\n",
    "from pandas_ml import ConfusionMatrix\n",
    "\n",
    "\n",
    "from imblearn.over_sampling import SMOTE\n",
    "\n",
    "from plotly.offline import download_plotlyjs, init_notebook_mode, plot, iplot\n",
    "init_notebook_mode(connected=True)\n",
    "import plotly.graph_objs as go\n",
    "\n",
    "import featuretools as ft\n",
    "\n",
    "from scipy import stats"
   ]
  },
  {
   "cell_type": "code",
   "execution_count": 2,
   "metadata": {
    "collapsed": true
   },
   "outputs": [],
   "source": [
    "### Function to plot Feature Importance\n",
    "def feat_impt_plot(feat_impt,y_labels,width_s=1000,height_s=1000):\n",
    "    \n",
    "    m=pd.DataFrame(y_labels,feat_impt).reset_index()\n",
    "    m.columns=['Feature_Importance','Features']\n",
    "    m.sort_values(by='Feature_Importance',inplace=True,ascending=False)\n",
    "#     m['Features']=m['Features'].str.replace(\"dom_function_\",\"\")\n",
    "#     m['Features']=m['Features'].str.replace(\"js_function_\",\"\")\n",
    "#     m['Features']=m['Features'].apply(lambda x: str(x).lstrip('.'))\n",
    "#     m['Features']=m['Features'].str.replace(\"(\",\"\")\n",
    "    \n",
    "    data = [go.Bar(x=m.Feature_Importance.values,y=m.Features.values,text=np.round(m.Feature_Importance,4),\n",
    "            textposition = 'outside',\n",
    "            marker=dict(\n",
    "                color='rgb(158,202,225)',\n",
    "                line=dict(\n",
    "                    color='rgb(8,48,107)',\n",
    "                    width=1.5),\n",
    "            ),\n",
    "            opacity=0.6,\n",
    "            orientation='h'\n",
    "        )]\n",
    "    layout = go.Layout(autosize=False,\n",
    "    width=width_s,\n",
    "    height=height_s,\n",
    "    xaxis=dict(title='Feature Importances',\n",
    "        tickfont=dict(\n",
    "            size=12,\n",
    "            color='black'\n",
    "        )),\n",
    "    yaxis=dict(automargin=True))\n",
    "    fig = go.Figure(data=data, layout=layout)\n",
    "    iplot(fig)\n",
    "\n",
    "    \n",
    "def check_cat(data):\n",
    "    cat_var=[]\n",
    "    num_var=[]\n",
    "    for col in data.columns:\n",
    "        if col!='Target':\n",
    "            if len(data[col].value_counts())==2:\n",
    "                cat_var.append(col)\n",
    "            else:\n",
    "                num_var.append(col)\n",
    "    return cat_var,num_var\n",
    "\n",
    "\n",
    "def num_stats(data,columns):\n",
    "    lst=[]\n",
    "    for col in columns:\n",
    "        corr=stats.pointbiserialr(data[col],data.Target)[0]\n",
    "        corr_p=stats.pointbiserialr(data[col],data.Target)[1]\n",
    "        ttest=stats.ttest_ind(data[data.Target==1][col], data[data.Target==0][col], equal_var=False)[0]\n",
    "        ttest_p=stats.ttest_ind(data[data.Target==1][col], data[data.Target==0][col], equal_var=False)[1]\n",
    "        lst.append((corr,corr_p,ttest,ttest_p,col))\n",
    "    stats_data=pd.DataFrame(lst,columns=['Pt. Biserial Corr','Pt. Biserial Corr p-val','ttest','ttest p-val','Feature'])\n",
    "    stats_data.set_index('Feature',drop=True,inplace=True)\n",
    "    stats_data.sort_values(by='ttest',inplace=True)\n",
    "    del lst\n",
    "    return stats_data\n",
    "\n",
    "\n",
    "### Generate statistics for categorical data\n",
    "def cat_stats(data,columns):\n",
    "    lst=[]\n",
    "    for col in columns:\n",
    "        if col!='Target':\n",
    "            table, results = rp.crosstab(data['Target'], data[col], prop= 'col', test= 'chi-square')\n",
    "            x=results['results'].values.tolist()\n",
    "            x.append(col)\n",
    "            lst.append(x)\n",
    "    chi_df=pd.DataFrame(lst,columns=['Pearson Chi-square','p-value','Cramers V','Feature'])\n",
    "    chi_df.set_index('Feature',drop=True,inplace=True)\n",
    "    chi_df.sort_values(by='Cramers V',ascending=False,inplace=True)\n",
    "    del lst\n",
    "    return chi_df"
   ]
  },
  {
   "cell_type": "code",
   "execution_count": 3,
   "metadata": {
    "collapsed": true
   },
   "outputs": [],
   "source": [
    "def model_build(model,X_train,Y_train,X_test,Y_Test,tree=False,feat=None):\n",
    "    \n",
    "    y_pred_train=model.predict(X_train)\n",
    "    acc_train=accuracy_score(Y_train,y_pred_train)\n",
    "    \n",
    "    print(\"Accuracy of the model for training data is:\",acc_train)\n",
    "    print(\"Confusion Matrix for training data is:\")\n",
    "    cm_train=ConfusionMatrix(Y_train,y_pred_train)\n",
    "    display(cm_train)\n",
    "    \n",
    "    \n",
    "    y_pred_test=model.predict(X_test)\n",
    "    acc_test=accuracy_score(Y_test,y_pred_test)\n",
    "    print(\"Accuracy of the model for test data is:\",acc_test)\n",
    "    print(\"Confusion Matrix for test data is:\")\n",
    "    cm_test=ConfusionMatrix(Y_test,y_pred_test)\n",
    "    display(cm_test)\n",
    "\n",
    "    fpr, tpr, threshold = roc_curve(Y_test, y_pred_test)\n",
    "    roc_auc =auc(fpr, tpr)\n",
    "    \n",
    "    if tree==True:\n",
    "        feat_impt_plot(model.feature_importances_,feat)\n",
    "        return model,cm_train,cm_test,acc_train,acc_test,roc_auc,model.feature_importances_\n",
    "    \n",
    "    return model,cm_train,cm_test,acc_train,acc_test,roc_auc\n",
    "\n",
    "def KNN_model(X_train,Y_train,X_test,Y_test):\n",
    "    print('\\033[1m' + 'K-Nearest Neighbors' + '\\033[0m')\n",
    "    knn=KNeighborsClassifier()\n",
    "    knn.fit(X_train,Y_train)\n",
    "\n",
    "    return model_build(knn,X_train,Y_train,X_test,Y_test)\n",
    "\n",
    "def Logistic_model(X_train,Y_train,X_test,Y_test):\n",
    "    print('\\033[1m' + 'Logistic Regression' + '\\033[0m')\n",
    "    log=LogisticRegression()\n",
    "    log.fit(X_train,Y_train)\n",
    "    \n",
    "    return model_build(log,X_train,Y_train,X_test,Y_test)\n",
    "\n",
    "def RandomForest(X_train,Y_train,X_test,Y_test,feat):\n",
    "    print('\\033[1m' + 'RandomForest Classifier' + '\\033[0m')\n",
    "    rf=RandomForestClassifier()\n",
    "    rf.fit(X_train,Y_train)\n",
    "\n",
    "    \n",
    "    return model_build(rf,X_train,Y_train,X_test,Y_test,True,feat)\n",
    "\n",
    "def AdaBoost(X_train,Y_train,X_test,Y_test,feat):\n",
    "    print('\\033[1m' + 'Adaoost Classifier' + '\\033[0m')\n",
    "    ada=AdaBoostClassifier()\n",
    "    ada.fit(X_train,Y_train)\n",
    "    \n",
    "    return model_build(ada,X_train,Y_train,X_test,Y_test,True,feat)\n",
    "\n",
    "def GradientBoosting(X_train,Y_train,X_test,Y_test,feat):\n",
    "    print('\\033[1m' + 'GradientBoosting Classifier' + '\\033[0m')\n",
    "    gbc=GradientBoostingClassifier()\n",
    "    gbc.fit(X_train,Y_train)\n",
    "    \n",
    "    return model_build(gbc,X_train,Y_train,X_test,Y_test,True,feat)\n",
    "\n",
    "def ExtraTree(X_train,Y_train,X_test,Y_test,feat):\n",
    "    print('\\033[1m' + 'ExtraTree Classifier' + '\\033[0m')\n",
    "    ext_tree=ExtraTreesClassifier()\n",
    "    ext_tree.fit(X_train,Y_train)\n",
    "    \n",
    "    return model_build(ext_tree,X_train,Y_train,X_test,Y_test,True,feat)\n",
    "\n",
    "def Bagging(X_train,Y_train,X_test,Y_test):\n",
    "    print('\\033[1m' + 'Bagging Classifier' + '\\033[0m')\n",
    "    bagging=BaggingClassifier()\n",
    "    bagging.fit(X_train,Y_train)\n",
    "    \n",
    "    return model_build(bagging,X_train,Y_train,X_test,Y_test)\n",
    "\n",
    "def DeepLearning1(X_train,Y_train,X_test,Y_test):\n",
    "    print('\\033[1m' + 'Neural Network-1' + '\\033[0m')\n",
    "    np.random.seed(0)\n",
    "    deep_learning=Sequential()\n",
    "    deep_learning.add(Dense(units=64,activation='relu',use_bias=True,kernel_initializer='uniform',input_dim=X_train.shape[1]))\n",
    "    deep_learning.add(Dense(units=128,activation='relu',use_bias=True,kernel_initializer='uniform'))\n",
    "    deep_learning.add(Dense(units=1,activation='sigmoid',use_bias=True,kernel_initializer='uniform'))\n",
    "    deep_learning.compile(optimizer='adam',loss='binary_crossentropy',metrics=['accuracy'])\n",
    "    deep_learning.fit(X_train,Y_train,batch_size=20,epochs=80,verbose=False)\n",
    "    acc_train=deep_learning.evaluate(X_train,Y_train,verbose=False)[1]\n",
    "    print(\"The accuracy of the model on training data is:\",acc_train)\n",
    "    cm_train=ConfusionMatrix(Y_train,deep_learning.predict_classes(X_train,batch_size=1,verbose=False).reshape(1,len(X_train))[0])\n",
    "    cm_test=ConfusionMatrix(Y_test,deep_learning.predict_classes(X_test,batch_size=1,verbose=False).reshape(1,len(X_test))[0])\n",
    "    display(cm_train)\n",
    "    acc_test=accuracy_score(Y_test,deep_learning.predict_classes(X_test,batch_size=1,verbose=False))\n",
    "    print(\"The accuracy of the model on test data is:\",acc_test)\n",
    "    display(cm_test)\n",
    "    return  deep_learning,cm_train,cm_test,acc_train,acc_test,roc_auc"
   ]
  },
  {
   "cell_type": "markdown",
   "metadata": {},
   "source": [
    "### <a id='0' style=\"text-decoration : none; color : #000000;\"> 1. Loading and Cleaning Data</a>"
   ]
  },
  {
   "cell_type": "code",
   "execution_count": 4,
   "metadata": {},
   "outputs": [
    {
     "name": "stdout",
     "output_type": "stream",
     "text": [
      "Shape of our dataset: (45856, 672)\n"
     ]
    }
   ],
   "source": [
    "df=pd.read_csv('Modified_http.csv')\n",
    "\n",
    "df.rename(columns={'Malicious':'Target'},inplace=True)\n",
    "df.fillna(value=0,inplace=True)\n",
    "\n",
    "cookies=[columns for columns in df.columns if 'number' in columns]\n",
    "df.drop(cookies,axis=1,inplace=True)\n",
    "\n",
    "df=df[df['domain']!=0]\n",
    "\n",
    "df.sort_values(by='Target',inplace=True,ascending=False)\n",
    "df.drop_duplicates(['domain'], keep='first',inplace=True)\n",
    "\n",
    "df=df.sample(frac=1,random_state=0)\n",
    "df.set_index(['domain'],drop=True,inplace=True)\n",
    "print(\"Shape of our dataset:\",df.shape)"
   ]
  },
  {
   "cell_type": "markdown",
   "metadata": {},
   "source": [
    "#### Let us analyze the balance of classes"
   ]
  },
  {
   "cell_type": "code",
   "execution_count": 5,
   "metadata": {
    "scrolled": false
   },
   "outputs": [
    {
     "data": {
      "application/vnd.plotly.v1+json": {
       "config": {
        "linkText": "Export to plot.ly",
        "plotlyServerURL": "https://plot.ly",
        "showLink": true
       },
       "data": [
        {
         "text": [
          39835,
          6021
         ],
         "textposition": "outside",
         "type": "bar",
         "uid": "c371c4a6-bdd6-4844-ab55-08ead8aa076e",
         "x": [
          0,
          1
         ],
         "y": [
          39835,
          6021
         ]
        }
       ],
       "layout": {
        "xaxis": {
         "tickfont": {
          "color": "black",
          "size": 12
         },
         "title": "Domain Type"
        },
        "yaxis": {
         "title": "Number of Instances"
        }
       }
      },
      "text/html": [
       "<div id=\"5ecd6af8-4fc8-41ed-b3fe-949d81c72bd6\" style=\"height: 525px; width: 100%;\" class=\"plotly-graph-div\"></div><script type=\"text/javascript\">require([\"plotly\"], function(Plotly) { window.PLOTLYENV=window.PLOTLYENV || {};window.PLOTLYENV.BASE_URL=\"https://plot.ly\";Plotly.newPlot(\"5ecd6af8-4fc8-41ed-b3fe-949d81c72bd6\", [{\"text\": [39835.0, 6021.0], \"textposition\": \"outside\", \"x\": [0, 1], \"y\": [39835, 6021], \"type\": \"bar\", \"uid\": \"c371c4a6-bdd6-4844-ab55-08ead8aa076e\"}], {\"xaxis\": {\"tickfont\": {\"color\": \"black\", \"size\": 12}, \"title\": \"Domain Type\"}, \"yaxis\": {\"title\": \"Number of Instances\"}}, {\"showLink\": true, \"linkText\": \"Export to plot.ly\", \"plotlyServerURL\": \"https://plot.ly\"})});</script><script type=\"text/javascript\">window.addEventListener(\"resize\", function(){window._Plotly.Plots.resize(document.getElementById(\"5ecd6af8-4fc8-41ed-b3fe-949d81c72bd6\"));});</script>"
      ],
      "text/vnd.plotly.v1+html": [
       "<div id=\"5ecd6af8-4fc8-41ed-b3fe-949d81c72bd6\" style=\"height: 525px; width: 100%;\" class=\"plotly-graph-div\"></div><script type=\"text/javascript\">require([\"plotly\"], function(Plotly) { window.PLOTLYENV=window.PLOTLYENV || {};window.PLOTLYENV.BASE_URL=\"https://plot.ly\";Plotly.newPlot(\"5ecd6af8-4fc8-41ed-b3fe-949d81c72bd6\", [{\"text\": [39835.0, 6021.0], \"textposition\": \"outside\", \"x\": [0, 1], \"y\": [39835, 6021], \"type\": \"bar\", \"uid\": \"c371c4a6-bdd6-4844-ab55-08ead8aa076e\"}], {\"xaxis\": {\"tickfont\": {\"color\": \"black\", \"size\": 12}, \"title\": \"Domain Type\"}, \"yaxis\": {\"title\": \"Number of Instances\"}}, {\"showLink\": true, \"linkText\": \"Export to plot.ly\", \"plotlyServerURL\": \"https://plot.ly\"})});</script><script type=\"text/javascript\">window.addEventListener(\"resize\", function(){window._Plotly.Plots.resize(document.getElementById(\"5ecd6af8-4fc8-41ed-b3fe-949d81c72bd6\"));});</script>"
      ]
     },
     "metadata": {},
     "output_type": "display_data"
    }
   ],
   "source": [
    "data = [go.Bar(x=df.Target.value_counts().index.values,\n",
    "               y=df.Target.value_counts().values,\n",
    "               text=df.Target.value_counts().values,\n",
    "               textposition = 'outside',\n",
    "            )]\n",
    "layout = go.Layout( xaxis=dict(title='Domain Type',tickfont=dict(size=12,color='black')),\n",
    "                    yaxis=dict(title='Number of Instances'))\n",
    "fig = go.Figure(data=data, layout=layout)\n",
    "iplot(fig)"
   ]
  },
  {
   "cell_type": "markdown",
   "metadata": {},
   "source": [
    "#### We can see from the graph that there is high imbalance in the dataset. We can handle it either by oversampling, undersampling or tuning our models to focus on recall/precision to address the problem\n",
    "\n",
    "#### Cleaning and analyzing the dataset.\n",
    "\n",
    "\n",
    "#### We know that many of the features will all have no more than one unique value. Hence, we will first identify and drop those features\n",
    "\n",
    "#### Columns which have do not have any unique values"
   ]
  },
  {
   "cell_type": "code",
   "execution_count": 6,
   "metadata": {},
   "outputs": [
    {
     "name": "stdout",
     "output_type": "stream",
     "text": [
      "399 columns have only one unique value in them rendering them meaningless for classification\n",
      "Shape of our dataset after dropping them: (45856, 273)\n"
     ]
    }
   ],
   "source": [
    "col_no_unique=[]\n",
    "for col in df.columns[:-1]:\n",
    "    if len(df[col].value_counts())==1:\n",
    "        col_no_unique.append(col)\n",
    "\n",
    "print(\"{} columns have only one unique value in them rendering them meaningless for classification\".format(len(col_no_unique)))\n",
    "### Drop those columns\n",
    "df.drop(col_no_unique,axis=1,inplace=True)\n",
    "\n",
    "print(\"Shape of our dataset after dropping them:\",df.shape)"
   ]
  },
  {
   "cell_type": "markdown",
   "metadata": {},
   "source": [
    "#### check to see which features have less than 5% varying data"
   ]
  },
  {
   "cell_type": "code",
   "execution_count": 7,
   "metadata": {},
   "outputs": [
    {
     "name": "stdout",
     "output_type": "stream",
     "text": [
      "245 columns have more than 95% same values\n"
     ]
    }
   ],
   "source": [
    "lst=[]\n",
    "for col in df.columns[:-1]:\n",
    "    lst.append([col,dict(df[col].value_counts()),df[col].value_counts().values[0]>=len(df)*0.95])\n",
    "\n",
    "col_values=pd.DataFrame(lst,columns=['Feature','Value_Counts','95_%_same_values'])\n",
    "col_values.set_index('Feature',drop=True,inplace=True)\n",
    "del lst\n",
    "\n",
    "print(\"{} columns have more than 95% same values\".format(len(col_values[col_values['95_%_same_values']==True].index.values)))"
   ]
  },
  {
   "cell_type": "code",
   "execution_count": 8,
   "metadata": {
    "collapsed": true
   },
   "outputs": [],
   "source": [
    "ind_columns=['KNeighborsClassifier','LogisticRegression','RandomForestClassifier','AdaBoostClassifier',\n",
    "             'GradientBoostingClassifier','ExtraTreeClassifier','BaggingClassifier','Neural Network-1']"
   ]
  },
  {
   "cell_type": "markdown",
   "metadata": {},
   "source": [
    "### <a id='1' style=\"text-decoration : none; color : #000000;\"> 2. Initial Models</a>"
   ]
  },
  {
   "cell_type": "code",
   "execution_count": 9,
   "metadata": {
    "collapsed": true
   },
   "outputs": [],
   "source": [
    "columns=col_values[col_values['95_%_same_values']==False].index.values\n",
    "columns=columns.tolist()\n",
    "rem=['http_header_expect-ctreport-uri','http_header_vary_accept-encoding','http_header_marco_contenttext',\n",
    "     'http_header_vary_user-agent']\n",
    "for col in rem:\n",
    "    columns.remove(col)\n",
    "http_columns=columns"
   ]
  },
  {
   "cell_type": "code",
   "execution_count": 12,
   "metadata": {
    "scrolled": false
   },
   "outputs": [
    {
     "name": "stdout",
     "output_type": "stream",
     "text": [
      "Stats for numerical features for HTML experiment\n",
      "\n"
     ]
    },
    {
     "data": {
      "text/html": [
       "<div>\n",
       "<style scoped>\n",
       "    .dataframe tbody tr th:only-of-type {\n",
       "        vertical-align: middle;\n",
       "    }\n",
       "\n",
       "    .dataframe tbody tr th {\n",
       "        vertical-align: top;\n",
       "    }\n",
       "\n",
       "    .dataframe thead th {\n",
       "        text-align: right;\n",
       "    }\n",
       "</style>\n",
       "<table border=\"1\" class=\"dataframe\">\n",
       "  <thead>\n",
       "    <tr style=\"text-align: right;\">\n",
       "      <th></th>\n",
       "      <th>Pt. Biserial Corr</th>\n",
       "      <th>Pt. Biserial Corr p-val</th>\n",
       "      <th>ttest</th>\n",
       "      <th>ttest p-val</th>\n",
       "    </tr>\n",
       "    <tr>\n",
       "      <th>Feature</th>\n",
       "      <th></th>\n",
       "      <th></th>\n",
       "      <th></th>\n",
       "      <th></th>\n",
       "    </tr>\n",
       "  </thead>\n",
       "  <tbody>\n",
       "    <tr>\n",
       "      <th>http_header_x-cintent-type-options_nosniff</th>\n",
       "      <td>-0.140954</td>\n",
       "      <td>3.993026e-202</td>\n",
       "      <td>-64.192673</td>\n",
       "      <td>0.000000e+00</td>\n",
       "    </tr>\n",
       "    <tr>\n",
       "      <th>http_header_strict-transport-security_max-age</th>\n",
       "      <td>-0.137176</td>\n",
       "      <td>1.926210e-191</td>\n",
       "      <td>-61.878219</td>\n",
       "      <td>0.000000e+00</td>\n",
       "    </tr>\n",
       "    <tr>\n",
       "      <th>http_header_content-length</th>\n",
       "      <td>-0.072521</td>\n",
       "      <td>1.598452e-54</td>\n",
       "      <td>-19.896051</td>\n",
       "      <td>2.042365e-86</td>\n",
       "    </tr>\n",
       "  </tbody>\n",
       "</table>\n",
       "</div>"
      ],
      "text/plain": [
       "                                               Pt. Biserial Corr  \\\n",
       "Feature                                                            \n",
       "http_header_x-cintent-type-options_nosniff             -0.140954   \n",
       "http_header_strict-transport-security_max-age          -0.137176   \n",
       "http_header_content-length                             -0.072521   \n",
       "\n",
       "                                               Pt. Biserial Corr p-val  \\\n",
       "Feature                                                                  \n",
       "http_header_x-cintent-type-options_nosniff               3.993026e-202   \n",
       "http_header_strict-transport-security_max-age            1.926210e-191   \n",
       "http_header_content-length                                1.598452e-54   \n",
       "\n",
       "                                                   ttest   ttest p-val  \n",
       "Feature                                                                 \n",
       "http_header_x-cintent-type-options_nosniff    -64.192673  0.000000e+00  \n",
       "http_header_strict-transport-security_max-age -61.878219  0.000000e+00  \n",
       "http_header_content-length                    -19.896051  2.042365e-86  "
      ]
     },
     "metadata": {},
     "output_type": "display_data"
    },
    {
     "name": "stdout",
     "output_type": "stream",
     "text": [
      "\n",
      "Stats for Categorical features for HTML experiment\n",
      "\n"
     ]
    },
    {
     "data": {
      "text/html": [
       "<div>\n",
       "<style scoped>\n",
       "    .dataframe tbody tr th:only-of-type {\n",
       "        vertical-align: middle;\n",
       "    }\n",
       "\n",
       "    .dataframe tbody tr th {\n",
       "        vertical-align: top;\n",
       "    }\n",
       "\n",
       "    .dataframe thead th {\n",
       "        text-align: right;\n",
       "    }\n",
       "</style>\n",
       "<table border=\"1\" class=\"dataframe\">\n",
       "  <thead>\n",
       "    <tr style=\"text-align: right;\">\n",
       "      <th></th>\n",
       "      <th>Pearson Chi-square</th>\n",
       "      <th>p-value</th>\n",
       "      <th>Cramers V</th>\n",
       "    </tr>\n",
       "    <tr>\n",
       "      <th>Feature</th>\n",
       "      <th></th>\n",
       "      <th></th>\n",
       "      <th></th>\n",
       "    </tr>\n",
       "  </thead>\n",
       "  <tbody>\n",
       "    <tr>\n",
       "      <th>http_header_content-encoding_gzip</th>\n",
       "      <td>9686.2477</td>\n",
       "      <td>0.0</td>\n",
       "      <td>0.4596</td>\n",
       "    </tr>\n",
       "    <tr>\n",
       "      <th>http_header_content-language_text/html</th>\n",
       "      <td>9548.2797</td>\n",
       "      <td>0.0</td>\n",
       "      <td>0.4563</td>\n",
       "    </tr>\n",
       "    <tr>\n",
       "      <th>http_header_vary_accept</th>\n",
       "      <td>5024.0796</td>\n",
       "      <td>0.0</td>\n",
       "      <td>0.3310</td>\n",
       "    </tr>\n",
       "    <tr>\n",
       "      <th>http_header_connection_keep-alive</th>\n",
       "      <td>4052.6234</td>\n",
       "      <td>0.0</td>\n",
       "      <td>0.2973</td>\n",
       "    </tr>\n",
       "    <tr>\n",
       "      <th>http_header_transfer-encoding_chunked</th>\n",
       "      <td>3995.7784</td>\n",
       "      <td>0.0</td>\n",
       "      <td>0.2952</td>\n",
       "    </tr>\n",
       "    <tr>\n",
       "      <th>http_header_cache-control_set_max-age</th>\n",
       "      <td>1868.6053</td>\n",
       "      <td>0.0</td>\n",
       "      <td>0.2019</td>\n",
       "    </tr>\n",
       "    <tr>\n",
       "      <th>http_header_server_nginx</th>\n",
       "      <td>1404.5624</td>\n",
       "      <td>0.0</td>\n",
       "      <td>0.1750</td>\n",
       "    </tr>\n",
       "    <tr>\n",
       "      <th>http_header_x-xss-enabled</th>\n",
       "      <td>771.5071</td>\n",
       "      <td>0.0</td>\n",
       "      <td>0.1297</td>\n",
       "    </tr>\n",
       "    <tr>\n",
       "      <th>http_header_cache-control_set_private</th>\n",
       "      <td>750.7334</td>\n",
       "      <td>0.0</td>\n",
       "      <td>0.1280</td>\n",
       "    </tr>\n",
       "    <tr>\n",
       "      <th>http_header_expect-ctmax-age</th>\n",
       "      <td>723.6504</td>\n",
       "      <td>0.0</td>\n",
       "      <td>0.1256</td>\n",
       "    </tr>\n",
       "    <tr>\n",
       "      <th>http_header_cache-control_set_must-revalidate</th>\n",
       "      <td>601.8639</td>\n",
       "      <td>0.0</td>\n",
       "      <td>0.1146</td>\n",
       "    </tr>\n",
       "    <tr>\n",
       "      <th>http_header_via_1.1</th>\n",
       "      <td>596.5566</td>\n",
       "      <td>0.0</td>\n",
       "      <td>0.1141</td>\n",
       "    </tr>\n",
       "    <tr>\n",
       "      <th>http_header_cache-control_set_no-cache</th>\n",
       "      <td>578.1748</td>\n",
       "      <td>0.0</td>\n",
       "      <td>0.1123</td>\n",
       "    </tr>\n",
       "    <tr>\n",
       "      <th>http_header_cache-control_set_public</th>\n",
       "      <td>557.5929</td>\n",
       "      <td>0.0</td>\n",
       "      <td>0.1103</td>\n",
       "    </tr>\n",
       "    <tr>\n",
       "      <th>http_header_cache-control_set_no-store</th>\n",
       "      <td>385.9790</td>\n",
       "      <td>0.0</td>\n",
       "      <td>0.0917</td>\n",
       "    </tr>\n",
       "    <tr>\n",
       "      <th>http_header_pragmano-cache</th>\n",
       "      <td>314.2135</td>\n",
       "      <td>0.0</td>\n",
       "      <td>0.0828</td>\n",
       "    </tr>\n",
       "    <tr>\n",
       "      <th>http_header_server_apache</th>\n",
       "      <td>199.8881</td>\n",
       "      <td>0.0</td>\n",
       "      <td>0.0660</td>\n",
       "    </tr>\n",
       "    <tr>\n",
       "      <th>http_header_connection_close</th>\n",
       "      <td>107.8638</td>\n",
       "      <td>0.0</td>\n",
       "      <td>0.0485</td>\n",
       "    </tr>\n",
       "    <tr>\n",
       "      <th>http_header_vary_age</th>\n",
       "      <td>73.4148</td>\n",
       "      <td>0.0</td>\n",
       "      <td>0.0400</td>\n",
       "    </tr>\n",
       "  </tbody>\n",
       "</table>\n",
       "</div>"
      ],
      "text/plain": [
       "                                               Pearson Chi-square  p-value  \\\n",
       "Feature                                                                      \n",
       "http_header_content-encoding_gzip                       9686.2477      0.0   \n",
       "http_header_content-language_text/html                  9548.2797      0.0   \n",
       "http_header_vary_accept                                 5024.0796      0.0   \n",
       "http_header_connection_keep-alive                       4052.6234      0.0   \n",
       "http_header_transfer-encoding_chunked                   3995.7784      0.0   \n",
       "http_header_cache-control_set_max-age                   1868.6053      0.0   \n",
       "http_header_server_nginx                                1404.5624      0.0   \n",
       "http_header_x-xss-enabled                                771.5071      0.0   \n",
       "http_header_cache-control_set_private                    750.7334      0.0   \n",
       "http_header_expect-ctmax-age                             723.6504      0.0   \n",
       "http_header_cache-control_set_must-revalidate            601.8639      0.0   \n",
       "http_header_via_1.1                                      596.5566      0.0   \n",
       "http_header_cache-control_set_no-cache                   578.1748      0.0   \n",
       "http_header_cache-control_set_public                     557.5929      0.0   \n",
       "http_header_cache-control_set_no-store                   385.9790      0.0   \n",
       "http_header_pragmano-cache                               314.2135      0.0   \n",
       "http_header_server_apache                                199.8881      0.0   \n",
       "http_header_connection_close                             107.8638      0.0   \n",
       "http_header_vary_age                                      73.4148      0.0   \n",
       "\n",
       "                                               Cramers V  \n",
       "Feature                                                   \n",
       "http_header_content-encoding_gzip                 0.4596  \n",
       "http_header_content-language_text/html            0.4563  \n",
       "http_header_vary_accept                           0.3310  \n",
       "http_header_connection_keep-alive                 0.2973  \n",
       "http_header_transfer-encoding_chunked             0.2952  \n",
       "http_header_cache-control_set_max-age             0.2019  \n",
       "http_header_server_nginx                          0.1750  \n",
       "http_header_x-xss-enabled                         0.1297  \n",
       "http_header_cache-control_set_private             0.1280  \n",
       "http_header_expect-ctmax-age                      0.1256  \n",
       "http_header_cache-control_set_must-revalidate     0.1146  \n",
       "http_header_via_1.1                               0.1141  \n",
       "http_header_cache-control_set_no-cache            0.1123  \n",
       "http_header_cache-control_set_public              0.1103  \n",
       "http_header_cache-control_set_no-store            0.0917  \n",
       "http_header_pragmano-cache                        0.0828  \n",
       "http_header_server_apache                         0.0660  \n",
       "http_header_connection_close                      0.0485  \n",
       "http_header_vary_age                              0.0400  "
      ]
     },
     "metadata": {},
     "output_type": "display_data"
    }
   ],
   "source": [
    "df_sel=df[http_columns]\n",
    "\n",
    "cat_var_js,num_var_js=check_cat(df_sel)\n",
    "\n",
    "print(\"Stats for numerical features for HTML experiment\\n\")\n",
    "num_stats_js=num_stats(df_sel,num_var_js)\n",
    "display(num_stats_js)\n",
    "print(\"\\nStats for Categorical features for HTML experiment\\n\")\n",
    "cat_stats_js=cat_stats(df_sel,cat_var_js)\n",
    "display(cat_stats_js)"
   ]
  },
  {
   "cell_type": "markdown",
   "metadata": {},
   "source": [
    "#### The ttest conduncted supports the results of point biserial correlation. \n",
    "\n",
    "#### Hence, we see that all the features we selected are related to the dependent variable.\n",
    "\n",
    "### Lets start by building some basic models "
   ]
  },
  {
   "cell_type": "code",
   "execution_count": 13,
   "metadata": {},
   "outputs": [
    {
     "name": "stdout",
     "output_type": "stream",
     "text": [
      "Features we will be using:\n"
     ]
    },
    {
     "data": {
      "text/plain": [
       "['http_header_cache-control_set_max-age',\n",
       " 'http_header_cache-control_set_must-revalidate',\n",
       " 'http_header_cache-control_set_no-cache',\n",
       " 'http_header_cache-control_set_no-store',\n",
       " 'http_header_cache-control_set_private',\n",
       " 'http_header_cache-control_set_public',\n",
       " 'http_header_connection_close',\n",
       " 'http_header_connection_keep-alive',\n",
       " 'http_header_content-encoding_gzip',\n",
       " 'http_header_content-language_text/html',\n",
       " 'http_header_content-length',\n",
       " 'http_header_expect-ctmax-age',\n",
       " 'http_header_pragmano-cache',\n",
       " 'http_header_server_apache',\n",
       " 'http_header_server_nginx',\n",
       " 'http_header_strict-transport-security_max-age',\n",
       " 'http_header_transfer-encoding_chunked',\n",
       " 'http_header_vary_accept',\n",
       " 'http_header_vary_age',\n",
       " 'http_header_via_1.1',\n",
       " 'http_header_x-cintent-type-options_nosniff',\n",
       " 'http_header_x-xss-enabled']"
      ]
     },
     "metadata": {},
     "output_type": "display_data"
    }
   ],
   "source": [
    "print(\"Features we will be using:\")\n",
    "http_columns.remove('Target')\n",
    "display(http_columns)"
   ]
  },
  {
   "cell_type": "code",
   "execution_count": 14,
   "metadata": {},
   "outputs": [
    {
     "name": "stdout",
     "output_type": "stream",
     "text": [
      "The train/test split ratio is 80:20\n"
     ]
    }
   ],
   "source": [
    "### Preparing our training and test sets\n",
    "X=df[http_columns].values\n",
    "y=df.Target.values\n",
    "\n",
    "scaler=StandardScaler()\n",
    "scaled_X=scaler.fit_transform(X)\n",
    "\n",
    "print(\"The train/test split ratio is 80:20\")\n",
    "X_train, X_test, Y_train, Y_test = train_test_split(scaled_X,y,random_state=0,test_size=0.2)"
   ]
  },
  {
   "cell_type": "code",
   "execution_count": 15,
   "metadata": {
    "collapsed": true
   },
   "outputs": [],
   "source": [
    "f=[KNN_model,Logistic_model,RandomForest,AdaBoost,GradientBoosting, ExtraTree,Bagging,DeepLearning1]"
   ]
  },
  {
   "cell_type": "code",
   "execution_count": 16,
   "metadata": {
    "collapsed": true
   },
   "outputs": [],
   "source": [
    "## Table to store training and test measures\n",
    "table_80_50_train=pd.DataFrame(columns=['accuracy','TP','TN','FP','FN','FPR','FNR'])\n",
    "table_80_50_test=pd.DataFrame(columns=['accuracy','TP','TN','FP','FN','FPR','FNR','auc'])"
   ]
  },
  {
   "cell_type": "code",
   "execution_count": 19,
   "metadata": {
    "scrolled": false
   },
   "outputs": [
    {
     "name": "stdout",
     "output_type": "stream",
     "text": [
      "\u001b[1mK-Nearest Neighbors\u001b[0m\n",
      "Accuracy of the model for training data is: 0.897366699378\n",
      "Confusion Matrix for training data is:\n"
     ]
    },
    {
     "data": {
      "text/plain": [
       "Predicted  False  True  __all__\n",
       "Actual                         \n",
       "False      28596  3273    31869\n",
       "True         492  4323     4815\n",
       "__all__    29088  7596    36684"
      ]
     },
     "metadata": {},
     "output_type": "display_data"
    },
    {
     "name": "stdout",
     "output_type": "stream",
     "text": [
      "Accuracy of the model for test data is: 0.894461404274\n",
      "Confusion Matrix for test data is:\n"
     ]
    },
    {
     "data": {
      "text/plain": [
       "Predicted  False  True  __all__\n",
       "Actual                         \n",
       "False       7132   834     7966\n",
       "True         134  1072     1206\n",
       "__all__     7266  1906     9172"
      ]
     },
     "metadata": {},
     "output_type": "display_data"
    },
    {
     "name": "stdout",
     "output_type": "stream",
     "text": [
      "\n",
      "\n",
      "\u001b[1mLogistic Regression\u001b[0m\n",
      "Accuracy of the model for training data is: 0.883545960092\n",
      "Confusion Matrix for training data is:\n"
     ]
    },
    {
     "data": {
      "text/plain": [
       "Predicted  False  True  __all__\n",
       "Actual                         \n",
       "False      29132  2737    31869\n",
       "True        1535  3280     4815\n",
       "__all__    30667  6017    36684"
      ]
     },
     "metadata": {},
     "output_type": "display_data"
    },
    {
     "name": "stdout",
     "output_type": "stream",
     "text": [
      "Accuracy of the model for test data is: 0.886066288705\n",
      "Confusion Matrix for test data is:\n"
     ]
    },
    {
     "data": {
      "text/plain": [
       "Predicted  False  True  __all__\n",
       "Actual                         \n",
       "False       7297   669     7966\n",
       "True         376   830     1206\n",
       "__all__     7673  1499     9172"
      ]
     },
     "metadata": {},
     "output_type": "display_data"
    },
    {
     "name": "stdout",
     "output_type": "stream",
     "text": [
      "\n",
      "\n",
      "\u001b[1mRandomForest Classifier\u001b[0m\n",
      "Accuracy of the model for training data is: 0.919283611384\n",
      "Confusion Matrix for training data is:\n"
     ]
    },
    {
     "data": {
      "text/plain": [
       "Predicted  False  True  __all__\n",
       "Actual                         \n",
       "False      29389  2480    31869\n",
       "True         481  4334     4815\n",
       "__all__    29870  6814    36684"
      ]
     },
     "metadata": {},
     "output_type": "display_data"
    },
    {
     "name": "stdout",
     "output_type": "stream",
     "text": [
      "Accuracy of the model for test data is: 0.910270388138\n",
      "Confusion Matrix for test data is:\n"
     ]
    },
    {
     "data": {
      "text/plain": [
       "Predicted  False  True  __all__\n",
       "Actual                         \n",
       "False       7300   666     7966\n",
       "True         157  1049     1206\n",
       "__all__     7457  1715     9172"
      ]
     },
     "metadata": {},
     "output_type": "display_data"
    },
    {
     "data": {
      "application/vnd.plotly.v1+json": {
       "config": {
        "linkText": "Export to plot.ly",
        "plotlyServerURL": "https://plot.ly",
        "showLink": true
       },
       "data": [
        {
         "marker": {
          "color": "rgb(158,202,225)",
          "line": {
           "color": "rgb(8,48,107)",
           "width": 1.5
          }
         },
         "opacity": 0.6,
         "orientation": "h",
         "text": [
          0.3055,
          0.1361,
          0.1227,
          0.0871,
          0.0684,
          0.0406,
          0.0335,
          0.0325,
          0.0272,
          0.0256,
          0.0208,
          0.0156,
          0.0147,
          0.013,
          0.0106,
          0.0093,
          0.0089,
          0.0087,
          0.0065,
          0.0053,
          0.0051,
          0.0024
         ],
         "textposition": "outside",
         "type": "bar",
         "uid": "4a3557ae-6f27-47af-9c81-50d1c50633cc",
         "x": [
          0.30548129065163965,
          0.13609949310529545,
          0.1226579823182526,
          0.08708105277102254,
          0.06839046551916689,
          0.040645262314124034,
          0.03350147396172903,
          0.03250114501039513,
          0.027180286539418053,
          0.025556127964818525,
          0.02081169556151175,
          0.015570798528353667,
          0.014741962288175897,
          0.013005979598412746,
          0.010633397586323442,
          0.009260026739735673,
          0.008880768149830593,
          0.008728519215636185,
          0.006517241068340213,
          0.005267042260067967,
          0.005099440247479282,
          0.002388548600270582
         ],
         "y": [
          "http_header_content-length",
          "http_header_content-encoding_gzip",
          "http_header_content-language_text/html",
          "http_header_transfer-encoding_chunked",
          "http_header_vary_accept",
          "http_header_server_apache",
          "http_header_connection_keep-alive",
          "http_header_pragmano-cache",
          "http_header_cache-control_set_must-revalidate",
          "http_header_cache-control_set_max-age",
          "http_header_server_nginx",
          "http_header_connection_close",
          "http_header_x-cintent-type-options_nosniff",
          "http_header_cache-control_set_no-cache",
          "http_header_strict-transport-security_max-age",
          "http_header_expect-ctmax-age",
          "http_header_cache-control_set_private",
          "http_header_vary_age",
          "http_header_x-xss-enabled",
          "http_header_cache-control_set_no-store",
          "http_header_via_1.1",
          "http_header_cache-control_set_public"
         ]
        }
       ],
       "layout": {
        "autosize": false,
        "height": 1000,
        "width": 1000,
        "xaxis": {
         "tickfont": {
          "color": "black",
          "size": 12
         },
         "title": "Feature Importances"
        },
        "yaxis": {
         "automargin": true
        }
       }
      },
      "text/html": [
       "<div id=\"aa3668a5-4b9c-4c8c-a713-b8a8b4df7b7f\" style=\"height: 1000px; width: 1000px;\" class=\"plotly-graph-div\"></div><script type=\"text/javascript\">require([\"plotly\"], function(Plotly) { window.PLOTLYENV=window.PLOTLYENV || {};window.PLOTLYENV.BASE_URL=\"https://plot.ly\";Plotly.newPlot(\"aa3668a5-4b9c-4c8c-a713-b8a8b4df7b7f\", [{\"marker\": {\"color\": \"rgb(158,202,225)\", \"line\": {\"color\": \"rgb(8,48,107)\", \"width\": 1.5}}, \"opacity\": 0.6, \"orientation\": \"h\", \"text\": [0.3055, 0.1361, 0.1227, 0.0871, 0.0684, 0.0406, 0.0335, 0.0325, 0.0272, 0.0256, 0.0208, 0.0156, 0.0147, 0.013, 0.0106, 0.0093, 0.0089, 0.0087, 0.0065, 0.0053, 0.0051, 0.0024], \"textposition\": \"outside\", \"x\": [0.30548129065163965, 0.13609949310529545, 0.1226579823182526, 0.08708105277102254, 0.06839046551916689, 0.040645262314124034, 0.03350147396172903, 0.03250114501039513, 0.027180286539418053, 0.025556127964818525, 0.02081169556151175, 0.015570798528353667, 0.014741962288175897, 0.013005979598412746, 0.010633397586323442, 0.009260026739735673, 0.008880768149830593, 0.008728519215636185, 0.006517241068340213, 0.005267042260067967, 0.005099440247479282, 0.002388548600270582], \"y\": [\"http_header_content-length\", \"http_header_content-encoding_gzip\", \"http_header_content-language_text/html\", \"http_header_transfer-encoding_chunked\", \"http_header_vary_accept\", \"http_header_server_apache\", \"http_header_connection_keep-alive\", \"http_header_pragmano-cache\", \"http_header_cache-control_set_must-revalidate\", \"http_header_cache-control_set_max-age\", \"http_header_server_nginx\", \"http_header_connection_close\", \"http_header_x-cintent-type-options_nosniff\", \"http_header_cache-control_set_no-cache\", \"http_header_strict-transport-security_max-age\", \"http_header_expect-ctmax-age\", \"http_header_cache-control_set_private\", \"http_header_vary_age\", \"http_header_x-xss-enabled\", \"http_header_cache-control_set_no-store\", \"http_header_via_1.1\", \"http_header_cache-control_set_public\"], \"type\": \"bar\", \"uid\": \"4a3557ae-6f27-47af-9c81-50d1c50633cc\"}], {\"autosize\": false, \"height\": 1000, \"width\": 1000, \"xaxis\": {\"tickfont\": {\"color\": \"black\", \"size\": 12}, \"title\": \"Feature Importances\"}, \"yaxis\": {\"automargin\": true}}, {\"showLink\": true, \"linkText\": \"Export to plot.ly\", \"plotlyServerURL\": \"https://plot.ly\"})});</script>"
      ],
      "text/vnd.plotly.v1+html": [
       "<div id=\"aa3668a5-4b9c-4c8c-a713-b8a8b4df7b7f\" style=\"height: 1000px; width: 1000px;\" class=\"plotly-graph-div\"></div><script type=\"text/javascript\">require([\"plotly\"], function(Plotly) { window.PLOTLYENV=window.PLOTLYENV || {};window.PLOTLYENV.BASE_URL=\"https://plot.ly\";Plotly.newPlot(\"aa3668a5-4b9c-4c8c-a713-b8a8b4df7b7f\", [{\"marker\": {\"color\": \"rgb(158,202,225)\", \"line\": {\"color\": \"rgb(8,48,107)\", \"width\": 1.5}}, \"opacity\": 0.6, \"orientation\": \"h\", \"text\": [0.3055, 0.1361, 0.1227, 0.0871, 0.0684, 0.0406, 0.0335, 0.0325, 0.0272, 0.0256, 0.0208, 0.0156, 0.0147, 0.013, 0.0106, 0.0093, 0.0089, 0.0087, 0.0065, 0.0053, 0.0051, 0.0024], \"textposition\": \"outside\", \"x\": [0.30548129065163965, 0.13609949310529545, 0.1226579823182526, 0.08708105277102254, 0.06839046551916689, 0.040645262314124034, 0.03350147396172903, 0.03250114501039513, 0.027180286539418053, 0.025556127964818525, 0.02081169556151175, 0.015570798528353667, 0.014741962288175897, 0.013005979598412746, 0.010633397586323442, 0.009260026739735673, 0.008880768149830593, 0.008728519215636185, 0.006517241068340213, 0.005267042260067967, 0.005099440247479282, 0.002388548600270582], \"y\": [\"http_header_content-length\", \"http_header_content-encoding_gzip\", \"http_header_content-language_text/html\", \"http_header_transfer-encoding_chunked\", \"http_header_vary_accept\", \"http_header_server_apache\", \"http_header_connection_keep-alive\", \"http_header_pragmano-cache\", \"http_header_cache-control_set_must-revalidate\", \"http_header_cache-control_set_max-age\", \"http_header_server_nginx\", \"http_header_connection_close\", \"http_header_x-cintent-type-options_nosniff\", \"http_header_cache-control_set_no-cache\", \"http_header_strict-transport-security_max-age\", \"http_header_expect-ctmax-age\", \"http_header_cache-control_set_private\", \"http_header_vary_age\", \"http_header_x-xss-enabled\", \"http_header_cache-control_set_no-store\", \"http_header_via_1.1\", \"http_header_cache-control_set_public\"], \"type\": \"bar\", \"uid\": \"4a3557ae-6f27-47af-9c81-50d1c50633cc\"}], {\"autosize\": false, \"height\": 1000, \"width\": 1000, \"xaxis\": {\"tickfont\": {\"color\": \"black\", \"size\": 12}, \"title\": \"Feature Importances\"}, \"yaxis\": {\"automargin\": true}}, {\"showLink\": true, \"linkText\": \"Export to plot.ly\", \"plotlyServerURL\": \"https://plot.ly\"})});</script>"
      ]
     },
     "metadata": {},
     "output_type": "display_data"
    },
    {
     "name": "stdout",
     "output_type": "stream",
     "text": [
      "\n",
      "\n",
      "\u001b[1mAdaoost Classifier\u001b[0m\n",
      "Accuracy of the model for training data is: 0.895022353069\n",
      "Confusion Matrix for training data is:\n"
     ]
    },
    {
     "data": {
      "text/plain": [
       "Predicted  False  True  __all__\n",
       "Actual                         \n",
       "False      29326  2543    31869\n",
       "True        1308  3507     4815\n",
       "__all__    30634  6050    36684"
      ]
     },
     "metadata": {},
     "output_type": "display_data"
    },
    {
     "name": "stdout",
     "output_type": "stream",
     "text": [
      "Accuracy of the model for test data is: 0.896314871348\n",
      "Confusion Matrix for test data is:\n"
     ]
    },
    {
     "data": {
      "text/plain": [
       "Predicted  False  True  __all__\n",
       "Actual                         \n",
       "False       7333   633     7966\n",
       "True         318   888     1206\n",
       "__all__     7651  1521     9172"
      ]
     },
     "metadata": {},
     "output_type": "display_data"
    },
    {
     "data": {
      "application/vnd.plotly.v1+json": {
       "config": {
        "linkText": "Export to plot.ly",
        "plotlyServerURL": "https://plot.ly",
        "showLink": true
       },
       "data": [
        {
         "marker": {
          "color": "rgb(158,202,225)",
          "line": {
           "color": "rgb(8,48,107)",
           "width": 1.5
          }
         },
         "opacity": 0.6,
         "orientation": "h",
         "text": [
          0.46,
          0.12,
          0.06,
          0.06,
          0.04,
          0.04,
          0.04,
          0.04,
          0.02,
          0.02,
          0.02,
          0.02,
          0.02,
          0.02,
          0.02,
          0,
          0,
          0,
          0,
          0,
          0,
          0
         ],
         "textposition": "outside",
         "type": "bar",
         "uid": "1507a0db-009b-4bc1-9efa-319605ab2595",
         "x": [
          0.46,
          0.12,
          0.06,
          0.06,
          0.04,
          0.04,
          0.04,
          0.04,
          0.02,
          0.02,
          0.02,
          0.02,
          0.02,
          0.02,
          0.02,
          0,
          0,
          0,
          0,
          0,
          0,
          0
         ],
         "y": [
          "http_header_content-length",
          "http_header_content-encoding_gzip",
          "http_header_cache-control_set_no-store",
          "http_header_transfer-encoding_chunked",
          "http_header_cache-control_set_max-age",
          "http_header_pragmano-cache",
          "http_header_x-cintent-type-options_nosniff",
          "http_header_vary_accept",
          "http_header_via_1.1",
          "http_header_strict-transport-security_max-age",
          "http_header_server_nginx",
          "http_header_server_apache",
          "http_header_expect-ctmax-age",
          "http_header_connection_keep-alive",
          "http_header_cache-control_set_private",
          "http_header_cache-control_set_must-revalidate",
          "http_header_content-language_text/html",
          "http_header_connection_close",
          "http_header_cache-control_set_public",
          "http_header_vary_age",
          "http_header_cache-control_set_no-cache",
          "http_header_x-xss-enabled"
         ]
        }
       ],
       "layout": {
        "autosize": false,
        "height": 1000,
        "width": 1000,
        "xaxis": {
         "tickfont": {
          "color": "black",
          "size": 12
         },
         "title": "Feature Importances"
        },
        "yaxis": {
         "automargin": true
        }
       }
      },
      "text/html": [
       "<div id=\"60ecebdf-1724-4baa-a42f-e4ab80cdc685\" style=\"height: 1000px; width: 1000px;\" class=\"plotly-graph-div\"></div><script type=\"text/javascript\">require([\"plotly\"], function(Plotly) { window.PLOTLYENV=window.PLOTLYENV || {};window.PLOTLYENV.BASE_URL=\"https://plot.ly\";Plotly.newPlot(\"60ecebdf-1724-4baa-a42f-e4ab80cdc685\", [{\"marker\": {\"color\": \"rgb(158,202,225)\", \"line\": {\"color\": \"rgb(8,48,107)\", \"width\": 1.5}}, \"opacity\": 0.6, \"orientation\": \"h\", \"text\": [0.46, 0.12, 0.06, 0.06, 0.04, 0.04, 0.04, 0.04, 0.02, 0.02, 0.02, 0.02, 0.02, 0.02, 0.02, 0.0, 0.0, 0.0, 0.0, 0.0, 0.0, 0.0], \"textposition\": \"outside\", \"x\": [0.46, 0.12, 0.06, 0.06, 0.04, 0.04, 0.04, 0.04, 0.02, 0.02, 0.02, 0.02, 0.02, 0.02, 0.02, 0.0, 0.0, 0.0, 0.0, 0.0, 0.0, 0.0], \"y\": [\"http_header_content-length\", \"http_header_content-encoding_gzip\", \"http_header_cache-control_set_no-store\", \"http_header_transfer-encoding_chunked\", \"http_header_cache-control_set_max-age\", \"http_header_pragmano-cache\", \"http_header_x-cintent-type-options_nosniff\", \"http_header_vary_accept\", \"http_header_via_1.1\", \"http_header_strict-transport-security_max-age\", \"http_header_server_nginx\", \"http_header_server_apache\", \"http_header_expect-ctmax-age\", \"http_header_connection_keep-alive\", \"http_header_cache-control_set_private\", \"http_header_cache-control_set_must-revalidate\", \"http_header_content-language_text/html\", \"http_header_connection_close\", \"http_header_cache-control_set_public\", \"http_header_vary_age\", \"http_header_cache-control_set_no-cache\", \"http_header_x-xss-enabled\"], \"type\": \"bar\", \"uid\": \"1507a0db-009b-4bc1-9efa-319605ab2595\"}], {\"autosize\": false, \"height\": 1000, \"width\": 1000, \"xaxis\": {\"tickfont\": {\"color\": \"black\", \"size\": 12}, \"title\": \"Feature Importances\"}, \"yaxis\": {\"automargin\": true}}, {\"showLink\": true, \"linkText\": \"Export to plot.ly\", \"plotlyServerURL\": \"https://plot.ly\"})});</script>"
      ],
      "text/vnd.plotly.v1+html": [
       "<div id=\"60ecebdf-1724-4baa-a42f-e4ab80cdc685\" style=\"height: 1000px; width: 1000px;\" class=\"plotly-graph-div\"></div><script type=\"text/javascript\">require([\"plotly\"], function(Plotly) { window.PLOTLYENV=window.PLOTLYENV || {};window.PLOTLYENV.BASE_URL=\"https://plot.ly\";Plotly.newPlot(\"60ecebdf-1724-4baa-a42f-e4ab80cdc685\", [{\"marker\": {\"color\": \"rgb(158,202,225)\", \"line\": {\"color\": \"rgb(8,48,107)\", \"width\": 1.5}}, \"opacity\": 0.6, \"orientation\": \"h\", \"text\": [0.46, 0.12, 0.06, 0.06, 0.04, 0.04, 0.04, 0.04, 0.02, 0.02, 0.02, 0.02, 0.02, 0.02, 0.02, 0.0, 0.0, 0.0, 0.0, 0.0, 0.0, 0.0], \"textposition\": \"outside\", \"x\": [0.46, 0.12, 0.06, 0.06, 0.04, 0.04, 0.04, 0.04, 0.02, 0.02, 0.02, 0.02, 0.02, 0.02, 0.02, 0.0, 0.0, 0.0, 0.0, 0.0, 0.0, 0.0], \"y\": [\"http_header_content-length\", \"http_header_content-encoding_gzip\", \"http_header_cache-control_set_no-store\", \"http_header_transfer-encoding_chunked\", \"http_header_cache-control_set_max-age\", \"http_header_pragmano-cache\", \"http_header_x-cintent-type-options_nosniff\", \"http_header_vary_accept\", \"http_header_via_1.1\", \"http_header_strict-transport-security_max-age\", \"http_header_server_nginx\", \"http_header_server_apache\", \"http_header_expect-ctmax-age\", \"http_header_connection_keep-alive\", \"http_header_cache-control_set_private\", \"http_header_cache-control_set_must-revalidate\", \"http_header_content-language_text/html\", \"http_header_connection_close\", \"http_header_cache-control_set_public\", \"http_header_vary_age\", \"http_header_cache-control_set_no-cache\", \"http_header_x-xss-enabled\"], \"type\": \"bar\", \"uid\": \"1507a0db-009b-4bc1-9efa-319605ab2595\"}], {\"autosize\": false, \"height\": 1000, \"width\": 1000, \"xaxis\": {\"tickfont\": {\"color\": \"black\", \"size\": 12}, \"title\": \"Feature Importances\"}, \"yaxis\": {\"automargin\": true}}, {\"showLink\": true, \"linkText\": \"Export to plot.ly\", \"plotlyServerURL\": \"https://plot.ly\"})});</script>"
      ]
     },
     "metadata": {},
     "output_type": "display_data"
    },
    {
     "name": "stdout",
     "output_type": "stream",
     "text": [
      "\n",
      "\n",
      "\u001b[1mGradientBoosting Classifier\u001b[0m\n",
      "Accuracy of the model for training data is: 0.906553265729\n",
      "Confusion Matrix for training data is:\n"
     ]
    },
    {
     "data": {
      "text/plain": [
       "Predicted  False  True  __all__\n",
       "Actual                         \n",
       "False      29367  2502    31869\n",
       "True         926  3889     4815\n",
       "__all__    30293  6391    36684"
      ]
     },
     "metadata": {},
     "output_type": "display_data"
    },
    {
     "name": "stdout",
     "output_type": "stream",
     "text": [
      "Accuracy of the model for test data is: 0.908198866114\n",
      "Confusion Matrix for test data is:\n"
     ]
    },
    {
     "data": {
      "text/plain": [
       "Predicted  False  True  __all__\n",
       "Actual                         \n",
       "False       7339   627     7966\n",
       "True         215   991     1206\n",
       "__all__     7554  1618     9172"
      ]
     },
     "metadata": {},
     "output_type": "display_data"
    },
    {
     "data": {
      "application/vnd.plotly.v1+json": {
       "config": {
        "linkText": "Export to plot.ly",
        "plotlyServerURL": "https://plot.ly",
        "showLink": true
       },
       "data": [
        {
         "marker": {
          "color": "rgb(158,202,225)",
          "line": {
           "color": "rgb(8,48,107)",
           "width": 1.5
          }
         },
         "opacity": 0.6,
         "orientation": "h",
         "text": [
          0.4655,
          0.2934,
          0.0703,
          0.0593,
          0.0561,
          0.012,
          0.0086,
          0.008,
          0.0059,
          0.0048,
          0.0036,
          0.0032,
          0.0017,
          0.0016,
          0.0016,
          0.0013,
          0.0007,
          0.0007,
          0.0006,
          0.0006,
          0.0003,
          0.0002
         ],
         "textposition": "outside",
         "type": "bar",
         "uid": "2d58ad4b-8173-4126-ae17-f5c61a69313c",
         "x": [
          0.46554941855616416,
          0.2934043337102596,
          0.0702671072313015,
          0.05928110334176161,
          0.05608526585740234,
          0.01204414726835232,
          0.00856612983812535,
          0.008016619377787582,
          0.005873188107131614,
          0.004816688147385137,
          0.003579697804343741,
          0.00318226552663279,
          0.0017449620535575458,
          0.001642314930574745,
          0.001577136367710826,
          0.0013300229651483084,
          0.00067640526840732,
          0.0006669969807790527,
          0.0006245315549569724,
          0.0005971890691686864,
          0.0003230743541451312,
          0.00015140168890358832
         ],
         "y": [
          "http_header_content-encoding_gzip",
          "http_header_content-length",
          "http_header_transfer-encoding_chunked",
          "http_header_server_apache",
          "http_header_content-language_text/html",
          "http_header_cache-control_set_must-revalidate",
          "http_header_connection_keep-alive",
          "http_header_pragmano-cache",
          "http_header_cache-control_set_max-age",
          "http_header_vary_age",
          "http_header_connection_close",
          "http_header_server_nginx",
          "http_header_cache-control_set_no-cache",
          "http_header_via_1.1",
          "http_header_vary_accept",
          "http_header_cache-control_set_no-store",
          "http_header_strict-transport-security_max-age",
          "http_header_expect-ctmax-age",
          "http_header_cache-control_set_private",
          "http_header_x-cintent-type-options_nosniff",
          "http_header_x-xss-enabled",
          "http_header_cache-control_set_public"
         ]
        }
       ],
       "layout": {
        "autosize": false,
        "height": 1000,
        "width": 1000,
        "xaxis": {
         "tickfont": {
          "color": "black",
          "size": 12
         },
         "title": "Feature Importances"
        },
        "yaxis": {
         "automargin": true
        }
       }
      },
      "text/html": [
       "<div id=\"7cca86f9-adc5-4754-ac10-da77c648868a\" style=\"height: 1000px; width: 1000px;\" class=\"plotly-graph-div\"></div><script type=\"text/javascript\">require([\"plotly\"], function(Plotly) { window.PLOTLYENV=window.PLOTLYENV || {};window.PLOTLYENV.BASE_URL=\"https://plot.ly\";Plotly.newPlot(\"7cca86f9-adc5-4754-ac10-da77c648868a\", [{\"marker\": {\"color\": \"rgb(158,202,225)\", \"line\": {\"color\": \"rgb(8,48,107)\", \"width\": 1.5}}, \"opacity\": 0.6, \"orientation\": \"h\", \"text\": [0.4655, 0.2934, 0.0703, 0.0593, 0.0561, 0.012, 0.0086, 0.008, 0.0059, 0.0048, 0.0036, 0.0032, 0.0017, 0.0016, 0.0016, 0.0013, 0.0007, 0.0007, 0.0006, 0.0006, 0.0003, 0.0002], \"textposition\": \"outside\", \"x\": [0.46554941855616416, 0.2934043337102596, 0.0702671072313015, 0.05928110334176161, 0.05608526585740234, 0.01204414726835232, 0.00856612983812535, 0.008016619377787582, 0.005873188107131614, 0.004816688147385137, 0.003579697804343741, 0.00318226552663279, 0.0017449620535575458, 0.001642314930574745, 0.001577136367710826, 0.0013300229651483084, 0.00067640526840732, 0.0006669969807790527, 0.0006245315549569724, 0.0005971890691686864, 0.0003230743541451312, 0.00015140168890358832], \"y\": [\"http_header_content-encoding_gzip\", \"http_header_content-length\", \"http_header_transfer-encoding_chunked\", \"http_header_server_apache\", \"http_header_content-language_text/html\", \"http_header_cache-control_set_must-revalidate\", \"http_header_connection_keep-alive\", \"http_header_pragmano-cache\", \"http_header_cache-control_set_max-age\", \"http_header_vary_age\", \"http_header_connection_close\", \"http_header_server_nginx\", \"http_header_cache-control_set_no-cache\", \"http_header_via_1.1\", \"http_header_vary_accept\", \"http_header_cache-control_set_no-store\", \"http_header_strict-transport-security_max-age\", \"http_header_expect-ctmax-age\", \"http_header_cache-control_set_private\", \"http_header_x-cintent-type-options_nosniff\", \"http_header_x-xss-enabled\", \"http_header_cache-control_set_public\"], \"type\": \"bar\", \"uid\": \"2d58ad4b-8173-4126-ae17-f5c61a69313c\"}], {\"autosize\": false, \"height\": 1000, \"width\": 1000, \"xaxis\": {\"tickfont\": {\"color\": \"black\", \"size\": 12}, \"title\": \"Feature Importances\"}, \"yaxis\": {\"automargin\": true}}, {\"showLink\": true, \"linkText\": \"Export to plot.ly\", \"plotlyServerURL\": \"https://plot.ly\"})});</script>"
      ],
      "text/vnd.plotly.v1+html": [
       "<div id=\"7cca86f9-adc5-4754-ac10-da77c648868a\" style=\"height: 1000px; width: 1000px;\" class=\"plotly-graph-div\"></div><script type=\"text/javascript\">require([\"plotly\"], function(Plotly) { window.PLOTLYENV=window.PLOTLYENV || {};window.PLOTLYENV.BASE_URL=\"https://plot.ly\";Plotly.newPlot(\"7cca86f9-adc5-4754-ac10-da77c648868a\", [{\"marker\": {\"color\": \"rgb(158,202,225)\", \"line\": {\"color\": \"rgb(8,48,107)\", \"width\": 1.5}}, \"opacity\": 0.6, \"orientation\": \"h\", \"text\": [0.4655, 0.2934, 0.0703, 0.0593, 0.0561, 0.012, 0.0086, 0.008, 0.0059, 0.0048, 0.0036, 0.0032, 0.0017, 0.0016, 0.0016, 0.0013, 0.0007, 0.0007, 0.0006, 0.0006, 0.0003, 0.0002], \"textposition\": \"outside\", \"x\": [0.46554941855616416, 0.2934043337102596, 0.0702671072313015, 0.05928110334176161, 0.05608526585740234, 0.01204414726835232, 0.00856612983812535, 0.008016619377787582, 0.005873188107131614, 0.004816688147385137, 0.003579697804343741, 0.00318226552663279, 0.0017449620535575458, 0.001642314930574745, 0.001577136367710826, 0.0013300229651483084, 0.00067640526840732, 0.0006669969807790527, 0.0006245315549569724, 0.0005971890691686864, 0.0003230743541451312, 0.00015140168890358832], \"y\": [\"http_header_content-encoding_gzip\", \"http_header_content-length\", \"http_header_transfer-encoding_chunked\", \"http_header_server_apache\", \"http_header_content-language_text/html\", \"http_header_cache-control_set_must-revalidate\", \"http_header_connection_keep-alive\", \"http_header_pragmano-cache\", \"http_header_cache-control_set_max-age\", \"http_header_vary_age\", \"http_header_connection_close\", \"http_header_server_nginx\", \"http_header_cache-control_set_no-cache\", \"http_header_via_1.1\", \"http_header_vary_accept\", \"http_header_cache-control_set_no-store\", \"http_header_strict-transport-security_max-age\", \"http_header_expect-ctmax-age\", \"http_header_cache-control_set_private\", \"http_header_x-cintent-type-options_nosniff\", \"http_header_x-xss-enabled\", \"http_header_cache-control_set_public\"], \"type\": \"bar\", \"uid\": \"2d58ad4b-8173-4126-ae17-f5c61a69313c\"}], {\"autosize\": false, \"height\": 1000, \"width\": 1000, \"xaxis\": {\"tickfont\": {\"color\": \"black\", \"size\": 12}, \"title\": \"Feature Importances\"}, \"yaxis\": {\"automargin\": true}}, {\"showLink\": true, \"linkText\": \"Export to plot.ly\", \"plotlyServerURL\": \"https://plot.ly\"})});</script>"
      ]
     },
     "metadata": {},
     "output_type": "display_data"
    },
    {
     "name": "stdout",
     "output_type": "stream",
     "text": [
      "\n",
      "\n",
      "\u001b[1mExtraTree Classifier\u001b[0m\n",
      "Accuracy of the model for training data is: 0.920755642787\n",
      "Confusion Matrix for training data is:\n"
     ]
    },
    {
     "data": {
      "text/plain": [
       "Predicted  False  True  __all__\n",
       "Actual                         \n",
       "False      29403  2466    31869\n",
       "True         441  4374     4815\n",
       "__all__    29844  6840    36684"
      ]
     },
     "metadata": {},
     "output_type": "display_data"
    },
    {
     "name": "stdout",
     "output_type": "stream",
     "text": [
      "Accuracy of the model for test data is: 0.909180113389\n",
      "Confusion Matrix for test data is:\n"
     ]
    },
    {
     "data": {
      "text/plain": [
       "Predicted  False  True  __all__\n",
       "Actual                         \n",
       "False       7291   675     7966\n",
       "True         158  1048     1206\n",
       "__all__     7449  1723     9172"
      ]
     },
     "metadata": {},
     "output_type": "display_data"
    },
    {
     "data": {
      "application/vnd.plotly.v1+json": {
       "config": {
        "linkText": "Export to plot.ly",
        "plotlyServerURL": "https://plot.ly",
        "showLink": true
       },
       "data": [
        {
         "marker": {
          "color": "rgb(158,202,225)",
          "line": {
           "color": "rgb(8,48,107)",
           "width": 1.5
          }
         },
         "opacity": 0.6,
         "orientation": "h",
         "text": [
          0.2294,
          0.1706,
          0.1655,
          0.0589,
          0.0529,
          0.0475,
          0.0337,
          0.0274,
          0.0269,
          0.0245,
          0.0243,
          0.0211,
          0.02,
          0.02,
          0.0193,
          0.0171,
          0.0115,
          0.0089,
          0.0077,
          0.0055,
          0.0041,
          0.0032
         ],
         "textposition": "outside",
         "type": "bar",
         "uid": "44edce64-a964-4054-af8e-df7fded703e8",
         "x": [
          0.22935997232785685,
          0.17058608230877487,
          0.16552195743040043,
          0.05891661431213015,
          0.052943410939387946,
          0.047465021239261496,
          0.03366283850159689,
          0.027438206286721854,
          0.026940896702295963,
          0.02445242836139546,
          0.024312123435342767,
          0.021051417818648756,
          0.02000391200140711,
          0.019981619759445172,
          0.019328951210170787,
          0.01713755830898957,
          0.011472285103202553,
          0.008875777720902974,
          0.007726629069687588,
          0.005523576413552356,
          0.0040550144545301176,
          0.0032437062942983624
         ],
         "y": [
          "http_header_content-length",
          "http_header_content-language_text/html",
          "http_header_content-encoding_gzip",
          "http_header_transfer-encoding_chunked",
          "http_header_server_apache",
          "http_header_connection_keep-alive",
          "http_header_vary_accept",
          "http_header_cache-control_set_private",
          "http_header_cache-control_set_max-age",
          "http_header_pragmano-cache",
          "http_header_connection_close",
          "http_header_cache-control_set_no-store",
          "http_header_vary_age",
          "http_header_server_nginx",
          "http_header_cache-control_set_no-cache",
          "http_header_cache-control_set_must-revalidate",
          "http_header_via_1.1",
          "http_header_strict-transport-security_max-age",
          "http_header_x-xss-enabled",
          "http_header_x-cintent-type-options_nosniff",
          "http_header_cache-control_set_public",
          "http_header_expect-ctmax-age"
         ]
        }
       ],
       "layout": {
        "autosize": false,
        "height": 1000,
        "width": 1000,
        "xaxis": {
         "tickfont": {
          "color": "black",
          "size": 12
         },
         "title": "Feature Importances"
        },
        "yaxis": {
         "automargin": true
        }
       }
      },
      "text/html": [
       "<div id=\"bb5f5d54-bb60-428a-b1bf-d08c2687d389\" style=\"height: 1000px; width: 1000px;\" class=\"plotly-graph-div\"></div><script type=\"text/javascript\">require([\"plotly\"], function(Plotly) { window.PLOTLYENV=window.PLOTLYENV || {};window.PLOTLYENV.BASE_URL=\"https://plot.ly\";Plotly.newPlot(\"bb5f5d54-bb60-428a-b1bf-d08c2687d389\", [{\"marker\": {\"color\": \"rgb(158,202,225)\", \"line\": {\"color\": \"rgb(8,48,107)\", \"width\": 1.5}}, \"opacity\": 0.6, \"orientation\": \"h\", \"text\": [0.2294, 0.1706, 0.1655, 0.0589, 0.0529, 0.0475, 0.0337, 0.0274, 0.0269, 0.0245, 0.0243, 0.0211, 0.02, 0.02, 0.0193, 0.0171, 0.0115, 0.0089, 0.0077, 0.0055, 0.0041, 0.0032], \"textposition\": \"outside\", \"x\": [0.22935997232785685, 0.17058608230877487, 0.16552195743040043, 0.05891661431213015, 0.052943410939387946, 0.047465021239261496, 0.03366283850159689, 0.027438206286721854, 0.026940896702295963, 0.02445242836139546, 0.024312123435342767, 0.021051417818648756, 0.02000391200140711, 0.019981619759445172, 0.019328951210170787, 0.01713755830898957, 0.011472285103202553, 0.008875777720902974, 0.007726629069687588, 0.005523576413552356, 0.0040550144545301176, 0.0032437062942983624], \"y\": [\"http_header_content-length\", \"http_header_content-language_text/html\", \"http_header_content-encoding_gzip\", \"http_header_transfer-encoding_chunked\", \"http_header_server_apache\", \"http_header_connection_keep-alive\", \"http_header_vary_accept\", \"http_header_cache-control_set_private\", \"http_header_cache-control_set_max-age\", \"http_header_pragmano-cache\", \"http_header_connection_close\", \"http_header_cache-control_set_no-store\", \"http_header_vary_age\", \"http_header_server_nginx\", \"http_header_cache-control_set_no-cache\", \"http_header_cache-control_set_must-revalidate\", \"http_header_via_1.1\", \"http_header_strict-transport-security_max-age\", \"http_header_x-xss-enabled\", \"http_header_x-cintent-type-options_nosniff\", \"http_header_cache-control_set_public\", \"http_header_expect-ctmax-age\"], \"type\": \"bar\", \"uid\": \"44edce64-a964-4054-af8e-df7fded703e8\"}], {\"autosize\": false, \"height\": 1000, \"width\": 1000, \"xaxis\": {\"tickfont\": {\"color\": \"black\", \"size\": 12}, \"title\": \"Feature Importances\"}, \"yaxis\": {\"automargin\": true}}, {\"showLink\": true, \"linkText\": \"Export to plot.ly\", \"plotlyServerURL\": \"https://plot.ly\"})});</script>"
      ],
      "text/vnd.plotly.v1+html": [
       "<div id=\"bb5f5d54-bb60-428a-b1bf-d08c2687d389\" style=\"height: 1000px; width: 1000px;\" class=\"plotly-graph-div\"></div><script type=\"text/javascript\">require([\"plotly\"], function(Plotly) { window.PLOTLYENV=window.PLOTLYENV || {};window.PLOTLYENV.BASE_URL=\"https://plot.ly\";Plotly.newPlot(\"bb5f5d54-bb60-428a-b1bf-d08c2687d389\", [{\"marker\": {\"color\": \"rgb(158,202,225)\", \"line\": {\"color\": \"rgb(8,48,107)\", \"width\": 1.5}}, \"opacity\": 0.6, \"orientation\": \"h\", \"text\": [0.2294, 0.1706, 0.1655, 0.0589, 0.0529, 0.0475, 0.0337, 0.0274, 0.0269, 0.0245, 0.0243, 0.0211, 0.02, 0.02, 0.0193, 0.0171, 0.0115, 0.0089, 0.0077, 0.0055, 0.0041, 0.0032], \"textposition\": \"outside\", \"x\": [0.22935997232785685, 0.17058608230877487, 0.16552195743040043, 0.05891661431213015, 0.052943410939387946, 0.047465021239261496, 0.03366283850159689, 0.027438206286721854, 0.026940896702295963, 0.02445242836139546, 0.024312123435342767, 0.021051417818648756, 0.02000391200140711, 0.019981619759445172, 0.019328951210170787, 0.01713755830898957, 0.011472285103202553, 0.008875777720902974, 0.007726629069687588, 0.005523576413552356, 0.0040550144545301176, 0.0032437062942983624], \"y\": [\"http_header_content-length\", \"http_header_content-language_text/html\", \"http_header_content-encoding_gzip\", \"http_header_transfer-encoding_chunked\", \"http_header_server_apache\", \"http_header_connection_keep-alive\", \"http_header_vary_accept\", \"http_header_cache-control_set_private\", \"http_header_cache-control_set_max-age\", \"http_header_pragmano-cache\", \"http_header_connection_close\", \"http_header_cache-control_set_no-store\", \"http_header_vary_age\", \"http_header_server_nginx\", \"http_header_cache-control_set_no-cache\", \"http_header_cache-control_set_must-revalidate\", \"http_header_via_1.1\", \"http_header_strict-transport-security_max-age\", \"http_header_x-xss-enabled\", \"http_header_x-cintent-type-options_nosniff\", \"http_header_cache-control_set_public\", \"http_header_expect-ctmax-age\"], \"type\": \"bar\", \"uid\": \"44edce64-a964-4054-af8e-df7fded703e8\"}], {\"autosize\": false, \"height\": 1000, \"width\": 1000, \"xaxis\": {\"tickfont\": {\"color\": \"black\", \"size\": 12}, \"title\": \"Feature Importances\"}, \"yaxis\": {\"automargin\": true}}, {\"showLink\": true, \"linkText\": \"Export to plot.ly\", \"plotlyServerURL\": \"https://plot.ly\"})});</script>"
      ]
     },
     "metadata": {},
     "output_type": "display_data"
    },
    {
     "name": "stdout",
     "output_type": "stream",
     "text": [
      "\n",
      "\n",
      "\u001b[1mBagging Classifier\u001b[0m\n",
      "Accuracy of the model for training data is: 0.918874713772\n",
      "Confusion Matrix for training data is:\n"
     ]
    },
    {
     "data": {
      "text/plain": [
       "Predicted  False  True  __all__\n",
       "Actual                         \n",
       "False      29383  2486    31869\n",
       "True         490  4325     4815\n",
       "__all__    29873  6811    36684"
      ]
     },
     "metadata": {},
     "output_type": "display_data"
    },
    {
     "name": "stdout",
     "output_type": "stream",
     "text": [
      "Accuracy of the model for test data is: 0.910924552987\n",
      "Confusion Matrix for test data is:\n"
     ]
    },
    {
     "data": {
      "text/plain": [
       "Predicted  False  True  __all__\n",
       "Actual                         \n",
       "False       7313   653     7966\n",
       "True         164  1042     1206\n",
       "__all__     7477  1695     9172"
      ]
     },
     "metadata": {},
     "output_type": "display_data"
    },
    {
     "name": "stdout",
     "output_type": "stream",
     "text": [
      "\n",
      "\n",
      "\u001b[1mNeural Network-1\u001b[0m\n",
      "The accuracy of the model on training data is: 0.906853123984\n"
     ]
    },
    {
     "data": {
      "text/plain": [
       "Predicted  False  True  __all__\n",
       "Actual                         \n",
       "False      29209  2660    31869\n",
       "True         757  4058     4815\n",
       "__all__    29966  6718    36684"
      ]
     },
     "metadata": {},
     "output_type": "display_data"
    },
    {
     "name": "stdout",
     "output_type": "stream",
     "text": [
      "The accuracy of the model on test data is: 0.90656345399\n"
     ]
    },
    {
     "data": {
      "text/plain": [
       "Predicted  False  True  __all__\n",
       "Actual                         \n",
       "False       7290   676     7966\n",
       "True         181  1025     1206\n",
       "__all__     7471  1701     9172"
      ]
     },
     "metadata": {},
     "output_type": "display_data"
    },
    {
     "name": "stdout",
     "output_type": "stream",
     "text": [
      "\n",
      "\n"
     ]
    }
   ],
   "source": [
    "feat_imp=[None]*4\n",
    "j=0\n",
    "for i in range(0,8):\n",
    "    if i>=2 and i<=5:\n",
    "        model,cm_train,cm_test,acc_train,acc_test,roc_auc,feat_imp[j]=f[i](X_train,Y_train,X_test,Y_test,http_columns)\n",
    "        j=j+1\n",
    "    else:\n",
    "        model,cm_train,cm_test,acc_train,acc_test,roc_auc=f[i](X_train,Y_train,X_test,Y_test)\n",
    "    table_80_50_train.loc[i]=   ([acc_train,cm_train.TP,cm_train.TN,cm_train.FP,cm_train.FN,cm_train.FPR,cm_train.FNR])\n",
    "    table_80_50_test.loc[i] =   ([acc_test ,cm_test.TP, cm_test.TN, cm_test.FP, cm_test.FN, cm_test.FPR, cm_test.FNR,roc_auc])\n",
    "    print(\"\\n\")"
   ]
  },
  {
   "cell_type": "markdown",
   "metadata": {},
   "source": [
    "### <a id='1.A' style=\"text-decoration : none; color : #000000;\"> A Results</a>"
   ]
  },
  {
   "cell_type": "code",
   "execution_count": 20,
   "metadata": {},
   "outputs": [
    {
     "data": {
      "application/vnd.plotly.v1+json": {
       "config": {
        "linkText": "Export to plot.ly",
        "plotlyServerURL": "https://plot.ly",
        "showLink": true
       },
       "data": [
        {
         "mode": "lines",
         "name": "KNN_model",
         "type": "scatter",
         "uid": "21d20a10-dfcb-461c-990c-5f716c863f96",
         "x": [
          "accuracy",
          "FPR",
          "FNR",
          "auc"
         ],
         "y": [
          0.894461404273877,
          0.10469495355259854,
          0.1111111111111111,
          0.8920969676681452
         ]
        },
        {
         "mode": "lines+markers",
         "name": "Logistic Regression",
         "type": "scatter",
         "uid": "791d3d4c-fcc1-4ba6-bb60-deb95198590f",
         "x": [
          "accuracy",
          "FPR",
          "FNR",
          "auc"
         ],
         "y": [
          0.8860662887047536,
          0.08398192317348732,
          0.3117744610281924,
          0.8021218078991602
         ]
        },
        {
         "marker": {
          "symbol": "x"
         },
         "mode": "lines+markers",
         "name": "Random Forest",
         "type": "scatter",
         "uid": "7899daf3-43ac-4244-b8e6-d72a80aa1077",
         "x": [
          "accuracy",
          "FPR",
          "FNR",
          "auc"
         ],
         "y": [
          0.9102703881378107,
          0.08360532262113984,
          0.13018242122719734,
          0.8931061280758315
         ]
        },
        {
         "mode": "lines",
         "name": "Ada Boost",
         "type": "scatter",
         "uid": "cc16771b-75d8-4b08-9630-161d2a497c22",
         "x": [
          "accuracy",
          "FPR",
          "FNR",
          "auc"
         ],
         "y": [
          0.8963148713475796,
          0.0794627165453176,
          0.263681592039801,
          0.8284278457074408
         ]
        },
        {
         "mode": "lines+markers",
         "name": "GradientBoosting",
         "type": "scatter",
         "uid": "e975bbdd-47ba-4b3b-8409-a8c01cb054ef",
         "x": [
          "accuracy",
          "FPR",
          "FNR",
          "auc"
         ],
         "y": [
          0.9081988661142608,
          0.07870951544062264,
          0.17827529021558872,
          0.8715075971718944
         ]
        },
        {
         "marker": {
          "symbol": "x"
         },
         "mode": "lines+markers",
         "name": "ExtraTree Classifier",
         "type": "scatter",
         "uid": "ef4f45a8-7d17-4030-b2be-42600015a1b1",
         "x": [
          "accuracy",
          "FPR",
          "FNR",
          "auc"
         ],
         "y": [
          0.909180113388574,
          0.08473512427818228,
          0.1310116086235489,
          0.8921266335491344
         ]
        },
        {
         "marker": {
          "symbol": "x"
         },
         "mode": "lines+markers",
         "name": "Bagging",
         "type": "scatter",
         "uid": "db9b31b5-f86d-4f09-bb6c-9545929b7a14",
         "x": [
          "accuracy",
          "FPR",
          "FNR",
          "auc"
         ],
         "y": [
          0.9109245529873529,
          0.08197338689430078,
          0.13598673300165837,
          0.8910199400520203
         ]
        },
        {
         "marker": {
          "symbol": "x"
         },
         "mode": "lines+markers",
         "name": "Neural Network",
         "type": "scatter",
         "uid": "a0bf9052-57cd-4dee-b94e-17bebeb87fa5",
         "x": [
          "accuracy",
          "FPR",
          "FNR",
          "auc"
         ],
         "y": [
          0.9065634539904056,
          0.08486065779563143,
          0.15008291873963517,
          0.8910199400520203
         ]
        }
       ],
       "layout": {
        "title": "Result comparision for Features selected in Section 1",
        "yaxis": {
         "dtick": 0.05,
         "tick0": 0
        }
       }
      },
      "text/html": [
       "<div id=\"65dd8ec5-c13f-4b56-a8ad-048189969990\" style=\"height: 525px; width: 100%;\" class=\"plotly-graph-div\"></div><script type=\"text/javascript\">require([\"plotly\"], function(Plotly) { window.PLOTLYENV=window.PLOTLYENV || {};window.PLOTLYENV.BASE_URL=\"https://plot.ly\";Plotly.newPlot(\"65dd8ec5-c13f-4b56-a8ad-048189969990\", [{\"mode\": \"lines\", \"name\": \"KNN_model\", \"x\": [\"accuracy\", \"FPR\", \"FNR\", \"auc\"], \"y\": [0.894461404273877, 0.10469495355259854, 0.1111111111111111, 0.8920969676681452], \"type\": \"scatter\", \"uid\": \"21d20a10-dfcb-461c-990c-5f716c863f96\"}, {\"mode\": \"lines+markers\", \"name\": \"Logistic Regression\", \"x\": [\"accuracy\", \"FPR\", \"FNR\", \"auc\"], \"y\": [0.8860662887047536, 0.08398192317348732, 0.3117744610281924, 0.8021218078991602], \"type\": \"scatter\", \"uid\": \"791d3d4c-fcc1-4ba6-bb60-deb95198590f\"}, {\"marker\": {\"symbol\": \"x\"}, \"mode\": \"lines+markers\", \"name\": \"Random Forest\", \"x\": [\"accuracy\", \"FPR\", \"FNR\", \"auc\"], \"y\": [0.9102703881378107, 0.08360532262113984, 0.13018242122719734, 0.8931061280758315], \"type\": \"scatter\", \"uid\": \"7899daf3-43ac-4244-b8e6-d72a80aa1077\"}, {\"mode\": \"lines\", \"name\": \"Ada Boost\", \"x\": [\"accuracy\", \"FPR\", \"FNR\", \"auc\"], \"y\": [0.8963148713475796, 0.0794627165453176, 0.263681592039801, 0.8284278457074408], \"type\": \"scatter\", \"uid\": \"cc16771b-75d8-4b08-9630-161d2a497c22\"}, {\"mode\": \"lines+markers\", \"name\": \"GradientBoosting\", \"x\": [\"accuracy\", \"FPR\", \"FNR\", \"auc\"], \"y\": [0.9081988661142608, 0.07870951544062264, 0.17827529021558872, 0.8715075971718944], \"type\": \"scatter\", \"uid\": \"e975bbdd-47ba-4b3b-8409-a8c01cb054ef\"}, {\"marker\": {\"symbol\": \"x\"}, \"mode\": \"lines+markers\", \"name\": \"ExtraTree Classifier\", \"x\": [\"accuracy\", \"FPR\", \"FNR\", \"auc\"], \"y\": [0.909180113388574, 0.08473512427818228, 0.1310116086235489, 0.8921266335491344], \"type\": \"scatter\", \"uid\": \"ef4f45a8-7d17-4030-b2be-42600015a1b1\"}, {\"marker\": {\"symbol\": \"x\"}, \"mode\": \"lines+markers\", \"name\": \"Bagging\", \"x\": [\"accuracy\", \"FPR\", \"FNR\", \"auc\"], \"y\": [0.9109245529873529, 0.08197338689430078, 0.13598673300165837, 0.8910199400520203], \"type\": \"scatter\", \"uid\": \"db9b31b5-f86d-4f09-bb6c-9545929b7a14\"}, {\"marker\": {\"symbol\": \"x\"}, \"mode\": \"lines+markers\", \"name\": \"Neural Network\", \"x\": [\"accuracy\", \"FPR\", \"FNR\", \"auc\"], \"y\": [0.9065634539904056, 0.08486065779563143, 0.15008291873963517, 0.8910199400520203], \"type\": \"scatter\", \"uid\": \"a0bf9052-57cd-4dee-b94e-17bebeb87fa5\"}], {\"title\": \"Result comparision for Features selected in Section 1\", \"yaxis\": {\"dtick\": 0.05, \"tick0\": 0}}, {\"showLink\": true, \"linkText\": \"Export to plot.ly\", \"plotlyServerURL\": \"https://plot.ly\"})});</script><script type=\"text/javascript\">window.addEventListener(\"resize\", function(){window._Plotly.Plots.resize(document.getElementById(\"65dd8ec5-c13f-4b56-a8ad-048189969990\"));});</script>"
      ],
      "text/vnd.plotly.v1+html": [
       "<div id=\"65dd8ec5-c13f-4b56-a8ad-048189969990\" style=\"height: 525px; width: 100%;\" class=\"plotly-graph-div\"></div><script type=\"text/javascript\">require([\"plotly\"], function(Plotly) { window.PLOTLYENV=window.PLOTLYENV || {};window.PLOTLYENV.BASE_URL=\"https://plot.ly\";Plotly.newPlot(\"65dd8ec5-c13f-4b56-a8ad-048189969990\", [{\"mode\": \"lines\", \"name\": \"KNN_model\", \"x\": [\"accuracy\", \"FPR\", \"FNR\", \"auc\"], \"y\": [0.894461404273877, 0.10469495355259854, 0.1111111111111111, 0.8920969676681452], \"type\": \"scatter\", \"uid\": \"21d20a10-dfcb-461c-990c-5f716c863f96\"}, {\"mode\": \"lines+markers\", \"name\": \"Logistic Regression\", \"x\": [\"accuracy\", \"FPR\", \"FNR\", \"auc\"], \"y\": [0.8860662887047536, 0.08398192317348732, 0.3117744610281924, 0.8021218078991602], \"type\": \"scatter\", \"uid\": \"791d3d4c-fcc1-4ba6-bb60-deb95198590f\"}, {\"marker\": {\"symbol\": \"x\"}, \"mode\": \"lines+markers\", \"name\": \"Random Forest\", \"x\": [\"accuracy\", \"FPR\", \"FNR\", \"auc\"], \"y\": [0.9102703881378107, 0.08360532262113984, 0.13018242122719734, 0.8931061280758315], \"type\": \"scatter\", \"uid\": \"7899daf3-43ac-4244-b8e6-d72a80aa1077\"}, {\"mode\": \"lines\", \"name\": \"Ada Boost\", \"x\": [\"accuracy\", \"FPR\", \"FNR\", \"auc\"], \"y\": [0.8963148713475796, 0.0794627165453176, 0.263681592039801, 0.8284278457074408], \"type\": \"scatter\", \"uid\": \"cc16771b-75d8-4b08-9630-161d2a497c22\"}, {\"mode\": \"lines+markers\", \"name\": \"GradientBoosting\", \"x\": [\"accuracy\", \"FPR\", \"FNR\", \"auc\"], \"y\": [0.9081988661142608, 0.07870951544062264, 0.17827529021558872, 0.8715075971718944], \"type\": \"scatter\", \"uid\": \"e975bbdd-47ba-4b3b-8409-a8c01cb054ef\"}, {\"marker\": {\"symbol\": \"x\"}, \"mode\": \"lines+markers\", \"name\": \"ExtraTree Classifier\", \"x\": [\"accuracy\", \"FPR\", \"FNR\", \"auc\"], \"y\": [0.909180113388574, 0.08473512427818228, 0.1310116086235489, 0.8921266335491344], \"type\": \"scatter\", \"uid\": \"ef4f45a8-7d17-4030-b2be-42600015a1b1\"}, {\"marker\": {\"symbol\": \"x\"}, \"mode\": \"lines+markers\", \"name\": \"Bagging\", \"x\": [\"accuracy\", \"FPR\", \"FNR\", \"auc\"], \"y\": [0.9109245529873529, 0.08197338689430078, 0.13598673300165837, 0.8910199400520203], \"type\": \"scatter\", \"uid\": \"db9b31b5-f86d-4f09-bb6c-9545929b7a14\"}, {\"marker\": {\"symbol\": \"x\"}, \"mode\": \"lines+markers\", \"name\": \"Neural Network\", \"x\": [\"accuracy\", \"FPR\", \"FNR\", \"auc\"], \"y\": [0.9065634539904056, 0.08486065779563143, 0.15008291873963517, 0.8910199400520203], \"type\": \"scatter\", \"uid\": \"a0bf9052-57cd-4dee-b94e-17bebeb87fa5\"}], {\"title\": \"Result comparision for Features selected in Section 1\", \"yaxis\": {\"dtick\": 0.05, \"tick0\": 0}}, {\"showLink\": true, \"linkText\": \"Export to plot.ly\", \"plotlyServerURL\": \"https://plot.ly\"})});</script><script type=\"text/javascript\">window.addEventListener(\"resize\", function(){window._Plotly.Plots.resize(document.getElementById(\"65dd8ec5-c13f-4b56-a8ad-048189969990\"));});</script>"
      ]
     },
     "metadata": {},
     "output_type": "display_data"
    }
   ],
   "source": [
    "trace0 = go.Scatter(x=table_80_50_test.iloc[0].index.values[[0,5,6,7]],\n",
    "                    y=table_80_50_test.iloc[0].values[[0,5,6,7]],\n",
    "                    mode = 'lines',\n",
    "                    name = 'KNN_model')\n",
    "\n",
    "trace1 = go.Scatter(x=table_80_50_test.iloc[1].index.values[[0,5,6,7]],\n",
    "                    y=table_80_50_test.iloc[1].values[[0,5,6,7]],\n",
    "                    mode = 'lines+markers',\n",
    "                    name = 'Logistic Regression')\n",
    "\n",
    "trace2 = go.Scatter(x=table_80_50_test.iloc[2].index.values[[0,5,6,7]],\n",
    "                    y=table_80_50_test.iloc[2].values[[0,5,6,7]],\n",
    "                    mode = 'lines+markers',marker=dict(symbol='x'),\n",
    "                    name = 'Random Forest')\n",
    "\n",
    "\n",
    "trace3 = go.Scatter(x=table_80_50_test.iloc[3].index.values[[0,5,6,7]],\n",
    "                    y=table_80_50_test.iloc[3].values[[0,5,6,7]],\n",
    "                    mode = 'lines',\n",
    "                    name = 'Ada Boost')\n",
    "\n",
    "trace4 = go.Scatter(x=table_80_50_test.iloc[4].index.values[[0,5,6,7]],\n",
    "                    y=table_80_50_test.iloc[4].values[[0,5,6,7]],\n",
    "                    mode = 'lines+markers',\n",
    "                    name = 'GradientBoosting')\n",
    "\n",
    "trace5 = go.Scatter(x=table_80_50_test.iloc[5].index.values[[0,5,6,7]],\n",
    "                    y=table_80_50_test.iloc[5].values[[0,5,6,7]],\n",
    "                    mode = 'lines+markers',marker=dict(symbol='x'),\n",
    "                    name = 'ExtraTree Classifier')\n",
    "\n",
    "trace6 = go.Scatter(x=table_80_50_test.iloc[6].index.values[[0,5,6,7]],\n",
    "                    y=table_80_50_test.iloc[6].values[[0,5,6,7]],\n",
    "                    mode = 'lines+markers',marker=dict(symbol='x'),\n",
    "                    name = 'Bagging')\n",
    "\n",
    "trace7 = go.Scatter(x=table_80_50_test.iloc[7].index.values[[0,5,6,7]],\n",
    "                    y=table_80_50_test.iloc[7].values[[0,5,6,7]],\n",
    "                    mode = 'lines+markers',marker=dict(symbol='x'),\n",
    "                    name = 'Neural Network')\n",
    "\n",
    "\n",
    "\n",
    "data = [trace0, trace1, trace2, trace3, trace4, trace5, trace6, trace7]\n",
    "layout = go.Layout(yaxis=dict(tick0=0,dtick=0.05),title='Result comparision for Features selected in Section 1')\n",
    "fig = go.Figure(data=data, layout=layout)\n",
    "\n",
    "iplot(fig, filename='Result')"
   ]
  },
  {
   "cell_type": "code",
   "execution_count": 21,
   "metadata": {},
   "outputs": [
    {
     "name": "stdout",
     "output_type": "stream",
     "text": [
      "Training Results\n"
     ]
    },
    {
     "data": {
      "text/html": [
       "<div>\n",
       "<style scoped>\n",
       "    .dataframe tbody tr th:only-of-type {\n",
       "        vertical-align: middle;\n",
       "    }\n",
       "\n",
       "    .dataframe tbody tr th {\n",
       "        vertical-align: top;\n",
       "    }\n",
       "\n",
       "    .dataframe thead th {\n",
       "        text-align: right;\n",
       "    }\n",
       "</style>\n",
       "<table border=\"1\" class=\"dataframe\">\n",
       "  <thead>\n",
       "    <tr style=\"text-align: right;\">\n",
       "      <th></th>\n",
       "      <th>accuracy</th>\n",
       "      <th>TP</th>\n",
       "      <th>TN</th>\n",
       "      <th>FP</th>\n",
       "      <th>FN</th>\n",
       "      <th>FPR</th>\n",
       "      <th>FNR</th>\n",
       "    </tr>\n",
       "    <tr>\n",
       "      <th>index</th>\n",
       "      <th></th>\n",
       "      <th></th>\n",
       "      <th></th>\n",
       "      <th></th>\n",
       "      <th></th>\n",
       "      <th></th>\n",
       "      <th></th>\n",
       "    </tr>\n",
       "  </thead>\n",
       "  <tbody>\n",
       "    <tr>\n",
       "      <th>KNeighborsClassifier</th>\n",
       "      <td>0.897367</td>\n",
       "      <td>4323.0</td>\n",
       "      <td>28596.0</td>\n",
       "      <td>3273.0</td>\n",
       "      <td>492.0</td>\n",
       "      <td>0.102702</td>\n",
       "      <td>0.102181</td>\n",
       "    </tr>\n",
       "    <tr>\n",
       "      <th>LogisticRegression</th>\n",
       "      <td>0.883546</td>\n",
       "      <td>3280.0</td>\n",
       "      <td>29132.0</td>\n",
       "      <td>2737.0</td>\n",
       "      <td>1535.0</td>\n",
       "      <td>0.085883</td>\n",
       "      <td>0.318795</td>\n",
       "    </tr>\n",
       "    <tr>\n",
       "      <th>RandomForestClassifier</th>\n",
       "      <td>0.919284</td>\n",
       "      <td>4334.0</td>\n",
       "      <td>29389.0</td>\n",
       "      <td>2480.0</td>\n",
       "      <td>481.0</td>\n",
       "      <td>0.077819</td>\n",
       "      <td>0.099896</td>\n",
       "    </tr>\n",
       "    <tr>\n",
       "      <th>AdaBoostClassifier</th>\n",
       "      <td>0.895022</td>\n",
       "      <td>3507.0</td>\n",
       "      <td>29326.0</td>\n",
       "      <td>2543.0</td>\n",
       "      <td>1308.0</td>\n",
       "      <td>0.079795</td>\n",
       "      <td>0.271651</td>\n",
       "    </tr>\n",
       "    <tr>\n",
       "      <th>GradientBoostingClassifier</th>\n",
       "      <td>0.906553</td>\n",
       "      <td>3889.0</td>\n",
       "      <td>29367.0</td>\n",
       "      <td>2502.0</td>\n",
       "      <td>926.0</td>\n",
       "      <td>0.078509</td>\n",
       "      <td>0.192316</td>\n",
       "    </tr>\n",
       "    <tr>\n",
       "      <th>ExtraTreeClassifier</th>\n",
       "      <td>0.920756</td>\n",
       "      <td>4374.0</td>\n",
       "      <td>29403.0</td>\n",
       "      <td>2466.0</td>\n",
       "      <td>441.0</td>\n",
       "      <td>0.077379</td>\n",
       "      <td>0.091589</td>\n",
       "    </tr>\n",
       "    <tr>\n",
       "      <th>BaggingClassifier</th>\n",
       "      <td>0.918875</td>\n",
       "      <td>4325.0</td>\n",
       "      <td>29383.0</td>\n",
       "      <td>2486.0</td>\n",
       "      <td>490.0</td>\n",
       "      <td>0.078007</td>\n",
       "      <td>0.101765</td>\n",
       "    </tr>\n",
       "    <tr>\n",
       "      <th>Neural Network-1</th>\n",
       "      <td>0.906853</td>\n",
       "      <td>4058.0</td>\n",
       "      <td>29209.0</td>\n",
       "      <td>2660.0</td>\n",
       "      <td>757.0</td>\n",
       "      <td>0.083467</td>\n",
       "      <td>0.157217</td>\n",
       "    </tr>\n",
       "  </tbody>\n",
       "</table>\n",
       "</div>"
      ],
      "text/plain": [
       "                            accuracy      TP       TN      FP      FN  \\\n",
       "index                                                                   \n",
       "KNeighborsClassifier        0.897367  4323.0  28596.0  3273.0   492.0   \n",
       "LogisticRegression          0.883546  3280.0  29132.0  2737.0  1535.0   \n",
       "RandomForestClassifier      0.919284  4334.0  29389.0  2480.0   481.0   \n",
       "AdaBoostClassifier          0.895022  3507.0  29326.0  2543.0  1308.0   \n",
       "GradientBoostingClassifier  0.906553  3889.0  29367.0  2502.0   926.0   \n",
       "ExtraTreeClassifier         0.920756  4374.0  29403.0  2466.0   441.0   \n",
       "BaggingClassifier           0.918875  4325.0  29383.0  2486.0   490.0   \n",
       "Neural Network-1            0.906853  4058.0  29209.0  2660.0   757.0   \n",
       "\n",
       "                                 FPR       FNR  \n",
       "index                                           \n",
       "KNeighborsClassifier        0.102702  0.102181  \n",
       "LogisticRegression          0.085883  0.318795  \n",
       "RandomForestClassifier      0.077819  0.099896  \n",
       "AdaBoostClassifier          0.079795  0.271651  \n",
       "GradientBoostingClassifier  0.078509  0.192316  \n",
       "ExtraTreeClassifier         0.077379  0.091589  \n",
       "BaggingClassifier           0.078007  0.101765  \n",
       "Neural Network-1            0.083467  0.157217  "
      ]
     },
     "metadata": {},
     "output_type": "display_data"
    },
    {
     "name": "stdout",
     "output_type": "stream",
     "text": [
      "Test Results\n"
     ]
    },
    {
     "data": {
      "text/html": [
       "<div>\n",
       "<style scoped>\n",
       "    .dataframe tbody tr th:only-of-type {\n",
       "        vertical-align: middle;\n",
       "    }\n",
       "\n",
       "    .dataframe tbody tr th {\n",
       "        vertical-align: top;\n",
       "    }\n",
       "\n",
       "    .dataframe thead th {\n",
       "        text-align: right;\n",
       "    }\n",
       "</style>\n",
       "<table border=\"1\" class=\"dataframe\">\n",
       "  <thead>\n",
       "    <tr style=\"text-align: right;\">\n",
       "      <th></th>\n",
       "      <th>accuracy</th>\n",
       "      <th>TP</th>\n",
       "      <th>TN</th>\n",
       "      <th>FP</th>\n",
       "      <th>FN</th>\n",
       "      <th>FPR</th>\n",
       "      <th>FNR</th>\n",
       "      <th>auc</th>\n",
       "    </tr>\n",
       "    <tr>\n",
       "      <th>index</th>\n",
       "      <th></th>\n",
       "      <th></th>\n",
       "      <th></th>\n",
       "      <th></th>\n",
       "      <th></th>\n",
       "      <th></th>\n",
       "      <th></th>\n",
       "      <th></th>\n",
       "    </tr>\n",
       "  </thead>\n",
       "  <tbody>\n",
       "    <tr>\n",
       "      <th>KNeighborsClassifier</th>\n",
       "      <td>0.894461</td>\n",
       "      <td>1072.0</td>\n",
       "      <td>7132.0</td>\n",
       "      <td>834.0</td>\n",
       "      <td>134.0</td>\n",
       "      <td>0.104695</td>\n",
       "      <td>0.111111</td>\n",
       "      <td>0.892097</td>\n",
       "    </tr>\n",
       "    <tr>\n",
       "      <th>LogisticRegression</th>\n",
       "      <td>0.886066</td>\n",
       "      <td>830.0</td>\n",
       "      <td>7297.0</td>\n",
       "      <td>669.0</td>\n",
       "      <td>376.0</td>\n",
       "      <td>0.083982</td>\n",
       "      <td>0.311774</td>\n",
       "      <td>0.802122</td>\n",
       "    </tr>\n",
       "    <tr>\n",
       "      <th>RandomForestClassifier</th>\n",
       "      <td>0.910270</td>\n",
       "      <td>1049.0</td>\n",
       "      <td>7300.0</td>\n",
       "      <td>666.0</td>\n",
       "      <td>157.0</td>\n",
       "      <td>0.083605</td>\n",
       "      <td>0.130182</td>\n",
       "      <td>0.893106</td>\n",
       "    </tr>\n",
       "    <tr>\n",
       "      <th>AdaBoostClassifier</th>\n",
       "      <td>0.896315</td>\n",
       "      <td>888.0</td>\n",
       "      <td>7333.0</td>\n",
       "      <td>633.0</td>\n",
       "      <td>318.0</td>\n",
       "      <td>0.079463</td>\n",
       "      <td>0.263682</td>\n",
       "      <td>0.828428</td>\n",
       "    </tr>\n",
       "    <tr>\n",
       "      <th>GradientBoostingClassifier</th>\n",
       "      <td>0.908199</td>\n",
       "      <td>991.0</td>\n",
       "      <td>7339.0</td>\n",
       "      <td>627.0</td>\n",
       "      <td>215.0</td>\n",
       "      <td>0.078710</td>\n",
       "      <td>0.178275</td>\n",
       "      <td>0.871508</td>\n",
       "    </tr>\n",
       "    <tr>\n",
       "      <th>ExtraTreeClassifier</th>\n",
       "      <td>0.909180</td>\n",
       "      <td>1048.0</td>\n",
       "      <td>7291.0</td>\n",
       "      <td>675.0</td>\n",
       "      <td>158.0</td>\n",
       "      <td>0.084735</td>\n",
       "      <td>0.131012</td>\n",
       "      <td>0.892127</td>\n",
       "    </tr>\n",
       "    <tr>\n",
       "      <th>BaggingClassifier</th>\n",
       "      <td>0.910925</td>\n",
       "      <td>1042.0</td>\n",
       "      <td>7313.0</td>\n",
       "      <td>653.0</td>\n",
       "      <td>164.0</td>\n",
       "      <td>0.081973</td>\n",
       "      <td>0.135987</td>\n",
       "      <td>0.891020</td>\n",
       "    </tr>\n",
       "    <tr>\n",
       "      <th>Neural Network-1</th>\n",
       "      <td>0.906563</td>\n",
       "      <td>1025.0</td>\n",
       "      <td>7290.0</td>\n",
       "      <td>676.0</td>\n",
       "      <td>181.0</td>\n",
       "      <td>0.084861</td>\n",
       "      <td>0.150083</td>\n",
       "      <td>0.891020</td>\n",
       "    </tr>\n",
       "  </tbody>\n",
       "</table>\n",
       "</div>"
      ],
      "text/plain": [
       "                            accuracy      TP      TN     FP     FN       FPR  \\\n",
       "index                                                                          \n",
       "KNeighborsClassifier        0.894461  1072.0  7132.0  834.0  134.0  0.104695   \n",
       "LogisticRegression          0.886066   830.0  7297.0  669.0  376.0  0.083982   \n",
       "RandomForestClassifier      0.910270  1049.0  7300.0  666.0  157.0  0.083605   \n",
       "AdaBoostClassifier          0.896315   888.0  7333.0  633.0  318.0  0.079463   \n",
       "GradientBoostingClassifier  0.908199   991.0  7339.0  627.0  215.0  0.078710   \n",
       "ExtraTreeClassifier         0.909180  1048.0  7291.0  675.0  158.0  0.084735   \n",
       "BaggingClassifier           0.910925  1042.0  7313.0  653.0  164.0  0.081973   \n",
       "Neural Network-1            0.906563  1025.0  7290.0  676.0  181.0  0.084861   \n",
       "\n",
       "                                 FNR       auc  \n",
       "index                                           \n",
       "KNeighborsClassifier        0.111111  0.892097  \n",
       "LogisticRegression          0.311774  0.802122  \n",
       "RandomForestClassifier      0.130182  0.893106  \n",
       "AdaBoostClassifier          0.263682  0.828428  \n",
       "GradientBoostingClassifier  0.178275  0.871508  \n",
       "ExtraTreeClassifier         0.131012  0.892127  \n",
       "BaggingClassifier           0.135987  0.891020  \n",
       "Neural Network-1            0.150083  0.891020  "
      ]
     },
     "metadata": {},
     "output_type": "display_data"
    }
   ],
   "source": [
    "table_80_50_train['index']=ind_columns\n",
    "table_80_50_test['index']=ind_columns\n",
    "\n",
    "\n",
    "table_80_50_test.set_index(['index'],drop=True,inplace=True)\n",
    "table_80_50_train.set_index(['index'],drop=True,inplace=True)\n",
    "\n",
    "print(\"Training Results\")\n",
    "display(table_80_50_train)\n",
    "print(\"Test Results\")\n",
    "display(table_80_50_test)"
   ]
  },
  {
   "cell_type": "markdown",
   "metadata": {},
   "source": [
    "### <a id='1.B' style=\"text-decoration : none; color : #000000;\"> B. Average Feature Importances</a>"
   ]
  },
  {
   "cell_type": "code",
   "execution_count": 22,
   "metadata": {},
   "outputs": [
    {
     "data": {
      "application/vnd.plotly.v1+json": {
       "config": {
        "linkText": "Export to plot.ly",
        "plotlyServerURL": "https://plot.ly",
        "showLink": true
       },
       "data": [
        {
         "marker": {
          "color": "rgb(158,202,225)",
          "line": {
           "color": "rgb(8,48,107)",
           "width": 1.5
          }
         },
         "opacity": 0.6,
         "orientation": "h",
         "text": [
          0.3221,
          0.2218,
          0.0873,
          0.0691,
          0.0432,
          0.0359,
          0.0274,
          0.0262,
          0.0246,
          0.0219,
          0.016,
          0.0152,
          0.0142,
          0.0141,
          0.0109,
          0.01,
          0.0096,
          0.0085,
          0.0084,
          0.0083,
          0.0036,
          0.0016
         ],
         "textposition": "outside",
         "type": "bar",
         "uid": "06bd400d-aded-4ef5-8033-183b14aa3a67",
         "x": [
          0.32206139917243903,
          0.221792717272965,
          0.08733233262110746,
          0.06906619357861354,
          0.043217444148818396,
          0.03590761009711865,
          0.027383156259778968,
          0.026242548187394542,
          0.024592553193561524,
          0.021912120760966255,
          0.015993895211897428,
          0.015215681942724235,
          0.014235876497877355,
          0.014090498029189987,
          0.010865654942010044,
          0.010046395143908433,
          0.009553510070314145,
          0.00851997321553527,
          0.008387279841107109,
          0.008292682503703273,
          0.003641736123043233,
          0.0016487411859260719
         ],
         "y": [
          "http_header_content-length",
          "http_header_content-encoding_gzip",
          "http_header_content-language_text/html",
          "http_header_transfer-encoding_chunked",
          "http_header_server_apache",
          "http_header_vary_accept",
          "http_header_connection_keep-alive",
          "http_header_pragmano-cache",
          "http_header_cache-control_set_max-age",
          "http_header_cache-control_set_no-store",
          "http_header_server_nginx",
          "http_header_x-cintent-type-options_nosniff",
          "http_header_cache-control_set_private",
          "http_header_cache-control_set_must-revalidate",
          "http_header_connection_close",
          "http_header_strict-transport-security_max-age",
          "http_header_via_1.1",
          "http_header_cache-control_set_no-cache",
          "http_header_vary_age",
          "http_header_expect-ctmax-age",
          "http_header_x-xss-enabled",
          "http_header_cache-control_set_public"
         ]
        }
       ],
       "layout": {
        "autosize": false,
        "height": 1000,
        "width": 1000,
        "xaxis": {
         "tickfont": {
          "color": "black",
          "size": 12
         },
         "title": "Feature Importances"
        },
        "yaxis": {
         "automargin": true
        }
       }
      },
      "text/html": [
       "<div id=\"f5778b1f-bc3b-43fe-9726-a8a55124f41d\" style=\"height: 1000px; width: 1000px;\" class=\"plotly-graph-div\"></div><script type=\"text/javascript\">require([\"plotly\"], function(Plotly) { window.PLOTLYENV=window.PLOTLYENV || {};window.PLOTLYENV.BASE_URL=\"https://plot.ly\";Plotly.newPlot(\"f5778b1f-bc3b-43fe-9726-a8a55124f41d\", [{\"marker\": {\"color\": \"rgb(158,202,225)\", \"line\": {\"color\": \"rgb(8,48,107)\", \"width\": 1.5}}, \"opacity\": 0.6, \"orientation\": \"h\", \"text\": [0.3221, 0.2218, 0.0873, 0.0691, 0.0432, 0.0359, 0.0274, 0.0262, 0.0246, 0.0219, 0.016, 0.0152, 0.0142, 0.0141, 0.0109, 0.01, 0.0096, 0.0085, 0.0084, 0.0083, 0.0036, 0.0016], \"textposition\": \"outside\", \"x\": [0.32206139917243903, 0.221792717272965, 0.08733233262110746, 0.06906619357861354, 0.043217444148818396, 0.03590761009711865, 0.027383156259778968, 0.026242548187394542, 0.024592553193561524, 0.021912120760966255, 0.015993895211897428, 0.015215681942724235, 0.014235876497877355, 0.014090498029189987, 0.010865654942010044, 0.010046395143908433, 0.009553510070314145, 0.00851997321553527, 0.008387279841107109, 0.008292682503703273, 0.003641736123043233, 0.0016487411859260719], \"y\": [\"http_header_content-length\", \"http_header_content-encoding_gzip\", \"http_header_content-language_text/html\", \"http_header_transfer-encoding_chunked\", \"http_header_server_apache\", \"http_header_vary_accept\", \"http_header_connection_keep-alive\", \"http_header_pragmano-cache\", \"http_header_cache-control_set_max-age\", \"http_header_cache-control_set_no-store\", \"http_header_server_nginx\", \"http_header_x-cintent-type-options_nosniff\", \"http_header_cache-control_set_private\", \"http_header_cache-control_set_must-revalidate\", \"http_header_connection_close\", \"http_header_strict-transport-security_max-age\", \"http_header_via_1.1\", \"http_header_cache-control_set_no-cache\", \"http_header_vary_age\", \"http_header_expect-ctmax-age\", \"http_header_x-xss-enabled\", \"http_header_cache-control_set_public\"], \"type\": \"bar\", \"uid\": \"06bd400d-aded-4ef5-8033-183b14aa3a67\"}], {\"autosize\": false, \"height\": 1000, \"width\": 1000, \"xaxis\": {\"tickfont\": {\"color\": \"black\", \"size\": 12}, \"title\": \"Feature Importances\"}, \"yaxis\": {\"automargin\": true}}, {\"showLink\": true, \"linkText\": \"Export to plot.ly\", \"plotlyServerURL\": \"https://plot.ly\"})});</script>"
      ],
      "text/vnd.plotly.v1+html": [
       "<div id=\"f5778b1f-bc3b-43fe-9726-a8a55124f41d\" style=\"height: 1000px; width: 1000px;\" class=\"plotly-graph-div\"></div><script type=\"text/javascript\">require([\"plotly\"], function(Plotly) { window.PLOTLYENV=window.PLOTLYENV || {};window.PLOTLYENV.BASE_URL=\"https://plot.ly\";Plotly.newPlot(\"f5778b1f-bc3b-43fe-9726-a8a55124f41d\", [{\"marker\": {\"color\": \"rgb(158,202,225)\", \"line\": {\"color\": \"rgb(8,48,107)\", \"width\": 1.5}}, \"opacity\": 0.6, \"orientation\": \"h\", \"text\": [0.3221, 0.2218, 0.0873, 0.0691, 0.0432, 0.0359, 0.0274, 0.0262, 0.0246, 0.0219, 0.016, 0.0152, 0.0142, 0.0141, 0.0109, 0.01, 0.0096, 0.0085, 0.0084, 0.0083, 0.0036, 0.0016], \"textposition\": \"outside\", \"x\": [0.32206139917243903, 0.221792717272965, 0.08733233262110746, 0.06906619357861354, 0.043217444148818396, 0.03590761009711865, 0.027383156259778968, 0.026242548187394542, 0.024592553193561524, 0.021912120760966255, 0.015993895211897428, 0.015215681942724235, 0.014235876497877355, 0.014090498029189987, 0.010865654942010044, 0.010046395143908433, 0.009553510070314145, 0.00851997321553527, 0.008387279841107109, 0.008292682503703273, 0.003641736123043233, 0.0016487411859260719], \"y\": [\"http_header_content-length\", \"http_header_content-encoding_gzip\", \"http_header_content-language_text/html\", \"http_header_transfer-encoding_chunked\", \"http_header_server_apache\", \"http_header_vary_accept\", \"http_header_connection_keep-alive\", \"http_header_pragmano-cache\", \"http_header_cache-control_set_max-age\", \"http_header_cache-control_set_no-store\", \"http_header_server_nginx\", \"http_header_x-cintent-type-options_nosniff\", \"http_header_cache-control_set_private\", \"http_header_cache-control_set_must-revalidate\", \"http_header_connection_close\", \"http_header_strict-transport-security_max-age\", \"http_header_via_1.1\", \"http_header_cache-control_set_no-cache\", \"http_header_vary_age\", \"http_header_expect-ctmax-age\", \"http_header_x-xss-enabled\", \"http_header_cache-control_set_public\"], \"type\": \"bar\", \"uid\": \"06bd400d-aded-4ef5-8033-183b14aa3a67\"}], {\"autosize\": false, \"height\": 1000, \"width\": 1000, \"xaxis\": {\"tickfont\": {\"color\": \"black\", \"size\": 12}, \"title\": \"Feature Importances\"}, \"yaxis\": {\"automargin\": true}}, {\"showLink\": true, \"linkText\": \"Export to plot.ly\", \"plotlyServerURL\": \"https://plot.ly\"})});</script>"
      ]
     },
     "metadata": {},
     "output_type": "display_data"
    }
   ],
   "source": [
    "feat_impt_plot(np.average(feat_imp,axis=0),columns)"
   ]
  },
  {
   "cell_type": "markdown",
   "metadata": {},
   "source": [
    "### <a id='2' style=\"text-decoration : none; color : #000000;\"> 3. Feature Transformation with feature selection</a>"
   ]
  },
  {
   "cell_type": "code",
   "execution_count": 23,
   "metadata": {},
   "outputs": [
    {
     "name": "stdout",
     "output_type": "stream",
     "text": [
      "Built 946 features\n",
      "EntitySet scattered to workers in 5.447 seconds\n",
      "Elapsed: 00:05 | Remaining: 00:00 | Progress: 100%|██████████| Calculated: 11/11 chunks\n"
     ]
    }
   ],
   "source": [
    "df.reset_index(inplace=True)\n",
    "columns.append('domain')\n",
    "df_min=df[columns]\n",
    "\n",
    "es = ft.EntitySet(id = 'malicious')\n",
    "es.entity_from_dataframe(entity_id = 'data', dataframe = df_min, index = 'domain')\n",
    "\n",
    "feature_matrix_sessions, features_defs = ft.dfs(entityset=es,target_entity=\"data\",\n",
    "                                                trans_primitives = ['add','divide','multiply'],n_jobs=-1,\n",
    "                                                verbose=1,max_depth=1)"
   ]
  },
  {
   "cell_type": "markdown",
   "metadata": {},
   "source": [
    "#### Lets have a look at the feature set generated"
   ]
  },
  {
   "cell_type": "code",
   "execution_count": 26,
   "metadata": {
    "collapsed": true
   },
   "outputs": [],
   "source": [
    "df.set_index(['domain'],drop=True,inplace=True)\n",
    "fs=pd.merge(feature_matrix_sessions,pd.DataFrame(df.Target),left_index=True, right_index=True)\n",
    "fs.replace([np.inf],0,inplace=True)\n",
    "fs.fillna(value=0,inplace=True)"
   ]
  },
  {
   "cell_type": "markdown",
   "metadata": {},
   "source": [
    "#### Now we have a very huge feature-set and generally more features can cause over-fitting. Hence, we will use a combination of feature selection techniques to select only a few from them."
   ]
  },
  {
   "cell_type": "code",
   "execution_count": 28,
   "metadata": {
    "collapsed": true
   },
   "outputs": [],
   "source": [
    "X=fs.loc[:,fs.columns!='Target']\n",
    "y=fs.Target\n",
    "feature_name = X.columns.tolist()"
   ]
  },
  {
   "cell_type": "code",
   "execution_count": 30,
   "metadata": {
    "collapsed": true
   },
   "outputs": [],
   "source": [
    "def cor_selector(X, y):\n",
    "    cor_list = []\n",
    "    # calculate the correlation with y for each feature\n",
    "    for i in X.columns.tolist():\n",
    "        cor = np.corrcoef(X[i], y)[0, 1]\n",
    "        cor_list.append(cor)\n",
    "    # replace NaN with 0\n",
    "    cor_list = [0 if np.isnan(i) else i for i in cor_list]\n",
    "    # feature name\n",
    "    cor_feature = X.iloc[:,np.argsort(np.abs(cor_list))[-100:]].columns.tolist()\n",
    "    # feature selection? 0 for not select, 1 for select\n",
    "    cor_support = [True if i in cor_feature else False for i in feature_name]\n",
    "    return cor_support, cor_feature\n",
    "\n",
    "\n",
    "cor_support, cor_feature = cor_selector(X, y)"
   ]
  },
  {
   "cell_type": "code",
   "execution_count": 31,
   "metadata": {
    "collapsed": true
   },
   "outputs": [],
   "source": [
    "X_norm = MinMaxScaler().fit_transform(X)\n",
    "chi_selector = SelectKBest(chi2, k=100)\n",
    "chi_selector.fit(X_norm, y)\n",
    "chi_support = chi_selector.get_support()\n",
    "chi_feature = X.loc[:,chi_support].columns.tolist()"
   ]
  },
  {
   "cell_type": "code",
   "execution_count": 32,
   "metadata": {
    "collapsed": true
   },
   "outputs": [],
   "source": [
    "rfe_selector = RFE(estimator=LogisticRegression(random_state=0), n_features_to_select=100, step=0.3, verbose=False)\n",
    "rfe_selector.fit(X_norm, y)\n",
    "rfe_support = rfe_selector.get_support()\n",
    "rfe_feature = X.loc[:,rfe_support].columns.tolist()"
   ]
  },
  {
   "cell_type": "code",
   "execution_count": 33,
   "metadata": {
    "collapsed": true
   },
   "outputs": [],
   "source": [
    "embeded_rf_selector = SelectFromModel(RandomForestClassifier(n_estimators=100,random_state=0), threshold='23*median')\n",
    "embeded_rf_selector.fit(X, y)\n",
    "embeded_rf_support = embeded_rf_selector.get_support()\n",
    "embeded_rf_feature = X.loc[:,embeded_rf_support].columns.tolist()"
   ]
  },
  {
   "cell_type": "code",
   "execution_count": 34,
   "metadata": {
    "collapsed": true
   },
   "outputs": [],
   "source": [
    "feature_selection_df = pd.DataFrame({'Feature':feature_name, 'Pearson':cor_support, 'Chi-2':chi_support, 'RFE':rfe_support,\n",
    "                                    'Random Forest':embeded_rf_support})\n",
    "# count the selected times for each feature\n",
    "feature_selection_df['Total'] = np.sum(feature_selection_df, axis=1)\n",
    "# display the top 100\n",
    "feature_selection_df = feature_selection_df.sort_values(['Total','Feature'] , ascending=False)\n",
    "feature_selection_df.index = range(1, len(feature_selection_df)+1)"
   ]
  },
  {
   "cell_type": "code",
   "execution_count": 35,
   "metadata": {},
   "outputs": [
    {
     "name": "stdout",
     "output_type": "stream",
     "text": [
      "The train/test split ratio is 80:20\n"
     ]
    },
    {
     "data": {
      "text/plain": [
       "(45856, 42)"
      ]
     },
     "execution_count": 35,
     "metadata": {},
     "output_type": "execute_result"
    }
   ],
   "source": [
    "X=fs[feature_selection_df[feature_selection_df.Total>=3]['Feature']]\n",
    "X.fillna(value=0,inplace=True)\n",
    "y=fs.Target.values\n",
    "feature_name = X.columns.tolist()\n",
    "\n",
    "scaler=StandardScaler()\n",
    "scaled_X=scaler.fit_transform(X)\n",
    "\n",
    "print(\"The train/test split ratio is 80:20\")\n",
    "X_train, X_test, Y_train, Y_test = train_test_split(scaled_X,y,random_state=0,test_size=0.2)\n",
    "\n",
    "X.shape"
   ]
  },
  {
   "cell_type": "code",
   "execution_count": 36,
   "metadata": {
    "scrolled": false
   },
   "outputs": [
    {
     "name": "stdout",
     "output_type": "stream",
     "text": [
      "Features we will be using:\n",
      "\n"
     ]
    },
    {
     "data": {
      "text/plain": [
       "['http_header_content-language_text/html + http_header_transfer-encoding_chunked',\n",
       " 'http_header_vary_age / http_header_content-length',\n",
       " 'http_header_vary_accept + http_header_x-xss-enabled',\n",
       " 'http_header_transfer-encoding_chunked + http_header_via_1.1',\n",
       " 'http_header_transfer-encoding_chunked + http_header_vary_accept',\n",
       " 'http_header_server_nginx + http_header_vary_accept',\n",
       " 'http_header_server_nginx + http_header_transfer-encoding_chunked',\n",
       " 'http_header_pragmano-cache + http_header_vary_accept',\n",
       " 'http_header_content-language_text/html / http_header_content-encoding_gzip',\n",
       " 'http_header_content-language_text/html / http_header_connection_keep-alive',\n",
       " 'http_header_content-language_text/html + http_header_via_1.1',\n",
       " 'http_header_content-language_text/html + http_header_vary_accept',\n",
       " 'http_header_content-language_text/html + http_header_server_nginx',\n",
       " 'http_header_content-language_text/html + http_header_expect-ctmax-age',\n",
       " 'http_header_content-language_text/html * http_header_vary_accept',\n",
       " 'http_header_content-language_text/html',\n",
       " 'http_header_content-encoding_gzip / http_header_content-language_text/html',\n",
       " 'http_header_content-encoding_gzip + http_header_x-xss-enabled',\n",
       " 'http_header_content-encoding_gzip + http_header_via_1.1',\n",
       " 'http_header_content-encoding_gzip + http_header_vary_accept',\n",
       " 'http_header_content-encoding_gzip + http_header_transfer-encoding_chunked',\n",
       " 'http_header_content-encoding_gzip + http_header_server_nginx',\n",
       " 'http_header_content-encoding_gzip + http_header_pragmano-cache',\n",
       " 'http_header_content-encoding_gzip + http_header_expect-ctmax-age',\n",
       " 'http_header_content-encoding_gzip + http_header_content-language_text/html',\n",
       " 'http_header_content-encoding_gzip * http_header_vary_accept',\n",
       " 'http_header_content-encoding_gzip * http_header_content-language_text/html',\n",
       " 'http_header_content-encoding_gzip',\n",
       " 'http_header_connection_keep-alive / http_header_content-language_text/html',\n",
       " 'http_header_connection_keep-alive / http_header_content-encoding_gzip',\n",
       " 'http_header_connection_keep-alive + http_header_vary_accept',\n",
       " 'http_header_connection_keep-alive + http_header_content-language_text/html',\n",
       " 'http_header_connection_keep-alive * http_header_content-language_text/html',\n",
       " 'http_header_connection_keep-alive * http_header_content-encoding_gzip',\n",
       " 'http_header_connection_close + http_header_content-language_text/html',\n",
       " 'http_header_cache-control_set_public + http_header_vary_accept',\n",
       " 'http_header_cache-control_set_public + http_header_content-encoding_gzip',\n",
       " 'http_header_cache-control_set_private + http_header_vary_accept',\n",
       " 'http_header_cache-control_set_private + http_header_content-encoding_gzip',\n",
       " 'http_header_cache-control_set_no-cache + http_header_content-encoding_gzip',\n",
       " 'http_header_cache-control_set_max-age + http_header_transfer-encoding_chunked',\n",
       " 'http_header_cache-control_set_max-age + http_header_content-encoding_gzip']"
      ]
     },
     "metadata": {},
     "output_type": "display_data"
    }
   ],
   "source": [
    "print('Features we will be using:\\n')\n",
    "display(feature_name)"
   ]
  },
  {
   "cell_type": "code",
   "execution_count": 37,
   "metadata": {
    "collapsed": true
   },
   "outputs": [],
   "source": [
    "## Table to store training and test measures so we can compare later\n",
    "table_80_60_train=pd.DataFrame(columns=['accuracy','TP','TN','FP','FN','FPR','FNR'])\n",
    "table_80_60_test=pd.DataFrame(columns=['accuracy','TP','TN','FP','FN','FPR','FNR','auc'])"
   ]
  },
  {
   "cell_type": "code",
   "execution_count": 38,
   "metadata": {
    "scrolled": false
   },
   "outputs": [
    {
     "name": "stdout",
     "output_type": "stream",
     "text": [
      "\u001b[1mK-Nearest Neighbors\u001b[0m\n",
      "Accuracy of the model for training data is: 0.884009377385\n",
      "Confusion Matrix for training data is:\n"
     ]
    },
    {
     "data": {
      "text/plain": [
       "Predicted  False  True  __all__\n",
       "Actual                         \n",
       "False      31083   796    31879\n",
       "True        3459  1346     4805\n",
       "__all__    34542  2142    36684"
      ]
     },
     "metadata": {},
     "output_type": "display_data"
    },
    {
     "name": "stdout",
     "output_type": "stream",
     "text": [
      "Accuracy of the model for test data is: 0.881705189708\n",
      "Confusion Matrix for test data is:\n"
     ]
    },
    {
     "data": {
      "text/plain": [
       "Predicted  False  True  __all__\n",
       "Actual                         \n",
       "False       7748   208     7956\n",
       "True         877   339     1216\n",
       "__all__     8625   547     9172"
      ]
     },
     "metadata": {},
     "output_type": "display_data"
    },
    {
     "name": "stdout",
     "output_type": "stream",
     "text": [
      "\n",
      "\n",
      "\u001b[1mLogistic Regression\u001b[0m\n",
      "Accuracy of the model for training data is: 0.880520117763\n",
      "Confusion Matrix for training data is:\n"
     ]
    },
    {
     "data": {
      "text/plain": [
       "Predicted  False  True  __all__\n",
       "Actual                         \n",
       "False      29419  2460    31879\n",
       "True        1923  2882     4805\n",
       "__all__    31342  5342    36684"
      ]
     },
     "metadata": {},
     "output_type": "display_data"
    },
    {
     "name": "stdout",
     "output_type": "stream",
     "text": [
      "Accuracy of the model for test data is: 0.878543392935\n",
      "Confusion Matrix for test data is:\n"
     ]
    },
    {
     "data": {
      "text/plain": [
       "Predicted  False  True  __all__\n",
       "Actual                         \n",
       "False       7335   621     7956\n",
       "True         493   723     1216\n",
       "__all__     7828  1344     9172"
      ]
     },
     "metadata": {},
     "output_type": "display_data"
    },
    {
     "name": "stdout",
     "output_type": "stream",
     "text": [
      "\n",
      "\n",
      "\u001b[1mRandomForest Classifier\u001b[0m\n",
      "Accuracy of the model for training data is: 0.896930541926\n",
      "Confusion Matrix for training data is:\n"
     ]
    },
    {
     "data": {
      "text/plain": [
       "Predicted  False  True  __all__\n",
       "Actual                         \n",
       "False      28997  2882    31879\n",
       "True         899  3906     4805\n",
       "__all__    29896  6788    36684"
      ]
     },
     "metadata": {},
     "output_type": "display_data"
    },
    {
     "name": "stdout",
     "output_type": "stream",
     "text": [
      "Accuracy of the model for test data is: 0.891299607501\n",
      "Confusion Matrix for test data is:\n"
     ]
    },
    {
     "data": {
      "text/plain": [
       "Predicted  False  True  __all__\n",
       "Actual                         \n",
       "False       7209   747     7956\n",
       "True         250   966     1216\n",
       "__all__     7459  1713     9172"
      ]
     },
     "metadata": {},
     "output_type": "display_data"
    },
    {
     "data": {
      "application/vnd.plotly.v1+json": {
       "config": {
        "linkText": "Export to plot.ly",
        "plotlyServerURL": "https://plot.ly",
        "showLink": true
       },
       "data": [
        {
         "marker": {
          "color": "rgb(158,202,225)",
          "line": {
           "color": "rgb(8,48,107)",
           "width": 1.5
          }
         },
         "opacity": 0.6,
         "orientation": "h",
         "text": [
          0.1724,
          0.1188,
          0.1032,
          0.0811,
          0.0637,
          0.0631,
          0.0488,
          0.048,
          0.0382,
          0.0347,
          0.0264,
          0.0243,
          0.0194,
          0.0186,
          0.0162,
          0.0156,
          0.0142,
          0.0111,
          0.0107,
          0.0101,
          0.0093,
          0.0079,
          0.0067,
          0.0061,
          0.0052,
          0.005,
          0.0049,
          0.0045,
          0.0034,
          0.0017,
          0.0017,
          0.0013,
          0.0013,
          0.0012,
          0.0009,
          0.0003,
          0.0001,
          0,
          0,
          0,
          0,
          0
         ],
         "textposition": "outside",
         "type": "bar",
         "uid": "14201aa5-a2a5-453e-a791-388011925a50",
         "x": [
          0.1724044509315215,
          0.11875770122048172,
          0.10316045508429679,
          0.08105191176730095,
          0.06373896305878747,
          0.06307627323290071,
          0.048799048900720024,
          0.0479516988699581,
          0.038197579783936016,
          0.03470856932008461,
          0.02642719052629291,
          0.02431685757556412,
          0.019388628516823766,
          0.018570145655347668,
          0.016236582094316655,
          0.015578591919048224,
          0.014235615878861782,
          0.011065379051957073,
          0.010682591202549793,
          0.01007477796550731,
          0.009262899239010256,
          0.00794427855254067,
          0.0067173944308505425,
          0.006067998049526412,
          0.005215783188395614,
          0.005049097023466743,
          0.004880848676310357,
          0.004450823650295752,
          0.0034379686304583266,
          0.001741666472129516,
          0.0016634903360645992,
          0.0012779859048811532,
          0.001257126081821437,
          0.0011549177658699947,
          0.0009061496439142236,
          0.0002762915331651746,
          0.00014338103698015493,
          4.7197754001543326e-05,
          2.818459608005424e-05,
          2.8092746998078257e-05,
          2.1627654560025385e-05,
          3.784476422186721e-06
         ],
         "y": [
          "http_header_cache-control_set_private + http_header_content-encoding_gzip",
          "http_header_vary_age / http_header_content-length",
          "http_header_content-encoding_gzip + http_header_x-xss-enabled",
          "http_header_connection_keep-alive + http_header_content-language_text/html",
          "http_header_content-language_text/html + http_header_transfer-encoding_chunked",
          "http_header_cache-control_set_max-age + http_header_content-encoding_gzip",
          "http_header_content-encoding_gzip + http_header_vary_accept",
          "http_header_content-language_text/html / http_header_content-encoding_gzip",
          "http_header_connection_close + http_header_content-language_text/html",
          "http_header_cache-control_set_max-age + http_header_transfer-encoding_chunked",
          "http_header_content-encoding_gzip + http_header_pragmano-cache",
          "http_header_server_nginx + http_header_transfer-encoding_chunked",
          "http_header_server_nginx + http_header_vary_accept",
          "http_header_transfer-encoding_chunked + http_header_via_1.1",
          "http_header_content-language_text/html / http_header_connection_keep-alive",
          "http_header_cache-control_set_no-cache + http_header_content-encoding_gzip",
          "http_header_content-encoding_gzip + http_header_transfer-encoding_chunked",
          "http_header_pragmano-cache + http_header_vary_accept",
          "http_header_cache-control_set_private + http_header_vary_accept",
          "http_header_content-language_text/html + http_header_via_1.1",
          "http_header_connection_keep-alive * http_header_content-language_text/html",
          "http_header_connection_keep-alive / http_header_content-language_text/html",
          "http_header_content-encoding_gzip + http_header_server_nginx",
          "http_header_transfer-encoding_chunked + http_header_vary_accept",
          "http_header_vary_accept + http_header_x-xss-enabled",
          "http_header_cache-control_set_public + http_header_vary_accept",
          "http_header_content-encoding_gzip + http_header_via_1.1",
          "http_header_connection_keep-alive + http_header_vary_accept",
          "http_header_content-language_text/html",
          "http_header_content-language_text/html + http_header_server_nginx",
          "http_header_content-encoding_gzip + http_header_expect-ctmax-age",
          "http_header_cache-control_set_public + http_header_content-encoding_gzip",
          "http_header_content-language_text/html + http_header_expect-ctmax-age",
          "http_header_content-language_text/html + http_header_vary_accept",
          "http_header_connection_keep-alive / http_header_content-encoding_gzip",
          "http_header_content-encoding_gzip + http_header_content-language_text/html",
          "http_header_connection_keep-alive * http_header_content-encoding_gzip",
          "http_header_content-language_text/html * http_header_vary_accept",
          "http_header_content-encoding_gzip",
          "http_header_content-encoding_gzip * http_header_content-language_text/html",
          "http_header_content-encoding_gzip * http_header_vary_accept",
          "http_header_content-encoding_gzip / http_header_content-language_text/html"
         ]
        }
       ],
       "layout": {
        "autosize": false,
        "height": 1000,
        "width": 1000,
        "xaxis": {
         "tickfont": {
          "color": "black",
          "size": 12
         },
         "title": "Feature Importances"
        },
        "yaxis": {
         "automargin": true
        }
       }
      },
      "text/html": [
       "<div id=\"f5c43162-f11f-49b6-8ba7-c0cbf040ebe9\" style=\"height: 1000px; width: 1000px;\" class=\"plotly-graph-div\"></div><script type=\"text/javascript\">require([\"plotly\"], function(Plotly) { window.PLOTLYENV=window.PLOTLYENV || {};window.PLOTLYENV.BASE_URL=\"https://plot.ly\";Plotly.newPlot(\"f5c43162-f11f-49b6-8ba7-c0cbf040ebe9\", [{\"marker\": {\"color\": \"rgb(158,202,225)\", \"line\": {\"color\": \"rgb(8,48,107)\", \"width\": 1.5}}, \"opacity\": 0.6, \"orientation\": \"h\", \"text\": [0.1724, 0.1188, 0.1032, 0.0811, 0.0637, 0.0631, 0.0488, 0.048, 0.0382, 0.0347, 0.0264, 0.0243, 0.0194, 0.0186, 0.0162, 0.0156, 0.0142, 0.0111, 0.0107, 0.0101, 0.0093, 0.0079, 0.0067, 0.0061, 0.0052, 0.005, 0.0049, 0.0045, 0.0034, 0.0017, 0.0017, 0.0013, 0.0013, 0.0012, 0.0009, 0.0003, 0.0001, 0.0, 0.0, 0.0, 0.0, 0.0], \"textposition\": \"outside\", \"x\": [0.1724044509315215, 0.11875770122048172, 0.10316045508429679, 0.08105191176730095, 0.06373896305878747, 0.06307627323290071, 0.048799048900720024, 0.0479516988699581, 0.038197579783936016, 0.03470856932008461, 0.02642719052629291, 0.02431685757556412, 0.019388628516823766, 0.018570145655347668, 0.016236582094316655, 0.015578591919048224, 0.014235615878861782, 0.011065379051957073, 0.010682591202549793, 0.01007477796550731, 0.009262899239010256, 0.00794427855254067, 0.0067173944308505425, 0.006067998049526412, 0.005215783188395614, 0.005049097023466743, 0.004880848676310357, 0.004450823650295752, 0.0034379686304583266, 0.001741666472129516, 0.0016634903360645992, 0.0012779859048811532, 0.001257126081821437, 0.0011549177658699947, 0.0009061496439142236, 0.0002762915331651746, 0.00014338103698015493, 4.7197754001543326e-05, 2.818459608005424e-05, 2.8092746998078257e-05, 2.1627654560025385e-05, 3.784476422186721e-06], \"y\": [\"http_header_cache-control_set_private + http_header_content-encoding_gzip\", \"http_header_vary_age / http_header_content-length\", \"http_header_content-encoding_gzip + http_header_x-xss-enabled\", \"http_header_connection_keep-alive + http_header_content-language_text/html\", \"http_header_content-language_text/html + http_header_transfer-encoding_chunked\", \"http_header_cache-control_set_max-age + http_header_content-encoding_gzip\", \"http_header_content-encoding_gzip + http_header_vary_accept\", \"http_header_content-language_text/html / http_header_content-encoding_gzip\", \"http_header_connection_close + http_header_content-language_text/html\", \"http_header_cache-control_set_max-age + http_header_transfer-encoding_chunked\", \"http_header_content-encoding_gzip + http_header_pragmano-cache\", \"http_header_server_nginx + http_header_transfer-encoding_chunked\", \"http_header_server_nginx + http_header_vary_accept\", \"http_header_transfer-encoding_chunked + http_header_via_1.1\", \"http_header_content-language_text/html / http_header_connection_keep-alive\", \"http_header_cache-control_set_no-cache + http_header_content-encoding_gzip\", \"http_header_content-encoding_gzip + http_header_transfer-encoding_chunked\", \"http_header_pragmano-cache + http_header_vary_accept\", \"http_header_cache-control_set_private + http_header_vary_accept\", \"http_header_content-language_text/html + http_header_via_1.1\", \"http_header_connection_keep-alive * http_header_content-language_text/html\", \"http_header_connection_keep-alive / http_header_content-language_text/html\", \"http_header_content-encoding_gzip + http_header_server_nginx\", \"http_header_transfer-encoding_chunked + http_header_vary_accept\", \"http_header_vary_accept + http_header_x-xss-enabled\", \"http_header_cache-control_set_public + http_header_vary_accept\", \"http_header_content-encoding_gzip + http_header_via_1.1\", \"http_header_connection_keep-alive + http_header_vary_accept\", \"http_header_content-language_text/html\", \"http_header_content-language_text/html + http_header_server_nginx\", \"http_header_content-encoding_gzip + http_header_expect-ctmax-age\", \"http_header_cache-control_set_public + http_header_content-encoding_gzip\", \"http_header_content-language_text/html + http_header_expect-ctmax-age\", \"http_header_content-language_text/html + http_header_vary_accept\", \"http_header_connection_keep-alive / http_header_content-encoding_gzip\", \"http_header_content-encoding_gzip + http_header_content-language_text/html\", \"http_header_connection_keep-alive * http_header_content-encoding_gzip\", \"http_header_content-language_text/html * http_header_vary_accept\", \"http_header_content-encoding_gzip\", \"http_header_content-encoding_gzip * http_header_content-language_text/html\", \"http_header_content-encoding_gzip * http_header_vary_accept\", \"http_header_content-encoding_gzip / http_header_content-language_text/html\"], \"type\": \"bar\", \"uid\": \"14201aa5-a2a5-453e-a791-388011925a50\"}], {\"autosize\": false, \"height\": 1000, \"width\": 1000, \"xaxis\": {\"tickfont\": {\"color\": \"black\", \"size\": 12}, \"title\": \"Feature Importances\"}, \"yaxis\": {\"automargin\": true}}, {\"showLink\": true, \"linkText\": \"Export to plot.ly\", \"plotlyServerURL\": \"https://plot.ly\"})});</script>"
      ],
      "text/vnd.plotly.v1+html": [
       "<div id=\"f5c43162-f11f-49b6-8ba7-c0cbf040ebe9\" style=\"height: 1000px; width: 1000px;\" class=\"plotly-graph-div\"></div><script type=\"text/javascript\">require([\"plotly\"], function(Plotly) { window.PLOTLYENV=window.PLOTLYENV || {};window.PLOTLYENV.BASE_URL=\"https://plot.ly\";Plotly.newPlot(\"f5c43162-f11f-49b6-8ba7-c0cbf040ebe9\", [{\"marker\": {\"color\": \"rgb(158,202,225)\", \"line\": {\"color\": \"rgb(8,48,107)\", \"width\": 1.5}}, \"opacity\": 0.6, \"orientation\": \"h\", \"text\": [0.1724, 0.1188, 0.1032, 0.0811, 0.0637, 0.0631, 0.0488, 0.048, 0.0382, 0.0347, 0.0264, 0.0243, 0.0194, 0.0186, 0.0162, 0.0156, 0.0142, 0.0111, 0.0107, 0.0101, 0.0093, 0.0079, 0.0067, 0.0061, 0.0052, 0.005, 0.0049, 0.0045, 0.0034, 0.0017, 0.0017, 0.0013, 0.0013, 0.0012, 0.0009, 0.0003, 0.0001, 0.0, 0.0, 0.0, 0.0, 0.0], \"textposition\": \"outside\", \"x\": [0.1724044509315215, 0.11875770122048172, 0.10316045508429679, 0.08105191176730095, 0.06373896305878747, 0.06307627323290071, 0.048799048900720024, 0.0479516988699581, 0.038197579783936016, 0.03470856932008461, 0.02642719052629291, 0.02431685757556412, 0.019388628516823766, 0.018570145655347668, 0.016236582094316655, 0.015578591919048224, 0.014235615878861782, 0.011065379051957073, 0.010682591202549793, 0.01007477796550731, 0.009262899239010256, 0.00794427855254067, 0.0067173944308505425, 0.006067998049526412, 0.005215783188395614, 0.005049097023466743, 0.004880848676310357, 0.004450823650295752, 0.0034379686304583266, 0.001741666472129516, 0.0016634903360645992, 0.0012779859048811532, 0.001257126081821437, 0.0011549177658699947, 0.0009061496439142236, 0.0002762915331651746, 0.00014338103698015493, 4.7197754001543326e-05, 2.818459608005424e-05, 2.8092746998078257e-05, 2.1627654560025385e-05, 3.784476422186721e-06], \"y\": [\"http_header_cache-control_set_private + http_header_content-encoding_gzip\", \"http_header_vary_age / http_header_content-length\", \"http_header_content-encoding_gzip + http_header_x-xss-enabled\", \"http_header_connection_keep-alive + http_header_content-language_text/html\", \"http_header_content-language_text/html + http_header_transfer-encoding_chunked\", \"http_header_cache-control_set_max-age + http_header_content-encoding_gzip\", \"http_header_content-encoding_gzip + http_header_vary_accept\", \"http_header_content-language_text/html / http_header_content-encoding_gzip\", \"http_header_connection_close + http_header_content-language_text/html\", \"http_header_cache-control_set_max-age + http_header_transfer-encoding_chunked\", \"http_header_content-encoding_gzip + http_header_pragmano-cache\", \"http_header_server_nginx + http_header_transfer-encoding_chunked\", \"http_header_server_nginx + http_header_vary_accept\", \"http_header_transfer-encoding_chunked + http_header_via_1.1\", \"http_header_content-language_text/html / http_header_connection_keep-alive\", \"http_header_cache-control_set_no-cache + http_header_content-encoding_gzip\", \"http_header_content-encoding_gzip + http_header_transfer-encoding_chunked\", \"http_header_pragmano-cache + http_header_vary_accept\", \"http_header_cache-control_set_private + http_header_vary_accept\", \"http_header_content-language_text/html + http_header_via_1.1\", \"http_header_connection_keep-alive * http_header_content-language_text/html\", \"http_header_connection_keep-alive / http_header_content-language_text/html\", \"http_header_content-encoding_gzip + http_header_server_nginx\", \"http_header_transfer-encoding_chunked + http_header_vary_accept\", \"http_header_vary_accept + http_header_x-xss-enabled\", \"http_header_cache-control_set_public + http_header_vary_accept\", \"http_header_content-encoding_gzip + http_header_via_1.1\", \"http_header_connection_keep-alive + http_header_vary_accept\", \"http_header_content-language_text/html\", \"http_header_content-language_text/html + http_header_server_nginx\", \"http_header_content-encoding_gzip + http_header_expect-ctmax-age\", \"http_header_cache-control_set_public + http_header_content-encoding_gzip\", \"http_header_content-language_text/html + http_header_expect-ctmax-age\", \"http_header_content-language_text/html + http_header_vary_accept\", \"http_header_connection_keep-alive / http_header_content-encoding_gzip\", \"http_header_content-encoding_gzip + http_header_content-language_text/html\", \"http_header_connection_keep-alive * http_header_content-encoding_gzip\", \"http_header_content-language_text/html * http_header_vary_accept\", \"http_header_content-encoding_gzip\", \"http_header_content-encoding_gzip * http_header_content-language_text/html\", \"http_header_content-encoding_gzip * http_header_vary_accept\", \"http_header_content-encoding_gzip / http_header_content-language_text/html\"], \"type\": \"bar\", \"uid\": \"14201aa5-a2a5-453e-a791-388011925a50\"}], {\"autosize\": false, \"height\": 1000, \"width\": 1000, \"xaxis\": {\"tickfont\": {\"color\": \"black\", \"size\": 12}, \"title\": \"Feature Importances\"}, \"yaxis\": {\"automargin\": true}}, {\"showLink\": true, \"linkText\": \"Export to plot.ly\", \"plotlyServerURL\": \"https://plot.ly\"})});</script>"
      ]
     },
     "metadata": {},
     "output_type": "display_data"
    },
    {
     "name": "stdout",
     "output_type": "stream",
     "text": [
      "\n",
      "\n",
      "\u001b[1mAdaoost Classifier\u001b[0m\n",
      "Accuracy of the model for training data is: 0.880629157126\n",
      "Confusion Matrix for training data is:\n"
     ]
    },
    {
     "data": {
      "text/plain": [
       "Predicted  False  True  __all__\n",
       "Actual                         \n",
       "False      29421  2458    31879\n",
       "True        1921  2884     4805\n",
       "__all__    31342  5342    36684"
      ]
     },
     "metadata": {},
     "output_type": "display_data"
    },
    {
     "name": "stdout",
     "output_type": "stream",
     "text": [
      "Accuracy of the model for test data is: 0.878761447885\n",
      "Confusion Matrix for test data is:\n"
     ]
    },
    {
     "data": {
      "text/plain": [
       "Predicted  False  True  __all__\n",
       "Actual                         \n",
       "False       7337   619     7956\n",
       "True         493   723     1216\n",
       "__all__     7830  1342     9172"
      ]
     },
     "metadata": {},
     "output_type": "display_data"
    },
    {
     "data": {
      "application/vnd.plotly.v1+json": {
       "config": {
        "linkText": "Export to plot.ly",
        "plotlyServerURL": "https://plot.ly",
        "showLink": true
       },
       "data": [
        {
         "marker": {
          "color": "rgb(158,202,225)",
          "line": {
           "color": "rgb(8,48,107)",
           "width": 1.5
          }
         },
         "opacity": 0.6,
         "orientation": "h",
         "text": [
          0.12,
          0.12,
          0.08,
          0.08,
          0.08,
          0.06,
          0.06,
          0.04,
          0.04,
          0.04,
          0.04,
          0.04,
          0.02,
          0.02,
          0.02,
          0.02,
          0.02,
          0.02,
          0.02,
          0.02,
          0.02,
          0.02,
          0,
          0,
          0,
          0,
          0,
          0,
          0,
          0,
          0,
          0,
          0,
          0,
          0,
          0,
          0,
          0,
          0,
          0,
          0,
          0
         ],
         "textposition": "outside",
         "type": "bar",
         "uid": "e9bf8d74-0616-4a48-b912-1a9c87938634",
         "x": [
          0.12,
          0.12,
          0.08,
          0.08,
          0.08,
          0.06,
          0.06,
          0.04,
          0.04,
          0.04,
          0.04,
          0.04,
          0.02,
          0.02,
          0.02,
          0.02,
          0.02,
          0.02,
          0.02,
          0.02,
          0.02,
          0.02,
          0,
          0,
          0,
          0,
          0,
          0,
          0,
          0,
          0,
          0,
          0,
          0,
          0,
          0,
          0,
          0,
          0,
          0,
          0,
          0
         ],
         "y": [
          "http_header_vary_age / http_header_content-length",
          "http_header_content-encoding_gzip + http_header_transfer-encoding_chunked",
          "http_header_cache-control_set_max-age + http_header_content-encoding_gzip",
          "http_header_server_nginx + http_header_transfer-encoding_chunked",
          "http_header_connection_keep-alive + http_header_content-language_text/html",
          "http_header_connection_keep-alive + http_header_vary_accept",
          "http_header_content-encoding_gzip + http_header_pragmano-cache",
          "http_header_cache-control_set_max-age + http_header_transfer-encoding_chunked",
          "http_header_cache-control_set_private + http_header_vary_accept",
          "http_header_server_nginx + http_header_vary_accept",
          "http_header_content-language_text/html + http_header_via_1.1",
          "http_header_content-language_text/html + http_header_server_nginx",
          "http_header_content-encoding_gzip + http_header_x-xss-enabled",
          "http_header_cache-control_set_no-cache + http_header_content-encoding_gzip",
          "http_header_cache-control_set_public + http_header_content-encoding_gzip",
          "http_header_connection_close + http_header_content-language_text/html",
          "http_header_content-encoding_gzip + http_header_server_nginx",
          "http_header_vary_accept + http_header_x-xss-enabled",
          "http_header_transfer-encoding_chunked + http_header_via_1.1",
          "http_header_content-language_text/html + http_header_expect-ctmax-age",
          "http_header_transfer-encoding_chunked + http_header_vary_accept",
          "http_header_content-language_text/html / http_header_connection_keep-alive",
          "http_header_content-encoding_gzip / http_header_content-language_text/html",
          "http_header_content-language_text/html + http_header_vary_accept",
          "http_header_cache-control_set_private + http_header_content-encoding_gzip",
          "http_header_pragmano-cache + http_header_vary_accept",
          "http_header_cache-control_set_public + http_header_vary_accept",
          "http_header_content-language_text/html / http_header_content-encoding_gzip",
          "http_header_connection_keep-alive * http_header_content-encoding_gzip",
          "http_header_connection_keep-alive * http_header_content-language_text/html",
          "http_header_connection_keep-alive / http_header_content-encoding_gzip",
          "http_header_content-encoding_gzip + http_header_via_1.1",
          "http_header_connection_keep-alive / http_header_content-language_text/html",
          "http_header_content-encoding_gzip",
          "http_header_content-encoding_gzip * http_header_content-language_text/html",
          "http_header_content-encoding_gzip * http_header_vary_accept",
          "http_header_content-encoding_gzip + http_header_content-language_text/html",
          "http_header_content-encoding_gzip + http_header_expect-ctmax-age",
          "http_header_content-language_text/html * http_header_vary_accept",
          "http_header_content-language_text/html",
          "http_header_content-encoding_gzip + http_header_vary_accept",
          "http_header_content-language_text/html + http_header_transfer-encoding_chunked"
         ]
        }
       ],
       "layout": {
        "autosize": false,
        "height": 1000,
        "width": 1000,
        "xaxis": {
         "tickfont": {
          "color": "black",
          "size": 12
         },
         "title": "Feature Importances"
        },
        "yaxis": {
         "automargin": true
        }
       }
      },
      "text/html": [
       "<div id=\"6e5335ba-73ec-44a3-a748-269ed886deef\" style=\"height: 1000px; width: 1000px;\" class=\"plotly-graph-div\"></div><script type=\"text/javascript\">require([\"plotly\"], function(Plotly) { window.PLOTLYENV=window.PLOTLYENV || {};window.PLOTLYENV.BASE_URL=\"https://plot.ly\";Plotly.newPlot(\"6e5335ba-73ec-44a3-a748-269ed886deef\", [{\"marker\": {\"color\": \"rgb(158,202,225)\", \"line\": {\"color\": \"rgb(8,48,107)\", \"width\": 1.5}}, \"opacity\": 0.6, \"orientation\": \"h\", \"text\": [0.12, 0.12, 0.08, 0.08, 0.08, 0.06, 0.06, 0.04, 0.04, 0.04, 0.04, 0.04, 0.02, 0.02, 0.02, 0.02, 0.02, 0.02, 0.02, 0.02, 0.02, 0.02, 0.0, 0.0, 0.0, 0.0, 0.0, 0.0, 0.0, 0.0, 0.0, 0.0, 0.0, 0.0, 0.0, 0.0, 0.0, 0.0, 0.0, 0.0, 0.0, 0.0], \"textposition\": \"outside\", \"x\": [0.12, 0.12, 0.08, 0.08, 0.08, 0.06, 0.06, 0.04, 0.04, 0.04, 0.04, 0.04, 0.02, 0.02, 0.02, 0.02, 0.02, 0.02, 0.02, 0.02, 0.02, 0.02, 0.0, 0.0, 0.0, 0.0, 0.0, 0.0, 0.0, 0.0, 0.0, 0.0, 0.0, 0.0, 0.0, 0.0, 0.0, 0.0, 0.0, 0.0, 0.0, 0.0], \"y\": [\"http_header_vary_age / http_header_content-length\", \"http_header_content-encoding_gzip + http_header_transfer-encoding_chunked\", \"http_header_cache-control_set_max-age + http_header_content-encoding_gzip\", \"http_header_server_nginx + http_header_transfer-encoding_chunked\", \"http_header_connection_keep-alive + http_header_content-language_text/html\", \"http_header_connection_keep-alive + http_header_vary_accept\", \"http_header_content-encoding_gzip + http_header_pragmano-cache\", \"http_header_cache-control_set_max-age + http_header_transfer-encoding_chunked\", \"http_header_cache-control_set_private + http_header_vary_accept\", \"http_header_server_nginx + http_header_vary_accept\", \"http_header_content-language_text/html + http_header_via_1.1\", \"http_header_content-language_text/html + http_header_server_nginx\", \"http_header_content-encoding_gzip + http_header_x-xss-enabled\", \"http_header_cache-control_set_no-cache + http_header_content-encoding_gzip\", \"http_header_cache-control_set_public + http_header_content-encoding_gzip\", \"http_header_connection_close + http_header_content-language_text/html\", \"http_header_content-encoding_gzip + http_header_server_nginx\", \"http_header_vary_accept + http_header_x-xss-enabled\", \"http_header_transfer-encoding_chunked + http_header_via_1.1\", \"http_header_content-language_text/html + http_header_expect-ctmax-age\", \"http_header_transfer-encoding_chunked + http_header_vary_accept\", \"http_header_content-language_text/html / http_header_connection_keep-alive\", \"http_header_content-encoding_gzip / http_header_content-language_text/html\", \"http_header_content-language_text/html + http_header_vary_accept\", \"http_header_cache-control_set_private + http_header_content-encoding_gzip\", \"http_header_pragmano-cache + http_header_vary_accept\", \"http_header_cache-control_set_public + http_header_vary_accept\", \"http_header_content-language_text/html / http_header_content-encoding_gzip\", \"http_header_connection_keep-alive * http_header_content-encoding_gzip\", \"http_header_connection_keep-alive * http_header_content-language_text/html\", \"http_header_connection_keep-alive / http_header_content-encoding_gzip\", \"http_header_content-encoding_gzip + http_header_via_1.1\", \"http_header_connection_keep-alive / http_header_content-language_text/html\", \"http_header_content-encoding_gzip\", \"http_header_content-encoding_gzip * http_header_content-language_text/html\", \"http_header_content-encoding_gzip * http_header_vary_accept\", \"http_header_content-encoding_gzip + http_header_content-language_text/html\", \"http_header_content-encoding_gzip + http_header_expect-ctmax-age\", \"http_header_content-language_text/html * http_header_vary_accept\", \"http_header_content-language_text/html\", \"http_header_content-encoding_gzip + http_header_vary_accept\", \"http_header_content-language_text/html + http_header_transfer-encoding_chunked\"], \"type\": \"bar\", \"uid\": \"e9bf8d74-0616-4a48-b912-1a9c87938634\"}], {\"autosize\": false, \"height\": 1000, \"width\": 1000, \"xaxis\": {\"tickfont\": {\"color\": \"black\", \"size\": 12}, \"title\": \"Feature Importances\"}, \"yaxis\": {\"automargin\": true}}, {\"showLink\": true, \"linkText\": \"Export to plot.ly\", \"plotlyServerURL\": \"https://plot.ly\"})});</script>"
      ],
      "text/vnd.plotly.v1+html": [
       "<div id=\"6e5335ba-73ec-44a3-a748-269ed886deef\" style=\"height: 1000px; width: 1000px;\" class=\"plotly-graph-div\"></div><script type=\"text/javascript\">require([\"plotly\"], function(Plotly) { window.PLOTLYENV=window.PLOTLYENV || {};window.PLOTLYENV.BASE_URL=\"https://plot.ly\";Plotly.newPlot(\"6e5335ba-73ec-44a3-a748-269ed886deef\", [{\"marker\": {\"color\": \"rgb(158,202,225)\", \"line\": {\"color\": \"rgb(8,48,107)\", \"width\": 1.5}}, \"opacity\": 0.6, \"orientation\": \"h\", \"text\": [0.12, 0.12, 0.08, 0.08, 0.08, 0.06, 0.06, 0.04, 0.04, 0.04, 0.04, 0.04, 0.02, 0.02, 0.02, 0.02, 0.02, 0.02, 0.02, 0.02, 0.02, 0.02, 0.0, 0.0, 0.0, 0.0, 0.0, 0.0, 0.0, 0.0, 0.0, 0.0, 0.0, 0.0, 0.0, 0.0, 0.0, 0.0, 0.0, 0.0, 0.0, 0.0], \"textposition\": \"outside\", \"x\": [0.12, 0.12, 0.08, 0.08, 0.08, 0.06, 0.06, 0.04, 0.04, 0.04, 0.04, 0.04, 0.02, 0.02, 0.02, 0.02, 0.02, 0.02, 0.02, 0.02, 0.02, 0.02, 0.0, 0.0, 0.0, 0.0, 0.0, 0.0, 0.0, 0.0, 0.0, 0.0, 0.0, 0.0, 0.0, 0.0, 0.0, 0.0, 0.0, 0.0, 0.0, 0.0], \"y\": [\"http_header_vary_age / http_header_content-length\", \"http_header_content-encoding_gzip + http_header_transfer-encoding_chunked\", \"http_header_cache-control_set_max-age + http_header_content-encoding_gzip\", \"http_header_server_nginx + http_header_transfer-encoding_chunked\", \"http_header_connection_keep-alive + http_header_content-language_text/html\", \"http_header_connection_keep-alive + http_header_vary_accept\", \"http_header_content-encoding_gzip + http_header_pragmano-cache\", \"http_header_cache-control_set_max-age + http_header_transfer-encoding_chunked\", \"http_header_cache-control_set_private + http_header_vary_accept\", \"http_header_server_nginx + http_header_vary_accept\", \"http_header_content-language_text/html + http_header_via_1.1\", \"http_header_content-language_text/html + http_header_server_nginx\", \"http_header_content-encoding_gzip + http_header_x-xss-enabled\", \"http_header_cache-control_set_no-cache + http_header_content-encoding_gzip\", \"http_header_cache-control_set_public + http_header_content-encoding_gzip\", \"http_header_connection_close + http_header_content-language_text/html\", \"http_header_content-encoding_gzip + http_header_server_nginx\", \"http_header_vary_accept + http_header_x-xss-enabled\", \"http_header_transfer-encoding_chunked + http_header_via_1.1\", \"http_header_content-language_text/html + http_header_expect-ctmax-age\", \"http_header_transfer-encoding_chunked + http_header_vary_accept\", \"http_header_content-language_text/html / http_header_connection_keep-alive\", \"http_header_content-encoding_gzip / http_header_content-language_text/html\", \"http_header_content-language_text/html + http_header_vary_accept\", \"http_header_cache-control_set_private + http_header_content-encoding_gzip\", \"http_header_pragmano-cache + http_header_vary_accept\", \"http_header_cache-control_set_public + http_header_vary_accept\", \"http_header_content-language_text/html / http_header_content-encoding_gzip\", \"http_header_connection_keep-alive * http_header_content-encoding_gzip\", \"http_header_connection_keep-alive * http_header_content-language_text/html\", \"http_header_connection_keep-alive / http_header_content-encoding_gzip\", \"http_header_content-encoding_gzip + http_header_via_1.1\", \"http_header_connection_keep-alive / http_header_content-language_text/html\", \"http_header_content-encoding_gzip\", \"http_header_content-encoding_gzip * http_header_content-language_text/html\", \"http_header_content-encoding_gzip * http_header_vary_accept\", \"http_header_content-encoding_gzip + http_header_content-language_text/html\", \"http_header_content-encoding_gzip + http_header_expect-ctmax-age\", \"http_header_content-language_text/html * http_header_vary_accept\", \"http_header_content-language_text/html\", \"http_header_content-encoding_gzip + http_header_vary_accept\", \"http_header_content-language_text/html + http_header_transfer-encoding_chunked\"], \"type\": \"bar\", \"uid\": \"e9bf8d74-0616-4a48-b912-1a9c87938634\"}], {\"autosize\": false, \"height\": 1000, \"width\": 1000, \"xaxis\": {\"tickfont\": {\"color\": \"black\", \"size\": 12}, \"title\": \"Feature Importances\"}, \"yaxis\": {\"automargin\": true}}, {\"showLink\": true, \"linkText\": \"Export to plot.ly\", \"plotlyServerURL\": \"https://plot.ly\"})});</script>"
      ]
     },
     "metadata": {},
     "output_type": "display_data"
    },
    {
     "name": "stdout",
     "output_type": "stream",
     "text": [
      "\n",
      "\n",
      "\u001b[1mGradientBoosting Classifier\u001b[0m\n",
      "Accuracy of the model for training data is: 0.894558935776\n",
      "Confusion Matrix for training data is:\n"
     ]
    },
    {
     "data": {
      "text/plain": [
       "Predicted  False  True  __all__\n",
       "Actual                         \n",
       "False      28961  2918    31879\n",
       "True         950  3855     4805\n",
       "__all__    29911  6773    36684"
      ]
     },
     "metadata": {},
     "output_type": "display_data"
    },
    {
     "name": "stdout",
     "output_type": "stream",
     "text": [
      "Accuracy of the model for test data is: 0.892280854775\n",
      "Confusion Matrix for test data is:\n"
     ]
    },
    {
     "data": {
      "text/plain": [
       "Predicted  False  True  __all__\n",
       "Actual                         \n",
       "False       7217   739     7956\n",
       "True         249   967     1216\n",
       "__all__     7466  1706     9172"
      ]
     },
     "metadata": {},
     "output_type": "display_data"
    },
    {
     "data": {
      "application/vnd.plotly.v1+json": {
       "config": {
        "linkText": "Export to plot.ly",
        "plotlyServerURL": "https://plot.ly",
        "showLink": true
       },
       "data": [
        {
         "marker": {
          "color": "rgb(158,202,225)",
          "line": {
           "color": "rgb(8,48,107)",
           "width": 1.5
          }
         },
         "opacity": 0.6,
         "orientation": "h",
         "text": [
          0.4524,
          0.137,
          0.1271,
          0.0409,
          0.0409,
          0.0349,
          0.0296,
          0.0289,
          0.0244,
          0.0136,
          0.0134,
          0.0124,
          0.0117,
          0.0043,
          0.0041,
          0.004,
          0.0034,
          0.0033,
          0.0027,
          0.0018,
          0.0016,
          0.0016,
          0.0013,
          0.0013,
          0.0012,
          0.0003,
          0.0003,
          0.0003,
          0.0003,
          0.0003,
          0.0002,
          0.0002,
          0,
          0,
          0,
          0,
          0,
          0,
          0,
          0,
          0,
          0
         ],
         "textposition": "outside",
         "type": "bar",
         "uid": "a3b5e369-7bc1-470c-bd78-4b91eeb70dce",
         "x": [
          0.4524341709671856,
          0.1369723900035246,
          0.12712286831553427,
          0.04091903185646443,
          0.040910640857056896,
          0.03493056310990384,
          0.02956777981822095,
          0.02890916878166829,
          0.024388950904412537,
          0.013588729954318248,
          0.013376639872201513,
          0.012443295125913249,
          0.011728846656225768,
          0.004280851262159262,
          0.004131615012223235,
          0.003973918230062145,
          0.003374140040534051,
          0.003309757706046896,
          0.0026963790587546557,
          0.0018320788295952976,
          0.0016192233318575602,
          0.001593674009640972,
          0.0013311917575584329,
          0.0013202682893858147,
          0.00120777769962328,
          0.0003430605727885506,
          0.0003370130663085431,
          0.0002996276632466918,
          0.00029506995221745724,
          0.0002904988034783532,
          0.00019749833506471943,
          0.0001957605887610429,
          4.092666081359862e-05,
          2.5263495653323423e-05,
          8.948800299790921e-06,
          2.380611296252102e-06,
          0,
          0,
          0,
          0,
          0,
          0
         ],
         "y": [
          "http_header_content-encoding_gzip + http_header_transfer-encoding_chunked",
          "http_header_cache-control_set_max-age + http_header_content-encoding_gzip",
          "http_header_vary_age / http_header_content-length",
          "http_header_server_nginx + http_header_transfer-encoding_chunked",
          "http_header_connection_keep-alive + http_header_content-language_text/html",
          "http_header_content-encoding_gzip + http_header_via_1.1",
          "http_header_cache-control_set_private + http_header_vary_accept",
          "http_header_server_nginx + http_header_vary_accept",
          "http_header_content-encoding_gzip + http_header_pragmano-cache",
          "http_header_cache-control_set_private + http_header_content-encoding_gzip",
          "http_header_pragmano-cache + http_header_vary_accept",
          "http_header_connection_close + http_header_content-language_text/html",
          "http_header_cache-control_set_max-age + http_header_transfer-encoding_chunked",
          "http_header_cache-control_set_no-cache + http_header_content-encoding_gzip",
          "http_header_vary_accept + http_header_x-xss-enabled",
          "http_header_connection_keep-alive + http_header_vary_accept",
          "http_header_content-language_text/html + http_header_via_1.1",
          "http_header_content-encoding_gzip + http_header_x-xss-enabled",
          "http_header_content-encoding_gzip + http_header_content-language_text/html",
          "http_header_connection_keep-alive * http_header_content-language_text/html",
          "http_header_content-encoding_gzip + http_header_server_nginx",
          "http_header_content-language_text/html + http_header_expect-ctmax-age",
          "http_header_content-language_text/html + http_header_transfer-encoding_chunked",
          "http_header_content-language_text/html + http_header_server_nginx",
          "http_header_connection_keep-alive / http_header_content-language_text/html",
          "http_header_content-encoding_gzip + http_header_vary_accept",
          "http_header_cache-control_set_public + http_header_content-encoding_gzip",
          "http_header_cache-control_set_public + http_header_vary_accept",
          "http_header_transfer-encoding_chunked + http_header_vary_accept",
          "http_header_transfer-encoding_chunked + http_header_via_1.1",
          "http_header_connection_keep-alive / http_header_content-encoding_gzip",
          "http_header_content-language_text/html + http_header_vary_accept",
          "http_header_content-language_text/html / http_header_connection_keep-alive",
          "http_header_content-encoding_gzip + http_header_expect-ctmax-age",
          "http_header_connection_keep-alive * http_header_content-encoding_gzip",
          "http_header_content-encoding_gzip / http_header_content-language_text/html",
          "http_header_content-encoding_gzip * http_header_content-language_text/html",
          "http_header_content-encoding_gzip",
          "http_header_content-encoding_gzip * http_header_vary_accept",
          "http_header_content-language_text/html * http_header_vary_accept",
          "http_header_content-language_text/html",
          "http_header_content-language_text/html / http_header_content-encoding_gzip"
         ]
        }
       ],
       "layout": {
        "autosize": false,
        "height": 1000,
        "width": 1000,
        "xaxis": {
         "tickfont": {
          "color": "black",
          "size": 12
         },
         "title": "Feature Importances"
        },
        "yaxis": {
         "automargin": true
        }
       }
      },
      "text/html": [
       "<div id=\"e17a327e-bd60-44f2-bcef-c6610da1477f\" style=\"height: 1000px; width: 1000px;\" class=\"plotly-graph-div\"></div><script type=\"text/javascript\">require([\"plotly\"], function(Plotly) { window.PLOTLYENV=window.PLOTLYENV || {};window.PLOTLYENV.BASE_URL=\"https://plot.ly\";Plotly.newPlot(\"e17a327e-bd60-44f2-bcef-c6610da1477f\", [{\"marker\": {\"color\": \"rgb(158,202,225)\", \"line\": {\"color\": \"rgb(8,48,107)\", \"width\": 1.5}}, \"opacity\": 0.6, \"orientation\": \"h\", \"text\": [0.4524, 0.137, 0.1271, 0.0409, 0.0409, 0.0349, 0.0296, 0.0289, 0.0244, 0.0136, 0.0134, 0.0124, 0.0117, 0.0043, 0.0041, 0.004, 0.0034, 0.0033, 0.0027, 0.0018, 0.0016, 0.0016, 0.0013, 0.0013, 0.0012, 0.0003, 0.0003, 0.0003, 0.0003, 0.0003, 0.0002, 0.0002, 0.0, 0.0, 0.0, 0.0, 0.0, 0.0, 0.0, 0.0, 0.0, 0.0], \"textposition\": \"outside\", \"x\": [0.4524341709671856, 0.1369723900035246, 0.12712286831553427, 0.04091903185646443, 0.040910640857056896, 0.03493056310990384, 0.02956777981822095, 0.02890916878166829, 0.024388950904412537, 0.013588729954318248, 0.013376639872201513, 0.012443295125913249, 0.011728846656225768, 0.004280851262159262, 0.004131615012223235, 0.003973918230062145, 0.003374140040534051, 0.003309757706046896, 0.0026963790587546557, 0.0018320788295952976, 0.0016192233318575602, 0.001593674009640972, 0.0013311917575584329, 0.0013202682893858147, 0.00120777769962328, 0.0003430605727885506, 0.0003370130663085431, 0.0002996276632466918, 0.00029506995221745724, 0.0002904988034783532, 0.00019749833506471943, 0.0001957605887610429, 4.092666081359862e-05, 2.5263495653323423e-05, 8.948800299790921e-06, 2.380611296252102e-06, 0.0, 0.0, 0.0, 0.0, 0.0, 0.0], \"y\": [\"http_header_content-encoding_gzip + http_header_transfer-encoding_chunked\", \"http_header_cache-control_set_max-age + http_header_content-encoding_gzip\", \"http_header_vary_age / http_header_content-length\", \"http_header_server_nginx + http_header_transfer-encoding_chunked\", \"http_header_connection_keep-alive + http_header_content-language_text/html\", \"http_header_content-encoding_gzip + http_header_via_1.1\", \"http_header_cache-control_set_private + http_header_vary_accept\", \"http_header_server_nginx + http_header_vary_accept\", \"http_header_content-encoding_gzip + http_header_pragmano-cache\", \"http_header_cache-control_set_private + http_header_content-encoding_gzip\", \"http_header_pragmano-cache + http_header_vary_accept\", \"http_header_connection_close + http_header_content-language_text/html\", \"http_header_cache-control_set_max-age + http_header_transfer-encoding_chunked\", \"http_header_cache-control_set_no-cache + http_header_content-encoding_gzip\", \"http_header_vary_accept + http_header_x-xss-enabled\", \"http_header_connection_keep-alive + http_header_vary_accept\", \"http_header_content-language_text/html + http_header_via_1.1\", \"http_header_content-encoding_gzip + http_header_x-xss-enabled\", \"http_header_content-encoding_gzip + http_header_content-language_text/html\", \"http_header_connection_keep-alive * http_header_content-language_text/html\", \"http_header_content-encoding_gzip + http_header_server_nginx\", \"http_header_content-language_text/html + http_header_expect-ctmax-age\", \"http_header_content-language_text/html + http_header_transfer-encoding_chunked\", \"http_header_content-language_text/html + http_header_server_nginx\", \"http_header_connection_keep-alive / http_header_content-language_text/html\", \"http_header_content-encoding_gzip + http_header_vary_accept\", \"http_header_cache-control_set_public + http_header_content-encoding_gzip\", \"http_header_cache-control_set_public + http_header_vary_accept\", \"http_header_transfer-encoding_chunked + http_header_vary_accept\", \"http_header_transfer-encoding_chunked + http_header_via_1.1\", \"http_header_connection_keep-alive / http_header_content-encoding_gzip\", \"http_header_content-language_text/html + http_header_vary_accept\", \"http_header_content-language_text/html / http_header_connection_keep-alive\", \"http_header_content-encoding_gzip + http_header_expect-ctmax-age\", \"http_header_connection_keep-alive * http_header_content-encoding_gzip\", \"http_header_content-encoding_gzip / http_header_content-language_text/html\", \"http_header_content-encoding_gzip * http_header_content-language_text/html\", \"http_header_content-encoding_gzip\", \"http_header_content-encoding_gzip * http_header_vary_accept\", \"http_header_content-language_text/html * http_header_vary_accept\", \"http_header_content-language_text/html\", \"http_header_content-language_text/html / http_header_content-encoding_gzip\"], \"type\": \"bar\", \"uid\": \"a3b5e369-7bc1-470c-bd78-4b91eeb70dce\"}], {\"autosize\": false, \"height\": 1000, \"width\": 1000, \"xaxis\": {\"tickfont\": {\"color\": \"black\", \"size\": 12}, \"title\": \"Feature Importances\"}, \"yaxis\": {\"automargin\": true}}, {\"showLink\": true, \"linkText\": \"Export to plot.ly\", \"plotlyServerURL\": \"https://plot.ly\"})});</script>"
      ],
      "text/vnd.plotly.v1+html": [
       "<div id=\"e17a327e-bd60-44f2-bcef-c6610da1477f\" style=\"height: 1000px; width: 1000px;\" class=\"plotly-graph-div\"></div><script type=\"text/javascript\">require([\"plotly\"], function(Plotly) { window.PLOTLYENV=window.PLOTLYENV || {};window.PLOTLYENV.BASE_URL=\"https://plot.ly\";Plotly.newPlot(\"e17a327e-bd60-44f2-bcef-c6610da1477f\", [{\"marker\": {\"color\": \"rgb(158,202,225)\", \"line\": {\"color\": \"rgb(8,48,107)\", \"width\": 1.5}}, \"opacity\": 0.6, \"orientation\": \"h\", \"text\": [0.4524, 0.137, 0.1271, 0.0409, 0.0409, 0.0349, 0.0296, 0.0289, 0.0244, 0.0136, 0.0134, 0.0124, 0.0117, 0.0043, 0.0041, 0.004, 0.0034, 0.0033, 0.0027, 0.0018, 0.0016, 0.0016, 0.0013, 0.0013, 0.0012, 0.0003, 0.0003, 0.0003, 0.0003, 0.0003, 0.0002, 0.0002, 0.0, 0.0, 0.0, 0.0, 0.0, 0.0, 0.0, 0.0, 0.0, 0.0], \"textposition\": \"outside\", \"x\": [0.4524341709671856, 0.1369723900035246, 0.12712286831553427, 0.04091903185646443, 0.040910640857056896, 0.03493056310990384, 0.02956777981822095, 0.02890916878166829, 0.024388950904412537, 0.013588729954318248, 0.013376639872201513, 0.012443295125913249, 0.011728846656225768, 0.004280851262159262, 0.004131615012223235, 0.003973918230062145, 0.003374140040534051, 0.003309757706046896, 0.0026963790587546557, 0.0018320788295952976, 0.0016192233318575602, 0.001593674009640972, 0.0013311917575584329, 0.0013202682893858147, 0.00120777769962328, 0.0003430605727885506, 0.0003370130663085431, 0.0002996276632466918, 0.00029506995221745724, 0.0002904988034783532, 0.00019749833506471943, 0.0001957605887610429, 4.092666081359862e-05, 2.5263495653323423e-05, 8.948800299790921e-06, 2.380611296252102e-06, 0.0, 0.0, 0.0, 0.0, 0.0, 0.0], \"y\": [\"http_header_content-encoding_gzip + http_header_transfer-encoding_chunked\", \"http_header_cache-control_set_max-age + http_header_content-encoding_gzip\", \"http_header_vary_age / http_header_content-length\", \"http_header_server_nginx + http_header_transfer-encoding_chunked\", \"http_header_connection_keep-alive + http_header_content-language_text/html\", \"http_header_content-encoding_gzip + http_header_via_1.1\", \"http_header_cache-control_set_private + http_header_vary_accept\", \"http_header_server_nginx + http_header_vary_accept\", \"http_header_content-encoding_gzip + http_header_pragmano-cache\", \"http_header_cache-control_set_private + http_header_content-encoding_gzip\", \"http_header_pragmano-cache + http_header_vary_accept\", \"http_header_connection_close + http_header_content-language_text/html\", \"http_header_cache-control_set_max-age + http_header_transfer-encoding_chunked\", \"http_header_cache-control_set_no-cache + http_header_content-encoding_gzip\", \"http_header_vary_accept + http_header_x-xss-enabled\", \"http_header_connection_keep-alive + http_header_vary_accept\", \"http_header_content-language_text/html + http_header_via_1.1\", \"http_header_content-encoding_gzip + http_header_x-xss-enabled\", \"http_header_content-encoding_gzip + http_header_content-language_text/html\", \"http_header_connection_keep-alive * http_header_content-language_text/html\", \"http_header_content-encoding_gzip + http_header_server_nginx\", \"http_header_content-language_text/html + http_header_expect-ctmax-age\", \"http_header_content-language_text/html + http_header_transfer-encoding_chunked\", \"http_header_content-language_text/html + http_header_server_nginx\", \"http_header_connection_keep-alive / http_header_content-language_text/html\", \"http_header_content-encoding_gzip + http_header_vary_accept\", \"http_header_cache-control_set_public + http_header_content-encoding_gzip\", \"http_header_cache-control_set_public + http_header_vary_accept\", \"http_header_transfer-encoding_chunked + http_header_vary_accept\", \"http_header_transfer-encoding_chunked + http_header_via_1.1\", \"http_header_connection_keep-alive / http_header_content-encoding_gzip\", \"http_header_content-language_text/html + http_header_vary_accept\", \"http_header_content-language_text/html / http_header_connection_keep-alive\", \"http_header_content-encoding_gzip + http_header_expect-ctmax-age\", \"http_header_connection_keep-alive * http_header_content-encoding_gzip\", \"http_header_content-encoding_gzip / http_header_content-language_text/html\", \"http_header_content-encoding_gzip * http_header_content-language_text/html\", \"http_header_content-encoding_gzip\", \"http_header_content-encoding_gzip * http_header_vary_accept\", \"http_header_content-language_text/html * http_header_vary_accept\", \"http_header_content-language_text/html\", \"http_header_content-language_text/html / http_header_content-encoding_gzip\"], \"type\": \"bar\", \"uid\": \"a3b5e369-7bc1-470c-bd78-4b91eeb70dce\"}], {\"autosize\": false, \"height\": 1000, \"width\": 1000, \"xaxis\": {\"tickfont\": {\"color\": \"black\", \"size\": 12}, \"title\": \"Feature Importances\"}, \"yaxis\": {\"automargin\": true}}, {\"showLink\": true, \"linkText\": \"Export to plot.ly\", \"plotlyServerURL\": \"https://plot.ly\"})});</script>"
      ]
     },
     "metadata": {},
     "output_type": "display_data"
    },
    {
     "name": "stdout",
     "output_type": "stream",
     "text": [
      "\n",
      "\n",
      "\u001b[1mExtraTree Classifier\u001b[0m\n",
      "Accuracy of the model for training data is: 0.897257660015\n",
      "Confusion Matrix for training data is:\n"
     ]
    },
    {
     "data": {
      "text/plain": [
       "Predicted  False  True  __all__\n",
       "Actual                         \n",
       "False      29005  2874    31879\n",
       "True         895  3910     4805\n",
       "__all__    29900  6784    36684"
      ]
     },
     "metadata": {},
     "output_type": "display_data"
    },
    {
     "name": "stdout",
     "output_type": "stream",
     "text": [
      "Accuracy of the model for test data is: 0.891735717401\n",
      "Confusion Matrix for test data is:\n"
     ]
    },
    {
     "data": {
      "text/plain": [
       "Predicted  False  True  __all__\n",
       "Actual                         \n",
       "False       7213   743     7956\n",
       "True         250   966     1216\n",
       "__all__     7463  1709     9172"
      ]
     },
     "metadata": {},
     "output_type": "display_data"
    },
    {
     "data": {
      "application/vnd.plotly.v1+json": {
       "config": {
        "linkText": "Export to plot.ly",
        "plotlyServerURL": "https://plot.ly",
        "showLink": true
       },
       "data": [
        {
         "marker": {
          "color": "rgb(158,202,225)",
          "line": {
           "color": "rgb(8,48,107)",
           "width": 1.5
          }
         },
         "opacity": 0.6,
         "orientation": "h",
         "text": [
          0.1652,
          0.1204,
          0.1141,
          0.0623,
          0.0602,
          0.0585,
          0.0512,
          0.0476,
          0.0359,
          0.0293,
          0.0246,
          0.0223,
          0.0221,
          0.0169,
          0.0164,
          0.0155,
          0.0152,
          0.0152,
          0.0136,
          0.0129,
          0.0129,
          0.0105,
          0.0095,
          0.0071,
          0.007,
          0.0057,
          0.0045,
          0.0035,
          0.0034,
          0.003,
          0.0028,
          0.0021,
          0.002,
          0.0018,
          0.0017,
          0.0009,
          0.0008,
          0.0007,
          0.0004,
          0.0002,
          0,
          0
         ],
         "textposition": "outside",
         "type": "bar",
         "uid": "bb604cc1-5ee1-4465-994e-d8f4fb81730c",
         "x": [
          0.16520477060567698,
          0.12041481478034781,
          0.11407469846498915,
          0.06233435759311925,
          0.060220758530105264,
          0.058488024820784724,
          0.05118117497421772,
          0.04757910422761162,
          0.0359098506302964,
          0.02933430096565214,
          0.02458858686343738,
          0.0223030713051252,
          0.022115381675334646,
          0.016855557342375718,
          0.0163534982829614,
          0.015503560916073283,
          0.015239747505049545,
          0.015231582941964023,
          0.013578175658038519,
          0.01291118978783642,
          0.012854786572901133,
          0.010531661421926871,
          0.009450738499957896,
          0.0070951504814461995,
          0.0069723516091203305,
          0.005686470744054369,
          0.004520405743714874,
          0.0035460222820701943,
          0.0034185165365495625,
          0.0030204597958563054,
          0.0028262729535242477,
          0.002137477014653195,
          0.0019788291279348273,
          0.001812940771900538,
          0.001685002566527534,
          0.000883147674525849,
          0.0007960432701073219,
          0.0007393156260097955,
          0.0003954980363405654,
          0.00017718498508045177,
          3.5714516777228774e-05,
          1.380189802353715e-05
         ],
         "y": [
          "http_header_content-encoding_gzip + http_header_transfer-encoding_chunked",
          "http_header_cache-control_set_max-age + http_header_content-encoding_gzip",
          "http_header_vary_age / http_header_content-length",
          "http_header_cache-control_set_private + http_header_content-encoding_gzip",
          "http_header_content-encoding_gzip / http_header_content-language_text/html",
          "http_header_transfer-encoding_chunked + http_header_vary_accept",
          "http_header_content-language_text/html / http_header_content-encoding_gzip",
          "http_header_content-language_text/html + http_header_vary_accept",
          "http_header_connection_close + http_header_content-language_text/html",
          "http_header_server_nginx + http_header_transfer-encoding_chunked",
          "http_header_connection_keep-alive + http_header_content-language_text/html",
          "http_header_pragmano-cache + http_header_vary_accept",
          "http_header_content-encoding_gzip + http_header_content-language_text/html",
          "http_header_cache-control_set_no-cache + http_header_content-encoding_gzip",
          "http_header_content-encoding_gzip + http_header_pragmano-cache",
          "http_header_content-encoding_gzip + http_header_server_nginx",
          "http_header_transfer-encoding_chunked + http_header_via_1.1",
          "http_header_content-language_text/html / http_header_connection_keep-alive",
          "http_header_cache-control_set_max-age + http_header_transfer-encoding_chunked",
          "http_header_connection_keep-alive / http_header_content-language_text/html",
          "http_header_connection_keep-alive + http_header_vary_accept",
          "http_header_cache-control_set_private + http_header_vary_accept",
          "http_header_content-encoding_gzip + http_header_via_1.1",
          "http_header_content-encoding_gzip + http_header_x-xss-enabled",
          "http_header_content-language_text/html + http_header_via_1.1",
          "http_header_vary_accept + http_header_x-xss-enabled",
          "http_header_content-language_text/html + http_header_server_nginx",
          "http_header_connection_keep-alive * http_header_content-language_text/html",
          "http_header_content-encoding_gzip + http_header_expect-ctmax-age",
          "http_header_server_nginx + http_header_vary_accept",
          "http_header_content-language_text/html + http_header_transfer-encoding_chunked",
          "http_header_cache-control_set_public + http_header_vary_accept",
          "http_header_connection_keep-alive / http_header_content-encoding_gzip",
          "http_header_cache-control_set_public + http_header_content-encoding_gzip",
          "http_header_content-language_text/html + http_header_expect-ctmax-age",
          "http_header_content-language_text/html * http_header_vary_accept",
          "http_header_content-language_text/html",
          "http_header_content-encoding_gzip + http_header_vary_accept",
          "http_header_content-encoding_gzip * http_header_vary_accept",
          "http_header_connection_keep-alive * http_header_content-encoding_gzip",
          "http_header_content-encoding_gzip",
          "http_header_content-encoding_gzip * http_header_content-language_text/html"
         ]
        }
       ],
       "layout": {
        "autosize": false,
        "height": 1000,
        "width": 1000,
        "xaxis": {
         "tickfont": {
          "color": "black",
          "size": 12
         },
         "title": "Feature Importances"
        },
        "yaxis": {
         "automargin": true
        }
       }
      },
      "text/html": [
       "<div id=\"31cffa33-fd29-4341-8c0f-054664b89a2e\" style=\"height: 1000px; width: 1000px;\" class=\"plotly-graph-div\"></div><script type=\"text/javascript\">require([\"plotly\"], function(Plotly) { window.PLOTLYENV=window.PLOTLYENV || {};window.PLOTLYENV.BASE_URL=\"https://plot.ly\";Plotly.newPlot(\"31cffa33-fd29-4341-8c0f-054664b89a2e\", [{\"marker\": {\"color\": \"rgb(158,202,225)\", \"line\": {\"color\": \"rgb(8,48,107)\", \"width\": 1.5}}, \"opacity\": 0.6, \"orientation\": \"h\", \"text\": [0.1652, 0.1204, 0.1141, 0.0623, 0.0602, 0.0585, 0.0512, 0.0476, 0.0359, 0.0293, 0.0246, 0.0223, 0.0221, 0.0169, 0.0164, 0.0155, 0.0152, 0.0152, 0.0136, 0.0129, 0.0129, 0.0105, 0.0095, 0.0071, 0.007, 0.0057, 0.0045, 0.0035, 0.0034, 0.003, 0.0028, 0.0021, 0.002, 0.0018, 0.0017, 0.0009, 0.0008, 0.0007, 0.0004, 0.0002, 0.0, 0.0], \"textposition\": \"outside\", \"x\": [0.16520477060567698, 0.12041481478034781, 0.11407469846498915, 0.06233435759311925, 0.060220758530105264, 0.058488024820784724, 0.05118117497421772, 0.04757910422761162, 0.0359098506302964, 0.02933430096565214, 0.02458858686343738, 0.0223030713051252, 0.022115381675334646, 0.016855557342375718, 0.0163534982829614, 0.015503560916073283, 0.015239747505049545, 0.015231582941964023, 0.013578175658038519, 0.01291118978783642, 0.012854786572901133, 0.010531661421926871, 0.009450738499957896, 0.0070951504814461995, 0.0069723516091203305, 0.005686470744054369, 0.004520405743714874, 0.0035460222820701943, 0.0034185165365495625, 0.0030204597958563054, 0.0028262729535242477, 0.002137477014653195, 0.0019788291279348273, 0.001812940771900538, 0.001685002566527534, 0.000883147674525849, 0.0007960432701073219, 0.0007393156260097955, 0.0003954980363405654, 0.00017718498508045177, 3.5714516777228774e-05, 1.380189802353715e-05], \"y\": [\"http_header_content-encoding_gzip + http_header_transfer-encoding_chunked\", \"http_header_cache-control_set_max-age + http_header_content-encoding_gzip\", \"http_header_vary_age / http_header_content-length\", \"http_header_cache-control_set_private + http_header_content-encoding_gzip\", \"http_header_content-encoding_gzip / http_header_content-language_text/html\", \"http_header_transfer-encoding_chunked + http_header_vary_accept\", \"http_header_content-language_text/html / http_header_content-encoding_gzip\", \"http_header_content-language_text/html + http_header_vary_accept\", \"http_header_connection_close + http_header_content-language_text/html\", \"http_header_server_nginx + http_header_transfer-encoding_chunked\", \"http_header_connection_keep-alive + http_header_content-language_text/html\", \"http_header_pragmano-cache + http_header_vary_accept\", \"http_header_content-encoding_gzip + http_header_content-language_text/html\", \"http_header_cache-control_set_no-cache + http_header_content-encoding_gzip\", \"http_header_content-encoding_gzip + http_header_pragmano-cache\", \"http_header_content-encoding_gzip + http_header_server_nginx\", \"http_header_transfer-encoding_chunked + http_header_via_1.1\", \"http_header_content-language_text/html / http_header_connection_keep-alive\", \"http_header_cache-control_set_max-age + http_header_transfer-encoding_chunked\", \"http_header_connection_keep-alive / http_header_content-language_text/html\", \"http_header_connection_keep-alive + http_header_vary_accept\", \"http_header_cache-control_set_private + http_header_vary_accept\", \"http_header_content-encoding_gzip + http_header_via_1.1\", \"http_header_content-encoding_gzip + http_header_x-xss-enabled\", \"http_header_content-language_text/html + http_header_via_1.1\", \"http_header_vary_accept + http_header_x-xss-enabled\", \"http_header_content-language_text/html + http_header_server_nginx\", \"http_header_connection_keep-alive * http_header_content-language_text/html\", \"http_header_content-encoding_gzip + http_header_expect-ctmax-age\", \"http_header_server_nginx + http_header_vary_accept\", \"http_header_content-language_text/html + http_header_transfer-encoding_chunked\", \"http_header_cache-control_set_public + http_header_vary_accept\", \"http_header_connection_keep-alive / http_header_content-encoding_gzip\", \"http_header_cache-control_set_public + http_header_content-encoding_gzip\", \"http_header_content-language_text/html + http_header_expect-ctmax-age\", \"http_header_content-language_text/html * http_header_vary_accept\", \"http_header_content-language_text/html\", \"http_header_content-encoding_gzip + http_header_vary_accept\", \"http_header_content-encoding_gzip * http_header_vary_accept\", \"http_header_connection_keep-alive * http_header_content-encoding_gzip\", \"http_header_content-encoding_gzip\", \"http_header_content-encoding_gzip * http_header_content-language_text/html\"], \"type\": \"bar\", \"uid\": \"bb604cc1-5ee1-4465-994e-d8f4fb81730c\"}], {\"autosize\": false, \"height\": 1000, \"width\": 1000, \"xaxis\": {\"tickfont\": {\"color\": \"black\", \"size\": 12}, \"title\": \"Feature Importances\"}, \"yaxis\": {\"automargin\": true}}, {\"showLink\": true, \"linkText\": \"Export to plot.ly\", \"plotlyServerURL\": \"https://plot.ly\"})});</script>"
      ],
      "text/vnd.plotly.v1+html": [
       "<div id=\"31cffa33-fd29-4341-8c0f-054664b89a2e\" style=\"height: 1000px; width: 1000px;\" class=\"plotly-graph-div\"></div><script type=\"text/javascript\">require([\"plotly\"], function(Plotly) { window.PLOTLYENV=window.PLOTLYENV || {};window.PLOTLYENV.BASE_URL=\"https://plot.ly\";Plotly.newPlot(\"31cffa33-fd29-4341-8c0f-054664b89a2e\", [{\"marker\": {\"color\": \"rgb(158,202,225)\", \"line\": {\"color\": \"rgb(8,48,107)\", \"width\": 1.5}}, \"opacity\": 0.6, \"orientation\": \"h\", \"text\": [0.1652, 0.1204, 0.1141, 0.0623, 0.0602, 0.0585, 0.0512, 0.0476, 0.0359, 0.0293, 0.0246, 0.0223, 0.0221, 0.0169, 0.0164, 0.0155, 0.0152, 0.0152, 0.0136, 0.0129, 0.0129, 0.0105, 0.0095, 0.0071, 0.007, 0.0057, 0.0045, 0.0035, 0.0034, 0.003, 0.0028, 0.0021, 0.002, 0.0018, 0.0017, 0.0009, 0.0008, 0.0007, 0.0004, 0.0002, 0.0, 0.0], \"textposition\": \"outside\", \"x\": [0.16520477060567698, 0.12041481478034781, 0.11407469846498915, 0.06233435759311925, 0.060220758530105264, 0.058488024820784724, 0.05118117497421772, 0.04757910422761162, 0.0359098506302964, 0.02933430096565214, 0.02458858686343738, 0.0223030713051252, 0.022115381675334646, 0.016855557342375718, 0.0163534982829614, 0.015503560916073283, 0.015239747505049545, 0.015231582941964023, 0.013578175658038519, 0.01291118978783642, 0.012854786572901133, 0.010531661421926871, 0.009450738499957896, 0.0070951504814461995, 0.0069723516091203305, 0.005686470744054369, 0.004520405743714874, 0.0035460222820701943, 0.0034185165365495625, 0.0030204597958563054, 0.0028262729535242477, 0.002137477014653195, 0.0019788291279348273, 0.001812940771900538, 0.001685002566527534, 0.000883147674525849, 0.0007960432701073219, 0.0007393156260097955, 0.0003954980363405654, 0.00017718498508045177, 3.5714516777228774e-05, 1.380189802353715e-05], \"y\": [\"http_header_content-encoding_gzip + http_header_transfer-encoding_chunked\", \"http_header_cache-control_set_max-age + http_header_content-encoding_gzip\", \"http_header_vary_age / http_header_content-length\", \"http_header_cache-control_set_private + http_header_content-encoding_gzip\", \"http_header_content-encoding_gzip / http_header_content-language_text/html\", \"http_header_transfer-encoding_chunked + http_header_vary_accept\", \"http_header_content-language_text/html / http_header_content-encoding_gzip\", \"http_header_content-language_text/html + http_header_vary_accept\", \"http_header_connection_close + http_header_content-language_text/html\", \"http_header_server_nginx + http_header_transfer-encoding_chunked\", \"http_header_connection_keep-alive + http_header_content-language_text/html\", \"http_header_pragmano-cache + http_header_vary_accept\", \"http_header_content-encoding_gzip + http_header_content-language_text/html\", \"http_header_cache-control_set_no-cache + http_header_content-encoding_gzip\", \"http_header_content-encoding_gzip + http_header_pragmano-cache\", \"http_header_content-encoding_gzip + http_header_server_nginx\", \"http_header_transfer-encoding_chunked + http_header_via_1.1\", \"http_header_content-language_text/html / http_header_connection_keep-alive\", \"http_header_cache-control_set_max-age + http_header_transfer-encoding_chunked\", \"http_header_connection_keep-alive / http_header_content-language_text/html\", \"http_header_connection_keep-alive + http_header_vary_accept\", \"http_header_cache-control_set_private + http_header_vary_accept\", \"http_header_content-encoding_gzip + http_header_via_1.1\", \"http_header_content-encoding_gzip + http_header_x-xss-enabled\", \"http_header_content-language_text/html + http_header_via_1.1\", \"http_header_vary_accept + http_header_x-xss-enabled\", \"http_header_content-language_text/html + http_header_server_nginx\", \"http_header_connection_keep-alive * http_header_content-language_text/html\", \"http_header_content-encoding_gzip + http_header_expect-ctmax-age\", \"http_header_server_nginx + http_header_vary_accept\", \"http_header_content-language_text/html + http_header_transfer-encoding_chunked\", \"http_header_cache-control_set_public + http_header_vary_accept\", \"http_header_connection_keep-alive / http_header_content-encoding_gzip\", \"http_header_cache-control_set_public + http_header_content-encoding_gzip\", \"http_header_content-language_text/html + http_header_expect-ctmax-age\", \"http_header_content-language_text/html * http_header_vary_accept\", \"http_header_content-language_text/html\", \"http_header_content-encoding_gzip + http_header_vary_accept\", \"http_header_content-encoding_gzip * http_header_vary_accept\", \"http_header_connection_keep-alive * http_header_content-encoding_gzip\", \"http_header_content-encoding_gzip\", \"http_header_content-encoding_gzip * http_header_content-language_text/html\"], \"type\": \"bar\", \"uid\": \"bb604cc1-5ee1-4465-994e-d8f4fb81730c\"}], {\"autosize\": false, \"height\": 1000, \"width\": 1000, \"xaxis\": {\"tickfont\": {\"color\": \"black\", \"size\": 12}, \"title\": \"Feature Importances\"}, \"yaxis\": {\"automargin\": true}}, {\"showLink\": true, \"linkText\": \"Export to plot.ly\", \"plotlyServerURL\": \"https://plot.ly\"})});</script>"
      ]
     },
     "metadata": {},
     "output_type": "display_data"
    },
    {
     "name": "stdout",
     "output_type": "stream",
     "text": [
      "\n",
      "\n",
      "\u001b[1mBagging Classifier\u001b[0m\n",
      "Accuracy of the model for training data is: 0.896985061607\n",
      "Confusion Matrix for training data is:\n"
     ]
    },
    {
     "data": {
      "text/plain": [
       "Predicted  False  True  __all__\n",
       "Actual                         \n",
       "False      29001  2878    31879\n",
       "True         901  3904     4805\n",
       "__all__    29902  6782    36684"
      ]
     },
     "metadata": {},
     "output_type": "display_data"
    },
    {
     "name": "stdout",
     "output_type": "stream",
     "text": [
      "Accuracy of the model for test data is: 0.8921718273\n",
      "Confusion Matrix for test data is:\n"
     ]
    },
    {
     "data": {
      "text/plain": [
       "Predicted  False  True  __all__\n",
       "Actual                         \n",
       "False       7217   739     7956\n",
       "True         250   966     1216\n",
       "__all__     7467  1705     9172"
      ]
     },
     "metadata": {},
     "output_type": "display_data"
    },
    {
     "name": "stdout",
     "output_type": "stream",
     "text": [
      "\n",
      "\n",
      "\u001b[1mNeural Network-1\u001b[0m\n",
      "The accuracy of the model on training data is: 0.896276305746\n"
     ]
    },
    {
     "data": {
      "text/plain": [
       "Predicted  False  True  __all__\n",
       "Actual                         \n",
       "False      28997  2882    31879\n",
       "True         923  3882     4805\n",
       "__all__    29920  6764    36684"
      ]
     },
     "metadata": {},
     "output_type": "display_data"
    },
    {
     "name": "stdout",
     "output_type": "stream",
     "text": [
      "The accuracy of the model on test data is: 0.892716964675\n"
     ]
    },
    {
     "data": {
      "text/plain": [
       "Predicted  False  True  __all__\n",
       "Actual                         \n",
       "False       7222   734     7956\n",
       "True         250   966     1216\n",
       "__all__     7472  1700     9172"
      ]
     },
     "metadata": {},
     "output_type": "display_data"
    },
    {
     "name": "stdout",
     "output_type": "stream",
     "text": [
      "\n",
      "\n"
     ]
    }
   ],
   "source": [
    "feat_imp=[None]*4\n",
    "j=0\n",
    "for i in range(0,8):\n",
    "    if i>=2 and i<=5:\n",
    "        model,cm_train,cm_test,acc_train,acc_test,roc_auc,feat_imp[j]=f[i](X_train,Y_train,X_test,Y_test,feature_name)\n",
    "        j=j+1\n",
    "    else:\n",
    "        model,cm_train,cm_test,acc_train,acc_test,roc_auc=f[i](X_train,Y_train,X_test,Y_test)\n",
    "    table_80_60_train.loc[i]=   ([acc_train,cm_train.TP,cm_train.TN,cm_train.FP,cm_train.FN,cm_train.FPR,cm_train.FNR])\n",
    "    table_80_60_test.loc[i] =   ([acc_test ,cm_test.TP, cm_test.TN, cm_test.FP, cm_test.FN, cm_test.FPR, cm_test.FNR,roc_auc])\n",
    "    print(\"\\n\")"
   ]
  },
  {
   "cell_type": "markdown",
   "metadata": {},
   "source": [
    "### <a id='2.A' style=\"text-decoration : none; color : #000000;\"> A. Results</a>"
   ]
  },
  {
   "cell_type": "code",
   "execution_count": 39,
   "metadata": {},
   "outputs": [
    {
     "data": {
      "application/vnd.plotly.v1+json": {
       "config": {
        "linkText": "Export to plot.ly",
        "plotlyServerURL": "https://plot.ly",
        "showLink": true
       },
       "data": [
        {
         "mode": "lines",
         "name": "KNN_model",
         "type": "scatter",
         "uid": "736f3730-505f-48b8-85a9-328de23a2bea",
         "x": [
          "accuracy",
          "FPR",
          "FNR",
          "auc"
         ],
         "y": [
          0.8817051897078063,
          0.026143790849673203,
          0.7212171052631579,
          0.6263195519435845
         ]
        },
        {
         "mode": "lines+markers",
         "name": "Logistic Regression",
         "type": "scatter",
         "uid": "7c507064-81c2-475a-be5a-100c298991b7",
         "x": [
          "accuracy",
          "FPR",
          "FNR",
          "auc"
         ],
         "y": [
          0.8785433929350196,
          0.07805429864253394,
          0.40542763157894735,
          0.7582590348892594
         ]
        },
        {
         "marker": {
          "symbol": "x"
         },
         "mode": "lines+markers",
         "name": "Random Forest",
         "type": "scatter",
         "uid": "9cecee6a-b145-4a41-badb-d1d5d5dcf3f1",
         "x": [
          "accuracy",
          "FPR",
          "FNR",
          "auc"
         ],
         "y": [
          0.8912996075010903,
          0.09389140271493213,
          0.20559210526315788,
          0.850258246010955
         ]
        },
        {
         "mode": "lines",
         "name": "Ada Boost",
         "type": "scatter",
         "uid": "5701ab4b-2669-4621-ace1-19ac35a9a21b",
         "x": [
          "accuracy",
          "FPR",
          "FNR",
          "auc"
         ],
         "y": [
          0.878761447884867,
          0.07780291603821016,
          0.40542763157894735,
          0.7583847261914213
         ]
        },
        {
         "mode": "lines+markers",
         "name": "GradientBoosting",
         "type": "scatter",
         "uid": "65d28973-d637-4928-9114-5fa79c81004e",
         "x": [
          "accuracy",
          "FPR",
          "FNR",
          "auc"
         ],
         "y": [
          0.8922808547754034,
          0.092885872297637,
          0.20476973684210525,
          0.8511721954301288
         ]
        },
        {
         "marker": {
          "symbol": "x"
         },
         "mode": "lines+markers",
         "name": "ExtraTree Classifier",
         "type": "scatter",
         "uid": "4f38cd00-f040-40e3-a54b-48a7e53f66ef",
         "x": [
          "accuracy",
          "FPR",
          "FNR",
          "auc"
         ],
         "y": [
          0.8917357174007849,
          0.09338863750628457,
          0.20559210526315788,
          0.8505096286152788
         ]
        },
        {
         "marker": {
          "symbol": "x"
         },
         "mode": "lines+markers",
         "name": "Bagging",
         "type": "scatter",
         "uid": "72aaec59-1917-49e4-87d1-408d6cbbd893",
         "x": [
          "accuracy",
          "FPR",
          "FNR",
          "auc"
         ],
         "y": [
          0.8921718273004797,
          0.092885872297637,
          0.20559210526315788,
          0.8507610112196025
         ]
        },
        {
         "marker": {
          "symbol": "x"
         },
         "mode": "lines+markers",
         "name": "Neural Network",
         "type": "scatter",
         "uid": "5e1032e4-edf0-4fb9-afae-76ceaab9d0f7",
         "x": [
          "accuracy",
          "FPR",
          "FNR",
          "auc"
         ],
         "y": [
          0.8927169646750981,
          0.09225741578682756,
          0.20559210526315788,
          0.8507610112196025
         ]
        }
       ],
       "layout": {
        "title": "Result comparision for Features selected in Section 1",
        "yaxis": {
         "dtick": 0.05,
         "tick0": 0
        }
       }
      },
      "text/html": [
       "<div id=\"5c61a719-7581-4276-b2bc-8ccafdce1d10\" style=\"height: 525px; width: 100%;\" class=\"plotly-graph-div\"></div><script type=\"text/javascript\">require([\"plotly\"], function(Plotly) { window.PLOTLYENV=window.PLOTLYENV || {};window.PLOTLYENV.BASE_URL=\"https://plot.ly\";Plotly.newPlot(\"5c61a719-7581-4276-b2bc-8ccafdce1d10\", [{\"mode\": \"lines\", \"name\": \"KNN_model\", \"x\": [\"accuracy\", \"FPR\", \"FNR\", \"auc\"], \"y\": [0.8817051897078063, 0.026143790849673203, 0.7212171052631579, 0.6263195519435845], \"type\": \"scatter\", \"uid\": \"736f3730-505f-48b8-85a9-328de23a2bea\"}, {\"mode\": \"lines+markers\", \"name\": \"Logistic Regression\", \"x\": [\"accuracy\", \"FPR\", \"FNR\", \"auc\"], \"y\": [0.8785433929350196, 0.07805429864253394, 0.40542763157894735, 0.7582590348892594], \"type\": \"scatter\", \"uid\": \"7c507064-81c2-475a-be5a-100c298991b7\"}, {\"marker\": {\"symbol\": \"x\"}, \"mode\": \"lines+markers\", \"name\": \"Random Forest\", \"x\": [\"accuracy\", \"FPR\", \"FNR\", \"auc\"], \"y\": [0.8912996075010903, 0.09389140271493213, 0.20559210526315788, 0.850258246010955], \"type\": \"scatter\", \"uid\": \"9cecee6a-b145-4a41-badb-d1d5d5dcf3f1\"}, {\"mode\": \"lines\", \"name\": \"Ada Boost\", \"x\": [\"accuracy\", \"FPR\", \"FNR\", \"auc\"], \"y\": [0.878761447884867, 0.07780291603821016, 0.40542763157894735, 0.7583847261914213], \"type\": \"scatter\", \"uid\": \"5701ab4b-2669-4621-ace1-19ac35a9a21b\"}, {\"mode\": \"lines+markers\", \"name\": \"GradientBoosting\", \"x\": [\"accuracy\", \"FPR\", \"FNR\", \"auc\"], \"y\": [0.8922808547754034, 0.092885872297637, 0.20476973684210525, 0.8511721954301288], \"type\": \"scatter\", \"uid\": \"65d28973-d637-4928-9114-5fa79c81004e\"}, {\"marker\": {\"symbol\": \"x\"}, \"mode\": \"lines+markers\", \"name\": \"ExtraTree Classifier\", \"x\": [\"accuracy\", \"FPR\", \"FNR\", \"auc\"], \"y\": [0.8917357174007849, 0.09338863750628457, 0.20559210526315788, 0.8505096286152788], \"type\": \"scatter\", \"uid\": \"4f38cd00-f040-40e3-a54b-48a7e53f66ef\"}, {\"marker\": {\"symbol\": \"x\"}, \"mode\": \"lines+markers\", \"name\": \"Bagging\", \"x\": [\"accuracy\", \"FPR\", \"FNR\", \"auc\"], \"y\": [0.8921718273004797, 0.092885872297637, 0.20559210526315788, 0.8507610112196025], \"type\": \"scatter\", \"uid\": \"72aaec59-1917-49e4-87d1-408d6cbbd893\"}, {\"marker\": {\"symbol\": \"x\"}, \"mode\": \"lines+markers\", \"name\": \"Neural Network\", \"x\": [\"accuracy\", \"FPR\", \"FNR\", \"auc\"], \"y\": [0.8927169646750981, 0.09225741578682756, 0.20559210526315788, 0.8507610112196025], \"type\": \"scatter\", \"uid\": \"5e1032e4-edf0-4fb9-afae-76ceaab9d0f7\"}], {\"title\": \"Result comparision for Features selected in Section 1\", \"yaxis\": {\"dtick\": 0.05, \"tick0\": 0}}, {\"showLink\": true, \"linkText\": \"Export to plot.ly\", \"plotlyServerURL\": \"https://plot.ly\"})});</script><script type=\"text/javascript\">window.addEventListener(\"resize\", function(){window._Plotly.Plots.resize(document.getElementById(\"5c61a719-7581-4276-b2bc-8ccafdce1d10\"));});</script>"
      ],
      "text/vnd.plotly.v1+html": [
       "<div id=\"5c61a719-7581-4276-b2bc-8ccafdce1d10\" style=\"height: 525px; width: 100%;\" class=\"plotly-graph-div\"></div><script type=\"text/javascript\">require([\"plotly\"], function(Plotly) { window.PLOTLYENV=window.PLOTLYENV || {};window.PLOTLYENV.BASE_URL=\"https://plot.ly\";Plotly.newPlot(\"5c61a719-7581-4276-b2bc-8ccafdce1d10\", [{\"mode\": \"lines\", \"name\": \"KNN_model\", \"x\": [\"accuracy\", \"FPR\", \"FNR\", \"auc\"], \"y\": [0.8817051897078063, 0.026143790849673203, 0.7212171052631579, 0.6263195519435845], \"type\": \"scatter\", \"uid\": \"736f3730-505f-48b8-85a9-328de23a2bea\"}, {\"mode\": \"lines+markers\", \"name\": \"Logistic Regression\", \"x\": [\"accuracy\", \"FPR\", \"FNR\", \"auc\"], \"y\": [0.8785433929350196, 0.07805429864253394, 0.40542763157894735, 0.7582590348892594], \"type\": \"scatter\", \"uid\": \"7c507064-81c2-475a-be5a-100c298991b7\"}, {\"marker\": {\"symbol\": \"x\"}, \"mode\": \"lines+markers\", \"name\": \"Random Forest\", \"x\": [\"accuracy\", \"FPR\", \"FNR\", \"auc\"], \"y\": [0.8912996075010903, 0.09389140271493213, 0.20559210526315788, 0.850258246010955], \"type\": \"scatter\", \"uid\": \"9cecee6a-b145-4a41-badb-d1d5d5dcf3f1\"}, {\"mode\": \"lines\", \"name\": \"Ada Boost\", \"x\": [\"accuracy\", \"FPR\", \"FNR\", \"auc\"], \"y\": [0.878761447884867, 0.07780291603821016, 0.40542763157894735, 0.7583847261914213], \"type\": \"scatter\", \"uid\": \"5701ab4b-2669-4621-ace1-19ac35a9a21b\"}, {\"mode\": \"lines+markers\", \"name\": \"GradientBoosting\", \"x\": [\"accuracy\", \"FPR\", \"FNR\", \"auc\"], \"y\": [0.8922808547754034, 0.092885872297637, 0.20476973684210525, 0.8511721954301288], \"type\": \"scatter\", \"uid\": \"65d28973-d637-4928-9114-5fa79c81004e\"}, {\"marker\": {\"symbol\": \"x\"}, \"mode\": \"lines+markers\", \"name\": \"ExtraTree Classifier\", \"x\": [\"accuracy\", \"FPR\", \"FNR\", \"auc\"], \"y\": [0.8917357174007849, 0.09338863750628457, 0.20559210526315788, 0.8505096286152788], \"type\": \"scatter\", \"uid\": \"4f38cd00-f040-40e3-a54b-48a7e53f66ef\"}, {\"marker\": {\"symbol\": \"x\"}, \"mode\": \"lines+markers\", \"name\": \"Bagging\", \"x\": [\"accuracy\", \"FPR\", \"FNR\", \"auc\"], \"y\": [0.8921718273004797, 0.092885872297637, 0.20559210526315788, 0.8507610112196025], \"type\": \"scatter\", \"uid\": \"72aaec59-1917-49e4-87d1-408d6cbbd893\"}, {\"marker\": {\"symbol\": \"x\"}, \"mode\": \"lines+markers\", \"name\": \"Neural Network\", \"x\": [\"accuracy\", \"FPR\", \"FNR\", \"auc\"], \"y\": [0.8927169646750981, 0.09225741578682756, 0.20559210526315788, 0.8507610112196025], \"type\": \"scatter\", \"uid\": \"5e1032e4-edf0-4fb9-afae-76ceaab9d0f7\"}], {\"title\": \"Result comparision for Features selected in Section 1\", \"yaxis\": {\"dtick\": 0.05, \"tick0\": 0}}, {\"showLink\": true, \"linkText\": \"Export to plot.ly\", \"plotlyServerURL\": \"https://plot.ly\"})});</script><script type=\"text/javascript\">window.addEventListener(\"resize\", function(){window._Plotly.Plots.resize(document.getElementById(\"5c61a719-7581-4276-b2bc-8ccafdce1d10\"));});</script>"
      ]
     },
     "metadata": {},
     "output_type": "display_data"
    }
   ],
   "source": [
    "trace0 = go.Scatter(x=table_80_60_test.iloc[0].index.values[[0,5,6,7]],\n",
    "                    y=table_80_60_test.iloc[0].values[[0,5,6,7]],\n",
    "                    mode = 'lines',\n",
    "                    name = 'KNN_model')\n",
    "\n",
    "trace1 = go.Scatter(x=table_80_60_test.iloc[1].index.values[[0,5,6,7]],\n",
    "                    y=table_80_60_test.iloc[1].values[[0,5,6,7]],\n",
    "                    mode = 'lines+markers',\n",
    "                    name = 'Logistic Regression')\n",
    "\n",
    "trace2 = go.Scatter(x=table_80_60_test.iloc[2].index.values[[0,5,6,7]],\n",
    "                    y=table_80_60_test.iloc[2].values[[0,5,6,7]],\n",
    "                    mode = 'lines+markers',marker=dict(symbol='x'),\n",
    "                    name = 'Random Forest')\n",
    "\n",
    "\n",
    "trace3 = go.Scatter(x=table_80_60_test.iloc[3].index.values[[0,5,6,7]],\n",
    "                    y=table_80_60_test.iloc[3].values[[0,5,6,7]],\n",
    "                    mode = 'lines',\n",
    "                    name = 'Ada Boost')\n",
    "\n",
    "trace4 = go.Scatter(x=table_80_60_test.iloc[4].index.values[[0,5,6,7]],\n",
    "                    y=table_80_60_test.iloc[4].values[[0,5,6,7]],\n",
    "                    mode = 'lines+markers',\n",
    "                    name = 'GradientBoosting')\n",
    "\n",
    "trace5 = go.Scatter(x=table_80_60_test.iloc[5].index.values[[0,5,6,7]],\n",
    "                    y=table_80_60_test.iloc[5].values[[0,5,6,7]],\n",
    "                    mode = 'lines+markers',marker=dict(symbol='x'),\n",
    "                    name = 'ExtraTree Classifier')\n",
    "\n",
    "trace6 = go.Scatter(x=table_80_60_test.iloc[6].index.values[[0,5,6,7]],\n",
    "                    y=table_80_60_test.iloc[6].values[[0,5,6,7]],\n",
    "                    mode = 'lines+markers',marker=dict(symbol='x'),\n",
    "                    name = 'Bagging')\n",
    "\n",
    "trace7 = go.Scatter(x=table_80_60_test.iloc[7].index.values[[0,5,6,7]],\n",
    "                    y=table_80_60_test.iloc[7].values[[0,5,6,7]],\n",
    "                    mode = 'lines+markers',marker=dict(symbol='x'),\n",
    "                    name = 'Neural Network')\n",
    "\n",
    "\n",
    "\n",
    "data = [trace0, trace1, trace2, trace3, trace4, trace5, trace6, trace7]\n",
    "layout = go.Layout(yaxis=dict(tick0=0,dtick=0.05),title='Result comparision for Features selected in Section 1')\n",
    "fig = go.Figure(data=data, layout=layout)\n",
    "\n",
    "iplot(fig, filename='Result')"
   ]
  },
  {
   "cell_type": "code",
   "execution_count": 40,
   "metadata": {},
   "outputs": [
    {
     "name": "stdout",
     "output_type": "stream",
     "text": [
      "Training Results\n"
     ]
    },
    {
     "data": {
      "text/html": [
       "<div>\n",
       "<style scoped>\n",
       "    .dataframe tbody tr th:only-of-type {\n",
       "        vertical-align: middle;\n",
       "    }\n",
       "\n",
       "    .dataframe tbody tr th {\n",
       "        vertical-align: top;\n",
       "    }\n",
       "\n",
       "    .dataframe thead th {\n",
       "        text-align: right;\n",
       "    }\n",
       "</style>\n",
       "<table border=\"1\" class=\"dataframe\">\n",
       "  <thead>\n",
       "    <tr style=\"text-align: right;\">\n",
       "      <th></th>\n",
       "      <th>accuracy</th>\n",
       "      <th>TP</th>\n",
       "      <th>TN</th>\n",
       "      <th>FP</th>\n",
       "      <th>FN</th>\n",
       "      <th>FPR</th>\n",
       "      <th>FNR</th>\n",
       "    </tr>\n",
       "    <tr>\n",
       "      <th>index</th>\n",
       "      <th></th>\n",
       "      <th></th>\n",
       "      <th></th>\n",
       "      <th></th>\n",
       "      <th></th>\n",
       "      <th></th>\n",
       "      <th></th>\n",
       "    </tr>\n",
       "  </thead>\n",
       "  <tbody>\n",
       "    <tr>\n",
       "      <th>KNeighborsClassifier</th>\n",
       "      <td>0.884009</td>\n",
       "      <td>1346.0</td>\n",
       "      <td>31083.0</td>\n",
       "      <td>796.0</td>\n",
       "      <td>3459.0</td>\n",
       "      <td>0.024969</td>\n",
       "      <td>0.719875</td>\n",
       "    </tr>\n",
       "    <tr>\n",
       "      <th>LogisticRegression</th>\n",
       "      <td>0.880520</td>\n",
       "      <td>2882.0</td>\n",
       "      <td>29419.0</td>\n",
       "      <td>2460.0</td>\n",
       "      <td>1923.0</td>\n",
       "      <td>0.077167</td>\n",
       "      <td>0.400208</td>\n",
       "    </tr>\n",
       "    <tr>\n",
       "      <th>RandomForestClassifier</th>\n",
       "      <td>0.896931</td>\n",
       "      <td>3906.0</td>\n",
       "      <td>28997.0</td>\n",
       "      <td>2882.0</td>\n",
       "      <td>899.0</td>\n",
       "      <td>0.090404</td>\n",
       "      <td>0.187097</td>\n",
       "    </tr>\n",
       "    <tr>\n",
       "      <th>AdaBoostClassifier</th>\n",
       "      <td>0.880629</td>\n",
       "      <td>2884.0</td>\n",
       "      <td>29421.0</td>\n",
       "      <td>2458.0</td>\n",
       "      <td>1921.0</td>\n",
       "      <td>0.077104</td>\n",
       "      <td>0.399792</td>\n",
       "    </tr>\n",
       "    <tr>\n",
       "      <th>GradientBoostingClassifier</th>\n",
       "      <td>0.894559</td>\n",
       "      <td>3855.0</td>\n",
       "      <td>28961.0</td>\n",
       "      <td>2918.0</td>\n",
       "      <td>950.0</td>\n",
       "      <td>0.091534</td>\n",
       "      <td>0.197711</td>\n",
       "    </tr>\n",
       "    <tr>\n",
       "      <th>ExtraTreeClassifier</th>\n",
       "      <td>0.897258</td>\n",
       "      <td>3910.0</td>\n",
       "      <td>29005.0</td>\n",
       "      <td>2874.0</td>\n",
       "      <td>895.0</td>\n",
       "      <td>0.090153</td>\n",
       "      <td>0.186264</td>\n",
       "    </tr>\n",
       "    <tr>\n",
       "      <th>BaggingClassifier</th>\n",
       "      <td>0.896985</td>\n",
       "      <td>3904.0</td>\n",
       "      <td>29001.0</td>\n",
       "      <td>2878.0</td>\n",
       "      <td>901.0</td>\n",
       "      <td>0.090279</td>\n",
       "      <td>0.187513</td>\n",
       "    </tr>\n",
       "    <tr>\n",
       "      <th>Neural Network-1</th>\n",
       "      <td>0.896276</td>\n",
       "      <td>3882.0</td>\n",
       "      <td>28997.0</td>\n",
       "      <td>2882.0</td>\n",
       "      <td>923.0</td>\n",
       "      <td>0.090404</td>\n",
       "      <td>0.192092</td>\n",
       "    </tr>\n",
       "  </tbody>\n",
       "</table>\n",
       "</div>"
      ],
      "text/plain": [
       "                            accuracy      TP       TN      FP      FN  \\\n",
       "index                                                                   \n",
       "KNeighborsClassifier        0.884009  1346.0  31083.0   796.0  3459.0   \n",
       "LogisticRegression          0.880520  2882.0  29419.0  2460.0  1923.0   \n",
       "RandomForestClassifier      0.896931  3906.0  28997.0  2882.0   899.0   \n",
       "AdaBoostClassifier          0.880629  2884.0  29421.0  2458.0  1921.0   \n",
       "GradientBoostingClassifier  0.894559  3855.0  28961.0  2918.0   950.0   \n",
       "ExtraTreeClassifier         0.897258  3910.0  29005.0  2874.0   895.0   \n",
       "BaggingClassifier           0.896985  3904.0  29001.0  2878.0   901.0   \n",
       "Neural Network-1            0.896276  3882.0  28997.0  2882.0   923.0   \n",
       "\n",
       "                                 FPR       FNR  \n",
       "index                                           \n",
       "KNeighborsClassifier        0.024969  0.719875  \n",
       "LogisticRegression          0.077167  0.400208  \n",
       "RandomForestClassifier      0.090404  0.187097  \n",
       "AdaBoostClassifier          0.077104  0.399792  \n",
       "GradientBoostingClassifier  0.091534  0.197711  \n",
       "ExtraTreeClassifier         0.090153  0.186264  \n",
       "BaggingClassifier           0.090279  0.187513  \n",
       "Neural Network-1            0.090404  0.192092  "
      ]
     },
     "metadata": {},
     "output_type": "display_data"
    },
    {
     "name": "stdout",
     "output_type": "stream",
     "text": [
      "Test Results\n"
     ]
    },
    {
     "data": {
      "text/html": [
       "<div>\n",
       "<style scoped>\n",
       "    .dataframe tbody tr th:only-of-type {\n",
       "        vertical-align: middle;\n",
       "    }\n",
       "\n",
       "    .dataframe tbody tr th {\n",
       "        vertical-align: top;\n",
       "    }\n",
       "\n",
       "    .dataframe thead th {\n",
       "        text-align: right;\n",
       "    }\n",
       "</style>\n",
       "<table border=\"1\" class=\"dataframe\">\n",
       "  <thead>\n",
       "    <tr style=\"text-align: right;\">\n",
       "      <th></th>\n",
       "      <th>accuracy</th>\n",
       "      <th>TP</th>\n",
       "      <th>TN</th>\n",
       "      <th>FP</th>\n",
       "      <th>FN</th>\n",
       "      <th>FPR</th>\n",
       "      <th>FNR</th>\n",
       "      <th>auc</th>\n",
       "    </tr>\n",
       "    <tr>\n",
       "      <th>index</th>\n",
       "      <th></th>\n",
       "      <th></th>\n",
       "      <th></th>\n",
       "      <th></th>\n",
       "      <th></th>\n",
       "      <th></th>\n",
       "      <th></th>\n",
       "      <th></th>\n",
       "    </tr>\n",
       "  </thead>\n",
       "  <tbody>\n",
       "    <tr>\n",
       "      <th>KNeighborsClassifier</th>\n",
       "      <td>0.881705</td>\n",
       "      <td>339.0</td>\n",
       "      <td>7748.0</td>\n",
       "      <td>208.0</td>\n",
       "      <td>877.0</td>\n",
       "      <td>0.026144</td>\n",
       "      <td>0.721217</td>\n",
       "      <td>0.626320</td>\n",
       "    </tr>\n",
       "    <tr>\n",
       "      <th>LogisticRegression</th>\n",
       "      <td>0.878543</td>\n",
       "      <td>723.0</td>\n",
       "      <td>7335.0</td>\n",
       "      <td>621.0</td>\n",
       "      <td>493.0</td>\n",
       "      <td>0.078054</td>\n",
       "      <td>0.405428</td>\n",
       "      <td>0.758259</td>\n",
       "    </tr>\n",
       "    <tr>\n",
       "      <th>RandomForestClassifier</th>\n",
       "      <td>0.891300</td>\n",
       "      <td>966.0</td>\n",
       "      <td>7209.0</td>\n",
       "      <td>747.0</td>\n",
       "      <td>250.0</td>\n",
       "      <td>0.093891</td>\n",
       "      <td>0.205592</td>\n",
       "      <td>0.850258</td>\n",
       "    </tr>\n",
       "    <tr>\n",
       "      <th>AdaBoostClassifier</th>\n",
       "      <td>0.878761</td>\n",
       "      <td>723.0</td>\n",
       "      <td>7337.0</td>\n",
       "      <td>619.0</td>\n",
       "      <td>493.0</td>\n",
       "      <td>0.077803</td>\n",
       "      <td>0.405428</td>\n",
       "      <td>0.758385</td>\n",
       "    </tr>\n",
       "    <tr>\n",
       "      <th>GradientBoostingClassifier</th>\n",
       "      <td>0.892281</td>\n",
       "      <td>967.0</td>\n",
       "      <td>7217.0</td>\n",
       "      <td>739.0</td>\n",
       "      <td>249.0</td>\n",
       "      <td>0.092886</td>\n",
       "      <td>0.204770</td>\n",
       "      <td>0.851172</td>\n",
       "    </tr>\n",
       "    <tr>\n",
       "      <th>ExtraTreeClassifier</th>\n",
       "      <td>0.891736</td>\n",
       "      <td>966.0</td>\n",
       "      <td>7213.0</td>\n",
       "      <td>743.0</td>\n",
       "      <td>250.0</td>\n",
       "      <td>0.093389</td>\n",
       "      <td>0.205592</td>\n",
       "      <td>0.850510</td>\n",
       "    </tr>\n",
       "    <tr>\n",
       "      <th>BaggingClassifier</th>\n",
       "      <td>0.892172</td>\n",
       "      <td>966.0</td>\n",
       "      <td>7217.0</td>\n",
       "      <td>739.0</td>\n",
       "      <td>250.0</td>\n",
       "      <td>0.092886</td>\n",
       "      <td>0.205592</td>\n",
       "      <td>0.850761</td>\n",
       "    </tr>\n",
       "    <tr>\n",
       "      <th>Neural Network-1</th>\n",
       "      <td>0.892717</td>\n",
       "      <td>966.0</td>\n",
       "      <td>7222.0</td>\n",
       "      <td>734.0</td>\n",
       "      <td>250.0</td>\n",
       "      <td>0.092257</td>\n",
       "      <td>0.205592</td>\n",
       "      <td>0.850761</td>\n",
       "    </tr>\n",
       "  </tbody>\n",
       "</table>\n",
       "</div>"
      ],
      "text/plain": [
       "                            accuracy     TP      TN     FP     FN       FPR  \\\n",
       "index                                                                         \n",
       "KNeighborsClassifier        0.881705  339.0  7748.0  208.0  877.0  0.026144   \n",
       "LogisticRegression          0.878543  723.0  7335.0  621.0  493.0  0.078054   \n",
       "RandomForestClassifier      0.891300  966.0  7209.0  747.0  250.0  0.093891   \n",
       "AdaBoostClassifier          0.878761  723.0  7337.0  619.0  493.0  0.077803   \n",
       "GradientBoostingClassifier  0.892281  967.0  7217.0  739.0  249.0  0.092886   \n",
       "ExtraTreeClassifier         0.891736  966.0  7213.0  743.0  250.0  0.093389   \n",
       "BaggingClassifier           0.892172  966.0  7217.0  739.0  250.0  0.092886   \n",
       "Neural Network-1            0.892717  966.0  7222.0  734.0  250.0  0.092257   \n",
       "\n",
       "                                 FNR       auc  \n",
       "index                                           \n",
       "KNeighborsClassifier        0.721217  0.626320  \n",
       "LogisticRegression          0.405428  0.758259  \n",
       "RandomForestClassifier      0.205592  0.850258  \n",
       "AdaBoostClassifier          0.405428  0.758385  \n",
       "GradientBoostingClassifier  0.204770  0.851172  \n",
       "ExtraTreeClassifier         0.205592  0.850510  \n",
       "BaggingClassifier           0.205592  0.850761  \n",
       "Neural Network-1            0.205592  0.850761  "
      ]
     },
     "metadata": {},
     "output_type": "display_data"
    }
   ],
   "source": [
    "table_80_60_train['index']=ind_columns\n",
    "table_80_60_test['index']=ind_columns\n",
    "\n",
    "\n",
    "table_80_60_test.set_index(['index'],drop=True,inplace=True)\n",
    "table_80_60_train.set_index(['index'],drop=True,inplace=True)\n",
    "\n",
    "print(\"Training Results\")\n",
    "display(table_80_60_train)\n",
    "print(\"Test Results\")\n",
    "display(table_80_60_test)"
   ]
  },
  {
   "cell_type": "markdown",
   "metadata": {},
   "source": [
    "### <a id='2.B' style=\"text-decoration : none; color : #000000;\"> B. Average Feature Importances</a>"
   ]
  },
  {
   "cell_type": "code",
   "execution_count": 41,
   "metadata": {},
   "outputs": [
    {
     "data": {
      "application/vnd.plotly.v1+json": {
       "config": {
        "linkText": "Export to plot.ly",
        "plotlyServerURL": "https://plot.ly",
        "showLink": true
       },
       "data": [
        {
         "marker": {
          "color": "rgb(158,202,225)",
          "line": {
           "color": "rgb(8,48,107)",
           "width": 1.5
          }
         },
         "opacity": 0.6,
         "orientation": "h",
         "text": [
          0.188,
          0.12,
          0.1001,
          0.0621,
          0.0566,
          0.0436,
          0.0334,
          0.0318,
          0.0266,
          0.025,
          0.0248,
          0.0228,
          0.0227,
          0.0212,
          0.0203,
          0.017,
          0.0151,
          0.0151,
          0.0142,
          0.0135,
          0.0129,
          0.0125,
          0.0123,
          0.0122,
          0.0119,
          0.0117,
          0.011,
          0.0088,
          0.0063,
          0.0061,
          0.0059,
          0.0055,
          0.0037,
          0.0019,
          0.0013,
          0.0011,
          0.0008,
          0.0002,
          0.0001,
          0.0001,
          0,
          0
         ],
         "textposition": "outside",
         "type": "bar",
         "uid": "d3084f46-ab48-48b0-919a-e025f677aaf4",
         "x": [
          0.18796863936293107,
          0.11998881700025128,
          0.10011586950419328,
          0.062081884619739756,
          0.0566377848719488,
          0.04364254759942018,
          0.03339134081794747,
          0.03179240992841671,
          0.026637681385036416,
          0.025003897908587227,
          0.024783218461043956,
          0.022829564273587087,
          0.022695508110674403,
          0.021212773205632147,
          0.020319882113314758,
          0.016974106942467537,
          0.015105317403790425,
          0.015056730904455926,
          0.014178750130895802,
          0.01352509799096889,
          0.01287727292427357,
          0.012470356274879593,
          0.012315537571543023,
          0.012232445645560665,
          0.011895585126307551,
          0.011686272557320947,
          0.010960044669695346,
          0.008758467236168304,
          0.006272013066813619,
          0.006133950664497486,
          0.005856984935772559,
          0.005515811510000092,
          0.003660250087668937,
          0.0018715504253416575,
          0.0012768175920668712,
          0.001058502975141412,
          0.0007706192767284426,
          0.00023258635713184806,
          0.0001042814227251477,
          8.23787055900994e-05,
          1.5974778214320753e-05,
          1.0473661255403852e-05
         ],
         "y": [
          "http_header_content-encoding_gzip + http_header_transfer-encoding_chunked",
          "http_header_vary_age / http_header_content-length",
          "http_header_cache-control_set_max-age + http_header_content-encoding_gzip",
          "http_header_cache-control_set_private + http_header_content-encoding_gzip",
          "http_header_connection_keep-alive + http_header_content-language_text/html",
          "http_header_server_nginx + http_header_transfer-encoding_chunked",
          "http_header_content-encoding_gzip + http_header_x-xss-enabled",
          "http_header_content-encoding_gzip + http_header_pragmano-cache",
          "http_header_connection_close + http_header_content-language_text/html",
          "http_header_cache-control_set_max-age + http_header_transfer-encoding_chunked",
          "http_header_content-language_text/html / http_header_content-encoding_gzip",
          "http_header_server_nginx + http_header_vary_accept",
          "http_header_cache-control_set_private + http_header_vary_accept",
          "http_header_transfer-encoding_chunked + http_header_vary_accept",
          "http_header_connection_keep-alive + http_header_vary_accept",
          "http_header_content-language_text/html + http_header_transfer-encoding_chunked",
          "http_header_content-language_text/html + http_header_via_1.1",
          "http_header_content-encoding_gzip / http_header_content-language_text/html",
          "http_header_cache-control_set_no-cache + http_header_content-encoding_gzip",
          "http_header_transfer-encoding_chunked + http_header_via_1.1",
          "http_header_content-language_text/html / http_header_connection_keep-alive",
          "http_header_content-encoding_gzip + http_header_vary_accept",
          "http_header_content-encoding_gzip + http_header_via_1.1",
          "http_header_content-language_text/html + http_header_vary_accept",
          "http_header_content-language_text/html + http_header_server_nginx",
          "http_header_pragmano-cache + http_header_vary_accept",
          "http_header_content-encoding_gzip + http_header_server_nginx",
          "http_header_vary_accept + http_header_x-xss-enabled",
          "http_header_content-encoding_gzip + http_header_content-language_text/html",
          "http_header_content-language_text/html + http_header_expect-ctmax-age",
          "http_header_cache-control_set_public + http_header_content-encoding_gzip",
          "http_header_connection_keep-alive / http_header_content-language_text/html",
          "http_header_connection_keep-alive * http_header_content-language_text/html",
          "http_header_cache-control_set_public + http_header_vary_accept",
          "http_header_content-encoding_gzip + http_header_expect-ctmax-age",
          "http_header_content-language_text/html",
          "http_header_connection_keep-alive / http_header_content-encoding_gzip",
          "http_header_content-language_text/html * http_header_vary_accept",
          "http_header_content-encoding_gzip * http_header_vary_accept",
          "http_header_connection_keep-alive * http_header_content-encoding_gzip",
          "http_header_content-encoding_gzip",
          "http_header_content-encoding_gzip * http_header_content-language_text/html"
         ]
        }
       ],
       "layout": {
        "autosize": false,
        "height": 1000,
        "width": 1000,
        "xaxis": {
         "tickfont": {
          "color": "black",
          "size": 12
         },
         "title": "Feature Importances"
        },
        "yaxis": {
         "automargin": true
        }
       }
      },
      "text/html": [
       "<div id=\"c1c005eb-964a-46f2-ae01-0c28c99f7414\" style=\"height: 1000px; width: 1000px;\" class=\"plotly-graph-div\"></div><script type=\"text/javascript\">require([\"plotly\"], function(Plotly) { window.PLOTLYENV=window.PLOTLYENV || {};window.PLOTLYENV.BASE_URL=\"https://plot.ly\";Plotly.newPlot(\"c1c005eb-964a-46f2-ae01-0c28c99f7414\", [{\"marker\": {\"color\": \"rgb(158,202,225)\", \"line\": {\"color\": \"rgb(8,48,107)\", \"width\": 1.5}}, \"opacity\": 0.6, \"orientation\": \"h\", \"text\": [0.188, 0.12, 0.1001, 0.0621, 0.0566, 0.0436, 0.0334, 0.0318, 0.0266, 0.025, 0.0248, 0.0228, 0.0227, 0.0212, 0.0203, 0.017, 0.0151, 0.0151, 0.0142, 0.0135, 0.0129, 0.0125, 0.0123, 0.0122, 0.0119, 0.0117, 0.011, 0.0088, 0.0063, 0.0061, 0.0059, 0.0055, 0.0037, 0.0019, 0.0013, 0.0011, 0.0008, 0.0002, 0.0001, 0.0001, 0.0, 0.0], \"textposition\": \"outside\", \"x\": [0.18796863936293107, 0.11998881700025128, 0.10011586950419328, 0.062081884619739756, 0.0566377848719488, 0.04364254759942018, 0.03339134081794747, 0.03179240992841671, 0.026637681385036416, 0.025003897908587227, 0.024783218461043956, 0.022829564273587087, 0.022695508110674403, 0.021212773205632147, 0.020319882113314758, 0.016974106942467537, 0.015105317403790425, 0.015056730904455926, 0.014178750130895802, 0.01352509799096889, 0.01287727292427357, 0.012470356274879593, 0.012315537571543023, 0.012232445645560665, 0.011895585126307551, 0.011686272557320947, 0.010960044669695346, 0.008758467236168304, 0.006272013066813619, 0.006133950664497486, 0.005856984935772559, 0.005515811510000092, 0.003660250087668937, 0.0018715504253416575, 0.0012768175920668712, 0.001058502975141412, 0.0007706192767284426, 0.00023258635713184806, 0.0001042814227251477, 8.23787055900994e-05, 1.5974778214320753e-05, 1.0473661255403852e-05], \"y\": [\"http_header_content-encoding_gzip + http_header_transfer-encoding_chunked\", \"http_header_vary_age / http_header_content-length\", \"http_header_cache-control_set_max-age + http_header_content-encoding_gzip\", \"http_header_cache-control_set_private + http_header_content-encoding_gzip\", \"http_header_connection_keep-alive + http_header_content-language_text/html\", \"http_header_server_nginx + http_header_transfer-encoding_chunked\", \"http_header_content-encoding_gzip + http_header_x-xss-enabled\", \"http_header_content-encoding_gzip + http_header_pragmano-cache\", \"http_header_connection_close + http_header_content-language_text/html\", \"http_header_cache-control_set_max-age + http_header_transfer-encoding_chunked\", \"http_header_content-language_text/html / http_header_content-encoding_gzip\", \"http_header_server_nginx + http_header_vary_accept\", \"http_header_cache-control_set_private + http_header_vary_accept\", \"http_header_transfer-encoding_chunked + http_header_vary_accept\", \"http_header_connection_keep-alive + http_header_vary_accept\", \"http_header_content-language_text/html + http_header_transfer-encoding_chunked\", \"http_header_content-language_text/html + http_header_via_1.1\", \"http_header_content-encoding_gzip / http_header_content-language_text/html\", \"http_header_cache-control_set_no-cache + http_header_content-encoding_gzip\", \"http_header_transfer-encoding_chunked + http_header_via_1.1\", \"http_header_content-language_text/html / http_header_connection_keep-alive\", \"http_header_content-encoding_gzip + http_header_vary_accept\", \"http_header_content-encoding_gzip + http_header_via_1.1\", \"http_header_content-language_text/html + http_header_vary_accept\", \"http_header_content-language_text/html + http_header_server_nginx\", \"http_header_pragmano-cache + http_header_vary_accept\", \"http_header_content-encoding_gzip + http_header_server_nginx\", \"http_header_vary_accept + http_header_x-xss-enabled\", \"http_header_content-encoding_gzip + http_header_content-language_text/html\", \"http_header_content-language_text/html + http_header_expect-ctmax-age\", \"http_header_cache-control_set_public + http_header_content-encoding_gzip\", \"http_header_connection_keep-alive / http_header_content-language_text/html\", \"http_header_connection_keep-alive * http_header_content-language_text/html\", \"http_header_cache-control_set_public + http_header_vary_accept\", \"http_header_content-encoding_gzip + http_header_expect-ctmax-age\", \"http_header_content-language_text/html\", \"http_header_connection_keep-alive / http_header_content-encoding_gzip\", \"http_header_content-language_text/html * http_header_vary_accept\", \"http_header_content-encoding_gzip * http_header_vary_accept\", \"http_header_connection_keep-alive * http_header_content-encoding_gzip\", \"http_header_content-encoding_gzip\", \"http_header_content-encoding_gzip * http_header_content-language_text/html\"], \"type\": \"bar\", \"uid\": \"d3084f46-ab48-48b0-919a-e025f677aaf4\"}], {\"autosize\": false, \"height\": 1000, \"width\": 1000, \"xaxis\": {\"tickfont\": {\"color\": \"black\", \"size\": 12}, \"title\": \"Feature Importances\"}, \"yaxis\": {\"automargin\": true}}, {\"showLink\": true, \"linkText\": \"Export to plot.ly\", \"plotlyServerURL\": \"https://plot.ly\"})});</script>"
      ],
      "text/vnd.plotly.v1+html": [
       "<div id=\"c1c005eb-964a-46f2-ae01-0c28c99f7414\" style=\"height: 1000px; width: 1000px;\" class=\"plotly-graph-div\"></div><script type=\"text/javascript\">require([\"plotly\"], function(Plotly) { window.PLOTLYENV=window.PLOTLYENV || {};window.PLOTLYENV.BASE_URL=\"https://plot.ly\";Plotly.newPlot(\"c1c005eb-964a-46f2-ae01-0c28c99f7414\", [{\"marker\": {\"color\": \"rgb(158,202,225)\", \"line\": {\"color\": \"rgb(8,48,107)\", \"width\": 1.5}}, \"opacity\": 0.6, \"orientation\": \"h\", \"text\": [0.188, 0.12, 0.1001, 0.0621, 0.0566, 0.0436, 0.0334, 0.0318, 0.0266, 0.025, 0.0248, 0.0228, 0.0227, 0.0212, 0.0203, 0.017, 0.0151, 0.0151, 0.0142, 0.0135, 0.0129, 0.0125, 0.0123, 0.0122, 0.0119, 0.0117, 0.011, 0.0088, 0.0063, 0.0061, 0.0059, 0.0055, 0.0037, 0.0019, 0.0013, 0.0011, 0.0008, 0.0002, 0.0001, 0.0001, 0.0, 0.0], \"textposition\": \"outside\", \"x\": [0.18796863936293107, 0.11998881700025128, 0.10011586950419328, 0.062081884619739756, 0.0566377848719488, 0.04364254759942018, 0.03339134081794747, 0.03179240992841671, 0.026637681385036416, 0.025003897908587227, 0.024783218461043956, 0.022829564273587087, 0.022695508110674403, 0.021212773205632147, 0.020319882113314758, 0.016974106942467537, 0.015105317403790425, 0.015056730904455926, 0.014178750130895802, 0.01352509799096889, 0.01287727292427357, 0.012470356274879593, 0.012315537571543023, 0.012232445645560665, 0.011895585126307551, 0.011686272557320947, 0.010960044669695346, 0.008758467236168304, 0.006272013066813619, 0.006133950664497486, 0.005856984935772559, 0.005515811510000092, 0.003660250087668937, 0.0018715504253416575, 0.0012768175920668712, 0.001058502975141412, 0.0007706192767284426, 0.00023258635713184806, 0.0001042814227251477, 8.23787055900994e-05, 1.5974778214320753e-05, 1.0473661255403852e-05], \"y\": [\"http_header_content-encoding_gzip + http_header_transfer-encoding_chunked\", \"http_header_vary_age / http_header_content-length\", \"http_header_cache-control_set_max-age + http_header_content-encoding_gzip\", \"http_header_cache-control_set_private + http_header_content-encoding_gzip\", \"http_header_connection_keep-alive + http_header_content-language_text/html\", \"http_header_server_nginx + http_header_transfer-encoding_chunked\", \"http_header_content-encoding_gzip + http_header_x-xss-enabled\", \"http_header_content-encoding_gzip + http_header_pragmano-cache\", \"http_header_connection_close + http_header_content-language_text/html\", \"http_header_cache-control_set_max-age + http_header_transfer-encoding_chunked\", \"http_header_content-language_text/html / http_header_content-encoding_gzip\", \"http_header_server_nginx + http_header_vary_accept\", \"http_header_cache-control_set_private + http_header_vary_accept\", \"http_header_transfer-encoding_chunked + http_header_vary_accept\", \"http_header_connection_keep-alive + http_header_vary_accept\", \"http_header_content-language_text/html + http_header_transfer-encoding_chunked\", \"http_header_content-language_text/html + http_header_via_1.1\", \"http_header_content-encoding_gzip / http_header_content-language_text/html\", \"http_header_cache-control_set_no-cache + http_header_content-encoding_gzip\", \"http_header_transfer-encoding_chunked + http_header_via_1.1\", \"http_header_content-language_text/html / http_header_connection_keep-alive\", \"http_header_content-encoding_gzip + http_header_vary_accept\", \"http_header_content-encoding_gzip + http_header_via_1.1\", \"http_header_content-language_text/html + http_header_vary_accept\", \"http_header_content-language_text/html + http_header_server_nginx\", \"http_header_pragmano-cache + http_header_vary_accept\", \"http_header_content-encoding_gzip + http_header_server_nginx\", \"http_header_vary_accept + http_header_x-xss-enabled\", \"http_header_content-encoding_gzip + http_header_content-language_text/html\", \"http_header_content-language_text/html + http_header_expect-ctmax-age\", \"http_header_cache-control_set_public + http_header_content-encoding_gzip\", \"http_header_connection_keep-alive / http_header_content-language_text/html\", \"http_header_connection_keep-alive * http_header_content-language_text/html\", \"http_header_cache-control_set_public + http_header_vary_accept\", \"http_header_content-encoding_gzip + http_header_expect-ctmax-age\", \"http_header_content-language_text/html\", \"http_header_connection_keep-alive / http_header_content-encoding_gzip\", \"http_header_content-language_text/html * http_header_vary_accept\", \"http_header_content-encoding_gzip * http_header_vary_accept\", \"http_header_connection_keep-alive * http_header_content-encoding_gzip\", \"http_header_content-encoding_gzip\", \"http_header_content-encoding_gzip * http_header_content-language_text/html\"], \"type\": \"bar\", \"uid\": \"d3084f46-ab48-48b0-919a-e025f677aaf4\"}], {\"autosize\": false, \"height\": 1000, \"width\": 1000, \"xaxis\": {\"tickfont\": {\"color\": \"black\", \"size\": 12}, \"title\": \"Feature Importances\"}, \"yaxis\": {\"automargin\": true}}, {\"showLink\": true, \"linkText\": \"Export to plot.ly\", \"plotlyServerURL\": \"https://plot.ly\"})});</script>"
      ]
     },
     "metadata": {},
     "output_type": "display_data"
    }
   ],
   "source": [
    "feat_impt_plot(np.average(feat_imp,axis=0),feature_name)"
   ]
  },
  {
   "cell_type": "markdown",
   "metadata": {},
   "source": [
    "#### In Section 2.1, we reduced the feature set by perfroming feature selection. Alternatively we can make use of dimensionality rediction techniques such as PCA. Let us see how it fares"
   ]
  },
  {
   "cell_type": "markdown",
   "metadata": {},
   "source": [
    "### <a id='3' style=\"text-decoration : none; color : #000000;\"> 4. Feature Transformation with PCA</a>"
   ]
  },
  {
   "cell_type": "code",
   "execution_count": 45,
   "metadata": {
    "collapsed": true
   },
   "outputs": [],
   "source": [
    "X=fs.loc[:,fs.columns!='Target']\n",
    "y=fs.Target.values\n",
    "feature_name = X.columns.tolist()\n",
    "X=np.nan_to_num(X)\n",
    "scaler=StandardScaler()\n",
    "scaled_X=scaler.fit_transform(X)"
   ]
  },
  {
   "cell_type": "code",
   "execution_count": 46,
   "metadata": {},
   "outputs": [
    {
     "data": {
      "image/png": "[encoded data removed]",
      "text/plain": [
       "<Figure size 720x576 with 1 Axes>"
      ]
     },
     "metadata": {},
     "output_type": "display_data"
    }
   ],
   "source": [
    "sns.set_style('whitegrid')\n",
    "pca = PCA(random_state=0)\n",
    "pca.fit(scaled_X)\n",
    "plt.figure(1, figsize=(10, 8))\n",
    "plt.plot(np.cumsum(pca.explained_variance_ratio_),'--o', linewidth=2)\n",
    "plt.axis('tight')\n",
    "plt.xlabel('Number of Components',size=14)\n",
    "plt.xticks(size=12)\n",
    "plt.xlim([0,200])\n",
    "plt.ylabel('% Explained Variance',size=14)\n",
    "plt.yticks(size=12)\n",
    "plt.title('% Variance Explained by Principal Components',size=14,y=1.05)\n",
    "plt.show()"
   ]
  },
  {
   "cell_type": "code",
   "execution_count": 50,
   "metadata": {},
   "outputs": [
    {
     "name": "stdout",
     "output_type": "stream",
     "text": [
      "Variance explained using 117 components is: 0.949478597537\n"
     ]
    }
   ],
   "source": [
    "pca=PCA(n_components=117,whiten=True,random_state=0)\n",
    "X_pca_21=pca.fit_transform(scaled_X)\n",
    "print(\"Variance explained using 117 components is:\",sum(pca.explained_variance_ratio_))"
   ]
  },
  {
   "cell_type": "code",
   "execution_count": 51,
   "metadata": {},
   "outputs": [
    {
     "name": "stdout",
     "output_type": "stream",
     "text": [
      "The train/test split ratio is 80:20\n"
     ]
    }
   ],
   "source": [
    "print(\"The train/test split ratio is 80:20\")\n",
    "from sklearn.model_selection import train_test_split\n",
    "X_train, X_test, Y_train, Y_test = train_test_split(X_pca_21,y,random_state=0,test_size=0.2)\n",
    "\n",
    "## Table to store training and test measures so we can compare later\n",
    "table_80_70_train=pd.DataFrame(columns=['accuracy','TP','TN','FP','FN','FPR','FNR'])\n",
    "table_80_70_test=pd.DataFrame(columns=['accuracy','TP','TN','FP','FN','FPR','FNR','auc'])"
   ]
  },
  {
   "cell_type": "code",
   "execution_count": 53,
   "metadata": {
    "scrolled": false
   },
   "outputs": [
    {
     "name": "stdout",
     "output_type": "stream",
     "text": [
      "\u001b[1mK-Nearest Neighbors\u001b[0m\n",
      "Accuracy of the model for training data is: 0.910969359939\n",
      "Confusion Matrix for training data is:\n"
     ]
    },
    {
     "data": {
      "text/plain": [
       "Predicted  False  True  __all__\n",
       "Actual                         \n",
       "False      29366  2513    31879\n",
       "True         753  4052     4805\n",
       "__all__    30119  6565    36684"
      ]
     },
     "metadata": {},
     "output_type": "display_data"
    },
    {
     "name": "stdout",
     "output_type": "stream",
     "text": [
      "Accuracy of the model for test data is: 0.907544701265\n",
      "Confusion Matrix for test data is:\n"
     ]
    },
    {
     "data": {
      "text/plain": [
       "Predicted  False  True  __all__\n",
       "Actual                         \n",
       "False       7322   634     7956\n",
       "True         214  1002     1216\n",
       "__all__     7536  1636     9172"
      ]
     },
     "metadata": {},
     "output_type": "display_data"
    },
    {
     "name": "stdout",
     "output_type": "stream",
     "text": [
      "\n",
      "\n",
      "\u001b[1mLogistic Regression\u001b[0m\n",
      "Accuracy of the model for training data is: 0.90014720314\n",
      "Confusion Matrix for training data is:\n"
     ]
    },
    {
     "data": {
      "text/plain": [
       "Predicted  False  True  __all__\n",
       "Actual                         \n",
       "False      29175  2704    31879\n",
       "True         959  3846     4805\n",
       "__all__    30134  6550    36684"
      ]
     },
     "metadata": {},
     "output_type": "display_data"
    },
    {
     "name": "stdout",
     "output_type": "stream",
     "text": [
      "Accuracy of the model for test data is: 0.897623201047\n",
      "Confusion Matrix for test data is:\n"
     ]
    },
    {
     "data": {
      "text/plain": [
       "Predicted  False  True  __all__\n",
       "Actual                         \n",
       "False       7274   682     7956\n",
       "True         257   959     1216\n",
       "__all__     7531  1641     9172"
      ]
     },
     "metadata": {},
     "output_type": "display_data"
    },
    {
     "name": "stdout",
     "output_type": "stream",
     "text": [
      "\n",
      "\n",
      "\u001b[1mRandomForest Classifier\u001b[0m\n",
      "Accuracy of the model for training data is: 0.919937847563\n",
      "Confusion Matrix for training data is:\n"
     ]
    },
    {
     "data": {
      "text/plain": [
       "Predicted  False  True  __all__\n",
       "Actual                         \n",
       "False      29396  2483    31879\n",
       "True         454  4351     4805\n",
       "__all__    29850  6834    36684"
      ]
     },
     "metadata": {},
     "output_type": "display_data"
    },
    {
     "name": "stdout",
     "output_type": "stream",
     "text": [
      "Accuracy of the model for test data is: 0.908307893589\n",
      "Confusion Matrix for test data is:\n"
     ]
    },
    {
     "data": {
      "text/plain": [
       "Predicted  False  True  __all__\n",
       "Actual                         \n",
       "False       7304   652     7956\n",
       "True         189  1027     1216\n",
       "__all__     7493  1679     9172"
      ]
     },
     "metadata": {},
     "output_type": "display_data"
    },
    {
     "data": {
      "application/vnd.plotly.v1+json": {
       "config": {
        "linkText": "Export to plot.ly",
        "plotlyServerURL": "https://plot.ly",
        "showLink": true
       },
       "data": [
        {
         "marker": {
          "color": "rgb(158,202,225)",
          "line": {
           "color": "rgb(8,48,107)",
           "width": 1.5
          }
         },
         "opacity": 0.6,
         "orientation": "h",
         "text": [
          0.118,
          0.1044,
          0.0616,
          0.0483,
          0.0331,
          0.0317,
          0.0315,
          0.03,
          0.0277,
          0.0244,
          0.0204,
          0.0183,
          0.0171,
          0.0169,
          0.0159,
          0.0134,
          0.0129,
          0.0128,
          0.0127,
          0.0124,
          0.0113,
          0.0109,
          0.0107,
          0.0107,
          0.0105,
          0.0103,
          0.0096,
          0.009,
          0.0082,
          0.0075,
          0.0074,
          0.0067,
          0.0062,
          0.0061,
          0.006,
          0.0058,
          0.0058,
          0.0056,
          0.0056,
          0.0056,
          0.0052,
          0.0048,
          0.0047,
          0.0046,
          0.0044,
          0.0043,
          0.0043,
          0.004,
          0.004,
          0.0039,
          0.0036,
          0.0035,
          0.0034,
          0.0034,
          0.0032,
          0.0031,
          0.0031,
          0.003,
          0.003,
          0.0029,
          0.0029,
          0.0028,
          0.0028,
          0.0026,
          0.0026,
          0.0025,
          0.0025,
          0.0025,
          0.0025,
          0.0024,
          0.0023,
          0.0023,
          0.0023,
          0.0022,
          0.002,
          0.002,
          0.002,
          0.0019,
          0.0019,
          0.0019,
          0.0018,
          0.0018,
          0.0018,
          0.0018,
          0.0018,
          0.0017,
          0.0017,
          0.0017,
          0.0017,
          0.0017,
          0.0017,
          0.0017,
          0.0016,
          0.0016,
          0.0016,
          0.0016,
          0.0015,
          0.0015,
          0.0015,
          0.0015,
          0.0015,
          0.0014,
          0.0014,
          0.0014,
          0.0013,
          0.0013,
          0.0013,
          0.0013,
          0.0013,
          0.0013,
          0.0012,
          0.0011,
          0.0011,
          0.001,
          0.001,
          0.0009,
          0.0009
         ],
         "textposition": "outside",
         "type": "bar",
         "uid": "6a2c7f73-18e9-411b-a0d6-1722f3fa5d66",
         "x": [
          0.11796866647471167,
          0.10437052485912593,
          0.06162687423569069,
          0.048323594899153686,
          0.03308040718384979,
          0.03171878044863159,
          0.031542271654307855,
          0.03004201977590395,
          0.027672524754184212,
          0.02438787717925614,
          0.02042900826832838,
          0.01829149822444425,
          0.017123239288573455,
          0.01686578661011194,
          0.015908894684213602,
          0.013390156316464206,
          0.012932454295536305,
          0.012750711299054373,
          0.012661231330918066,
          0.012449545823845838,
          0.011333889614103854,
          0.010909818109037173,
          0.010748210333400943,
          0.010660049485655914,
          0.01047101467970641,
          0.010303961340871595,
          0.009594071203907675,
          0.00899958891793201,
          0.008223299125727985,
          0.007484052264684506,
          0.007413354965171143,
          0.0067381894987684375,
          0.006188513499838158,
          0.0060545876712978204,
          0.006001447985185501,
          0.005849394386469016,
          0.005785672969188134,
          0.0056325959676088635,
          0.00557280967595287,
          0.005554160021259989,
          0.005201671354347199,
          0.004775559211069076,
          0.004689546534597924,
          0.0045944121360944916,
          0.004375298645429443,
          0.004292472180281317,
          0.004286270680933234,
          0.0039594915347540135,
          0.003956955221944012,
          0.003867143817165977,
          0.003565380535896784,
          0.0035021196606897413,
          0.003428181076850525,
          0.003365115941673962,
          0.0032121495443139456,
          0.0031005619677107544,
          0.0030954058158721366,
          0.0030181299910490905,
          0.00299388494981986,
          0.002934952194505738,
          0.0029277112520470715,
          0.0027823431705847603,
          0.002777239902396885,
          0.0026185744870617384,
          0.0025960852734101744,
          0.0025434322148731783,
          0.002498548659971498,
          0.0024891045727335453,
          0.002462570357603898,
          0.0024057254539830196,
          0.0023172834258137097,
          0.0022836311646190705,
          0.0022565452329578635,
          0.002247817120291166,
          0.0020168978521352835,
          0.0019877344597025734,
          0.0019720221101638675,
          0.0019307374491458937,
          0.0018951985133034885,
          0.0018591246717930565,
          0.0018481173937946696,
          0.0018457272588907152,
          0.0018178469215646622,
          0.001769315238548401,
          0.0017545251158601924,
          0.0017406200767756939,
          0.0017333874179155649,
          0.001716476150664331,
          0.0016932278297568167,
          0.0016661725230762315,
          0.0016597433724288926,
          0.0016522892200590937,
          0.0016477749328523618,
          0.0016352630723104448,
          0.0016058026508501354,
          0.0015623135068192592,
          0.0015337414211514281,
          0.001522847984331745,
          0.001517042634518275,
          0.0014773933871569318,
          0.0014557112559303261,
          0.0014165113405356267,
          0.0013706705581837512,
          0.0013693676780604526,
          0.0013323030453294168,
          0.0012908384665305949,
          0.0012768170522888655,
          0.0012744127211935566,
          0.001274392239944866,
          0.0012671769681926138,
          0.001179199248865947,
          0.0011299551008610888,
          0.0010642334757892846,
          0.0010305735909662325,
          0.0009549241170489251,
          0.0009237258598016558,
          0.0008517795094860729
         ],
         "y": [
          "0",
          "22",
          "2",
          "110",
          "30",
          "47",
          "16",
          "33",
          "4",
          "14",
          "28",
          "1",
          "43",
          "5",
          "71",
          "87",
          "98",
          "72",
          "27",
          "44",
          "24",
          "53",
          "41",
          "69",
          "19",
          "23",
          "109",
          "96",
          "77",
          "21",
          "90",
          "36",
          "18",
          "42",
          "29",
          "60",
          "67",
          "15",
          "92",
          "58",
          "93",
          "100",
          "46",
          "108",
          "12",
          "106",
          "65",
          "97",
          "32",
          "26",
          "78",
          "17",
          "64",
          "39",
          "105",
          "45",
          "56",
          "88",
          "115",
          "61",
          "3",
          "101",
          "91",
          "40",
          "104",
          "111",
          "73",
          "35",
          "59",
          "11",
          "7",
          "10",
          "99",
          "80",
          "113",
          "84",
          "89",
          "25",
          "76",
          "50",
          "68",
          "6",
          "20",
          "38",
          "114",
          "95",
          "63",
          "34",
          "9",
          "48",
          "13",
          "52",
          "83",
          "51",
          "94",
          "8",
          "31",
          "81",
          "70",
          "74",
          "85",
          "57",
          "86",
          "66",
          "55",
          "112",
          "102",
          "82",
          "62",
          "49",
          "75",
          "103",
          "37",
          "79",
          "107",
          "54",
          "116"
         ]
        }
       ],
       "layout": {
        "autosize": false,
        "height": 1000,
        "width": 1000,
        "xaxis": {
         "tickfont": {
          "color": "black",
          "size": 12
         },
         "title": "Feature Importances"
        },
        "yaxis": {
         "automargin": true
        }
       }
      },
      "text/html": [
       "<div id=\"0cf40626-6718-41f1-ac0a-038eb65ca873\" style=\"height: 1000px; width: 1000px;\" class=\"plotly-graph-div\"></div><script type=\"text/javascript\">require([\"plotly\"], function(Plotly) { window.PLOTLYENV=window.PLOTLYENV || {};window.PLOTLYENV.BASE_URL=\"https://plot.ly\";Plotly.newPlot(\"0cf40626-6718-41f1-ac0a-038eb65ca873\", [{\"marker\": {\"color\": \"rgb(158,202,225)\", \"line\": {\"color\": \"rgb(8,48,107)\", \"width\": 1.5}}, \"opacity\": 0.6, \"orientation\": \"h\", \"text\": [0.118, 0.1044, 0.0616, 0.0483, 0.0331, 0.0317, 0.0315, 0.03, 0.0277, 0.0244, 0.0204, 0.0183, 0.0171, 0.0169, 0.0159, 0.0134, 0.0129, 0.0128, 0.0127, 0.0124, 0.0113, 0.0109, 0.0107, 0.0107, 0.0105, 0.0103, 0.0096, 0.009, 0.0082, 0.0075, 0.0074, 0.0067, 0.0062, 0.0061, 0.006, 0.0058, 0.0058, 0.0056, 0.0056, 0.0056, 0.0052, 0.0048, 0.0047, 0.0046, 0.0044, 0.0043, 0.0043, 0.004, 0.004, 0.0039, 0.0036, 0.0035, 0.0034, 0.0034, 0.0032, 0.0031, 0.0031, 0.003, 0.003, 0.0029, 0.0029, 0.0028, 0.0028, 0.0026, 0.0026, 0.0025, 0.0025, 0.0025, 0.0025, 0.0024, 0.0023, 0.0023, 0.0023, 0.0022, 0.002, 0.002, 0.002, 0.0019, 0.0019, 0.0019, 0.0018, 0.0018, 0.0018, 0.0018, 0.0018, 0.0017, 0.0017, 0.0017, 0.0017, 0.0017, 0.0017, 0.0017, 0.0016, 0.0016, 0.0016, 0.0016, 0.0015, 0.0015, 0.0015, 0.0015, 0.0015, 0.0014, 0.0014, 0.0014, 0.0013, 0.0013, 0.0013, 0.0013, 0.0013, 0.0013, 0.0012, 0.0011, 0.0011, 0.001, 0.001, 0.0009, 0.0009], \"textposition\": \"outside\", \"x\": [0.11796866647471167, 0.10437052485912593, 0.06162687423569069, 0.048323594899153686, 0.03308040718384979, 0.03171878044863159, 0.031542271654307855, 0.03004201977590395, 0.027672524754184212, 0.02438787717925614, 0.02042900826832838, 0.01829149822444425, 0.017123239288573455, 0.01686578661011194, 0.015908894684213602, 0.013390156316464206, 0.012932454295536305, 0.012750711299054373, 0.012661231330918066, 0.012449545823845838, 0.011333889614103854, 0.010909818109037173, 0.010748210333400943, 0.010660049485655914, 0.01047101467970641, 0.010303961340871595, 0.009594071203907675, 0.00899958891793201, 0.008223299125727985, 0.007484052264684506, 0.007413354965171143, 0.0067381894987684375, 0.006188513499838158, 0.0060545876712978204, 0.006001447985185501, 0.005849394386469016, 0.005785672969188134, 0.0056325959676088635, 0.00557280967595287, 0.005554160021259989, 0.005201671354347199, 0.004775559211069076, 0.004689546534597924, 0.0045944121360944916, 0.004375298645429443, 0.004292472180281317, 0.004286270680933234, 0.0039594915347540135, 0.003956955221944012, 0.003867143817165977, 0.003565380535896784, 0.0035021196606897413, 0.003428181076850525, 0.003365115941673962, 0.0032121495443139456, 0.0031005619677107544, 0.0030954058158721366, 0.0030181299910490905, 0.00299388494981986, 0.002934952194505738, 0.0029277112520470715, 0.0027823431705847603, 0.002777239902396885, 0.0026185744870617384, 0.0025960852734101744, 0.0025434322148731783, 0.002498548659971498, 0.0024891045727335453, 0.002462570357603898, 0.0024057254539830196, 0.0023172834258137097, 0.0022836311646190705, 0.0022565452329578635, 0.002247817120291166, 0.0020168978521352835, 0.0019877344597025734, 0.0019720221101638675, 0.0019307374491458937, 0.0018951985133034885, 0.0018591246717930565, 0.0018481173937946696, 0.0018457272588907152, 0.0018178469215646622, 0.001769315238548401, 0.0017545251158601924, 0.0017406200767756939, 0.0017333874179155649, 0.001716476150664331, 0.0016932278297568167, 0.0016661725230762315, 0.0016597433724288926, 0.0016522892200590937, 0.0016477749328523618, 0.0016352630723104448, 0.0016058026508501354, 0.0015623135068192592, 0.0015337414211514281, 0.001522847984331745, 0.001517042634518275, 0.0014773933871569318, 0.0014557112559303261, 0.0014165113405356267, 0.0013706705581837512, 0.0013693676780604526, 0.0013323030453294168, 0.0012908384665305949, 0.0012768170522888655, 0.0012744127211935566, 0.001274392239944866, 0.0012671769681926138, 0.001179199248865947, 0.0011299551008610888, 0.0010642334757892846, 0.0010305735909662325, 0.0009549241170489251, 0.0009237258598016558, 0.0008517795094860729], \"y\": [\"0\", \"22\", \"2\", \"110\", \"30\", \"47\", \"16\", \"33\", \"4\", \"14\", \"28\", \"1\", \"43\", \"5\", \"71\", \"87\", \"98\", \"72\", \"27\", \"44\", \"24\", \"53\", \"41\", \"69\", \"19\", \"23\", \"109\", \"96\", \"77\", \"21\", \"90\", \"36\", \"18\", \"42\", \"29\", \"60\", \"67\", \"15\", \"92\", \"58\", \"93\", \"100\", \"46\", \"108\", \"12\", \"106\", \"65\", \"97\", \"32\", \"26\", \"78\", \"17\", \"64\", \"39\", \"105\", \"45\", \"56\", \"88\", \"115\", \"61\", \"3\", \"101\", \"91\", \"40\", \"104\", \"111\", \"73\", \"35\", \"59\", \"11\", \"7\", \"10\", \"99\", \"80\", \"113\", \"84\", \"89\", \"25\", \"76\", \"50\", \"68\", \"6\", \"20\", \"38\", \"114\", \"95\", \"63\", \"34\", \"9\", \"48\", \"13\", \"52\", \"83\", \"51\", \"94\", \"8\", \"31\", \"81\", \"70\", \"74\", \"85\", \"57\", \"86\", \"66\", \"55\", \"112\", \"102\", \"82\", \"62\", \"49\", \"75\", \"103\", \"37\", \"79\", \"107\", \"54\", \"116\"], \"type\": \"bar\", \"uid\": \"6a2c7f73-18e9-411b-a0d6-1722f3fa5d66\"}], {\"autosize\": false, \"height\": 1000, \"width\": 1000, \"xaxis\": {\"tickfont\": {\"color\": \"black\", \"size\": 12}, \"title\": \"Feature Importances\"}, \"yaxis\": {\"automargin\": true}}, {\"showLink\": true, \"linkText\": \"Export to plot.ly\", \"plotlyServerURL\": \"https://plot.ly\"})});</script>"
      ],
      "text/vnd.plotly.v1+html": [
       "<div id=\"0cf40626-6718-41f1-ac0a-038eb65ca873\" style=\"height: 1000px; width: 1000px;\" class=\"plotly-graph-div\"></div><script type=\"text/javascript\">require([\"plotly\"], function(Plotly) { window.PLOTLYENV=window.PLOTLYENV || {};window.PLOTLYENV.BASE_URL=\"https://plot.ly\";Plotly.newPlot(\"0cf40626-6718-41f1-ac0a-038eb65ca873\", [{\"marker\": {\"color\": \"rgb(158,202,225)\", \"line\": {\"color\": \"rgb(8,48,107)\", \"width\": 1.5}}, \"opacity\": 0.6, \"orientation\": \"h\", \"text\": [0.118, 0.1044, 0.0616, 0.0483, 0.0331, 0.0317, 0.0315, 0.03, 0.0277, 0.0244, 0.0204, 0.0183, 0.0171, 0.0169, 0.0159, 0.0134, 0.0129, 0.0128, 0.0127, 0.0124, 0.0113, 0.0109, 0.0107, 0.0107, 0.0105, 0.0103, 0.0096, 0.009, 0.0082, 0.0075, 0.0074, 0.0067, 0.0062, 0.0061, 0.006, 0.0058, 0.0058, 0.0056, 0.0056, 0.0056, 0.0052, 0.0048, 0.0047, 0.0046, 0.0044, 0.0043, 0.0043, 0.004, 0.004, 0.0039, 0.0036, 0.0035, 0.0034, 0.0034, 0.0032, 0.0031, 0.0031, 0.003, 0.003, 0.0029, 0.0029, 0.0028, 0.0028, 0.0026, 0.0026, 0.0025, 0.0025, 0.0025, 0.0025, 0.0024, 0.0023, 0.0023, 0.0023, 0.0022, 0.002, 0.002, 0.002, 0.0019, 0.0019, 0.0019, 0.0018, 0.0018, 0.0018, 0.0018, 0.0018, 0.0017, 0.0017, 0.0017, 0.0017, 0.0017, 0.0017, 0.0017, 0.0016, 0.0016, 0.0016, 0.0016, 0.0015, 0.0015, 0.0015, 0.0015, 0.0015, 0.0014, 0.0014, 0.0014, 0.0013, 0.0013, 0.0013, 0.0013, 0.0013, 0.0013, 0.0012, 0.0011, 0.0011, 0.001, 0.001, 0.0009, 0.0009], \"textposition\": \"outside\", \"x\": [0.11796866647471167, 0.10437052485912593, 0.06162687423569069, 0.048323594899153686, 0.03308040718384979, 0.03171878044863159, 0.031542271654307855, 0.03004201977590395, 0.027672524754184212, 0.02438787717925614, 0.02042900826832838, 0.01829149822444425, 0.017123239288573455, 0.01686578661011194, 0.015908894684213602, 0.013390156316464206, 0.012932454295536305, 0.012750711299054373, 0.012661231330918066, 0.012449545823845838, 0.011333889614103854, 0.010909818109037173, 0.010748210333400943, 0.010660049485655914, 0.01047101467970641, 0.010303961340871595, 0.009594071203907675, 0.00899958891793201, 0.008223299125727985, 0.007484052264684506, 0.007413354965171143, 0.0067381894987684375, 0.006188513499838158, 0.0060545876712978204, 0.006001447985185501, 0.005849394386469016, 0.005785672969188134, 0.0056325959676088635, 0.00557280967595287, 0.005554160021259989, 0.005201671354347199, 0.004775559211069076, 0.004689546534597924, 0.0045944121360944916, 0.004375298645429443, 0.004292472180281317, 0.004286270680933234, 0.0039594915347540135, 0.003956955221944012, 0.003867143817165977, 0.003565380535896784, 0.0035021196606897413, 0.003428181076850525, 0.003365115941673962, 0.0032121495443139456, 0.0031005619677107544, 0.0030954058158721366, 0.0030181299910490905, 0.00299388494981986, 0.002934952194505738, 0.0029277112520470715, 0.0027823431705847603, 0.002777239902396885, 0.0026185744870617384, 0.0025960852734101744, 0.0025434322148731783, 0.002498548659971498, 0.0024891045727335453, 0.002462570357603898, 0.0024057254539830196, 0.0023172834258137097, 0.0022836311646190705, 0.0022565452329578635, 0.002247817120291166, 0.0020168978521352835, 0.0019877344597025734, 0.0019720221101638675, 0.0019307374491458937, 0.0018951985133034885, 0.0018591246717930565, 0.0018481173937946696, 0.0018457272588907152, 0.0018178469215646622, 0.001769315238548401, 0.0017545251158601924, 0.0017406200767756939, 0.0017333874179155649, 0.001716476150664331, 0.0016932278297568167, 0.0016661725230762315, 0.0016597433724288926, 0.0016522892200590937, 0.0016477749328523618, 0.0016352630723104448, 0.0016058026508501354, 0.0015623135068192592, 0.0015337414211514281, 0.001522847984331745, 0.001517042634518275, 0.0014773933871569318, 0.0014557112559303261, 0.0014165113405356267, 0.0013706705581837512, 0.0013693676780604526, 0.0013323030453294168, 0.0012908384665305949, 0.0012768170522888655, 0.0012744127211935566, 0.001274392239944866, 0.0012671769681926138, 0.001179199248865947, 0.0011299551008610888, 0.0010642334757892846, 0.0010305735909662325, 0.0009549241170489251, 0.0009237258598016558, 0.0008517795094860729], \"y\": [\"0\", \"22\", \"2\", \"110\", \"30\", \"47\", \"16\", \"33\", \"4\", \"14\", \"28\", \"1\", \"43\", \"5\", \"71\", \"87\", \"98\", \"72\", \"27\", \"44\", \"24\", \"53\", \"41\", \"69\", \"19\", \"23\", \"109\", \"96\", \"77\", \"21\", \"90\", \"36\", \"18\", \"42\", \"29\", \"60\", \"67\", \"15\", \"92\", \"58\", \"93\", \"100\", \"46\", \"108\", \"12\", \"106\", \"65\", \"97\", \"32\", \"26\", \"78\", \"17\", \"64\", \"39\", \"105\", \"45\", \"56\", \"88\", \"115\", \"61\", \"3\", \"101\", \"91\", \"40\", \"104\", \"111\", \"73\", \"35\", \"59\", \"11\", \"7\", \"10\", \"99\", \"80\", \"113\", \"84\", \"89\", \"25\", \"76\", \"50\", \"68\", \"6\", \"20\", \"38\", \"114\", \"95\", \"63\", \"34\", \"9\", \"48\", \"13\", \"52\", \"83\", \"51\", \"94\", \"8\", \"31\", \"81\", \"70\", \"74\", \"85\", \"57\", \"86\", \"66\", \"55\", \"112\", \"102\", \"82\", \"62\", \"49\", \"75\", \"103\", \"37\", \"79\", \"107\", \"54\", \"116\"], \"type\": \"bar\", \"uid\": \"6a2c7f73-18e9-411b-a0d6-1722f3fa5d66\"}], {\"autosize\": false, \"height\": 1000, \"width\": 1000, \"xaxis\": {\"tickfont\": {\"color\": \"black\", \"size\": 12}, \"title\": \"Feature Importances\"}, \"yaxis\": {\"automargin\": true}}, {\"showLink\": true, \"linkText\": \"Export to plot.ly\", \"plotlyServerURL\": \"https://plot.ly\"})});</script>"
      ]
     },
     "metadata": {},
     "output_type": "display_data"
    },
    {
     "name": "stdout",
     "output_type": "stream",
     "text": [
      "\n",
      "\n",
      "\u001b[1mAdaoost Classifier\u001b[0m\n",
      "Accuracy of the model for training data is: 0.906198887798\n",
      "Confusion Matrix for training data is:\n"
     ]
    },
    {
     "data": {
      "text/plain": [
       "Predicted  False  True  __all__\n",
       "Actual                         \n",
       "False      29272  2607    31879\n",
       "True         834  3971     4805\n",
       "__all__    30106  6578    36684"
      ]
     },
     "metadata": {},
     "output_type": "display_data"
    },
    {
     "name": "stdout",
     "output_type": "stream",
     "text": [
      "Accuracy of the model for test data is: 0.902093327519\n",
      "Confusion Matrix for test data is:\n"
     ]
    },
    {
     "data": {
      "text/plain": [
       "Predicted  False  True  __all__\n",
       "Actual                         \n",
       "False       7289   667     7956\n",
       "True         231   985     1216\n",
       "__all__     7520  1652     9172"
      ]
     },
     "metadata": {},
     "output_type": "display_data"
    },
    {
     "data": {
      "application/vnd.plotly.v1+json": {
       "config": {
        "linkText": "Export to plot.ly",
        "plotlyServerURL": "https://plot.ly",
        "showLink": true
       },
       "data": [
        {
         "marker": {
          "color": "rgb(158,202,225)",
          "line": {
           "color": "rgb(8,48,107)",
           "width": 1.5
          }
         },
         "opacity": 0.6,
         "orientation": "h",
         "text": [
          0.06,
          0.06,
          0.04,
          0.04,
          0.04,
          0.04,
          0.04,
          0.04,
          0.02,
          0.02,
          0.02,
          0.02,
          0.02,
          0.02,
          0.02,
          0.02,
          0.02,
          0.02,
          0.02,
          0.02,
          0.02,
          0.02,
          0.02,
          0.02,
          0.02,
          0.02,
          0.02,
          0.02,
          0.02,
          0.02,
          0.02,
          0.02,
          0.02,
          0.02,
          0.02,
          0.02,
          0.02,
          0.02,
          0.02,
          0.02,
          0,
          0,
          0,
          0,
          0,
          0,
          0,
          0,
          0,
          0,
          0,
          0,
          0,
          0,
          0,
          0,
          0,
          0,
          0,
          0,
          0,
          0,
          0,
          0,
          0,
          0,
          0,
          0,
          0,
          0,
          0,
          0,
          0,
          0,
          0,
          0,
          0,
          0,
          0,
          0,
          0,
          0,
          0,
          0,
          0,
          0,
          0,
          0,
          0,
          0,
          0,
          0,
          0,
          0,
          0,
          0,
          0,
          0,
          0,
          0,
          0,
          0,
          0,
          0,
          0,
          0,
          0,
          0,
          0,
          0,
          0,
          0,
          0,
          0,
          0,
          0,
          0
         ],
         "textposition": "outside",
         "type": "bar",
         "uid": "d2fc23e3-5d4d-469a-be37-dc14e0817eb3",
         "x": [
          0.06,
          0.06,
          0.04,
          0.04,
          0.04,
          0.04,
          0.04,
          0.04,
          0.02,
          0.02,
          0.02,
          0.02,
          0.02,
          0.02,
          0.02,
          0.02,
          0.02,
          0.02,
          0.02,
          0.02,
          0.02,
          0.02,
          0.02,
          0.02,
          0.02,
          0.02,
          0.02,
          0.02,
          0.02,
          0.02,
          0.02,
          0.02,
          0.02,
          0.02,
          0.02,
          0.02,
          0.02,
          0.02,
          0.02,
          0.02,
          0,
          0,
          0,
          0,
          0,
          0,
          0,
          0,
          0,
          0,
          0,
          0,
          0,
          0,
          0,
          0,
          0,
          0,
          0,
          0,
          0,
          0,
          0,
          0,
          0,
          0,
          0,
          0,
          0,
          0,
          0,
          0,
          0,
          0,
          0,
          0,
          0,
          0,
          0,
          0,
          0,
          0,
          0,
          0,
          0,
          0,
          0,
          0,
          0,
          0,
          0,
          0,
          0,
          0,
          0,
          0,
          0,
          0,
          0,
          0,
          0,
          0,
          0,
          0,
          0,
          0,
          0,
          0,
          0,
          0,
          0,
          0,
          0,
          0,
          0,
          0,
          0
         ],
         "y": [
          "0",
          "12",
          "28",
          "23",
          "73",
          "78",
          "20",
          "18",
          "82",
          "53",
          "1",
          "65",
          "70",
          "72",
          "79",
          "81",
          "83",
          "37",
          "84",
          "85",
          "86",
          "90",
          "97",
          "99",
          "102",
          "105",
          "106",
          "110",
          "111",
          "115",
          "39",
          "116",
          "26",
          "27",
          "19",
          "31",
          "3",
          "8",
          "10",
          "6",
          "32",
          "92",
          "91",
          "89",
          "88",
          "87",
          "11",
          "94",
          "13",
          "14",
          "15",
          "16",
          "17",
          "80",
          "21",
          "93",
          "96",
          "95",
          "107",
          "2",
          "114",
          "113",
          "112",
          "4",
          "109",
          "108",
          "5",
          "76",
          "104",
          "103",
          "7",
          "101",
          "100",
          "98",
          "9",
          "77",
          "74",
          "75",
          "33",
          "51",
          "50",
          "49",
          "48",
          "47",
          "46",
          "45",
          "44",
          "43",
          "42",
          "41",
          "40",
          "30",
          "38",
          "36",
          "35",
          "34",
          "52",
          "29",
          "54",
          "66",
          "22",
          "24",
          "71",
          "25",
          "69",
          "68",
          "67",
          "64",
          "55",
          "63",
          "62",
          "61",
          "60",
          "59",
          "57",
          "56",
          "58"
         ]
        }
       ],
       "layout": {
        "autosize": false,
        "height": 1000,
        "width": 1000,
        "xaxis": {
         "tickfont": {
          "color": "black",
          "size": 12
         },
         "title": "Feature Importances"
        },
        "yaxis": {
         "automargin": true
        }
       }
      },
      "text/html": [
       "<div id=\"59ab87b9-9937-4062-b7dc-765ef7e589bb\" style=\"height: 1000px; width: 1000px;\" class=\"plotly-graph-div\"></div><script type=\"text/javascript\">require([\"plotly\"], function(Plotly) { window.PLOTLYENV=window.PLOTLYENV || {};window.PLOTLYENV.BASE_URL=\"https://plot.ly\";Plotly.newPlot(\"59ab87b9-9937-4062-b7dc-765ef7e589bb\", [{\"marker\": {\"color\": \"rgb(158,202,225)\", \"line\": {\"color\": \"rgb(8,48,107)\", \"width\": 1.5}}, \"opacity\": 0.6, \"orientation\": \"h\", \"text\": [0.06, 0.06, 0.04, 0.04, 0.04, 0.04, 0.04, 0.04, 0.02, 0.02, 0.02, 0.02, 0.02, 0.02, 0.02, 0.02, 0.02, 0.02, 0.02, 0.02, 0.02, 0.02, 0.02, 0.02, 0.02, 0.02, 0.02, 0.02, 0.02, 0.02, 0.02, 0.02, 0.02, 0.02, 0.02, 0.02, 0.02, 0.02, 0.02, 0.02, 0.0, 0.0, 0.0, 0.0, 0.0, 0.0, 0.0, 0.0, 0.0, 0.0, 0.0, 0.0, 0.0, 0.0, 0.0, 0.0, 0.0, 0.0, 0.0, 0.0, 0.0, 0.0, 0.0, 0.0, 0.0, 0.0, 0.0, 0.0, 0.0, 0.0, 0.0, 0.0, 0.0, 0.0, 0.0, 0.0, 0.0, 0.0, 0.0, 0.0, 0.0, 0.0, 0.0, 0.0, 0.0, 0.0, 0.0, 0.0, 0.0, 0.0, 0.0, 0.0, 0.0, 0.0, 0.0, 0.0, 0.0, 0.0, 0.0, 0.0, 0.0, 0.0, 0.0, 0.0, 0.0, 0.0, 0.0, 0.0, 0.0, 0.0, 0.0, 0.0, 0.0, 0.0, 0.0, 0.0, 0.0], \"textposition\": \"outside\", \"x\": [0.06, 0.06, 0.04, 0.04, 0.04, 0.04, 0.04, 0.04, 0.02, 0.02, 0.02, 0.02, 0.02, 0.02, 0.02, 0.02, 0.02, 0.02, 0.02, 0.02, 0.02, 0.02, 0.02, 0.02, 0.02, 0.02, 0.02, 0.02, 0.02, 0.02, 0.02, 0.02, 0.02, 0.02, 0.02, 0.02, 0.02, 0.02, 0.02, 0.02, 0.0, 0.0, 0.0, 0.0, 0.0, 0.0, 0.0, 0.0, 0.0, 0.0, 0.0, 0.0, 0.0, 0.0, 0.0, 0.0, 0.0, 0.0, 0.0, 0.0, 0.0, 0.0, 0.0, 0.0, 0.0, 0.0, 0.0, 0.0, 0.0, 0.0, 0.0, 0.0, 0.0, 0.0, 0.0, 0.0, 0.0, 0.0, 0.0, 0.0, 0.0, 0.0, 0.0, 0.0, 0.0, 0.0, 0.0, 0.0, 0.0, 0.0, 0.0, 0.0, 0.0, 0.0, 0.0, 0.0, 0.0, 0.0, 0.0, 0.0, 0.0, 0.0, 0.0, 0.0, 0.0, 0.0, 0.0, 0.0, 0.0, 0.0, 0.0, 0.0, 0.0, 0.0, 0.0, 0.0, 0.0], \"y\": [\"0\", \"12\", \"28\", \"23\", \"73\", \"78\", \"20\", \"18\", \"82\", \"53\", \"1\", \"65\", \"70\", \"72\", \"79\", \"81\", \"83\", \"37\", \"84\", \"85\", \"86\", \"90\", \"97\", \"99\", \"102\", \"105\", \"106\", \"110\", \"111\", \"115\", \"39\", \"116\", \"26\", \"27\", \"19\", \"31\", \"3\", \"8\", \"10\", \"6\", \"32\", \"92\", \"91\", \"89\", \"88\", \"87\", \"11\", \"94\", \"13\", \"14\", \"15\", \"16\", \"17\", \"80\", \"21\", \"93\", \"96\", \"95\", \"107\", \"2\", \"114\", \"113\", \"112\", \"4\", \"109\", \"108\", \"5\", \"76\", \"104\", \"103\", \"7\", \"101\", \"100\", \"98\", \"9\", \"77\", \"74\", \"75\", \"33\", \"51\", \"50\", \"49\", \"48\", \"47\", \"46\", \"45\", \"44\", \"43\", \"42\", \"41\", \"40\", \"30\", \"38\", \"36\", \"35\", \"34\", \"52\", \"29\", \"54\", \"66\", \"22\", \"24\", \"71\", \"25\", \"69\", \"68\", \"67\", \"64\", \"55\", \"63\", \"62\", \"61\", \"60\", \"59\", \"57\", \"56\", \"58\"], \"type\": \"bar\", \"uid\": \"d2fc23e3-5d4d-469a-be37-dc14e0817eb3\"}], {\"autosize\": false, \"height\": 1000, \"width\": 1000, \"xaxis\": {\"tickfont\": {\"color\": \"black\", \"size\": 12}, \"title\": \"Feature Importances\"}, \"yaxis\": {\"automargin\": true}}, {\"showLink\": true, \"linkText\": \"Export to plot.ly\", \"plotlyServerURL\": \"https://plot.ly\"})});</script>"
      ],
      "text/vnd.plotly.v1+html": [
       "<div id=\"59ab87b9-9937-4062-b7dc-765ef7e589bb\" style=\"height: 1000px; width: 1000px;\" class=\"plotly-graph-div\"></div><script type=\"text/javascript\">require([\"plotly\"], function(Plotly) { window.PLOTLYENV=window.PLOTLYENV || {};window.PLOTLYENV.BASE_URL=\"https://plot.ly\";Plotly.newPlot(\"59ab87b9-9937-4062-b7dc-765ef7e589bb\", [{\"marker\": {\"color\": \"rgb(158,202,225)\", \"line\": {\"color\": \"rgb(8,48,107)\", \"width\": 1.5}}, \"opacity\": 0.6, \"orientation\": \"h\", \"text\": [0.06, 0.06, 0.04, 0.04, 0.04, 0.04, 0.04, 0.04, 0.02, 0.02, 0.02, 0.02, 0.02, 0.02, 0.02, 0.02, 0.02, 0.02, 0.02, 0.02, 0.02, 0.02, 0.02, 0.02, 0.02, 0.02, 0.02, 0.02, 0.02, 0.02, 0.02, 0.02, 0.02, 0.02, 0.02, 0.02, 0.02, 0.02, 0.02, 0.02, 0.0, 0.0, 0.0, 0.0, 0.0, 0.0, 0.0, 0.0, 0.0, 0.0, 0.0, 0.0, 0.0, 0.0, 0.0, 0.0, 0.0, 0.0, 0.0, 0.0, 0.0, 0.0, 0.0, 0.0, 0.0, 0.0, 0.0, 0.0, 0.0, 0.0, 0.0, 0.0, 0.0, 0.0, 0.0, 0.0, 0.0, 0.0, 0.0, 0.0, 0.0, 0.0, 0.0, 0.0, 0.0, 0.0, 0.0, 0.0, 0.0, 0.0, 0.0, 0.0, 0.0, 0.0, 0.0, 0.0, 0.0, 0.0, 0.0, 0.0, 0.0, 0.0, 0.0, 0.0, 0.0, 0.0, 0.0, 0.0, 0.0, 0.0, 0.0, 0.0, 0.0, 0.0, 0.0, 0.0, 0.0], \"textposition\": \"outside\", \"x\": [0.06, 0.06, 0.04, 0.04, 0.04, 0.04, 0.04, 0.04, 0.02, 0.02, 0.02, 0.02, 0.02, 0.02, 0.02, 0.02, 0.02, 0.02, 0.02, 0.02, 0.02, 0.02, 0.02, 0.02, 0.02, 0.02, 0.02, 0.02, 0.02, 0.02, 0.02, 0.02, 0.02, 0.02, 0.02, 0.02, 0.02, 0.02, 0.02, 0.02, 0.0, 0.0, 0.0, 0.0, 0.0, 0.0, 0.0, 0.0, 0.0, 0.0, 0.0, 0.0, 0.0, 0.0, 0.0, 0.0, 0.0, 0.0, 0.0, 0.0, 0.0, 0.0, 0.0, 0.0, 0.0, 0.0, 0.0, 0.0, 0.0, 0.0, 0.0, 0.0, 0.0, 0.0, 0.0, 0.0, 0.0, 0.0, 0.0, 0.0, 0.0, 0.0, 0.0, 0.0, 0.0, 0.0, 0.0, 0.0, 0.0, 0.0, 0.0, 0.0, 0.0, 0.0, 0.0, 0.0, 0.0, 0.0, 0.0, 0.0, 0.0, 0.0, 0.0, 0.0, 0.0, 0.0, 0.0, 0.0, 0.0, 0.0, 0.0, 0.0, 0.0, 0.0, 0.0, 0.0, 0.0], \"y\": [\"0\", \"12\", \"28\", \"23\", \"73\", \"78\", \"20\", \"18\", \"82\", \"53\", \"1\", \"65\", \"70\", \"72\", \"79\", \"81\", \"83\", \"37\", \"84\", \"85\", \"86\", \"90\", \"97\", \"99\", \"102\", \"105\", \"106\", \"110\", \"111\", \"115\", \"39\", \"116\", \"26\", \"27\", \"19\", \"31\", \"3\", \"8\", \"10\", \"6\", \"32\", \"92\", \"91\", \"89\", \"88\", \"87\", \"11\", \"94\", \"13\", \"14\", \"15\", \"16\", \"17\", \"80\", \"21\", \"93\", \"96\", \"95\", \"107\", \"2\", \"114\", \"113\", \"112\", \"4\", \"109\", \"108\", \"5\", \"76\", \"104\", \"103\", \"7\", \"101\", \"100\", \"98\", \"9\", \"77\", \"74\", \"75\", \"33\", \"51\", \"50\", \"49\", \"48\", \"47\", \"46\", \"45\", \"44\", \"43\", \"42\", \"41\", \"40\", \"30\", \"38\", \"36\", \"35\", \"34\", \"52\", \"29\", \"54\", \"66\", \"22\", \"24\", \"71\", \"25\", \"69\", \"68\", \"67\", \"64\", \"55\", \"63\", \"62\", \"61\", \"60\", \"59\", \"57\", \"56\", \"58\"], \"type\": \"bar\", \"uid\": \"d2fc23e3-5d4d-469a-be37-dc14e0817eb3\"}], {\"autosize\": false, \"height\": 1000, \"width\": 1000, \"xaxis\": {\"tickfont\": {\"color\": \"black\", \"size\": 12}, \"title\": \"Feature Importances\"}, \"yaxis\": {\"automargin\": true}}, {\"showLink\": true, \"linkText\": \"Export to plot.ly\", \"plotlyServerURL\": \"https://plot.ly\"})});</script>"
      ]
     },
     "metadata": {},
     "output_type": "display_data"
    },
    {
     "name": "stdout",
     "output_type": "stream",
     "text": [
      "\n",
      "\n",
      "\u001b[1mGradientBoosting Classifier\u001b[0m\n",
      "Accuracy of the model for training data is: 0.912087013412\n",
      "Confusion Matrix for training data is:\n"
     ]
    },
    {
     "data": {
      "text/plain": [
       "Predicted  False  True  __all__\n",
       "Actual                         \n",
       "False      29373  2506    31879\n",
       "True         719  4086     4805\n",
       "__all__    30092  6592    36684"
      ]
     },
     "metadata": {},
     "output_type": "display_data"
    },
    {
     "name": "stdout",
     "output_type": "stream",
     "text": [
      "Accuracy of the model for test data is: 0.907108591365\n",
      "Confusion Matrix for test data is:\n"
     ]
    },
    {
     "data": {
      "text/plain": [
       "Predicted  False  True  __all__\n",
       "Actual                         \n",
       "False       7320   636     7956\n",
       "True         216  1000     1216\n",
       "__all__     7536  1636     9172"
      ]
     },
     "metadata": {},
     "output_type": "display_data"
    },
    {
     "data": {
      "application/vnd.plotly.v1+json": {
       "config": {
        "linkText": "Export to plot.ly",
        "plotlyServerURL": "https://plot.ly",
        "showLink": true
       },
       "data": [
        {
         "marker": {
          "color": "rgb(158,202,225)",
          "line": {
           "color": "rgb(8,48,107)",
           "width": 1.5
          }
         },
         "opacity": 0.6,
         "orientation": "h",
         "text": [
          0.5262,
          0.1316,
          0.061,
          0.042,
          0.0415,
          0.0214,
          0.0162,
          0.015,
          0.0128,
          0.0108,
          0.0097,
          0.0078,
          0.0076,
          0.0074,
          0.0069,
          0.0069,
          0.006,
          0.0057,
          0.0055,
          0.0049,
          0.0038,
          0.0028,
          0.0027,
          0.0026,
          0.0026,
          0.0025,
          0.0024,
          0.0022,
          0.0021,
          0.0021,
          0.002,
          0.0017,
          0.0015,
          0.0013,
          0.0012,
          0.0011,
          0.0011,
          0.001,
          0.0009,
          0.0009,
          0.0009,
          0.0008,
          0.0008,
          0.0007,
          0.0006,
          0.0006,
          0.0006,
          0.0006,
          0.0005,
          0.0005,
          0.0005,
          0.0004,
          0.0004,
          0.0004,
          0.0003,
          0.0003,
          0.0003,
          0.0003,
          0.0003,
          0.0003,
          0.0003,
          0.0003,
          0.0002,
          0.0002,
          0.0002,
          0.0002,
          0.0002,
          0.0002,
          0.0002,
          0.0002,
          0.0002,
          0.0002,
          0.0002,
          0.0002,
          0.0001,
          0.0001,
          0.0001,
          0.0001,
          0.0001,
          0.0001,
          0.0001,
          0.0001,
          0.0001,
          0.0001,
          0.0001,
          0.0001,
          0,
          0,
          0,
          0,
          0,
          0,
          0,
          0,
          0,
          0,
          0,
          0,
          0,
          0,
          0,
          0,
          0,
          0,
          0,
          0,
          0,
          0,
          0,
          0,
          0,
          0,
          0,
          0,
          0,
          0,
          0
         ],
         "textposition": "outside",
         "type": "bar",
         "uid": "4e658314-7375-461c-bfb0-def43b4235b1",
         "x": [
          0.5262305230416091,
          0.1316110194735358,
          0.06099375361353839,
          0.042009104913167186,
          0.04149624993092863,
          0.021426435780927115,
          0.016196840996516026,
          0.014953118460185268,
          0.01276938644068337,
          0.010772696917259138,
          0.009706995299240526,
          0.007848463640807355,
          0.007604742937637641,
          0.007444187401324276,
          0.006905541831332335,
          0.0068797354490114935,
          0.005954163081586875,
          0.005730171256677866,
          0.00553058258472556,
          0.0049487020878085375,
          0.0038275400014110765,
          0.002799102190441887,
          0.002678515298088581,
          0.0025951529371305796,
          0.002564519178941549,
          0.002538367148033385,
          0.00242318492938003,
          0.0021904991453863686,
          0.002083871756613545,
          0.0020661573454580184,
          0.0020054447662581523,
          0.001651467331396141,
          0.0015354399595498695,
          0.0012653960236428984,
          0.001198635209166075,
          0.0011450584607046032,
          0.00106039814646009,
          0.0010067918187040435,
          0.0009080795260812642,
          0.0008897045695523831,
          0.0008534182437619657,
          0.0008399312053512184,
          0.0007912640500163574,
          0.0006654171230473866,
          0.0006401833710202528,
          0.0005923009317977203,
          0.0005829087070339843,
          0.0005513730873040618,
          0.0005351367871745575,
          0.0005050046843058386,
          0.0004952293431296876,
          0.00041527976363177105,
          0.00038149722905341194,
          0.0003554146298592495,
          0.0003361260529276024,
          0.00032104381344006435,
          0.00031849733022009497,
          0.00031138694177270174,
          0.0003010403761297124,
          0.000290303239227141,
          0.00028726015116996816,
          0.00025361355195692946,
          0.00024178243398586543,
          0.00023975052165568423,
          0.00023787865521870196,
          0.00020737365441175093,
          0.00019931648526354444,
          0.00019532327831003015,
          0.00019351345606683618,
          0.00019157012406627828,
          0.0001786718594682274,
          0.00016148521228063635,
          0.00016099173849970586,
          0.00015980545977036501,
          0.00014847904165992597,
          0.0001447108679678209,
          0.0001430075629212459,
          0.000140981464614268,
          0.00011505328711545976,
          0.00011085819422316622,
          0.000104243310714632,
          9.373390122643059e-05,
          9.162877925635149e-05,
          6.607689109289485e-05,
          6.567192561366836e-05,
          5.6288497702388505e-05,
          4.855646341794065e-05,
          4.801236546078345e-05,
          3.3633052097514014e-05,
          3.287932468017598e-05,
          3.1105570683295665e-05,
          3.0073985457592768e-05,
          2.458194121233362e-05,
          2.3736705663355255e-05,
          9.852493986369383e-06,
          0,
          0,
          0,
          0,
          0,
          0,
          0,
          0,
          0,
          0,
          0,
          0,
          0,
          0,
          0,
          0,
          0,
          0,
          0,
          0,
          0,
          0
         ],
         "y": [
          "0",
          "16",
          "24",
          "41",
          "50",
          "28",
          "97",
          "36",
          "73",
          "70",
          "1",
          "4",
          "18",
          "105",
          "8",
          "26",
          "65",
          "23",
          "10",
          "11",
          "6",
          "3",
          "93",
          "2",
          "43",
          "29",
          "38",
          "72",
          "95",
          "96",
          "12",
          "5",
          "106",
          "45",
          "20",
          "100",
          "15",
          "62",
          "111",
          "51",
          "59",
          "44",
          "64",
          "110",
          "68",
          "14",
          "46",
          "82",
          "88",
          "112",
          "90",
          "87",
          "17",
          "35",
          "52",
          "58",
          "7",
          "116",
          "80",
          "79",
          "78",
          "77",
          "31",
          "47",
          "98",
          "108",
          "84",
          "71",
          "27",
          "67",
          "37",
          "89",
          "60",
          "21",
          "32",
          "102",
          "63",
          "54",
          "103",
          "66",
          "39",
          "76",
          "42",
          "53",
          "115",
          "30",
          "61",
          "75",
          "114",
          "92",
          "83",
          "40",
          "99",
          "104",
          "113",
          "107",
          "19",
          "109",
          "101",
          "9",
          "13",
          "56",
          "22",
          "25",
          "94",
          "91",
          "33",
          "34",
          "57",
          "85",
          "81",
          "74",
          "69",
          "48",
          "49",
          "55",
          "86"
         ]
        }
       ],
       "layout": {
        "autosize": false,
        "height": 1000,
        "width": 1000,
        "xaxis": {
         "tickfont": {
          "color": "black",
          "size": 12
         },
         "title": "Feature Importances"
        },
        "yaxis": {
         "automargin": true
        }
       }
      },
      "text/html": [
       "<div id=\"6c55934a-e85d-4040-a104-60d82006a110\" style=\"height: 1000px; width: 1000px;\" class=\"plotly-graph-div\"></div><script type=\"text/javascript\">require([\"plotly\"], function(Plotly) { window.PLOTLYENV=window.PLOTLYENV || {};window.PLOTLYENV.BASE_URL=\"https://plot.ly\";Plotly.newPlot(\"6c55934a-e85d-4040-a104-60d82006a110\", [{\"marker\": {\"color\": \"rgb(158,202,225)\", \"line\": {\"color\": \"rgb(8,48,107)\", \"width\": 1.5}}, \"opacity\": 0.6, \"orientation\": \"h\", \"text\": [0.5262, 0.1316, 0.061, 0.042, 0.0415, 0.0214, 0.0162, 0.015, 0.0128, 0.0108, 0.0097, 0.0078, 0.0076, 0.0074, 0.0069, 0.0069, 0.006, 0.0057, 0.0055, 0.0049, 0.0038, 0.0028, 0.0027, 0.0026, 0.0026, 0.0025, 0.0024, 0.0022, 0.0021, 0.0021, 0.002, 0.0017, 0.0015, 0.0013, 0.0012, 0.0011, 0.0011, 0.001, 0.0009, 0.0009, 0.0009, 0.0008, 0.0008, 0.0007, 0.0006, 0.0006, 0.0006, 0.0006, 0.0005, 0.0005, 0.0005, 0.0004, 0.0004, 0.0004, 0.0003, 0.0003, 0.0003, 0.0003, 0.0003, 0.0003, 0.0003, 0.0003, 0.0002, 0.0002, 0.0002, 0.0002, 0.0002, 0.0002, 0.0002, 0.0002, 0.0002, 0.0002, 0.0002, 0.0002, 0.0001, 0.0001, 0.0001, 0.0001, 0.0001, 0.0001, 0.0001, 0.0001, 0.0001, 0.0001, 0.0001, 0.0001, 0.0, 0.0, 0.0, 0.0, 0.0, 0.0, 0.0, 0.0, 0.0, 0.0, 0.0, 0.0, 0.0, 0.0, 0.0, 0.0, 0.0, 0.0, 0.0, 0.0, 0.0, 0.0, 0.0, 0.0, 0.0, 0.0, 0.0, 0.0, 0.0, 0.0, 0.0], \"textposition\": \"outside\", \"x\": [0.5262305230416091, 0.1316110194735358, 0.06099375361353839, 0.042009104913167186, 0.04149624993092863, 0.021426435780927115, 0.016196840996516026, 0.014953118460185268, 0.01276938644068337, 0.010772696917259138, 0.009706995299240526, 0.007848463640807355, 0.007604742937637641, 0.007444187401324276, 0.006905541831332335, 0.0068797354490114935, 0.005954163081586875, 0.005730171256677866, 0.00553058258472556, 0.0049487020878085375, 0.0038275400014110765, 0.002799102190441887, 0.002678515298088581, 0.0025951529371305796, 0.002564519178941549, 0.002538367148033385, 0.00242318492938003, 0.0021904991453863686, 0.002083871756613545, 0.0020661573454580184, 0.0020054447662581523, 0.001651467331396141, 0.0015354399595498695, 0.0012653960236428984, 0.001198635209166075, 0.0011450584607046032, 0.00106039814646009, 0.0010067918187040435, 0.0009080795260812642, 0.0008897045695523831, 0.0008534182437619657, 0.0008399312053512184, 0.0007912640500163574, 0.0006654171230473866, 0.0006401833710202528, 0.0005923009317977203, 0.0005829087070339843, 0.0005513730873040618, 0.0005351367871745575, 0.0005050046843058386, 0.0004952293431296876, 0.00041527976363177105, 0.00038149722905341194, 0.0003554146298592495, 0.0003361260529276024, 0.00032104381344006435, 0.00031849733022009497, 0.00031138694177270174, 0.0003010403761297124, 0.000290303239227141, 0.00028726015116996816, 0.00025361355195692946, 0.00024178243398586543, 0.00023975052165568423, 0.00023787865521870196, 0.00020737365441175093, 0.00019931648526354444, 0.00019532327831003015, 0.00019351345606683618, 0.00019157012406627828, 0.0001786718594682274, 0.00016148521228063635, 0.00016099173849970586, 0.00015980545977036501, 0.00014847904165992597, 0.0001447108679678209, 0.0001430075629212459, 0.000140981464614268, 0.00011505328711545976, 0.00011085819422316622, 0.000104243310714632, 9.373390122643059e-05, 9.162877925635149e-05, 6.607689109289485e-05, 6.567192561366836e-05, 5.6288497702388505e-05, 4.855646341794065e-05, 4.801236546078345e-05, 3.3633052097514014e-05, 3.287932468017598e-05, 3.1105570683295665e-05, 3.0073985457592768e-05, 2.458194121233362e-05, 2.3736705663355255e-05, 9.852493986369383e-06, 0.0, 0.0, 0.0, 0.0, 0.0, 0.0, 0.0, 0.0, 0.0, 0.0, 0.0, 0.0, 0.0, 0.0, 0.0, 0.0, 0.0, 0.0, 0.0, 0.0, 0.0, 0.0], \"y\": [\"0\", \"16\", \"24\", \"41\", \"50\", \"28\", \"97\", \"36\", \"73\", \"70\", \"1\", \"4\", \"18\", \"105\", \"8\", \"26\", \"65\", \"23\", \"10\", \"11\", \"6\", \"3\", \"93\", \"2\", \"43\", \"29\", \"38\", \"72\", \"95\", \"96\", \"12\", \"5\", \"106\", \"45\", \"20\", \"100\", \"15\", \"62\", \"111\", \"51\", \"59\", \"44\", \"64\", \"110\", \"68\", \"14\", \"46\", \"82\", \"88\", \"112\", \"90\", \"87\", \"17\", \"35\", \"52\", \"58\", \"7\", \"116\", \"80\", \"79\", \"78\", \"77\", \"31\", \"47\", \"98\", \"108\", \"84\", \"71\", \"27\", \"67\", \"37\", \"89\", \"60\", \"21\", \"32\", \"102\", \"63\", \"54\", \"103\", \"66\", \"39\", \"76\", \"42\", \"53\", \"115\", \"30\", \"61\", \"75\", \"114\", \"92\", \"83\", \"40\", \"99\", \"104\", \"113\", \"107\", \"19\", \"109\", \"101\", \"9\", \"13\", \"56\", \"22\", \"25\", \"94\", \"91\", \"33\", \"34\", \"57\", \"85\", \"81\", \"74\", \"69\", \"48\", \"49\", \"55\", \"86\"], \"type\": \"bar\", \"uid\": \"4e658314-7375-461c-bfb0-def43b4235b1\"}], {\"autosize\": false, \"height\": 1000, \"width\": 1000, \"xaxis\": {\"tickfont\": {\"color\": \"black\", \"size\": 12}, \"title\": \"Feature Importances\"}, \"yaxis\": {\"automargin\": true}}, {\"showLink\": true, \"linkText\": \"Export to plot.ly\", \"plotlyServerURL\": \"https://plot.ly\"})});</script>"
      ],
      "text/vnd.plotly.v1+html": [
       "<div id=\"6c55934a-e85d-4040-a104-60d82006a110\" style=\"height: 1000px; width: 1000px;\" class=\"plotly-graph-div\"></div><script type=\"text/javascript\">require([\"plotly\"], function(Plotly) { window.PLOTLYENV=window.PLOTLYENV || {};window.PLOTLYENV.BASE_URL=\"https://plot.ly\";Plotly.newPlot(\"6c55934a-e85d-4040-a104-60d82006a110\", [{\"marker\": {\"color\": \"rgb(158,202,225)\", \"line\": {\"color\": \"rgb(8,48,107)\", \"width\": 1.5}}, \"opacity\": 0.6, \"orientation\": \"h\", \"text\": [0.5262, 0.1316, 0.061, 0.042, 0.0415, 0.0214, 0.0162, 0.015, 0.0128, 0.0108, 0.0097, 0.0078, 0.0076, 0.0074, 0.0069, 0.0069, 0.006, 0.0057, 0.0055, 0.0049, 0.0038, 0.0028, 0.0027, 0.0026, 0.0026, 0.0025, 0.0024, 0.0022, 0.0021, 0.0021, 0.002, 0.0017, 0.0015, 0.0013, 0.0012, 0.0011, 0.0011, 0.001, 0.0009, 0.0009, 0.0009, 0.0008, 0.0008, 0.0007, 0.0006, 0.0006, 0.0006, 0.0006, 0.0005, 0.0005, 0.0005, 0.0004, 0.0004, 0.0004, 0.0003, 0.0003, 0.0003, 0.0003, 0.0003, 0.0003, 0.0003, 0.0003, 0.0002, 0.0002, 0.0002, 0.0002, 0.0002, 0.0002, 0.0002, 0.0002, 0.0002, 0.0002, 0.0002, 0.0002, 0.0001, 0.0001, 0.0001, 0.0001, 0.0001, 0.0001, 0.0001, 0.0001, 0.0001, 0.0001, 0.0001, 0.0001, 0.0, 0.0, 0.0, 0.0, 0.0, 0.0, 0.0, 0.0, 0.0, 0.0, 0.0, 0.0, 0.0, 0.0, 0.0, 0.0, 0.0, 0.0, 0.0, 0.0, 0.0, 0.0, 0.0, 0.0, 0.0, 0.0, 0.0, 0.0, 0.0, 0.0, 0.0], \"textposition\": \"outside\", \"x\": [0.5262305230416091, 0.1316110194735358, 0.06099375361353839, 0.042009104913167186, 0.04149624993092863, 0.021426435780927115, 0.016196840996516026, 0.014953118460185268, 0.01276938644068337, 0.010772696917259138, 0.009706995299240526, 0.007848463640807355, 0.007604742937637641, 0.007444187401324276, 0.006905541831332335, 0.0068797354490114935, 0.005954163081586875, 0.005730171256677866, 0.00553058258472556, 0.0049487020878085375, 0.0038275400014110765, 0.002799102190441887, 0.002678515298088581, 0.0025951529371305796, 0.002564519178941549, 0.002538367148033385, 0.00242318492938003, 0.0021904991453863686, 0.002083871756613545, 0.0020661573454580184, 0.0020054447662581523, 0.001651467331396141, 0.0015354399595498695, 0.0012653960236428984, 0.001198635209166075, 0.0011450584607046032, 0.00106039814646009, 0.0010067918187040435, 0.0009080795260812642, 0.0008897045695523831, 0.0008534182437619657, 0.0008399312053512184, 0.0007912640500163574, 0.0006654171230473866, 0.0006401833710202528, 0.0005923009317977203, 0.0005829087070339843, 0.0005513730873040618, 0.0005351367871745575, 0.0005050046843058386, 0.0004952293431296876, 0.00041527976363177105, 0.00038149722905341194, 0.0003554146298592495, 0.0003361260529276024, 0.00032104381344006435, 0.00031849733022009497, 0.00031138694177270174, 0.0003010403761297124, 0.000290303239227141, 0.00028726015116996816, 0.00025361355195692946, 0.00024178243398586543, 0.00023975052165568423, 0.00023787865521870196, 0.00020737365441175093, 0.00019931648526354444, 0.00019532327831003015, 0.00019351345606683618, 0.00019157012406627828, 0.0001786718594682274, 0.00016148521228063635, 0.00016099173849970586, 0.00015980545977036501, 0.00014847904165992597, 0.0001447108679678209, 0.0001430075629212459, 0.000140981464614268, 0.00011505328711545976, 0.00011085819422316622, 0.000104243310714632, 9.373390122643059e-05, 9.162877925635149e-05, 6.607689109289485e-05, 6.567192561366836e-05, 5.6288497702388505e-05, 4.855646341794065e-05, 4.801236546078345e-05, 3.3633052097514014e-05, 3.287932468017598e-05, 3.1105570683295665e-05, 3.0073985457592768e-05, 2.458194121233362e-05, 2.3736705663355255e-05, 9.852493986369383e-06, 0.0, 0.0, 0.0, 0.0, 0.0, 0.0, 0.0, 0.0, 0.0, 0.0, 0.0, 0.0, 0.0, 0.0, 0.0, 0.0, 0.0, 0.0, 0.0, 0.0, 0.0, 0.0], \"y\": [\"0\", \"16\", \"24\", \"41\", \"50\", \"28\", \"97\", \"36\", \"73\", \"70\", \"1\", \"4\", \"18\", \"105\", \"8\", \"26\", \"65\", \"23\", \"10\", \"11\", \"6\", \"3\", \"93\", \"2\", \"43\", \"29\", \"38\", \"72\", \"95\", \"96\", \"12\", \"5\", \"106\", \"45\", \"20\", \"100\", \"15\", \"62\", \"111\", \"51\", \"59\", \"44\", \"64\", \"110\", \"68\", \"14\", \"46\", \"82\", \"88\", \"112\", \"90\", \"87\", \"17\", \"35\", \"52\", \"58\", \"7\", \"116\", \"80\", \"79\", \"78\", \"77\", \"31\", \"47\", \"98\", \"108\", \"84\", \"71\", \"27\", \"67\", \"37\", \"89\", \"60\", \"21\", \"32\", \"102\", \"63\", \"54\", \"103\", \"66\", \"39\", \"76\", \"42\", \"53\", \"115\", \"30\", \"61\", \"75\", \"114\", \"92\", \"83\", \"40\", \"99\", \"104\", \"113\", \"107\", \"19\", \"109\", \"101\", \"9\", \"13\", \"56\", \"22\", \"25\", \"94\", \"91\", \"33\", \"34\", \"57\", \"85\", \"81\", \"74\", \"69\", \"48\", \"49\", \"55\", \"86\"], \"type\": \"bar\", \"uid\": \"4e658314-7375-461c-bfb0-def43b4235b1\"}], {\"autosize\": false, \"height\": 1000, \"width\": 1000, \"xaxis\": {\"tickfont\": {\"color\": \"black\", \"size\": 12}, \"title\": \"Feature Importances\"}, \"yaxis\": {\"automargin\": true}}, {\"showLink\": true, \"linkText\": \"Export to plot.ly\", \"plotlyServerURL\": \"https://plot.ly\"})});</script>"
      ]
     },
     "metadata": {},
     "output_type": "display_data"
    },
    {
     "name": "stdout",
     "output_type": "stream",
     "text": [
      "\n",
      "\n",
      "\u001b[1mExtraTree Classifier\u001b[0m\n",
      "Accuracy of the model for training data is: 0.921573438011\n",
      "Confusion Matrix for training data is:\n"
     ]
    },
    {
     "data": {
      "text/plain": [
       "Predicted  False  True  __all__\n",
       "Actual                         \n",
       "False      29413  2466    31879\n",
       "True         411  4394     4805\n",
       "__all__    29824  6860    36684"
      ]
     },
     "metadata": {},
     "output_type": "display_data"
    },
    {
     "name": "stdout",
     "output_type": "stream",
     "text": [
      "Accuracy of the model for test data is: 0.90699956389\n",
      "Confusion Matrix for test data is:\n"
     ]
    },
    {
     "data": {
      "text/plain": [
       "Predicted  False  True  __all__\n",
       "Actual                         \n",
       "False       7292   664     7956\n",
       "True         189  1027     1216\n",
       "__all__     7481  1691     9172"
      ]
     },
     "metadata": {},
     "output_type": "display_data"
    },
    {
     "data": {
      "application/vnd.plotly.v1+json": {
       "config": {
        "linkText": "Export to plot.ly",
        "plotlyServerURL": "https://plot.ly",
        "showLink": true
       },
       "data": [
        {
         "marker": {
          "color": "rgb(158,202,225)",
          "line": {
           "color": "rgb(8,48,107)",
           "width": 1.5
          }
         },
         "opacity": 0.6,
         "orientation": "h",
         "text": [
          0.0805,
          0.0307,
          0.0279,
          0.0269,
          0.0266,
          0.0253,
          0.023,
          0.0211,
          0.02,
          0.0191,
          0.0188,
          0.0177,
          0.0176,
          0.0175,
          0.0163,
          0.0158,
          0.0156,
          0.0151,
          0.0146,
          0.0142,
          0.0142,
          0.0137,
          0.0128,
          0.0125,
          0.012,
          0.0117,
          0.0115,
          0.0114,
          0.0112,
          0.0111,
          0.0107,
          0.0102,
          0.009,
          0.0088,
          0.0087,
          0.0087,
          0.0086,
          0.0086,
          0.0085,
          0.0085,
          0.008,
          0.008,
          0.0077,
          0.0074,
          0.0074,
          0.0071,
          0.0068,
          0.0068,
          0.0068,
          0.0066,
          0.0065,
          0.0065,
          0.0064,
          0.0064,
          0.0062,
          0.0062,
          0.0059,
          0.0059,
          0.0059,
          0.0059,
          0.0058,
          0.0057,
          0.0057,
          0.0057,
          0.0055,
          0.0055,
          0.0052,
          0.0051,
          0.0048,
          0.0047,
          0.0047,
          0.0045,
          0.0044,
          0.0044,
          0.0041,
          0.0041,
          0.004,
          0.004,
          0.004,
          0.004,
          0.0039,
          0.0038,
          0.0036,
          0.0036,
          0.0035,
          0.0034,
          0.0033,
          0.0032,
          0.0031,
          0.0031,
          0.0029,
          0.0029,
          0.0029,
          0.0028,
          0.0028,
          0.0026,
          0.0024,
          0.0024,
          0.0023,
          0.0023,
          0.0022,
          0.0022,
          0.0022,
          0.002,
          0.002,
          0.002,
          0.0019,
          0.0019,
          0.0019,
          0.0018,
          0.0018,
          0.0018,
          0.0018,
          0.0017,
          0.0016,
          0.0015,
          0.0013
         ],
         "textposition": "outside",
         "type": "bar",
         "uid": "7fd1a94d-e8c3-45b7-8af1-27cd47c6b9a6",
         "x": [
          0.0805272971613594,
          0.03071613641849825,
          0.027887305975651328,
          0.02691587400680176,
          0.026596381012110835,
          0.02526496886017913,
          0.02296048552337588,
          0.021127453932931993,
          0.02001630074932182,
          0.01911353035128365,
          0.018779326870372808,
          0.017720046734657192,
          0.017590635182918462,
          0.017520244163324494,
          0.016262855401626027,
          0.015754224518212127,
          0.01562141511136333,
          0.01505517849491489,
          0.014649704160366466,
          0.014168046089577151,
          0.0141662508302464,
          0.01373078406187023,
          0.012832952360690666,
          0.012490348566283168,
          0.01200570729970896,
          0.011677548972470296,
          0.011508896308324456,
          0.011408489890910168,
          0.011227410519010274,
          0.01113364140727741,
          0.010724391620861584,
          0.010247551208630837,
          0.009030181154690717,
          0.008788743622715735,
          0.008710248521591081,
          0.008657083329415794,
          0.008627515887181247,
          0.00855488122452994,
          0.008547028911128995,
          0.008454921370972309,
          0.007967473441326024,
          0.007962135718235216,
          0.007681683273676777,
          0.0074319524880715245,
          0.007393007986136296,
          0.007134816274962015,
          0.006832594385693802,
          0.006792518209066155,
          0.006791164214467483,
          0.00656764118559104,
          0.006536055893013917,
          0.006524888377726081,
          0.00642272807780951,
          0.006375291915799136,
          0.006224393091758643,
          0.006210608183875379,
          0.005932939171401554,
          0.005928623937199902,
          0.005912893376377478,
          0.005890563104368294,
          0.005809340792453857,
          0.005740465823148005,
          0.005726363277677526,
          0.00569108607921708,
          0.005531712569582783,
          0.005512034614651456,
          0.005157808725287196,
          0.005148115739483351,
          0.004833646324400254,
          0.004711634886825246,
          0.004662384027576774,
          0.004517302369673037,
          0.004433508304217457,
          0.004383459801429365,
          0.004145569870388332,
          0.00408116364219626,
          0.004014326343027364,
          0.004008634703200649,
          0.004006645816071127,
          0.003988097571546996,
          0.00393568357044583,
          0.003771276557266863,
          0.003582706908598513,
          0.0035615701714227684,
          0.0034582714442388447,
          0.0034468428327203517,
          0.0033238052953908103,
          0.0031523955864022866,
          0.003101142158388221,
          0.0030948680928403124,
          0.0029471273595292158,
          0.002911952716440433,
          0.002862990912123218,
          0.002847766546301035,
          0.002842395384788645,
          0.0026414152555990474,
          0.0023998214105687915,
          0.002361459267719257,
          0.0023249133589592847,
          0.0022582964802275157,
          0.002241370835253693,
          0.0021741564314103103,
          0.0021694700559591416,
          0.0019987489097166304,
          0.0019711463596684795,
          0.0019705297436149937,
          0.0019408545991062333,
          0.0019268138116167823,
          0.001889198975079779,
          0.0018473867757913271,
          0.001839516249118821,
          0.0018305406597416262,
          0.0017998418308436456,
          0.001698299254232437,
          0.0016423010089888928,
          0.001516153409818657,
          0.0013277084040996515
         ],
         "y": [
          "0",
          "1",
          "88",
          "45",
          "2",
          "5",
          "29",
          "9",
          "28",
          "10",
          "21",
          "44",
          "37",
          "14",
          "3",
          "22",
          "69",
          "16",
          "17",
          "70",
          "68",
          "60",
          "80",
          "91",
          "116",
          "105",
          "15",
          "67",
          "97",
          "65",
          "106",
          "113",
          "18",
          "46",
          "103",
          "96",
          "95",
          "39",
          "8",
          "72",
          "23",
          "114",
          "81",
          "41",
          "32",
          "43",
          "83",
          "92",
          "34",
          "26",
          "61",
          "40",
          "7",
          "36",
          "84",
          "11",
          "49",
          "12",
          "108",
          "86",
          "98",
          "6",
          "30",
          "89",
          "78",
          "4",
          "107",
          "111",
          "13",
          "102",
          "25",
          "58",
          "56",
          "94",
          "33",
          "50",
          "47",
          "35",
          "79",
          "90",
          "85",
          "101",
          "75",
          "93",
          "52",
          "66",
          "24",
          "53",
          "112",
          "74",
          "38",
          "99",
          "63",
          "51",
          "109",
          "31",
          "110",
          "59",
          "55",
          "19",
          "115",
          "57",
          "71",
          "20",
          "76",
          "100",
          "27",
          "73",
          "54",
          "64",
          "87",
          "48",
          "104",
          "62",
          "77",
          "82",
          "42"
         ]
        }
       ],
       "layout": {
        "autosize": false,
        "height": 1000,
        "width": 1000,
        "xaxis": {
         "tickfont": {
          "color": "black",
          "size": 12
         },
         "title": "Feature Importances"
        },
        "yaxis": {
         "automargin": true
        }
       }
      },
      "text/html": [
       "<div id=\"336de3f6-13a6-431f-94df-9470f291d98c\" style=\"height: 1000px; width: 1000px;\" class=\"plotly-graph-div\"></div><script type=\"text/javascript\">require([\"plotly\"], function(Plotly) { window.PLOTLYENV=window.PLOTLYENV || {};window.PLOTLYENV.BASE_URL=\"https://plot.ly\";Plotly.newPlot(\"336de3f6-13a6-431f-94df-9470f291d98c\", [{\"marker\": {\"color\": \"rgb(158,202,225)\", \"line\": {\"color\": \"rgb(8,48,107)\", \"width\": 1.5}}, \"opacity\": 0.6, \"orientation\": \"h\", \"text\": [0.0805, 0.0307, 0.0279, 0.0269, 0.0266, 0.0253, 0.023, 0.0211, 0.02, 0.0191, 0.0188, 0.0177, 0.0176, 0.0175, 0.0163, 0.0158, 0.0156, 0.0151, 0.0146, 0.0142, 0.0142, 0.0137, 0.0128, 0.0125, 0.012, 0.0117, 0.0115, 0.0114, 0.0112, 0.0111, 0.0107, 0.0102, 0.009, 0.0088, 0.0087, 0.0087, 0.0086, 0.0086, 0.0085, 0.0085, 0.008, 0.008, 0.0077, 0.0074, 0.0074, 0.0071, 0.0068, 0.0068, 0.0068, 0.0066, 0.0065, 0.0065, 0.0064, 0.0064, 0.0062, 0.0062, 0.0059, 0.0059, 0.0059, 0.0059, 0.0058, 0.0057, 0.0057, 0.0057, 0.0055, 0.0055, 0.0052, 0.0051, 0.0048, 0.0047, 0.0047, 0.0045, 0.0044, 0.0044, 0.0041, 0.0041, 0.004, 0.004, 0.004, 0.004, 0.0039, 0.0038, 0.0036, 0.0036, 0.0035, 0.0034, 0.0033, 0.0032, 0.0031, 0.0031, 0.0029, 0.0029, 0.0029, 0.0028, 0.0028, 0.0026, 0.0024, 0.0024, 0.0023, 0.0023, 0.0022, 0.0022, 0.0022, 0.002, 0.002, 0.002, 0.0019, 0.0019, 0.0019, 0.0018, 0.0018, 0.0018, 0.0018, 0.0017, 0.0016, 0.0015, 0.0013], \"textposition\": \"outside\", \"x\": [0.0805272971613594, 0.03071613641849825, 0.027887305975651328, 0.02691587400680176, 0.026596381012110835, 0.02526496886017913, 0.02296048552337588, 0.021127453932931993, 0.02001630074932182, 0.01911353035128365, 0.018779326870372808, 0.017720046734657192, 0.017590635182918462, 0.017520244163324494, 0.016262855401626027, 0.015754224518212127, 0.01562141511136333, 0.01505517849491489, 0.014649704160366466, 0.014168046089577151, 0.0141662508302464, 0.01373078406187023, 0.012832952360690666, 0.012490348566283168, 0.01200570729970896, 0.011677548972470296, 0.011508896308324456, 0.011408489890910168, 0.011227410519010274, 0.01113364140727741, 0.010724391620861584, 0.010247551208630837, 0.009030181154690717, 0.008788743622715735, 0.008710248521591081, 0.008657083329415794, 0.008627515887181247, 0.00855488122452994, 0.008547028911128995, 0.008454921370972309, 0.007967473441326024, 0.007962135718235216, 0.007681683273676777, 0.0074319524880715245, 0.007393007986136296, 0.007134816274962015, 0.006832594385693802, 0.006792518209066155, 0.006791164214467483, 0.00656764118559104, 0.006536055893013917, 0.006524888377726081, 0.00642272807780951, 0.006375291915799136, 0.006224393091758643, 0.006210608183875379, 0.005932939171401554, 0.005928623937199902, 0.005912893376377478, 0.005890563104368294, 0.005809340792453857, 0.005740465823148005, 0.005726363277677526, 0.00569108607921708, 0.005531712569582783, 0.005512034614651456, 0.005157808725287196, 0.005148115739483351, 0.004833646324400254, 0.004711634886825246, 0.004662384027576774, 0.004517302369673037, 0.004433508304217457, 0.004383459801429365, 0.004145569870388332, 0.00408116364219626, 0.004014326343027364, 0.004008634703200649, 0.004006645816071127, 0.003988097571546996, 0.00393568357044583, 0.003771276557266863, 0.003582706908598513, 0.0035615701714227684, 0.0034582714442388447, 0.0034468428327203517, 0.0033238052953908103, 0.0031523955864022866, 0.003101142158388221, 0.0030948680928403124, 0.0029471273595292158, 0.002911952716440433, 0.002862990912123218, 0.002847766546301035, 0.002842395384788645, 0.0026414152555990474, 0.0023998214105687915, 0.002361459267719257, 0.0023249133589592847, 0.0022582964802275157, 0.002241370835253693, 0.0021741564314103103, 0.0021694700559591416, 0.0019987489097166304, 0.0019711463596684795, 0.0019705297436149937, 0.0019408545991062333, 0.0019268138116167823, 0.001889198975079779, 0.0018473867757913271, 0.001839516249118821, 0.0018305406597416262, 0.0017998418308436456, 0.001698299254232437, 0.0016423010089888928, 0.001516153409818657, 0.0013277084040996515], \"y\": [\"0\", \"1\", \"88\", \"45\", \"2\", \"5\", \"29\", \"9\", \"28\", \"10\", \"21\", \"44\", \"37\", \"14\", \"3\", \"22\", \"69\", \"16\", \"17\", \"70\", \"68\", \"60\", \"80\", \"91\", \"116\", \"105\", \"15\", \"67\", \"97\", \"65\", \"106\", \"113\", \"18\", \"46\", \"103\", \"96\", \"95\", \"39\", \"8\", \"72\", \"23\", \"114\", \"81\", \"41\", \"32\", \"43\", \"83\", \"92\", \"34\", \"26\", \"61\", \"40\", \"7\", \"36\", \"84\", \"11\", \"49\", \"12\", \"108\", \"86\", \"98\", \"6\", \"30\", \"89\", \"78\", \"4\", \"107\", \"111\", \"13\", \"102\", \"25\", \"58\", \"56\", \"94\", \"33\", \"50\", \"47\", \"35\", \"79\", \"90\", \"85\", \"101\", \"75\", \"93\", \"52\", \"66\", \"24\", \"53\", \"112\", \"74\", \"38\", \"99\", \"63\", \"51\", \"109\", \"31\", \"110\", \"59\", \"55\", \"19\", \"115\", \"57\", \"71\", \"20\", \"76\", \"100\", \"27\", \"73\", \"54\", \"64\", \"87\", \"48\", \"104\", \"62\", \"77\", \"82\", \"42\"], \"type\": \"bar\", \"uid\": \"7fd1a94d-e8c3-45b7-8af1-27cd47c6b9a6\"}], {\"autosize\": false, \"height\": 1000, \"width\": 1000, \"xaxis\": {\"tickfont\": {\"color\": \"black\", \"size\": 12}, \"title\": \"Feature Importances\"}, \"yaxis\": {\"automargin\": true}}, {\"showLink\": true, \"linkText\": \"Export to plot.ly\", \"plotlyServerURL\": \"https://plot.ly\"})});</script>"
      ],
      "text/vnd.plotly.v1+html": [
       "<div id=\"336de3f6-13a6-431f-94df-9470f291d98c\" style=\"height: 1000px; width: 1000px;\" class=\"plotly-graph-div\"></div><script type=\"text/javascript\">require([\"plotly\"], function(Plotly) { window.PLOTLYENV=window.PLOTLYENV || {};window.PLOTLYENV.BASE_URL=\"https://plot.ly\";Plotly.newPlot(\"336de3f6-13a6-431f-94df-9470f291d98c\", [{\"marker\": {\"color\": \"rgb(158,202,225)\", \"line\": {\"color\": \"rgb(8,48,107)\", \"width\": 1.5}}, \"opacity\": 0.6, \"orientation\": \"h\", \"text\": [0.0805, 0.0307, 0.0279, 0.0269, 0.0266, 0.0253, 0.023, 0.0211, 0.02, 0.0191, 0.0188, 0.0177, 0.0176, 0.0175, 0.0163, 0.0158, 0.0156, 0.0151, 0.0146, 0.0142, 0.0142, 0.0137, 0.0128, 0.0125, 0.012, 0.0117, 0.0115, 0.0114, 0.0112, 0.0111, 0.0107, 0.0102, 0.009, 0.0088, 0.0087, 0.0087, 0.0086, 0.0086, 0.0085, 0.0085, 0.008, 0.008, 0.0077, 0.0074, 0.0074, 0.0071, 0.0068, 0.0068, 0.0068, 0.0066, 0.0065, 0.0065, 0.0064, 0.0064, 0.0062, 0.0062, 0.0059, 0.0059, 0.0059, 0.0059, 0.0058, 0.0057, 0.0057, 0.0057, 0.0055, 0.0055, 0.0052, 0.0051, 0.0048, 0.0047, 0.0047, 0.0045, 0.0044, 0.0044, 0.0041, 0.0041, 0.004, 0.004, 0.004, 0.004, 0.0039, 0.0038, 0.0036, 0.0036, 0.0035, 0.0034, 0.0033, 0.0032, 0.0031, 0.0031, 0.0029, 0.0029, 0.0029, 0.0028, 0.0028, 0.0026, 0.0024, 0.0024, 0.0023, 0.0023, 0.0022, 0.0022, 0.0022, 0.002, 0.002, 0.002, 0.0019, 0.0019, 0.0019, 0.0018, 0.0018, 0.0018, 0.0018, 0.0017, 0.0016, 0.0015, 0.0013], \"textposition\": \"outside\", \"x\": [0.0805272971613594, 0.03071613641849825, 0.027887305975651328, 0.02691587400680176, 0.026596381012110835, 0.02526496886017913, 0.02296048552337588, 0.021127453932931993, 0.02001630074932182, 0.01911353035128365, 0.018779326870372808, 0.017720046734657192, 0.017590635182918462, 0.017520244163324494, 0.016262855401626027, 0.015754224518212127, 0.01562141511136333, 0.01505517849491489, 0.014649704160366466, 0.014168046089577151, 0.0141662508302464, 0.01373078406187023, 0.012832952360690666, 0.012490348566283168, 0.01200570729970896, 0.011677548972470296, 0.011508896308324456, 0.011408489890910168, 0.011227410519010274, 0.01113364140727741, 0.010724391620861584, 0.010247551208630837, 0.009030181154690717, 0.008788743622715735, 0.008710248521591081, 0.008657083329415794, 0.008627515887181247, 0.00855488122452994, 0.008547028911128995, 0.008454921370972309, 0.007967473441326024, 0.007962135718235216, 0.007681683273676777, 0.0074319524880715245, 0.007393007986136296, 0.007134816274962015, 0.006832594385693802, 0.006792518209066155, 0.006791164214467483, 0.00656764118559104, 0.006536055893013917, 0.006524888377726081, 0.00642272807780951, 0.006375291915799136, 0.006224393091758643, 0.006210608183875379, 0.005932939171401554, 0.005928623937199902, 0.005912893376377478, 0.005890563104368294, 0.005809340792453857, 0.005740465823148005, 0.005726363277677526, 0.00569108607921708, 0.005531712569582783, 0.005512034614651456, 0.005157808725287196, 0.005148115739483351, 0.004833646324400254, 0.004711634886825246, 0.004662384027576774, 0.004517302369673037, 0.004433508304217457, 0.004383459801429365, 0.004145569870388332, 0.00408116364219626, 0.004014326343027364, 0.004008634703200649, 0.004006645816071127, 0.003988097571546996, 0.00393568357044583, 0.003771276557266863, 0.003582706908598513, 0.0035615701714227684, 0.0034582714442388447, 0.0034468428327203517, 0.0033238052953908103, 0.0031523955864022866, 0.003101142158388221, 0.0030948680928403124, 0.0029471273595292158, 0.002911952716440433, 0.002862990912123218, 0.002847766546301035, 0.002842395384788645, 0.0026414152555990474, 0.0023998214105687915, 0.002361459267719257, 0.0023249133589592847, 0.0022582964802275157, 0.002241370835253693, 0.0021741564314103103, 0.0021694700559591416, 0.0019987489097166304, 0.0019711463596684795, 0.0019705297436149937, 0.0019408545991062333, 0.0019268138116167823, 0.001889198975079779, 0.0018473867757913271, 0.001839516249118821, 0.0018305406597416262, 0.0017998418308436456, 0.001698299254232437, 0.0016423010089888928, 0.001516153409818657, 0.0013277084040996515], \"y\": [\"0\", \"1\", \"88\", \"45\", \"2\", \"5\", \"29\", \"9\", \"28\", \"10\", \"21\", \"44\", \"37\", \"14\", \"3\", \"22\", \"69\", \"16\", \"17\", \"70\", \"68\", \"60\", \"80\", \"91\", \"116\", \"105\", \"15\", \"67\", \"97\", \"65\", \"106\", \"113\", \"18\", \"46\", \"103\", \"96\", \"95\", \"39\", \"8\", \"72\", \"23\", \"114\", \"81\", \"41\", \"32\", \"43\", \"83\", \"92\", \"34\", \"26\", \"61\", \"40\", \"7\", \"36\", \"84\", \"11\", \"49\", \"12\", \"108\", \"86\", \"98\", \"6\", \"30\", \"89\", \"78\", \"4\", \"107\", \"111\", \"13\", \"102\", \"25\", \"58\", \"56\", \"94\", \"33\", \"50\", \"47\", \"35\", \"79\", \"90\", \"85\", \"101\", \"75\", \"93\", \"52\", \"66\", \"24\", \"53\", \"112\", \"74\", \"38\", \"99\", \"63\", \"51\", \"109\", \"31\", \"110\", \"59\", \"55\", \"19\", \"115\", \"57\", \"71\", \"20\", \"76\", \"100\", \"27\", \"73\", \"54\", \"64\", \"87\", \"48\", \"104\", \"62\", \"77\", \"82\", \"42\"], \"type\": \"bar\", \"uid\": \"7fd1a94d-e8c3-45b7-8af1-27cd47c6b9a6\"}], {\"autosize\": false, \"height\": 1000, \"width\": 1000, \"xaxis\": {\"tickfont\": {\"color\": \"black\", \"size\": 12}, \"title\": \"Feature Importances\"}, \"yaxis\": {\"automargin\": true}}, {\"showLink\": true, \"linkText\": \"Export to plot.ly\", \"plotlyServerURL\": \"https://plot.ly\"})});</script>"
      ]
     },
     "metadata": {},
     "output_type": "display_data"
    },
    {
     "name": "stdout",
     "output_type": "stream",
     "text": [
      "\n",
      "\n",
      "\u001b[1mBagging Classifier\u001b[0m\n",
      "Accuracy of the model for training data is: 0.919965107404\n",
      "Confusion Matrix for training data is:\n"
     ]
    },
    {
     "data": {
      "text/plain": [
       "Predicted  False  True  __all__\n",
       "Actual                         \n",
       "False      29405  2474    31879\n",
       "True         462  4343     4805\n",
       "__all__    29867  6817    36684"
      ]
     },
     "metadata": {},
     "output_type": "display_data"
    },
    {
     "name": "stdout",
     "output_type": "stream",
     "text": [
      "Accuracy of the model for test data is: 0.907871783689\n",
      "Confusion Matrix for test data is:\n"
     ]
    },
    {
     "data": {
      "text/plain": [
       "Predicted  False  True  __all__\n",
       "Actual                         \n",
       "False       7299   657     7956\n",
       "True         188  1028     1216\n",
       "__all__     7487  1685     9172"
      ]
     },
     "metadata": {},
     "output_type": "display_data"
    },
    {
     "name": "stdout",
     "output_type": "stream",
     "text": [
      "\n",
      "\n",
      "\u001b[1mNeural Network-1\u001b[0m\n",
      "The accuracy of the model on training data is: 0.910042525352\n"
     ]
    },
    {
     "data": {
      "text/plain": [
       "Predicted  False  True  __all__\n",
       "Actual                         \n",
       "False      29292  2587    31879\n",
       "True         713  4092     4805\n",
       "__all__    30005  6679    36684"
      ]
     },
     "metadata": {},
     "output_type": "display_data"
    },
    {
     "name": "stdout",
     "output_type": "stream",
     "text": [
      "The accuracy of the model on test data is: 0.905582206716\n"
     ]
    },
    {
     "data": {
      "text/plain": [
       "Predicted  False  True  __all__\n",
       "Actual                         \n",
       "False       7307   649     7956\n",
       "True         217   999     1216\n",
       "__all__     7524  1648     9172"
      ]
     },
     "metadata": {},
     "output_type": "display_data"
    },
    {
     "name": "stdout",
     "output_type": "stream",
     "text": [
      "\n",
      "\n"
     ]
    }
   ],
   "source": [
    "feat_imp=[None]*4\n",
    "j=0\n",
    "for i in range(0,8):\n",
    "    if i>=2 and i<=5:\n",
    "        model,cm_train,cm_test,acc_train,acc_test,roc_auc,feat_imp[j]=f[i](X_train,Y_train,X_test,Y_test,np.arange(0,117).astype(str))\n",
    "        j=j+1\n",
    "    else:\n",
    "        model,cm_train,cm_test,acc_train,acc_test,roc_auc=f[i](X_train,Y_train,X_test,Y_test)\n",
    "    table_80_70_train.loc[i]=   ([acc_train,cm_train.TP,cm_train.TN,cm_train.FP,cm_train.FN,cm_train.FPR,cm_train.FNR])\n",
    "    table_80_70_test.loc[i] =   ([acc_test ,cm_test.TP, cm_test.TN, cm_test.FP, cm_test.FN, cm_test.FPR, cm_test.FNR,roc_auc])\n",
    "    print(\"\\n\")"
   ]
  },
  {
   "cell_type": "markdown",
   "metadata": {},
   "source": [
    "### <a id='3.A' style=\"text-decoration : none; color : #000000;\"> A. Results</a>"
   ]
  },
  {
   "cell_type": "code",
   "execution_count": 54,
   "metadata": {},
   "outputs": [
    {
     "data": {
      "application/vnd.plotly.v1+json": {
       "config": {
        "linkText": "Export to plot.ly",
        "plotlyServerURL": "https://plot.ly",
        "showLink": true
       },
       "data": [
        {
         "mode": "lines",
         "name": "KNN_model",
         "type": "scatter",
         "uid": "8eac832d-5a37-400b-a5b3-e7e6c962856c",
         "x": [
          "accuracy",
          "FPR",
          "FNR",
          "auc"
         ],
         "y": [
          0.9075447012647188,
          0.0796882855706385,
          0.17598684210526316,
          0.8721624361620492
         ]
        },
        {
         "mode": "lines+markers",
         "name": "Logistic Regression",
         "type": "scatter",
         "uid": "24598c92-43aa-4ab1-9598-f229a892637b",
         "x": [
          "accuracy",
          "FPR",
          "FNR",
          "auc"
         ],
         "y": [
          0.8976232010466637,
          0.08572146807440925,
          0.21134868421052633,
          0.8514649238575321
         ]
        },
        {
         "marker": {
          "symbol": "x"
         },
         "mode": "lines+markers",
         "name": "Random Forest",
         "type": "scatter",
         "uid": "23c02979-5e85-45ac-93c0-169ddfb407cf",
         "x": [
          "accuracy",
          "FPR",
          "FNR",
          "auc"
         ],
         "y": [
          0.9083078935891845,
          0.08195072900955254,
          0.15542763157894737,
          0.88131081970575
         ]
        },
        {
         "mode": "lines",
         "name": "Ada Boost",
         "type": "scatter",
         "uid": "47df1c2c-2b4b-4a5e-b03c-776b670532f9",
         "x": [
          "accuracy",
          "FPR",
          "FNR",
          "auc"
         ],
         "y": [
          0.9020933275185347,
          0.08383609854198089,
          0.18996710526315788,
          0.8630983980974305
         ]
        },
        {
         "mode": "lines+markers",
         "name": "GradientBoosting",
         "type": "scatter",
         "uid": "144c28e2-505d-4462-8247-5134e0c3136b",
         "x": [
          "accuracy",
          "FPR",
          "FNR",
          "auc"
         ],
         "y": [
          0.907108591365024,
          0.07993966817496229,
          0.17763157894736842,
          0.8712143764388346
         ]
        },
        {
         "marker": {
          "symbol": "x"
         },
         "mode": "lines+markers",
         "name": "ExtraTree Classifier",
         "type": "scatter",
         "uid": "506bfb9c-aa1f-4701-8189-7830205f12da",
         "x": [
          "accuracy",
          "FPR",
          "FNR",
          "auc"
         ],
         "y": [
          0.9069995638901003,
          0.08345902463549522,
          0.15542763157894737,
          0.8805566718927786
         ]
        },
        {
         "marker": {
          "symbol": "x"
         },
         "mode": "lines+markers",
         "name": "Bagging",
         "type": "scatter",
         "uid": "55a8a03b-a2e8-4b8e-b82e-11fb3a535d75",
         "x": [
          "accuracy",
          "FPR",
          "FNR",
          "auc"
         ],
         "y": [
          0.9078717836894897,
          0.08257918552036199,
          0.15460526315789475,
          0.8814077756608717
         ]
        },
        {
         "marker": {
          "symbol": "x"
         },
         "mode": "lines+markers",
         "name": "Neural Network",
         "type": "scatter",
         "uid": "97db1956-87c4-4ffd-8422-897d711df372",
         "x": [
          "accuracy",
          "FPR",
          "FNR",
          "auc"
         ],
         "y": [
          0.9055822067160925,
          0.08157365510306687,
          0.17845394736842105,
          0.8814077756608717
         ]
        }
       ],
       "layout": {
        "title": "Result comparision for Features selected in Section 1",
        "yaxis": {
         "dtick": 0.05,
         "tick0": 0
        }
       }
      },
      "text/html": [
       "<div id=\"45e817a2-3a44-4ac3-bbab-f2b2e644cb61\" style=\"height: 525px; width: 100%;\" class=\"plotly-graph-div\"></div><script type=\"text/javascript\">require([\"plotly\"], function(Plotly) { window.PLOTLYENV=window.PLOTLYENV || {};window.PLOTLYENV.BASE_URL=\"https://plot.ly\";Plotly.newPlot(\"45e817a2-3a44-4ac3-bbab-f2b2e644cb61\", [{\"mode\": \"lines\", \"name\": \"KNN_model\", \"x\": [\"accuracy\", \"FPR\", \"FNR\", \"auc\"], \"y\": [0.9075447012647188, 0.0796882855706385, 0.17598684210526316, 0.8721624361620492], \"type\": \"scatter\", \"uid\": \"8eac832d-5a37-400b-a5b3-e7e6c962856c\"}, {\"mode\": \"lines+markers\", \"name\": \"Logistic Regression\", \"x\": [\"accuracy\", \"FPR\", \"FNR\", \"auc\"], \"y\": [0.8976232010466637, 0.08572146807440925, 0.21134868421052633, 0.8514649238575321], \"type\": \"scatter\", \"uid\": \"24598c92-43aa-4ab1-9598-f229a892637b\"}, {\"marker\": {\"symbol\": \"x\"}, \"mode\": \"lines+markers\", \"name\": \"Random Forest\", \"x\": [\"accuracy\", \"FPR\", \"FNR\", \"auc\"], \"y\": [0.9083078935891845, 0.08195072900955254, 0.15542763157894737, 0.88131081970575], \"type\": \"scatter\", \"uid\": \"23c02979-5e85-45ac-93c0-169ddfb407cf\"}, {\"mode\": \"lines\", \"name\": \"Ada Boost\", \"x\": [\"accuracy\", \"FPR\", \"FNR\", \"auc\"], \"y\": [0.9020933275185347, 0.08383609854198089, 0.18996710526315788, 0.8630983980974305], \"type\": \"scatter\", \"uid\": \"47df1c2c-2b4b-4a5e-b03c-776b670532f9\"}, {\"mode\": \"lines+markers\", \"name\": \"GradientBoosting\", \"x\": [\"accuracy\", \"FPR\", \"FNR\", \"auc\"], \"y\": [0.907108591365024, 0.07993966817496229, 0.17763157894736842, 0.8712143764388346], \"type\": \"scatter\", \"uid\": \"144c28e2-505d-4462-8247-5134e0c3136b\"}, {\"marker\": {\"symbol\": \"x\"}, \"mode\": \"lines+markers\", \"name\": \"ExtraTree Classifier\", \"x\": [\"accuracy\", \"FPR\", \"FNR\", \"auc\"], \"y\": [0.9069995638901003, 0.08345902463549522, 0.15542763157894737, 0.8805566718927786], \"type\": \"scatter\", \"uid\": \"506bfb9c-aa1f-4701-8189-7830205f12da\"}, {\"marker\": {\"symbol\": \"x\"}, \"mode\": \"lines+markers\", \"name\": \"Bagging\", \"x\": [\"accuracy\", \"FPR\", \"FNR\", \"auc\"], \"y\": [0.9078717836894897, 0.08257918552036199, 0.15460526315789475, 0.8814077756608717], \"type\": \"scatter\", \"uid\": \"55a8a03b-a2e8-4b8e-b82e-11fb3a535d75\"}, {\"marker\": {\"symbol\": \"x\"}, \"mode\": \"lines+markers\", \"name\": \"Neural Network\", \"x\": [\"accuracy\", \"FPR\", \"FNR\", \"auc\"], \"y\": [0.9055822067160925, 0.08157365510306687, 0.17845394736842105, 0.8814077756608717], \"type\": \"scatter\", \"uid\": \"97db1956-87c4-4ffd-8422-897d711df372\"}], {\"title\": \"Result comparision for Features selected in Section 1\", \"yaxis\": {\"dtick\": 0.05, \"tick0\": 0}}, {\"showLink\": true, \"linkText\": \"Export to plot.ly\", \"plotlyServerURL\": \"https://plot.ly\"})});</script><script type=\"text/javascript\">window.addEventListener(\"resize\", function(){window._Plotly.Plots.resize(document.getElementById(\"45e817a2-3a44-4ac3-bbab-f2b2e644cb61\"));});</script>"
      ],
      "text/vnd.plotly.v1+html": [
       "<div id=\"45e817a2-3a44-4ac3-bbab-f2b2e644cb61\" style=\"height: 525px; width: 100%;\" class=\"plotly-graph-div\"></div><script type=\"text/javascript\">require([\"plotly\"], function(Plotly) { window.PLOTLYENV=window.PLOTLYENV || {};window.PLOTLYENV.BASE_URL=\"https://plot.ly\";Plotly.newPlot(\"45e817a2-3a44-4ac3-bbab-f2b2e644cb61\", [{\"mode\": \"lines\", \"name\": \"KNN_model\", \"x\": [\"accuracy\", \"FPR\", \"FNR\", \"auc\"], \"y\": [0.9075447012647188, 0.0796882855706385, 0.17598684210526316, 0.8721624361620492], \"type\": \"scatter\", \"uid\": \"8eac832d-5a37-400b-a5b3-e7e6c962856c\"}, {\"mode\": \"lines+markers\", \"name\": \"Logistic Regression\", \"x\": [\"accuracy\", \"FPR\", \"FNR\", \"auc\"], \"y\": [0.8976232010466637, 0.08572146807440925, 0.21134868421052633, 0.8514649238575321], \"type\": \"scatter\", \"uid\": \"24598c92-43aa-4ab1-9598-f229a892637b\"}, {\"marker\": {\"symbol\": \"x\"}, \"mode\": \"lines+markers\", \"name\": \"Random Forest\", \"x\": [\"accuracy\", \"FPR\", \"FNR\", \"auc\"], \"y\": [0.9083078935891845, 0.08195072900955254, 0.15542763157894737, 0.88131081970575], \"type\": \"scatter\", \"uid\": \"23c02979-5e85-45ac-93c0-169ddfb407cf\"}, {\"mode\": \"lines\", \"name\": \"Ada Boost\", \"x\": [\"accuracy\", \"FPR\", \"FNR\", \"auc\"], \"y\": [0.9020933275185347, 0.08383609854198089, 0.18996710526315788, 0.8630983980974305], \"type\": \"scatter\", \"uid\": \"47df1c2c-2b4b-4a5e-b03c-776b670532f9\"}, {\"mode\": \"lines+markers\", \"name\": \"GradientBoosting\", \"x\": [\"accuracy\", \"FPR\", \"FNR\", \"auc\"], \"y\": [0.907108591365024, 0.07993966817496229, 0.17763157894736842, 0.8712143764388346], \"type\": \"scatter\", \"uid\": \"144c28e2-505d-4462-8247-5134e0c3136b\"}, {\"marker\": {\"symbol\": \"x\"}, \"mode\": \"lines+markers\", \"name\": \"ExtraTree Classifier\", \"x\": [\"accuracy\", \"FPR\", \"FNR\", \"auc\"], \"y\": [0.9069995638901003, 0.08345902463549522, 0.15542763157894737, 0.8805566718927786], \"type\": \"scatter\", \"uid\": \"506bfb9c-aa1f-4701-8189-7830205f12da\"}, {\"marker\": {\"symbol\": \"x\"}, \"mode\": \"lines+markers\", \"name\": \"Bagging\", \"x\": [\"accuracy\", \"FPR\", \"FNR\", \"auc\"], \"y\": [0.9078717836894897, 0.08257918552036199, 0.15460526315789475, 0.8814077756608717], \"type\": \"scatter\", \"uid\": \"55a8a03b-a2e8-4b8e-b82e-11fb3a535d75\"}, {\"marker\": {\"symbol\": \"x\"}, \"mode\": \"lines+markers\", \"name\": \"Neural Network\", \"x\": [\"accuracy\", \"FPR\", \"FNR\", \"auc\"], \"y\": [0.9055822067160925, 0.08157365510306687, 0.17845394736842105, 0.8814077756608717], \"type\": \"scatter\", \"uid\": \"97db1956-87c4-4ffd-8422-897d711df372\"}], {\"title\": \"Result comparision for Features selected in Section 1\", \"yaxis\": {\"dtick\": 0.05, \"tick0\": 0}}, {\"showLink\": true, \"linkText\": \"Export to plot.ly\", \"plotlyServerURL\": \"https://plot.ly\"})});</script><script type=\"text/javascript\">window.addEventListener(\"resize\", function(){window._Plotly.Plots.resize(document.getElementById(\"45e817a2-3a44-4ac3-bbab-f2b2e644cb61\"));});</script>"
      ]
     },
     "metadata": {},
     "output_type": "display_data"
    }
   ],
   "source": [
    "trace0 = go.Scatter(x=table_80_70_test.iloc[0].index.values[[0,5,6,7]],\n",
    "                    y=table_80_70_test.iloc[0].values[[0,5,6,7]],\n",
    "                    mode = 'lines',\n",
    "                    name = 'KNN_model')\n",
    "\n",
    "trace1 = go.Scatter(x=table_80_70_test.iloc[1].index.values[[0,5,6,7]],\n",
    "                    y=table_80_70_test.iloc[1].values[[0,5,6,7]],\n",
    "                    mode = 'lines+markers',\n",
    "                    name = 'Logistic Regression')\n",
    "\n",
    "trace2 = go.Scatter(x=table_80_70_test.iloc[2].index.values[[0,5,6,7]],\n",
    "                    y=table_80_70_test.iloc[2].values[[0,5,6,7]],\n",
    "                    mode = 'lines+markers',marker=dict(symbol='x'),\n",
    "                    name = 'Random Forest')\n",
    "\n",
    "\n",
    "trace3 = go.Scatter(x=table_80_70_test.iloc[3].index.values[[0,5,6,7]],\n",
    "                    y=table_80_70_test.iloc[3].values[[0,5,6,7]],\n",
    "                    mode = 'lines',\n",
    "                    name = 'Ada Boost')\n",
    "\n",
    "trace4 = go.Scatter(x=table_80_70_test.iloc[4].index.values[[0,5,6,7]],\n",
    "                    y=table_80_70_test.iloc[4].values[[0,5,6,7]],\n",
    "                    mode = 'lines+markers',\n",
    "                    name = 'GradientBoosting')\n",
    "\n",
    "trace5 = go.Scatter(x=table_80_70_test.iloc[5].index.values[[0,5,6,7]],\n",
    "                    y=table_80_70_test.iloc[5].values[[0,5,6,7]],\n",
    "                    mode = 'lines+markers',marker=dict(symbol='x'),\n",
    "                    name = 'ExtraTree Classifier')\n",
    "\n",
    "trace6 = go.Scatter(x=table_80_70_test.iloc[6].index.values[[0,5,6,7]],\n",
    "                    y=table_80_70_test.iloc[6].values[[0,5,6,7]],\n",
    "                    mode = 'lines+markers',marker=dict(symbol='x'),\n",
    "                    name = 'Bagging')\n",
    "\n",
    "trace7 = go.Scatter(x=table_80_70_test.iloc[7].index.values[[0,5,6,7]],\n",
    "                    y=table_80_70_test.iloc[7].values[[0,5,6,7]],\n",
    "                    mode = 'lines+markers',marker=dict(symbol='x'),\n",
    "                    name = 'Neural Network')\n",
    "\n",
    "\n",
    "\n",
    "data = [trace0, trace1, trace2, trace3, trace4, trace5, trace6, trace7]\n",
    "layout = go.Layout(yaxis=dict(tick0=0,dtick=0.05),title='Result comparision for Features selected in Section 1')\n",
    "fig = go.Figure(data=data, layout=layout)\n",
    "\n",
    "iplot(fig, filename='Result')"
   ]
  },
  {
   "cell_type": "code",
   "execution_count": 55,
   "metadata": {},
   "outputs": [
    {
     "name": "stdout",
     "output_type": "stream",
     "text": [
      "Training Results\n"
     ]
    },
    {
     "data": {
      "text/html": [
       "<div>\n",
       "<style scoped>\n",
       "    .dataframe tbody tr th:only-of-type {\n",
       "        vertical-align: middle;\n",
       "    }\n",
       "\n",
       "    .dataframe tbody tr th {\n",
       "        vertical-align: top;\n",
       "    }\n",
       "\n",
       "    .dataframe thead th {\n",
       "        text-align: right;\n",
       "    }\n",
       "</style>\n",
       "<table border=\"1\" class=\"dataframe\">\n",
       "  <thead>\n",
       "    <tr style=\"text-align: right;\">\n",
       "      <th></th>\n",
       "      <th>accuracy</th>\n",
       "      <th>TP</th>\n",
       "      <th>TN</th>\n",
       "      <th>FP</th>\n",
       "      <th>FN</th>\n",
       "      <th>FPR</th>\n",
       "      <th>FNR</th>\n",
       "    </tr>\n",
       "    <tr>\n",
       "      <th>index</th>\n",
       "      <th></th>\n",
       "      <th></th>\n",
       "      <th></th>\n",
       "      <th></th>\n",
       "      <th></th>\n",
       "      <th></th>\n",
       "      <th></th>\n",
       "    </tr>\n",
       "  </thead>\n",
       "  <tbody>\n",
       "    <tr>\n",
       "      <th>KNeighborsClassifier</th>\n",
       "      <td>0.910969</td>\n",
       "      <td>4052.0</td>\n",
       "      <td>29366.0</td>\n",
       "      <td>2513.0</td>\n",
       "      <td>753.0</td>\n",
       "      <td>0.078829</td>\n",
       "      <td>0.156712</td>\n",
       "    </tr>\n",
       "    <tr>\n",
       "      <th>LogisticRegression</th>\n",
       "      <td>0.900147</td>\n",
       "      <td>3846.0</td>\n",
       "      <td>29175.0</td>\n",
       "      <td>2704.0</td>\n",
       "      <td>959.0</td>\n",
       "      <td>0.084821</td>\n",
       "      <td>0.199584</td>\n",
       "    </tr>\n",
       "    <tr>\n",
       "      <th>RandomForestClassifier</th>\n",
       "      <td>0.919938</td>\n",
       "      <td>4351.0</td>\n",
       "      <td>29396.0</td>\n",
       "      <td>2483.0</td>\n",
       "      <td>454.0</td>\n",
       "      <td>0.077888</td>\n",
       "      <td>0.094485</td>\n",
       "    </tr>\n",
       "    <tr>\n",
       "      <th>AdaBoostClassifier</th>\n",
       "      <td>0.906199</td>\n",
       "      <td>3971.0</td>\n",
       "      <td>29272.0</td>\n",
       "      <td>2607.0</td>\n",
       "      <td>834.0</td>\n",
       "      <td>0.081778</td>\n",
       "      <td>0.173569</td>\n",
       "    </tr>\n",
       "    <tr>\n",
       "      <th>GradientBoostingClassifier</th>\n",
       "      <td>0.912087</td>\n",
       "      <td>4086.0</td>\n",
       "      <td>29373.0</td>\n",
       "      <td>2506.0</td>\n",
       "      <td>719.0</td>\n",
       "      <td>0.078610</td>\n",
       "      <td>0.149636</td>\n",
       "    </tr>\n",
       "    <tr>\n",
       "      <th>ExtraTreeClassifier</th>\n",
       "      <td>0.921573</td>\n",
       "      <td>4394.0</td>\n",
       "      <td>29413.0</td>\n",
       "      <td>2466.0</td>\n",
       "      <td>411.0</td>\n",
       "      <td>0.077355</td>\n",
       "      <td>0.085536</td>\n",
       "    </tr>\n",
       "    <tr>\n",
       "      <th>BaggingClassifier</th>\n",
       "      <td>0.919965</td>\n",
       "      <td>4343.0</td>\n",
       "      <td>29405.0</td>\n",
       "      <td>2474.0</td>\n",
       "      <td>462.0</td>\n",
       "      <td>0.077606</td>\n",
       "      <td>0.096150</td>\n",
       "    </tr>\n",
       "    <tr>\n",
       "      <th>Neural Network-1</th>\n",
       "      <td>0.910043</td>\n",
       "      <td>4092.0</td>\n",
       "      <td>29292.0</td>\n",
       "      <td>2587.0</td>\n",
       "      <td>713.0</td>\n",
       "      <td>0.081151</td>\n",
       "      <td>0.148387</td>\n",
       "    </tr>\n",
       "  </tbody>\n",
       "</table>\n",
       "</div>"
      ],
      "text/plain": [
       "                            accuracy      TP       TN      FP     FN  \\\n",
       "index                                                                  \n",
       "KNeighborsClassifier        0.910969  4052.0  29366.0  2513.0  753.0   \n",
       "LogisticRegression          0.900147  3846.0  29175.0  2704.0  959.0   \n",
       "RandomForestClassifier      0.919938  4351.0  29396.0  2483.0  454.0   \n",
       "AdaBoostClassifier          0.906199  3971.0  29272.0  2607.0  834.0   \n",
       "GradientBoostingClassifier  0.912087  4086.0  29373.0  2506.0  719.0   \n",
       "ExtraTreeClassifier         0.921573  4394.0  29413.0  2466.0  411.0   \n",
       "BaggingClassifier           0.919965  4343.0  29405.0  2474.0  462.0   \n",
       "Neural Network-1            0.910043  4092.0  29292.0  2587.0  713.0   \n",
       "\n",
       "                                 FPR       FNR  \n",
       "index                                           \n",
       "KNeighborsClassifier        0.078829  0.156712  \n",
       "LogisticRegression          0.084821  0.199584  \n",
       "RandomForestClassifier      0.077888  0.094485  \n",
       "AdaBoostClassifier          0.081778  0.173569  \n",
       "GradientBoostingClassifier  0.078610  0.149636  \n",
       "ExtraTreeClassifier         0.077355  0.085536  \n",
       "BaggingClassifier           0.077606  0.096150  \n",
       "Neural Network-1            0.081151  0.148387  "
      ]
     },
     "metadata": {},
     "output_type": "display_data"
    },
    {
     "name": "stdout",
     "output_type": "stream",
     "text": [
      "Test Results\n"
     ]
    },
    {
     "data": {
      "text/html": [
       "<div>\n",
       "<style scoped>\n",
       "    .dataframe tbody tr th:only-of-type {\n",
       "        vertical-align: middle;\n",
       "    }\n",
       "\n",
       "    .dataframe tbody tr th {\n",
       "        vertical-align: top;\n",
       "    }\n",
       "\n",
       "    .dataframe thead th {\n",
       "        text-align: right;\n",
       "    }\n",
       "</style>\n",
       "<table border=\"1\" class=\"dataframe\">\n",
       "  <thead>\n",
       "    <tr style=\"text-align: right;\">\n",
       "      <th></th>\n",
       "      <th>accuracy</th>\n",
       "      <th>TP</th>\n",
       "      <th>TN</th>\n",
       "      <th>FP</th>\n",
       "      <th>FN</th>\n",
       "      <th>FPR</th>\n",
       "      <th>FNR</th>\n",
       "      <th>auc</th>\n",
       "    </tr>\n",
       "    <tr>\n",
       "      <th>index</th>\n",
       "      <th></th>\n",
       "      <th></th>\n",
       "      <th></th>\n",
       "      <th></th>\n",
       "      <th></th>\n",
       "      <th></th>\n",
       "      <th></th>\n",
       "      <th></th>\n",
       "    </tr>\n",
       "  </thead>\n",
       "  <tbody>\n",
       "    <tr>\n",
       "      <th>KNeighborsClassifier</th>\n",
       "      <td>0.907545</td>\n",
       "      <td>1002.0</td>\n",
       "      <td>7322.0</td>\n",
       "      <td>634.0</td>\n",
       "      <td>214.0</td>\n",
       "      <td>0.079688</td>\n",
       "      <td>0.175987</td>\n",
       "      <td>0.872162</td>\n",
       "    </tr>\n",
       "    <tr>\n",
       "      <th>LogisticRegression</th>\n",
       "      <td>0.897623</td>\n",
       "      <td>959.0</td>\n",
       "      <td>7274.0</td>\n",
       "      <td>682.0</td>\n",
       "      <td>257.0</td>\n",
       "      <td>0.085721</td>\n",
       "      <td>0.211349</td>\n",
       "      <td>0.851465</td>\n",
       "    </tr>\n",
       "    <tr>\n",
       "      <th>RandomForestClassifier</th>\n",
       "      <td>0.908308</td>\n",
       "      <td>1027.0</td>\n",
       "      <td>7304.0</td>\n",
       "      <td>652.0</td>\n",
       "      <td>189.0</td>\n",
       "      <td>0.081951</td>\n",
       "      <td>0.155428</td>\n",
       "      <td>0.881311</td>\n",
       "    </tr>\n",
       "    <tr>\n",
       "      <th>AdaBoostClassifier</th>\n",
       "      <td>0.902093</td>\n",
       "      <td>985.0</td>\n",
       "      <td>7289.0</td>\n",
       "      <td>667.0</td>\n",
       "      <td>231.0</td>\n",
       "      <td>0.083836</td>\n",
       "      <td>0.189967</td>\n",
       "      <td>0.863098</td>\n",
       "    </tr>\n",
       "    <tr>\n",
       "      <th>GradientBoostingClassifier</th>\n",
       "      <td>0.907109</td>\n",
       "      <td>1000.0</td>\n",
       "      <td>7320.0</td>\n",
       "      <td>636.0</td>\n",
       "      <td>216.0</td>\n",
       "      <td>0.079940</td>\n",
       "      <td>0.177632</td>\n",
       "      <td>0.871214</td>\n",
       "    </tr>\n",
       "    <tr>\n",
       "      <th>ExtraTreeClassifier</th>\n",
       "      <td>0.907000</td>\n",
       "      <td>1027.0</td>\n",
       "      <td>7292.0</td>\n",
       "      <td>664.0</td>\n",
       "      <td>189.0</td>\n",
       "      <td>0.083459</td>\n",
       "      <td>0.155428</td>\n",
       "      <td>0.880557</td>\n",
       "    </tr>\n",
       "    <tr>\n",
       "      <th>BaggingClassifier</th>\n",
       "      <td>0.907872</td>\n",
       "      <td>1028.0</td>\n",
       "      <td>7299.0</td>\n",
       "      <td>657.0</td>\n",
       "      <td>188.0</td>\n",
       "      <td>0.082579</td>\n",
       "      <td>0.154605</td>\n",
       "      <td>0.881408</td>\n",
       "    </tr>\n",
       "    <tr>\n",
       "      <th>Neural Network-1</th>\n",
       "      <td>0.905582</td>\n",
       "      <td>999.0</td>\n",
       "      <td>7307.0</td>\n",
       "      <td>649.0</td>\n",
       "      <td>217.0</td>\n",
       "      <td>0.081574</td>\n",
       "      <td>0.178454</td>\n",
       "      <td>0.881408</td>\n",
       "    </tr>\n",
       "  </tbody>\n",
       "</table>\n",
       "</div>"
      ],
      "text/plain": [
       "                            accuracy      TP      TN     FP     FN       FPR  \\\n",
       "index                                                                          \n",
       "KNeighborsClassifier        0.907545  1002.0  7322.0  634.0  214.0  0.079688   \n",
       "LogisticRegression          0.897623   959.0  7274.0  682.0  257.0  0.085721   \n",
       "RandomForestClassifier      0.908308  1027.0  7304.0  652.0  189.0  0.081951   \n",
       "AdaBoostClassifier          0.902093   985.0  7289.0  667.0  231.0  0.083836   \n",
       "GradientBoostingClassifier  0.907109  1000.0  7320.0  636.0  216.0  0.079940   \n",
       "ExtraTreeClassifier         0.907000  1027.0  7292.0  664.0  189.0  0.083459   \n",
       "BaggingClassifier           0.907872  1028.0  7299.0  657.0  188.0  0.082579   \n",
       "Neural Network-1            0.905582   999.0  7307.0  649.0  217.0  0.081574   \n",
       "\n",
       "                                 FNR       auc  \n",
       "index                                           \n",
       "KNeighborsClassifier        0.175987  0.872162  \n",
       "LogisticRegression          0.211349  0.851465  \n",
       "RandomForestClassifier      0.155428  0.881311  \n",
       "AdaBoostClassifier          0.189967  0.863098  \n",
       "GradientBoostingClassifier  0.177632  0.871214  \n",
       "ExtraTreeClassifier         0.155428  0.880557  \n",
       "BaggingClassifier           0.154605  0.881408  \n",
       "Neural Network-1            0.178454  0.881408  "
      ]
     },
     "metadata": {},
     "output_type": "display_data"
    }
   ],
   "source": [
    "table_80_70_train['index']=ind_columns\n",
    "table_80_70_test['index']=ind_columns\n",
    "\n",
    "\n",
    "table_80_70_test.set_index(['index'],drop=True,inplace=True)\n",
    "table_80_70_train.set_index(['index'],drop=True,inplace=True)\n",
    "\n",
    "print(\"Training Results\")\n",
    "display(table_80_70_train)\n",
    "print(\"Test Results\")\n",
    "display(table_80_70_test)"
   ]
  },
  {
   "cell_type": "markdown",
   "metadata": {},
   "source": [
    "### <a id='3.B' style=\"text-decoration : none; color : #000000;\"> B. Average Feature Importances</a>"
   ]
  },
  {
   "cell_type": "code",
   "execution_count": 56,
   "metadata": {},
   "outputs": [
    {
     "data": {
      "application/vnd.plotly.v1+json": {
       "config": {
        "linkText": "Export to plot.ly",
        "plotlyServerURL": "https://plot.ly",
        "showLink": true
       },
       "data": [
        {
         "marker": {
          "color": "rgb(158,202,225)",
          "line": {
           "color": "rgb(8,48,107)",
           "width": 1.5
          }
         },
         "opacity": 0.6,
         "orientation": "h",
         "text": [
          0.1962,
          0.0446,
          0.03,
          0.0255,
          0.0227,
          0.0197,
          0.0189,
          0.0181,
          0.0178,
          0.016,
          0.0157,
          0.015,
          0.0143,
          0.0128,
          0.0123,
          0.0119,
          0.0117,
          0.0116,
          0.0113,
          0.0109,
          0.0108,
          0.0106,
          0.0106,
          0.0105,
          0.0103,
          0.0103,
          0.0097,
          0.0097,
          0.0093,
          0.0093,
          0.0091,
          0.009,
          0.0087,
          0.0085,
          0.0085,
          0.0083,
          0.0082,
          0.008,
          0.008,
          0.0079,
          0.0079,
          0.0079,
          0.0078,
          0.0078,
          0.0073,
          0.0071,
          0.0071,
          0.0071,
          0.007,
          0.0068,
          0.0067,
          0.0066,
          0.0066,
          0.0065,
          0.0063,
          0.0063,
          0.0063,
          0.0063,
          0.0061,
          0.0058,
          0.0057,
          0.0049,
          0.0049,
          0.0047,
          0.0046,
          0.0046,
          0.0046,
          0.0043,
          0.0042,
          0.0039,
          0.0038,
          0.0038,
          0.0035,
          0.0034,
          0.0031,
          0.0031,
          0.0031,
          0.0031,
          0.0029,
          0.0029,
          0.0027,
          0.0026,
          0.0025,
          0.0025,
          0.0024,
          0.0024,
          0.0023,
          0.0023,
          0.0021,
          0.002,
          0.002,
          0.0019,
          0.0019,
          0.0018,
          0.0018,
          0.0017,
          0.0016,
          0.0016,
          0.0016,
          0.0015,
          0.0015,
          0.0015,
          0.0014,
          0.0014,
          0.0013,
          0.0012,
          0.0012,
          0.0012,
          0.0012,
          0.0011,
          0.0011,
          0.001,
          0.001,
          0.0009,
          0.0009,
          0.0009,
          0.0007
         ],
         "textposition": "outside",
         "type": "bar",
         "uid": "c753b01f-15ed-4f4f-b2f9-4d9012925399",
         "x": [
          0.19618162166942005,
          0.04455211740568964,
          0.030031187344334513,
          0.025467936199644325,
          0.02270460204623303,
          0.019678657485545755,
          0.018912862130758264,
          0.018077341837221872,
          0.01784720835819247,
          0.016000401509718872,
          0.01570585939804163,
          0.015047316933659913,
          0.014298687228067913,
          0.01284593576257008,
          0.012346088314162385,
          0.011859134561229487,
          0.01173193602515707,
          0.011614446410338642,
          0.011253807760111843,
          0.010945555700421803,
          0.010849032953853262,
          0.010625105568594587,
          0.010583471479527129,
          0.010497417211028745,
          0.01034351879244938,
          0.010258255752410756,
          0.009715764739807425,
          0.009708385129543994,
          0.009328630112942127,
          0.009253721062320147,
          0.009138075940173192,
          0.008993214328328659,
          0.008698899846522785,
          0.00854689741157307,
          0.008532072646633089,
          0.008292218437741933,
          0.008182327789983481,
          0.008006060119229634,
          0.007974170469961957,
          0.007875075164148692,
          0.007860143188468744,
          0.00785343327086245,
          0.007820457999538854,
          0.007752380940963562,
          0.007301132814502131,
          0.007149906870109448,
          0.007127868722307366,
          0.007102861009181191,
          0.00701664996868821,
          0.006815308415638011,
          0.006705643685619255,
          0.00660579614870692,
          0.006570366149254811,
          0.006533290701770483,
          0.00634784870659404,
          0.006331880661566125,
          0.006325231927671805,
          0.006298269972652658,
          0.006104234777684085,
          0.0058354848045790685,
          0.005705170440672203,
          0.004935292546709738,
          0.004930707398201456,
          0.004744918435802216,
          0.004633330262527405,
          0.0045684220046206935,
          0.0045504726055983526,
          0.004346433246041145,
          0.004163637898765331,
          0.0039112380823036995,
          0.003845452464277886,
          0.0038168971171700134,
          0.0035152997160869106,
          0.003391258931416734,
          0.0031130019301426216,
          0.00310911664717408,
          0.0030995518024248,
          0.0030685753886881225,
          0.0028746105624350583,
          0.002860439205964637,
          0.00267866979172093,
          0.0025981265510932727,
          0.002529803421668452,
          0.0024888142273919076,
          0.0024375734715482308,
          0.002379891137734399,
          0.002293384212561353,
          0.0022646272084608284,
          0.0021269100912829535,
          0.001972786853847168,
          0.001956148350415396,
          0.0018822285300223985,
          0.0018684812136634558,
          0.001800029034898542,
          0.0017849068818644115,
          0.0017132884764483611,
          0.0016482803691806667,
          0.0016384049319629057,
          0.0016233474242072865,
          0.0015281832105840303,
          0.0015167079756645524,
          0.0014973156130698752,
          0.0014193619672712803,
          0.001361671679306385,
          0.0013431835470409659,
          0.0012317671762509927,
          0.0012242463273061635,
          0.001202479630731311,
          0.0011848464732400071,
          0.001143065369999311,
          0.001104915952479294,
          0.0009948708282203366,
          0.0009900196935495997,
          0.0009143041010721754,
          0.0008976669429864842,
          0.0008741782957044644,
          0.0007384765748739257
         ],
         "y": [
          "0",
          "16",
          "22",
          "28",
          "2",
          "1",
          "24",
          "12",
          "110",
          "23",
          "18",
          "41",
          "73",
          "97",
          "78",
          "50",
          "10",
          "70",
          "20",
          "5",
          "72",
          "14",
          "105",
          "3",
          "65",
          "4",
          "30",
          "37",
          "26",
          "8",
          "106",
          "47",
          "27",
          "33",
          "53",
          "116",
          "19",
          "39",
          "90",
          "29",
          "88",
          "6",
          "45",
          "44",
          "81",
          "111",
          "83",
          "84",
          "36",
          "86",
          "43",
          "21",
          "69",
          "102",
          "85",
          "79",
          "115",
          "99",
          "31",
          "82",
          "9",
          "60",
          "96",
          "98",
          "17",
          "71",
          "15",
          "67",
          "68",
          "87",
          "80",
          "91",
          "46",
          "11",
          "95",
          "109",
          "92",
          "113",
          "32",
          "93",
          "108",
          "58",
          "77",
          "103",
          "114",
          "61",
          "40",
          "7",
          "34",
          "100",
          "89",
          "56",
          "42",
          "49",
          "38",
          "35",
          "25",
          "101",
          "13",
          "107",
          "64",
          "94",
          "59",
          "52",
          "51",
          "66",
          "112",
          "75",
          "63",
          "74",
          "104",
          "62",
          "76",
          "55",
          "57",
          "48",
          "54"
         ]
        }
       ],
       "layout": {
        "autosize": false,
        "height": 1000,
        "width": 1000,
        "xaxis": {
         "tickfont": {
          "color": "black",
          "size": 12
         },
         "title": "Feature Importances"
        },
        "yaxis": {
         "automargin": true
        }
       }
      },
      "text/html": [
       "<div id=\"61f3732b-b1b5-4404-9666-4e4db46a151d\" style=\"height: 1000px; width: 1000px;\" class=\"plotly-graph-div\"></div><script type=\"text/javascript\">require([\"plotly\"], function(Plotly) { window.PLOTLYENV=window.PLOTLYENV || {};window.PLOTLYENV.BASE_URL=\"https://plot.ly\";Plotly.newPlot(\"61f3732b-b1b5-4404-9666-4e4db46a151d\", [{\"marker\": {\"color\": \"rgb(158,202,225)\", \"line\": {\"color\": \"rgb(8,48,107)\", \"width\": 1.5}}, \"opacity\": 0.6, \"orientation\": \"h\", \"text\": [0.1962, 0.0446, 0.03, 0.0255, 0.0227, 0.0197, 0.0189, 0.0181, 0.0178, 0.016, 0.0157, 0.015, 0.0143, 0.0128, 0.0123, 0.0119, 0.0117, 0.0116, 0.0113, 0.0109, 0.0108, 0.0106, 0.0106, 0.0105, 0.0103, 0.0103, 0.0097, 0.0097, 0.0093, 0.0093, 0.0091, 0.009, 0.0087, 0.0085, 0.0085, 0.0083, 0.0082, 0.008, 0.008, 0.0079, 0.0079, 0.0079, 0.0078, 0.0078, 0.0073, 0.0071, 0.0071, 0.0071, 0.007, 0.0068, 0.0067, 0.0066, 0.0066, 0.0065, 0.0063, 0.0063, 0.0063, 0.0063, 0.0061, 0.0058, 0.0057, 0.0049, 0.0049, 0.0047, 0.0046, 0.0046, 0.0046, 0.0043, 0.0042, 0.0039, 0.0038, 0.0038, 0.0035, 0.0034, 0.0031, 0.0031, 0.0031, 0.0031, 0.0029, 0.0029, 0.0027, 0.0026, 0.0025, 0.0025, 0.0024, 0.0024, 0.0023, 0.0023, 0.0021, 0.002, 0.002, 0.0019, 0.0019, 0.0018, 0.0018, 0.0017, 0.0016, 0.0016, 0.0016, 0.0015, 0.0015, 0.0015, 0.0014, 0.0014, 0.0013, 0.0012, 0.0012, 0.0012, 0.0012, 0.0011, 0.0011, 0.001, 0.001, 0.0009, 0.0009, 0.0009, 0.0007], \"textposition\": \"outside\", \"x\": [0.19618162166942005, 0.04455211740568964, 0.030031187344334513, 0.025467936199644325, 0.02270460204623303, 0.019678657485545755, 0.018912862130758264, 0.018077341837221872, 0.01784720835819247, 0.016000401509718872, 0.01570585939804163, 0.015047316933659913, 0.014298687228067913, 0.01284593576257008, 0.012346088314162385, 0.011859134561229487, 0.01173193602515707, 0.011614446410338642, 0.011253807760111843, 0.010945555700421803, 0.010849032953853262, 0.010625105568594587, 0.010583471479527129, 0.010497417211028745, 0.01034351879244938, 0.010258255752410756, 0.009715764739807425, 0.009708385129543994, 0.009328630112942127, 0.009253721062320147, 0.009138075940173192, 0.008993214328328659, 0.008698899846522785, 0.00854689741157307, 0.008532072646633089, 0.008292218437741933, 0.008182327789983481, 0.008006060119229634, 0.007974170469961957, 0.007875075164148692, 0.007860143188468744, 0.00785343327086245, 0.007820457999538854, 0.007752380940963562, 0.007301132814502131, 0.007149906870109448, 0.007127868722307366, 0.007102861009181191, 0.00701664996868821, 0.006815308415638011, 0.006705643685619255, 0.00660579614870692, 0.006570366149254811, 0.006533290701770483, 0.00634784870659404, 0.006331880661566125, 0.006325231927671805, 0.006298269972652658, 0.006104234777684085, 0.0058354848045790685, 0.005705170440672203, 0.004935292546709738, 0.004930707398201456, 0.004744918435802216, 0.004633330262527405, 0.0045684220046206935, 0.0045504726055983526, 0.004346433246041145, 0.004163637898765331, 0.0039112380823036995, 0.003845452464277886, 0.0038168971171700134, 0.0035152997160869106, 0.003391258931416734, 0.0031130019301426216, 0.00310911664717408, 0.0030995518024248, 0.0030685753886881225, 0.0028746105624350583, 0.002860439205964637, 0.00267866979172093, 0.0025981265510932727, 0.002529803421668452, 0.0024888142273919076, 0.0024375734715482308, 0.002379891137734399, 0.002293384212561353, 0.0022646272084608284, 0.0021269100912829535, 0.001972786853847168, 0.001956148350415396, 0.0018822285300223985, 0.0018684812136634558, 0.001800029034898542, 0.0017849068818644115, 0.0017132884764483611, 0.0016482803691806667, 0.0016384049319629057, 0.0016233474242072865, 0.0015281832105840303, 0.0015167079756645524, 0.0014973156130698752, 0.0014193619672712803, 0.001361671679306385, 0.0013431835470409659, 0.0012317671762509927, 0.0012242463273061635, 0.001202479630731311, 0.0011848464732400071, 0.001143065369999311, 0.001104915952479294, 0.0009948708282203366, 0.0009900196935495997, 0.0009143041010721754, 0.0008976669429864842, 0.0008741782957044644, 0.0007384765748739257], \"y\": [\"0\", \"16\", \"22\", \"28\", \"2\", \"1\", \"24\", \"12\", \"110\", \"23\", \"18\", \"41\", \"73\", \"97\", \"78\", \"50\", \"10\", \"70\", \"20\", \"5\", \"72\", \"14\", \"105\", \"3\", \"65\", \"4\", \"30\", \"37\", \"26\", \"8\", \"106\", \"47\", \"27\", \"33\", \"53\", \"116\", \"19\", \"39\", \"90\", \"29\", \"88\", \"6\", \"45\", \"44\", \"81\", \"111\", \"83\", \"84\", \"36\", \"86\", \"43\", \"21\", \"69\", \"102\", \"85\", \"79\", \"115\", \"99\", \"31\", \"82\", \"9\", \"60\", \"96\", \"98\", \"17\", \"71\", \"15\", \"67\", \"68\", \"87\", \"80\", \"91\", \"46\", \"11\", \"95\", \"109\", \"92\", \"113\", \"32\", \"93\", \"108\", \"58\", \"77\", \"103\", \"114\", \"61\", \"40\", \"7\", \"34\", \"100\", \"89\", \"56\", \"42\", \"49\", \"38\", \"35\", \"25\", \"101\", \"13\", \"107\", \"64\", \"94\", \"59\", \"52\", \"51\", \"66\", \"112\", \"75\", \"63\", \"74\", \"104\", \"62\", \"76\", \"55\", \"57\", \"48\", \"54\"], \"type\": \"bar\", \"uid\": \"c753b01f-15ed-4f4f-b2f9-4d9012925399\"}], {\"autosize\": false, \"height\": 1000, \"width\": 1000, \"xaxis\": {\"tickfont\": {\"color\": \"black\", \"size\": 12}, \"title\": \"Feature Importances\"}, \"yaxis\": {\"automargin\": true}}, {\"showLink\": true, \"linkText\": \"Export to plot.ly\", \"plotlyServerURL\": \"https://plot.ly\"})});</script>"
      ],
      "text/vnd.plotly.v1+html": [
       "<div id=\"61f3732b-b1b5-4404-9666-4e4db46a151d\" style=\"height: 1000px; width: 1000px;\" class=\"plotly-graph-div\"></div><script type=\"text/javascript\">require([\"plotly\"], function(Plotly) { window.PLOTLYENV=window.PLOTLYENV || {};window.PLOTLYENV.BASE_URL=\"https://plot.ly\";Plotly.newPlot(\"61f3732b-b1b5-4404-9666-4e4db46a151d\", [{\"marker\": {\"color\": \"rgb(158,202,225)\", \"line\": {\"color\": \"rgb(8,48,107)\", \"width\": 1.5}}, \"opacity\": 0.6, \"orientation\": \"h\", \"text\": [0.1962, 0.0446, 0.03, 0.0255, 0.0227, 0.0197, 0.0189, 0.0181, 0.0178, 0.016, 0.0157, 0.015, 0.0143, 0.0128, 0.0123, 0.0119, 0.0117, 0.0116, 0.0113, 0.0109, 0.0108, 0.0106, 0.0106, 0.0105, 0.0103, 0.0103, 0.0097, 0.0097, 0.0093, 0.0093, 0.0091, 0.009, 0.0087, 0.0085, 0.0085, 0.0083, 0.0082, 0.008, 0.008, 0.0079, 0.0079, 0.0079, 0.0078, 0.0078, 0.0073, 0.0071, 0.0071, 0.0071, 0.007, 0.0068, 0.0067, 0.0066, 0.0066, 0.0065, 0.0063, 0.0063, 0.0063, 0.0063, 0.0061, 0.0058, 0.0057, 0.0049, 0.0049, 0.0047, 0.0046, 0.0046, 0.0046, 0.0043, 0.0042, 0.0039, 0.0038, 0.0038, 0.0035, 0.0034, 0.0031, 0.0031, 0.0031, 0.0031, 0.0029, 0.0029, 0.0027, 0.0026, 0.0025, 0.0025, 0.0024, 0.0024, 0.0023, 0.0023, 0.0021, 0.002, 0.002, 0.0019, 0.0019, 0.0018, 0.0018, 0.0017, 0.0016, 0.0016, 0.0016, 0.0015, 0.0015, 0.0015, 0.0014, 0.0014, 0.0013, 0.0012, 0.0012, 0.0012, 0.0012, 0.0011, 0.0011, 0.001, 0.001, 0.0009, 0.0009, 0.0009, 0.0007], \"textposition\": \"outside\", \"x\": [0.19618162166942005, 0.04455211740568964, 0.030031187344334513, 0.025467936199644325, 0.02270460204623303, 0.019678657485545755, 0.018912862130758264, 0.018077341837221872, 0.01784720835819247, 0.016000401509718872, 0.01570585939804163, 0.015047316933659913, 0.014298687228067913, 0.01284593576257008, 0.012346088314162385, 0.011859134561229487, 0.01173193602515707, 0.011614446410338642, 0.011253807760111843, 0.010945555700421803, 0.010849032953853262, 0.010625105568594587, 0.010583471479527129, 0.010497417211028745, 0.01034351879244938, 0.010258255752410756, 0.009715764739807425, 0.009708385129543994, 0.009328630112942127, 0.009253721062320147, 0.009138075940173192, 0.008993214328328659, 0.008698899846522785, 0.00854689741157307, 0.008532072646633089, 0.008292218437741933, 0.008182327789983481, 0.008006060119229634, 0.007974170469961957, 0.007875075164148692, 0.007860143188468744, 0.00785343327086245, 0.007820457999538854, 0.007752380940963562, 0.007301132814502131, 0.007149906870109448, 0.007127868722307366, 0.007102861009181191, 0.00701664996868821, 0.006815308415638011, 0.006705643685619255, 0.00660579614870692, 0.006570366149254811, 0.006533290701770483, 0.00634784870659404, 0.006331880661566125, 0.006325231927671805, 0.006298269972652658, 0.006104234777684085, 0.0058354848045790685, 0.005705170440672203, 0.004935292546709738, 0.004930707398201456, 0.004744918435802216, 0.004633330262527405, 0.0045684220046206935, 0.0045504726055983526, 0.004346433246041145, 0.004163637898765331, 0.0039112380823036995, 0.003845452464277886, 0.0038168971171700134, 0.0035152997160869106, 0.003391258931416734, 0.0031130019301426216, 0.00310911664717408, 0.0030995518024248, 0.0030685753886881225, 0.0028746105624350583, 0.002860439205964637, 0.00267866979172093, 0.0025981265510932727, 0.002529803421668452, 0.0024888142273919076, 0.0024375734715482308, 0.002379891137734399, 0.002293384212561353, 0.0022646272084608284, 0.0021269100912829535, 0.001972786853847168, 0.001956148350415396, 0.0018822285300223985, 0.0018684812136634558, 0.001800029034898542, 0.0017849068818644115, 0.0017132884764483611, 0.0016482803691806667, 0.0016384049319629057, 0.0016233474242072865, 0.0015281832105840303, 0.0015167079756645524, 0.0014973156130698752, 0.0014193619672712803, 0.001361671679306385, 0.0013431835470409659, 0.0012317671762509927, 0.0012242463273061635, 0.001202479630731311, 0.0011848464732400071, 0.001143065369999311, 0.001104915952479294, 0.0009948708282203366, 0.0009900196935495997, 0.0009143041010721754, 0.0008976669429864842, 0.0008741782957044644, 0.0007384765748739257], \"y\": [\"0\", \"16\", \"22\", \"28\", \"2\", \"1\", \"24\", \"12\", \"110\", \"23\", \"18\", \"41\", \"73\", \"97\", \"78\", \"50\", \"10\", \"70\", \"20\", \"5\", \"72\", \"14\", \"105\", \"3\", \"65\", \"4\", \"30\", \"37\", \"26\", \"8\", \"106\", \"47\", \"27\", \"33\", \"53\", \"116\", \"19\", \"39\", \"90\", \"29\", \"88\", \"6\", \"45\", \"44\", \"81\", \"111\", \"83\", \"84\", \"36\", \"86\", \"43\", \"21\", \"69\", \"102\", \"85\", \"79\", \"115\", \"99\", \"31\", \"82\", \"9\", \"60\", \"96\", \"98\", \"17\", \"71\", \"15\", \"67\", \"68\", \"87\", \"80\", \"91\", \"46\", \"11\", \"95\", \"109\", \"92\", \"113\", \"32\", \"93\", \"108\", \"58\", \"77\", \"103\", \"114\", \"61\", \"40\", \"7\", \"34\", \"100\", \"89\", \"56\", \"42\", \"49\", \"38\", \"35\", \"25\", \"101\", \"13\", \"107\", \"64\", \"94\", \"59\", \"52\", \"51\", \"66\", \"112\", \"75\", \"63\", \"74\", \"104\", \"62\", \"76\", \"55\", \"57\", \"48\", \"54\"], \"type\": \"bar\", \"uid\": \"c753b01f-15ed-4f4f-b2f9-4d9012925399\"}], {\"autosize\": false, \"height\": 1000, \"width\": 1000, \"xaxis\": {\"tickfont\": {\"color\": \"black\", \"size\": 12}, \"title\": \"Feature Importances\"}, \"yaxis\": {\"automargin\": true}}, {\"showLink\": true, \"linkText\": \"Export to plot.ly\", \"plotlyServerURL\": \"https://plot.ly\"})});</script>"
      ]
     },
     "metadata": {},
     "output_type": "display_data"
    }
   ],
   "source": [
    "feat_impt_plot(np.average(feat_imp,axis=0),np.arange(0,117).astype(str))"
   ]
  },
  {
   "cell_type": "markdown",
   "metadata": {},
   "source": [
    "### <a id='4' style=\"text-decoration : none; color : #000000;\"> 5. Over Sampling</a>"
   ]
  },
  {
   "cell_type": "code",
   "execution_count": 60,
   "metadata": {
    "scrolled": false
   },
   "outputs": [
    {
     "name": "stdout",
     "output_type": "stream",
     "text": [
      "Features we will be using:\n",
      "\n"
     ]
    },
    {
     "data": {
      "text/plain": [
       "['http_header_cache-control_set_max-age',\n",
       " 'http_header_cache-control_set_must-revalidate',\n",
       " 'http_header_cache-control_set_no-cache',\n",
       " 'http_header_cache-control_set_no-store',\n",
       " 'http_header_cache-control_set_private',\n",
       " 'http_header_cache-control_set_public',\n",
       " 'http_header_connection_close',\n",
       " 'http_header_connection_keep-alive',\n",
       " 'http_header_content-encoding_gzip',\n",
       " 'http_header_content-language_text/html',\n",
       " 'http_header_content-length',\n",
       " 'http_header_expect-ctmax-age',\n",
       " 'http_header_pragmano-cache',\n",
       " 'http_header_server_apache',\n",
       " 'http_header_server_nginx',\n",
       " 'http_header_strict-transport-security_max-age',\n",
       " 'http_header_transfer-encoding_chunked',\n",
       " 'http_header_vary_accept',\n",
       " 'http_header_vary_age',\n",
       " 'http_header_via_1.1',\n",
       " 'http_header_x-cintent-type-options_nosniff',\n",
       " 'http_header_x-xss-enabled']"
      ]
     },
     "metadata": {},
     "output_type": "display_data"
    }
   ],
   "source": [
    "print('Features we will be using:\\n')\n",
    "http_columns.remove('domain')\n",
    "display(http_columns)"
   ]
  },
  {
   "cell_type": "code",
   "execution_count": 61,
   "metadata": {},
   "outputs": [
    {
     "name": "stdout",
     "output_type": "stream",
     "text": [
      "The train/test split ratio is 80:20\n"
     ]
    }
   ],
   "source": [
    "### Preparing our training and test sets\n",
    "X=df[http_columns].values\n",
    "y=df.Target.values\n",
    "\n",
    "scaler=StandardScaler()\n",
    "scaled_X=scaler.fit_transform(X)\n",
    "\n",
    "print(\"The train/test split ratio is 80:20\")\n",
    "X_train, X_test, Y_train, Y_test = train_test_split(scaled_X,y,random_state=0,test_size=0.2)\n",
    "\n",
    "sm = SMOTE(random_state=12, ratio = 1.0)\n",
    "X_train, Y_train = sm.fit_sample(X_train, Y_train)"
   ]
  },
  {
   "cell_type": "code",
   "execution_count": 62,
   "metadata": {
    "collapsed": true
   },
   "outputs": [],
   "source": [
    "## Table to store training and test measures so we can compare later\n",
    "table_80_80_train=pd.DataFrame(columns=['accuracy','TP','TN','FP','FN','FPR','FNR'])\n",
    "table_80_80_test=pd.DataFrame(columns=['accuracy','TP','TN','FP','FN','FPR','FNR','auc'])"
   ]
  },
  {
   "cell_type": "code",
   "execution_count": 63,
   "metadata": {
    "scrolled": false
   },
   "outputs": [
    {
     "name": "stdout",
     "output_type": "stream",
     "text": [
      "\u001b[1mK-Nearest Neighbors\u001b[0m\n",
      "Accuracy of the model for training data is: 0.679861307226\n",
      "Confusion Matrix for training data is:\n"
     ]
    },
    {
     "data": {
      "text/plain": [
       "Predicted  False   True  __all__\n",
       "Actual                          \n",
       "False      30841   1028    31869\n",
       "True       19377  12492    31869\n",
       "__all__    50218  13520    63738"
      ]
     },
     "metadata": {},
     "output_type": "display_data"
    },
    {
     "name": "stdout",
     "output_type": "stream",
     "text": [
      "Accuracy of the model for test data is: 0.880723942433\n",
      "Confusion Matrix for test data is:\n"
     ]
    },
    {
     "data": {
      "text/plain": [
       "Predicted  False  True  __all__\n",
       "Actual                         \n",
       "False       7651   315     7966\n",
       "True         779   427     1206\n",
       "__all__     8430   742     9172"
      ]
     },
     "metadata": {},
     "output_type": "display_data"
    },
    {
     "name": "stdout",
     "output_type": "stream",
     "text": [
      "\n",
      "\n",
      "\u001b[1mLogistic Regression\u001b[0m\n",
      "Accuracy of the model for training data is: 0.866155197841\n",
      "Confusion Matrix for training data is:\n"
     ]
    },
    {
     "data": {
      "text/plain": [
       "Predicted  False   True  __all__\n",
       "Actual                          \n",
       "False      26475   5394    31869\n",
       "True        3137  28732    31869\n",
       "__all__    29612  34126    63738"
      ]
     },
     "metadata": {},
     "output_type": "display_data"
    },
    {
     "name": "stdout",
     "output_type": "stream",
     "text": [
      "Accuracy of the model for test data is: 0.839184474488\n",
      "Confusion Matrix for test data is:\n"
     ]
    },
    {
     "data": {
      "text/plain": [
       "Predicted  False  True  __all__\n",
       "Actual                         \n",
       "False       6600  1366     7966\n",
       "True         109  1097     1206\n",
       "__all__     6709  2463     9172"
      ]
     },
     "metadata": {},
     "output_type": "display_data"
    },
    {
     "name": "stdout",
     "output_type": "stream",
     "text": [
      "\n",
      "\n",
      "\u001b[1mRandomForest Classifier\u001b[0m\n",
      "Accuracy of the model for training data is: 0.932489252879\n",
      "Confusion Matrix for training data is:\n"
     ]
    },
    {
     "data": {
      "text/plain": [
       "Predicted  False   True  __all__\n",
       "Actual                          \n",
       "False      28541   3328    31869\n",
       "True         975  30894    31869\n",
       "__all__    29516  34222    63738"
      ]
     },
     "metadata": {},
     "output_type": "display_data"
    },
    {
     "name": "stdout",
     "output_type": "stream",
     "text": [
      "Accuracy of the model for test data is: 0.884103794156\n",
      "Confusion Matrix for test data is:\n"
     ]
    },
    {
     "data": {
      "text/plain": [
       "Predicted  False  True  __all__\n",
       "Actual                         \n",
       "False       7009   957     7966\n",
       "True         106  1100     1206\n",
       "__all__     7115  2057     9172"
      ]
     },
     "metadata": {},
     "output_type": "display_data"
    },
    {
     "data": {
      "application/vnd.plotly.v1+json": {
       "config": {
        "linkText": "Export to plot.ly",
        "plotlyServerURL": "https://plot.ly",
        "showLink": true
       },
       "data": [
        {
         "marker": {
          "color": "rgb(158,202,225)",
          "line": {
           "color": "rgb(8,48,107)",
           "width": 1.5
          }
         },
         "opacity": 0.6,
         "orientation": "h",
         "text": [
          0.2633,
          0.1707,
          0.1477,
          0.0803,
          0.0538,
          0.038,
          0.0328,
          0.0236,
          0.0208,
          0.0203,
          0.0176,
          0.0171,
          0.0161,
          0.0152,
          0.0137,
          0.0126,
          0.0124,
          0.012,
          0.0102,
          0.0093,
          0.0093,
          0.0031
         ],
         "textposition": "outside",
         "type": "bar",
         "uid": "8972d2c7-9492-482f-a201-5a69550558e0",
         "x": [
          0.2632503861151365,
          0.17070690556826162,
          0.14769321573557684,
          0.08033296488450017,
          0.05382517138733944,
          0.037982267304554604,
          0.0327905649662443,
          0.023613008740980396,
          0.020841925085976078,
          0.020279537020157768,
          0.017630096618548616,
          0.01714367441262561,
          0.016125753087605586,
          0.015238788723144759,
          0.013650700113493333,
          0.012570092915387288,
          0.012444036934068353,
          0.011960533794586224,
          0.010162146068261362,
          0.009341332291237552,
          0.009288262801139183,
          0.0031286354311744107
         ],
         "y": [
          "http_header_content-encoding_gzip",
          "http_header_content-length",
          "http_header_vary_accept",
          "http_header_transfer-encoding_chunked",
          "http_header_cache-control_set_max-age",
          "http_header_server_apache",
          "http_header_server_nginx",
          "http_header_content-language_text/html",
          "http_header_vary_age",
          "http_header_connection_keep-alive",
          "http_header_cache-control_set_no-cache",
          "http_header_expect-ctmax-age",
          "http_header_cache-control_set_must-revalidate",
          "http_header_x-xss-enabled",
          "http_header_cache-control_set_private",
          "http_header_strict-transport-security_max-age",
          "http_header_pragmano-cache",
          "http_header_cache-control_set_no-store",
          "http_header_via_1.1",
          "http_header_x-cintent-type-options_nosniff",
          "http_header_connection_close",
          "http_header_cache-control_set_public"
         ]
        }
       ],
       "layout": {
        "autosize": false,
        "height": 1000,
        "width": 1000,
        "xaxis": {
         "tickfont": {
          "color": "black",
          "size": 12
         },
         "title": "Feature Importances"
        },
        "yaxis": {
         "automargin": true
        }
       }
      },
      "text/html": [
       "<div id=\"076a5688-db9a-4546-8df2-a2478bc83e51\" style=\"height: 1000px; width: 1000px;\" class=\"plotly-graph-div\"></div><script type=\"text/javascript\">require([\"plotly\"], function(Plotly) { window.PLOTLYENV=window.PLOTLYENV || {};window.PLOTLYENV.BASE_URL=\"https://plot.ly\";Plotly.newPlot(\"076a5688-db9a-4546-8df2-a2478bc83e51\", [{\"marker\": {\"color\": \"rgb(158,202,225)\", \"line\": {\"color\": \"rgb(8,48,107)\", \"width\": 1.5}}, \"opacity\": 0.6, \"orientation\": \"h\", \"text\": [0.2633, 0.1707, 0.1477, 0.0803, 0.0538, 0.038, 0.0328, 0.0236, 0.0208, 0.0203, 0.0176, 0.0171, 0.0161, 0.0152, 0.0137, 0.0126, 0.0124, 0.012, 0.0102, 0.0093, 0.0093, 0.0031], \"textposition\": \"outside\", \"x\": [0.2632503861151365, 0.17070690556826162, 0.14769321573557684, 0.08033296488450017, 0.05382517138733944, 0.037982267304554604, 0.0327905649662443, 0.023613008740980396, 0.020841925085976078, 0.020279537020157768, 0.017630096618548616, 0.01714367441262561, 0.016125753087605586, 0.015238788723144759, 0.013650700113493333, 0.012570092915387288, 0.012444036934068353, 0.011960533794586224, 0.010162146068261362, 0.009341332291237552, 0.009288262801139183, 0.0031286354311744107], \"y\": [\"http_header_content-encoding_gzip\", \"http_header_content-length\", \"http_header_vary_accept\", \"http_header_transfer-encoding_chunked\", \"http_header_cache-control_set_max-age\", \"http_header_server_apache\", \"http_header_server_nginx\", \"http_header_content-language_text/html\", \"http_header_vary_age\", \"http_header_connection_keep-alive\", \"http_header_cache-control_set_no-cache\", \"http_header_expect-ctmax-age\", \"http_header_cache-control_set_must-revalidate\", \"http_header_x-xss-enabled\", \"http_header_cache-control_set_private\", \"http_header_strict-transport-security_max-age\", \"http_header_pragmano-cache\", \"http_header_cache-control_set_no-store\", \"http_header_via_1.1\", \"http_header_x-cintent-type-options_nosniff\", \"http_header_connection_close\", \"http_header_cache-control_set_public\"], \"type\": \"bar\", \"uid\": \"8972d2c7-9492-482f-a201-5a69550558e0\"}], {\"autosize\": false, \"height\": 1000, \"width\": 1000, \"xaxis\": {\"tickfont\": {\"color\": \"black\", \"size\": 12}, \"title\": \"Feature Importances\"}, \"yaxis\": {\"automargin\": true}}, {\"showLink\": true, \"linkText\": \"Export to plot.ly\", \"plotlyServerURL\": \"https://plot.ly\"})});</script>"
      ],
      "text/vnd.plotly.v1+html": [
       "<div id=\"076a5688-db9a-4546-8df2-a2478bc83e51\" style=\"height: 1000px; width: 1000px;\" class=\"plotly-graph-div\"></div><script type=\"text/javascript\">require([\"plotly\"], function(Plotly) { window.PLOTLYENV=window.PLOTLYENV || {};window.PLOTLYENV.BASE_URL=\"https://plot.ly\";Plotly.newPlot(\"076a5688-db9a-4546-8df2-a2478bc83e51\", [{\"marker\": {\"color\": \"rgb(158,202,225)\", \"line\": {\"color\": \"rgb(8,48,107)\", \"width\": 1.5}}, \"opacity\": 0.6, \"orientation\": \"h\", \"text\": [0.2633, 0.1707, 0.1477, 0.0803, 0.0538, 0.038, 0.0328, 0.0236, 0.0208, 0.0203, 0.0176, 0.0171, 0.0161, 0.0152, 0.0137, 0.0126, 0.0124, 0.012, 0.0102, 0.0093, 0.0093, 0.0031], \"textposition\": \"outside\", \"x\": [0.2632503861151365, 0.17070690556826162, 0.14769321573557684, 0.08033296488450017, 0.05382517138733944, 0.037982267304554604, 0.0327905649662443, 0.023613008740980396, 0.020841925085976078, 0.020279537020157768, 0.017630096618548616, 0.01714367441262561, 0.016125753087605586, 0.015238788723144759, 0.013650700113493333, 0.012570092915387288, 0.012444036934068353, 0.011960533794586224, 0.010162146068261362, 0.009341332291237552, 0.009288262801139183, 0.0031286354311744107], \"y\": [\"http_header_content-encoding_gzip\", \"http_header_content-length\", \"http_header_vary_accept\", \"http_header_transfer-encoding_chunked\", \"http_header_cache-control_set_max-age\", \"http_header_server_apache\", \"http_header_server_nginx\", \"http_header_content-language_text/html\", \"http_header_vary_age\", \"http_header_connection_keep-alive\", \"http_header_cache-control_set_no-cache\", \"http_header_expect-ctmax-age\", \"http_header_cache-control_set_must-revalidate\", \"http_header_x-xss-enabled\", \"http_header_cache-control_set_private\", \"http_header_strict-transport-security_max-age\", \"http_header_pragmano-cache\", \"http_header_cache-control_set_no-store\", \"http_header_via_1.1\", \"http_header_x-cintent-type-options_nosniff\", \"http_header_connection_close\", \"http_header_cache-control_set_public\"], \"type\": \"bar\", \"uid\": \"8972d2c7-9492-482f-a201-5a69550558e0\"}], {\"autosize\": false, \"height\": 1000, \"width\": 1000, \"xaxis\": {\"tickfont\": {\"color\": \"black\", \"size\": 12}, \"title\": \"Feature Importances\"}, \"yaxis\": {\"automargin\": true}}, {\"showLink\": true, \"linkText\": \"Export to plot.ly\", \"plotlyServerURL\": \"https://plot.ly\"})});</script>"
      ]
     },
     "metadata": {},
     "output_type": "display_data"
    },
    {
     "name": "stdout",
     "output_type": "stream",
     "text": [
      "\n",
      "\n",
      "\u001b[1mAdaoost Classifier\u001b[0m\n",
      "Accuracy of the model for training data is: 0.872242618218\n",
      "Confusion Matrix for training data is:\n"
     ]
    },
    {
     "data": {
      "text/plain": [
       "Predicted  False   True  __all__\n",
       "Actual                          \n",
       "False      26826   5043    31869\n",
       "True        3100  28769    31869\n",
       "__all__    29926  33812    63738"
      ]
     },
     "metadata": {},
     "output_type": "display_data"
    },
    {
     "name": "stdout",
     "output_type": "stream",
     "text": [
      "Accuracy of the model for test data is: 0.851395551679\n",
      "Confusion Matrix for test data is:\n"
     ]
    },
    {
     "data": {
      "text/plain": [
       "Predicted  False  True  __all__\n",
       "Actual                         \n",
       "False       6715  1251     7966\n",
       "True         112  1094     1206\n",
       "__all__     6827  2345     9172"
      ]
     },
     "metadata": {},
     "output_type": "display_data"
    },
    {
     "data": {
      "application/vnd.plotly.v1+json": {
       "config": {
        "linkText": "Export to plot.ly",
        "plotlyServerURL": "https://plot.ly",
        "showLink": true
       },
       "data": [
        {
         "marker": {
          "color": "rgb(158,202,225)",
          "line": {
           "color": "rgb(8,48,107)",
           "width": 1.5
          }
         },
         "opacity": 0.6,
         "orientation": "h",
         "text": [
          0.4,
          0.1,
          0.08,
          0.06,
          0.04,
          0.04,
          0.04,
          0.04,
          0.04,
          0.02,
          0.02,
          0.02,
          0.02,
          0.02,
          0.02,
          0.02,
          0.02,
          0,
          0,
          0,
          0,
          0
         ],
         "textposition": "outside",
         "type": "bar",
         "uid": "d43955a5-f7e3-4585-bbfb-8e3578fe22c7",
         "x": [
          0.4,
          0.1,
          0.08,
          0.06,
          0.04,
          0.04,
          0.04,
          0.04,
          0.04,
          0.02,
          0.02,
          0.02,
          0.02,
          0.02,
          0.02,
          0.02,
          0.02,
          0,
          0,
          0,
          0,
          0
         ],
         "y": [
          "http_header_content-length",
          "http_header_content-encoding_gzip",
          "http_header_transfer-encoding_chunked",
          "http_header_cache-control_set_no-store",
          "http_header_cache-control_set_max-age",
          "http_header_x-cintent-type-options_nosniff",
          "http_header_via_1.1",
          "http_header_connection_keep-alive",
          "http_header_pragmano-cache",
          "http_header_server_apache",
          "http_header_vary_accept",
          "http_header_strict-transport-security_max-age",
          "http_header_server_nginx",
          "http_header_expect-ctmax-age",
          "http_header_cache-control_set_public",
          "http_header_cache-control_set_private",
          "http_header_x-xss-enabled",
          "http_header_cache-control_set_must-revalidate",
          "http_header_content-language_text/html",
          "http_header_connection_close",
          "http_header_vary_age",
          "http_header_cache-control_set_no-cache"
         ]
        }
       ],
       "layout": {
        "autosize": false,
        "height": 1000,
        "width": 1000,
        "xaxis": {
         "tickfont": {
          "color": "black",
          "size": 12
         },
         "title": "Feature Importances"
        },
        "yaxis": {
         "automargin": true
        }
       }
      },
      "text/html": [
       "<div id=\"76f120fc-da89-40f6-8fbe-25b97499eb89\" style=\"height: 1000px; width: 1000px;\" class=\"plotly-graph-div\"></div><script type=\"text/javascript\">require([\"plotly\"], function(Plotly) { window.PLOTLYENV=window.PLOTLYENV || {};window.PLOTLYENV.BASE_URL=\"https://plot.ly\";Plotly.newPlot(\"76f120fc-da89-40f6-8fbe-25b97499eb89\", [{\"marker\": {\"color\": \"rgb(158,202,225)\", \"line\": {\"color\": \"rgb(8,48,107)\", \"width\": 1.5}}, \"opacity\": 0.6, \"orientation\": \"h\", \"text\": [0.4, 0.1, 0.08, 0.06, 0.04, 0.04, 0.04, 0.04, 0.04, 0.02, 0.02, 0.02, 0.02, 0.02, 0.02, 0.02, 0.02, 0.0, 0.0, 0.0, 0.0, 0.0], \"textposition\": \"outside\", \"x\": [0.4, 0.1, 0.08, 0.06, 0.04, 0.04, 0.04, 0.04, 0.04, 0.02, 0.02, 0.02, 0.02, 0.02, 0.02, 0.02, 0.02, 0.0, 0.0, 0.0, 0.0, 0.0], \"y\": [\"http_header_content-length\", \"http_header_content-encoding_gzip\", \"http_header_transfer-encoding_chunked\", \"http_header_cache-control_set_no-store\", \"http_header_cache-control_set_max-age\", \"http_header_x-cintent-type-options_nosniff\", \"http_header_via_1.1\", \"http_header_connection_keep-alive\", \"http_header_pragmano-cache\", \"http_header_server_apache\", \"http_header_vary_accept\", \"http_header_strict-transport-security_max-age\", \"http_header_server_nginx\", \"http_header_expect-ctmax-age\", \"http_header_cache-control_set_public\", \"http_header_cache-control_set_private\", \"http_header_x-xss-enabled\", \"http_header_cache-control_set_must-revalidate\", \"http_header_content-language_text/html\", \"http_header_connection_close\", \"http_header_vary_age\", \"http_header_cache-control_set_no-cache\"], \"type\": \"bar\", \"uid\": \"d43955a5-f7e3-4585-bbfb-8e3578fe22c7\"}], {\"autosize\": false, \"height\": 1000, \"width\": 1000, \"xaxis\": {\"tickfont\": {\"color\": \"black\", \"size\": 12}, \"title\": \"Feature Importances\"}, \"yaxis\": {\"automargin\": true}}, {\"showLink\": true, \"linkText\": \"Export to plot.ly\", \"plotlyServerURL\": \"https://plot.ly\"})});</script>"
      ],
      "text/vnd.plotly.v1+html": [
       "<div id=\"76f120fc-da89-40f6-8fbe-25b97499eb89\" style=\"height: 1000px; width: 1000px;\" class=\"plotly-graph-div\"></div><script type=\"text/javascript\">require([\"plotly\"], function(Plotly) { window.PLOTLYENV=window.PLOTLYENV || {};window.PLOTLYENV.BASE_URL=\"https://plot.ly\";Plotly.newPlot(\"76f120fc-da89-40f6-8fbe-25b97499eb89\", [{\"marker\": {\"color\": \"rgb(158,202,225)\", \"line\": {\"color\": \"rgb(8,48,107)\", \"width\": 1.5}}, \"opacity\": 0.6, \"orientation\": \"h\", \"text\": [0.4, 0.1, 0.08, 0.06, 0.04, 0.04, 0.04, 0.04, 0.04, 0.02, 0.02, 0.02, 0.02, 0.02, 0.02, 0.02, 0.02, 0.0, 0.0, 0.0, 0.0, 0.0], \"textposition\": \"outside\", \"x\": [0.4, 0.1, 0.08, 0.06, 0.04, 0.04, 0.04, 0.04, 0.04, 0.02, 0.02, 0.02, 0.02, 0.02, 0.02, 0.02, 0.02, 0.0, 0.0, 0.0, 0.0, 0.0], \"y\": [\"http_header_content-length\", \"http_header_content-encoding_gzip\", \"http_header_transfer-encoding_chunked\", \"http_header_cache-control_set_no-store\", \"http_header_cache-control_set_max-age\", \"http_header_x-cintent-type-options_nosniff\", \"http_header_via_1.1\", \"http_header_connection_keep-alive\", \"http_header_pragmano-cache\", \"http_header_server_apache\", \"http_header_vary_accept\", \"http_header_strict-transport-security_max-age\", \"http_header_server_nginx\", \"http_header_expect-ctmax-age\", \"http_header_cache-control_set_public\", \"http_header_cache-control_set_private\", \"http_header_x-xss-enabled\", \"http_header_cache-control_set_must-revalidate\", \"http_header_content-language_text/html\", \"http_header_connection_close\", \"http_header_vary_age\", \"http_header_cache-control_set_no-cache\"], \"type\": \"bar\", \"uid\": \"d43955a5-f7e3-4585-bbfb-8e3578fe22c7\"}], {\"autosize\": false, \"height\": 1000, \"width\": 1000, \"xaxis\": {\"tickfont\": {\"color\": \"black\", \"size\": 12}, \"title\": \"Feature Importances\"}, \"yaxis\": {\"automargin\": true}}, {\"showLink\": true, \"linkText\": \"Export to plot.ly\", \"plotlyServerURL\": \"https://plot.ly\"})});</script>"
      ]
     },
     "metadata": {},
     "output_type": "display_data"
    },
    {
     "name": "stdout",
     "output_type": "stream",
     "text": [
      "\n",
      "\n",
      "\u001b[1mGradientBoosting Classifier\u001b[0m\n",
      "Accuracy of the model for training data is: 0.895854906022\n",
      "Confusion Matrix for training data is:\n"
     ]
    },
    {
     "data": {
      "text/plain": [
       "Predicted  False   True  __all__\n",
       "Actual                          \n",
       "False      27943   3926    31869\n",
       "True        2712  29157    31869\n",
       "__all__    30655  33083    63738"
      ]
     },
     "metadata": {},
     "output_type": "display_data"
    },
    {
     "name": "stdout",
     "output_type": "stream",
     "text": [
      "Accuracy of the model for test data is: 0.882141299608\n",
      "Confusion Matrix for test data is:\n"
     ]
    },
    {
     "data": {
      "text/plain": [
       "Predicted  False  True  __all__\n",
       "Actual                         \n",
       "False       6994   972     7966\n",
       "True         109  1097     1206\n",
       "__all__     7103  2069     9172"
      ]
     },
     "metadata": {},
     "output_type": "display_data"
    },
    {
     "data": {
      "application/vnd.plotly.v1+json": {
       "config": {
        "linkText": "Export to plot.ly",
        "plotlyServerURL": "https://plot.ly",
        "showLink": true
       },
       "data": [
        {
         "marker": {
          "color": "rgb(158,202,225)",
          "line": {
           "color": "rgb(8,48,107)",
           "width": 1.5
          }
         },
         "opacity": 0.6,
         "orientation": "h",
         "text": [
          0.5756,
          0.1876,
          0.0679,
          0.033,
          0.0319,
          0.0129,
          0.0122,
          0.0115,
          0.0103,
          0.0078,
          0.0071,
          0.0063,
          0.0056,
          0.0055,
          0.0053,
          0.0046,
          0.004,
          0.0033,
          0.003,
          0.0025,
          0.0018,
          0.0005
         ],
         "textposition": "outside",
         "type": "bar",
         "uid": "44f371f4-3796-4911-8f60-87fe266c033e",
         "x": [
          0.5755538007725496,
          0.1876335310149551,
          0.06785101220003693,
          0.03297115771856165,
          0.03186436862136388,
          0.012890445569756104,
          0.012189749192150526,
          0.011476444396963041,
          0.010333720815932597,
          0.007795378953229836,
          0.007089051468115422,
          0.006274374000932368,
          0.0055688504025876995,
          0.005471564361868497,
          0.005267304135140621,
          0.004642855771846718,
          0.00397311666031418,
          0.003319994677357888,
          0.003022286487737515,
          0.002472321890148399,
          0.0018265059846708776,
          0.0005121649037807223
         ],
         "y": [
          "http_header_content-encoding_gzip",
          "http_header_content-length",
          "http_header_transfer-encoding_chunked",
          "http_header_server_apache",
          "http_header_cache-control_set_max-age",
          "http_header_vary_accept",
          "http_header_cache-control_set_must-revalidate",
          "http_header_server_nginx",
          "http_header_via_1.1",
          "http_header_connection_close",
          "http_header_vary_age",
          "http_header_pragmano-cache",
          "http_header_strict-transport-security_max-age",
          "http_header_cache-control_set_no-store",
          "http_header_connection_keep-alive",
          "http_header_cache-control_set_private",
          "http_header_expect-ctmax-age",
          "http_header_x-xss-enabled",
          "http_header_content-language_text/html",
          "http_header_cache-control_set_no-cache",
          "http_header_x-cintent-type-options_nosniff",
          "http_header_cache-control_set_public"
         ]
        }
       ],
       "layout": {
        "autosize": false,
        "height": 1000,
        "width": 1000,
        "xaxis": {
         "tickfont": {
          "color": "black",
          "size": 12
         },
         "title": "Feature Importances"
        },
        "yaxis": {
         "automargin": true
        }
       }
      },
      "text/html": [
       "<div id=\"61ff8c16-7ce6-4b9a-a7ab-240a47871214\" style=\"height: 1000px; width: 1000px;\" class=\"plotly-graph-div\"></div><script type=\"text/javascript\">require([\"plotly\"], function(Plotly) { window.PLOTLYENV=window.PLOTLYENV || {};window.PLOTLYENV.BASE_URL=\"https://plot.ly\";Plotly.newPlot(\"61ff8c16-7ce6-4b9a-a7ab-240a47871214\", [{\"marker\": {\"color\": \"rgb(158,202,225)\", \"line\": {\"color\": \"rgb(8,48,107)\", \"width\": 1.5}}, \"opacity\": 0.6, \"orientation\": \"h\", \"text\": [0.5756, 0.1876, 0.0679, 0.033, 0.0319, 0.0129, 0.0122, 0.0115, 0.0103, 0.0078, 0.0071, 0.0063, 0.0056, 0.0055, 0.0053, 0.0046, 0.004, 0.0033, 0.003, 0.0025, 0.0018, 0.0005], \"textposition\": \"outside\", \"x\": [0.5755538007725496, 0.1876335310149551, 0.06785101220003693, 0.03297115771856165, 0.03186436862136388, 0.012890445569756104, 0.012189749192150526, 0.011476444396963041, 0.010333720815932597, 0.007795378953229836, 0.007089051468115422, 0.006274374000932368, 0.0055688504025876995, 0.005471564361868497, 0.005267304135140621, 0.004642855771846718, 0.00397311666031418, 0.003319994677357888, 0.003022286487737515, 0.002472321890148399, 0.0018265059846708776, 0.0005121649037807223], \"y\": [\"http_header_content-encoding_gzip\", \"http_header_content-length\", \"http_header_transfer-encoding_chunked\", \"http_header_server_apache\", \"http_header_cache-control_set_max-age\", \"http_header_vary_accept\", \"http_header_cache-control_set_must-revalidate\", \"http_header_server_nginx\", \"http_header_via_1.1\", \"http_header_connection_close\", \"http_header_vary_age\", \"http_header_pragmano-cache\", \"http_header_strict-transport-security_max-age\", \"http_header_cache-control_set_no-store\", \"http_header_connection_keep-alive\", \"http_header_cache-control_set_private\", \"http_header_expect-ctmax-age\", \"http_header_x-xss-enabled\", \"http_header_content-language_text/html\", \"http_header_cache-control_set_no-cache\", \"http_header_x-cintent-type-options_nosniff\", \"http_header_cache-control_set_public\"], \"type\": \"bar\", \"uid\": \"44f371f4-3796-4911-8f60-87fe266c033e\"}], {\"autosize\": false, \"height\": 1000, \"width\": 1000, \"xaxis\": {\"tickfont\": {\"color\": \"black\", \"size\": 12}, \"title\": \"Feature Importances\"}, \"yaxis\": {\"automargin\": true}}, {\"showLink\": true, \"linkText\": \"Export to plot.ly\", \"plotlyServerURL\": \"https://plot.ly\"})});</script>"
      ],
      "text/vnd.plotly.v1+html": [
       "<div id=\"61ff8c16-7ce6-4b9a-a7ab-240a47871214\" style=\"height: 1000px; width: 1000px;\" class=\"plotly-graph-div\"></div><script type=\"text/javascript\">require([\"plotly\"], function(Plotly) { window.PLOTLYENV=window.PLOTLYENV || {};window.PLOTLYENV.BASE_URL=\"https://plot.ly\";Plotly.newPlot(\"61ff8c16-7ce6-4b9a-a7ab-240a47871214\", [{\"marker\": {\"color\": \"rgb(158,202,225)\", \"line\": {\"color\": \"rgb(8,48,107)\", \"width\": 1.5}}, \"opacity\": 0.6, \"orientation\": \"h\", \"text\": [0.5756, 0.1876, 0.0679, 0.033, 0.0319, 0.0129, 0.0122, 0.0115, 0.0103, 0.0078, 0.0071, 0.0063, 0.0056, 0.0055, 0.0053, 0.0046, 0.004, 0.0033, 0.003, 0.0025, 0.0018, 0.0005], \"textposition\": \"outside\", \"x\": [0.5755538007725496, 0.1876335310149551, 0.06785101220003693, 0.03297115771856165, 0.03186436862136388, 0.012890445569756104, 0.012189749192150526, 0.011476444396963041, 0.010333720815932597, 0.007795378953229836, 0.007089051468115422, 0.006274374000932368, 0.0055688504025876995, 0.005471564361868497, 0.005267304135140621, 0.004642855771846718, 0.00397311666031418, 0.003319994677357888, 0.003022286487737515, 0.002472321890148399, 0.0018265059846708776, 0.0005121649037807223], \"y\": [\"http_header_content-encoding_gzip\", \"http_header_content-length\", \"http_header_transfer-encoding_chunked\", \"http_header_server_apache\", \"http_header_cache-control_set_max-age\", \"http_header_vary_accept\", \"http_header_cache-control_set_must-revalidate\", \"http_header_server_nginx\", \"http_header_via_1.1\", \"http_header_connection_close\", \"http_header_vary_age\", \"http_header_pragmano-cache\", \"http_header_strict-transport-security_max-age\", \"http_header_cache-control_set_no-store\", \"http_header_connection_keep-alive\", \"http_header_cache-control_set_private\", \"http_header_expect-ctmax-age\", \"http_header_x-xss-enabled\", \"http_header_content-language_text/html\", \"http_header_cache-control_set_no-cache\", \"http_header_x-cintent-type-options_nosniff\", \"http_header_cache-control_set_public\"], \"type\": \"bar\", \"uid\": \"44f371f4-3796-4911-8f60-87fe266c033e\"}], {\"autosize\": false, \"height\": 1000, \"width\": 1000, \"xaxis\": {\"tickfont\": {\"color\": \"black\", \"size\": 12}, \"title\": \"Feature Importances\"}, \"yaxis\": {\"automargin\": true}}, {\"showLink\": true, \"linkText\": \"Export to plot.ly\", \"plotlyServerURL\": \"https://plot.ly\"})});</script>"
      ]
     },
     "metadata": {},
     "output_type": "display_data"
    },
    {
     "name": "stdout",
     "output_type": "stream",
     "text": [
      "\n",
      "\n",
      "\u001b[1mExtraTree Classifier\u001b[0m\n",
      "Accuracy of the model for training data is: 0.93481125859\n",
      "Confusion Matrix for training data is:\n"
     ]
    },
    {
     "data": {
      "text/plain": [
       "Predicted  False   True  __all__\n",
       "Actual                          \n",
       "False      28579   3290    31869\n",
       "True         865  31004    31869\n",
       "__all__    29444  34294    63738"
      ]
     },
     "metadata": {},
     "output_type": "display_data"
    },
    {
     "name": "stdout",
     "output_type": "stream",
     "text": [
      "Accuracy of the model for test data is: 0.883013519407\n",
      "Confusion Matrix for test data is:\n"
     ]
    },
    {
     "data": {
      "text/plain": [
       "Predicted  False  True  __all__\n",
       "Actual                         \n",
       "False       6997   969     7966\n",
       "True         104  1102     1206\n",
       "__all__     7101  2071     9172"
      ]
     },
     "metadata": {},
     "output_type": "display_data"
    },
    {
     "data": {
      "application/vnd.plotly.v1+json": {
       "config": {
        "linkText": "Export to plot.ly",
        "plotlyServerURL": "https://plot.ly",
        "showLink": true
       },
       "data": [
        {
         "marker": {
          "color": "rgb(158,202,225)",
          "line": {
           "color": "rgb(8,48,107)",
           "width": 1.5
          }
         },
         "opacity": 0.6,
         "orientation": "h",
         "text": [
          0.168,
          0.1314,
          0.1171,
          0.1065,
          0.0672,
          0.0659,
          0.0624,
          0.0532,
          0.0312,
          0.0258,
          0.0258,
          0.0219,
          0.0218,
          0.0201,
          0.0172,
          0.0119,
          0.0119,
          0.0117,
          0.0106,
          0.0085,
          0.0054,
          0.0043
         ],
         "textposition": "outside",
         "type": "bar",
         "uid": "acf38442-22fe-4084-9316-fb430c14326d",
         "x": [
          0.16796715108007523,
          0.1313779356829706,
          0.11714457956821937,
          0.10649431917170764,
          0.06723661541664182,
          0.06587041991387174,
          0.06244757608073135,
          0.053228710041208424,
          0.03118256547517333,
          0.025839202402966353,
          0.025820517019181078,
          0.021879974408951258,
          0.02175541469314098,
          0.02011943660717591,
          0.0172469766491049,
          0.01194457617633567,
          0.011893213427598808,
          0.011682280961720337,
          0.010620681906731174,
          0.008516940582133488,
          0.005421804181126496,
          0.00430910855323398
         ],
         "y": [
          "http_header_vary_accept",
          "http_header_content-language_text/html",
          "http_header_content-length",
          "http_header_transfer-encoding_chunked",
          "http_header_cache-control_set_max-age",
          "http_header_server_apache",
          "http_header_content-encoding_gzip",
          "http_header_connection_keep-alive",
          "http_header_server_nginx",
          "http_header_cache-control_set_private",
          "http_header_vary_age",
          "http_header_cache-control_set_must-revalidate",
          "http_header_cache-control_set_no-cache",
          "http_header_cache-control_set_no-store",
          "http_header_pragmano-cache",
          "http_header_strict-transport-security_max-age",
          "http_header_connection_close",
          "http_header_via_1.1",
          "http_header_x-xss-enabled",
          "http_header_expect-ctmax-age",
          "http_header_x-cintent-type-options_nosniff",
          "http_header_cache-control_set_public"
         ]
        }
       ],
       "layout": {
        "autosize": false,
        "height": 1000,
        "width": 1000,
        "xaxis": {
         "tickfont": {
          "color": "black",
          "size": 12
         },
         "title": "Feature Importances"
        },
        "yaxis": {
         "automargin": true
        }
       }
      },
      "text/html": [
       "<div id=\"88230754-6abd-421a-9090-6be15b40cc7d\" style=\"height: 1000px; width: 1000px;\" class=\"plotly-graph-div\"></div><script type=\"text/javascript\">require([\"plotly\"], function(Plotly) { window.PLOTLYENV=window.PLOTLYENV || {};window.PLOTLYENV.BASE_URL=\"https://plot.ly\";Plotly.newPlot(\"88230754-6abd-421a-9090-6be15b40cc7d\", [{\"marker\": {\"color\": \"rgb(158,202,225)\", \"line\": {\"color\": \"rgb(8,48,107)\", \"width\": 1.5}}, \"opacity\": 0.6, \"orientation\": \"h\", \"text\": [0.168, 0.1314, 0.1171, 0.1065, 0.0672, 0.0659, 0.0624, 0.0532, 0.0312, 0.0258, 0.0258, 0.0219, 0.0218, 0.0201, 0.0172, 0.0119, 0.0119, 0.0117, 0.0106, 0.0085, 0.0054, 0.0043], \"textposition\": \"outside\", \"x\": [0.16796715108007523, 0.1313779356829706, 0.11714457956821937, 0.10649431917170764, 0.06723661541664182, 0.06587041991387174, 0.06244757608073135, 0.053228710041208424, 0.03118256547517333, 0.025839202402966353, 0.025820517019181078, 0.021879974408951258, 0.02175541469314098, 0.02011943660717591, 0.0172469766491049, 0.01194457617633567, 0.011893213427598808, 0.011682280961720337, 0.010620681906731174, 0.008516940582133488, 0.005421804181126496, 0.00430910855323398], \"y\": [\"http_header_vary_accept\", \"http_header_content-language_text/html\", \"http_header_content-length\", \"http_header_transfer-encoding_chunked\", \"http_header_cache-control_set_max-age\", \"http_header_server_apache\", \"http_header_content-encoding_gzip\", \"http_header_connection_keep-alive\", \"http_header_server_nginx\", \"http_header_cache-control_set_private\", \"http_header_vary_age\", \"http_header_cache-control_set_must-revalidate\", \"http_header_cache-control_set_no-cache\", \"http_header_cache-control_set_no-store\", \"http_header_pragmano-cache\", \"http_header_strict-transport-security_max-age\", \"http_header_connection_close\", \"http_header_via_1.1\", \"http_header_x-xss-enabled\", \"http_header_expect-ctmax-age\", \"http_header_x-cintent-type-options_nosniff\", \"http_header_cache-control_set_public\"], \"type\": \"bar\", \"uid\": \"acf38442-22fe-4084-9316-fb430c14326d\"}], {\"autosize\": false, \"height\": 1000, \"width\": 1000, \"xaxis\": {\"tickfont\": {\"color\": \"black\", \"size\": 12}, \"title\": \"Feature Importances\"}, \"yaxis\": {\"automargin\": true}}, {\"showLink\": true, \"linkText\": \"Export to plot.ly\", \"plotlyServerURL\": \"https://plot.ly\"})});</script>"
      ],
      "text/vnd.plotly.v1+html": [
       "<div id=\"88230754-6abd-421a-9090-6be15b40cc7d\" style=\"height: 1000px; width: 1000px;\" class=\"plotly-graph-div\"></div><script type=\"text/javascript\">require([\"plotly\"], function(Plotly) { window.PLOTLYENV=window.PLOTLYENV || {};window.PLOTLYENV.BASE_URL=\"https://plot.ly\";Plotly.newPlot(\"88230754-6abd-421a-9090-6be15b40cc7d\", [{\"marker\": {\"color\": \"rgb(158,202,225)\", \"line\": {\"color\": \"rgb(8,48,107)\", \"width\": 1.5}}, \"opacity\": 0.6, \"orientation\": \"h\", \"text\": [0.168, 0.1314, 0.1171, 0.1065, 0.0672, 0.0659, 0.0624, 0.0532, 0.0312, 0.0258, 0.0258, 0.0219, 0.0218, 0.0201, 0.0172, 0.0119, 0.0119, 0.0117, 0.0106, 0.0085, 0.0054, 0.0043], \"textposition\": \"outside\", \"x\": [0.16796715108007523, 0.1313779356829706, 0.11714457956821937, 0.10649431917170764, 0.06723661541664182, 0.06587041991387174, 0.06244757608073135, 0.053228710041208424, 0.03118256547517333, 0.025839202402966353, 0.025820517019181078, 0.021879974408951258, 0.02175541469314098, 0.02011943660717591, 0.0172469766491049, 0.01194457617633567, 0.011893213427598808, 0.011682280961720337, 0.010620681906731174, 0.008516940582133488, 0.005421804181126496, 0.00430910855323398], \"y\": [\"http_header_vary_accept\", \"http_header_content-language_text/html\", \"http_header_content-length\", \"http_header_transfer-encoding_chunked\", \"http_header_cache-control_set_max-age\", \"http_header_server_apache\", \"http_header_content-encoding_gzip\", \"http_header_connection_keep-alive\", \"http_header_server_nginx\", \"http_header_cache-control_set_private\", \"http_header_vary_age\", \"http_header_cache-control_set_must-revalidate\", \"http_header_cache-control_set_no-cache\", \"http_header_cache-control_set_no-store\", \"http_header_pragmano-cache\", \"http_header_strict-transport-security_max-age\", \"http_header_connection_close\", \"http_header_via_1.1\", \"http_header_x-xss-enabled\", \"http_header_expect-ctmax-age\", \"http_header_x-cintent-type-options_nosniff\", \"http_header_cache-control_set_public\"], \"type\": \"bar\", \"uid\": \"acf38442-22fe-4084-9316-fb430c14326d\"}], {\"autosize\": false, \"height\": 1000, \"width\": 1000, \"xaxis\": {\"tickfont\": {\"color\": \"black\", \"size\": 12}, \"title\": \"Feature Importances\"}, \"yaxis\": {\"automargin\": true}}, {\"showLink\": true, \"linkText\": \"Export to plot.ly\", \"plotlyServerURL\": \"https://plot.ly\"})});</script>"
      ]
     },
     "metadata": {},
     "output_type": "display_data"
    },
    {
     "name": "stdout",
     "output_type": "stream",
     "text": [
      "\n",
      "\n",
      "\u001b[1mBagging Classifier\u001b[0m\n",
      "Accuracy of the model for training data is: 0.932771658979\n",
      "Confusion Matrix for training data is:\n"
     ]
    },
    {
     "data": {
      "text/plain": [
       "Predicted  False   True  __all__\n",
       "Actual                          \n",
       "False      28526   3343    31869\n",
       "True         942  30927    31869\n",
       "__all__    29468  34270    63738"
      ]
     },
     "metadata": {},
     "output_type": "display_data"
    },
    {
     "name": "stdout",
     "output_type": "stream",
     "text": [
      "Accuracy of the model for test data is: 0.882141299608\n",
      "Confusion Matrix for test data is:\n"
     ]
    },
    {
     "data": {
      "text/plain": [
       "Predicted  False  True  __all__\n",
       "Actual                         \n",
       "False       6989   977     7966\n",
       "True         104  1102     1206\n",
       "__all__     7093  2079     9172"
      ]
     },
     "metadata": {},
     "output_type": "display_data"
    },
    {
     "name": "stdout",
     "output_type": "stream",
     "text": [
      "\n",
      "\n",
      "\u001b[1mNeural Network-1\u001b[0m\n",
      "The accuracy of the model on training data is: 0.910696915498\n"
     ]
    },
    {
     "data": {
      "text/plain": [
       "Predicted  False   True  __all__\n",
       "Actual                          \n",
       "False      27929   3940    31869\n",
       "True        1752  30117    31869\n",
       "__all__    29681  34057    63738"
      ]
     },
     "metadata": {},
     "output_type": "display_data"
    },
    {
     "name": "stdout",
     "output_type": "stream",
     "text": [
      "The accuracy of the model on test data is: 0.881705189708\n"
     ]
    },
    {
     "data": {
      "text/plain": [
       "Predicted  False  True  __all__\n",
       "Actual                         \n",
       "False       6978   988     7966\n",
       "True          97  1109     1206\n",
       "__all__     7075  2097     9172"
      ]
     },
     "metadata": {},
     "output_type": "display_data"
    },
    {
     "name": "stdout",
     "output_type": "stream",
     "text": [
      "\n",
      "\n"
     ]
    }
   ],
   "source": [
    "feat_imp=[None]*4\n",
    "j=0\n",
    "for i in range(0,8):\n",
    "    if i>=2 and i<=5:\n",
    "        model,cm_train,cm_test,acc_train,acc_test,roc_auc,feat_imp[j]=f[i](X_train,Y_train,X_test,Y_test,columns)\n",
    "        j=j+1\n",
    "    else:\n",
    "        model,cm_train,cm_test,acc_train,acc_test,roc_auc=f[i](X_train,Y_train,X_test,Y_test)\n",
    "    table_80_80_train.loc[i]=   ([acc_train,cm_train.TP,cm_train.TN,cm_train.FP,cm_train.FN,cm_train.FPR,cm_train.FNR])\n",
    "    table_80_80_test.loc[i] =   ([acc_test ,cm_test.TP, cm_test.TN, cm_test.FP, cm_test.FN, cm_test.FPR, cm_test.FNR,roc_auc])\n",
    "    print(\"\\n\")"
   ]
  },
  {
   "cell_type": "markdown",
   "metadata": {},
   "source": [
    "### <a id='4.A' style=\"text-decoration : none; color : #000000;\"> A. Results</a>"
   ]
  },
  {
   "cell_type": "code",
   "execution_count": 67,
   "metadata": {},
   "outputs": [
    {
     "data": {
      "application/vnd.plotly.v1+json": {
       "config": {
        "linkText": "Export to plot.ly",
        "plotlyServerURL": "https://plot.ly",
        "showLink": true
       },
       "data": [
        {
         "mode": "lines",
         "name": "KNN_model",
         "type": "scatter",
         "uid": "a11f6846-c433-4cc8-977e-6e38d702796e",
         "x": [
          "accuracy",
          "FPR",
          "FNR",
          "auc"
         ],
         "y": [
          0.8807239424334933,
          0.03954305799648506,
          0.6459369817578773,
          0.6572599801228188
         ]
        },
        {
         "mode": "lines+markers",
         "name": "Logistic Regression",
         "type": "scatter",
         "uid": "91d6d51d-2d1d-4b67-9192-eafab1cbdde9",
         "x": [
          "accuracy",
          "FPR",
          "FNR",
          "auc"
         ],
         "y": [
          0.8391844744875708,
          0.1714787848355511,
          0.09038142620232173,
          0.8690698944810635
         ]
        },
        {
         "marker": {
          "symbol": "x"
         },
         "mode": "lines+markers",
         "name": "Random Forest",
         "type": "scatter",
         "uid": "c3f4b84e-bb9c-4d2a-9ca3-d491b1cfec95",
         "x": [
          "accuracy",
          "FPR",
          "FNR",
          "auc"
         ],
         "y": [
          0.8841037941561274,
          0.12013557619884509,
          0.087893864013267,
          0.895985279893944
         ]
        },
        {
         "mode": "lines",
         "name": "Ada Boost",
         "type": "scatter",
         "uid": "4f1c1c38-05aa-41a3-89ac-3d4b9043289d",
         "x": [
          "accuracy",
          "FPR",
          "FNR",
          "auc"
         ],
         "y": [
          0.8513955516790231,
          0.1570424303288978,
          0.09286898839137644,
          0.875044290639863
         ]
        },
        {
         "mode": "lines+markers",
         "name": "GradientBoosting",
         "type": "scatter",
         "uid": "f6de9809-f9a9-42c9-9a58-253708523e2f",
         "x": [
          "accuracy",
          "FPR",
          "FNR",
          "auc"
         ],
         "y": [
          0.8821412996075011,
          0.12201857896058248,
          0.09038142620232173,
          0.8937999974185479
         ]
        },
        {
         "marker": {
          "symbol": "x"
         },
         "mode": "lines+markers",
         "name": "ExtraTree Classifier",
         "type": "scatter",
         "uid": "7d2ab568-fd71-4f97-8de5-7024e4101513",
         "x": [
          "accuracy",
          "FPR",
          "FNR",
          "auc"
         ],
         "y": [
          0.8830135194068905,
          0.121641978408235,
          0.08623548922056384,
          0.8960612661856006
         ]
        },
        {
         "marker": {
          "symbol": "x"
         },
         "mode": "lines+markers",
         "name": "Bagging",
         "type": "scatter",
         "uid": "0553b9c9-c92c-48a0-bfb0-c58384be11eb",
         "x": [
          "accuracy",
          "FPR",
          "FNR",
          "auc"
         ],
         "y": [
          0.8821412996075011,
          0.12264624654782827,
          0.08623548922056384,
          0.8955591321158038
         ]
        },
        {
         "marker": {
          "symbol": "x"
         },
         "mode": "lines+markers",
         "name": "Neural Network",
         "type": "scatter",
         "uid": "9f34aeef-4086-4c96-8b25-230451d4413e",
         "x": [
          "accuracy",
          "FPR",
          "FNR",
          "auc"
         ],
         "y": [
          0.8817051897078063,
          0.12402711523976902,
          0.08043117744610281,
          0.8955591321158038
         ]
        }
       ],
       "layout": {
        "title": "Result comparision for Features selected in Section 1",
        "yaxis": {
         "dtick": 0.05,
         "tick0": 0
        }
       }
      },
      "text/html": [
       "<div id=\"4dd404c6-977c-464e-b58d-a2557f697169\" style=\"height: 525px; width: 100%;\" class=\"plotly-graph-div\"></div><script type=\"text/javascript\">require([\"plotly\"], function(Plotly) { window.PLOTLYENV=window.PLOTLYENV || {};window.PLOTLYENV.BASE_URL=\"https://plot.ly\";Plotly.newPlot(\"4dd404c6-977c-464e-b58d-a2557f697169\", [{\"mode\": \"lines\", \"name\": \"KNN_model\", \"x\": [\"accuracy\", \"FPR\", \"FNR\", \"auc\"], \"y\": [0.8807239424334933, 0.03954305799648506, 0.6459369817578773, 0.6572599801228188], \"type\": \"scatter\", \"uid\": \"a11f6846-c433-4cc8-977e-6e38d702796e\"}, {\"mode\": \"lines+markers\", \"name\": \"Logistic Regression\", \"x\": [\"accuracy\", \"FPR\", \"FNR\", \"auc\"], \"y\": [0.8391844744875708, 0.1714787848355511, 0.09038142620232173, 0.8690698944810635], \"type\": \"scatter\", \"uid\": \"91d6d51d-2d1d-4b67-9192-eafab1cbdde9\"}, {\"marker\": {\"symbol\": \"x\"}, \"mode\": \"lines+markers\", \"name\": \"Random Forest\", \"x\": [\"accuracy\", \"FPR\", \"FNR\", \"auc\"], \"y\": [0.8841037941561274, 0.12013557619884509, 0.087893864013267, 0.895985279893944], \"type\": \"scatter\", \"uid\": \"c3f4b84e-bb9c-4d2a-9ca3-d491b1cfec95\"}, {\"mode\": \"lines\", \"name\": \"Ada Boost\", \"x\": [\"accuracy\", \"FPR\", \"FNR\", \"auc\"], \"y\": [0.8513955516790231, 0.1570424303288978, 0.09286898839137644, 0.875044290639863], \"type\": \"scatter\", \"uid\": \"4f1c1c38-05aa-41a3-89ac-3d4b9043289d\"}, {\"mode\": \"lines+markers\", \"name\": \"GradientBoosting\", \"x\": [\"accuracy\", \"FPR\", \"FNR\", \"auc\"], \"y\": [0.8821412996075011, 0.12201857896058248, 0.09038142620232173, 0.8937999974185479], \"type\": \"scatter\", \"uid\": \"f6de9809-f9a9-42c9-9a58-253708523e2f\"}, {\"marker\": {\"symbol\": \"x\"}, \"mode\": \"lines+markers\", \"name\": \"ExtraTree Classifier\", \"x\": [\"accuracy\", \"FPR\", \"FNR\", \"auc\"], \"y\": [0.8830135194068905, 0.121641978408235, 0.08623548922056384, 0.8960612661856006], \"type\": \"scatter\", \"uid\": \"7d2ab568-fd71-4f97-8de5-7024e4101513\"}, {\"marker\": {\"symbol\": \"x\"}, \"mode\": \"lines+markers\", \"name\": \"Bagging\", \"x\": [\"accuracy\", \"FPR\", \"FNR\", \"auc\"], \"y\": [0.8821412996075011, 0.12264624654782827, 0.08623548922056384, 0.8955591321158038], \"type\": \"scatter\", \"uid\": \"0553b9c9-c92c-48a0-bfb0-c58384be11eb\"}, {\"marker\": {\"symbol\": \"x\"}, \"mode\": \"lines+markers\", \"name\": \"Neural Network\", \"x\": [\"accuracy\", \"FPR\", \"FNR\", \"auc\"], \"y\": [0.8817051897078063, 0.12402711523976902, 0.08043117744610281, 0.8955591321158038], \"type\": \"scatter\", \"uid\": \"9f34aeef-4086-4c96-8b25-230451d4413e\"}], {\"title\": \"Result comparision for Features selected in Section 1\", \"yaxis\": {\"dtick\": 0.05, \"tick0\": 0}}, {\"showLink\": true, \"linkText\": \"Export to plot.ly\", \"plotlyServerURL\": \"https://plot.ly\"})});</script><script type=\"text/javascript\">window.addEventListener(\"resize\", function(){window._Plotly.Plots.resize(document.getElementById(\"4dd404c6-977c-464e-b58d-a2557f697169\"));});</script>"
      ],
      "text/vnd.plotly.v1+html": [
       "<div id=\"4dd404c6-977c-464e-b58d-a2557f697169\" style=\"height: 525px; width: 100%;\" class=\"plotly-graph-div\"></div><script type=\"text/javascript\">require([\"plotly\"], function(Plotly) { window.PLOTLYENV=window.PLOTLYENV || {};window.PLOTLYENV.BASE_URL=\"https://plot.ly\";Plotly.newPlot(\"4dd404c6-977c-464e-b58d-a2557f697169\", [{\"mode\": \"lines\", \"name\": \"KNN_model\", \"x\": [\"accuracy\", \"FPR\", \"FNR\", \"auc\"], \"y\": [0.8807239424334933, 0.03954305799648506, 0.6459369817578773, 0.6572599801228188], \"type\": \"scatter\", \"uid\": \"a11f6846-c433-4cc8-977e-6e38d702796e\"}, {\"mode\": \"lines+markers\", \"name\": \"Logistic Regression\", \"x\": [\"accuracy\", \"FPR\", \"FNR\", \"auc\"], \"y\": [0.8391844744875708, 0.1714787848355511, 0.09038142620232173, 0.8690698944810635], \"type\": \"scatter\", \"uid\": \"91d6d51d-2d1d-4b67-9192-eafab1cbdde9\"}, {\"marker\": {\"symbol\": \"x\"}, \"mode\": \"lines+markers\", \"name\": \"Random Forest\", \"x\": [\"accuracy\", \"FPR\", \"FNR\", \"auc\"], \"y\": [0.8841037941561274, 0.12013557619884509, 0.087893864013267, 0.895985279893944], \"type\": \"scatter\", \"uid\": \"c3f4b84e-bb9c-4d2a-9ca3-d491b1cfec95\"}, {\"mode\": \"lines\", \"name\": \"Ada Boost\", \"x\": [\"accuracy\", \"FPR\", \"FNR\", \"auc\"], \"y\": [0.8513955516790231, 0.1570424303288978, 0.09286898839137644, 0.875044290639863], \"type\": \"scatter\", \"uid\": \"4f1c1c38-05aa-41a3-89ac-3d4b9043289d\"}, {\"mode\": \"lines+markers\", \"name\": \"GradientBoosting\", \"x\": [\"accuracy\", \"FPR\", \"FNR\", \"auc\"], \"y\": [0.8821412996075011, 0.12201857896058248, 0.09038142620232173, 0.8937999974185479], \"type\": \"scatter\", \"uid\": \"f6de9809-f9a9-42c9-9a58-253708523e2f\"}, {\"marker\": {\"symbol\": \"x\"}, \"mode\": \"lines+markers\", \"name\": \"ExtraTree Classifier\", \"x\": [\"accuracy\", \"FPR\", \"FNR\", \"auc\"], \"y\": [0.8830135194068905, 0.121641978408235, 0.08623548922056384, 0.8960612661856006], \"type\": \"scatter\", \"uid\": \"7d2ab568-fd71-4f97-8de5-7024e4101513\"}, {\"marker\": {\"symbol\": \"x\"}, \"mode\": \"lines+markers\", \"name\": \"Bagging\", \"x\": [\"accuracy\", \"FPR\", \"FNR\", \"auc\"], \"y\": [0.8821412996075011, 0.12264624654782827, 0.08623548922056384, 0.8955591321158038], \"type\": \"scatter\", \"uid\": \"0553b9c9-c92c-48a0-bfb0-c58384be11eb\"}, {\"marker\": {\"symbol\": \"x\"}, \"mode\": \"lines+markers\", \"name\": \"Neural Network\", \"x\": [\"accuracy\", \"FPR\", \"FNR\", \"auc\"], \"y\": [0.8817051897078063, 0.12402711523976902, 0.08043117744610281, 0.8955591321158038], \"type\": \"scatter\", \"uid\": \"9f34aeef-4086-4c96-8b25-230451d4413e\"}], {\"title\": \"Result comparision for Features selected in Section 1\", \"yaxis\": {\"dtick\": 0.05, \"tick0\": 0}}, {\"showLink\": true, \"linkText\": \"Export to plot.ly\", \"plotlyServerURL\": \"https://plot.ly\"})});</script><script type=\"text/javascript\">window.addEventListener(\"resize\", function(){window._Plotly.Plots.resize(document.getElementById(\"4dd404c6-977c-464e-b58d-a2557f697169\"));});</script>"
      ]
     },
     "metadata": {},
     "output_type": "display_data"
    }
   ],
   "source": [
    "trace0 = go.Scatter(x=table_80_80_test.iloc[0].index.values[[0,5,6,7]],\n",
    "                    y=table_80_80_test.iloc[0].values[[0,5,6,7]],\n",
    "                    mode = 'lines',\n",
    "                    name = 'KNN_model')\n",
    "\n",
    "trace1 = go.Scatter(x=table_80_80_test.iloc[1].index.values[[0,5,6,7]],\n",
    "                    y=table_80_80_test.iloc[1].values[[0,5,6,7]],\n",
    "                    mode = 'lines+markers',\n",
    "                    name = 'Logistic Regression')\n",
    "\n",
    "trace2 = go.Scatter(x=table_80_80_test.iloc[2].index.values[[0,5,6,7]],\n",
    "                    y=table_80_80_test.iloc[2].values[[0,5,6,7]],\n",
    "                    mode = 'lines+markers',marker=dict(symbol='x'),\n",
    "                    name = 'Random Forest')\n",
    "\n",
    "\n",
    "trace3 = go.Scatter(x=table_80_80_test.iloc[3].index.values[[0,5,6,7]],\n",
    "                    y=table_80_80_test.iloc[3].values[[0,5,6,7]],\n",
    "                    mode = 'lines',\n",
    "                    name = 'Ada Boost')\n",
    "\n",
    "trace4 = go.Scatter(x=table_80_80_test.iloc[4].index.values[[0,5,6,7]],\n",
    "                    y=table_80_80_test.iloc[4].values[[0,5,6,7]],\n",
    "                    mode = 'lines+markers',\n",
    "                    name = 'GradientBoosting')\n",
    "\n",
    "trace5 = go.Scatter(x=table_80_80_test.iloc[5].index.values[[0,5,6,7]],\n",
    "                    y=table_80_80_test.iloc[5].values[[0,5,6,7]],\n",
    "                    mode = 'lines+markers',marker=dict(symbol='x'),\n",
    "                    name = 'ExtraTree Classifier')\n",
    "\n",
    "trace6 = go.Scatter(x=table_80_80_test.iloc[6].index.values[[0,5,6,7]],\n",
    "                    y=table_80_80_test.iloc[6].values[[0,5,6,7]],\n",
    "                    mode = 'lines+markers',marker=dict(symbol='x'),\n",
    "                    name = 'Bagging')\n",
    "\n",
    "trace7 = go.Scatter(x=table_80_80_test.iloc[7].index.values[[0,5,6,7]],\n",
    "                    y=table_80_80_test.iloc[7].values[[0,5,6,7]],\n",
    "                    mode = 'lines+markers',marker=dict(symbol='x'),\n",
    "                    name = 'Neural Network')\n",
    "\n",
    "\n",
    "\n",
    "data = [trace0, trace1, trace2, trace3, trace4, trace5, trace6, trace7]\n",
    "layout = go.Layout(yaxis=dict(tick0=0,dtick=0.05),title='Result comparision for Features selected in Section 1')\n",
    "fig = go.Figure(data=data, layout=layout)\n",
    "\n",
    "iplot(fig, filename='Result')"
   ]
  },
  {
   "cell_type": "code",
   "execution_count": 68,
   "metadata": {},
   "outputs": [
    {
     "name": "stdout",
     "output_type": "stream",
     "text": [
      "Training Results\n"
     ]
    },
    {
     "data": {
      "text/html": [
       "<div>\n",
       "<style scoped>\n",
       "    .dataframe tbody tr th:only-of-type {\n",
       "        vertical-align: middle;\n",
       "    }\n",
       "\n",
       "    .dataframe tbody tr th {\n",
       "        vertical-align: top;\n",
       "    }\n",
       "\n",
       "    .dataframe thead th {\n",
       "        text-align: right;\n",
       "    }\n",
       "</style>\n",
       "<table border=\"1\" class=\"dataframe\">\n",
       "  <thead>\n",
       "    <tr style=\"text-align: right;\">\n",
       "      <th></th>\n",
       "      <th>accuracy</th>\n",
       "      <th>TP</th>\n",
       "      <th>TN</th>\n",
       "      <th>FP</th>\n",
       "      <th>FN</th>\n",
       "      <th>FPR</th>\n",
       "      <th>FNR</th>\n",
       "    </tr>\n",
       "    <tr>\n",
       "      <th>index</th>\n",
       "      <th></th>\n",
       "      <th></th>\n",
       "      <th></th>\n",
       "      <th></th>\n",
       "      <th></th>\n",
       "      <th></th>\n",
       "      <th></th>\n",
       "    </tr>\n",
       "  </thead>\n",
       "  <tbody>\n",
       "    <tr>\n",
       "      <th>KNeighborsClassifier</th>\n",
       "      <td>0.679861</td>\n",
       "      <td>12492.0</td>\n",
       "      <td>30841.0</td>\n",
       "      <td>1028.0</td>\n",
       "      <td>19377.0</td>\n",
       "      <td>0.032257</td>\n",
       "      <td>0.608020</td>\n",
       "    </tr>\n",
       "    <tr>\n",
       "      <th>LogisticRegression</th>\n",
       "      <td>0.866155</td>\n",
       "      <td>28732.0</td>\n",
       "      <td>26475.0</td>\n",
       "      <td>5394.0</td>\n",
       "      <td>3137.0</td>\n",
       "      <td>0.169255</td>\n",
       "      <td>0.098434</td>\n",
       "    </tr>\n",
       "    <tr>\n",
       "      <th>RandomForestClassifier</th>\n",
       "      <td>0.932489</td>\n",
       "      <td>30894.0</td>\n",
       "      <td>28541.0</td>\n",
       "      <td>3328.0</td>\n",
       "      <td>975.0</td>\n",
       "      <td>0.104428</td>\n",
       "      <td>0.030594</td>\n",
       "    </tr>\n",
       "    <tr>\n",
       "      <th>AdaBoostClassifier</th>\n",
       "      <td>0.872243</td>\n",
       "      <td>28769.0</td>\n",
       "      <td>26826.0</td>\n",
       "      <td>5043.0</td>\n",
       "      <td>3100.0</td>\n",
       "      <td>0.158242</td>\n",
       "      <td>0.097273</td>\n",
       "    </tr>\n",
       "    <tr>\n",
       "      <th>GradientBoostingClassifier</th>\n",
       "      <td>0.895855</td>\n",
       "      <td>29157.0</td>\n",
       "      <td>27943.0</td>\n",
       "      <td>3926.0</td>\n",
       "      <td>2712.0</td>\n",
       "      <td>0.123192</td>\n",
       "      <td>0.085098</td>\n",
       "    </tr>\n",
       "    <tr>\n",
       "      <th>ExtraTreeClassifier</th>\n",
       "      <td>0.934811</td>\n",
       "      <td>31004.0</td>\n",
       "      <td>28579.0</td>\n",
       "      <td>3290.0</td>\n",
       "      <td>865.0</td>\n",
       "      <td>0.103235</td>\n",
       "      <td>0.027142</td>\n",
       "    </tr>\n",
       "    <tr>\n",
       "      <th>BaggingClassifier</th>\n",
       "      <td>0.932772</td>\n",
       "      <td>30927.0</td>\n",
       "      <td>28526.0</td>\n",
       "      <td>3343.0</td>\n",
       "      <td>942.0</td>\n",
       "      <td>0.104898</td>\n",
       "      <td>0.029559</td>\n",
       "    </tr>\n",
       "    <tr>\n",
       "      <th>Neural Network-1</th>\n",
       "      <td>0.910697</td>\n",
       "      <td>30117.0</td>\n",
       "      <td>27929.0</td>\n",
       "      <td>3940.0</td>\n",
       "      <td>1752.0</td>\n",
       "      <td>0.123631</td>\n",
       "      <td>0.054975</td>\n",
       "    </tr>\n",
       "  </tbody>\n",
       "</table>\n",
       "</div>"
      ],
      "text/plain": [
       "                            accuracy       TP       TN      FP       FN  \\\n",
       "index                                                                     \n",
       "KNeighborsClassifier        0.679861  12492.0  30841.0  1028.0  19377.0   \n",
       "LogisticRegression          0.866155  28732.0  26475.0  5394.0   3137.0   \n",
       "RandomForestClassifier      0.932489  30894.0  28541.0  3328.0    975.0   \n",
       "AdaBoostClassifier          0.872243  28769.0  26826.0  5043.0   3100.0   \n",
       "GradientBoostingClassifier  0.895855  29157.0  27943.0  3926.0   2712.0   \n",
       "ExtraTreeClassifier         0.934811  31004.0  28579.0  3290.0    865.0   \n",
       "BaggingClassifier           0.932772  30927.0  28526.0  3343.0    942.0   \n",
       "Neural Network-1            0.910697  30117.0  27929.0  3940.0   1752.0   \n",
       "\n",
       "                                 FPR       FNR  \n",
       "index                                           \n",
       "KNeighborsClassifier        0.032257  0.608020  \n",
       "LogisticRegression          0.169255  0.098434  \n",
       "RandomForestClassifier      0.104428  0.030594  \n",
       "AdaBoostClassifier          0.158242  0.097273  \n",
       "GradientBoostingClassifier  0.123192  0.085098  \n",
       "ExtraTreeClassifier         0.103235  0.027142  \n",
       "BaggingClassifier           0.104898  0.029559  \n",
       "Neural Network-1            0.123631  0.054975  "
      ]
     },
     "metadata": {},
     "output_type": "display_data"
    },
    {
     "name": "stdout",
     "output_type": "stream",
     "text": [
      "Test Results\n"
     ]
    },
    {
     "data": {
      "text/html": [
       "<div>\n",
       "<style scoped>\n",
       "    .dataframe tbody tr th:only-of-type {\n",
       "        vertical-align: middle;\n",
       "    }\n",
       "\n",
       "    .dataframe tbody tr th {\n",
       "        vertical-align: top;\n",
       "    }\n",
       "\n",
       "    .dataframe thead th {\n",
       "        text-align: right;\n",
       "    }\n",
       "</style>\n",
       "<table border=\"1\" class=\"dataframe\">\n",
       "  <thead>\n",
       "    <tr style=\"text-align: right;\">\n",
       "      <th></th>\n",
       "      <th>accuracy</th>\n",
       "      <th>TP</th>\n",
       "      <th>TN</th>\n",
       "      <th>FP</th>\n",
       "      <th>FN</th>\n",
       "      <th>FPR</th>\n",
       "      <th>FNR</th>\n",
       "      <th>auc</th>\n",
       "    </tr>\n",
       "    <tr>\n",
       "      <th>index</th>\n",
       "      <th></th>\n",
       "      <th></th>\n",
       "      <th></th>\n",
       "      <th></th>\n",
       "      <th></th>\n",
       "      <th></th>\n",
       "      <th></th>\n",
       "      <th></th>\n",
       "    </tr>\n",
       "  </thead>\n",
       "  <tbody>\n",
       "    <tr>\n",
       "      <th>KNeighborsClassifier</th>\n",
       "      <td>0.880724</td>\n",
       "      <td>427.0</td>\n",
       "      <td>7651.0</td>\n",
       "      <td>315.0</td>\n",
       "      <td>779.0</td>\n",
       "      <td>0.039543</td>\n",
       "      <td>0.645937</td>\n",
       "      <td>0.657260</td>\n",
       "    </tr>\n",
       "    <tr>\n",
       "      <th>LogisticRegression</th>\n",
       "      <td>0.839184</td>\n",
       "      <td>1097.0</td>\n",
       "      <td>6600.0</td>\n",
       "      <td>1366.0</td>\n",
       "      <td>109.0</td>\n",
       "      <td>0.171479</td>\n",
       "      <td>0.090381</td>\n",
       "      <td>0.869070</td>\n",
       "    </tr>\n",
       "    <tr>\n",
       "      <th>RandomForestClassifier</th>\n",
       "      <td>0.884104</td>\n",
       "      <td>1100.0</td>\n",
       "      <td>7009.0</td>\n",
       "      <td>957.0</td>\n",
       "      <td>106.0</td>\n",
       "      <td>0.120136</td>\n",
       "      <td>0.087894</td>\n",
       "      <td>0.895985</td>\n",
       "    </tr>\n",
       "    <tr>\n",
       "      <th>AdaBoostClassifier</th>\n",
       "      <td>0.851396</td>\n",
       "      <td>1094.0</td>\n",
       "      <td>6715.0</td>\n",
       "      <td>1251.0</td>\n",
       "      <td>112.0</td>\n",
       "      <td>0.157042</td>\n",
       "      <td>0.092869</td>\n",
       "      <td>0.875044</td>\n",
       "    </tr>\n",
       "    <tr>\n",
       "      <th>GradientBoostingClassifier</th>\n",
       "      <td>0.882141</td>\n",
       "      <td>1097.0</td>\n",
       "      <td>6994.0</td>\n",
       "      <td>972.0</td>\n",
       "      <td>109.0</td>\n",
       "      <td>0.122019</td>\n",
       "      <td>0.090381</td>\n",
       "      <td>0.893800</td>\n",
       "    </tr>\n",
       "    <tr>\n",
       "      <th>ExtraTreeClassifier</th>\n",
       "      <td>0.883014</td>\n",
       "      <td>1102.0</td>\n",
       "      <td>6997.0</td>\n",
       "      <td>969.0</td>\n",
       "      <td>104.0</td>\n",
       "      <td>0.121642</td>\n",
       "      <td>0.086235</td>\n",
       "      <td>0.896061</td>\n",
       "    </tr>\n",
       "    <tr>\n",
       "      <th>BaggingClassifier</th>\n",
       "      <td>0.882141</td>\n",
       "      <td>1102.0</td>\n",
       "      <td>6989.0</td>\n",
       "      <td>977.0</td>\n",
       "      <td>104.0</td>\n",
       "      <td>0.122646</td>\n",
       "      <td>0.086235</td>\n",
       "      <td>0.895559</td>\n",
       "    </tr>\n",
       "    <tr>\n",
       "      <th>Neural Network-1</th>\n",
       "      <td>0.881705</td>\n",
       "      <td>1109.0</td>\n",
       "      <td>6978.0</td>\n",
       "      <td>988.0</td>\n",
       "      <td>97.0</td>\n",
       "      <td>0.124027</td>\n",
       "      <td>0.080431</td>\n",
       "      <td>0.895559</td>\n",
       "    </tr>\n",
       "  </tbody>\n",
       "</table>\n",
       "</div>"
      ],
      "text/plain": [
       "                            accuracy      TP      TN      FP     FN       FPR  \\\n",
       "index                                                                           \n",
       "KNeighborsClassifier        0.880724   427.0  7651.0   315.0  779.0  0.039543   \n",
       "LogisticRegression          0.839184  1097.0  6600.0  1366.0  109.0  0.171479   \n",
       "RandomForestClassifier      0.884104  1100.0  7009.0   957.0  106.0  0.120136   \n",
       "AdaBoostClassifier          0.851396  1094.0  6715.0  1251.0  112.0  0.157042   \n",
       "GradientBoostingClassifier  0.882141  1097.0  6994.0   972.0  109.0  0.122019   \n",
       "ExtraTreeClassifier         0.883014  1102.0  6997.0   969.0  104.0  0.121642   \n",
       "BaggingClassifier           0.882141  1102.0  6989.0   977.0  104.0  0.122646   \n",
       "Neural Network-1            0.881705  1109.0  6978.0   988.0   97.0  0.124027   \n",
       "\n",
       "                                 FNR       auc  \n",
       "index                                           \n",
       "KNeighborsClassifier        0.645937  0.657260  \n",
       "LogisticRegression          0.090381  0.869070  \n",
       "RandomForestClassifier      0.087894  0.895985  \n",
       "AdaBoostClassifier          0.092869  0.875044  \n",
       "GradientBoostingClassifier  0.090381  0.893800  \n",
       "ExtraTreeClassifier         0.086235  0.896061  \n",
       "BaggingClassifier           0.086235  0.895559  \n",
       "Neural Network-1            0.080431  0.895559  "
      ]
     },
     "metadata": {},
     "output_type": "display_data"
    }
   ],
   "source": [
    "table_80_80_train['index']=ind_columns\n",
    "table_80_80_test['index']=ind_columns\n",
    "\n",
    "\n",
    "table_80_80_test.set_index(['index'],drop=True,inplace=True)\n",
    "table_80_80_train.set_index(['index'],drop=True,inplace=True)\n",
    "\n",
    "print(\"Training Results\")\n",
    "display(table_80_80_train)\n",
    "print(\"Test Results\")\n",
    "display(table_80_80_test)"
   ]
  },
  {
   "cell_type": "markdown",
   "metadata": {},
   "source": [
    "### <a id='4.B' style=\"text-decoration : none; color : #000000;\"> B. Average Feature Importances</a>"
   ]
  },
  {
   "cell_type": "code",
   "execution_count": 69,
   "metadata": {},
   "outputs": [
    {
     "data": {
      "application/vnd.plotly.v1+json": {
       "config": {
        "linkText": "Export to plot.ly",
        "plotlyServerURL": "https://plot.ly",
        "showLink": true
       },
       "data": [
        {
         "marker": {
          "color": "rgb(158,202,225)",
          "line": {
           "color": "rgb(8,48,107)",
           "width": 1.5
          }
         },
         "opacity": 0.6,
         "orientation": "h",
         "text": [
          0.2503,
          0.2189,
          0.0871,
          0.0837,
          0.0482,
          0.0395,
          0.0392,
          0.0297,
          0.0244,
          0.0239,
          0.019,
          0.018,
          0.016,
          0.0141,
          0.0134,
          0.0125,
          0.0125,
          0.0124,
          0.0123,
          0.0105,
          0.0072,
          0.007
         ],
         "textposition": "outside",
         "type": "bar",
         "uid": "2ab20ed7-b639-4663-89e3-95f68068e6d3",
         "x": [
          0.25031294074210436,
          0.218871254037859,
          0.08713770309635205,
          0.08366957406406118,
          0.048231538856336284,
          0.03950330772792213,
          0.039205961234247,
          0.029693887799126704,
          0.024387883690907657,
          0.023862393709595166,
          0.018991346896026405,
          0.018044536961478574,
          0.0160331895720766,
          0.014147410614258732,
          0.013437873393318145,
          0.012548869172176843,
          0.012520879873577664,
          0.012408432913768318,
          0.012294866326808455,
          0.010464458300459499,
          0.007244213795491956,
          0.006987477222047279
         ],
         "y": [
          "http_header_content-encoding_gzip",
          "http_header_content-length",
          "http_header_vary_accept",
          "http_header_transfer-encoding_chunked",
          "http_header_cache-control_set_max-age",
          "http_header_content-language_text/html",
          "http_header_server_apache",
          "http_header_connection_keep-alive",
          "http_header_cache-control_set_no-store",
          "http_header_server_nginx",
          "http_header_pragmano-cache",
          "http_header_via_1.1",
          "http_header_cache-control_set_private",
          "http_header_x-cintent-type-options_nosniff",
          "http_header_vary_age",
          "http_header_cache-control_set_must-revalidate",
          "http_header_strict-transport-security_max-age",
          "http_header_expect-ctmax-age",
          "http_header_x-xss-enabled",
          "http_header_cache-control_set_no-cache",
          "http_header_connection_close",
          "http_header_cache-control_set_public"
         ]
        }
       ],
       "layout": {
        "autosize": false,
        "height": 1000,
        "width": 1000,
        "xaxis": {
         "tickfont": {
          "color": "black",
          "size": 12
         },
         "title": "Feature Importances"
        },
        "yaxis": {
         "automargin": true
        }
       }
      },
      "text/html": [
       "<div id=\"370987c1-27ad-451e-9408-3905755bbac5\" style=\"height: 1000px; width: 1000px;\" class=\"plotly-graph-div\"></div><script type=\"text/javascript\">require([\"plotly\"], function(Plotly) { window.PLOTLYENV=window.PLOTLYENV || {};window.PLOTLYENV.BASE_URL=\"https://plot.ly\";Plotly.newPlot(\"370987c1-27ad-451e-9408-3905755bbac5\", [{\"marker\": {\"color\": \"rgb(158,202,225)\", \"line\": {\"color\": \"rgb(8,48,107)\", \"width\": 1.5}}, \"opacity\": 0.6, \"orientation\": \"h\", \"text\": [0.2503, 0.2189, 0.0871, 0.0837, 0.0482, 0.0395, 0.0392, 0.0297, 0.0244, 0.0239, 0.019, 0.018, 0.016, 0.0141, 0.0134, 0.0125, 0.0125, 0.0124, 0.0123, 0.0105, 0.0072, 0.007], \"textposition\": \"outside\", \"x\": [0.25031294074210436, 0.218871254037859, 0.08713770309635205, 0.08366957406406118, 0.048231538856336284, 0.03950330772792213, 0.039205961234247, 0.029693887799126704, 0.024387883690907657, 0.023862393709595166, 0.018991346896026405, 0.018044536961478574, 0.0160331895720766, 0.014147410614258732, 0.013437873393318145, 0.012548869172176843, 0.012520879873577664, 0.012408432913768318, 0.012294866326808455, 0.010464458300459499, 0.007244213795491956, 0.006987477222047279], \"y\": [\"http_header_content-encoding_gzip\", \"http_header_content-length\", \"http_header_vary_accept\", \"http_header_transfer-encoding_chunked\", \"http_header_cache-control_set_max-age\", \"http_header_content-language_text/html\", \"http_header_server_apache\", \"http_header_connection_keep-alive\", \"http_header_cache-control_set_no-store\", \"http_header_server_nginx\", \"http_header_pragmano-cache\", \"http_header_via_1.1\", \"http_header_cache-control_set_private\", \"http_header_x-cintent-type-options_nosniff\", \"http_header_vary_age\", \"http_header_cache-control_set_must-revalidate\", \"http_header_strict-transport-security_max-age\", \"http_header_expect-ctmax-age\", \"http_header_x-xss-enabled\", \"http_header_cache-control_set_no-cache\", \"http_header_connection_close\", \"http_header_cache-control_set_public\"], \"type\": \"bar\", \"uid\": \"2ab20ed7-b639-4663-89e3-95f68068e6d3\"}], {\"autosize\": false, \"height\": 1000, \"width\": 1000, \"xaxis\": {\"tickfont\": {\"color\": \"black\", \"size\": 12}, \"title\": \"Feature Importances\"}, \"yaxis\": {\"automargin\": true}}, {\"showLink\": true, \"linkText\": \"Export to plot.ly\", \"plotlyServerURL\": \"https://plot.ly\"})});</script>"
      ],
      "text/vnd.plotly.v1+html": [
       "<div id=\"370987c1-27ad-451e-9408-3905755bbac5\" style=\"height: 1000px; width: 1000px;\" class=\"plotly-graph-div\"></div><script type=\"text/javascript\">require([\"plotly\"], function(Plotly) { window.PLOTLYENV=window.PLOTLYENV || {};window.PLOTLYENV.BASE_URL=\"https://plot.ly\";Plotly.newPlot(\"370987c1-27ad-451e-9408-3905755bbac5\", [{\"marker\": {\"color\": \"rgb(158,202,225)\", \"line\": {\"color\": \"rgb(8,48,107)\", \"width\": 1.5}}, \"opacity\": 0.6, \"orientation\": \"h\", \"text\": [0.2503, 0.2189, 0.0871, 0.0837, 0.0482, 0.0395, 0.0392, 0.0297, 0.0244, 0.0239, 0.019, 0.018, 0.016, 0.0141, 0.0134, 0.0125, 0.0125, 0.0124, 0.0123, 0.0105, 0.0072, 0.007], \"textposition\": \"outside\", \"x\": [0.25031294074210436, 0.218871254037859, 0.08713770309635205, 0.08366957406406118, 0.048231538856336284, 0.03950330772792213, 0.039205961234247, 0.029693887799126704, 0.024387883690907657, 0.023862393709595166, 0.018991346896026405, 0.018044536961478574, 0.0160331895720766, 0.014147410614258732, 0.013437873393318145, 0.012548869172176843, 0.012520879873577664, 0.012408432913768318, 0.012294866326808455, 0.010464458300459499, 0.007244213795491956, 0.006987477222047279], \"y\": [\"http_header_content-encoding_gzip\", \"http_header_content-length\", \"http_header_vary_accept\", \"http_header_transfer-encoding_chunked\", \"http_header_cache-control_set_max-age\", \"http_header_content-language_text/html\", \"http_header_server_apache\", \"http_header_connection_keep-alive\", \"http_header_cache-control_set_no-store\", \"http_header_server_nginx\", \"http_header_pragmano-cache\", \"http_header_via_1.1\", \"http_header_cache-control_set_private\", \"http_header_x-cintent-type-options_nosniff\", \"http_header_vary_age\", \"http_header_cache-control_set_must-revalidate\", \"http_header_strict-transport-security_max-age\", \"http_header_expect-ctmax-age\", \"http_header_x-xss-enabled\", \"http_header_cache-control_set_no-cache\", \"http_header_connection_close\", \"http_header_cache-control_set_public\"], \"type\": \"bar\", \"uid\": \"2ab20ed7-b639-4663-89e3-95f68068e6d3\"}], {\"autosize\": false, \"height\": 1000, \"width\": 1000, \"xaxis\": {\"tickfont\": {\"color\": \"black\", \"size\": 12}, \"title\": \"Feature Importances\"}, \"yaxis\": {\"automargin\": true}}, {\"showLink\": true, \"linkText\": \"Export to plot.ly\", \"plotlyServerURL\": \"https://plot.ly\"})});</script>"
      ]
     },
     "metadata": {},
     "output_type": "display_data"
    }
   ],
   "source": [
    "feat_impt_plot(np.average(feat_imp,axis=0),columns)"
   ]
  },
  {
   "cell_type": "markdown",
   "metadata": {},
   "source": [
    "### <a id='5' style=\"text-decoration : none; color : #000000;\"> 6. Under Sampling</a>"
   ]
  },
  {
   "cell_type": "code",
   "execution_count": 74,
   "metadata": {},
   "outputs": [
    {
     "name": "stdout",
     "output_type": "stream",
     "text": [
      "Shape after undersampling (12042, 22)\n"
     ]
    }
   ],
   "source": [
    "df_non=df[df.Target==0]\n",
    "df_mal=df[df.Target==1]\n",
    "\n",
    "df_non=df_non.sample(frac=len(df_mal)/len(df_non),random_state=0)\n",
    "df_u=df_non.append(df_mal)\n",
    "df_u.Target.value_counts() \n",
    "\n",
    "X=df_u[http_columns]\n",
    "y=df_u.Target.values\n",
    "\n",
    "feature_name = X.columns.tolist()\n",
    "print(\"Shape after undersampling\",X.shape)\n"
   ]
  },
  {
   "cell_type": "code",
   "execution_count": 75,
   "metadata": {},
   "outputs": [
    {
     "name": "stdout",
     "output_type": "stream",
     "text": [
      "The train/test split ratio is 80:20\n"
     ]
    }
   ],
   "source": [
    "scaler=StandardScaler()\n",
    "scaled_X=scaler.fit_transform(X)\n",
    "\n",
    "print(\"The train/test split ratio is 80:20\")\n",
    "X_train, X_test, Y_train, Y_test = train_test_split(scaled_X,y,random_state=0,test_size=0.2)\n"
   ]
  },
  {
   "cell_type": "code",
   "execution_count": 76,
   "metadata": {
    "collapsed": true
   },
   "outputs": [],
   "source": [
    "## Table to store training and test measures so we can compare later\n",
    "table_80_90_train=pd.DataFrame(columns=['accuracy','TP','TN','FP','FN','FPR','FNR'])\n",
    "table_80_90_test=pd.DataFrame(columns=['accuracy','TP','TN','FP','FN','FPR','FNR','auc'])"
   ]
  },
  {
   "cell_type": "code",
   "execution_count": 77,
   "metadata": {},
   "outputs": [
    {
     "name": "stdout",
     "output_type": "stream",
     "text": [
      "Features we will be using:\n",
      "\n"
     ]
    },
    {
     "data": {
      "text/plain": [
       "['http_header_cache-control_set_max-age',\n",
       " 'http_header_cache-control_set_must-revalidate',\n",
       " 'http_header_cache-control_set_no-cache',\n",
       " 'http_header_cache-control_set_no-store',\n",
       " 'http_header_cache-control_set_private',\n",
       " 'http_header_cache-control_set_public',\n",
       " 'http_header_connection_close',\n",
       " 'http_header_connection_keep-alive',\n",
       " 'http_header_content-encoding_gzip',\n",
       " 'http_header_content-language_text/html',\n",
       " 'http_header_content-length',\n",
       " 'http_header_expect-ctmax-age',\n",
       " 'http_header_pragmano-cache',\n",
       " 'http_header_server_apache',\n",
       " 'http_header_server_nginx',\n",
       " 'http_header_strict-transport-security_max-age',\n",
       " 'http_header_transfer-encoding_chunked',\n",
       " 'http_header_vary_accept',\n",
       " 'http_header_vary_age',\n",
       " 'http_header_via_1.1',\n",
       " 'http_header_x-cintent-type-options_nosniff',\n",
       " 'http_header_x-xss-enabled']"
      ]
     },
     "metadata": {},
     "output_type": "display_data"
    }
   ],
   "source": [
    "print('Features we will be using:\\n')\n",
    "display(columns)"
   ]
  },
  {
   "cell_type": "code",
   "execution_count": 78,
   "metadata": {
    "scrolled": false
   },
   "outputs": [
    {
     "name": "stdout",
     "output_type": "stream",
     "text": [
      "\u001b[1mK-Nearest Neighbors\u001b[0m\n",
      "Accuracy of the model for training data is: 0.899304474203\n",
      "Confusion Matrix for training data is:\n"
     ]
    },
    {
     "data": {
      "text/plain": [
       "Predicted  False  True  __all__\n",
       "Actual                         \n",
       "False       4280   558     4838\n",
       "True         412  4383     4795\n",
       "__all__     4692  4941     9633"
      ]
     },
     "metadata": {},
     "output_type": "display_data"
    },
    {
     "name": "stdout",
     "output_type": "stream",
     "text": [
      "Accuracy of the model for test data is: 0.889580738896\n",
      "Confusion Matrix for test data is:\n"
     ]
    },
    {
     "data": {
      "text/plain": [
       "Predicted  False  True  __all__\n",
       "Actual                         \n",
       "False       1036   147     1183\n",
       "True         119  1107     1226\n",
       "__all__     1155  1254     2409"
      ]
     },
     "metadata": {},
     "output_type": "display_data"
    },
    {
     "name": "stdout",
     "output_type": "stream",
     "text": [
      "\n",
      "\n",
      "\u001b[1mLogistic Regression\u001b[0m\n",
      "Accuracy of the model for training data is: 0.859337693346\n",
      "Confusion Matrix for training data is:\n"
     ]
    },
    {
     "data": {
      "text/plain": [
       "Predicted  False  True  __all__\n",
       "Actual                         \n",
       "False       4011   827     4838\n",
       "True         528  4267     4795\n",
       "__all__     4539  5094     9633"
      ]
     },
     "metadata": {},
     "output_type": "display_data"
    },
    {
     "name": "stdout",
     "output_type": "stream",
     "text": [
      "Accuracy of the model for test data is: 0.870485678705\n",
      "Confusion Matrix for test data is:\n"
     ]
    },
    {
     "data": {
      "text/plain": [
       "Predicted  False  True  __all__\n",
       "Actual                         \n",
       "False        992   191     1183\n",
       "True         121  1105     1226\n",
       "__all__     1113  1296     2409"
      ]
     },
     "metadata": {},
     "output_type": "display_data"
    },
    {
     "name": "stdout",
     "output_type": "stream",
     "text": [
      "\n",
      "\n",
      "\u001b[1mRandomForest Classifier\u001b[0m\n",
      "Accuracy of the model for training data is: 0.925256929306\n",
      "Confusion Matrix for training data is:\n"
     ]
    },
    {
     "data": {
      "text/plain": [
       "Predicted  False  True  __all__\n",
       "Actual                         \n",
       "False       4304   534     4838\n",
       "True         186  4609     4795\n",
       "__all__     4490  5143     9633"
      ]
     },
     "metadata": {},
     "output_type": "display_data"
    },
    {
     "name": "stdout",
     "output_type": "stream",
     "text": [
      "Accuracy of the model for test data is: 0.893316728933\n",
      "Confusion Matrix for test data is:\n"
     ]
    },
    {
     "data": {
      "text/plain": [
       "Predicted  False  True  __all__\n",
       "Actual                         \n",
       "False       1026   157     1183\n",
       "True         100  1126     1226\n",
       "__all__     1126  1283     2409"
      ]
     },
     "metadata": {},
     "output_type": "display_data"
    },
    {
     "data": {
      "application/vnd.plotly.v1+json": {
       "config": {
        "linkText": "Export to plot.ly",
        "plotlyServerURL": "https://plot.ly",
        "showLink": true
       },
       "data": [
        {
         "marker": {
          "color": "rgb(158,202,225)",
          "line": {
           "color": "rgb(8,48,107)",
           "width": 1.5
          }
         },
         "opacity": 0.6,
         "orientation": "h",
         "text": [
          0.2249,
          0.2222,
          0.0867,
          0.0852,
          0.0613,
          0.0553,
          0.0548,
          0.0252,
          0.0214,
          0.0206,
          0.0199,
          0.0179,
          0.0172,
          0.0167,
          0.0131,
          0.0126,
          0.0108,
          0.0099,
          0.0094,
          0.0062,
          0.005,
          0.0038
         ],
         "textposition": "outside",
         "type": "bar",
         "uid": "56cae19e-2fd8-41ba-a76b-d0013c28a601",
         "x": [
          0.22489270888033838,
          0.22223225013753373,
          0.08666698689005517,
          0.08519356300481966,
          0.061327084268150665,
          0.05525482818831155,
          0.05478392479395979,
          0.025159712301461523,
          0.021364863202942397,
          0.020614984635944883,
          0.019879048231256292,
          0.017935640918425654,
          0.017234689089809855,
          0.01665120285512952,
          0.01311994392165081,
          0.012598524932447916,
          0.010792352529348969,
          0.00987986407629395,
          0.009373512291418248,
          0.006245239338756042,
          0.00499622994989789,
          0.0038028455620470456
         ],
         "y": [
          "http_header_content-encoding_gzip",
          "http_header_content-length",
          "http_header_transfer-encoding_chunked",
          "http_header_vary_accept",
          "http_header_connection_keep-alive",
          "http_header_server_apache",
          "http_header_content-language_text/html",
          "http_header_server_nginx",
          "http_header_cache-control_set_no-cache",
          "http_header_x-cintent-type-options_nosniff",
          "http_header_cache-control_set_max-age",
          "http_header_pragmano-cache",
          "http_header_cache-control_set_private",
          "http_header_cache-control_set_must-revalidate",
          "http_header_vary_age",
          "http_header_via_1.1",
          "http_header_connection_close",
          "http_header_cache-control_set_no-store",
          "http_header_strict-transport-security_max-age",
          "http_header_x-xss-enabled",
          "http_header_expect-ctmax-age",
          "http_header_cache-control_set_public"
         ]
        }
       ],
       "layout": {
        "autosize": false,
        "height": 1000,
        "width": 1000,
        "xaxis": {
         "tickfont": {
          "color": "black",
          "size": 12
         },
         "title": "Feature Importances"
        },
        "yaxis": {
         "automargin": true
        }
       }
      },
      "text/html": [
       "<div id=\"f1b98a5a-4029-412e-8f3e-fec0e0bec55a\" style=\"height: 1000px; width: 1000px;\" class=\"plotly-graph-div\"></div><script type=\"text/javascript\">require([\"plotly\"], function(Plotly) { window.PLOTLYENV=window.PLOTLYENV || {};window.PLOTLYENV.BASE_URL=\"https://plot.ly\";Plotly.newPlot(\"f1b98a5a-4029-412e-8f3e-fec0e0bec55a\", [{\"marker\": {\"color\": \"rgb(158,202,225)\", \"line\": {\"color\": \"rgb(8,48,107)\", \"width\": 1.5}}, \"opacity\": 0.6, \"orientation\": \"h\", \"text\": [0.2249, 0.2222, 0.0867, 0.0852, 0.0613, 0.0553, 0.0548, 0.0252, 0.0214, 0.0206, 0.0199, 0.0179, 0.0172, 0.0167, 0.0131, 0.0126, 0.0108, 0.0099, 0.0094, 0.0062, 0.005, 0.0038], \"textposition\": \"outside\", \"x\": [0.22489270888033838, 0.22223225013753373, 0.08666698689005517, 0.08519356300481966, 0.061327084268150665, 0.05525482818831155, 0.05478392479395979, 0.025159712301461523, 0.021364863202942397, 0.020614984635944883, 0.019879048231256292, 0.017935640918425654, 0.017234689089809855, 0.01665120285512952, 0.01311994392165081, 0.012598524932447916, 0.010792352529348969, 0.00987986407629395, 0.009373512291418248, 0.006245239338756042, 0.00499622994989789, 0.0038028455620470456], \"y\": [\"http_header_content-encoding_gzip\", \"http_header_content-length\", \"http_header_transfer-encoding_chunked\", \"http_header_vary_accept\", \"http_header_connection_keep-alive\", \"http_header_server_apache\", \"http_header_content-language_text/html\", \"http_header_server_nginx\", \"http_header_cache-control_set_no-cache\", \"http_header_x-cintent-type-options_nosniff\", \"http_header_cache-control_set_max-age\", \"http_header_pragmano-cache\", \"http_header_cache-control_set_private\", \"http_header_cache-control_set_must-revalidate\", \"http_header_vary_age\", \"http_header_via_1.1\", \"http_header_connection_close\", \"http_header_cache-control_set_no-store\", \"http_header_strict-transport-security_max-age\", \"http_header_x-xss-enabled\", \"http_header_expect-ctmax-age\", \"http_header_cache-control_set_public\"], \"type\": \"bar\", \"uid\": \"56cae19e-2fd8-41ba-a76b-d0013c28a601\"}], {\"autosize\": false, \"height\": 1000, \"width\": 1000, \"xaxis\": {\"tickfont\": {\"color\": \"black\", \"size\": 12}, \"title\": \"Feature Importances\"}, \"yaxis\": {\"automargin\": true}}, {\"showLink\": true, \"linkText\": \"Export to plot.ly\", \"plotlyServerURL\": \"https://plot.ly\"})});</script>"
      ],
      "text/vnd.plotly.v1+html": [
       "<div id=\"f1b98a5a-4029-412e-8f3e-fec0e0bec55a\" style=\"height: 1000px; width: 1000px;\" class=\"plotly-graph-div\"></div><script type=\"text/javascript\">require([\"plotly\"], function(Plotly) { window.PLOTLYENV=window.PLOTLYENV || {};window.PLOTLYENV.BASE_URL=\"https://plot.ly\";Plotly.newPlot(\"f1b98a5a-4029-412e-8f3e-fec0e0bec55a\", [{\"marker\": {\"color\": \"rgb(158,202,225)\", \"line\": {\"color\": \"rgb(8,48,107)\", \"width\": 1.5}}, \"opacity\": 0.6, \"orientation\": \"h\", \"text\": [0.2249, 0.2222, 0.0867, 0.0852, 0.0613, 0.0553, 0.0548, 0.0252, 0.0214, 0.0206, 0.0199, 0.0179, 0.0172, 0.0167, 0.0131, 0.0126, 0.0108, 0.0099, 0.0094, 0.0062, 0.005, 0.0038], \"textposition\": \"outside\", \"x\": [0.22489270888033838, 0.22223225013753373, 0.08666698689005517, 0.08519356300481966, 0.061327084268150665, 0.05525482818831155, 0.05478392479395979, 0.025159712301461523, 0.021364863202942397, 0.020614984635944883, 0.019879048231256292, 0.017935640918425654, 0.017234689089809855, 0.01665120285512952, 0.01311994392165081, 0.012598524932447916, 0.010792352529348969, 0.00987986407629395, 0.009373512291418248, 0.006245239338756042, 0.00499622994989789, 0.0038028455620470456], \"y\": [\"http_header_content-encoding_gzip\", \"http_header_content-length\", \"http_header_transfer-encoding_chunked\", \"http_header_vary_accept\", \"http_header_connection_keep-alive\", \"http_header_server_apache\", \"http_header_content-language_text/html\", \"http_header_server_nginx\", \"http_header_cache-control_set_no-cache\", \"http_header_x-cintent-type-options_nosniff\", \"http_header_cache-control_set_max-age\", \"http_header_pragmano-cache\", \"http_header_cache-control_set_private\", \"http_header_cache-control_set_must-revalidate\", \"http_header_vary_age\", \"http_header_via_1.1\", \"http_header_connection_close\", \"http_header_cache-control_set_no-store\", \"http_header_strict-transport-security_max-age\", \"http_header_x-xss-enabled\", \"http_header_expect-ctmax-age\", \"http_header_cache-control_set_public\"], \"type\": \"bar\", \"uid\": \"56cae19e-2fd8-41ba-a76b-d0013c28a601\"}], {\"autosize\": false, \"height\": 1000, \"width\": 1000, \"xaxis\": {\"tickfont\": {\"color\": \"black\", \"size\": 12}, \"title\": \"Feature Importances\"}, \"yaxis\": {\"automargin\": true}}, {\"showLink\": true, \"linkText\": \"Export to plot.ly\", \"plotlyServerURL\": \"https://plot.ly\"})});</script>"
      ]
     },
     "metadata": {},
     "output_type": "display_data"
    },
    {
     "name": "stdout",
     "output_type": "stream",
     "text": [
      "\n",
      "\n",
      "\u001b[1mAdaoost Classifier\u001b[0m\n",
      "Accuracy of the model for training data is: 0.860583411191\n",
      "Confusion Matrix for training data is:\n"
     ]
    },
    {
     "data": {
      "text/plain": [
       "Predicted  False  True  __all__\n",
       "Actual                         \n",
       "False       4060   778     4838\n",
       "True         565  4230     4795\n",
       "__all__     4625  5008     9633"
      ]
     },
     "metadata": {},
     "output_type": "display_data"
    },
    {
     "name": "stdout",
     "output_type": "stream",
     "text": [
      "Accuracy of the model for test data is: 0.865504358655\n",
      "Confusion Matrix for test data is:\n"
     ]
    },
    {
     "data": {
      "text/plain": [
       "Predicted  False  True  __all__\n",
       "Actual                         \n",
       "False       1005   178     1183\n",
       "True         146  1080     1226\n",
       "__all__     1151  1258     2409"
      ]
     },
     "metadata": {},
     "output_type": "display_data"
    },
    {
     "data": {
      "application/vnd.plotly.v1+json": {
       "config": {
        "linkText": "Export to plot.ly",
        "plotlyServerURL": "https://plot.ly",
        "showLink": true
       },
       "data": [
        {
         "marker": {
          "color": "rgb(158,202,225)",
          "line": {
           "color": "rgb(8,48,107)",
           "width": 1.5
          }
         },
         "opacity": 0.6,
         "orientation": "h",
         "text": [
          0.44,
          0.12,
          0.1,
          0.04,
          0.04,
          0.04,
          0.04,
          0.04,
          0.04,
          0.02,
          0.02,
          0.02,
          0.02,
          0.02,
          0,
          0,
          0,
          0,
          0,
          0,
          0,
          0
         ],
         "textposition": "outside",
         "type": "bar",
         "uid": "66d3cd5a-0409-4c49-a89c-f908fdb87961",
         "x": [
          0.44,
          0.12,
          0.1,
          0.04,
          0.04,
          0.04,
          0.04,
          0.04,
          0.04,
          0.02,
          0.02,
          0.02,
          0.02,
          0.02,
          0,
          0,
          0,
          0,
          0,
          0,
          0,
          0
         ],
         "y": [
          "http_header_content-length",
          "http_header_content-encoding_gzip",
          "http_header_transfer-encoding_chunked",
          "http_header_cache-control_set_max-age",
          "http_header_pragmano-cache",
          "http_header_via_1.1",
          "http_header_cache-control_set_no-store",
          "http_header_vary_accept",
          "http_header_connection_keep-alive",
          "http_header_server_nginx",
          "http_header_server_apache",
          "http_header_expect-ctmax-age",
          "http_header_cache-control_set_private",
          "http_header_x-xss-enabled",
          "http_header_cache-control_set_must-revalidate",
          "http_header_content-language_text/html",
          "http_header_connection_close",
          "http_header_strict-transport-security_max-age",
          "http_header_cache-control_set_public",
          "http_header_vary_age",
          "http_header_cache-control_set_no-cache",
          "http_header_x-cintent-type-options_nosniff"
         ]
        }
       ],
       "layout": {
        "autosize": false,
        "height": 1000,
        "width": 1000,
        "xaxis": {
         "tickfont": {
          "color": "black",
          "size": 12
         },
         "title": "Feature Importances"
        },
        "yaxis": {
         "automargin": true
        }
       }
      },
      "text/html": [
       "<div id=\"458a8792-8e55-450f-929e-d7ce65d3852b\" style=\"height: 1000px; width: 1000px;\" class=\"plotly-graph-div\"></div><script type=\"text/javascript\">require([\"plotly\"], function(Plotly) { window.PLOTLYENV=window.PLOTLYENV || {};window.PLOTLYENV.BASE_URL=\"https://plot.ly\";Plotly.newPlot(\"458a8792-8e55-450f-929e-d7ce65d3852b\", [{\"marker\": {\"color\": \"rgb(158,202,225)\", \"line\": {\"color\": \"rgb(8,48,107)\", \"width\": 1.5}}, \"opacity\": 0.6, \"orientation\": \"h\", \"text\": [0.44, 0.12, 0.1, 0.04, 0.04, 0.04, 0.04, 0.04, 0.04, 0.02, 0.02, 0.02, 0.02, 0.02, 0.0, 0.0, 0.0, 0.0, 0.0, 0.0, 0.0, 0.0], \"textposition\": \"outside\", \"x\": [0.44, 0.12, 0.1, 0.04, 0.04, 0.04, 0.04, 0.04, 0.04, 0.02, 0.02, 0.02, 0.02, 0.02, 0.0, 0.0, 0.0, 0.0, 0.0, 0.0, 0.0, 0.0], \"y\": [\"http_header_content-length\", \"http_header_content-encoding_gzip\", \"http_header_transfer-encoding_chunked\", \"http_header_cache-control_set_max-age\", \"http_header_pragmano-cache\", \"http_header_via_1.1\", \"http_header_cache-control_set_no-store\", \"http_header_vary_accept\", \"http_header_connection_keep-alive\", \"http_header_server_nginx\", \"http_header_server_apache\", \"http_header_expect-ctmax-age\", \"http_header_cache-control_set_private\", \"http_header_x-xss-enabled\", \"http_header_cache-control_set_must-revalidate\", \"http_header_content-language_text/html\", \"http_header_connection_close\", \"http_header_strict-transport-security_max-age\", \"http_header_cache-control_set_public\", \"http_header_vary_age\", \"http_header_cache-control_set_no-cache\", \"http_header_x-cintent-type-options_nosniff\"], \"type\": \"bar\", \"uid\": \"66d3cd5a-0409-4c49-a89c-f908fdb87961\"}], {\"autosize\": false, \"height\": 1000, \"width\": 1000, \"xaxis\": {\"tickfont\": {\"color\": \"black\", \"size\": 12}, \"title\": \"Feature Importances\"}, \"yaxis\": {\"automargin\": true}}, {\"showLink\": true, \"linkText\": \"Export to plot.ly\", \"plotlyServerURL\": \"https://plot.ly\"})});</script>"
      ],
      "text/vnd.plotly.v1+html": [
       "<div id=\"458a8792-8e55-450f-929e-d7ce65d3852b\" style=\"height: 1000px; width: 1000px;\" class=\"plotly-graph-div\"></div><script type=\"text/javascript\">require([\"plotly\"], function(Plotly) { window.PLOTLYENV=window.PLOTLYENV || {};window.PLOTLYENV.BASE_URL=\"https://plot.ly\";Plotly.newPlot(\"458a8792-8e55-450f-929e-d7ce65d3852b\", [{\"marker\": {\"color\": \"rgb(158,202,225)\", \"line\": {\"color\": \"rgb(8,48,107)\", \"width\": 1.5}}, \"opacity\": 0.6, \"orientation\": \"h\", \"text\": [0.44, 0.12, 0.1, 0.04, 0.04, 0.04, 0.04, 0.04, 0.04, 0.02, 0.02, 0.02, 0.02, 0.02, 0.0, 0.0, 0.0, 0.0, 0.0, 0.0, 0.0, 0.0], \"textposition\": \"outside\", \"x\": [0.44, 0.12, 0.1, 0.04, 0.04, 0.04, 0.04, 0.04, 0.04, 0.02, 0.02, 0.02, 0.02, 0.02, 0.0, 0.0, 0.0, 0.0, 0.0, 0.0, 0.0, 0.0], \"y\": [\"http_header_content-length\", \"http_header_content-encoding_gzip\", \"http_header_transfer-encoding_chunked\", \"http_header_cache-control_set_max-age\", \"http_header_pragmano-cache\", \"http_header_via_1.1\", \"http_header_cache-control_set_no-store\", \"http_header_vary_accept\", \"http_header_connection_keep-alive\", \"http_header_server_nginx\", \"http_header_server_apache\", \"http_header_expect-ctmax-age\", \"http_header_cache-control_set_private\", \"http_header_x-xss-enabled\", \"http_header_cache-control_set_must-revalidate\", \"http_header_content-language_text/html\", \"http_header_connection_close\", \"http_header_strict-transport-security_max-age\", \"http_header_cache-control_set_public\", \"http_header_vary_age\", \"http_header_cache-control_set_no-cache\", \"http_header_x-cintent-type-options_nosniff\"], \"type\": \"bar\", \"uid\": \"66d3cd5a-0409-4c49-a89c-f908fdb87961\"}], {\"autosize\": false, \"height\": 1000, \"width\": 1000, \"xaxis\": {\"tickfont\": {\"color\": \"black\", \"size\": 12}, \"title\": \"Feature Importances\"}, \"yaxis\": {\"automargin\": true}}, {\"showLink\": true, \"linkText\": \"Export to plot.ly\", \"plotlyServerURL\": \"https://plot.ly\"})});</script>"
      ]
     },
     "metadata": {},
     "output_type": "display_data"
    },
    {
     "name": "stdout",
     "output_type": "stream",
     "text": [
      "\n",
      "\n",
      "\u001b[1mGradientBoosting Classifier\u001b[0m\n",
      "Accuracy of the model for training data is: 0.886951105575\n",
      "Confusion Matrix for training data is:\n"
     ]
    },
    {
     "data": {
      "text/plain": [
       "Predicted  False  True  __all__\n",
       "Actual                         \n",
       "False       4259   579     4838\n",
       "True         510  4285     4795\n",
       "__all__     4769  4864     9633"
      ]
     },
     "metadata": {},
     "output_type": "display_data"
    },
    {
     "name": "stdout",
     "output_type": "stream",
     "text": [
      "Accuracy of the model for test data is: 0.885429638854\n",
      "Confusion Matrix for test data is:\n"
     ]
    },
    {
     "data": {
      "text/plain": [
       "Predicted  False  True  __all__\n",
       "Actual                         \n",
       "False       1036   147     1183\n",
       "True         129  1097     1226\n",
       "__all__     1165  1244     2409"
      ]
     },
     "metadata": {},
     "output_type": "display_data"
    },
    {
     "data": {
      "application/vnd.plotly.v1+json": {
       "config": {
        "linkText": "Export to plot.ly",
        "plotlyServerURL": "https://plot.ly",
        "showLink": true
       },
       "data": [
        {
         "marker": {
          "color": "rgb(158,202,225)",
          "line": {
           "color": "rgb(8,48,107)",
           "width": 1.5
          }
         },
         "opacity": 0.6,
         "orientation": "h",
         "text": [
          0.582,
          0.2225,
          0.0653,
          0.0366,
          0.0139,
          0.0107,
          0.0104,
          0.0092,
          0.0086,
          0.0084,
          0.0051,
          0.0051,
          0.004,
          0.0034,
          0.0032,
          0.0027,
          0.0025,
          0.0021,
          0.0019,
          0.0013,
          0.0008,
          0.0003
         ],
         "textposition": "outside",
         "type": "bar",
         "uid": "693a359b-fc8f-45a4-965e-b0c9f87d61f1",
         "x": [
          0.5820351050579508,
          0.22251806717321845,
          0.06528336982733265,
          0.03658848423590997,
          0.013867825066461352,
          0.010687318046014483,
          0.010363960844127168,
          0.009211223886785384,
          0.00863412143183582,
          0.008362070820935411,
          0.005114334343480793,
          0.005108970475686121,
          0.004023061541370833,
          0.003423826688059017,
          0.003213300285177764,
          0.002717776935488482,
          0.002456899664811836,
          0.0021211329138369653,
          0.0019022870979567752,
          0.0012805830858448664,
          0.000796075327027168,
          0.00029020525068785077
         ],
         "y": [
          "http_header_content-encoding_gzip",
          "http_header_content-length",
          "http_header_transfer-encoding_chunked",
          "http_header_server_apache",
          "http_header_cache-control_set_max-age",
          "http_header_connection_close",
          "http_header_via_1.1",
          "http_header_vary_age",
          "http_header_vary_accept",
          "http_header_cache-control_set_must-revalidate",
          "http_header_cache-control_set_no-store",
          "http_header_server_nginx",
          "http_header_pragmano-cache",
          "http_header_strict-transport-security_max-age",
          "http_header_x-xss-enabled",
          "http_header_cache-control_set_private",
          "http_header_expect-ctmax-age",
          "http_header_content-language_text/html",
          "http_header_x-cintent-type-options_nosniff",
          "http_header_connection_keep-alive",
          "http_header_cache-control_set_no-cache",
          "http_header_cache-control_set_public"
         ]
        }
       ],
       "layout": {
        "autosize": false,
        "height": 1000,
        "width": 1000,
        "xaxis": {
         "tickfont": {
          "color": "black",
          "size": 12
         },
         "title": "Feature Importances"
        },
        "yaxis": {
         "automargin": true
        }
       }
      },
      "text/html": [
       "<div id=\"cb6c9ba7-fdd6-42f3-91eb-bd52657dadd7\" style=\"height: 1000px; width: 1000px;\" class=\"plotly-graph-div\"></div><script type=\"text/javascript\">require([\"plotly\"], function(Plotly) { window.PLOTLYENV=window.PLOTLYENV || {};window.PLOTLYENV.BASE_URL=\"https://plot.ly\";Plotly.newPlot(\"cb6c9ba7-fdd6-42f3-91eb-bd52657dadd7\", [{\"marker\": {\"color\": \"rgb(158,202,225)\", \"line\": {\"color\": \"rgb(8,48,107)\", \"width\": 1.5}}, \"opacity\": 0.6, \"orientation\": \"h\", \"text\": [0.582, 0.2225, 0.0653, 0.0366, 0.0139, 0.0107, 0.0104, 0.0092, 0.0086, 0.0084, 0.0051, 0.0051, 0.004, 0.0034, 0.0032, 0.0027, 0.0025, 0.0021, 0.0019, 0.0013, 0.0008, 0.0003], \"textposition\": \"outside\", \"x\": [0.5820351050579508, 0.22251806717321845, 0.06528336982733265, 0.03658848423590997, 0.013867825066461352, 0.010687318046014483, 0.010363960844127168, 0.009211223886785384, 0.00863412143183582, 0.008362070820935411, 0.005114334343480793, 0.005108970475686121, 0.004023061541370833, 0.003423826688059017, 0.003213300285177764, 0.002717776935488482, 0.002456899664811836, 0.0021211329138369653, 0.0019022870979567752, 0.0012805830858448664, 0.000796075327027168, 0.00029020525068785077], \"y\": [\"http_header_content-encoding_gzip\", \"http_header_content-length\", \"http_header_transfer-encoding_chunked\", \"http_header_server_apache\", \"http_header_cache-control_set_max-age\", \"http_header_connection_close\", \"http_header_via_1.1\", \"http_header_vary_age\", \"http_header_vary_accept\", \"http_header_cache-control_set_must-revalidate\", \"http_header_cache-control_set_no-store\", \"http_header_server_nginx\", \"http_header_pragmano-cache\", \"http_header_strict-transport-security_max-age\", \"http_header_x-xss-enabled\", \"http_header_cache-control_set_private\", \"http_header_expect-ctmax-age\", \"http_header_content-language_text/html\", \"http_header_x-cintent-type-options_nosniff\", \"http_header_connection_keep-alive\", \"http_header_cache-control_set_no-cache\", \"http_header_cache-control_set_public\"], \"type\": \"bar\", \"uid\": \"693a359b-fc8f-45a4-965e-b0c9f87d61f1\"}], {\"autosize\": false, \"height\": 1000, \"width\": 1000, \"xaxis\": {\"tickfont\": {\"color\": \"black\", \"size\": 12}, \"title\": \"Feature Importances\"}, \"yaxis\": {\"automargin\": true}}, {\"showLink\": true, \"linkText\": \"Export to plot.ly\", \"plotlyServerURL\": \"https://plot.ly\"})});</script>"
      ],
      "text/vnd.plotly.v1+html": [
       "<div id=\"cb6c9ba7-fdd6-42f3-91eb-bd52657dadd7\" style=\"height: 1000px; width: 1000px;\" class=\"plotly-graph-div\"></div><script type=\"text/javascript\">require([\"plotly\"], function(Plotly) { window.PLOTLYENV=window.PLOTLYENV || {};window.PLOTLYENV.BASE_URL=\"https://plot.ly\";Plotly.newPlot(\"cb6c9ba7-fdd6-42f3-91eb-bd52657dadd7\", [{\"marker\": {\"color\": \"rgb(158,202,225)\", \"line\": {\"color\": \"rgb(8,48,107)\", \"width\": 1.5}}, \"opacity\": 0.6, \"orientation\": \"h\", \"text\": [0.582, 0.2225, 0.0653, 0.0366, 0.0139, 0.0107, 0.0104, 0.0092, 0.0086, 0.0084, 0.0051, 0.0051, 0.004, 0.0034, 0.0032, 0.0027, 0.0025, 0.0021, 0.0019, 0.0013, 0.0008, 0.0003], \"textposition\": \"outside\", \"x\": [0.5820351050579508, 0.22251806717321845, 0.06528336982733265, 0.03658848423590997, 0.013867825066461352, 0.010687318046014483, 0.010363960844127168, 0.009211223886785384, 0.00863412143183582, 0.008362070820935411, 0.005114334343480793, 0.005108970475686121, 0.004023061541370833, 0.003423826688059017, 0.003213300285177764, 0.002717776935488482, 0.002456899664811836, 0.0021211329138369653, 0.0019022870979567752, 0.0012805830858448664, 0.000796075327027168, 0.00029020525068785077], \"y\": [\"http_header_content-encoding_gzip\", \"http_header_content-length\", \"http_header_transfer-encoding_chunked\", \"http_header_server_apache\", \"http_header_cache-control_set_max-age\", \"http_header_connection_close\", \"http_header_via_1.1\", \"http_header_vary_age\", \"http_header_vary_accept\", \"http_header_cache-control_set_must-revalidate\", \"http_header_cache-control_set_no-store\", \"http_header_server_nginx\", \"http_header_pragmano-cache\", \"http_header_strict-transport-security_max-age\", \"http_header_x-xss-enabled\", \"http_header_cache-control_set_private\", \"http_header_expect-ctmax-age\", \"http_header_content-language_text/html\", \"http_header_x-cintent-type-options_nosniff\", \"http_header_connection_keep-alive\", \"http_header_cache-control_set_no-cache\", \"http_header_cache-control_set_public\"], \"type\": \"bar\", \"uid\": \"693a359b-fc8f-45a4-965e-b0c9f87d61f1\"}], {\"autosize\": false, \"height\": 1000, \"width\": 1000, \"xaxis\": {\"tickfont\": {\"color\": \"black\", \"size\": 12}, \"title\": \"Feature Importances\"}, \"yaxis\": {\"automargin\": true}}, {\"showLink\": true, \"linkText\": \"Export to plot.ly\", \"plotlyServerURL\": \"https://plot.ly\"})});</script>"
      ]
     },
     "metadata": {},
     "output_type": "display_data"
    },
    {
     "name": "stdout",
     "output_type": "stream",
     "text": [
      "\n",
      "\n",
      "\u001b[1mExtraTree Classifier\u001b[0m\n",
      "Accuracy of the model for training data is: 0.929305512301\n",
      "Confusion Matrix for training data is:\n"
     ]
    },
    {
     "data": {
      "text/plain": [
       "Predicted  False  True  __all__\n",
       "Actual                         \n",
       "False       4332   506     4838\n",
       "True         175  4620     4795\n",
       "__all__     4507  5126     9633"
      ]
     },
     "metadata": {},
     "output_type": "display_data"
    },
    {
     "name": "stdout",
     "output_type": "stream",
     "text": [
      "Accuracy of the model for test data is: 0.890826068908\n",
      "Confusion Matrix for test data is:\n"
     ]
    },
    {
     "data": {
      "text/plain": [
       "Predicted  False  True  __all__\n",
       "Actual                         \n",
       "False       1022   161     1183\n",
       "True         102  1124     1226\n",
       "__all__     1124  1285     2409"
      ]
     },
     "metadata": {},
     "output_type": "display_data"
    },
    {
     "data": {
      "application/vnd.plotly.v1+json": {
       "config": {
        "linkText": "Export to plot.ly",
        "plotlyServerURL": "https://plot.ly",
        "showLink": true
       },
       "data": [
        {
         "marker": {
          "color": "rgb(158,202,225)",
          "line": {
           "color": "rgb(8,48,107)",
           "width": 1.5
          }
         },
         "opacity": 0.6,
         "orientation": "h",
         "text": [
          0.202,
          0.1501,
          0.1272,
          0.1037,
          0.0611,
          0.0513,
          0.0445,
          0.0411,
          0.027,
          0.0264,
          0.0235,
          0.0214,
          0.0175,
          0.0173,
          0.0166,
          0.0151,
          0.0122,
          0.0113,
          0.0111,
          0.0076,
          0.0065,
          0.0053
         ],
         "textposition": "outside",
         "type": "bar",
         "uid": "5dd40509-17b6-4c27-a4b7-7c4eccc8c030",
         "x": [
          0.20197504662428187,
          0.15011469475454747,
          0.1271929161991801,
          0.10372593519347413,
          0.06107034869244832,
          0.05127254009678641,
          0.044544292832922515,
          0.04113416116876646,
          0.027041878054816865,
          0.02644090304920807,
          0.023469257910242177,
          0.021398162856415274,
          0.017537664467445584,
          0.017334355008590784,
          0.01661503581025164,
          0.015112347910937402,
          0.012217976637278066,
          0.011316069354274583,
          0.011090983295503717,
          0.007579829363533362,
          0.0065198751839003226,
          0.005295725535194959
         ],
         "y": [
          "http_header_content-encoding_gzip",
          "http_header_content-language_text/html",
          "http_header_content-length",
          "http_header_vary_accept",
          "http_header_transfer-encoding_chunked",
          "http_header_cache-control_set_max-age",
          "http_header_connection_keep-alive",
          "http_header_server_apache",
          "http_header_server_nginx",
          "http_header_vary_age",
          "http_header_cache-control_set_must-revalidate",
          "http_header_pragmano-cache",
          "http_header_cache-control_set_private",
          "http_header_cache-control_set_no-cache",
          "http_header_cache-control_set_no-store",
          "http_header_strict-transport-security_max-age",
          "http_header_connection_close",
          "http_header_expect-ctmax-age",
          "http_header_via_1.1",
          "http_header_x-cintent-type-options_nosniff",
          "http_header_x-xss-enabled",
          "http_header_cache-control_set_public"
         ]
        }
       ],
       "layout": {
        "autosize": false,
        "height": 1000,
        "width": 1000,
        "xaxis": {
         "tickfont": {
          "color": "black",
          "size": 12
         },
         "title": "Feature Importances"
        },
        "yaxis": {
         "automargin": true
        }
       }
      },
      "text/html": [
       "<div id=\"66105e4c-9413-4f5f-a6a9-8cce92837019\" style=\"height: 1000px; width: 1000px;\" class=\"plotly-graph-div\"></div><script type=\"text/javascript\">require([\"plotly\"], function(Plotly) { window.PLOTLYENV=window.PLOTLYENV || {};window.PLOTLYENV.BASE_URL=\"https://plot.ly\";Plotly.newPlot(\"66105e4c-9413-4f5f-a6a9-8cce92837019\", [{\"marker\": {\"color\": \"rgb(158,202,225)\", \"line\": {\"color\": \"rgb(8,48,107)\", \"width\": 1.5}}, \"opacity\": 0.6, \"orientation\": \"h\", \"text\": [0.202, 0.1501, 0.1272, 0.1037, 0.0611, 0.0513, 0.0445, 0.0411, 0.027, 0.0264, 0.0235, 0.0214, 0.0175, 0.0173, 0.0166, 0.0151, 0.0122, 0.0113, 0.0111, 0.0076, 0.0065, 0.0053], \"textposition\": \"outside\", \"x\": [0.20197504662428187, 0.15011469475454747, 0.1271929161991801, 0.10372593519347413, 0.06107034869244832, 0.05127254009678641, 0.044544292832922515, 0.04113416116876646, 0.027041878054816865, 0.02644090304920807, 0.023469257910242177, 0.021398162856415274, 0.017537664467445584, 0.017334355008590784, 0.01661503581025164, 0.015112347910937402, 0.012217976637278066, 0.011316069354274583, 0.011090983295503717, 0.007579829363533362, 0.0065198751839003226, 0.005295725535194959], \"y\": [\"http_header_content-encoding_gzip\", \"http_header_content-language_text/html\", \"http_header_content-length\", \"http_header_vary_accept\", \"http_header_transfer-encoding_chunked\", \"http_header_cache-control_set_max-age\", \"http_header_connection_keep-alive\", \"http_header_server_apache\", \"http_header_server_nginx\", \"http_header_vary_age\", \"http_header_cache-control_set_must-revalidate\", \"http_header_pragmano-cache\", \"http_header_cache-control_set_private\", \"http_header_cache-control_set_no-cache\", \"http_header_cache-control_set_no-store\", \"http_header_strict-transport-security_max-age\", \"http_header_connection_close\", \"http_header_expect-ctmax-age\", \"http_header_via_1.1\", \"http_header_x-cintent-type-options_nosniff\", \"http_header_x-xss-enabled\", \"http_header_cache-control_set_public\"], \"type\": \"bar\", \"uid\": \"5dd40509-17b6-4c27-a4b7-7c4eccc8c030\"}], {\"autosize\": false, \"height\": 1000, \"width\": 1000, \"xaxis\": {\"tickfont\": {\"color\": \"black\", \"size\": 12}, \"title\": \"Feature Importances\"}, \"yaxis\": {\"automargin\": true}}, {\"showLink\": true, \"linkText\": \"Export to plot.ly\", \"plotlyServerURL\": \"https://plot.ly\"})});</script>"
      ],
      "text/vnd.plotly.v1+html": [
       "<div id=\"66105e4c-9413-4f5f-a6a9-8cce92837019\" style=\"height: 1000px; width: 1000px;\" class=\"plotly-graph-div\"></div><script type=\"text/javascript\">require([\"plotly\"], function(Plotly) { window.PLOTLYENV=window.PLOTLYENV || {};window.PLOTLYENV.BASE_URL=\"https://plot.ly\";Plotly.newPlot(\"66105e4c-9413-4f5f-a6a9-8cce92837019\", [{\"marker\": {\"color\": \"rgb(158,202,225)\", \"line\": {\"color\": \"rgb(8,48,107)\", \"width\": 1.5}}, \"opacity\": 0.6, \"orientation\": \"h\", \"text\": [0.202, 0.1501, 0.1272, 0.1037, 0.0611, 0.0513, 0.0445, 0.0411, 0.027, 0.0264, 0.0235, 0.0214, 0.0175, 0.0173, 0.0166, 0.0151, 0.0122, 0.0113, 0.0111, 0.0076, 0.0065, 0.0053], \"textposition\": \"outside\", \"x\": [0.20197504662428187, 0.15011469475454747, 0.1271929161991801, 0.10372593519347413, 0.06107034869244832, 0.05127254009678641, 0.044544292832922515, 0.04113416116876646, 0.027041878054816865, 0.02644090304920807, 0.023469257910242177, 0.021398162856415274, 0.017537664467445584, 0.017334355008590784, 0.01661503581025164, 0.015112347910937402, 0.012217976637278066, 0.011316069354274583, 0.011090983295503717, 0.007579829363533362, 0.0065198751839003226, 0.005295725535194959], \"y\": [\"http_header_content-encoding_gzip\", \"http_header_content-language_text/html\", \"http_header_content-length\", \"http_header_vary_accept\", \"http_header_transfer-encoding_chunked\", \"http_header_cache-control_set_max-age\", \"http_header_connection_keep-alive\", \"http_header_server_apache\", \"http_header_server_nginx\", \"http_header_vary_age\", \"http_header_cache-control_set_must-revalidate\", \"http_header_pragmano-cache\", \"http_header_cache-control_set_private\", \"http_header_cache-control_set_no-cache\", \"http_header_cache-control_set_no-store\", \"http_header_strict-transport-security_max-age\", \"http_header_connection_close\", \"http_header_expect-ctmax-age\", \"http_header_via_1.1\", \"http_header_x-cintent-type-options_nosniff\", \"http_header_x-xss-enabled\", \"http_header_cache-control_set_public\"], \"type\": \"bar\", \"uid\": \"5dd40509-17b6-4c27-a4b7-7c4eccc8c030\"}], {\"autosize\": false, \"height\": 1000, \"width\": 1000, \"xaxis\": {\"tickfont\": {\"color\": \"black\", \"size\": 12}, \"title\": \"Feature Importances\"}, \"yaxis\": {\"automargin\": true}}, {\"showLink\": true, \"linkText\": \"Export to plot.ly\", \"plotlyServerURL\": \"https://plot.ly\"})});</script>"
      ]
     },
     "metadata": {},
     "output_type": "display_data"
    },
    {
     "name": "stdout",
     "output_type": "stream",
     "text": [
      "\n",
      "\n",
      "\u001b[1mBagging Classifier\u001b[0m\n",
      "Accuracy of the model for training data is: 0.925775978408\n",
      "Confusion Matrix for training data is:\n"
     ]
    },
    {
     "data": {
      "text/plain": [
       "Predicted  False  True  __all__\n",
       "Actual                         \n",
       "False       4314   524     4838\n",
       "True         191  4604     4795\n",
       "__all__     4505  5128     9633"
      ]
     },
     "metadata": {},
     "output_type": "display_data"
    },
    {
     "name": "stdout",
     "output_type": "stream",
     "text": [
      "Accuracy of the model for test data is: 0.898298048983\n",
      "Confusion Matrix for test data is:\n"
     ]
    },
    {
     "data": {
      "text/plain": [
       "Predicted  False  True  __all__\n",
       "Actual                         \n",
       "False       1031   152     1183\n",
       "True          93  1133     1226\n",
       "__all__     1124  1285     2409"
      ]
     },
     "metadata": {},
     "output_type": "display_data"
    },
    {
     "name": "stdout",
     "output_type": "stream",
     "text": [
      "\n",
      "\n",
      "\u001b[1mNeural Network-1\u001b[0m\n",
      "The accuracy of the model on training data is: 0.90356067684\n"
     ]
    },
    {
     "data": {
      "text/plain": [
       "Predicted  False  True  __all__\n",
       "Actual                         \n",
       "False       4268   570     4838\n",
       "True         359  4436     4795\n",
       "__all__     4627  5006     9633"
      ]
     },
     "metadata": {},
     "output_type": "display_data"
    },
    {
     "name": "stdout",
     "output_type": "stream",
     "text": [
      "The accuracy of the model on test data is: 0.893731838937\n"
     ]
    },
    {
     "data": {
      "text/plain": [
       "Predicted  False  True  __all__\n",
       "Actual                         \n",
       "False       1035   148     1183\n",
       "True         108  1118     1226\n",
       "__all__     1143  1266     2409"
      ]
     },
     "metadata": {},
     "output_type": "display_data"
    },
    {
     "name": "stdout",
     "output_type": "stream",
     "text": [
      "\n",
      "\n"
     ]
    }
   ],
   "source": [
    "feat_imp=[None]*4\n",
    "j=0\n",
    "for i in range(0,8):\n",
    "    if i>=2 and i<=5:\n",
    "        model,cm_train,cm_test,acc_train,acc_test,roc_auc,feat_imp[j]=f[i](X_train,Y_train,X_test,Y_test,columns)\n",
    "        j=j+1\n",
    "    else:\n",
    "        model,cm_train,cm_test,acc_train,acc_test,roc_auc=f[i](X_train,Y_train,X_test,Y_test)\n",
    "    table_80_90_train.loc[i]=   ([acc_train,cm_train.TP,cm_train.TN,cm_train.FP,cm_train.FN,cm_train.FPR,cm_train.FNR])\n",
    "    table_80_90_test.loc[i] =   ([acc_test ,cm_test.TP, cm_test.TN, cm_test.FP, cm_test.FN, cm_test.FPR, cm_test.FNR,roc_auc])\n",
    "    print(\"\\n\")"
   ]
  },
  {
   "cell_type": "markdown",
   "metadata": {},
   "source": [
    "### <a id='5.A' style=\"text-decoration : none; color : #000000;\"> A. Results</a>"
   ]
  },
  {
   "cell_type": "code",
   "execution_count": 79,
   "metadata": {},
   "outputs": [
    {
     "data": {
      "application/vnd.plotly.v1+json": {
       "config": {
        "linkText": "Export to plot.ly",
        "plotlyServerURL": "https://plot.ly",
        "showLink": true
       },
       "data": [
        {
         "mode": "lines",
         "name": "KNN_model",
         "type": "scatter",
         "uid": "7430cb52-2ec8-42d5-9314-8631ef73f13f",
         "x": [
          "accuracy",
          "FPR",
          "FNR",
          "auc"
         ],
         "y": [
          0.8895807388958074,
          0.1242603550295858,
          0.09706362153344208,
          0.8893380117184861
         ]
        },
        {
         "mode": "lines+markers",
         "name": "Logistic Regression",
         "type": "scatter",
         "uid": "37b54637-6c5d-4ffa-96df-a1bbcf73f671",
         "x": [
          "accuracy",
          "FPR",
          "FNR",
          "auc"
         ],
         "y": [
          0.8704856787048568,
          0.1614539306846999,
          0.09869494290375204,
          0.869925563205774
         ]
        },
        {
         "marker": {
          "symbol": "x"
         },
         "mode": "lines+markers",
         "name": "Random Forest",
         "type": "scatter",
         "uid": "b58c2dd5-9891-4342-8d7e-3012def52aad",
         "x": [
          "accuracy",
          "FPR",
          "FNR",
          "auc"
         ],
         "y": [
          0.8933167289331673,
          0.1327134404057481,
          0.08156606851549755,
          0.8928602455393773
         ]
        },
        {
         "mode": "lines",
         "name": "Ada Boost",
         "type": "scatter",
         "uid": "bf5356ab-bd16-435b-a87c-6de68f4e223f",
         "x": [
          "accuracy",
          "FPR",
          "FNR",
          "auc"
         ],
         "y": [
          0.8655043586550436,
          0.15046491969568893,
          0.11908646003262642,
          0.8652243101358423
         ]
        },
        {
         "mode": "lines+markers",
         "name": "GradientBoosting",
         "type": "scatter",
         "uid": "750198cc-7c0b-4537-b00c-871d05908816",
         "x": [
          "accuracy",
          "FPR",
          "FNR",
          "auc"
         ],
         "y": [
          0.8854296388542964,
          0.1242603550295858,
          0.10522022838499184,
          0.8852597082927112
         ]
        },
        {
         "marker": {
          "symbol": "x"
         },
         "mode": "lines+markers",
         "name": "ExtraTree Classifier",
         "type": "scatter",
         "uid": "17fea48a-0ac1-4663-b105-e490db95ce49",
         "x": [
          "accuracy",
          "FPR",
          "FNR",
          "auc"
         ],
         "y": [
          0.8908260689082607,
          0.13609467455621302,
          0.08319738988580751,
          0.8903539677789897
         ]
        },
        {
         "marker": {
          "symbol": "x"
         },
         "mode": "lines+markers",
         "name": "Bagging",
         "type": "scatter",
         "uid": "6536d1ab-6f24-4d7c-ae10-52d2284edd4b",
         "x": [
          "accuracy",
          "FPR",
          "FNR",
          "auc"
         ],
         "y": [
          0.8982980489829805,
          0.12848689771766694,
          0.07585644371941272,
          0.8978283292814602
         ]
        },
        {
         "marker": {
          "symbol": "x"
         },
         "mode": "lines+markers",
         "name": "Neural Network",
         "type": "scatter",
         "uid": "d683aff8-7dc0-48b0-a7dc-aa9081b62a4b",
         "x": [
          "accuracy",
          "FPR",
          "FNR",
          "auc"
         ],
         "y": [
          0.8937318389373183,
          0.12510566356720204,
          0.08809135399673736,
          0.8978283292814602
         ]
        }
       ],
       "layout": {
        "title": "Result comparision for Features selected in Section 1",
        "yaxis": {
         "dtick": 0.05,
         "tick0": 0
        }
       }
      },
      "text/html": [
       "<div id=\"44ffa64a-e14a-4606-9cd0-13d6805c1a67\" style=\"height: 525px; width: 100%;\" class=\"plotly-graph-div\"></div><script type=\"text/javascript\">require([\"plotly\"], function(Plotly) { window.PLOTLYENV=window.PLOTLYENV || {};window.PLOTLYENV.BASE_URL=\"https://plot.ly\";Plotly.newPlot(\"44ffa64a-e14a-4606-9cd0-13d6805c1a67\", [{\"mode\": \"lines\", \"name\": \"KNN_model\", \"x\": [\"accuracy\", \"FPR\", \"FNR\", \"auc\"], \"y\": [0.8895807388958074, 0.1242603550295858, 0.09706362153344208, 0.8893380117184861], \"type\": \"scatter\", \"uid\": \"7430cb52-2ec8-42d5-9314-8631ef73f13f\"}, {\"mode\": \"lines+markers\", \"name\": \"Logistic Regression\", \"x\": [\"accuracy\", \"FPR\", \"FNR\", \"auc\"], \"y\": [0.8704856787048568, 0.1614539306846999, 0.09869494290375204, 0.869925563205774], \"type\": \"scatter\", \"uid\": \"37b54637-6c5d-4ffa-96df-a1bbcf73f671\"}, {\"marker\": {\"symbol\": \"x\"}, \"mode\": \"lines+markers\", \"name\": \"Random Forest\", \"x\": [\"accuracy\", \"FPR\", \"FNR\", \"auc\"], \"y\": [0.8933167289331673, 0.1327134404057481, 0.08156606851549755, 0.8928602455393773], \"type\": \"scatter\", \"uid\": \"b58c2dd5-9891-4342-8d7e-3012def52aad\"}, {\"mode\": \"lines\", \"name\": \"Ada Boost\", \"x\": [\"accuracy\", \"FPR\", \"FNR\", \"auc\"], \"y\": [0.8655043586550436, 0.15046491969568893, 0.11908646003262642, 0.8652243101358423], \"type\": \"scatter\", \"uid\": \"bf5356ab-bd16-435b-a87c-6de68f4e223f\"}, {\"mode\": \"lines+markers\", \"name\": \"GradientBoosting\", \"x\": [\"accuracy\", \"FPR\", \"FNR\", \"auc\"], \"y\": [0.8854296388542964, 0.1242603550295858, 0.10522022838499184, 0.8852597082927112], \"type\": \"scatter\", \"uid\": \"750198cc-7c0b-4537-b00c-871d05908816\"}, {\"marker\": {\"symbol\": \"x\"}, \"mode\": \"lines+markers\", \"name\": \"ExtraTree Classifier\", \"x\": [\"accuracy\", \"FPR\", \"FNR\", \"auc\"], \"y\": [0.8908260689082607, 0.13609467455621302, 0.08319738988580751, 0.8903539677789897], \"type\": \"scatter\", \"uid\": \"17fea48a-0ac1-4663-b105-e490db95ce49\"}, {\"marker\": {\"symbol\": \"x\"}, \"mode\": \"lines+markers\", \"name\": \"Bagging\", \"x\": [\"accuracy\", \"FPR\", \"FNR\", \"auc\"], \"y\": [0.8982980489829805, 0.12848689771766694, 0.07585644371941272, 0.8978283292814602], \"type\": \"scatter\", \"uid\": \"6536d1ab-6f24-4d7c-ae10-52d2284edd4b\"}, {\"marker\": {\"symbol\": \"x\"}, \"mode\": \"lines+markers\", \"name\": \"Neural Network\", \"x\": [\"accuracy\", \"FPR\", \"FNR\", \"auc\"], \"y\": [0.8937318389373183, 0.12510566356720204, 0.08809135399673736, 0.8978283292814602], \"type\": \"scatter\", \"uid\": \"d683aff8-7dc0-48b0-a7dc-aa9081b62a4b\"}], {\"title\": \"Result comparision for Features selected in Section 1\", \"yaxis\": {\"dtick\": 0.05, \"tick0\": 0}}, {\"showLink\": true, \"linkText\": \"Export to plot.ly\", \"plotlyServerURL\": \"https://plot.ly\"})});</script><script type=\"text/javascript\">window.addEventListener(\"resize\", function(){window._Plotly.Plots.resize(document.getElementById(\"44ffa64a-e14a-4606-9cd0-13d6805c1a67\"));});</script>"
      ],
      "text/vnd.plotly.v1+html": [
       "<div id=\"44ffa64a-e14a-4606-9cd0-13d6805c1a67\" style=\"height: 525px; width: 100%;\" class=\"plotly-graph-div\"></div><script type=\"text/javascript\">require([\"plotly\"], function(Plotly) { window.PLOTLYENV=window.PLOTLYENV || {};window.PLOTLYENV.BASE_URL=\"https://plot.ly\";Plotly.newPlot(\"44ffa64a-e14a-4606-9cd0-13d6805c1a67\", [{\"mode\": \"lines\", \"name\": \"KNN_model\", \"x\": [\"accuracy\", \"FPR\", \"FNR\", \"auc\"], \"y\": [0.8895807388958074, 0.1242603550295858, 0.09706362153344208, 0.8893380117184861], \"type\": \"scatter\", \"uid\": \"7430cb52-2ec8-42d5-9314-8631ef73f13f\"}, {\"mode\": \"lines+markers\", \"name\": \"Logistic Regression\", \"x\": [\"accuracy\", \"FPR\", \"FNR\", \"auc\"], \"y\": [0.8704856787048568, 0.1614539306846999, 0.09869494290375204, 0.869925563205774], \"type\": \"scatter\", \"uid\": \"37b54637-6c5d-4ffa-96df-a1bbcf73f671\"}, {\"marker\": {\"symbol\": \"x\"}, \"mode\": \"lines+markers\", \"name\": \"Random Forest\", \"x\": [\"accuracy\", \"FPR\", \"FNR\", \"auc\"], \"y\": [0.8933167289331673, 0.1327134404057481, 0.08156606851549755, 0.8928602455393773], \"type\": \"scatter\", \"uid\": \"b58c2dd5-9891-4342-8d7e-3012def52aad\"}, {\"mode\": \"lines\", \"name\": \"Ada Boost\", \"x\": [\"accuracy\", \"FPR\", \"FNR\", \"auc\"], \"y\": [0.8655043586550436, 0.15046491969568893, 0.11908646003262642, 0.8652243101358423], \"type\": \"scatter\", \"uid\": \"bf5356ab-bd16-435b-a87c-6de68f4e223f\"}, {\"mode\": \"lines+markers\", \"name\": \"GradientBoosting\", \"x\": [\"accuracy\", \"FPR\", \"FNR\", \"auc\"], \"y\": [0.8854296388542964, 0.1242603550295858, 0.10522022838499184, 0.8852597082927112], \"type\": \"scatter\", \"uid\": \"750198cc-7c0b-4537-b00c-871d05908816\"}, {\"marker\": {\"symbol\": \"x\"}, \"mode\": \"lines+markers\", \"name\": \"ExtraTree Classifier\", \"x\": [\"accuracy\", \"FPR\", \"FNR\", \"auc\"], \"y\": [0.8908260689082607, 0.13609467455621302, 0.08319738988580751, 0.8903539677789897], \"type\": \"scatter\", \"uid\": \"17fea48a-0ac1-4663-b105-e490db95ce49\"}, {\"marker\": {\"symbol\": \"x\"}, \"mode\": \"lines+markers\", \"name\": \"Bagging\", \"x\": [\"accuracy\", \"FPR\", \"FNR\", \"auc\"], \"y\": [0.8982980489829805, 0.12848689771766694, 0.07585644371941272, 0.8978283292814602], \"type\": \"scatter\", \"uid\": \"6536d1ab-6f24-4d7c-ae10-52d2284edd4b\"}, {\"marker\": {\"symbol\": \"x\"}, \"mode\": \"lines+markers\", \"name\": \"Neural Network\", \"x\": [\"accuracy\", \"FPR\", \"FNR\", \"auc\"], \"y\": [0.8937318389373183, 0.12510566356720204, 0.08809135399673736, 0.8978283292814602], \"type\": \"scatter\", \"uid\": \"d683aff8-7dc0-48b0-a7dc-aa9081b62a4b\"}], {\"title\": \"Result comparision for Features selected in Section 1\", \"yaxis\": {\"dtick\": 0.05, \"tick0\": 0}}, {\"showLink\": true, \"linkText\": \"Export to plot.ly\", \"plotlyServerURL\": \"https://plot.ly\"})});</script><script type=\"text/javascript\">window.addEventListener(\"resize\", function(){window._Plotly.Plots.resize(document.getElementById(\"44ffa64a-e14a-4606-9cd0-13d6805c1a67\"));});</script>"
      ]
     },
     "metadata": {},
     "output_type": "display_data"
    }
   ],
   "source": [
    "trace0 = go.Scatter(x=table_80_90_test.iloc[0].index.values[[0,5,6,7]],\n",
    "                    y=table_80_90_test.iloc[0].values[[0,5,6,7]],\n",
    "                    mode = 'lines',\n",
    "                    name = 'KNN_model')\n",
    "\n",
    "trace1 = go.Scatter(x=table_80_90_test.iloc[1].index.values[[0,5,6,7]],\n",
    "                    y=table_80_90_test.iloc[1].values[[0,5,6,7]],\n",
    "                    mode = 'lines+markers',\n",
    "                    name = 'Logistic Regression')\n",
    "\n",
    "trace2 = go.Scatter(x=table_80_90_test.iloc[2].index.values[[0,5,6,7]],\n",
    "                    y=table_80_90_test.iloc[2].values[[0,5,6,7]],\n",
    "                    mode = 'lines+markers',marker=dict(symbol='x'),\n",
    "                    name = 'Random Forest')\n",
    "\n",
    "\n",
    "trace3 = go.Scatter(x=table_80_90_test.iloc[3].index.values[[0,5,6,7]],\n",
    "                    y=table_80_90_test.iloc[3].values[[0,5,6,7]],\n",
    "                    mode = 'lines',\n",
    "                    name = 'Ada Boost')\n",
    "\n",
    "trace4 = go.Scatter(x=table_80_90_test.iloc[4].index.values[[0,5,6,7]],\n",
    "                    y=table_80_90_test.iloc[4].values[[0,5,6,7]],\n",
    "                    mode = 'lines+markers',\n",
    "                    name = 'GradientBoosting')\n",
    "\n",
    "trace5 = go.Scatter(x=table_80_90_test.iloc[5].index.values[[0,5,6,7]],\n",
    "                    y=table_80_90_test.iloc[5].values[[0,5,6,7]],\n",
    "                    mode = 'lines+markers',marker=dict(symbol='x'),\n",
    "                    name = 'ExtraTree Classifier')\n",
    "\n",
    "trace6 = go.Scatter(x=table_80_90_test.iloc[6].index.values[[0,5,6,7]],\n",
    "                    y=table_80_90_test.iloc[6].values[[0,5,6,7]],\n",
    "                    mode = 'lines+markers',marker=dict(symbol='x'),\n",
    "                    name = 'Bagging')\n",
    "\n",
    "trace7 = go.Scatter(x=table_80_90_test.iloc[7].index.values[[0,5,6,7]],\n",
    "                    y=table_80_90_test.iloc[7].values[[0,5,6,7]],\n",
    "                    mode = 'lines+markers',marker=dict(symbol='x'),\n",
    "                    name = 'Neural Network')\n",
    "\n",
    "\n",
    "\n",
    "data = [trace0, trace1, trace2, trace3, trace4, trace5, trace6, trace7]\n",
    "layout = go.Layout(yaxis=dict(tick0=0,dtick=0.05),title='Result comparision for Features selected in Section 1')\n",
    "fig = go.Figure(data=data, layout=layout)\n",
    "\n",
    "iplot(fig, filename='Result')"
   ]
  },
  {
   "cell_type": "code",
   "execution_count": 80,
   "metadata": {},
   "outputs": [
    {
     "name": "stdout",
     "output_type": "stream",
     "text": [
      "Training Results\n"
     ]
    },
    {
     "data": {
      "text/html": [
       "<div>\n",
       "<style scoped>\n",
       "    .dataframe tbody tr th:only-of-type {\n",
       "        vertical-align: middle;\n",
       "    }\n",
       "\n",
       "    .dataframe tbody tr th {\n",
       "        vertical-align: top;\n",
       "    }\n",
       "\n",
       "    .dataframe thead th {\n",
       "        text-align: right;\n",
       "    }\n",
       "</style>\n",
       "<table border=\"1\" class=\"dataframe\">\n",
       "  <thead>\n",
       "    <tr style=\"text-align: right;\">\n",
       "      <th></th>\n",
       "      <th>accuracy</th>\n",
       "      <th>TP</th>\n",
       "      <th>TN</th>\n",
       "      <th>FP</th>\n",
       "      <th>FN</th>\n",
       "      <th>FPR</th>\n",
       "      <th>FNR</th>\n",
       "    </tr>\n",
       "    <tr>\n",
       "      <th>index</th>\n",
       "      <th></th>\n",
       "      <th></th>\n",
       "      <th></th>\n",
       "      <th></th>\n",
       "      <th></th>\n",
       "      <th></th>\n",
       "      <th></th>\n",
       "    </tr>\n",
       "  </thead>\n",
       "  <tbody>\n",
       "    <tr>\n",
       "      <th>KNeighborsClassifier</th>\n",
       "      <td>0.899304</td>\n",
       "      <td>4383.0</td>\n",
       "      <td>4280.0</td>\n",
       "      <td>558.0</td>\n",
       "      <td>412.0</td>\n",
       "      <td>0.115337</td>\n",
       "      <td>0.085923</td>\n",
       "    </tr>\n",
       "    <tr>\n",
       "      <th>LogisticRegression</th>\n",
       "      <td>0.859338</td>\n",
       "      <td>4267.0</td>\n",
       "      <td>4011.0</td>\n",
       "      <td>827.0</td>\n",
       "      <td>528.0</td>\n",
       "      <td>0.170938</td>\n",
       "      <td>0.110115</td>\n",
       "    </tr>\n",
       "    <tr>\n",
       "      <th>RandomForestClassifier</th>\n",
       "      <td>0.925257</td>\n",
       "      <td>4609.0</td>\n",
       "      <td>4304.0</td>\n",
       "      <td>534.0</td>\n",
       "      <td>186.0</td>\n",
       "      <td>0.110376</td>\n",
       "      <td>0.038790</td>\n",
       "    </tr>\n",
       "    <tr>\n",
       "      <th>AdaBoostClassifier</th>\n",
       "      <td>0.860583</td>\n",
       "      <td>4230.0</td>\n",
       "      <td>4060.0</td>\n",
       "      <td>778.0</td>\n",
       "      <td>565.0</td>\n",
       "      <td>0.160810</td>\n",
       "      <td>0.117831</td>\n",
       "    </tr>\n",
       "    <tr>\n",
       "      <th>GradientBoostingClassifier</th>\n",
       "      <td>0.886951</td>\n",
       "      <td>4285.0</td>\n",
       "      <td>4259.0</td>\n",
       "      <td>579.0</td>\n",
       "      <td>510.0</td>\n",
       "      <td>0.119678</td>\n",
       "      <td>0.106361</td>\n",
       "    </tr>\n",
       "    <tr>\n",
       "      <th>ExtraTreeClassifier</th>\n",
       "      <td>0.929306</td>\n",
       "      <td>4620.0</td>\n",
       "      <td>4332.0</td>\n",
       "      <td>506.0</td>\n",
       "      <td>175.0</td>\n",
       "      <td>0.104589</td>\n",
       "      <td>0.036496</td>\n",
       "    </tr>\n",
       "    <tr>\n",
       "      <th>BaggingClassifier</th>\n",
       "      <td>0.925776</td>\n",
       "      <td>4604.0</td>\n",
       "      <td>4314.0</td>\n",
       "      <td>524.0</td>\n",
       "      <td>191.0</td>\n",
       "      <td>0.108309</td>\n",
       "      <td>0.039833</td>\n",
       "    </tr>\n",
       "    <tr>\n",
       "      <th>Neural Network-1</th>\n",
       "      <td>0.903561</td>\n",
       "      <td>4436.0</td>\n",
       "      <td>4268.0</td>\n",
       "      <td>570.0</td>\n",
       "      <td>359.0</td>\n",
       "      <td>0.117817</td>\n",
       "      <td>0.074870</td>\n",
       "    </tr>\n",
       "  </tbody>\n",
       "</table>\n",
       "</div>"
      ],
      "text/plain": [
       "                            accuracy      TP      TN     FP     FN       FPR  \\\n",
       "index                                                                          \n",
       "KNeighborsClassifier        0.899304  4383.0  4280.0  558.0  412.0  0.115337   \n",
       "LogisticRegression          0.859338  4267.0  4011.0  827.0  528.0  0.170938   \n",
       "RandomForestClassifier      0.925257  4609.0  4304.0  534.0  186.0  0.110376   \n",
       "AdaBoostClassifier          0.860583  4230.0  4060.0  778.0  565.0  0.160810   \n",
       "GradientBoostingClassifier  0.886951  4285.0  4259.0  579.0  510.0  0.119678   \n",
       "ExtraTreeClassifier         0.929306  4620.0  4332.0  506.0  175.0  0.104589   \n",
       "BaggingClassifier           0.925776  4604.0  4314.0  524.0  191.0  0.108309   \n",
       "Neural Network-1            0.903561  4436.0  4268.0  570.0  359.0  0.117817   \n",
       "\n",
       "                                 FNR  \n",
       "index                                 \n",
       "KNeighborsClassifier        0.085923  \n",
       "LogisticRegression          0.110115  \n",
       "RandomForestClassifier      0.038790  \n",
       "AdaBoostClassifier          0.117831  \n",
       "GradientBoostingClassifier  0.106361  \n",
       "ExtraTreeClassifier         0.036496  \n",
       "BaggingClassifier           0.039833  \n",
       "Neural Network-1            0.074870  "
      ]
     },
     "metadata": {},
     "output_type": "display_data"
    },
    {
     "name": "stdout",
     "output_type": "stream",
     "text": [
      "Test Results\n"
     ]
    },
    {
     "data": {
      "text/html": [
       "<div>\n",
       "<style scoped>\n",
       "    .dataframe tbody tr th:only-of-type {\n",
       "        vertical-align: middle;\n",
       "    }\n",
       "\n",
       "    .dataframe tbody tr th {\n",
       "        vertical-align: top;\n",
       "    }\n",
       "\n",
       "    .dataframe thead th {\n",
       "        text-align: right;\n",
       "    }\n",
       "</style>\n",
       "<table border=\"1\" class=\"dataframe\">\n",
       "  <thead>\n",
       "    <tr style=\"text-align: right;\">\n",
       "      <th></th>\n",
       "      <th>accuracy</th>\n",
       "      <th>TP</th>\n",
       "      <th>TN</th>\n",
       "      <th>FP</th>\n",
       "      <th>FN</th>\n",
       "      <th>FPR</th>\n",
       "      <th>FNR</th>\n",
       "      <th>auc</th>\n",
       "    </tr>\n",
       "    <tr>\n",
       "      <th>index</th>\n",
       "      <th></th>\n",
       "      <th></th>\n",
       "      <th></th>\n",
       "      <th></th>\n",
       "      <th></th>\n",
       "      <th></th>\n",
       "      <th></th>\n",
       "      <th></th>\n",
       "    </tr>\n",
       "  </thead>\n",
       "  <tbody>\n",
       "    <tr>\n",
       "      <th>KNeighborsClassifier</th>\n",
       "      <td>0.889581</td>\n",
       "      <td>1107.0</td>\n",
       "      <td>1036.0</td>\n",
       "      <td>147.0</td>\n",
       "      <td>119.0</td>\n",
       "      <td>0.124260</td>\n",
       "      <td>0.097064</td>\n",
       "      <td>0.889338</td>\n",
       "    </tr>\n",
       "    <tr>\n",
       "      <th>LogisticRegression</th>\n",
       "      <td>0.870486</td>\n",
       "      <td>1105.0</td>\n",
       "      <td>992.0</td>\n",
       "      <td>191.0</td>\n",
       "      <td>121.0</td>\n",
       "      <td>0.161454</td>\n",
       "      <td>0.098695</td>\n",
       "      <td>0.869926</td>\n",
       "    </tr>\n",
       "    <tr>\n",
       "      <th>RandomForestClassifier</th>\n",
       "      <td>0.893317</td>\n",
       "      <td>1126.0</td>\n",
       "      <td>1026.0</td>\n",
       "      <td>157.0</td>\n",
       "      <td>100.0</td>\n",
       "      <td>0.132713</td>\n",
       "      <td>0.081566</td>\n",
       "      <td>0.892860</td>\n",
       "    </tr>\n",
       "    <tr>\n",
       "      <th>AdaBoostClassifier</th>\n",
       "      <td>0.865504</td>\n",
       "      <td>1080.0</td>\n",
       "      <td>1005.0</td>\n",
       "      <td>178.0</td>\n",
       "      <td>146.0</td>\n",
       "      <td>0.150465</td>\n",
       "      <td>0.119086</td>\n",
       "      <td>0.865224</td>\n",
       "    </tr>\n",
       "    <tr>\n",
       "      <th>GradientBoostingClassifier</th>\n",
       "      <td>0.885430</td>\n",
       "      <td>1097.0</td>\n",
       "      <td>1036.0</td>\n",
       "      <td>147.0</td>\n",
       "      <td>129.0</td>\n",
       "      <td>0.124260</td>\n",
       "      <td>0.105220</td>\n",
       "      <td>0.885260</td>\n",
       "    </tr>\n",
       "    <tr>\n",
       "      <th>ExtraTreeClassifier</th>\n",
       "      <td>0.890826</td>\n",
       "      <td>1124.0</td>\n",
       "      <td>1022.0</td>\n",
       "      <td>161.0</td>\n",
       "      <td>102.0</td>\n",
       "      <td>0.136095</td>\n",
       "      <td>0.083197</td>\n",
       "      <td>0.890354</td>\n",
       "    </tr>\n",
       "    <tr>\n",
       "      <th>BaggingClassifier</th>\n",
       "      <td>0.898298</td>\n",
       "      <td>1133.0</td>\n",
       "      <td>1031.0</td>\n",
       "      <td>152.0</td>\n",
       "      <td>93.0</td>\n",
       "      <td>0.128487</td>\n",
       "      <td>0.075856</td>\n",
       "      <td>0.897828</td>\n",
       "    </tr>\n",
       "    <tr>\n",
       "      <th>Neural Network-1</th>\n",
       "      <td>0.893732</td>\n",
       "      <td>1118.0</td>\n",
       "      <td>1035.0</td>\n",
       "      <td>148.0</td>\n",
       "      <td>108.0</td>\n",
       "      <td>0.125106</td>\n",
       "      <td>0.088091</td>\n",
       "      <td>0.897828</td>\n",
       "    </tr>\n",
       "  </tbody>\n",
       "</table>\n",
       "</div>"
      ],
      "text/plain": [
       "                            accuracy      TP      TN     FP     FN       FPR  \\\n",
       "index                                                                          \n",
       "KNeighborsClassifier        0.889581  1107.0  1036.0  147.0  119.0  0.124260   \n",
       "LogisticRegression          0.870486  1105.0   992.0  191.0  121.0  0.161454   \n",
       "RandomForestClassifier      0.893317  1126.0  1026.0  157.0  100.0  0.132713   \n",
       "AdaBoostClassifier          0.865504  1080.0  1005.0  178.0  146.0  0.150465   \n",
       "GradientBoostingClassifier  0.885430  1097.0  1036.0  147.0  129.0  0.124260   \n",
       "ExtraTreeClassifier         0.890826  1124.0  1022.0  161.0  102.0  0.136095   \n",
       "BaggingClassifier           0.898298  1133.0  1031.0  152.0   93.0  0.128487   \n",
       "Neural Network-1            0.893732  1118.0  1035.0  148.0  108.0  0.125106   \n",
       "\n",
       "                                 FNR       auc  \n",
       "index                                           \n",
       "KNeighborsClassifier        0.097064  0.889338  \n",
       "LogisticRegression          0.098695  0.869926  \n",
       "RandomForestClassifier      0.081566  0.892860  \n",
       "AdaBoostClassifier          0.119086  0.865224  \n",
       "GradientBoostingClassifier  0.105220  0.885260  \n",
       "ExtraTreeClassifier         0.083197  0.890354  \n",
       "BaggingClassifier           0.075856  0.897828  \n",
       "Neural Network-1            0.088091  0.897828  "
      ]
     },
     "metadata": {},
     "output_type": "display_data"
    }
   ],
   "source": [
    "table_80_90_train['index']=ind_columns\n",
    "table_80_90_test['index']=ind_columns\n",
    "\n",
    "\n",
    "table_80_90_test.set_index(['index'],drop=True,inplace=True)\n",
    "table_80_90_train.set_index(['index'],drop=True,inplace=True)\n",
    "\n",
    "print(\"Training Results\")\n",
    "display(table_80_90_train)\n",
    "print(\"Test Results\")\n",
    "display(table_80_90_test)"
   ]
  },
  {
   "cell_type": "markdown",
   "metadata": {},
   "source": [
    "### <a id='5.B' style=\"text-decoration : none; color : #000000;\"> B. Average Feature Importances</a>"
   ]
  },
  {
   "cell_type": "code",
   "execution_count": 81,
   "metadata": {},
   "outputs": [
    {
     "data": {
      "application/vnd.plotly.v1+json": {
       "config": {
        "linkText": "Export to plot.ly",
        "plotlyServerURL": "https://plot.ly",
        "showLink": true
       },
       "data": [
        {
         "marker": {
          "color": "rgb(158,202,225)",
          "line": {
           "color": "rgb(8,48,107)",
           "width": 1.5
          }
         },
         "opacity": 0.6,
         "orientation": "h",
         "text": [
          0.2822,
          0.253,
          0.0783,
          0.0594,
          0.0518,
          0.0382,
          0.0368,
          0.0313,
          0.0208,
          0.0193,
          0.0185,
          0.0179,
          0.0144,
          0.0122,
          0.0121,
          0.0099,
          0.0097,
          0.009,
          0.0084,
          0.0075,
          0.007,
          0.0023
         ],
         "textposition": "outside",
         "type": "bar",
         "uid": "d88752ac-9b50-4add-9fe9-79be9028044c",
         "x": [
          0.28222571514064276,
          0.2529858083774831,
          0.07825517635245904,
          0.0593884049075324,
          0.051754938115586055,
          0.03824436839824699,
          0.03678799004672951,
          0.031254853348626016,
          0.02083921632905294,
          0.019327640207991128,
          0.0185133672680197,
          0.017902308557506595,
          0.01437253262318598,
          0.012193017714411065,
          0.012120632896576777,
          0.009873823384640087,
          0.009692299742246079,
          0.008994603701958532,
          0.008424411803160378,
          0.007524275274358755,
          0.006977421722603667,
          0.002347194086982464
         ],
         "y": [
          "http_header_content-encoding_gzip",
          "http_header_content-length",
          "http_header_transfer-encoding_chunked",
          "http_header_vary_accept",
          "http_header_content-language_text/html",
          "http_header_server_apache",
          "http_header_connection_keep-alive",
          "http_header_cache-control_set_max-age",
          "http_header_pragmano-cache",
          "http_header_server_nginx",
          "http_header_via_1.1",
          "http_header_cache-control_set_no-store",
          "http_header_cache-control_set_private",
          "http_header_vary_age",
          "http_header_cache-control_set_must-revalidate",
          "http_header_cache-control_set_no-cache",
          "http_header_expect-ctmax-age",
          "http_header_x-xss-enabled",
          "http_header_connection_close",
          "http_header_x-cintent-type-options_nosniff",
          "http_header_strict-transport-security_max-age",
          "http_header_cache-control_set_public"
         ]
        }
       ],
       "layout": {
        "autosize": false,
        "height": 1000,
        "width": 1000,
        "xaxis": {
         "tickfont": {
          "color": "black",
          "size": 12
         },
         "title": "Feature Importances"
        },
        "yaxis": {
         "automargin": true
        }
       }
      },
      "text/html": [
       "<div id=\"d0804394-4757-4e69-b160-a9c0b957e4cd\" style=\"height: 1000px; width: 1000px;\" class=\"plotly-graph-div\"></div><script type=\"text/javascript\">require([\"plotly\"], function(Plotly) { window.PLOTLYENV=window.PLOTLYENV || {};window.PLOTLYENV.BASE_URL=\"https://plot.ly\";Plotly.newPlot(\"d0804394-4757-4e69-b160-a9c0b957e4cd\", [{\"marker\": {\"color\": \"rgb(158,202,225)\", \"line\": {\"color\": \"rgb(8,48,107)\", \"width\": 1.5}}, \"opacity\": 0.6, \"orientation\": \"h\", \"text\": [0.2822, 0.253, 0.0783, 0.0594, 0.0518, 0.0382, 0.0368, 0.0313, 0.0208, 0.0193, 0.0185, 0.0179, 0.0144, 0.0122, 0.0121, 0.0099, 0.0097, 0.009, 0.0084, 0.0075, 0.007, 0.0023], \"textposition\": \"outside\", \"x\": [0.28222571514064276, 0.2529858083774831, 0.07825517635245904, 0.0593884049075324, 0.051754938115586055, 0.03824436839824699, 0.03678799004672951, 0.031254853348626016, 0.02083921632905294, 0.019327640207991128, 0.0185133672680197, 0.017902308557506595, 0.01437253262318598, 0.012193017714411065, 0.012120632896576777, 0.009873823384640087, 0.009692299742246079, 0.008994603701958532, 0.008424411803160378, 0.007524275274358755, 0.006977421722603667, 0.002347194086982464], \"y\": [\"http_header_content-encoding_gzip\", \"http_header_content-length\", \"http_header_transfer-encoding_chunked\", \"http_header_vary_accept\", \"http_header_content-language_text/html\", \"http_header_server_apache\", \"http_header_connection_keep-alive\", \"http_header_cache-control_set_max-age\", \"http_header_pragmano-cache\", \"http_header_server_nginx\", \"http_header_via_1.1\", \"http_header_cache-control_set_no-store\", \"http_header_cache-control_set_private\", \"http_header_vary_age\", \"http_header_cache-control_set_must-revalidate\", \"http_header_cache-control_set_no-cache\", \"http_header_expect-ctmax-age\", \"http_header_x-xss-enabled\", \"http_header_connection_close\", \"http_header_x-cintent-type-options_nosniff\", \"http_header_strict-transport-security_max-age\", \"http_header_cache-control_set_public\"], \"type\": \"bar\", \"uid\": \"d88752ac-9b50-4add-9fe9-79be9028044c\"}], {\"autosize\": false, \"height\": 1000, \"width\": 1000, \"xaxis\": {\"tickfont\": {\"color\": \"black\", \"size\": 12}, \"title\": \"Feature Importances\"}, \"yaxis\": {\"automargin\": true}}, {\"showLink\": true, \"linkText\": \"Export to plot.ly\", \"plotlyServerURL\": \"https://plot.ly\"})});</script>"
      ],
      "text/vnd.plotly.v1+html": [
       "<div id=\"d0804394-4757-4e69-b160-a9c0b957e4cd\" style=\"height: 1000px; width: 1000px;\" class=\"plotly-graph-div\"></div><script type=\"text/javascript\">require([\"plotly\"], function(Plotly) { window.PLOTLYENV=window.PLOTLYENV || {};window.PLOTLYENV.BASE_URL=\"https://plot.ly\";Plotly.newPlot(\"d0804394-4757-4e69-b160-a9c0b957e4cd\", [{\"marker\": {\"color\": \"rgb(158,202,225)\", \"line\": {\"color\": \"rgb(8,48,107)\", \"width\": 1.5}}, \"opacity\": 0.6, \"orientation\": \"h\", \"text\": [0.2822, 0.253, 0.0783, 0.0594, 0.0518, 0.0382, 0.0368, 0.0313, 0.0208, 0.0193, 0.0185, 0.0179, 0.0144, 0.0122, 0.0121, 0.0099, 0.0097, 0.009, 0.0084, 0.0075, 0.007, 0.0023], \"textposition\": \"outside\", \"x\": [0.28222571514064276, 0.2529858083774831, 0.07825517635245904, 0.0593884049075324, 0.051754938115586055, 0.03824436839824699, 0.03678799004672951, 0.031254853348626016, 0.02083921632905294, 0.019327640207991128, 0.0185133672680197, 0.017902308557506595, 0.01437253262318598, 0.012193017714411065, 0.012120632896576777, 0.009873823384640087, 0.009692299742246079, 0.008994603701958532, 0.008424411803160378, 0.007524275274358755, 0.006977421722603667, 0.002347194086982464], \"y\": [\"http_header_content-encoding_gzip\", \"http_header_content-length\", \"http_header_transfer-encoding_chunked\", \"http_header_vary_accept\", \"http_header_content-language_text/html\", \"http_header_server_apache\", \"http_header_connection_keep-alive\", \"http_header_cache-control_set_max-age\", \"http_header_pragmano-cache\", \"http_header_server_nginx\", \"http_header_via_1.1\", \"http_header_cache-control_set_no-store\", \"http_header_cache-control_set_private\", \"http_header_vary_age\", \"http_header_cache-control_set_must-revalidate\", \"http_header_cache-control_set_no-cache\", \"http_header_expect-ctmax-age\", \"http_header_x-xss-enabled\", \"http_header_connection_close\", \"http_header_x-cintent-type-options_nosniff\", \"http_header_strict-transport-security_max-age\", \"http_header_cache-control_set_public\"], \"type\": \"bar\", \"uid\": \"d88752ac-9b50-4add-9fe9-79be9028044c\"}], {\"autosize\": false, \"height\": 1000, \"width\": 1000, \"xaxis\": {\"tickfont\": {\"color\": \"black\", \"size\": 12}, \"title\": \"Feature Importances\"}, \"yaxis\": {\"automargin\": true}}, {\"showLink\": true, \"linkText\": \"Export to plot.ly\", \"plotlyServerURL\": \"https://plot.ly\"})});</script>"
      ]
     },
     "metadata": {},
     "output_type": "display_data"
    }
   ],
   "source": [
    "feat_impt_plot(np.average(feat_imp,axis=0),columns)"
   ]
  },
  {
   "cell_type": "code",
   "execution_count": 82,
   "metadata": {},
   "outputs": [
    {
     "data": {
      "text/html": [
       "<script>\n",
       "code_show=true; \n",
       "function code_toggle() {\n",
       " if (code_show){\n",
       " $('div.input').hide();\n",
       " } else {\n",
       " $('div.input').show();\n",
       " }\n",
       " code_show = !code_show\n",
       "} \n",
       "$( document ).ready(code_toggle);\n",
       "</script>\n",
       "To toggle code, click <a href=\"javascript:code_toggle()\">here</a>."
      ],
      "text/plain": [
       "<IPython.core.display.HTML object>"
      ]
     },
     "execution_count": 82,
     "metadata": {},
     "output_type": "execute_result"
    }
   ],
   "source": [
    "### Original Creator : Darshan Bhansali\n",
    "### HTML code to hide the input cells \n",
    "HTML('''<script>\n",
    "code_show=true; \n",
    "function code_toggle() {\n",
    " if (code_show){\n",
    " $('div.input').hide();\n",
    " } else {\n",
    " $('div.input').show();\n",
    " }\n",
    " code_show = !code_show\n",
    "} \n",
    "$( document ).ready(code_toggle);\n",
    "</script>\n",
    "To toggle code, click <a href=\"javascript:code_toggle()\">here</a>.''')"
   ]
  }
 ],
 "metadata": {
  "kernelspec": {
   "display_name": "Python 3",
   "language": "python",
   "name": "python3"
  },
  "language_info": {
   "codemirror_mode": {
    "name": "ipython",
    "version": 3
   },
   "file_extension": ".py",
   "mimetype": "text/x-python",
   "name": "python",
   "nbconvert_exporter": "python",
   "pygments_lexer": "ipython3",
   "version": "3.6.6"
  }
 },
 "nbformat": 4,
 "nbformat_minor": 2
}
