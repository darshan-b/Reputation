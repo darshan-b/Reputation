{
 "cells": [
  {
   "cell_type": "markdown",
   "metadata": {},
   "source": [
    "***\n",
    "## Table of Contents\n",
    "<br>\n",
    "  <br>\n",
    "    <ol>\n",
    "        <h2><a href='#1' style=\"text-decoration : none; color : #000000;\">1. Initial Models</a></h2>\n",
    "        <ul>\n",
    "            <a href='#1.A' style=\"text-decoration : none; color : #000000;\"><h3>A. Results </h3></a>\n",
    "        </ul>\n",
    "        <ul>\n",
    "            <a href='#1.B' style=\"text-decoration : none; color : #000000;\"><h3>B. Average Feature Importance   </h3></a>\n",
    "        </ul>\n",
    "     </ol>\n",
    "     <br> \n",
    "\n",
    "<ol>\n",
    "        <h2><a href='#2' style=\"text-decoration : none; color : #000000;\">2. Oversampling </a></h2>\n",
    "        <ul>\n",
    "            <a href='#2.A' style=\"text-decoration : none; color : #000000;\"><h3>A. Results </h3></a>\n",
    "        </ul>\n",
    "        <ul>\n",
    "            <a href='#2.B' style=\"text-decoration : none; color : #000000;\"><h3>B. Average Feature Importance   </h3></a>\n",
    "        </ul>\n",
    "     </ol>\n",
    "     <br>\n",
    "     \n",
    " <ol>\n",
    "        <h2><a href='#3' style=\"text-decoration : none; color : #000000;\">3. Undersampling</a></h2>\n",
    "        <ul>\n",
    "            <a href='#3.A' style=\"text-decoration : none; color : #000000;\"><h3>A. Results </h3></a>\n",
    "        </ul>\n",
    "        <ul>\n",
    "            <a href='#3.B' style=\"text-decoration : none; color : #000000;\"><h3>B. Average Feature Importance   </h3></a>\n",
    "        </ul>\n",
    "     </ol>\n",
    "     <br>\n",
    "     \n",
    " <ol>\n",
    "        <h2><a href='#4' style=\"text-decoration : none; color : #000000;\">4.Feature Transformation with feature selection</a></h2>\n",
    "        <ul>\n",
    "            <a href='#4.A' style=\"text-decoration : none; color : #000000;\"><h3>A. Results </h3></a>\n",
    "        </ul>\n",
    "        <ul>\n",
    "            <a href='#4.B' style=\"text-decoration : none; color : #000000;\"><h3>B. Average Feature Importance   </h3></a>\n",
    "        </ul>\n",
    "     </ol>\n",
    "     <br>\n",
    "     \n",
    "     \n",
    " <ol>\n",
    "        <h2><a href='#5' style=\"text-decoration : none; color : #000000;\">5.Feature Transformation with PCA</a></h2>\n",
    "        <ul>\n",
    "            <a href='#5.A' style=\"text-decoration : none; color : #000000;\"><h3>A. Results </h3></a>\n",
    "        </ul>\n",
    "       \n",
    "</ol>\n",
    "     <br>"
   ]
  },
  {
   "cell_type": "code",
   "execution_count": 1,
   "metadata": {},
   "outputs": [
    {
     "name": "stderr",
     "output_type": "stream",
     "text": [
      "Using TensorFlow backend.\n"
     ]
    },
    {
     "data": {
      "text/html": [
       "<script type=\"text/javascript\">window.PlotlyConfig = {MathJaxConfig: 'local'};</script><script type=\"text/javascript\">if (window.MathJax) {MathJax.Hub.Config({SVG: {font: \"STIX-Web\"}});}</script><script>requirejs.config({paths: { 'plotly': ['https://cdn.plot.ly/plotly-latest.min']},});if(!window._Plotly) {require(['plotly'],function(plotly) {window._Plotly=plotly;});}</script>"
      ],
      "text/vnd.plotly.v1+html": [
       "<script type=\"text/javascript\">window.PlotlyConfig = {MathJaxConfig: 'local'};</script><script type=\"text/javascript\">if (window.MathJax) {MathJax.Hub.Config({SVG: {font: \"STIX-Web\"}});}</script><script>requirejs.config({paths: { 'plotly': ['https://cdn.plot.ly/plotly-latest.min']},});if(!window._Plotly) {require(['plotly'],function(plotly) {window._Plotly=plotly;});}</script>"
      ]
     },
     "metadata": {},
     "output_type": "display_data"
    }
   ],
   "source": [
    "import pandas as pd\n",
    "import numpy as np\n",
    "import copy\n",
    "import matplotlib.pyplot as plt\n",
    "import seaborn as sns\n",
    "%matplotlib inline\n",
    "\n",
    "from IPython.display import display,clear_output,HTML\n",
    "import warnings\n",
    "warnings.filterwarnings(\"ignore\")\n",
    "\n",
    "import keras\n",
    "from keras.layers import Dense,Dropout\n",
    "from keras.models import Sequential\n",
    "warnings.simplefilter(\"ignore\", DeprecationWarning)\n",
    "import researchpy as rp\n",
    "\n",
    "%matplotlib inline\n",
    "pd.set_option('display.max_columns', 500)\n",
    "pd.set_option('display.max_rows',305)\n",
    "\n",
    "from sklearn.feature_selection import SelectKBest,chi2,RFE,RFECV,f_regression,SelectFromModel\n",
    "from sklearn.linear_model import LogisticRegression\n",
    "from sklearn.ensemble import ExtraTreesClassifier,RandomForestClassifier,GradientBoostingClassifier,AdaBoostClassifier,BaggingClassifier\n",
    "from sklearn.neighbors import KNeighborsClassifier\n",
    "from sklearn.model_selection import train_test_split,cross_val_score\n",
    "\n",
    "from sklearn.preprocessing import StandardScaler,MinMaxScaler\n",
    "from sklearn import metrics\n",
    "\n",
    "\n",
    "\n",
    "from sklearn.decomposition import PCA\n",
    "from sklearn.metrics import accuracy_score,auc,roc_curve,recall_score,precision_score,matthews_corrcoef\n",
    "\n",
    "from pandas_ml import ConfusionMatrix\n",
    "\n",
    "\n",
    "from imblearn.over_sampling import SMOTE\n",
    "\n",
    "from plotly.offline import download_plotlyjs, init_notebook_mode, plot, iplot\n",
    "init_notebook_mode(connected=True)\n",
    "import plotly.graph_objs as go\n",
    "\n",
    "import featuretools as ft\n",
    "\n",
    "from scipy import stats"
   ]
  },
  {
   "cell_type": "code",
   "execution_count": 2,
   "metadata": {
    "collapsed": true
   },
   "outputs": [],
   "source": [
    "### Function to plot Feature Importance\n",
    "def feat_impt_plot(feat_impt,y_labels,width_s=1000,height_s=1000):\n",
    "    \n",
    "    m=pd.DataFrame(y_labels,feat_impt).reset_index()\n",
    "    m.columns=['Feature_Importance','Features']\n",
    "    m.sort_values(by='Feature_Importance',inplace=True,ascending=False)\n",
    "    m['Features']=m['Features'].str.replace(\"dom_function_\",\"\")\n",
    "    m['Features']=m['Features'].str.replace(\"js_function_\",\"\")\n",
    "    m['Features']=m['Features'].apply(lambda x: str(x).lstrip('.'))\n",
    "    m['Features']=m['Features'].str.replace(\"(\",\"\")\n",
    "    \n",
    "    data = [go.Bar(x=m.Feature_Importance.values,y=m.Features.values,text=np.round(m.Feature_Importance,4),\n",
    "            textposition = 'outside',\n",
    "            marker=dict(\n",
    "                color='rgb(158,202,225)',\n",
    "                line=dict(\n",
    "                    color='rgb(8,48,107)',\n",
    "                    width=1.5),\n",
    "            ),\n",
    "            opacity=0.6,\n",
    "            orientation='h'\n",
    "        )]\n",
    "    layout = go.Layout(autosize=False,\n",
    "    width=width_s,\n",
    "    height=height_s,\n",
    "    xaxis=dict(title='Feature Importances',\n",
    "        tickfont=dict(\n",
    "            size=12,\n",
    "            color='black'\n",
    "        )),\n",
    "    yaxis=dict(automargin=True))\n",
    "    fig = go.Figure(data=data, layout=layout)\n",
    "    iplot(fig)"
   ]
  },
  {
   "cell_type": "code",
   "execution_count": 3,
   "metadata": {
    "collapsed": true
   },
   "outputs": [],
   "source": [
    "def uni_value(data):\n",
    "    lst=[]\n",
    "    for col in data.columns[:]:\n",
    "        lst.append([col,dict(data[col].value_counts()),data[col].value_counts().values[0]>=len(data)*0.95])\n",
    "    col_values=pd.DataFrame(lst,columns=['Feature','Value_Counts','95_%_same_values'])\n",
    "    col_values.set_index('Feature',drop=True,inplace=True)\n",
    "    del lst\n",
    "    return col_values\n",
    "\n",
    "    \n",
    "def check_cat(data):\n",
    "    cat_var=[]\n",
    "    num_var=[]\n",
    "    for col in data.columns:\n",
    "        if col!='Target':\n",
    "            if len(data[col].value_counts())==2:\n",
    "                cat_var.append(col)\n",
    "            else:\n",
    "                num_var.append(col)\n",
    "    return cat_var,num_var\n",
    "\n",
    "\n",
    "def num_stats(data,columns):\n",
    "    lst=[]\n",
    "    c=0\n",
    "    for col in columns:\n",
    "        corr=stats.pointbiserialr(data[col],data.Target)[0]\n",
    "        corr_p=stats.pointbiserialr(data[col],data.Target)[1]\n",
    "        ttest=stats.ttest_ind(data[data.Target==1][col], data[data.Target==0][col], equal_var=False)[0]\n",
    "        ttest_p=stats.ttest_ind(data[data.Target==1][col], data[data.Target==0][col], equal_var=False)[1]\n",
    "        lst.append((corr,corr_p,ttest,ttest_p,col))\n",
    "    stats_data=pd.DataFrame(lst,columns=['Pt. Biserial Corr','Pt. Biserial Corr p-val','ttest','ttest p-val','Feature'])\n",
    "    stats_data.set_index('Feature',drop=True,inplace=True)\n",
    "    stats_data.sort_values(by='ttest',inplace=True)\n",
    "    del lst\n",
    "    return stats_data\n",
    "\n",
    "\n",
    "### Generate statistics for categorical data\n",
    "def cat_stats(data,columns):\n",
    "    lst=[]\n",
    "    c=0\n",
    "    for col in columns:\n",
    "        if col!='Target':\n",
    "            table, results = rp.crosstab(data['Target'], data[col], prop= 'col', test= 'chi-square')\n",
    "            x=results['results'].values.tolist()\n",
    "            x.append(col)\n",
    "            lst.append(x)\n",
    "    chi_df=pd.DataFrame(lst,columns=['Pearson Chi-square','p-value','Cramers V','Feature'])\n",
    "    chi_df.set_index('Feature',drop=True,inplace=True)\n",
    "    chi_df.sort_values(by='Cramers V',ascending=False,inplace=True)\n",
    "    del lst\n",
    "    return chi_df\n",
    "\n",
    "def remove_feat(data):\n",
    "    col_no_unique=[]\n",
    "    for col in data.columns[:]:\n",
    "        if len(data[col].value_counts())<=1:\n",
    "#             print(col)\n",
    "            col_no_unique.append(col)\n",
    "    return col_no_unique\n",
    "\n",
    "### Generate plot for class balance for categorical nature\n",
    "def class_bal(data,title=''):\n",
    "    d = [go.Bar(x=data.Target.value_counts().index.values,\n",
    "               y=data.Target.value_counts().values,\n",
    "               text=data.Target.value_counts().values,\n",
    "               textposition = 'outside',\n",
    "            )]\n",
    "    layout = go.Layout(title=title,xaxis=dict(title='Domain Type',tickfont=dict(size=12,color='black')),\n",
    "                    yaxis=dict(title='Number of Instances'))\n",
    "    fig = go.Figure(data=d, layout=layout)\n",
    "    iplot(fig)"
   ]
  },
  {
   "cell_type": "code",
   "execution_count": 4,
   "metadata": {
    "collapsed": true
   },
   "outputs": [],
   "source": [
    "def model_build(model,X_train,Y_train,X_test,Y_test,tree=False,feat=None):\n",
    "    \n",
    "    y_pred_train=model.predict(X_train)\n",
    "    acc_train=accuracy_score(Y_train,y_pred_train)\n",
    "    \n",
    "    print(\"Accuracy of the model for training data is:\",acc_train)\n",
    "    print(\"Confusion Matrix for training data is:\")\n",
    "    cm_train=ConfusionMatrix(Y_train,y_pred_train)\n",
    "    display(cm_train)\n",
    "    \n",
    "    \n",
    "    y_pred_test=model.predict(X_test)\n",
    "    acc_test=accuracy_score(Y_test,y_pred_test)\n",
    "    print(\"Accuracy of the model for test data is:\",acc_test)\n",
    "    print(\"Confusion Matrix for test data is:\")\n",
    "    cm_test=ConfusionMatrix(Y_test,y_pred_test)\n",
    "    display(cm_test)\n",
    "\n",
    "    fpr, tpr, threshold = roc_curve(Y_test, y_pred_test)\n",
    "    roc_auc =auc(fpr, tpr)\n",
    "    mcc=matthews_corrcoef(Y_test,y_pred_test)\n",
    "    if tree==True:\n",
    "        feat_impt_plot(model.feature_importances_,feat)\n",
    "        return model,cm_train,cm_test,acc_train,acc_test,roc_auc,model.feature_importances_,mcc\n",
    "    \n",
    "    return model,cm_train,cm_test,acc_train,acc_test,roc_auc,mcc\n",
    "\n",
    "def KNN_model(X_train,Y_train,X_test,Y_test):\n",
    "    print('\\033[1m' + 'K-Nearest Neighbors' + '\\033[0m')\n",
    "    knn=KNeighborsClassifier()\n",
    "    knn.fit(X_train,Y_train)\n",
    "\n",
    "    return model_build(knn,X_train,Y_train,X_test,Y_test)\n",
    "\n",
    "def Logistic_model(X_train,Y_train,X_test,Y_test):\n",
    "    print('\\033[1m' + 'Logistic Regression' + '\\033[0m')\n",
    "    log=LogisticRegression()\n",
    "    log.fit(X_train,Y_train)\n",
    "    \n",
    "    return model_build(log,X_train,Y_train,X_test,Y_test)\n",
    "\n",
    "def RandomForest(X_train,Y_train,X_test,Y_test,feat):\n",
    "    print('\\033[1m' + 'RandomForest Classifier' + '\\033[0m')\n",
    "    rf=RandomForestClassifier()\n",
    "    rf.fit(X_train,Y_train)\n",
    "\n",
    "    \n",
    "    return model_build(rf,X_train,Y_train,X_test,Y_test,True,feat)\n",
    "\n",
    "def AdaBoost(X_train,Y_train,X_test,Y_test,feat):\n",
    "    print('\\033[1m' + 'Adaoost Classifier' + '\\033[0m')\n",
    "    ada=AdaBoostClassifier()\n",
    "    ada.fit(X_train,Y_train)\n",
    "    \n",
    "    return model_build(ada,X_train,Y_train,X_test,Y_test,True,feat)\n",
    "\n",
    "def GradientBoosting(X_train,Y_train,X_test,Y_test,feat):\n",
    "    print('\\033[1m' + 'GradientBoosting Classifier' + '\\033[0m')\n",
    "    gbc=GradientBoostingClassifier()\n",
    "    gbc.fit(X_train,Y_train)\n",
    "    \n",
    "    return model_build(gbc,X_train,Y_train,X_test,Y_test,True,feat)\n",
    "\n",
    "def ExtraTree(X_train,Y_train,X_test,Y_test,feat):\n",
    "    print('\\033[1m' + 'ExtraTree Classifier' + '\\033[0m')\n",
    "    ext_tree=ExtraTreesClassifier()\n",
    "    ext_tree.fit(X_train,Y_train)\n",
    "    \n",
    "    return model_build(ext_tree,X_train,Y_train,X_test,Y_test,True,feat)\n",
    "\n",
    "def Bagging(X_train,Y_train,X_test,Y_test):\n",
    "    print('\\033[1m' + 'Bagging Classifier' + '\\033[0m')\n",
    "    bagging=BaggingClassifier()\n",
    "    bagging.fit(X_train,Y_train)\n",
    "    \n",
    "    return model_build(bagging,X_train,Y_train,X_test,Y_test)\n",
    "\n",
    "def DeepLearning1(X_train,Y_train,X_test,Y_test):\n",
    "    print('\\033[1m' + 'Neural Network-1' + '\\033[0m')\n",
    "    np.random.seed(0)\n",
    "    deep_learning=Sequential()\n",
    "    deep_learning.add(Dense(units=64,activation='relu',use_bias=True,kernel_initializer='uniform',input_dim=X_train.shape[1]))\n",
    "    deep_learning.add(Dense(units=128,activation='relu',use_bias=True,kernel_initializer='uniform'))\n",
    "    deep_learning.add(Dense(units=1,activation='sigmoid',use_bias=True,kernel_initializer='uniform'))\n",
    "    deep_learning.compile(optimizer='adam',loss='binary_crossentropy',metrics=['accuracy'])\n",
    "    deep_learning.fit(X_train,Y_train,batch_size=20,epochs=80,verbose=False)\n",
    "    acc_train=deep_learning.evaluate(X_train,Y_train,verbose=False)[1]\n",
    "    print(\"The accuracy of the model on training data is:\",acc_train)\n",
    "    cm_train=ConfusionMatrix(Y_train,deep_learning.predict_classes(X_train,batch_size=1,verbose=False).reshape(1,len(X_train))[0])\n",
    "    cm_test=ConfusionMatrix(Y_test,deep_learning.predict_classes(X_test,batch_size=1,verbose=False).reshape(1,len(X_test))[0])\n",
    "    display(cm_train)\n",
    "    acc_test=accuracy_score(Y_test,deep_learning.predict_classes(X_test,batch_size=1,verbose=False))\n",
    "    print(\"The accuracy of the model on test data is:\",acc_test)\n",
    "    display(cm_test)\n",
    "    mcc=matthews_corrcoef(Y_test,deep_learning.predict_classes(X_test,batch_size=1,verbose=False))\n",
    "    return  deep_learning,cm_train,cm_test,acc_train,acc_test,roc_auc,mcc"
   ]
  },
  {
   "cell_type": "code",
   "execution_count": 5,
   "metadata": {},
   "outputs": [
    {
     "name": "stdout",
     "output_type": "stream",
     "text": [
      "Shape of our dataset: (43491, 1461)\n"
     ]
    }
   ],
   "source": [
    "df_html=pd.read_csv('../html/HTML.csv',index_col='domain')\n",
    "df_html.drop(['Unnamed: 0'],axis=1,inplace=True)\n",
    "cookie=[col for col in df_html.columns if 'number' in col]\n",
    "df_html.drop(cookie,axis=1,inplace=True)\n",
    "print(\"Shape of our dataset:\",df_html.shape)"
   ]
  },
  {
   "cell_type": "code",
   "execution_count": 6,
   "metadata": {},
   "outputs": [
    {
     "name": "stdout",
     "output_type": "stream",
     "text": [
      "Shape of our dataset: (43294, 401)\n"
     ]
    }
   ],
   "source": [
    "df_js=pd.read_csv('Javascript.csv',low_memory=False,index_col='domain')\n",
    "\n",
    "cookie=[col for col in df_js.columns if 'number' in col]\n",
    "df_js.drop(cookie,axis=1,inplace=True)\n",
    "\n",
    "df_js.rename(columns={'Malicious':'Target'},inplace=True)\n",
    "print(\"Shape of our dataset:\",df_js.shape)"
   ]
  },
  {
   "cell_type": "code",
   "execution_count": 13,
   "metadata": {
    "collapsed": true
   },
   "outputs": [],
   "source": [
    "df_html['Num_of_hrefs']=df_html[['a_href_absolute',\n",
    " 'area_href_absolute',\n",
    " 'base_href_absolute',\n",
    " 'link_href_absolute','a_href_relative',\n",
    " 'area_href_relative',\n",
    " 'base_href_relative',\n",
    " 'link_href_relative']].sum(axis=1)"
   ]
  },
  {
   "cell_type": "code",
   "execution_count": 14,
   "metadata": {
    "collapsed": true
   },
   "outputs": [],
   "source": [
    "fin_col=['js_function_.replace(',\n",
    "'dom_function_window.addEventListener(',\n",
    "'js_function_.concat(',\n",
    "'dom_function_document.createElement(',\n",
    "'js_function_encodeURIComponent(',\n",
    "'js_function_decodeURIComponent(',\n",
    "'js_function_.substring(',\n",
    "'js_function_.charAt(',\n",
    "'dom_function_document.write(',\n",
    "'js_function_.charCodeAt(',\n",
    "'js_function_escape(',\n",
    "'js_function_eval(',\n",
    "'js_function_.exec(',\n",
    "'js_function_String.fromCharCode(',\n",
    "'js_function_.link(',\n",
    "'js_function_parseInt(',\n",
    "'dom_function_window.setTimeout(',\n",
    "'dom_function_window.setInterval(',\n",
    "'js_function_unescape(',\n",
    "'js_function_.search(',\n",
    "'iframe_count',         \n",
    "'iframe_src_relative',         \n",
    "'meta_http-equiv_X-UA-Compatible',        \n",
    "'img_src_out_of_domain',         \n",
    "'img_src_absolute',         \n",
    "'script_type_text/javascript',         \n",
    "'script_src_out_of_domain',        \n",
    "'script_count',\n",
    "'small_count', \n",
    "'div_count',\n",
    "'iframe_hidden_true',\n",
    "'image_count',\n",
    "'a_count',\n",
    "'input_count',\n",
    "'li_count',\n",
    "'style_count',    \n",
    "'meta_http-equiv_refresh',\n",
    "'embed_count',\n",
    "'object_count',\n",
    "'Num_of_hrefs']"
   ]
  },
  {
   "cell_type": "code",
   "execution_count": 15,
   "metadata": {},
   "outputs": [],
   "source": [
    "df_int=pd.merge(df_js,df_html,left_index=True,right_index=True)\n",
    "\n",
    "df=df_int.copy(deep=True)\n",
    "df['Target']=df[['Target_x','Target_y']].apply(max,axis=1)\n",
    "\n",
    "fin_col.append('Target')\n",
    "df_sel=df[fin_col]"
   ]
  },
  {
   "cell_type": "code",
   "execution_count": 16,
   "metadata": {
    "collapsed": true
   },
   "outputs": [],
   "source": [
    "df_sel.Target=df_sel.Target.apply(lambda x: 1 if x=='Malicious' else 0)\n",
    "\n",
    "train=df_sel.iloc[:32567,:]\n",
    "train_X=train.iloc[:,train.columns!='Target'].values\n",
    "train_Y=train.Target.values\n",
    "\n",
    "scaler=StandardScaler()\n",
    "scaled_X_train=scaler.fit_transform(train_X)\n",
    "\n",
    "test=df_sel.iloc[32567:,:]\n",
    "test_X=test.iloc[:,test.columns!='Target'].values\n",
    "test_Y=test.Target.values\n",
    "scaled_X_test=scaler.transform(test_X)"
   ]
  },
  {
   "cell_type": "code",
   "execution_count": 19,
   "metadata": {
    "collapsed": true
   },
   "outputs": [],
   "source": [
    "# fin_col=df_sel.columns.values.tolist()\n",
    "fin_col.remove('Target')"
   ]
  },
  {
   "cell_type": "code",
   "execution_count": 20,
   "metadata": {},
   "outputs": [
    {
     "data": {
      "text/plain": [
       "['js_function_.replace(',\n",
       " 'dom_function_window.addEventListener(',\n",
       " 'js_function_.concat(',\n",
       " 'dom_function_document.createElement(',\n",
       " 'js_function_encodeURIComponent(',\n",
       " 'js_function_decodeURIComponent(',\n",
       " 'js_function_.substring(',\n",
       " 'js_function_.charAt(',\n",
       " 'dom_function_document.write(',\n",
       " 'js_function_.charCodeAt(',\n",
       " 'js_function_escape(',\n",
       " 'js_function_eval(',\n",
       " 'js_function_.exec(',\n",
       " 'js_function_String.fromCharCode(',\n",
       " 'js_function_.link(',\n",
       " 'js_function_parseInt(',\n",
       " 'dom_function_window.setTimeout(',\n",
       " 'dom_function_window.setInterval(',\n",
       " 'js_function_unescape(',\n",
       " 'js_function_.search(',\n",
       " 'iframe_count',\n",
       " 'iframe_src_relative',\n",
       " 'meta_http-equiv_X-UA-Compatible',\n",
       " 'img_src_out_of_domain',\n",
       " 'img_src_absolute',\n",
       " 'script_type_text/javascript',\n",
       " 'script_src_out_of_domain',\n",
       " 'script_count',\n",
       " 'small_count',\n",
       " 'div_count',\n",
       " 'iframe_hidden_true',\n",
       " 'image_count',\n",
       " 'a_count',\n",
       " 'input_count',\n",
       " 'li_count',\n",
       " 'style_count',\n",
       " 'meta_http-equiv_refresh',\n",
       " 'embed_count',\n",
       " 'object_count',\n",
       " 'Num_of_hrefs']"
      ]
     },
     "metadata": {},
     "output_type": "display_data"
    }
   ],
   "source": [
    "display(fin_col)\n",
    "columns=copy.deepcopy(fin_col)"
   ]
  },
  {
   "cell_type": "markdown",
   "metadata": {},
   "source": [
    "### <a id='1' style=\"text-decoration : none; color : #000000;\"> 2. Initial Models</a>"
   ]
  },
  {
   "cell_type": "code",
   "execution_count": 21,
   "metadata": {
    "collapsed": true
   },
   "outputs": [],
   "source": [
    "ind_columns=['KNeighborsClassifier','LogisticRegression','RandomForestClassifier','AdaBoostClassifier',\n",
    "             'GradientBoostingClassifier','ExtraTreeClassifier','BaggingClassifier','Neural Network-1']\n",
    "\n",
    "f=[KNN_model,Logistic_model,RandomForest,AdaBoost,GradientBoosting, ExtraTree,Bagging,DeepLearning1]\n",
    "\n",
    "## Table to store training and test measures\n",
    "table_80_50_train=pd.DataFrame(columns=['accuracy','TP','TN','FP','FN','FPR','FNR'])\n",
    "table_80_50_test=pd.DataFrame(columns=['accuracy','TP','TN','FP','FN','FPR','FNR','auc','MCC'])"
   ]
  },
  {
   "cell_type": "code",
   "execution_count": 22,
   "metadata": {
    "scrolled": false
   },
   "outputs": [
    {
     "name": "stdout",
     "output_type": "stream",
     "text": [
      "\u001b[1mK-Nearest Neighbors\u001b[0m\n",
      "Accuracy of the model for training data is: 0.871495685817\n",
      "Confusion Matrix for training data is:\n"
     ]
    },
    {
     "data": {
      "text/plain": [
       "Predicted  False  True  __all__\n",
       "Actual                         \n",
       "False      27684   154    27838\n",
       "True        4031   698     4729\n",
       "__all__    31715   852    32567"
      ]
     },
     "metadata": {},
     "output_type": "display_data"
    },
    {
     "name": "stdout",
     "output_type": "stream",
     "text": [
      "Accuracy of the model for test data is: 0.864161139769\n",
      "Confusion Matrix for test data is:\n"
     ]
    },
    {
     "data": {
      "text/plain": [
       "Predicted  False  True  __all__\n",
       "Actual                         \n",
       "False       6885    55     6940\n",
       "True        1051   151     1202\n",
       "__all__     7936   206     8142"
      ]
     },
     "metadata": {},
     "output_type": "display_data"
    },
    {
     "name": "stdout",
     "output_type": "stream",
     "text": [
      "\n",
      "\n",
      "\u001b[1mLogistic Regression\u001b[0m\n",
      "Accuracy of the model for training data is: 0.855590014432\n",
      "Confusion Matrix for training data is:\n"
     ]
    },
    {
     "data": {
      "text/plain": [
       "Predicted  False  True  __all__\n",
       "Actual                         \n",
       "False      27768    70    27838\n",
       "True        4633    96     4729\n",
       "__all__    32401   166    32567"
      ]
     },
     "metadata": {},
     "output_type": "display_data"
    },
    {
     "name": "stdout",
     "output_type": "stream",
     "text": [
      "Accuracy of the model for test data is: 0.852001965119\n",
      "Confusion Matrix for test data is:\n"
     ]
    },
    {
     "data": {
      "text/plain": [
       "Predicted  False  True  __all__\n",
       "Actual                         \n",
       "False       6916    24     6940\n",
       "True        1181    21     1202\n",
       "__all__     8097    45     8142"
      ]
     },
     "metadata": {},
     "output_type": "display_data"
    },
    {
     "name": "stdout",
     "output_type": "stream",
     "text": [
      "\n",
      "\n",
      "\u001b[1mRandomForest Classifier\u001b[0m\n",
      "Accuracy of the model for training data is: 0.907820800197\n",
      "Confusion Matrix for training data is:\n"
     ]
    },
    {
     "data": {
      "text/plain": [
       "Predicted  False  True  __all__\n",
       "Actual                         \n",
       "False      24953  2885    27838\n",
       "True         117  4612     4729\n",
       "__all__    25070  7497    32567"
      ]
     },
     "metadata": {},
     "output_type": "display_data"
    },
    {
     "name": "stdout",
     "output_type": "stream",
     "text": [
      "Accuracy of the model for test data is: 0.895725865881\n",
      "Confusion Matrix for test data is:\n"
     ]
    },
    {
     "data": {
      "text/plain": [
       "Predicted  False  True  __all__\n",
       "Actual                         \n",
       "False       6205   735     6940\n",
       "True         114  1088     1202\n",
       "__all__     6319  1823     8142"
      ]
     },
     "metadata": {},
     "output_type": "display_data"
    },
    {
     "data": {
      "application/vnd.plotly.v1+json": {
       "config": {
        "linkText": "Export to plot.ly",
        "plotlyServerURL": "https://plot.ly",
        "showLink": true
       },
       "data": [
        {
         "marker": {
          "color": "rgb(158,202,225)",
          "line": {
           "color": "rgb(8,48,107)",
           "width": 1.5
          }
         },
         "opacity": 0.6,
         "orientation": "h",
         "text": [
          0.1726,
          0.1571,
          0.1417,
          0.12,
          0.07,
          0.0629,
          0.0503,
          0.0316,
          0.0298,
          0.0233,
          0.0211,
          0.017,
          0.0151,
          0.0115,
          0.0107,
          0.0103,
          0.0084,
          0.0082,
          0.0056,
          0.004,
          0.0039,
          0.0031,
          0.0029,
          0.0027,
          0.0027,
          0.0024,
          0.0022,
          0.002,
          0.0011,
          0.0011,
          0.0011,
          0.001,
          0.0008,
          0.0006,
          0.0005,
          0.0005,
          0.0001,
          0.0001,
          0.0001,
          0.0001
         ],
         "textposition": "outside",
         "type": "bar",
         "uid": "05cc6230-8e62-42be-8b5f-c73d4311274f",
         "x": [
          0.17264104894127702,
          0.15707091944876167,
          0.14168071465014845,
          0.11999466782240734,
          0.06995246429494802,
          0.0628794338194378,
          0.05033117366173847,
          0.031573724042769744,
          0.029849634890427062,
          0.023255262257734548,
          0.021139129802426253,
          0.017039756562546915,
          0.01514821507218846,
          0.011491569832737114,
          0.010740771649598323,
          0.010301633191476697,
          0.008372943346225386,
          0.008174147516479132,
          0.0055819281682576135,
          0.00399452270551839,
          0.003889077532817472,
          0.003072538549558519,
          0.0029148997737716404,
          0.0027096959001232674,
          0.0027027542559165847,
          0.0023725255397779215,
          0.002152557831688686,
          0.0020341521450733084,
          0.0011228772213712297,
          0.0010910107463536875,
          0.001083423621567612,
          0.0009570117491536573,
          0.0008070991286260067,
          0.0005868916155222974,
          0.0005312097194205129,
          0.0005056420985870177,
          6.584832555496197e-05,
          6.486698721604125e-05,
          6.43358868198181e-05,
          5.7919693975378234e-05
         ],
         "y": [
          "script_type_text/javascript",
          "a_count",
          "script_count",
          "Num_of_hrefs",
          "img_src_absolute",
          "script_src_out_of_domain",
          "div_count",
          "iframe_count",
          "li_count",
          "style_count",
          "input_count",
          "document.createElement",
          "img_src_out_of_domain",
          "replace",
          "iframe_src_relative",
          "meta_http-equiv_X-UA-Compatible",
          "parseInt",
          "document.write",
          "substring",
          "escape",
          "encodeURIComponent",
          "concat",
          "decodeURIComponent",
          "charAt",
          "small_count",
          "unescape",
          "window.addEventListener",
          "window.setTimeout",
          "eval",
          "object_count",
          "embed_count",
          "exec",
          "String.fromCharCode",
          "meta_http-equiv_refresh",
          "charCodeAt",
          "search",
          "window.setInterval",
          "link",
          "image_count",
          "iframe_hidden_true"
         ]
        }
       ],
       "layout": {
        "autosize": false,
        "height": 1000,
        "width": 1000,
        "xaxis": {
         "tickfont": {
          "color": "black",
          "size": 12
         },
         "title": "Feature Importances"
        },
        "yaxis": {
         "automargin": true
        }
       }
      },
      "text/html": [
       "<div id=\"0c5940e1-1e7f-4cc1-a6e1-820f24771658\" style=\"height: 1000px; width: 1000px;\" class=\"plotly-graph-div\"></div><script type=\"text/javascript\">require([\"plotly\"], function(Plotly) { window.PLOTLYENV=window.PLOTLYENV || {};window.PLOTLYENV.BASE_URL=\"https://plot.ly\";Plotly.newPlot(\"0c5940e1-1e7f-4cc1-a6e1-820f24771658\", [{\"marker\": {\"color\": \"rgb(158,202,225)\", \"line\": {\"color\": \"rgb(8,48,107)\", \"width\": 1.5}}, \"opacity\": 0.6, \"orientation\": \"h\", \"text\": [0.1726, 0.1571, 0.1417, 0.12, 0.07, 0.0629, 0.0503, 0.0316, 0.0298, 0.0233, 0.0211, 0.017, 0.0151, 0.0115, 0.0107, 0.0103, 0.0084, 0.0082, 0.0056, 0.004, 0.0039, 0.0031, 0.0029, 0.0027, 0.0027, 0.0024, 0.0022, 0.002, 0.0011, 0.0011, 0.0011, 0.001, 0.0008, 0.0006, 0.0005, 0.0005, 0.0001, 0.0001, 0.0001, 0.0001], \"textposition\": \"outside\", \"x\": [0.17264104894127702, 0.15707091944876167, 0.14168071465014845, 0.11999466782240734, 0.06995246429494802, 0.0628794338194378, 0.05033117366173847, 0.031573724042769744, 0.029849634890427062, 0.023255262257734548, 0.021139129802426253, 0.017039756562546915, 0.01514821507218846, 0.011491569832737114, 0.010740771649598323, 0.010301633191476697, 0.008372943346225386, 0.008174147516479132, 0.0055819281682576135, 0.00399452270551839, 0.003889077532817472, 0.003072538549558519, 0.0029148997737716404, 0.0027096959001232674, 0.0027027542559165847, 0.0023725255397779215, 0.002152557831688686, 0.0020341521450733084, 0.0011228772213712297, 0.0010910107463536875, 0.001083423621567612, 0.0009570117491536573, 0.0008070991286260067, 0.0005868916155222974, 0.0005312097194205129, 0.0005056420985870177, 6.584832555496197e-05, 6.486698721604125e-05, 6.43358868198181e-05, 5.7919693975378234e-05], \"y\": [\"script_type_text/javascript\", \"a_count\", \"script_count\", \"Num_of_hrefs\", \"img_src_absolute\", \"script_src_out_of_domain\", \"div_count\", \"iframe_count\", \"li_count\", \"style_count\", \"input_count\", \"document.createElement\", \"img_src_out_of_domain\", \"replace\", \"iframe_src_relative\", \"meta_http-equiv_X-UA-Compatible\", \"parseInt\", \"document.write\", \"substring\", \"escape\", \"encodeURIComponent\", \"concat\", \"decodeURIComponent\", \"charAt\", \"small_count\", \"unescape\", \"window.addEventListener\", \"window.setTimeout\", \"eval\", \"object_count\", \"embed_count\", \"exec\", \"String.fromCharCode\", \"meta_http-equiv_refresh\", \"charCodeAt\", \"search\", \"window.setInterval\", \"link\", \"image_count\", \"iframe_hidden_true\"], \"type\": \"bar\", \"uid\": \"05cc6230-8e62-42be-8b5f-c73d4311274f\"}], {\"autosize\": false, \"height\": 1000, \"width\": 1000, \"xaxis\": {\"tickfont\": {\"color\": \"black\", \"size\": 12}, \"title\": \"Feature Importances\"}, \"yaxis\": {\"automargin\": true}}, {\"showLink\": true, \"linkText\": \"Export to plot.ly\", \"plotlyServerURL\": \"https://plot.ly\"})});</script>"
      ],
      "text/vnd.plotly.v1+html": [
       "<div id=\"0c5940e1-1e7f-4cc1-a6e1-820f24771658\" style=\"height: 1000px; width: 1000px;\" class=\"plotly-graph-div\"></div><script type=\"text/javascript\">require([\"plotly\"], function(Plotly) { window.PLOTLYENV=window.PLOTLYENV || {};window.PLOTLYENV.BASE_URL=\"https://plot.ly\";Plotly.newPlot(\"0c5940e1-1e7f-4cc1-a6e1-820f24771658\", [{\"marker\": {\"color\": \"rgb(158,202,225)\", \"line\": {\"color\": \"rgb(8,48,107)\", \"width\": 1.5}}, \"opacity\": 0.6, \"orientation\": \"h\", \"text\": [0.1726, 0.1571, 0.1417, 0.12, 0.07, 0.0629, 0.0503, 0.0316, 0.0298, 0.0233, 0.0211, 0.017, 0.0151, 0.0115, 0.0107, 0.0103, 0.0084, 0.0082, 0.0056, 0.004, 0.0039, 0.0031, 0.0029, 0.0027, 0.0027, 0.0024, 0.0022, 0.002, 0.0011, 0.0011, 0.0011, 0.001, 0.0008, 0.0006, 0.0005, 0.0005, 0.0001, 0.0001, 0.0001, 0.0001], \"textposition\": \"outside\", \"x\": [0.17264104894127702, 0.15707091944876167, 0.14168071465014845, 0.11999466782240734, 0.06995246429494802, 0.0628794338194378, 0.05033117366173847, 0.031573724042769744, 0.029849634890427062, 0.023255262257734548, 0.021139129802426253, 0.017039756562546915, 0.01514821507218846, 0.011491569832737114, 0.010740771649598323, 0.010301633191476697, 0.008372943346225386, 0.008174147516479132, 0.0055819281682576135, 0.00399452270551839, 0.003889077532817472, 0.003072538549558519, 0.0029148997737716404, 0.0027096959001232674, 0.0027027542559165847, 0.0023725255397779215, 0.002152557831688686, 0.0020341521450733084, 0.0011228772213712297, 0.0010910107463536875, 0.001083423621567612, 0.0009570117491536573, 0.0008070991286260067, 0.0005868916155222974, 0.0005312097194205129, 0.0005056420985870177, 6.584832555496197e-05, 6.486698721604125e-05, 6.43358868198181e-05, 5.7919693975378234e-05], \"y\": [\"script_type_text/javascript\", \"a_count\", \"script_count\", \"Num_of_hrefs\", \"img_src_absolute\", \"script_src_out_of_domain\", \"div_count\", \"iframe_count\", \"li_count\", \"style_count\", \"input_count\", \"document.createElement\", \"img_src_out_of_domain\", \"replace\", \"iframe_src_relative\", \"meta_http-equiv_X-UA-Compatible\", \"parseInt\", \"document.write\", \"substring\", \"escape\", \"encodeURIComponent\", \"concat\", \"decodeURIComponent\", \"charAt\", \"small_count\", \"unescape\", \"window.addEventListener\", \"window.setTimeout\", \"eval\", \"object_count\", \"embed_count\", \"exec\", \"String.fromCharCode\", \"meta_http-equiv_refresh\", \"charCodeAt\", \"search\", \"window.setInterval\", \"link\", \"image_count\", \"iframe_hidden_true\"], \"type\": \"bar\", \"uid\": \"05cc6230-8e62-42be-8b5f-c73d4311274f\"}], {\"autosize\": false, \"height\": 1000, \"width\": 1000, \"xaxis\": {\"tickfont\": {\"color\": \"black\", \"size\": 12}, \"title\": \"Feature Importances\"}, \"yaxis\": {\"automargin\": true}}, {\"showLink\": true, \"linkText\": \"Export to plot.ly\", \"plotlyServerURL\": \"https://plot.ly\"})});</script>"
      ]
     },
     "metadata": {},
     "output_type": "display_data"
    },
    {
     "name": "stdout",
     "output_type": "stream",
     "text": [
      "\n",
      "\n",
      "\u001b[1mAdaoost Classifier\u001b[0m\n",
      "Accuracy of the model for training data is: 0.875118985476\n",
      "Confusion Matrix for training data is:\n"
     ]
    },
    {
     "data": {
      "text/plain": [
       "Predicted  False  True  __all__\n",
       "Actual                         \n",
       "False      24644  3194    27838\n",
       "True         873  3856     4729\n",
       "__all__    25517  7050    32567"
      ]
     },
     "metadata": {},
     "output_type": "display_data"
    },
    {
     "name": "stdout",
     "output_type": "stream",
     "text": [
      "Accuracy of the model for test data is: 0.876320314419\n",
      "Confusion Matrix for test data is:\n"
     ]
    },
    {
     "data": {
      "text/plain": [
       "Predicted  False  True  __all__\n",
       "Actual                         \n",
       "False       6147   793     6940\n",
       "True         214   988     1202\n",
       "__all__     6361  1781     8142"
      ]
     },
     "metadata": {},
     "output_type": "display_data"
    },
    {
     "data": {
      "application/vnd.plotly.v1+json": {
       "config": {
        "linkText": "Export to plot.ly",
        "plotlyServerURL": "https://plot.ly",
        "showLink": true
       },
       "data": [
        {
         "marker": {
          "color": "rgb(158,202,225)",
          "line": {
           "color": "rgb(8,48,107)",
           "width": 1.5
          }
         },
         "opacity": 0.6,
         "orientation": "h",
         "text": [
          0.14,
          0.12,
          0.08,
          0.08,
          0.08,
          0.06,
          0.06,
          0.04,
          0.04,
          0.02,
          0.02,
          0.02,
          0.02,
          0.02,
          0.02,
          0.02,
          0.02,
          0.02,
          0.02,
          0.02,
          0.02,
          0.02,
          0.02,
          0.02,
          0,
          0,
          0,
          0,
          0,
          0,
          0,
          0,
          0,
          0,
          0,
          0,
          0,
          0,
          0,
          0
         ],
         "textposition": "outside",
         "type": "bar",
         "uid": "136307d0-723d-4c50-8079-29ae515e1c54",
         "x": [
          0.14,
          0.12,
          0.08,
          0.08,
          0.08,
          0.06,
          0.06,
          0.04,
          0.04,
          0.02,
          0.02,
          0.02,
          0.02,
          0.02,
          0.02,
          0.02,
          0.02,
          0.02,
          0.02,
          0.02,
          0.02,
          0.02,
          0.02,
          0.02,
          0,
          0,
          0,
          0,
          0,
          0,
          0,
          0,
          0,
          0,
          0,
          0,
          0,
          0,
          0,
          0
         ],
         "y": [
          "script_count",
          "script_type_text/javascript",
          "Num_of_hrefs",
          "img_src_out_of_domain",
          "img_src_absolute",
          "script_src_out_of_domain",
          "replace",
          "iframe_count",
          "a_count",
          "search",
          "style_count",
          "li_count",
          "input_count",
          "div_count",
          "small_count",
          "concat",
          "document.createElement",
          "meta_http-equiv_X-UA-Compatible",
          "window.addEventListener",
          "charAt",
          "substring",
          "window.setTimeout",
          "escape",
          "String.fromCharCode",
          "image_count",
          "object_count",
          "embed_count",
          "meta_http-equiv_refresh",
          "charCodeAt",
          "eval",
          "exec",
          "unescape",
          "iframe_src_relative",
          "link",
          "parseInt",
          "encodeURIComponent",
          "decodeURIComponent",
          "document.write",
          "window.setInterval",
          "iframe_hidden_true"
         ]
        }
       ],
       "layout": {
        "autosize": false,
        "height": 1000,
        "width": 1000,
        "xaxis": {
         "tickfont": {
          "color": "black",
          "size": 12
         },
         "title": "Feature Importances"
        },
        "yaxis": {
         "automargin": true
        }
       }
      },
      "text/html": [
       "<div id=\"5f1a9e2e-ad6e-4330-a04c-3fd7f0943781\" style=\"height: 1000px; width: 1000px;\" class=\"plotly-graph-div\"></div><script type=\"text/javascript\">require([\"plotly\"], function(Plotly) { window.PLOTLYENV=window.PLOTLYENV || {};window.PLOTLYENV.BASE_URL=\"https://plot.ly\";Plotly.newPlot(\"5f1a9e2e-ad6e-4330-a04c-3fd7f0943781\", [{\"marker\": {\"color\": \"rgb(158,202,225)\", \"line\": {\"color\": \"rgb(8,48,107)\", \"width\": 1.5}}, \"opacity\": 0.6, \"orientation\": \"h\", \"text\": [0.14, 0.12, 0.08, 0.08, 0.08, 0.06, 0.06, 0.04, 0.04, 0.02, 0.02, 0.02, 0.02, 0.02, 0.02, 0.02, 0.02, 0.02, 0.02, 0.02, 0.02, 0.02, 0.02, 0.02, 0.0, 0.0, 0.0, 0.0, 0.0, 0.0, 0.0, 0.0, 0.0, 0.0, 0.0, 0.0, 0.0, 0.0, 0.0, 0.0], \"textposition\": \"outside\", \"x\": [0.14, 0.12, 0.08, 0.08, 0.08, 0.06, 0.06, 0.04, 0.04, 0.02, 0.02, 0.02, 0.02, 0.02, 0.02, 0.02, 0.02, 0.02, 0.02, 0.02, 0.02, 0.02, 0.02, 0.02, 0.0, 0.0, 0.0, 0.0, 0.0, 0.0, 0.0, 0.0, 0.0, 0.0, 0.0, 0.0, 0.0, 0.0, 0.0, 0.0], \"y\": [\"script_count\", \"script_type_text/javascript\", \"Num_of_hrefs\", \"img_src_out_of_domain\", \"img_src_absolute\", \"script_src_out_of_domain\", \"replace\", \"iframe_count\", \"a_count\", \"search\", \"style_count\", \"li_count\", \"input_count\", \"div_count\", \"small_count\", \"concat\", \"document.createElement\", \"meta_http-equiv_X-UA-Compatible\", \"window.addEventListener\", \"charAt\", \"substring\", \"window.setTimeout\", \"escape\", \"String.fromCharCode\", \"image_count\", \"object_count\", \"embed_count\", \"meta_http-equiv_refresh\", \"charCodeAt\", \"eval\", \"exec\", \"unescape\", \"iframe_src_relative\", \"link\", \"parseInt\", \"encodeURIComponent\", \"decodeURIComponent\", \"document.write\", \"window.setInterval\", \"iframe_hidden_true\"], \"type\": \"bar\", \"uid\": \"136307d0-723d-4c50-8079-29ae515e1c54\"}], {\"autosize\": false, \"height\": 1000, \"width\": 1000, \"xaxis\": {\"tickfont\": {\"color\": \"black\", \"size\": 12}, \"title\": \"Feature Importances\"}, \"yaxis\": {\"automargin\": true}}, {\"showLink\": true, \"linkText\": \"Export to plot.ly\", \"plotlyServerURL\": \"https://plot.ly\"})});</script>"
      ],
      "text/vnd.plotly.v1+html": [
       "<div id=\"5f1a9e2e-ad6e-4330-a04c-3fd7f0943781\" style=\"height: 1000px; width: 1000px;\" class=\"plotly-graph-div\"></div><script type=\"text/javascript\">require([\"plotly\"], function(Plotly) { window.PLOTLYENV=window.PLOTLYENV || {};window.PLOTLYENV.BASE_URL=\"https://plot.ly\";Plotly.newPlot(\"5f1a9e2e-ad6e-4330-a04c-3fd7f0943781\", [{\"marker\": {\"color\": \"rgb(158,202,225)\", \"line\": {\"color\": \"rgb(8,48,107)\", \"width\": 1.5}}, \"opacity\": 0.6, \"orientation\": \"h\", \"text\": [0.14, 0.12, 0.08, 0.08, 0.08, 0.06, 0.06, 0.04, 0.04, 0.02, 0.02, 0.02, 0.02, 0.02, 0.02, 0.02, 0.02, 0.02, 0.02, 0.02, 0.02, 0.02, 0.02, 0.02, 0.0, 0.0, 0.0, 0.0, 0.0, 0.0, 0.0, 0.0, 0.0, 0.0, 0.0, 0.0, 0.0, 0.0, 0.0, 0.0], \"textposition\": \"outside\", \"x\": [0.14, 0.12, 0.08, 0.08, 0.08, 0.06, 0.06, 0.04, 0.04, 0.02, 0.02, 0.02, 0.02, 0.02, 0.02, 0.02, 0.02, 0.02, 0.02, 0.02, 0.02, 0.02, 0.02, 0.02, 0.0, 0.0, 0.0, 0.0, 0.0, 0.0, 0.0, 0.0, 0.0, 0.0, 0.0, 0.0, 0.0, 0.0, 0.0, 0.0], \"y\": [\"script_count\", \"script_type_text/javascript\", \"Num_of_hrefs\", \"img_src_out_of_domain\", \"img_src_absolute\", \"script_src_out_of_domain\", \"replace\", \"iframe_count\", \"a_count\", \"search\", \"style_count\", \"li_count\", \"input_count\", \"div_count\", \"small_count\", \"concat\", \"document.createElement\", \"meta_http-equiv_X-UA-Compatible\", \"window.addEventListener\", \"charAt\", \"substring\", \"window.setTimeout\", \"escape\", \"String.fromCharCode\", \"image_count\", \"object_count\", \"embed_count\", \"meta_http-equiv_refresh\", \"charCodeAt\", \"eval\", \"exec\", \"unescape\", \"iframe_src_relative\", \"link\", \"parseInt\", \"encodeURIComponent\", \"decodeURIComponent\", \"document.write\", \"window.setInterval\", \"iframe_hidden_true\"], \"type\": \"bar\", \"uid\": \"136307d0-723d-4c50-8079-29ae515e1c54\"}], {\"autosize\": false, \"height\": 1000, \"width\": 1000, \"xaxis\": {\"tickfont\": {\"color\": \"black\", \"size\": 12}, \"title\": \"Feature Importances\"}, \"yaxis\": {\"automargin\": true}}, {\"showLink\": true, \"linkText\": \"Export to plot.ly\", \"plotlyServerURL\": \"https://plot.ly\"})});</script>"
      ]
     },
     "metadata": {},
     "output_type": "display_data"
    },
    {
     "name": "stdout",
     "output_type": "stream",
     "text": [
      "\n",
      "\n",
      "\u001b[1mGradientBoosting Classifier\u001b[0m\n",
      "Accuracy of the model for training data is: 0.892068658458\n",
      "Confusion Matrix for training data is:\n"
     ]
    },
    {
     "data": {
      "text/plain": [
       "Predicted  False  True  __all__\n",
       "Actual                         \n",
       "False      24943  2895    27838\n",
       "True         620  4109     4729\n",
       "__all__    25563  7004    32567"
      ]
     },
     "metadata": {},
     "output_type": "display_data"
    },
    {
     "name": "stdout",
     "output_type": "stream",
     "text": [
      "Accuracy of the model for test data is: 0.889830508475\n",
      "Confusion Matrix for test data is:\n"
     ]
    },
    {
     "data": {
      "text/plain": [
       "Predicted  False  True  __all__\n",
       "Actual                         \n",
       "False       6211   729     6940\n",
       "True         168  1034     1202\n",
       "__all__     6379  1763     8142"
      ]
     },
     "metadata": {},
     "output_type": "display_data"
    },
    {
     "data": {
      "application/vnd.plotly.v1+json": {
       "config": {
        "linkText": "Export to plot.ly",
        "plotlyServerURL": "https://plot.ly",
        "showLink": true
       },
       "data": [
        {
         "marker": {
          "color": "rgb(158,202,225)",
          "line": {
           "color": "rgb(8,48,107)",
           "width": 1.5
          }
         },
         "opacity": 0.6,
         "orientation": "h",
         "text": [
          0.7095,
          0.1704,
          0.0235,
          0.012,
          0.0112,
          0.0106,
          0.0095,
          0.0087,
          0.0082,
          0.0067,
          0.0044,
          0.0033,
          0.003,
          0.0028,
          0.0027,
          0.0025,
          0.0021,
          0.0021,
          0.0017,
          0.001,
          0.001,
          0.0005,
          0.0004,
          0.0003,
          0.0003,
          0.0003,
          0.0003,
          0.0002,
          0.0002,
          0.0001,
          0.0001,
          0.0001,
          0.0001,
          0.0001,
          0,
          0,
          0,
          0,
          0,
          0
         ],
         "textposition": "outside",
         "type": "bar",
         "uid": "3dbb3c1f-30b7-41aa-b521-ec7fe422efa9",
         "x": [
          0.7094903575409293,
          0.1704279060789673,
          0.02351611170821756,
          0.011970118712302155,
          0.011216966873438447,
          0.010636828947550126,
          0.009535774666488571,
          0.008728377020920849,
          0.008179394731287953,
          0.006745423547189599,
          0.004398100404866866,
          0.003252878758953317,
          0.0029909335476907047,
          0.0028427056285918414,
          0.002687887725915648,
          0.002485931804739286,
          0.0021251226750970205,
          0.0021205182378378705,
          0.0016861559663451716,
          0.0010454932861217652,
          0.00100511603885808,
          0.0004982812460429958,
          0.0004087740703853321,
          0.0002773787291157603,
          0.00026669883110748524,
          0.00026037378517553255,
          0.000255902798159455,
          0.00024033207964393807,
          0.00015001529685863672,
          0.0001390995763689422,
          0.00010837827035044674,
          0.0001005971954591042,
          9.324782738320944e-05,
          9.226443765713827e-05,
          2.0551953982663492e-05,
          0,
          0,
          0,
          0,
          0
         ],
         "y": [
          "script_count",
          "Num_of_hrefs",
          "a_count",
          "script_src_out_of_domain",
          "div_count",
          "img_src_out_of_domain",
          "document.createElement",
          "replace",
          "style_count",
          "input_count",
          "document.write",
          "script_type_text/javascript",
          "img_src_absolute",
          "substring",
          "li_count",
          "window.setTimeout",
          "window.addEventListener",
          "unescape",
          "iframe_src_relative",
          "meta_http-equiv_X-UA-Compatible",
          "escape",
          "parseInt",
          "String.fromCharCode",
          "object_count",
          "eval",
          "iframe_count",
          "charAt",
          "meta_http-equiv_refresh",
          "decodeURIComponent",
          "charCodeAt",
          "encodeURIComponent",
          "embed_count",
          "concat",
          "window.setInterval",
          "exec",
          "small_count",
          "iframe_hidden_true",
          "link",
          "search",
          "image_count"
         ]
        }
       ],
       "layout": {
        "autosize": false,
        "height": 1000,
        "width": 1000,
        "xaxis": {
         "tickfont": {
          "color": "black",
          "size": 12
         },
         "title": "Feature Importances"
        },
        "yaxis": {
         "automargin": true
        }
       }
      },
      "text/html": [
       "<div id=\"6c5b562d-a69e-4adf-95b5-31e21a1d22a9\" style=\"height: 1000px; width: 1000px;\" class=\"plotly-graph-div\"></div><script type=\"text/javascript\">require([\"plotly\"], function(Plotly) { window.PLOTLYENV=window.PLOTLYENV || {};window.PLOTLYENV.BASE_URL=\"https://plot.ly\";Plotly.newPlot(\"6c5b562d-a69e-4adf-95b5-31e21a1d22a9\", [{\"marker\": {\"color\": \"rgb(158,202,225)\", \"line\": {\"color\": \"rgb(8,48,107)\", \"width\": 1.5}}, \"opacity\": 0.6, \"orientation\": \"h\", \"text\": [0.7095, 0.1704, 0.0235, 0.012, 0.0112, 0.0106, 0.0095, 0.0087, 0.0082, 0.0067, 0.0044, 0.0033, 0.003, 0.0028, 0.0027, 0.0025, 0.0021, 0.0021, 0.0017, 0.001, 0.001, 0.0005, 0.0004, 0.0003, 0.0003, 0.0003, 0.0003, 0.0002, 0.0002, 0.0001, 0.0001, 0.0001, 0.0001, 0.0001, 0.0, 0.0, 0.0, 0.0, 0.0, 0.0], \"textposition\": \"outside\", \"x\": [0.7094903575409293, 0.1704279060789673, 0.02351611170821756, 0.011970118712302155, 0.011216966873438447, 0.010636828947550126, 0.009535774666488571, 0.008728377020920849, 0.008179394731287953, 0.006745423547189599, 0.004398100404866866, 0.003252878758953317, 0.0029909335476907047, 0.0028427056285918414, 0.002687887725915648, 0.002485931804739286, 0.0021251226750970205, 0.0021205182378378705, 0.0016861559663451716, 0.0010454932861217652, 0.00100511603885808, 0.0004982812460429958, 0.0004087740703853321, 0.0002773787291157603, 0.00026669883110748524, 0.00026037378517553255, 0.000255902798159455, 0.00024033207964393807, 0.00015001529685863672, 0.0001390995763689422, 0.00010837827035044674, 0.0001005971954591042, 9.324782738320944e-05, 9.226443765713827e-05, 2.0551953982663492e-05, 0.0, 0.0, 0.0, 0.0, 0.0], \"y\": [\"script_count\", \"Num_of_hrefs\", \"a_count\", \"script_src_out_of_domain\", \"div_count\", \"img_src_out_of_domain\", \"document.createElement\", \"replace\", \"style_count\", \"input_count\", \"document.write\", \"script_type_text/javascript\", \"img_src_absolute\", \"substring\", \"li_count\", \"window.setTimeout\", \"window.addEventListener\", \"unescape\", \"iframe_src_relative\", \"meta_http-equiv_X-UA-Compatible\", \"escape\", \"parseInt\", \"String.fromCharCode\", \"object_count\", \"eval\", \"iframe_count\", \"charAt\", \"meta_http-equiv_refresh\", \"decodeURIComponent\", \"charCodeAt\", \"encodeURIComponent\", \"embed_count\", \"concat\", \"window.setInterval\", \"exec\", \"small_count\", \"iframe_hidden_true\", \"link\", \"search\", \"image_count\"], \"type\": \"bar\", \"uid\": \"3dbb3c1f-30b7-41aa-b521-ec7fe422efa9\"}], {\"autosize\": false, \"height\": 1000, \"width\": 1000, \"xaxis\": {\"tickfont\": {\"color\": \"black\", \"size\": 12}, \"title\": \"Feature Importances\"}, \"yaxis\": {\"automargin\": true}}, {\"showLink\": true, \"linkText\": \"Export to plot.ly\", \"plotlyServerURL\": \"https://plot.ly\"})});</script>"
      ],
      "text/vnd.plotly.v1+html": [
       "<div id=\"6c5b562d-a69e-4adf-95b5-31e21a1d22a9\" style=\"height: 1000px; width: 1000px;\" class=\"plotly-graph-div\"></div><script type=\"text/javascript\">require([\"plotly\"], function(Plotly) { window.PLOTLYENV=window.PLOTLYENV || {};window.PLOTLYENV.BASE_URL=\"https://plot.ly\";Plotly.newPlot(\"6c5b562d-a69e-4adf-95b5-31e21a1d22a9\", [{\"marker\": {\"color\": \"rgb(158,202,225)\", \"line\": {\"color\": \"rgb(8,48,107)\", \"width\": 1.5}}, \"opacity\": 0.6, \"orientation\": \"h\", \"text\": [0.7095, 0.1704, 0.0235, 0.012, 0.0112, 0.0106, 0.0095, 0.0087, 0.0082, 0.0067, 0.0044, 0.0033, 0.003, 0.0028, 0.0027, 0.0025, 0.0021, 0.0021, 0.0017, 0.001, 0.001, 0.0005, 0.0004, 0.0003, 0.0003, 0.0003, 0.0003, 0.0002, 0.0002, 0.0001, 0.0001, 0.0001, 0.0001, 0.0001, 0.0, 0.0, 0.0, 0.0, 0.0, 0.0], \"textposition\": \"outside\", \"x\": [0.7094903575409293, 0.1704279060789673, 0.02351611170821756, 0.011970118712302155, 0.011216966873438447, 0.010636828947550126, 0.009535774666488571, 0.008728377020920849, 0.008179394731287953, 0.006745423547189599, 0.004398100404866866, 0.003252878758953317, 0.0029909335476907047, 0.0028427056285918414, 0.002687887725915648, 0.002485931804739286, 0.0021251226750970205, 0.0021205182378378705, 0.0016861559663451716, 0.0010454932861217652, 0.00100511603885808, 0.0004982812460429958, 0.0004087740703853321, 0.0002773787291157603, 0.00026669883110748524, 0.00026037378517553255, 0.000255902798159455, 0.00024033207964393807, 0.00015001529685863672, 0.0001390995763689422, 0.00010837827035044674, 0.0001005971954591042, 9.324782738320944e-05, 9.226443765713827e-05, 2.0551953982663492e-05, 0.0, 0.0, 0.0, 0.0, 0.0], \"y\": [\"script_count\", \"Num_of_hrefs\", \"a_count\", \"script_src_out_of_domain\", \"div_count\", \"img_src_out_of_domain\", \"document.createElement\", \"replace\", \"style_count\", \"input_count\", \"document.write\", \"script_type_text/javascript\", \"img_src_absolute\", \"substring\", \"li_count\", \"window.setTimeout\", \"window.addEventListener\", \"unescape\", \"iframe_src_relative\", \"meta_http-equiv_X-UA-Compatible\", \"escape\", \"parseInt\", \"String.fromCharCode\", \"object_count\", \"eval\", \"iframe_count\", \"charAt\", \"meta_http-equiv_refresh\", \"decodeURIComponent\", \"charCodeAt\", \"encodeURIComponent\", \"embed_count\", \"concat\", \"window.setInterval\", \"exec\", \"small_count\", \"iframe_hidden_true\", \"link\", \"search\", \"image_count\"], \"type\": \"bar\", \"uid\": \"3dbb3c1f-30b7-41aa-b521-ec7fe422efa9\"}], {\"autosize\": false, \"height\": 1000, \"width\": 1000, \"xaxis\": {\"tickfont\": {\"color\": \"black\", \"size\": 12}, \"title\": \"Feature Importances\"}, \"yaxis\": {\"automargin\": true}}, {\"showLink\": true, \"linkText\": \"Export to plot.ly\", \"plotlyServerURL\": \"https://plot.ly\"})});</script>"
      ]
     },
     "metadata": {},
     "output_type": "display_data"
    },
    {
     "name": "stdout",
     "output_type": "stream",
     "text": [
      "\n",
      "\n",
      "\u001b[1mExtraTree Classifier\u001b[0m\n",
      "Accuracy of the model for training data is: 0.910000921178\n",
      "Confusion Matrix for training data is:\n"
     ]
    },
    {
     "data": {
      "text/plain": [
       "Predicted  False  True  __all__\n",
       "Actual                         \n",
       "False      24960  2878    27838\n",
       "True          53  4676     4729\n",
       "__all__    25013  7554    32567"
      ]
     },
     "metadata": {},
     "output_type": "display_data"
    },
    {
     "name": "stdout",
     "output_type": "stream",
     "text": [
      "Accuracy of the model for test data is: 0.896217145664\n",
      "Confusion Matrix for test data is:\n"
     ]
    },
    {
     "data": {
      "text/plain": [
       "Predicted  False  True  __all__\n",
       "Actual                         \n",
       "False       6205   735     6940\n",
       "True         110  1092     1202\n",
       "__all__     6315  1827     8142"
      ]
     },
     "metadata": {},
     "output_type": "display_data"
    },
    {
     "data": {
      "application/vnd.plotly.v1+json": {
       "config": {
        "linkText": "Export to plot.ly",
        "plotlyServerURL": "https://plot.ly",
        "showLink": true
       },
       "data": [
        {
         "marker": {
          "color": "rgb(158,202,225)",
          "line": {
           "color": "rgb(8,48,107)",
           "width": 1.5
          }
         },
         "opacity": 0.6,
         "orientation": "h",
         "text": [
          0.1191,
          0.093,
          0.0894,
          0.0892,
          0.076,
          0.061,
          0.0575,
          0.0531,
          0.0439,
          0.0432,
          0.042,
          0.0392,
          0.0325,
          0.0319,
          0.0301,
          0.0158,
          0.0142,
          0.0095,
          0.0059,
          0.0058,
          0.005,
          0.005,
          0.0049,
          0.0047,
          0.0043,
          0.0039,
          0.0029,
          0.0024,
          0.0023,
          0.0022,
          0.0021,
          0.0018,
          0.0014,
          0.0013,
          0.0011,
          0.001,
          0.0008,
          0.0003,
          0.0002,
          0.0001
         ],
         "textposition": "outside",
         "type": "bar",
         "uid": "fdbdf0e0-bbea-491b-a38d-4f395663017c",
         "x": [
          0.11908671140254876,
          0.09302542494671062,
          0.08943607530400063,
          0.08921550231106233,
          0.07598448765889024,
          0.060985475870139604,
          0.05752969929216538,
          0.053101125283437314,
          0.0438676785577223,
          0.04318118309003023,
          0.042028599675769565,
          0.039220617618859296,
          0.03251498625179557,
          0.03190089044612358,
          0.030054757902971258,
          0.015758461284325533,
          0.014241664900655154,
          0.009496868477841574,
          0.005901285199428388,
          0.005790386862033714,
          0.005039620577204658,
          0.005019530234142023,
          0.00490608068680357,
          0.004744203522215644,
          0.004252631936614941,
          0.0038529905729526763,
          0.0029027909177561746,
          0.002381661439506861,
          0.002271017360870279,
          0.002172773266396212,
          0.002091452557706116,
          0.0018146283964045346,
          0.0013633627866804206,
          0.0012751857350067656,
          0.0011307693334205522,
          0.0010360153434231857,
          0.0007978369157843043,
          0.00031211230234552565,
          0.000202606608237107,
          0.00011084717001738422
         ],
         "y": [
          "a_count",
          "div_count",
          "script_count",
          "Num_of_hrefs",
          "iframe_count",
          "li_count",
          "script_type_text/javascript",
          "img_src_out_of_domain",
          "style_count",
          "img_src_absolute",
          "meta_http-equiv_X-UA-Compatible",
          "script_src_out_of_domain",
          "iframe_src_relative",
          "document.createElement",
          "input_count",
          "replace",
          "escape",
          "document.write",
          "small_count",
          "window.setTimeout",
          "concat",
          "parseInt",
          "encodeURIComponent",
          "window.addEventListener",
          "exec",
          "substring",
          "decodeURIComponent",
          "String.fromCharCode",
          "unescape",
          "eval",
          "object_count",
          "meta_http-equiv_refresh",
          "charAt",
          "embed_count",
          "iframe_hidden_true",
          "search",
          "window.setInterval",
          "charCodeAt",
          "link",
          "image_count"
         ]
        }
       ],
       "layout": {
        "autosize": false,
        "height": 1000,
        "width": 1000,
        "xaxis": {
         "tickfont": {
          "color": "black",
          "size": 12
         },
         "title": "Feature Importances"
        },
        "yaxis": {
         "automargin": true
        }
       }
      },
      "text/html": [
       "<div id=\"aa75f919-1206-46a8-be43-fb8031c476e4\" style=\"height: 1000px; width: 1000px;\" class=\"plotly-graph-div\"></div><script type=\"text/javascript\">require([\"plotly\"], function(Plotly) { window.PLOTLYENV=window.PLOTLYENV || {};window.PLOTLYENV.BASE_URL=\"https://plot.ly\";Plotly.newPlot(\"aa75f919-1206-46a8-be43-fb8031c476e4\", [{\"marker\": {\"color\": \"rgb(158,202,225)\", \"line\": {\"color\": \"rgb(8,48,107)\", \"width\": 1.5}}, \"opacity\": 0.6, \"orientation\": \"h\", \"text\": [0.1191, 0.093, 0.0894, 0.0892, 0.076, 0.061, 0.0575, 0.0531, 0.0439, 0.0432, 0.042, 0.0392, 0.0325, 0.0319, 0.0301, 0.0158, 0.0142, 0.0095, 0.0059, 0.0058, 0.005, 0.005, 0.0049, 0.0047, 0.0043, 0.0039, 0.0029, 0.0024, 0.0023, 0.0022, 0.0021, 0.0018, 0.0014, 0.0013, 0.0011, 0.001, 0.0008, 0.0003, 0.0002, 0.0001], \"textposition\": \"outside\", \"x\": [0.11908671140254876, 0.09302542494671062, 0.08943607530400063, 0.08921550231106233, 0.07598448765889024, 0.060985475870139604, 0.05752969929216538, 0.053101125283437314, 0.0438676785577223, 0.04318118309003023, 0.042028599675769565, 0.039220617618859296, 0.03251498625179557, 0.03190089044612358, 0.030054757902971258, 0.015758461284325533, 0.014241664900655154, 0.009496868477841574, 0.005901285199428388, 0.005790386862033714, 0.005039620577204658, 0.005019530234142023, 0.00490608068680357, 0.004744203522215644, 0.004252631936614941, 0.0038529905729526763, 0.0029027909177561746, 0.002381661439506861, 0.002271017360870279, 0.002172773266396212, 0.002091452557706116, 0.0018146283964045346, 0.0013633627866804206, 0.0012751857350067656, 0.0011307693334205522, 0.0010360153434231857, 0.0007978369157843043, 0.00031211230234552565, 0.000202606608237107, 0.00011084717001738422], \"y\": [\"a_count\", \"div_count\", \"script_count\", \"Num_of_hrefs\", \"iframe_count\", \"li_count\", \"script_type_text/javascript\", \"img_src_out_of_domain\", \"style_count\", \"img_src_absolute\", \"meta_http-equiv_X-UA-Compatible\", \"script_src_out_of_domain\", \"iframe_src_relative\", \"document.createElement\", \"input_count\", \"replace\", \"escape\", \"document.write\", \"small_count\", \"window.setTimeout\", \"concat\", \"parseInt\", \"encodeURIComponent\", \"window.addEventListener\", \"exec\", \"substring\", \"decodeURIComponent\", \"String.fromCharCode\", \"unescape\", \"eval\", \"object_count\", \"meta_http-equiv_refresh\", \"charAt\", \"embed_count\", \"iframe_hidden_true\", \"search\", \"window.setInterval\", \"charCodeAt\", \"link\", \"image_count\"], \"type\": \"bar\", \"uid\": \"fdbdf0e0-bbea-491b-a38d-4f395663017c\"}], {\"autosize\": false, \"height\": 1000, \"width\": 1000, \"xaxis\": {\"tickfont\": {\"color\": \"black\", \"size\": 12}, \"title\": \"Feature Importances\"}, \"yaxis\": {\"automargin\": true}}, {\"showLink\": true, \"linkText\": \"Export to plot.ly\", \"plotlyServerURL\": \"https://plot.ly\"})});</script>"
      ],
      "text/vnd.plotly.v1+html": [
       "<div id=\"aa75f919-1206-46a8-be43-fb8031c476e4\" style=\"height: 1000px; width: 1000px;\" class=\"plotly-graph-div\"></div><script type=\"text/javascript\">require([\"plotly\"], function(Plotly) { window.PLOTLYENV=window.PLOTLYENV || {};window.PLOTLYENV.BASE_URL=\"https://plot.ly\";Plotly.newPlot(\"aa75f919-1206-46a8-be43-fb8031c476e4\", [{\"marker\": {\"color\": \"rgb(158,202,225)\", \"line\": {\"color\": \"rgb(8,48,107)\", \"width\": 1.5}}, \"opacity\": 0.6, \"orientation\": \"h\", \"text\": [0.1191, 0.093, 0.0894, 0.0892, 0.076, 0.061, 0.0575, 0.0531, 0.0439, 0.0432, 0.042, 0.0392, 0.0325, 0.0319, 0.0301, 0.0158, 0.0142, 0.0095, 0.0059, 0.0058, 0.005, 0.005, 0.0049, 0.0047, 0.0043, 0.0039, 0.0029, 0.0024, 0.0023, 0.0022, 0.0021, 0.0018, 0.0014, 0.0013, 0.0011, 0.001, 0.0008, 0.0003, 0.0002, 0.0001], \"textposition\": \"outside\", \"x\": [0.11908671140254876, 0.09302542494671062, 0.08943607530400063, 0.08921550231106233, 0.07598448765889024, 0.060985475870139604, 0.05752969929216538, 0.053101125283437314, 0.0438676785577223, 0.04318118309003023, 0.042028599675769565, 0.039220617618859296, 0.03251498625179557, 0.03190089044612358, 0.030054757902971258, 0.015758461284325533, 0.014241664900655154, 0.009496868477841574, 0.005901285199428388, 0.005790386862033714, 0.005039620577204658, 0.005019530234142023, 0.00490608068680357, 0.004744203522215644, 0.004252631936614941, 0.0038529905729526763, 0.0029027909177561746, 0.002381661439506861, 0.002271017360870279, 0.002172773266396212, 0.002091452557706116, 0.0018146283964045346, 0.0013633627866804206, 0.0012751857350067656, 0.0011307693334205522, 0.0010360153434231857, 0.0007978369157843043, 0.00031211230234552565, 0.000202606608237107, 0.00011084717001738422], \"y\": [\"a_count\", \"div_count\", \"script_count\", \"Num_of_hrefs\", \"iframe_count\", \"li_count\", \"script_type_text/javascript\", \"img_src_out_of_domain\", \"style_count\", \"img_src_absolute\", \"meta_http-equiv_X-UA-Compatible\", \"script_src_out_of_domain\", \"iframe_src_relative\", \"document.createElement\", \"input_count\", \"replace\", \"escape\", \"document.write\", \"small_count\", \"window.setTimeout\", \"concat\", \"parseInt\", \"encodeURIComponent\", \"window.addEventListener\", \"exec\", \"substring\", \"decodeURIComponent\", \"String.fromCharCode\", \"unescape\", \"eval\", \"object_count\", \"meta_http-equiv_refresh\", \"charAt\", \"embed_count\", \"iframe_hidden_true\", \"search\", \"window.setInterval\", \"charCodeAt\", \"link\", \"image_count\"], \"type\": \"bar\", \"uid\": \"fdbdf0e0-bbea-491b-a38d-4f395663017c\"}], {\"autosize\": false, \"height\": 1000, \"width\": 1000, \"xaxis\": {\"tickfont\": {\"color\": \"black\", \"size\": 12}, \"title\": \"Feature Importances\"}, \"yaxis\": {\"automargin\": true}}, {\"showLink\": true, \"linkText\": \"Export to plot.ly\", \"plotlyServerURL\": \"https://plot.ly\"})});</script>"
      ]
     },
     "metadata": {},
     "output_type": "display_data"
    },
    {
     "name": "stdout",
     "output_type": "stream",
     "text": [
      "\n",
      "\n",
      "\u001b[1mBagging Classifier\u001b[0m\n",
      "Accuracy of the model for training data is: 0.907360211257\n",
      "Confusion Matrix for training data is:\n"
     ]
    },
    {
     "data": {
      "text/plain": [
       "Predicted  False  True  __all__\n",
       "Actual                         \n",
       "False      24955  2883    27838\n",
       "True         134  4595     4729\n",
       "__all__    25089  7478    32567"
      ]
     },
     "metadata": {},
     "output_type": "display_data"
    },
    {
     "name": "stdout",
     "output_type": "stream",
     "text": [
      "Accuracy of the model for test data is: 0.896094325718\n",
      "Confusion Matrix for test data is:\n"
     ]
    },
    {
     "data": {
      "text/plain": [
       "Predicted  False  True  __all__\n",
       "Actual                         \n",
       "False       6203   737     6940\n",
       "True         109  1093     1202\n",
       "__all__     6312  1830     8142"
      ]
     },
     "metadata": {},
     "output_type": "display_data"
    },
    {
     "name": "stdout",
     "output_type": "stream",
     "text": [
      "\n",
      "\n",
      "\u001b[1mNeural Network-1\u001b[0m\n",
      "The accuracy of the model on training data is: 0.890717597577\n"
     ]
    },
    {
     "data": {
      "text/plain": [
       "Predicted  False  True  __all__\n",
       "Actual                         \n",
       "False      24920  2918    27838\n",
       "True         641  4088     4729\n",
       "__all__    25561  7006    32567"
      ]
     },
     "metadata": {},
     "output_type": "display_data"
    },
    {
     "name": "stdout",
     "output_type": "stream",
     "text": [
      "The accuracy of the model on test data is: 0.883321051339\n"
     ]
    },
    {
     "data": {
      "text/plain": [
       "Predicted  False  True  __all__\n",
       "Actual                         \n",
       "False       6186   754     6940\n",
       "True         196  1006     1202\n",
       "__all__     6382  1760     8142"
      ]
     },
     "metadata": {},
     "output_type": "display_data"
    },
    {
     "name": "stdout",
     "output_type": "stream",
     "text": [
      "\n",
      "\n"
     ]
    }
   ],
   "source": [
    "feat_imp=[None]*4\n",
    "j=0\n",
    "for i in range(0,8):\n",
    "    if i>=2 and i<=5:\n",
    "        model,cm_train,cm_test,acc_train,acc_test,roc_auc,feat_imp[j],mcc=f[i](scaled_X_train,train_Y,scaled_X_test,test_Y,columns)\n",
    "        j=j+1\n",
    "    else:\n",
    "        model,cm_train,cm_test,acc_train,acc_test,roc_auc,mcc=f[i](scaled_X_train,train_Y,scaled_X_test,test_Y)\n",
    "    table_80_50_train.loc[i]=   ([acc_train,cm_train.TP,cm_train.TN,cm_train.FP,cm_train.FN,cm_train.FPR,cm_train.FNR])\n",
    "    table_80_50_test.loc[i] =   ([acc_test ,cm_test.TP, cm_test.TN, cm_test.FP, cm_test.FN, cm_test.FPR, cm_test.FNR,roc_auc,mcc])\n",
    "    print(\"\\n\")"
   ]
  },
  {
   "cell_type": "markdown",
   "metadata": {},
   "source": [
    "### <a id='1.A' style=\"text-decoration : none; color : #000000;\"> A Results</a>"
   ]
  },
  {
   "cell_type": "code",
   "execution_count": 23,
   "metadata": {},
   "outputs": [
    {
     "data": {
      "application/vnd.plotly.v1+json": {
       "config": {
        "linkText": "Export to plot.ly",
        "plotlyServerURL": "https://plot.ly",
        "showLink": true
       },
       "data": [
        {
         "mode": "lines",
         "name": "KNN_model",
         "type": "scatter",
         "uid": "24ac3aef-bbea-4b98-aed4-4b775d0fc311",
         "x": [
          "accuracy",
          "FPR",
          "FNR",
          "auc"
         ],
         "y": [
          0.8641611397690985,
          0.00792507204610951,
          0.8743760399334443,
          0.5588494440102231
         ]
        },
        {
         "mode": "lines+markers",
         "name": "Logistic Regression",
         "type": "scatter",
         "uid": "86dedd29-2833-4e71-acbc-e8113c87af71",
         "x": [
          "accuracy",
          "FPR",
          "FNR",
          "auc"
         ],
         "y": [
          0.8520019651191354,
          0.00345821325648415,
          0.9825291181364393,
          0.5070063343035383
         ]
        },
        {
         "marker": {
          "symbol": "x"
         },
         "mode": "lines+markers",
         "name": "Random Forest",
         "type": "scatter",
         "uid": "232bcac2-f9b5-46a1-9900-f7fcf6a27234",
         "x": [
          "accuracy",
          "FPR",
          "FNR",
          "auc"
         ],
         "y": [
          0.895725865880619,
          0.10590778097982709,
          0.09484193011647254,
          0.8996251444518502
         ]
        },
        {
         "mode": "lines",
         "name": "Ada Boost",
         "type": "scatter",
         "uid": "c0f95d47-808a-45fa-8dbe-4419b597a270",
         "x": [
          "accuracy",
          "FPR",
          "FNR",
          "auc"
         ],
         "y": [
          0.8763203144190617,
          0.11426512968299712,
          0.17803660565723795,
          0.8538491323298826
         ]
        },
        {
         "mode": "lines+markers",
         "name": "GradientBoosting",
         "type": "scatter",
         "uid": "5622dcc7-63b9-4cd2-b740-395cb53fda13",
         "x": [
          "accuracy",
          "FPR",
          "FNR",
          "auc"
         ],
         "y": [
          0.8898305084745762,
          0.10504322766570605,
          0.13976705490848584,
          0.8775948587129041
         ]
        },
        {
         "marker": {
          "symbol": "x"
         },
         "mode": "lines+markers",
         "name": "ExtraTree Classifier",
         "type": "scatter",
         "uid": "fa5ab64c-8cec-438b-a4bd-08876726b931",
         "x": [
          "accuracy",
          "FPR",
          "FNR",
          "auc"
         ],
         "y": [
          0.8962171456644559,
          0.10590778097982709,
          0.09151414309484193,
          0.9012890379626656
         ]
        },
        {
         "marker": {
          "symbol": "x"
         },
         "mode": "lines+markers",
         "name": "Bagging",
         "type": "scatter",
         "uid": "06c4f773-d856-4409-acfe-cf4d1f1650af",
         "x": [
          "accuracy",
          "FPR",
          "FNR",
          "auc"
         ],
         "y": [
          0.8960943257184967,
          0.10619596541786744,
          0.09068219633943428,
          0.9015609191213492
         ]
        },
        {
         "marker": {
          "symbol": "x"
         },
         "mode": "lines+markers",
         "name": "Neural Network",
         "type": "scatter",
         "uid": "41a6e962-4e4c-4083-8bc7-fbbbb7d18722",
         "x": [
          "accuracy",
          "FPR",
          "FNR",
          "auc"
         ],
         "y": [
          0.8833210513387374,
          0.10864553314121038,
          0.16306156405990016,
          0.9015609191213492
         ]
        }
       ],
       "layout": {
        "title": "Result comparision for Features selected in Section 1",
        "yaxis": {
         "dtick": 0.05,
         "tick0": 0
        }
       }
      },
      "text/html": [
       "<div id=\"2555983e-fbce-402b-9e99-2018ac9c2da6\" style=\"height: 525px; width: 100%;\" class=\"plotly-graph-div\"></div><script type=\"text/javascript\">require([\"plotly\"], function(Plotly) { window.PLOTLYENV=window.PLOTLYENV || {};window.PLOTLYENV.BASE_URL=\"https://plot.ly\";Plotly.newPlot(\"2555983e-fbce-402b-9e99-2018ac9c2da6\", [{\"mode\": \"lines\", \"name\": \"KNN_model\", \"x\": [\"accuracy\", \"FPR\", \"FNR\", \"auc\"], \"y\": [0.8641611397690985, 0.00792507204610951, 0.8743760399334443, 0.5588494440102231], \"type\": \"scatter\", \"uid\": \"24ac3aef-bbea-4b98-aed4-4b775d0fc311\"}, {\"mode\": \"lines+markers\", \"name\": \"Logistic Regression\", \"x\": [\"accuracy\", \"FPR\", \"FNR\", \"auc\"], \"y\": [0.8520019651191354, 0.00345821325648415, 0.9825291181364393, 0.5070063343035383], \"type\": \"scatter\", \"uid\": \"86dedd29-2833-4e71-acbc-e8113c87af71\"}, {\"marker\": {\"symbol\": \"x\"}, \"mode\": \"lines+markers\", \"name\": \"Random Forest\", \"x\": [\"accuracy\", \"FPR\", \"FNR\", \"auc\"], \"y\": [0.895725865880619, 0.10590778097982709, 0.09484193011647254, 0.8996251444518502], \"type\": \"scatter\", \"uid\": \"232bcac2-f9b5-46a1-9900-f7fcf6a27234\"}, {\"mode\": \"lines\", \"name\": \"Ada Boost\", \"x\": [\"accuracy\", \"FPR\", \"FNR\", \"auc\"], \"y\": [0.8763203144190617, 0.11426512968299712, 0.17803660565723795, 0.8538491323298826], \"type\": \"scatter\", \"uid\": \"c0f95d47-808a-45fa-8dbe-4419b597a270\"}, {\"mode\": \"lines+markers\", \"name\": \"GradientBoosting\", \"x\": [\"accuracy\", \"FPR\", \"FNR\", \"auc\"], \"y\": [0.8898305084745762, 0.10504322766570605, 0.13976705490848584, 0.8775948587129041], \"type\": \"scatter\", \"uid\": \"5622dcc7-63b9-4cd2-b740-395cb53fda13\"}, {\"marker\": {\"symbol\": \"x\"}, \"mode\": \"lines+markers\", \"name\": \"ExtraTree Classifier\", \"x\": [\"accuracy\", \"FPR\", \"FNR\", \"auc\"], \"y\": [0.8962171456644559, 0.10590778097982709, 0.09151414309484193, 0.9012890379626656], \"type\": \"scatter\", \"uid\": \"fa5ab64c-8cec-438b-a4bd-08876726b931\"}, {\"marker\": {\"symbol\": \"x\"}, \"mode\": \"lines+markers\", \"name\": \"Bagging\", \"x\": [\"accuracy\", \"FPR\", \"FNR\", \"auc\"], \"y\": [0.8960943257184967, 0.10619596541786744, 0.09068219633943428, 0.9015609191213492], \"type\": \"scatter\", \"uid\": \"06c4f773-d856-4409-acfe-cf4d1f1650af\"}, {\"marker\": {\"symbol\": \"x\"}, \"mode\": \"lines+markers\", \"name\": \"Neural Network\", \"x\": [\"accuracy\", \"FPR\", \"FNR\", \"auc\"], \"y\": [0.8833210513387374, 0.10864553314121038, 0.16306156405990016, 0.9015609191213492], \"type\": \"scatter\", \"uid\": \"41a6e962-4e4c-4083-8bc7-fbbbb7d18722\"}], {\"title\": \"Result comparision for Features selected in Section 1\", \"yaxis\": {\"dtick\": 0.05, \"tick0\": 0}}, {\"showLink\": true, \"linkText\": \"Export to plot.ly\", \"plotlyServerURL\": \"https://plot.ly\"})});</script><script type=\"text/javascript\">window.addEventListener(\"resize\", function(){window._Plotly.Plots.resize(document.getElementById(\"2555983e-fbce-402b-9e99-2018ac9c2da6\"));});</script>"
      ],
      "text/vnd.plotly.v1+html": [
       "<div id=\"2555983e-fbce-402b-9e99-2018ac9c2da6\" style=\"height: 525px; width: 100%;\" class=\"plotly-graph-div\"></div><script type=\"text/javascript\">require([\"plotly\"], function(Plotly) { window.PLOTLYENV=window.PLOTLYENV || {};window.PLOTLYENV.BASE_URL=\"https://plot.ly\";Plotly.newPlot(\"2555983e-fbce-402b-9e99-2018ac9c2da6\", [{\"mode\": \"lines\", \"name\": \"KNN_model\", \"x\": [\"accuracy\", \"FPR\", \"FNR\", \"auc\"], \"y\": [0.8641611397690985, 0.00792507204610951, 0.8743760399334443, 0.5588494440102231], \"type\": \"scatter\", \"uid\": \"24ac3aef-bbea-4b98-aed4-4b775d0fc311\"}, {\"mode\": \"lines+markers\", \"name\": \"Logistic Regression\", \"x\": [\"accuracy\", \"FPR\", \"FNR\", \"auc\"], \"y\": [0.8520019651191354, 0.00345821325648415, 0.9825291181364393, 0.5070063343035383], \"type\": \"scatter\", \"uid\": \"86dedd29-2833-4e71-acbc-e8113c87af71\"}, {\"marker\": {\"symbol\": \"x\"}, \"mode\": \"lines+markers\", \"name\": \"Random Forest\", \"x\": [\"accuracy\", \"FPR\", \"FNR\", \"auc\"], \"y\": [0.895725865880619, 0.10590778097982709, 0.09484193011647254, 0.8996251444518502], \"type\": \"scatter\", \"uid\": \"232bcac2-f9b5-46a1-9900-f7fcf6a27234\"}, {\"mode\": \"lines\", \"name\": \"Ada Boost\", \"x\": [\"accuracy\", \"FPR\", \"FNR\", \"auc\"], \"y\": [0.8763203144190617, 0.11426512968299712, 0.17803660565723795, 0.8538491323298826], \"type\": \"scatter\", \"uid\": \"c0f95d47-808a-45fa-8dbe-4419b597a270\"}, {\"mode\": \"lines+markers\", \"name\": \"GradientBoosting\", \"x\": [\"accuracy\", \"FPR\", \"FNR\", \"auc\"], \"y\": [0.8898305084745762, 0.10504322766570605, 0.13976705490848584, 0.8775948587129041], \"type\": \"scatter\", \"uid\": \"5622dcc7-63b9-4cd2-b740-395cb53fda13\"}, {\"marker\": {\"symbol\": \"x\"}, \"mode\": \"lines+markers\", \"name\": \"ExtraTree Classifier\", \"x\": [\"accuracy\", \"FPR\", \"FNR\", \"auc\"], \"y\": [0.8962171456644559, 0.10590778097982709, 0.09151414309484193, 0.9012890379626656], \"type\": \"scatter\", \"uid\": \"fa5ab64c-8cec-438b-a4bd-08876726b931\"}, {\"marker\": {\"symbol\": \"x\"}, \"mode\": \"lines+markers\", \"name\": \"Bagging\", \"x\": [\"accuracy\", \"FPR\", \"FNR\", \"auc\"], \"y\": [0.8960943257184967, 0.10619596541786744, 0.09068219633943428, 0.9015609191213492], \"type\": \"scatter\", \"uid\": \"06c4f773-d856-4409-acfe-cf4d1f1650af\"}, {\"marker\": {\"symbol\": \"x\"}, \"mode\": \"lines+markers\", \"name\": \"Neural Network\", \"x\": [\"accuracy\", \"FPR\", \"FNR\", \"auc\"], \"y\": [0.8833210513387374, 0.10864553314121038, 0.16306156405990016, 0.9015609191213492], \"type\": \"scatter\", \"uid\": \"41a6e962-4e4c-4083-8bc7-fbbbb7d18722\"}], {\"title\": \"Result comparision for Features selected in Section 1\", \"yaxis\": {\"dtick\": 0.05, \"tick0\": 0}}, {\"showLink\": true, \"linkText\": \"Export to plot.ly\", \"plotlyServerURL\": \"https://plot.ly\"})});</script><script type=\"text/javascript\">window.addEventListener(\"resize\", function(){window._Plotly.Plots.resize(document.getElementById(\"2555983e-fbce-402b-9e99-2018ac9c2da6\"));});</script>"
      ]
     },
     "metadata": {},
     "output_type": "display_data"
    }
   ],
   "source": [
    "trace0 = go.Scatter(x=table_80_50_test.iloc[0].index.values[[0,5,6,7]],\n",
    "                    y=table_80_50_test.iloc[0].values[[0,5,6,7]],\n",
    "                    mode = 'lines',\n",
    "                    name = 'KNN_model')\n",
    "\n",
    "trace1 = go.Scatter(x=table_80_50_test.iloc[1].index.values[[0,5,6,7]],\n",
    "                    y=table_80_50_test.iloc[1].values[[0,5,6,7]],\n",
    "                    mode = 'lines+markers',\n",
    "                    name = 'Logistic Regression')\n",
    "\n",
    "trace2 = go.Scatter(x=table_80_50_test.iloc[2].index.values[[0,5,6,7]],\n",
    "                    y=table_80_50_test.iloc[2].values[[0,5,6,7]],\n",
    "                    mode = 'lines+markers',marker=dict(symbol='x'),\n",
    "                    name = 'Random Forest')\n",
    "\n",
    "\n",
    "trace3 = go.Scatter(x=table_80_50_test.iloc[3].index.values[[0,5,6,7]],\n",
    "                    y=table_80_50_test.iloc[3].values[[0,5,6,7]],\n",
    "                    mode = 'lines',\n",
    "                    name = 'Ada Boost')\n",
    "\n",
    "trace4 = go.Scatter(x=table_80_50_test.iloc[4].index.values[[0,5,6,7]],\n",
    "                    y=table_80_50_test.iloc[4].values[[0,5,6,7]],\n",
    "                    mode = 'lines+markers',\n",
    "                    name = 'GradientBoosting')\n",
    "\n",
    "trace5 = go.Scatter(x=table_80_50_test.iloc[5].index.values[[0,5,6,7]],\n",
    "                    y=table_80_50_test.iloc[5].values[[0,5,6,7]],\n",
    "                    mode = 'lines+markers',marker=dict(symbol='x'),\n",
    "                    name = 'ExtraTree Classifier')\n",
    "\n",
    "trace6 = go.Scatter(x=table_80_50_test.iloc[6].index.values[[0,5,6,7]],\n",
    "                    y=table_80_50_test.iloc[6].values[[0,5,6,7]],\n",
    "                    mode = 'lines+markers',marker=dict(symbol='x'),\n",
    "                    name = 'Bagging')\n",
    "\n",
    "trace7 = go.Scatter(x=table_80_50_test.iloc[7].index.values[[0,5,6,7]],\n",
    "                    y=table_80_50_test.iloc[7].values[[0,5,6,7]],\n",
    "                    mode = 'lines+markers',marker=dict(symbol='x'),\n",
    "                    name = 'Neural Network')\n",
    "\n",
    "\n",
    "\n",
    "data = [trace0, trace1, trace2, trace3, trace4, trace5, trace6, trace7]\n",
    "layout = go.Layout(yaxis=dict(tick0=0,dtick=0.05),title='Result comparision for Features selected in Section 1')\n",
    "fig = go.Figure(data=data, layout=layout)\n",
    "\n",
    "iplot(fig, filename='Result')"
   ]
  },
  {
   "cell_type": "code",
   "execution_count": 24,
   "metadata": {},
   "outputs": [
    {
     "name": "stdout",
     "output_type": "stream",
     "text": [
      "Training Results\n"
     ]
    },
    {
     "data": {
      "text/html": [
       "<div>\n",
       "<style scoped>\n",
       "    .dataframe tbody tr th:only-of-type {\n",
       "        vertical-align: middle;\n",
       "    }\n",
       "\n",
       "    .dataframe tbody tr th {\n",
       "        vertical-align: top;\n",
       "    }\n",
       "\n",
       "    .dataframe thead th {\n",
       "        text-align: right;\n",
       "    }\n",
       "</style>\n",
       "<table border=\"1\" class=\"dataframe\">\n",
       "  <thead>\n",
       "    <tr style=\"text-align: right;\">\n",
       "      <th></th>\n",
       "      <th>accuracy</th>\n",
       "      <th>TP</th>\n",
       "      <th>TN</th>\n",
       "      <th>FP</th>\n",
       "      <th>FN</th>\n",
       "      <th>FPR</th>\n",
       "      <th>FNR</th>\n",
       "    </tr>\n",
       "    <tr>\n",
       "      <th>index</th>\n",
       "      <th></th>\n",
       "      <th></th>\n",
       "      <th></th>\n",
       "      <th></th>\n",
       "      <th></th>\n",
       "      <th></th>\n",
       "      <th></th>\n",
       "    </tr>\n",
       "  </thead>\n",
       "  <tbody>\n",
       "    <tr>\n",
       "      <th>KNeighborsClassifier</th>\n",
       "      <td>0.871496</td>\n",
       "      <td>698.0</td>\n",
       "      <td>27684.0</td>\n",
       "      <td>154.0</td>\n",
       "      <td>4031.0</td>\n",
       "      <td>0.005532</td>\n",
       "      <td>0.852400</td>\n",
       "    </tr>\n",
       "    <tr>\n",
       "      <th>LogisticRegression</th>\n",
       "      <td>0.855590</td>\n",
       "      <td>96.0</td>\n",
       "      <td>27768.0</td>\n",
       "      <td>70.0</td>\n",
       "      <td>4633.0</td>\n",
       "      <td>0.002515</td>\n",
       "      <td>0.979700</td>\n",
       "    </tr>\n",
       "    <tr>\n",
       "      <th>RandomForestClassifier</th>\n",
       "      <td>0.907821</td>\n",
       "      <td>4612.0</td>\n",
       "      <td>24953.0</td>\n",
       "      <td>2885.0</td>\n",
       "      <td>117.0</td>\n",
       "      <td>0.103635</td>\n",
       "      <td>0.024741</td>\n",
       "    </tr>\n",
       "    <tr>\n",
       "      <th>AdaBoostClassifier</th>\n",
       "      <td>0.875119</td>\n",
       "      <td>3856.0</td>\n",
       "      <td>24644.0</td>\n",
       "      <td>3194.0</td>\n",
       "      <td>873.0</td>\n",
       "      <td>0.114735</td>\n",
       "      <td>0.184606</td>\n",
       "    </tr>\n",
       "    <tr>\n",
       "      <th>GradientBoostingClassifier</th>\n",
       "      <td>0.892069</td>\n",
       "      <td>4109.0</td>\n",
       "      <td>24943.0</td>\n",
       "      <td>2895.0</td>\n",
       "      <td>620.0</td>\n",
       "      <td>0.103995</td>\n",
       "      <td>0.131106</td>\n",
       "    </tr>\n",
       "    <tr>\n",
       "      <th>ExtraTreeClassifier</th>\n",
       "      <td>0.910001</td>\n",
       "      <td>4676.0</td>\n",
       "      <td>24960.0</td>\n",
       "      <td>2878.0</td>\n",
       "      <td>53.0</td>\n",
       "      <td>0.103384</td>\n",
       "      <td>0.011207</td>\n",
       "    </tr>\n",
       "    <tr>\n",
       "      <th>BaggingClassifier</th>\n",
       "      <td>0.907360</td>\n",
       "      <td>4595.0</td>\n",
       "      <td>24955.0</td>\n",
       "      <td>2883.0</td>\n",
       "      <td>134.0</td>\n",
       "      <td>0.103563</td>\n",
       "      <td>0.028336</td>\n",
       "    </tr>\n",
       "    <tr>\n",
       "      <th>Neural Network-1</th>\n",
       "      <td>0.890718</td>\n",
       "      <td>4088.0</td>\n",
       "      <td>24920.0</td>\n",
       "      <td>2918.0</td>\n",
       "      <td>641.0</td>\n",
       "      <td>0.104821</td>\n",
       "      <td>0.135547</td>\n",
       "    </tr>\n",
       "  </tbody>\n",
       "</table>\n",
       "</div>"
      ],
      "text/plain": [
       "                            accuracy      TP       TN      FP      FN  \\\n",
       "index                                                                   \n",
       "KNeighborsClassifier        0.871496   698.0  27684.0   154.0  4031.0   \n",
       "LogisticRegression          0.855590    96.0  27768.0    70.0  4633.0   \n",
       "RandomForestClassifier      0.907821  4612.0  24953.0  2885.0   117.0   \n",
       "AdaBoostClassifier          0.875119  3856.0  24644.0  3194.0   873.0   \n",
       "GradientBoostingClassifier  0.892069  4109.0  24943.0  2895.0   620.0   \n",
       "ExtraTreeClassifier         0.910001  4676.0  24960.0  2878.0    53.0   \n",
       "BaggingClassifier           0.907360  4595.0  24955.0  2883.0   134.0   \n",
       "Neural Network-1            0.890718  4088.0  24920.0  2918.0   641.0   \n",
       "\n",
       "                                 FPR       FNR  \n",
       "index                                           \n",
       "KNeighborsClassifier        0.005532  0.852400  \n",
       "LogisticRegression          0.002515  0.979700  \n",
       "RandomForestClassifier      0.103635  0.024741  \n",
       "AdaBoostClassifier          0.114735  0.184606  \n",
       "GradientBoostingClassifier  0.103995  0.131106  \n",
       "ExtraTreeClassifier         0.103384  0.011207  \n",
       "BaggingClassifier           0.103563  0.028336  \n",
       "Neural Network-1            0.104821  0.135547  "
      ]
     },
     "metadata": {},
     "output_type": "display_data"
    },
    {
     "name": "stdout",
     "output_type": "stream",
     "text": [
      "Test Results\n"
     ]
    },
    {
     "data": {
      "text/html": [
       "<div>\n",
       "<style scoped>\n",
       "    .dataframe tbody tr th:only-of-type {\n",
       "        vertical-align: middle;\n",
       "    }\n",
       "\n",
       "    .dataframe tbody tr th {\n",
       "        vertical-align: top;\n",
       "    }\n",
       "\n",
       "    .dataframe thead th {\n",
       "        text-align: right;\n",
       "    }\n",
       "</style>\n",
       "<table border=\"1\" class=\"dataframe\">\n",
       "  <thead>\n",
       "    <tr style=\"text-align: right;\">\n",
       "      <th></th>\n",
       "      <th>accuracy</th>\n",
       "      <th>TP</th>\n",
       "      <th>TN</th>\n",
       "      <th>FP</th>\n",
       "      <th>FN</th>\n",
       "      <th>FPR</th>\n",
       "      <th>FNR</th>\n",
       "      <th>auc</th>\n",
       "      <th>MCC</th>\n",
       "    </tr>\n",
       "    <tr>\n",
       "      <th>index</th>\n",
       "      <th></th>\n",
       "      <th></th>\n",
       "      <th></th>\n",
       "      <th></th>\n",
       "      <th></th>\n",
       "      <th></th>\n",
       "      <th></th>\n",
       "      <th></th>\n",
       "      <th></th>\n",
       "    </tr>\n",
       "  </thead>\n",
       "  <tbody>\n",
       "    <tr>\n",
       "      <th>KNeighborsClassifier</th>\n",
       "      <td>0.864161</td>\n",
       "      <td>151.0</td>\n",
       "      <td>6885.0</td>\n",
       "      <td>55.0</td>\n",
       "      <td>1051.0</td>\n",
       "      <td>0.007925</td>\n",
       "      <td>0.874376</td>\n",
       "      <td>0.558849</td>\n",
       "      <td>0.265870</td>\n",
       "    </tr>\n",
       "    <tr>\n",
       "      <th>LogisticRegression</th>\n",
       "      <td>0.852002</td>\n",
       "      <td>21.0</td>\n",
       "      <td>6916.0</td>\n",
       "      <td>24.0</td>\n",
       "      <td>1181.0</td>\n",
       "      <td>0.003458</td>\n",
       "      <td>0.982529</td>\n",
       "      <td>0.507006</td>\n",
       "      <td>0.067048</td>\n",
       "    </tr>\n",
       "    <tr>\n",
       "      <th>RandomForestClassifier</th>\n",
       "      <td>0.895726</td>\n",
       "      <td>1088.0</td>\n",
       "      <td>6205.0</td>\n",
       "      <td>735.0</td>\n",
       "      <td>114.0</td>\n",
       "      <td>0.105908</td>\n",
       "      <td>0.094842</td>\n",
       "      <td>0.899625</td>\n",
       "      <td>0.680138</td>\n",
       "    </tr>\n",
       "    <tr>\n",
       "      <th>AdaBoostClassifier</th>\n",
       "      <td>0.876320</td>\n",
       "      <td>988.0</td>\n",
       "      <td>6147.0</td>\n",
       "      <td>793.0</td>\n",
       "      <td>214.0</td>\n",
       "      <td>0.114265</td>\n",
       "      <td>0.178037</td>\n",
       "      <td>0.853849</td>\n",
       "      <td>0.607275</td>\n",
       "    </tr>\n",
       "    <tr>\n",
       "      <th>GradientBoostingClassifier</th>\n",
       "      <td>0.889831</td>\n",
       "      <td>1034.0</td>\n",
       "      <td>6211.0</td>\n",
       "      <td>729.0</td>\n",
       "      <td>168.0</td>\n",
       "      <td>0.105043</td>\n",
       "      <td>0.139767</td>\n",
       "      <td>0.877595</td>\n",
       "      <td>0.650408</td>\n",
       "    </tr>\n",
       "    <tr>\n",
       "      <th>ExtraTreeClassifier</th>\n",
       "      <td>0.896217</td>\n",
       "      <td>1092.0</td>\n",
       "      <td>6205.0</td>\n",
       "      <td>735.0</td>\n",
       "      <td>110.0</td>\n",
       "      <td>0.105908</td>\n",
       "      <td>0.091514</td>\n",
       "      <td>0.901289</td>\n",
       "      <td>0.682438</td>\n",
       "    </tr>\n",
       "    <tr>\n",
       "      <th>BaggingClassifier</th>\n",
       "      <td>0.896094</td>\n",
       "      <td>1093.0</td>\n",
       "      <td>6203.0</td>\n",
       "      <td>737.0</td>\n",
       "      <td>109.0</td>\n",
       "      <td>0.106196</td>\n",
       "      <td>0.090682</td>\n",
       "      <td>0.901561</td>\n",
       "      <td>0.682503</td>\n",
       "    </tr>\n",
       "    <tr>\n",
       "      <th>Neural Network-1</th>\n",
       "      <td>0.883321</td>\n",
       "      <td>1006.0</td>\n",
       "      <td>6186.0</td>\n",
       "      <td>754.0</td>\n",
       "      <td>196.0</td>\n",
       "      <td>0.108646</td>\n",
       "      <td>0.163062</td>\n",
       "      <td>0.901561</td>\n",
       "      <td>0.627629</td>\n",
       "    </tr>\n",
       "  </tbody>\n",
       "</table>\n",
       "</div>"
      ],
      "text/plain": [
       "                            accuracy      TP      TN     FP      FN       FPR  \\\n",
       "index                                                                           \n",
       "KNeighborsClassifier        0.864161   151.0  6885.0   55.0  1051.0  0.007925   \n",
       "LogisticRegression          0.852002    21.0  6916.0   24.0  1181.0  0.003458   \n",
       "RandomForestClassifier      0.895726  1088.0  6205.0  735.0   114.0  0.105908   \n",
       "AdaBoostClassifier          0.876320   988.0  6147.0  793.0   214.0  0.114265   \n",
       "GradientBoostingClassifier  0.889831  1034.0  6211.0  729.0   168.0  0.105043   \n",
       "ExtraTreeClassifier         0.896217  1092.0  6205.0  735.0   110.0  0.105908   \n",
       "BaggingClassifier           0.896094  1093.0  6203.0  737.0   109.0  0.106196   \n",
       "Neural Network-1            0.883321  1006.0  6186.0  754.0   196.0  0.108646   \n",
       "\n",
       "                                 FNR       auc       MCC  \n",
       "index                                                     \n",
       "KNeighborsClassifier        0.874376  0.558849  0.265870  \n",
       "LogisticRegression          0.982529  0.507006  0.067048  \n",
       "RandomForestClassifier      0.094842  0.899625  0.680138  \n",
       "AdaBoostClassifier          0.178037  0.853849  0.607275  \n",
       "GradientBoostingClassifier  0.139767  0.877595  0.650408  \n",
       "ExtraTreeClassifier         0.091514  0.901289  0.682438  \n",
       "BaggingClassifier           0.090682  0.901561  0.682503  \n",
       "Neural Network-1            0.163062  0.901561  0.627629  "
      ]
     },
     "metadata": {},
     "output_type": "display_data"
    }
   ],
   "source": [
    "table_80_50_train['index']=ind_columns\n",
    "table_80_50_test['index']=ind_columns\n",
    "\n",
    "\n",
    "table_80_50_test.set_index(['index'],drop=True,inplace=True)\n",
    "table_80_50_train.set_index(['index'],drop=True,inplace=True)\n",
    "\n",
    "print(\"Training Results\")\n",
    "display(table_80_50_train)\n",
    "print(\"Test Results\")\n",
    "display(table_80_50_test)"
   ]
  },
  {
   "cell_type": "markdown",
   "metadata": {},
   "source": [
    "### <a id='1.B' style=\"text-decoration : none; color : #000000;\"> B. Average Feature Importances</a>"
   ]
  },
  {
   "cell_type": "code",
   "execution_count": 25,
   "metadata": {},
   "outputs": [
    {
     "data": {
      "application/vnd.plotly.v1+json": {
       "config": {
        "linkText": "Export to plot.ly",
        "plotlyServerURL": "https://plot.ly",
        "showLink": true
       },
       "data": [
        {
         "marker": {
          "color": "rgb(158,202,225)",
          "line": {
           "color": "rgb(8,48,107)",
           "width": 1.5
          }
         },
         "opacity": 0.6,
         "orientation": "h",
         "text": [
          0.2702,
          0.1149,
          0.0884,
          0.0849,
          0.049,
          0.0436,
          0.0435,
          0.0397,
          0.037,
          0.0284,
          0.024,
          0.0238,
          0.0196,
          0.0195,
          0.0183,
          0.0112,
          0.0098,
          0.0081,
          0.0076,
          0.0073,
          0.0072,
          0.0071,
          0.0061,
          0.0059,
          0.0055,
          0.0054,
          0.0035,
          0.0022,
          0.0017,
          0.0015,
          0.0013,
          0.0009,
          0.0009,
          0.0007,
          0.0006,
          0.0003,
          0.0002,
          0.0002,
          0.0001,
          0
         ],
         "textposition": "outside",
         "type": "bar",
         "uid": "ad801d2d-b939-4306-b7a5-492fb921e393",
         "x": [
          0.27015178687376956,
          0.11490951905310924,
          0.08835590674809893,
          0.084918435639882,
          0.049031145233167234,
          0.04364339137047188,
          0.043517542537649806,
          0.039721542325793974,
          0.03695464637170888,
          0.028380749621620578,
          0.02399460203449587,
          0.0238255838866862,
          0.019619105418789765,
          0.01948482781314678,
          0.018343931538342007,
          0.011235478466934767,
          0.009810325911257906,
          0.008069406092450533,
          0.007577617702961577,
          0.007255471007250338,
          0.007151009863836244,
          0.0070513517385365964,
          0.006082240371240786,
          0.005899383659629551,
          0.005517279099796893,
          0.005385414360502551,
          0.0034726887066026013,
          0.002225884122492872,
          0.0016910152846215177,
          0.001491926497096613,
          0.0013075489099378154,
          0.0008905873297187318,
          0.0008649605082938909,
          0.0006604630228926925,
          0.0006148016380083704,
          0.00029717225684898263,
          0.0002456053995337452,
          0.00023898741974910114,
          6.686839886328707e-05,
          4.379576420930058e-05
         ],
         "y": [
          "script_count",
          "Num_of_hrefs",
          "script_type_text/javascript",
          "a_count",
          "img_src_absolute",
          "div_count",
          "script_src_out_of_domain",
          "img_src_out_of_domain",
          "iframe_count",
          "li_count",
          "replace",
          "style_count",
          "document.createElement",
          "input_count",
          "meta_http-equiv_X-UA-Compatible",
          "iframe_src_relative",
          "escape",
          "substring",
          "window.setTimeout",
          "window.addEventListener",
          "small_count",
          "concat",
          "charAt",
          "String.fromCharCode",
          "document.write",
          "search",
          "parseInt",
          "encodeURIComponent",
          "unescape",
          "decodeURIComponent",
          "exec",
          "eval",
          "object_count",
          "meta_http-equiv_refresh",
          "embed_count",
          "iframe_hidden_true",
          "charCodeAt",
          "window.setInterval",
          "link",
          "image_count"
         ]
        }
       ],
       "layout": {
        "autosize": false,
        "height": 1000,
        "width": 1000,
        "xaxis": {
         "tickfont": {
          "color": "black",
          "size": 12
         },
         "title": "Feature Importances"
        },
        "yaxis": {
         "automargin": true
        }
       }
      },
      "text/html": [
       "<div id=\"77cd3ec3-14fd-4475-a525-f5929174967b\" style=\"height: 1000px; width: 1000px;\" class=\"plotly-graph-div\"></div><script type=\"text/javascript\">require([\"plotly\"], function(Plotly) { window.PLOTLYENV=window.PLOTLYENV || {};window.PLOTLYENV.BASE_URL=\"https://plot.ly\";Plotly.newPlot(\"77cd3ec3-14fd-4475-a525-f5929174967b\", [{\"marker\": {\"color\": \"rgb(158,202,225)\", \"line\": {\"color\": \"rgb(8,48,107)\", \"width\": 1.5}}, \"opacity\": 0.6, \"orientation\": \"h\", \"text\": [0.2702, 0.1149, 0.0884, 0.0849, 0.049, 0.0436, 0.0435, 0.0397, 0.037, 0.0284, 0.024, 0.0238, 0.0196, 0.0195, 0.0183, 0.0112, 0.0098, 0.0081, 0.0076, 0.0073, 0.0072, 0.0071, 0.0061, 0.0059, 0.0055, 0.0054, 0.0035, 0.0022, 0.0017, 0.0015, 0.0013, 0.0009, 0.0009, 0.0007, 0.0006, 0.0003, 0.0002, 0.0002, 0.0001, 0.0], \"textposition\": \"outside\", \"x\": [0.27015178687376956, 0.11490951905310924, 0.08835590674809893, 0.084918435639882, 0.049031145233167234, 0.04364339137047188, 0.043517542537649806, 0.039721542325793974, 0.03695464637170888, 0.028380749621620578, 0.02399460203449587, 0.0238255838866862, 0.019619105418789765, 0.01948482781314678, 0.018343931538342007, 0.011235478466934767, 0.009810325911257906, 0.008069406092450533, 0.007577617702961577, 0.007255471007250338, 0.007151009863836244, 0.0070513517385365964, 0.006082240371240786, 0.005899383659629551, 0.005517279099796893, 0.005385414360502551, 0.0034726887066026013, 0.002225884122492872, 0.0016910152846215177, 0.001491926497096613, 0.0013075489099378154, 0.0008905873297187318, 0.0008649605082938909, 0.0006604630228926925, 0.0006148016380083704, 0.00029717225684898263, 0.0002456053995337452, 0.00023898741974910114, 6.686839886328707e-05, 4.379576420930058e-05], \"y\": [\"script_count\", \"Num_of_hrefs\", \"script_type_text/javascript\", \"a_count\", \"img_src_absolute\", \"div_count\", \"script_src_out_of_domain\", \"img_src_out_of_domain\", \"iframe_count\", \"li_count\", \"replace\", \"style_count\", \"document.createElement\", \"input_count\", \"meta_http-equiv_X-UA-Compatible\", \"iframe_src_relative\", \"escape\", \"substring\", \"window.setTimeout\", \"window.addEventListener\", \"small_count\", \"concat\", \"charAt\", \"String.fromCharCode\", \"document.write\", \"search\", \"parseInt\", \"encodeURIComponent\", \"unescape\", \"decodeURIComponent\", \"exec\", \"eval\", \"object_count\", \"meta_http-equiv_refresh\", \"embed_count\", \"iframe_hidden_true\", \"charCodeAt\", \"window.setInterval\", \"link\", \"image_count\"], \"type\": \"bar\", \"uid\": \"ad801d2d-b939-4306-b7a5-492fb921e393\"}], {\"autosize\": false, \"height\": 1000, \"width\": 1000, \"xaxis\": {\"tickfont\": {\"color\": \"black\", \"size\": 12}, \"title\": \"Feature Importances\"}, \"yaxis\": {\"automargin\": true}}, {\"showLink\": true, \"linkText\": \"Export to plot.ly\", \"plotlyServerURL\": \"https://plot.ly\"})});</script>"
      ],
      "text/vnd.plotly.v1+html": [
       "<div id=\"77cd3ec3-14fd-4475-a525-f5929174967b\" style=\"height: 1000px; width: 1000px;\" class=\"plotly-graph-div\"></div><script type=\"text/javascript\">require([\"plotly\"], function(Plotly) { window.PLOTLYENV=window.PLOTLYENV || {};window.PLOTLYENV.BASE_URL=\"https://plot.ly\";Plotly.newPlot(\"77cd3ec3-14fd-4475-a525-f5929174967b\", [{\"marker\": {\"color\": \"rgb(158,202,225)\", \"line\": {\"color\": \"rgb(8,48,107)\", \"width\": 1.5}}, \"opacity\": 0.6, \"orientation\": \"h\", \"text\": [0.2702, 0.1149, 0.0884, 0.0849, 0.049, 0.0436, 0.0435, 0.0397, 0.037, 0.0284, 0.024, 0.0238, 0.0196, 0.0195, 0.0183, 0.0112, 0.0098, 0.0081, 0.0076, 0.0073, 0.0072, 0.0071, 0.0061, 0.0059, 0.0055, 0.0054, 0.0035, 0.0022, 0.0017, 0.0015, 0.0013, 0.0009, 0.0009, 0.0007, 0.0006, 0.0003, 0.0002, 0.0002, 0.0001, 0.0], \"textposition\": \"outside\", \"x\": [0.27015178687376956, 0.11490951905310924, 0.08835590674809893, 0.084918435639882, 0.049031145233167234, 0.04364339137047188, 0.043517542537649806, 0.039721542325793974, 0.03695464637170888, 0.028380749621620578, 0.02399460203449587, 0.0238255838866862, 0.019619105418789765, 0.01948482781314678, 0.018343931538342007, 0.011235478466934767, 0.009810325911257906, 0.008069406092450533, 0.007577617702961577, 0.007255471007250338, 0.007151009863836244, 0.0070513517385365964, 0.006082240371240786, 0.005899383659629551, 0.005517279099796893, 0.005385414360502551, 0.0034726887066026013, 0.002225884122492872, 0.0016910152846215177, 0.001491926497096613, 0.0013075489099378154, 0.0008905873297187318, 0.0008649605082938909, 0.0006604630228926925, 0.0006148016380083704, 0.00029717225684898263, 0.0002456053995337452, 0.00023898741974910114, 6.686839886328707e-05, 4.379576420930058e-05], \"y\": [\"script_count\", \"Num_of_hrefs\", \"script_type_text/javascript\", \"a_count\", \"img_src_absolute\", \"div_count\", \"script_src_out_of_domain\", \"img_src_out_of_domain\", \"iframe_count\", \"li_count\", \"replace\", \"style_count\", \"document.createElement\", \"input_count\", \"meta_http-equiv_X-UA-Compatible\", \"iframe_src_relative\", \"escape\", \"substring\", \"window.setTimeout\", \"window.addEventListener\", \"small_count\", \"concat\", \"charAt\", \"String.fromCharCode\", \"document.write\", \"search\", \"parseInt\", \"encodeURIComponent\", \"unescape\", \"decodeURIComponent\", \"exec\", \"eval\", \"object_count\", \"meta_http-equiv_refresh\", \"embed_count\", \"iframe_hidden_true\", \"charCodeAt\", \"window.setInterval\", \"link\", \"image_count\"], \"type\": \"bar\", \"uid\": \"ad801d2d-b939-4306-b7a5-492fb921e393\"}], {\"autosize\": false, \"height\": 1000, \"width\": 1000, \"xaxis\": {\"tickfont\": {\"color\": \"black\", \"size\": 12}, \"title\": \"Feature Importances\"}, \"yaxis\": {\"automargin\": true}}, {\"showLink\": true, \"linkText\": \"Export to plot.ly\", \"plotlyServerURL\": \"https://plot.ly\"})});</script>"
      ]
     },
     "metadata": {},
     "output_type": "display_data"
    }
   ],
   "source": [
    "feat_impt_plot(np.average(feat_imp,axis=0),columns)"
   ]
  },
  {
   "cell_type": "markdown",
   "metadata": {},
   "source": [
    "### <a id='2' style=\"text-decoration : none; color : #000000;\"> 2. OverSampling </a>"
   ]
  },
  {
   "cell_type": "code",
   "execution_count": 26,
   "metadata": {},
   "outputs": [
    {
     "name": "stderr",
     "output_type": "stream",
     "text": [
      "/nethomes/darshan/anaconda3/lib/python3.6/site-packages/sklearn/utils/deprecation.py:77: DeprecationWarning:\n",
      "\n",
      "Function _ratio_float is deprecated; Use a float for 'ratio' is deprecated from version 0.2. The support will be removed in 0.4. Use a dict, str, or a callable instead.\n",
      "\n"
     ]
    }
   ],
   "source": [
    "sm = SMOTE(random_state=12, ratio = 1.0)\n",
    "X_train, Y_train = sm.fit_sample(scaled_X_train,train_Y)"
   ]
  },
  {
   "cell_type": "code",
   "execution_count": 27,
   "metadata": {
    "collapsed": true
   },
   "outputs": [],
   "source": [
    "## Table to store training and test measures so we can compare later\n",
    "table_80_80_train=pd.DataFrame(columns=['accuracy','TP','TN','FP','FN','FPR','FNR'])\n",
    "table_80_80_test=pd.DataFrame(columns=['accuracy','TP','TN','FP','FN','FPR','FNR','auc','mcc'])"
   ]
  },
  {
   "cell_type": "code",
   "execution_count": 28,
   "metadata": {
    "scrolled": false
   },
   "outputs": [
    {
     "name": "stdout",
     "output_type": "stream",
     "text": [
      "\u001b[1mK-Nearest Neighbors\u001b[0m\n",
      "Accuracy of the model for training data is: 0.926162080609\n",
      "Confusion Matrix for training data is:\n"
     ]
    },
    {
     "data": {
      "text/plain": [
       "Predicted  False   True  __all__\n",
       "Actual                          \n",
       "False      24268   3570    27838\n",
       "True         541  27297    27838\n",
       "__all__    24809  30867    55676"
      ]
     },
     "metadata": {},
     "output_type": "display_data"
    },
    {
     "name": "stdout",
     "output_type": "stream",
     "text": [
      "Accuracy of the model for test data is: 0.869442397445\n",
      "Confusion Matrix for test data is:\n"
     ]
    },
    {
     "data": {
      "text/plain": [
       "Predicted  False  True  __all__\n",
       "Actual                         \n",
       "False       5965   975     6940\n",
       "True          88  1114     1202\n",
       "__all__     6053  2089     8142"
      ]
     },
     "metadata": {},
     "output_type": "display_data"
    },
    {
     "name": "stdout",
     "output_type": "stream",
     "text": [
      "\n",
      "\n",
      "\u001b[1mLogistic Regression\u001b[0m\n",
      "Accuracy of the model for training data is: 0.879229829729\n",
      "Confusion Matrix for training data is:\n"
     ]
    },
    {
     "data": {
      "text/plain": [
       "Predicted  False   True  __all__\n",
       "Actual                          \n",
       "False      22307   5531    27838\n",
       "True        1193  26645    27838\n",
       "__all__    23500  32176    55676"
      ]
     },
     "metadata": {},
     "output_type": "display_data"
    },
    {
     "name": "stdout",
     "output_type": "stream",
     "text": [
      "Accuracy of the model for test data is: 0.822893637927\n",
      "Confusion Matrix for test data is:\n"
     ]
    },
    {
     "data": {
      "text/plain": [
       "Predicted  False  True  __all__\n",
       "Actual                         \n",
       "False       5556  1384     6940\n",
       "True          58  1144     1202\n",
       "__all__     5614  2528     8142"
      ]
     },
     "metadata": {},
     "output_type": "display_data"
    },
    {
     "name": "stdout",
     "output_type": "stream",
     "text": [
      "\n",
      "\n",
      "\u001b[1mRandomForest Classifier\u001b[0m\n",
      "Accuracy of the model for training data is: 0.946027013435\n",
      "Confusion Matrix for training data is:\n"
     ]
    },
    {
     "data": {
      "text/plain": [
       "Predicted  False   True  __all__\n",
       "Actual                          \n",
       "False      24905   2933    27838\n",
       "True          72  27766    27838\n",
       "__all__    24977  30699    55676"
      ]
     },
     "metadata": {},
     "output_type": "display_data"
    },
    {
     "name": "stdout",
     "output_type": "stream",
     "text": [
      "Accuracy of the model for test data is: 0.894743306313\n",
      "Confusion Matrix for test data is:\n"
     ]
    },
    {
     "data": {
      "text/plain": [
       "Predicted  False  True  __all__\n",
       "Actual                         \n",
       "False       6176   764     6940\n",
       "True          93  1109     1202\n",
       "__all__     6269  1873     8142"
      ]
     },
     "metadata": {},
     "output_type": "display_data"
    },
    {
     "data": {
      "application/vnd.plotly.v1+json": {
       "config": {
        "linkText": "Export to plot.ly",
        "plotlyServerURL": "https://plot.ly",
        "showLink": true
       },
       "data": [
        {
         "marker": {
          "color": "rgb(158,202,225)",
          "line": {
           "color": "rgb(8,48,107)",
           "width": 1.5
          }
         },
         "opacity": 0.6,
         "orientation": "h",
         "text": [
          0.169,
          0.1673,
          0.1408,
          0.1037,
          0.087,
          0.0749,
          0.0648,
          0.0316,
          0.0226,
          0.0196,
          0.0152,
          0.0147,
          0.0132,
          0.0119,
          0.0113,
          0.0092,
          0.0057,
          0.0055,
          0.0049,
          0.0042,
          0.0037,
          0.0029,
          0.0023,
          0.002,
          0.0019,
          0.0016,
          0.0014,
          0.0013,
          0.0012,
          0.0011,
          0.0007,
          0.0006,
          0.0005,
          0.0005,
          0.0004,
          0.0003,
          0.0002,
          0.0002,
          0.0001,
          0
         ],
         "textposition": "outside",
         "type": "bar",
         "uid": "34ffbe74-8274-4be3-bf13-73437098af5f",
         "x": [
          0.168988906291519,
          0.16732035818771576,
          0.14075902267183613,
          0.10374728421415044,
          0.08700728198176336,
          0.07490880078861871,
          0.06484343114313082,
          0.03155789322879897,
          0.022559589032067846,
          0.01962381322605256,
          0.015229235343305572,
          0.014696765564178555,
          0.013207463884578743,
          0.011874126222576411,
          0.011313030914204412,
          0.009199686280844426,
          0.005739362307766779,
          0.0054605583529295405,
          0.004855362061376891,
          0.004175531233611136,
          0.003749589616049075,
          0.002851613996866475,
          0.002276873058985272,
          0.001982583484946781,
          0.0019398250243773247,
          0.0016270612348913585,
          0.0014442040190102323,
          0.0012893180142841156,
          0.0012136445182769082,
          0.0010954315751490308,
          0.0006726441876006922,
          0.0005938440584233878,
          0.0004931330399163721,
          0.00047924962726379175,
          0.000391878741922022,
          0.00030766429257608454,
          0.00019068121099188878,
          0.00018061037778363968,
          0.00010530826972919498,
          4.733871993028698e-05
         ],
         "y": [
          "Num_of_hrefs",
          "a_count",
          "li_count",
          "script_count",
          "div_count",
          "input_count",
          "img_src_out_of_domain",
          "replace",
          "script_src_out_of_domain",
          "script_type_text/javascript",
          "document.createElement",
          "style_count",
          "img_src_absolute",
          "window.addEventListener",
          "iframe_src_relative",
          "iframe_count",
          "concat",
          "document.write",
          "meta_http-equiv_X-UA-Compatible",
          "decodeURIComponent",
          "parseInt",
          "substring",
          "unescape",
          "escape",
          "small_count",
          "encodeURIComponent",
          "eval",
          "charAt",
          "object_count",
          "exec",
          "String.fromCharCode",
          "embed_count",
          "meta_http-equiv_refresh",
          "window.setTimeout",
          "charCodeAt",
          "search",
          "iframe_hidden_true",
          "window.setInterval",
          "link",
          "image_count"
         ]
        }
       ],
       "layout": {
        "autosize": false,
        "height": 1000,
        "width": 1000,
        "xaxis": {
         "tickfont": {
          "color": "black",
          "size": 12
         },
         "title": "Feature Importances"
        },
        "yaxis": {
         "automargin": true
        }
       }
      },
      "text/html": [
       "<div id=\"e59dc3f4-4e11-4a32-825d-11d12abea2b7\" style=\"height: 1000px; width: 1000px;\" class=\"plotly-graph-div\"></div><script type=\"text/javascript\">require([\"plotly\"], function(Plotly) { window.PLOTLYENV=window.PLOTLYENV || {};window.PLOTLYENV.BASE_URL=\"https://plot.ly\";Plotly.newPlot(\"e59dc3f4-4e11-4a32-825d-11d12abea2b7\", [{\"marker\": {\"color\": \"rgb(158,202,225)\", \"line\": {\"color\": \"rgb(8,48,107)\", \"width\": 1.5}}, \"opacity\": 0.6, \"orientation\": \"h\", \"text\": [0.169, 0.1673, 0.1408, 0.1037, 0.087, 0.0749, 0.0648, 0.0316, 0.0226, 0.0196, 0.0152, 0.0147, 0.0132, 0.0119, 0.0113, 0.0092, 0.0057, 0.0055, 0.0049, 0.0042, 0.0037, 0.0029, 0.0023, 0.002, 0.0019, 0.0016, 0.0014, 0.0013, 0.0012, 0.0011, 0.0007, 0.0006, 0.0005, 0.0005, 0.0004, 0.0003, 0.0002, 0.0002, 0.0001, 0.0], \"textposition\": \"outside\", \"x\": [0.168988906291519, 0.16732035818771576, 0.14075902267183613, 0.10374728421415044, 0.08700728198176336, 0.07490880078861871, 0.06484343114313082, 0.03155789322879897, 0.022559589032067846, 0.01962381322605256, 0.015229235343305572, 0.014696765564178555, 0.013207463884578743, 0.011874126222576411, 0.011313030914204412, 0.009199686280844426, 0.005739362307766779, 0.0054605583529295405, 0.004855362061376891, 0.004175531233611136, 0.003749589616049075, 0.002851613996866475, 0.002276873058985272, 0.001982583484946781, 0.0019398250243773247, 0.0016270612348913585, 0.0014442040190102323, 0.0012893180142841156, 0.0012136445182769082, 0.0010954315751490308, 0.0006726441876006922, 0.0005938440584233878, 0.0004931330399163721, 0.00047924962726379175, 0.000391878741922022, 0.00030766429257608454, 0.00019068121099188878, 0.00018061037778363968, 0.00010530826972919498, 4.733871993028698e-05], \"y\": [\"Num_of_hrefs\", \"a_count\", \"li_count\", \"script_count\", \"div_count\", \"input_count\", \"img_src_out_of_domain\", \"replace\", \"script_src_out_of_domain\", \"script_type_text/javascript\", \"document.createElement\", \"style_count\", \"img_src_absolute\", \"window.addEventListener\", \"iframe_src_relative\", \"iframe_count\", \"concat\", \"document.write\", \"meta_http-equiv_X-UA-Compatible\", \"decodeURIComponent\", \"parseInt\", \"substring\", \"unescape\", \"escape\", \"small_count\", \"encodeURIComponent\", \"eval\", \"charAt\", \"object_count\", \"exec\", \"String.fromCharCode\", \"embed_count\", \"meta_http-equiv_refresh\", \"window.setTimeout\", \"charCodeAt\", \"search\", \"iframe_hidden_true\", \"window.setInterval\", \"link\", \"image_count\"], \"type\": \"bar\", \"uid\": \"34ffbe74-8274-4be3-bf13-73437098af5f\"}], {\"autosize\": false, \"height\": 1000, \"width\": 1000, \"xaxis\": {\"tickfont\": {\"color\": \"black\", \"size\": 12}, \"title\": \"Feature Importances\"}, \"yaxis\": {\"automargin\": true}}, {\"showLink\": true, \"linkText\": \"Export to plot.ly\", \"plotlyServerURL\": \"https://plot.ly\"})});</script>"
      ],
      "text/vnd.plotly.v1+html": [
       "<div id=\"e59dc3f4-4e11-4a32-825d-11d12abea2b7\" style=\"height: 1000px; width: 1000px;\" class=\"plotly-graph-div\"></div><script type=\"text/javascript\">require([\"plotly\"], function(Plotly) { window.PLOTLYENV=window.PLOTLYENV || {};window.PLOTLYENV.BASE_URL=\"https://plot.ly\";Plotly.newPlot(\"e59dc3f4-4e11-4a32-825d-11d12abea2b7\", [{\"marker\": {\"color\": \"rgb(158,202,225)\", \"line\": {\"color\": \"rgb(8,48,107)\", \"width\": 1.5}}, \"opacity\": 0.6, \"orientation\": \"h\", \"text\": [0.169, 0.1673, 0.1408, 0.1037, 0.087, 0.0749, 0.0648, 0.0316, 0.0226, 0.0196, 0.0152, 0.0147, 0.0132, 0.0119, 0.0113, 0.0092, 0.0057, 0.0055, 0.0049, 0.0042, 0.0037, 0.0029, 0.0023, 0.002, 0.0019, 0.0016, 0.0014, 0.0013, 0.0012, 0.0011, 0.0007, 0.0006, 0.0005, 0.0005, 0.0004, 0.0003, 0.0002, 0.0002, 0.0001, 0.0], \"textposition\": \"outside\", \"x\": [0.168988906291519, 0.16732035818771576, 0.14075902267183613, 0.10374728421415044, 0.08700728198176336, 0.07490880078861871, 0.06484343114313082, 0.03155789322879897, 0.022559589032067846, 0.01962381322605256, 0.015229235343305572, 0.014696765564178555, 0.013207463884578743, 0.011874126222576411, 0.011313030914204412, 0.009199686280844426, 0.005739362307766779, 0.0054605583529295405, 0.004855362061376891, 0.004175531233611136, 0.003749589616049075, 0.002851613996866475, 0.002276873058985272, 0.001982583484946781, 0.0019398250243773247, 0.0016270612348913585, 0.0014442040190102323, 0.0012893180142841156, 0.0012136445182769082, 0.0010954315751490308, 0.0006726441876006922, 0.0005938440584233878, 0.0004931330399163721, 0.00047924962726379175, 0.000391878741922022, 0.00030766429257608454, 0.00019068121099188878, 0.00018061037778363968, 0.00010530826972919498, 4.733871993028698e-05], \"y\": [\"Num_of_hrefs\", \"a_count\", \"li_count\", \"script_count\", \"div_count\", \"input_count\", \"img_src_out_of_domain\", \"replace\", \"script_src_out_of_domain\", \"script_type_text/javascript\", \"document.createElement\", \"style_count\", \"img_src_absolute\", \"window.addEventListener\", \"iframe_src_relative\", \"iframe_count\", \"concat\", \"document.write\", \"meta_http-equiv_X-UA-Compatible\", \"decodeURIComponent\", \"parseInt\", \"substring\", \"unescape\", \"escape\", \"small_count\", \"encodeURIComponent\", \"eval\", \"charAt\", \"object_count\", \"exec\", \"String.fromCharCode\", \"embed_count\", \"meta_http-equiv_refresh\", \"window.setTimeout\", \"charCodeAt\", \"search\", \"iframe_hidden_true\", \"window.setInterval\", \"link\", \"image_count\"], \"type\": \"bar\", \"uid\": \"34ffbe74-8274-4be3-bf13-73437098af5f\"}], {\"autosize\": false, \"height\": 1000, \"width\": 1000, \"xaxis\": {\"tickfont\": {\"color\": \"black\", \"size\": 12}, \"title\": \"Feature Importances\"}, \"yaxis\": {\"automargin\": true}}, {\"showLink\": true, \"linkText\": \"Export to plot.ly\", \"plotlyServerURL\": \"https://plot.ly\"})});</script>"
      ]
     },
     "metadata": {},
     "output_type": "display_data"
    },
    {
     "name": "stdout",
     "output_type": "stream",
     "text": [
      "\n",
      "\n",
      "\u001b[1mAdaoost Classifier\u001b[0m\n",
      "Accuracy of the model for training data is: 0.897316617573\n",
      "Confusion Matrix for training data is:\n"
     ]
    },
    {
     "data": {
      "text/plain": [
       "Predicted  False   True  __all__\n",
       "Actual                          \n",
       "False      23557   4281    27838\n",
       "True        1436  26402    27838\n",
       "__all__    24993  30683    55676"
      ]
     },
     "metadata": {},
     "output_type": "display_data"
    },
    {
     "name": "stdout",
     "output_type": "stream",
     "text": [
      "Accuracy of the model for test data is: 0.858511422255\n",
      "Confusion Matrix for test data is:\n"
     ]
    },
    {
     "data": {
      "text/plain": [
       "Predicted  False  True  __all__\n",
       "Actual                         \n",
       "False       5873  1067     6940\n",
       "True          85  1117     1202\n",
       "__all__     5958  2184     8142"
      ]
     },
     "metadata": {},
     "output_type": "display_data"
    },
    {
     "data": {
      "application/vnd.plotly.v1+json": {
       "config": {
        "linkText": "Export to plot.ly",
        "plotlyServerURL": "https://plot.ly",
        "showLink": true
       },
       "data": [
        {
         "marker": {
          "color": "rgb(158,202,225)",
          "line": {
           "color": "rgb(8,48,107)",
           "width": 1.5
          }
         },
         "opacity": 0.6,
         "orientation": "h",
         "text": [
          0.12,
          0.1,
          0.06,
          0.06,
          0.06,
          0.04,
          0.04,
          0.04,
          0.04,
          0.04,
          0.04,
          0.04,
          0.04,
          0.04,
          0.02,
          0.02,
          0.02,
          0.02,
          0.02,
          0.02,
          0.02,
          0.02,
          0.02,
          0.02,
          0.02,
          0.02,
          0,
          0,
          0,
          0,
          0,
          0,
          0,
          0,
          0,
          0,
          0,
          0,
          0,
          0
         ],
         "textposition": "outside",
         "type": "bar",
         "uid": "27c892a2-c6f0-4679-9286-836ebf809a2c",
         "x": [
          0.12,
          0.1,
          0.06,
          0.06,
          0.06,
          0.04,
          0.04,
          0.04,
          0.04,
          0.04,
          0.04,
          0.04,
          0.04,
          0.04,
          0.02,
          0.02,
          0.02,
          0.02,
          0.02,
          0.02,
          0.02,
          0.02,
          0.02,
          0.02,
          0.02,
          0.02,
          0,
          0,
          0,
          0,
          0,
          0,
          0,
          0,
          0,
          0,
          0,
          0,
          0,
          0
         ],
         "y": [
          "Num_of_hrefs",
          "replace",
          "script_src_out_of_domain",
          "encodeURIComponent",
          "script_type_text/javascript",
          "iframe_src_relative",
          "unescape",
          "img_src_out_of_domain",
          "parseInt",
          "img_src_absolute",
          "document.createElement",
          "escape",
          "a_count",
          "style_count",
          "window.addEventListener",
          "div_count",
          "input_count",
          "li_count",
          "meta_http-equiv_X-UA-Compatible",
          "small_count",
          "iframe_count",
          "document.write",
          "window.setTimeout",
          "String.fromCharCode",
          "substring",
          "charAt",
          "search",
          "object_count",
          "embed_count",
          "meta_http-equiv_refresh",
          "decodeURIComponent",
          "iframe_hidden_true",
          "image_count",
          "window.setInterval",
          "charCodeAt",
          "eval",
          "script_count",
          "exec",
          "link",
          "concat"
         ]
        }
       ],
       "layout": {
        "autosize": false,
        "height": 1000,
        "width": 1000,
        "xaxis": {
         "tickfont": {
          "color": "black",
          "size": 12
         },
         "title": "Feature Importances"
        },
        "yaxis": {
         "automargin": true
        }
       }
      },
      "text/html": [
       "<div id=\"d3167875-d837-4bf8-8fe9-27f1067aea2f\" style=\"height: 1000px; width: 1000px;\" class=\"plotly-graph-div\"></div><script type=\"text/javascript\">require([\"plotly\"], function(Plotly) { window.PLOTLYENV=window.PLOTLYENV || {};window.PLOTLYENV.BASE_URL=\"https://plot.ly\";Plotly.newPlot(\"d3167875-d837-4bf8-8fe9-27f1067aea2f\", [{\"marker\": {\"color\": \"rgb(158,202,225)\", \"line\": {\"color\": \"rgb(8,48,107)\", \"width\": 1.5}}, \"opacity\": 0.6, \"orientation\": \"h\", \"text\": [0.12, 0.1, 0.06, 0.06, 0.06, 0.04, 0.04, 0.04, 0.04, 0.04, 0.04, 0.04, 0.04, 0.04, 0.02, 0.02, 0.02, 0.02, 0.02, 0.02, 0.02, 0.02, 0.02, 0.02, 0.02, 0.02, 0.0, 0.0, 0.0, 0.0, 0.0, 0.0, 0.0, 0.0, 0.0, 0.0, 0.0, 0.0, 0.0, 0.0], \"textposition\": \"outside\", \"x\": [0.12, 0.1, 0.06, 0.06, 0.06, 0.04, 0.04, 0.04, 0.04, 0.04, 0.04, 0.04, 0.04, 0.04, 0.02, 0.02, 0.02, 0.02, 0.02, 0.02, 0.02, 0.02, 0.02, 0.02, 0.02, 0.02, 0.0, 0.0, 0.0, 0.0, 0.0, 0.0, 0.0, 0.0, 0.0, 0.0, 0.0, 0.0, 0.0, 0.0], \"y\": [\"Num_of_hrefs\", \"replace\", \"script_src_out_of_domain\", \"encodeURIComponent\", \"script_type_text/javascript\", \"iframe_src_relative\", \"unescape\", \"img_src_out_of_domain\", \"parseInt\", \"img_src_absolute\", \"document.createElement\", \"escape\", \"a_count\", \"style_count\", \"window.addEventListener\", \"div_count\", \"input_count\", \"li_count\", \"meta_http-equiv_X-UA-Compatible\", \"small_count\", \"iframe_count\", \"document.write\", \"window.setTimeout\", \"String.fromCharCode\", \"substring\", \"charAt\", \"search\", \"object_count\", \"embed_count\", \"meta_http-equiv_refresh\", \"decodeURIComponent\", \"iframe_hidden_true\", \"image_count\", \"window.setInterval\", \"charCodeAt\", \"eval\", \"script_count\", \"exec\", \"link\", \"concat\"], \"type\": \"bar\", \"uid\": \"27c892a2-c6f0-4679-9286-836ebf809a2c\"}], {\"autosize\": false, \"height\": 1000, \"width\": 1000, \"xaxis\": {\"tickfont\": {\"color\": \"black\", \"size\": 12}, \"title\": \"Feature Importances\"}, \"yaxis\": {\"automargin\": true}}, {\"showLink\": true, \"linkText\": \"Export to plot.ly\", \"plotlyServerURL\": \"https://plot.ly\"})});</script>"
      ],
      "text/vnd.plotly.v1+html": [
       "<div id=\"d3167875-d837-4bf8-8fe9-27f1067aea2f\" style=\"height: 1000px; width: 1000px;\" class=\"plotly-graph-div\"></div><script type=\"text/javascript\">require([\"plotly\"], function(Plotly) { window.PLOTLYENV=window.PLOTLYENV || {};window.PLOTLYENV.BASE_URL=\"https://plot.ly\";Plotly.newPlot(\"d3167875-d837-4bf8-8fe9-27f1067aea2f\", [{\"marker\": {\"color\": \"rgb(158,202,225)\", \"line\": {\"color\": \"rgb(8,48,107)\", \"width\": 1.5}}, \"opacity\": 0.6, \"orientation\": \"h\", \"text\": [0.12, 0.1, 0.06, 0.06, 0.06, 0.04, 0.04, 0.04, 0.04, 0.04, 0.04, 0.04, 0.04, 0.04, 0.02, 0.02, 0.02, 0.02, 0.02, 0.02, 0.02, 0.02, 0.02, 0.02, 0.02, 0.02, 0.0, 0.0, 0.0, 0.0, 0.0, 0.0, 0.0, 0.0, 0.0, 0.0, 0.0, 0.0, 0.0, 0.0], \"textposition\": \"outside\", \"x\": [0.12, 0.1, 0.06, 0.06, 0.06, 0.04, 0.04, 0.04, 0.04, 0.04, 0.04, 0.04, 0.04, 0.04, 0.02, 0.02, 0.02, 0.02, 0.02, 0.02, 0.02, 0.02, 0.02, 0.02, 0.02, 0.02, 0.0, 0.0, 0.0, 0.0, 0.0, 0.0, 0.0, 0.0, 0.0, 0.0, 0.0, 0.0, 0.0, 0.0], \"y\": [\"Num_of_hrefs\", \"replace\", \"script_src_out_of_domain\", \"encodeURIComponent\", \"script_type_text/javascript\", \"iframe_src_relative\", \"unescape\", \"img_src_out_of_domain\", \"parseInt\", \"img_src_absolute\", \"document.createElement\", \"escape\", \"a_count\", \"style_count\", \"window.addEventListener\", \"div_count\", \"input_count\", \"li_count\", \"meta_http-equiv_X-UA-Compatible\", \"small_count\", \"iframe_count\", \"document.write\", \"window.setTimeout\", \"String.fromCharCode\", \"substring\", \"charAt\", \"search\", \"object_count\", \"embed_count\", \"meta_http-equiv_refresh\", \"decodeURIComponent\", \"iframe_hidden_true\", \"image_count\", \"window.setInterval\", \"charCodeAt\", \"eval\", \"script_count\", \"exec\", \"link\", \"concat\"], \"type\": \"bar\", \"uid\": \"27c892a2-c6f0-4679-9286-836ebf809a2c\"}], {\"autosize\": false, \"height\": 1000, \"width\": 1000, \"xaxis\": {\"tickfont\": {\"color\": \"black\", \"size\": 12}, \"title\": \"Feature Importances\"}, \"yaxis\": {\"automargin\": true}}, {\"showLink\": true, \"linkText\": \"Export to plot.ly\", \"plotlyServerURL\": \"https://plot.ly\"})});</script>"
      ]
     },
     "metadata": {},
     "output_type": "display_data"
    },
    {
     "name": "stdout",
     "output_type": "stream",
     "text": [
      "\n",
      "\n",
      "\u001b[1mGradientBoosting Classifier\u001b[0m\n",
      "Accuracy of the model for training data is: 0.915044184209\n",
      "Confusion Matrix for training data is:\n"
     ]
    },
    {
     "data": {
      "text/plain": [
       "Predicted  False   True  __all__\n",
       "Actual                          \n",
       "False      24167   3671    27838\n",
       "True        1059  26779    27838\n",
       "__all__    25226  30450    55676"
      ]
     },
     "metadata": {},
     "output_type": "display_data"
    },
    {
     "name": "stdout",
     "output_type": "stream",
     "text": [
      "Accuracy of the model for test data is: 0.873986735446\n",
      "Confusion Matrix for test data is:\n"
     ]
    },
    {
     "data": {
      "text/plain": [
       "Predicted  False  True  __all__\n",
       "Actual                         \n",
       "False       6011   929     6940\n",
       "True          97  1105     1202\n",
       "__all__     6108  2034     8142"
      ]
     },
     "metadata": {},
     "output_type": "display_data"
    },
    {
     "data": {
      "application/vnd.plotly.v1+json": {
       "config": {
        "linkText": "Export to plot.ly",
        "plotlyServerURL": "https://plot.ly",
        "showLink": true
       },
       "data": [
        {
         "marker": {
          "color": "rgb(158,202,225)",
          "line": {
           "color": "rgb(8,48,107)",
           "width": 1.5
          }
         },
         "opacity": 0.6,
         "orientation": "h",
         "text": [
          0.7456,
          0.0674,
          0.0375,
          0.033,
          0.023,
          0.0196,
          0.0144,
          0.0082,
          0.0062,
          0.006,
          0.0058,
          0.0048,
          0.0047,
          0.0041,
          0.004,
          0.0038,
          0.0029,
          0.0021,
          0.0017,
          0.0015,
          0.0012,
          0.0011,
          0.0004,
          0.0002,
          0.0002,
          0.0002,
          0.0002,
          0.0001,
          0.0001,
          0.0001,
          0.0001,
          0,
          0,
          0,
          0,
          0,
          0,
          0,
          0,
          0
         ],
         "textposition": "outside",
         "type": "bar",
         "uid": "87ccbf54-c132-462e-a6e9-c12c9c38cc4e",
         "x": [
          0.7455707370668838,
          0.06744033349259611,
          0.03749739139551447,
          0.03297128170624235,
          0.02299526531901508,
          0.019614968203872863,
          0.014358333637332804,
          0.008233174069735649,
          0.006200051156301162,
          0.005984541124314791,
          0.005806766951257362,
          0.004765099553926057,
          0.004663065351372441,
          0.004066748376852993,
          0.004015126315528001,
          0.0038087453269572196,
          0.0028878443923199305,
          0.0020587315934812553,
          0.0016886683463022514,
          0.0014715859164708656,
          0.0012437086292798345,
          0.001064441631142549,
          0.0003984650300256424,
          0.0002331504164502625,
          0.00021154320942029376,
          0.0002024124871670331,
          0.00018710324769280695,
          0.00011875979963826225,
          0.00011305211000044232,
          6.272055707904595e-05,
          5.0800149229548764e-05,
          1.5383436596866057e-05,
          0,
          0,
          0,
          0,
          0,
          0,
          0,
          0
         ],
         "y": [
          "Num_of_hrefs",
          "script_src_out_of_domain",
          "script_count",
          "a_count",
          "document.createElement",
          "img_src_out_of_domain",
          "replace",
          "iframe_src_relative",
          "style_count",
          "script_type_text/javascript",
          "window.addEventListener",
          "div_count",
          "img_src_absolute",
          "meta_http-equiv_X-UA-Compatible",
          "input_count",
          "escape",
          "substring",
          "iframe_count",
          "unescape",
          "window.setTimeout",
          "small_count",
          "li_count",
          "String.fromCharCode",
          "document.write",
          "eval",
          "concat",
          "object_count",
          "encodeURIComponent",
          "charAt",
          "parseInt",
          "charCodeAt",
          "image_count",
          "search",
          "iframe_hidden_true",
          "decodeURIComponent",
          "link",
          "meta_http-equiv_refresh",
          "embed_count",
          "window.setInterval",
          "exec"
         ]
        }
       ],
       "layout": {
        "autosize": false,
        "height": 1000,
        "width": 1000,
        "xaxis": {
         "tickfont": {
          "color": "black",
          "size": 12
         },
         "title": "Feature Importances"
        },
        "yaxis": {
         "automargin": true
        }
       }
      },
      "text/html": [
       "<div id=\"ba6e8181-8c2b-4c19-a69c-5ab95fec5691\" style=\"height: 1000px; width: 1000px;\" class=\"plotly-graph-div\"></div><script type=\"text/javascript\">require([\"plotly\"], function(Plotly) { window.PLOTLYENV=window.PLOTLYENV || {};window.PLOTLYENV.BASE_URL=\"https://plot.ly\";Plotly.newPlot(\"ba6e8181-8c2b-4c19-a69c-5ab95fec5691\", [{\"marker\": {\"color\": \"rgb(158,202,225)\", \"line\": {\"color\": \"rgb(8,48,107)\", \"width\": 1.5}}, \"opacity\": 0.6, \"orientation\": \"h\", \"text\": [0.7456, 0.0674, 0.0375, 0.033, 0.023, 0.0196, 0.0144, 0.0082, 0.0062, 0.006, 0.0058, 0.0048, 0.0047, 0.0041, 0.004, 0.0038, 0.0029, 0.0021, 0.0017, 0.0015, 0.0012, 0.0011, 0.0004, 0.0002, 0.0002, 0.0002, 0.0002, 0.0001, 0.0001, 0.0001, 0.0001, 0.0, 0.0, 0.0, 0.0, 0.0, 0.0, 0.0, 0.0, 0.0], \"textposition\": \"outside\", \"x\": [0.7455707370668838, 0.06744033349259611, 0.03749739139551447, 0.03297128170624235, 0.02299526531901508, 0.019614968203872863, 0.014358333637332804, 0.008233174069735649, 0.006200051156301162, 0.005984541124314791, 0.005806766951257362, 0.004765099553926057, 0.004663065351372441, 0.004066748376852993, 0.004015126315528001, 0.0038087453269572196, 0.0028878443923199305, 0.0020587315934812553, 0.0016886683463022514, 0.0014715859164708656, 0.0012437086292798345, 0.001064441631142549, 0.0003984650300256424, 0.0002331504164502625, 0.00021154320942029376, 0.0002024124871670331, 0.00018710324769280695, 0.00011875979963826225, 0.00011305211000044232, 6.272055707904595e-05, 5.0800149229548764e-05, 1.5383436596866057e-05, 0.0, 0.0, 0.0, 0.0, 0.0, 0.0, 0.0, 0.0], \"y\": [\"Num_of_hrefs\", \"script_src_out_of_domain\", \"script_count\", \"a_count\", \"document.createElement\", \"img_src_out_of_domain\", \"replace\", \"iframe_src_relative\", \"style_count\", \"script_type_text/javascript\", \"window.addEventListener\", \"div_count\", \"img_src_absolute\", \"meta_http-equiv_X-UA-Compatible\", \"input_count\", \"escape\", \"substring\", \"iframe_count\", \"unescape\", \"window.setTimeout\", \"small_count\", \"li_count\", \"String.fromCharCode\", \"document.write\", \"eval\", \"concat\", \"object_count\", \"encodeURIComponent\", \"charAt\", \"parseInt\", \"charCodeAt\", \"image_count\", \"search\", \"iframe_hidden_true\", \"decodeURIComponent\", \"link\", \"meta_http-equiv_refresh\", \"embed_count\", \"window.setInterval\", \"exec\"], \"type\": \"bar\", \"uid\": \"87ccbf54-c132-462e-a6e9-c12c9c38cc4e\"}], {\"autosize\": false, \"height\": 1000, \"width\": 1000, \"xaxis\": {\"tickfont\": {\"color\": \"black\", \"size\": 12}, \"title\": \"Feature Importances\"}, \"yaxis\": {\"automargin\": true}}, {\"showLink\": true, \"linkText\": \"Export to plot.ly\", \"plotlyServerURL\": \"https://plot.ly\"})});</script>"
      ],
      "text/vnd.plotly.v1+html": [
       "<div id=\"ba6e8181-8c2b-4c19-a69c-5ab95fec5691\" style=\"height: 1000px; width: 1000px;\" class=\"plotly-graph-div\"></div><script type=\"text/javascript\">require([\"plotly\"], function(Plotly) { window.PLOTLYENV=window.PLOTLYENV || {};window.PLOTLYENV.BASE_URL=\"https://plot.ly\";Plotly.newPlot(\"ba6e8181-8c2b-4c19-a69c-5ab95fec5691\", [{\"marker\": {\"color\": \"rgb(158,202,225)\", \"line\": {\"color\": \"rgb(8,48,107)\", \"width\": 1.5}}, \"opacity\": 0.6, \"orientation\": \"h\", \"text\": [0.7456, 0.0674, 0.0375, 0.033, 0.023, 0.0196, 0.0144, 0.0082, 0.0062, 0.006, 0.0058, 0.0048, 0.0047, 0.0041, 0.004, 0.0038, 0.0029, 0.0021, 0.0017, 0.0015, 0.0012, 0.0011, 0.0004, 0.0002, 0.0002, 0.0002, 0.0002, 0.0001, 0.0001, 0.0001, 0.0001, 0.0, 0.0, 0.0, 0.0, 0.0, 0.0, 0.0, 0.0, 0.0], \"textposition\": \"outside\", \"x\": [0.7455707370668838, 0.06744033349259611, 0.03749739139551447, 0.03297128170624235, 0.02299526531901508, 0.019614968203872863, 0.014358333637332804, 0.008233174069735649, 0.006200051156301162, 0.005984541124314791, 0.005806766951257362, 0.004765099553926057, 0.004663065351372441, 0.004066748376852993, 0.004015126315528001, 0.0038087453269572196, 0.0028878443923199305, 0.0020587315934812553, 0.0016886683463022514, 0.0014715859164708656, 0.0012437086292798345, 0.001064441631142549, 0.0003984650300256424, 0.0002331504164502625, 0.00021154320942029376, 0.0002024124871670331, 0.00018710324769280695, 0.00011875979963826225, 0.00011305211000044232, 6.272055707904595e-05, 5.0800149229548764e-05, 1.5383436596866057e-05, 0.0, 0.0, 0.0, 0.0, 0.0, 0.0, 0.0, 0.0], \"y\": [\"Num_of_hrefs\", \"script_src_out_of_domain\", \"script_count\", \"a_count\", \"document.createElement\", \"img_src_out_of_domain\", \"replace\", \"iframe_src_relative\", \"style_count\", \"script_type_text/javascript\", \"window.addEventListener\", \"div_count\", \"img_src_absolute\", \"meta_http-equiv_X-UA-Compatible\", \"input_count\", \"escape\", \"substring\", \"iframe_count\", \"unescape\", \"window.setTimeout\", \"small_count\", \"li_count\", \"String.fromCharCode\", \"document.write\", \"eval\", \"concat\", \"object_count\", \"encodeURIComponent\", \"charAt\", \"parseInt\", \"charCodeAt\", \"image_count\", \"search\", \"iframe_hidden_true\", \"decodeURIComponent\", \"link\", \"meta_http-equiv_refresh\", \"embed_count\", \"window.setInterval\", \"exec\"], \"type\": \"bar\", \"uid\": \"87ccbf54-c132-462e-a6e9-c12c9c38cc4e\"}], {\"autosize\": false, \"height\": 1000, \"width\": 1000, \"xaxis\": {\"tickfont\": {\"color\": \"black\", \"size\": 12}, \"title\": \"Feature Importances\"}, \"yaxis\": {\"automargin\": true}}, {\"showLink\": true, \"linkText\": \"Export to plot.ly\", \"plotlyServerURL\": \"https://plot.ly\"})});</script>"
      ]
     },
     "metadata": {},
     "output_type": "display_data"
    },
    {
     "name": "stdout",
     "output_type": "stream",
     "text": [
      "\n",
      "\n",
      "\u001b[1mExtraTree Classifier\u001b[0m\n",
      "Accuracy of the model for training data is: 0.946799339033\n",
      "Confusion Matrix for training data is:\n"
     ]
    },
    {
     "data": {
      "text/plain": [
       "Predicted  False   True  __all__\n",
       "Actual                          \n",
       "False      24913   2925    27838\n",
       "True          37  27801    27838\n",
       "__all__    24950  30726    55676"
      ]
     },
     "metadata": {},
     "output_type": "display_data"
    },
    {
     "name": "stdout",
     "output_type": "stream",
     "text": [
      "Accuracy of the model for test data is: 0.895480225989\n",
      "Confusion Matrix for test data is:\n"
     ]
    },
    {
     "data": {
      "text/plain": [
       "Predicted  False  True  __all__\n",
       "Actual                         \n",
       "False       6186   754     6940\n",
       "True          97  1105     1202\n",
       "__all__     6283  1859     8142"
      ]
     },
     "metadata": {},
     "output_type": "display_data"
    },
    {
     "data": {
      "application/vnd.plotly.v1+json": {
       "config": {
        "linkText": "Export to plot.ly",
        "plotlyServerURL": "https://plot.ly",
        "showLink": true
       },
       "data": [
        {
         "marker": {
          "color": "rgb(158,202,225)",
          "line": {
           "color": "rgb(8,48,107)",
           "width": 1.5
          }
         },
         "opacity": 0.6,
         "orientation": "h",
         "text": [
          0.1431,
          0.106,
          0.1045,
          0.0976,
          0.0816,
          0.075,
          0.0717,
          0.0491,
          0.0377,
          0.0362,
          0.0361,
          0.0269,
          0.0188,
          0.0132,
          0.0128,
          0.0101,
          0.0071,
          0.0066,
          0.0065,
          0.006,
          0.0055,
          0.0054,
          0.0053,
          0.0049,
          0.0043,
          0.004,
          0.0037,
          0.0033,
          0.003,
          0.0025,
          0.0023,
          0.0016,
          0.0015,
          0.0014,
          0.0012,
          0.0011,
          0.0011,
          0.0008,
          0.0002,
          0.0001
         ],
         "textposition": "outside",
         "type": "bar",
         "uid": "fb259b03-6b1c-41ee-8c0c-7e79e0efed0f",
         "x": [
          0.143135715034411,
          0.10598420121616152,
          0.1045201424381316,
          0.09756689280446662,
          0.08155609821733671,
          0.07498463825281423,
          0.07172247565962096,
          0.04911628837611358,
          0.037744262383769045,
          0.03624027208516663,
          0.036073658940524986,
          0.02689239976847798,
          0.018828126530574273,
          0.013154464031864552,
          0.01283119052424266,
          0.01012339097995268,
          0.007128097182870693,
          0.006578946496684427,
          0.00654996124247032,
          0.005993265754572969,
          0.0055186286181358535,
          0.005440483455365692,
          0.0052642234359156015,
          0.004947393381524235,
          0.004338429182951872,
          0.003964196572490196,
          0.003747651350956483,
          0.0033130909674605065,
          0.003002063952020805,
          0.0025411983839283224,
          0.0022540842827734196,
          0.0016092122315417643,
          0.001472403754700626,
          0.0013741793988033863,
          0.0012104116866989583,
          0.0011418065281413828,
          0.0010550702718114054,
          0.0008340843853776225,
          0.00016093183104027193,
          8.596840813415703e-05
         ],
         "y": [
          "script_count",
          "div_count",
          "iframe_count",
          "script_src_out_of_domain",
          "iframe_src_relative",
          "img_src_absolute",
          "script_type_text/javascript",
          "meta_http-equiv_X-UA-Compatible",
          "a_count",
          "style_count",
          "Num_of_hrefs",
          "li_count",
          "img_src_out_of_domain",
          "document.createElement",
          "input_count",
          "concat",
          "replace",
          "unescape",
          "parseInt",
          "window.addEventListener",
          "document.write",
          "small_count",
          "decodeURIComponent",
          "window.setTimeout",
          "encodeURIComponent",
          "charAt",
          "escape",
          "meta_http-equiv_refresh",
          "substring",
          "iframe_hidden_true",
          "exec",
          "eval",
          "String.fromCharCode",
          "object_count",
          "window.setInterval",
          "charCodeAt",
          "embed_count",
          "search",
          "image_count",
          "link"
         ]
        }
       ],
       "layout": {
        "autosize": false,
        "height": 1000,
        "width": 1000,
        "xaxis": {
         "tickfont": {
          "color": "black",
          "size": 12
         },
         "title": "Feature Importances"
        },
        "yaxis": {
         "automargin": true
        }
       }
      },
      "text/html": [
       "<div id=\"a509a36d-24c4-4926-a11a-f01c8f1573c9\" style=\"height: 1000px; width: 1000px;\" class=\"plotly-graph-div\"></div><script type=\"text/javascript\">require([\"plotly\"], function(Plotly) { window.PLOTLYENV=window.PLOTLYENV || {};window.PLOTLYENV.BASE_URL=\"https://plot.ly\";Plotly.newPlot(\"a509a36d-24c4-4926-a11a-f01c8f1573c9\", [{\"marker\": {\"color\": \"rgb(158,202,225)\", \"line\": {\"color\": \"rgb(8,48,107)\", \"width\": 1.5}}, \"opacity\": 0.6, \"orientation\": \"h\", \"text\": [0.1431, 0.106, 0.1045, 0.0976, 0.0816, 0.075, 0.0717, 0.0491, 0.0377, 0.0362, 0.0361, 0.0269, 0.0188, 0.0132, 0.0128, 0.0101, 0.0071, 0.0066, 0.0065, 0.006, 0.0055, 0.0054, 0.0053, 0.0049, 0.0043, 0.004, 0.0037, 0.0033, 0.003, 0.0025, 0.0023, 0.0016, 0.0015, 0.0014, 0.0012, 0.0011, 0.0011, 0.0008, 0.0002, 0.0001], \"textposition\": \"outside\", \"x\": [0.143135715034411, 0.10598420121616152, 0.1045201424381316, 0.09756689280446662, 0.08155609821733671, 0.07498463825281423, 0.07172247565962096, 0.04911628837611358, 0.037744262383769045, 0.03624027208516663, 0.036073658940524986, 0.02689239976847798, 0.018828126530574273, 0.013154464031864552, 0.01283119052424266, 0.01012339097995268, 0.007128097182870693, 0.006578946496684427, 0.00654996124247032, 0.005993265754572969, 0.0055186286181358535, 0.005440483455365692, 0.0052642234359156015, 0.004947393381524235, 0.004338429182951872, 0.003964196572490196, 0.003747651350956483, 0.0033130909674605065, 0.003002063952020805, 0.0025411983839283224, 0.0022540842827734196, 0.0016092122315417643, 0.001472403754700626, 0.0013741793988033863, 0.0012104116866989583, 0.0011418065281413828, 0.0010550702718114054, 0.0008340843853776225, 0.00016093183104027193, 8.596840813415703e-05], \"y\": [\"script_count\", \"div_count\", \"iframe_count\", \"script_src_out_of_domain\", \"iframe_src_relative\", \"img_src_absolute\", \"script_type_text/javascript\", \"meta_http-equiv_X-UA-Compatible\", \"a_count\", \"style_count\", \"Num_of_hrefs\", \"li_count\", \"img_src_out_of_domain\", \"document.createElement\", \"input_count\", \"concat\", \"replace\", \"unescape\", \"parseInt\", \"window.addEventListener\", \"document.write\", \"small_count\", \"decodeURIComponent\", \"window.setTimeout\", \"encodeURIComponent\", \"charAt\", \"escape\", \"meta_http-equiv_refresh\", \"substring\", \"iframe_hidden_true\", \"exec\", \"eval\", \"String.fromCharCode\", \"object_count\", \"window.setInterval\", \"charCodeAt\", \"embed_count\", \"search\", \"image_count\", \"link\"], \"type\": \"bar\", \"uid\": \"fb259b03-6b1c-41ee-8c0c-7e79e0efed0f\"}], {\"autosize\": false, \"height\": 1000, \"width\": 1000, \"xaxis\": {\"tickfont\": {\"color\": \"black\", \"size\": 12}, \"title\": \"Feature Importances\"}, \"yaxis\": {\"automargin\": true}}, {\"showLink\": true, \"linkText\": \"Export to plot.ly\", \"plotlyServerURL\": \"https://plot.ly\"})});</script>"
      ],
      "text/vnd.plotly.v1+html": [
       "<div id=\"a509a36d-24c4-4926-a11a-f01c8f1573c9\" style=\"height: 1000px; width: 1000px;\" class=\"plotly-graph-div\"></div><script type=\"text/javascript\">require([\"plotly\"], function(Plotly) { window.PLOTLYENV=window.PLOTLYENV || {};window.PLOTLYENV.BASE_URL=\"https://plot.ly\";Plotly.newPlot(\"a509a36d-24c4-4926-a11a-f01c8f1573c9\", [{\"marker\": {\"color\": \"rgb(158,202,225)\", \"line\": {\"color\": \"rgb(8,48,107)\", \"width\": 1.5}}, \"opacity\": 0.6, \"orientation\": \"h\", \"text\": [0.1431, 0.106, 0.1045, 0.0976, 0.0816, 0.075, 0.0717, 0.0491, 0.0377, 0.0362, 0.0361, 0.0269, 0.0188, 0.0132, 0.0128, 0.0101, 0.0071, 0.0066, 0.0065, 0.006, 0.0055, 0.0054, 0.0053, 0.0049, 0.0043, 0.004, 0.0037, 0.0033, 0.003, 0.0025, 0.0023, 0.0016, 0.0015, 0.0014, 0.0012, 0.0011, 0.0011, 0.0008, 0.0002, 0.0001], \"textposition\": \"outside\", \"x\": [0.143135715034411, 0.10598420121616152, 0.1045201424381316, 0.09756689280446662, 0.08155609821733671, 0.07498463825281423, 0.07172247565962096, 0.04911628837611358, 0.037744262383769045, 0.03624027208516663, 0.036073658940524986, 0.02689239976847798, 0.018828126530574273, 0.013154464031864552, 0.01283119052424266, 0.01012339097995268, 0.007128097182870693, 0.006578946496684427, 0.00654996124247032, 0.005993265754572969, 0.0055186286181358535, 0.005440483455365692, 0.0052642234359156015, 0.004947393381524235, 0.004338429182951872, 0.003964196572490196, 0.003747651350956483, 0.0033130909674605065, 0.003002063952020805, 0.0025411983839283224, 0.0022540842827734196, 0.0016092122315417643, 0.001472403754700626, 0.0013741793988033863, 0.0012104116866989583, 0.0011418065281413828, 0.0010550702718114054, 0.0008340843853776225, 0.00016093183104027193, 8.596840813415703e-05], \"y\": [\"script_count\", \"div_count\", \"iframe_count\", \"script_src_out_of_domain\", \"iframe_src_relative\", \"img_src_absolute\", \"script_type_text/javascript\", \"meta_http-equiv_X-UA-Compatible\", \"a_count\", \"style_count\", \"Num_of_hrefs\", \"li_count\", \"img_src_out_of_domain\", \"document.createElement\", \"input_count\", \"concat\", \"replace\", \"unescape\", \"parseInt\", \"window.addEventListener\", \"document.write\", \"small_count\", \"decodeURIComponent\", \"window.setTimeout\", \"encodeURIComponent\", \"charAt\", \"escape\", \"meta_http-equiv_refresh\", \"substring\", \"iframe_hidden_true\", \"exec\", \"eval\", \"String.fromCharCode\", \"object_count\", \"window.setInterval\", \"charCodeAt\", \"embed_count\", \"search\", \"image_count\", \"link\"], \"type\": \"bar\", \"uid\": \"fb259b03-6b1c-41ee-8c0c-7e79e0efed0f\"}], {\"autosize\": false, \"height\": 1000, \"width\": 1000, \"xaxis\": {\"tickfont\": {\"color\": \"black\", \"size\": 12}, \"title\": \"Feature Importances\"}, \"yaxis\": {\"automargin\": true}}, {\"showLink\": true, \"linkText\": \"Export to plot.ly\", \"plotlyServerURL\": \"https://plot.ly\"})});</script>"
      ]
     },
     "metadata": {},
     "output_type": "display_data"
    },
    {
     "name": "stdout",
     "output_type": "stream",
     "text": [
      "\n",
      "\n",
      "\u001b[1mBagging Classifier\u001b[0m\n",
      "Accuracy of the model for training data is: 0.945739636468\n",
      "Confusion Matrix for training data is:\n"
     ]
    },
    {
     "data": {
      "text/plain": [
       "Predicted  False   True  __all__\n",
       "Actual                          \n",
       "False      24900   2938    27838\n",
       "True          83  27755    27838\n",
       "__all__    24983  30693    55676"
      ]
     },
     "metadata": {},
     "output_type": "display_data"
    },
    {
     "name": "stdout",
     "output_type": "stream",
     "text": [
      "Accuracy of the model for test data is: 0.892164087448\n",
      "Confusion Matrix for test data is:\n"
     ]
    },
    {
     "data": {
      "text/plain": [
       "Predicted  False  True  __all__\n",
       "Actual                         \n",
       "False       6155   785     6940\n",
       "True          93  1109     1202\n",
       "__all__     6248  1894     8142"
      ]
     },
     "metadata": {},
     "output_type": "display_data"
    },
    {
     "name": "stdout",
     "output_type": "stream",
     "text": [
      "\n",
      "\n",
      "\u001b[1mNeural Network-1\u001b[0m\n",
      "The accuracy of the model on training data is: 0.931568359796\n"
     ]
    },
    {
     "data": {
      "text/plain": [
       "Predicted  False   True  __all__\n",
       "Actual                          \n",
       "False      24170   3668    27838\n",
       "True         142  27696    27838\n",
       "__all__    24312  31364    55676"
      ]
     },
     "metadata": {},
     "output_type": "display_data"
    },
    {
     "name": "stdout",
     "output_type": "stream",
     "text": [
      "The accuracy of the model on test data is: 0.872512896094\n"
     ]
    },
    {
     "data": {
      "text/plain": [
       "Predicted  False  True  __all__\n",
       "Actual                         \n",
       "False       5976   964     6940\n",
       "True          74  1128     1202\n",
       "__all__     6050  2092     8142"
      ]
     },
     "metadata": {},
     "output_type": "display_data"
    },
    {
     "name": "stdout",
     "output_type": "stream",
     "text": [
      "\n",
      "\n"
     ]
    }
   ],
   "source": [
    "feat_imp=[None]*4\n",
    "j=0\n",
    "for i in range(0,8):\n",
    "    if i>=2 and i<=5:\n",
    "        model,cm_train,cm_test,acc_train,acc_test,roc_auc,feat_imp[j],mcc=f[i](X_train,Y_train,scaled_X_test,test_Y,columns)\n",
    "        j=j+1\n",
    "    else:\n",
    "        model,cm_train,cm_test,acc_train,acc_test,roc_auc,mcc=f[i](X_train,Y_train,scaled_X_test,test_Y)\n",
    "    table_80_80_train.loc[i]=   ([acc_train,cm_train.TP,cm_train.TN,cm_train.FP,cm_train.FN,cm_train.FPR,cm_train.FNR])\n",
    "    table_80_80_test.loc[i] =   ([acc_test ,cm_test.TP, cm_test.TN, cm_test.FP, cm_test.FN, cm_test.FPR, cm_test.FNR,roc_auc,mcc])\n",
    "    print(\"\\n\")"
   ]
  },
  {
   "cell_type": "markdown",
   "metadata": {},
   "source": [
    "### <a id='2.A' style=\"text-decoration : none; color : #000000;\"> A Results</a>"
   ]
  },
  {
   "cell_type": "code",
   "execution_count": 29,
   "metadata": {},
   "outputs": [
    {
     "data": {
      "application/vnd.plotly.v1+json": {
       "config": {
        "linkText": "Export to plot.ly",
        "plotlyServerURL": "https://plot.ly",
        "showLink": true
       },
       "data": [
        {
         "mode": "lines",
         "name": "KNN_model",
         "type": "scatter",
         "uid": "62edf235-d929-467f-93e7-2796cc0a0ef3",
         "x": [
          "accuracy",
          "FPR",
          "FNR",
          "auc"
         ],
         "y": [
          0.8694423974453451,
          0.14048991354466858,
          0.07321131447587355,
          0.8931493859897289
         ]
        },
        {
         "mode": "lines+markers",
         "name": "Logistic Regression",
         "type": "scatter",
         "uid": "1f2ee6f1-3540-4cb8-9616-f41e3853ffc9",
         "x": [
          "accuracy",
          "FPR",
          "FNR",
          "auc"
         ],
         "y": [
          0.8228936379267993,
          0.1994236311239193,
          0.048252911813643926,
          0.8761617285312184
         ]
        },
        {
         "marker": {
          "symbol": "x"
         },
         "mode": "lines+markers",
         "name": "Random Forest",
         "type": "scatter",
         "uid": "f636d9dc-3022-46e3-a350-e4731fa412f0",
         "x": [
          "accuracy",
          "FPR",
          "FNR",
          "auc"
         ],
         "y": [
          0.8947433063129452,
          0.1100864553314121,
          0.07737104825291181,
          0.906271248207838
         ]
        },
        {
         "mode": "lines",
         "name": "Ada Boost",
         "type": "scatter",
         "uid": "02afd5b1-e89e-4d4f-b416-397860f369e8",
         "x": [
          "accuracy",
          "FPR",
          "FNR",
          "auc"
         ],
         "y": [
          0.8585114222549742,
          0.1537463976945245,
          0.07071547420965059,
          0.8877690640479126
         ]
        },
        {
         "mode": "lines+markers",
         "name": "GradientBoosting",
         "type": "scatter",
         "uid": "0d24887d-43a9-4cc1-ae5e-e16dffe03dd7",
         "x": [
          "accuracy",
          "FPR",
          "FNR",
          "auc"
         ],
         "y": [
          0.8739867354458364,
          0.13386167146974062,
          0.08069883527454243,
          0.8927197466278585
         ]
        },
        {
         "marker": {
          "symbol": "x"
         },
         "mode": "lines+markers",
         "name": "ExtraTree Classifier",
         "type": "scatter",
         "uid": "993e99f0-502a-4b07-b8ea-a592befba146",
         "x": [
          "accuracy",
          "FPR",
          "FNR",
          "auc"
         ],
         "y": [
          0.8954802259887006,
          0.10864553314121038,
          0.08069883527454243,
          0.9053278157921236
         ]
        },
        {
         "marker": {
          "symbol": "x"
         },
         "mode": "lines+markers",
         "name": "Bagging",
         "type": "scatter",
         "uid": "1efbe9fc-906f-4c17-a0f8-2445f3772f63",
         "x": [
          "accuracy",
          "FPR",
          "FNR",
          "auc"
         ],
         "y": [
          0.8921640874478015,
          0.11311239193083573,
          0.07737104825291181,
          0.9047582799081263
         ]
        },
        {
         "marker": {
          "symbol": "x"
         },
         "mode": "lines+markers",
         "name": "Neural Network",
         "type": "scatter",
         "uid": "44d8e9d5-2bd1-4d7c-bf5d-d42e45b84ac0",
         "x": [
          "accuracy",
          "FPR",
          "FNR",
          "auc"
         ],
         "y": [
          0.8725128960943257,
          0.13890489913544668,
          0.06156405990016639,
          0.9047582799081263
         ]
        }
       ],
       "layout": {
        "title": "Result comparision for Features selected in Section 1",
        "yaxis": {
         "dtick": 0.05,
         "tick0": 0
        }
       }
      },
      "text/html": [
       "<div id=\"620d86a9-53f0-47a5-a267-fc68150c06b6\" style=\"height: 525px; width: 100%;\" class=\"plotly-graph-div\"></div><script type=\"text/javascript\">require([\"plotly\"], function(Plotly) { window.PLOTLYENV=window.PLOTLYENV || {};window.PLOTLYENV.BASE_URL=\"https://plot.ly\";Plotly.newPlot(\"620d86a9-53f0-47a5-a267-fc68150c06b6\", [{\"mode\": \"lines\", \"name\": \"KNN_model\", \"x\": [\"accuracy\", \"FPR\", \"FNR\", \"auc\"], \"y\": [0.8694423974453451, 0.14048991354466858, 0.07321131447587355, 0.8931493859897289], \"type\": \"scatter\", \"uid\": \"62edf235-d929-467f-93e7-2796cc0a0ef3\"}, {\"mode\": \"lines+markers\", \"name\": \"Logistic Regression\", \"x\": [\"accuracy\", \"FPR\", \"FNR\", \"auc\"], \"y\": [0.8228936379267993, 0.1994236311239193, 0.048252911813643926, 0.8761617285312184], \"type\": \"scatter\", \"uid\": \"1f2ee6f1-3540-4cb8-9616-f41e3853ffc9\"}, {\"marker\": {\"symbol\": \"x\"}, \"mode\": \"lines+markers\", \"name\": \"Random Forest\", \"x\": [\"accuracy\", \"FPR\", \"FNR\", \"auc\"], \"y\": [0.8947433063129452, 0.1100864553314121, 0.07737104825291181, 0.906271248207838], \"type\": \"scatter\", \"uid\": \"f636d9dc-3022-46e3-a350-e4731fa412f0\"}, {\"mode\": \"lines\", \"name\": \"Ada Boost\", \"x\": [\"accuracy\", \"FPR\", \"FNR\", \"auc\"], \"y\": [0.8585114222549742, 0.1537463976945245, 0.07071547420965059, 0.8877690640479126], \"type\": \"scatter\", \"uid\": \"02afd5b1-e89e-4d4f-b416-397860f369e8\"}, {\"mode\": \"lines+markers\", \"name\": \"GradientBoosting\", \"x\": [\"accuracy\", \"FPR\", \"FNR\", \"auc\"], \"y\": [0.8739867354458364, 0.13386167146974062, 0.08069883527454243, 0.8927197466278585], \"type\": \"scatter\", \"uid\": \"0d24887d-43a9-4cc1-ae5e-e16dffe03dd7\"}, {\"marker\": {\"symbol\": \"x\"}, \"mode\": \"lines+markers\", \"name\": \"ExtraTree Classifier\", \"x\": [\"accuracy\", \"FPR\", \"FNR\", \"auc\"], \"y\": [0.8954802259887006, 0.10864553314121038, 0.08069883527454243, 0.9053278157921236], \"type\": \"scatter\", \"uid\": \"993e99f0-502a-4b07-b8ea-a592befba146\"}, {\"marker\": {\"symbol\": \"x\"}, \"mode\": \"lines+markers\", \"name\": \"Bagging\", \"x\": [\"accuracy\", \"FPR\", \"FNR\", \"auc\"], \"y\": [0.8921640874478015, 0.11311239193083573, 0.07737104825291181, 0.9047582799081263], \"type\": \"scatter\", \"uid\": \"1efbe9fc-906f-4c17-a0f8-2445f3772f63\"}, {\"marker\": {\"symbol\": \"x\"}, \"mode\": \"lines+markers\", \"name\": \"Neural Network\", \"x\": [\"accuracy\", \"FPR\", \"FNR\", \"auc\"], \"y\": [0.8725128960943257, 0.13890489913544668, 0.06156405990016639, 0.9047582799081263], \"type\": \"scatter\", \"uid\": \"44d8e9d5-2bd1-4d7c-bf5d-d42e45b84ac0\"}], {\"title\": \"Result comparision for Features selected in Section 1\", \"yaxis\": {\"dtick\": 0.05, \"tick0\": 0}}, {\"showLink\": true, \"linkText\": \"Export to plot.ly\", \"plotlyServerURL\": \"https://plot.ly\"})});</script><script type=\"text/javascript\">window.addEventListener(\"resize\", function(){window._Plotly.Plots.resize(document.getElementById(\"620d86a9-53f0-47a5-a267-fc68150c06b6\"));});</script>"
      ],
      "text/vnd.plotly.v1+html": [
       "<div id=\"620d86a9-53f0-47a5-a267-fc68150c06b6\" style=\"height: 525px; width: 100%;\" class=\"plotly-graph-div\"></div><script type=\"text/javascript\">require([\"plotly\"], function(Plotly) { window.PLOTLYENV=window.PLOTLYENV || {};window.PLOTLYENV.BASE_URL=\"https://plot.ly\";Plotly.newPlot(\"620d86a9-53f0-47a5-a267-fc68150c06b6\", [{\"mode\": \"lines\", \"name\": \"KNN_model\", \"x\": [\"accuracy\", \"FPR\", \"FNR\", \"auc\"], \"y\": [0.8694423974453451, 0.14048991354466858, 0.07321131447587355, 0.8931493859897289], \"type\": \"scatter\", \"uid\": \"62edf235-d929-467f-93e7-2796cc0a0ef3\"}, {\"mode\": \"lines+markers\", \"name\": \"Logistic Regression\", \"x\": [\"accuracy\", \"FPR\", \"FNR\", \"auc\"], \"y\": [0.8228936379267993, 0.1994236311239193, 0.048252911813643926, 0.8761617285312184], \"type\": \"scatter\", \"uid\": \"1f2ee6f1-3540-4cb8-9616-f41e3853ffc9\"}, {\"marker\": {\"symbol\": \"x\"}, \"mode\": \"lines+markers\", \"name\": \"Random Forest\", \"x\": [\"accuracy\", \"FPR\", \"FNR\", \"auc\"], \"y\": [0.8947433063129452, 0.1100864553314121, 0.07737104825291181, 0.906271248207838], \"type\": \"scatter\", \"uid\": \"f636d9dc-3022-46e3-a350-e4731fa412f0\"}, {\"mode\": \"lines\", \"name\": \"Ada Boost\", \"x\": [\"accuracy\", \"FPR\", \"FNR\", \"auc\"], \"y\": [0.8585114222549742, 0.1537463976945245, 0.07071547420965059, 0.8877690640479126], \"type\": \"scatter\", \"uid\": \"02afd5b1-e89e-4d4f-b416-397860f369e8\"}, {\"mode\": \"lines+markers\", \"name\": \"GradientBoosting\", \"x\": [\"accuracy\", \"FPR\", \"FNR\", \"auc\"], \"y\": [0.8739867354458364, 0.13386167146974062, 0.08069883527454243, 0.8927197466278585], \"type\": \"scatter\", \"uid\": \"0d24887d-43a9-4cc1-ae5e-e16dffe03dd7\"}, {\"marker\": {\"symbol\": \"x\"}, \"mode\": \"lines+markers\", \"name\": \"ExtraTree Classifier\", \"x\": [\"accuracy\", \"FPR\", \"FNR\", \"auc\"], \"y\": [0.8954802259887006, 0.10864553314121038, 0.08069883527454243, 0.9053278157921236], \"type\": \"scatter\", \"uid\": \"993e99f0-502a-4b07-b8ea-a592befba146\"}, {\"marker\": {\"symbol\": \"x\"}, \"mode\": \"lines+markers\", \"name\": \"Bagging\", \"x\": [\"accuracy\", \"FPR\", \"FNR\", \"auc\"], \"y\": [0.8921640874478015, 0.11311239193083573, 0.07737104825291181, 0.9047582799081263], \"type\": \"scatter\", \"uid\": \"1efbe9fc-906f-4c17-a0f8-2445f3772f63\"}, {\"marker\": {\"symbol\": \"x\"}, \"mode\": \"lines+markers\", \"name\": \"Neural Network\", \"x\": [\"accuracy\", \"FPR\", \"FNR\", \"auc\"], \"y\": [0.8725128960943257, 0.13890489913544668, 0.06156405990016639, 0.9047582799081263], \"type\": \"scatter\", \"uid\": \"44d8e9d5-2bd1-4d7c-bf5d-d42e45b84ac0\"}], {\"title\": \"Result comparision for Features selected in Section 1\", \"yaxis\": {\"dtick\": 0.05, \"tick0\": 0}}, {\"showLink\": true, \"linkText\": \"Export to plot.ly\", \"plotlyServerURL\": \"https://plot.ly\"})});</script><script type=\"text/javascript\">window.addEventListener(\"resize\", function(){window._Plotly.Plots.resize(document.getElementById(\"620d86a9-53f0-47a5-a267-fc68150c06b6\"));});</script>"
      ]
     },
     "metadata": {},
     "output_type": "display_data"
    }
   ],
   "source": [
    "trace0 = go.Scatter(x=table_80_80_test.iloc[0].index.values[[0,5,6,7]],\n",
    "                    y=table_80_80_test.iloc[0].values[[0,5,6,7]],\n",
    "                    mode = 'lines',\n",
    "                    name = 'KNN_model')\n",
    "\n",
    "trace1 = go.Scatter(x=table_80_80_test.iloc[1].index.values[[0,5,6,7]],\n",
    "                    y=table_80_80_test.iloc[1].values[[0,5,6,7]],\n",
    "                    mode = 'lines+markers',\n",
    "                    name = 'Logistic Regression')\n",
    "\n",
    "trace2 = go.Scatter(x=table_80_80_test.iloc[2].index.values[[0,5,6,7]],\n",
    "                    y=table_80_80_test.iloc[2].values[[0,5,6,7]],\n",
    "                    mode = 'lines+markers',marker=dict(symbol='x'),\n",
    "                    name = 'Random Forest')\n",
    "\n",
    "\n",
    "trace3 = go.Scatter(x=table_80_80_test.iloc[3].index.values[[0,5,6,7]],\n",
    "                    y=table_80_80_test.iloc[3].values[[0,5,6,7]],\n",
    "                    mode = 'lines',\n",
    "                    name = 'Ada Boost')\n",
    "\n",
    "trace4 = go.Scatter(x=table_80_80_test.iloc[4].index.values[[0,5,6,7]],\n",
    "                    y=table_80_80_test.iloc[4].values[[0,5,6,7]],\n",
    "                    mode = 'lines+markers',\n",
    "                    name = 'GradientBoosting')\n",
    "\n",
    "trace5 = go.Scatter(x=table_80_80_test.iloc[5].index.values[[0,5,6,7]],\n",
    "                    y=table_80_80_test.iloc[5].values[[0,5,6,7]],\n",
    "                    mode = 'lines+markers',marker=dict(symbol='x'),\n",
    "                    name = 'ExtraTree Classifier')\n",
    "\n",
    "trace6 = go.Scatter(x=table_80_80_test.iloc[6].index.values[[0,5,6,7]],\n",
    "                    y=table_80_80_test.iloc[6].values[[0,5,6,7]],\n",
    "                    mode = 'lines+markers',marker=dict(symbol='x'),\n",
    "                    name = 'Bagging')\n",
    "\n",
    "trace7 = go.Scatter(x=table_80_80_test.iloc[7].index.values[[0,5,6,7]],\n",
    "                    y=table_80_80_test.iloc[7].values[[0,5,6,7]],\n",
    "                    mode = 'lines+markers',marker=dict(symbol='x'),\n",
    "                    name = 'Neural Network')\n",
    "\n",
    "\n",
    "\n",
    "data = [trace0, trace1, trace2, trace3, trace4, trace5, trace6, trace7]\n",
    "layout = go.Layout(yaxis=dict(tick0=0,dtick=0.05),title='Result comparision for Features selected in Section 1')\n",
    "fig = go.Figure(data=data, layout=layout)\n",
    "\n",
    "iplot(fig, filename='Result')"
   ]
  },
  {
   "cell_type": "code",
   "execution_count": 30,
   "metadata": {},
   "outputs": [
    {
     "name": "stdout",
     "output_type": "stream",
     "text": [
      "Training Results\n"
     ]
    },
    {
     "data": {
      "text/html": [
       "<div>\n",
       "<style scoped>\n",
       "    .dataframe tbody tr th:only-of-type {\n",
       "        vertical-align: middle;\n",
       "    }\n",
       "\n",
       "    .dataframe tbody tr th {\n",
       "        vertical-align: top;\n",
       "    }\n",
       "\n",
       "    .dataframe thead th {\n",
       "        text-align: right;\n",
       "    }\n",
       "</style>\n",
       "<table border=\"1\" class=\"dataframe\">\n",
       "  <thead>\n",
       "    <tr style=\"text-align: right;\">\n",
       "      <th></th>\n",
       "      <th>accuracy</th>\n",
       "      <th>TP</th>\n",
       "      <th>TN</th>\n",
       "      <th>FP</th>\n",
       "      <th>FN</th>\n",
       "      <th>FPR</th>\n",
       "      <th>FNR</th>\n",
       "    </tr>\n",
       "    <tr>\n",
       "      <th>index</th>\n",
       "      <th></th>\n",
       "      <th></th>\n",
       "      <th></th>\n",
       "      <th></th>\n",
       "      <th></th>\n",
       "      <th></th>\n",
       "      <th></th>\n",
       "    </tr>\n",
       "  </thead>\n",
       "  <tbody>\n",
       "    <tr>\n",
       "      <th>KNeighborsClassifier</th>\n",
       "      <td>0.926162</td>\n",
       "      <td>27297.0</td>\n",
       "      <td>24268.0</td>\n",
       "      <td>3570.0</td>\n",
       "      <td>541.0</td>\n",
       "      <td>0.128242</td>\n",
       "      <td>0.019434</td>\n",
       "    </tr>\n",
       "    <tr>\n",
       "      <th>LogisticRegression</th>\n",
       "      <td>0.879230</td>\n",
       "      <td>26645.0</td>\n",
       "      <td>22307.0</td>\n",
       "      <td>5531.0</td>\n",
       "      <td>1193.0</td>\n",
       "      <td>0.198685</td>\n",
       "      <td>0.042855</td>\n",
       "    </tr>\n",
       "    <tr>\n",
       "      <th>RandomForestClassifier</th>\n",
       "      <td>0.946027</td>\n",
       "      <td>27766.0</td>\n",
       "      <td>24905.0</td>\n",
       "      <td>2933.0</td>\n",
       "      <td>72.0</td>\n",
       "      <td>0.105360</td>\n",
       "      <td>0.002586</td>\n",
       "    </tr>\n",
       "    <tr>\n",
       "      <th>AdaBoostClassifier</th>\n",
       "      <td>0.897317</td>\n",
       "      <td>26402.0</td>\n",
       "      <td>23557.0</td>\n",
       "      <td>4281.0</td>\n",
       "      <td>1436.0</td>\n",
       "      <td>0.153783</td>\n",
       "      <td>0.051584</td>\n",
       "    </tr>\n",
       "    <tr>\n",
       "      <th>GradientBoostingClassifier</th>\n",
       "      <td>0.915044</td>\n",
       "      <td>26779.0</td>\n",
       "      <td>24167.0</td>\n",
       "      <td>3671.0</td>\n",
       "      <td>1059.0</td>\n",
       "      <td>0.131870</td>\n",
       "      <td>0.038042</td>\n",
       "    </tr>\n",
       "    <tr>\n",
       "      <th>ExtraTreeClassifier</th>\n",
       "      <td>0.946799</td>\n",
       "      <td>27801.0</td>\n",
       "      <td>24913.0</td>\n",
       "      <td>2925.0</td>\n",
       "      <td>37.0</td>\n",
       "      <td>0.105072</td>\n",
       "      <td>0.001329</td>\n",
       "    </tr>\n",
       "    <tr>\n",
       "      <th>BaggingClassifier</th>\n",
       "      <td>0.945740</td>\n",
       "      <td>27755.0</td>\n",
       "      <td>24900.0</td>\n",
       "      <td>2938.0</td>\n",
       "      <td>83.0</td>\n",
       "      <td>0.105539</td>\n",
       "      <td>0.002982</td>\n",
       "    </tr>\n",
       "    <tr>\n",
       "      <th>Neural Network-1</th>\n",
       "      <td>0.931568</td>\n",
       "      <td>27696.0</td>\n",
       "      <td>24170.0</td>\n",
       "      <td>3668.0</td>\n",
       "      <td>142.0</td>\n",
       "      <td>0.131762</td>\n",
       "      <td>0.005101</td>\n",
       "    </tr>\n",
       "  </tbody>\n",
       "</table>\n",
       "</div>"
      ],
      "text/plain": [
       "                            accuracy       TP       TN      FP      FN  \\\n",
       "index                                                                    \n",
       "KNeighborsClassifier        0.926162  27297.0  24268.0  3570.0   541.0   \n",
       "LogisticRegression          0.879230  26645.0  22307.0  5531.0  1193.0   \n",
       "RandomForestClassifier      0.946027  27766.0  24905.0  2933.0    72.0   \n",
       "AdaBoostClassifier          0.897317  26402.0  23557.0  4281.0  1436.0   \n",
       "GradientBoostingClassifier  0.915044  26779.0  24167.0  3671.0  1059.0   \n",
       "ExtraTreeClassifier         0.946799  27801.0  24913.0  2925.0    37.0   \n",
       "BaggingClassifier           0.945740  27755.0  24900.0  2938.0    83.0   \n",
       "Neural Network-1            0.931568  27696.0  24170.0  3668.0   142.0   \n",
       "\n",
       "                                 FPR       FNR  \n",
       "index                                           \n",
       "KNeighborsClassifier        0.128242  0.019434  \n",
       "LogisticRegression          0.198685  0.042855  \n",
       "RandomForestClassifier      0.105360  0.002586  \n",
       "AdaBoostClassifier          0.153783  0.051584  \n",
       "GradientBoostingClassifier  0.131870  0.038042  \n",
       "ExtraTreeClassifier         0.105072  0.001329  \n",
       "BaggingClassifier           0.105539  0.002982  \n",
       "Neural Network-1            0.131762  0.005101  "
      ]
     },
     "metadata": {},
     "output_type": "display_data"
    },
    {
     "name": "stdout",
     "output_type": "stream",
     "text": [
      "Test Results\n"
     ]
    },
    {
     "data": {
      "text/html": [
       "<div>\n",
       "<style scoped>\n",
       "    .dataframe tbody tr th:only-of-type {\n",
       "        vertical-align: middle;\n",
       "    }\n",
       "\n",
       "    .dataframe tbody tr th {\n",
       "        vertical-align: top;\n",
       "    }\n",
       "\n",
       "    .dataframe thead th {\n",
       "        text-align: right;\n",
       "    }\n",
       "</style>\n",
       "<table border=\"1\" class=\"dataframe\">\n",
       "  <thead>\n",
       "    <tr style=\"text-align: right;\">\n",
       "      <th></th>\n",
       "      <th>accuracy</th>\n",
       "      <th>TP</th>\n",
       "      <th>TN</th>\n",
       "      <th>FP</th>\n",
       "      <th>FN</th>\n",
       "      <th>FPR</th>\n",
       "      <th>FNR</th>\n",
       "      <th>auc</th>\n",
       "      <th>mcc</th>\n",
       "    </tr>\n",
       "    <tr>\n",
       "      <th>index</th>\n",
       "      <th></th>\n",
       "      <th></th>\n",
       "      <th></th>\n",
       "      <th></th>\n",
       "      <th></th>\n",
       "      <th></th>\n",
       "      <th></th>\n",
       "      <th></th>\n",
       "      <th></th>\n",
       "    </tr>\n",
       "  </thead>\n",
       "  <tbody>\n",
       "    <tr>\n",
       "      <th>KNeighborsClassifier</th>\n",
       "      <td>0.869442</td>\n",
       "      <td>1114.0</td>\n",
       "      <td>5965.0</td>\n",
       "      <td>975.0</td>\n",
       "      <td>88.0</td>\n",
       "      <td>0.140490</td>\n",
       "      <td>0.073211</td>\n",
       "      <td>0.893149</td>\n",
       "      <td>0.638653</td>\n",
       "    </tr>\n",
       "    <tr>\n",
       "      <th>LogisticRegression</th>\n",
       "      <td>0.822894</td>\n",
       "      <td>1144.0</td>\n",
       "      <td>5556.0</td>\n",
       "      <td>1384.0</td>\n",
       "      <td>58.0</td>\n",
       "      <td>0.199424</td>\n",
       "      <td>0.048253</td>\n",
       "      <td>0.876162</td>\n",
       "      <td>0.576782</td>\n",
       "    </tr>\n",
       "    <tr>\n",
       "      <th>RandomForestClassifier</th>\n",
       "      <td>0.894743</td>\n",
       "      <td>1109.0</td>\n",
       "      <td>6176.0</td>\n",
       "      <td>764.0</td>\n",
       "      <td>93.0</td>\n",
       "      <td>0.110086</td>\n",
       "      <td>0.077371</td>\n",
       "      <td>0.906271</td>\n",
       "      <td>0.684873</td>\n",
       "    </tr>\n",
       "    <tr>\n",
       "      <th>AdaBoostClassifier</th>\n",
       "      <td>0.858511</td>\n",
       "      <td>1117.0</td>\n",
       "      <td>5873.0</td>\n",
       "      <td>1067.0</td>\n",
       "      <td>85.0</td>\n",
       "      <td>0.153746</td>\n",
       "      <td>0.070715</td>\n",
       "      <td>0.887769</td>\n",
       "      <td>0.620953</td>\n",
       "    </tr>\n",
       "    <tr>\n",
       "      <th>GradientBoostingClassifier</th>\n",
       "      <td>0.873987</td>\n",
       "      <td>1105.0</td>\n",
       "      <td>6011.0</td>\n",
       "      <td>929.0</td>\n",
       "      <td>97.0</td>\n",
       "      <td>0.133862</td>\n",
       "      <td>0.080699</td>\n",
       "      <td>0.892720</td>\n",
       "      <td>0.643605</td>\n",
       "    </tr>\n",
       "    <tr>\n",
       "      <th>ExtraTreeClassifier</th>\n",
       "      <td>0.895480</td>\n",
       "      <td>1105.0</td>\n",
       "      <td>6186.0</td>\n",
       "      <td>754.0</td>\n",
       "      <td>97.0</td>\n",
       "      <td>0.108646</td>\n",
       "      <td>0.080699</td>\n",
       "      <td>0.905328</td>\n",
       "      <td>0.685086</td>\n",
       "    </tr>\n",
       "    <tr>\n",
       "      <th>BaggingClassifier</th>\n",
       "      <td>0.892164</td>\n",
       "      <td>1109.0</td>\n",
       "      <td>6155.0</td>\n",
       "      <td>785.0</td>\n",
       "      <td>93.0</td>\n",
       "      <td>0.113112</td>\n",
       "      <td>0.077371</td>\n",
       "      <td>0.904758</td>\n",
       "      <td>0.679669</td>\n",
       "    </tr>\n",
       "    <tr>\n",
       "      <th>Neural Network-1</th>\n",
       "      <td>0.872513</td>\n",
       "      <td>1128.0</td>\n",
       "      <td>5976.0</td>\n",
       "      <td>964.0</td>\n",
       "      <td>74.0</td>\n",
       "      <td>0.138905</td>\n",
       "      <td>0.061564</td>\n",
       "      <td>0.904758</td>\n",
       "      <td>0.649096</td>\n",
       "    </tr>\n",
       "  </tbody>\n",
       "</table>\n",
       "</div>"
      ],
      "text/plain": [
       "                            accuracy      TP      TN      FP    FN       FPR  \\\n",
       "index                                                                          \n",
       "KNeighborsClassifier        0.869442  1114.0  5965.0   975.0  88.0  0.140490   \n",
       "LogisticRegression          0.822894  1144.0  5556.0  1384.0  58.0  0.199424   \n",
       "RandomForestClassifier      0.894743  1109.0  6176.0   764.0  93.0  0.110086   \n",
       "AdaBoostClassifier          0.858511  1117.0  5873.0  1067.0  85.0  0.153746   \n",
       "GradientBoostingClassifier  0.873987  1105.0  6011.0   929.0  97.0  0.133862   \n",
       "ExtraTreeClassifier         0.895480  1105.0  6186.0   754.0  97.0  0.108646   \n",
       "BaggingClassifier           0.892164  1109.0  6155.0   785.0  93.0  0.113112   \n",
       "Neural Network-1            0.872513  1128.0  5976.0   964.0  74.0  0.138905   \n",
       "\n",
       "                                 FNR       auc       mcc  \n",
       "index                                                     \n",
       "KNeighborsClassifier        0.073211  0.893149  0.638653  \n",
       "LogisticRegression          0.048253  0.876162  0.576782  \n",
       "RandomForestClassifier      0.077371  0.906271  0.684873  \n",
       "AdaBoostClassifier          0.070715  0.887769  0.620953  \n",
       "GradientBoostingClassifier  0.080699  0.892720  0.643605  \n",
       "ExtraTreeClassifier         0.080699  0.905328  0.685086  \n",
       "BaggingClassifier           0.077371  0.904758  0.679669  \n",
       "Neural Network-1            0.061564  0.904758  0.649096  "
      ]
     },
     "metadata": {},
     "output_type": "display_data"
    }
   ],
   "source": [
    "table_80_80_train['index']=ind_columns\n",
    "table_80_80_test['index']=ind_columns\n",
    "\n",
    "\n",
    "table_80_80_test.set_index(['index'],drop=True,inplace=True)\n",
    "table_80_80_train.set_index(['index'],drop=True,inplace=True)\n",
    "\n",
    "print(\"Training Results\")\n",
    "display(table_80_80_train)\n",
    "print(\"Test Results\")\n",
    "display(table_80_80_test)"
   ]
  },
  {
   "cell_type": "markdown",
   "metadata": {},
   "source": [
    "### <a id='2.B' style=\"text-decoration : none; color : #000000;\"> B. Average Feature Importances</a>"
   ]
  },
  {
   "cell_type": "code",
   "execution_count": 31,
   "metadata": {},
   "outputs": [
    {
     "data": {
      "application/vnd.plotly.v1+json": {
       "config": {
        "linkText": "Export to plot.ly",
        "plotlyServerURL": "https://plot.ly",
        "showLink": true
       },
       "data": [
        {
         "marker": {
          "color": "rgb(158,202,225)",
          "line": {
           "color": "rgb(8,48,107)",
           "width": 1.5
          }
         },
         "opacity": 0.6,
         "orientation": "h",
         "text": [
          0.2677,
          0.0711,
          0.0695,
          0.0619,
          0.0544,
          0.0472,
          0.0393,
          0.0383,
          0.0358,
          0.0353,
          0.0339,
          0.0332,
          0.0279,
          0.0243,
          0.0228,
          0.0195,
          0.0165,
          0.0126,
          0.0126,
          0.0124,
          0.0109,
          0.0078,
          0.0072,
          0.0072,
          0.0067,
          0.0063,
          0.0056,
          0.004,
          0.0024,
          0.001,
          0.0008,
          0.0008,
          0.0007,
          0.0007,
          0.0004,
          0.0004,
          0.0003,
          0.0003,
          0.0001,
          0
         ],
         "textposition": "outside",
         "type": "bar",
         "uid": "f888598f-ea82-4fd5-8c7b-73aa1d9a6384",
         "x": [
          0.26765832557473196,
          0.07109509766101899,
          0.0695089755694318,
          0.06189170383228264,
          0.05443914568796274,
          0.047178966017864164,
          0.03933270750249708,
          0.03826108101225061,
          0.03582163146939449,
          0.035275575800319196,
          0.03394464007811432,
          0.03321379187219135,
          0.027938779407097342,
          0.024284272201411588,
          0.0228447411735463,
          0.019509599703585866,
          0.016521062554370372,
          0.012636121975492987,
          0.012590567853899611,
          0.012384745040715121,
          0.010918539732101686,
          0.007803084346878914,
          0.007185380585301803,
          0.007156004277255714,
          0.006724557231314723,
          0.006341641674193689,
          0.00563587824308174,
          0.004016291443721623,
          0.0023599386673816844,
          0.0009515560018442197,
          0.0008373789644806126,
          0.0008162398649930727,
          0.0006937317911932753,
          0.0006829698987300528,
          0.0004122285825586983,
          0.00039612135482323843,
          0.0003477555161206495,
          0.00028543716948842675,
          5.591349689185624e-05,
          4.781916946583801e-05
         ],
         "y": [
          "Num_of_hrefs",
          "script_count",
          "a_count",
          "script_src_out_of_domain",
          "div_count",
          "li_count",
          "script_type_text/javascript",
          "replace",
          "img_src_out_of_domain",
          "iframe_src_relative",
          "iframe_count",
          "img_src_absolute",
          "input_count",
          "style_count",
          "document.createElement",
          "meta_http-equiv_X-UA-Compatible",
          "encodeURIComponent",
          "unescape",
          "parseInt",
          "escape",
          "window.addEventListener",
          "document.write",
          "substring",
          "small_count",
          "window.setTimeout",
          "charAt",
          "String.fromCharCode",
          "concat",
          "decodeURIComponent",
          "meta_http-equiv_refresh",
          "exec",
          "eval",
          "object_count",
          "iframe_hidden_true",
          "embed_count",
          "charCodeAt",
          "window.setInterval",
          "search",
          "image_count",
          "link"
         ]
        }
       ],
       "layout": {
        "autosize": false,
        "height": 1000,
        "width": 1000,
        "xaxis": {
         "tickfont": {
          "color": "black",
          "size": 12
         },
         "title": "Feature Importances"
        },
        "yaxis": {
         "automargin": true
        }
       }
      },
      "text/html": [
       "<div id=\"4eaae562-5372-4018-bd55-a4ce18a774aa\" style=\"height: 1000px; width: 1000px;\" class=\"plotly-graph-div\"></div><script type=\"text/javascript\">require([\"plotly\"], function(Plotly) { window.PLOTLYENV=window.PLOTLYENV || {};window.PLOTLYENV.BASE_URL=\"https://plot.ly\";Plotly.newPlot(\"4eaae562-5372-4018-bd55-a4ce18a774aa\", [{\"marker\": {\"color\": \"rgb(158,202,225)\", \"line\": {\"color\": \"rgb(8,48,107)\", \"width\": 1.5}}, \"opacity\": 0.6, \"orientation\": \"h\", \"text\": [0.2677, 0.0711, 0.0695, 0.0619, 0.0544, 0.0472, 0.0393, 0.0383, 0.0358, 0.0353, 0.0339, 0.0332, 0.0279, 0.0243, 0.0228, 0.0195, 0.0165, 0.0126, 0.0126, 0.0124, 0.0109, 0.0078, 0.0072, 0.0072, 0.0067, 0.0063, 0.0056, 0.004, 0.0024, 0.001, 0.0008, 0.0008, 0.0007, 0.0007, 0.0004, 0.0004, 0.0003, 0.0003, 0.0001, 0.0], \"textposition\": \"outside\", \"x\": [0.26765832557473196, 0.07109509766101899, 0.0695089755694318, 0.06189170383228264, 0.05443914568796274, 0.047178966017864164, 0.03933270750249708, 0.03826108101225061, 0.03582163146939449, 0.035275575800319196, 0.03394464007811432, 0.03321379187219135, 0.027938779407097342, 0.024284272201411588, 0.0228447411735463, 0.019509599703585866, 0.016521062554370372, 0.012636121975492987, 0.012590567853899611, 0.012384745040715121, 0.010918539732101686, 0.007803084346878914, 0.007185380585301803, 0.007156004277255714, 0.006724557231314723, 0.006341641674193689, 0.00563587824308174, 0.004016291443721623, 0.0023599386673816844, 0.0009515560018442197, 0.0008373789644806126, 0.0008162398649930727, 0.0006937317911932753, 0.0006829698987300528, 0.0004122285825586983, 0.00039612135482323843, 0.0003477555161206495, 0.00028543716948842675, 5.591349689185624e-05, 4.781916946583801e-05], \"y\": [\"Num_of_hrefs\", \"script_count\", \"a_count\", \"script_src_out_of_domain\", \"div_count\", \"li_count\", \"script_type_text/javascript\", \"replace\", \"img_src_out_of_domain\", \"iframe_src_relative\", \"iframe_count\", \"img_src_absolute\", \"input_count\", \"style_count\", \"document.createElement\", \"meta_http-equiv_X-UA-Compatible\", \"encodeURIComponent\", \"unescape\", \"parseInt\", \"escape\", \"window.addEventListener\", \"document.write\", \"substring\", \"small_count\", \"window.setTimeout\", \"charAt\", \"String.fromCharCode\", \"concat\", \"decodeURIComponent\", \"meta_http-equiv_refresh\", \"exec\", \"eval\", \"object_count\", \"iframe_hidden_true\", \"embed_count\", \"charCodeAt\", \"window.setInterval\", \"search\", \"image_count\", \"link\"], \"type\": \"bar\", \"uid\": \"f888598f-ea82-4fd5-8c7b-73aa1d9a6384\"}], {\"autosize\": false, \"height\": 1000, \"width\": 1000, \"xaxis\": {\"tickfont\": {\"color\": \"black\", \"size\": 12}, \"title\": \"Feature Importances\"}, \"yaxis\": {\"automargin\": true}}, {\"showLink\": true, \"linkText\": \"Export to plot.ly\", \"plotlyServerURL\": \"https://plot.ly\"})});</script>"
      ],
      "text/vnd.plotly.v1+html": [
       "<div id=\"4eaae562-5372-4018-bd55-a4ce18a774aa\" style=\"height: 1000px; width: 1000px;\" class=\"plotly-graph-div\"></div><script type=\"text/javascript\">require([\"plotly\"], function(Plotly) { window.PLOTLYENV=window.PLOTLYENV || {};window.PLOTLYENV.BASE_URL=\"https://plot.ly\";Plotly.newPlot(\"4eaae562-5372-4018-bd55-a4ce18a774aa\", [{\"marker\": {\"color\": \"rgb(158,202,225)\", \"line\": {\"color\": \"rgb(8,48,107)\", \"width\": 1.5}}, \"opacity\": 0.6, \"orientation\": \"h\", \"text\": [0.2677, 0.0711, 0.0695, 0.0619, 0.0544, 0.0472, 0.0393, 0.0383, 0.0358, 0.0353, 0.0339, 0.0332, 0.0279, 0.0243, 0.0228, 0.0195, 0.0165, 0.0126, 0.0126, 0.0124, 0.0109, 0.0078, 0.0072, 0.0072, 0.0067, 0.0063, 0.0056, 0.004, 0.0024, 0.001, 0.0008, 0.0008, 0.0007, 0.0007, 0.0004, 0.0004, 0.0003, 0.0003, 0.0001, 0.0], \"textposition\": \"outside\", \"x\": [0.26765832557473196, 0.07109509766101899, 0.0695089755694318, 0.06189170383228264, 0.05443914568796274, 0.047178966017864164, 0.03933270750249708, 0.03826108101225061, 0.03582163146939449, 0.035275575800319196, 0.03394464007811432, 0.03321379187219135, 0.027938779407097342, 0.024284272201411588, 0.0228447411735463, 0.019509599703585866, 0.016521062554370372, 0.012636121975492987, 0.012590567853899611, 0.012384745040715121, 0.010918539732101686, 0.007803084346878914, 0.007185380585301803, 0.007156004277255714, 0.006724557231314723, 0.006341641674193689, 0.00563587824308174, 0.004016291443721623, 0.0023599386673816844, 0.0009515560018442197, 0.0008373789644806126, 0.0008162398649930727, 0.0006937317911932753, 0.0006829698987300528, 0.0004122285825586983, 0.00039612135482323843, 0.0003477555161206495, 0.00028543716948842675, 5.591349689185624e-05, 4.781916946583801e-05], \"y\": [\"Num_of_hrefs\", \"script_count\", \"a_count\", \"script_src_out_of_domain\", \"div_count\", \"li_count\", \"script_type_text/javascript\", \"replace\", \"img_src_out_of_domain\", \"iframe_src_relative\", \"iframe_count\", \"img_src_absolute\", \"input_count\", \"style_count\", \"document.createElement\", \"meta_http-equiv_X-UA-Compatible\", \"encodeURIComponent\", \"unescape\", \"parseInt\", \"escape\", \"window.addEventListener\", \"document.write\", \"substring\", \"small_count\", \"window.setTimeout\", \"charAt\", \"String.fromCharCode\", \"concat\", \"decodeURIComponent\", \"meta_http-equiv_refresh\", \"exec\", \"eval\", \"object_count\", \"iframe_hidden_true\", \"embed_count\", \"charCodeAt\", \"window.setInterval\", \"search\", \"image_count\", \"link\"], \"type\": \"bar\", \"uid\": \"f888598f-ea82-4fd5-8c7b-73aa1d9a6384\"}], {\"autosize\": false, \"height\": 1000, \"width\": 1000, \"xaxis\": {\"tickfont\": {\"color\": \"black\", \"size\": 12}, \"title\": \"Feature Importances\"}, \"yaxis\": {\"automargin\": true}}, {\"showLink\": true, \"linkText\": \"Export to plot.ly\", \"plotlyServerURL\": \"https://plot.ly\"})});</script>"
      ]
     },
     "metadata": {},
     "output_type": "display_data"
    }
   ],
   "source": [
    "feat_impt_plot(np.average(feat_imp,axis=0),columns)"
   ]
  },
  {
   "cell_type": "markdown",
   "metadata": {},
   "source": [
    "### <a id='3' style=\"text-decoration : none; color : #000000;\"> 3. Undersampling</a>"
   ]
  },
  {
   "cell_type": "code",
   "execution_count": 32,
   "metadata": {},
   "outputs": [
    {
     "name": "stdout",
     "output_type": "stream",
     "text": [
      "Shape after undersampling (9458, 40)\n"
     ]
    }
   ],
   "source": [
    "df_non=train[train.Target==0]\n",
    "df_mal=train[train.Target==1]\n",
    "\n",
    "df_non=df_non.sample(frac=len(df_mal)/len(df_non),random_state=0)\n",
    "df_u=df_non.append(df_mal)\n",
    "df_u.Target.value_counts() \n",
    "\n",
    "X_train=df_u[columns]\n",
    "X_train=scaler.transform(X_train)\n",
    "Y_train=df_u.Target.values\n",
    "\n",
    "print(\"Shape after undersampling\",X_train.shape)\n"
   ]
  },
  {
   "cell_type": "code",
   "execution_count": 33,
   "metadata": {
    "collapsed": true
   },
   "outputs": [],
   "source": [
    "## Table to store training and test measures so we can compare later\n",
    "table_80_90_train=pd.DataFrame(columns=['accuracy','TP','TN','FP','FN','FPR','FNR'])\n",
    "table_80_90_test=pd.DataFrame(columns=['accuracy','TP','TN','FP','FN','FPR','FNR','auc','mcc'])"
   ]
  },
  {
   "cell_type": "code",
   "execution_count": 34,
   "metadata": {
    "scrolled": false
   },
   "outputs": [
    {
     "name": "stdout",
     "output_type": "stream",
     "text": [
      "\u001b[1mK-Nearest Neighbors\u001b[0m\n",
      "Accuracy of the model for training data is: 0.559420596321\n",
      "Confusion Matrix for training data is:\n"
     ]
    },
    {
     "data": {
      "text/plain": [
       "Predicted  False  True  __all__\n",
       "Actual                         \n",
       "False       4585   144     4729\n",
       "True        4023   706     4729\n",
       "__all__     8608   850     9458"
      ]
     },
     "metadata": {},
     "output_type": "display_data"
    },
    {
     "name": "stdout",
     "output_type": "stream",
     "text": [
      "Accuracy of the model for test data is: 0.832350773766\n",
      "Confusion Matrix for test data is:\n"
     ]
    },
    {
     "data": {
      "text/plain": [
       "Predicted  False  True  __all__\n",
       "Actual                         \n",
       "False       6632   308     6940\n",
       "True        1057   145     1202\n",
       "__all__     7689   453     8142"
      ]
     },
     "metadata": {},
     "output_type": "display_data"
    },
    {
     "name": "stdout",
     "output_type": "stream",
     "text": [
      "\n",
      "\n",
      "\u001b[1mLogistic Regression\u001b[0m\n",
      "Accuracy of the model for training data is: 0.873969126665\n",
      "Confusion Matrix for training data is:\n"
     ]
    },
    {
     "data": {
      "text/plain": [
       "Predicted  False  True  __all__\n",
       "Actual                         \n",
       "False       3750   979     4729\n",
       "True         213  4516     4729\n",
       "__all__     3963  5495     9458"
      ]
     },
     "metadata": {},
     "output_type": "display_data"
    },
    {
     "name": "stdout",
     "output_type": "stream",
     "text": [
      "Accuracy of the model for test data is: 0.818717759764\n",
      "Confusion Matrix for test data is:\n"
     ]
    },
    {
     "data": {
      "text/plain": [
       "Predicted  False  True  __all__\n",
       "Actual                         \n",
       "False       5520  1420     6940\n",
       "True          56  1146     1202\n",
       "__all__     5576  2566     8142"
      ]
     },
     "metadata": {},
     "output_type": "display_data"
    },
    {
     "name": "stdout",
     "output_type": "stream",
     "text": [
      "\n",
      "\n",
      "\u001b[1mRandomForest Classifier\u001b[0m\n",
      "Accuracy of the model for training data is: 0.941002326073\n",
      "Confusion Matrix for training data is:\n"
     ]
    },
    {
     "data": {
      "text/plain": [
       "Predicted  False  True  __all__\n",
       "Actual                         \n",
       "False       4228   501     4729\n",
       "True          57  4672     4729\n",
       "__all__     4285  5173     9458"
      ]
     },
     "metadata": {},
     "output_type": "display_data"
    },
    {
     "name": "stdout",
     "output_type": "stream",
     "text": [
      "Accuracy of the model for test data is: 0.88479489069\n",
      "Confusion Matrix for test data is:\n"
     ]
    },
    {
     "data": {
      "text/plain": [
       "Predicted  False  True  __all__\n",
       "Actual                         \n",
       "False       6084   856     6940\n",
       "True          82  1120     1202\n",
       "__all__     6166  1976     8142"
      ]
     },
     "metadata": {},
     "output_type": "display_data"
    },
    {
     "data": {
      "application/vnd.plotly.v1+json": {
       "config": {
        "linkText": "Export to plot.ly",
        "plotlyServerURL": "https://plot.ly",
        "showLink": true
       },
       "data": [
        {
         "marker": {
          "color": "rgb(158,202,225)",
          "line": {
           "color": "rgb(8,48,107)",
           "width": 1.5
          }
         },
         "opacity": 0.6,
         "orientation": "h",
         "text": [
          0.3092,
          0.162,
          0.1339,
          0.0945,
          0.0742,
          0.0422,
          0.0353,
          0.0288,
          0.0169,
          0.0161,
          0.0151,
          0.0121,
          0.0069,
          0.0064,
          0.0058,
          0.0054,
          0.004,
          0.0038,
          0.0031,
          0.0028,
          0.0022,
          0.0021,
          0.002,
          0.0019,
          0.0018,
          0.0015,
          0.0015,
          0.0014,
          0.0012,
          0.0011,
          0.001,
          0.0009,
          0.0008,
          0.0006,
          0.0006,
          0.0005,
          0.0003,
          0.0002,
          0.0001,
          0.0001
         ],
         "textposition": "outside",
         "type": "bar",
         "uid": "2236ddf2-84c4-4ebf-9ac3-57919dd84b43",
         "x": [
          0.309237061933732,
          0.16200961980035636,
          0.13394880816628968,
          0.09451391427433453,
          0.07416497650006262,
          0.04222388098321171,
          0.03526921839055346,
          0.028758590961745857,
          0.01690918865479068,
          0.016114918698421254,
          0.015101400595013229,
          0.01205236477002947,
          0.006918482540050436,
          0.006362605997062019,
          0.005753608808801617,
          0.005367782019854833,
          0.003959317115543078,
          0.003799462517483032,
          0.0030758540158422913,
          0.002800497192433074,
          0.0021551168439354995,
          0.0021388019518400183,
          0.002002970636846465,
          0.0019248701086157192,
          0.0018446759225472851,
          0.001526266851392771,
          0.001453565403483405,
          0.001419593241052871,
          0.001177320546071407,
          0.0011152556003305657,
          0.0010055719819629786,
          0.0008527986884259764,
          0.0007568593035178961,
          0.0005662951896126426,
          0.0005659766364179572,
          0.0005212395682232631,
          0.0002597451735540512,
          0.000174065884447319,
          0.00010218705941681129,
          9.52694726938076e-05
         ],
         "y": [
          "a_count",
          "script_count",
          "script_type_text/javascript",
          "script_src_out_of_domain",
          "img_src_out_of_domain",
          "Num_of_hrefs",
          "div_count",
          "img_src_absolute",
          "li_count",
          "style_count",
          "input_count",
          "document.createElement",
          "iframe_src_relative",
          "iframe_count",
          "meta_http-equiv_X-UA-Compatible",
          "replace",
          "document.write",
          "parseInt",
          "decodeURIComponent",
          "encodeURIComponent",
          "concat",
          "small_count",
          "escape",
          "window.addEventListener",
          "substring",
          "String.fromCharCode",
          "unescape",
          "window.setTimeout",
          "object_count",
          "charAt",
          "exec",
          "eval",
          "meta_http-equiv_refresh",
          "embed_count",
          "charCodeAt",
          "search",
          "link",
          "window.setInterval",
          "iframe_hidden_true",
          "image_count"
         ]
        }
       ],
       "layout": {
        "autosize": false,
        "height": 1000,
        "width": 1000,
        "xaxis": {
         "tickfont": {
          "color": "black",
          "size": 12
         },
         "title": "Feature Importances"
        },
        "yaxis": {
         "automargin": true
        }
       }
      },
      "text/html": [
       "<div id=\"60303654-058d-4e39-b127-8e7f78fb7921\" style=\"height: 1000px; width: 1000px;\" class=\"plotly-graph-div\"></div><script type=\"text/javascript\">require([\"plotly\"], function(Plotly) { window.PLOTLYENV=window.PLOTLYENV || {};window.PLOTLYENV.BASE_URL=\"https://plot.ly\";Plotly.newPlot(\"60303654-058d-4e39-b127-8e7f78fb7921\", [{\"marker\": {\"color\": \"rgb(158,202,225)\", \"line\": {\"color\": \"rgb(8,48,107)\", \"width\": 1.5}}, \"opacity\": 0.6, \"orientation\": \"h\", \"text\": [0.3092, 0.162, 0.1339, 0.0945, 0.0742, 0.0422, 0.0353, 0.0288, 0.0169, 0.0161, 0.0151, 0.0121, 0.0069, 0.0064, 0.0058, 0.0054, 0.004, 0.0038, 0.0031, 0.0028, 0.0022, 0.0021, 0.002, 0.0019, 0.0018, 0.0015, 0.0015, 0.0014, 0.0012, 0.0011, 0.001, 0.0009, 0.0008, 0.0006, 0.0006, 0.0005, 0.0003, 0.0002, 0.0001, 0.0001], \"textposition\": \"outside\", \"x\": [0.309237061933732, 0.16200961980035636, 0.13394880816628968, 0.09451391427433453, 0.07416497650006262, 0.04222388098321171, 0.03526921839055346, 0.028758590961745857, 0.01690918865479068, 0.016114918698421254, 0.015101400595013229, 0.01205236477002947, 0.006918482540050436, 0.006362605997062019, 0.005753608808801617, 0.005367782019854833, 0.003959317115543078, 0.003799462517483032, 0.0030758540158422913, 0.002800497192433074, 0.0021551168439354995, 0.0021388019518400183, 0.002002970636846465, 0.0019248701086157192, 0.0018446759225472851, 0.001526266851392771, 0.001453565403483405, 0.001419593241052871, 0.001177320546071407, 0.0011152556003305657, 0.0010055719819629786, 0.0008527986884259764, 0.0007568593035178961, 0.0005662951896126426, 0.0005659766364179572, 0.0005212395682232631, 0.0002597451735540512, 0.000174065884447319, 0.00010218705941681129, 9.52694726938076e-05], \"y\": [\"a_count\", \"script_count\", \"script_type_text/javascript\", \"script_src_out_of_domain\", \"img_src_out_of_domain\", \"Num_of_hrefs\", \"div_count\", \"img_src_absolute\", \"li_count\", \"style_count\", \"input_count\", \"document.createElement\", \"iframe_src_relative\", \"iframe_count\", \"meta_http-equiv_X-UA-Compatible\", \"replace\", \"document.write\", \"parseInt\", \"decodeURIComponent\", \"encodeURIComponent\", \"concat\", \"small_count\", \"escape\", \"window.addEventListener\", \"substring\", \"String.fromCharCode\", \"unescape\", \"window.setTimeout\", \"object_count\", \"charAt\", \"exec\", \"eval\", \"meta_http-equiv_refresh\", \"embed_count\", \"charCodeAt\", \"search\", \"link\", \"window.setInterval\", \"iframe_hidden_true\", \"image_count\"], \"type\": \"bar\", \"uid\": \"2236ddf2-84c4-4ebf-9ac3-57919dd84b43\"}], {\"autosize\": false, \"height\": 1000, \"width\": 1000, \"xaxis\": {\"tickfont\": {\"color\": \"black\", \"size\": 12}, \"title\": \"Feature Importances\"}, \"yaxis\": {\"automargin\": true}}, {\"showLink\": true, \"linkText\": \"Export to plot.ly\", \"plotlyServerURL\": \"https://plot.ly\"})});</script>"
      ],
      "text/vnd.plotly.v1+html": [
       "<div id=\"60303654-058d-4e39-b127-8e7f78fb7921\" style=\"height: 1000px; width: 1000px;\" class=\"plotly-graph-div\"></div><script type=\"text/javascript\">require([\"plotly\"], function(Plotly) { window.PLOTLYENV=window.PLOTLYENV || {};window.PLOTLYENV.BASE_URL=\"https://plot.ly\";Plotly.newPlot(\"60303654-058d-4e39-b127-8e7f78fb7921\", [{\"marker\": {\"color\": \"rgb(158,202,225)\", \"line\": {\"color\": \"rgb(8,48,107)\", \"width\": 1.5}}, \"opacity\": 0.6, \"orientation\": \"h\", \"text\": [0.3092, 0.162, 0.1339, 0.0945, 0.0742, 0.0422, 0.0353, 0.0288, 0.0169, 0.0161, 0.0151, 0.0121, 0.0069, 0.0064, 0.0058, 0.0054, 0.004, 0.0038, 0.0031, 0.0028, 0.0022, 0.0021, 0.002, 0.0019, 0.0018, 0.0015, 0.0015, 0.0014, 0.0012, 0.0011, 0.001, 0.0009, 0.0008, 0.0006, 0.0006, 0.0005, 0.0003, 0.0002, 0.0001, 0.0001], \"textposition\": \"outside\", \"x\": [0.309237061933732, 0.16200961980035636, 0.13394880816628968, 0.09451391427433453, 0.07416497650006262, 0.04222388098321171, 0.03526921839055346, 0.028758590961745857, 0.01690918865479068, 0.016114918698421254, 0.015101400595013229, 0.01205236477002947, 0.006918482540050436, 0.006362605997062019, 0.005753608808801617, 0.005367782019854833, 0.003959317115543078, 0.003799462517483032, 0.0030758540158422913, 0.002800497192433074, 0.0021551168439354995, 0.0021388019518400183, 0.002002970636846465, 0.0019248701086157192, 0.0018446759225472851, 0.001526266851392771, 0.001453565403483405, 0.001419593241052871, 0.001177320546071407, 0.0011152556003305657, 0.0010055719819629786, 0.0008527986884259764, 0.0007568593035178961, 0.0005662951896126426, 0.0005659766364179572, 0.0005212395682232631, 0.0002597451735540512, 0.000174065884447319, 0.00010218705941681129, 9.52694726938076e-05], \"y\": [\"a_count\", \"script_count\", \"script_type_text/javascript\", \"script_src_out_of_domain\", \"img_src_out_of_domain\", \"Num_of_hrefs\", \"div_count\", \"img_src_absolute\", \"li_count\", \"style_count\", \"input_count\", \"document.createElement\", \"iframe_src_relative\", \"iframe_count\", \"meta_http-equiv_X-UA-Compatible\", \"replace\", \"document.write\", \"parseInt\", \"decodeURIComponent\", \"encodeURIComponent\", \"concat\", \"small_count\", \"escape\", \"window.addEventListener\", \"substring\", \"String.fromCharCode\", \"unescape\", \"window.setTimeout\", \"object_count\", \"charAt\", \"exec\", \"eval\", \"meta_http-equiv_refresh\", \"embed_count\", \"charCodeAt\", \"search\", \"link\", \"window.setInterval\", \"iframe_hidden_true\", \"image_count\"], \"type\": \"bar\", \"uid\": \"2236ddf2-84c4-4ebf-9ac3-57919dd84b43\"}], {\"autosize\": false, \"height\": 1000, \"width\": 1000, \"xaxis\": {\"tickfont\": {\"color\": \"black\", \"size\": 12}, \"title\": \"Feature Importances\"}, \"yaxis\": {\"automargin\": true}}, {\"showLink\": true, \"linkText\": \"Export to plot.ly\", \"plotlyServerURL\": \"https://plot.ly\"})});</script>"
      ]
     },
     "metadata": {},
     "output_type": "display_data"
    },
    {
     "name": "stdout",
     "output_type": "stream",
     "text": [
      "\n",
      "\n",
      "\u001b[1mAdaoost Classifier\u001b[0m\n",
      "Accuracy of the model for training data is: 0.888559949249\n",
      "Confusion Matrix for training data is:\n"
     ]
    },
    {
     "data": {
      "text/plain": [
       "Predicted  False  True  __all__\n",
       "Actual                         \n",
       "False       3958   771     4729\n",
       "True         283  4446     4729\n",
       "__all__     4241  5217     9458"
      ]
     },
     "metadata": {},
     "output_type": "display_data"
    },
    {
     "name": "stdout",
     "output_type": "stream",
     "text": [
      "Accuracy of the model for test data is: 0.85470400393\n",
      "Confusion Matrix for test data is:\n"
     ]
    },
    {
     "data": {
      "text/plain": [
       "Predicted  False  True  __all__\n",
       "Actual                         \n",
       "False       5834  1106     6940\n",
       "True          77  1125     1202\n",
       "__all__     5911  2231     8142"
      ]
     },
     "metadata": {},
     "output_type": "display_data"
    },
    {
     "data": {
      "application/vnd.plotly.v1+json": {
       "config": {
        "linkText": "Export to plot.ly",
        "plotlyServerURL": "https://plot.ly",
        "showLink": true
       },
       "data": [
        {
         "marker": {
          "color": "rgb(158,202,225)",
          "line": {
           "color": "rgb(8,48,107)",
           "width": 1.5
          }
         },
         "opacity": 0.6,
         "orientation": "h",
         "text": [
          0.18,
          0.12,
          0.08,
          0.08,
          0.06,
          0.06,
          0.04,
          0.04,
          0.04,
          0.04,
          0.02,
          0.02,
          0.02,
          0.02,
          0.02,
          0.02,
          0.02,
          0.02,
          0.02,
          0.02,
          0.02,
          0.02,
          0.02,
          0,
          0,
          0,
          0,
          0,
          0,
          0,
          0,
          0,
          0,
          0,
          0,
          0,
          0,
          0,
          0,
          0
         ],
         "textposition": "outside",
         "type": "bar",
         "uid": "d9ecbb06-3f9d-418c-a02c-f18e14d773ff",
         "x": [
          0.18,
          0.12,
          0.08,
          0.08,
          0.06,
          0.06,
          0.04,
          0.04,
          0.04,
          0.04,
          0.02,
          0.02,
          0.02,
          0.02,
          0.02,
          0.02,
          0.02,
          0.02,
          0.02,
          0.02,
          0.02,
          0.02,
          0.02,
          0,
          0,
          0,
          0,
          0,
          0,
          0,
          0,
          0,
          0,
          0,
          0,
          0,
          0,
          0,
          0,
          0
         ],
         "y": [
          "Num_of_hrefs",
          "script_type_text/javascript",
          "a_count",
          "div_count",
          "img_src_absolute",
          "img_src_out_of_domain",
          "style_count",
          "charAt",
          "script_count",
          "script_src_out_of_domain",
          "search",
          "meta_http-equiv_refresh",
          "input_count",
          "small_count",
          "meta_http-equiv_X-UA-Compatible",
          "window.addEventListener",
          "replace",
          "iframe_count",
          "window.setTimeout",
          "concat",
          "String.fromCharCode",
          "document.createElement",
          "escape",
          "iframe_hidden_true",
          "object_count",
          "embed_count",
          "li_count",
          "encodeURIComponent",
          "decodeURIComponent",
          "image_count",
          "window.setInterval",
          "substring",
          "unescape",
          "charCodeAt",
          "eval",
          "exec",
          "link",
          "iframe_src_relative",
          "parseInt",
          "document.write"
         ]
        }
       ],
       "layout": {
        "autosize": false,
        "height": 1000,
        "width": 1000,
        "xaxis": {
         "tickfont": {
          "color": "black",
          "size": 12
         },
         "title": "Feature Importances"
        },
        "yaxis": {
         "automargin": true
        }
       }
      },
      "text/html": [
       "<div id=\"bbef2081-d61c-4db0-bbb2-21b724605a8b\" style=\"height: 1000px; width: 1000px;\" class=\"plotly-graph-div\"></div><script type=\"text/javascript\">require([\"plotly\"], function(Plotly) { window.PLOTLYENV=window.PLOTLYENV || {};window.PLOTLYENV.BASE_URL=\"https://plot.ly\";Plotly.newPlot(\"bbef2081-d61c-4db0-bbb2-21b724605a8b\", [{\"marker\": {\"color\": \"rgb(158,202,225)\", \"line\": {\"color\": \"rgb(8,48,107)\", \"width\": 1.5}}, \"opacity\": 0.6, \"orientation\": \"h\", \"text\": [0.18, 0.12, 0.08, 0.08, 0.06, 0.06, 0.04, 0.04, 0.04, 0.04, 0.02, 0.02, 0.02, 0.02, 0.02, 0.02, 0.02, 0.02, 0.02, 0.02, 0.02, 0.02, 0.02, 0.0, 0.0, 0.0, 0.0, 0.0, 0.0, 0.0, 0.0, 0.0, 0.0, 0.0, 0.0, 0.0, 0.0, 0.0, 0.0, 0.0], \"textposition\": \"outside\", \"x\": [0.18, 0.12, 0.08, 0.08, 0.06, 0.06, 0.04, 0.04, 0.04, 0.04, 0.02, 0.02, 0.02, 0.02, 0.02, 0.02, 0.02, 0.02, 0.02, 0.02, 0.02, 0.02, 0.02, 0.0, 0.0, 0.0, 0.0, 0.0, 0.0, 0.0, 0.0, 0.0, 0.0, 0.0, 0.0, 0.0, 0.0, 0.0, 0.0, 0.0], \"y\": [\"Num_of_hrefs\", \"script_type_text/javascript\", \"a_count\", \"div_count\", \"img_src_absolute\", \"img_src_out_of_domain\", \"style_count\", \"charAt\", \"script_count\", \"script_src_out_of_domain\", \"search\", \"meta_http-equiv_refresh\", \"input_count\", \"small_count\", \"meta_http-equiv_X-UA-Compatible\", \"window.addEventListener\", \"replace\", \"iframe_count\", \"window.setTimeout\", \"concat\", \"String.fromCharCode\", \"document.createElement\", \"escape\", \"iframe_hidden_true\", \"object_count\", \"embed_count\", \"li_count\", \"encodeURIComponent\", \"decodeURIComponent\", \"image_count\", \"window.setInterval\", \"substring\", \"unescape\", \"charCodeAt\", \"eval\", \"exec\", \"link\", \"iframe_src_relative\", \"parseInt\", \"document.write\"], \"type\": \"bar\", \"uid\": \"d9ecbb06-3f9d-418c-a02c-f18e14d773ff\"}], {\"autosize\": false, \"height\": 1000, \"width\": 1000, \"xaxis\": {\"tickfont\": {\"color\": \"black\", \"size\": 12}, \"title\": \"Feature Importances\"}, \"yaxis\": {\"automargin\": true}}, {\"showLink\": true, \"linkText\": \"Export to plot.ly\", \"plotlyServerURL\": \"https://plot.ly\"})});</script>"
      ],
      "text/vnd.plotly.v1+html": [
       "<div id=\"bbef2081-d61c-4db0-bbb2-21b724605a8b\" style=\"height: 1000px; width: 1000px;\" class=\"plotly-graph-div\"></div><script type=\"text/javascript\">require([\"plotly\"], function(Plotly) { window.PLOTLYENV=window.PLOTLYENV || {};window.PLOTLYENV.BASE_URL=\"https://plot.ly\";Plotly.newPlot(\"bbef2081-d61c-4db0-bbb2-21b724605a8b\", [{\"marker\": {\"color\": \"rgb(158,202,225)\", \"line\": {\"color\": \"rgb(8,48,107)\", \"width\": 1.5}}, \"opacity\": 0.6, \"orientation\": \"h\", \"text\": [0.18, 0.12, 0.08, 0.08, 0.06, 0.06, 0.04, 0.04, 0.04, 0.04, 0.02, 0.02, 0.02, 0.02, 0.02, 0.02, 0.02, 0.02, 0.02, 0.02, 0.02, 0.02, 0.02, 0.0, 0.0, 0.0, 0.0, 0.0, 0.0, 0.0, 0.0, 0.0, 0.0, 0.0, 0.0, 0.0, 0.0, 0.0, 0.0, 0.0], \"textposition\": \"outside\", \"x\": [0.18, 0.12, 0.08, 0.08, 0.06, 0.06, 0.04, 0.04, 0.04, 0.04, 0.02, 0.02, 0.02, 0.02, 0.02, 0.02, 0.02, 0.02, 0.02, 0.02, 0.02, 0.02, 0.02, 0.0, 0.0, 0.0, 0.0, 0.0, 0.0, 0.0, 0.0, 0.0, 0.0, 0.0, 0.0, 0.0, 0.0, 0.0, 0.0, 0.0], \"y\": [\"Num_of_hrefs\", \"script_type_text/javascript\", \"a_count\", \"div_count\", \"img_src_absolute\", \"img_src_out_of_domain\", \"style_count\", \"charAt\", \"script_count\", \"script_src_out_of_domain\", \"search\", \"meta_http-equiv_refresh\", \"input_count\", \"small_count\", \"meta_http-equiv_X-UA-Compatible\", \"window.addEventListener\", \"replace\", \"iframe_count\", \"window.setTimeout\", \"concat\", \"String.fromCharCode\", \"document.createElement\", \"escape\", \"iframe_hidden_true\", \"object_count\", \"embed_count\", \"li_count\", \"encodeURIComponent\", \"decodeURIComponent\", \"image_count\", \"window.setInterval\", \"substring\", \"unescape\", \"charCodeAt\", \"eval\", \"exec\", \"link\", \"iframe_src_relative\", \"parseInt\", \"document.write\"], \"type\": \"bar\", \"uid\": \"d9ecbb06-3f9d-418c-a02c-f18e14d773ff\"}], {\"autosize\": false, \"height\": 1000, \"width\": 1000, \"xaxis\": {\"tickfont\": {\"color\": \"black\", \"size\": 12}, \"title\": \"Feature Importances\"}, \"yaxis\": {\"automargin\": true}}, {\"showLink\": true, \"linkText\": \"Export to plot.ly\", \"plotlyServerURL\": \"https://plot.ly\"})});</script>"
      ]
     },
     "metadata": {},
     "output_type": "display_data"
    },
    {
     "name": "stdout",
     "output_type": "stream",
     "text": [
      "\n",
      "\n",
      "\u001b[1mGradientBoosting Classifier\u001b[0m\n",
      "Accuracy of the model for training data is: 0.904948192007\n",
      "Confusion Matrix for training data is:\n"
     ]
    },
    {
     "data": {
      "text/plain": [
       "Predicted  False  True  __all__\n",
       "Actual                         \n",
       "False       4077   652     4729\n",
       "True         247  4482     4729\n",
       "__all__     4324  5134     9458"
      ]
     },
     "metadata": {},
     "output_type": "display_data"
    },
    {
     "name": "stdout",
     "output_type": "stream",
     "text": [
      "Accuracy of the model for test data is: 0.869688037337\n",
      "Confusion Matrix for test data is:\n"
     ]
    },
    {
     "data": {
      "text/plain": [
       "Predicted  False  True  __all__\n",
       "Actual                         \n",
       "False       5954   986     6940\n",
       "True          75  1127     1202\n",
       "__all__     6029  2113     8142"
      ]
     },
     "metadata": {},
     "output_type": "display_data"
    },
    {
     "data": {
      "application/vnd.plotly.v1+json": {
       "config": {
        "linkText": "Export to plot.ly",
        "plotlyServerURL": "https://plot.ly",
        "showLink": true
       },
       "data": [
        {
         "marker": {
          "color": "rgb(158,202,225)",
          "line": {
           "color": "rgb(8,48,107)",
           "width": 1.5
          }
         },
         "opacity": 0.6,
         "orientation": "h",
         "text": [
          0.7671,
          0.0746,
          0.0517,
          0.0243,
          0.0121,
          0.0115,
          0.0102,
          0.008,
          0.0051,
          0.0045,
          0.0041,
          0.0035,
          0.0034,
          0.0031,
          0.003,
          0.0021,
          0.002,
          0.002,
          0.0017,
          0.001,
          0.0009,
          0.0007,
          0.0006,
          0.0005,
          0.0005,
          0.0004,
          0.0004,
          0.0003,
          0.0002,
          0.0001,
          0.0001,
          0.0001,
          0,
          0,
          0,
          0,
          0,
          0,
          0,
          0
         ],
         "textposition": "outside",
         "type": "bar",
         "uid": "679fea2d-0840-4631-ab4c-bdc1e2f7cb98",
         "x": [
          0.7670870751151961,
          0.07462360650039114,
          0.05169571814443321,
          0.024321883920694256,
          0.012096304000090211,
          0.011528967647909769,
          0.010189069027966615,
          0.008002044751242127,
          0.005146287904230207,
          0.00449183796171501,
          0.0041449328325874136,
          0.003496677976599346,
          0.0034363754677873976,
          0.0030980125834870554,
          0.0030036409571261536,
          0.002062940784989318,
          0.0020230806815727787,
          0.0019662114439922868,
          0.0017247769188205738,
          0.0009787896613945425,
          0.0009262881932235389,
          0.0007458289012660033,
          0.000614459128716986,
          0.0005301186115781068,
          0.0005024798903045333,
          0.0004370863250604626,
          0.0004021784420421005,
          0.00026534186229901615,
          0.00015241413190184507,
          0.00014190988453310124,
          8.133801143909997e-05,
          5.5587518769582225e-05,
          1.4154846743445234e-05,
          1.1983297217709974e-05,
          5.966726789755499e-07,
          0,
          0,
          0,
          0,
          0
         ],
         "y": [
          "Num_of_hrefs",
          "a_count",
          "script_src_out_of_domain",
          "script_count",
          "script_type_text/javascript",
          "img_src_out_of_domain",
          "div_count",
          "document.createElement",
          "input_count",
          "iframe_src_relative",
          "replace",
          "window.addEventListener",
          "meta_http-equiv_X-UA-Compatible",
          "img_src_absolute",
          "li_count",
          "escape",
          "style_count",
          "substring",
          "window.setTimeout",
          "document.write",
          "decodeURIComponent",
          "String.fromCharCode",
          "unescape",
          "iframe_count",
          "charCodeAt",
          "object_count",
          "concat",
          "embed_count",
          "eval",
          "exec",
          "charAt",
          "small_count",
          "search",
          "link",
          "window.setInterval",
          "iframe_hidden_true",
          "image_count",
          "encodeURIComponent",
          "parseInt",
          "meta_http-equiv_refresh"
         ]
        }
       ],
       "layout": {
        "autosize": false,
        "height": 1000,
        "width": 1000,
        "xaxis": {
         "tickfont": {
          "color": "black",
          "size": 12
         },
         "title": "Feature Importances"
        },
        "yaxis": {
         "automargin": true
        }
       }
      },
      "text/html": [
       "<div id=\"a4669b15-68fd-4520-9759-dee8cef02848\" style=\"height: 1000px; width: 1000px;\" class=\"plotly-graph-div\"></div><script type=\"text/javascript\">require([\"plotly\"], function(Plotly) { window.PLOTLYENV=window.PLOTLYENV || {};window.PLOTLYENV.BASE_URL=\"https://plot.ly\";Plotly.newPlot(\"a4669b15-68fd-4520-9759-dee8cef02848\", [{\"marker\": {\"color\": \"rgb(158,202,225)\", \"line\": {\"color\": \"rgb(8,48,107)\", \"width\": 1.5}}, \"opacity\": 0.6, \"orientation\": \"h\", \"text\": [0.7671, 0.0746, 0.0517, 0.0243, 0.0121, 0.0115, 0.0102, 0.008, 0.0051, 0.0045, 0.0041, 0.0035, 0.0034, 0.0031, 0.003, 0.0021, 0.002, 0.002, 0.0017, 0.001, 0.0009, 0.0007, 0.0006, 0.0005, 0.0005, 0.0004, 0.0004, 0.0003, 0.0002, 0.0001, 0.0001, 0.0001, 0.0, 0.0, 0.0, 0.0, 0.0, 0.0, 0.0, 0.0], \"textposition\": \"outside\", \"x\": [0.7670870751151961, 0.07462360650039114, 0.05169571814443321, 0.024321883920694256, 0.012096304000090211, 0.011528967647909769, 0.010189069027966615, 0.008002044751242127, 0.005146287904230207, 0.00449183796171501, 0.0041449328325874136, 0.003496677976599346, 0.0034363754677873976, 0.0030980125834870554, 0.0030036409571261536, 0.002062940784989318, 0.0020230806815727787, 0.0019662114439922868, 0.0017247769188205738, 0.0009787896613945425, 0.0009262881932235389, 0.0007458289012660033, 0.000614459128716986, 0.0005301186115781068, 0.0005024798903045333, 0.0004370863250604626, 0.0004021784420421005, 0.00026534186229901615, 0.00015241413190184507, 0.00014190988453310124, 8.133801143909997e-05, 5.5587518769582225e-05, 1.4154846743445234e-05, 1.1983297217709974e-05, 5.966726789755499e-07, 0.0, 0.0, 0.0, 0.0, 0.0], \"y\": [\"Num_of_hrefs\", \"a_count\", \"script_src_out_of_domain\", \"script_count\", \"script_type_text/javascript\", \"img_src_out_of_domain\", \"div_count\", \"document.createElement\", \"input_count\", \"iframe_src_relative\", \"replace\", \"window.addEventListener\", \"meta_http-equiv_X-UA-Compatible\", \"img_src_absolute\", \"li_count\", \"escape\", \"style_count\", \"substring\", \"window.setTimeout\", \"document.write\", \"decodeURIComponent\", \"String.fromCharCode\", \"unescape\", \"iframe_count\", \"charCodeAt\", \"object_count\", \"concat\", \"embed_count\", \"eval\", \"exec\", \"charAt\", \"small_count\", \"search\", \"link\", \"window.setInterval\", \"iframe_hidden_true\", \"image_count\", \"encodeURIComponent\", \"parseInt\", \"meta_http-equiv_refresh\"], \"type\": \"bar\", \"uid\": \"679fea2d-0840-4631-ab4c-bdc1e2f7cb98\"}], {\"autosize\": false, \"height\": 1000, \"width\": 1000, \"xaxis\": {\"tickfont\": {\"color\": \"black\", \"size\": 12}, \"title\": \"Feature Importances\"}, \"yaxis\": {\"automargin\": true}}, {\"showLink\": true, \"linkText\": \"Export to plot.ly\", \"plotlyServerURL\": \"https://plot.ly\"})});</script>"
      ],
      "text/vnd.plotly.v1+html": [
       "<div id=\"a4669b15-68fd-4520-9759-dee8cef02848\" style=\"height: 1000px; width: 1000px;\" class=\"plotly-graph-div\"></div><script type=\"text/javascript\">require([\"plotly\"], function(Plotly) { window.PLOTLYENV=window.PLOTLYENV || {};window.PLOTLYENV.BASE_URL=\"https://plot.ly\";Plotly.newPlot(\"a4669b15-68fd-4520-9759-dee8cef02848\", [{\"marker\": {\"color\": \"rgb(158,202,225)\", \"line\": {\"color\": \"rgb(8,48,107)\", \"width\": 1.5}}, \"opacity\": 0.6, \"orientation\": \"h\", \"text\": [0.7671, 0.0746, 0.0517, 0.0243, 0.0121, 0.0115, 0.0102, 0.008, 0.0051, 0.0045, 0.0041, 0.0035, 0.0034, 0.0031, 0.003, 0.0021, 0.002, 0.002, 0.0017, 0.001, 0.0009, 0.0007, 0.0006, 0.0005, 0.0005, 0.0004, 0.0004, 0.0003, 0.0002, 0.0001, 0.0001, 0.0001, 0.0, 0.0, 0.0, 0.0, 0.0, 0.0, 0.0, 0.0], \"textposition\": \"outside\", \"x\": [0.7670870751151961, 0.07462360650039114, 0.05169571814443321, 0.024321883920694256, 0.012096304000090211, 0.011528967647909769, 0.010189069027966615, 0.008002044751242127, 0.005146287904230207, 0.00449183796171501, 0.0041449328325874136, 0.003496677976599346, 0.0034363754677873976, 0.0030980125834870554, 0.0030036409571261536, 0.002062940784989318, 0.0020230806815727787, 0.0019662114439922868, 0.0017247769188205738, 0.0009787896613945425, 0.0009262881932235389, 0.0007458289012660033, 0.000614459128716986, 0.0005301186115781068, 0.0005024798903045333, 0.0004370863250604626, 0.0004021784420421005, 0.00026534186229901615, 0.00015241413190184507, 0.00014190988453310124, 8.133801143909997e-05, 5.5587518769582225e-05, 1.4154846743445234e-05, 1.1983297217709974e-05, 5.966726789755499e-07, 0.0, 0.0, 0.0, 0.0, 0.0], \"y\": [\"Num_of_hrefs\", \"a_count\", \"script_src_out_of_domain\", \"script_count\", \"script_type_text/javascript\", \"img_src_out_of_domain\", \"div_count\", \"document.createElement\", \"input_count\", \"iframe_src_relative\", \"replace\", \"window.addEventListener\", \"meta_http-equiv_X-UA-Compatible\", \"img_src_absolute\", \"li_count\", \"escape\", \"style_count\", \"substring\", \"window.setTimeout\", \"document.write\", \"decodeURIComponent\", \"String.fromCharCode\", \"unescape\", \"iframe_count\", \"charCodeAt\", \"object_count\", \"concat\", \"embed_count\", \"eval\", \"exec\", \"charAt\", \"small_count\", \"search\", \"link\", \"window.setInterval\", \"iframe_hidden_true\", \"image_count\", \"encodeURIComponent\", \"parseInt\", \"meta_http-equiv_refresh\"], \"type\": \"bar\", \"uid\": \"679fea2d-0840-4631-ab4c-bdc1e2f7cb98\"}], {\"autosize\": false, \"height\": 1000, \"width\": 1000, \"xaxis\": {\"tickfont\": {\"color\": \"black\", \"size\": 12}, \"title\": \"Feature Importances\"}, \"yaxis\": {\"automargin\": true}}, {\"showLink\": true, \"linkText\": \"Export to plot.ly\", \"plotlyServerURL\": \"https://plot.ly\"})});</script>"
      ]
     },
     "metadata": {},
     "output_type": "display_data"
    },
    {
     "name": "stdout",
     "output_type": "stream",
     "text": [
      "\n",
      "\n",
      "\u001b[1mExtraTree Classifier\u001b[0m\n",
      "Accuracy of the model for training data is: 0.946077394798\n",
      "Confusion Matrix for training data is:\n"
     ]
    },
    {
     "data": {
      "text/plain": [
       "Predicted  False  True  __all__\n",
       "Actual                         \n",
       "False       4230   499     4729\n",
       "True          11  4718     4729\n",
       "__all__     4241  5217     9458"
      ]
     },
     "metadata": {},
     "output_type": "display_data"
    },
    {
     "name": "stdout",
     "output_type": "stream",
     "text": [
      "Accuracy of the model for test data is: 0.887374109555\n",
      "Confusion Matrix for test data is:\n"
     ]
    },
    {
     "data": {
      "text/plain": [
       "Predicted  False  True  __all__\n",
       "Actual                         \n",
       "False       6100   840     6940\n",
       "True          77  1125     1202\n",
       "__all__     6177  1965     8142"
      ]
     },
     "metadata": {},
     "output_type": "display_data"
    },
    {
     "data": {
      "application/vnd.plotly.v1+json": {
       "config": {
        "linkText": "Export to plot.ly",
        "plotlyServerURL": "https://plot.ly",
        "showLink": true
       },
       "data": [
        {
         "marker": {
          "color": "rgb(158,202,225)",
          "line": {
           "color": "rgb(8,48,107)",
           "width": 1.5
          }
         },
         "opacity": 0.6,
         "orientation": "h",
         "text": [
          0.1504,
          0.1474,
          0.0954,
          0.0807,
          0.0795,
          0.0783,
          0.0576,
          0.0429,
          0.0355,
          0.0333,
          0.0299,
          0.0265,
          0.017,
          0.0158,
          0.0136,
          0.0129,
          0.0106,
          0.0101,
          0.0084,
          0.0058,
          0.0049,
          0.0048,
          0.0047,
          0.0046,
          0.004,
          0.0033,
          0.0031,
          0.0022,
          0.0021,
          0.0021,
          0.002,
          0.0019,
          0.0019,
          0.0013,
          0.0013,
          0.0013,
          0.0012,
          0.001,
          0.0004,
          0.0002
         ],
         "textposition": "outside",
         "type": "bar",
         "uid": "540eeb4d-e8bf-4df6-b43e-232dccef654f",
         "x": [
          0.15042676690473264,
          0.14743942218006528,
          0.09540963759381751,
          0.08069419731713601,
          0.07945730939383464,
          0.07831384946088743,
          0.05759427141469385,
          0.04292768253232099,
          0.03551020157066013,
          0.03326471197755006,
          0.029906030451979156,
          0.026471352718070634,
          0.01702884320975336,
          0.01581835670160917,
          0.01360208608810749,
          0.012891213631438556,
          0.010614736759388763,
          0.010134441201669068,
          0.00839362455065921,
          0.0057850492212710375,
          0.00488983381821812,
          0.004818103536327996,
          0.004686561502022282,
          0.004561714313922924,
          0.004018240927764152,
          0.0033230833632894607,
          0.0031239520320693478,
          0.0021757497066492337,
          0.0021350303808587486,
          0.002107817003694753,
          0.0019939416244307835,
          0.0019275679879080555,
          0.0018563049876268445,
          0.0013465814285640438,
          0.0013218941443346522,
          0.0012655436428815905,
          0.0011789047930232496,
          0.0009654198941929194,
          0.00039046922756785514,
          0.00022950080500797323
         ],
         "y": [
          "script_src_out_of_domain",
          "a_count",
          "Num_of_hrefs",
          "script_count",
          "input_count",
          "li_count",
          "div_count",
          "meta_http-equiv_X-UA-Compatible",
          "img_src_out_of_domain",
          "iframe_src_relative",
          "replace",
          "script_type_text/javascript",
          "img_src_absolute",
          "style_count",
          "iframe_count",
          "document.createElement",
          "document.write",
          "escape",
          "decodeURIComponent",
          "small_count",
          "window.setTimeout",
          "parseInt",
          "unescape",
          "substring",
          "encodeURIComponent",
          "String.fromCharCode",
          "window.addEventListener",
          "exec",
          "concat",
          "object_count",
          "meta_http-equiv_refresh",
          "charAt",
          "search",
          "window.setInterval",
          "charCodeAt",
          "eval",
          "iframe_hidden_true",
          "embed_count",
          "link",
          "image_count"
         ]
        }
       ],
       "layout": {
        "autosize": false,
        "height": 1000,
        "width": 1000,
        "xaxis": {
         "tickfont": {
          "color": "black",
          "size": 12
         },
         "title": "Feature Importances"
        },
        "yaxis": {
         "automargin": true
        }
       }
      },
      "text/html": [
       "<div id=\"dff8ddfa-bea4-45b3-86ff-234c5884ccf4\" style=\"height: 1000px; width: 1000px;\" class=\"plotly-graph-div\"></div><script type=\"text/javascript\">require([\"plotly\"], function(Plotly) { window.PLOTLYENV=window.PLOTLYENV || {};window.PLOTLYENV.BASE_URL=\"https://plot.ly\";Plotly.newPlot(\"dff8ddfa-bea4-45b3-86ff-234c5884ccf4\", [{\"marker\": {\"color\": \"rgb(158,202,225)\", \"line\": {\"color\": \"rgb(8,48,107)\", \"width\": 1.5}}, \"opacity\": 0.6, \"orientation\": \"h\", \"text\": [0.1504, 0.1474, 0.0954, 0.0807, 0.0795, 0.0783, 0.0576, 0.0429, 0.0355, 0.0333, 0.0299, 0.0265, 0.017, 0.0158, 0.0136, 0.0129, 0.0106, 0.0101, 0.0084, 0.0058, 0.0049, 0.0048, 0.0047, 0.0046, 0.004, 0.0033, 0.0031, 0.0022, 0.0021, 0.0021, 0.002, 0.0019, 0.0019, 0.0013, 0.0013, 0.0013, 0.0012, 0.001, 0.0004, 0.0002], \"textposition\": \"outside\", \"x\": [0.15042676690473264, 0.14743942218006528, 0.09540963759381751, 0.08069419731713601, 0.07945730939383464, 0.07831384946088743, 0.05759427141469385, 0.04292768253232099, 0.03551020157066013, 0.03326471197755006, 0.029906030451979156, 0.026471352718070634, 0.01702884320975336, 0.01581835670160917, 0.01360208608810749, 0.012891213631438556, 0.010614736759388763, 0.010134441201669068, 0.00839362455065921, 0.0057850492212710375, 0.00488983381821812, 0.004818103536327996, 0.004686561502022282, 0.004561714313922924, 0.004018240927764152, 0.0033230833632894607, 0.0031239520320693478, 0.0021757497066492337, 0.0021350303808587486, 0.002107817003694753, 0.0019939416244307835, 0.0019275679879080555, 0.0018563049876268445, 0.0013465814285640438, 0.0013218941443346522, 0.0012655436428815905, 0.0011789047930232496, 0.0009654198941929194, 0.00039046922756785514, 0.00022950080500797323], \"y\": [\"script_src_out_of_domain\", \"a_count\", \"Num_of_hrefs\", \"script_count\", \"input_count\", \"li_count\", \"div_count\", \"meta_http-equiv_X-UA-Compatible\", \"img_src_out_of_domain\", \"iframe_src_relative\", \"replace\", \"script_type_text/javascript\", \"img_src_absolute\", \"style_count\", \"iframe_count\", \"document.createElement\", \"document.write\", \"escape\", \"decodeURIComponent\", \"small_count\", \"window.setTimeout\", \"parseInt\", \"unescape\", \"substring\", \"encodeURIComponent\", \"String.fromCharCode\", \"window.addEventListener\", \"exec\", \"concat\", \"object_count\", \"meta_http-equiv_refresh\", \"charAt\", \"search\", \"window.setInterval\", \"charCodeAt\", \"eval\", \"iframe_hidden_true\", \"embed_count\", \"link\", \"image_count\"], \"type\": \"bar\", \"uid\": \"540eeb4d-e8bf-4df6-b43e-232dccef654f\"}], {\"autosize\": false, \"height\": 1000, \"width\": 1000, \"xaxis\": {\"tickfont\": {\"color\": \"black\", \"size\": 12}, \"title\": \"Feature Importances\"}, \"yaxis\": {\"automargin\": true}}, {\"showLink\": true, \"linkText\": \"Export to plot.ly\", \"plotlyServerURL\": \"https://plot.ly\"})});</script>"
      ],
      "text/vnd.plotly.v1+html": [
       "<div id=\"dff8ddfa-bea4-45b3-86ff-234c5884ccf4\" style=\"height: 1000px; width: 1000px;\" class=\"plotly-graph-div\"></div><script type=\"text/javascript\">require([\"plotly\"], function(Plotly) { window.PLOTLYENV=window.PLOTLYENV || {};window.PLOTLYENV.BASE_URL=\"https://plot.ly\";Plotly.newPlot(\"dff8ddfa-bea4-45b3-86ff-234c5884ccf4\", [{\"marker\": {\"color\": \"rgb(158,202,225)\", \"line\": {\"color\": \"rgb(8,48,107)\", \"width\": 1.5}}, \"opacity\": 0.6, \"orientation\": \"h\", \"text\": [0.1504, 0.1474, 0.0954, 0.0807, 0.0795, 0.0783, 0.0576, 0.0429, 0.0355, 0.0333, 0.0299, 0.0265, 0.017, 0.0158, 0.0136, 0.0129, 0.0106, 0.0101, 0.0084, 0.0058, 0.0049, 0.0048, 0.0047, 0.0046, 0.004, 0.0033, 0.0031, 0.0022, 0.0021, 0.0021, 0.002, 0.0019, 0.0019, 0.0013, 0.0013, 0.0013, 0.0012, 0.001, 0.0004, 0.0002], \"textposition\": \"outside\", \"x\": [0.15042676690473264, 0.14743942218006528, 0.09540963759381751, 0.08069419731713601, 0.07945730939383464, 0.07831384946088743, 0.05759427141469385, 0.04292768253232099, 0.03551020157066013, 0.03326471197755006, 0.029906030451979156, 0.026471352718070634, 0.01702884320975336, 0.01581835670160917, 0.01360208608810749, 0.012891213631438556, 0.010614736759388763, 0.010134441201669068, 0.00839362455065921, 0.0057850492212710375, 0.00488983381821812, 0.004818103536327996, 0.004686561502022282, 0.004561714313922924, 0.004018240927764152, 0.0033230833632894607, 0.0031239520320693478, 0.0021757497066492337, 0.0021350303808587486, 0.002107817003694753, 0.0019939416244307835, 0.0019275679879080555, 0.0018563049876268445, 0.0013465814285640438, 0.0013218941443346522, 0.0012655436428815905, 0.0011789047930232496, 0.0009654198941929194, 0.00039046922756785514, 0.00022950080500797323], \"y\": [\"script_src_out_of_domain\", \"a_count\", \"Num_of_hrefs\", \"script_count\", \"input_count\", \"li_count\", \"div_count\", \"meta_http-equiv_X-UA-Compatible\", \"img_src_out_of_domain\", \"iframe_src_relative\", \"replace\", \"script_type_text/javascript\", \"img_src_absolute\", \"style_count\", \"iframe_count\", \"document.createElement\", \"document.write\", \"escape\", \"decodeURIComponent\", \"small_count\", \"window.setTimeout\", \"parseInt\", \"unescape\", \"substring\", \"encodeURIComponent\", \"String.fromCharCode\", \"window.addEventListener\", \"exec\", \"concat\", \"object_count\", \"meta_http-equiv_refresh\", \"charAt\", \"search\", \"window.setInterval\", \"charCodeAt\", \"eval\", \"iframe_hidden_true\", \"embed_count\", \"link\", \"image_count\"], \"type\": \"bar\", \"uid\": \"540eeb4d-e8bf-4df6-b43e-232dccef654f\"}], {\"autosize\": false, \"height\": 1000, \"width\": 1000, \"xaxis\": {\"tickfont\": {\"color\": \"black\", \"size\": 12}, \"title\": \"Feature Importances\"}, \"yaxis\": {\"automargin\": true}}, {\"showLink\": true, \"linkText\": \"Export to plot.ly\", \"plotlyServerURL\": \"https://plot.ly\"})});</script>"
      ]
     },
     "metadata": {},
     "output_type": "display_data"
    },
    {
     "name": "stdout",
     "output_type": "stream",
     "text": [
      "\n",
      "\n",
      "\u001b[1mBagging Classifier\u001b[0m\n",
      "Accuracy of the model for training data is: 0.941425248467\n",
      "Confusion Matrix for training data is:\n"
     ]
    },
    {
     "data": {
      "text/plain": [
       "Predicted  False  True  __all__\n",
       "Actual                         \n",
       "False       4217   512     4729\n",
       "True          42  4687     4729\n",
       "__all__     4259  5199     9458"
      ]
     },
     "metadata": {},
     "output_type": "display_data"
    },
    {
     "name": "stdout",
     "output_type": "stream",
     "text": [
      "Accuracy of the model for test data is: 0.878531073446\n",
      "Confusion Matrix for test data is:\n"
     ]
    },
    {
     "data": {
      "text/plain": [
       "Predicted  False  True  __all__\n",
       "Actual                         \n",
       "False       6023   917     6940\n",
       "True          72  1130     1202\n",
       "__all__     6095  2047     8142"
      ]
     },
     "metadata": {},
     "output_type": "display_data"
    },
    {
     "name": "stdout",
     "output_type": "stream",
     "text": [
      "\n",
      "\n",
      "\u001b[1mNeural Network-1\u001b[0m\n",
      "The accuracy of the model on training data is: 0.91636709665\n"
     ]
    },
    {
     "data": {
      "text/plain": [
       "Predicted  False  True  __all__\n",
       "Actual                         \n",
       "False       4032   697     4729\n",
       "True          94  4635     4729\n",
       "__all__     4126  5332     9458"
      ]
     },
     "metadata": {},
     "output_type": "display_data"
    },
    {
     "name": "stdout",
     "output_type": "stream",
     "text": [
      "The accuracy of the model on test data is: 0.846106607713\n"
     ]
    },
    {
     "data": {
      "text/plain": [
       "Predicted  False  True  __all__\n",
       "Actual                         \n",
       "False       5746  1194     6940\n",
       "True          59  1143     1202\n",
       "__all__     5805  2337     8142"
      ]
     },
     "metadata": {},
     "output_type": "display_data"
    },
    {
     "name": "stdout",
     "output_type": "stream",
     "text": [
      "\n",
      "\n"
     ]
    }
   ],
   "source": [
    "feat_imp=[None]*4\n",
    "j=0\n",
    "for i in range(0,8):\n",
    "    if i>=2 and i<=5:\n",
    "        model,cm_train,cm_test,acc_train,acc_test,roc_auc,feat_imp[j],mcc=f[i](X_train,Y_train,scaled_X_test,test_Y,columns)\n",
    "        j=j+1\n",
    "    else:\n",
    "        model,cm_train,cm_test,acc_train,acc_test,roc_auc,mcc=f[i](X_train,Y_train,scaled_X_test,test_Y)\n",
    "    table_80_90_train.loc[i]=   ([acc_train,cm_train.TP,cm_train.TN,cm_train.FP,cm_train.FN,cm_train.FPR,cm_train.FNR])\n",
    "    table_80_90_test.loc[i] =   ([acc_test ,cm_test.TP, cm_test.TN, cm_test.FP, cm_test.FN, cm_test.FPR, cm_test.FNR,roc_auc,mcc])\n",
    "    print(\"\\n\")"
   ]
  },
  {
   "cell_type": "markdown",
   "metadata": {},
   "source": [
    "### <a id='3.A' style=\"text-decoration : none; color : #000000;\"> A. Results</a>"
   ]
  },
  {
   "cell_type": "code",
   "execution_count": 35,
   "metadata": {},
   "outputs": [
    {
     "data": {
      "application/vnd.plotly.v1+json": {
       "config": {
        "linkText": "Export to plot.ly",
        "plotlyServerURL": "https://plot.ly",
        "showLink": true
       },
       "data": [
        {
         "mode": "lines",
         "name": "KNN_model",
         "type": "scatter",
         "uid": "71af736f-6c4d-4023-b8fe-c65b947ce4f1",
         "x": [
          "accuracy",
          "FPR",
          "FNR",
          "auc"
         ],
         "y": [
          0.8323507737656596,
          0.04438040345821326,
          0.8793677204658902,
          0.5381259380379483
         ]
        },
        {
         "mode": "lines+markers",
         "name": "Logistic Regression",
         "type": "scatter",
         "uid": "f8fdd191-a38b-4f4f-beba-3ab0fcc1c76f",
         "x": [
          "accuracy",
          "FPR",
          "FNR",
          "auc"
         ],
         "y": [
          0.8187177597641857,
          0.20461095100864554,
          0.04658901830282862,
          0.8744000153442629
         ]
        },
        {
         "marker": {
          "symbol": "x"
         },
         "mode": "lines+markers",
         "name": "Random Forest",
         "type": "scatter",
         "uid": "e389ac6a-87ab-4ef7-bd34-c7e07bfd5ad7",
         "x": [
          "accuracy",
          "FPR",
          "FNR",
          "auc"
         ],
         "y": [
          0.8847948906902481,
          0.12334293948126801,
          0.06821963394342762,
          0.9042187132876522
         ]
        },
        {
         "mode": "lines",
         "name": "Ada Boost",
         "type": "scatter",
         "uid": "27680299-a0ab-4e74-b5fd-c65606a36b19",
         "x": [
          "accuracy",
          "FPR",
          "FNR",
          "auc"
         ],
         "y": [
          0.8547040039302383,
          0.15936599423631123,
          0.06405990016638935,
          0.8882870527986497
         ]
        },
        {
         "mode": "lines+markers",
         "name": "GradientBoosting",
         "type": "scatter",
         "uid": "962c2700-713e-423b-8f83-02a314e8f6d1",
         "x": [
          "accuracy",
          "FPR",
          "FNR",
          "auc"
         ],
         "y": [
          0.8696880373372635,
          0.14207492795389048,
          0.06239600665557404,
          0.8977645326952679
         ]
        },
        {
         "marker": {
          "symbol": "x"
         },
         "mode": "lines+markers",
         "name": "ExtraTree Classifier",
         "type": "scatter",
         "uid": "bd1e4681-fbd9-4734-b618-b39790d4da4e",
         "x": [
          "accuracy",
          "FPR",
          "FNR",
          "auc"
         ],
         "y": [
          0.8873741095553918,
          0.12103746397694524,
          0.06405990016638935,
          0.9074513179283328
         ]
        },
        {
         "marker": {
          "symbol": "x"
         },
         "mode": "lines+markers",
         "name": "Bagging",
         "type": "scatter",
         "uid": "f9383c2e-7397-49a0-972e-71351c8ecdb6",
         "x": [
          "accuracy",
          "FPR",
          "FNR",
          "auc"
         ],
         "y": [
          0.8785310734463276,
          0.13213256484149855,
          0.059900166389351084,
          0.9039836343845752
         ]
        },
        {
         "marker": {
          "symbol": "x"
         },
         "mode": "lines+markers",
         "name": "Neural Network",
         "type": "scatter",
         "uid": "99fa4ffd-27a8-414e-bcd5-b723fd58f110",
         "x": [
          "accuracy",
          "FPR",
          "FNR",
          "auc"
         ],
         "y": [
          0.8461066077130927,
          0.17204610951008645,
          0.04908485856905158,
          0.9039836343845752
         ]
        }
       ],
       "layout": {
        "title": "Result comparision for Features selected in Section 1",
        "yaxis": {
         "dtick": 0.05,
         "tick0": 0
        }
       }
      },
      "text/html": [
       "<div id=\"1beaa051-0d58-4e8e-8c33-ded8f60550d0\" style=\"height: 525px; width: 100%;\" class=\"plotly-graph-div\"></div><script type=\"text/javascript\">require([\"plotly\"], function(Plotly) { window.PLOTLYENV=window.PLOTLYENV || {};window.PLOTLYENV.BASE_URL=\"https://plot.ly\";Plotly.newPlot(\"1beaa051-0d58-4e8e-8c33-ded8f60550d0\", [{\"mode\": \"lines\", \"name\": \"KNN_model\", \"x\": [\"accuracy\", \"FPR\", \"FNR\", \"auc\"], \"y\": [0.8323507737656596, 0.04438040345821326, 0.8793677204658902, 0.5381259380379483], \"type\": \"scatter\", \"uid\": \"71af736f-6c4d-4023-b8fe-c65b947ce4f1\"}, {\"mode\": \"lines+markers\", \"name\": \"Logistic Regression\", \"x\": [\"accuracy\", \"FPR\", \"FNR\", \"auc\"], \"y\": [0.8187177597641857, 0.20461095100864554, 0.04658901830282862, 0.8744000153442629], \"type\": \"scatter\", \"uid\": \"f8fdd191-a38b-4f4f-beba-3ab0fcc1c76f\"}, {\"marker\": {\"symbol\": \"x\"}, \"mode\": \"lines+markers\", \"name\": \"Random Forest\", \"x\": [\"accuracy\", \"FPR\", \"FNR\", \"auc\"], \"y\": [0.8847948906902481, 0.12334293948126801, 0.06821963394342762, 0.9042187132876522], \"type\": \"scatter\", \"uid\": \"e389ac6a-87ab-4ef7-bd34-c7e07bfd5ad7\"}, {\"mode\": \"lines\", \"name\": \"Ada Boost\", \"x\": [\"accuracy\", \"FPR\", \"FNR\", \"auc\"], \"y\": [0.8547040039302383, 0.15936599423631123, 0.06405990016638935, 0.8882870527986497], \"type\": \"scatter\", \"uid\": \"27680299-a0ab-4e74-b5fd-c65606a36b19\"}, {\"mode\": \"lines+markers\", \"name\": \"GradientBoosting\", \"x\": [\"accuracy\", \"FPR\", \"FNR\", \"auc\"], \"y\": [0.8696880373372635, 0.14207492795389048, 0.06239600665557404, 0.8977645326952679], \"type\": \"scatter\", \"uid\": \"962c2700-713e-423b-8f83-02a314e8f6d1\"}, {\"marker\": {\"symbol\": \"x\"}, \"mode\": \"lines+markers\", \"name\": \"ExtraTree Classifier\", \"x\": [\"accuracy\", \"FPR\", \"FNR\", \"auc\"], \"y\": [0.8873741095553918, 0.12103746397694524, 0.06405990016638935, 0.9074513179283328], \"type\": \"scatter\", \"uid\": \"bd1e4681-fbd9-4734-b618-b39790d4da4e\"}, {\"marker\": {\"symbol\": \"x\"}, \"mode\": \"lines+markers\", \"name\": \"Bagging\", \"x\": [\"accuracy\", \"FPR\", \"FNR\", \"auc\"], \"y\": [0.8785310734463276, 0.13213256484149855, 0.059900166389351084, 0.9039836343845752], \"type\": \"scatter\", \"uid\": \"f9383c2e-7397-49a0-972e-71351c8ecdb6\"}, {\"marker\": {\"symbol\": \"x\"}, \"mode\": \"lines+markers\", \"name\": \"Neural Network\", \"x\": [\"accuracy\", \"FPR\", \"FNR\", \"auc\"], \"y\": [0.8461066077130927, 0.17204610951008645, 0.04908485856905158, 0.9039836343845752], \"type\": \"scatter\", \"uid\": \"99fa4ffd-27a8-414e-bcd5-b723fd58f110\"}], {\"title\": \"Result comparision for Features selected in Section 1\", \"yaxis\": {\"dtick\": 0.05, \"tick0\": 0}}, {\"showLink\": true, \"linkText\": \"Export to plot.ly\", \"plotlyServerURL\": \"https://plot.ly\"})});</script><script type=\"text/javascript\">window.addEventListener(\"resize\", function(){window._Plotly.Plots.resize(document.getElementById(\"1beaa051-0d58-4e8e-8c33-ded8f60550d0\"));});</script>"
      ],
      "text/vnd.plotly.v1+html": [
       "<div id=\"1beaa051-0d58-4e8e-8c33-ded8f60550d0\" style=\"height: 525px; width: 100%;\" class=\"plotly-graph-div\"></div><script type=\"text/javascript\">require([\"plotly\"], function(Plotly) { window.PLOTLYENV=window.PLOTLYENV || {};window.PLOTLYENV.BASE_URL=\"https://plot.ly\";Plotly.newPlot(\"1beaa051-0d58-4e8e-8c33-ded8f60550d0\", [{\"mode\": \"lines\", \"name\": \"KNN_model\", \"x\": [\"accuracy\", \"FPR\", \"FNR\", \"auc\"], \"y\": [0.8323507737656596, 0.04438040345821326, 0.8793677204658902, 0.5381259380379483], \"type\": \"scatter\", \"uid\": \"71af736f-6c4d-4023-b8fe-c65b947ce4f1\"}, {\"mode\": \"lines+markers\", \"name\": \"Logistic Regression\", \"x\": [\"accuracy\", \"FPR\", \"FNR\", \"auc\"], \"y\": [0.8187177597641857, 0.20461095100864554, 0.04658901830282862, 0.8744000153442629], \"type\": \"scatter\", \"uid\": \"f8fdd191-a38b-4f4f-beba-3ab0fcc1c76f\"}, {\"marker\": {\"symbol\": \"x\"}, \"mode\": \"lines+markers\", \"name\": \"Random Forest\", \"x\": [\"accuracy\", \"FPR\", \"FNR\", \"auc\"], \"y\": [0.8847948906902481, 0.12334293948126801, 0.06821963394342762, 0.9042187132876522], \"type\": \"scatter\", \"uid\": \"e389ac6a-87ab-4ef7-bd34-c7e07bfd5ad7\"}, {\"mode\": \"lines\", \"name\": \"Ada Boost\", \"x\": [\"accuracy\", \"FPR\", \"FNR\", \"auc\"], \"y\": [0.8547040039302383, 0.15936599423631123, 0.06405990016638935, 0.8882870527986497], \"type\": \"scatter\", \"uid\": \"27680299-a0ab-4e74-b5fd-c65606a36b19\"}, {\"mode\": \"lines+markers\", \"name\": \"GradientBoosting\", \"x\": [\"accuracy\", \"FPR\", \"FNR\", \"auc\"], \"y\": [0.8696880373372635, 0.14207492795389048, 0.06239600665557404, 0.8977645326952679], \"type\": \"scatter\", \"uid\": \"962c2700-713e-423b-8f83-02a314e8f6d1\"}, {\"marker\": {\"symbol\": \"x\"}, \"mode\": \"lines+markers\", \"name\": \"ExtraTree Classifier\", \"x\": [\"accuracy\", \"FPR\", \"FNR\", \"auc\"], \"y\": [0.8873741095553918, 0.12103746397694524, 0.06405990016638935, 0.9074513179283328], \"type\": \"scatter\", \"uid\": \"bd1e4681-fbd9-4734-b618-b39790d4da4e\"}, {\"marker\": {\"symbol\": \"x\"}, \"mode\": \"lines+markers\", \"name\": \"Bagging\", \"x\": [\"accuracy\", \"FPR\", \"FNR\", \"auc\"], \"y\": [0.8785310734463276, 0.13213256484149855, 0.059900166389351084, 0.9039836343845752], \"type\": \"scatter\", \"uid\": \"f9383c2e-7397-49a0-972e-71351c8ecdb6\"}, {\"marker\": {\"symbol\": \"x\"}, \"mode\": \"lines+markers\", \"name\": \"Neural Network\", \"x\": [\"accuracy\", \"FPR\", \"FNR\", \"auc\"], \"y\": [0.8461066077130927, 0.17204610951008645, 0.04908485856905158, 0.9039836343845752], \"type\": \"scatter\", \"uid\": \"99fa4ffd-27a8-414e-bcd5-b723fd58f110\"}], {\"title\": \"Result comparision for Features selected in Section 1\", \"yaxis\": {\"dtick\": 0.05, \"tick0\": 0}}, {\"showLink\": true, \"linkText\": \"Export to plot.ly\", \"plotlyServerURL\": \"https://plot.ly\"})});</script><script type=\"text/javascript\">window.addEventListener(\"resize\", function(){window._Plotly.Plots.resize(document.getElementById(\"1beaa051-0d58-4e8e-8c33-ded8f60550d0\"));});</script>"
      ]
     },
     "metadata": {},
     "output_type": "display_data"
    }
   ],
   "source": [
    "trace0 = go.Scatter(x=table_80_90_test.iloc[0].index.values[[0,5,6,7]],\n",
    "                    y=table_80_90_test.iloc[0].values[[0,5,6,7]],\n",
    "                    mode = 'lines',\n",
    "                    name = 'KNN_model')\n",
    "\n",
    "trace1 = go.Scatter(x=table_80_90_test.iloc[1].index.values[[0,5,6,7]],\n",
    "                    y=table_80_90_test.iloc[1].values[[0,5,6,7]],\n",
    "                    mode = 'lines+markers',\n",
    "                    name = 'Logistic Regression')\n",
    "\n",
    "trace2 = go.Scatter(x=table_80_90_test.iloc[2].index.values[[0,5,6,7]],\n",
    "                    y=table_80_90_test.iloc[2].values[[0,5,6,7]],\n",
    "                    mode = 'lines+markers',marker=dict(symbol='x'),\n",
    "                    name = 'Random Forest')\n",
    "\n",
    "\n",
    "trace3 = go.Scatter(x=table_80_90_test.iloc[3].index.values[[0,5,6,7]],\n",
    "                    y=table_80_90_test.iloc[3].values[[0,5,6,7]],\n",
    "                    mode = 'lines',\n",
    "                    name = 'Ada Boost')\n",
    "\n",
    "trace4 = go.Scatter(x=table_80_90_test.iloc[4].index.values[[0,5,6,7]],\n",
    "                    y=table_80_90_test.iloc[4].values[[0,5,6,7]],\n",
    "                    mode = 'lines+markers',\n",
    "                    name = 'GradientBoosting')\n",
    "\n",
    "trace5 = go.Scatter(x=table_80_90_test.iloc[5].index.values[[0,5,6,7]],\n",
    "                    y=table_80_90_test.iloc[5].values[[0,5,6,7]],\n",
    "                    mode = 'lines+markers',marker=dict(symbol='x'),\n",
    "                    name = 'ExtraTree Classifier')\n",
    "\n",
    "trace6 = go.Scatter(x=table_80_90_test.iloc[6].index.values[[0,5,6,7]],\n",
    "                    y=table_80_90_test.iloc[6].values[[0,5,6,7]],\n",
    "                    mode = 'lines+markers',marker=dict(symbol='x'),\n",
    "                    name = 'Bagging')\n",
    "\n",
    "trace7 = go.Scatter(x=table_80_90_test.iloc[7].index.values[[0,5,6,7]],\n",
    "                    y=table_80_90_test.iloc[7].values[[0,5,6,7]],\n",
    "                    mode = 'lines+markers',marker=dict(symbol='x'),\n",
    "                    name = 'Neural Network')\n",
    "\n",
    "\n",
    "\n",
    "data = [trace0, trace1, trace2, trace3, trace4, trace5, trace6, trace7]\n",
    "layout = go.Layout(yaxis=dict(tick0=0,dtick=0.05),title='Result comparision for Features selected in Section 1')\n",
    "fig = go.Figure(data=data, layout=layout)\n",
    "\n",
    "iplot(fig, filename='Result')"
   ]
  },
  {
   "cell_type": "code",
   "execution_count": 36,
   "metadata": {},
   "outputs": [
    {
     "name": "stdout",
     "output_type": "stream",
     "text": [
      "Training Results\n"
     ]
    },
    {
     "data": {
      "text/html": [
       "<div>\n",
       "<style scoped>\n",
       "    .dataframe tbody tr th:only-of-type {\n",
       "        vertical-align: middle;\n",
       "    }\n",
       "\n",
       "    .dataframe tbody tr th {\n",
       "        vertical-align: top;\n",
       "    }\n",
       "\n",
       "    .dataframe thead th {\n",
       "        text-align: right;\n",
       "    }\n",
       "</style>\n",
       "<table border=\"1\" class=\"dataframe\">\n",
       "  <thead>\n",
       "    <tr style=\"text-align: right;\">\n",
       "      <th></th>\n",
       "      <th>accuracy</th>\n",
       "      <th>TP</th>\n",
       "      <th>TN</th>\n",
       "      <th>FP</th>\n",
       "      <th>FN</th>\n",
       "      <th>FPR</th>\n",
       "      <th>FNR</th>\n",
       "    </tr>\n",
       "    <tr>\n",
       "      <th>index</th>\n",
       "      <th></th>\n",
       "      <th></th>\n",
       "      <th></th>\n",
       "      <th></th>\n",
       "      <th></th>\n",
       "      <th></th>\n",
       "      <th></th>\n",
       "    </tr>\n",
       "  </thead>\n",
       "  <tbody>\n",
       "    <tr>\n",
       "      <th>KNeighborsClassifier</th>\n",
       "      <td>0.559421</td>\n",
       "      <td>706.0</td>\n",
       "      <td>4585.0</td>\n",
       "      <td>144.0</td>\n",
       "      <td>4023.0</td>\n",
       "      <td>0.030450</td>\n",
       "      <td>0.850708</td>\n",
       "    </tr>\n",
       "    <tr>\n",
       "      <th>LogisticRegression</th>\n",
       "      <td>0.873969</td>\n",
       "      <td>4516.0</td>\n",
       "      <td>3750.0</td>\n",
       "      <td>979.0</td>\n",
       "      <td>213.0</td>\n",
       "      <td>0.207021</td>\n",
       "      <td>0.045041</td>\n",
       "    </tr>\n",
       "    <tr>\n",
       "      <th>RandomForestClassifier</th>\n",
       "      <td>0.941002</td>\n",
       "      <td>4672.0</td>\n",
       "      <td>4228.0</td>\n",
       "      <td>501.0</td>\n",
       "      <td>57.0</td>\n",
       "      <td>0.105942</td>\n",
       "      <td>0.012053</td>\n",
       "    </tr>\n",
       "    <tr>\n",
       "      <th>AdaBoostClassifier</th>\n",
       "      <td>0.888560</td>\n",
       "      <td>4446.0</td>\n",
       "      <td>3958.0</td>\n",
       "      <td>771.0</td>\n",
       "      <td>283.0</td>\n",
       "      <td>0.163037</td>\n",
       "      <td>0.059844</td>\n",
       "    </tr>\n",
       "    <tr>\n",
       "      <th>GradientBoostingClassifier</th>\n",
       "      <td>0.904948</td>\n",
       "      <td>4482.0</td>\n",
       "      <td>4077.0</td>\n",
       "      <td>652.0</td>\n",
       "      <td>247.0</td>\n",
       "      <td>0.137873</td>\n",
       "      <td>0.052231</td>\n",
       "    </tr>\n",
       "    <tr>\n",
       "      <th>ExtraTreeClassifier</th>\n",
       "      <td>0.946077</td>\n",
       "      <td>4718.0</td>\n",
       "      <td>4230.0</td>\n",
       "      <td>499.0</td>\n",
       "      <td>11.0</td>\n",
       "      <td>0.105519</td>\n",
       "      <td>0.002326</td>\n",
       "    </tr>\n",
       "    <tr>\n",
       "      <th>BaggingClassifier</th>\n",
       "      <td>0.941425</td>\n",
       "      <td>4687.0</td>\n",
       "      <td>4217.0</td>\n",
       "      <td>512.0</td>\n",
       "      <td>42.0</td>\n",
       "      <td>0.108268</td>\n",
       "      <td>0.008881</td>\n",
       "    </tr>\n",
       "    <tr>\n",
       "      <th>Neural Network-1</th>\n",
       "      <td>0.916367</td>\n",
       "      <td>4635.0</td>\n",
       "      <td>4032.0</td>\n",
       "      <td>697.0</td>\n",
       "      <td>94.0</td>\n",
       "      <td>0.147388</td>\n",
       "      <td>0.019877</td>\n",
       "    </tr>\n",
       "  </tbody>\n",
       "</table>\n",
       "</div>"
      ],
      "text/plain": [
       "                            accuracy      TP      TN     FP      FN       FPR  \\\n",
       "index                                                                           \n",
       "KNeighborsClassifier        0.559421   706.0  4585.0  144.0  4023.0  0.030450   \n",
       "LogisticRegression          0.873969  4516.0  3750.0  979.0   213.0  0.207021   \n",
       "RandomForestClassifier      0.941002  4672.0  4228.0  501.0    57.0  0.105942   \n",
       "AdaBoostClassifier          0.888560  4446.0  3958.0  771.0   283.0  0.163037   \n",
       "GradientBoostingClassifier  0.904948  4482.0  4077.0  652.0   247.0  0.137873   \n",
       "ExtraTreeClassifier         0.946077  4718.0  4230.0  499.0    11.0  0.105519   \n",
       "BaggingClassifier           0.941425  4687.0  4217.0  512.0    42.0  0.108268   \n",
       "Neural Network-1            0.916367  4635.0  4032.0  697.0    94.0  0.147388   \n",
       "\n",
       "                                 FNR  \n",
       "index                                 \n",
       "KNeighborsClassifier        0.850708  \n",
       "LogisticRegression          0.045041  \n",
       "RandomForestClassifier      0.012053  \n",
       "AdaBoostClassifier          0.059844  \n",
       "GradientBoostingClassifier  0.052231  \n",
       "ExtraTreeClassifier         0.002326  \n",
       "BaggingClassifier           0.008881  \n",
       "Neural Network-1            0.019877  "
      ]
     },
     "metadata": {},
     "output_type": "display_data"
    },
    {
     "name": "stdout",
     "output_type": "stream",
     "text": [
      "Test Results\n"
     ]
    },
    {
     "data": {
      "text/html": [
       "<div>\n",
       "<style scoped>\n",
       "    .dataframe tbody tr th:only-of-type {\n",
       "        vertical-align: middle;\n",
       "    }\n",
       "\n",
       "    .dataframe tbody tr th {\n",
       "        vertical-align: top;\n",
       "    }\n",
       "\n",
       "    .dataframe thead th {\n",
       "        text-align: right;\n",
       "    }\n",
       "</style>\n",
       "<table border=\"1\" class=\"dataframe\">\n",
       "  <thead>\n",
       "    <tr style=\"text-align: right;\">\n",
       "      <th></th>\n",
       "      <th>accuracy</th>\n",
       "      <th>TP</th>\n",
       "      <th>TN</th>\n",
       "      <th>FP</th>\n",
       "      <th>FN</th>\n",
       "      <th>FPR</th>\n",
       "      <th>FNR</th>\n",
       "      <th>auc</th>\n",
       "      <th>mcc</th>\n",
       "    </tr>\n",
       "    <tr>\n",
       "      <th>index</th>\n",
       "      <th></th>\n",
       "      <th></th>\n",
       "      <th></th>\n",
       "      <th></th>\n",
       "      <th></th>\n",
       "      <th></th>\n",
       "      <th></th>\n",
       "      <th></th>\n",
       "      <th></th>\n",
       "    </tr>\n",
       "  </thead>\n",
       "  <tbody>\n",
       "    <tr>\n",
       "      <th>KNeighborsClassifier</th>\n",
       "      <td>0.832351</td>\n",
       "      <td>145.0</td>\n",
       "      <td>6632.0</td>\n",
       "      <td>308.0</td>\n",
       "      <td>1057.0</td>\n",
       "      <td>0.044380</td>\n",
       "      <td>0.879368</td>\n",
       "      <td>0.538126</td>\n",
       "      <td>0.118004</td>\n",
       "    </tr>\n",
       "    <tr>\n",
       "      <th>LogisticRegression</th>\n",
       "      <td>0.818718</td>\n",
       "      <td>1146.0</td>\n",
       "      <td>5520.0</td>\n",
       "      <td>1420.0</td>\n",
       "      <td>56.0</td>\n",
       "      <td>0.204611</td>\n",
       "      <td>0.046589</td>\n",
       "      <td>0.874400</td>\n",
       "      <td>0.571753</td>\n",
       "    </tr>\n",
       "    <tr>\n",
       "      <th>RandomForestClassifier</th>\n",
       "      <td>0.884795</td>\n",
       "      <td>1120.0</td>\n",
       "      <td>6084.0</td>\n",
       "      <td>856.0</td>\n",
       "      <td>82.0</td>\n",
       "      <td>0.123343</td>\n",
       "      <td>0.068220</td>\n",
       "      <td>0.904219</td>\n",
       "      <td>0.668934</td>\n",
       "    </tr>\n",
       "    <tr>\n",
       "      <th>AdaBoostClassifier</th>\n",
       "      <td>0.854704</td>\n",
       "      <td>1125.0</td>\n",
       "      <td>5834.0</td>\n",
       "      <td>1106.0</td>\n",
       "      <td>77.0</td>\n",
       "      <td>0.159366</td>\n",
       "      <td>0.064060</td>\n",
       "      <td>0.888287</td>\n",
       "      <td>0.617639</td>\n",
       "    </tr>\n",
       "    <tr>\n",
       "      <th>GradientBoostingClassifier</th>\n",
       "      <td>0.869688</td>\n",
       "      <td>1127.0</td>\n",
       "      <td>5954.0</td>\n",
       "      <td>986.0</td>\n",
       "      <td>75.0</td>\n",
       "      <td>0.142075</td>\n",
       "      <td>0.062396</td>\n",
       "      <td>0.897765</td>\n",
       "      <td>0.643748</td>\n",
       "    </tr>\n",
       "    <tr>\n",
       "      <th>ExtraTreeClassifier</th>\n",
       "      <td>0.887374</td>\n",
       "      <td>1125.0</td>\n",
       "      <td>6100.0</td>\n",
       "      <td>840.0</td>\n",
       "      <td>77.0</td>\n",
       "      <td>0.121037</td>\n",
       "      <td>0.064060</td>\n",
       "      <td>0.907451</td>\n",
       "      <td>0.675566</td>\n",
       "    </tr>\n",
       "    <tr>\n",
       "      <th>BaggingClassifier</th>\n",
       "      <td>0.878531</td>\n",
       "      <td>1130.0</td>\n",
       "      <td>6023.0</td>\n",
       "      <td>917.0</td>\n",
       "      <td>72.0</td>\n",
       "      <td>0.132133</td>\n",
       "      <td>0.059900</td>\n",
       "      <td>0.903984</td>\n",
       "      <td>0.660663</td>\n",
       "    </tr>\n",
       "    <tr>\n",
       "      <th>Neural Network-1</th>\n",
       "      <td>0.846107</td>\n",
       "      <td>1143.0</td>\n",
       "      <td>5746.0</td>\n",
       "      <td>1194.0</td>\n",
       "      <td>59.0</td>\n",
       "      <td>0.172046</td>\n",
       "      <td>0.049085</td>\n",
       "      <td>0.903984</td>\n",
       "      <td>0.610753</td>\n",
       "    </tr>\n",
       "  </tbody>\n",
       "</table>\n",
       "</div>"
      ],
      "text/plain": [
       "                            accuracy      TP      TN      FP      FN  \\\n",
       "index                                                                  \n",
       "KNeighborsClassifier        0.832351   145.0  6632.0   308.0  1057.0   \n",
       "LogisticRegression          0.818718  1146.0  5520.0  1420.0    56.0   \n",
       "RandomForestClassifier      0.884795  1120.0  6084.0   856.0    82.0   \n",
       "AdaBoostClassifier          0.854704  1125.0  5834.0  1106.0    77.0   \n",
       "GradientBoostingClassifier  0.869688  1127.0  5954.0   986.0    75.0   \n",
       "ExtraTreeClassifier         0.887374  1125.0  6100.0   840.0    77.0   \n",
       "BaggingClassifier           0.878531  1130.0  6023.0   917.0    72.0   \n",
       "Neural Network-1            0.846107  1143.0  5746.0  1194.0    59.0   \n",
       "\n",
       "                                 FPR       FNR       auc       mcc  \n",
       "index                                                               \n",
       "KNeighborsClassifier        0.044380  0.879368  0.538126  0.118004  \n",
       "LogisticRegression          0.204611  0.046589  0.874400  0.571753  \n",
       "RandomForestClassifier      0.123343  0.068220  0.904219  0.668934  \n",
       "AdaBoostClassifier          0.159366  0.064060  0.888287  0.617639  \n",
       "GradientBoostingClassifier  0.142075  0.062396  0.897765  0.643748  \n",
       "ExtraTreeClassifier         0.121037  0.064060  0.907451  0.675566  \n",
       "BaggingClassifier           0.132133  0.059900  0.903984  0.660663  \n",
       "Neural Network-1            0.172046  0.049085  0.903984  0.610753  "
      ]
     },
     "metadata": {},
     "output_type": "display_data"
    }
   ],
   "source": [
    "table_80_90_train['index']=ind_columns\n",
    "table_80_90_test['index']=ind_columns\n",
    "\n",
    "\n",
    "table_80_90_test.set_index(['index'],drop=True,inplace=True)\n",
    "table_80_90_train.set_index(['index'],drop=True,inplace=True)\n",
    "\n",
    "print(\"Training Results\")\n",
    "display(table_80_90_train)\n",
    "print(\"Test Results\")\n",
    "display(table_80_90_test)"
   ]
  },
  {
   "cell_type": "markdown",
   "metadata": {},
   "source": [
    "### <a id='3.B' style=\"text-decoration : none; color : #000000;\"> B. Average Feature Importances</a>"
   ]
  },
  {
   "cell_type": "code",
   "execution_count": 37,
   "metadata": {},
   "outputs": [
    {
     "data": {
      "application/vnd.plotly.v1+json": {
       "config": {
        "linkText": "Export to plot.ly",
        "plotlyServerURL": "https://plot.ly",
        "showLink": true
       },
       "data": [
        {
         "marker": {
          "color": "rgb(158,202,225)",
          "line": {
           "color": "rgb(8,48,107)",
           "width": 1.5
          }
         },
         "opacity": 0.6,
         "orientation": "h",
         "text": [
          0.2712,
          0.1528,
          0.0842,
          0.0768,
          0.0731,
          0.0458,
          0.0453,
          0.0299,
          0.0272,
          0.0246,
          0.0185,
          0.018,
          0.0149,
          0.0132,
          0.0112,
          0.0108,
          0.0101,
          0.0086,
          0.0071,
          0.007,
          0.007,
          0.0064,
          0.0062,
          0.0057,
          0.0056,
          0.0039,
          0.0031,
          0.0022,
          0.0021,
          0.0017,
          0.0017,
          0.0009,
          0.0008,
          0.0006,
          0.0006,
          0.0004,
          0.0004,
          0.0003,
          0.0002,
          0.0001
         ],
         "textposition": "outside",
         "type": "bar",
         "uid": "047f6a6f-8e7e-4a12-ac40-6a70884844d3",
         "x": [
          0.2711801484230564,
          0.1528250226535471,
          0.0841590998308751,
          0.07675642525954665,
          0.07312911622111262,
          0.04576313970830348,
          0.045301036429658124,
          0.029926249473269516,
          0.027221361688746566,
          0.024556669768201065,
          0.0184890890204008,
          0.0180294167022275,
          0.01485468632610535,
          0.013236405788177537,
          0.011168758119828877,
          0.01078104039991943,
          0.010123702674186904,
          0.008550088155876212,
          0.007136375029321103,
          0.007008550994522892,
          0.00699485967297016,
          0.006398794778987059,
          0.006173081416709088,
          0.00568770023198717,
          0.005597924850648388,
          0.0038882108840815957,
          0.0030989416899312597,
          0.002154391513452757,
          0.002093150420115624,
          0.0017046845300493067,
          0.0016886465085556683,
          0.0009305559687066557,
          0.0008308078932863284,
          0.0005975876677642856,
          0.000567689115802353,
          0.00044926423652614454,
          0.00038031099642258455,
          0.0003202729631100152,
          0.0001655494245849041,
          8.119256942544521e-05
         ],
         "y": [
          "Num_of_hrefs",
          "a_count",
          "script_src_out_of_domain",
          "script_count",
          "script_type_text/javascript",
          "div_count",
          "img_src_out_of_domain",
          "input_count",
          "img_src_absolute",
          "li_count",
          "style_count",
          "meta_http-equiv_X-UA-Compatible",
          "replace",
          "document.createElement",
          "iframe_src_relative",
          "charAt",
          "iframe_count",
          "escape",
          "window.addEventListener",
          "window.setTimeout",
          "small_count",
          "String.fromCharCode",
          "concat",
          "meta_http-equiv_refresh",
          "search",
          "document.write",
          "decodeURIComponent",
          "parseInt",
          "substring",
          "encodeURIComponent",
          "unescape",
          "object_count",
          "exec",
          "charCodeAt",
          "eval",
          "embed_count",
          "window.setInterval",
          "iframe_hidden_true",
          "link",
          "image_count"
         ]
        }
       ],
       "layout": {
        "autosize": false,
        "height": 1000,
        "width": 1000,
        "xaxis": {
         "tickfont": {
          "color": "black",
          "size": 12
         },
         "title": "Feature Importances"
        },
        "yaxis": {
         "automargin": true
        }
       }
      },
      "text/html": [
       "<div id=\"b26f5235-b432-47cf-a99c-81fc8a6cbd4b\" style=\"height: 1000px; width: 1000px;\" class=\"plotly-graph-div\"></div><script type=\"text/javascript\">require([\"plotly\"], function(Plotly) { window.PLOTLYENV=window.PLOTLYENV || {};window.PLOTLYENV.BASE_URL=\"https://plot.ly\";Plotly.newPlot(\"b26f5235-b432-47cf-a99c-81fc8a6cbd4b\", [{\"marker\": {\"color\": \"rgb(158,202,225)\", \"line\": {\"color\": \"rgb(8,48,107)\", \"width\": 1.5}}, \"opacity\": 0.6, \"orientation\": \"h\", \"text\": [0.2712, 0.1528, 0.0842, 0.0768, 0.0731, 0.0458, 0.0453, 0.0299, 0.0272, 0.0246, 0.0185, 0.018, 0.0149, 0.0132, 0.0112, 0.0108, 0.0101, 0.0086, 0.0071, 0.007, 0.007, 0.0064, 0.0062, 0.0057, 0.0056, 0.0039, 0.0031, 0.0022, 0.0021, 0.0017, 0.0017, 0.0009, 0.0008, 0.0006, 0.0006, 0.0004, 0.0004, 0.0003, 0.0002, 0.0001], \"textposition\": \"outside\", \"x\": [0.2711801484230564, 0.1528250226535471, 0.0841590998308751, 0.07675642525954665, 0.07312911622111262, 0.04576313970830348, 0.045301036429658124, 0.029926249473269516, 0.027221361688746566, 0.024556669768201065, 0.0184890890204008, 0.0180294167022275, 0.01485468632610535, 0.013236405788177537, 0.011168758119828877, 0.01078104039991943, 0.010123702674186904, 0.008550088155876212, 0.007136375029321103, 0.007008550994522892, 0.00699485967297016, 0.006398794778987059, 0.006173081416709088, 0.00568770023198717, 0.005597924850648388, 0.0038882108840815957, 0.0030989416899312597, 0.002154391513452757, 0.002093150420115624, 0.0017046845300493067, 0.0016886465085556683, 0.0009305559687066557, 0.0008308078932863284, 0.0005975876677642856, 0.000567689115802353, 0.00044926423652614454, 0.00038031099642258455, 0.0003202729631100152, 0.0001655494245849041, 8.119256942544521e-05], \"y\": [\"Num_of_hrefs\", \"a_count\", \"script_src_out_of_domain\", \"script_count\", \"script_type_text/javascript\", \"div_count\", \"img_src_out_of_domain\", \"input_count\", \"img_src_absolute\", \"li_count\", \"style_count\", \"meta_http-equiv_X-UA-Compatible\", \"replace\", \"document.createElement\", \"iframe_src_relative\", \"charAt\", \"iframe_count\", \"escape\", \"window.addEventListener\", \"window.setTimeout\", \"small_count\", \"String.fromCharCode\", \"concat\", \"meta_http-equiv_refresh\", \"search\", \"document.write\", \"decodeURIComponent\", \"parseInt\", \"substring\", \"encodeURIComponent\", \"unescape\", \"object_count\", \"exec\", \"charCodeAt\", \"eval\", \"embed_count\", \"window.setInterval\", \"iframe_hidden_true\", \"link\", \"image_count\"], \"type\": \"bar\", \"uid\": \"047f6a6f-8e7e-4a12-ac40-6a70884844d3\"}], {\"autosize\": false, \"height\": 1000, \"width\": 1000, \"xaxis\": {\"tickfont\": {\"color\": \"black\", \"size\": 12}, \"title\": \"Feature Importances\"}, \"yaxis\": {\"automargin\": true}}, {\"showLink\": true, \"linkText\": \"Export to plot.ly\", \"plotlyServerURL\": \"https://plot.ly\"})});</script>"
      ],
      "text/vnd.plotly.v1+html": [
       "<div id=\"b26f5235-b432-47cf-a99c-81fc8a6cbd4b\" style=\"height: 1000px; width: 1000px;\" class=\"plotly-graph-div\"></div><script type=\"text/javascript\">require([\"plotly\"], function(Plotly) { window.PLOTLYENV=window.PLOTLYENV || {};window.PLOTLYENV.BASE_URL=\"https://plot.ly\";Plotly.newPlot(\"b26f5235-b432-47cf-a99c-81fc8a6cbd4b\", [{\"marker\": {\"color\": \"rgb(158,202,225)\", \"line\": {\"color\": \"rgb(8,48,107)\", \"width\": 1.5}}, \"opacity\": 0.6, \"orientation\": \"h\", \"text\": [0.2712, 0.1528, 0.0842, 0.0768, 0.0731, 0.0458, 0.0453, 0.0299, 0.0272, 0.0246, 0.0185, 0.018, 0.0149, 0.0132, 0.0112, 0.0108, 0.0101, 0.0086, 0.0071, 0.007, 0.007, 0.0064, 0.0062, 0.0057, 0.0056, 0.0039, 0.0031, 0.0022, 0.0021, 0.0017, 0.0017, 0.0009, 0.0008, 0.0006, 0.0006, 0.0004, 0.0004, 0.0003, 0.0002, 0.0001], \"textposition\": \"outside\", \"x\": [0.2711801484230564, 0.1528250226535471, 0.0841590998308751, 0.07675642525954665, 0.07312911622111262, 0.04576313970830348, 0.045301036429658124, 0.029926249473269516, 0.027221361688746566, 0.024556669768201065, 0.0184890890204008, 0.0180294167022275, 0.01485468632610535, 0.013236405788177537, 0.011168758119828877, 0.01078104039991943, 0.010123702674186904, 0.008550088155876212, 0.007136375029321103, 0.007008550994522892, 0.00699485967297016, 0.006398794778987059, 0.006173081416709088, 0.00568770023198717, 0.005597924850648388, 0.0038882108840815957, 0.0030989416899312597, 0.002154391513452757, 0.002093150420115624, 0.0017046845300493067, 0.0016886465085556683, 0.0009305559687066557, 0.0008308078932863284, 0.0005975876677642856, 0.000567689115802353, 0.00044926423652614454, 0.00038031099642258455, 0.0003202729631100152, 0.0001655494245849041, 8.119256942544521e-05], \"y\": [\"Num_of_hrefs\", \"a_count\", \"script_src_out_of_domain\", \"script_count\", \"script_type_text/javascript\", \"div_count\", \"img_src_out_of_domain\", \"input_count\", \"img_src_absolute\", \"li_count\", \"style_count\", \"meta_http-equiv_X-UA-Compatible\", \"replace\", \"document.createElement\", \"iframe_src_relative\", \"charAt\", \"iframe_count\", \"escape\", \"window.addEventListener\", \"window.setTimeout\", \"small_count\", \"String.fromCharCode\", \"concat\", \"meta_http-equiv_refresh\", \"search\", \"document.write\", \"decodeURIComponent\", \"parseInt\", \"substring\", \"encodeURIComponent\", \"unescape\", \"object_count\", \"exec\", \"charCodeAt\", \"eval\", \"embed_count\", \"window.setInterval\", \"iframe_hidden_true\", \"link\", \"image_count\"], \"type\": \"bar\", \"uid\": \"047f6a6f-8e7e-4a12-ac40-6a70884844d3\"}], {\"autosize\": false, \"height\": 1000, \"width\": 1000, \"xaxis\": {\"tickfont\": {\"color\": \"black\", \"size\": 12}, \"title\": \"Feature Importances\"}, \"yaxis\": {\"automargin\": true}}, {\"showLink\": true, \"linkText\": \"Export to plot.ly\", \"plotlyServerURL\": \"https://plot.ly\"})});</script>"
      ]
     },
     "metadata": {},
     "output_type": "display_data"
    }
   ],
   "source": [
    "feat_impt_plot(np.average(feat_imp,axis=0),columns)"
   ]
  },
  {
   "cell_type": "markdown",
   "metadata": {},
   "source": [
    "### <a id='4' style=\"text-decoration : none; color : #000000;\">4. Feature Transformation with feature selection </a>"
   ]
  },
  {
   "cell_type": "code",
   "execution_count": null,
   "metadata": {
    "collapsed": true
   },
   "outputs": [],
   "source": [
    "df.Target=df.Target.apply(lambda x: 1 if x=='Malicious' else 0)"
   ]
  },
  {
   "cell_type": "code",
   "execution_count": 38,
   "metadata": {},
   "outputs": [
    {
     "data": {
      "text/plain": [
       "0    34778\n",
       "1     5931\n",
       "Name: Target, dtype: int64"
      ]
     },
     "execution_count": 38,
     "metadata": {},
     "output_type": "execute_result"
    }
   ],
   "source": [
    "df_sel.Target.value_counts()"
   ]
  },
  {
   "cell_type": "code",
   "execution_count": null,
   "metadata": {
    "collapsed": true
   },
   "outputs": [],
   "source": [
    "df_sel.reset_index(inplace=True)\n",
    "\n",
    "# columns=columns.tolist()\n",
    "columns.append('domain')\n",
    "\n",
    "df_min=df_sel[columns]\n",
    "\n",
    "es = ft.EntitySet(id = 'malicious')\n",
    "es.entity_from_dataframe(entity_id = 'data', dataframe = df_min, index = 'domain')\n",
    "\n",
    "feature_matrix_sessions, features_defs = ft.dfs(entityset=es,target_entity=\"data\",\n",
    "                                                trans_primitives = ['add','divide','multiply'],n_jobs=-1,\n",
    "                                                verbose=1,max_depth=1)"
   ]
  },
  {
   "cell_type": "code",
   "execution_count": 40,
   "metadata": {},
   "outputs": [],
   "source": [
    "df_sel.set_index(['domain'],drop=True,inplace=True)\n",
    "fs=pd.merge(feature_matrix_sessions,pd.DataFrame(df_sel.Target),left_index=True, right_index=True)\n",
    "fs.replace([np.inf],0,inplace=True)\n",
    "fs.fillna(value=0,inplace=True)"
   ]
  },
  {
   "cell_type": "code",
   "execution_count": 41,
   "metadata": {
    "collapsed": true
   },
   "outputs": [],
   "source": [
    "X=fs.loc[:,fs.columns!='Target']\n",
    "y=fs.Target\n",
    "feature_name = X.columns.tolist()"
   ]
  },
  {
   "cell_type": "code",
   "execution_count": 42,
   "metadata": {
    "collapsed": true
   },
   "outputs": [],
   "source": [
    "def cor_selector(X, y):\n",
    "    cor_list = []\n",
    "    # calculate the correlation with y for each feature\n",
    "    for i in X.columns.tolist():\n",
    "        cor = np.corrcoef(X[i], y)[0, 1]\n",
    "        cor_list.append(cor)\n",
    "    # replace NaN with 0\n",
    "    cor_list = [0 if np.isnan(i) else i for i in cor_list]\n",
    "    # feature name\n",
    "    cor_feature = X.iloc[:,np.argsort(np.abs(cor_list))[-100:]].columns.tolist()\n",
    "    # feature selection? 0 for not select, 1 for select\n",
    "    cor_support = [True if i in cor_feature else False for i in feature_name]\n",
    "    return cor_support, cor_feature\n",
    "\n",
    "\n",
    "cor_support, cor_feature = cor_selector(X, y)"
   ]
  },
  {
   "cell_type": "code",
   "execution_count": 43,
   "metadata": {
    "collapsed": true
   },
   "outputs": [],
   "source": [
    "X_norm = MinMaxScaler().fit_transform(X)\n",
    "chi_selector = SelectKBest(chi2, k=100)\n",
    "chi_selector.fit(X_norm, y)\n",
    "chi_support = chi_selector.get_support()\n",
    "chi_feature = X.loc[:,chi_support].columns.tolist()"
   ]
  },
  {
   "cell_type": "code",
   "execution_count": 44,
   "metadata": {
    "collapsed": true
   },
   "outputs": [],
   "source": [
    "rfe_selector = RFE(estimator=LogisticRegression(random_state=0), n_features_to_select=100, step=0.3, verbose=False)\n",
    "rfe_selector.fit(X_norm, y)\n",
    "rfe_support = rfe_selector.get_support()\n",
    "rfe_feature = X.loc[:,rfe_support].columns.tolist()"
   ]
  },
  {
   "cell_type": "code",
   "execution_count": 45,
   "metadata": {
    "collapsed": true
   },
   "outputs": [],
   "source": [
    "embeded_rf_selector = SelectFromModel(RandomForestClassifier(n_estimators=100,random_state=0), threshold='23*median')\n",
    "embeded_rf_selector.fit(X, y)\n",
    "embeded_rf_support = embeded_rf_selector.get_support()\n",
    "embeded_rf_feature = X.loc[:,embeded_rf_support].columns.tolist()"
   ]
  },
  {
   "cell_type": "code",
   "execution_count": 46,
   "metadata": {
    "collapsed": true
   },
   "outputs": [],
   "source": [
    "feature_selection_df = pd.DataFrame({'Feature':feature_name, 'Pearson':cor_support, 'Chi-2':chi_support, 'RFE':rfe_support,\n",
    "                                    'Random Forest':embeded_rf_support})\n",
    "# count the selected times for each feature\n",
    "feature_selection_df['Total'] = np.sum(feature_selection_df, axis=1)\n",
    "# display the top 100\n",
    "feature_selection_df = feature_selection_df.sort_values(['Total','Feature'] , ascending=False)\n",
    "feature_selection_df.index = range(1, len(feature_selection_df)+1)"
   ]
  },
  {
   "cell_type": "code",
   "execution_count": 47,
   "metadata": {},
   "outputs": [
    {
     "name": "stdout",
     "output_type": "stream",
     "text": [
      "The train/test split ratio is 80:20\n"
     ]
    },
    {
     "data": {
      "text/plain": [
       "(40709, 25)"
      ]
     },
     "execution_count": 47,
     "metadata": {},
     "output_type": "execute_result"
    }
   ],
   "source": [
    "X=fs[feature_selection_df[feature_selection_df.Total>=4]['Feature']]\n",
    "X.fillna(value=0,inplace=True)\n",
    "X.replace([np.inf,-np.inf],0,inplace=True)\n",
    "y=fs.Target.values\n",
    "feature_name = X.columns.tolist()\n",
    "\n",
    "scaler=StandardScaler()\n",
    "scaled_X=scaler.fit_transform(X)\n",
    "\n",
    "print(\"The train/test split ratio is 80:20\")\n",
    "X_train, X_test, Y_train, Y_test = train_test_split(scaled_X,y,random_state=0,test_size=0.2)\n",
    "\n",
    "X.shape"
   ]
  },
  {
   "cell_type": "code",
   "execution_count": 48,
   "metadata": {},
   "outputs": [
    {
     "name": "stdout",
     "output_type": "stream",
     "text": [
      "Features we will be using:\n",
      "\n"
     ]
    },
    {
     "data": {
      "text/plain": [
       "['script_src_out_of_domain / script_count',\n",
       " 'script_src_out_of_domain + script_type_text/javascript',\n",
       " 'script_count + style_count',\n",
       " 'meta_http-equiv_refresh + script_count',\n",
       " 'meta_http-equiv_X-UA-Compatible + script_count',\n",
       " 'js_function_unescape( + script_count',\n",
       " 'js_function_parseInt( + script_count',\n",
       " 'js_function_escape( + script_count',\n",
       " 'js_function_encodeURIComponent( + script_count',\n",
       " 'js_function_decodeURIComponent( + script_count',\n",
       " 'js_function_String.fromCharCode( + script_count',\n",
       " 'js_function_.substring( + script_count',\n",
       " 'js_function_.search( + script_count',\n",
       " 'js_function_.replace( + script_count',\n",
       " 'js_function_.link( + script_count',\n",
       " 'js_function_.exec( + script_count',\n",
       " 'js_function_.charCodeAt( + script_count',\n",
       " 'js_function_.charAt( + script_count',\n",
       " 'image_count + script_count',\n",
       " 'iframe_src_relative + script_count',\n",
       " 'iframe_count + script_count',\n",
       " 'dom_function_window.setInterval( + script_count',\n",
       " 'dom_function_window.addEventListener( + script_count',\n",
       " 'dom_function_document.createElement( + script_count',\n",
       " 'a_count + div_count']"
      ]
     },
     "metadata": {},
     "output_type": "display_data"
    }
   ],
   "source": [
    "print('Features we will be using:\\n')\n",
    "display(feature_name)"
   ]
  },
  {
   "cell_type": "code",
   "execution_count": 49,
   "metadata": {
    "collapsed": true
   },
   "outputs": [],
   "source": [
    "fs=fs.reindex(df_sel.index.values)\n",
    "fs.fillna(value=0,inplace=True)\n",
    "fs.replace([np.inf,-np.inf],0,inplace=True)"
   ]
  },
  {
   "cell_type": "code",
   "execution_count": 50,
   "metadata": {
    "collapsed": true
   },
   "outputs": [],
   "source": [
    "train=fs.iloc[:32567]\n",
    "train_Y=train.Target.values\n",
    "train_X=train[feature_name].values\n",
    "\n",
    "\n",
    "scaler=StandardScaler()\n",
    "scaled_X_train=scaler.fit_transform(train_X)\n",
    "\n",
    "test=fs.iloc[32567:]\n",
    "test_Y=test.Target.values\n",
    "test_X=test[feature_name]\n",
    "\n",
    "scaled_X_test=scaler.transform(test_X)"
   ]
  },
  {
   "cell_type": "code",
   "execution_count": 51,
   "metadata": {
    "collapsed": true
   },
   "outputs": [],
   "source": [
    "## Table to store training and test measures so we can compare later\n",
    "table_80_60_train=pd.DataFrame(columns=['accuracy','TP','TN','FP','FN','FPR','FNR'])\n",
    "table_80_60_test=pd.DataFrame(columns=['accuracy','TP','TN','FP','FN','FPR','FNR','auc','mcc'])"
   ]
  },
  {
   "cell_type": "code",
   "execution_count": 52,
   "metadata": {
    "scrolled": false
   },
   "outputs": [
    {
     "name": "stdout",
     "output_type": "stream",
     "text": [
      "\u001b[1mK-Nearest Neighbors\u001b[0m\n",
      "Accuracy of the model for training data is: 0.868118033592\n",
      "Confusion Matrix for training data is:\n"
     ]
    },
    {
     "data": {
      "text/plain": [
       "Predicted  False  True  __all__\n",
       "Actual                         \n",
       "False      27613   225    27838\n",
       "True        4070   659     4729\n",
       "__all__    31683   884    32567"
      ]
     },
     "metadata": {},
     "output_type": "display_data"
    },
    {
     "name": "stdout",
     "output_type": "stream",
     "text": [
      "Accuracy of the model for test data is: 0.861950380742\n",
      "Confusion Matrix for test data is:\n"
     ]
    },
    {
     "data": {
      "text/plain": [
       "Predicted  False  True  __all__\n",
       "Actual                         \n",
       "False       6875    65     6940\n",
       "True        1059   143     1202\n",
       "__all__     7934   208     8142"
      ]
     },
     "metadata": {},
     "output_type": "display_data"
    },
    {
     "name": "stdout",
     "output_type": "stream",
     "text": [
      "\n",
      "\n",
      "\u001b[1mLogistic Regression\u001b[0m\n",
      "Accuracy of the model for training data is: 0.879387109651\n",
      "Confusion Matrix for training data is:\n"
     ]
    },
    {
     "data": {
      "text/plain": [
       "Predicted  False  True  __all__\n",
       "Actual                         \n",
       "False      24925  2913    27838\n",
       "True        1015  3714     4729\n",
       "__all__    25940  6627    32567"
      ]
     },
     "metadata": {},
     "output_type": "display_data"
    },
    {
     "name": "stdout",
     "output_type": "stream",
     "text": [
      "Accuracy of the model for test data is: 0.881110292311\n",
      "Confusion Matrix for test data is:\n"
     ]
    },
    {
     "data": {
      "text/plain": [
       "Predicted  False  True  __all__\n",
       "Actual                         \n",
       "False       6221   719     6940\n",
       "True         249   953     1202\n",
       "__all__     6470  1672     8142"
      ]
     },
     "metadata": {},
     "output_type": "display_data"
    },
    {
     "name": "stdout",
     "output_type": "stream",
     "text": [
      "\n",
      "\n",
      "\u001b[1mRandomForest Classifier\u001b[0m\n",
      "Accuracy of the model for training data is: 0.903767617527\n",
      "Confusion Matrix for training data is:\n"
     ]
    },
    {
     "data": {
      "text/plain": [
       "Predicted  False  True  __all__\n",
       "Actual                         \n",
       "False      24912  2926    27838\n",
       "True         208  4521     4729\n",
       "__all__    25120  7447    32567"
      ]
     },
     "metadata": {},
     "output_type": "display_data"
    },
    {
     "name": "stdout",
     "output_type": "stream",
     "text": [
      "Accuracy of the model for test data is: 0.892778187178\n",
      "Confusion Matrix for test data is:\n"
     ]
    },
    {
     "data": {
      "text/plain": [
       "Predicted  False  True  __all__\n",
       "Actual                         \n",
       "False       6196   744     6940\n",
       "True         129  1073     1202\n",
       "__all__     6325  1817     8142"
      ]
     },
     "metadata": {},
     "output_type": "display_data"
    },
    {
     "data": {
      "application/vnd.plotly.v1+json": {
       "config": {
        "linkText": "Export to plot.ly",
        "plotlyServerURL": "https://plot.ly",
        "showLink": true
       },
       "data": [
        {
         "marker": {
          "color": "rgb(158,202,225)",
          "line": {
           "color": "rgb(8,48,107)",
           "width": 1.5
          }
         },
         "opacity": 0.6,
         "orientation": "h",
         "text": [
          0.1452,
          0.1353,
          0.1281,
          0.1159,
          0.0703,
          0.0689,
          0.068,
          0.0662,
          0.0389,
          0.0311,
          0.0221,
          0.0221,
          0.0144,
          0.0121,
          0.0115,
          0.0112,
          0.0103,
          0.0075,
          0.0048,
          0.0043,
          0.0032,
          0.003,
          0.0025,
          0.0018,
          0.0015
         ],
         "textposition": "outside",
         "type": "bar",
         "uid": "b416f005-d802-4c96-b6a5-d64a7409d6c4",
         "x": [
          0.14520316011104925,
          0.1353191301987141,
          0.1280840104414701,
          0.11585373849182239,
          0.07033580047356032,
          0.06888020799357546,
          0.06797428337034367,
          0.06615794151405471,
          0.03888271040184576,
          0.03113648980522939,
          0.02209121224342882,
          0.022057655143802906,
          0.014449352430869445,
          0.012059337433295191,
          0.011452844790755236,
          0.011208789987434981,
          0.010296576356267094,
          0.007465222934252216,
          0.004808469085179409,
          0.00430502561608311,
          0.003201111976160629,
          0.0029632172424016003,
          0.002547558697985831,
          0.0017607502254633335,
          0.001505403034955085
         ],
         "y": [
          "replace + script_count",
          "substring + script_count",
          "charAt + script_count",
          "a_count + div_count",
          "decodeURIComponent + script_count",
          "unescape + script_count",
          "exec + script_count",
          "window.addEventListener + script_count",
          "script_count + style_count",
          "script_src_out_of_domain + script_type_text/javascript",
          "document.createElement + script_count",
          "script_src_out_of_domain / script_count",
          "iframe_count + script_count",
          "iframe_src_relative + script_count",
          "meta_http-equiv_X-UA-Compatible + script_count",
          "encodeURIComponent + script_count",
          "escape + script_count",
          "parseInt + script_count",
          "meta_http-equiv_refresh + script_count",
          "String.fromCharCode + script_count",
          "search + script_count",
          "link + script_count",
          "window.setInterval + script_count",
          "image_count + script_count",
          "charCodeAt + script_count"
         ]
        }
       ],
       "layout": {
        "autosize": false,
        "height": 1000,
        "width": 1000,
        "xaxis": {
         "tickfont": {
          "color": "black",
          "size": 12
         },
         "title": "Feature Importances"
        },
        "yaxis": {
         "automargin": true
        }
       }
      },
      "text/html": [
       "<div id=\"7f44e810-480d-456a-b85a-fd0bf68367fb\" style=\"height: 1000px; width: 1000px;\" class=\"plotly-graph-div\"></div><script type=\"text/javascript\">require([\"plotly\"], function(Plotly) { window.PLOTLYENV=window.PLOTLYENV || {};window.PLOTLYENV.BASE_URL=\"https://plot.ly\";Plotly.newPlot(\"7f44e810-480d-456a-b85a-fd0bf68367fb\", [{\"marker\": {\"color\": \"rgb(158,202,225)\", \"line\": {\"color\": \"rgb(8,48,107)\", \"width\": 1.5}}, \"opacity\": 0.6, \"orientation\": \"h\", \"text\": [0.1452, 0.1353, 0.1281, 0.1159, 0.0703, 0.0689, 0.068, 0.0662, 0.0389, 0.0311, 0.0221, 0.0221, 0.0144, 0.0121, 0.0115, 0.0112, 0.0103, 0.0075, 0.0048, 0.0043, 0.0032, 0.003, 0.0025, 0.0018, 0.0015], \"textposition\": \"outside\", \"x\": [0.14520316011104925, 0.1353191301987141, 0.1280840104414701, 0.11585373849182239, 0.07033580047356032, 0.06888020799357546, 0.06797428337034367, 0.06615794151405471, 0.03888271040184576, 0.03113648980522939, 0.02209121224342882, 0.022057655143802906, 0.014449352430869445, 0.012059337433295191, 0.011452844790755236, 0.011208789987434981, 0.010296576356267094, 0.007465222934252216, 0.004808469085179409, 0.00430502561608311, 0.003201111976160629, 0.0029632172424016003, 0.002547558697985831, 0.0017607502254633335, 0.001505403034955085], \"y\": [\"replace + script_count\", \"substring + script_count\", \"charAt + script_count\", \"a_count + div_count\", \"decodeURIComponent + script_count\", \"unescape + script_count\", \"exec + script_count\", \"window.addEventListener + script_count\", \"script_count + style_count\", \"script_src_out_of_domain + script_type_text/javascript\", \"document.createElement + script_count\", \"script_src_out_of_domain / script_count\", \"iframe_count + script_count\", \"iframe_src_relative + script_count\", \"meta_http-equiv_X-UA-Compatible + script_count\", \"encodeURIComponent + script_count\", \"escape + script_count\", \"parseInt + script_count\", \"meta_http-equiv_refresh + script_count\", \"String.fromCharCode + script_count\", \"search + script_count\", \"link + script_count\", \"window.setInterval + script_count\", \"image_count + script_count\", \"charCodeAt + script_count\"], \"type\": \"bar\", \"uid\": \"b416f005-d802-4c96-b6a5-d64a7409d6c4\"}], {\"autosize\": false, \"height\": 1000, \"width\": 1000, \"xaxis\": {\"tickfont\": {\"color\": \"black\", \"size\": 12}, \"title\": \"Feature Importances\"}, \"yaxis\": {\"automargin\": true}}, {\"showLink\": true, \"linkText\": \"Export to plot.ly\", \"plotlyServerURL\": \"https://plot.ly\"})});</script>"
      ],
      "text/vnd.plotly.v1+html": [
       "<div id=\"7f44e810-480d-456a-b85a-fd0bf68367fb\" style=\"height: 1000px; width: 1000px;\" class=\"plotly-graph-div\"></div><script type=\"text/javascript\">require([\"plotly\"], function(Plotly) { window.PLOTLYENV=window.PLOTLYENV || {};window.PLOTLYENV.BASE_URL=\"https://plot.ly\";Plotly.newPlot(\"7f44e810-480d-456a-b85a-fd0bf68367fb\", [{\"marker\": {\"color\": \"rgb(158,202,225)\", \"line\": {\"color\": \"rgb(8,48,107)\", \"width\": 1.5}}, \"opacity\": 0.6, \"orientation\": \"h\", \"text\": [0.1452, 0.1353, 0.1281, 0.1159, 0.0703, 0.0689, 0.068, 0.0662, 0.0389, 0.0311, 0.0221, 0.0221, 0.0144, 0.0121, 0.0115, 0.0112, 0.0103, 0.0075, 0.0048, 0.0043, 0.0032, 0.003, 0.0025, 0.0018, 0.0015], \"textposition\": \"outside\", \"x\": [0.14520316011104925, 0.1353191301987141, 0.1280840104414701, 0.11585373849182239, 0.07033580047356032, 0.06888020799357546, 0.06797428337034367, 0.06615794151405471, 0.03888271040184576, 0.03113648980522939, 0.02209121224342882, 0.022057655143802906, 0.014449352430869445, 0.012059337433295191, 0.011452844790755236, 0.011208789987434981, 0.010296576356267094, 0.007465222934252216, 0.004808469085179409, 0.00430502561608311, 0.003201111976160629, 0.0029632172424016003, 0.002547558697985831, 0.0017607502254633335, 0.001505403034955085], \"y\": [\"replace + script_count\", \"substring + script_count\", \"charAt + script_count\", \"a_count + div_count\", \"decodeURIComponent + script_count\", \"unescape + script_count\", \"exec + script_count\", \"window.addEventListener + script_count\", \"script_count + style_count\", \"script_src_out_of_domain + script_type_text/javascript\", \"document.createElement + script_count\", \"script_src_out_of_domain / script_count\", \"iframe_count + script_count\", \"iframe_src_relative + script_count\", \"meta_http-equiv_X-UA-Compatible + script_count\", \"encodeURIComponent + script_count\", \"escape + script_count\", \"parseInt + script_count\", \"meta_http-equiv_refresh + script_count\", \"String.fromCharCode + script_count\", \"search + script_count\", \"link + script_count\", \"window.setInterval + script_count\", \"image_count + script_count\", \"charCodeAt + script_count\"], \"type\": \"bar\", \"uid\": \"b416f005-d802-4c96-b6a5-d64a7409d6c4\"}], {\"autosize\": false, \"height\": 1000, \"width\": 1000, \"xaxis\": {\"tickfont\": {\"color\": \"black\", \"size\": 12}, \"title\": \"Feature Importances\"}, \"yaxis\": {\"automargin\": true}}, {\"showLink\": true, \"linkText\": \"Export to plot.ly\", \"plotlyServerURL\": \"https://plot.ly\"})});</script>"
      ]
     },
     "metadata": {},
     "output_type": "display_data"
    },
    {
     "name": "stdout",
     "output_type": "stream",
     "text": [
      "\n",
      "\n",
      "\u001b[1mAdaoost Classifier\u001b[0m\n",
      "Accuracy of the model for training data is: 0.871710627322\n",
      "Confusion Matrix for training data is:\n"
     ]
    },
    {
     "data": {
      "text/plain": [
       "Predicted  False  True  __all__\n",
       "Actual                         \n",
       "False      24421  3417    27838\n",
       "True         761  3968     4729\n",
       "__all__    25182  7385    32567"
      ]
     },
     "metadata": {},
     "output_type": "display_data"
    },
    {
     "name": "stdout",
     "output_type": "stream",
     "text": [
      "Accuracy of the model for test data is: 0.873004175878\n",
      "Confusion Matrix for test data is:\n"
     ]
    },
    {
     "data": {
      "text/plain": [
       "Predicted  False  True  __all__\n",
       "Actual                         \n",
       "False       6097   843     6940\n",
       "True         191  1011     1202\n",
       "__all__     6288  1854     8142"
      ]
     },
     "metadata": {},
     "output_type": "display_data"
    },
    {
     "data": {
      "application/vnd.plotly.v1+json": {
       "config": {
        "linkText": "Export to plot.ly",
        "plotlyServerURL": "https://plot.ly",
        "showLink": true
       },
       "data": [
        {
         "marker": {
          "color": "rgb(158,202,225)",
          "line": {
           "color": "rgb(8,48,107)",
           "width": 1.5
          }
         },
         "opacity": 0.6,
         "orientation": "h",
         "text": [
          0.32,
          0.16,
          0.16,
          0.1,
          0.1,
          0.08,
          0.04,
          0.02,
          0.02,
          0,
          0,
          0,
          0,
          0,
          0,
          0,
          0,
          0,
          0,
          0,
          0,
          0,
          0,
          0,
          0
         ],
         "textposition": "outside",
         "type": "bar",
         "uid": "c2d54fdf-d879-4c52-b94c-c15ae93523d2",
         "x": [
          0.32,
          0.16,
          0.16,
          0.1,
          0.1,
          0.08,
          0.04,
          0.02,
          0.02,
          0,
          0,
          0,
          0,
          0,
          0,
          0,
          0,
          0,
          0,
          0,
          0,
          0,
          0,
          0,
          0
         ],
         "y": [
          "a_count + div_count",
          "script_src_out_of_domain + script_type_text/javascript",
          "script_src_out_of_domain / script_count",
          "script_count + style_count",
          "replace + script_count",
          "document.createElement + script_count",
          "iframe_count + script_count",
          "iframe_src_relative + script_count",
          "charCodeAt + script_count",
          "meta_http-equiv_refresh + script_count",
          "exec + script_count",
          "window.addEventListener + script_count",
          "window.setInterval + script_count",
          "image_count + script_count",
          "charAt + script_count",
          "link + script_count",
          "meta_http-equiv_X-UA-Compatible + script_count",
          "substring + script_count",
          "String.fromCharCode + script_count",
          "decodeURIComponent + script_count",
          "encodeURIComponent + script_count",
          "escape + script_count",
          "parseInt + script_count",
          "unescape + script_count",
          "search + script_count"
         ]
        }
       ],
       "layout": {
        "autosize": false,
        "height": 1000,
        "width": 1000,
        "xaxis": {
         "tickfont": {
          "color": "black",
          "size": 12
         },
         "title": "Feature Importances"
        },
        "yaxis": {
         "automargin": true
        }
       }
      },
      "text/html": [
       "<div id=\"8a12d5ec-ed79-4929-b284-8d25a526161d\" style=\"height: 1000px; width: 1000px;\" class=\"plotly-graph-div\"></div><script type=\"text/javascript\">require([\"plotly\"], function(Plotly) { window.PLOTLYENV=window.PLOTLYENV || {};window.PLOTLYENV.BASE_URL=\"https://plot.ly\";Plotly.newPlot(\"8a12d5ec-ed79-4929-b284-8d25a526161d\", [{\"marker\": {\"color\": \"rgb(158,202,225)\", \"line\": {\"color\": \"rgb(8,48,107)\", \"width\": 1.5}}, \"opacity\": 0.6, \"orientation\": \"h\", \"text\": [0.32, 0.16, 0.16, 0.1, 0.1, 0.08, 0.04, 0.02, 0.02, 0.0, 0.0, 0.0, 0.0, 0.0, 0.0, 0.0, 0.0, 0.0, 0.0, 0.0, 0.0, 0.0, 0.0, 0.0, 0.0], \"textposition\": \"outside\", \"x\": [0.32, 0.16, 0.16, 0.1, 0.1, 0.08, 0.04, 0.02, 0.02, 0.0, 0.0, 0.0, 0.0, 0.0, 0.0, 0.0, 0.0, 0.0, 0.0, 0.0, 0.0, 0.0, 0.0, 0.0, 0.0], \"y\": [\"a_count + div_count\", \"script_src_out_of_domain + script_type_text/javascript\", \"script_src_out_of_domain / script_count\", \"script_count + style_count\", \"replace + script_count\", \"document.createElement + script_count\", \"iframe_count + script_count\", \"iframe_src_relative + script_count\", \"charCodeAt + script_count\", \"meta_http-equiv_refresh + script_count\", \"exec + script_count\", \"window.addEventListener + script_count\", \"window.setInterval + script_count\", \"image_count + script_count\", \"charAt + script_count\", \"link + script_count\", \"meta_http-equiv_X-UA-Compatible + script_count\", \"substring + script_count\", \"String.fromCharCode + script_count\", \"decodeURIComponent + script_count\", \"encodeURIComponent + script_count\", \"escape + script_count\", \"parseInt + script_count\", \"unescape + script_count\", \"search + script_count\"], \"type\": \"bar\", \"uid\": \"c2d54fdf-d879-4c52-b94c-c15ae93523d2\"}], {\"autosize\": false, \"height\": 1000, \"width\": 1000, \"xaxis\": {\"tickfont\": {\"color\": \"black\", \"size\": 12}, \"title\": \"Feature Importances\"}, \"yaxis\": {\"automargin\": true}}, {\"showLink\": true, \"linkText\": \"Export to plot.ly\", \"plotlyServerURL\": \"https://plot.ly\"})});</script>"
      ],
      "text/vnd.plotly.v1+html": [
       "<div id=\"8a12d5ec-ed79-4929-b284-8d25a526161d\" style=\"height: 1000px; width: 1000px;\" class=\"plotly-graph-div\"></div><script type=\"text/javascript\">require([\"plotly\"], function(Plotly) { window.PLOTLYENV=window.PLOTLYENV || {};window.PLOTLYENV.BASE_URL=\"https://plot.ly\";Plotly.newPlot(\"8a12d5ec-ed79-4929-b284-8d25a526161d\", [{\"marker\": {\"color\": \"rgb(158,202,225)\", \"line\": {\"color\": \"rgb(8,48,107)\", \"width\": 1.5}}, \"opacity\": 0.6, \"orientation\": \"h\", \"text\": [0.32, 0.16, 0.16, 0.1, 0.1, 0.08, 0.04, 0.02, 0.02, 0.0, 0.0, 0.0, 0.0, 0.0, 0.0, 0.0, 0.0, 0.0, 0.0, 0.0, 0.0, 0.0, 0.0, 0.0, 0.0], \"textposition\": \"outside\", \"x\": [0.32, 0.16, 0.16, 0.1, 0.1, 0.08, 0.04, 0.02, 0.02, 0.0, 0.0, 0.0, 0.0, 0.0, 0.0, 0.0, 0.0, 0.0, 0.0, 0.0, 0.0, 0.0, 0.0, 0.0, 0.0], \"y\": [\"a_count + div_count\", \"script_src_out_of_domain + script_type_text/javascript\", \"script_src_out_of_domain / script_count\", \"script_count + style_count\", \"replace + script_count\", \"document.createElement + script_count\", \"iframe_count + script_count\", \"iframe_src_relative + script_count\", \"charCodeAt + script_count\", \"meta_http-equiv_refresh + script_count\", \"exec + script_count\", \"window.addEventListener + script_count\", \"window.setInterval + script_count\", \"image_count + script_count\", \"charAt + script_count\", \"link + script_count\", \"meta_http-equiv_X-UA-Compatible + script_count\", \"substring + script_count\", \"String.fromCharCode + script_count\", \"decodeURIComponent + script_count\", \"encodeURIComponent + script_count\", \"escape + script_count\", \"parseInt + script_count\", \"unescape + script_count\", \"search + script_count\"], \"type\": \"bar\", \"uid\": \"c2d54fdf-d879-4c52-b94c-c15ae93523d2\"}], {\"autosize\": false, \"height\": 1000, \"width\": 1000, \"xaxis\": {\"tickfont\": {\"color\": \"black\", \"size\": 12}, \"title\": \"Feature Importances\"}, \"yaxis\": {\"automargin\": true}}, {\"showLink\": true, \"linkText\": \"Export to plot.ly\", \"plotlyServerURL\": \"https://plot.ly\"})});</script>"
      ]
     },
     "metadata": {},
     "output_type": "display_data"
    },
    {
     "name": "stdout",
     "output_type": "stream",
     "text": [
      "\n",
      "\n",
      "\u001b[1mGradientBoosting Classifier\u001b[0m\n",
      "Accuracy of the model for training data is: 0.890533361992\n",
      "Confusion Matrix for training data is:\n"
     ]
    },
    {
     "data": {
      "text/plain": [
       "Predicted  False  True  __all__\n",
       "Actual                         \n",
       "False      24955  2883    27838\n",
       "True         682  4047     4729\n",
       "__all__    25637  6930    32567"
      ]
     },
     "metadata": {},
     "output_type": "display_data"
    },
    {
     "name": "stdout",
     "output_type": "stream",
     "text": [
      "Accuracy of the model for test data is: 0.890444608204\n",
      "Confusion Matrix for test data is:\n"
     ]
    },
    {
     "data": {
      "text/plain": [
       "Predicted  False  True  __all__\n",
       "Actual                         \n",
       "False       6224   716     6940\n",
       "True         176  1026     1202\n",
       "__all__     6400  1742     8142"
      ]
     },
     "metadata": {},
     "output_type": "display_data"
    },
    {
     "data": {
      "application/vnd.plotly.v1+json": {
       "config": {
        "linkText": "Export to plot.ly",
        "plotlyServerURL": "https://plot.ly",
        "showLink": true
       },
       "data": [
        {
         "marker": {
          "color": "rgb(158,202,225)",
          "line": {
           "color": "rgb(8,48,107)",
           "width": 1.5
          }
         },
         "opacity": 0.6,
         "orientation": "h",
         "text": [
          0.4173,
          0.314,
          0.1191,
          0.0932,
          0.0156,
          0.0141,
          0.0064,
          0.0044,
          0.0036,
          0.0032,
          0.0021,
          0.0018,
          0.0016,
          0.0016,
          0.0006,
          0.0005,
          0.0002,
          0.0002,
          0.0002,
          0.0001,
          0.0001,
          0,
          0,
          0,
          0
         ],
         "textposition": "outside",
         "type": "bar",
         "uid": "ed2df154-927d-4064-bf5e-090545f79f94",
         "x": [
          0.41733770501539164,
          0.31404430960714075,
          0.11912343391451133,
          0.09316410807662207,
          0.01564325080990329,
          0.014073877580857217,
          0.006407287095361615,
          0.004449634971785439,
          0.003569646434585815,
          0.003225427978679162,
          0.0020874016164301114,
          0.00175025851801325,
          0.0016493570370422219,
          0.0016015060408189963,
          0.0005619018724049247,
          0.0005136630908779812,
          0.00022474273218776674,
          0.000206227021955354,
          0.00020278560940103552,
          7.684195531335835e-05,
          5.621772175489629e-05,
          1.708063657369306e-05,
          1.3334662388114495e-05,
          0,
          0
         ],
         "y": [
          "replace + script_count",
          "document.createElement + script_count",
          "a_count + div_count",
          "substring + script_count",
          "script_count + style_count",
          "script_src_out_of_domain / script_count",
          "script_src_out_of_domain + script_type_text/javascript",
          "iframe_src_relative + script_count",
          "unescape + script_count",
          "iframe_count + script_count",
          "encodeURIComponent + script_count",
          "escape + script_count",
          "parseInt + script_count",
          "meta_http-equiv_X-UA-Compatible + script_count",
          "meta_http-equiv_refresh + script_count",
          "decodeURIComponent + script_count",
          "window.addEventListener + script_count",
          "charAt + script_count",
          "String.fromCharCode + script_count",
          "exec + script_count",
          "window.setInterval + script_count",
          "link + script_count",
          "search + script_count",
          "image_count + script_count",
          "charCodeAt + script_count"
         ]
        }
       ],
       "layout": {
        "autosize": false,
        "height": 1000,
        "width": 1000,
        "xaxis": {
         "tickfont": {
          "color": "black",
          "size": 12
         },
         "title": "Feature Importances"
        },
        "yaxis": {
         "automargin": true
        }
       }
      },
      "text/html": [
       "<div id=\"8511aaf2-b8e6-4d4f-b26a-1d26a5e38dcc\" style=\"height: 1000px; width: 1000px;\" class=\"plotly-graph-div\"></div><script type=\"text/javascript\">require([\"plotly\"], function(Plotly) { window.PLOTLYENV=window.PLOTLYENV || {};window.PLOTLYENV.BASE_URL=\"https://plot.ly\";Plotly.newPlot(\"8511aaf2-b8e6-4d4f-b26a-1d26a5e38dcc\", [{\"marker\": {\"color\": \"rgb(158,202,225)\", \"line\": {\"color\": \"rgb(8,48,107)\", \"width\": 1.5}}, \"opacity\": 0.6, \"orientation\": \"h\", \"text\": [0.4173, 0.314, 0.1191, 0.0932, 0.0156, 0.0141, 0.0064, 0.0044, 0.0036, 0.0032, 0.0021, 0.0018, 0.0016, 0.0016, 0.0006, 0.0005, 0.0002, 0.0002, 0.0002, 0.0001, 0.0001, 0.0, 0.0, 0.0, 0.0], \"textposition\": \"outside\", \"x\": [0.41733770501539164, 0.31404430960714075, 0.11912343391451133, 0.09316410807662207, 0.01564325080990329, 0.014073877580857217, 0.006407287095361615, 0.004449634971785439, 0.003569646434585815, 0.003225427978679162, 0.0020874016164301114, 0.00175025851801325, 0.0016493570370422219, 0.0016015060408189963, 0.0005619018724049247, 0.0005136630908779812, 0.00022474273218776674, 0.000206227021955354, 0.00020278560940103552, 7.684195531335835e-05, 5.621772175489629e-05, 1.708063657369306e-05, 1.3334662388114495e-05, 0.0, 0.0], \"y\": [\"replace + script_count\", \"document.createElement + script_count\", \"a_count + div_count\", \"substring + script_count\", \"script_count + style_count\", \"script_src_out_of_domain / script_count\", \"script_src_out_of_domain + script_type_text/javascript\", \"iframe_src_relative + script_count\", \"unescape + script_count\", \"iframe_count + script_count\", \"encodeURIComponent + script_count\", \"escape + script_count\", \"parseInt + script_count\", \"meta_http-equiv_X-UA-Compatible + script_count\", \"meta_http-equiv_refresh + script_count\", \"decodeURIComponent + script_count\", \"window.addEventListener + script_count\", \"charAt + script_count\", \"String.fromCharCode + script_count\", \"exec + script_count\", \"window.setInterval + script_count\", \"link + script_count\", \"search + script_count\", \"image_count + script_count\", \"charCodeAt + script_count\"], \"type\": \"bar\", \"uid\": \"ed2df154-927d-4064-bf5e-090545f79f94\"}], {\"autosize\": false, \"height\": 1000, \"width\": 1000, \"xaxis\": {\"tickfont\": {\"color\": \"black\", \"size\": 12}, \"title\": \"Feature Importances\"}, \"yaxis\": {\"automargin\": true}}, {\"showLink\": true, \"linkText\": \"Export to plot.ly\", \"plotlyServerURL\": \"https://plot.ly\"})});</script>"
      ],
      "text/vnd.plotly.v1+html": [
       "<div id=\"8511aaf2-b8e6-4d4f-b26a-1d26a5e38dcc\" style=\"height: 1000px; width: 1000px;\" class=\"plotly-graph-div\"></div><script type=\"text/javascript\">require([\"plotly\"], function(Plotly) { window.PLOTLYENV=window.PLOTLYENV || {};window.PLOTLYENV.BASE_URL=\"https://plot.ly\";Plotly.newPlot(\"8511aaf2-b8e6-4d4f-b26a-1d26a5e38dcc\", [{\"marker\": {\"color\": \"rgb(158,202,225)\", \"line\": {\"color\": \"rgb(8,48,107)\", \"width\": 1.5}}, \"opacity\": 0.6, \"orientation\": \"h\", \"text\": [0.4173, 0.314, 0.1191, 0.0932, 0.0156, 0.0141, 0.0064, 0.0044, 0.0036, 0.0032, 0.0021, 0.0018, 0.0016, 0.0016, 0.0006, 0.0005, 0.0002, 0.0002, 0.0002, 0.0001, 0.0001, 0.0, 0.0, 0.0, 0.0], \"textposition\": \"outside\", \"x\": [0.41733770501539164, 0.31404430960714075, 0.11912343391451133, 0.09316410807662207, 0.01564325080990329, 0.014073877580857217, 0.006407287095361615, 0.004449634971785439, 0.003569646434585815, 0.003225427978679162, 0.0020874016164301114, 0.00175025851801325, 0.0016493570370422219, 0.0016015060408189963, 0.0005619018724049247, 0.0005136630908779812, 0.00022474273218776674, 0.000206227021955354, 0.00020278560940103552, 7.684195531335835e-05, 5.621772175489629e-05, 1.708063657369306e-05, 1.3334662388114495e-05, 0.0, 0.0], \"y\": [\"replace + script_count\", \"document.createElement + script_count\", \"a_count + div_count\", \"substring + script_count\", \"script_count + style_count\", \"script_src_out_of_domain / script_count\", \"script_src_out_of_domain + script_type_text/javascript\", \"iframe_src_relative + script_count\", \"unescape + script_count\", \"iframe_count + script_count\", \"encodeURIComponent + script_count\", \"escape + script_count\", \"parseInt + script_count\", \"meta_http-equiv_X-UA-Compatible + script_count\", \"meta_http-equiv_refresh + script_count\", \"decodeURIComponent + script_count\", \"window.addEventListener + script_count\", \"charAt + script_count\", \"String.fromCharCode + script_count\", \"exec + script_count\", \"window.setInterval + script_count\", \"link + script_count\", \"search + script_count\", \"image_count + script_count\", \"charCodeAt + script_count\"], \"type\": \"bar\", \"uid\": \"ed2df154-927d-4064-bf5e-090545f79f94\"}], {\"autosize\": false, \"height\": 1000, \"width\": 1000, \"xaxis\": {\"tickfont\": {\"color\": \"black\", \"size\": 12}, \"title\": \"Feature Importances\"}, \"yaxis\": {\"automargin\": true}}, {\"showLink\": true, \"linkText\": \"Export to plot.ly\", \"plotlyServerURL\": \"https://plot.ly\"})});</script>"
      ]
     },
     "metadata": {},
     "output_type": "display_data"
    },
    {
     "name": "stdout",
     "output_type": "stream",
     "text": [
      "\n",
      "\n",
      "\u001b[1mExtraTree Classifier\u001b[0m\n",
      "Accuracy of the model for training data is: 0.906131974084\n",
      "Confusion Matrix for training data is:\n"
     ]
    },
    {
     "data": {
      "text/plain": [
       "Predicted  False  True  __all__\n",
       "Actual                         \n",
       "False      24923  2915    27838\n",
       "True         142  4587     4729\n",
       "__all__    25065  7502    32567"
      ]
     },
     "metadata": {},
     "output_type": "display_data"
    },
    {
     "name": "stdout",
     "output_type": "stream",
     "text": [
      "Accuracy of the model for test data is: 0.89179562761\n",
      "Confusion Matrix for test data is:\n"
     ]
    },
    {
     "data": {
      "text/plain": [
       "Predicted  False  True  __all__\n",
       "Actual                         \n",
       "False       6190   750     6940\n",
       "True         131  1071     1202\n",
       "__all__     6321  1821     8142"
      ]
     },
     "metadata": {},
     "output_type": "display_data"
    },
    {
     "data": {
      "application/vnd.plotly.v1+json": {
       "config": {
        "linkText": "Export to plot.ly",
        "plotlyServerURL": "https://plot.ly",
        "showLink": true
       },
       "data": [
        {
         "marker": {
          "color": "rgb(158,202,225)",
          "line": {
           "color": "rgb(8,48,107)",
           "width": 1.5
          }
         },
         "opacity": 0.6,
         "orientation": "h",
         "text": [
          0.0993,
          0.0857,
          0.0837,
          0.0828,
          0.0757,
          0.0695,
          0.0628,
          0.0583,
          0.0467,
          0.0455,
          0.0403,
          0.0336,
          0.0313,
          0.0268,
          0.0262,
          0.0222,
          0.0216,
          0.0173,
          0.017,
          0.0162,
          0.0129,
          0.0099,
          0.0076,
          0.0037,
          0.0033
         ],
         "textposition": "outside",
         "type": "bar",
         "uid": "ddb4e39d-d199-46a8-8de0-9bc12a24e0ef",
         "x": [
          0.0992566750482784,
          0.08565641013857972,
          0.08373802903528338,
          0.08277126977419187,
          0.07566511051536029,
          0.06950932372169792,
          0.06282454737419271,
          0.058328045876301436,
          0.04666049676914109,
          0.045531494169975775,
          0.040270736216336825,
          0.03363859151501564,
          0.03132887058997054,
          0.02684365993992474,
          0.026215872185775667,
          0.022167701572896593,
          0.021636908058487118,
          0.017337612145859813,
          0.017002891583567447,
          0.01621061649079063,
          0.012923851979713408,
          0.009869565988069191,
          0.007569914207526979,
          0.0037149598485414085,
          0.003326845254521417
         ],
         "y": [
          "script_count + style_count",
          "String.fromCharCode + script_count",
          "a_count + div_count",
          "document.createElement + script_count",
          "meta_http-equiv_refresh + script_count",
          "image_count + script_count",
          "charCodeAt + script_count",
          "script_src_out_of_domain / script_count",
          "parseInt + script_count",
          "unescape + script_count",
          "script_src_out_of_domain + script_type_text/javascript",
          "iframe_src_relative + script_count",
          "substring + script_count",
          "link + script_count",
          "escape + script_count",
          "replace + script_count",
          "decodeURIComponent + script_count",
          "iframe_count + script_count",
          "exec + script_count",
          "meta_http-equiv_X-UA-Compatible + script_count",
          "window.setInterval + script_count",
          "encodeURIComponent + script_count",
          "window.addEventListener + script_count",
          "charAt + script_count",
          "search + script_count"
         ]
        }
       ],
       "layout": {
        "autosize": false,
        "height": 1000,
        "width": 1000,
        "xaxis": {
         "tickfont": {
          "color": "black",
          "size": 12
         },
         "title": "Feature Importances"
        },
        "yaxis": {
         "automargin": true
        }
       }
      },
      "text/html": [
       "<div id=\"50ffc17b-64a3-401b-b5cb-0761f477a3fc\" style=\"height: 1000px; width: 1000px;\" class=\"plotly-graph-div\"></div><script type=\"text/javascript\">require([\"plotly\"], function(Plotly) { window.PLOTLYENV=window.PLOTLYENV || {};window.PLOTLYENV.BASE_URL=\"https://plot.ly\";Plotly.newPlot(\"50ffc17b-64a3-401b-b5cb-0761f477a3fc\", [{\"marker\": {\"color\": \"rgb(158,202,225)\", \"line\": {\"color\": \"rgb(8,48,107)\", \"width\": 1.5}}, \"opacity\": 0.6, \"orientation\": \"h\", \"text\": [0.0993, 0.0857, 0.0837, 0.0828, 0.0757, 0.0695, 0.0628, 0.0583, 0.0467, 0.0455, 0.0403, 0.0336, 0.0313, 0.0268, 0.0262, 0.0222, 0.0216, 0.0173, 0.017, 0.0162, 0.0129, 0.0099, 0.0076, 0.0037, 0.0033], \"textposition\": \"outside\", \"x\": [0.0992566750482784, 0.08565641013857972, 0.08373802903528338, 0.08277126977419187, 0.07566511051536029, 0.06950932372169792, 0.06282454737419271, 0.058328045876301436, 0.04666049676914109, 0.045531494169975775, 0.040270736216336825, 0.03363859151501564, 0.03132887058997054, 0.02684365993992474, 0.026215872185775667, 0.022167701572896593, 0.021636908058487118, 0.017337612145859813, 0.017002891583567447, 0.01621061649079063, 0.012923851979713408, 0.009869565988069191, 0.007569914207526979, 0.0037149598485414085, 0.003326845254521417], \"y\": [\"script_count + style_count\", \"String.fromCharCode + script_count\", \"a_count + div_count\", \"document.createElement + script_count\", \"meta_http-equiv_refresh + script_count\", \"image_count + script_count\", \"charCodeAt + script_count\", \"script_src_out_of_domain / script_count\", \"parseInt + script_count\", \"unescape + script_count\", \"script_src_out_of_domain + script_type_text/javascript\", \"iframe_src_relative + script_count\", \"substring + script_count\", \"link + script_count\", \"escape + script_count\", \"replace + script_count\", \"decodeURIComponent + script_count\", \"iframe_count + script_count\", \"exec + script_count\", \"meta_http-equiv_X-UA-Compatible + script_count\", \"window.setInterval + script_count\", \"encodeURIComponent + script_count\", \"window.addEventListener + script_count\", \"charAt + script_count\", \"search + script_count\"], \"type\": \"bar\", \"uid\": \"ddb4e39d-d199-46a8-8de0-9bc12a24e0ef\"}], {\"autosize\": false, \"height\": 1000, \"width\": 1000, \"xaxis\": {\"tickfont\": {\"color\": \"black\", \"size\": 12}, \"title\": \"Feature Importances\"}, \"yaxis\": {\"automargin\": true}}, {\"showLink\": true, \"linkText\": \"Export to plot.ly\", \"plotlyServerURL\": \"https://plot.ly\"})});</script>"
      ],
      "text/vnd.plotly.v1+html": [
       "<div id=\"50ffc17b-64a3-401b-b5cb-0761f477a3fc\" style=\"height: 1000px; width: 1000px;\" class=\"plotly-graph-div\"></div><script type=\"text/javascript\">require([\"plotly\"], function(Plotly) { window.PLOTLYENV=window.PLOTLYENV || {};window.PLOTLYENV.BASE_URL=\"https://plot.ly\";Plotly.newPlot(\"50ffc17b-64a3-401b-b5cb-0761f477a3fc\", [{\"marker\": {\"color\": \"rgb(158,202,225)\", \"line\": {\"color\": \"rgb(8,48,107)\", \"width\": 1.5}}, \"opacity\": 0.6, \"orientation\": \"h\", \"text\": [0.0993, 0.0857, 0.0837, 0.0828, 0.0757, 0.0695, 0.0628, 0.0583, 0.0467, 0.0455, 0.0403, 0.0336, 0.0313, 0.0268, 0.0262, 0.0222, 0.0216, 0.0173, 0.017, 0.0162, 0.0129, 0.0099, 0.0076, 0.0037, 0.0033], \"textposition\": \"outside\", \"x\": [0.0992566750482784, 0.08565641013857972, 0.08373802903528338, 0.08277126977419187, 0.07566511051536029, 0.06950932372169792, 0.06282454737419271, 0.058328045876301436, 0.04666049676914109, 0.045531494169975775, 0.040270736216336825, 0.03363859151501564, 0.03132887058997054, 0.02684365993992474, 0.026215872185775667, 0.022167701572896593, 0.021636908058487118, 0.017337612145859813, 0.017002891583567447, 0.01621061649079063, 0.012923851979713408, 0.009869565988069191, 0.007569914207526979, 0.0037149598485414085, 0.003326845254521417], \"y\": [\"script_count + style_count\", \"String.fromCharCode + script_count\", \"a_count + div_count\", \"document.createElement + script_count\", \"meta_http-equiv_refresh + script_count\", \"image_count + script_count\", \"charCodeAt + script_count\", \"script_src_out_of_domain / script_count\", \"parseInt + script_count\", \"unescape + script_count\", \"script_src_out_of_domain + script_type_text/javascript\", \"iframe_src_relative + script_count\", \"substring + script_count\", \"link + script_count\", \"escape + script_count\", \"replace + script_count\", \"decodeURIComponent + script_count\", \"iframe_count + script_count\", \"exec + script_count\", \"meta_http-equiv_X-UA-Compatible + script_count\", \"window.setInterval + script_count\", \"encodeURIComponent + script_count\", \"window.addEventListener + script_count\", \"charAt + script_count\", \"search + script_count\"], \"type\": \"bar\", \"uid\": \"ddb4e39d-d199-46a8-8de0-9bc12a24e0ef\"}], {\"autosize\": false, \"height\": 1000, \"width\": 1000, \"xaxis\": {\"tickfont\": {\"color\": \"black\", \"size\": 12}, \"title\": \"Feature Importances\"}, \"yaxis\": {\"automargin\": true}}, {\"showLink\": true, \"linkText\": \"Export to plot.ly\", \"plotlyServerURL\": \"https://plot.ly\"})});</script>"
      ]
     },
     "metadata": {},
     "output_type": "display_data"
    },
    {
     "name": "stdout",
     "output_type": "stream",
     "text": [
      "\n",
      "\n",
      "\u001b[1mBagging Classifier\u001b[0m\n",
      "Accuracy of the model for training data is: 0.904105382749\n",
      "Confusion Matrix for training data is:\n"
     ]
    },
    {
     "data": {
      "text/plain": [
       "Predicted  False  True  __all__\n",
       "Actual                         \n",
       "False      24905  2933    27838\n",
       "True         190  4539     4729\n",
       "__all__    25095  7472    32567"
      ]
     },
     "metadata": {},
     "output_type": "display_data"
    },
    {
     "name": "stdout",
     "output_type": "stream",
     "text": [
      "Accuracy of the model for test data is: 0.89240972734\n",
      "Confusion Matrix for test data is:\n"
     ]
    },
    {
     "data": {
      "text/plain": [
       "Predicted  False  True  __all__\n",
       "Actual                         \n",
       "False       6184   756     6940\n",
       "True         120  1082     1202\n",
       "__all__     6304  1838     8142"
      ]
     },
     "metadata": {},
     "output_type": "display_data"
    },
    {
     "name": "stdout",
     "output_type": "stream",
     "text": [
      "\n",
      "\n",
      "\u001b[1mNeural Network-1\u001b[0m\n",
      "The accuracy of the model on training data is: 0.857278840524\n"
     ]
    },
    {
     "data": {
      "text/plain": [
       "Predicted  False  True  __all__\n",
       "Actual                         \n",
       "False      27806    32    27838\n",
       "True        4616   113     4729\n",
       "__all__    32422   145    32567"
      ]
     },
     "metadata": {},
     "output_type": "display_data"
    },
    {
     "name": "stdout",
     "output_type": "stream",
     "text": [
      "The accuracy of the model on test data is: 0.854581183984\n"
     ]
    },
    {
     "data": {
      "text/plain": [
       "Predicted  False  True  __all__\n",
       "Actual                         \n",
       "False       6934     6     6940\n",
       "True        1178    24     1202\n",
       "__all__     8112    30     8142"
      ]
     },
     "metadata": {},
     "output_type": "display_data"
    },
    {
     "name": "stdout",
     "output_type": "stream",
     "text": [
      "\n",
      "\n"
     ]
    }
   ],
   "source": [
    "feat_imp=[None]*4\n",
    "j=0\n",
    "for i in range(0,8):\n",
    "    if i>=2 and i<=5:\n",
    "        model,cm_train,cm_test,acc_train,acc_test,roc_auc,feat_imp[j],mcc=f[i](scaled_X_train,train_Y,scaled_X_test,test_Y,feature_name)\n",
    "        j=j+1\n",
    "    else:\n",
    "        model,cm_train,cm_test,acc_train,acc_test,roc_auc,mcc=f[i](scaled_X_train,train_Y,scaled_X_test,test_Y)\n",
    "    table_80_60_train.loc[i]=   ([acc_train,cm_train.TP,cm_train.TN,cm_train.FP,cm_train.FN,cm_train.FPR,cm_train.FNR])\n",
    "    table_80_60_test.loc[i] =   ([acc_test ,cm_test.TP, cm_test.TN, cm_test.FP, cm_test.FN, cm_test.FPR, cm_test.FNR,roc_auc,mcc])\n",
    "    print(\"\\n\")"
   ]
  },
  {
   "cell_type": "markdown",
   "metadata": {},
   "source": [
    "### <a id='4.A' style=\"text-decoration : none; color : #000000;\"> A. Results</a>"
   ]
  },
  {
   "cell_type": "code",
   "execution_count": 53,
   "metadata": {},
   "outputs": [
    {
     "data": {
      "application/vnd.plotly.v1+json": {
       "config": {
        "linkText": "Export to plot.ly",
        "plotlyServerURL": "https://plot.ly",
        "showLink": true
       },
       "data": [
        {
         "mode": "lines",
         "name": "KNN_model",
         "type": "scatter",
         "uid": "01c9ab1a-53c0-4e25-87fa-d19c9293494f",
         "x": [
          "accuracy",
          "FPR",
          "FNR",
          "auc"
         ],
         "y": [
          0.8619503807418325,
          0.009365994236311239,
          0.8810316139767055,
          0.5548011958934915
         ]
        },
        {
         "mode": "lines+markers",
         "name": "Logistic Regression",
         "type": "scatter",
         "uid": "9d242734-066b-4762-ac18-92952626858b",
         "x": [
          "accuracy",
          "FPR",
          "FNR",
          "auc"
         ],
         "y": [
          0.8811102923114714,
          0.10360230547550432,
          0.20715474209650583,
          0.844621476213995
         ]
        },
        {
         "marker": {
          "symbol": "x"
         },
         "mode": "lines+markers",
         "name": "Random Forest",
         "type": "scatter",
         "uid": "0408ebb2-0019-4a6e-b1c2-e1e42f2dea09",
         "x": [
          "accuracy",
          "FPR",
          "FNR",
          "auc"
         ],
         "y": [
          0.8927781871775976,
          0.10720461095100864,
          0.10732113144758736,
          0.892737128800702
         ]
        },
        {
         "mode": "lines",
         "name": "Ada Boost",
         "type": "scatter",
         "uid": "3933c772-811f-4bf3-b1dc-75565218b25f",
         "x": [
          "accuracy",
          "FPR",
          "FNR",
          "auc"
         ],
         "y": [
          0.8730041758781626,
          0.12146974063400576,
          0.1589018302828619,
          0.8598142145415663
         ]
        },
        {
         "mode": "lines+markers",
         "name": "GradientBoosting",
         "type": "scatter",
         "uid": "459ffb12-d836-4649-8fd1-d968af35bf28",
         "x": [
          "accuracy",
          "FPR",
          "FNR",
          "auc"
         ],
         "y": [
          0.8904446082043724,
          0.10317002881844381,
          0.1464226289517471,
          0.8752036711149046
         ]
        },
        {
         "marker": {
          "symbol": "x"
         },
         "mode": "lines+markers",
         "name": "ExtraTree Classifier",
         "type": "scatter",
         "uid": "1ea46ead-adc0-476c-8af5-115635411974",
         "x": [
          "accuracy",
          "FPR",
          "FNR",
          "auc"
         ],
         "y": [
          0.8917956276099238,
          0.10806916426512968,
          0.10898502495840266,
          0.8914729053882339
         ]
        },
        {
         "marker": {
          "symbol": "x"
         },
         "mode": "lines+markers",
         "name": "Bagging",
         "type": "scatter",
         "uid": "e79c9837-d645-4767-8fbd-bad51f3d73da",
         "x": [
          "accuracy",
          "FPR",
          "FNR",
          "auc"
         ],
         "y": [
          0.89240972733972,
          0.10893371757925072,
          0.09983361064891846,
          0.8956163358859154
         ]
        },
        {
         "marker": {
          "symbol": "x"
         },
         "mode": "lines+markers",
         "name": "Neural Network",
         "type": "scatter",
         "uid": "a18e22a0-e201-424f-a21a-479b9d849da6",
         "x": [
          "accuracy",
          "FPR",
          "FNR",
          "auc"
         ],
         "y": [
          0.8545811839842791,
          0.0008645533141210375,
          0.9800332778702163,
          0.8956163358859154
         ]
        }
       ],
       "layout": {
        "title": "Result comparision for Features selected in Section 1",
        "yaxis": {
         "dtick": 0.05,
         "tick0": 0
        }
       }
      },
      "text/html": [
       "<div id=\"bf74160c-9781-4d56-8ccd-8ac27a31bdd4\" style=\"height: 525px; width: 100%;\" class=\"plotly-graph-div\"></div><script type=\"text/javascript\">require([\"plotly\"], function(Plotly) { window.PLOTLYENV=window.PLOTLYENV || {};window.PLOTLYENV.BASE_URL=\"https://plot.ly\";Plotly.newPlot(\"bf74160c-9781-4d56-8ccd-8ac27a31bdd4\", [{\"mode\": \"lines\", \"name\": \"KNN_model\", \"x\": [\"accuracy\", \"FPR\", \"FNR\", \"auc\"], \"y\": [0.8619503807418325, 0.009365994236311239, 0.8810316139767055, 0.5548011958934915], \"type\": \"scatter\", \"uid\": \"01c9ab1a-53c0-4e25-87fa-d19c9293494f\"}, {\"mode\": \"lines+markers\", \"name\": \"Logistic Regression\", \"x\": [\"accuracy\", \"FPR\", \"FNR\", \"auc\"], \"y\": [0.8811102923114714, 0.10360230547550432, 0.20715474209650583, 0.844621476213995], \"type\": \"scatter\", \"uid\": \"9d242734-066b-4762-ac18-92952626858b\"}, {\"marker\": {\"symbol\": \"x\"}, \"mode\": \"lines+markers\", \"name\": \"Random Forest\", \"x\": [\"accuracy\", \"FPR\", \"FNR\", \"auc\"], \"y\": [0.8927781871775976, 0.10720461095100864, 0.10732113144758736, 0.892737128800702], \"type\": \"scatter\", \"uid\": \"0408ebb2-0019-4a6e-b1c2-e1e42f2dea09\"}, {\"mode\": \"lines\", \"name\": \"Ada Boost\", \"x\": [\"accuracy\", \"FPR\", \"FNR\", \"auc\"], \"y\": [0.8730041758781626, 0.12146974063400576, 0.1589018302828619, 0.8598142145415663], \"type\": \"scatter\", \"uid\": \"3933c772-811f-4bf3-b1dc-75565218b25f\"}, {\"mode\": \"lines+markers\", \"name\": \"GradientBoosting\", \"x\": [\"accuracy\", \"FPR\", \"FNR\", \"auc\"], \"y\": [0.8904446082043724, 0.10317002881844381, 0.1464226289517471, 0.8752036711149046], \"type\": \"scatter\", \"uid\": \"459ffb12-d836-4649-8fd1-d968af35bf28\"}, {\"marker\": {\"symbol\": \"x\"}, \"mode\": \"lines+markers\", \"name\": \"ExtraTree Classifier\", \"x\": [\"accuracy\", \"FPR\", \"FNR\", \"auc\"], \"y\": [0.8917956276099238, 0.10806916426512968, 0.10898502495840266, 0.8914729053882339], \"type\": \"scatter\", \"uid\": \"1ea46ead-adc0-476c-8af5-115635411974\"}, {\"marker\": {\"symbol\": \"x\"}, \"mode\": \"lines+markers\", \"name\": \"Bagging\", \"x\": [\"accuracy\", \"FPR\", \"FNR\", \"auc\"], \"y\": [0.89240972733972, 0.10893371757925072, 0.09983361064891846, 0.8956163358859154], \"type\": \"scatter\", \"uid\": \"e79c9837-d645-4767-8fbd-bad51f3d73da\"}, {\"marker\": {\"symbol\": \"x\"}, \"mode\": \"lines+markers\", \"name\": \"Neural Network\", \"x\": [\"accuracy\", \"FPR\", \"FNR\", \"auc\"], \"y\": [0.8545811839842791, 0.0008645533141210375, 0.9800332778702163, 0.8956163358859154], \"type\": \"scatter\", \"uid\": \"a18e22a0-e201-424f-a21a-479b9d849da6\"}], {\"title\": \"Result comparision for Features selected in Section 1\", \"yaxis\": {\"dtick\": 0.05, \"tick0\": 0}}, {\"showLink\": true, \"linkText\": \"Export to plot.ly\", \"plotlyServerURL\": \"https://plot.ly\"})});</script><script type=\"text/javascript\">window.addEventListener(\"resize\", function(){window._Plotly.Plots.resize(document.getElementById(\"bf74160c-9781-4d56-8ccd-8ac27a31bdd4\"));});</script>"
      ],
      "text/vnd.plotly.v1+html": [
       "<div id=\"bf74160c-9781-4d56-8ccd-8ac27a31bdd4\" style=\"height: 525px; width: 100%;\" class=\"plotly-graph-div\"></div><script type=\"text/javascript\">require([\"plotly\"], function(Plotly) { window.PLOTLYENV=window.PLOTLYENV || {};window.PLOTLYENV.BASE_URL=\"https://plot.ly\";Plotly.newPlot(\"bf74160c-9781-4d56-8ccd-8ac27a31bdd4\", [{\"mode\": \"lines\", \"name\": \"KNN_model\", \"x\": [\"accuracy\", \"FPR\", \"FNR\", \"auc\"], \"y\": [0.8619503807418325, 0.009365994236311239, 0.8810316139767055, 0.5548011958934915], \"type\": \"scatter\", \"uid\": \"01c9ab1a-53c0-4e25-87fa-d19c9293494f\"}, {\"mode\": \"lines+markers\", \"name\": \"Logistic Regression\", \"x\": [\"accuracy\", \"FPR\", \"FNR\", \"auc\"], \"y\": [0.8811102923114714, 0.10360230547550432, 0.20715474209650583, 0.844621476213995], \"type\": \"scatter\", \"uid\": \"9d242734-066b-4762-ac18-92952626858b\"}, {\"marker\": {\"symbol\": \"x\"}, \"mode\": \"lines+markers\", \"name\": \"Random Forest\", \"x\": [\"accuracy\", \"FPR\", \"FNR\", \"auc\"], \"y\": [0.8927781871775976, 0.10720461095100864, 0.10732113144758736, 0.892737128800702], \"type\": \"scatter\", \"uid\": \"0408ebb2-0019-4a6e-b1c2-e1e42f2dea09\"}, {\"mode\": \"lines\", \"name\": \"Ada Boost\", \"x\": [\"accuracy\", \"FPR\", \"FNR\", \"auc\"], \"y\": [0.8730041758781626, 0.12146974063400576, 0.1589018302828619, 0.8598142145415663], \"type\": \"scatter\", \"uid\": \"3933c772-811f-4bf3-b1dc-75565218b25f\"}, {\"mode\": \"lines+markers\", \"name\": \"GradientBoosting\", \"x\": [\"accuracy\", \"FPR\", \"FNR\", \"auc\"], \"y\": [0.8904446082043724, 0.10317002881844381, 0.1464226289517471, 0.8752036711149046], \"type\": \"scatter\", \"uid\": \"459ffb12-d836-4649-8fd1-d968af35bf28\"}, {\"marker\": {\"symbol\": \"x\"}, \"mode\": \"lines+markers\", \"name\": \"ExtraTree Classifier\", \"x\": [\"accuracy\", \"FPR\", \"FNR\", \"auc\"], \"y\": [0.8917956276099238, 0.10806916426512968, 0.10898502495840266, 0.8914729053882339], \"type\": \"scatter\", \"uid\": \"1ea46ead-adc0-476c-8af5-115635411974\"}, {\"marker\": {\"symbol\": \"x\"}, \"mode\": \"lines+markers\", \"name\": \"Bagging\", \"x\": [\"accuracy\", \"FPR\", \"FNR\", \"auc\"], \"y\": [0.89240972733972, 0.10893371757925072, 0.09983361064891846, 0.8956163358859154], \"type\": \"scatter\", \"uid\": \"e79c9837-d645-4767-8fbd-bad51f3d73da\"}, {\"marker\": {\"symbol\": \"x\"}, \"mode\": \"lines+markers\", \"name\": \"Neural Network\", \"x\": [\"accuracy\", \"FPR\", \"FNR\", \"auc\"], \"y\": [0.8545811839842791, 0.0008645533141210375, 0.9800332778702163, 0.8956163358859154], \"type\": \"scatter\", \"uid\": \"a18e22a0-e201-424f-a21a-479b9d849da6\"}], {\"title\": \"Result comparision for Features selected in Section 1\", \"yaxis\": {\"dtick\": 0.05, \"tick0\": 0}}, {\"showLink\": true, \"linkText\": \"Export to plot.ly\", \"plotlyServerURL\": \"https://plot.ly\"})});</script><script type=\"text/javascript\">window.addEventListener(\"resize\", function(){window._Plotly.Plots.resize(document.getElementById(\"bf74160c-9781-4d56-8ccd-8ac27a31bdd4\"));});</script>"
      ]
     },
     "metadata": {},
     "output_type": "display_data"
    }
   ],
   "source": [
    "trace0 = go.Scatter(x=table_80_60_test.iloc[0].index.values[[0,5,6,7]],\n",
    "                    y=table_80_60_test.iloc[0].values[[0,5,6,7]],\n",
    "                    mode = 'lines',\n",
    "                    name = 'KNN_model')\n",
    "\n",
    "trace1 = go.Scatter(x=table_80_60_test.iloc[1].index.values[[0,5,6,7]],\n",
    "                    y=table_80_60_test.iloc[1].values[[0,5,6,7]],\n",
    "                    mode = 'lines+markers',\n",
    "                    name = 'Logistic Regression')\n",
    "\n",
    "trace2 = go.Scatter(x=table_80_60_test.iloc[2].index.values[[0,5,6,7]],\n",
    "                    y=table_80_60_test.iloc[2].values[[0,5,6,7]],\n",
    "                    mode = 'lines+markers',marker=dict(symbol='x'),\n",
    "                    name = 'Random Forest')\n",
    "\n",
    "\n",
    "trace3 = go.Scatter(x=table_80_60_test.iloc[3].index.values[[0,5,6,7]],\n",
    "                    y=table_80_60_test.iloc[3].values[[0,5,6,7]],\n",
    "                    mode = 'lines',\n",
    "                    name = 'Ada Boost')\n",
    "\n",
    "trace4 = go.Scatter(x=table_80_60_test.iloc[4].index.values[[0,5,6,7]],\n",
    "                    y=table_80_60_test.iloc[4].values[[0,5,6,7]],\n",
    "                    mode = 'lines+markers',\n",
    "                    name = 'GradientBoosting')\n",
    "\n",
    "trace5 = go.Scatter(x=table_80_60_test.iloc[5].index.values[[0,5,6,7]],\n",
    "                    y=table_80_60_test.iloc[5].values[[0,5,6,7]],\n",
    "                    mode = 'lines+markers',marker=dict(symbol='x'),\n",
    "                    name = 'ExtraTree Classifier')\n",
    "\n",
    "trace6 = go.Scatter(x=table_80_60_test.iloc[6].index.values[[0,5,6,7]],\n",
    "                    y=table_80_60_test.iloc[6].values[[0,5,6,7]],\n",
    "                    mode = 'lines+markers',marker=dict(symbol='x'),\n",
    "                    name = 'Bagging')\n",
    "\n",
    "trace7 = go.Scatter(x=table_80_60_test.iloc[7].index.values[[0,5,6,7]],\n",
    "                    y=table_80_60_test.iloc[7].values[[0,5,6,7]],\n",
    "                    mode = 'lines+markers',marker=dict(symbol='x'),\n",
    "                    name = 'Neural Network')\n",
    "\n",
    "\n",
    "\n",
    "data = [trace0, trace1, trace2, trace3, trace4, trace5, trace6, trace7]\n",
    "layout = go.Layout(yaxis=dict(tick0=0,dtick=0.05),title='Result comparision for Features selected in Section 1')\n",
    "fig = go.Figure(data=data, layout=layout)\n",
    "\n",
    "iplot(fig, filename='Result')"
   ]
  },
  {
   "cell_type": "code",
   "execution_count": 54,
   "metadata": {},
   "outputs": [
    {
     "name": "stdout",
     "output_type": "stream",
     "text": [
      "Training Results\n"
     ]
    },
    {
     "data": {
      "text/html": [
       "<div>\n",
       "<style scoped>\n",
       "    .dataframe tbody tr th:only-of-type {\n",
       "        vertical-align: middle;\n",
       "    }\n",
       "\n",
       "    .dataframe tbody tr th {\n",
       "        vertical-align: top;\n",
       "    }\n",
       "\n",
       "    .dataframe thead th {\n",
       "        text-align: right;\n",
       "    }\n",
       "</style>\n",
       "<table border=\"1\" class=\"dataframe\">\n",
       "  <thead>\n",
       "    <tr style=\"text-align: right;\">\n",
       "      <th></th>\n",
       "      <th>accuracy</th>\n",
       "      <th>TP</th>\n",
       "      <th>TN</th>\n",
       "      <th>FP</th>\n",
       "      <th>FN</th>\n",
       "      <th>FPR</th>\n",
       "      <th>FNR</th>\n",
       "    </tr>\n",
       "    <tr>\n",
       "      <th>index</th>\n",
       "      <th></th>\n",
       "      <th></th>\n",
       "      <th></th>\n",
       "      <th></th>\n",
       "      <th></th>\n",
       "      <th></th>\n",
       "      <th></th>\n",
       "    </tr>\n",
       "  </thead>\n",
       "  <tbody>\n",
       "    <tr>\n",
       "      <th>KNeighborsClassifier</th>\n",
       "      <td>0.868118</td>\n",
       "      <td>659.0</td>\n",
       "      <td>27613.0</td>\n",
       "      <td>225.0</td>\n",
       "      <td>4070.0</td>\n",
       "      <td>0.008082</td>\n",
       "      <td>0.860647</td>\n",
       "    </tr>\n",
       "    <tr>\n",
       "      <th>LogisticRegression</th>\n",
       "      <td>0.879387</td>\n",
       "      <td>3714.0</td>\n",
       "      <td>24925.0</td>\n",
       "      <td>2913.0</td>\n",
       "      <td>1015.0</td>\n",
       "      <td>0.104641</td>\n",
       "      <td>0.214633</td>\n",
       "    </tr>\n",
       "    <tr>\n",
       "      <th>RandomForestClassifier</th>\n",
       "      <td>0.903768</td>\n",
       "      <td>4521.0</td>\n",
       "      <td>24912.0</td>\n",
       "      <td>2926.0</td>\n",
       "      <td>208.0</td>\n",
       "      <td>0.105108</td>\n",
       "      <td>0.043984</td>\n",
       "    </tr>\n",
       "    <tr>\n",
       "      <th>AdaBoostClassifier</th>\n",
       "      <td>0.871711</td>\n",
       "      <td>3968.0</td>\n",
       "      <td>24421.0</td>\n",
       "      <td>3417.0</td>\n",
       "      <td>761.0</td>\n",
       "      <td>0.122746</td>\n",
       "      <td>0.160922</td>\n",
       "    </tr>\n",
       "    <tr>\n",
       "      <th>GradientBoostingClassifier</th>\n",
       "      <td>0.890533</td>\n",
       "      <td>4047.0</td>\n",
       "      <td>24955.0</td>\n",
       "      <td>2883.0</td>\n",
       "      <td>682.0</td>\n",
       "      <td>0.103563</td>\n",
       "      <td>0.144217</td>\n",
       "    </tr>\n",
       "    <tr>\n",
       "      <th>ExtraTreeClassifier</th>\n",
       "      <td>0.906132</td>\n",
       "      <td>4587.0</td>\n",
       "      <td>24923.0</td>\n",
       "      <td>2915.0</td>\n",
       "      <td>142.0</td>\n",
       "      <td>0.104713</td>\n",
       "      <td>0.030027</td>\n",
       "    </tr>\n",
       "    <tr>\n",
       "      <th>BaggingClassifier</th>\n",
       "      <td>0.904105</td>\n",
       "      <td>4539.0</td>\n",
       "      <td>24905.0</td>\n",
       "      <td>2933.0</td>\n",
       "      <td>190.0</td>\n",
       "      <td>0.105360</td>\n",
       "      <td>0.040178</td>\n",
       "    </tr>\n",
       "    <tr>\n",
       "      <th>Neural Network-1</th>\n",
       "      <td>0.857279</td>\n",
       "      <td>113.0</td>\n",
       "      <td>27806.0</td>\n",
       "      <td>32.0</td>\n",
       "      <td>4616.0</td>\n",
       "      <td>0.001150</td>\n",
       "      <td>0.976105</td>\n",
       "    </tr>\n",
       "  </tbody>\n",
       "</table>\n",
       "</div>"
      ],
      "text/plain": [
       "                            accuracy      TP       TN      FP      FN  \\\n",
       "index                                                                   \n",
       "KNeighborsClassifier        0.868118   659.0  27613.0   225.0  4070.0   \n",
       "LogisticRegression          0.879387  3714.0  24925.0  2913.0  1015.0   \n",
       "RandomForestClassifier      0.903768  4521.0  24912.0  2926.0   208.0   \n",
       "AdaBoostClassifier          0.871711  3968.0  24421.0  3417.0   761.0   \n",
       "GradientBoostingClassifier  0.890533  4047.0  24955.0  2883.0   682.0   \n",
       "ExtraTreeClassifier         0.906132  4587.0  24923.0  2915.0   142.0   \n",
       "BaggingClassifier           0.904105  4539.0  24905.0  2933.0   190.0   \n",
       "Neural Network-1            0.857279   113.0  27806.0    32.0  4616.0   \n",
       "\n",
       "                                 FPR       FNR  \n",
       "index                                           \n",
       "KNeighborsClassifier        0.008082  0.860647  \n",
       "LogisticRegression          0.104641  0.214633  \n",
       "RandomForestClassifier      0.105108  0.043984  \n",
       "AdaBoostClassifier          0.122746  0.160922  \n",
       "GradientBoostingClassifier  0.103563  0.144217  \n",
       "ExtraTreeClassifier         0.104713  0.030027  \n",
       "BaggingClassifier           0.105360  0.040178  \n",
       "Neural Network-1            0.001150  0.976105  "
      ]
     },
     "metadata": {},
     "output_type": "display_data"
    },
    {
     "name": "stdout",
     "output_type": "stream",
     "text": [
      "Test Results\n"
     ]
    },
    {
     "data": {
      "text/html": [
       "<div>\n",
       "<style scoped>\n",
       "    .dataframe tbody tr th:only-of-type {\n",
       "        vertical-align: middle;\n",
       "    }\n",
       "\n",
       "    .dataframe tbody tr th {\n",
       "        vertical-align: top;\n",
       "    }\n",
       "\n",
       "    .dataframe thead th {\n",
       "        text-align: right;\n",
       "    }\n",
       "</style>\n",
       "<table border=\"1\" class=\"dataframe\">\n",
       "  <thead>\n",
       "    <tr style=\"text-align: right;\">\n",
       "      <th></th>\n",
       "      <th>accuracy</th>\n",
       "      <th>TP</th>\n",
       "      <th>TN</th>\n",
       "      <th>FP</th>\n",
       "      <th>FN</th>\n",
       "      <th>FPR</th>\n",
       "      <th>FNR</th>\n",
       "      <th>auc</th>\n",
       "      <th>mcc</th>\n",
       "    </tr>\n",
       "    <tr>\n",
       "      <th>index</th>\n",
       "      <th></th>\n",
       "      <th></th>\n",
       "      <th></th>\n",
       "      <th></th>\n",
       "      <th></th>\n",
       "      <th></th>\n",
       "      <th></th>\n",
       "      <th></th>\n",
       "      <th></th>\n",
       "    </tr>\n",
       "  </thead>\n",
       "  <tbody>\n",
       "    <tr>\n",
       "      <th>KNeighborsClassifier</th>\n",
       "      <td>0.861950</td>\n",
       "      <td>143.0</td>\n",
       "      <td>6875.0</td>\n",
       "      <td>65.0</td>\n",
       "      <td>1059.0</td>\n",
       "      <td>0.009366</td>\n",
       "      <td>0.881032</td>\n",
       "      <td>0.554801</td>\n",
       "      <td>0.246419</td>\n",
       "    </tr>\n",
       "    <tr>\n",
       "      <th>LogisticRegression</th>\n",
       "      <td>0.881110</td>\n",
       "      <td>953.0</td>\n",
       "      <td>6221.0</td>\n",
       "      <td>719.0</td>\n",
       "      <td>249.0</td>\n",
       "      <td>0.103602</td>\n",
       "      <td>0.207155</td>\n",
       "      <td>0.844621</td>\n",
       "      <td>0.605249</td>\n",
       "    </tr>\n",
       "    <tr>\n",
       "      <th>RandomForestClassifier</th>\n",
       "      <td>0.892778</td>\n",
       "      <td>1073.0</td>\n",
       "      <td>6196.0</td>\n",
       "      <td>744.0</td>\n",
       "      <td>129.0</td>\n",
       "      <td>0.107205</td>\n",
       "      <td>0.107321</td>\n",
       "      <td>0.892737</td>\n",
       "      <td>0.669200</td>\n",
       "    </tr>\n",
       "    <tr>\n",
       "      <th>AdaBoostClassifier</th>\n",
       "      <td>0.873004</td>\n",
       "      <td>1011.0</td>\n",
       "      <td>6097.0</td>\n",
       "      <td>843.0</td>\n",
       "      <td>191.0</td>\n",
       "      <td>0.121470</td>\n",
       "      <td>0.158902</td>\n",
       "      <td>0.859814</td>\n",
       "      <td>0.608736</td>\n",
       "    </tr>\n",
       "    <tr>\n",
       "      <th>GradientBoostingClassifier</th>\n",
       "      <td>0.890445</td>\n",
       "      <td>1026.0</td>\n",
       "      <td>6224.0</td>\n",
       "      <td>716.0</td>\n",
       "      <td>176.0</td>\n",
       "      <td>0.103170</td>\n",
       "      <td>0.146423</td>\n",
       "      <td>0.875204</td>\n",
       "      <td>0.649105</td>\n",
       "    </tr>\n",
       "    <tr>\n",
       "      <th>ExtraTreeClassifier</th>\n",
       "      <td>0.891796</td>\n",
       "      <td>1071.0</td>\n",
       "      <td>6190.0</td>\n",
       "      <td>750.0</td>\n",
       "      <td>131.0</td>\n",
       "      <td>0.108069</td>\n",
       "      <td>0.108985</td>\n",
       "      <td>0.891473</td>\n",
       "      <td>0.666524</td>\n",
       "    </tr>\n",
       "    <tr>\n",
       "      <th>BaggingClassifier</th>\n",
       "      <td>0.892410</td>\n",
       "      <td>1082.0</td>\n",
       "      <td>6184.0</td>\n",
       "      <td>756.0</td>\n",
       "      <td>120.0</td>\n",
       "      <td>0.108934</td>\n",
       "      <td>0.099834</td>\n",
       "      <td>0.895616</td>\n",
       "      <td>0.671360</td>\n",
       "    </tr>\n",
       "    <tr>\n",
       "      <th>Neural Network-1</th>\n",
       "      <td>0.854581</td>\n",
       "      <td>24.0</td>\n",
       "      <td>6934.0</td>\n",
       "      <td>6.0</td>\n",
       "      <td>1178.0</td>\n",
       "      <td>0.000865</td>\n",
       "      <td>0.980033</td>\n",
       "      <td>0.895616</td>\n",
       "      <td>0.111838</td>\n",
       "    </tr>\n",
       "  </tbody>\n",
       "</table>\n",
       "</div>"
      ],
      "text/plain": [
       "                            accuracy      TP      TN     FP      FN       FPR  \\\n",
       "index                                                                           \n",
       "KNeighborsClassifier        0.861950   143.0  6875.0   65.0  1059.0  0.009366   \n",
       "LogisticRegression          0.881110   953.0  6221.0  719.0   249.0  0.103602   \n",
       "RandomForestClassifier      0.892778  1073.0  6196.0  744.0   129.0  0.107205   \n",
       "AdaBoostClassifier          0.873004  1011.0  6097.0  843.0   191.0  0.121470   \n",
       "GradientBoostingClassifier  0.890445  1026.0  6224.0  716.0   176.0  0.103170   \n",
       "ExtraTreeClassifier         0.891796  1071.0  6190.0  750.0   131.0  0.108069   \n",
       "BaggingClassifier           0.892410  1082.0  6184.0  756.0   120.0  0.108934   \n",
       "Neural Network-1            0.854581    24.0  6934.0    6.0  1178.0  0.000865   \n",
       "\n",
       "                                 FNR       auc       mcc  \n",
       "index                                                     \n",
       "KNeighborsClassifier        0.881032  0.554801  0.246419  \n",
       "LogisticRegression          0.207155  0.844621  0.605249  \n",
       "RandomForestClassifier      0.107321  0.892737  0.669200  \n",
       "AdaBoostClassifier          0.158902  0.859814  0.608736  \n",
       "GradientBoostingClassifier  0.146423  0.875204  0.649105  \n",
       "ExtraTreeClassifier         0.108985  0.891473  0.666524  \n",
       "BaggingClassifier           0.099834  0.895616  0.671360  \n",
       "Neural Network-1            0.980033  0.895616  0.111838  "
      ]
     },
     "metadata": {},
     "output_type": "display_data"
    }
   ],
   "source": [
    "table_80_60_train['index']=ind_columns\n",
    "table_80_60_test['index']=ind_columns\n",
    "\n",
    "\n",
    "table_80_60_test.set_index(['index'],drop=True,inplace=True)\n",
    "table_80_60_train.set_index(['index'],drop=True,inplace=True)\n",
    "\n",
    "print(\"Training Results\")\n",
    "display(table_80_60_train)\n",
    "print(\"Test Results\")\n",
    "display(table_80_60_test)"
   ]
  },
  {
   "cell_type": "markdown",
   "metadata": {},
   "source": [
    "### <a id='4.B' style=\"text-decoration : none; color : #000000;\"> B. Average Feature Importances</a>"
   ]
  },
  {
   "cell_type": "code",
   "execution_count": 55,
   "metadata": {},
   "outputs": [
    {
     "data": {
      "application/vnd.plotly.v1+json": {
       "config": {
        "linkText": "Export to plot.ly",
        "plotlyServerURL": "https://plot.ly",
        "showLink": true
       },
       "data": [
        {
         "marker": {
          "color": "rgb(158,202,225)",
          "line": {
           "color": "rgb(8,48,107)",
           "width": 1.5
          }
         },
         "opacity": 0.6,
         "orientation": "h",
         "text": [
          0.1712,
          0.1597,
          0.1247,
          0.065,
          0.0636,
          0.0634,
          0.0595,
          0.033,
          0.0295,
          0.0231,
          0.0225,
          0.0213,
          0.0211,
          0.0203,
          0.0188,
          0.0185,
          0.0178,
          0.0175,
          0.0139,
          0.0096,
          0.0075,
          0.0073,
          0.0058,
          0.0039,
          0.0016
         ],
         "textposition": "outside",
         "type": "bar",
         "uid": "c4f2bc62-d0f7-4855-9c04-503789b6dfb1",
         "x": [
          0.17117714167483436,
          0.15967880036040427,
          0.12472669790619036,
          0.06495302721632668,
          0.06361489465024038,
          0.06344565906500686,
          0.059453628279231965,
          0.03300129932799172,
          0.029495337149534263,
          0.023121592905731354,
          0.022541055341015966,
          0.02126350422730612,
          0.02108248760228695,
          0.020258870368236155,
          0.018753098138852106,
          0.018488149613442365,
          0.017817518486790314,
          0.017536890980024068,
          0.013943769185108881,
          0.009565676765014002,
          0.007455989454725009,
          0.007316241830591216,
          0.00579143939798357,
          0.0038819070998635337,
          0.0016353229732675402
         ],
         "y": [
          "replace + script_count",
          "a_count + div_count",
          "document.createElement + script_count",
          "substring + script_count",
          "script_src_out_of_domain / script_count",
          "script_count + style_count",
          "script_src_out_of_domain + script_type_text/javascript",
          "charAt + script_count",
          "unescape + script_count",
          "decodeURIComponent + script_count",
          "String.fromCharCode + script_count",
          "exec + script_count",
          "charCodeAt + script_count",
          "meta_http-equiv_refresh + script_count",
          "iframe_count + script_count",
          "window.addEventListener + script_count",
          "image_count + script_count",
          "iframe_src_relative + script_count",
          "parseInt + script_count",
          "escape + script_count",
          "link + script_count",
          "meta_http-equiv_X-UA-Compatible + script_count",
          "encodeURIComponent + script_count",
          "window.setInterval + script_count",
          "search + script_count"
         ]
        }
       ],
       "layout": {
        "autosize": false,
        "height": 1000,
        "width": 1000,
        "xaxis": {
         "tickfont": {
          "color": "black",
          "size": 12
         },
         "title": "Feature Importances"
        },
        "yaxis": {
         "automargin": true
        }
       }
      },
      "text/html": [
       "<div id=\"be610361-a154-4289-8304-2223a1face80\" style=\"height: 1000px; width: 1000px;\" class=\"plotly-graph-div\"></div><script type=\"text/javascript\">require([\"plotly\"], function(Plotly) { window.PLOTLYENV=window.PLOTLYENV || {};window.PLOTLYENV.BASE_URL=\"https://plot.ly\";Plotly.newPlot(\"be610361-a154-4289-8304-2223a1face80\", [{\"marker\": {\"color\": \"rgb(158,202,225)\", \"line\": {\"color\": \"rgb(8,48,107)\", \"width\": 1.5}}, \"opacity\": 0.6, \"orientation\": \"h\", \"text\": [0.1712, 0.1597, 0.1247, 0.065, 0.0636, 0.0634, 0.0595, 0.033, 0.0295, 0.0231, 0.0225, 0.0213, 0.0211, 0.0203, 0.0188, 0.0185, 0.0178, 0.0175, 0.0139, 0.0096, 0.0075, 0.0073, 0.0058, 0.0039, 0.0016], \"textposition\": \"outside\", \"x\": [0.17117714167483436, 0.15967880036040427, 0.12472669790619036, 0.06495302721632668, 0.06361489465024038, 0.06344565906500686, 0.059453628279231965, 0.03300129932799172, 0.029495337149534263, 0.023121592905731354, 0.022541055341015966, 0.02126350422730612, 0.02108248760228695, 0.020258870368236155, 0.018753098138852106, 0.018488149613442365, 0.017817518486790314, 0.017536890980024068, 0.013943769185108881, 0.009565676765014002, 0.007455989454725009, 0.007316241830591216, 0.00579143939798357, 0.0038819070998635337, 0.0016353229732675402], \"y\": [\"replace + script_count\", \"a_count + div_count\", \"document.createElement + script_count\", \"substring + script_count\", \"script_src_out_of_domain / script_count\", \"script_count + style_count\", \"script_src_out_of_domain + script_type_text/javascript\", \"charAt + script_count\", \"unescape + script_count\", \"decodeURIComponent + script_count\", \"String.fromCharCode + script_count\", \"exec + script_count\", \"charCodeAt + script_count\", \"meta_http-equiv_refresh + script_count\", \"iframe_count + script_count\", \"window.addEventListener + script_count\", \"image_count + script_count\", \"iframe_src_relative + script_count\", \"parseInt + script_count\", \"escape + script_count\", \"link + script_count\", \"meta_http-equiv_X-UA-Compatible + script_count\", \"encodeURIComponent + script_count\", \"window.setInterval + script_count\", \"search + script_count\"], \"type\": \"bar\", \"uid\": \"c4f2bc62-d0f7-4855-9c04-503789b6dfb1\"}], {\"autosize\": false, \"height\": 1000, \"width\": 1000, \"xaxis\": {\"tickfont\": {\"color\": \"black\", \"size\": 12}, \"title\": \"Feature Importances\"}, \"yaxis\": {\"automargin\": true}}, {\"showLink\": true, \"linkText\": \"Export to plot.ly\", \"plotlyServerURL\": \"https://plot.ly\"})});</script>"
      ],
      "text/vnd.plotly.v1+html": [
       "<div id=\"be610361-a154-4289-8304-2223a1face80\" style=\"height: 1000px; width: 1000px;\" class=\"plotly-graph-div\"></div><script type=\"text/javascript\">require([\"plotly\"], function(Plotly) { window.PLOTLYENV=window.PLOTLYENV || {};window.PLOTLYENV.BASE_URL=\"https://plot.ly\";Plotly.newPlot(\"be610361-a154-4289-8304-2223a1face80\", [{\"marker\": {\"color\": \"rgb(158,202,225)\", \"line\": {\"color\": \"rgb(8,48,107)\", \"width\": 1.5}}, \"opacity\": 0.6, \"orientation\": \"h\", \"text\": [0.1712, 0.1597, 0.1247, 0.065, 0.0636, 0.0634, 0.0595, 0.033, 0.0295, 0.0231, 0.0225, 0.0213, 0.0211, 0.0203, 0.0188, 0.0185, 0.0178, 0.0175, 0.0139, 0.0096, 0.0075, 0.0073, 0.0058, 0.0039, 0.0016], \"textposition\": \"outside\", \"x\": [0.17117714167483436, 0.15967880036040427, 0.12472669790619036, 0.06495302721632668, 0.06361489465024038, 0.06344565906500686, 0.059453628279231965, 0.03300129932799172, 0.029495337149534263, 0.023121592905731354, 0.022541055341015966, 0.02126350422730612, 0.02108248760228695, 0.020258870368236155, 0.018753098138852106, 0.018488149613442365, 0.017817518486790314, 0.017536890980024068, 0.013943769185108881, 0.009565676765014002, 0.007455989454725009, 0.007316241830591216, 0.00579143939798357, 0.0038819070998635337, 0.0016353229732675402], \"y\": [\"replace + script_count\", \"a_count + div_count\", \"document.createElement + script_count\", \"substring + script_count\", \"script_src_out_of_domain / script_count\", \"script_count + style_count\", \"script_src_out_of_domain + script_type_text/javascript\", \"charAt + script_count\", \"unescape + script_count\", \"decodeURIComponent + script_count\", \"String.fromCharCode + script_count\", \"exec + script_count\", \"charCodeAt + script_count\", \"meta_http-equiv_refresh + script_count\", \"iframe_count + script_count\", \"window.addEventListener + script_count\", \"image_count + script_count\", \"iframe_src_relative + script_count\", \"parseInt + script_count\", \"escape + script_count\", \"link + script_count\", \"meta_http-equiv_X-UA-Compatible + script_count\", \"encodeURIComponent + script_count\", \"window.setInterval + script_count\", \"search + script_count\"], \"type\": \"bar\", \"uid\": \"c4f2bc62-d0f7-4855-9c04-503789b6dfb1\"}], {\"autosize\": false, \"height\": 1000, \"width\": 1000, \"xaxis\": {\"tickfont\": {\"color\": \"black\", \"size\": 12}, \"title\": \"Feature Importances\"}, \"yaxis\": {\"automargin\": true}}, {\"showLink\": true, \"linkText\": \"Export to plot.ly\", \"plotlyServerURL\": \"https://plot.ly\"})});</script>"
      ]
     },
     "metadata": {},
     "output_type": "display_data"
    }
   ],
   "source": [
    "feat_impt_plot(np.average(feat_imp,axis=0),feature_name)"
   ]
  },
  {
   "cell_type": "markdown",
   "metadata": {},
   "source": [
    "### <a id='5' style=\"text-decoration : none; color : #000000;\">5. Feature Transformation with PCA </a>"
   ]
  },
  {
   "cell_type": "code",
   "execution_count": 56,
   "metadata": {
    "collapsed": true
   },
   "outputs": [],
   "source": [
    "X=fs.loc[:,fs.columns!='Target']\n",
    "y=fs.Target.values\n",
    "feature_name = X.columns.tolist()\n",
    "X=np.nan_to_num(X)\n",
    "scaler=StandardScaler()\n",
    "scaled_X=scaler.fit_transform(X)"
   ]
  },
  {
   "cell_type": "code",
   "execution_count": 57,
   "metadata": {},
   "outputs": [
    {
     "data": {
      "image/png": "[encoded data removed]",
      "text/plain": [
       "<Figure size 720x576 with 1 Axes>"
      ]
     },
     "metadata": {},
     "output_type": "display_data"
    }
   ],
   "source": [
    "sns.set_style('whitegrid')\n",
    "pca = PCA(random_state=0)\n",
    "pca.fit(scaled_X)\n",
    "plt.figure(1, figsize=(10, 8))\n",
    "plt.plot(np.cumsum(pca.explained_variance_ratio_),'--o', linewidth=2)\n",
    "plt.axis('tight')\n",
    "plt.xlabel('Number of Components',size=14)\n",
    "plt.xticks(size=12)\n",
    "plt.xlim([0,200])\n",
    "plt.ylabel('% Explained Variance',size=14)\n",
    "plt.yticks(size=12)\n",
    "plt.title('% Variance Explained by Principal Components',size=14,y=1.05)\n",
    "plt.show()"
   ]
  },
  {
   "cell_type": "code",
   "execution_count": 62,
   "metadata": {},
   "outputs": [],
   "source": [
    "# np.where(np.cumsum(pca.explained_variance_ratio_)>=0.8)[0]"
   ]
  },
  {
   "cell_type": "code",
   "execution_count": 59,
   "metadata": {},
   "outputs": [
    {
     "name": "stdout",
     "output_type": "stream",
     "text": [
      "Variance explained using 228 components is: 0.798989488146\n"
     ]
    }
   ],
   "source": [
    "pca=PCA(n_components=228,whiten=True,random_state=0)\n",
    "X_pca_21=pca.fit_transform(scaled_X)\n",
    "print(\"Variance explained using 228 components is:\",sum(pca.explained_variance_ratio_))"
   ]
  },
  {
   "cell_type": "code",
   "execution_count": 60,
   "metadata": {
    "collapsed": true
   },
   "outputs": [],
   "source": [
    "X_train=X_pca_21[:32567]\n",
    "Y_train=fs.iloc[:32567]['Target'].values\n",
    "X_test=X_pca_21[32567:]\n",
    "Y_test=fs.iloc[32567:]['Target'].values\n",
    "\n",
    "## Table to store training and test measures so we can compare later\n",
    "table_80_70_train=pd.DataFrame(columns=['accuracy','TP','TN','FP','FN','FPR','FNR'])\n",
    "table_80_70_test=pd.DataFrame(columns=['accuracy','TP','TN','FP','FN','FPR','FNR','auc','mcc'])"
   ]
  },
  {
   "cell_type": "code",
   "execution_count": 63,
   "metadata": {
    "scrolled": false
   },
   "outputs": [
    {
     "name": "stdout",
     "output_type": "stream",
     "text": [
      "\u001b[1mK-Nearest Neighbors\u001b[0m\n",
      "Accuracy of the model for training data is: 0.896398194491\n",
      "Confusion Matrix for training data is:\n"
     ]
    },
    {
     "data": {
      "text/plain": [
       "Predicted  False  True  __all__\n",
       "Actual                         \n",
       "False      24850  2988    27838\n",
       "True         386  4343     4729\n",
       "__all__    25236  7331    32567"
      ]
     },
     "metadata": {},
     "output_type": "display_data"
    },
    {
     "name": "stdout",
     "output_type": "stream",
     "text": [
      "Accuracy of the model for test data is: 0.890813068042\n",
      "Confusion Matrix for test data is:\n"
     ]
    },
    {
     "data": {
      "text/plain": [
       "Predicted  False  True  __all__\n",
       "Actual                         \n",
       "False       6166   774     6940\n",
       "True         115  1087     1202\n",
       "__all__     6281  1861     8142"
      ]
     },
     "metadata": {},
     "output_type": "display_data"
    },
    {
     "name": "stdout",
     "output_type": "stream",
     "text": [
      "\n",
      "\n",
      "\u001b[1mLogistic Regression\u001b[0m\n",
      "Accuracy of the model for training data is: 0.880523229036\n",
      "Confusion Matrix for training data is:\n"
     ]
    },
    {
     "data": {
      "text/plain": [
       "Predicted  False  True  __all__\n",
       "Actual                         \n",
       "False      24853  2985    27838\n",
       "True         906  3823     4729\n",
       "__all__    25759  6808    32567"
      ]
     },
     "metadata": {},
     "output_type": "display_data"
    },
    {
     "name": "stdout",
     "output_type": "stream",
     "text": [
      "Accuracy of the model for test data is: 0.87963645296\n",
      "Confusion Matrix for test data is:\n"
     ]
    },
    {
     "data": {
      "text/plain": [
       "Predicted  False  True  __all__\n",
       "Actual                         \n",
       "False       6177   763     6940\n",
       "True         217   985     1202\n",
       "__all__     6394  1748     8142"
      ]
     },
     "metadata": {},
     "output_type": "display_data"
    },
    {
     "name": "stdout",
     "output_type": "stream",
     "text": [
      "\n",
      "\n",
      "\u001b[1mRandomForest Classifier\u001b[0m\n",
      "Accuracy of the model for training data is: 0.907697976479\n",
      "Confusion Matrix for training data is:\n"
     ]
    },
    {
     "data": {
      "text/plain": [
       "Predicted  False  True  __all__\n",
       "Actual                         \n",
       "False      24954  2884    27838\n",
       "True         122  4607     4729\n",
       "__all__    25076  7491    32567"
      ]
     },
     "metadata": {},
     "output_type": "display_data"
    },
    {
     "name": "stdout",
     "output_type": "stream",
     "text": [
      "Accuracy of the model for test data is: 0.896462785556\n",
      "Confusion Matrix for test data is:\n"
     ]
    },
    {
     "data": {
      "text/plain": [
       "Predicted  False  True  __all__\n",
       "Actual                         \n",
       "False       6210   730     6940\n",
       "True         113  1089     1202\n",
       "__all__     6323  1819     8142"
      ]
     },
     "metadata": {},
     "output_type": "display_data"
    },
    {
     "data": {
      "application/vnd.plotly.v1+json": {
       "config": {
        "linkText": "Export to plot.ly",
        "plotlyServerURL": "https://plot.ly",
        "showLink": true
       },
       "data": [
        {
         "marker": {
          "color": "rgb(158,202,225)",
          "line": {
           "color": "rgb(8,48,107)",
           "width": 1.5
          }
         },
         "opacity": 0.6,
         "orientation": "h",
         "text": [
          0.0843,
          0.0778,
          0.0613,
          0.0519,
          0.0428,
          0.0319,
          0.0299,
          0.0288,
          0.0284,
          0.0276,
          0.0245,
          0.0233,
          0.0222,
          0.022,
          0.021,
          0.0154,
          0.0154,
          0.0144,
          0.0129,
          0.0125,
          0.011,
          0.0098,
          0.0076,
          0.0068,
          0.0062,
          0.0061,
          0.0056,
          0.005,
          0.0049,
          0.0049,
          0.0048,
          0.0046,
          0.004,
          0.0039,
          0.0038,
          0.0037,
          0.0036,
          0.0036,
          0.0034,
          0.0033,
          0.0032,
          0.0031,
          0.0031,
          0.0031,
          0.003,
          0.003,
          0.003,
          0.0028,
          0.0028,
          0.0027,
          0.0026,
          0.0026,
          0.0025,
          0.0025,
          0.0025,
          0.0025,
          0.0025,
          0.0024,
          0.0024,
          0.0024,
          0.0024,
          0.0024,
          0.0023,
          0.0023,
          0.0022,
          0.0022,
          0.0022,
          0.0022,
          0.0022,
          0.0021,
          0.0021,
          0.0021,
          0.0021,
          0.002,
          0.002,
          0.002,
          0.002,
          0.0019,
          0.0019,
          0.0018,
          0.0018,
          0.0018,
          0.0018,
          0.0018,
          0.0017,
          0.0017,
          0.0017,
          0.0017,
          0.0017,
          0.0017,
          0.0016,
          0.0016,
          0.0016,
          0.0016,
          0.0016,
          0.0016,
          0.0016,
          0.0016,
          0.0016,
          0.0016,
          0.0015,
          0.0015,
          0.0015,
          0.0015,
          0.0014,
          0.0014,
          0.0014,
          0.0014,
          0.0014,
          0.0014,
          0.0013,
          0.0013,
          0.0013,
          0.0013,
          0.0013,
          0.0013,
          0.0013,
          0.0013,
          0.0013,
          0.0012,
          0.0012,
          0.0012,
          0.0012,
          0.0012,
          0.0011,
          0.0011,
          0.0011,
          0.0011,
          0.0011,
          0.0011,
          0.0011,
          0.0011,
          0.0011,
          0.0011,
          0.0011,
          0.0011,
          0.0011,
          0.0011,
          0.0011,
          0.0011,
          0.0011,
          0.0011,
          0.0011,
          0.0011,
          0.0011,
          0.001,
          0.001,
          0.001,
          0.001,
          0.001,
          0.001,
          0.001,
          0.001,
          0.001,
          0.001,
          0.001,
          0.001,
          0.001,
          0.001,
          0.0009,
          0.0009,
          0.0009,
          0.0009,
          0.0009,
          0.0009,
          0.0009,
          0.0009,
          0.0009,
          0.0008,
          0.0008,
          0.0008,
          0.0008,
          0.0008,
          0.0008,
          0.0008,
          0.0008,
          0.0008,
          0.0008,
          0.0008,
          0.0008,
          0.0008,
          0.0008,
          0.0008,
          0.0007,
          0.0007,
          0.0007,
          0.0007,
          0.0007,
          0.0007,
          0.0007,
          0.0007,
          0.0007,
          0.0007,
          0.0007,
          0.0007,
          0.0007,
          0.0007,
          0.0007,
          0.0007,
          0.0007,
          0.0006,
          0.0006,
          0.0006,
          0.0006,
          0.0006,
          0.0006,
          0.0006,
          0.0006,
          0.0006,
          0.0006,
          0.0006,
          0.0006,
          0.0006,
          0.0006,
          0.0005,
          0.0005,
          0.0005,
          0.0005,
          0.0005,
          0.0005,
          0.0005,
          0.0004,
          0.0004,
          0.0003,
          0.0003,
          0.0003,
          0.0003,
          0.0003
         ],
         "textposition": "outside",
         "type": "bar",
         "uid": "d14f0227-55ea-4f2d-be27-f9f3de7060cb",
         "x": [
          0.08428215816013974,
          0.07778952439968197,
          0.061273419520900374,
          0.05192854646006414,
          0.042830085924982456,
          0.03194980245610239,
          0.02990031583768173,
          0.02876598756688243,
          0.028365137808669692,
          0.027634182326578178,
          0.024544789270504304,
          0.023289438210991505,
          0.022217938461896056,
          0.022020741691494084,
          0.02097790227369438,
          0.015424281423914176,
          0.015358686898313868,
          0.014414950237108839,
          0.012920196536856013,
          0.012474285980172563,
          0.01100798517562343,
          0.00978798268466741,
          0.007583552594830054,
          0.006803749830657744,
          0.006181639025906369,
          0.00608009576825813,
          0.005622088642117,
          0.00497558110035359,
          0.004895874322146989,
          0.004880189755826066,
          0.004754549277638366,
          0.004578976783443925,
          0.003950628631081065,
          0.0039011035653834817,
          0.003756239366458203,
          0.0037082547678286685,
          0.0035887785801749935,
          0.0035690839123533567,
          0.0034450357610516873,
          0.0032855708049452253,
          0.0031836494410234935,
          0.0031258051004210753,
          0.0030860008795499994,
          0.0030838621863578993,
          0.003029004434327268,
          0.0029789187548691335,
          0.00297368875444708,
          0.0027960661268534525,
          0.002784695663948491,
          0.002659244838875756,
          0.0026494358111642828,
          0.0025784087105861827,
          0.002520307843537222,
          0.002514645327827876,
          0.002513222314056509,
          0.0024773772084916634,
          0.002471981767540579,
          0.002416354275870183,
          0.0024078488196928745,
          0.00239009914392399,
          0.0023645712381463566,
          0.00236182192678174,
          0.0023359761853789214,
          0.002266439304283396,
          0.002223894904056934,
          0.002183789373406485,
          0.0021567436501414095,
          0.0021566492365961906,
          0.0021520557040684957,
          0.0021283288317690474,
          0.0021132301109750462,
          0.0020908836795678542,
          0.0020638508747716426,
          0.0020403889876136868,
          0.0020156027264273827,
          0.0019846527523757185,
          0.001956021536807878,
          0.0018677819944857318,
          0.0018659998625602373,
          0.0017832416245706496,
          0.0017830609844405438,
          0.0017792827259541458,
          0.0017667934119273195,
          0.0017523297715437626,
          0.001718151542436108,
          0.0017176022595103506,
          0.0017055604817427118,
          0.0016968530478436935,
          0.0016640029951236908,
          0.001654696853793133,
          0.00164080563256236,
          0.0016360037189228477,
          0.0016341545474624984,
          0.0016162942466787036,
          0.0016080669635865868,
          0.0015997166996505035,
          0.0015899578943849586,
          0.0015874440852197119,
          0.0015780069811185463,
          0.0015631002320543835,
          0.0015378550730424639,
          0.0014910984642695399,
          0.0014663112932202893,
          0.001457832066001841,
          0.0014364876074489522,
          0.0014270645706280364,
          0.0014244054734176225,
          0.0013763535657531035,
          0.0013730913690188514,
          0.0013691193355135373,
          0.0013492397587690553,
          0.0013490814506643732,
          0.0013337800462667098,
          0.0013316946982531086,
          0.001304785533386583,
          0.00130369975843087,
          0.0012724316865547229,
          0.0012571900183926603,
          0.0012554784028822282,
          0.0012489495682576803,
          0.0012385890126699948,
          0.0012158607768572383,
          0.0011591617452289464,
          0.0011504027028453822,
          0.0011468686843190362,
          0.00113156631503864,
          0.001129238672612419,
          0.0011276115622010268,
          0.0011205231154099167,
          0.0011090934710542813,
          0.0010977187932573822,
          0.0010948558995743651,
          0.0010927917235932624,
          0.0010819589907864265,
          0.0010816078075536308,
          0.001081165203875303,
          0.001079621715329799,
          0.0010761747412710689,
          0.0010725408460118134,
          0.001071540571556296,
          0.0010670831311712136,
          0.0010619811896570989,
          0.0010592561968400475,
          0.0010570027422494653,
          0.001050552744387575,
          0.0010490765818645929,
          0.001046688135182387,
          0.0010360333972115998,
          0.0010300725001422726,
          0.0010258916549859807,
          0.0010023663752759947,
          0.000996000322707669,
          0.000993912795348055,
          0.0009866233588756875,
          0.0009856637392854214,
          0.0009822746717369371,
          0.0009718345300028932,
          0.0009667609422250609,
          0.0009589476379935205,
          0.0009112383666458194,
          0.0009036678479178177,
          0.0009033125218451671,
          0.0008999734936673226,
          0.0008879301448792606,
          0.000879633089667875,
          0.0008695487674622276,
          0.0008677720333101661,
          0.0008671820101375774,
          0.0008299988054711203,
          0.0008262294729521821,
          0.0008211784791611453,
          0.0008144065124110134,
          0.0008029233642405486,
          0.0008003159344708991,
          0.00079776665221275,
          0.0007944073360587356,
          0.0007825156040314333,
          0.0007800231781051977,
          0.0007717301521482711,
          0.0007703950555659633,
          0.00076836074595416,
          0.0007541154536460508,
          0.0007538212193875335,
          0.0007428888698529856,
          0.0007421549436686136,
          0.0007372187176908213,
          0.000736422875333788,
          0.0007345612943285148,
          0.0007314346862382687,
          0.0007222213053459971,
          0.0007182114639182645,
          0.0007109785624481633,
          0.0007099089478644041,
          0.0006965553855701851,
          0.0006889019486461277,
          0.0006866011945221611,
          0.0006662057432202779,
          0.000661707772246786,
          0.0006589460522748462,
          0.0006562213442401069,
          0.0006494049413325787,
          0.0006481043859562089,
          0.0006443234350196856,
          0.0006436023901239136,
          0.0006382627254282079,
          0.0006320038940797481,
          0.0006295992323833478,
          0.0006178903203833326,
          0.0006138465836999042,
          0.0006035339122946984,
          0.0005927782681764686,
          0.0005853584013745052,
          0.0005815586221832724,
          0.0005755684951905108,
          0.0005319845015127369,
          0.0004977210295835493,
          0.0004970516712726696,
          0.0004900700158798076,
          0.0004784831970169475,
          0.00047234454638431174,
          0.00045298929827462,
          0.00040839610784111115,
          0.0003873106577400343,
          0.0003388495038387286,
          0.0002991241433227892,
          0.00029620167777814237,
          0.0002605123015060054,
          0.0002569148718187161
         ],
         "y": [
          "39",
          "6",
          "131",
          "45",
          "0",
          "137",
          "3",
          "17",
          "9",
          "40",
          "74",
          "154",
          "97",
          "4",
          "136",
          "82",
          "81",
          "1",
          "66",
          "2",
          "58",
          "79",
          "30",
          "25",
          "111",
          "101",
          "69",
          "52",
          "115",
          "164",
          "62",
          "28",
          "32",
          "104",
          "5",
          "68",
          "54",
          "77",
          "26",
          "216",
          "174",
          "217",
          "161",
          "72",
          "218",
          "80",
          "10",
          "160",
          "47",
          "188",
          "159",
          "7",
          "90",
          "223",
          "87",
          "41",
          "201",
          "102",
          "208",
          "108",
          "180",
          "170",
          "70",
          "94",
          "22",
          "171",
          "168",
          "163",
          "219",
          "11",
          "124",
          "107",
          "173",
          "127",
          "141",
          "179",
          "84",
          "195",
          "61",
          "116",
          "89",
          "99",
          "50",
          "16",
          "220",
          "14",
          "126",
          "92",
          "56",
          "146",
          "167",
          "12",
          "143",
          "202",
          "212",
          "182",
          "166",
          "13",
          "29",
          "96",
          "181",
          "98",
          "86",
          "35",
          "129",
          "215",
          "117",
          "63",
          "150",
          "156",
          "95",
          "145",
          "78",
          "112",
          "37",
          "224",
          "192",
          "191",
          "110",
          "34",
          "15",
          "190",
          "153",
          "103",
          "73",
          "55",
          "31",
          "214",
          "123",
          "175",
          "118",
          "93",
          "21",
          "140",
          "36",
          "128",
          "139",
          "109",
          "209",
          "76",
          "135",
          "162",
          "24",
          "48",
          "114",
          "42",
          "184",
          "211",
          "196",
          "227",
          "198",
          "226",
          "205",
          "147",
          "18",
          "106",
          "165",
          "75",
          "148",
          "67",
          "152",
          "155",
          "71",
          "60",
          "186",
          "222",
          "83",
          "125",
          "204",
          "207",
          "210",
          "130",
          "177",
          "38",
          "23",
          "53",
          "221",
          "88",
          "57",
          "187",
          "51",
          "33",
          "27",
          "85",
          "200",
          "142",
          "105",
          "157",
          "8",
          "100",
          "151",
          "20",
          "178",
          "206",
          "133",
          "91",
          "197",
          "149",
          "64",
          "122",
          "158",
          "121",
          "59",
          "44",
          "65",
          "213",
          "49",
          "43",
          "203",
          "169",
          "132",
          "113",
          "19",
          "120",
          "225",
          "176",
          "185",
          "138",
          "172",
          "189",
          "134",
          "183",
          "144",
          "193",
          "199",
          "119",
          "194",
          "46"
         ]
        }
       ],
       "layout": {
        "autosize": false,
        "height": 1000,
        "width": 1000,
        "xaxis": {
         "tickfont": {
          "color": "black",
          "size": 12
         },
         "title": "Feature Importances"
        },
        "yaxis": {
         "automargin": true
        }
       }
      },
      "text/html": [
       "<div id=\"97fc4216-daf9-499f-b33e-c92b4ddf31ab\" style=\"height: 1000px; width: 1000px;\" class=\"plotly-graph-div\"></div><script type=\"text/javascript\">require([\"plotly\"], function(Plotly) { window.PLOTLYENV=window.PLOTLYENV || {};window.PLOTLYENV.BASE_URL=\"https://plot.ly\";Plotly.newPlot(\"97fc4216-daf9-499f-b33e-c92b4ddf31ab\", [{\"marker\": {\"color\": \"rgb(158,202,225)\", \"line\": {\"color\": \"rgb(8,48,107)\", \"width\": 1.5}}, \"opacity\": 0.6, \"orientation\": \"h\", \"text\": [0.0843, 0.0778, 0.0613, 0.0519, 0.0428, 0.0319, 0.0299, 0.0288, 0.0284, 0.0276, 0.0245, 0.0233, 0.0222, 0.022, 0.021, 0.0154, 0.0154, 0.0144, 0.0129, 0.0125, 0.011, 0.0098, 0.0076, 0.0068, 0.0062, 0.0061, 0.0056, 0.005, 0.0049, 0.0049, 0.0048, 0.0046, 0.004, 0.0039, 0.0038, 0.0037, 0.0036, 0.0036, 0.0034, 0.0033, 0.0032, 0.0031, 0.0031, 0.0031, 0.003, 0.003, 0.003, 0.0028, 0.0028, 0.0027, 0.0026, 0.0026, 0.0025, 0.0025, 0.0025, 0.0025, 0.0025, 0.0024, 0.0024, 0.0024, 0.0024, 0.0024, 0.0023, 0.0023, 0.0022, 0.0022, 0.0022, 0.0022, 0.0022, 0.0021, 0.0021, 0.0021, 0.0021, 0.002, 0.002, 0.002, 0.002, 0.0019, 0.0019, 0.0018, 0.0018, 0.0018, 0.0018, 0.0018, 0.0017, 0.0017, 0.0017, 0.0017, 0.0017, 0.0017, 0.0016, 0.0016, 0.0016, 0.0016, 0.0016, 0.0016, 0.0016, 0.0016, 0.0016, 0.0016, 0.0015, 0.0015, 0.0015, 0.0015, 0.0014, 0.0014, 0.0014, 0.0014, 0.0014, 0.0014, 0.0013, 0.0013, 0.0013, 0.0013, 0.0013, 0.0013, 0.0013, 0.0013, 0.0013, 0.0012, 0.0012, 0.0012, 0.0012, 0.0012, 0.0011, 0.0011, 0.0011, 0.0011, 0.0011, 0.0011, 0.0011, 0.0011, 0.0011, 0.0011, 0.0011, 0.0011, 0.0011, 0.0011, 0.0011, 0.0011, 0.0011, 0.0011, 0.0011, 0.0011, 0.0011, 0.001, 0.001, 0.001, 0.001, 0.001, 0.001, 0.001, 0.001, 0.001, 0.001, 0.001, 0.001, 0.001, 0.001, 0.0009, 0.0009, 0.0009, 0.0009, 0.0009, 0.0009, 0.0009, 0.0009, 0.0009, 0.0008, 0.0008, 0.0008, 0.0008, 0.0008, 0.0008, 0.0008, 0.0008, 0.0008, 0.0008, 0.0008, 0.0008, 0.0008, 0.0008, 0.0008, 0.0007, 0.0007, 0.0007, 0.0007, 0.0007, 0.0007, 0.0007, 0.0007, 0.0007, 0.0007, 0.0007, 0.0007, 0.0007, 0.0007, 0.0007, 0.0007, 0.0007, 0.0006, 0.0006, 0.0006, 0.0006, 0.0006, 0.0006, 0.0006, 0.0006, 0.0006, 0.0006, 0.0006, 0.0006, 0.0006, 0.0006, 0.0005, 0.0005, 0.0005, 0.0005, 0.0005, 0.0005, 0.0005, 0.0004, 0.0004, 0.0003, 0.0003, 0.0003, 0.0003, 0.0003], \"textposition\": \"outside\", \"x\": [0.08428215816013974, 0.07778952439968197, 0.061273419520900374, 0.05192854646006414, 0.042830085924982456, 0.03194980245610239, 0.02990031583768173, 0.02876598756688243, 0.028365137808669692, 0.027634182326578178, 0.024544789270504304, 0.023289438210991505, 0.022217938461896056, 0.022020741691494084, 0.02097790227369438, 0.015424281423914176, 0.015358686898313868, 0.014414950237108839, 0.012920196536856013, 0.012474285980172563, 0.01100798517562343, 0.00978798268466741, 0.007583552594830054, 0.006803749830657744, 0.006181639025906369, 0.00608009576825813, 0.005622088642117, 0.00497558110035359, 0.004895874322146989, 0.004880189755826066, 0.004754549277638366, 0.004578976783443925, 0.003950628631081065, 0.0039011035653834817, 0.003756239366458203, 0.0037082547678286685, 0.0035887785801749935, 0.0035690839123533567, 0.0034450357610516873, 0.0032855708049452253, 0.0031836494410234935, 0.0031258051004210753, 0.0030860008795499994, 0.0030838621863578993, 0.003029004434327268, 0.0029789187548691335, 0.00297368875444708, 0.0027960661268534525, 0.002784695663948491, 0.002659244838875756, 0.0026494358111642828, 0.0025784087105861827, 0.002520307843537222, 0.002514645327827876, 0.002513222314056509, 0.0024773772084916634, 0.002471981767540579, 0.002416354275870183, 0.0024078488196928745, 0.00239009914392399, 0.0023645712381463566, 0.00236182192678174, 0.0023359761853789214, 0.002266439304283396, 0.002223894904056934, 0.002183789373406485, 0.0021567436501414095, 0.0021566492365961906, 0.0021520557040684957, 0.0021283288317690474, 0.0021132301109750462, 0.0020908836795678542, 0.0020638508747716426, 0.0020403889876136868, 0.0020156027264273827, 0.0019846527523757185, 0.001956021536807878, 0.0018677819944857318, 0.0018659998625602373, 0.0017832416245706496, 0.0017830609844405438, 0.0017792827259541458, 0.0017667934119273195, 0.0017523297715437626, 0.001718151542436108, 0.0017176022595103506, 0.0017055604817427118, 0.0016968530478436935, 0.0016640029951236908, 0.001654696853793133, 0.00164080563256236, 0.0016360037189228477, 0.0016341545474624984, 0.0016162942466787036, 0.0016080669635865868, 0.0015997166996505035, 0.0015899578943849586, 0.0015874440852197119, 0.0015780069811185463, 0.0015631002320543835, 0.0015378550730424639, 0.0014910984642695399, 0.0014663112932202893, 0.001457832066001841, 0.0014364876074489522, 0.0014270645706280364, 0.0014244054734176225, 0.0013763535657531035, 0.0013730913690188514, 0.0013691193355135373, 0.0013492397587690553, 0.0013490814506643732, 0.0013337800462667098, 0.0013316946982531086, 0.001304785533386583, 0.00130369975843087, 0.0012724316865547229, 0.0012571900183926603, 0.0012554784028822282, 0.0012489495682576803, 0.0012385890126699948, 0.0012158607768572383, 0.0011591617452289464, 0.0011504027028453822, 0.0011468686843190362, 0.00113156631503864, 0.001129238672612419, 0.0011276115622010268, 0.0011205231154099167, 0.0011090934710542813, 0.0010977187932573822, 0.0010948558995743651, 0.0010927917235932624, 0.0010819589907864265, 0.0010816078075536308, 0.001081165203875303, 0.001079621715329799, 0.0010761747412710689, 0.0010725408460118134, 0.001071540571556296, 0.0010670831311712136, 0.0010619811896570989, 0.0010592561968400475, 0.0010570027422494653, 0.001050552744387575, 0.0010490765818645929, 0.001046688135182387, 0.0010360333972115998, 0.0010300725001422726, 0.0010258916549859807, 0.0010023663752759947, 0.000996000322707669, 0.000993912795348055, 0.0009866233588756875, 0.0009856637392854214, 0.0009822746717369371, 0.0009718345300028932, 0.0009667609422250609, 0.0009589476379935205, 0.0009112383666458194, 0.0009036678479178177, 0.0009033125218451671, 0.0008999734936673226, 0.0008879301448792606, 0.000879633089667875, 0.0008695487674622276, 0.0008677720333101661, 0.0008671820101375774, 0.0008299988054711203, 0.0008262294729521821, 0.0008211784791611453, 0.0008144065124110134, 0.0008029233642405486, 0.0008003159344708991, 0.00079776665221275, 0.0007944073360587356, 0.0007825156040314333, 0.0007800231781051977, 0.0007717301521482711, 0.0007703950555659633, 0.00076836074595416, 0.0007541154536460508, 0.0007538212193875335, 0.0007428888698529856, 0.0007421549436686136, 0.0007372187176908213, 0.000736422875333788, 0.0007345612943285148, 0.0007314346862382687, 0.0007222213053459971, 0.0007182114639182645, 0.0007109785624481633, 0.0007099089478644041, 0.0006965553855701851, 0.0006889019486461277, 0.0006866011945221611, 0.0006662057432202779, 0.000661707772246786, 0.0006589460522748462, 0.0006562213442401069, 0.0006494049413325787, 0.0006481043859562089, 0.0006443234350196856, 0.0006436023901239136, 0.0006382627254282079, 0.0006320038940797481, 0.0006295992323833478, 0.0006178903203833326, 0.0006138465836999042, 0.0006035339122946984, 0.0005927782681764686, 0.0005853584013745052, 0.0005815586221832724, 0.0005755684951905108, 0.0005319845015127369, 0.0004977210295835493, 0.0004970516712726696, 0.0004900700158798076, 0.0004784831970169475, 0.00047234454638431174, 0.00045298929827462, 0.00040839610784111115, 0.0003873106577400343, 0.0003388495038387286, 0.0002991241433227892, 0.00029620167777814237, 0.0002605123015060054, 0.0002569148718187161], \"y\": [\"39\", \"6\", \"131\", \"45\", \"0\", \"137\", \"3\", \"17\", \"9\", \"40\", \"74\", \"154\", \"97\", \"4\", \"136\", \"82\", \"81\", \"1\", \"66\", \"2\", \"58\", \"79\", \"30\", \"25\", \"111\", \"101\", \"69\", \"52\", \"115\", \"164\", \"62\", \"28\", \"32\", \"104\", \"5\", \"68\", \"54\", \"77\", \"26\", \"216\", \"174\", \"217\", \"161\", \"72\", \"218\", \"80\", \"10\", \"160\", \"47\", \"188\", \"159\", \"7\", \"90\", \"223\", \"87\", \"41\", \"201\", \"102\", \"208\", \"108\", \"180\", \"170\", \"70\", \"94\", \"22\", \"171\", \"168\", \"163\", \"219\", \"11\", \"124\", \"107\", \"173\", \"127\", \"141\", \"179\", \"84\", \"195\", \"61\", \"116\", \"89\", \"99\", \"50\", \"16\", \"220\", \"14\", \"126\", \"92\", \"56\", \"146\", \"167\", \"12\", \"143\", \"202\", \"212\", \"182\", \"166\", \"13\", \"29\", \"96\", \"181\", \"98\", \"86\", \"35\", \"129\", \"215\", \"117\", \"63\", \"150\", \"156\", \"95\", \"145\", \"78\", \"112\", \"37\", \"224\", \"192\", \"191\", \"110\", \"34\", \"15\", \"190\", \"153\", \"103\", \"73\", \"55\", \"31\", \"214\", \"123\", \"175\", \"118\", \"93\", \"21\", \"140\", \"36\", \"128\", \"139\", \"109\", \"209\", \"76\", \"135\", \"162\", \"24\", \"48\", \"114\", \"42\", \"184\", \"211\", \"196\", \"227\", \"198\", \"226\", \"205\", \"147\", \"18\", \"106\", \"165\", \"75\", \"148\", \"67\", \"152\", \"155\", \"71\", \"60\", \"186\", \"222\", \"83\", \"125\", \"204\", \"207\", \"210\", \"130\", \"177\", \"38\", \"23\", \"53\", \"221\", \"88\", \"57\", \"187\", \"51\", \"33\", \"27\", \"85\", \"200\", \"142\", \"105\", \"157\", \"8\", \"100\", \"151\", \"20\", \"178\", \"206\", \"133\", \"91\", \"197\", \"149\", \"64\", \"122\", \"158\", \"121\", \"59\", \"44\", \"65\", \"213\", \"49\", \"43\", \"203\", \"169\", \"132\", \"113\", \"19\", \"120\", \"225\", \"176\", \"185\", \"138\", \"172\", \"189\", \"134\", \"183\", \"144\", \"193\", \"199\", \"119\", \"194\", \"46\"], \"type\": \"bar\", \"uid\": \"d14f0227-55ea-4f2d-be27-f9f3de7060cb\"}], {\"autosize\": false, \"height\": 1000, \"width\": 1000, \"xaxis\": {\"tickfont\": {\"color\": \"black\", \"size\": 12}, \"title\": \"Feature Importances\"}, \"yaxis\": {\"automargin\": true}}, {\"showLink\": true, \"linkText\": \"Export to plot.ly\", \"plotlyServerURL\": \"https://plot.ly\"})});</script>"
      ],
      "text/vnd.plotly.v1+html": [
       "<div id=\"97fc4216-daf9-499f-b33e-c92b4ddf31ab\" style=\"height: 1000px; width: 1000px;\" class=\"plotly-graph-div\"></div><script type=\"text/javascript\">require([\"plotly\"], function(Plotly) { window.PLOTLYENV=window.PLOTLYENV || {};window.PLOTLYENV.BASE_URL=\"https://plot.ly\";Plotly.newPlot(\"97fc4216-daf9-499f-b33e-c92b4ddf31ab\", [{\"marker\": {\"color\": \"rgb(158,202,225)\", \"line\": {\"color\": \"rgb(8,48,107)\", \"width\": 1.5}}, \"opacity\": 0.6, \"orientation\": \"h\", \"text\": [0.0843, 0.0778, 0.0613, 0.0519, 0.0428, 0.0319, 0.0299, 0.0288, 0.0284, 0.0276, 0.0245, 0.0233, 0.0222, 0.022, 0.021, 0.0154, 0.0154, 0.0144, 0.0129, 0.0125, 0.011, 0.0098, 0.0076, 0.0068, 0.0062, 0.0061, 0.0056, 0.005, 0.0049, 0.0049, 0.0048, 0.0046, 0.004, 0.0039, 0.0038, 0.0037, 0.0036, 0.0036, 0.0034, 0.0033, 0.0032, 0.0031, 0.0031, 0.0031, 0.003, 0.003, 0.003, 0.0028, 0.0028, 0.0027, 0.0026, 0.0026, 0.0025, 0.0025, 0.0025, 0.0025, 0.0025, 0.0024, 0.0024, 0.0024, 0.0024, 0.0024, 0.0023, 0.0023, 0.0022, 0.0022, 0.0022, 0.0022, 0.0022, 0.0021, 0.0021, 0.0021, 0.0021, 0.002, 0.002, 0.002, 0.002, 0.0019, 0.0019, 0.0018, 0.0018, 0.0018, 0.0018, 0.0018, 0.0017, 0.0017, 0.0017, 0.0017, 0.0017, 0.0017, 0.0016, 0.0016, 0.0016, 0.0016, 0.0016, 0.0016, 0.0016, 0.0016, 0.0016, 0.0016, 0.0015, 0.0015, 0.0015, 0.0015, 0.0014, 0.0014, 0.0014, 0.0014, 0.0014, 0.0014, 0.0013, 0.0013, 0.0013, 0.0013, 0.0013, 0.0013, 0.0013, 0.0013, 0.0013, 0.0012, 0.0012, 0.0012, 0.0012, 0.0012, 0.0011, 0.0011, 0.0011, 0.0011, 0.0011, 0.0011, 0.0011, 0.0011, 0.0011, 0.0011, 0.0011, 0.0011, 0.0011, 0.0011, 0.0011, 0.0011, 0.0011, 0.0011, 0.0011, 0.0011, 0.0011, 0.001, 0.001, 0.001, 0.001, 0.001, 0.001, 0.001, 0.001, 0.001, 0.001, 0.001, 0.001, 0.001, 0.001, 0.0009, 0.0009, 0.0009, 0.0009, 0.0009, 0.0009, 0.0009, 0.0009, 0.0009, 0.0008, 0.0008, 0.0008, 0.0008, 0.0008, 0.0008, 0.0008, 0.0008, 0.0008, 0.0008, 0.0008, 0.0008, 0.0008, 0.0008, 0.0008, 0.0007, 0.0007, 0.0007, 0.0007, 0.0007, 0.0007, 0.0007, 0.0007, 0.0007, 0.0007, 0.0007, 0.0007, 0.0007, 0.0007, 0.0007, 0.0007, 0.0007, 0.0006, 0.0006, 0.0006, 0.0006, 0.0006, 0.0006, 0.0006, 0.0006, 0.0006, 0.0006, 0.0006, 0.0006, 0.0006, 0.0006, 0.0005, 0.0005, 0.0005, 0.0005, 0.0005, 0.0005, 0.0005, 0.0004, 0.0004, 0.0003, 0.0003, 0.0003, 0.0003, 0.0003], \"textposition\": \"outside\", \"x\": [0.08428215816013974, 0.07778952439968197, 0.061273419520900374, 0.05192854646006414, 0.042830085924982456, 0.03194980245610239, 0.02990031583768173, 0.02876598756688243, 0.028365137808669692, 0.027634182326578178, 0.024544789270504304, 0.023289438210991505, 0.022217938461896056, 0.022020741691494084, 0.02097790227369438, 0.015424281423914176, 0.015358686898313868, 0.014414950237108839, 0.012920196536856013, 0.012474285980172563, 0.01100798517562343, 0.00978798268466741, 0.007583552594830054, 0.006803749830657744, 0.006181639025906369, 0.00608009576825813, 0.005622088642117, 0.00497558110035359, 0.004895874322146989, 0.004880189755826066, 0.004754549277638366, 0.004578976783443925, 0.003950628631081065, 0.0039011035653834817, 0.003756239366458203, 0.0037082547678286685, 0.0035887785801749935, 0.0035690839123533567, 0.0034450357610516873, 0.0032855708049452253, 0.0031836494410234935, 0.0031258051004210753, 0.0030860008795499994, 0.0030838621863578993, 0.003029004434327268, 0.0029789187548691335, 0.00297368875444708, 0.0027960661268534525, 0.002784695663948491, 0.002659244838875756, 0.0026494358111642828, 0.0025784087105861827, 0.002520307843537222, 0.002514645327827876, 0.002513222314056509, 0.0024773772084916634, 0.002471981767540579, 0.002416354275870183, 0.0024078488196928745, 0.00239009914392399, 0.0023645712381463566, 0.00236182192678174, 0.0023359761853789214, 0.002266439304283396, 0.002223894904056934, 0.002183789373406485, 0.0021567436501414095, 0.0021566492365961906, 0.0021520557040684957, 0.0021283288317690474, 0.0021132301109750462, 0.0020908836795678542, 0.0020638508747716426, 0.0020403889876136868, 0.0020156027264273827, 0.0019846527523757185, 0.001956021536807878, 0.0018677819944857318, 0.0018659998625602373, 0.0017832416245706496, 0.0017830609844405438, 0.0017792827259541458, 0.0017667934119273195, 0.0017523297715437626, 0.001718151542436108, 0.0017176022595103506, 0.0017055604817427118, 0.0016968530478436935, 0.0016640029951236908, 0.001654696853793133, 0.00164080563256236, 0.0016360037189228477, 0.0016341545474624984, 0.0016162942466787036, 0.0016080669635865868, 0.0015997166996505035, 0.0015899578943849586, 0.0015874440852197119, 0.0015780069811185463, 0.0015631002320543835, 0.0015378550730424639, 0.0014910984642695399, 0.0014663112932202893, 0.001457832066001841, 0.0014364876074489522, 0.0014270645706280364, 0.0014244054734176225, 0.0013763535657531035, 0.0013730913690188514, 0.0013691193355135373, 0.0013492397587690553, 0.0013490814506643732, 0.0013337800462667098, 0.0013316946982531086, 0.001304785533386583, 0.00130369975843087, 0.0012724316865547229, 0.0012571900183926603, 0.0012554784028822282, 0.0012489495682576803, 0.0012385890126699948, 0.0012158607768572383, 0.0011591617452289464, 0.0011504027028453822, 0.0011468686843190362, 0.00113156631503864, 0.001129238672612419, 0.0011276115622010268, 0.0011205231154099167, 0.0011090934710542813, 0.0010977187932573822, 0.0010948558995743651, 0.0010927917235932624, 0.0010819589907864265, 0.0010816078075536308, 0.001081165203875303, 0.001079621715329799, 0.0010761747412710689, 0.0010725408460118134, 0.001071540571556296, 0.0010670831311712136, 0.0010619811896570989, 0.0010592561968400475, 0.0010570027422494653, 0.001050552744387575, 0.0010490765818645929, 0.001046688135182387, 0.0010360333972115998, 0.0010300725001422726, 0.0010258916549859807, 0.0010023663752759947, 0.000996000322707669, 0.000993912795348055, 0.0009866233588756875, 0.0009856637392854214, 0.0009822746717369371, 0.0009718345300028932, 0.0009667609422250609, 0.0009589476379935205, 0.0009112383666458194, 0.0009036678479178177, 0.0009033125218451671, 0.0008999734936673226, 0.0008879301448792606, 0.000879633089667875, 0.0008695487674622276, 0.0008677720333101661, 0.0008671820101375774, 0.0008299988054711203, 0.0008262294729521821, 0.0008211784791611453, 0.0008144065124110134, 0.0008029233642405486, 0.0008003159344708991, 0.00079776665221275, 0.0007944073360587356, 0.0007825156040314333, 0.0007800231781051977, 0.0007717301521482711, 0.0007703950555659633, 0.00076836074595416, 0.0007541154536460508, 0.0007538212193875335, 0.0007428888698529856, 0.0007421549436686136, 0.0007372187176908213, 0.000736422875333788, 0.0007345612943285148, 0.0007314346862382687, 0.0007222213053459971, 0.0007182114639182645, 0.0007109785624481633, 0.0007099089478644041, 0.0006965553855701851, 0.0006889019486461277, 0.0006866011945221611, 0.0006662057432202779, 0.000661707772246786, 0.0006589460522748462, 0.0006562213442401069, 0.0006494049413325787, 0.0006481043859562089, 0.0006443234350196856, 0.0006436023901239136, 0.0006382627254282079, 0.0006320038940797481, 0.0006295992323833478, 0.0006178903203833326, 0.0006138465836999042, 0.0006035339122946984, 0.0005927782681764686, 0.0005853584013745052, 0.0005815586221832724, 0.0005755684951905108, 0.0005319845015127369, 0.0004977210295835493, 0.0004970516712726696, 0.0004900700158798076, 0.0004784831970169475, 0.00047234454638431174, 0.00045298929827462, 0.00040839610784111115, 0.0003873106577400343, 0.0003388495038387286, 0.0002991241433227892, 0.00029620167777814237, 0.0002605123015060054, 0.0002569148718187161], \"y\": [\"39\", \"6\", \"131\", \"45\", \"0\", \"137\", \"3\", \"17\", \"9\", \"40\", \"74\", \"154\", \"97\", \"4\", \"136\", \"82\", \"81\", \"1\", \"66\", \"2\", \"58\", \"79\", \"30\", \"25\", \"111\", \"101\", \"69\", \"52\", \"115\", \"164\", \"62\", \"28\", \"32\", \"104\", \"5\", \"68\", \"54\", \"77\", \"26\", \"216\", \"174\", \"217\", \"161\", \"72\", \"218\", \"80\", \"10\", \"160\", \"47\", \"188\", \"159\", \"7\", \"90\", \"223\", \"87\", \"41\", \"201\", \"102\", \"208\", \"108\", \"180\", \"170\", \"70\", \"94\", \"22\", \"171\", \"168\", \"163\", \"219\", \"11\", \"124\", \"107\", \"173\", \"127\", \"141\", \"179\", \"84\", \"195\", \"61\", \"116\", \"89\", \"99\", \"50\", \"16\", \"220\", \"14\", \"126\", \"92\", \"56\", \"146\", \"167\", \"12\", \"143\", \"202\", \"212\", \"182\", \"166\", \"13\", \"29\", \"96\", \"181\", \"98\", \"86\", \"35\", \"129\", \"215\", \"117\", \"63\", \"150\", \"156\", \"95\", \"145\", \"78\", \"112\", \"37\", \"224\", \"192\", \"191\", \"110\", \"34\", \"15\", \"190\", \"153\", \"103\", \"73\", \"55\", \"31\", \"214\", \"123\", \"175\", \"118\", \"93\", \"21\", \"140\", \"36\", \"128\", \"139\", \"109\", \"209\", \"76\", \"135\", \"162\", \"24\", \"48\", \"114\", \"42\", \"184\", \"211\", \"196\", \"227\", \"198\", \"226\", \"205\", \"147\", \"18\", \"106\", \"165\", \"75\", \"148\", \"67\", \"152\", \"155\", \"71\", \"60\", \"186\", \"222\", \"83\", \"125\", \"204\", \"207\", \"210\", \"130\", \"177\", \"38\", \"23\", \"53\", \"221\", \"88\", \"57\", \"187\", \"51\", \"33\", \"27\", \"85\", \"200\", \"142\", \"105\", \"157\", \"8\", \"100\", \"151\", \"20\", \"178\", \"206\", \"133\", \"91\", \"197\", \"149\", \"64\", \"122\", \"158\", \"121\", \"59\", \"44\", \"65\", \"213\", \"49\", \"43\", \"203\", \"169\", \"132\", \"113\", \"19\", \"120\", \"225\", \"176\", \"185\", \"138\", \"172\", \"189\", \"134\", \"183\", \"144\", \"193\", \"199\", \"119\", \"194\", \"46\"], \"type\": \"bar\", \"uid\": \"d14f0227-55ea-4f2d-be27-f9f3de7060cb\"}], {\"autosize\": false, \"height\": 1000, \"width\": 1000, \"xaxis\": {\"tickfont\": {\"color\": \"black\", \"size\": 12}, \"title\": \"Feature Importances\"}, \"yaxis\": {\"automargin\": true}}, {\"showLink\": true, \"linkText\": \"Export to plot.ly\", \"plotlyServerURL\": \"https://plot.ly\"})});</script>"
      ]
     },
     "metadata": {},
     "output_type": "display_data"
    },
    {
     "name": "stdout",
     "output_type": "stream",
     "text": [
      "\n",
      "\n",
      "\u001b[1mAdaoost Classifier\u001b[0m\n",
      "Accuracy of the model for training data is: 0.884238646483\n",
      "Confusion Matrix for training data is:\n"
     ]
    },
    {
     "data": {
      "text/plain": [
       "Predicted  False  True  __all__\n",
       "Actual                         \n",
       "False      24847  2991    27838\n",
       "True         779  3950     4729\n",
       "__all__    25626  6941    32567"
      ]
     },
     "metadata": {},
     "output_type": "display_data"
    },
    {
     "name": "stdout",
     "output_type": "stream",
     "text": [
      "Accuracy of the model for test data is: 0.885040530582\n",
      "Confusion Matrix for test data is:\n"
     ]
    },
    {
     "data": {
      "text/plain": [
       "Predicted  False  True  __all__\n",
       "Actual                         \n",
       "False       6200   740     6940\n",
       "True         196  1006     1202\n",
       "__all__     6396  1746     8142"
      ]
     },
     "metadata": {},
     "output_type": "display_data"
    },
    {
     "data": {
      "application/vnd.plotly.v1+json": {
       "config": {
        "linkText": "Export to plot.ly",
        "plotlyServerURL": "https://plot.ly",
        "showLink": true
       },
       "data": [
        {
         "marker": {
          "color": "rgb(158,202,225)",
          "line": {
           "color": "rgb(8,48,107)",
           "width": 1.5
          }
         },
         "opacity": 0.6,
         "orientation": "h",
         "text": [
          0.04,
          0.04,
          0.04,
          0.04,
          0.04,
          0.02,
          0.02,
          0.02,
          0.02,
          0.02,
          0.02,
          0.02,
          0.02,
          0.02,
          0.02,
          0.02,
          0.02,
          0.02,
          0.02,
          0.02,
          0.02,
          0.02,
          0.02,
          0.02,
          0.02,
          0.02,
          0.02,
          0.02,
          0.02,
          0.02,
          0.02,
          0.02,
          0.02,
          0.02,
          0.02,
          0.02,
          0.02,
          0.02,
          0.02,
          0.02,
          0.02,
          0.02,
          0.02,
          0.02,
          0.02,
          0,
          0,
          0,
          0,
          0,
          0,
          0,
          0,
          0,
          0,
          0,
          0,
          0,
          0,
          0,
          0,
          0,
          0,
          0,
          0,
          0,
          0,
          0,
          0,
          0,
          0,
          0,
          0,
          0,
          0,
          0,
          0,
          0,
          0,
          0,
          0,
          0,
          0,
          0,
          0,
          0,
          0,
          0,
          0,
          0,
          0,
          0,
          0,
          0,
          0,
          0,
          0,
          0,
          0,
          0,
          0,
          0,
          0,
          0,
          0,
          0,
          0,
          0,
          0,
          0,
          0,
          0,
          0,
          0,
          0,
          0,
          0,
          0,
          0,
          0,
          0,
          0,
          0,
          0,
          0,
          0,
          0,
          0,
          0,
          0,
          0,
          0,
          0,
          0,
          0,
          0,
          0,
          0,
          0,
          0,
          0,
          0,
          0,
          0,
          0,
          0,
          0,
          0,
          0,
          0,
          0,
          0,
          0,
          0,
          0,
          0,
          0,
          0,
          0,
          0,
          0,
          0,
          0,
          0,
          0,
          0,
          0,
          0,
          0,
          0,
          0,
          0,
          0,
          0,
          0,
          0,
          0,
          0,
          0,
          0,
          0,
          0,
          0,
          0,
          0,
          0,
          0,
          0,
          0,
          0,
          0,
          0,
          0,
          0,
          0,
          0,
          0,
          0,
          0,
          0,
          0,
          0,
          0,
          0,
          0,
          0,
          0,
          0,
          0,
          0,
          0,
          0,
          0,
          0,
          0,
          0,
          0,
          0,
          0,
          0,
          0,
          0,
          0,
          0,
          0,
          0,
          0,
          0
         ],
         "textposition": "outside",
         "type": "bar",
         "uid": "205545b4-e5a7-45b4-9336-b0d2db49d4d0",
         "x": [
          0.04,
          0.04,
          0.04,
          0.04,
          0.04,
          0.02,
          0.02,
          0.02,
          0.02,
          0.02,
          0.02,
          0.02,
          0.02,
          0.02,
          0.02,
          0.02,
          0.02,
          0.02,
          0.02,
          0.02,
          0.02,
          0.02,
          0.02,
          0.02,
          0.02,
          0.02,
          0.02,
          0.02,
          0.02,
          0.02,
          0.02,
          0.02,
          0.02,
          0.02,
          0.02,
          0.02,
          0.02,
          0.02,
          0.02,
          0.02,
          0.02,
          0.02,
          0.02,
          0.02,
          0.02,
          0,
          0,
          0,
          0,
          0,
          0,
          0,
          0,
          0,
          0,
          0,
          0,
          0,
          0,
          0,
          0,
          0,
          0,
          0,
          0,
          0,
          0,
          0,
          0,
          0,
          0,
          0,
          0,
          0,
          0,
          0,
          0,
          0,
          0,
          0,
          0,
          0,
          0,
          0,
          0,
          0,
          0,
          0,
          0,
          0,
          0,
          0,
          0,
          0,
          0,
          0,
          0,
          0,
          0,
          0,
          0,
          0,
          0,
          0,
          0,
          0,
          0,
          0,
          0,
          0,
          0,
          0,
          0,
          0,
          0,
          0,
          0,
          0,
          0,
          0,
          0,
          0,
          0,
          0,
          0,
          0,
          0,
          0,
          0,
          0,
          0,
          0,
          0,
          0,
          0,
          0,
          0,
          0,
          0,
          0,
          0,
          0,
          0,
          0,
          0,
          0,
          0,
          0,
          0,
          0,
          0,
          0,
          0,
          0,
          0,
          0,
          0,
          0,
          0,
          0,
          0,
          0,
          0,
          0,
          0,
          0,
          0,
          0,
          0,
          0,
          0,
          0,
          0,
          0,
          0,
          0,
          0,
          0,
          0,
          0,
          0,
          0,
          0,
          0,
          0,
          0,
          0,
          0,
          0,
          0,
          0,
          0,
          0,
          0,
          0,
          0,
          0,
          0,
          0,
          0,
          0,
          0,
          0,
          0,
          0,
          0,
          0,
          0,
          0,
          0,
          0,
          0,
          0,
          0,
          0,
          0,
          0,
          0,
          0,
          0,
          0,
          0,
          0,
          0,
          0,
          0,
          0,
          0
         ],
         "y": [
          "0",
          "179",
          "79",
          "1",
          "141",
          "213",
          "117",
          "47",
          "56",
          "62",
          "72",
          "220",
          "80",
          "84",
          "86",
          "88",
          "96",
          "98",
          "108",
          "113",
          "219",
          "122",
          "208",
          "140",
          "41",
          "147",
          "152",
          "158",
          "167",
          "174",
          "218",
          "182",
          "184",
          "186",
          "189",
          "198",
          "207",
          "43",
          "114",
          "34",
          "30",
          "19",
          "23",
          "10",
          "3",
          "39",
          "168",
          "161",
          "162",
          "163",
          "164",
          "165",
          "166",
          "15",
          "171",
          "169",
          "170",
          "159",
          "172",
          "173",
          "14",
          "175",
          "176",
          "177",
          "178",
          "160",
          "157",
          "16",
          "180",
          "137",
          "138",
          "139",
          "20",
          "142",
          "143",
          "144",
          "145",
          "146",
          "18",
          "148",
          "149",
          "150",
          "151",
          "17",
          "153",
          "154",
          "155",
          "156",
          "13",
          "12",
          "181",
          "205",
          "7",
          "6",
          "209",
          "210",
          "211",
          "212",
          "5",
          "214",
          "215",
          "216",
          "217",
          "4",
          "2",
          "221",
          "222",
          "223",
          "224",
          "225",
          "226",
          "206",
          "204",
          "135",
          "203",
          "183",
          "11",
          "185",
          "187",
          "188",
          "9",
          "190",
          "191",
          "192",
          "193",
          "194",
          "195",
          "196",
          "197",
          "8",
          "199",
          "200",
          "201",
          "202",
          "136",
          "133",
          "134",
          "74",
          "65",
          "66",
          "67",
          "68",
          "69",
          "70",
          "71",
          "33",
          "73",
          "75",
          "40",
          "76",
          "77",
          "78",
          "32",
          "31",
          "81",
          "82",
          "83",
          "85",
          "64",
          "63",
          "61",
          "60",
          "38",
          "42",
          "37",
          "44",
          "45",
          "46",
          "36",
          "48",
          "49",
          "50",
          "51",
          "52",
          "53",
          "54",
          "55",
          "35",
          "57",
          "58",
          "59",
          "29",
          "87",
          "28",
          "111",
          "24",
          "115",
          "116",
          "22",
          "118",
          "119",
          "120",
          "121",
          "21",
          "123",
          "124",
          "125",
          "126",
          "127",
          "128",
          "129",
          "130",
          "131",
          "132",
          "112",
          "110",
          "89",
          "109",
          "90",
          "91",
          "92",
          "93",
          "94",
          "95",
          "27",
          "97",
          "26",
          "99",
          "100",
          "101",
          "102",
          "103",
          "104",
          "105",
          "106",
          "107",
          "25",
          "227"
         ]
        }
       ],
       "layout": {
        "autosize": false,
        "height": 1000,
        "width": 1000,
        "xaxis": {
         "tickfont": {
          "color": "black",
          "size": 12
         },
         "title": "Feature Importances"
        },
        "yaxis": {
         "automargin": true
        }
       }
      },
      "text/html": [
       "<div id=\"f9622ba2-170a-4460-a206-fe2315d3b1e3\" style=\"height: 1000px; width: 1000px;\" class=\"plotly-graph-div\"></div><script type=\"text/javascript\">require([\"plotly\"], function(Plotly) { window.PLOTLYENV=window.PLOTLYENV || {};window.PLOTLYENV.BASE_URL=\"https://plot.ly\";Plotly.newPlot(\"f9622ba2-170a-4460-a206-fe2315d3b1e3\", [{\"marker\": {\"color\": \"rgb(158,202,225)\", \"line\": {\"color\": \"rgb(8,48,107)\", \"width\": 1.5}}, \"opacity\": 0.6, \"orientation\": \"h\", \"text\": [0.04, 0.04, 0.04, 0.04, 0.04, 0.02, 0.02, 0.02, 0.02, 0.02, 0.02, 0.02, 0.02, 0.02, 0.02, 0.02, 0.02, 0.02, 0.02, 0.02, 0.02, 0.02, 0.02, 0.02, 0.02, 0.02, 0.02, 0.02, 0.02, 0.02, 0.02, 0.02, 0.02, 0.02, 0.02, 0.02, 0.02, 0.02, 0.02, 0.02, 0.02, 0.02, 0.02, 0.02, 0.02, 0.0, 0.0, 0.0, 0.0, 0.0, 0.0, 0.0, 0.0, 0.0, 0.0, 0.0, 0.0, 0.0, 0.0, 0.0, 0.0, 0.0, 0.0, 0.0, 0.0, 0.0, 0.0, 0.0, 0.0, 0.0, 0.0, 0.0, 0.0, 0.0, 0.0, 0.0, 0.0, 0.0, 0.0, 0.0, 0.0, 0.0, 0.0, 0.0, 0.0, 0.0, 0.0, 0.0, 0.0, 0.0, 0.0, 0.0, 0.0, 0.0, 0.0, 0.0, 0.0, 0.0, 0.0, 0.0, 0.0, 0.0, 0.0, 0.0, 0.0, 0.0, 0.0, 0.0, 0.0, 0.0, 0.0, 0.0, 0.0, 0.0, 0.0, 0.0, 0.0, 0.0, 0.0, 0.0, 0.0, 0.0, 0.0, 0.0, 0.0, 0.0, 0.0, 0.0, 0.0, 0.0, 0.0, 0.0, 0.0, 0.0, 0.0, 0.0, 0.0, 0.0, 0.0, 0.0, 0.0, 0.0, 0.0, 0.0, 0.0, 0.0, 0.0, 0.0, 0.0, 0.0, 0.0, 0.0, 0.0, 0.0, 0.0, 0.0, 0.0, 0.0, 0.0, 0.0, 0.0, 0.0, 0.0, 0.0, 0.0, 0.0, 0.0, 0.0, 0.0, 0.0, 0.0, 0.0, 0.0, 0.0, 0.0, 0.0, 0.0, 0.0, 0.0, 0.0, 0.0, 0.0, 0.0, 0.0, 0.0, 0.0, 0.0, 0.0, 0.0, 0.0, 0.0, 0.0, 0.0, 0.0, 0.0, 0.0, 0.0, 0.0, 0.0, 0.0, 0.0, 0.0, 0.0, 0.0, 0.0, 0.0, 0.0, 0.0, 0.0, 0.0, 0.0, 0.0, 0.0, 0.0, 0.0, 0.0, 0.0, 0.0, 0.0, 0.0, 0.0, 0.0, 0.0, 0.0, 0.0, 0.0, 0.0, 0.0], \"textposition\": \"outside\", \"x\": [0.04, 0.04, 0.04, 0.04, 0.04, 0.02, 0.02, 0.02, 0.02, 0.02, 0.02, 0.02, 0.02, 0.02, 0.02, 0.02, 0.02, 0.02, 0.02, 0.02, 0.02, 0.02, 0.02, 0.02, 0.02, 0.02, 0.02, 0.02, 0.02, 0.02, 0.02, 0.02, 0.02, 0.02, 0.02, 0.02, 0.02, 0.02, 0.02, 0.02, 0.02, 0.02, 0.02, 0.02, 0.02, 0.0, 0.0, 0.0, 0.0, 0.0, 0.0, 0.0, 0.0, 0.0, 0.0, 0.0, 0.0, 0.0, 0.0, 0.0, 0.0, 0.0, 0.0, 0.0, 0.0, 0.0, 0.0, 0.0, 0.0, 0.0, 0.0, 0.0, 0.0, 0.0, 0.0, 0.0, 0.0, 0.0, 0.0, 0.0, 0.0, 0.0, 0.0, 0.0, 0.0, 0.0, 0.0, 0.0, 0.0, 0.0, 0.0, 0.0, 0.0, 0.0, 0.0, 0.0, 0.0, 0.0, 0.0, 0.0, 0.0, 0.0, 0.0, 0.0, 0.0, 0.0, 0.0, 0.0, 0.0, 0.0, 0.0, 0.0, 0.0, 0.0, 0.0, 0.0, 0.0, 0.0, 0.0, 0.0, 0.0, 0.0, 0.0, 0.0, 0.0, 0.0, 0.0, 0.0, 0.0, 0.0, 0.0, 0.0, 0.0, 0.0, 0.0, 0.0, 0.0, 0.0, 0.0, 0.0, 0.0, 0.0, 0.0, 0.0, 0.0, 0.0, 0.0, 0.0, 0.0, 0.0, 0.0, 0.0, 0.0, 0.0, 0.0, 0.0, 0.0, 0.0, 0.0, 0.0, 0.0, 0.0, 0.0, 0.0, 0.0, 0.0, 0.0, 0.0, 0.0, 0.0, 0.0, 0.0, 0.0, 0.0, 0.0, 0.0, 0.0, 0.0, 0.0, 0.0, 0.0, 0.0, 0.0, 0.0, 0.0, 0.0, 0.0, 0.0, 0.0, 0.0, 0.0, 0.0, 0.0, 0.0, 0.0, 0.0, 0.0, 0.0, 0.0, 0.0, 0.0, 0.0, 0.0, 0.0, 0.0, 0.0, 0.0, 0.0, 0.0, 0.0, 0.0, 0.0, 0.0, 0.0, 0.0, 0.0, 0.0, 0.0, 0.0, 0.0, 0.0, 0.0, 0.0, 0.0, 0.0, 0.0, 0.0, 0.0], \"y\": [\"0\", \"179\", \"79\", \"1\", \"141\", \"213\", \"117\", \"47\", \"56\", \"62\", \"72\", \"220\", \"80\", \"84\", \"86\", \"88\", \"96\", \"98\", \"108\", \"113\", \"219\", \"122\", \"208\", \"140\", \"41\", \"147\", \"152\", \"158\", \"167\", \"174\", \"218\", \"182\", \"184\", \"186\", \"189\", \"198\", \"207\", \"43\", \"114\", \"34\", \"30\", \"19\", \"23\", \"10\", \"3\", \"39\", \"168\", \"161\", \"162\", \"163\", \"164\", \"165\", \"166\", \"15\", \"171\", \"169\", \"170\", \"159\", \"172\", \"173\", \"14\", \"175\", \"176\", \"177\", \"178\", \"160\", \"157\", \"16\", \"180\", \"137\", \"138\", \"139\", \"20\", \"142\", \"143\", \"144\", \"145\", \"146\", \"18\", \"148\", \"149\", \"150\", \"151\", \"17\", \"153\", \"154\", \"155\", \"156\", \"13\", \"12\", \"181\", \"205\", \"7\", \"6\", \"209\", \"210\", \"211\", \"212\", \"5\", \"214\", \"215\", \"216\", \"217\", \"4\", \"2\", \"221\", \"222\", \"223\", \"224\", \"225\", \"226\", \"206\", \"204\", \"135\", \"203\", \"183\", \"11\", \"185\", \"187\", \"188\", \"9\", \"190\", \"191\", \"192\", \"193\", \"194\", \"195\", \"196\", \"197\", \"8\", \"199\", \"200\", \"201\", \"202\", \"136\", \"133\", \"134\", \"74\", \"65\", \"66\", \"67\", \"68\", \"69\", \"70\", \"71\", \"33\", \"73\", \"75\", \"40\", \"76\", \"77\", \"78\", \"32\", \"31\", \"81\", \"82\", \"83\", \"85\", \"64\", \"63\", \"61\", \"60\", \"38\", \"42\", \"37\", \"44\", \"45\", \"46\", \"36\", \"48\", \"49\", \"50\", \"51\", \"52\", \"53\", \"54\", \"55\", \"35\", \"57\", \"58\", \"59\", \"29\", \"87\", \"28\", \"111\", \"24\", \"115\", \"116\", \"22\", \"118\", \"119\", \"120\", \"121\", \"21\", \"123\", \"124\", \"125\", \"126\", \"127\", \"128\", \"129\", \"130\", \"131\", \"132\", \"112\", \"110\", \"89\", \"109\", \"90\", \"91\", \"92\", \"93\", \"94\", \"95\", \"27\", \"97\", \"26\", \"99\", \"100\", \"101\", \"102\", \"103\", \"104\", \"105\", \"106\", \"107\", \"25\", \"227\"], \"type\": \"bar\", \"uid\": \"205545b4-e5a7-45b4-9336-b0d2db49d4d0\"}], {\"autosize\": false, \"height\": 1000, \"width\": 1000, \"xaxis\": {\"tickfont\": {\"color\": \"black\", \"size\": 12}, \"title\": \"Feature Importances\"}, \"yaxis\": {\"automargin\": true}}, {\"showLink\": true, \"linkText\": \"Export to plot.ly\", \"plotlyServerURL\": \"https://plot.ly\"})});</script>"
      ],
      "text/vnd.plotly.v1+html": [
       "<div id=\"f9622ba2-170a-4460-a206-fe2315d3b1e3\" style=\"height: 1000px; width: 1000px;\" class=\"plotly-graph-div\"></div><script type=\"text/javascript\">require([\"plotly\"], function(Plotly) { window.PLOTLYENV=window.PLOTLYENV || {};window.PLOTLYENV.BASE_URL=\"https://plot.ly\";Plotly.newPlot(\"f9622ba2-170a-4460-a206-fe2315d3b1e3\", [{\"marker\": {\"color\": \"rgb(158,202,225)\", \"line\": {\"color\": \"rgb(8,48,107)\", \"width\": 1.5}}, \"opacity\": 0.6, \"orientation\": \"h\", \"text\": [0.04, 0.04, 0.04, 0.04, 0.04, 0.02, 0.02, 0.02, 0.02, 0.02, 0.02, 0.02, 0.02, 0.02, 0.02, 0.02, 0.02, 0.02, 0.02, 0.02, 0.02, 0.02, 0.02, 0.02, 0.02, 0.02, 0.02, 0.02, 0.02, 0.02, 0.02, 0.02, 0.02, 0.02, 0.02, 0.02, 0.02, 0.02, 0.02, 0.02, 0.02, 0.02, 0.02, 0.02, 0.02, 0.0, 0.0, 0.0, 0.0, 0.0, 0.0, 0.0, 0.0, 0.0, 0.0, 0.0, 0.0, 0.0, 0.0, 0.0, 0.0, 0.0, 0.0, 0.0, 0.0, 0.0, 0.0, 0.0, 0.0, 0.0, 0.0, 0.0, 0.0, 0.0, 0.0, 0.0, 0.0, 0.0, 0.0, 0.0, 0.0, 0.0, 0.0, 0.0, 0.0, 0.0, 0.0, 0.0, 0.0, 0.0, 0.0, 0.0, 0.0, 0.0, 0.0, 0.0, 0.0, 0.0, 0.0, 0.0, 0.0, 0.0, 0.0, 0.0, 0.0, 0.0, 0.0, 0.0, 0.0, 0.0, 0.0, 0.0, 0.0, 0.0, 0.0, 0.0, 0.0, 0.0, 0.0, 0.0, 0.0, 0.0, 0.0, 0.0, 0.0, 0.0, 0.0, 0.0, 0.0, 0.0, 0.0, 0.0, 0.0, 0.0, 0.0, 0.0, 0.0, 0.0, 0.0, 0.0, 0.0, 0.0, 0.0, 0.0, 0.0, 0.0, 0.0, 0.0, 0.0, 0.0, 0.0, 0.0, 0.0, 0.0, 0.0, 0.0, 0.0, 0.0, 0.0, 0.0, 0.0, 0.0, 0.0, 0.0, 0.0, 0.0, 0.0, 0.0, 0.0, 0.0, 0.0, 0.0, 0.0, 0.0, 0.0, 0.0, 0.0, 0.0, 0.0, 0.0, 0.0, 0.0, 0.0, 0.0, 0.0, 0.0, 0.0, 0.0, 0.0, 0.0, 0.0, 0.0, 0.0, 0.0, 0.0, 0.0, 0.0, 0.0, 0.0, 0.0, 0.0, 0.0, 0.0, 0.0, 0.0, 0.0, 0.0, 0.0, 0.0, 0.0, 0.0, 0.0, 0.0, 0.0, 0.0, 0.0, 0.0, 0.0, 0.0, 0.0, 0.0, 0.0, 0.0, 0.0, 0.0, 0.0, 0.0, 0.0], \"textposition\": \"outside\", \"x\": [0.04, 0.04, 0.04, 0.04, 0.04, 0.02, 0.02, 0.02, 0.02, 0.02, 0.02, 0.02, 0.02, 0.02, 0.02, 0.02, 0.02, 0.02, 0.02, 0.02, 0.02, 0.02, 0.02, 0.02, 0.02, 0.02, 0.02, 0.02, 0.02, 0.02, 0.02, 0.02, 0.02, 0.02, 0.02, 0.02, 0.02, 0.02, 0.02, 0.02, 0.02, 0.02, 0.02, 0.02, 0.02, 0.0, 0.0, 0.0, 0.0, 0.0, 0.0, 0.0, 0.0, 0.0, 0.0, 0.0, 0.0, 0.0, 0.0, 0.0, 0.0, 0.0, 0.0, 0.0, 0.0, 0.0, 0.0, 0.0, 0.0, 0.0, 0.0, 0.0, 0.0, 0.0, 0.0, 0.0, 0.0, 0.0, 0.0, 0.0, 0.0, 0.0, 0.0, 0.0, 0.0, 0.0, 0.0, 0.0, 0.0, 0.0, 0.0, 0.0, 0.0, 0.0, 0.0, 0.0, 0.0, 0.0, 0.0, 0.0, 0.0, 0.0, 0.0, 0.0, 0.0, 0.0, 0.0, 0.0, 0.0, 0.0, 0.0, 0.0, 0.0, 0.0, 0.0, 0.0, 0.0, 0.0, 0.0, 0.0, 0.0, 0.0, 0.0, 0.0, 0.0, 0.0, 0.0, 0.0, 0.0, 0.0, 0.0, 0.0, 0.0, 0.0, 0.0, 0.0, 0.0, 0.0, 0.0, 0.0, 0.0, 0.0, 0.0, 0.0, 0.0, 0.0, 0.0, 0.0, 0.0, 0.0, 0.0, 0.0, 0.0, 0.0, 0.0, 0.0, 0.0, 0.0, 0.0, 0.0, 0.0, 0.0, 0.0, 0.0, 0.0, 0.0, 0.0, 0.0, 0.0, 0.0, 0.0, 0.0, 0.0, 0.0, 0.0, 0.0, 0.0, 0.0, 0.0, 0.0, 0.0, 0.0, 0.0, 0.0, 0.0, 0.0, 0.0, 0.0, 0.0, 0.0, 0.0, 0.0, 0.0, 0.0, 0.0, 0.0, 0.0, 0.0, 0.0, 0.0, 0.0, 0.0, 0.0, 0.0, 0.0, 0.0, 0.0, 0.0, 0.0, 0.0, 0.0, 0.0, 0.0, 0.0, 0.0, 0.0, 0.0, 0.0, 0.0, 0.0, 0.0, 0.0, 0.0, 0.0, 0.0, 0.0, 0.0, 0.0], \"y\": [\"0\", \"179\", \"79\", \"1\", \"141\", \"213\", \"117\", \"47\", \"56\", \"62\", \"72\", \"220\", \"80\", \"84\", \"86\", \"88\", \"96\", \"98\", \"108\", \"113\", \"219\", \"122\", \"208\", \"140\", \"41\", \"147\", \"152\", \"158\", \"167\", \"174\", \"218\", \"182\", \"184\", \"186\", \"189\", \"198\", \"207\", \"43\", \"114\", \"34\", \"30\", \"19\", \"23\", \"10\", \"3\", \"39\", \"168\", \"161\", \"162\", \"163\", \"164\", \"165\", \"166\", \"15\", \"171\", \"169\", \"170\", \"159\", \"172\", \"173\", \"14\", \"175\", \"176\", \"177\", \"178\", \"160\", \"157\", \"16\", \"180\", \"137\", \"138\", \"139\", \"20\", \"142\", \"143\", \"144\", \"145\", \"146\", \"18\", \"148\", \"149\", \"150\", \"151\", \"17\", \"153\", \"154\", \"155\", \"156\", \"13\", \"12\", \"181\", \"205\", \"7\", \"6\", \"209\", \"210\", \"211\", \"212\", \"5\", \"214\", \"215\", \"216\", \"217\", \"4\", \"2\", \"221\", \"222\", \"223\", \"224\", \"225\", \"226\", \"206\", \"204\", \"135\", \"203\", \"183\", \"11\", \"185\", \"187\", \"188\", \"9\", \"190\", \"191\", \"192\", \"193\", \"194\", \"195\", \"196\", \"197\", \"8\", \"199\", \"200\", \"201\", \"202\", \"136\", \"133\", \"134\", \"74\", \"65\", \"66\", \"67\", \"68\", \"69\", \"70\", \"71\", \"33\", \"73\", \"75\", \"40\", \"76\", \"77\", \"78\", \"32\", \"31\", \"81\", \"82\", \"83\", \"85\", \"64\", \"63\", \"61\", \"60\", \"38\", \"42\", \"37\", \"44\", \"45\", \"46\", \"36\", \"48\", \"49\", \"50\", \"51\", \"52\", \"53\", \"54\", \"55\", \"35\", \"57\", \"58\", \"59\", \"29\", \"87\", \"28\", \"111\", \"24\", \"115\", \"116\", \"22\", \"118\", \"119\", \"120\", \"121\", \"21\", \"123\", \"124\", \"125\", \"126\", \"127\", \"128\", \"129\", \"130\", \"131\", \"132\", \"112\", \"110\", \"89\", \"109\", \"90\", \"91\", \"92\", \"93\", \"94\", \"95\", \"27\", \"97\", \"26\", \"99\", \"100\", \"101\", \"102\", \"103\", \"104\", \"105\", \"106\", \"107\", \"25\", \"227\"], \"type\": \"bar\", \"uid\": \"205545b4-e5a7-45b4-9336-b0d2db49d4d0\"}], {\"autosize\": false, \"height\": 1000, \"width\": 1000, \"xaxis\": {\"tickfont\": {\"color\": \"black\", \"size\": 12}, \"title\": \"Feature Importances\"}, \"yaxis\": {\"automargin\": true}}, {\"showLink\": true, \"linkText\": \"Export to plot.ly\", \"plotlyServerURL\": \"https://plot.ly\"})});</script>"
      ]
     },
     "metadata": {},
     "output_type": "display_data"
    },
    {
     "name": "stdout",
     "output_type": "stream",
     "text": [
      "\n",
      "\n",
      "\u001b[1mGradientBoosting Classifier\u001b[0m\n",
      "Accuracy of the model for training data is: 0.896766665643\n",
      "Confusion Matrix for training data is:\n"
     ]
    },
    {
     "data": {
      "text/plain": [
       "Predicted  False  True  __all__\n",
       "Actual                         \n",
       "False      24964  2874    27838\n",
       "True         488  4241     4729\n",
       "__all__    25452  7115    32567"
      ]
     },
     "metadata": {},
     "output_type": "display_data"
    },
    {
     "name": "stdout",
     "output_type": "stream",
     "text": [
      "Accuracy of the model for test data is: 0.893760746745\n",
      "Confusion Matrix for test data is:\n"
     ]
    },
    {
     "data": {
      "text/plain": [
       "Predicted  False  True  __all__\n",
       "Actual                         \n",
       "False       6212   728     6940\n",
       "True         137  1065     1202\n",
       "__all__     6349  1793     8142"
      ]
     },
     "metadata": {},
     "output_type": "display_data"
    },
    {
     "data": {
      "application/vnd.plotly.v1+json": {
       "config": {
        "linkText": "Export to plot.ly",
        "plotlyServerURL": "https://plot.ly",
        "showLink": true
       },
       "data": [
        {
         "marker": {
          "color": "rgb(158,202,225)",
          "line": {
           "color": "rgb(8,48,107)",
           "width": 1.5
          }
         },
         "opacity": 0.6,
         "orientation": "h",
         "text": [
          0.8316,
          0.0133,
          0.0116,
          0.0102,
          0.0096,
          0.0094,
          0.009,
          0.0077,
          0.0062,
          0.005,
          0.0042,
          0.0042,
          0.0038,
          0.0031,
          0.0026,
          0.0026,
          0.0024,
          0.0024,
          0.0024,
          0.0023,
          0.0022,
          0.0021,
          0.0019,
          0.0018,
          0.0017,
          0.0016,
          0.0016,
          0.0015,
          0.0014,
          0.0014,
          0.0013,
          0.0013,
          0.0013,
          0.0013,
          0.0012,
          0.0012,
          0.0012,
          0.0012,
          0.0011,
          0.001,
          0.001,
          0.0009,
          0.0009,
          0.0009,
          0.0007,
          0.0007,
          0.0007,
          0.0007,
          0.0007,
          0.0006,
          0.0006,
          0.0006,
          0.0006,
          0.0006,
          0.0006,
          0.0006,
          0.0005,
          0.0005,
          0.0005,
          0.0005,
          0.0005,
          0.0005,
          0.0005,
          0.0004,
          0.0004,
          0.0004,
          0.0004,
          0.0004,
          0.0004,
          0.0004,
          0.0004,
          0.0004,
          0.0004,
          0.0003,
          0.0003,
          0.0003,
          0.0003,
          0.0003,
          0.0003,
          0.0003,
          0.0003,
          0.0003,
          0.0003,
          0.0003,
          0.0002,
          0.0002,
          0.0002,
          0.0002,
          0.0002,
          0.0002,
          0.0002,
          0.0002,
          0.0002,
          0.0002,
          0.0002,
          0.0002,
          0.0002,
          0.0001,
          0.0001,
          0.0001,
          0.0001,
          0.0001,
          0.0001,
          0.0001,
          0.0001,
          0.0001,
          0.0001,
          0.0001,
          0.0001,
          0.0001,
          0.0001,
          0.0001,
          0.0001,
          0.0001,
          0.0001,
          0.0001,
          0.0001,
          0.0001,
          0.0001,
          0.0001,
          0.0001,
          0.0001,
          0.0001,
          0,
          0,
          0,
          0,
          0,
          0,
          0,
          0,
          0,
          0,
          0,
          0,
          0,
          0,
          0,
          0,
          0,
          0,
          0,
          0,
          0,
          0,
          0,
          0,
          0,
          0,
          0,
          0,
          0,
          0,
          0,
          0,
          0,
          0,
          0,
          0,
          0,
          0,
          0,
          0,
          0,
          0,
          0,
          0,
          0,
          0,
          0,
          0,
          0,
          0,
          0,
          0,
          0,
          0,
          0,
          0,
          0,
          0,
          0,
          0,
          0,
          0,
          0,
          0,
          0,
          0,
          0,
          0,
          0,
          0,
          0,
          0,
          0,
          0,
          0,
          0,
          0,
          0,
          0,
          0,
          0,
          0,
          0,
          0,
          0,
          0,
          0,
          0,
          0,
          0,
          0,
          0,
          0,
          0,
          0,
          0,
          0,
          0,
          0,
          0,
          0,
          0,
          0,
          0,
          0
         ],
         "textposition": "outside",
         "type": "bar",
         "uid": "62e34263-3c55-4de8-b3b2-41f3dc7a3674",
         "x": [
          0.8315832034013141,
          0.013308867817960804,
          0.011597061916233989,
          0.010174121617011426,
          0.009606375966556738,
          0.00937704778545172,
          0.009043234871591543,
          0.007722293145543651,
          0.0061798969156808235,
          0.005005450994662283,
          0.0042289361850232155,
          0.004175476228914931,
          0.003769245378920423,
          0.003055525973305947,
          0.0026189460046677437,
          0.0025875042316825065,
          0.0024445599274555132,
          0.0024154191980368498,
          0.002377704537905354,
          0.0022668383921642314,
          0.002151884072016043,
          0.0021187535713342322,
          0.0018933384726575588,
          0.0018208666867315362,
          0.0017210100224398148,
          0.001576939173935873,
          0.0015716802004674493,
          0.0015391268053046182,
          0.0013702255693203663,
          0.0013505362092375496,
          0.0013330395600517615,
          0.0013291800868565173,
          0.0013142635664134367,
          0.0012690040457359825,
          0.001185376006970126,
          0.0011699660680352293,
          0.0011533978338051677,
          0.0011526446229836622,
          0.0011425508137392782,
          0.0010336404940059195,
          0.0009785257512793621,
          0.0008701212487803842,
          0.0008694172269174501,
          0.000854646973376776,
          0.0007407347853238352,
          0.000724089717151387,
          0.000709917819599163,
          0.0006804013100167435,
          0.0006530951940539279,
          0.0006286106192410641,
          0.0006176968375662618,
          0.0006135418109811389,
          0.0006076875391132008,
          0.0005931441824202224,
          0.0005841232239451985,
          0.0005621447528420063,
          0.0005343510415184217,
          0.000531456315068216,
          0.0005246370476440764,
          0.0004855118872320957,
          0.00047776269082508405,
          0.00047253643928003457,
          0.00045363064067712345,
          0.00043381298151259386,
          0.00041399034531315273,
          0.0004119477139577271,
          0.0004041964625447322,
          0.0004022456854055127,
          0.0003982577488771114,
          0.00038082784287904215,
          0.0003690886774784256,
          0.0003614961702149215,
          0.0003511906526951363,
          0.00034802082792209296,
          0.0003164540962144456,
          0.0002950493412184667,
          0.00028838656284267135,
          0.00027943249129338947,
          0.00027397934065918954,
          0.00027334181030588345,
          0.0002707751822702522,
          0.0002616904305657372,
          0.0002579686281159562,
          0.00025568477712341705,
          0.00023275291639241803,
          0.0002323929430323858,
          0.00020755441954264003,
          0.0002034970740758495,
          0.00019910314692309252,
          0.0001967822126249904,
          0.00019544343460629497,
          0.00019009993103452513,
          0.00018403338415348382,
          0.00018333271068754841,
          0.00016962073022846197,
          0.00016354147255573118,
          0.00015190014624691056,
          0.0001484375580210745,
          0.00014469983508840834,
          0.00014051701359011297,
          0.00013576049240704172,
          0.00013560731648942117,
          0.00013537580248045722,
          0.00013491695598264237,
          0.00012743605463416582,
          0.00012691674199682992,
          0.00012572075353862918,
          0.0001242679816159347,
          0.0001230466617277025,
          0.0001099764168125058,
          0.00010713949328246089,
          0.00010034918002620466,
          9.965847039717873e-05,
          9.803410979463594e-05,
          8.010437339976084e-05,
          7.088454623450894e-05,
          6.954060346277002e-05,
          6.779333596469983e-05,
          5.706166535397639e-05,
          5.656062665667018e-05,
          5.4371007400059384e-05,
          5.097622584365208e-05,
          5.056456235785073e-05,
          4.8892935379893704e-05,
          4.045657994349735e-05,
          3.78194922956982e-05,
          2.7252039347112658e-05,
          2.6845424889462123e-05,
          2.5911750057147583e-05,
          2.260532221373248e-05,
          1.3285696876893623e-05,
          9.704057527971824e-06,
          6.050401174134972e-06,
          1.6314401935967362e-06,
          1.601457847343111e-06,
          1.4138992010232035e-06,
          0,
          0,
          0,
          0,
          0,
          0,
          0,
          0,
          0,
          0,
          0,
          0,
          0,
          0,
          0,
          0,
          0,
          0,
          0,
          0,
          0,
          0,
          0,
          0,
          0,
          0,
          0,
          0,
          0,
          0,
          0,
          0,
          0,
          0,
          0,
          0,
          0,
          0,
          0,
          0,
          0,
          0,
          0,
          0,
          0,
          0,
          0,
          0,
          0,
          0,
          0,
          0,
          0,
          0,
          0,
          0,
          0,
          0,
          0,
          0,
          0,
          0,
          0,
          0,
          0,
          0,
          0,
          0,
          0,
          0,
          0,
          0,
          0,
          0,
          0,
          0,
          0,
          0,
          0,
          0,
          0,
          0,
          0,
          0,
          0,
          0,
          0,
          0,
          0,
          0,
          0,
          0
         ],
         "y": [
          "0",
          "107",
          "21",
          "37",
          "160",
          "81",
          "145",
          "130",
          "127",
          "129",
          "25",
          "115",
          "74",
          "111",
          "19",
          "47",
          "63",
          "28",
          "4",
          "179",
          "175",
          "116",
          "41",
          "31",
          "121",
          "89",
          "77",
          "176",
          "220",
          "102",
          "18",
          "30",
          "84",
          "86",
          "42",
          "171",
          "208",
          "165",
          "43",
          "141",
          "1",
          "80",
          "189",
          "227",
          "219",
          "49",
          "210",
          "98",
          "22",
          "212",
          "183",
          "174",
          "109",
          "166",
          "48",
          "40",
          "199",
          "57",
          "85",
          "181",
          "180",
          "190",
          "95",
          "32",
          "191",
          "69",
          "106",
          "45",
          "147",
          "173",
          "207",
          "68",
          "118",
          "96",
          "182",
          "50",
          "17",
          "73",
          "200",
          "76",
          "134",
          "158",
          "113",
          "194",
          "157",
          "112",
          "186",
          "161",
          "33",
          "120",
          "5",
          "156",
          "117",
          "110",
          "79",
          "139",
          "39",
          "164",
          "218",
          "138",
          "151",
          "170",
          "2",
          "29",
          "223",
          "184",
          "123",
          "93",
          "46",
          "185",
          "215",
          "90",
          "24",
          "65",
          "226",
          "83",
          "172",
          "214",
          "56",
          "204",
          "104",
          "201",
          "88",
          "131",
          "148",
          "198",
          "124",
          "38",
          "162",
          "213",
          "206",
          "53",
          "202",
          "71",
          "14",
          "187",
          "177",
          "169",
          "168",
          "9",
          "167",
          "8",
          "7",
          "44",
          "178",
          "6",
          "225",
          "224",
          "222",
          "221",
          "217",
          "216",
          "211",
          "209",
          "3",
          "205",
          "203",
          "197",
          "196",
          "195",
          "193",
          "192",
          "188",
          "10",
          "136",
          "163",
          "75",
          "101",
          "100",
          "99",
          "97",
          "94",
          "92",
          "91",
          "87",
          "82",
          "34",
          "35",
          "78",
          "36",
          "72",
          "103",
          "70",
          "67",
          "66",
          "64",
          "62",
          "61",
          "60",
          "59",
          "58",
          "55",
          "54",
          "52",
          "51",
          "27",
          "105",
          "11",
          "140",
          "159",
          "155",
          "154",
          "153",
          "152",
          "150",
          "149",
          "146",
          "12",
          "144",
          "143",
          "142",
          "13",
          "137",
          "26",
          "135",
          "133",
          "132",
          "15",
          "128",
          "16",
          "126",
          "125",
          "122",
          "119",
          "20",
          "23",
          "108",
          "114"
         ]
        }
       ],
       "layout": {
        "autosize": false,
        "height": 1000,
        "width": 1000,
        "xaxis": {
         "tickfont": {
          "color": "black",
          "size": 12
         },
         "title": "Feature Importances"
        },
        "yaxis": {
         "automargin": true
        }
       }
      },
      "text/html": [
       "<div id=\"a46bfcd4-b39e-4310-8859-bd71f706e99f\" style=\"height: 1000px; width: 1000px;\" class=\"plotly-graph-div\"></div><script type=\"text/javascript\">require([\"plotly\"], function(Plotly) { window.PLOTLYENV=window.PLOTLYENV || {};window.PLOTLYENV.BASE_URL=\"https://plot.ly\";Plotly.newPlot(\"a46bfcd4-b39e-4310-8859-bd71f706e99f\", [{\"marker\": {\"color\": \"rgb(158,202,225)\", \"line\": {\"color\": \"rgb(8,48,107)\", \"width\": 1.5}}, \"opacity\": 0.6, \"orientation\": \"h\", \"text\": [0.8316, 0.0133, 0.0116, 0.0102, 0.0096, 0.0094, 0.009, 0.0077, 0.0062, 0.005, 0.0042, 0.0042, 0.0038, 0.0031, 0.0026, 0.0026, 0.0024, 0.0024, 0.0024, 0.0023, 0.0022, 0.0021, 0.0019, 0.0018, 0.0017, 0.0016, 0.0016, 0.0015, 0.0014, 0.0014, 0.0013, 0.0013, 0.0013, 0.0013, 0.0012, 0.0012, 0.0012, 0.0012, 0.0011, 0.001, 0.001, 0.0009, 0.0009, 0.0009, 0.0007, 0.0007, 0.0007, 0.0007, 0.0007, 0.0006, 0.0006, 0.0006, 0.0006, 0.0006, 0.0006, 0.0006, 0.0005, 0.0005, 0.0005, 0.0005, 0.0005, 0.0005, 0.0005, 0.0004, 0.0004, 0.0004, 0.0004, 0.0004, 0.0004, 0.0004, 0.0004, 0.0004, 0.0004, 0.0003, 0.0003, 0.0003, 0.0003, 0.0003, 0.0003, 0.0003, 0.0003, 0.0003, 0.0003, 0.0003, 0.0002, 0.0002, 0.0002, 0.0002, 0.0002, 0.0002, 0.0002, 0.0002, 0.0002, 0.0002, 0.0002, 0.0002, 0.0002, 0.0001, 0.0001, 0.0001, 0.0001, 0.0001, 0.0001, 0.0001, 0.0001, 0.0001, 0.0001, 0.0001, 0.0001, 0.0001, 0.0001, 0.0001, 0.0001, 0.0001, 0.0001, 0.0001, 0.0001, 0.0001, 0.0001, 0.0001, 0.0001, 0.0001, 0.0001, 0.0, 0.0, 0.0, 0.0, 0.0, 0.0, 0.0, 0.0, 0.0, 0.0, 0.0, 0.0, 0.0, 0.0, 0.0, 0.0, 0.0, 0.0, 0.0, 0.0, 0.0, 0.0, 0.0, 0.0, 0.0, 0.0, 0.0, 0.0, 0.0, 0.0, 0.0, 0.0, 0.0, 0.0, 0.0, 0.0, 0.0, 0.0, 0.0, 0.0, 0.0, 0.0, 0.0, 0.0, 0.0, 0.0, 0.0, 0.0, 0.0, 0.0, 0.0, 0.0, 0.0, 0.0, 0.0, 0.0, 0.0, 0.0, 0.0, 0.0, 0.0, 0.0, 0.0, 0.0, 0.0, 0.0, 0.0, 0.0, 0.0, 0.0, 0.0, 0.0, 0.0, 0.0, 0.0, 0.0, 0.0, 0.0, 0.0, 0.0, 0.0, 0.0, 0.0, 0.0, 0.0, 0.0, 0.0, 0.0, 0.0, 0.0, 0.0, 0.0, 0.0, 0.0, 0.0, 0.0, 0.0, 0.0, 0.0, 0.0, 0.0, 0.0, 0.0, 0.0, 0.0], \"textposition\": \"outside\", \"x\": [0.8315832034013141, 0.013308867817960804, 0.011597061916233989, 0.010174121617011426, 0.009606375966556738, 0.00937704778545172, 0.009043234871591543, 0.007722293145543651, 0.0061798969156808235, 0.005005450994662283, 0.0042289361850232155, 0.004175476228914931, 0.003769245378920423, 0.003055525973305947, 0.0026189460046677437, 0.0025875042316825065, 0.0024445599274555132, 0.0024154191980368498, 0.002377704537905354, 0.0022668383921642314, 0.002151884072016043, 0.0021187535713342322, 0.0018933384726575588, 0.0018208666867315362, 0.0017210100224398148, 0.001576939173935873, 0.0015716802004674493, 0.0015391268053046182, 0.0013702255693203663, 0.0013505362092375496, 0.0013330395600517615, 0.0013291800868565173, 0.0013142635664134367, 0.0012690040457359825, 0.001185376006970126, 0.0011699660680352293, 0.0011533978338051677, 0.0011526446229836622, 0.0011425508137392782, 0.0010336404940059195, 0.0009785257512793621, 0.0008701212487803842, 0.0008694172269174501, 0.000854646973376776, 0.0007407347853238352, 0.000724089717151387, 0.000709917819599163, 0.0006804013100167435, 0.0006530951940539279, 0.0006286106192410641, 0.0006176968375662618, 0.0006135418109811389, 0.0006076875391132008, 0.0005931441824202224, 0.0005841232239451985, 0.0005621447528420063, 0.0005343510415184217, 0.000531456315068216, 0.0005246370476440764, 0.0004855118872320957, 0.00047776269082508405, 0.00047253643928003457, 0.00045363064067712345, 0.00043381298151259386, 0.00041399034531315273, 0.0004119477139577271, 0.0004041964625447322, 0.0004022456854055127, 0.0003982577488771114, 0.00038082784287904215, 0.0003690886774784256, 0.0003614961702149215, 0.0003511906526951363, 0.00034802082792209296, 0.0003164540962144456, 0.0002950493412184667, 0.00028838656284267135, 0.00027943249129338947, 0.00027397934065918954, 0.00027334181030588345, 0.0002707751822702522, 0.0002616904305657372, 0.0002579686281159562, 0.00025568477712341705, 0.00023275291639241803, 0.0002323929430323858, 0.00020755441954264003, 0.0002034970740758495, 0.00019910314692309252, 0.0001967822126249904, 0.00019544343460629497, 0.00019009993103452513, 0.00018403338415348382, 0.00018333271068754841, 0.00016962073022846197, 0.00016354147255573118, 0.00015190014624691056, 0.0001484375580210745, 0.00014469983508840834, 0.00014051701359011297, 0.00013576049240704172, 0.00013560731648942117, 0.00013537580248045722, 0.00013491695598264237, 0.00012743605463416582, 0.00012691674199682992, 0.00012572075353862918, 0.0001242679816159347, 0.0001230466617277025, 0.0001099764168125058, 0.00010713949328246089, 0.00010034918002620466, 9.965847039717873e-05, 9.803410979463594e-05, 8.010437339976084e-05, 7.088454623450894e-05, 6.954060346277002e-05, 6.779333596469983e-05, 5.706166535397639e-05, 5.656062665667018e-05, 5.4371007400059384e-05, 5.097622584365208e-05, 5.056456235785073e-05, 4.8892935379893704e-05, 4.045657994349735e-05, 3.78194922956982e-05, 2.7252039347112658e-05, 2.6845424889462123e-05, 2.5911750057147583e-05, 2.260532221373248e-05, 1.3285696876893623e-05, 9.704057527971824e-06, 6.050401174134972e-06, 1.6314401935967362e-06, 1.601457847343111e-06, 1.4138992010232035e-06, 0.0, 0.0, 0.0, 0.0, 0.0, 0.0, 0.0, 0.0, 0.0, 0.0, 0.0, 0.0, 0.0, 0.0, 0.0, 0.0, 0.0, 0.0, 0.0, 0.0, 0.0, 0.0, 0.0, 0.0, 0.0, 0.0, 0.0, 0.0, 0.0, 0.0, 0.0, 0.0, 0.0, 0.0, 0.0, 0.0, 0.0, 0.0, 0.0, 0.0, 0.0, 0.0, 0.0, 0.0, 0.0, 0.0, 0.0, 0.0, 0.0, 0.0, 0.0, 0.0, 0.0, 0.0, 0.0, 0.0, 0.0, 0.0, 0.0, 0.0, 0.0, 0.0, 0.0, 0.0, 0.0, 0.0, 0.0, 0.0, 0.0, 0.0, 0.0, 0.0, 0.0, 0.0, 0.0, 0.0, 0.0, 0.0, 0.0, 0.0, 0.0, 0.0, 0.0, 0.0, 0.0, 0.0, 0.0, 0.0, 0.0, 0.0, 0.0, 0.0], \"y\": [\"0\", \"107\", \"21\", \"37\", \"160\", \"81\", \"145\", \"130\", \"127\", \"129\", \"25\", \"115\", \"74\", \"111\", \"19\", \"47\", \"63\", \"28\", \"4\", \"179\", \"175\", \"116\", \"41\", \"31\", \"121\", \"89\", \"77\", \"176\", \"220\", \"102\", \"18\", \"30\", \"84\", \"86\", \"42\", \"171\", \"208\", \"165\", \"43\", \"141\", \"1\", \"80\", \"189\", \"227\", \"219\", \"49\", \"210\", \"98\", \"22\", \"212\", \"183\", \"174\", \"109\", \"166\", \"48\", \"40\", \"199\", \"57\", \"85\", \"181\", \"180\", \"190\", \"95\", \"32\", \"191\", \"69\", \"106\", \"45\", \"147\", \"173\", \"207\", \"68\", \"118\", \"96\", \"182\", \"50\", \"17\", \"73\", \"200\", \"76\", \"134\", \"158\", \"113\", \"194\", \"157\", \"112\", \"186\", \"161\", \"33\", \"120\", \"5\", \"156\", \"117\", \"110\", \"79\", \"139\", \"39\", \"164\", \"218\", \"138\", \"151\", \"170\", \"2\", \"29\", \"223\", \"184\", \"123\", \"93\", \"46\", \"185\", \"215\", \"90\", \"24\", \"65\", \"226\", \"83\", \"172\", \"214\", \"56\", \"204\", \"104\", \"201\", \"88\", \"131\", \"148\", \"198\", \"124\", \"38\", \"162\", \"213\", \"206\", \"53\", \"202\", \"71\", \"14\", \"187\", \"177\", \"169\", \"168\", \"9\", \"167\", \"8\", \"7\", \"44\", \"178\", \"6\", \"225\", \"224\", \"222\", \"221\", \"217\", \"216\", \"211\", \"209\", \"3\", \"205\", \"203\", \"197\", \"196\", \"195\", \"193\", \"192\", \"188\", \"10\", \"136\", \"163\", \"75\", \"101\", \"100\", \"99\", \"97\", \"94\", \"92\", \"91\", \"87\", \"82\", \"34\", \"35\", \"78\", \"36\", \"72\", \"103\", \"70\", \"67\", \"66\", \"64\", \"62\", \"61\", \"60\", \"59\", \"58\", \"55\", \"54\", \"52\", \"51\", \"27\", \"105\", \"11\", \"140\", \"159\", \"155\", \"154\", \"153\", \"152\", \"150\", \"149\", \"146\", \"12\", \"144\", \"143\", \"142\", \"13\", \"137\", \"26\", \"135\", \"133\", \"132\", \"15\", \"128\", \"16\", \"126\", \"125\", \"122\", \"119\", \"20\", \"23\", \"108\", \"114\"], \"type\": \"bar\", \"uid\": \"62e34263-3c55-4de8-b3b2-41f3dc7a3674\"}], {\"autosize\": false, \"height\": 1000, \"width\": 1000, \"xaxis\": {\"tickfont\": {\"color\": \"black\", \"size\": 12}, \"title\": \"Feature Importances\"}, \"yaxis\": {\"automargin\": true}}, {\"showLink\": true, \"linkText\": \"Export to plot.ly\", \"plotlyServerURL\": \"https://plot.ly\"})});</script>"
      ],
      "text/vnd.plotly.v1+html": [
       "<div id=\"a46bfcd4-b39e-4310-8859-bd71f706e99f\" style=\"height: 1000px; width: 1000px;\" class=\"plotly-graph-div\"></div><script type=\"text/javascript\">require([\"plotly\"], function(Plotly) { window.PLOTLYENV=window.PLOTLYENV || {};window.PLOTLYENV.BASE_URL=\"https://plot.ly\";Plotly.newPlot(\"a46bfcd4-b39e-4310-8859-bd71f706e99f\", [{\"marker\": {\"color\": \"rgb(158,202,225)\", \"line\": {\"color\": \"rgb(8,48,107)\", \"width\": 1.5}}, \"opacity\": 0.6, \"orientation\": \"h\", \"text\": [0.8316, 0.0133, 0.0116, 0.0102, 0.0096, 0.0094, 0.009, 0.0077, 0.0062, 0.005, 0.0042, 0.0042, 0.0038, 0.0031, 0.0026, 0.0026, 0.0024, 0.0024, 0.0024, 0.0023, 0.0022, 0.0021, 0.0019, 0.0018, 0.0017, 0.0016, 0.0016, 0.0015, 0.0014, 0.0014, 0.0013, 0.0013, 0.0013, 0.0013, 0.0012, 0.0012, 0.0012, 0.0012, 0.0011, 0.001, 0.001, 0.0009, 0.0009, 0.0009, 0.0007, 0.0007, 0.0007, 0.0007, 0.0007, 0.0006, 0.0006, 0.0006, 0.0006, 0.0006, 0.0006, 0.0006, 0.0005, 0.0005, 0.0005, 0.0005, 0.0005, 0.0005, 0.0005, 0.0004, 0.0004, 0.0004, 0.0004, 0.0004, 0.0004, 0.0004, 0.0004, 0.0004, 0.0004, 0.0003, 0.0003, 0.0003, 0.0003, 0.0003, 0.0003, 0.0003, 0.0003, 0.0003, 0.0003, 0.0003, 0.0002, 0.0002, 0.0002, 0.0002, 0.0002, 0.0002, 0.0002, 0.0002, 0.0002, 0.0002, 0.0002, 0.0002, 0.0002, 0.0001, 0.0001, 0.0001, 0.0001, 0.0001, 0.0001, 0.0001, 0.0001, 0.0001, 0.0001, 0.0001, 0.0001, 0.0001, 0.0001, 0.0001, 0.0001, 0.0001, 0.0001, 0.0001, 0.0001, 0.0001, 0.0001, 0.0001, 0.0001, 0.0001, 0.0001, 0.0, 0.0, 0.0, 0.0, 0.0, 0.0, 0.0, 0.0, 0.0, 0.0, 0.0, 0.0, 0.0, 0.0, 0.0, 0.0, 0.0, 0.0, 0.0, 0.0, 0.0, 0.0, 0.0, 0.0, 0.0, 0.0, 0.0, 0.0, 0.0, 0.0, 0.0, 0.0, 0.0, 0.0, 0.0, 0.0, 0.0, 0.0, 0.0, 0.0, 0.0, 0.0, 0.0, 0.0, 0.0, 0.0, 0.0, 0.0, 0.0, 0.0, 0.0, 0.0, 0.0, 0.0, 0.0, 0.0, 0.0, 0.0, 0.0, 0.0, 0.0, 0.0, 0.0, 0.0, 0.0, 0.0, 0.0, 0.0, 0.0, 0.0, 0.0, 0.0, 0.0, 0.0, 0.0, 0.0, 0.0, 0.0, 0.0, 0.0, 0.0, 0.0, 0.0, 0.0, 0.0, 0.0, 0.0, 0.0, 0.0, 0.0, 0.0, 0.0, 0.0, 0.0, 0.0, 0.0, 0.0, 0.0, 0.0, 0.0, 0.0, 0.0, 0.0, 0.0, 0.0], \"textposition\": \"outside\", \"x\": [0.8315832034013141, 0.013308867817960804, 0.011597061916233989, 0.010174121617011426, 0.009606375966556738, 0.00937704778545172, 0.009043234871591543, 0.007722293145543651, 0.0061798969156808235, 0.005005450994662283, 0.0042289361850232155, 0.004175476228914931, 0.003769245378920423, 0.003055525973305947, 0.0026189460046677437, 0.0025875042316825065, 0.0024445599274555132, 0.0024154191980368498, 0.002377704537905354, 0.0022668383921642314, 0.002151884072016043, 0.0021187535713342322, 0.0018933384726575588, 0.0018208666867315362, 0.0017210100224398148, 0.001576939173935873, 0.0015716802004674493, 0.0015391268053046182, 0.0013702255693203663, 0.0013505362092375496, 0.0013330395600517615, 0.0013291800868565173, 0.0013142635664134367, 0.0012690040457359825, 0.001185376006970126, 0.0011699660680352293, 0.0011533978338051677, 0.0011526446229836622, 0.0011425508137392782, 0.0010336404940059195, 0.0009785257512793621, 0.0008701212487803842, 0.0008694172269174501, 0.000854646973376776, 0.0007407347853238352, 0.000724089717151387, 0.000709917819599163, 0.0006804013100167435, 0.0006530951940539279, 0.0006286106192410641, 0.0006176968375662618, 0.0006135418109811389, 0.0006076875391132008, 0.0005931441824202224, 0.0005841232239451985, 0.0005621447528420063, 0.0005343510415184217, 0.000531456315068216, 0.0005246370476440764, 0.0004855118872320957, 0.00047776269082508405, 0.00047253643928003457, 0.00045363064067712345, 0.00043381298151259386, 0.00041399034531315273, 0.0004119477139577271, 0.0004041964625447322, 0.0004022456854055127, 0.0003982577488771114, 0.00038082784287904215, 0.0003690886774784256, 0.0003614961702149215, 0.0003511906526951363, 0.00034802082792209296, 0.0003164540962144456, 0.0002950493412184667, 0.00028838656284267135, 0.00027943249129338947, 0.00027397934065918954, 0.00027334181030588345, 0.0002707751822702522, 0.0002616904305657372, 0.0002579686281159562, 0.00025568477712341705, 0.00023275291639241803, 0.0002323929430323858, 0.00020755441954264003, 0.0002034970740758495, 0.00019910314692309252, 0.0001967822126249904, 0.00019544343460629497, 0.00019009993103452513, 0.00018403338415348382, 0.00018333271068754841, 0.00016962073022846197, 0.00016354147255573118, 0.00015190014624691056, 0.0001484375580210745, 0.00014469983508840834, 0.00014051701359011297, 0.00013576049240704172, 0.00013560731648942117, 0.00013537580248045722, 0.00013491695598264237, 0.00012743605463416582, 0.00012691674199682992, 0.00012572075353862918, 0.0001242679816159347, 0.0001230466617277025, 0.0001099764168125058, 0.00010713949328246089, 0.00010034918002620466, 9.965847039717873e-05, 9.803410979463594e-05, 8.010437339976084e-05, 7.088454623450894e-05, 6.954060346277002e-05, 6.779333596469983e-05, 5.706166535397639e-05, 5.656062665667018e-05, 5.4371007400059384e-05, 5.097622584365208e-05, 5.056456235785073e-05, 4.8892935379893704e-05, 4.045657994349735e-05, 3.78194922956982e-05, 2.7252039347112658e-05, 2.6845424889462123e-05, 2.5911750057147583e-05, 2.260532221373248e-05, 1.3285696876893623e-05, 9.704057527971824e-06, 6.050401174134972e-06, 1.6314401935967362e-06, 1.601457847343111e-06, 1.4138992010232035e-06, 0.0, 0.0, 0.0, 0.0, 0.0, 0.0, 0.0, 0.0, 0.0, 0.0, 0.0, 0.0, 0.0, 0.0, 0.0, 0.0, 0.0, 0.0, 0.0, 0.0, 0.0, 0.0, 0.0, 0.0, 0.0, 0.0, 0.0, 0.0, 0.0, 0.0, 0.0, 0.0, 0.0, 0.0, 0.0, 0.0, 0.0, 0.0, 0.0, 0.0, 0.0, 0.0, 0.0, 0.0, 0.0, 0.0, 0.0, 0.0, 0.0, 0.0, 0.0, 0.0, 0.0, 0.0, 0.0, 0.0, 0.0, 0.0, 0.0, 0.0, 0.0, 0.0, 0.0, 0.0, 0.0, 0.0, 0.0, 0.0, 0.0, 0.0, 0.0, 0.0, 0.0, 0.0, 0.0, 0.0, 0.0, 0.0, 0.0, 0.0, 0.0, 0.0, 0.0, 0.0, 0.0, 0.0, 0.0, 0.0, 0.0, 0.0, 0.0, 0.0], \"y\": [\"0\", \"107\", \"21\", \"37\", \"160\", \"81\", \"145\", \"130\", \"127\", \"129\", \"25\", \"115\", \"74\", \"111\", \"19\", \"47\", \"63\", \"28\", \"4\", \"179\", \"175\", \"116\", \"41\", \"31\", \"121\", \"89\", \"77\", \"176\", \"220\", \"102\", \"18\", \"30\", \"84\", \"86\", \"42\", \"171\", \"208\", \"165\", \"43\", \"141\", \"1\", \"80\", \"189\", \"227\", \"219\", \"49\", \"210\", \"98\", \"22\", \"212\", \"183\", \"174\", \"109\", \"166\", \"48\", \"40\", \"199\", \"57\", \"85\", \"181\", \"180\", \"190\", \"95\", \"32\", \"191\", \"69\", \"106\", \"45\", \"147\", \"173\", \"207\", \"68\", \"118\", \"96\", \"182\", \"50\", \"17\", \"73\", \"200\", \"76\", \"134\", \"158\", \"113\", \"194\", \"157\", \"112\", \"186\", \"161\", \"33\", \"120\", \"5\", \"156\", \"117\", \"110\", \"79\", \"139\", \"39\", \"164\", \"218\", \"138\", \"151\", \"170\", \"2\", \"29\", \"223\", \"184\", \"123\", \"93\", \"46\", \"185\", \"215\", \"90\", \"24\", \"65\", \"226\", \"83\", \"172\", \"214\", \"56\", \"204\", \"104\", \"201\", \"88\", \"131\", \"148\", \"198\", \"124\", \"38\", \"162\", \"213\", \"206\", \"53\", \"202\", \"71\", \"14\", \"187\", \"177\", \"169\", \"168\", \"9\", \"167\", \"8\", \"7\", \"44\", \"178\", \"6\", \"225\", \"224\", \"222\", \"221\", \"217\", \"216\", \"211\", \"209\", \"3\", \"205\", \"203\", \"197\", \"196\", \"195\", \"193\", \"192\", \"188\", \"10\", \"136\", \"163\", \"75\", \"101\", \"100\", \"99\", \"97\", \"94\", \"92\", \"91\", \"87\", \"82\", \"34\", \"35\", \"78\", \"36\", \"72\", \"103\", \"70\", \"67\", \"66\", \"64\", \"62\", \"61\", \"60\", \"59\", \"58\", \"55\", \"54\", \"52\", \"51\", \"27\", \"105\", \"11\", \"140\", \"159\", \"155\", \"154\", \"153\", \"152\", \"150\", \"149\", \"146\", \"12\", \"144\", \"143\", \"142\", \"13\", \"137\", \"26\", \"135\", \"133\", \"132\", \"15\", \"128\", \"16\", \"126\", \"125\", \"122\", \"119\", \"20\", \"23\", \"108\", \"114\"], \"type\": \"bar\", \"uid\": \"62e34263-3c55-4de8-b3b2-41f3dc7a3674\"}], {\"autosize\": false, \"height\": 1000, \"width\": 1000, \"xaxis\": {\"tickfont\": {\"color\": \"black\", \"size\": 12}, \"title\": \"Feature Importances\"}, \"yaxis\": {\"automargin\": true}}, {\"showLink\": true, \"linkText\": \"Export to plot.ly\", \"plotlyServerURL\": \"https://plot.ly\"})});</script>"
      ]
     },
     "metadata": {},
     "output_type": "display_data"
    },
    {
     "name": "stdout",
     "output_type": "stream",
     "text": [
      "\n",
      "\n",
      "\u001b[1mExtraTree Classifier\u001b[0m\n",
      "Accuracy of the model for training data is: 0.910000921178\n",
      "Confusion Matrix for training data is:\n"
     ]
    },
    {
     "data": {
      "text/plain": [
       "Predicted  False  True  __all__\n",
       "Actual                         \n",
       "False      24960  2878    27838\n",
       "True          53  4676     4729\n",
       "__all__    25013  7554    32567"
      ]
     },
     "metadata": {},
     "output_type": "display_data"
    },
    {
     "name": "stdout",
     "output_type": "stream",
     "text": [
      "Accuracy of the model for test data is: 0.896462785556\n",
      "Confusion Matrix for test data is:\n"
     ]
    },
    {
     "data": {
      "text/plain": [
       "Predicted  False  True  __all__\n",
       "Actual                         \n",
       "False       6208   732     6940\n",
       "True         111  1091     1202\n",
       "__all__     6319  1823     8142"
      ]
     },
     "metadata": {},
     "output_type": "display_data"
    },
    {
     "data": {
      "application/vnd.plotly.v1+json": {
       "config": {
        "linkText": "Export to plot.ly",
        "plotlyServerURL": "https://plot.ly",
        "showLink": true
       },
       "data": [
        {
         "marker": {
          "color": "rgb(158,202,225)",
          "line": {
           "color": "rgb(8,48,107)",
           "width": 1.5
          }
         },
         "opacity": 0.6,
         "orientation": "h",
         "text": [
          0.0299,
          0.0298,
          0.0262,
          0.0226,
          0.0211,
          0.0201,
          0.0191,
          0.0187,
          0.0184,
          0.0169,
          0.0168,
          0.0166,
          0.0146,
          0.0137,
          0.0131,
          0.0122,
          0.0117,
          0.0117,
          0.0114,
          0.0114,
          0.0107,
          0.0105,
          0.0102,
          0.0102,
          0.0101,
          0.0092,
          0.0087,
          0.0087,
          0.0083,
          0.0082,
          0.0082,
          0.008,
          0.008,
          0.0078,
          0.0075,
          0.0074,
          0.0073,
          0.0072,
          0.0069,
          0.0068,
          0.0066,
          0.0066,
          0.0064,
          0.0064,
          0.0064,
          0.0063,
          0.0063,
          0.0062,
          0.006,
          0.006,
          0.0056,
          0.0056,
          0.0053,
          0.0053,
          0.0052,
          0.0051,
          0.005,
          0.0049,
          0.0048,
          0.0048,
          0.0045,
          0.0044,
          0.0043,
          0.0043,
          0.0042,
          0.0042,
          0.0042,
          0.004,
          0.004,
          0.0039,
          0.0038,
          0.0038,
          0.0037,
          0.0037,
          0.0037,
          0.0037,
          0.0037,
          0.0036,
          0.0036,
          0.0036,
          0.0035,
          0.0035,
          0.0035,
          0.0033,
          0.0033,
          0.0033,
          0.0033,
          0.0032,
          0.0032,
          0.0032,
          0.0031,
          0.0031,
          0.0031,
          0.0031,
          0.003,
          0.003,
          0.003,
          0.003,
          0.0029,
          0.0029,
          0.0029,
          0.0028,
          0.0028,
          0.0028,
          0.0028,
          0.0028,
          0.0028,
          0.0028,
          0.0027,
          0.0027,
          0.0027,
          0.0027,
          0.0026,
          0.0026,
          0.0026,
          0.0026,
          0.0026,
          0.0026,
          0.0025,
          0.0025,
          0.0025,
          0.0025,
          0.0024,
          0.0024,
          0.0023,
          0.0023,
          0.0023,
          0.0023,
          0.0022,
          0.0022,
          0.0022,
          0.0022,
          0.0022,
          0.0021,
          0.0021,
          0.0021,
          0.002,
          0.002,
          0.002,
          0.0019,
          0.0019,
          0.0019,
          0.0019,
          0.0019,
          0.0018,
          0.0018,
          0.0018,
          0.0018,
          0.0018,
          0.0018,
          0.0017,
          0.0017,
          0.0017,
          0.0017,
          0.0017,
          0.0017,
          0.0017,
          0.0017,
          0.0016,
          0.0016,
          0.0016,
          0.0016,
          0.0016,
          0.0015,
          0.0015,
          0.0015,
          0.0015,
          0.0015,
          0.0015,
          0.0015,
          0.0015,
          0.0015,
          0.0015,
          0.0015,
          0.0014,
          0.0014,
          0.0014,
          0.0014,
          0.0014,
          0.0014,
          0.0014,
          0.0014,
          0.0014,
          0.0014,
          0.0013,
          0.0013,
          0.0013,
          0.0013,
          0.0013,
          0.0013,
          0.0013,
          0.0013,
          0.0013,
          0.0013,
          0.0012,
          0.0012,
          0.0012,
          0.0012,
          0.0012,
          0.0012,
          0.0012,
          0.0012,
          0.0012,
          0.0012,
          0.0012,
          0.0012,
          0.0012,
          0.0012,
          0.0012,
          0.0012,
          0.0011,
          0.0011,
          0.0011,
          0.001,
          0.001,
          0.001,
          0.001,
          0.001,
          0.001,
          0.001,
          0.0009,
          0.0009,
          0.0008,
          0.0008,
          0.0008,
          0.0007,
          0.0007,
          0.0006
         ],
         "textposition": "outside",
         "type": "bar",
         "uid": "8b2d1064-7cfb-4208-b0b1-73b1c4bf3c30",
         "x": [
          0.02985644612911868,
          0.029787595711094274,
          0.02621398617359047,
          0.022564007450266516,
          0.0210585298311693,
          0.0201085112823712,
          0.019109163815217163,
          0.01865796279662535,
          0.018374897638299824,
          0.01694843796707487,
          0.016782787508110637,
          0.016638635420509917,
          0.01464690331656757,
          0.013693307479848349,
          0.013069349095641026,
          0.012231874485637678,
          0.011667919108959071,
          0.01166709955271743,
          0.011380441049177722,
          0.011361578611315672,
          0.010743472230450784,
          0.010482186465362945,
          0.010220162794708288,
          0.010171294827068026,
          0.010114032471429462,
          0.009235545587273523,
          0.008747323703846606,
          0.00869878611028107,
          0.008284162771386282,
          0.008207831820116633,
          0.008173578001765538,
          0.008034625812946884,
          0.007999201630925776,
          0.007832257727922329,
          0.007499381904649062,
          0.007373612831531843,
          0.007340508235415068,
          0.007174211297399509,
          0.006931636676553743,
          0.006765595824481732,
          0.006605189545582856,
          0.006595292391046996,
          0.006434055380312017,
          0.006402517055399484,
          0.006380254047444267,
          0.006316820562830778,
          0.006251484359905257,
          0.0061539192931669585,
          0.006042875150155264,
          0.005988540354949149,
          0.005613527516779739,
          0.005598513144445519,
          0.005334464597527237,
          0.005297701638431925,
          0.005232249798840888,
          0.005113173785489167,
          0.004955530997833699,
          0.004949560879275105,
          0.0048242086046653,
          0.004822205389257069,
          0.004537377521058423,
          0.004393883668174623,
          0.004321000639728756,
          0.004256915999666302,
          0.00417786387047613,
          0.004169212354851436,
          0.0041530985983534285,
          0.003998971679485678,
          0.003986408290379814,
          0.0039241631698294695,
          0.0038025419328680983,
          0.003750129172578566,
          0.0036975377192220646,
          0.0036707506570833283,
          0.003665632198010358,
          0.003662576611982831,
          0.003656441591139015,
          0.003617386393055343,
          0.003581716354366922,
          0.0035756409794859855,
          0.00352792851626077,
          0.00350316079698205,
          0.003495303701702191,
          0.0033471541906696773,
          0.00334577194794336,
          0.0033424392231543795,
          0.003280112572740927,
          0.0032418204319421156,
          0.0032331038136258787,
          0.0032265804561976566,
          0.003107731799759269,
          0.003084400360050735,
          0.0030804334170156005,
          0.0030541536571821216,
          0.003049198663626394,
          0.003024680423023599,
          0.0030019463782273107,
          0.0029916565630364856,
          0.0029357891692325462,
          0.002928064836009854,
          0.0028599989279387865,
          0.00284511405803244,
          0.002837881764867228,
          0.002828659429225544,
          0.0028204119993454494,
          0.0028082209133873737,
          0.0027826237913504137,
          0.0027552166182450316,
          0.0027197723566501353,
          0.0027074909815683135,
          0.002688251061764404,
          0.0026527696165147686,
          0.0025963370352335012,
          0.0025894095104931646,
          0.002576475292415311,
          0.0025699322117409672,
          0.002567938184005517,
          0.002552943199446359,
          0.0025325227700343763,
          0.002527571693599433,
          0.0024818258285662486,
          0.002454169168825627,
          0.0023938036954528298,
          0.002372393889128032,
          0.0023485832596591384,
          0.0023188593915459757,
          0.0023034698798665458,
          0.002261891996748333,
          0.0021923626310500583,
          0.0021881008038523147,
          0.0021701069640123827,
          0.0021591439499149784,
          0.0021515810427337667,
          0.0021350663443036005,
          0.0021241386845728375,
          0.0021202324124626865,
          0.0019868341138554934,
          0.001982174340645941,
          0.0019661824818711367,
          0.0019192233492248932,
          0.0019073625227457505,
          0.0019027078114054485,
          0.0018899846282841987,
          0.001882958291657313,
          0.001841451314834814,
          0.001818961560183356,
          0.0018168408941431808,
          0.0018112781432146597,
          0.0017716796945211432,
          0.0017603183457680712,
          0.0017333619968615123,
          0.0017315620190823684,
          0.0017040256351256457,
          0.0016989871944059092,
          0.0016795896942138314,
          0.0016753243932972769,
          0.001658345470258532,
          0.0016548178061497388,
          0.0016478038117740755,
          0.001639363310551662,
          0.0015709728627350187,
          0.0015603889010437143,
          0.001559574096322717,
          0.0015289417499294337,
          0.001526704571066714,
          0.0015243945089297604,
          0.001497542074554457,
          0.0014958707766011205,
          0.0014957180549252025,
          0.0014948823621818074,
          0.0014914745333386215,
          0.001477746557436661,
          0.0014593107498108164,
          0.0014527398528658326,
          0.0014417179695799076,
          0.001441348079818649,
          0.0014294535087188798,
          0.001414618101994478,
          0.0014091065275613319,
          0.001390605623349851,
          0.0013781807906113222,
          0.0013772243557661,
          0.0013739701075999931,
          0.001362487192019089,
          0.0013464391803599419,
          0.001333188973898365,
          0.0013162070469310955,
          0.0013157367190867258,
          0.0013092064957925236,
          0.0013051045222334154,
          0.0013018677620505517,
          0.0012639741509660044,
          0.0012634780337756665,
          0.0012626766500624016,
          0.001241032105028523,
          0.0012321248485063251,
          0.0012276006407215849,
          0.0012253548966367218,
          0.0012231803028914605,
          0.0012213575985077446,
          0.0012181214155359732,
          0.0012165993355320328,
          0.0011941511519607726,
          0.0011889380433141306,
          0.0011794969172368116,
          0.0011773811027188186,
          0.0011756695043321898,
          0.0011737404496294879,
          0.0011534630977352717,
          0.0011515974669403966,
          0.001127409244656979,
          0.0010846396688606044,
          0.0010693364849012374,
          0.0010256918432962295,
          0.0010100004863602902,
          0.0010096098173102233,
          0.0009753204919138064,
          0.0009738015608263583,
          0.0009665692371839055,
          0.0009654336649426653,
          0.0009379070199555687,
          0.0008878830779982135,
          0.0008357005405980024,
          0.0007882995337670023,
          0.0007697018071659857,
          0.000696023982198139,
          0.000693505979153009,
          0.0005724850927895249
         ],
         "y": [
          "0",
          "11",
          "3",
          "175",
          "223",
          "147",
          "135",
          "53",
          "120",
          "48",
          "209",
          "66",
          "92",
          "14",
          "136",
          "73",
          "173",
          "165",
          "91",
          "20",
          "2",
          "41",
          "195",
          "22",
          "161",
          "68",
          "163",
          "170",
          "139",
          "37",
          "169",
          "59",
          "131",
          "27",
          "174",
          "71",
          "198",
          "117",
          "203",
          "130",
          "7",
          "42",
          "10",
          "81",
          "112",
          "208",
          "65",
          "152",
          "181",
          "57",
          "100",
          "171",
          "204",
          "190",
          "134",
          "226",
          "148",
          "162",
          "141",
          "103",
          "49",
          "145",
          "82",
          "113",
          "207",
          "127",
          "70",
          "185",
          "13",
          "191",
          "217",
          "45",
          "224",
          "187",
          "154",
          "1",
          "124",
          "142",
          "44",
          "160",
          "99",
          "121",
          "105",
          "138",
          "89",
          "179",
          "143",
          "29",
          "218",
          "107",
          "144",
          "126",
          "125",
          "167",
          "129",
          "36",
          "210",
          "212",
          "155",
          "26",
          "25",
          "50",
          "216",
          "17",
          "213",
          "15",
          "180",
          "182",
          "55",
          "202",
          "33",
          "158",
          "46",
          "62",
          "111",
          "60",
          "78",
          "219",
          "194",
          "39",
          "186",
          "192",
          "9",
          "199",
          "189",
          "95",
          "76",
          "23",
          "159",
          "64",
          "110",
          "197",
          "137",
          "31",
          "21",
          "93",
          "77",
          "214",
          "221",
          "88",
          "176",
          "32",
          "6",
          "188",
          "123",
          "96",
          "193",
          "119",
          "227",
          "222",
          "128",
          "74",
          "86",
          "90",
          "84",
          "206",
          "69",
          "63",
          "166",
          "18",
          "67",
          "184",
          "24",
          "85",
          "215",
          "118",
          "151",
          "52",
          "211",
          "58",
          "30",
          "205",
          "51",
          "172",
          "146",
          "87",
          "178",
          "177",
          "16",
          "54",
          "83",
          "101",
          "156",
          "72",
          "220",
          "4",
          "140",
          "116",
          "28",
          "108",
          "114",
          "102",
          "38",
          "47",
          "8",
          "109",
          "34",
          "201",
          "132",
          "149",
          "164",
          "97",
          "80",
          "153",
          "98",
          "168",
          "150",
          "5",
          "79",
          "56",
          "225",
          "35",
          "183",
          "115",
          "94",
          "40",
          "12",
          "133",
          "104",
          "19",
          "157",
          "61",
          "75",
          "196",
          "43",
          "122",
          "200",
          "106"
         ]
        }
       ],
       "layout": {
        "autosize": false,
        "height": 1000,
        "width": 1000,
        "xaxis": {
         "tickfont": {
          "color": "black",
          "size": 12
         },
         "title": "Feature Importances"
        },
        "yaxis": {
         "automargin": true
        }
       }
      },
      "text/html": [
       "<div id=\"3f82aef0-7ed3-40ef-8f84-6abb928f2ae7\" style=\"height: 1000px; width: 1000px;\" class=\"plotly-graph-div\"></div><script type=\"text/javascript\">require([\"plotly\"], function(Plotly) { window.PLOTLYENV=window.PLOTLYENV || {};window.PLOTLYENV.BASE_URL=\"https://plot.ly\";Plotly.newPlot(\"3f82aef0-7ed3-40ef-8f84-6abb928f2ae7\", [{\"marker\": {\"color\": \"rgb(158,202,225)\", \"line\": {\"color\": \"rgb(8,48,107)\", \"width\": 1.5}}, \"opacity\": 0.6, \"orientation\": \"h\", \"text\": [0.0299, 0.0298, 0.0262, 0.0226, 0.0211, 0.0201, 0.0191, 0.0187, 0.0184, 0.0169, 0.0168, 0.0166, 0.0146, 0.0137, 0.0131, 0.0122, 0.0117, 0.0117, 0.0114, 0.0114, 0.0107, 0.0105, 0.0102, 0.0102, 0.0101, 0.0092, 0.0087, 0.0087, 0.0083, 0.0082, 0.0082, 0.008, 0.008, 0.0078, 0.0075, 0.0074, 0.0073, 0.0072, 0.0069, 0.0068, 0.0066, 0.0066, 0.0064, 0.0064, 0.0064, 0.0063, 0.0063, 0.0062, 0.006, 0.006, 0.0056, 0.0056, 0.0053, 0.0053, 0.0052, 0.0051, 0.005, 0.0049, 0.0048, 0.0048, 0.0045, 0.0044, 0.0043, 0.0043, 0.0042, 0.0042, 0.0042, 0.004, 0.004, 0.0039, 0.0038, 0.0038, 0.0037, 0.0037, 0.0037, 0.0037, 0.0037, 0.0036, 0.0036, 0.0036, 0.0035, 0.0035, 0.0035, 0.0033, 0.0033, 0.0033, 0.0033, 0.0032, 0.0032, 0.0032, 0.0031, 0.0031, 0.0031, 0.0031, 0.003, 0.003, 0.003, 0.003, 0.0029, 0.0029, 0.0029, 0.0028, 0.0028, 0.0028, 0.0028, 0.0028, 0.0028, 0.0028, 0.0027, 0.0027, 0.0027, 0.0027, 0.0026, 0.0026, 0.0026, 0.0026, 0.0026, 0.0026, 0.0025, 0.0025, 0.0025, 0.0025, 0.0024, 0.0024, 0.0023, 0.0023, 0.0023, 0.0023, 0.0022, 0.0022, 0.0022, 0.0022, 0.0022, 0.0021, 0.0021, 0.0021, 0.002, 0.002, 0.002, 0.0019, 0.0019, 0.0019, 0.0019, 0.0019, 0.0018, 0.0018, 0.0018, 0.0018, 0.0018, 0.0018, 0.0017, 0.0017, 0.0017, 0.0017, 0.0017, 0.0017, 0.0017, 0.0017, 0.0016, 0.0016, 0.0016, 0.0016, 0.0016, 0.0015, 0.0015, 0.0015, 0.0015, 0.0015, 0.0015, 0.0015, 0.0015, 0.0015, 0.0015, 0.0015, 0.0014, 0.0014, 0.0014, 0.0014, 0.0014, 0.0014, 0.0014, 0.0014, 0.0014, 0.0014, 0.0013, 0.0013, 0.0013, 0.0013, 0.0013, 0.0013, 0.0013, 0.0013, 0.0013, 0.0013, 0.0012, 0.0012, 0.0012, 0.0012, 0.0012, 0.0012, 0.0012, 0.0012, 0.0012, 0.0012, 0.0012, 0.0012, 0.0012, 0.0012, 0.0012, 0.0012, 0.0011, 0.0011, 0.0011, 0.001, 0.001, 0.001, 0.001, 0.001, 0.001, 0.001, 0.0009, 0.0009, 0.0008, 0.0008, 0.0008, 0.0007, 0.0007, 0.0006], \"textposition\": \"outside\", \"x\": [0.02985644612911868, 0.029787595711094274, 0.02621398617359047, 0.022564007450266516, 0.0210585298311693, 0.0201085112823712, 0.019109163815217163, 0.01865796279662535, 0.018374897638299824, 0.01694843796707487, 0.016782787508110637, 0.016638635420509917, 0.01464690331656757, 0.013693307479848349, 0.013069349095641026, 0.012231874485637678, 0.011667919108959071, 0.01166709955271743, 0.011380441049177722, 0.011361578611315672, 0.010743472230450784, 0.010482186465362945, 0.010220162794708288, 0.010171294827068026, 0.010114032471429462, 0.009235545587273523, 0.008747323703846606, 0.00869878611028107, 0.008284162771386282, 0.008207831820116633, 0.008173578001765538, 0.008034625812946884, 0.007999201630925776, 0.007832257727922329, 0.007499381904649062, 0.007373612831531843, 0.007340508235415068, 0.007174211297399509, 0.006931636676553743, 0.006765595824481732, 0.006605189545582856, 0.006595292391046996, 0.006434055380312017, 0.006402517055399484, 0.006380254047444267, 0.006316820562830778, 0.006251484359905257, 0.0061539192931669585, 0.006042875150155264, 0.005988540354949149, 0.005613527516779739, 0.005598513144445519, 0.005334464597527237, 0.005297701638431925, 0.005232249798840888, 0.005113173785489167, 0.004955530997833699, 0.004949560879275105, 0.0048242086046653, 0.004822205389257069, 0.004537377521058423, 0.004393883668174623, 0.004321000639728756, 0.004256915999666302, 0.00417786387047613, 0.004169212354851436, 0.0041530985983534285, 0.003998971679485678, 0.003986408290379814, 0.0039241631698294695, 0.0038025419328680983, 0.003750129172578566, 0.0036975377192220646, 0.0036707506570833283, 0.003665632198010358, 0.003662576611982831, 0.003656441591139015, 0.003617386393055343, 0.003581716354366922, 0.0035756409794859855, 0.00352792851626077, 0.00350316079698205, 0.003495303701702191, 0.0033471541906696773, 0.00334577194794336, 0.0033424392231543795, 0.003280112572740927, 0.0032418204319421156, 0.0032331038136258787, 0.0032265804561976566, 0.003107731799759269, 0.003084400360050735, 0.0030804334170156005, 0.0030541536571821216, 0.003049198663626394, 0.003024680423023599, 0.0030019463782273107, 0.0029916565630364856, 0.0029357891692325462, 0.002928064836009854, 0.0028599989279387865, 0.00284511405803244, 0.002837881764867228, 0.002828659429225544, 0.0028204119993454494, 0.0028082209133873737, 0.0027826237913504137, 0.0027552166182450316, 0.0027197723566501353, 0.0027074909815683135, 0.002688251061764404, 0.0026527696165147686, 0.0025963370352335012, 0.0025894095104931646, 0.002576475292415311, 0.0025699322117409672, 0.002567938184005517, 0.002552943199446359, 0.0025325227700343763, 0.002527571693599433, 0.0024818258285662486, 0.002454169168825627, 0.0023938036954528298, 0.002372393889128032, 0.0023485832596591384, 0.0023188593915459757, 0.0023034698798665458, 0.002261891996748333, 0.0021923626310500583, 0.0021881008038523147, 0.0021701069640123827, 0.0021591439499149784, 0.0021515810427337667, 0.0021350663443036005, 0.0021241386845728375, 0.0021202324124626865, 0.0019868341138554934, 0.001982174340645941, 0.0019661824818711367, 0.0019192233492248932, 0.0019073625227457505, 0.0019027078114054485, 0.0018899846282841987, 0.001882958291657313, 0.001841451314834814, 0.001818961560183356, 0.0018168408941431808, 0.0018112781432146597, 0.0017716796945211432, 0.0017603183457680712, 0.0017333619968615123, 0.0017315620190823684, 0.0017040256351256457, 0.0016989871944059092, 0.0016795896942138314, 0.0016753243932972769, 0.001658345470258532, 0.0016548178061497388, 0.0016478038117740755, 0.001639363310551662, 0.0015709728627350187, 0.0015603889010437143, 0.001559574096322717, 0.0015289417499294337, 0.001526704571066714, 0.0015243945089297604, 0.001497542074554457, 0.0014958707766011205, 0.0014957180549252025, 0.0014948823621818074, 0.0014914745333386215, 0.001477746557436661, 0.0014593107498108164, 0.0014527398528658326, 0.0014417179695799076, 0.001441348079818649, 0.0014294535087188798, 0.001414618101994478, 0.0014091065275613319, 0.001390605623349851, 0.0013781807906113222, 0.0013772243557661, 0.0013739701075999931, 0.001362487192019089, 0.0013464391803599419, 0.001333188973898365, 0.0013162070469310955, 0.0013157367190867258, 0.0013092064957925236, 0.0013051045222334154, 0.0013018677620505517, 0.0012639741509660044, 0.0012634780337756665, 0.0012626766500624016, 0.001241032105028523, 0.0012321248485063251, 0.0012276006407215849, 0.0012253548966367218, 0.0012231803028914605, 0.0012213575985077446, 0.0012181214155359732, 0.0012165993355320328, 0.0011941511519607726, 0.0011889380433141306, 0.0011794969172368116, 0.0011773811027188186, 0.0011756695043321898, 0.0011737404496294879, 0.0011534630977352717, 0.0011515974669403966, 0.001127409244656979, 0.0010846396688606044, 0.0010693364849012374, 0.0010256918432962295, 0.0010100004863602902, 0.0010096098173102233, 0.0009753204919138064, 0.0009738015608263583, 0.0009665692371839055, 0.0009654336649426653, 0.0009379070199555687, 0.0008878830779982135, 0.0008357005405980024, 0.0007882995337670023, 0.0007697018071659857, 0.000696023982198139, 0.000693505979153009, 0.0005724850927895249], \"y\": [\"0\", \"11\", \"3\", \"175\", \"223\", \"147\", \"135\", \"53\", \"120\", \"48\", \"209\", \"66\", \"92\", \"14\", \"136\", \"73\", \"173\", \"165\", \"91\", \"20\", \"2\", \"41\", \"195\", \"22\", \"161\", \"68\", \"163\", \"170\", \"139\", \"37\", \"169\", \"59\", \"131\", \"27\", \"174\", \"71\", \"198\", \"117\", \"203\", \"130\", \"7\", \"42\", \"10\", \"81\", \"112\", \"208\", \"65\", \"152\", \"181\", \"57\", \"100\", \"171\", \"204\", \"190\", \"134\", \"226\", \"148\", \"162\", \"141\", \"103\", \"49\", \"145\", \"82\", \"113\", \"207\", \"127\", \"70\", \"185\", \"13\", \"191\", \"217\", \"45\", \"224\", \"187\", \"154\", \"1\", \"124\", \"142\", \"44\", \"160\", \"99\", \"121\", \"105\", \"138\", \"89\", \"179\", \"143\", \"29\", \"218\", \"107\", \"144\", \"126\", \"125\", \"167\", \"129\", \"36\", \"210\", \"212\", \"155\", \"26\", \"25\", \"50\", \"216\", \"17\", \"213\", \"15\", \"180\", \"182\", \"55\", \"202\", \"33\", \"158\", \"46\", \"62\", \"111\", \"60\", \"78\", \"219\", \"194\", \"39\", \"186\", \"192\", \"9\", \"199\", \"189\", \"95\", \"76\", \"23\", \"159\", \"64\", \"110\", \"197\", \"137\", \"31\", \"21\", \"93\", \"77\", \"214\", \"221\", \"88\", \"176\", \"32\", \"6\", \"188\", \"123\", \"96\", \"193\", \"119\", \"227\", \"222\", \"128\", \"74\", \"86\", \"90\", \"84\", \"206\", \"69\", \"63\", \"166\", \"18\", \"67\", \"184\", \"24\", \"85\", \"215\", \"118\", \"151\", \"52\", \"211\", \"58\", \"30\", \"205\", \"51\", \"172\", \"146\", \"87\", \"178\", \"177\", \"16\", \"54\", \"83\", \"101\", \"156\", \"72\", \"220\", \"4\", \"140\", \"116\", \"28\", \"108\", \"114\", \"102\", \"38\", \"47\", \"8\", \"109\", \"34\", \"201\", \"132\", \"149\", \"164\", \"97\", \"80\", \"153\", \"98\", \"168\", \"150\", \"5\", \"79\", \"56\", \"225\", \"35\", \"183\", \"115\", \"94\", \"40\", \"12\", \"133\", \"104\", \"19\", \"157\", \"61\", \"75\", \"196\", \"43\", \"122\", \"200\", \"106\"], \"type\": \"bar\", \"uid\": \"8b2d1064-7cfb-4208-b0b1-73b1c4bf3c30\"}], {\"autosize\": false, \"height\": 1000, \"width\": 1000, \"xaxis\": {\"tickfont\": {\"color\": \"black\", \"size\": 12}, \"title\": \"Feature Importances\"}, \"yaxis\": {\"automargin\": true}}, {\"showLink\": true, \"linkText\": \"Export to plot.ly\", \"plotlyServerURL\": \"https://plot.ly\"})});</script>"
      ],
      "text/vnd.plotly.v1+html": [
       "<div id=\"3f82aef0-7ed3-40ef-8f84-6abb928f2ae7\" style=\"height: 1000px; width: 1000px;\" class=\"plotly-graph-div\"></div><script type=\"text/javascript\">require([\"plotly\"], function(Plotly) { window.PLOTLYENV=window.PLOTLYENV || {};window.PLOTLYENV.BASE_URL=\"https://plot.ly\";Plotly.newPlot(\"3f82aef0-7ed3-40ef-8f84-6abb928f2ae7\", [{\"marker\": {\"color\": \"rgb(158,202,225)\", \"line\": {\"color\": \"rgb(8,48,107)\", \"width\": 1.5}}, \"opacity\": 0.6, \"orientation\": \"h\", \"text\": [0.0299, 0.0298, 0.0262, 0.0226, 0.0211, 0.0201, 0.0191, 0.0187, 0.0184, 0.0169, 0.0168, 0.0166, 0.0146, 0.0137, 0.0131, 0.0122, 0.0117, 0.0117, 0.0114, 0.0114, 0.0107, 0.0105, 0.0102, 0.0102, 0.0101, 0.0092, 0.0087, 0.0087, 0.0083, 0.0082, 0.0082, 0.008, 0.008, 0.0078, 0.0075, 0.0074, 0.0073, 0.0072, 0.0069, 0.0068, 0.0066, 0.0066, 0.0064, 0.0064, 0.0064, 0.0063, 0.0063, 0.0062, 0.006, 0.006, 0.0056, 0.0056, 0.0053, 0.0053, 0.0052, 0.0051, 0.005, 0.0049, 0.0048, 0.0048, 0.0045, 0.0044, 0.0043, 0.0043, 0.0042, 0.0042, 0.0042, 0.004, 0.004, 0.0039, 0.0038, 0.0038, 0.0037, 0.0037, 0.0037, 0.0037, 0.0037, 0.0036, 0.0036, 0.0036, 0.0035, 0.0035, 0.0035, 0.0033, 0.0033, 0.0033, 0.0033, 0.0032, 0.0032, 0.0032, 0.0031, 0.0031, 0.0031, 0.0031, 0.003, 0.003, 0.003, 0.003, 0.0029, 0.0029, 0.0029, 0.0028, 0.0028, 0.0028, 0.0028, 0.0028, 0.0028, 0.0028, 0.0027, 0.0027, 0.0027, 0.0027, 0.0026, 0.0026, 0.0026, 0.0026, 0.0026, 0.0026, 0.0025, 0.0025, 0.0025, 0.0025, 0.0024, 0.0024, 0.0023, 0.0023, 0.0023, 0.0023, 0.0022, 0.0022, 0.0022, 0.0022, 0.0022, 0.0021, 0.0021, 0.0021, 0.002, 0.002, 0.002, 0.0019, 0.0019, 0.0019, 0.0019, 0.0019, 0.0018, 0.0018, 0.0018, 0.0018, 0.0018, 0.0018, 0.0017, 0.0017, 0.0017, 0.0017, 0.0017, 0.0017, 0.0017, 0.0017, 0.0016, 0.0016, 0.0016, 0.0016, 0.0016, 0.0015, 0.0015, 0.0015, 0.0015, 0.0015, 0.0015, 0.0015, 0.0015, 0.0015, 0.0015, 0.0015, 0.0014, 0.0014, 0.0014, 0.0014, 0.0014, 0.0014, 0.0014, 0.0014, 0.0014, 0.0014, 0.0013, 0.0013, 0.0013, 0.0013, 0.0013, 0.0013, 0.0013, 0.0013, 0.0013, 0.0013, 0.0012, 0.0012, 0.0012, 0.0012, 0.0012, 0.0012, 0.0012, 0.0012, 0.0012, 0.0012, 0.0012, 0.0012, 0.0012, 0.0012, 0.0012, 0.0012, 0.0011, 0.0011, 0.0011, 0.001, 0.001, 0.001, 0.001, 0.001, 0.001, 0.001, 0.0009, 0.0009, 0.0008, 0.0008, 0.0008, 0.0007, 0.0007, 0.0006], \"textposition\": \"outside\", \"x\": [0.02985644612911868, 0.029787595711094274, 0.02621398617359047, 0.022564007450266516, 0.0210585298311693, 0.0201085112823712, 0.019109163815217163, 0.01865796279662535, 0.018374897638299824, 0.01694843796707487, 0.016782787508110637, 0.016638635420509917, 0.01464690331656757, 0.013693307479848349, 0.013069349095641026, 0.012231874485637678, 0.011667919108959071, 0.01166709955271743, 0.011380441049177722, 0.011361578611315672, 0.010743472230450784, 0.010482186465362945, 0.010220162794708288, 0.010171294827068026, 0.010114032471429462, 0.009235545587273523, 0.008747323703846606, 0.00869878611028107, 0.008284162771386282, 0.008207831820116633, 0.008173578001765538, 0.008034625812946884, 0.007999201630925776, 0.007832257727922329, 0.007499381904649062, 0.007373612831531843, 0.007340508235415068, 0.007174211297399509, 0.006931636676553743, 0.006765595824481732, 0.006605189545582856, 0.006595292391046996, 0.006434055380312017, 0.006402517055399484, 0.006380254047444267, 0.006316820562830778, 0.006251484359905257, 0.0061539192931669585, 0.006042875150155264, 0.005988540354949149, 0.005613527516779739, 0.005598513144445519, 0.005334464597527237, 0.005297701638431925, 0.005232249798840888, 0.005113173785489167, 0.004955530997833699, 0.004949560879275105, 0.0048242086046653, 0.004822205389257069, 0.004537377521058423, 0.004393883668174623, 0.004321000639728756, 0.004256915999666302, 0.00417786387047613, 0.004169212354851436, 0.0041530985983534285, 0.003998971679485678, 0.003986408290379814, 0.0039241631698294695, 0.0038025419328680983, 0.003750129172578566, 0.0036975377192220646, 0.0036707506570833283, 0.003665632198010358, 0.003662576611982831, 0.003656441591139015, 0.003617386393055343, 0.003581716354366922, 0.0035756409794859855, 0.00352792851626077, 0.00350316079698205, 0.003495303701702191, 0.0033471541906696773, 0.00334577194794336, 0.0033424392231543795, 0.003280112572740927, 0.0032418204319421156, 0.0032331038136258787, 0.0032265804561976566, 0.003107731799759269, 0.003084400360050735, 0.0030804334170156005, 0.0030541536571821216, 0.003049198663626394, 0.003024680423023599, 0.0030019463782273107, 0.0029916565630364856, 0.0029357891692325462, 0.002928064836009854, 0.0028599989279387865, 0.00284511405803244, 0.002837881764867228, 0.002828659429225544, 0.0028204119993454494, 0.0028082209133873737, 0.0027826237913504137, 0.0027552166182450316, 0.0027197723566501353, 0.0027074909815683135, 0.002688251061764404, 0.0026527696165147686, 0.0025963370352335012, 0.0025894095104931646, 0.002576475292415311, 0.0025699322117409672, 0.002567938184005517, 0.002552943199446359, 0.0025325227700343763, 0.002527571693599433, 0.0024818258285662486, 0.002454169168825627, 0.0023938036954528298, 0.002372393889128032, 0.0023485832596591384, 0.0023188593915459757, 0.0023034698798665458, 0.002261891996748333, 0.0021923626310500583, 0.0021881008038523147, 0.0021701069640123827, 0.0021591439499149784, 0.0021515810427337667, 0.0021350663443036005, 0.0021241386845728375, 0.0021202324124626865, 0.0019868341138554934, 0.001982174340645941, 0.0019661824818711367, 0.0019192233492248932, 0.0019073625227457505, 0.0019027078114054485, 0.0018899846282841987, 0.001882958291657313, 0.001841451314834814, 0.001818961560183356, 0.0018168408941431808, 0.0018112781432146597, 0.0017716796945211432, 0.0017603183457680712, 0.0017333619968615123, 0.0017315620190823684, 0.0017040256351256457, 0.0016989871944059092, 0.0016795896942138314, 0.0016753243932972769, 0.001658345470258532, 0.0016548178061497388, 0.0016478038117740755, 0.001639363310551662, 0.0015709728627350187, 0.0015603889010437143, 0.001559574096322717, 0.0015289417499294337, 0.001526704571066714, 0.0015243945089297604, 0.001497542074554457, 0.0014958707766011205, 0.0014957180549252025, 0.0014948823621818074, 0.0014914745333386215, 0.001477746557436661, 0.0014593107498108164, 0.0014527398528658326, 0.0014417179695799076, 0.001441348079818649, 0.0014294535087188798, 0.001414618101994478, 0.0014091065275613319, 0.001390605623349851, 0.0013781807906113222, 0.0013772243557661, 0.0013739701075999931, 0.001362487192019089, 0.0013464391803599419, 0.001333188973898365, 0.0013162070469310955, 0.0013157367190867258, 0.0013092064957925236, 0.0013051045222334154, 0.0013018677620505517, 0.0012639741509660044, 0.0012634780337756665, 0.0012626766500624016, 0.001241032105028523, 0.0012321248485063251, 0.0012276006407215849, 0.0012253548966367218, 0.0012231803028914605, 0.0012213575985077446, 0.0012181214155359732, 0.0012165993355320328, 0.0011941511519607726, 0.0011889380433141306, 0.0011794969172368116, 0.0011773811027188186, 0.0011756695043321898, 0.0011737404496294879, 0.0011534630977352717, 0.0011515974669403966, 0.001127409244656979, 0.0010846396688606044, 0.0010693364849012374, 0.0010256918432962295, 0.0010100004863602902, 0.0010096098173102233, 0.0009753204919138064, 0.0009738015608263583, 0.0009665692371839055, 0.0009654336649426653, 0.0009379070199555687, 0.0008878830779982135, 0.0008357005405980024, 0.0007882995337670023, 0.0007697018071659857, 0.000696023982198139, 0.000693505979153009, 0.0005724850927895249], \"y\": [\"0\", \"11\", \"3\", \"175\", \"223\", \"147\", \"135\", \"53\", \"120\", \"48\", \"209\", \"66\", \"92\", \"14\", \"136\", \"73\", \"173\", \"165\", \"91\", \"20\", \"2\", \"41\", \"195\", \"22\", \"161\", \"68\", \"163\", \"170\", \"139\", \"37\", \"169\", \"59\", \"131\", \"27\", \"174\", \"71\", \"198\", \"117\", \"203\", \"130\", \"7\", \"42\", \"10\", \"81\", \"112\", \"208\", \"65\", \"152\", \"181\", \"57\", \"100\", \"171\", \"204\", \"190\", \"134\", \"226\", \"148\", \"162\", \"141\", \"103\", \"49\", \"145\", \"82\", \"113\", \"207\", \"127\", \"70\", \"185\", \"13\", \"191\", \"217\", \"45\", \"224\", \"187\", \"154\", \"1\", \"124\", \"142\", \"44\", \"160\", \"99\", \"121\", \"105\", \"138\", \"89\", \"179\", \"143\", \"29\", \"218\", \"107\", \"144\", \"126\", \"125\", \"167\", \"129\", \"36\", \"210\", \"212\", \"155\", \"26\", \"25\", \"50\", \"216\", \"17\", \"213\", \"15\", \"180\", \"182\", \"55\", \"202\", \"33\", \"158\", \"46\", \"62\", \"111\", \"60\", \"78\", \"219\", \"194\", \"39\", \"186\", \"192\", \"9\", \"199\", \"189\", \"95\", \"76\", \"23\", \"159\", \"64\", \"110\", \"197\", \"137\", \"31\", \"21\", \"93\", \"77\", \"214\", \"221\", \"88\", \"176\", \"32\", \"6\", \"188\", \"123\", \"96\", \"193\", \"119\", \"227\", \"222\", \"128\", \"74\", \"86\", \"90\", \"84\", \"206\", \"69\", \"63\", \"166\", \"18\", \"67\", \"184\", \"24\", \"85\", \"215\", \"118\", \"151\", \"52\", \"211\", \"58\", \"30\", \"205\", \"51\", \"172\", \"146\", \"87\", \"178\", \"177\", \"16\", \"54\", \"83\", \"101\", \"156\", \"72\", \"220\", \"4\", \"140\", \"116\", \"28\", \"108\", \"114\", \"102\", \"38\", \"47\", \"8\", \"109\", \"34\", \"201\", \"132\", \"149\", \"164\", \"97\", \"80\", \"153\", \"98\", \"168\", \"150\", \"5\", \"79\", \"56\", \"225\", \"35\", \"183\", \"115\", \"94\", \"40\", \"12\", \"133\", \"104\", \"19\", \"157\", \"61\", \"75\", \"196\", \"43\", \"122\", \"200\", \"106\"], \"type\": \"bar\", \"uid\": \"8b2d1064-7cfb-4208-b0b1-73b1c4bf3c30\"}], {\"autosize\": false, \"height\": 1000, \"width\": 1000, \"xaxis\": {\"tickfont\": {\"color\": \"black\", \"size\": 12}, \"title\": \"Feature Importances\"}, \"yaxis\": {\"automargin\": true}}, {\"showLink\": true, \"linkText\": \"Export to plot.ly\", \"plotlyServerURL\": \"https://plot.ly\"})});</script>"
      ]
     },
     "metadata": {},
     "output_type": "display_data"
    },
    {
     "name": "stdout",
     "output_type": "stream",
     "text": [
      "\n",
      "\n",
      "\u001b[1mBagging Classifier\u001b[0m\n",
      "Accuracy of the model for training data is: 0.908005035772\n",
      "Confusion Matrix for training data is:\n"
     ]
    },
    {
     "data": {
      "text/plain": [
       "Predicted  False  True  __all__\n",
       "Actual                         \n",
       "False      24955  2883    27838\n",
       "True         113  4616     4729\n",
       "__all__    25068  7499    32567"
      ]
     },
     "metadata": {},
     "output_type": "display_data"
    },
    {
     "name": "stdout",
     "output_type": "stream",
     "text": [
      "Accuracy of the model for test data is: 0.895971505773\n",
      "Confusion Matrix for test data is:\n"
     ]
    },
    {
     "data": {
      "text/plain": [
       "Predicted  False  True  __all__\n",
       "Actual                         \n",
       "False       6203   737     6940\n",
       "True         110  1092     1202\n",
       "__all__     6313  1829     8142"
      ]
     },
     "metadata": {},
     "output_type": "display_data"
    },
    {
     "name": "stdout",
     "output_type": "stream",
     "text": [
      "\n",
      "\n",
      "\u001b[1mNeural Network-1\u001b[0m\n",
      "The accuracy of the model on training data is: 0.904719501345\n"
     ]
    },
    {
     "data": {
      "text/plain": [
       "Predicted  False  True  __all__\n",
       "Actual                         \n",
       "False      24900  2938    27838\n",
       "True         165  4564     4729\n",
       "__all__    25065  7502    32567"
      ]
     },
     "metadata": {},
     "output_type": "display_data"
    },
    {
     "name": "stdout",
     "output_type": "stream",
     "text": [
      "The accuracy of the model on test data is: 0.890076148366\n"
     ]
    },
    {
     "data": {
      "text/plain": [
       "Predicted  False  True  __all__\n",
       "Actual                         \n",
       "False       6169   771     6940\n",
       "True         124  1078     1202\n",
       "__all__     6293  1849     8142"
      ]
     },
     "metadata": {},
     "output_type": "display_data"
    },
    {
     "name": "stdout",
     "output_type": "stream",
     "text": [
      "\n",
      "\n"
     ]
    }
   ],
   "source": [
    "feat_imp=[None]*4\n",
    "j=0\n",
    "for i in range(0,8):\n",
    "    if i>=2 and i<=5:\n",
    "        model,cm_train,cm_test,acc_train,acc_test,roc_auc,feat_imp[j],mcc=f[i](X_train,Y_train,X_test,Y_test,np.arange(0,228).astype(str))\n",
    "        j=j+1\n",
    "    else:\n",
    "        model,cm_train,cm_test,acc_train,acc_test,roc_auc,mcc=f[i](X_train,Y_train,X_test,Y_test)\n",
    "    table_80_70_train.loc[i]=   ([acc_train,cm_train.TP,cm_train.TN,cm_train.FP,cm_train.FN,cm_train.FPR,cm_train.FNR])\n",
    "    table_80_70_test.loc[i] =   ([acc_test ,cm_test.TP, cm_test.TN, cm_test.FP, cm_test.FN, cm_test.FPR, cm_test.FNR,roc_auc,mcc])\n",
    "    print(\"\\n\")"
   ]
  },
  {
   "cell_type": "markdown",
   "metadata": {},
   "source": [
    "### <a id='5.A' style=\"text-decoration : none; color : #000000;\"> A. Results</a>"
   ]
  },
  {
   "cell_type": "code",
   "execution_count": 64,
   "metadata": {},
   "outputs": [
    {
     "data": {
      "application/vnd.plotly.v1+json": {
       "config": {
        "linkText": "Export to plot.ly",
        "plotlyServerURL": "https://plot.ly",
        "showLink": true
       },
       "data": [
        {
         "mode": "lines",
         "name": "KNN_model",
         "type": "scatter",
         "uid": "3521091e-fc71-47fc-a5c6-b9a43f11e6a2",
         "x": [
          "accuracy",
          "FPR",
          "FNR",
          "auc"
         ],
         "y": [
          0.89081306804225,
          0.11152737752161383,
          0.0956738768718802,
          0.8963993728032531
         ]
        },
        {
         "mode": "lines+markers",
         "name": "Logistic Regression",
         "type": "scatter",
         "uid": "0787e170-7db9-4c62-94be-49d1327b87c5",
         "x": [
          "accuracy",
          "FPR",
          "FNR",
          "auc"
         ],
         "y": [
          0.8796364529599607,
          0.10994236311239193,
          0.1805324459234609,
          0.8547625954820737
         ]
        },
        {
         "marker": {
          "symbol": "x"
         },
         "mode": "lines+markers",
         "name": "Random Forest",
         "type": "scatter",
         "uid": "87677a99-f723-4dfb-9832-4f9a939f0156",
         "x": [
          "accuracy",
          "FPR",
          "FNR",
          "auc"
         ],
         "y": [
          0.8964627855563744,
          0.10518731988472622,
          0.09400998336106489,
          0.9004013483771045
         ]
        },
        {
         "mode": "lines",
         "name": "Ada Boost",
         "type": "scatter",
         "uid": "0b600c7d-9b4e-4369-b41e-6b94ea17b406",
         "x": [
          "accuracy",
          "FPR",
          "FNR",
          "auc"
         ],
         "y": [
          0.8850405305821666,
          0.10662824207492795,
          0.16306156405990016,
          0.8651550969325861
         ]
        },
        {
         "mode": "lines+markers",
         "name": "GradientBoosting",
         "type": "scatter",
         "uid": "e4de36a9-5f61-484e-ae44-461ccbddc62f",
         "x": [
          "accuracy",
          "FPR",
          "FNR",
          "auc"
         ],
         "y": [
          0.8937607467452714,
          0.10489913544668587,
          0.11397670549084858,
          0.8905620795312328
         ]
        },
        {
         "marker": {
          "symbol": "x"
         },
         "mode": "lines+markers",
         "name": "ExtraTree Classifier",
         "type": "scatter",
         "uid": "4d6e3296-2518-466b-a7cb-60c7717e3486",
         "x": [
          "accuracy",
          "FPR",
          "FNR",
          "auc"
         ],
         "y": [
          0.8964627855563744,
          0.10547550432276658,
          0.09234608985024959,
          0.901089202913492
         ]
        },
        {
         "marker": {
          "symbol": "x"
         },
         "mode": "lines+markers",
         "name": "Bagging",
         "type": "scatter",
         "uid": "85aafd2f-c8b4-445c-8e22-545b89fb8004",
         "x": [
          "accuracy",
          "FPR",
          "FNR",
          "auc"
         ],
         "y": [
          0.8959715057725375,
          0.10619596541786744,
          0.09151414309484193,
          0.9011449457436453
         ]
        },
        {
         "marker": {
          "symbol": "x"
         },
         "mode": "lines+markers",
         "name": "Neural Network",
         "type": "scatter",
         "uid": "90b4fd4a-216f-4249-98ff-b16b4c319695",
         "x": [
          "accuracy",
          "FPR",
          "FNR",
          "auc"
         ],
         "y": [
          0.8900761483664947,
          0.11109510086455332,
          0.10316139767054909,
          0.9011449457436453
         ]
        }
       ],
       "layout": {
        "title": "Result comparision for Features selected in Section 1",
        "yaxis": {
         "dtick": 0.05,
         "tick0": 0
        }
       }
      },
      "text/html": [
       "<div id=\"8cbd5076-65d9-49a9-b454-87319b02a52b\" style=\"height: 525px; width: 100%;\" class=\"plotly-graph-div\"></div><script type=\"text/javascript\">require([\"plotly\"], function(Plotly) { window.PLOTLYENV=window.PLOTLYENV || {};window.PLOTLYENV.BASE_URL=\"https://plot.ly\";Plotly.newPlot(\"8cbd5076-65d9-49a9-b454-87319b02a52b\", [{\"mode\": \"lines\", \"name\": \"KNN_model\", \"x\": [\"accuracy\", \"FPR\", \"FNR\", \"auc\"], \"y\": [0.89081306804225, 0.11152737752161383, 0.0956738768718802, 0.8963993728032531], \"type\": \"scatter\", \"uid\": \"3521091e-fc71-47fc-a5c6-b9a43f11e6a2\"}, {\"mode\": \"lines+markers\", \"name\": \"Logistic Regression\", \"x\": [\"accuracy\", \"FPR\", \"FNR\", \"auc\"], \"y\": [0.8796364529599607, 0.10994236311239193, 0.1805324459234609, 0.8547625954820737], \"type\": \"scatter\", \"uid\": \"0787e170-7db9-4c62-94be-49d1327b87c5\"}, {\"marker\": {\"symbol\": \"x\"}, \"mode\": \"lines+markers\", \"name\": \"Random Forest\", \"x\": [\"accuracy\", \"FPR\", \"FNR\", \"auc\"], \"y\": [0.8964627855563744, 0.10518731988472622, 0.09400998336106489, 0.9004013483771045], \"type\": \"scatter\", \"uid\": \"87677a99-f723-4dfb-9832-4f9a939f0156\"}, {\"mode\": \"lines\", \"name\": \"Ada Boost\", \"x\": [\"accuracy\", \"FPR\", \"FNR\", \"auc\"], \"y\": [0.8850405305821666, 0.10662824207492795, 0.16306156405990016, 0.8651550969325861], \"type\": \"scatter\", \"uid\": \"0b600c7d-9b4e-4369-b41e-6b94ea17b406\"}, {\"mode\": \"lines+markers\", \"name\": \"GradientBoosting\", \"x\": [\"accuracy\", \"FPR\", \"FNR\", \"auc\"], \"y\": [0.8937607467452714, 0.10489913544668587, 0.11397670549084858, 0.8905620795312328], \"type\": \"scatter\", \"uid\": \"e4de36a9-5f61-484e-ae44-461ccbddc62f\"}, {\"marker\": {\"symbol\": \"x\"}, \"mode\": \"lines+markers\", \"name\": \"ExtraTree Classifier\", \"x\": [\"accuracy\", \"FPR\", \"FNR\", \"auc\"], \"y\": [0.8964627855563744, 0.10547550432276658, 0.09234608985024959, 0.901089202913492], \"type\": \"scatter\", \"uid\": \"4d6e3296-2518-466b-a7cb-60c7717e3486\"}, {\"marker\": {\"symbol\": \"x\"}, \"mode\": \"lines+markers\", \"name\": \"Bagging\", \"x\": [\"accuracy\", \"FPR\", \"FNR\", \"auc\"], \"y\": [0.8959715057725375, 0.10619596541786744, 0.09151414309484193, 0.9011449457436453], \"type\": \"scatter\", \"uid\": \"85aafd2f-c8b4-445c-8e22-545b89fb8004\"}, {\"marker\": {\"symbol\": \"x\"}, \"mode\": \"lines+markers\", \"name\": \"Neural Network\", \"x\": [\"accuracy\", \"FPR\", \"FNR\", \"auc\"], \"y\": [0.8900761483664947, 0.11109510086455332, 0.10316139767054909, 0.9011449457436453], \"type\": \"scatter\", \"uid\": \"90b4fd4a-216f-4249-98ff-b16b4c319695\"}], {\"title\": \"Result comparision for Features selected in Section 1\", \"yaxis\": {\"dtick\": 0.05, \"tick0\": 0}}, {\"showLink\": true, \"linkText\": \"Export to plot.ly\", \"plotlyServerURL\": \"https://plot.ly\"})});</script><script type=\"text/javascript\">window.addEventListener(\"resize\", function(){window._Plotly.Plots.resize(document.getElementById(\"8cbd5076-65d9-49a9-b454-87319b02a52b\"));});</script>"
      ],
      "text/vnd.plotly.v1+html": [
       "<div id=\"8cbd5076-65d9-49a9-b454-87319b02a52b\" style=\"height: 525px; width: 100%;\" class=\"plotly-graph-div\"></div><script type=\"text/javascript\">require([\"plotly\"], function(Plotly) { window.PLOTLYENV=window.PLOTLYENV || {};window.PLOTLYENV.BASE_URL=\"https://plot.ly\";Plotly.newPlot(\"8cbd5076-65d9-49a9-b454-87319b02a52b\", [{\"mode\": \"lines\", \"name\": \"KNN_model\", \"x\": [\"accuracy\", \"FPR\", \"FNR\", \"auc\"], \"y\": [0.89081306804225, 0.11152737752161383, 0.0956738768718802, 0.8963993728032531], \"type\": \"scatter\", \"uid\": \"3521091e-fc71-47fc-a5c6-b9a43f11e6a2\"}, {\"mode\": \"lines+markers\", \"name\": \"Logistic Regression\", \"x\": [\"accuracy\", \"FPR\", \"FNR\", \"auc\"], \"y\": [0.8796364529599607, 0.10994236311239193, 0.1805324459234609, 0.8547625954820737], \"type\": \"scatter\", \"uid\": \"0787e170-7db9-4c62-94be-49d1327b87c5\"}, {\"marker\": {\"symbol\": \"x\"}, \"mode\": \"lines+markers\", \"name\": \"Random Forest\", \"x\": [\"accuracy\", \"FPR\", \"FNR\", \"auc\"], \"y\": [0.8964627855563744, 0.10518731988472622, 0.09400998336106489, 0.9004013483771045], \"type\": \"scatter\", \"uid\": \"87677a99-f723-4dfb-9832-4f9a939f0156\"}, {\"mode\": \"lines\", \"name\": \"Ada Boost\", \"x\": [\"accuracy\", \"FPR\", \"FNR\", \"auc\"], \"y\": [0.8850405305821666, 0.10662824207492795, 0.16306156405990016, 0.8651550969325861], \"type\": \"scatter\", \"uid\": \"0b600c7d-9b4e-4369-b41e-6b94ea17b406\"}, {\"mode\": \"lines+markers\", \"name\": \"GradientBoosting\", \"x\": [\"accuracy\", \"FPR\", \"FNR\", \"auc\"], \"y\": [0.8937607467452714, 0.10489913544668587, 0.11397670549084858, 0.8905620795312328], \"type\": \"scatter\", \"uid\": \"e4de36a9-5f61-484e-ae44-461ccbddc62f\"}, {\"marker\": {\"symbol\": \"x\"}, \"mode\": \"lines+markers\", \"name\": \"ExtraTree Classifier\", \"x\": [\"accuracy\", \"FPR\", \"FNR\", \"auc\"], \"y\": [0.8964627855563744, 0.10547550432276658, 0.09234608985024959, 0.901089202913492], \"type\": \"scatter\", \"uid\": \"4d6e3296-2518-466b-a7cb-60c7717e3486\"}, {\"marker\": {\"symbol\": \"x\"}, \"mode\": \"lines+markers\", \"name\": \"Bagging\", \"x\": [\"accuracy\", \"FPR\", \"FNR\", \"auc\"], \"y\": [0.8959715057725375, 0.10619596541786744, 0.09151414309484193, 0.9011449457436453], \"type\": \"scatter\", \"uid\": \"85aafd2f-c8b4-445c-8e22-545b89fb8004\"}, {\"marker\": {\"symbol\": \"x\"}, \"mode\": \"lines+markers\", \"name\": \"Neural Network\", \"x\": [\"accuracy\", \"FPR\", \"FNR\", \"auc\"], \"y\": [0.8900761483664947, 0.11109510086455332, 0.10316139767054909, 0.9011449457436453], \"type\": \"scatter\", \"uid\": \"90b4fd4a-216f-4249-98ff-b16b4c319695\"}], {\"title\": \"Result comparision for Features selected in Section 1\", \"yaxis\": {\"dtick\": 0.05, \"tick0\": 0}}, {\"showLink\": true, \"linkText\": \"Export to plot.ly\", \"plotlyServerURL\": \"https://plot.ly\"})});</script><script type=\"text/javascript\">window.addEventListener(\"resize\", function(){window._Plotly.Plots.resize(document.getElementById(\"8cbd5076-65d9-49a9-b454-87319b02a52b\"));});</script>"
      ]
     },
     "metadata": {},
     "output_type": "display_data"
    }
   ],
   "source": [
    "trace0 = go.Scatter(x=table_80_70_test.iloc[0].index.values[[0,5,6,7]],\n",
    "                    y=table_80_70_test.iloc[0].values[[0,5,6,7]],\n",
    "                    mode = 'lines',\n",
    "                    name = 'KNN_model')\n",
    "\n",
    "trace1 = go.Scatter(x=table_80_70_test.iloc[1].index.values[[0,5,6,7]],\n",
    "                    y=table_80_70_test.iloc[1].values[[0,5,6,7]],\n",
    "                    mode = 'lines+markers',\n",
    "                    name = 'Logistic Regression')\n",
    "\n",
    "trace2 = go.Scatter(x=table_80_70_test.iloc[2].index.values[[0,5,6,7]],\n",
    "                    y=table_80_70_test.iloc[2].values[[0,5,6,7]],\n",
    "                    mode = 'lines+markers',marker=dict(symbol='x'),\n",
    "                    name = 'Random Forest')\n",
    "\n",
    "\n",
    "trace3 = go.Scatter(x=table_80_70_test.iloc[3].index.values[[0,5,6,7]],\n",
    "                    y=table_80_70_test.iloc[3].values[[0,5,6,7]],\n",
    "                    mode = 'lines',\n",
    "                    name = 'Ada Boost')\n",
    "\n",
    "trace4 = go.Scatter(x=table_80_70_test.iloc[4].index.values[[0,5,6,7]],\n",
    "                    y=table_80_70_test.iloc[4].values[[0,5,6,7]],\n",
    "                    mode = 'lines+markers',\n",
    "                    name = 'GradientBoosting')\n",
    "\n",
    "trace5 = go.Scatter(x=table_80_70_test.iloc[5].index.values[[0,5,6,7]],\n",
    "                    y=table_80_70_test.iloc[5].values[[0,5,6,7]],\n",
    "                    mode = 'lines+markers',marker=dict(symbol='x'),\n",
    "                    name = 'ExtraTree Classifier')\n",
    "\n",
    "trace6 = go.Scatter(x=table_80_70_test.iloc[6].index.values[[0,5,6,7]],\n",
    "                    y=table_80_70_test.iloc[6].values[[0,5,6,7]],\n",
    "                    mode = 'lines+markers',marker=dict(symbol='x'),\n",
    "                    name = 'Bagging')\n",
    "\n",
    "trace7 = go.Scatter(x=table_80_70_test.iloc[7].index.values[[0,5,6,7]],\n",
    "                    y=table_80_70_test.iloc[7].values[[0,5,6,7]],\n",
    "                    mode = 'lines+markers',marker=dict(symbol='x'),\n",
    "                    name = 'Neural Network')\n",
    "\n",
    "\n",
    "\n",
    "data = [trace0, trace1, trace2, trace3, trace4, trace5, trace6, trace7]\n",
    "layout = go.Layout(yaxis=dict(tick0=0,dtick=0.05),title='Result comparision for Features selected in Section 1')\n",
    "fig = go.Figure(data=data, layout=layout)\n",
    "\n",
    "iplot(fig, filename='Result')"
   ]
  },
  {
   "cell_type": "code",
   "execution_count": 65,
   "metadata": {},
   "outputs": [
    {
     "name": "stdout",
     "output_type": "stream",
     "text": [
      "Training Results\n"
     ]
    },
    {
     "data": {
      "text/html": [
       "<div>\n",
       "<style scoped>\n",
       "    .dataframe tbody tr th:only-of-type {\n",
       "        vertical-align: middle;\n",
       "    }\n",
       "\n",
       "    .dataframe tbody tr th {\n",
       "        vertical-align: top;\n",
       "    }\n",
       "\n",
       "    .dataframe thead th {\n",
       "        text-align: right;\n",
       "    }\n",
       "</style>\n",
       "<table border=\"1\" class=\"dataframe\">\n",
       "  <thead>\n",
       "    <tr style=\"text-align: right;\">\n",
       "      <th></th>\n",
       "      <th>accuracy</th>\n",
       "      <th>TP</th>\n",
       "      <th>TN</th>\n",
       "      <th>FP</th>\n",
       "      <th>FN</th>\n",
       "      <th>FPR</th>\n",
       "      <th>FNR</th>\n",
       "    </tr>\n",
       "    <tr>\n",
       "      <th>index</th>\n",
       "      <th></th>\n",
       "      <th></th>\n",
       "      <th></th>\n",
       "      <th></th>\n",
       "      <th></th>\n",
       "      <th></th>\n",
       "      <th></th>\n",
       "    </tr>\n",
       "  </thead>\n",
       "  <tbody>\n",
       "    <tr>\n",
       "      <th>KNeighborsClassifier</th>\n",
       "      <td>0.896398</td>\n",
       "      <td>4343.0</td>\n",
       "      <td>24850.0</td>\n",
       "      <td>2988.0</td>\n",
       "      <td>386.0</td>\n",
       "      <td>0.107335</td>\n",
       "      <td>0.081624</td>\n",
       "    </tr>\n",
       "    <tr>\n",
       "      <th>LogisticRegression</th>\n",
       "      <td>0.880523</td>\n",
       "      <td>3823.0</td>\n",
       "      <td>24853.0</td>\n",
       "      <td>2985.0</td>\n",
       "      <td>906.0</td>\n",
       "      <td>0.107228</td>\n",
       "      <td>0.191584</td>\n",
       "    </tr>\n",
       "    <tr>\n",
       "      <th>RandomForestClassifier</th>\n",
       "      <td>0.907698</td>\n",
       "      <td>4607.0</td>\n",
       "      <td>24954.0</td>\n",
       "      <td>2884.0</td>\n",
       "      <td>122.0</td>\n",
       "      <td>0.103599</td>\n",
       "      <td>0.025798</td>\n",
       "    </tr>\n",
       "    <tr>\n",
       "      <th>AdaBoostClassifier</th>\n",
       "      <td>0.884239</td>\n",
       "      <td>3950.0</td>\n",
       "      <td>24847.0</td>\n",
       "      <td>2991.0</td>\n",
       "      <td>779.0</td>\n",
       "      <td>0.107443</td>\n",
       "      <td>0.164728</td>\n",
       "    </tr>\n",
       "    <tr>\n",
       "      <th>GradientBoostingClassifier</th>\n",
       "      <td>0.896767</td>\n",
       "      <td>4241.0</td>\n",
       "      <td>24964.0</td>\n",
       "      <td>2874.0</td>\n",
       "      <td>488.0</td>\n",
       "      <td>0.103240</td>\n",
       "      <td>0.103193</td>\n",
       "    </tr>\n",
       "    <tr>\n",
       "      <th>ExtraTreeClassifier</th>\n",
       "      <td>0.910001</td>\n",
       "      <td>4676.0</td>\n",
       "      <td>24960.0</td>\n",
       "      <td>2878.0</td>\n",
       "      <td>53.0</td>\n",
       "      <td>0.103384</td>\n",
       "      <td>0.011207</td>\n",
       "    </tr>\n",
       "    <tr>\n",
       "      <th>BaggingClassifier</th>\n",
       "      <td>0.908005</td>\n",
       "      <td>4616.0</td>\n",
       "      <td>24955.0</td>\n",
       "      <td>2883.0</td>\n",
       "      <td>113.0</td>\n",
       "      <td>0.103563</td>\n",
       "      <td>0.023895</td>\n",
       "    </tr>\n",
       "    <tr>\n",
       "      <th>Neural Network-1</th>\n",
       "      <td>0.904720</td>\n",
       "      <td>4564.0</td>\n",
       "      <td>24900.0</td>\n",
       "      <td>2938.0</td>\n",
       "      <td>165.0</td>\n",
       "      <td>0.105539</td>\n",
       "      <td>0.034891</td>\n",
       "    </tr>\n",
       "  </tbody>\n",
       "</table>\n",
       "</div>"
      ],
      "text/plain": [
       "                            accuracy      TP       TN      FP     FN  \\\n",
       "index                                                                  \n",
       "KNeighborsClassifier        0.896398  4343.0  24850.0  2988.0  386.0   \n",
       "LogisticRegression          0.880523  3823.0  24853.0  2985.0  906.0   \n",
       "RandomForestClassifier      0.907698  4607.0  24954.0  2884.0  122.0   \n",
       "AdaBoostClassifier          0.884239  3950.0  24847.0  2991.0  779.0   \n",
       "GradientBoostingClassifier  0.896767  4241.0  24964.0  2874.0  488.0   \n",
       "ExtraTreeClassifier         0.910001  4676.0  24960.0  2878.0   53.0   \n",
       "BaggingClassifier           0.908005  4616.0  24955.0  2883.0  113.0   \n",
       "Neural Network-1            0.904720  4564.0  24900.0  2938.0  165.0   \n",
       "\n",
       "                                 FPR       FNR  \n",
       "index                                           \n",
       "KNeighborsClassifier        0.107335  0.081624  \n",
       "LogisticRegression          0.107228  0.191584  \n",
       "RandomForestClassifier      0.103599  0.025798  \n",
       "AdaBoostClassifier          0.107443  0.164728  \n",
       "GradientBoostingClassifier  0.103240  0.103193  \n",
       "ExtraTreeClassifier         0.103384  0.011207  \n",
       "BaggingClassifier           0.103563  0.023895  \n",
       "Neural Network-1            0.105539  0.034891  "
      ]
     },
     "metadata": {},
     "output_type": "display_data"
    },
    {
     "name": "stdout",
     "output_type": "stream",
     "text": [
      "Test Results\n"
     ]
    },
    {
     "data": {
      "text/html": [
       "<div>\n",
       "<style scoped>\n",
       "    .dataframe tbody tr th:only-of-type {\n",
       "        vertical-align: middle;\n",
       "    }\n",
       "\n",
       "    .dataframe tbody tr th {\n",
       "        vertical-align: top;\n",
       "    }\n",
       "\n",
       "    .dataframe thead th {\n",
       "        text-align: right;\n",
       "    }\n",
       "</style>\n",
       "<table border=\"1\" class=\"dataframe\">\n",
       "  <thead>\n",
       "    <tr style=\"text-align: right;\">\n",
       "      <th></th>\n",
       "      <th>accuracy</th>\n",
       "      <th>TP</th>\n",
       "      <th>TN</th>\n",
       "      <th>FP</th>\n",
       "      <th>FN</th>\n",
       "      <th>FPR</th>\n",
       "      <th>FNR</th>\n",
       "      <th>auc</th>\n",
       "      <th>mcc</th>\n",
       "    </tr>\n",
       "    <tr>\n",
       "      <th>index</th>\n",
       "      <th></th>\n",
       "      <th></th>\n",
       "      <th></th>\n",
       "      <th></th>\n",
       "      <th></th>\n",
       "      <th></th>\n",
       "      <th></th>\n",
       "      <th></th>\n",
       "      <th></th>\n",
       "    </tr>\n",
       "  </thead>\n",
       "  <tbody>\n",
       "    <tr>\n",
       "      <th>KNeighborsClassifier</th>\n",
       "      <td>0.890813</td>\n",
       "      <td>1087.0</td>\n",
       "      <td>6166.0</td>\n",
       "      <td>774.0</td>\n",
       "      <td>115.0</td>\n",
       "      <td>0.111527</td>\n",
       "      <td>0.095674</td>\n",
       "      <td>0.896399</td>\n",
       "      <td>0.669742</td>\n",
       "    </tr>\n",
       "    <tr>\n",
       "      <th>LogisticRegression</th>\n",
       "      <td>0.879636</td>\n",
       "      <td>985.0</td>\n",
       "      <td>6177.0</td>\n",
       "      <td>763.0</td>\n",
       "      <td>217.0</td>\n",
       "      <td>0.109942</td>\n",
       "      <td>0.180532</td>\n",
       "      <td>0.854763</td>\n",
       "      <td>0.612975</td>\n",
       "    </tr>\n",
       "    <tr>\n",
       "      <th>RandomForestClassifier</th>\n",
       "      <td>0.896463</td>\n",
       "      <td>1089.0</td>\n",
       "      <td>6210.0</td>\n",
       "      <td>730.0</td>\n",
       "      <td>113.0</td>\n",
       "      <td>0.105187</td>\n",
       "      <td>0.094010</td>\n",
       "      <td>0.900401</td>\n",
       "      <td>0.681992</td>\n",
       "    </tr>\n",
       "    <tr>\n",
       "      <th>AdaBoostClassifier</th>\n",
       "      <td>0.885041</td>\n",
       "      <td>1006.0</td>\n",
       "      <td>6200.0</td>\n",
       "      <td>740.0</td>\n",
       "      <td>196.0</td>\n",
       "      <td>0.106628</td>\n",
       "      <td>0.163062</td>\n",
       "      <td>0.865155</td>\n",
       "      <td>0.631194</td>\n",
       "    </tr>\n",
       "    <tr>\n",
       "      <th>GradientBoostingClassifier</th>\n",
       "      <td>0.893761</td>\n",
       "      <td>1065.0</td>\n",
       "      <td>6212.0</td>\n",
       "      <td>728.0</td>\n",
       "      <td>137.0</td>\n",
       "      <td>0.104899</td>\n",
       "      <td>0.113977</td>\n",
       "      <td>0.890562</td>\n",
       "      <td>0.668666</td>\n",
       "    </tr>\n",
       "    <tr>\n",
       "      <th>ExtraTreeClassifier</th>\n",
       "      <td>0.896463</td>\n",
       "      <td>1091.0</td>\n",
       "      <td>6208.0</td>\n",
       "      <td>732.0</td>\n",
       "      <td>111.0</td>\n",
       "      <td>0.105476</td>\n",
       "      <td>0.092346</td>\n",
       "      <td>0.901089</td>\n",
       "      <td>0.682630</td>\n",
       "    </tr>\n",
       "    <tr>\n",
       "      <th>BaggingClassifier</th>\n",
       "      <td>0.895972</td>\n",
       "      <td>1092.0</td>\n",
       "      <td>6203.0</td>\n",
       "      <td>737.0</td>\n",
       "      <td>110.0</td>\n",
       "      <td>0.106196</td>\n",
       "      <td>0.091514</td>\n",
       "      <td>0.901145</td>\n",
       "      <td>0.681928</td>\n",
       "    </tr>\n",
       "    <tr>\n",
       "      <th>Neural Network-1</th>\n",
       "      <td>0.890076</td>\n",
       "      <td>1078.0</td>\n",
       "      <td>6169.0</td>\n",
       "      <td>771.0</td>\n",
       "      <td>124.0</td>\n",
       "      <td>0.111095</td>\n",
       "      <td>0.103161</td>\n",
       "      <td>0.901145</td>\n",
       "      <td>0.665297</td>\n",
       "    </tr>\n",
       "  </tbody>\n",
       "</table>\n",
       "</div>"
      ],
      "text/plain": [
       "                            accuracy      TP      TN     FP     FN       FPR  \\\n",
       "index                                                                          \n",
       "KNeighborsClassifier        0.890813  1087.0  6166.0  774.0  115.0  0.111527   \n",
       "LogisticRegression          0.879636   985.0  6177.0  763.0  217.0  0.109942   \n",
       "RandomForestClassifier      0.896463  1089.0  6210.0  730.0  113.0  0.105187   \n",
       "AdaBoostClassifier          0.885041  1006.0  6200.0  740.0  196.0  0.106628   \n",
       "GradientBoostingClassifier  0.893761  1065.0  6212.0  728.0  137.0  0.104899   \n",
       "ExtraTreeClassifier         0.896463  1091.0  6208.0  732.0  111.0  0.105476   \n",
       "BaggingClassifier           0.895972  1092.0  6203.0  737.0  110.0  0.106196   \n",
       "Neural Network-1            0.890076  1078.0  6169.0  771.0  124.0  0.111095   \n",
       "\n",
       "                                 FNR       auc       mcc  \n",
       "index                                                     \n",
       "KNeighborsClassifier        0.095674  0.896399  0.669742  \n",
       "LogisticRegression          0.180532  0.854763  0.612975  \n",
       "RandomForestClassifier      0.094010  0.900401  0.681992  \n",
       "AdaBoostClassifier          0.163062  0.865155  0.631194  \n",
       "GradientBoostingClassifier  0.113977  0.890562  0.668666  \n",
       "ExtraTreeClassifier         0.092346  0.901089  0.682630  \n",
       "BaggingClassifier           0.091514  0.901145  0.681928  \n",
       "Neural Network-1            0.103161  0.901145  0.665297  "
      ]
     },
     "metadata": {},
     "output_type": "display_data"
    }
   ],
   "source": [
    "table_80_70_train['index']=ind_columns\n",
    "table_80_70_test['index']=ind_columns\n",
    "\n",
    "\n",
    "table_80_70_test.set_index(['index'],drop=True,inplace=True)\n",
    "table_80_70_train.set_index(['index'],drop=True,inplace=True)\n",
    "\n",
    "print(\"Training Results\")\n",
    "display(table_80_70_train)\n",
    "print(\"Test Results\")\n",
    "display(table_80_70_test)"
   ]
  },
  {
   "cell_type": "code",
   "execution_count": 66,
   "metadata": {},
   "outputs": [
    {
     "data": {
      "text/html": [
       "<script>\n",
       "code_show=true; \n",
       "function code_toggle() {\n",
       " if (code_show){\n",
       " $('div.input').hide();\n",
       " } else {\n",
       " $('div.input').show();\n",
       " }\n",
       " code_show = !code_show\n",
       "} \n",
       "$( document ).ready(code_toggle);\n",
       "</script>\n",
       "To toggle code, click <a href=\"javascript:code_toggle()\">here</a>."
      ],
      "text/plain": [
       "<IPython.core.display.HTML object>"
      ]
     },
     "execution_count": 66,
     "metadata": {},
     "output_type": "execute_result"
    }
   ],
   "source": [
    "### Original Creator : Darshan Bhansali\n",
    "### HTML code to hide the input cells \n",
    "HTML('''<script>\n",
    "code_show=true; \n",
    "function code_toggle() {\n",
    " if (code_show){\n",
    " $('div.input').hide();\n",
    " } else {\n",
    " $('div.input').show();\n",
    " }\n",
    " code_show = !code_show\n",
    "} \n",
    "$( document ).ready(code_toggle);\n",
    "</script>\n",
    "To toggle code, click <a href=\"javascript:code_toggle()\">here</a>.''')"
   ]
  }
 ],
 "metadata": {
  "kernelspec": {
   "display_name": "Python 3",
   "language": "python",
   "name": "python3"
  },
  "language_info": {
   "codemirror_mode": {
    "name": "ipython",
    "version": 3
   },
   "file_extension": ".py",
   "mimetype": "text/x-python",
   "name": "python",
   "nbconvert_exporter": "python",
   "pygments_lexer": "ipython3",
   "version": "3.6.7"
  }
 },
 "nbformat": 4,
 "nbformat_minor": 2
}
