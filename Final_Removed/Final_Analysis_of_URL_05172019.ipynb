{
 "cells": [
  {
   "cell_type": "markdown",
   "metadata": {},
   "source": [
    "***\n",
    "## Table of Contents\n",
    "<br>\n",
    "  <br>\n",
    "    <ol>\n",
    "        <h2><a href='#1' style=\"text-decoration : none; color : #000000;\">1. Initial Models</a></h2>\n",
    "        <ul>\n",
    "            <a href='#1.A' style=\"text-decoration : none; color : #000000;\"><h3>A. Results </h3></a>\n",
    "        </ul>\n",
    "        <ul>\n",
    "            <a href='#1.B' style=\"text-decoration : none; color : #000000;\"><h3>B. Average Feature Importance   </h3></a>\n",
    "        </ul>\n",
    "     </ol>\n",
    "     <br> \n",
    "\n",
    "<ol>\n",
    "        <h2><a href='#2' style=\"text-decoration : none; color : #000000;\">2. Oversampling </a></h2>\n",
    "        <ul>\n",
    "            <a href='#2.A' style=\"text-decoration : none; color : #000000;\"><h3>A. Results </h3></a>\n",
    "        </ul>\n",
    "        <ul>\n",
    "            <a href='#2.B' style=\"text-decoration : none; color : #000000;\"><h3>B. Average Feature Importance   </h3></a>\n",
    "        </ul>\n",
    "     </ol>\n",
    "     <br>\n",
    "     \n",
    " <ol>\n",
    "        <h2><a href='#3' style=\"text-decoration : none; color : #000000;\">3. Undersampling</a></h2>\n",
    "        <ul>\n",
    "            <a href='#3.A' style=\"text-decoration : none; color : #000000;\"><h3>A. Results </h3></a>\n",
    "        </ul>\n",
    "        <ul>\n",
    "            <a href='#3.B' style=\"text-decoration : none; color : #000000;\"><h3>B. Average Feature Importance   </h3></a>\n",
    "        </ul>\n",
    "     </ol>\n",
    "     <br>\n",
    "     \n",
    " <ol>\n",
    "        <h2><a href='#4' style=\"text-decoration : none; color : #000000;\">4.Feature Transformation with feature selection</a></h2>\n",
    "        <ul>\n",
    "            <a href='#4.A' style=\"text-decoration : none; color : #000000;\"><h3>A. Results </h3></a>\n",
    "        </ul>\n",
    "        <ul>\n",
    "            <a href='#4.B' style=\"text-decoration : none; color : #000000;\"><h3>B. Average Feature Importance   </h3></a>\n",
    "        </ul>\n",
    "     </ol>\n",
    "     <br>\n",
    "     \n",
    "     \n",
    " <ol>\n",
    "        <h2><a href='#5' style=\"text-decoration : none; color : #000000;\">5.Feature Transformation with PCA</a></h2>\n",
    "        <ul>\n",
    "            <a href='#5.A' style=\"text-decoration : none; color : #000000;\"><h3>A. Results </h3></a>\n",
    "        </ul>\n",
    "        <ul>\n",
    "            <a href='#5.B' style=\"text-decoration : none; color : #000000;\"><h3>B. Average Feature Importance   </h3></a>\n",
    "        </ul>\n",
    "     </ol>\n",
    "     <br>"
   ]
  },
  {
   "cell_type": "code",
   "execution_count": 1,
   "metadata": {},
   "outputs": [
    {
     "name": "stderr",
     "output_type": "stream",
     "text": [
      "Using TensorFlow backend.\n"
     ]
    },
    {
     "data": {
      "text/html": [
       "<script type=\"text/javascript\">window.PlotlyConfig = {MathJaxConfig: 'local'};</script><script type=\"text/javascript\">if (window.MathJax) {MathJax.Hub.Config({SVG: {font: \"STIX-Web\"}});}</script><script>requirejs.config({paths: { 'plotly': ['https://cdn.plot.ly/plotly-latest.min']},});if(!window._Plotly) {require(['plotly'],function(plotly) {window._Plotly=plotly;});}</script>"
      ],
      "text/vnd.plotly.v1+html": [
       "<script type=\"text/javascript\">window.PlotlyConfig = {MathJaxConfig: 'local'};</script><script type=\"text/javascript\">if (window.MathJax) {MathJax.Hub.Config({SVG: {font: \"STIX-Web\"}});}</script><script>requirejs.config({paths: { 'plotly': ['https://cdn.plot.ly/plotly-latest.min']},});if(!window._Plotly) {require(['plotly'],function(plotly) {window._Plotly=plotly;});}</script>"
      ]
     },
     "metadata": {},
     "output_type": "display_data"
    }
   ],
   "source": [
    "import pandas as pd\n",
    "import numpy as np\n",
    "import copy\n",
    "import matplotlib.pyplot as plt\n",
    "import seaborn as sns\n",
    "%matplotlib inline\n",
    "\n",
    "from IPython.display import display,clear_output,HTML\n",
    "import warnings\n",
    "warnings.filterwarnings(\"ignore\")\n",
    "\n",
    "import keras\n",
    "from keras.layers import Dense,Dropout\n",
    "from keras.models import Sequential\n",
    "warnings.simplefilter(\"ignore\", DeprecationWarning)\n",
    "import researchpy as rp\n",
    "\n",
    "%matplotlib inline\n",
    "pd.set_option('display.max_columns', 500)\n",
    "pd.set_option('display.max_rows',305)\n",
    "\n",
    "from sklearn.feature_selection import SelectKBest,chi2,RFE,RFECV,f_regression,SelectFromModel\n",
    "from sklearn.linear_model import LogisticRegression\n",
    "from sklearn.ensemble import ExtraTreesClassifier,RandomForestClassifier,GradientBoostingClassifier,AdaBoostClassifier,BaggingClassifier\n",
    "from sklearn.neighbors import KNeighborsClassifier\n",
    "from sklearn.model_selection import train_test_split,cross_val_score\n",
    "\n",
    "from sklearn.preprocessing import StandardScaler,MinMaxScaler\n",
    "from sklearn import metrics\n",
    "\n",
    "\n",
    "\n",
    "from sklearn.decomposition import PCA\n",
    "from sklearn.metrics import accuracy_score,auc,roc_curve,recall_score,precision_score,matthews_corrcoef\n",
    "\n",
    "from pandas_ml import ConfusionMatrix\n",
    "\n",
    "\n",
    "from imblearn.over_sampling import SMOTE\n",
    "\n",
    "from plotly.offline import download_plotlyjs, init_notebook_mode, plot, iplot\n",
    "init_notebook_mode(connected=True)\n",
    "import plotly.graph_objs as go\n",
    "\n",
    "import featuretools as ft\n",
    "\n",
    "from scipy import stats\n",
    "import re"
   ]
  },
  {
   "cell_type": "code",
   "execution_count": 2,
   "metadata": {
    "collapsed": true
   },
   "outputs": [],
   "source": [
    "### Function to plot Feature Importance\n",
    "def feat_impt_plot(feat_impt,y_labels,width_s=1000,height_s=1000):\n",
    "    \n",
    "    m=pd.DataFrame(y_labels,feat_impt).reset_index()\n",
    "    m.columns=['Feature_Importance','Features']\n",
    "    m.sort_values(by='Feature_Importance',inplace=True,ascending=False)\n",
    "    m['Features']=m['Features'].str.replace(\"dom_function_\",\"\")\n",
    "    m['Features']=m['Features'].str.replace(\"js_function_\",\"\")\n",
    "    m['Features']=m['Features'].apply(lambda x: str(x).lstrip('.'))\n",
    "    m['Features']=m['Features'].str.replace(\"(\",\"\")\n",
    "    \n",
    "    data = [go.Bar(x=m.Feature_Importance.values,y=m.Features.values,text=np.round(m.Feature_Importance,4),\n",
    "            textposition = 'outside',\n",
    "            marker=dict(\n",
    "                color='rgb(158,202,225)',\n",
    "                line=dict(\n",
    "                    color='rgb(8,48,107)',\n",
    "                    width=1.5),\n",
    "            ),\n",
    "            opacity=0.6,\n",
    "            orientation='h'\n",
    "        )]\n",
    "    layout = go.Layout(autosize=False,\n",
    "    width=width_s,\n",
    "    height=height_s,\n",
    "    xaxis=dict(title='Feature Importances',\n",
    "        tickfont=dict(\n",
    "            size=12,\n",
    "            color='black'\n",
    "        )),\n",
    "    yaxis=dict(automargin=True))\n",
    "    fig = go.Figure(data=data, layout=layout)\n",
    "    iplot(fig)"
   ]
  },
  {
   "cell_type": "code",
   "execution_count": 3,
   "metadata": {
    "collapsed": true
   },
   "outputs": [],
   "source": [
    "def uni_value(data):\n",
    "    lst=[]\n",
    "    for col in data.columns[:]:\n",
    "        lst.append([col,dict(data[col].value_counts()),data[col].value_counts().values[0]>=len(data)*0.95])\n",
    "    col_values=pd.DataFrame(lst,columns=['Feature','Value_Counts','95_%_same_values'])\n",
    "    col_values.set_index('Feature',drop=True,inplace=True)\n",
    "    del lst\n",
    "    return col_values\n",
    "\n",
    "    \n",
    "def check_cat(data):\n",
    "    cat_var=[]\n",
    "    num_var=[]\n",
    "    for col in data.columns:\n",
    "        if col!='Target':\n",
    "            if len(data[col].value_counts())==2:\n",
    "                cat_var.append(col)\n",
    "            else:\n",
    "                num_var.append(col)\n",
    "    return cat_var,num_var\n",
    "\n",
    "\n",
    "def num_stats(data,columns):\n",
    "    lst=[]\n",
    "    c=0\n",
    "    for col in columns:\n",
    "        corr=stats.pointbiserialr(data[col],data.Target)[0]\n",
    "        corr_p=stats.pointbiserialr(data[col],data.Target)[1]\n",
    "        ttest=stats.ttest_ind(data[data.Target==1][col], data[data.Target==0][col], equal_var=False)[0]\n",
    "        ttest_p=stats.ttest_ind(data[data.Target==1][col], data[data.Target==0][col], equal_var=False)[1]\n",
    "        lst.append((corr,corr_p,ttest,ttest_p,col))\n",
    "    stats_data=pd.DataFrame(lst,columns=['Pt. Biserial Corr','Pt. Biserial Corr p-val','ttest','ttest p-val','Feature'])\n",
    "    stats_data.set_index('Feature',drop=True,inplace=True)\n",
    "    stats_data.sort_values(by='ttest',inplace=True)\n",
    "    del lst\n",
    "    return stats_data\n",
    "\n",
    "\n",
    "### Generate statistics for categorical data\n",
    "def cat_stats(data,columns):\n",
    "    lst=[]\n",
    "    c=0\n",
    "    for col in columns:\n",
    "        if col!='Target':\n",
    "            table, results = rp.crosstab(data['Target'], data[col], prop= 'col', test= 'chi-square')\n",
    "            x=results['results'].values.tolist()\n",
    "            x.append(col)\n",
    "            lst.append(x)\n",
    "    chi_df=pd.DataFrame(lst,columns=['Pearson Chi-square','p-value','Cramers V','Feature'])\n",
    "    chi_df.set_index('Feature',drop=True,inplace=True)\n",
    "    chi_df.sort_values(by='Cramers V',ascending=False,inplace=True)\n",
    "    del lst\n",
    "    return chi_df\n",
    "\n",
    "def remove_feat(data):\n",
    "    col_no_unique=[]\n",
    "    for col in data.columns[:]:\n",
    "        if len(data[col].value_counts())<=1:\n",
    "#             print(col)\n",
    "            col_no_unique.append(col)\n",
    "    return col_no_unique\n",
    "\n",
    "### Generate plot for class balance for categorical nature\n",
    "def class_bal(data,title=''):\n",
    "    d = [go.Bar(x=data.Target.value_counts().index.values,\n",
    "               y=data.Target.value_counts().values,\n",
    "               text=data.Target.value_counts().values,\n",
    "               textposition = 'outside',\n",
    "            )]\n",
    "    layout = go.Layout(title=title,xaxis=dict(title='Domain Type',tickfont=dict(size=12,color='black')),\n",
    "                    yaxis=dict(title='Number of Instances'))\n",
    "    fig = go.Figure(data=d, layout=layout)\n",
    "    iplot(fig)"
   ]
  },
  {
   "cell_type": "code",
   "execution_count": 4,
   "metadata": {
    "collapsed": true
   },
   "outputs": [],
   "source": [
    "def model_build(model,X_train,Y_train,X_test,Y_test,tree=False,feat=None):\n",
    "    \n",
    "    y_pred_train=model.predict(X_train)\n",
    "    acc_train=accuracy_score(Y_train,y_pred_train)\n",
    "    \n",
    "    print(\"Accuracy of the model for training data is:\",acc_train)\n",
    "    print(\"Confusion Matrix for training data is:\")\n",
    "    cm_train=ConfusionMatrix(Y_train,y_pred_train)\n",
    "    display(cm_train)\n",
    "    \n",
    "    \n",
    "    y_pred_test=model.predict(X_test)\n",
    "    acc_test=accuracy_score(Y_test,y_pred_test)\n",
    "    print(\"Accuracy of the model for test data is:\",acc_test)\n",
    "    print(\"Confusion Matrix for test data is:\")\n",
    "    cm_test=ConfusionMatrix(Y_test,y_pred_test)\n",
    "    display(cm_test)\n",
    "\n",
    "    fpr, tpr, threshold = roc_curve(Y_test, y_pred_test)\n",
    "    roc_auc =auc(fpr, tpr)\n",
    "    mcc=matthews_corrcoef(Y_test,y_pred_test)\n",
    "    if tree==True:\n",
    "        feat_impt_plot(model.feature_importances_,feat)\n",
    "        return model,cm_train,cm_test,acc_train,acc_test,roc_auc,model.feature_importances_,mcc\n",
    "    \n",
    "    return model,cm_train,cm_test,acc_train,acc_test,roc_auc,mcc\n",
    "\n",
    "def KNN_model(X_train,Y_train,X_test,Y_test):\n",
    "    print('\\033[1m' + 'K-Nearest Neighbors' + '\\033[0m')\n",
    "    knn=KNeighborsClassifier()\n",
    "    knn.fit(X_train,Y_train)\n",
    "\n",
    "    return model_build(knn,X_train,Y_train,X_test,Y_test)\n",
    "\n",
    "def Logistic_model(X_train,Y_train,X_test,Y_test):\n",
    "    print('\\033[1m' + 'Logistic Regression' + '\\033[0m')\n",
    "    log=LogisticRegression()\n",
    "    log.fit(X_train,Y_train)\n",
    "    \n",
    "    return model_build(log,X_train,Y_train,X_test,Y_test)\n",
    "\n",
    "def RandomForest(X_train,Y_train,X_test,Y_test,feat):\n",
    "    print('\\033[1m' + 'RandomForest Classifier' + '\\033[0m')\n",
    "    rf=RandomForestClassifier()\n",
    "    rf.fit(X_train,Y_train)\n",
    "\n",
    "    \n",
    "    return model_build(rf,X_train,Y_train,X_test,Y_test,True,feat)\n",
    "\n",
    "def AdaBoost(X_train,Y_train,X_test,Y_test,feat):\n",
    "    print('\\033[1m' + 'Adaoost Classifier' + '\\033[0m')\n",
    "    ada=AdaBoostClassifier()\n",
    "    ada.fit(X_train,Y_train)\n",
    "    \n",
    "    return model_build(ada,X_train,Y_train,X_test,Y_test,True,feat)\n",
    "\n",
    "def GradientBoosting(X_train,Y_train,X_test,Y_test,feat):\n",
    "    print('\\033[1m' + 'GradientBoosting Classifier' + '\\033[0m')\n",
    "    gbc=GradientBoostingClassifier()\n",
    "    gbc.fit(X_train,Y_train)\n",
    "    \n",
    "    return model_build(gbc,X_train,Y_train,X_test,Y_test,True,feat)\n",
    "\n",
    "def ExtraTree(X_train,Y_train,X_test,Y_test,feat):\n",
    "    print('\\033[1m' + 'ExtraTree Classifier' + '\\033[0m')\n",
    "    ext_tree=ExtraTreesClassifier()\n",
    "    ext_tree.fit(X_train,Y_train)\n",
    "    \n",
    "    return model_build(ext_tree,X_train,Y_train,X_test,Y_test,True,feat)\n",
    "\n",
    "def Bagging(X_train,Y_train,X_test,Y_test):\n",
    "    print('\\033[1m' + 'Bagging Classifier' + '\\033[0m')\n",
    "    bagging=BaggingClassifier()\n",
    "    bagging.fit(X_train,Y_train)\n",
    "    \n",
    "    return model_build(bagging,X_train,Y_train,X_test,Y_test)\n",
    "\n",
    "def DeepLearning1(X_train,Y_train,X_test,Y_test):\n",
    "    print('\\033[1m' + 'Neural Network-1' + '\\033[0m')\n",
    "    np.random.seed(0)\n",
    "    deep_learning=Sequential()\n",
    "    deep_learning.add(Dense(units=64,activation='relu',use_bias=True,kernel_initializer='uniform',input_dim=X_train.shape[1]))\n",
    "    deep_learning.add(Dense(units=128,activation='relu',use_bias=True,kernel_initializer='uniform'))\n",
    "    deep_learning.add(Dense(units=1,activation='sigmoid',use_bias=True,kernel_initializer='uniform'))\n",
    "    deep_learning.compile(optimizer='adam',loss='binary_crossentropy',metrics=['accuracy'])\n",
    "    deep_learning.fit(X_train,Y_train,batch_size=20,epochs=80,verbose=False)\n",
    "    acc_train=deep_learning.evaluate(X_train,Y_train,verbose=False)[1]\n",
    "    print(\"The accuracy of the model on training data is:\",acc_train)\n",
    "    cm_train=ConfusionMatrix(Y_train,deep_learning.predict_classes(X_train,batch_size=1,verbose=False).reshape(1,len(X_train))[0])\n",
    "    cm_test=ConfusionMatrix(Y_test,deep_learning.predict_classes(X_test,batch_size=1,verbose=False).reshape(1,len(X_test))[0])\n",
    "    display(cm_train)\n",
    "    acc_test=accuracy_score(Y_test,deep_learning.predict_classes(X_test,batch_size=1,verbose=False))\n",
    "    print(\"The accuracy of the model on test data is:\",acc_test)\n",
    "    display(cm_test)\n",
    "    mcc=matthews_corrcoef(Y_test,deep_learning.predict_classes(X_test,batch_size=1,verbose=False))\n",
    "    return  deep_learning,cm_train,cm_test,acc_train,acc_test,roc_auc,mcc"
   ]
  },
  {
   "cell_type": "code",
   "execution_count": 16,
   "metadata": {},
   "outputs": [
    {
     "name": "stdout",
     "output_type": "stream",
     "text": [
      "Shape of our dataset: (46771, 4195)\n"
     ]
    }
   ],
   "source": [
    "df=pd.read_csv('URL.csv')\n",
    "\n",
    "df.drop(['Unnamed: 0'],axis=1,inplace=True)\n",
    "\n",
    "df.fillna(value=0,inplace=True)\n",
    "\n",
    "cookies=[columns for columns in df.columns if 'number' in columns]\n",
    "\n",
    "df.drop(cookies,axis=1,inplace=True)\n",
    "df=df[df['domain']!=0]\n",
    "df.sort_values(by='Target',inplace=True,ascending=False)\n",
    "\n",
    "df.drop_duplicates(['domain'], keep='first',inplace=True)\n",
    "\n",
    "df=df.sample(frac=1,random_state=0)\n",
    "print(\"Shape of our dataset:\",df.shape)"
   ]
  },
  {
   "cell_type": "code",
   "execution_count": 17,
   "metadata": {
    "collapsed": true
   },
   "outputs": [],
   "source": [
    "df['url_number_vowels'] = df['domain'].str.lower().str.count(r'[aeiou]')\n",
    "df['url_number_consonants'] = df['domain'].str.count(r'[bcdfghjklmnpqrstvwxzy]', flags=re.I)\n",
    "df['url_number_digits'] = df['domain'].str.count(r'\\d')\n",
    "df['url_number_special_chars']=df['url_length']-df[['url_number_vowels','url_number_consonants','url_number_digits']].sum(axis=1)"
   ]
  },
  {
   "cell_type": "code",
   "execution_count": 18,
   "metadata": {
    "collapsed": true
   },
   "outputs": [],
   "source": [
    "df['url_port']=df['url_port'].apply(lambda x: 0 if x==0 else 1 )"
   ]
  },
  {
   "cell_type": "code",
   "execution_count": 19,
   "metadata": {
    "collapsed": true
   },
   "outputs": [],
   "source": [
    "# characters='abcdefghijklmnopqrstuvwxyz0123456789'\n",
    "# for char in characters:\n",
    "#     field=char+\"_average\"\n",
    "#     df[field]=df['domain'].apply(lambda x: str.count(x, char))\n",
    "#     df[field]=df[field]/df['url_length']"
   ]
  },
  {
   "cell_type": "code",
   "execution_count": 20,
   "metadata": {
    "collapsed": true
   },
   "outputs": [],
   "source": [
    "df.set_index(['domain'],inplace=True,drop=True)"
   ]
  },
  {
   "cell_type": "code",
   "execution_count": 21,
   "metadata": {},
   "outputs": [
    {
     "data": {
      "application/vnd.plotly.v1+json": {
       "config": {
        "linkText": "Export to plot.ly",
        "plotlyServerURL": "https://plot.ly",
        "showLink": true
       },
       "data": [
        {
         "text": [
          39877,
          6894
         ],
         "textposition": "outside",
         "type": "bar",
         "uid": "712dbe9c-f739-429e-8510-7edf75b06fb2",
         "x": [
          0,
          1
         ],
         "y": [
          39877,
          6894
         ]
        }
       ],
       "layout": {
        "xaxis": {
         "tickfont": {
          "color": "black",
          "size": 12
         },
         "title": "Domain Type"
        },
        "yaxis": {
         "title": "Number of Instances"
        }
       }
      },
      "text/html": [
       "<div id=\"581d7b84-56d9-493e-a311-7b8c6cf5a8c1\" style=\"height: 525px; width: 100%;\" class=\"plotly-graph-div\"></div><script type=\"text/javascript\">require([\"plotly\"], function(Plotly) { window.PLOTLYENV=window.PLOTLYENV || {};window.PLOTLYENV.BASE_URL=\"https://plot.ly\";Plotly.newPlot(\"581d7b84-56d9-493e-a311-7b8c6cf5a8c1\", [{\"text\": [39877.0, 6894.0], \"textposition\": \"outside\", \"x\": [0, 1], \"y\": [39877, 6894], \"type\": \"bar\", \"uid\": \"712dbe9c-f739-429e-8510-7edf75b06fb2\"}], {\"xaxis\": {\"tickfont\": {\"color\": \"black\", \"size\": 12}, \"title\": \"Domain Type\"}, \"yaxis\": {\"title\": \"Number of Instances\"}}, {\"showLink\": true, \"linkText\": \"Export to plot.ly\", \"plotlyServerURL\": \"https://plot.ly\"})});</script><script type=\"text/javascript\">window.addEventListener(\"resize\", function(){window._Plotly.Plots.resize(document.getElementById(\"581d7b84-56d9-493e-a311-7b8c6cf5a8c1\"));});</script>"
      ],
      "text/vnd.plotly.v1+html": [
       "<div id=\"581d7b84-56d9-493e-a311-7b8c6cf5a8c1\" style=\"height: 525px; width: 100%;\" class=\"plotly-graph-div\"></div><script type=\"text/javascript\">require([\"plotly\"], function(Plotly) { window.PLOTLYENV=window.PLOTLYENV || {};window.PLOTLYENV.BASE_URL=\"https://plot.ly\";Plotly.newPlot(\"581d7b84-56d9-493e-a311-7b8c6cf5a8c1\", [{\"text\": [39877.0, 6894.0], \"textposition\": \"outside\", \"x\": [0, 1], \"y\": [39877, 6894], \"type\": \"bar\", \"uid\": \"712dbe9c-f739-429e-8510-7edf75b06fb2\"}], {\"xaxis\": {\"tickfont\": {\"color\": \"black\", \"size\": 12}, \"title\": \"Domain Type\"}, \"yaxis\": {\"title\": \"Number of Instances\"}}, {\"showLink\": true, \"linkText\": \"Export to plot.ly\", \"plotlyServerURL\": \"https://plot.ly\"})});</script><script type=\"text/javascript\">window.addEventListener(\"resize\", function(){window._Plotly.Plots.resize(document.getElementById(\"581d7b84-56d9-493e-a311-7b8c6cf5a8c1\"));});</script>"
      ]
     },
     "metadata": {},
     "output_type": "display_data"
    }
   ],
   "source": [
    "data = [go.Bar(x=df.Target.value_counts().index.values,\n",
    "               y=df.Target.value_counts().values,\n",
    "               text=df.Target.value_counts().values,\n",
    "               textposition = 'outside',\n",
    "            )]\n",
    "layout = go.Layout( xaxis=dict(title='Domain Type',tickfont=dict(size=12,color='black')),\n",
    "                    yaxis=dict(title='Number of Instances'))\n",
    "fig = go.Figure(data=data, layout=layout)\n",
    "iplot(fig)"
   ]
  },
  {
   "cell_type": "code",
   "execution_count": 22,
   "metadata": {},
   "outputs": [
    {
     "name": "stdout",
     "output_type": "stream",
     "text": [
      "302 columns have only one unique value in them rendering them meaningless for classification\n"
     ]
    }
   ],
   "source": [
    "col_no_unique=[]\n",
    "for col in df.columns[:-1]:\n",
    "    if len(df[col].value_counts())==1:\n",
    "        col_no_unique.append(col)\n",
    "\n",
    "print(\"{} columns have only one unique value in them rendering them meaningless for classification\".format(len(col_no_unique)))\n",
    "# display(np.array(col_no_unique))\n",
    "### Drop those columns\n",
    "df.drop(col_no_unique,axis=1,inplace=True)"
   ]
  },
  {
   "cell_type": "code",
   "execution_count": 23,
   "metadata": {},
   "outputs": [
    {
     "name": "stdout",
     "output_type": "stream",
     "text": [
      "Shape of our dataset after dropping them: (46771, 3896)\n",
      "Columns which are of type object:\n",
      " url_contains_signin    object\n",
      "url_contains_www       object\n",
      "url_host               object\n",
      "url_ip                 object\n",
      "dtype: object\n"
     ]
    }
   ],
   "source": [
    "print(\"Shape of our dataset after dropping them:\",df.shape)\n",
    "\n",
    "ext_end=[col for col in df.columns if 'extension_ends' in col]\n",
    "\n",
    "for col in ext_end:\n",
    "    df[col]=df[col].astype(int)\n",
    "\n",
    "# ### Check and converting data types\n",
    "# df['Target']=df.Target.apply(lambda x: 1 if x=='Malicious' else 0)\n",
    "print(\"Columns which are of type object:\\n\",df.dtypes[(df.dtypes=='object')])\n",
    "\n",
    "lst=[]\n",
    "for col in df.columns[:-1]:\n",
    "    lst.append([col,dict(df[col].value_counts()),df[col].value_counts().values[0]>=len(df)*0.95])\n",
    "\n",
    "col_values=pd.DataFrame(lst,columns=['Feature','Value_Counts','95_%_same_values'])\n",
    "col_values.set_index('Feature',drop=True,inplace=True)"
   ]
  },
  {
   "cell_type": "code",
   "execution_count": 24,
   "metadata": {},
   "outputs": [
    {
     "name": "stdout",
     "output_type": "stream",
     "text": [
      "3846 columns have more than 95% same values\n"
     ]
    },
    {
     "data": {
      "text/plain": [
       "True     3846\n",
       "False      49\n",
       "Name: 95_%_same_values, dtype: int64"
      ]
     },
     "execution_count": 24,
     "metadata": {},
     "output_type": "execute_result"
    }
   ],
   "source": [
    "print(\"{} columns have more than 95% same values\".format(len(col_values[col_values['95_%_same_values']==True].index.values)))\n",
    "\n",
    "columns=col_values[col_values['95_%_same_values']==False].index.values\n",
    "columns=columns.tolist()\n",
    "col_values['95_%_same_values'].value_counts()"
   ]
  },
  {
   "cell_type": "code",
   "execution_count": 25,
   "metadata": {
    "scrolled": false
   },
   "outputs": [
    {
     "name": "stdout",
     "output_type": "stream",
     "text": [
      "Columns which are of type object: url_host    object\n",
      "dtype: object\n",
      "Stats for numerical features for HTML experiment\n",
      "\n"
     ]
    },
    {
     "data": {
      "text/html": [
       "<div>\n",
       "<style scoped>\n",
       "    .dataframe tbody tr th:only-of-type {\n",
       "        vertical-align: middle;\n",
       "    }\n",
       "\n",
       "    .dataframe tbody tr th {\n",
       "        vertical-align: top;\n",
       "    }\n",
       "\n",
       "    .dataframe thead th {\n",
       "        text-align: right;\n",
       "    }\n",
       "</style>\n",
       "<table border=\"1\" class=\"dataframe\">\n",
       "  <thead>\n",
       "    <tr style=\"text-align: right;\">\n",
       "      <th></th>\n",
       "      <th>Pt. Biserial Corr</th>\n",
       "      <th>Pt. Biserial Corr p-val</th>\n",
       "      <th>ttest</th>\n",
       "      <th>ttest p-val</th>\n",
       "    </tr>\n",
       "    <tr>\n",
       "      <th>Feature</th>\n",
       "      <th></th>\n",
       "      <th></th>\n",
       "      <th></th>\n",
       "      <th></th>\n",
       "    </tr>\n",
       "  </thead>\n",
       "  <tbody>\n",
       "    <tr>\n",
       "      <th>url_extension_.com</th>\n",
       "      <td>-0.154316</td>\n",
       "      <td>4.061880e-247</td>\n",
       "      <td>-34.113589</td>\n",
       "      <td>9.926271e-241</td>\n",
       "    </tr>\n",
       "    <tr>\n",
       "      <th>url_extension_.i</th>\n",
       "      <td>-0.005769</td>\n",
       "      <td>2.122020e-01</td>\n",
       "      <td>-1.243880</td>\n",
       "      <td>2.135748e-01</td>\n",
       "    </tr>\n",
       "    <tr>\n",
       "      <th>url_char_m</th>\n",
       "      <td>-0.000765</td>\n",
       "      <td>8.685861e-01</td>\n",
       "      <td>-0.133716</td>\n",
       "      <td>8.936303e-01</td>\n",
       "    </tr>\n",
       "    <tr>\n",
       "      <th>url_char_o</th>\n",
       "      <td>0.074650</td>\n",
       "      <td>8.715169e-59</td>\n",
       "      <td>12.338724</td>\n",
       "      <td>1.155801e-34</td>\n",
       "    </tr>\n",
       "    <tr>\n",
       "      <th>url_char_j</th>\n",
       "      <td>0.116675</td>\n",
       "      <td>1.984745e-141</td>\n",
       "      <td>16.725416</td>\n",
       "      <td>1.082992e-61</td>\n",
       "    </tr>\n",
       "    <tr>\n",
       "      <th>url_char_v</th>\n",
       "      <td>0.105337</td>\n",
       "      <td>1.682865e-115</td>\n",
       "      <td>17.027650</td>\n",
       "      <td>6.949488e-64</td>\n",
       "    </tr>\n",
       "    <tr>\n",
       "      <th>url_char_c</th>\n",
       "      <td>0.110988</td>\n",
       "      <td>4.385017e-128</td>\n",
       "      <td>17.136575</td>\n",
       "      <td>1.205077e-64</td>\n",
       "    </tr>\n",
       "    <tr>\n",
       "      <th>url_char_g</th>\n",
       "      <td>0.119543</td>\n",
       "      <td>2.045127e-148</td>\n",
       "      <td>20.120991</td>\n",
       "      <td>6.796065e-88</td>\n",
       "    </tr>\n",
       "    <tr>\n",
       "      <th>url_char_-</th>\n",
       "      <td>0.188291</td>\n",
       "      <td>0.000000e+00</td>\n",
       "      <td>22.532080</td>\n",
       "      <td>1.071961e-108</td>\n",
       "    </tr>\n",
       "    <tr>\n",
       "      <th>url_char_k</th>\n",
       "      <td>0.145710</td>\n",
       "      <td>2.890403e-220</td>\n",
       "      <td>22.710567</td>\n",
       "      <td>1.292852e-110</td>\n",
       "    </tr>\n",
       "    <tr>\n",
       "      <th>url_char_r</th>\n",
       "      <td>0.140080</td>\n",
       "      <td>1.445021e-203</td>\n",
       "      <td>24.001861</td>\n",
       "      <td>4.798345e-123</td>\n",
       "    </tr>\n",
       "    <tr>\n",
       "      <th>url_char_d</th>\n",
       "      <td>0.185027</td>\n",
       "      <td>0.000000e+00</td>\n",
       "      <td>26.310656</td>\n",
       "      <td>4.906239e-146</td>\n",
       "    </tr>\n",
       "    <tr>\n",
       "      <th>url_words_with_length_8</th>\n",
       "      <td>0.184637</td>\n",
       "      <td>0.000000e+00</td>\n",
       "      <td>26.632659</td>\n",
       "      <td>1.862759e-149</td>\n",
       "    </tr>\n",
       "    <tr>\n",
       "      <th>url_char_p</th>\n",
       "      <td>0.187333</td>\n",
       "      <td>0.000000e+00</td>\n",
       "      <td>27.120052</td>\n",
       "      <td>1.155928e-154</td>\n",
       "    </tr>\n",
       "    <tr>\n",
       "      <th>url_char_h</th>\n",
       "      <td>0.178102</td>\n",
       "      <td>0.000000e+00</td>\n",
       "      <td>27.362729</td>\n",
       "      <td>1.982512e-157</td>\n",
       "    </tr>\n",
       "    <tr>\n",
       "      <th>url_words_with_length_5</th>\n",
       "      <td>0.173285</td>\n",
       "      <td>5.034966e-312</td>\n",
       "      <td>28.602282</td>\n",
       "      <td>2.333533e-171</td>\n",
       "    </tr>\n",
       "    <tr>\n",
       "      <th>url_char_f</th>\n",
       "      <td>0.189686</td>\n",
       "      <td>0.000000e+00</td>\n",
       "      <td>28.688053</td>\n",
       "      <td>4.886014e-172</td>\n",
       "    </tr>\n",
       "    <tr>\n",
       "      <th>url_char_t</th>\n",
       "      <td>0.185356</td>\n",
       "      <td>0.000000e+00</td>\n",
       "      <td>29.034757</td>\n",
       "      <td>4.458870e-176</td>\n",
       "    </tr>\n",
       "    <tr>\n",
       "      <th>url_number_digits</th>\n",
       "      <td>0.303942</td>\n",
       "      <td>0.000000e+00</td>\n",
       "      <td>29.262586</td>\n",
       "      <td>1.468956e-177</td>\n",
       "    </tr>\n",
       "    <tr>\n",
       "      <th>url_words_with_length_6</th>\n",
       "      <td>0.184873</td>\n",
       "      <td>0.000000e+00</td>\n",
       "      <td>29.420010</td>\n",
       "      <td>1.519794e-180</td>\n",
       "    </tr>\n",
       "    <tr>\n",
       "      <th>url_char_a</th>\n",
       "      <td>0.180943</td>\n",
       "      <td>0.000000e+00</td>\n",
       "      <td>29.692290</td>\n",
       "      <td>8.219779e-184</td>\n",
       "    </tr>\n",
       "    <tr>\n",
       "      <th>url_char_b</th>\n",
       "      <td>0.197619</td>\n",
       "      <td>0.000000e+00</td>\n",
       "      <td>31.187658</td>\n",
       "      <td>2.427562e-201</td>\n",
       "    </tr>\n",
       "    <tr>\n",
       "      <th>url_char_x</th>\n",
       "      <td>0.224483</td>\n",
       "      <td>0.000000e+00</td>\n",
       "      <td>31.763987</td>\n",
       "      <td>7.368930e-208</td>\n",
       "    </tr>\n",
       "    <tr>\n",
       "      <th>url_char_u</th>\n",
       "      <td>0.190467</td>\n",
       "      <td>0.000000e+00</td>\n",
       "      <td>31.857149</td>\n",
       "      <td>8.975391e-210</td>\n",
       "    </tr>\n",
       "    <tr>\n",
       "      <th>url_words_with_length_7</th>\n",
       "      <td>0.216715</td>\n",
       "      <td>0.000000e+00</td>\n",
       "      <td>32.363531</td>\n",
       "      <td>1.916897e-215</td>\n",
       "    </tr>\n",
       "    <tr>\n",
       "      <th>url_char_n</th>\n",
       "      <td>0.213296</td>\n",
       "      <td>0.000000e+00</td>\n",
       "      <td>32.682021</td>\n",
       "      <td>1.594802e-219</td>\n",
       "    </tr>\n",
       "    <tr>\n",
       "      <th>url_tlds</th>\n",
       "      <td>0.234182</td>\n",
       "      <td>0.000000e+00</td>\n",
       "      <td>33.663948</td>\n",
       "      <td>1.447439e-231</td>\n",
       "    </tr>\n",
       "    <tr>\n",
       "      <th>url_char_l</th>\n",
       "      <td>0.234193</td>\n",
       "      <td>0.000000e+00</td>\n",
       "      <td>34.430643</td>\n",
       "      <td>1.618836e-241</td>\n",
       "    </tr>\n",
       "    <tr>\n",
       "      <th>url_char_s</th>\n",
       "      <td>0.224374</td>\n",
       "      <td>0.000000e+00</td>\n",
       "      <td>35.866588</td>\n",
       "      <td>5.804626e-261</td>\n",
       "    </tr>\n",
       "    <tr>\n",
       "      <th>url_char_e</th>\n",
       "      <td>0.235855</td>\n",
       "      <td>0.000000e+00</td>\n",
       "      <td>37.254339</td>\n",
       "      <td>1.130015e-279</td>\n",
       "    </tr>\n",
       "    <tr>\n",
       "      <th>url_char_y</th>\n",
       "      <td>0.292354</td>\n",
       "      <td>0.000000e+00</td>\n",
       "      <td>37.917299</td>\n",
       "      <td>2.590896e-287</td>\n",
       "    </tr>\n",
       "    <tr>\n",
       "      <th>url_char_z</th>\n",
       "      <td>0.306922</td>\n",
       "      <td>0.000000e+00</td>\n",
       "      <td>38.897902</td>\n",
       "      <td>9.390352e-301</td>\n",
       "    </tr>\n",
       "    <tr>\n",
       "      <th>url_words_with_length_4</th>\n",
       "      <td>0.260214</td>\n",
       "      <td>0.000000e+00</td>\n",
       "      <td>41.001370</td>\n",
       "      <td>0.000000e+00</td>\n",
       "    </tr>\n",
       "    <tr>\n",
       "      <th>url_number_consonants</th>\n",
       "      <td>0.404512</td>\n",
       "      <td>0.000000e+00</td>\n",
       "      <td>42.389815</td>\n",
       "      <td>0.000000e+00</td>\n",
       "    </tr>\n",
       "    <tr>\n",
       "      <th>url_number_vowels</th>\n",
       "      <td>0.365966</td>\n",
       "      <td>0.000000e+00</td>\n",
       "      <td>45.375834</td>\n",
       "      <td>0.000000e+00</td>\n",
       "    </tr>\n",
       "    <tr>\n",
       "      <th>url_char_i</th>\n",
       "      <td>0.287576</td>\n",
       "      <td>0.000000e+00</td>\n",
       "      <td>46.987315</td>\n",
       "      <td>0.000000e+00</td>\n",
       "    </tr>\n",
       "    <tr>\n",
       "      <th>url_length</th>\n",
       "      <td>0.461816</td>\n",
       "      <td>0.000000e+00</td>\n",
       "      <td>49.743906</td>\n",
       "      <td>0.000000e+00</td>\n",
       "    </tr>\n",
       "    <tr>\n",
       "      <th>url_char_w</th>\n",
       "      <td>0.429855</td>\n",
       "      <td>0.000000e+00</td>\n",
       "      <td>50.963559</td>\n",
       "      <td>0.000000e+00</td>\n",
       "    </tr>\n",
       "    <tr>\n",
       "      <th>url_extensions</th>\n",
       "      <td>0.489530</td>\n",
       "      <td>0.000000e+00</td>\n",
       "      <td>71.796926</td>\n",
       "      <td>0.000000e+00</td>\n",
       "    </tr>\n",
       "    <tr>\n",
       "      <th>url_char_.</th>\n",
       "      <td>0.527821</td>\n",
       "      <td>0.000000e+00</td>\n",
       "      <td>75.066324</td>\n",
       "      <td>0.000000e+00</td>\n",
       "    </tr>\n",
       "  </tbody>\n",
       "</table>\n",
       "</div>"
      ],
      "text/plain": [
       "                         Pt. Biserial Corr  Pt. Biserial Corr p-val  \\\n",
       "Feature                                                               \n",
       "url_extension_.com               -0.154316            4.061880e-247   \n",
       "url_extension_.i                 -0.005769             2.122020e-01   \n",
       "url_char_m                       -0.000765             8.685861e-01   \n",
       "url_char_o                        0.074650             8.715169e-59   \n",
       "url_char_j                        0.116675            1.984745e-141   \n",
       "url_char_v                        0.105337            1.682865e-115   \n",
       "url_char_c                        0.110988            4.385017e-128   \n",
       "url_char_g                        0.119543            2.045127e-148   \n",
       "url_char_-                        0.188291             0.000000e+00   \n",
       "url_char_k                        0.145710            2.890403e-220   \n",
       "url_char_r                        0.140080            1.445021e-203   \n",
       "url_char_d                        0.185027             0.000000e+00   \n",
       "url_words_with_length_8           0.184637             0.000000e+00   \n",
       "url_char_p                        0.187333             0.000000e+00   \n",
       "url_char_h                        0.178102             0.000000e+00   \n",
       "url_words_with_length_5           0.173285            5.034966e-312   \n",
       "url_char_f                        0.189686             0.000000e+00   \n",
       "url_char_t                        0.185356             0.000000e+00   \n",
       "url_number_digits                 0.303942             0.000000e+00   \n",
       "url_words_with_length_6           0.184873             0.000000e+00   \n",
       "url_char_a                        0.180943             0.000000e+00   \n",
       "url_char_b                        0.197619             0.000000e+00   \n",
       "url_char_x                        0.224483             0.000000e+00   \n",
       "url_char_u                        0.190467             0.000000e+00   \n",
       "url_words_with_length_7           0.216715             0.000000e+00   \n",
       "url_char_n                        0.213296             0.000000e+00   \n",
       "url_tlds                          0.234182             0.000000e+00   \n",
       "url_char_l                        0.234193             0.000000e+00   \n",
       "url_char_s                        0.224374             0.000000e+00   \n",
       "url_char_e                        0.235855             0.000000e+00   \n",
       "url_char_y                        0.292354             0.000000e+00   \n",
       "url_char_z                        0.306922             0.000000e+00   \n",
       "url_words_with_length_4           0.260214             0.000000e+00   \n",
       "url_number_consonants             0.404512             0.000000e+00   \n",
       "url_number_vowels                 0.365966             0.000000e+00   \n",
       "url_char_i                        0.287576             0.000000e+00   \n",
       "url_length                        0.461816             0.000000e+00   \n",
       "url_char_w                        0.429855             0.000000e+00   \n",
       "url_extensions                    0.489530             0.000000e+00   \n",
       "url_char_.                        0.527821             0.000000e+00   \n",
       "\n",
       "                             ttest    ttest p-val  \n",
       "Feature                                            \n",
       "url_extension_.com      -34.113589  9.926271e-241  \n",
       "url_extension_.i         -1.243880   2.135748e-01  \n",
       "url_char_m               -0.133716   8.936303e-01  \n",
       "url_char_o               12.338724   1.155801e-34  \n",
       "url_char_j               16.725416   1.082992e-61  \n",
       "url_char_v               17.027650   6.949488e-64  \n",
       "url_char_c               17.136575   1.205077e-64  \n",
       "url_char_g               20.120991   6.796065e-88  \n",
       "url_char_-               22.532080  1.071961e-108  \n",
       "url_char_k               22.710567  1.292852e-110  \n",
       "url_char_r               24.001861  4.798345e-123  \n",
       "url_char_d               26.310656  4.906239e-146  \n",
       "url_words_with_length_8  26.632659  1.862759e-149  \n",
       "url_char_p               27.120052  1.155928e-154  \n",
       "url_char_h               27.362729  1.982512e-157  \n",
       "url_words_with_length_5  28.602282  2.333533e-171  \n",
       "url_char_f               28.688053  4.886014e-172  \n",
       "url_char_t               29.034757  4.458870e-176  \n",
       "url_number_digits        29.262586  1.468956e-177  \n",
       "url_words_with_length_6  29.420010  1.519794e-180  \n",
       "url_char_a               29.692290  8.219779e-184  \n",
       "url_char_b               31.187658  2.427562e-201  \n",
       "url_char_x               31.763987  7.368930e-208  \n",
       "url_char_u               31.857149  8.975391e-210  \n",
       "url_words_with_length_7  32.363531  1.916897e-215  \n",
       "url_char_n               32.682021  1.594802e-219  \n",
       "url_tlds                 33.663948  1.447439e-231  \n",
       "url_char_l               34.430643  1.618836e-241  \n",
       "url_char_s               35.866588  5.804626e-261  \n",
       "url_char_e               37.254339  1.130015e-279  \n",
       "url_char_y               37.917299  2.590896e-287  \n",
       "url_char_z               38.897902  9.390352e-301  \n",
       "url_words_with_length_4  41.001370   0.000000e+00  \n",
       "url_number_consonants    42.389815   0.000000e+00  \n",
       "url_number_vowels        45.375834   0.000000e+00  \n",
       "url_char_i               46.987315   0.000000e+00  \n",
       "url_length               49.743906   0.000000e+00  \n",
       "url_char_w               50.963559   0.000000e+00  \n",
       "url_extensions           71.796926   0.000000e+00  \n",
       "url_char_.               75.066324   0.000000e+00  "
      ]
     },
     "metadata": {},
     "output_type": "display_data"
    },
    {
     "name": "stdout",
     "output_type": "stream",
     "text": [
      "\n",
      "Stats for Categorical features for HTML experiment\n",
      "\n"
     ]
    },
    {
     "data": {
      "text/html": [
       "<div>\n",
       "<style scoped>\n",
       "    .dataframe tbody tr th:only-of-type {\n",
       "        vertical-align: middle;\n",
       "    }\n",
       "\n",
       "    .dataframe tbody tr th {\n",
       "        vertical-align: top;\n",
       "    }\n",
       "\n",
       "    .dataframe thead th {\n",
       "        text-align: right;\n",
       "    }\n",
       "</style>\n",
       "<table border=\"1\" class=\"dataframe\">\n",
       "  <thead>\n",
       "    <tr style=\"text-align: right;\">\n",
       "      <th></th>\n",
       "      <th>Pearson Chi-square</th>\n",
       "      <th>p-value</th>\n",
       "      <th>Cramers V</th>\n",
       "    </tr>\n",
       "    <tr>\n",
       "      <th>Feature</th>\n",
       "      <th></th>\n",
       "      <th></th>\n",
       "      <th></th>\n",
       "    </tr>\n",
       "  </thead>\n",
       "  <tbody>\n",
       "    <tr>\n",
       "      <th>url_extension_.net</th>\n",
       "      <td>138.8931</td>\n",
       "      <td>0.0</td>\n",
       "      <td>0.0545</td>\n",
       "    </tr>\n",
       "  </tbody>\n",
       "</table>\n",
       "</div>"
      ],
      "text/plain": [
       "                    Pearson Chi-square  p-value  Cramers V\n",
       "Feature                                                   \n",
       "url_extension_.net            138.8931      0.0     0.0545"
      ]
     },
     "metadata": {},
     "output_type": "display_data"
    }
   ],
   "source": [
    "print(\"Columns which are of type object:\",df[columns].dtypes[(df.dtypes=='object')])\n",
    "columns.remove('url_host')\n",
    "\n",
    "rem=['url_tld_NET','url_tld_COM','url_tld_NE','url_tld_CO','url_extension_endswith_.com', 'url_extension_.c']\n",
    "for col in rem:\n",
    "    columns.remove(col)\n",
    "\n",
    "df_sel=df[columns]\n",
    "\n",
    "cat_var_js,num_var_js=check_cat(df_sel)\n",
    "\n",
    "print(\"Stats for numerical features for HTML experiment\\n\")\n",
    "num_stats_js=num_stats(df_sel,num_var_js)\n",
    "display(num_stats_js)\n",
    "print(\"\\nStats for Categorical features for HTML experiment\\n\")\n",
    "cat_stats_js=cat_stats(df_sel,cat_var_js)\n",
    "display(cat_stats_js)"
   ]
  },
  {
   "cell_type": "code",
   "execution_count": 26,
   "metadata": {},
   "outputs": [
    {
     "data": {
      "text/plain": [
       "['Target',\n",
       " 'url_char_-',\n",
       " 'url_char_.',\n",
       " 'url_char_a',\n",
       " 'url_char_b',\n",
       " 'url_char_c',\n",
       " 'url_char_d',\n",
       " 'url_char_e',\n",
       " 'url_char_f',\n",
       " 'url_char_g',\n",
       " 'url_char_h',\n",
       " 'url_char_i',\n",
       " 'url_char_j',\n",
       " 'url_char_k',\n",
       " 'url_char_l',\n",
       " 'url_char_m',\n",
       " 'url_char_n',\n",
       " 'url_char_o',\n",
       " 'url_char_p',\n",
       " 'url_char_r',\n",
       " 'url_char_s',\n",
       " 'url_char_t',\n",
       " 'url_char_u',\n",
       " 'url_char_v',\n",
       " 'url_char_w',\n",
       " 'url_char_x',\n",
       " 'url_char_y',\n",
       " 'url_char_z',\n",
       " 'url_extension_.com',\n",
       " 'url_extension_.i',\n",
       " 'url_extension_.net',\n",
       " 'url_extensions',\n",
       " 'url_length',\n",
       " 'url_tlds',\n",
       " 'url_words_with_length_4',\n",
       " 'url_words_with_length_5',\n",
       " 'url_words_with_length_6',\n",
       " 'url_words_with_length_7',\n",
       " 'url_words_with_length_8',\n",
       " 'url_number_vowels',\n",
       " 'url_number_consonants',\n",
       " 'url_number_digits']"
      ]
     },
     "execution_count": 26,
     "metadata": {},
     "output_type": "execute_result"
    }
   ],
   "source": [
    "fin_col=columns\n",
    "fin_col"
   ]
  },
  {
   "cell_type": "code",
   "execution_count": 27,
   "metadata": {
    "collapsed": true
   },
   "outputs": [],
   "source": [
    "train=df_sel.iloc[:37417,:]\n",
    "train_X=train.iloc[:,train.columns!='Target'].values\n",
    "train_Y=train.Target.values\n",
    "\n",
    "scaler=StandardScaler()\n",
    "scaled_X_train=scaler.fit_transform(train_X)\n",
    "\n",
    "test=df_sel.iloc[37417:,:]\n",
    "test_X=test.iloc[:,test.columns!='Target'].values\n",
    "test_Y=test.Target.values\n",
    "scaled_X_test=scaler.transform(test_X)"
   ]
  },
  {
   "cell_type": "code",
   "execution_count": 28,
   "metadata": {
    "collapsed": true
   },
   "outputs": [],
   "source": [
    "columns=fin_col"
   ]
  },
  {
   "cell_type": "markdown",
   "metadata": {},
   "source": [
    "### <a id='1' style=\"text-decoration : none; color : #000000;\"> 2. Initial Models</a>"
   ]
  },
  {
   "cell_type": "code",
   "execution_count": 29,
   "metadata": {
    "collapsed": true
   },
   "outputs": [],
   "source": [
    "columns.remove('Target')"
   ]
  },
  {
   "cell_type": "code",
   "execution_count": 30,
   "metadata": {
    "collapsed": true
   },
   "outputs": [],
   "source": [
    "ind_columns=['KNeighborsClassifier','LogisticRegression','RandomForestClassifier','AdaBoostClassifier',\n",
    "             'GradientBoostingClassifier','ExtraTreeClassifier','BaggingClassifier','Neural Network-1']\n",
    "\n",
    "f=[KNN_model,Logistic_model,RandomForest,AdaBoost,GradientBoosting, ExtraTree,Bagging,DeepLearning1]\n",
    "\n",
    "## Table to store training and test measures\n",
    "table_80_50_train=pd.DataFrame(columns=['accuracy','TP','TN','FP','FN','FPR','FNR'])\n",
    "table_80_50_test=pd.DataFrame(columns=['accuracy','TP','TN','FP','FN','FPR','FNR','auc','MCC'])"
   ]
  },
  {
   "cell_type": "code",
   "execution_count": 31,
   "metadata": {
    "scrolled": false
   },
   "outputs": [
    {
     "name": "stdout",
     "output_type": "stream",
     "text": [
      "\u001b[1mK-Nearest Neighbors\u001b[0m\n",
      "Accuracy of the model for training data is: 0.964534837106\n",
      "Confusion Matrix for training data is:\n"
     ]
    },
    {
     "data": {
      "text/plain": [
       "Predicted  False  True  __all__\n",
       "Actual                         \n",
       "False      31827    65    31892\n",
       "True        1262  4263     5525\n",
       "__all__    33089  4328    37417"
      ]
     },
     "metadata": {},
     "output_type": "display_data"
    },
    {
     "name": "stdout",
     "output_type": "stream",
     "text": [
      "Accuracy of the model for test data is: 0.958413512936\n",
      "Confusion Matrix for test data is:\n"
     ]
    },
    {
     "data": {
      "text/plain": [
       "Predicted  False  True  __all__\n",
       "Actual                         \n",
       "False       7959    26     7985\n",
       "True         363  1006     1369\n",
       "__all__     8322  1032     9354"
      ]
     },
     "metadata": {},
     "output_type": "display_data"
    },
    {
     "name": "stdout",
     "output_type": "stream",
     "text": [
      "\n",
      "\n",
      "\u001b[1mLogistic Regression\u001b[0m\n",
      "Accuracy of the model for training data is: 0.951652991956\n",
      "Confusion Matrix for training data is:\n"
     ]
    },
    {
     "data": {
      "text/plain": [
       "Predicted  False  True  __all__\n",
       "Actual                         \n",
       "False      31491   401    31892\n",
       "True        1408  4117     5525\n",
       "__all__    32899  4518    37417"
      ]
     },
     "metadata": {},
     "output_type": "display_data"
    },
    {
     "name": "stdout",
     "output_type": "stream",
     "text": [
      "Accuracy of the model for test data is: 0.951785332478\n",
      "Confusion Matrix for test data is:\n"
     ]
    },
    {
     "data": {
      "text/plain": [
       "Predicted  False  True  __all__\n",
       "Actual                         \n",
       "False       7870   115     7985\n",
       "True         336  1033     1369\n",
       "__all__     8206  1148     9354"
      ]
     },
     "metadata": {},
     "output_type": "display_data"
    },
    {
     "name": "stdout",
     "output_type": "stream",
     "text": [
      "\n",
      "\n",
      "\u001b[1mRandomForest Classifier\u001b[0m\n",
      "Accuracy of the model for training data is: 0.994895368415\n",
      "Confusion Matrix for training data is:\n"
     ]
    },
    {
     "data": {
      "text/plain": [
       "Predicted  False  True  __all__\n",
       "Actual                         \n",
       "False      31889     3    31892\n",
       "True         188  5337     5525\n",
       "__all__    32077  5340    37417"
      ]
     },
     "metadata": {},
     "output_type": "display_data"
    },
    {
     "name": "stdout",
     "output_type": "stream",
     "text": [
      "Accuracy of the model for test data is: 0.964934787257\n",
      "Confusion Matrix for test data is:\n"
     ]
    },
    {
     "data": {
      "text/plain": [
       "Predicted  False  True  __all__\n",
       "Actual                         \n",
       "False       7933    52     7985\n",
       "True         276  1093     1369\n",
       "__all__     8209  1145     9354"
      ]
     },
     "metadata": {},
     "output_type": "display_data"
    },
    {
     "data": {
      "application/vnd.plotly.v1+json": {
       "config": {
        "linkText": "Export to plot.ly",
        "plotlyServerURL": "https://plot.ly",
        "showLink": true
       },
       "data": [
        {
         "marker": {
          "color": "rgb(158,202,225)",
          "line": {
           "color": "rgb(8,48,107)",
           "width": 1.5
          }
         },
         "opacity": 0.6,
         "orientation": "h",
         "text": [
          0.1349,
          0.1094,
          0.0925,
          0.0721,
          0.0652,
          0.0643,
          0.0588,
          0.0447,
          0.0391,
          0.0254,
          0.0197,
          0.018,
          0.0156,
          0.0145,
          0.0143,
          0.0122,
          0.0119,
          0.0115,
          0.0111,
          0.0111,
          0.0107,
          0.0105,
          0.0098,
          0.0097,
          0.0096,
          0.0092,
          0.0089,
          0.008,
          0.0079,
          0.0077,
          0.0076,
          0.0076,
          0.0074,
          0.0071,
          0.0065,
          0.0056,
          0.0055,
          0.0051,
          0.0041,
          0.0032,
          0.0023
         ],
         "textposition": "outside",
         "type": "bar",
         "uid": "578efb17-0352-45e8-9363-2d91eaea320d",
         "x": [
          0.1349062592974724,
          0.109400825557976,
          0.09250367459202047,
          0.07207753311540717,
          0.06516820364364921,
          0.06429764492518611,
          0.05876193904118919,
          0.04465643187249553,
          0.039062496674214485,
          0.025372195422177522,
          0.01968172793964993,
          0.018047617423948496,
          0.015550517398343853,
          0.014501573165864246,
          0.014300487737979688,
          0.012163156054990937,
          0.011884519968316399,
          0.011455475872233091,
          0.011129869061808914,
          0.011087770843726273,
          0.010693139347750565,
          0.010491972994248037,
          0.009829977416895357,
          0.009662689337261983,
          0.009578058668316736,
          0.009155077924777953,
          0.008947494535463093,
          0.007986009370413985,
          0.00793258445139967,
          0.0076892019407266265,
          0.0075927409109580995,
          0.0075521121432737025,
          0.007416289271093045,
          0.007079291797341401,
          0.006531526943200398,
          0.005592332247610888,
          0.0055358695690551196,
          0.005124443826170168,
          0.004062099599880022,
          0.0032418729293581805,
          0.002295295166155037
         ],
         "y": [
          "url_extensions",
          "url_length",
          "url_number_consonants",
          "url_tlds",
          "url_char_.",
          "url_char_w",
          "url_number_digits",
          "url_number_vowels",
          "url_char_z",
          "url_words_with_length_4",
          "url_extension_.com",
          "url_char_i",
          "url_char_b",
          "url_char_e",
          "url_char_o",
          "url_char_m",
          "url_char_r",
          "url_char_c",
          "url_char_a",
          "url_char_s",
          "url_char_t",
          "url_char_l",
          "url_char_p",
          "url_char_u",
          "url_char_n",
          "url_words_with_length_5",
          "url_char_d",
          "url_char_y",
          "url_char_f",
          "url_char_h",
          "url_char_k",
          "url_words_with_length_7",
          "url_words_with_length_6",
          "url_char_g",
          "url_words_with_length_8",
          "url_char_v",
          "url_char_x",
          "url_char_j",
          "url_char_-",
          "url_extension_.i",
          "url_extension_.net"
         ]
        }
       ],
       "layout": {
        "autosize": false,
        "height": 1000,
        "width": 1000,
        "xaxis": {
         "tickfont": {
          "color": "black",
          "size": 12
         },
         "title": "Feature Importances"
        },
        "yaxis": {
         "automargin": true
        }
       }
      },
      "text/html": [
       "<div id=\"13e36f86-ce6c-4e60-be22-f40f9273932b\" style=\"height: 1000px; width: 1000px;\" class=\"plotly-graph-div\"></div><script type=\"text/javascript\">require([\"plotly\"], function(Plotly) { window.PLOTLYENV=window.PLOTLYENV || {};window.PLOTLYENV.BASE_URL=\"https://plot.ly\";Plotly.newPlot(\"13e36f86-ce6c-4e60-be22-f40f9273932b\", [{\"marker\": {\"color\": \"rgb(158,202,225)\", \"line\": {\"color\": \"rgb(8,48,107)\", \"width\": 1.5}}, \"opacity\": 0.6, \"orientation\": \"h\", \"text\": [0.1349, 0.1094, 0.0925, 0.0721, 0.0652, 0.0643, 0.0588, 0.0447, 0.0391, 0.0254, 0.0197, 0.018, 0.0156, 0.0145, 0.0143, 0.0122, 0.0119, 0.0115, 0.0111, 0.0111, 0.0107, 0.0105, 0.0098, 0.0097, 0.0096, 0.0092, 0.0089, 0.008, 0.0079, 0.0077, 0.0076, 0.0076, 0.0074, 0.0071, 0.0065, 0.0056, 0.0055, 0.0051, 0.0041, 0.0032, 0.0023], \"textposition\": \"outside\", \"x\": [0.1349062592974724, 0.109400825557976, 0.09250367459202047, 0.07207753311540717, 0.06516820364364921, 0.06429764492518611, 0.05876193904118919, 0.04465643187249553, 0.039062496674214485, 0.025372195422177522, 0.01968172793964993, 0.018047617423948496, 0.015550517398343853, 0.014501573165864246, 0.014300487737979688, 0.012163156054990937, 0.011884519968316399, 0.011455475872233091, 0.011129869061808914, 0.011087770843726273, 0.010693139347750565, 0.010491972994248037, 0.009829977416895357, 0.009662689337261983, 0.009578058668316736, 0.009155077924777953, 0.008947494535463093, 0.007986009370413985, 0.00793258445139967, 0.0076892019407266265, 0.0075927409109580995, 0.0075521121432737025, 0.007416289271093045, 0.007079291797341401, 0.006531526943200398, 0.005592332247610888, 0.0055358695690551196, 0.005124443826170168, 0.004062099599880022, 0.0032418729293581805, 0.002295295166155037], \"y\": [\"url_extensions\", \"url_length\", \"url_number_consonants\", \"url_tlds\", \"url_char_.\", \"url_char_w\", \"url_number_digits\", \"url_number_vowels\", \"url_char_z\", \"url_words_with_length_4\", \"url_extension_.com\", \"url_char_i\", \"url_char_b\", \"url_char_e\", \"url_char_o\", \"url_char_m\", \"url_char_r\", \"url_char_c\", \"url_char_a\", \"url_char_s\", \"url_char_t\", \"url_char_l\", \"url_char_p\", \"url_char_u\", \"url_char_n\", \"url_words_with_length_5\", \"url_char_d\", \"url_char_y\", \"url_char_f\", \"url_char_h\", \"url_char_k\", \"url_words_with_length_7\", \"url_words_with_length_6\", \"url_char_g\", \"url_words_with_length_8\", \"url_char_v\", \"url_char_x\", \"url_char_j\", \"url_char_-\", \"url_extension_.i\", \"url_extension_.net\"], \"type\": \"bar\", \"uid\": \"578efb17-0352-45e8-9363-2d91eaea320d\"}], {\"autosize\": false, \"height\": 1000, \"width\": 1000, \"xaxis\": {\"tickfont\": {\"color\": \"black\", \"size\": 12}, \"title\": \"Feature Importances\"}, \"yaxis\": {\"automargin\": true}}, {\"showLink\": true, \"linkText\": \"Export to plot.ly\", \"plotlyServerURL\": \"https://plot.ly\"})});</script>"
      ],
      "text/vnd.plotly.v1+html": [
       "<div id=\"13e36f86-ce6c-4e60-be22-f40f9273932b\" style=\"height: 1000px; width: 1000px;\" class=\"plotly-graph-div\"></div><script type=\"text/javascript\">require([\"plotly\"], function(Plotly) { window.PLOTLYENV=window.PLOTLYENV || {};window.PLOTLYENV.BASE_URL=\"https://plot.ly\";Plotly.newPlot(\"13e36f86-ce6c-4e60-be22-f40f9273932b\", [{\"marker\": {\"color\": \"rgb(158,202,225)\", \"line\": {\"color\": \"rgb(8,48,107)\", \"width\": 1.5}}, \"opacity\": 0.6, \"orientation\": \"h\", \"text\": [0.1349, 0.1094, 0.0925, 0.0721, 0.0652, 0.0643, 0.0588, 0.0447, 0.0391, 0.0254, 0.0197, 0.018, 0.0156, 0.0145, 0.0143, 0.0122, 0.0119, 0.0115, 0.0111, 0.0111, 0.0107, 0.0105, 0.0098, 0.0097, 0.0096, 0.0092, 0.0089, 0.008, 0.0079, 0.0077, 0.0076, 0.0076, 0.0074, 0.0071, 0.0065, 0.0056, 0.0055, 0.0051, 0.0041, 0.0032, 0.0023], \"textposition\": \"outside\", \"x\": [0.1349062592974724, 0.109400825557976, 0.09250367459202047, 0.07207753311540717, 0.06516820364364921, 0.06429764492518611, 0.05876193904118919, 0.04465643187249553, 0.039062496674214485, 0.025372195422177522, 0.01968172793964993, 0.018047617423948496, 0.015550517398343853, 0.014501573165864246, 0.014300487737979688, 0.012163156054990937, 0.011884519968316399, 0.011455475872233091, 0.011129869061808914, 0.011087770843726273, 0.010693139347750565, 0.010491972994248037, 0.009829977416895357, 0.009662689337261983, 0.009578058668316736, 0.009155077924777953, 0.008947494535463093, 0.007986009370413985, 0.00793258445139967, 0.0076892019407266265, 0.0075927409109580995, 0.0075521121432737025, 0.007416289271093045, 0.007079291797341401, 0.006531526943200398, 0.005592332247610888, 0.0055358695690551196, 0.005124443826170168, 0.004062099599880022, 0.0032418729293581805, 0.002295295166155037], \"y\": [\"url_extensions\", \"url_length\", \"url_number_consonants\", \"url_tlds\", \"url_char_.\", \"url_char_w\", \"url_number_digits\", \"url_number_vowels\", \"url_char_z\", \"url_words_with_length_4\", \"url_extension_.com\", \"url_char_i\", \"url_char_b\", \"url_char_e\", \"url_char_o\", \"url_char_m\", \"url_char_r\", \"url_char_c\", \"url_char_a\", \"url_char_s\", \"url_char_t\", \"url_char_l\", \"url_char_p\", \"url_char_u\", \"url_char_n\", \"url_words_with_length_5\", \"url_char_d\", \"url_char_y\", \"url_char_f\", \"url_char_h\", \"url_char_k\", \"url_words_with_length_7\", \"url_words_with_length_6\", \"url_char_g\", \"url_words_with_length_8\", \"url_char_v\", \"url_char_x\", \"url_char_j\", \"url_char_-\", \"url_extension_.i\", \"url_extension_.net\"], \"type\": \"bar\", \"uid\": \"578efb17-0352-45e8-9363-2d91eaea320d\"}], {\"autosize\": false, \"height\": 1000, \"width\": 1000, \"xaxis\": {\"tickfont\": {\"color\": \"black\", \"size\": 12}, \"title\": \"Feature Importances\"}, \"yaxis\": {\"automargin\": true}}, {\"showLink\": true, \"linkText\": \"Export to plot.ly\", \"plotlyServerURL\": \"https://plot.ly\"})});</script>"
      ]
     },
     "metadata": {},
     "output_type": "display_data"
    },
    {
     "name": "stdout",
     "output_type": "stream",
     "text": [
      "\n",
      "\n",
      "\u001b[1mAdaoost Classifier\u001b[0m\n",
      "Accuracy of the model for training data is: 0.948793329235\n",
      "Confusion Matrix for training data is:\n"
     ]
    },
    {
     "data": {
      "text/plain": [
       "Predicted  False  True  __all__\n",
       "Actual                         \n",
       "False      31448   444    31892\n",
       "True        1472  4053     5525\n",
       "__all__    32920  4497    37417"
      ]
     },
     "metadata": {},
     "output_type": "display_data"
    },
    {
     "name": "stdout",
     "output_type": "stream",
     "text": [
      "Accuracy of the model for test data is: 0.949861022023\n",
      "Confusion Matrix for test data is:\n"
     ]
    },
    {
     "data": {
      "text/plain": [
       "Predicted  False  True  __all__\n",
       "Actual                         \n",
       "False       7867   118     7985\n",
       "True         351  1018     1369\n",
       "__all__     8218  1136     9354"
      ]
     },
     "metadata": {},
     "output_type": "display_data"
    },
    {
     "data": {
      "application/vnd.plotly.v1+json": {
       "config": {
        "linkText": "Export to plot.ly",
        "plotlyServerURL": "https://plot.ly",
        "showLink": true
       },
       "data": [
        {
         "marker": {
          "color": "rgb(158,202,225)",
          "line": {
           "color": "rgb(8,48,107)",
           "width": 1.5
          }
         },
         "opacity": 0.6,
         "orientation": "h",
         "text": [
          0.22,
          0.12,
          0.08,
          0.06,
          0.04,
          0.04,
          0.04,
          0.02,
          0.02,
          0.02,
          0.02,
          0.02,
          0.02,
          0.02,
          0.02,
          0.02,
          0.02,
          0.02,
          0.02,
          0.02,
          0.02,
          0.02,
          0.02,
          0.02,
          0.02,
          0.02,
          0.02,
          0,
          0,
          0,
          0,
          0,
          0,
          0,
          0,
          0,
          0,
          0,
          0,
          0,
          0
         ],
         "textposition": "outside",
         "type": "bar",
         "uid": "fb82e1ef-1d6e-4bb2-878e-8dd19c3a8b1b",
         "x": [
          0.22,
          0.12,
          0.08,
          0.06,
          0.04,
          0.04,
          0.04,
          0.02,
          0.02,
          0.02,
          0.02,
          0.02,
          0.02,
          0.02,
          0.02,
          0.02,
          0.02,
          0.02,
          0.02,
          0.02,
          0.02,
          0.02,
          0.02,
          0.02,
          0.02,
          0.02,
          0.02,
          0,
          0,
          0,
          0,
          0,
          0,
          0,
          0,
          0,
          0,
          0,
          0,
          0,
          0
         ],
         "y": [
          "url_length",
          "url_extensions",
          "url_char_w",
          "url_number_digits",
          "url_number_consonants",
          "url_words_with_length_4",
          "url_char_z",
          "url_char_p",
          "url_tlds",
          "url_extension_.net",
          "url_extension_.i",
          "url_extension_.com",
          "url_char_y",
          "url_char_x",
          "url_char_.",
          "url_char_r",
          "url_char_t",
          "url_char_o",
          "url_char_j",
          "url_char_b",
          "url_char_n",
          "url_char_g",
          "url_char_h",
          "url_char_i",
          "url_char_f",
          "url_char_l",
          "url_char_m",
          "url_char_k",
          "url_char_v",
          "url_char_u",
          "url_char_e",
          "url_char_d",
          "url_char_c",
          "url_char_s",
          "url_words_with_length_5",
          "url_words_with_length_6",
          "url_words_with_length_7",
          "url_words_with_length_8",
          "url_number_vowels",
          "url_char_a",
          "url_char_-"
         ]
        }
       ],
       "layout": {
        "autosize": false,
        "height": 1000,
        "width": 1000,
        "xaxis": {
         "tickfont": {
          "color": "black",
          "size": 12
         },
         "title": "Feature Importances"
        },
        "yaxis": {
         "automargin": true
        }
       }
      },
      "text/html": [
       "<div id=\"3579cc50-cd14-48cf-a865-d37f77ac24ee\" style=\"height: 1000px; width: 1000px;\" class=\"plotly-graph-div\"></div><script type=\"text/javascript\">require([\"plotly\"], function(Plotly) { window.PLOTLYENV=window.PLOTLYENV || {};window.PLOTLYENV.BASE_URL=\"https://plot.ly\";Plotly.newPlot(\"3579cc50-cd14-48cf-a865-d37f77ac24ee\", [{\"marker\": {\"color\": \"rgb(158,202,225)\", \"line\": {\"color\": \"rgb(8,48,107)\", \"width\": 1.5}}, \"opacity\": 0.6, \"orientation\": \"h\", \"text\": [0.22, 0.12, 0.08, 0.06, 0.04, 0.04, 0.04, 0.02, 0.02, 0.02, 0.02, 0.02, 0.02, 0.02, 0.02, 0.02, 0.02, 0.02, 0.02, 0.02, 0.02, 0.02, 0.02, 0.02, 0.02, 0.02, 0.02, 0.0, 0.0, 0.0, 0.0, 0.0, 0.0, 0.0, 0.0, 0.0, 0.0, 0.0, 0.0, 0.0, 0.0], \"textposition\": \"outside\", \"x\": [0.22, 0.12, 0.08, 0.06, 0.04, 0.04, 0.04, 0.02, 0.02, 0.02, 0.02, 0.02, 0.02, 0.02, 0.02, 0.02, 0.02, 0.02, 0.02, 0.02, 0.02, 0.02, 0.02, 0.02, 0.02, 0.02, 0.02, 0.0, 0.0, 0.0, 0.0, 0.0, 0.0, 0.0, 0.0, 0.0, 0.0, 0.0, 0.0, 0.0, 0.0], \"y\": [\"url_length\", \"url_extensions\", \"url_char_w\", \"url_number_digits\", \"url_number_consonants\", \"url_words_with_length_4\", \"url_char_z\", \"url_char_p\", \"url_tlds\", \"url_extension_.net\", \"url_extension_.i\", \"url_extension_.com\", \"url_char_y\", \"url_char_x\", \"url_char_.\", \"url_char_r\", \"url_char_t\", \"url_char_o\", \"url_char_j\", \"url_char_b\", \"url_char_n\", \"url_char_g\", \"url_char_h\", \"url_char_i\", \"url_char_f\", \"url_char_l\", \"url_char_m\", \"url_char_k\", \"url_char_v\", \"url_char_u\", \"url_char_e\", \"url_char_d\", \"url_char_c\", \"url_char_s\", \"url_words_with_length_5\", \"url_words_with_length_6\", \"url_words_with_length_7\", \"url_words_with_length_8\", \"url_number_vowels\", \"url_char_a\", \"url_char_-\"], \"type\": \"bar\", \"uid\": \"fb82e1ef-1d6e-4bb2-878e-8dd19c3a8b1b\"}], {\"autosize\": false, \"height\": 1000, \"width\": 1000, \"xaxis\": {\"tickfont\": {\"color\": \"black\", \"size\": 12}, \"title\": \"Feature Importances\"}, \"yaxis\": {\"automargin\": true}}, {\"showLink\": true, \"linkText\": \"Export to plot.ly\", \"plotlyServerURL\": \"https://plot.ly\"})});</script>"
      ],
      "text/vnd.plotly.v1+html": [
       "<div id=\"3579cc50-cd14-48cf-a865-d37f77ac24ee\" style=\"height: 1000px; width: 1000px;\" class=\"plotly-graph-div\"></div><script type=\"text/javascript\">require([\"plotly\"], function(Plotly) { window.PLOTLYENV=window.PLOTLYENV || {};window.PLOTLYENV.BASE_URL=\"https://plot.ly\";Plotly.newPlot(\"3579cc50-cd14-48cf-a865-d37f77ac24ee\", [{\"marker\": {\"color\": \"rgb(158,202,225)\", \"line\": {\"color\": \"rgb(8,48,107)\", \"width\": 1.5}}, \"opacity\": 0.6, \"orientation\": \"h\", \"text\": [0.22, 0.12, 0.08, 0.06, 0.04, 0.04, 0.04, 0.02, 0.02, 0.02, 0.02, 0.02, 0.02, 0.02, 0.02, 0.02, 0.02, 0.02, 0.02, 0.02, 0.02, 0.02, 0.02, 0.02, 0.02, 0.02, 0.02, 0.0, 0.0, 0.0, 0.0, 0.0, 0.0, 0.0, 0.0, 0.0, 0.0, 0.0, 0.0, 0.0, 0.0], \"textposition\": \"outside\", \"x\": [0.22, 0.12, 0.08, 0.06, 0.04, 0.04, 0.04, 0.02, 0.02, 0.02, 0.02, 0.02, 0.02, 0.02, 0.02, 0.02, 0.02, 0.02, 0.02, 0.02, 0.02, 0.02, 0.02, 0.02, 0.02, 0.02, 0.02, 0.0, 0.0, 0.0, 0.0, 0.0, 0.0, 0.0, 0.0, 0.0, 0.0, 0.0, 0.0, 0.0, 0.0], \"y\": [\"url_length\", \"url_extensions\", \"url_char_w\", \"url_number_digits\", \"url_number_consonants\", \"url_words_with_length_4\", \"url_char_z\", \"url_char_p\", \"url_tlds\", \"url_extension_.net\", \"url_extension_.i\", \"url_extension_.com\", \"url_char_y\", \"url_char_x\", \"url_char_.\", \"url_char_r\", \"url_char_t\", \"url_char_o\", \"url_char_j\", \"url_char_b\", \"url_char_n\", \"url_char_g\", \"url_char_h\", \"url_char_i\", \"url_char_f\", \"url_char_l\", \"url_char_m\", \"url_char_k\", \"url_char_v\", \"url_char_u\", \"url_char_e\", \"url_char_d\", \"url_char_c\", \"url_char_s\", \"url_words_with_length_5\", \"url_words_with_length_6\", \"url_words_with_length_7\", \"url_words_with_length_8\", \"url_number_vowels\", \"url_char_a\", \"url_char_-\"], \"type\": \"bar\", \"uid\": \"fb82e1ef-1d6e-4bb2-878e-8dd19c3a8b1b\"}], {\"autosize\": false, \"height\": 1000, \"width\": 1000, \"xaxis\": {\"tickfont\": {\"color\": \"black\", \"size\": 12}, \"title\": \"Feature Importances\"}, \"yaxis\": {\"automargin\": true}}, {\"showLink\": true, \"linkText\": \"Export to plot.ly\", \"plotlyServerURL\": \"https://plot.ly\"})});</script>"
      ]
     },
     "metadata": {},
     "output_type": "display_data"
    },
    {
     "name": "stdout",
     "output_type": "stream",
     "text": [
      "\n",
      "\n",
      "\u001b[1mGradientBoosting Classifier\u001b[0m\n",
      "Accuracy of the model for training data is: 0.959831092819\n",
      "Confusion Matrix for training data is:\n"
     ]
    },
    {
     "data": {
      "text/plain": [
       "Predicted  False  True  __all__\n",
       "Actual                         \n",
       "False      31552   340    31892\n",
       "True        1163  4362     5525\n",
       "__all__    32715  4702    37417"
      ]
     },
     "metadata": {},
     "output_type": "display_data"
    },
    {
     "name": "stdout",
     "output_type": "stream",
     "text": [
      "Accuracy of the model for test data is: 0.957237545435\n",
      "Confusion Matrix for test data is:\n"
     ]
    },
    {
     "data": {
      "text/plain": [
       "Predicted  False  True  __all__\n",
       "Actual                         \n",
       "False       7886    99     7985\n",
       "True         301  1068     1369\n",
       "__all__     8187  1167     9354"
      ]
     },
     "metadata": {},
     "output_type": "display_data"
    },
    {
     "data": {
      "application/vnd.plotly.v1+json": {
       "config": {
        "linkText": "Export to plot.ly",
        "plotlyServerURL": "https://plot.ly",
        "showLink": true
       },
       "data": [
        {
         "marker": {
          "color": "rgb(158,202,225)",
          "line": {
           "color": "rgb(8,48,107)",
           "width": 1.5
          }
         },
         "opacity": 0.6,
         "orientation": "h",
         "text": [
          0.3972,
          0.3088,
          0.0843,
          0.0582,
          0.0352,
          0.0303,
          0.0285,
          0.0223,
          0.009,
          0.006,
          0.0028,
          0.0025,
          0.0014,
          0.0014,
          0.0013,
          0.0012,
          0.001,
          0.001,
          0.0009,
          0.0007,
          0.0006,
          0.0006,
          0.0005,
          0.0005,
          0.0005,
          0.0004,
          0.0004,
          0.0004,
          0.0004,
          0.0003,
          0.0003,
          0.0002,
          0.0001,
          0.0001,
          0.0001,
          0.0001,
          0.0001,
          0.0001,
          0,
          0,
          0
         ],
         "textposition": "outside",
         "type": "bar",
         "uid": "20336ce0-762e-4d39-8093-bef2c3f141f6",
         "x": [
          0.3971543548044244,
          0.30884697207157963,
          0.08430431260506964,
          0.05816475243481789,
          0.03523647530990318,
          0.030321086347974223,
          0.028541604761753176,
          0.02227973388016171,
          0.008954449343696352,
          0.005952292646318773,
          0.002819825749887686,
          0.002526646102082947,
          0.0014451538944323119,
          0.0014271717917802747,
          0.001296028346672776,
          0.0012276690259292828,
          0.0010495410411158136,
          0.0010011762249921361,
          0.0008794984752148353,
          0.0007440842400853946,
          0.0006466667309639799,
          0.0006190740356150237,
          0.0005242874718565628,
          0.0005207302640383926,
          0.00048333169103452706,
          0.0003887568725978429,
          0.00037660244375139356,
          0.00036647588160108473,
          0.00035902665250084494,
          0.00030153092189860573,
          0.0002902066920121644,
          0.0002381907534009519,
          0.0001431441589713924,
          0.00013436359618364003,
          0.00011187438450750732,
          0.00010612134108960183,
          0.00010038473136400055,
          8.640173367121711e-05,
          3.0000545048773965e-05,
          0,
          0
         ],
         "y": [
          "url_extensions",
          "url_length",
          "url_char_.",
          "url_char_w",
          "url_number_digits",
          "url_char_z",
          "url_extension_.com",
          "url_tlds",
          "url_words_with_length_4",
          "url_number_consonants",
          "url_char_b",
          "url_number_vowels",
          "url_extension_.i",
          "url_char_y",
          "url_char_o",
          "url_char_f",
          "url_char_p",
          "url_char_-",
          "url_char_i",
          "url_char_l",
          "url_char_x",
          "url_char_r",
          "url_char_c",
          "url_char_m",
          "url_char_j",
          "url_char_g",
          "url_char_h",
          "url_char_d",
          "url_char_v",
          "url_extension_.net",
          "url_char_u",
          "url_words_with_length_6",
          "url_char_t",
          "url_words_with_length_5",
          "url_char_e",
          "url_words_with_length_7",
          "url_char_s",
          "url_char_a",
          "url_words_with_length_8",
          "url_char_k",
          "url_char_n"
         ]
        }
       ],
       "layout": {
        "autosize": false,
        "height": 1000,
        "width": 1000,
        "xaxis": {
         "tickfont": {
          "color": "black",
          "size": 12
         },
         "title": "Feature Importances"
        },
        "yaxis": {
         "automargin": true
        }
       }
      },
      "text/html": [
       "<div id=\"ae6491f0-01ad-4523-a2d4-e01b66f06d18\" style=\"height: 1000px; width: 1000px;\" class=\"plotly-graph-div\"></div><script type=\"text/javascript\">require([\"plotly\"], function(Plotly) { window.PLOTLYENV=window.PLOTLYENV || {};window.PLOTLYENV.BASE_URL=\"https://plot.ly\";Plotly.newPlot(\"ae6491f0-01ad-4523-a2d4-e01b66f06d18\", [{\"marker\": {\"color\": \"rgb(158,202,225)\", \"line\": {\"color\": \"rgb(8,48,107)\", \"width\": 1.5}}, \"opacity\": 0.6, \"orientation\": \"h\", \"text\": [0.3972, 0.3088, 0.0843, 0.0582, 0.0352, 0.0303, 0.0285, 0.0223, 0.009, 0.006, 0.0028, 0.0025, 0.0014, 0.0014, 0.0013, 0.0012, 0.001, 0.001, 0.0009, 0.0007, 0.0006, 0.0006, 0.0005, 0.0005, 0.0005, 0.0004, 0.0004, 0.0004, 0.0004, 0.0003, 0.0003, 0.0002, 0.0001, 0.0001, 0.0001, 0.0001, 0.0001, 0.0001, 0.0, 0.0, 0.0], \"textposition\": \"outside\", \"x\": [0.3971543548044244, 0.30884697207157963, 0.08430431260506964, 0.05816475243481789, 0.03523647530990318, 0.030321086347974223, 0.028541604761753176, 0.02227973388016171, 0.008954449343696352, 0.005952292646318773, 0.002819825749887686, 0.002526646102082947, 0.0014451538944323119, 0.0014271717917802747, 0.001296028346672776, 0.0012276690259292828, 0.0010495410411158136, 0.0010011762249921361, 0.0008794984752148353, 0.0007440842400853946, 0.0006466667309639799, 0.0006190740356150237, 0.0005242874718565628, 0.0005207302640383926, 0.00048333169103452706, 0.0003887568725978429, 0.00037660244375139356, 0.00036647588160108473, 0.00035902665250084494, 0.00030153092189860573, 0.0002902066920121644, 0.0002381907534009519, 0.0001431441589713924, 0.00013436359618364003, 0.00011187438450750732, 0.00010612134108960183, 0.00010038473136400055, 8.640173367121711e-05, 3.0000545048773965e-05, 0.0, 0.0], \"y\": [\"url_extensions\", \"url_length\", \"url_char_.\", \"url_char_w\", \"url_number_digits\", \"url_char_z\", \"url_extension_.com\", \"url_tlds\", \"url_words_with_length_4\", \"url_number_consonants\", \"url_char_b\", \"url_number_vowels\", \"url_extension_.i\", \"url_char_y\", \"url_char_o\", \"url_char_f\", \"url_char_p\", \"url_char_-\", \"url_char_i\", \"url_char_l\", \"url_char_x\", \"url_char_r\", \"url_char_c\", \"url_char_m\", \"url_char_j\", \"url_char_g\", \"url_char_h\", \"url_char_d\", \"url_char_v\", \"url_extension_.net\", \"url_char_u\", \"url_words_with_length_6\", \"url_char_t\", \"url_words_with_length_5\", \"url_char_e\", \"url_words_with_length_7\", \"url_char_s\", \"url_char_a\", \"url_words_with_length_8\", \"url_char_k\", \"url_char_n\"], \"type\": \"bar\", \"uid\": \"20336ce0-762e-4d39-8093-bef2c3f141f6\"}], {\"autosize\": false, \"height\": 1000, \"width\": 1000, \"xaxis\": {\"tickfont\": {\"color\": \"black\", \"size\": 12}, \"title\": \"Feature Importances\"}, \"yaxis\": {\"automargin\": true}}, {\"showLink\": true, \"linkText\": \"Export to plot.ly\", \"plotlyServerURL\": \"https://plot.ly\"})});</script>"
      ],
      "text/vnd.plotly.v1+html": [
       "<div id=\"ae6491f0-01ad-4523-a2d4-e01b66f06d18\" style=\"height: 1000px; width: 1000px;\" class=\"plotly-graph-div\"></div><script type=\"text/javascript\">require([\"plotly\"], function(Plotly) { window.PLOTLYENV=window.PLOTLYENV || {};window.PLOTLYENV.BASE_URL=\"https://plot.ly\";Plotly.newPlot(\"ae6491f0-01ad-4523-a2d4-e01b66f06d18\", [{\"marker\": {\"color\": \"rgb(158,202,225)\", \"line\": {\"color\": \"rgb(8,48,107)\", \"width\": 1.5}}, \"opacity\": 0.6, \"orientation\": \"h\", \"text\": [0.3972, 0.3088, 0.0843, 0.0582, 0.0352, 0.0303, 0.0285, 0.0223, 0.009, 0.006, 0.0028, 0.0025, 0.0014, 0.0014, 0.0013, 0.0012, 0.001, 0.001, 0.0009, 0.0007, 0.0006, 0.0006, 0.0005, 0.0005, 0.0005, 0.0004, 0.0004, 0.0004, 0.0004, 0.0003, 0.0003, 0.0002, 0.0001, 0.0001, 0.0001, 0.0001, 0.0001, 0.0001, 0.0, 0.0, 0.0], \"textposition\": \"outside\", \"x\": [0.3971543548044244, 0.30884697207157963, 0.08430431260506964, 0.05816475243481789, 0.03523647530990318, 0.030321086347974223, 0.028541604761753176, 0.02227973388016171, 0.008954449343696352, 0.005952292646318773, 0.002819825749887686, 0.002526646102082947, 0.0014451538944323119, 0.0014271717917802747, 0.001296028346672776, 0.0012276690259292828, 0.0010495410411158136, 0.0010011762249921361, 0.0008794984752148353, 0.0007440842400853946, 0.0006466667309639799, 0.0006190740356150237, 0.0005242874718565628, 0.0005207302640383926, 0.00048333169103452706, 0.0003887568725978429, 0.00037660244375139356, 0.00036647588160108473, 0.00035902665250084494, 0.00030153092189860573, 0.0002902066920121644, 0.0002381907534009519, 0.0001431441589713924, 0.00013436359618364003, 0.00011187438450750732, 0.00010612134108960183, 0.00010038473136400055, 8.640173367121711e-05, 3.0000545048773965e-05, 0.0, 0.0], \"y\": [\"url_extensions\", \"url_length\", \"url_char_.\", \"url_char_w\", \"url_number_digits\", \"url_char_z\", \"url_extension_.com\", \"url_tlds\", \"url_words_with_length_4\", \"url_number_consonants\", \"url_char_b\", \"url_number_vowels\", \"url_extension_.i\", \"url_char_y\", \"url_char_o\", \"url_char_f\", \"url_char_p\", \"url_char_-\", \"url_char_i\", \"url_char_l\", \"url_char_x\", \"url_char_r\", \"url_char_c\", \"url_char_m\", \"url_char_j\", \"url_char_g\", \"url_char_h\", \"url_char_d\", \"url_char_v\", \"url_extension_.net\", \"url_char_u\", \"url_words_with_length_6\", \"url_char_t\", \"url_words_with_length_5\", \"url_char_e\", \"url_words_with_length_7\", \"url_char_s\", \"url_char_a\", \"url_words_with_length_8\", \"url_char_k\", \"url_char_n\"], \"type\": \"bar\", \"uid\": \"20336ce0-762e-4d39-8093-bef2c3f141f6\"}], {\"autosize\": false, \"height\": 1000, \"width\": 1000, \"xaxis\": {\"tickfont\": {\"color\": \"black\", \"size\": 12}, \"title\": \"Feature Importances\"}, \"yaxis\": {\"automargin\": true}}, {\"showLink\": true, \"linkText\": \"Export to plot.ly\", \"plotlyServerURL\": \"https://plot.ly\"})});</script>"
      ]
     },
     "metadata": {},
     "output_type": "display_data"
    },
    {
     "name": "stdout",
     "output_type": "stream",
     "text": [
      "\n",
      "\n",
      "\u001b[1mExtraTree Classifier\u001b[0m\n",
      "Accuracy of the model for training data is: 0.99997327418\n",
      "Confusion Matrix for training data is:\n"
     ]
    },
    {
     "data": {
      "text/plain": [
       "Predicted  False  True  __all__\n",
       "Actual                         \n",
       "False      31892     0    31892\n",
       "True           1  5524     5525\n",
       "__all__    31893  5524    37417"
      ]
     },
     "metadata": {},
     "output_type": "display_data"
    },
    {
     "name": "stdout",
     "output_type": "stream",
     "text": [
      "Accuracy of the model for test data is: 0.96514859953\n",
      "Confusion Matrix for test data is:\n"
     ]
    },
    {
     "data": {
      "text/plain": [
       "Predicted  False  True  __all__\n",
       "Actual                         \n",
       "False       7933    52     7985\n",
       "True         274  1095     1369\n",
       "__all__     8207  1147     9354"
      ]
     },
     "metadata": {},
     "output_type": "display_data"
    },
    {
     "data": {
      "application/vnd.plotly.v1+json": {
       "config": {
        "linkText": "Export to plot.ly",
        "plotlyServerURL": "https://plot.ly",
        "showLink": true
       },
       "data": [
        {
         "marker": {
          "color": "rgb(158,202,225)",
          "line": {
           "color": "rgb(8,48,107)",
           "width": 1.5
          }
         },
         "opacity": 0.6,
         "orientation": "h",
         "text": [
          0.1249,
          0.0855,
          0.0692,
          0.0671,
          0.0539,
          0.0516,
          0.0427,
          0.0419,
          0.0341,
          0.0312,
          0.0278,
          0.0262,
          0.0211,
          0.0205,
          0.0179,
          0.0172,
          0.0157,
          0.0143,
          0.0141,
          0.0137,
          0.0132,
          0.0132,
          0.0128,
          0.0127,
          0.0121,
          0.0119,
          0.0118,
          0.0116,
          0.0115,
          0.011,
          0.0108,
          0.0105,
          0.0102,
          0.0096,
          0.0089,
          0.008,
          0.0074,
          0.007,
          0.0067,
          0.0051,
          0.0038
         ],
         "textposition": "outside",
         "type": "bar",
         "uid": "b0f464f3-7977-4444-8f78-1b490dcb59af",
         "x": [
          0.12487914914776403,
          0.0855495923649245,
          0.06915953180192473,
          0.06705479700634312,
          0.05385653171697465,
          0.05156763275516131,
          0.04268011628018495,
          0.04187810223523965,
          0.0341030341950421,
          0.031215987815321894,
          0.027776004503046257,
          0.02620431292470632,
          0.021065442631072268,
          0.020470233455949238,
          0.01786431895831036,
          0.017236635872422145,
          0.015691687805519123,
          0.014319780718093866,
          0.014093424780567904,
          0.013668513201081955,
          0.01323650187193925,
          0.013154330743939383,
          0.012848514701647672,
          0.012657644349874635,
          0.012056898860933682,
          0.011927353981629408,
          0.011829837377200978,
          0.01161051067187978,
          0.011461737988821953,
          0.010999451969192308,
          0.01079205314010701,
          0.01048247618406414,
          0.010180129960318137,
          0.009602124679201626,
          0.008879190732220906,
          0.007954470840431983,
          0.007404667192913522,
          0.007043825608531609,
          0.006657118024587308,
          0.005107989403523418,
          0.0037783415473908984
         ],
         "y": [
          "url_extensions",
          "url_number_consonants",
          "url_char_w",
          "url_char_.",
          "url_length",
          "url_tlds",
          "url_number_digits",
          "url_number_vowels",
          "url_extension_.com",
          "url_char_z",
          "url_char_y",
          "url_char_e",
          "url_words_with_length_4",
          "url_char_i",
          "url_char_b",
          "url_char_s",
          "url_char_l",
          "url_char_p",
          "url_char_o",
          "url_char_u",
          "url_words_with_length_5",
          "url_char_n",
          "url_char_a",
          "url_char_k",
          "url_char_f",
          "url_char_c",
          "url_char_r",
          "url_char_d",
          "url_words_with_length_6",
          "url_char_t",
          "url_char_x",
          "url_char_g",
          "url_char_m",
          "url_char_h",
          "url_words_with_length_7",
          "url_char_v",
          "url_char_-",
          "url_char_j",
          "url_extension_.i",
          "url_words_with_length_8",
          "url_extension_.net"
         ]
        }
       ],
       "layout": {
        "autosize": false,
        "height": 1000,
        "width": 1000,
        "xaxis": {
         "tickfont": {
          "color": "black",
          "size": 12
         },
         "title": "Feature Importances"
        },
        "yaxis": {
         "automargin": true
        }
       }
      },
      "text/html": [
       "<div id=\"33ad4c7e-09c5-4347-a579-60e3b38f1d3f\" style=\"height: 1000px; width: 1000px;\" class=\"plotly-graph-div\"></div><script type=\"text/javascript\">require([\"plotly\"], function(Plotly) { window.PLOTLYENV=window.PLOTLYENV || {};window.PLOTLYENV.BASE_URL=\"https://plot.ly\";Plotly.newPlot(\"33ad4c7e-09c5-4347-a579-60e3b38f1d3f\", [{\"marker\": {\"color\": \"rgb(158,202,225)\", \"line\": {\"color\": \"rgb(8,48,107)\", \"width\": 1.5}}, \"opacity\": 0.6, \"orientation\": \"h\", \"text\": [0.1249, 0.0855, 0.0692, 0.0671, 0.0539, 0.0516, 0.0427, 0.0419, 0.0341, 0.0312, 0.0278, 0.0262, 0.0211, 0.0205, 0.0179, 0.0172, 0.0157, 0.0143, 0.0141, 0.0137, 0.0132, 0.0132, 0.0128, 0.0127, 0.0121, 0.0119, 0.0118, 0.0116, 0.0115, 0.011, 0.0108, 0.0105, 0.0102, 0.0096, 0.0089, 0.008, 0.0074, 0.007, 0.0067, 0.0051, 0.0038], \"textposition\": \"outside\", \"x\": [0.12487914914776403, 0.0855495923649245, 0.06915953180192473, 0.06705479700634312, 0.05385653171697465, 0.05156763275516131, 0.04268011628018495, 0.04187810223523965, 0.0341030341950421, 0.031215987815321894, 0.027776004503046257, 0.02620431292470632, 0.021065442631072268, 0.020470233455949238, 0.01786431895831036, 0.017236635872422145, 0.015691687805519123, 0.014319780718093866, 0.014093424780567904, 0.013668513201081955, 0.01323650187193925, 0.013154330743939383, 0.012848514701647672, 0.012657644349874635, 0.012056898860933682, 0.011927353981629408, 0.011829837377200978, 0.01161051067187978, 0.011461737988821953, 0.010999451969192308, 0.01079205314010701, 0.01048247618406414, 0.010180129960318137, 0.009602124679201626, 0.008879190732220906, 0.007954470840431983, 0.007404667192913522, 0.007043825608531609, 0.006657118024587308, 0.005107989403523418, 0.0037783415473908984], \"y\": [\"url_extensions\", \"url_number_consonants\", \"url_char_w\", \"url_char_.\", \"url_length\", \"url_tlds\", \"url_number_digits\", \"url_number_vowels\", \"url_extension_.com\", \"url_char_z\", \"url_char_y\", \"url_char_e\", \"url_words_with_length_4\", \"url_char_i\", \"url_char_b\", \"url_char_s\", \"url_char_l\", \"url_char_p\", \"url_char_o\", \"url_char_u\", \"url_words_with_length_5\", \"url_char_n\", \"url_char_a\", \"url_char_k\", \"url_char_f\", \"url_char_c\", \"url_char_r\", \"url_char_d\", \"url_words_with_length_6\", \"url_char_t\", \"url_char_x\", \"url_char_g\", \"url_char_m\", \"url_char_h\", \"url_words_with_length_7\", \"url_char_v\", \"url_char_-\", \"url_char_j\", \"url_extension_.i\", \"url_words_with_length_8\", \"url_extension_.net\"], \"type\": \"bar\", \"uid\": \"b0f464f3-7977-4444-8f78-1b490dcb59af\"}], {\"autosize\": false, \"height\": 1000, \"width\": 1000, \"xaxis\": {\"tickfont\": {\"color\": \"black\", \"size\": 12}, \"title\": \"Feature Importances\"}, \"yaxis\": {\"automargin\": true}}, {\"showLink\": true, \"linkText\": \"Export to plot.ly\", \"plotlyServerURL\": \"https://plot.ly\"})});</script>"
      ],
      "text/vnd.plotly.v1+html": [
       "<div id=\"33ad4c7e-09c5-4347-a579-60e3b38f1d3f\" style=\"height: 1000px; width: 1000px;\" class=\"plotly-graph-div\"></div><script type=\"text/javascript\">require([\"plotly\"], function(Plotly) { window.PLOTLYENV=window.PLOTLYENV || {};window.PLOTLYENV.BASE_URL=\"https://plot.ly\";Plotly.newPlot(\"33ad4c7e-09c5-4347-a579-60e3b38f1d3f\", [{\"marker\": {\"color\": \"rgb(158,202,225)\", \"line\": {\"color\": \"rgb(8,48,107)\", \"width\": 1.5}}, \"opacity\": 0.6, \"orientation\": \"h\", \"text\": [0.1249, 0.0855, 0.0692, 0.0671, 0.0539, 0.0516, 0.0427, 0.0419, 0.0341, 0.0312, 0.0278, 0.0262, 0.0211, 0.0205, 0.0179, 0.0172, 0.0157, 0.0143, 0.0141, 0.0137, 0.0132, 0.0132, 0.0128, 0.0127, 0.0121, 0.0119, 0.0118, 0.0116, 0.0115, 0.011, 0.0108, 0.0105, 0.0102, 0.0096, 0.0089, 0.008, 0.0074, 0.007, 0.0067, 0.0051, 0.0038], \"textposition\": \"outside\", \"x\": [0.12487914914776403, 0.0855495923649245, 0.06915953180192473, 0.06705479700634312, 0.05385653171697465, 0.05156763275516131, 0.04268011628018495, 0.04187810223523965, 0.0341030341950421, 0.031215987815321894, 0.027776004503046257, 0.02620431292470632, 0.021065442631072268, 0.020470233455949238, 0.01786431895831036, 0.017236635872422145, 0.015691687805519123, 0.014319780718093866, 0.014093424780567904, 0.013668513201081955, 0.01323650187193925, 0.013154330743939383, 0.012848514701647672, 0.012657644349874635, 0.012056898860933682, 0.011927353981629408, 0.011829837377200978, 0.01161051067187978, 0.011461737988821953, 0.010999451969192308, 0.01079205314010701, 0.01048247618406414, 0.010180129960318137, 0.009602124679201626, 0.008879190732220906, 0.007954470840431983, 0.007404667192913522, 0.007043825608531609, 0.006657118024587308, 0.005107989403523418, 0.0037783415473908984], \"y\": [\"url_extensions\", \"url_number_consonants\", \"url_char_w\", \"url_char_.\", \"url_length\", \"url_tlds\", \"url_number_digits\", \"url_number_vowels\", \"url_extension_.com\", \"url_char_z\", \"url_char_y\", \"url_char_e\", \"url_words_with_length_4\", \"url_char_i\", \"url_char_b\", \"url_char_s\", \"url_char_l\", \"url_char_p\", \"url_char_o\", \"url_char_u\", \"url_words_with_length_5\", \"url_char_n\", \"url_char_a\", \"url_char_k\", \"url_char_f\", \"url_char_c\", \"url_char_r\", \"url_char_d\", \"url_words_with_length_6\", \"url_char_t\", \"url_char_x\", \"url_char_g\", \"url_char_m\", \"url_char_h\", \"url_words_with_length_7\", \"url_char_v\", \"url_char_-\", \"url_char_j\", \"url_extension_.i\", \"url_words_with_length_8\", \"url_extension_.net\"], \"type\": \"bar\", \"uid\": \"b0f464f3-7977-4444-8f78-1b490dcb59af\"}], {\"autosize\": false, \"height\": 1000, \"width\": 1000, \"xaxis\": {\"tickfont\": {\"color\": \"black\", \"size\": 12}, \"title\": \"Feature Importances\"}, \"yaxis\": {\"automargin\": true}}, {\"showLink\": true, \"linkText\": \"Export to plot.ly\", \"plotlyServerURL\": \"https://plot.ly\"})});</script>"
      ]
     },
     "metadata": {},
     "output_type": "display_data"
    },
    {
     "name": "stdout",
     "output_type": "stream",
     "text": [
      "\n",
      "\n",
      "\u001b[1mBagging Classifier\u001b[0m\n",
      "Accuracy of the model for training data is: 0.994013416362\n",
      "Confusion Matrix for training data is:\n"
     ]
    },
    {
     "data": {
      "text/plain": [
       "Predicted  False  True  __all__\n",
       "Actual                         \n",
       "False      31883     9    31892\n",
       "True         215  5310     5525\n",
       "__all__    32098  5319    37417"
      ]
     },
     "metadata": {},
     "output_type": "display_data"
    },
    {
     "name": "stdout",
     "output_type": "stream",
     "text": [
      "Accuracy of the model for test data is: 0.964186444302\n",
      "Confusion Matrix for test data is:\n"
     ]
    },
    {
     "data": {
      "text/plain": [
       "Predicted  False  True  __all__\n",
       "Actual                         \n",
       "False       7921    64     7985\n",
       "True         271  1098     1369\n",
       "__all__     8192  1162     9354"
      ]
     },
     "metadata": {},
     "output_type": "display_data"
    },
    {
     "name": "stdout",
     "output_type": "stream",
     "text": [
      "\n",
      "\n",
      "\u001b[1mNeural Network-1\u001b[0m\n",
      "The accuracy of the model on training data is: 0.99569714301\n"
     ]
    },
    {
     "data": {
      "text/plain": [
       "Predicted  False  True  __all__\n",
       "Actual                         \n",
       "False      31833    59    31892\n",
       "True         102  5423     5525\n",
       "__all__    31935  5482    37417"
      ]
     },
     "metadata": {},
     "output_type": "display_data"
    },
    {
     "name": "stdout",
     "output_type": "stream",
     "text": [
      "The accuracy of the model on test data is: 0.954244173616\n"
     ]
    },
    {
     "data": {
      "text/plain": [
       "Predicted  False  True  __all__\n",
       "Actual                         \n",
       "False       7790   195     7985\n",
       "True         233  1136     1369\n",
       "__all__     8023  1331     9354"
      ]
     },
     "metadata": {},
     "output_type": "display_data"
    },
    {
     "name": "stdout",
     "output_type": "stream",
     "text": [
      "\n",
      "\n"
     ]
    }
   ],
   "source": [
    "feat_imp=[None]*4\n",
    "j=0\n",
    "for i in range(0,8):\n",
    "    if i>=2 and i<=5:\n",
    "        model,cm_train,cm_test,acc_train,acc_test,roc_auc,feat_imp[j],mcc=f[i](scaled_X_train,train_Y,scaled_X_test,test_Y,columns)\n",
    "        j=j+1\n",
    "    else:\n",
    "        model,cm_train,cm_test,acc_train,acc_test,roc_auc,mcc=f[i](scaled_X_train,train_Y,scaled_X_test,test_Y)\n",
    "    table_80_50_train.loc[i]=   ([acc_train,cm_train.TP,cm_train.TN,cm_train.FP,cm_train.FN,cm_train.FPR,cm_train.FNR])\n",
    "    table_80_50_test.loc[i] =   ([acc_test ,cm_test.TP, cm_test.TN, cm_test.FP, cm_test.FN, cm_test.FPR, cm_test.FNR,roc_auc,mcc])\n",
    "    print(\"\\n\")"
   ]
  },
  {
   "cell_type": "markdown",
   "metadata": {},
   "source": [
    "### <a id='1.A' style=\"text-decoration : none; color : #000000;\"> A Results</a>"
   ]
  },
  {
   "cell_type": "code",
   "execution_count": 32,
   "metadata": {},
   "outputs": [
    {
     "data": {
      "application/vnd.plotly.v1+json": {
       "config": {
        "linkText": "Export to plot.ly",
        "plotlyServerURL": "https://plot.ly",
        "showLink": true
       },
       "data": [
        {
         "mode": "lines",
         "name": "KNN_model",
         "type": "scatter",
         "uid": "0c56c6b5-de0e-44a0-8df6-d3b5b2358972",
         "x": [
          "accuracy",
          "FPR",
          "FNR",
          "auc"
         ],
         "y": [
          0.9584135129356425,
          0.003256105197244834,
          0.26515704894083275,
          0.8657934229309613
         ]
        },
        {
         "mode": "lines+markers",
         "name": "Logistic Regression",
         "type": "scatter",
         "uid": "13cb4781-18dd-49d7-9c47-28a933a9a51d",
         "x": [
          "accuracy",
          "FPR",
          "FNR",
          "auc"
         ],
         "y": [
          0.9517853324780843,
          0.014402003757044458,
          0.24543462381300218,
          0.8700816862149767
         ]
        },
        {
         "marker": {
          "symbol": "x"
         },
         "mode": "lines+markers",
         "name": "Random Forest",
         "type": "scatter",
         "uid": "5be1fd33-7ff0-442e-aaa0-84c531c778d9",
         "x": [
          "accuracy",
          "FPR",
          "FNR",
          "auc"
         ],
         "y": [
          0.9649347872567885,
          0.006512210394489668,
          0.20160701241782322,
          0.8959403885938435
         ]
        },
        {
         "mode": "lines",
         "name": "Ada Boost",
         "type": "scatter",
         "uid": "199f402c-e2c1-41cb-af2b-10eaea72d167",
         "x": [
          "accuracy",
          "FPR",
          "FNR",
          "auc"
         ],
         "y": [
          0.9498610220226641,
          0.0147777082028804,
          0.25639152666179693,
          0.8644153825676613
         ]
        },
        {
         "mode": "lines+markers",
         "name": "GradientBoosting",
         "type": "scatter",
         "uid": "ac213d03-1b07-47d5-9656-8e9e9cf23918",
         "x": [
          "accuracy",
          "FPR",
          "FNR",
          "auc"
         ],
         "y": [
          0.957237545435108,
          0.0123982467125861,
          0.21986851716581446,
          0.8838666180607997
         ]
        },
        {
         "marker": {
          "symbol": "x"
         },
         "mode": "lines+markers",
         "name": "ExtraTree Classifier",
         "type": "scatter",
         "uid": "66e06aff-464c-4ed6-8c4d-99715060f9fb",
         "x": [
          "accuracy",
          "FPR",
          "FNR",
          "auc"
         ],
         "y": [
          0.965148599529613,
          0.006512210394489668,
          0.20014609203798392,
          0.8966708487837631
         ]
        },
        {
         "marker": {
          "symbol": "x"
         },
         "mode": "lines+markers",
         "name": "Bagging",
         "type": "scatter",
         "uid": "71ea75fb-1062-4b51-a216-f3d284e73704",
         "x": [
          "accuracy",
          "FPR",
          "FNR",
          "auc"
         ],
         "y": [
          0.9641864443019029,
          0.008015028177833438,
          0.197954711468225,
          0.8970151301769709
         ]
        },
        {
         "marker": {
          "symbol": "x"
         },
         "mode": "lines+markers",
         "name": "Neural Network",
         "type": "scatter",
         "uid": "c418036e-0137-459c-a206-d5c0db7810ae",
         "x": [
          "accuracy",
          "FPR",
          "FNR",
          "auc"
         ],
         "y": [
          0.9542441736155656,
          0.024420788979336257,
          0.1701972242512783,
          0.8970151301769709
         ]
        }
       ],
       "layout": {
        "title": "Result comparision for Features selected in Section 1",
        "yaxis": {
         "dtick": 0.05,
         "tick0": 0
        }
       }
      },
      "text/html": [
       "<div id=\"aa673a7e-51a1-48f5-9f8d-21bffa829b1a\" style=\"height: 525px; width: 100%;\" class=\"plotly-graph-div\"></div><script type=\"text/javascript\">require([\"plotly\"], function(Plotly) { window.PLOTLYENV=window.PLOTLYENV || {};window.PLOTLYENV.BASE_URL=\"https://plot.ly\";Plotly.newPlot(\"aa673a7e-51a1-48f5-9f8d-21bffa829b1a\", [{\"mode\": \"lines\", \"name\": \"KNN_model\", \"x\": [\"accuracy\", \"FPR\", \"FNR\", \"auc\"], \"y\": [0.9584135129356425, 0.003256105197244834, 0.26515704894083275, 0.8657934229309613], \"type\": \"scatter\", \"uid\": \"0c56c6b5-de0e-44a0-8df6-d3b5b2358972\"}, {\"mode\": \"lines+markers\", \"name\": \"Logistic Regression\", \"x\": [\"accuracy\", \"FPR\", \"FNR\", \"auc\"], \"y\": [0.9517853324780843, 0.014402003757044458, 0.24543462381300218, 0.8700816862149767], \"type\": \"scatter\", \"uid\": \"13cb4781-18dd-49d7-9c47-28a933a9a51d\"}, {\"marker\": {\"symbol\": \"x\"}, \"mode\": \"lines+markers\", \"name\": \"Random Forest\", \"x\": [\"accuracy\", \"FPR\", \"FNR\", \"auc\"], \"y\": [0.9649347872567885, 0.006512210394489668, 0.20160701241782322, 0.8959403885938435], \"type\": \"scatter\", \"uid\": \"5be1fd33-7ff0-442e-aaa0-84c531c778d9\"}, {\"mode\": \"lines\", \"name\": \"Ada Boost\", \"x\": [\"accuracy\", \"FPR\", \"FNR\", \"auc\"], \"y\": [0.9498610220226641, 0.0147777082028804, 0.25639152666179693, 0.8644153825676613], \"type\": \"scatter\", \"uid\": \"199f402c-e2c1-41cb-af2b-10eaea72d167\"}, {\"mode\": \"lines+markers\", \"name\": \"GradientBoosting\", \"x\": [\"accuracy\", \"FPR\", \"FNR\", \"auc\"], \"y\": [0.957237545435108, 0.0123982467125861, 0.21986851716581446, 0.8838666180607997], \"type\": \"scatter\", \"uid\": \"ac213d03-1b07-47d5-9656-8e9e9cf23918\"}, {\"marker\": {\"symbol\": \"x\"}, \"mode\": \"lines+markers\", \"name\": \"ExtraTree Classifier\", \"x\": [\"accuracy\", \"FPR\", \"FNR\", \"auc\"], \"y\": [0.965148599529613, 0.006512210394489668, 0.20014609203798392, 0.8966708487837631], \"type\": \"scatter\", \"uid\": \"66e06aff-464c-4ed6-8c4d-99715060f9fb\"}, {\"marker\": {\"symbol\": \"x\"}, \"mode\": \"lines+markers\", \"name\": \"Bagging\", \"x\": [\"accuracy\", \"FPR\", \"FNR\", \"auc\"], \"y\": [0.9641864443019029, 0.008015028177833438, 0.197954711468225, 0.8970151301769709], \"type\": \"scatter\", \"uid\": \"71ea75fb-1062-4b51-a216-f3d284e73704\"}, {\"marker\": {\"symbol\": \"x\"}, \"mode\": \"lines+markers\", \"name\": \"Neural Network\", \"x\": [\"accuracy\", \"FPR\", \"FNR\", \"auc\"], \"y\": [0.9542441736155656, 0.024420788979336257, 0.1701972242512783, 0.8970151301769709], \"type\": \"scatter\", \"uid\": \"c418036e-0137-459c-a206-d5c0db7810ae\"}], {\"title\": \"Result comparision for Features selected in Section 1\", \"yaxis\": {\"dtick\": 0.05, \"tick0\": 0}}, {\"showLink\": true, \"linkText\": \"Export to plot.ly\", \"plotlyServerURL\": \"https://plot.ly\"})});</script><script type=\"text/javascript\">window.addEventListener(\"resize\", function(){window._Plotly.Plots.resize(document.getElementById(\"aa673a7e-51a1-48f5-9f8d-21bffa829b1a\"));});</script>"
      ],
      "text/vnd.plotly.v1+html": [
       "<div id=\"aa673a7e-51a1-48f5-9f8d-21bffa829b1a\" style=\"height: 525px; width: 100%;\" class=\"plotly-graph-div\"></div><script type=\"text/javascript\">require([\"plotly\"], function(Plotly) { window.PLOTLYENV=window.PLOTLYENV || {};window.PLOTLYENV.BASE_URL=\"https://plot.ly\";Plotly.newPlot(\"aa673a7e-51a1-48f5-9f8d-21bffa829b1a\", [{\"mode\": \"lines\", \"name\": \"KNN_model\", \"x\": [\"accuracy\", \"FPR\", \"FNR\", \"auc\"], \"y\": [0.9584135129356425, 0.003256105197244834, 0.26515704894083275, 0.8657934229309613], \"type\": \"scatter\", \"uid\": \"0c56c6b5-de0e-44a0-8df6-d3b5b2358972\"}, {\"mode\": \"lines+markers\", \"name\": \"Logistic Regression\", \"x\": [\"accuracy\", \"FPR\", \"FNR\", \"auc\"], \"y\": [0.9517853324780843, 0.014402003757044458, 0.24543462381300218, 0.8700816862149767], \"type\": \"scatter\", \"uid\": \"13cb4781-18dd-49d7-9c47-28a933a9a51d\"}, {\"marker\": {\"symbol\": \"x\"}, \"mode\": \"lines+markers\", \"name\": \"Random Forest\", \"x\": [\"accuracy\", \"FPR\", \"FNR\", \"auc\"], \"y\": [0.9649347872567885, 0.006512210394489668, 0.20160701241782322, 0.8959403885938435], \"type\": \"scatter\", \"uid\": \"5be1fd33-7ff0-442e-aaa0-84c531c778d9\"}, {\"mode\": \"lines\", \"name\": \"Ada Boost\", \"x\": [\"accuracy\", \"FPR\", \"FNR\", \"auc\"], \"y\": [0.9498610220226641, 0.0147777082028804, 0.25639152666179693, 0.8644153825676613], \"type\": \"scatter\", \"uid\": \"199f402c-e2c1-41cb-af2b-10eaea72d167\"}, {\"mode\": \"lines+markers\", \"name\": \"GradientBoosting\", \"x\": [\"accuracy\", \"FPR\", \"FNR\", \"auc\"], \"y\": [0.957237545435108, 0.0123982467125861, 0.21986851716581446, 0.8838666180607997], \"type\": \"scatter\", \"uid\": \"ac213d03-1b07-47d5-9656-8e9e9cf23918\"}, {\"marker\": {\"symbol\": \"x\"}, \"mode\": \"lines+markers\", \"name\": \"ExtraTree Classifier\", \"x\": [\"accuracy\", \"FPR\", \"FNR\", \"auc\"], \"y\": [0.965148599529613, 0.006512210394489668, 0.20014609203798392, 0.8966708487837631], \"type\": \"scatter\", \"uid\": \"66e06aff-464c-4ed6-8c4d-99715060f9fb\"}, {\"marker\": {\"symbol\": \"x\"}, \"mode\": \"lines+markers\", \"name\": \"Bagging\", \"x\": [\"accuracy\", \"FPR\", \"FNR\", \"auc\"], \"y\": [0.9641864443019029, 0.008015028177833438, 0.197954711468225, 0.8970151301769709], \"type\": \"scatter\", \"uid\": \"71ea75fb-1062-4b51-a216-f3d284e73704\"}, {\"marker\": {\"symbol\": \"x\"}, \"mode\": \"lines+markers\", \"name\": \"Neural Network\", \"x\": [\"accuracy\", \"FPR\", \"FNR\", \"auc\"], \"y\": [0.9542441736155656, 0.024420788979336257, 0.1701972242512783, 0.8970151301769709], \"type\": \"scatter\", \"uid\": \"c418036e-0137-459c-a206-d5c0db7810ae\"}], {\"title\": \"Result comparision for Features selected in Section 1\", \"yaxis\": {\"dtick\": 0.05, \"tick0\": 0}}, {\"showLink\": true, \"linkText\": \"Export to plot.ly\", \"plotlyServerURL\": \"https://plot.ly\"})});</script><script type=\"text/javascript\">window.addEventListener(\"resize\", function(){window._Plotly.Plots.resize(document.getElementById(\"aa673a7e-51a1-48f5-9f8d-21bffa829b1a\"));});</script>"
      ]
     },
     "metadata": {},
     "output_type": "display_data"
    }
   ],
   "source": [
    "trace0 = go.Scatter(x=table_80_50_test.iloc[0].index.values[[0,5,6,7]],\n",
    "                    y=table_80_50_test.iloc[0].values[[0,5,6,7]],\n",
    "                    mode = 'lines',\n",
    "                    name = 'KNN_model')\n",
    "\n",
    "trace1 = go.Scatter(x=table_80_50_test.iloc[1].index.values[[0,5,6,7]],\n",
    "                    y=table_80_50_test.iloc[1].values[[0,5,6,7]],\n",
    "                    mode = 'lines+markers',\n",
    "                    name = 'Logistic Regression')\n",
    "\n",
    "trace2 = go.Scatter(x=table_80_50_test.iloc[2].index.values[[0,5,6,7]],\n",
    "                    y=table_80_50_test.iloc[2].values[[0,5,6,7]],\n",
    "                    mode = 'lines+markers',marker=dict(symbol='x'),\n",
    "                    name = 'Random Forest')\n",
    "\n",
    "\n",
    "trace3 = go.Scatter(x=table_80_50_test.iloc[3].index.values[[0,5,6,7]],\n",
    "                    y=table_80_50_test.iloc[3].values[[0,5,6,7]],\n",
    "                    mode = 'lines',\n",
    "                    name = 'Ada Boost')\n",
    "\n",
    "trace4 = go.Scatter(x=table_80_50_test.iloc[4].index.values[[0,5,6,7]],\n",
    "                    y=table_80_50_test.iloc[4].values[[0,5,6,7]],\n",
    "                    mode = 'lines+markers',\n",
    "                    name = 'GradientBoosting')\n",
    "\n",
    "trace5 = go.Scatter(x=table_80_50_test.iloc[5].index.values[[0,5,6,7]],\n",
    "                    y=table_80_50_test.iloc[5].values[[0,5,6,7]],\n",
    "                    mode = 'lines+markers',marker=dict(symbol='x'),\n",
    "                    name = 'ExtraTree Classifier')\n",
    "\n",
    "trace6 = go.Scatter(x=table_80_50_test.iloc[6].index.values[[0,5,6,7]],\n",
    "                    y=table_80_50_test.iloc[6].values[[0,5,6,7]],\n",
    "                    mode = 'lines+markers',marker=dict(symbol='x'),\n",
    "                    name = 'Bagging')\n",
    "\n",
    "trace7 = go.Scatter(x=table_80_50_test.iloc[7].index.values[[0,5,6,7]],\n",
    "                    y=table_80_50_test.iloc[7].values[[0,5,6,7]],\n",
    "                    mode = 'lines+markers',marker=dict(symbol='x'),\n",
    "                    name = 'Neural Network')\n",
    "\n",
    "\n",
    "\n",
    "data = [trace0, trace1, trace2, trace3, trace4, trace5, trace6, trace7]\n",
    "layout = go.Layout(yaxis=dict(tick0=0,dtick=0.05),title='Result comparision for Features selected in Section 1')\n",
    "fig = go.Figure(data=data, layout=layout)\n",
    "\n",
    "iplot(fig, filename='Result')"
   ]
  },
  {
   "cell_type": "code",
   "execution_count": 33,
   "metadata": {},
   "outputs": [
    {
     "name": "stdout",
     "output_type": "stream",
     "text": [
      "Training Results\n"
     ]
    },
    {
     "data": {
      "text/html": [
       "<div>\n",
       "<style scoped>\n",
       "    .dataframe tbody tr th:only-of-type {\n",
       "        vertical-align: middle;\n",
       "    }\n",
       "\n",
       "    .dataframe tbody tr th {\n",
       "        vertical-align: top;\n",
       "    }\n",
       "\n",
       "    .dataframe thead th {\n",
       "        text-align: right;\n",
       "    }\n",
       "</style>\n",
       "<table border=\"1\" class=\"dataframe\">\n",
       "  <thead>\n",
       "    <tr style=\"text-align: right;\">\n",
       "      <th></th>\n",
       "      <th>accuracy</th>\n",
       "      <th>TP</th>\n",
       "      <th>TN</th>\n",
       "      <th>FP</th>\n",
       "      <th>FN</th>\n",
       "      <th>FPR</th>\n",
       "      <th>FNR</th>\n",
       "    </tr>\n",
       "    <tr>\n",
       "      <th>index</th>\n",
       "      <th></th>\n",
       "      <th></th>\n",
       "      <th></th>\n",
       "      <th></th>\n",
       "      <th></th>\n",
       "      <th></th>\n",
       "      <th></th>\n",
       "    </tr>\n",
       "  </thead>\n",
       "  <tbody>\n",
       "    <tr>\n",
       "      <th>KNeighborsClassifier</th>\n",
       "      <td>0.964535</td>\n",
       "      <td>4263.0</td>\n",
       "      <td>31827.0</td>\n",
       "      <td>65.0</td>\n",
       "      <td>1262.0</td>\n",
       "      <td>0.002038</td>\n",
       "      <td>0.228416</td>\n",
       "    </tr>\n",
       "    <tr>\n",
       "      <th>LogisticRegression</th>\n",
       "      <td>0.951653</td>\n",
       "      <td>4117.0</td>\n",
       "      <td>31491.0</td>\n",
       "      <td>401.0</td>\n",
       "      <td>1408.0</td>\n",
       "      <td>0.012574</td>\n",
       "      <td>0.254842</td>\n",
       "    </tr>\n",
       "    <tr>\n",
       "      <th>RandomForestClassifier</th>\n",
       "      <td>0.994895</td>\n",
       "      <td>5337.0</td>\n",
       "      <td>31889.0</td>\n",
       "      <td>3.0</td>\n",
       "      <td>188.0</td>\n",
       "      <td>0.000094</td>\n",
       "      <td>0.034027</td>\n",
       "    </tr>\n",
       "    <tr>\n",
       "      <th>AdaBoostClassifier</th>\n",
       "      <td>0.948793</td>\n",
       "      <td>4053.0</td>\n",
       "      <td>31448.0</td>\n",
       "      <td>444.0</td>\n",
       "      <td>1472.0</td>\n",
       "      <td>0.013922</td>\n",
       "      <td>0.266425</td>\n",
       "    </tr>\n",
       "    <tr>\n",
       "      <th>GradientBoostingClassifier</th>\n",
       "      <td>0.959831</td>\n",
       "      <td>4362.0</td>\n",
       "      <td>31552.0</td>\n",
       "      <td>340.0</td>\n",
       "      <td>1163.0</td>\n",
       "      <td>0.010661</td>\n",
       "      <td>0.210498</td>\n",
       "    </tr>\n",
       "    <tr>\n",
       "      <th>ExtraTreeClassifier</th>\n",
       "      <td>0.999973</td>\n",
       "      <td>5524.0</td>\n",
       "      <td>31892.0</td>\n",
       "      <td>0.0</td>\n",
       "      <td>1.0</td>\n",
       "      <td>0.000000</td>\n",
       "      <td>0.000181</td>\n",
       "    </tr>\n",
       "    <tr>\n",
       "      <th>BaggingClassifier</th>\n",
       "      <td>0.994013</td>\n",
       "      <td>5310.0</td>\n",
       "      <td>31883.0</td>\n",
       "      <td>9.0</td>\n",
       "      <td>215.0</td>\n",
       "      <td>0.000282</td>\n",
       "      <td>0.038914</td>\n",
       "    </tr>\n",
       "    <tr>\n",
       "      <th>Neural Network-1</th>\n",
       "      <td>0.995697</td>\n",
       "      <td>5423.0</td>\n",
       "      <td>31833.0</td>\n",
       "      <td>59.0</td>\n",
       "      <td>102.0</td>\n",
       "      <td>0.001850</td>\n",
       "      <td>0.018462</td>\n",
       "    </tr>\n",
       "  </tbody>\n",
       "</table>\n",
       "</div>"
      ],
      "text/plain": [
       "                            accuracy      TP       TN     FP      FN  \\\n",
       "index                                                                  \n",
       "KNeighborsClassifier        0.964535  4263.0  31827.0   65.0  1262.0   \n",
       "LogisticRegression          0.951653  4117.0  31491.0  401.0  1408.0   \n",
       "RandomForestClassifier      0.994895  5337.0  31889.0    3.0   188.0   \n",
       "AdaBoostClassifier          0.948793  4053.0  31448.0  444.0  1472.0   \n",
       "GradientBoostingClassifier  0.959831  4362.0  31552.0  340.0  1163.0   \n",
       "ExtraTreeClassifier         0.999973  5524.0  31892.0    0.0     1.0   \n",
       "BaggingClassifier           0.994013  5310.0  31883.0    9.0   215.0   \n",
       "Neural Network-1            0.995697  5423.0  31833.0   59.0   102.0   \n",
       "\n",
       "                                 FPR       FNR  \n",
       "index                                           \n",
       "KNeighborsClassifier        0.002038  0.228416  \n",
       "LogisticRegression          0.012574  0.254842  \n",
       "RandomForestClassifier      0.000094  0.034027  \n",
       "AdaBoostClassifier          0.013922  0.266425  \n",
       "GradientBoostingClassifier  0.010661  0.210498  \n",
       "ExtraTreeClassifier         0.000000  0.000181  \n",
       "BaggingClassifier           0.000282  0.038914  \n",
       "Neural Network-1            0.001850  0.018462  "
      ]
     },
     "metadata": {},
     "output_type": "display_data"
    },
    {
     "name": "stdout",
     "output_type": "stream",
     "text": [
      "Test Results\n"
     ]
    },
    {
     "data": {
      "text/html": [
       "<div>\n",
       "<style scoped>\n",
       "    .dataframe tbody tr th:only-of-type {\n",
       "        vertical-align: middle;\n",
       "    }\n",
       "\n",
       "    .dataframe tbody tr th {\n",
       "        vertical-align: top;\n",
       "    }\n",
       "\n",
       "    .dataframe thead th {\n",
       "        text-align: right;\n",
       "    }\n",
       "</style>\n",
       "<table border=\"1\" class=\"dataframe\">\n",
       "  <thead>\n",
       "    <tr style=\"text-align: right;\">\n",
       "      <th></th>\n",
       "      <th>accuracy</th>\n",
       "      <th>TP</th>\n",
       "      <th>TN</th>\n",
       "      <th>FP</th>\n",
       "      <th>FN</th>\n",
       "      <th>FPR</th>\n",
       "      <th>FNR</th>\n",
       "      <th>auc</th>\n",
       "      <th>MCC</th>\n",
       "    </tr>\n",
       "    <tr>\n",
       "      <th>index</th>\n",
       "      <th></th>\n",
       "      <th></th>\n",
       "      <th></th>\n",
       "      <th></th>\n",
       "      <th></th>\n",
       "      <th></th>\n",
       "      <th></th>\n",
       "      <th></th>\n",
       "      <th></th>\n",
       "    </tr>\n",
       "  </thead>\n",
       "  <tbody>\n",
       "    <tr>\n",
       "      <th>KNeighborsClassifier</th>\n",
       "      <td>0.958414</td>\n",
       "      <td>1006.0</td>\n",
       "      <td>7959.0</td>\n",
       "      <td>26.0</td>\n",
       "      <td>363.0</td>\n",
       "      <td>0.003256</td>\n",
       "      <td>0.265157</td>\n",
       "      <td>0.865793</td>\n",
       "      <td>0.825375</td>\n",
       "    </tr>\n",
       "    <tr>\n",
       "      <th>LogisticRegression</th>\n",
       "      <td>0.951785</td>\n",
       "      <td>1033.0</td>\n",
       "      <td>7870.0</td>\n",
       "      <td>115.0</td>\n",
       "      <td>336.0</td>\n",
       "      <td>0.014402</td>\n",
       "      <td>0.245435</td>\n",
       "      <td>0.870082</td>\n",
       "      <td>0.797315</td>\n",
       "    </tr>\n",
       "    <tr>\n",
       "      <th>RandomForestClassifier</th>\n",
       "      <td>0.964935</td>\n",
       "      <td>1093.0</td>\n",
       "      <td>7933.0</td>\n",
       "      <td>52.0</td>\n",
       "      <td>276.0</td>\n",
       "      <td>0.006512</td>\n",
       "      <td>0.201607</td>\n",
       "      <td>0.895940</td>\n",
       "      <td>0.853987</td>\n",
       "    </tr>\n",
       "    <tr>\n",
       "      <th>AdaBoostClassifier</th>\n",
       "      <td>0.949861</td>\n",
       "      <td>1018.0</td>\n",
       "      <td>7867.0</td>\n",
       "      <td>118.0</td>\n",
       "      <td>351.0</td>\n",
       "      <td>0.014778</td>\n",
       "      <td>0.256392</td>\n",
       "      <td>0.864415</td>\n",
       "      <td>0.788667</td>\n",
       "    </tr>\n",
       "    <tr>\n",
       "      <th>GradientBoostingClassifier</th>\n",
       "      <td>0.957238</td>\n",
       "      <td>1068.0</td>\n",
       "      <td>7886.0</td>\n",
       "      <td>99.0</td>\n",
       "      <td>301.0</td>\n",
       "      <td>0.012398</td>\n",
       "      <td>0.219869</td>\n",
       "      <td>0.883867</td>\n",
       "      <td>0.821205</td>\n",
       "    </tr>\n",
       "    <tr>\n",
       "      <th>ExtraTreeClassifier</th>\n",
       "      <td>0.965149</td>\n",
       "      <td>1095.0</td>\n",
       "      <td>7933.0</td>\n",
       "      <td>52.0</td>\n",
       "      <td>274.0</td>\n",
       "      <td>0.006512</td>\n",
       "      <td>0.200146</td>\n",
       "      <td>0.896671</td>\n",
       "      <td>0.854920</td>\n",
       "    </tr>\n",
       "    <tr>\n",
       "      <th>BaggingClassifier</th>\n",
       "      <td>0.964186</td>\n",
       "      <td>1098.0</td>\n",
       "      <td>7921.0</td>\n",
       "      <td>64.0</td>\n",
       "      <td>271.0</td>\n",
       "      <td>0.008015</td>\n",
       "      <td>0.197955</td>\n",
       "      <td>0.897015</td>\n",
       "      <td>0.850899</td>\n",
       "    </tr>\n",
       "    <tr>\n",
       "      <th>Neural Network-1</th>\n",
       "      <td>0.954244</td>\n",
       "      <td>1136.0</td>\n",
       "      <td>7790.0</td>\n",
       "      <td>195.0</td>\n",
       "      <td>233.0</td>\n",
       "      <td>0.024421</td>\n",
       "      <td>0.170197</td>\n",
       "      <td>0.897015</td>\n",
       "      <td>0.814861</td>\n",
       "    </tr>\n",
       "  </tbody>\n",
       "</table>\n",
       "</div>"
      ],
      "text/plain": [
       "                            accuracy      TP      TN     FP     FN       FPR  \\\n",
       "index                                                                          \n",
       "KNeighborsClassifier        0.958414  1006.0  7959.0   26.0  363.0  0.003256   \n",
       "LogisticRegression          0.951785  1033.0  7870.0  115.0  336.0  0.014402   \n",
       "RandomForestClassifier      0.964935  1093.0  7933.0   52.0  276.0  0.006512   \n",
       "AdaBoostClassifier          0.949861  1018.0  7867.0  118.0  351.0  0.014778   \n",
       "GradientBoostingClassifier  0.957238  1068.0  7886.0   99.0  301.0  0.012398   \n",
       "ExtraTreeClassifier         0.965149  1095.0  7933.0   52.0  274.0  0.006512   \n",
       "BaggingClassifier           0.964186  1098.0  7921.0   64.0  271.0  0.008015   \n",
       "Neural Network-1            0.954244  1136.0  7790.0  195.0  233.0  0.024421   \n",
       "\n",
       "                                 FNR       auc       MCC  \n",
       "index                                                     \n",
       "KNeighborsClassifier        0.265157  0.865793  0.825375  \n",
       "LogisticRegression          0.245435  0.870082  0.797315  \n",
       "RandomForestClassifier      0.201607  0.895940  0.853987  \n",
       "AdaBoostClassifier          0.256392  0.864415  0.788667  \n",
       "GradientBoostingClassifier  0.219869  0.883867  0.821205  \n",
       "ExtraTreeClassifier         0.200146  0.896671  0.854920  \n",
       "BaggingClassifier           0.197955  0.897015  0.850899  \n",
       "Neural Network-1            0.170197  0.897015  0.814861  "
      ]
     },
     "metadata": {},
     "output_type": "display_data"
    }
   ],
   "source": [
    "table_80_50_train['index']=ind_columns\n",
    "table_80_50_test['index']=ind_columns\n",
    "\n",
    "\n",
    "table_80_50_test.set_index(['index'],drop=True,inplace=True)\n",
    "table_80_50_train.set_index(['index'],drop=True,inplace=True)\n",
    "\n",
    "print(\"Training Results\")\n",
    "display(table_80_50_train)\n",
    "print(\"Test Results\")\n",
    "display(table_80_50_test)"
   ]
  },
  {
   "cell_type": "markdown",
   "metadata": {},
   "source": [
    "### <a id='1.B' style=\"text-decoration : none; color : #000000;\"> B. Average Feature Importances</a>"
   ]
  },
  {
   "cell_type": "code",
   "execution_count": 34,
   "metadata": {},
   "outputs": [
    {
     "data": {
      "application/vnd.plotly.v1+json": {
       "config": {
        "linkText": "Export to plot.ly",
        "plotlyServerURL": "https://plot.ly",
        "showLink": true
       },
       "data": [
        {
         "marker": {
          "color": "rgb(158,202,225)",
          "line": {
           "color": "rgb(8,48,107)",
           "width": 1.5
          }
         },
         "opacity": 0.6,
         "orientation": "h",
         "text": [
          0.1942,
          0.173,
          0.0679,
          0.0591,
          0.056,
          0.0492,
          0.0415,
          0.0351,
          0.0256,
          0.0238,
          0.0223,
          0.0148,
          0.0143,
          0.0141,
          0.0124,
          0.0117,
          0.0113,
          0.0111,
          0.0107,
          0.0107,
          0.0105,
          0.0103,
          0.0102,
          0.0095,
          0.0094,
          0.0092,
          0.0082,
          0.0078,
          0.0071,
          0.0066,
          0.006,
          0.006,
          0.0059,
          0.0056,
          0.0052,
          0.0051,
          0.0048,
          0.0041,
          0.0035,
          0.0031,
          0.0029
         ],
         "textposition": "outside",
         "type": "bar",
         "uid": "0d0deaa6-bb58-4999-9a5c-b112c49e6a4c",
         "x": [
          0.19423494081241519,
          0.17302608233663258,
          0.06790548229048218,
          0.05913182831376549,
          0.056001389900815934,
          0.04916963265781933,
          0.041481224937682554,
          0.03514989270937765,
          0.0255815917241113,
          0.023848021849236536,
          0.02226529505245453,
          0.014849337338778142,
          0.01429729641631013,
          0.014058665526635475,
          0.012422485216305092,
          0.01173193625996314,
          0.01129982479402626,
          0.011083357845283099,
          0.010716004069836867,
          0.01068309735306403,
          0.010458933868978566,
          0.010304288084565658,
          0.010204440118769517,
          0.009487631213500845,
          0.009416982265919912,
          0.009243647360031528,
          0.008162900281434076,
          0.00783603621209445,
          0.007106197861878105,
          0.0065937919088611355,
          0.006016196374281951,
          0.005976779331429765,
          0.005905352307589025,
          0.005631485848225211,
          0.0052311202722359895,
          0.005062596315208183,
          0.0047790545033289875,
          0.004134356054146053,
          0.0034764574351359287,
          0.0031169857544464203,
          0.0029173792229431478
         ],
         "y": [
          "url_extensions",
          "url_length",
          "url_char_w",
          "url_char_.",
          "url_number_consonants",
          "url_number_digits",
          "url_tlds",
          "url_char_z",
          "url_extension_.com",
          "url_words_with_length_4",
          "url_number_vowels",
          "url_char_i",
          "url_char_y",
          "url_char_b",
          "url_char_o",
          "url_char_l",
          "url_char_p",
          "url_char_r",
          "url_char_m",
          "url_char_n",
          "url_char_t",
          "url_char_f",
          "url_char_e",
          "url_char_g",
          "url_char_h",
          "url_char_x",
          "url_char_j",
          "url_extension_.i",
          "url_char_s",
          "url_extension_.net",
          "url_char_a",
          "url_char_c",
          "url_char_u",
          "url_words_with_length_5",
          "url_char_d",
          "url_char_k",
          "url_words_with_length_6",
          "url_words_with_length_7",
          "url_char_v",
          "url_char_-",
          "url_words_with_length_8"
         ]
        }
       ],
       "layout": {
        "autosize": false,
        "height": 1000,
        "width": 1000,
        "xaxis": {
         "tickfont": {
          "color": "black",
          "size": 12
         },
         "title": "Feature Importances"
        },
        "yaxis": {
         "automargin": true
        }
       }
      },
      "text/html": [
       "<div id=\"2133419d-b78e-47c9-a987-aa10b376302d\" style=\"height: 1000px; width: 1000px;\" class=\"plotly-graph-div\"></div><script type=\"text/javascript\">require([\"plotly\"], function(Plotly) { window.PLOTLYENV=window.PLOTLYENV || {};window.PLOTLYENV.BASE_URL=\"https://plot.ly\";Plotly.newPlot(\"2133419d-b78e-47c9-a987-aa10b376302d\", [{\"marker\": {\"color\": \"rgb(158,202,225)\", \"line\": {\"color\": \"rgb(8,48,107)\", \"width\": 1.5}}, \"opacity\": 0.6, \"orientation\": \"h\", \"text\": [0.1942, 0.173, 0.0679, 0.0591, 0.056, 0.0492, 0.0415, 0.0351, 0.0256, 0.0238, 0.0223, 0.0148, 0.0143, 0.0141, 0.0124, 0.0117, 0.0113, 0.0111, 0.0107, 0.0107, 0.0105, 0.0103, 0.0102, 0.0095, 0.0094, 0.0092, 0.0082, 0.0078, 0.0071, 0.0066, 0.006, 0.006, 0.0059, 0.0056, 0.0052, 0.0051, 0.0048, 0.0041, 0.0035, 0.0031, 0.0029], \"textposition\": \"outside\", \"x\": [0.19423494081241519, 0.17302608233663258, 0.06790548229048218, 0.05913182831376549, 0.056001389900815934, 0.04916963265781933, 0.041481224937682554, 0.03514989270937765, 0.0255815917241113, 0.023848021849236536, 0.02226529505245453, 0.014849337338778142, 0.01429729641631013, 0.014058665526635475, 0.012422485216305092, 0.01173193625996314, 0.01129982479402626, 0.011083357845283099, 0.010716004069836867, 0.01068309735306403, 0.010458933868978566, 0.010304288084565658, 0.010204440118769517, 0.009487631213500845, 0.009416982265919912, 0.009243647360031528, 0.008162900281434076, 0.00783603621209445, 0.007106197861878105, 0.0065937919088611355, 0.006016196374281951, 0.005976779331429765, 0.005905352307589025, 0.005631485848225211, 0.0052311202722359895, 0.005062596315208183, 0.0047790545033289875, 0.004134356054146053, 0.0034764574351359287, 0.0031169857544464203, 0.0029173792229431478], \"y\": [\"url_extensions\", \"url_length\", \"url_char_w\", \"url_char_.\", \"url_number_consonants\", \"url_number_digits\", \"url_tlds\", \"url_char_z\", \"url_extension_.com\", \"url_words_with_length_4\", \"url_number_vowels\", \"url_char_i\", \"url_char_y\", \"url_char_b\", \"url_char_o\", \"url_char_l\", \"url_char_p\", \"url_char_r\", \"url_char_m\", \"url_char_n\", \"url_char_t\", \"url_char_f\", \"url_char_e\", \"url_char_g\", \"url_char_h\", \"url_char_x\", \"url_char_j\", \"url_extension_.i\", \"url_char_s\", \"url_extension_.net\", \"url_char_a\", \"url_char_c\", \"url_char_u\", \"url_words_with_length_5\", \"url_char_d\", \"url_char_k\", \"url_words_with_length_6\", \"url_words_with_length_7\", \"url_char_v\", \"url_char_-\", \"url_words_with_length_8\"], \"type\": \"bar\", \"uid\": \"0d0deaa6-bb58-4999-9a5c-b112c49e6a4c\"}], {\"autosize\": false, \"height\": 1000, \"width\": 1000, \"xaxis\": {\"tickfont\": {\"color\": \"black\", \"size\": 12}, \"title\": \"Feature Importances\"}, \"yaxis\": {\"automargin\": true}}, {\"showLink\": true, \"linkText\": \"Export to plot.ly\", \"plotlyServerURL\": \"https://plot.ly\"})});</script>"
      ],
      "text/vnd.plotly.v1+html": [
       "<div id=\"2133419d-b78e-47c9-a987-aa10b376302d\" style=\"height: 1000px; width: 1000px;\" class=\"plotly-graph-div\"></div><script type=\"text/javascript\">require([\"plotly\"], function(Plotly) { window.PLOTLYENV=window.PLOTLYENV || {};window.PLOTLYENV.BASE_URL=\"https://plot.ly\";Plotly.newPlot(\"2133419d-b78e-47c9-a987-aa10b376302d\", [{\"marker\": {\"color\": \"rgb(158,202,225)\", \"line\": {\"color\": \"rgb(8,48,107)\", \"width\": 1.5}}, \"opacity\": 0.6, \"orientation\": \"h\", \"text\": [0.1942, 0.173, 0.0679, 0.0591, 0.056, 0.0492, 0.0415, 0.0351, 0.0256, 0.0238, 0.0223, 0.0148, 0.0143, 0.0141, 0.0124, 0.0117, 0.0113, 0.0111, 0.0107, 0.0107, 0.0105, 0.0103, 0.0102, 0.0095, 0.0094, 0.0092, 0.0082, 0.0078, 0.0071, 0.0066, 0.006, 0.006, 0.0059, 0.0056, 0.0052, 0.0051, 0.0048, 0.0041, 0.0035, 0.0031, 0.0029], \"textposition\": \"outside\", \"x\": [0.19423494081241519, 0.17302608233663258, 0.06790548229048218, 0.05913182831376549, 0.056001389900815934, 0.04916963265781933, 0.041481224937682554, 0.03514989270937765, 0.0255815917241113, 0.023848021849236536, 0.02226529505245453, 0.014849337338778142, 0.01429729641631013, 0.014058665526635475, 0.012422485216305092, 0.01173193625996314, 0.01129982479402626, 0.011083357845283099, 0.010716004069836867, 0.01068309735306403, 0.010458933868978566, 0.010304288084565658, 0.010204440118769517, 0.009487631213500845, 0.009416982265919912, 0.009243647360031528, 0.008162900281434076, 0.00783603621209445, 0.007106197861878105, 0.0065937919088611355, 0.006016196374281951, 0.005976779331429765, 0.005905352307589025, 0.005631485848225211, 0.0052311202722359895, 0.005062596315208183, 0.0047790545033289875, 0.004134356054146053, 0.0034764574351359287, 0.0031169857544464203, 0.0029173792229431478], \"y\": [\"url_extensions\", \"url_length\", \"url_char_w\", \"url_char_.\", \"url_number_consonants\", \"url_number_digits\", \"url_tlds\", \"url_char_z\", \"url_extension_.com\", \"url_words_with_length_4\", \"url_number_vowels\", \"url_char_i\", \"url_char_y\", \"url_char_b\", \"url_char_o\", \"url_char_l\", \"url_char_p\", \"url_char_r\", \"url_char_m\", \"url_char_n\", \"url_char_t\", \"url_char_f\", \"url_char_e\", \"url_char_g\", \"url_char_h\", \"url_char_x\", \"url_char_j\", \"url_extension_.i\", \"url_char_s\", \"url_extension_.net\", \"url_char_a\", \"url_char_c\", \"url_char_u\", \"url_words_with_length_5\", \"url_char_d\", \"url_char_k\", \"url_words_with_length_6\", \"url_words_with_length_7\", \"url_char_v\", \"url_char_-\", \"url_words_with_length_8\"], \"type\": \"bar\", \"uid\": \"0d0deaa6-bb58-4999-9a5c-b112c49e6a4c\"}], {\"autosize\": false, \"height\": 1000, \"width\": 1000, \"xaxis\": {\"tickfont\": {\"color\": \"black\", \"size\": 12}, \"title\": \"Feature Importances\"}, \"yaxis\": {\"automargin\": true}}, {\"showLink\": true, \"linkText\": \"Export to plot.ly\", \"plotlyServerURL\": \"https://plot.ly\"})});</script>"
      ]
     },
     "metadata": {},
     "output_type": "display_data"
    }
   ],
   "source": [
    "feat_impt_plot(np.average(feat_imp,axis=0),columns)"
   ]
  },
  {
   "cell_type": "markdown",
   "metadata": {},
   "source": [
    "### <a id='2' style=\"text-decoration : none; color : #000000;\"> 2. OverSampling </a>"
   ]
  },
  {
   "cell_type": "code",
   "execution_count": 35,
   "metadata": {},
   "outputs": [
    {
     "name": "stderr",
     "output_type": "stream",
     "text": [
      "/nethomes/darshan/anaconda3/lib/python3.6/site-packages/sklearn/utils/deprecation.py:77: DeprecationWarning:\n",
      "\n",
      "Function _ratio_float is deprecated; Use a float for 'ratio' is deprecated from version 0.2. The support will be removed in 0.4. Use a dict, str, or a callable instead.\n",
      "\n"
     ]
    }
   ],
   "source": [
    "sm = SMOTE(random_state=12, ratio = 1.0)\n",
    "X_train, Y_train = sm.fit_sample(scaled_X_train,train_Y)"
   ]
  },
  {
   "cell_type": "code",
   "execution_count": 36,
   "metadata": {
    "collapsed": true
   },
   "outputs": [],
   "source": [
    "## Table to store training and test measures so we can compare later\n",
    "table_80_80_train=pd.DataFrame(columns=['accuracy','TP','TN','FP','FN','FPR','FNR'])\n",
    "table_80_80_test=pd.DataFrame(columns=['accuracy','TP','TN','FP','FN','FPR','FNR','auc','mcc'])"
   ]
  },
  {
   "cell_type": "code",
   "execution_count": 37,
   "metadata": {
    "scrolled": false
   },
   "outputs": [
    {
     "name": "stdout",
     "output_type": "stream",
     "text": [
      "\u001b[1mK-Nearest Neighbors\u001b[0m\n",
      "Accuracy of the model for training data is: 0.976091182742\n",
      "Confusion Matrix for training data is:\n"
     ]
    },
    {
     "data": {
      "text/plain": [
       "Predicted  False   True  __all__\n",
       "Actual                          \n",
       "False      30398   1494    31892\n",
       "True          31  31861    31892\n",
       "__all__    30429  33355    63784"
      ]
     },
     "metadata": {},
     "output_type": "display_data"
    },
    {
     "name": "stdout",
     "output_type": "stream",
     "text": [
      "Accuracy of the model for test data is: 0.917361556553\n",
      "Confusion Matrix for test data is:\n"
     ]
    },
    {
     "data": {
      "text/plain": [
       "Predicted  False  True  __all__\n",
       "Actual                         \n",
       "False       7398   587     7985\n",
       "True         186  1183     1369\n",
       "__all__     7584  1770     9354"
      ]
     },
     "metadata": {},
     "output_type": "display_data"
    },
    {
     "name": "stdout",
     "output_type": "stream",
     "text": [
      "\n",
      "\n",
      "\u001b[1mLogistic Regression\u001b[0m\n",
      "Accuracy of the model for training data is: 0.898673648564\n",
      "Confusion Matrix for training data is:\n"
     ]
    },
    {
     "data": {
      "text/plain": [
       "Predicted  False   True  __all__\n",
       "Actual                          \n",
       "False      29636   2256    31892\n",
       "True        4207  27685    31892\n",
       "__all__    33843  29941    63784"
      ]
     },
     "metadata": {},
     "output_type": "display_data"
    },
    {
     "name": "stdout",
     "output_type": "stream",
     "text": [
      "Accuracy of the model for test data is: 0.922706863374\n",
      "Confusion Matrix for test data is:\n"
     ]
    },
    {
     "data": {
      "text/plain": [
       "Predicted  False  True  __all__\n",
       "Actual                         \n",
       "False       7422   563     7985\n",
       "True         160  1209     1369\n",
       "__all__     7582  1772     9354"
      ]
     },
     "metadata": {},
     "output_type": "display_data"
    },
    {
     "name": "stdout",
     "output_type": "stream",
     "text": [
      "\n",
      "\n",
      "\u001b[1mRandomForest Classifier\u001b[0m\n",
      "Accuracy of the model for training data is: 0.997946193403\n",
      "Confusion Matrix for training data is:\n"
     ]
    },
    {
     "data": {
      "text/plain": [
       "Predicted  False   True  __all__\n",
       "Actual                          \n",
       "False      31884      8    31892\n",
       "True         123  31769    31892\n",
       "__all__    32007  31777    63784"
      ]
     },
     "metadata": {},
     "output_type": "display_data"
    },
    {
     "name": "stdout",
     "output_type": "stream",
     "text": [
      "Accuracy of the model for test data is: 0.962369039983\n",
      "Confusion Matrix for test data is:\n"
     ]
    },
    {
     "data": {
      "text/plain": [
       "Predicted  False  True  __all__\n",
       "Actual                         \n",
       "False       7889    96     7985\n",
       "True         256  1113     1369\n",
       "__all__     8145  1209     9354"
      ]
     },
     "metadata": {},
     "output_type": "display_data"
    },
    {
     "data": {
      "application/vnd.plotly.v1+json": {
       "config": {
        "linkText": "Export to plot.ly",
        "plotlyServerURL": "https://plot.ly",
        "showLink": true
       },
       "data": [
        {
         "marker": {
          "color": "rgb(158,202,225)",
          "line": {
           "color": "rgb(8,48,107)",
           "width": 1.5
          }
         },
         "opacity": 0.6,
         "orientation": "h",
         "text": [
          0.2021,
          0.1196,
          0.1056,
          0.0608,
          0.0519,
          0.0496,
          0.0389,
          0.0319,
          0.0307,
          0.0226,
          0.0171,
          0.0166,
          0.0166,
          0.0158,
          0.0157,
          0.0152,
          0.0148,
          0.0125,
          0.0125,
          0.0121,
          0.0114,
          0.0111,
          0.011,
          0.0104,
          0.0103,
          0.0098,
          0.0093,
          0.0087,
          0.0073,
          0.0068,
          0.0061,
          0.0057,
          0.0048,
          0.0045,
          0.0041,
          0.004,
          0.0035,
          0.0034,
          0.0025,
          0.0014,
          0.0013
         ],
         "textposition": "outside",
         "type": "bar",
         "uid": "d6ab5333-b359-4c36-8963-52307bba2a4a",
         "x": [
          0.20211506215383412,
          0.11957256563941746,
          0.10561605883043068,
          0.06082224674330709,
          0.051889933020963855,
          0.049575842521273394,
          0.038949485907462056,
          0.03194565537593101,
          0.030745965453488046,
          0.02262124757653592,
          0.017053925271018833,
          0.016570050286859598,
          0.016554674435349352,
          0.01577249495563118,
          0.01572393724246419,
          0.015220411731468361,
          0.014755571578400887,
          0.012537198736964688,
          0.012477356019057353,
          0.012106958839324477,
          0.011422075350498679,
          0.011115893618379901,
          0.011036106618330184,
          0.01035516229892779,
          0.01031609028127597,
          0.009771929557639995,
          0.009263090014273789,
          0.008733462043222699,
          0.007257852379733867,
          0.0067931040984610894,
          0.006051177611507052,
          0.005749280002776446,
          0.004768946640959412,
          0.004483729365506344,
          0.004132427677622584,
          0.0040212797406663225,
          0.0035197536814391994,
          0.0033725107213583316,
          0.0025112135735283103,
          0.0014475441257166158,
          0.001250728278992833
         ],
         "y": [
          "url_extensions",
          "url_number_consonants",
          "url_char_.",
          "url_number_digits",
          "url_number_vowels",
          "url_length",
          "url_char_i",
          "url_char_o",
          "url_tlds",
          "url_char_w",
          "url_char_c",
          "url_char_b",
          "url_char_y",
          "url_char_l",
          "url_words_with_length_4",
          "url_char_z",
          "url_words_with_length_5",
          "url_char_u",
          "url_char_e",
          "url_char_t",
          "url_char_r",
          "url_words_with_length_7",
          "url_char_s",
          "url_char_n",
          "url_char_a",
          "url_char_d",
          "url_extension_.com",
          "url_char_m",
          "url_char_p",
          "url_char_f",
          "url_char_g",
          "url_char_x",
          "url_char_h",
          "url_char_k",
          "url_words_with_length_6",
          "url_char_-",
          "url_extension_.i",
          "url_char_v",
          "url_char_j",
          "url_words_with_length_8",
          "url_extension_.net"
         ]
        }
       ],
       "layout": {
        "autosize": false,
        "height": 1000,
        "width": 1000,
        "xaxis": {
         "tickfont": {
          "color": "black",
          "size": 12
         },
         "title": "Feature Importances"
        },
        "yaxis": {
         "automargin": true
        }
       }
      },
      "text/html": [
       "<div id=\"0c768f57-8658-4741-8465-9349bd897911\" style=\"height: 1000px; width: 1000px;\" class=\"plotly-graph-div\"></div><script type=\"text/javascript\">require([\"plotly\"], function(Plotly) { window.PLOTLYENV=window.PLOTLYENV || {};window.PLOTLYENV.BASE_URL=\"https://plot.ly\";Plotly.newPlot(\"0c768f57-8658-4741-8465-9349bd897911\", [{\"marker\": {\"color\": \"rgb(158,202,225)\", \"line\": {\"color\": \"rgb(8,48,107)\", \"width\": 1.5}}, \"opacity\": 0.6, \"orientation\": \"h\", \"text\": [0.2021, 0.1196, 0.1056, 0.0608, 0.0519, 0.0496, 0.0389, 0.0319, 0.0307, 0.0226, 0.0171, 0.0166, 0.0166, 0.0158, 0.0157, 0.0152, 0.0148, 0.0125, 0.0125, 0.0121, 0.0114, 0.0111, 0.011, 0.0104, 0.0103, 0.0098, 0.0093, 0.0087, 0.0073, 0.0068, 0.0061, 0.0057, 0.0048, 0.0045, 0.0041, 0.004, 0.0035, 0.0034, 0.0025, 0.0014, 0.0013], \"textposition\": \"outside\", \"x\": [0.20211506215383412, 0.11957256563941746, 0.10561605883043068, 0.06082224674330709, 0.051889933020963855, 0.049575842521273394, 0.038949485907462056, 0.03194565537593101, 0.030745965453488046, 0.02262124757653592, 0.017053925271018833, 0.016570050286859598, 0.016554674435349352, 0.01577249495563118, 0.01572393724246419, 0.015220411731468361, 0.014755571578400887, 0.012537198736964688, 0.012477356019057353, 0.012106958839324477, 0.011422075350498679, 0.011115893618379901, 0.011036106618330184, 0.01035516229892779, 0.01031609028127597, 0.009771929557639995, 0.009263090014273789, 0.008733462043222699, 0.007257852379733867, 0.0067931040984610894, 0.006051177611507052, 0.005749280002776446, 0.004768946640959412, 0.004483729365506344, 0.004132427677622584, 0.0040212797406663225, 0.0035197536814391994, 0.0033725107213583316, 0.0025112135735283103, 0.0014475441257166158, 0.001250728278992833], \"y\": [\"url_extensions\", \"url_number_consonants\", \"url_char_.\", \"url_number_digits\", \"url_number_vowels\", \"url_length\", \"url_char_i\", \"url_char_o\", \"url_tlds\", \"url_char_w\", \"url_char_c\", \"url_char_b\", \"url_char_y\", \"url_char_l\", \"url_words_with_length_4\", \"url_char_z\", \"url_words_with_length_5\", \"url_char_u\", \"url_char_e\", \"url_char_t\", \"url_char_r\", \"url_words_with_length_7\", \"url_char_s\", \"url_char_n\", \"url_char_a\", \"url_char_d\", \"url_extension_.com\", \"url_char_m\", \"url_char_p\", \"url_char_f\", \"url_char_g\", \"url_char_x\", \"url_char_h\", \"url_char_k\", \"url_words_with_length_6\", \"url_char_-\", \"url_extension_.i\", \"url_char_v\", \"url_char_j\", \"url_words_with_length_8\", \"url_extension_.net\"], \"type\": \"bar\", \"uid\": \"d6ab5333-b359-4c36-8963-52307bba2a4a\"}], {\"autosize\": false, \"height\": 1000, \"width\": 1000, \"xaxis\": {\"tickfont\": {\"color\": \"black\", \"size\": 12}, \"title\": \"Feature Importances\"}, \"yaxis\": {\"automargin\": true}}, {\"showLink\": true, \"linkText\": \"Export to plot.ly\", \"plotlyServerURL\": \"https://plot.ly\"})});</script>"
      ],
      "text/vnd.plotly.v1+html": [
       "<div id=\"0c768f57-8658-4741-8465-9349bd897911\" style=\"height: 1000px; width: 1000px;\" class=\"plotly-graph-div\"></div><script type=\"text/javascript\">require([\"plotly\"], function(Plotly) { window.PLOTLYENV=window.PLOTLYENV || {};window.PLOTLYENV.BASE_URL=\"https://plot.ly\";Plotly.newPlot(\"0c768f57-8658-4741-8465-9349bd897911\", [{\"marker\": {\"color\": \"rgb(158,202,225)\", \"line\": {\"color\": \"rgb(8,48,107)\", \"width\": 1.5}}, \"opacity\": 0.6, \"orientation\": \"h\", \"text\": [0.2021, 0.1196, 0.1056, 0.0608, 0.0519, 0.0496, 0.0389, 0.0319, 0.0307, 0.0226, 0.0171, 0.0166, 0.0166, 0.0158, 0.0157, 0.0152, 0.0148, 0.0125, 0.0125, 0.0121, 0.0114, 0.0111, 0.011, 0.0104, 0.0103, 0.0098, 0.0093, 0.0087, 0.0073, 0.0068, 0.0061, 0.0057, 0.0048, 0.0045, 0.0041, 0.004, 0.0035, 0.0034, 0.0025, 0.0014, 0.0013], \"textposition\": \"outside\", \"x\": [0.20211506215383412, 0.11957256563941746, 0.10561605883043068, 0.06082224674330709, 0.051889933020963855, 0.049575842521273394, 0.038949485907462056, 0.03194565537593101, 0.030745965453488046, 0.02262124757653592, 0.017053925271018833, 0.016570050286859598, 0.016554674435349352, 0.01577249495563118, 0.01572393724246419, 0.015220411731468361, 0.014755571578400887, 0.012537198736964688, 0.012477356019057353, 0.012106958839324477, 0.011422075350498679, 0.011115893618379901, 0.011036106618330184, 0.01035516229892779, 0.01031609028127597, 0.009771929557639995, 0.009263090014273789, 0.008733462043222699, 0.007257852379733867, 0.0067931040984610894, 0.006051177611507052, 0.005749280002776446, 0.004768946640959412, 0.004483729365506344, 0.004132427677622584, 0.0040212797406663225, 0.0035197536814391994, 0.0033725107213583316, 0.0025112135735283103, 0.0014475441257166158, 0.001250728278992833], \"y\": [\"url_extensions\", \"url_number_consonants\", \"url_char_.\", \"url_number_digits\", \"url_number_vowels\", \"url_length\", \"url_char_i\", \"url_char_o\", \"url_tlds\", \"url_char_w\", \"url_char_c\", \"url_char_b\", \"url_char_y\", \"url_char_l\", \"url_words_with_length_4\", \"url_char_z\", \"url_words_with_length_5\", \"url_char_u\", \"url_char_e\", \"url_char_t\", \"url_char_r\", \"url_words_with_length_7\", \"url_char_s\", \"url_char_n\", \"url_char_a\", \"url_char_d\", \"url_extension_.com\", \"url_char_m\", \"url_char_p\", \"url_char_f\", \"url_char_g\", \"url_char_x\", \"url_char_h\", \"url_char_k\", \"url_words_with_length_6\", \"url_char_-\", \"url_extension_.i\", \"url_char_v\", \"url_char_j\", \"url_words_with_length_8\", \"url_extension_.net\"], \"type\": \"bar\", \"uid\": \"d6ab5333-b359-4c36-8963-52307bba2a4a\"}], {\"autosize\": false, \"height\": 1000, \"width\": 1000, \"xaxis\": {\"tickfont\": {\"color\": \"black\", \"size\": 12}, \"title\": \"Feature Importances\"}, \"yaxis\": {\"automargin\": true}}, {\"showLink\": true, \"linkText\": \"Export to plot.ly\", \"plotlyServerURL\": \"https://plot.ly\"})});</script>"
      ]
     },
     "metadata": {},
     "output_type": "display_data"
    },
    {
     "name": "stdout",
     "output_type": "stream",
     "text": [
      "\n",
      "\n",
      "\u001b[1mAdaoost Classifier\u001b[0m\n",
      "Accuracy of the model for training data is: 0.94028282955\n",
      "Confusion Matrix for training data is:\n"
     ]
    },
    {
     "data": {
      "text/plain": [
       "Predicted  False   True  __all__\n",
       "Actual                          \n",
       "False      30486   1406    31892\n",
       "True        2403  29489    31892\n",
       "__all__    32889  30895    63784"
      ]
     },
     "metadata": {},
     "output_type": "display_data"
    },
    {
     "name": "stdout",
     "output_type": "stream",
     "text": [
      "Accuracy of the model for test data is: 0.932221509515\n",
      "Confusion Matrix for test data is:\n"
     ]
    },
    {
     "data": {
      "text/plain": [
       "Predicted  False  True  __all__\n",
       "Actual                         \n",
       "False       7605   380     7985\n",
       "True         254  1115     1369\n",
       "__all__     7859  1495     9354"
      ]
     },
     "metadata": {},
     "output_type": "display_data"
    },
    {
     "data": {
      "application/vnd.plotly.v1+json": {
       "config": {
        "linkText": "Export to plot.ly",
        "plotlyServerURL": "https://plot.ly",
        "showLink": true
       },
       "data": [
        {
         "marker": {
          "color": "rgb(158,202,225)",
          "line": {
           "color": "rgb(8,48,107)",
           "width": 1.5
          }
         },
         "opacity": 0.6,
         "orientation": "h",
         "text": [
          0.08,
          0.08,
          0.08,
          0.08,
          0.06,
          0.06,
          0.06,
          0.06,
          0.04,
          0.04,
          0.04,
          0.04,
          0.04,
          0.04,
          0.04,
          0.02,
          0.02,
          0.02,
          0.02,
          0.02,
          0.02,
          0.02,
          0.02,
          0,
          0,
          0,
          0,
          0,
          0,
          0,
          0,
          0,
          0,
          0,
          0,
          0,
          0,
          0,
          0,
          0,
          0
         ],
         "textposition": "outside",
         "type": "bar",
         "uid": "c654e43f-3350-4790-a452-de4b04d6c0ed",
         "x": [
          0.08,
          0.08,
          0.08,
          0.08,
          0.06,
          0.06,
          0.06,
          0.06,
          0.04,
          0.04,
          0.04,
          0.04,
          0.04,
          0.04,
          0.04,
          0.02,
          0.02,
          0.02,
          0.02,
          0.02,
          0.02,
          0.02,
          0.02,
          0,
          0,
          0,
          0,
          0,
          0,
          0,
          0,
          0,
          0,
          0,
          0,
          0,
          0,
          0,
          0,
          0,
          0
         ],
         "y": [
          "url_char_t",
          "url_length",
          "url_char_s",
          "url_char_r",
          "url_char_l",
          "url_char_d",
          "url_char_w",
          "url_char_p",
          "url_words_with_length_4",
          "url_extensions",
          "url_char_y",
          "url_char_u",
          "url_char_o",
          "url_number_digits",
          "url_char_i",
          "url_extension_.com",
          "url_char_b",
          "url_char_h",
          "url_char_f",
          "url_char_e",
          "url_char_z",
          "url_tlds",
          "url_extension_.net",
          "url_number_consonants",
          "url_number_vowels",
          "url_words_with_length_8",
          "url_words_with_length_7",
          "url_words_with_length_6",
          "url_words_with_length_5",
          "url_char_a",
          "url_char_m",
          "url_char_c",
          "url_extension_.i",
          "url_char_n",
          "url_char_x",
          "url_char_v",
          "url_char_g",
          "url_char_.",
          "url_char_j",
          "url_char_k",
          "url_char_-"
         ]
        }
       ],
       "layout": {
        "autosize": false,
        "height": 1000,
        "width": 1000,
        "xaxis": {
         "tickfont": {
          "color": "black",
          "size": 12
         },
         "title": "Feature Importances"
        },
        "yaxis": {
         "automargin": true
        }
       }
      },
      "text/html": [
       "<div id=\"8d31dc8f-deb7-4fc1-b312-b06ec140a6fc\" style=\"height: 1000px; width: 1000px;\" class=\"plotly-graph-div\"></div><script type=\"text/javascript\">require([\"plotly\"], function(Plotly) { window.PLOTLYENV=window.PLOTLYENV || {};window.PLOTLYENV.BASE_URL=\"https://plot.ly\";Plotly.newPlot(\"8d31dc8f-deb7-4fc1-b312-b06ec140a6fc\", [{\"marker\": {\"color\": \"rgb(158,202,225)\", \"line\": {\"color\": \"rgb(8,48,107)\", \"width\": 1.5}}, \"opacity\": 0.6, \"orientation\": \"h\", \"text\": [0.08, 0.08, 0.08, 0.08, 0.06, 0.06, 0.06, 0.06, 0.04, 0.04, 0.04, 0.04, 0.04, 0.04, 0.04, 0.02, 0.02, 0.02, 0.02, 0.02, 0.02, 0.02, 0.02, 0.0, 0.0, 0.0, 0.0, 0.0, 0.0, 0.0, 0.0, 0.0, 0.0, 0.0, 0.0, 0.0, 0.0, 0.0, 0.0, 0.0, 0.0], \"textposition\": \"outside\", \"x\": [0.08, 0.08, 0.08, 0.08, 0.06, 0.06, 0.06, 0.06, 0.04, 0.04, 0.04, 0.04, 0.04, 0.04, 0.04, 0.02, 0.02, 0.02, 0.02, 0.02, 0.02, 0.02, 0.02, 0.0, 0.0, 0.0, 0.0, 0.0, 0.0, 0.0, 0.0, 0.0, 0.0, 0.0, 0.0, 0.0, 0.0, 0.0, 0.0, 0.0, 0.0], \"y\": [\"url_char_t\", \"url_length\", \"url_char_s\", \"url_char_r\", \"url_char_l\", \"url_char_d\", \"url_char_w\", \"url_char_p\", \"url_words_with_length_4\", \"url_extensions\", \"url_char_y\", \"url_char_u\", \"url_char_o\", \"url_number_digits\", \"url_char_i\", \"url_extension_.com\", \"url_char_b\", \"url_char_h\", \"url_char_f\", \"url_char_e\", \"url_char_z\", \"url_tlds\", \"url_extension_.net\", \"url_number_consonants\", \"url_number_vowels\", \"url_words_with_length_8\", \"url_words_with_length_7\", \"url_words_with_length_6\", \"url_words_with_length_5\", \"url_char_a\", \"url_char_m\", \"url_char_c\", \"url_extension_.i\", \"url_char_n\", \"url_char_x\", \"url_char_v\", \"url_char_g\", \"url_char_.\", \"url_char_j\", \"url_char_k\", \"url_char_-\"], \"type\": \"bar\", \"uid\": \"c654e43f-3350-4790-a452-de4b04d6c0ed\"}], {\"autosize\": false, \"height\": 1000, \"width\": 1000, \"xaxis\": {\"tickfont\": {\"color\": \"black\", \"size\": 12}, \"title\": \"Feature Importances\"}, \"yaxis\": {\"automargin\": true}}, {\"showLink\": true, \"linkText\": \"Export to plot.ly\", \"plotlyServerURL\": \"https://plot.ly\"})});</script>"
      ],
      "text/vnd.plotly.v1+html": [
       "<div id=\"8d31dc8f-deb7-4fc1-b312-b06ec140a6fc\" style=\"height: 1000px; width: 1000px;\" class=\"plotly-graph-div\"></div><script type=\"text/javascript\">require([\"plotly\"], function(Plotly) { window.PLOTLYENV=window.PLOTLYENV || {};window.PLOTLYENV.BASE_URL=\"https://plot.ly\";Plotly.newPlot(\"8d31dc8f-deb7-4fc1-b312-b06ec140a6fc\", [{\"marker\": {\"color\": \"rgb(158,202,225)\", \"line\": {\"color\": \"rgb(8,48,107)\", \"width\": 1.5}}, \"opacity\": 0.6, \"orientation\": \"h\", \"text\": [0.08, 0.08, 0.08, 0.08, 0.06, 0.06, 0.06, 0.06, 0.04, 0.04, 0.04, 0.04, 0.04, 0.04, 0.04, 0.02, 0.02, 0.02, 0.02, 0.02, 0.02, 0.02, 0.02, 0.0, 0.0, 0.0, 0.0, 0.0, 0.0, 0.0, 0.0, 0.0, 0.0, 0.0, 0.0, 0.0, 0.0, 0.0, 0.0, 0.0, 0.0], \"textposition\": \"outside\", \"x\": [0.08, 0.08, 0.08, 0.08, 0.06, 0.06, 0.06, 0.06, 0.04, 0.04, 0.04, 0.04, 0.04, 0.04, 0.04, 0.02, 0.02, 0.02, 0.02, 0.02, 0.02, 0.02, 0.02, 0.0, 0.0, 0.0, 0.0, 0.0, 0.0, 0.0, 0.0, 0.0, 0.0, 0.0, 0.0, 0.0, 0.0, 0.0, 0.0, 0.0, 0.0], \"y\": [\"url_char_t\", \"url_length\", \"url_char_s\", \"url_char_r\", \"url_char_l\", \"url_char_d\", \"url_char_w\", \"url_char_p\", \"url_words_with_length_4\", \"url_extensions\", \"url_char_y\", \"url_char_u\", \"url_char_o\", \"url_number_digits\", \"url_char_i\", \"url_extension_.com\", \"url_char_b\", \"url_char_h\", \"url_char_f\", \"url_char_e\", \"url_char_z\", \"url_tlds\", \"url_extension_.net\", \"url_number_consonants\", \"url_number_vowels\", \"url_words_with_length_8\", \"url_words_with_length_7\", \"url_words_with_length_6\", \"url_words_with_length_5\", \"url_char_a\", \"url_char_m\", \"url_char_c\", \"url_extension_.i\", \"url_char_n\", \"url_char_x\", \"url_char_v\", \"url_char_g\", \"url_char_.\", \"url_char_j\", \"url_char_k\", \"url_char_-\"], \"type\": \"bar\", \"uid\": \"c654e43f-3350-4790-a452-de4b04d6c0ed\"}], {\"autosize\": false, \"height\": 1000, \"width\": 1000, \"xaxis\": {\"tickfont\": {\"color\": \"black\", \"size\": 12}, \"title\": \"Feature Importances\"}, \"yaxis\": {\"automargin\": true}}, {\"showLink\": true, \"linkText\": \"Export to plot.ly\", \"plotlyServerURL\": \"https://plot.ly\"})});</script>"
      ]
     },
     "metadata": {},
     "output_type": "display_data"
    },
    {
     "name": "stdout",
     "output_type": "stream",
     "text": [
      "\n",
      "\n",
      "\u001b[1mGradientBoosting Classifier\u001b[0m\n",
      "Accuracy of the model for training data is: 0.965304778628\n",
      "Confusion Matrix for training data is:\n"
     ]
    },
    {
     "data": {
      "text/plain": [
       "Predicted  False   True  __all__\n",
       "Actual                          \n",
       "False      31092    800    31892\n",
       "True        1413  30479    31892\n",
       "__all__    32505  31279    63784"
      ]
     },
     "metadata": {},
     "output_type": "display_data"
    },
    {
     "name": "stdout",
     "output_type": "stream",
     "text": [
      "Accuracy of the model for test data is: 0.948578148386\n",
      "Confusion Matrix for test data is:\n"
     ]
    },
    {
     "data": {
      "text/plain": [
       "Predicted  False  True  __all__\n",
       "Actual                         \n",
       "False       7762   223     7985\n",
       "True         258  1111     1369\n",
       "__all__     8020  1334     9354"
      ]
     },
     "metadata": {},
     "output_type": "display_data"
    },
    {
     "data": {
      "application/vnd.plotly.v1+json": {
       "config": {
        "linkText": "Export to plot.ly",
        "plotlyServerURL": "https://plot.ly",
        "showLink": true
       },
       "data": [
        {
         "marker": {
          "color": "rgb(158,202,225)",
          "line": {
           "color": "rgb(8,48,107)",
           "width": 1.5
          }
         },
         "opacity": 0.6,
         "orientation": "h",
         "text": [
          0.4316,
          0.2125,
          0.0782,
          0.0642,
          0.0332,
          0.0287,
          0.0275,
          0.0134,
          0.0109,
          0.0105,
          0.0104,
          0.01,
          0.009,
          0.0088,
          0.0077,
          0.0058,
          0.0053,
          0.0053,
          0.0049,
          0.004,
          0.0032,
          0.0028,
          0.0025,
          0.0018,
          0.0017,
          0.0016,
          0.0013,
          0.001,
          0.0005,
          0.0004,
          0.0004,
          0.0003,
          0.0003,
          0.0001,
          0.0001,
          0.0001,
          0,
          0,
          0,
          0,
          0
         ],
         "textposition": "outside",
         "type": "bar",
         "uid": "aea27252-f9f6-4657-b91f-516d1bcd8573",
         "x": [
          0.43156271791502904,
          0.21247805522914281,
          0.07817343985667048,
          0.06422186042295747,
          0.033156598391025235,
          0.028739271280763416,
          0.02752428145901631,
          0.01335550455339212,
          0.010888375760158298,
          0.010513121160778835,
          0.010424105862994484,
          0.010038581092405744,
          0.008962595725073318,
          0.008782646273686804,
          0.007699826991763117,
          0.005751224721889401,
          0.00527473430970892,
          0.005256204870645287,
          0.004929936413488091,
          0.003953702649037178,
          0.0032296021878159106,
          0.0028025230407301817,
          0.0024536517436855153,
          0.001832567337148106,
          0.001716912081647662,
          0.0015993077485263894,
          0.001302377733947374,
          0.0010109642359849118,
          0.0005213685999266612,
          0.0004202838140423826,
          0.00041932908797668727,
          0.00033596267631121713,
          0.00027480085462613067,
          0.00013143316585295878,
          0.0001235664053084226,
          6.186182494698084e-05,
          4.26461307847094e-05,
          3.09620499579522e-05,
          3.0943411534214165e-06,
          0,
          0
         ],
         "y": [
          "url_extensions",
          "url_length",
          "url_char_.",
          "url_number_digits",
          "url_char_i",
          "url_char_z",
          "url_char_w",
          "url_char_b",
          "url_char_d",
          "url_tlds",
          "url_char_c",
          "url_char_o",
          "url_char_m",
          "url_char_s",
          "url_number_consonants",
          "url_char_l",
          "url_char_y",
          "url_words_with_length_4",
          "url_extension_.com",
          "url_char_e",
          "url_char_u",
          "url_char_r",
          "url_char_p",
          "url_char_h",
          "url_char_a",
          "url_char_f",
          "url_char_n",
          "url_words_with_length_5",
          "url_char_g",
          "url_words_with_length_6",
          "url_number_vowels",
          "url_char_t",
          "url_extension_.i",
          "url_words_with_length_7",
          "url_char_-",
          "url_extension_.net",
          "url_char_k",
          "url_char_v",
          "url_char_x",
          "url_words_with_length_8",
          "url_char_j"
         ]
        }
       ],
       "layout": {
        "autosize": false,
        "height": 1000,
        "width": 1000,
        "xaxis": {
         "tickfont": {
          "color": "black",
          "size": 12
         },
         "title": "Feature Importances"
        },
        "yaxis": {
         "automargin": true
        }
       }
      },
      "text/html": [
       "<div id=\"13f8b619-b776-4d37-84f3-527bcc78cb3a\" style=\"height: 1000px; width: 1000px;\" class=\"plotly-graph-div\"></div><script type=\"text/javascript\">require([\"plotly\"], function(Plotly) { window.PLOTLYENV=window.PLOTLYENV || {};window.PLOTLYENV.BASE_URL=\"https://plot.ly\";Plotly.newPlot(\"13f8b619-b776-4d37-84f3-527bcc78cb3a\", [{\"marker\": {\"color\": \"rgb(158,202,225)\", \"line\": {\"color\": \"rgb(8,48,107)\", \"width\": 1.5}}, \"opacity\": 0.6, \"orientation\": \"h\", \"text\": [0.4316, 0.2125, 0.0782, 0.0642, 0.0332, 0.0287, 0.0275, 0.0134, 0.0109, 0.0105, 0.0104, 0.01, 0.009, 0.0088, 0.0077, 0.0058, 0.0053, 0.0053, 0.0049, 0.004, 0.0032, 0.0028, 0.0025, 0.0018, 0.0017, 0.0016, 0.0013, 0.001, 0.0005, 0.0004, 0.0004, 0.0003, 0.0003, 0.0001, 0.0001, 0.0001, 0.0, 0.0, 0.0, 0.0, 0.0], \"textposition\": \"outside\", \"x\": [0.43156271791502904, 0.21247805522914281, 0.07817343985667048, 0.06422186042295747, 0.033156598391025235, 0.028739271280763416, 0.02752428145901631, 0.01335550455339212, 0.010888375760158298, 0.010513121160778835, 0.010424105862994484, 0.010038581092405744, 0.008962595725073318, 0.008782646273686804, 0.007699826991763117, 0.005751224721889401, 0.00527473430970892, 0.005256204870645287, 0.004929936413488091, 0.003953702649037178, 0.0032296021878159106, 0.0028025230407301817, 0.0024536517436855153, 0.001832567337148106, 0.001716912081647662, 0.0015993077485263894, 0.001302377733947374, 0.0010109642359849118, 0.0005213685999266612, 0.0004202838140423826, 0.00041932908797668727, 0.00033596267631121713, 0.00027480085462613067, 0.00013143316585295878, 0.0001235664053084226, 6.186182494698084e-05, 4.26461307847094e-05, 3.09620499579522e-05, 3.0943411534214165e-06, 0.0, 0.0], \"y\": [\"url_extensions\", \"url_length\", \"url_char_.\", \"url_number_digits\", \"url_char_i\", \"url_char_z\", \"url_char_w\", \"url_char_b\", \"url_char_d\", \"url_tlds\", \"url_char_c\", \"url_char_o\", \"url_char_m\", \"url_char_s\", \"url_number_consonants\", \"url_char_l\", \"url_char_y\", \"url_words_with_length_4\", \"url_extension_.com\", \"url_char_e\", \"url_char_u\", \"url_char_r\", \"url_char_p\", \"url_char_h\", \"url_char_a\", \"url_char_f\", \"url_char_n\", \"url_words_with_length_5\", \"url_char_g\", \"url_words_with_length_6\", \"url_number_vowels\", \"url_char_t\", \"url_extension_.i\", \"url_words_with_length_7\", \"url_char_-\", \"url_extension_.net\", \"url_char_k\", \"url_char_v\", \"url_char_x\", \"url_words_with_length_8\", \"url_char_j\"], \"type\": \"bar\", \"uid\": \"aea27252-f9f6-4657-b91f-516d1bcd8573\"}], {\"autosize\": false, \"height\": 1000, \"width\": 1000, \"xaxis\": {\"tickfont\": {\"color\": \"black\", \"size\": 12}, \"title\": \"Feature Importances\"}, \"yaxis\": {\"automargin\": true}}, {\"showLink\": true, \"linkText\": \"Export to plot.ly\", \"plotlyServerURL\": \"https://plot.ly\"})});</script>"
      ],
      "text/vnd.plotly.v1+html": [
       "<div id=\"13f8b619-b776-4d37-84f3-527bcc78cb3a\" style=\"height: 1000px; width: 1000px;\" class=\"plotly-graph-div\"></div><script type=\"text/javascript\">require([\"plotly\"], function(Plotly) { window.PLOTLYENV=window.PLOTLYENV || {};window.PLOTLYENV.BASE_URL=\"https://plot.ly\";Plotly.newPlot(\"13f8b619-b776-4d37-84f3-527bcc78cb3a\", [{\"marker\": {\"color\": \"rgb(158,202,225)\", \"line\": {\"color\": \"rgb(8,48,107)\", \"width\": 1.5}}, \"opacity\": 0.6, \"orientation\": \"h\", \"text\": [0.4316, 0.2125, 0.0782, 0.0642, 0.0332, 0.0287, 0.0275, 0.0134, 0.0109, 0.0105, 0.0104, 0.01, 0.009, 0.0088, 0.0077, 0.0058, 0.0053, 0.0053, 0.0049, 0.004, 0.0032, 0.0028, 0.0025, 0.0018, 0.0017, 0.0016, 0.0013, 0.001, 0.0005, 0.0004, 0.0004, 0.0003, 0.0003, 0.0001, 0.0001, 0.0001, 0.0, 0.0, 0.0, 0.0, 0.0], \"textposition\": \"outside\", \"x\": [0.43156271791502904, 0.21247805522914281, 0.07817343985667048, 0.06422186042295747, 0.033156598391025235, 0.028739271280763416, 0.02752428145901631, 0.01335550455339212, 0.010888375760158298, 0.010513121160778835, 0.010424105862994484, 0.010038581092405744, 0.008962595725073318, 0.008782646273686804, 0.007699826991763117, 0.005751224721889401, 0.00527473430970892, 0.005256204870645287, 0.004929936413488091, 0.003953702649037178, 0.0032296021878159106, 0.0028025230407301817, 0.0024536517436855153, 0.001832567337148106, 0.001716912081647662, 0.0015993077485263894, 0.001302377733947374, 0.0010109642359849118, 0.0005213685999266612, 0.0004202838140423826, 0.00041932908797668727, 0.00033596267631121713, 0.00027480085462613067, 0.00013143316585295878, 0.0001235664053084226, 6.186182494698084e-05, 4.26461307847094e-05, 3.09620499579522e-05, 3.0943411534214165e-06, 0.0, 0.0], \"y\": [\"url_extensions\", \"url_length\", \"url_char_.\", \"url_number_digits\", \"url_char_i\", \"url_char_z\", \"url_char_w\", \"url_char_b\", \"url_char_d\", \"url_tlds\", \"url_char_c\", \"url_char_o\", \"url_char_m\", \"url_char_s\", \"url_number_consonants\", \"url_char_l\", \"url_char_y\", \"url_words_with_length_4\", \"url_extension_.com\", \"url_char_e\", \"url_char_u\", \"url_char_r\", \"url_char_p\", \"url_char_h\", \"url_char_a\", \"url_char_f\", \"url_char_n\", \"url_words_with_length_5\", \"url_char_g\", \"url_words_with_length_6\", \"url_number_vowels\", \"url_char_t\", \"url_extension_.i\", \"url_words_with_length_7\", \"url_char_-\", \"url_extension_.net\", \"url_char_k\", \"url_char_v\", \"url_char_x\", \"url_words_with_length_8\", \"url_char_j\"], \"type\": \"bar\", \"uid\": \"aea27252-f9f6-4657-b91f-516d1bcd8573\"}], {\"autosize\": false, \"height\": 1000, \"width\": 1000, \"xaxis\": {\"tickfont\": {\"color\": \"black\", \"size\": 12}, \"title\": \"Feature Importances\"}, \"yaxis\": {\"automargin\": true}}, {\"showLink\": true, \"linkText\": \"Export to plot.ly\", \"plotlyServerURL\": \"https://plot.ly\"})});</script>"
      ]
     },
     "metadata": {},
     "output_type": "display_data"
    },
    {
     "name": "stdout",
     "output_type": "stream",
     "text": [
      "\n",
      "\n",
      "\u001b[1mExtraTree Classifier\u001b[0m\n",
      "Accuracy of the model for training data is: 0.999984322087\n",
      "Confusion Matrix for training data is:\n"
     ]
    },
    {
     "data": {
      "text/plain": [
       "Predicted  False   True  __all__\n",
       "Actual                          \n",
       "False      31892      0    31892\n",
       "True           1  31891    31892\n",
       "__all__    31893  31891    63784"
      ]
     },
     "metadata": {},
     "output_type": "display_data"
    },
    {
     "name": "stdout",
     "output_type": "stream",
     "text": [
      "Accuracy of the model for test data is: 0.964720974984\n",
      "Confusion Matrix for test data is:\n"
     ]
    },
    {
     "data": {
      "text/plain": [
       "Predicted  False  True  __all__\n",
       "Actual                         \n",
       "False       7909    76     7985\n",
       "True         254  1115     1369\n",
       "__all__     8163  1191     9354"
      ]
     },
     "metadata": {},
     "output_type": "display_data"
    },
    {
     "data": {
      "application/vnd.plotly.v1+json": {
       "config": {
        "linkText": "Export to plot.ly",
        "plotlyServerURL": "https://plot.ly",
        "showLink": true
       },
       "data": [
        {
         "marker": {
          "color": "rgb(158,202,225)",
          "line": {
           "color": "rgb(8,48,107)",
           "width": 1.5
          }
         },
         "opacity": 0.6,
         "orientation": "h",
         "text": [
          0.1095,
          0.0882,
          0.0881,
          0.0508,
          0.0464,
          0.0422,
          0.0401,
          0.039,
          0.0306,
          0.03,
          0.0299,
          0.0298,
          0.0252,
          0.0241,
          0.0203,
          0.0191,
          0.0178,
          0.0175,
          0.0169,
          0.0168,
          0.0155,
          0.015,
          0.0127,
          0.0125,
          0.0121,
          0.012,
          0.0118,
          0.0118,
          0.0115,
          0.0107,
          0.0105,
          0.0103,
          0.0102,
          0.0096,
          0.0096,
          0.0093,
          0.0072,
          0.0069,
          0.0066,
          0.0064,
          0.0056
         ],
         "textposition": "outside",
         "type": "bar",
         "uid": "75a4aa92-9d90-4f59-a29d-19550e731619",
         "x": [
          0.10953845206004613,
          0.08815083756946998,
          0.08810998036882403,
          0.050794194319266996,
          0.046396715536025555,
          0.042239298677323206,
          0.04013419425411059,
          0.038996998259256246,
          0.030584053757928477,
          0.030045028404963276,
          0.029941398891145936,
          0.029798199217254046,
          0.0252118814741022,
          0.02406579197128662,
          0.02027331513077864,
          0.01909354537033703,
          0.017752161780780394,
          0.01747226314758545,
          0.016874103101235247,
          0.016816009629027514,
          0.01549599351598519,
          0.015018314244642386,
          0.012690031861709302,
          0.012453576349941166,
          0.012145405610296808,
          0.011950127621664792,
          0.011788462572351163,
          0.011754782021249608,
          0.011542774624480518,
          0.010667352003236045,
          0.010461619714881572,
          0.01031473924803156,
          0.010160489499686445,
          0.009643604687111878,
          0.009577562006840793,
          0.009334281209487677,
          0.007203499161997794,
          0.006948153255469105,
          0.006559111121353456,
          0.00637572558248569,
          0.005625971166349502
         ],
         "y": [
          "url_extensions",
          "url_char_.",
          "url_char_w",
          "url_tlds",
          "url_length",
          "url_number_digits",
          "url_number_consonants",
          "url_extension_.com",
          "url_number_vowels",
          "url_words_with_length_4",
          "url_char_b",
          "url_char_i",
          "url_char_z",
          "url_char_u",
          "url_char_y",
          "url_char_a",
          "url_char_p",
          "url_char_o",
          "url_char_e",
          "url_char_t",
          "url_char_l",
          "url_char_s",
          "url_char_n",
          "url_char_r",
          "url_char_m",
          "url_char_d",
          "url_char_k",
          "url_words_with_length_5",
          "url_words_with_length_8",
          "url_char_x",
          "url_char_c",
          "url_char_f",
          "url_words_with_length_7",
          "url_char_g",
          "url_char_h",
          "url_words_with_length_6",
          "url_char_v",
          "url_char_-",
          "url_extension_.net",
          "url_extension_.i",
          "url_char_j"
         ]
        }
       ],
       "layout": {
        "autosize": false,
        "height": 1000,
        "width": 1000,
        "xaxis": {
         "tickfont": {
          "color": "black",
          "size": 12
         },
         "title": "Feature Importances"
        },
        "yaxis": {
         "automargin": true
        }
       }
      },
      "text/html": [
       "<div id=\"62557b6e-c1ca-4c5e-808f-8365a72852a7\" style=\"height: 1000px; width: 1000px;\" class=\"plotly-graph-div\"></div><script type=\"text/javascript\">require([\"plotly\"], function(Plotly) { window.PLOTLYENV=window.PLOTLYENV || {};window.PLOTLYENV.BASE_URL=\"https://plot.ly\";Plotly.newPlot(\"62557b6e-c1ca-4c5e-808f-8365a72852a7\", [{\"marker\": {\"color\": \"rgb(158,202,225)\", \"line\": {\"color\": \"rgb(8,48,107)\", \"width\": 1.5}}, \"opacity\": 0.6, \"orientation\": \"h\", \"text\": [0.1095, 0.0882, 0.0881, 0.0508, 0.0464, 0.0422, 0.0401, 0.039, 0.0306, 0.03, 0.0299, 0.0298, 0.0252, 0.0241, 0.0203, 0.0191, 0.0178, 0.0175, 0.0169, 0.0168, 0.0155, 0.015, 0.0127, 0.0125, 0.0121, 0.012, 0.0118, 0.0118, 0.0115, 0.0107, 0.0105, 0.0103, 0.0102, 0.0096, 0.0096, 0.0093, 0.0072, 0.0069, 0.0066, 0.0064, 0.0056], \"textposition\": \"outside\", \"x\": [0.10953845206004613, 0.08815083756946998, 0.08810998036882403, 0.050794194319266996, 0.046396715536025555, 0.042239298677323206, 0.04013419425411059, 0.038996998259256246, 0.030584053757928477, 0.030045028404963276, 0.029941398891145936, 0.029798199217254046, 0.0252118814741022, 0.02406579197128662, 0.02027331513077864, 0.01909354537033703, 0.017752161780780394, 0.01747226314758545, 0.016874103101235247, 0.016816009629027514, 0.01549599351598519, 0.015018314244642386, 0.012690031861709302, 0.012453576349941166, 0.012145405610296808, 0.011950127621664792, 0.011788462572351163, 0.011754782021249608, 0.011542774624480518, 0.010667352003236045, 0.010461619714881572, 0.01031473924803156, 0.010160489499686445, 0.009643604687111878, 0.009577562006840793, 0.009334281209487677, 0.007203499161997794, 0.006948153255469105, 0.006559111121353456, 0.00637572558248569, 0.005625971166349502], \"y\": [\"url_extensions\", \"url_char_.\", \"url_char_w\", \"url_tlds\", \"url_length\", \"url_number_digits\", \"url_number_consonants\", \"url_extension_.com\", \"url_number_vowels\", \"url_words_with_length_4\", \"url_char_b\", \"url_char_i\", \"url_char_z\", \"url_char_u\", \"url_char_y\", \"url_char_a\", \"url_char_p\", \"url_char_o\", \"url_char_e\", \"url_char_t\", \"url_char_l\", \"url_char_s\", \"url_char_n\", \"url_char_r\", \"url_char_m\", \"url_char_d\", \"url_char_k\", \"url_words_with_length_5\", \"url_words_with_length_8\", \"url_char_x\", \"url_char_c\", \"url_char_f\", \"url_words_with_length_7\", \"url_char_g\", \"url_char_h\", \"url_words_with_length_6\", \"url_char_v\", \"url_char_-\", \"url_extension_.net\", \"url_extension_.i\", \"url_char_j\"], \"type\": \"bar\", \"uid\": \"75a4aa92-9d90-4f59-a29d-19550e731619\"}], {\"autosize\": false, \"height\": 1000, \"width\": 1000, \"xaxis\": {\"tickfont\": {\"color\": \"black\", \"size\": 12}, \"title\": \"Feature Importances\"}, \"yaxis\": {\"automargin\": true}}, {\"showLink\": true, \"linkText\": \"Export to plot.ly\", \"plotlyServerURL\": \"https://plot.ly\"})});</script>"
      ],
      "text/vnd.plotly.v1+html": [
       "<div id=\"62557b6e-c1ca-4c5e-808f-8365a72852a7\" style=\"height: 1000px; width: 1000px;\" class=\"plotly-graph-div\"></div><script type=\"text/javascript\">require([\"plotly\"], function(Plotly) { window.PLOTLYENV=window.PLOTLYENV || {};window.PLOTLYENV.BASE_URL=\"https://plot.ly\";Plotly.newPlot(\"62557b6e-c1ca-4c5e-808f-8365a72852a7\", [{\"marker\": {\"color\": \"rgb(158,202,225)\", \"line\": {\"color\": \"rgb(8,48,107)\", \"width\": 1.5}}, \"opacity\": 0.6, \"orientation\": \"h\", \"text\": [0.1095, 0.0882, 0.0881, 0.0508, 0.0464, 0.0422, 0.0401, 0.039, 0.0306, 0.03, 0.0299, 0.0298, 0.0252, 0.0241, 0.0203, 0.0191, 0.0178, 0.0175, 0.0169, 0.0168, 0.0155, 0.015, 0.0127, 0.0125, 0.0121, 0.012, 0.0118, 0.0118, 0.0115, 0.0107, 0.0105, 0.0103, 0.0102, 0.0096, 0.0096, 0.0093, 0.0072, 0.0069, 0.0066, 0.0064, 0.0056], \"textposition\": \"outside\", \"x\": [0.10953845206004613, 0.08815083756946998, 0.08810998036882403, 0.050794194319266996, 0.046396715536025555, 0.042239298677323206, 0.04013419425411059, 0.038996998259256246, 0.030584053757928477, 0.030045028404963276, 0.029941398891145936, 0.029798199217254046, 0.0252118814741022, 0.02406579197128662, 0.02027331513077864, 0.01909354537033703, 0.017752161780780394, 0.01747226314758545, 0.016874103101235247, 0.016816009629027514, 0.01549599351598519, 0.015018314244642386, 0.012690031861709302, 0.012453576349941166, 0.012145405610296808, 0.011950127621664792, 0.011788462572351163, 0.011754782021249608, 0.011542774624480518, 0.010667352003236045, 0.010461619714881572, 0.01031473924803156, 0.010160489499686445, 0.009643604687111878, 0.009577562006840793, 0.009334281209487677, 0.007203499161997794, 0.006948153255469105, 0.006559111121353456, 0.00637572558248569, 0.005625971166349502], \"y\": [\"url_extensions\", \"url_char_.\", \"url_char_w\", \"url_tlds\", \"url_length\", \"url_number_digits\", \"url_number_consonants\", \"url_extension_.com\", \"url_number_vowels\", \"url_words_with_length_4\", \"url_char_b\", \"url_char_i\", \"url_char_z\", \"url_char_u\", \"url_char_y\", \"url_char_a\", \"url_char_p\", \"url_char_o\", \"url_char_e\", \"url_char_t\", \"url_char_l\", \"url_char_s\", \"url_char_n\", \"url_char_r\", \"url_char_m\", \"url_char_d\", \"url_char_k\", \"url_words_with_length_5\", \"url_words_with_length_8\", \"url_char_x\", \"url_char_c\", \"url_char_f\", \"url_words_with_length_7\", \"url_char_g\", \"url_char_h\", \"url_words_with_length_6\", \"url_char_v\", \"url_char_-\", \"url_extension_.net\", \"url_extension_.i\", \"url_char_j\"], \"type\": \"bar\", \"uid\": \"75a4aa92-9d90-4f59-a29d-19550e731619\"}], {\"autosize\": false, \"height\": 1000, \"width\": 1000, \"xaxis\": {\"tickfont\": {\"color\": \"black\", \"size\": 12}, \"title\": \"Feature Importances\"}, \"yaxis\": {\"automargin\": true}}, {\"showLink\": true, \"linkText\": \"Export to plot.ly\", \"plotlyServerURL\": \"https://plot.ly\"})});</script>"
      ]
     },
     "metadata": {},
     "output_type": "display_data"
    },
    {
     "name": "stdout",
     "output_type": "stream",
     "text": [
      "\n",
      "\n",
      "\u001b[1mBagging Classifier\u001b[0m\n",
      "Accuracy of the model for training data is: 0.997381788536\n",
      "Confusion Matrix for training data is:\n"
     ]
    },
    {
     "data": {
      "text/plain": [
       "Predicted  False   True  __all__\n",
       "Actual                          \n",
       "False      31877     15    31892\n",
       "True         152  31740    31892\n",
       "__all__    32029  31755    63784"
      ]
     },
     "metadata": {},
     "output_type": "display_data"
    },
    {
     "name": "stdout",
     "output_type": "stream",
     "text": [
      "Accuracy of the model for test data is: 0.961941415437\n",
      "Confusion Matrix for test data is:\n"
     ]
    },
    {
     "data": {
      "text/plain": [
       "Predicted  False  True  __all__\n",
       "Actual                         \n",
       "False       7897    88     7985\n",
       "True         268  1101     1369\n",
       "__all__     8165  1189     9354"
      ]
     },
     "metadata": {},
     "output_type": "display_data"
    },
    {
     "name": "stdout",
     "output_type": "stream",
     "text": [
      "\n",
      "\n",
      "\u001b[1mNeural Network-1\u001b[0m\n",
      "The accuracy of the model on training data is: 0.997538567666\n"
     ]
    },
    {
     "data": {
      "text/plain": [
       "Predicted  False   True  __all__\n",
       "Actual                          \n",
       "False      31755    137    31892\n",
       "True          20  31872    31892\n",
       "__all__    31775  32009    63784"
      ]
     },
     "metadata": {},
     "output_type": "display_data"
    },
    {
     "name": "stdout",
     "output_type": "stream",
     "text": [
      "The accuracy of the model on test data is: 0.9398118452\n"
     ]
    },
    {
     "data": {
      "text/plain": [
       "Predicted  False  True  __all__\n",
       "Actual                         \n",
       "False       7646   339     7985\n",
       "True         224  1145     1369\n",
       "__all__     7870  1484     9354"
      ]
     },
     "metadata": {},
     "output_type": "display_data"
    },
    {
     "name": "stdout",
     "output_type": "stream",
     "text": [
      "\n",
      "\n"
     ]
    }
   ],
   "source": [
    "feat_imp=[None]*4\n",
    "j=0\n",
    "for i in range(0,8):\n",
    "    if i>=2 and i<=5:\n",
    "        model,cm_train,cm_test,acc_train,acc_test,roc_auc,feat_imp[j],mcc=f[i](X_train,Y_train,scaled_X_test,test_Y,columns)\n",
    "        j=j+1\n",
    "    else:\n",
    "        model,cm_train,cm_test,acc_train,acc_test,roc_auc,mcc=f[i](X_train,Y_train,scaled_X_test,test_Y)\n",
    "    table_80_80_train.loc[i]=   ([acc_train,cm_train.TP,cm_train.TN,cm_train.FP,cm_train.FN,cm_train.FPR,cm_train.FNR])\n",
    "    table_80_80_test.loc[i] =   ([acc_test ,cm_test.TP, cm_test.TN, cm_test.FP, cm_test.FN, cm_test.FPR, cm_test.FNR,roc_auc,mcc])\n",
    "    print(\"\\n\")"
   ]
  },
  {
   "cell_type": "markdown",
   "metadata": {},
   "source": [
    "### <a id='2.A' style=\"text-decoration : none; color : #000000;\"> A Results</a>"
   ]
  },
  {
   "cell_type": "code",
   "execution_count": 38,
   "metadata": {},
   "outputs": [
    {
     "data": {
      "application/vnd.plotly.v1+json": {
       "config": {
        "linkText": "Export to plot.ly",
        "plotlyServerURL": "https://plot.ly",
        "showLink": true
       },
       "data": [
        {
         "mode": "lines",
         "name": "KNN_model",
         "type": "scatter",
         "uid": "bc5840b2-2251-4700-b505-3e955f1862d1",
         "x": [
          "accuracy",
          "FPR",
          "FNR",
          "auc"
         ],
         "y": [
          0.9173615565533462,
          0.07351283656856607,
          0.1358655953250548,
          0.8953107840531894
         ]
        },
        {
         "mode": "lines+markers",
         "name": "Logistic Regression",
         "type": "scatter",
         "uid": "ab55f18b-6e95-4c3d-828d-9675c87e9841",
         "x": [
          "accuracy",
          "FPR",
          "FNR",
          "auc"
         ],
         "y": [
          0.9227068633739577,
          0.07050720100187852,
          0.1168736303871439,
          0.9063095843054887
         ]
        },
        {
         "marker": {
          "symbol": "x"
         },
         "mode": "lines+markers",
         "name": "Random Forest",
         "type": "scatter",
         "uid": "e6b9a9be-7bc2-45cb-af4a-cbd53e032dc1",
         "x": [
          "accuracy",
          "FPR",
          "FNR",
          "auc"
         ],
         "y": [
          0.962369039982895,
          0.012022542266750157,
          0.18699780861943024,
          0.9004898245569097
         ]
        },
        {
         "mode": "lines",
         "name": "Ada Boost",
         "type": "scatter",
         "uid": "4747142c-2a6d-48f1-975a-31c202fe0434",
         "x": [
          "accuracy",
          "FPR",
          "FNR",
          "auc"
         ],
         "y": [
          0.9322215095146461,
          0.047589229805886035,
          0.18553688823959094,
          0.8834369409772616
         ]
        },
        {
         "mode": "lines+markers",
         "name": "GradientBoosting",
         "type": "scatter",
         "uid": "225550c9-5c7b-411e-85a7-ed11371ec144",
         "x": [
          "accuracy",
          "FPR",
          "FNR",
          "auc"
         ],
         "y": [
          0.9485781483857173,
          0.027927363807138384,
          0.18845872899926955,
          0.891806953596796
         ]
        },
        {
         "marker": {
          "symbol": "x"
         },
         "mode": "lines+markers",
         "name": "ExtraTree Classifier",
         "type": "scatter",
         "uid": "ae7b7688-6482-43a4-a3d9-79c1787f56f2",
         "x": [
          "accuracy",
          "FPR",
          "FNR",
          "auc"
         ],
         "y": [
          0.964720974983964,
          0.009517845961177208,
          0.18553688823959094,
          0.9024726328996159
         ]
        },
        {
         "marker": {
          "symbol": "x"
         },
         "mode": "lines+markers",
         "name": "Bagging",
         "type": "scatter",
         "uid": "08279ab1-e597-4cae-9406-32a6dd95cf3e",
         "x": [
          "accuracy",
          "FPR",
          "FNR",
          "auc"
         ],
         "y": [
          0.9619414154372461,
          0.011020663744520976,
          0.19576333089846604,
          0.8966080026785066
         ]
        },
        {
         "marker": {
          "symbol": "x"
         },
         "mode": "lines+markers",
         "name": "Neural Network",
         "type": "scatter",
         "uid": "db2fd8e7-245f-4b5b-9033-335aa7282b45",
         "x": [
          "accuracy",
          "FPR",
          "FNR",
          "auc"
         ],
         "y": [
          0.9398118451999145,
          0.04245460237946149,
          0.16362308254200147,
          0.8966080026785066
         ]
        }
       ],
       "layout": {
        "title": "Result comparision for Features selected in Section 1",
        "yaxis": {
         "dtick": 0.05,
         "tick0": 0
        }
       }
      },
      "text/html": [
       "<div id=\"f4056891-258e-49aa-8b4a-796451dfaf98\" style=\"height: 525px; width: 100%;\" class=\"plotly-graph-div\"></div><script type=\"text/javascript\">require([\"plotly\"], function(Plotly) { window.PLOTLYENV=window.PLOTLYENV || {};window.PLOTLYENV.BASE_URL=\"https://plot.ly\";Plotly.newPlot(\"f4056891-258e-49aa-8b4a-796451dfaf98\", [{\"mode\": \"lines\", \"name\": \"KNN_model\", \"x\": [\"accuracy\", \"FPR\", \"FNR\", \"auc\"], \"y\": [0.9173615565533462, 0.07351283656856607, 0.1358655953250548, 0.8953107840531894], \"type\": \"scatter\", \"uid\": \"bc5840b2-2251-4700-b505-3e955f1862d1\"}, {\"mode\": \"lines+markers\", \"name\": \"Logistic Regression\", \"x\": [\"accuracy\", \"FPR\", \"FNR\", \"auc\"], \"y\": [0.9227068633739577, 0.07050720100187852, 0.1168736303871439, 0.9063095843054887], \"type\": \"scatter\", \"uid\": \"ab55f18b-6e95-4c3d-828d-9675c87e9841\"}, {\"marker\": {\"symbol\": \"x\"}, \"mode\": \"lines+markers\", \"name\": \"Random Forest\", \"x\": [\"accuracy\", \"FPR\", \"FNR\", \"auc\"], \"y\": [0.962369039982895, 0.012022542266750157, 0.18699780861943024, 0.9004898245569097], \"type\": \"scatter\", \"uid\": \"e6b9a9be-7bc2-45cb-af4a-cbd53e032dc1\"}, {\"mode\": \"lines\", \"name\": \"Ada Boost\", \"x\": [\"accuracy\", \"FPR\", \"FNR\", \"auc\"], \"y\": [0.9322215095146461, 0.047589229805886035, 0.18553688823959094, 0.8834369409772616], \"type\": \"scatter\", \"uid\": \"4747142c-2a6d-48f1-975a-31c202fe0434\"}, {\"mode\": \"lines+markers\", \"name\": \"GradientBoosting\", \"x\": [\"accuracy\", \"FPR\", \"FNR\", \"auc\"], \"y\": [0.9485781483857173, 0.027927363807138384, 0.18845872899926955, 0.891806953596796], \"type\": \"scatter\", \"uid\": \"225550c9-5c7b-411e-85a7-ed11371ec144\"}, {\"marker\": {\"symbol\": \"x\"}, \"mode\": \"lines+markers\", \"name\": \"ExtraTree Classifier\", \"x\": [\"accuracy\", \"FPR\", \"FNR\", \"auc\"], \"y\": [0.964720974983964, 0.009517845961177208, 0.18553688823959094, 0.9024726328996159], \"type\": \"scatter\", \"uid\": \"ae7b7688-6482-43a4-a3d9-79c1787f56f2\"}, {\"marker\": {\"symbol\": \"x\"}, \"mode\": \"lines+markers\", \"name\": \"Bagging\", \"x\": [\"accuracy\", \"FPR\", \"FNR\", \"auc\"], \"y\": [0.9619414154372461, 0.011020663744520976, 0.19576333089846604, 0.8966080026785066], \"type\": \"scatter\", \"uid\": \"08279ab1-e597-4cae-9406-32a6dd95cf3e\"}, {\"marker\": {\"symbol\": \"x\"}, \"mode\": \"lines+markers\", \"name\": \"Neural Network\", \"x\": [\"accuracy\", \"FPR\", \"FNR\", \"auc\"], \"y\": [0.9398118451999145, 0.04245460237946149, 0.16362308254200147, 0.8966080026785066], \"type\": \"scatter\", \"uid\": \"db2fd8e7-245f-4b5b-9033-335aa7282b45\"}], {\"title\": \"Result comparision for Features selected in Section 1\", \"yaxis\": {\"dtick\": 0.05, \"tick0\": 0}}, {\"showLink\": true, \"linkText\": \"Export to plot.ly\", \"plotlyServerURL\": \"https://plot.ly\"})});</script><script type=\"text/javascript\">window.addEventListener(\"resize\", function(){window._Plotly.Plots.resize(document.getElementById(\"f4056891-258e-49aa-8b4a-796451dfaf98\"));});</script>"
      ],
      "text/vnd.plotly.v1+html": [
       "<div id=\"f4056891-258e-49aa-8b4a-796451dfaf98\" style=\"height: 525px; width: 100%;\" class=\"plotly-graph-div\"></div><script type=\"text/javascript\">require([\"plotly\"], function(Plotly) { window.PLOTLYENV=window.PLOTLYENV || {};window.PLOTLYENV.BASE_URL=\"https://plot.ly\";Plotly.newPlot(\"f4056891-258e-49aa-8b4a-796451dfaf98\", [{\"mode\": \"lines\", \"name\": \"KNN_model\", \"x\": [\"accuracy\", \"FPR\", \"FNR\", \"auc\"], \"y\": [0.9173615565533462, 0.07351283656856607, 0.1358655953250548, 0.8953107840531894], \"type\": \"scatter\", \"uid\": \"bc5840b2-2251-4700-b505-3e955f1862d1\"}, {\"mode\": \"lines+markers\", \"name\": \"Logistic Regression\", \"x\": [\"accuracy\", \"FPR\", \"FNR\", \"auc\"], \"y\": [0.9227068633739577, 0.07050720100187852, 0.1168736303871439, 0.9063095843054887], \"type\": \"scatter\", \"uid\": \"ab55f18b-6e95-4c3d-828d-9675c87e9841\"}, {\"marker\": {\"symbol\": \"x\"}, \"mode\": \"lines+markers\", \"name\": \"Random Forest\", \"x\": [\"accuracy\", \"FPR\", \"FNR\", \"auc\"], \"y\": [0.962369039982895, 0.012022542266750157, 0.18699780861943024, 0.9004898245569097], \"type\": \"scatter\", \"uid\": \"e6b9a9be-7bc2-45cb-af4a-cbd53e032dc1\"}, {\"mode\": \"lines\", \"name\": \"Ada Boost\", \"x\": [\"accuracy\", \"FPR\", \"FNR\", \"auc\"], \"y\": [0.9322215095146461, 0.047589229805886035, 0.18553688823959094, 0.8834369409772616], \"type\": \"scatter\", \"uid\": \"4747142c-2a6d-48f1-975a-31c202fe0434\"}, {\"mode\": \"lines+markers\", \"name\": \"GradientBoosting\", \"x\": [\"accuracy\", \"FPR\", \"FNR\", \"auc\"], \"y\": [0.9485781483857173, 0.027927363807138384, 0.18845872899926955, 0.891806953596796], \"type\": \"scatter\", \"uid\": \"225550c9-5c7b-411e-85a7-ed11371ec144\"}, {\"marker\": {\"symbol\": \"x\"}, \"mode\": \"lines+markers\", \"name\": \"ExtraTree Classifier\", \"x\": [\"accuracy\", \"FPR\", \"FNR\", \"auc\"], \"y\": [0.964720974983964, 0.009517845961177208, 0.18553688823959094, 0.9024726328996159], \"type\": \"scatter\", \"uid\": \"ae7b7688-6482-43a4-a3d9-79c1787f56f2\"}, {\"marker\": {\"symbol\": \"x\"}, \"mode\": \"lines+markers\", \"name\": \"Bagging\", \"x\": [\"accuracy\", \"FPR\", \"FNR\", \"auc\"], \"y\": [0.9619414154372461, 0.011020663744520976, 0.19576333089846604, 0.8966080026785066], \"type\": \"scatter\", \"uid\": \"08279ab1-e597-4cae-9406-32a6dd95cf3e\"}, {\"marker\": {\"symbol\": \"x\"}, \"mode\": \"lines+markers\", \"name\": \"Neural Network\", \"x\": [\"accuracy\", \"FPR\", \"FNR\", \"auc\"], \"y\": [0.9398118451999145, 0.04245460237946149, 0.16362308254200147, 0.8966080026785066], \"type\": \"scatter\", \"uid\": \"db2fd8e7-245f-4b5b-9033-335aa7282b45\"}], {\"title\": \"Result comparision for Features selected in Section 1\", \"yaxis\": {\"dtick\": 0.05, \"tick0\": 0}}, {\"showLink\": true, \"linkText\": \"Export to plot.ly\", \"plotlyServerURL\": \"https://plot.ly\"})});</script><script type=\"text/javascript\">window.addEventListener(\"resize\", function(){window._Plotly.Plots.resize(document.getElementById(\"f4056891-258e-49aa-8b4a-796451dfaf98\"));});</script>"
      ]
     },
     "metadata": {},
     "output_type": "display_data"
    }
   ],
   "source": [
    "trace0 = go.Scatter(x=table_80_80_test.iloc[0].index.values[[0,5,6,7]],\n",
    "                    y=table_80_80_test.iloc[0].values[[0,5,6,7]],\n",
    "                    mode = 'lines',\n",
    "                    name = 'KNN_model')\n",
    "\n",
    "trace1 = go.Scatter(x=table_80_80_test.iloc[1].index.values[[0,5,6,7]],\n",
    "                    y=table_80_80_test.iloc[1].values[[0,5,6,7]],\n",
    "                    mode = 'lines+markers',\n",
    "                    name = 'Logistic Regression')\n",
    "\n",
    "trace2 = go.Scatter(x=table_80_80_test.iloc[2].index.values[[0,5,6,7]],\n",
    "                    y=table_80_80_test.iloc[2].values[[0,5,6,7]],\n",
    "                    mode = 'lines+markers',marker=dict(symbol='x'),\n",
    "                    name = 'Random Forest')\n",
    "\n",
    "\n",
    "trace3 = go.Scatter(x=table_80_80_test.iloc[3].index.values[[0,5,6,7]],\n",
    "                    y=table_80_80_test.iloc[3].values[[0,5,6,7]],\n",
    "                    mode = 'lines',\n",
    "                    name = 'Ada Boost')\n",
    "\n",
    "trace4 = go.Scatter(x=table_80_80_test.iloc[4].index.values[[0,5,6,7]],\n",
    "                    y=table_80_80_test.iloc[4].values[[0,5,6,7]],\n",
    "                    mode = 'lines+markers',\n",
    "                    name = 'GradientBoosting')\n",
    "\n",
    "trace5 = go.Scatter(x=table_80_80_test.iloc[5].index.values[[0,5,6,7]],\n",
    "                    y=table_80_80_test.iloc[5].values[[0,5,6,7]],\n",
    "                    mode = 'lines+markers',marker=dict(symbol='x'),\n",
    "                    name = 'ExtraTree Classifier')\n",
    "\n",
    "trace6 = go.Scatter(x=table_80_80_test.iloc[6].index.values[[0,5,6,7]],\n",
    "                    y=table_80_80_test.iloc[6].values[[0,5,6,7]],\n",
    "                    mode = 'lines+markers',marker=dict(symbol='x'),\n",
    "                    name = 'Bagging')\n",
    "\n",
    "trace7 = go.Scatter(x=table_80_80_test.iloc[7].index.values[[0,5,6,7]],\n",
    "                    y=table_80_80_test.iloc[7].values[[0,5,6,7]],\n",
    "                    mode = 'lines+markers',marker=dict(symbol='x'),\n",
    "                    name = 'Neural Network')\n",
    "\n",
    "\n",
    "\n",
    "data = [trace0, trace1, trace2, trace3, trace4, trace5, trace6, trace7]\n",
    "layout = go.Layout(yaxis=dict(tick0=0,dtick=0.05),title='Result comparision for Features selected in Section 1')\n",
    "fig = go.Figure(data=data, layout=layout)\n",
    "\n",
    "iplot(fig, filename='Result')"
   ]
  },
  {
   "cell_type": "code",
   "execution_count": 39,
   "metadata": {},
   "outputs": [
    {
     "name": "stdout",
     "output_type": "stream",
     "text": [
      "Training Results\n"
     ]
    },
    {
     "data": {
      "text/html": [
       "<div>\n",
       "<style scoped>\n",
       "    .dataframe tbody tr th:only-of-type {\n",
       "        vertical-align: middle;\n",
       "    }\n",
       "\n",
       "    .dataframe tbody tr th {\n",
       "        vertical-align: top;\n",
       "    }\n",
       "\n",
       "    .dataframe thead th {\n",
       "        text-align: right;\n",
       "    }\n",
       "</style>\n",
       "<table border=\"1\" class=\"dataframe\">\n",
       "  <thead>\n",
       "    <tr style=\"text-align: right;\">\n",
       "      <th></th>\n",
       "      <th>accuracy</th>\n",
       "      <th>TP</th>\n",
       "      <th>TN</th>\n",
       "      <th>FP</th>\n",
       "      <th>FN</th>\n",
       "      <th>FPR</th>\n",
       "      <th>FNR</th>\n",
       "    </tr>\n",
       "    <tr>\n",
       "      <th>index</th>\n",
       "      <th></th>\n",
       "      <th></th>\n",
       "      <th></th>\n",
       "      <th></th>\n",
       "      <th></th>\n",
       "      <th></th>\n",
       "      <th></th>\n",
       "    </tr>\n",
       "  </thead>\n",
       "  <tbody>\n",
       "    <tr>\n",
       "      <th>KNeighborsClassifier</th>\n",
       "      <td>0.976091</td>\n",
       "      <td>31861.0</td>\n",
       "      <td>30398.0</td>\n",
       "      <td>1494.0</td>\n",
       "      <td>31.0</td>\n",
       "      <td>0.046846</td>\n",
       "      <td>0.000972</td>\n",
       "    </tr>\n",
       "    <tr>\n",
       "      <th>LogisticRegression</th>\n",
       "      <td>0.898674</td>\n",
       "      <td>27685.0</td>\n",
       "      <td>29636.0</td>\n",
       "      <td>2256.0</td>\n",
       "      <td>4207.0</td>\n",
       "      <td>0.070739</td>\n",
       "      <td>0.131914</td>\n",
       "    </tr>\n",
       "    <tr>\n",
       "      <th>RandomForestClassifier</th>\n",
       "      <td>0.997946</td>\n",
       "      <td>31769.0</td>\n",
       "      <td>31884.0</td>\n",
       "      <td>8.0</td>\n",
       "      <td>123.0</td>\n",
       "      <td>0.000251</td>\n",
       "      <td>0.003857</td>\n",
       "    </tr>\n",
       "    <tr>\n",
       "      <th>AdaBoostClassifier</th>\n",
       "      <td>0.940283</td>\n",
       "      <td>29489.0</td>\n",
       "      <td>30486.0</td>\n",
       "      <td>1406.0</td>\n",
       "      <td>2403.0</td>\n",
       "      <td>0.044086</td>\n",
       "      <td>0.075348</td>\n",
       "    </tr>\n",
       "    <tr>\n",
       "      <th>GradientBoostingClassifier</th>\n",
       "      <td>0.965305</td>\n",
       "      <td>30479.0</td>\n",
       "      <td>31092.0</td>\n",
       "      <td>800.0</td>\n",
       "      <td>1413.0</td>\n",
       "      <td>0.025085</td>\n",
       "      <td>0.044306</td>\n",
       "    </tr>\n",
       "    <tr>\n",
       "      <th>ExtraTreeClassifier</th>\n",
       "      <td>0.999984</td>\n",
       "      <td>31891.0</td>\n",
       "      <td>31892.0</td>\n",
       "      <td>0.0</td>\n",
       "      <td>1.0</td>\n",
       "      <td>0.000000</td>\n",
       "      <td>0.000031</td>\n",
       "    </tr>\n",
       "    <tr>\n",
       "      <th>BaggingClassifier</th>\n",
       "      <td>0.997382</td>\n",
       "      <td>31740.0</td>\n",
       "      <td>31877.0</td>\n",
       "      <td>15.0</td>\n",
       "      <td>152.0</td>\n",
       "      <td>0.000470</td>\n",
       "      <td>0.004766</td>\n",
       "    </tr>\n",
       "    <tr>\n",
       "      <th>Neural Network-1</th>\n",
       "      <td>0.997539</td>\n",
       "      <td>31872.0</td>\n",
       "      <td>31755.0</td>\n",
       "      <td>137.0</td>\n",
       "      <td>20.0</td>\n",
       "      <td>0.004296</td>\n",
       "      <td>0.000627</td>\n",
       "    </tr>\n",
       "  </tbody>\n",
       "</table>\n",
       "</div>"
      ],
      "text/plain": [
       "                            accuracy       TP       TN      FP      FN  \\\n",
       "index                                                                    \n",
       "KNeighborsClassifier        0.976091  31861.0  30398.0  1494.0    31.0   \n",
       "LogisticRegression          0.898674  27685.0  29636.0  2256.0  4207.0   \n",
       "RandomForestClassifier      0.997946  31769.0  31884.0     8.0   123.0   \n",
       "AdaBoostClassifier          0.940283  29489.0  30486.0  1406.0  2403.0   \n",
       "GradientBoostingClassifier  0.965305  30479.0  31092.0   800.0  1413.0   \n",
       "ExtraTreeClassifier         0.999984  31891.0  31892.0     0.0     1.0   \n",
       "BaggingClassifier           0.997382  31740.0  31877.0    15.0   152.0   \n",
       "Neural Network-1            0.997539  31872.0  31755.0   137.0    20.0   \n",
       "\n",
       "                                 FPR       FNR  \n",
       "index                                           \n",
       "KNeighborsClassifier        0.046846  0.000972  \n",
       "LogisticRegression          0.070739  0.131914  \n",
       "RandomForestClassifier      0.000251  0.003857  \n",
       "AdaBoostClassifier          0.044086  0.075348  \n",
       "GradientBoostingClassifier  0.025085  0.044306  \n",
       "ExtraTreeClassifier         0.000000  0.000031  \n",
       "BaggingClassifier           0.000470  0.004766  \n",
       "Neural Network-1            0.004296  0.000627  "
      ]
     },
     "metadata": {},
     "output_type": "display_data"
    },
    {
     "name": "stdout",
     "output_type": "stream",
     "text": [
      "Test Results\n"
     ]
    },
    {
     "data": {
      "text/html": [
       "<div>\n",
       "<style scoped>\n",
       "    .dataframe tbody tr th:only-of-type {\n",
       "        vertical-align: middle;\n",
       "    }\n",
       "\n",
       "    .dataframe tbody tr th {\n",
       "        vertical-align: top;\n",
       "    }\n",
       "\n",
       "    .dataframe thead th {\n",
       "        text-align: right;\n",
       "    }\n",
       "</style>\n",
       "<table border=\"1\" class=\"dataframe\">\n",
       "  <thead>\n",
       "    <tr style=\"text-align: right;\">\n",
       "      <th></th>\n",
       "      <th>accuracy</th>\n",
       "      <th>TP</th>\n",
       "      <th>TN</th>\n",
       "      <th>FP</th>\n",
       "      <th>FN</th>\n",
       "      <th>FPR</th>\n",
       "      <th>FNR</th>\n",
       "      <th>auc</th>\n",
       "      <th>mcc</th>\n",
       "    </tr>\n",
       "    <tr>\n",
       "      <th>index</th>\n",
       "      <th></th>\n",
       "      <th></th>\n",
       "      <th></th>\n",
       "      <th></th>\n",
       "      <th></th>\n",
       "      <th></th>\n",
       "      <th></th>\n",
       "      <th></th>\n",
       "      <th></th>\n",
       "    </tr>\n",
       "  </thead>\n",
       "  <tbody>\n",
       "    <tr>\n",
       "      <th>KNeighborsClassifier</th>\n",
       "      <td>0.917362</td>\n",
       "      <td>1183.0</td>\n",
       "      <td>7398.0</td>\n",
       "      <td>587.0</td>\n",
       "      <td>186.0</td>\n",
       "      <td>0.073513</td>\n",
       "      <td>0.135866</td>\n",
       "      <td>0.895311</td>\n",
       "      <td>0.713464</td>\n",
       "    </tr>\n",
       "    <tr>\n",
       "      <th>LogisticRegression</th>\n",
       "      <td>0.922707</td>\n",
       "      <td>1209.0</td>\n",
       "      <td>7422.0</td>\n",
       "      <td>563.0</td>\n",
       "      <td>160.0</td>\n",
       "      <td>0.070507</td>\n",
       "      <td>0.116874</td>\n",
       "      <td>0.906310</td>\n",
       "      <td>0.732998</td>\n",
       "    </tr>\n",
       "    <tr>\n",
       "      <th>RandomForestClassifier</th>\n",
       "      <td>0.962369</td>\n",
       "      <td>1113.0</td>\n",
       "      <td>7889.0</td>\n",
       "      <td>96.0</td>\n",
       "      <td>256.0</td>\n",
       "      <td>0.012023</td>\n",
       "      <td>0.186998</td>\n",
       "      <td>0.900490</td>\n",
       "      <td>0.843921</td>\n",
       "    </tr>\n",
       "    <tr>\n",
       "      <th>AdaBoostClassifier</th>\n",
       "      <td>0.932222</td>\n",
       "      <td>1115.0</td>\n",
       "      <td>7605.0</td>\n",
       "      <td>380.0</td>\n",
       "      <td>254.0</td>\n",
       "      <td>0.047589</td>\n",
       "      <td>0.185537</td>\n",
       "      <td>0.883437</td>\n",
       "      <td>0.739706</td>\n",
       "    </tr>\n",
       "    <tr>\n",
       "      <th>GradientBoostingClassifier</th>\n",
       "      <td>0.948578</td>\n",
       "      <td>1111.0</td>\n",
       "      <td>7762.0</td>\n",
       "      <td>223.0</td>\n",
       "      <td>258.0</td>\n",
       "      <td>0.027927</td>\n",
       "      <td>0.188459</td>\n",
       "      <td>0.891807</td>\n",
       "      <td>0.792093</td>\n",
       "    </tr>\n",
       "    <tr>\n",
       "      <th>ExtraTreeClassifier</th>\n",
       "      <td>0.964721</td>\n",
       "      <td>1115.0</td>\n",
       "      <td>7909.0</td>\n",
       "      <td>76.0</td>\n",
       "      <td>254.0</td>\n",
       "      <td>0.009518</td>\n",
       "      <td>0.185537</td>\n",
       "      <td>0.902473</td>\n",
       "      <td>0.853542</td>\n",
       "    </tr>\n",
       "    <tr>\n",
       "      <th>BaggingClassifier</th>\n",
       "      <td>0.961941</td>\n",
       "      <td>1101.0</td>\n",
       "      <td>7897.0</td>\n",
       "      <td>88.0</td>\n",
       "      <td>268.0</td>\n",
       "      <td>0.011021</td>\n",
       "      <td>0.195763</td>\n",
       "      <td>0.896608</td>\n",
       "      <td>0.841708</td>\n",
       "    </tr>\n",
       "    <tr>\n",
       "      <th>Neural Network-1</th>\n",
       "      <td>0.939812</td>\n",
       "      <td>1145.0</td>\n",
       "      <td>7646.0</td>\n",
       "      <td>339.0</td>\n",
       "      <td>224.0</td>\n",
       "      <td>0.042455</td>\n",
       "      <td>0.163623</td>\n",
       "      <td>0.896608</td>\n",
       "      <td>0.768091</td>\n",
       "    </tr>\n",
       "  </tbody>\n",
       "</table>\n",
       "</div>"
      ],
      "text/plain": [
       "                            accuracy      TP      TN     FP     FN       FPR  \\\n",
       "index                                                                          \n",
       "KNeighborsClassifier        0.917362  1183.0  7398.0  587.0  186.0  0.073513   \n",
       "LogisticRegression          0.922707  1209.0  7422.0  563.0  160.0  0.070507   \n",
       "RandomForestClassifier      0.962369  1113.0  7889.0   96.0  256.0  0.012023   \n",
       "AdaBoostClassifier          0.932222  1115.0  7605.0  380.0  254.0  0.047589   \n",
       "GradientBoostingClassifier  0.948578  1111.0  7762.0  223.0  258.0  0.027927   \n",
       "ExtraTreeClassifier         0.964721  1115.0  7909.0   76.0  254.0  0.009518   \n",
       "BaggingClassifier           0.961941  1101.0  7897.0   88.0  268.0  0.011021   \n",
       "Neural Network-1            0.939812  1145.0  7646.0  339.0  224.0  0.042455   \n",
       "\n",
       "                                 FNR       auc       mcc  \n",
       "index                                                     \n",
       "KNeighborsClassifier        0.135866  0.895311  0.713464  \n",
       "LogisticRegression          0.116874  0.906310  0.732998  \n",
       "RandomForestClassifier      0.186998  0.900490  0.843921  \n",
       "AdaBoostClassifier          0.185537  0.883437  0.739706  \n",
       "GradientBoostingClassifier  0.188459  0.891807  0.792093  \n",
       "ExtraTreeClassifier         0.185537  0.902473  0.853542  \n",
       "BaggingClassifier           0.195763  0.896608  0.841708  \n",
       "Neural Network-1            0.163623  0.896608  0.768091  "
      ]
     },
     "metadata": {},
     "output_type": "display_data"
    }
   ],
   "source": [
    "table_80_80_train['index']=ind_columns\n",
    "table_80_80_test['index']=ind_columns\n",
    "\n",
    "\n",
    "table_80_80_test.set_index(['index'],drop=True,inplace=True)\n",
    "table_80_80_train.set_index(['index'],drop=True,inplace=True)\n",
    "\n",
    "print(\"Training Results\")\n",
    "display(table_80_80_train)\n",
    "print(\"Test Results\")\n",
    "display(table_80_80_test)"
   ]
  },
  {
   "cell_type": "markdown",
   "metadata": {},
   "source": [
    "### <a id='2.B' style=\"text-decoration : none; color : #000000;\"> B. Average Feature Importances</a>"
   ]
  },
  {
   "cell_type": "code",
   "execution_count": 40,
   "metadata": {},
   "outputs": [
    {
     "data": {
      "application/vnd.plotly.v1+json": {
       "config": {
        "linkText": "Export to plot.ly",
        "plotlyServerURL": "https://plot.ly",
        "showLink": true
       },
       "data": [
        {
         "marker": {
          "color": "rgb(158,202,225)",
          "line": {
           "color": "rgb(8,48,107)",
           "width": 1.5
          }
         },
         "opacity": 0.6,
         "orientation": "h",
         "text": [
          0.1958,
          0.0971,
          0.068,
          0.0518,
          0.0496,
          0.0419,
          0.0355,
          0.0287,
          0.028,
          0.0273,
          0.0267,
          0.0249,
          0.0243,
          0.0232,
          0.0228,
          0.0223,
          0.0219,
          0.0207,
          0.0205,
          0.02,
          0.02,
          0.0183,
          0.0133,
          0.0097,
          0.0095,
          0.009,
          0.0078,
          0.0075,
          0.007,
          0.0069,
          0.0061,
          0.0054,
          0.0041,
          0.0041,
          0.0041,
          0.0035,
          0.0032,
          0.0028,
          0.0027,
          0.0025,
          0.002
         ],
         "textposition": "outside",
         "type": "bar",
         "uid": "c2f4523d-586e-4f7e-abd9-aa722e570265",
         "x": [
          0.1958040580322273,
          0.09711265332161044,
          0.06798508406414278,
          0.05182085146089694,
          0.04956387735109406,
          0.041851646721322786,
          0.03547607087893534,
          0.02870926678416484,
          0.028013320233383467,
          0.0273147327861658,
          0.026669543685292507,
          0.024864124903980548,
          0.02425492829837644,
          0.023152608234865774,
          0.02275629262951819,
          0.022292891121583495,
          0.02186591647604994,
          0.020723328966717254,
          0.02052568096895923,
          0.019966738432849414,
          0.019958148224016807,
          0.018297506171754532,
          0.013326290442332443,
          0.00967678777375476,
          0.009484912712223723,
          0.009044768996237077,
          0.0077816369333151645,
          0.0074603658446482065,
          0.006967925306323317,
          0.006880329458908852,
          0.006086892973646117,
          0.005351954070979826,
          0.004104931586791478,
          0.004078709517160554,
          0.004054037724636398,
          0.003471748175288161,
          0.0032475796875492836,
          0.0027732498503609624,
          0.0026517429833285196,
          0.002542570029637755,
          0.002034296184969453
         ],
         "y": [
          "url_extensions",
          "url_length",
          "url_char_.",
          "url_number_digits",
          "url_char_w",
          "url_number_consonants",
          "url_char_i",
          "url_char_s",
          "url_tlds",
          "url_char_t",
          "url_char_r",
          "url_char_o",
          "url_char_l",
          "url_char_d",
          "url_words_with_length_4",
          "url_char_z",
          "url_char_p",
          "url_number_vowels",
          "url_char_y",
          "url_char_b",
          "url_char_u",
          "url_extension_.com",
          "url_char_e",
          "url_char_f",
          "url_char_c",
          "url_char_h",
          "url_char_a",
          "url_char_m",
          "url_extension_.net",
          "url_words_with_length_5",
          "url_char_n",
          "url_words_with_length_7",
          "url_char_x",
          "url_char_k",
          "url_char_g",
          "url_words_with_length_6",
          "url_words_with_length_8",
          "url_char_-",
          "url_char_v",
          "url_extension_.i",
          "url_char_j"
         ]
        }
       ],
       "layout": {
        "autosize": false,
        "height": 1000,
        "width": 1000,
        "xaxis": {
         "tickfont": {
          "color": "black",
          "size": 12
         },
         "title": "Feature Importances"
        },
        "yaxis": {
         "automargin": true
        }
       }
      },
      "text/html": [
       "<div id=\"f7b18a2a-11ca-4011-8521-37b4c1915e94\" style=\"height: 1000px; width: 1000px;\" class=\"plotly-graph-div\"></div><script type=\"text/javascript\">require([\"plotly\"], function(Plotly) { window.PLOTLYENV=window.PLOTLYENV || {};window.PLOTLYENV.BASE_URL=\"https://plot.ly\";Plotly.newPlot(\"f7b18a2a-11ca-4011-8521-37b4c1915e94\", [{\"marker\": {\"color\": \"rgb(158,202,225)\", \"line\": {\"color\": \"rgb(8,48,107)\", \"width\": 1.5}}, \"opacity\": 0.6, \"orientation\": \"h\", \"text\": [0.1958, 0.0971, 0.068, 0.0518, 0.0496, 0.0419, 0.0355, 0.0287, 0.028, 0.0273, 0.0267, 0.0249, 0.0243, 0.0232, 0.0228, 0.0223, 0.0219, 0.0207, 0.0205, 0.02, 0.02, 0.0183, 0.0133, 0.0097, 0.0095, 0.009, 0.0078, 0.0075, 0.007, 0.0069, 0.0061, 0.0054, 0.0041, 0.0041, 0.0041, 0.0035, 0.0032, 0.0028, 0.0027, 0.0025, 0.002], \"textposition\": \"outside\", \"x\": [0.1958040580322273, 0.09711265332161044, 0.06798508406414278, 0.05182085146089694, 0.04956387735109406, 0.041851646721322786, 0.03547607087893534, 0.02870926678416484, 0.028013320233383467, 0.0273147327861658, 0.026669543685292507, 0.024864124903980548, 0.02425492829837644, 0.023152608234865774, 0.02275629262951819, 0.022292891121583495, 0.02186591647604994, 0.020723328966717254, 0.02052568096895923, 0.019966738432849414, 0.019958148224016807, 0.018297506171754532, 0.013326290442332443, 0.00967678777375476, 0.009484912712223723, 0.009044768996237077, 0.0077816369333151645, 0.0074603658446482065, 0.006967925306323317, 0.006880329458908852, 0.006086892973646117, 0.005351954070979826, 0.004104931586791478, 0.004078709517160554, 0.004054037724636398, 0.003471748175288161, 0.0032475796875492836, 0.0027732498503609624, 0.0026517429833285196, 0.002542570029637755, 0.002034296184969453], \"y\": [\"url_extensions\", \"url_length\", \"url_char_.\", \"url_number_digits\", \"url_char_w\", \"url_number_consonants\", \"url_char_i\", \"url_char_s\", \"url_tlds\", \"url_char_t\", \"url_char_r\", \"url_char_o\", \"url_char_l\", \"url_char_d\", \"url_words_with_length_4\", \"url_char_z\", \"url_char_p\", \"url_number_vowels\", \"url_char_y\", \"url_char_b\", \"url_char_u\", \"url_extension_.com\", \"url_char_e\", \"url_char_f\", \"url_char_c\", \"url_char_h\", \"url_char_a\", \"url_char_m\", \"url_extension_.net\", \"url_words_with_length_5\", \"url_char_n\", \"url_words_with_length_7\", \"url_char_x\", \"url_char_k\", \"url_char_g\", \"url_words_with_length_6\", \"url_words_with_length_8\", \"url_char_-\", \"url_char_v\", \"url_extension_.i\", \"url_char_j\"], \"type\": \"bar\", \"uid\": \"c2f4523d-586e-4f7e-abd9-aa722e570265\"}], {\"autosize\": false, \"height\": 1000, \"width\": 1000, \"xaxis\": {\"tickfont\": {\"color\": \"black\", \"size\": 12}, \"title\": \"Feature Importances\"}, \"yaxis\": {\"automargin\": true}}, {\"showLink\": true, \"linkText\": \"Export to plot.ly\", \"plotlyServerURL\": \"https://plot.ly\"})});</script>"
      ],
      "text/vnd.plotly.v1+html": [
       "<div id=\"f7b18a2a-11ca-4011-8521-37b4c1915e94\" style=\"height: 1000px; width: 1000px;\" class=\"plotly-graph-div\"></div><script type=\"text/javascript\">require([\"plotly\"], function(Plotly) { window.PLOTLYENV=window.PLOTLYENV || {};window.PLOTLYENV.BASE_URL=\"https://plot.ly\";Plotly.newPlot(\"f7b18a2a-11ca-4011-8521-37b4c1915e94\", [{\"marker\": {\"color\": \"rgb(158,202,225)\", \"line\": {\"color\": \"rgb(8,48,107)\", \"width\": 1.5}}, \"opacity\": 0.6, \"orientation\": \"h\", \"text\": [0.1958, 0.0971, 0.068, 0.0518, 0.0496, 0.0419, 0.0355, 0.0287, 0.028, 0.0273, 0.0267, 0.0249, 0.0243, 0.0232, 0.0228, 0.0223, 0.0219, 0.0207, 0.0205, 0.02, 0.02, 0.0183, 0.0133, 0.0097, 0.0095, 0.009, 0.0078, 0.0075, 0.007, 0.0069, 0.0061, 0.0054, 0.0041, 0.0041, 0.0041, 0.0035, 0.0032, 0.0028, 0.0027, 0.0025, 0.002], \"textposition\": \"outside\", \"x\": [0.1958040580322273, 0.09711265332161044, 0.06798508406414278, 0.05182085146089694, 0.04956387735109406, 0.041851646721322786, 0.03547607087893534, 0.02870926678416484, 0.028013320233383467, 0.0273147327861658, 0.026669543685292507, 0.024864124903980548, 0.02425492829837644, 0.023152608234865774, 0.02275629262951819, 0.022292891121583495, 0.02186591647604994, 0.020723328966717254, 0.02052568096895923, 0.019966738432849414, 0.019958148224016807, 0.018297506171754532, 0.013326290442332443, 0.00967678777375476, 0.009484912712223723, 0.009044768996237077, 0.0077816369333151645, 0.0074603658446482065, 0.006967925306323317, 0.006880329458908852, 0.006086892973646117, 0.005351954070979826, 0.004104931586791478, 0.004078709517160554, 0.004054037724636398, 0.003471748175288161, 0.0032475796875492836, 0.0027732498503609624, 0.0026517429833285196, 0.002542570029637755, 0.002034296184969453], \"y\": [\"url_extensions\", \"url_length\", \"url_char_.\", \"url_number_digits\", \"url_char_w\", \"url_number_consonants\", \"url_char_i\", \"url_char_s\", \"url_tlds\", \"url_char_t\", \"url_char_r\", \"url_char_o\", \"url_char_l\", \"url_char_d\", \"url_words_with_length_4\", \"url_char_z\", \"url_char_p\", \"url_number_vowels\", \"url_char_y\", \"url_char_b\", \"url_char_u\", \"url_extension_.com\", \"url_char_e\", \"url_char_f\", \"url_char_c\", \"url_char_h\", \"url_char_a\", \"url_char_m\", \"url_extension_.net\", \"url_words_with_length_5\", \"url_char_n\", \"url_words_with_length_7\", \"url_char_x\", \"url_char_k\", \"url_char_g\", \"url_words_with_length_6\", \"url_words_with_length_8\", \"url_char_-\", \"url_char_v\", \"url_extension_.i\", \"url_char_j\"], \"type\": \"bar\", \"uid\": \"c2f4523d-586e-4f7e-abd9-aa722e570265\"}], {\"autosize\": false, \"height\": 1000, \"width\": 1000, \"xaxis\": {\"tickfont\": {\"color\": \"black\", \"size\": 12}, \"title\": \"Feature Importances\"}, \"yaxis\": {\"automargin\": true}}, {\"showLink\": true, \"linkText\": \"Export to plot.ly\", \"plotlyServerURL\": \"https://plot.ly\"})});</script>"
      ]
     },
     "metadata": {},
     "output_type": "display_data"
    }
   ],
   "source": [
    "feat_impt_plot(np.average(feat_imp,axis=0),columns)"
   ]
  },
  {
   "cell_type": "markdown",
   "metadata": {},
   "source": [
    "### <a id='3' style=\"text-decoration : none; color : #000000;\"> 3. Undersampling</a>"
   ]
  },
  {
   "cell_type": "code",
   "execution_count": 41,
   "metadata": {},
   "outputs": [
    {
     "name": "stdout",
     "output_type": "stream",
     "text": [
      "Shape after undersampling (11050, 41)\n"
     ]
    }
   ],
   "source": [
    "df_non=train[train.Target==0]\n",
    "df_mal=train[train.Target==1]\n",
    "\n",
    "df_non=df_non.sample(frac=len(df_mal)/len(df_non),random_state=0)\n",
    "df_u=df_non.append(df_mal)\n",
    "df_u.Target.value_counts() \n",
    "\n",
    "X_train=df_u[columns]\n",
    "X_train=scaler.transform(X_train)\n",
    "Y_train=df_u.Target.values\n",
    "\n",
    "print(\"Shape after undersampling\",X_train.shape)\n"
   ]
  },
  {
   "cell_type": "code",
   "execution_count": 42,
   "metadata": {
    "collapsed": true
   },
   "outputs": [],
   "source": [
    "## Table to store training and test measures so we can compare later\n",
    "table_80_90_train=pd.DataFrame(columns=['accuracy','TP','TN','FP','FN','FPR','FNR'])\n",
    "table_80_90_test=pd.DataFrame(columns=['accuracy','TP','TN','FP','FN','FPR','FNR','auc','mcc'])"
   ]
  },
  {
   "cell_type": "code",
   "execution_count": 43,
   "metadata": {
    "scrolled": false
   },
   "outputs": [
    {
     "name": "stdout",
     "output_type": "stream",
     "text": [
      "\u001b[1mK-Nearest Neighbors\u001b[0m\n",
      "Accuracy of the model for training data is: 0.919728506787\n",
      "Confusion Matrix for training data is:\n"
     ]
    },
    {
     "data": {
      "text/plain": [
       "Predicted  False  True  __all__\n",
       "Actual                         \n",
       "False       5421   104     5525\n",
       "True         783  4742     5525\n",
       "__all__     6204  4846    11050"
      ]
     },
     "metadata": {},
     "output_type": "display_data"
    },
    {
     "name": "stdout",
     "output_type": "stream",
     "text": [
      "Accuracy of the model for test data is: 0.946867650203\n",
      "Confusion Matrix for test data is:\n"
     ]
    },
    {
     "data": {
      "text/plain": [
       "Predicted  False  True  __all__\n",
       "Actual                         \n",
       "False       7733   252     7985\n",
       "True         245  1124     1369\n",
       "__all__     7978  1376     9354"
      ]
     },
     "metadata": {},
     "output_type": "display_data"
    },
    {
     "name": "stdout",
     "output_type": "stream",
     "text": [
      "\n",
      "\n",
      "\u001b[1mLogistic Regression\u001b[0m\n",
      "Accuracy of the model for training data is: 0.900904977376\n",
      "Confusion Matrix for training data is:\n"
     ]
    },
    {
     "data": {
      "text/plain": [
       "Predicted  False  True  __all__\n",
       "Actual                         \n",
       "False       5158   367     5525\n",
       "True         728  4797     5525\n",
       "__all__     5886  5164    11050"
      ]
     },
     "metadata": {},
     "output_type": "display_data"
    },
    {
     "name": "stdout",
     "output_type": "stream",
     "text": [
      "Accuracy of the model for test data is: 0.919392773145\n",
      "Confusion Matrix for test data is:\n"
     ]
    },
    {
     "data": {
      "text/plain": [
       "Predicted  False  True  __all__\n",
       "Actual                         \n",
       "False       7401   584     7985\n",
       "True         170  1199     1369\n",
       "__all__     7571  1783     9354"
      ]
     },
     "metadata": {},
     "output_type": "display_data"
    },
    {
     "name": "stdout",
     "output_type": "stream",
     "text": [
      "\n",
      "\n",
      "\u001b[1mRandomForest Classifier\u001b[0m\n",
      "Accuracy of the model for training data is: 0.989864253394\n",
      "Confusion Matrix for training data is:\n"
     ]
    },
    {
     "data": {
      "text/plain": [
       "Predicted  False  True  __all__\n",
       "Actual                         \n",
       "False       5518     7     5525\n",
       "True         105  5420     5525\n",
       "__all__     5623  5427    11050"
      ]
     },
     "metadata": {},
     "output_type": "display_data"
    },
    {
     "name": "stdout",
     "output_type": "stream",
     "text": [
      "Accuracy of the model for test data is: 0.940667094291\n",
      "Confusion Matrix for test data is:\n"
     ]
    },
    {
     "data": {
      "text/plain": [
       "Predicted  False  True  __all__\n",
       "Actual                         \n",
       "False       7614   371     7985\n",
       "True         184  1185     1369\n",
       "__all__     7798  1556     9354"
      ]
     },
     "metadata": {},
     "output_type": "display_data"
    },
    {
     "data": {
      "application/vnd.plotly.v1+json": {
       "config": {
        "linkText": "Export to plot.ly",
        "plotlyServerURL": "https://plot.ly",
        "showLink": true
       },
       "data": [
        {
         "marker": {
          "color": "rgb(158,202,225)",
          "line": {
           "color": "rgb(8,48,107)",
           "width": 1.5
          }
         },
         "opacity": 0.6,
         "orientation": "h",
         "text": [
          0.1688,
          0.1213,
          0.1109,
          0.103,
          0.0649,
          0.0364,
          0.0316,
          0.0244,
          0.0233,
          0.0217,
          0.0207,
          0.0166,
          0.016,
          0.0149,
          0.0147,
          0.0128,
          0.0119,
          0.0119,
          0.0115,
          0.011,
          0.0109,
          0.0107,
          0.0103,
          0.0097,
          0.0093,
          0.009,
          0.0088,
          0.0078,
          0.0078,
          0.0072,
          0.0072,
          0.0072,
          0.0067,
          0.0065,
          0.0065,
          0.006,
          0.0054,
          0.0049,
          0.004,
          0.0037,
          0.0024
         ],
         "textposition": "outside",
         "type": "bar",
         "uid": "1676f80c-b91c-48b9-8b93-ed9987ab67ec",
         "x": [
          0.16875268119961698,
          0.12126242859849146,
          0.11090478112121267,
          0.10301791974219059,
          0.06490872071872048,
          0.036447324745984694,
          0.031626051723822116,
          0.024367010548174733,
          0.023250069070528,
          0.02173927936568052,
          0.02067921744474196,
          0.016596863384117075,
          0.01596091117006319,
          0.014902448124911895,
          0.014723885208082335,
          0.012817003020051834,
          0.011901187917781853,
          0.011859307363057334,
          0.011498272562095598,
          0.010976299121437041,
          0.010854275271162778,
          0.010718950247646318,
          0.01025595694893427,
          0.009736338778428033,
          0.009255438845152621,
          0.009008170029816544,
          0.008780284749100486,
          0.00781433856766586,
          0.007766684127406618,
          0.007221718266015654,
          0.00721977681069793,
          0.0071714764683619234,
          0.0066679188271302915,
          0.006467533521377811,
          0.006465731512008172,
          0.005957920165242837,
          0.00540117050958607,
          0.004942771274949562,
          0.004027093607693995,
          0.003703658475577383,
          0.0023711308452824906
         ],
         "y": [
          "url_extensions",
          "url_char_.",
          "url_length",
          "url_number_consonants",
          "url_number_vowels",
          "url_char_w",
          "url_number_digits",
          "url_tlds",
          "url_words_with_length_4",
          "url_char_z",
          "url_extension_.com",
          "url_char_o",
          "url_char_e",
          "url_char_b",
          "url_char_i",
          "url_char_m",
          "url_char_r",
          "url_char_a",
          "url_char_n",
          "url_char_s",
          "url_char_c",
          "url_words_with_length_5",
          "url_char_l",
          "url_char_d",
          "url_char_p",
          "url_char_t",
          "url_char_u",
          "url_words_with_length_7",
          "url_char_y",
          "url_char_h",
          "url_words_with_length_6",
          "url_char_g",
          "url_char_x",
          "url_char_f",
          "url_char_v",
          "url_char_k",
          "url_char_-",
          "url_words_with_length_8",
          "url_char_j",
          "url_extension_.i",
          "url_extension_.net"
         ]
        }
       ],
       "layout": {
        "autosize": false,
        "height": 1000,
        "width": 1000,
        "xaxis": {
         "tickfont": {
          "color": "black",
          "size": 12
         },
         "title": "Feature Importances"
        },
        "yaxis": {
         "automargin": true
        }
       }
      },
      "text/html": [
       "<div id=\"697e573b-d515-45ec-abdc-f61cfe5ac900\" style=\"height: 1000px; width: 1000px;\" class=\"plotly-graph-div\"></div><script type=\"text/javascript\">require([\"plotly\"], function(Plotly) { window.PLOTLYENV=window.PLOTLYENV || {};window.PLOTLYENV.BASE_URL=\"https://plot.ly\";Plotly.newPlot(\"697e573b-d515-45ec-abdc-f61cfe5ac900\", [{\"marker\": {\"color\": \"rgb(158,202,225)\", \"line\": {\"color\": \"rgb(8,48,107)\", \"width\": 1.5}}, \"opacity\": 0.6, \"orientation\": \"h\", \"text\": [0.1688, 0.1213, 0.1109, 0.103, 0.0649, 0.0364, 0.0316, 0.0244, 0.0233, 0.0217, 0.0207, 0.0166, 0.016, 0.0149, 0.0147, 0.0128, 0.0119, 0.0119, 0.0115, 0.011, 0.0109, 0.0107, 0.0103, 0.0097, 0.0093, 0.009, 0.0088, 0.0078, 0.0078, 0.0072, 0.0072, 0.0072, 0.0067, 0.0065, 0.0065, 0.006, 0.0054, 0.0049, 0.004, 0.0037, 0.0024], \"textposition\": \"outside\", \"x\": [0.16875268119961698, 0.12126242859849146, 0.11090478112121267, 0.10301791974219059, 0.06490872071872048, 0.036447324745984694, 0.031626051723822116, 0.024367010548174733, 0.023250069070528, 0.02173927936568052, 0.02067921744474196, 0.016596863384117075, 0.01596091117006319, 0.014902448124911895, 0.014723885208082335, 0.012817003020051834, 0.011901187917781853, 0.011859307363057334, 0.011498272562095598, 0.010976299121437041, 0.010854275271162778, 0.010718950247646318, 0.01025595694893427, 0.009736338778428033, 0.009255438845152621, 0.009008170029816544, 0.008780284749100486, 0.00781433856766586, 0.007766684127406618, 0.007221718266015654, 0.00721977681069793, 0.0071714764683619234, 0.0066679188271302915, 0.006467533521377811, 0.006465731512008172, 0.005957920165242837, 0.00540117050958607, 0.004942771274949562, 0.004027093607693995, 0.003703658475577383, 0.0023711308452824906], \"y\": [\"url_extensions\", \"url_char_.\", \"url_length\", \"url_number_consonants\", \"url_number_vowels\", \"url_char_w\", \"url_number_digits\", \"url_tlds\", \"url_words_with_length_4\", \"url_char_z\", \"url_extension_.com\", \"url_char_o\", \"url_char_e\", \"url_char_b\", \"url_char_i\", \"url_char_m\", \"url_char_r\", \"url_char_a\", \"url_char_n\", \"url_char_s\", \"url_char_c\", \"url_words_with_length_5\", \"url_char_l\", \"url_char_d\", \"url_char_p\", \"url_char_t\", \"url_char_u\", \"url_words_with_length_7\", \"url_char_y\", \"url_char_h\", \"url_words_with_length_6\", \"url_char_g\", \"url_char_x\", \"url_char_f\", \"url_char_v\", \"url_char_k\", \"url_char_-\", \"url_words_with_length_8\", \"url_char_j\", \"url_extension_.i\", \"url_extension_.net\"], \"type\": \"bar\", \"uid\": \"1676f80c-b91c-48b9-8b93-ed9987ab67ec\"}], {\"autosize\": false, \"height\": 1000, \"width\": 1000, \"xaxis\": {\"tickfont\": {\"color\": \"black\", \"size\": 12}, \"title\": \"Feature Importances\"}, \"yaxis\": {\"automargin\": true}}, {\"showLink\": true, \"linkText\": \"Export to plot.ly\", \"plotlyServerURL\": \"https://plot.ly\"})});</script>"
      ],
      "text/vnd.plotly.v1+html": [
       "<div id=\"697e573b-d515-45ec-abdc-f61cfe5ac900\" style=\"height: 1000px; width: 1000px;\" class=\"plotly-graph-div\"></div><script type=\"text/javascript\">require([\"plotly\"], function(Plotly) { window.PLOTLYENV=window.PLOTLYENV || {};window.PLOTLYENV.BASE_URL=\"https://plot.ly\";Plotly.newPlot(\"697e573b-d515-45ec-abdc-f61cfe5ac900\", [{\"marker\": {\"color\": \"rgb(158,202,225)\", \"line\": {\"color\": \"rgb(8,48,107)\", \"width\": 1.5}}, \"opacity\": 0.6, \"orientation\": \"h\", \"text\": [0.1688, 0.1213, 0.1109, 0.103, 0.0649, 0.0364, 0.0316, 0.0244, 0.0233, 0.0217, 0.0207, 0.0166, 0.016, 0.0149, 0.0147, 0.0128, 0.0119, 0.0119, 0.0115, 0.011, 0.0109, 0.0107, 0.0103, 0.0097, 0.0093, 0.009, 0.0088, 0.0078, 0.0078, 0.0072, 0.0072, 0.0072, 0.0067, 0.0065, 0.0065, 0.006, 0.0054, 0.0049, 0.004, 0.0037, 0.0024], \"textposition\": \"outside\", \"x\": [0.16875268119961698, 0.12126242859849146, 0.11090478112121267, 0.10301791974219059, 0.06490872071872048, 0.036447324745984694, 0.031626051723822116, 0.024367010548174733, 0.023250069070528, 0.02173927936568052, 0.02067921744474196, 0.016596863384117075, 0.01596091117006319, 0.014902448124911895, 0.014723885208082335, 0.012817003020051834, 0.011901187917781853, 0.011859307363057334, 0.011498272562095598, 0.010976299121437041, 0.010854275271162778, 0.010718950247646318, 0.01025595694893427, 0.009736338778428033, 0.009255438845152621, 0.009008170029816544, 0.008780284749100486, 0.00781433856766586, 0.007766684127406618, 0.007221718266015654, 0.00721977681069793, 0.0071714764683619234, 0.0066679188271302915, 0.006467533521377811, 0.006465731512008172, 0.005957920165242837, 0.00540117050958607, 0.004942771274949562, 0.004027093607693995, 0.003703658475577383, 0.0023711308452824906], \"y\": [\"url_extensions\", \"url_char_.\", \"url_length\", \"url_number_consonants\", \"url_number_vowels\", \"url_char_w\", \"url_number_digits\", \"url_tlds\", \"url_words_with_length_4\", \"url_char_z\", \"url_extension_.com\", \"url_char_o\", \"url_char_e\", \"url_char_b\", \"url_char_i\", \"url_char_m\", \"url_char_r\", \"url_char_a\", \"url_char_n\", \"url_char_s\", \"url_char_c\", \"url_words_with_length_5\", \"url_char_l\", \"url_char_d\", \"url_char_p\", \"url_char_t\", \"url_char_u\", \"url_words_with_length_7\", \"url_char_y\", \"url_char_h\", \"url_words_with_length_6\", \"url_char_g\", \"url_char_x\", \"url_char_f\", \"url_char_v\", \"url_char_k\", \"url_char_-\", \"url_words_with_length_8\", \"url_char_j\", \"url_extension_.i\", \"url_extension_.net\"], \"type\": \"bar\", \"uid\": \"1676f80c-b91c-48b9-8b93-ed9987ab67ec\"}], {\"autosize\": false, \"height\": 1000, \"width\": 1000, \"xaxis\": {\"tickfont\": {\"color\": \"black\", \"size\": 12}, \"title\": \"Feature Importances\"}, \"yaxis\": {\"automargin\": true}}, {\"showLink\": true, \"linkText\": \"Export to plot.ly\", \"plotlyServerURL\": \"https://plot.ly\"})});</script>"
      ]
     },
     "metadata": {},
     "output_type": "display_data"
    },
    {
     "name": "stdout",
     "output_type": "stream",
     "text": [
      "\n",
      "\n",
      "\u001b[1mAdaoost Classifier\u001b[0m\n",
      "Accuracy of the model for training data is: 0.897013574661\n",
      "Confusion Matrix for training data is:\n"
     ]
    },
    {
     "data": {
      "text/plain": [
       "Predicted  False  True  __all__\n",
       "Actual                         \n",
       "False       5087   438     5525\n",
       "True         700  4825     5525\n",
       "__all__     5787  5263    11050"
      ]
     },
     "metadata": {},
     "output_type": "display_data"
    },
    {
     "name": "stdout",
     "output_type": "stream",
     "text": [
      "Accuracy of the model for test data is: 0.903249946547\n",
      "Confusion Matrix for test data is:\n"
     ]
    },
    {
     "data": {
      "text/plain": [
       "Predicted  False  True  __all__\n",
       "Actual                         \n",
       "False       7248   737     7985\n",
       "True         168  1201     1369\n",
       "__all__     7416  1938     9354"
      ]
     },
     "metadata": {},
     "output_type": "display_data"
    },
    {
     "data": {
      "application/vnd.plotly.v1+json": {
       "config": {
        "linkText": "Export to plot.ly",
        "plotlyServerURL": "https://plot.ly",
        "showLink": true
       },
       "data": [
        {
         "marker": {
          "color": "rgb(158,202,225)",
          "line": {
           "color": "rgb(8,48,107)",
           "width": 1.5
          }
         },
         "opacity": 0.6,
         "orientation": "h",
         "text": [
          0.22,
          0.08,
          0.08,
          0.06,
          0.06,
          0.04,
          0.04,
          0.04,
          0.04,
          0.02,
          0.02,
          0.02,
          0.02,
          0.02,
          0.02,
          0.02,
          0.02,
          0.02,
          0.02,
          0.02,
          0.02,
          0.02,
          0.02,
          0.02,
          0.02,
          0.02,
          0,
          0,
          0,
          0,
          0,
          0,
          0,
          0,
          0,
          0,
          0,
          0,
          0,
          0,
          0
         ],
         "textposition": "outside",
         "type": "bar",
         "uid": "2c942abd-dcf6-4d55-aa82-0789d13979e1",
         "x": [
          0.22,
          0.08,
          0.08,
          0.06,
          0.06,
          0.04,
          0.04,
          0.04,
          0.04,
          0.02,
          0.02,
          0.02,
          0.02,
          0.02,
          0.02,
          0.02,
          0.02,
          0.02,
          0.02,
          0.02,
          0.02,
          0.02,
          0.02,
          0.02,
          0.02,
          0.02,
          0,
          0,
          0,
          0,
          0,
          0,
          0,
          0,
          0,
          0,
          0,
          0,
          0,
          0,
          0
         ],
         "y": [
          "url_length",
          "url_extensions",
          "url_char_w",
          "url_words_with_length_4",
          "url_tlds",
          "url_number_digits",
          "url_number_consonants",
          "url_char_z",
          "url_char_.",
          "url_char_r",
          "url_number_vowels",
          "url_extension_.net",
          "url_extension_.i",
          "url_extension_.com",
          "url_char_y",
          "url_char_x",
          "url_char_t",
          "url_char_g",
          "url_char_n",
          "url_char_b",
          "url_char_m",
          "url_char_l",
          "url_char_i",
          "url_char_h",
          "url_char_o",
          "url_char_f",
          "url_char_c",
          "url_char_a",
          "url_words_with_length_8",
          "url_words_with_length_7",
          "url_words_with_length_6",
          "url_words_with_length_5",
          "url_char_p",
          "url_char_d",
          "url_char_e",
          "url_char_j",
          "url_char_k",
          "url_char_v",
          "url_char_u",
          "url_char_s",
          "url_char_-"
         ]
        }
       ],
       "layout": {
        "autosize": false,
        "height": 1000,
        "width": 1000,
        "xaxis": {
         "tickfont": {
          "color": "black",
          "size": 12
         },
         "title": "Feature Importances"
        },
        "yaxis": {
         "automargin": true
        }
       }
      },
      "text/html": [
       "<div id=\"5ef77974-7fd8-45f7-b2bb-637c0168ac63\" style=\"height: 1000px; width: 1000px;\" class=\"plotly-graph-div\"></div><script type=\"text/javascript\">require([\"plotly\"], function(Plotly) { window.PLOTLYENV=window.PLOTLYENV || {};window.PLOTLYENV.BASE_URL=\"https://plot.ly\";Plotly.newPlot(\"5ef77974-7fd8-45f7-b2bb-637c0168ac63\", [{\"marker\": {\"color\": \"rgb(158,202,225)\", \"line\": {\"color\": \"rgb(8,48,107)\", \"width\": 1.5}}, \"opacity\": 0.6, \"orientation\": \"h\", \"text\": [0.22, 0.08, 0.08, 0.06, 0.06, 0.04, 0.04, 0.04, 0.04, 0.02, 0.02, 0.02, 0.02, 0.02, 0.02, 0.02, 0.02, 0.02, 0.02, 0.02, 0.02, 0.02, 0.02, 0.02, 0.02, 0.02, 0.0, 0.0, 0.0, 0.0, 0.0, 0.0, 0.0, 0.0, 0.0, 0.0, 0.0, 0.0, 0.0, 0.0, 0.0], \"textposition\": \"outside\", \"x\": [0.22, 0.08, 0.08, 0.06, 0.06, 0.04, 0.04, 0.04, 0.04, 0.02, 0.02, 0.02, 0.02, 0.02, 0.02, 0.02, 0.02, 0.02, 0.02, 0.02, 0.02, 0.02, 0.02, 0.02, 0.02, 0.02, 0.0, 0.0, 0.0, 0.0, 0.0, 0.0, 0.0, 0.0, 0.0, 0.0, 0.0, 0.0, 0.0, 0.0, 0.0], \"y\": [\"url_length\", \"url_extensions\", \"url_char_w\", \"url_words_with_length_4\", \"url_tlds\", \"url_number_digits\", \"url_number_consonants\", \"url_char_z\", \"url_char_.\", \"url_char_r\", \"url_number_vowels\", \"url_extension_.net\", \"url_extension_.i\", \"url_extension_.com\", \"url_char_y\", \"url_char_x\", \"url_char_t\", \"url_char_g\", \"url_char_n\", \"url_char_b\", \"url_char_m\", \"url_char_l\", \"url_char_i\", \"url_char_h\", \"url_char_o\", \"url_char_f\", \"url_char_c\", \"url_char_a\", \"url_words_with_length_8\", \"url_words_with_length_7\", \"url_words_with_length_6\", \"url_words_with_length_5\", \"url_char_p\", \"url_char_d\", \"url_char_e\", \"url_char_j\", \"url_char_k\", \"url_char_v\", \"url_char_u\", \"url_char_s\", \"url_char_-\"], \"type\": \"bar\", \"uid\": \"2c942abd-dcf6-4d55-aa82-0789d13979e1\"}], {\"autosize\": false, \"height\": 1000, \"width\": 1000, \"xaxis\": {\"tickfont\": {\"color\": \"black\", \"size\": 12}, \"title\": \"Feature Importances\"}, \"yaxis\": {\"automargin\": true}}, {\"showLink\": true, \"linkText\": \"Export to plot.ly\", \"plotlyServerURL\": \"https://plot.ly\"})});</script>"
      ],
      "text/vnd.plotly.v1+html": [
       "<div id=\"5ef77974-7fd8-45f7-b2bb-637c0168ac63\" style=\"height: 1000px; width: 1000px;\" class=\"plotly-graph-div\"></div><script type=\"text/javascript\">require([\"plotly\"], function(Plotly) { window.PLOTLYENV=window.PLOTLYENV || {};window.PLOTLYENV.BASE_URL=\"https://plot.ly\";Plotly.newPlot(\"5ef77974-7fd8-45f7-b2bb-637c0168ac63\", [{\"marker\": {\"color\": \"rgb(158,202,225)\", \"line\": {\"color\": \"rgb(8,48,107)\", \"width\": 1.5}}, \"opacity\": 0.6, \"orientation\": \"h\", \"text\": [0.22, 0.08, 0.08, 0.06, 0.06, 0.04, 0.04, 0.04, 0.04, 0.02, 0.02, 0.02, 0.02, 0.02, 0.02, 0.02, 0.02, 0.02, 0.02, 0.02, 0.02, 0.02, 0.02, 0.02, 0.02, 0.02, 0.0, 0.0, 0.0, 0.0, 0.0, 0.0, 0.0, 0.0, 0.0, 0.0, 0.0, 0.0, 0.0, 0.0, 0.0], \"textposition\": \"outside\", \"x\": [0.22, 0.08, 0.08, 0.06, 0.06, 0.04, 0.04, 0.04, 0.04, 0.02, 0.02, 0.02, 0.02, 0.02, 0.02, 0.02, 0.02, 0.02, 0.02, 0.02, 0.02, 0.02, 0.02, 0.02, 0.02, 0.02, 0.0, 0.0, 0.0, 0.0, 0.0, 0.0, 0.0, 0.0, 0.0, 0.0, 0.0, 0.0, 0.0, 0.0, 0.0], \"y\": [\"url_length\", \"url_extensions\", \"url_char_w\", \"url_words_with_length_4\", \"url_tlds\", \"url_number_digits\", \"url_number_consonants\", \"url_char_z\", \"url_char_.\", \"url_char_r\", \"url_number_vowels\", \"url_extension_.net\", \"url_extension_.i\", \"url_extension_.com\", \"url_char_y\", \"url_char_x\", \"url_char_t\", \"url_char_g\", \"url_char_n\", \"url_char_b\", \"url_char_m\", \"url_char_l\", \"url_char_i\", \"url_char_h\", \"url_char_o\", \"url_char_f\", \"url_char_c\", \"url_char_a\", \"url_words_with_length_8\", \"url_words_with_length_7\", \"url_words_with_length_6\", \"url_words_with_length_5\", \"url_char_p\", \"url_char_d\", \"url_char_e\", \"url_char_j\", \"url_char_k\", \"url_char_v\", \"url_char_u\", \"url_char_s\", \"url_char_-\"], \"type\": \"bar\", \"uid\": \"2c942abd-dcf6-4d55-aa82-0789d13979e1\"}], {\"autosize\": false, \"height\": 1000, \"width\": 1000, \"xaxis\": {\"tickfont\": {\"color\": \"black\", \"size\": 12}, \"title\": \"Feature Importances\"}, \"yaxis\": {\"automargin\": true}}, {\"showLink\": true, \"linkText\": \"Export to plot.ly\", \"plotlyServerURL\": \"https://plot.ly\"})});</script>"
      ]
     },
     "metadata": {},
     "output_type": "display_data"
    },
    {
     "name": "stdout",
     "output_type": "stream",
     "text": [
      "\n",
      "\n",
      "\u001b[1mGradientBoosting Classifier\u001b[0m\n",
      "Accuracy of the model for training data is: 0.909592760181\n",
      "Confusion Matrix for training data is:\n"
     ]
    },
    {
     "data": {
      "text/plain": [
       "Predicted  False  True  __all__\n",
       "Actual                         \n",
       "False       5243   282     5525\n",
       "True         717  4808     5525\n",
       "__all__     5960  5090    11050"
      ]
     },
     "metadata": {},
     "output_type": "display_data"
    },
    {
     "name": "stdout",
     "output_type": "stream",
     "text": [
      "Accuracy of the model for test data is: 0.931686978833\n",
      "Confusion Matrix for test data is:\n"
     ]
    },
    {
     "data": {
      "text/plain": [
       "Predicted  False  True  __all__\n",
       "Actual                         \n",
       "False       7519   466     7985\n",
       "True         173  1196     1369\n",
       "__all__     7692  1662     9354"
      ]
     },
     "metadata": {},
     "output_type": "display_data"
    },
    {
     "data": {
      "application/vnd.plotly.v1+json": {
       "config": {
        "linkText": "Export to plot.ly",
        "plotlyServerURL": "https://plot.ly",
        "showLink": true
       },
       "data": [
        {
         "marker": {
          "color": "rgb(158,202,225)",
          "line": {
           "color": "rgb(8,48,107)",
           "width": 1.5
          }
         },
         "opacity": 0.6,
         "orientation": "h",
         "text": [
          0.438,
          0.2934,
          0.0819,
          0.0407,
          0.037,
          0.0275,
          0.0158,
          0.0146,
          0.0095,
          0.0065,
          0.0063,
          0.0048,
          0.0028,
          0.0022,
          0.0018,
          0.0018,
          0.0016,
          0.0013,
          0.0011,
          0.0011,
          0.0011,
          0.001,
          0.001,
          0.001,
          0.0007,
          0.0007,
          0.0007,
          0.0006,
          0.0005,
          0.0005,
          0.0004,
          0.0004,
          0.0003,
          0.0003,
          0.0003,
          0.0002,
          0.0002,
          0.0002,
          0.0001,
          0.0001,
          0.0001
         ],
         "textposition": "outside",
         "type": "bar",
         "uid": "47a91e93-d096-4472-a134-5a19546d2a03",
         "x": [
          0.4379976811820993,
          0.29342432621692255,
          0.08187448946235555,
          0.04066757710820182,
          0.03702284411687967,
          0.027533521222847374,
          0.015753067891780718,
          0.01455509911698579,
          0.009465681198184122,
          0.006467038719990503,
          0.006269964851889791,
          0.004765435697045337,
          0.0028114187996058594,
          0.0021849876513941927,
          0.0018100277844813393,
          0.0017926082344014132,
          0.0016372744285281667,
          0.00125178968794335,
          0.001120908839568579,
          0.001105058090722342,
          0.0010868691575615355,
          0.0009931316372117174,
          0.0009912007278790411,
          0.0009767157240534994,
          0.0007453002841649828,
          0.0007315709738323501,
          0.0007117695079354559,
          0.0005883841777458645,
          0.000534194787768182,
          0.000495401853747141,
          0.0004299090430596467,
          0.0003502834781549796,
          0.00031851829265770607,
          0.0003180018575922404,
          0.0002784941899736393,
          0.00021226722505576632,
          0.00018781945479204206,
          0.00016598653943333542,
          0.00014534837150790132,
          0.0001362022238383708,
          9.183019020701825e-05
         ],
         "y": [
          "url_length",
          "url_extensions",
          "url_char_.",
          "url_char_z",
          "url_number_digits",
          "url_char_w",
          "url_char_b",
          "url_extension_.com",
          "url_words_with_length_4",
          "url_tlds",
          "url_number_consonants",
          "url_char_o",
          "url_char_i",
          "url_extension_.i",
          "url_char_-",
          "url_char_m",
          "url_char_y",
          "url_number_vowels",
          "url_char_r",
          "url_words_with_length_6",
          "url_char_e",
          "url_char_c",
          "url_char_f",
          "url_char_x",
          "url_extension_.net",
          "url_char_d",
          "url_char_l",
          "url_char_p",
          "url_char_n",
          "url_char_u",
          "url_char_g",
          "url_char_k",
          "url_words_with_length_5",
          "url_char_t",
          "url_char_v",
          "url_char_s",
          "url_char_h",
          "url_char_a",
          "url_words_with_length_8",
          "url_words_with_length_7",
          "url_char_j"
         ]
        }
       ],
       "layout": {
        "autosize": false,
        "height": 1000,
        "width": 1000,
        "xaxis": {
         "tickfont": {
          "color": "black",
          "size": 12
         },
         "title": "Feature Importances"
        },
        "yaxis": {
         "automargin": true
        }
       }
      },
      "text/html": [
       "<div id=\"47a25bcd-f2ec-4d44-95ec-26f454e6bcc5\" style=\"height: 1000px; width: 1000px;\" class=\"plotly-graph-div\"></div><script type=\"text/javascript\">require([\"plotly\"], function(Plotly) { window.PLOTLYENV=window.PLOTLYENV || {};window.PLOTLYENV.BASE_URL=\"https://plot.ly\";Plotly.newPlot(\"47a25bcd-f2ec-4d44-95ec-26f454e6bcc5\", [{\"marker\": {\"color\": \"rgb(158,202,225)\", \"line\": {\"color\": \"rgb(8,48,107)\", \"width\": 1.5}}, \"opacity\": 0.6, \"orientation\": \"h\", \"text\": [0.438, 0.2934, 0.0819, 0.0407, 0.037, 0.0275, 0.0158, 0.0146, 0.0095, 0.0065, 0.0063, 0.0048, 0.0028, 0.0022, 0.0018, 0.0018, 0.0016, 0.0013, 0.0011, 0.0011, 0.0011, 0.001, 0.001, 0.001, 0.0007, 0.0007, 0.0007, 0.0006, 0.0005, 0.0005, 0.0004, 0.0004, 0.0003, 0.0003, 0.0003, 0.0002, 0.0002, 0.0002, 0.0001, 0.0001, 0.0001], \"textposition\": \"outside\", \"x\": [0.4379976811820993, 0.29342432621692255, 0.08187448946235555, 0.04066757710820182, 0.03702284411687967, 0.027533521222847374, 0.015753067891780718, 0.01455509911698579, 0.009465681198184122, 0.006467038719990503, 0.006269964851889791, 0.004765435697045337, 0.0028114187996058594, 0.0021849876513941927, 0.0018100277844813393, 0.0017926082344014132, 0.0016372744285281667, 0.00125178968794335, 0.001120908839568579, 0.001105058090722342, 0.0010868691575615355, 0.0009931316372117174, 0.0009912007278790411, 0.0009767157240534994, 0.0007453002841649828, 0.0007315709738323501, 0.0007117695079354559, 0.0005883841777458645, 0.000534194787768182, 0.000495401853747141, 0.0004299090430596467, 0.0003502834781549796, 0.00031851829265770607, 0.0003180018575922404, 0.0002784941899736393, 0.00021226722505576632, 0.00018781945479204206, 0.00016598653943333542, 0.00014534837150790132, 0.0001362022238383708, 9.183019020701825e-05], \"y\": [\"url_length\", \"url_extensions\", \"url_char_.\", \"url_char_z\", \"url_number_digits\", \"url_char_w\", \"url_char_b\", \"url_extension_.com\", \"url_words_with_length_4\", \"url_tlds\", \"url_number_consonants\", \"url_char_o\", \"url_char_i\", \"url_extension_.i\", \"url_char_-\", \"url_char_m\", \"url_char_y\", \"url_number_vowels\", \"url_char_r\", \"url_words_with_length_6\", \"url_char_e\", \"url_char_c\", \"url_char_f\", \"url_char_x\", \"url_extension_.net\", \"url_char_d\", \"url_char_l\", \"url_char_p\", \"url_char_n\", \"url_char_u\", \"url_char_g\", \"url_char_k\", \"url_words_with_length_5\", \"url_char_t\", \"url_char_v\", \"url_char_s\", \"url_char_h\", \"url_char_a\", \"url_words_with_length_8\", \"url_words_with_length_7\", \"url_char_j\"], \"type\": \"bar\", \"uid\": \"47a91e93-d096-4472-a134-5a19546d2a03\"}], {\"autosize\": false, \"height\": 1000, \"width\": 1000, \"xaxis\": {\"tickfont\": {\"color\": \"black\", \"size\": 12}, \"title\": \"Feature Importances\"}, \"yaxis\": {\"automargin\": true}}, {\"showLink\": true, \"linkText\": \"Export to plot.ly\", \"plotlyServerURL\": \"https://plot.ly\"})});</script>"
      ],
      "text/vnd.plotly.v1+html": [
       "<div id=\"47a25bcd-f2ec-4d44-95ec-26f454e6bcc5\" style=\"height: 1000px; width: 1000px;\" class=\"plotly-graph-div\"></div><script type=\"text/javascript\">require([\"plotly\"], function(Plotly) { window.PLOTLYENV=window.PLOTLYENV || {};window.PLOTLYENV.BASE_URL=\"https://plot.ly\";Plotly.newPlot(\"47a25bcd-f2ec-4d44-95ec-26f454e6bcc5\", [{\"marker\": {\"color\": \"rgb(158,202,225)\", \"line\": {\"color\": \"rgb(8,48,107)\", \"width\": 1.5}}, \"opacity\": 0.6, \"orientation\": \"h\", \"text\": [0.438, 0.2934, 0.0819, 0.0407, 0.037, 0.0275, 0.0158, 0.0146, 0.0095, 0.0065, 0.0063, 0.0048, 0.0028, 0.0022, 0.0018, 0.0018, 0.0016, 0.0013, 0.0011, 0.0011, 0.0011, 0.001, 0.001, 0.001, 0.0007, 0.0007, 0.0007, 0.0006, 0.0005, 0.0005, 0.0004, 0.0004, 0.0003, 0.0003, 0.0003, 0.0002, 0.0002, 0.0002, 0.0001, 0.0001, 0.0001], \"textposition\": \"outside\", \"x\": [0.4379976811820993, 0.29342432621692255, 0.08187448946235555, 0.04066757710820182, 0.03702284411687967, 0.027533521222847374, 0.015753067891780718, 0.01455509911698579, 0.009465681198184122, 0.006467038719990503, 0.006269964851889791, 0.004765435697045337, 0.0028114187996058594, 0.0021849876513941927, 0.0018100277844813393, 0.0017926082344014132, 0.0016372744285281667, 0.00125178968794335, 0.001120908839568579, 0.001105058090722342, 0.0010868691575615355, 0.0009931316372117174, 0.0009912007278790411, 0.0009767157240534994, 0.0007453002841649828, 0.0007315709738323501, 0.0007117695079354559, 0.0005883841777458645, 0.000534194787768182, 0.000495401853747141, 0.0004299090430596467, 0.0003502834781549796, 0.00031851829265770607, 0.0003180018575922404, 0.0002784941899736393, 0.00021226722505576632, 0.00018781945479204206, 0.00016598653943333542, 0.00014534837150790132, 0.0001362022238383708, 9.183019020701825e-05], \"y\": [\"url_length\", \"url_extensions\", \"url_char_.\", \"url_char_z\", \"url_number_digits\", \"url_char_w\", \"url_char_b\", \"url_extension_.com\", \"url_words_with_length_4\", \"url_tlds\", \"url_number_consonants\", \"url_char_o\", \"url_char_i\", \"url_extension_.i\", \"url_char_-\", \"url_char_m\", \"url_char_y\", \"url_number_vowels\", \"url_char_r\", \"url_words_with_length_6\", \"url_char_e\", \"url_char_c\", \"url_char_f\", \"url_char_x\", \"url_extension_.net\", \"url_char_d\", \"url_char_l\", \"url_char_p\", \"url_char_n\", \"url_char_u\", \"url_char_g\", \"url_char_k\", \"url_words_with_length_5\", \"url_char_t\", \"url_char_v\", \"url_char_s\", \"url_char_h\", \"url_char_a\", \"url_words_with_length_8\", \"url_words_with_length_7\", \"url_char_j\"], \"type\": \"bar\", \"uid\": \"47a91e93-d096-4472-a134-5a19546d2a03\"}], {\"autosize\": false, \"height\": 1000, \"width\": 1000, \"xaxis\": {\"tickfont\": {\"color\": \"black\", \"size\": 12}, \"title\": \"Feature Importances\"}, \"yaxis\": {\"automargin\": true}}, {\"showLink\": true, \"linkText\": \"Export to plot.ly\", \"plotlyServerURL\": \"https://plot.ly\"})});</script>"
      ]
     },
     "metadata": {},
     "output_type": "display_data"
    },
    {
     "name": "stdout",
     "output_type": "stream",
     "text": [
      "\n",
      "\n",
      "\u001b[1mExtraTree Classifier\u001b[0m\n",
      "Accuracy of the model for training data is: 0.999909502262\n",
      "Confusion Matrix for training data is:\n"
     ]
    },
    {
     "data": {
      "text/plain": [
       "Predicted  False  True  __all__\n",
       "Actual                         \n",
       "False       5525     0     5525\n",
       "True           1  5524     5525\n",
       "__all__     5526  5524    11050"
      ]
     },
     "metadata": {},
     "output_type": "display_data"
    },
    {
     "name": "stdout",
     "output_type": "stream",
     "text": [
      "Accuracy of the model for test data is: 0.938422065427\n",
      "Confusion Matrix for test data is:\n"
     ]
    },
    {
     "data": {
      "text/plain": [
       "Predicted  False  True  __all__\n",
       "Actual                         \n",
       "False       7586   399     7985\n",
       "True         177  1192     1369\n",
       "__all__     7763  1591     9354"
      ]
     },
     "metadata": {},
     "output_type": "display_data"
    },
    {
     "data": {
      "application/vnd.plotly.v1+json": {
       "config": {
        "linkText": "Export to plot.ly",
        "plotlyServerURL": "https://plot.ly",
        "showLink": true
       },
       "data": [
        {
         "marker": {
          "color": "rgb(158,202,225)",
          "line": {
           "color": "rgb(8,48,107)",
           "width": 1.5
          }
         },
         "opacity": 0.6,
         "orientation": "h",
         "text": [
          0.1217,
          0.1028,
          0.0771,
          0.0619,
          0.0462,
          0.0426,
          0.0329,
          0.0326,
          0.0321,
          0.0297,
          0.025,
          0.0244,
          0.0233,
          0.02,
          0.017,
          0.0168,
          0.016,
          0.0157,
          0.0155,
          0.0154,
          0.0153,
          0.0153,
          0.0152,
          0.0149,
          0.0148,
          0.0126,
          0.0126,
          0.0123,
          0.012,
          0.0114,
          0.011,
          0.0102,
          0.0096,
          0.0094,
          0.0093,
          0.0088,
          0.0082,
          0.0081,
          0.0075,
          0.0065,
          0.0064
         ],
         "textposition": "outside",
         "type": "bar",
         "uid": "2f000373-e2e5-415c-8695-d20c44d1fd1d",
         "x": [
          0.121701916489654,
          0.10283503326221591,
          0.07706730903050774,
          0.06191475133548539,
          0.046163110646022,
          0.042581872287209346,
          0.032893468606899304,
          0.032612558363688204,
          0.03211059094482761,
          0.029736364975347436,
          0.02504956461085451,
          0.02437240267631883,
          0.02331594467128975,
          0.02001737512820203,
          0.016980937951396175,
          0.016813667022811278,
          0.016008180024008018,
          0.015714350726134738,
          0.0154833254125225,
          0.015365125816069223,
          0.01531063919917142,
          0.015273909371569954,
          0.015212092892222076,
          0.01490820693560201,
          0.014773141869142858,
          0.012559631882036067,
          0.012555902402054397,
          0.012349121341937833,
          0.01196234410909475,
          0.011405859220491992,
          0.011000358691373377,
          0.0101782867405165,
          0.009643413615125988,
          0.009432953077359087,
          0.009271292726904629,
          0.008786480876453503,
          0.008165499043540216,
          0.008082746442920995,
          0.0074972878797846115,
          0.006495148060614198,
          0.0063978336406195465
         ],
         "y": [
          "url_extensions",
          "url_length",
          "url_char_.",
          "url_char_w",
          "url_tlds",
          "url_extension_.com",
          "url_number_vowels",
          "url_number_consonants",
          "url_number_digits",
          "url_char_i",
          "url_char_b",
          "url_char_z",
          "url_char_s",
          "url_words_with_length_4",
          "url_char_y",
          "url_char_o",
          "url_char_u",
          "url_char_a",
          "url_char_d",
          "url_char_n",
          "url_char_p",
          "url_char_e",
          "url_char_c",
          "url_char_r",
          "url_char_l",
          "url_char_m",
          "url_char_t",
          "url_words_with_length_5",
          "url_char_k",
          "url_words_with_length_6",
          "url_char_x",
          "url_char_g",
          "url_char_h",
          "url_char_f",
          "url_extension_.i",
          "url_words_with_length_7",
          "url_extension_.net",
          "url_char_v",
          "url_char_-",
          "url_char_j",
          "url_words_with_length_8"
         ]
        }
       ],
       "layout": {
        "autosize": false,
        "height": 1000,
        "width": 1000,
        "xaxis": {
         "tickfont": {
          "color": "black",
          "size": 12
         },
         "title": "Feature Importances"
        },
        "yaxis": {
         "automargin": true
        }
       }
      },
      "text/html": [
       "<div id=\"bca28d92-9774-4897-a647-d890eec34fb2\" style=\"height: 1000px; width: 1000px;\" class=\"plotly-graph-div\"></div><script type=\"text/javascript\">require([\"plotly\"], function(Plotly) { window.PLOTLYENV=window.PLOTLYENV || {};window.PLOTLYENV.BASE_URL=\"https://plot.ly\";Plotly.newPlot(\"bca28d92-9774-4897-a647-d890eec34fb2\", [{\"marker\": {\"color\": \"rgb(158,202,225)\", \"line\": {\"color\": \"rgb(8,48,107)\", \"width\": 1.5}}, \"opacity\": 0.6, \"orientation\": \"h\", \"text\": [0.1217, 0.1028, 0.0771, 0.0619, 0.0462, 0.0426, 0.0329, 0.0326, 0.0321, 0.0297, 0.025, 0.0244, 0.0233, 0.02, 0.017, 0.0168, 0.016, 0.0157, 0.0155, 0.0154, 0.0153, 0.0153, 0.0152, 0.0149, 0.0148, 0.0126, 0.0126, 0.0123, 0.012, 0.0114, 0.011, 0.0102, 0.0096, 0.0094, 0.0093, 0.0088, 0.0082, 0.0081, 0.0075, 0.0065, 0.0064], \"textposition\": \"outside\", \"x\": [0.121701916489654, 0.10283503326221591, 0.07706730903050774, 0.06191475133548539, 0.046163110646022, 0.042581872287209346, 0.032893468606899304, 0.032612558363688204, 0.03211059094482761, 0.029736364975347436, 0.02504956461085451, 0.02437240267631883, 0.02331594467128975, 0.02001737512820203, 0.016980937951396175, 0.016813667022811278, 0.016008180024008018, 0.015714350726134738, 0.0154833254125225, 0.015365125816069223, 0.01531063919917142, 0.015273909371569954, 0.015212092892222076, 0.01490820693560201, 0.014773141869142858, 0.012559631882036067, 0.012555902402054397, 0.012349121341937833, 0.01196234410909475, 0.011405859220491992, 0.011000358691373377, 0.0101782867405165, 0.009643413615125988, 0.009432953077359087, 0.009271292726904629, 0.008786480876453503, 0.008165499043540216, 0.008082746442920995, 0.0074972878797846115, 0.006495148060614198, 0.0063978336406195465], \"y\": [\"url_extensions\", \"url_length\", \"url_char_.\", \"url_char_w\", \"url_tlds\", \"url_extension_.com\", \"url_number_vowels\", \"url_number_consonants\", \"url_number_digits\", \"url_char_i\", \"url_char_b\", \"url_char_z\", \"url_char_s\", \"url_words_with_length_4\", \"url_char_y\", \"url_char_o\", \"url_char_u\", \"url_char_a\", \"url_char_d\", \"url_char_n\", \"url_char_p\", \"url_char_e\", \"url_char_c\", \"url_char_r\", \"url_char_l\", \"url_char_m\", \"url_char_t\", \"url_words_with_length_5\", \"url_char_k\", \"url_words_with_length_6\", \"url_char_x\", \"url_char_g\", \"url_char_h\", \"url_char_f\", \"url_extension_.i\", \"url_words_with_length_7\", \"url_extension_.net\", \"url_char_v\", \"url_char_-\", \"url_char_j\", \"url_words_with_length_8\"], \"type\": \"bar\", \"uid\": \"2f000373-e2e5-415c-8695-d20c44d1fd1d\"}], {\"autosize\": false, \"height\": 1000, \"width\": 1000, \"xaxis\": {\"tickfont\": {\"color\": \"black\", \"size\": 12}, \"title\": \"Feature Importances\"}, \"yaxis\": {\"automargin\": true}}, {\"showLink\": true, \"linkText\": \"Export to plot.ly\", \"plotlyServerURL\": \"https://plot.ly\"})});</script>"
      ],
      "text/vnd.plotly.v1+html": [
       "<div id=\"bca28d92-9774-4897-a647-d890eec34fb2\" style=\"height: 1000px; width: 1000px;\" class=\"plotly-graph-div\"></div><script type=\"text/javascript\">require([\"plotly\"], function(Plotly) { window.PLOTLYENV=window.PLOTLYENV || {};window.PLOTLYENV.BASE_URL=\"https://plot.ly\";Plotly.newPlot(\"bca28d92-9774-4897-a647-d890eec34fb2\", [{\"marker\": {\"color\": \"rgb(158,202,225)\", \"line\": {\"color\": \"rgb(8,48,107)\", \"width\": 1.5}}, \"opacity\": 0.6, \"orientation\": \"h\", \"text\": [0.1217, 0.1028, 0.0771, 0.0619, 0.0462, 0.0426, 0.0329, 0.0326, 0.0321, 0.0297, 0.025, 0.0244, 0.0233, 0.02, 0.017, 0.0168, 0.016, 0.0157, 0.0155, 0.0154, 0.0153, 0.0153, 0.0152, 0.0149, 0.0148, 0.0126, 0.0126, 0.0123, 0.012, 0.0114, 0.011, 0.0102, 0.0096, 0.0094, 0.0093, 0.0088, 0.0082, 0.0081, 0.0075, 0.0065, 0.0064], \"textposition\": \"outside\", \"x\": [0.121701916489654, 0.10283503326221591, 0.07706730903050774, 0.06191475133548539, 0.046163110646022, 0.042581872287209346, 0.032893468606899304, 0.032612558363688204, 0.03211059094482761, 0.029736364975347436, 0.02504956461085451, 0.02437240267631883, 0.02331594467128975, 0.02001737512820203, 0.016980937951396175, 0.016813667022811278, 0.016008180024008018, 0.015714350726134738, 0.0154833254125225, 0.015365125816069223, 0.01531063919917142, 0.015273909371569954, 0.015212092892222076, 0.01490820693560201, 0.014773141869142858, 0.012559631882036067, 0.012555902402054397, 0.012349121341937833, 0.01196234410909475, 0.011405859220491992, 0.011000358691373377, 0.0101782867405165, 0.009643413615125988, 0.009432953077359087, 0.009271292726904629, 0.008786480876453503, 0.008165499043540216, 0.008082746442920995, 0.0074972878797846115, 0.006495148060614198, 0.0063978336406195465], \"y\": [\"url_extensions\", \"url_length\", \"url_char_.\", \"url_char_w\", \"url_tlds\", \"url_extension_.com\", \"url_number_vowels\", \"url_number_consonants\", \"url_number_digits\", \"url_char_i\", \"url_char_b\", \"url_char_z\", \"url_char_s\", \"url_words_with_length_4\", \"url_char_y\", \"url_char_o\", \"url_char_u\", \"url_char_a\", \"url_char_d\", \"url_char_n\", \"url_char_p\", \"url_char_e\", \"url_char_c\", \"url_char_r\", \"url_char_l\", \"url_char_m\", \"url_char_t\", \"url_words_with_length_5\", \"url_char_k\", \"url_words_with_length_6\", \"url_char_x\", \"url_char_g\", \"url_char_h\", \"url_char_f\", \"url_extension_.i\", \"url_words_with_length_7\", \"url_extension_.net\", \"url_char_v\", \"url_char_-\", \"url_char_j\", \"url_words_with_length_8\"], \"type\": \"bar\", \"uid\": \"2f000373-e2e5-415c-8695-d20c44d1fd1d\"}], {\"autosize\": false, \"height\": 1000, \"width\": 1000, \"xaxis\": {\"tickfont\": {\"color\": \"black\", \"size\": 12}, \"title\": \"Feature Importances\"}, \"yaxis\": {\"automargin\": true}}, {\"showLink\": true, \"linkText\": \"Export to plot.ly\", \"plotlyServerURL\": \"https://plot.ly\"})});</script>"
      ]
     },
     "metadata": {},
     "output_type": "display_data"
    },
    {
     "name": "stdout",
     "output_type": "stream",
     "text": [
      "\n",
      "\n",
      "\u001b[1mBagging Classifier\u001b[0m\n",
      "Accuracy of the model for training data is: 0.991131221719\n",
      "Confusion Matrix for training data is:\n"
     ]
    },
    {
     "data": {
      "text/plain": [
       "Predicted  False  True  __all__\n",
       "Actual                         \n",
       "False       5519     6     5525\n",
       "True          92  5433     5525\n",
       "__all__     5611  5439    11050"
      ]
     },
     "metadata": {},
     "output_type": "display_data"
    },
    {
     "name": "stdout",
     "output_type": "stream",
     "text": [
      "Accuracy of the model for test data is: 0.935001069061\n",
      "Confusion Matrix for test data is:\n"
     ]
    },
    {
     "data": {
      "text/plain": [
       "Predicted  False  True  __all__\n",
       "Actual                         \n",
       "False       7562   423     7985\n",
       "True         185  1184     1369\n",
       "__all__     7747  1607     9354"
      ]
     },
     "metadata": {},
     "output_type": "display_data"
    },
    {
     "name": "stdout",
     "output_type": "stream",
     "text": [
      "\n",
      "\n",
      "\u001b[1mNeural Network-1\u001b[0m\n",
      "The accuracy of the model on training data is: 0.992488687783\n"
     ]
    },
    {
     "data": {
      "text/plain": [
       "Predicted  False  True  __all__\n",
       "Actual                         \n",
       "False       5491    34     5525\n",
       "True          49  5476     5525\n",
       "__all__     5540  5510    11050"
      ]
     },
     "metadata": {},
     "output_type": "display_data"
    },
    {
     "name": "stdout",
     "output_type": "stream",
     "text": [
      "The accuracy of the model on test data is: 0.88379302972\n"
     ]
    },
    {
     "data": {
      "text/plain": [
       "Predicted  False  True  __all__\n",
       "Actual                         \n",
       "False       7074   911     7985\n",
       "True         176  1193     1369\n",
       "__all__     7250  2104     9354"
      ]
     },
     "metadata": {},
     "output_type": "display_data"
    },
    {
     "name": "stdout",
     "output_type": "stream",
     "text": [
      "\n",
      "\n"
     ]
    }
   ],
   "source": [
    "feat_imp=[None]*4\n",
    "j=0\n",
    "for i in range(0,8):\n",
    "    if i>=2 and i<=5:\n",
    "        model,cm_train,cm_test,acc_train,acc_test,roc_auc,feat_imp[j],mcc=f[i](X_train,Y_train,scaled_X_test,test_Y,columns)\n",
    "        j=j+1\n",
    "    else:\n",
    "        model,cm_train,cm_test,acc_train,acc_test,roc_auc,mcc=f[i](X_train,Y_train,scaled_X_test,test_Y)\n",
    "    table_80_90_train.loc[i]=   ([acc_train,cm_train.TP,cm_train.TN,cm_train.FP,cm_train.FN,cm_train.FPR,cm_train.FNR])\n",
    "    table_80_90_test.loc[i] =   ([acc_test ,cm_test.TP, cm_test.TN, cm_test.FP, cm_test.FN, cm_test.FPR, cm_test.FNR,roc_auc,mcc])\n",
    "    print(\"\\n\")"
   ]
  },
  {
   "cell_type": "markdown",
   "metadata": {},
   "source": [
    "### <a id='3.A' style=\"text-decoration : none; color : #000000;\"> A. Results</a>"
   ]
  },
  {
   "cell_type": "code",
   "execution_count": 44,
   "metadata": {},
   "outputs": [
    {
     "data": {
      "application/vnd.plotly.v1+json": {
       "config": {
        "linkText": "Export to plot.ly",
        "plotlyServerURL": "https://plot.ly",
        "showLink": true
       },
       "data": [
        {
         "mode": "lines",
         "name": "KNN_model",
         "type": "scatter",
         "uid": "2cb39874-6417-4e19-8e38-cf84e102b0b7",
         "x": [
          "accuracy",
          "FPR",
          "FNR",
          "auc"
         ],
         "y": [
          0.9468676502031217,
          0.03155917345021916,
          0.1789627465303141,
          0.8947390400097334
         ]
        },
        {
         "mode": "lines+markers",
         "name": "Logistic Regression",
         "type": "scatter",
         "uid": "c309e20d-701b-4dd6-adff-417bf0a3a6b8",
         "x": [
          "accuracy",
          "FPR",
          "FNR",
          "auc"
         ],
         "y": [
          0.9193927731451785,
          0.07313713212273013,
          0.1241782322863404,
          0.9013423177954648
         ]
        },
        {
         "marker": {
          "symbol": "x"
         },
         "mode": "lines+markers",
         "name": "Random Forest",
         "type": "scatter",
         "uid": "501fa68d-f6d8-4ee9-b641-495152548978",
         "x": [
          "accuracy",
          "FPR",
          "FNR",
          "auc"
         ],
         "y": [
          0.9406670942912123,
          0.04646211646837821,
          0.1344046749452155,
          0.9095666042932031
         ]
        },
        {
         "mode": "lines",
         "name": "Ada Boost",
         "type": "scatter",
         "uid": "fa5aad5b-ccde-4cb1-9f2d-76e737ae7d1f",
         "x": [
          "accuracy",
          "FPR",
          "FNR",
          "auc"
         ],
         "y": [
          0.9032499465469318,
          0.09229805886036319,
          0.12271731190650109,
          0.8924923146165678
         ]
        },
        {
         "mode": "lines+markers",
         "name": "GradientBoosting",
         "type": "scatter",
         "uid": "9313ad2b-29d7-49b5-9606-2a955f59fed7",
         "x": [
          "accuracy",
          "FPR",
          "FNR",
          "auc"
         ],
         "y": [
          0.931686978832585,
          0.05835942391984972,
          0.12636961285609935,
          0.9076354816120255
         ]
        },
        {
         "marker": {
          "symbol": "x"
         },
         "mode": "lines+markers",
         "name": "ExtraTree Classifier",
         "type": "scatter",
         "uid": "00b5f561-849e-489d-99f7-00d72821c73f",
         "x": [
          "accuracy",
          "FPR",
          "FNR",
          "auc"
         ],
         "y": [
          0.9384220654265555,
          0.04996869129618034,
          0.12929145361577793,
          0.9103699275440208
         ]
        },
        {
         "marker": {
          "symbol": "x"
         },
         "mode": "lines+markers",
         "name": "Bagging",
         "type": "scatter",
         "uid": "aa890225-9a36-4d19-aec9-f023a5641962",
         "x": [
          "accuracy",
          "FPR",
          "FNR",
          "auc"
         ],
         "y": [
          0.9350010690613642,
          0.052974326862867877,
          0.13513513513513514,
          0.9059452690009985
         ]
        },
        {
         "marker": {
          "symbol": "x"
         },
         "mode": "lines+markers",
         "name": "Neural Network",
         "type": "scatter",
         "uid": "f56ce295-c1aa-47aa-b97e-55d9537e217d",
         "x": [
          "accuracy",
          "FPR",
          "FNR",
          "auc"
         ],
         "y": [
          0.8837930297199059,
          0.11408891671884784,
          0.12856099342585828,
          0.9059452690009985
         ]
        }
       ],
       "layout": {
        "title": "Result comparision for Features selected in Section 1",
        "yaxis": {
         "dtick": 0.05,
         "tick0": 0
        }
       }
      },
      "text/html": [
       "<div id=\"eedcf1a4-0646-4c13-9f90-548595e4bcf0\" style=\"height: 525px; width: 100%;\" class=\"plotly-graph-div\"></div><script type=\"text/javascript\">require([\"plotly\"], function(Plotly) { window.PLOTLYENV=window.PLOTLYENV || {};window.PLOTLYENV.BASE_URL=\"https://plot.ly\";Plotly.newPlot(\"eedcf1a4-0646-4c13-9f90-548595e4bcf0\", [{\"mode\": \"lines\", \"name\": \"KNN_model\", \"x\": [\"accuracy\", \"FPR\", \"FNR\", \"auc\"], \"y\": [0.9468676502031217, 0.03155917345021916, 0.1789627465303141, 0.8947390400097334], \"type\": \"scatter\", \"uid\": \"2cb39874-6417-4e19-8e38-cf84e102b0b7\"}, {\"mode\": \"lines+markers\", \"name\": \"Logistic Regression\", \"x\": [\"accuracy\", \"FPR\", \"FNR\", \"auc\"], \"y\": [0.9193927731451785, 0.07313713212273013, 0.1241782322863404, 0.9013423177954648], \"type\": \"scatter\", \"uid\": \"c309e20d-701b-4dd6-adff-417bf0a3a6b8\"}, {\"marker\": {\"symbol\": \"x\"}, \"mode\": \"lines+markers\", \"name\": \"Random Forest\", \"x\": [\"accuracy\", \"FPR\", \"FNR\", \"auc\"], \"y\": [0.9406670942912123, 0.04646211646837821, 0.1344046749452155, 0.9095666042932031], \"type\": \"scatter\", \"uid\": \"501fa68d-f6d8-4ee9-b641-495152548978\"}, {\"mode\": \"lines\", \"name\": \"Ada Boost\", \"x\": [\"accuracy\", \"FPR\", \"FNR\", \"auc\"], \"y\": [0.9032499465469318, 0.09229805886036319, 0.12271731190650109, 0.8924923146165678], \"type\": \"scatter\", \"uid\": \"fa5aad5b-ccde-4cb1-9f2d-76e737ae7d1f\"}, {\"mode\": \"lines+markers\", \"name\": \"GradientBoosting\", \"x\": [\"accuracy\", \"FPR\", \"FNR\", \"auc\"], \"y\": [0.931686978832585, 0.05835942391984972, 0.12636961285609935, 0.9076354816120255], \"type\": \"scatter\", \"uid\": \"9313ad2b-29d7-49b5-9606-2a955f59fed7\"}, {\"marker\": {\"symbol\": \"x\"}, \"mode\": \"lines+markers\", \"name\": \"ExtraTree Classifier\", \"x\": [\"accuracy\", \"FPR\", \"FNR\", \"auc\"], \"y\": [0.9384220654265555, 0.04996869129618034, 0.12929145361577793, 0.9103699275440208], \"type\": \"scatter\", \"uid\": \"00b5f561-849e-489d-99f7-00d72821c73f\"}, {\"marker\": {\"symbol\": \"x\"}, \"mode\": \"lines+markers\", \"name\": \"Bagging\", \"x\": [\"accuracy\", \"FPR\", \"FNR\", \"auc\"], \"y\": [0.9350010690613642, 0.052974326862867877, 0.13513513513513514, 0.9059452690009985], \"type\": \"scatter\", \"uid\": \"aa890225-9a36-4d19-aec9-f023a5641962\"}, {\"marker\": {\"symbol\": \"x\"}, \"mode\": \"lines+markers\", \"name\": \"Neural Network\", \"x\": [\"accuracy\", \"FPR\", \"FNR\", \"auc\"], \"y\": [0.8837930297199059, 0.11408891671884784, 0.12856099342585828, 0.9059452690009985], \"type\": \"scatter\", \"uid\": \"f56ce295-c1aa-47aa-b97e-55d9537e217d\"}], {\"title\": \"Result comparision for Features selected in Section 1\", \"yaxis\": {\"dtick\": 0.05, \"tick0\": 0}}, {\"showLink\": true, \"linkText\": \"Export to plot.ly\", \"plotlyServerURL\": \"https://plot.ly\"})});</script><script type=\"text/javascript\">window.addEventListener(\"resize\", function(){window._Plotly.Plots.resize(document.getElementById(\"eedcf1a4-0646-4c13-9f90-548595e4bcf0\"));});</script>"
      ],
      "text/vnd.plotly.v1+html": [
       "<div id=\"eedcf1a4-0646-4c13-9f90-548595e4bcf0\" style=\"height: 525px; width: 100%;\" class=\"plotly-graph-div\"></div><script type=\"text/javascript\">require([\"plotly\"], function(Plotly) { window.PLOTLYENV=window.PLOTLYENV || {};window.PLOTLYENV.BASE_URL=\"https://plot.ly\";Plotly.newPlot(\"eedcf1a4-0646-4c13-9f90-548595e4bcf0\", [{\"mode\": \"lines\", \"name\": \"KNN_model\", \"x\": [\"accuracy\", \"FPR\", \"FNR\", \"auc\"], \"y\": [0.9468676502031217, 0.03155917345021916, 0.1789627465303141, 0.8947390400097334], \"type\": \"scatter\", \"uid\": \"2cb39874-6417-4e19-8e38-cf84e102b0b7\"}, {\"mode\": \"lines+markers\", \"name\": \"Logistic Regression\", \"x\": [\"accuracy\", \"FPR\", \"FNR\", \"auc\"], \"y\": [0.9193927731451785, 0.07313713212273013, 0.1241782322863404, 0.9013423177954648], \"type\": \"scatter\", \"uid\": \"c309e20d-701b-4dd6-adff-417bf0a3a6b8\"}, {\"marker\": {\"symbol\": \"x\"}, \"mode\": \"lines+markers\", \"name\": \"Random Forest\", \"x\": [\"accuracy\", \"FPR\", \"FNR\", \"auc\"], \"y\": [0.9406670942912123, 0.04646211646837821, 0.1344046749452155, 0.9095666042932031], \"type\": \"scatter\", \"uid\": \"501fa68d-f6d8-4ee9-b641-495152548978\"}, {\"mode\": \"lines\", \"name\": \"Ada Boost\", \"x\": [\"accuracy\", \"FPR\", \"FNR\", \"auc\"], \"y\": [0.9032499465469318, 0.09229805886036319, 0.12271731190650109, 0.8924923146165678], \"type\": \"scatter\", \"uid\": \"fa5aad5b-ccde-4cb1-9f2d-76e737ae7d1f\"}, {\"mode\": \"lines+markers\", \"name\": \"GradientBoosting\", \"x\": [\"accuracy\", \"FPR\", \"FNR\", \"auc\"], \"y\": [0.931686978832585, 0.05835942391984972, 0.12636961285609935, 0.9076354816120255], \"type\": \"scatter\", \"uid\": \"9313ad2b-29d7-49b5-9606-2a955f59fed7\"}, {\"marker\": {\"symbol\": \"x\"}, \"mode\": \"lines+markers\", \"name\": \"ExtraTree Classifier\", \"x\": [\"accuracy\", \"FPR\", \"FNR\", \"auc\"], \"y\": [0.9384220654265555, 0.04996869129618034, 0.12929145361577793, 0.9103699275440208], \"type\": \"scatter\", \"uid\": \"00b5f561-849e-489d-99f7-00d72821c73f\"}, {\"marker\": {\"symbol\": \"x\"}, \"mode\": \"lines+markers\", \"name\": \"Bagging\", \"x\": [\"accuracy\", \"FPR\", \"FNR\", \"auc\"], \"y\": [0.9350010690613642, 0.052974326862867877, 0.13513513513513514, 0.9059452690009985], \"type\": \"scatter\", \"uid\": \"aa890225-9a36-4d19-aec9-f023a5641962\"}, {\"marker\": {\"symbol\": \"x\"}, \"mode\": \"lines+markers\", \"name\": \"Neural Network\", \"x\": [\"accuracy\", \"FPR\", \"FNR\", \"auc\"], \"y\": [0.8837930297199059, 0.11408891671884784, 0.12856099342585828, 0.9059452690009985], \"type\": \"scatter\", \"uid\": \"f56ce295-c1aa-47aa-b97e-55d9537e217d\"}], {\"title\": \"Result comparision for Features selected in Section 1\", \"yaxis\": {\"dtick\": 0.05, \"tick0\": 0}}, {\"showLink\": true, \"linkText\": \"Export to plot.ly\", \"plotlyServerURL\": \"https://plot.ly\"})});</script><script type=\"text/javascript\">window.addEventListener(\"resize\", function(){window._Plotly.Plots.resize(document.getElementById(\"eedcf1a4-0646-4c13-9f90-548595e4bcf0\"));});</script>"
      ]
     },
     "metadata": {},
     "output_type": "display_data"
    }
   ],
   "source": [
    "trace0 = go.Scatter(x=table_80_90_test.iloc[0].index.values[[0,5,6,7]],\n",
    "                    y=table_80_90_test.iloc[0].values[[0,5,6,7]],\n",
    "                    mode = 'lines',\n",
    "                    name = 'KNN_model')\n",
    "\n",
    "trace1 = go.Scatter(x=table_80_90_test.iloc[1].index.values[[0,5,6,7]],\n",
    "                    y=table_80_90_test.iloc[1].values[[0,5,6,7]],\n",
    "                    mode = 'lines+markers',\n",
    "                    name = 'Logistic Regression')\n",
    "\n",
    "trace2 = go.Scatter(x=table_80_90_test.iloc[2].index.values[[0,5,6,7]],\n",
    "                    y=table_80_90_test.iloc[2].values[[0,5,6,7]],\n",
    "                    mode = 'lines+markers',marker=dict(symbol='x'),\n",
    "                    name = 'Random Forest')\n",
    "\n",
    "\n",
    "trace3 = go.Scatter(x=table_80_90_test.iloc[3].index.values[[0,5,6,7]],\n",
    "                    y=table_80_90_test.iloc[3].values[[0,5,6,7]],\n",
    "                    mode = 'lines',\n",
    "                    name = 'Ada Boost')\n",
    "\n",
    "trace4 = go.Scatter(x=table_80_90_test.iloc[4].index.values[[0,5,6,7]],\n",
    "                    y=table_80_90_test.iloc[4].values[[0,5,6,7]],\n",
    "                    mode = 'lines+markers',\n",
    "                    name = 'GradientBoosting')\n",
    "\n",
    "trace5 = go.Scatter(x=table_80_90_test.iloc[5].index.values[[0,5,6,7]],\n",
    "                    y=table_80_90_test.iloc[5].values[[0,5,6,7]],\n",
    "                    mode = 'lines+markers',marker=dict(symbol='x'),\n",
    "                    name = 'ExtraTree Classifier')\n",
    "\n",
    "trace6 = go.Scatter(x=table_80_90_test.iloc[6].index.values[[0,5,6,7]],\n",
    "                    y=table_80_90_test.iloc[6].values[[0,5,6,7]],\n",
    "                    mode = 'lines+markers',marker=dict(symbol='x'),\n",
    "                    name = 'Bagging')\n",
    "\n",
    "trace7 = go.Scatter(x=table_80_90_test.iloc[7].index.values[[0,5,6,7]],\n",
    "                    y=table_80_90_test.iloc[7].values[[0,5,6,7]],\n",
    "                    mode = 'lines+markers',marker=dict(symbol='x'),\n",
    "                    name = 'Neural Network')\n",
    "\n",
    "\n",
    "\n",
    "data = [trace0, trace1, trace2, trace3, trace4, trace5, trace6, trace7]\n",
    "layout = go.Layout(yaxis=dict(tick0=0,dtick=0.05),title='Result comparision for Features selected in Section 1')\n",
    "fig = go.Figure(data=data, layout=layout)\n",
    "\n",
    "iplot(fig, filename='Result')"
   ]
  },
  {
   "cell_type": "code",
   "execution_count": 45,
   "metadata": {},
   "outputs": [
    {
     "name": "stdout",
     "output_type": "stream",
     "text": [
      "Training Results\n"
     ]
    },
    {
     "data": {
      "text/html": [
       "<div>\n",
       "<style scoped>\n",
       "    .dataframe tbody tr th:only-of-type {\n",
       "        vertical-align: middle;\n",
       "    }\n",
       "\n",
       "    .dataframe tbody tr th {\n",
       "        vertical-align: top;\n",
       "    }\n",
       "\n",
       "    .dataframe thead th {\n",
       "        text-align: right;\n",
       "    }\n",
       "</style>\n",
       "<table border=\"1\" class=\"dataframe\">\n",
       "  <thead>\n",
       "    <tr style=\"text-align: right;\">\n",
       "      <th></th>\n",
       "      <th>accuracy</th>\n",
       "      <th>TP</th>\n",
       "      <th>TN</th>\n",
       "      <th>FP</th>\n",
       "      <th>FN</th>\n",
       "      <th>FPR</th>\n",
       "      <th>FNR</th>\n",
       "    </tr>\n",
       "    <tr>\n",
       "      <th>index</th>\n",
       "      <th></th>\n",
       "      <th></th>\n",
       "      <th></th>\n",
       "      <th></th>\n",
       "      <th></th>\n",
       "      <th></th>\n",
       "      <th></th>\n",
       "    </tr>\n",
       "  </thead>\n",
       "  <tbody>\n",
       "    <tr>\n",
       "      <th>KNeighborsClassifier</th>\n",
       "      <td>0.919729</td>\n",
       "      <td>4742.0</td>\n",
       "      <td>5421.0</td>\n",
       "      <td>104.0</td>\n",
       "      <td>783.0</td>\n",
       "      <td>0.018824</td>\n",
       "      <td>0.141719</td>\n",
       "    </tr>\n",
       "    <tr>\n",
       "      <th>LogisticRegression</th>\n",
       "      <td>0.900905</td>\n",
       "      <td>4797.0</td>\n",
       "      <td>5158.0</td>\n",
       "      <td>367.0</td>\n",
       "      <td>728.0</td>\n",
       "      <td>0.066425</td>\n",
       "      <td>0.131765</td>\n",
       "    </tr>\n",
       "    <tr>\n",
       "      <th>RandomForestClassifier</th>\n",
       "      <td>0.989864</td>\n",
       "      <td>5420.0</td>\n",
       "      <td>5518.0</td>\n",
       "      <td>7.0</td>\n",
       "      <td>105.0</td>\n",
       "      <td>0.001267</td>\n",
       "      <td>0.019005</td>\n",
       "    </tr>\n",
       "    <tr>\n",
       "      <th>AdaBoostClassifier</th>\n",
       "      <td>0.897014</td>\n",
       "      <td>4825.0</td>\n",
       "      <td>5087.0</td>\n",
       "      <td>438.0</td>\n",
       "      <td>700.0</td>\n",
       "      <td>0.079276</td>\n",
       "      <td>0.126697</td>\n",
       "    </tr>\n",
       "    <tr>\n",
       "      <th>GradientBoostingClassifier</th>\n",
       "      <td>0.909593</td>\n",
       "      <td>4808.0</td>\n",
       "      <td>5243.0</td>\n",
       "      <td>282.0</td>\n",
       "      <td>717.0</td>\n",
       "      <td>0.051041</td>\n",
       "      <td>0.129774</td>\n",
       "    </tr>\n",
       "    <tr>\n",
       "      <th>ExtraTreeClassifier</th>\n",
       "      <td>0.999910</td>\n",
       "      <td>5524.0</td>\n",
       "      <td>5525.0</td>\n",
       "      <td>0.0</td>\n",
       "      <td>1.0</td>\n",
       "      <td>0.000000</td>\n",
       "      <td>0.000181</td>\n",
       "    </tr>\n",
       "    <tr>\n",
       "      <th>BaggingClassifier</th>\n",
       "      <td>0.991131</td>\n",
       "      <td>5433.0</td>\n",
       "      <td>5519.0</td>\n",
       "      <td>6.0</td>\n",
       "      <td>92.0</td>\n",
       "      <td>0.001086</td>\n",
       "      <td>0.016652</td>\n",
       "    </tr>\n",
       "    <tr>\n",
       "      <th>Neural Network-1</th>\n",
       "      <td>0.992489</td>\n",
       "      <td>5476.0</td>\n",
       "      <td>5491.0</td>\n",
       "      <td>34.0</td>\n",
       "      <td>49.0</td>\n",
       "      <td>0.006154</td>\n",
       "      <td>0.008869</td>\n",
       "    </tr>\n",
       "  </tbody>\n",
       "</table>\n",
       "</div>"
      ],
      "text/plain": [
       "                            accuracy      TP      TN     FP     FN       FPR  \\\n",
       "index                                                                          \n",
       "KNeighborsClassifier        0.919729  4742.0  5421.0  104.0  783.0  0.018824   \n",
       "LogisticRegression          0.900905  4797.0  5158.0  367.0  728.0  0.066425   \n",
       "RandomForestClassifier      0.989864  5420.0  5518.0    7.0  105.0  0.001267   \n",
       "AdaBoostClassifier          0.897014  4825.0  5087.0  438.0  700.0  0.079276   \n",
       "GradientBoostingClassifier  0.909593  4808.0  5243.0  282.0  717.0  0.051041   \n",
       "ExtraTreeClassifier         0.999910  5524.0  5525.0    0.0    1.0  0.000000   \n",
       "BaggingClassifier           0.991131  5433.0  5519.0    6.0   92.0  0.001086   \n",
       "Neural Network-1            0.992489  5476.0  5491.0   34.0   49.0  0.006154   \n",
       "\n",
       "                                 FNR  \n",
       "index                                 \n",
       "KNeighborsClassifier        0.141719  \n",
       "LogisticRegression          0.131765  \n",
       "RandomForestClassifier      0.019005  \n",
       "AdaBoostClassifier          0.126697  \n",
       "GradientBoostingClassifier  0.129774  \n",
       "ExtraTreeClassifier         0.000181  \n",
       "BaggingClassifier           0.016652  \n",
       "Neural Network-1            0.008869  "
      ]
     },
     "metadata": {},
     "output_type": "display_data"
    },
    {
     "name": "stdout",
     "output_type": "stream",
     "text": [
      "Test Results\n"
     ]
    },
    {
     "data": {
      "text/html": [
       "<div>\n",
       "<style scoped>\n",
       "    .dataframe tbody tr th:only-of-type {\n",
       "        vertical-align: middle;\n",
       "    }\n",
       "\n",
       "    .dataframe tbody tr th {\n",
       "        vertical-align: top;\n",
       "    }\n",
       "\n",
       "    .dataframe thead th {\n",
       "        text-align: right;\n",
       "    }\n",
       "</style>\n",
       "<table border=\"1\" class=\"dataframe\">\n",
       "  <thead>\n",
       "    <tr style=\"text-align: right;\">\n",
       "      <th></th>\n",
       "      <th>accuracy</th>\n",
       "      <th>TP</th>\n",
       "      <th>TN</th>\n",
       "      <th>FP</th>\n",
       "      <th>FN</th>\n",
       "      <th>FPR</th>\n",
       "      <th>FNR</th>\n",
       "      <th>auc</th>\n",
       "      <th>mcc</th>\n",
       "    </tr>\n",
       "    <tr>\n",
       "      <th>index</th>\n",
       "      <th></th>\n",
       "      <th></th>\n",
       "      <th></th>\n",
       "      <th></th>\n",
       "      <th></th>\n",
       "      <th></th>\n",
       "      <th></th>\n",
       "      <th></th>\n",
       "      <th></th>\n",
       "    </tr>\n",
       "  </thead>\n",
       "  <tbody>\n",
       "    <tr>\n",
       "      <th>KNeighborsClassifier</th>\n",
       "      <td>0.946868</td>\n",
       "      <td>1124.0</td>\n",
       "      <td>7733.0</td>\n",
       "      <td>252.0</td>\n",
       "      <td>245.0</td>\n",
       "      <td>0.031559</td>\n",
       "      <td>0.178963</td>\n",
       "      <td>0.894739</td>\n",
       "      <td>0.787813</td>\n",
       "    </tr>\n",
       "    <tr>\n",
       "      <th>LogisticRegression</th>\n",
       "      <td>0.919393</td>\n",
       "      <td>1199.0</td>\n",
       "      <td>7401.0</td>\n",
       "      <td>584.0</td>\n",
       "      <td>170.0</td>\n",
       "      <td>0.073137</td>\n",
       "      <td>0.124178</td>\n",
       "      <td>0.901342</td>\n",
       "      <td>0.722324</td>\n",
       "    </tr>\n",
       "    <tr>\n",
       "      <th>RandomForestClassifier</th>\n",
       "      <td>0.940667</td>\n",
       "      <td>1185.0</td>\n",
       "      <td>7614.0</td>\n",
       "      <td>371.0</td>\n",
       "      <td>184.0</td>\n",
       "      <td>0.046462</td>\n",
       "      <td>0.134405</td>\n",
       "      <td>0.909567</td>\n",
       "      <td>0.777494</td>\n",
       "    </tr>\n",
       "    <tr>\n",
       "      <th>AdaBoostClassifier</th>\n",
       "      <td>0.903250</td>\n",
       "      <td>1201.0</td>\n",
       "      <td>7248.0</td>\n",
       "      <td>737.0</td>\n",
       "      <td>168.0</td>\n",
       "      <td>0.092298</td>\n",
       "      <td>0.122717</td>\n",
       "      <td>0.892492</td>\n",
       "      <td>0.684603</td>\n",
       "    </tr>\n",
       "    <tr>\n",
       "      <th>GradientBoostingClassifier</th>\n",
       "      <td>0.931687</td>\n",
       "      <td>1196.0</td>\n",
       "      <td>7519.0</td>\n",
       "      <td>466.0</td>\n",
       "      <td>173.0</td>\n",
       "      <td>0.058359</td>\n",
       "      <td>0.126370</td>\n",
       "      <td>0.907635</td>\n",
       "      <td>0.753887</td>\n",
       "    </tr>\n",
       "    <tr>\n",
       "      <th>ExtraTreeClassifier</th>\n",
       "      <td>0.938422</td>\n",
       "      <td>1192.0</td>\n",
       "      <td>7586.0</td>\n",
       "      <td>399.0</td>\n",
       "      <td>177.0</td>\n",
       "      <td>0.049969</td>\n",
       "      <td>0.129291</td>\n",
       "      <td>0.910370</td>\n",
       "      <td>0.772138</td>\n",
       "    </tr>\n",
       "    <tr>\n",
       "      <th>BaggingClassifier</th>\n",
       "      <td>0.935001</td>\n",
       "      <td>1184.0</td>\n",
       "      <td>7562.0</td>\n",
       "      <td>423.0</td>\n",
       "      <td>185.0</td>\n",
       "      <td>0.052974</td>\n",
       "      <td>0.135135</td>\n",
       "      <td>0.905945</td>\n",
       "      <td>0.760785</td>\n",
       "    </tr>\n",
       "    <tr>\n",
       "      <th>Neural Network-1</th>\n",
       "      <td>0.883793</td>\n",
       "      <td>1193.0</td>\n",
       "      <td>7074.0</td>\n",
       "      <td>911.0</td>\n",
       "      <td>176.0</td>\n",
       "      <td>0.114089</td>\n",
       "      <td>0.128561</td>\n",
       "      <td>0.905945</td>\n",
       "      <td>0.641127</td>\n",
       "    </tr>\n",
       "  </tbody>\n",
       "</table>\n",
       "</div>"
      ],
      "text/plain": [
       "                            accuracy      TP      TN     FP     FN       FPR  \\\n",
       "index                                                                          \n",
       "KNeighborsClassifier        0.946868  1124.0  7733.0  252.0  245.0  0.031559   \n",
       "LogisticRegression          0.919393  1199.0  7401.0  584.0  170.0  0.073137   \n",
       "RandomForestClassifier      0.940667  1185.0  7614.0  371.0  184.0  0.046462   \n",
       "AdaBoostClassifier          0.903250  1201.0  7248.0  737.0  168.0  0.092298   \n",
       "GradientBoostingClassifier  0.931687  1196.0  7519.0  466.0  173.0  0.058359   \n",
       "ExtraTreeClassifier         0.938422  1192.0  7586.0  399.0  177.0  0.049969   \n",
       "BaggingClassifier           0.935001  1184.0  7562.0  423.0  185.0  0.052974   \n",
       "Neural Network-1            0.883793  1193.0  7074.0  911.0  176.0  0.114089   \n",
       "\n",
       "                                 FNR       auc       mcc  \n",
       "index                                                     \n",
       "KNeighborsClassifier        0.178963  0.894739  0.787813  \n",
       "LogisticRegression          0.124178  0.901342  0.722324  \n",
       "RandomForestClassifier      0.134405  0.909567  0.777494  \n",
       "AdaBoostClassifier          0.122717  0.892492  0.684603  \n",
       "GradientBoostingClassifier  0.126370  0.907635  0.753887  \n",
       "ExtraTreeClassifier         0.129291  0.910370  0.772138  \n",
       "BaggingClassifier           0.135135  0.905945  0.760785  \n",
       "Neural Network-1            0.128561  0.905945  0.641127  "
      ]
     },
     "metadata": {},
     "output_type": "display_data"
    }
   ],
   "source": [
    "table_80_90_train['index']=ind_columns\n",
    "table_80_90_test['index']=ind_columns\n",
    "\n",
    "\n",
    "table_80_90_test.set_index(['index'],drop=True,inplace=True)\n",
    "table_80_90_train.set_index(['index'],drop=True,inplace=True)\n",
    "\n",
    "print(\"Training Results\")\n",
    "display(table_80_90_train)\n",
    "print(\"Test Results\")\n",
    "display(table_80_90_test)"
   ]
  },
  {
   "cell_type": "markdown",
   "metadata": {},
   "source": [
    "### <a id='3.B' style=\"text-decoration : none; color : #000000;\"> B. Average Feature Importances</a>"
   ]
  },
  {
   "cell_type": "code",
   "execution_count": 46,
   "metadata": {},
   "outputs": [
    {
     "data": {
      "application/vnd.plotly.v1+json": {
       "config": {
        "linkText": "Export to plot.ly",
        "plotlyServerURL": "https://plot.ly",
        "showLink": true
       },
       "data": [
        {
         "marker": {
          "color": "rgb(158,202,225)",
          "line": {
           "color": "rgb(8,48,107)",
           "width": 1.5
          }
         },
         "opacity": 0.6,
         "orientation": "h",
         "text": [
          0.2179,
          0.166,
          0.0801,
          0.0515,
          0.0455,
          0.0352,
          0.0342,
          0.0317,
          0.0298,
          0.0282,
          0.0245,
          0.0189,
          0.0168,
          0.0145,
          0.012,
          0.0118,
          0.0118,
          0.0116,
          0.0114,
          0.0105,
          0.0097,
          0.0094,
          0.0093,
          0.0092,
          0.0088,
          0.0086,
          0.0081,
          0.0078,
          0.0069,
          0.0068,
          0.0065,
          0.0063,
          0.0063,
          0.0058,
          0.0049,
          0.0046,
          0.0042,
          0.0037,
          0.0037,
          0.0029,
          0.0027
         ],
         "textposition": "outside",
         "type": "bar",
         "uid": "4e9a544b-8edf-4d97-8522-b790e592cfae",
         "x": [
          0.21793437389138198,
          0.16596973097654838,
          0.08005105677283869,
          0.05147389932607936,
          0.045475110739442146,
          0.03518987169638235,
          0.03424928997854681,
          0.03169481478755029,
          0.029763494753390782,
          0.02818328134922854,
          0.02445404721223427,
          0.018926270156886783,
          0.016817917245758908,
          0.014543991525993423,
          0.01198257592323811,
          0.011849398291483251,
          0.01179231078412233,
          0.011596224126832741,
          0.011435217081503146,
          0.010470518572365795,
          0.009661248310639293,
          0.009444918062984517,
          0.009263237833983421,
          0.009222921831653984,
          0.00878998471346905,
          0.008626127754445639,
          0.008080422424798669,
          0.007820482543246923,
          0.0069349111571563515,
          0.006764874950149142,
          0.006487808791195721,
          0.0063209666567139115,
          0.006288615555517477,
          0.005846647470560464,
          0.004932673530478066,
          0.004567636938123142,
          0.004184255416989434,
          0.0037067430362257014,
          0.0036771215434630053,
          0.0028714883217692525,
          0.0026535179646288024
         ],
         "y": [
          "url_length",
          "url_extensions",
          "url_char_.",
          "url_char_w",
          "url_number_consonants",
          "url_number_digits",
          "url_tlds",
          "url_char_z",
          "url_number_vowels",
          "url_words_with_length_4",
          "url_extension_.com",
          "url_char_b",
          "url_char_i",
          "url_char_o",
          "url_char_r",
          "url_char_n",
          "url_char_m",
          "url_char_y",
          "url_char_l",
          "url_char_t",
          "url_char_x",
          "url_char_g",
          "url_char_h",
          "url_char_f",
          "url_extension_.i",
          "url_char_s",
          "url_char_e",
          "url_extension_.net",
          "url_char_a",
          "url_char_c",
          "url_char_d",
          "url_char_u",
          "url_char_p",
          "url_words_with_length_5",
          "url_words_with_length_6",
          "url_char_k",
          "url_words_with_length_7",
          "url_char_v",
          "url_char_-",
          "url_words_with_length_8",
          "url_char_j"
         ]
        }
       ],
       "layout": {
        "autosize": false,
        "height": 1000,
        "width": 1000,
        "xaxis": {
         "tickfont": {
          "color": "black",
          "size": 12
         },
         "title": "Feature Importances"
        },
        "yaxis": {
         "automargin": true
        }
       }
      },
      "text/html": [
       "<div id=\"41993112-e2b1-465b-aecc-80d334f53286\" style=\"height: 1000px; width: 1000px;\" class=\"plotly-graph-div\"></div><script type=\"text/javascript\">require([\"plotly\"], function(Plotly) { window.PLOTLYENV=window.PLOTLYENV || {};window.PLOTLYENV.BASE_URL=\"https://plot.ly\";Plotly.newPlot(\"41993112-e2b1-465b-aecc-80d334f53286\", [{\"marker\": {\"color\": \"rgb(158,202,225)\", \"line\": {\"color\": \"rgb(8,48,107)\", \"width\": 1.5}}, \"opacity\": 0.6, \"orientation\": \"h\", \"text\": [0.2179, 0.166, 0.0801, 0.0515, 0.0455, 0.0352, 0.0342, 0.0317, 0.0298, 0.0282, 0.0245, 0.0189, 0.0168, 0.0145, 0.012, 0.0118, 0.0118, 0.0116, 0.0114, 0.0105, 0.0097, 0.0094, 0.0093, 0.0092, 0.0088, 0.0086, 0.0081, 0.0078, 0.0069, 0.0068, 0.0065, 0.0063, 0.0063, 0.0058, 0.0049, 0.0046, 0.0042, 0.0037, 0.0037, 0.0029, 0.0027], \"textposition\": \"outside\", \"x\": [0.21793437389138198, 0.16596973097654838, 0.08005105677283869, 0.05147389932607936, 0.045475110739442146, 0.03518987169638235, 0.03424928997854681, 0.03169481478755029, 0.029763494753390782, 0.02818328134922854, 0.02445404721223427, 0.018926270156886783, 0.016817917245758908, 0.014543991525993423, 0.01198257592323811, 0.011849398291483251, 0.01179231078412233, 0.011596224126832741, 0.011435217081503146, 0.010470518572365795, 0.009661248310639293, 0.009444918062984517, 0.009263237833983421, 0.009222921831653984, 0.00878998471346905, 0.008626127754445639, 0.008080422424798669, 0.007820482543246923, 0.0069349111571563515, 0.006764874950149142, 0.006487808791195721, 0.0063209666567139115, 0.006288615555517477, 0.005846647470560464, 0.004932673530478066, 0.004567636938123142, 0.004184255416989434, 0.0037067430362257014, 0.0036771215434630053, 0.0028714883217692525, 0.0026535179646288024], \"y\": [\"url_length\", \"url_extensions\", \"url_char_.\", \"url_char_w\", \"url_number_consonants\", \"url_number_digits\", \"url_tlds\", \"url_char_z\", \"url_number_vowels\", \"url_words_with_length_4\", \"url_extension_.com\", \"url_char_b\", \"url_char_i\", \"url_char_o\", \"url_char_r\", \"url_char_n\", \"url_char_m\", \"url_char_y\", \"url_char_l\", \"url_char_t\", \"url_char_x\", \"url_char_g\", \"url_char_h\", \"url_char_f\", \"url_extension_.i\", \"url_char_s\", \"url_char_e\", \"url_extension_.net\", \"url_char_a\", \"url_char_c\", \"url_char_d\", \"url_char_u\", \"url_char_p\", \"url_words_with_length_5\", \"url_words_with_length_6\", \"url_char_k\", \"url_words_with_length_7\", \"url_char_v\", \"url_char_-\", \"url_words_with_length_8\", \"url_char_j\"], \"type\": \"bar\", \"uid\": \"4e9a544b-8edf-4d97-8522-b790e592cfae\"}], {\"autosize\": false, \"height\": 1000, \"width\": 1000, \"xaxis\": {\"tickfont\": {\"color\": \"black\", \"size\": 12}, \"title\": \"Feature Importances\"}, \"yaxis\": {\"automargin\": true}}, {\"showLink\": true, \"linkText\": \"Export to plot.ly\", \"plotlyServerURL\": \"https://plot.ly\"})});</script>"
      ],
      "text/vnd.plotly.v1+html": [
       "<div id=\"41993112-e2b1-465b-aecc-80d334f53286\" style=\"height: 1000px; width: 1000px;\" class=\"plotly-graph-div\"></div><script type=\"text/javascript\">require([\"plotly\"], function(Plotly) { window.PLOTLYENV=window.PLOTLYENV || {};window.PLOTLYENV.BASE_URL=\"https://plot.ly\";Plotly.newPlot(\"41993112-e2b1-465b-aecc-80d334f53286\", [{\"marker\": {\"color\": \"rgb(158,202,225)\", \"line\": {\"color\": \"rgb(8,48,107)\", \"width\": 1.5}}, \"opacity\": 0.6, \"orientation\": \"h\", \"text\": [0.2179, 0.166, 0.0801, 0.0515, 0.0455, 0.0352, 0.0342, 0.0317, 0.0298, 0.0282, 0.0245, 0.0189, 0.0168, 0.0145, 0.012, 0.0118, 0.0118, 0.0116, 0.0114, 0.0105, 0.0097, 0.0094, 0.0093, 0.0092, 0.0088, 0.0086, 0.0081, 0.0078, 0.0069, 0.0068, 0.0065, 0.0063, 0.0063, 0.0058, 0.0049, 0.0046, 0.0042, 0.0037, 0.0037, 0.0029, 0.0027], \"textposition\": \"outside\", \"x\": [0.21793437389138198, 0.16596973097654838, 0.08005105677283869, 0.05147389932607936, 0.045475110739442146, 0.03518987169638235, 0.03424928997854681, 0.03169481478755029, 0.029763494753390782, 0.02818328134922854, 0.02445404721223427, 0.018926270156886783, 0.016817917245758908, 0.014543991525993423, 0.01198257592323811, 0.011849398291483251, 0.01179231078412233, 0.011596224126832741, 0.011435217081503146, 0.010470518572365795, 0.009661248310639293, 0.009444918062984517, 0.009263237833983421, 0.009222921831653984, 0.00878998471346905, 0.008626127754445639, 0.008080422424798669, 0.007820482543246923, 0.0069349111571563515, 0.006764874950149142, 0.006487808791195721, 0.0063209666567139115, 0.006288615555517477, 0.005846647470560464, 0.004932673530478066, 0.004567636938123142, 0.004184255416989434, 0.0037067430362257014, 0.0036771215434630053, 0.0028714883217692525, 0.0026535179646288024], \"y\": [\"url_length\", \"url_extensions\", \"url_char_.\", \"url_char_w\", \"url_number_consonants\", \"url_number_digits\", \"url_tlds\", \"url_char_z\", \"url_number_vowels\", \"url_words_with_length_4\", \"url_extension_.com\", \"url_char_b\", \"url_char_i\", \"url_char_o\", \"url_char_r\", \"url_char_n\", \"url_char_m\", \"url_char_y\", \"url_char_l\", \"url_char_t\", \"url_char_x\", \"url_char_g\", \"url_char_h\", \"url_char_f\", \"url_extension_.i\", \"url_char_s\", \"url_char_e\", \"url_extension_.net\", \"url_char_a\", \"url_char_c\", \"url_char_d\", \"url_char_u\", \"url_char_p\", \"url_words_with_length_5\", \"url_words_with_length_6\", \"url_char_k\", \"url_words_with_length_7\", \"url_char_v\", \"url_char_-\", \"url_words_with_length_8\", \"url_char_j\"], \"type\": \"bar\", \"uid\": \"4e9a544b-8edf-4d97-8522-b790e592cfae\"}], {\"autosize\": false, \"height\": 1000, \"width\": 1000, \"xaxis\": {\"tickfont\": {\"color\": \"black\", \"size\": 12}, \"title\": \"Feature Importances\"}, \"yaxis\": {\"automargin\": true}}, {\"showLink\": true, \"linkText\": \"Export to plot.ly\", \"plotlyServerURL\": \"https://plot.ly\"})});</script>"
      ]
     },
     "metadata": {},
     "output_type": "display_data"
    }
   ],
   "source": [
    "feat_impt_plot(np.average(feat_imp,axis=0),columns)"
   ]
  },
  {
   "cell_type": "markdown",
   "metadata": {},
   "source": [
    "### <a id='4' style=\"text-decoration : none; color : #000000;\">4. Feature Transformation with feature selection </a>"
   ]
  },
  {
   "cell_type": "code",
   "execution_count": 47,
   "metadata": {
    "collapsed": true
   },
   "outputs": [],
   "source": [
    "df.reset_index(inplace=True)\n",
    "\n",
    "# columns=columns.tolist()\n",
    "columns.append('domain')\n",
    "\n",
    "df_min=df[columns]"
   ]
  },
  {
   "cell_type": "code",
   "execution_count": 48,
   "metadata": {},
   "outputs": [
    {
     "name": "stdout",
     "output_type": "stream",
     "text": [
      "Built 3321 features\n",
      "EntitySet scattered to workers in 4.514 seconds\n",
      "Elapsed: 00:21 | Remaining: 00:00 | Progress: 100%|██████████| Calculated: 11/11 chunks\n"
     ]
    }
   ],
   "source": [
    "es = ft.EntitySet(id = 'malicious')\n",
    "es.entity_from_dataframe(entity_id = 'data', dataframe = df_min, index = 'domain')\n",
    "\n",
    "feature_matrix_sessions, features_defs = ft.dfs(entityset=es,target_entity=\"data\",\n",
    "                                                trans_primitives = ['add','divide','multiply'],n_jobs=-1,\n",
    "                                                verbose=1,max_depth=1)"
   ]
  },
  {
   "cell_type": "code",
   "execution_count": 49,
   "metadata": {
    "collapsed": true
   },
   "outputs": [],
   "source": [
    "df.set_index(['domain'],drop=True,inplace=True)\n",
    "fs=pd.merge(feature_matrix_sessions,pd.DataFrame(df.Target),left_index=True, right_index=True)\n",
    "fs.replace([np.inf],0,inplace=True)\n",
    "fs.fillna(value=0,inplace=True)"
   ]
  },
  {
   "cell_type": "code",
   "execution_count": 50,
   "metadata": {
    "collapsed": true
   },
   "outputs": [],
   "source": [
    "X=fs.loc[:,fs.columns!='Target']\n",
    "y=fs.Target\n",
    "feature_name = X.columns.tolist()"
   ]
  },
  {
   "cell_type": "code",
   "execution_count": 51,
   "metadata": {
    "collapsed": true
   },
   "outputs": [],
   "source": [
    "def cor_selector(X, y):\n",
    "    cor_list = []\n",
    "    # calculate the correlation with y for each feature\n",
    "    for i in X.columns.tolist():\n",
    "        cor = np.corrcoef(X[i], y)[0, 1]\n",
    "        cor_list.append(cor)\n",
    "    # replace NaN with 0\n",
    "    cor_list = [0 if np.isnan(i) else i for i in cor_list]\n",
    "    # feature name\n",
    "    cor_feature = X.iloc[:,np.argsort(np.abs(cor_list))[-100:]].columns.tolist()\n",
    "    # feature selection? 0 for not select, 1 for select\n",
    "    cor_support = [True if i in cor_feature else False for i in feature_name]\n",
    "    return cor_support, cor_feature\n",
    "\n",
    "\n",
    "cor_support, cor_feature = cor_selector(X, y)"
   ]
  },
  {
   "cell_type": "code",
   "execution_count": 52,
   "metadata": {
    "collapsed": true
   },
   "outputs": [],
   "source": [
    "X_norm = MinMaxScaler().fit_transform(X)\n",
    "chi_selector = SelectKBest(chi2, k=100)\n",
    "chi_selector.fit(X_norm, y)\n",
    "chi_support = chi_selector.get_support()\n",
    "chi_feature = X.loc[:,chi_support].columns.tolist()"
   ]
  },
  {
   "cell_type": "code",
   "execution_count": 53,
   "metadata": {
    "collapsed": true
   },
   "outputs": [],
   "source": [
    "rfe_selector = RFE(estimator=LogisticRegression(random_state=0), n_features_to_select=100, step=0.3, verbose=False)\n",
    "rfe_selector.fit(X_norm, y)\n",
    "rfe_support = rfe_selector.get_support()\n",
    "rfe_feature = X.loc[:,rfe_support].columns.tolist()"
   ]
  },
  {
   "cell_type": "code",
   "execution_count": 54,
   "metadata": {
    "collapsed": true
   },
   "outputs": [],
   "source": [
    "embeded_rf_selector = SelectFromModel(RandomForestClassifier(n_estimators=100,random_state=0), threshold='23*median')\n",
    "embeded_rf_selector.fit(X, y)\n",
    "embeded_rf_support = embeded_rf_selector.get_support()\n",
    "embeded_rf_feature = X.loc[:,embeded_rf_support].columns.tolist()"
   ]
  },
  {
   "cell_type": "code",
   "execution_count": 55,
   "metadata": {
    "collapsed": true
   },
   "outputs": [],
   "source": [
    "feature_selection_df = pd.DataFrame({'Feature':feature_name, 'Pearson':cor_support, 'Chi-2':chi_support, 'RFE':rfe_support,\n",
    "                                    'Random Forest':embeded_rf_support})\n",
    "# count the selected times for each feature\n",
    "feature_selection_df['Total'] = np.sum(feature_selection_df, axis=1)\n",
    "# display the top 100\n",
    "feature_selection_df = feature_selection_df.sort_values(['Total','Feature'] , ascending=False)\n",
    "feature_selection_df.index = range(1, len(feature_selection_df)+1)"
   ]
  },
  {
   "cell_type": "code",
   "execution_count": 56,
   "metadata": {},
   "outputs": [
    {
     "name": "stdout",
     "output_type": "stream",
     "text": [
      "The train/test split ratio is 80:20\n"
     ]
    },
    {
     "data": {
      "text/plain": [
       "(46771, 35)"
      ]
     },
     "execution_count": 56,
     "metadata": {},
     "output_type": "execute_result"
    }
   ],
   "source": [
    "X=fs[feature_selection_df[feature_selection_df.Total>=3]['Feature']]\n",
    "X.fillna(value=0,inplace=True)\n",
    "y=fs.Target.values\n",
    "feature_name = X.columns.tolist()\n",
    "\n",
    "scaler=StandardScaler()\n",
    "scaled_X=scaler.fit_transform(X)\n",
    "\n",
    "print(\"The train/test split ratio is 80:20\")\n",
    "X_train, X_test, Y_train, Y_test = train_test_split(scaled_X,y,random_state=0,test_size=0.2)\n",
    "\n",
    "X.shape"
   ]
  },
  {
   "cell_type": "code",
   "execution_count": 57,
   "metadata": {},
   "outputs": [
    {
     "name": "stdout",
     "output_type": "stream",
     "text": [
      "Features we will be using:\n",
      "\n"
     ]
    },
    {
     "data": {
      "text/plain": [
       "['url_char_w * url_extensions',\n",
       " 'url_char_. + url_char_w',\n",
       " 'url_length + url_words_with_length_8',\n",
       " 'url_length',\n",
       " 'url_extensions + url_length',\n",
       " 'url_extension_.net + url_length',\n",
       " 'url_extension_.i + url_length',\n",
       " 'url_extension_.com + url_length',\n",
       " 'url_char_z + url_length',\n",
       " 'url_char_y + url_length',\n",
       " 'url_char_w + url_length',\n",
       " 'url_char_w + url_extensions',\n",
       " 'url_char_w + url_char_z',\n",
       " 'url_char_v + url_length',\n",
       " 'url_char_u + url_extensions',\n",
       " 'url_char_s + url_length',\n",
       " 'url_char_r + url_length',\n",
       " 'url_char_p + url_length',\n",
       " 'url_char_o + url_length',\n",
       " 'url_char_n + url_length',\n",
       " 'url_char_l + url_length',\n",
       " 'url_char_k + url_length',\n",
       " 'url_char_k + url_extensions',\n",
       " 'url_char_j + url_length',\n",
       " 'url_char_i + url_length',\n",
       " 'url_char_h + url_length',\n",
       " 'url_char_g + url_length',\n",
       " 'url_char_f + url_length',\n",
       " 'url_char_c + url_length',\n",
       " 'url_char_b + url_length',\n",
       " 'url_char_. + url_words_with_length_8',\n",
       " 'url_char_. + url_length',\n",
       " 'url_char_. + url_extension_.net',\n",
       " 'url_char_. + url_char_z',\n",
       " 'url_char_. + url_char_j']"
      ]
     },
     "metadata": {},
     "output_type": "display_data"
    }
   ],
   "source": [
    "print('Features we will be using:\\n')\n",
    "display(feature_name)"
   ]
  },
  {
   "cell_type": "code",
   "execution_count": 58,
   "metadata": {
    "collapsed": true
   },
   "outputs": [],
   "source": [
    "fs=fs.reindex(df_sel.index.values)"
   ]
  },
  {
   "cell_type": "code",
   "execution_count": 59,
   "metadata": {
    "collapsed": true
   },
   "outputs": [],
   "source": [
    "train=fs.iloc[:37417]\n",
    "train_Y=train.Target.values\n",
    "train_X=train[feature_name].values\n",
    "\n",
    "\n",
    "scaler=StandardScaler()\n",
    "scaled_X_train=scaler.fit_transform(train_X)\n",
    "\n",
    "test=fs.iloc[37417:]\n",
    "test_Y=test.Target.values\n",
    "test_X=test[feature_name]\n",
    "\n",
    "scaled_X_test=scaler.transform(test_X)"
   ]
  },
  {
   "cell_type": "code",
   "execution_count": 60,
   "metadata": {
    "collapsed": true
   },
   "outputs": [],
   "source": [
    "## Table to store training and test measures so we can compare later\n",
    "table_80_60_train=pd.DataFrame(columns=['accuracy','TP','TN','FP','FN','FPR','FNR'])\n",
    "table_80_60_test=pd.DataFrame(columns=['accuracy','TP','TN','FP','FN','FPR','FNR','auc','mcc'])"
   ]
  },
  {
   "cell_type": "code",
   "execution_count": 61,
   "metadata": {
    "scrolled": false
   },
   "outputs": [
    {
     "name": "stdout",
     "output_type": "stream",
     "text": [
      "\u001b[1mK-Nearest Neighbors\u001b[0m\n",
      "Accuracy of the model for training data is: 0.958708608387\n",
      "Confusion Matrix for training data is:\n"
     ]
    },
    {
     "data": {
      "text/plain": [
       "Predicted  False  True  __all__\n",
       "Actual                         \n",
       "False      31486   406    31892\n",
       "True        1139  4386     5525\n",
       "__all__    32625  4792    37417"
      ]
     },
     "metadata": {},
     "output_type": "display_data"
    },
    {
     "name": "stdout",
     "output_type": "stream",
     "text": [
      "Accuracy of the model for test data is: 0.949861022023\n",
      "Confusion Matrix for test data is:\n"
     ]
    },
    {
     "data": {
      "text/plain": [
       "Predicted  False  True  __all__\n",
       "Actual                         \n",
       "False       7837   148     7985\n",
       "True         321  1048     1369\n",
       "__all__     8158  1196     9354"
      ]
     },
     "metadata": {},
     "output_type": "display_data"
    },
    {
     "name": "stdout",
     "output_type": "stream",
     "text": [
      "\n",
      "\n",
      "\u001b[1mLogistic Regression\u001b[0m\n",
      "Accuracy of the model for training data is: 0.942833471417\n",
      "Confusion Matrix for training data is:\n"
     ]
    },
    {
     "data": {
      "text/plain": [
       "Predicted  False  True  __all__\n",
       "Actual                         \n",
       "False      31441   451    31892\n",
       "True        1688  3837     5525\n",
       "__all__    33129  4288    37417"
      ]
     },
     "metadata": {},
     "output_type": "display_data"
    },
    {
     "name": "stdout",
     "output_type": "stream",
     "text": [
      "Accuracy of the model for test data is: 0.943660466111\n",
      "Confusion Matrix for test data is:\n"
     ]
    },
    {
     "data": {
      "text/plain": [
       "Predicted  False  True  __all__\n",
       "Actual                         \n",
       "False       7865   120     7985\n",
       "True         407   962     1369\n",
       "__all__     8272  1082     9354"
      ]
     },
     "metadata": {},
     "output_type": "display_data"
    },
    {
     "name": "stdout",
     "output_type": "stream",
     "text": [
      "\n",
      "\n",
      "\u001b[1mRandomForest Classifier\u001b[0m\n",
      "Accuracy of the model for training data is: 0.992944383569\n",
      "Confusion Matrix for training data is:\n"
     ]
    },
    {
     "data": {
      "text/plain": [
       "Predicted  False  True  __all__\n",
       "Actual                         \n",
       "False      31873    19    31892\n",
       "True         245  5280     5525\n",
       "__all__    32118  5299    37417"
      ]
     },
     "metadata": {},
     "output_type": "display_data"
    },
    {
     "name": "stdout",
     "output_type": "stream",
     "text": [
      "Accuracy of the model for test data is: 0.951464614069\n",
      "Confusion Matrix for test data is:\n"
     ]
    },
    {
     "data": {
      "text/plain": [
       "Predicted  False  True  __all__\n",
       "Actual                         \n",
       "False       7857   128     7985\n",
       "True         326  1043     1369\n",
       "__all__     8183  1171     9354"
      ]
     },
     "metadata": {},
     "output_type": "display_data"
    },
    {
     "data": {
      "application/vnd.plotly.v1+json": {
       "config": {
        "linkText": "Export to plot.ly",
        "plotlyServerURL": "https://plot.ly",
        "showLink": true
       },
       "data": [
        {
         "marker": {
          "color": "rgb(158,202,225)",
          "line": {
           "color": "rgb(8,48,107)",
           "width": 1.5
          }
         },
         "opacity": 0.6,
         "orientation": "h",
         "text": [
          0.098,
          0.0819,
          0.066,
          0.0524,
          0.0473,
          0.0445,
          0.0438,
          0.0424,
          0.0413,
          0.0339,
          0.0318,
          0.028,
          0.0257,
          0.025,
          0.0243,
          0.0236,
          0.0236,
          0.0229,
          0.0219,
          0.0209,
          0.0203,
          0.0192,
          0.0188,
          0.0177,
          0.0176,
          0.0171,
          0.015,
          0.0141,
          0.0136,
          0.0108,
          0.0105,
          0.0089,
          0.0069,
          0.0056,
          0.0049
         ],
         "textposition": "outside",
         "type": "bar",
         "uid": "18fcf228-66aa-46d5-8fef-09f5b68b7afa",
         "x": [
          0.09804757431999192,
          0.08189933870831914,
          0.06600172641666208,
          0.052382755911299116,
          0.04726217848130361,
          0.04446069179963182,
          0.043758126982949154,
          0.04241038050381346,
          0.041257048900622456,
          0.0338642971081777,
          0.031753136494929377,
          0.027998609104698265,
          0.025738127677862536,
          0.02504323583611757,
          0.024338748820185743,
          0.023561859318671535,
          0.023558194638952867,
          0.022867466508795325,
          0.021891103912697767,
          0.020862672732198845,
          0.020330927744610587,
          0.01922942690661645,
          0.018781055823632868,
          0.017659869163292357,
          0.01760640101458834,
          0.017076850151965008,
          0.015049701830928163,
          0.014097850874989219,
          0.013641073620154914,
          0.010820179812933102,
          0.01047463863735599,
          0.008887029593393643,
          0.006933750721172589,
          0.005562474127457641,
          0.004891495799028808
         ],
         "y": [
          "url_extensions + url_length",
          "url_char_k + url_length",
          "url_char_w + url_extensions",
          "url_char_w + url_length",
          "url_char_h + url_length",
          "url_char_f + url_length",
          "url_char_z + url_length",
          "url_length",
          "url_char_. + url_char_z",
          "url_char_u + url_extensions",
          "url_char_. + url_extension_.net",
          "url_char_b + url_length",
          "url_char_o + url_length",
          "url_char_w + url_char_z",
          "url_char_y + url_length",
          "url_char_k + url_extensions",
          "url_char_i + url_length",
          "url_char_. + url_length",
          "url_char_. + url_char_j",
          "url_char_r + url_length",
          "url_char_n + url_length",
          "url_char_c + url_length",
          "url_char_s + url_length",
          "url_char_. + url_char_w",
          "url_char_l + url_length",
          "url_char_w * url_extensions",
          "url_char_p + url_length",
          "url_extension_.com + url_length",
          "url_char_g + url_length",
          "url_char_. + url_words_with_length_8",
          "url_char_v + url_length",
          "url_extension_.net + url_length",
          "url_char_j + url_length",
          "url_extension_.i + url_length",
          "url_length + url_words_with_length_8"
         ]
        }
       ],
       "layout": {
        "autosize": false,
        "height": 1000,
        "width": 1000,
        "xaxis": {
         "tickfont": {
          "color": "black",
          "size": 12
         },
         "title": "Feature Importances"
        },
        "yaxis": {
         "automargin": true
        }
       }
      },
      "text/html": [
       "<div id=\"b3b54bb5-f7b8-41d1-8a98-f7386fbb1eb5\" style=\"height: 1000px; width: 1000px;\" class=\"plotly-graph-div\"></div><script type=\"text/javascript\">require([\"plotly\"], function(Plotly) { window.PLOTLYENV=window.PLOTLYENV || {};window.PLOTLYENV.BASE_URL=\"https://plot.ly\";Plotly.newPlot(\"b3b54bb5-f7b8-41d1-8a98-f7386fbb1eb5\", [{\"marker\": {\"color\": \"rgb(158,202,225)\", \"line\": {\"color\": \"rgb(8,48,107)\", \"width\": 1.5}}, \"opacity\": 0.6, \"orientation\": \"h\", \"text\": [0.098, 0.0819, 0.066, 0.0524, 0.0473, 0.0445, 0.0438, 0.0424, 0.0413, 0.0339, 0.0318, 0.028, 0.0257, 0.025, 0.0243, 0.0236, 0.0236, 0.0229, 0.0219, 0.0209, 0.0203, 0.0192, 0.0188, 0.0177, 0.0176, 0.0171, 0.015, 0.0141, 0.0136, 0.0108, 0.0105, 0.0089, 0.0069, 0.0056, 0.0049], \"textposition\": \"outside\", \"x\": [0.09804757431999192, 0.08189933870831914, 0.06600172641666208, 0.052382755911299116, 0.04726217848130361, 0.04446069179963182, 0.043758126982949154, 0.04241038050381346, 0.041257048900622456, 0.0338642971081777, 0.031753136494929377, 0.027998609104698265, 0.025738127677862536, 0.02504323583611757, 0.024338748820185743, 0.023561859318671535, 0.023558194638952867, 0.022867466508795325, 0.021891103912697767, 0.020862672732198845, 0.020330927744610587, 0.01922942690661645, 0.018781055823632868, 0.017659869163292357, 0.01760640101458834, 0.017076850151965008, 0.015049701830928163, 0.014097850874989219, 0.013641073620154914, 0.010820179812933102, 0.01047463863735599, 0.008887029593393643, 0.006933750721172589, 0.005562474127457641, 0.004891495799028808], \"y\": [\"url_extensions + url_length\", \"url_char_k + url_length\", \"url_char_w + url_extensions\", \"url_char_w + url_length\", \"url_char_h + url_length\", \"url_char_f + url_length\", \"url_char_z + url_length\", \"url_length\", \"url_char_. + url_char_z\", \"url_char_u + url_extensions\", \"url_char_. + url_extension_.net\", \"url_char_b + url_length\", \"url_char_o + url_length\", \"url_char_w + url_char_z\", \"url_char_y + url_length\", \"url_char_k + url_extensions\", \"url_char_i + url_length\", \"url_char_. + url_length\", \"url_char_. + url_char_j\", \"url_char_r + url_length\", \"url_char_n + url_length\", \"url_char_c + url_length\", \"url_char_s + url_length\", \"url_char_. + url_char_w\", \"url_char_l + url_length\", \"url_char_w * url_extensions\", \"url_char_p + url_length\", \"url_extension_.com + url_length\", \"url_char_g + url_length\", \"url_char_. + url_words_with_length_8\", \"url_char_v + url_length\", \"url_extension_.net + url_length\", \"url_char_j + url_length\", \"url_extension_.i + url_length\", \"url_length + url_words_with_length_8\"], \"type\": \"bar\", \"uid\": \"18fcf228-66aa-46d5-8fef-09f5b68b7afa\"}], {\"autosize\": false, \"height\": 1000, \"width\": 1000, \"xaxis\": {\"tickfont\": {\"color\": \"black\", \"size\": 12}, \"title\": \"Feature Importances\"}, \"yaxis\": {\"automargin\": true}}, {\"showLink\": true, \"linkText\": \"Export to plot.ly\", \"plotlyServerURL\": \"https://plot.ly\"})});</script>"
      ],
      "text/vnd.plotly.v1+html": [
       "<div id=\"b3b54bb5-f7b8-41d1-8a98-f7386fbb1eb5\" style=\"height: 1000px; width: 1000px;\" class=\"plotly-graph-div\"></div><script type=\"text/javascript\">require([\"plotly\"], function(Plotly) { window.PLOTLYENV=window.PLOTLYENV || {};window.PLOTLYENV.BASE_URL=\"https://plot.ly\";Plotly.newPlot(\"b3b54bb5-f7b8-41d1-8a98-f7386fbb1eb5\", [{\"marker\": {\"color\": \"rgb(158,202,225)\", \"line\": {\"color\": \"rgb(8,48,107)\", \"width\": 1.5}}, \"opacity\": 0.6, \"orientation\": \"h\", \"text\": [0.098, 0.0819, 0.066, 0.0524, 0.0473, 0.0445, 0.0438, 0.0424, 0.0413, 0.0339, 0.0318, 0.028, 0.0257, 0.025, 0.0243, 0.0236, 0.0236, 0.0229, 0.0219, 0.0209, 0.0203, 0.0192, 0.0188, 0.0177, 0.0176, 0.0171, 0.015, 0.0141, 0.0136, 0.0108, 0.0105, 0.0089, 0.0069, 0.0056, 0.0049], \"textposition\": \"outside\", \"x\": [0.09804757431999192, 0.08189933870831914, 0.06600172641666208, 0.052382755911299116, 0.04726217848130361, 0.04446069179963182, 0.043758126982949154, 0.04241038050381346, 0.041257048900622456, 0.0338642971081777, 0.031753136494929377, 0.027998609104698265, 0.025738127677862536, 0.02504323583611757, 0.024338748820185743, 0.023561859318671535, 0.023558194638952867, 0.022867466508795325, 0.021891103912697767, 0.020862672732198845, 0.020330927744610587, 0.01922942690661645, 0.018781055823632868, 0.017659869163292357, 0.01760640101458834, 0.017076850151965008, 0.015049701830928163, 0.014097850874989219, 0.013641073620154914, 0.010820179812933102, 0.01047463863735599, 0.008887029593393643, 0.006933750721172589, 0.005562474127457641, 0.004891495799028808], \"y\": [\"url_extensions + url_length\", \"url_char_k + url_length\", \"url_char_w + url_extensions\", \"url_char_w + url_length\", \"url_char_h + url_length\", \"url_char_f + url_length\", \"url_char_z + url_length\", \"url_length\", \"url_char_. + url_char_z\", \"url_char_u + url_extensions\", \"url_char_. + url_extension_.net\", \"url_char_b + url_length\", \"url_char_o + url_length\", \"url_char_w + url_char_z\", \"url_char_y + url_length\", \"url_char_k + url_extensions\", \"url_char_i + url_length\", \"url_char_. + url_length\", \"url_char_. + url_char_j\", \"url_char_r + url_length\", \"url_char_n + url_length\", \"url_char_c + url_length\", \"url_char_s + url_length\", \"url_char_. + url_char_w\", \"url_char_l + url_length\", \"url_char_w * url_extensions\", \"url_char_p + url_length\", \"url_extension_.com + url_length\", \"url_char_g + url_length\", \"url_char_. + url_words_with_length_8\", \"url_char_v + url_length\", \"url_extension_.net + url_length\", \"url_char_j + url_length\", \"url_extension_.i + url_length\", \"url_length + url_words_with_length_8\"], \"type\": \"bar\", \"uid\": \"18fcf228-66aa-46d5-8fef-09f5b68b7afa\"}], {\"autosize\": false, \"height\": 1000, \"width\": 1000, \"xaxis\": {\"tickfont\": {\"color\": \"black\", \"size\": 12}, \"title\": \"Feature Importances\"}, \"yaxis\": {\"automargin\": true}}, {\"showLink\": true, \"linkText\": \"Export to plot.ly\", \"plotlyServerURL\": \"https://plot.ly\"})});</script>"
      ]
     },
     "metadata": {},
     "output_type": "display_data"
    },
    {
     "name": "stdout",
     "output_type": "stream",
     "text": [
      "\n",
      "\n",
      "\u001b[1mAdaoost Classifier\u001b[0m\n",
      "Accuracy of the model for training data is: 0.936980516877\n",
      "Confusion Matrix for training data is:\n"
     ]
    },
    {
     "data": {
      "text/plain": [
       "Predicted  False  True  __all__\n",
       "Actual                         \n",
       "False      31356   536    31892\n",
       "True        1822  3703     5525\n",
       "__all__    33178  4239    37417"
      ]
     },
     "metadata": {},
     "output_type": "display_data"
    },
    {
     "name": "stdout",
     "output_type": "stream",
     "text": [
      "Accuracy of the model for test data is: 0.936925379517\n",
      "Confusion Matrix for test data is:\n"
     ]
    },
    {
     "data": {
      "text/plain": [
       "Predicted  False  True  __all__\n",
       "Actual                         \n",
       "False       7833   152     7985\n",
       "True         438   931     1369\n",
       "__all__     8271  1083     9354"
      ]
     },
     "metadata": {},
     "output_type": "display_data"
    },
    {
     "data": {
      "application/vnd.plotly.v1+json": {
       "config": {
        "linkText": "Export to plot.ly",
        "plotlyServerURL": "https://plot.ly",
        "showLink": true
       },
       "data": [
        {
         "marker": {
          "color": "rgb(158,202,225)",
          "line": {
           "color": "rgb(8,48,107)",
           "width": 1.5
          }
         },
         "opacity": 0.6,
         "orientation": "h",
         "text": [
          0.12,
          0.12,
          0.1,
          0.1,
          0.06,
          0.06,
          0.06,
          0.06,
          0.04,
          0.04,
          0.04,
          0.04,
          0.02,
          0.02,
          0.02,
          0.02,
          0.02,
          0.02,
          0.02,
          0.02,
          0,
          0,
          0,
          0,
          0,
          0,
          0,
          0,
          0,
          0,
          0,
          0,
          0,
          0,
          0
         ],
         "textposition": "outside",
         "type": "bar",
         "uid": "94cd0333-7b96-4097-b908-1ccc4bd3ae75",
         "x": [
          0.12,
          0.12,
          0.1,
          0.1,
          0.06,
          0.06,
          0.06,
          0.06,
          0.04,
          0.04,
          0.04,
          0.04,
          0.02,
          0.02,
          0.02,
          0.02,
          0.02,
          0.02,
          0.02,
          0.02,
          0,
          0,
          0,
          0,
          0,
          0,
          0,
          0,
          0,
          0,
          0,
          0,
          0,
          0,
          0
         ],
         "y": [
          "url_char_b + url_length",
          "url_char_o + url_length",
          "url_char_. + url_char_z",
          "url_extensions + url_length",
          "url_char_w * url_extensions",
          "url_char_c + url_length",
          "url_char_i + url_length",
          "url_char_w + url_extensions",
          "url_char_. + url_char_w",
          "url_extension_.com + url_length",
          "url_char_k + url_extensions",
          "url_char_u + url_extensions",
          "url_char_. + url_extension_.net",
          "url_char_. + url_words_with_length_8",
          "url_char_f + url_length",
          "url_char_n + url_length",
          "url_char_. + url_char_j",
          "url_char_y + url_length",
          "url_char_w + url_length",
          "url_char_s + url_length",
          "url_char_r + url_length",
          "url_length + url_words_with_length_8",
          "url_length",
          "url_char_. + url_length",
          "url_extension_.net + url_length",
          "url_extension_.i + url_length",
          "url_char_z + url_length",
          "url_char_g + url_length",
          "url_char_h + url_length",
          "url_char_j + url_length",
          "url_char_w + url_char_z",
          "url_char_k + url_length",
          "url_char_l + url_length",
          "url_char_v + url_length",
          "url_char_p + url_length"
         ]
        }
       ],
       "layout": {
        "autosize": false,
        "height": 1000,
        "width": 1000,
        "xaxis": {
         "tickfont": {
          "color": "black",
          "size": 12
         },
         "title": "Feature Importances"
        },
        "yaxis": {
         "automargin": true
        }
       }
      },
      "text/html": [
       "<div id=\"b4595694-923f-41b3-8f31-b27ce14fb8c7\" style=\"height: 1000px; width: 1000px;\" class=\"plotly-graph-div\"></div><script type=\"text/javascript\">require([\"plotly\"], function(Plotly) { window.PLOTLYENV=window.PLOTLYENV || {};window.PLOTLYENV.BASE_URL=\"https://plot.ly\";Plotly.newPlot(\"b4595694-923f-41b3-8f31-b27ce14fb8c7\", [{\"marker\": {\"color\": \"rgb(158,202,225)\", \"line\": {\"color\": \"rgb(8,48,107)\", \"width\": 1.5}}, \"opacity\": 0.6, \"orientation\": \"h\", \"text\": [0.12, 0.12, 0.1, 0.1, 0.06, 0.06, 0.06, 0.06, 0.04, 0.04, 0.04, 0.04, 0.02, 0.02, 0.02, 0.02, 0.02, 0.02, 0.02, 0.02, 0.0, 0.0, 0.0, 0.0, 0.0, 0.0, 0.0, 0.0, 0.0, 0.0, 0.0, 0.0, 0.0, 0.0, 0.0], \"textposition\": \"outside\", \"x\": [0.12, 0.12, 0.1, 0.1, 0.06, 0.06, 0.06, 0.06, 0.04, 0.04, 0.04, 0.04, 0.02, 0.02, 0.02, 0.02, 0.02, 0.02, 0.02, 0.02, 0.0, 0.0, 0.0, 0.0, 0.0, 0.0, 0.0, 0.0, 0.0, 0.0, 0.0, 0.0, 0.0, 0.0, 0.0], \"y\": [\"url_char_b + url_length\", \"url_char_o + url_length\", \"url_char_. + url_char_z\", \"url_extensions + url_length\", \"url_char_w * url_extensions\", \"url_char_c + url_length\", \"url_char_i + url_length\", \"url_char_w + url_extensions\", \"url_char_. + url_char_w\", \"url_extension_.com + url_length\", \"url_char_k + url_extensions\", \"url_char_u + url_extensions\", \"url_char_. + url_extension_.net\", \"url_char_. + url_words_with_length_8\", \"url_char_f + url_length\", \"url_char_n + url_length\", \"url_char_. + url_char_j\", \"url_char_y + url_length\", \"url_char_w + url_length\", \"url_char_s + url_length\", \"url_char_r + url_length\", \"url_length + url_words_with_length_8\", \"url_length\", \"url_char_. + url_length\", \"url_extension_.net + url_length\", \"url_extension_.i + url_length\", \"url_char_z + url_length\", \"url_char_g + url_length\", \"url_char_h + url_length\", \"url_char_j + url_length\", \"url_char_w + url_char_z\", \"url_char_k + url_length\", \"url_char_l + url_length\", \"url_char_v + url_length\", \"url_char_p + url_length\"], \"type\": \"bar\", \"uid\": \"94cd0333-7b96-4097-b908-1ccc4bd3ae75\"}], {\"autosize\": false, \"height\": 1000, \"width\": 1000, \"xaxis\": {\"tickfont\": {\"color\": \"black\", \"size\": 12}, \"title\": \"Feature Importances\"}, \"yaxis\": {\"automargin\": true}}, {\"showLink\": true, \"linkText\": \"Export to plot.ly\", \"plotlyServerURL\": \"https://plot.ly\"})});</script>"
      ],
      "text/vnd.plotly.v1+html": [
       "<div id=\"b4595694-923f-41b3-8f31-b27ce14fb8c7\" style=\"height: 1000px; width: 1000px;\" class=\"plotly-graph-div\"></div><script type=\"text/javascript\">require([\"plotly\"], function(Plotly) { window.PLOTLYENV=window.PLOTLYENV || {};window.PLOTLYENV.BASE_URL=\"https://plot.ly\";Plotly.newPlot(\"b4595694-923f-41b3-8f31-b27ce14fb8c7\", [{\"marker\": {\"color\": \"rgb(158,202,225)\", \"line\": {\"color\": \"rgb(8,48,107)\", \"width\": 1.5}}, \"opacity\": 0.6, \"orientation\": \"h\", \"text\": [0.12, 0.12, 0.1, 0.1, 0.06, 0.06, 0.06, 0.06, 0.04, 0.04, 0.04, 0.04, 0.02, 0.02, 0.02, 0.02, 0.02, 0.02, 0.02, 0.02, 0.0, 0.0, 0.0, 0.0, 0.0, 0.0, 0.0, 0.0, 0.0, 0.0, 0.0, 0.0, 0.0, 0.0, 0.0], \"textposition\": \"outside\", \"x\": [0.12, 0.12, 0.1, 0.1, 0.06, 0.06, 0.06, 0.06, 0.04, 0.04, 0.04, 0.04, 0.02, 0.02, 0.02, 0.02, 0.02, 0.02, 0.02, 0.02, 0.0, 0.0, 0.0, 0.0, 0.0, 0.0, 0.0, 0.0, 0.0, 0.0, 0.0, 0.0, 0.0, 0.0, 0.0], \"y\": [\"url_char_b + url_length\", \"url_char_o + url_length\", \"url_char_. + url_char_z\", \"url_extensions + url_length\", \"url_char_w * url_extensions\", \"url_char_c + url_length\", \"url_char_i + url_length\", \"url_char_w + url_extensions\", \"url_char_. + url_char_w\", \"url_extension_.com + url_length\", \"url_char_k + url_extensions\", \"url_char_u + url_extensions\", \"url_char_. + url_extension_.net\", \"url_char_. + url_words_with_length_8\", \"url_char_f + url_length\", \"url_char_n + url_length\", \"url_char_. + url_char_j\", \"url_char_y + url_length\", \"url_char_w + url_length\", \"url_char_s + url_length\", \"url_char_r + url_length\", \"url_length + url_words_with_length_8\", \"url_length\", \"url_char_. + url_length\", \"url_extension_.net + url_length\", \"url_extension_.i + url_length\", \"url_char_z + url_length\", \"url_char_g + url_length\", \"url_char_h + url_length\", \"url_char_j + url_length\", \"url_char_w + url_char_z\", \"url_char_k + url_length\", \"url_char_l + url_length\", \"url_char_v + url_length\", \"url_char_p + url_length\"], \"type\": \"bar\", \"uid\": \"94cd0333-7b96-4097-b908-1ccc4bd3ae75\"}], {\"autosize\": false, \"height\": 1000, \"width\": 1000, \"xaxis\": {\"tickfont\": {\"color\": \"black\", \"size\": 12}, \"title\": \"Feature Importances\"}, \"yaxis\": {\"automargin\": true}}, {\"showLink\": true, \"linkText\": \"Export to plot.ly\", \"plotlyServerURL\": \"https://plot.ly\"})});</script>"
      ]
     },
     "metadata": {},
     "output_type": "display_data"
    },
    {
     "name": "stdout",
     "output_type": "stream",
     "text": [
      "\n",
      "\n",
      "\u001b[1mGradientBoosting Classifier\u001b[0m\n",
      "Accuracy of the model for training data is: 0.947991554641\n",
      "Confusion Matrix for training data is:\n"
     ]
    },
    {
     "data": {
      "text/plain": [
       "Predicted  False  True  __all__\n",
       "Actual                         \n",
       "False      31307   585    31892\n",
       "True        1361  4164     5525\n",
       "__all__    32668  4749    37417"
      ]
     },
     "metadata": {},
     "output_type": "display_data"
    },
    {
     "name": "stdout",
     "output_type": "stream",
     "text": [
      "Accuracy of the model for test data is: 0.945264058157\n",
      "Confusion Matrix for test data is:\n"
     ]
    },
    {
     "data": {
      "text/plain": [
       "Predicted  False  True  __all__\n",
       "Actual                         \n",
       "False       7828   157     7985\n",
       "True         355  1014     1369\n",
       "__all__     8183  1171     9354"
      ]
     },
     "metadata": {},
     "output_type": "display_data"
    },
    {
     "data": {
      "application/vnd.plotly.v1+json": {
       "config": {
        "linkText": "Export to plot.ly",
        "plotlyServerURL": "https://plot.ly",
        "showLink": true
       },
       "data": [
        {
         "marker": {
          "color": "rgb(158,202,225)",
          "line": {
           "color": "rgb(8,48,107)",
           "width": 1.5
          }
         },
         "opacity": 0.6,
         "orientation": "h",
         "text": [
          0.5499,
          0.1162,
          0.0534,
          0.0435,
          0.0361,
          0.0341,
          0.0245,
          0.0238,
          0.0202,
          0.0184,
          0.0164,
          0.0154,
          0.0124,
          0.011,
          0.009,
          0.0025,
          0.0022,
          0.0017,
          0.0016,
          0.0016,
          0.0013,
          0.001,
          0.0009,
          0.0005,
          0.0005,
          0.0005,
          0.0004,
          0.0003,
          0.0003,
          0.0002,
          0.0002,
          0.0001,
          0,
          0,
          0
         ],
         "textposition": "outside",
         "type": "bar",
         "uid": "ff83b99b-5e62-4012-98d2-ef539501d85f",
         "x": [
          0.5498853566665928,
          0.11623175250257228,
          0.053376614648262856,
          0.04346175101696607,
          0.03612614049567509,
          0.03406945480293287,
          0.02448460995500286,
          0.023780470910622065,
          0.020189563804988243,
          0.018387605612789522,
          0.016379333564233937,
          0.015434891009985584,
          0.012405832628241305,
          0.011048253782863724,
          0.008963451000805069,
          0.002522566976834971,
          0.0021617414878182984,
          0.001651403329571206,
          0.0016046960094537582,
          0.001602126934468712,
          0.0013364589956712007,
          0.0009709126920632952,
          0.0009049394099458615,
          0.0005236704499374745,
          0.0004887390965941302,
          0.0004882401077540092,
          0.00038728116238842596,
          0.0003073781909460708,
          0.0002693441910185041,
          0.00018111026035138515,
          0.0001625095381862287,
          0.00011812415305921432,
          4.702576258642368e-05,
          4.664884881648972e-05,
          0
         ],
         "y": [
          "url_extensions + url_length",
          "url_char_. + url_char_z",
          "url_char_. + url_char_w",
          "url_char_. + url_char_j",
          "url_char_w * url_extensions",
          "url_char_w + url_length",
          "url_char_w + url_extensions",
          "url_char_w + url_char_z",
          "url_char_. + url_extension_.net",
          "url_char_. + url_length",
          "url_char_z + url_length",
          "url_char_u + url_extensions",
          "url_char_k + url_extensions",
          "url_char_o + url_length",
          "url_char_b + url_length",
          "url_char_y + url_length",
          "url_char_p + url_length",
          "url_char_i + url_length",
          "url_char_. + url_words_with_length_8",
          "url_extension_.com + url_length",
          "url_char_f + url_length",
          "url_char_v + url_length",
          "url_char_h + url_length",
          "url_char_c + url_length",
          "url_char_g + url_length",
          "url_char_j + url_length",
          "url_char_r + url_length",
          "url_extension_.i + url_length",
          "url_char_l + url_length",
          "url_length + url_words_with_length_8",
          "url_char_n + url_length",
          "url_char_s + url_length",
          "url_extension_.net + url_length",
          "url_char_k + url_length",
          "url_length"
         ]
        }
       ],
       "layout": {
        "autosize": false,
        "height": 1000,
        "width": 1000,
        "xaxis": {
         "tickfont": {
          "color": "black",
          "size": 12
         },
         "title": "Feature Importances"
        },
        "yaxis": {
         "automargin": true
        }
       }
      },
      "text/html": [
       "<div id=\"45a51043-3fe0-49f3-91be-4a1f02f60a89\" style=\"height: 1000px; width: 1000px;\" class=\"plotly-graph-div\"></div><script type=\"text/javascript\">require([\"plotly\"], function(Plotly) { window.PLOTLYENV=window.PLOTLYENV || {};window.PLOTLYENV.BASE_URL=\"https://plot.ly\";Plotly.newPlot(\"45a51043-3fe0-49f3-91be-4a1f02f60a89\", [{\"marker\": {\"color\": \"rgb(158,202,225)\", \"line\": {\"color\": \"rgb(8,48,107)\", \"width\": 1.5}}, \"opacity\": 0.6, \"orientation\": \"h\", \"text\": [0.5499, 0.1162, 0.0534, 0.0435, 0.0361, 0.0341, 0.0245, 0.0238, 0.0202, 0.0184, 0.0164, 0.0154, 0.0124, 0.011, 0.009, 0.0025, 0.0022, 0.0017, 0.0016, 0.0016, 0.0013, 0.001, 0.0009, 0.0005, 0.0005, 0.0005, 0.0004, 0.0003, 0.0003, 0.0002, 0.0002, 0.0001, 0.0, 0.0, 0.0], \"textposition\": \"outside\", \"x\": [0.5498853566665928, 0.11623175250257228, 0.053376614648262856, 0.04346175101696607, 0.03612614049567509, 0.03406945480293287, 0.02448460995500286, 0.023780470910622065, 0.020189563804988243, 0.018387605612789522, 0.016379333564233937, 0.015434891009985584, 0.012405832628241305, 0.011048253782863724, 0.008963451000805069, 0.002522566976834971, 0.0021617414878182984, 0.001651403329571206, 0.0016046960094537582, 0.001602126934468712, 0.0013364589956712007, 0.0009709126920632952, 0.0009049394099458615, 0.0005236704499374745, 0.0004887390965941302, 0.0004882401077540092, 0.00038728116238842596, 0.0003073781909460708, 0.0002693441910185041, 0.00018111026035138515, 0.0001625095381862287, 0.00011812415305921432, 4.702576258642368e-05, 4.664884881648972e-05, 0.0], \"y\": [\"url_extensions + url_length\", \"url_char_. + url_char_z\", \"url_char_. + url_char_w\", \"url_char_. + url_char_j\", \"url_char_w * url_extensions\", \"url_char_w + url_length\", \"url_char_w + url_extensions\", \"url_char_w + url_char_z\", \"url_char_. + url_extension_.net\", \"url_char_. + url_length\", \"url_char_z + url_length\", \"url_char_u + url_extensions\", \"url_char_k + url_extensions\", \"url_char_o + url_length\", \"url_char_b + url_length\", \"url_char_y + url_length\", \"url_char_p + url_length\", \"url_char_i + url_length\", \"url_char_. + url_words_with_length_8\", \"url_extension_.com + url_length\", \"url_char_f + url_length\", \"url_char_v + url_length\", \"url_char_h + url_length\", \"url_char_c + url_length\", \"url_char_g + url_length\", \"url_char_j + url_length\", \"url_char_r + url_length\", \"url_extension_.i + url_length\", \"url_char_l + url_length\", \"url_length + url_words_with_length_8\", \"url_char_n + url_length\", \"url_char_s + url_length\", \"url_extension_.net + url_length\", \"url_char_k + url_length\", \"url_length\"], \"type\": \"bar\", \"uid\": \"ff83b99b-5e62-4012-98d2-ef539501d85f\"}], {\"autosize\": false, \"height\": 1000, \"width\": 1000, \"xaxis\": {\"tickfont\": {\"color\": \"black\", \"size\": 12}, \"title\": \"Feature Importances\"}, \"yaxis\": {\"automargin\": true}}, {\"showLink\": true, \"linkText\": \"Export to plot.ly\", \"plotlyServerURL\": \"https://plot.ly\"})});</script>"
      ],
      "text/vnd.plotly.v1+html": [
       "<div id=\"45a51043-3fe0-49f3-91be-4a1f02f60a89\" style=\"height: 1000px; width: 1000px;\" class=\"plotly-graph-div\"></div><script type=\"text/javascript\">require([\"plotly\"], function(Plotly) { window.PLOTLYENV=window.PLOTLYENV || {};window.PLOTLYENV.BASE_URL=\"https://plot.ly\";Plotly.newPlot(\"45a51043-3fe0-49f3-91be-4a1f02f60a89\", [{\"marker\": {\"color\": \"rgb(158,202,225)\", \"line\": {\"color\": \"rgb(8,48,107)\", \"width\": 1.5}}, \"opacity\": 0.6, \"orientation\": \"h\", \"text\": [0.5499, 0.1162, 0.0534, 0.0435, 0.0361, 0.0341, 0.0245, 0.0238, 0.0202, 0.0184, 0.0164, 0.0154, 0.0124, 0.011, 0.009, 0.0025, 0.0022, 0.0017, 0.0016, 0.0016, 0.0013, 0.001, 0.0009, 0.0005, 0.0005, 0.0005, 0.0004, 0.0003, 0.0003, 0.0002, 0.0002, 0.0001, 0.0, 0.0, 0.0], \"textposition\": \"outside\", \"x\": [0.5498853566665928, 0.11623175250257228, 0.053376614648262856, 0.04346175101696607, 0.03612614049567509, 0.03406945480293287, 0.02448460995500286, 0.023780470910622065, 0.020189563804988243, 0.018387605612789522, 0.016379333564233937, 0.015434891009985584, 0.012405832628241305, 0.011048253782863724, 0.008963451000805069, 0.002522566976834971, 0.0021617414878182984, 0.001651403329571206, 0.0016046960094537582, 0.001602126934468712, 0.0013364589956712007, 0.0009709126920632952, 0.0009049394099458615, 0.0005236704499374745, 0.0004887390965941302, 0.0004882401077540092, 0.00038728116238842596, 0.0003073781909460708, 0.0002693441910185041, 0.00018111026035138515, 0.0001625095381862287, 0.00011812415305921432, 4.702576258642368e-05, 4.664884881648972e-05, 0.0], \"y\": [\"url_extensions + url_length\", \"url_char_. + url_char_z\", \"url_char_. + url_char_w\", \"url_char_. + url_char_j\", \"url_char_w * url_extensions\", \"url_char_w + url_length\", \"url_char_w + url_extensions\", \"url_char_w + url_char_z\", \"url_char_. + url_extension_.net\", \"url_char_. + url_length\", \"url_char_z + url_length\", \"url_char_u + url_extensions\", \"url_char_k + url_extensions\", \"url_char_o + url_length\", \"url_char_b + url_length\", \"url_char_y + url_length\", \"url_char_p + url_length\", \"url_char_i + url_length\", \"url_char_. + url_words_with_length_8\", \"url_extension_.com + url_length\", \"url_char_f + url_length\", \"url_char_v + url_length\", \"url_char_h + url_length\", \"url_char_c + url_length\", \"url_char_g + url_length\", \"url_char_j + url_length\", \"url_char_r + url_length\", \"url_extension_.i + url_length\", \"url_char_l + url_length\", \"url_length + url_words_with_length_8\", \"url_char_n + url_length\", \"url_char_s + url_length\", \"url_extension_.net + url_length\", \"url_char_k + url_length\", \"url_length\"], \"type\": \"bar\", \"uid\": \"ff83b99b-5e62-4012-98d2-ef539501d85f\"}], {\"autosize\": false, \"height\": 1000, \"width\": 1000, \"xaxis\": {\"tickfont\": {\"color\": \"black\", \"size\": 12}, \"title\": \"Feature Importances\"}, \"yaxis\": {\"automargin\": true}}, {\"showLink\": true, \"linkText\": \"Export to plot.ly\", \"plotlyServerURL\": \"https://plot.ly\"})});</script>"
      ]
     },
     "metadata": {},
     "output_type": "display_data"
    },
    {
     "name": "stdout",
     "output_type": "stream",
     "text": [
      "\n",
      "\n",
      "\u001b[1mExtraTree Classifier\u001b[0m\n",
      "Accuracy of the model for training data is: 0.999358580324\n",
      "Confusion Matrix for training data is:\n"
     ]
    },
    {
     "data": {
      "text/plain": [
       "Predicted  False  True  __all__\n",
       "Actual                         \n",
       "False      31892     0    31892\n",
       "True          24  5501     5525\n",
       "__all__    31916  5501    37417"
      ]
     },
     "metadata": {},
     "output_type": "display_data"
    },
    {
     "name": "stdout",
     "output_type": "stream",
     "text": [
      "Accuracy of the model for test data is: 0.950288646568\n",
      "Confusion Matrix for test data is:\n"
     ]
    },
    {
     "data": {
      "text/plain": [
       "Predicted  False  True  __all__\n",
       "Actual                         \n",
       "False       7841   144     7985\n",
       "True         321  1048     1369\n",
       "__all__     8162  1192     9354"
      ]
     },
     "metadata": {},
     "output_type": "display_data"
    },
    {
     "data": {
      "application/vnd.plotly.v1+json": {
       "config": {
        "linkText": "Export to plot.ly",
        "plotlyServerURL": "https://plot.ly",
        "showLink": true
       },
       "data": [
        {
         "marker": {
          "color": "rgb(158,202,225)",
          "line": {
           "color": "rgb(8,48,107)",
           "width": 1.5
          }
         },
         "opacity": 0.6,
         "orientation": "h",
         "text": [
          0.0689,
          0.0528,
          0.0483,
          0.0475,
          0.0467,
          0.0462,
          0.0405,
          0.0343,
          0.0341,
          0.0319,
          0.0311,
          0.0308,
          0.0307,
          0.0304,
          0.0281,
          0.027,
          0.027,
          0.0265,
          0.0258,
          0.0248,
          0.0232,
          0.0224,
          0.0215,
          0.0214,
          0.0207,
          0.0203,
          0.02,
          0.0191,
          0.0189,
          0.0179,
          0.0158,
          0.015,
          0.0123,
          0.0106,
          0.0075
         ],
         "textposition": "outside",
         "type": "bar",
         "uid": "35519322-590d-49a0-95a9-035648ec0601",
         "x": [
          0.06887425827141547,
          0.05284976510700451,
          0.04831073522774097,
          0.04750642086407277,
          0.04665388782475795,
          0.04618862249353171,
          0.04050903225550957,
          0.03434829016166407,
          0.034053934255396295,
          0.031912125134676936,
          0.031064727283519923,
          0.030833156113968925,
          0.030663277607425654,
          0.030422757763904858,
          0.028134255683939836,
          0.027026890673797203,
          0.0269856613991765,
          0.02653676778876931,
          0.02584543629787186,
          0.024759631326633752,
          0.023153294391307894,
          0.02238410861681447,
          0.021458364786013855,
          0.021438949493014448,
          0.02066207487907471,
          0.02030223349871036,
          0.02004396374230786,
          0.019141853664845415,
          0.018850463753741293,
          0.01787646423206734,
          0.015779939239345567,
          0.01497732242585732,
          0.01233225537876608,
          0.010608073128506704,
          0.007511005234848625
         ],
         "y": [
          "url_char_o + url_length",
          "url_char_i + url_length",
          "url_char_w + url_extensions",
          "url_char_f + url_length",
          "url_char_r + url_length",
          "url_char_w + url_char_z",
          "url_char_k + url_extensions",
          "url_extension_.i + url_length",
          "url_extensions + url_length",
          "url_char_g + url_length",
          "url_char_w * url_extensions",
          "url_char_k + url_length",
          "url_char_b + url_length",
          "url_char_. + url_char_z",
          "url_char_y + url_length",
          "url_char_. + url_char_j",
          "url_char_. + url_words_with_length_8",
          "url_char_. + url_extension_.net",
          "url_char_u + url_extensions",
          "url_char_. + url_char_w",
          "url_char_z + url_length",
          "url_extension_.net + url_length",
          "url_char_l + url_length",
          "url_char_j + url_length",
          "url_char_n + url_length",
          "url_char_s + url_length",
          "url_extension_.com + url_length",
          "url_char_c + url_length",
          "url_char_w + url_length",
          "url_char_p + url_length",
          "url_char_h + url_length",
          "url_length",
          "url_char_v + url_length",
          "url_char_. + url_length",
          "url_length + url_words_with_length_8"
         ]
        }
       ],
       "layout": {
        "autosize": false,
        "height": 1000,
        "width": 1000,
        "xaxis": {
         "tickfont": {
          "color": "black",
          "size": 12
         },
         "title": "Feature Importances"
        },
        "yaxis": {
         "automargin": true
        }
       }
      },
      "text/html": [
       "<div id=\"6b0a975f-4d06-43c5-bbfd-64f3d2dc47d2\" style=\"height: 1000px; width: 1000px;\" class=\"plotly-graph-div\"></div><script type=\"text/javascript\">require([\"plotly\"], function(Plotly) { window.PLOTLYENV=window.PLOTLYENV || {};window.PLOTLYENV.BASE_URL=\"https://plot.ly\";Plotly.newPlot(\"6b0a975f-4d06-43c5-bbfd-64f3d2dc47d2\", [{\"marker\": {\"color\": \"rgb(158,202,225)\", \"line\": {\"color\": \"rgb(8,48,107)\", \"width\": 1.5}}, \"opacity\": 0.6, \"orientation\": \"h\", \"text\": [0.0689, 0.0528, 0.0483, 0.0475, 0.0467, 0.0462, 0.0405, 0.0343, 0.0341, 0.0319, 0.0311, 0.0308, 0.0307, 0.0304, 0.0281, 0.027, 0.027, 0.0265, 0.0258, 0.0248, 0.0232, 0.0224, 0.0215, 0.0214, 0.0207, 0.0203, 0.02, 0.0191, 0.0189, 0.0179, 0.0158, 0.015, 0.0123, 0.0106, 0.0075], \"textposition\": \"outside\", \"x\": [0.06887425827141547, 0.05284976510700451, 0.04831073522774097, 0.04750642086407277, 0.04665388782475795, 0.04618862249353171, 0.04050903225550957, 0.03434829016166407, 0.034053934255396295, 0.031912125134676936, 0.031064727283519923, 0.030833156113968925, 0.030663277607425654, 0.030422757763904858, 0.028134255683939836, 0.027026890673797203, 0.0269856613991765, 0.02653676778876931, 0.02584543629787186, 0.024759631326633752, 0.023153294391307894, 0.02238410861681447, 0.021458364786013855, 0.021438949493014448, 0.02066207487907471, 0.02030223349871036, 0.02004396374230786, 0.019141853664845415, 0.018850463753741293, 0.01787646423206734, 0.015779939239345567, 0.01497732242585732, 0.01233225537876608, 0.010608073128506704, 0.007511005234848625], \"y\": [\"url_char_o + url_length\", \"url_char_i + url_length\", \"url_char_w + url_extensions\", \"url_char_f + url_length\", \"url_char_r + url_length\", \"url_char_w + url_char_z\", \"url_char_k + url_extensions\", \"url_extension_.i + url_length\", \"url_extensions + url_length\", \"url_char_g + url_length\", \"url_char_w * url_extensions\", \"url_char_k + url_length\", \"url_char_b + url_length\", \"url_char_. + url_char_z\", \"url_char_y + url_length\", \"url_char_. + url_char_j\", \"url_char_. + url_words_with_length_8\", \"url_char_. + url_extension_.net\", \"url_char_u + url_extensions\", \"url_char_. + url_char_w\", \"url_char_z + url_length\", \"url_extension_.net + url_length\", \"url_char_l + url_length\", \"url_char_j + url_length\", \"url_char_n + url_length\", \"url_char_s + url_length\", \"url_extension_.com + url_length\", \"url_char_c + url_length\", \"url_char_w + url_length\", \"url_char_p + url_length\", \"url_char_h + url_length\", \"url_length\", \"url_char_v + url_length\", \"url_char_. + url_length\", \"url_length + url_words_with_length_8\"], \"type\": \"bar\", \"uid\": \"35519322-590d-49a0-95a9-035648ec0601\"}], {\"autosize\": false, \"height\": 1000, \"width\": 1000, \"xaxis\": {\"tickfont\": {\"color\": \"black\", \"size\": 12}, \"title\": \"Feature Importances\"}, \"yaxis\": {\"automargin\": true}}, {\"showLink\": true, \"linkText\": \"Export to plot.ly\", \"plotlyServerURL\": \"https://plot.ly\"})});</script>"
      ],
      "text/vnd.plotly.v1+html": [
       "<div id=\"6b0a975f-4d06-43c5-bbfd-64f3d2dc47d2\" style=\"height: 1000px; width: 1000px;\" class=\"plotly-graph-div\"></div><script type=\"text/javascript\">require([\"plotly\"], function(Plotly) { window.PLOTLYENV=window.PLOTLYENV || {};window.PLOTLYENV.BASE_URL=\"https://plot.ly\";Plotly.newPlot(\"6b0a975f-4d06-43c5-bbfd-64f3d2dc47d2\", [{\"marker\": {\"color\": \"rgb(158,202,225)\", \"line\": {\"color\": \"rgb(8,48,107)\", \"width\": 1.5}}, \"opacity\": 0.6, \"orientation\": \"h\", \"text\": [0.0689, 0.0528, 0.0483, 0.0475, 0.0467, 0.0462, 0.0405, 0.0343, 0.0341, 0.0319, 0.0311, 0.0308, 0.0307, 0.0304, 0.0281, 0.027, 0.027, 0.0265, 0.0258, 0.0248, 0.0232, 0.0224, 0.0215, 0.0214, 0.0207, 0.0203, 0.02, 0.0191, 0.0189, 0.0179, 0.0158, 0.015, 0.0123, 0.0106, 0.0075], \"textposition\": \"outside\", \"x\": [0.06887425827141547, 0.05284976510700451, 0.04831073522774097, 0.04750642086407277, 0.04665388782475795, 0.04618862249353171, 0.04050903225550957, 0.03434829016166407, 0.034053934255396295, 0.031912125134676936, 0.031064727283519923, 0.030833156113968925, 0.030663277607425654, 0.030422757763904858, 0.028134255683939836, 0.027026890673797203, 0.0269856613991765, 0.02653676778876931, 0.02584543629787186, 0.024759631326633752, 0.023153294391307894, 0.02238410861681447, 0.021458364786013855, 0.021438949493014448, 0.02066207487907471, 0.02030223349871036, 0.02004396374230786, 0.019141853664845415, 0.018850463753741293, 0.01787646423206734, 0.015779939239345567, 0.01497732242585732, 0.01233225537876608, 0.010608073128506704, 0.007511005234848625], \"y\": [\"url_char_o + url_length\", \"url_char_i + url_length\", \"url_char_w + url_extensions\", \"url_char_f + url_length\", \"url_char_r + url_length\", \"url_char_w + url_char_z\", \"url_char_k + url_extensions\", \"url_extension_.i + url_length\", \"url_extensions + url_length\", \"url_char_g + url_length\", \"url_char_w * url_extensions\", \"url_char_k + url_length\", \"url_char_b + url_length\", \"url_char_. + url_char_z\", \"url_char_y + url_length\", \"url_char_. + url_char_j\", \"url_char_. + url_words_with_length_8\", \"url_char_. + url_extension_.net\", \"url_char_u + url_extensions\", \"url_char_. + url_char_w\", \"url_char_z + url_length\", \"url_extension_.net + url_length\", \"url_char_l + url_length\", \"url_char_j + url_length\", \"url_char_n + url_length\", \"url_char_s + url_length\", \"url_extension_.com + url_length\", \"url_char_c + url_length\", \"url_char_w + url_length\", \"url_char_p + url_length\", \"url_char_h + url_length\", \"url_length\", \"url_char_v + url_length\", \"url_char_. + url_length\", \"url_length + url_words_with_length_8\"], \"type\": \"bar\", \"uid\": \"35519322-590d-49a0-95a9-035648ec0601\"}], {\"autosize\": false, \"height\": 1000, \"width\": 1000, \"xaxis\": {\"tickfont\": {\"color\": \"black\", \"size\": 12}, \"title\": \"Feature Importances\"}, \"yaxis\": {\"automargin\": true}}, {\"showLink\": true, \"linkText\": \"Export to plot.ly\", \"plotlyServerURL\": \"https://plot.ly\"})});</script>"
      ]
     },
     "metadata": {},
     "output_type": "display_data"
    },
    {
     "name": "stdout",
     "output_type": "stream",
     "text": [
      "\n",
      "\n",
      "\u001b[1mBagging Classifier\u001b[0m\n",
      "Accuracy of the model for training data is: 0.993665980704\n",
      "Confusion Matrix for training data is:\n"
     ]
    },
    {
     "data": {
      "text/plain": [
       "Predicted  False  True  __all__\n",
       "Actual                         \n",
       "False      31873    19    31892\n",
       "True         218  5307     5525\n",
       "__all__    32091  5326    37417"
      ]
     },
     "metadata": {},
     "output_type": "display_data"
    },
    {
     "name": "stdout",
     "output_type": "stream",
     "text": [
      "Accuracy of the model for test data is: 0.948791960659\n",
      "Confusion Matrix for test data is:\n"
     ]
    },
    {
     "data": {
      "text/plain": [
       "Predicted  False  True  __all__\n",
       "Actual                         \n",
       "False       7824   161     7985\n",
       "True         318  1051     1369\n",
       "__all__     8142  1212     9354"
      ]
     },
     "metadata": {},
     "output_type": "display_data"
    },
    {
     "name": "stdout",
     "output_type": "stream",
     "text": [
      "\n",
      "\n",
      "\u001b[1mNeural Network-1\u001b[0m\n",
      "The accuracy of the model on training data is: 0.960686319053\n"
     ]
    },
    {
     "data": {
      "text/plain": [
       "Predicted  False  True  __all__\n",
       "Actual                         \n",
       "False      31672   220    31892\n",
       "True        1251  4274     5525\n",
       "__all__    32923  4494    37417"
      ]
     },
     "metadata": {},
     "output_type": "display_data"
    },
    {
     "name": "stdout",
     "output_type": "stream",
     "text": [
      "The accuracy of the model on test data is: 0.952640581569\n"
     ]
    },
    {
     "data": {
      "text/plain": [
       "Predicted  False  True  __all__\n",
       "Actual                         \n",
       "False       7903    82     7985\n",
       "True         361  1008     1369\n",
       "__all__     8264  1090     9354"
      ]
     },
     "metadata": {},
     "output_type": "display_data"
    },
    {
     "name": "stdout",
     "output_type": "stream",
     "text": [
      "\n",
      "\n"
     ]
    }
   ],
   "source": [
    "feat_imp=[None]*4\n",
    "j=0\n",
    "for i in range(0,8):\n",
    "    if i>=2 and i<=5:\n",
    "        model,cm_train,cm_test,acc_train,acc_test,roc_auc,feat_imp[j],mcc=f[i](scaled_X_train,train_Y,scaled_X_test,test_Y,feature_name)\n",
    "        j=j+1\n",
    "    else:\n",
    "        model,cm_train,cm_test,acc_train,acc_test,roc_auc,mcc=f[i](scaled_X_train,train_Y,scaled_X_test,test_Y)\n",
    "    table_80_60_train.loc[i]=   ([acc_train,cm_train.TP,cm_train.TN,cm_train.FP,cm_train.FN,cm_train.FPR,cm_train.FNR])\n",
    "    table_80_60_test.loc[i] =   ([acc_test ,cm_test.TP, cm_test.TN, cm_test.FP, cm_test.FN, cm_test.FPR, cm_test.FNR,roc_auc,mcc])\n",
    "    print(\"\\n\")"
   ]
  },
  {
   "cell_type": "markdown",
   "metadata": {},
   "source": [
    "### <a id='4.A' style=\"text-decoration : none; color : #000000;\"> A. Results</a>"
   ]
  },
  {
   "cell_type": "code",
   "execution_count": 62,
   "metadata": {},
   "outputs": [
    {
     "data": {
      "application/vnd.plotly.v1+json": {
       "config": {
        "linkText": "Export to plot.ly",
        "plotlyServerURL": "https://plot.ly",
        "showLink": true
       },
       "data": [
        {
         "mode": "lines",
         "name": "KNN_model",
         "type": "scatter",
         "uid": "a9a22944-2f25-4212-8e5c-32dfe842c490",
         "x": [
          "accuracy",
          "FPR",
          "FNR",
          "auc"
         ],
         "y": [
          0.9498610220226641,
          0.018534752661239825,
          0.23447772096420746,
          0.8734937631872763
         ]
        },
        {
         "mode": "lines+markers",
         "name": "Logistic Regression",
         "type": "scatter",
         "uid": "1051d6fc-2299-492b-8b4b-555def1d6a82",
         "x": [
          "accuracy",
          "FPR",
          "FNR",
          "auc"
         ],
         "y": [
          0.9436604661107547,
          0.015028177833437696,
          0.2972972972972973,
          0.8438372624346325
         ]
        },
        {
         "marker": {
          "symbol": "x"
         },
         "mode": "lines+markers",
         "name": "Random Forest",
         "type": "scatter",
         "uid": "1428c77f-9e28-4990-9b5c-0535ea798ee0",
         "x": [
          "accuracy",
          "FPR",
          "FNR",
          "auc"
         ],
         "y": [
          0.9514646140688475,
          0.016030056355666875,
          0.2381300219138057,
          0.8729199608652636
         ]
        },
        {
         "mode": "lines",
         "name": "Ada Boost",
         "type": "scatter",
         "uid": "724c1b9a-8b39-4ac2-b194-eecaa440ff05",
         "x": [
          "accuracy",
          "FPR",
          "FNR",
          "auc"
         ],
         "y": [
          0.9369253795167842,
          0.019035691922354415,
          0.31994156318480643,
          0.8305113724464196
         ]
        },
        {
         "mode": "lines+markers",
         "name": "GradientBoosting",
         "type": "scatter",
         "uid": "c3da82fa-00ab-401a-9a9c-52749360b84b",
         "x": [
          "accuracy",
          "FPR",
          "FNR",
          "auc"
         ],
         "y": [
          0.9452640581569383,
          0.01966186599874765,
          0.25931336742147554,
          0.8605123832898884
         ]
        },
        {
         "marker": {
          "symbol": "x"
         },
         "mode": "lines+markers",
         "name": "ExtraTree Classifier",
         "type": "scatter",
         "uid": "2256db00-5089-4a76-9e13-c809931d8129",
         "x": [
          "accuracy",
          "FPR",
          "FNR",
          "auc"
         ],
         "y": [
          0.950288646568313,
          0.018033813400125234,
          0.23447772096420746,
          0.8737442328178336
         ]
        },
        {
         "marker": {
          "symbol": "x"
         },
         "mode": "lines+markers",
         "name": "Bagging",
         "type": "scatter",
         "uid": "32517f7d-1d67-4267-b873-f593f3a29363",
         "x": [
          "accuracy",
          "FPR",
          "FNR",
          "auc"
         ],
         "y": [
          0.9487919606585418,
          0.020162805259862242,
          0.2322863403944485,
          0.8737754271728446
         ]
        },
        {
         "marker": {
          "symbol": "x"
         },
         "mode": "lines+markers",
         "name": "Neural Network",
         "type": "scatter",
         "uid": "3f5af831-f59d-40c0-9566-04ccb191edcf",
         "x": [
          "accuracy",
          "FPR",
          "FNR",
          "auc"
         ],
         "y": [
          0.952640581569382,
          0.010269254852849092,
          0.26369612856099345,
          0.8737754271728446
         ]
        }
       ],
       "layout": {
        "title": "Result comparision for Features selected in Section 1",
        "yaxis": {
         "dtick": 0.05,
         "tick0": 0
        }
       }
      },
      "text/html": [
       "<div id=\"22313158-bc97-4cea-99c8-068ac7e31f0a\" style=\"height: 525px; width: 100%;\" class=\"plotly-graph-div\"></div><script type=\"text/javascript\">require([\"plotly\"], function(Plotly) { window.PLOTLYENV=window.PLOTLYENV || {};window.PLOTLYENV.BASE_URL=\"https://plot.ly\";Plotly.newPlot(\"22313158-bc97-4cea-99c8-068ac7e31f0a\", [{\"mode\": \"lines\", \"name\": \"KNN_model\", \"x\": [\"accuracy\", \"FPR\", \"FNR\", \"auc\"], \"y\": [0.9498610220226641, 0.018534752661239825, 0.23447772096420746, 0.8734937631872763], \"type\": \"scatter\", \"uid\": \"a9a22944-2f25-4212-8e5c-32dfe842c490\"}, {\"mode\": \"lines+markers\", \"name\": \"Logistic Regression\", \"x\": [\"accuracy\", \"FPR\", \"FNR\", \"auc\"], \"y\": [0.9436604661107547, 0.015028177833437696, 0.2972972972972973, 0.8438372624346325], \"type\": \"scatter\", \"uid\": \"1051d6fc-2299-492b-8b4b-555def1d6a82\"}, {\"marker\": {\"symbol\": \"x\"}, \"mode\": \"lines+markers\", \"name\": \"Random Forest\", \"x\": [\"accuracy\", \"FPR\", \"FNR\", \"auc\"], \"y\": [0.9514646140688475, 0.016030056355666875, 0.2381300219138057, 0.8729199608652636], \"type\": \"scatter\", \"uid\": \"1428c77f-9e28-4990-9b5c-0535ea798ee0\"}, {\"mode\": \"lines\", \"name\": \"Ada Boost\", \"x\": [\"accuracy\", \"FPR\", \"FNR\", \"auc\"], \"y\": [0.9369253795167842, 0.019035691922354415, 0.31994156318480643, 0.8305113724464196], \"type\": \"scatter\", \"uid\": \"724c1b9a-8b39-4ac2-b194-eecaa440ff05\"}, {\"mode\": \"lines+markers\", \"name\": \"GradientBoosting\", \"x\": [\"accuracy\", \"FPR\", \"FNR\", \"auc\"], \"y\": [0.9452640581569383, 0.01966186599874765, 0.25931336742147554, 0.8605123832898884], \"type\": \"scatter\", \"uid\": \"c3da82fa-00ab-401a-9a9c-52749360b84b\"}, {\"marker\": {\"symbol\": \"x\"}, \"mode\": \"lines+markers\", \"name\": \"ExtraTree Classifier\", \"x\": [\"accuracy\", \"FPR\", \"FNR\", \"auc\"], \"y\": [0.950288646568313, 0.018033813400125234, 0.23447772096420746, 0.8737442328178336], \"type\": \"scatter\", \"uid\": \"2256db00-5089-4a76-9e13-c809931d8129\"}, {\"marker\": {\"symbol\": \"x\"}, \"mode\": \"lines+markers\", \"name\": \"Bagging\", \"x\": [\"accuracy\", \"FPR\", \"FNR\", \"auc\"], \"y\": [0.9487919606585418, 0.020162805259862242, 0.2322863403944485, 0.8737754271728446], \"type\": \"scatter\", \"uid\": \"32517f7d-1d67-4267-b873-f593f3a29363\"}, {\"marker\": {\"symbol\": \"x\"}, \"mode\": \"lines+markers\", \"name\": \"Neural Network\", \"x\": [\"accuracy\", \"FPR\", \"FNR\", \"auc\"], \"y\": [0.952640581569382, 0.010269254852849092, 0.26369612856099345, 0.8737754271728446], \"type\": \"scatter\", \"uid\": \"3f5af831-f59d-40c0-9566-04ccb191edcf\"}], {\"title\": \"Result comparision for Features selected in Section 1\", \"yaxis\": {\"dtick\": 0.05, \"tick0\": 0}}, {\"showLink\": true, \"linkText\": \"Export to plot.ly\", \"plotlyServerURL\": \"https://plot.ly\"})});</script><script type=\"text/javascript\">window.addEventListener(\"resize\", function(){window._Plotly.Plots.resize(document.getElementById(\"22313158-bc97-4cea-99c8-068ac7e31f0a\"));});</script>"
      ],
      "text/vnd.plotly.v1+html": [
       "<div id=\"22313158-bc97-4cea-99c8-068ac7e31f0a\" style=\"height: 525px; width: 100%;\" class=\"plotly-graph-div\"></div><script type=\"text/javascript\">require([\"plotly\"], function(Plotly) { window.PLOTLYENV=window.PLOTLYENV || {};window.PLOTLYENV.BASE_URL=\"https://plot.ly\";Plotly.newPlot(\"22313158-bc97-4cea-99c8-068ac7e31f0a\", [{\"mode\": \"lines\", \"name\": \"KNN_model\", \"x\": [\"accuracy\", \"FPR\", \"FNR\", \"auc\"], \"y\": [0.9498610220226641, 0.018534752661239825, 0.23447772096420746, 0.8734937631872763], \"type\": \"scatter\", \"uid\": \"a9a22944-2f25-4212-8e5c-32dfe842c490\"}, {\"mode\": \"lines+markers\", \"name\": \"Logistic Regression\", \"x\": [\"accuracy\", \"FPR\", \"FNR\", \"auc\"], \"y\": [0.9436604661107547, 0.015028177833437696, 0.2972972972972973, 0.8438372624346325], \"type\": \"scatter\", \"uid\": \"1051d6fc-2299-492b-8b4b-555def1d6a82\"}, {\"marker\": {\"symbol\": \"x\"}, \"mode\": \"lines+markers\", \"name\": \"Random Forest\", \"x\": [\"accuracy\", \"FPR\", \"FNR\", \"auc\"], \"y\": [0.9514646140688475, 0.016030056355666875, 0.2381300219138057, 0.8729199608652636], \"type\": \"scatter\", \"uid\": \"1428c77f-9e28-4990-9b5c-0535ea798ee0\"}, {\"mode\": \"lines\", \"name\": \"Ada Boost\", \"x\": [\"accuracy\", \"FPR\", \"FNR\", \"auc\"], \"y\": [0.9369253795167842, 0.019035691922354415, 0.31994156318480643, 0.8305113724464196], \"type\": \"scatter\", \"uid\": \"724c1b9a-8b39-4ac2-b194-eecaa440ff05\"}, {\"mode\": \"lines+markers\", \"name\": \"GradientBoosting\", \"x\": [\"accuracy\", \"FPR\", \"FNR\", \"auc\"], \"y\": [0.9452640581569383, 0.01966186599874765, 0.25931336742147554, 0.8605123832898884], \"type\": \"scatter\", \"uid\": \"c3da82fa-00ab-401a-9a9c-52749360b84b\"}, {\"marker\": {\"symbol\": \"x\"}, \"mode\": \"lines+markers\", \"name\": \"ExtraTree Classifier\", \"x\": [\"accuracy\", \"FPR\", \"FNR\", \"auc\"], \"y\": [0.950288646568313, 0.018033813400125234, 0.23447772096420746, 0.8737442328178336], \"type\": \"scatter\", \"uid\": \"2256db00-5089-4a76-9e13-c809931d8129\"}, {\"marker\": {\"symbol\": \"x\"}, \"mode\": \"lines+markers\", \"name\": \"Bagging\", \"x\": [\"accuracy\", \"FPR\", \"FNR\", \"auc\"], \"y\": [0.9487919606585418, 0.020162805259862242, 0.2322863403944485, 0.8737754271728446], \"type\": \"scatter\", \"uid\": \"32517f7d-1d67-4267-b873-f593f3a29363\"}, {\"marker\": {\"symbol\": \"x\"}, \"mode\": \"lines+markers\", \"name\": \"Neural Network\", \"x\": [\"accuracy\", \"FPR\", \"FNR\", \"auc\"], \"y\": [0.952640581569382, 0.010269254852849092, 0.26369612856099345, 0.8737754271728446], \"type\": \"scatter\", \"uid\": \"3f5af831-f59d-40c0-9566-04ccb191edcf\"}], {\"title\": \"Result comparision for Features selected in Section 1\", \"yaxis\": {\"dtick\": 0.05, \"tick0\": 0}}, {\"showLink\": true, \"linkText\": \"Export to plot.ly\", \"plotlyServerURL\": \"https://plot.ly\"})});</script><script type=\"text/javascript\">window.addEventListener(\"resize\", function(){window._Plotly.Plots.resize(document.getElementById(\"22313158-bc97-4cea-99c8-068ac7e31f0a\"));});</script>"
      ]
     },
     "metadata": {},
     "output_type": "display_data"
    }
   ],
   "source": [
    "trace0 = go.Scatter(x=table_80_60_test.iloc[0].index.values[[0,5,6,7]],\n",
    "                    y=table_80_60_test.iloc[0].values[[0,5,6,7]],\n",
    "                    mode = 'lines',\n",
    "                    name = 'KNN_model')\n",
    "\n",
    "trace1 = go.Scatter(x=table_80_60_test.iloc[1].index.values[[0,5,6,7]],\n",
    "                    y=table_80_60_test.iloc[1].values[[0,5,6,7]],\n",
    "                    mode = 'lines+markers',\n",
    "                    name = 'Logistic Regression')\n",
    "\n",
    "trace2 = go.Scatter(x=table_80_60_test.iloc[2].index.values[[0,5,6,7]],\n",
    "                    y=table_80_60_test.iloc[2].values[[0,5,6,7]],\n",
    "                    mode = 'lines+markers',marker=dict(symbol='x'),\n",
    "                    name = 'Random Forest')\n",
    "\n",
    "\n",
    "trace3 = go.Scatter(x=table_80_60_test.iloc[3].index.values[[0,5,6,7]],\n",
    "                    y=table_80_60_test.iloc[3].values[[0,5,6,7]],\n",
    "                    mode = 'lines',\n",
    "                    name = 'Ada Boost')\n",
    "\n",
    "trace4 = go.Scatter(x=table_80_60_test.iloc[4].index.values[[0,5,6,7]],\n",
    "                    y=table_80_60_test.iloc[4].values[[0,5,6,7]],\n",
    "                    mode = 'lines+markers',\n",
    "                    name = 'GradientBoosting')\n",
    "\n",
    "trace5 = go.Scatter(x=table_80_60_test.iloc[5].index.values[[0,5,6,7]],\n",
    "                    y=table_80_60_test.iloc[5].values[[0,5,6,7]],\n",
    "                    mode = 'lines+markers',marker=dict(symbol='x'),\n",
    "                    name = 'ExtraTree Classifier')\n",
    "\n",
    "trace6 = go.Scatter(x=table_80_60_test.iloc[6].index.values[[0,5,6,7]],\n",
    "                    y=table_80_60_test.iloc[6].values[[0,5,6,7]],\n",
    "                    mode = 'lines+markers',marker=dict(symbol='x'),\n",
    "                    name = 'Bagging')\n",
    "\n",
    "trace7 = go.Scatter(x=table_80_60_test.iloc[7].index.values[[0,5,6,7]],\n",
    "                    y=table_80_60_test.iloc[7].values[[0,5,6,7]],\n",
    "                    mode = 'lines+markers',marker=dict(symbol='x'),\n",
    "                    name = 'Neural Network')\n",
    "\n",
    "\n",
    "\n",
    "data = [trace0, trace1, trace2, trace3, trace4, trace5, trace6, trace7]\n",
    "layout = go.Layout(yaxis=dict(tick0=0,dtick=0.05),title='Result comparision for Features selected in Section 1')\n",
    "fig = go.Figure(data=data, layout=layout)\n",
    "\n",
    "iplot(fig, filename='Result')"
   ]
  },
  {
   "cell_type": "code",
   "execution_count": 63,
   "metadata": {},
   "outputs": [
    {
     "name": "stdout",
     "output_type": "stream",
     "text": [
      "Training Results\n"
     ]
    },
    {
     "data": {
      "text/html": [
       "<div>\n",
       "<style scoped>\n",
       "    .dataframe tbody tr th:only-of-type {\n",
       "        vertical-align: middle;\n",
       "    }\n",
       "\n",
       "    .dataframe tbody tr th {\n",
       "        vertical-align: top;\n",
       "    }\n",
       "\n",
       "    .dataframe thead th {\n",
       "        text-align: right;\n",
       "    }\n",
       "</style>\n",
       "<table border=\"1\" class=\"dataframe\">\n",
       "  <thead>\n",
       "    <tr style=\"text-align: right;\">\n",
       "      <th></th>\n",
       "      <th>accuracy</th>\n",
       "      <th>TP</th>\n",
       "      <th>TN</th>\n",
       "      <th>FP</th>\n",
       "      <th>FN</th>\n",
       "      <th>FPR</th>\n",
       "      <th>FNR</th>\n",
       "    </tr>\n",
       "    <tr>\n",
       "      <th>index</th>\n",
       "      <th></th>\n",
       "      <th></th>\n",
       "      <th></th>\n",
       "      <th></th>\n",
       "      <th></th>\n",
       "      <th></th>\n",
       "      <th></th>\n",
       "    </tr>\n",
       "  </thead>\n",
       "  <tbody>\n",
       "    <tr>\n",
       "      <th>KNeighborsClassifier</th>\n",
       "      <td>0.958709</td>\n",
       "      <td>4386.0</td>\n",
       "      <td>31486.0</td>\n",
       "      <td>406.0</td>\n",
       "      <td>1139.0</td>\n",
       "      <td>0.012730</td>\n",
       "      <td>0.206154</td>\n",
       "    </tr>\n",
       "    <tr>\n",
       "      <th>LogisticRegression</th>\n",
       "      <td>0.942833</td>\n",
       "      <td>3837.0</td>\n",
       "      <td>31441.0</td>\n",
       "      <td>451.0</td>\n",
       "      <td>1688.0</td>\n",
       "      <td>0.014141</td>\n",
       "      <td>0.305520</td>\n",
       "    </tr>\n",
       "    <tr>\n",
       "      <th>RandomForestClassifier</th>\n",
       "      <td>0.992944</td>\n",
       "      <td>5280.0</td>\n",
       "      <td>31873.0</td>\n",
       "      <td>19.0</td>\n",
       "      <td>245.0</td>\n",
       "      <td>0.000596</td>\n",
       "      <td>0.044344</td>\n",
       "    </tr>\n",
       "    <tr>\n",
       "      <th>AdaBoostClassifier</th>\n",
       "      <td>0.936981</td>\n",
       "      <td>3703.0</td>\n",
       "      <td>31356.0</td>\n",
       "      <td>536.0</td>\n",
       "      <td>1822.0</td>\n",
       "      <td>0.016807</td>\n",
       "      <td>0.329774</td>\n",
       "    </tr>\n",
       "    <tr>\n",
       "      <th>GradientBoostingClassifier</th>\n",
       "      <td>0.947992</td>\n",
       "      <td>4164.0</td>\n",
       "      <td>31307.0</td>\n",
       "      <td>585.0</td>\n",
       "      <td>1361.0</td>\n",
       "      <td>0.018343</td>\n",
       "      <td>0.246335</td>\n",
       "    </tr>\n",
       "    <tr>\n",
       "      <th>ExtraTreeClassifier</th>\n",
       "      <td>0.999359</td>\n",
       "      <td>5501.0</td>\n",
       "      <td>31892.0</td>\n",
       "      <td>0.0</td>\n",
       "      <td>24.0</td>\n",
       "      <td>0.000000</td>\n",
       "      <td>0.004344</td>\n",
       "    </tr>\n",
       "    <tr>\n",
       "      <th>BaggingClassifier</th>\n",
       "      <td>0.993666</td>\n",
       "      <td>5307.0</td>\n",
       "      <td>31873.0</td>\n",
       "      <td>19.0</td>\n",
       "      <td>218.0</td>\n",
       "      <td>0.000596</td>\n",
       "      <td>0.039457</td>\n",
       "    </tr>\n",
       "    <tr>\n",
       "      <th>Neural Network-1</th>\n",
       "      <td>0.960686</td>\n",
       "      <td>4274.0</td>\n",
       "      <td>31672.0</td>\n",
       "      <td>220.0</td>\n",
       "      <td>1251.0</td>\n",
       "      <td>0.006898</td>\n",
       "      <td>0.226425</td>\n",
       "    </tr>\n",
       "  </tbody>\n",
       "</table>\n",
       "</div>"
      ],
      "text/plain": [
       "                            accuracy      TP       TN     FP      FN  \\\n",
       "index                                                                  \n",
       "KNeighborsClassifier        0.958709  4386.0  31486.0  406.0  1139.0   \n",
       "LogisticRegression          0.942833  3837.0  31441.0  451.0  1688.0   \n",
       "RandomForestClassifier      0.992944  5280.0  31873.0   19.0   245.0   \n",
       "AdaBoostClassifier          0.936981  3703.0  31356.0  536.0  1822.0   \n",
       "GradientBoostingClassifier  0.947992  4164.0  31307.0  585.0  1361.0   \n",
       "ExtraTreeClassifier         0.999359  5501.0  31892.0    0.0    24.0   \n",
       "BaggingClassifier           0.993666  5307.0  31873.0   19.0   218.0   \n",
       "Neural Network-1            0.960686  4274.0  31672.0  220.0  1251.0   \n",
       "\n",
       "                                 FPR       FNR  \n",
       "index                                           \n",
       "KNeighborsClassifier        0.012730  0.206154  \n",
       "LogisticRegression          0.014141  0.305520  \n",
       "RandomForestClassifier      0.000596  0.044344  \n",
       "AdaBoostClassifier          0.016807  0.329774  \n",
       "GradientBoostingClassifier  0.018343  0.246335  \n",
       "ExtraTreeClassifier         0.000000  0.004344  \n",
       "BaggingClassifier           0.000596  0.039457  \n",
       "Neural Network-1            0.006898  0.226425  "
      ]
     },
     "metadata": {},
     "output_type": "display_data"
    },
    {
     "name": "stdout",
     "output_type": "stream",
     "text": [
      "Test Results\n"
     ]
    },
    {
     "data": {
      "text/html": [
       "<div>\n",
       "<style scoped>\n",
       "    .dataframe tbody tr th:only-of-type {\n",
       "        vertical-align: middle;\n",
       "    }\n",
       "\n",
       "    .dataframe tbody tr th {\n",
       "        vertical-align: top;\n",
       "    }\n",
       "\n",
       "    .dataframe thead th {\n",
       "        text-align: right;\n",
       "    }\n",
       "</style>\n",
       "<table border=\"1\" class=\"dataframe\">\n",
       "  <thead>\n",
       "    <tr style=\"text-align: right;\">\n",
       "      <th></th>\n",
       "      <th>accuracy</th>\n",
       "      <th>TP</th>\n",
       "      <th>TN</th>\n",
       "      <th>FP</th>\n",
       "      <th>FN</th>\n",
       "      <th>FPR</th>\n",
       "      <th>FNR</th>\n",
       "      <th>auc</th>\n",
       "      <th>mcc</th>\n",
       "    </tr>\n",
       "    <tr>\n",
       "      <th>index</th>\n",
       "      <th></th>\n",
       "      <th></th>\n",
       "      <th></th>\n",
       "      <th></th>\n",
       "      <th></th>\n",
       "      <th></th>\n",
       "      <th></th>\n",
       "      <th></th>\n",
       "      <th></th>\n",
       "    </tr>\n",
       "  </thead>\n",
       "  <tbody>\n",
       "    <tr>\n",
       "      <th>KNeighborsClassifier</th>\n",
       "      <td>0.949861</td>\n",
       "      <td>1048.0</td>\n",
       "      <td>7837.0</td>\n",
       "      <td>148.0</td>\n",
       "      <td>321.0</td>\n",
       "      <td>0.018535</td>\n",
       "      <td>0.234478</td>\n",
       "      <td>0.873494</td>\n",
       "      <td>0.790670</td>\n",
       "    </tr>\n",
       "    <tr>\n",
       "      <th>LogisticRegression</th>\n",
       "      <td>0.943660</td>\n",
       "      <td>962.0</td>\n",
       "      <td>7865.0</td>\n",
       "      <td>120.0</td>\n",
       "      <td>407.0</td>\n",
       "      <td>0.015028</td>\n",
       "      <td>0.297297</td>\n",
       "      <td>0.843837</td>\n",
       "      <td>0.759982</td>\n",
       "    </tr>\n",
       "    <tr>\n",
       "      <th>RandomForestClassifier</th>\n",
       "      <td>0.951465</td>\n",
       "      <td>1043.0</td>\n",
       "      <td>7857.0</td>\n",
       "      <td>128.0</td>\n",
       "      <td>326.0</td>\n",
       "      <td>0.016030</td>\n",
       "      <td>0.238130</td>\n",
       "      <td>0.872920</td>\n",
       "      <td>0.796618</td>\n",
       "    </tr>\n",
       "    <tr>\n",
       "      <th>AdaBoostClassifier</th>\n",
       "      <td>0.936925</td>\n",
       "      <td>931.0</td>\n",
       "      <td>7833.0</td>\n",
       "      <td>152.0</td>\n",
       "      <td>438.0</td>\n",
       "      <td>0.019036</td>\n",
       "      <td>0.319942</td>\n",
       "      <td>0.830511</td>\n",
       "      <td>0.730235</td>\n",
       "    </tr>\n",
       "    <tr>\n",
       "      <th>GradientBoostingClassifier</th>\n",
       "      <td>0.945264</td>\n",
       "      <td>1014.0</td>\n",
       "      <td>7828.0</td>\n",
       "      <td>157.0</td>\n",
       "      <td>355.0</td>\n",
       "      <td>0.019662</td>\n",
       "      <td>0.259313</td>\n",
       "      <td>0.860512</td>\n",
       "      <td>0.770113</td>\n",
       "    </tr>\n",
       "    <tr>\n",
       "      <th>ExtraTreeClassifier</th>\n",
       "      <td>0.950289</td>\n",
       "      <td>1048.0</td>\n",
       "      <td>7841.0</td>\n",
       "      <td>144.0</td>\n",
       "      <td>321.0</td>\n",
       "      <td>0.018034</td>\n",
       "      <td>0.234478</td>\n",
       "      <td>0.873744</td>\n",
       "      <td>0.792332</td>\n",
       "    </tr>\n",
       "    <tr>\n",
       "      <th>BaggingClassifier</th>\n",
       "      <td>0.948792</td>\n",
       "      <td>1051.0</td>\n",
       "      <td>7824.0</td>\n",
       "      <td>161.0</td>\n",
       "      <td>318.0</td>\n",
       "      <td>0.020163</td>\n",
       "      <td>0.232286</td>\n",
       "      <td>0.873775</td>\n",
       "      <td>0.786798</td>\n",
       "    </tr>\n",
       "    <tr>\n",
       "      <th>Neural Network-1</th>\n",
       "      <td>0.952641</td>\n",
       "      <td>1008.0</td>\n",
       "      <td>7903.0</td>\n",
       "      <td>82.0</td>\n",
       "      <td>361.0</td>\n",
       "      <td>0.010269</td>\n",
       "      <td>0.263696</td>\n",
       "      <td>0.873775</td>\n",
       "      <td>0.799812</td>\n",
       "    </tr>\n",
       "  </tbody>\n",
       "</table>\n",
       "</div>"
      ],
      "text/plain": [
       "                            accuracy      TP      TN     FP     FN       FPR  \\\n",
       "index                                                                          \n",
       "KNeighborsClassifier        0.949861  1048.0  7837.0  148.0  321.0  0.018535   \n",
       "LogisticRegression          0.943660   962.0  7865.0  120.0  407.0  0.015028   \n",
       "RandomForestClassifier      0.951465  1043.0  7857.0  128.0  326.0  0.016030   \n",
       "AdaBoostClassifier          0.936925   931.0  7833.0  152.0  438.0  0.019036   \n",
       "GradientBoostingClassifier  0.945264  1014.0  7828.0  157.0  355.0  0.019662   \n",
       "ExtraTreeClassifier         0.950289  1048.0  7841.0  144.0  321.0  0.018034   \n",
       "BaggingClassifier           0.948792  1051.0  7824.0  161.0  318.0  0.020163   \n",
       "Neural Network-1            0.952641  1008.0  7903.0   82.0  361.0  0.010269   \n",
       "\n",
       "                                 FNR       auc       mcc  \n",
       "index                                                     \n",
       "KNeighborsClassifier        0.234478  0.873494  0.790670  \n",
       "LogisticRegression          0.297297  0.843837  0.759982  \n",
       "RandomForestClassifier      0.238130  0.872920  0.796618  \n",
       "AdaBoostClassifier          0.319942  0.830511  0.730235  \n",
       "GradientBoostingClassifier  0.259313  0.860512  0.770113  \n",
       "ExtraTreeClassifier         0.234478  0.873744  0.792332  \n",
       "BaggingClassifier           0.232286  0.873775  0.786798  \n",
       "Neural Network-1            0.263696  0.873775  0.799812  "
      ]
     },
     "metadata": {},
     "output_type": "display_data"
    }
   ],
   "source": [
    "table_80_60_train['index']=ind_columns\n",
    "table_80_60_test['index']=ind_columns\n",
    "\n",
    "\n",
    "table_80_60_test.set_index(['index'],drop=True,inplace=True)\n",
    "table_80_60_train.set_index(['index'],drop=True,inplace=True)\n",
    "\n",
    "print(\"Training Results\")\n",
    "display(table_80_60_train)\n",
    "print(\"Test Results\")\n",
    "display(table_80_60_test)"
   ]
  },
  {
   "cell_type": "markdown",
   "metadata": {},
   "source": [
    "### <a id='4.B' style=\"text-decoration : none; color : #000000;\"> B. Average Feature Importances</a>"
   ]
  },
  {
   "cell_type": "code",
   "execution_count": 64,
   "metadata": {},
   "outputs": [
    {
     "data": {
      "application/vnd.plotly.v1+json": {
       "config": {
        "linkText": "Export to plot.ly",
        "plotlyServerURL": "https://plot.ly",
        "showLink": true
       },
       "data": [
        {
         "marker": {
          "color": "rgb(158,202,225)",
          "line": {
           "color": "rgb(8,48,107)",
           "width": 1.5
          }
         },
         "opacity": 0.6,
         "orientation": "h",
         "text": [
          0.1955,
          0.072,
          0.0564,
          0.0497,
          0.0469,
          0.0361,
          0.0345,
          0.0339,
          0.0313,
          0.0291,
          0.0288,
          0.0283,
          0.0282,
          0.0281,
          0.0247,
          0.0246,
          0.0238,
          0.0208,
          0.0189,
          0.0187,
          0.017,
          0.016,
          0.0153,
          0.0149,
          0.0148,
          0.0143,
          0.013,
          0.0115,
          0.0101,
          0.0098,
          0.0088,
          0.0078,
          0.0072,
          0.0059,
          0.0031
         ],
         "textposition": "outside",
         "type": "bar",
         "uid": "d14ceccf-4b9c-4bd4-b4df-6b54d7d9b184",
         "x": [
          0.19549671631049526,
          0.0719778897917749,
          0.05641515993303543,
          0.049699267899851476,
          0.04690633442823224,
          0.03606692948279,
          0.034514840768882143,
          0.03394902878454724,
          0.03132566861699332,
          0.0291191810506056,
          0.028786156104008788,
          0.02832589291484395,
          0.02819478591777614,
          0.02809493640086526,
          0.024723737755349834,
          0.024619867022171733,
          0.023753082310067834,
          0.020822688734622747,
          0.01893598538794145,
          0.018748892870240137,
          0.016975960429836304,
          0.01598676428264876,
          0.015288878040467881,
          0.01485263430539084,
          0.01480035336885061,
          0.014346925732417696,
          0.012965786312522886,
          0.011510484462856494,
          0.010054535620016946,
          0.009833527497905175,
          0.00877197688770345,
          0.007829540993198634,
          0.007215235080485261,
          0.005944451677046341,
          0.0031459028235572045
         ],
         "y": [
          "url_extensions + url_length",
          "url_char_. + url_char_z",
          "url_char_o + url_length",
          "url_char_w + url_extensions",
          "url_char_b + url_length",
          "url_char_w * url_extensions",
          "url_char_i + url_length",
          "url_char_. + url_char_w",
          "url_char_w + url_length",
          "url_char_k + url_extensions",
          "url_char_u + url_extensions",
          "url_char_f + url_length",
          "url_char_k + url_length",
          "url_char_. + url_char_j",
          "url_char_c + url_length",
          "url_char_. + url_extension_.net",
          "url_char_w + url_char_z",
          "url_char_z + url_length",
          "url_extension_.com + url_length",
          "url_char_y + url_length",
          "url_char_r + url_length",
          "url_char_h + url_length",
          "url_char_n + url_length",
          "url_char_. + url_words_with_length_8",
          "url_char_s + url_length",
          "url_length",
          "url_char_. + url_length",
          "url_char_g + url_length",
          "url_extension_.i + url_length",
          "url_char_l + url_length",
          "url_char_p + url_length",
          "url_extension_.net + url_length",
          "url_char_j + url_length",
          "url_char_v + url_length",
          "url_length + url_words_with_length_8"
         ]
        }
       ],
       "layout": {
        "autosize": false,
        "height": 1000,
        "width": 1000,
        "xaxis": {
         "tickfont": {
          "color": "black",
          "size": 12
         },
         "title": "Feature Importances"
        },
        "yaxis": {
         "automargin": true
        }
       }
      },
      "text/html": [
       "<div id=\"36beca58-8866-4981-bc10-a2b6c08cabad\" style=\"height: 1000px; width: 1000px;\" class=\"plotly-graph-div\"></div><script type=\"text/javascript\">require([\"plotly\"], function(Plotly) { window.PLOTLYENV=window.PLOTLYENV || {};window.PLOTLYENV.BASE_URL=\"https://plot.ly\";Plotly.newPlot(\"36beca58-8866-4981-bc10-a2b6c08cabad\", [{\"marker\": {\"color\": \"rgb(158,202,225)\", \"line\": {\"color\": \"rgb(8,48,107)\", \"width\": 1.5}}, \"opacity\": 0.6, \"orientation\": \"h\", \"text\": [0.1955, 0.072, 0.0564, 0.0497, 0.0469, 0.0361, 0.0345, 0.0339, 0.0313, 0.0291, 0.0288, 0.0283, 0.0282, 0.0281, 0.0247, 0.0246, 0.0238, 0.0208, 0.0189, 0.0187, 0.017, 0.016, 0.0153, 0.0149, 0.0148, 0.0143, 0.013, 0.0115, 0.0101, 0.0098, 0.0088, 0.0078, 0.0072, 0.0059, 0.0031], \"textposition\": \"outside\", \"x\": [0.19549671631049526, 0.0719778897917749, 0.05641515993303543, 0.049699267899851476, 0.04690633442823224, 0.03606692948279, 0.034514840768882143, 0.03394902878454724, 0.03132566861699332, 0.0291191810506056, 0.028786156104008788, 0.02832589291484395, 0.02819478591777614, 0.02809493640086526, 0.024723737755349834, 0.024619867022171733, 0.023753082310067834, 0.020822688734622747, 0.01893598538794145, 0.018748892870240137, 0.016975960429836304, 0.01598676428264876, 0.015288878040467881, 0.01485263430539084, 0.01480035336885061, 0.014346925732417696, 0.012965786312522886, 0.011510484462856494, 0.010054535620016946, 0.009833527497905175, 0.00877197688770345, 0.007829540993198634, 0.007215235080485261, 0.005944451677046341, 0.0031459028235572045], \"y\": [\"url_extensions + url_length\", \"url_char_. + url_char_z\", \"url_char_o + url_length\", \"url_char_w + url_extensions\", \"url_char_b + url_length\", \"url_char_w * url_extensions\", \"url_char_i + url_length\", \"url_char_. + url_char_w\", \"url_char_w + url_length\", \"url_char_k + url_extensions\", \"url_char_u + url_extensions\", \"url_char_f + url_length\", \"url_char_k + url_length\", \"url_char_. + url_char_j\", \"url_char_c + url_length\", \"url_char_. + url_extension_.net\", \"url_char_w + url_char_z\", \"url_char_z + url_length\", \"url_extension_.com + url_length\", \"url_char_y + url_length\", \"url_char_r + url_length\", \"url_char_h + url_length\", \"url_char_n + url_length\", \"url_char_. + url_words_with_length_8\", \"url_char_s + url_length\", \"url_length\", \"url_char_. + url_length\", \"url_char_g + url_length\", \"url_extension_.i + url_length\", \"url_char_l + url_length\", \"url_char_p + url_length\", \"url_extension_.net + url_length\", \"url_char_j + url_length\", \"url_char_v + url_length\", \"url_length + url_words_with_length_8\"], \"type\": \"bar\", \"uid\": \"d14ceccf-4b9c-4bd4-b4df-6b54d7d9b184\"}], {\"autosize\": false, \"height\": 1000, \"width\": 1000, \"xaxis\": {\"tickfont\": {\"color\": \"black\", \"size\": 12}, \"title\": \"Feature Importances\"}, \"yaxis\": {\"automargin\": true}}, {\"showLink\": true, \"linkText\": \"Export to plot.ly\", \"plotlyServerURL\": \"https://plot.ly\"})});</script>"
      ],
      "text/vnd.plotly.v1+html": [
       "<div id=\"36beca58-8866-4981-bc10-a2b6c08cabad\" style=\"height: 1000px; width: 1000px;\" class=\"plotly-graph-div\"></div><script type=\"text/javascript\">require([\"plotly\"], function(Plotly) { window.PLOTLYENV=window.PLOTLYENV || {};window.PLOTLYENV.BASE_URL=\"https://plot.ly\";Plotly.newPlot(\"36beca58-8866-4981-bc10-a2b6c08cabad\", [{\"marker\": {\"color\": \"rgb(158,202,225)\", \"line\": {\"color\": \"rgb(8,48,107)\", \"width\": 1.5}}, \"opacity\": 0.6, \"orientation\": \"h\", \"text\": [0.1955, 0.072, 0.0564, 0.0497, 0.0469, 0.0361, 0.0345, 0.0339, 0.0313, 0.0291, 0.0288, 0.0283, 0.0282, 0.0281, 0.0247, 0.0246, 0.0238, 0.0208, 0.0189, 0.0187, 0.017, 0.016, 0.0153, 0.0149, 0.0148, 0.0143, 0.013, 0.0115, 0.0101, 0.0098, 0.0088, 0.0078, 0.0072, 0.0059, 0.0031], \"textposition\": \"outside\", \"x\": [0.19549671631049526, 0.0719778897917749, 0.05641515993303543, 0.049699267899851476, 0.04690633442823224, 0.03606692948279, 0.034514840768882143, 0.03394902878454724, 0.03132566861699332, 0.0291191810506056, 0.028786156104008788, 0.02832589291484395, 0.02819478591777614, 0.02809493640086526, 0.024723737755349834, 0.024619867022171733, 0.023753082310067834, 0.020822688734622747, 0.01893598538794145, 0.018748892870240137, 0.016975960429836304, 0.01598676428264876, 0.015288878040467881, 0.01485263430539084, 0.01480035336885061, 0.014346925732417696, 0.012965786312522886, 0.011510484462856494, 0.010054535620016946, 0.009833527497905175, 0.00877197688770345, 0.007829540993198634, 0.007215235080485261, 0.005944451677046341, 0.0031459028235572045], \"y\": [\"url_extensions + url_length\", \"url_char_. + url_char_z\", \"url_char_o + url_length\", \"url_char_w + url_extensions\", \"url_char_b + url_length\", \"url_char_w * url_extensions\", \"url_char_i + url_length\", \"url_char_. + url_char_w\", \"url_char_w + url_length\", \"url_char_k + url_extensions\", \"url_char_u + url_extensions\", \"url_char_f + url_length\", \"url_char_k + url_length\", \"url_char_. + url_char_j\", \"url_char_c + url_length\", \"url_char_. + url_extension_.net\", \"url_char_w + url_char_z\", \"url_char_z + url_length\", \"url_extension_.com + url_length\", \"url_char_y + url_length\", \"url_char_r + url_length\", \"url_char_h + url_length\", \"url_char_n + url_length\", \"url_char_. + url_words_with_length_8\", \"url_char_s + url_length\", \"url_length\", \"url_char_. + url_length\", \"url_char_g + url_length\", \"url_extension_.i + url_length\", \"url_char_l + url_length\", \"url_char_p + url_length\", \"url_extension_.net + url_length\", \"url_char_j + url_length\", \"url_char_v + url_length\", \"url_length + url_words_with_length_8\"], \"type\": \"bar\", \"uid\": \"d14ceccf-4b9c-4bd4-b4df-6b54d7d9b184\"}], {\"autosize\": false, \"height\": 1000, \"width\": 1000, \"xaxis\": {\"tickfont\": {\"color\": \"black\", \"size\": 12}, \"title\": \"Feature Importances\"}, \"yaxis\": {\"automargin\": true}}, {\"showLink\": true, \"linkText\": \"Export to plot.ly\", \"plotlyServerURL\": \"https://plot.ly\"})});</script>"
      ]
     },
     "metadata": {},
     "output_type": "display_data"
    }
   ],
   "source": [
    "feat_impt_plot(np.average(feat_imp,axis=0),feature_name)"
   ]
  },
  {
   "cell_type": "markdown",
   "metadata": {},
   "source": [
    "### <a id='5' style=\"text-decoration : none; color : #000000;\">5. Feature Transformation with PCA </a>"
   ]
  },
  {
   "cell_type": "code",
   "execution_count": 65,
   "metadata": {
    "collapsed": true
   },
   "outputs": [],
   "source": [
    "X=fs.loc[:,fs.columns!='Target']\n",
    "y=fs.Target.values\n",
    "feature_name = X.columns.tolist()\n",
    "X=np.nan_to_num(X)\n",
    "scaler=StandardScaler()\n",
    "scaled_X=scaler.fit_transform(X)"
   ]
  },
  {
   "cell_type": "code",
   "execution_count": 66,
   "metadata": {},
   "outputs": [
    {
     "data": {
      "image/png": "[encoded data removed]",
      "text/plain": [
       "<Figure size 720x576 with 1 Axes>"
      ]
     },
     "metadata": {},
     "output_type": "display_data"
    }
   ],
   "source": [
    "sns.set_style('whitegrid')\n",
    "pca = PCA(random_state=0)\n",
    "pca.fit(scaled_X)\n",
    "plt.figure(1, figsize=(10, 8))\n",
    "plt.plot(np.cumsum(pca.explained_variance_ratio_),'--o', linewidth=2)\n",
    "plt.axis('tight')\n",
    "plt.xlabel('Number of Components',size=14)\n",
    "plt.xticks(size=12)\n",
    "plt.xlim([0,200])\n",
    "plt.ylabel('% Explained Variance',size=14)\n",
    "plt.yticks(size=12)\n",
    "plt.title('% Variance Explained by Principal Components',size=14,y=1.05)\n",
    "plt.show()"
   ]
  },
  {
   "cell_type": "code",
   "execution_count": 68,
   "metadata": {},
   "outputs": [
    {
     "name": "stdout",
     "output_type": "stream",
     "text": [
      "Variance explained using 152 components is: 0.799317063834\n"
     ]
    }
   ],
   "source": [
    "pca=PCA(n_components=102,whiten=True,random_state=0)\n",
    "X_pca_21=pca.fit_transform(scaled_X)\n",
    "print(\"Variance explained using 152 components is:\",sum(pca.explained_variance_ratio_))"
   ]
  },
  {
   "cell_type": "code",
   "execution_count": 69,
   "metadata": {
    "collapsed": true
   },
   "outputs": [],
   "source": [
    "X_train=X_pca_21[:37417]\n",
    "Y_train=fs.iloc[:37417]['Target'].values\n",
    "X_test=X_pca_21[37417:]\n",
    "Y_test=fs.iloc[37417:]['Target'].values\n",
    "\n",
    "## Table to store training and test measures so we can compare later\n",
    "table_80_70_train=pd.DataFrame(columns=['accuracy','TP','TN','FP','FN','FPR','FNR'])\n",
    "table_80_70_test=pd.DataFrame(columns=['accuracy','TP','TN','FP','FN','FPR','FNR','auc','mcc'])"
   ]
  },
  {
   "cell_type": "code",
   "execution_count": 70,
   "metadata": {
    "scrolled": false
   },
   "outputs": [
    {
     "name": "stdout",
     "output_type": "stream",
     "text": [
      "\u001b[1mK-Nearest Neighbors\u001b[0m\n",
      "Accuracy of the model for training data is: 0.94954165219\n",
      "Confusion Matrix for training data is:\n"
     ]
    },
    {
     "data": {
      "text/plain": [
       "Predicted  False  True  __all__\n",
       "Actual                         \n",
       "False      31855    37    31892\n",
       "True        1851  3674     5525\n",
       "__all__    33706  3711    37417"
      ]
     },
     "metadata": {},
     "output_type": "display_data"
    },
    {
     "name": "stdout",
     "output_type": "stream",
     "text": [
      "Accuracy of the model for test data is: 0.94130853111\n",
      "Confusion Matrix for test data is:\n"
     ]
    },
    {
     "data": {
      "text/plain": [
       "Predicted  False  True  __all__\n",
       "Actual                         \n",
       "False       7971    14     7985\n",
       "True         535   834     1369\n",
       "__all__     8506   848     9354"
      ]
     },
     "metadata": {},
     "output_type": "display_data"
    },
    {
     "name": "stdout",
     "output_type": "stream",
     "text": [
      "\n",
      "\n",
      "\u001b[1mLogistic Regression\u001b[0m\n",
      "Accuracy of the model for training data is: 0.955635139108\n",
      "Confusion Matrix for training data is:\n"
     ]
    },
    {
     "data": {
      "text/plain": [
       "Predicted  False  True  __all__\n",
       "Actual                         \n",
       "False      31488   404    31892\n",
       "True        1256  4269     5525\n",
       "__all__    32744  4673    37417"
      ]
     },
     "metadata": {},
     "output_type": "display_data"
    },
    {
     "name": "stdout",
     "output_type": "stream",
     "text": [
      "Accuracy of the model for test data is: 0.955206328843\n",
      "Confusion Matrix for test data is:\n"
     ]
    },
    {
     "data": {
      "text/plain": [
       "Predicted  False  True  __all__\n",
       "Actual                         \n",
       "False       7875   110     7985\n",
       "True         309  1060     1369\n",
       "__all__     8184  1170     9354"
      ]
     },
     "metadata": {},
     "output_type": "display_data"
    },
    {
     "name": "stdout",
     "output_type": "stream",
     "text": [
      "\n",
      "\n",
      "\u001b[1mRandomForest Classifier\u001b[0m\n",
      "Accuracy of the model for training data is: 0.993692706524\n",
      "Confusion Matrix for training data is:\n"
     ]
    },
    {
     "data": {
      "text/plain": [
       "Predicted  False  True  __all__\n",
       "Actual                         \n",
       "False      31885     7    31892\n",
       "True         229  5296     5525\n",
       "__all__    32114  5303    37417"
      ]
     },
     "metadata": {},
     "output_type": "display_data"
    },
    {
     "name": "stdout",
     "output_type": "stream",
     "text": [
      "Accuracy of the model for test data is: 0.944943339748\n",
      "Confusion Matrix for test data is:\n"
     ]
    },
    {
     "data": {
      "text/plain": [
       "Predicted  False  True  __all__\n",
       "Actual                         \n",
       "False       7898    87     7985\n",
       "True         428   941     1369\n",
       "__all__     8326  1028     9354"
      ]
     },
     "metadata": {},
     "output_type": "display_data"
    },
    {
     "data": {
      "application/vnd.plotly.v1+json": {
       "config": {
        "linkText": "Export to plot.ly",
        "plotlyServerURL": "https://plot.ly",
        "showLink": true
       },
       "data": [
        {
         "marker": {
          "color": "rgb(158,202,225)",
          "line": {
           "color": "rgb(8,48,107)",
           "width": 1.5
          }
         },
         "opacity": 0.6,
         "orientation": "h",
         "text": [
          0.1029,
          0.0872,
          0.0803,
          0.0456,
          0.0397,
          0.0301,
          0.0237,
          0.0167,
          0.0159,
          0.014,
          0.0127,
          0.0121,
          0.012,
          0.0119,
          0.0098,
          0.0092,
          0.0092,
          0.009,
          0.0088,
          0.0087,
          0.0086,
          0.0085,
          0.0084,
          0.0083,
          0.0081,
          0.008,
          0.0078,
          0.0078,
          0.0077,
          0.0076,
          0.0076,
          0.0075,
          0.0074,
          0.0074,
          0.0074,
          0.0072,
          0.0072,
          0.007,
          0.007,
          0.0069,
          0.0068,
          0.0067,
          0.0066,
          0.0065,
          0.0064,
          0.0064,
          0.0063,
          0.0063,
          0.0062,
          0.0061,
          0.0056,
          0.0056,
          0.0055,
          0.0054,
          0.0054,
          0.0053,
          0.0053,
          0.0052,
          0.0051,
          0.0051,
          0.005,
          0.005,
          0.0049,
          0.0048,
          0.0047,
          0.0047,
          0.0046,
          0.0045,
          0.0045,
          0.0045,
          0.0044,
          0.0044,
          0.0044,
          0.0043,
          0.0043,
          0.0043,
          0.0043,
          0.0042,
          0.0042,
          0.0042,
          0.004,
          0.004,
          0.004,
          0.0039,
          0.0039,
          0.0039,
          0.0039,
          0.0038,
          0.0038,
          0.0038,
          0.0037,
          0.0036,
          0.0036,
          0.0036,
          0.0036,
          0.0036,
          0.0034,
          0.0034,
          0.0032,
          0.003,
          0.0029,
          0.0029
         ],
         "textposition": "outside",
         "type": "bar",
         "uid": "06dd8fcc-d8f1-4dd3-8815-c32b9a8c97bd",
         "x": [
          0.1028607223420999,
          0.08720234272867612,
          0.08031580133789999,
          0.04564353796289012,
          0.03970376592162933,
          0.03011603052938001,
          0.02370583661312947,
          0.01666990236826489,
          0.015927500100548726,
          0.014048188892583113,
          0.012709843590822922,
          0.012080422304615732,
          0.011994979250753395,
          0.011860488133292636,
          0.009820504552980239,
          0.009190957034598516,
          0.009150648739903938,
          0.009002849858874982,
          0.008759738334848435,
          0.00866192663170168,
          0.008620362556648501,
          0.008451957254940662,
          0.008352092936960015,
          0.008263856757115814,
          0.008068222767364682,
          0.008010926661498528,
          0.0077930585958031,
          0.007787790683712129,
          0.007686019331983133,
          0.0076307641676312335,
          0.007625480226715109,
          0.007504687875934446,
          0.007423787546887656,
          0.007393937887248044,
          0.007367897184688185,
          0.007236142985033983,
          0.007165008796089235,
          0.007038777121294723,
          0.006994215346885349,
          0.006873726163762285,
          0.00679127950985606,
          0.006716416836447958,
          0.006579166484594142,
          0.006490882933806471,
          0.006376862334245832,
          0.006366327769175839,
          0.006297167925716276,
          0.006259735686916774,
          0.0062011935458350705,
          0.006060270234987614,
          0.005626561456960885,
          0.00556092786783721,
          0.005493090659141651,
          0.00544195066409163,
          0.005412053141161331,
          0.005344194297986138,
          0.005253705860512086,
          0.005221003186365668,
          0.005134739300530834,
          0.005099446298835047,
          0.004985290487396517,
          0.004951272498072768,
          0.004939058862481113,
          0.004806046122204252,
          0.004682023779002486,
          0.004676945913421467,
          0.0046338437959204375,
          0.004503745401168333,
          0.004501717109805721,
          0.004468193995175468,
          0.00444956702494206,
          0.004421999719997763,
          0.004364080341313857,
          0.004305150752174525,
          0.004302630218578574,
          0.004300209937894647,
          0.004275786610585489,
          0.004237902338171659,
          0.004210473590452591,
          0.004206736880155901,
          0.004020277912746178,
          0.004011502305618376,
          0.003967353416636033,
          0.003945197714521635,
          0.003857821570291309,
          0.0038519659511632247,
          0.0038510134382430472,
          0.003779527898376797,
          0.0037727853613663195,
          0.0037693514693179927,
          0.0036529982295380203,
          0.003645450365946723,
          0.003643574450801778,
          0.003611586396958361,
          0.003576479236453849,
          0.003558322150059183,
          0.0034450872520008754,
          0.0034004514192798874,
          0.003190859465843434,
          0.0029976126606619307,
          0.0029277713416453193,
          0.0028586585409186094
         ],
         "y": [
          "3",
          "1",
          "0",
          "8",
          "4",
          "75",
          "79",
          "82",
          "43",
          "65",
          "2",
          "72",
          "94",
          "83",
          "5",
          "20",
          "62",
          "27",
          "36",
          "61",
          "44",
          "6",
          "58",
          "66",
          "35",
          "46",
          "33",
          "45",
          "80",
          "68",
          "12",
          "69",
          "14",
          "71",
          "52",
          "89",
          "37",
          "13",
          "21",
          "47",
          "90",
          "59",
          "48",
          "87",
          "28",
          "15",
          "7",
          "67",
          "31",
          "50",
          "73",
          "10",
          "19",
          "81",
          "86",
          "39",
          "41",
          "23",
          "42",
          "17",
          "24",
          "64",
          "18",
          "16",
          "51",
          "38",
          "100",
          "9",
          "88",
          "11",
          "57",
          "54",
          "34",
          "29",
          "55",
          "97",
          "25",
          "30",
          "96",
          "60",
          "101",
          "56",
          "22",
          "53",
          "95",
          "70",
          "40",
          "49",
          "84",
          "74",
          "78",
          "63",
          "32",
          "93",
          "26",
          "85",
          "76",
          "99",
          "91",
          "77",
          "98",
          "92"
         ]
        }
       ],
       "layout": {
        "autosize": false,
        "height": 1000,
        "width": 1000,
        "xaxis": {
         "tickfont": {
          "color": "black",
          "size": 12
         },
         "title": "Feature Importances"
        },
        "yaxis": {
         "automargin": true
        }
       }
      },
      "text/html": [
       "<div id=\"9eaf7bb9-2679-4471-8035-fe5a4809a0e9\" style=\"height: 1000px; width: 1000px;\" class=\"plotly-graph-div\"></div><script type=\"text/javascript\">require([\"plotly\"], function(Plotly) { window.PLOTLYENV=window.PLOTLYENV || {};window.PLOTLYENV.BASE_URL=\"https://plot.ly\";Plotly.newPlot(\"9eaf7bb9-2679-4471-8035-fe5a4809a0e9\", [{\"marker\": {\"color\": \"rgb(158,202,225)\", \"line\": {\"color\": \"rgb(8,48,107)\", \"width\": 1.5}}, \"opacity\": 0.6, \"orientation\": \"h\", \"text\": [0.1029, 0.0872, 0.0803, 0.0456, 0.0397, 0.0301, 0.0237, 0.0167, 0.0159, 0.014, 0.0127, 0.0121, 0.012, 0.0119, 0.0098, 0.0092, 0.0092, 0.009, 0.0088, 0.0087, 0.0086, 0.0085, 0.0084, 0.0083, 0.0081, 0.008, 0.0078, 0.0078, 0.0077, 0.0076, 0.0076, 0.0075, 0.0074, 0.0074, 0.0074, 0.0072, 0.0072, 0.007, 0.007, 0.0069, 0.0068, 0.0067, 0.0066, 0.0065, 0.0064, 0.0064, 0.0063, 0.0063, 0.0062, 0.0061, 0.0056, 0.0056, 0.0055, 0.0054, 0.0054, 0.0053, 0.0053, 0.0052, 0.0051, 0.0051, 0.005, 0.005, 0.0049, 0.0048, 0.0047, 0.0047, 0.0046, 0.0045, 0.0045, 0.0045, 0.0044, 0.0044, 0.0044, 0.0043, 0.0043, 0.0043, 0.0043, 0.0042, 0.0042, 0.0042, 0.004, 0.004, 0.004, 0.0039, 0.0039, 0.0039, 0.0039, 0.0038, 0.0038, 0.0038, 0.0037, 0.0036, 0.0036, 0.0036, 0.0036, 0.0036, 0.0034, 0.0034, 0.0032, 0.003, 0.0029, 0.0029], \"textposition\": \"outside\", \"x\": [0.1028607223420999, 0.08720234272867612, 0.08031580133789999, 0.04564353796289012, 0.03970376592162933, 0.03011603052938001, 0.02370583661312947, 0.01666990236826489, 0.015927500100548726, 0.014048188892583113, 0.012709843590822922, 0.012080422304615732, 0.011994979250753395, 0.011860488133292636, 0.009820504552980239, 0.009190957034598516, 0.009150648739903938, 0.009002849858874982, 0.008759738334848435, 0.00866192663170168, 0.008620362556648501, 0.008451957254940662, 0.008352092936960015, 0.008263856757115814, 0.008068222767364682, 0.008010926661498528, 0.0077930585958031, 0.007787790683712129, 0.007686019331983133, 0.0076307641676312335, 0.007625480226715109, 0.007504687875934446, 0.007423787546887656, 0.007393937887248044, 0.007367897184688185, 0.007236142985033983, 0.007165008796089235, 0.007038777121294723, 0.006994215346885349, 0.006873726163762285, 0.00679127950985606, 0.006716416836447958, 0.006579166484594142, 0.006490882933806471, 0.006376862334245832, 0.006366327769175839, 0.006297167925716276, 0.006259735686916774, 0.0062011935458350705, 0.006060270234987614, 0.005626561456960885, 0.00556092786783721, 0.005493090659141651, 0.00544195066409163, 0.005412053141161331, 0.005344194297986138, 0.005253705860512086, 0.005221003186365668, 0.005134739300530834, 0.005099446298835047, 0.004985290487396517, 0.004951272498072768, 0.004939058862481113, 0.004806046122204252, 0.004682023779002486, 0.004676945913421467, 0.0046338437959204375, 0.004503745401168333, 0.004501717109805721, 0.004468193995175468, 0.00444956702494206, 0.004421999719997763, 0.004364080341313857, 0.004305150752174525, 0.004302630218578574, 0.004300209937894647, 0.004275786610585489, 0.004237902338171659, 0.004210473590452591, 0.004206736880155901, 0.004020277912746178, 0.004011502305618376, 0.003967353416636033, 0.003945197714521635, 0.003857821570291309, 0.0038519659511632247, 0.0038510134382430472, 0.003779527898376797, 0.0037727853613663195, 0.0037693514693179927, 0.0036529982295380203, 0.003645450365946723, 0.003643574450801778, 0.003611586396958361, 0.003576479236453849, 0.003558322150059183, 0.0034450872520008754, 0.0034004514192798874, 0.003190859465843434, 0.0029976126606619307, 0.0029277713416453193, 0.0028586585409186094], \"y\": [\"3\", \"1\", \"0\", \"8\", \"4\", \"75\", \"79\", \"82\", \"43\", \"65\", \"2\", \"72\", \"94\", \"83\", \"5\", \"20\", \"62\", \"27\", \"36\", \"61\", \"44\", \"6\", \"58\", \"66\", \"35\", \"46\", \"33\", \"45\", \"80\", \"68\", \"12\", \"69\", \"14\", \"71\", \"52\", \"89\", \"37\", \"13\", \"21\", \"47\", \"90\", \"59\", \"48\", \"87\", \"28\", \"15\", \"7\", \"67\", \"31\", \"50\", \"73\", \"10\", \"19\", \"81\", \"86\", \"39\", \"41\", \"23\", \"42\", \"17\", \"24\", \"64\", \"18\", \"16\", \"51\", \"38\", \"100\", \"9\", \"88\", \"11\", \"57\", \"54\", \"34\", \"29\", \"55\", \"97\", \"25\", \"30\", \"96\", \"60\", \"101\", \"56\", \"22\", \"53\", \"95\", \"70\", \"40\", \"49\", \"84\", \"74\", \"78\", \"63\", \"32\", \"93\", \"26\", \"85\", \"76\", \"99\", \"91\", \"77\", \"98\", \"92\"], \"type\": \"bar\", \"uid\": \"06dd8fcc-d8f1-4dd3-8815-c32b9a8c97bd\"}], {\"autosize\": false, \"height\": 1000, \"width\": 1000, \"xaxis\": {\"tickfont\": {\"color\": \"black\", \"size\": 12}, \"title\": \"Feature Importances\"}, \"yaxis\": {\"automargin\": true}}, {\"showLink\": true, \"linkText\": \"Export to plot.ly\", \"plotlyServerURL\": \"https://plot.ly\"})});</script>"
      ],
      "text/vnd.plotly.v1+html": [
       "<div id=\"9eaf7bb9-2679-4471-8035-fe5a4809a0e9\" style=\"height: 1000px; width: 1000px;\" class=\"plotly-graph-div\"></div><script type=\"text/javascript\">require([\"plotly\"], function(Plotly) { window.PLOTLYENV=window.PLOTLYENV || {};window.PLOTLYENV.BASE_URL=\"https://plot.ly\";Plotly.newPlot(\"9eaf7bb9-2679-4471-8035-fe5a4809a0e9\", [{\"marker\": {\"color\": \"rgb(158,202,225)\", \"line\": {\"color\": \"rgb(8,48,107)\", \"width\": 1.5}}, \"opacity\": 0.6, \"orientation\": \"h\", \"text\": [0.1029, 0.0872, 0.0803, 0.0456, 0.0397, 0.0301, 0.0237, 0.0167, 0.0159, 0.014, 0.0127, 0.0121, 0.012, 0.0119, 0.0098, 0.0092, 0.0092, 0.009, 0.0088, 0.0087, 0.0086, 0.0085, 0.0084, 0.0083, 0.0081, 0.008, 0.0078, 0.0078, 0.0077, 0.0076, 0.0076, 0.0075, 0.0074, 0.0074, 0.0074, 0.0072, 0.0072, 0.007, 0.007, 0.0069, 0.0068, 0.0067, 0.0066, 0.0065, 0.0064, 0.0064, 0.0063, 0.0063, 0.0062, 0.0061, 0.0056, 0.0056, 0.0055, 0.0054, 0.0054, 0.0053, 0.0053, 0.0052, 0.0051, 0.0051, 0.005, 0.005, 0.0049, 0.0048, 0.0047, 0.0047, 0.0046, 0.0045, 0.0045, 0.0045, 0.0044, 0.0044, 0.0044, 0.0043, 0.0043, 0.0043, 0.0043, 0.0042, 0.0042, 0.0042, 0.004, 0.004, 0.004, 0.0039, 0.0039, 0.0039, 0.0039, 0.0038, 0.0038, 0.0038, 0.0037, 0.0036, 0.0036, 0.0036, 0.0036, 0.0036, 0.0034, 0.0034, 0.0032, 0.003, 0.0029, 0.0029], \"textposition\": \"outside\", \"x\": [0.1028607223420999, 0.08720234272867612, 0.08031580133789999, 0.04564353796289012, 0.03970376592162933, 0.03011603052938001, 0.02370583661312947, 0.01666990236826489, 0.015927500100548726, 0.014048188892583113, 0.012709843590822922, 0.012080422304615732, 0.011994979250753395, 0.011860488133292636, 0.009820504552980239, 0.009190957034598516, 0.009150648739903938, 0.009002849858874982, 0.008759738334848435, 0.00866192663170168, 0.008620362556648501, 0.008451957254940662, 0.008352092936960015, 0.008263856757115814, 0.008068222767364682, 0.008010926661498528, 0.0077930585958031, 0.007787790683712129, 0.007686019331983133, 0.0076307641676312335, 0.007625480226715109, 0.007504687875934446, 0.007423787546887656, 0.007393937887248044, 0.007367897184688185, 0.007236142985033983, 0.007165008796089235, 0.007038777121294723, 0.006994215346885349, 0.006873726163762285, 0.00679127950985606, 0.006716416836447958, 0.006579166484594142, 0.006490882933806471, 0.006376862334245832, 0.006366327769175839, 0.006297167925716276, 0.006259735686916774, 0.0062011935458350705, 0.006060270234987614, 0.005626561456960885, 0.00556092786783721, 0.005493090659141651, 0.00544195066409163, 0.005412053141161331, 0.005344194297986138, 0.005253705860512086, 0.005221003186365668, 0.005134739300530834, 0.005099446298835047, 0.004985290487396517, 0.004951272498072768, 0.004939058862481113, 0.004806046122204252, 0.004682023779002486, 0.004676945913421467, 0.0046338437959204375, 0.004503745401168333, 0.004501717109805721, 0.004468193995175468, 0.00444956702494206, 0.004421999719997763, 0.004364080341313857, 0.004305150752174525, 0.004302630218578574, 0.004300209937894647, 0.004275786610585489, 0.004237902338171659, 0.004210473590452591, 0.004206736880155901, 0.004020277912746178, 0.004011502305618376, 0.003967353416636033, 0.003945197714521635, 0.003857821570291309, 0.0038519659511632247, 0.0038510134382430472, 0.003779527898376797, 0.0037727853613663195, 0.0037693514693179927, 0.0036529982295380203, 0.003645450365946723, 0.003643574450801778, 0.003611586396958361, 0.003576479236453849, 0.003558322150059183, 0.0034450872520008754, 0.0034004514192798874, 0.003190859465843434, 0.0029976126606619307, 0.0029277713416453193, 0.0028586585409186094], \"y\": [\"3\", \"1\", \"0\", \"8\", \"4\", \"75\", \"79\", \"82\", \"43\", \"65\", \"2\", \"72\", \"94\", \"83\", \"5\", \"20\", \"62\", \"27\", \"36\", \"61\", \"44\", \"6\", \"58\", \"66\", \"35\", \"46\", \"33\", \"45\", \"80\", \"68\", \"12\", \"69\", \"14\", \"71\", \"52\", \"89\", \"37\", \"13\", \"21\", \"47\", \"90\", \"59\", \"48\", \"87\", \"28\", \"15\", \"7\", \"67\", \"31\", \"50\", \"73\", \"10\", \"19\", \"81\", \"86\", \"39\", \"41\", \"23\", \"42\", \"17\", \"24\", \"64\", \"18\", \"16\", \"51\", \"38\", \"100\", \"9\", \"88\", \"11\", \"57\", \"54\", \"34\", \"29\", \"55\", \"97\", \"25\", \"30\", \"96\", \"60\", \"101\", \"56\", \"22\", \"53\", \"95\", \"70\", \"40\", \"49\", \"84\", \"74\", \"78\", \"63\", \"32\", \"93\", \"26\", \"85\", \"76\", \"99\", \"91\", \"77\", \"98\", \"92\"], \"type\": \"bar\", \"uid\": \"06dd8fcc-d8f1-4dd3-8815-c32b9a8c97bd\"}], {\"autosize\": false, \"height\": 1000, \"width\": 1000, \"xaxis\": {\"tickfont\": {\"color\": \"black\", \"size\": 12}, \"title\": \"Feature Importances\"}, \"yaxis\": {\"automargin\": true}}, {\"showLink\": true, \"linkText\": \"Export to plot.ly\", \"plotlyServerURL\": \"https://plot.ly\"})});</script>"
      ]
     },
     "metadata": {},
     "output_type": "display_data"
    },
    {
     "name": "stdout",
     "output_type": "stream",
     "text": [
      "\n",
      "\n",
      "\u001b[1mAdaoost Classifier\u001b[0m\n",
      "Accuracy of the model for training data is: 0.944089584948\n",
      "Confusion Matrix for training data is:\n"
     ]
    },
    {
     "data": {
      "text/plain": [
       "Predicted  False  True  __all__\n",
       "Actual                         \n",
       "False      31309   583    31892\n",
       "True        1509  4016     5525\n",
       "__all__    32818  4599    37417"
      ]
     },
     "metadata": {},
     "output_type": "display_data"
    },
    {
     "name": "stdout",
     "output_type": "stream",
     "text": [
      "Accuracy of the model for test data is: 0.94398118452\n",
      "Confusion Matrix for test data is:\n"
     ]
    },
    {
     "data": {
      "text/plain": [
       "Predicted  False  True  __all__\n",
       "Actual                         \n",
       "False       7839   146     7985\n",
       "True         378   991     1369\n",
       "__all__     8217  1137     9354"
      ]
     },
     "metadata": {},
     "output_type": "display_data"
    },
    {
     "data": {
      "application/vnd.plotly.v1+json": {
       "config": {
        "linkText": "Export to plot.ly",
        "plotlyServerURL": "https://plot.ly",
        "showLink": true
       },
       "data": [
        {
         "marker": {
          "color": "rgb(158,202,225)",
          "line": {
           "color": "rgb(8,48,107)",
           "width": 1.5
          }
         },
         "opacity": 0.6,
         "orientation": "h",
         "text": [
          0.16,
          0.1,
          0.1,
          0.08,
          0.06,
          0.04,
          0.04,
          0.04,
          0.04,
          0.02,
          0.02,
          0.02,
          0.02,
          0.02,
          0.02,
          0.02,
          0.02,
          0.02,
          0.02,
          0.02,
          0.02,
          0.02,
          0.02,
          0.02,
          0.02,
          0.02,
          0,
          0,
          0,
          0,
          0,
          0,
          0,
          0,
          0,
          0,
          0,
          0,
          0,
          0,
          0,
          0,
          0,
          0,
          0,
          0,
          0,
          0,
          0,
          0,
          0,
          0,
          0,
          0,
          0,
          0,
          0,
          0,
          0,
          0,
          0,
          0,
          0,
          0,
          0,
          0,
          0,
          0,
          0,
          0,
          0,
          0,
          0,
          0,
          0,
          0,
          0,
          0,
          0,
          0,
          0,
          0,
          0,
          0,
          0,
          0,
          0,
          0,
          0,
          0,
          0,
          0,
          0,
          0,
          0,
          0,
          0,
          0,
          0,
          0,
          0,
          0
         ],
         "textposition": "outside",
         "type": "bar",
         "uid": "6a90206a-46de-4a47-9bee-4eee1c5de774",
         "x": [
          0.16,
          0.1,
          0.1,
          0.08,
          0.06,
          0.04,
          0.04,
          0.04,
          0.04,
          0.02,
          0.02,
          0.02,
          0.02,
          0.02,
          0.02,
          0.02,
          0.02,
          0.02,
          0.02,
          0.02,
          0.02,
          0.02,
          0.02,
          0.02,
          0.02,
          0.02,
          0,
          0,
          0,
          0,
          0,
          0,
          0,
          0,
          0,
          0,
          0,
          0,
          0,
          0,
          0,
          0,
          0,
          0,
          0,
          0,
          0,
          0,
          0,
          0,
          0,
          0,
          0,
          0,
          0,
          0,
          0,
          0,
          0,
          0,
          0,
          0,
          0,
          0,
          0,
          0,
          0,
          0,
          0,
          0,
          0,
          0,
          0,
          0,
          0,
          0,
          0,
          0,
          0,
          0,
          0,
          0,
          0,
          0,
          0,
          0,
          0,
          0,
          0,
          0,
          0,
          0,
          0,
          0,
          0,
          0,
          0,
          0,
          0,
          0,
          0,
          0
         ],
         "y": [
          "0",
          "3",
          "8",
          "1",
          "4",
          "36",
          "27",
          "14",
          "37",
          "53",
          "21",
          "48",
          "89",
          "96",
          "75",
          "33",
          "31",
          "30",
          "28",
          "86",
          "23",
          "101",
          "20",
          "6",
          "12",
          "5",
          "81",
          "79",
          "78",
          "77",
          "76",
          "7",
          "74",
          "73",
          "72",
          "71",
          "70",
          "69",
          "68",
          "67",
          "66",
          "65",
          "64",
          "80",
          "22",
          "82",
          "63",
          "100",
          "99",
          "98",
          "97",
          "2",
          "95",
          "94",
          "93",
          "92",
          "91",
          "90",
          "88",
          "87",
          "85",
          "84",
          "83",
          "62",
          "61",
          "32",
          "40",
          "39",
          "38",
          "13",
          "35",
          "34",
          "15",
          "16",
          "60",
          "17",
          "29",
          "18",
          "19",
          "26",
          "25",
          "24",
          "41",
          "42",
          "43",
          "44",
          "59",
          "58",
          "57",
          "56",
          "55",
          "54",
          "9",
          "52",
          "10",
          "50",
          "49",
          "11",
          "47",
          "46",
          "45",
          "51"
         ]
        }
       ],
       "layout": {
        "autosize": false,
        "height": 1000,
        "width": 1000,
        "xaxis": {
         "tickfont": {
          "color": "black",
          "size": 12
         },
         "title": "Feature Importances"
        },
        "yaxis": {
         "automargin": true
        }
       }
      },
      "text/html": [
       "<div id=\"7b8aded9-4119-4b98-b27b-e50efda38d3f\" style=\"height: 1000px; width: 1000px;\" class=\"plotly-graph-div\"></div><script type=\"text/javascript\">require([\"plotly\"], function(Plotly) { window.PLOTLYENV=window.PLOTLYENV || {};window.PLOTLYENV.BASE_URL=\"https://plot.ly\";Plotly.newPlot(\"7b8aded9-4119-4b98-b27b-e50efda38d3f\", [{\"marker\": {\"color\": \"rgb(158,202,225)\", \"line\": {\"color\": \"rgb(8,48,107)\", \"width\": 1.5}}, \"opacity\": 0.6, \"orientation\": \"h\", \"text\": [0.16, 0.1, 0.1, 0.08, 0.06, 0.04, 0.04, 0.04, 0.04, 0.02, 0.02, 0.02, 0.02, 0.02, 0.02, 0.02, 0.02, 0.02, 0.02, 0.02, 0.02, 0.02, 0.02, 0.02, 0.02, 0.02, 0.0, 0.0, 0.0, 0.0, 0.0, 0.0, 0.0, 0.0, 0.0, 0.0, 0.0, 0.0, 0.0, 0.0, 0.0, 0.0, 0.0, 0.0, 0.0, 0.0, 0.0, 0.0, 0.0, 0.0, 0.0, 0.0, 0.0, 0.0, 0.0, 0.0, 0.0, 0.0, 0.0, 0.0, 0.0, 0.0, 0.0, 0.0, 0.0, 0.0, 0.0, 0.0, 0.0, 0.0, 0.0, 0.0, 0.0, 0.0, 0.0, 0.0, 0.0, 0.0, 0.0, 0.0, 0.0, 0.0, 0.0, 0.0, 0.0, 0.0, 0.0, 0.0, 0.0, 0.0, 0.0, 0.0, 0.0, 0.0, 0.0, 0.0, 0.0, 0.0, 0.0, 0.0, 0.0, 0.0], \"textposition\": \"outside\", \"x\": [0.16, 0.1, 0.1, 0.08, 0.06, 0.04, 0.04, 0.04, 0.04, 0.02, 0.02, 0.02, 0.02, 0.02, 0.02, 0.02, 0.02, 0.02, 0.02, 0.02, 0.02, 0.02, 0.02, 0.02, 0.02, 0.02, 0.0, 0.0, 0.0, 0.0, 0.0, 0.0, 0.0, 0.0, 0.0, 0.0, 0.0, 0.0, 0.0, 0.0, 0.0, 0.0, 0.0, 0.0, 0.0, 0.0, 0.0, 0.0, 0.0, 0.0, 0.0, 0.0, 0.0, 0.0, 0.0, 0.0, 0.0, 0.0, 0.0, 0.0, 0.0, 0.0, 0.0, 0.0, 0.0, 0.0, 0.0, 0.0, 0.0, 0.0, 0.0, 0.0, 0.0, 0.0, 0.0, 0.0, 0.0, 0.0, 0.0, 0.0, 0.0, 0.0, 0.0, 0.0, 0.0, 0.0, 0.0, 0.0, 0.0, 0.0, 0.0, 0.0, 0.0, 0.0, 0.0, 0.0, 0.0, 0.0, 0.0, 0.0, 0.0, 0.0], \"y\": [\"0\", \"3\", \"8\", \"1\", \"4\", \"36\", \"27\", \"14\", \"37\", \"53\", \"21\", \"48\", \"89\", \"96\", \"75\", \"33\", \"31\", \"30\", \"28\", \"86\", \"23\", \"101\", \"20\", \"6\", \"12\", \"5\", \"81\", \"79\", \"78\", \"77\", \"76\", \"7\", \"74\", \"73\", \"72\", \"71\", \"70\", \"69\", \"68\", \"67\", \"66\", \"65\", \"64\", \"80\", \"22\", \"82\", \"63\", \"100\", \"99\", \"98\", \"97\", \"2\", \"95\", \"94\", \"93\", \"92\", \"91\", \"90\", \"88\", \"87\", \"85\", \"84\", \"83\", \"62\", \"61\", \"32\", \"40\", \"39\", \"38\", \"13\", \"35\", \"34\", \"15\", \"16\", \"60\", \"17\", \"29\", \"18\", \"19\", \"26\", \"25\", \"24\", \"41\", \"42\", \"43\", \"44\", \"59\", \"58\", \"57\", \"56\", \"55\", \"54\", \"9\", \"52\", \"10\", \"50\", \"49\", \"11\", \"47\", \"46\", \"45\", \"51\"], \"type\": \"bar\", \"uid\": \"6a90206a-46de-4a47-9bee-4eee1c5de774\"}], {\"autosize\": false, \"height\": 1000, \"width\": 1000, \"xaxis\": {\"tickfont\": {\"color\": \"black\", \"size\": 12}, \"title\": \"Feature Importances\"}, \"yaxis\": {\"automargin\": true}}, {\"showLink\": true, \"linkText\": \"Export to plot.ly\", \"plotlyServerURL\": \"https://plot.ly\"})});</script>"
      ],
      "text/vnd.plotly.v1+html": [
       "<div id=\"7b8aded9-4119-4b98-b27b-e50efda38d3f\" style=\"height: 1000px; width: 1000px;\" class=\"plotly-graph-div\"></div><script type=\"text/javascript\">require([\"plotly\"], function(Plotly) { window.PLOTLYENV=window.PLOTLYENV || {};window.PLOTLYENV.BASE_URL=\"https://plot.ly\";Plotly.newPlot(\"7b8aded9-4119-4b98-b27b-e50efda38d3f\", [{\"marker\": {\"color\": \"rgb(158,202,225)\", \"line\": {\"color\": \"rgb(8,48,107)\", \"width\": 1.5}}, \"opacity\": 0.6, \"orientation\": \"h\", \"text\": [0.16, 0.1, 0.1, 0.08, 0.06, 0.04, 0.04, 0.04, 0.04, 0.02, 0.02, 0.02, 0.02, 0.02, 0.02, 0.02, 0.02, 0.02, 0.02, 0.02, 0.02, 0.02, 0.02, 0.02, 0.02, 0.02, 0.0, 0.0, 0.0, 0.0, 0.0, 0.0, 0.0, 0.0, 0.0, 0.0, 0.0, 0.0, 0.0, 0.0, 0.0, 0.0, 0.0, 0.0, 0.0, 0.0, 0.0, 0.0, 0.0, 0.0, 0.0, 0.0, 0.0, 0.0, 0.0, 0.0, 0.0, 0.0, 0.0, 0.0, 0.0, 0.0, 0.0, 0.0, 0.0, 0.0, 0.0, 0.0, 0.0, 0.0, 0.0, 0.0, 0.0, 0.0, 0.0, 0.0, 0.0, 0.0, 0.0, 0.0, 0.0, 0.0, 0.0, 0.0, 0.0, 0.0, 0.0, 0.0, 0.0, 0.0, 0.0, 0.0, 0.0, 0.0, 0.0, 0.0, 0.0, 0.0, 0.0, 0.0, 0.0, 0.0], \"textposition\": \"outside\", \"x\": [0.16, 0.1, 0.1, 0.08, 0.06, 0.04, 0.04, 0.04, 0.04, 0.02, 0.02, 0.02, 0.02, 0.02, 0.02, 0.02, 0.02, 0.02, 0.02, 0.02, 0.02, 0.02, 0.02, 0.02, 0.02, 0.02, 0.0, 0.0, 0.0, 0.0, 0.0, 0.0, 0.0, 0.0, 0.0, 0.0, 0.0, 0.0, 0.0, 0.0, 0.0, 0.0, 0.0, 0.0, 0.0, 0.0, 0.0, 0.0, 0.0, 0.0, 0.0, 0.0, 0.0, 0.0, 0.0, 0.0, 0.0, 0.0, 0.0, 0.0, 0.0, 0.0, 0.0, 0.0, 0.0, 0.0, 0.0, 0.0, 0.0, 0.0, 0.0, 0.0, 0.0, 0.0, 0.0, 0.0, 0.0, 0.0, 0.0, 0.0, 0.0, 0.0, 0.0, 0.0, 0.0, 0.0, 0.0, 0.0, 0.0, 0.0, 0.0, 0.0, 0.0, 0.0, 0.0, 0.0, 0.0, 0.0, 0.0, 0.0, 0.0, 0.0], \"y\": [\"0\", \"3\", \"8\", \"1\", \"4\", \"36\", \"27\", \"14\", \"37\", \"53\", \"21\", \"48\", \"89\", \"96\", \"75\", \"33\", \"31\", \"30\", \"28\", \"86\", \"23\", \"101\", \"20\", \"6\", \"12\", \"5\", \"81\", \"79\", \"78\", \"77\", \"76\", \"7\", \"74\", \"73\", \"72\", \"71\", \"70\", \"69\", \"68\", \"67\", \"66\", \"65\", \"64\", \"80\", \"22\", \"82\", \"63\", \"100\", \"99\", \"98\", \"97\", \"2\", \"95\", \"94\", \"93\", \"92\", \"91\", \"90\", \"88\", \"87\", \"85\", \"84\", \"83\", \"62\", \"61\", \"32\", \"40\", \"39\", \"38\", \"13\", \"35\", \"34\", \"15\", \"16\", \"60\", \"17\", \"29\", \"18\", \"19\", \"26\", \"25\", \"24\", \"41\", \"42\", \"43\", \"44\", \"59\", \"58\", \"57\", \"56\", \"55\", \"54\", \"9\", \"52\", \"10\", \"50\", \"49\", \"11\", \"47\", \"46\", \"45\", \"51\"], \"type\": \"bar\", \"uid\": \"6a90206a-46de-4a47-9bee-4eee1c5de774\"}], {\"autosize\": false, \"height\": 1000, \"width\": 1000, \"xaxis\": {\"tickfont\": {\"color\": \"black\", \"size\": 12}, \"title\": \"Feature Importances\"}, \"yaxis\": {\"automargin\": true}}, {\"showLink\": true, \"linkText\": \"Export to plot.ly\", \"plotlyServerURL\": \"https://plot.ly\"})});</script>"
      ]
     },
     "metadata": {},
     "output_type": "display_data"
    },
    {
     "name": "stdout",
     "output_type": "stream",
     "text": [
      "\n",
      "\n",
      "\u001b[1mGradientBoosting Classifier\u001b[0m\n",
      "Accuracy of the model for training data is: 0.956062752225\n",
      "Confusion Matrix for training data is:\n"
     ]
    },
    {
     "data": {
      "text/plain": [
       "Predicted  False  True  __all__\n",
       "Actual                         \n",
       "False      31599   293    31892\n",
       "True        1351  4174     5525\n",
       "__all__    32950  4467    37417"
      ]
     },
     "metadata": {},
     "output_type": "display_data"
    },
    {
     "name": "stdout",
     "output_type": "stream",
     "text": [
      "Accuracy of the model for test data is: 0.952212957024\n",
      "Confusion Matrix for test data is:\n"
     ]
    },
    {
     "data": {
      "text/plain": [
       "Predicted  False  True  __all__\n",
       "Actual                         \n",
       "False       7887    98     7985\n",
       "True         349  1020     1369\n",
       "__all__     8236  1118     9354"
      ]
     },
     "metadata": {},
     "output_type": "display_data"
    },
    {
     "data": {
      "application/vnd.plotly.v1+json": {
       "config": {
        "linkText": "Export to plot.ly",
        "plotlyServerURL": "https://plot.ly",
        "showLink": true
       },
       "data": [
        {
         "marker": {
          "color": "rgb(158,202,225)",
          "line": {
           "color": "rgb(8,48,107)",
           "width": 1.5
          }
         },
         "opacity": 0.6,
         "orientation": "h",
         "text": [
          0.4258,
          0.2394,
          0.0683,
          0.0674,
          0.0668,
          0.0211,
          0.0089,
          0.0086,
          0.008,
          0.0074,
          0.0047,
          0.0046,
          0.0046,
          0.0042,
          0.0042,
          0.0041,
          0.0039,
          0.0032,
          0.0029,
          0.0028,
          0.0026,
          0.0026,
          0.0023,
          0.0021,
          0.0021,
          0.0018,
          0.0015,
          0.0015,
          0.0012,
          0.0012,
          0.0011,
          0.0011,
          0.001,
          0.001,
          0.0009,
          0.0009,
          0.0008,
          0.0008,
          0.0007,
          0.0007,
          0.0007,
          0.0007,
          0.0006,
          0.0006,
          0.0005,
          0.0005,
          0.0004,
          0.0004,
          0.0004,
          0.0004,
          0.0004,
          0.0004,
          0.0004,
          0.0004,
          0.0004,
          0.0003,
          0.0003,
          0.0003,
          0.0003,
          0.0003,
          0.0003,
          0.0002,
          0.0002,
          0.0002,
          0.0002,
          0.0002,
          0.0002,
          0.0002,
          0.0001,
          0.0001,
          0.0001,
          0.0001,
          0.0001,
          0.0001,
          0.0001,
          0,
          0,
          0,
          0,
          0,
          0,
          0,
          0,
          0,
          0,
          0,
          0,
          0,
          0,
          0,
          0,
          0,
          0,
          0,
          0,
          0,
          0,
          0,
          0,
          0,
          0,
          0
         ],
         "textposition": "outside",
         "type": "bar",
         "uid": "24edc56e-2eb6-4faa-94d9-af63d5b6cc5c",
         "x": [
          0.4258352324989025,
          0.23935658016012118,
          0.0682910310548666,
          0.06742699766284495,
          0.06684551704994507,
          0.021097654753115654,
          0.008871481836787454,
          0.008589820060893935,
          0.007961119974422426,
          0.007364686958793905,
          0.004747612112463339,
          0.00461185053237465,
          0.004569057226837312,
          0.004178164735163476,
          0.004152147980979107,
          0.004121017188518327,
          0.0039184313941820325,
          0.003236145730312402,
          0.0028841940112238236,
          0.0027860964092887358,
          0.0026328774810275256,
          0.002612118863207067,
          0.002255864243278843,
          0.002135146896358632,
          0.002072216843872036,
          0.0017514405213004225,
          0.0015029504379531996,
          0.0014589537009974034,
          0.0011791925567463145,
          0.0011744906288705009,
          0.0011067927024967187,
          0.0010519271291410126,
          0.0010461876137134686,
          0.0009999697363965627,
          0.0009001844597615569,
          0.0008859426320492935,
          0.0008394019138956063,
          0.0007923179024611073,
          0.0007463129959198318,
          0.0007423067963561905,
          0.0007131856368163019,
          0.0007108626995250725,
          0.0006312625230645919,
          0.0005891692438101803,
          0.00046083252727897883,
          0.00045037575340880397,
          0.00044890400427016557,
          0.00044883949384638276,
          0.0004381480046667776,
          0.0004377862403371286,
          0.0004376851073700103,
          0.0004375590497425192,
          0.0004066276065244223,
          0.0004052816705405979,
          0.00037839763189829816,
          0.0003242536161389672,
          0.0003023661147047671,
          0.00029854429162414484,
          0.0002879646873625424,
          0.0002877975697175415,
          0.00025447965966191906,
          0.00023973446499580517,
          0.0002351502225767703,
          0.00023223777896887946,
          0.00018575362474863128,
          0.00017312847599954982,
          0.00016542078733766257,
          0.0001524027399362311,
          0.0001301664348725952,
          0.00012934585426293684,
          0.00012264813817699656,
          0.00010399814687991101,
          9.659788694291997e-05,
          7.942574878913091e-05,
          7.193652854651016e-05,
          2.946468153694879e-07,
          0,
          0,
          0,
          0,
          0,
          0,
          0,
          0,
          0,
          0,
          0,
          0,
          0,
          0,
          0,
          0,
          0,
          0,
          0,
          0,
          0,
          0,
          0,
          0,
          0,
          0
         ],
         "y": [
          "0",
          "1",
          "3",
          "8",
          "4",
          "69",
          "2",
          "36",
          "27",
          "5",
          "37",
          "86",
          "33",
          "43",
          "89",
          "20",
          "71",
          "28",
          "6",
          "35",
          "31",
          "101",
          "21",
          "75",
          "39",
          "45",
          "12",
          "79",
          "67",
          "52",
          "50",
          "14",
          "73",
          "100",
          "17",
          "66",
          "77",
          "15",
          "48",
          "87",
          "70",
          "22",
          "7",
          "65",
          "24",
          "44",
          "62",
          "96",
          "25",
          "80",
          "23",
          "46",
          "38",
          "94",
          "47",
          "32",
          "29",
          "10",
          "30",
          "83",
          "97",
          "82",
          "90",
          "88",
          "59",
          "99",
          "16",
          "98",
          "55",
          "58",
          "91",
          "85",
          "26",
          "18",
          "56",
          "34",
          "95",
          "9",
          "92",
          "84",
          "19",
          "93",
          "74",
          "81",
          "60",
          "49",
          "13",
          "42",
          "41",
          "53",
          "54",
          "57",
          "61",
          "78",
          "63",
          "64",
          "40",
          "68",
          "11",
          "72",
          "76",
          "51"
         ]
        }
       ],
       "layout": {
        "autosize": false,
        "height": 1000,
        "width": 1000,
        "xaxis": {
         "tickfont": {
          "color": "black",
          "size": 12
         },
         "title": "Feature Importances"
        },
        "yaxis": {
         "automargin": true
        }
       }
      },
      "text/html": [
       "<div id=\"1b184834-bab8-4601-9328-f32739b5f265\" style=\"height: 1000px; width: 1000px;\" class=\"plotly-graph-div\"></div><script type=\"text/javascript\">require([\"plotly\"], function(Plotly) { window.PLOTLYENV=window.PLOTLYENV || {};window.PLOTLYENV.BASE_URL=\"https://plot.ly\";Plotly.newPlot(\"1b184834-bab8-4601-9328-f32739b5f265\", [{\"marker\": {\"color\": \"rgb(158,202,225)\", \"line\": {\"color\": \"rgb(8,48,107)\", \"width\": 1.5}}, \"opacity\": 0.6, \"orientation\": \"h\", \"text\": [0.4258, 0.2394, 0.0683, 0.0674, 0.0668, 0.0211, 0.0089, 0.0086, 0.008, 0.0074, 0.0047, 0.0046, 0.0046, 0.0042, 0.0042, 0.0041, 0.0039, 0.0032, 0.0029, 0.0028, 0.0026, 0.0026, 0.0023, 0.0021, 0.0021, 0.0018, 0.0015, 0.0015, 0.0012, 0.0012, 0.0011, 0.0011, 0.001, 0.001, 0.0009, 0.0009, 0.0008, 0.0008, 0.0007, 0.0007, 0.0007, 0.0007, 0.0006, 0.0006, 0.0005, 0.0005, 0.0004, 0.0004, 0.0004, 0.0004, 0.0004, 0.0004, 0.0004, 0.0004, 0.0004, 0.0003, 0.0003, 0.0003, 0.0003, 0.0003, 0.0003, 0.0002, 0.0002, 0.0002, 0.0002, 0.0002, 0.0002, 0.0002, 0.0001, 0.0001, 0.0001, 0.0001, 0.0001, 0.0001, 0.0001, 0.0, 0.0, 0.0, 0.0, 0.0, 0.0, 0.0, 0.0, 0.0, 0.0, 0.0, 0.0, 0.0, 0.0, 0.0, 0.0, 0.0, 0.0, 0.0, 0.0, 0.0, 0.0, 0.0, 0.0, 0.0, 0.0, 0.0], \"textposition\": \"outside\", \"x\": [0.4258352324989025, 0.23935658016012118, 0.0682910310548666, 0.06742699766284495, 0.06684551704994507, 0.021097654753115654, 0.008871481836787454, 0.008589820060893935, 0.007961119974422426, 0.007364686958793905, 0.004747612112463339, 0.00461185053237465, 0.004569057226837312, 0.004178164735163476, 0.004152147980979107, 0.004121017188518327, 0.0039184313941820325, 0.003236145730312402, 0.0028841940112238236, 0.0027860964092887358, 0.0026328774810275256, 0.002612118863207067, 0.002255864243278843, 0.002135146896358632, 0.002072216843872036, 0.0017514405213004225, 0.0015029504379531996, 0.0014589537009974034, 0.0011791925567463145, 0.0011744906288705009, 0.0011067927024967187, 0.0010519271291410126, 0.0010461876137134686, 0.0009999697363965627, 0.0009001844597615569, 0.0008859426320492935, 0.0008394019138956063, 0.0007923179024611073, 0.0007463129959198318, 0.0007423067963561905, 0.0007131856368163019, 0.0007108626995250725, 0.0006312625230645919, 0.0005891692438101803, 0.00046083252727897883, 0.00045037575340880397, 0.00044890400427016557, 0.00044883949384638276, 0.0004381480046667776, 0.0004377862403371286, 0.0004376851073700103, 0.0004375590497425192, 0.0004066276065244223, 0.0004052816705405979, 0.00037839763189829816, 0.0003242536161389672, 0.0003023661147047671, 0.00029854429162414484, 0.0002879646873625424, 0.0002877975697175415, 0.00025447965966191906, 0.00023973446499580517, 0.0002351502225767703, 0.00023223777896887946, 0.00018575362474863128, 0.00017312847599954982, 0.00016542078733766257, 0.0001524027399362311, 0.0001301664348725952, 0.00012934585426293684, 0.00012264813817699656, 0.00010399814687991101, 9.659788694291997e-05, 7.942574878913091e-05, 7.193652854651016e-05, 2.946468153694879e-07, 0.0, 0.0, 0.0, 0.0, 0.0, 0.0, 0.0, 0.0, 0.0, 0.0, 0.0, 0.0, 0.0, 0.0, 0.0, 0.0, 0.0, 0.0, 0.0, 0.0, 0.0, 0.0, 0.0, 0.0, 0.0, 0.0], \"y\": [\"0\", \"1\", \"3\", \"8\", \"4\", \"69\", \"2\", \"36\", \"27\", \"5\", \"37\", \"86\", \"33\", \"43\", \"89\", \"20\", \"71\", \"28\", \"6\", \"35\", \"31\", \"101\", \"21\", \"75\", \"39\", \"45\", \"12\", \"79\", \"67\", \"52\", \"50\", \"14\", \"73\", \"100\", \"17\", \"66\", \"77\", \"15\", \"48\", \"87\", \"70\", \"22\", \"7\", \"65\", \"24\", \"44\", \"62\", \"96\", \"25\", \"80\", \"23\", \"46\", \"38\", \"94\", \"47\", \"32\", \"29\", \"10\", \"30\", \"83\", \"97\", \"82\", \"90\", \"88\", \"59\", \"99\", \"16\", \"98\", \"55\", \"58\", \"91\", \"85\", \"26\", \"18\", \"56\", \"34\", \"95\", \"9\", \"92\", \"84\", \"19\", \"93\", \"74\", \"81\", \"60\", \"49\", \"13\", \"42\", \"41\", \"53\", \"54\", \"57\", \"61\", \"78\", \"63\", \"64\", \"40\", \"68\", \"11\", \"72\", \"76\", \"51\"], \"type\": \"bar\", \"uid\": \"24edc56e-2eb6-4faa-94d9-af63d5b6cc5c\"}], {\"autosize\": false, \"height\": 1000, \"width\": 1000, \"xaxis\": {\"tickfont\": {\"color\": \"black\", \"size\": 12}, \"title\": \"Feature Importances\"}, \"yaxis\": {\"automargin\": true}}, {\"showLink\": true, \"linkText\": \"Export to plot.ly\", \"plotlyServerURL\": \"https://plot.ly\"})});</script>"
      ],
      "text/vnd.plotly.v1+html": [
       "<div id=\"1b184834-bab8-4601-9328-f32739b5f265\" style=\"height: 1000px; width: 1000px;\" class=\"plotly-graph-div\"></div><script type=\"text/javascript\">require([\"plotly\"], function(Plotly) { window.PLOTLYENV=window.PLOTLYENV || {};window.PLOTLYENV.BASE_URL=\"https://plot.ly\";Plotly.newPlot(\"1b184834-bab8-4601-9328-f32739b5f265\", [{\"marker\": {\"color\": \"rgb(158,202,225)\", \"line\": {\"color\": \"rgb(8,48,107)\", \"width\": 1.5}}, \"opacity\": 0.6, \"orientation\": \"h\", \"text\": [0.4258, 0.2394, 0.0683, 0.0674, 0.0668, 0.0211, 0.0089, 0.0086, 0.008, 0.0074, 0.0047, 0.0046, 0.0046, 0.0042, 0.0042, 0.0041, 0.0039, 0.0032, 0.0029, 0.0028, 0.0026, 0.0026, 0.0023, 0.0021, 0.0021, 0.0018, 0.0015, 0.0015, 0.0012, 0.0012, 0.0011, 0.0011, 0.001, 0.001, 0.0009, 0.0009, 0.0008, 0.0008, 0.0007, 0.0007, 0.0007, 0.0007, 0.0006, 0.0006, 0.0005, 0.0005, 0.0004, 0.0004, 0.0004, 0.0004, 0.0004, 0.0004, 0.0004, 0.0004, 0.0004, 0.0003, 0.0003, 0.0003, 0.0003, 0.0003, 0.0003, 0.0002, 0.0002, 0.0002, 0.0002, 0.0002, 0.0002, 0.0002, 0.0001, 0.0001, 0.0001, 0.0001, 0.0001, 0.0001, 0.0001, 0.0, 0.0, 0.0, 0.0, 0.0, 0.0, 0.0, 0.0, 0.0, 0.0, 0.0, 0.0, 0.0, 0.0, 0.0, 0.0, 0.0, 0.0, 0.0, 0.0, 0.0, 0.0, 0.0, 0.0, 0.0, 0.0, 0.0], \"textposition\": \"outside\", \"x\": [0.4258352324989025, 0.23935658016012118, 0.0682910310548666, 0.06742699766284495, 0.06684551704994507, 0.021097654753115654, 0.008871481836787454, 0.008589820060893935, 0.007961119974422426, 0.007364686958793905, 0.004747612112463339, 0.00461185053237465, 0.004569057226837312, 0.004178164735163476, 0.004152147980979107, 0.004121017188518327, 0.0039184313941820325, 0.003236145730312402, 0.0028841940112238236, 0.0027860964092887358, 0.0026328774810275256, 0.002612118863207067, 0.002255864243278843, 0.002135146896358632, 0.002072216843872036, 0.0017514405213004225, 0.0015029504379531996, 0.0014589537009974034, 0.0011791925567463145, 0.0011744906288705009, 0.0011067927024967187, 0.0010519271291410126, 0.0010461876137134686, 0.0009999697363965627, 0.0009001844597615569, 0.0008859426320492935, 0.0008394019138956063, 0.0007923179024611073, 0.0007463129959198318, 0.0007423067963561905, 0.0007131856368163019, 0.0007108626995250725, 0.0006312625230645919, 0.0005891692438101803, 0.00046083252727897883, 0.00045037575340880397, 0.00044890400427016557, 0.00044883949384638276, 0.0004381480046667776, 0.0004377862403371286, 0.0004376851073700103, 0.0004375590497425192, 0.0004066276065244223, 0.0004052816705405979, 0.00037839763189829816, 0.0003242536161389672, 0.0003023661147047671, 0.00029854429162414484, 0.0002879646873625424, 0.0002877975697175415, 0.00025447965966191906, 0.00023973446499580517, 0.0002351502225767703, 0.00023223777896887946, 0.00018575362474863128, 0.00017312847599954982, 0.00016542078733766257, 0.0001524027399362311, 0.0001301664348725952, 0.00012934585426293684, 0.00012264813817699656, 0.00010399814687991101, 9.659788694291997e-05, 7.942574878913091e-05, 7.193652854651016e-05, 2.946468153694879e-07, 0.0, 0.0, 0.0, 0.0, 0.0, 0.0, 0.0, 0.0, 0.0, 0.0, 0.0, 0.0, 0.0, 0.0, 0.0, 0.0, 0.0, 0.0, 0.0, 0.0, 0.0, 0.0, 0.0, 0.0, 0.0, 0.0], \"y\": [\"0\", \"1\", \"3\", \"8\", \"4\", \"69\", \"2\", \"36\", \"27\", \"5\", \"37\", \"86\", \"33\", \"43\", \"89\", \"20\", \"71\", \"28\", \"6\", \"35\", \"31\", \"101\", \"21\", \"75\", \"39\", \"45\", \"12\", \"79\", \"67\", \"52\", \"50\", \"14\", \"73\", \"100\", \"17\", \"66\", \"77\", \"15\", \"48\", \"87\", \"70\", \"22\", \"7\", \"65\", \"24\", \"44\", \"62\", \"96\", \"25\", \"80\", \"23\", \"46\", \"38\", \"94\", \"47\", \"32\", \"29\", \"10\", \"30\", \"83\", \"97\", \"82\", \"90\", \"88\", \"59\", \"99\", \"16\", \"98\", \"55\", \"58\", \"91\", \"85\", \"26\", \"18\", \"56\", \"34\", \"95\", \"9\", \"92\", \"84\", \"19\", \"93\", \"74\", \"81\", \"60\", \"49\", \"13\", \"42\", \"41\", \"53\", \"54\", \"57\", \"61\", \"78\", \"63\", \"64\", \"40\", \"68\", \"11\", \"72\", \"76\", \"51\"], \"type\": \"bar\", \"uid\": \"24edc56e-2eb6-4faa-94d9-af63d5b6cc5c\"}], {\"autosize\": false, \"height\": 1000, \"width\": 1000, \"xaxis\": {\"tickfont\": {\"color\": \"black\", \"size\": 12}, \"title\": \"Feature Importances\"}, \"yaxis\": {\"automargin\": true}}, {\"showLink\": true, \"linkText\": \"Export to plot.ly\", \"plotlyServerURL\": \"https://plot.ly\"})});</script>"
      ]
     },
     "metadata": {},
     "output_type": "display_data"
    },
    {
     "name": "stdout",
     "output_type": "stream",
     "text": [
      "\n",
      "\n",
      "\u001b[1mExtraTree Classifier\u001b[0m\n",
      "Accuracy of the model for training data is: 0.99997327418\n",
      "Confusion Matrix for training data is:\n"
     ]
    },
    {
     "data": {
      "text/plain": [
       "Predicted  False  True  __all__\n",
       "Actual                         \n",
       "False      31892     0    31892\n",
       "True           1  5524     5525\n",
       "__all__    31893  5524    37417"
      ]
     },
     "metadata": {},
     "output_type": "display_data"
    },
    {
     "name": "stdout",
     "output_type": "stream",
     "text": [
      "Accuracy of the model for test data is: 0.936070130425\n",
      "Confusion Matrix for test data is:\n"
     ]
    },
    {
     "data": {
      "text/plain": [
       "Predicted  False  True  __all__\n",
       "Actual                         \n",
       "False       7917    68     7985\n",
       "True         530   839     1369\n",
       "__all__     8447   907     9354"
      ]
     },
     "metadata": {},
     "output_type": "display_data"
    },
    {
     "data": {
      "application/vnd.plotly.v1+json": {
       "config": {
        "linkText": "Export to plot.ly",
        "plotlyServerURL": "https://plot.ly",
        "showLink": true
       },
       "data": [
        {
         "marker": {
          "color": "rgb(158,202,225)",
          "line": {
           "color": "rgb(8,48,107)",
           "width": 1.5
          }
         },
         "opacity": 0.6,
         "orientation": "h",
         "text": [
          0.0455,
          0.032,
          0.0286,
          0.0265,
          0.0235,
          0.0201,
          0.018,
          0.0171,
          0.0168,
          0.0151,
          0.0145,
          0.0136,
          0.0123,
          0.0122,
          0.0121,
          0.012,
          0.012,
          0.0116,
          0.0111,
          0.011,
          0.0109,
          0.0108,
          0.0107,
          0.0106,
          0.0104,
          0.0104,
          0.0103,
          0.0103,
          0.0102,
          0.0102,
          0.01,
          0.0096,
          0.0096,
          0.0096,
          0.0092,
          0.0092,
          0.0092,
          0.0091,
          0.009,
          0.0089,
          0.0088,
          0.0088,
          0.0087,
          0.0086,
          0.0085,
          0.0085,
          0.0085,
          0.0084,
          0.0083,
          0.0082,
          0.0082,
          0.0081,
          0.008,
          0.008,
          0.008,
          0.008,
          0.0079,
          0.0079,
          0.0079,
          0.0078,
          0.0078,
          0.0078,
          0.0078,
          0.0077,
          0.0077,
          0.0076,
          0.0076,
          0.0076,
          0.0075,
          0.0074,
          0.0073,
          0.0072,
          0.0071,
          0.007,
          0.0069,
          0.0068,
          0.0068,
          0.0068,
          0.0067,
          0.0067,
          0.0066,
          0.0066,
          0.0064,
          0.0063,
          0.0063,
          0.0062,
          0.0062,
          0.0061,
          0.006,
          0.0058,
          0.0057,
          0.0056,
          0.0055,
          0.0053,
          0.0053,
          0.0053,
          0.0053,
          0.0051,
          0.0049,
          0.0049,
          0.0049,
          0.0046
         ],
         "textposition": "outside",
         "type": "bar",
         "uid": "a7b6d6b7-6578-45f4-837d-e4c0bd1d3905",
         "x": [
          0.04550954857544987,
          0.03201957066471726,
          0.028596190008200812,
          0.0265374466408728,
          0.023499857410346253,
          0.020092051669597804,
          0.01799884886436866,
          0.017071464758326303,
          0.016843593572296,
          0.01514485065473597,
          0.014460002910809833,
          0.013596920744830265,
          0.012266944032854159,
          0.012186826367124969,
          0.012054106202408987,
          0.011980383841697372,
          0.011975837711975017,
          0.011648104597338341,
          0.011115890503154082,
          0.011017052303649414,
          0.010928178558152556,
          0.010763740997605617,
          0.010674651329889666,
          0.01058912048017974,
          0.010375910412428323,
          0.010362765031183229,
          0.01033981610824475,
          0.01026351685648492,
          0.01019253247556048,
          0.010181982368489297,
          0.010016899565690397,
          0.009611493478585744,
          0.009599192256238754,
          0.009585456187065047,
          0.009163549893671883,
          0.009160778724862038,
          0.009152094372243413,
          0.009086532891639843,
          0.008986078413426,
          0.00894645640710497,
          0.008839104288150856,
          0.008813240292917775,
          0.008670467392614279,
          0.008638079570610016,
          0.008526153290877766,
          0.008492706242192106,
          0.008476189366920904,
          0.008375600121863704,
          0.008343775720231707,
          0.008248056439311199,
          0.008233040824888856,
          0.008094782658561568,
          0.008035884889744166,
          0.008004897474188503,
          0.008004744405906174,
          0.007995479939042455,
          0.007934355230090602,
          0.00793415325563524,
          0.007876699421787219,
          0.007846525697230187,
          0.007843988089130026,
          0.007829681988976028,
          0.007807236565829295,
          0.007726929831535688,
          0.007688030164597405,
          0.0076003503622358495,
          0.007579364481471264,
          0.007555629578539366,
          0.007482022761258571,
          0.007444043139522867,
          0.00727681600494968,
          0.007241879941257386,
          0.007070267599061444,
          0.006982527483015923,
          0.006939003360557189,
          0.006833433121414803,
          0.006828653367849309,
          0.006785440392594477,
          0.006707833676174553,
          0.006674143610910788,
          0.0065871285430487755,
          0.006565497653479054,
          0.00640127277692925,
          0.006335325024708978,
          0.006305472798101962,
          0.006246753984601061,
          0.006178886990896771,
          0.006115423568944671,
          0.006004993190026402,
          0.005817935389823968,
          0.0057122713835940815,
          0.005621814263752074,
          0.005484043252620764,
          0.005335332992447781,
          0.0053299426922072245,
          0.0053241073053964146,
          0.005314313079618394,
          0.0051178780141800904,
          0.004947239659704329,
          0.00489402731982682,
          0.004865509242714996,
          0.00461737998622814
         ],
         "y": [
          "0",
          "8",
          "3",
          "4",
          "43",
          "1",
          "57",
          "2",
          "66",
          "37",
          "94",
          "62",
          "71",
          "21",
          "65",
          "79",
          "83",
          "49",
          "36",
          "55",
          "76",
          "14",
          "33",
          "72",
          "5",
          "52",
          "68",
          "97",
          "61",
          "58",
          "10",
          "13",
          "50",
          "28",
          "42",
          "27",
          "35",
          "44",
          "18",
          "56",
          "89",
          "81",
          "45",
          "87",
          "7",
          "23",
          "67",
          "90",
          "20",
          "80",
          "75",
          "51",
          "73",
          "86",
          "16",
          "48",
          "12",
          "47",
          "60",
          "69",
          "6",
          "31",
          "29",
          "24",
          "74",
          "92",
          "25",
          "11",
          "78",
          "82",
          "41",
          "17",
          "64",
          "88",
          "19",
          "46",
          "63",
          "15",
          "70",
          "38",
          "30",
          "93",
          "22",
          "84",
          "9",
          "59",
          "54",
          "96",
          "101",
          "77",
          "26",
          "39",
          "95",
          "53",
          "34",
          "99",
          "85",
          "40",
          "91",
          "32",
          "100",
          "98"
         ]
        }
       ],
       "layout": {
        "autosize": false,
        "height": 1000,
        "width": 1000,
        "xaxis": {
         "tickfont": {
          "color": "black",
          "size": 12
         },
         "title": "Feature Importances"
        },
        "yaxis": {
         "automargin": true
        }
       }
      },
      "text/html": [
       "<div id=\"2072c1a1-87eb-498f-9de5-534db968c8c7\" style=\"height: 1000px; width: 1000px;\" class=\"plotly-graph-div\"></div><script type=\"text/javascript\">require([\"plotly\"], function(Plotly) { window.PLOTLYENV=window.PLOTLYENV || {};window.PLOTLYENV.BASE_URL=\"https://plot.ly\";Plotly.newPlot(\"2072c1a1-87eb-498f-9de5-534db968c8c7\", [{\"marker\": {\"color\": \"rgb(158,202,225)\", \"line\": {\"color\": \"rgb(8,48,107)\", \"width\": 1.5}}, \"opacity\": 0.6, \"orientation\": \"h\", \"text\": [0.0455, 0.032, 0.0286, 0.0265, 0.0235, 0.0201, 0.018, 0.0171, 0.0168, 0.0151, 0.0145, 0.0136, 0.0123, 0.0122, 0.0121, 0.012, 0.012, 0.0116, 0.0111, 0.011, 0.0109, 0.0108, 0.0107, 0.0106, 0.0104, 0.0104, 0.0103, 0.0103, 0.0102, 0.0102, 0.01, 0.0096, 0.0096, 0.0096, 0.0092, 0.0092, 0.0092, 0.0091, 0.009, 0.0089, 0.0088, 0.0088, 0.0087, 0.0086, 0.0085, 0.0085, 0.0085, 0.0084, 0.0083, 0.0082, 0.0082, 0.0081, 0.008, 0.008, 0.008, 0.008, 0.0079, 0.0079, 0.0079, 0.0078, 0.0078, 0.0078, 0.0078, 0.0077, 0.0077, 0.0076, 0.0076, 0.0076, 0.0075, 0.0074, 0.0073, 0.0072, 0.0071, 0.007, 0.0069, 0.0068, 0.0068, 0.0068, 0.0067, 0.0067, 0.0066, 0.0066, 0.0064, 0.0063, 0.0063, 0.0062, 0.0062, 0.0061, 0.006, 0.0058, 0.0057, 0.0056, 0.0055, 0.0053, 0.0053, 0.0053, 0.0053, 0.0051, 0.0049, 0.0049, 0.0049, 0.0046], \"textposition\": \"outside\", \"x\": [0.04550954857544987, 0.03201957066471726, 0.028596190008200812, 0.0265374466408728, 0.023499857410346253, 0.020092051669597804, 0.01799884886436866, 0.017071464758326303, 0.016843593572296, 0.01514485065473597, 0.014460002910809833, 0.013596920744830265, 0.012266944032854159, 0.012186826367124969, 0.012054106202408987, 0.011980383841697372, 0.011975837711975017, 0.011648104597338341, 0.011115890503154082, 0.011017052303649414, 0.010928178558152556, 0.010763740997605617, 0.010674651329889666, 0.01058912048017974, 0.010375910412428323, 0.010362765031183229, 0.01033981610824475, 0.01026351685648492, 0.01019253247556048, 0.010181982368489297, 0.010016899565690397, 0.009611493478585744, 0.009599192256238754, 0.009585456187065047, 0.009163549893671883, 0.009160778724862038, 0.009152094372243413, 0.009086532891639843, 0.008986078413426, 0.00894645640710497, 0.008839104288150856, 0.008813240292917775, 0.008670467392614279, 0.008638079570610016, 0.008526153290877766, 0.008492706242192106, 0.008476189366920904, 0.008375600121863704, 0.008343775720231707, 0.008248056439311199, 0.008233040824888856, 0.008094782658561568, 0.008035884889744166, 0.008004897474188503, 0.008004744405906174, 0.007995479939042455, 0.007934355230090602, 0.00793415325563524, 0.007876699421787219, 0.007846525697230187, 0.007843988089130026, 0.007829681988976028, 0.007807236565829295, 0.007726929831535688, 0.007688030164597405, 0.0076003503622358495, 0.007579364481471264, 0.007555629578539366, 0.007482022761258571, 0.007444043139522867, 0.00727681600494968, 0.007241879941257386, 0.007070267599061444, 0.006982527483015923, 0.006939003360557189, 0.006833433121414803, 0.006828653367849309, 0.006785440392594477, 0.006707833676174553, 0.006674143610910788, 0.0065871285430487755, 0.006565497653479054, 0.00640127277692925, 0.006335325024708978, 0.006305472798101962, 0.006246753984601061, 0.006178886990896771, 0.006115423568944671, 0.006004993190026402, 0.005817935389823968, 0.0057122713835940815, 0.005621814263752074, 0.005484043252620764, 0.005335332992447781, 0.0053299426922072245, 0.0053241073053964146, 0.005314313079618394, 0.0051178780141800904, 0.004947239659704329, 0.00489402731982682, 0.004865509242714996, 0.00461737998622814], \"y\": [\"0\", \"8\", \"3\", \"4\", \"43\", \"1\", \"57\", \"2\", \"66\", \"37\", \"94\", \"62\", \"71\", \"21\", \"65\", \"79\", \"83\", \"49\", \"36\", \"55\", \"76\", \"14\", \"33\", \"72\", \"5\", \"52\", \"68\", \"97\", \"61\", \"58\", \"10\", \"13\", \"50\", \"28\", \"42\", \"27\", \"35\", \"44\", \"18\", \"56\", \"89\", \"81\", \"45\", \"87\", \"7\", \"23\", \"67\", \"90\", \"20\", \"80\", \"75\", \"51\", \"73\", \"86\", \"16\", \"48\", \"12\", \"47\", \"60\", \"69\", \"6\", \"31\", \"29\", \"24\", \"74\", \"92\", \"25\", \"11\", \"78\", \"82\", \"41\", \"17\", \"64\", \"88\", \"19\", \"46\", \"63\", \"15\", \"70\", \"38\", \"30\", \"93\", \"22\", \"84\", \"9\", \"59\", \"54\", \"96\", \"101\", \"77\", \"26\", \"39\", \"95\", \"53\", \"34\", \"99\", \"85\", \"40\", \"91\", \"32\", \"100\", \"98\"], \"type\": \"bar\", \"uid\": \"a7b6d6b7-6578-45f4-837d-e4c0bd1d3905\"}], {\"autosize\": false, \"height\": 1000, \"width\": 1000, \"xaxis\": {\"tickfont\": {\"color\": \"black\", \"size\": 12}, \"title\": \"Feature Importances\"}, \"yaxis\": {\"automargin\": true}}, {\"showLink\": true, \"linkText\": \"Export to plot.ly\", \"plotlyServerURL\": \"https://plot.ly\"})});</script>"
      ],
      "text/vnd.plotly.v1+html": [
       "<div id=\"2072c1a1-87eb-498f-9de5-534db968c8c7\" style=\"height: 1000px; width: 1000px;\" class=\"plotly-graph-div\"></div><script type=\"text/javascript\">require([\"plotly\"], function(Plotly) { window.PLOTLYENV=window.PLOTLYENV || {};window.PLOTLYENV.BASE_URL=\"https://plot.ly\";Plotly.newPlot(\"2072c1a1-87eb-498f-9de5-534db968c8c7\", [{\"marker\": {\"color\": \"rgb(158,202,225)\", \"line\": {\"color\": \"rgb(8,48,107)\", \"width\": 1.5}}, \"opacity\": 0.6, \"orientation\": \"h\", \"text\": [0.0455, 0.032, 0.0286, 0.0265, 0.0235, 0.0201, 0.018, 0.0171, 0.0168, 0.0151, 0.0145, 0.0136, 0.0123, 0.0122, 0.0121, 0.012, 0.012, 0.0116, 0.0111, 0.011, 0.0109, 0.0108, 0.0107, 0.0106, 0.0104, 0.0104, 0.0103, 0.0103, 0.0102, 0.0102, 0.01, 0.0096, 0.0096, 0.0096, 0.0092, 0.0092, 0.0092, 0.0091, 0.009, 0.0089, 0.0088, 0.0088, 0.0087, 0.0086, 0.0085, 0.0085, 0.0085, 0.0084, 0.0083, 0.0082, 0.0082, 0.0081, 0.008, 0.008, 0.008, 0.008, 0.0079, 0.0079, 0.0079, 0.0078, 0.0078, 0.0078, 0.0078, 0.0077, 0.0077, 0.0076, 0.0076, 0.0076, 0.0075, 0.0074, 0.0073, 0.0072, 0.0071, 0.007, 0.0069, 0.0068, 0.0068, 0.0068, 0.0067, 0.0067, 0.0066, 0.0066, 0.0064, 0.0063, 0.0063, 0.0062, 0.0062, 0.0061, 0.006, 0.0058, 0.0057, 0.0056, 0.0055, 0.0053, 0.0053, 0.0053, 0.0053, 0.0051, 0.0049, 0.0049, 0.0049, 0.0046], \"textposition\": \"outside\", \"x\": [0.04550954857544987, 0.03201957066471726, 0.028596190008200812, 0.0265374466408728, 0.023499857410346253, 0.020092051669597804, 0.01799884886436866, 0.017071464758326303, 0.016843593572296, 0.01514485065473597, 0.014460002910809833, 0.013596920744830265, 0.012266944032854159, 0.012186826367124969, 0.012054106202408987, 0.011980383841697372, 0.011975837711975017, 0.011648104597338341, 0.011115890503154082, 0.011017052303649414, 0.010928178558152556, 0.010763740997605617, 0.010674651329889666, 0.01058912048017974, 0.010375910412428323, 0.010362765031183229, 0.01033981610824475, 0.01026351685648492, 0.01019253247556048, 0.010181982368489297, 0.010016899565690397, 0.009611493478585744, 0.009599192256238754, 0.009585456187065047, 0.009163549893671883, 0.009160778724862038, 0.009152094372243413, 0.009086532891639843, 0.008986078413426, 0.00894645640710497, 0.008839104288150856, 0.008813240292917775, 0.008670467392614279, 0.008638079570610016, 0.008526153290877766, 0.008492706242192106, 0.008476189366920904, 0.008375600121863704, 0.008343775720231707, 0.008248056439311199, 0.008233040824888856, 0.008094782658561568, 0.008035884889744166, 0.008004897474188503, 0.008004744405906174, 0.007995479939042455, 0.007934355230090602, 0.00793415325563524, 0.007876699421787219, 0.007846525697230187, 0.007843988089130026, 0.007829681988976028, 0.007807236565829295, 0.007726929831535688, 0.007688030164597405, 0.0076003503622358495, 0.007579364481471264, 0.007555629578539366, 0.007482022761258571, 0.007444043139522867, 0.00727681600494968, 0.007241879941257386, 0.007070267599061444, 0.006982527483015923, 0.006939003360557189, 0.006833433121414803, 0.006828653367849309, 0.006785440392594477, 0.006707833676174553, 0.006674143610910788, 0.0065871285430487755, 0.006565497653479054, 0.00640127277692925, 0.006335325024708978, 0.006305472798101962, 0.006246753984601061, 0.006178886990896771, 0.006115423568944671, 0.006004993190026402, 0.005817935389823968, 0.0057122713835940815, 0.005621814263752074, 0.005484043252620764, 0.005335332992447781, 0.0053299426922072245, 0.0053241073053964146, 0.005314313079618394, 0.0051178780141800904, 0.004947239659704329, 0.00489402731982682, 0.004865509242714996, 0.00461737998622814], \"y\": [\"0\", \"8\", \"3\", \"4\", \"43\", \"1\", \"57\", \"2\", \"66\", \"37\", \"94\", \"62\", \"71\", \"21\", \"65\", \"79\", \"83\", \"49\", \"36\", \"55\", \"76\", \"14\", \"33\", \"72\", \"5\", \"52\", \"68\", \"97\", \"61\", \"58\", \"10\", \"13\", \"50\", \"28\", \"42\", \"27\", \"35\", \"44\", \"18\", \"56\", \"89\", \"81\", \"45\", \"87\", \"7\", \"23\", \"67\", \"90\", \"20\", \"80\", \"75\", \"51\", \"73\", \"86\", \"16\", \"48\", \"12\", \"47\", \"60\", \"69\", \"6\", \"31\", \"29\", \"24\", \"74\", \"92\", \"25\", \"11\", \"78\", \"82\", \"41\", \"17\", \"64\", \"88\", \"19\", \"46\", \"63\", \"15\", \"70\", \"38\", \"30\", \"93\", \"22\", \"84\", \"9\", \"59\", \"54\", \"96\", \"101\", \"77\", \"26\", \"39\", \"95\", \"53\", \"34\", \"99\", \"85\", \"40\", \"91\", \"32\", \"100\", \"98\"], \"type\": \"bar\", \"uid\": \"a7b6d6b7-6578-45f4-837d-e4c0bd1d3905\"}], {\"autosize\": false, \"height\": 1000, \"width\": 1000, \"xaxis\": {\"tickfont\": {\"color\": \"black\", \"size\": 12}, \"title\": \"Feature Importances\"}, \"yaxis\": {\"automargin\": true}}, {\"showLink\": true, \"linkText\": \"Export to plot.ly\", \"plotlyServerURL\": \"https://plot.ly\"})});</script>"
      ]
     },
     "metadata": {},
     "output_type": "display_data"
    },
    {
     "name": "stdout",
     "output_type": "stream",
     "text": [
      "\n",
      "\n",
      "\u001b[1mBagging Classifier\u001b[0m\n",
      "Accuracy of the model for training data is: 0.993211641767\n",
      "Confusion Matrix for training data is:\n"
     ]
    },
    {
     "data": {
      "text/plain": [
       "Predicted  False  True  __all__\n",
       "Actual                         \n",
       "False      31884     8    31892\n",
       "True         246  5279     5525\n",
       "__all__    32130  5287    37417"
      ]
     },
     "metadata": {},
     "output_type": "display_data"
    },
    {
     "name": "stdout",
     "output_type": "stream",
     "text": [
      "Accuracy of the model for test data is: 0.947722899294\n",
      "Confusion Matrix for test data is:\n"
     ]
    },
    {
     "data": {
      "text/plain": [
       "Predicted  False  True  __all__\n",
       "Actual                         \n",
       "False       7875   110     7985\n",
       "True         379   990     1369\n",
       "__all__     8254  1100     9354"
      ]
     },
     "metadata": {},
     "output_type": "display_data"
    },
    {
     "name": "stdout",
     "output_type": "stream",
     "text": [
      "\n",
      "\n",
      "\u001b[1mNeural Network-1\u001b[0m\n",
      "The accuracy of the model on training data is: 0.997781756955\n"
     ]
    },
    {
     "data": {
      "text/plain": [
       "Predicted  False  True  __all__\n",
       "Actual                         \n",
       "False      31824    68    31892\n",
       "True          15  5510     5525\n",
       "__all__    31839  5578    37417"
      ]
     },
     "metadata": {},
     "output_type": "display_data"
    },
    {
     "name": "stdout",
     "output_type": "stream",
     "text": [
      "The accuracy of the model on test data is: 0.950074834295\n"
     ]
    },
    {
     "data": {
      "text/plain": [
       "Predicted  False  True  __all__\n",
       "Actual                         \n",
       "False       7748   237     7985\n",
       "True         230  1139     1369\n",
       "__all__     7978  1376     9354"
      ]
     },
     "metadata": {},
     "output_type": "display_data"
    },
    {
     "name": "stdout",
     "output_type": "stream",
     "text": [
      "\n",
      "\n"
     ]
    }
   ],
   "source": [
    "feat_imp=[None]*4\n",
    "j=0\n",
    "for i in range(0,8):\n",
    "    if i>=2 and i<=5:\n",
    "        model,cm_train,cm_test,acc_train,acc_test,roc_auc,feat_imp[j],mcc=f[i](X_train,Y_train,X_test,Y_test,np.arange(0,102).astype(str))\n",
    "        j=j+1\n",
    "    else:\n",
    "        model,cm_train,cm_test,acc_train,acc_test,roc_auc,mcc=f[i](X_train,Y_train,X_test,Y_test)\n",
    "    table_80_70_train.loc[i]=   ([acc_train,cm_train.TP,cm_train.TN,cm_train.FP,cm_train.FN,cm_train.FPR,cm_train.FNR])\n",
    "    table_80_70_test.loc[i] =   ([acc_test ,cm_test.TP, cm_test.TN, cm_test.FP, cm_test.FN, cm_test.FPR, cm_test.FNR,roc_auc,mcc])\n",
    "    print(\"\\n\")"
   ]
  },
  {
   "cell_type": "markdown",
   "metadata": {},
   "source": [
    "### <a id='5.A' style=\"text-decoration : none; color : #000000;\"> A. Results</a>"
   ]
  },
  {
   "cell_type": "code",
   "execution_count": 71,
   "metadata": {},
   "outputs": [
    {
     "data": {
      "application/vnd.plotly.v1+json": {
       "config": {
        "linkText": "Export to plot.ly",
        "plotlyServerURL": "https://plot.ly",
        "showLink": true
       },
       "data": [
        {
         "mode": "lines",
         "name": "KNN_model",
         "type": "scatter",
         "uid": "6d29e021-6c05-43a7-9169-6b3ec40df477",
         "x": [
          "accuracy",
          "FPR",
          "FNR",
          "auc"
         ],
         "y": [
          0.9413085311096857,
          0.0017532874139010645,
          0.3907962016070124,
          0.8037252554895433
         ]
        },
        {
         "mode": "lines+markers",
         "name": "Logistic Regression",
         "type": "scatter",
         "uid": "3cdc3089-e74f-4b8a-81a8-8fd77ab4182f",
         "x": [
          "accuracy",
          "FPR",
          "FNR",
          "auc"
         ],
         "y": [
          0.9552063288432756,
          0.013775829680651221,
          0.22571219868517164,
          0.8802559858170885
         ]
        },
        {
         "marker": {
          "symbol": "x"
         },
         "mode": "lines+markers",
         "name": "Random Forest",
         "type": "scatter",
         "uid": "4fa2d571-06cb-4d7a-95e2-082090418778",
         "x": [
          "accuracy",
          "FPR",
          "FNR",
          "auc"
         ],
         "y": [
          0.9449433397477015,
          0.01089542892924233,
          0.3126369612856099,
          0.8382338048925739
         ]
        },
        {
         "mode": "lines",
         "name": "Ada Boost",
         "type": "scatter",
         "uid": "9db43396-8e67-4dbe-9908-857643879514",
         "x": [
          "accuracy",
          "FPR",
          "FNR",
          "auc"
         ],
         "y": [
          0.9439811845199915,
          0.01828428303068253,
          0.27611395178962744,
          0.852800882589845
         ]
        },
        {
         "mode": "lines+markers",
         "name": "GradientBoosting",
         "type": "scatter",
         "uid": "b6645860-8483-4e2a-84b7-12b0b259cf82",
         "x": [
          "accuracy",
          "FPR",
          "FNR",
          "auc"
         ],
         "y": [
          0.9522129570237332,
          0.012273011897307451,
          0.25493060628195763,
          0.8663981909103675
         ]
        },
        {
         "marker": {
          "symbol": "x"
         },
         "mode": "lines+markers",
         "name": "ExtraTree Classifier",
         "type": "scatter",
         "uid": "d366ebac-42fd-4182-9b4e-7d7f80f0c171",
         "x": [
          "accuracy",
          "FPR",
          "FNR",
          "auc"
         ],
         "y": [
          0.9360701304254864,
          0.008515967438948028,
          0.38714390065741416,
          0.8021700659518188
         ]
        },
        {
         "marker": {
          "symbol": "x"
         },
         "mode": "lines+markers",
         "name": "Bagging",
         "type": "scatter",
         "uid": "10993495-af52-41bb-baa2-3c6d9889f9f3",
         "x": [
          "accuracy",
          "FPR",
          "FNR",
          "auc"
         ],
         "y": [
          0.9477228992944196,
          0.013775829680651221,
          0.2768444119795471,
          0.8546898791699008
         ]
        },
        {
         "marker": {
          "symbol": "x"
         },
         "mode": "lines+markers",
         "name": "Neural Network",
         "type": "scatter",
         "uid": "ad184514-a060-4aa4-9f20-2fad9458719a",
         "x": [
          "accuracy",
          "FPR",
          "FNR",
          "auc"
         ],
         "y": [
          0.9500748342954886,
          0.02968065122103945,
          0.16800584368151936,
          0.8546898791699008
         ]
        }
       ],
       "layout": {
        "title": "Result comparision for Features selected in Section 1",
        "yaxis": {
         "dtick": 0.05,
         "tick0": 0
        }
       }
      },
      "text/html": [
       "<div id=\"3fc9bc37-a8d1-4711-9930-f93228eb7a45\" style=\"height: 525px; width: 100%;\" class=\"plotly-graph-div\"></div><script type=\"text/javascript\">require([\"plotly\"], function(Plotly) { window.PLOTLYENV=window.PLOTLYENV || {};window.PLOTLYENV.BASE_URL=\"https://plot.ly\";Plotly.newPlot(\"3fc9bc37-a8d1-4711-9930-f93228eb7a45\", [{\"mode\": \"lines\", \"name\": \"KNN_model\", \"x\": [\"accuracy\", \"FPR\", \"FNR\", \"auc\"], \"y\": [0.9413085311096857, 0.0017532874139010645, 0.3907962016070124, 0.8037252554895433], \"type\": \"scatter\", \"uid\": \"6d29e021-6c05-43a7-9169-6b3ec40df477\"}, {\"mode\": \"lines+markers\", \"name\": \"Logistic Regression\", \"x\": [\"accuracy\", \"FPR\", \"FNR\", \"auc\"], \"y\": [0.9552063288432756, 0.013775829680651221, 0.22571219868517164, 0.8802559858170885], \"type\": \"scatter\", \"uid\": \"3cdc3089-e74f-4b8a-81a8-8fd77ab4182f\"}, {\"marker\": {\"symbol\": \"x\"}, \"mode\": \"lines+markers\", \"name\": \"Random Forest\", \"x\": [\"accuracy\", \"FPR\", \"FNR\", \"auc\"], \"y\": [0.9449433397477015, 0.01089542892924233, 0.3126369612856099, 0.8382338048925739], \"type\": \"scatter\", \"uid\": \"4fa2d571-06cb-4d7a-95e2-082090418778\"}, {\"mode\": \"lines\", \"name\": \"Ada Boost\", \"x\": [\"accuracy\", \"FPR\", \"FNR\", \"auc\"], \"y\": [0.9439811845199915, 0.01828428303068253, 0.27611395178962744, 0.852800882589845], \"type\": \"scatter\", \"uid\": \"9db43396-8e67-4dbe-9908-857643879514\"}, {\"mode\": \"lines+markers\", \"name\": \"GradientBoosting\", \"x\": [\"accuracy\", \"FPR\", \"FNR\", \"auc\"], \"y\": [0.9522129570237332, 0.012273011897307451, 0.25493060628195763, 0.8663981909103675], \"type\": \"scatter\", \"uid\": \"b6645860-8483-4e2a-84b7-12b0b259cf82\"}, {\"marker\": {\"symbol\": \"x\"}, \"mode\": \"lines+markers\", \"name\": \"ExtraTree Classifier\", \"x\": [\"accuracy\", \"FPR\", \"FNR\", \"auc\"], \"y\": [0.9360701304254864, 0.008515967438948028, 0.38714390065741416, 0.8021700659518188], \"type\": \"scatter\", \"uid\": \"d366ebac-42fd-4182-9b4e-7d7f80f0c171\"}, {\"marker\": {\"symbol\": \"x\"}, \"mode\": \"lines+markers\", \"name\": \"Bagging\", \"x\": [\"accuracy\", \"FPR\", \"FNR\", \"auc\"], \"y\": [0.9477228992944196, 0.013775829680651221, 0.2768444119795471, 0.8546898791699008], \"type\": \"scatter\", \"uid\": \"10993495-af52-41bb-baa2-3c6d9889f9f3\"}, {\"marker\": {\"symbol\": \"x\"}, \"mode\": \"lines+markers\", \"name\": \"Neural Network\", \"x\": [\"accuracy\", \"FPR\", \"FNR\", \"auc\"], \"y\": [0.9500748342954886, 0.02968065122103945, 0.16800584368151936, 0.8546898791699008], \"type\": \"scatter\", \"uid\": \"ad184514-a060-4aa4-9f20-2fad9458719a\"}], {\"title\": \"Result comparision for Features selected in Section 1\", \"yaxis\": {\"dtick\": 0.05, \"tick0\": 0}}, {\"showLink\": true, \"linkText\": \"Export to plot.ly\", \"plotlyServerURL\": \"https://plot.ly\"})});</script><script type=\"text/javascript\">window.addEventListener(\"resize\", function(){window._Plotly.Plots.resize(document.getElementById(\"3fc9bc37-a8d1-4711-9930-f93228eb7a45\"));});</script>"
      ],
      "text/vnd.plotly.v1+html": [
       "<div id=\"3fc9bc37-a8d1-4711-9930-f93228eb7a45\" style=\"height: 525px; width: 100%;\" class=\"plotly-graph-div\"></div><script type=\"text/javascript\">require([\"plotly\"], function(Plotly) { window.PLOTLYENV=window.PLOTLYENV || {};window.PLOTLYENV.BASE_URL=\"https://plot.ly\";Plotly.newPlot(\"3fc9bc37-a8d1-4711-9930-f93228eb7a45\", [{\"mode\": \"lines\", \"name\": \"KNN_model\", \"x\": [\"accuracy\", \"FPR\", \"FNR\", \"auc\"], \"y\": [0.9413085311096857, 0.0017532874139010645, 0.3907962016070124, 0.8037252554895433], \"type\": \"scatter\", \"uid\": \"6d29e021-6c05-43a7-9169-6b3ec40df477\"}, {\"mode\": \"lines+markers\", \"name\": \"Logistic Regression\", \"x\": [\"accuracy\", \"FPR\", \"FNR\", \"auc\"], \"y\": [0.9552063288432756, 0.013775829680651221, 0.22571219868517164, 0.8802559858170885], \"type\": \"scatter\", \"uid\": \"3cdc3089-e74f-4b8a-81a8-8fd77ab4182f\"}, {\"marker\": {\"symbol\": \"x\"}, \"mode\": \"lines+markers\", \"name\": \"Random Forest\", \"x\": [\"accuracy\", \"FPR\", \"FNR\", \"auc\"], \"y\": [0.9449433397477015, 0.01089542892924233, 0.3126369612856099, 0.8382338048925739], \"type\": \"scatter\", \"uid\": \"4fa2d571-06cb-4d7a-95e2-082090418778\"}, {\"mode\": \"lines\", \"name\": \"Ada Boost\", \"x\": [\"accuracy\", \"FPR\", \"FNR\", \"auc\"], \"y\": [0.9439811845199915, 0.01828428303068253, 0.27611395178962744, 0.852800882589845], \"type\": \"scatter\", \"uid\": \"9db43396-8e67-4dbe-9908-857643879514\"}, {\"mode\": \"lines+markers\", \"name\": \"GradientBoosting\", \"x\": [\"accuracy\", \"FPR\", \"FNR\", \"auc\"], \"y\": [0.9522129570237332, 0.012273011897307451, 0.25493060628195763, 0.8663981909103675], \"type\": \"scatter\", \"uid\": \"b6645860-8483-4e2a-84b7-12b0b259cf82\"}, {\"marker\": {\"symbol\": \"x\"}, \"mode\": \"lines+markers\", \"name\": \"ExtraTree Classifier\", \"x\": [\"accuracy\", \"FPR\", \"FNR\", \"auc\"], \"y\": [0.9360701304254864, 0.008515967438948028, 0.38714390065741416, 0.8021700659518188], \"type\": \"scatter\", \"uid\": \"d366ebac-42fd-4182-9b4e-7d7f80f0c171\"}, {\"marker\": {\"symbol\": \"x\"}, \"mode\": \"lines+markers\", \"name\": \"Bagging\", \"x\": [\"accuracy\", \"FPR\", \"FNR\", \"auc\"], \"y\": [0.9477228992944196, 0.013775829680651221, 0.2768444119795471, 0.8546898791699008], \"type\": \"scatter\", \"uid\": \"10993495-af52-41bb-baa2-3c6d9889f9f3\"}, {\"marker\": {\"symbol\": \"x\"}, \"mode\": \"lines+markers\", \"name\": \"Neural Network\", \"x\": [\"accuracy\", \"FPR\", \"FNR\", \"auc\"], \"y\": [0.9500748342954886, 0.02968065122103945, 0.16800584368151936, 0.8546898791699008], \"type\": \"scatter\", \"uid\": \"ad184514-a060-4aa4-9f20-2fad9458719a\"}], {\"title\": \"Result comparision for Features selected in Section 1\", \"yaxis\": {\"dtick\": 0.05, \"tick0\": 0}}, {\"showLink\": true, \"linkText\": \"Export to plot.ly\", \"plotlyServerURL\": \"https://plot.ly\"})});</script><script type=\"text/javascript\">window.addEventListener(\"resize\", function(){window._Plotly.Plots.resize(document.getElementById(\"3fc9bc37-a8d1-4711-9930-f93228eb7a45\"));});</script>"
      ]
     },
     "metadata": {},
     "output_type": "display_data"
    }
   ],
   "source": [
    "trace0 = go.Scatter(x=table_80_70_test.iloc[0].index.values[[0,5,6,7]],\n",
    "                    y=table_80_70_test.iloc[0].values[[0,5,6,7]],\n",
    "                    mode = 'lines',\n",
    "                    name = 'KNN_model')\n",
    "\n",
    "trace1 = go.Scatter(x=table_80_70_test.iloc[1].index.values[[0,5,6,7]],\n",
    "                    y=table_80_70_test.iloc[1].values[[0,5,6,7]],\n",
    "                    mode = 'lines+markers',\n",
    "                    name = 'Logistic Regression')\n",
    "\n",
    "trace2 = go.Scatter(x=table_80_70_test.iloc[2].index.values[[0,5,6,7]],\n",
    "                    y=table_80_70_test.iloc[2].values[[0,5,6,7]],\n",
    "                    mode = 'lines+markers',marker=dict(symbol='x'),\n",
    "                    name = 'Random Forest')\n",
    "\n",
    "\n",
    "trace3 = go.Scatter(x=table_80_70_test.iloc[3].index.values[[0,5,6,7]],\n",
    "                    y=table_80_70_test.iloc[3].values[[0,5,6,7]],\n",
    "                    mode = 'lines',\n",
    "                    name = 'Ada Boost')\n",
    "\n",
    "trace4 = go.Scatter(x=table_80_70_test.iloc[4].index.values[[0,5,6,7]],\n",
    "                    y=table_80_70_test.iloc[4].values[[0,5,6,7]],\n",
    "                    mode = 'lines+markers',\n",
    "                    name = 'GradientBoosting')\n",
    "\n",
    "trace5 = go.Scatter(x=table_80_70_test.iloc[5].index.values[[0,5,6,7]],\n",
    "                    y=table_80_70_test.iloc[5].values[[0,5,6,7]],\n",
    "                    mode = 'lines+markers',marker=dict(symbol='x'),\n",
    "                    name = 'ExtraTree Classifier')\n",
    "\n",
    "trace6 = go.Scatter(x=table_80_70_test.iloc[6].index.values[[0,5,6,7]],\n",
    "                    y=table_80_70_test.iloc[6].values[[0,5,6,7]],\n",
    "                    mode = 'lines+markers',marker=dict(symbol='x'),\n",
    "                    name = 'Bagging')\n",
    "\n",
    "trace7 = go.Scatter(x=table_80_70_test.iloc[7].index.values[[0,5,6,7]],\n",
    "                    y=table_80_70_test.iloc[7].values[[0,5,6,7]],\n",
    "                    mode = 'lines+markers',marker=dict(symbol='x'),\n",
    "                    name = 'Neural Network')\n",
    "\n",
    "\n",
    "\n",
    "data = [trace0, trace1, trace2, trace3, trace4, trace5, trace6, trace7]\n",
    "layout = go.Layout(yaxis=dict(tick0=0,dtick=0.05),title='Result comparision for Features selected in Section 1')\n",
    "fig = go.Figure(data=data, layout=layout)\n",
    "\n",
    "iplot(fig, filename='Result')"
   ]
  },
  {
   "cell_type": "code",
   "execution_count": 72,
   "metadata": {},
   "outputs": [
    {
     "name": "stdout",
     "output_type": "stream",
     "text": [
      "Training Results\n"
     ]
    },
    {
     "data": {
      "text/html": [
       "<div>\n",
       "<style scoped>\n",
       "    .dataframe tbody tr th:only-of-type {\n",
       "        vertical-align: middle;\n",
       "    }\n",
       "\n",
       "    .dataframe tbody tr th {\n",
       "        vertical-align: top;\n",
       "    }\n",
       "\n",
       "    .dataframe thead th {\n",
       "        text-align: right;\n",
       "    }\n",
       "</style>\n",
       "<table border=\"1\" class=\"dataframe\">\n",
       "  <thead>\n",
       "    <tr style=\"text-align: right;\">\n",
       "      <th></th>\n",
       "      <th>accuracy</th>\n",
       "      <th>TP</th>\n",
       "      <th>TN</th>\n",
       "      <th>FP</th>\n",
       "      <th>FN</th>\n",
       "      <th>FPR</th>\n",
       "      <th>FNR</th>\n",
       "    </tr>\n",
       "    <tr>\n",
       "      <th>index</th>\n",
       "      <th></th>\n",
       "      <th></th>\n",
       "      <th></th>\n",
       "      <th></th>\n",
       "      <th></th>\n",
       "      <th></th>\n",
       "      <th></th>\n",
       "    </tr>\n",
       "  </thead>\n",
       "  <tbody>\n",
       "    <tr>\n",
       "      <th>KNeighborsClassifier</th>\n",
       "      <td>0.949542</td>\n",
       "      <td>3674.0</td>\n",
       "      <td>31855.0</td>\n",
       "      <td>37.0</td>\n",
       "      <td>1851.0</td>\n",
       "      <td>0.001160</td>\n",
       "      <td>0.335023</td>\n",
       "    </tr>\n",
       "    <tr>\n",
       "      <th>LogisticRegression</th>\n",
       "      <td>0.955635</td>\n",
       "      <td>4269.0</td>\n",
       "      <td>31488.0</td>\n",
       "      <td>404.0</td>\n",
       "      <td>1256.0</td>\n",
       "      <td>0.012668</td>\n",
       "      <td>0.227330</td>\n",
       "    </tr>\n",
       "    <tr>\n",
       "      <th>RandomForestClassifier</th>\n",
       "      <td>0.993693</td>\n",
       "      <td>5296.0</td>\n",
       "      <td>31885.0</td>\n",
       "      <td>7.0</td>\n",
       "      <td>229.0</td>\n",
       "      <td>0.000219</td>\n",
       "      <td>0.041448</td>\n",
       "    </tr>\n",
       "    <tr>\n",
       "      <th>AdaBoostClassifier</th>\n",
       "      <td>0.944090</td>\n",
       "      <td>4016.0</td>\n",
       "      <td>31309.0</td>\n",
       "      <td>583.0</td>\n",
       "      <td>1509.0</td>\n",
       "      <td>0.018280</td>\n",
       "      <td>0.273122</td>\n",
       "    </tr>\n",
       "    <tr>\n",
       "      <th>GradientBoostingClassifier</th>\n",
       "      <td>0.956063</td>\n",
       "      <td>4174.0</td>\n",
       "      <td>31599.0</td>\n",
       "      <td>293.0</td>\n",
       "      <td>1351.0</td>\n",
       "      <td>0.009187</td>\n",
       "      <td>0.244525</td>\n",
       "    </tr>\n",
       "    <tr>\n",
       "      <th>ExtraTreeClassifier</th>\n",
       "      <td>0.999973</td>\n",
       "      <td>5524.0</td>\n",
       "      <td>31892.0</td>\n",
       "      <td>0.0</td>\n",
       "      <td>1.0</td>\n",
       "      <td>0.000000</td>\n",
       "      <td>0.000181</td>\n",
       "    </tr>\n",
       "    <tr>\n",
       "      <th>BaggingClassifier</th>\n",
       "      <td>0.993212</td>\n",
       "      <td>5279.0</td>\n",
       "      <td>31884.0</td>\n",
       "      <td>8.0</td>\n",
       "      <td>246.0</td>\n",
       "      <td>0.000251</td>\n",
       "      <td>0.044525</td>\n",
       "    </tr>\n",
       "    <tr>\n",
       "      <th>Neural Network-1</th>\n",
       "      <td>0.997782</td>\n",
       "      <td>5510.0</td>\n",
       "      <td>31824.0</td>\n",
       "      <td>68.0</td>\n",
       "      <td>15.0</td>\n",
       "      <td>0.002132</td>\n",
       "      <td>0.002715</td>\n",
       "    </tr>\n",
       "  </tbody>\n",
       "</table>\n",
       "</div>"
      ],
      "text/plain": [
       "                            accuracy      TP       TN     FP      FN  \\\n",
       "index                                                                  \n",
       "KNeighborsClassifier        0.949542  3674.0  31855.0   37.0  1851.0   \n",
       "LogisticRegression          0.955635  4269.0  31488.0  404.0  1256.0   \n",
       "RandomForestClassifier      0.993693  5296.0  31885.0    7.0   229.0   \n",
       "AdaBoostClassifier          0.944090  4016.0  31309.0  583.0  1509.0   \n",
       "GradientBoostingClassifier  0.956063  4174.0  31599.0  293.0  1351.0   \n",
       "ExtraTreeClassifier         0.999973  5524.0  31892.0    0.0     1.0   \n",
       "BaggingClassifier           0.993212  5279.0  31884.0    8.0   246.0   \n",
       "Neural Network-1            0.997782  5510.0  31824.0   68.0    15.0   \n",
       "\n",
       "                                 FPR       FNR  \n",
       "index                                           \n",
       "KNeighborsClassifier        0.001160  0.335023  \n",
       "LogisticRegression          0.012668  0.227330  \n",
       "RandomForestClassifier      0.000219  0.041448  \n",
       "AdaBoostClassifier          0.018280  0.273122  \n",
       "GradientBoostingClassifier  0.009187  0.244525  \n",
       "ExtraTreeClassifier         0.000000  0.000181  \n",
       "BaggingClassifier           0.000251  0.044525  \n",
       "Neural Network-1            0.002132  0.002715  "
      ]
     },
     "metadata": {},
     "output_type": "display_data"
    },
    {
     "name": "stdout",
     "output_type": "stream",
     "text": [
      "Test Results\n"
     ]
    },
    {
     "data": {
      "text/html": [
       "<div>\n",
       "<style scoped>\n",
       "    .dataframe tbody tr th:only-of-type {\n",
       "        vertical-align: middle;\n",
       "    }\n",
       "\n",
       "    .dataframe tbody tr th {\n",
       "        vertical-align: top;\n",
       "    }\n",
       "\n",
       "    .dataframe thead th {\n",
       "        text-align: right;\n",
       "    }\n",
       "</style>\n",
       "<table border=\"1\" class=\"dataframe\">\n",
       "  <thead>\n",
       "    <tr style=\"text-align: right;\">\n",
       "      <th></th>\n",
       "      <th>accuracy</th>\n",
       "      <th>TP</th>\n",
       "      <th>TN</th>\n",
       "      <th>FP</th>\n",
       "      <th>FN</th>\n",
       "      <th>FPR</th>\n",
       "      <th>FNR</th>\n",
       "      <th>auc</th>\n",
       "      <th>mcc</th>\n",
       "    </tr>\n",
       "    <tr>\n",
       "      <th>index</th>\n",
       "      <th></th>\n",
       "      <th></th>\n",
       "      <th></th>\n",
       "      <th></th>\n",
       "      <th></th>\n",
       "      <th></th>\n",
       "      <th></th>\n",
       "      <th></th>\n",
       "      <th></th>\n",
       "    </tr>\n",
       "  </thead>\n",
       "  <tbody>\n",
       "    <tr>\n",
       "      <th>KNeighborsClassifier</th>\n",
       "      <td>0.941309</td>\n",
       "      <td>834.0</td>\n",
       "      <td>7971.0</td>\n",
       "      <td>14.0</td>\n",
       "      <td>535.0</td>\n",
       "      <td>0.001753</td>\n",
       "      <td>0.390796</td>\n",
       "      <td>0.803725</td>\n",
       "      <td>0.747807</td>\n",
       "    </tr>\n",
       "    <tr>\n",
       "      <th>LogisticRegression</th>\n",
       "      <td>0.955206</td>\n",
       "      <td>1060.0</td>\n",
       "      <td>7875.0</td>\n",
       "      <td>110.0</td>\n",
       "      <td>309.0</td>\n",
       "      <td>0.013776</td>\n",
       "      <td>0.225712</td>\n",
       "      <td>0.880256</td>\n",
       "      <td>0.812586</td>\n",
       "    </tr>\n",
       "    <tr>\n",
       "      <th>RandomForestClassifier</th>\n",
       "      <td>0.944943</td>\n",
       "      <td>941.0</td>\n",
       "      <td>7898.0</td>\n",
       "      <td>87.0</td>\n",
       "      <td>428.0</td>\n",
       "      <td>0.010895</td>\n",
       "      <td>0.312637</td>\n",
       "      <td>0.838234</td>\n",
       "      <td>0.764489</td>\n",
       "    </tr>\n",
       "    <tr>\n",
       "      <th>AdaBoostClassifier</th>\n",
       "      <td>0.943981</td>\n",
       "      <td>991.0</td>\n",
       "      <td>7839.0</td>\n",
       "      <td>146.0</td>\n",
       "      <td>378.0</td>\n",
       "      <td>0.018284</td>\n",
       "      <td>0.276114</td>\n",
       "      <td>0.852801</td>\n",
       "      <td>0.763241</td>\n",
       "    </tr>\n",
       "    <tr>\n",
       "      <th>GradientBoostingClassifier</th>\n",
       "      <td>0.952213</td>\n",
       "      <td>1020.0</td>\n",
       "      <td>7887.0</td>\n",
       "      <td>98.0</td>\n",
       "      <td>349.0</td>\n",
       "      <td>0.012273</td>\n",
       "      <td>0.254931</td>\n",
       "      <td>0.866398</td>\n",
       "      <td>0.798442</td>\n",
       "    </tr>\n",
       "    <tr>\n",
       "      <th>ExtraTreeClassifier</th>\n",
       "      <td>0.936070</td>\n",
       "      <td>839.0</td>\n",
       "      <td>7917.0</td>\n",
       "      <td>68.0</td>\n",
       "      <td>530.0</td>\n",
       "      <td>0.008516</td>\n",
       "      <td>0.387144</td>\n",
       "      <td>0.802170</td>\n",
       "      <td>0.721881</td>\n",
       "    </tr>\n",
       "    <tr>\n",
       "      <th>BaggingClassifier</th>\n",
       "      <td>0.947723</td>\n",
       "      <td>990.0</td>\n",
       "      <td>7875.0</td>\n",
       "      <td>110.0</td>\n",
       "      <td>379.0</td>\n",
       "      <td>0.013776</td>\n",
       "      <td>0.276844</td>\n",
       "      <td>0.854690</td>\n",
       "      <td>0.778376</td>\n",
       "    </tr>\n",
       "    <tr>\n",
       "      <th>Neural Network-1</th>\n",
       "      <td>0.950075</td>\n",
       "      <td>1139.0</td>\n",
       "      <td>7748.0</td>\n",
       "      <td>237.0</td>\n",
       "      <td>230.0</td>\n",
       "      <td>0.029681</td>\n",
       "      <td>0.168006</td>\n",
       "      <td>0.854690</td>\n",
       "      <td>0.800621</td>\n",
       "    </tr>\n",
       "  </tbody>\n",
       "</table>\n",
       "</div>"
      ],
      "text/plain": [
       "                            accuracy      TP      TN     FP     FN       FPR  \\\n",
       "index                                                                          \n",
       "KNeighborsClassifier        0.941309   834.0  7971.0   14.0  535.0  0.001753   \n",
       "LogisticRegression          0.955206  1060.0  7875.0  110.0  309.0  0.013776   \n",
       "RandomForestClassifier      0.944943   941.0  7898.0   87.0  428.0  0.010895   \n",
       "AdaBoostClassifier          0.943981   991.0  7839.0  146.0  378.0  0.018284   \n",
       "GradientBoostingClassifier  0.952213  1020.0  7887.0   98.0  349.0  0.012273   \n",
       "ExtraTreeClassifier         0.936070   839.0  7917.0   68.0  530.0  0.008516   \n",
       "BaggingClassifier           0.947723   990.0  7875.0  110.0  379.0  0.013776   \n",
       "Neural Network-1            0.950075  1139.0  7748.0  237.0  230.0  0.029681   \n",
       "\n",
       "                                 FNR       auc       mcc  \n",
       "index                                                     \n",
       "KNeighborsClassifier        0.390796  0.803725  0.747807  \n",
       "LogisticRegression          0.225712  0.880256  0.812586  \n",
       "RandomForestClassifier      0.312637  0.838234  0.764489  \n",
       "AdaBoostClassifier          0.276114  0.852801  0.763241  \n",
       "GradientBoostingClassifier  0.254931  0.866398  0.798442  \n",
       "ExtraTreeClassifier         0.387144  0.802170  0.721881  \n",
       "BaggingClassifier           0.276844  0.854690  0.778376  \n",
       "Neural Network-1            0.168006  0.854690  0.800621  "
      ]
     },
     "metadata": {},
     "output_type": "display_data"
    }
   ],
   "source": [
    "table_80_70_train['index']=ind_columns\n",
    "table_80_70_test['index']=ind_columns\n",
    "\n",
    "\n",
    "table_80_70_test.set_index(['index'],drop=True,inplace=True)\n",
    "table_80_70_train.set_index(['index'],drop=True,inplace=True)\n",
    "\n",
    "print(\"Training Results\")\n",
    "display(table_80_70_train)\n",
    "print(\"Test Results\")\n",
    "display(table_80_70_test)"
   ]
  },
  {
   "cell_type": "code",
   "execution_count": 73,
   "metadata": {},
   "outputs": [
    {
     "data": {
      "text/html": [
       "<script>\n",
       "code_show=true; \n",
       "function code_toggle() {\n",
       " if (code_show){\n",
       " $('div.input').hide();\n",
       " } else {\n",
       " $('div.input').show();\n",
       " }\n",
       " code_show = !code_show\n",
       "} \n",
       "$( document ).ready(code_toggle);\n",
       "</script>\n",
       "To toggle code, click <a href=\"javascript:code_toggle()\">here</a>."
      ],
      "text/plain": [
       "<IPython.core.display.HTML object>"
      ]
     },
     "execution_count": 73,
     "metadata": {},
     "output_type": "execute_result"
    }
   ],
   "source": [
    "### Original Creator : Darshan Bhansali\n",
    "### HTML code to hide the input cells \n",
    "HTML('''<script>\n",
    "code_show=true; \n",
    "function code_toggle() {\n",
    " if (code_show){\n",
    " $('div.input').hide();\n",
    " } else {\n",
    " $('div.input').show();\n",
    " }\n",
    " code_show = !code_show\n",
    "} \n",
    "$( document ).ready(code_toggle);\n",
    "</script>\n",
    "To toggle code, click <a href=\"javascript:code_toggle()\">here</a>.''')"
   ]
  }
 ],
 "metadata": {
  "kernelspec": {
   "display_name": "Python 3",
   "language": "python",
   "name": "python3"
  },
  "language_info": {
   "codemirror_mode": {
    "name": "ipython",
    "version": 3
   },
   "file_extension": ".py",
   "mimetype": "text/x-python",
   "name": "python",
   "nbconvert_exporter": "python",
   "pygments_lexer": "ipython3",
   "version": "3.6.7"
  }
 },
 "nbformat": 4,
 "nbformat_minor": 2
}
