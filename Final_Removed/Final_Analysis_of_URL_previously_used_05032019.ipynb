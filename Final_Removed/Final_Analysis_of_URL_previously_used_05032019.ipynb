{
 "cells": [
  {
   "cell_type": "markdown",
   "metadata": {},
   "source": [
    "***\n",
    "## Table of Contents\n",
    "<br>\n",
    "  <br>\n",
    "    <ol>\n",
    "        <h2><a href='#1' style=\"text-decoration : none; color : #000000;\">1. Initial Models</a></h2>\n",
    "        <ul>\n",
    "            <a href='#1.A' style=\"text-decoration : none; color : #000000;\"><h3>A. Results </h3></a>\n",
    "        </ul>\n",
    "        <ul>\n",
    "            <a href='#1.B' style=\"text-decoration : none; color : #000000;\"><h3>B. Average Feature Importance   </h3></a>\n",
    "        </ul>\n",
    "     </ol>\n",
    "     <br> \n",
    "\n",
    "<ol>\n",
    "        <h2><a href='#2' style=\"text-decoration : none; color : #000000;\">2. Oversampling </a></h2>\n",
    "        <ul>\n",
    "            <a href='#2.A' style=\"text-decoration : none; color : #000000;\"><h3>A. Results </h3></a>\n",
    "        </ul>\n",
    "        <ul>\n",
    "            <a href='#2.B' style=\"text-decoration : none; color : #000000;\"><h3>B. Average Feature Importance   </h3></a>\n",
    "        </ul>\n",
    "     </ol>\n",
    "     <br>\n",
    "     \n",
    " <ol>\n",
    "        <h2><a href='#3' style=\"text-decoration : none; color : #000000;\">3. Undersampling</a></h2>\n",
    "        <ul>\n",
    "            <a href='#3.A' style=\"text-decoration : none; color : #000000;\"><h3>A. Results </h3></a>\n",
    "        </ul>\n",
    "        <ul>\n",
    "            <a href='#3.B' style=\"text-decoration : none; color : #000000;\"><h3>B. Average Feature Importance   </h3></a>\n",
    "        </ul>\n",
    "     </ol>\n",
    "     <br>\n",
    "     \n",
    " <ol>\n",
    "        <h2><a href='#4' style=\"text-decoration : none; color : #000000;\">4.Feature Transformation with feature selection</a></h2>\n",
    "        <ul>\n",
    "            <a href='#4.A' style=\"text-decoration : none; color : #000000;\"><h3>A. Results </h3></a>\n",
    "        </ul>\n",
    "        <ul>\n",
    "            <a href='#4.B' style=\"text-decoration : none; color : #000000;\"><h3>B. Average Feature Importance   </h3></a>\n",
    "        </ul>\n",
    "     </ol>\n",
    "     <br>\n",
    "     \n",
    "     \n",
    " <ol>\n",
    "        <h2><a href='#5' style=\"text-decoration : none; color : #000000;\">5.Feature Transformation with PCA</a></h2>\n",
    "        <ul>\n",
    "            <a href='#5.A' style=\"text-decoration : none; color : #000000;\"><h3>A. Results </h3></a>\n",
    "        </ul>\n",
    "        <ul>\n",
    "            <a href='#5.B' style=\"text-decoration : none; color : #000000;\"><h3>B. Average Feature Importance   </h3></a>\n",
    "        </ul>\n",
    "     </ol>\n",
    "     <br>"
   ]
  },
  {
   "cell_type": "code",
   "execution_count": 1,
   "metadata": {},
   "outputs": [
    {
     "name": "stderr",
     "output_type": "stream",
     "text": [
      "Using TensorFlow backend.\n"
     ]
    },
    {
     "data": {
      "text/html": [
       "<script type=\"text/javascript\">window.PlotlyConfig = {MathJaxConfig: 'local'};</script><script type=\"text/javascript\">if (window.MathJax) {MathJax.Hub.Config({SVG: {font: \"STIX-Web\"}});}</script><script>requirejs.config({paths: { 'plotly': ['https://cdn.plot.ly/plotly-latest.min']},});if(!window._Plotly) {require(['plotly'],function(plotly) {window._Plotly=plotly;});}</script>"
      ],
      "text/vnd.plotly.v1+html": [
       "<script type=\"text/javascript\">window.PlotlyConfig = {MathJaxConfig: 'local'};</script><script type=\"text/javascript\">if (window.MathJax) {MathJax.Hub.Config({SVG: {font: \"STIX-Web\"}});}</script><script>requirejs.config({paths: { 'plotly': ['https://cdn.plot.ly/plotly-latest.min']},});if(!window._Plotly) {require(['plotly'],function(plotly) {window._Plotly=plotly;});}</script>"
      ]
     },
     "metadata": {},
     "output_type": "display_data"
    }
   ],
   "source": [
    "import pandas as pd\n",
    "import numpy as np\n",
    "import copy\n",
    "import matplotlib.pyplot as plt\n",
    "import seaborn as sns\n",
    "%matplotlib inline\n",
    "\n",
    "from IPython.display import display,clear_output,HTML\n",
    "import warnings\n",
    "warnings.filterwarnings(\"ignore\")\n",
    "\n",
    "import keras\n",
    "from keras.layers import Dense,Dropout\n",
    "from keras.models import Sequential\n",
    "warnings.simplefilter(\"ignore\", DeprecationWarning)\n",
    "import researchpy as rp\n",
    "\n",
    "%matplotlib inline\n",
    "pd.set_option('display.max_columns', 500)\n",
    "pd.set_option('display.max_rows',305)\n",
    "\n",
    "from sklearn.feature_selection import SelectKBest,chi2,RFE,RFECV,f_regression,SelectFromModel\n",
    "from sklearn.linear_model import LogisticRegression\n",
    "from sklearn.ensemble import ExtraTreesClassifier,RandomForestClassifier,GradientBoostingClassifier,AdaBoostClassifier,BaggingClassifier\n",
    "from sklearn.neighbors import KNeighborsClassifier\n",
    "from sklearn.model_selection import train_test_split,cross_val_score\n",
    "\n",
    "from sklearn.preprocessing import StandardScaler,MinMaxScaler\n",
    "from sklearn import metrics\n",
    "\n",
    "\n",
    "\n",
    "from sklearn.decomposition import PCA\n",
    "from sklearn.metrics import accuracy_score,auc,roc_curve,recall_score,precision_score,matthews_corrcoef\n",
    "\n",
    "from pandas_ml import ConfusionMatrix\n",
    "\n",
    "\n",
    "from imblearn.over_sampling import SMOTE\n",
    "\n",
    "from plotly.offline import download_plotlyjs, init_notebook_mode, plot, iplot\n",
    "init_notebook_mode(connected=True)\n",
    "import plotly.graph_objs as go\n",
    "\n",
    "import featuretools as ft\n",
    "\n",
    "from scipy import stats\n",
    "import re"
   ]
  },
  {
   "cell_type": "code",
   "execution_count": 2,
   "metadata": {
    "collapsed": true
   },
   "outputs": [],
   "source": [
    "### Function to plot Feature Importance\n",
    "def feat_impt_plot(feat_impt,y_labels,width_s=1000,height_s=1000):\n",
    "    \n",
    "    m=pd.DataFrame(y_labels,feat_impt).reset_index()\n",
    "    m.columns=['Feature_Importance','Features']\n",
    "    m.sort_values(by='Feature_Importance',inplace=True,ascending=False)\n",
    "    m['Features']=m['Features'].str.replace(\"dom_function_\",\"\")\n",
    "    m['Features']=m['Features'].str.replace(\"js_function_\",\"\")\n",
    "    m['Features']=m['Features'].apply(lambda x: str(x).lstrip('.'))\n",
    "    m['Features']=m['Features'].str.replace(\"(\",\"\")\n",
    "    \n",
    "    data = [go.Bar(x=m.Feature_Importance.values,y=m.Features.values,text=np.round(m.Feature_Importance,4),\n",
    "            textposition = 'outside',\n",
    "            marker=dict(\n",
    "                color='rgb(158,202,225)',\n",
    "                line=dict(\n",
    "                    color='rgb(8,48,107)',\n",
    "                    width=1.5),\n",
    "            ),\n",
    "            opacity=0.6,\n",
    "            orientation='h'\n",
    "        )]\n",
    "    layout = go.Layout(autosize=False,\n",
    "    width=width_s,\n",
    "    height=height_s,\n",
    "    xaxis=dict(title='Feature Importances',\n",
    "        tickfont=dict(\n",
    "            size=12,\n",
    "            color='black'\n",
    "        )),\n",
    "    yaxis=dict(automargin=True))\n",
    "    fig = go.Figure(data=data, layout=layout)\n",
    "    iplot(fig)"
   ]
  },
  {
   "cell_type": "code",
   "execution_count": 3,
   "metadata": {
    "collapsed": true
   },
   "outputs": [],
   "source": [
    "def uni_value(data):\n",
    "    lst=[]\n",
    "    for col in data.columns[:]:\n",
    "        lst.append([col,dict(data[col].value_counts()),data[col].value_counts().values[0]>=len(data)*0.95])\n",
    "    col_values=pd.DataFrame(lst,columns=['Feature','Value_Counts','95_%_same_values'])\n",
    "    col_values.set_index('Feature',drop=True,inplace=True)\n",
    "    del lst\n",
    "    return col_values\n",
    "\n",
    "    \n",
    "def check_cat(data):\n",
    "    cat_var=[]\n",
    "    num_var=[]\n",
    "    for col in data.columns:\n",
    "        if col!='Target':\n",
    "            if len(data[col].value_counts())==2:\n",
    "                cat_var.append(col)\n",
    "            else:\n",
    "                num_var.append(col)\n",
    "    return cat_var,num_var\n",
    "\n",
    "\n",
    "def num_stats(data,columns):\n",
    "    lst=[]\n",
    "    c=0\n",
    "    for col in columns:\n",
    "        corr=stats.pointbiserialr(data[col],data.Target)[0]\n",
    "        corr_p=stats.pointbiserialr(data[col],data.Target)[1]\n",
    "        ttest=stats.ttest_ind(data[data.Target==1][col], data[data.Target==0][col], equal_var=False)[0]\n",
    "        ttest_p=stats.ttest_ind(data[data.Target==1][col], data[data.Target==0][col], equal_var=False)[1]\n",
    "        lst.append((corr,corr_p,ttest,ttest_p,col))\n",
    "    stats_data=pd.DataFrame(lst,columns=['Pt. Biserial Corr','Pt. Biserial Corr p-val','ttest','ttest p-val','Feature'])\n",
    "    stats_data.set_index('Feature',drop=True,inplace=True)\n",
    "    stats_data.sort_values(by='ttest',inplace=True)\n",
    "    del lst\n",
    "    return stats_data\n",
    "\n",
    "\n",
    "### Generate statistics for categorical data\n",
    "def cat_stats(data,columns):\n",
    "    lst=[]\n",
    "    c=0\n",
    "    for col in columns:\n",
    "        if col!='Target':\n",
    "            table, results = rp.crosstab(data['Target'], data[col], prop= 'col', test= 'chi-square')\n",
    "            x=results['results'].values.tolist()\n",
    "            x.append(col)\n",
    "            lst.append(x)\n",
    "    chi_df=pd.DataFrame(lst,columns=['Pearson Chi-square','p-value','Cramers V','Feature'])\n",
    "    chi_df.set_index('Feature',drop=True,inplace=True)\n",
    "    chi_df.sort_values(by='Cramers V',ascending=False,inplace=True)\n",
    "    del lst\n",
    "    return chi_df\n",
    "\n",
    "def remove_feat(data):\n",
    "    col_no_unique=[]\n",
    "    for col in data.columns[:]:\n",
    "        if len(data[col].value_counts())<=1:\n",
    "#             print(col)\n",
    "            col_no_unique.append(col)\n",
    "    return col_no_unique\n",
    "\n",
    "### Generate plot for class balance for categorical nature\n",
    "def class_bal(data,title=''):\n",
    "    d = [go.Bar(x=data.Target.value_counts().index.values,\n",
    "               y=data.Target.value_counts().values,\n",
    "               text=data.Target.value_counts().values,\n",
    "               textposition = 'outside',\n",
    "            )]\n",
    "    layout = go.Layout(title=title,xaxis=dict(title='Domain Type',tickfont=dict(size=12,color='black')),\n",
    "                    yaxis=dict(title='Number of Instances'))\n",
    "    fig = go.Figure(data=d, layout=layout)\n",
    "    iplot(fig)"
   ]
  },
  {
   "cell_type": "code",
   "execution_count": 4,
   "metadata": {
    "collapsed": true
   },
   "outputs": [],
   "source": [
    "def model_build(model,X_train,Y_train,X_test,Y_test,tree=False,feat=None):\n",
    "    \n",
    "    y_pred_train=model.predict(X_train)\n",
    "    acc_train=accuracy_score(Y_train,y_pred_train)\n",
    "    \n",
    "    print(\"Accuracy of the model for training data is:\",acc_train)\n",
    "    print(\"Confusion Matrix for training data is:\")\n",
    "    cm_train=ConfusionMatrix(Y_train,y_pred_train)\n",
    "    display(cm_train)\n",
    "    \n",
    "    \n",
    "    y_pred_test=model.predict(X_test)\n",
    "    acc_test=accuracy_score(Y_test,y_pred_test)\n",
    "    print(\"Accuracy of the model for test data is:\",acc_test)\n",
    "    print(\"Confusion Matrix for test data is:\")\n",
    "    cm_test=ConfusionMatrix(Y_test,y_pred_test)\n",
    "    display(cm_test)\n",
    "\n",
    "    fpr, tpr, threshold = roc_curve(Y_test, y_pred_test)\n",
    "    roc_auc =auc(fpr, tpr)\n",
    "    mcc=matthews_corrcoef(Y_test,y_pred_test)\n",
    "    if tree==True:\n",
    "        feat_impt_plot(model.feature_importances_,feat)\n",
    "        return model,cm_train,cm_test,acc_train,acc_test,roc_auc,model.feature_importances_,mcc\n",
    "    \n",
    "    return model,cm_train,cm_test,acc_train,acc_test,roc_auc,mcc\n",
    "\n",
    "def KNN_model(X_train,Y_train,X_test,Y_test):\n",
    "    print('\\033[1m' + 'K-Nearest Neighbors' + '\\033[0m')\n",
    "    knn=KNeighborsClassifier()\n",
    "    knn.fit(X_train,Y_train)\n",
    "\n",
    "    return model_build(knn,X_train,Y_train,X_test,Y_test)\n",
    "\n",
    "def Logistic_model(X_train,Y_train,X_test,Y_test):\n",
    "    print('\\033[1m' + 'Logistic Regression' + '\\033[0m')\n",
    "    log=LogisticRegression()\n",
    "    log.fit(X_train,Y_train)\n",
    "    \n",
    "    return model_build(log,X_train,Y_train,X_test,Y_test)\n",
    "\n",
    "def RandomForest(X_train,Y_train,X_test,Y_test,feat):\n",
    "    print('\\033[1m' + 'RandomForest Classifier' + '\\033[0m')\n",
    "    rf=RandomForestClassifier()\n",
    "    rf.fit(X_train,Y_train)\n",
    "\n",
    "    \n",
    "    return model_build(rf,X_train,Y_train,X_test,Y_test,True,feat)\n",
    "\n",
    "def AdaBoost(X_train,Y_train,X_test,Y_test,feat):\n",
    "    print('\\033[1m' + 'Adaoost Classifier' + '\\033[0m')\n",
    "    ada=AdaBoostClassifier()\n",
    "    ada.fit(X_train,Y_train)\n",
    "    \n",
    "    return model_build(ada,X_train,Y_train,X_test,Y_test,True,feat)\n",
    "\n",
    "def GradientBoosting(X_train,Y_train,X_test,Y_test,feat):\n",
    "    print('\\033[1m' + 'GradientBoosting Classifier' + '\\033[0m')\n",
    "    gbc=GradientBoostingClassifier()\n",
    "    gbc.fit(X_train,Y_train)\n",
    "    \n",
    "    return model_build(gbc,X_train,Y_train,X_test,Y_test,True,feat)\n",
    "\n",
    "def ExtraTree(X_train,Y_train,X_test,Y_test,feat):\n",
    "    print('\\033[1m' + 'ExtraTree Classifier' + '\\033[0m')\n",
    "    ext_tree=ExtraTreesClassifier()\n",
    "    ext_tree.fit(X_train,Y_train)\n",
    "    \n",
    "    return model_build(ext_tree,X_train,Y_train,X_test,Y_test,True,feat)\n",
    "\n",
    "def Bagging(X_train,Y_train,X_test,Y_test):\n",
    "    print('\\033[1m' + 'Bagging Classifier' + '\\033[0m')\n",
    "    bagging=BaggingClassifier()\n",
    "    bagging.fit(X_train,Y_train)\n",
    "    \n",
    "    return model_build(bagging,X_train,Y_train,X_test,Y_test)\n",
    "\n",
    "def DeepLearning1(X_train,Y_train,X_test,Y_test):\n",
    "    print('\\033[1m' + 'Neural Network-1' + '\\033[0m')\n",
    "    np.random.seed(0)\n",
    "    deep_learning=Sequential()\n",
    "    deep_learning.add(Dense(units=64,activation='relu',use_bias=True,kernel_initializer='uniform',input_dim=X_train.shape[1]))\n",
    "    deep_learning.add(Dense(units=128,activation='relu',use_bias=True,kernel_initializer='uniform'))\n",
    "    deep_learning.add(Dense(units=1,activation='sigmoid',use_bias=True,kernel_initializer='uniform'))\n",
    "    deep_learning.compile(optimizer='adam',loss='binary_crossentropy',metrics=['accuracy'])\n",
    "    deep_learning.fit(X_train,Y_train,batch_size=20,epochs=80,verbose=False)\n",
    "    acc_train=deep_learning.evaluate(X_train,Y_train,verbose=False)[1]\n",
    "    print(\"The accuracy of the model on training data is:\",acc_train)\n",
    "    cm_train=ConfusionMatrix(Y_train,deep_learning.predict_classes(X_train,batch_size=1,verbose=False).reshape(1,len(X_train))[0])\n",
    "    cm_test=ConfusionMatrix(Y_test,deep_learning.predict_classes(X_test,batch_size=1,verbose=False).reshape(1,len(X_test))[0])\n",
    "    display(cm_train)\n",
    "    acc_test=accuracy_score(Y_test,deep_learning.predict_classes(X_test,batch_size=1,verbose=False))\n",
    "    print(\"The accuracy of the model on test data is:\",acc_test)\n",
    "    display(cm_test)\n",
    "    mcc=matthews_corrcoef(Y_test,deep_learning.predict_classes(X_test,batch_size=1,verbose=False))\n",
    "    return  deep_learning,cm_train,cm_test,acc_train,acc_test,roc_auc,mcc"
   ]
  },
  {
   "cell_type": "code",
   "execution_count": 5,
   "metadata": {},
   "outputs": [
    {
     "name": "stdout",
     "output_type": "stream",
     "text": [
      "Shape of our dataset: (46771, 4195)\n"
     ]
    }
   ],
   "source": [
    "df=pd.read_csv('URL.csv')\n",
    "\n",
    "df.drop(['Unnamed: 0'],axis=1,inplace=True)\n",
    "\n",
    "df.fillna(value=0,inplace=True)\n",
    "\n",
    "cookies=[columns for columns in df.columns if 'number' in columns]\n",
    "\n",
    "df.drop(cookies,axis=1,inplace=True)\n",
    "df=df[df['domain']!=0]\n",
    "df.sort_values(by='Target',inplace=True,ascending=False)\n",
    "\n",
    "df.drop_duplicates(['domain'], keep='first',inplace=True)\n",
    "\n",
    "df=df.sample(frac=1,random_state=0)\n",
    "print(\"Shape of our dataset:\",df.shape)"
   ]
  },
  {
   "cell_type": "code",
   "execution_count": 6,
   "metadata": {
    "collapsed": true
   },
   "outputs": [],
   "source": [
    "df['url_port']=df['url_port'].apply(lambda x: 0 if x==0 else 1 )\n",
    "\n",
    "df['url_number_vowels/url_length'] = (df['domain'].str.lower().str.count(r'[aeiou]'))/(df['domain'].apply(lambda x: len(str(x))))\n",
    "\n",
    "df['url_number_consonants/url_length'] = (df['domain'].str.count(r'[bcdfghjklmnpqrstvwxzy]', flags=re.I))/(df['domain'].apply(lambda x: len(str(x))))\n",
    "\n",
    "df['url_number_digits/url_length'] = (df['domain'].str.count(r'\\d'))/(df['domain'].apply(lambda x: len(str(x))))\n",
    "\n",
    "df['url_number_special_chars/url_length']=1.0-df[['url_number_vowels/url_length','url_number_consonants/url_length','url_number_digits/url_length']].sum(axis=1)"
   ]
  },
  {
   "cell_type": "code",
   "execution_count": 9,
   "metadata": {},
   "outputs": [],
   "source": [
    "df.set_index(['domain'],inplace=True,drop=True)"
   ]
  },
  {
   "cell_type": "code",
   "execution_count": 10,
   "metadata": {},
   "outputs": [],
   "source": [
    "fin_col=['url_char_%',\n",
    " 'url_char_&',\n",
    " 'url_char_+',\n",
    " 'url_char_-',\n",
    " 'url_char_.',\n",
    " 'url_char_/',\n",
    " 'url_char_:',\n",
    " 'url_char_=',\n",
    " 'url_char_?',\n",
    " 'url_char__',\n",
    " 'url_port',\n",
    " 'url_number_vowels/url_length',\n",
    " 'url_number_consonants/url_length',\n",
    " 'url_number_digits/url_length',\n",
    " 'url_number_special_chars/url_length',\n",
    " 'Target']"
   ]
  },
  {
   "cell_type": "code",
   "execution_count": 11,
   "metadata": {
    "collapsed": true
   },
   "outputs": [],
   "source": [
    "df_sel=df[fin_col]"
   ]
  },
  {
   "cell_type": "code",
   "execution_count": 12,
   "metadata": {},
   "outputs": [
    {
     "data": {
      "application/vnd.plotly.v1+json": {
       "config": {
        "linkText": "Export to plot.ly",
        "plotlyServerURL": "https://plot.ly",
        "showLink": true
       },
       "data": [
        {
         "text": [
          39877,
          6894
         ],
         "textposition": "outside",
         "type": "bar",
         "uid": "a45548ba-c024-463c-add1-7c254cddbe3d",
         "x": [
          0,
          1
         ],
         "y": [
          39877,
          6894
         ]
        }
       ],
       "layout": {
        "xaxis": {
         "tickfont": {
          "color": "black",
          "size": 12
         },
         "title": "Domain Type"
        },
        "yaxis": {
         "title": "Number of Instances"
        }
       }
      },
      "text/html": [
       "<div id=\"47c16400-01bc-4c2d-97f6-1e42cc289d21\" style=\"height: 525px; width: 100%;\" class=\"plotly-graph-div\"></div><script type=\"text/javascript\">require([\"plotly\"], function(Plotly) { window.PLOTLYENV=window.PLOTLYENV || {};window.PLOTLYENV.BASE_URL=\"https://plot.ly\";Plotly.newPlot(\"47c16400-01bc-4c2d-97f6-1e42cc289d21\", [{\"text\": [39877.0, 6894.0], \"textposition\": \"outside\", \"x\": [0, 1], \"y\": [39877, 6894], \"type\": \"bar\", \"uid\": \"a45548ba-c024-463c-add1-7c254cddbe3d\"}], {\"xaxis\": {\"tickfont\": {\"color\": \"black\", \"size\": 12}, \"title\": \"Domain Type\"}, \"yaxis\": {\"title\": \"Number of Instances\"}}, {\"showLink\": true, \"linkText\": \"Export to plot.ly\", \"plotlyServerURL\": \"https://plot.ly\"})});</script><script type=\"text/javascript\">window.addEventListener(\"resize\", function(){window._Plotly.Plots.resize(document.getElementById(\"47c16400-01bc-4c2d-97f6-1e42cc289d21\"));});</script>"
      ],
      "text/vnd.plotly.v1+html": [
       "<div id=\"47c16400-01bc-4c2d-97f6-1e42cc289d21\" style=\"height: 525px; width: 100%;\" class=\"plotly-graph-div\"></div><script type=\"text/javascript\">require([\"plotly\"], function(Plotly) { window.PLOTLYENV=window.PLOTLYENV || {};window.PLOTLYENV.BASE_URL=\"https://plot.ly\";Plotly.newPlot(\"47c16400-01bc-4c2d-97f6-1e42cc289d21\", [{\"text\": [39877.0, 6894.0], \"textposition\": \"outside\", \"x\": [0, 1], \"y\": [39877, 6894], \"type\": \"bar\", \"uid\": \"a45548ba-c024-463c-add1-7c254cddbe3d\"}], {\"xaxis\": {\"tickfont\": {\"color\": \"black\", \"size\": 12}, \"title\": \"Domain Type\"}, \"yaxis\": {\"title\": \"Number of Instances\"}}, {\"showLink\": true, \"linkText\": \"Export to plot.ly\", \"plotlyServerURL\": \"https://plot.ly\"})});</script><script type=\"text/javascript\">window.addEventListener(\"resize\", function(){window._Plotly.Plots.resize(document.getElementById(\"47c16400-01bc-4c2d-97f6-1e42cc289d21\"));});</script>"
      ]
     },
     "metadata": {},
     "output_type": "display_data"
    }
   ],
   "source": [
    "data = [go.Bar(x=df.Target.value_counts().index.values,\n",
    "               y=df.Target.value_counts().values,\n",
    "               text=df.Target.value_counts().values,\n",
    "               textposition = 'outside',\n",
    "            )]\n",
    "layout = go.Layout( xaxis=dict(title='Domain Type',tickfont=dict(size=12,color='black')),\n",
    "                    yaxis=dict(title='Number of Instances'))\n",
    "fig = go.Figure(data=data, layout=layout)\n",
    "iplot(fig)"
   ]
  },
  {
   "cell_type": "code",
   "execution_count": 13,
   "metadata": {},
   "outputs": [],
   "source": [
    "train=df_sel.iloc[:37417,:]\n",
    "train_X=train.iloc[:,train.columns!='Target'].values\n",
    "train_Y=train.Target.values\n",
    "\n",
    "scaler=StandardScaler()\n",
    "scaled_X_train=scaler.fit_transform(train_X)\n",
    "\n",
    "test=df_sel.iloc[37417:,:]\n",
    "test_X=test.iloc[:,test.columns!='Target'].values\n",
    "test_Y=test.Target.values\n",
    "scaled_X_test=scaler.transform(test_X)"
   ]
  },
  {
   "cell_type": "code",
   "execution_count": 14,
   "metadata": {},
   "outputs": [],
   "source": [
    "columns=fin_col"
   ]
  },
  {
   "cell_type": "markdown",
   "metadata": {},
   "source": [
    "### <a id='1' style=\"text-decoration : none; color : #000000;\"> 2. Initial Models</a>"
   ]
  },
  {
   "cell_type": "code",
   "execution_count": 15,
   "metadata": {
    "collapsed": true
   },
   "outputs": [],
   "source": [
    "columns.remove('Target')"
   ]
  },
  {
   "cell_type": "code",
   "execution_count": 16,
   "metadata": {
    "collapsed": true
   },
   "outputs": [],
   "source": [
    "ind_columns=['KNeighborsClassifier','LogisticRegression','RandomForestClassifier','AdaBoostClassifier',\n",
    "             'GradientBoostingClassifier','ExtraTreeClassifier','BaggingClassifier','Neural Network-1']\n",
    "\n",
    "f=[KNN_model,Logistic_model,RandomForest,AdaBoost,GradientBoosting, ExtraTree,Bagging,DeepLearning1]\n",
    "\n",
    "## Table to store training and test measures\n",
    "table_80_50_train=pd.DataFrame(columns=['accuracy','TP','TN','FP','FN','FPR','FNR'])\n",
    "table_80_50_test=pd.DataFrame(columns=['accuracy','TP','TN','FP','FN','FPR','FNR','auc','MCC'])"
   ]
  },
  {
   "cell_type": "code",
   "execution_count": 17,
   "metadata": {
    "scrolled": false
   },
   "outputs": [
    {
     "name": "stdout",
     "output_type": "stream",
     "text": [
      "\u001b[1mK-Nearest Neighbors\u001b[0m\n",
      "Accuracy of the model for training data is: 0.93796937221\n",
      "Confusion Matrix for training data is:\n"
     ]
    },
    {
     "data": {
      "text/plain": [
       "Predicted  False  True  __all__\n",
       "Actual                         \n",
       "False      31163   729    31892\n",
       "True        1592  3933     5525\n",
       "__all__    32755  4662    37417"
      ]
     },
     "metadata": {},
     "output_type": "display_data"
    },
    {
     "name": "stdout",
     "output_type": "stream",
     "text": [
      "Accuracy of the model for test data is: 0.930617917468\n",
      "Confusion Matrix for test data is:\n"
     ]
    },
    {
     "data": {
      "text/plain": [
       "Predicted  False  True  __all__\n",
       "Actual                         \n",
       "False       7774   211     7985\n",
       "True         438   931     1369\n",
       "__all__     8212  1142     9354"
      ]
     },
     "metadata": {},
     "output_type": "display_data"
    },
    {
     "name": "stdout",
     "output_type": "stream",
     "text": [
      "\n",
      "\n",
      "\u001b[1mLogistic Regression\u001b[0m\n",
      "Accuracy of the model for training data is: 0.935724403346\n",
      "Confusion Matrix for training data is:\n"
     ]
    },
    {
     "data": {
      "text/plain": [
       "Predicted  False  True  __all__\n",
       "Actual                         \n",
       "False      31228   664    31892\n",
       "True        1741  3784     5525\n",
       "__all__    32969  4448    37417"
      ]
     },
     "metadata": {},
     "output_type": "display_data"
    },
    {
     "name": "stdout",
     "output_type": "stream",
     "text": [
      "Accuracy of the model for test data is: 0.932007697242\n",
      "Confusion Matrix for test data is:\n"
     ]
    },
    {
     "data": {
      "text/plain": [
       "Predicted  False  True  __all__\n",
       "Actual                         \n",
       "False       7810   175     7985\n",
       "True         461   908     1369\n",
       "__all__     8271  1083     9354"
      ]
     },
     "metadata": {},
     "output_type": "display_data"
    },
    {
     "name": "stdout",
     "output_type": "stream",
     "text": [
      "\n",
      "\n",
      "\u001b[1mRandomForest Classifier\u001b[0m\n",
      "Accuracy of the model for training data is: 0.946949247668\n",
      "Confusion Matrix for training data is:\n"
     ]
    },
    {
     "data": {
      "text/plain": [
       "Predicted  False  True  __all__\n",
       "Actual                         \n",
       "False      31196   696    31892\n",
       "True        1289  4236     5525\n",
       "__all__    32485  4932    37417"
      ]
     },
     "metadata": {},
     "output_type": "display_data"
    },
    {
     "name": "stdout",
     "output_type": "stream",
     "text": [
      "Accuracy of the model for test data is: 0.939384220654\n",
      "Confusion Matrix for test data is:\n"
     ]
    },
    {
     "data": {
      "text/plain": [
       "Predicted  False  True  __all__\n",
       "Actual                         \n",
       "False       7774   211     7985\n",
       "True         356  1013     1369\n",
       "__all__     8130  1224     9354"
      ]
     },
     "metadata": {},
     "output_type": "display_data"
    },
    {
     "data": {
      "application/vnd.plotly.v1+json": {
       "config": {
        "linkText": "Export to plot.ly",
        "plotlyServerURL": "https://plot.ly",
        "showLink": true
       },
       "data": [
        {
         "marker": {
          "color": "rgb(158,202,225)",
          "line": {
           "color": "rgb(8,48,107)",
           "width": 1.5
          }
         },
         "opacity": 0.6,
         "orientation": "h",
         "text": [
          0.381,
          0.2223,
          0.1376,
          0.1007,
          0.0669,
          0.0432,
          0.041,
          0.0031,
          0.0016,
          0.0014,
          0.0006,
          0.0002,
          0.0002,
          0,
          0
         ],
         "textposition": "outside",
         "type": "bar",
         "uid": "993fcd88-2d00-4954-8c68-4580e2f6a3eb",
         "x": [
          0.3810449793803838,
          0.22233911110798243,
          0.13763428361530403,
          0.10072983235654216,
          0.06692824228608908,
          0.043234967204338365,
          0.04102204409506593,
          0.003063422894828497,
          0.0016491167547451363,
          0.0013685050710417472,
          0.0006099009300426265,
          0.00020326577754504796,
          0.00017119030538397645,
          1.138220707093568e-06,
          0
         ],
         "y": [
          "url_char_.",
          "url_number_special_chars/url_length",
          "url_char_/",
          "url_number_consonants/url_length",
          "url_number_vowels/url_length",
          "url_number_digits/url_length",
          "url_char_-",
          "url_char_?",
          "url_port",
          "url_char_=",
          "url_char__",
          "url_char_+",
          "url_char_:",
          "url_char_%",
          "url_char_&"
         ]
        }
       ],
       "layout": {
        "autosize": false,
        "height": 1000,
        "width": 1000,
        "xaxis": {
         "tickfont": {
          "color": "black",
          "size": 12
         },
         "title": "Feature Importances"
        },
        "yaxis": {
         "automargin": true
        }
       }
      },
      "text/html": [
       "<div id=\"353f92ab-b7fd-4dab-8e38-bf0bc42d872a\" style=\"height: 1000px; width: 1000px;\" class=\"plotly-graph-div\"></div><script type=\"text/javascript\">require([\"plotly\"], function(Plotly) { window.PLOTLYENV=window.PLOTLYENV || {};window.PLOTLYENV.BASE_URL=\"https://plot.ly\";Plotly.newPlot(\"353f92ab-b7fd-4dab-8e38-bf0bc42d872a\", [{\"marker\": {\"color\": \"rgb(158,202,225)\", \"line\": {\"color\": \"rgb(8,48,107)\", \"width\": 1.5}}, \"opacity\": 0.6, \"orientation\": \"h\", \"text\": [0.381, 0.2223, 0.1376, 0.1007, 0.0669, 0.0432, 0.041, 0.0031, 0.0016, 0.0014, 0.0006, 0.0002, 0.0002, 0.0, 0.0], \"textposition\": \"outside\", \"x\": [0.3810449793803838, 0.22233911110798243, 0.13763428361530403, 0.10072983235654216, 0.06692824228608908, 0.043234967204338365, 0.04102204409506593, 0.003063422894828497, 0.0016491167547451363, 0.0013685050710417472, 0.0006099009300426265, 0.00020326577754504796, 0.00017119030538397645, 1.138220707093568e-06, 0.0], \"y\": [\"url_char_.\", \"url_number_special_chars/url_length\", \"url_char_/\", \"url_number_consonants/url_length\", \"url_number_vowels/url_length\", \"url_number_digits/url_length\", \"url_char_-\", \"url_char_?\", \"url_port\", \"url_char_=\", \"url_char__\", \"url_char_+\", \"url_char_:\", \"url_char_%\", \"url_char_&\"], \"type\": \"bar\", \"uid\": \"993fcd88-2d00-4954-8c68-4580e2f6a3eb\"}], {\"autosize\": false, \"height\": 1000, \"width\": 1000, \"xaxis\": {\"tickfont\": {\"color\": \"black\", \"size\": 12}, \"title\": \"Feature Importances\"}, \"yaxis\": {\"automargin\": true}}, {\"showLink\": true, \"linkText\": \"Export to plot.ly\", \"plotlyServerURL\": \"https://plot.ly\"})});</script>"
      ],
      "text/vnd.plotly.v1+html": [
       "<div id=\"353f92ab-b7fd-4dab-8e38-bf0bc42d872a\" style=\"height: 1000px; width: 1000px;\" class=\"plotly-graph-div\"></div><script type=\"text/javascript\">require([\"plotly\"], function(Plotly) { window.PLOTLYENV=window.PLOTLYENV || {};window.PLOTLYENV.BASE_URL=\"https://plot.ly\";Plotly.newPlot(\"353f92ab-b7fd-4dab-8e38-bf0bc42d872a\", [{\"marker\": {\"color\": \"rgb(158,202,225)\", \"line\": {\"color\": \"rgb(8,48,107)\", \"width\": 1.5}}, \"opacity\": 0.6, \"orientation\": \"h\", \"text\": [0.381, 0.2223, 0.1376, 0.1007, 0.0669, 0.0432, 0.041, 0.0031, 0.0016, 0.0014, 0.0006, 0.0002, 0.0002, 0.0, 0.0], \"textposition\": \"outside\", \"x\": [0.3810449793803838, 0.22233911110798243, 0.13763428361530403, 0.10072983235654216, 0.06692824228608908, 0.043234967204338365, 0.04102204409506593, 0.003063422894828497, 0.0016491167547451363, 0.0013685050710417472, 0.0006099009300426265, 0.00020326577754504796, 0.00017119030538397645, 1.138220707093568e-06, 0.0], \"y\": [\"url_char_.\", \"url_number_special_chars/url_length\", \"url_char_/\", \"url_number_consonants/url_length\", \"url_number_vowels/url_length\", \"url_number_digits/url_length\", \"url_char_-\", \"url_char_?\", \"url_port\", \"url_char_=\", \"url_char__\", \"url_char_+\", \"url_char_:\", \"url_char_%\", \"url_char_&\"], \"type\": \"bar\", \"uid\": \"993fcd88-2d00-4954-8c68-4580e2f6a3eb\"}], {\"autosize\": false, \"height\": 1000, \"width\": 1000, \"xaxis\": {\"tickfont\": {\"color\": \"black\", \"size\": 12}, \"title\": \"Feature Importances\"}, \"yaxis\": {\"automargin\": true}}, {\"showLink\": true, \"linkText\": \"Export to plot.ly\", \"plotlyServerURL\": \"https://plot.ly\"})});</script>"
      ]
     },
     "metadata": {},
     "output_type": "display_data"
    },
    {
     "name": "stdout",
     "output_type": "stream",
     "text": [
      "\n",
      "\n",
      "\u001b[1mAdaoost Classifier\u001b[0m\n",
      "Accuracy of the model for training data is: 0.936820161958\n",
      "Confusion Matrix for training data is:\n"
     ]
    },
    {
     "data": {
      "text/plain": [
       "Predicted  False  True  __all__\n",
       "Actual                         \n",
       "False      31291   601    31892\n",
       "True        1763  3762     5525\n",
       "__all__    33054  4363    37417"
      ]
     },
     "metadata": {},
     "output_type": "display_data"
    },
    {
     "name": "stdout",
     "output_type": "stream",
     "text": [
      "Accuracy of the model for test data is: 0.937353004062\n",
      "Confusion Matrix for test data is:\n"
     ]
    },
    {
     "data": {
      "text/plain": [
       "Predicted  False  True  __all__\n",
       "Actual                         \n",
       "False       7832   153     7985\n",
       "True         433   936     1369\n",
       "__all__     8265  1089     9354"
      ]
     },
     "metadata": {},
     "output_type": "display_data"
    },
    {
     "data": {
      "application/vnd.plotly.v1+json": {
       "config": {
        "linkText": "Export to plot.ly",
        "plotlyServerURL": "https://plot.ly",
        "showLink": true
       },
       "data": [
        {
         "marker": {
          "color": "rgb(158,202,225)",
          "line": {
           "color": "rgb(8,48,107)",
           "width": 1.5
          }
         },
         "opacity": 0.6,
         "orientation": "h",
         "text": [
          0.34,
          0.16,
          0.16,
          0.12,
          0.12,
          0.08,
          0.02,
          0,
          0,
          0,
          0,
          0,
          0,
          0,
          0
         ],
         "textposition": "outside",
         "type": "bar",
         "uid": "88c0a612-0de6-4d58-83e7-060390aad5b4",
         "x": [
          0.34,
          0.16,
          0.16,
          0.12,
          0.12,
          0.08,
          0.02,
          0,
          0,
          0,
          0,
          0,
          0,
          0,
          0
         ],
         "y": [
          "url_number_special_chars/url_length",
          "url_number_consonants/url_length",
          "url_number_digits/url_length",
          "url_char_.",
          "url_number_vowels/url_length",
          "url_char_-",
          "url_char_/",
          "url_char_%",
          "url_char_&",
          "url_char_+",
          "url_char_:",
          "url_char_=",
          "url_char_?",
          "url_char__",
          "url_port"
         ]
        }
       ],
       "layout": {
        "autosize": false,
        "height": 1000,
        "width": 1000,
        "xaxis": {
         "tickfont": {
          "color": "black",
          "size": 12
         },
         "title": "Feature Importances"
        },
        "yaxis": {
         "automargin": true
        }
       }
      },
      "text/html": [
       "<div id=\"85ee8dce-e59f-44ae-a135-bacb7778e637\" style=\"height: 1000px; width: 1000px;\" class=\"plotly-graph-div\"></div><script type=\"text/javascript\">require([\"plotly\"], function(Plotly) { window.PLOTLYENV=window.PLOTLYENV || {};window.PLOTLYENV.BASE_URL=\"https://plot.ly\";Plotly.newPlot(\"85ee8dce-e59f-44ae-a135-bacb7778e637\", [{\"marker\": {\"color\": \"rgb(158,202,225)\", \"line\": {\"color\": \"rgb(8,48,107)\", \"width\": 1.5}}, \"opacity\": 0.6, \"orientation\": \"h\", \"text\": [0.34, 0.16, 0.16, 0.12, 0.12, 0.08, 0.02, 0.0, 0.0, 0.0, 0.0, 0.0, 0.0, 0.0, 0.0], \"textposition\": \"outside\", \"x\": [0.34, 0.16, 0.16, 0.12, 0.12, 0.08, 0.02, 0.0, 0.0, 0.0, 0.0, 0.0, 0.0, 0.0, 0.0], \"y\": [\"url_number_special_chars/url_length\", \"url_number_consonants/url_length\", \"url_number_digits/url_length\", \"url_char_.\", \"url_number_vowels/url_length\", \"url_char_-\", \"url_char_/\", \"url_char_%\", \"url_char_&\", \"url_char_+\", \"url_char_:\", \"url_char_=\", \"url_char_?\", \"url_char__\", \"url_port\"], \"type\": \"bar\", \"uid\": \"88c0a612-0de6-4d58-83e7-060390aad5b4\"}], {\"autosize\": false, \"height\": 1000, \"width\": 1000, \"xaxis\": {\"tickfont\": {\"color\": \"black\", \"size\": 12}, \"title\": \"Feature Importances\"}, \"yaxis\": {\"automargin\": true}}, {\"showLink\": true, \"linkText\": \"Export to plot.ly\", \"plotlyServerURL\": \"https://plot.ly\"})});</script>"
      ],
      "text/vnd.plotly.v1+html": [
       "<div id=\"85ee8dce-e59f-44ae-a135-bacb7778e637\" style=\"height: 1000px; width: 1000px;\" class=\"plotly-graph-div\"></div><script type=\"text/javascript\">require([\"plotly\"], function(Plotly) { window.PLOTLYENV=window.PLOTLYENV || {};window.PLOTLYENV.BASE_URL=\"https://plot.ly\";Plotly.newPlot(\"85ee8dce-e59f-44ae-a135-bacb7778e637\", [{\"marker\": {\"color\": \"rgb(158,202,225)\", \"line\": {\"color\": \"rgb(8,48,107)\", \"width\": 1.5}}, \"opacity\": 0.6, \"orientation\": \"h\", \"text\": [0.34, 0.16, 0.16, 0.12, 0.12, 0.08, 0.02, 0.0, 0.0, 0.0, 0.0, 0.0, 0.0, 0.0, 0.0], \"textposition\": \"outside\", \"x\": [0.34, 0.16, 0.16, 0.12, 0.12, 0.08, 0.02, 0.0, 0.0, 0.0, 0.0, 0.0, 0.0, 0.0, 0.0], \"y\": [\"url_number_special_chars/url_length\", \"url_number_consonants/url_length\", \"url_number_digits/url_length\", \"url_char_.\", \"url_number_vowels/url_length\", \"url_char_-\", \"url_char_/\", \"url_char_%\", \"url_char_&\", \"url_char_+\", \"url_char_:\", \"url_char_=\", \"url_char_?\", \"url_char__\", \"url_port\"], \"type\": \"bar\", \"uid\": \"88c0a612-0de6-4d58-83e7-060390aad5b4\"}], {\"autosize\": false, \"height\": 1000, \"width\": 1000, \"xaxis\": {\"tickfont\": {\"color\": \"black\", \"size\": 12}, \"title\": \"Feature Importances\"}, \"yaxis\": {\"automargin\": true}}, {\"showLink\": true, \"linkText\": \"Export to plot.ly\", \"plotlyServerURL\": \"https://plot.ly\"})});</script>"
      ]
     },
     "metadata": {},
     "output_type": "display_data"
    },
    {
     "name": "stdout",
     "output_type": "stream",
     "text": [
      "\n",
      "\n",
      "\u001b[1mGradientBoosting Classifier\u001b[0m\n",
      "Accuracy of the model for training data is: 0.942272229201\n",
      "Confusion Matrix for training data is:\n"
     ]
    },
    {
     "data": {
      "text/plain": [
       "Predicted  False  True  __all__\n",
       "Actual                         \n",
       "False      31106   786    31892\n",
       "True        1374  4151     5525\n",
       "__all__    32480  4937    37417"
      ]
     },
     "metadata": {},
     "output_type": "display_data"
    },
    {
     "name": "stdout",
     "output_type": "stream",
     "text": [
      "Accuracy of the model for test data is: 0.939491126791\n",
      "Confusion Matrix for test data is:\n"
     ]
    },
    {
     "data": {
      "text/plain": [
       "Predicted  False  True  __all__\n",
       "Actual                         \n",
       "False       7778   207     7985\n",
       "True         359  1010     1369\n",
       "__all__     8137  1217     9354"
      ]
     },
     "metadata": {},
     "output_type": "display_data"
    },
    {
     "data": {
      "application/vnd.plotly.v1+json": {
       "config": {
        "linkText": "Export to plot.ly",
        "plotlyServerURL": "https://plot.ly",
        "showLink": true
       },
       "data": [
        {
         "marker": {
          "color": "rgb(158,202,225)",
          "line": {
           "color": "rgb(8,48,107)",
           "width": 1.5
          }
         },
         "opacity": 0.6,
         "orientation": "h",
         "text": [
          0.4851,
          0.2391,
          0.1267,
          0.0772,
          0.0351,
          0.0253,
          0.0115,
          0,
          0,
          0,
          0,
          0,
          0,
          0,
          0
         ],
         "textposition": "outside",
         "type": "bar",
         "uid": "26791b26-3bd1-4c6d-b03d-fcb3af40b1b0",
         "x": [
          0.4851440112945199,
          0.23905858177187145,
          0.12666924127544774,
          0.07720104826182078,
          0.03514455471556362,
          0.025259345821284127,
          0.011523216859492397,
          0,
          0,
          0,
          0,
          0,
          0,
          0,
          0
         ],
         "y": [
          "url_char_.",
          "url_number_special_chars/url_length",
          "url_char_/",
          "url_number_digits/url_length",
          "url_char_-",
          "url_number_vowels/url_length",
          "url_number_consonants/url_length",
          "url_char_%",
          "url_char_&",
          "url_char_+",
          "url_char_:",
          "url_char_=",
          "url_char_?",
          "url_char__",
          "url_port"
         ]
        }
       ],
       "layout": {
        "autosize": false,
        "height": 1000,
        "width": 1000,
        "xaxis": {
         "tickfont": {
          "color": "black",
          "size": 12
         },
         "title": "Feature Importances"
        },
        "yaxis": {
         "automargin": true
        }
       }
      },
      "text/html": [
       "<div id=\"e5f66794-7490-4005-b8a5-76e04f3e8662\" style=\"height: 1000px; width: 1000px;\" class=\"plotly-graph-div\"></div><script type=\"text/javascript\">require([\"plotly\"], function(Plotly) { window.PLOTLYENV=window.PLOTLYENV || {};window.PLOTLYENV.BASE_URL=\"https://plot.ly\";Plotly.newPlot(\"e5f66794-7490-4005-b8a5-76e04f3e8662\", [{\"marker\": {\"color\": \"rgb(158,202,225)\", \"line\": {\"color\": \"rgb(8,48,107)\", \"width\": 1.5}}, \"opacity\": 0.6, \"orientation\": \"h\", \"text\": [0.4851, 0.2391, 0.1267, 0.0772, 0.0351, 0.0253, 0.0115, 0.0, 0.0, 0.0, 0.0, 0.0, 0.0, 0.0, 0.0], \"textposition\": \"outside\", \"x\": [0.4851440112945199, 0.23905858177187145, 0.12666924127544774, 0.07720104826182078, 0.03514455471556362, 0.025259345821284127, 0.011523216859492397, 0.0, 0.0, 0.0, 0.0, 0.0, 0.0, 0.0, 0.0], \"y\": [\"url_char_.\", \"url_number_special_chars/url_length\", \"url_char_/\", \"url_number_digits/url_length\", \"url_char_-\", \"url_number_vowels/url_length\", \"url_number_consonants/url_length\", \"url_char_%\", \"url_char_&\", \"url_char_+\", \"url_char_:\", \"url_char_=\", \"url_char_?\", \"url_char__\", \"url_port\"], \"type\": \"bar\", \"uid\": \"26791b26-3bd1-4c6d-b03d-fcb3af40b1b0\"}], {\"autosize\": false, \"height\": 1000, \"width\": 1000, \"xaxis\": {\"tickfont\": {\"color\": \"black\", \"size\": 12}, \"title\": \"Feature Importances\"}, \"yaxis\": {\"automargin\": true}}, {\"showLink\": true, \"linkText\": \"Export to plot.ly\", \"plotlyServerURL\": \"https://plot.ly\"})});</script>"
      ],
      "text/vnd.plotly.v1+html": [
       "<div id=\"e5f66794-7490-4005-b8a5-76e04f3e8662\" style=\"height: 1000px; width: 1000px;\" class=\"plotly-graph-div\"></div><script type=\"text/javascript\">require([\"plotly\"], function(Plotly) { window.PLOTLYENV=window.PLOTLYENV || {};window.PLOTLYENV.BASE_URL=\"https://plot.ly\";Plotly.newPlot(\"e5f66794-7490-4005-b8a5-76e04f3e8662\", [{\"marker\": {\"color\": \"rgb(158,202,225)\", \"line\": {\"color\": \"rgb(8,48,107)\", \"width\": 1.5}}, \"opacity\": 0.6, \"orientation\": \"h\", \"text\": [0.4851, 0.2391, 0.1267, 0.0772, 0.0351, 0.0253, 0.0115, 0.0, 0.0, 0.0, 0.0, 0.0, 0.0, 0.0, 0.0], \"textposition\": \"outside\", \"x\": [0.4851440112945199, 0.23905858177187145, 0.12666924127544774, 0.07720104826182078, 0.03514455471556362, 0.025259345821284127, 0.011523216859492397, 0.0, 0.0, 0.0, 0.0, 0.0, 0.0, 0.0, 0.0], \"y\": [\"url_char_.\", \"url_number_special_chars/url_length\", \"url_char_/\", \"url_number_digits/url_length\", \"url_char_-\", \"url_number_vowels/url_length\", \"url_number_consonants/url_length\", \"url_char_%\", \"url_char_&\", \"url_char_+\", \"url_char_:\", \"url_char_=\", \"url_char_?\", \"url_char__\", \"url_port\"], \"type\": \"bar\", \"uid\": \"26791b26-3bd1-4c6d-b03d-fcb3af40b1b0\"}], {\"autosize\": false, \"height\": 1000, \"width\": 1000, \"xaxis\": {\"tickfont\": {\"color\": \"black\", \"size\": 12}, \"title\": \"Feature Importances\"}, \"yaxis\": {\"automargin\": true}}, {\"showLink\": true, \"linkText\": \"Export to plot.ly\", \"plotlyServerURL\": \"https://plot.ly\"})});</script>"
      ]
     },
     "metadata": {},
     "output_type": "display_data"
    },
    {
     "name": "stdout",
     "output_type": "stream",
     "text": [
      "\n",
      "\n",
      "\u001b[1mExtraTree Classifier\u001b[0m\n",
      "Accuracy of the model for training data is: 0.947430312425\n",
      "Confusion Matrix for training data is:\n"
     ]
    },
    {
     "data": {
      "text/plain": [
       "Predicted  False  True  __all__\n",
       "Actual                         \n",
       "False      31200   692    31892\n",
       "True        1275  4250     5525\n",
       "__all__    32475  4942    37417"
      ]
     },
     "metadata": {},
     "output_type": "display_data"
    },
    {
     "name": "stdout",
     "output_type": "stream",
     "text": [
      "Accuracy of the model for test data is: 0.939384220654\n",
      "Confusion Matrix for test data is:\n"
     ]
    },
    {
     "data": {
      "text/plain": [
       "Predicted  False  True  __all__\n",
       "Actual                         \n",
       "False       7770   215     7985\n",
       "True         352  1017     1369\n",
       "__all__     8122  1232     9354"
      ]
     },
     "metadata": {},
     "output_type": "display_data"
    },
    {
     "data": {
      "application/vnd.plotly.v1+json": {
       "config": {
        "linkText": "Export to plot.ly",
        "plotlyServerURL": "https://plot.ly",
        "showLink": true
       },
       "data": [
        {
         "marker": {
          "color": "rgb(158,202,225)",
          "line": {
           "color": "rgb(8,48,107)",
           "width": 1.5
          }
         },
         "opacity": 0.6,
         "orientation": "h",
         "text": [
          0.4344,
          0.1469,
          0.1267,
          0.0863,
          0.0729,
          0.0709,
          0.0483,
          0.0048,
          0.0045,
          0.0012,
          0.0009,
          0.0009,
          0.0009,
          0.0003,
          0.0002
         ],
         "textposition": "outside",
         "type": "bar",
         "uid": "5de8e104-289f-42d2-844f-0b9d3f34d929",
         "x": [
          0.43439180763404794,
          0.1468607377781447,
          0.12666427852044826,
          0.08629145421871318,
          0.07292530746815344,
          0.07093438691008677,
          0.04828318656072907,
          0.004793753244570485,
          0.004459874820635293,
          0.0012004937409318313,
          0.0009285292377135097,
          0.0008776734572829134,
          0.0008645629572497117,
          0.0002854439027410134,
          0.0002385095485519941
         ],
         "y": [
          "url_char_.",
          "url_number_special_chars/url_length",
          "url_char_/",
          "url_number_digits/url_length",
          "url_number_vowels/url_length",
          "url_number_consonants/url_length",
          "url_char_-",
          "url_char_?",
          "url_port",
          "url_char_=",
          "url_char__",
          "url_char_:",
          "url_char_+",
          "url_char_&",
          "url_char_%"
         ]
        }
       ],
       "layout": {
        "autosize": false,
        "height": 1000,
        "width": 1000,
        "xaxis": {
         "tickfont": {
          "color": "black",
          "size": 12
         },
         "title": "Feature Importances"
        },
        "yaxis": {
         "automargin": true
        }
       }
      },
      "text/html": [
       "<div id=\"b4fe163d-f24b-4c83-b7ff-aeac2efbf2a3\" style=\"height: 1000px; width: 1000px;\" class=\"plotly-graph-div\"></div><script type=\"text/javascript\">require([\"plotly\"], function(Plotly) { window.PLOTLYENV=window.PLOTLYENV || {};window.PLOTLYENV.BASE_URL=\"https://plot.ly\";Plotly.newPlot(\"b4fe163d-f24b-4c83-b7ff-aeac2efbf2a3\", [{\"marker\": {\"color\": \"rgb(158,202,225)\", \"line\": {\"color\": \"rgb(8,48,107)\", \"width\": 1.5}}, \"opacity\": 0.6, \"orientation\": \"h\", \"text\": [0.4344, 0.1469, 0.1267, 0.0863, 0.0729, 0.0709, 0.0483, 0.0048, 0.0045, 0.0012, 0.0009, 0.0009, 0.0009, 0.0003, 0.0002], \"textposition\": \"outside\", \"x\": [0.43439180763404794, 0.1468607377781447, 0.12666427852044826, 0.08629145421871318, 0.07292530746815344, 0.07093438691008677, 0.04828318656072907, 0.004793753244570485, 0.004459874820635293, 0.0012004937409318313, 0.0009285292377135097, 0.0008776734572829134, 0.0008645629572497117, 0.0002854439027410134, 0.0002385095485519941], \"y\": [\"url_char_.\", \"url_number_special_chars/url_length\", \"url_char_/\", \"url_number_digits/url_length\", \"url_number_vowels/url_length\", \"url_number_consonants/url_length\", \"url_char_-\", \"url_char_?\", \"url_port\", \"url_char_=\", \"url_char__\", \"url_char_:\", \"url_char_+\", \"url_char_&\", \"url_char_%\"], \"type\": \"bar\", \"uid\": \"5de8e104-289f-42d2-844f-0b9d3f34d929\"}], {\"autosize\": false, \"height\": 1000, \"width\": 1000, \"xaxis\": {\"tickfont\": {\"color\": \"black\", \"size\": 12}, \"title\": \"Feature Importances\"}, \"yaxis\": {\"automargin\": true}}, {\"showLink\": true, \"linkText\": \"Export to plot.ly\", \"plotlyServerURL\": \"https://plot.ly\"})});</script>"
      ],
      "text/vnd.plotly.v1+html": [
       "<div id=\"b4fe163d-f24b-4c83-b7ff-aeac2efbf2a3\" style=\"height: 1000px; width: 1000px;\" class=\"plotly-graph-div\"></div><script type=\"text/javascript\">require([\"plotly\"], function(Plotly) { window.PLOTLYENV=window.PLOTLYENV || {};window.PLOTLYENV.BASE_URL=\"https://plot.ly\";Plotly.newPlot(\"b4fe163d-f24b-4c83-b7ff-aeac2efbf2a3\", [{\"marker\": {\"color\": \"rgb(158,202,225)\", \"line\": {\"color\": \"rgb(8,48,107)\", \"width\": 1.5}}, \"opacity\": 0.6, \"orientation\": \"h\", \"text\": [0.4344, 0.1469, 0.1267, 0.0863, 0.0729, 0.0709, 0.0483, 0.0048, 0.0045, 0.0012, 0.0009, 0.0009, 0.0009, 0.0003, 0.0002], \"textposition\": \"outside\", \"x\": [0.43439180763404794, 0.1468607377781447, 0.12666427852044826, 0.08629145421871318, 0.07292530746815344, 0.07093438691008677, 0.04828318656072907, 0.004793753244570485, 0.004459874820635293, 0.0012004937409318313, 0.0009285292377135097, 0.0008776734572829134, 0.0008645629572497117, 0.0002854439027410134, 0.0002385095485519941], \"y\": [\"url_char_.\", \"url_number_special_chars/url_length\", \"url_char_/\", \"url_number_digits/url_length\", \"url_number_vowels/url_length\", \"url_number_consonants/url_length\", \"url_char_-\", \"url_char_?\", \"url_port\", \"url_char_=\", \"url_char__\", \"url_char_:\", \"url_char_+\", \"url_char_&\", \"url_char_%\"], \"type\": \"bar\", \"uid\": \"5de8e104-289f-42d2-844f-0b9d3f34d929\"}], {\"autosize\": false, \"height\": 1000, \"width\": 1000, \"xaxis\": {\"tickfont\": {\"color\": \"black\", \"size\": 12}, \"title\": \"Feature Importances\"}, \"yaxis\": {\"automargin\": true}}, {\"showLink\": true, \"linkText\": \"Export to plot.ly\", \"plotlyServerURL\": \"https://plot.ly\"})});</script>"
      ]
     },
     "metadata": {},
     "output_type": "display_data"
    },
    {
     "name": "stdout",
     "output_type": "stream",
     "text": [
      "\n",
      "\n",
      "\u001b[1mBagging Classifier\u001b[0m\n",
      "Accuracy of the model for training data is: 0.947082876767\n",
      "Confusion Matrix for training data is:\n"
     ]
    },
    {
     "data": {
      "text/plain": [
       "Predicted  False  True  __all__\n",
       "Actual                         \n",
       "False      31181   711    31892\n",
       "True        1269  4256     5525\n",
       "__all__    32450  4967    37417"
      ]
     },
     "metadata": {},
     "output_type": "display_data"
    },
    {
     "name": "stdout",
     "output_type": "stream",
     "text": [
      "Accuracy of the model for test data is: 0.939063502245\n",
      "Confusion Matrix for test data is:\n"
     ]
    },
    {
     "data": {
      "text/plain": [
       "Predicted  False  True  __all__\n",
       "Actual                         \n",
       "False       7766   219     7985\n",
       "True         351  1018     1369\n",
       "__all__     8117  1237     9354"
      ]
     },
     "metadata": {},
     "output_type": "display_data"
    },
    {
     "name": "stdout",
     "output_type": "stream",
     "text": [
      "\n",
      "\n",
      "\u001b[1mNeural Network-1\u001b[0m\n",
      "The accuracy of the model on training data is: 0.94286019724\n"
     ]
    },
    {
     "data": {
      "text/plain": [
       "Predicted  False  True  __all__\n",
       "Actual                         \n",
       "False      31113   779    31892\n",
       "True        1359  4166     5525\n",
       "__all__    32472  4945    37417"
      ]
     },
     "metadata": {},
     "output_type": "display_data"
    },
    {
     "name": "stdout",
     "output_type": "stream",
     "text": [
      "The accuracy of the model on test data is: 0.938742783836\n"
     ]
    },
    {
     "data": {
      "text/plain": [
       "Predicted  False  True  __all__\n",
       "Actual                         \n",
       "False       7772   213     7985\n",
       "True         360  1009     1369\n",
       "__all__     8132  1222     9354"
      ]
     },
     "metadata": {},
     "output_type": "display_data"
    },
    {
     "name": "stdout",
     "output_type": "stream",
     "text": [
      "\n",
      "\n"
     ]
    }
   ],
   "source": [
    "feat_imp=[None]*4\n",
    "j=0\n",
    "for i in range(0,8):\n",
    "    if i>=2 and i<=5:\n",
    "        model,cm_train,cm_test,acc_train,acc_test,roc_auc,feat_imp[j],mcc=f[i](scaled_X_train,train_Y,scaled_X_test,test_Y,columns)\n",
    "        j=j+1\n",
    "    else:\n",
    "        model,cm_train,cm_test,acc_train,acc_test,roc_auc,mcc=f[i](scaled_X_train,train_Y,scaled_X_test,test_Y)\n",
    "    table_80_50_train.loc[i]=   ([acc_train,cm_train.TP,cm_train.TN,cm_train.FP,cm_train.FN,cm_train.FPR,cm_train.FNR])\n",
    "    table_80_50_test.loc[i] =   ([acc_test ,cm_test.TP, cm_test.TN, cm_test.FP, cm_test.FN, cm_test.FPR, cm_test.FNR,roc_auc,mcc])\n",
    "    print(\"\\n\")"
   ]
  },
  {
   "cell_type": "markdown",
   "metadata": {},
   "source": [
    "### <a id='1.A' style=\"text-decoration : none; color : #000000;\"> A Results</a>"
   ]
  },
  {
   "cell_type": "code",
   "execution_count": 18,
   "metadata": {},
   "outputs": [
    {
     "data": {
      "application/vnd.plotly.v1+json": {
       "config": {
        "linkText": "Export to plot.ly",
        "plotlyServerURL": "https://plot.ly",
        "showLink": true
       },
       "data": [
        {
         "mode": "lines",
         "name": "KNN_model",
         "type": "scatter",
         "uid": "e70ef6a5-cc64-43b8-9b6c-2f0029f2ede1",
         "x": [
          "accuracy",
          "FPR",
          "FNR",
          "auc"
         ],
         "y": [
          0.9306179174684627,
          0.026424546023794616,
          0.31994156318480643,
          0.8268169453956995
         ]
        },
        {
         "mode": "lines+markers",
         "name": "Logistic Regression",
         "type": "scatter",
         "uid": "4064fa69-0954-45d3-be0f-7883ac4f2c48",
         "x": [
          "accuracy",
          "FPR",
          "FNR",
          "auc"
         ],
         "y": [
          0.9320076972418216,
          0.021916092673763307,
          0.33674214755295834,
          0.8206708798866392
         ]
        },
        {
         "marker": {
          "symbol": "x"
         },
         "mode": "lines+markers",
         "name": "Random Forest",
         "type": "scatter",
         "uid": "063d066f-8046-402f-b77f-8cbdf3d767b2",
         "x": [
          "accuracy",
          "FPR",
          "FNR",
          "auc"
         ],
         "y": [
          0.9393842206542655,
          0.026424546023794616,
          0.26004382761139516,
          0.8567658131824051
         ]
        },
        {
         "mode": "lines",
         "name": "Ada Boost",
         "type": "scatter",
         "uid": "163c29aa-5581-4e98-9481-d6477bbd71ad",
         "x": [
          "accuracy",
          "FPR",
          "FNR",
          "auc"
         ],
         "y": [
          0.9373530040624332,
          0.01916092673763306,
          0.3162892622352082,
          0.8322749055135794
         ]
        },
        {
         "mode": "lines+markers",
         "name": "GradientBoosting",
         "type": "scatter",
         "uid": "6c61f48f-e90b-4c28-b0d0-b02320ed72d7",
         "x": [
          "accuracy",
          "FPR",
          "FNR",
          "auc"
         ],
         "y": [
          0.9394911267906778,
          0.025923606762680025,
          0.26223520818115414,
          0.855920592528083
         ]
        },
        {
         "marker": {
          "symbol": "x"
         },
         "mode": "lines+markers",
         "name": "ExtraTree Classifier",
         "type": "scatter",
         "uid": "54eca213-d3b2-4c7e-a7d9-60dedb4b2093",
         "x": [
          "accuracy",
          "FPR",
          "FNR",
          "auc"
         ],
         "y": [
          0.9393842206542655,
          0.026925485284909206,
          0.25712198685171656,
          0.857976263931687
         ]
        },
        {
         "marker": {
          "symbol": "x"
         },
         "mode": "lines+markers",
         "name": "Bagging",
         "type": "scatter",
         "uid": "6f51e63a-67d5-4344-a8f3-d83f99cd5502",
         "x": [
          "accuracy",
          "FPR",
          "FNR",
          "auc"
         ],
         "y": [
          0.9390635022450289,
          0.027426424546023793,
          0.25639152666179693,
          0.8580910243960895
         ]
        },
        {
         "marker": {
          "symbol": "x"
         },
         "mode": "lines+markers",
         "name": "Neural Network",
         "type": "scatter",
         "uid": "de6e23bd-afc6-480b-8935-d9ad75af6705",
         "x": [
          "accuracy",
          "FPR",
          "FNR",
          "auc"
         ],
         "y": [
          0.9387427838357921,
          0.02667501565435191,
          0.26296566837107377,
          0.8580910243960895
         ]
        }
       ],
       "layout": {
        "title": "Result comparision for Features selected in Section 1",
        "yaxis": {
         "dtick": 0.05,
         "tick0": 0
        }
       }
      },
      "text/html": [
       "<div id=\"0a3d5e48-8fdb-4c72-bbf8-6ea2ee2768f0\" style=\"height: 525px; width: 100%;\" class=\"plotly-graph-div\"></div><script type=\"text/javascript\">require([\"plotly\"], function(Plotly) { window.PLOTLYENV=window.PLOTLYENV || {};window.PLOTLYENV.BASE_URL=\"https://plot.ly\";Plotly.newPlot(\"0a3d5e48-8fdb-4c72-bbf8-6ea2ee2768f0\", [{\"mode\": \"lines\", \"name\": \"KNN_model\", \"x\": [\"accuracy\", \"FPR\", \"FNR\", \"auc\"], \"y\": [0.9306179174684627, 0.026424546023794616, 0.31994156318480643, 0.8268169453956995], \"type\": \"scatter\", \"uid\": \"e70ef6a5-cc64-43b8-9b6c-2f0029f2ede1\"}, {\"mode\": \"lines+markers\", \"name\": \"Logistic Regression\", \"x\": [\"accuracy\", \"FPR\", \"FNR\", \"auc\"], \"y\": [0.9320076972418216, 0.021916092673763307, 0.33674214755295834, 0.8206708798866392], \"type\": \"scatter\", \"uid\": \"4064fa69-0954-45d3-be0f-7883ac4f2c48\"}, {\"marker\": {\"symbol\": \"x\"}, \"mode\": \"lines+markers\", \"name\": \"Random Forest\", \"x\": [\"accuracy\", \"FPR\", \"FNR\", \"auc\"], \"y\": [0.9393842206542655, 0.026424546023794616, 0.26004382761139516, 0.8567658131824051], \"type\": \"scatter\", \"uid\": \"063d066f-8046-402f-b77f-8cbdf3d767b2\"}, {\"mode\": \"lines\", \"name\": \"Ada Boost\", \"x\": [\"accuracy\", \"FPR\", \"FNR\", \"auc\"], \"y\": [0.9373530040624332, 0.01916092673763306, 0.3162892622352082, 0.8322749055135794], \"type\": \"scatter\", \"uid\": \"163c29aa-5581-4e98-9481-d6477bbd71ad\"}, {\"mode\": \"lines+markers\", \"name\": \"GradientBoosting\", \"x\": [\"accuracy\", \"FPR\", \"FNR\", \"auc\"], \"y\": [0.9394911267906778, 0.025923606762680025, 0.26223520818115414, 0.855920592528083], \"type\": \"scatter\", \"uid\": \"6c61f48f-e90b-4c28-b0d0-b02320ed72d7\"}, {\"marker\": {\"symbol\": \"x\"}, \"mode\": \"lines+markers\", \"name\": \"ExtraTree Classifier\", \"x\": [\"accuracy\", \"FPR\", \"FNR\", \"auc\"], \"y\": [0.9393842206542655, 0.026925485284909206, 0.25712198685171656, 0.857976263931687], \"type\": \"scatter\", \"uid\": \"54eca213-d3b2-4c7e-a7d9-60dedb4b2093\"}, {\"marker\": {\"symbol\": \"x\"}, \"mode\": \"lines+markers\", \"name\": \"Bagging\", \"x\": [\"accuracy\", \"FPR\", \"FNR\", \"auc\"], \"y\": [0.9390635022450289, 0.027426424546023793, 0.25639152666179693, 0.8580910243960895], \"type\": \"scatter\", \"uid\": \"6f51e63a-67d5-4344-a8f3-d83f99cd5502\"}, {\"marker\": {\"symbol\": \"x\"}, \"mode\": \"lines+markers\", \"name\": \"Neural Network\", \"x\": [\"accuracy\", \"FPR\", \"FNR\", \"auc\"], \"y\": [0.9387427838357921, 0.02667501565435191, 0.26296566837107377, 0.8580910243960895], \"type\": \"scatter\", \"uid\": \"de6e23bd-afc6-480b-8935-d9ad75af6705\"}], {\"title\": \"Result comparision for Features selected in Section 1\", \"yaxis\": {\"dtick\": 0.05, \"tick0\": 0}}, {\"showLink\": true, \"linkText\": \"Export to plot.ly\", \"plotlyServerURL\": \"https://plot.ly\"})});</script><script type=\"text/javascript\">window.addEventListener(\"resize\", function(){window._Plotly.Plots.resize(document.getElementById(\"0a3d5e48-8fdb-4c72-bbf8-6ea2ee2768f0\"));});</script>"
      ],
      "text/vnd.plotly.v1+html": [
       "<div id=\"0a3d5e48-8fdb-4c72-bbf8-6ea2ee2768f0\" style=\"height: 525px; width: 100%;\" class=\"plotly-graph-div\"></div><script type=\"text/javascript\">require([\"plotly\"], function(Plotly) { window.PLOTLYENV=window.PLOTLYENV || {};window.PLOTLYENV.BASE_URL=\"https://plot.ly\";Plotly.newPlot(\"0a3d5e48-8fdb-4c72-bbf8-6ea2ee2768f0\", [{\"mode\": \"lines\", \"name\": \"KNN_model\", \"x\": [\"accuracy\", \"FPR\", \"FNR\", \"auc\"], \"y\": [0.9306179174684627, 0.026424546023794616, 0.31994156318480643, 0.8268169453956995], \"type\": \"scatter\", \"uid\": \"e70ef6a5-cc64-43b8-9b6c-2f0029f2ede1\"}, {\"mode\": \"lines+markers\", \"name\": \"Logistic Regression\", \"x\": [\"accuracy\", \"FPR\", \"FNR\", \"auc\"], \"y\": [0.9320076972418216, 0.021916092673763307, 0.33674214755295834, 0.8206708798866392], \"type\": \"scatter\", \"uid\": \"4064fa69-0954-45d3-be0f-7883ac4f2c48\"}, {\"marker\": {\"symbol\": \"x\"}, \"mode\": \"lines+markers\", \"name\": \"Random Forest\", \"x\": [\"accuracy\", \"FPR\", \"FNR\", \"auc\"], \"y\": [0.9393842206542655, 0.026424546023794616, 0.26004382761139516, 0.8567658131824051], \"type\": \"scatter\", \"uid\": \"063d066f-8046-402f-b77f-8cbdf3d767b2\"}, {\"mode\": \"lines\", \"name\": \"Ada Boost\", \"x\": [\"accuracy\", \"FPR\", \"FNR\", \"auc\"], \"y\": [0.9373530040624332, 0.01916092673763306, 0.3162892622352082, 0.8322749055135794], \"type\": \"scatter\", \"uid\": \"163c29aa-5581-4e98-9481-d6477bbd71ad\"}, {\"mode\": \"lines+markers\", \"name\": \"GradientBoosting\", \"x\": [\"accuracy\", \"FPR\", \"FNR\", \"auc\"], \"y\": [0.9394911267906778, 0.025923606762680025, 0.26223520818115414, 0.855920592528083], \"type\": \"scatter\", \"uid\": \"6c61f48f-e90b-4c28-b0d0-b02320ed72d7\"}, {\"marker\": {\"symbol\": \"x\"}, \"mode\": \"lines+markers\", \"name\": \"ExtraTree Classifier\", \"x\": [\"accuracy\", \"FPR\", \"FNR\", \"auc\"], \"y\": [0.9393842206542655, 0.026925485284909206, 0.25712198685171656, 0.857976263931687], \"type\": \"scatter\", \"uid\": \"54eca213-d3b2-4c7e-a7d9-60dedb4b2093\"}, {\"marker\": {\"symbol\": \"x\"}, \"mode\": \"lines+markers\", \"name\": \"Bagging\", \"x\": [\"accuracy\", \"FPR\", \"FNR\", \"auc\"], \"y\": [0.9390635022450289, 0.027426424546023793, 0.25639152666179693, 0.8580910243960895], \"type\": \"scatter\", \"uid\": \"6f51e63a-67d5-4344-a8f3-d83f99cd5502\"}, {\"marker\": {\"symbol\": \"x\"}, \"mode\": \"lines+markers\", \"name\": \"Neural Network\", \"x\": [\"accuracy\", \"FPR\", \"FNR\", \"auc\"], \"y\": [0.9387427838357921, 0.02667501565435191, 0.26296566837107377, 0.8580910243960895], \"type\": \"scatter\", \"uid\": \"de6e23bd-afc6-480b-8935-d9ad75af6705\"}], {\"title\": \"Result comparision for Features selected in Section 1\", \"yaxis\": {\"dtick\": 0.05, \"tick0\": 0}}, {\"showLink\": true, \"linkText\": \"Export to plot.ly\", \"plotlyServerURL\": \"https://plot.ly\"})});</script><script type=\"text/javascript\">window.addEventListener(\"resize\", function(){window._Plotly.Plots.resize(document.getElementById(\"0a3d5e48-8fdb-4c72-bbf8-6ea2ee2768f0\"));});</script>"
      ]
     },
     "metadata": {},
     "output_type": "display_data"
    }
   ],
   "source": [
    "trace0 = go.Scatter(x=table_80_50_test.iloc[0].index.values[[0,5,6,7]],\n",
    "                    y=table_80_50_test.iloc[0].values[[0,5,6,7]],\n",
    "                    mode = 'lines',\n",
    "                    name = 'KNN_model')\n",
    "\n",
    "trace1 = go.Scatter(x=table_80_50_test.iloc[1].index.values[[0,5,6,7]],\n",
    "                    y=table_80_50_test.iloc[1].values[[0,5,6,7]],\n",
    "                    mode = 'lines+markers',\n",
    "                    name = 'Logistic Regression')\n",
    "\n",
    "trace2 = go.Scatter(x=table_80_50_test.iloc[2].index.values[[0,5,6,7]],\n",
    "                    y=table_80_50_test.iloc[2].values[[0,5,6,7]],\n",
    "                    mode = 'lines+markers',marker=dict(symbol='x'),\n",
    "                    name = 'Random Forest')\n",
    "\n",
    "\n",
    "trace3 = go.Scatter(x=table_80_50_test.iloc[3].index.values[[0,5,6,7]],\n",
    "                    y=table_80_50_test.iloc[3].values[[0,5,6,7]],\n",
    "                    mode = 'lines',\n",
    "                    name = 'Ada Boost')\n",
    "\n",
    "trace4 = go.Scatter(x=table_80_50_test.iloc[4].index.values[[0,5,6,7]],\n",
    "                    y=table_80_50_test.iloc[4].values[[0,5,6,7]],\n",
    "                    mode = 'lines+markers',\n",
    "                    name = 'GradientBoosting')\n",
    "\n",
    "trace5 = go.Scatter(x=table_80_50_test.iloc[5].index.values[[0,5,6,7]],\n",
    "                    y=table_80_50_test.iloc[5].values[[0,5,6,7]],\n",
    "                    mode = 'lines+markers',marker=dict(symbol='x'),\n",
    "                    name = 'ExtraTree Classifier')\n",
    "\n",
    "trace6 = go.Scatter(x=table_80_50_test.iloc[6].index.values[[0,5,6,7]],\n",
    "                    y=table_80_50_test.iloc[6].values[[0,5,6,7]],\n",
    "                    mode = 'lines+markers',marker=dict(symbol='x'),\n",
    "                    name = 'Bagging')\n",
    "\n",
    "trace7 = go.Scatter(x=table_80_50_test.iloc[7].index.values[[0,5,6,7]],\n",
    "                    y=table_80_50_test.iloc[7].values[[0,5,6,7]],\n",
    "                    mode = 'lines+markers',marker=dict(symbol='x'),\n",
    "                    name = 'Neural Network')\n",
    "\n",
    "\n",
    "\n",
    "data = [trace0, trace1, trace2, trace3, trace4, trace5, trace6, trace7]\n",
    "layout = go.Layout(yaxis=dict(tick0=0,dtick=0.05),title='Result comparision for Features selected in Section 1')\n",
    "fig = go.Figure(data=data, layout=layout)\n",
    "\n",
    "iplot(fig, filename='Result')"
   ]
  },
  {
   "cell_type": "code",
   "execution_count": 19,
   "metadata": {},
   "outputs": [
    {
     "name": "stdout",
     "output_type": "stream",
     "text": [
      "Training Results\n"
     ]
    },
    {
     "data": {
      "text/html": [
       "<div>\n",
       "<style scoped>\n",
       "    .dataframe tbody tr th:only-of-type {\n",
       "        vertical-align: middle;\n",
       "    }\n",
       "\n",
       "    .dataframe tbody tr th {\n",
       "        vertical-align: top;\n",
       "    }\n",
       "\n",
       "    .dataframe thead th {\n",
       "        text-align: right;\n",
       "    }\n",
       "</style>\n",
       "<table border=\"1\" class=\"dataframe\">\n",
       "  <thead>\n",
       "    <tr style=\"text-align: right;\">\n",
       "      <th></th>\n",
       "      <th>accuracy</th>\n",
       "      <th>TP</th>\n",
       "      <th>TN</th>\n",
       "      <th>FP</th>\n",
       "      <th>FN</th>\n",
       "      <th>FPR</th>\n",
       "      <th>FNR</th>\n",
       "    </tr>\n",
       "    <tr>\n",
       "      <th>index</th>\n",
       "      <th></th>\n",
       "      <th></th>\n",
       "      <th></th>\n",
       "      <th></th>\n",
       "      <th></th>\n",
       "      <th></th>\n",
       "      <th></th>\n",
       "    </tr>\n",
       "  </thead>\n",
       "  <tbody>\n",
       "    <tr>\n",
       "      <th>KNeighborsClassifier</th>\n",
       "      <td>0.937969</td>\n",
       "      <td>3933.0</td>\n",
       "      <td>31163.0</td>\n",
       "      <td>729.0</td>\n",
       "      <td>1592.0</td>\n",
       "      <td>0.022858</td>\n",
       "      <td>0.288145</td>\n",
       "    </tr>\n",
       "    <tr>\n",
       "      <th>LogisticRegression</th>\n",
       "      <td>0.935724</td>\n",
       "      <td>3784.0</td>\n",
       "      <td>31228.0</td>\n",
       "      <td>664.0</td>\n",
       "      <td>1741.0</td>\n",
       "      <td>0.020820</td>\n",
       "      <td>0.315113</td>\n",
       "    </tr>\n",
       "    <tr>\n",
       "      <th>RandomForestClassifier</th>\n",
       "      <td>0.946949</td>\n",
       "      <td>4236.0</td>\n",
       "      <td>31196.0</td>\n",
       "      <td>696.0</td>\n",
       "      <td>1289.0</td>\n",
       "      <td>0.021824</td>\n",
       "      <td>0.233303</td>\n",
       "    </tr>\n",
       "    <tr>\n",
       "      <th>AdaBoostClassifier</th>\n",
       "      <td>0.936820</td>\n",
       "      <td>3762.0</td>\n",
       "      <td>31291.0</td>\n",
       "      <td>601.0</td>\n",
       "      <td>1763.0</td>\n",
       "      <td>0.018845</td>\n",
       "      <td>0.319095</td>\n",
       "    </tr>\n",
       "    <tr>\n",
       "      <th>GradientBoostingClassifier</th>\n",
       "      <td>0.942272</td>\n",
       "      <td>4151.0</td>\n",
       "      <td>31106.0</td>\n",
       "      <td>786.0</td>\n",
       "      <td>1374.0</td>\n",
       "      <td>0.024646</td>\n",
       "      <td>0.248688</td>\n",
       "    </tr>\n",
       "    <tr>\n",
       "      <th>ExtraTreeClassifier</th>\n",
       "      <td>0.947430</td>\n",
       "      <td>4250.0</td>\n",
       "      <td>31200.0</td>\n",
       "      <td>692.0</td>\n",
       "      <td>1275.0</td>\n",
       "      <td>0.021698</td>\n",
       "      <td>0.230769</td>\n",
       "    </tr>\n",
       "    <tr>\n",
       "      <th>BaggingClassifier</th>\n",
       "      <td>0.947083</td>\n",
       "      <td>4256.0</td>\n",
       "      <td>31181.0</td>\n",
       "      <td>711.0</td>\n",
       "      <td>1269.0</td>\n",
       "      <td>0.022294</td>\n",
       "      <td>0.229683</td>\n",
       "    </tr>\n",
       "    <tr>\n",
       "      <th>Neural Network-1</th>\n",
       "      <td>0.942860</td>\n",
       "      <td>4166.0</td>\n",
       "      <td>31113.0</td>\n",
       "      <td>779.0</td>\n",
       "      <td>1359.0</td>\n",
       "      <td>0.024426</td>\n",
       "      <td>0.245973</td>\n",
       "    </tr>\n",
       "  </tbody>\n",
       "</table>\n",
       "</div>"
      ],
      "text/plain": [
       "                            accuracy      TP       TN     FP      FN  \\\n",
       "index                                                                  \n",
       "KNeighborsClassifier        0.937969  3933.0  31163.0  729.0  1592.0   \n",
       "LogisticRegression          0.935724  3784.0  31228.0  664.0  1741.0   \n",
       "RandomForestClassifier      0.946949  4236.0  31196.0  696.0  1289.0   \n",
       "AdaBoostClassifier          0.936820  3762.0  31291.0  601.0  1763.0   \n",
       "GradientBoostingClassifier  0.942272  4151.0  31106.0  786.0  1374.0   \n",
       "ExtraTreeClassifier         0.947430  4250.0  31200.0  692.0  1275.0   \n",
       "BaggingClassifier           0.947083  4256.0  31181.0  711.0  1269.0   \n",
       "Neural Network-1            0.942860  4166.0  31113.0  779.0  1359.0   \n",
       "\n",
       "                                 FPR       FNR  \n",
       "index                                           \n",
       "KNeighborsClassifier        0.022858  0.288145  \n",
       "LogisticRegression          0.020820  0.315113  \n",
       "RandomForestClassifier      0.021824  0.233303  \n",
       "AdaBoostClassifier          0.018845  0.319095  \n",
       "GradientBoostingClassifier  0.024646  0.248688  \n",
       "ExtraTreeClassifier         0.021698  0.230769  \n",
       "BaggingClassifier           0.022294  0.229683  \n",
       "Neural Network-1            0.024426  0.245973  "
      ]
     },
     "metadata": {},
     "output_type": "display_data"
    },
    {
     "name": "stdout",
     "output_type": "stream",
     "text": [
      "Test Results\n"
     ]
    },
    {
     "data": {
      "text/html": [
       "<div>\n",
       "<style scoped>\n",
       "    .dataframe tbody tr th:only-of-type {\n",
       "        vertical-align: middle;\n",
       "    }\n",
       "\n",
       "    .dataframe tbody tr th {\n",
       "        vertical-align: top;\n",
       "    }\n",
       "\n",
       "    .dataframe thead th {\n",
       "        text-align: right;\n",
       "    }\n",
       "</style>\n",
       "<table border=\"1\" class=\"dataframe\">\n",
       "  <thead>\n",
       "    <tr style=\"text-align: right;\">\n",
       "      <th></th>\n",
       "      <th>accuracy</th>\n",
       "      <th>TP</th>\n",
       "      <th>TN</th>\n",
       "      <th>FP</th>\n",
       "      <th>FN</th>\n",
       "      <th>FPR</th>\n",
       "      <th>FNR</th>\n",
       "      <th>auc</th>\n",
       "      <th>MCC</th>\n",
       "    </tr>\n",
       "    <tr>\n",
       "      <th>index</th>\n",
       "      <th></th>\n",
       "      <th></th>\n",
       "      <th></th>\n",
       "      <th></th>\n",
       "      <th></th>\n",
       "      <th></th>\n",
       "      <th></th>\n",
       "      <th></th>\n",
       "      <th></th>\n",
       "    </tr>\n",
       "  </thead>\n",
       "  <tbody>\n",
       "    <tr>\n",
       "      <th>KNeighborsClassifier</th>\n",
       "      <td>0.930618</td>\n",
       "      <td>931.0</td>\n",
       "      <td>7774.0</td>\n",
       "      <td>211.0</td>\n",
       "      <td>438.0</td>\n",
       "      <td>0.026425</td>\n",
       "      <td>0.319942</td>\n",
       "      <td>0.826817</td>\n",
       "      <td>0.705694</td>\n",
       "    </tr>\n",
       "    <tr>\n",
       "      <th>LogisticRegression</th>\n",
       "      <td>0.932008</td>\n",
       "      <td>908.0</td>\n",
       "      <td>7810.0</td>\n",
       "      <td>175.0</td>\n",
       "      <td>461.0</td>\n",
       "      <td>0.021916</td>\n",
       "      <td>0.336742</td>\n",
       "      <td>0.820671</td>\n",
       "      <td>0.708493</td>\n",
       "    </tr>\n",
       "    <tr>\n",
       "      <th>RandomForestClassifier</th>\n",
       "      <td>0.939384</td>\n",
       "      <td>1013.0</td>\n",
       "      <td>7774.0</td>\n",
       "      <td>211.0</td>\n",
       "      <td>356.0</td>\n",
       "      <td>0.026425</td>\n",
       "      <td>0.260044</td>\n",
       "      <td>0.856766</td>\n",
       "      <td>0.747853</td>\n",
       "    </tr>\n",
       "    <tr>\n",
       "      <th>AdaBoostClassifier</th>\n",
       "      <td>0.937353</td>\n",
       "      <td>936.0</td>\n",
       "      <td>7832.0</td>\n",
       "      <td>153.0</td>\n",
       "      <td>433.0</td>\n",
       "      <td>0.019161</td>\n",
       "      <td>0.316289</td>\n",
       "      <td>0.832275</td>\n",
       "      <td>0.732371</td>\n",
       "    </tr>\n",
       "    <tr>\n",
       "      <th>GradientBoostingClassifier</th>\n",
       "      <td>0.939491</td>\n",
       "      <td>1010.0</td>\n",
       "      <td>7778.0</td>\n",
       "      <td>207.0</td>\n",
       "      <td>359.0</td>\n",
       "      <td>0.025924</td>\n",
       "      <td>0.262235</td>\n",
       "      <td>0.855921</td>\n",
       "      <td>0.747902</td>\n",
       "    </tr>\n",
       "    <tr>\n",
       "      <th>ExtraTreeClassifier</th>\n",
       "      <td>0.939384</td>\n",
       "      <td>1017.0</td>\n",
       "      <td>7770.0</td>\n",
       "      <td>215.0</td>\n",
       "      <td>352.0</td>\n",
       "      <td>0.026925</td>\n",
       "      <td>0.257122</td>\n",
       "      <td>0.857976</td>\n",
       "      <td>0.748319</td>\n",
       "    </tr>\n",
       "    <tr>\n",
       "      <th>BaggingClassifier</th>\n",
       "      <td>0.939064</td>\n",
       "      <td>1018.0</td>\n",
       "      <td>7766.0</td>\n",
       "      <td>219.0</td>\n",
       "      <td>351.0</td>\n",
       "      <td>0.027426</td>\n",
       "      <td>0.256392</td>\n",
       "      <td>0.858091</td>\n",
       "      <td>0.747274</td>\n",
       "    </tr>\n",
       "    <tr>\n",
       "      <th>Neural Network-1</th>\n",
       "      <td>0.938743</td>\n",
       "      <td>1009.0</td>\n",
       "      <td>7772.0</td>\n",
       "      <td>213.0</td>\n",
       "      <td>360.0</td>\n",
       "      <td>0.026675</td>\n",
       "      <td>0.262966</td>\n",
       "      <td>0.858091</td>\n",
       "      <td>0.745046</td>\n",
       "    </tr>\n",
       "  </tbody>\n",
       "</table>\n",
       "</div>"
      ],
      "text/plain": [
       "                            accuracy      TP      TN     FP     FN       FPR  \\\n",
       "index                                                                          \n",
       "KNeighborsClassifier        0.930618   931.0  7774.0  211.0  438.0  0.026425   \n",
       "LogisticRegression          0.932008   908.0  7810.0  175.0  461.0  0.021916   \n",
       "RandomForestClassifier      0.939384  1013.0  7774.0  211.0  356.0  0.026425   \n",
       "AdaBoostClassifier          0.937353   936.0  7832.0  153.0  433.0  0.019161   \n",
       "GradientBoostingClassifier  0.939491  1010.0  7778.0  207.0  359.0  0.025924   \n",
       "ExtraTreeClassifier         0.939384  1017.0  7770.0  215.0  352.0  0.026925   \n",
       "BaggingClassifier           0.939064  1018.0  7766.0  219.0  351.0  0.027426   \n",
       "Neural Network-1            0.938743  1009.0  7772.0  213.0  360.0  0.026675   \n",
       "\n",
       "                                 FNR       auc       MCC  \n",
       "index                                                     \n",
       "KNeighborsClassifier        0.319942  0.826817  0.705694  \n",
       "LogisticRegression          0.336742  0.820671  0.708493  \n",
       "RandomForestClassifier      0.260044  0.856766  0.747853  \n",
       "AdaBoostClassifier          0.316289  0.832275  0.732371  \n",
       "GradientBoostingClassifier  0.262235  0.855921  0.747902  \n",
       "ExtraTreeClassifier         0.257122  0.857976  0.748319  \n",
       "BaggingClassifier           0.256392  0.858091  0.747274  \n",
       "Neural Network-1            0.262966  0.858091  0.745046  "
      ]
     },
     "metadata": {},
     "output_type": "display_data"
    }
   ],
   "source": [
    "table_80_50_train['index']=ind_columns\n",
    "table_80_50_test['index']=ind_columns\n",
    "\n",
    "\n",
    "table_80_50_test.set_index(['index'],drop=True,inplace=True)\n",
    "table_80_50_train.set_index(['index'],drop=True,inplace=True)\n",
    "\n",
    "print(\"Training Results\")\n",
    "display(table_80_50_train)\n",
    "print(\"Test Results\")\n",
    "display(table_80_50_test)"
   ]
  },
  {
   "cell_type": "markdown",
   "metadata": {},
   "source": [
    "### <a id='1.B' style=\"text-decoration : none; color : #000000;\"> B. Average Feature Importances</a>"
   ]
  },
  {
   "cell_type": "code",
   "execution_count": 20,
   "metadata": {},
   "outputs": [
    {
     "data": {
      "application/vnd.plotly.v1+json": {
       "config": {
        "linkText": "Export to plot.ly",
        "plotlyServerURL": "https://plot.ly",
        "showLink": true
       },
       "data": [
        {
         "marker": {
          "color": "rgb(158,202,225)",
          "line": {
           "color": "rgb(8,48,107)",
           "width": 1.5
          }
         },
         "opacity": 0.6,
         "orientation": "h",
         "text": [
          0.3551,
          0.2371,
          0.1027,
          0.0917,
          0.0858,
          0.0713,
          0.0511,
          0.002,
          0.0015,
          0.0006,
          0.0004,
          0.0003,
          0.0003,
          0.0001,
          0.0001
         ],
         "textposition": "outside",
         "type": "bar",
         "uid": "9971901f-771d-4636-a2a5-51b8df735f48",
         "x": [
          0.3551451995772379,
          0.23706460766449966,
          0.1027419508528,
          0.09168186742121809,
          0.08579685903153034,
          0.07127822389388166,
          0.05111244634283966,
          0.0019642940348497456,
          0.0015272478938451073,
          0.0006422497029933946,
          0.00038460754193903404,
          0.0002669571836986899,
          0.00026221594066672246,
          7.136097568525336e-05,
          5.991194231477192e-05
         ],
         "y": [
          "url_char_.",
          "url_number_special_chars/url_length",
          "url_char_/",
          "url_number_digits/url_length",
          "url_number_consonants/url_length",
          "url_number_vowels/url_length",
          "url_char_-",
          "url_char_?",
          "url_port",
          "url_char_=",
          "url_char__",
          "url_char_+",
          "url_char_:",
          "url_char_&",
          "url_char_%"
         ]
        }
       ],
       "layout": {
        "autosize": false,
        "height": 1000,
        "width": 1000,
        "xaxis": {
         "tickfont": {
          "color": "black",
          "size": 12
         },
         "title": "Feature Importances"
        },
        "yaxis": {
         "automargin": true
        }
       }
      },
      "text/html": [
       "<div id=\"9f42e1f9-f692-4a1f-babc-8e5b4c5d06a9\" style=\"height: 1000px; width: 1000px;\" class=\"plotly-graph-div\"></div><script type=\"text/javascript\">require([\"plotly\"], function(Plotly) { window.PLOTLYENV=window.PLOTLYENV || {};window.PLOTLYENV.BASE_URL=\"https://plot.ly\";Plotly.newPlot(\"9f42e1f9-f692-4a1f-babc-8e5b4c5d06a9\", [{\"marker\": {\"color\": \"rgb(158,202,225)\", \"line\": {\"color\": \"rgb(8,48,107)\", \"width\": 1.5}}, \"opacity\": 0.6, \"orientation\": \"h\", \"text\": [0.3551, 0.2371, 0.1027, 0.0917, 0.0858, 0.0713, 0.0511, 0.002, 0.0015, 0.0006, 0.0004, 0.0003, 0.0003, 0.0001, 0.0001], \"textposition\": \"outside\", \"x\": [0.3551451995772379, 0.23706460766449966, 0.1027419508528, 0.09168186742121809, 0.08579685903153034, 0.07127822389388166, 0.05111244634283966, 0.0019642940348497456, 0.0015272478938451073, 0.0006422497029933946, 0.00038460754193903404, 0.0002669571836986899, 0.00026221594066672246, 7.136097568525336e-05, 5.991194231477192e-05], \"y\": [\"url_char_.\", \"url_number_special_chars/url_length\", \"url_char_/\", \"url_number_digits/url_length\", \"url_number_consonants/url_length\", \"url_number_vowels/url_length\", \"url_char_-\", \"url_char_?\", \"url_port\", \"url_char_=\", \"url_char__\", \"url_char_+\", \"url_char_:\", \"url_char_&\", \"url_char_%\"], \"type\": \"bar\", \"uid\": \"9971901f-771d-4636-a2a5-51b8df735f48\"}], {\"autosize\": false, \"height\": 1000, \"width\": 1000, \"xaxis\": {\"tickfont\": {\"color\": \"black\", \"size\": 12}, \"title\": \"Feature Importances\"}, \"yaxis\": {\"automargin\": true}}, {\"showLink\": true, \"linkText\": \"Export to plot.ly\", \"plotlyServerURL\": \"https://plot.ly\"})});</script>"
      ],
      "text/vnd.plotly.v1+html": [
       "<div id=\"9f42e1f9-f692-4a1f-babc-8e5b4c5d06a9\" style=\"height: 1000px; width: 1000px;\" class=\"plotly-graph-div\"></div><script type=\"text/javascript\">require([\"plotly\"], function(Plotly) { window.PLOTLYENV=window.PLOTLYENV || {};window.PLOTLYENV.BASE_URL=\"https://plot.ly\";Plotly.newPlot(\"9f42e1f9-f692-4a1f-babc-8e5b4c5d06a9\", [{\"marker\": {\"color\": \"rgb(158,202,225)\", \"line\": {\"color\": \"rgb(8,48,107)\", \"width\": 1.5}}, \"opacity\": 0.6, \"orientation\": \"h\", \"text\": [0.3551, 0.2371, 0.1027, 0.0917, 0.0858, 0.0713, 0.0511, 0.002, 0.0015, 0.0006, 0.0004, 0.0003, 0.0003, 0.0001, 0.0001], \"textposition\": \"outside\", \"x\": [0.3551451995772379, 0.23706460766449966, 0.1027419508528, 0.09168186742121809, 0.08579685903153034, 0.07127822389388166, 0.05111244634283966, 0.0019642940348497456, 0.0015272478938451073, 0.0006422497029933946, 0.00038460754193903404, 0.0002669571836986899, 0.00026221594066672246, 7.136097568525336e-05, 5.991194231477192e-05], \"y\": [\"url_char_.\", \"url_number_special_chars/url_length\", \"url_char_/\", \"url_number_digits/url_length\", \"url_number_consonants/url_length\", \"url_number_vowels/url_length\", \"url_char_-\", \"url_char_?\", \"url_port\", \"url_char_=\", \"url_char__\", \"url_char_+\", \"url_char_:\", \"url_char_&\", \"url_char_%\"], \"type\": \"bar\", \"uid\": \"9971901f-771d-4636-a2a5-51b8df735f48\"}], {\"autosize\": false, \"height\": 1000, \"width\": 1000, \"xaxis\": {\"tickfont\": {\"color\": \"black\", \"size\": 12}, \"title\": \"Feature Importances\"}, \"yaxis\": {\"automargin\": true}}, {\"showLink\": true, \"linkText\": \"Export to plot.ly\", \"plotlyServerURL\": \"https://plot.ly\"})});</script>"
      ]
     },
     "metadata": {},
     "output_type": "display_data"
    }
   ],
   "source": [
    "feat_impt_plot(np.average(feat_imp,axis=0),columns)"
   ]
  },
  {
   "cell_type": "markdown",
   "metadata": {},
   "source": [
    "### <a id='2' style=\"text-decoration : none; color : #000000;\"> 2. OverSampling </a>"
   ]
  },
  {
   "cell_type": "code",
   "execution_count": 21,
   "metadata": {},
   "outputs": [
    {
     "name": "stderr",
     "output_type": "stream",
     "text": [
      "/nethomes/darshan/anaconda3/lib/python3.6/site-packages/sklearn/utils/deprecation.py:77: DeprecationWarning:\n",
      "\n",
      "Function _ratio_float is deprecated; Use a float for 'ratio' is deprecated from version 0.2. The support will be removed in 0.4. Use a dict, str, or a callable instead.\n",
      "\n"
     ]
    }
   ],
   "source": [
    "sm = SMOTE(random_state=12, ratio = 1.0)\n",
    "X_train, Y_train = sm.fit_sample(scaled_X_train,train_Y)"
   ]
  },
  {
   "cell_type": "code",
   "execution_count": 22,
   "metadata": {
    "collapsed": true
   },
   "outputs": [],
   "source": [
    "## Table to store training and test measures so we can compare later\n",
    "table_80_80_train=pd.DataFrame(columns=['accuracy','TP','TN','FP','FN','FPR','FNR'])\n",
    "table_80_80_test=pd.DataFrame(columns=['accuracy','TP','TN','FP','FN','FPR','FNR','auc','mcc'])"
   ]
  },
  {
   "cell_type": "code",
   "execution_count": 23,
   "metadata": {
    "scrolled": false
   },
   "outputs": [
    {
     "name": "stdout",
     "output_type": "stream",
     "text": [
      "\u001b[1mK-Nearest Neighbors\u001b[0m\n",
      "Accuracy of the model for training data is: 0.862065721811\n",
      "Confusion Matrix for training data is:\n"
     ]
    },
    {
     "data": {
      "text/plain": [
       "Predicted  False   True  __all__\n",
       "Actual                          \n",
       "False      30915    977    31892\n",
       "True        7821  24071    31892\n",
       "__all__    38736  25048    63784"
      ]
     },
     "metadata": {},
     "output_type": "display_data"
    },
    {
     "name": "stdout",
     "output_type": "stream",
     "text": [
      "Accuracy of the model for test data is: 0.926876202694\n",
      "Confusion Matrix for test data is:\n"
     ]
    },
    {
     "data": {
      "text/plain": [
       "Predicted  False  True  __all__\n",
       "Actual                         \n",
       "False       7695   290     7985\n",
       "True         394   975     1369\n",
       "__all__     8089  1265     9354"
      ]
     },
     "metadata": {},
     "output_type": "display_data"
    },
    {
     "name": "stdout",
     "output_type": "stream",
     "text": [
      "\n",
      "\n",
      "\u001b[1mLogistic Regression\u001b[0m\n",
      "Accuracy of the model for training data is: 0.876567791296\n",
      "Confusion Matrix for training data is:\n"
     ]
    },
    {
     "data": {
      "text/plain": [
       "Predicted  False   True  __all__\n",
       "Actual                          \n",
       "False      29447   2445    31892\n",
       "True        5428  26464    31892\n",
       "__all__    34875  28909    63784"
      ]
     },
     "metadata": {},
     "output_type": "display_data"
    },
    {
     "name": "stdout",
     "output_type": "stream",
     "text": [
      "Accuracy of the model for test data is: 0.908060722685\n",
      "Confusion Matrix for test data is:\n"
     ]
    },
    {
     "data": {
      "text/plain": [
       "Predicted  False  True  __all__\n",
       "Actual                         \n",
       "False       7347   638     7985\n",
       "True         222  1147     1369\n",
       "__all__     7569  1785     9354"
      ]
     },
     "metadata": {},
     "output_type": "display_data"
    },
    {
     "name": "stdout",
     "output_type": "stream",
     "text": [
      "\n",
      "\n",
      "\u001b[1mRandomForest Classifier\u001b[0m\n",
      "Accuracy of the model for training data is: 0.910808353192\n",
      "Confusion Matrix for training data is:\n"
     ]
    },
    {
     "data": {
      "text/plain": [
       "Predicted  False   True  __all__\n",
       "Actual                          \n",
       "False      30258   1634    31892\n",
       "True        4055  27837    31892\n",
       "__all__    34313  29471    63784"
      ]
     },
     "metadata": {},
     "output_type": "display_data"
    },
    {
     "name": "stdout",
     "output_type": "stream",
     "text": [
      "Accuracy of the model for test data is: 0.922599957238\n",
      "Confusion Matrix for test data is:\n"
     ]
    },
    {
     "data": {
      "text/plain": [
       "Predicted  False  True  __all__\n",
       "Actual                         \n",
       "False       7505   480     7985\n",
       "True         244  1125     1369\n",
       "__all__     7749  1605     9354"
      ]
     },
     "metadata": {},
     "output_type": "display_data"
    },
    {
     "data": {
      "application/vnd.plotly.v1+json": {
       "config": {
        "linkText": "Export to plot.ly",
        "plotlyServerURL": "https://plot.ly",
        "showLink": true
       },
       "data": [
        {
         "marker": {
          "color": "rgb(158,202,225)",
          "line": {
           "color": "rgb(8,48,107)",
           "width": 1.5
          }
         },
         "opacity": 0.6,
         "orientation": "h",
         "text": [
          0.4985,
          0.1467,
          0.0849,
          0.0827,
          0.0803,
          0.0737,
          0.0315,
          0.0015,
          0.0002,
          0,
          0,
          0,
          0,
          0,
          0
         ],
         "textposition": "outside",
         "type": "bar",
         "uid": "a8fa07f9-8a0f-4a9e-85de-5ccafae88aa5",
         "x": [
          0.49845712602088177,
          0.14670516707087444,
          0.08486541015753346,
          0.08266092411974921,
          0.08029502985105384,
          0.07368069959359028,
          0.03153290707749547,
          0.0015040413468286962,
          0.0002442435066859877,
          3.3759836009233615e-05,
          1.5221782657403129e-05,
          4.780019913050485e-06,
          6.106888302045711e-07,
          7.892789693557937e-08,
          0
         ],
         "y": [
          "url_char_.",
          "url_number_special_chars/url_length",
          "url_char_/",
          "url_number_vowels/url_length",
          "url_number_consonants/url_length",
          "url_number_digits/url_length",
          "url_char_-",
          "url_char_=",
          "url_port",
          "url_char__",
          "url_char_?",
          "url_char_%",
          "url_char_+",
          "url_char_&",
          "url_char_:"
         ]
        }
       ],
       "layout": {
        "autosize": false,
        "height": 1000,
        "width": 1000,
        "xaxis": {
         "tickfont": {
          "color": "black",
          "size": 12
         },
         "title": "Feature Importances"
        },
        "yaxis": {
         "automargin": true
        }
       }
      },
      "text/html": [
       "<div id=\"4fe5804c-edd2-4831-a3ab-7917c95ac311\" style=\"height: 1000px; width: 1000px;\" class=\"plotly-graph-div\"></div><script type=\"text/javascript\">require([\"plotly\"], function(Plotly) { window.PLOTLYENV=window.PLOTLYENV || {};window.PLOTLYENV.BASE_URL=\"https://plot.ly\";Plotly.newPlot(\"4fe5804c-edd2-4831-a3ab-7917c95ac311\", [{\"marker\": {\"color\": \"rgb(158,202,225)\", \"line\": {\"color\": \"rgb(8,48,107)\", \"width\": 1.5}}, \"opacity\": 0.6, \"orientation\": \"h\", \"text\": [0.4985, 0.1467, 0.0849, 0.0827, 0.0803, 0.0737, 0.0315, 0.0015, 0.0002, 0.0, 0.0, 0.0, 0.0, 0.0, 0.0], \"textposition\": \"outside\", \"x\": [0.49845712602088177, 0.14670516707087444, 0.08486541015753346, 0.08266092411974921, 0.08029502985105384, 0.07368069959359028, 0.03153290707749547, 0.0015040413468286962, 0.0002442435066859877, 3.3759836009233615e-05, 1.5221782657403129e-05, 4.780019913050485e-06, 6.106888302045711e-07, 7.892789693557937e-08, 0.0], \"y\": [\"url_char_.\", \"url_number_special_chars/url_length\", \"url_char_/\", \"url_number_vowels/url_length\", \"url_number_consonants/url_length\", \"url_number_digits/url_length\", \"url_char_-\", \"url_char_=\", \"url_port\", \"url_char__\", \"url_char_?\", \"url_char_%\", \"url_char_+\", \"url_char_&\", \"url_char_:\"], \"type\": \"bar\", \"uid\": \"a8fa07f9-8a0f-4a9e-85de-5ccafae88aa5\"}], {\"autosize\": false, \"height\": 1000, \"width\": 1000, \"xaxis\": {\"tickfont\": {\"color\": \"black\", \"size\": 12}, \"title\": \"Feature Importances\"}, \"yaxis\": {\"automargin\": true}}, {\"showLink\": true, \"linkText\": \"Export to plot.ly\", \"plotlyServerURL\": \"https://plot.ly\"})});</script>"
      ],
      "text/vnd.plotly.v1+html": [
       "<div id=\"4fe5804c-edd2-4831-a3ab-7917c95ac311\" style=\"height: 1000px; width: 1000px;\" class=\"plotly-graph-div\"></div><script type=\"text/javascript\">require([\"plotly\"], function(Plotly) { window.PLOTLYENV=window.PLOTLYENV || {};window.PLOTLYENV.BASE_URL=\"https://plot.ly\";Plotly.newPlot(\"4fe5804c-edd2-4831-a3ab-7917c95ac311\", [{\"marker\": {\"color\": \"rgb(158,202,225)\", \"line\": {\"color\": \"rgb(8,48,107)\", \"width\": 1.5}}, \"opacity\": 0.6, \"orientation\": \"h\", \"text\": [0.4985, 0.1467, 0.0849, 0.0827, 0.0803, 0.0737, 0.0315, 0.0015, 0.0002, 0.0, 0.0, 0.0, 0.0, 0.0, 0.0], \"textposition\": \"outside\", \"x\": [0.49845712602088177, 0.14670516707087444, 0.08486541015753346, 0.08266092411974921, 0.08029502985105384, 0.07368069959359028, 0.03153290707749547, 0.0015040413468286962, 0.0002442435066859877, 3.3759836009233615e-05, 1.5221782657403129e-05, 4.780019913050485e-06, 6.106888302045711e-07, 7.892789693557937e-08, 0.0], \"y\": [\"url_char_.\", \"url_number_special_chars/url_length\", \"url_char_/\", \"url_number_vowels/url_length\", \"url_number_consonants/url_length\", \"url_number_digits/url_length\", \"url_char_-\", \"url_char_=\", \"url_port\", \"url_char__\", \"url_char_?\", \"url_char_%\", \"url_char_+\", \"url_char_&\", \"url_char_:\"], \"type\": \"bar\", \"uid\": \"a8fa07f9-8a0f-4a9e-85de-5ccafae88aa5\"}], {\"autosize\": false, \"height\": 1000, \"width\": 1000, \"xaxis\": {\"tickfont\": {\"color\": \"black\", \"size\": 12}, \"title\": \"Feature Importances\"}, \"yaxis\": {\"automargin\": true}}, {\"showLink\": true, \"linkText\": \"Export to plot.ly\", \"plotlyServerURL\": \"https://plot.ly\"})});</script>"
      ]
     },
     "metadata": {},
     "output_type": "display_data"
    },
    {
     "name": "stdout",
     "output_type": "stream",
     "text": [
      "\n",
      "\n",
      "\u001b[1mAdaoost Classifier\u001b[0m\n",
      "Accuracy of the model for training data is: 0.88704063715\n",
      "Confusion Matrix for training data is:\n"
     ]
    },
    {
     "data": {
      "text/plain": [
       "Predicted  False   True  __all__\n",
       "Actual                          \n",
       "False      29511   2381    31892\n",
       "True        4824  27068    31892\n",
       "__all__    34335  29449    63784"
      ]
     },
     "metadata": {},
     "output_type": "display_data"
    },
    {
     "name": "stdout",
     "output_type": "stream",
     "text": [
      "Accuracy of the model for test data is: 0.90880906564\n",
      "Confusion Matrix for test data is:\n"
     ]
    },
    {
     "data": {
      "text/plain": [
       "Predicted  False  True  __all__\n",
       "Actual                         \n",
       "False       7334   651     7985\n",
       "True         202  1167     1369\n",
       "__all__     7536  1818     9354"
      ]
     },
     "metadata": {},
     "output_type": "display_data"
    },
    {
     "data": {
      "application/vnd.plotly.v1+json": {
       "config": {
        "linkText": "Export to plot.ly",
        "plotlyServerURL": "https://plot.ly",
        "showLink": true
       },
       "data": [
        {
         "marker": {
          "color": "rgb(158,202,225)",
          "line": {
           "color": "rgb(8,48,107)",
           "width": 1.5
          }
         },
         "opacity": 0.6,
         "orientation": "h",
         "text": [
          0.26,
          0.2,
          0.16,
          0.16,
          0.12,
          0.08,
          0.02,
          0,
          0,
          0,
          0,
          0,
          0,
          0,
          0
         ],
         "textposition": "outside",
         "type": "bar",
         "uid": "92704483-055a-4e8d-99c3-8cb70ae2cd41",
         "x": [
          0.26,
          0.2,
          0.16,
          0.16,
          0.12,
          0.08,
          0.02,
          0,
          0,
          0,
          0,
          0,
          0,
          0,
          0
         ],
         "y": [
          "url_number_special_chars/url_length",
          "url_number_consonants/url_length",
          "url_number_vowels/url_length",
          "url_number_digits/url_length",
          "url_char_.",
          "url_char_-",
          "url_char_/",
          "url_char_%",
          "url_char_&",
          "url_char_+",
          "url_char_:",
          "url_char_=",
          "url_char_?",
          "url_char__",
          "url_port"
         ]
        }
       ],
       "layout": {
        "autosize": false,
        "height": 1000,
        "width": 1000,
        "xaxis": {
         "tickfont": {
          "color": "black",
          "size": 12
         },
         "title": "Feature Importances"
        },
        "yaxis": {
         "automargin": true
        }
       }
      },
      "text/html": [
       "<div id=\"4ed5b11e-1125-41ea-99ab-50478c623531\" style=\"height: 1000px; width: 1000px;\" class=\"plotly-graph-div\"></div><script type=\"text/javascript\">require([\"plotly\"], function(Plotly) { window.PLOTLYENV=window.PLOTLYENV || {};window.PLOTLYENV.BASE_URL=\"https://plot.ly\";Plotly.newPlot(\"4ed5b11e-1125-41ea-99ab-50478c623531\", [{\"marker\": {\"color\": \"rgb(158,202,225)\", \"line\": {\"color\": \"rgb(8,48,107)\", \"width\": 1.5}}, \"opacity\": 0.6, \"orientation\": \"h\", \"text\": [0.26, 0.2, 0.16, 0.16, 0.12, 0.08, 0.02, 0.0, 0.0, 0.0, 0.0, 0.0, 0.0, 0.0, 0.0], \"textposition\": \"outside\", \"x\": [0.26, 0.2, 0.16, 0.16, 0.12, 0.08, 0.02, 0.0, 0.0, 0.0, 0.0, 0.0, 0.0, 0.0, 0.0], \"y\": [\"url_number_special_chars/url_length\", \"url_number_consonants/url_length\", \"url_number_vowels/url_length\", \"url_number_digits/url_length\", \"url_char_.\", \"url_char_-\", \"url_char_/\", \"url_char_%\", \"url_char_&\", \"url_char_+\", \"url_char_:\", \"url_char_=\", \"url_char_?\", \"url_char__\", \"url_port\"], \"type\": \"bar\", \"uid\": \"92704483-055a-4e8d-99c3-8cb70ae2cd41\"}], {\"autosize\": false, \"height\": 1000, \"width\": 1000, \"xaxis\": {\"tickfont\": {\"color\": \"black\", \"size\": 12}, \"title\": \"Feature Importances\"}, \"yaxis\": {\"automargin\": true}}, {\"showLink\": true, \"linkText\": \"Export to plot.ly\", \"plotlyServerURL\": \"https://plot.ly\"})});</script>"
      ],
      "text/vnd.plotly.v1+html": [
       "<div id=\"4ed5b11e-1125-41ea-99ab-50478c623531\" style=\"height: 1000px; width: 1000px;\" class=\"plotly-graph-div\"></div><script type=\"text/javascript\">require([\"plotly\"], function(Plotly) { window.PLOTLYENV=window.PLOTLYENV || {};window.PLOTLYENV.BASE_URL=\"https://plot.ly\";Plotly.newPlot(\"4ed5b11e-1125-41ea-99ab-50478c623531\", [{\"marker\": {\"color\": \"rgb(158,202,225)\", \"line\": {\"color\": \"rgb(8,48,107)\", \"width\": 1.5}}, \"opacity\": 0.6, \"orientation\": \"h\", \"text\": [0.26, 0.2, 0.16, 0.16, 0.12, 0.08, 0.02, 0.0, 0.0, 0.0, 0.0, 0.0, 0.0, 0.0, 0.0], \"textposition\": \"outside\", \"x\": [0.26, 0.2, 0.16, 0.16, 0.12, 0.08, 0.02, 0.0, 0.0, 0.0, 0.0, 0.0, 0.0, 0.0, 0.0], \"y\": [\"url_number_special_chars/url_length\", \"url_number_consonants/url_length\", \"url_number_vowels/url_length\", \"url_number_digits/url_length\", \"url_char_.\", \"url_char_-\", \"url_char_/\", \"url_char_%\", \"url_char_&\", \"url_char_+\", \"url_char_:\", \"url_char_=\", \"url_char_?\", \"url_char__\", \"url_port\"], \"type\": \"bar\", \"uid\": \"92704483-055a-4e8d-99c3-8cb70ae2cd41\"}], {\"autosize\": false, \"height\": 1000, \"width\": 1000, \"xaxis\": {\"tickfont\": {\"color\": \"black\", \"size\": 12}, \"title\": \"Feature Importances\"}, \"yaxis\": {\"automargin\": true}}, {\"showLink\": true, \"linkText\": \"Export to plot.ly\", \"plotlyServerURL\": \"https://plot.ly\"})});</script>"
      ]
     },
     "metadata": {},
     "output_type": "display_data"
    },
    {
     "name": "stdout",
     "output_type": "stream",
     "text": [
      "\n",
      "\n",
      "\u001b[1mGradientBoosting Classifier\u001b[0m\n",
      "Accuracy of the model for training data is: 0.893076633639\n",
      "Confusion Matrix for training data is:\n"
     ]
    },
    {
     "data": {
      "text/plain": [
       "Predicted  False   True  __all__\n",
       "Actual                          \n",
       "False      29994   1898    31892\n",
       "True        4922  26970    31892\n",
       "__all__    34916  28868    63784"
      ]
     },
     "metadata": {},
     "output_type": "display_data"
    },
    {
     "name": "stdout",
     "output_type": "stream",
     "text": [
      "Accuracy of the model for test data is: 0.922172332692\n",
      "Confusion Matrix for test data is:\n"
     ]
    },
    {
     "data": {
      "text/plain": [
       "Predicted  False  True  __all__\n",
       "Actual                         \n",
       "False       7464   521     7985\n",
       "True         207  1162     1369\n",
       "__all__     7671  1683     9354"
      ]
     },
     "metadata": {},
     "output_type": "display_data"
    },
    {
     "data": {
      "application/vnd.plotly.v1+json": {
       "config": {
        "linkText": "Export to plot.ly",
        "plotlyServerURL": "https://plot.ly",
        "showLink": true
       },
       "data": [
        {
         "marker": {
          "color": "rgb(158,202,225)",
          "line": {
           "color": "rgb(8,48,107)",
           "width": 1.5
          }
         },
         "opacity": 0.6,
         "orientation": "h",
         "text": [
          0.5988,
          0.1427,
          0.1051,
          0.08,
          0.0382,
          0.0277,
          0.0075,
          0,
          0,
          0,
          0,
          0,
          0,
          0,
          0
         ],
         "textposition": "outside",
         "type": "bar",
         "uid": "6206d7ac-2b8f-4dac-a6cb-0eec60025a42",
         "x": [
          0.5988138471981965,
          0.14267482886834398,
          0.10510502234717044,
          0.07999854910221549,
          0.03821429768604441,
          0.027716430084412467,
          0.00747702471361668,
          0,
          0,
          0,
          0,
          0,
          0,
          0,
          0
         ],
         "y": [
          "url_char_.",
          "url_number_special_chars/url_length",
          "url_char_/",
          "url_number_digits/url_length",
          "url_number_vowels/url_length",
          "url_char_-",
          "url_number_consonants/url_length",
          "url_char_%",
          "url_char_&",
          "url_char_+",
          "url_char_:",
          "url_char_=",
          "url_char_?",
          "url_char__",
          "url_port"
         ]
        }
       ],
       "layout": {
        "autosize": false,
        "height": 1000,
        "width": 1000,
        "xaxis": {
         "tickfont": {
          "color": "black",
          "size": 12
         },
         "title": "Feature Importances"
        },
        "yaxis": {
         "automargin": true
        }
       }
      },
      "text/html": [
       "<div id=\"d910d3b0-5bce-4a9d-b1f1-c90a5a7c6ae7\" style=\"height: 1000px; width: 1000px;\" class=\"plotly-graph-div\"></div><script type=\"text/javascript\">require([\"plotly\"], function(Plotly) { window.PLOTLYENV=window.PLOTLYENV || {};window.PLOTLYENV.BASE_URL=\"https://plot.ly\";Plotly.newPlot(\"d910d3b0-5bce-4a9d-b1f1-c90a5a7c6ae7\", [{\"marker\": {\"color\": \"rgb(158,202,225)\", \"line\": {\"color\": \"rgb(8,48,107)\", \"width\": 1.5}}, \"opacity\": 0.6, \"orientation\": \"h\", \"text\": [0.5988, 0.1427, 0.1051, 0.08, 0.0382, 0.0277, 0.0075, 0.0, 0.0, 0.0, 0.0, 0.0, 0.0, 0.0, 0.0], \"textposition\": \"outside\", \"x\": [0.5988138471981965, 0.14267482886834398, 0.10510502234717044, 0.07999854910221549, 0.03821429768604441, 0.027716430084412467, 0.00747702471361668, 0.0, 0.0, 0.0, 0.0, 0.0, 0.0, 0.0, 0.0], \"y\": [\"url_char_.\", \"url_number_special_chars/url_length\", \"url_char_/\", \"url_number_digits/url_length\", \"url_number_vowels/url_length\", \"url_char_-\", \"url_number_consonants/url_length\", \"url_char_%\", \"url_char_&\", \"url_char_+\", \"url_char_:\", \"url_char_=\", \"url_char_?\", \"url_char__\", \"url_port\"], \"type\": \"bar\", \"uid\": \"6206d7ac-2b8f-4dac-a6cb-0eec60025a42\"}], {\"autosize\": false, \"height\": 1000, \"width\": 1000, \"xaxis\": {\"tickfont\": {\"color\": \"black\", \"size\": 12}, \"title\": \"Feature Importances\"}, \"yaxis\": {\"automargin\": true}}, {\"showLink\": true, \"linkText\": \"Export to plot.ly\", \"plotlyServerURL\": \"https://plot.ly\"})});</script>"
      ],
      "text/vnd.plotly.v1+html": [
       "<div id=\"d910d3b0-5bce-4a9d-b1f1-c90a5a7c6ae7\" style=\"height: 1000px; width: 1000px;\" class=\"plotly-graph-div\"></div><script type=\"text/javascript\">require([\"plotly\"], function(Plotly) { window.PLOTLYENV=window.PLOTLYENV || {};window.PLOTLYENV.BASE_URL=\"https://plot.ly\";Plotly.newPlot(\"d910d3b0-5bce-4a9d-b1f1-c90a5a7c6ae7\", [{\"marker\": {\"color\": \"rgb(158,202,225)\", \"line\": {\"color\": \"rgb(8,48,107)\", \"width\": 1.5}}, \"opacity\": 0.6, \"orientation\": \"h\", \"text\": [0.5988, 0.1427, 0.1051, 0.08, 0.0382, 0.0277, 0.0075, 0.0, 0.0, 0.0, 0.0, 0.0, 0.0, 0.0, 0.0], \"textposition\": \"outside\", \"x\": [0.5988138471981965, 0.14267482886834398, 0.10510502234717044, 0.07999854910221549, 0.03821429768604441, 0.027716430084412467, 0.00747702471361668, 0.0, 0.0, 0.0, 0.0, 0.0, 0.0, 0.0, 0.0], \"y\": [\"url_char_.\", \"url_number_special_chars/url_length\", \"url_char_/\", \"url_number_digits/url_length\", \"url_number_vowels/url_length\", \"url_char_-\", \"url_number_consonants/url_length\", \"url_char_%\", \"url_char_&\", \"url_char_+\", \"url_char_:\", \"url_char_=\", \"url_char_?\", \"url_char__\", \"url_port\"], \"type\": \"bar\", \"uid\": \"6206d7ac-2b8f-4dac-a6cb-0eec60025a42\"}], {\"autosize\": false, \"height\": 1000, \"width\": 1000, \"xaxis\": {\"tickfont\": {\"color\": \"black\", \"size\": 12}, \"title\": \"Feature Importances\"}, \"yaxis\": {\"automargin\": true}}, {\"showLink\": true, \"linkText\": \"Export to plot.ly\", \"plotlyServerURL\": \"https://plot.ly\"})});</script>"
      ]
     },
     "metadata": {},
     "output_type": "display_data"
    },
    {
     "name": "stdout",
     "output_type": "stream",
     "text": [
      "\n",
      "\n",
      "\u001b[1mExtraTree Classifier\u001b[0m\n",
      "Accuracy of the model for training data is: 0.91116894519\n",
      "Confusion Matrix for training data is:\n"
     ]
    },
    {
     "data": {
      "text/plain": [
       "Predicted  False   True  __all__\n",
       "Actual                          \n",
       "False      30287   1605    31892\n",
       "True        4061  27831    31892\n",
       "__all__    34348  29436    63784"
      ]
     },
     "metadata": {},
     "output_type": "display_data"
    },
    {
     "name": "stdout",
     "output_type": "stream",
     "text": [
      "Accuracy of the model for test data is: 0.923027581783\n",
      "Confusion Matrix for test data is:\n"
     ]
    },
    {
     "data": {
      "text/plain": [
       "Predicted  False  True  __all__\n",
       "Actual                         \n",
       "False       7518   467     7985\n",
       "True         253  1116     1369\n",
       "__all__     7771  1583     9354"
      ]
     },
     "metadata": {},
     "output_type": "display_data"
    },
    {
     "data": {
      "application/vnd.plotly.v1+json": {
       "config": {
        "linkText": "Export to plot.ly",
        "plotlyServerURL": "https://plot.ly",
        "showLink": true
       },
       "data": [
        {
         "marker": {
          "color": "rgb(158,202,225)",
          "line": {
           "color": "rgb(8,48,107)",
           "width": 1.5
          }
         },
         "opacity": 0.6,
         "orientation": "h",
         "text": [
          0.4794,
          0.135,
          0.09,
          0.0888,
          0.0788,
          0.0718,
          0.0443,
          0.0035,
          0.0031,
          0.0027,
          0.0009,
          0.0009,
          0.0004,
          0.0003,
          0
         ],
         "textposition": "outside",
         "type": "bar",
         "uid": "96590bc8-c9ca-4932-ad37-18fb08f002d0",
         "x": [
          0.4793931740933801,
          0.1350256508754582,
          0.08997107245872143,
          0.08877225245268748,
          0.07884440219752564,
          0.07180701222255265,
          0.04431589200089807,
          0.0035083781654201237,
          0.0031491089491716808,
          0.002730332547972401,
          0.0008936357408856358,
          0.000875095744415131,
          0.00035627039428812944,
          0.0003455328516119516,
          1.2189305011431903e-05
         ],
         "y": [
          "url_char_.",
          "url_number_special_chars/url_length",
          "url_number_consonants/url_length",
          "url_number_vowels/url_length",
          "url_number_digits/url_length",
          "url_char_/",
          "url_char_-",
          "url_port",
          "url_char_?",
          "url_char_=",
          "url_char_&",
          "url_char__",
          "url_char_+",
          "url_char_%",
          "url_char_:"
         ]
        }
       ],
       "layout": {
        "autosize": false,
        "height": 1000,
        "width": 1000,
        "xaxis": {
         "tickfont": {
          "color": "black",
          "size": 12
         },
         "title": "Feature Importances"
        },
        "yaxis": {
         "automargin": true
        }
       }
      },
      "text/html": [
       "<div id=\"c933a928-93c6-46b0-8d15-6a10047994ae\" style=\"height: 1000px; width: 1000px;\" class=\"plotly-graph-div\"></div><script type=\"text/javascript\">require([\"plotly\"], function(Plotly) { window.PLOTLYENV=window.PLOTLYENV || {};window.PLOTLYENV.BASE_URL=\"https://plot.ly\";Plotly.newPlot(\"c933a928-93c6-46b0-8d15-6a10047994ae\", [{\"marker\": {\"color\": \"rgb(158,202,225)\", \"line\": {\"color\": \"rgb(8,48,107)\", \"width\": 1.5}}, \"opacity\": 0.6, \"orientation\": \"h\", \"text\": [0.4794, 0.135, 0.09, 0.0888, 0.0788, 0.0718, 0.0443, 0.0035, 0.0031, 0.0027, 0.0009, 0.0009, 0.0004, 0.0003, 0.0], \"textposition\": \"outside\", \"x\": [0.4793931740933801, 0.1350256508754582, 0.08997107245872143, 0.08877225245268748, 0.07884440219752564, 0.07180701222255265, 0.04431589200089807, 0.0035083781654201237, 0.0031491089491716808, 0.002730332547972401, 0.0008936357408856358, 0.000875095744415131, 0.00035627039428812944, 0.0003455328516119516, 1.2189305011431903e-05], \"y\": [\"url_char_.\", \"url_number_special_chars/url_length\", \"url_number_consonants/url_length\", \"url_number_vowels/url_length\", \"url_number_digits/url_length\", \"url_char_/\", \"url_char_-\", \"url_port\", \"url_char_?\", \"url_char_=\", \"url_char_&\", \"url_char__\", \"url_char_+\", \"url_char_%\", \"url_char_:\"], \"type\": \"bar\", \"uid\": \"96590bc8-c9ca-4932-ad37-18fb08f002d0\"}], {\"autosize\": false, \"height\": 1000, \"width\": 1000, \"xaxis\": {\"tickfont\": {\"color\": \"black\", \"size\": 12}, \"title\": \"Feature Importances\"}, \"yaxis\": {\"automargin\": true}}, {\"showLink\": true, \"linkText\": \"Export to plot.ly\", \"plotlyServerURL\": \"https://plot.ly\"})});</script>"
      ],
      "text/vnd.plotly.v1+html": [
       "<div id=\"c933a928-93c6-46b0-8d15-6a10047994ae\" style=\"height: 1000px; width: 1000px;\" class=\"plotly-graph-div\"></div><script type=\"text/javascript\">require([\"plotly\"], function(Plotly) { window.PLOTLYENV=window.PLOTLYENV || {};window.PLOTLYENV.BASE_URL=\"https://plot.ly\";Plotly.newPlot(\"c933a928-93c6-46b0-8d15-6a10047994ae\", [{\"marker\": {\"color\": \"rgb(158,202,225)\", \"line\": {\"color\": \"rgb(8,48,107)\", \"width\": 1.5}}, \"opacity\": 0.6, \"orientation\": \"h\", \"text\": [0.4794, 0.135, 0.09, 0.0888, 0.0788, 0.0718, 0.0443, 0.0035, 0.0031, 0.0027, 0.0009, 0.0009, 0.0004, 0.0003, 0.0], \"textposition\": \"outside\", \"x\": [0.4793931740933801, 0.1350256508754582, 0.08997107245872143, 0.08877225245268748, 0.07884440219752564, 0.07180701222255265, 0.04431589200089807, 0.0035083781654201237, 0.0031491089491716808, 0.002730332547972401, 0.0008936357408856358, 0.000875095744415131, 0.00035627039428812944, 0.0003455328516119516, 1.2189305011431903e-05], \"y\": [\"url_char_.\", \"url_number_special_chars/url_length\", \"url_number_consonants/url_length\", \"url_number_vowels/url_length\", \"url_number_digits/url_length\", \"url_char_/\", \"url_char_-\", \"url_port\", \"url_char_?\", \"url_char_=\", \"url_char_&\", \"url_char__\", \"url_char_+\", \"url_char_%\", \"url_char_:\"], \"type\": \"bar\", \"uid\": \"96590bc8-c9ca-4932-ad37-18fb08f002d0\"}], {\"autosize\": false, \"height\": 1000, \"width\": 1000, \"xaxis\": {\"tickfont\": {\"color\": \"black\", \"size\": 12}, \"title\": \"Feature Importances\"}, \"yaxis\": {\"automargin\": true}}, {\"showLink\": true, \"linkText\": \"Export to plot.ly\", \"plotlyServerURL\": \"https://plot.ly\"})});</script>"
      ]
     },
     "metadata": {},
     "output_type": "display_data"
    },
    {
     "name": "stdout",
     "output_type": "stream",
     "text": [
      "\n",
      "\n",
      "\u001b[1mBagging Classifier\u001b[0m\n",
      "Accuracy of the model for training data is: 0.910824031105\n",
      "Confusion Matrix for training data is:\n"
     ]
    },
    {
     "data": {
      "text/plain": [
       "Predicted  False   True  __all__\n",
       "Actual                          \n",
       "False      30204   1688    31892\n",
       "True        4000  27892    31892\n",
       "__all__    34204  29580    63784"
      ]
     },
     "metadata": {},
     "output_type": "display_data"
    },
    {
     "name": "stdout",
     "output_type": "stream",
     "text": [
      "Accuracy of the model for test data is: 0.920568740646\n",
      "Confusion Matrix for test data is:\n"
     ]
    },
    {
     "data": {
      "text/plain": [
       "Predicted  False  True  __all__\n",
       "Actual                         \n",
       "False       7487   498     7985\n",
       "True         245  1124     1369\n",
       "__all__     7732  1622     9354"
      ]
     },
     "metadata": {},
     "output_type": "display_data"
    },
    {
     "name": "stdout",
     "output_type": "stream",
     "text": [
      "\n",
      "\n",
      "\u001b[1mNeural Network-1\u001b[0m\n",
      "The accuracy of the model on training data is: 0.894628747021\n"
     ]
    },
    {
     "data": {
      "text/plain": [
       "Predicted  False   True  __all__\n",
       "Actual                          \n",
       "False      30022   1870    31892\n",
       "True        4851  27041    31892\n",
       "__all__    34873  28911    63784"
      ]
     },
     "metadata": {},
     "output_type": "display_data"
    },
    {
     "name": "stdout",
     "output_type": "stream",
     "text": [
      "The accuracy of the model on test data is: 0.921103271328\n"
     ]
    },
    {
     "data": {
      "text/plain": [
       "Predicted  False  True  __all__\n",
       "Actual                         \n",
       "False       7468   517     7985\n",
       "True         221  1148     1369\n",
       "__all__     7689  1665     9354"
      ]
     },
     "metadata": {},
     "output_type": "display_data"
    },
    {
     "name": "stdout",
     "output_type": "stream",
     "text": [
      "\n",
      "\n"
     ]
    }
   ],
   "source": [
    "feat_imp=[None]*4\n",
    "j=0\n",
    "for i in range(0,8):\n",
    "    if i>=2 and i<=5:\n",
    "        model,cm_train,cm_test,acc_train,acc_test,roc_auc,feat_imp[j],mcc=f[i](X_train,Y_train,scaled_X_test,test_Y,columns)\n",
    "        j=j+1\n",
    "    else:\n",
    "        model,cm_train,cm_test,acc_train,acc_test,roc_auc,mcc=f[i](X_train,Y_train,scaled_X_test,test_Y)\n",
    "    table_80_80_train.loc[i]=   ([acc_train,cm_train.TP,cm_train.TN,cm_train.FP,cm_train.FN,cm_train.FPR,cm_train.FNR])\n",
    "    table_80_80_test.loc[i] =   ([acc_test ,cm_test.TP, cm_test.TN, cm_test.FP, cm_test.FN, cm_test.FPR, cm_test.FNR,roc_auc,mcc])\n",
    "    print(\"\\n\")"
   ]
  },
  {
   "cell_type": "markdown",
   "metadata": {},
   "source": [
    "### <a id='2.A' style=\"text-decoration : none; color : #000000;\"> A Results</a>"
   ]
  },
  {
   "cell_type": "code",
   "execution_count": 24,
   "metadata": {},
   "outputs": [
    {
     "data": {
      "application/vnd.plotly.v1+json": {
       "config": {
        "linkText": "Export to plot.ly",
        "plotlyServerURL": "https://plot.ly",
        "showLink": true
       },
       "data": [
        {
         "mode": "lines",
         "name": "KNN_model",
         "type": "scatter",
         "uid": "6e51da4a-3814-48e3-a44c-fbdb629949e8",
         "x": [
          "accuracy",
          "FPR",
          "FNR",
          "auc"
         ],
         "y": [
          0.9268762026940346,
          0.036318096430807766,
          0.28780131482834187,
          0.8379402943704253
         ]
        },
        {
         "mode": "lines+markers",
         "name": "Logistic Regression",
         "type": "scatter",
         "uid": "347d4625-9b97-443a-a277-8894f303ad43",
         "x": [
          "accuracy",
          "FPR",
          "FNR",
          "auc"
         ],
         "y": [
          0.9080607226854821,
          0.07989981214777708,
          0.16216216216216217,
          0.8789690128450303
         ]
        },
        {
         "marker": {
          "symbol": "x"
         },
         "mode": "lines+markers",
         "name": "Random Forest",
         "type": "scatter",
         "uid": "91f640f4-f8ac-42b3-a086-bd5de7982602",
         "x": [
          "accuracy",
          "FPR",
          "FNR",
          "auc"
         ],
         "y": [
          0.9225999572375454,
          0.06011271133375078,
          0.17823228634039445,
          0.8808275011629274
         ]
        },
        {
         "mode": "lines",
         "name": "Ada Boost",
         "type": "scatter",
         "uid": "98cc6f39-ffcb-43ef-b380-0c995fdd444e",
         "x": [
          "accuracy",
          "FPR",
          "FNR",
          "auc"
         ],
         "y": [
          0.9088090656403678,
          0.0815278647463995,
          0.14755295836376917,
          0.8854595884449157
         ]
        },
        {
         "mode": "lines+markers",
         "name": "GradientBoosting",
         "type": "scatter",
         "uid": "5d12e5db-ba07-45e8-8aaf-40c8c46ca3b9",
         "x": [
          "accuracy",
          "FPR",
          "FNR",
          "auc"
         ],
         "y": [
          0.9221723326918965,
          0.06524733876017533,
          0.15120525931336742,
          0.8917737009632287
         ]
        },
        {
         "marker": {
          "symbol": "x"
         },
         "mode": "lines+markers",
         "name": "ExtraTree Classifier",
         "type": "scatter",
         "uid": "4461bd07-3123-4c4c-a31d-7e142e55f646",
         "x": [
          "accuracy",
          "FPR",
          "FNR",
          "auc"
         ],
         "y": [
          0.9230275817831943,
          0.05848465873512836,
          0.1848064280496713,
          0.8783544566076003
         ]
        },
        {
         "marker": {
          "symbol": "x"
         },
         "mode": "lines+markers",
         "name": "Bagging",
         "type": "scatter",
         "uid": "710379a4-eb56-46d9-ad0f-cf3ffcd63605",
         "x": [
          "accuracy",
          "FPR",
          "FNR",
          "auc"
         ],
         "y": [
          0.920568740645713,
          0.062366938008766436,
          0.1789627465303141,
          0.8793351577304597
         ]
        },
        {
         "marker": {
          "symbol": "x"
         },
         "mode": "lines+markers",
         "name": "Neural Network",
         "type": "scatter",
         "uid": "2717fdb4-a4ae-4740-b7c8-00935e992459",
         "x": [
          "accuracy",
          "FPR",
          "FNR",
          "auc"
         ],
         "y": [
          0.9211032713277743,
          0.06474639949906073,
          0.16143170197224252,
          0.8793351577304597
         ]
        }
       ],
       "layout": {
        "title": "Result comparision for Features selected in Section 1",
        "yaxis": {
         "dtick": 0.05,
         "tick0": 0
        }
       }
      },
      "text/html": [
       "<div id=\"678f6e61-f317-423b-91f5-5bd3b9d77c6f\" style=\"height: 525px; width: 100%;\" class=\"plotly-graph-div\"></div><script type=\"text/javascript\">require([\"plotly\"], function(Plotly) { window.PLOTLYENV=window.PLOTLYENV || {};window.PLOTLYENV.BASE_URL=\"https://plot.ly\";Plotly.newPlot(\"678f6e61-f317-423b-91f5-5bd3b9d77c6f\", [{\"mode\": \"lines\", \"name\": \"KNN_model\", \"x\": [\"accuracy\", \"FPR\", \"FNR\", \"auc\"], \"y\": [0.9268762026940346, 0.036318096430807766, 0.28780131482834187, 0.8379402943704253], \"type\": \"scatter\", \"uid\": \"6e51da4a-3814-48e3-a44c-fbdb629949e8\"}, {\"mode\": \"lines+markers\", \"name\": \"Logistic Regression\", \"x\": [\"accuracy\", \"FPR\", \"FNR\", \"auc\"], \"y\": [0.9080607226854821, 0.07989981214777708, 0.16216216216216217, 0.8789690128450303], \"type\": \"scatter\", \"uid\": \"347d4625-9b97-443a-a277-8894f303ad43\"}, {\"marker\": {\"symbol\": \"x\"}, \"mode\": \"lines+markers\", \"name\": \"Random Forest\", \"x\": [\"accuracy\", \"FPR\", \"FNR\", \"auc\"], \"y\": [0.9225999572375454, 0.06011271133375078, 0.17823228634039445, 0.8808275011629274], \"type\": \"scatter\", \"uid\": \"91f640f4-f8ac-42b3-a086-bd5de7982602\"}, {\"mode\": \"lines\", \"name\": \"Ada Boost\", \"x\": [\"accuracy\", \"FPR\", \"FNR\", \"auc\"], \"y\": [0.9088090656403678, 0.0815278647463995, 0.14755295836376917, 0.8854595884449157], \"type\": \"scatter\", \"uid\": \"98cc6f39-ffcb-43ef-b380-0c995fdd444e\"}, {\"mode\": \"lines+markers\", \"name\": \"GradientBoosting\", \"x\": [\"accuracy\", \"FPR\", \"FNR\", \"auc\"], \"y\": [0.9221723326918965, 0.06524733876017533, 0.15120525931336742, 0.8917737009632287], \"type\": \"scatter\", \"uid\": \"5d12e5db-ba07-45e8-8aaf-40c8c46ca3b9\"}, {\"marker\": {\"symbol\": \"x\"}, \"mode\": \"lines+markers\", \"name\": \"ExtraTree Classifier\", \"x\": [\"accuracy\", \"FPR\", \"FNR\", \"auc\"], \"y\": [0.9230275817831943, 0.05848465873512836, 0.1848064280496713, 0.8783544566076003], \"type\": \"scatter\", \"uid\": \"4461bd07-3123-4c4c-a31d-7e142e55f646\"}, {\"marker\": {\"symbol\": \"x\"}, \"mode\": \"lines+markers\", \"name\": \"Bagging\", \"x\": [\"accuracy\", \"FPR\", \"FNR\", \"auc\"], \"y\": [0.920568740645713, 0.062366938008766436, 0.1789627465303141, 0.8793351577304597], \"type\": \"scatter\", \"uid\": \"710379a4-eb56-46d9-ad0f-cf3ffcd63605\"}, {\"marker\": {\"symbol\": \"x\"}, \"mode\": \"lines+markers\", \"name\": \"Neural Network\", \"x\": [\"accuracy\", \"FPR\", \"FNR\", \"auc\"], \"y\": [0.9211032713277743, 0.06474639949906073, 0.16143170197224252, 0.8793351577304597], \"type\": \"scatter\", \"uid\": \"2717fdb4-a4ae-4740-b7c8-00935e992459\"}], {\"title\": \"Result comparision for Features selected in Section 1\", \"yaxis\": {\"dtick\": 0.05, \"tick0\": 0}}, {\"showLink\": true, \"linkText\": \"Export to plot.ly\", \"plotlyServerURL\": \"https://plot.ly\"})});</script><script type=\"text/javascript\">window.addEventListener(\"resize\", function(){window._Plotly.Plots.resize(document.getElementById(\"678f6e61-f317-423b-91f5-5bd3b9d77c6f\"));});</script>"
      ],
      "text/vnd.plotly.v1+html": [
       "<div id=\"678f6e61-f317-423b-91f5-5bd3b9d77c6f\" style=\"height: 525px; width: 100%;\" class=\"plotly-graph-div\"></div><script type=\"text/javascript\">require([\"plotly\"], function(Plotly) { window.PLOTLYENV=window.PLOTLYENV || {};window.PLOTLYENV.BASE_URL=\"https://plot.ly\";Plotly.newPlot(\"678f6e61-f317-423b-91f5-5bd3b9d77c6f\", [{\"mode\": \"lines\", \"name\": \"KNN_model\", \"x\": [\"accuracy\", \"FPR\", \"FNR\", \"auc\"], \"y\": [0.9268762026940346, 0.036318096430807766, 0.28780131482834187, 0.8379402943704253], \"type\": \"scatter\", \"uid\": \"6e51da4a-3814-48e3-a44c-fbdb629949e8\"}, {\"mode\": \"lines+markers\", \"name\": \"Logistic Regression\", \"x\": [\"accuracy\", \"FPR\", \"FNR\", \"auc\"], \"y\": [0.9080607226854821, 0.07989981214777708, 0.16216216216216217, 0.8789690128450303], \"type\": \"scatter\", \"uid\": \"347d4625-9b97-443a-a277-8894f303ad43\"}, {\"marker\": {\"symbol\": \"x\"}, \"mode\": \"lines+markers\", \"name\": \"Random Forest\", \"x\": [\"accuracy\", \"FPR\", \"FNR\", \"auc\"], \"y\": [0.9225999572375454, 0.06011271133375078, 0.17823228634039445, 0.8808275011629274], \"type\": \"scatter\", \"uid\": \"91f640f4-f8ac-42b3-a086-bd5de7982602\"}, {\"mode\": \"lines\", \"name\": \"Ada Boost\", \"x\": [\"accuracy\", \"FPR\", \"FNR\", \"auc\"], \"y\": [0.9088090656403678, 0.0815278647463995, 0.14755295836376917, 0.8854595884449157], \"type\": \"scatter\", \"uid\": \"98cc6f39-ffcb-43ef-b380-0c995fdd444e\"}, {\"mode\": \"lines+markers\", \"name\": \"GradientBoosting\", \"x\": [\"accuracy\", \"FPR\", \"FNR\", \"auc\"], \"y\": [0.9221723326918965, 0.06524733876017533, 0.15120525931336742, 0.8917737009632287], \"type\": \"scatter\", \"uid\": \"5d12e5db-ba07-45e8-8aaf-40c8c46ca3b9\"}, {\"marker\": {\"symbol\": \"x\"}, \"mode\": \"lines+markers\", \"name\": \"ExtraTree Classifier\", \"x\": [\"accuracy\", \"FPR\", \"FNR\", \"auc\"], \"y\": [0.9230275817831943, 0.05848465873512836, 0.1848064280496713, 0.8783544566076003], \"type\": \"scatter\", \"uid\": \"4461bd07-3123-4c4c-a31d-7e142e55f646\"}, {\"marker\": {\"symbol\": \"x\"}, \"mode\": \"lines+markers\", \"name\": \"Bagging\", \"x\": [\"accuracy\", \"FPR\", \"FNR\", \"auc\"], \"y\": [0.920568740645713, 0.062366938008766436, 0.1789627465303141, 0.8793351577304597], \"type\": \"scatter\", \"uid\": \"710379a4-eb56-46d9-ad0f-cf3ffcd63605\"}, {\"marker\": {\"symbol\": \"x\"}, \"mode\": \"lines+markers\", \"name\": \"Neural Network\", \"x\": [\"accuracy\", \"FPR\", \"FNR\", \"auc\"], \"y\": [0.9211032713277743, 0.06474639949906073, 0.16143170197224252, 0.8793351577304597], \"type\": \"scatter\", \"uid\": \"2717fdb4-a4ae-4740-b7c8-00935e992459\"}], {\"title\": \"Result comparision for Features selected in Section 1\", \"yaxis\": {\"dtick\": 0.05, \"tick0\": 0}}, {\"showLink\": true, \"linkText\": \"Export to plot.ly\", \"plotlyServerURL\": \"https://plot.ly\"})});</script><script type=\"text/javascript\">window.addEventListener(\"resize\", function(){window._Plotly.Plots.resize(document.getElementById(\"678f6e61-f317-423b-91f5-5bd3b9d77c6f\"));});</script>"
      ]
     },
     "metadata": {},
     "output_type": "display_data"
    }
   ],
   "source": [
    "trace0 = go.Scatter(x=table_80_80_test.iloc[0].index.values[[0,5,6,7]],\n",
    "                    y=table_80_80_test.iloc[0].values[[0,5,6,7]],\n",
    "                    mode = 'lines',\n",
    "                    name = 'KNN_model')\n",
    "\n",
    "trace1 = go.Scatter(x=table_80_80_test.iloc[1].index.values[[0,5,6,7]],\n",
    "                    y=table_80_80_test.iloc[1].values[[0,5,6,7]],\n",
    "                    mode = 'lines+markers',\n",
    "                    name = 'Logistic Regression')\n",
    "\n",
    "trace2 = go.Scatter(x=table_80_80_test.iloc[2].index.values[[0,5,6,7]],\n",
    "                    y=table_80_80_test.iloc[2].values[[0,5,6,7]],\n",
    "                    mode = 'lines+markers',marker=dict(symbol='x'),\n",
    "                    name = 'Random Forest')\n",
    "\n",
    "\n",
    "trace3 = go.Scatter(x=table_80_80_test.iloc[3].index.values[[0,5,6,7]],\n",
    "                    y=table_80_80_test.iloc[3].values[[0,5,6,7]],\n",
    "                    mode = 'lines',\n",
    "                    name = 'Ada Boost')\n",
    "\n",
    "trace4 = go.Scatter(x=table_80_80_test.iloc[4].index.values[[0,5,6,7]],\n",
    "                    y=table_80_80_test.iloc[4].values[[0,5,6,7]],\n",
    "                    mode = 'lines+markers',\n",
    "                    name = 'GradientBoosting')\n",
    "\n",
    "trace5 = go.Scatter(x=table_80_80_test.iloc[5].index.values[[0,5,6,7]],\n",
    "                    y=table_80_80_test.iloc[5].values[[0,5,6,7]],\n",
    "                    mode = 'lines+markers',marker=dict(symbol='x'),\n",
    "                    name = 'ExtraTree Classifier')\n",
    "\n",
    "trace6 = go.Scatter(x=table_80_80_test.iloc[6].index.values[[0,5,6,7]],\n",
    "                    y=table_80_80_test.iloc[6].values[[0,5,6,7]],\n",
    "                    mode = 'lines+markers',marker=dict(symbol='x'),\n",
    "                    name = 'Bagging')\n",
    "\n",
    "trace7 = go.Scatter(x=table_80_80_test.iloc[7].index.values[[0,5,6,7]],\n",
    "                    y=table_80_80_test.iloc[7].values[[0,5,6,7]],\n",
    "                    mode = 'lines+markers',marker=dict(symbol='x'),\n",
    "                    name = 'Neural Network')\n",
    "\n",
    "\n",
    "\n",
    "data = [trace0, trace1, trace2, trace3, trace4, trace5, trace6, trace7]\n",
    "layout = go.Layout(yaxis=dict(tick0=0,dtick=0.05),title='Result comparision for Features selected in Section 1')\n",
    "fig = go.Figure(data=data, layout=layout)\n",
    "\n",
    "iplot(fig, filename='Result')"
   ]
  },
  {
   "cell_type": "code",
   "execution_count": 25,
   "metadata": {},
   "outputs": [
    {
     "name": "stdout",
     "output_type": "stream",
     "text": [
      "Training Results\n"
     ]
    },
    {
     "data": {
      "text/html": [
       "<div>\n",
       "<style scoped>\n",
       "    .dataframe tbody tr th:only-of-type {\n",
       "        vertical-align: middle;\n",
       "    }\n",
       "\n",
       "    .dataframe tbody tr th {\n",
       "        vertical-align: top;\n",
       "    }\n",
       "\n",
       "    .dataframe thead th {\n",
       "        text-align: right;\n",
       "    }\n",
       "</style>\n",
       "<table border=\"1\" class=\"dataframe\">\n",
       "  <thead>\n",
       "    <tr style=\"text-align: right;\">\n",
       "      <th></th>\n",
       "      <th>accuracy</th>\n",
       "      <th>TP</th>\n",
       "      <th>TN</th>\n",
       "      <th>FP</th>\n",
       "      <th>FN</th>\n",
       "      <th>FPR</th>\n",
       "      <th>FNR</th>\n",
       "    </tr>\n",
       "    <tr>\n",
       "      <th>index</th>\n",
       "      <th></th>\n",
       "      <th></th>\n",
       "      <th></th>\n",
       "      <th></th>\n",
       "      <th></th>\n",
       "      <th></th>\n",
       "      <th></th>\n",
       "    </tr>\n",
       "  </thead>\n",
       "  <tbody>\n",
       "    <tr>\n",
       "      <th>KNeighborsClassifier</th>\n",
       "      <td>0.862066</td>\n",
       "      <td>24071.0</td>\n",
       "      <td>30915.0</td>\n",
       "      <td>977.0</td>\n",
       "      <td>7821.0</td>\n",
       "      <td>0.030635</td>\n",
       "      <td>0.245234</td>\n",
       "    </tr>\n",
       "    <tr>\n",
       "      <th>LogisticRegression</th>\n",
       "      <td>0.876568</td>\n",
       "      <td>26464.0</td>\n",
       "      <td>29447.0</td>\n",
       "      <td>2445.0</td>\n",
       "      <td>5428.0</td>\n",
       "      <td>0.076665</td>\n",
       "      <td>0.170199</td>\n",
       "    </tr>\n",
       "    <tr>\n",
       "      <th>RandomForestClassifier</th>\n",
       "      <td>0.910808</td>\n",
       "      <td>27837.0</td>\n",
       "      <td>30258.0</td>\n",
       "      <td>1634.0</td>\n",
       "      <td>4055.0</td>\n",
       "      <td>0.051235</td>\n",
       "      <td>0.127148</td>\n",
       "    </tr>\n",
       "    <tr>\n",
       "      <th>AdaBoostClassifier</th>\n",
       "      <td>0.887041</td>\n",
       "      <td>27068.0</td>\n",
       "      <td>29511.0</td>\n",
       "      <td>2381.0</td>\n",
       "      <td>4824.0</td>\n",
       "      <td>0.074658</td>\n",
       "      <td>0.151261</td>\n",
       "    </tr>\n",
       "    <tr>\n",
       "      <th>GradientBoostingClassifier</th>\n",
       "      <td>0.893077</td>\n",
       "      <td>26970.0</td>\n",
       "      <td>29994.0</td>\n",
       "      <td>1898.0</td>\n",
       "      <td>4922.0</td>\n",
       "      <td>0.059513</td>\n",
       "      <td>0.154333</td>\n",
       "    </tr>\n",
       "    <tr>\n",
       "      <th>ExtraTreeClassifier</th>\n",
       "      <td>0.911169</td>\n",
       "      <td>27831.0</td>\n",
       "      <td>30287.0</td>\n",
       "      <td>1605.0</td>\n",
       "      <td>4061.0</td>\n",
       "      <td>0.050326</td>\n",
       "      <td>0.127336</td>\n",
       "    </tr>\n",
       "    <tr>\n",
       "      <th>BaggingClassifier</th>\n",
       "      <td>0.910824</td>\n",
       "      <td>27892.0</td>\n",
       "      <td>30204.0</td>\n",
       "      <td>1688.0</td>\n",
       "      <td>4000.0</td>\n",
       "      <td>0.052929</td>\n",
       "      <td>0.125423</td>\n",
       "    </tr>\n",
       "    <tr>\n",
       "      <th>Neural Network-1</th>\n",
       "      <td>0.894629</td>\n",
       "      <td>27041.0</td>\n",
       "      <td>30022.0</td>\n",
       "      <td>1870.0</td>\n",
       "      <td>4851.0</td>\n",
       "      <td>0.058635</td>\n",
       "      <td>0.152107</td>\n",
       "    </tr>\n",
       "  </tbody>\n",
       "</table>\n",
       "</div>"
      ],
      "text/plain": [
       "                            accuracy       TP       TN      FP      FN  \\\n",
       "index                                                                    \n",
       "KNeighborsClassifier        0.862066  24071.0  30915.0   977.0  7821.0   \n",
       "LogisticRegression          0.876568  26464.0  29447.0  2445.0  5428.0   \n",
       "RandomForestClassifier      0.910808  27837.0  30258.0  1634.0  4055.0   \n",
       "AdaBoostClassifier          0.887041  27068.0  29511.0  2381.0  4824.0   \n",
       "GradientBoostingClassifier  0.893077  26970.0  29994.0  1898.0  4922.0   \n",
       "ExtraTreeClassifier         0.911169  27831.0  30287.0  1605.0  4061.0   \n",
       "BaggingClassifier           0.910824  27892.0  30204.0  1688.0  4000.0   \n",
       "Neural Network-1            0.894629  27041.0  30022.0  1870.0  4851.0   \n",
       "\n",
       "                                 FPR       FNR  \n",
       "index                                           \n",
       "KNeighborsClassifier        0.030635  0.245234  \n",
       "LogisticRegression          0.076665  0.170199  \n",
       "RandomForestClassifier      0.051235  0.127148  \n",
       "AdaBoostClassifier          0.074658  0.151261  \n",
       "GradientBoostingClassifier  0.059513  0.154333  \n",
       "ExtraTreeClassifier         0.050326  0.127336  \n",
       "BaggingClassifier           0.052929  0.125423  \n",
       "Neural Network-1            0.058635  0.152107  "
      ]
     },
     "metadata": {},
     "output_type": "display_data"
    },
    {
     "name": "stdout",
     "output_type": "stream",
     "text": [
      "Test Results\n"
     ]
    },
    {
     "data": {
      "text/html": [
       "<div>\n",
       "<style scoped>\n",
       "    .dataframe tbody tr th:only-of-type {\n",
       "        vertical-align: middle;\n",
       "    }\n",
       "\n",
       "    .dataframe tbody tr th {\n",
       "        vertical-align: top;\n",
       "    }\n",
       "\n",
       "    .dataframe thead th {\n",
       "        text-align: right;\n",
       "    }\n",
       "</style>\n",
       "<table border=\"1\" class=\"dataframe\">\n",
       "  <thead>\n",
       "    <tr style=\"text-align: right;\">\n",
       "      <th></th>\n",
       "      <th>accuracy</th>\n",
       "      <th>TP</th>\n",
       "      <th>TN</th>\n",
       "      <th>FP</th>\n",
       "      <th>FN</th>\n",
       "      <th>FPR</th>\n",
       "      <th>FNR</th>\n",
       "      <th>auc</th>\n",
       "      <th>mcc</th>\n",
       "    </tr>\n",
       "    <tr>\n",
       "      <th>index</th>\n",
       "      <th></th>\n",
       "      <th></th>\n",
       "      <th></th>\n",
       "      <th></th>\n",
       "      <th></th>\n",
       "      <th></th>\n",
       "      <th></th>\n",
       "      <th></th>\n",
       "      <th></th>\n",
       "    </tr>\n",
       "  </thead>\n",
       "  <tbody>\n",
       "    <tr>\n",
       "      <th>KNeighborsClassifier</th>\n",
       "      <td>0.926876</td>\n",
       "      <td>975.0</td>\n",
       "      <td>7695.0</td>\n",
       "      <td>290.0</td>\n",
       "      <td>394.0</td>\n",
       "      <td>0.036318</td>\n",
       "      <td>0.287801</td>\n",
       "      <td>0.837940</td>\n",
       "      <td>0.698581</td>\n",
       "    </tr>\n",
       "    <tr>\n",
       "      <th>LogisticRegression</th>\n",
       "      <td>0.908061</td>\n",
       "      <td>1147.0</td>\n",
       "      <td>7347.0</td>\n",
       "      <td>638.0</td>\n",
       "      <td>222.0</td>\n",
       "      <td>0.079900</td>\n",
       "      <td>0.162162</td>\n",
       "      <td>0.878969</td>\n",
       "      <td>0.681765</td>\n",
       "    </tr>\n",
       "    <tr>\n",
       "      <th>RandomForestClassifier</th>\n",
       "      <td>0.922600</td>\n",
       "      <td>1125.0</td>\n",
       "      <td>7505.0</td>\n",
       "      <td>480.0</td>\n",
       "      <td>244.0</td>\n",
       "      <td>0.060113</td>\n",
       "      <td>0.178232</td>\n",
       "      <td>0.880828</td>\n",
       "      <td>0.714064</td>\n",
       "    </tr>\n",
       "    <tr>\n",
       "      <th>AdaBoostClassifier</th>\n",
       "      <td>0.908809</td>\n",
       "      <td>1167.0</td>\n",
       "      <td>7334.0</td>\n",
       "      <td>651.0</td>\n",
       "      <td>202.0</td>\n",
       "      <td>0.081528</td>\n",
       "      <td>0.147553</td>\n",
       "      <td>0.885460</td>\n",
       "      <td>0.688622</td>\n",
       "    </tr>\n",
       "    <tr>\n",
       "      <th>GradientBoostingClassifier</th>\n",
       "      <td>0.922172</td>\n",
       "      <td>1162.0</td>\n",
       "      <td>7464.0</td>\n",
       "      <td>521.0</td>\n",
       "      <td>207.0</td>\n",
       "      <td>0.065247</td>\n",
       "      <td>0.151205</td>\n",
       "      <td>0.891774</td>\n",
       "      <td>0.721002</td>\n",
       "    </tr>\n",
       "    <tr>\n",
       "      <th>ExtraTreeClassifier</th>\n",
       "      <td>0.923028</td>\n",
       "      <td>1116.0</td>\n",
       "      <td>7518.0</td>\n",
       "      <td>467.0</td>\n",
       "      <td>253.0</td>\n",
       "      <td>0.058485</td>\n",
       "      <td>0.184806</td>\n",
       "      <td>0.878354</td>\n",
       "      <td>0.713328</td>\n",
       "    </tr>\n",
       "    <tr>\n",
       "      <th>BaggingClassifier</th>\n",
       "      <td>0.920569</td>\n",
       "      <td>1124.0</td>\n",
       "      <td>7487.0</td>\n",
       "      <td>498.0</td>\n",
       "      <td>245.0</td>\n",
       "      <td>0.062367</td>\n",
       "      <td>0.178963</td>\n",
       "      <td>0.879335</td>\n",
       "      <td>0.708306</td>\n",
       "    </tr>\n",
       "    <tr>\n",
       "      <th>Neural Network-1</th>\n",
       "      <td>0.921103</td>\n",
       "      <td>1148.0</td>\n",
       "      <td>7468.0</td>\n",
       "      <td>517.0</td>\n",
       "      <td>221.0</td>\n",
       "      <td>0.064746</td>\n",
       "      <td>0.161432</td>\n",
       "      <td>0.879335</td>\n",
       "      <td>0.715053</td>\n",
       "    </tr>\n",
       "  </tbody>\n",
       "</table>\n",
       "</div>"
      ],
      "text/plain": [
       "                            accuracy      TP      TN     FP     FN       FPR  \\\n",
       "index                                                                          \n",
       "KNeighborsClassifier        0.926876   975.0  7695.0  290.0  394.0  0.036318   \n",
       "LogisticRegression          0.908061  1147.0  7347.0  638.0  222.0  0.079900   \n",
       "RandomForestClassifier      0.922600  1125.0  7505.0  480.0  244.0  0.060113   \n",
       "AdaBoostClassifier          0.908809  1167.0  7334.0  651.0  202.0  0.081528   \n",
       "GradientBoostingClassifier  0.922172  1162.0  7464.0  521.0  207.0  0.065247   \n",
       "ExtraTreeClassifier         0.923028  1116.0  7518.0  467.0  253.0  0.058485   \n",
       "BaggingClassifier           0.920569  1124.0  7487.0  498.0  245.0  0.062367   \n",
       "Neural Network-1            0.921103  1148.0  7468.0  517.0  221.0  0.064746   \n",
       "\n",
       "                                 FNR       auc       mcc  \n",
       "index                                                     \n",
       "KNeighborsClassifier        0.287801  0.837940  0.698581  \n",
       "LogisticRegression          0.162162  0.878969  0.681765  \n",
       "RandomForestClassifier      0.178232  0.880828  0.714064  \n",
       "AdaBoostClassifier          0.147553  0.885460  0.688622  \n",
       "GradientBoostingClassifier  0.151205  0.891774  0.721002  \n",
       "ExtraTreeClassifier         0.184806  0.878354  0.713328  \n",
       "BaggingClassifier           0.178963  0.879335  0.708306  \n",
       "Neural Network-1            0.161432  0.879335  0.715053  "
      ]
     },
     "metadata": {},
     "output_type": "display_data"
    }
   ],
   "source": [
    "table_80_80_train['index']=ind_columns\n",
    "table_80_80_test['index']=ind_columns\n",
    "\n",
    "\n",
    "table_80_80_test.set_index(['index'],drop=True,inplace=True)\n",
    "table_80_80_train.set_index(['index'],drop=True,inplace=True)\n",
    "\n",
    "print(\"Training Results\")\n",
    "display(table_80_80_train)\n",
    "print(\"Test Results\")\n",
    "display(table_80_80_test)"
   ]
  },
  {
   "cell_type": "markdown",
   "metadata": {},
   "source": [
    "### <a id='2.B' style=\"text-decoration : none; color : #000000;\"> B. Average Feature Importances</a>"
   ]
  },
  {
   "cell_type": "code",
   "execution_count": 26,
   "metadata": {},
   "outputs": [
    {
     "data": {
      "application/vnd.plotly.v1+json": {
       "config": {
        "linkText": "Export to plot.ly",
        "plotlyServerURL": "https://plot.ly",
        "showLink": true
       },
       "data": [
        {
         "marker": {
          "color": "rgb(158,202,225)",
          "line": {
           "color": "rgb(8,48,107)",
           "width": 1.5
          }
         },
         "opacity": 0.6,
         "orientation": "h",
         "text": [
          0.4242,
          0.1711,
          0.0981,
          0.0944,
          0.0924,
          0.0704,
          0.0459,
          0.0011,
          0.0009,
          0.0008,
          0.0002,
          0.0002,
          0.0001,
          0.0001,
          0
         ],
         "textposition": "outside",
         "type": "bar",
         "uid": "339f212a-1794-479d-ab77-ca567f8ae8a7",
         "x": [
          0.4241660368281146,
          0.17110141170366916,
          0.09813091272333285,
          0.09443578175584799,
          0.09241186856462028,
          0.07044436118181413,
          0.0458913072907015,
          0.0010585934737002744,
          0.0009381554180265279,
          0.000791082682957271,
          0.00022721389510609114,
          0.00022342866719564283,
          8.92202707795835e-05,
          8.757821788125052e-05,
          3.0473262528579757e-06
         ],
         "y": [
          "url_char_.",
          "url_number_special_chars/url_length",
          "url_number_digits/url_length",
          "url_number_consonants/url_length",
          "url_number_vowels/url_length",
          "url_char_/",
          "url_char_-",
          "url_char_=",
          "url_port",
          "url_char_?",
          "url_char__",
          "url_char_&",
          "url_char_+",
          "url_char_%",
          "url_char_:"
         ]
        }
       ],
       "layout": {
        "autosize": false,
        "height": 1000,
        "width": 1000,
        "xaxis": {
         "tickfont": {
          "color": "black",
          "size": 12
         },
         "title": "Feature Importances"
        },
        "yaxis": {
         "automargin": true
        }
       }
      },
      "text/html": [
       "<div id=\"64779859-35e3-4332-8d08-56625dc4533b\" style=\"height: 1000px; width: 1000px;\" class=\"plotly-graph-div\"></div><script type=\"text/javascript\">require([\"plotly\"], function(Plotly) { window.PLOTLYENV=window.PLOTLYENV || {};window.PLOTLYENV.BASE_URL=\"https://plot.ly\";Plotly.newPlot(\"64779859-35e3-4332-8d08-56625dc4533b\", [{\"marker\": {\"color\": \"rgb(158,202,225)\", \"line\": {\"color\": \"rgb(8,48,107)\", \"width\": 1.5}}, \"opacity\": 0.6, \"orientation\": \"h\", \"text\": [0.4242, 0.1711, 0.0981, 0.0944, 0.0924, 0.0704, 0.0459, 0.0011, 0.0009, 0.0008, 0.0002, 0.0002, 0.0001, 0.0001, 0.0], \"textposition\": \"outside\", \"x\": [0.4241660368281146, 0.17110141170366916, 0.09813091272333285, 0.09443578175584799, 0.09241186856462028, 0.07044436118181413, 0.0458913072907015, 0.0010585934737002744, 0.0009381554180265279, 0.000791082682957271, 0.00022721389510609114, 0.00022342866719564283, 8.92202707795835e-05, 8.757821788125052e-05, 3.0473262528579757e-06], \"y\": [\"url_char_.\", \"url_number_special_chars/url_length\", \"url_number_digits/url_length\", \"url_number_consonants/url_length\", \"url_number_vowels/url_length\", \"url_char_/\", \"url_char_-\", \"url_char_=\", \"url_port\", \"url_char_?\", \"url_char__\", \"url_char_&\", \"url_char_+\", \"url_char_%\", \"url_char_:\"], \"type\": \"bar\", \"uid\": \"339f212a-1794-479d-ab77-ca567f8ae8a7\"}], {\"autosize\": false, \"height\": 1000, \"width\": 1000, \"xaxis\": {\"tickfont\": {\"color\": \"black\", \"size\": 12}, \"title\": \"Feature Importances\"}, \"yaxis\": {\"automargin\": true}}, {\"showLink\": true, \"linkText\": \"Export to plot.ly\", \"plotlyServerURL\": \"https://plot.ly\"})});</script>"
      ],
      "text/vnd.plotly.v1+html": [
       "<div id=\"64779859-35e3-4332-8d08-56625dc4533b\" style=\"height: 1000px; width: 1000px;\" class=\"plotly-graph-div\"></div><script type=\"text/javascript\">require([\"plotly\"], function(Plotly) { window.PLOTLYENV=window.PLOTLYENV || {};window.PLOTLYENV.BASE_URL=\"https://plot.ly\";Plotly.newPlot(\"64779859-35e3-4332-8d08-56625dc4533b\", [{\"marker\": {\"color\": \"rgb(158,202,225)\", \"line\": {\"color\": \"rgb(8,48,107)\", \"width\": 1.5}}, \"opacity\": 0.6, \"orientation\": \"h\", \"text\": [0.4242, 0.1711, 0.0981, 0.0944, 0.0924, 0.0704, 0.0459, 0.0011, 0.0009, 0.0008, 0.0002, 0.0002, 0.0001, 0.0001, 0.0], \"textposition\": \"outside\", \"x\": [0.4241660368281146, 0.17110141170366916, 0.09813091272333285, 0.09443578175584799, 0.09241186856462028, 0.07044436118181413, 0.0458913072907015, 0.0010585934737002744, 0.0009381554180265279, 0.000791082682957271, 0.00022721389510609114, 0.00022342866719564283, 8.92202707795835e-05, 8.757821788125052e-05, 3.0473262528579757e-06], \"y\": [\"url_char_.\", \"url_number_special_chars/url_length\", \"url_number_digits/url_length\", \"url_number_consonants/url_length\", \"url_number_vowels/url_length\", \"url_char_/\", \"url_char_-\", \"url_char_=\", \"url_port\", \"url_char_?\", \"url_char__\", \"url_char_&\", \"url_char_+\", \"url_char_%\", \"url_char_:\"], \"type\": \"bar\", \"uid\": \"339f212a-1794-479d-ab77-ca567f8ae8a7\"}], {\"autosize\": false, \"height\": 1000, \"width\": 1000, \"xaxis\": {\"tickfont\": {\"color\": \"black\", \"size\": 12}, \"title\": \"Feature Importances\"}, \"yaxis\": {\"automargin\": true}}, {\"showLink\": true, \"linkText\": \"Export to plot.ly\", \"plotlyServerURL\": \"https://plot.ly\"})});</script>"
      ]
     },
     "metadata": {},
     "output_type": "display_data"
    }
   ],
   "source": [
    "feat_impt_plot(np.average(feat_imp,axis=0),columns)"
   ]
  },
  {
   "cell_type": "markdown",
   "metadata": {},
   "source": [
    "### <a id='3' style=\"text-decoration : none; color : #000000;\"> 3. Undersampling</a>"
   ]
  },
  {
   "cell_type": "code",
   "execution_count": 27,
   "metadata": {},
   "outputs": [
    {
     "name": "stdout",
     "output_type": "stream",
     "text": [
      "Shape after undersampling (11050, 15)\n"
     ]
    }
   ],
   "source": [
    "df_non=train[train.Target==0]\n",
    "df_mal=train[train.Target==1]\n",
    "\n",
    "df_non=df_non.sample(frac=len(df_mal)/len(df_non),random_state=0)\n",
    "df_u=df_non.append(df_mal)\n",
    "df_u.Target.value_counts() \n",
    "\n",
    "X_train=df_u[columns]\n",
    "X_train=scaler.transform(X_train)\n",
    "Y_train=df_u.Target.values\n",
    "\n",
    "print(\"Shape after undersampling\",X_train.shape)\n"
   ]
  },
  {
   "cell_type": "code",
   "execution_count": 28,
   "metadata": {
    "collapsed": true
   },
   "outputs": [],
   "source": [
    "## Table to store training and test measures so we can compare later\n",
    "table_80_90_train=pd.DataFrame(columns=['accuracy','TP','TN','FP','FN','FPR','FNR'])\n",
    "table_80_90_test=pd.DataFrame(columns=['accuracy','TP','TN','FP','FN','FPR','FNR','auc','mcc'])"
   ]
  },
  {
   "cell_type": "code",
   "execution_count": 29,
   "metadata": {
    "scrolled": false
   },
   "outputs": [
    {
     "name": "stdout",
     "output_type": "stream",
     "text": [
      "\u001b[1mK-Nearest Neighbors\u001b[0m\n",
      "Accuracy of the model for training data is: 0.828325791855\n",
      "Confusion Matrix for training data is:\n"
     ]
    },
    {
     "data": {
      "text/plain": [
       "Predicted  False  True  __all__\n",
       "Actual                         \n",
       "False       5388   137     5525\n",
       "True        1760  3765     5525\n",
       "__all__     7148  3902    11050"
      ]
     },
     "metadata": {},
     "output_type": "display_data"
    },
    {
     "name": "stdout",
     "output_type": "stream",
     "text": [
      "Accuracy of the model for test data is: 0.925165704511\n",
      "Confusion Matrix for test data is:\n"
     ]
    },
    {
     "data": {
      "text/plain": [
       "Predicted  False  True  __all__\n",
       "Actual                         \n",
       "False       7702   283     7985\n",
       "True         417   952     1369\n",
       "__all__     8119  1235     9354"
      ]
     },
     "metadata": {},
     "output_type": "display_data"
    },
    {
     "name": "stdout",
     "output_type": "stream",
     "text": [
      "\n",
      "\n",
      "\u001b[1mLogistic Regression\u001b[0m\n",
      "Accuracy of the model for training data is: 0.877104072398\n",
      "Confusion Matrix for training data is:\n"
     ]
    },
    {
     "data": {
      "text/plain": [
       "Predicted  False  True  __all__\n",
       "Actual                         \n",
       "False       5090   435     5525\n",
       "True         923  4602     5525\n",
       "__all__     6013  5037    11050"
      ]
     },
     "metadata": {},
     "output_type": "display_data"
    },
    {
     "name": "stdout",
     "output_type": "stream",
     "text": [
      "Accuracy of the model for test data is: 0.908274534958\n",
      "Confusion Matrix for test data is:\n"
     ]
    },
    {
     "data": {
      "text/plain": [
       "Predicted  False  True  __all__\n",
       "Actual                         \n",
       "False       7349   636     7985\n",
       "True         222  1147     1369\n",
       "__all__     7571  1783     9354"
      ]
     },
     "metadata": {},
     "output_type": "display_data"
    },
    {
     "name": "stdout",
     "output_type": "stream",
     "text": [
      "\n",
      "\n",
      "\u001b[1mRandomForest Classifier\u001b[0m\n",
      "Accuracy of the model for training data is: 0.89963800905\n",
      "Confusion Matrix for training data is:\n"
     ]
    },
    {
     "data": {
      "text/plain": [
       "Predicted  False  True  __all__\n",
       "Actual                         \n",
       "False       5225   300     5525\n",
       "True         809  4716     5525\n",
       "__all__     6034  5016    11050"
      ]
     },
     "metadata": {},
     "output_type": "display_data"
    },
    {
     "name": "stdout",
     "output_type": "stream",
     "text": [
      "Accuracy of the model for test data is: 0.91030575155\n",
      "Confusion Matrix for test data is:\n"
     ]
    },
    {
     "data": {
      "text/plain": [
       "Predicted  False  True  __all__\n",
       "Actual                         \n",
       "False       7372   613     7985\n",
       "True         226  1143     1369\n",
       "__all__     7598  1756     9354"
      ]
     },
     "metadata": {},
     "output_type": "display_data"
    },
    {
     "data": {
      "application/vnd.plotly.v1+json": {
       "config": {
        "linkText": "Export to plot.ly",
        "plotlyServerURL": "https://plot.ly",
        "showLink": true
       },
       "data": [
        {
         "marker": {
          "color": "rgb(158,202,225)",
          "line": {
           "color": "rgb(8,48,107)",
           "width": 1.5
          }
         },
         "opacity": 0.6,
         "orientation": "h",
         "text": [
          0.5059,
          0.1513,
          0.0837,
          0.0787,
          0.0722,
          0.0697,
          0.0339,
          0.0026,
          0.0016,
          0.0002,
          0.0001,
          0,
          0,
          0,
          0
         ],
         "textposition": "outside",
         "type": "bar",
         "uid": "f07aa7b1-39cb-4cca-8d12-1d426927b75d",
         "x": [
          0.5059212678753469,
          0.1513118117796009,
          0.08369383143087997,
          0.0787004596045349,
          0.07220257842978031,
          0.06970348149091986,
          0.03394559792736225,
          0.0026226932100383233,
          0.0015531475017116388,
          0.00023021814148762638,
          7.79058023544217e-05,
          3.619832712767389e-05,
          8.08478855264099e-07,
          0,
          0
         ],
         "y": [
          "url_char_.",
          "url_number_special_chars/url_length",
          "url_number_vowels/url_length",
          "url_char_/",
          "url_number_consonants/url_length",
          "url_number_digits/url_length",
          "url_char_-",
          "url_char_=",
          "url_port",
          "url_char__",
          "url_char_?",
          "url_char_+",
          "url_char_%",
          "url_char_&",
          "url_char_:"
         ]
        }
       ],
       "layout": {
        "autosize": false,
        "height": 1000,
        "width": 1000,
        "xaxis": {
         "tickfont": {
          "color": "black",
          "size": 12
         },
         "title": "Feature Importances"
        },
        "yaxis": {
         "automargin": true
        }
       }
      },
      "text/html": [
       "<div id=\"f49ce307-ad47-4c39-ae7c-d547bc25e55b\" style=\"height: 1000px; width: 1000px;\" class=\"plotly-graph-div\"></div><script type=\"text/javascript\">require([\"plotly\"], function(Plotly) { window.PLOTLYENV=window.PLOTLYENV || {};window.PLOTLYENV.BASE_URL=\"https://plot.ly\";Plotly.newPlot(\"f49ce307-ad47-4c39-ae7c-d547bc25e55b\", [{\"marker\": {\"color\": \"rgb(158,202,225)\", \"line\": {\"color\": \"rgb(8,48,107)\", \"width\": 1.5}}, \"opacity\": 0.6, \"orientation\": \"h\", \"text\": [0.5059, 0.1513, 0.0837, 0.0787, 0.0722, 0.0697, 0.0339, 0.0026, 0.0016, 0.0002, 0.0001, 0.0, 0.0, 0.0, 0.0], \"textposition\": \"outside\", \"x\": [0.5059212678753469, 0.1513118117796009, 0.08369383143087997, 0.0787004596045349, 0.07220257842978031, 0.06970348149091986, 0.03394559792736225, 0.0026226932100383233, 0.0015531475017116388, 0.00023021814148762638, 7.79058023544217e-05, 3.619832712767389e-05, 8.08478855264099e-07, 0.0, 0.0], \"y\": [\"url_char_.\", \"url_number_special_chars/url_length\", \"url_number_vowels/url_length\", \"url_char_/\", \"url_number_consonants/url_length\", \"url_number_digits/url_length\", \"url_char_-\", \"url_char_=\", \"url_port\", \"url_char__\", \"url_char_?\", \"url_char_+\", \"url_char_%\", \"url_char_&\", \"url_char_:\"], \"type\": \"bar\", \"uid\": \"f07aa7b1-39cb-4cca-8d12-1d426927b75d\"}], {\"autosize\": false, \"height\": 1000, \"width\": 1000, \"xaxis\": {\"tickfont\": {\"color\": \"black\", \"size\": 12}, \"title\": \"Feature Importances\"}, \"yaxis\": {\"automargin\": true}}, {\"showLink\": true, \"linkText\": \"Export to plot.ly\", \"plotlyServerURL\": \"https://plot.ly\"})});</script>"
      ],
      "text/vnd.plotly.v1+html": [
       "<div id=\"f49ce307-ad47-4c39-ae7c-d547bc25e55b\" style=\"height: 1000px; width: 1000px;\" class=\"plotly-graph-div\"></div><script type=\"text/javascript\">require([\"plotly\"], function(Plotly) { window.PLOTLYENV=window.PLOTLYENV || {};window.PLOTLYENV.BASE_URL=\"https://plot.ly\";Plotly.newPlot(\"f49ce307-ad47-4c39-ae7c-d547bc25e55b\", [{\"marker\": {\"color\": \"rgb(158,202,225)\", \"line\": {\"color\": \"rgb(8,48,107)\", \"width\": 1.5}}, \"opacity\": 0.6, \"orientation\": \"h\", \"text\": [0.5059, 0.1513, 0.0837, 0.0787, 0.0722, 0.0697, 0.0339, 0.0026, 0.0016, 0.0002, 0.0001, 0.0, 0.0, 0.0, 0.0], \"textposition\": \"outside\", \"x\": [0.5059212678753469, 0.1513118117796009, 0.08369383143087997, 0.0787004596045349, 0.07220257842978031, 0.06970348149091986, 0.03394559792736225, 0.0026226932100383233, 0.0015531475017116388, 0.00023021814148762638, 7.79058023544217e-05, 3.619832712767389e-05, 8.08478855264099e-07, 0.0, 0.0], \"y\": [\"url_char_.\", \"url_number_special_chars/url_length\", \"url_number_vowels/url_length\", \"url_char_/\", \"url_number_consonants/url_length\", \"url_number_digits/url_length\", \"url_char_-\", \"url_char_=\", \"url_port\", \"url_char__\", \"url_char_?\", \"url_char_+\", \"url_char_%\", \"url_char_&\", \"url_char_:\"], \"type\": \"bar\", \"uid\": \"f07aa7b1-39cb-4cca-8d12-1d426927b75d\"}], {\"autosize\": false, \"height\": 1000, \"width\": 1000, \"xaxis\": {\"tickfont\": {\"color\": \"black\", \"size\": 12}, \"title\": \"Feature Importances\"}, \"yaxis\": {\"automargin\": true}}, {\"showLink\": true, \"linkText\": \"Export to plot.ly\", \"plotlyServerURL\": \"https://plot.ly\"})});</script>"
      ]
     },
     "metadata": {},
     "output_type": "display_data"
    },
    {
     "name": "stdout",
     "output_type": "stream",
     "text": [
      "\n",
      "\n",
      "\u001b[1mAdaoost Classifier\u001b[0m\n",
      "Accuracy of the model for training data is: 0.882443438914\n",
      "Confusion Matrix for training data is:\n"
     ]
    },
    {
     "data": {
      "text/plain": [
       "Predicted  False  True  __all__\n",
       "Actual                         \n",
       "False       5004   521     5525\n",
       "True         778  4747     5525\n",
       "__all__     5782  5268    11050"
      ]
     },
     "metadata": {},
     "output_type": "display_data"
    },
    {
     "name": "stdout",
     "output_type": "stream",
     "text": [
      "Accuracy of the model for test data is: 0.898225358136\n",
      "Confusion Matrix for test data is:\n"
     ]
    },
    {
     "data": {
      "text/plain": [
       "Predicted  False  True  __all__\n",
       "Actual                         \n",
       "False       7225   760     7985\n",
       "True         192  1177     1369\n",
       "__all__     7417  1937     9354"
      ]
     },
     "metadata": {},
     "output_type": "display_data"
    },
    {
     "data": {
      "application/vnd.plotly.v1+json": {
       "config": {
        "linkText": "Export to plot.ly",
        "plotlyServerURL": "https://plot.ly",
        "showLink": true
       },
       "data": [
        {
         "marker": {
          "color": "rgb(158,202,225)",
          "line": {
           "color": "rgb(8,48,107)",
           "width": 1.5
          }
         },
         "opacity": 0.6,
         "orientation": "h",
         "text": [
          0.3,
          0.16,
          0.16,
          0.14,
          0.14,
          0.08,
          0.02,
          0,
          0,
          0,
          0,
          0,
          0,
          0,
          0
         ],
         "textposition": "outside",
         "type": "bar",
         "uid": "83f5a999-fd08-4cbc-889e-0facf1247273",
         "x": [
          0.3,
          0.16,
          0.16,
          0.14,
          0.14,
          0.08,
          0.02,
          0,
          0,
          0,
          0,
          0,
          0,
          0,
          0
         ],
         "y": [
          "url_number_special_chars/url_length",
          "url_number_consonants/url_length",
          "url_number_digits/url_length",
          "url_char_.",
          "url_number_vowels/url_length",
          "url_char_-",
          "url_char_/",
          "url_char_%",
          "url_char_&",
          "url_char_+",
          "url_char_:",
          "url_char_=",
          "url_char_?",
          "url_char__",
          "url_port"
         ]
        }
       ],
       "layout": {
        "autosize": false,
        "height": 1000,
        "width": 1000,
        "xaxis": {
         "tickfont": {
          "color": "black",
          "size": 12
         },
         "title": "Feature Importances"
        },
        "yaxis": {
         "automargin": true
        }
       }
      },
      "text/html": [
       "<div id=\"1f99e59c-d07b-43b5-8b08-4ab2bf91b244\" style=\"height: 1000px; width: 1000px;\" class=\"plotly-graph-div\"></div><script type=\"text/javascript\">require([\"plotly\"], function(Plotly) { window.PLOTLYENV=window.PLOTLYENV || {};window.PLOTLYENV.BASE_URL=\"https://plot.ly\";Plotly.newPlot(\"1f99e59c-d07b-43b5-8b08-4ab2bf91b244\", [{\"marker\": {\"color\": \"rgb(158,202,225)\", \"line\": {\"color\": \"rgb(8,48,107)\", \"width\": 1.5}}, \"opacity\": 0.6, \"orientation\": \"h\", \"text\": [0.3, 0.16, 0.16, 0.14, 0.14, 0.08, 0.02, 0.0, 0.0, 0.0, 0.0, 0.0, 0.0, 0.0, 0.0], \"textposition\": \"outside\", \"x\": [0.3, 0.16, 0.16, 0.14, 0.14, 0.08, 0.02, 0.0, 0.0, 0.0, 0.0, 0.0, 0.0, 0.0, 0.0], \"y\": [\"url_number_special_chars/url_length\", \"url_number_consonants/url_length\", \"url_number_digits/url_length\", \"url_char_.\", \"url_number_vowels/url_length\", \"url_char_-\", \"url_char_/\", \"url_char_%\", \"url_char_&\", \"url_char_+\", \"url_char_:\", \"url_char_=\", \"url_char_?\", \"url_char__\", \"url_port\"], \"type\": \"bar\", \"uid\": \"83f5a999-fd08-4cbc-889e-0facf1247273\"}], {\"autosize\": false, \"height\": 1000, \"width\": 1000, \"xaxis\": {\"tickfont\": {\"color\": \"black\", \"size\": 12}, \"title\": \"Feature Importances\"}, \"yaxis\": {\"automargin\": true}}, {\"showLink\": true, \"linkText\": \"Export to plot.ly\", \"plotlyServerURL\": \"https://plot.ly\"})});</script>"
      ],
      "text/vnd.plotly.v1+html": [
       "<div id=\"1f99e59c-d07b-43b5-8b08-4ab2bf91b244\" style=\"height: 1000px; width: 1000px;\" class=\"plotly-graph-div\"></div><script type=\"text/javascript\">require([\"plotly\"], function(Plotly) { window.PLOTLYENV=window.PLOTLYENV || {};window.PLOTLYENV.BASE_URL=\"https://plot.ly\";Plotly.newPlot(\"1f99e59c-d07b-43b5-8b08-4ab2bf91b244\", [{\"marker\": {\"color\": \"rgb(158,202,225)\", \"line\": {\"color\": \"rgb(8,48,107)\", \"width\": 1.5}}, \"opacity\": 0.6, \"orientation\": \"h\", \"text\": [0.3, 0.16, 0.16, 0.14, 0.14, 0.08, 0.02, 0.0, 0.0, 0.0, 0.0, 0.0, 0.0, 0.0, 0.0], \"textposition\": \"outside\", \"x\": [0.3, 0.16, 0.16, 0.14, 0.14, 0.08, 0.02, 0.0, 0.0, 0.0, 0.0, 0.0, 0.0, 0.0, 0.0], \"y\": [\"url_number_special_chars/url_length\", \"url_number_consonants/url_length\", \"url_number_digits/url_length\", \"url_char_.\", \"url_number_vowels/url_length\", \"url_char_-\", \"url_char_/\", \"url_char_%\", \"url_char_&\", \"url_char_+\", \"url_char_:\", \"url_char_=\", \"url_char_?\", \"url_char__\", \"url_port\"], \"type\": \"bar\", \"uid\": \"83f5a999-fd08-4cbc-889e-0facf1247273\"}], {\"autosize\": false, \"height\": 1000, \"width\": 1000, \"xaxis\": {\"tickfont\": {\"color\": \"black\", \"size\": 12}, \"title\": \"Feature Importances\"}, \"yaxis\": {\"automargin\": true}}, {\"showLink\": true, \"linkText\": \"Export to plot.ly\", \"plotlyServerURL\": \"https://plot.ly\"})});</script>"
      ]
     },
     "metadata": {},
     "output_type": "display_data"
    },
    {
     "name": "stdout",
     "output_type": "stream",
     "text": [
      "\n",
      "\n",
      "\u001b[1mGradientBoosting Classifier\u001b[0m\n",
      "Accuracy of the model for training data is: 0.889230769231\n",
      "Confusion Matrix for training data is:\n"
     ]
    },
    {
     "data": {
      "text/plain": [
       "Predicted  False  True  __all__\n",
       "Actual                         \n",
       "False       5142   383     5525\n",
       "True         841  4684     5525\n",
       "__all__     5983  5067    11050"
      ]
     },
     "metadata": {},
     "output_type": "display_data"
    },
    {
     "name": "stdout",
     "output_type": "stream",
     "text": [
      "Accuracy of the model for test data is: 0.914688903143\n",
      "Confusion Matrix for test data is:\n"
     ]
    },
    {
     "data": {
      "text/plain": [
       "Predicted  False  True  __all__\n",
       "Actual                         \n",
       "False       7390   595     7985\n",
       "True         203  1166     1369\n",
       "__all__     7593  1761     9354"
      ]
     },
     "metadata": {},
     "output_type": "display_data"
    },
    {
     "data": {
      "application/vnd.plotly.v1+json": {
       "config": {
        "linkText": "Export to plot.ly",
        "plotlyServerURL": "https://plot.ly",
        "showLink": true
       },
       "data": [
        {
         "marker": {
          "color": "rgb(158,202,225)",
          "line": {
           "color": "rgb(8,48,107)",
           "width": 1.5
          }
         },
         "opacity": 0.6,
         "orientation": "h",
         "text": [
          0.5909,
          0.1404,
          0.1148,
          0.0767,
          0.0407,
          0.0289,
          0.0076,
          0,
          0,
          0,
          0,
          0,
          0,
          0,
          0
         ],
         "textposition": "outside",
         "type": "bar",
         "uid": "0e49fd86-6899-45f3-a070-b982de915185",
         "x": [
          0.5908856035963075,
          0.1403632495090216,
          0.11476773502818016,
          0.07673358067945804,
          0.04072207276296757,
          0.02894635052239252,
          0.007581407901672561,
          0,
          0,
          0,
          0,
          0,
          0,
          0,
          0
         ],
         "y": [
          "url_char_.",
          "url_number_special_chars/url_length",
          "url_char_/",
          "url_number_digits/url_length",
          "url_number_vowels/url_length",
          "url_char_-",
          "url_number_consonants/url_length",
          "url_char_%",
          "url_char_&",
          "url_char_+",
          "url_char_:",
          "url_char_=",
          "url_char_?",
          "url_char__",
          "url_port"
         ]
        }
       ],
       "layout": {
        "autosize": false,
        "height": 1000,
        "width": 1000,
        "xaxis": {
         "tickfont": {
          "color": "black",
          "size": 12
         },
         "title": "Feature Importances"
        },
        "yaxis": {
         "automargin": true
        }
       }
      },
      "text/html": [
       "<div id=\"e5920d40-2ce9-4242-8051-95bfc77fdf8c\" style=\"height: 1000px; width: 1000px;\" class=\"plotly-graph-div\"></div><script type=\"text/javascript\">require([\"plotly\"], function(Plotly) { window.PLOTLYENV=window.PLOTLYENV || {};window.PLOTLYENV.BASE_URL=\"https://plot.ly\";Plotly.newPlot(\"e5920d40-2ce9-4242-8051-95bfc77fdf8c\", [{\"marker\": {\"color\": \"rgb(158,202,225)\", \"line\": {\"color\": \"rgb(8,48,107)\", \"width\": 1.5}}, \"opacity\": 0.6, \"orientation\": \"h\", \"text\": [0.5909, 0.1404, 0.1148, 0.0767, 0.0407, 0.0289, 0.0076, 0.0, 0.0, 0.0, 0.0, 0.0, 0.0, 0.0, 0.0], \"textposition\": \"outside\", \"x\": [0.5908856035963075, 0.1403632495090216, 0.11476773502818016, 0.07673358067945804, 0.04072207276296757, 0.02894635052239252, 0.007581407901672561, 0.0, 0.0, 0.0, 0.0, 0.0, 0.0, 0.0, 0.0], \"y\": [\"url_char_.\", \"url_number_special_chars/url_length\", \"url_char_/\", \"url_number_digits/url_length\", \"url_number_vowels/url_length\", \"url_char_-\", \"url_number_consonants/url_length\", \"url_char_%\", \"url_char_&\", \"url_char_+\", \"url_char_:\", \"url_char_=\", \"url_char_?\", \"url_char__\", \"url_port\"], \"type\": \"bar\", \"uid\": \"0e49fd86-6899-45f3-a070-b982de915185\"}], {\"autosize\": false, \"height\": 1000, \"width\": 1000, \"xaxis\": {\"tickfont\": {\"color\": \"black\", \"size\": 12}, \"title\": \"Feature Importances\"}, \"yaxis\": {\"automargin\": true}}, {\"showLink\": true, \"linkText\": \"Export to plot.ly\", \"plotlyServerURL\": \"https://plot.ly\"})});</script>"
      ],
      "text/vnd.plotly.v1+html": [
       "<div id=\"e5920d40-2ce9-4242-8051-95bfc77fdf8c\" style=\"height: 1000px; width: 1000px;\" class=\"plotly-graph-div\"></div><script type=\"text/javascript\">require([\"plotly\"], function(Plotly) { window.PLOTLYENV=window.PLOTLYENV || {};window.PLOTLYENV.BASE_URL=\"https://plot.ly\";Plotly.newPlot(\"e5920d40-2ce9-4242-8051-95bfc77fdf8c\", [{\"marker\": {\"color\": \"rgb(158,202,225)\", \"line\": {\"color\": \"rgb(8,48,107)\", \"width\": 1.5}}, \"opacity\": 0.6, \"orientation\": \"h\", \"text\": [0.5909, 0.1404, 0.1148, 0.0767, 0.0407, 0.0289, 0.0076, 0.0, 0.0, 0.0, 0.0, 0.0, 0.0, 0.0, 0.0], \"textposition\": \"outside\", \"x\": [0.5908856035963075, 0.1403632495090216, 0.11476773502818016, 0.07673358067945804, 0.04072207276296757, 0.02894635052239252, 0.007581407901672561, 0.0, 0.0, 0.0, 0.0, 0.0, 0.0, 0.0, 0.0], \"y\": [\"url_char_.\", \"url_number_special_chars/url_length\", \"url_char_/\", \"url_number_digits/url_length\", \"url_number_vowels/url_length\", \"url_char_-\", \"url_number_consonants/url_length\", \"url_char_%\", \"url_char_&\", \"url_char_+\", \"url_char_:\", \"url_char_=\", \"url_char_?\", \"url_char__\", \"url_port\"], \"type\": \"bar\", \"uid\": \"0e49fd86-6899-45f3-a070-b982de915185\"}], {\"autosize\": false, \"height\": 1000, \"width\": 1000, \"xaxis\": {\"tickfont\": {\"color\": \"black\", \"size\": 12}, \"title\": \"Feature Importances\"}, \"yaxis\": {\"automargin\": true}}, {\"showLink\": true, \"linkText\": \"Export to plot.ly\", \"plotlyServerURL\": \"https://plot.ly\"})});</script>"
      ]
     },
     "metadata": {},
     "output_type": "display_data"
    },
    {
     "name": "stdout",
     "output_type": "stream",
     "text": [
      "\n",
      "\n",
      "\u001b[1mExtraTree Classifier\u001b[0m\n",
      "Accuracy of the model for training data is: 0.90036199095\n",
      "Confusion Matrix for training data is:\n"
     ]
    },
    {
     "data": {
      "text/plain": [
       "Predicted  False  True  __all__\n",
       "Actual                         \n",
       "False       5262   263     5525\n",
       "True         838  4687     5525\n",
       "__all__     6100  4950    11050"
      ]
     },
     "metadata": {},
     "output_type": "display_data"
    },
    {
     "name": "stdout",
     "output_type": "stream",
     "text": [
      "Accuracy of the model for test data is: 0.912443874278\n",
      "Confusion Matrix for test data is:\n"
     ]
    },
    {
     "data": {
      "text/plain": [
       "Predicted  False  True  __all__\n",
       "Actual                         \n",
       "False       7396   589     7985\n",
       "True         230  1139     1369\n",
       "__all__     7626  1728     9354"
      ]
     },
     "metadata": {},
     "output_type": "display_data"
    },
    {
     "data": {
      "application/vnd.plotly.v1+json": {
       "config": {
        "linkText": "Export to plot.ly",
        "plotlyServerURL": "https://plot.ly",
        "showLink": true
       },
       "data": [
        {
         "marker": {
          "color": "rgb(158,202,225)",
          "line": {
           "color": "rgb(8,48,107)",
           "width": 1.5
          }
         },
         "opacity": 0.6,
         "orientation": "h",
         "text": [
          0.5125,
          0.1241,
          0.0853,
          0.0837,
          0.0737,
          0.0725,
          0.0381,
          0.0043,
          0.0033,
          0.0008,
          0.0008,
          0.0006,
          0.0002,
          0.0001,
          0
         ],
         "textposition": "outside",
         "type": "bar",
         "uid": "7a053994-a783-40f1-8584-b93bcc958de7",
         "x": [
          0.5124765130265458,
          0.12409286332439409,
          0.08527856306480044,
          0.08373203257169023,
          0.07366680420368371,
          0.0725489816066232,
          0.038102731757841804,
          0.004311995741038843,
          0.003333218117597527,
          0.0008349322559488493,
          0.0007624210782581594,
          0.0005927423512638926,
          0.0001620598322619664,
          8.186020880583675e-05,
          2.2280859245603532e-05
         ],
         "y": [
          "url_char_.",
          "url_number_special_chars/url_length",
          "url_char_/",
          "url_number_vowels/url_length",
          "url_number_consonants/url_length",
          "url_number_digits/url_length",
          "url_char_-",
          "url_port",
          "url_char_?",
          "url_char__",
          "url_char_=",
          "url_char_+",
          "url_char_%",
          "url_char_&",
          "url_char_:"
         ]
        }
       ],
       "layout": {
        "autosize": false,
        "height": 1000,
        "width": 1000,
        "xaxis": {
         "tickfont": {
          "color": "black",
          "size": 12
         },
         "title": "Feature Importances"
        },
        "yaxis": {
         "automargin": true
        }
       }
      },
      "text/html": [
       "<div id=\"fc6087c0-24da-479b-ad60-292b7fb3b89f\" style=\"height: 1000px; width: 1000px;\" class=\"plotly-graph-div\"></div><script type=\"text/javascript\">require([\"plotly\"], function(Plotly) { window.PLOTLYENV=window.PLOTLYENV || {};window.PLOTLYENV.BASE_URL=\"https://plot.ly\";Plotly.newPlot(\"fc6087c0-24da-479b-ad60-292b7fb3b89f\", [{\"marker\": {\"color\": \"rgb(158,202,225)\", \"line\": {\"color\": \"rgb(8,48,107)\", \"width\": 1.5}}, \"opacity\": 0.6, \"orientation\": \"h\", \"text\": [0.5125, 0.1241, 0.0853, 0.0837, 0.0737, 0.0725, 0.0381, 0.0043, 0.0033, 0.0008, 0.0008, 0.0006, 0.0002, 0.0001, 0.0], \"textposition\": \"outside\", \"x\": [0.5124765130265458, 0.12409286332439409, 0.08527856306480044, 0.08373203257169023, 0.07366680420368371, 0.0725489816066232, 0.038102731757841804, 0.004311995741038843, 0.003333218117597527, 0.0008349322559488493, 0.0007624210782581594, 0.0005927423512638926, 0.0001620598322619664, 8.186020880583675e-05, 2.2280859245603532e-05], \"y\": [\"url_char_.\", \"url_number_special_chars/url_length\", \"url_char_/\", \"url_number_vowels/url_length\", \"url_number_consonants/url_length\", \"url_number_digits/url_length\", \"url_char_-\", \"url_port\", \"url_char_?\", \"url_char__\", \"url_char_=\", \"url_char_+\", \"url_char_%\", \"url_char_&\", \"url_char_:\"], \"type\": \"bar\", \"uid\": \"7a053994-a783-40f1-8584-b93bcc958de7\"}], {\"autosize\": false, \"height\": 1000, \"width\": 1000, \"xaxis\": {\"tickfont\": {\"color\": \"black\", \"size\": 12}, \"title\": \"Feature Importances\"}, \"yaxis\": {\"automargin\": true}}, {\"showLink\": true, \"linkText\": \"Export to plot.ly\", \"plotlyServerURL\": \"https://plot.ly\"})});</script>"
      ],
      "text/vnd.plotly.v1+html": [
       "<div id=\"fc6087c0-24da-479b-ad60-292b7fb3b89f\" style=\"height: 1000px; width: 1000px;\" class=\"plotly-graph-div\"></div><script type=\"text/javascript\">require([\"plotly\"], function(Plotly) { window.PLOTLYENV=window.PLOTLYENV || {};window.PLOTLYENV.BASE_URL=\"https://plot.ly\";Plotly.newPlot(\"fc6087c0-24da-479b-ad60-292b7fb3b89f\", [{\"marker\": {\"color\": \"rgb(158,202,225)\", \"line\": {\"color\": \"rgb(8,48,107)\", \"width\": 1.5}}, \"opacity\": 0.6, \"orientation\": \"h\", \"text\": [0.5125, 0.1241, 0.0853, 0.0837, 0.0737, 0.0725, 0.0381, 0.0043, 0.0033, 0.0008, 0.0008, 0.0006, 0.0002, 0.0001, 0.0], \"textposition\": \"outside\", \"x\": [0.5124765130265458, 0.12409286332439409, 0.08527856306480044, 0.08373203257169023, 0.07366680420368371, 0.0725489816066232, 0.038102731757841804, 0.004311995741038843, 0.003333218117597527, 0.0008349322559488493, 0.0007624210782581594, 0.0005927423512638926, 0.0001620598322619664, 8.186020880583675e-05, 2.2280859245603532e-05], \"y\": [\"url_char_.\", \"url_number_special_chars/url_length\", \"url_char_/\", \"url_number_vowels/url_length\", \"url_number_consonants/url_length\", \"url_number_digits/url_length\", \"url_char_-\", \"url_port\", \"url_char_?\", \"url_char__\", \"url_char_=\", \"url_char_+\", \"url_char_%\", \"url_char_&\", \"url_char_:\"], \"type\": \"bar\", \"uid\": \"7a053994-a783-40f1-8584-b93bcc958de7\"}], {\"autosize\": false, \"height\": 1000, \"width\": 1000, \"xaxis\": {\"tickfont\": {\"color\": \"black\", \"size\": 12}, \"title\": \"Feature Importances\"}, \"yaxis\": {\"automargin\": true}}, {\"showLink\": true, \"linkText\": \"Export to plot.ly\", \"plotlyServerURL\": \"https://plot.ly\"})});</script>"
      ]
     },
     "metadata": {},
     "output_type": "display_data"
    },
    {
     "name": "stdout",
     "output_type": "stream",
     "text": [
      "\n",
      "\n",
      "\u001b[1mBagging Classifier\u001b[0m\n",
      "Accuracy of the model for training data is: 0.899547511312\n",
      "Confusion Matrix for training data is:\n"
     ]
    },
    {
     "data": {
      "text/plain": [
       "Predicted  False  True  __all__\n",
       "Actual                         \n",
       "False       5234   291     5525\n",
       "True         819  4706     5525\n",
       "__all__     6053  4997    11050"
      ]
     },
     "metadata": {},
     "output_type": "display_data"
    },
    {
     "name": "stdout",
     "output_type": "stream",
     "text": [
      "Accuracy of the model for test data is: 0.910947188369\n",
      "Confusion Matrix for test data is:\n"
     ]
    },
    {
     "data": {
      "text/plain": [
       "Predicted  False  True  __all__\n",
       "Actual                         \n",
       "False       7379   606     7985\n",
       "True         227  1142     1369\n",
       "__all__     7606  1748     9354"
      ]
     },
     "metadata": {},
     "output_type": "display_data"
    },
    {
     "name": "stdout",
     "output_type": "stream",
     "text": [
      "\n",
      "\n",
      "\u001b[1mNeural Network-1\u001b[0m\n",
      "The accuracy of the model on training data is: 0.890135746596\n"
     ]
    },
    {
     "data": {
      "text/plain": [
       "Predicted  False  True  __all__\n",
       "Actual                         \n",
       "False       5136   389     5525\n",
       "True         825  4700     5525\n",
       "__all__     5961  5089    11050"
      ]
     },
     "metadata": {},
     "output_type": "display_data"
    },
    {
     "name": "stdout",
     "output_type": "stream",
     "text": [
      "The accuracy of the model on test data is: 0.91597177678\n"
     ]
    },
    {
     "data": {
      "text/plain": [
       "Predicted  False  True  __all__\n",
       "Actual                         \n",
       "False       7400   585     7985\n",
       "True         201  1168     1369\n",
       "__all__     7601  1753     9354"
      ]
     },
     "metadata": {},
     "output_type": "display_data"
    },
    {
     "name": "stdout",
     "output_type": "stream",
     "text": [
      "\n",
      "\n"
     ]
    }
   ],
   "source": [
    "feat_imp=[None]*4\n",
    "j=0\n",
    "for i in range(0,8):\n",
    "    if i>=2 and i<=5:\n",
    "        model,cm_train,cm_test,acc_train,acc_test,roc_auc,feat_imp[j],mcc=f[i](X_train,Y_train,scaled_X_test,test_Y,columns)\n",
    "        j=j+1\n",
    "    else:\n",
    "        model,cm_train,cm_test,acc_train,acc_test,roc_auc,mcc=f[i](X_train,Y_train,scaled_X_test,test_Y)\n",
    "    table_80_90_train.loc[i]=   ([acc_train,cm_train.TP,cm_train.TN,cm_train.FP,cm_train.FN,cm_train.FPR,cm_train.FNR])\n",
    "    table_80_90_test.loc[i] =   ([acc_test ,cm_test.TP, cm_test.TN, cm_test.FP, cm_test.FN, cm_test.FPR, cm_test.FNR,roc_auc,mcc])\n",
    "    print(\"\\n\")"
   ]
  },
  {
   "cell_type": "markdown",
   "metadata": {},
   "source": [
    "### <a id='3.A' style=\"text-decoration : none; color : #000000;\"> A. Results</a>"
   ]
  },
  {
   "cell_type": "code",
   "execution_count": 30,
   "metadata": {},
   "outputs": [
    {
     "data": {
      "application/vnd.plotly.v1+json": {
       "config": {
        "linkText": "Export to plot.ly",
        "plotlyServerURL": "https://plot.ly",
        "showLink": true
       },
       "data": [
        {
         "mode": "lines",
         "name": "KNN_model",
         "type": "scatter",
         "uid": "8409b36f-aaa7-4480-921c-78bb62a6a410",
         "x": [
          "accuracy",
          "FPR",
          "FNR",
          "auc"
         ],
         "y": [
          0.925165704511439,
          0.03544145272385723,
          0.3046018991964938,
          0.8299783240398245
         ]
        },
        {
         "mode": "lines+markers",
         "name": "Logistic Regression",
         "type": "scatter",
         "uid": "8e77d1ad-c646-4fe1-be2d-04372a8dad3a",
         "x": [
          "accuracy",
          "FPR",
          "FNR",
          "auc"
         ],
         "y": [
          0.9082745349583066,
          0.07964934251721979,
          0.16216216216216217,
          0.879094247660309
         ]
        },
        {
         "marker": {
          "symbol": "x"
         },
         "mode": "lines+markers",
         "name": "Random Forest",
         "type": "scatter",
         "uid": "e1b78ddb-23ea-426b-a093-2bbd8133ef89",
         "x": [
          "accuracy",
          "FPR",
          "FNR",
          "auc"
         ],
         "y": [
          0.9103057515501389,
          0.0767689417658109,
          0.16508400292184075,
          0.8790735276561743
         ]
        },
        {
         "mode": "lines",
         "name": "Ada Boost",
         "type": "scatter",
         "uid": "b21d2bbe-b82d-4d3a-91bd-0ac91fbdf3ee",
         "x": [
          "accuracy",
          "FPR",
          "FNR",
          "auc"
         ],
         "y": [
          0.8982253581355569,
          0.09517845961177207,
          0.14024835646457268,
          0.8822865919618277
         ]
        },
        {
         "mode": "lines+markers",
         "name": "GradientBoosting",
         "type": "scatter",
         "uid": "ba3c1b9d-94ea-4ff1-8279-51078c847267",
         "x": [
          "accuracy",
          "FPR",
          "FNR",
          "auc"
         ],
         "y": [
          0.9146889031430404,
          0.07451471509079524,
          0.14828341855368882,
          0.888600933177758
         ]
        },
        {
         "marker": {
          "symbol": "x"
         },
         "mode": "lines+markers",
         "name": "ExtraTree Classifier",
         "type": "scatter",
         "uid": "4666a99c-40cf-41b2-84a9-d1f49d334fc7",
         "x": [
          "accuracy",
          "FPR",
          "FNR",
          "auc"
         ],
         "y": [
          0.9124438742783836,
          0.07376330619912336,
          0.16800584368151936,
          0.8791154250596785
         ]
        },
        {
         "marker": {
          "symbol": "x"
         },
         "mode": "lines+markers",
         "name": "Bagging",
         "type": "scatter",
         "uid": "20a49293-ce4a-4093-ac96-0cc6826e9dad",
         "x": [
          "accuracy",
          "FPR",
          "FNR",
          "auc"
         ],
         "y": [
          0.9109471883686123,
          0.07589229805886036,
          0.1658144631117604,
          0.8791466194146896
         ]
        },
        {
         "marker": {
          "symbol": "x"
         },
         "mode": "lines+markers",
         "name": "Neural Network",
         "type": "scatter",
         "uid": "9acbb92a-64f0-45c8-ab13-d8d188e29a4a",
         "x": [
          "accuracy",
          "FPR",
          "FNR",
          "auc"
         ],
         "y": [
          0.9159717767799872,
          0.07326236693800876,
          0.1468224981738495,
          0.8791466194146896
         ]
        }
       ],
       "layout": {
        "title": "Result comparision for Features selected in Section 1",
        "yaxis": {
         "dtick": 0.05,
         "tick0": 0
        }
       }
      },
      "text/html": [
       "<div id=\"dfee9dac-5e64-42a7-87a3-13799c6e4415\" style=\"height: 525px; width: 100%;\" class=\"plotly-graph-div\"></div><script type=\"text/javascript\">require([\"plotly\"], function(Plotly) { window.PLOTLYENV=window.PLOTLYENV || {};window.PLOTLYENV.BASE_URL=\"https://plot.ly\";Plotly.newPlot(\"dfee9dac-5e64-42a7-87a3-13799c6e4415\", [{\"mode\": \"lines\", \"name\": \"KNN_model\", \"x\": [\"accuracy\", \"FPR\", \"FNR\", \"auc\"], \"y\": [0.925165704511439, 0.03544145272385723, 0.3046018991964938, 0.8299783240398245], \"type\": \"scatter\", \"uid\": \"8409b36f-aaa7-4480-921c-78bb62a6a410\"}, {\"mode\": \"lines+markers\", \"name\": \"Logistic Regression\", \"x\": [\"accuracy\", \"FPR\", \"FNR\", \"auc\"], \"y\": [0.9082745349583066, 0.07964934251721979, 0.16216216216216217, 0.879094247660309], \"type\": \"scatter\", \"uid\": \"8e77d1ad-c646-4fe1-be2d-04372a8dad3a\"}, {\"marker\": {\"symbol\": \"x\"}, \"mode\": \"lines+markers\", \"name\": \"Random Forest\", \"x\": [\"accuracy\", \"FPR\", \"FNR\", \"auc\"], \"y\": [0.9103057515501389, 0.0767689417658109, 0.16508400292184075, 0.8790735276561743], \"type\": \"scatter\", \"uid\": \"e1b78ddb-23ea-426b-a093-2bbd8133ef89\"}, {\"mode\": \"lines\", \"name\": \"Ada Boost\", \"x\": [\"accuracy\", \"FPR\", \"FNR\", \"auc\"], \"y\": [0.8982253581355569, 0.09517845961177207, 0.14024835646457268, 0.8822865919618277], \"type\": \"scatter\", \"uid\": \"b21d2bbe-b82d-4d3a-91bd-0ac91fbdf3ee\"}, {\"mode\": \"lines+markers\", \"name\": \"GradientBoosting\", \"x\": [\"accuracy\", \"FPR\", \"FNR\", \"auc\"], \"y\": [0.9146889031430404, 0.07451471509079524, 0.14828341855368882, 0.888600933177758], \"type\": \"scatter\", \"uid\": \"ba3c1b9d-94ea-4ff1-8279-51078c847267\"}, {\"marker\": {\"symbol\": \"x\"}, \"mode\": \"lines+markers\", \"name\": \"ExtraTree Classifier\", \"x\": [\"accuracy\", \"FPR\", \"FNR\", \"auc\"], \"y\": [0.9124438742783836, 0.07376330619912336, 0.16800584368151936, 0.8791154250596785], \"type\": \"scatter\", \"uid\": \"4666a99c-40cf-41b2-84a9-d1f49d334fc7\"}, {\"marker\": {\"symbol\": \"x\"}, \"mode\": \"lines+markers\", \"name\": \"Bagging\", \"x\": [\"accuracy\", \"FPR\", \"FNR\", \"auc\"], \"y\": [0.9109471883686123, 0.07589229805886036, 0.1658144631117604, 0.8791466194146896], \"type\": \"scatter\", \"uid\": \"20a49293-ce4a-4093-ac96-0cc6826e9dad\"}, {\"marker\": {\"symbol\": \"x\"}, \"mode\": \"lines+markers\", \"name\": \"Neural Network\", \"x\": [\"accuracy\", \"FPR\", \"FNR\", \"auc\"], \"y\": [0.9159717767799872, 0.07326236693800876, 0.1468224981738495, 0.8791466194146896], \"type\": \"scatter\", \"uid\": \"9acbb92a-64f0-45c8-ab13-d8d188e29a4a\"}], {\"title\": \"Result comparision for Features selected in Section 1\", \"yaxis\": {\"dtick\": 0.05, \"tick0\": 0}}, {\"showLink\": true, \"linkText\": \"Export to plot.ly\", \"plotlyServerURL\": \"https://plot.ly\"})});</script><script type=\"text/javascript\">window.addEventListener(\"resize\", function(){window._Plotly.Plots.resize(document.getElementById(\"dfee9dac-5e64-42a7-87a3-13799c6e4415\"));});</script>"
      ],
      "text/vnd.plotly.v1+html": [
       "<div id=\"dfee9dac-5e64-42a7-87a3-13799c6e4415\" style=\"height: 525px; width: 100%;\" class=\"plotly-graph-div\"></div><script type=\"text/javascript\">require([\"plotly\"], function(Plotly) { window.PLOTLYENV=window.PLOTLYENV || {};window.PLOTLYENV.BASE_URL=\"https://plot.ly\";Plotly.newPlot(\"dfee9dac-5e64-42a7-87a3-13799c6e4415\", [{\"mode\": \"lines\", \"name\": \"KNN_model\", \"x\": [\"accuracy\", \"FPR\", \"FNR\", \"auc\"], \"y\": [0.925165704511439, 0.03544145272385723, 0.3046018991964938, 0.8299783240398245], \"type\": \"scatter\", \"uid\": \"8409b36f-aaa7-4480-921c-78bb62a6a410\"}, {\"mode\": \"lines+markers\", \"name\": \"Logistic Regression\", \"x\": [\"accuracy\", \"FPR\", \"FNR\", \"auc\"], \"y\": [0.9082745349583066, 0.07964934251721979, 0.16216216216216217, 0.879094247660309], \"type\": \"scatter\", \"uid\": \"8e77d1ad-c646-4fe1-be2d-04372a8dad3a\"}, {\"marker\": {\"symbol\": \"x\"}, \"mode\": \"lines+markers\", \"name\": \"Random Forest\", \"x\": [\"accuracy\", \"FPR\", \"FNR\", \"auc\"], \"y\": [0.9103057515501389, 0.0767689417658109, 0.16508400292184075, 0.8790735276561743], \"type\": \"scatter\", \"uid\": \"e1b78ddb-23ea-426b-a093-2bbd8133ef89\"}, {\"mode\": \"lines\", \"name\": \"Ada Boost\", \"x\": [\"accuracy\", \"FPR\", \"FNR\", \"auc\"], \"y\": [0.8982253581355569, 0.09517845961177207, 0.14024835646457268, 0.8822865919618277], \"type\": \"scatter\", \"uid\": \"b21d2bbe-b82d-4d3a-91bd-0ac91fbdf3ee\"}, {\"mode\": \"lines+markers\", \"name\": \"GradientBoosting\", \"x\": [\"accuracy\", \"FPR\", \"FNR\", \"auc\"], \"y\": [0.9146889031430404, 0.07451471509079524, 0.14828341855368882, 0.888600933177758], \"type\": \"scatter\", \"uid\": \"ba3c1b9d-94ea-4ff1-8279-51078c847267\"}, {\"marker\": {\"symbol\": \"x\"}, \"mode\": \"lines+markers\", \"name\": \"ExtraTree Classifier\", \"x\": [\"accuracy\", \"FPR\", \"FNR\", \"auc\"], \"y\": [0.9124438742783836, 0.07376330619912336, 0.16800584368151936, 0.8791154250596785], \"type\": \"scatter\", \"uid\": \"4666a99c-40cf-41b2-84a9-d1f49d334fc7\"}, {\"marker\": {\"symbol\": \"x\"}, \"mode\": \"lines+markers\", \"name\": \"Bagging\", \"x\": [\"accuracy\", \"FPR\", \"FNR\", \"auc\"], \"y\": [0.9109471883686123, 0.07589229805886036, 0.1658144631117604, 0.8791466194146896], \"type\": \"scatter\", \"uid\": \"20a49293-ce4a-4093-ac96-0cc6826e9dad\"}, {\"marker\": {\"symbol\": \"x\"}, \"mode\": \"lines+markers\", \"name\": \"Neural Network\", \"x\": [\"accuracy\", \"FPR\", \"FNR\", \"auc\"], \"y\": [0.9159717767799872, 0.07326236693800876, 0.1468224981738495, 0.8791466194146896], \"type\": \"scatter\", \"uid\": \"9acbb92a-64f0-45c8-ab13-d8d188e29a4a\"}], {\"title\": \"Result comparision for Features selected in Section 1\", \"yaxis\": {\"dtick\": 0.05, \"tick0\": 0}}, {\"showLink\": true, \"linkText\": \"Export to plot.ly\", \"plotlyServerURL\": \"https://plot.ly\"})});</script><script type=\"text/javascript\">window.addEventListener(\"resize\", function(){window._Plotly.Plots.resize(document.getElementById(\"dfee9dac-5e64-42a7-87a3-13799c6e4415\"));});</script>"
      ]
     },
     "metadata": {},
     "output_type": "display_data"
    }
   ],
   "source": [
    "trace0 = go.Scatter(x=table_80_90_test.iloc[0].index.values[[0,5,6,7]],\n",
    "                    y=table_80_90_test.iloc[0].values[[0,5,6,7]],\n",
    "                    mode = 'lines',\n",
    "                    name = 'KNN_model')\n",
    "\n",
    "trace1 = go.Scatter(x=table_80_90_test.iloc[1].index.values[[0,5,6,7]],\n",
    "                    y=table_80_90_test.iloc[1].values[[0,5,6,7]],\n",
    "                    mode = 'lines+markers',\n",
    "                    name = 'Logistic Regression')\n",
    "\n",
    "trace2 = go.Scatter(x=table_80_90_test.iloc[2].index.values[[0,5,6,7]],\n",
    "                    y=table_80_90_test.iloc[2].values[[0,5,6,7]],\n",
    "                    mode = 'lines+markers',marker=dict(symbol='x'),\n",
    "                    name = 'Random Forest')\n",
    "\n",
    "\n",
    "trace3 = go.Scatter(x=table_80_90_test.iloc[3].index.values[[0,5,6,7]],\n",
    "                    y=table_80_90_test.iloc[3].values[[0,5,6,7]],\n",
    "                    mode = 'lines',\n",
    "                    name = 'Ada Boost')\n",
    "\n",
    "trace4 = go.Scatter(x=table_80_90_test.iloc[4].index.values[[0,5,6,7]],\n",
    "                    y=table_80_90_test.iloc[4].values[[0,5,6,7]],\n",
    "                    mode = 'lines+markers',\n",
    "                    name = 'GradientBoosting')\n",
    "\n",
    "trace5 = go.Scatter(x=table_80_90_test.iloc[5].index.values[[0,5,6,7]],\n",
    "                    y=table_80_90_test.iloc[5].values[[0,5,6,7]],\n",
    "                    mode = 'lines+markers',marker=dict(symbol='x'),\n",
    "                    name = 'ExtraTree Classifier')\n",
    "\n",
    "trace6 = go.Scatter(x=table_80_90_test.iloc[6].index.values[[0,5,6,7]],\n",
    "                    y=table_80_90_test.iloc[6].values[[0,5,6,7]],\n",
    "                    mode = 'lines+markers',marker=dict(symbol='x'),\n",
    "                    name = 'Bagging')\n",
    "\n",
    "trace7 = go.Scatter(x=table_80_90_test.iloc[7].index.values[[0,5,6,7]],\n",
    "                    y=table_80_90_test.iloc[7].values[[0,5,6,7]],\n",
    "                    mode = 'lines+markers',marker=dict(symbol='x'),\n",
    "                    name = 'Neural Network')\n",
    "\n",
    "\n",
    "\n",
    "data = [trace0, trace1, trace2, trace3, trace4, trace5, trace6, trace7]\n",
    "layout = go.Layout(yaxis=dict(tick0=0,dtick=0.05),title='Result comparision for Features selected in Section 1')\n",
    "fig = go.Figure(data=data, layout=layout)\n",
    "\n",
    "iplot(fig, filename='Result')"
   ]
  },
  {
   "cell_type": "code",
   "execution_count": 31,
   "metadata": {},
   "outputs": [
    {
     "name": "stdout",
     "output_type": "stream",
     "text": [
      "Training Results\n"
     ]
    },
    {
     "data": {
      "text/html": [
       "<div>\n",
       "<style scoped>\n",
       "    .dataframe tbody tr th:only-of-type {\n",
       "        vertical-align: middle;\n",
       "    }\n",
       "\n",
       "    .dataframe tbody tr th {\n",
       "        vertical-align: top;\n",
       "    }\n",
       "\n",
       "    .dataframe thead th {\n",
       "        text-align: right;\n",
       "    }\n",
       "</style>\n",
       "<table border=\"1\" class=\"dataframe\">\n",
       "  <thead>\n",
       "    <tr style=\"text-align: right;\">\n",
       "      <th></th>\n",
       "      <th>accuracy</th>\n",
       "      <th>TP</th>\n",
       "      <th>TN</th>\n",
       "      <th>FP</th>\n",
       "      <th>FN</th>\n",
       "      <th>FPR</th>\n",
       "      <th>FNR</th>\n",
       "    </tr>\n",
       "    <tr>\n",
       "      <th>index</th>\n",
       "      <th></th>\n",
       "      <th></th>\n",
       "      <th></th>\n",
       "      <th></th>\n",
       "      <th></th>\n",
       "      <th></th>\n",
       "      <th></th>\n",
       "    </tr>\n",
       "  </thead>\n",
       "  <tbody>\n",
       "    <tr>\n",
       "      <th>KNeighborsClassifier</th>\n",
       "      <td>0.828326</td>\n",
       "      <td>3765.0</td>\n",
       "      <td>5388.0</td>\n",
       "      <td>137.0</td>\n",
       "      <td>1760.0</td>\n",
       "      <td>0.024796</td>\n",
       "      <td>0.318552</td>\n",
       "    </tr>\n",
       "    <tr>\n",
       "      <th>LogisticRegression</th>\n",
       "      <td>0.877104</td>\n",
       "      <td>4602.0</td>\n",
       "      <td>5090.0</td>\n",
       "      <td>435.0</td>\n",
       "      <td>923.0</td>\n",
       "      <td>0.078733</td>\n",
       "      <td>0.167059</td>\n",
       "    </tr>\n",
       "    <tr>\n",
       "      <th>RandomForestClassifier</th>\n",
       "      <td>0.899638</td>\n",
       "      <td>4716.0</td>\n",
       "      <td>5225.0</td>\n",
       "      <td>300.0</td>\n",
       "      <td>809.0</td>\n",
       "      <td>0.054299</td>\n",
       "      <td>0.146425</td>\n",
       "    </tr>\n",
       "    <tr>\n",
       "      <th>AdaBoostClassifier</th>\n",
       "      <td>0.882443</td>\n",
       "      <td>4747.0</td>\n",
       "      <td>5004.0</td>\n",
       "      <td>521.0</td>\n",
       "      <td>778.0</td>\n",
       "      <td>0.094299</td>\n",
       "      <td>0.140814</td>\n",
       "    </tr>\n",
       "    <tr>\n",
       "      <th>GradientBoostingClassifier</th>\n",
       "      <td>0.889231</td>\n",
       "      <td>4684.0</td>\n",
       "      <td>5142.0</td>\n",
       "      <td>383.0</td>\n",
       "      <td>841.0</td>\n",
       "      <td>0.069321</td>\n",
       "      <td>0.152217</td>\n",
       "    </tr>\n",
       "    <tr>\n",
       "      <th>ExtraTreeClassifier</th>\n",
       "      <td>0.900362</td>\n",
       "      <td>4687.0</td>\n",
       "      <td>5262.0</td>\n",
       "      <td>263.0</td>\n",
       "      <td>838.0</td>\n",
       "      <td>0.047602</td>\n",
       "      <td>0.151674</td>\n",
       "    </tr>\n",
       "    <tr>\n",
       "      <th>BaggingClassifier</th>\n",
       "      <td>0.899548</td>\n",
       "      <td>4706.0</td>\n",
       "      <td>5234.0</td>\n",
       "      <td>291.0</td>\n",
       "      <td>819.0</td>\n",
       "      <td>0.052670</td>\n",
       "      <td>0.148235</td>\n",
       "    </tr>\n",
       "    <tr>\n",
       "      <th>Neural Network-1</th>\n",
       "      <td>0.890136</td>\n",
       "      <td>4700.0</td>\n",
       "      <td>5136.0</td>\n",
       "      <td>389.0</td>\n",
       "      <td>825.0</td>\n",
       "      <td>0.070407</td>\n",
       "      <td>0.149321</td>\n",
       "    </tr>\n",
       "  </tbody>\n",
       "</table>\n",
       "</div>"
      ],
      "text/plain": [
       "                            accuracy      TP      TN     FP      FN       FPR  \\\n",
       "index                                                                           \n",
       "KNeighborsClassifier        0.828326  3765.0  5388.0  137.0  1760.0  0.024796   \n",
       "LogisticRegression          0.877104  4602.0  5090.0  435.0   923.0  0.078733   \n",
       "RandomForestClassifier      0.899638  4716.0  5225.0  300.0   809.0  0.054299   \n",
       "AdaBoostClassifier          0.882443  4747.0  5004.0  521.0   778.0  0.094299   \n",
       "GradientBoostingClassifier  0.889231  4684.0  5142.0  383.0   841.0  0.069321   \n",
       "ExtraTreeClassifier         0.900362  4687.0  5262.0  263.0   838.0  0.047602   \n",
       "BaggingClassifier           0.899548  4706.0  5234.0  291.0   819.0  0.052670   \n",
       "Neural Network-1            0.890136  4700.0  5136.0  389.0   825.0  0.070407   \n",
       "\n",
       "                                 FNR  \n",
       "index                                 \n",
       "KNeighborsClassifier        0.318552  \n",
       "LogisticRegression          0.167059  \n",
       "RandomForestClassifier      0.146425  \n",
       "AdaBoostClassifier          0.140814  \n",
       "GradientBoostingClassifier  0.152217  \n",
       "ExtraTreeClassifier         0.151674  \n",
       "BaggingClassifier           0.148235  \n",
       "Neural Network-1            0.149321  "
      ]
     },
     "metadata": {},
     "output_type": "display_data"
    },
    {
     "name": "stdout",
     "output_type": "stream",
     "text": [
      "Test Results\n"
     ]
    },
    {
     "data": {
      "text/html": [
       "<div>\n",
       "<style scoped>\n",
       "    .dataframe tbody tr th:only-of-type {\n",
       "        vertical-align: middle;\n",
       "    }\n",
       "\n",
       "    .dataframe tbody tr th {\n",
       "        vertical-align: top;\n",
       "    }\n",
       "\n",
       "    .dataframe thead th {\n",
       "        text-align: right;\n",
       "    }\n",
       "</style>\n",
       "<table border=\"1\" class=\"dataframe\">\n",
       "  <thead>\n",
       "    <tr style=\"text-align: right;\">\n",
       "      <th></th>\n",
       "      <th>accuracy</th>\n",
       "      <th>TP</th>\n",
       "      <th>TN</th>\n",
       "      <th>FP</th>\n",
       "      <th>FN</th>\n",
       "      <th>FPR</th>\n",
       "      <th>FNR</th>\n",
       "      <th>auc</th>\n",
       "      <th>mcc</th>\n",
       "    </tr>\n",
       "    <tr>\n",
       "      <th>index</th>\n",
       "      <th></th>\n",
       "      <th></th>\n",
       "      <th></th>\n",
       "      <th></th>\n",
       "      <th></th>\n",
       "      <th></th>\n",
       "      <th></th>\n",
       "      <th></th>\n",
       "      <th></th>\n",
       "    </tr>\n",
       "  </thead>\n",
       "  <tbody>\n",
       "    <tr>\n",
       "      <th>KNeighborsClassifier</th>\n",
       "      <td>0.925166</td>\n",
       "      <td>952.0</td>\n",
       "      <td>7702.0</td>\n",
       "      <td>283.0</td>\n",
       "      <td>417.0</td>\n",
       "      <td>0.035441</td>\n",
       "      <td>0.304602</td>\n",
       "      <td>0.829978</td>\n",
       "      <td>0.689080</td>\n",
       "    </tr>\n",
       "    <tr>\n",
       "      <th>LogisticRegression</th>\n",
       "      <td>0.908275</td>\n",
       "      <td>1147.0</td>\n",
       "      <td>7349.0</td>\n",
       "      <td>636.0</td>\n",
       "      <td>222.0</td>\n",
       "      <td>0.079649</td>\n",
       "      <td>0.162162</td>\n",
       "      <td>0.879094</td>\n",
       "      <td>0.682282</td>\n",
       "    </tr>\n",
       "    <tr>\n",
       "      <th>RandomForestClassifier</th>\n",
       "      <td>0.910306</td>\n",
       "      <td>1143.0</td>\n",
       "      <td>7372.0</td>\n",
       "      <td>613.0</td>\n",
       "      <td>226.0</td>\n",
       "      <td>0.076769</td>\n",
       "      <td>0.165084</td>\n",
       "      <td>0.879074</td>\n",
       "      <td>0.686247</td>\n",
       "    </tr>\n",
       "    <tr>\n",
       "      <th>AdaBoostClassifier</th>\n",
       "      <td>0.898225</td>\n",
       "      <td>1177.0</td>\n",
       "      <td>7225.0</td>\n",
       "      <td>760.0</td>\n",
       "      <td>192.0</td>\n",
       "      <td>0.095178</td>\n",
       "      <td>0.140248</td>\n",
       "      <td>0.882287</td>\n",
       "      <td>0.666929</td>\n",
       "    </tr>\n",
       "    <tr>\n",
       "      <th>GradientBoostingClassifier</th>\n",
       "      <td>0.914689</td>\n",
       "      <td>1166.0</td>\n",
       "      <td>7390.0</td>\n",
       "      <td>595.0</td>\n",
       "      <td>203.0</td>\n",
       "      <td>0.074515</td>\n",
       "      <td>0.148283</td>\n",
       "      <td>0.888601</td>\n",
       "      <td>0.702727</td>\n",
       "    </tr>\n",
       "    <tr>\n",
       "      <th>ExtraTreeClassifier</th>\n",
       "      <td>0.912444</td>\n",
       "      <td>1139.0</td>\n",
       "      <td>7396.0</td>\n",
       "      <td>589.0</td>\n",
       "      <td>230.0</td>\n",
       "      <td>0.073763</td>\n",
       "      <td>0.168006</td>\n",
       "      <td>0.879115</td>\n",
       "      <td>0.690590</td>\n",
       "    </tr>\n",
       "    <tr>\n",
       "      <th>BaggingClassifier</th>\n",
       "      <td>0.910947</td>\n",
       "      <td>1142.0</td>\n",
       "      <td>7379.0</td>\n",
       "      <td>606.0</td>\n",
       "      <td>227.0</td>\n",
       "      <td>0.075892</td>\n",
       "      <td>0.165814</td>\n",
       "      <td>0.879147</td>\n",
       "      <td>0.687587</td>\n",
       "    </tr>\n",
       "    <tr>\n",
       "      <th>Neural Network-1</th>\n",
       "      <td>0.915972</td>\n",
       "      <td>1168.0</td>\n",
       "      <td>7400.0</td>\n",
       "      <td>585.0</td>\n",
       "      <td>201.0</td>\n",
       "      <td>0.073262</td>\n",
       "      <td>0.146822</td>\n",
       "      <td>0.879147</td>\n",
       "      <td>0.706415</td>\n",
       "    </tr>\n",
       "  </tbody>\n",
       "</table>\n",
       "</div>"
      ],
      "text/plain": [
       "                            accuracy      TP      TN     FP     FN       FPR  \\\n",
       "index                                                                          \n",
       "KNeighborsClassifier        0.925166   952.0  7702.0  283.0  417.0  0.035441   \n",
       "LogisticRegression          0.908275  1147.0  7349.0  636.0  222.0  0.079649   \n",
       "RandomForestClassifier      0.910306  1143.0  7372.0  613.0  226.0  0.076769   \n",
       "AdaBoostClassifier          0.898225  1177.0  7225.0  760.0  192.0  0.095178   \n",
       "GradientBoostingClassifier  0.914689  1166.0  7390.0  595.0  203.0  0.074515   \n",
       "ExtraTreeClassifier         0.912444  1139.0  7396.0  589.0  230.0  0.073763   \n",
       "BaggingClassifier           0.910947  1142.0  7379.0  606.0  227.0  0.075892   \n",
       "Neural Network-1            0.915972  1168.0  7400.0  585.0  201.0  0.073262   \n",
       "\n",
       "                                 FNR       auc       mcc  \n",
       "index                                                     \n",
       "KNeighborsClassifier        0.304602  0.829978  0.689080  \n",
       "LogisticRegression          0.162162  0.879094  0.682282  \n",
       "RandomForestClassifier      0.165084  0.879074  0.686247  \n",
       "AdaBoostClassifier          0.140248  0.882287  0.666929  \n",
       "GradientBoostingClassifier  0.148283  0.888601  0.702727  \n",
       "ExtraTreeClassifier         0.168006  0.879115  0.690590  \n",
       "BaggingClassifier           0.165814  0.879147  0.687587  \n",
       "Neural Network-1            0.146822  0.879147  0.706415  "
      ]
     },
     "metadata": {},
     "output_type": "display_data"
    }
   ],
   "source": [
    "table_80_90_train['index']=ind_columns\n",
    "table_80_90_test['index']=ind_columns\n",
    "\n",
    "\n",
    "table_80_90_test.set_index(['index'],drop=True,inplace=True)\n",
    "table_80_90_train.set_index(['index'],drop=True,inplace=True)\n",
    "\n",
    "print(\"Training Results\")\n",
    "display(table_80_90_train)\n",
    "print(\"Test Results\")\n",
    "display(table_80_90_test)"
   ]
  },
  {
   "cell_type": "markdown",
   "metadata": {},
   "source": [
    "### <a id='3.B' style=\"text-decoration : none; color : #000000;\"> B. Average Feature Importances</a>"
   ]
  },
  {
   "cell_type": "code",
   "execution_count": 32,
   "metadata": {},
   "outputs": [
    {
     "data": {
      "application/vnd.plotly.v1+json": {
       "config": {
        "linkText": "Export to plot.ly",
        "plotlyServerURL": "https://plot.ly",
        "showLink": true
       },
       "data": [
        {
         "marker": {
          "color": "rgb(158,202,225)",
          "line": {
           "color": "rgb(8,48,107)",
           "width": 1.5
          }
         },
         "opacity": 0.6,
         "orientation": "h",
         "text": [
          0.4373,
          0.1789,
          0.0947,
          0.087,
          0.0784,
          0.0747,
          0.0452,
          0.0015,
          0.0009,
          0.0008,
          0.0003,
          0.0002,
          0,
          0,
          0
         ],
         "textposition": "outside",
         "type": "bar",
         "uid": "fa33c84f-8aa4-4108-afca-1cf86d37f5c5",
         "x": [
          0.4373208461245501,
          0.17894198115325413,
          0.09474651094425028,
          0.08703698419138445,
          0.07836269763378415,
          0.07468668942437887,
          0.04524867005189914,
          0.0014662858106876204,
          0.0008527809799879872,
          0.0008462785720741207,
          0.0002662875993591189,
          0.00015723516959789162,
          4.071707777930762e-05,
          2.0465052201459187e-05,
          5.570214811400883e-06
         ],
         "y": [
          "url_char_.",
          "url_number_special_chars/url_length",
          "url_number_digits/url_length",
          "url_number_vowels/url_length",
          "url_number_consonants/url_length",
          "url_char_/",
          "url_char_-",
          "url_port",
          "url_char_?",
          "url_char_=",
          "url_char__",
          "url_char_+",
          "url_char_%",
          "url_char_&",
          "url_char_:"
         ]
        }
       ],
       "layout": {
        "autosize": false,
        "height": 1000,
        "width": 1000,
        "xaxis": {
         "tickfont": {
          "color": "black",
          "size": 12
         },
         "title": "Feature Importances"
        },
        "yaxis": {
         "automargin": true
        }
       }
      },
      "text/html": [
       "<div id=\"a1c27dae-9b59-4d1f-bb6e-f5828e462145\" style=\"height: 1000px; width: 1000px;\" class=\"plotly-graph-div\"></div><script type=\"text/javascript\">require([\"plotly\"], function(Plotly) { window.PLOTLYENV=window.PLOTLYENV || {};window.PLOTLYENV.BASE_URL=\"https://plot.ly\";Plotly.newPlot(\"a1c27dae-9b59-4d1f-bb6e-f5828e462145\", [{\"marker\": {\"color\": \"rgb(158,202,225)\", \"line\": {\"color\": \"rgb(8,48,107)\", \"width\": 1.5}}, \"opacity\": 0.6, \"orientation\": \"h\", \"text\": [0.4373, 0.1789, 0.0947, 0.087, 0.0784, 0.0747, 0.0452, 0.0015, 0.0009, 0.0008, 0.0003, 0.0002, 0.0, 0.0, 0.0], \"textposition\": \"outside\", \"x\": [0.4373208461245501, 0.17894198115325413, 0.09474651094425028, 0.08703698419138445, 0.07836269763378415, 0.07468668942437887, 0.04524867005189914, 0.0014662858106876204, 0.0008527809799879872, 0.0008462785720741207, 0.0002662875993591189, 0.00015723516959789162, 4.071707777930762e-05, 2.0465052201459187e-05, 5.570214811400883e-06], \"y\": [\"url_char_.\", \"url_number_special_chars/url_length\", \"url_number_digits/url_length\", \"url_number_vowels/url_length\", \"url_number_consonants/url_length\", \"url_char_/\", \"url_char_-\", \"url_port\", \"url_char_?\", \"url_char_=\", \"url_char__\", \"url_char_+\", \"url_char_%\", \"url_char_&\", \"url_char_:\"], \"type\": \"bar\", \"uid\": \"fa33c84f-8aa4-4108-afca-1cf86d37f5c5\"}], {\"autosize\": false, \"height\": 1000, \"width\": 1000, \"xaxis\": {\"tickfont\": {\"color\": \"black\", \"size\": 12}, \"title\": \"Feature Importances\"}, \"yaxis\": {\"automargin\": true}}, {\"showLink\": true, \"linkText\": \"Export to plot.ly\", \"plotlyServerURL\": \"https://plot.ly\"})});</script>"
      ],
      "text/vnd.plotly.v1+html": [
       "<div id=\"a1c27dae-9b59-4d1f-bb6e-f5828e462145\" style=\"height: 1000px; width: 1000px;\" class=\"plotly-graph-div\"></div><script type=\"text/javascript\">require([\"plotly\"], function(Plotly) { window.PLOTLYENV=window.PLOTLYENV || {};window.PLOTLYENV.BASE_URL=\"https://plot.ly\";Plotly.newPlot(\"a1c27dae-9b59-4d1f-bb6e-f5828e462145\", [{\"marker\": {\"color\": \"rgb(158,202,225)\", \"line\": {\"color\": \"rgb(8,48,107)\", \"width\": 1.5}}, \"opacity\": 0.6, \"orientation\": \"h\", \"text\": [0.4373, 0.1789, 0.0947, 0.087, 0.0784, 0.0747, 0.0452, 0.0015, 0.0009, 0.0008, 0.0003, 0.0002, 0.0, 0.0, 0.0], \"textposition\": \"outside\", \"x\": [0.4373208461245501, 0.17894198115325413, 0.09474651094425028, 0.08703698419138445, 0.07836269763378415, 0.07468668942437887, 0.04524867005189914, 0.0014662858106876204, 0.0008527809799879872, 0.0008462785720741207, 0.0002662875993591189, 0.00015723516959789162, 4.071707777930762e-05, 2.0465052201459187e-05, 5.570214811400883e-06], \"y\": [\"url_char_.\", \"url_number_special_chars/url_length\", \"url_number_digits/url_length\", \"url_number_vowels/url_length\", \"url_number_consonants/url_length\", \"url_char_/\", \"url_char_-\", \"url_port\", \"url_char_?\", \"url_char_=\", \"url_char__\", \"url_char_+\", \"url_char_%\", \"url_char_&\", \"url_char_:\"], \"type\": \"bar\", \"uid\": \"fa33c84f-8aa4-4108-afca-1cf86d37f5c5\"}], {\"autosize\": false, \"height\": 1000, \"width\": 1000, \"xaxis\": {\"tickfont\": {\"color\": \"black\", \"size\": 12}, \"title\": \"Feature Importances\"}, \"yaxis\": {\"automargin\": true}}, {\"showLink\": true, \"linkText\": \"Export to plot.ly\", \"plotlyServerURL\": \"https://plot.ly\"})});</script>"
      ]
     },
     "metadata": {},
     "output_type": "display_data"
    }
   ],
   "source": [
    "feat_impt_plot(np.average(feat_imp,axis=0),columns)"
   ]
  },
  {
   "cell_type": "markdown",
   "metadata": {},
   "source": [
    "### <a id='4' style=\"text-decoration : none; color : #000000;\">4. Feature Transformation with feature selection </a>"
   ]
  },
  {
   "cell_type": "code",
   "execution_count": 33,
   "metadata": {
    "collapsed": true
   },
   "outputs": [],
   "source": [
    "df.reset_index(inplace=True)\n",
    "\n",
    "# columns=columns.tolist()\n",
    "columns.append('domain')\n",
    "\n",
    "df_min=df[columns]"
   ]
  },
  {
   "cell_type": "code",
   "execution_count": 34,
   "metadata": {},
   "outputs": [
    {
     "name": "stdout",
     "output_type": "stream",
     "text": [
      "Built 435 features\n",
      "EntitySet scattered to workers in 4.889 seconds\n",
      "Elapsed: 00:02 | Remaining: 00:00 | Progress: 100%|██████████| Calculated: 11/11 chunks\n"
     ]
    }
   ],
   "source": [
    "es = ft.EntitySet(id = 'malicious')\n",
    "es.entity_from_dataframe(entity_id = 'data', dataframe = df_min, index = 'domain')\n",
    "\n",
    "feature_matrix_sessions, features_defs = ft.dfs(entityset=es,target_entity=\"data\",\n",
    "                                                trans_primitives = ['add','divide','multiply'],n_jobs=-1,\n",
    "                                                verbose=1,max_depth=1)"
   ]
  },
  {
   "cell_type": "code",
   "execution_count": 35,
   "metadata": {},
   "outputs": [],
   "source": [
    "df.set_index(['domain'],drop=True,inplace=True)\n",
    "fs=pd.merge(feature_matrix_sessions,pd.DataFrame(df.Target),left_index=True, right_index=True)\n",
    "fs.replace([np.inf],0,inplace=True)\n",
    "fs.fillna(value=0,inplace=True)"
   ]
  },
  {
   "cell_type": "code",
   "execution_count": 36,
   "metadata": {
    "collapsed": true
   },
   "outputs": [],
   "source": [
    "X=fs.loc[:,fs.columns!='Target']\n",
    "y=fs.Target\n",
    "feature_name = X.columns.tolist()"
   ]
  },
  {
   "cell_type": "code",
   "execution_count": 37,
   "metadata": {
    "collapsed": true
   },
   "outputs": [],
   "source": [
    "def cor_selector(X, y):\n",
    "    cor_list = []\n",
    "    # calculate the correlation with y for each feature\n",
    "    for i in X.columns.tolist():\n",
    "        cor = np.corrcoef(X[i], y)[0, 1]\n",
    "        cor_list.append(cor)\n",
    "    # replace NaN with 0\n",
    "    cor_list = [0 if np.isnan(i) else i for i in cor_list]\n",
    "    # feature name\n",
    "    cor_feature = X.iloc[:,np.argsort(np.abs(cor_list))[-100:]].columns.tolist()\n",
    "    # feature selection? 0 for not select, 1 for select\n",
    "    cor_support = [True if i in cor_feature else False for i in feature_name]\n",
    "    return cor_support, cor_feature\n",
    "\n",
    "\n",
    "cor_support, cor_feature = cor_selector(X, y)"
   ]
  },
  {
   "cell_type": "code",
   "execution_count": 38,
   "metadata": {
    "collapsed": true
   },
   "outputs": [],
   "source": [
    "X_norm = MinMaxScaler().fit_transform(X)\n",
    "chi_selector = SelectKBest(chi2, k=100)\n",
    "chi_selector.fit(X_norm, y)\n",
    "chi_support = chi_selector.get_support()\n",
    "chi_feature = X.loc[:,chi_support].columns.tolist()"
   ]
  },
  {
   "cell_type": "code",
   "execution_count": 39,
   "metadata": {
    "collapsed": true
   },
   "outputs": [],
   "source": [
    "rfe_selector = RFE(estimator=LogisticRegression(random_state=0), n_features_to_select=100, step=0.3, verbose=False)\n",
    "rfe_selector.fit(X_norm, y)\n",
    "rfe_support = rfe_selector.get_support()\n",
    "rfe_feature = X.loc[:,rfe_support].columns.tolist()"
   ]
  },
  {
   "cell_type": "code",
   "execution_count": 40,
   "metadata": {
    "collapsed": true
   },
   "outputs": [],
   "source": [
    "embeded_rf_selector = SelectFromModel(RandomForestClassifier(n_estimators=100,random_state=0), threshold='23*median')\n",
    "embeded_rf_selector.fit(X, y)\n",
    "embeded_rf_support = embeded_rf_selector.get_support()\n",
    "embeded_rf_feature = X.loc[:,embeded_rf_support].columns.tolist()"
   ]
  },
  {
   "cell_type": "code",
   "execution_count": 41,
   "metadata": {
    "collapsed": true
   },
   "outputs": [],
   "source": [
    "feature_selection_df = pd.DataFrame({'Feature':feature_name, 'Pearson':cor_support, 'Chi-2':chi_support, 'RFE':rfe_support,\n",
    "                                    'Random Forest':embeded_rf_support})\n",
    "# count the selected times for each feature\n",
    "feature_selection_df['Total'] = np.sum(feature_selection_df, axis=1)\n",
    "# display the top 100\n",
    "feature_selection_df = feature_selection_df.sort_values(['Total','Feature'] , ascending=False)\n",
    "feature_selection_df.index = range(1, len(feature_selection_df)+1)"
   ]
  },
  {
   "cell_type": "code",
   "execution_count": 48,
   "metadata": {},
   "outputs": [
    {
     "name": "stdout",
     "output_type": "stream",
     "text": [
      "The train/test split ratio is 80:20\n"
     ]
    },
    {
     "data": {
      "text/plain": [
       "(46771, 55)"
      ]
     },
     "execution_count": 48,
     "metadata": {},
     "output_type": "execute_result"
    }
   ],
   "source": [
    "X=fs[feature_selection_df[feature_selection_df.Total>=4]['Feature']]\n",
    "X.fillna(value=0,inplace=True)\n",
    "y=fs.Target.values\n",
    "feature_name = X.columns.tolist()\n",
    "\n",
    "scaler=StandardScaler()\n",
    "scaled_X=scaler.fit_transform(X)\n",
    "\n",
    "print(\"The train/test split ratio is 80:20\")\n",
    "X_train, X_test, Y_train, Y_test = train_test_split(scaled_X,y,random_state=0,test_size=0.2)\n",
    "\n",
    "X.shape"
   ]
  },
  {
   "cell_type": "code",
   "execution_count": 49,
   "metadata": {},
   "outputs": [
    {
     "name": "stdout",
     "output_type": "stream",
     "text": [
      "Features we will be using:\n",
      "\n"
     ]
    },
    {
     "data": {
      "text/plain": [
       "['url_number_vowels/url_length / url_char_/',\n",
       " 'url_number_vowels/url_length / url_char_.',\n",
       " 'url_number_special_chars/url_length / url_char_/',\n",
       " 'url_number_digits/url_length / url_number_special_chars/url_length',\n",
       " 'url_number_digits/url_length / url_number_consonants/url_length',\n",
       " 'url_number_digits/url_length / url_char_/',\n",
       " 'url_number_digits/url_length / url_char_.',\n",
       " 'url_number_digits/url_length + url_number_special_chars/url_length',\n",
       " 'url_number_digits/url_length * url_number_vowels/url_length',\n",
       " 'url_number_digits/url_length * url_number_special_chars/url_length',\n",
       " 'url_number_consonants/url_length / url_char_/',\n",
       " 'url_number_consonants/url_length / url_char_.',\n",
       " 'url_number_consonants/url_length * url_number_digits/url_length',\n",
       " 'url_char_/ / url_number_consonants/url_length',\n",
       " 'url_char_/ / url_char_.',\n",
       " 'url_char_/ + url_port',\n",
       " 'url_char_/ + url_number_special_chars/url_length',\n",
       " 'url_char_/ + url_number_digits/url_length',\n",
       " 'url_char_/ + url_char__',\n",
       " 'url_char_/ + url_char_?',\n",
       " 'url_char_/ + url_char_=',\n",
       " 'url_char_/ + url_char_:',\n",
       " 'url_char_/ * url_number_vowels/url_length',\n",
       " 'url_char_/ * url_number_special_chars/url_length',\n",
       " 'url_char_/ * url_number_consonants/url_length',\n",
       " 'url_char_/',\n",
       " 'url_char_. / url_number_special_chars/url_length',\n",
       " 'url_char_. / url_char_/',\n",
       " 'url_char_. + url_port',\n",
       " 'url_char_. + url_number_vowels/url_length',\n",
       " 'url_char_. + url_number_digits/url_length',\n",
       " 'url_char_. + url_number_consonants/url_length',\n",
       " 'url_char_. + url_char__',\n",
       " 'url_char_. + url_char_?',\n",
       " 'url_char_. + url_char_=',\n",
       " 'url_char_. + url_char_:',\n",
       " 'url_char_. + url_char_/',\n",
       " 'url_char_. * url_number_special_chars/url_length',\n",
       " 'url_char_. * url_number_digits/url_length',\n",
       " 'url_char_. * url_number_consonants/url_length',\n",
       " 'url_char_.',\n",
       " 'url_char_- / url_number_vowels/url_length',\n",
       " 'url_char_- / url_number_special_chars/url_length',\n",
       " 'url_char_- + url_port',\n",
       " 'url_char_- + url_number_digits/url_length',\n",
       " 'url_char_- + url_char_=',\n",
       " 'url_char_- + url_char_/',\n",
       " 'url_char_- + url_char_.',\n",
       " 'url_char_+ + url_char_/',\n",
       " 'url_char_+ + url_char_.',\n",
       " 'url_char_& + url_char_/',\n",
       " 'url_char_& + url_char_.',\n",
       " 'url_char_& + url_char_-',\n",
       " 'url_char_% + url_char_/',\n",
       " 'url_char_% + url_char_-']"
      ]
     },
     "metadata": {},
     "output_type": "display_data"
    }
   ],
   "source": [
    "print('Features we will be using:\\n')\n",
    "display(feature_name)"
   ]
  },
  {
   "cell_type": "code",
   "execution_count": 50,
   "metadata": {
    "collapsed": true
   },
   "outputs": [],
   "source": [
    "fs=fs.reindex(df_sel.index.values)"
   ]
  },
  {
   "cell_type": "code",
   "execution_count": 51,
   "metadata": {
    "collapsed": true
   },
   "outputs": [],
   "source": [
    "train=fs.iloc[:37417]\n",
    "train_Y=train.Target.values\n",
    "train_X=train[feature_name].values\n",
    "\n",
    "\n",
    "scaler=StandardScaler()\n",
    "scaled_X_train=scaler.fit_transform(train_X)\n",
    "\n",
    "test=fs.iloc[37417:]\n",
    "test_Y=test.Target.values\n",
    "test_X=test[feature_name]\n",
    "\n",
    "scaled_X_test=scaler.transform(test_X)"
   ]
  },
  {
   "cell_type": "code",
   "execution_count": 52,
   "metadata": {
    "collapsed": true
   },
   "outputs": [],
   "source": [
    "## Table to store training and test measures so we can compare later\n",
    "table_80_60_train=pd.DataFrame(columns=['accuracy','TP','TN','FP','FN','FPR','FNR'])\n",
    "table_80_60_test=pd.DataFrame(columns=['accuracy','TP','TN','FP','FN','FPR','FNR','auc','mcc'])"
   ]
  },
  {
   "cell_type": "code",
   "execution_count": 53,
   "metadata": {
    "scrolled": false
   },
   "outputs": [
    {
     "name": "stdout",
     "output_type": "stream",
     "text": [
      "\u001b[1mK-Nearest Neighbors\u001b[0m\n",
      "Accuracy of the model for training data is: 0.939065130823\n",
      "Confusion Matrix for training data is:\n"
     ]
    },
    {
     "data": {
      "text/plain": [
       "Predicted  False  True  __all__\n",
       "Actual                         \n",
       "False      31243   649    31892\n",
       "True        1631  3894     5525\n",
       "__all__    32874  4543    37417"
      ]
     },
     "metadata": {},
     "output_type": "display_data"
    },
    {
     "name": "stdout",
     "output_type": "stream",
     "text": [
      "Accuracy of the model for test data is: 0.935001069061\n",
      "Confusion Matrix for test data is:\n"
     ]
    },
    {
     "data": {
      "text/plain": [
       "Predicted  False  True  __all__\n",
       "Actual                         \n",
       "False       7804   181     7985\n",
       "True         427   942     1369\n",
       "__all__     8231  1123     9354"
      ]
     },
     "metadata": {},
     "output_type": "display_data"
    },
    {
     "name": "stdout",
     "output_type": "stream",
     "text": [
      "\n",
      "\n",
      "\u001b[1mLogistic Regression\u001b[0m\n",
      "Accuracy of the model for training data is: 0.939118582463\n",
      "Confusion Matrix for training data is:\n"
     ]
    },
    {
     "data": {
      "text/plain": [
       "Predicted  False  True  __all__\n",
       "Actual                         \n",
       "False      31178   714    31892\n",
       "True        1564  3961     5525\n",
       "__all__    32742  4675    37417"
      ]
     },
     "metadata": {},
     "output_type": "display_data"
    },
    {
     "name": "stdout",
     "output_type": "stream",
     "text": [
      "Accuracy of the model for test data is: 0.93564250588\n",
      "Confusion Matrix for test data is:\n"
     ]
    },
    {
     "data": {
      "text/plain": [
       "Predicted  False  True  __all__\n",
       "Actual                         \n",
       "False       7786   199     7985\n",
       "True         403   966     1369\n",
       "__all__     8189  1165     9354"
      ]
     },
     "metadata": {},
     "output_type": "display_data"
    },
    {
     "name": "stdout",
     "output_type": "stream",
     "text": [
      "\n",
      "\n",
      "\u001b[1mRandomForest Classifier\u001b[0m\n",
      "Accuracy of the model for training data is: 0.947109602587\n",
      "Confusion Matrix for training data is:\n"
     ]
    },
    {
     "data": {
      "text/plain": [
       "Predicted  False  True  __all__\n",
       "Actual                         \n",
       "False      31160   732    31892\n",
       "True        1247  4278     5525\n",
       "__all__    32407  5010    37417"
      ]
     },
     "metadata": {},
     "output_type": "display_data"
    },
    {
     "name": "stdout",
     "output_type": "stream",
     "text": [
      "Accuracy of the model for test data is: 0.939063502245\n",
      "Confusion Matrix for test data is:\n"
     ]
    },
    {
     "data": {
      "text/plain": [
       "Predicted  False  True  __all__\n",
       "Actual                         \n",
       "False       7759   226     7985\n",
       "True         344  1025     1369\n",
       "__all__     8103  1251     9354"
      ]
     },
     "metadata": {},
     "output_type": "display_data"
    },
    {
     "data": {
      "application/vnd.plotly.v1+json": {
       "config": {
        "linkText": "Export to plot.ly",
        "plotlyServerURL": "https://plot.ly",
        "showLink": true
       },
       "data": [
        {
         "marker": {
          "color": "rgb(158,202,225)",
          "line": {
           "color": "rgb(8,48,107)",
           "width": 1.5
          }
         },
         "opacity": 0.6,
         "orientation": "h",
         "text": [
          0.1431,
          0.1241,
          0.1177,
          0.0532,
          0.052,
          0.0495,
          0.0447,
          0.043,
          0.0421,
          0.0334,
          0.0329,
          0.032,
          0.0282,
          0.0184,
          0.0171,
          0.0136,
          0.0125,
          0.0125,
          0.0116,
          0.0108,
          0.0103,
          0.0097,
          0.0091,
          0.0073,
          0.0073,
          0.0071,
          0.007,
          0.0065,
          0.0062,
          0.0061,
          0.0051,
          0.0044,
          0.0035,
          0.0033,
          0.0031,
          0.0027,
          0.0015,
          0.0013,
          0.0012,
          0.0011,
          0.0011,
          0.0006,
          0.0005,
          0.0004,
          0.0003,
          0.0003,
          0.0003,
          0.0002,
          0.0001,
          0.0001,
          0,
          0,
          0,
          0,
          0
         ],
         "textposition": "outside",
         "type": "bar",
         "uid": "73ea2845-330d-4d6a-9a49-b2196c8e49e0",
         "x": [
          0.14313581315489893,
          0.1240697256576961,
          0.11768802868435299,
          0.05323800926531628,
          0.052034065875899996,
          0.04954790627975757,
          0.04466445133745948,
          0.04296514274128354,
          0.0421046363647226,
          0.033379175570038555,
          0.032926485367217116,
          0.031953605014725474,
          0.02815373206211853,
          0.01843734585496979,
          0.0171001363588291,
          0.013571260345174316,
          0.012502613452264558,
          0.012499308192370743,
          0.011588580164697593,
          0.010840731989066682,
          0.010315790601929881,
          0.009727663749960863,
          0.009119711346515484,
          0.007292342865285295,
          0.007250646861409896,
          0.007086344391192059,
          0.0070090568489191655,
          0.006468948773052099,
          0.006159252713571049,
          0.006091214864298221,
          0.005064368770335728,
          0.0043862677370741935,
          0.0035083994669115335,
          0.003281181291787655,
          0.0031065617967542224,
          0.002688266166418491,
          0.0014596192151185817,
          0.001328299945517464,
          0.0011593594116838044,
          0.0010855683721332,
          0.0010529404367787781,
          0.0006297175664113667,
          0.0004826209327358705,
          0.00039518141865670125,
          0.0003463454900304772,
          0.00031438494818457195,
          0.0002697272885682336,
          0.00023466876560795407,
          0.00011081070839698416,
          0.00010612925910693247,
          3.863028075020737e-05,
          2.8916708845241597e-05,
          3.0727319789241483e-07,
          0,
          0
         ],
         "y": [
          "url_char_. + url_char_/",
          "url_char_& + url_char_.",
          "url_char_. / url_number_special_chars/url_length",
          "url_char_. + url_number_consonants/url_length",
          "url_number_consonants/url_length / url_char_.",
          "url_char_/ + url_number_special_chars/url_length",
          "url_char_. * url_number_special_chars/url_length",
          "url_number_digits/url_length + url_number_special_chars/url_length",
          "url_char_. + url_number_digits/url_length",
          "url_number_vowels/url_length / url_char_.",
          "url_char_.",
          "url_char_+ + url_char_/",
          "url_char_. * url_number_consonants/url_length",
          "url_char_. + url_number_vowels/url_length",
          "url_char_/ + url_char_=",
          "url_char_/ * url_number_consonants/url_length",
          "url_char_- + url_char_/",
          "url_char_. * url_number_digits/url_length",
          "url_char_- + url_char_=",
          "url_char_/ + url_number_digits/url_length",
          "url_char_- / url_number_special_chars/url_length",
          "url_char_/ + url_port",
          "url_char_- + url_number_digits/url_length",
          "url_number_digits/url_length / url_char_.",
          "url_char_. + url_char_=",
          "url_char_/ / url_number_consonants/url_length",
          "url_char_& + url_char_/",
          "url_char_- / url_number_vowels/url_length",
          "url_number_consonants/url_length * url_number_digits/url_length",
          "url_number_digits/url_length * url_number_vowels/url_length",
          "url_number_digits/url_length * url_number_special_chars/url_length",
          "url_char_/ / url_char_.",
          "url_char_& + url_char_-",
          "url_number_digits/url_length / url_number_special_chars/url_length",
          "url_number_digits/url_length / url_number_consonants/url_length",
          "url_char_- + url_char_.",
          "url_char_% + url_char_/",
          "url_char_- + url_port",
          "url_char_% + url_char_-",
          "url_char_. / url_char_/",
          "url_char_/",
          "url_char_. + url_port",
          "url_char_+ + url_char_.",
          "url_char_. + url_char__",
          "url_number_special_chars/url_length / url_char_/",
          "url_char_. + url_char_:",
          "url_char_. + url_char_?",
          "url_char_/ + url_char_:",
          "url_char_/ * url_number_special_chars/url_length",
          "url_char_/ + url_char__",
          "url_char_/ + url_char_?",
          "url_char_/ * url_number_vowels/url_length",
          "url_number_vowels/url_length / url_char_/",
          "url_number_consonants/url_length / url_char_/",
          "url_number_digits/url_length / url_char_/"
         ]
        }
       ],
       "layout": {
        "autosize": false,
        "height": 1000,
        "width": 1000,
        "xaxis": {
         "tickfont": {
          "color": "black",
          "size": 12
         },
         "title": "Feature Importances"
        },
        "yaxis": {
         "automargin": true
        }
       }
      },
      "text/html": [
       "<div id=\"39a9b4f1-15cd-4237-bd18-738d43f27e44\" style=\"height: 1000px; width: 1000px;\" class=\"plotly-graph-div\"></div><script type=\"text/javascript\">require([\"plotly\"], function(Plotly) { window.PLOTLYENV=window.PLOTLYENV || {};window.PLOTLYENV.BASE_URL=\"https://plot.ly\";Plotly.newPlot(\"39a9b4f1-15cd-4237-bd18-738d43f27e44\", [{\"marker\": {\"color\": \"rgb(158,202,225)\", \"line\": {\"color\": \"rgb(8,48,107)\", \"width\": 1.5}}, \"opacity\": 0.6, \"orientation\": \"h\", \"text\": [0.1431, 0.1241, 0.1177, 0.0532, 0.052, 0.0495, 0.0447, 0.043, 0.0421, 0.0334, 0.0329, 0.032, 0.0282, 0.0184, 0.0171, 0.0136, 0.0125, 0.0125, 0.0116, 0.0108, 0.0103, 0.0097, 0.0091, 0.0073, 0.0073, 0.0071, 0.007, 0.0065, 0.0062, 0.0061, 0.0051, 0.0044, 0.0035, 0.0033, 0.0031, 0.0027, 0.0015, 0.0013, 0.0012, 0.0011, 0.0011, 0.0006, 0.0005, 0.0004, 0.0003, 0.0003, 0.0003, 0.0002, 0.0001, 0.0001, 0.0, 0.0, 0.0, 0.0, 0.0], \"textposition\": \"outside\", \"x\": [0.14313581315489893, 0.1240697256576961, 0.11768802868435299, 0.05323800926531628, 0.052034065875899996, 0.04954790627975757, 0.04466445133745948, 0.04296514274128354, 0.0421046363647226, 0.033379175570038555, 0.032926485367217116, 0.031953605014725474, 0.02815373206211853, 0.01843734585496979, 0.0171001363588291, 0.013571260345174316, 0.012502613452264558, 0.012499308192370743, 0.011588580164697593, 0.010840731989066682, 0.010315790601929881, 0.009727663749960863, 0.009119711346515484, 0.007292342865285295, 0.007250646861409896, 0.007086344391192059, 0.0070090568489191655, 0.006468948773052099, 0.006159252713571049, 0.006091214864298221, 0.005064368770335728, 0.0043862677370741935, 0.0035083994669115335, 0.003281181291787655, 0.0031065617967542224, 0.002688266166418491, 0.0014596192151185817, 0.001328299945517464, 0.0011593594116838044, 0.0010855683721332, 0.0010529404367787781, 0.0006297175664113667, 0.0004826209327358705, 0.00039518141865670125, 0.0003463454900304772, 0.00031438494818457195, 0.0002697272885682336, 0.00023466876560795407, 0.00011081070839698416, 0.00010612925910693247, 3.863028075020737e-05, 2.8916708845241597e-05, 3.0727319789241483e-07, 0.0, 0.0], \"y\": [\"url_char_. + url_char_/\", \"url_char_& + url_char_.\", \"url_char_. / url_number_special_chars/url_length\", \"url_char_. + url_number_consonants/url_length\", \"url_number_consonants/url_length / url_char_.\", \"url_char_/ + url_number_special_chars/url_length\", \"url_char_. * url_number_special_chars/url_length\", \"url_number_digits/url_length + url_number_special_chars/url_length\", \"url_char_. + url_number_digits/url_length\", \"url_number_vowels/url_length / url_char_.\", \"url_char_.\", \"url_char_+ + url_char_/\", \"url_char_. * url_number_consonants/url_length\", \"url_char_. + url_number_vowels/url_length\", \"url_char_/ + url_char_=\", \"url_char_/ * url_number_consonants/url_length\", \"url_char_- + url_char_/\", \"url_char_. * url_number_digits/url_length\", \"url_char_- + url_char_=\", \"url_char_/ + url_number_digits/url_length\", \"url_char_- / url_number_special_chars/url_length\", \"url_char_/ + url_port\", \"url_char_- + url_number_digits/url_length\", \"url_number_digits/url_length / url_char_.\", \"url_char_. + url_char_=\", \"url_char_/ / url_number_consonants/url_length\", \"url_char_& + url_char_/\", \"url_char_- / url_number_vowels/url_length\", \"url_number_consonants/url_length * url_number_digits/url_length\", \"url_number_digits/url_length * url_number_vowels/url_length\", \"url_number_digits/url_length * url_number_special_chars/url_length\", \"url_char_/ / url_char_.\", \"url_char_& + url_char_-\", \"url_number_digits/url_length / url_number_special_chars/url_length\", \"url_number_digits/url_length / url_number_consonants/url_length\", \"url_char_- + url_char_.\", \"url_char_% + url_char_/\", \"url_char_- + url_port\", \"url_char_% + url_char_-\", \"url_char_. / url_char_/\", \"url_char_/\", \"url_char_. + url_port\", \"url_char_+ + url_char_.\", \"url_char_. + url_char__\", \"url_number_special_chars/url_length / url_char_/\", \"url_char_. + url_char_:\", \"url_char_. + url_char_?\", \"url_char_/ + url_char_:\", \"url_char_/ * url_number_special_chars/url_length\", \"url_char_/ + url_char__\", \"url_char_/ + url_char_?\", \"url_char_/ * url_number_vowels/url_length\", \"url_number_vowels/url_length / url_char_/\", \"url_number_consonants/url_length / url_char_/\", \"url_number_digits/url_length / url_char_/\"], \"type\": \"bar\", \"uid\": \"73ea2845-330d-4d6a-9a49-b2196c8e49e0\"}], {\"autosize\": false, \"height\": 1000, \"width\": 1000, \"xaxis\": {\"tickfont\": {\"color\": \"black\", \"size\": 12}, \"title\": \"Feature Importances\"}, \"yaxis\": {\"automargin\": true}}, {\"showLink\": true, \"linkText\": \"Export to plot.ly\", \"plotlyServerURL\": \"https://plot.ly\"})});</script>"
      ],
      "text/vnd.plotly.v1+html": [
       "<div id=\"39a9b4f1-15cd-4237-bd18-738d43f27e44\" style=\"height: 1000px; width: 1000px;\" class=\"plotly-graph-div\"></div><script type=\"text/javascript\">require([\"plotly\"], function(Plotly) { window.PLOTLYENV=window.PLOTLYENV || {};window.PLOTLYENV.BASE_URL=\"https://plot.ly\";Plotly.newPlot(\"39a9b4f1-15cd-4237-bd18-738d43f27e44\", [{\"marker\": {\"color\": \"rgb(158,202,225)\", \"line\": {\"color\": \"rgb(8,48,107)\", \"width\": 1.5}}, \"opacity\": 0.6, \"orientation\": \"h\", \"text\": [0.1431, 0.1241, 0.1177, 0.0532, 0.052, 0.0495, 0.0447, 0.043, 0.0421, 0.0334, 0.0329, 0.032, 0.0282, 0.0184, 0.0171, 0.0136, 0.0125, 0.0125, 0.0116, 0.0108, 0.0103, 0.0097, 0.0091, 0.0073, 0.0073, 0.0071, 0.007, 0.0065, 0.0062, 0.0061, 0.0051, 0.0044, 0.0035, 0.0033, 0.0031, 0.0027, 0.0015, 0.0013, 0.0012, 0.0011, 0.0011, 0.0006, 0.0005, 0.0004, 0.0003, 0.0003, 0.0003, 0.0002, 0.0001, 0.0001, 0.0, 0.0, 0.0, 0.0, 0.0], \"textposition\": \"outside\", \"x\": [0.14313581315489893, 0.1240697256576961, 0.11768802868435299, 0.05323800926531628, 0.052034065875899996, 0.04954790627975757, 0.04466445133745948, 0.04296514274128354, 0.0421046363647226, 0.033379175570038555, 0.032926485367217116, 0.031953605014725474, 0.02815373206211853, 0.01843734585496979, 0.0171001363588291, 0.013571260345174316, 0.012502613452264558, 0.012499308192370743, 0.011588580164697593, 0.010840731989066682, 0.010315790601929881, 0.009727663749960863, 0.009119711346515484, 0.007292342865285295, 0.007250646861409896, 0.007086344391192059, 0.0070090568489191655, 0.006468948773052099, 0.006159252713571049, 0.006091214864298221, 0.005064368770335728, 0.0043862677370741935, 0.0035083994669115335, 0.003281181291787655, 0.0031065617967542224, 0.002688266166418491, 0.0014596192151185817, 0.001328299945517464, 0.0011593594116838044, 0.0010855683721332, 0.0010529404367787781, 0.0006297175664113667, 0.0004826209327358705, 0.00039518141865670125, 0.0003463454900304772, 0.00031438494818457195, 0.0002697272885682336, 0.00023466876560795407, 0.00011081070839698416, 0.00010612925910693247, 3.863028075020737e-05, 2.8916708845241597e-05, 3.0727319789241483e-07, 0.0, 0.0], \"y\": [\"url_char_. + url_char_/\", \"url_char_& + url_char_.\", \"url_char_. / url_number_special_chars/url_length\", \"url_char_. + url_number_consonants/url_length\", \"url_number_consonants/url_length / url_char_.\", \"url_char_/ + url_number_special_chars/url_length\", \"url_char_. * url_number_special_chars/url_length\", \"url_number_digits/url_length + url_number_special_chars/url_length\", \"url_char_. + url_number_digits/url_length\", \"url_number_vowels/url_length / url_char_.\", \"url_char_.\", \"url_char_+ + url_char_/\", \"url_char_. * url_number_consonants/url_length\", \"url_char_. + url_number_vowels/url_length\", \"url_char_/ + url_char_=\", \"url_char_/ * url_number_consonants/url_length\", \"url_char_- + url_char_/\", \"url_char_. * url_number_digits/url_length\", \"url_char_- + url_char_=\", \"url_char_/ + url_number_digits/url_length\", \"url_char_- / url_number_special_chars/url_length\", \"url_char_/ + url_port\", \"url_char_- + url_number_digits/url_length\", \"url_number_digits/url_length / url_char_.\", \"url_char_. + url_char_=\", \"url_char_/ / url_number_consonants/url_length\", \"url_char_& + url_char_/\", \"url_char_- / url_number_vowels/url_length\", \"url_number_consonants/url_length * url_number_digits/url_length\", \"url_number_digits/url_length * url_number_vowels/url_length\", \"url_number_digits/url_length * url_number_special_chars/url_length\", \"url_char_/ / url_char_.\", \"url_char_& + url_char_-\", \"url_number_digits/url_length / url_number_special_chars/url_length\", \"url_number_digits/url_length / url_number_consonants/url_length\", \"url_char_- + url_char_.\", \"url_char_% + url_char_/\", \"url_char_- + url_port\", \"url_char_% + url_char_-\", \"url_char_. / url_char_/\", \"url_char_/\", \"url_char_. + url_port\", \"url_char_+ + url_char_.\", \"url_char_. + url_char__\", \"url_number_special_chars/url_length / url_char_/\", \"url_char_. + url_char_:\", \"url_char_. + url_char_?\", \"url_char_/ + url_char_:\", \"url_char_/ * url_number_special_chars/url_length\", \"url_char_/ + url_char__\", \"url_char_/ + url_char_?\", \"url_char_/ * url_number_vowels/url_length\", \"url_number_vowels/url_length / url_char_/\", \"url_number_consonants/url_length / url_char_/\", \"url_number_digits/url_length / url_char_/\"], \"type\": \"bar\", \"uid\": \"73ea2845-330d-4d6a-9a49-b2196c8e49e0\"}], {\"autosize\": false, \"height\": 1000, \"width\": 1000, \"xaxis\": {\"tickfont\": {\"color\": \"black\", \"size\": 12}, \"title\": \"Feature Importances\"}, \"yaxis\": {\"automargin\": true}}, {\"showLink\": true, \"linkText\": \"Export to plot.ly\", \"plotlyServerURL\": \"https://plot.ly\"})});</script>"
      ]
     },
     "metadata": {},
     "output_type": "display_data"
    },
    {
     "name": "stdout",
     "output_type": "stream",
     "text": [
      "\n",
      "\n",
      "\u001b[1mAdaoost Classifier\u001b[0m\n",
      "Accuracy of the model for training data is: 0.939840179598\n",
      "Confusion Matrix for training data is:\n"
     ]
    },
    {
     "data": {
      "text/plain": [
       "Predicted  False  True  __all__\n",
       "Actual                         \n",
       "False      31206   686    31892\n",
       "True        1565  3960     5525\n",
       "__all__    32771  4646    37417"
      ]
     },
     "metadata": {},
     "output_type": "display_data"
    },
    {
     "name": "stdout",
     "output_type": "stream",
     "text": [
      "Accuracy of the model for test data is: 0.937032285653\n",
      "Confusion Matrix for test data is:\n"
     ]
    },
    {
     "data": {
      "text/plain": [
       "Predicted  False  True  __all__\n",
       "Actual                         \n",
       "False       7806   179     7985\n",
       "True         410   959     1369\n",
       "__all__     8216  1138     9354"
      ]
     },
     "metadata": {},
     "output_type": "display_data"
    },
    {
     "data": {
      "application/vnd.plotly.v1+json": {
       "config": {
        "linkText": "Export to plot.ly",
        "plotlyServerURL": "https://plot.ly",
        "showLink": true
       },
       "data": [
        {
         "marker": {
          "color": "rgb(158,202,225)",
          "line": {
           "color": "rgb(8,48,107)",
           "width": 1.5
          }
         },
         "opacity": 0.6,
         "orientation": "h",
         "text": [
          0.16,
          0.1,
          0.1,
          0.08,
          0.08,
          0.06,
          0.06,
          0.06,
          0.04,
          0.04,
          0.04,
          0.04,
          0.02,
          0.02,
          0.02,
          0.02,
          0.02,
          0.02,
          0.02,
          0,
          0,
          0,
          0,
          0,
          0,
          0,
          0,
          0,
          0,
          0,
          0,
          0,
          0,
          0,
          0,
          0,
          0,
          0,
          0,
          0,
          0,
          0,
          0,
          0,
          0,
          0,
          0,
          0,
          0,
          0,
          0,
          0,
          0,
          0,
          0
         ],
         "textposition": "outside",
         "type": "bar",
         "uid": "0ff8f8b3-d6da-44eb-9bf3-7544caa31d01",
         "x": [
          0.16,
          0.1,
          0.1,
          0.08,
          0.08,
          0.06,
          0.06,
          0.06,
          0.04,
          0.04,
          0.04,
          0.04,
          0.02,
          0.02,
          0.02,
          0.02,
          0.02,
          0.02,
          0.02,
          0,
          0,
          0,
          0,
          0,
          0,
          0,
          0,
          0,
          0,
          0,
          0,
          0,
          0,
          0,
          0,
          0,
          0,
          0,
          0,
          0,
          0,
          0,
          0,
          0,
          0,
          0,
          0,
          0,
          0,
          0,
          0,
          0,
          0,
          0,
          0
         ],
         "y": [
          "url_char_. / url_number_special_chars/url_length",
          "url_char_. * url_number_special_chars/url_length",
          "url_number_consonants/url_length / url_char_.",
          "url_char_. + url_number_vowels/url_length",
          "url_char_/ + url_number_special_chars/url_length",
          "url_number_digits/url_length + url_number_special_chars/url_length",
          "url_number_consonants/url_length * url_number_digits/url_length",
          "url_char_- + url_number_digits/url_length",
          "url_number_vowels/url_length / url_char_.",
          "url_char_. + url_number_consonants/url_length",
          "url_char_. * url_number_consonants/url_length",
          "url_char_- / url_number_vowels/url_length",
          "url_char_. + url_number_digits/url_length",
          "url_char_. + url_char_/",
          "url_number_digits/url_length * url_number_special_chars/url_length",
          "url_char_- / url_number_special_chars/url_length",
          "url_number_digits/url_length / url_number_special_chars/url_length",
          "url_char_. * url_number_digits/url_length",
          "url_char_/ + url_number_digits/url_length",
          "url_char_.",
          "url_number_vowels/url_length / url_char_/",
          "url_char_- + url_port",
          "url_char_. + url_char_=",
          "url_char_- + url_char_=",
          "url_char_- + url_char_/",
          "url_char_- + url_char_.",
          "url_char_+ + url_char_/",
          "url_char_+ + url_char_.",
          "url_char_& + url_char_/",
          "url_char_& + url_char_.",
          "url_char_& + url_char_-",
          "url_char_% + url_char_/",
          "url_char_. + url_char_:",
          "url_char_. / url_char_/",
          "url_char_. + url_char_?",
          "url_char_/ + url_port",
          "url_number_special_chars/url_length / url_char_/",
          "url_number_digits/url_length / url_number_consonants/url_length",
          "url_number_digits/url_length / url_char_/",
          "url_number_digits/url_length / url_char_.",
          "url_number_digits/url_length * url_number_vowels/url_length",
          "url_number_consonants/url_length / url_char_/",
          "url_char_/ / url_number_consonants/url_length",
          "url_char_/ / url_char_.",
          "url_char_/ + url_char__",
          "url_char_. + url_char__",
          "url_char_/ + url_char_?",
          "url_char_/ + url_char_=",
          "url_char_/ + url_char_:",
          "url_char_/ * url_number_vowels/url_length",
          "url_char_/ * url_number_special_chars/url_length",
          "url_char_/ * url_number_consonants/url_length",
          "url_char_/",
          "url_char_. + url_port",
          "url_char_% + url_char_-"
         ]
        }
       ],
       "layout": {
        "autosize": false,
        "height": 1000,
        "width": 1000,
        "xaxis": {
         "tickfont": {
          "color": "black",
          "size": 12
         },
         "title": "Feature Importances"
        },
        "yaxis": {
         "automargin": true
        }
       }
      },
      "text/html": [
       "<div id=\"44f9ebac-6025-4faa-8e70-e2c10b708f25\" style=\"height: 1000px; width: 1000px;\" class=\"plotly-graph-div\"></div><script type=\"text/javascript\">require([\"plotly\"], function(Plotly) { window.PLOTLYENV=window.PLOTLYENV || {};window.PLOTLYENV.BASE_URL=\"https://plot.ly\";Plotly.newPlot(\"44f9ebac-6025-4faa-8e70-e2c10b708f25\", [{\"marker\": {\"color\": \"rgb(158,202,225)\", \"line\": {\"color\": \"rgb(8,48,107)\", \"width\": 1.5}}, \"opacity\": 0.6, \"orientation\": \"h\", \"text\": [0.16, 0.1, 0.1, 0.08, 0.08, 0.06, 0.06, 0.06, 0.04, 0.04, 0.04, 0.04, 0.02, 0.02, 0.02, 0.02, 0.02, 0.02, 0.02, 0.0, 0.0, 0.0, 0.0, 0.0, 0.0, 0.0, 0.0, 0.0, 0.0, 0.0, 0.0, 0.0, 0.0, 0.0, 0.0, 0.0, 0.0, 0.0, 0.0, 0.0, 0.0, 0.0, 0.0, 0.0, 0.0, 0.0, 0.0, 0.0, 0.0, 0.0, 0.0, 0.0, 0.0, 0.0, 0.0], \"textposition\": \"outside\", \"x\": [0.16, 0.1, 0.1, 0.08, 0.08, 0.06, 0.06, 0.06, 0.04, 0.04, 0.04, 0.04, 0.02, 0.02, 0.02, 0.02, 0.02, 0.02, 0.02, 0.0, 0.0, 0.0, 0.0, 0.0, 0.0, 0.0, 0.0, 0.0, 0.0, 0.0, 0.0, 0.0, 0.0, 0.0, 0.0, 0.0, 0.0, 0.0, 0.0, 0.0, 0.0, 0.0, 0.0, 0.0, 0.0, 0.0, 0.0, 0.0, 0.0, 0.0, 0.0, 0.0, 0.0, 0.0, 0.0], \"y\": [\"url_char_. / url_number_special_chars/url_length\", \"url_char_. * url_number_special_chars/url_length\", \"url_number_consonants/url_length / url_char_.\", \"url_char_. + url_number_vowels/url_length\", \"url_char_/ + url_number_special_chars/url_length\", \"url_number_digits/url_length + url_number_special_chars/url_length\", \"url_number_consonants/url_length * url_number_digits/url_length\", \"url_char_- + url_number_digits/url_length\", \"url_number_vowels/url_length / url_char_.\", \"url_char_. + url_number_consonants/url_length\", \"url_char_. * url_number_consonants/url_length\", \"url_char_- / url_number_vowels/url_length\", \"url_char_. + url_number_digits/url_length\", \"url_char_. + url_char_/\", \"url_number_digits/url_length * url_number_special_chars/url_length\", \"url_char_- / url_number_special_chars/url_length\", \"url_number_digits/url_length / url_number_special_chars/url_length\", \"url_char_. * url_number_digits/url_length\", \"url_char_/ + url_number_digits/url_length\", \"url_char_.\", \"url_number_vowels/url_length / url_char_/\", \"url_char_- + url_port\", \"url_char_. + url_char_=\", \"url_char_- + url_char_=\", \"url_char_- + url_char_/\", \"url_char_- + url_char_.\", \"url_char_+ + url_char_/\", \"url_char_+ + url_char_.\", \"url_char_& + url_char_/\", \"url_char_& + url_char_.\", \"url_char_& + url_char_-\", \"url_char_% + url_char_/\", \"url_char_. + url_char_:\", \"url_char_. / url_char_/\", \"url_char_. + url_char_?\", \"url_char_/ + url_port\", \"url_number_special_chars/url_length / url_char_/\", \"url_number_digits/url_length / url_number_consonants/url_length\", \"url_number_digits/url_length / url_char_/\", \"url_number_digits/url_length / url_char_.\", \"url_number_digits/url_length * url_number_vowels/url_length\", \"url_number_consonants/url_length / url_char_/\", \"url_char_/ / url_number_consonants/url_length\", \"url_char_/ / url_char_.\", \"url_char_/ + url_char__\", \"url_char_. + url_char__\", \"url_char_/ + url_char_?\", \"url_char_/ + url_char_=\", \"url_char_/ + url_char_:\", \"url_char_/ * url_number_vowels/url_length\", \"url_char_/ * url_number_special_chars/url_length\", \"url_char_/ * url_number_consonants/url_length\", \"url_char_/\", \"url_char_. + url_port\", \"url_char_% + url_char_-\"], \"type\": \"bar\", \"uid\": \"0ff8f8b3-d6da-44eb-9bf3-7544caa31d01\"}], {\"autosize\": false, \"height\": 1000, \"width\": 1000, \"xaxis\": {\"tickfont\": {\"color\": \"black\", \"size\": 12}, \"title\": \"Feature Importances\"}, \"yaxis\": {\"automargin\": true}}, {\"showLink\": true, \"linkText\": \"Export to plot.ly\", \"plotlyServerURL\": \"https://plot.ly\"})});</script>"
      ],
      "text/vnd.plotly.v1+html": [
       "<div id=\"44f9ebac-6025-4faa-8e70-e2c10b708f25\" style=\"height: 1000px; width: 1000px;\" class=\"plotly-graph-div\"></div><script type=\"text/javascript\">require([\"plotly\"], function(Plotly) { window.PLOTLYENV=window.PLOTLYENV || {};window.PLOTLYENV.BASE_URL=\"https://plot.ly\";Plotly.newPlot(\"44f9ebac-6025-4faa-8e70-e2c10b708f25\", [{\"marker\": {\"color\": \"rgb(158,202,225)\", \"line\": {\"color\": \"rgb(8,48,107)\", \"width\": 1.5}}, \"opacity\": 0.6, \"orientation\": \"h\", \"text\": [0.16, 0.1, 0.1, 0.08, 0.08, 0.06, 0.06, 0.06, 0.04, 0.04, 0.04, 0.04, 0.02, 0.02, 0.02, 0.02, 0.02, 0.02, 0.02, 0.0, 0.0, 0.0, 0.0, 0.0, 0.0, 0.0, 0.0, 0.0, 0.0, 0.0, 0.0, 0.0, 0.0, 0.0, 0.0, 0.0, 0.0, 0.0, 0.0, 0.0, 0.0, 0.0, 0.0, 0.0, 0.0, 0.0, 0.0, 0.0, 0.0, 0.0, 0.0, 0.0, 0.0, 0.0, 0.0], \"textposition\": \"outside\", \"x\": [0.16, 0.1, 0.1, 0.08, 0.08, 0.06, 0.06, 0.06, 0.04, 0.04, 0.04, 0.04, 0.02, 0.02, 0.02, 0.02, 0.02, 0.02, 0.02, 0.0, 0.0, 0.0, 0.0, 0.0, 0.0, 0.0, 0.0, 0.0, 0.0, 0.0, 0.0, 0.0, 0.0, 0.0, 0.0, 0.0, 0.0, 0.0, 0.0, 0.0, 0.0, 0.0, 0.0, 0.0, 0.0, 0.0, 0.0, 0.0, 0.0, 0.0, 0.0, 0.0, 0.0, 0.0, 0.0], \"y\": [\"url_char_. / url_number_special_chars/url_length\", \"url_char_. * url_number_special_chars/url_length\", \"url_number_consonants/url_length / url_char_.\", \"url_char_. + url_number_vowels/url_length\", \"url_char_/ + url_number_special_chars/url_length\", \"url_number_digits/url_length + url_number_special_chars/url_length\", \"url_number_consonants/url_length * url_number_digits/url_length\", \"url_char_- + url_number_digits/url_length\", \"url_number_vowels/url_length / url_char_.\", \"url_char_. + url_number_consonants/url_length\", \"url_char_. * url_number_consonants/url_length\", \"url_char_- / url_number_vowels/url_length\", \"url_char_. + url_number_digits/url_length\", \"url_char_. + url_char_/\", \"url_number_digits/url_length * url_number_special_chars/url_length\", \"url_char_- / url_number_special_chars/url_length\", \"url_number_digits/url_length / url_number_special_chars/url_length\", \"url_char_. * url_number_digits/url_length\", \"url_char_/ + url_number_digits/url_length\", \"url_char_.\", \"url_number_vowels/url_length / url_char_/\", \"url_char_- + url_port\", \"url_char_. + url_char_=\", \"url_char_- + url_char_=\", \"url_char_- + url_char_/\", \"url_char_- + url_char_.\", \"url_char_+ + url_char_/\", \"url_char_+ + url_char_.\", \"url_char_& + url_char_/\", \"url_char_& + url_char_.\", \"url_char_& + url_char_-\", \"url_char_% + url_char_/\", \"url_char_. + url_char_:\", \"url_char_. / url_char_/\", \"url_char_. + url_char_?\", \"url_char_/ + url_port\", \"url_number_special_chars/url_length / url_char_/\", \"url_number_digits/url_length / url_number_consonants/url_length\", \"url_number_digits/url_length / url_char_/\", \"url_number_digits/url_length / url_char_.\", \"url_number_digits/url_length * url_number_vowels/url_length\", \"url_number_consonants/url_length / url_char_/\", \"url_char_/ / url_number_consonants/url_length\", \"url_char_/ / url_char_.\", \"url_char_/ + url_char__\", \"url_char_. + url_char__\", \"url_char_/ + url_char_?\", \"url_char_/ + url_char_=\", \"url_char_/ + url_char_:\", \"url_char_/ * url_number_vowels/url_length\", \"url_char_/ * url_number_special_chars/url_length\", \"url_char_/ * url_number_consonants/url_length\", \"url_char_/\", \"url_char_. + url_port\", \"url_char_% + url_char_-\"], \"type\": \"bar\", \"uid\": \"0ff8f8b3-d6da-44eb-9bf3-7544caa31d01\"}], {\"autosize\": false, \"height\": 1000, \"width\": 1000, \"xaxis\": {\"tickfont\": {\"color\": \"black\", \"size\": 12}, \"title\": \"Feature Importances\"}, \"yaxis\": {\"automargin\": true}}, {\"showLink\": true, \"linkText\": \"Export to plot.ly\", \"plotlyServerURL\": \"https://plot.ly\"})});</script>"
      ]
     },
     "metadata": {},
     "output_type": "display_data"
    },
    {
     "name": "stdout",
     "output_type": "stream",
     "text": [
      "\n",
      "\n",
      "\u001b[1mGradientBoosting Classifier\u001b[0m\n",
      "Accuracy of the model for training data is: 0.943127455435\n",
      "Confusion Matrix for training data is:\n"
     ]
    },
    {
     "data": {
      "text/plain": [
       "Predicted  False  True  __all__\n",
       "Actual                         \n",
       "False      31085   807    31892\n",
       "True        1321  4204     5525\n",
       "__all__    32406  5011    37417"
      ]
     },
     "metadata": {},
     "output_type": "display_data"
    },
    {
     "name": "stdout",
     "output_type": "stream",
     "text": [
      "Accuracy of the model for test data is: 0.938849689972\n",
      "Confusion Matrix for test data is:\n"
     ]
    },
    {
     "data": {
      "text/plain": [
       "Predicted  False  True  __all__\n",
       "Actual                         \n",
       "False       7763   222     7985\n",
       "True         350  1019     1369\n",
       "__all__     8113  1241     9354"
      ]
     },
     "metadata": {},
     "output_type": "display_data"
    },
    {
     "data": {
      "application/vnd.plotly.v1+json": {
       "config": {
        "linkText": "Export to plot.ly",
        "plotlyServerURL": "https://plot.ly",
        "showLink": true
       },
       "data": [
        {
         "marker": {
          "color": "rgb(158,202,225)",
          "line": {
           "color": "rgb(8,48,107)",
           "width": 1.5
          }
         },
         "opacity": 0.6,
         "orientation": "h",
         "text": [
          0.4422,
          0.2657,
          0.0546,
          0.0516,
          0.0396,
          0.0346,
          0.019,
          0.0168,
          0.0121,
          0.0118,
          0.0089,
          0.008,
          0.0077,
          0.0077,
          0.0062,
          0.005,
          0.0019,
          0.0014,
          0.0013,
          0.001,
          0.0009,
          0.0007,
          0.0006,
          0.0004,
          0.0002,
          0,
          0,
          0,
          0,
          0,
          0,
          0,
          0,
          0,
          0,
          0,
          0,
          0,
          0,
          0,
          0,
          0,
          0,
          0,
          0,
          0,
          0,
          0,
          0,
          0,
          0,
          0,
          0,
          0,
          0
         ],
         "textposition": "outside",
         "type": "bar",
         "uid": "0fd1191f-02ef-4a17-9010-9f2714575bd6",
         "x": [
          0.4421618492308943,
          0.26569219477186073,
          0.054570382066471405,
          0.051604161181623746,
          0.0395821410327936,
          0.0346427547140301,
          0.01900227877517387,
          0.01679486125150988,
          0.012134334519186739,
          0.011816349450569363,
          0.008883607856551302,
          0.007983697096909619,
          0.007734618016963925,
          0.007725475267564899,
          0.0061866319393853435,
          0.005030782803494792,
          0.0018716772040184798,
          0.0014056099869694549,
          0.0012909890633733688,
          0.0009514814997794677,
          0.000899895634658396,
          0.0007413433324365152,
          0.0006198283966750802,
          0.0003771112816755252,
          0.00017368699502256306,
          3.971136773810107e-05,
          3.338697820589966e-05,
          1.569122887885501e-05,
          1.398994784424863e-05,
          1.2003179477855626e-05,
          7.4739282624748254e-06,
          0,
          0,
          0,
          0,
          0,
          0,
          0,
          0,
          0,
          0,
          0,
          0,
          0,
          0,
          0,
          0,
          0,
          0,
          0,
          0,
          0,
          0,
          0,
          0
         ],
         "y": [
          "url_char_. + url_char_/",
          "url_char_. / url_number_special_chars/url_length",
          "url_char_/ + url_number_digits/url_length",
          "url_char_- + url_char_/",
          "url_number_digits/url_length / url_number_special_chars/url_length",
          "url_number_vowels/url_length / url_char_.",
          "url_char_/ + url_number_special_chars/url_length",
          "url_char_. + url_number_digits/url_length",
          "url_char_. * url_number_special_chars/url_length",
          "url_char_- / url_number_special_chars/url_length",
          "url_char_- + url_number_digits/url_length",
          "url_number_consonants/url_length / url_char_.",
          "url_number_consonants/url_length * url_number_digits/url_length",
          "url_number_digits/url_length / url_number_consonants/url_length",
          "url_char_. + url_number_vowels/url_length",
          "url_char_. + url_number_consonants/url_length",
          "url_number_digits/url_length * url_number_vowels/url_length",
          "url_char_. * url_number_consonants/url_length",
          "url_char_- / url_number_vowels/url_length",
          "url_number_digits/url_length + url_number_special_chars/url_length",
          "url_number_digits/url_length * url_number_special_chars/url_length",
          "url_char_+ + url_char_/",
          "url_char_/ + url_char_=",
          "url_number_consonants/url_length / url_char_/",
          "url_number_digits/url_length / url_char_.",
          "url_char_. * url_number_digits/url_length",
          "url_char_& + url_char_-",
          "url_char_/ + url_port",
          "url_char_- + url_char_=",
          "url_char_/ / url_number_consonants/url_length",
          "url_char_/",
          "url_char_.",
          "url_number_vowels/url_length / url_char_/",
          "url_char_- + url_port",
          "url_char_- + url_char_.",
          "url_char_& + url_char_/",
          "url_char_& + url_char_.",
          "url_char_% + url_char_/",
          "url_char_+ + url_char_.",
          "url_char_. / url_char_/",
          "url_char_. + url_char_:",
          "url_char_. + url_char_=",
          "url_char_. + url_char_?",
          "url_char_. + url_char__",
          "url_char_. + url_port",
          "url_char_/ * url_number_consonants/url_length",
          "url_char_/ * url_number_special_chars/url_length",
          "url_char_/ * url_number_vowels/url_length",
          "url_char_/ + url_char_:",
          "url_char_/ + url_char_?",
          "url_char_/ + url_char__",
          "url_char_/ / url_char_.",
          "url_number_digits/url_length / url_char_/",
          "url_number_special_chars/url_length / url_char_/",
          "url_char_% + url_char_-"
         ]
        }
       ],
       "layout": {
        "autosize": false,
        "height": 1000,
        "width": 1000,
        "xaxis": {
         "tickfont": {
          "color": "black",
          "size": 12
         },
         "title": "Feature Importances"
        },
        "yaxis": {
         "automargin": true
        }
       }
      },
      "text/html": [
       "<div id=\"941ce7e2-af43-4f64-af63-6a6171e90209\" style=\"height: 1000px; width: 1000px;\" class=\"plotly-graph-div\"></div><script type=\"text/javascript\">require([\"plotly\"], function(Plotly) { window.PLOTLYENV=window.PLOTLYENV || {};window.PLOTLYENV.BASE_URL=\"https://plot.ly\";Plotly.newPlot(\"941ce7e2-af43-4f64-af63-6a6171e90209\", [{\"marker\": {\"color\": \"rgb(158,202,225)\", \"line\": {\"color\": \"rgb(8,48,107)\", \"width\": 1.5}}, \"opacity\": 0.6, \"orientation\": \"h\", \"text\": [0.4422, 0.2657, 0.0546, 0.0516, 0.0396, 0.0346, 0.019, 0.0168, 0.0121, 0.0118, 0.0089, 0.008, 0.0077, 0.0077, 0.0062, 0.005, 0.0019, 0.0014, 0.0013, 0.001, 0.0009, 0.0007, 0.0006, 0.0004, 0.0002, 0.0, 0.0, 0.0, 0.0, 0.0, 0.0, 0.0, 0.0, 0.0, 0.0, 0.0, 0.0, 0.0, 0.0, 0.0, 0.0, 0.0, 0.0, 0.0, 0.0, 0.0, 0.0, 0.0, 0.0, 0.0, 0.0, 0.0, 0.0, 0.0, 0.0], \"textposition\": \"outside\", \"x\": [0.4421618492308943, 0.26569219477186073, 0.054570382066471405, 0.051604161181623746, 0.0395821410327936, 0.0346427547140301, 0.01900227877517387, 0.01679486125150988, 0.012134334519186739, 0.011816349450569363, 0.008883607856551302, 0.007983697096909619, 0.007734618016963925, 0.007725475267564899, 0.0061866319393853435, 0.005030782803494792, 0.0018716772040184798, 0.0014056099869694549, 0.0012909890633733688, 0.0009514814997794677, 0.000899895634658396, 0.0007413433324365152, 0.0006198283966750802, 0.0003771112816755252, 0.00017368699502256306, 3.971136773810107e-05, 3.338697820589966e-05, 1.569122887885501e-05, 1.398994784424863e-05, 1.2003179477855626e-05, 7.4739282624748254e-06, 0.0, 0.0, 0.0, 0.0, 0.0, 0.0, 0.0, 0.0, 0.0, 0.0, 0.0, 0.0, 0.0, 0.0, 0.0, 0.0, 0.0, 0.0, 0.0, 0.0, 0.0, 0.0, 0.0, 0.0], \"y\": [\"url_char_. + url_char_/\", \"url_char_. / url_number_special_chars/url_length\", \"url_char_/ + url_number_digits/url_length\", \"url_char_- + url_char_/\", \"url_number_digits/url_length / url_number_special_chars/url_length\", \"url_number_vowels/url_length / url_char_.\", \"url_char_/ + url_number_special_chars/url_length\", \"url_char_. + url_number_digits/url_length\", \"url_char_. * url_number_special_chars/url_length\", \"url_char_- / url_number_special_chars/url_length\", \"url_char_- + url_number_digits/url_length\", \"url_number_consonants/url_length / url_char_.\", \"url_number_consonants/url_length * url_number_digits/url_length\", \"url_number_digits/url_length / url_number_consonants/url_length\", \"url_char_. + url_number_vowels/url_length\", \"url_char_. + url_number_consonants/url_length\", \"url_number_digits/url_length * url_number_vowels/url_length\", \"url_char_. * url_number_consonants/url_length\", \"url_char_- / url_number_vowels/url_length\", \"url_number_digits/url_length + url_number_special_chars/url_length\", \"url_number_digits/url_length * url_number_special_chars/url_length\", \"url_char_+ + url_char_/\", \"url_char_/ + url_char_=\", \"url_number_consonants/url_length / url_char_/\", \"url_number_digits/url_length / url_char_.\", \"url_char_. * url_number_digits/url_length\", \"url_char_& + url_char_-\", \"url_char_/ + url_port\", \"url_char_- + url_char_=\", \"url_char_/ / url_number_consonants/url_length\", \"url_char_/\", \"url_char_.\", \"url_number_vowels/url_length / url_char_/\", \"url_char_- + url_port\", \"url_char_- + url_char_.\", \"url_char_& + url_char_/\", \"url_char_& + url_char_.\", \"url_char_% + url_char_/\", \"url_char_+ + url_char_.\", \"url_char_. / url_char_/\", \"url_char_. + url_char_:\", \"url_char_. + url_char_=\", \"url_char_. + url_char_?\", \"url_char_. + url_char__\", \"url_char_. + url_port\", \"url_char_/ * url_number_consonants/url_length\", \"url_char_/ * url_number_special_chars/url_length\", \"url_char_/ * url_number_vowels/url_length\", \"url_char_/ + url_char_:\", \"url_char_/ + url_char_?\", \"url_char_/ + url_char__\", \"url_char_/ / url_char_.\", \"url_number_digits/url_length / url_char_/\", \"url_number_special_chars/url_length / url_char_/\", \"url_char_% + url_char_-\"], \"type\": \"bar\", \"uid\": \"0fd1191f-02ef-4a17-9010-9f2714575bd6\"}], {\"autosize\": false, \"height\": 1000, \"width\": 1000, \"xaxis\": {\"tickfont\": {\"color\": \"black\", \"size\": 12}, \"title\": \"Feature Importances\"}, \"yaxis\": {\"automargin\": true}}, {\"showLink\": true, \"linkText\": \"Export to plot.ly\", \"plotlyServerURL\": \"https://plot.ly\"})});</script>"
      ],
      "text/vnd.plotly.v1+html": [
       "<div id=\"941ce7e2-af43-4f64-af63-6a6171e90209\" style=\"height: 1000px; width: 1000px;\" class=\"plotly-graph-div\"></div><script type=\"text/javascript\">require([\"plotly\"], function(Plotly) { window.PLOTLYENV=window.PLOTLYENV || {};window.PLOTLYENV.BASE_URL=\"https://plot.ly\";Plotly.newPlot(\"941ce7e2-af43-4f64-af63-6a6171e90209\", [{\"marker\": {\"color\": \"rgb(158,202,225)\", \"line\": {\"color\": \"rgb(8,48,107)\", \"width\": 1.5}}, \"opacity\": 0.6, \"orientation\": \"h\", \"text\": [0.4422, 0.2657, 0.0546, 0.0516, 0.0396, 0.0346, 0.019, 0.0168, 0.0121, 0.0118, 0.0089, 0.008, 0.0077, 0.0077, 0.0062, 0.005, 0.0019, 0.0014, 0.0013, 0.001, 0.0009, 0.0007, 0.0006, 0.0004, 0.0002, 0.0, 0.0, 0.0, 0.0, 0.0, 0.0, 0.0, 0.0, 0.0, 0.0, 0.0, 0.0, 0.0, 0.0, 0.0, 0.0, 0.0, 0.0, 0.0, 0.0, 0.0, 0.0, 0.0, 0.0, 0.0, 0.0, 0.0, 0.0, 0.0, 0.0], \"textposition\": \"outside\", \"x\": [0.4421618492308943, 0.26569219477186073, 0.054570382066471405, 0.051604161181623746, 0.0395821410327936, 0.0346427547140301, 0.01900227877517387, 0.01679486125150988, 0.012134334519186739, 0.011816349450569363, 0.008883607856551302, 0.007983697096909619, 0.007734618016963925, 0.007725475267564899, 0.0061866319393853435, 0.005030782803494792, 0.0018716772040184798, 0.0014056099869694549, 0.0012909890633733688, 0.0009514814997794677, 0.000899895634658396, 0.0007413433324365152, 0.0006198283966750802, 0.0003771112816755252, 0.00017368699502256306, 3.971136773810107e-05, 3.338697820589966e-05, 1.569122887885501e-05, 1.398994784424863e-05, 1.2003179477855626e-05, 7.4739282624748254e-06, 0.0, 0.0, 0.0, 0.0, 0.0, 0.0, 0.0, 0.0, 0.0, 0.0, 0.0, 0.0, 0.0, 0.0, 0.0, 0.0, 0.0, 0.0, 0.0, 0.0, 0.0, 0.0, 0.0, 0.0], \"y\": [\"url_char_. + url_char_/\", \"url_char_. / url_number_special_chars/url_length\", \"url_char_/ + url_number_digits/url_length\", \"url_char_- + url_char_/\", \"url_number_digits/url_length / url_number_special_chars/url_length\", \"url_number_vowels/url_length / url_char_.\", \"url_char_/ + url_number_special_chars/url_length\", \"url_char_. + url_number_digits/url_length\", \"url_char_. * url_number_special_chars/url_length\", \"url_char_- / url_number_special_chars/url_length\", \"url_char_- + url_number_digits/url_length\", \"url_number_consonants/url_length / url_char_.\", \"url_number_consonants/url_length * url_number_digits/url_length\", \"url_number_digits/url_length / url_number_consonants/url_length\", \"url_char_. + url_number_vowels/url_length\", \"url_char_. + url_number_consonants/url_length\", \"url_number_digits/url_length * url_number_vowels/url_length\", \"url_char_. * url_number_consonants/url_length\", \"url_char_- / url_number_vowels/url_length\", \"url_number_digits/url_length + url_number_special_chars/url_length\", \"url_number_digits/url_length * url_number_special_chars/url_length\", \"url_char_+ + url_char_/\", \"url_char_/ + url_char_=\", \"url_number_consonants/url_length / url_char_/\", \"url_number_digits/url_length / url_char_.\", \"url_char_. * url_number_digits/url_length\", \"url_char_& + url_char_-\", \"url_char_/ + url_port\", \"url_char_- + url_char_=\", \"url_char_/ / url_number_consonants/url_length\", \"url_char_/\", \"url_char_.\", \"url_number_vowels/url_length / url_char_/\", \"url_char_- + url_port\", \"url_char_- + url_char_.\", \"url_char_& + url_char_/\", \"url_char_& + url_char_.\", \"url_char_% + url_char_/\", \"url_char_+ + url_char_.\", \"url_char_. / url_char_/\", \"url_char_. + url_char_:\", \"url_char_. + url_char_=\", \"url_char_. + url_char_?\", \"url_char_. + url_char__\", \"url_char_. + url_port\", \"url_char_/ * url_number_consonants/url_length\", \"url_char_/ * url_number_special_chars/url_length\", \"url_char_/ * url_number_vowels/url_length\", \"url_char_/ + url_char_:\", \"url_char_/ + url_char_?\", \"url_char_/ + url_char__\", \"url_char_/ / url_char_.\", \"url_number_digits/url_length / url_char_/\", \"url_number_special_chars/url_length / url_char_/\", \"url_char_% + url_char_-\"], \"type\": \"bar\", \"uid\": \"0fd1191f-02ef-4a17-9010-9f2714575bd6\"}], {\"autosize\": false, \"height\": 1000, \"width\": 1000, \"xaxis\": {\"tickfont\": {\"color\": \"black\", \"size\": 12}, \"title\": \"Feature Importances\"}, \"yaxis\": {\"automargin\": true}}, {\"showLink\": true, \"linkText\": \"Export to plot.ly\", \"plotlyServerURL\": \"https://plot.ly\"})});</script>"
      ]
     },
     "metadata": {},
     "output_type": "display_data"
    },
    {
     "name": "stdout",
     "output_type": "stream",
     "text": [
      "\n",
      "\n",
      "\u001b[1mExtraTree Classifier\u001b[0m\n",
      "Accuracy of the model for training data is: 0.947430312425\n",
      "Confusion Matrix for training data is:\n"
     ]
    },
    {
     "data": {
      "text/plain": [
       "Predicted  False  True  __all__\n",
       "Actual                         \n",
       "False      31200   692    31892\n",
       "True        1275  4250     5525\n",
       "__all__    32475  4942    37417"
      ]
     },
     "metadata": {},
     "output_type": "display_data"
    },
    {
     "name": "stdout",
     "output_type": "stream",
     "text": [
      "Accuracy of the model for test data is: 0.939384220654\n",
      "Confusion Matrix for test data is:\n"
     ]
    },
    {
     "data": {
      "text/plain": [
       "Predicted  False  True  __all__\n",
       "Actual                         \n",
       "False       7771   214     7985\n",
       "True         353  1016     1369\n",
       "__all__     8124  1230     9354"
      ]
     },
     "metadata": {},
     "output_type": "display_data"
    },
    {
     "data": {
      "application/vnd.plotly.v1+json": {
       "config": {
        "linkText": "Export to plot.ly",
        "plotlyServerURL": "https://plot.ly",
        "showLink": true
       },
       "data": [
        {
         "marker": {
          "color": "rgb(158,202,225)",
          "line": {
           "color": "rgb(8,48,107)",
           "width": 1.5
          }
         },
         "opacity": 0.6,
         "orientation": "h",
         "text": [
          0.1041,
          0.0906,
          0.0642,
          0.0562,
          0.0557,
          0.0518,
          0.0472,
          0.0455,
          0.0432,
          0.0426,
          0.0381,
          0.0374,
          0.0368,
          0.0263,
          0.0243,
          0.0225,
          0.0181,
          0.0147,
          0.0147,
          0.0136,
          0.013,
          0.0124,
          0.0118,
          0.0099,
          0.0098,
          0.0076,
          0.0075,
          0.0064,
          0.0063,
          0.0062,
          0.006,
          0.0059,
          0.0052,
          0.0051,
          0.0047,
          0.0043,
          0.0041,
          0.0039,
          0.0037,
          0.0037,
          0.0028,
          0.0026,
          0.0024,
          0.0016,
          0.0015,
          0.0013,
          0.0007,
          0.0006,
          0.0006,
          0.0002,
          0,
          0,
          0,
          0,
          0
         ],
         "textposition": "outside",
         "type": "bar",
         "uid": "5b521912-bab6-4006-87da-6ad4009bc35e",
         "x": [
          0.10409155265528947,
          0.09059307430941524,
          0.06424873426113106,
          0.056173838506955856,
          0.05573099577037287,
          0.051804891850956894,
          0.04723767579012829,
          0.04553205694521771,
          0.0431999057601392,
          0.042646797705237965,
          0.03811450764565223,
          0.03737950997399747,
          0.03680906290703302,
          0.026291844918415345,
          0.02433750987459938,
          0.022517007047474114,
          0.018112225648507986,
          0.014729041215892729,
          0.014728397973037932,
          0.013639526050847627,
          0.012971135071309734,
          0.012430993865670387,
          0.011755653943937258,
          0.009927372790484123,
          0.009849136065120069,
          0.007604285452614451,
          0.007545084616849369,
          0.006389346459365309,
          0.006310575863077655,
          0.006245335490077372,
          0.00601778942076423,
          0.0058524993750904124,
          0.00519197400082754,
          0.005133453199054533,
          0.004717000808039136,
          0.004322481563514889,
          0.004092281065692961,
          0.003947686930036565,
          0.003702301967340177,
          0.0036741225540489024,
          0.002779191364295878,
          0.0026284385020935727,
          0.0023796912042718674,
          0.001636676966650242,
          0.0014508088330254334,
          0.0013450288212675007,
          0.0007239665230967193,
          0.0006383708331276418,
          0.0005880823082608885,
          0.00022361293853082243,
          7.201784007537011e-06,
          2.6260815442900045e-07,
          0,
          0,
          0
         ],
         "y": [
          "url_char_. + url_char_?",
          "url_char_/ + url_number_special_chars/url_length",
          "url_number_digits/url_length + url_number_special_chars/url_length",
          "url_char_/ + url_number_digits/url_length",
          "url_char_. + url_number_consonants/url_length",
          "url_number_consonants/url_length / url_char_.",
          "url_char_. * url_number_special_chars/url_length",
          "url_char_. * url_number_consonants/url_length",
          "url_char_. + url_number_vowels/url_length",
          "url_char_+ + url_char_.",
          "url_char_& + url_char_.",
          "url_char_/",
          "url_char_- + url_char_.",
          "url_char_/ + url_port",
          "url_char_. / url_number_special_chars/url_length",
          "url_char_. + url_number_digits/url_length",
          "url_char_/ + url_char_?",
          "url_number_digits/url_length / url_number_consonants/url_length",
          "url_number_digits/url_length / url_number_special_chars/url_length",
          "url_number_vowels/url_length / url_char_.",
          "url_char_- + url_port",
          "url_char_. + url_char__",
          "url_char_. / url_char_/",
          "url_number_consonants/url_length * url_number_digits/url_length",
          "url_char_+ + url_char_/",
          "url_char_- / url_number_special_chars/url_length",
          "url_number_digits/url_length / url_char_.",
          "url_number_digits/url_length * url_number_vowels/url_length",
          "url_char_/ / url_char_.",
          "url_char_- / url_number_vowels/url_length",
          "url_char_. * url_number_digits/url_length",
          "url_char_& + url_char_/",
          "url_char_/ + url_char_=",
          "url_char_.",
          "url_char_- + url_number_digits/url_length",
          "url_number_digits/url_length * url_number_special_chars/url_length",
          "url_char_- + url_char_=",
          "url_char_- + url_char_/",
          "url_char_. + url_port",
          "url_char_% + url_char_/",
          "url_char_/ * url_number_consonants/url_length",
          "url_char_/ + url_char_:",
          "url_char_& + url_char_-",
          "url_char_. + url_char_=",
          "url_char_. + url_char_:",
          "url_char_% + url_char_-",
          "url_number_consonants/url_length / url_char_/",
          "url_number_vowels/url_length / url_char_/",
          "url_char_/ + url_char__",
          "url_char_. + url_char_/",
          "url_char_/ * url_number_vowels/url_length",
          "url_number_special_chars/url_length / url_char_/",
          "url_char_/ * url_number_special_chars/url_length",
          "url_char_/ / url_number_consonants/url_length",
          "url_number_digits/url_length / url_char_/"
         ]
        }
       ],
       "layout": {
        "autosize": false,
        "height": 1000,
        "width": 1000,
        "xaxis": {
         "tickfont": {
          "color": "black",
          "size": 12
         },
         "title": "Feature Importances"
        },
        "yaxis": {
         "automargin": true
        }
       }
      },
      "text/html": [
       "<div id=\"e76e41cd-e3ea-4746-b0c2-a793a973b902\" style=\"height: 1000px; width: 1000px;\" class=\"plotly-graph-div\"></div><script type=\"text/javascript\">require([\"plotly\"], function(Plotly) { window.PLOTLYENV=window.PLOTLYENV || {};window.PLOTLYENV.BASE_URL=\"https://plot.ly\";Plotly.newPlot(\"e76e41cd-e3ea-4746-b0c2-a793a973b902\", [{\"marker\": {\"color\": \"rgb(158,202,225)\", \"line\": {\"color\": \"rgb(8,48,107)\", \"width\": 1.5}}, \"opacity\": 0.6, \"orientation\": \"h\", \"text\": [0.1041, 0.0906, 0.0642, 0.0562, 0.0557, 0.0518, 0.0472, 0.0455, 0.0432, 0.0426, 0.0381, 0.0374, 0.0368, 0.0263, 0.0243, 0.0225, 0.0181, 0.0147, 0.0147, 0.0136, 0.013, 0.0124, 0.0118, 0.0099, 0.0098, 0.0076, 0.0075, 0.0064, 0.0063, 0.0062, 0.006, 0.0059, 0.0052, 0.0051, 0.0047, 0.0043, 0.0041, 0.0039, 0.0037, 0.0037, 0.0028, 0.0026, 0.0024, 0.0016, 0.0015, 0.0013, 0.0007, 0.0006, 0.0006, 0.0002, 0.0, 0.0, 0.0, 0.0, 0.0], \"textposition\": \"outside\", \"x\": [0.10409155265528947, 0.09059307430941524, 0.06424873426113106, 0.056173838506955856, 0.05573099577037287, 0.051804891850956894, 0.04723767579012829, 0.04553205694521771, 0.0431999057601392, 0.042646797705237965, 0.03811450764565223, 0.03737950997399747, 0.03680906290703302, 0.026291844918415345, 0.02433750987459938, 0.022517007047474114, 0.018112225648507986, 0.014729041215892729, 0.014728397973037932, 0.013639526050847627, 0.012971135071309734, 0.012430993865670387, 0.011755653943937258, 0.009927372790484123, 0.009849136065120069, 0.007604285452614451, 0.007545084616849369, 0.006389346459365309, 0.006310575863077655, 0.006245335490077372, 0.00601778942076423, 0.0058524993750904124, 0.00519197400082754, 0.005133453199054533, 0.004717000808039136, 0.004322481563514889, 0.004092281065692961, 0.003947686930036565, 0.003702301967340177, 0.0036741225540489024, 0.002779191364295878, 0.0026284385020935727, 0.0023796912042718674, 0.001636676966650242, 0.0014508088330254334, 0.0013450288212675007, 0.0007239665230967193, 0.0006383708331276418, 0.0005880823082608885, 0.00022361293853082243, 7.201784007537011e-06, 2.6260815442900045e-07, 0.0, 0.0, 0.0], \"y\": [\"url_char_. + url_char_?\", \"url_char_/ + url_number_special_chars/url_length\", \"url_number_digits/url_length + url_number_special_chars/url_length\", \"url_char_/ + url_number_digits/url_length\", \"url_char_. + url_number_consonants/url_length\", \"url_number_consonants/url_length / url_char_.\", \"url_char_. * url_number_special_chars/url_length\", \"url_char_. * url_number_consonants/url_length\", \"url_char_. + url_number_vowels/url_length\", \"url_char_+ + url_char_.\", \"url_char_& + url_char_.\", \"url_char_/\", \"url_char_- + url_char_.\", \"url_char_/ + url_port\", \"url_char_. / url_number_special_chars/url_length\", \"url_char_. + url_number_digits/url_length\", \"url_char_/ + url_char_?\", \"url_number_digits/url_length / url_number_consonants/url_length\", \"url_number_digits/url_length / url_number_special_chars/url_length\", \"url_number_vowels/url_length / url_char_.\", \"url_char_- + url_port\", \"url_char_. + url_char__\", \"url_char_. / url_char_/\", \"url_number_consonants/url_length * url_number_digits/url_length\", \"url_char_+ + url_char_/\", \"url_char_- / url_number_special_chars/url_length\", \"url_number_digits/url_length / url_char_.\", \"url_number_digits/url_length * url_number_vowels/url_length\", \"url_char_/ / url_char_.\", \"url_char_- / url_number_vowels/url_length\", \"url_char_. * url_number_digits/url_length\", \"url_char_& + url_char_/\", \"url_char_/ + url_char_=\", \"url_char_.\", \"url_char_- + url_number_digits/url_length\", \"url_number_digits/url_length * url_number_special_chars/url_length\", \"url_char_- + url_char_=\", \"url_char_- + url_char_/\", \"url_char_. + url_port\", \"url_char_% + url_char_/\", \"url_char_/ * url_number_consonants/url_length\", \"url_char_/ + url_char_:\", \"url_char_& + url_char_-\", \"url_char_. + url_char_=\", \"url_char_. + url_char_:\", \"url_char_% + url_char_-\", \"url_number_consonants/url_length / url_char_/\", \"url_number_vowels/url_length / url_char_/\", \"url_char_/ + url_char__\", \"url_char_. + url_char_/\", \"url_char_/ * url_number_vowels/url_length\", \"url_number_special_chars/url_length / url_char_/\", \"url_char_/ * url_number_special_chars/url_length\", \"url_char_/ / url_number_consonants/url_length\", \"url_number_digits/url_length / url_char_/\"], \"type\": \"bar\", \"uid\": \"5b521912-bab6-4006-87da-6ad4009bc35e\"}], {\"autosize\": false, \"height\": 1000, \"width\": 1000, \"xaxis\": {\"tickfont\": {\"color\": \"black\", \"size\": 12}, \"title\": \"Feature Importances\"}, \"yaxis\": {\"automargin\": true}}, {\"showLink\": true, \"linkText\": \"Export to plot.ly\", \"plotlyServerURL\": \"https://plot.ly\"})});</script>"
      ],
      "text/vnd.plotly.v1+html": [
       "<div id=\"e76e41cd-e3ea-4746-b0c2-a793a973b902\" style=\"height: 1000px; width: 1000px;\" class=\"plotly-graph-div\"></div><script type=\"text/javascript\">require([\"plotly\"], function(Plotly) { window.PLOTLYENV=window.PLOTLYENV || {};window.PLOTLYENV.BASE_URL=\"https://plot.ly\";Plotly.newPlot(\"e76e41cd-e3ea-4746-b0c2-a793a973b902\", [{\"marker\": {\"color\": \"rgb(158,202,225)\", \"line\": {\"color\": \"rgb(8,48,107)\", \"width\": 1.5}}, \"opacity\": 0.6, \"orientation\": \"h\", \"text\": [0.1041, 0.0906, 0.0642, 0.0562, 0.0557, 0.0518, 0.0472, 0.0455, 0.0432, 0.0426, 0.0381, 0.0374, 0.0368, 0.0263, 0.0243, 0.0225, 0.0181, 0.0147, 0.0147, 0.0136, 0.013, 0.0124, 0.0118, 0.0099, 0.0098, 0.0076, 0.0075, 0.0064, 0.0063, 0.0062, 0.006, 0.0059, 0.0052, 0.0051, 0.0047, 0.0043, 0.0041, 0.0039, 0.0037, 0.0037, 0.0028, 0.0026, 0.0024, 0.0016, 0.0015, 0.0013, 0.0007, 0.0006, 0.0006, 0.0002, 0.0, 0.0, 0.0, 0.0, 0.0], \"textposition\": \"outside\", \"x\": [0.10409155265528947, 0.09059307430941524, 0.06424873426113106, 0.056173838506955856, 0.05573099577037287, 0.051804891850956894, 0.04723767579012829, 0.04553205694521771, 0.0431999057601392, 0.042646797705237965, 0.03811450764565223, 0.03737950997399747, 0.03680906290703302, 0.026291844918415345, 0.02433750987459938, 0.022517007047474114, 0.018112225648507986, 0.014729041215892729, 0.014728397973037932, 0.013639526050847627, 0.012971135071309734, 0.012430993865670387, 0.011755653943937258, 0.009927372790484123, 0.009849136065120069, 0.007604285452614451, 0.007545084616849369, 0.006389346459365309, 0.006310575863077655, 0.006245335490077372, 0.00601778942076423, 0.0058524993750904124, 0.00519197400082754, 0.005133453199054533, 0.004717000808039136, 0.004322481563514889, 0.004092281065692961, 0.003947686930036565, 0.003702301967340177, 0.0036741225540489024, 0.002779191364295878, 0.0026284385020935727, 0.0023796912042718674, 0.001636676966650242, 0.0014508088330254334, 0.0013450288212675007, 0.0007239665230967193, 0.0006383708331276418, 0.0005880823082608885, 0.00022361293853082243, 7.201784007537011e-06, 2.6260815442900045e-07, 0.0, 0.0, 0.0], \"y\": [\"url_char_. + url_char_?\", \"url_char_/ + url_number_special_chars/url_length\", \"url_number_digits/url_length + url_number_special_chars/url_length\", \"url_char_/ + url_number_digits/url_length\", \"url_char_. + url_number_consonants/url_length\", \"url_number_consonants/url_length / url_char_.\", \"url_char_. * url_number_special_chars/url_length\", \"url_char_. * url_number_consonants/url_length\", \"url_char_. + url_number_vowels/url_length\", \"url_char_+ + url_char_.\", \"url_char_& + url_char_.\", \"url_char_/\", \"url_char_- + url_char_.\", \"url_char_/ + url_port\", \"url_char_. / url_number_special_chars/url_length\", \"url_char_. + url_number_digits/url_length\", \"url_char_/ + url_char_?\", \"url_number_digits/url_length / url_number_consonants/url_length\", \"url_number_digits/url_length / url_number_special_chars/url_length\", \"url_number_vowels/url_length / url_char_.\", \"url_char_- + url_port\", \"url_char_. + url_char__\", \"url_char_. / url_char_/\", \"url_number_consonants/url_length * url_number_digits/url_length\", \"url_char_+ + url_char_/\", \"url_char_- / url_number_special_chars/url_length\", \"url_number_digits/url_length / url_char_.\", \"url_number_digits/url_length * url_number_vowels/url_length\", \"url_char_/ / url_char_.\", \"url_char_- / url_number_vowels/url_length\", \"url_char_. * url_number_digits/url_length\", \"url_char_& + url_char_/\", \"url_char_/ + url_char_=\", \"url_char_.\", \"url_char_- + url_number_digits/url_length\", \"url_number_digits/url_length * url_number_special_chars/url_length\", \"url_char_- + url_char_=\", \"url_char_- + url_char_/\", \"url_char_. + url_port\", \"url_char_% + url_char_/\", \"url_char_/ * url_number_consonants/url_length\", \"url_char_/ + url_char_:\", \"url_char_& + url_char_-\", \"url_char_. + url_char_=\", \"url_char_. + url_char_:\", \"url_char_% + url_char_-\", \"url_number_consonants/url_length / url_char_/\", \"url_number_vowels/url_length / url_char_/\", \"url_char_/ + url_char__\", \"url_char_. + url_char_/\", \"url_char_/ * url_number_vowels/url_length\", \"url_number_special_chars/url_length / url_char_/\", \"url_char_/ * url_number_special_chars/url_length\", \"url_char_/ / url_number_consonants/url_length\", \"url_number_digits/url_length / url_char_/\"], \"type\": \"bar\", \"uid\": \"5b521912-bab6-4006-87da-6ad4009bc35e\"}], {\"autosize\": false, \"height\": 1000, \"width\": 1000, \"xaxis\": {\"tickfont\": {\"color\": \"black\", \"size\": 12}, \"title\": \"Feature Importances\"}, \"yaxis\": {\"automargin\": true}}, {\"showLink\": true, \"linkText\": \"Export to plot.ly\", \"plotlyServerURL\": \"https://plot.ly\"})});</script>"
      ]
     },
     "metadata": {},
     "output_type": "display_data"
    },
    {
     "name": "stdout",
     "output_type": "stream",
     "text": [
      "\n",
      "\n",
      "\u001b[1mBagging Classifier\u001b[0m\n",
      "Accuracy of the model for training data is: 0.947056150947\n",
      "Confusion Matrix for training data is:\n"
     ]
    },
    {
     "data": {
      "text/plain": [
       "Predicted  False  True  __all__\n",
       "Actual                         \n",
       "False      31151   741    31892\n",
       "True        1240  4285     5525\n",
       "__all__    32391  5026    37417"
      ]
     },
     "metadata": {},
     "output_type": "display_data"
    },
    {
     "name": "stdout",
     "output_type": "stream",
     "text": [
      "Accuracy of the model for test data is: 0.937566816335\n",
      "Confusion Matrix for test data is:\n"
     ]
    },
    {
     "data": {
      "text/plain": [
       "Predicted  False  True  __all__\n",
       "Actual                         \n",
       "False       7751   234     7985\n",
       "True         350  1019     1369\n",
       "__all__     8101  1253     9354"
      ]
     },
     "metadata": {},
     "output_type": "display_data"
    },
    {
     "name": "stdout",
     "output_type": "stream",
     "text": [
      "\n",
      "\n",
      "\u001b[1mNeural Network-1\u001b[0m\n",
      "The accuracy of the model on training data is: 0.942833471418\n"
     ]
    },
    {
     "data": {
      "text/plain": [
       "Predicted  False  True  __all__\n",
       "Actual                         \n",
       "False      31105   787    31892\n",
       "True        1352  4173     5525\n",
       "__all__    32457  4960    37417"
      ]
     },
     "metadata": {},
     "output_type": "display_data"
    },
    {
     "name": "stdout",
     "output_type": "stream",
     "text": [
      "The accuracy of the model on test data is: 0.939598032927\n"
     ]
    },
    {
     "data": {
      "text/plain": [
       "Predicted  False  True  __all__\n",
       "Actual                         \n",
       "False       7772   213     7985\n",
       "True         352  1017     1369\n",
       "__all__     8124  1230     9354"
      ]
     },
     "metadata": {},
     "output_type": "display_data"
    },
    {
     "name": "stdout",
     "output_type": "stream",
     "text": [
      "\n",
      "\n"
     ]
    }
   ],
   "source": [
    "feat_imp=[None]*4\n",
    "j=0\n",
    "for i in range(0,8):\n",
    "    if i>=2 and i<=5:\n",
    "        model,cm_train,cm_test,acc_train,acc_test,roc_auc,feat_imp[j],mcc=f[i](scaled_X_train,train_Y,scaled_X_test,test_Y,feature_name)\n",
    "        j=j+1\n",
    "    else:\n",
    "        model,cm_train,cm_test,acc_train,acc_test,roc_auc,mcc=f[i](scaled_X_train,train_Y,scaled_X_test,test_Y)\n",
    "    table_80_60_train.loc[i]=   ([acc_train,cm_train.TP,cm_train.TN,cm_train.FP,cm_train.FN,cm_train.FPR,cm_train.FNR])\n",
    "    table_80_60_test.loc[i] =   ([acc_test ,cm_test.TP, cm_test.TN, cm_test.FP, cm_test.FN, cm_test.FPR, cm_test.FNR,roc_auc,mcc])\n",
    "    print(\"\\n\")"
   ]
  },
  {
   "cell_type": "markdown",
   "metadata": {},
   "source": [
    "### <a id='4.A' style=\"text-decoration : none; color : #000000;\"> A. Results</a>"
   ]
  },
  {
   "cell_type": "code",
   "execution_count": 54,
   "metadata": {},
   "outputs": [
    {
     "data": {
      "application/vnd.plotly.v1+json": {
       "config": {
        "linkText": "Export to plot.ly",
        "plotlyServerURL": "https://plot.ly",
        "showLink": true
       },
       "data": [
        {
         "mode": "lines",
         "name": "KNN_model",
         "type": "scatter",
         "uid": "fb0f6b2f-bfaf-446e-9417-063d7cc4469b",
         "x": [
          "accuracy",
          "FPR",
          "FNR",
          "auc"
         ],
         "y": [
          0.9350010690613642,
          0.02266750156543519,
          0.3119065010956903,
          0.8327129986694373
         ]
        },
        {
         "mode": "lines+markers",
         "name": "Logistic Regression",
         "type": "scatter",
         "uid": "e857dedb-8665-44d7-9b84-a3836590860e",
         "x": [
          "accuracy",
          "FPR",
          "FNR",
          "auc"
         ],
         "y": [
          0.9356425058798375,
          0.024921728240450844,
          0.2943754565376187,
          0.8403514076109653
         ]
        },
        {
         "marker": {
          "symbol": "x"
         },
         "mode": "lines+markers",
         "name": "Random Forest",
         "type": "scatter",
         "uid": "6231039b-891f-443f-b15a-9a617ce1c950",
         "x": [
          "accuracy",
          "FPR",
          "FNR",
          "auc"
         ],
         "y": [
          0.9390635022450289,
          0.028303068252974326,
          0.2512783053323594,
          0.8602093132073331
         ]
        },
        {
         "mode": "lines",
         "name": "Ada Boost",
         "type": "scatter",
         "uid": "2b2016a7-aaf1-49f6-82e6-5645c35186db",
         "x": [
          "accuracy",
          "FPR",
          "FNR",
          "auc"
         ],
         "y": [
          0.9370322856531965,
          0.022417031934877898,
          0.29948867786705624,
          0.839047145099033
         ]
        },
        {
         "mode": "lines+markers",
         "name": "GradientBoosting",
         "type": "scatter",
         "uid": "305cf291-6803-477e-b152-9bd9bd284206",
         "x": [
          "accuracy",
          "FPR",
          "FNR",
          "auc"
         ],
         "y": [
          0.9388496899722044,
          0.027802128991859736,
          0.2556610664718773,
          0.8582684022681315
         ]
        },
        {
         "marker": {
          "symbol": "x"
         },
         "mode": "lines+markers",
         "name": "ExtraTree Classifier",
         "type": "scatter",
         "uid": "bf0b67ae-e6c4-4f5f-9545-3ea783393a60",
         "x": [
          "accuracy",
          "FPR",
          "FNR",
          "auc"
         ],
         "y": [
          0.9393842206542655,
          0.026800250469630558,
          0.25785244704163623,
          0.8576736512443666
         ]
        },
        {
         "marker": {
          "symbol": "x"
         },
         "mode": "lines+markers",
         "name": "Bagging",
         "type": "scatter",
         "uid": "42add967-490e-4f37-9348-1f6cc4e82f7e",
         "x": [
          "accuracy",
          "FPR",
          "FNR",
          "auc"
         ],
         "y": [
          0.9375668163352576,
          0.029304946775203507,
          0.2556610664718773,
          0.8575169933764597
         ]
        },
        {
         "marker": {
          "symbol": "x"
         },
         "mode": "lines+markers",
         "name": "Neural Network",
         "type": "scatter",
         "uid": "347e3831-8c73-4b58-bc60-a762eb61d7c0",
         "x": [
          "accuracy",
          "FPR",
          "FNR",
          "auc"
         ],
         "y": [
          0.93959803292709,
          0.02667501565435191,
          0.25712198685171656,
          0.8575169933764597
         ]
        }
       ],
       "layout": {
        "title": "Result comparision for Features selected in Section 1",
        "yaxis": {
         "dtick": 0.05,
         "tick0": 0
        }
       }
      },
      "text/html": [
       "<div id=\"1d1b8d20-ff26-4678-a0aa-2434aa76aba5\" style=\"height: 525px; width: 100%;\" class=\"plotly-graph-div\"></div><script type=\"text/javascript\">require([\"plotly\"], function(Plotly) { window.PLOTLYENV=window.PLOTLYENV || {};window.PLOTLYENV.BASE_URL=\"https://plot.ly\";Plotly.newPlot(\"1d1b8d20-ff26-4678-a0aa-2434aa76aba5\", [{\"mode\": \"lines\", \"name\": \"KNN_model\", \"x\": [\"accuracy\", \"FPR\", \"FNR\", \"auc\"], \"y\": [0.9350010690613642, 0.02266750156543519, 0.3119065010956903, 0.8327129986694373], \"type\": \"scatter\", \"uid\": \"fb0f6b2f-bfaf-446e-9417-063d7cc4469b\"}, {\"mode\": \"lines+markers\", \"name\": \"Logistic Regression\", \"x\": [\"accuracy\", \"FPR\", \"FNR\", \"auc\"], \"y\": [0.9356425058798375, 0.024921728240450844, 0.2943754565376187, 0.8403514076109653], \"type\": \"scatter\", \"uid\": \"e857dedb-8665-44d7-9b84-a3836590860e\"}, {\"marker\": {\"symbol\": \"x\"}, \"mode\": \"lines+markers\", \"name\": \"Random Forest\", \"x\": [\"accuracy\", \"FPR\", \"FNR\", \"auc\"], \"y\": [0.9390635022450289, 0.028303068252974326, 0.2512783053323594, 0.8602093132073331], \"type\": \"scatter\", \"uid\": \"6231039b-891f-443f-b15a-9a617ce1c950\"}, {\"mode\": \"lines\", \"name\": \"Ada Boost\", \"x\": [\"accuracy\", \"FPR\", \"FNR\", \"auc\"], \"y\": [0.9370322856531965, 0.022417031934877898, 0.29948867786705624, 0.839047145099033], \"type\": \"scatter\", \"uid\": \"2b2016a7-aaf1-49f6-82e6-5645c35186db\"}, {\"mode\": \"lines+markers\", \"name\": \"GradientBoosting\", \"x\": [\"accuracy\", \"FPR\", \"FNR\", \"auc\"], \"y\": [0.9388496899722044, 0.027802128991859736, 0.2556610664718773, 0.8582684022681315], \"type\": \"scatter\", \"uid\": \"305cf291-6803-477e-b152-9bd9bd284206\"}, {\"marker\": {\"symbol\": \"x\"}, \"mode\": \"lines+markers\", \"name\": \"ExtraTree Classifier\", \"x\": [\"accuracy\", \"FPR\", \"FNR\", \"auc\"], \"y\": [0.9393842206542655, 0.026800250469630558, 0.25785244704163623, 0.8576736512443666], \"type\": \"scatter\", \"uid\": \"bf0b67ae-e6c4-4f5f-9545-3ea783393a60\"}, {\"marker\": {\"symbol\": \"x\"}, \"mode\": \"lines+markers\", \"name\": \"Bagging\", \"x\": [\"accuracy\", \"FPR\", \"FNR\", \"auc\"], \"y\": [0.9375668163352576, 0.029304946775203507, 0.2556610664718773, 0.8575169933764597], \"type\": \"scatter\", \"uid\": \"42add967-490e-4f37-9348-1f6cc4e82f7e\"}, {\"marker\": {\"symbol\": \"x\"}, \"mode\": \"lines+markers\", \"name\": \"Neural Network\", \"x\": [\"accuracy\", \"FPR\", \"FNR\", \"auc\"], \"y\": [0.93959803292709, 0.02667501565435191, 0.25712198685171656, 0.8575169933764597], \"type\": \"scatter\", \"uid\": \"347e3831-8c73-4b58-bc60-a762eb61d7c0\"}], {\"title\": \"Result comparision for Features selected in Section 1\", \"yaxis\": {\"dtick\": 0.05, \"tick0\": 0}}, {\"showLink\": true, \"linkText\": \"Export to plot.ly\", \"plotlyServerURL\": \"https://plot.ly\"})});</script><script type=\"text/javascript\">window.addEventListener(\"resize\", function(){window._Plotly.Plots.resize(document.getElementById(\"1d1b8d20-ff26-4678-a0aa-2434aa76aba5\"));});</script>"
      ],
      "text/vnd.plotly.v1+html": [
       "<div id=\"1d1b8d20-ff26-4678-a0aa-2434aa76aba5\" style=\"height: 525px; width: 100%;\" class=\"plotly-graph-div\"></div><script type=\"text/javascript\">require([\"plotly\"], function(Plotly) { window.PLOTLYENV=window.PLOTLYENV || {};window.PLOTLYENV.BASE_URL=\"https://plot.ly\";Plotly.newPlot(\"1d1b8d20-ff26-4678-a0aa-2434aa76aba5\", [{\"mode\": \"lines\", \"name\": \"KNN_model\", \"x\": [\"accuracy\", \"FPR\", \"FNR\", \"auc\"], \"y\": [0.9350010690613642, 0.02266750156543519, 0.3119065010956903, 0.8327129986694373], \"type\": \"scatter\", \"uid\": \"fb0f6b2f-bfaf-446e-9417-063d7cc4469b\"}, {\"mode\": \"lines+markers\", \"name\": \"Logistic Regression\", \"x\": [\"accuracy\", \"FPR\", \"FNR\", \"auc\"], \"y\": [0.9356425058798375, 0.024921728240450844, 0.2943754565376187, 0.8403514076109653], \"type\": \"scatter\", \"uid\": \"e857dedb-8665-44d7-9b84-a3836590860e\"}, {\"marker\": {\"symbol\": \"x\"}, \"mode\": \"lines+markers\", \"name\": \"Random Forest\", \"x\": [\"accuracy\", \"FPR\", \"FNR\", \"auc\"], \"y\": [0.9390635022450289, 0.028303068252974326, 0.2512783053323594, 0.8602093132073331], \"type\": \"scatter\", \"uid\": \"6231039b-891f-443f-b15a-9a617ce1c950\"}, {\"mode\": \"lines\", \"name\": \"Ada Boost\", \"x\": [\"accuracy\", \"FPR\", \"FNR\", \"auc\"], \"y\": [0.9370322856531965, 0.022417031934877898, 0.29948867786705624, 0.839047145099033], \"type\": \"scatter\", \"uid\": \"2b2016a7-aaf1-49f6-82e6-5645c35186db\"}, {\"mode\": \"lines+markers\", \"name\": \"GradientBoosting\", \"x\": [\"accuracy\", \"FPR\", \"FNR\", \"auc\"], \"y\": [0.9388496899722044, 0.027802128991859736, 0.2556610664718773, 0.8582684022681315], \"type\": \"scatter\", \"uid\": \"305cf291-6803-477e-b152-9bd9bd284206\"}, {\"marker\": {\"symbol\": \"x\"}, \"mode\": \"lines+markers\", \"name\": \"ExtraTree Classifier\", \"x\": [\"accuracy\", \"FPR\", \"FNR\", \"auc\"], \"y\": [0.9393842206542655, 0.026800250469630558, 0.25785244704163623, 0.8576736512443666], \"type\": \"scatter\", \"uid\": \"bf0b67ae-e6c4-4f5f-9545-3ea783393a60\"}, {\"marker\": {\"symbol\": \"x\"}, \"mode\": \"lines+markers\", \"name\": \"Bagging\", \"x\": [\"accuracy\", \"FPR\", \"FNR\", \"auc\"], \"y\": [0.9375668163352576, 0.029304946775203507, 0.2556610664718773, 0.8575169933764597], \"type\": \"scatter\", \"uid\": \"42add967-490e-4f37-9348-1f6cc4e82f7e\"}, {\"marker\": {\"symbol\": \"x\"}, \"mode\": \"lines+markers\", \"name\": \"Neural Network\", \"x\": [\"accuracy\", \"FPR\", \"FNR\", \"auc\"], \"y\": [0.93959803292709, 0.02667501565435191, 0.25712198685171656, 0.8575169933764597], \"type\": \"scatter\", \"uid\": \"347e3831-8c73-4b58-bc60-a762eb61d7c0\"}], {\"title\": \"Result comparision for Features selected in Section 1\", \"yaxis\": {\"dtick\": 0.05, \"tick0\": 0}}, {\"showLink\": true, \"linkText\": \"Export to plot.ly\", \"plotlyServerURL\": \"https://plot.ly\"})});</script><script type=\"text/javascript\">window.addEventListener(\"resize\", function(){window._Plotly.Plots.resize(document.getElementById(\"1d1b8d20-ff26-4678-a0aa-2434aa76aba5\"));});</script>"
      ]
     },
     "metadata": {},
     "output_type": "display_data"
    }
   ],
   "source": [
    "trace0 = go.Scatter(x=table_80_60_test.iloc[0].index.values[[0,5,6,7]],\n",
    "                    y=table_80_60_test.iloc[0].values[[0,5,6,7]],\n",
    "                    mode = 'lines',\n",
    "                    name = 'KNN_model')\n",
    "\n",
    "trace1 = go.Scatter(x=table_80_60_test.iloc[1].index.values[[0,5,6,7]],\n",
    "                    y=table_80_60_test.iloc[1].values[[0,5,6,7]],\n",
    "                    mode = 'lines+markers',\n",
    "                    name = 'Logistic Regression')\n",
    "\n",
    "trace2 = go.Scatter(x=table_80_60_test.iloc[2].index.values[[0,5,6,7]],\n",
    "                    y=table_80_60_test.iloc[2].values[[0,5,6,7]],\n",
    "                    mode = 'lines+markers',marker=dict(symbol='x'),\n",
    "                    name = 'Random Forest')\n",
    "\n",
    "\n",
    "trace3 = go.Scatter(x=table_80_60_test.iloc[3].index.values[[0,5,6,7]],\n",
    "                    y=table_80_60_test.iloc[3].values[[0,5,6,7]],\n",
    "                    mode = 'lines',\n",
    "                    name = 'Ada Boost')\n",
    "\n",
    "trace4 = go.Scatter(x=table_80_60_test.iloc[4].index.values[[0,5,6,7]],\n",
    "                    y=table_80_60_test.iloc[4].values[[0,5,6,7]],\n",
    "                    mode = 'lines+markers',\n",
    "                    name = 'GradientBoosting')\n",
    "\n",
    "trace5 = go.Scatter(x=table_80_60_test.iloc[5].index.values[[0,5,6,7]],\n",
    "                    y=table_80_60_test.iloc[5].values[[0,5,6,7]],\n",
    "                    mode = 'lines+markers',marker=dict(symbol='x'),\n",
    "                    name = 'ExtraTree Classifier')\n",
    "\n",
    "trace6 = go.Scatter(x=table_80_60_test.iloc[6].index.values[[0,5,6,7]],\n",
    "                    y=table_80_60_test.iloc[6].values[[0,5,6,7]],\n",
    "                    mode = 'lines+markers',marker=dict(symbol='x'),\n",
    "                    name = 'Bagging')\n",
    "\n",
    "trace7 = go.Scatter(x=table_80_60_test.iloc[7].index.values[[0,5,6,7]],\n",
    "                    y=table_80_60_test.iloc[7].values[[0,5,6,7]],\n",
    "                    mode = 'lines+markers',marker=dict(symbol='x'),\n",
    "                    name = 'Neural Network')\n",
    "\n",
    "\n",
    "\n",
    "data = [trace0, trace1, trace2, trace3, trace4, trace5, trace6, trace7]\n",
    "layout = go.Layout(yaxis=dict(tick0=0,dtick=0.05),title='Result comparision for Features selected in Section 1')\n",
    "fig = go.Figure(data=data, layout=layout)\n",
    "\n",
    "iplot(fig, filename='Result')"
   ]
  },
  {
   "cell_type": "code",
   "execution_count": 55,
   "metadata": {},
   "outputs": [
    {
     "name": "stdout",
     "output_type": "stream",
     "text": [
      "Training Results\n"
     ]
    },
    {
     "data": {
      "text/html": [
       "<div>\n",
       "<style scoped>\n",
       "    .dataframe tbody tr th:only-of-type {\n",
       "        vertical-align: middle;\n",
       "    }\n",
       "\n",
       "    .dataframe tbody tr th {\n",
       "        vertical-align: top;\n",
       "    }\n",
       "\n",
       "    .dataframe thead th {\n",
       "        text-align: right;\n",
       "    }\n",
       "</style>\n",
       "<table border=\"1\" class=\"dataframe\">\n",
       "  <thead>\n",
       "    <tr style=\"text-align: right;\">\n",
       "      <th></th>\n",
       "      <th>accuracy</th>\n",
       "      <th>TP</th>\n",
       "      <th>TN</th>\n",
       "      <th>FP</th>\n",
       "      <th>FN</th>\n",
       "      <th>FPR</th>\n",
       "      <th>FNR</th>\n",
       "    </tr>\n",
       "    <tr>\n",
       "      <th>index</th>\n",
       "      <th></th>\n",
       "      <th></th>\n",
       "      <th></th>\n",
       "      <th></th>\n",
       "      <th></th>\n",
       "      <th></th>\n",
       "      <th></th>\n",
       "    </tr>\n",
       "  </thead>\n",
       "  <tbody>\n",
       "    <tr>\n",
       "      <th>KNeighborsClassifier</th>\n",
       "      <td>0.939065</td>\n",
       "      <td>3894.0</td>\n",
       "      <td>31243.0</td>\n",
       "      <td>649.0</td>\n",
       "      <td>1631.0</td>\n",
       "      <td>0.020350</td>\n",
       "      <td>0.295204</td>\n",
       "    </tr>\n",
       "    <tr>\n",
       "      <th>LogisticRegression</th>\n",
       "      <td>0.939119</td>\n",
       "      <td>3961.0</td>\n",
       "      <td>31178.0</td>\n",
       "      <td>714.0</td>\n",
       "      <td>1564.0</td>\n",
       "      <td>0.022388</td>\n",
       "      <td>0.283077</td>\n",
       "    </tr>\n",
       "    <tr>\n",
       "      <th>RandomForestClassifier</th>\n",
       "      <td>0.947110</td>\n",
       "      <td>4278.0</td>\n",
       "      <td>31160.0</td>\n",
       "      <td>732.0</td>\n",
       "      <td>1247.0</td>\n",
       "      <td>0.022952</td>\n",
       "      <td>0.225701</td>\n",
       "    </tr>\n",
       "    <tr>\n",
       "      <th>AdaBoostClassifier</th>\n",
       "      <td>0.939840</td>\n",
       "      <td>3960.0</td>\n",
       "      <td>31206.0</td>\n",
       "      <td>686.0</td>\n",
       "      <td>1565.0</td>\n",
       "      <td>0.021510</td>\n",
       "      <td>0.283258</td>\n",
       "    </tr>\n",
       "    <tr>\n",
       "      <th>GradientBoostingClassifier</th>\n",
       "      <td>0.943127</td>\n",
       "      <td>4204.0</td>\n",
       "      <td>31085.0</td>\n",
       "      <td>807.0</td>\n",
       "      <td>1321.0</td>\n",
       "      <td>0.025304</td>\n",
       "      <td>0.239095</td>\n",
       "    </tr>\n",
       "    <tr>\n",
       "      <th>ExtraTreeClassifier</th>\n",
       "      <td>0.947430</td>\n",
       "      <td>4250.0</td>\n",
       "      <td>31200.0</td>\n",
       "      <td>692.0</td>\n",
       "      <td>1275.0</td>\n",
       "      <td>0.021698</td>\n",
       "      <td>0.230769</td>\n",
       "    </tr>\n",
       "    <tr>\n",
       "      <th>BaggingClassifier</th>\n",
       "      <td>0.947056</td>\n",
       "      <td>4285.0</td>\n",
       "      <td>31151.0</td>\n",
       "      <td>741.0</td>\n",
       "      <td>1240.0</td>\n",
       "      <td>0.023235</td>\n",
       "      <td>0.224434</td>\n",
       "    </tr>\n",
       "    <tr>\n",
       "      <th>Neural Network-1</th>\n",
       "      <td>0.942833</td>\n",
       "      <td>4173.0</td>\n",
       "      <td>31105.0</td>\n",
       "      <td>787.0</td>\n",
       "      <td>1352.0</td>\n",
       "      <td>0.024677</td>\n",
       "      <td>0.244706</td>\n",
       "    </tr>\n",
       "  </tbody>\n",
       "</table>\n",
       "</div>"
      ],
      "text/plain": [
       "                            accuracy      TP       TN     FP      FN  \\\n",
       "index                                                                  \n",
       "KNeighborsClassifier        0.939065  3894.0  31243.0  649.0  1631.0   \n",
       "LogisticRegression          0.939119  3961.0  31178.0  714.0  1564.0   \n",
       "RandomForestClassifier      0.947110  4278.0  31160.0  732.0  1247.0   \n",
       "AdaBoostClassifier          0.939840  3960.0  31206.0  686.0  1565.0   \n",
       "GradientBoostingClassifier  0.943127  4204.0  31085.0  807.0  1321.0   \n",
       "ExtraTreeClassifier         0.947430  4250.0  31200.0  692.0  1275.0   \n",
       "BaggingClassifier           0.947056  4285.0  31151.0  741.0  1240.0   \n",
       "Neural Network-1            0.942833  4173.0  31105.0  787.0  1352.0   \n",
       "\n",
       "                                 FPR       FNR  \n",
       "index                                           \n",
       "KNeighborsClassifier        0.020350  0.295204  \n",
       "LogisticRegression          0.022388  0.283077  \n",
       "RandomForestClassifier      0.022952  0.225701  \n",
       "AdaBoostClassifier          0.021510  0.283258  \n",
       "GradientBoostingClassifier  0.025304  0.239095  \n",
       "ExtraTreeClassifier         0.021698  0.230769  \n",
       "BaggingClassifier           0.023235  0.224434  \n",
       "Neural Network-1            0.024677  0.244706  "
      ]
     },
     "metadata": {},
     "output_type": "display_data"
    },
    {
     "name": "stdout",
     "output_type": "stream",
     "text": [
      "Test Results\n"
     ]
    },
    {
     "data": {
      "text/html": [
       "<div>\n",
       "<style scoped>\n",
       "    .dataframe tbody tr th:only-of-type {\n",
       "        vertical-align: middle;\n",
       "    }\n",
       "\n",
       "    .dataframe tbody tr th {\n",
       "        vertical-align: top;\n",
       "    }\n",
       "\n",
       "    .dataframe thead th {\n",
       "        text-align: right;\n",
       "    }\n",
       "</style>\n",
       "<table border=\"1\" class=\"dataframe\">\n",
       "  <thead>\n",
       "    <tr style=\"text-align: right;\">\n",
       "      <th></th>\n",
       "      <th>accuracy</th>\n",
       "      <th>TP</th>\n",
       "      <th>TN</th>\n",
       "      <th>FP</th>\n",
       "      <th>FN</th>\n",
       "      <th>FPR</th>\n",
       "      <th>FNR</th>\n",
       "      <th>auc</th>\n",
       "      <th>mcc</th>\n",
       "    </tr>\n",
       "    <tr>\n",
       "      <th>index</th>\n",
       "      <th></th>\n",
       "      <th></th>\n",
       "      <th></th>\n",
       "      <th></th>\n",
       "      <th></th>\n",
       "      <th></th>\n",
       "      <th></th>\n",
       "      <th></th>\n",
       "      <th></th>\n",
       "    </tr>\n",
       "  </thead>\n",
       "  <tbody>\n",
       "    <tr>\n",
       "      <th>KNeighborsClassifier</th>\n",
       "      <td>0.935001</td>\n",
       "      <td>942.0</td>\n",
       "      <td>7804.0</td>\n",
       "      <td>181.0</td>\n",
       "      <td>427.0</td>\n",
       "      <td>0.022668</td>\n",
       "      <td>0.311907</td>\n",
       "      <td>0.832713</td>\n",
       "      <td>0.723640</td>\n",
       "    </tr>\n",
       "    <tr>\n",
       "      <th>LogisticRegression</th>\n",
       "      <td>0.935643</td>\n",
       "      <td>966.0</td>\n",
       "      <td>7786.0</td>\n",
       "      <td>199.0</td>\n",
       "      <td>403.0</td>\n",
       "      <td>0.024922</td>\n",
       "      <td>0.294375</td>\n",
       "      <td>0.840351</td>\n",
       "      <td>0.728649</td>\n",
       "    </tr>\n",
       "    <tr>\n",
       "      <th>RandomForestClassifier</th>\n",
       "      <td>0.939064</td>\n",
       "      <td>1025.0</td>\n",
       "      <td>7759.0</td>\n",
       "      <td>226.0</td>\n",
       "      <td>344.0</td>\n",
       "      <td>0.028303</td>\n",
       "      <td>0.251278</td>\n",
       "      <td>0.860209</td>\n",
       "      <td>0.748122</td>\n",
       "    </tr>\n",
       "    <tr>\n",
       "      <th>AdaBoostClassifier</th>\n",
       "      <td>0.937032</td>\n",
       "      <td>959.0</td>\n",
       "      <td>7806.0</td>\n",
       "      <td>179.0</td>\n",
       "      <td>410.0</td>\n",
       "      <td>0.022417</td>\n",
       "      <td>0.299489</td>\n",
       "      <td>0.839047</td>\n",
       "      <td>0.733209</td>\n",
       "    </tr>\n",
       "    <tr>\n",
       "      <th>GradientBoostingClassifier</th>\n",
       "      <td>0.938850</td>\n",
       "      <td>1019.0</td>\n",
       "      <td>7763.0</td>\n",
       "      <td>222.0</td>\n",
       "      <td>350.0</td>\n",
       "      <td>0.027802</td>\n",
       "      <td>0.255661</td>\n",
       "      <td>0.858268</td>\n",
       "      <td>0.746622</td>\n",
       "    </tr>\n",
       "    <tr>\n",
       "      <th>ExtraTreeClassifier</th>\n",
       "      <td>0.939384</td>\n",
       "      <td>1016.0</td>\n",
       "      <td>7771.0</td>\n",
       "      <td>214.0</td>\n",
       "      <td>353.0</td>\n",
       "      <td>0.026800</td>\n",
       "      <td>0.257852</td>\n",
       "      <td>0.857674</td>\n",
       "      <td>0.748202</td>\n",
       "    </tr>\n",
       "    <tr>\n",
       "      <th>BaggingClassifier</th>\n",
       "      <td>0.937567</td>\n",
       "      <td>1019.0</td>\n",
       "      <td>7751.0</td>\n",
       "      <td>234.0</td>\n",
       "      <td>350.0</td>\n",
       "      <td>0.029305</td>\n",
       "      <td>0.255661</td>\n",
       "      <td>0.857517</td>\n",
       "      <td>0.742029</td>\n",
       "    </tr>\n",
       "    <tr>\n",
       "      <th>Neural Network-1</th>\n",
       "      <td>0.939598</td>\n",
       "      <td>1017.0</td>\n",
       "      <td>7772.0</td>\n",
       "      <td>213.0</td>\n",
       "      <td>352.0</td>\n",
       "      <td>0.026675</td>\n",
       "      <td>0.257122</td>\n",
       "      <td>0.857517</td>\n",
       "      <td>0.749097</td>\n",
       "    </tr>\n",
       "  </tbody>\n",
       "</table>\n",
       "</div>"
      ],
      "text/plain": [
       "                            accuracy      TP      TN     FP     FN       FPR  \\\n",
       "index                                                                          \n",
       "KNeighborsClassifier        0.935001   942.0  7804.0  181.0  427.0  0.022668   \n",
       "LogisticRegression          0.935643   966.0  7786.0  199.0  403.0  0.024922   \n",
       "RandomForestClassifier      0.939064  1025.0  7759.0  226.0  344.0  0.028303   \n",
       "AdaBoostClassifier          0.937032   959.0  7806.0  179.0  410.0  0.022417   \n",
       "GradientBoostingClassifier  0.938850  1019.0  7763.0  222.0  350.0  0.027802   \n",
       "ExtraTreeClassifier         0.939384  1016.0  7771.0  214.0  353.0  0.026800   \n",
       "BaggingClassifier           0.937567  1019.0  7751.0  234.0  350.0  0.029305   \n",
       "Neural Network-1            0.939598  1017.0  7772.0  213.0  352.0  0.026675   \n",
       "\n",
       "                                 FNR       auc       mcc  \n",
       "index                                                     \n",
       "KNeighborsClassifier        0.311907  0.832713  0.723640  \n",
       "LogisticRegression          0.294375  0.840351  0.728649  \n",
       "RandomForestClassifier      0.251278  0.860209  0.748122  \n",
       "AdaBoostClassifier          0.299489  0.839047  0.733209  \n",
       "GradientBoostingClassifier  0.255661  0.858268  0.746622  \n",
       "ExtraTreeClassifier         0.257852  0.857674  0.748202  \n",
       "BaggingClassifier           0.255661  0.857517  0.742029  \n",
       "Neural Network-1            0.257122  0.857517  0.749097  "
      ]
     },
     "metadata": {},
     "output_type": "display_data"
    }
   ],
   "source": [
    "table_80_60_train['index']=ind_columns\n",
    "table_80_60_test['index']=ind_columns\n",
    "\n",
    "\n",
    "table_80_60_test.set_index(['index'],drop=True,inplace=True)\n",
    "table_80_60_train.set_index(['index'],drop=True,inplace=True)\n",
    "\n",
    "print(\"Training Results\")\n",
    "display(table_80_60_train)\n",
    "print(\"Test Results\")\n",
    "display(table_80_60_test)"
   ]
  },
  {
   "cell_type": "markdown",
   "metadata": {},
   "source": [
    "### <a id='4.B' style=\"text-decoration : none; color : #000000;\"> B. Average Feature Importances</a>"
   ]
  },
  {
   "cell_type": "code",
   "execution_count": 56,
   "metadata": {},
   "outputs": [
    {
     "data": {
      "application/vnd.plotly.v1+json": {
       "config": {
        "linkText": "Export to plot.ly",
        "plotlyServerURL": "https://plot.ly",
        "showLink": true
       },
       "data": [
        {
         "marker": {
          "color": "rgb(158,202,225)",
          "line": {
           "color": "rgb(8,48,107)",
           "width": 1.5
          }
         },
         "opacity": 0.6,
         "orientation": "h",
         "text": [
          0.1514,
          0.1419,
          0.0598,
          0.053,
          0.051,
          0.042,
          0.0405,
          0.0385,
          0.037,
          0.0354,
          0.0304,
          0.0288,
          0.0261,
          0.0254,
          0.021,
          0.0207,
          0.0194,
          0.017,
          0.0135,
          0.0124,
          0.0108,
          0.0106,
          0.0099,
          0.0096,
          0.0096,
          0.0095,
          0.009,
          0.0076,
          0.0064,
          0.0057,
          0.0045,
          0.0041,
          0.0039,
          0.0038,
          0.0036,
          0.0036,
          0.0032,
          0.0032,
          0.0032,
          0.0027,
          0.0022,
          0.0018,
          0.0015,
          0.0013,
          0.0011,
          0.0007,
          0.0006,
          0.0004,
          0.0003,
          0.0002,
          0.0002,
          0.0001,
          0,
          0,
          0
         ],
         "textposition": "outside",
         "type": "bar",
         "uid": "1144d7f9-ccf5-42e1-9f02-62ea3d1959a3",
         "x": [
          0.151380318831081,
          0.14192943333270328,
          0.05978581484108667,
          0.05295566370594164,
          0.05100911541169363,
          0.04204133962554852,
          0.04054605832583708,
          0.038499946959795986,
          0.03695597088862358,
          0.03539623814062348,
          0.030415364083729073,
          0.028772849748576423,
          0.026090319985964425,
          0.02535412616592665,
          0.020955310880254777,
          0.02068008000277648,
          0.019397930074404796,
          0.01701361539098122,
          0.01350131833162571,
          0.012434106376278424,
          0.010782354659493459,
          0.010636021103070515,
          0.009874332268362878,
          0.009639202245218269,
          0.00960998108475968,
          0.009514984641567912,
          0.009008799974313766,
          0.007571686492127253,
          0.006390269570052963,
          0.00572798468908293,
          0.004537713982314548,
          0.004087612927367548,
          0.003923712794558701,
          0.0037527786192893065,
          0.0035880596319205023,
          0.0035748587542067996,
          0.0032153890560023945,
          0.0032103055790176143,
          0.003206543821081772,
          0.0026742109000379623,
          0.0022218309570150347,
          0.0017745868926674787,
          0.0014803694123473252,
          0.001283435442291871,
          0.001083004883437886,
          0.0007157768169253817,
          0.0006260970582378263,
          0.0004412984453025013,
          0.0002752694511930611,
          0.00017355289184195523,
          0.00015966952658138356,
          8.665202454622655e-05,
          2.770267709924604e-05,
          9.029623213194653e-06,
          0
         ],
         "y": [
          "url_char_. + url_char_/",
          "url_char_. / url_number_special_chars/url_length",
          "url_char_/ + url_number_special_chars/url_length",
          "url_number_consonants/url_length / url_char_.",
          "url_char_. * url_number_special_chars/url_length",
          "url_number_digits/url_length + url_number_special_chars/url_length",
          "url_char_& + url_char_.",
          "url_char_. + url_number_consonants/url_length",
          "url_char_. + url_number_vowels/url_length",
          "url_char_/ + url_number_digits/url_length",
          "url_number_vowels/url_length / url_char_.",
          "url_char_. * url_number_consonants/url_length",
          "url_char_. + url_char_?",
          "url_char_. + url_number_digits/url_length",
          "url_number_consonants/url_length * url_number_digits/url_length",
          "url_char_- + url_number_digits/url_length",
          "url_number_digits/url_length / url_number_special_chars/url_length",
          "url_char_- + url_char_/",
          "url_char_- / url_number_vowels/url_length",
          "url_char_- / url_number_special_chars/url_length",
          "url_char_+ + url_char_.",
          "url_char_+ + url_char_/",
          "url_char_- + url_char_.",
          "url_char_. * url_number_digits/url_length",
          "url_char_/",
          "url_char_.",
          "url_char_/ + url_port",
          "url_number_digits/url_length * url_number_special_chars/url_length",
          "url_number_digits/url_length / url_number_consonants/url_length",
          "url_char_/ + url_char_=",
          "url_char_/ + url_char_?",
          "url_char_/ * url_number_consonants/url_length",
          "url_char_- + url_char_=",
          "url_number_digits/url_length / url_char_.",
          "url_number_digits/url_length * url_number_vowels/url_length",
          "url_char_- + url_port",
          "url_char_& + url_char_/",
          "url_char_. / url_char_/",
          "url_char_. + url_char__",
          "url_char_/ / url_char_.",
          "url_char_. + url_char_=",
          "url_char_/ / url_number_consonants/url_length",
          "url_char_& + url_char_-",
          "url_char_% + url_char_/",
          "url_char_. + url_port",
          "url_char_/ + url_char_:",
          "url_char_% + url_char_-",
          "url_char_. + url_char_:",
          "url_number_consonants/url_length / url_char_/",
          "url_char_/ + url_char__",
          "url_number_vowels/url_length / url_char_/",
          "url_number_special_chars/url_length / url_char_/",
          "url_char_/ * url_number_special_chars/url_length",
          "url_char_/ * url_number_vowels/url_length",
          "url_number_digits/url_length / url_char_/"
         ]
        }
       ],
       "layout": {
        "autosize": false,
        "height": 1000,
        "width": 1000,
        "xaxis": {
         "tickfont": {
          "color": "black",
          "size": 12
         },
         "title": "Feature Importances"
        },
        "yaxis": {
         "automargin": true
        }
       }
      },
      "text/html": [
       "<div id=\"db01d20f-57ce-4ed8-a9dc-84a27cf2f174\" style=\"height: 1000px; width: 1000px;\" class=\"plotly-graph-div\"></div><script type=\"text/javascript\">require([\"plotly\"], function(Plotly) { window.PLOTLYENV=window.PLOTLYENV || {};window.PLOTLYENV.BASE_URL=\"https://plot.ly\";Plotly.newPlot(\"db01d20f-57ce-4ed8-a9dc-84a27cf2f174\", [{\"marker\": {\"color\": \"rgb(158,202,225)\", \"line\": {\"color\": \"rgb(8,48,107)\", \"width\": 1.5}}, \"opacity\": 0.6, \"orientation\": \"h\", \"text\": [0.1514, 0.1419, 0.0598, 0.053, 0.051, 0.042, 0.0405, 0.0385, 0.037, 0.0354, 0.0304, 0.0288, 0.0261, 0.0254, 0.021, 0.0207, 0.0194, 0.017, 0.0135, 0.0124, 0.0108, 0.0106, 0.0099, 0.0096, 0.0096, 0.0095, 0.009, 0.0076, 0.0064, 0.0057, 0.0045, 0.0041, 0.0039, 0.0038, 0.0036, 0.0036, 0.0032, 0.0032, 0.0032, 0.0027, 0.0022, 0.0018, 0.0015, 0.0013, 0.0011, 0.0007, 0.0006, 0.0004, 0.0003, 0.0002, 0.0002, 0.0001, 0.0, 0.0, 0.0], \"textposition\": \"outside\", \"x\": [0.151380318831081, 0.14192943333270328, 0.05978581484108667, 0.05295566370594164, 0.05100911541169363, 0.04204133962554852, 0.04054605832583708, 0.038499946959795986, 0.03695597088862358, 0.03539623814062348, 0.030415364083729073, 0.028772849748576423, 0.026090319985964425, 0.02535412616592665, 0.020955310880254777, 0.02068008000277648, 0.019397930074404796, 0.01701361539098122, 0.01350131833162571, 0.012434106376278424, 0.010782354659493459, 0.010636021103070515, 0.009874332268362878, 0.009639202245218269, 0.00960998108475968, 0.009514984641567912, 0.009008799974313766, 0.007571686492127253, 0.006390269570052963, 0.00572798468908293, 0.004537713982314548, 0.004087612927367548, 0.003923712794558701, 0.0037527786192893065, 0.0035880596319205023, 0.0035748587542067996, 0.0032153890560023945, 0.0032103055790176143, 0.003206543821081772, 0.0026742109000379623, 0.0022218309570150347, 0.0017745868926674787, 0.0014803694123473252, 0.001283435442291871, 0.001083004883437886, 0.0007157768169253817, 0.0006260970582378263, 0.0004412984453025013, 0.0002752694511930611, 0.00017355289184195523, 0.00015966952658138356, 8.665202454622655e-05, 2.770267709924604e-05, 9.029623213194653e-06, 0.0], \"y\": [\"url_char_. + url_char_/\", \"url_char_. / url_number_special_chars/url_length\", \"url_char_/ + url_number_special_chars/url_length\", \"url_number_consonants/url_length / url_char_.\", \"url_char_. * url_number_special_chars/url_length\", \"url_number_digits/url_length + url_number_special_chars/url_length\", \"url_char_& + url_char_.\", \"url_char_. + url_number_consonants/url_length\", \"url_char_. + url_number_vowels/url_length\", \"url_char_/ + url_number_digits/url_length\", \"url_number_vowels/url_length / url_char_.\", \"url_char_. * url_number_consonants/url_length\", \"url_char_. + url_char_?\", \"url_char_. + url_number_digits/url_length\", \"url_number_consonants/url_length * url_number_digits/url_length\", \"url_char_- + url_number_digits/url_length\", \"url_number_digits/url_length / url_number_special_chars/url_length\", \"url_char_- + url_char_/\", \"url_char_- / url_number_vowels/url_length\", \"url_char_- / url_number_special_chars/url_length\", \"url_char_+ + url_char_.\", \"url_char_+ + url_char_/\", \"url_char_- + url_char_.\", \"url_char_. * url_number_digits/url_length\", \"url_char_/\", \"url_char_.\", \"url_char_/ + url_port\", \"url_number_digits/url_length * url_number_special_chars/url_length\", \"url_number_digits/url_length / url_number_consonants/url_length\", \"url_char_/ + url_char_=\", \"url_char_/ + url_char_?\", \"url_char_/ * url_number_consonants/url_length\", \"url_char_- + url_char_=\", \"url_number_digits/url_length / url_char_.\", \"url_number_digits/url_length * url_number_vowels/url_length\", \"url_char_- + url_port\", \"url_char_& + url_char_/\", \"url_char_. / url_char_/\", \"url_char_. + url_char__\", \"url_char_/ / url_char_.\", \"url_char_. + url_char_=\", \"url_char_/ / url_number_consonants/url_length\", \"url_char_& + url_char_-\", \"url_char_% + url_char_/\", \"url_char_. + url_port\", \"url_char_/ + url_char_:\", \"url_char_% + url_char_-\", \"url_char_. + url_char_:\", \"url_number_consonants/url_length / url_char_/\", \"url_char_/ + url_char__\", \"url_number_vowels/url_length / url_char_/\", \"url_number_special_chars/url_length / url_char_/\", \"url_char_/ * url_number_special_chars/url_length\", \"url_char_/ * url_number_vowels/url_length\", \"url_number_digits/url_length / url_char_/\"], \"type\": \"bar\", \"uid\": \"1144d7f9-ccf5-42e1-9f02-62ea3d1959a3\"}], {\"autosize\": false, \"height\": 1000, \"width\": 1000, \"xaxis\": {\"tickfont\": {\"color\": \"black\", \"size\": 12}, \"title\": \"Feature Importances\"}, \"yaxis\": {\"automargin\": true}}, {\"showLink\": true, \"linkText\": \"Export to plot.ly\", \"plotlyServerURL\": \"https://plot.ly\"})});</script>"
      ],
      "text/vnd.plotly.v1+html": [
       "<div id=\"db01d20f-57ce-4ed8-a9dc-84a27cf2f174\" style=\"height: 1000px; width: 1000px;\" class=\"plotly-graph-div\"></div><script type=\"text/javascript\">require([\"plotly\"], function(Plotly) { window.PLOTLYENV=window.PLOTLYENV || {};window.PLOTLYENV.BASE_URL=\"https://plot.ly\";Plotly.newPlot(\"db01d20f-57ce-4ed8-a9dc-84a27cf2f174\", [{\"marker\": {\"color\": \"rgb(158,202,225)\", \"line\": {\"color\": \"rgb(8,48,107)\", \"width\": 1.5}}, \"opacity\": 0.6, \"orientation\": \"h\", \"text\": [0.1514, 0.1419, 0.0598, 0.053, 0.051, 0.042, 0.0405, 0.0385, 0.037, 0.0354, 0.0304, 0.0288, 0.0261, 0.0254, 0.021, 0.0207, 0.0194, 0.017, 0.0135, 0.0124, 0.0108, 0.0106, 0.0099, 0.0096, 0.0096, 0.0095, 0.009, 0.0076, 0.0064, 0.0057, 0.0045, 0.0041, 0.0039, 0.0038, 0.0036, 0.0036, 0.0032, 0.0032, 0.0032, 0.0027, 0.0022, 0.0018, 0.0015, 0.0013, 0.0011, 0.0007, 0.0006, 0.0004, 0.0003, 0.0002, 0.0002, 0.0001, 0.0, 0.0, 0.0], \"textposition\": \"outside\", \"x\": [0.151380318831081, 0.14192943333270328, 0.05978581484108667, 0.05295566370594164, 0.05100911541169363, 0.04204133962554852, 0.04054605832583708, 0.038499946959795986, 0.03695597088862358, 0.03539623814062348, 0.030415364083729073, 0.028772849748576423, 0.026090319985964425, 0.02535412616592665, 0.020955310880254777, 0.02068008000277648, 0.019397930074404796, 0.01701361539098122, 0.01350131833162571, 0.012434106376278424, 0.010782354659493459, 0.010636021103070515, 0.009874332268362878, 0.009639202245218269, 0.00960998108475968, 0.009514984641567912, 0.009008799974313766, 0.007571686492127253, 0.006390269570052963, 0.00572798468908293, 0.004537713982314548, 0.004087612927367548, 0.003923712794558701, 0.0037527786192893065, 0.0035880596319205023, 0.0035748587542067996, 0.0032153890560023945, 0.0032103055790176143, 0.003206543821081772, 0.0026742109000379623, 0.0022218309570150347, 0.0017745868926674787, 0.0014803694123473252, 0.001283435442291871, 0.001083004883437886, 0.0007157768169253817, 0.0006260970582378263, 0.0004412984453025013, 0.0002752694511930611, 0.00017355289184195523, 0.00015966952658138356, 8.665202454622655e-05, 2.770267709924604e-05, 9.029623213194653e-06, 0.0], \"y\": [\"url_char_. + url_char_/\", \"url_char_. / url_number_special_chars/url_length\", \"url_char_/ + url_number_special_chars/url_length\", \"url_number_consonants/url_length / url_char_.\", \"url_char_. * url_number_special_chars/url_length\", \"url_number_digits/url_length + url_number_special_chars/url_length\", \"url_char_& + url_char_.\", \"url_char_. + url_number_consonants/url_length\", \"url_char_. + url_number_vowels/url_length\", \"url_char_/ + url_number_digits/url_length\", \"url_number_vowels/url_length / url_char_.\", \"url_char_. * url_number_consonants/url_length\", \"url_char_. + url_char_?\", \"url_char_. + url_number_digits/url_length\", \"url_number_consonants/url_length * url_number_digits/url_length\", \"url_char_- + url_number_digits/url_length\", \"url_number_digits/url_length / url_number_special_chars/url_length\", \"url_char_- + url_char_/\", \"url_char_- / url_number_vowels/url_length\", \"url_char_- / url_number_special_chars/url_length\", \"url_char_+ + url_char_.\", \"url_char_+ + url_char_/\", \"url_char_- + url_char_.\", \"url_char_. * url_number_digits/url_length\", \"url_char_/\", \"url_char_.\", \"url_char_/ + url_port\", \"url_number_digits/url_length * url_number_special_chars/url_length\", \"url_number_digits/url_length / url_number_consonants/url_length\", \"url_char_/ + url_char_=\", \"url_char_/ + url_char_?\", \"url_char_/ * url_number_consonants/url_length\", \"url_char_- + url_char_=\", \"url_number_digits/url_length / url_char_.\", \"url_number_digits/url_length * url_number_vowels/url_length\", \"url_char_- + url_port\", \"url_char_& + url_char_/\", \"url_char_. / url_char_/\", \"url_char_. + url_char__\", \"url_char_/ / url_char_.\", \"url_char_. + url_char_=\", \"url_char_/ / url_number_consonants/url_length\", \"url_char_& + url_char_-\", \"url_char_% + url_char_/\", \"url_char_. + url_port\", \"url_char_/ + url_char_:\", \"url_char_% + url_char_-\", \"url_char_. + url_char_:\", \"url_number_consonants/url_length / url_char_/\", \"url_char_/ + url_char__\", \"url_number_vowels/url_length / url_char_/\", \"url_number_special_chars/url_length / url_char_/\", \"url_char_/ * url_number_special_chars/url_length\", \"url_char_/ * url_number_vowels/url_length\", \"url_number_digits/url_length / url_char_/\"], \"type\": \"bar\", \"uid\": \"1144d7f9-ccf5-42e1-9f02-62ea3d1959a3\"}], {\"autosize\": false, \"height\": 1000, \"width\": 1000, \"xaxis\": {\"tickfont\": {\"color\": \"black\", \"size\": 12}, \"title\": \"Feature Importances\"}, \"yaxis\": {\"automargin\": true}}, {\"showLink\": true, \"linkText\": \"Export to plot.ly\", \"plotlyServerURL\": \"https://plot.ly\"})});</script>"
      ]
     },
     "metadata": {},
     "output_type": "display_data"
    }
   ],
   "source": [
    "feat_impt_plot(np.average(feat_imp,axis=0),feature_name)"
   ]
  },
  {
   "cell_type": "markdown",
   "metadata": {},
   "source": [
    "### <a id='5' style=\"text-decoration : none; color : #000000;\">5. Feature Transformation with PCA </a>"
   ]
  },
  {
   "cell_type": "code",
   "execution_count": 57,
   "metadata": {
    "collapsed": true
   },
   "outputs": [],
   "source": [
    "X=fs.loc[:,fs.columns!='Target']\n",
    "y=fs.Target.values\n",
    "feature_name = X.columns.tolist()\n",
    "X=np.nan_to_num(X)\n",
    "scaler=StandardScaler()\n",
    "scaled_X=scaler.fit_transform(X)"
   ]
  },
  {
   "cell_type": "code",
   "execution_count": 58,
   "metadata": {},
   "outputs": [
    {
     "data": {
      "image/png": "[encoded data removed]",
      "text/plain": [
       "<Figure size 720x576 with 1 Axes>"
      ]
     },
     "metadata": {},
     "output_type": "display_data"
    }
   ],
   "source": [
    "sns.set_style('whitegrid')\n",
    "pca = PCA(random_state=0)\n",
    "pca.fit(scaled_X)\n",
    "plt.figure(1, figsize=(10, 8))\n",
    "plt.plot(np.cumsum(pca.explained_variance_ratio_),'--o', linewidth=2)\n",
    "plt.axis('tight')\n",
    "plt.xlabel('Number of Components',size=14)\n",
    "plt.xticks(size=12)\n",
    "plt.xlim([0,200])\n",
    "plt.ylabel('% Explained Variance',size=14)\n",
    "plt.yticks(size=12)\n",
    "plt.title('% Variance Explained by Principal Components',size=14,y=1.05)\n",
    "plt.show()"
   ]
  },
  {
   "cell_type": "code",
   "execution_count": 60,
   "metadata": {},
   "outputs": [
    {
     "name": "stdout",
     "output_type": "stream",
     "text": [
      "Variance explained using 20 components is: 0.853512946069\n"
     ]
    }
   ],
   "source": [
    "pca=PCA(n_components=20,whiten=True,random_state=0)\n",
    "X_pca_21=pca.fit_transform(scaled_X)\n",
    "print(\"Variance explained using 20 components is:\",sum(pca.explained_variance_ratio_))"
   ]
  },
  {
   "cell_type": "code",
   "execution_count": 61,
   "metadata": {
    "collapsed": true
   },
   "outputs": [],
   "source": [
    "X_train=X_pca_21[:37417]\n",
    "Y_train=fs.iloc[:37417]['Target'].values\n",
    "X_test=X_pca_21[37417:]\n",
    "Y_test=fs.iloc[37417:]['Target'].values\n",
    "\n",
    "## Table to store training and test measures so we can compare later\n",
    "table_80_70_train=pd.DataFrame(columns=['accuracy','TP','TN','FP','FN','FPR','FNR'])\n",
    "table_80_70_test=pd.DataFrame(columns=['accuracy','TP','TN','FP','FN','FPR','FNR','auc','mcc'])"
   ]
  },
  {
   "cell_type": "code",
   "execution_count": 62,
   "metadata": {
    "scrolled": false
   },
   "outputs": [
    {
     "name": "stdout",
     "output_type": "stream",
     "text": [
      "\u001b[1mK-Nearest Neighbors\u001b[0m\n",
      "Accuracy of the model for training data is: 0.94093593821\n",
      "Confusion Matrix for training data is:\n"
     ]
    },
    {
     "data": {
      "text/plain": [
       "Predicted  False  True  __all__\n",
       "Actual                         \n",
       "False      31123   769    31892\n",
       "True        1441  4084     5525\n",
       "__all__    32564  4853    37417"
      ]
     },
     "metadata": {},
     "output_type": "display_data"
    },
    {
     "name": "stdout",
     "output_type": "stream",
     "text": [
      "Accuracy of the model for test data is: 0.934894162925\n",
      "Confusion Matrix for test data is:\n"
     ]
    },
    {
     "data": {
      "text/plain": [
       "Predicted  False  True  __all__\n",
       "Actual                         \n",
       "False       7759   226     7985\n",
       "True         383   986     1369\n",
       "__all__     8142  1212     9354"
      ]
     },
     "metadata": {},
     "output_type": "display_data"
    },
    {
     "name": "stdout",
     "output_type": "stream",
     "text": [
      "\n",
      "\n",
      "\u001b[1mLogistic Regression\u001b[0m\n",
      "Accuracy of the model for training data is: 0.934174305797\n",
      "Confusion Matrix for training data is:\n"
     ]
    },
    {
     "data": {
      "text/plain": [
       "Predicted  False  True  __all__\n",
       "Actual                         \n",
       "False      31280   612    31892\n",
       "True        1851  3674     5525\n",
       "__all__    33131  4286    37417"
      ]
     },
     "metadata": {},
     "output_type": "display_data"
    },
    {
     "name": "stdout",
     "output_type": "stream",
     "text": [
      "Accuracy of the model for test data is: 0.932328415651\n",
      "Confusion Matrix for test data is:\n"
     ]
    },
    {
     "data": {
      "text/plain": [
       "Predicted  False  True  __all__\n",
       "Actual                         \n",
       "False       7829   156     7985\n",
       "True         477   892     1369\n",
       "__all__     8306  1048     9354"
      ]
     },
     "metadata": {},
     "output_type": "display_data"
    },
    {
     "name": "stdout",
     "output_type": "stream",
     "text": [
      "\n",
      "\n",
      "\u001b[1mRandomForest Classifier\u001b[0m\n",
      "Accuracy of the model for training data is: 0.947189780047\n",
      "Confusion Matrix for training data is:\n"
     ]
    },
    {
     "data": {
      "text/plain": [
       "Predicted  False  True  __all__\n",
       "Actual                         \n",
       "False      31177   715    31892\n",
       "True        1261  4264     5525\n",
       "__all__    32438  4979    37417"
      ]
     },
     "metadata": {},
     "output_type": "display_data"
    },
    {
     "name": "stdout",
     "output_type": "stream",
     "text": [
      "Accuracy of the model for test data is: 0.939918751336\n",
      "Confusion Matrix for test data is:\n"
     ]
    },
    {
     "data": {
      "text/plain": [
       "Predicted  False  True  __all__\n",
       "Actual                         \n",
       "False       7771   214     7985\n",
       "True         348  1021     1369\n",
       "__all__     8119  1235     9354"
      ]
     },
     "metadata": {},
     "output_type": "display_data"
    },
    {
     "data": {
      "application/vnd.plotly.v1+json": {
       "config": {
        "linkText": "Export to plot.ly",
        "plotlyServerURL": "https://plot.ly",
        "showLink": true
       },
       "data": [
        {
         "marker": {
          "color": "rgb(158,202,225)",
          "line": {
           "color": "rgb(8,48,107)",
           "width": 1.5
          }
         },
         "opacity": 0.6,
         "orientation": "h",
         "text": [
          0.2423,
          0.1082,
          0.0843,
          0.0829,
          0.0818,
          0.0717,
          0.0504,
          0.0436,
          0.0436,
          0.0339,
          0.0286,
          0.027,
          0.0204,
          0.018,
          0.0167,
          0.0122,
          0.0105,
          0.0093,
          0.0083,
          0.0064
         ],
         "textposition": "outside",
         "type": "bar",
         "uid": "7118e2ec-f621-455f-9682-8f4f2c7a1433",
         "x": [
          0.24232298198831312,
          0.10822363850159075,
          0.08425910139783396,
          0.08289047057796348,
          0.08175776431349913,
          0.07166439275996422,
          0.050379239944389344,
          0.04360654151257126,
          0.04358526436922612,
          0.033895792811780553,
          0.02862936844149614,
          0.026956057754144596,
          0.020399413143951054,
          0.018040911405686717,
          0.01666425953823414,
          0.012214470997179528,
          0.010453144719590038,
          0.00934252516691941,
          0.008326318676224995,
          0.006388341979441524
         ],
         "y": [
          "8",
          "1",
          "16",
          "19",
          "0",
          "17",
          "18",
          "13",
          "14",
          "12",
          "9",
          "15",
          "3",
          "10",
          "5",
          "6",
          "2",
          "11",
          "7",
          "4"
         ]
        }
       ],
       "layout": {
        "autosize": false,
        "height": 1000,
        "width": 1000,
        "xaxis": {
         "tickfont": {
          "color": "black",
          "size": 12
         },
         "title": "Feature Importances"
        },
        "yaxis": {
         "automargin": true
        }
       }
      },
      "text/html": [
       "<div id=\"bf2a39ed-accf-4c6d-a268-220315b8c56a\" style=\"height: 1000px; width: 1000px;\" class=\"plotly-graph-div\"></div><script type=\"text/javascript\">require([\"plotly\"], function(Plotly) { window.PLOTLYENV=window.PLOTLYENV || {};window.PLOTLYENV.BASE_URL=\"https://plot.ly\";Plotly.newPlot(\"bf2a39ed-accf-4c6d-a268-220315b8c56a\", [{\"marker\": {\"color\": \"rgb(158,202,225)\", \"line\": {\"color\": \"rgb(8,48,107)\", \"width\": 1.5}}, \"opacity\": 0.6, \"orientation\": \"h\", \"text\": [0.2423, 0.1082, 0.0843, 0.0829, 0.0818, 0.0717, 0.0504, 0.0436, 0.0436, 0.0339, 0.0286, 0.027, 0.0204, 0.018, 0.0167, 0.0122, 0.0105, 0.0093, 0.0083, 0.0064], \"textposition\": \"outside\", \"x\": [0.24232298198831312, 0.10822363850159075, 0.08425910139783396, 0.08289047057796348, 0.08175776431349913, 0.07166439275996422, 0.050379239944389344, 0.04360654151257126, 0.04358526436922612, 0.033895792811780553, 0.02862936844149614, 0.026956057754144596, 0.020399413143951054, 0.018040911405686717, 0.01666425953823414, 0.012214470997179528, 0.010453144719590038, 0.00934252516691941, 0.008326318676224995, 0.006388341979441524], \"y\": [\"8\", \"1\", \"16\", \"19\", \"0\", \"17\", \"18\", \"13\", \"14\", \"12\", \"9\", \"15\", \"3\", \"10\", \"5\", \"6\", \"2\", \"11\", \"7\", \"4\"], \"type\": \"bar\", \"uid\": \"7118e2ec-f621-455f-9682-8f4f2c7a1433\"}], {\"autosize\": false, \"height\": 1000, \"width\": 1000, \"xaxis\": {\"tickfont\": {\"color\": \"black\", \"size\": 12}, \"title\": \"Feature Importances\"}, \"yaxis\": {\"automargin\": true}}, {\"showLink\": true, \"linkText\": \"Export to plot.ly\", \"plotlyServerURL\": \"https://plot.ly\"})});</script>"
      ],
      "text/vnd.plotly.v1+html": [
       "<div id=\"bf2a39ed-accf-4c6d-a268-220315b8c56a\" style=\"height: 1000px; width: 1000px;\" class=\"plotly-graph-div\"></div><script type=\"text/javascript\">require([\"plotly\"], function(Plotly) { window.PLOTLYENV=window.PLOTLYENV || {};window.PLOTLYENV.BASE_URL=\"https://plot.ly\";Plotly.newPlot(\"bf2a39ed-accf-4c6d-a268-220315b8c56a\", [{\"marker\": {\"color\": \"rgb(158,202,225)\", \"line\": {\"color\": \"rgb(8,48,107)\", \"width\": 1.5}}, \"opacity\": 0.6, \"orientation\": \"h\", \"text\": [0.2423, 0.1082, 0.0843, 0.0829, 0.0818, 0.0717, 0.0504, 0.0436, 0.0436, 0.0339, 0.0286, 0.027, 0.0204, 0.018, 0.0167, 0.0122, 0.0105, 0.0093, 0.0083, 0.0064], \"textposition\": \"outside\", \"x\": [0.24232298198831312, 0.10822363850159075, 0.08425910139783396, 0.08289047057796348, 0.08175776431349913, 0.07166439275996422, 0.050379239944389344, 0.04360654151257126, 0.04358526436922612, 0.033895792811780553, 0.02862936844149614, 0.026956057754144596, 0.020399413143951054, 0.018040911405686717, 0.01666425953823414, 0.012214470997179528, 0.010453144719590038, 0.00934252516691941, 0.008326318676224995, 0.006388341979441524], \"y\": [\"8\", \"1\", \"16\", \"19\", \"0\", \"17\", \"18\", \"13\", \"14\", \"12\", \"9\", \"15\", \"3\", \"10\", \"5\", \"6\", \"2\", \"11\", \"7\", \"4\"], \"type\": \"bar\", \"uid\": \"7118e2ec-f621-455f-9682-8f4f2c7a1433\"}], {\"autosize\": false, \"height\": 1000, \"width\": 1000, \"xaxis\": {\"tickfont\": {\"color\": \"black\", \"size\": 12}, \"title\": \"Feature Importances\"}, \"yaxis\": {\"automargin\": true}}, {\"showLink\": true, \"linkText\": \"Export to plot.ly\", \"plotlyServerURL\": \"https://plot.ly\"})});</script>"
      ]
     },
     "metadata": {},
     "output_type": "display_data"
    },
    {
     "name": "stdout",
     "output_type": "stream",
     "text": [
      "\n",
      "\n",
      "\u001b[1mAdaoost Classifier\u001b[0m\n",
      "Accuracy of the model for training data is: 0.938771146805\n",
      "Confusion Matrix for training data is:\n"
     ]
    },
    {
     "data": {
      "text/plain": [
       "Predicted  False  True  __all__\n",
       "Actual                         \n",
       "False      31031   861    31892\n",
       "True        1430  4095     5525\n",
       "__all__    32461  4956    37417"
      ]
     },
     "metadata": {},
     "output_type": "display_data"
    },
    {
     "name": "stdout",
     "output_type": "stream",
     "text": [
      "Accuracy of the model for test data is: 0.934573444516\n",
      "Confusion Matrix for test data is:\n"
     ]
    },
    {
     "data": {
      "text/plain": [
       "Predicted  False  True  __all__\n",
       "Actual                         \n",
       "False       7750   235     7985\n",
       "True         377   992     1369\n",
       "__all__     8127  1227     9354"
      ]
     },
     "metadata": {},
     "output_type": "display_data"
    },
    {
     "data": {
      "application/vnd.plotly.v1+json": {
       "config": {
        "linkText": "Export to plot.ly",
        "plotlyServerURL": "https://plot.ly",
        "showLink": true
       },
       "data": [
        {
         "marker": {
          "color": "rgb(158,202,225)",
          "line": {
           "color": "rgb(8,48,107)",
           "width": 1.5
          }
         },
         "opacity": 0.6,
         "orientation": "h",
         "text": [
          0.12,
          0.12,
          0.1,
          0.08,
          0.08,
          0.06,
          0.06,
          0.06,
          0.06,
          0.04,
          0.04,
          0.04,
          0.04,
          0.02,
          0.02,
          0.02,
          0.02,
          0.02,
          0,
          0
         ],
         "textposition": "outside",
         "type": "bar",
         "uid": "1dcffd0b-059a-4659-b7ba-604175a9bcbd",
         "x": [
          0.12,
          0.12,
          0.1,
          0.08,
          0.08,
          0.06,
          0.06,
          0.06,
          0.06,
          0.04,
          0.04,
          0.04,
          0.04,
          0.02,
          0.02,
          0.02,
          0.02,
          0.02,
          0,
          0
         ],
         "y": [
          "16",
          "15",
          "0",
          "8",
          "9",
          "18",
          "14",
          "19",
          "2",
          "7",
          "11",
          "12",
          "4",
          "6",
          "13",
          "5",
          "3",
          "17",
          "1",
          "10"
         ]
        }
       ],
       "layout": {
        "autosize": false,
        "height": 1000,
        "width": 1000,
        "xaxis": {
         "tickfont": {
          "color": "black",
          "size": 12
         },
         "title": "Feature Importances"
        },
        "yaxis": {
         "automargin": true
        }
       }
      },
      "text/html": [
       "<div id=\"faf1f93b-9083-4a6a-a249-42bff9de7cad\" style=\"height: 1000px; width: 1000px;\" class=\"plotly-graph-div\"></div><script type=\"text/javascript\">require([\"plotly\"], function(Plotly) { window.PLOTLYENV=window.PLOTLYENV || {};window.PLOTLYENV.BASE_URL=\"https://plot.ly\";Plotly.newPlot(\"faf1f93b-9083-4a6a-a249-42bff9de7cad\", [{\"marker\": {\"color\": \"rgb(158,202,225)\", \"line\": {\"color\": \"rgb(8,48,107)\", \"width\": 1.5}}, \"opacity\": 0.6, \"orientation\": \"h\", \"text\": [0.12, 0.12, 0.1, 0.08, 0.08, 0.06, 0.06, 0.06, 0.06, 0.04, 0.04, 0.04, 0.04, 0.02, 0.02, 0.02, 0.02, 0.02, 0.0, 0.0], \"textposition\": \"outside\", \"x\": [0.12, 0.12, 0.1, 0.08, 0.08, 0.06, 0.06, 0.06, 0.06, 0.04, 0.04, 0.04, 0.04, 0.02, 0.02, 0.02, 0.02, 0.02, 0.0, 0.0], \"y\": [\"16\", \"15\", \"0\", \"8\", \"9\", \"18\", \"14\", \"19\", \"2\", \"7\", \"11\", \"12\", \"4\", \"6\", \"13\", \"5\", \"3\", \"17\", \"1\", \"10\"], \"type\": \"bar\", \"uid\": \"1dcffd0b-059a-4659-b7ba-604175a9bcbd\"}], {\"autosize\": false, \"height\": 1000, \"width\": 1000, \"xaxis\": {\"tickfont\": {\"color\": \"black\", \"size\": 12}, \"title\": \"Feature Importances\"}, \"yaxis\": {\"automargin\": true}}, {\"showLink\": true, \"linkText\": \"Export to plot.ly\", \"plotlyServerURL\": \"https://plot.ly\"})});</script>"
      ],
      "text/vnd.plotly.v1+html": [
       "<div id=\"faf1f93b-9083-4a6a-a249-42bff9de7cad\" style=\"height: 1000px; width: 1000px;\" class=\"plotly-graph-div\"></div><script type=\"text/javascript\">require([\"plotly\"], function(Plotly) { window.PLOTLYENV=window.PLOTLYENV || {};window.PLOTLYENV.BASE_URL=\"https://plot.ly\";Plotly.newPlot(\"faf1f93b-9083-4a6a-a249-42bff9de7cad\", [{\"marker\": {\"color\": \"rgb(158,202,225)\", \"line\": {\"color\": \"rgb(8,48,107)\", \"width\": 1.5}}, \"opacity\": 0.6, \"orientation\": \"h\", \"text\": [0.12, 0.12, 0.1, 0.08, 0.08, 0.06, 0.06, 0.06, 0.06, 0.04, 0.04, 0.04, 0.04, 0.02, 0.02, 0.02, 0.02, 0.02, 0.0, 0.0], \"textposition\": \"outside\", \"x\": [0.12, 0.12, 0.1, 0.08, 0.08, 0.06, 0.06, 0.06, 0.06, 0.04, 0.04, 0.04, 0.04, 0.02, 0.02, 0.02, 0.02, 0.02, 0.0, 0.0], \"y\": [\"16\", \"15\", \"0\", \"8\", \"9\", \"18\", \"14\", \"19\", \"2\", \"7\", \"11\", \"12\", \"4\", \"6\", \"13\", \"5\", \"3\", \"17\", \"1\", \"10\"], \"type\": \"bar\", \"uid\": \"1dcffd0b-059a-4659-b7ba-604175a9bcbd\"}], {\"autosize\": false, \"height\": 1000, \"width\": 1000, \"xaxis\": {\"tickfont\": {\"color\": \"black\", \"size\": 12}, \"title\": \"Feature Importances\"}, \"yaxis\": {\"automargin\": true}}, {\"showLink\": true, \"linkText\": \"Export to plot.ly\", \"plotlyServerURL\": \"https://plot.ly\"})});</script>"
      ]
     },
     "metadata": {},
     "output_type": "display_data"
    },
    {
     "name": "stdout",
     "output_type": "stream",
     "text": [
      "\n",
      "\n",
      "\u001b[1mGradientBoosting Classifier\u001b[0m\n",
      "Accuracy of the model for training data is: 0.943154181255\n",
      "Confusion Matrix for training data is:\n"
     ]
    },
    {
     "data": {
      "text/plain": [
       "Predicted  False  True  __all__\n",
       "Actual                         \n",
       "False      31107   785    31892\n",
       "True        1342  4183     5525\n",
       "__all__    32449  4968    37417"
      ]
     },
     "metadata": {},
     "output_type": "display_data"
    },
    {
     "name": "stdout",
     "output_type": "stream",
     "text": [
      "Accuracy of the model for test data is: 0.938742783836\n",
      "Confusion Matrix for test data is:\n"
     ]
    },
    {
     "data": {
      "text/plain": [
       "Predicted  False  True  __all__\n",
       "Actual                         \n",
       "False       7773   212     7985\n",
       "True         361  1008     1369\n",
       "__all__     8134  1220     9354"
      ]
     },
     "metadata": {},
     "output_type": "display_data"
    },
    {
     "data": {
      "application/vnd.plotly.v1+json": {
       "config": {
        "linkText": "Export to plot.ly",
        "plotlyServerURL": "https://plot.ly",
        "showLink": true
       },
       "data": [
        {
         "marker": {
          "color": "rgb(158,202,225)",
          "line": {
           "color": "rgb(8,48,107)",
           "width": 1.5
          }
         },
         "opacity": 0.6,
         "orientation": "h",
         "text": [
          0.5552,
          0.1991,
          0.0504,
          0.0405,
          0.0341,
          0.0254,
          0.0178,
          0.0125,
          0.0078,
          0.0076,
          0.0076,
          0.0071,
          0.0065,
          0.0062,
          0.0049,
          0.0049,
          0.0047,
          0.0036,
          0.0032,
          0.0011
         ],
         "textposition": "outside",
         "type": "bar",
         "uid": "ff44587c-eb16-44dd-9428-d77d1c25b7b6",
         "x": [
          0.5551836669355048,
          0.19909749704558538,
          0.05041077815679019,
          0.040537867460292136,
          0.0340664964718665,
          0.025364897045858762,
          0.017759291009391862,
          0.012466361100875633,
          0.00783939503702542,
          0.007590534153693255,
          0.007558024676289193,
          0.007077003982640773,
          0.006460256193295331,
          0.006216167003839568,
          0.004859197915781741,
          0.004858247245495736,
          0.004684452129784369,
          0.003622775627661156,
          0.003245908241273123,
          0.0011011825670550388
         ],
         "y": [
          "16",
          "0",
          "12",
          "19",
          "13",
          "14",
          "15",
          "9",
          "3",
          "2",
          "8",
          "10",
          "18",
          "6",
          "5",
          "7",
          "4",
          "1",
          "17",
          "11"
         ]
        }
       ],
       "layout": {
        "autosize": false,
        "height": 1000,
        "width": 1000,
        "xaxis": {
         "tickfont": {
          "color": "black",
          "size": 12
         },
         "title": "Feature Importances"
        },
        "yaxis": {
         "automargin": true
        }
       }
      },
      "text/html": [
       "<div id=\"36490214-2cd2-4fef-952d-93ad2e2a6505\" style=\"height: 1000px; width: 1000px;\" class=\"plotly-graph-div\"></div><script type=\"text/javascript\">require([\"plotly\"], function(Plotly) { window.PLOTLYENV=window.PLOTLYENV || {};window.PLOTLYENV.BASE_URL=\"https://plot.ly\";Plotly.newPlot(\"36490214-2cd2-4fef-952d-93ad2e2a6505\", [{\"marker\": {\"color\": \"rgb(158,202,225)\", \"line\": {\"color\": \"rgb(8,48,107)\", \"width\": 1.5}}, \"opacity\": 0.6, \"orientation\": \"h\", \"text\": [0.5552, 0.1991, 0.0504, 0.0405, 0.0341, 0.0254, 0.0178, 0.0125, 0.0078, 0.0076, 0.0076, 0.0071, 0.0065, 0.0062, 0.0049, 0.0049, 0.0047, 0.0036, 0.0032, 0.0011], \"textposition\": \"outside\", \"x\": [0.5551836669355048, 0.19909749704558538, 0.05041077815679019, 0.040537867460292136, 0.0340664964718665, 0.025364897045858762, 0.017759291009391862, 0.012466361100875633, 0.00783939503702542, 0.007590534153693255, 0.007558024676289193, 0.007077003982640773, 0.006460256193295331, 0.006216167003839568, 0.004859197915781741, 0.004858247245495736, 0.004684452129784369, 0.003622775627661156, 0.003245908241273123, 0.0011011825670550388], \"y\": [\"16\", \"0\", \"12\", \"19\", \"13\", \"14\", \"15\", \"9\", \"3\", \"2\", \"8\", \"10\", \"18\", \"6\", \"5\", \"7\", \"4\", \"1\", \"17\", \"11\"], \"type\": \"bar\", \"uid\": \"ff44587c-eb16-44dd-9428-d77d1c25b7b6\"}], {\"autosize\": false, \"height\": 1000, \"width\": 1000, \"xaxis\": {\"tickfont\": {\"color\": \"black\", \"size\": 12}, \"title\": \"Feature Importances\"}, \"yaxis\": {\"automargin\": true}}, {\"showLink\": true, \"linkText\": \"Export to plot.ly\", \"plotlyServerURL\": \"https://plot.ly\"})});</script>"
      ],
      "text/vnd.plotly.v1+html": [
       "<div id=\"36490214-2cd2-4fef-952d-93ad2e2a6505\" style=\"height: 1000px; width: 1000px;\" class=\"plotly-graph-div\"></div><script type=\"text/javascript\">require([\"plotly\"], function(Plotly) { window.PLOTLYENV=window.PLOTLYENV || {};window.PLOTLYENV.BASE_URL=\"https://plot.ly\";Plotly.newPlot(\"36490214-2cd2-4fef-952d-93ad2e2a6505\", [{\"marker\": {\"color\": \"rgb(158,202,225)\", \"line\": {\"color\": \"rgb(8,48,107)\", \"width\": 1.5}}, \"opacity\": 0.6, \"orientation\": \"h\", \"text\": [0.5552, 0.1991, 0.0504, 0.0405, 0.0341, 0.0254, 0.0178, 0.0125, 0.0078, 0.0076, 0.0076, 0.0071, 0.0065, 0.0062, 0.0049, 0.0049, 0.0047, 0.0036, 0.0032, 0.0011], \"textposition\": \"outside\", \"x\": [0.5551836669355048, 0.19909749704558538, 0.05041077815679019, 0.040537867460292136, 0.0340664964718665, 0.025364897045858762, 0.017759291009391862, 0.012466361100875633, 0.00783939503702542, 0.007590534153693255, 0.007558024676289193, 0.007077003982640773, 0.006460256193295331, 0.006216167003839568, 0.004859197915781741, 0.004858247245495736, 0.004684452129784369, 0.003622775627661156, 0.003245908241273123, 0.0011011825670550388], \"y\": [\"16\", \"0\", \"12\", \"19\", \"13\", \"14\", \"15\", \"9\", \"3\", \"2\", \"8\", \"10\", \"18\", \"6\", \"5\", \"7\", \"4\", \"1\", \"17\", \"11\"], \"type\": \"bar\", \"uid\": \"ff44587c-eb16-44dd-9428-d77d1c25b7b6\"}], {\"autosize\": false, \"height\": 1000, \"width\": 1000, \"xaxis\": {\"tickfont\": {\"color\": \"black\", \"size\": 12}, \"title\": \"Feature Importances\"}, \"yaxis\": {\"automargin\": true}}, {\"showLink\": true, \"linkText\": \"Export to plot.ly\", \"plotlyServerURL\": \"https://plot.ly\"})});</script>"
      ]
     },
     "metadata": {},
     "output_type": "display_data"
    },
    {
     "name": "stdout",
     "output_type": "stream",
     "text": [
      "\n",
      "\n",
      "\u001b[1mExtraTree Classifier\u001b[0m\n",
      "Accuracy of the model for training data is: 0.947430312425\n",
      "Confusion Matrix for training data is:\n"
     ]
    },
    {
     "data": {
      "text/plain": [
       "Predicted  False  True  __all__\n",
       "Actual                         \n",
       "False      31200   692    31892\n",
       "True        1275  4250     5525\n",
       "__all__    32475  4942    37417"
      ]
     },
     "metadata": {},
     "output_type": "display_data"
    },
    {
     "name": "stdout",
     "output_type": "stream",
     "text": [
      "Accuracy of the model for test data is: 0.938742783836\n",
      "Confusion Matrix for test data is:\n"
     ]
    },
    {
     "data": {
      "text/plain": [
       "Predicted  False  True  __all__\n",
       "Actual                         \n",
       "False       7771   214     7985\n",
       "True         359  1010     1369\n",
       "__all__     8130  1224     9354"
      ]
     },
     "metadata": {},
     "output_type": "display_data"
    },
    {
     "data": {
      "application/vnd.plotly.v1+json": {
       "config": {
        "linkText": "Export to plot.ly",
        "plotlyServerURL": "https://plot.ly",
        "showLink": true
       },
       "data": [
        {
         "marker": {
          "color": "rgb(158,202,225)",
          "line": {
           "color": "rgb(8,48,107)",
           "width": 1.5
          }
         },
         "opacity": 0.6,
         "orientation": "h",
         "text": [
          0.1341,
          0.1118,
          0.0942,
          0.0791,
          0.057,
          0.0546,
          0.0539,
          0.0504,
          0.0456,
          0.0419,
          0.039,
          0.0379,
          0.0355,
          0.0337,
          0.027,
          0.0253,
          0.0241,
          0.0219,
          0.0199,
          0.0131
         ],
         "textposition": "outside",
         "type": "bar",
         "uid": "aa27a487-3acb-4b21-9bdd-2df12b7d4771",
         "x": [
          0.1340562707516752,
          0.11178827647175593,
          0.09419946393986171,
          0.07909942331541785,
          0.056967025867509236,
          0.05462941851123091,
          0.05387414489766209,
          0.05038902510664058,
          0.045577123435717556,
          0.04194954983127435,
          0.03900270267016324,
          0.03790179001499546,
          0.035490798884752275,
          0.03373740447065954,
          0.027035281938265848,
          0.025264235606704342,
          0.024140964017580216,
          0.021868512787022516,
          0.01992937447839729,
          0.013099213002713824
         ],
         "y": [
          "0",
          "9",
          "1",
          "14",
          "10",
          "13",
          "2",
          "6",
          "16",
          "12",
          "17",
          "5",
          "11",
          "15",
          "18",
          "3",
          "8",
          "19",
          "4",
          "7"
         ]
        }
       ],
       "layout": {
        "autosize": false,
        "height": 1000,
        "width": 1000,
        "xaxis": {
         "tickfont": {
          "color": "black",
          "size": 12
         },
         "title": "Feature Importances"
        },
        "yaxis": {
         "automargin": true
        }
       }
      },
      "text/html": [
       "<div id=\"d6baac85-db01-4972-ae0f-789d6db2be30\" style=\"height: 1000px; width: 1000px;\" class=\"plotly-graph-div\"></div><script type=\"text/javascript\">require([\"plotly\"], function(Plotly) { window.PLOTLYENV=window.PLOTLYENV || {};window.PLOTLYENV.BASE_URL=\"https://plot.ly\";Plotly.newPlot(\"d6baac85-db01-4972-ae0f-789d6db2be30\", [{\"marker\": {\"color\": \"rgb(158,202,225)\", \"line\": {\"color\": \"rgb(8,48,107)\", \"width\": 1.5}}, \"opacity\": 0.6, \"orientation\": \"h\", \"text\": [0.1341, 0.1118, 0.0942, 0.0791, 0.057, 0.0546, 0.0539, 0.0504, 0.0456, 0.0419, 0.039, 0.0379, 0.0355, 0.0337, 0.027, 0.0253, 0.0241, 0.0219, 0.0199, 0.0131], \"textposition\": \"outside\", \"x\": [0.1340562707516752, 0.11178827647175593, 0.09419946393986171, 0.07909942331541785, 0.056967025867509236, 0.05462941851123091, 0.05387414489766209, 0.05038902510664058, 0.045577123435717556, 0.04194954983127435, 0.03900270267016324, 0.03790179001499546, 0.035490798884752275, 0.03373740447065954, 0.027035281938265848, 0.025264235606704342, 0.024140964017580216, 0.021868512787022516, 0.01992937447839729, 0.013099213002713824], \"y\": [\"0\", \"9\", \"1\", \"14\", \"10\", \"13\", \"2\", \"6\", \"16\", \"12\", \"17\", \"5\", \"11\", \"15\", \"18\", \"3\", \"8\", \"19\", \"4\", \"7\"], \"type\": \"bar\", \"uid\": \"aa27a487-3acb-4b21-9bdd-2df12b7d4771\"}], {\"autosize\": false, \"height\": 1000, \"width\": 1000, \"xaxis\": {\"tickfont\": {\"color\": \"black\", \"size\": 12}, \"title\": \"Feature Importances\"}, \"yaxis\": {\"automargin\": true}}, {\"showLink\": true, \"linkText\": \"Export to plot.ly\", \"plotlyServerURL\": \"https://plot.ly\"})});</script>"
      ],
      "text/vnd.plotly.v1+html": [
       "<div id=\"d6baac85-db01-4972-ae0f-789d6db2be30\" style=\"height: 1000px; width: 1000px;\" class=\"plotly-graph-div\"></div><script type=\"text/javascript\">require([\"plotly\"], function(Plotly) { window.PLOTLYENV=window.PLOTLYENV || {};window.PLOTLYENV.BASE_URL=\"https://plot.ly\";Plotly.newPlot(\"d6baac85-db01-4972-ae0f-789d6db2be30\", [{\"marker\": {\"color\": \"rgb(158,202,225)\", \"line\": {\"color\": \"rgb(8,48,107)\", \"width\": 1.5}}, \"opacity\": 0.6, \"orientation\": \"h\", \"text\": [0.1341, 0.1118, 0.0942, 0.0791, 0.057, 0.0546, 0.0539, 0.0504, 0.0456, 0.0419, 0.039, 0.0379, 0.0355, 0.0337, 0.027, 0.0253, 0.0241, 0.0219, 0.0199, 0.0131], \"textposition\": \"outside\", \"x\": [0.1340562707516752, 0.11178827647175593, 0.09419946393986171, 0.07909942331541785, 0.056967025867509236, 0.05462941851123091, 0.05387414489766209, 0.05038902510664058, 0.045577123435717556, 0.04194954983127435, 0.03900270267016324, 0.03790179001499546, 0.035490798884752275, 0.03373740447065954, 0.027035281938265848, 0.025264235606704342, 0.024140964017580216, 0.021868512787022516, 0.01992937447839729, 0.013099213002713824], \"y\": [\"0\", \"9\", \"1\", \"14\", \"10\", \"13\", \"2\", \"6\", \"16\", \"12\", \"17\", \"5\", \"11\", \"15\", \"18\", \"3\", \"8\", \"19\", \"4\", \"7\"], \"type\": \"bar\", \"uid\": \"aa27a487-3acb-4b21-9bdd-2df12b7d4771\"}], {\"autosize\": false, \"height\": 1000, \"width\": 1000, \"xaxis\": {\"tickfont\": {\"color\": \"black\", \"size\": 12}, \"title\": \"Feature Importances\"}, \"yaxis\": {\"automargin\": true}}, {\"showLink\": true, \"linkText\": \"Export to plot.ly\", \"plotlyServerURL\": \"https://plot.ly\"})});</script>"
      ]
     },
     "metadata": {},
     "output_type": "display_data"
    },
    {
     "name": "stdout",
     "output_type": "stream",
     "text": [
      "\n",
      "\n",
      "\u001b[1mBagging Classifier\u001b[0m\n",
      "Accuracy of the model for training data is: 0.947029425128\n",
      "Confusion Matrix for training data is:\n"
     ]
    },
    {
     "data": {
      "text/plain": [
       "Predicted  False  True  __all__\n",
       "Actual                         \n",
       "False      31214   678    31892\n",
       "True        1304  4221     5525\n",
       "__all__    32518  4899    37417"
      ]
     },
     "metadata": {},
     "output_type": "display_data"
    },
    {
     "name": "stdout",
     "output_type": "stream",
     "text": [
      "Accuracy of the model for test data is: 0.9398118452\n",
      "Confusion Matrix for test data is:\n"
     ]
    },
    {
     "data": {
      "text/plain": [
       "Predicted  False  True  __all__\n",
       "Actual                         \n",
       "False       7784   201     7985\n",
       "True         362  1007     1369\n",
       "__all__     8146  1208     9354"
      ]
     },
     "metadata": {},
     "output_type": "display_data"
    },
    {
     "name": "stdout",
     "output_type": "stream",
     "text": [
      "\n",
      "\n",
      "\u001b[1mNeural Network-1\u001b[0m\n",
      "The accuracy of the model on training data is: 0.943100729616\n"
     ]
    },
    {
     "data": {
      "text/plain": [
       "Predicted  False  True  __all__\n",
       "Actual                         \n",
       "False      31103   789    31892\n",
       "True        1340  4185     5525\n",
       "__all__    32443  4974    37417"
      ]
     },
     "metadata": {},
     "output_type": "display_data"
    },
    {
     "name": "stdout",
     "output_type": "stream",
     "text": [
      "The accuracy of the model on test data is: 0.939491126791\n"
     ]
    },
    {
     "data": {
      "text/plain": [
       "Predicted  False  True  __all__\n",
       "Actual                         \n",
       "False       7774   211     7985\n",
       "True         355  1014     1369\n",
       "__all__     8129  1225     9354"
      ]
     },
     "metadata": {},
     "output_type": "display_data"
    },
    {
     "name": "stdout",
     "output_type": "stream",
     "text": [
      "\n",
      "\n"
     ]
    }
   ],
   "source": [
    "feat_imp=[None]*4\n",
    "j=0\n",
    "for i in range(0,8):\n",
    "    if i>=2 and i<=5:\n",
    "        model,cm_train,cm_test,acc_train,acc_test,roc_auc,feat_imp[j],mcc=f[i](X_train,Y_train,X_test,Y_test,np.arange(0,20).astype(str))\n",
    "        j=j+1\n",
    "    else:\n",
    "        model,cm_train,cm_test,acc_train,acc_test,roc_auc,mcc=f[i](X_train,Y_train,X_test,Y_test)\n",
    "    table_80_70_train.loc[i]=   ([acc_train,cm_train.TP,cm_train.TN,cm_train.FP,cm_train.FN,cm_train.FPR,cm_train.FNR])\n",
    "    table_80_70_test.loc[i] =   ([acc_test ,cm_test.TP, cm_test.TN, cm_test.FP, cm_test.FN, cm_test.FPR, cm_test.FNR,roc_auc,mcc])\n",
    "    print(\"\\n\")"
   ]
  },
  {
   "cell_type": "markdown",
   "metadata": {},
   "source": [
    "### <a id='5.A' style=\"text-decoration : none; color : #000000;\"> A. Results</a>"
   ]
  },
  {
   "cell_type": "code",
   "execution_count": 63,
   "metadata": {},
   "outputs": [
    {
     "data": {
      "application/vnd.plotly.v1+json": {
       "config": {
        "linkText": "Export to plot.ly",
        "plotlyServerURL": "https://plot.ly",
        "showLink": true
       },
       "data": [
        {
         "mode": "lines",
         "name": "KNN_model",
         "type": "scatter",
         "uid": "1937d9e9-b9df-4e20-b29e-4b76fd0dff0c",
         "x": [
          "accuracy",
          "FPR",
          "FNR",
          "auc"
         ],
         "y": [
          0.9348941629249519,
          0.028303068252974326,
          0.27976625273922573,
          0.8459653395039
         ]
        },
        {
         "mode": "lines+markers",
         "name": "Logistic Regression",
         "type": "scatter",
         "uid": "98c98559-6c93-463c-9941-d6616b46c981",
         "x": [
          "accuracy",
          "FPR",
          "FNR",
          "auc"
         ],
         "y": [
          0.9323284156510584,
          0.019536631183469006,
          0.34842951059167276,
          0.8160169291124291
         ]
        },
        {
         "marker": {
          "symbol": "x"
         },
         "mode": "lines+markers",
         "name": "Random Forest",
         "type": "scatter",
         "uid": "e9c54679-cfb1-4bd1-9e13-046d84d499b7",
         "x": [
          "accuracy",
          "FPR",
          "FNR",
          "auc"
         ],
         "y": [
          0.9399187513363267,
          0.026800250469630558,
          0.254200146092038,
          0.8594998017191657
         ]
        },
        {
         "mode": "lines",
         "name": "Ada Boost",
         "type": "scatter",
         "uid": "3615936f-f7bf-4bfd-9d38-b6add6bb21f4",
         "x": [
          "accuracy",
          "FPR",
          "FNR",
          "auc"
         ],
         "y": [
          0.9345734445157152,
          0.029430181590482152,
          0.2753834915997078,
          0.847593163404905
         ]
        },
        {
         "mode": "lines+markers",
         "name": "GradientBoosting",
         "type": "scatter",
         "uid": "5420efc3-08e0-4bee-9e5d-ffa041015e68",
         "x": [
          "accuracy",
          "FPR",
          "FNR",
          "auc"
         ],
         "y": [
          0.9387427838357921,
          0.02654978083907326,
          0.26369612856099345,
          0.8548770452999667
         ]
        },
        {
         "marker": {
          "symbol": "x"
         },
         "mode": "lines+markers",
         "name": "ExtraTree Classifier",
         "type": "scatter",
         "uid": "f02dea6f-c01a-46e8-972f-39828d0c41f8",
         "x": [
          "accuracy",
          "FPR",
          "FNR",
          "auc"
         ],
         "y": [
          0.9387427838357921,
          0.026800250469630558,
          0.26223520818115414,
          0.8554822706746078
         ]
        },
        {
         "marker": {
          "symbol": "x"
         },
         "mode": "lines+markers",
         "name": "Bagging",
         "type": "scatter",
         "uid": "3e67ba39-812c-4faf-a443-7f506f103517",
         "x": [
          "accuracy",
          "FPR",
          "FNR",
          "auc"
         ],
         "y": [
          0.9398118451999145,
          0.02517219787100814,
          0.26442658875091307,
          0.8552006066890393
         ]
        },
        {
         "marker": {
          "symbol": "x"
         },
         "mode": "lines+markers",
         "name": "Neural Network",
         "type": "scatter",
         "uid": "33c3cfe7-7da2-44c4-ac6b-5e42d07f1e6b",
         "x": [
          "accuracy",
          "FPR",
          "FNR",
          "auc"
         ],
         "y": [
          0.9394911267906778,
          0.026424546023794616,
          0.25931336742147554,
          0.8552006066890393
         ]
        }
       ],
       "layout": {
        "title": "Result comparision for Features selected in Section 1",
        "yaxis": {
         "dtick": 0.05,
         "tick0": 0
        }
       }
      },
      "text/html": [
       "<div id=\"3be408cb-2968-49b8-95eb-98adaf0f8deb\" style=\"height: 525px; width: 100%;\" class=\"plotly-graph-div\"></div><script type=\"text/javascript\">require([\"plotly\"], function(Plotly) { window.PLOTLYENV=window.PLOTLYENV || {};window.PLOTLYENV.BASE_URL=\"https://plot.ly\";Plotly.newPlot(\"3be408cb-2968-49b8-95eb-98adaf0f8deb\", [{\"mode\": \"lines\", \"name\": \"KNN_model\", \"x\": [\"accuracy\", \"FPR\", \"FNR\", \"auc\"], \"y\": [0.9348941629249519, 0.028303068252974326, 0.27976625273922573, 0.8459653395039], \"type\": \"scatter\", \"uid\": \"1937d9e9-b9df-4e20-b29e-4b76fd0dff0c\"}, {\"mode\": \"lines+markers\", \"name\": \"Logistic Regression\", \"x\": [\"accuracy\", \"FPR\", \"FNR\", \"auc\"], \"y\": [0.9323284156510584, 0.019536631183469006, 0.34842951059167276, 0.8160169291124291], \"type\": \"scatter\", \"uid\": \"98c98559-6c93-463c-9941-d6616b46c981\"}, {\"marker\": {\"symbol\": \"x\"}, \"mode\": \"lines+markers\", \"name\": \"Random Forest\", \"x\": [\"accuracy\", \"FPR\", \"FNR\", \"auc\"], \"y\": [0.9399187513363267, 0.026800250469630558, 0.254200146092038, 0.8594998017191657], \"type\": \"scatter\", \"uid\": \"e9c54679-cfb1-4bd1-9e13-046d84d499b7\"}, {\"mode\": \"lines\", \"name\": \"Ada Boost\", \"x\": [\"accuracy\", \"FPR\", \"FNR\", \"auc\"], \"y\": [0.9345734445157152, 0.029430181590482152, 0.2753834915997078, 0.847593163404905], \"type\": \"scatter\", \"uid\": \"3615936f-f7bf-4bfd-9d38-b6add6bb21f4\"}, {\"mode\": \"lines+markers\", \"name\": \"GradientBoosting\", \"x\": [\"accuracy\", \"FPR\", \"FNR\", \"auc\"], \"y\": [0.9387427838357921, 0.02654978083907326, 0.26369612856099345, 0.8548770452999667], \"type\": \"scatter\", \"uid\": \"5420efc3-08e0-4bee-9e5d-ffa041015e68\"}, {\"marker\": {\"symbol\": \"x\"}, \"mode\": \"lines+markers\", \"name\": \"ExtraTree Classifier\", \"x\": [\"accuracy\", \"FPR\", \"FNR\", \"auc\"], \"y\": [0.9387427838357921, 0.026800250469630558, 0.26223520818115414, 0.8554822706746078], \"type\": \"scatter\", \"uid\": \"f02dea6f-c01a-46e8-972f-39828d0c41f8\"}, {\"marker\": {\"symbol\": \"x\"}, \"mode\": \"lines+markers\", \"name\": \"Bagging\", \"x\": [\"accuracy\", \"FPR\", \"FNR\", \"auc\"], \"y\": [0.9398118451999145, 0.02517219787100814, 0.26442658875091307, 0.8552006066890393], \"type\": \"scatter\", \"uid\": \"3e67ba39-812c-4faf-a443-7f506f103517\"}, {\"marker\": {\"symbol\": \"x\"}, \"mode\": \"lines+markers\", \"name\": \"Neural Network\", \"x\": [\"accuracy\", \"FPR\", \"FNR\", \"auc\"], \"y\": [0.9394911267906778, 0.026424546023794616, 0.25931336742147554, 0.8552006066890393], \"type\": \"scatter\", \"uid\": \"33c3cfe7-7da2-44c4-ac6b-5e42d07f1e6b\"}], {\"title\": \"Result comparision for Features selected in Section 1\", \"yaxis\": {\"dtick\": 0.05, \"tick0\": 0}}, {\"showLink\": true, \"linkText\": \"Export to plot.ly\", \"plotlyServerURL\": \"https://plot.ly\"})});</script><script type=\"text/javascript\">window.addEventListener(\"resize\", function(){window._Plotly.Plots.resize(document.getElementById(\"3be408cb-2968-49b8-95eb-98adaf0f8deb\"));});</script>"
      ],
      "text/vnd.plotly.v1+html": [
       "<div id=\"3be408cb-2968-49b8-95eb-98adaf0f8deb\" style=\"height: 525px; width: 100%;\" class=\"plotly-graph-div\"></div><script type=\"text/javascript\">require([\"plotly\"], function(Plotly) { window.PLOTLYENV=window.PLOTLYENV || {};window.PLOTLYENV.BASE_URL=\"https://plot.ly\";Plotly.newPlot(\"3be408cb-2968-49b8-95eb-98adaf0f8deb\", [{\"mode\": \"lines\", \"name\": \"KNN_model\", \"x\": [\"accuracy\", \"FPR\", \"FNR\", \"auc\"], \"y\": [0.9348941629249519, 0.028303068252974326, 0.27976625273922573, 0.8459653395039], \"type\": \"scatter\", \"uid\": \"1937d9e9-b9df-4e20-b29e-4b76fd0dff0c\"}, {\"mode\": \"lines+markers\", \"name\": \"Logistic Regression\", \"x\": [\"accuracy\", \"FPR\", \"FNR\", \"auc\"], \"y\": [0.9323284156510584, 0.019536631183469006, 0.34842951059167276, 0.8160169291124291], \"type\": \"scatter\", \"uid\": \"98c98559-6c93-463c-9941-d6616b46c981\"}, {\"marker\": {\"symbol\": \"x\"}, \"mode\": \"lines+markers\", \"name\": \"Random Forest\", \"x\": [\"accuracy\", \"FPR\", \"FNR\", \"auc\"], \"y\": [0.9399187513363267, 0.026800250469630558, 0.254200146092038, 0.8594998017191657], \"type\": \"scatter\", \"uid\": \"e9c54679-cfb1-4bd1-9e13-046d84d499b7\"}, {\"mode\": \"lines\", \"name\": \"Ada Boost\", \"x\": [\"accuracy\", \"FPR\", \"FNR\", \"auc\"], \"y\": [0.9345734445157152, 0.029430181590482152, 0.2753834915997078, 0.847593163404905], \"type\": \"scatter\", \"uid\": \"3615936f-f7bf-4bfd-9d38-b6add6bb21f4\"}, {\"mode\": \"lines+markers\", \"name\": \"GradientBoosting\", \"x\": [\"accuracy\", \"FPR\", \"FNR\", \"auc\"], \"y\": [0.9387427838357921, 0.02654978083907326, 0.26369612856099345, 0.8548770452999667], \"type\": \"scatter\", \"uid\": \"5420efc3-08e0-4bee-9e5d-ffa041015e68\"}, {\"marker\": {\"symbol\": \"x\"}, \"mode\": \"lines+markers\", \"name\": \"ExtraTree Classifier\", \"x\": [\"accuracy\", \"FPR\", \"FNR\", \"auc\"], \"y\": [0.9387427838357921, 0.026800250469630558, 0.26223520818115414, 0.8554822706746078], \"type\": \"scatter\", \"uid\": \"f02dea6f-c01a-46e8-972f-39828d0c41f8\"}, {\"marker\": {\"symbol\": \"x\"}, \"mode\": \"lines+markers\", \"name\": \"Bagging\", \"x\": [\"accuracy\", \"FPR\", \"FNR\", \"auc\"], \"y\": [0.9398118451999145, 0.02517219787100814, 0.26442658875091307, 0.8552006066890393], \"type\": \"scatter\", \"uid\": \"3e67ba39-812c-4faf-a443-7f506f103517\"}, {\"marker\": {\"symbol\": \"x\"}, \"mode\": \"lines+markers\", \"name\": \"Neural Network\", \"x\": [\"accuracy\", \"FPR\", \"FNR\", \"auc\"], \"y\": [0.9394911267906778, 0.026424546023794616, 0.25931336742147554, 0.8552006066890393], \"type\": \"scatter\", \"uid\": \"33c3cfe7-7da2-44c4-ac6b-5e42d07f1e6b\"}], {\"title\": \"Result comparision for Features selected in Section 1\", \"yaxis\": {\"dtick\": 0.05, \"tick0\": 0}}, {\"showLink\": true, \"linkText\": \"Export to plot.ly\", \"plotlyServerURL\": \"https://plot.ly\"})});</script><script type=\"text/javascript\">window.addEventListener(\"resize\", function(){window._Plotly.Plots.resize(document.getElementById(\"3be408cb-2968-49b8-95eb-98adaf0f8deb\"));});</script>"
      ]
     },
     "metadata": {},
     "output_type": "display_data"
    }
   ],
   "source": [
    "trace0 = go.Scatter(x=table_80_70_test.iloc[0].index.values[[0,5,6,7]],\n",
    "                    y=table_80_70_test.iloc[0].values[[0,5,6,7]],\n",
    "                    mode = 'lines',\n",
    "                    name = 'KNN_model')\n",
    "\n",
    "trace1 = go.Scatter(x=table_80_70_test.iloc[1].index.values[[0,5,6,7]],\n",
    "                    y=table_80_70_test.iloc[1].values[[0,5,6,7]],\n",
    "                    mode = 'lines+markers',\n",
    "                    name = 'Logistic Regression')\n",
    "\n",
    "trace2 = go.Scatter(x=table_80_70_test.iloc[2].index.values[[0,5,6,7]],\n",
    "                    y=table_80_70_test.iloc[2].values[[0,5,6,7]],\n",
    "                    mode = 'lines+markers',marker=dict(symbol='x'),\n",
    "                    name = 'Random Forest')\n",
    "\n",
    "\n",
    "trace3 = go.Scatter(x=table_80_70_test.iloc[3].index.values[[0,5,6,7]],\n",
    "                    y=table_80_70_test.iloc[3].values[[0,5,6,7]],\n",
    "                    mode = 'lines',\n",
    "                    name = 'Ada Boost')\n",
    "\n",
    "trace4 = go.Scatter(x=table_80_70_test.iloc[4].index.values[[0,5,6,7]],\n",
    "                    y=table_80_70_test.iloc[4].values[[0,5,6,7]],\n",
    "                    mode = 'lines+markers',\n",
    "                    name = 'GradientBoosting')\n",
    "\n",
    "trace5 = go.Scatter(x=table_80_70_test.iloc[5].index.values[[0,5,6,7]],\n",
    "                    y=table_80_70_test.iloc[5].values[[0,5,6,7]],\n",
    "                    mode = 'lines+markers',marker=dict(symbol='x'),\n",
    "                    name = 'ExtraTree Classifier')\n",
    "\n",
    "trace6 = go.Scatter(x=table_80_70_test.iloc[6].index.values[[0,5,6,7]],\n",
    "                    y=table_80_70_test.iloc[6].values[[0,5,6,7]],\n",
    "                    mode = 'lines+markers',marker=dict(symbol='x'),\n",
    "                    name = 'Bagging')\n",
    "\n",
    "trace7 = go.Scatter(x=table_80_70_test.iloc[7].index.values[[0,5,6,7]],\n",
    "                    y=table_80_70_test.iloc[7].values[[0,5,6,7]],\n",
    "                    mode = 'lines+markers',marker=dict(symbol='x'),\n",
    "                    name = 'Neural Network')\n",
    "\n",
    "\n",
    "\n",
    "data = [trace0, trace1, trace2, trace3, trace4, trace5, trace6, trace7]\n",
    "layout = go.Layout(yaxis=dict(tick0=0,dtick=0.05),title='Result comparision for Features selected in Section 1')\n",
    "fig = go.Figure(data=data, layout=layout)\n",
    "\n",
    "iplot(fig, filename='Result')"
   ]
  },
  {
   "cell_type": "code",
   "execution_count": 64,
   "metadata": {},
   "outputs": [
    {
     "name": "stdout",
     "output_type": "stream",
     "text": [
      "Training Results\n"
     ]
    },
    {
     "data": {
      "text/html": [
       "<div>\n",
       "<style scoped>\n",
       "    .dataframe tbody tr th:only-of-type {\n",
       "        vertical-align: middle;\n",
       "    }\n",
       "\n",
       "    .dataframe tbody tr th {\n",
       "        vertical-align: top;\n",
       "    }\n",
       "\n",
       "    .dataframe thead th {\n",
       "        text-align: right;\n",
       "    }\n",
       "</style>\n",
       "<table border=\"1\" class=\"dataframe\">\n",
       "  <thead>\n",
       "    <tr style=\"text-align: right;\">\n",
       "      <th></th>\n",
       "      <th>accuracy</th>\n",
       "      <th>TP</th>\n",
       "      <th>TN</th>\n",
       "      <th>FP</th>\n",
       "      <th>FN</th>\n",
       "      <th>FPR</th>\n",
       "      <th>FNR</th>\n",
       "    </tr>\n",
       "    <tr>\n",
       "      <th>index</th>\n",
       "      <th></th>\n",
       "      <th></th>\n",
       "      <th></th>\n",
       "      <th></th>\n",
       "      <th></th>\n",
       "      <th></th>\n",
       "      <th></th>\n",
       "    </tr>\n",
       "  </thead>\n",
       "  <tbody>\n",
       "    <tr>\n",
       "      <th>KNeighborsClassifier</th>\n",
       "      <td>0.940936</td>\n",
       "      <td>4084.0</td>\n",
       "      <td>31123.0</td>\n",
       "      <td>769.0</td>\n",
       "      <td>1441.0</td>\n",
       "      <td>0.024113</td>\n",
       "      <td>0.260814</td>\n",
       "    </tr>\n",
       "    <tr>\n",
       "      <th>LogisticRegression</th>\n",
       "      <td>0.934174</td>\n",
       "      <td>3674.0</td>\n",
       "      <td>31280.0</td>\n",
       "      <td>612.0</td>\n",
       "      <td>1851.0</td>\n",
       "      <td>0.019190</td>\n",
       "      <td>0.335023</td>\n",
       "    </tr>\n",
       "    <tr>\n",
       "      <th>RandomForestClassifier</th>\n",
       "      <td>0.947190</td>\n",
       "      <td>4264.0</td>\n",
       "      <td>31177.0</td>\n",
       "      <td>715.0</td>\n",
       "      <td>1261.0</td>\n",
       "      <td>0.022419</td>\n",
       "      <td>0.228235</td>\n",
       "    </tr>\n",
       "    <tr>\n",
       "      <th>AdaBoostClassifier</th>\n",
       "      <td>0.938771</td>\n",
       "      <td>4095.0</td>\n",
       "      <td>31031.0</td>\n",
       "      <td>861.0</td>\n",
       "      <td>1430.0</td>\n",
       "      <td>0.026997</td>\n",
       "      <td>0.258824</td>\n",
       "    </tr>\n",
       "    <tr>\n",
       "      <th>GradientBoostingClassifier</th>\n",
       "      <td>0.943154</td>\n",
       "      <td>4183.0</td>\n",
       "      <td>31107.0</td>\n",
       "      <td>785.0</td>\n",
       "      <td>1342.0</td>\n",
       "      <td>0.024614</td>\n",
       "      <td>0.242896</td>\n",
       "    </tr>\n",
       "    <tr>\n",
       "      <th>ExtraTreeClassifier</th>\n",
       "      <td>0.947430</td>\n",
       "      <td>4250.0</td>\n",
       "      <td>31200.0</td>\n",
       "      <td>692.0</td>\n",
       "      <td>1275.0</td>\n",
       "      <td>0.021698</td>\n",
       "      <td>0.230769</td>\n",
       "    </tr>\n",
       "    <tr>\n",
       "      <th>BaggingClassifier</th>\n",
       "      <td>0.947029</td>\n",
       "      <td>4221.0</td>\n",
       "      <td>31214.0</td>\n",
       "      <td>678.0</td>\n",
       "      <td>1304.0</td>\n",
       "      <td>0.021259</td>\n",
       "      <td>0.236018</td>\n",
       "    </tr>\n",
       "    <tr>\n",
       "      <th>Neural Network-1</th>\n",
       "      <td>0.943101</td>\n",
       "      <td>4185.0</td>\n",
       "      <td>31103.0</td>\n",
       "      <td>789.0</td>\n",
       "      <td>1340.0</td>\n",
       "      <td>0.024740</td>\n",
       "      <td>0.242534</td>\n",
       "    </tr>\n",
       "  </tbody>\n",
       "</table>\n",
       "</div>"
      ],
      "text/plain": [
       "                            accuracy      TP       TN     FP      FN  \\\n",
       "index                                                                  \n",
       "KNeighborsClassifier        0.940936  4084.0  31123.0  769.0  1441.0   \n",
       "LogisticRegression          0.934174  3674.0  31280.0  612.0  1851.0   \n",
       "RandomForestClassifier      0.947190  4264.0  31177.0  715.0  1261.0   \n",
       "AdaBoostClassifier          0.938771  4095.0  31031.0  861.0  1430.0   \n",
       "GradientBoostingClassifier  0.943154  4183.0  31107.0  785.0  1342.0   \n",
       "ExtraTreeClassifier         0.947430  4250.0  31200.0  692.0  1275.0   \n",
       "BaggingClassifier           0.947029  4221.0  31214.0  678.0  1304.0   \n",
       "Neural Network-1            0.943101  4185.0  31103.0  789.0  1340.0   \n",
       "\n",
       "                                 FPR       FNR  \n",
       "index                                           \n",
       "KNeighborsClassifier        0.024113  0.260814  \n",
       "LogisticRegression          0.019190  0.335023  \n",
       "RandomForestClassifier      0.022419  0.228235  \n",
       "AdaBoostClassifier          0.026997  0.258824  \n",
       "GradientBoostingClassifier  0.024614  0.242896  \n",
       "ExtraTreeClassifier         0.021698  0.230769  \n",
       "BaggingClassifier           0.021259  0.236018  \n",
       "Neural Network-1            0.024740  0.242534  "
      ]
     },
     "metadata": {},
     "output_type": "display_data"
    },
    {
     "name": "stdout",
     "output_type": "stream",
     "text": [
      "Test Results\n"
     ]
    },
    {
     "data": {
      "text/html": [
       "<div>\n",
       "<style scoped>\n",
       "    .dataframe tbody tr th:only-of-type {\n",
       "        vertical-align: middle;\n",
       "    }\n",
       "\n",
       "    .dataframe tbody tr th {\n",
       "        vertical-align: top;\n",
       "    }\n",
       "\n",
       "    .dataframe thead th {\n",
       "        text-align: right;\n",
       "    }\n",
       "</style>\n",
       "<table border=\"1\" class=\"dataframe\">\n",
       "  <thead>\n",
       "    <tr style=\"text-align: right;\">\n",
       "      <th></th>\n",
       "      <th>accuracy</th>\n",
       "      <th>TP</th>\n",
       "      <th>TN</th>\n",
       "      <th>FP</th>\n",
       "      <th>FN</th>\n",
       "      <th>FPR</th>\n",
       "      <th>FNR</th>\n",
       "      <th>auc</th>\n",
       "      <th>mcc</th>\n",
       "    </tr>\n",
       "    <tr>\n",
       "      <th>index</th>\n",
       "      <th></th>\n",
       "      <th></th>\n",
       "      <th></th>\n",
       "      <th></th>\n",
       "      <th></th>\n",
       "      <th></th>\n",
       "      <th></th>\n",
       "      <th></th>\n",
       "      <th></th>\n",
       "    </tr>\n",
       "  </thead>\n",
       "  <tbody>\n",
       "    <tr>\n",
       "      <th>KNeighborsClassifier</th>\n",
       "      <td>0.934894</td>\n",
       "      <td>986.0</td>\n",
       "      <td>7759.0</td>\n",
       "      <td>226.0</td>\n",
       "      <td>383.0</td>\n",
       "      <td>0.028303</td>\n",
       "      <td>0.279766</td>\n",
       "      <td>0.845965</td>\n",
       "      <td>0.728257</td>\n",
       "    </tr>\n",
       "    <tr>\n",
       "      <th>LogisticRegression</th>\n",
       "      <td>0.932328</td>\n",
       "      <td>892.0</td>\n",
       "      <td>7829.0</td>\n",
       "      <td>156.0</td>\n",
       "      <td>477.0</td>\n",
       "      <td>0.019537</td>\n",
       "      <td>0.348430</td>\n",
       "      <td>0.816017</td>\n",
       "      <td>0.708277</td>\n",
       "    </tr>\n",
       "    <tr>\n",
       "      <th>RandomForestClassifier</th>\n",
       "      <td>0.939919</td>\n",
       "      <td>1021.0</td>\n",
       "      <td>7771.0</td>\n",
       "      <td>214.0</td>\n",
       "      <td>348.0</td>\n",
       "      <td>0.026800</td>\n",
       "      <td>0.254200</td>\n",
       "      <td>0.859500</td>\n",
       "      <td>0.750729</td>\n",
       "    </tr>\n",
       "    <tr>\n",
       "      <th>AdaBoostClassifier</th>\n",
       "      <td>0.934573</td>\n",
       "      <td>992.0</td>\n",
       "      <td>7750.0</td>\n",
       "      <td>235.0</td>\n",
       "      <td>377.0</td>\n",
       "      <td>0.029430</td>\n",
       "      <td>0.275383</td>\n",
       "      <td>0.847593</td>\n",
       "      <td>0.727869</td>\n",
       "    </tr>\n",
       "    <tr>\n",
       "      <th>GradientBoostingClassifier</th>\n",
       "      <td>0.938743</td>\n",
       "      <td>1008.0</td>\n",
       "      <td>7773.0</td>\n",
       "      <td>212.0</td>\n",
       "      <td>361.0</td>\n",
       "      <td>0.026550</td>\n",
       "      <td>0.263696</td>\n",
       "      <td>0.854877</td>\n",
       "      <td>0.744929</td>\n",
       "    </tr>\n",
       "    <tr>\n",
       "      <th>ExtraTreeClassifier</th>\n",
       "      <td>0.938743</td>\n",
       "      <td>1010.0</td>\n",
       "      <td>7771.0</td>\n",
       "      <td>214.0</td>\n",
       "      <td>359.0</td>\n",
       "      <td>0.026800</td>\n",
       "      <td>0.262235</td>\n",
       "      <td>0.855482</td>\n",
       "      <td>0.745163</td>\n",
       "    </tr>\n",
       "    <tr>\n",
       "      <th>BaggingClassifier</th>\n",
       "      <td>0.939812</td>\n",
       "      <td>1007.0</td>\n",
       "      <td>7784.0</td>\n",
       "      <td>201.0</td>\n",
       "      <td>362.0</td>\n",
       "      <td>0.025172</td>\n",
       "      <td>0.264427</td>\n",
       "      <td>0.855201</td>\n",
       "      <td>0.748751</td>\n",
       "    </tr>\n",
       "    <tr>\n",
       "      <th>Neural Network-1</th>\n",
       "      <td>0.939491</td>\n",
       "      <td>1014.0</td>\n",
       "      <td>7774.0</td>\n",
       "      <td>211.0</td>\n",
       "      <td>355.0</td>\n",
       "      <td>0.026425</td>\n",
       "      <td>0.259313</td>\n",
       "      <td>0.855201</td>\n",
       "      <td>0.748359</td>\n",
       "    </tr>\n",
       "  </tbody>\n",
       "</table>\n",
       "</div>"
      ],
      "text/plain": [
       "                            accuracy      TP      TN     FP     FN       FPR  \\\n",
       "index                                                                          \n",
       "KNeighborsClassifier        0.934894   986.0  7759.0  226.0  383.0  0.028303   \n",
       "LogisticRegression          0.932328   892.0  7829.0  156.0  477.0  0.019537   \n",
       "RandomForestClassifier      0.939919  1021.0  7771.0  214.0  348.0  0.026800   \n",
       "AdaBoostClassifier          0.934573   992.0  7750.0  235.0  377.0  0.029430   \n",
       "GradientBoostingClassifier  0.938743  1008.0  7773.0  212.0  361.0  0.026550   \n",
       "ExtraTreeClassifier         0.938743  1010.0  7771.0  214.0  359.0  0.026800   \n",
       "BaggingClassifier           0.939812  1007.0  7784.0  201.0  362.0  0.025172   \n",
       "Neural Network-1            0.939491  1014.0  7774.0  211.0  355.0  0.026425   \n",
       "\n",
       "                                 FNR       auc       mcc  \n",
       "index                                                     \n",
       "KNeighborsClassifier        0.279766  0.845965  0.728257  \n",
       "LogisticRegression          0.348430  0.816017  0.708277  \n",
       "RandomForestClassifier      0.254200  0.859500  0.750729  \n",
       "AdaBoostClassifier          0.275383  0.847593  0.727869  \n",
       "GradientBoostingClassifier  0.263696  0.854877  0.744929  \n",
       "ExtraTreeClassifier         0.262235  0.855482  0.745163  \n",
       "BaggingClassifier           0.264427  0.855201  0.748751  \n",
       "Neural Network-1            0.259313  0.855201  0.748359  "
      ]
     },
     "metadata": {},
     "output_type": "display_data"
    }
   ],
   "source": [
    "table_80_70_train['index']=ind_columns\n",
    "table_80_70_test['index']=ind_columns\n",
    "\n",
    "\n",
    "table_80_70_test.set_index(['index'],drop=True,inplace=True)\n",
    "table_80_70_train.set_index(['index'],drop=True,inplace=True)\n",
    "\n",
    "print(\"Training Results\")\n",
    "display(table_80_70_train)\n",
    "print(\"Test Results\")\n",
    "display(table_80_70_test)"
   ]
  },
  {
   "cell_type": "code",
   "execution_count": 65,
   "metadata": {},
   "outputs": [
    {
     "data": {
      "text/html": [
       "<script>\n",
       "code_show=true; \n",
       "function code_toggle() {\n",
       " if (code_show){\n",
       " $('div.input').hide();\n",
       " } else {\n",
       " $('div.input').show();\n",
       " }\n",
       " code_show = !code_show\n",
       "} \n",
       "$( document ).ready(code_toggle);\n",
       "</script>\n",
       "To toggle code, click <a href=\"javascript:code_toggle()\">here</a>."
      ],
      "text/plain": [
       "<IPython.core.display.HTML object>"
      ]
     },
     "execution_count": 65,
     "metadata": {},
     "output_type": "execute_result"
    }
   ],
   "source": [
    "### Original Creator : Darshan Bhansali\n",
    "### HTML code to hide the input cells \n",
    "HTML('''<script>\n",
    "code_show=true; \n",
    "function code_toggle() {\n",
    " if (code_show){\n",
    " $('div.input').hide();\n",
    " } else {\n",
    " $('div.input').show();\n",
    " }\n",
    " code_show = !code_show\n",
    "} \n",
    "$( document ).ready(code_toggle);\n",
    "</script>\n",
    "To toggle code, click <a href=\"javascript:code_toggle()\">here</a>.''')"
   ]
  }
 ],
 "metadata": {
  "kernelspec": {
   "display_name": "Python 3",
   "language": "python",
   "name": "python3"
  },
  "language_info": {
   "codemirror_mode": {
    "name": "ipython",
    "version": 3
   },
   "file_extension": ".py",
   "mimetype": "text/x-python",
   "name": "python",
   "nbconvert_exporter": "python",
   "pygments_lexer": "ipython3",
   "version": "3.6.7"
  }
 },
 "nbformat": 4,
 "nbformat_minor": 2
}
