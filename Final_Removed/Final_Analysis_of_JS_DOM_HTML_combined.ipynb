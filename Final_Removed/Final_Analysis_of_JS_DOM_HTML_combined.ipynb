{
 "cells": [
  {
   "cell_type": "markdown",
   "metadata": {},
   "source": [
    "***\n",
    "## Table of Contents\n",
    "<br>\n",
    "  <br>\n",
    "    <ol>\n",
    "        <h2><a href='#1' style=\"text-decoration : none; color : #000000;\">1. Initial Models</a></h2>\n",
    "        <ul>\n",
    "            <a href='#1.A' style=\"text-decoration : none; color : #000000;\"><h3>A. Results </h3></a>\n",
    "        </ul>\n",
    "        <ul>\n",
    "            <a href='#1.B' style=\"text-decoration : none; color : #000000;\"><h3>B. Average Feature Importance   </h3></a>\n",
    "        </ul>\n",
    "     </ol>\n",
    "     <br> \n",
    "\n",
    "<ol>\n",
    "        <h2><a href='#2' style=\"text-decoration : none; color : #000000;\">2. Oversampling </a></h2>\n",
    "        <ul>\n",
    "            <a href='#2.A' style=\"text-decoration : none; color : #000000;\"><h3>A. Results </h3></a>\n",
    "        </ul>\n",
    "        <ul>\n",
    "            <a href='#2.B' style=\"text-decoration : none; color : #000000;\"><h3>B. Average Feature Importance   </h3></a>\n",
    "        </ul>\n",
    "     </ol>\n",
    "     <br>\n",
    "     \n",
    " <ol>\n",
    "        <h2><a href='#3' style=\"text-decoration : none; color : #000000;\">3. Undersampling</a></h2>\n",
    "        <ul>\n",
    "            <a href='#3.A' style=\"text-decoration : none; color : #000000;\"><h3>A. Results </h3></a>\n",
    "        </ul>\n",
    "        <ul>\n",
    "            <a href='#3.B' style=\"text-decoration : none; color : #000000;\"><h3>B. Average Feature Importance   </h3></a>\n",
    "        </ul>\n",
    "     </ol>\n",
    "     <br>\n",
    "     \n",
    " <ol>\n",
    "        <h2><a href='#4' style=\"text-decoration : none; color : #000000;\">4.Feature Transformation with feature selection</a></h2>\n",
    "        <ul>\n",
    "            <a href='#4.A' style=\"text-decoration : none; color : #000000;\"><h3>A. Results </h3></a>\n",
    "        </ul>\n",
    "        <ul>\n",
    "            <a href='#4.B' style=\"text-decoration : none; color : #000000;\"><h3>B. Average Feature Importance   </h3></a>\n",
    "        </ul>\n",
    "     </ol>\n",
    "     <br>\n",
    "     \n",
    "     \n",
    " <ol>\n",
    "        <h2><a href='#5' style=\"text-decoration : none; color : #000000;\">5.Feature Transformation with PCA</a></h2>\n",
    "        <ul>\n",
    "            <a href='#5.A' style=\"text-decoration : none; color : #000000;\"><h3>A. Results </h3></a>\n",
    "        </ul>\n",
    "        <ul>\n",
    "            <a href='#5.B' style=\"text-decoration : none; color : #000000;\"><h3>B. Average Feature Importance   </h3></a>\n",
    "        </ul>\n",
    "     </ol>\n",
    "     <br>"
   ]
  },
  {
   "cell_type": "code",
   "execution_count": 1,
   "metadata": {},
   "outputs": [
    {
     "name": "stderr",
     "output_type": "stream",
     "text": [
      "Using TensorFlow backend.\n"
     ]
    },
    {
     "data": {
      "text/html": [
       "<script type=\"text/javascript\">window.PlotlyConfig = {MathJaxConfig: 'local'};</script><script type=\"text/javascript\">if (window.MathJax) {MathJax.Hub.Config({SVG: {font: \"STIX-Web\"}});}</script><script>requirejs.config({paths: { 'plotly': ['https://cdn.plot.ly/plotly-latest.min']},});if(!window._Plotly) {require(['plotly'],function(plotly) {window._Plotly=plotly;});}</script>"
      ],
      "text/vnd.plotly.v1+html": [
       "<script type=\"text/javascript\">window.PlotlyConfig = {MathJaxConfig: 'local'};</script><script type=\"text/javascript\">if (window.MathJax) {MathJax.Hub.Config({SVG: {font: \"STIX-Web\"}});}</script><script>requirejs.config({paths: { 'plotly': ['https://cdn.plot.ly/plotly-latest.min']},});if(!window._Plotly) {require(['plotly'],function(plotly) {window._Plotly=plotly;});}</script>"
      ]
     },
     "metadata": {},
     "output_type": "display_data"
    }
   ],
   "source": [
    "import pandas as pd\n",
    "import numpy as np\n",
    "import copy\n",
    "import matplotlib.pyplot as plt\n",
    "import seaborn as sns\n",
    "%matplotlib inline\n",
    "\n",
    "from IPython.display import display,clear_output,HTML\n",
    "import warnings\n",
    "warnings.filterwarnings(\"ignore\")\n",
    "\n",
    "import keras\n",
    "from keras.layers import Dense,Dropout\n",
    "from keras.models import Sequential\n",
    "warnings.simplefilter(\"ignore\", DeprecationWarning)\n",
    "import researchpy as rp\n",
    "\n",
    "%matplotlib inline\n",
    "pd.set_option('display.max_columns', 500)\n",
    "pd.set_option('display.max_rows',305)\n",
    "\n",
    "from sklearn.feature_selection import SelectKBest,chi2,RFE,RFECV,f_regression,SelectFromModel\n",
    "from sklearn.linear_model import LogisticRegression\n",
    "from sklearn.ensemble import ExtraTreesClassifier,RandomForestClassifier,GradientBoostingClassifier,AdaBoostClassifier,BaggingClassifier\n",
    "from sklearn.neighbors import KNeighborsClassifier\n",
    "from sklearn.model_selection import train_test_split,cross_val_score\n",
    "\n",
    "from sklearn.preprocessing import StandardScaler,MinMaxScaler\n",
    "from sklearn import metrics\n",
    "\n",
    "\n",
    "\n",
    "from sklearn.decomposition import PCA\n",
    "from sklearn.metrics import accuracy_score,auc,roc_curve,recall_score,precision_score,matthews_corrcoef\n",
    "\n",
    "from pandas_ml import ConfusionMatrix\n",
    "\n",
    "\n",
    "from imblearn.over_sampling import SMOTE\n",
    "\n",
    "from plotly.offline import download_plotlyjs, init_notebook_mode, plot, iplot\n",
    "init_notebook_mode(connected=True)\n",
    "import plotly.graph_objs as go\n",
    "\n",
    "import featuretools as ft\n",
    "\n",
    "from scipy import stats"
   ]
  },
  {
   "cell_type": "code",
   "execution_count": 2,
   "metadata": {
    "collapsed": true
   },
   "outputs": [],
   "source": [
    "### Function to plot Feature Importance\n",
    "def feat_impt_plot(feat_impt,y_labels,width_s=1000,height_s=1000):\n",
    "    \n",
    "    m=pd.DataFrame(y_labels,feat_impt).reset_index()\n",
    "    m.columns=['Feature_Importance','Features']\n",
    "    m.sort_values(by='Feature_Importance',inplace=True,ascending=False)\n",
    "    m['Features']=m['Features'].str.replace(\"dom_function_\",\"\")\n",
    "    m['Features']=m['Features'].str.replace(\"js_function_\",\"\")\n",
    "    m['Features']=m['Features'].apply(lambda x: str(x).lstrip('.'))\n",
    "    m['Features']=m['Features'].str.replace(\"(\",\"\")\n",
    "    \n",
    "    data = [go.Bar(x=m.Feature_Importance.values,y=m.Features.values,text=np.round(m.Feature_Importance,4),\n",
    "            textposition = 'outside',\n",
    "            marker=dict(\n",
    "                color='rgb(158,202,225)',\n",
    "                line=dict(\n",
    "                    color='rgb(8,48,107)',\n",
    "                    width=1.5),\n",
    "            ),\n",
    "            opacity=0.6,\n",
    "            orientation='h'\n",
    "        )]\n",
    "    layout = go.Layout(autosize=False,\n",
    "    width=width_s,\n",
    "    height=height_s,\n",
    "    xaxis=dict(title='Feature Importances',\n",
    "        tickfont=dict(\n",
    "            size=12,\n",
    "            color='black'\n",
    "        )),\n",
    "    yaxis=dict(automargin=True))\n",
    "    fig = go.Figure(data=data, layout=layout)\n",
    "    iplot(fig)"
   ]
  },
  {
   "cell_type": "code",
   "execution_count": 3,
   "metadata": {
    "collapsed": true
   },
   "outputs": [],
   "source": [
    "def uni_value(data):\n",
    "    lst=[]\n",
    "    for col in data.columns[:]:\n",
    "        lst.append([col,dict(data[col].value_counts()),data[col].value_counts().values[0]>=len(data)*0.95])\n",
    "    col_values=pd.DataFrame(lst,columns=['Feature','Value_Counts','95_%_same_values'])\n",
    "    col_values.set_index('Feature',drop=True,inplace=True)\n",
    "    del lst\n",
    "    return col_values\n",
    "\n",
    "    \n",
    "def check_cat(data):\n",
    "    cat_var=[]\n",
    "    num_var=[]\n",
    "    for col in data.columns:\n",
    "        if col!='Target':\n",
    "            if len(data[col].value_counts())==2:\n",
    "                cat_var.append(col)\n",
    "            else:\n",
    "                num_var.append(col)\n",
    "    return cat_var,num_var\n",
    "\n",
    "\n",
    "def num_stats(data,columns):\n",
    "    lst=[]\n",
    "    c=0\n",
    "    for col in columns:\n",
    "        corr=stats.pointbiserialr(data[col],data.Target)[0]\n",
    "        corr_p=stats.pointbiserialr(data[col],data.Target)[1]\n",
    "        ttest=stats.ttest_ind(data[data.Target==1][col], data[data.Target==0][col], equal_var=False)[0]\n",
    "        ttest_p=stats.ttest_ind(data[data.Target==1][col], data[data.Target==0][col], equal_var=False)[1]\n",
    "        lst.append((corr,corr_p,ttest,ttest_p,col))\n",
    "    stats_data=pd.DataFrame(lst,columns=['Pt. Biserial Corr','Pt. Biserial Corr p-val','ttest','ttest p-val','Feature'])\n",
    "    stats_data.set_index('Feature',drop=True,inplace=True)\n",
    "    stats_data.sort_values(by='ttest',inplace=True)\n",
    "    del lst\n",
    "    return stats_data\n",
    "\n",
    "\n",
    "### Generate statistics for categorical data\n",
    "def cat_stats(data,columns):\n",
    "    lst=[]\n",
    "    c=0\n",
    "    for col in columns:\n",
    "        if col!='Target':\n",
    "            table, results = rp.crosstab(data['Target'], data[col], prop= 'col', test= 'chi-square')\n",
    "            x=results['results'].values.tolist()\n",
    "            x.append(col)\n",
    "            lst.append(x)\n",
    "    chi_df=pd.DataFrame(lst,columns=['Pearson Chi-square','p-value','Cramers V','Feature'])\n",
    "    chi_df.set_index('Feature',drop=True,inplace=True)\n",
    "    chi_df.sort_values(by='Cramers V',ascending=False,inplace=True)\n",
    "    del lst\n",
    "    return chi_df\n",
    "\n",
    "def remove_feat(data):\n",
    "    col_no_unique=[]\n",
    "    for col in data.columns[:]:\n",
    "        if len(data[col].value_counts())<=1:\n",
    "#             print(col)\n",
    "            col_no_unique.append(col)\n",
    "    return col_no_unique\n",
    "\n",
    "### Generate plot for class balance for categorical nature\n",
    "def class_bal(data,title=''):\n",
    "    d = [go.Bar(x=data.Target.value_counts().index.values,\n",
    "               y=data.Target.value_counts().values,\n",
    "               text=data.Target.value_counts().values,\n",
    "               textposition = 'outside',\n",
    "            )]\n",
    "    layout = go.Layout(title=title,xaxis=dict(title='Domain Type',tickfont=dict(size=12,color='black')),\n",
    "                    yaxis=dict(title='Number of Instances'))\n",
    "    fig = go.Figure(data=d, layout=layout)\n",
    "    iplot(fig)"
   ]
  },
  {
   "cell_type": "code",
   "execution_count": 4,
   "metadata": {
    "collapsed": true
   },
   "outputs": [],
   "source": [
    "def model_build(model,X_train,Y_train,X_test,Y_test,tree=False,feat=None):\n",
    "    \n",
    "    y_pred_train=model.predict(X_train)\n",
    "    acc_train=accuracy_score(Y_train,y_pred_train)\n",
    "    \n",
    "    print(\"Accuracy of the model for training data is:\",acc_train)\n",
    "    print(\"Confusion Matrix for training data is:\")\n",
    "    cm_train=ConfusionMatrix(Y_train,y_pred_train)\n",
    "    display(cm_train)\n",
    "    \n",
    "    \n",
    "    y_pred_test=model.predict(X_test)\n",
    "    acc_test=accuracy_score(Y_test,y_pred_test)\n",
    "    print(\"Accuracy of the model for test data is:\",acc_test)\n",
    "    print(\"Confusion Matrix for test data is:\")\n",
    "    cm_test=ConfusionMatrix(Y_test,y_pred_test)\n",
    "    display(cm_test)\n",
    "\n",
    "    fpr, tpr, threshold = roc_curve(Y_test, y_pred_test)\n",
    "    roc_auc =auc(fpr, tpr)\n",
    "    mcc=matthews_corrcoef(Y_test,y_pred_test)\n",
    "    if tree==True:\n",
    "        feat_impt_plot(model.feature_importances_,feat)\n",
    "        return model,cm_train,cm_test,acc_train,acc_test,roc_auc,model.feature_importances_,mcc\n",
    "    \n",
    "    return model,cm_train,cm_test,acc_train,acc_test,roc_auc,mcc\n",
    "\n",
    "def KNN_model(X_train,Y_train,X_test,Y_test):\n",
    "    print('\\033[1m' + 'K-Nearest Neighbors' + '\\033[0m')\n",
    "    knn=KNeighborsClassifier()\n",
    "    knn.fit(X_train,Y_train)\n",
    "\n",
    "    return model_build(knn,X_train,Y_train,X_test,Y_test)\n",
    "\n",
    "def Logistic_model(X_train,Y_train,X_test,Y_test):\n",
    "    print('\\033[1m' + 'Logistic Regression' + '\\033[0m')\n",
    "    log=LogisticRegression()\n",
    "    log.fit(X_train,Y_train)\n",
    "    \n",
    "    return model_build(log,X_train,Y_train,X_test,Y_test)\n",
    "\n",
    "def RandomForest(X_train,Y_train,X_test,Y_test,feat):\n",
    "    print('\\033[1m' + 'RandomForest Classifier' + '\\033[0m')\n",
    "    rf=RandomForestClassifier()\n",
    "    rf.fit(X_train,Y_train)\n",
    "\n",
    "    \n",
    "    return model_build(rf,X_train,Y_train,X_test,Y_test,True,feat)\n",
    "\n",
    "def AdaBoost(X_train,Y_train,X_test,Y_test,feat):\n",
    "    print('\\033[1m' + 'Adaoost Classifier' + '\\033[0m')\n",
    "    ada=AdaBoostClassifier()\n",
    "    ada.fit(X_train,Y_train)\n",
    "    \n",
    "    return model_build(ada,X_train,Y_train,X_test,Y_test,True,feat)\n",
    "\n",
    "def GradientBoosting(X_train,Y_train,X_test,Y_test,feat):\n",
    "    print('\\033[1m' + 'GradientBoosting Classifier' + '\\033[0m')\n",
    "    gbc=GradientBoostingClassifier()\n",
    "    gbc.fit(X_train,Y_train)\n",
    "    \n",
    "    return model_build(gbc,X_train,Y_train,X_test,Y_test,True,feat)\n",
    "\n",
    "def ExtraTree(X_train,Y_train,X_test,Y_test,feat):\n",
    "    print('\\033[1m' + 'ExtraTree Classifier' + '\\033[0m')\n",
    "    ext_tree=ExtraTreesClassifier()\n",
    "    ext_tree.fit(X_train,Y_train)\n",
    "    \n",
    "    return model_build(ext_tree,X_train,Y_train,X_test,Y_test,True,feat)\n",
    "\n",
    "def Bagging(X_train,Y_train,X_test,Y_test):\n",
    "    print('\\033[1m' + 'Bagging Classifier' + '\\033[0m')\n",
    "    bagging=BaggingClassifier()\n",
    "    bagging.fit(X_train,Y_train)\n",
    "    \n",
    "    return model_build(bagging,X_train,Y_train,X_test,Y_test)\n",
    "\n",
    "def DeepLearning1(X_train,Y_train,X_test,Y_test):\n",
    "    print('\\033[1m' + 'Neural Network-1' + '\\033[0m')\n",
    "    np.random.seed(0)\n",
    "    deep_learning=Sequential()\n",
    "    deep_learning.add(Dense(units=64,activation='relu',use_bias=True,kernel_initializer='uniform',input_dim=X_train.shape[1]))\n",
    "    deep_learning.add(Dense(units=128,activation='relu',use_bias=True,kernel_initializer='uniform'))\n",
    "    deep_learning.add(Dense(units=1,activation='sigmoid',use_bias=True,kernel_initializer='uniform'))\n",
    "    deep_learning.compile(optimizer='adam',loss='binary_crossentropy',metrics=['accuracy'])\n",
    "    deep_learning.fit(X_train,Y_train,batch_size=20,epochs=80,verbose=False)\n",
    "    acc_train=deep_learning.evaluate(X_train,Y_train,verbose=False)[1]\n",
    "    print(\"The accuracy of the model on training data is:\",acc_train)\n",
    "    cm_train=ConfusionMatrix(Y_train,deep_learning.predict_classes(X_train,batch_size=1,verbose=False).reshape(1,len(X_train))[0])\n",
    "    cm_test=ConfusionMatrix(Y_test,deep_learning.predict_classes(X_test,batch_size=1,verbose=False).reshape(1,len(X_test))[0])\n",
    "    display(cm_train)\n",
    "    acc_test=accuracy_score(Y_test,deep_learning.predict_classes(X_test,batch_size=1,verbose=False))\n",
    "    print(\"The accuracy of the model on test data is:\",acc_test)\n",
    "    display(cm_test)\n",
    "    mcc=matthews_corrcoef(Y_test,deep_learning.predict_classes(X_test,batch_size=1,verbose=False))\n",
    "    return  deep_learning,cm_train,cm_test,acc_train,acc_test,roc_auc,mcc"
   ]
  },
  {
   "cell_type": "code",
   "execution_count": 12,
   "metadata": {},
   "outputs": [
    {
     "name": "stdout",
     "output_type": "stream",
     "text": [
      "Shape of our dataset: (43491, 1434)\n"
     ]
    }
   ],
   "source": [
    "df_html=pd.read_csv('../html/HTML.csv',index_col='domain')\n",
    "df_html.drop(['Unnamed: 0'],axis=1,inplace=True)\n",
    "cookie=[col for col in df_html.columns if 'number' in col]\n",
    "df_html.drop(cookie,axis=1,inplace=True)\n",
    "rem=['link_rel_wlwmanifest','script_src_absolute','base_count','img_src_relative','link_href_relative',\n",
    "     'form_action_absolute','tbody_count',  'base_href_absolute', 'img_srcset_relative','link_rel_EditURI',\n",
    "     'form_enctype_application/x-www-form-urlencoded','a_href_relative','iframe_src_absolute',\n",
    "     'iframe_sandbox_allow_same_origin_count','a_href_absolute','base_href_relative','link_type_application/wlwmanifest+xml'\n",
    "     ,'form_action_https','form_action_out_of_domain','nofollow_count','img_count','img_src_http','script_src_http',\n",
    "     'link_href_http','a_href_http','a_href_out_of_domain','iframe_src_http']\n",
    "df_html.drop(rem,axis=1,inplace=True)\n",
    "print(\"Shape of our dataset:\",df_html.shape)"
   ]
  },
  {
   "cell_type": "code",
   "execution_count": 13,
   "metadata": {},
   "outputs": [
    {
     "name": "stdout",
     "output_type": "stream",
     "text": [
      "Shape of our dataset: (43294, 398)\n"
     ]
    }
   ],
   "source": [
    "df_js=pd.read_csv('Javascript.csv',low_memory=False,index_col='domain')\n",
    "\n",
    "cookie=[col for col in df_js.columns if 'number' in col]\n",
    "df_js.drop(cookie,axis=1,inplace=True)\n",
    "\n",
    "df_js.rename(columns={'Malicious':'Target'},inplace=True)\n",
    "\n",
    "\n",
    "df_js.drop(['js_function_Object.defineProperty(',\n",
    "'js_function_Object.keys(',\n",
    "'js_function_.substr'],axis=1,inplace=True)\n",
    "print(\"Shape of our dataset:\",df_js.shape)"
   ]
  },
  {
   "cell_type": "code",
   "execution_count": 14,
   "metadata": {},
   "outputs": [
    {
     "data": {
      "text/plain": [
       "(40709, 57)"
      ]
     },
     "metadata": {},
     "output_type": "display_data"
    }
   ],
   "source": [
    "col_js_no_uni=remove_feat(df_js)\n",
    "col_html_no_uni=remove_feat(df_html)\n",
    "\n",
    "df_js.drop(col_js_no_uni,axis=1,inplace=True)\n",
    "df_html.drop(col_html_no_uni,axis=1,inplace=True)\n",
    "\n",
    "col_js_95=uni_value(df_js)\n",
    "col_html_95=uni_value(df_html)\n",
    "\n",
    "### Lets drop those columns\n",
    "df_js.drop(col_js_95[col_js_95['95_%_same_values']==True].index.values,axis=1,inplace=True)\n",
    "df_html.drop(col_html_95[col_html_95['95_%_same_values']==True].index.values,axis=1,inplace=True)\n",
    "\n",
    "cat_var_js,num_var_js=check_cat(df_js)\n",
    "cat_var_html,num_var_html=check_cat(df_html)\n",
    "\n",
    "df_js.Target=df_js.Target.apply(lambda x: 1 if x=='Malicious' else 0)\n",
    "df_html.Target=df_html.Target.apply(lambda x: 1 if x=='Malicious' else 0)\n",
    "\n",
    "num_stats_js=num_stats(df_js,num_var_js)\n",
    "cat_stats_js=cat_stats(df_js,cat_var_js)\n",
    "\n",
    "\n",
    "num_stats_html=num_stats(df_html,num_var_html)\n",
    "cat_stats_html=cat_stats(df_html,cat_var_html)\n",
    "\n",
    "add_feat=['js_function_escape(',\n",
    " 'js_function_parseInt(',\n",
    " 'js_function_unescape(',\n",
    " 'small_count',\n",
    " 'style_count',\n",
    " 'input_count']\n",
    "\n",
    "fin_col=num_stats_js.index.values[0:25].tolist()+ num_stats_html.index.values[0:25].tolist()\n",
    "fin_col.extend(add_feat)\n",
    "\n",
    "df_int=pd.merge(df_js,df_html,left_index=True,right_index=True)\n",
    "\n",
    "df=df_int.copy(deep=True)\n",
    "\n",
    "df['Target']=df[['Target_x','Target_y']].apply(max,axis=1)\n",
    "\n",
    "columns=copy.deepcopy(fin_col)\n",
    "fin_col.append('Target')\n",
    "\n",
    "df_sel=df[fin_col]\n",
    "\n",
    "display(df_sel.shape)"
   ]
  },
  {
   "cell_type": "code",
   "execution_count": 15,
   "metadata": {
    "collapsed": true
   },
   "outputs": [],
   "source": [
    "train=df_sel.iloc[:32567,:]\n",
    "train_X=train.iloc[:,train.columns!='Target'].values\n",
    "train_Y=train.Target.values\n",
    "\n",
    "scaler=StandardScaler()\n",
    "scaled_X_train=scaler.fit_transform(train_X)\n",
    "\n",
    "test=df_sel.iloc[32567:,:]\n",
    "test_X=test.iloc[:,test.columns!='Target'].values\n",
    "test_Y=test.Target.values\n",
    "scaled_X_test=scaler.transform(test_X)"
   ]
  },
  {
   "cell_type": "code",
   "execution_count": 16,
   "metadata": {},
   "outputs": [
    {
     "data": {
      "text/plain": [
       "['Target',\n",
       " 'a_count',\n",
       " 'a_href_https',\n",
       " 'div_count',\n",
       " 'dom_function_document.createElement(',\n",
       " 'dom_function_document.getElementById(',\n",
       " 'dom_function_document.getElementsByTagName(',\n",
       " 'dom_function_window.addEventListener(',\n",
       " 'iframe_count',\n",
       " 'iframe_src_https',\n",
       " 'iframe_src_relative',\n",
       " 'img_src_.jpg',\n",
       " 'img_src_absolute',\n",
       " 'img_src_https',\n",
       " 'input_count',\n",
       " 'js_function_.apply(',\n",
       " 'js_function_.charAt(',\n",
       " 'js_function_.concat(',\n",
       " 'js_function_.getTime(',\n",
       " 'js_function_.indexOf(',\n",
       " 'js_function_.join(',\n",
       " 'js_function_.match(',\n",
       " 'js_function_.pop(',\n",
       " 'js_function_.push(',\n",
       " 'js_function_.replace(',\n",
       " 'js_function_.setTime(',\n",
       " 'js_function_.shift(',\n",
       " 'js_function_.split(',\n",
       " 'js_function_.substring(',\n",
       " 'js_function_.test(',\n",
       " 'js_function_JSON.parse(',\n",
       " 'js_function_Math.floor(',\n",
       " 'js_function_Math.random(',\n",
       " 'js_function_Math.round(',\n",
       " 'js_function_decodeURIComponent(',\n",
       " 'js_function_encodeURIComponent(',\n",
       " 'js_function_escape(',\n",
       " 'js_function_parseInt(',\n",
       " 'js_function_unescape(',\n",
       " 'link_count',\n",
       " 'link_href_.ico',\n",
       " 'link_href_absolute',\n",
       " 'link_href_https',\n",
       " 'link_rel_canonical',\n",
       " 'link_rel_icon',\n",
       " 'link_rel_shortcut icon',\n",
       " 'link_rel_stylesheet',\n",
       " 'meta_http-equiv_X-UA-Compatible',\n",
       " 'script_async_true',\n",
       " 'script_count',\n",
       " 'script_src_.js',\n",
       " 'script_src_https',\n",
       " 'script_src_out_of_domain',\n",
       " 'script_src_relative',\n",
       " 'script_type_text/javascript',\n",
       " 'small_count',\n",
       " 'style_count']"
      ]
     },
     "execution_count": 16,
     "metadata": {},
     "output_type": "execute_result"
    }
   ],
   "source": [
    "sorted(fin_col)"
   ]
  },
  {
   "cell_type": "markdown",
   "metadata": {},
   "source": [
    "### <a id='1' style=\"text-decoration : none; color : #000000;\"> 2. Initial Models</a>"
   ]
  },
  {
   "cell_type": "code",
   "execution_count": 17,
   "metadata": {
    "collapsed": true
   },
   "outputs": [],
   "source": [
    "ind_columns=['KNeighborsClassifier','LogisticRegression','RandomForestClassifier','AdaBoostClassifier',\n",
    "             'GradientBoostingClassifier','ExtraTreeClassifier','BaggingClassifier','Neural Network-1']\n",
    "\n",
    "f=[KNN_model,Logistic_model,RandomForest,AdaBoost,GradientBoosting, ExtraTree,Bagging,DeepLearning1]\n",
    "\n",
    "## Table to store training and test measures\n",
    "table_80_50_train=pd.DataFrame(columns=['accuracy','TP','TN','FP','FN','FPR','FNR'])\n",
    "table_80_50_test=pd.DataFrame(columns=['accuracy','TP','TN','FP','FN','FPR','FNR','auc','MCC'])"
   ]
  },
  {
   "cell_type": "code",
   "execution_count": 18,
   "metadata": {
    "scrolled": false
   },
   "outputs": [
    {
     "name": "stdout",
     "output_type": "stream",
     "text": [
      "\u001b[1mK-Nearest Neighbors\u001b[0m\n",
      "Accuracy of the model for training data is: 0.872416863696\n",
      "Confusion Matrix for training data is:\n"
     ]
    },
    {
     "data": {
      "text/plain": [
       "Predicted  False  True  __all__\n",
       "Actual                         \n",
       "False      27666   172    27838\n",
       "True        3983   746     4729\n",
       "__all__    31649   918    32567"
      ]
     },
     "metadata": {},
     "output_type": "display_data"
    },
    {
     "name": "stdout",
     "output_type": "stream",
     "text": [
      "Accuracy of the model for test data is: 0.865266519283\n",
      "Confusion Matrix for test data is:\n"
     ]
    },
    {
     "data": {
      "text/plain": [
       "Predicted  False  True  __all__\n",
       "Actual                         \n",
       "False       6881    59     6940\n",
       "True        1038   164     1202\n",
       "__all__     7919   223     8142"
      ]
     },
     "metadata": {},
     "output_type": "display_data"
    },
    {
     "name": "stdout",
     "output_type": "stream",
     "text": [
      "\n",
      "\n",
      "\u001b[1mLogistic Regression\u001b[0m\n",
      "Accuracy of the model for training data is: 0.87447416096\n",
      "Confusion Matrix for training data is:\n"
     ]
    },
    {
     "data": {
      "text/plain": [
       "Predicted  False  True  __all__\n",
       "Actual                         \n",
       "False      24673  3165    27838\n",
       "True         923  3806     4729\n",
       "__all__    25596  6971    32567"
      ]
     },
     "metadata": {},
     "output_type": "display_data"
    },
    {
     "name": "stdout",
     "output_type": "stream",
     "text": [
      "Accuracy of the model for test data is: 0.878039793662\n",
      "Confusion Matrix for test data is:\n"
     ]
    },
    {
     "data": {
      "text/plain": [
       "Predicted  False  True  __all__\n",
       "Actual                         \n",
       "False       6155   785     6940\n",
       "True         208   994     1202\n",
       "__all__     6363  1779     8142"
      ]
     },
     "metadata": {},
     "output_type": "display_data"
    },
    {
     "name": "stdout",
     "output_type": "stream",
     "text": [
      "\n",
      "\n",
      "\u001b[1mRandomForest Classifier\u001b[0m\n",
      "Accuracy of the model for training data is: 0.91036939233\n",
      "Confusion Matrix for training data is:\n"
     ]
    },
    {
     "data": {
      "text/plain": [
       "Predicted  False  True  __all__\n",
       "Actual                         \n",
       "False      25030  2808    27838\n",
       "True         111  4618     4729\n",
       "__all__    25141  7426    32567"
      ]
     },
     "metadata": {},
     "output_type": "display_data"
    },
    {
     "name": "stdout",
     "output_type": "stream",
     "text": [
      "Accuracy of the model for test data is: 0.897322525178\n",
      "Confusion Matrix for test data is:\n"
     ]
    },
    {
     "data": {
      "text/plain": [
       "Predicted  False  True  __all__\n",
       "Actual                         \n",
       "False       6215   725     6940\n",
       "True         111  1091     1202\n",
       "__all__     6326  1816     8142"
      ]
     },
     "metadata": {},
     "output_type": "display_data"
    },
    {
     "data": {
      "application/vnd.plotly.v1+json": {
       "config": {
        "linkText": "Export to plot.ly",
        "plotlyServerURL": "https://plot.ly",
        "showLink": true
       },
       "data": [
        {
         "marker": {
          "color": "rgb(158,202,225)",
          "line": {
           "color": "rgb(8,48,107)",
           "width": 1.5
          }
         },
         "opacity": 0.6,
         "orientation": "h",
         "text": [
          0.1888,
          0.1173,
          0.1073,
          0.0696,
          0.0664,
          0.06,
          0.0505,
          0.0466,
          0.0303,
          0.0183,
          0.0179,
          0.0172,
          0.017,
          0.0142,
          0.0129,
          0.0128,
          0.0119,
          0.0112,
          0.0106,
          0.009,
          0.0087,
          0.0086,
          0.0086,
          0.0065,
          0.0062,
          0.0059,
          0.0057,
          0.0052,
          0.0051,
          0.0042,
          0.0042,
          0.0041,
          0.0041,
          0.004,
          0.003,
          0.003,
          0.0027,
          0.0023,
          0.0022,
          0.0022,
          0.0022,
          0.0019,
          0.0018,
          0.0017,
          0.0008,
          0.0008,
          0.0007,
          0.0007,
          0.0005,
          0.0005,
          0.0005,
          0.0005,
          0.0004,
          0.0003,
          0.0002,
          0.0001
         ],
         "textposition": "outside",
         "type": "bar",
         "uid": "578c73e3-3113-4a57-94d0-357901a5a602",
         "x": [
          0.18884821885512498,
          0.11730547489851777,
          0.10731578802496303,
          0.06958501065411402,
          0.06636146412751434,
          0.060031213786198,
          0.05047376893288177,
          0.04655090841123991,
          0.030340009437686628,
          0.018259264965888717,
          0.017947060806949272,
          0.01722949591935671,
          0.017027109052231162,
          0.014187847320860722,
          0.01288027837163747,
          0.01278184492706766,
          0.011853139434891212,
          0.0112096603351571,
          0.010580166395856561,
          0.00896796915013821,
          0.00872699646409585,
          0.008606182177708779,
          0.008574180722114941,
          0.006549604232454635,
          0.006215984358106125,
          0.005927217557240812,
          0.005691030493622495,
          0.0052227826515394106,
          0.005079929669854251,
          0.004224401416401883,
          0.004197522861319006,
          0.0041420887827107785,
          0.004087201855319979,
          0.003997056386626251,
          0.0030478401923018663,
          0.0030175175735972235,
          0.00269179508804868,
          0.0022965151556882265,
          0.0022248172803155447,
          0.002223984144554966,
          0.0022034477700027207,
          0.0018596269420217437,
          0.0018052029310800725,
          0.0017011369621485796,
          0.0007933341365463098,
          0.0007839419752052558,
          0.0006978293795131033,
          0.0006594920328508692,
          0.0005309657188567897,
          0.0004940149134714007,
          0.00048929662733644,
          0.0004764521426457228,
          0.0004464443666321569,
          0.00029019501265549133,
          0.0001769525247909738,
          0.00011132369234535103
         ],
         "y": [
          "a_count",
          "script_count",
          "div_count",
          "script_src_relative",
          "script_async_true",
          "script_type_text/javascript",
          "push",
          "link_href_https",
          "input_count",
          "script_src_out_of_domain",
          "a_href_https",
          "style_count",
          "link_rel_shortcut icon",
          "img_src_absolute",
          "link_count",
          "script_src_https",
          "split",
          "script_src_.js",
          "link_rel_stylesheet",
          "img_src_https",
          "link_href_absolute",
          "img_src_.jpg",
          "document.getElementById",
          "document.getElementsByTagName",
          "iframe_count",
          "replace",
          "apply",
          "document.createElement",
          "getTime",
          "iframe_src_https",
          "indexOf",
          "meta_http-equiv_X-UA-Compatible",
          "iframe_src_relative",
          "link_href_.ico",
          "Math.random",
          "encodeURIComponent",
          "link_rel_icon",
          "match",
          "Math.floor",
          "escape",
          "parseInt",
          "test",
          "small_count",
          "unescape",
          "JSON.parse",
          "window.addEventListener",
          "link_rel_canonical",
          "substring",
          "pop",
          "join",
          "Math.round",
          "concat",
          "charAt",
          "decodeURIComponent",
          "setTime",
          "shift"
         ]
        }
       ],
       "layout": {
        "autosize": false,
        "height": 1000,
        "width": 1000,
        "xaxis": {
         "tickfont": {
          "color": "black",
          "size": 12
         },
         "title": "Feature Importances"
        },
        "yaxis": {
         "automargin": true
        }
       }
      },
      "text/html": [
       "<div id=\"3cab84df-ccc9-43f5-9ebc-86bab8855cde\" style=\"height: 1000px; width: 1000px;\" class=\"plotly-graph-div\"></div><script type=\"text/javascript\">require([\"plotly\"], function(Plotly) { window.PLOTLYENV=window.PLOTLYENV || {};window.PLOTLYENV.BASE_URL=\"https://plot.ly\";Plotly.newPlot(\"3cab84df-ccc9-43f5-9ebc-86bab8855cde\", [{\"marker\": {\"color\": \"rgb(158,202,225)\", \"line\": {\"color\": \"rgb(8,48,107)\", \"width\": 1.5}}, \"opacity\": 0.6, \"orientation\": \"h\", \"text\": [0.1888, 0.1173, 0.1073, 0.0696, 0.0664, 0.06, 0.0505, 0.0466, 0.0303, 0.0183, 0.0179, 0.0172, 0.017, 0.0142, 0.0129, 0.0128, 0.0119, 0.0112, 0.0106, 0.009, 0.0087, 0.0086, 0.0086, 0.0065, 0.0062, 0.0059, 0.0057, 0.0052, 0.0051, 0.0042, 0.0042, 0.0041, 0.0041, 0.004, 0.003, 0.003, 0.0027, 0.0023, 0.0022, 0.0022, 0.0022, 0.0019, 0.0018, 0.0017, 0.0008, 0.0008, 0.0007, 0.0007, 0.0005, 0.0005, 0.0005, 0.0005, 0.0004, 0.0003, 0.0002, 0.0001], \"textposition\": \"outside\", \"x\": [0.18884821885512498, 0.11730547489851777, 0.10731578802496303, 0.06958501065411402, 0.06636146412751434, 0.060031213786198, 0.05047376893288177, 0.04655090841123991, 0.030340009437686628, 0.018259264965888717, 0.017947060806949272, 0.01722949591935671, 0.017027109052231162, 0.014187847320860722, 0.01288027837163747, 0.01278184492706766, 0.011853139434891212, 0.0112096603351571, 0.010580166395856561, 0.00896796915013821, 0.00872699646409585, 0.008606182177708779, 0.008574180722114941, 0.006549604232454635, 0.006215984358106125, 0.005927217557240812, 0.005691030493622495, 0.0052227826515394106, 0.005079929669854251, 0.004224401416401883, 0.004197522861319006, 0.0041420887827107785, 0.004087201855319979, 0.003997056386626251, 0.0030478401923018663, 0.0030175175735972235, 0.00269179508804868, 0.0022965151556882265, 0.0022248172803155447, 0.002223984144554966, 0.0022034477700027207, 0.0018596269420217437, 0.0018052029310800725, 0.0017011369621485796, 0.0007933341365463098, 0.0007839419752052558, 0.0006978293795131033, 0.0006594920328508692, 0.0005309657188567897, 0.0004940149134714007, 0.00048929662733644, 0.0004764521426457228, 0.0004464443666321569, 0.00029019501265549133, 0.0001769525247909738, 0.00011132369234535103], \"y\": [\"a_count\", \"script_count\", \"div_count\", \"script_src_relative\", \"script_async_true\", \"script_type_text/javascript\", \"push\", \"link_href_https\", \"input_count\", \"script_src_out_of_domain\", \"a_href_https\", \"style_count\", \"link_rel_shortcut icon\", \"img_src_absolute\", \"link_count\", \"script_src_https\", \"split\", \"script_src_.js\", \"link_rel_stylesheet\", \"img_src_https\", \"link_href_absolute\", \"img_src_.jpg\", \"document.getElementById\", \"document.getElementsByTagName\", \"iframe_count\", \"replace\", \"apply\", \"document.createElement\", \"getTime\", \"iframe_src_https\", \"indexOf\", \"meta_http-equiv_X-UA-Compatible\", \"iframe_src_relative\", \"link_href_.ico\", \"Math.random\", \"encodeURIComponent\", \"link_rel_icon\", \"match\", \"Math.floor\", \"escape\", \"parseInt\", \"test\", \"small_count\", \"unescape\", \"JSON.parse\", \"window.addEventListener\", \"link_rel_canonical\", \"substring\", \"pop\", \"join\", \"Math.round\", \"concat\", \"charAt\", \"decodeURIComponent\", \"setTime\", \"shift\"], \"type\": \"bar\", \"uid\": \"578c73e3-3113-4a57-94d0-357901a5a602\"}], {\"autosize\": false, \"height\": 1000, \"width\": 1000, \"xaxis\": {\"tickfont\": {\"color\": \"black\", \"size\": 12}, \"title\": \"Feature Importances\"}, \"yaxis\": {\"automargin\": true}}, {\"showLink\": true, \"linkText\": \"Export to plot.ly\", \"plotlyServerURL\": \"https://plot.ly\"})});</script>"
      ],
      "text/vnd.plotly.v1+html": [
       "<div id=\"3cab84df-ccc9-43f5-9ebc-86bab8855cde\" style=\"height: 1000px; width: 1000px;\" class=\"plotly-graph-div\"></div><script type=\"text/javascript\">require([\"plotly\"], function(Plotly) { window.PLOTLYENV=window.PLOTLYENV || {};window.PLOTLYENV.BASE_URL=\"https://plot.ly\";Plotly.newPlot(\"3cab84df-ccc9-43f5-9ebc-86bab8855cde\", [{\"marker\": {\"color\": \"rgb(158,202,225)\", \"line\": {\"color\": \"rgb(8,48,107)\", \"width\": 1.5}}, \"opacity\": 0.6, \"orientation\": \"h\", \"text\": [0.1888, 0.1173, 0.1073, 0.0696, 0.0664, 0.06, 0.0505, 0.0466, 0.0303, 0.0183, 0.0179, 0.0172, 0.017, 0.0142, 0.0129, 0.0128, 0.0119, 0.0112, 0.0106, 0.009, 0.0087, 0.0086, 0.0086, 0.0065, 0.0062, 0.0059, 0.0057, 0.0052, 0.0051, 0.0042, 0.0042, 0.0041, 0.0041, 0.004, 0.003, 0.003, 0.0027, 0.0023, 0.0022, 0.0022, 0.0022, 0.0019, 0.0018, 0.0017, 0.0008, 0.0008, 0.0007, 0.0007, 0.0005, 0.0005, 0.0005, 0.0005, 0.0004, 0.0003, 0.0002, 0.0001], \"textposition\": \"outside\", \"x\": [0.18884821885512498, 0.11730547489851777, 0.10731578802496303, 0.06958501065411402, 0.06636146412751434, 0.060031213786198, 0.05047376893288177, 0.04655090841123991, 0.030340009437686628, 0.018259264965888717, 0.017947060806949272, 0.01722949591935671, 0.017027109052231162, 0.014187847320860722, 0.01288027837163747, 0.01278184492706766, 0.011853139434891212, 0.0112096603351571, 0.010580166395856561, 0.00896796915013821, 0.00872699646409585, 0.008606182177708779, 0.008574180722114941, 0.006549604232454635, 0.006215984358106125, 0.005927217557240812, 0.005691030493622495, 0.0052227826515394106, 0.005079929669854251, 0.004224401416401883, 0.004197522861319006, 0.0041420887827107785, 0.004087201855319979, 0.003997056386626251, 0.0030478401923018663, 0.0030175175735972235, 0.00269179508804868, 0.0022965151556882265, 0.0022248172803155447, 0.002223984144554966, 0.0022034477700027207, 0.0018596269420217437, 0.0018052029310800725, 0.0017011369621485796, 0.0007933341365463098, 0.0007839419752052558, 0.0006978293795131033, 0.0006594920328508692, 0.0005309657188567897, 0.0004940149134714007, 0.00048929662733644, 0.0004764521426457228, 0.0004464443666321569, 0.00029019501265549133, 0.0001769525247909738, 0.00011132369234535103], \"y\": [\"a_count\", \"script_count\", \"div_count\", \"script_src_relative\", \"script_async_true\", \"script_type_text/javascript\", \"push\", \"link_href_https\", \"input_count\", \"script_src_out_of_domain\", \"a_href_https\", \"style_count\", \"link_rel_shortcut icon\", \"img_src_absolute\", \"link_count\", \"script_src_https\", \"split\", \"script_src_.js\", \"link_rel_stylesheet\", \"img_src_https\", \"link_href_absolute\", \"img_src_.jpg\", \"document.getElementById\", \"document.getElementsByTagName\", \"iframe_count\", \"replace\", \"apply\", \"document.createElement\", \"getTime\", \"iframe_src_https\", \"indexOf\", \"meta_http-equiv_X-UA-Compatible\", \"iframe_src_relative\", \"link_href_.ico\", \"Math.random\", \"encodeURIComponent\", \"link_rel_icon\", \"match\", \"Math.floor\", \"escape\", \"parseInt\", \"test\", \"small_count\", \"unescape\", \"JSON.parse\", \"window.addEventListener\", \"link_rel_canonical\", \"substring\", \"pop\", \"join\", \"Math.round\", \"concat\", \"charAt\", \"decodeURIComponent\", \"setTime\", \"shift\"], \"type\": \"bar\", \"uid\": \"578c73e3-3113-4a57-94d0-357901a5a602\"}], {\"autosize\": false, \"height\": 1000, \"width\": 1000, \"xaxis\": {\"tickfont\": {\"color\": \"black\", \"size\": 12}, \"title\": \"Feature Importances\"}, \"yaxis\": {\"automargin\": true}}, {\"showLink\": true, \"linkText\": \"Export to plot.ly\", \"plotlyServerURL\": \"https://plot.ly\"})});</script>"
      ]
     },
     "metadata": {},
     "output_type": "display_data"
    },
    {
     "name": "stdout",
     "output_type": "stream",
     "text": [
      "\n",
      "\n",
      "\u001b[1mAdaoost Classifier\u001b[0m\n",
      "Accuracy of the model for training data is: 0.87539533884\n",
      "Confusion Matrix for training data is:\n"
     ]
    },
    {
     "data": {
      "text/plain": [
       "Predicted  False  True  __all__\n",
       "Actual                         \n",
       "False      24542  3296    27838\n",
       "True         762  3967     4729\n",
       "__all__    25304  7263    32567"
      ]
     },
     "metadata": {},
     "output_type": "display_data"
    },
    {
     "name": "stdout",
     "output_type": "stream",
     "text": [
      "Accuracy of the model for test data is: 0.875460574797\n",
      "Confusion Matrix for test data is:\n"
     ]
    },
    {
     "data": {
      "text/plain": [
       "Predicted  False  True  __all__\n",
       "Actual                         \n",
       "False       6115   825     6940\n",
       "True         189  1013     1202\n",
       "__all__     6304  1838     8142"
      ]
     },
     "metadata": {},
     "output_type": "display_data"
    },
    {
     "data": {
      "application/vnd.plotly.v1+json": {
       "config": {
        "linkText": "Export to plot.ly",
        "plotlyServerURL": "https://plot.ly",
        "showLink": true
       },
       "data": [
        {
         "marker": {
          "color": "rgb(158,202,225)",
          "line": {
           "color": "rgb(8,48,107)",
           "width": 1.5
          }
         },
         "opacity": 0.6,
         "orientation": "h",
         "text": [
          0.1,
          0.08,
          0.08,
          0.06,
          0.06,
          0.06,
          0.06,
          0.06,
          0.04,
          0.04,
          0.04,
          0.04,
          0.02,
          0.02,
          0.02,
          0.02,
          0.02,
          0.02,
          0.02,
          0.02,
          0.02,
          0.02,
          0.02,
          0.02,
          0.02,
          0.02,
          0,
          0,
          0,
          0,
          0,
          0,
          0,
          0,
          0,
          0,
          0,
          0,
          0,
          0,
          0,
          0,
          0,
          0,
          0,
          0,
          0,
          0,
          0,
          0,
          0,
          0,
          0,
          0,
          0,
          0
         ],
         "textposition": "outside",
         "type": "bar",
         "uid": "82894133-5087-44b8-b1e0-a7297baa2f00",
         "x": [
          0.1,
          0.08,
          0.08,
          0.06,
          0.06,
          0.06,
          0.06,
          0.06,
          0.04,
          0.04,
          0.04,
          0.04,
          0.02,
          0.02,
          0.02,
          0.02,
          0.02,
          0.02,
          0.02,
          0.02,
          0.02,
          0.02,
          0.02,
          0.02,
          0.02,
          0.02,
          0,
          0,
          0,
          0,
          0,
          0,
          0,
          0,
          0,
          0,
          0,
          0,
          0,
          0,
          0,
          0,
          0,
          0,
          0,
          0,
          0,
          0,
          0,
          0,
          0,
          0,
          0,
          0,
          0,
          0
         ],
         "y": [
          "a_count",
          "script_src_out_of_domain",
          "script_count",
          "img_src_.jpg",
          "script_type_text/javascript",
          "img_src_absolute",
          "push",
          "a_href_https",
          "div_count",
          "concat",
          "link_rel_stylesheet",
          "script_src_https",
          "apply",
          "document.createElement",
          "link_href_absolute",
          "iframe_count",
          "link_count",
          "window.addEventListener",
          "indexOf",
          "split",
          "link_rel_shortcut icon",
          "join",
          "Math.random",
          "escape",
          "script_src_.js",
          "script_src_relative",
          "style_count",
          "img_src_https",
          "link_rel_icon",
          "small_count",
          "unescape",
          "iframe_src_https",
          "link_href_https",
          "link_href_.ico",
          "parseInt",
          "iframe_src_relative",
          "document.getElementsByTagName",
          "meta_http-equiv_X-UA-Compatible",
          "pop",
          "getTime",
          "setTime",
          "replace",
          "Math.floor",
          "decodeURIComponent",
          "match",
          "JSON.parse",
          "charAt",
          "link_rel_canonical",
          "encodeURIComponent",
          "test",
          "Math.round",
          "substring",
          "shift",
          "document.getElementById",
          "script_async_true",
          "input_count"
         ]
        }
       ],
       "layout": {
        "autosize": false,
        "height": 1000,
        "width": 1000,
        "xaxis": {
         "tickfont": {
          "color": "black",
          "size": 12
         },
         "title": "Feature Importances"
        },
        "yaxis": {
         "automargin": true
        }
       }
      },
      "text/html": [
       "<div id=\"fc8daf06-3cbd-4d71-88da-0c8d82bfa4cb\" style=\"height: 1000px; width: 1000px;\" class=\"plotly-graph-div\"></div><script type=\"text/javascript\">require([\"plotly\"], function(Plotly) { window.PLOTLYENV=window.PLOTLYENV || {};window.PLOTLYENV.BASE_URL=\"https://plot.ly\";Plotly.newPlot(\"fc8daf06-3cbd-4d71-88da-0c8d82bfa4cb\", [{\"marker\": {\"color\": \"rgb(158,202,225)\", \"line\": {\"color\": \"rgb(8,48,107)\", \"width\": 1.5}}, \"opacity\": 0.6, \"orientation\": \"h\", \"text\": [0.1, 0.08, 0.08, 0.06, 0.06, 0.06, 0.06, 0.06, 0.04, 0.04, 0.04, 0.04, 0.02, 0.02, 0.02, 0.02, 0.02, 0.02, 0.02, 0.02, 0.02, 0.02, 0.02, 0.02, 0.02, 0.02, 0.0, 0.0, 0.0, 0.0, 0.0, 0.0, 0.0, 0.0, 0.0, 0.0, 0.0, 0.0, 0.0, 0.0, 0.0, 0.0, 0.0, 0.0, 0.0, 0.0, 0.0, 0.0, 0.0, 0.0, 0.0, 0.0, 0.0, 0.0, 0.0, 0.0], \"textposition\": \"outside\", \"x\": [0.1, 0.08, 0.08, 0.06, 0.06, 0.06, 0.06, 0.06, 0.04, 0.04, 0.04, 0.04, 0.02, 0.02, 0.02, 0.02, 0.02, 0.02, 0.02, 0.02, 0.02, 0.02, 0.02, 0.02, 0.02, 0.02, 0.0, 0.0, 0.0, 0.0, 0.0, 0.0, 0.0, 0.0, 0.0, 0.0, 0.0, 0.0, 0.0, 0.0, 0.0, 0.0, 0.0, 0.0, 0.0, 0.0, 0.0, 0.0, 0.0, 0.0, 0.0, 0.0, 0.0, 0.0, 0.0, 0.0], \"y\": [\"a_count\", \"script_src_out_of_domain\", \"script_count\", \"img_src_.jpg\", \"script_type_text/javascript\", \"img_src_absolute\", \"push\", \"a_href_https\", \"div_count\", \"concat\", \"link_rel_stylesheet\", \"script_src_https\", \"apply\", \"document.createElement\", \"link_href_absolute\", \"iframe_count\", \"link_count\", \"window.addEventListener\", \"indexOf\", \"split\", \"link_rel_shortcut icon\", \"join\", \"Math.random\", \"escape\", \"script_src_.js\", \"script_src_relative\", \"style_count\", \"img_src_https\", \"link_rel_icon\", \"small_count\", \"unescape\", \"iframe_src_https\", \"link_href_https\", \"link_href_.ico\", \"parseInt\", \"iframe_src_relative\", \"document.getElementsByTagName\", \"meta_http-equiv_X-UA-Compatible\", \"pop\", \"getTime\", \"setTime\", \"replace\", \"Math.floor\", \"decodeURIComponent\", \"match\", \"JSON.parse\", \"charAt\", \"link_rel_canonical\", \"encodeURIComponent\", \"test\", \"Math.round\", \"substring\", \"shift\", \"document.getElementById\", \"script_async_true\", \"input_count\"], \"type\": \"bar\", \"uid\": \"82894133-5087-44b8-b1e0-a7297baa2f00\"}], {\"autosize\": false, \"height\": 1000, \"width\": 1000, \"xaxis\": {\"tickfont\": {\"color\": \"black\", \"size\": 12}, \"title\": \"Feature Importances\"}, \"yaxis\": {\"automargin\": true}}, {\"showLink\": true, \"linkText\": \"Export to plot.ly\", \"plotlyServerURL\": \"https://plot.ly\"})});</script>"
      ],
      "text/vnd.plotly.v1+html": [
       "<div id=\"fc8daf06-3cbd-4d71-88da-0c8d82bfa4cb\" style=\"height: 1000px; width: 1000px;\" class=\"plotly-graph-div\"></div><script type=\"text/javascript\">require([\"plotly\"], function(Plotly) { window.PLOTLYENV=window.PLOTLYENV || {};window.PLOTLYENV.BASE_URL=\"https://plot.ly\";Plotly.newPlot(\"fc8daf06-3cbd-4d71-88da-0c8d82bfa4cb\", [{\"marker\": {\"color\": \"rgb(158,202,225)\", \"line\": {\"color\": \"rgb(8,48,107)\", \"width\": 1.5}}, \"opacity\": 0.6, \"orientation\": \"h\", \"text\": [0.1, 0.08, 0.08, 0.06, 0.06, 0.06, 0.06, 0.06, 0.04, 0.04, 0.04, 0.04, 0.02, 0.02, 0.02, 0.02, 0.02, 0.02, 0.02, 0.02, 0.02, 0.02, 0.02, 0.02, 0.02, 0.02, 0.0, 0.0, 0.0, 0.0, 0.0, 0.0, 0.0, 0.0, 0.0, 0.0, 0.0, 0.0, 0.0, 0.0, 0.0, 0.0, 0.0, 0.0, 0.0, 0.0, 0.0, 0.0, 0.0, 0.0, 0.0, 0.0, 0.0, 0.0, 0.0, 0.0], \"textposition\": \"outside\", \"x\": [0.1, 0.08, 0.08, 0.06, 0.06, 0.06, 0.06, 0.06, 0.04, 0.04, 0.04, 0.04, 0.02, 0.02, 0.02, 0.02, 0.02, 0.02, 0.02, 0.02, 0.02, 0.02, 0.02, 0.02, 0.02, 0.02, 0.0, 0.0, 0.0, 0.0, 0.0, 0.0, 0.0, 0.0, 0.0, 0.0, 0.0, 0.0, 0.0, 0.0, 0.0, 0.0, 0.0, 0.0, 0.0, 0.0, 0.0, 0.0, 0.0, 0.0, 0.0, 0.0, 0.0, 0.0, 0.0, 0.0], \"y\": [\"a_count\", \"script_src_out_of_domain\", \"script_count\", \"img_src_.jpg\", \"script_type_text/javascript\", \"img_src_absolute\", \"push\", \"a_href_https\", \"div_count\", \"concat\", \"link_rel_stylesheet\", \"script_src_https\", \"apply\", \"document.createElement\", \"link_href_absolute\", \"iframe_count\", \"link_count\", \"window.addEventListener\", \"indexOf\", \"split\", \"link_rel_shortcut icon\", \"join\", \"Math.random\", \"escape\", \"script_src_.js\", \"script_src_relative\", \"style_count\", \"img_src_https\", \"link_rel_icon\", \"small_count\", \"unescape\", \"iframe_src_https\", \"link_href_https\", \"link_href_.ico\", \"parseInt\", \"iframe_src_relative\", \"document.getElementsByTagName\", \"meta_http-equiv_X-UA-Compatible\", \"pop\", \"getTime\", \"setTime\", \"replace\", \"Math.floor\", \"decodeURIComponent\", \"match\", \"JSON.parse\", \"charAt\", \"link_rel_canonical\", \"encodeURIComponent\", \"test\", \"Math.round\", \"substring\", \"shift\", \"document.getElementById\", \"script_async_true\", \"input_count\"], \"type\": \"bar\", \"uid\": \"82894133-5087-44b8-b1e0-a7297baa2f00\"}], {\"autosize\": false, \"height\": 1000, \"width\": 1000, \"xaxis\": {\"tickfont\": {\"color\": \"black\", \"size\": 12}, \"title\": \"Feature Importances\"}, \"yaxis\": {\"automargin\": true}}, {\"showLink\": true, \"linkText\": \"Export to plot.ly\", \"plotlyServerURL\": \"https://plot.ly\"})});</script>"
      ]
     },
     "metadata": {},
     "output_type": "display_data"
    },
    {
     "name": "stdout",
     "output_type": "stream",
     "text": [
      "\n",
      "\n",
      "\u001b[1mGradientBoosting Classifier\u001b[0m\n",
      "Accuracy of the model for training data is: 0.89602972334\n",
      "Confusion Matrix for training data is:\n"
     ]
    },
    {
     "data": {
      "text/plain": [
       "Predicted  False  True  __all__\n",
       "Actual                         \n",
       "False      24982  2856    27838\n",
       "True         530  4199     4729\n",
       "__all__    25512  7055    32567"
      ]
     },
     "metadata": {},
     "output_type": "display_data"
    },
    {
     "name": "stdout",
     "output_type": "stream",
     "text": [
      "Accuracy of the model for test data is: 0.892778187178\n",
      "Confusion Matrix for test data is:\n"
     ]
    },
    {
     "data": {
      "text/plain": [
       "Predicted  False  True  __all__\n",
       "Actual                         \n",
       "False       6209   731     6940\n",
       "True         142  1060     1202\n",
       "__all__     6351  1791     8142"
      ]
     },
     "metadata": {},
     "output_type": "display_data"
    },
    {
     "data": {
      "application/vnd.plotly.v1+json": {
       "config": {
        "linkText": "Export to plot.ly",
        "plotlyServerURL": "https://plot.ly",
        "showLink": true
       },
       "data": [
        {
         "marker": {
          "color": "rgb(158,202,225)",
          "line": {
           "color": "rgb(8,48,107)",
           "width": 1.5
          }
         },
         "opacity": 0.6,
         "orientation": "h",
         "text": [
          0.7676,
          0.0807,
          0.026,
          0.0189,
          0.0181,
          0.0138,
          0.0096,
          0.0083,
          0.0077,
          0.0051,
          0.0048,
          0.0045,
          0.0036,
          0.0027,
          0.0025,
          0.0021,
          0.0021,
          0.002,
          0.0017,
          0.0017,
          0.0017,
          0.0015,
          0.0014,
          0.0013,
          0.0012,
          0.0011,
          0.001,
          0.001,
          0.0009,
          0.0007,
          0.0007,
          0.0006,
          0.0006,
          0.0005,
          0.0004,
          0.0004,
          0.0003,
          0.0003,
          0.0002,
          0.0002,
          0.0002,
          0.0002,
          0.0001,
          0.0001,
          0.0001,
          0.0001,
          0,
          0,
          0,
          0,
          0,
          0,
          0,
          0,
          0,
          0
         ],
         "textposition": "outside",
         "type": "bar",
         "uid": "1063fe19-7c9c-4579-b4b3-45a3549516f1",
         "x": [
          0.7676240744977256,
          0.08065284893362794,
          0.025950483382642598,
          0.01885953876884284,
          0.018122558044075282,
          0.013847185005083558,
          0.009597550299979805,
          0.008271762863681134,
          0.007734959573353824,
          0.005089899149813977,
          0.004782933296403061,
          0.004472796873374145,
          0.0036224919301890766,
          0.002701010129831532,
          0.0025012897581333598,
          0.0020769061859921946,
          0.0020724191816817784,
          0.0019611709076661978,
          0.0016864703489144765,
          0.0016582664396973517,
          0.0016515181935417326,
          0.0015149572063678678,
          0.0014239155727010758,
          0.0012573780804549593,
          0.00117318538060461,
          0.0011109357339676787,
          0.0010233337803101684,
          0.0009671918785540239,
          0.0008759661160711275,
          0.0007336392294011038,
          0.0006523949105301832,
          0.000646054357135653,
          0.0006209789488805012,
          0.0004879845278154673,
          0.00039880769844129275,
          0.00037975066488163764,
          0.0003369582296562719,
          0.0003178029326938214,
          0.0002223318189290075,
          0.00020865310904115926,
          0.0002026520087885631,
          0.00017830474411276422,
          8.371655395065187e-05,
          7.315323159884306e-05,
          6.883433104863435e-05,
          5.5721880043336914e-05,
          4.722853513558115e-05,
          3.477463253910568e-08,
          0,
          0,
          0,
          0,
          0,
          0,
          0,
          0
         ],
         "y": [
          "script_count",
          "a_count",
          "push",
          "script_src_out_of_domain",
          "div_count",
          "script_src_https",
          "a_href_https",
          "indexOf",
          "link_rel_stylesheet",
          "input_count",
          "document.getElementById",
          "link_href_https",
          "style_count",
          "link_rel_icon",
          "script_type_text/javascript",
          "script_src_.js",
          "link_href_absolute",
          "script_async_true",
          "getTime",
          "escape",
          "script_src_relative",
          "img_src_absolute",
          "document.getElementsByTagName",
          "meta_http-equiv_X-UA-Compatible",
          "Math.floor",
          "join",
          "apply",
          "iframe_src_relative",
          "iframe_src_https",
          "link_count",
          "link_href_.ico",
          "replace",
          "encodeURIComponent",
          "unescape",
          "img_src_https",
          "match",
          "split",
          "JSON.parse",
          "link_rel_shortcut icon",
          "charAt",
          "img_src_.jpg",
          "concat",
          "window.addEventListener",
          "pop",
          "Math.random",
          "test",
          "document.createElement",
          "decodeURIComponent",
          "iframe_count",
          "setTime",
          "link_rel_canonical",
          "shift",
          "substring",
          "parseInt",
          "Math.round",
          "small_count"
         ]
        }
       ],
       "layout": {
        "autosize": false,
        "height": 1000,
        "width": 1000,
        "xaxis": {
         "tickfont": {
          "color": "black",
          "size": 12
         },
         "title": "Feature Importances"
        },
        "yaxis": {
         "automargin": true
        }
       }
      },
      "text/html": [
       "<div id=\"8f0bab39-189f-40ac-931e-c0a8493a4d08\" style=\"height: 1000px; width: 1000px;\" class=\"plotly-graph-div\"></div><script type=\"text/javascript\">require([\"plotly\"], function(Plotly) { window.PLOTLYENV=window.PLOTLYENV || {};window.PLOTLYENV.BASE_URL=\"https://plot.ly\";Plotly.newPlot(\"8f0bab39-189f-40ac-931e-c0a8493a4d08\", [{\"marker\": {\"color\": \"rgb(158,202,225)\", \"line\": {\"color\": \"rgb(8,48,107)\", \"width\": 1.5}}, \"opacity\": 0.6, \"orientation\": \"h\", \"text\": [0.7676, 0.0807, 0.026, 0.0189, 0.0181, 0.0138, 0.0096, 0.0083, 0.0077, 0.0051, 0.0048, 0.0045, 0.0036, 0.0027, 0.0025, 0.0021, 0.0021, 0.002, 0.0017, 0.0017, 0.0017, 0.0015, 0.0014, 0.0013, 0.0012, 0.0011, 0.001, 0.001, 0.0009, 0.0007, 0.0007, 0.0006, 0.0006, 0.0005, 0.0004, 0.0004, 0.0003, 0.0003, 0.0002, 0.0002, 0.0002, 0.0002, 0.0001, 0.0001, 0.0001, 0.0001, 0.0, 0.0, 0.0, 0.0, 0.0, 0.0, 0.0, 0.0, 0.0, 0.0], \"textposition\": \"outside\", \"x\": [0.7676240744977256, 0.08065284893362794, 0.025950483382642598, 0.01885953876884284, 0.018122558044075282, 0.013847185005083558, 0.009597550299979805, 0.008271762863681134, 0.007734959573353824, 0.005089899149813977, 0.004782933296403061, 0.004472796873374145, 0.0036224919301890766, 0.002701010129831532, 0.0025012897581333598, 0.0020769061859921946, 0.0020724191816817784, 0.0019611709076661978, 0.0016864703489144765, 0.0016582664396973517, 0.0016515181935417326, 0.0015149572063678678, 0.0014239155727010758, 0.0012573780804549593, 0.00117318538060461, 0.0011109357339676787, 0.0010233337803101684, 0.0009671918785540239, 0.0008759661160711275, 0.0007336392294011038, 0.0006523949105301832, 0.000646054357135653, 0.0006209789488805012, 0.0004879845278154673, 0.00039880769844129275, 0.00037975066488163764, 0.0003369582296562719, 0.0003178029326938214, 0.0002223318189290075, 0.00020865310904115926, 0.0002026520087885631, 0.00017830474411276422, 8.371655395065187e-05, 7.315323159884306e-05, 6.883433104863435e-05, 5.5721880043336914e-05, 4.722853513558115e-05, 3.477463253910568e-08, 0.0, 0.0, 0.0, 0.0, 0.0, 0.0, 0.0, 0.0], \"y\": [\"script_count\", \"a_count\", \"push\", \"script_src_out_of_domain\", \"div_count\", \"script_src_https\", \"a_href_https\", \"indexOf\", \"link_rel_stylesheet\", \"input_count\", \"document.getElementById\", \"link_href_https\", \"style_count\", \"link_rel_icon\", \"script_type_text/javascript\", \"script_src_.js\", \"link_href_absolute\", \"script_async_true\", \"getTime\", \"escape\", \"script_src_relative\", \"img_src_absolute\", \"document.getElementsByTagName\", \"meta_http-equiv_X-UA-Compatible\", \"Math.floor\", \"join\", \"apply\", \"iframe_src_relative\", \"iframe_src_https\", \"link_count\", \"link_href_.ico\", \"replace\", \"encodeURIComponent\", \"unescape\", \"img_src_https\", \"match\", \"split\", \"JSON.parse\", \"link_rel_shortcut icon\", \"charAt\", \"img_src_.jpg\", \"concat\", \"window.addEventListener\", \"pop\", \"Math.random\", \"test\", \"document.createElement\", \"decodeURIComponent\", \"iframe_count\", \"setTime\", \"link_rel_canonical\", \"shift\", \"substring\", \"parseInt\", \"Math.round\", \"small_count\"], \"type\": \"bar\", \"uid\": \"1063fe19-7c9c-4579-b4b3-45a3549516f1\"}], {\"autosize\": false, \"height\": 1000, \"width\": 1000, \"xaxis\": {\"tickfont\": {\"color\": \"black\", \"size\": 12}, \"title\": \"Feature Importances\"}, \"yaxis\": {\"automargin\": true}}, {\"showLink\": true, \"linkText\": \"Export to plot.ly\", \"plotlyServerURL\": \"https://plot.ly\"})});</script>"
      ],
      "text/vnd.plotly.v1+html": [
       "<div id=\"8f0bab39-189f-40ac-931e-c0a8493a4d08\" style=\"height: 1000px; width: 1000px;\" class=\"plotly-graph-div\"></div><script type=\"text/javascript\">require([\"plotly\"], function(Plotly) { window.PLOTLYENV=window.PLOTLYENV || {};window.PLOTLYENV.BASE_URL=\"https://plot.ly\";Plotly.newPlot(\"8f0bab39-189f-40ac-931e-c0a8493a4d08\", [{\"marker\": {\"color\": \"rgb(158,202,225)\", \"line\": {\"color\": \"rgb(8,48,107)\", \"width\": 1.5}}, \"opacity\": 0.6, \"orientation\": \"h\", \"text\": [0.7676, 0.0807, 0.026, 0.0189, 0.0181, 0.0138, 0.0096, 0.0083, 0.0077, 0.0051, 0.0048, 0.0045, 0.0036, 0.0027, 0.0025, 0.0021, 0.0021, 0.002, 0.0017, 0.0017, 0.0017, 0.0015, 0.0014, 0.0013, 0.0012, 0.0011, 0.001, 0.001, 0.0009, 0.0007, 0.0007, 0.0006, 0.0006, 0.0005, 0.0004, 0.0004, 0.0003, 0.0003, 0.0002, 0.0002, 0.0002, 0.0002, 0.0001, 0.0001, 0.0001, 0.0001, 0.0, 0.0, 0.0, 0.0, 0.0, 0.0, 0.0, 0.0, 0.0, 0.0], \"textposition\": \"outside\", \"x\": [0.7676240744977256, 0.08065284893362794, 0.025950483382642598, 0.01885953876884284, 0.018122558044075282, 0.013847185005083558, 0.009597550299979805, 0.008271762863681134, 0.007734959573353824, 0.005089899149813977, 0.004782933296403061, 0.004472796873374145, 0.0036224919301890766, 0.002701010129831532, 0.0025012897581333598, 0.0020769061859921946, 0.0020724191816817784, 0.0019611709076661978, 0.0016864703489144765, 0.0016582664396973517, 0.0016515181935417326, 0.0015149572063678678, 0.0014239155727010758, 0.0012573780804549593, 0.00117318538060461, 0.0011109357339676787, 0.0010233337803101684, 0.0009671918785540239, 0.0008759661160711275, 0.0007336392294011038, 0.0006523949105301832, 0.000646054357135653, 0.0006209789488805012, 0.0004879845278154673, 0.00039880769844129275, 0.00037975066488163764, 0.0003369582296562719, 0.0003178029326938214, 0.0002223318189290075, 0.00020865310904115926, 0.0002026520087885631, 0.00017830474411276422, 8.371655395065187e-05, 7.315323159884306e-05, 6.883433104863435e-05, 5.5721880043336914e-05, 4.722853513558115e-05, 3.477463253910568e-08, 0.0, 0.0, 0.0, 0.0, 0.0, 0.0, 0.0, 0.0], \"y\": [\"script_count\", \"a_count\", \"push\", \"script_src_out_of_domain\", \"div_count\", \"script_src_https\", \"a_href_https\", \"indexOf\", \"link_rel_stylesheet\", \"input_count\", \"document.getElementById\", \"link_href_https\", \"style_count\", \"link_rel_icon\", \"script_type_text/javascript\", \"script_src_.js\", \"link_href_absolute\", \"script_async_true\", \"getTime\", \"escape\", \"script_src_relative\", \"img_src_absolute\", \"document.getElementsByTagName\", \"meta_http-equiv_X-UA-Compatible\", \"Math.floor\", \"join\", \"apply\", \"iframe_src_relative\", \"iframe_src_https\", \"link_count\", \"link_href_.ico\", \"replace\", \"encodeURIComponent\", \"unescape\", \"img_src_https\", \"match\", \"split\", \"JSON.parse\", \"link_rel_shortcut icon\", \"charAt\", \"img_src_.jpg\", \"concat\", \"window.addEventListener\", \"pop\", \"Math.random\", \"test\", \"document.createElement\", \"decodeURIComponent\", \"iframe_count\", \"setTime\", \"link_rel_canonical\", \"shift\", \"substring\", \"parseInt\", \"Math.round\", \"small_count\"], \"type\": \"bar\", \"uid\": \"1063fe19-7c9c-4579-b4b3-45a3549516f1\"}], {\"autosize\": false, \"height\": 1000, \"width\": 1000, \"xaxis\": {\"tickfont\": {\"color\": \"black\", \"size\": 12}, \"title\": \"Feature Importances\"}, \"yaxis\": {\"automargin\": true}}, {\"showLink\": true, \"linkText\": \"Export to plot.ly\", \"plotlyServerURL\": \"https://plot.ly\"})});</script>"
      ]
     },
     "metadata": {},
     "output_type": "display_data"
    },
    {
     "name": "stdout",
     "output_type": "stream",
     "text": [
      "\n",
      "\n",
      "\u001b[1mExtraTree Classifier\u001b[0m\n",
      "Accuracy of the model for training data is: 0.912488101452\n",
      "Confusion Matrix for training data is:\n"
     ]
    },
    {
     "data": {
      "text/plain": [
       "Predicted  False  True  __all__\n",
       "Actual                         \n",
       "False      25035  2803    27838\n",
       "True          47  4682     4729\n",
       "__all__    25082  7485    32567"
      ]
     },
     "metadata": {},
     "output_type": "display_data"
    },
    {
     "name": "stdout",
     "output_type": "stream",
     "text": [
      "Accuracy of the model for test data is: 0.898550724638\n",
      "Confusion Matrix for test data is:\n"
     ]
    },
    {
     "data": {
      "text/plain": [
       "Predicted  False  True  __all__\n",
       "Actual                         \n",
       "False       6219   721     6940\n",
       "True         105  1097     1202\n",
       "__all__     6324  1818     8142"
      ]
     },
     "metadata": {},
     "output_type": "display_data"
    },
    {
     "data": {
      "application/vnd.plotly.v1+json": {
       "config": {
        "linkText": "Export to plot.ly",
        "plotlyServerURL": "https://plot.ly",
        "showLink": true
       },
       "data": [
        {
         "marker": {
          "color": "rgb(158,202,225)",
          "line": {
           "color": "rgb(8,48,107)",
           "width": 1.5
          }
         },
         "opacity": 0.6,
         "orientation": "h",
         "text": [
          0.1043,
          0.0763,
          0.065,
          0.0544,
          0.0513,
          0.0464,
          0.0455,
          0.0413,
          0.0374,
          0.032,
          0.0303,
          0.0297,
          0.0284,
          0.0213,
          0.0201,
          0.0201,
          0.0196,
          0.0193,
          0.0178,
          0.0175,
          0.0163,
          0.0151,
          0.0138,
          0.0136,
          0.0114,
          0.0104,
          0.0102,
          0.0098,
          0.0098,
          0.0097,
          0.0077,
          0.0077,
          0.0063,
          0.0063,
          0.0063,
          0.0062,
          0.0061,
          0.0054,
          0.005,
          0.005,
          0.005,
          0.0049,
          0.0042,
          0.0032,
          0.003,
          0.0027,
          0.0027,
          0.0024,
          0.0023,
          0.0022,
          0.0018,
          0.0018,
          0.0015,
          0.0012,
          0.0005,
          0.0005
         ],
         "textposition": "outside",
         "type": "bar",
         "uid": "cb9cd24d-230e-4d8f-9f6a-9bbaece86d27",
         "x": [
          0.10429246321834913,
          0.07627157296428606,
          0.0649747597750273,
          0.054410672257368106,
          0.05128204395384432,
          0.046425789854185634,
          0.045455514671403865,
          0.04131803082878111,
          0.0373763138051673,
          0.03202715676354566,
          0.03025301261782079,
          0.029701182715054963,
          0.028370938470986262,
          0.0213474709575778,
          0.020111139516807063,
          0.020070890422367517,
          0.019570853525087663,
          0.019304932080258654,
          0.01780476550700449,
          0.01753989919985999,
          0.01627068414863505,
          0.0150859498964692,
          0.013809540938251324,
          0.013647078463976708,
          0.011383018131554514,
          0.010400243097133348,
          0.010209527836815736,
          0.009791211537592177,
          0.009761935114773754,
          0.009718509856527318,
          0.007715209670036883,
          0.007683187978405205,
          0.006300109881194444,
          0.0062944346267018005,
          0.00626049305067234,
          0.006157223957592957,
          0.006146847768728064,
          0.00537484673628753,
          0.005040994438532508,
          0.005032747527716662,
          0.0050221000074660484,
          0.00490575264187211,
          0.0042029373615027985,
          0.0032168836267596965,
          0.0030346828761735117,
          0.0027293175457283768,
          0.002680826859906944,
          0.0023761465283447985,
          0.002325328973741734,
          0.0021937044014338444,
          0.0018282786235154652,
          0.0018018110489556281,
          0.0014598733468894442,
          0.0012469779848339414,
          0.0004961843291969714,
          0.0004859960812973991
         ],
         "y": [
          "link_rel_stylesheet",
          "a_count",
          "link_rel_canonical",
          "script_src_relative",
          "a_href_https",
          "img_src_.jpg",
          "div_count",
          "script_src_.js",
          "script_count",
          "script_type_text/javascript",
          "link_href_https",
          "document.getElementsByTagName",
          "link_href_.ico",
          "link_rel_shortcut icon",
          "iframe_src_https",
          "link_rel_icon",
          "link_count",
          "script_src_out_of_domain",
          "style_count",
          "script_src_https",
          "link_href_absolute",
          "img_src_absolute",
          "indexOf",
          "push",
          "input_count",
          "img_src_https",
          "meta_http-equiv_X-UA-Compatible",
          "iframe_src_relative",
          "script_async_true",
          "split",
          "iframe_count",
          "document.getElementById",
          "document.createElement",
          "encodeURIComponent",
          "substring",
          "match",
          "getTime",
          "escape",
          "apply",
          "replace",
          "Math.round",
          "parseInt",
          "Math.random",
          "unescape",
          "decodeURIComponent",
          "window.addEventListener",
          "small_count",
          "Math.floor",
          "test",
          "setTime",
          "JSON.parse",
          "pop",
          "join",
          "concat",
          "shift",
          "charAt"
         ]
        }
       ],
       "layout": {
        "autosize": false,
        "height": 1000,
        "width": 1000,
        "xaxis": {
         "tickfont": {
          "color": "black",
          "size": 12
         },
         "title": "Feature Importances"
        },
        "yaxis": {
         "automargin": true
        }
       }
      },
      "text/html": [
       "<div id=\"4ae6120f-44ad-4b42-9ecf-349bce5ec34a\" style=\"height: 1000px; width: 1000px;\" class=\"plotly-graph-div\"></div><script type=\"text/javascript\">require([\"plotly\"], function(Plotly) { window.PLOTLYENV=window.PLOTLYENV || {};window.PLOTLYENV.BASE_URL=\"https://plot.ly\";Plotly.newPlot(\"4ae6120f-44ad-4b42-9ecf-349bce5ec34a\", [{\"marker\": {\"color\": \"rgb(158,202,225)\", \"line\": {\"color\": \"rgb(8,48,107)\", \"width\": 1.5}}, \"opacity\": 0.6, \"orientation\": \"h\", \"text\": [0.1043, 0.0763, 0.065, 0.0544, 0.0513, 0.0464, 0.0455, 0.0413, 0.0374, 0.032, 0.0303, 0.0297, 0.0284, 0.0213, 0.0201, 0.0201, 0.0196, 0.0193, 0.0178, 0.0175, 0.0163, 0.0151, 0.0138, 0.0136, 0.0114, 0.0104, 0.0102, 0.0098, 0.0098, 0.0097, 0.0077, 0.0077, 0.0063, 0.0063, 0.0063, 0.0062, 0.0061, 0.0054, 0.005, 0.005, 0.005, 0.0049, 0.0042, 0.0032, 0.003, 0.0027, 0.0027, 0.0024, 0.0023, 0.0022, 0.0018, 0.0018, 0.0015, 0.0012, 0.0005, 0.0005], \"textposition\": \"outside\", \"x\": [0.10429246321834913, 0.07627157296428606, 0.0649747597750273, 0.054410672257368106, 0.05128204395384432, 0.046425789854185634, 0.045455514671403865, 0.04131803082878111, 0.0373763138051673, 0.03202715676354566, 0.03025301261782079, 0.029701182715054963, 0.028370938470986262, 0.0213474709575778, 0.020111139516807063, 0.020070890422367517, 0.019570853525087663, 0.019304932080258654, 0.01780476550700449, 0.01753989919985999, 0.01627068414863505, 0.0150859498964692, 0.013809540938251324, 0.013647078463976708, 0.011383018131554514, 0.010400243097133348, 0.010209527836815736, 0.009791211537592177, 0.009761935114773754, 0.009718509856527318, 0.007715209670036883, 0.007683187978405205, 0.006300109881194444, 0.0062944346267018005, 0.00626049305067234, 0.006157223957592957, 0.006146847768728064, 0.00537484673628753, 0.005040994438532508, 0.005032747527716662, 0.0050221000074660484, 0.00490575264187211, 0.0042029373615027985, 0.0032168836267596965, 0.0030346828761735117, 0.0027293175457283768, 0.002680826859906944, 0.0023761465283447985, 0.002325328973741734, 0.0021937044014338444, 0.0018282786235154652, 0.0018018110489556281, 0.0014598733468894442, 0.0012469779848339414, 0.0004961843291969714, 0.0004859960812973991], \"y\": [\"link_rel_stylesheet\", \"a_count\", \"link_rel_canonical\", \"script_src_relative\", \"a_href_https\", \"img_src_.jpg\", \"div_count\", \"script_src_.js\", \"script_count\", \"script_type_text/javascript\", \"link_href_https\", \"document.getElementsByTagName\", \"link_href_.ico\", \"link_rel_shortcut icon\", \"iframe_src_https\", \"link_rel_icon\", \"link_count\", \"script_src_out_of_domain\", \"style_count\", \"script_src_https\", \"link_href_absolute\", \"img_src_absolute\", \"indexOf\", \"push\", \"input_count\", \"img_src_https\", \"meta_http-equiv_X-UA-Compatible\", \"iframe_src_relative\", \"script_async_true\", \"split\", \"iframe_count\", \"document.getElementById\", \"document.createElement\", \"encodeURIComponent\", \"substring\", \"match\", \"getTime\", \"escape\", \"apply\", \"replace\", \"Math.round\", \"parseInt\", \"Math.random\", \"unescape\", \"decodeURIComponent\", \"window.addEventListener\", \"small_count\", \"Math.floor\", \"test\", \"setTime\", \"JSON.parse\", \"pop\", \"join\", \"concat\", \"shift\", \"charAt\"], \"type\": \"bar\", \"uid\": \"cb9cd24d-230e-4d8f-9f6a-9bbaece86d27\"}], {\"autosize\": false, \"height\": 1000, \"width\": 1000, \"xaxis\": {\"tickfont\": {\"color\": \"black\", \"size\": 12}, \"title\": \"Feature Importances\"}, \"yaxis\": {\"automargin\": true}}, {\"showLink\": true, \"linkText\": \"Export to plot.ly\", \"plotlyServerURL\": \"https://plot.ly\"})});</script>"
      ],
      "text/vnd.plotly.v1+html": [
       "<div id=\"4ae6120f-44ad-4b42-9ecf-349bce5ec34a\" style=\"height: 1000px; width: 1000px;\" class=\"plotly-graph-div\"></div><script type=\"text/javascript\">require([\"plotly\"], function(Plotly) { window.PLOTLYENV=window.PLOTLYENV || {};window.PLOTLYENV.BASE_URL=\"https://plot.ly\";Plotly.newPlot(\"4ae6120f-44ad-4b42-9ecf-349bce5ec34a\", [{\"marker\": {\"color\": \"rgb(158,202,225)\", \"line\": {\"color\": \"rgb(8,48,107)\", \"width\": 1.5}}, \"opacity\": 0.6, \"orientation\": \"h\", \"text\": [0.1043, 0.0763, 0.065, 0.0544, 0.0513, 0.0464, 0.0455, 0.0413, 0.0374, 0.032, 0.0303, 0.0297, 0.0284, 0.0213, 0.0201, 0.0201, 0.0196, 0.0193, 0.0178, 0.0175, 0.0163, 0.0151, 0.0138, 0.0136, 0.0114, 0.0104, 0.0102, 0.0098, 0.0098, 0.0097, 0.0077, 0.0077, 0.0063, 0.0063, 0.0063, 0.0062, 0.0061, 0.0054, 0.005, 0.005, 0.005, 0.0049, 0.0042, 0.0032, 0.003, 0.0027, 0.0027, 0.0024, 0.0023, 0.0022, 0.0018, 0.0018, 0.0015, 0.0012, 0.0005, 0.0005], \"textposition\": \"outside\", \"x\": [0.10429246321834913, 0.07627157296428606, 0.0649747597750273, 0.054410672257368106, 0.05128204395384432, 0.046425789854185634, 0.045455514671403865, 0.04131803082878111, 0.0373763138051673, 0.03202715676354566, 0.03025301261782079, 0.029701182715054963, 0.028370938470986262, 0.0213474709575778, 0.020111139516807063, 0.020070890422367517, 0.019570853525087663, 0.019304932080258654, 0.01780476550700449, 0.01753989919985999, 0.01627068414863505, 0.0150859498964692, 0.013809540938251324, 0.013647078463976708, 0.011383018131554514, 0.010400243097133348, 0.010209527836815736, 0.009791211537592177, 0.009761935114773754, 0.009718509856527318, 0.007715209670036883, 0.007683187978405205, 0.006300109881194444, 0.0062944346267018005, 0.00626049305067234, 0.006157223957592957, 0.006146847768728064, 0.00537484673628753, 0.005040994438532508, 0.005032747527716662, 0.0050221000074660484, 0.00490575264187211, 0.0042029373615027985, 0.0032168836267596965, 0.0030346828761735117, 0.0027293175457283768, 0.002680826859906944, 0.0023761465283447985, 0.002325328973741734, 0.0021937044014338444, 0.0018282786235154652, 0.0018018110489556281, 0.0014598733468894442, 0.0012469779848339414, 0.0004961843291969714, 0.0004859960812973991], \"y\": [\"link_rel_stylesheet\", \"a_count\", \"link_rel_canonical\", \"script_src_relative\", \"a_href_https\", \"img_src_.jpg\", \"div_count\", \"script_src_.js\", \"script_count\", \"script_type_text/javascript\", \"link_href_https\", \"document.getElementsByTagName\", \"link_href_.ico\", \"link_rel_shortcut icon\", \"iframe_src_https\", \"link_rel_icon\", \"link_count\", \"script_src_out_of_domain\", \"style_count\", \"script_src_https\", \"link_href_absolute\", \"img_src_absolute\", \"indexOf\", \"push\", \"input_count\", \"img_src_https\", \"meta_http-equiv_X-UA-Compatible\", \"iframe_src_relative\", \"script_async_true\", \"split\", \"iframe_count\", \"document.getElementById\", \"document.createElement\", \"encodeURIComponent\", \"substring\", \"match\", \"getTime\", \"escape\", \"apply\", \"replace\", \"Math.round\", \"parseInt\", \"Math.random\", \"unescape\", \"decodeURIComponent\", \"window.addEventListener\", \"small_count\", \"Math.floor\", \"test\", \"setTime\", \"JSON.parse\", \"pop\", \"join\", \"concat\", \"shift\", \"charAt\"], \"type\": \"bar\", \"uid\": \"cb9cd24d-230e-4d8f-9f6a-9bbaece86d27\"}], {\"autosize\": false, \"height\": 1000, \"width\": 1000, \"xaxis\": {\"tickfont\": {\"color\": \"black\", \"size\": 12}, \"title\": \"Feature Importances\"}, \"yaxis\": {\"automargin\": true}}, {\"showLink\": true, \"linkText\": \"Export to plot.ly\", \"plotlyServerURL\": \"https://plot.ly\"})});</script>"
      ]
     },
     "metadata": {},
     "output_type": "display_data"
    },
    {
     "name": "stdout",
     "output_type": "stream",
     "text": [
      "\n",
      "\n",
      "\u001b[1mBagging Classifier\u001b[0m\n",
      "Accuracy of the model for training data is: 0.910615039764\n",
      "Confusion Matrix for training data is:\n"
     ]
    },
    {
     "data": {
      "text/plain": [
       "Predicted  False  True  __all__\n",
       "Actual                         \n",
       "False      25030  2808    27838\n",
       "True         103  4626     4729\n",
       "__all__    25133  7434    32567"
      ]
     },
     "metadata": {},
     "output_type": "display_data"
    },
    {
     "name": "stdout",
     "output_type": "stream",
     "text": [
      "Accuracy of the model for test data is: 0.895603045935\n",
      "Confusion Matrix for test data is:\n"
     ]
    },
    {
     "data": {
      "text/plain": [
       "Predicted  False  True  __all__\n",
       "Actual                         \n",
       "False       6198   742     6940\n",
       "True         108  1094     1202\n",
       "__all__     6306  1836     8142"
      ]
     },
     "metadata": {},
     "output_type": "display_data"
    },
    {
     "name": "stdout",
     "output_type": "stream",
     "text": [
      "\n",
      "\n",
      "\u001b[1mNeural Network-1\u001b[0m\n",
      "The accuracy of the model on training data is: 0.896306076713\n"
     ]
    },
    {
     "data": {
      "text/plain": [
       "Predicted  False  True  __all__\n",
       "Actual                         \n",
       "False      24601  3237    27838\n",
       "True         140  4589     4729\n",
       "__all__    24741  7826    32567"
      ]
     },
     "metadata": {},
     "output_type": "display_data"
    },
    {
     "name": "stdout",
     "output_type": "stream",
     "text": [
      "The accuracy of the model on test data is: 0.884426430852\n"
     ]
    },
    {
     "data": {
      "text/plain": [
       "Predicted  False  True  __all__\n",
       "Actual                         \n",
       "False       6095   845     6940\n",
       "True          96  1106     1202\n",
       "__all__     6191  1951     8142"
      ]
     },
     "metadata": {},
     "output_type": "display_data"
    },
    {
     "name": "stdout",
     "output_type": "stream",
     "text": [
      "\n",
      "\n"
     ]
    }
   ],
   "source": [
    "feat_imp=[None]*4\n",
    "j=0\n",
    "for i in range(0,8):\n",
    "    if i>=2 and i<=5:\n",
    "        model,cm_train,cm_test,acc_train,acc_test,roc_auc,feat_imp[j],mcc=f[i](scaled_X_train,train_Y,scaled_X_test,test_Y,columns)\n",
    "        j=j+1\n",
    "    else:\n",
    "        model,cm_train,cm_test,acc_train,acc_test,roc_auc,mcc=f[i](scaled_X_train,train_Y,scaled_X_test,test_Y)\n",
    "    table_80_50_train.loc[i]=   ([acc_train,cm_train.TP,cm_train.TN,cm_train.FP,cm_train.FN,cm_train.FPR,cm_train.FNR])\n",
    "    table_80_50_test.loc[i] =   ([acc_test ,cm_test.TP, cm_test.TN, cm_test.FP, cm_test.FN, cm_test.FPR, cm_test.FNR,roc_auc,mcc])\n",
    "    print(\"\\n\")"
   ]
  },
  {
   "cell_type": "markdown",
   "metadata": {},
   "source": [
    "### <a id='1.A' style=\"text-decoration : none; color : #000000;\"> A Results</a>"
   ]
  },
  {
   "cell_type": "code",
   "execution_count": 19,
   "metadata": {},
   "outputs": [
    {
     "data": {
      "application/vnd.plotly.v1+json": {
       "config": {
        "linkText": "Export to plot.ly",
        "plotlyServerURL": "https://plot.ly",
        "showLink": true
       },
       "data": [
        {
         "mode": "lines",
         "name": "KNN_model",
         "type": "scatter",
         "uid": "7e216976-886e-4c84-b647-714b09303746",
         "x": [
          "accuracy",
          "FPR",
          "FNR",
          "auc"
         ],
         "y": [
          0.8652665192827315,
          0.008501440922190202,
          0.8635607321131448,
          0.5639689134823325
         ]
        },
        {
         "mode": "lines+markers",
         "name": "Logistic Regression",
         "type": "scatter",
         "uid": "4da104b7-ac85-445b-ad5b-3fc56cfbbba4",
         "x": [
          "accuracy",
          "FPR",
          "FNR",
          "auc"
         ],
         "y": [
          0.8780397936624907,
          0.11311239193083573,
          0.17304492512479203,
          0.8569213414721862
         ]
        },
        {
         "marker": {
          "symbol": "x"
         },
         "mode": "lines+markers",
         "name": "Random Forest",
         "type": "scatter",
         "uid": "490642f6-6b5b-4076-a926-6a0be060d564",
         "x": [
          "accuracy",
          "FPR",
          "FNR",
          "auc"
         ],
         "y": [
          0.897322525178089,
          0.10446685878962536,
          0.09234608985024959,
          0.9015935256800626
         ]
        },
        {
         "mode": "lines",
         "name": "Ada Boost",
         "type": "scatter",
         "uid": "107bab95-9d9f-4197-a2fb-8f6aa32c1487",
         "x": [
          "accuracy",
          "FPR",
          "FNR",
          "auc"
         ],
         "y": [
          0.8754605747973471,
          0.11887608069164265,
          0.1572379367720466,
          0.8619429912681553
         ]
        },
        {
         "mode": "lines+markers",
         "name": "GradientBoosting",
         "type": "scatter",
         "uid": "e13a9755-f5c7-4272-9fa6-3dcab55ec499",
         "x": [
          "accuracy",
          "FPR",
          "FNR",
          "auc"
         ],
         "y": [
          0.8927781871775976,
          0.1053314121037464,
          0.11813643926788686,
          0.8882660743141835
         ]
        },
        {
         "marker": {
          "symbol": "x"
         },
         "mode": "lines+markers",
         "name": "ExtraTree Classifier",
         "type": "scatter",
         "uid": "bc047ef2-f1c7-41e7-8c5e-06a7ac40964f",
         "x": [
          "accuracy",
          "FPR",
          "FNR",
          "auc"
         ],
         "y": [
          0.8985507246376812,
          0.10389048991354467,
          0.08735440931780367,
          0.9043775503843259
         ]
        },
        {
         "marker": {
          "symbol": "x"
         },
         "mode": "lines+markers",
         "name": "Bagging",
         "type": "scatter",
         "uid": "907f3b5c-124a-4af3-932e-03a255325bdf",
         "x": [
          "accuracy",
          "FPR",
          "FNR",
          "auc"
         ],
         "y": [
          0.8956030459346598,
          0.1069164265129683,
          0.08985024958402663,
          0.9016166619515026
         ]
        },
        {
         "marker": {
          "symbol": "x"
         },
         "mode": "lines+markers",
         "name": "Neural Network",
         "type": "scatter",
         "uid": "ac242524-fcf4-4037-b772-c9e73c76d247",
         "x": [
          "accuracy",
          "FPR",
          "FNR",
          "auc"
         ],
         "y": [
          0.8844264308523704,
          0.12175792507204611,
          0.07986688851913477,
          0.9016166619515026
         ]
        }
       ],
       "layout": {
        "title": "Result comparision for Features selected in Section 1",
        "yaxis": {
         "dtick": 0.05,
         "tick0": 0
        }
       }
      },
      "text/html": [
       "<div id=\"e02bd47c-3cb7-4b9a-9a0d-204c0c5df52f\" style=\"height: 525px; width: 100%;\" class=\"plotly-graph-div\"></div><script type=\"text/javascript\">require([\"plotly\"], function(Plotly) { window.PLOTLYENV=window.PLOTLYENV || {};window.PLOTLYENV.BASE_URL=\"https://plot.ly\";Plotly.newPlot(\"e02bd47c-3cb7-4b9a-9a0d-204c0c5df52f\", [{\"mode\": \"lines\", \"name\": \"KNN_model\", \"x\": [\"accuracy\", \"FPR\", \"FNR\", \"auc\"], \"y\": [0.8652665192827315, 0.008501440922190202, 0.8635607321131448, 0.5639689134823325], \"type\": \"scatter\", \"uid\": \"7e216976-886e-4c84-b647-714b09303746\"}, {\"mode\": \"lines+markers\", \"name\": \"Logistic Regression\", \"x\": [\"accuracy\", \"FPR\", \"FNR\", \"auc\"], \"y\": [0.8780397936624907, 0.11311239193083573, 0.17304492512479203, 0.8569213414721862], \"type\": \"scatter\", \"uid\": \"4da104b7-ac85-445b-ad5b-3fc56cfbbba4\"}, {\"marker\": {\"symbol\": \"x\"}, \"mode\": \"lines+markers\", \"name\": \"Random Forest\", \"x\": [\"accuracy\", \"FPR\", \"FNR\", \"auc\"], \"y\": [0.897322525178089, 0.10446685878962536, 0.09234608985024959, 0.9015935256800626], \"type\": \"scatter\", \"uid\": \"490642f6-6b5b-4076-a926-6a0be060d564\"}, {\"mode\": \"lines\", \"name\": \"Ada Boost\", \"x\": [\"accuracy\", \"FPR\", \"FNR\", \"auc\"], \"y\": [0.8754605747973471, 0.11887608069164265, 0.1572379367720466, 0.8619429912681553], \"type\": \"scatter\", \"uid\": \"107bab95-9d9f-4197-a2fb-8f6aa32c1487\"}, {\"mode\": \"lines+markers\", \"name\": \"GradientBoosting\", \"x\": [\"accuracy\", \"FPR\", \"FNR\", \"auc\"], \"y\": [0.8927781871775976, 0.1053314121037464, 0.11813643926788686, 0.8882660743141835], \"type\": \"scatter\", \"uid\": \"e13a9755-f5c7-4272-9fa6-3dcab55ec499\"}, {\"marker\": {\"symbol\": \"x\"}, \"mode\": \"lines+markers\", \"name\": \"ExtraTree Classifier\", \"x\": [\"accuracy\", \"FPR\", \"FNR\", \"auc\"], \"y\": [0.8985507246376812, 0.10389048991354467, 0.08735440931780367, 0.9043775503843259], \"type\": \"scatter\", \"uid\": \"bc047ef2-f1c7-41e7-8c5e-06a7ac40964f\"}, {\"marker\": {\"symbol\": \"x\"}, \"mode\": \"lines+markers\", \"name\": \"Bagging\", \"x\": [\"accuracy\", \"FPR\", \"FNR\", \"auc\"], \"y\": [0.8956030459346598, 0.1069164265129683, 0.08985024958402663, 0.9016166619515026], \"type\": \"scatter\", \"uid\": \"907f3b5c-124a-4af3-932e-03a255325bdf\"}, {\"marker\": {\"symbol\": \"x\"}, \"mode\": \"lines+markers\", \"name\": \"Neural Network\", \"x\": [\"accuracy\", \"FPR\", \"FNR\", \"auc\"], \"y\": [0.8844264308523704, 0.12175792507204611, 0.07986688851913477, 0.9016166619515026], \"type\": \"scatter\", \"uid\": \"ac242524-fcf4-4037-b772-c9e73c76d247\"}], {\"title\": \"Result comparision for Features selected in Section 1\", \"yaxis\": {\"dtick\": 0.05, \"tick0\": 0}}, {\"showLink\": true, \"linkText\": \"Export to plot.ly\", \"plotlyServerURL\": \"https://plot.ly\"})});</script><script type=\"text/javascript\">window.addEventListener(\"resize\", function(){window._Plotly.Plots.resize(document.getElementById(\"e02bd47c-3cb7-4b9a-9a0d-204c0c5df52f\"));});</script>"
      ],
      "text/vnd.plotly.v1+html": [
       "<div id=\"e02bd47c-3cb7-4b9a-9a0d-204c0c5df52f\" style=\"height: 525px; width: 100%;\" class=\"plotly-graph-div\"></div><script type=\"text/javascript\">require([\"plotly\"], function(Plotly) { window.PLOTLYENV=window.PLOTLYENV || {};window.PLOTLYENV.BASE_URL=\"https://plot.ly\";Plotly.newPlot(\"e02bd47c-3cb7-4b9a-9a0d-204c0c5df52f\", [{\"mode\": \"lines\", \"name\": \"KNN_model\", \"x\": [\"accuracy\", \"FPR\", \"FNR\", \"auc\"], \"y\": [0.8652665192827315, 0.008501440922190202, 0.8635607321131448, 0.5639689134823325], \"type\": \"scatter\", \"uid\": \"7e216976-886e-4c84-b647-714b09303746\"}, {\"mode\": \"lines+markers\", \"name\": \"Logistic Regression\", \"x\": [\"accuracy\", \"FPR\", \"FNR\", \"auc\"], \"y\": [0.8780397936624907, 0.11311239193083573, 0.17304492512479203, 0.8569213414721862], \"type\": \"scatter\", \"uid\": \"4da104b7-ac85-445b-ad5b-3fc56cfbbba4\"}, {\"marker\": {\"symbol\": \"x\"}, \"mode\": \"lines+markers\", \"name\": \"Random Forest\", \"x\": [\"accuracy\", \"FPR\", \"FNR\", \"auc\"], \"y\": [0.897322525178089, 0.10446685878962536, 0.09234608985024959, 0.9015935256800626], \"type\": \"scatter\", \"uid\": \"490642f6-6b5b-4076-a926-6a0be060d564\"}, {\"mode\": \"lines\", \"name\": \"Ada Boost\", \"x\": [\"accuracy\", \"FPR\", \"FNR\", \"auc\"], \"y\": [0.8754605747973471, 0.11887608069164265, 0.1572379367720466, 0.8619429912681553], \"type\": \"scatter\", \"uid\": \"107bab95-9d9f-4197-a2fb-8f6aa32c1487\"}, {\"mode\": \"lines+markers\", \"name\": \"GradientBoosting\", \"x\": [\"accuracy\", \"FPR\", \"FNR\", \"auc\"], \"y\": [0.8927781871775976, 0.1053314121037464, 0.11813643926788686, 0.8882660743141835], \"type\": \"scatter\", \"uid\": \"e13a9755-f5c7-4272-9fa6-3dcab55ec499\"}, {\"marker\": {\"symbol\": \"x\"}, \"mode\": \"lines+markers\", \"name\": \"ExtraTree Classifier\", \"x\": [\"accuracy\", \"FPR\", \"FNR\", \"auc\"], \"y\": [0.8985507246376812, 0.10389048991354467, 0.08735440931780367, 0.9043775503843259], \"type\": \"scatter\", \"uid\": \"bc047ef2-f1c7-41e7-8c5e-06a7ac40964f\"}, {\"marker\": {\"symbol\": \"x\"}, \"mode\": \"lines+markers\", \"name\": \"Bagging\", \"x\": [\"accuracy\", \"FPR\", \"FNR\", \"auc\"], \"y\": [0.8956030459346598, 0.1069164265129683, 0.08985024958402663, 0.9016166619515026], \"type\": \"scatter\", \"uid\": \"907f3b5c-124a-4af3-932e-03a255325bdf\"}, {\"marker\": {\"symbol\": \"x\"}, \"mode\": \"lines+markers\", \"name\": \"Neural Network\", \"x\": [\"accuracy\", \"FPR\", \"FNR\", \"auc\"], \"y\": [0.8844264308523704, 0.12175792507204611, 0.07986688851913477, 0.9016166619515026], \"type\": \"scatter\", \"uid\": \"ac242524-fcf4-4037-b772-c9e73c76d247\"}], {\"title\": \"Result comparision for Features selected in Section 1\", \"yaxis\": {\"dtick\": 0.05, \"tick0\": 0}}, {\"showLink\": true, \"linkText\": \"Export to plot.ly\", \"plotlyServerURL\": \"https://plot.ly\"})});</script><script type=\"text/javascript\">window.addEventListener(\"resize\", function(){window._Plotly.Plots.resize(document.getElementById(\"e02bd47c-3cb7-4b9a-9a0d-204c0c5df52f\"));});</script>"
      ]
     },
     "metadata": {},
     "output_type": "display_data"
    }
   ],
   "source": [
    "trace0 = go.Scatter(x=table_80_50_test.iloc[0].index.values[[0,5,6,7]],\n",
    "                    y=table_80_50_test.iloc[0].values[[0,5,6,7]],\n",
    "                    mode = 'lines',\n",
    "                    name = 'KNN_model')\n",
    "\n",
    "trace1 = go.Scatter(x=table_80_50_test.iloc[1].index.values[[0,5,6,7]],\n",
    "                    y=table_80_50_test.iloc[1].values[[0,5,6,7]],\n",
    "                    mode = 'lines+markers',\n",
    "                    name = 'Logistic Regression')\n",
    "\n",
    "trace2 = go.Scatter(x=table_80_50_test.iloc[2].index.values[[0,5,6,7]],\n",
    "                    y=table_80_50_test.iloc[2].values[[0,5,6,7]],\n",
    "                    mode = 'lines+markers',marker=dict(symbol='x'),\n",
    "                    name = 'Random Forest')\n",
    "\n",
    "\n",
    "trace3 = go.Scatter(x=table_80_50_test.iloc[3].index.values[[0,5,6,7]],\n",
    "                    y=table_80_50_test.iloc[3].values[[0,5,6,7]],\n",
    "                    mode = 'lines',\n",
    "                    name = 'Ada Boost')\n",
    "\n",
    "trace4 = go.Scatter(x=table_80_50_test.iloc[4].index.values[[0,5,6,7]],\n",
    "                    y=table_80_50_test.iloc[4].values[[0,5,6,7]],\n",
    "                    mode = 'lines+markers',\n",
    "                    name = 'GradientBoosting')\n",
    "\n",
    "trace5 = go.Scatter(x=table_80_50_test.iloc[5].index.values[[0,5,6,7]],\n",
    "                    y=table_80_50_test.iloc[5].values[[0,5,6,7]],\n",
    "                    mode = 'lines+markers',marker=dict(symbol='x'),\n",
    "                    name = 'ExtraTree Classifier')\n",
    "\n",
    "trace6 = go.Scatter(x=table_80_50_test.iloc[6].index.values[[0,5,6,7]],\n",
    "                    y=table_80_50_test.iloc[6].values[[0,5,6,7]],\n",
    "                    mode = 'lines+markers',marker=dict(symbol='x'),\n",
    "                    name = 'Bagging')\n",
    "\n",
    "trace7 = go.Scatter(x=table_80_50_test.iloc[7].index.values[[0,5,6,7]],\n",
    "                    y=table_80_50_test.iloc[7].values[[0,5,6,7]],\n",
    "                    mode = 'lines+markers',marker=dict(symbol='x'),\n",
    "                    name = 'Neural Network')\n",
    "\n",
    "\n",
    "\n",
    "data = [trace0, trace1, trace2, trace3, trace4, trace5, trace6, trace7]\n",
    "layout = go.Layout(yaxis=dict(tick0=0,dtick=0.05),title='Result comparision for Features selected in Section 1')\n",
    "fig = go.Figure(data=data, layout=layout)\n",
    "\n",
    "iplot(fig, filename='Result')"
   ]
  },
  {
   "cell_type": "code",
   "execution_count": 20,
   "metadata": {},
   "outputs": [
    {
     "name": "stdout",
     "output_type": "stream",
     "text": [
      "Training Results\n"
     ]
    },
    {
     "data": {
      "text/html": [
       "<div>\n",
       "<style scoped>\n",
       "    .dataframe tbody tr th:only-of-type {\n",
       "        vertical-align: middle;\n",
       "    }\n",
       "\n",
       "    .dataframe tbody tr th {\n",
       "        vertical-align: top;\n",
       "    }\n",
       "\n",
       "    .dataframe thead th {\n",
       "        text-align: right;\n",
       "    }\n",
       "</style>\n",
       "<table border=\"1\" class=\"dataframe\">\n",
       "  <thead>\n",
       "    <tr style=\"text-align: right;\">\n",
       "      <th></th>\n",
       "      <th>accuracy</th>\n",
       "      <th>TP</th>\n",
       "      <th>TN</th>\n",
       "      <th>FP</th>\n",
       "      <th>FN</th>\n",
       "      <th>FPR</th>\n",
       "      <th>FNR</th>\n",
       "    </tr>\n",
       "    <tr>\n",
       "      <th>index</th>\n",
       "      <th></th>\n",
       "      <th></th>\n",
       "      <th></th>\n",
       "      <th></th>\n",
       "      <th></th>\n",
       "      <th></th>\n",
       "      <th></th>\n",
       "    </tr>\n",
       "  </thead>\n",
       "  <tbody>\n",
       "    <tr>\n",
       "      <th>KNeighborsClassifier</th>\n",
       "      <td>0.872417</td>\n",
       "      <td>746.0</td>\n",
       "      <td>27666.0</td>\n",
       "      <td>172.0</td>\n",
       "      <td>3983.0</td>\n",
       "      <td>0.006179</td>\n",
       "      <td>0.842250</td>\n",
       "    </tr>\n",
       "    <tr>\n",
       "      <th>LogisticRegression</th>\n",
       "      <td>0.874474</td>\n",
       "      <td>3806.0</td>\n",
       "      <td>24673.0</td>\n",
       "      <td>3165.0</td>\n",
       "      <td>923.0</td>\n",
       "      <td>0.113694</td>\n",
       "      <td>0.195179</td>\n",
       "    </tr>\n",
       "    <tr>\n",
       "      <th>RandomForestClassifier</th>\n",
       "      <td>0.910369</td>\n",
       "      <td>4618.0</td>\n",
       "      <td>25030.0</td>\n",
       "      <td>2808.0</td>\n",
       "      <td>111.0</td>\n",
       "      <td>0.100869</td>\n",
       "      <td>0.023472</td>\n",
       "    </tr>\n",
       "    <tr>\n",
       "      <th>AdaBoostClassifier</th>\n",
       "      <td>0.875395</td>\n",
       "      <td>3967.0</td>\n",
       "      <td>24542.0</td>\n",
       "      <td>3296.0</td>\n",
       "      <td>762.0</td>\n",
       "      <td>0.118399</td>\n",
       "      <td>0.161133</td>\n",
       "    </tr>\n",
       "    <tr>\n",
       "      <th>GradientBoostingClassifier</th>\n",
       "      <td>0.896030</td>\n",
       "      <td>4199.0</td>\n",
       "      <td>24982.0</td>\n",
       "      <td>2856.0</td>\n",
       "      <td>530.0</td>\n",
       "      <td>0.102594</td>\n",
       "      <td>0.112074</td>\n",
       "    </tr>\n",
       "    <tr>\n",
       "      <th>ExtraTreeClassifier</th>\n",
       "      <td>0.912488</td>\n",
       "      <td>4682.0</td>\n",
       "      <td>25035.0</td>\n",
       "      <td>2803.0</td>\n",
       "      <td>47.0</td>\n",
       "      <td>0.100690</td>\n",
       "      <td>0.009939</td>\n",
       "    </tr>\n",
       "    <tr>\n",
       "      <th>BaggingClassifier</th>\n",
       "      <td>0.910615</td>\n",
       "      <td>4626.0</td>\n",
       "      <td>25030.0</td>\n",
       "      <td>2808.0</td>\n",
       "      <td>103.0</td>\n",
       "      <td>0.100869</td>\n",
       "      <td>0.021781</td>\n",
       "    </tr>\n",
       "    <tr>\n",
       "      <th>Neural Network-1</th>\n",
       "      <td>0.896306</td>\n",
       "      <td>4589.0</td>\n",
       "      <td>24601.0</td>\n",
       "      <td>3237.0</td>\n",
       "      <td>140.0</td>\n",
       "      <td>0.116280</td>\n",
       "      <td>0.029605</td>\n",
       "    </tr>\n",
       "  </tbody>\n",
       "</table>\n",
       "</div>"
      ],
      "text/plain": [
       "                            accuracy      TP       TN      FP      FN  \\\n",
       "index                                                                   \n",
       "KNeighborsClassifier        0.872417   746.0  27666.0   172.0  3983.0   \n",
       "LogisticRegression          0.874474  3806.0  24673.0  3165.0   923.0   \n",
       "RandomForestClassifier      0.910369  4618.0  25030.0  2808.0   111.0   \n",
       "AdaBoostClassifier          0.875395  3967.0  24542.0  3296.0   762.0   \n",
       "GradientBoostingClassifier  0.896030  4199.0  24982.0  2856.0   530.0   \n",
       "ExtraTreeClassifier         0.912488  4682.0  25035.0  2803.0    47.0   \n",
       "BaggingClassifier           0.910615  4626.0  25030.0  2808.0   103.0   \n",
       "Neural Network-1            0.896306  4589.0  24601.0  3237.0   140.0   \n",
       "\n",
       "                                 FPR       FNR  \n",
       "index                                           \n",
       "KNeighborsClassifier        0.006179  0.842250  \n",
       "LogisticRegression          0.113694  0.195179  \n",
       "RandomForestClassifier      0.100869  0.023472  \n",
       "AdaBoostClassifier          0.118399  0.161133  \n",
       "GradientBoostingClassifier  0.102594  0.112074  \n",
       "ExtraTreeClassifier         0.100690  0.009939  \n",
       "BaggingClassifier           0.100869  0.021781  \n",
       "Neural Network-1            0.116280  0.029605  "
      ]
     },
     "metadata": {},
     "output_type": "display_data"
    },
    {
     "name": "stdout",
     "output_type": "stream",
     "text": [
      "Test Results\n"
     ]
    },
    {
     "data": {
      "text/html": [
       "<div>\n",
       "<style scoped>\n",
       "    .dataframe tbody tr th:only-of-type {\n",
       "        vertical-align: middle;\n",
       "    }\n",
       "\n",
       "    .dataframe tbody tr th {\n",
       "        vertical-align: top;\n",
       "    }\n",
       "\n",
       "    .dataframe thead th {\n",
       "        text-align: right;\n",
       "    }\n",
       "</style>\n",
       "<table border=\"1\" class=\"dataframe\">\n",
       "  <thead>\n",
       "    <tr style=\"text-align: right;\">\n",
       "      <th></th>\n",
       "      <th>accuracy</th>\n",
       "      <th>TP</th>\n",
       "      <th>TN</th>\n",
       "      <th>FP</th>\n",
       "      <th>FN</th>\n",
       "      <th>FPR</th>\n",
       "      <th>FNR</th>\n",
       "      <th>auc</th>\n",
       "      <th>MCC</th>\n",
       "    </tr>\n",
       "    <tr>\n",
       "      <th>index</th>\n",
       "      <th></th>\n",
       "      <th></th>\n",
       "      <th></th>\n",
       "      <th></th>\n",
       "      <th></th>\n",
       "      <th></th>\n",
       "      <th></th>\n",
       "      <th></th>\n",
       "      <th></th>\n",
       "    </tr>\n",
       "  </thead>\n",
       "  <tbody>\n",
       "    <tr>\n",
       "      <th>KNeighborsClassifier</th>\n",
       "      <td>0.865267</td>\n",
       "      <td>164.0</td>\n",
       "      <td>6881.0</td>\n",
       "      <td>59.0</td>\n",
       "      <td>1038.0</td>\n",
       "      <td>0.008501</td>\n",
       "      <td>0.863561</td>\n",
       "      <td>0.563969</td>\n",
       "      <td>0.278063</td>\n",
       "    </tr>\n",
       "    <tr>\n",
       "      <th>LogisticRegression</th>\n",
       "      <td>0.878040</td>\n",
       "      <td>994.0</td>\n",
       "      <td>6155.0</td>\n",
       "      <td>785.0</td>\n",
       "      <td>208.0</td>\n",
       "      <td>0.113112</td>\n",
       "      <td>0.173045</td>\n",
       "      <td>0.856921</td>\n",
       "      <td>0.612795</td>\n",
       "    </tr>\n",
       "    <tr>\n",
       "      <th>RandomForestClassifier</th>\n",
       "      <td>0.897323</td>\n",
       "      <td>1091.0</td>\n",
       "      <td>6215.0</td>\n",
       "      <td>725.0</td>\n",
       "      <td>111.0</td>\n",
       "      <td>0.104467</td>\n",
       "      <td>0.092346</td>\n",
       "      <td>0.901594</td>\n",
       "      <td>0.684425</td>\n",
       "    </tr>\n",
       "    <tr>\n",
       "      <th>AdaBoostClassifier</th>\n",
       "      <td>0.875461</td>\n",
       "      <td>1013.0</td>\n",
       "      <td>6115.0</td>\n",
       "      <td>825.0</td>\n",
       "      <td>189.0</td>\n",
       "      <td>0.118876</td>\n",
       "      <td>0.157238</td>\n",
       "      <td>0.861943</td>\n",
       "      <td>0.614216</td>\n",
       "    </tr>\n",
       "    <tr>\n",
       "      <th>GradientBoostingClassifier</th>\n",
       "      <td>0.892778</td>\n",
       "      <td>1060.0</td>\n",
       "      <td>6209.0</td>\n",
       "      <td>731.0</td>\n",
       "      <td>142.0</td>\n",
       "      <td>0.105331</td>\n",
       "      <td>0.118136</td>\n",
       "      <td>0.888266</td>\n",
       "      <td>0.665001</td>\n",
       "    </tr>\n",
       "    <tr>\n",
       "      <th>ExtraTreeClassifier</th>\n",
       "      <td>0.898551</td>\n",
       "      <td>1097.0</td>\n",
       "      <td>6219.0</td>\n",
       "      <td>721.0</td>\n",
       "      <td>105.0</td>\n",
       "      <td>0.103890</td>\n",
       "      <td>0.087354</td>\n",
       "      <td>0.904378</td>\n",
       "      <td>0.688900</td>\n",
       "    </tr>\n",
       "    <tr>\n",
       "      <th>BaggingClassifier</th>\n",
       "      <td>0.895603</td>\n",
       "      <td>1094.0</td>\n",
       "      <td>6198.0</td>\n",
       "      <td>742.0</td>\n",
       "      <td>108.0</td>\n",
       "      <td>0.106916</td>\n",
       "      <td>0.089850</td>\n",
       "      <td>0.901617</td>\n",
       "      <td>0.681805</td>\n",
       "    </tr>\n",
       "    <tr>\n",
       "      <th>Neural Network-1</th>\n",
       "      <td>0.884426</td>\n",
       "      <td>1106.0</td>\n",
       "      <td>6095.0</td>\n",
       "      <td>845.0</td>\n",
       "      <td>96.0</td>\n",
       "      <td>0.121758</td>\n",
       "      <td>0.079867</td>\n",
       "      <td>0.901617</td>\n",
       "      <td>0.663483</td>\n",
       "    </tr>\n",
       "  </tbody>\n",
       "</table>\n",
       "</div>"
      ],
      "text/plain": [
       "                            accuracy      TP      TN     FP      FN       FPR  \\\n",
       "index                                                                           \n",
       "KNeighborsClassifier        0.865267   164.0  6881.0   59.0  1038.0  0.008501   \n",
       "LogisticRegression          0.878040   994.0  6155.0  785.0   208.0  0.113112   \n",
       "RandomForestClassifier      0.897323  1091.0  6215.0  725.0   111.0  0.104467   \n",
       "AdaBoostClassifier          0.875461  1013.0  6115.0  825.0   189.0  0.118876   \n",
       "GradientBoostingClassifier  0.892778  1060.0  6209.0  731.0   142.0  0.105331   \n",
       "ExtraTreeClassifier         0.898551  1097.0  6219.0  721.0   105.0  0.103890   \n",
       "BaggingClassifier           0.895603  1094.0  6198.0  742.0   108.0  0.106916   \n",
       "Neural Network-1            0.884426  1106.0  6095.0  845.0    96.0  0.121758   \n",
       "\n",
       "                                 FNR       auc       MCC  \n",
       "index                                                     \n",
       "KNeighborsClassifier        0.863561  0.563969  0.278063  \n",
       "LogisticRegression          0.173045  0.856921  0.612795  \n",
       "RandomForestClassifier      0.092346  0.901594  0.684425  \n",
       "AdaBoostClassifier          0.157238  0.861943  0.614216  \n",
       "GradientBoostingClassifier  0.118136  0.888266  0.665001  \n",
       "ExtraTreeClassifier         0.087354  0.904378  0.688900  \n",
       "BaggingClassifier           0.089850  0.901617  0.681805  \n",
       "Neural Network-1            0.079867  0.901617  0.663483  "
      ]
     },
     "metadata": {},
     "output_type": "display_data"
    }
   ],
   "source": [
    "table_80_50_train['index']=ind_columns\n",
    "table_80_50_test['index']=ind_columns\n",
    "\n",
    "\n",
    "table_80_50_test.set_index(['index'],drop=True,inplace=True)\n",
    "table_80_50_train.set_index(['index'],drop=True,inplace=True)\n",
    "\n",
    "print(\"Training Results\")\n",
    "display(table_80_50_train)\n",
    "print(\"Test Results\")\n",
    "display(table_80_50_test)"
   ]
  },
  {
   "cell_type": "markdown",
   "metadata": {},
   "source": [
    "### <a id='1.B' style=\"text-decoration : none; color : #000000;\"> B. Average Feature Importances</a>"
   ]
  },
  {
   "cell_type": "code",
   "execution_count": 21,
   "metadata": {},
   "outputs": [
    {
     "data": {
      "application/vnd.plotly.v1+json": {
       "config": {
        "linkText": "Export to plot.ly",
        "plotlyServerURL": "https://plot.ly",
        "showLink": true
       },
       "data": [
        {
         "marker": {
          "color": "rgb(158,202,225)",
          "line": {
           "color": "rgb(8,48,107)",
           "width": 1.5
          }
         },
         "opacity": 0.6,
         "orientation": "h",
         "text": [
          0.2506,
          0.1114,
          0.0527,
          0.0407,
          0.0386,
          0.0375,
          0.0364,
          0.0347,
          0.0341,
          0.0288,
          0.0227,
          0.021,
          0.0203,
          0.0195,
          0.0187,
          0.0164,
          0.0146,
          0.0133,
          0.0118,
          0.0117,
          0.0116,
          0.0105,
          0.0105,
          0.0097,
          0.0094,
          0.0085,
          0.0083,
          0.0079,
          0.0079,
          0.0073,
          0.0068,
          0.0064,
          0.0063,
          0.0059,
          0.0058,
          0.0053,
          0.0049,
          0.0039,
          0.0037,
          0.0032,
          0.0029,
          0.0025,
          0.0022,
          0.0018,
          0.0017,
          0.0014,
          0.0014,
          0.0014,
          0.0011,
          0.0011,
          0.0008,
          0.0007,
          0.0006,
          0.0006,
          0.0003,
          0.0002
         ],
         "textposition": "outside",
         "type": "bar",
         "uid": "30e73f6c-df9f-4ac8-b8d0-a51d7c23921f",
         "x": [
          0.2505764658003527,
          0.11144316018825975,
          0.05272346518511055,
          0.04065189729688988,
          0.038639915076969254,
          0.03751783269487527,
          0.036411800276255964,
          0.03470666376519335,
          0.03410593395374755,
          0.028808656010170745,
          0.022697188605924446,
          0.021042232283002803,
          0.020319179475608712,
          0.019521142537488576,
          0.018651149337482603,
          0.0164181472886351,
          0.014649227957184492,
          0.01329619278153156,
          0.01176752494860317,
          0.01170323167976378,
          0.011569706665812867,
          0.010477151880268699,
          0.010475433717898107,
          0.00966418833913757,
          0.009418675630052668,
          0.008482798507035752,
          0.008255097442035675,
          0.007938839678116292,
          0.00789253026696736,
          0.007314274330134963,
          0.006829902971213324,
          0.006365923910061933,
          0.0063028767623200185,
          0.005899244018721071,
          0.005766205998582131,
          0.005260075499230802,
          0.004941754986428213,
          0.0039022486749953683,
          0.003711401317866545,
          0.0032283119468741977,
          0.0029015048605232816,
          0.0024832327872948813,
          0.002208372444540705,
          0.0017773001029687077,
          0.0017299962708808023,
          0.0014435372973162384,
          0.001377849158700622,
          0.001351501279180936,
          0.001121507447746754,
          0.0010601694489517036,
          0.0008312281658653855,
          0.0007348539231888991,
          0.0006014824998528153,
          0.0005926642315562046,
          0.00028527338924267884,
          0.00015187700538558062
         ],
         "y": [
          "script_count",
          "a_count",
          "div_count",
          "link_rel_stylesheet",
          "script_type_text/javascript",
          "push",
          "script_src_relative",
          "a_href_https",
          "script_src_out_of_domain",
          "img_src_.jpg",
          "img_src_absolute",
          "script_src_https",
          "link_href_https",
          "script_async_true",
          "script_src_.js",
          "link_rel_canonical",
          "link_rel_shortcut icon",
          "link_count",
          "link_href_absolute",
          "input_count",
          "indexOf",
          "split",
          "concat",
          "style_count",
          "document.getElementsByTagName",
          "iframe_count",
          "link_href_.ico",
          "apply",
          "document.createElement",
          "escape",
          "Math.random",
          "link_rel_icon",
          "iframe_src_https",
          "window.addEventListener",
          "join",
          "document.getElementById",
          "img_src_https",
          "meta_http-equiv_X-UA-Compatible",
          "iframe_src_relative",
          "getTime",
          "replace",
          "encodeURIComponent",
          "match",
          "parseInt",
          "substring",
          "Math.floor",
          "Math.round",
          "unescape",
          "small_count",
          "test",
          "decodeURIComponent",
          "JSON.parse",
          "pop",
          "setTime",
          "charAt",
          "shift"
         ]
        }
       ],
       "layout": {
        "autosize": false,
        "height": 1000,
        "width": 1000,
        "xaxis": {
         "tickfont": {
          "color": "black",
          "size": 12
         },
         "title": "Feature Importances"
        },
        "yaxis": {
         "automargin": true
        }
       }
      },
      "text/html": [
       "<div id=\"d61c4989-34c9-410e-b2e4-92f311349070\" style=\"height: 1000px; width: 1000px;\" class=\"plotly-graph-div\"></div><script type=\"text/javascript\">require([\"plotly\"], function(Plotly) { window.PLOTLYENV=window.PLOTLYENV || {};window.PLOTLYENV.BASE_URL=\"https://plot.ly\";Plotly.newPlot(\"d61c4989-34c9-410e-b2e4-92f311349070\", [{\"marker\": {\"color\": \"rgb(158,202,225)\", \"line\": {\"color\": \"rgb(8,48,107)\", \"width\": 1.5}}, \"opacity\": 0.6, \"orientation\": \"h\", \"text\": [0.2506, 0.1114, 0.0527, 0.0407, 0.0386, 0.0375, 0.0364, 0.0347, 0.0341, 0.0288, 0.0227, 0.021, 0.0203, 0.0195, 0.0187, 0.0164, 0.0146, 0.0133, 0.0118, 0.0117, 0.0116, 0.0105, 0.0105, 0.0097, 0.0094, 0.0085, 0.0083, 0.0079, 0.0079, 0.0073, 0.0068, 0.0064, 0.0063, 0.0059, 0.0058, 0.0053, 0.0049, 0.0039, 0.0037, 0.0032, 0.0029, 0.0025, 0.0022, 0.0018, 0.0017, 0.0014, 0.0014, 0.0014, 0.0011, 0.0011, 0.0008, 0.0007, 0.0006, 0.0006, 0.0003, 0.0002], \"textposition\": \"outside\", \"x\": [0.2505764658003527, 0.11144316018825975, 0.05272346518511055, 0.04065189729688988, 0.038639915076969254, 0.03751783269487527, 0.036411800276255964, 0.03470666376519335, 0.03410593395374755, 0.028808656010170745, 0.022697188605924446, 0.021042232283002803, 0.020319179475608712, 0.019521142537488576, 0.018651149337482603, 0.0164181472886351, 0.014649227957184492, 0.01329619278153156, 0.01176752494860317, 0.01170323167976378, 0.011569706665812867, 0.010477151880268699, 0.010475433717898107, 0.00966418833913757, 0.009418675630052668, 0.008482798507035752, 0.008255097442035675, 0.007938839678116292, 0.00789253026696736, 0.007314274330134963, 0.006829902971213324, 0.006365923910061933, 0.0063028767623200185, 0.005899244018721071, 0.005766205998582131, 0.005260075499230802, 0.004941754986428213, 0.0039022486749953683, 0.003711401317866545, 0.0032283119468741977, 0.0029015048605232816, 0.0024832327872948813, 0.002208372444540705, 0.0017773001029687077, 0.0017299962708808023, 0.0014435372973162384, 0.001377849158700622, 0.001351501279180936, 0.001121507447746754, 0.0010601694489517036, 0.0008312281658653855, 0.0007348539231888991, 0.0006014824998528153, 0.0005926642315562046, 0.00028527338924267884, 0.00015187700538558062], \"y\": [\"script_count\", \"a_count\", \"div_count\", \"link_rel_stylesheet\", \"script_type_text/javascript\", \"push\", \"script_src_relative\", \"a_href_https\", \"script_src_out_of_domain\", \"img_src_.jpg\", \"img_src_absolute\", \"script_src_https\", \"link_href_https\", \"script_async_true\", \"script_src_.js\", \"link_rel_canonical\", \"link_rel_shortcut icon\", \"link_count\", \"link_href_absolute\", \"input_count\", \"indexOf\", \"split\", \"concat\", \"style_count\", \"document.getElementsByTagName\", \"iframe_count\", \"link_href_.ico\", \"apply\", \"document.createElement\", \"escape\", \"Math.random\", \"link_rel_icon\", \"iframe_src_https\", \"window.addEventListener\", \"join\", \"document.getElementById\", \"img_src_https\", \"meta_http-equiv_X-UA-Compatible\", \"iframe_src_relative\", \"getTime\", \"replace\", \"encodeURIComponent\", \"match\", \"parseInt\", \"substring\", \"Math.floor\", \"Math.round\", \"unescape\", \"small_count\", \"test\", \"decodeURIComponent\", \"JSON.parse\", \"pop\", \"setTime\", \"charAt\", \"shift\"], \"type\": \"bar\", \"uid\": \"30e73f6c-df9f-4ac8-b8d0-a51d7c23921f\"}], {\"autosize\": false, \"height\": 1000, \"width\": 1000, \"xaxis\": {\"tickfont\": {\"color\": \"black\", \"size\": 12}, \"title\": \"Feature Importances\"}, \"yaxis\": {\"automargin\": true}}, {\"showLink\": true, \"linkText\": \"Export to plot.ly\", \"plotlyServerURL\": \"https://plot.ly\"})});</script>"
      ],
      "text/vnd.plotly.v1+html": [
       "<div id=\"d61c4989-34c9-410e-b2e4-92f311349070\" style=\"height: 1000px; width: 1000px;\" class=\"plotly-graph-div\"></div><script type=\"text/javascript\">require([\"plotly\"], function(Plotly) { window.PLOTLYENV=window.PLOTLYENV || {};window.PLOTLYENV.BASE_URL=\"https://plot.ly\";Plotly.newPlot(\"d61c4989-34c9-410e-b2e4-92f311349070\", [{\"marker\": {\"color\": \"rgb(158,202,225)\", \"line\": {\"color\": \"rgb(8,48,107)\", \"width\": 1.5}}, \"opacity\": 0.6, \"orientation\": \"h\", \"text\": [0.2506, 0.1114, 0.0527, 0.0407, 0.0386, 0.0375, 0.0364, 0.0347, 0.0341, 0.0288, 0.0227, 0.021, 0.0203, 0.0195, 0.0187, 0.0164, 0.0146, 0.0133, 0.0118, 0.0117, 0.0116, 0.0105, 0.0105, 0.0097, 0.0094, 0.0085, 0.0083, 0.0079, 0.0079, 0.0073, 0.0068, 0.0064, 0.0063, 0.0059, 0.0058, 0.0053, 0.0049, 0.0039, 0.0037, 0.0032, 0.0029, 0.0025, 0.0022, 0.0018, 0.0017, 0.0014, 0.0014, 0.0014, 0.0011, 0.0011, 0.0008, 0.0007, 0.0006, 0.0006, 0.0003, 0.0002], \"textposition\": \"outside\", \"x\": [0.2505764658003527, 0.11144316018825975, 0.05272346518511055, 0.04065189729688988, 0.038639915076969254, 0.03751783269487527, 0.036411800276255964, 0.03470666376519335, 0.03410593395374755, 0.028808656010170745, 0.022697188605924446, 0.021042232283002803, 0.020319179475608712, 0.019521142537488576, 0.018651149337482603, 0.0164181472886351, 0.014649227957184492, 0.01329619278153156, 0.01176752494860317, 0.01170323167976378, 0.011569706665812867, 0.010477151880268699, 0.010475433717898107, 0.00966418833913757, 0.009418675630052668, 0.008482798507035752, 0.008255097442035675, 0.007938839678116292, 0.00789253026696736, 0.007314274330134963, 0.006829902971213324, 0.006365923910061933, 0.0063028767623200185, 0.005899244018721071, 0.005766205998582131, 0.005260075499230802, 0.004941754986428213, 0.0039022486749953683, 0.003711401317866545, 0.0032283119468741977, 0.0029015048605232816, 0.0024832327872948813, 0.002208372444540705, 0.0017773001029687077, 0.0017299962708808023, 0.0014435372973162384, 0.001377849158700622, 0.001351501279180936, 0.001121507447746754, 0.0010601694489517036, 0.0008312281658653855, 0.0007348539231888991, 0.0006014824998528153, 0.0005926642315562046, 0.00028527338924267884, 0.00015187700538558062], \"y\": [\"script_count\", \"a_count\", \"div_count\", \"link_rel_stylesheet\", \"script_type_text/javascript\", \"push\", \"script_src_relative\", \"a_href_https\", \"script_src_out_of_domain\", \"img_src_.jpg\", \"img_src_absolute\", \"script_src_https\", \"link_href_https\", \"script_async_true\", \"script_src_.js\", \"link_rel_canonical\", \"link_rel_shortcut icon\", \"link_count\", \"link_href_absolute\", \"input_count\", \"indexOf\", \"split\", \"concat\", \"style_count\", \"document.getElementsByTagName\", \"iframe_count\", \"link_href_.ico\", \"apply\", \"document.createElement\", \"escape\", \"Math.random\", \"link_rel_icon\", \"iframe_src_https\", \"window.addEventListener\", \"join\", \"document.getElementById\", \"img_src_https\", \"meta_http-equiv_X-UA-Compatible\", \"iframe_src_relative\", \"getTime\", \"replace\", \"encodeURIComponent\", \"match\", \"parseInt\", \"substring\", \"Math.floor\", \"Math.round\", \"unescape\", \"small_count\", \"test\", \"decodeURIComponent\", \"JSON.parse\", \"pop\", \"setTime\", \"charAt\", \"shift\"], \"type\": \"bar\", \"uid\": \"30e73f6c-df9f-4ac8-b8d0-a51d7c23921f\"}], {\"autosize\": false, \"height\": 1000, \"width\": 1000, \"xaxis\": {\"tickfont\": {\"color\": \"black\", \"size\": 12}, \"title\": \"Feature Importances\"}, \"yaxis\": {\"automargin\": true}}, {\"showLink\": true, \"linkText\": \"Export to plot.ly\", \"plotlyServerURL\": \"https://plot.ly\"})});</script>"
      ]
     },
     "metadata": {},
     "output_type": "display_data"
    }
   ],
   "source": [
    "feat_impt_plot(np.average(feat_imp,axis=0),columns)"
   ]
  },
  {
   "cell_type": "markdown",
   "metadata": {},
   "source": [
    "### <a id='2' style=\"text-decoration : none; color : #000000;\"> 2. OverSampling </a>"
   ]
  },
  {
   "cell_type": "code",
   "execution_count": 22,
   "metadata": {},
   "outputs": [
    {
     "name": "stderr",
     "output_type": "stream",
     "text": [
      "/nethomes/darshan/anaconda3/lib/python3.6/site-packages/sklearn/utils/deprecation.py:77: DeprecationWarning:\n",
      "\n",
      "Function _ratio_float is deprecated; Use a float for 'ratio' is deprecated from version 0.2. The support will be removed in 0.4. Use a dict, str, or a callable instead.\n",
      "\n"
     ]
    }
   ],
   "source": [
    "sm = SMOTE(random_state=12, ratio = 1.0)\n",
    "X_train, Y_train = sm.fit_sample(scaled_X_train,train_Y)"
   ]
  },
  {
   "cell_type": "code",
   "execution_count": 23,
   "metadata": {
    "collapsed": true
   },
   "outputs": [],
   "source": [
    "## Table to store training and test measures so we can compare later\n",
    "table_80_80_train=pd.DataFrame(columns=['accuracy','TP','TN','FP','FN','FPR','FNR'])\n",
    "table_80_80_test=pd.DataFrame(columns=['accuracy','TP','TN','FP','FN','FPR','FNR','auc','mcc'])"
   ]
  },
  {
   "cell_type": "code",
   "execution_count": 24,
   "metadata": {
    "scrolled": false
   },
   "outputs": [
    {
     "name": "stdout",
     "output_type": "stream",
     "text": [
      "\u001b[1mK-Nearest Neighbors\u001b[0m\n",
      "Accuracy of the model for training data is: 0.93045477405\n",
      "Confusion Matrix for training data is:\n"
     ]
    },
    {
     "data": {
      "text/plain": [
       "Predicted  False   True  __all__\n",
       "Actual                          \n",
       "False      24299   3539    27838\n",
       "True         333  27505    27838\n",
       "__all__    24632  31044    55676"
      ]
     },
     "metadata": {},
     "output_type": "display_data"
    },
    {
     "name": "stdout",
     "output_type": "stream",
     "text": [
      "Accuracy of the model for test data is: 0.873372635716\n",
      "Confusion Matrix for test data is:\n"
     ]
    },
    {
     "data": {
      "text/plain": [
       "Predicted  False  True  __all__\n",
       "Actual                         \n",
       "False       5988   952     6940\n",
       "True          79  1123     1202\n",
       "__all__     6067  2075     8142"
      ]
     },
     "metadata": {},
     "output_type": "display_data"
    },
    {
     "name": "stdout",
     "output_type": "stream",
     "text": [
      "\n",
      "\n",
      "\u001b[1mLogistic Regression\u001b[0m\n",
      "Accuracy of the model for training data is: 0.886791436166\n",
      "Confusion Matrix for training data is:\n"
     ]
    },
    {
     "data": {
      "text/plain": [
       "Predicted  False   True  __all__\n",
       "Actual                          \n",
       "False      22579   5259    27838\n",
       "True        1044  26794    27838\n",
       "__all__    23623  32053    55676"
      ]
     },
     "metadata": {},
     "output_type": "display_data"
    },
    {
     "name": "stdout",
     "output_type": "stream",
     "text": [
      "Accuracy of the model for test data is: 0.833333333333\n",
      "Confusion Matrix for test data is:\n"
     ]
    },
    {
     "data": {
      "text/plain": [
       "Predicted  False  True  __all__\n",
       "Actual                         \n",
       "False       5637  1303     6940\n",
       "True          54  1148     1202\n",
       "__all__     5691  2451     8142"
      ]
     },
     "metadata": {},
     "output_type": "display_data"
    },
    {
     "name": "stdout",
     "output_type": "stream",
     "text": [
      "\n",
      "\n",
      "\u001b[1mRandomForest Classifier\u001b[0m\n",
      "Accuracy of the model for training data is: 0.947338170846\n",
      "Confusion Matrix for training data is:\n"
     ]
    },
    {
     "data": {
      "text/plain": [
       "Predicted  False   True  __all__\n",
       "Actual                          \n",
       "False      24974   2864    27838\n",
       "True          68  27770    27838\n",
       "__all__    25042  30634    55676"
      ]
     },
     "metadata": {},
     "output_type": "display_data"
    },
    {
     "name": "stdout",
     "output_type": "stream",
     "text": [
      "Accuracy of the model for test data is: 0.895848685827\n",
      "Confusion Matrix for test data is:\n"
     ]
    },
    {
     "data": {
      "text/plain": [
       "Predicted  False  True  __all__\n",
       "Actual                         \n",
       "False       6186   754     6940\n",
       "True          94  1108     1202\n",
       "__all__     6280  1862     8142"
      ]
     },
     "metadata": {},
     "output_type": "display_data"
    },
    {
     "data": {
      "application/vnd.plotly.v1+json": {
       "config": {
        "linkText": "Export to plot.ly",
        "plotlyServerURL": "https://plot.ly",
        "showLink": true
       },
       "data": [
        {
         "marker": {
          "color": "rgb(158,202,225)",
          "line": {
           "color": "rgb(8,48,107)",
           "width": 1.5
          }
         },
         "opacity": 0.6,
         "orientation": "h",
         "text": [
          0.2342,
          0.1384,
          0.1382,
          0.082,
          0.0691,
          0.0516,
          0.0386,
          0.026,
          0.0207,
          0.0171,
          0.0165,
          0.0126,
          0.0121,
          0.0119,
          0.0099,
          0.0081,
          0.0079,
          0.0075,
          0.0074,
          0.0071,
          0.0069,
          0.0056,
          0.0055,
          0.0052,
          0.0051,
          0.005,
          0.0041,
          0.0039,
          0.0035,
          0.0034,
          0.0034,
          0.0028,
          0.0027,
          0.0025,
          0.0022,
          0.0021,
          0.0017,
          0.0017,
          0.0016,
          0.0015,
          0.0014,
          0.0014,
          0.0013,
          0.0013,
          0.0012,
          0.0009,
          0.0007,
          0.0007,
          0.0006,
          0.0006,
          0.0005,
          0.0004,
          0.0004,
          0.0004,
          0.0004,
          0.0003
         ],
         "textposition": "outside",
         "type": "bar",
         "uid": "03b23150-b878-4630-9c05-af4edad1294c",
         "x": [
          0.23422120584149408,
          0.13836085320556307,
          0.13817762217109894,
          0.08203032087425122,
          0.06909491174618436,
          0.05159787845309342,
          0.03863180314786781,
          0.025968215320159825,
          0.020662761736146305,
          0.017126239978067385,
          0.016517118021242234,
          0.01256328830886679,
          0.01214954319247721,
          0.011946106473168848,
          0.009914705112207583,
          0.00814554722018394,
          0.007933022540793597,
          0.00753487264418327,
          0.007393058723176737,
          0.007138925633630225,
          0.006854562767116222,
          0.005620367886334658,
          0.005547743637049464,
          0.005230399605242644,
          0.005132651641204542,
          0.005010870034784671,
          0.004144518384081345,
          0.003932591762731097,
          0.0034975541245408385,
          0.003428280855947358,
          0.0034004303300930183,
          0.00276076442464731,
          0.002653297874885845,
          0.0024906506520714143,
          0.0022253481571514544,
          0.00213821233585356,
          0.0017294906415901326,
          0.0016885951077674378,
          0.001552062933698456,
          0.0014533346568681737,
          0.0013999246553128225,
          0.0013848426178930924,
          0.0012708988268278223,
          0.0012586460577326407,
          0.001158375809895601,
          0.0008840360962334012,
          0.0007471443318490978,
          0.0007269812819376898,
          0.0006417076758056106,
          0.0005981818135734139,
          0.0004773061951801553,
          0.00044555233932762773,
          0.0004076100833195647,
          0.0003754546904978476,
          0.00036471331210663976,
          0.0002588960549904398
         ],
         "y": [
          "script_count",
          "script_src_relative",
          "script_async_true",
          "script_src_out_of_domain",
          "a_href_https",
          "link_href_https",
          "a_count",
          "div_count",
          "script_src_https",
          "img_src_.jpg",
          "push",
          "img_src_absolute",
          "link_count",
          "link_rel_stylesheet",
          "input_count",
          "img_src_https",
          "style_count",
          "link_href_absolute",
          "script_type_text/javascript",
          "iframe_count",
          "script_src_.js",
          "indexOf",
          "document.getElementsByTagName",
          "link_rel_shortcut icon",
          "document.createElement",
          "iframe_src_relative",
          "link_href_.ico",
          "document.getElementById",
          "link_rel_icon",
          "replace",
          "iframe_src_https",
          "meta_http-equiv_X-UA-Compatible",
          "apply",
          "getTime",
          "Math.random",
          "split",
          "substring",
          "link_rel_canonical",
          "Math.round",
          "match",
          "encodeURIComponent",
          "parseInt",
          "small_count",
          "test",
          "escape",
          "unescape",
          "concat",
          "window.addEventListener",
          "charAt",
          "JSON.parse",
          "pop",
          "join",
          "setTime",
          "decodeURIComponent",
          "shift",
          "Math.floor"
         ]
        }
       ],
       "layout": {
        "autosize": false,
        "height": 1000,
        "width": 1000,
        "xaxis": {
         "tickfont": {
          "color": "black",
          "size": 12
         },
         "title": "Feature Importances"
        },
        "yaxis": {
         "automargin": true
        }
       }
      },
      "text/html": [
       "<div id=\"6d43473b-e232-41d7-9d89-4c82b5a2abd1\" style=\"height: 1000px; width: 1000px;\" class=\"plotly-graph-div\"></div><script type=\"text/javascript\">require([\"plotly\"], function(Plotly) { window.PLOTLYENV=window.PLOTLYENV || {};window.PLOTLYENV.BASE_URL=\"https://plot.ly\";Plotly.newPlot(\"6d43473b-e232-41d7-9d89-4c82b5a2abd1\", [{\"marker\": {\"color\": \"rgb(158,202,225)\", \"line\": {\"color\": \"rgb(8,48,107)\", \"width\": 1.5}}, \"opacity\": 0.6, \"orientation\": \"h\", \"text\": [0.2342, 0.1384, 0.1382, 0.082, 0.0691, 0.0516, 0.0386, 0.026, 0.0207, 0.0171, 0.0165, 0.0126, 0.0121, 0.0119, 0.0099, 0.0081, 0.0079, 0.0075, 0.0074, 0.0071, 0.0069, 0.0056, 0.0055, 0.0052, 0.0051, 0.005, 0.0041, 0.0039, 0.0035, 0.0034, 0.0034, 0.0028, 0.0027, 0.0025, 0.0022, 0.0021, 0.0017, 0.0017, 0.0016, 0.0015, 0.0014, 0.0014, 0.0013, 0.0013, 0.0012, 0.0009, 0.0007, 0.0007, 0.0006, 0.0006, 0.0005, 0.0004, 0.0004, 0.0004, 0.0004, 0.0003], \"textposition\": \"outside\", \"x\": [0.23422120584149408, 0.13836085320556307, 0.13817762217109894, 0.08203032087425122, 0.06909491174618436, 0.05159787845309342, 0.03863180314786781, 0.025968215320159825, 0.020662761736146305, 0.017126239978067385, 0.016517118021242234, 0.01256328830886679, 0.01214954319247721, 0.011946106473168848, 0.009914705112207583, 0.00814554722018394, 0.007933022540793597, 0.00753487264418327, 0.007393058723176737, 0.007138925633630225, 0.006854562767116222, 0.005620367886334658, 0.005547743637049464, 0.005230399605242644, 0.005132651641204542, 0.005010870034784671, 0.004144518384081345, 0.003932591762731097, 0.0034975541245408385, 0.003428280855947358, 0.0034004303300930183, 0.00276076442464731, 0.002653297874885845, 0.0024906506520714143, 0.0022253481571514544, 0.00213821233585356, 0.0017294906415901326, 0.0016885951077674378, 0.001552062933698456, 0.0014533346568681737, 0.0013999246553128225, 0.0013848426178930924, 0.0012708988268278223, 0.0012586460577326407, 0.001158375809895601, 0.0008840360962334012, 0.0007471443318490978, 0.0007269812819376898, 0.0006417076758056106, 0.0005981818135734139, 0.0004773061951801553, 0.00044555233932762773, 0.0004076100833195647, 0.0003754546904978476, 0.00036471331210663976, 0.0002588960549904398], \"y\": [\"script_count\", \"script_src_relative\", \"script_async_true\", \"script_src_out_of_domain\", \"a_href_https\", \"link_href_https\", \"a_count\", \"div_count\", \"script_src_https\", \"img_src_.jpg\", \"push\", \"img_src_absolute\", \"link_count\", \"link_rel_stylesheet\", \"input_count\", \"img_src_https\", \"style_count\", \"link_href_absolute\", \"script_type_text/javascript\", \"iframe_count\", \"script_src_.js\", \"indexOf\", \"document.getElementsByTagName\", \"link_rel_shortcut icon\", \"document.createElement\", \"iframe_src_relative\", \"link_href_.ico\", \"document.getElementById\", \"link_rel_icon\", \"replace\", \"iframe_src_https\", \"meta_http-equiv_X-UA-Compatible\", \"apply\", \"getTime\", \"Math.random\", \"split\", \"substring\", \"link_rel_canonical\", \"Math.round\", \"match\", \"encodeURIComponent\", \"parseInt\", \"small_count\", \"test\", \"escape\", \"unescape\", \"concat\", \"window.addEventListener\", \"charAt\", \"JSON.parse\", \"pop\", \"join\", \"setTime\", \"decodeURIComponent\", \"shift\", \"Math.floor\"], \"type\": \"bar\", \"uid\": \"03b23150-b878-4630-9c05-af4edad1294c\"}], {\"autosize\": false, \"height\": 1000, \"width\": 1000, \"xaxis\": {\"tickfont\": {\"color\": \"black\", \"size\": 12}, \"title\": \"Feature Importances\"}, \"yaxis\": {\"automargin\": true}}, {\"showLink\": true, \"linkText\": \"Export to plot.ly\", \"plotlyServerURL\": \"https://plot.ly\"})});</script>"
      ],
      "text/vnd.plotly.v1+html": [
       "<div id=\"6d43473b-e232-41d7-9d89-4c82b5a2abd1\" style=\"height: 1000px; width: 1000px;\" class=\"plotly-graph-div\"></div><script type=\"text/javascript\">require([\"plotly\"], function(Plotly) { window.PLOTLYENV=window.PLOTLYENV || {};window.PLOTLYENV.BASE_URL=\"https://plot.ly\";Plotly.newPlot(\"6d43473b-e232-41d7-9d89-4c82b5a2abd1\", [{\"marker\": {\"color\": \"rgb(158,202,225)\", \"line\": {\"color\": \"rgb(8,48,107)\", \"width\": 1.5}}, \"opacity\": 0.6, \"orientation\": \"h\", \"text\": [0.2342, 0.1384, 0.1382, 0.082, 0.0691, 0.0516, 0.0386, 0.026, 0.0207, 0.0171, 0.0165, 0.0126, 0.0121, 0.0119, 0.0099, 0.0081, 0.0079, 0.0075, 0.0074, 0.0071, 0.0069, 0.0056, 0.0055, 0.0052, 0.0051, 0.005, 0.0041, 0.0039, 0.0035, 0.0034, 0.0034, 0.0028, 0.0027, 0.0025, 0.0022, 0.0021, 0.0017, 0.0017, 0.0016, 0.0015, 0.0014, 0.0014, 0.0013, 0.0013, 0.0012, 0.0009, 0.0007, 0.0007, 0.0006, 0.0006, 0.0005, 0.0004, 0.0004, 0.0004, 0.0004, 0.0003], \"textposition\": \"outside\", \"x\": [0.23422120584149408, 0.13836085320556307, 0.13817762217109894, 0.08203032087425122, 0.06909491174618436, 0.05159787845309342, 0.03863180314786781, 0.025968215320159825, 0.020662761736146305, 0.017126239978067385, 0.016517118021242234, 0.01256328830886679, 0.01214954319247721, 0.011946106473168848, 0.009914705112207583, 0.00814554722018394, 0.007933022540793597, 0.00753487264418327, 0.007393058723176737, 0.007138925633630225, 0.006854562767116222, 0.005620367886334658, 0.005547743637049464, 0.005230399605242644, 0.005132651641204542, 0.005010870034784671, 0.004144518384081345, 0.003932591762731097, 0.0034975541245408385, 0.003428280855947358, 0.0034004303300930183, 0.00276076442464731, 0.002653297874885845, 0.0024906506520714143, 0.0022253481571514544, 0.00213821233585356, 0.0017294906415901326, 0.0016885951077674378, 0.001552062933698456, 0.0014533346568681737, 0.0013999246553128225, 0.0013848426178930924, 0.0012708988268278223, 0.0012586460577326407, 0.001158375809895601, 0.0008840360962334012, 0.0007471443318490978, 0.0007269812819376898, 0.0006417076758056106, 0.0005981818135734139, 0.0004773061951801553, 0.00044555233932762773, 0.0004076100833195647, 0.0003754546904978476, 0.00036471331210663976, 0.0002588960549904398], \"y\": [\"script_count\", \"script_src_relative\", \"script_async_true\", \"script_src_out_of_domain\", \"a_href_https\", \"link_href_https\", \"a_count\", \"div_count\", \"script_src_https\", \"img_src_.jpg\", \"push\", \"img_src_absolute\", \"link_count\", \"link_rel_stylesheet\", \"input_count\", \"img_src_https\", \"style_count\", \"link_href_absolute\", \"script_type_text/javascript\", \"iframe_count\", \"script_src_.js\", \"indexOf\", \"document.getElementsByTagName\", \"link_rel_shortcut icon\", \"document.createElement\", \"iframe_src_relative\", \"link_href_.ico\", \"document.getElementById\", \"link_rel_icon\", \"replace\", \"iframe_src_https\", \"meta_http-equiv_X-UA-Compatible\", \"apply\", \"getTime\", \"Math.random\", \"split\", \"substring\", \"link_rel_canonical\", \"Math.round\", \"match\", \"encodeURIComponent\", \"parseInt\", \"small_count\", \"test\", \"escape\", \"unescape\", \"concat\", \"window.addEventListener\", \"charAt\", \"JSON.parse\", \"pop\", \"join\", \"setTime\", \"decodeURIComponent\", \"shift\", \"Math.floor\"], \"type\": \"bar\", \"uid\": \"03b23150-b878-4630-9c05-af4edad1294c\"}], {\"autosize\": false, \"height\": 1000, \"width\": 1000, \"xaxis\": {\"tickfont\": {\"color\": \"black\", \"size\": 12}, \"title\": \"Feature Importances\"}, \"yaxis\": {\"automargin\": true}}, {\"showLink\": true, \"linkText\": \"Export to plot.ly\", \"plotlyServerURL\": \"https://plot.ly\"})});</script>"
      ]
     },
     "metadata": {},
     "output_type": "display_data"
    },
    {
     "name": "stdout",
     "output_type": "stream",
     "text": [
      "\n",
      "\n",
      "\u001b[1mAdaoost Classifier\u001b[0m\n",
      "Accuracy of the model for training data is: 0.902974351606\n",
      "Confusion Matrix for training data is:\n"
     ]
    },
    {
     "data": {
      "text/plain": [
       "Predicted  False   True  __all__\n",
       "Actual                          \n",
       "False      23613   4225    27838\n",
       "True        1177  26661    27838\n",
       "__all__    24790  30886    55676"
      ]
     },
     "metadata": {},
     "output_type": "display_data"
    },
    {
     "name": "stdout",
     "output_type": "stream",
     "text": [
      "Accuracy of the model for test data is: 0.862441660526\n",
      "Confusion Matrix for test data is:\n"
     ]
    },
    {
     "data": {
      "text/plain": [
       "Predicted  False  True  __all__\n",
       "Actual                         \n",
       "False       5894  1046     6940\n",
       "True          74  1128     1202\n",
       "__all__     5968  2174     8142"
      ]
     },
     "metadata": {},
     "output_type": "display_data"
    },
    {
     "data": {
      "application/vnd.plotly.v1+json": {
       "config": {
        "linkText": "Export to plot.ly",
        "plotlyServerURL": "https://plot.ly",
        "showLink": true
       },
       "data": [
        {
         "marker": {
          "color": "rgb(158,202,225)",
          "line": {
           "color": "rgb(8,48,107)",
           "width": 1.5
          }
         },
         "opacity": 0.6,
         "orientation": "h",
         "text": [
          0.12,
          0.1,
          0.08,
          0.06,
          0.06,
          0.04,
          0.04,
          0.04,
          0.04,
          0.04,
          0.04,
          0.02,
          0.02,
          0.02,
          0.02,
          0.02,
          0.02,
          0.02,
          0.02,
          0.02,
          0.02,
          0.02,
          0.02,
          0.02,
          0.02,
          0.02,
          0.02,
          0.02,
          0,
          0,
          0,
          0,
          0,
          0,
          0,
          0,
          0,
          0,
          0,
          0,
          0,
          0,
          0,
          0,
          0,
          0,
          0,
          0,
          0,
          0,
          0,
          0,
          0,
          0,
          0,
          0
         ],
         "textposition": "outside",
         "type": "bar",
         "uid": "c54d42db-c3e7-4a11-943b-79bfbe1ba69d",
         "x": [
          0.12,
          0.1,
          0.08,
          0.06,
          0.06,
          0.04,
          0.04,
          0.04,
          0.04,
          0.04,
          0.04,
          0.02,
          0.02,
          0.02,
          0.02,
          0.02,
          0.02,
          0.02,
          0.02,
          0.02,
          0.02,
          0.02,
          0.02,
          0.02,
          0.02,
          0.02,
          0.02,
          0.02,
          0,
          0,
          0,
          0,
          0,
          0,
          0,
          0,
          0,
          0,
          0,
          0,
          0,
          0,
          0,
          0,
          0,
          0,
          0,
          0,
          0,
          0,
          0,
          0,
          0,
          0,
          0,
          0
         ],
         "y": [
          "a_count",
          "push",
          "script_src_out_of_domain",
          "img_src_.jpg",
          "script_src_https",
          "link_rel_stylesheet",
          "a_href_https",
          "style_count",
          "script_type_text/javascript",
          "div_count",
          "test",
          "iframe_src_https",
          "iframe_src_relative",
          "meta_http-equiv_X-UA-Compatible",
          "escape",
          "iframe_count",
          "link_rel_canonical",
          "script_async_true",
          "document.createElement",
          "script_src_relative",
          "document.getElementsByTagName",
          "getTime",
          "replace",
          "Math.round",
          "apply",
          "window.addEventListener",
          "indexOf",
          "Math.random",
          "shift",
          "link_href_absolute",
          "setTime",
          "link_href_.ico",
          "link_count",
          "link_rel_icon",
          "split",
          "parseInt",
          "unescape",
          "small_count",
          "link_rel_shortcut icon",
          "img_src_absolute",
          "img_src_https",
          "join",
          "link_href_https",
          "Math.floor",
          "decodeURIComponent",
          "match",
          "JSON.parse",
          "pop",
          "charAt",
          "concat",
          "encodeURIComponent",
          "script_count",
          "script_src_.js",
          "document.getElementById",
          "substring",
          "input_count"
         ]
        }
       ],
       "layout": {
        "autosize": false,
        "height": 1000,
        "width": 1000,
        "xaxis": {
         "tickfont": {
          "color": "black",
          "size": 12
         },
         "title": "Feature Importances"
        },
        "yaxis": {
         "automargin": true
        }
       }
      },
      "text/html": [
       "<div id=\"c3cfc9d9-fd83-4b48-84a2-f34e35e6b34e\" style=\"height: 1000px; width: 1000px;\" class=\"plotly-graph-div\"></div><script type=\"text/javascript\">require([\"plotly\"], function(Plotly) { window.PLOTLYENV=window.PLOTLYENV || {};window.PLOTLYENV.BASE_URL=\"https://plot.ly\";Plotly.newPlot(\"c3cfc9d9-fd83-4b48-84a2-f34e35e6b34e\", [{\"marker\": {\"color\": \"rgb(158,202,225)\", \"line\": {\"color\": \"rgb(8,48,107)\", \"width\": 1.5}}, \"opacity\": 0.6, \"orientation\": \"h\", \"text\": [0.12, 0.1, 0.08, 0.06, 0.06, 0.04, 0.04, 0.04, 0.04, 0.04, 0.04, 0.02, 0.02, 0.02, 0.02, 0.02, 0.02, 0.02, 0.02, 0.02, 0.02, 0.02, 0.02, 0.02, 0.02, 0.02, 0.02, 0.02, 0.0, 0.0, 0.0, 0.0, 0.0, 0.0, 0.0, 0.0, 0.0, 0.0, 0.0, 0.0, 0.0, 0.0, 0.0, 0.0, 0.0, 0.0, 0.0, 0.0, 0.0, 0.0, 0.0, 0.0, 0.0, 0.0, 0.0, 0.0], \"textposition\": \"outside\", \"x\": [0.12, 0.1, 0.08, 0.06, 0.06, 0.04, 0.04, 0.04, 0.04, 0.04, 0.04, 0.02, 0.02, 0.02, 0.02, 0.02, 0.02, 0.02, 0.02, 0.02, 0.02, 0.02, 0.02, 0.02, 0.02, 0.02, 0.02, 0.02, 0.0, 0.0, 0.0, 0.0, 0.0, 0.0, 0.0, 0.0, 0.0, 0.0, 0.0, 0.0, 0.0, 0.0, 0.0, 0.0, 0.0, 0.0, 0.0, 0.0, 0.0, 0.0, 0.0, 0.0, 0.0, 0.0, 0.0, 0.0], \"y\": [\"a_count\", \"push\", \"script_src_out_of_domain\", \"img_src_.jpg\", \"script_src_https\", \"link_rel_stylesheet\", \"a_href_https\", \"style_count\", \"script_type_text/javascript\", \"div_count\", \"test\", \"iframe_src_https\", \"iframe_src_relative\", \"meta_http-equiv_X-UA-Compatible\", \"escape\", \"iframe_count\", \"link_rel_canonical\", \"script_async_true\", \"document.createElement\", \"script_src_relative\", \"document.getElementsByTagName\", \"getTime\", \"replace\", \"Math.round\", \"apply\", \"window.addEventListener\", \"indexOf\", \"Math.random\", \"shift\", \"link_href_absolute\", \"setTime\", \"link_href_.ico\", \"link_count\", \"link_rel_icon\", \"split\", \"parseInt\", \"unescape\", \"small_count\", \"link_rel_shortcut icon\", \"img_src_absolute\", \"img_src_https\", \"join\", \"link_href_https\", \"Math.floor\", \"decodeURIComponent\", \"match\", \"JSON.parse\", \"pop\", \"charAt\", \"concat\", \"encodeURIComponent\", \"script_count\", \"script_src_.js\", \"document.getElementById\", \"substring\", \"input_count\"], \"type\": \"bar\", \"uid\": \"c54d42db-c3e7-4a11-943b-79bfbe1ba69d\"}], {\"autosize\": false, \"height\": 1000, \"width\": 1000, \"xaxis\": {\"tickfont\": {\"color\": \"black\", \"size\": 12}, \"title\": \"Feature Importances\"}, \"yaxis\": {\"automargin\": true}}, {\"showLink\": true, \"linkText\": \"Export to plot.ly\", \"plotlyServerURL\": \"https://plot.ly\"})});</script>"
      ],
      "text/vnd.plotly.v1+html": [
       "<div id=\"c3cfc9d9-fd83-4b48-84a2-f34e35e6b34e\" style=\"height: 1000px; width: 1000px;\" class=\"plotly-graph-div\"></div><script type=\"text/javascript\">require([\"plotly\"], function(Plotly) { window.PLOTLYENV=window.PLOTLYENV || {};window.PLOTLYENV.BASE_URL=\"https://plot.ly\";Plotly.newPlot(\"c3cfc9d9-fd83-4b48-84a2-f34e35e6b34e\", [{\"marker\": {\"color\": \"rgb(158,202,225)\", \"line\": {\"color\": \"rgb(8,48,107)\", \"width\": 1.5}}, \"opacity\": 0.6, \"orientation\": \"h\", \"text\": [0.12, 0.1, 0.08, 0.06, 0.06, 0.04, 0.04, 0.04, 0.04, 0.04, 0.04, 0.02, 0.02, 0.02, 0.02, 0.02, 0.02, 0.02, 0.02, 0.02, 0.02, 0.02, 0.02, 0.02, 0.02, 0.02, 0.02, 0.02, 0.0, 0.0, 0.0, 0.0, 0.0, 0.0, 0.0, 0.0, 0.0, 0.0, 0.0, 0.0, 0.0, 0.0, 0.0, 0.0, 0.0, 0.0, 0.0, 0.0, 0.0, 0.0, 0.0, 0.0, 0.0, 0.0, 0.0, 0.0], \"textposition\": \"outside\", \"x\": [0.12, 0.1, 0.08, 0.06, 0.06, 0.04, 0.04, 0.04, 0.04, 0.04, 0.04, 0.02, 0.02, 0.02, 0.02, 0.02, 0.02, 0.02, 0.02, 0.02, 0.02, 0.02, 0.02, 0.02, 0.02, 0.02, 0.02, 0.02, 0.0, 0.0, 0.0, 0.0, 0.0, 0.0, 0.0, 0.0, 0.0, 0.0, 0.0, 0.0, 0.0, 0.0, 0.0, 0.0, 0.0, 0.0, 0.0, 0.0, 0.0, 0.0, 0.0, 0.0, 0.0, 0.0, 0.0, 0.0], \"y\": [\"a_count\", \"push\", \"script_src_out_of_domain\", \"img_src_.jpg\", \"script_src_https\", \"link_rel_stylesheet\", \"a_href_https\", \"style_count\", \"script_type_text/javascript\", \"div_count\", \"test\", \"iframe_src_https\", \"iframe_src_relative\", \"meta_http-equiv_X-UA-Compatible\", \"escape\", \"iframe_count\", \"link_rel_canonical\", \"script_async_true\", \"document.createElement\", \"script_src_relative\", \"document.getElementsByTagName\", \"getTime\", \"replace\", \"Math.round\", \"apply\", \"window.addEventListener\", \"indexOf\", \"Math.random\", \"shift\", \"link_href_absolute\", \"setTime\", \"link_href_.ico\", \"link_count\", \"link_rel_icon\", \"split\", \"parseInt\", \"unescape\", \"small_count\", \"link_rel_shortcut icon\", \"img_src_absolute\", \"img_src_https\", \"join\", \"link_href_https\", \"Math.floor\", \"decodeURIComponent\", \"match\", \"JSON.parse\", \"pop\", \"charAt\", \"concat\", \"encodeURIComponent\", \"script_count\", \"script_src_.js\", \"document.getElementById\", \"substring\", \"input_count\"], \"type\": \"bar\", \"uid\": \"c54d42db-c3e7-4a11-943b-79bfbe1ba69d\"}], {\"autosize\": false, \"height\": 1000, \"width\": 1000, \"xaxis\": {\"tickfont\": {\"color\": \"black\", \"size\": 12}, \"title\": \"Feature Importances\"}, \"yaxis\": {\"automargin\": true}}, {\"showLink\": true, \"linkText\": \"Export to plot.ly\", \"plotlyServerURL\": \"https://plot.ly\"})});</script>"
      ]
     },
     "metadata": {},
     "output_type": "display_data"
    },
    {
     "name": "stdout",
     "output_type": "stream",
     "text": [
      "\n",
      "\n",
      "\u001b[1mGradientBoosting Classifier\u001b[0m\n",
      "Accuracy of the model for training data is: 0.924563546232\n",
      "Confusion Matrix for training data is:\n"
     ]
    },
    {
     "data": {
      "text/plain": [
       "Predicted  False   True  __all__\n",
       "Actual                          \n",
       "False      24250   3588    27838\n",
       "True         612  27226    27838\n",
       "__all__    24862  30814    55676"
      ]
     },
     "metadata": {},
     "output_type": "display_data"
    },
    {
     "name": "stdout",
     "output_type": "stream",
     "text": [
      "Accuracy of the model for test data is: 0.88086465242\n",
      "Confusion Matrix for test data is:\n"
     ]
    },
    {
     "data": {
      "text/plain": [
       "Predicted  False  True  __all__\n",
       "Actual                         \n",
       "False       6050   890     6940\n",
       "True          80  1122     1202\n",
       "__all__     6130  2012     8142"
      ]
     },
     "metadata": {},
     "output_type": "display_data"
    },
    {
     "data": {
      "application/vnd.plotly.v1+json": {
       "config": {
        "linkText": "Export to plot.ly",
        "plotlyServerURL": "https://plot.ly",
        "showLink": true
       },
       "data": [
        {
         "marker": {
          "color": "rgb(158,202,225)",
          "line": {
           "color": "rgb(8,48,107)",
           "width": 1.5
          }
         },
         "opacity": 0.6,
         "orientation": "h",
         "text": [
          0.6051,
          0.0893,
          0.0762,
          0.0492,
          0.0395,
          0.0309,
          0.0152,
          0.0131,
          0.0083,
          0.0073,
          0.0071,
          0.0069,
          0.0057,
          0.0038,
          0.0038,
          0.0037,
          0.0035,
          0.0028,
          0.0025,
          0.0024,
          0.0023,
          0.0021,
          0.0021,
          0.002,
          0.002,
          0.0018,
          0.0015,
          0.0014,
          0.0014,
          0.0013,
          0.0011,
          0.0009,
          0.0008,
          0.0005,
          0.0005,
          0.0003,
          0.0003,
          0.0003,
          0.0002,
          0.0002,
          0.0002,
          0.0002,
          0.0001,
          0.0001,
          0.0001,
          0.0001,
          0,
          0,
          0,
          0,
          0,
          0,
          0,
          0,
          0,
          0
         ],
         "textposition": "outside",
         "type": "bar",
         "uid": "5f318084-829f-450d-ba12-d2ad0f78adea",
         "x": [
          0.6050997870779866,
          0.0893492268587646,
          0.0762268286010552,
          0.049216142036239606,
          0.039546312370447,
          0.030893132036508723,
          0.015234021657487594,
          0.01309546132956285,
          0.008253643946590656,
          0.0073213438224701225,
          0.007077912655195019,
          0.006908860295074667,
          0.005657430654003172,
          0.003799180339131576,
          0.0037762591330880724,
          0.0037272982137509605,
          0.003458499485146768,
          0.002828016118033589,
          0.002453836978795931,
          0.002377416147383026,
          0.0023483091693302554,
          0.0020846090254995793,
          0.00207924833930123,
          0.0020284696891400182,
          0.0019742568081139653,
          0.0017694637440584175,
          0.0014640143966793437,
          0.00137716546684182,
          0.001357561471757313,
          0.0012975030172130298,
          0.0011446646659107429,
          0.0009072586241776376,
          0.0007584760170280538,
          0.0005129369521359468,
          0.0004822331809293529,
          0.0003282389039235133,
          0.0002728684727185255,
          0.0002578101993482325,
          0.00018384334450008107,
          0.00018232776490459559,
          0.00017639753982231677,
          0.0001712135560717781,
          0.00012460053715217728,
          0.00011967718728830838,
          0.00011807989878765839,
          0.00011429609845717475,
          3.582186174195563e-05,
          2.8044310451382705e-05,
          0,
          0,
          0,
          0,
          0,
          0,
          0,
          0
         ],
         "y": [
          "a_count",
          "script_count",
          "script_src_out_of_domain",
          "push",
          "script_async_true",
          "script_src_https",
          "a_href_https",
          "link_rel_stylesheet",
          "indexOf",
          "style_count",
          "link_href_https",
          "div_count",
          "document.createElement",
          "link_rel_icon",
          "meta_http-equiv_X-UA-Compatible",
          "img_src_absolute",
          "document.getElementById",
          "iframe_src_https",
          "script_src_.js",
          "link_rel_shortcut icon",
          "input_count",
          "replace",
          "escape",
          "Math.random",
          "script_src_relative",
          "link_count",
          "img_src_.jpg",
          "link_href_.ico",
          "document.getElementsByTagName",
          "window.addEventListener",
          "unescape",
          "getTime",
          "apply",
          "link_href_absolute",
          "script_type_text/javascript",
          "join",
          "img_src_https",
          "split",
          "iframe_count",
          "Math.floor",
          "pop",
          "match",
          "encodeURIComponent",
          "iframe_src_relative",
          "Math.round",
          "setTime",
          "substring",
          "decodeURIComponent",
          "JSON.parse",
          "charAt",
          "link_rel_canonical",
          "concat",
          "test",
          "parseInt",
          "small_count",
          "shift"
         ]
        }
       ],
       "layout": {
        "autosize": false,
        "height": 1000,
        "width": 1000,
        "xaxis": {
         "tickfont": {
          "color": "black",
          "size": 12
         },
         "title": "Feature Importances"
        },
        "yaxis": {
         "automargin": true
        }
       }
      },
      "text/html": [
       "<div id=\"eb558b8e-e8bb-441d-9b65-f6926e562a63\" style=\"height: 1000px; width: 1000px;\" class=\"plotly-graph-div\"></div><script type=\"text/javascript\">require([\"plotly\"], function(Plotly) { window.PLOTLYENV=window.PLOTLYENV || {};window.PLOTLYENV.BASE_URL=\"https://plot.ly\";Plotly.newPlot(\"eb558b8e-e8bb-441d-9b65-f6926e562a63\", [{\"marker\": {\"color\": \"rgb(158,202,225)\", \"line\": {\"color\": \"rgb(8,48,107)\", \"width\": 1.5}}, \"opacity\": 0.6, \"orientation\": \"h\", \"text\": [0.6051, 0.0893, 0.0762, 0.0492, 0.0395, 0.0309, 0.0152, 0.0131, 0.0083, 0.0073, 0.0071, 0.0069, 0.0057, 0.0038, 0.0038, 0.0037, 0.0035, 0.0028, 0.0025, 0.0024, 0.0023, 0.0021, 0.0021, 0.002, 0.002, 0.0018, 0.0015, 0.0014, 0.0014, 0.0013, 0.0011, 0.0009, 0.0008, 0.0005, 0.0005, 0.0003, 0.0003, 0.0003, 0.0002, 0.0002, 0.0002, 0.0002, 0.0001, 0.0001, 0.0001, 0.0001, 0.0, 0.0, 0.0, 0.0, 0.0, 0.0, 0.0, 0.0, 0.0, 0.0], \"textposition\": \"outside\", \"x\": [0.6050997870779866, 0.0893492268587646, 0.0762268286010552, 0.049216142036239606, 0.039546312370447, 0.030893132036508723, 0.015234021657487594, 0.01309546132956285, 0.008253643946590656, 0.0073213438224701225, 0.007077912655195019, 0.006908860295074667, 0.005657430654003172, 0.003799180339131576, 0.0037762591330880724, 0.0037272982137509605, 0.003458499485146768, 0.002828016118033589, 0.002453836978795931, 0.002377416147383026, 0.0023483091693302554, 0.0020846090254995793, 0.00207924833930123, 0.0020284696891400182, 0.0019742568081139653, 0.0017694637440584175, 0.0014640143966793437, 0.00137716546684182, 0.001357561471757313, 0.0012975030172130298, 0.0011446646659107429, 0.0009072586241776376, 0.0007584760170280538, 0.0005129369521359468, 0.0004822331809293529, 0.0003282389039235133, 0.0002728684727185255, 0.0002578101993482325, 0.00018384334450008107, 0.00018232776490459559, 0.00017639753982231677, 0.0001712135560717781, 0.00012460053715217728, 0.00011967718728830838, 0.00011807989878765839, 0.00011429609845717475, 3.582186174195563e-05, 2.8044310451382705e-05, 0.0, 0.0, 0.0, 0.0, 0.0, 0.0, 0.0, 0.0], \"y\": [\"a_count\", \"script_count\", \"script_src_out_of_domain\", \"push\", \"script_async_true\", \"script_src_https\", \"a_href_https\", \"link_rel_stylesheet\", \"indexOf\", \"style_count\", \"link_href_https\", \"div_count\", \"document.createElement\", \"link_rel_icon\", \"meta_http-equiv_X-UA-Compatible\", \"img_src_absolute\", \"document.getElementById\", \"iframe_src_https\", \"script_src_.js\", \"link_rel_shortcut icon\", \"input_count\", \"replace\", \"escape\", \"Math.random\", \"script_src_relative\", \"link_count\", \"img_src_.jpg\", \"link_href_.ico\", \"document.getElementsByTagName\", \"window.addEventListener\", \"unescape\", \"getTime\", \"apply\", \"link_href_absolute\", \"script_type_text/javascript\", \"join\", \"img_src_https\", \"split\", \"iframe_count\", \"Math.floor\", \"pop\", \"match\", \"encodeURIComponent\", \"iframe_src_relative\", \"Math.round\", \"setTime\", \"substring\", \"decodeURIComponent\", \"JSON.parse\", \"charAt\", \"link_rel_canonical\", \"concat\", \"test\", \"parseInt\", \"small_count\", \"shift\"], \"type\": \"bar\", \"uid\": \"5f318084-829f-450d-ba12-d2ad0f78adea\"}], {\"autosize\": false, \"height\": 1000, \"width\": 1000, \"xaxis\": {\"tickfont\": {\"color\": \"black\", \"size\": 12}, \"title\": \"Feature Importances\"}, \"yaxis\": {\"automargin\": true}}, {\"showLink\": true, \"linkText\": \"Export to plot.ly\", \"plotlyServerURL\": \"https://plot.ly\"})});</script>"
      ],
      "text/vnd.plotly.v1+html": [
       "<div id=\"eb558b8e-e8bb-441d-9b65-f6926e562a63\" style=\"height: 1000px; width: 1000px;\" class=\"plotly-graph-div\"></div><script type=\"text/javascript\">require([\"plotly\"], function(Plotly) { window.PLOTLYENV=window.PLOTLYENV || {};window.PLOTLYENV.BASE_URL=\"https://plot.ly\";Plotly.newPlot(\"eb558b8e-e8bb-441d-9b65-f6926e562a63\", [{\"marker\": {\"color\": \"rgb(158,202,225)\", \"line\": {\"color\": \"rgb(8,48,107)\", \"width\": 1.5}}, \"opacity\": 0.6, \"orientation\": \"h\", \"text\": [0.6051, 0.0893, 0.0762, 0.0492, 0.0395, 0.0309, 0.0152, 0.0131, 0.0083, 0.0073, 0.0071, 0.0069, 0.0057, 0.0038, 0.0038, 0.0037, 0.0035, 0.0028, 0.0025, 0.0024, 0.0023, 0.0021, 0.0021, 0.002, 0.002, 0.0018, 0.0015, 0.0014, 0.0014, 0.0013, 0.0011, 0.0009, 0.0008, 0.0005, 0.0005, 0.0003, 0.0003, 0.0003, 0.0002, 0.0002, 0.0002, 0.0002, 0.0001, 0.0001, 0.0001, 0.0001, 0.0, 0.0, 0.0, 0.0, 0.0, 0.0, 0.0, 0.0, 0.0, 0.0], \"textposition\": \"outside\", \"x\": [0.6050997870779866, 0.0893492268587646, 0.0762268286010552, 0.049216142036239606, 0.039546312370447, 0.030893132036508723, 0.015234021657487594, 0.01309546132956285, 0.008253643946590656, 0.0073213438224701225, 0.007077912655195019, 0.006908860295074667, 0.005657430654003172, 0.003799180339131576, 0.0037762591330880724, 0.0037272982137509605, 0.003458499485146768, 0.002828016118033589, 0.002453836978795931, 0.002377416147383026, 0.0023483091693302554, 0.0020846090254995793, 0.00207924833930123, 0.0020284696891400182, 0.0019742568081139653, 0.0017694637440584175, 0.0014640143966793437, 0.00137716546684182, 0.001357561471757313, 0.0012975030172130298, 0.0011446646659107429, 0.0009072586241776376, 0.0007584760170280538, 0.0005129369521359468, 0.0004822331809293529, 0.0003282389039235133, 0.0002728684727185255, 0.0002578101993482325, 0.00018384334450008107, 0.00018232776490459559, 0.00017639753982231677, 0.0001712135560717781, 0.00012460053715217728, 0.00011967718728830838, 0.00011807989878765839, 0.00011429609845717475, 3.582186174195563e-05, 2.8044310451382705e-05, 0.0, 0.0, 0.0, 0.0, 0.0, 0.0, 0.0, 0.0], \"y\": [\"a_count\", \"script_count\", \"script_src_out_of_domain\", \"push\", \"script_async_true\", \"script_src_https\", \"a_href_https\", \"link_rel_stylesheet\", \"indexOf\", \"style_count\", \"link_href_https\", \"div_count\", \"document.createElement\", \"link_rel_icon\", \"meta_http-equiv_X-UA-Compatible\", \"img_src_absolute\", \"document.getElementById\", \"iframe_src_https\", \"script_src_.js\", \"link_rel_shortcut icon\", \"input_count\", \"replace\", \"escape\", \"Math.random\", \"script_src_relative\", \"link_count\", \"img_src_.jpg\", \"link_href_.ico\", \"document.getElementsByTagName\", \"window.addEventListener\", \"unescape\", \"getTime\", \"apply\", \"link_href_absolute\", \"script_type_text/javascript\", \"join\", \"img_src_https\", \"split\", \"iframe_count\", \"Math.floor\", \"pop\", \"match\", \"encodeURIComponent\", \"iframe_src_relative\", \"Math.round\", \"setTime\", \"substring\", \"decodeURIComponent\", \"JSON.parse\", \"charAt\", \"link_rel_canonical\", \"concat\", \"test\", \"parseInt\", \"small_count\", \"shift\"], \"type\": \"bar\", \"uid\": \"5f318084-829f-450d-ba12-d2ad0f78adea\"}], {\"autosize\": false, \"height\": 1000, \"width\": 1000, \"xaxis\": {\"tickfont\": {\"color\": \"black\", \"size\": 12}, \"title\": \"Feature Importances\"}, \"yaxis\": {\"automargin\": true}}, {\"showLink\": true, \"linkText\": \"Export to plot.ly\", \"plotlyServerURL\": \"https://plot.ly\"})});</script>"
      ]
     },
     "metadata": {},
     "output_type": "display_data"
    },
    {
     "name": "stdout",
     "output_type": "stream",
     "text": [
      "\n",
      "\n",
      "\u001b[1mExtraTree Classifier\u001b[0m\n",
      "Accuracy of the model for training data is: 0.948200301746\n",
      "Confusion Matrix for training data is:\n"
     ]
    },
    {
     "data": {
      "text/plain": [
       "Predicted  False   True  __all__\n",
       "Actual                          \n",
       "False      24983   2855    27838\n",
       "True          29  27809    27838\n",
       "__all__    25012  30664    55676"
      ]
     },
     "metadata": {},
     "output_type": "display_data"
    },
    {
     "name": "stdout",
     "output_type": "stream",
     "text": [
      "Accuracy of the model for test data is: 0.897199705232\n",
      "Confusion Matrix for test data is:\n"
     ]
    },
    {
     "data": {
      "text/plain": [
       "Predicted  False  True  __all__\n",
       "Actual                         \n",
       "False       6197   743     6940\n",
       "True          94  1108     1202\n",
       "__all__     6291  1851     8142"
      ]
     },
     "metadata": {},
     "output_type": "display_data"
    },
    {
     "data": {
      "application/vnd.plotly.v1+json": {
       "config": {
        "linkText": "Export to plot.ly",
        "plotlyServerURL": "https://plot.ly",
        "showLink": true
       },
       "data": [
        {
         "marker": {
          "color": "rgb(158,202,225)",
          "line": {
           "color": "rgb(8,48,107)",
           "width": 1.5
          }
         },
         "opacity": 0.6,
         "orientation": "h",
         "text": [
          0.1297,
          0.0973,
          0.0662,
          0.0646,
          0.064,
          0.0579,
          0.0482,
          0.0391,
          0.0301,
          0.03,
          0.0284,
          0.0264,
          0.0221,
          0.0214,
          0.0165,
          0.0149,
          0.0146,
          0.014,
          0.0137,
          0.0137,
          0.0132,
          0.0129,
          0.0112,
          0.0109,
          0.0101,
          0.0096,
          0.0088,
          0.0088,
          0.0085,
          0.0076,
          0.0073,
          0.0069,
          0.0055,
          0.0048,
          0.0048,
          0.0047,
          0.0041,
          0.0039,
          0.0038,
          0.0035,
          0.0035,
          0.0035,
          0.0034,
          0.0033,
          0.0028,
          0.0026,
          0.0025,
          0.0022,
          0.0022,
          0.0018,
          0.0018,
          0.0016,
          0.0015,
          0.0015,
          0.0012,
          0.0009
         ],
         "textposition": "outside",
         "type": "bar",
         "uid": "25127ddc-6028-4c3b-8bc6-09f5309b79bc",
         "x": [
          0.12969333623513704,
          0.09731061539254697,
          0.06621126997999441,
          0.06455182656339002,
          0.06398999383701201,
          0.057876007581692035,
          0.048160303257895984,
          0.03908228166214731,
          0.030140219498888676,
          0.029993550546988774,
          0.028432876614240443,
          0.02640331842557761,
          0.022113653036034995,
          0.02140726898177336,
          0.01649051951018516,
          0.014900836604423581,
          0.01464440450561898,
          0.014005097969857171,
          0.01371134420190065,
          0.013669058189887145,
          0.01317735950850569,
          0.012908615492849279,
          0.01118379813221287,
          0.010853668499641715,
          0.010122633817532551,
          0.009579197016746477,
          0.008831058915847349,
          0.00880017410430799,
          0.008486372452297466,
          0.0076211926014398464,
          0.007345404372220166,
          0.006916751641145358,
          0.005504983012668746,
          0.0048334439156298755,
          0.004778048641775747,
          0.004686587498580869,
          0.004050590434724329,
          0.0038630905508971226,
          0.0037936016080898785,
          0.003494623203687478,
          0.0034838574913862034,
          0.003461000632875566,
          0.0034123113335914326,
          0.0033333097730534147,
          0.002834239538431006,
          0.0025746240107153784,
          0.0025049506524671937,
          0.0022220063227095053,
          0.002213635805866969,
          0.001834054679178317,
          0.0018327700032127858,
          0.001566071579134002,
          0.0015381357134844384,
          0.001450587014606679,
          0.0012373759002468157,
          0.0008820915330471598
         ],
         "y": [
          "script_src_.js",
          "div_count",
          "link_rel_shortcut icon",
          "link_rel_canonical",
          "iframe_src_https",
          "script_type_text/javascript",
          "script_count",
          "script_src_relative",
          "link_rel_stylesheet",
          "meta_http-equiv_X-UA-Compatible",
          "iframe_count",
          "img_src_https",
          "script_async_true",
          "link_rel_icon",
          "style_count",
          "img_src_.jpg",
          "link_href_.ico",
          "script_src_https",
          "img_src_absolute",
          "script_src_out_of_domain",
          "input_count",
          "a_count",
          "link_href_https",
          "document.getElementsByTagName",
          "document.createElement",
          "link_count",
          "link_href_absolute",
          "a_href_https",
          "push",
          "Math.random",
          "concat",
          "iframe_src_relative",
          "escape",
          "document.getElementById",
          "shift",
          "window.addEventListener",
          "apply",
          "test",
          "split",
          "replace",
          "match",
          "indexOf",
          "getTime",
          "charAt",
          "unescape",
          "Math.round",
          "pop",
          "encodeURIComponent",
          "small_count",
          "setTime",
          "parseInt",
          "decodeURIComponent",
          "JSON.parse",
          "join",
          "substring",
          "Math.floor"
         ]
        }
       ],
       "layout": {
        "autosize": false,
        "height": 1000,
        "width": 1000,
        "xaxis": {
         "tickfont": {
          "color": "black",
          "size": 12
         },
         "title": "Feature Importances"
        },
        "yaxis": {
         "automargin": true
        }
       }
      },
      "text/html": [
       "<div id=\"bebdfe5c-386a-4812-8af7-0dd51d5bd743\" style=\"height: 1000px; width: 1000px;\" class=\"plotly-graph-div\"></div><script type=\"text/javascript\">require([\"plotly\"], function(Plotly) { window.PLOTLYENV=window.PLOTLYENV || {};window.PLOTLYENV.BASE_URL=\"https://plot.ly\";Plotly.newPlot(\"bebdfe5c-386a-4812-8af7-0dd51d5bd743\", [{\"marker\": {\"color\": \"rgb(158,202,225)\", \"line\": {\"color\": \"rgb(8,48,107)\", \"width\": 1.5}}, \"opacity\": 0.6, \"orientation\": \"h\", \"text\": [0.1297, 0.0973, 0.0662, 0.0646, 0.064, 0.0579, 0.0482, 0.0391, 0.0301, 0.03, 0.0284, 0.0264, 0.0221, 0.0214, 0.0165, 0.0149, 0.0146, 0.014, 0.0137, 0.0137, 0.0132, 0.0129, 0.0112, 0.0109, 0.0101, 0.0096, 0.0088, 0.0088, 0.0085, 0.0076, 0.0073, 0.0069, 0.0055, 0.0048, 0.0048, 0.0047, 0.0041, 0.0039, 0.0038, 0.0035, 0.0035, 0.0035, 0.0034, 0.0033, 0.0028, 0.0026, 0.0025, 0.0022, 0.0022, 0.0018, 0.0018, 0.0016, 0.0015, 0.0015, 0.0012, 0.0009], \"textposition\": \"outside\", \"x\": [0.12969333623513704, 0.09731061539254697, 0.06621126997999441, 0.06455182656339002, 0.06398999383701201, 0.057876007581692035, 0.048160303257895984, 0.03908228166214731, 0.030140219498888676, 0.029993550546988774, 0.028432876614240443, 0.02640331842557761, 0.022113653036034995, 0.02140726898177336, 0.01649051951018516, 0.014900836604423581, 0.01464440450561898, 0.014005097969857171, 0.01371134420190065, 0.013669058189887145, 0.01317735950850569, 0.012908615492849279, 0.01118379813221287, 0.010853668499641715, 0.010122633817532551, 0.009579197016746477, 0.008831058915847349, 0.00880017410430799, 0.008486372452297466, 0.0076211926014398464, 0.007345404372220166, 0.006916751641145358, 0.005504983012668746, 0.0048334439156298755, 0.004778048641775747, 0.004686587498580869, 0.004050590434724329, 0.0038630905508971226, 0.0037936016080898785, 0.003494623203687478, 0.0034838574913862034, 0.003461000632875566, 0.0034123113335914326, 0.0033333097730534147, 0.002834239538431006, 0.0025746240107153784, 0.0025049506524671937, 0.0022220063227095053, 0.002213635805866969, 0.001834054679178317, 0.0018327700032127858, 0.001566071579134002, 0.0015381357134844384, 0.001450587014606679, 0.0012373759002468157, 0.0008820915330471598], \"y\": [\"script_src_.js\", \"div_count\", \"link_rel_shortcut icon\", \"link_rel_canonical\", \"iframe_src_https\", \"script_type_text/javascript\", \"script_count\", \"script_src_relative\", \"link_rel_stylesheet\", \"meta_http-equiv_X-UA-Compatible\", \"iframe_count\", \"img_src_https\", \"script_async_true\", \"link_rel_icon\", \"style_count\", \"img_src_.jpg\", \"link_href_.ico\", \"script_src_https\", \"img_src_absolute\", \"script_src_out_of_domain\", \"input_count\", \"a_count\", \"link_href_https\", \"document.getElementsByTagName\", \"document.createElement\", \"link_count\", \"link_href_absolute\", \"a_href_https\", \"push\", \"Math.random\", \"concat\", \"iframe_src_relative\", \"escape\", \"document.getElementById\", \"shift\", \"window.addEventListener\", \"apply\", \"test\", \"split\", \"replace\", \"match\", \"indexOf\", \"getTime\", \"charAt\", \"unescape\", \"Math.round\", \"pop\", \"encodeURIComponent\", \"small_count\", \"setTime\", \"parseInt\", \"decodeURIComponent\", \"JSON.parse\", \"join\", \"substring\", \"Math.floor\"], \"type\": \"bar\", \"uid\": \"25127ddc-6028-4c3b-8bc6-09f5309b79bc\"}], {\"autosize\": false, \"height\": 1000, \"width\": 1000, \"xaxis\": {\"tickfont\": {\"color\": \"black\", \"size\": 12}, \"title\": \"Feature Importances\"}, \"yaxis\": {\"automargin\": true}}, {\"showLink\": true, \"linkText\": \"Export to plot.ly\", \"plotlyServerURL\": \"https://plot.ly\"})});</script>"
      ],
      "text/vnd.plotly.v1+html": [
       "<div id=\"bebdfe5c-386a-4812-8af7-0dd51d5bd743\" style=\"height: 1000px; width: 1000px;\" class=\"plotly-graph-div\"></div><script type=\"text/javascript\">require([\"plotly\"], function(Plotly) { window.PLOTLYENV=window.PLOTLYENV || {};window.PLOTLYENV.BASE_URL=\"https://plot.ly\";Plotly.newPlot(\"bebdfe5c-386a-4812-8af7-0dd51d5bd743\", [{\"marker\": {\"color\": \"rgb(158,202,225)\", \"line\": {\"color\": \"rgb(8,48,107)\", \"width\": 1.5}}, \"opacity\": 0.6, \"orientation\": \"h\", \"text\": [0.1297, 0.0973, 0.0662, 0.0646, 0.064, 0.0579, 0.0482, 0.0391, 0.0301, 0.03, 0.0284, 0.0264, 0.0221, 0.0214, 0.0165, 0.0149, 0.0146, 0.014, 0.0137, 0.0137, 0.0132, 0.0129, 0.0112, 0.0109, 0.0101, 0.0096, 0.0088, 0.0088, 0.0085, 0.0076, 0.0073, 0.0069, 0.0055, 0.0048, 0.0048, 0.0047, 0.0041, 0.0039, 0.0038, 0.0035, 0.0035, 0.0035, 0.0034, 0.0033, 0.0028, 0.0026, 0.0025, 0.0022, 0.0022, 0.0018, 0.0018, 0.0016, 0.0015, 0.0015, 0.0012, 0.0009], \"textposition\": \"outside\", \"x\": [0.12969333623513704, 0.09731061539254697, 0.06621126997999441, 0.06455182656339002, 0.06398999383701201, 0.057876007581692035, 0.048160303257895984, 0.03908228166214731, 0.030140219498888676, 0.029993550546988774, 0.028432876614240443, 0.02640331842557761, 0.022113653036034995, 0.02140726898177336, 0.01649051951018516, 0.014900836604423581, 0.01464440450561898, 0.014005097969857171, 0.01371134420190065, 0.013669058189887145, 0.01317735950850569, 0.012908615492849279, 0.01118379813221287, 0.010853668499641715, 0.010122633817532551, 0.009579197016746477, 0.008831058915847349, 0.00880017410430799, 0.008486372452297466, 0.0076211926014398464, 0.007345404372220166, 0.006916751641145358, 0.005504983012668746, 0.0048334439156298755, 0.004778048641775747, 0.004686587498580869, 0.004050590434724329, 0.0038630905508971226, 0.0037936016080898785, 0.003494623203687478, 0.0034838574913862034, 0.003461000632875566, 0.0034123113335914326, 0.0033333097730534147, 0.002834239538431006, 0.0025746240107153784, 0.0025049506524671937, 0.0022220063227095053, 0.002213635805866969, 0.001834054679178317, 0.0018327700032127858, 0.001566071579134002, 0.0015381357134844384, 0.001450587014606679, 0.0012373759002468157, 0.0008820915330471598], \"y\": [\"script_src_.js\", \"div_count\", \"link_rel_shortcut icon\", \"link_rel_canonical\", \"iframe_src_https\", \"script_type_text/javascript\", \"script_count\", \"script_src_relative\", \"link_rel_stylesheet\", \"meta_http-equiv_X-UA-Compatible\", \"iframe_count\", \"img_src_https\", \"script_async_true\", \"link_rel_icon\", \"style_count\", \"img_src_.jpg\", \"link_href_.ico\", \"script_src_https\", \"img_src_absolute\", \"script_src_out_of_domain\", \"input_count\", \"a_count\", \"link_href_https\", \"document.getElementsByTagName\", \"document.createElement\", \"link_count\", \"link_href_absolute\", \"a_href_https\", \"push\", \"Math.random\", \"concat\", \"iframe_src_relative\", \"escape\", \"document.getElementById\", \"shift\", \"window.addEventListener\", \"apply\", \"test\", \"split\", \"replace\", \"match\", \"indexOf\", \"getTime\", \"charAt\", \"unescape\", \"Math.round\", \"pop\", \"encodeURIComponent\", \"small_count\", \"setTime\", \"parseInt\", \"decodeURIComponent\", \"JSON.parse\", \"join\", \"substring\", \"Math.floor\"], \"type\": \"bar\", \"uid\": \"25127ddc-6028-4c3b-8bc6-09f5309b79bc\"}], {\"autosize\": false, \"height\": 1000, \"width\": 1000, \"xaxis\": {\"tickfont\": {\"color\": \"black\", \"size\": 12}, \"title\": \"Feature Importances\"}, \"yaxis\": {\"automargin\": true}}, {\"showLink\": true, \"linkText\": \"Export to plot.ly\", \"plotlyServerURL\": \"https://plot.ly\"})});</script>"
      ]
     },
     "metadata": {},
     "output_type": "display_data"
    },
    {
     "name": "stdout",
     "output_type": "stream",
     "text": [
      "\n",
      "\n",
      "\u001b[1mBagging Classifier\u001b[0m\n",
      "Accuracy of the model for training data is: 0.947374092966\n",
      "Confusion Matrix for training data is:\n"
     ]
    },
    {
     "data": {
      "text/plain": [
       "Predicted  False   True  __all__\n",
       "Actual                          \n",
       "False      24974   2864    27838\n",
       "True          66  27772    27838\n",
       "__all__    25040  30636    55676"
      ]
     },
     "metadata": {},
     "output_type": "display_data"
    },
    {
     "name": "stdout",
     "output_type": "stream",
     "text": [
      "Accuracy of the model for test data is: 0.894006386637\n",
      "Confusion Matrix for test data is:\n"
     ]
    },
    {
     "data": {
      "text/plain": [
       "Predicted  False  True  __all__\n",
       "Actual                         \n",
       "False       6164   776     6940\n",
       "True          87  1115     1202\n",
       "__all__     6251  1891     8142"
      ]
     },
     "metadata": {},
     "output_type": "display_data"
    },
    {
     "name": "stdout",
     "output_type": "stream",
     "text": [
      "\n",
      "\n",
      "\u001b[1mNeural Network-1\u001b[0m\n",
      "The accuracy of the model on training data is: 0.935861053237\n"
     ]
    },
    {
     "data": {
      "text/plain": [
       "Predicted  False   True  __all__\n",
       "Actual                          \n",
       "False      24322   3516    27838\n",
       "True          55  27783    27838\n",
       "__all__    24377  31299    55676"
      ]
     },
     "metadata": {},
     "output_type": "display_data"
    },
    {
     "name": "stdout",
     "output_type": "stream",
     "text": [
      "The accuracy of the model on test data is: 0.877794153771\n"
     ]
    },
    {
     "data": {
      "text/plain": [
       "Predicted  False  True  __all__\n",
       "Actual                         \n",
       "False       6012   928     6940\n",
       "True          67  1135     1202\n",
       "__all__     6079  2063     8142"
      ]
     },
     "metadata": {},
     "output_type": "display_data"
    },
    {
     "name": "stdout",
     "output_type": "stream",
     "text": [
      "\n",
      "\n"
     ]
    }
   ],
   "source": [
    "feat_imp=[None]*4\n",
    "j=0\n",
    "for i in range(0,8):\n",
    "    if i>=2 and i<=5:\n",
    "        model,cm_train,cm_test,acc_train,acc_test,roc_auc,feat_imp[j],mcc=f[i](X_train,Y_train,scaled_X_test,test_Y,columns)\n",
    "        j=j+1\n",
    "    else:\n",
    "        model,cm_train,cm_test,acc_train,acc_test,roc_auc,mcc=f[i](X_train,Y_train,scaled_X_test,test_Y)\n",
    "    table_80_80_train.loc[i]=   ([acc_train,cm_train.TP,cm_train.TN,cm_train.FP,cm_train.FN,cm_train.FPR,cm_train.FNR])\n",
    "    table_80_80_test.loc[i] =   ([acc_test ,cm_test.TP, cm_test.TN, cm_test.FP, cm_test.FN, cm_test.FPR, cm_test.FNR,roc_auc,mcc])\n",
    "    print(\"\\n\")"
   ]
  },
  {
   "cell_type": "markdown",
   "metadata": {},
   "source": [
    "### <a id='2.A' style=\"text-decoration : none; color : #000000;\"> A Results</a>"
   ]
  },
  {
   "cell_type": "code",
   "execution_count": 25,
   "metadata": {},
   "outputs": [
    {
     "data": {
      "application/vnd.plotly.v1+json": {
       "config": {
        "linkText": "Export to plot.ly",
        "plotlyServerURL": "https://plot.ly",
        "showLink": true
       },
       "data": [
        {
         "mode": "lines",
         "name": "KNN_model",
         "type": "scatter",
         "uid": "43136952-671d-4689-8893-6ea65a26283b",
         "x": [
          "accuracy",
          "FPR",
          "FNR",
          "auc"
         ],
         "y": [
          0.8733726357160403,
          0.1371757925072046,
          0.06572379367720466,
          0.8985502069077954
         ]
        },
        {
         "mode": "lines+markers",
         "name": "Logistic Regression",
         "type": "scatter",
         "uid": "a33ea747-91a2-4c64-9db9-400dd9db6ff7",
         "x": [
          "accuracy",
          "FPR",
          "FNR",
          "auc"
         ],
         "y": [
          0.8333333333333334,
          0.1877521613832853,
          0.04492512479201331,
          0.8836613569123506
         ]
        },
        {
         "marker": {
          "symbol": "x"
         },
         "mode": "lines+markers",
         "name": "Random Forest",
         "type": "scatter",
         "uid": "4b77ca80-4fb6-4bb8-b1a5-cc97c1200c08",
         "x": [
          "accuracy",
          "FPR",
          "FNR",
          "auc"
         ],
         "y": [
          0.8958486858265783,
          0.10864553314121038,
          0.07820299500831947,
          0.9065757359252351
         ]
        },
        {
         "mode": "lines",
         "name": "Ada Boost",
         "type": "scatter",
         "uid": "1c9a2727-09e0-416d-a06b-714f65e87f71",
         "x": [
          "accuracy",
          "FPR",
          "FNR",
          "auc"
         ],
         "y": [
          0.8624416605256694,
          0.15072046109510087,
          0.06156405990016639,
          0.8938577395023664
         ]
        },
        {
         "mode": "lines+markers",
         "name": "GradientBoosting",
         "type": "scatter",
         "uid": "1dee8b70-0c5b-49f0-bc73-1d11bcce1475",
         "x": [
          "accuracy",
          "FPR",
          "FNR",
          "auc"
         ],
         "y": [
          0.8808646524195529,
          0.1282420749279539,
          0.06655574043261231,
          0.9026010923197169
         ]
        },
        {
         "marker": {
          "symbol": "x"
         },
         "mode": "lines+markers",
         "name": "ExtraTree Classifier",
         "type": "scatter",
         "uid": "1af38259-4e4a-4e1e-b1f6-fd469d70932e",
         "x": [
          "accuracy",
          "FPR",
          "FNR",
          "auc"
         ],
         "y": [
          0.8971997052321297,
          0.10706051873198848,
          0.07820299500831947,
          0.907368243129846
         ]
        },
        {
         "marker": {
          "symbol": "x"
         },
         "mode": "lines+markers",
         "name": "Bagging",
         "type": "scatter",
         "uid": "d009c755-a307-40d2-83a6-e60c0139e4d7",
         "x": [
          "accuracy",
          "FPR",
          "FNR",
          "auc"
         ],
         "y": [
          0.8940063866371899,
          0.11181556195965418,
          0.0723793677204659,
          0.90790253515994
         ]
        },
        {
         "marker": {
          "symbol": "x"
         },
         "mode": "lines+markers",
         "name": "Neural Network",
         "type": "scatter",
         "uid": "b5bc3eb5-e7a5-4faa-9963-c692f4d329ef",
         "x": [
          "accuracy",
          "FPR",
          "FNR",
          "auc"
         ],
         "y": [
          0.8777941537705723,
          0.13371757925072045,
          0.05574043261231281,
          0.90790253515994
         ]
        }
       ],
       "layout": {
        "title": "Result comparision for Features selected in Section 1",
        "yaxis": {
         "dtick": 0.05,
         "tick0": 0
        }
       }
      },
      "text/html": [
       "<div id=\"e620fb6b-b837-4c55-ac12-5d1f80ee3d19\" style=\"height: 525px; width: 100%;\" class=\"plotly-graph-div\"></div><script type=\"text/javascript\">require([\"plotly\"], function(Plotly) { window.PLOTLYENV=window.PLOTLYENV || {};window.PLOTLYENV.BASE_URL=\"https://plot.ly\";Plotly.newPlot(\"e620fb6b-b837-4c55-ac12-5d1f80ee3d19\", [{\"mode\": \"lines\", \"name\": \"KNN_model\", \"x\": [\"accuracy\", \"FPR\", \"FNR\", \"auc\"], \"y\": [0.8733726357160403, 0.1371757925072046, 0.06572379367720466, 0.8985502069077954], \"type\": \"scatter\", \"uid\": \"43136952-671d-4689-8893-6ea65a26283b\"}, {\"mode\": \"lines+markers\", \"name\": \"Logistic Regression\", \"x\": [\"accuracy\", \"FPR\", \"FNR\", \"auc\"], \"y\": [0.8333333333333334, 0.1877521613832853, 0.04492512479201331, 0.8836613569123506], \"type\": \"scatter\", \"uid\": \"a33ea747-91a2-4c64-9db9-400dd9db6ff7\"}, {\"marker\": {\"symbol\": \"x\"}, \"mode\": \"lines+markers\", \"name\": \"Random Forest\", \"x\": [\"accuracy\", \"FPR\", \"FNR\", \"auc\"], \"y\": [0.8958486858265783, 0.10864553314121038, 0.07820299500831947, 0.9065757359252351], \"type\": \"scatter\", \"uid\": \"4b77ca80-4fb6-4bb8-b1a5-cc97c1200c08\"}, {\"mode\": \"lines\", \"name\": \"Ada Boost\", \"x\": [\"accuracy\", \"FPR\", \"FNR\", \"auc\"], \"y\": [0.8624416605256694, 0.15072046109510087, 0.06156405990016639, 0.8938577395023664], \"type\": \"scatter\", \"uid\": \"1c9a2727-09e0-416d-a06b-714f65e87f71\"}, {\"mode\": \"lines+markers\", \"name\": \"GradientBoosting\", \"x\": [\"accuracy\", \"FPR\", \"FNR\", \"auc\"], \"y\": [0.8808646524195529, 0.1282420749279539, 0.06655574043261231, 0.9026010923197169], \"type\": \"scatter\", \"uid\": \"1dee8b70-0c5b-49f0-bc73-1d11bcce1475\"}, {\"marker\": {\"symbol\": \"x\"}, \"mode\": \"lines+markers\", \"name\": \"ExtraTree Classifier\", \"x\": [\"accuracy\", \"FPR\", \"FNR\", \"auc\"], \"y\": [0.8971997052321297, 0.10706051873198848, 0.07820299500831947, 0.907368243129846], \"type\": \"scatter\", \"uid\": \"1af38259-4e4a-4e1e-b1f6-fd469d70932e\"}, {\"marker\": {\"symbol\": \"x\"}, \"mode\": \"lines+markers\", \"name\": \"Bagging\", \"x\": [\"accuracy\", \"FPR\", \"FNR\", \"auc\"], \"y\": [0.8940063866371899, 0.11181556195965418, 0.0723793677204659, 0.90790253515994], \"type\": \"scatter\", \"uid\": \"d009c755-a307-40d2-83a6-e60c0139e4d7\"}, {\"marker\": {\"symbol\": \"x\"}, \"mode\": \"lines+markers\", \"name\": \"Neural Network\", \"x\": [\"accuracy\", \"FPR\", \"FNR\", \"auc\"], \"y\": [0.8777941537705723, 0.13371757925072045, 0.05574043261231281, 0.90790253515994], \"type\": \"scatter\", \"uid\": \"b5bc3eb5-e7a5-4faa-9963-c692f4d329ef\"}], {\"title\": \"Result comparision for Features selected in Section 1\", \"yaxis\": {\"dtick\": 0.05, \"tick0\": 0}}, {\"showLink\": true, \"linkText\": \"Export to plot.ly\", \"plotlyServerURL\": \"https://plot.ly\"})});</script><script type=\"text/javascript\">window.addEventListener(\"resize\", function(){window._Plotly.Plots.resize(document.getElementById(\"e620fb6b-b837-4c55-ac12-5d1f80ee3d19\"));});</script>"
      ],
      "text/vnd.plotly.v1+html": [
       "<div id=\"e620fb6b-b837-4c55-ac12-5d1f80ee3d19\" style=\"height: 525px; width: 100%;\" class=\"plotly-graph-div\"></div><script type=\"text/javascript\">require([\"plotly\"], function(Plotly) { window.PLOTLYENV=window.PLOTLYENV || {};window.PLOTLYENV.BASE_URL=\"https://plot.ly\";Plotly.newPlot(\"e620fb6b-b837-4c55-ac12-5d1f80ee3d19\", [{\"mode\": \"lines\", \"name\": \"KNN_model\", \"x\": [\"accuracy\", \"FPR\", \"FNR\", \"auc\"], \"y\": [0.8733726357160403, 0.1371757925072046, 0.06572379367720466, 0.8985502069077954], \"type\": \"scatter\", \"uid\": \"43136952-671d-4689-8893-6ea65a26283b\"}, {\"mode\": \"lines+markers\", \"name\": \"Logistic Regression\", \"x\": [\"accuracy\", \"FPR\", \"FNR\", \"auc\"], \"y\": [0.8333333333333334, 0.1877521613832853, 0.04492512479201331, 0.8836613569123506], \"type\": \"scatter\", \"uid\": \"a33ea747-91a2-4c64-9db9-400dd9db6ff7\"}, {\"marker\": {\"symbol\": \"x\"}, \"mode\": \"lines+markers\", \"name\": \"Random Forest\", \"x\": [\"accuracy\", \"FPR\", \"FNR\", \"auc\"], \"y\": [0.8958486858265783, 0.10864553314121038, 0.07820299500831947, 0.9065757359252351], \"type\": \"scatter\", \"uid\": \"4b77ca80-4fb6-4bb8-b1a5-cc97c1200c08\"}, {\"mode\": \"lines\", \"name\": \"Ada Boost\", \"x\": [\"accuracy\", \"FPR\", \"FNR\", \"auc\"], \"y\": [0.8624416605256694, 0.15072046109510087, 0.06156405990016639, 0.8938577395023664], \"type\": \"scatter\", \"uid\": \"1c9a2727-09e0-416d-a06b-714f65e87f71\"}, {\"mode\": \"lines+markers\", \"name\": \"GradientBoosting\", \"x\": [\"accuracy\", \"FPR\", \"FNR\", \"auc\"], \"y\": [0.8808646524195529, 0.1282420749279539, 0.06655574043261231, 0.9026010923197169], \"type\": \"scatter\", \"uid\": \"1dee8b70-0c5b-49f0-bc73-1d11bcce1475\"}, {\"marker\": {\"symbol\": \"x\"}, \"mode\": \"lines+markers\", \"name\": \"ExtraTree Classifier\", \"x\": [\"accuracy\", \"FPR\", \"FNR\", \"auc\"], \"y\": [0.8971997052321297, 0.10706051873198848, 0.07820299500831947, 0.907368243129846], \"type\": \"scatter\", \"uid\": \"1af38259-4e4a-4e1e-b1f6-fd469d70932e\"}, {\"marker\": {\"symbol\": \"x\"}, \"mode\": \"lines+markers\", \"name\": \"Bagging\", \"x\": [\"accuracy\", \"FPR\", \"FNR\", \"auc\"], \"y\": [0.8940063866371899, 0.11181556195965418, 0.0723793677204659, 0.90790253515994], \"type\": \"scatter\", \"uid\": \"d009c755-a307-40d2-83a6-e60c0139e4d7\"}, {\"marker\": {\"symbol\": \"x\"}, \"mode\": \"lines+markers\", \"name\": \"Neural Network\", \"x\": [\"accuracy\", \"FPR\", \"FNR\", \"auc\"], \"y\": [0.8777941537705723, 0.13371757925072045, 0.05574043261231281, 0.90790253515994], \"type\": \"scatter\", \"uid\": \"b5bc3eb5-e7a5-4faa-9963-c692f4d329ef\"}], {\"title\": \"Result comparision for Features selected in Section 1\", \"yaxis\": {\"dtick\": 0.05, \"tick0\": 0}}, {\"showLink\": true, \"linkText\": \"Export to plot.ly\", \"plotlyServerURL\": \"https://plot.ly\"})});</script><script type=\"text/javascript\">window.addEventListener(\"resize\", function(){window._Plotly.Plots.resize(document.getElementById(\"e620fb6b-b837-4c55-ac12-5d1f80ee3d19\"));});</script>"
      ]
     },
     "metadata": {},
     "output_type": "display_data"
    }
   ],
   "source": [
    "trace0 = go.Scatter(x=table_80_80_test.iloc[0].index.values[[0,5,6,7]],\n",
    "                    y=table_80_80_test.iloc[0].values[[0,5,6,7]],\n",
    "                    mode = 'lines',\n",
    "                    name = 'KNN_model')\n",
    "\n",
    "trace1 = go.Scatter(x=table_80_80_test.iloc[1].index.values[[0,5,6,7]],\n",
    "                    y=table_80_80_test.iloc[1].values[[0,5,6,7]],\n",
    "                    mode = 'lines+markers',\n",
    "                    name = 'Logistic Regression')\n",
    "\n",
    "trace2 = go.Scatter(x=table_80_80_test.iloc[2].index.values[[0,5,6,7]],\n",
    "                    y=table_80_80_test.iloc[2].values[[0,5,6,7]],\n",
    "                    mode = 'lines+markers',marker=dict(symbol='x'),\n",
    "                    name = 'Random Forest')\n",
    "\n",
    "\n",
    "trace3 = go.Scatter(x=table_80_80_test.iloc[3].index.values[[0,5,6,7]],\n",
    "                    y=table_80_80_test.iloc[3].values[[0,5,6,7]],\n",
    "                    mode = 'lines',\n",
    "                    name = 'Ada Boost')\n",
    "\n",
    "trace4 = go.Scatter(x=table_80_80_test.iloc[4].index.values[[0,5,6,7]],\n",
    "                    y=table_80_80_test.iloc[4].values[[0,5,6,7]],\n",
    "                    mode = 'lines+markers',\n",
    "                    name = 'GradientBoosting')\n",
    "\n",
    "trace5 = go.Scatter(x=table_80_80_test.iloc[5].index.values[[0,5,6,7]],\n",
    "                    y=table_80_80_test.iloc[5].values[[0,5,6,7]],\n",
    "                    mode = 'lines+markers',marker=dict(symbol='x'),\n",
    "                    name = 'ExtraTree Classifier')\n",
    "\n",
    "trace6 = go.Scatter(x=table_80_80_test.iloc[6].index.values[[0,5,6,7]],\n",
    "                    y=table_80_80_test.iloc[6].values[[0,5,6,7]],\n",
    "                    mode = 'lines+markers',marker=dict(symbol='x'),\n",
    "                    name = 'Bagging')\n",
    "\n",
    "trace7 = go.Scatter(x=table_80_80_test.iloc[7].index.values[[0,5,6,7]],\n",
    "                    y=table_80_80_test.iloc[7].values[[0,5,6,7]],\n",
    "                    mode = 'lines+markers',marker=dict(symbol='x'),\n",
    "                    name = 'Neural Network')\n",
    "\n",
    "\n",
    "\n",
    "data = [trace0, trace1, trace2, trace3, trace4, trace5, trace6, trace7]\n",
    "layout = go.Layout(yaxis=dict(tick0=0,dtick=0.05),title='Result comparision for Features selected in Section 1')\n",
    "fig = go.Figure(data=data, layout=layout)\n",
    "\n",
    "iplot(fig, filename='Result')"
   ]
  },
  {
   "cell_type": "code",
   "execution_count": 26,
   "metadata": {},
   "outputs": [
    {
     "name": "stdout",
     "output_type": "stream",
     "text": [
      "Training Results\n"
     ]
    },
    {
     "data": {
      "text/html": [
       "<div>\n",
       "<style scoped>\n",
       "    .dataframe tbody tr th:only-of-type {\n",
       "        vertical-align: middle;\n",
       "    }\n",
       "\n",
       "    .dataframe tbody tr th {\n",
       "        vertical-align: top;\n",
       "    }\n",
       "\n",
       "    .dataframe thead th {\n",
       "        text-align: right;\n",
       "    }\n",
       "</style>\n",
       "<table border=\"1\" class=\"dataframe\">\n",
       "  <thead>\n",
       "    <tr style=\"text-align: right;\">\n",
       "      <th></th>\n",
       "      <th>accuracy</th>\n",
       "      <th>TP</th>\n",
       "      <th>TN</th>\n",
       "      <th>FP</th>\n",
       "      <th>FN</th>\n",
       "      <th>FPR</th>\n",
       "      <th>FNR</th>\n",
       "    </tr>\n",
       "    <tr>\n",
       "      <th>index</th>\n",
       "      <th></th>\n",
       "      <th></th>\n",
       "      <th></th>\n",
       "      <th></th>\n",
       "      <th></th>\n",
       "      <th></th>\n",
       "      <th></th>\n",
       "    </tr>\n",
       "  </thead>\n",
       "  <tbody>\n",
       "    <tr>\n",
       "      <th>KNeighborsClassifier</th>\n",
       "      <td>0.930455</td>\n",
       "      <td>27505.0</td>\n",
       "      <td>24299.0</td>\n",
       "      <td>3539.0</td>\n",
       "      <td>333.0</td>\n",
       "      <td>0.127128</td>\n",
       "      <td>0.011962</td>\n",
       "    </tr>\n",
       "    <tr>\n",
       "      <th>LogisticRegression</th>\n",
       "      <td>0.886791</td>\n",
       "      <td>26794.0</td>\n",
       "      <td>22579.0</td>\n",
       "      <td>5259.0</td>\n",
       "      <td>1044.0</td>\n",
       "      <td>0.188914</td>\n",
       "      <td>0.037503</td>\n",
       "    </tr>\n",
       "    <tr>\n",
       "      <th>RandomForestClassifier</th>\n",
       "      <td>0.947338</td>\n",
       "      <td>27770.0</td>\n",
       "      <td>24974.0</td>\n",
       "      <td>2864.0</td>\n",
       "      <td>68.0</td>\n",
       "      <td>0.102881</td>\n",
       "      <td>0.002443</td>\n",
       "    </tr>\n",
       "    <tr>\n",
       "      <th>AdaBoostClassifier</th>\n",
       "      <td>0.902974</td>\n",
       "      <td>26661.0</td>\n",
       "      <td>23613.0</td>\n",
       "      <td>4225.0</td>\n",
       "      <td>1177.0</td>\n",
       "      <td>0.151771</td>\n",
       "      <td>0.042280</td>\n",
       "    </tr>\n",
       "    <tr>\n",
       "      <th>GradientBoostingClassifier</th>\n",
       "      <td>0.924564</td>\n",
       "      <td>27226.0</td>\n",
       "      <td>24250.0</td>\n",
       "      <td>3588.0</td>\n",
       "      <td>612.0</td>\n",
       "      <td>0.128889</td>\n",
       "      <td>0.021984</td>\n",
       "    </tr>\n",
       "    <tr>\n",
       "      <th>ExtraTreeClassifier</th>\n",
       "      <td>0.948200</td>\n",
       "      <td>27809.0</td>\n",
       "      <td>24983.0</td>\n",
       "      <td>2855.0</td>\n",
       "      <td>29.0</td>\n",
       "      <td>0.102558</td>\n",
       "      <td>0.001042</td>\n",
       "    </tr>\n",
       "    <tr>\n",
       "      <th>BaggingClassifier</th>\n",
       "      <td>0.947374</td>\n",
       "      <td>27772.0</td>\n",
       "      <td>24974.0</td>\n",
       "      <td>2864.0</td>\n",
       "      <td>66.0</td>\n",
       "      <td>0.102881</td>\n",
       "      <td>0.002371</td>\n",
       "    </tr>\n",
       "    <tr>\n",
       "      <th>Neural Network-1</th>\n",
       "      <td>0.935861</td>\n",
       "      <td>27783.0</td>\n",
       "      <td>24322.0</td>\n",
       "      <td>3516.0</td>\n",
       "      <td>55.0</td>\n",
       "      <td>0.126302</td>\n",
       "      <td>0.001976</td>\n",
       "    </tr>\n",
       "  </tbody>\n",
       "</table>\n",
       "</div>"
      ],
      "text/plain": [
       "                            accuracy       TP       TN      FP      FN  \\\n",
       "index                                                                    \n",
       "KNeighborsClassifier        0.930455  27505.0  24299.0  3539.0   333.0   \n",
       "LogisticRegression          0.886791  26794.0  22579.0  5259.0  1044.0   \n",
       "RandomForestClassifier      0.947338  27770.0  24974.0  2864.0    68.0   \n",
       "AdaBoostClassifier          0.902974  26661.0  23613.0  4225.0  1177.0   \n",
       "GradientBoostingClassifier  0.924564  27226.0  24250.0  3588.0   612.0   \n",
       "ExtraTreeClassifier         0.948200  27809.0  24983.0  2855.0    29.0   \n",
       "BaggingClassifier           0.947374  27772.0  24974.0  2864.0    66.0   \n",
       "Neural Network-1            0.935861  27783.0  24322.0  3516.0    55.0   \n",
       "\n",
       "                                 FPR       FNR  \n",
       "index                                           \n",
       "KNeighborsClassifier        0.127128  0.011962  \n",
       "LogisticRegression          0.188914  0.037503  \n",
       "RandomForestClassifier      0.102881  0.002443  \n",
       "AdaBoostClassifier          0.151771  0.042280  \n",
       "GradientBoostingClassifier  0.128889  0.021984  \n",
       "ExtraTreeClassifier         0.102558  0.001042  \n",
       "BaggingClassifier           0.102881  0.002371  \n",
       "Neural Network-1            0.126302  0.001976  "
      ]
     },
     "metadata": {},
     "output_type": "display_data"
    },
    {
     "name": "stdout",
     "output_type": "stream",
     "text": [
      "Test Results\n"
     ]
    },
    {
     "data": {
      "text/html": [
       "<div>\n",
       "<style scoped>\n",
       "    .dataframe tbody tr th:only-of-type {\n",
       "        vertical-align: middle;\n",
       "    }\n",
       "\n",
       "    .dataframe tbody tr th {\n",
       "        vertical-align: top;\n",
       "    }\n",
       "\n",
       "    .dataframe thead th {\n",
       "        text-align: right;\n",
       "    }\n",
       "</style>\n",
       "<table border=\"1\" class=\"dataframe\">\n",
       "  <thead>\n",
       "    <tr style=\"text-align: right;\">\n",
       "      <th></th>\n",
       "      <th>accuracy</th>\n",
       "      <th>TP</th>\n",
       "      <th>TN</th>\n",
       "      <th>FP</th>\n",
       "      <th>FN</th>\n",
       "      <th>FPR</th>\n",
       "      <th>FNR</th>\n",
       "      <th>auc</th>\n",
       "      <th>mcc</th>\n",
       "    </tr>\n",
       "    <tr>\n",
       "      <th>index</th>\n",
       "      <th></th>\n",
       "      <th></th>\n",
       "      <th></th>\n",
       "      <th></th>\n",
       "      <th></th>\n",
       "      <th></th>\n",
       "      <th></th>\n",
       "      <th></th>\n",
       "      <th></th>\n",
       "    </tr>\n",
       "  </thead>\n",
       "  <tbody>\n",
       "    <tr>\n",
       "      <th>KNeighborsClassifier</th>\n",
       "      <td>0.873373</td>\n",
       "      <td>1123.0</td>\n",
       "      <td>5988.0</td>\n",
       "      <td>952.0</td>\n",
       "      <td>79.0</td>\n",
       "      <td>0.137176</td>\n",
       "      <td>0.065724</td>\n",
       "      <td>0.898550</td>\n",
       "      <td>0.648857</td>\n",
       "    </tr>\n",
       "    <tr>\n",
       "      <th>LogisticRegression</th>\n",
       "      <td>0.833333</td>\n",
       "      <td>1148.0</td>\n",
       "      <td>5637.0</td>\n",
       "      <td>1303.0</td>\n",
       "      <td>54.0</td>\n",
       "      <td>0.187752</td>\n",
       "      <td>0.044925</td>\n",
       "      <td>0.883661</td>\n",
       "      <td>0.593395</td>\n",
       "    </tr>\n",
       "    <tr>\n",
       "      <th>RandomForestClassifier</th>\n",
       "      <td>0.895849</td>\n",
       "      <td>1108.0</td>\n",
       "      <td>6186.0</td>\n",
       "      <td>754.0</td>\n",
       "      <td>94.0</td>\n",
       "      <td>0.108646</td>\n",
       "      <td>0.078203</td>\n",
       "      <td>0.906576</td>\n",
       "      <td>0.686805</td>\n",
       "    </tr>\n",
       "    <tr>\n",
       "      <th>AdaBoostClassifier</th>\n",
       "      <td>0.862442</td>\n",
       "      <td>1128.0</td>\n",
       "      <td>5894.0</td>\n",
       "      <td>1046.0</td>\n",
       "      <td>74.0</td>\n",
       "      <td>0.150720</td>\n",
       "      <td>0.061564</td>\n",
       "      <td>0.893858</td>\n",
       "      <td>0.631622</td>\n",
       "    </tr>\n",
       "    <tr>\n",
       "      <th>GradientBoostingClassifier</th>\n",
       "      <td>0.880865</td>\n",
       "      <td>1122.0</td>\n",
       "      <td>6050.0</td>\n",
       "      <td>890.0</td>\n",
       "      <td>80.0</td>\n",
       "      <td>0.128242</td>\n",
       "      <td>0.066556</td>\n",
       "      <td>0.902601</td>\n",
       "      <td>0.662205</td>\n",
       "    </tr>\n",
       "    <tr>\n",
       "      <th>ExtraTreeClassifier</th>\n",
       "      <td>0.897200</td>\n",
       "      <td>1108.0</td>\n",
       "      <td>6197.0</td>\n",
       "      <td>743.0</td>\n",
       "      <td>94.0</td>\n",
       "      <td>0.107061</td>\n",
       "      <td>0.078203</td>\n",
       "      <td>0.907368</td>\n",
       "      <td>0.689582</td>\n",
       "    </tr>\n",
       "    <tr>\n",
       "      <th>BaggingClassifier</th>\n",
       "      <td>0.894006</td>\n",
       "      <td>1115.0</td>\n",
       "      <td>6164.0</td>\n",
       "      <td>776.0</td>\n",
       "      <td>87.0</td>\n",
       "      <td>0.111816</td>\n",
       "      <td>0.072379</td>\n",
       "      <td>0.907903</td>\n",
       "      <td>0.685327</td>\n",
       "    </tr>\n",
       "    <tr>\n",
       "      <th>Neural Network-1</th>\n",
       "      <td>0.877794</td>\n",
       "      <td>1135.0</td>\n",
       "      <td>6012.0</td>\n",
       "      <td>928.0</td>\n",
       "      <td>67.0</td>\n",
       "      <td>0.133718</td>\n",
       "      <td>0.055740</td>\n",
       "      <td>0.907903</td>\n",
       "      <td>0.661061</td>\n",
       "    </tr>\n",
       "  </tbody>\n",
       "</table>\n",
       "</div>"
      ],
      "text/plain": [
       "                            accuracy      TP      TN      FP    FN       FPR  \\\n",
       "index                                                                          \n",
       "KNeighborsClassifier        0.873373  1123.0  5988.0   952.0  79.0  0.137176   \n",
       "LogisticRegression          0.833333  1148.0  5637.0  1303.0  54.0  0.187752   \n",
       "RandomForestClassifier      0.895849  1108.0  6186.0   754.0  94.0  0.108646   \n",
       "AdaBoostClassifier          0.862442  1128.0  5894.0  1046.0  74.0  0.150720   \n",
       "GradientBoostingClassifier  0.880865  1122.0  6050.0   890.0  80.0  0.128242   \n",
       "ExtraTreeClassifier         0.897200  1108.0  6197.0   743.0  94.0  0.107061   \n",
       "BaggingClassifier           0.894006  1115.0  6164.0   776.0  87.0  0.111816   \n",
       "Neural Network-1            0.877794  1135.0  6012.0   928.0  67.0  0.133718   \n",
       "\n",
       "                                 FNR       auc       mcc  \n",
       "index                                                     \n",
       "KNeighborsClassifier        0.065724  0.898550  0.648857  \n",
       "LogisticRegression          0.044925  0.883661  0.593395  \n",
       "RandomForestClassifier      0.078203  0.906576  0.686805  \n",
       "AdaBoostClassifier          0.061564  0.893858  0.631622  \n",
       "GradientBoostingClassifier  0.066556  0.902601  0.662205  \n",
       "ExtraTreeClassifier         0.078203  0.907368  0.689582  \n",
       "BaggingClassifier           0.072379  0.907903  0.685327  \n",
       "Neural Network-1            0.055740  0.907903  0.661061  "
      ]
     },
     "metadata": {},
     "output_type": "display_data"
    }
   ],
   "source": [
    "table_80_80_train['index']=ind_columns\n",
    "table_80_80_test['index']=ind_columns\n",
    "\n",
    "\n",
    "table_80_80_test.set_index(['index'],drop=True,inplace=True)\n",
    "table_80_80_train.set_index(['index'],drop=True,inplace=True)\n",
    "\n",
    "print(\"Training Results\")\n",
    "display(table_80_80_train)\n",
    "print(\"Test Results\")\n",
    "display(table_80_80_test)"
   ]
  },
  {
   "cell_type": "markdown",
   "metadata": {},
   "source": [
    "### <a id='2.B' style=\"text-decoration : none; color : #000000;\"> B. Average Feature Importances</a>"
   ]
  },
  {
   "cell_type": "code",
   "execution_count": 27,
   "metadata": {},
   "outputs": [
    {
     "data": {
      "application/vnd.plotly.v1+json": {
       "config": {
        "linkText": "Export to plot.ly",
        "plotlyServerURL": "https://plot.ly",
        "showLink": true
       },
       "data": [
        {
         "marker": {
          "color": "rgb(158,202,225)",
          "line": {
           "color": "rgb(8,48,107)",
           "width": 1.5
          }
         },
         "opacity": 0.6,
         "orientation": "h",
         "text": [
          0.1942,
          0.0929,
          0.063,
          0.055,
          0.0499,
          0.0436,
          0.0425,
          0.0348,
          0.0333,
          0.0314,
          0.0264,
          0.0238,
          0.0234,
          0.0226,
          0.0216,
          0.0185,
          0.0179,
          0.0175,
          0.0141,
          0.0139,
          0.0113,
          0.0102,
          0.0094,
          0.0093,
          0.0087,
          0.008,
          0.008,
          0.0075,
          0.0073,
          0.0072,
          0.0072,
          0.0069,
          0.0067,
          0.0067,
          0.0064,
          0.0061,
          0.0059,
          0.005,
          0.0042,
          0.0031,
          0.002,
          0.0015,
          0.0013,
          0.0013,
          0.0012,
          0.001,
          0.0009,
          0.0009,
          0.0008,
          0.0008,
          0.0008,
          0.0006,
          0.0006,
          0.0005,
          0.0005,
          0.0003
         ],
         "textposition": "outside",
         "type": "bar",
         "uid": "7e0f538f-e8dc-4edc-b727-f45651864095",
         "x": [
          0.1941600514296759,
          0.09293268398953868,
          0.0629815519162984,
          0.05495939689439523,
          0.049854347918956085,
          0.04355490812744483,
          0.04254692275194537,
          0.0347504339952623,
          0.03328227687699498,
          0.03139024793562805,
          0.02643782487144953,
          0.023795446825405093,
          0.02337277274479258,
          0.022554610071284655,
          0.021560105417789365,
          0.01845477143315502,
          0.01793622146836222,
          0.017464897310125328,
          0.01413264352618104,
          0.013938911398092687,
          0.011280434152157442,
          0.010228179028185066,
          0.009439743402112124,
          0.00933375311645022,
          0.008705433529620018,
          0.008011824715804585,
          0.00796875261193283,
          0.0075004826811296,
          0.007251878271283604,
          0.007185651790466395,
          0.007176000861361444,
          0.0068655910816595575,
          0.006702555152460122,
          0.006677767949432898,
          0.0063600934475108815,
          0.006061191710800373,
          0.005874550988320526,
          0.005041522089135536,
          0.004219717128041641,
          0.003056133790876935,
          0.002023137176017316,
          0.0015474060358229179,
          0.0012856904884705968,
          0.0012771014260815389,
          0.0012157350751437876,
          0.0009937543622147564,
          0.0009366328787936263,
          0.0008711336581736978,
          0.0008044031552764696,
          0.0007896635968674164,
          0.0007506721008947259,
          0.000588990215238764,
          0.000556094564464455,
          0.000534079381764463,
          0.0004923926450208081,
          0.0003308288382355488
         ],
         "y": [
          "a_count",
          "script_count",
          "script_src_out_of_domain",
          "script_async_true",
          "script_src_relative",
          "push",
          "div_count",
          "script_src_.js",
          "a_href_https",
          "script_src_https",
          "script_type_text/javascript",
          "link_rel_stylesheet",
          "img_src_.jpg",
          "iframe_src_https",
          "link_rel_canonical",
          "link_rel_shortcut icon",
          "style_count",
          "link_href_https",
          "meta_http-equiv_X-UA-Compatible",
          "iframe_count",
          "test",
          "document.createElement",
          "document.getElementsByTagName",
          "indexOf",
          "img_src_https",
          "iframe_src_relative",
          "Math.random",
          "img_src_absolute",
          "replace",
          "escape",
          "link_rel_icon",
          "apply",
          "getTime",
          "window.addEventListener",
          "input_count",
          "Math.round",
          "link_count",
          "link_href_.ico",
          "link_href_absolute",
          "document.getElementById",
          "concat",
          "split",
          "shift",
          "match",
          "unescape",
          "charAt",
          "encodeURIComponent",
          "small_count",
          "parseInt",
          "pop",
          "substring",
          "setTime",
          "join",
          "JSON.parse",
          "decodeURIComponent",
          "Math.floor"
         ]
        }
       ],
       "layout": {
        "autosize": false,
        "height": 1000,
        "width": 1000,
        "xaxis": {
         "tickfont": {
          "color": "black",
          "size": 12
         },
         "title": "Feature Importances"
        },
        "yaxis": {
         "automargin": true
        }
       }
      },
      "text/html": [
       "<div id=\"8e8b35be-a53a-4b94-b506-32437c83b8b3\" style=\"height: 1000px; width: 1000px;\" class=\"plotly-graph-div\"></div><script type=\"text/javascript\">require([\"plotly\"], function(Plotly) { window.PLOTLYENV=window.PLOTLYENV || {};window.PLOTLYENV.BASE_URL=\"https://plot.ly\";Plotly.newPlot(\"8e8b35be-a53a-4b94-b506-32437c83b8b3\", [{\"marker\": {\"color\": \"rgb(158,202,225)\", \"line\": {\"color\": \"rgb(8,48,107)\", \"width\": 1.5}}, \"opacity\": 0.6, \"orientation\": \"h\", \"text\": [0.1942, 0.0929, 0.063, 0.055, 0.0499, 0.0436, 0.0425, 0.0348, 0.0333, 0.0314, 0.0264, 0.0238, 0.0234, 0.0226, 0.0216, 0.0185, 0.0179, 0.0175, 0.0141, 0.0139, 0.0113, 0.0102, 0.0094, 0.0093, 0.0087, 0.008, 0.008, 0.0075, 0.0073, 0.0072, 0.0072, 0.0069, 0.0067, 0.0067, 0.0064, 0.0061, 0.0059, 0.005, 0.0042, 0.0031, 0.002, 0.0015, 0.0013, 0.0013, 0.0012, 0.001, 0.0009, 0.0009, 0.0008, 0.0008, 0.0008, 0.0006, 0.0006, 0.0005, 0.0005, 0.0003], \"textposition\": \"outside\", \"x\": [0.1941600514296759, 0.09293268398953868, 0.0629815519162984, 0.05495939689439523, 0.049854347918956085, 0.04355490812744483, 0.04254692275194537, 0.0347504339952623, 0.03328227687699498, 0.03139024793562805, 0.02643782487144953, 0.023795446825405093, 0.02337277274479258, 0.022554610071284655, 0.021560105417789365, 0.01845477143315502, 0.01793622146836222, 0.017464897310125328, 0.01413264352618104, 0.013938911398092687, 0.011280434152157442, 0.010228179028185066, 0.009439743402112124, 0.00933375311645022, 0.008705433529620018, 0.008011824715804585, 0.00796875261193283, 0.0075004826811296, 0.007251878271283604, 0.007185651790466395, 0.007176000861361444, 0.0068655910816595575, 0.006702555152460122, 0.006677767949432898, 0.0063600934475108815, 0.006061191710800373, 0.005874550988320526, 0.005041522089135536, 0.004219717128041641, 0.003056133790876935, 0.002023137176017316, 0.0015474060358229179, 0.0012856904884705968, 0.0012771014260815389, 0.0012157350751437876, 0.0009937543622147564, 0.0009366328787936263, 0.0008711336581736978, 0.0008044031552764696, 0.0007896635968674164, 0.0007506721008947259, 0.000588990215238764, 0.000556094564464455, 0.000534079381764463, 0.0004923926450208081, 0.0003308288382355488], \"y\": [\"a_count\", \"script_count\", \"script_src_out_of_domain\", \"script_async_true\", \"script_src_relative\", \"push\", \"div_count\", \"script_src_.js\", \"a_href_https\", \"script_src_https\", \"script_type_text/javascript\", \"link_rel_stylesheet\", \"img_src_.jpg\", \"iframe_src_https\", \"link_rel_canonical\", \"link_rel_shortcut icon\", \"style_count\", \"link_href_https\", \"meta_http-equiv_X-UA-Compatible\", \"iframe_count\", \"test\", \"document.createElement\", \"document.getElementsByTagName\", \"indexOf\", \"img_src_https\", \"iframe_src_relative\", \"Math.random\", \"img_src_absolute\", \"replace\", \"escape\", \"link_rel_icon\", \"apply\", \"getTime\", \"window.addEventListener\", \"input_count\", \"Math.round\", \"link_count\", \"link_href_.ico\", \"link_href_absolute\", \"document.getElementById\", \"concat\", \"split\", \"shift\", \"match\", \"unescape\", \"charAt\", \"encodeURIComponent\", \"small_count\", \"parseInt\", \"pop\", \"substring\", \"setTime\", \"join\", \"JSON.parse\", \"decodeURIComponent\", \"Math.floor\"], \"type\": \"bar\", \"uid\": \"7e0f538f-e8dc-4edc-b727-f45651864095\"}], {\"autosize\": false, \"height\": 1000, \"width\": 1000, \"xaxis\": {\"tickfont\": {\"color\": \"black\", \"size\": 12}, \"title\": \"Feature Importances\"}, \"yaxis\": {\"automargin\": true}}, {\"showLink\": true, \"linkText\": \"Export to plot.ly\", \"plotlyServerURL\": \"https://plot.ly\"})});</script>"
      ],
      "text/vnd.plotly.v1+html": [
       "<div id=\"8e8b35be-a53a-4b94-b506-32437c83b8b3\" style=\"height: 1000px; width: 1000px;\" class=\"plotly-graph-div\"></div><script type=\"text/javascript\">require([\"plotly\"], function(Plotly) { window.PLOTLYENV=window.PLOTLYENV || {};window.PLOTLYENV.BASE_URL=\"https://plot.ly\";Plotly.newPlot(\"8e8b35be-a53a-4b94-b506-32437c83b8b3\", [{\"marker\": {\"color\": \"rgb(158,202,225)\", \"line\": {\"color\": \"rgb(8,48,107)\", \"width\": 1.5}}, \"opacity\": 0.6, \"orientation\": \"h\", \"text\": [0.1942, 0.0929, 0.063, 0.055, 0.0499, 0.0436, 0.0425, 0.0348, 0.0333, 0.0314, 0.0264, 0.0238, 0.0234, 0.0226, 0.0216, 0.0185, 0.0179, 0.0175, 0.0141, 0.0139, 0.0113, 0.0102, 0.0094, 0.0093, 0.0087, 0.008, 0.008, 0.0075, 0.0073, 0.0072, 0.0072, 0.0069, 0.0067, 0.0067, 0.0064, 0.0061, 0.0059, 0.005, 0.0042, 0.0031, 0.002, 0.0015, 0.0013, 0.0013, 0.0012, 0.001, 0.0009, 0.0009, 0.0008, 0.0008, 0.0008, 0.0006, 0.0006, 0.0005, 0.0005, 0.0003], \"textposition\": \"outside\", \"x\": [0.1941600514296759, 0.09293268398953868, 0.0629815519162984, 0.05495939689439523, 0.049854347918956085, 0.04355490812744483, 0.04254692275194537, 0.0347504339952623, 0.03328227687699498, 0.03139024793562805, 0.02643782487144953, 0.023795446825405093, 0.02337277274479258, 0.022554610071284655, 0.021560105417789365, 0.01845477143315502, 0.01793622146836222, 0.017464897310125328, 0.01413264352618104, 0.013938911398092687, 0.011280434152157442, 0.010228179028185066, 0.009439743402112124, 0.00933375311645022, 0.008705433529620018, 0.008011824715804585, 0.00796875261193283, 0.0075004826811296, 0.007251878271283604, 0.007185651790466395, 0.007176000861361444, 0.0068655910816595575, 0.006702555152460122, 0.006677767949432898, 0.0063600934475108815, 0.006061191710800373, 0.005874550988320526, 0.005041522089135536, 0.004219717128041641, 0.003056133790876935, 0.002023137176017316, 0.0015474060358229179, 0.0012856904884705968, 0.0012771014260815389, 0.0012157350751437876, 0.0009937543622147564, 0.0009366328787936263, 0.0008711336581736978, 0.0008044031552764696, 0.0007896635968674164, 0.0007506721008947259, 0.000588990215238764, 0.000556094564464455, 0.000534079381764463, 0.0004923926450208081, 0.0003308288382355488], \"y\": [\"a_count\", \"script_count\", \"script_src_out_of_domain\", \"script_async_true\", \"script_src_relative\", \"push\", \"div_count\", \"script_src_.js\", \"a_href_https\", \"script_src_https\", \"script_type_text/javascript\", \"link_rel_stylesheet\", \"img_src_.jpg\", \"iframe_src_https\", \"link_rel_canonical\", \"link_rel_shortcut icon\", \"style_count\", \"link_href_https\", \"meta_http-equiv_X-UA-Compatible\", \"iframe_count\", \"test\", \"document.createElement\", \"document.getElementsByTagName\", \"indexOf\", \"img_src_https\", \"iframe_src_relative\", \"Math.random\", \"img_src_absolute\", \"replace\", \"escape\", \"link_rel_icon\", \"apply\", \"getTime\", \"window.addEventListener\", \"input_count\", \"Math.round\", \"link_count\", \"link_href_.ico\", \"link_href_absolute\", \"document.getElementById\", \"concat\", \"split\", \"shift\", \"match\", \"unescape\", \"charAt\", \"encodeURIComponent\", \"small_count\", \"parseInt\", \"pop\", \"substring\", \"setTime\", \"join\", \"JSON.parse\", \"decodeURIComponent\", \"Math.floor\"], \"type\": \"bar\", \"uid\": \"7e0f538f-e8dc-4edc-b727-f45651864095\"}], {\"autosize\": false, \"height\": 1000, \"width\": 1000, \"xaxis\": {\"tickfont\": {\"color\": \"black\", \"size\": 12}, \"title\": \"Feature Importances\"}, \"yaxis\": {\"automargin\": true}}, {\"showLink\": true, \"linkText\": \"Export to plot.ly\", \"plotlyServerURL\": \"https://plot.ly\"})});</script>"
      ]
     },
     "metadata": {},
     "output_type": "display_data"
    }
   ],
   "source": [
    "feat_impt_plot(np.average(feat_imp,axis=0),columns)"
   ]
  },
  {
   "cell_type": "markdown",
   "metadata": {},
   "source": [
    "### <a id='3' style=\"text-decoration : none; color : #000000;\"> 3. Undersampling</a>"
   ]
  },
  {
   "cell_type": "code",
   "execution_count": 28,
   "metadata": {},
   "outputs": [
    {
     "data": {
      "text/plain": [
       "['dom_function_document.getElementsByTagName(',\n",
       " 'dom_function_document.createElement(',\n",
       " 'js_function_.getTime(',\n",
       " 'dom_function_window.addEventListener(',\n",
       " 'js_function_.split(',\n",
       " 'js_function_Math.random(',\n",
       " 'js_function_.setTime(',\n",
       " 'js_function_.replace(',\n",
       " 'js_function_.indexOf(',\n",
       " 'js_function_Math.floor(',\n",
       " 'js_function_decodeURIComponent(',\n",
       " 'js_function_.match(',\n",
       " 'js_function_JSON.parse(',\n",
       " 'js_function_.pop(',\n",
       " 'js_function_.charAt(',\n",
       " 'js_function_.concat(',\n",
       " 'js_function_encodeURIComponent(',\n",
       " 'js_function_.test(',\n",
       " 'js_function_.apply(',\n",
       " 'js_function_Math.round(',\n",
       " 'js_function_.substring(',\n",
       " 'js_function_.shift(',\n",
       " 'js_function_.join(',\n",
       " 'js_function_.push(',\n",
       " 'dom_function_document.getElementById(',\n",
       " 'script_src_.js',\n",
       " 'script_count',\n",
       " 'script_src_relative',\n",
       " 'script_src_https',\n",
       " 'script_async_true',\n",
       " 'link_rel_canonical',\n",
       " 'div_count',\n",
       " 'script_type_text/javascript',\n",
       " 'script_src_out_of_domain',\n",
       " 'iframe_count',\n",
       " 'a_count',\n",
       " 'meta_http-equiv_X-UA-Compatible',\n",
       " 'link_href_https',\n",
       " 'img_src_absolute',\n",
       " 'img_src_https',\n",
       " 'iframe_src_relative',\n",
       " 'link_rel_shortcut icon',\n",
       " 'iframe_src_https',\n",
       " 'a_href_https',\n",
       " 'link_href_.ico',\n",
       " 'link_count',\n",
       " 'link_href_absolute',\n",
       " 'link_rel_stylesheet',\n",
       " 'img_src_.jpg',\n",
       " 'link_rel_icon',\n",
       " 'js_function_escape(',\n",
       " 'js_function_parseInt(',\n",
       " 'js_function_unescape(',\n",
       " 'small_count',\n",
       " 'style_count',\n",
       " 'input_count',\n",
       " 'Target']"
      ]
     },
     "execution_count": 28,
     "metadata": {},
     "output_type": "execute_result"
    }
   ],
   "source": [
    "fin_col"
   ]
  },
  {
   "cell_type": "code",
   "execution_count": 30,
   "metadata": {},
   "outputs": [],
   "source": [
    "df_non=train[train.Target==0]\n",
    "df_mal=train[train.Target==1]\n",
    "\n",
    "df_non=df_non.sample(frac=len(df_mal)/len(df_non),random_state=0)\n",
    "df_u=df_non.append(df_mal)\n",
    "df_u.Target.value_counts() \n",
    "\n",
    "X_train=df_u[columns]"
   ]
  },
  {
   "cell_type": "code",
   "execution_count": 31,
   "metadata": {},
   "outputs": [
    {
     "name": "stdout",
     "output_type": "stream",
     "text": [
      "Shape after undersampling (9458, 56)\n"
     ]
    }
   ],
   "source": [
    "X_train=scaler.transform(X_train)\n",
    "Y_train=df_u.Target.values\n",
    "\n",
    "print(\"Shape after undersampling\",X_train.shape)"
   ]
  },
  {
   "cell_type": "code",
   "execution_count": 32,
   "metadata": {
    "collapsed": true
   },
   "outputs": [],
   "source": [
    "## Table to store training and test measures so we can compare later\n",
    "table_80_90_train=pd.DataFrame(columns=['accuracy','TP','TN','FP','FN','FPR','FNR'])\n",
    "table_80_90_test=pd.DataFrame(columns=['accuracy','TP','TN','FP','FN','FPR','FNR','auc','mcc'])"
   ]
  },
  {
   "cell_type": "code",
   "execution_count": 33,
   "metadata": {
    "scrolled": false
   },
   "outputs": [
    {
     "name": "stdout",
     "output_type": "stream",
     "text": [
      "\u001b[1mK-Nearest Neighbors\u001b[0m\n",
      "Accuracy of the model for training data is: 0.561535208289\n",
      "Confusion Matrix for training data is:\n"
     ]
    },
    {
     "data": {
      "text/plain": [
       "Predicted  False  True  __all__\n",
       "Actual                         \n",
       "False       4586   143     4729\n",
       "True        4004   725     4729\n",
       "__all__     8590   868     9458"
      ]
     },
     "metadata": {},
     "output_type": "display_data"
    },
    {
     "name": "stdout",
     "output_type": "stream",
     "text": [
      "Accuracy of the model for test data is: 0.831245394252\n",
      "Confusion Matrix for test data is:\n"
     ]
    },
    {
     "data": {
      "text/plain": [
       "Predicted  False  True  __all__\n",
       "Actual                         \n",
       "False       6618   322     6940\n",
       "True        1052   150     1202\n",
       "__all__     7670   472     8142"
      ]
     },
     "metadata": {},
     "output_type": "display_data"
    },
    {
     "name": "stdout",
     "output_type": "stream",
     "text": [
      "\n",
      "\n",
      "\u001b[1mLogistic Regression\u001b[0m\n",
      "Accuracy of the model for training data is: 0.879572848382\n",
      "Confusion Matrix for training data is:\n"
     ]
    },
    {
     "data": {
      "text/plain": [
       "Predicted  False  True  __all__\n",
       "Actual                         \n",
       "False       3797   932     4729\n",
       "True         207  4522     4729\n",
       "__all__     4004  5454     9458"
      ]
     },
     "metadata": {},
     "output_type": "display_data"
    },
    {
     "name": "stdout",
     "output_type": "stream",
     "text": [
      "Accuracy of the model for test data is: 0.828788995333\n",
      "Confusion Matrix for test data is:\n"
     ]
    },
    {
     "data": {
      "text/plain": [
       "Predicted  False  True  __all__\n",
       "Actual                         \n",
       "False       5604  1336     6940\n",
       "True          58  1144     1202\n",
       "__all__     5662  2480     8142"
      ]
     },
     "metadata": {},
     "output_type": "display_data"
    },
    {
     "name": "stdout",
     "output_type": "stream",
     "text": [
      "\n",
      "\n",
      "\u001b[1mRandomForest Classifier\u001b[0m\n",
      "Accuracy of the model for training data is: 0.944174244026\n",
      "Confusion Matrix for training data is:\n"
     ]
    },
    {
     "data": {
      "text/plain": [
       "Predicted  False  True  __all__\n",
       "Actual                         \n",
       "False       4242   487     4729\n",
       "True          41  4688     4729\n",
       "__all__     4283  5175     9458"
      ]
     },
     "metadata": {},
     "output_type": "display_data"
    },
    {
     "name": "stdout",
     "output_type": "stream",
     "text": [
      "Accuracy of the model for test data is: 0.887128469663\n",
      "Confusion Matrix for test data is:\n"
     ]
    },
    {
     "data": {
      "text/plain": [
       "Predicted  False  True  __all__\n",
       "Actual                         \n",
       "False       6099   841     6940\n",
       "True          78  1124     1202\n",
       "__all__     6177  1965     8142"
      ]
     },
     "metadata": {},
     "output_type": "display_data"
    },
    {
     "data": {
      "application/vnd.plotly.v1+json": {
       "config": {
        "linkText": "Export to plot.ly",
        "plotlyServerURL": "https://plot.ly",
        "showLink": true
       },
       "data": [
        {
         "marker": {
          "color": "rgb(158,202,225)",
          "line": {
           "color": "rgb(8,48,107)",
           "width": 1.5
          }
         },
         "opacity": 0.6,
         "orientation": "h",
         "text": [
          0.217,
          0.0941,
          0.0882,
          0.0875,
          0.084,
          0.0785,
          0.0694,
          0.0507,
          0.0351,
          0.0153,
          0.0148,
          0.0145,
          0.0132,
          0.0121,
          0.0114,
          0.0102,
          0.0097,
          0.0086,
          0.0074,
          0.0068,
          0.0056,
          0.0045,
          0.0044,
          0.0043,
          0.004,
          0.0038,
          0.0035,
          0.0027,
          0.0026,
          0.0025,
          0.0025,
          0.0025,
          0.0022,
          0.0022,
          0.0021,
          0.0019,
          0.0018,
          0.0017,
          0.0017,
          0.0017,
          0.0016,
          0.0015,
          0.0014,
          0.0014,
          0.0012,
          0.001,
          0.0008,
          0.0008,
          0.0006,
          0.0006,
          0.0006,
          0.0006,
          0.0004,
          0.0004,
          0.0002,
          0.0002
         ],
         "textposition": "outside",
         "type": "bar",
         "uid": "07c05788-072e-4e91-8583-6b5f2060c9b2",
         "x": [
          0.21704395309875504,
          0.09409682548126139,
          0.08821355833230049,
          0.08746497857150395,
          0.08395946604760644,
          0.078540584978493,
          0.06937241842664042,
          0.050684651929093515,
          0.03505497480214355,
          0.015277743814763187,
          0.01478404317979149,
          0.014505842896623789,
          0.013232324043148915,
          0.012086980296046556,
          0.011350738560692646,
          0.010167640809129751,
          0.009702685882235858,
          0.008631034994119005,
          0.007420795308524256,
          0.006772216063875416,
          0.0055542931132293635,
          0.004511021697759237,
          0.004413212051656658,
          0.004306930211050779,
          0.003965530794197823,
          0.003766437946095106,
          0.0034853118251577933,
          0.002662381818396414,
          0.002576923209299929,
          0.002522413771994923,
          0.002486763354668283,
          0.002485739764708182,
          0.0022142025480606994,
          0.0022059923680530827,
          0.002100162310874144,
          0.0018955778182413324,
          0.0017541944546796326,
          0.0017423878763070558,
          0.0017234144088539183,
          0.001695180499589265,
          0.0015649168494338006,
          0.0015241489733015885,
          0.0014450318472829433,
          0.0014152003535650975,
          0.0011789638397064128,
          0.0010356383656323375,
          0.0008497617515194559,
          0.0008268247382820155,
          0.0006460175958337011,
          0.0006002903268560711,
          0.0005985076008242461,
          0.0005594816648517794,
          0.00043221906883990374,
          0.00042051748799351585,
          0.00024007145139830717,
          0.0002308787250564815
         ],
         "y": [
          "div_count",
          "a_href_https",
          "script_src_relative",
          "link_count",
          "script_src_.js",
          "script_src_out_of_domain",
          "link_rel_stylesheet",
          "img_src_https",
          "a_count",
          "img_src_absolute",
          "script_async_true",
          "script_src_https",
          "script_count",
          "style_count",
          "push",
          "input_count",
          "script_type_text/javascript",
          "img_src_.jpg",
          "link_href_absolute",
          "document.createElement",
          "link_href_https",
          "document.getElementsByTagName",
          "iframe_count",
          "document.getElementById",
          "iframe_src_relative",
          "indexOf",
          "link_rel_icon",
          "iframe_src_https",
          "match",
          "encodeURIComponent",
          "replace",
          "link_href_.ico",
          "apply",
          "meta_http-equiv_X-UA-Compatible",
          "getTime",
          "link_rel_shortcut icon",
          "Math.random",
          "split",
          "small_count",
          "substring",
          "decodeURIComponent",
          "test",
          "Math.floor",
          "parseInt",
          "unescape",
          "escape",
          "charAt",
          "window.addEventListener",
          "concat",
          "JSON.parse",
          "Math.round",
          "link_rel_canonical",
          "shift",
          "join",
          "pop",
          "setTime"
         ]
        }
       ],
       "layout": {
        "autosize": false,
        "height": 1000,
        "width": 1000,
        "xaxis": {
         "tickfont": {
          "color": "black",
          "size": 12
         },
         "title": "Feature Importances"
        },
        "yaxis": {
         "automargin": true
        }
       }
      },
      "text/html": [
       "<div id=\"1c516c50-d262-4e9d-8b2c-42449c6266f8\" style=\"height: 1000px; width: 1000px;\" class=\"plotly-graph-div\"></div><script type=\"text/javascript\">require([\"plotly\"], function(Plotly) { window.PLOTLYENV=window.PLOTLYENV || {};window.PLOTLYENV.BASE_URL=\"https://plot.ly\";Plotly.newPlot(\"1c516c50-d262-4e9d-8b2c-42449c6266f8\", [{\"marker\": {\"color\": \"rgb(158,202,225)\", \"line\": {\"color\": \"rgb(8,48,107)\", \"width\": 1.5}}, \"opacity\": 0.6, \"orientation\": \"h\", \"text\": [0.217, 0.0941, 0.0882, 0.0875, 0.084, 0.0785, 0.0694, 0.0507, 0.0351, 0.0153, 0.0148, 0.0145, 0.0132, 0.0121, 0.0114, 0.0102, 0.0097, 0.0086, 0.0074, 0.0068, 0.0056, 0.0045, 0.0044, 0.0043, 0.004, 0.0038, 0.0035, 0.0027, 0.0026, 0.0025, 0.0025, 0.0025, 0.0022, 0.0022, 0.0021, 0.0019, 0.0018, 0.0017, 0.0017, 0.0017, 0.0016, 0.0015, 0.0014, 0.0014, 0.0012, 0.001, 0.0008, 0.0008, 0.0006, 0.0006, 0.0006, 0.0006, 0.0004, 0.0004, 0.0002, 0.0002], \"textposition\": \"outside\", \"x\": [0.21704395309875504, 0.09409682548126139, 0.08821355833230049, 0.08746497857150395, 0.08395946604760644, 0.078540584978493, 0.06937241842664042, 0.050684651929093515, 0.03505497480214355, 0.015277743814763187, 0.01478404317979149, 0.014505842896623789, 0.013232324043148915, 0.012086980296046556, 0.011350738560692646, 0.010167640809129751, 0.009702685882235858, 0.008631034994119005, 0.007420795308524256, 0.006772216063875416, 0.0055542931132293635, 0.004511021697759237, 0.004413212051656658, 0.004306930211050779, 0.003965530794197823, 0.003766437946095106, 0.0034853118251577933, 0.002662381818396414, 0.002576923209299929, 0.002522413771994923, 0.002486763354668283, 0.002485739764708182, 0.0022142025480606994, 0.0022059923680530827, 0.002100162310874144, 0.0018955778182413324, 0.0017541944546796326, 0.0017423878763070558, 0.0017234144088539183, 0.001695180499589265, 0.0015649168494338006, 0.0015241489733015885, 0.0014450318472829433, 0.0014152003535650975, 0.0011789638397064128, 0.0010356383656323375, 0.0008497617515194559, 0.0008268247382820155, 0.0006460175958337011, 0.0006002903268560711, 0.0005985076008242461, 0.0005594816648517794, 0.00043221906883990374, 0.00042051748799351585, 0.00024007145139830717, 0.0002308787250564815], \"y\": [\"div_count\", \"a_href_https\", \"script_src_relative\", \"link_count\", \"script_src_.js\", \"script_src_out_of_domain\", \"link_rel_stylesheet\", \"img_src_https\", \"a_count\", \"img_src_absolute\", \"script_async_true\", \"script_src_https\", \"script_count\", \"style_count\", \"push\", \"input_count\", \"script_type_text/javascript\", \"img_src_.jpg\", \"link_href_absolute\", \"document.createElement\", \"link_href_https\", \"document.getElementsByTagName\", \"iframe_count\", \"document.getElementById\", \"iframe_src_relative\", \"indexOf\", \"link_rel_icon\", \"iframe_src_https\", \"match\", \"encodeURIComponent\", \"replace\", \"link_href_.ico\", \"apply\", \"meta_http-equiv_X-UA-Compatible\", \"getTime\", \"link_rel_shortcut icon\", \"Math.random\", \"split\", \"small_count\", \"substring\", \"decodeURIComponent\", \"test\", \"Math.floor\", \"parseInt\", \"unescape\", \"escape\", \"charAt\", \"window.addEventListener\", \"concat\", \"JSON.parse\", \"Math.round\", \"link_rel_canonical\", \"shift\", \"join\", \"pop\", \"setTime\"], \"type\": \"bar\", \"uid\": \"07c05788-072e-4e91-8583-6b5f2060c9b2\"}], {\"autosize\": false, \"height\": 1000, \"width\": 1000, \"xaxis\": {\"tickfont\": {\"color\": \"black\", \"size\": 12}, \"title\": \"Feature Importances\"}, \"yaxis\": {\"automargin\": true}}, {\"showLink\": true, \"linkText\": \"Export to plot.ly\", \"plotlyServerURL\": \"https://plot.ly\"})});</script>"
      ],
      "text/vnd.plotly.v1+html": [
       "<div id=\"1c516c50-d262-4e9d-8b2c-42449c6266f8\" style=\"height: 1000px; width: 1000px;\" class=\"plotly-graph-div\"></div><script type=\"text/javascript\">require([\"plotly\"], function(Plotly) { window.PLOTLYENV=window.PLOTLYENV || {};window.PLOTLYENV.BASE_URL=\"https://plot.ly\";Plotly.newPlot(\"1c516c50-d262-4e9d-8b2c-42449c6266f8\", [{\"marker\": {\"color\": \"rgb(158,202,225)\", \"line\": {\"color\": \"rgb(8,48,107)\", \"width\": 1.5}}, \"opacity\": 0.6, \"orientation\": \"h\", \"text\": [0.217, 0.0941, 0.0882, 0.0875, 0.084, 0.0785, 0.0694, 0.0507, 0.0351, 0.0153, 0.0148, 0.0145, 0.0132, 0.0121, 0.0114, 0.0102, 0.0097, 0.0086, 0.0074, 0.0068, 0.0056, 0.0045, 0.0044, 0.0043, 0.004, 0.0038, 0.0035, 0.0027, 0.0026, 0.0025, 0.0025, 0.0025, 0.0022, 0.0022, 0.0021, 0.0019, 0.0018, 0.0017, 0.0017, 0.0017, 0.0016, 0.0015, 0.0014, 0.0014, 0.0012, 0.001, 0.0008, 0.0008, 0.0006, 0.0006, 0.0006, 0.0006, 0.0004, 0.0004, 0.0002, 0.0002], \"textposition\": \"outside\", \"x\": [0.21704395309875504, 0.09409682548126139, 0.08821355833230049, 0.08746497857150395, 0.08395946604760644, 0.078540584978493, 0.06937241842664042, 0.050684651929093515, 0.03505497480214355, 0.015277743814763187, 0.01478404317979149, 0.014505842896623789, 0.013232324043148915, 0.012086980296046556, 0.011350738560692646, 0.010167640809129751, 0.009702685882235858, 0.008631034994119005, 0.007420795308524256, 0.006772216063875416, 0.0055542931132293635, 0.004511021697759237, 0.004413212051656658, 0.004306930211050779, 0.003965530794197823, 0.003766437946095106, 0.0034853118251577933, 0.002662381818396414, 0.002576923209299929, 0.002522413771994923, 0.002486763354668283, 0.002485739764708182, 0.0022142025480606994, 0.0022059923680530827, 0.002100162310874144, 0.0018955778182413324, 0.0017541944546796326, 0.0017423878763070558, 0.0017234144088539183, 0.001695180499589265, 0.0015649168494338006, 0.0015241489733015885, 0.0014450318472829433, 0.0014152003535650975, 0.0011789638397064128, 0.0010356383656323375, 0.0008497617515194559, 0.0008268247382820155, 0.0006460175958337011, 0.0006002903268560711, 0.0005985076008242461, 0.0005594816648517794, 0.00043221906883990374, 0.00042051748799351585, 0.00024007145139830717, 0.0002308787250564815], \"y\": [\"div_count\", \"a_href_https\", \"script_src_relative\", \"link_count\", \"script_src_.js\", \"script_src_out_of_domain\", \"link_rel_stylesheet\", \"img_src_https\", \"a_count\", \"img_src_absolute\", \"script_async_true\", \"script_src_https\", \"script_count\", \"style_count\", \"push\", \"input_count\", \"script_type_text/javascript\", \"img_src_.jpg\", \"link_href_absolute\", \"document.createElement\", \"link_href_https\", \"document.getElementsByTagName\", \"iframe_count\", \"document.getElementById\", \"iframe_src_relative\", \"indexOf\", \"link_rel_icon\", \"iframe_src_https\", \"match\", \"encodeURIComponent\", \"replace\", \"link_href_.ico\", \"apply\", \"meta_http-equiv_X-UA-Compatible\", \"getTime\", \"link_rel_shortcut icon\", \"Math.random\", \"split\", \"small_count\", \"substring\", \"decodeURIComponent\", \"test\", \"Math.floor\", \"parseInt\", \"unescape\", \"escape\", \"charAt\", \"window.addEventListener\", \"concat\", \"JSON.parse\", \"Math.round\", \"link_rel_canonical\", \"shift\", \"join\", \"pop\", \"setTime\"], \"type\": \"bar\", \"uid\": \"07c05788-072e-4e91-8583-6b5f2060c9b2\"}], {\"autosize\": false, \"height\": 1000, \"width\": 1000, \"xaxis\": {\"tickfont\": {\"color\": \"black\", \"size\": 12}, \"title\": \"Feature Importances\"}, \"yaxis\": {\"automargin\": true}}, {\"showLink\": true, \"linkText\": \"Export to plot.ly\", \"plotlyServerURL\": \"https://plot.ly\"})});</script>"
      ]
     },
     "metadata": {},
     "output_type": "display_data"
    },
    {
     "name": "stdout",
     "output_type": "stream",
     "text": [
      "\n",
      "\n",
      "\u001b[1mAdaoost Classifier\u001b[0m\n",
      "Accuracy of the model for training data is: 0.891520406005\n",
      "Confusion Matrix for training data is:\n"
     ]
    },
    {
     "data": {
      "text/plain": [
       "Predicted  False  True  __all__\n",
       "Actual                         \n",
       "False       3964   765     4729\n",
       "True         261  4468     4729\n",
       "__all__     4225  5233     9458"
      ]
     },
     "metadata": {},
     "output_type": "display_data"
    },
    {
     "name": "stdout",
     "output_type": "stream",
     "text": [
      "Accuracy of the model for test data is: 0.856669123066\n",
      "Confusion Matrix for test data is:\n"
     ]
    },
    {
     "data": {
      "text/plain": [
       "Predicted  False  True  __all__\n",
       "Actual                         \n",
       "False       5845  1095     6940\n",
       "True          72  1130     1202\n",
       "__all__     5917  2225     8142"
      ]
     },
     "metadata": {},
     "output_type": "display_data"
    },
    {
     "data": {
      "application/vnd.plotly.v1+json": {
       "config": {
        "linkText": "Export to plot.ly",
        "plotlyServerURL": "https://plot.ly",
        "showLink": true
       },
       "data": [
        {
         "marker": {
          "color": "rgb(158,202,225)",
          "line": {
           "color": "rgb(8,48,107)",
           "width": 1.5
          }
         },
         "opacity": 0.6,
         "orientation": "h",
         "text": [
          0.14,
          0.1,
          0.06,
          0.06,
          0.06,
          0.06,
          0.04,
          0.04,
          0.04,
          0.04,
          0.04,
          0.04,
          0.04,
          0.02,
          0.02,
          0.02,
          0.02,
          0.02,
          0.02,
          0.02,
          0.02,
          0.02,
          0.02,
          0.02,
          0.02,
          0,
          0,
          0,
          0,
          0,
          0,
          0,
          0,
          0,
          0,
          0,
          0,
          0,
          0,
          0,
          0,
          0,
          0,
          0,
          0,
          0,
          0,
          0,
          0,
          0,
          0,
          0,
          0,
          0,
          0,
          0
         ],
         "textposition": "outside",
         "type": "bar",
         "uid": "b1023ca5-80d3-4c03-80d6-62d8083018da",
         "x": [
          0.14,
          0.1,
          0.06,
          0.06,
          0.06,
          0.06,
          0.04,
          0.04,
          0.04,
          0.04,
          0.04,
          0.04,
          0.04,
          0.02,
          0.02,
          0.02,
          0.02,
          0.02,
          0.02,
          0.02,
          0.02,
          0.02,
          0.02,
          0.02,
          0.02,
          0,
          0,
          0,
          0,
          0,
          0,
          0,
          0,
          0,
          0,
          0,
          0,
          0,
          0,
          0,
          0,
          0,
          0,
          0,
          0,
          0,
          0,
          0,
          0,
          0,
          0,
          0,
          0,
          0,
          0,
          0
         ],
         "y": [
          "a_count",
          "push",
          "script_src_out_of_domain",
          "div_count",
          "img_src_absolute",
          "img_src_.jpg",
          "script_src_https",
          "script_count",
          "a_href_https",
          "link_rel_stylesheet",
          "indexOf",
          "script_type_text/javascript",
          "apply",
          "document.getElementById",
          "script_src_relative",
          "link_href_https",
          "meta_http-equiv_X-UA-Compatible",
          "iframe_count",
          "link_count",
          "concat",
          "style_count",
          "window.addEventListener",
          "Math.random",
          "replace",
          "escape",
          "img_src_https",
          "link_rel_icon",
          "parseInt",
          "link_href_absolute",
          "unescape",
          "iframe_src_relative",
          "small_count",
          "link_rel_shortcut icon",
          "iframe_src_https",
          "link_href_.ico",
          "document.getElementsByTagName",
          "link_rel_canonical",
          "script_async_true",
          "getTime",
          "split",
          "setTime",
          "Math.floor",
          "decodeURIComponent",
          "match",
          "JSON.parse",
          "pop",
          "charAt",
          "encodeURIComponent",
          "test",
          "Math.round",
          "substring",
          "shift",
          "join",
          "script_src_.js",
          "document.createElement",
          "input_count"
         ]
        }
       ],
       "layout": {
        "autosize": false,
        "height": 1000,
        "width": 1000,
        "xaxis": {
         "tickfont": {
          "color": "black",
          "size": 12
         },
         "title": "Feature Importances"
        },
        "yaxis": {
         "automargin": true
        }
       }
      },
      "text/html": [
       "<div id=\"d74578ae-4adc-463b-911d-381eab9f4cf2\" style=\"height: 1000px; width: 1000px;\" class=\"plotly-graph-div\"></div><script type=\"text/javascript\">require([\"plotly\"], function(Plotly) { window.PLOTLYENV=window.PLOTLYENV || {};window.PLOTLYENV.BASE_URL=\"https://plot.ly\";Plotly.newPlot(\"d74578ae-4adc-463b-911d-381eab9f4cf2\", [{\"marker\": {\"color\": \"rgb(158,202,225)\", \"line\": {\"color\": \"rgb(8,48,107)\", \"width\": 1.5}}, \"opacity\": 0.6, \"orientation\": \"h\", \"text\": [0.14, 0.1, 0.06, 0.06, 0.06, 0.06, 0.04, 0.04, 0.04, 0.04, 0.04, 0.04, 0.04, 0.02, 0.02, 0.02, 0.02, 0.02, 0.02, 0.02, 0.02, 0.02, 0.02, 0.02, 0.02, 0.0, 0.0, 0.0, 0.0, 0.0, 0.0, 0.0, 0.0, 0.0, 0.0, 0.0, 0.0, 0.0, 0.0, 0.0, 0.0, 0.0, 0.0, 0.0, 0.0, 0.0, 0.0, 0.0, 0.0, 0.0, 0.0, 0.0, 0.0, 0.0, 0.0, 0.0], \"textposition\": \"outside\", \"x\": [0.14, 0.1, 0.06, 0.06, 0.06, 0.06, 0.04, 0.04, 0.04, 0.04, 0.04, 0.04, 0.04, 0.02, 0.02, 0.02, 0.02, 0.02, 0.02, 0.02, 0.02, 0.02, 0.02, 0.02, 0.02, 0.0, 0.0, 0.0, 0.0, 0.0, 0.0, 0.0, 0.0, 0.0, 0.0, 0.0, 0.0, 0.0, 0.0, 0.0, 0.0, 0.0, 0.0, 0.0, 0.0, 0.0, 0.0, 0.0, 0.0, 0.0, 0.0, 0.0, 0.0, 0.0, 0.0, 0.0], \"y\": [\"a_count\", \"push\", \"script_src_out_of_domain\", \"div_count\", \"img_src_absolute\", \"img_src_.jpg\", \"script_src_https\", \"script_count\", \"a_href_https\", \"link_rel_stylesheet\", \"indexOf\", \"script_type_text/javascript\", \"apply\", \"document.getElementById\", \"script_src_relative\", \"link_href_https\", \"meta_http-equiv_X-UA-Compatible\", \"iframe_count\", \"link_count\", \"concat\", \"style_count\", \"window.addEventListener\", \"Math.random\", \"replace\", \"escape\", \"img_src_https\", \"link_rel_icon\", \"parseInt\", \"link_href_absolute\", \"unescape\", \"iframe_src_relative\", \"small_count\", \"link_rel_shortcut icon\", \"iframe_src_https\", \"link_href_.ico\", \"document.getElementsByTagName\", \"link_rel_canonical\", \"script_async_true\", \"getTime\", \"split\", \"setTime\", \"Math.floor\", \"decodeURIComponent\", \"match\", \"JSON.parse\", \"pop\", \"charAt\", \"encodeURIComponent\", \"test\", \"Math.round\", \"substring\", \"shift\", \"join\", \"script_src_.js\", \"document.createElement\", \"input_count\"], \"type\": \"bar\", \"uid\": \"b1023ca5-80d3-4c03-80d6-62d8083018da\"}], {\"autosize\": false, \"height\": 1000, \"width\": 1000, \"xaxis\": {\"tickfont\": {\"color\": \"black\", \"size\": 12}, \"title\": \"Feature Importances\"}, \"yaxis\": {\"automargin\": true}}, {\"showLink\": true, \"linkText\": \"Export to plot.ly\", \"plotlyServerURL\": \"https://plot.ly\"})});</script>"
      ],
      "text/vnd.plotly.v1+html": [
       "<div id=\"d74578ae-4adc-463b-911d-381eab9f4cf2\" style=\"height: 1000px; width: 1000px;\" class=\"plotly-graph-div\"></div><script type=\"text/javascript\">require([\"plotly\"], function(Plotly) { window.PLOTLYENV=window.PLOTLYENV || {};window.PLOTLYENV.BASE_URL=\"https://plot.ly\";Plotly.newPlot(\"d74578ae-4adc-463b-911d-381eab9f4cf2\", [{\"marker\": {\"color\": \"rgb(158,202,225)\", \"line\": {\"color\": \"rgb(8,48,107)\", \"width\": 1.5}}, \"opacity\": 0.6, \"orientation\": \"h\", \"text\": [0.14, 0.1, 0.06, 0.06, 0.06, 0.06, 0.04, 0.04, 0.04, 0.04, 0.04, 0.04, 0.04, 0.02, 0.02, 0.02, 0.02, 0.02, 0.02, 0.02, 0.02, 0.02, 0.02, 0.02, 0.02, 0.0, 0.0, 0.0, 0.0, 0.0, 0.0, 0.0, 0.0, 0.0, 0.0, 0.0, 0.0, 0.0, 0.0, 0.0, 0.0, 0.0, 0.0, 0.0, 0.0, 0.0, 0.0, 0.0, 0.0, 0.0, 0.0, 0.0, 0.0, 0.0, 0.0, 0.0], \"textposition\": \"outside\", \"x\": [0.14, 0.1, 0.06, 0.06, 0.06, 0.06, 0.04, 0.04, 0.04, 0.04, 0.04, 0.04, 0.04, 0.02, 0.02, 0.02, 0.02, 0.02, 0.02, 0.02, 0.02, 0.02, 0.02, 0.02, 0.02, 0.0, 0.0, 0.0, 0.0, 0.0, 0.0, 0.0, 0.0, 0.0, 0.0, 0.0, 0.0, 0.0, 0.0, 0.0, 0.0, 0.0, 0.0, 0.0, 0.0, 0.0, 0.0, 0.0, 0.0, 0.0, 0.0, 0.0, 0.0, 0.0, 0.0, 0.0], \"y\": [\"a_count\", \"push\", \"script_src_out_of_domain\", \"div_count\", \"img_src_absolute\", \"img_src_.jpg\", \"script_src_https\", \"script_count\", \"a_href_https\", \"link_rel_stylesheet\", \"indexOf\", \"script_type_text/javascript\", \"apply\", \"document.getElementById\", \"script_src_relative\", \"link_href_https\", \"meta_http-equiv_X-UA-Compatible\", \"iframe_count\", \"link_count\", \"concat\", \"style_count\", \"window.addEventListener\", \"Math.random\", \"replace\", \"escape\", \"img_src_https\", \"link_rel_icon\", \"parseInt\", \"link_href_absolute\", \"unescape\", \"iframe_src_relative\", \"small_count\", \"link_rel_shortcut icon\", \"iframe_src_https\", \"link_href_.ico\", \"document.getElementsByTagName\", \"link_rel_canonical\", \"script_async_true\", \"getTime\", \"split\", \"setTime\", \"Math.floor\", \"decodeURIComponent\", \"match\", \"JSON.parse\", \"pop\", \"charAt\", \"encodeURIComponent\", \"test\", \"Math.round\", \"substring\", \"shift\", \"join\", \"script_src_.js\", \"document.createElement\", \"input_count\"], \"type\": \"bar\", \"uid\": \"b1023ca5-80d3-4c03-80d6-62d8083018da\"}], {\"autosize\": false, \"height\": 1000, \"width\": 1000, \"xaxis\": {\"tickfont\": {\"color\": \"black\", \"size\": 12}, \"title\": \"Feature Importances\"}, \"yaxis\": {\"automargin\": true}}, {\"showLink\": true, \"linkText\": \"Export to plot.ly\", \"plotlyServerURL\": \"https://plot.ly\"})});</script>"
      ]
     },
     "metadata": {},
     "output_type": "display_data"
    },
    {
     "name": "stdout",
     "output_type": "stream",
     "text": [
      "\n",
      "\n",
      "\u001b[1mGradientBoosting Classifier\u001b[0m\n",
      "Accuracy of the model for training data is: 0.909071685346\n",
      "Confusion Matrix for training data is:\n"
     ]
    },
    {
     "data": {
      "text/plain": [
       "Predicted  False  True  __all__\n",
       "Actual                         \n",
       "False       4068   661     4729\n",
       "True         199  4530     4729\n",
       "__all__     4267  5191     9458"
      ]
     },
     "metadata": {},
     "output_type": "display_data"
    },
    {
     "name": "stdout",
     "output_type": "stream",
     "text": [
      "Accuracy of the model for test data is: 0.869442397445\n",
      "Confusion Matrix for test data is:\n"
     ]
    },
    {
     "data": {
      "text/plain": [
       "Predicted  False  True  __all__\n",
       "Actual                         \n",
       "False       5942   998     6940\n",
       "True          65  1137     1202\n",
       "__all__     6007  2135     8142"
      ]
     },
     "metadata": {},
     "output_type": "display_data"
    },
    {
     "data": {
      "application/vnd.plotly.v1+json": {
       "config": {
        "linkText": "Export to plot.ly",
        "plotlyServerURL": "https://plot.ly",
        "showLink": true
       },
       "data": [
        {
         "marker": {
          "color": "rgb(158,202,225)",
          "line": {
           "color": "rgb(8,48,107)",
           "width": 1.5
          }
         },
         "opacity": 0.6,
         "orientation": "h",
         "text": [
          0.7445,
          0.0531,
          0.0433,
          0.0348,
          0.0217,
          0.0204,
          0.0144,
          0.0104,
          0.0061,
          0.0057,
          0.0053,
          0.0051,
          0.0039,
          0.0035,
          0.0028,
          0.0023,
          0.0023,
          0.0022,
          0.002,
          0.0018,
          0.0017,
          0.0017,
          0.0013,
          0.0009,
          0.0009,
          0.0008,
          0.0008,
          0.0008,
          0.0007,
          0.0006,
          0.0006,
          0.0005,
          0.0005,
          0.0004,
          0.0003,
          0.0003,
          0.0003,
          0.0003,
          0.0003,
          0.0003,
          0.0002,
          0.0001,
          0.0001,
          0.0001,
          0,
          0,
          0,
          0,
          0,
          0,
          0,
          0,
          0,
          0,
          0,
          0
         ],
         "textposition": "outside",
         "type": "bar",
         "uid": "c5624ede-77f3-44ce-8e53-71bd67aa965e",
         "x": [
          0.7444868515254391,
          0.05308681839013172,
          0.043259826983623365,
          0.03477068051002078,
          0.021717888031777887,
          0.02038176967630534,
          0.014368703253037069,
          0.01043272283772202,
          0.006093612158536041,
          0.005716632928015208,
          0.005339256084563511,
          0.005121014029862122,
          0.0039005084668428756,
          0.00347463471390531,
          0.0027589804431954073,
          0.0022927161817169308,
          0.0022814775595796193,
          0.002203501405696227,
          0.0020342344404857223,
          0.0018474674076661881,
          0.00170647386495426,
          0.00169364546819755,
          0.0013036160541140052,
          0.0008938806010095561,
          0.0008900280061003195,
          0.0007862341180774883,
          0.0007770209603758289,
          0.0007548217090427858,
          0.0007243353434714011,
          0.0006359723800301079,
          0.0005966502375072089,
          0.000494196026686166,
          0.00047371650152296585,
          0.0003754905873093346,
          0.0003287562156958074,
          0.0003147342482159098,
          0.00029875915489689696,
          0.0002847847647054138,
          0.0002798716712752358,
          0.00027569176338204215,
          0.00015104260337325074,
          0.00014194241793164886,
          0.0001249118328976498,
          0.00011489180137986666,
          8.78888460329081e-06,
          4.4575512144816955e-07,
          0,
          0,
          0,
          0,
          0,
          0,
          0,
          0,
          0,
          0
         ],
         "y": [
          "a_count",
          "script_src_out_of_domain",
          "script_async_true",
          "push",
          "script_src_https",
          "a_href_https",
          "link_rel_stylesheet",
          "div_count",
          "script_count",
          "script_type_text/javascript",
          "document.getElementById",
          "input_count",
          "script_src_.js",
          "indexOf",
          "escape",
          "style_count",
          "iframe_src_relative",
          "apply",
          "script_src_relative",
          "meta_http-equiv_X-UA-Compatible",
          "link_rel_icon",
          "iframe_src_https",
          "link_href_https",
          "img_src_.jpg",
          "link_href_absolute",
          "link_rel_shortcut icon",
          "replace",
          "img_src_absolute",
          "window.addEventListener",
          "img_src_https",
          "match",
          "split",
          "charAt",
          "join",
          "encodeURIComponent",
          "link_href_.ico",
          "link_count",
          "unescape",
          "iframe_count",
          "Math.random",
          "document.createElement",
          "concat",
          "getTime",
          "pop",
          "document.getElementsByTagName",
          "decodeURIComponent",
          "setTime",
          "link_rel_canonical",
          "Math.floor",
          "shift",
          "substring",
          "parseInt",
          "Math.round",
          "small_count",
          "test",
          "JSON.parse"
         ]
        }
       ],
       "layout": {
        "autosize": false,
        "height": 1000,
        "width": 1000,
        "xaxis": {
         "tickfont": {
          "color": "black",
          "size": 12
         },
         "title": "Feature Importances"
        },
        "yaxis": {
         "automargin": true
        }
       }
      },
      "text/html": [
       "<div id=\"dbec6407-9859-47b1-ae3b-13806a00c9aa\" style=\"height: 1000px; width: 1000px;\" class=\"plotly-graph-div\"></div><script type=\"text/javascript\">require([\"plotly\"], function(Plotly) { window.PLOTLYENV=window.PLOTLYENV || {};window.PLOTLYENV.BASE_URL=\"https://plot.ly\";Plotly.newPlot(\"dbec6407-9859-47b1-ae3b-13806a00c9aa\", [{\"marker\": {\"color\": \"rgb(158,202,225)\", \"line\": {\"color\": \"rgb(8,48,107)\", \"width\": 1.5}}, \"opacity\": 0.6, \"orientation\": \"h\", \"text\": [0.7445, 0.0531, 0.0433, 0.0348, 0.0217, 0.0204, 0.0144, 0.0104, 0.0061, 0.0057, 0.0053, 0.0051, 0.0039, 0.0035, 0.0028, 0.0023, 0.0023, 0.0022, 0.002, 0.0018, 0.0017, 0.0017, 0.0013, 0.0009, 0.0009, 0.0008, 0.0008, 0.0008, 0.0007, 0.0006, 0.0006, 0.0005, 0.0005, 0.0004, 0.0003, 0.0003, 0.0003, 0.0003, 0.0003, 0.0003, 0.0002, 0.0001, 0.0001, 0.0001, 0.0, 0.0, 0.0, 0.0, 0.0, 0.0, 0.0, 0.0, 0.0, 0.0, 0.0, 0.0], \"textposition\": \"outside\", \"x\": [0.7444868515254391, 0.05308681839013172, 0.043259826983623365, 0.03477068051002078, 0.021717888031777887, 0.02038176967630534, 0.014368703253037069, 0.01043272283772202, 0.006093612158536041, 0.005716632928015208, 0.005339256084563511, 0.005121014029862122, 0.0039005084668428756, 0.00347463471390531, 0.0027589804431954073, 0.0022927161817169308, 0.0022814775595796193, 0.002203501405696227, 0.0020342344404857223, 0.0018474674076661881, 0.00170647386495426, 0.00169364546819755, 0.0013036160541140052, 0.0008938806010095561, 0.0008900280061003195, 0.0007862341180774883, 0.0007770209603758289, 0.0007548217090427858, 0.0007243353434714011, 0.0006359723800301079, 0.0005966502375072089, 0.000494196026686166, 0.00047371650152296585, 0.0003754905873093346, 0.0003287562156958074, 0.0003147342482159098, 0.00029875915489689696, 0.0002847847647054138, 0.0002798716712752358, 0.00027569176338204215, 0.00015104260337325074, 0.00014194241793164886, 0.0001249118328976498, 0.00011489180137986666, 8.78888460329081e-06, 4.4575512144816955e-07, 0.0, 0.0, 0.0, 0.0, 0.0, 0.0, 0.0, 0.0, 0.0, 0.0], \"y\": [\"a_count\", \"script_src_out_of_domain\", \"script_async_true\", \"push\", \"script_src_https\", \"a_href_https\", \"link_rel_stylesheet\", \"div_count\", \"script_count\", \"script_type_text/javascript\", \"document.getElementById\", \"input_count\", \"script_src_.js\", \"indexOf\", \"escape\", \"style_count\", \"iframe_src_relative\", \"apply\", \"script_src_relative\", \"meta_http-equiv_X-UA-Compatible\", \"link_rel_icon\", \"iframe_src_https\", \"link_href_https\", \"img_src_.jpg\", \"link_href_absolute\", \"link_rel_shortcut icon\", \"replace\", \"img_src_absolute\", \"window.addEventListener\", \"img_src_https\", \"match\", \"split\", \"charAt\", \"join\", \"encodeURIComponent\", \"link_href_.ico\", \"link_count\", \"unescape\", \"iframe_count\", \"Math.random\", \"document.createElement\", \"concat\", \"getTime\", \"pop\", \"document.getElementsByTagName\", \"decodeURIComponent\", \"setTime\", \"link_rel_canonical\", \"Math.floor\", \"shift\", \"substring\", \"parseInt\", \"Math.round\", \"small_count\", \"test\", \"JSON.parse\"], \"type\": \"bar\", \"uid\": \"c5624ede-77f3-44ce-8e53-71bd67aa965e\"}], {\"autosize\": false, \"height\": 1000, \"width\": 1000, \"xaxis\": {\"tickfont\": {\"color\": \"black\", \"size\": 12}, \"title\": \"Feature Importances\"}, \"yaxis\": {\"automargin\": true}}, {\"showLink\": true, \"linkText\": \"Export to plot.ly\", \"plotlyServerURL\": \"https://plot.ly\"})});</script>"
      ],
      "text/vnd.plotly.v1+html": [
       "<div id=\"dbec6407-9859-47b1-ae3b-13806a00c9aa\" style=\"height: 1000px; width: 1000px;\" class=\"plotly-graph-div\"></div><script type=\"text/javascript\">require([\"plotly\"], function(Plotly) { window.PLOTLYENV=window.PLOTLYENV || {};window.PLOTLYENV.BASE_URL=\"https://plot.ly\";Plotly.newPlot(\"dbec6407-9859-47b1-ae3b-13806a00c9aa\", [{\"marker\": {\"color\": \"rgb(158,202,225)\", \"line\": {\"color\": \"rgb(8,48,107)\", \"width\": 1.5}}, \"opacity\": 0.6, \"orientation\": \"h\", \"text\": [0.7445, 0.0531, 0.0433, 0.0348, 0.0217, 0.0204, 0.0144, 0.0104, 0.0061, 0.0057, 0.0053, 0.0051, 0.0039, 0.0035, 0.0028, 0.0023, 0.0023, 0.0022, 0.002, 0.0018, 0.0017, 0.0017, 0.0013, 0.0009, 0.0009, 0.0008, 0.0008, 0.0008, 0.0007, 0.0006, 0.0006, 0.0005, 0.0005, 0.0004, 0.0003, 0.0003, 0.0003, 0.0003, 0.0003, 0.0003, 0.0002, 0.0001, 0.0001, 0.0001, 0.0, 0.0, 0.0, 0.0, 0.0, 0.0, 0.0, 0.0, 0.0, 0.0, 0.0, 0.0], \"textposition\": \"outside\", \"x\": [0.7444868515254391, 0.05308681839013172, 0.043259826983623365, 0.03477068051002078, 0.021717888031777887, 0.02038176967630534, 0.014368703253037069, 0.01043272283772202, 0.006093612158536041, 0.005716632928015208, 0.005339256084563511, 0.005121014029862122, 0.0039005084668428756, 0.00347463471390531, 0.0027589804431954073, 0.0022927161817169308, 0.0022814775595796193, 0.002203501405696227, 0.0020342344404857223, 0.0018474674076661881, 0.00170647386495426, 0.00169364546819755, 0.0013036160541140052, 0.0008938806010095561, 0.0008900280061003195, 0.0007862341180774883, 0.0007770209603758289, 0.0007548217090427858, 0.0007243353434714011, 0.0006359723800301079, 0.0005966502375072089, 0.000494196026686166, 0.00047371650152296585, 0.0003754905873093346, 0.0003287562156958074, 0.0003147342482159098, 0.00029875915489689696, 0.0002847847647054138, 0.0002798716712752358, 0.00027569176338204215, 0.00015104260337325074, 0.00014194241793164886, 0.0001249118328976498, 0.00011489180137986666, 8.78888460329081e-06, 4.4575512144816955e-07, 0.0, 0.0, 0.0, 0.0, 0.0, 0.0, 0.0, 0.0, 0.0, 0.0], \"y\": [\"a_count\", \"script_src_out_of_domain\", \"script_async_true\", \"push\", \"script_src_https\", \"a_href_https\", \"link_rel_stylesheet\", \"div_count\", \"script_count\", \"script_type_text/javascript\", \"document.getElementById\", \"input_count\", \"script_src_.js\", \"indexOf\", \"escape\", \"style_count\", \"iframe_src_relative\", \"apply\", \"script_src_relative\", \"meta_http-equiv_X-UA-Compatible\", \"link_rel_icon\", \"iframe_src_https\", \"link_href_https\", \"img_src_.jpg\", \"link_href_absolute\", \"link_rel_shortcut icon\", \"replace\", \"img_src_absolute\", \"window.addEventListener\", \"img_src_https\", \"match\", \"split\", \"charAt\", \"join\", \"encodeURIComponent\", \"link_href_.ico\", \"link_count\", \"unescape\", \"iframe_count\", \"Math.random\", \"document.createElement\", \"concat\", \"getTime\", \"pop\", \"document.getElementsByTagName\", \"decodeURIComponent\", \"setTime\", \"link_rel_canonical\", \"Math.floor\", \"shift\", \"substring\", \"parseInt\", \"Math.round\", \"small_count\", \"test\", \"JSON.parse\"], \"type\": \"bar\", \"uid\": \"c5624ede-77f3-44ce-8e53-71bd67aa965e\"}], {\"autosize\": false, \"height\": 1000, \"width\": 1000, \"xaxis\": {\"tickfont\": {\"color\": \"black\", \"size\": 12}, \"title\": \"Feature Importances\"}, \"yaxis\": {\"automargin\": true}}, {\"showLink\": true, \"linkText\": \"Export to plot.ly\", \"plotlyServerURL\": \"https://plot.ly\"})});</script>"
      ]
     },
     "metadata": {},
     "output_type": "display_data"
    },
    {
     "name": "stdout",
     "output_type": "stream",
     "text": [
      "\n",
      "\n",
      "\u001b[1mExtraTree Classifier\u001b[0m\n",
      "Accuracy of the model for training data is: 0.947557623176\n",
      "Confusion Matrix for training data is:\n"
     ]
    },
    {
     "data": {
      "text/plain": [
       "Predicted  False  True  __all__\n",
       "Actual                         \n",
       "False       4243   486     4729\n",
       "True          10  4719     4729\n",
       "__all__     4253  5205     9458"
      ]
     },
     "metadata": {},
     "output_type": "display_data"
    },
    {
     "name": "stdout",
     "output_type": "stream",
     "text": [
      "Accuracy of the model for test data is: 0.891058707934\n",
      "Confusion Matrix for test data is:\n"
     ]
    },
    {
     "data": {
      "text/plain": [
       "Predicted  False  True  __all__\n",
       "Actual                         \n",
       "False       6127   813     6940\n",
       "True          74  1128     1202\n",
       "__all__     6201  1941     8142"
      ]
     },
     "metadata": {},
     "output_type": "display_data"
    },
    {
     "data": {
      "application/vnd.plotly.v1+json": {
       "config": {
        "linkText": "Export to plot.ly",
        "plotlyServerURL": "https://plot.ly",
        "showLink": true
       },
       "data": [
        {
         "marker": {
          "color": "rgb(158,202,225)",
          "line": {
           "color": "rgb(8,48,107)",
           "width": 1.5
          }
         },
         "opacity": 0.6,
         "orientation": "h",
         "text": [
          0.1085,
          0.0878,
          0.0846,
          0.0801,
          0.0624,
          0.0561,
          0.0502,
          0.0458,
          0.0456,
          0.0422,
          0.04,
          0.0243,
          0.0228,
          0.0168,
          0.0145,
          0.0143,
          0.0134,
          0.0133,
          0.0116,
          0.0112,
          0.0097,
          0.0095,
          0.0091,
          0.0091,
          0.0086,
          0.0086,
          0.0084,
          0.0067,
          0.006,
          0.0057,
          0.0057,
          0.0049,
          0.0048,
          0.0048,
          0.0046,
          0.0043,
          0.0043,
          0.0035,
          0.0034,
          0.0033,
          0.0029,
          0.0029,
          0.0028,
          0.0028,
          0.0022,
          0.002,
          0.0019,
          0.0019,
          0.0015,
          0.0015,
          0.0014,
          0.0014,
          0.0013,
          0.0013,
          0.0009,
          0.0005
         ],
         "textposition": "outside",
         "type": "bar",
         "uid": "27c89372-ba9a-4480-800f-a061a88f57b4",
         "x": [
          0.10852827478915184,
          0.08784388668405615,
          0.08463956510870627,
          0.0800789320365494,
          0.062404763593743084,
          0.05613853092219144,
          0.050226686571058,
          0.0457691525400393,
          0.04560353446520855,
          0.042245409147191645,
          0.04000126146047212,
          0.024319900009615116,
          0.022841938114815073,
          0.016751888878361425,
          0.014477039832036145,
          0.014283568172719108,
          0.013449170350769746,
          0.013261000967443277,
          0.011639165271392901,
          0.011175897516886964,
          0.00973770829359866,
          0.009499333004611796,
          0.009129930057006767,
          0.009080425755154341,
          0.008628527972144414,
          0.008557663179520478,
          0.008381171248525814,
          0.006684347142528813,
          0.005950796511833319,
          0.005717857328018385,
          0.005698708090538928,
          0.004943319730232548,
          0.004777247618278036,
          0.004753965920532075,
          0.004612585502169215,
          0.004349378843711167,
          0.00429138871112294,
          0.0034630931641483217,
          0.0033864412969915867,
          0.0033271127665500813,
          0.0029251511116710626,
          0.0028578087626066426,
          0.002820006723839444,
          0.002816436216899254,
          0.002249064058605836,
          0.0020444949984893155,
          0.0019375111612530132,
          0.0019323827798912805,
          0.0015000433112341016,
          0.0014611272744509498,
          0.0013597916896004396,
          0.0013512997158015693,
          0.0013192831485288937,
          0.001311238842893339,
          0.0009353066315786789,
          0.0005284850030309147
         ],
         "y": [
          "script_src_relative",
          "script_src_https",
          "script_count",
          "script_src_.js",
          "script_type_text/javascript",
          "script_src_out_of_domain",
          "a_href_https",
          "link_count",
          "meta_http-equiv_X-UA-Compatible",
          "link_rel_canonical",
          "a_count",
          "img_src_https",
          "div_count",
          "link_rel_shortcut icon",
          "link_rel_stylesheet",
          "link_href_absolute",
          "link_rel_icon",
          "Math.random",
          "document.getElementsByTagName",
          "style_count",
          "script_async_true",
          "img_src_absolute",
          "push",
          "input_count",
          "document.createElement",
          "link_href_https",
          "img_src_.jpg",
          "iframe_src_relative",
          "iframe_count",
          "match",
          "test",
          "iframe_src_https",
          "decodeURIComponent",
          "document.getElementById",
          "unescape",
          "getTime",
          "link_href_.ico",
          "indexOf",
          "replace",
          "apply",
          "escape",
          "Math.round",
          "window.addEventListener",
          "split",
          "Math.floor",
          "parseInt",
          "encodeURIComponent",
          "small_count",
          "pop",
          "setTime",
          "charAt",
          "join",
          "JSON.parse",
          "substring",
          "concat",
          "shift"
         ]
        }
       ],
       "layout": {
        "autosize": false,
        "height": 1000,
        "width": 1000,
        "xaxis": {
         "tickfont": {
          "color": "black",
          "size": 12
         },
         "title": "Feature Importances"
        },
        "yaxis": {
         "automargin": true
        }
       }
      },
      "text/html": [
       "<div id=\"b2083576-bbc6-4efb-b4fd-13175ded785d\" style=\"height: 1000px; width: 1000px;\" class=\"plotly-graph-div\"></div><script type=\"text/javascript\">require([\"plotly\"], function(Plotly) { window.PLOTLYENV=window.PLOTLYENV || {};window.PLOTLYENV.BASE_URL=\"https://plot.ly\";Plotly.newPlot(\"b2083576-bbc6-4efb-b4fd-13175ded785d\", [{\"marker\": {\"color\": \"rgb(158,202,225)\", \"line\": {\"color\": \"rgb(8,48,107)\", \"width\": 1.5}}, \"opacity\": 0.6, \"orientation\": \"h\", \"text\": [0.1085, 0.0878, 0.0846, 0.0801, 0.0624, 0.0561, 0.0502, 0.0458, 0.0456, 0.0422, 0.04, 0.0243, 0.0228, 0.0168, 0.0145, 0.0143, 0.0134, 0.0133, 0.0116, 0.0112, 0.0097, 0.0095, 0.0091, 0.0091, 0.0086, 0.0086, 0.0084, 0.0067, 0.006, 0.0057, 0.0057, 0.0049, 0.0048, 0.0048, 0.0046, 0.0043, 0.0043, 0.0035, 0.0034, 0.0033, 0.0029, 0.0029, 0.0028, 0.0028, 0.0022, 0.002, 0.0019, 0.0019, 0.0015, 0.0015, 0.0014, 0.0014, 0.0013, 0.0013, 0.0009, 0.0005], \"textposition\": \"outside\", \"x\": [0.10852827478915184, 0.08784388668405615, 0.08463956510870627, 0.0800789320365494, 0.062404763593743084, 0.05613853092219144, 0.050226686571058, 0.0457691525400393, 0.04560353446520855, 0.042245409147191645, 0.04000126146047212, 0.024319900009615116, 0.022841938114815073, 0.016751888878361425, 0.014477039832036145, 0.014283568172719108, 0.013449170350769746, 0.013261000967443277, 0.011639165271392901, 0.011175897516886964, 0.00973770829359866, 0.009499333004611796, 0.009129930057006767, 0.009080425755154341, 0.008628527972144414, 0.008557663179520478, 0.008381171248525814, 0.006684347142528813, 0.005950796511833319, 0.005717857328018385, 0.005698708090538928, 0.004943319730232548, 0.004777247618278036, 0.004753965920532075, 0.004612585502169215, 0.004349378843711167, 0.00429138871112294, 0.0034630931641483217, 0.0033864412969915867, 0.0033271127665500813, 0.0029251511116710626, 0.0028578087626066426, 0.002820006723839444, 0.002816436216899254, 0.002249064058605836, 0.0020444949984893155, 0.0019375111612530132, 0.0019323827798912805, 0.0015000433112341016, 0.0014611272744509498, 0.0013597916896004396, 0.0013512997158015693, 0.0013192831485288937, 0.001311238842893339, 0.0009353066315786789, 0.0005284850030309147], \"y\": [\"script_src_relative\", \"script_src_https\", \"script_count\", \"script_src_.js\", \"script_type_text/javascript\", \"script_src_out_of_domain\", \"a_href_https\", \"link_count\", \"meta_http-equiv_X-UA-Compatible\", \"link_rel_canonical\", \"a_count\", \"img_src_https\", \"div_count\", \"link_rel_shortcut icon\", \"link_rel_stylesheet\", \"link_href_absolute\", \"link_rel_icon\", \"Math.random\", \"document.getElementsByTagName\", \"style_count\", \"script_async_true\", \"img_src_absolute\", \"push\", \"input_count\", \"document.createElement\", \"link_href_https\", \"img_src_.jpg\", \"iframe_src_relative\", \"iframe_count\", \"match\", \"test\", \"iframe_src_https\", \"decodeURIComponent\", \"document.getElementById\", \"unescape\", \"getTime\", \"link_href_.ico\", \"indexOf\", \"replace\", \"apply\", \"escape\", \"Math.round\", \"window.addEventListener\", \"split\", \"Math.floor\", \"parseInt\", \"encodeURIComponent\", \"small_count\", \"pop\", \"setTime\", \"charAt\", \"join\", \"JSON.parse\", \"substring\", \"concat\", \"shift\"], \"type\": \"bar\", \"uid\": \"27c89372-ba9a-4480-800f-a061a88f57b4\"}], {\"autosize\": false, \"height\": 1000, \"width\": 1000, \"xaxis\": {\"tickfont\": {\"color\": \"black\", \"size\": 12}, \"title\": \"Feature Importances\"}, \"yaxis\": {\"automargin\": true}}, {\"showLink\": true, \"linkText\": \"Export to plot.ly\", \"plotlyServerURL\": \"https://plot.ly\"})});</script>"
      ],
      "text/vnd.plotly.v1+html": [
       "<div id=\"b2083576-bbc6-4efb-b4fd-13175ded785d\" style=\"height: 1000px; width: 1000px;\" class=\"plotly-graph-div\"></div><script type=\"text/javascript\">require([\"plotly\"], function(Plotly) { window.PLOTLYENV=window.PLOTLYENV || {};window.PLOTLYENV.BASE_URL=\"https://plot.ly\";Plotly.newPlot(\"b2083576-bbc6-4efb-b4fd-13175ded785d\", [{\"marker\": {\"color\": \"rgb(158,202,225)\", \"line\": {\"color\": \"rgb(8,48,107)\", \"width\": 1.5}}, \"opacity\": 0.6, \"orientation\": \"h\", \"text\": [0.1085, 0.0878, 0.0846, 0.0801, 0.0624, 0.0561, 0.0502, 0.0458, 0.0456, 0.0422, 0.04, 0.0243, 0.0228, 0.0168, 0.0145, 0.0143, 0.0134, 0.0133, 0.0116, 0.0112, 0.0097, 0.0095, 0.0091, 0.0091, 0.0086, 0.0086, 0.0084, 0.0067, 0.006, 0.0057, 0.0057, 0.0049, 0.0048, 0.0048, 0.0046, 0.0043, 0.0043, 0.0035, 0.0034, 0.0033, 0.0029, 0.0029, 0.0028, 0.0028, 0.0022, 0.002, 0.0019, 0.0019, 0.0015, 0.0015, 0.0014, 0.0014, 0.0013, 0.0013, 0.0009, 0.0005], \"textposition\": \"outside\", \"x\": [0.10852827478915184, 0.08784388668405615, 0.08463956510870627, 0.0800789320365494, 0.062404763593743084, 0.05613853092219144, 0.050226686571058, 0.0457691525400393, 0.04560353446520855, 0.042245409147191645, 0.04000126146047212, 0.024319900009615116, 0.022841938114815073, 0.016751888878361425, 0.014477039832036145, 0.014283568172719108, 0.013449170350769746, 0.013261000967443277, 0.011639165271392901, 0.011175897516886964, 0.00973770829359866, 0.009499333004611796, 0.009129930057006767, 0.009080425755154341, 0.008628527972144414, 0.008557663179520478, 0.008381171248525814, 0.006684347142528813, 0.005950796511833319, 0.005717857328018385, 0.005698708090538928, 0.004943319730232548, 0.004777247618278036, 0.004753965920532075, 0.004612585502169215, 0.004349378843711167, 0.00429138871112294, 0.0034630931641483217, 0.0033864412969915867, 0.0033271127665500813, 0.0029251511116710626, 0.0028578087626066426, 0.002820006723839444, 0.002816436216899254, 0.002249064058605836, 0.0020444949984893155, 0.0019375111612530132, 0.0019323827798912805, 0.0015000433112341016, 0.0014611272744509498, 0.0013597916896004396, 0.0013512997158015693, 0.0013192831485288937, 0.001311238842893339, 0.0009353066315786789, 0.0005284850030309147], \"y\": [\"script_src_relative\", \"script_src_https\", \"script_count\", \"script_src_.js\", \"script_type_text/javascript\", \"script_src_out_of_domain\", \"a_href_https\", \"link_count\", \"meta_http-equiv_X-UA-Compatible\", \"link_rel_canonical\", \"a_count\", \"img_src_https\", \"div_count\", \"link_rel_shortcut icon\", \"link_rel_stylesheet\", \"link_href_absolute\", \"link_rel_icon\", \"Math.random\", \"document.getElementsByTagName\", \"style_count\", \"script_async_true\", \"img_src_absolute\", \"push\", \"input_count\", \"document.createElement\", \"link_href_https\", \"img_src_.jpg\", \"iframe_src_relative\", \"iframe_count\", \"match\", \"test\", \"iframe_src_https\", \"decodeURIComponent\", \"document.getElementById\", \"unescape\", \"getTime\", \"link_href_.ico\", \"indexOf\", \"replace\", \"apply\", \"escape\", \"Math.round\", \"window.addEventListener\", \"split\", \"Math.floor\", \"parseInt\", \"encodeURIComponent\", \"small_count\", \"pop\", \"setTime\", \"charAt\", \"join\", \"JSON.parse\", \"substring\", \"concat\", \"shift\"], \"type\": \"bar\", \"uid\": \"27c89372-ba9a-4480-800f-a061a88f57b4\"}], {\"autosize\": false, \"height\": 1000, \"width\": 1000, \"xaxis\": {\"tickfont\": {\"color\": \"black\", \"size\": 12}, \"title\": \"Feature Importances\"}, \"yaxis\": {\"automargin\": true}}, {\"showLink\": true, \"linkText\": \"Export to plot.ly\", \"plotlyServerURL\": \"https://plot.ly\"})});</script>"
      ]
     },
     "metadata": {},
     "output_type": "display_data"
    },
    {
     "name": "stdout",
     "output_type": "stream",
     "text": [
      "\n",
      "\n",
      "\u001b[1mBagging Classifier\u001b[0m\n",
      "Accuracy of the model for training data is: 0.944808627617\n",
      "Confusion Matrix for training data is:\n"
     ]
    },
    {
     "data": {
      "text/plain": [
       "Predicted  False  True  __all__\n",
       "Actual                         \n",
       "False       4237   492     4729\n",
       "True          30  4699     4729\n",
       "__all__     4267  5191     9458"
      ]
     },
     "metadata": {},
     "output_type": "display_data"
    },
    {
     "name": "stdout",
     "output_type": "stream",
     "text": [
      "Accuracy of the model for test data is: 0.88025055269\n",
      "Confusion Matrix for test data is:\n"
     ]
    },
    {
     "data": {
      "text/plain": [
       "Predicted  False  True  __all__\n",
       "Actual                         \n",
       "False       6031   909     6940\n",
       "True          66  1136     1202\n",
       "__all__     6097  2045     8142"
      ]
     },
     "metadata": {},
     "output_type": "display_data"
    },
    {
     "name": "stdout",
     "output_type": "stream",
     "text": [
      "\n",
      "\n",
      "\u001b[1mNeural Network-1\u001b[0m\n",
      "The accuracy of the model on training data is: 0.92768027062\n"
     ]
    },
    {
     "data": {
      "text/plain": [
       "Predicted  False  True  __all__\n",
       "Actual                         \n",
       "False       4080   649     4729\n",
       "True          35  4694     4729\n",
       "__all__     4115  5343     9458"
      ]
     },
     "metadata": {},
     "output_type": "display_data"
    },
    {
     "name": "stdout",
     "output_type": "stream",
     "text": [
      "The accuracy of the model on test data is: 0.854949643822\n"
     ]
    },
    {
     "data": {
      "text/plain": [
       "Predicted  False  True  __all__\n",
       "Actual                         \n",
       "False       5815  1125     6940\n",
       "True          56  1146     1202\n",
       "__all__     5871  2271     8142"
      ]
     },
     "metadata": {},
     "output_type": "display_data"
    },
    {
     "name": "stdout",
     "output_type": "stream",
     "text": [
      "\n",
      "\n"
     ]
    }
   ],
   "source": [
    "feat_imp=[None]*4\n",
    "j=0\n",
    "for i in range(0,8):\n",
    "    if i>=2 and i<=5:\n",
    "        model,cm_train,cm_test,acc_train,acc_test,roc_auc,feat_imp[j],mcc=f[i](X_train,Y_train,scaled_X_test,test_Y,columns)\n",
    "        j=j+1\n",
    "    else:\n",
    "        model,cm_train,cm_test,acc_train,acc_test,roc_auc,mcc=f[i](X_train,Y_train,scaled_X_test,test_Y)\n",
    "    table_80_90_train.loc[i]=   ([acc_train,cm_train.TP,cm_train.TN,cm_train.FP,cm_train.FN,cm_train.FPR,cm_train.FNR])\n",
    "    table_80_90_test.loc[i] =   ([acc_test ,cm_test.TP, cm_test.TN, cm_test.FP, cm_test.FN, cm_test.FPR, cm_test.FNR,roc_auc,mcc])\n",
    "    print(\"\\n\")"
   ]
  },
  {
   "cell_type": "markdown",
   "metadata": {},
   "source": [
    "### <a id='3.A' style=\"text-decoration : none; color : #000000;\"> A. Results</a>"
   ]
  },
  {
   "cell_type": "code",
   "execution_count": 34,
   "metadata": {},
   "outputs": [
    {
     "data": {
      "application/vnd.plotly.v1+json": {
       "config": {
        "linkText": "Export to plot.ly",
        "plotlyServerURL": "https://plot.ly",
        "showLink": true
       },
       "data": [
        {
         "mode": "lines",
         "name": "KNN_model",
         "type": "scatter",
         "uid": "98035c05-2b66-4f6e-9447-e7541233c319",
         "x": [
          "accuracy",
          "FPR",
          "FNR",
          "auc"
         ],
         "y": [
          0.8312453942520265,
          0.04639769452449568,
          0.8752079866888519,
          0.5391971593933261
         ]
        },
        {
         "mode": "lines+markers",
         "name": "Logistic Regression",
         "type": "scatter",
         "uid": "55790f80-5af1-45b5-b5a6-c6e055b26285",
         "x": [
          "accuracy",
          "FPR",
          "FNR",
          "auc"
         ],
         "y": [
          0.828788995332842,
          0.192507204610951,
          0.048252911813643926,
          0.8796199417877024
         ]
        },
        {
         "marker": {
          "symbol": "x"
         },
         "mode": "lines+markers",
         "name": "Random Forest",
         "type": "scatter",
         "uid": "a1469867-7600-4458-9af1-79f249cb828d",
         "x": [
          "accuracy",
          "FPR",
          "FNR",
          "auc"
         ],
         "y": [
          0.8871284696634734,
          0.12118155619596542,
          0.064891846921797,
          0.9069632984411189
         ]
        },
        {
         "mode": "lines",
         "name": "Ada Boost",
         "type": "scatter",
         "uid": "4e68ccbe-2925-4517-812b-0e109c0f3a15",
         "x": [
          "accuracy",
          "FPR",
          "FNR",
          "auc"
         ],
         "y": [
          0.8566691230655858,
          0.15778097982708933,
          0.059900166389351084,
          0.8911594268917798
         ]
        },
        {
         "mode": "lines+markers",
         "name": "GradientBoosting",
         "type": "scatter",
         "uid": "fbbde470-dbce-4975-8029-8c61b7435249",
         "x": [
          "accuracy",
          "FPR",
          "FNR",
          "auc"
         ],
         "y": [
          0.8694423974453451,
          0.14380403458213256,
          0.054076539101497505,
          0.901059713158185
         ]
        },
        {
         "marker": {
          "symbol": "x"
         },
         "mode": "lines+markers",
         "name": "ExtraTree Classifier",
         "type": "scatter",
         "uid": "a35d8430-9b4e-4040-a7bf-81a004b220b2",
         "x": [
          "accuracy",
          "FPR",
          "FNR",
          "auc"
         ],
         "y": [
          0.8910587079341685,
          0.11714697406340058,
          0.06156405990016639,
          0.9106444830182165
         ]
        },
        {
         "marker": {
          "symbol": "x"
         },
         "mode": "lines+markers",
         "name": "Bagging",
         "type": "scatter",
         "uid": "4120162d-0c18-45f3-8bc0-f6aa95fecdb3",
         "x": [
          "accuracy",
          "FPR",
          "FNR",
          "auc"
         ],
         "y": [
          0.8802505526897568,
          0.13097982708933717,
          0.05490848585690516,
          0.9070558435268788
         ]
        },
        {
         "marker": {
          "symbol": "x"
         },
         "mode": "lines+markers",
         "name": "Neural Network",
         "type": "scatter",
         "uid": "9d253b5e-af59-4530-8554-0f55fabaebc4",
         "x": [
          "accuracy",
          "FPR",
          "FNR",
          "auc"
         ],
         "y": [
          0.8549496438221568,
          0.16210374639769454,
          0.04658901830282862,
          0.9070558435268788
         ]
        }
       ],
       "layout": {
        "title": "Result comparision for Features selected in Section 1",
        "yaxis": {
         "dtick": 0.05,
         "tick0": 0
        }
       }
      },
      "text/html": [
       "<div id=\"e414d8c4-63bb-4109-9fce-b7d43a3fdbe5\" style=\"height: 525px; width: 100%;\" class=\"plotly-graph-div\"></div><script type=\"text/javascript\">require([\"plotly\"], function(Plotly) { window.PLOTLYENV=window.PLOTLYENV || {};window.PLOTLYENV.BASE_URL=\"https://plot.ly\";Plotly.newPlot(\"e414d8c4-63bb-4109-9fce-b7d43a3fdbe5\", [{\"mode\": \"lines\", \"name\": \"KNN_model\", \"x\": [\"accuracy\", \"FPR\", \"FNR\", \"auc\"], \"y\": [0.8312453942520265, 0.04639769452449568, 0.8752079866888519, 0.5391971593933261], \"type\": \"scatter\", \"uid\": \"98035c05-2b66-4f6e-9447-e7541233c319\"}, {\"mode\": \"lines+markers\", \"name\": \"Logistic Regression\", \"x\": [\"accuracy\", \"FPR\", \"FNR\", \"auc\"], \"y\": [0.828788995332842, 0.192507204610951, 0.048252911813643926, 0.8796199417877024], \"type\": \"scatter\", \"uid\": \"55790f80-5af1-45b5-b5a6-c6e055b26285\"}, {\"marker\": {\"symbol\": \"x\"}, \"mode\": \"lines+markers\", \"name\": \"Random Forest\", \"x\": [\"accuracy\", \"FPR\", \"FNR\", \"auc\"], \"y\": [0.8871284696634734, 0.12118155619596542, 0.064891846921797, 0.9069632984411189], \"type\": \"scatter\", \"uid\": \"a1469867-7600-4458-9af1-79f249cb828d\"}, {\"mode\": \"lines\", \"name\": \"Ada Boost\", \"x\": [\"accuracy\", \"FPR\", \"FNR\", \"auc\"], \"y\": [0.8566691230655858, 0.15778097982708933, 0.059900166389351084, 0.8911594268917798], \"type\": \"scatter\", \"uid\": \"4e68ccbe-2925-4517-812b-0e109c0f3a15\"}, {\"mode\": \"lines+markers\", \"name\": \"GradientBoosting\", \"x\": [\"accuracy\", \"FPR\", \"FNR\", \"auc\"], \"y\": [0.8694423974453451, 0.14380403458213256, 0.054076539101497505, 0.901059713158185], \"type\": \"scatter\", \"uid\": \"fbbde470-dbce-4975-8029-8c61b7435249\"}, {\"marker\": {\"symbol\": \"x\"}, \"mode\": \"lines+markers\", \"name\": \"ExtraTree Classifier\", \"x\": [\"accuracy\", \"FPR\", \"FNR\", \"auc\"], \"y\": [0.8910587079341685, 0.11714697406340058, 0.06156405990016639, 0.9106444830182165], \"type\": \"scatter\", \"uid\": \"a35d8430-9b4e-4040-a7bf-81a004b220b2\"}, {\"marker\": {\"symbol\": \"x\"}, \"mode\": \"lines+markers\", \"name\": \"Bagging\", \"x\": [\"accuracy\", \"FPR\", \"FNR\", \"auc\"], \"y\": [0.8802505526897568, 0.13097982708933717, 0.05490848585690516, 0.9070558435268788], \"type\": \"scatter\", \"uid\": \"4120162d-0c18-45f3-8bc0-f6aa95fecdb3\"}, {\"marker\": {\"symbol\": \"x\"}, \"mode\": \"lines+markers\", \"name\": \"Neural Network\", \"x\": [\"accuracy\", \"FPR\", \"FNR\", \"auc\"], \"y\": [0.8549496438221568, 0.16210374639769454, 0.04658901830282862, 0.9070558435268788], \"type\": \"scatter\", \"uid\": \"9d253b5e-af59-4530-8554-0f55fabaebc4\"}], {\"title\": \"Result comparision for Features selected in Section 1\", \"yaxis\": {\"dtick\": 0.05, \"tick0\": 0}}, {\"showLink\": true, \"linkText\": \"Export to plot.ly\", \"plotlyServerURL\": \"https://plot.ly\"})});</script><script type=\"text/javascript\">window.addEventListener(\"resize\", function(){window._Plotly.Plots.resize(document.getElementById(\"e414d8c4-63bb-4109-9fce-b7d43a3fdbe5\"));});</script>"
      ],
      "text/vnd.plotly.v1+html": [
       "<div id=\"e414d8c4-63bb-4109-9fce-b7d43a3fdbe5\" style=\"height: 525px; width: 100%;\" class=\"plotly-graph-div\"></div><script type=\"text/javascript\">require([\"plotly\"], function(Plotly) { window.PLOTLYENV=window.PLOTLYENV || {};window.PLOTLYENV.BASE_URL=\"https://plot.ly\";Plotly.newPlot(\"e414d8c4-63bb-4109-9fce-b7d43a3fdbe5\", [{\"mode\": \"lines\", \"name\": \"KNN_model\", \"x\": [\"accuracy\", \"FPR\", \"FNR\", \"auc\"], \"y\": [0.8312453942520265, 0.04639769452449568, 0.8752079866888519, 0.5391971593933261], \"type\": \"scatter\", \"uid\": \"98035c05-2b66-4f6e-9447-e7541233c319\"}, {\"mode\": \"lines+markers\", \"name\": \"Logistic Regression\", \"x\": [\"accuracy\", \"FPR\", \"FNR\", \"auc\"], \"y\": [0.828788995332842, 0.192507204610951, 0.048252911813643926, 0.8796199417877024], \"type\": \"scatter\", \"uid\": \"55790f80-5af1-45b5-b5a6-c6e055b26285\"}, {\"marker\": {\"symbol\": \"x\"}, \"mode\": \"lines+markers\", \"name\": \"Random Forest\", \"x\": [\"accuracy\", \"FPR\", \"FNR\", \"auc\"], \"y\": [0.8871284696634734, 0.12118155619596542, 0.064891846921797, 0.9069632984411189], \"type\": \"scatter\", \"uid\": \"a1469867-7600-4458-9af1-79f249cb828d\"}, {\"mode\": \"lines\", \"name\": \"Ada Boost\", \"x\": [\"accuracy\", \"FPR\", \"FNR\", \"auc\"], \"y\": [0.8566691230655858, 0.15778097982708933, 0.059900166389351084, 0.8911594268917798], \"type\": \"scatter\", \"uid\": \"4e68ccbe-2925-4517-812b-0e109c0f3a15\"}, {\"mode\": \"lines+markers\", \"name\": \"GradientBoosting\", \"x\": [\"accuracy\", \"FPR\", \"FNR\", \"auc\"], \"y\": [0.8694423974453451, 0.14380403458213256, 0.054076539101497505, 0.901059713158185], \"type\": \"scatter\", \"uid\": \"fbbde470-dbce-4975-8029-8c61b7435249\"}, {\"marker\": {\"symbol\": \"x\"}, \"mode\": \"lines+markers\", \"name\": \"ExtraTree Classifier\", \"x\": [\"accuracy\", \"FPR\", \"FNR\", \"auc\"], \"y\": [0.8910587079341685, 0.11714697406340058, 0.06156405990016639, 0.9106444830182165], \"type\": \"scatter\", \"uid\": \"a35d8430-9b4e-4040-a7bf-81a004b220b2\"}, {\"marker\": {\"symbol\": \"x\"}, \"mode\": \"lines+markers\", \"name\": \"Bagging\", \"x\": [\"accuracy\", \"FPR\", \"FNR\", \"auc\"], \"y\": [0.8802505526897568, 0.13097982708933717, 0.05490848585690516, 0.9070558435268788], \"type\": \"scatter\", \"uid\": \"4120162d-0c18-45f3-8bc0-f6aa95fecdb3\"}, {\"marker\": {\"symbol\": \"x\"}, \"mode\": \"lines+markers\", \"name\": \"Neural Network\", \"x\": [\"accuracy\", \"FPR\", \"FNR\", \"auc\"], \"y\": [0.8549496438221568, 0.16210374639769454, 0.04658901830282862, 0.9070558435268788], \"type\": \"scatter\", \"uid\": \"9d253b5e-af59-4530-8554-0f55fabaebc4\"}], {\"title\": \"Result comparision for Features selected in Section 1\", \"yaxis\": {\"dtick\": 0.05, \"tick0\": 0}}, {\"showLink\": true, \"linkText\": \"Export to plot.ly\", \"plotlyServerURL\": \"https://plot.ly\"})});</script><script type=\"text/javascript\">window.addEventListener(\"resize\", function(){window._Plotly.Plots.resize(document.getElementById(\"e414d8c4-63bb-4109-9fce-b7d43a3fdbe5\"));});</script>"
      ]
     },
     "metadata": {},
     "output_type": "display_data"
    }
   ],
   "source": [
    "trace0 = go.Scatter(x=table_80_90_test.iloc[0].index.values[[0,5,6,7]],\n",
    "                    y=table_80_90_test.iloc[0].values[[0,5,6,7]],\n",
    "                    mode = 'lines',\n",
    "                    name = 'KNN_model')\n",
    "\n",
    "trace1 = go.Scatter(x=table_80_90_test.iloc[1].index.values[[0,5,6,7]],\n",
    "                    y=table_80_90_test.iloc[1].values[[0,5,6,7]],\n",
    "                    mode = 'lines+markers',\n",
    "                    name = 'Logistic Regression')\n",
    "\n",
    "trace2 = go.Scatter(x=table_80_90_test.iloc[2].index.values[[0,5,6,7]],\n",
    "                    y=table_80_90_test.iloc[2].values[[0,5,6,7]],\n",
    "                    mode = 'lines+markers',marker=dict(symbol='x'),\n",
    "                    name = 'Random Forest')\n",
    "\n",
    "\n",
    "trace3 = go.Scatter(x=table_80_90_test.iloc[3].index.values[[0,5,6,7]],\n",
    "                    y=table_80_90_test.iloc[3].values[[0,5,6,7]],\n",
    "                    mode = 'lines',\n",
    "                    name = 'Ada Boost')\n",
    "\n",
    "trace4 = go.Scatter(x=table_80_90_test.iloc[4].index.values[[0,5,6,7]],\n",
    "                    y=table_80_90_test.iloc[4].values[[0,5,6,7]],\n",
    "                    mode = 'lines+markers',\n",
    "                    name = 'GradientBoosting')\n",
    "\n",
    "trace5 = go.Scatter(x=table_80_90_test.iloc[5].index.values[[0,5,6,7]],\n",
    "                    y=table_80_90_test.iloc[5].values[[0,5,6,7]],\n",
    "                    mode = 'lines+markers',marker=dict(symbol='x'),\n",
    "                    name = 'ExtraTree Classifier')\n",
    "\n",
    "trace6 = go.Scatter(x=table_80_90_test.iloc[6].index.values[[0,5,6,7]],\n",
    "                    y=table_80_90_test.iloc[6].values[[0,5,6,7]],\n",
    "                    mode = 'lines+markers',marker=dict(symbol='x'),\n",
    "                    name = 'Bagging')\n",
    "\n",
    "trace7 = go.Scatter(x=table_80_90_test.iloc[7].index.values[[0,5,6,7]],\n",
    "                    y=table_80_90_test.iloc[7].values[[0,5,6,7]],\n",
    "                    mode = 'lines+markers',marker=dict(symbol='x'),\n",
    "                    name = 'Neural Network')\n",
    "\n",
    "\n",
    "\n",
    "data = [trace0, trace1, trace2, trace3, trace4, trace5, trace6, trace7]\n",
    "layout = go.Layout(yaxis=dict(tick0=0,dtick=0.05),title='Result comparision for Features selected in Section 1')\n",
    "fig = go.Figure(data=data, layout=layout)\n",
    "\n",
    "iplot(fig, filename='Result')"
   ]
  },
  {
   "cell_type": "code",
   "execution_count": 35,
   "metadata": {},
   "outputs": [
    {
     "name": "stdout",
     "output_type": "stream",
     "text": [
      "Training Results\n"
     ]
    },
    {
     "data": {
      "text/html": [
       "<div>\n",
       "<style scoped>\n",
       "    .dataframe tbody tr th:only-of-type {\n",
       "        vertical-align: middle;\n",
       "    }\n",
       "\n",
       "    .dataframe tbody tr th {\n",
       "        vertical-align: top;\n",
       "    }\n",
       "\n",
       "    .dataframe thead th {\n",
       "        text-align: right;\n",
       "    }\n",
       "</style>\n",
       "<table border=\"1\" class=\"dataframe\">\n",
       "  <thead>\n",
       "    <tr style=\"text-align: right;\">\n",
       "      <th></th>\n",
       "      <th>accuracy</th>\n",
       "      <th>TP</th>\n",
       "      <th>TN</th>\n",
       "      <th>FP</th>\n",
       "      <th>FN</th>\n",
       "      <th>FPR</th>\n",
       "      <th>FNR</th>\n",
       "    </tr>\n",
       "    <tr>\n",
       "      <th>index</th>\n",
       "      <th></th>\n",
       "      <th></th>\n",
       "      <th></th>\n",
       "      <th></th>\n",
       "      <th></th>\n",
       "      <th></th>\n",
       "      <th></th>\n",
       "    </tr>\n",
       "  </thead>\n",
       "  <tbody>\n",
       "    <tr>\n",
       "      <th>KNeighborsClassifier</th>\n",
       "      <td>0.561535</td>\n",
       "      <td>725.0</td>\n",
       "      <td>4586.0</td>\n",
       "      <td>143.0</td>\n",
       "      <td>4004.0</td>\n",
       "      <td>0.030239</td>\n",
       "      <td>0.846691</td>\n",
       "    </tr>\n",
       "    <tr>\n",
       "      <th>LogisticRegression</th>\n",
       "      <td>0.879573</td>\n",
       "      <td>4522.0</td>\n",
       "      <td>3797.0</td>\n",
       "      <td>932.0</td>\n",
       "      <td>207.0</td>\n",
       "      <td>0.197082</td>\n",
       "      <td>0.043772</td>\n",
       "    </tr>\n",
       "    <tr>\n",
       "      <th>RandomForestClassifier</th>\n",
       "      <td>0.944174</td>\n",
       "      <td>4688.0</td>\n",
       "      <td>4242.0</td>\n",
       "      <td>487.0</td>\n",
       "      <td>41.0</td>\n",
       "      <td>0.102982</td>\n",
       "      <td>0.008670</td>\n",
       "    </tr>\n",
       "    <tr>\n",
       "      <th>AdaBoostClassifier</th>\n",
       "      <td>0.891520</td>\n",
       "      <td>4468.0</td>\n",
       "      <td>3964.0</td>\n",
       "      <td>765.0</td>\n",
       "      <td>261.0</td>\n",
       "      <td>0.161768</td>\n",
       "      <td>0.055191</td>\n",
       "    </tr>\n",
       "    <tr>\n",
       "      <th>GradientBoostingClassifier</th>\n",
       "      <td>0.909072</td>\n",
       "      <td>4530.0</td>\n",
       "      <td>4068.0</td>\n",
       "      <td>661.0</td>\n",
       "      <td>199.0</td>\n",
       "      <td>0.139776</td>\n",
       "      <td>0.042081</td>\n",
       "    </tr>\n",
       "    <tr>\n",
       "      <th>ExtraTreeClassifier</th>\n",
       "      <td>0.947558</td>\n",
       "      <td>4719.0</td>\n",
       "      <td>4243.0</td>\n",
       "      <td>486.0</td>\n",
       "      <td>10.0</td>\n",
       "      <td>0.102770</td>\n",
       "      <td>0.002115</td>\n",
       "    </tr>\n",
       "    <tr>\n",
       "      <th>BaggingClassifier</th>\n",
       "      <td>0.944809</td>\n",
       "      <td>4699.0</td>\n",
       "      <td>4237.0</td>\n",
       "      <td>492.0</td>\n",
       "      <td>30.0</td>\n",
       "      <td>0.104039</td>\n",
       "      <td>0.006344</td>\n",
       "    </tr>\n",
       "    <tr>\n",
       "      <th>Neural Network-1</th>\n",
       "      <td>0.927680</td>\n",
       "      <td>4694.0</td>\n",
       "      <td>4080.0</td>\n",
       "      <td>649.0</td>\n",
       "      <td>35.0</td>\n",
       "      <td>0.137238</td>\n",
       "      <td>0.007401</td>\n",
       "    </tr>\n",
       "  </tbody>\n",
       "</table>\n",
       "</div>"
      ],
      "text/plain": [
       "                            accuracy      TP      TN     FP      FN       FPR  \\\n",
       "index                                                                           \n",
       "KNeighborsClassifier        0.561535   725.0  4586.0  143.0  4004.0  0.030239   \n",
       "LogisticRegression          0.879573  4522.0  3797.0  932.0   207.0  0.197082   \n",
       "RandomForestClassifier      0.944174  4688.0  4242.0  487.0    41.0  0.102982   \n",
       "AdaBoostClassifier          0.891520  4468.0  3964.0  765.0   261.0  0.161768   \n",
       "GradientBoostingClassifier  0.909072  4530.0  4068.0  661.0   199.0  0.139776   \n",
       "ExtraTreeClassifier         0.947558  4719.0  4243.0  486.0    10.0  0.102770   \n",
       "BaggingClassifier           0.944809  4699.0  4237.0  492.0    30.0  0.104039   \n",
       "Neural Network-1            0.927680  4694.0  4080.0  649.0    35.0  0.137238   \n",
       "\n",
       "                                 FNR  \n",
       "index                                 \n",
       "KNeighborsClassifier        0.846691  \n",
       "LogisticRegression          0.043772  \n",
       "RandomForestClassifier      0.008670  \n",
       "AdaBoostClassifier          0.055191  \n",
       "GradientBoostingClassifier  0.042081  \n",
       "ExtraTreeClassifier         0.002115  \n",
       "BaggingClassifier           0.006344  \n",
       "Neural Network-1            0.007401  "
      ]
     },
     "metadata": {},
     "output_type": "display_data"
    },
    {
     "name": "stdout",
     "output_type": "stream",
     "text": [
      "Test Results\n"
     ]
    },
    {
     "data": {
      "text/html": [
       "<div>\n",
       "<style scoped>\n",
       "    .dataframe tbody tr th:only-of-type {\n",
       "        vertical-align: middle;\n",
       "    }\n",
       "\n",
       "    .dataframe tbody tr th {\n",
       "        vertical-align: top;\n",
       "    }\n",
       "\n",
       "    .dataframe thead th {\n",
       "        text-align: right;\n",
       "    }\n",
       "</style>\n",
       "<table border=\"1\" class=\"dataframe\">\n",
       "  <thead>\n",
       "    <tr style=\"text-align: right;\">\n",
       "      <th></th>\n",
       "      <th>accuracy</th>\n",
       "      <th>TP</th>\n",
       "      <th>TN</th>\n",
       "      <th>FP</th>\n",
       "      <th>FN</th>\n",
       "      <th>FPR</th>\n",
       "      <th>FNR</th>\n",
       "      <th>auc</th>\n",
       "      <th>mcc</th>\n",
       "    </tr>\n",
       "    <tr>\n",
       "      <th>index</th>\n",
       "      <th></th>\n",
       "      <th></th>\n",
       "      <th></th>\n",
       "      <th></th>\n",
       "      <th></th>\n",
       "      <th></th>\n",
       "      <th></th>\n",
       "      <th></th>\n",
       "      <th></th>\n",
       "    </tr>\n",
       "  </thead>\n",
       "  <tbody>\n",
       "    <tr>\n",
       "      <th>KNeighborsClassifier</th>\n",
       "      <td>0.831245</td>\n",
       "      <td>150.0</td>\n",
       "      <td>6618.0</td>\n",
       "      <td>322.0</td>\n",
       "      <td>1052.0</td>\n",
       "      <td>0.046398</td>\n",
       "      <td>0.875208</td>\n",
       "      <td>0.539197</td>\n",
       "      <td>0.119000</td>\n",
       "    </tr>\n",
       "    <tr>\n",
       "      <th>LogisticRegression</th>\n",
       "      <td>0.828789</td>\n",
       "      <td>1144.0</td>\n",
       "      <td>5604.0</td>\n",
       "      <td>1336.0</td>\n",
       "      <td>58.0</td>\n",
       "      <td>0.192507</td>\n",
       "      <td>0.048253</td>\n",
       "      <td>0.879620</td>\n",
       "      <td>0.585194</td>\n",
       "    </tr>\n",
       "    <tr>\n",
       "      <th>RandomForestClassifier</th>\n",
       "      <td>0.887128</td>\n",
       "      <td>1124.0</td>\n",
       "      <td>6099.0</td>\n",
       "      <td>841.0</td>\n",
       "      <td>78.0</td>\n",
       "      <td>0.121182</td>\n",
       "      <td>0.064892</td>\n",
       "      <td>0.906963</td>\n",
       "      <td>0.674757</td>\n",
       "    </tr>\n",
       "    <tr>\n",
       "      <th>AdaBoostClassifier</th>\n",
       "      <td>0.856669</td>\n",
       "      <td>1130.0</td>\n",
       "      <td>5845.0</td>\n",
       "      <td>1095.0</td>\n",
       "      <td>72.0</td>\n",
       "      <td>0.157781</td>\n",
       "      <td>0.059900</td>\n",
       "      <td>0.891159</td>\n",
       "      <td>0.622730</td>\n",
       "    </tr>\n",
       "    <tr>\n",
       "      <th>GradientBoostingClassifier</th>\n",
       "      <td>0.869442</td>\n",
       "      <td>1137.0</td>\n",
       "      <td>5942.0</td>\n",
       "      <td>998.0</td>\n",
       "      <td>65.0</td>\n",
       "      <td>0.143804</td>\n",
       "      <td>0.054077</td>\n",
       "      <td>0.901060</td>\n",
       "      <td>0.646909</td>\n",
       "    </tr>\n",
       "    <tr>\n",
       "      <th>ExtraTreeClassifier</th>\n",
       "      <td>0.891059</td>\n",
       "      <td>1128.0</td>\n",
       "      <td>6127.0</td>\n",
       "      <td>813.0</td>\n",
       "      <td>74.0</td>\n",
       "      <td>0.117147</td>\n",
       "      <td>0.061564</td>\n",
       "      <td>0.910644</td>\n",
       "      <td>0.683730</td>\n",
       "    </tr>\n",
       "    <tr>\n",
       "      <th>BaggingClassifier</th>\n",
       "      <td>0.880251</td>\n",
       "      <td>1136.0</td>\n",
       "      <td>6031.0</td>\n",
       "      <td>909.0</td>\n",
       "      <td>66.0</td>\n",
       "      <td>0.130980</td>\n",
       "      <td>0.054908</td>\n",
       "      <td>0.907056</td>\n",
       "      <td>0.665903</td>\n",
       "    </tr>\n",
       "    <tr>\n",
       "      <th>Neural Network-1</th>\n",
       "      <td>0.854950</td>\n",
       "      <td>1146.0</td>\n",
       "      <td>5815.0</td>\n",
       "      <td>1125.0</td>\n",
       "      <td>56.0</td>\n",
       "      <td>0.162104</td>\n",
       "      <td>0.046589</td>\n",
       "      <td>0.907056</td>\n",
       "      <td>0.625911</td>\n",
       "    </tr>\n",
       "  </tbody>\n",
       "</table>\n",
       "</div>"
      ],
      "text/plain": [
       "                            accuracy      TP      TN      FP      FN  \\\n",
       "index                                                                  \n",
       "KNeighborsClassifier        0.831245   150.0  6618.0   322.0  1052.0   \n",
       "LogisticRegression          0.828789  1144.0  5604.0  1336.0    58.0   \n",
       "RandomForestClassifier      0.887128  1124.0  6099.0   841.0    78.0   \n",
       "AdaBoostClassifier          0.856669  1130.0  5845.0  1095.0    72.0   \n",
       "GradientBoostingClassifier  0.869442  1137.0  5942.0   998.0    65.0   \n",
       "ExtraTreeClassifier         0.891059  1128.0  6127.0   813.0    74.0   \n",
       "BaggingClassifier           0.880251  1136.0  6031.0   909.0    66.0   \n",
       "Neural Network-1            0.854950  1146.0  5815.0  1125.0    56.0   \n",
       "\n",
       "                                 FPR       FNR       auc       mcc  \n",
       "index                                                               \n",
       "KNeighborsClassifier        0.046398  0.875208  0.539197  0.119000  \n",
       "LogisticRegression          0.192507  0.048253  0.879620  0.585194  \n",
       "RandomForestClassifier      0.121182  0.064892  0.906963  0.674757  \n",
       "AdaBoostClassifier          0.157781  0.059900  0.891159  0.622730  \n",
       "GradientBoostingClassifier  0.143804  0.054077  0.901060  0.646909  \n",
       "ExtraTreeClassifier         0.117147  0.061564  0.910644  0.683730  \n",
       "BaggingClassifier           0.130980  0.054908  0.907056  0.665903  \n",
       "Neural Network-1            0.162104  0.046589  0.907056  0.625911  "
      ]
     },
     "metadata": {},
     "output_type": "display_data"
    }
   ],
   "source": [
    "table_80_90_train['index']=ind_columns\n",
    "table_80_90_test['index']=ind_columns\n",
    "\n",
    "\n",
    "table_80_90_test.set_index(['index'],drop=True,inplace=True)\n",
    "table_80_90_train.set_index(['index'],drop=True,inplace=True)\n",
    "\n",
    "print(\"Training Results\")\n",
    "display(table_80_90_train)\n",
    "print(\"Test Results\")\n",
    "display(table_80_90_test)"
   ]
  },
  {
   "cell_type": "markdown",
   "metadata": {},
   "source": [
    "### <a id='3.B' style=\"text-decoration : none; color : #000000;\"> B. Average Feature Importances</a>"
   ]
  },
  {
   "cell_type": "code",
   "execution_count": 36,
   "metadata": {},
   "outputs": [
    {
     "data": {
      "application/vnd.plotly.v1+json": {
       "config": {
        "linkText": "Export to plot.ly",
        "plotlyServerURL": "https://plot.ly",
        "showLink": true
       },
       "data": [
        {
         "marker": {
          "color": "rgb(158,202,225)",
          "line": {
           "color": "rgb(8,48,107)",
           "width": 1.5
          }
         },
         "opacity": 0.6,
         "orientation": "h",
         "text": [
          0.2399,
          0.0776,
          0.0619,
          0.0547,
          0.0512,
          0.042,
          0.041,
          0.0388,
          0.0384,
          0.036,
          0.0346,
          0.0295,
          0.0214,
          0.0195,
          0.0189,
          0.0174,
          0.0169,
          0.0127,
          0.0119,
          0.0114,
          0.0107,
          0.0089,
          0.0088,
          0.0086,
          0.0077,
          0.0067,
          0.0067,
          0.0061,
          0.0061,
          0.0056,
          0.0054,
          0.0049,
          0.0047,
          0.004,
          0.0039,
          0.0032,
          0.0023,
          0.0022,
          0.0018,
          0.0018,
          0.0016,
          0.0016,
          0.0015,
          0.0013,
          0.0012,
          0.0009,
          0.0009,
          0.0009,
          0.0009,
          0.0008,
          0.0007,
          0.0005,
          0.0005,
          0.0005,
          0.0004,
          0.0002
         ],
         "textposition": "outside",
         "type": "bar",
         "uid": "39d4fc3d-c036-4450-b507-806c55cbe109",
         "x": [
          0.23988577194701372,
          0.07757965351282303,
          0.06194148357270404,
          0.05469401689048452,
          0.05117632043215618,
          0.04198472663774968,
          0.04101690440311446,
          0.03881283728193005,
          0.03838322256661004,
          0.0359913753275978,
          0.034554540377928405,
          0.029456020600998535,
          0.02138297463210444,
          0.019476521710913595,
          0.018910131079684686,
          0.017414248560231955,
          0.01694539461425338,
          0.012676041456037184,
          0.011936204180076753,
          0.011388898498662613,
          0.010701222703010856,
          0.008853893086715962,
          0.008822721796376238,
          0.00860003805403659,
          0.007660970058691303,
          0.0066799424801247025,
          0.006662556403008925,
          0.006092791701398215,
          0.006092270148536553,
          0.005648597871835921,
          0.005430816661336007,
          0.004858425203670061,
          0.0046602390102204495,
          0.0040397439634388575,
          0.0038879466598482704,
          0.0032328388740765638,
          0.002324836754206628,
          0.0022228576937063805,
          0.0018057142659601293,
          0.0017729656810117579,
          0.0016436132468707404,
          0.001585652555708321,
          0.0015190835266452605,
          0.001263255029973119,
          0.001197170287235936,
          0.0009235239764721949,
          0.0009139492971862997,
          0.0008649238380136033,
          0.0008640790908577222,
          0.000751604835620651,
          0.0006708174856607154,
          0.000536826947776105,
          0.0004798933688462412,
          0.00046375164100306886,
          0.00042300149987685784,
          0.00024017601796770462
         ],
         "y": [
          "a_count",
          "div_count",
          "script_src_out_of_domain",
          "script_src_relative",
          "a_href_https",
          "script_src_.js",
          "script_src_https",
          "push",
          "link_count",
          "script_count",
          "link_rel_stylesheet",
          "script_type_text/javascript",
          "img_src_absolute",
          "img_src_.jpg",
          "img_src_https",
          "meta_http-equiv_X-UA-Compatible",
          "script_async_true",
          "indexOf",
          "apply",
          "style_count",
          "link_rel_canonical",
          "link_href_https",
          "Math.random",
          "document.getElementById",
          "iframe_count",
          "escape",
          "replace",
          "window.addEventListener",
          "input_count",
          "link_href_absolute",
          "concat",
          "link_rel_shortcut icon",
          "link_rel_icon",
          "document.getElementsByTagName",
          "document.createElement",
          "iframe_src_relative",
          "iframe_src_https",
          "match",
          "test",
          "link_href_.ico",
          "getTime",
          "decodeURIComponent",
          "unescape",
          "split",
          "encodeURIComponent",
          "Math.floor",
          "small_count",
          "parseInt",
          "Math.round",
          "substring",
          "charAt",
          "join",
          "JSON.parse",
          "pop",
          "setTime",
          "shift"
         ]
        }
       ],
       "layout": {
        "autosize": false,
        "height": 1000,
        "width": 1000,
        "xaxis": {
         "tickfont": {
          "color": "black",
          "size": 12
         },
         "title": "Feature Importances"
        },
        "yaxis": {
         "automargin": true
        }
       }
      },
      "text/html": [
       "<div id=\"7a32b5df-695f-4388-8740-2755624a3f3e\" style=\"height: 1000px; width: 1000px;\" class=\"plotly-graph-div\"></div><script type=\"text/javascript\">require([\"plotly\"], function(Plotly) { window.PLOTLYENV=window.PLOTLYENV || {};window.PLOTLYENV.BASE_URL=\"https://plot.ly\";Plotly.newPlot(\"7a32b5df-695f-4388-8740-2755624a3f3e\", [{\"marker\": {\"color\": \"rgb(158,202,225)\", \"line\": {\"color\": \"rgb(8,48,107)\", \"width\": 1.5}}, \"opacity\": 0.6, \"orientation\": \"h\", \"text\": [0.2399, 0.0776, 0.0619, 0.0547, 0.0512, 0.042, 0.041, 0.0388, 0.0384, 0.036, 0.0346, 0.0295, 0.0214, 0.0195, 0.0189, 0.0174, 0.0169, 0.0127, 0.0119, 0.0114, 0.0107, 0.0089, 0.0088, 0.0086, 0.0077, 0.0067, 0.0067, 0.0061, 0.0061, 0.0056, 0.0054, 0.0049, 0.0047, 0.004, 0.0039, 0.0032, 0.0023, 0.0022, 0.0018, 0.0018, 0.0016, 0.0016, 0.0015, 0.0013, 0.0012, 0.0009, 0.0009, 0.0009, 0.0009, 0.0008, 0.0007, 0.0005, 0.0005, 0.0005, 0.0004, 0.0002], \"textposition\": \"outside\", \"x\": [0.23988577194701372, 0.07757965351282303, 0.06194148357270404, 0.05469401689048452, 0.05117632043215618, 0.04198472663774968, 0.04101690440311446, 0.03881283728193005, 0.03838322256661004, 0.0359913753275978, 0.034554540377928405, 0.029456020600998535, 0.02138297463210444, 0.019476521710913595, 0.018910131079684686, 0.017414248560231955, 0.01694539461425338, 0.012676041456037184, 0.011936204180076753, 0.011388898498662613, 0.010701222703010856, 0.008853893086715962, 0.008822721796376238, 0.00860003805403659, 0.007660970058691303, 0.0066799424801247025, 0.006662556403008925, 0.006092791701398215, 0.006092270148536553, 0.005648597871835921, 0.005430816661336007, 0.004858425203670061, 0.0046602390102204495, 0.0040397439634388575, 0.0038879466598482704, 0.0032328388740765638, 0.002324836754206628, 0.0022228576937063805, 0.0018057142659601293, 0.0017729656810117579, 0.0016436132468707404, 0.001585652555708321, 0.0015190835266452605, 0.001263255029973119, 0.001197170287235936, 0.0009235239764721949, 0.0009139492971862997, 0.0008649238380136033, 0.0008640790908577222, 0.000751604835620651, 0.0006708174856607154, 0.000536826947776105, 0.0004798933688462412, 0.00046375164100306886, 0.00042300149987685784, 0.00024017601796770462], \"y\": [\"a_count\", \"div_count\", \"script_src_out_of_domain\", \"script_src_relative\", \"a_href_https\", \"script_src_.js\", \"script_src_https\", \"push\", \"link_count\", \"script_count\", \"link_rel_stylesheet\", \"script_type_text/javascript\", \"img_src_absolute\", \"img_src_.jpg\", \"img_src_https\", \"meta_http-equiv_X-UA-Compatible\", \"script_async_true\", \"indexOf\", \"apply\", \"style_count\", \"link_rel_canonical\", \"link_href_https\", \"Math.random\", \"document.getElementById\", \"iframe_count\", \"escape\", \"replace\", \"window.addEventListener\", \"input_count\", \"link_href_absolute\", \"concat\", \"link_rel_shortcut icon\", \"link_rel_icon\", \"document.getElementsByTagName\", \"document.createElement\", \"iframe_src_relative\", \"iframe_src_https\", \"match\", \"test\", \"link_href_.ico\", \"getTime\", \"decodeURIComponent\", \"unescape\", \"split\", \"encodeURIComponent\", \"Math.floor\", \"small_count\", \"parseInt\", \"Math.round\", \"substring\", \"charAt\", \"join\", \"JSON.parse\", \"pop\", \"setTime\", \"shift\"], \"type\": \"bar\", \"uid\": \"39d4fc3d-c036-4450-b507-806c55cbe109\"}], {\"autosize\": false, \"height\": 1000, \"width\": 1000, \"xaxis\": {\"tickfont\": {\"color\": \"black\", \"size\": 12}, \"title\": \"Feature Importances\"}, \"yaxis\": {\"automargin\": true}}, {\"showLink\": true, \"linkText\": \"Export to plot.ly\", \"plotlyServerURL\": \"https://plot.ly\"})});</script>"
      ],
      "text/vnd.plotly.v1+html": [
       "<div id=\"7a32b5df-695f-4388-8740-2755624a3f3e\" style=\"height: 1000px; width: 1000px;\" class=\"plotly-graph-div\"></div><script type=\"text/javascript\">require([\"plotly\"], function(Plotly) { window.PLOTLYENV=window.PLOTLYENV || {};window.PLOTLYENV.BASE_URL=\"https://plot.ly\";Plotly.newPlot(\"7a32b5df-695f-4388-8740-2755624a3f3e\", [{\"marker\": {\"color\": \"rgb(158,202,225)\", \"line\": {\"color\": \"rgb(8,48,107)\", \"width\": 1.5}}, \"opacity\": 0.6, \"orientation\": \"h\", \"text\": [0.2399, 0.0776, 0.0619, 0.0547, 0.0512, 0.042, 0.041, 0.0388, 0.0384, 0.036, 0.0346, 0.0295, 0.0214, 0.0195, 0.0189, 0.0174, 0.0169, 0.0127, 0.0119, 0.0114, 0.0107, 0.0089, 0.0088, 0.0086, 0.0077, 0.0067, 0.0067, 0.0061, 0.0061, 0.0056, 0.0054, 0.0049, 0.0047, 0.004, 0.0039, 0.0032, 0.0023, 0.0022, 0.0018, 0.0018, 0.0016, 0.0016, 0.0015, 0.0013, 0.0012, 0.0009, 0.0009, 0.0009, 0.0009, 0.0008, 0.0007, 0.0005, 0.0005, 0.0005, 0.0004, 0.0002], \"textposition\": \"outside\", \"x\": [0.23988577194701372, 0.07757965351282303, 0.06194148357270404, 0.05469401689048452, 0.05117632043215618, 0.04198472663774968, 0.04101690440311446, 0.03881283728193005, 0.03838322256661004, 0.0359913753275978, 0.034554540377928405, 0.029456020600998535, 0.02138297463210444, 0.019476521710913595, 0.018910131079684686, 0.017414248560231955, 0.01694539461425338, 0.012676041456037184, 0.011936204180076753, 0.011388898498662613, 0.010701222703010856, 0.008853893086715962, 0.008822721796376238, 0.00860003805403659, 0.007660970058691303, 0.0066799424801247025, 0.006662556403008925, 0.006092791701398215, 0.006092270148536553, 0.005648597871835921, 0.005430816661336007, 0.004858425203670061, 0.0046602390102204495, 0.0040397439634388575, 0.0038879466598482704, 0.0032328388740765638, 0.002324836754206628, 0.0022228576937063805, 0.0018057142659601293, 0.0017729656810117579, 0.0016436132468707404, 0.001585652555708321, 0.0015190835266452605, 0.001263255029973119, 0.001197170287235936, 0.0009235239764721949, 0.0009139492971862997, 0.0008649238380136033, 0.0008640790908577222, 0.000751604835620651, 0.0006708174856607154, 0.000536826947776105, 0.0004798933688462412, 0.00046375164100306886, 0.00042300149987685784, 0.00024017601796770462], \"y\": [\"a_count\", \"div_count\", \"script_src_out_of_domain\", \"script_src_relative\", \"a_href_https\", \"script_src_.js\", \"script_src_https\", \"push\", \"link_count\", \"script_count\", \"link_rel_stylesheet\", \"script_type_text/javascript\", \"img_src_absolute\", \"img_src_.jpg\", \"img_src_https\", \"meta_http-equiv_X-UA-Compatible\", \"script_async_true\", \"indexOf\", \"apply\", \"style_count\", \"link_rel_canonical\", \"link_href_https\", \"Math.random\", \"document.getElementById\", \"iframe_count\", \"escape\", \"replace\", \"window.addEventListener\", \"input_count\", \"link_href_absolute\", \"concat\", \"link_rel_shortcut icon\", \"link_rel_icon\", \"document.getElementsByTagName\", \"document.createElement\", \"iframe_src_relative\", \"iframe_src_https\", \"match\", \"test\", \"link_href_.ico\", \"getTime\", \"decodeURIComponent\", \"unescape\", \"split\", \"encodeURIComponent\", \"Math.floor\", \"small_count\", \"parseInt\", \"Math.round\", \"substring\", \"charAt\", \"join\", \"JSON.parse\", \"pop\", \"setTime\", \"shift\"], \"type\": \"bar\", \"uid\": \"39d4fc3d-c036-4450-b507-806c55cbe109\"}], {\"autosize\": false, \"height\": 1000, \"width\": 1000, \"xaxis\": {\"tickfont\": {\"color\": \"black\", \"size\": 12}, \"title\": \"Feature Importances\"}, \"yaxis\": {\"automargin\": true}}, {\"showLink\": true, \"linkText\": \"Export to plot.ly\", \"plotlyServerURL\": \"https://plot.ly\"})});</script>"
      ]
     },
     "metadata": {},
     "output_type": "display_data"
    }
   ],
   "source": [
    "feat_impt_plot(np.average(feat_imp,axis=0),columns)"
   ]
  },
  {
   "cell_type": "markdown",
   "metadata": {},
   "source": [
    "### <a id='4' style=\"text-decoration : none; color : #000000;\">4. Feature Transformation with feature selection </a>"
   ]
  },
  {
   "cell_type": "code",
   "execution_count": 37,
   "metadata": {},
   "outputs": [
    {
     "name": "stdout",
     "output_type": "stream",
     "text": [
      "Built 6216 features\n",
      "EntitySet scattered to workers in 5.056 seconds\n",
      "Elapsed: 00:48 | Remaining: 00:00 | Progress: 100%|██████████| Calculated: 11/11 chunks\n"
     ]
    }
   ],
   "source": [
    "df.reset_index(inplace=True)\n",
    "\n",
    "# columns=columns.tolist()\n",
    "columns.append('domain')\n",
    "\n",
    "df_min=df[columns]\n",
    "\n",
    "es = ft.EntitySet(id = 'malicious')\n",
    "es.entity_from_dataframe(entity_id = 'data', dataframe = df_min, index = 'domain')\n",
    "\n",
    "feature_matrix_sessions, features_defs = ft.dfs(entityset=es,target_entity=\"data\",\n",
    "                                                trans_primitives = ['add','divide','multiply'],n_jobs=-1,\n",
    "                                                verbose=1,max_depth=1)\n",
    "\n",
    "df.set_index(['domain'],drop=True,inplace=True)\n",
    "fs=pd.merge(feature_matrix_sessions,pd.DataFrame(df.Target),left_index=True, right_index=True)\n",
    "fs.replace([np.inf],0,inplace=True)\n",
    "fs.fillna(value=0,inplace=True)"
   ]
  },
  {
   "cell_type": "code",
   "execution_count": 38,
   "metadata": {
    "collapsed": true
   },
   "outputs": [],
   "source": [
    "X=fs.loc[:,fs.columns!='Target']\n",
    "y=fs.Target\n",
    "feature_name = X.columns.tolist()"
   ]
  },
  {
   "cell_type": "code",
   "execution_count": 39,
   "metadata": {
    "collapsed": true
   },
   "outputs": [],
   "source": [
    "def feat_transformation(data,feature):\n",
    "    for i in range(0,len(feature)):\n",
    "        for j in range(i,len(feature)):\n",
    "            if feature[i]!=feature[j]:\n",
    "                new_feat=str(feature[i])+\"+\"+str(feature[j])\n",
    "                data[new_feat]=data[feature[i]]+data[feature[j]]\n",
    "    \n",
    "                new_feat=str(feature[i])+\"*\"+str(feature[j])\n",
    "                data[new_feat]=data[feature[i]]*data[feature[j]]\n",
    "             \n",
    "                new_feat=str(feature[i])+\"/\"+str(feature[j])  \n",
    "                data[new_feat]=data[feature[i]]/data[feature[j]]             "
   ]
  },
  {
   "cell_type": "code",
   "execution_count": 40,
   "metadata": {
    "collapsed": true
   },
   "outputs": [],
   "source": [
    "def cor_selector(X, y):\n",
    "    cor_list = []\n",
    "    # calculate the correlation with y for each feature\n",
    "    for i in X.columns.tolist():\n",
    "        cor = np.corrcoef(X[i], y)[0, 1]\n",
    "        cor_list.append(cor)\n",
    "    # replace NaN with 0\n",
    "    cor_list = [0 if np.isnan(i) else i for i in cor_list]\n",
    "    # feature name\n",
    "    cor_feature = X.iloc[:,np.argsort(np.abs(cor_list))[-100:]].columns.tolist()\n",
    "    # feature selection? 0 for not select, 1 for select\n",
    "    cor_support = [True if i in cor_feature else False for i in feature_name]\n",
    "    return cor_support, cor_feature\n",
    "\n",
    "\n",
    "cor_support, cor_feature = cor_selector(X, y)"
   ]
  },
  {
   "cell_type": "code",
   "execution_count": 41,
   "metadata": {
    "collapsed": true
   },
   "outputs": [],
   "source": [
    "X_norm = MinMaxScaler().fit_transform(X)\n",
    "chi_selector = SelectKBest(chi2, k=100)\n",
    "chi_selector.fit(X_norm, y)\n",
    "chi_support = chi_selector.get_support()\n",
    "chi_feature = X.loc[:,chi_support].columns.tolist()"
   ]
  },
  {
   "cell_type": "code",
   "execution_count": 42,
   "metadata": {
    "collapsed": true
   },
   "outputs": [],
   "source": [
    "rfe_selector = RFE(estimator=LogisticRegression(random_state=0), n_features_to_select=100, step=0.3, verbose=False)\n",
    "rfe_selector.fit(X_norm, y)\n",
    "rfe_support = rfe_selector.get_support()\n",
    "rfe_feature = X.loc[:,rfe_support].columns.tolist()"
   ]
  },
  {
   "cell_type": "code",
   "execution_count": 43,
   "metadata": {
    "collapsed": true
   },
   "outputs": [],
   "source": [
    "embeded_rf_selector = SelectFromModel(RandomForestClassifier(n_estimators=100,random_state=0), threshold='23*median')\n",
    "embeded_rf_selector.fit(X, y)\n",
    "embeded_rf_support = embeded_rf_selector.get_support()\n",
    "embeded_rf_feature = X.loc[:,embeded_rf_support].columns.tolist()"
   ]
  },
  {
   "cell_type": "code",
   "execution_count": 44,
   "metadata": {
    "collapsed": true
   },
   "outputs": [],
   "source": [
    "feature_selection_df = pd.DataFrame({'Feature':feature_name, 'Pearson':cor_support, 'Chi-2':chi_support, 'RFE':rfe_support,\n",
    "                                    'Random Forest':embeded_rf_support})\n",
    "# count the selected times for each feature\n",
    "feature_selection_df['Total'] = np.sum(feature_selection_df, axis=1)\n",
    "# display the top 100\n",
    "feature_selection_df = feature_selection_df.sort_values(['Total','Feature'] , ascending=False)\n",
    "feature_selection_df.index = range(1, len(feature_selection_df)+1)"
   ]
  },
  {
   "cell_type": "code",
   "execution_count": 47,
   "metadata": {},
   "outputs": [
    {
     "name": "stdout",
     "output_type": "stream",
     "text": [
      "The train/test split ratio is 80:20\n"
     ]
    },
    {
     "data": {
      "text/plain": [
       "(40709, 7)"
      ]
     },
     "execution_count": 47,
     "metadata": {},
     "output_type": "execute_result"
    }
   ],
   "source": [
    "X=fs[feature_selection_df[feature_selection_df.Total>=3]['Feature']]\n",
    "X.fillna(value=0,inplace=True)\n",
    "y=fs.Target.values\n",
    "feature_name = X.columns.tolist()\n",
    "\n",
    "scaler=StandardScaler()\n",
    "scaled_X=scaler.fit_transform(X)\n",
    "\n",
    "print(\"The train/test split ratio is 80:20\")\n",
    "X_train, X_test, Y_train, Y_test = train_test_split(scaled_X,y,random_state=0,test_size=0.2)\n",
    "\n",
    "X.shape"
   ]
  },
  {
   "cell_type": "code",
   "execution_count": 48,
   "metadata": {},
   "outputs": [
    {
     "name": "stdout",
     "output_type": "stream",
     "text": [
      "Features we will be using:\n",
      "\n"
     ]
    },
    {
     "data": {
      "text/plain": [
       "['script_src_out_of_domain / script_src_relative',\n",
       " 'script_src_relative / script_count',\n",
       " 'script_src_https / script_src_relative',\n",
       " 'script_count + script_src_.js',\n",
       " 'script_async_true / script_count',\n",
       " 'link_href_absolute / link_count',\n",
       " 'a_href_https / a_count']"
      ]
     },
     "metadata": {},
     "output_type": "display_data"
    }
   ],
   "source": [
    "print('Features we will be using:\\n')\n",
    "display(feature_name)"
   ]
  },
  {
   "cell_type": "code",
   "execution_count": 49,
   "metadata": {
    "collapsed": true
   },
   "outputs": [],
   "source": [
    "fs=fs.reindex(df_sel.index.values)"
   ]
  },
  {
   "cell_type": "code",
   "execution_count": 50,
   "metadata": {
    "collapsed": true
   },
   "outputs": [],
   "source": [
    "train=fs.iloc[:32567]\n",
    "train_Y=train.Target.values\n",
    "train_X=train[feature_name].values\n",
    "\n",
    "\n",
    "scaler=StandardScaler()\n",
    "scaled_X_train=scaler.fit_transform(train_X)\n",
    "\n",
    "test=fs.iloc[32567:]\n",
    "test_Y=test.Target.values\n",
    "test_X=test[feature_name]\n",
    "\n",
    "scaled_X_test=scaler.transform(test_X)"
   ]
  },
  {
   "cell_type": "code",
   "execution_count": 51,
   "metadata": {
    "collapsed": true
   },
   "outputs": [],
   "source": [
    "## Table to store training and test measures so we can compare later\n",
    "table_80_60_train=pd.DataFrame(columns=['accuracy','TP','TN','FP','FN','FPR','FNR'])\n",
    "table_80_60_test=pd.DataFrame(columns=['accuracy','TP','TN','FP','FN','FPR','FNR','auc','mcc'])"
   ]
  },
  {
   "cell_type": "code",
   "execution_count": 52,
   "metadata": {
    "scrolled": false
   },
   "outputs": [
    {
     "name": "stdout",
     "output_type": "stream",
     "text": [
      "\u001b[1mK-Nearest Neighbors\u001b[0m\n",
      "Accuracy of the model for training data is: 0.881567230632\n",
      "Confusion Matrix for training data is:\n"
     ]
    },
    {
     "data": {
      "text/plain": [
       "Predicted  False  True  __all__\n",
       "Actual                         \n",
       "False      24394  3444    27838\n",
       "True         413  4316     4729\n",
       "__all__    24807  7760    32567"
      ]
     },
     "metadata": {},
     "output_type": "display_data"
    },
    {
     "name": "stdout",
     "output_type": "stream",
     "text": [
      "Accuracy of the model for test data is: 0.880741832474\n",
      "Confusion Matrix for test data is:\n"
     ]
    },
    {
     "data": {
      "text/plain": [
       "Predicted  False  True  __all__\n",
       "Actual                         \n",
       "False       6083   857     6940\n",
       "True         114  1088     1202\n",
       "__all__     6197  1945     8142"
      ]
     },
     "metadata": {},
     "output_type": "display_data"
    },
    {
     "name": "stdout",
     "output_type": "stream",
     "text": [
      "\n",
      "\n",
      "\u001b[1mLogistic Regression\u001b[0m\n",
      "Accuracy of the model for training data is: 0.868732152179\n",
      "Confusion Matrix for training data is:\n"
     ]
    },
    {
     "data": {
      "text/plain": [
       "Predicted  False  True  __all__\n",
       "Actual                         \n",
       "False      24333  3505    27838\n",
       "True         770  3959     4729\n",
       "__all__    25103  7464    32567"
      ]
     },
     "metadata": {},
     "output_type": "display_data"
    },
    {
     "name": "stdout",
     "output_type": "stream",
     "text": [
      "Accuracy of the model for test data is: 0.870547776959\n",
      "Confusion Matrix for test data is:\n"
     ]
    },
    {
     "data": {
      "text/plain": [
       "Predicted  False  True  __all__\n",
       "Actual                         \n",
       "False       6070   870     6940\n",
       "True         184  1018     1202\n",
       "__all__     6254  1888     8142"
      ]
     },
     "metadata": {},
     "output_type": "display_data"
    },
    {
     "name": "stdout",
     "output_type": "stream",
     "text": [
      "\n",
      "\n",
      "\u001b[1mRandomForest Classifier\u001b[0m\n",
      "Accuracy of the model for training data is: 0.888783124021\n",
      "Confusion Matrix for training data is:\n"
     ]
    },
    {
     "data": {
      "text/plain": [
       "Predicted  False  True  __all__\n",
       "Actual                         \n",
       "False      24403  3435    27838\n",
       "True         187  4542     4729\n",
       "__all__    24590  7977    32567"
      ]
     },
     "metadata": {},
     "output_type": "display_data"
    },
    {
     "name": "stdout",
     "output_type": "stream",
     "text": [
      "Accuracy of the model for test data is: 0.881724392041\n",
      "Confusion Matrix for test data is:\n"
     ]
    },
    {
     "data": {
      "text/plain": [
       "Predicted  False  True  __all__\n",
       "Actual                         \n",
       "False       6082   858     6940\n",
       "True         105  1097     1202\n",
       "__all__     6187  1955     8142"
      ]
     },
     "metadata": {},
     "output_type": "display_data"
    },
    {
     "data": {
      "application/vnd.plotly.v1+json": {
       "config": {
        "linkText": "Export to plot.ly",
        "plotlyServerURL": "https://plot.ly",
        "showLink": true
       },
       "data": [
        {
         "marker": {
          "color": "rgb(158,202,225)",
          "line": {
           "color": "rgb(8,48,107)",
           "width": 1.5
          }
         },
         "opacity": 0.6,
         "orientation": "h",
         "text": [
          0.2654,
          0.2211,
          0.2131,
          0.1576,
          0.0678,
          0.0448,
          0.0302
         ],
         "textposition": "outside",
         "type": "bar",
         "uid": "25c628a3-c914-4d18-9c03-df6cd71c7651",
         "x": [
          0.2653722587967041,
          0.22112509879175835,
          0.21313962868277841,
          0.1576056998227699,
          0.06776755125092147,
          0.04477825497756514,
          0.030211507677502452
         ],
         "y": [
          "script_src_relative / script_count",
          "script_count + script_src_.js",
          "script_async_true / script_count",
          "link_href_absolute / link_count",
          "a_href_https / a_count",
          "script_src_out_of_domain / script_src_relative",
          "script_src_https / script_src_relative"
         ]
        }
       ],
       "layout": {
        "autosize": false,
        "height": 1000,
        "width": 1000,
        "xaxis": {
         "tickfont": {
          "color": "black",
          "size": 12
         },
         "title": "Feature Importances"
        },
        "yaxis": {
         "automargin": true
        }
       }
      },
      "text/html": [
       "<div id=\"f69976e8-7636-42b1-b3b7-c8468af0df72\" style=\"height: 1000px; width: 1000px;\" class=\"plotly-graph-div\"></div><script type=\"text/javascript\">require([\"plotly\"], function(Plotly) { window.PLOTLYENV=window.PLOTLYENV || {};window.PLOTLYENV.BASE_URL=\"https://plot.ly\";Plotly.newPlot(\"f69976e8-7636-42b1-b3b7-c8468af0df72\", [{\"marker\": {\"color\": \"rgb(158,202,225)\", \"line\": {\"color\": \"rgb(8,48,107)\", \"width\": 1.5}}, \"opacity\": 0.6, \"orientation\": \"h\", \"text\": [0.2654, 0.2211, 0.2131, 0.1576, 0.0678, 0.0448, 0.0302], \"textposition\": \"outside\", \"x\": [0.2653722587967041, 0.22112509879175835, 0.21313962868277841, 0.1576056998227699, 0.06776755125092147, 0.04477825497756514, 0.030211507677502452], \"y\": [\"script_src_relative / script_count\", \"script_count + script_src_.js\", \"script_async_true / script_count\", \"link_href_absolute / link_count\", \"a_href_https / a_count\", \"script_src_out_of_domain / script_src_relative\", \"script_src_https / script_src_relative\"], \"type\": \"bar\", \"uid\": \"25c628a3-c914-4d18-9c03-df6cd71c7651\"}], {\"autosize\": false, \"height\": 1000, \"width\": 1000, \"xaxis\": {\"tickfont\": {\"color\": \"black\", \"size\": 12}, \"title\": \"Feature Importances\"}, \"yaxis\": {\"automargin\": true}}, {\"showLink\": true, \"linkText\": \"Export to plot.ly\", \"plotlyServerURL\": \"https://plot.ly\"})});</script>"
      ],
      "text/vnd.plotly.v1+html": [
       "<div id=\"f69976e8-7636-42b1-b3b7-c8468af0df72\" style=\"height: 1000px; width: 1000px;\" class=\"plotly-graph-div\"></div><script type=\"text/javascript\">require([\"plotly\"], function(Plotly) { window.PLOTLYENV=window.PLOTLYENV || {};window.PLOTLYENV.BASE_URL=\"https://plot.ly\";Plotly.newPlot(\"f69976e8-7636-42b1-b3b7-c8468af0df72\", [{\"marker\": {\"color\": \"rgb(158,202,225)\", \"line\": {\"color\": \"rgb(8,48,107)\", \"width\": 1.5}}, \"opacity\": 0.6, \"orientation\": \"h\", \"text\": [0.2654, 0.2211, 0.2131, 0.1576, 0.0678, 0.0448, 0.0302], \"textposition\": \"outside\", \"x\": [0.2653722587967041, 0.22112509879175835, 0.21313962868277841, 0.1576056998227699, 0.06776755125092147, 0.04477825497756514, 0.030211507677502452], \"y\": [\"script_src_relative / script_count\", \"script_count + script_src_.js\", \"script_async_true / script_count\", \"link_href_absolute / link_count\", \"a_href_https / a_count\", \"script_src_out_of_domain / script_src_relative\", \"script_src_https / script_src_relative\"], \"type\": \"bar\", \"uid\": \"25c628a3-c914-4d18-9c03-df6cd71c7651\"}], {\"autosize\": false, \"height\": 1000, \"width\": 1000, \"xaxis\": {\"tickfont\": {\"color\": \"black\", \"size\": 12}, \"title\": \"Feature Importances\"}, \"yaxis\": {\"automargin\": true}}, {\"showLink\": true, \"linkText\": \"Export to plot.ly\", \"plotlyServerURL\": \"https://plot.ly\"})});</script>"
      ]
     },
     "metadata": {},
     "output_type": "display_data"
    },
    {
     "name": "stdout",
     "output_type": "stream",
     "text": [
      "\n",
      "\n",
      "\u001b[1mAdaoost Classifier\u001b[0m\n",
      "Accuracy of the model for training data is: 0.874627690607\n",
      "Confusion Matrix for training data is:\n"
     ]
    },
    {
     "data": {
      "text/plain": [
       "Predicted  False  True  __all__\n",
       "Actual                         \n",
       "False      24367  3471    27838\n",
       "True         612  4117     4729\n",
       "__all__    24979  7588    32567"
      ]
     },
     "metadata": {},
     "output_type": "display_data"
    },
    {
     "name": "stdout",
     "output_type": "stream",
     "text": [
      "Accuracy of the model for test data is: 0.876320314419\n",
      "Confusion Matrix for test data is:\n"
     ]
    },
    {
     "data": {
      "text/plain": [
       "Predicted  False  True  __all__\n",
       "Actual                         \n",
       "False       6086   854     6940\n",
       "True         153  1049     1202\n",
       "__all__     6239  1903     8142"
      ]
     },
     "metadata": {},
     "output_type": "display_data"
    },
    {
     "data": {
      "application/vnd.plotly.v1+json": {
       "config": {
        "linkText": "Export to plot.ly",
        "plotlyServerURL": "https://plot.ly",
        "showLink": true
       },
       "data": [
        {
         "marker": {
          "color": "rgb(158,202,225)",
          "line": {
           "color": "rgb(8,48,107)",
           "width": 1.5
          }
         },
         "opacity": 0.6,
         "orientation": "h",
         "text": [
          0.22,
          0.2,
          0.18,
          0.16,
          0.12,
          0.08,
          0.04
         ],
         "textposition": "outside",
         "type": "bar",
         "uid": "33e82799-c7ea-48ff-a1dd-0336f38ef5f6",
         "x": [
          0.22,
          0.2,
          0.18,
          0.16,
          0.12,
          0.08,
          0.04
         ],
         "y": [
          "script_count + script_src_.js",
          "script_src_relative / script_count",
          "a_href_https / a_count",
          "script_src_out_of_domain / script_src_relative",
          "script_async_true / script_count",
          "script_src_https / script_src_relative",
          "link_href_absolute / link_count"
         ]
        }
       ],
       "layout": {
        "autosize": false,
        "height": 1000,
        "width": 1000,
        "xaxis": {
         "tickfont": {
          "color": "black",
          "size": 12
         },
         "title": "Feature Importances"
        },
        "yaxis": {
         "automargin": true
        }
       }
      },
      "text/html": [
       "<div id=\"03d7952b-9c8b-4731-8bba-7f92e1e6f392\" style=\"height: 1000px; width: 1000px;\" class=\"plotly-graph-div\"></div><script type=\"text/javascript\">require([\"plotly\"], function(Plotly) { window.PLOTLYENV=window.PLOTLYENV || {};window.PLOTLYENV.BASE_URL=\"https://plot.ly\";Plotly.newPlot(\"03d7952b-9c8b-4731-8bba-7f92e1e6f392\", [{\"marker\": {\"color\": \"rgb(158,202,225)\", \"line\": {\"color\": \"rgb(8,48,107)\", \"width\": 1.5}}, \"opacity\": 0.6, \"orientation\": \"h\", \"text\": [0.22, 0.2, 0.18, 0.16, 0.12, 0.08, 0.04], \"textposition\": \"outside\", \"x\": [0.22, 0.2, 0.18, 0.16, 0.12, 0.08, 0.04], \"y\": [\"script_count + script_src_.js\", \"script_src_relative / script_count\", \"a_href_https / a_count\", \"script_src_out_of_domain / script_src_relative\", \"script_async_true / script_count\", \"script_src_https / script_src_relative\", \"link_href_absolute / link_count\"], \"type\": \"bar\", \"uid\": \"33e82799-c7ea-48ff-a1dd-0336f38ef5f6\"}], {\"autosize\": false, \"height\": 1000, \"width\": 1000, \"xaxis\": {\"tickfont\": {\"color\": \"black\", \"size\": 12}, \"title\": \"Feature Importances\"}, \"yaxis\": {\"automargin\": true}}, {\"showLink\": true, \"linkText\": \"Export to plot.ly\", \"plotlyServerURL\": \"https://plot.ly\"})});</script>"
      ],
      "text/vnd.plotly.v1+html": [
       "<div id=\"03d7952b-9c8b-4731-8bba-7f92e1e6f392\" style=\"height: 1000px; width: 1000px;\" class=\"plotly-graph-div\"></div><script type=\"text/javascript\">require([\"plotly\"], function(Plotly) { window.PLOTLYENV=window.PLOTLYENV || {};window.PLOTLYENV.BASE_URL=\"https://plot.ly\";Plotly.newPlot(\"03d7952b-9c8b-4731-8bba-7f92e1e6f392\", [{\"marker\": {\"color\": \"rgb(158,202,225)\", \"line\": {\"color\": \"rgb(8,48,107)\", \"width\": 1.5}}, \"opacity\": 0.6, \"orientation\": \"h\", \"text\": [0.22, 0.2, 0.18, 0.16, 0.12, 0.08, 0.04], \"textposition\": \"outside\", \"x\": [0.22, 0.2, 0.18, 0.16, 0.12, 0.08, 0.04], \"y\": [\"script_count + script_src_.js\", \"script_src_relative / script_count\", \"a_href_https / a_count\", \"script_src_out_of_domain / script_src_relative\", \"script_async_true / script_count\", \"script_src_https / script_src_relative\", \"link_href_absolute / link_count\"], \"type\": \"bar\", \"uid\": \"33e82799-c7ea-48ff-a1dd-0336f38ef5f6\"}], {\"autosize\": false, \"height\": 1000, \"width\": 1000, \"xaxis\": {\"tickfont\": {\"color\": \"black\", \"size\": 12}, \"title\": \"Feature Importances\"}, \"yaxis\": {\"automargin\": true}}, {\"showLink\": true, \"linkText\": \"Export to plot.ly\", \"plotlyServerURL\": \"https://plot.ly\"})});</script>"
      ]
     },
     "metadata": {},
     "output_type": "display_data"
    },
    {
     "name": "stdout",
     "output_type": "stream",
     "text": [
      "\n",
      "\n",
      "\u001b[1mGradientBoosting Classifier\u001b[0m\n",
      "Accuracy of the model for training data is: 0.879755580803\n",
      "Confusion Matrix for training data is:\n"
     ]
    },
    {
     "data": {
      "text/plain": [
       "Predicted  False  True  __all__\n",
       "Actual                         \n",
       "False      24419  3419    27838\n",
       "True         497  4232     4729\n",
       "__all__    24916  7651    32567"
      ]
     },
     "metadata": {},
     "output_type": "display_data"
    },
    {
     "name": "stdout",
     "output_type": "stream",
     "text": [
      "Accuracy of the model for test data is: 0.880004912798\n",
      "Confusion Matrix for test data is:\n"
     ]
    },
    {
     "data": {
      "text/plain": [
       "Predicted  False  True  __all__\n",
       "Actual                         \n",
       "False       6094   846     6940\n",
       "True         131  1071     1202\n",
       "__all__     6225  1917     8142"
      ]
     },
     "metadata": {},
     "output_type": "display_data"
    },
    {
     "data": {
      "application/vnd.plotly.v1+json": {
       "config": {
        "linkText": "Export to plot.ly",
        "plotlyServerURL": "https://plot.ly",
        "showLink": true
       },
       "data": [
        {
         "marker": {
          "color": "rgb(158,202,225)",
          "line": {
           "color": "rgb(8,48,107)",
           "width": 1.5
          }
         },
         "opacity": 0.6,
         "orientation": "h",
         "text": [
          0.7902,
          0.0778,
          0.0401,
          0.0305,
          0.0303,
          0.0156,
          0.0154
         ],
         "textposition": "outside",
         "type": "bar",
         "uid": "30628eec-2a0b-4a44-ab9b-24899d5476f9",
         "x": [
          0.7902271380542774,
          0.07778671207813691,
          0.040145771591519205,
          0.030467686764682946,
          0.03033600725466777,
          0.0156406694912839,
          0.015396014765431738
         ],
         "y": [
          "script_count + script_src_.js",
          "link_href_absolute / link_count",
          "a_href_https / a_count",
          "script_src_relative / script_count",
          "script_src_out_of_domain / script_src_relative",
          "script_src_https / script_src_relative",
          "script_async_true / script_count"
         ]
        }
       ],
       "layout": {
        "autosize": false,
        "height": 1000,
        "width": 1000,
        "xaxis": {
         "tickfont": {
          "color": "black",
          "size": 12
         },
         "title": "Feature Importances"
        },
        "yaxis": {
         "automargin": true
        }
       }
      },
      "text/html": [
       "<div id=\"988e380f-d2ef-480f-8ad5-b6f2e0ce9d11\" style=\"height: 1000px; width: 1000px;\" class=\"plotly-graph-div\"></div><script type=\"text/javascript\">require([\"plotly\"], function(Plotly) { window.PLOTLYENV=window.PLOTLYENV || {};window.PLOTLYENV.BASE_URL=\"https://plot.ly\";Plotly.newPlot(\"988e380f-d2ef-480f-8ad5-b6f2e0ce9d11\", [{\"marker\": {\"color\": \"rgb(158,202,225)\", \"line\": {\"color\": \"rgb(8,48,107)\", \"width\": 1.5}}, \"opacity\": 0.6, \"orientation\": \"h\", \"text\": [0.7902, 0.0778, 0.0401, 0.0305, 0.0303, 0.0156, 0.0154], \"textposition\": \"outside\", \"x\": [0.7902271380542774, 0.07778671207813691, 0.040145771591519205, 0.030467686764682946, 0.03033600725466777, 0.0156406694912839, 0.015396014765431738], \"y\": [\"script_count + script_src_.js\", \"link_href_absolute / link_count\", \"a_href_https / a_count\", \"script_src_relative / script_count\", \"script_src_out_of_domain / script_src_relative\", \"script_src_https / script_src_relative\", \"script_async_true / script_count\"], \"type\": \"bar\", \"uid\": \"30628eec-2a0b-4a44-ab9b-24899d5476f9\"}], {\"autosize\": false, \"height\": 1000, \"width\": 1000, \"xaxis\": {\"tickfont\": {\"color\": \"black\", \"size\": 12}, \"title\": \"Feature Importances\"}, \"yaxis\": {\"automargin\": true}}, {\"showLink\": true, \"linkText\": \"Export to plot.ly\", \"plotlyServerURL\": \"https://plot.ly\"})});</script>"
      ],
      "text/vnd.plotly.v1+html": [
       "<div id=\"988e380f-d2ef-480f-8ad5-b6f2e0ce9d11\" style=\"height: 1000px; width: 1000px;\" class=\"plotly-graph-div\"></div><script type=\"text/javascript\">require([\"plotly\"], function(Plotly) { window.PLOTLYENV=window.PLOTLYENV || {};window.PLOTLYENV.BASE_URL=\"https://plot.ly\";Plotly.newPlot(\"988e380f-d2ef-480f-8ad5-b6f2e0ce9d11\", [{\"marker\": {\"color\": \"rgb(158,202,225)\", \"line\": {\"color\": \"rgb(8,48,107)\", \"width\": 1.5}}, \"opacity\": 0.6, \"orientation\": \"h\", \"text\": [0.7902, 0.0778, 0.0401, 0.0305, 0.0303, 0.0156, 0.0154], \"textposition\": \"outside\", \"x\": [0.7902271380542774, 0.07778671207813691, 0.040145771591519205, 0.030467686764682946, 0.03033600725466777, 0.0156406694912839, 0.015396014765431738], \"y\": [\"script_count + script_src_.js\", \"link_href_absolute / link_count\", \"a_href_https / a_count\", \"script_src_relative / script_count\", \"script_src_out_of_domain / script_src_relative\", \"script_src_https / script_src_relative\", \"script_async_true / script_count\"], \"type\": \"bar\", \"uid\": \"30628eec-2a0b-4a44-ab9b-24899d5476f9\"}], {\"autosize\": false, \"height\": 1000, \"width\": 1000, \"xaxis\": {\"tickfont\": {\"color\": \"black\", \"size\": 12}, \"title\": \"Feature Importances\"}, \"yaxis\": {\"automargin\": true}}, {\"showLink\": true, \"linkText\": \"Export to plot.ly\", \"plotlyServerURL\": \"https://plot.ly\"})});</script>"
      ]
     },
     "metadata": {},
     "output_type": "display_data"
    },
    {
     "name": "stdout",
     "output_type": "stream",
     "text": [
      "\n",
      "\n",
      "\u001b[1mExtraTree Classifier\u001b[0m\n",
      "Accuracy of the model for training data is: 0.890809715356\n",
      "Confusion Matrix for training data is:\n"
     ]
    },
    {
     "data": {
      "text/plain": [
       "Predicted  False  True  __all__\n",
       "Actual                         \n",
       "False      24410  3428    27838\n",
       "True         128  4601     4729\n",
       "__all__    24538  8029    32567"
      ]
     },
     "metadata": {},
     "output_type": "display_data"
    },
    {
     "name": "stdout",
     "output_type": "stream",
     "text": [
      "Accuracy of the model for test data is: 0.882461311717\n",
      "Confusion Matrix for test data is:\n"
     ]
    },
    {
     "data": {
      "text/plain": [
       "Predicted  False  True  __all__\n",
       "Actual                         \n",
       "False       6085   855     6940\n",
       "True         102  1100     1202\n",
       "__all__     6187  1955     8142"
      ]
     },
     "metadata": {},
     "output_type": "display_data"
    },
    {
     "data": {
      "application/vnd.plotly.v1+json": {
       "config": {
        "linkText": "Export to plot.ly",
        "plotlyServerURL": "https://plot.ly",
        "showLink": true
       },
       "data": [
        {
         "marker": {
          "color": "rgb(158,202,225)",
          "line": {
           "color": "rgb(8,48,107)",
           "width": 1.5
          }
         },
         "opacity": 0.6,
         "orientation": "h",
         "text": [
          0.3176,
          0.1854,
          0.1681,
          0.1463,
          0.0638,
          0.0632,
          0.0555
         ],
         "textposition": "outside",
         "type": "bar",
         "uid": "65811372-61f9-489a-98c9-b8386f522543",
         "x": [
          0.3176222932156686,
          0.18543996924478706,
          0.16811384020506437,
          0.1463168319095872,
          0.06378712966179549,
          0.06322511963607554,
          0.05549481612702188
         ],
         "y": [
          "link_href_absolute / link_count",
          "script_src_https / script_src_relative",
          "script_src_relative / script_count",
          "a_href_https / a_count",
          "script_count + script_src_.js",
          "script_src_out_of_domain / script_src_relative",
          "script_async_true / script_count"
         ]
        }
       ],
       "layout": {
        "autosize": false,
        "height": 1000,
        "width": 1000,
        "xaxis": {
         "tickfont": {
          "color": "black",
          "size": 12
         },
         "title": "Feature Importances"
        },
        "yaxis": {
         "automargin": true
        }
       }
      },
      "text/html": [
       "<div id=\"ed07fbf9-a37c-4dd6-8851-6e5ff4982d3b\" style=\"height: 1000px; width: 1000px;\" class=\"plotly-graph-div\"></div><script type=\"text/javascript\">require([\"plotly\"], function(Plotly) { window.PLOTLYENV=window.PLOTLYENV || {};window.PLOTLYENV.BASE_URL=\"https://plot.ly\";Plotly.newPlot(\"ed07fbf9-a37c-4dd6-8851-6e5ff4982d3b\", [{\"marker\": {\"color\": \"rgb(158,202,225)\", \"line\": {\"color\": \"rgb(8,48,107)\", \"width\": 1.5}}, \"opacity\": 0.6, \"orientation\": \"h\", \"text\": [0.3176, 0.1854, 0.1681, 0.1463, 0.0638, 0.0632, 0.0555], \"textposition\": \"outside\", \"x\": [0.3176222932156686, 0.18543996924478706, 0.16811384020506437, 0.1463168319095872, 0.06378712966179549, 0.06322511963607554, 0.05549481612702188], \"y\": [\"link_href_absolute / link_count\", \"script_src_https / script_src_relative\", \"script_src_relative / script_count\", \"a_href_https / a_count\", \"script_count + script_src_.js\", \"script_src_out_of_domain / script_src_relative\", \"script_async_true / script_count\"], \"type\": \"bar\", \"uid\": \"65811372-61f9-489a-98c9-b8386f522543\"}], {\"autosize\": false, \"height\": 1000, \"width\": 1000, \"xaxis\": {\"tickfont\": {\"color\": \"black\", \"size\": 12}, \"title\": \"Feature Importances\"}, \"yaxis\": {\"automargin\": true}}, {\"showLink\": true, \"linkText\": \"Export to plot.ly\", \"plotlyServerURL\": \"https://plot.ly\"})});</script>"
      ],
      "text/vnd.plotly.v1+html": [
       "<div id=\"ed07fbf9-a37c-4dd6-8851-6e5ff4982d3b\" style=\"height: 1000px; width: 1000px;\" class=\"plotly-graph-div\"></div><script type=\"text/javascript\">require([\"plotly\"], function(Plotly) { window.PLOTLYENV=window.PLOTLYENV || {};window.PLOTLYENV.BASE_URL=\"https://plot.ly\";Plotly.newPlot(\"ed07fbf9-a37c-4dd6-8851-6e5ff4982d3b\", [{\"marker\": {\"color\": \"rgb(158,202,225)\", \"line\": {\"color\": \"rgb(8,48,107)\", \"width\": 1.5}}, \"opacity\": 0.6, \"orientation\": \"h\", \"text\": [0.3176, 0.1854, 0.1681, 0.1463, 0.0638, 0.0632, 0.0555], \"textposition\": \"outside\", \"x\": [0.3176222932156686, 0.18543996924478706, 0.16811384020506437, 0.1463168319095872, 0.06378712966179549, 0.06322511963607554, 0.05549481612702188], \"y\": [\"link_href_absolute / link_count\", \"script_src_https / script_src_relative\", \"script_src_relative / script_count\", \"a_href_https / a_count\", \"script_count + script_src_.js\", \"script_src_out_of_domain / script_src_relative\", \"script_async_true / script_count\"], \"type\": \"bar\", \"uid\": \"65811372-61f9-489a-98c9-b8386f522543\"}], {\"autosize\": false, \"height\": 1000, \"width\": 1000, \"xaxis\": {\"tickfont\": {\"color\": \"black\", \"size\": 12}, \"title\": \"Feature Importances\"}, \"yaxis\": {\"automargin\": true}}, {\"showLink\": true, \"linkText\": \"Export to plot.ly\", \"plotlyServerURL\": \"https://plot.ly\"})});</script>"
      ]
     },
     "metadata": {},
     "output_type": "display_data"
    },
    {
     "name": "stdout",
     "output_type": "stream",
     "text": [
      "\n",
      "\n",
      "\u001b[1mBagging Classifier\u001b[0m\n",
      "Accuracy of the model for training data is: 0.888752418092\n",
      "Confusion Matrix for training data is:\n"
     ]
    },
    {
     "data": {
      "text/plain": [
       "Predicted  False  True  __all__\n",
       "Actual                         \n",
       "False      24400  3438    27838\n",
       "True         185  4544     4729\n",
       "__all__    24585  7982    32567"
      ]
     },
     "metadata": {},
     "output_type": "display_data"
    },
    {
     "name": "stdout",
     "output_type": "stream",
     "text": [
      "Accuracy of the model for test data is: 0.881847211987\n",
      "Confusion Matrix for test data is:\n"
     ]
    },
    {
     "data": {
      "text/plain": [
       "Predicted  False  True  __all__\n",
       "Actual                         \n",
       "False       6080   860     6940\n",
       "True         102  1100     1202\n",
       "__all__     6182  1960     8142"
      ]
     },
     "metadata": {},
     "output_type": "display_data"
    },
    {
     "name": "stdout",
     "output_type": "stream",
     "text": [
      "\n",
      "\n",
      "\u001b[1mNeural Network-1\u001b[0m\n",
      "The accuracy of the model on training data is: 0.878772991081\n"
     ]
    },
    {
     "data": {
      "text/plain": [
       "Predicted  False  True  __all__\n",
       "Actual                         \n",
       "False      24366  3472    27838\n",
       "True         476  4253     4729\n",
       "__all__    24842  7725    32567"
      ]
     },
     "metadata": {},
     "output_type": "display_data"
    },
    {
     "name": "stdout",
     "output_type": "stream",
     "text": [
      "The accuracy of the model on test data is: 0.878285433554\n"
     ]
    },
    {
     "data": {
      "text/plain": [
       "Predicted  False  True  __all__\n",
       "Actual                         \n",
       "False       6077   863     6940\n",
       "True         128  1074     1202\n",
       "__all__     6205  1937     8142"
      ]
     },
     "metadata": {},
     "output_type": "display_data"
    },
    {
     "name": "stdout",
     "output_type": "stream",
     "text": [
      "\n",
      "\n"
     ]
    }
   ],
   "source": [
    "feat_imp=[None]*4\n",
    "j=0\n",
    "for i in range(0,8):\n",
    "    if i>=2 and i<=5:\n",
    "        model,cm_train,cm_test,acc_train,acc_test,roc_auc,feat_imp[j],mcc=f[i](scaled_X_train,train_Y,scaled_X_test,test_Y,feature_name)\n",
    "        j=j+1\n",
    "    else:\n",
    "        model,cm_train,cm_test,acc_train,acc_test,roc_auc,mcc=f[i](scaled_X_train,train_Y,scaled_X_test,test_Y)\n",
    "    table_80_60_train.loc[i]=   ([acc_train,cm_train.TP,cm_train.TN,cm_train.FP,cm_train.FN,cm_train.FPR,cm_train.FNR])\n",
    "    table_80_60_test.loc[i] =   ([acc_test ,cm_test.TP, cm_test.TN, cm_test.FP, cm_test.FN, cm_test.FPR, cm_test.FNR,roc_auc,mcc])\n",
    "    print(\"\\n\")"
   ]
  },
  {
   "cell_type": "markdown",
   "metadata": {},
   "source": [
    "### <a id='4.A' style=\"text-decoration : none; color : #000000;\"> A. Results</a>"
   ]
  },
  {
   "cell_type": "code",
   "execution_count": 53,
   "metadata": {},
   "outputs": [
    {
     "data": {
      "application/vnd.plotly.v1+json": {
       "config": {
        "linkText": "Export to plot.ly",
        "plotlyServerURL": "https://plot.ly",
        "showLink": true
       },
       "data": [
        {
         "mode": "lines",
         "name": "KNN_model",
         "type": "scatter",
         "uid": "acf52aff-7d3f-4dc3-8cc1-0fa0c9826c93",
         "x": [
          "accuracy",
          "FPR",
          "FNR",
          "auc"
         ],
         "y": [
          0.8807418324735937,
          0.12348703170028819,
          0.09484193011647254,
          0.8908355190916196
         ]
        },
        {
         "mode": "lines+markers",
         "name": "Logistic Regression",
         "type": "scatter",
         "uid": "ee979bdf-c803-486b-a492-565af0121dd5",
         "x": [
          "accuracy",
          "FPR",
          "FNR",
          "auc"
         ],
         "y": [
          0.8705477769589781,
          0.12536023054755044,
          0.15307820299500832,
          0.8607807832287208
         ]
        },
        {
         "marker": {
          "symbol": "x"
         },
         "mode": "lines+markers",
         "name": "Random Forest",
         "type": "scatter",
         "uid": "52484a1e-2972-457d-af7b-dab8104966d2",
         "x": [
          "accuracy",
          "FPR",
          "FNR",
          "auc"
         ],
         "y": [
          0.8817243920412675,
          0.12363112391930836,
          0.08735440931780367,
          0.8945072333814439
         ]
        },
        {
         "mode": "lines",
         "name": "Ada Boost",
         "type": "scatter",
         "uid": "259f3c54-dc4a-4b9a-b08b-0e04a4f4eefe",
         "x": [
          "accuracy",
          "FPR",
          "FNR",
          "auc"
         ],
         "y": [
          0.8763203144190617,
          0.12305475504322766,
          0.12728785357737105,
          0.8748286956897006
         ]
        },
        {
         "mode": "lines+markers",
         "name": "GradientBoosting",
         "type": "scatter",
         "uid": "1dedc368-09bc-4076-90ac-524d0e894c2d",
         "x": [
          "accuracy",
          "FPR",
          "FNR",
          "auc"
         ],
         "y": [
          0.8800049127978383,
          0.12190201729106628,
          0.10898502495840266,
          0.8845564788752656
         ]
        },
        {
         "marker": {
          "symbol": "x"
         },
         "mode": "lines+markers",
         "name": "ExtraTree Classifier",
         "type": "scatter",
         "uid": "77643e40-0e23-4d00-8a76-4b6ed042b283",
         "x": [
          "accuracy",
          "FPR",
          "FNR",
          "auc"
         ],
         "y": [
          0.8824613117170228,
          0.12319884726224783,
          0.08485856905158069,
          0.8959712918430858
         ]
        },
        {
         "marker": {
          "symbol": "x"
         },
         "mode": "lines+markers",
         "name": "Bagging",
         "type": "scatter",
         "uid": "0dd151d7-b626-4ff7-ab28-7efa2919fc61",
         "x": [
          "accuracy",
          "FPR",
          "FNR",
          "auc"
         ],
         "y": [
          0.8818472119872267,
          0.1239193083573487,
          0.08485856905158069,
          0.8956110612955355
         ]
        },
        {
         "marker": {
          "symbol": "x"
         },
         "mode": "lines+markers",
         "name": "Neural Network",
         "type": "scatter",
         "uid": "8acecd01-216b-4eef-8bcc-f9095da7733a",
         "x": [
          "accuracy",
          "FPR",
          "FNR",
          "auc"
         ],
         "y": [
          0.8782854335544092,
          0.12435158501440922,
          0.1064891846921797,
          0.8956110612955355
         ]
        }
       ],
       "layout": {
        "title": "Result comparision for Features selected in Section 1",
        "yaxis": {
         "dtick": 0.05,
         "tick0": 0
        }
       }
      },
      "text/html": [
       "<div id=\"51525185-f143-4eea-b881-dd5b839577ed\" style=\"height: 525px; width: 100%;\" class=\"plotly-graph-div\"></div><script type=\"text/javascript\">require([\"plotly\"], function(Plotly) { window.PLOTLYENV=window.PLOTLYENV || {};window.PLOTLYENV.BASE_URL=\"https://plot.ly\";Plotly.newPlot(\"51525185-f143-4eea-b881-dd5b839577ed\", [{\"mode\": \"lines\", \"name\": \"KNN_model\", \"x\": [\"accuracy\", \"FPR\", \"FNR\", \"auc\"], \"y\": [0.8807418324735937, 0.12348703170028819, 0.09484193011647254, 0.8908355190916196], \"type\": \"scatter\", \"uid\": \"acf52aff-7d3f-4dc3-8cc1-0fa0c9826c93\"}, {\"mode\": \"lines+markers\", \"name\": \"Logistic Regression\", \"x\": [\"accuracy\", \"FPR\", \"FNR\", \"auc\"], \"y\": [0.8705477769589781, 0.12536023054755044, 0.15307820299500832, 0.8607807832287208], \"type\": \"scatter\", \"uid\": \"ee979bdf-c803-486b-a492-565af0121dd5\"}, {\"marker\": {\"symbol\": \"x\"}, \"mode\": \"lines+markers\", \"name\": \"Random Forest\", \"x\": [\"accuracy\", \"FPR\", \"FNR\", \"auc\"], \"y\": [0.8817243920412675, 0.12363112391930836, 0.08735440931780367, 0.8945072333814439], \"type\": \"scatter\", \"uid\": \"52484a1e-2972-457d-af7b-dab8104966d2\"}, {\"mode\": \"lines\", \"name\": \"Ada Boost\", \"x\": [\"accuracy\", \"FPR\", \"FNR\", \"auc\"], \"y\": [0.8763203144190617, 0.12305475504322766, 0.12728785357737105, 0.8748286956897006], \"type\": \"scatter\", \"uid\": \"259f3c54-dc4a-4b9a-b08b-0e04a4f4eefe\"}, {\"mode\": \"lines+markers\", \"name\": \"GradientBoosting\", \"x\": [\"accuracy\", \"FPR\", \"FNR\", \"auc\"], \"y\": [0.8800049127978383, 0.12190201729106628, 0.10898502495840266, 0.8845564788752656], \"type\": \"scatter\", \"uid\": \"1dedc368-09bc-4076-90ac-524d0e894c2d\"}, {\"marker\": {\"symbol\": \"x\"}, \"mode\": \"lines+markers\", \"name\": \"ExtraTree Classifier\", \"x\": [\"accuracy\", \"FPR\", \"FNR\", \"auc\"], \"y\": [0.8824613117170228, 0.12319884726224783, 0.08485856905158069, 0.8959712918430858], \"type\": \"scatter\", \"uid\": \"77643e40-0e23-4d00-8a76-4b6ed042b283\"}, {\"marker\": {\"symbol\": \"x\"}, \"mode\": \"lines+markers\", \"name\": \"Bagging\", \"x\": [\"accuracy\", \"FPR\", \"FNR\", \"auc\"], \"y\": [0.8818472119872267, 0.1239193083573487, 0.08485856905158069, 0.8956110612955355], \"type\": \"scatter\", \"uid\": \"0dd151d7-b626-4ff7-ab28-7efa2919fc61\"}, {\"marker\": {\"symbol\": \"x\"}, \"mode\": \"lines+markers\", \"name\": \"Neural Network\", \"x\": [\"accuracy\", \"FPR\", \"FNR\", \"auc\"], \"y\": [0.8782854335544092, 0.12435158501440922, 0.1064891846921797, 0.8956110612955355], \"type\": \"scatter\", \"uid\": \"8acecd01-216b-4eef-8bcc-f9095da7733a\"}], {\"title\": \"Result comparision for Features selected in Section 1\", \"yaxis\": {\"dtick\": 0.05, \"tick0\": 0}}, {\"showLink\": true, \"linkText\": \"Export to plot.ly\", \"plotlyServerURL\": \"https://plot.ly\"})});</script><script type=\"text/javascript\">window.addEventListener(\"resize\", function(){window._Plotly.Plots.resize(document.getElementById(\"51525185-f143-4eea-b881-dd5b839577ed\"));});</script>"
      ],
      "text/vnd.plotly.v1+html": [
       "<div id=\"51525185-f143-4eea-b881-dd5b839577ed\" style=\"height: 525px; width: 100%;\" class=\"plotly-graph-div\"></div><script type=\"text/javascript\">require([\"plotly\"], function(Plotly) { window.PLOTLYENV=window.PLOTLYENV || {};window.PLOTLYENV.BASE_URL=\"https://plot.ly\";Plotly.newPlot(\"51525185-f143-4eea-b881-dd5b839577ed\", [{\"mode\": \"lines\", \"name\": \"KNN_model\", \"x\": [\"accuracy\", \"FPR\", \"FNR\", \"auc\"], \"y\": [0.8807418324735937, 0.12348703170028819, 0.09484193011647254, 0.8908355190916196], \"type\": \"scatter\", \"uid\": \"acf52aff-7d3f-4dc3-8cc1-0fa0c9826c93\"}, {\"mode\": \"lines+markers\", \"name\": \"Logistic Regression\", \"x\": [\"accuracy\", \"FPR\", \"FNR\", \"auc\"], \"y\": [0.8705477769589781, 0.12536023054755044, 0.15307820299500832, 0.8607807832287208], \"type\": \"scatter\", \"uid\": \"ee979bdf-c803-486b-a492-565af0121dd5\"}, {\"marker\": {\"symbol\": \"x\"}, \"mode\": \"lines+markers\", \"name\": \"Random Forest\", \"x\": [\"accuracy\", \"FPR\", \"FNR\", \"auc\"], \"y\": [0.8817243920412675, 0.12363112391930836, 0.08735440931780367, 0.8945072333814439], \"type\": \"scatter\", \"uid\": \"52484a1e-2972-457d-af7b-dab8104966d2\"}, {\"mode\": \"lines\", \"name\": \"Ada Boost\", \"x\": [\"accuracy\", \"FPR\", \"FNR\", \"auc\"], \"y\": [0.8763203144190617, 0.12305475504322766, 0.12728785357737105, 0.8748286956897006], \"type\": \"scatter\", \"uid\": \"259f3c54-dc4a-4b9a-b08b-0e04a4f4eefe\"}, {\"mode\": \"lines+markers\", \"name\": \"GradientBoosting\", \"x\": [\"accuracy\", \"FPR\", \"FNR\", \"auc\"], \"y\": [0.8800049127978383, 0.12190201729106628, 0.10898502495840266, 0.8845564788752656], \"type\": \"scatter\", \"uid\": \"1dedc368-09bc-4076-90ac-524d0e894c2d\"}, {\"marker\": {\"symbol\": \"x\"}, \"mode\": \"lines+markers\", \"name\": \"ExtraTree Classifier\", \"x\": [\"accuracy\", \"FPR\", \"FNR\", \"auc\"], \"y\": [0.8824613117170228, 0.12319884726224783, 0.08485856905158069, 0.8959712918430858], \"type\": \"scatter\", \"uid\": \"77643e40-0e23-4d00-8a76-4b6ed042b283\"}, {\"marker\": {\"symbol\": \"x\"}, \"mode\": \"lines+markers\", \"name\": \"Bagging\", \"x\": [\"accuracy\", \"FPR\", \"FNR\", \"auc\"], \"y\": [0.8818472119872267, 0.1239193083573487, 0.08485856905158069, 0.8956110612955355], \"type\": \"scatter\", \"uid\": \"0dd151d7-b626-4ff7-ab28-7efa2919fc61\"}, {\"marker\": {\"symbol\": \"x\"}, \"mode\": \"lines+markers\", \"name\": \"Neural Network\", \"x\": [\"accuracy\", \"FPR\", \"FNR\", \"auc\"], \"y\": [0.8782854335544092, 0.12435158501440922, 0.1064891846921797, 0.8956110612955355], \"type\": \"scatter\", \"uid\": \"8acecd01-216b-4eef-8bcc-f9095da7733a\"}], {\"title\": \"Result comparision for Features selected in Section 1\", \"yaxis\": {\"dtick\": 0.05, \"tick0\": 0}}, {\"showLink\": true, \"linkText\": \"Export to plot.ly\", \"plotlyServerURL\": \"https://plot.ly\"})});</script><script type=\"text/javascript\">window.addEventListener(\"resize\", function(){window._Plotly.Plots.resize(document.getElementById(\"51525185-f143-4eea-b881-dd5b839577ed\"));});</script>"
      ]
     },
     "metadata": {},
     "output_type": "display_data"
    }
   ],
   "source": [
    "trace0 = go.Scatter(x=table_80_60_test.iloc[0].index.values[[0,5,6,7]],\n",
    "                    y=table_80_60_test.iloc[0].values[[0,5,6,7]],\n",
    "                    mode = 'lines',\n",
    "                    name = 'KNN_model')\n",
    "\n",
    "trace1 = go.Scatter(x=table_80_60_test.iloc[1].index.values[[0,5,6,7]],\n",
    "                    y=table_80_60_test.iloc[1].values[[0,5,6,7]],\n",
    "                    mode = 'lines+markers',\n",
    "                    name = 'Logistic Regression')\n",
    "\n",
    "trace2 = go.Scatter(x=table_80_60_test.iloc[2].index.values[[0,5,6,7]],\n",
    "                    y=table_80_60_test.iloc[2].values[[0,5,6,7]],\n",
    "                    mode = 'lines+markers',marker=dict(symbol='x'),\n",
    "                    name = 'Random Forest')\n",
    "\n",
    "\n",
    "trace3 = go.Scatter(x=table_80_60_test.iloc[3].index.values[[0,5,6,7]],\n",
    "                    y=table_80_60_test.iloc[3].values[[0,5,6,7]],\n",
    "                    mode = 'lines',\n",
    "                    name = 'Ada Boost')\n",
    "\n",
    "trace4 = go.Scatter(x=table_80_60_test.iloc[4].index.values[[0,5,6,7]],\n",
    "                    y=table_80_60_test.iloc[4].values[[0,5,6,7]],\n",
    "                    mode = 'lines+markers',\n",
    "                    name = 'GradientBoosting')\n",
    "\n",
    "trace5 = go.Scatter(x=table_80_60_test.iloc[5].index.values[[0,5,6,7]],\n",
    "                    y=table_80_60_test.iloc[5].values[[0,5,6,7]],\n",
    "                    mode = 'lines+markers',marker=dict(symbol='x'),\n",
    "                    name = 'ExtraTree Classifier')\n",
    "\n",
    "trace6 = go.Scatter(x=table_80_60_test.iloc[6].index.values[[0,5,6,7]],\n",
    "                    y=table_80_60_test.iloc[6].values[[0,5,6,7]],\n",
    "                    mode = 'lines+markers',marker=dict(symbol='x'),\n",
    "                    name = 'Bagging')\n",
    "\n",
    "trace7 = go.Scatter(x=table_80_60_test.iloc[7].index.values[[0,5,6,7]],\n",
    "                    y=table_80_60_test.iloc[7].values[[0,5,6,7]],\n",
    "                    mode = 'lines+markers',marker=dict(symbol='x'),\n",
    "                    name = 'Neural Network')\n",
    "\n",
    "\n",
    "\n",
    "data = [trace0, trace1, trace2, trace3, trace4, trace5, trace6, trace7]\n",
    "layout = go.Layout(yaxis=dict(tick0=0,dtick=0.05),title='Result comparision for Features selected in Section 1')\n",
    "fig = go.Figure(data=data, layout=layout)\n",
    "\n",
    "iplot(fig, filename='Result')"
   ]
  },
  {
   "cell_type": "code",
   "execution_count": 54,
   "metadata": {},
   "outputs": [
    {
     "name": "stdout",
     "output_type": "stream",
     "text": [
      "Training Results\n"
     ]
    },
    {
     "data": {
      "text/html": [
       "<div>\n",
       "<style scoped>\n",
       "    .dataframe tbody tr th:only-of-type {\n",
       "        vertical-align: middle;\n",
       "    }\n",
       "\n",
       "    .dataframe tbody tr th {\n",
       "        vertical-align: top;\n",
       "    }\n",
       "\n",
       "    .dataframe thead th {\n",
       "        text-align: right;\n",
       "    }\n",
       "</style>\n",
       "<table border=\"1\" class=\"dataframe\">\n",
       "  <thead>\n",
       "    <tr style=\"text-align: right;\">\n",
       "      <th></th>\n",
       "      <th>accuracy</th>\n",
       "      <th>TP</th>\n",
       "      <th>TN</th>\n",
       "      <th>FP</th>\n",
       "      <th>FN</th>\n",
       "      <th>FPR</th>\n",
       "      <th>FNR</th>\n",
       "    </tr>\n",
       "    <tr>\n",
       "      <th>index</th>\n",
       "      <th></th>\n",
       "      <th></th>\n",
       "      <th></th>\n",
       "      <th></th>\n",
       "      <th></th>\n",
       "      <th></th>\n",
       "      <th></th>\n",
       "    </tr>\n",
       "  </thead>\n",
       "  <tbody>\n",
       "    <tr>\n",
       "      <th>KNeighborsClassifier</th>\n",
       "      <td>0.881567</td>\n",
       "      <td>4316.0</td>\n",
       "      <td>24394.0</td>\n",
       "      <td>3444.0</td>\n",
       "      <td>413.0</td>\n",
       "      <td>0.123716</td>\n",
       "      <td>0.087333</td>\n",
       "    </tr>\n",
       "    <tr>\n",
       "      <th>LogisticRegression</th>\n",
       "      <td>0.868732</td>\n",
       "      <td>3959.0</td>\n",
       "      <td>24333.0</td>\n",
       "      <td>3505.0</td>\n",
       "      <td>770.0</td>\n",
       "      <td>0.125907</td>\n",
       "      <td>0.162825</td>\n",
       "    </tr>\n",
       "    <tr>\n",
       "      <th>RandomForestClassifier</th>\n",
       "      <td>0.888783</td>\n",
       "      <td>4542.0</td>\n",
       "      <td>24403.0</td>\n",
       "      <td>3435.0</td>\n",
       "      <td>187.0</td>\n",
       "      <td>0.123392</td>\n",
       "      <td>0.039543</td>\n",
       "    </tr>\n",
       "    <tr>\n",
       "      <th>AdaBoostClassifier</th>\n",
       "      <td>0.874628</td>\n",
       "      <td>4117.0</td>\n",
       "      <td>24367.0</td>\n",
       "      <td>3471.0</td>\n",
       "      <td>612.0</td>\n",
       "      <td>0.124686</td>\n",
       "      <td>0.129414</td>\n",
       "    </tr>\n",
       "    <tr>\n",
       "      <th>GradientBoostingClassifier</th>\n",
       "      <td>0.879756</td>\n",
       "      <td>4232.0</td>\n",
       "      <td>24419.0</td>\n",
       "      <td>3419.0</td>\n",
       "      <td>497.0</td>\n",
       "      <td>0.122818</td>\n",
       "      <td>0.105096</td>\n",
       "    </tr>\n",
       "    <tr>\n",
       "      <th>ExtraTreeClassifier</th>\n",
       "      <td>0.890810</td>\n",
       "      <td>4601.0</td>\n",
       "      <td>24410.0</td>\n",
       "      <td>3428.0</td>\n",
       "      <td>128.0</td>\n",
       "      <td>0.123141</td>\n",
       "      <td>0.027067</td>\n",
       "    </tr>\n",
       "    <tr>\n",
       "      <th>BaggingClassifier</th>\n",
       "      <td>0.888752</td>\n",
       "      <td>4544.0</td>\n",
       "      <td>24400.0</td>\n",
       "      <td>3438.0</td>\n",
       "      <td>185.0</td>\n",
       "      <td>0.123500</td>\n",
       "      <td>0.039120</td>\n",
       "    </tr>\n",
       "    <tr>\n",
       "      <th>Neural Network-1</th>\n",
       "      <td>0.878773</td>\n",
       "      <td>4253.0</td>\n",
       "      <td>24366.0</td>\n",
       "      <td>3472.0</td>\n",
       "      <td>476.0</td>\n",
       "      <td>0.124722</td>\n",
       "      <td>0.100656</td>\n",
       "    </tr>\n",
       "  </tbody>\n",
       "</table>\n",
       "</div>"
      ],
      "text/plain": [
       "                            accuracy      TP       TN      FP     FN  \\\n",
       "index                                                                  \n",
       "KNeighborsClassifier        0.881567  4316.0  24394.0  3444.0  413.0   \n",
       "LogisticRegression          0.868732  3959.0  24333.0  3505.0  770.0   \n",
       "RandomForestClassifier      0.888783  4542.0  24403.0  3435.0  187.0   \n",
       "AdaBoostClassifier          0.874628  4117.0  24367.0  3471.0  612.0   \n",
       "GradientBoostingClassifier  0.879756  4232.0  24419.0  3419.0  497.0   \n",
       "ExtraTreeClassifier         0.890810  4601.0  24410.0  3428.0  128.0   \n",
       "BaggingClassifier           0.888752  4544.0  24400.0  3438.0  185.0   \n",
       "Neural Network-1            0.878773  4253.0  24366.0  3472.0  476.0   \n",
       "\n",
       "                                 FPR       FNR  \n",
       "index                                           \n",
       "KNeighborsClassifier        0.123716  0.087333  \n",
       "LogisticRegression          0.125907  0.162825  \n",
       "RandomForestClassifier      0.123392  0.039543  \n",
       "AdaBoostClassifier          0.124686  0.129414  \n",
       "GradientBoostingClassifier  0.122818  0.105096  \n",
       "ExtraTreeClassifier         0.123141  0.027067  \n",
       "BaggingClassifier           0.123500  0.039120  \n",
       "Neural Network-1            0.124722  0.100656  "
      ]
     },
     "metadata": {},
     "output_type": "display_data"
    },
    {
     "name": "stdout",
     "output_type": "stream",
     "text": [
      "Test Results\n"
     ]
    },
    {
     "data": {
      "text/html": [
       "<div>\n",
       "<style scoped>\n",
       "    .dataframe tbody tr th:only-of-type {\n",
       "        vertical-align: middle;\n",
       "    }\n",
       "\n",
       "    .dataframe tbody tr th {\n",
       "        vertical-align: top;\n",
       "    }\n",
       "\n",
       "    .dataframe thead th {\n",
       "        text-align: right;\n",
       "    }\n",
       "</style>\n",
       "<table border=\"1\" class=\"dataframe\">\n",
       "  <thead>\n",
       "    <tr style=\"text-align: right;\">\n",
       "      <th></th>\n",
       "      <th>accuracy</th>\n",
       "      <th>TP</th>\n",
       "      <th>TN</th>\n",
       "      <th>FP</th>\n",
       "      <th>FN</th>\n",
       "      <th>FPR</th>\n",
       "      <th>FNR</th>\n",
       "      <th>auc</th>\n",
       "      <th>mcc</th>\n",
       "    </tr>\n",
       "    <tr>\n",
       "      <th>index</th>\n",
       "      <th></th>\n",
       "      <th></th>\n",
       "      <th></th>\n",
       "      <th></th>\n",
       "      <th></th>\n",
       "      <th></th>\n",
       "      <th></th>\n",
       "      <th></th>\n",
       "      <th></th>\n",
       "    </tr>\n",
       "  </thead>\n",
       "  <tbody>\n",
       "    <tr>\n",
       "      <th>KNeighborsClassifier</th>\n",
       "      <td>0.880742</td>\n",
       "      <td>1088.0</td>\n",
       "      <td>6083.0</td>\n",
       "      <td>857.0</td>\n",
       "      <td>114.0</td>\n",
       "      <td>0.123487</td>\n",
       "      <td>0.094842</td>\n",
       "      <td>0.890836</td>\n",
       "      <td>0.650288</td>\n",
       "    </tr>\n",
       "    <tr>\n",
       "      <th>LogisticRegression</th>\n",
       "      <td>0.870548</td>\n",
       "      <td>1018.0</td>\n",
       "      <td>6070.0</td>\n",
       "      <td>870.0</td>\n",
       "      <td>184.0</td>\n",
       "      <td>0.125360</td>\n",
       "      <td>0.153078</td>\n",
       "      <td>0.860781</td>\n",
       "      <td>0.606492</td>\n",
       "    </tr>\n",
       "    <tr>\n",
       "      <th>RandomForestClassifier</th>\n",
       "      <td>0.881724</td>\n",
       "      <td>1097.0</td>\n",
       "      <td>6082.0</td>\n",
       "      <td>858.0</td>\n",
       "      <td>105.0</td>\n",
       "      <td>0.123631</td>\n",
       "      <td>0.087354</td>\n",
       "      <td>0.894507</td>\n",
       "      <td>0.655245</td>\n",
       "    </tr>\n",
       "    <tr>\n",
       "      <th>AdaBoostClassifier</th>\n",
       "      <td>0.876320</td>\n",
       "      <td>1049.0</td>\n",
       "      <td>6086.0</td>\n",
       "      <td>854.0</td>\n",
       "      <td>153.0</td>\n",
       "      <td>0.123055</td>\n",
       "      <td>0.127288</td>\n",
       "      <td>0.874829</td>\n",
       "      <td>0.628374</td>\n",
       "    </tr>\n",
       "    <tr>\n",
       "      <th>GradientBoostingClassifier</th>\n",
       "      <td>0.880005</td>\n",
       "      <td>1071.0</td>\n",
       "      <td>6094.0</td>\n",
       "      <td>846.0</td>\n",
       "      <td>131.0</td>\n",
       "      <td>0.121902</td>\n",
       "      <td>0.108985</td>\n",
       "      <td>0.884556</td>\n",
       "      <td>0.643045</td>\n",
       "    </tr>\n",
       "    <tr>\n",
       "      <th>ExtraTreeClassifier</th>\n",
       "      <td>0.882461</td>\n",
       "      <td>1100.0</td>\n",
       "      <td>6085.0</td>\n",
       "      <td>855.0</td>\n",
       "      <td>102.0</td>\n",
       "      <td>0.123199</td>\n",
       "      <td>0.084859</td>\n",
       "      <td>0.895971</td>\n",
       "      <td>0.657676</td>\n",
       "    </tr>\n",
       "    <tr>\n",
       "      <th>BaggingClassifier</th>\n",
       "      <td>0.881847</td>\n",
       "      <td>1100.0</td>\n",
       "      <td>6080.0</td>\n",
       "      <td>860.0</td>\n",
       "      <td>102.0</td>\n",
       "      <td>0.123919</td>\n",
       "      <td>0.084859</td>\n",
       "      <td>0.895611</td>\n",
       "      <td>0.656505</td>\n",
       "    </tr>\n",
       "    <tr>\n",
       "      <th>Neural Network-1</th>\n",
       "      <td>0.878285</td>\n",
       "      <td>1074.0</td>\n",
       "      <td>6077.0</td>\n",
       "      <td>863.0</td>\n",
       "      <td>128.0</td>\n",
       "      <td>0.124352</td>\n",
       "      <td>0.106489</td>\n",
       "      <td>0.895611</td>\n",
       "      <td>0.640785</td>\n",
       "    </tr>\n",
       "  </tbody>\n",
       "</table>\n",
       "</div>"
      ],
      "text/plain": [
       "                            accuracy      TP      TN     FP     FN       FPR  \\\n",
       "index                                                                          \n",
       "KNeighborsClassifier        0.880742  1088.0  6083.0  857.0  114.0  0.123487   \n",
       "LogisticRegression          0.870548  1018.0  6070.0  870.0  184.0  0.125360   \n",
       "RandomForestClassifier      0.881724  1097.0  6082.0  858.0  105.0  0.123631   \n",
       "AdaBoostClassifier          0.876320  1049.0  6086.0  854.0  153.0  0.123055   \n",
       "GradientBoostingClassifier  0.880005  1071.0  6094.0  846.0  131.0  0.121902   \n",
       "ExtraTreeClassifier         0.882461  1100.0  6085.0  855.0  102.0  0.123199   \n",
       "BaggingClassifier           0.881847  1100.0  6080.0  860.0  102.0  0.123919   \n",
       "Neural Network-1            0.878285  1074.0  6077.0  863.0  128.0  0.124352   \n",
       "\n",
       "                                 FNR       auc       mcc  \n",
       "index                                                     \n",
       "KNeighborsClassifier        0.094842  0.890836  0.650288  \n",
       "LogisticRegression          0.153078  0.860781  0.606492  \n",
       "RandomForestClassifier      0.087354  0.894507  0.655245  \n",
       "AdaBoostClassifier          0.127288  0.874829  0.628374  \n",
       "GradientBoostingClassifier  0.108985  0.884556  0.643045  \n",
       "ExtraTreeClassifier         0.084859  0.895971  0.657676  \n",
       "BaggingClassifier           0.084859  0.895611  0.656505  \n",
       "Neural Network-1            0.106489  0.895611  0.640785  "
      ]
     },
     "metadata": {},
     "output_type": "display_data"
    }
   ],
   "source": [
    "table_80_60_train['index']=ind_columns\n",
    "table_80_60_test['index']=ind_columns\n",
    "\n",
    "\n",
    "table_80_60_test.set_index(['index'],drop=True,inplace=True)\n",
    "table_80_60_train.set_index(['index'],drop=True,inplace=True)\n",
    "\n",
    "print(\"Training Results\")\n",
    "display(table_80_60_train)\n",
    "print(\"Test Results\")\n",
    "display(table_80_60_test)"
   ]
  },
  {
   "cell_type": "markdown",
   "metadata": {},
   "source": [
    "### <a id='4.B' style=\"text-decoration : none; color : #000000;\"> B. Average Feature Importances</a>"
   ]
  },
  {
   "cell_type": "code",
   "execution_count": 55,
   "metadata": {},
   "outputs": [
    {
     "data": {
      "application/vnd.plotly.v1+json": {
       "config": {
        "linkText": "Export to plot.ly",
        "plotlyServerURL": "https://plot.ly",
        "showLink": true
       },
       "data": [
        {
         "marker": {
          "color": "rgb(158,202,225)",
          "line": {
           "color": "rgb(8,48,107)",
           "width": 1.5
          }
         },
         "opacity": 0.6,
         "orientation": "h",
         "text": [
          0.3238,
          0.166,
          0.1483,
          0.1086,
          0.101,
          0.0778,
          0.0746
         ],
         "textposition": "outside",
         "type": "bar",
         "uid": "3a32f4d2-1214-49a4-a968-2acb2e6f2986",
         "x": [
          0.3237848416269578,
          0.16598844644161287,
          0.14825367627914385,
          0.10855753868800697,
          0.10100761489380801,
          0.07782303660339335,
          0.07458484546707711
         ],
         "y": [
          "script_count + script_src_.js",
          "script_src_relative / script_count",
          "link_href_absolute / link_count",
          "a_href_https / a_count",
          "script_async_true / script_count",
          "script_src_https / script_src_relative",
          "script_src_out_of_domain / script_src_relative"
         ]
        }
       ],
       "layout": {
        "autosize": false,
        "height": 1000,
        "width": 1000,
        "xaxis": {
         "tickfont": {
          "color": "black",
          "size": 12
         },
         "title": "Feature Importances"
        },
        "yaxis": {
         "automargin": true
        }
       }
      },
      "text/html": [
       "<div id=\"07af6e92-cc33-4a56-8ec5-97eed48d50a5\" style=\"height: 1000px; width: 1000px;\" class=\"plotly-graph-div\"></div><script type=\"text/javascript\">require([\"plotly\"], function(Plotly) { window.PLOTLYENV=window.PLOTLYENV || {};window.PLOTLYENV.BASE_URL=\"https://plot.ly\";Plotly.newPlot(\"07af6e92-cc33-4a56-8ec5-97eed48d50a5\", [{\"marker\": {\"color\": \"rgb(158,202,225)\", \"line\": {\"color\": \"rgb(8,48,107)\", \"width\": 1.5}}, \"opacity\": 0.6, \"orientation\": \"h\", \"text\": [0.3238, 0.166, 0.1483, 0.1086, 0.101, 0.0778, 0.0746], \"textposition\": \"outside\", \"x\": [0.3237848416269578, 0.16598844644161287, 0.14825367627914385, 0.10855753868800697, 0.10100761489380801, 0.07782303660339335, 0.07458484546707711], \"y\": [\"script_count + script_src_.js\", \"script_src_relative / script_count\", \"link_href_absolute / link_count\", \"a_href_https / a_count\", \"script_async_true / script_count\", \"script_src_https / script_src_relative\", \"script_src_out_of_domain / script_src_relative\"], \"type\": \"bar\", \"uid\": \"3a32f4d2-1214-49a4-a968-2acb2e6f2986\"}], {\"autosize\": false, \"height\": 1000, \"width\": 1000, \"xaxis\": {\"tickfont\": {\"color\": \"black\", \"size\": 12}, \"title\": \"Feature Importances\"}, \"yaxis\": {\"automargin\": true}}, {\"showLink\": true, \"linkText\": \"Export to plot.ly\", \"plotlyServerURL\": \"https://plot.ly\"})});</script>"
      ],
      "text/vnd.plotly.v1+html": [
       "<div id=\"07af6e92-cc33-4a56-8ec5-97eed48d50a5\" style=\"height: 1000px; width: 1000px;\" class=\"plotly-graph-div\"></div><script type=\"text/javascript\">require([\"plotly\"], function(Plotly) { window.PLOTLYENV=window.PLOTLYENV || {};window.PLOTLYENV.BASE_URL=\"https://plot.ly\";Plotly.newPlot(\"07af6e92-cc33-4a56-8ec5-97eed48d50a5\", [{\"marker\": {\"color\": \"rgb(158,202,225)\", \"line\": {\"color\": \"rgb(8,48,107)\", \"width\": 1.5}}, \"opacity\": 0.6, \"orientation\": \"h\", \"text\": [0.3238, 0.166, 0.1483, 0.1086, 0.101, 0.0778, 0.0746], \"textposition\": \"outside\", \"x\": [0.3237848416269578, 0.16598844644161287, 0.14825367627914385, 0.10855753868800697, 0.10100761489380801, 0.07782303660339335, 0.07458484546707711], \"y\": [\"script_count + script_src_.js\", \"script_src_relative / script_count\", \"link_href_absolute / link_count\", \"a_href_https / a_count\", \"script_async_true / script_count\", \"script_src_https / script_src_relative\", \"script_src_out_of_domain / script_src_relative\"], \"type\": \"bar\", \"uid\": \"3a32f4d2-1214-49a4-a968-2acb2e6f2986\"}], {\"autosize\": false, \"height\": 1000, \"width\": 1000, \"xaxis\": {\"tickfont\": {\"color\": \"black\", \"size\": 12}, \"title\": \"Feature Importances\"}, \"yaxis\": {\"automargin\": true}}, {\"showLink\": true, \"linkText\": \"Export to plot.ly\", \"plotlyServerURL\": \"https://plot.ly\"})});</script>"
      ]
     },
     "metadata": {},
     "output_type": "display_data"
    }
   ],
   "source": [
    "feat_impt_plot(np.average(feat_imp,axis=0),feature_name)"
   ]
  },
  {
   "cell_type": "markdown",
   "metadata": {},
   "source": [
    "### <a id='5' style=\"text-decoration : none; color : #000000;\">5. Feature Transformation with PCA </a>"
   ]
  },
  {
   "cell_type": "code",
   "execution_count": 56,
   "metadata": {
    "collapsed": true
   },
   "outputs": [],
   "source": [
    "X=fs.loc[:,fs.columns!='Target']\n",
    "y=fs.Target.values\n",
    "feature_name = X.columns.tolist()\n",
    "X=np.nan_to_num(X)\n",
    "scaler=StandardScaler()\n",
    "scaled_X=scaler.fit_transform(X)"
   ]
  },
  {
   "cell_type": "code",
   "execution_count": 57,
   "metadata": {},
   "outputs": [
    {
     "data": {
      "image/png": "[encoded data removed]",
      "text/plain": [
       "<Figure size 720x576 with 1 Axes>"
      ]
     },
     "metadata": {},
     "output_type": "display_data"
    }
   ],
   "source": [
    "sns.set_style('whitegrid')\n",
    "pca = PCA(random_state=0)\n",
    "pca.fit(scaled_X)\n",
    "plt.figure(1, figsize=(10, 8))\n",
    "plt.plot(np.cumsum(pca.explained_variance_ratio_),'--o', linewidth=2)\n",
    "plt.axis('tight')\n",
    "plt.xlabel('Number of Components',size=14)\n",
    "plt.xticks(size=12)\n",
    "plt.xlim([0,200])\n",
    "plt.ylabel('% Explained Variance',size=14)\n",
    "plt.yticks(size=12)\n",
    "plt.title('% Variance Explained by Principal Components',size=14,y=1.05)\n",
    "plt.show()"
   ]
  },
  {
   "cell_type": "code",
   "execution_count": 58,
   "metadata": {},
   "outputs": [
    {
     "data": {
      "text/plain": [
       "array([ 197,  198,  199, ..., 6213, 6214, 6215])"
      ]
     },
     "execution_count": 58,
     "metadata": {},
     "output_type": "execute_result"
    }
   ],
   "source": [
    "np.where(np.cumsum(pca.explained_variance_ratio_)>=0.8)[0]"
   ]
  },
  {
   "cell_type": "code",
   "execution_count": 59,
   "metadata": {},
   "outputs": [
    {
     "name": "stdout",
     "output_type": "stream",
     "text": [
      "Variance explained using 167 components is: 0.79923091576\n"
     ]
    }
   ],
   "source": [
    "pca=PCA(n_components=197,whiten=True,random_state=0)\n",
    "X_pca_21=pca.fit_transform(scaled_X)\n",
    "print(\"Variance explained using 167 components is:\",sum(pca.explained_variance_ratio_))"
   ]
  },
  {
   "cell_type": "code",
   "execution_count": 60,
   "metadata": {
    "collapsed": true
   },
   "outputs": [],
   "source": [
    "X_train=X_pca_21[:32567]\n",
    "Y_train=fs.iloc[:32567]['Target'].values\n",
    "X_test=X_pca_21[32567:]\n",
    "Y_test=fs.iloc[32567:]['Target'].values\n",
    "\n",
    "## Table to store training and test measures so we can compare later\n",
    "table_80_70_train=pd.DataFrame(columns=['accuracy','TP','TN','FP','FN','FPR','FNR'])\n",
    "table_80_70_test=pd.DataFrame(columns=['accuracy','TP','TN','FP','FN','FPR','FNR','auc','mcc'])"
   ]
  },
  {
   "cell_type": "code",
   "execution_count": 61,
   "metadata": {
    "scrolled": false
   },
   "outputs": [
    {
     "name": "stdout",
     "output_type": "stream",
     "text": [
      "\u001b[1mK-Nearest Neighbors\u001b[0m\n",
      "Accuracy of the model for training data is: 0.873123100071\n",
      "Confusion Matrix for training data is:\n"
     ]
    },
    {
     "data": {
      "text/plain": [
       "Predicted  False  True  __all__\n",
       "Actual                         \n",
       "False      27635   203    27838\n",
       "True        3929   800     4729\n",
       "__all__    31564  1003    32567"
      ]
     },
     "metadata": {},
     "output_type": "display_data"
    },
    {
     "name": "stdout",
     "output_type": "stream",
     "text": [
      "Accuracy of the model for test data is: 0.861581920904\n",
      "Confusion Matrix for test data is:\n"
     ]
    },
    {
     "data": {
      "text/plain": [
       "Predicted  False  True  __all__\n",
       "Actual                         \n",
       "False       6852    88     6940\n",
       "True        1039   163     1202\n",
       "__all__     7891   251     8142"
      ]
     },
     "metadata": {},
     "output_type": "display_data"
    },
    {
     "name": "stdout",
     "output_type": "stream",
     "text": [
      "\n",
      "\n",
      "\u001b[1mLogistic Regression\u001b[0m\n",
      "Accuracy of the model for training data is: 0.882212055148\n",
      "Confusion Matrix for training data is:\n"
     ]
    },
    {
     "data": {
      "text/plain": [
       "Predicted  False  True  __all__\n",
       "Actual                         \n",
       "False      24658  3180    27838\n",
       "True         656  4073     4729\n",
       "__all__    25314  7253    32567"
      ]
     },
     "metadata": {},
     "output_type": "display_data"
    },
    {
     "name": "stdout",
     "output_type": "stream",
     "text": [
      "Accuracy of the model for test data is: 0.882829771555\n",
      "Confusion Matrix for test data is:\n"
     ]
    },
    {
     "data": {
      "text/plain": [
       "Predicted  False  True  __all__\n",
       "Actual                         \n",
       "False       6150   790     6940\n",
       "True         164  1038     1202\n",
       "__all__     6314  1828     8142"
      ]
     },
     "metadata": {},
     "output_type": "display_data"
    },
    {
     "name": "stdout",
     "output_type": "stream",
     "text": [
      "\n",
      "\n",
      "\u001b[1mRandomForest Classifier\u001b[0m\n",
      "Accuracy of the model for training data is: 0.90990880339\n",
      "Confusion Matrix for training data is:\n"
     ]
    },
    {
     "data": {
      "text/plain": [
       "Predicted  False  True  __all__\n",
       "Actual                         \n",
       "False      25028  2810    27838\n",
       "True         124  4605     4729\n",
       "__all__    25152  7415    32567"
      ]
     },
     "metadata": {},
     "output_type": "display_data"
    },
    {
     "name": "stdout",
     "output_type": "stream",
     "text": [
      "Accuracy of the model for test data is: 0.897690985016\n",
      "Confusion Matrix for test data is:\n"
     ]
    },
    {
     "data": {
      "text/plain": [
       "Predicted  False  True  __all__\n",
       "Actual                         \n",
       "False       6218   722     6940\n",
       "True         111  1091     1202\n",
       "__all__     6329  1813     8142"
      ]
     },
     "metadata": {},
     "output_type": "display_data"
    },
    {
     "data": {
      "application/vnd.plotly.v1+json": {
       "config": {
        "linkText": "Export to plot.ly",
        "plotlyServerURL": "https://plot.ly",
        "showLink": true
       },
       "data": [
        {
         "marker": {
          "color": "rgb(158,202,225)",
          "line": {
           "color": "rgb(8,48,107)",
           "width": 1.5
          }
         },
         "opacity": 0.6,
         "orientation": "h",
         "text": [
          0.0849,
          0.0648,
          0.0645,
          0.0631,
          0.0551,
          0.0542,
          0.047,
          0.0268,
          0.0258,
          0.0226,
          0.0219,
          0.0214,
          0.021,
          0.0206,
          0.0191,
          0.0168,
          0.0166,
          0.0139,
          0.0095,
          0.0095,
          0.0061,
          0.0055,
          0.0053,
          0.0051,
          0.005,
          0.0048,
          0.0047,
          0.0047,
          0.0045,
          0.0044,
          0.0044,
          0.0043,
          0.0042,
          0.0042,
          0.004,
          0.004,
          0.0036,
          0.0035,
          0.0034,
          0.0032,
          0.0032,
          0.0031,
          0.0031,
          0.0031,
          0.003,
          0.003,
          0.003,
          0.003,
          0.0029,
          0.0029,
          0.0028,
          0.0028,
          0.0028,
          0.0027,
          0.0026,
          0.0026,
          0.0026,
          0.0025,
          0.0025,
          0.0025,
          0.0024,
          0.0024,
          0.0024,
          0.0024,
          0.0023,
          0.0023,
          0.0023,
          0.0023,
          0.0022,
          0.0021,
          0.0021,
          0.0021,
          0.002,
          0.002,
          0.002,
          0.002,
          0.002,
          0.002,
          0.0019,
          0.0019,
          0.0019,
          0.0019,
          0.0019,
          0.0018,
          0.0018,
          0.0018,
          0.0018,
          0.0018,
          0.0018,
          0.0017,
          0.0017,
          0.0017,
          0.0017,
          0.0017,
          0.0017,
          0.0016,
          0.0016,
          0.0016,
          0.0016,
          0.0015,
          0.0015,
          0.0015,
          0.0015,
          0.0015,
          0.0015,
          0.0014,
          0.0014,
          0.0014,
          0.0014,
          0.0014,
          0.0013,
          0.0013,
          0.0013,
          0.0013,
          0.0012,
          0.0012,
          0.0012,
          0.0012,
          0.0012,
          0.0012,
          0.0012,
          0.0012,
          0.0012,
          0.0012,
          0.0012,
          0.0012,
          0.0012,
          0.0012,
          0.0012,
          0.0012,
          0.0012,
          0.0012,
          0.0011,
          0.0011,
          0.0011,
          0.0011,
          0.0011,
          0.0011,
          0.0011,
          0.0011,
          0.0011,
          0.0011,
          0.0011,
          0.0011,
          0.0011,
          0.001,
          0.001,
          0.001,
          0.001,
          0.001,
          0.001,
          0.001,
          0.001,
          0.001,
          0.001,
          0.001,
          0.001,
          0.001,
          0.001,
          0.0009,
          0.0009,
          0.0009,
          0.0009,
          0.0009,
          0.0009,
          0.0009,
          0.0009,
          0.0009,
          0.0009,
          0.0009,
          0.0009,
          0.0009,
          0.0009,
          0.0008,
          0.0008,
          0.0008,
          0.0008,
          0.0007,
          0.0007,
          0.0007,
          0.0007,
          0.0007,
          0.0007,
          0.0007,
          0.0007,
          0.0007,
          0.0006,
          0.0006,
          0.0006,
          0.0006,
          0.0006,
          0.0005,
          0.0005,
          0.0005,
          0.0005,
          0.0005,
          0.0004
         ],
         "textposition": "outside",
         "type": "bar",
         "uid": "7a2bbe85-4aa7-43bc-9b1d-d66a063f46ab",
         "x": [
          0.08489539021764812,
          0.0648063335821843,
          0.06454349340099112,
          0.06307066039041677,
          0.05511216632980711,
          0.054209064146408956,
          0.04703435943578961,
          0.026771738727250284,
          0.025827517712968935,
          0.02263808281296515,
          0.021946937644135737,
          0.02139183860206287,
          0.02101178918950019,
          0.02059830534556231,
          0.019146422342796364,
          0.016802039563312953,
          0.016599500538562482,
          0.013892056199189446,
          0.009537165229716179,
          0.009462407550310933,
          0.006082759692215597,
          0.005501263686603563,
          0.0053287025579582025,
          0.00509573564251495,
          0.004974002003610273,
          0.004823009732030139,
          0.004745430756185193,
          0.004657972141895085,
          0.0044629556962467315,
          0.004409611475041217,
          0.004381164889207699,
          0.004347044056633878,
          0.004231404060196626,
          0.004204401269260116,
          0.004017446484909444,
          0.004007807152132408,
          0.0035791216548728675,
          0.003475466812478318,
          0.0033719449373359545,
          0.0031813190049961087,
          0.003177697886808726,
          0.0031423206435200524,
          0.0031143009241074012,
          0.003073706059605988,
          0.0030063719515681774,
          0.0029868318602635164,
          0.0029721578722696172,
          0.0029656928470026414,
          0.002930334578401056,
          0.0029163823877844954,
          0.0028418981494863797,
          0.0028130314823612028,
          0.0027646365792127967,
          0.0027419884998874976,
          0.002643763646390099,
          0.002605307849145103,
          0.002558893930101669,
          0.002531611045381891,
          0.002471559375061652,
          0.0024543103679431737,
          0.0024246879934868445,
          0.002382800242126406,
          0.0023595087884612197,
          0.0023554767239134813,
          0.002334776422013514,
          0.0023024151196364565,
          0.002288578628149446,
          0.0022753560542144247,
          0.0022229731096916516,
          0.0021467151588658254,
          0.0020786043395708666,
          0.002069644227768623,
          0.002021456983405925,
          0.0019922875976553065,
          0.001988488122775499,
          0.0019844570322753623,
          0.0019717710990763662,
          0.001962489492565685,
          0.0019486475080913723,
          0.0019069844451963824,
          0.0018858671546065485,
          0.0018756489068540365,
          0.0018631814261754645,
          0.0018478686391453845,
          0.0018447225016090755,
          0.0018404294817676845,
          0.0018244371441237955,
          0.001811331413215877,
          0.0017726117708900958,
          0.0017428343089356726,
          0.0017256439876712263,
          0.001701913581856553,
          0.0016826491296789332,
          0.001665708049220845,
          0.0016591965981568528,
          0.0016198494217204297,
          0.0015958989219669653,
          0.0015810387861219673,
          0.0015519415128581598,
          0.001536812235726903,
          0.0015344760223791355,
          0.0015239945197504461,
          0.001498314898221506,
          0.001477216034255233,
          0.0014657993026396682,
          0.0014037903989826115,
          0.0013970376494689318,
          0.0013901391369520878,
          0.0013697723492205487,
          0.0013672762675708847,
          0.00134353623999474,
          0.0013352317136308054,
          0.0013113957395253317,
          0.0012627748226848557,
          0.0012490570131726193,
          0.001241080029704262,
          0.0012404334094647986,
          0.0012396626119783032,
          0.001228817756643808,
          0.0012273761739647951,
          0.0012210120268279108,
          0.0012165613022602098,
          0.0012120324623480663,
          0.0012109725068365062,
          0.0011940289219019339,
          0.0011930147249414537,
          0.0011700664694398047,
          0.00116888418726726,
          0.0011656436615227952,
          0.0011585844510656935,
          0.0011567912455044368,
          0.0011530855388379715,
          0.0011478309167492773,
          0.0011423647655033962,
          0.0011390665515384317,
          0.0011294100735600356,
          0.001127568585381984,
          0.0011072550091223042,
          0.0011028058289441135,
          0.0010987251825167804,
          0.0010896335873267133,
          0.0010849880658753133,
          0.0010696602112283539,
          0.0010547008376694347,
          0.0010500389103296455,
          0.0010489061967511944,
          0.001047598393555649,
          0.0010319014200448756,
          0.0010217638413118697,
          0.001019582796705398,
          0.0010118380662383112,
          0.0010089270370766744,
          0.0010041484437732298,
          0.0009921257867244744,
          0.000984210225040544,
          0.000982057247090043,
          0.0009723201716904661,
          0.000951300420679287,
          0.0009509322415579259,
          0.0009264409267993759,
          0.0009095818673253706,
          0.0009030195331814945,
          0.0008882387736538196,
          0.0008875602043213433,
          0.000880567431307917,
          0.0008799587673239542,
          0.0008761902001869293,
          0.0008690295510204542,
          0.0008604423093115654,
          0.0008602701573107878,
          0.0008583194689726114,
          0.0008567610048511188,
          0.0008535672525738919,
          0.0008427458445053736,
          0.0008100446176851836,
          0.0007611805019382747,
          0.0007583756185857622,
          0.0007495298629701042,
          0.0007351868100384008,
          0.0007209153533662408,
          0.0007158185772843759,
          0.0007021305117183329,
          0.0006989182442256591,
          0.0006978881414872638,
          0.0006837226638975729,
          0.000660630909826435,
          0.0006111229706945619,
          0.0006085881403715902,
          0.000580086338955119,
          0.0005796906242327381,
          0.0005758611801895211,
          0.0005498527838196665,
          0.0005330590834485525,
          0.0005085167698748873,
          0.00048320109044330416,
          0.000452331814925436,
          0.00043479902897938853
         ],
         "y": [
          "0",
          "5",
          "14",
          "1",
          "19",
          "148",
          "23",
          "13",
          "18",
          "97",
          "39",
          "17",
          "169",
          "11",
          "54",
          "139",
          "50",
          "56",
          "167",
          "49",
          "29",
          "154",
          "60",
          "127",
          "83",
          "191",
          "52",
          "158",
          "162",
          "31",
          "164",
          "48",
          "120",
          "76",
          "135",
          "36",
          "27",
          "15",
          "43",
          "44",
          "115",
          "16",
          "141",
          "145",
          "136",
          "179",
          "147",
          "112",
          "7",
          "63",
          "107",
          "101",
          "41",
          "118",
          "114",
          "8",
          "156",
          "81",
          "21",
          "6",
          "137",
          "193",
          "78",
          "45",
          "72",
          "160",
          "146",
          "32",
          "109",
          "163",
          "2",
          "175",
          "155",
          "62",
          "70",
          "80",
          "159",
          "106",
          "82",
          "92",
          "173",
          "174",
          "152",
          "100",
          "133",
          "149",
          "35",
          "184",
          "143",
          "96",
          "186",
          "185",
          "130",
          "104",
          "180",
          "12",
          "102",
          "187",
          "129",
          "128",
          "46",
          "10",
          "165",
          "58",
          "123",
          "124",
          "65",
          "178",
          "86",
          "166",
          "74",
          "3",
          "144",
          "25",
          "30",
          "138",
          "117",
          "53",
          "38",
          "89",
          "172",
          "181",
          "77",
          "61",
          "170",
          "90",
          "192",
          "28",
          "168",
          "57",
          "68",
          "176",
          "161",
          "119",
          "66",
          "42",
          "116",
          "196",
          "75",
          "190",
          "182",
          "85",
          "189",
          "73",
          "51",
          "84",
          "188",
          "194",
          "24",
          "4",
          "142",
          "132",
          "9",
          "34",
          "126",
          "95",
          "88",
          "111",
          "40",
          "79",
          "171",
          "140",
          "121",
          "64",
          "93",
          "20",
          "131",
          "55",
          "134",
          "105",
          "98",
          "151",
          "22",
          "195",
          "183",
          "26",
          "94",
          "33",
          "157",
          "59",
          "150",
          "113",
          "177",
          "99",
          "71",
          "122",
          "87",
          "37",
          "47",
          "108",
          "103",
          "125",
          "110",
          "69",
          "153",
          "67",
          "91"
         ]
        }
       ],
       "layout": {
        "autosize": false,
        "height": 1000,
        "width": 1000,
        "xaxis": {
         "tickfont": {
          "color": "black",
          "size": 12
         },
         "title": "Feature Importances"
        },
        "yaxis": {
         "automargin": true
        }
       }
      },
      "text/html": [
       "<div id=\"a3ed1b18-0e76-43de-a7d6-40a7e0ad0ff0\" style=\"height: 1000px; width: 1000px;\" class=\"plotly-graph-div\"></div><script type=\"text/javascript\">require([\"plotly\"], function(Plotly) { window.PLOTLYENV=window.PLOTLYENV || {};window.PLOTLYENV.BASE_URL=\"https://plot.ly\";Plotly.newPlot(\"a3ed1b18-0e76-43de-a7d6-40a7e0ad0ff0\", [{\"marker\": {\"color\": \"rgb(158,202,225)\", \"line\": {\"color\": \"rgb(8,48,107)\", \"width\": 1.5}}, \"opacity\": 0.6, \"orientation\": \"h\", \"text\": [0.0849, 0.0648, 0.0645, 0.0631, 0.0551, 0.0542, 0.047, 0.0268, 0.0258, 0.0226, 0.0219, 0.0214, 0.021, 0.0206, 0.0191, 0.0168, 0.0166, 0.0139, 0.0095, 0.0095, 0.0061, 0.0055, 0.0053, 0.0051, 0.005, 0.0048, 0.0047, 0.0047, 0.0045, 0.0044, 0.0044, 0.0043, 0.0042, 0.0042, 0.004, 0.004, 0.0036, 0.0035, 0.0034, 0.0032, 0.0032, 0.0031, 0.0031, 0.0031, 0.003, 0.003, 0.003, 0.003, 0.0029, 0.0029, 0.0028, 0.0028, 0.0028, 0.0027, 0.0026, 0.0026, 0.0026, 0.0025, 0.0025, 0.0025, 0.0024, 0.0024, 0.0024, 0.0024, 0.0023, 0.0023, 0.0023, 0.0023, 0.0022, 0.0021, 0.0021, 0.0021, 0.002, 0.002, 0.002, 0.002, 0.002, 0.002, 0.0019, 0.0019, 0.0019, 0.0019, 0.0019, 0.0018, 0.0018, 0.0018, 0.0018, 0.0018, 0.0018, 0.0017, 0.0017, 0.0017, 0.0017, 0.0017, 0.0017, 0.0016, 0.0016, 0.0016, 0.0016, 0.0015, 0.0015, 0.0015, 0.0015, 0.0015, 0.0015, 0.0014, 0.0014, 0.0014, 0.0014, 0.0014, 0.0013, 0.0013, 0.0013, 0.0013, 0.0012, 0.0012, 0.0012, 0.0012, 0.0012, 0.0012, 0.0012, 0.0012, 0.0012, 0.0012, 0.0012, 0.0012, 0.0012, 0.0012, 0.0012, 0.0012, 0.0012, 0.0012, 0.0011, 0.0011, 0.0011, 0.0011, 0.0011, 0.0011, 0.0011, 0.0011, 0.0011, 0.0011, 0.0011, 0.0011, 0.0011, 0.001, 0.001, 0.001, 0.001, 0.001, 0.001, 0.001, 0.001, 0.001, 0.001, 0.001, 0.001, 0.001, 0.001, 0.0009, 0.0009, 0.0009, 0.0009, 0.0009, 0.0009, 0.0009, 0.0009, 0.0009, 0.0009, 0.0009, 0.0009, 0.0009, 0.0009, 0.0008, 0.0008, 0.0008, 0.0008, 0.0007, 0.0007, 0.0007, 0.0007, 0.0007, 0.0007, 0.0007, 0.0007, 0.0007, 0.0006, 0.0006, 0.0006, 0.0006, 0.0006, 0.0005, 0.0005, 0.0005, 0.0005, 0.0005, 0.0004], \"textposition\": \"outside\", \"x\": [0.08489539021764812, 0.0648063335821843, 0.06454349340099112, 0.06307066039041677, 0.05511216632980711, 0.054209064146408956, 0.04703435943578961, 0.026771738727250284, 0.025827517712968935, 0.02263808281296515, 0.021946937644135737, 0.02139183860206287, 0.02101178918950019, 0.02059830534556231, 0.019146422342796364, 0.016802039563312953, 0.016599500538562482, 0.013892056199189446, 0.009537165229716179, 0.009462407550310933, 0.006082759692215597, 0.005501263686603563, 0.0053287025579582025, 0.00509573564251495, 0.004974002003610273, 0.004823009732030139, 0.004745430756185193, 0.004657972141895085, 0.0044629556962467315, 0.004409611475041217, 0.004381164889207699, 0.004347044056633878, 0.004231404060196626, 0.004204401269260116, 0.004017446484909444, 0.004007807152132408, 0.0035791216548728675, 0.003475466812478318, 0.0033719449373359545, 0.0031813190049961087, 0.003177697886808726, 0.0031423206435200524, 0.0031143009241074012, 0.003073706059605988, 0.0030063719515681774, 0.0029868318602635164, 0.0029721578722696172, 0.0029656928470026414, 0.002930334578401056, 0.0029163823877844954, 0.0028418981494863797, 0.0028130314823612028, 0.0027646365792127967, 0.0027419884998874976, 0.002643763646390099, 0.002605307849145103, 0.002558893930101669, 0.002531611045381891, 0.002471559375061652, 0.0024543103679431737, 0.0024246879934868445, 0.002382800242126406, 0.0023595087884612197, 0.0023554767239134813, 0.002334776422013514, 0.0023024151196364565, 0.002288578628149446, 0.0022753560542144247, 0.0022229731096916516, 0.0021467151588658254, 0.0020786043395708666, 0.002069644227768623, 0.002021456983405925, 0.0019922875976553065, 0.001988488122775499, 0.0019844570322753623, 0.0019717710990763662, 0.001962489492565685, 0.0019486475080913723, 0.0019069844451963824, 0.0018858671546065485, 0.0018756489068540365, 0.0018631814261754645, 0.0018478686391453845, 0.0018447225016090755, 0.0018404294817676845, 0.0018244371441237955, 0.001811331413215877, 0.0017726117708900958, 0.0017428343089356726, 0.0017256439876712263, 0.001701913581856553, 0.0016826491296789332, 0.001665708049220845, 0.0016591965981568528, 0.0016198494217204297, 0.0015958989219669653, 0.0015810387861219673, 0.0015519415128581598, 0.001536812235726903, 0.0015344760223791355, 0.0015239945197504461, 0.001498314898221506, 0.001477216034255233, 0.0014657993026396682, 0.0014037903989826115, 0.0013970376494689318, 0.0013901391369520878, 0.0013697723492205487, 0.0013672762675708847, 0.00134353623999474, 0.0013352317136308054, 0.0013113957395253317, 0.0012627748226848557, 0.0012490570131726193, 0.001241080029704262, 0.0012404334094647986, 0.0012396626119783032, 0.001228817756643808, 0.0012273761739647951, 0.0012210120268279108, 0.0012165613022602098, 0.0012120324623480663, 0.0012109725068365062, 0.0011940289219019339, 0.0011930147249414537, 0.0011700664694398047, 0.00116888418726726, 0.0011656436615227952, 0.0011585844510656935, 0.0011567912455044368, 0.0011530855388379715, 0.0011478309167492773, 0.0011423647655033962, 0.0011390665515384317, 0.0011294100735600356, 0.001127568585381984, 0.0011072550091223042, 0.0011028058289441135, 0.0010987251825167804, 0.0010896335873267133, 0.0010849880658753133, 0.0010696602112283539, 0.0010547008376694347, 0.0010500389103296455, 0.0010489061967511944, 0.001047598393555649, 0.0010319014200448756, 0.0010217638413118697, 0.001019582796705398, 0.0010118380662383112, 0.0010089270370766744, 0.0010041484437732298, 0.0009921257867244744, 0.000984210225040544, 0.000982057247090043, 0.0009723201716904661, 0.000951300420679287, 0.0009509322415579259, 0.0009264409267993759, 0.0009095818673253706, 0.0009030195331814945, 0.0008882387736538196, 0.0008875602043213433, 0.000880567431307917, 0.0008799587673239542, 0.0008761902001869293, 0.0008690295510204542, 0.0008604423093115654, 0.0008602701573107878, 0.0008583194689726114, 0.0008567610048511188, 0.0008535672525738919, 0.0008427458445053736, 0.0008100446176851836, 0.0007611805019382747, 0.0007583756185857622, 0.0007495298629701042, 0.0007351868100384008, 0.0007209153533662408, 0.0007158185772843759, 0.0007021305117183329, 0.0006989182442256591, 0.0006978881414872638, 0.0006837226638975729, 0.000660630909826435, 0.0006111229706945619, 0.0006085881403715902, 0.000580086338955119, 0.0005796906242327381, 0.0005758611801895211, 0.0005498527838196665, 0.0005330590834485525, 0.0005085167698748873, 0.00048320109044330416, 0.000452331814925436, 0.00043479902897938853], \"y\": [\"0\", \"5\", \"14\", \"1\", \"19\", \"148\", \"23\", \"13\", \"18\", \"97\", \"39\", \"17\", \"169\", \"11\", \"54\", \"139\", \"50\", \"56\", \"167\", \"49\", \"29\", \"154\", \"60\", \"127\", \"83\", \"191\", \"52\", \"158\", \"162\", \"31\", \"164\", \"48\", \"120\", \"76\", \"135\", \"36\", \"27\", \"15\", \"43\", \"44\", \"115\", \"16\", \"141\", \"145\", \"136\", \"179\", \"147\", \"112\", \"7\", \"63\", \"107\", \"101\", \"41\", \"118\", \"114\", \"8\", \"156\", \"81\", \"21\", \"6\", \"137\", \"193\", \"78\", \"45\", \"72\", \"160\", \"146\", \"32\", \"109\", \"163\", \"2\", \"175\", \"155\", \"62\", \"70\", \"80\", \"159\", \"106\", \"82\", \"92\", \"173\", \"174\", \"152\", \"100\", \"133\", \"149\", \"35\", \"184\", \"143\", \"96\", \"186\", \"185\", \"130\", \"104\", \"180\", \"12\", \"102\", \"187\", \"129\", \"128\", \"46\", \"10\", \"165\", \"58\", \"123\", \"124\", \"65\", \"178\", \"86\", \"166\", \"74\", \"3\", \"144\", \"25\", \"30\", \"138\", \"117\", \"53\", \"38\", \"89\", \"172\", \"181\", \"77\", \"61\", \"170\", \"90\", \"192\", \"28\", \"168\", \"57\", \"68\", \"176\", \"161\", \"119\", \"66\", \"42\", \"116\", \"196\", \"75\", \"190\", \"182\", \"85\", \"189\", \"73\", \"51\", \"84\", \"188\", \"194\", \"24\", \"4\", \"142\", \"132\", \"9\", \"34\", \"126\", \"95\", \"88\", \"111\", \"40\", \"79\", \"171\", \"140\", \"121\", \"64\", \"93\", \"20\", \"131\", \"55\", \"134\", \"105\", \"98\", \"151\", \"22\", \"195\", \"183\", \"26\", \"94\", \"33\", \"157\", \"59\", \"150\", \"113\", \"177\", \"99\", \"71\", \"122\", \"87\", \"37\", \"47\", \"108\", \"103\", \"125\", \"110\", \"69\", \"153\", \"67\", \"91\"], \"type\": \"bar\", \"uid\": \"7a2bbe85-4aa7-43bc-9b1d-d66a063f46ab\"}], {\"autosize\": false, \"height\": 1000, \"width\": 1000, \"xaxis\": {\"tickfont\": {\"color\": \"black\", \"size\": 12}, \"title\": \"Feature Importances\"}, \"yaxis\": {\"automargin\": true}}, {\"showLink\": true, \"linkText\": \"Export to plot.ly\", \"plotlyServerURL\": \"https://plot.ly\"})});</script>"
      ],
      "text/vnd.plotly.v1+html": [
       "<div id=\"a3ed1b18-0e76-43de-a7d6-40a7e0ad0ff0\" style=\"height: 1000px; width: 1000px;\" class=\"plotly-graph-div\"></div><script type=\"text/javascript\">require([\"plotly\"], function(Plotly) { window.PLOTLYENV=window.PLOTLYENV || {};window.PLOTLYENV.BASE_URL=\"https://plot.ly\";Plotly.newPlot(\"a3ed1b18-0e76-43de-a7d6-40a7e0ad0ff0\", [{\"marker\": {\"color\": \"rgb(158,202,225)\", \"line\": {\"color\": \"rgb(8,48,107)\", \"width\": 1.5}}, \"opacity\": 0.6, \"orientation\": \"h\", \"text\": [0.0849, 0.0648, 0.0645, 0.0631, 0.0551, 0.0542, 0.047, 0.0268, 0.0258, 0.0226, 0.0219, 0.0214, 0.021, 0.0206, 0.0191, 0.0168, 0.0166, 0.0139, 0.0095, 0.0095, 0.0061, 0.0055, 0.0053, 0.0051, 0.005, 0.0048, 0.0047, 0.0047, 0.0045, 0.0044, 0.0044, 0.0043, 0.0042, 0.0042, 0.004, 0.004, 0.0036, 0.0035, 0.0034, 0.0032, 0.0032, 0.0031, 0.0031, 0.0031, 0.003, 0.003, 0.003, 0.003, 0.0029, 0.0029, 0.0028, 0.0028, 0.0028, 0.0027, 0.0026, 0.0026, 0.0026, 0.0025, 0.0025, 0.0025, 0.0024, 0.0024, 0.0024, 0.0024, 0.0023, 0.0023, 0.0023, 0.0023, 0.0022, 0.0021, 0.0021, 0.0021, 0.002, 0.002, 0.002, 0.002, 0.002, 0.002, 0.0019, 0.0019, 0.0019, 0.0019, 0.0019, 0.0018, 0.0018, 0.0018, 0.0018, 0.0018, 0.0018, 0.0017, 0.0017, 0.0017, 0.0017, 0.0017, 0.0017, 0.0016, 0.0016, 0.0016, 0.0016, 0.0015, 0.0015, 0.0015, 0.0015, 0.0015, 0.0015, 0.0014, 0.0014, 0.0014, 0.0014, 0.0014, 0.0013, 0.0013, 0.0013, 0.0013, 0.0012, 0.0012, 0.0012, 0.0012, 0.0012, 0.0012, 0.0012, 0.0012, 0.0012, 0.0012, 0.0012, 0.0012, 0.0012, 0.0012, 0.0012, 0.0012, 0.0012, 0.0012, 0.0011, 0.0011, 0.0011, 0.0011, 0.0011, 0.0011, 0.0011, 0.0011, 0.0011, 0.0011, 0.0011, 0.0011, 0.0011, 0.001, 0.001, 0.001, 0.001, 0.001, 0.001, 0.001, 0.001, 0.001, 0.001, 0.001, 0.001, 0.001, 0.001, 0.0009, 0.0009, 0.0009, 0.0009, 0.0009, 0.0009, 0.0009, 0.0009, 0.0009, 0.0009, 0.0009, 0.0009, 0.0009, 0.0009, 0.0008, 0.0008, 0.0008, 0.0008, 0.0007, 0.0007, 0.0007, 0.0007, 0.0007, 0.0007, 0.0007, 0.0007, 0.0007, 0.0006, 0.0006, 0.0006, 0.0006, 0.0006, 0.0005, 0.0005, 0.0005, 0.0005, 0.0005, 0.0004], \"textposition\": \"outside\", \"x\": [0.08489539021764812, 0.0648063335821843, 0.06454349340099112, 0.06307066039041677, 0.05511216632980711, 0.054209064146408956, 0.04703435943578961, 0.026771738727250284, 0.025827517712968935, 0.02263808281296515, 0.021946937644135737, 0.02139183860206287, 0.02101178918950019, 0.02059830534556231, 0.019146422342796364, 0.016802039563312953, 0.016599500538562482, 0.013892056199189446, 0.009537165229716179, 0.009462407550310933, 0.006082759692215597, 0.005501263686603563, 0.0053287025579582025, 0.00509573564251495, 0.004974002003610273, 0.004823009732030139, 0.004745430756185193, 0.004657972141895085, 0.0044629556962467315, 0.004409611475041217, 0.004381164889207699, 0.004347044056633878, 0.004231404060196626, 0.004204401269260116, 0.004017446484909444, 0.004007807152132408, 0.0035791216548728675, 0.003475466812478318, 0.0033719449373359545, 0.0031813190049961087, 0.003177697886808726, 0.0031423206435200524, 0.0031143009241074012, 0.003073706059605988, 0.0030063719515681774, 0.0029868318602635164, 0.0029721578722696172, 0.0029656928470026414, 0.002930334578401056, 0.0029163823877844954, 0.0028418981494863797, 0.0028130314823612028, 0.0027646365792127967, 0.0027419884998874976, 0.002643763646390099, 0.002605307849145103, 0.002558893930101669, 0.002531611045381891, 0.002471559375061652, 0.0024543103679431737, 0.0024246879934868445, 0.002382800242126406, 0.0023595087884612197, 0.0023554767239134813, 0.002334776422013514, 0.0023024151196364565, 0.002288578628149446, 0.0022753560542144247, 0.0022229731096916516, 0.0021467151588658254, 0.0020786043395708666, 0.002069644227768623, 0.002021456983405925, 0.0019922875976553065, 0.001988488122775499, 0.0019844570322753623, 0.0019717710990763662, 0.001962489492565685, 0.0019486475080913723, 0.0019069844451963824, 0.0018858671546065485, 0.0018756489068540365, 0.0018631814261754645, 0.0018478686391453845, 0.0018447225016090755, 0.0018404294817676845, 0.0018244371441237955, 0.001811331413215877, 0.0017726117708900958, 0.0017428343089356726, 0.0017256439876712263, 0.001701913581856553, 0.0016826491296789332, 0.001665708049220845, 0.0016591965981568528, 0.0016198494217204297, 0.0015958989219669653, 0.0015810387861219673, 0.0015519415128581598, 0.001536812235726903, 0.0015344760223791355, 0.0015239945197504461, 0.001498314898221506, 0.001477216034255233, 0.0014657993026396682, 0.0014037903989826115, 0.0013970376494689318, 0.0013901391369520878, 0.0013697723492205487, 0.0013672762675708847, 0.00134353623999474, 0.0013352317136308054, 0.0013113957395253317, 0.0012627748226848557, 0.0012490570131726193, 0.001241080029704262, 0.0012404334094647986, 0.0012396626119783032, 0.001228817756643808, 0.0012273761739647951, 0.0012210120268279108, 0.0012165613022602098, 0.0012120324623480663, 0.0012109725068365062, 0.0011940289219019339, 0.0011930147249414537, 0.0011700664694398047, 0.00116888418726726, 0.0011656436615227952, 0.0011585844510656935, 0.0011567912455044368, 0.0011530855388379715, 0.0011478309167492773, 0.0011423647655033962, 0.0011390665515384317, 0.0011294100735600356, 0.001127568585381984, 0.0011072550091223042, 0.0011028058289441135, 0.0010987251825167804, 0.0010896335873267133, 0.0010849880658753133, 0.0010696602112283539, 0.0010547008376694347, 0.0010500389103296455, 0.0010489061967511944, 0.001047598393555649, 0.0010319014200448756, 0.0010217638413118697, 0.001019582796705398, 0.0010118380662383112, 0.0010089270370766744, 0.0010041484437732298, 0.0009921257867244744, 0.000984210225040544, 0.000982057247090043, 0.0009723201716904661, 0.000951300420679287, 0.0009509322415579259, 0.0009264409267993759, 0.0009095818673253706, 0.0009030195331814945, 0.0008882387736538196, 0.0008875602043213433, 0.000880567431307917, 0.0008799587673239542, 0.0008761902001869293, 0.0008690295510204542, 0.0008604423093115654, 0.0008602701573107878, 0.0008583194689726114, 0.0008567610048511188, 0.0008535672525738919, 0.0008427458445053736, 0.0008100446176851836, 0.0007611805019382747, 0.0007583756185857622, 0.0007495298629701042, 0.0007351868100384008, 0.0007209153533662408, 0.0007158185772843759, 0.0007021305117183329, 0.0006989182442256591, 0.0006978881414872638, 0.0006837226638975729, 0.000660630909826435, 0.0006111229706945619, 0.0006085881403715902, 0.000580086338955119, 0.0005796906242327381, 0.0005758611801895211, 0.0005498527838196665, 0.0005330590834485525, 0.0005085167698748873, 0.00048320109044330416, 0.000452331814925436, 0.00043479902897938853], \"y\": [\"0\", \"5\", \"14\", \"1\", \"19\", \"148\", \"23\", \"13\", \"18\", \"97\", \"39\", \"17\", \"169\", \"11\", \"54\", \"139\", \"50\", \"56\", \"167\", \"49\", \"29\", \"154\", \"60\", \"127\", \"83\", \"191\", \"52\", \"158\", \"162\", \"31\", \"164\", \"48\", \"120\", \"76\", \"135\", \"36\", \"27\", \"15\", \"43\", \"44\", \"115\", \"16\", \"141\", \"145\", \"136\", \"179\", \"147\", \"112\", \"7\", \"63\", \"107\", \"101\", \"41\", \"118\", \"114\", \"8\", \"156\", \"81\", \"21\", \"6\", \"137\", \"193\", \"78\", \"45\", \"72\", \"160\", \"146\", \"32\", \"109\", \"163\", \"2\", \"175\", \"155\", \"62\", \"70\", \"80\", \"159\", \"106\", \"82\", \"92\", \"173\", \"174\", \"152\", \"100\", \"133\", \"149\", \"35\", \"184\", \"143\", \"96\", \"186\", \"185\", \"130\", \"104\", \"180\", \"12\", \"102\", \"187\", \"129\", \"128\", \"46\", \"10\", \"165\", \"58\", \"123\", \"124\", \"65\", \"178\", \"86\", \"166\", \"74\", \"3\", \"144\", \"25\", \"30\", \"138\", \"117\", \"53\", \"38\", \"89\", \"172\", \"181\", \"77\", \"61\", \"170\", \"90\", \"192\", \"28\", \"168\", \"57\", \"68\", \"176\", \"161\", \"119\", \"66\", \"42\", \"116\", \"196\", \"75\", \"190\", \"182\", \"85\", \"189\", \"73\", \"51\", \"84\", \"188\", \"194\", \"24\", \"4\", \"142\", \"132\", \"9\", \"34\", \"126\", \"95\", \"88\", \"111\", \"40\", \"79\", \"171\", \"140\", \"121\", \"64\", \"93\", \"20\", \"131\", \"55\", \"134\", \"105\", \"98\", \"151\", \"22\", \"195\", \"183\", \"26\", \"94\", \"33\", \"157\", \"59\", \"150\", \"113\", \"177\", \"99\", \"71\", \"122\", \"87\", \"37\", \"47\", \"108\", \"103\", \"125\", \"110\", \"69\", \"153\", \"67\", \"91\"], \"type\": \"bar\", \"uid\": \"7a2bbe85-4aa7-43bc-9b1d-d66a063f46ab\"}], {\"autosize\": false, \"height\": 1000, \"width\": 1000, \"xaxis\": {\"tickfont\": {\"color\": \"black\", \"size\": 12}, \"title\": \"Feature Importances\"}, \"yaxis\": {\"automargin\": true}}, {\"showLink\": true, \"linkText\": \"Export to plot.ly\", \"plotlyServerURL\": \"https://plot.ly\"})});</script>"
      ]
     },
     "metadata": {},
     "output_type": "display_data"
    },
    {
     "name": "stdout",
     "output_type": "stream",
     "text": [
      "\n",
      "\n",
      "\u001b[1mAdaoost Classifier\u001b[0m\n",
      "Accuracy of the model for training data is: 0.890963245003\n",
      "Confusion Matrix for training data is:\n"
     ]
    },
    {
     "data": {
      "text/plain": [
       "Predicted  False  True  __all__\n",
       "Actual                         \n",
       "False      24915  2923    27838\n",
       "True         628  4101     4729\n",
       "__all__    25543  7024    32567"
      ]
     },
     "metadata": {},
     "output_type": "display_data"
    },
    {
     "name": "stdout",
     "output_type": "stream",
     "text": [
      "Accuracy of the model for test data is: 0.888970768853\n",
      "Confusion Matrix for test data is:\n"
     ]
    },
    {
     "data": {
      "text/plain": [
       "Predicted  False  True  __all__\n",
       "Actual                         \n",
       "False       6208   732     6940\n",
       "True         172  1030     1202\n",
       "__all__     6380  1762     8142"
      ]
     },
     "metadata": {},
     "output_type": "display_data"
    },
    {
     "data": {
      "application/vnd.plotly.v1+json": {
       "config": {
        "linkText": "Export to plot.ly",
        "plotlyServerURL": "https://plot.ly",
        "showLink": true
       },
       "data": [
        {
         "marker": {
          "color": "rgb(158,202,225)",
          "line": {
           "color": "rgb(8,48,107)",
           "width": 1.5
          }
         },
         "opacity": 0.6,
         "orientation": "h",
         "text": [
          0.08,
          0.04,
          0.04,
          0.04,
          0.04,
          0.02,
          0.02,
          0.02,
          0.02,
          0.02,
          0.02,
          0.02,
          0.02,
          0.02,
          0.02,
          0.02,
          0.02,
          0.02,
          0.02,
          0.02,
          0.02,
          0.02,
          0.02,
          0.02,
          0.02,
          0.02,
          0.02,
          0.02,
          0.02,
          0.02,
          0.02,
          0.02,
          0.02,
          0.02,
          0.02,
          0.02,
          0.02,
          0.02,
          0.02,
          0.02,
          0.02,
          0.02,
          0.02,
          0,
          0,
          0,
          0,
          0,
          0,
          0,
          0,
          0,
          0,
          0,
          0,
          0,
          0,
          0,
          0,
          0,
          0,
          0,
          0,
          0,
          0,
          0,
          0,
          0,
          0,
          0,
          0,
          0,
          0,
          0,
          0,
          0,
          0,
          0,
          0,
          0,
          0,
          0,
          0,
          0,
          0,
          0,
          0,
          0,
          0,
          0,
          0,
          0,
          0,
          0,
          0,
          0,
          0,
          0,
          0,
          0,
          0,
          0,
          0,
          0,
          0,
          0,
          0,
          0,
          0,
          0,
          0,
          0,
          0,
          0,
          0,
          0,
          0,
          0,
          0,
          0,
          0,
          0,
          0,
          0,
          0,
          0,
          0,
          0,
          0,
          0,
          0,
          0,
          0,
          0,
          0,
          0,
          0,
          0,
          0,
          0,
          0,
          0,
          0,
          0,
          0,
          0,
          0,
          0,
          0,
          0,
          0,
          0,
          0,
          0,
          0,
          0,
          0,
          0,
          0,
          0,
          0,
          0,
          0,
          0,
          0,
          0,
          0,
          0,
          0,
          0,
          0,
          0,
          0,
          0,
          0,
          0,
          0,
          0,
          0,
          0,
          0,
          0,
          0,
          0,
          0,
          0,
          0,
          0,
          0,
          0,
          0,
          0,
          0,
          0,
          0,
          0,
          0
         ],
         "textposition": "outside",
         "type": "bar",
         "uid": "e7bd1243-8c46-47ba-ab9f-2fc5b06438e4",
         "x": [
          0.08,
          0.04,
          0.04,
          0.04,
          0.04,
          0.02,
          0.02,
          0.02,
          0.02,
          0.02,
          0.02,
          0.02,
          0.02,
          0.02,
          0.02,
          0.02,
          0.02,
          0.02,
          0.02,
          0.02,
          0.02,
          0.02,
          0.02,
          0.02,
          0.02,
          0.02,
          0.02,
          0.02,
          0.02,
          0.02,
          0.02,
          0.02,
          0.02,
          0.02,
          0.02,
          0.02,
          0.02,
          0.02,
          0.02,
          0.02,
          0.02,
          0.02,
          0.02,
          0,
          0,
          0,
          0,
          0,
          0,
          0,
          0,
          0,
          0,
          0,
          0,
          0,
          0,
          0,
          0,
          0,
          0,
          0,
          0,
          0,
          0,
          0,
          0,
          0,
          0,
          0,
          0,
          0,
          0,
          0,
          0,
          0,
          0,
          0,
          0,
          0,
          0,
          0,
          0,
          0,
          0,
          0,
          0,
          0,
          0,
          0,
          0,
          0,
          0,
          0,
          0,
          0,
          0,
          0,
          0,
          0,
          0,
          0,
          0,
          0,
          0,
          0,
          0,
          0,
          0,
          0,
          0,
          0,
          0,
          0,
          0,
          0,
          0,
          0,
          0,
          0,
          0,
          0,
          0,
          0,
          0,
          0,
          0,
          0,
          0,
          0,
          0,
          0,
          0,
          0,
          0,
          0,
          0,
          0,
          0,
          0,
          0,
          0,
          0,
          0,
          0,
          0,
          0,
          0,
          0,
          0,
          0,
          0,
          0,
          0,
          0,
          0,
          0,
          0,
          0,
          0,
          0,
          0,
          0,
          0,
          0,
          0,
          0,
          0,
          0,
          0,
          0,
          0,
          0,
          0,
          0,
          0,
          0,
          0,
          0,
          0,
          0,
          0,
          0,
          0,
          0,
          0,
          0,
          0,
          0,
          0,
          0,
          0,
          0,
          0,
          0,
          0,
          0
         ],
         "y": [
          "0",
          "185",
          "100",
          "24",
          "18",
          "42",
          "45",
          "47",
          "49",
          "74",
          "60",
          "62",
          "38",
          "65",
          "37",
          "66",
          "69",
          "71",
          "51",
          "83",
          "35",
          "86",
          "88",
          "119",
          "128",
          "135",
          "141",
          "145",
          "146",
          "153",
          "160",
          "163",
          "186",
          "193",
          "36",
          "196",
          "3",
          "14",
          "2",
          "31",
          "12",
          "27",
          "15",
          "147",
          "10",
          "142",
          "143",
          "144",
          "9",
          "8",
          "34",
          "139",
          "148",
          "149",
          "150",
          "151",
          "152",
          "7",
          "154",
          "140",
          "136",
          "138",
          "137",
          "121",
          "122",
          "123",
          "124",
          "125",
          "126",
          "127",
          "129",
          "130",
          "131",
          "132",
          "133",
          "134",
          "11",
          "156",
          "155",
          "158",
          "157",
          "4",
          "178",
          "179",
          "180",
          "181",
          "182",
          "183",
          "184",
          "187",
          "13",
          "188",
          "189",
          "190",
          "191",
          "192",
          "194",
          "195",
          "177",
          "176",
          "175",
          "174",
          "159",
          "6",
          "161",
          "162",
          "5",
          "164",
          "165",
          "166",
          "167",
          "168",
          "169",
          "170",
          "171",
          "172",
          "173",
          "120",
          "116",
          "118",
          "67",
          "26",
          "61",
          "25",
          "63",
          "64",
          "23",
          "22",
          "68",
          "58",
          "21",
          "70",
          "20",
          "72",
          "73",
          "19",
          "75",
          "59",
          "57",
          "117",
          "46",
          "32",
          "39",
          "40",
          "41",
          "43",
          "44",
          "30",
          "29",
          "56",
          "48",
          "28",
          "50",
          "52",
          "53",
          "54",
          "55",
          "76",
          "77",
          "78",
          "108",
          "101",
          "102",
          "103",
          "104",
          "105",
          "106",
          "107",
          "109",
          "79",
          "110",
          "111",
          "112",
          "113",
          "114",
          "115",
          "33",
          "99",
          "1",
          "97",
          "96",
          "80",
          "81",
          "82",
          "17",
          "84",
          "85",
          "16",
          "87",
          "89",
          "90",
          "91",
          "92",
          "93",
          "94",
          "95",
          "98"
         ]
        }
       ],
       "layout": {
        "autosize": false,
        "height": 1000,
        "width": 1000,
        "xaxis": {
         "tickfont": {
          "color": "black",
          "size": 12
         },
         "title": "Feature Importances"
        },
        "yaxis": {
         "automargin": true
        }
       }
      },
      "text/html": [
       "<div id=\"fe97b31f-4044-4102-b0e4-3aff95d14293\" style=\"height: 1000px; width: 1000px;\" class=\"plotly-graph-div\"></div><script type=\"text/javascript\">require([\"plotly\"], function(Plotly) { window.PLOTLYENV=window.PLOTLYENV || {};window.PLOTLYENV.BASE_URL=\"https://plot.ly\";Plotly.newPlot(\"fe97b31f-4044-4102-b0e4-3aff95d14293\", [{\"marker\": {\"color\": \"rgb(158,202,225)\", \"line\": {\"color\": \"rgb(8,48,107)\", \"width\": 1.5}}, \"opacity\": 0.6, \"orientation\": \"h\", \"text\": [0.08, 0.04, 0.04, 0.04, 0.04, 0.02, 0.02, 0.02, 0.02, 0.02, 0.02, 0.02, 0.02, 0.02, 0.02, 0.02, 0.02, 0.02, 0.02, 0.02, 0.02, 0.02, 0.02, 0.02, 0.02, 0.02, 0.02, 0.02, 0.02, 0.02, 0.02, 0.02, 0.02, 0.02, 0.02, 0.02, 0.02, 0.02, 0.02, 0.02, 0.02, 0.02, 0.02, 0.0, 0.0, 0.0, 0.0, 0.0, 0.0, 0.0, 0.0, 0.0, 0.0, 0.0, 0.0, 0.0, 0.0, 0.0, 0.0, 0.0, 0.0, 0.0, 0.0, 0.0, 0.0, 0.0, 0.0, 0.0, 0.0, 0.0, 0.0, 0.0, 0.0, 0.0, 0.0, 0.0, 0.0, 0.0, 0.0, 0.0, 0.0, 0.0, 0.0, 0.0, 0.0, 0.0, 0.0, 0.0, 0.0, 0.0, 0.0, 0.0, 0.0, 0.0, 0.0, 0.0, 0.0, 0.0, 0.0, 0.0, 0.0, 0.0, 0.0, 0.0, 0.0, 0.0, 0.0, 0.0, 0.0, 0.0, 0.0, 0.0, 0.0, 0.0, 0.0, 0.0, 0.0, 0.0, 0.0, 0.0, 0.0, 0.0, 0.0, 0.0, 0.0, 0.0, 0.0, 0.0, 0.0, 0.0, 0.0, 0.0, 0.0, 0.0, 0.0, 0.0, 0.0, 0.0, 0.0, 0.0, 0.0, 0.0, 0.0, 0.0, 0.0, 0.0, 0.0, 0.0, 0.0, 0.0, 0.0, 0.0, 0.0, 0.0, 0.0, 0.0, 0.0, 0.0, 0.0, 0.0, 0.0, 0.0, 0.0, 0.0, 0.0, 0.0, 0.0, 0.0, 0.0, 0.0, 0.0, 0.0, 0.0, 0.0, 0.0, 0.0, 0.0, 0.0, 0.0, 0.0, 0.0, 0.0, 0.0, 0.0, 0.0, 0.0, 0.0, 0.0, 0.0, 0.0, 0.0, 0.0, 0.0, 0.0, 0.0, 0.0, 0.0], \"textposition\": \"outside\", \"x\": [0.08, 0.04, 0.04, 0.04, 0.04, 0.02, 0.02, 0.02, 0.02, 0.02, 0.02, 0.02, 0.02, 0.02, 0.02, 0.02, 0.02, 0.02, 0.02, 0.02, 0.02, 0.02, 0.02, 0.02, 0.02, 0.02, 0.02, 0.02, 0.02, 0.02, 0.02, 0.02, 0.02, 0.02, 0.02, 0.02, 0.02, 0.02, 0.02, 0.02, 0.02, 0.02, 0.02, 0.0, 0.0, 0.0, 0.0, 0.0, 0.0, 0.0, 0.0, 0.0, 0.0, 0.0, 0.0, 0.0, 0.0, 0.0, 0.0, 0.0, 0.0, 0.0, 0.0, 0.0, 0.0, 0.0, 0.0, 0.0, 0.0, 0.0, 0.0, 0.0, 0.0, 0.0, 0.0, 0.0, 0.0, 0.0, 0.0, 0.0, 0.0, 0.0, 0.0, 0.0, 0.0, 0.0, 0.0, 0.0, 0.0, 0.0, 0.0, 0.0, 0.0, 0.0, 0.0, 0.0, 0.0, 0.0, 0.0, 0.0, 0.0, 0.0, 0.0, 0.0, 0.0, 0.0, 0.0, 0.0, 0.0, 0.0, 0.0, 0.0, 0.0, 0.0, 0.0, 0.0, 0.0, 0.0, 0.0, 0.0, 0.0, 0.0, 0.0, 0.0, 0.0, 0.0, 0.0, 0.0, 0.0, 0.0, 0.0, 0.0, 0.0, 0.0, 0.0, 0.0, 0.0, 0.0, 0.0, 0.0, 0.0, 0.0, 0.0, 0.0, 0.0, 0.0, 0.0, 0.0, 0.0, 0.0, 0.0, 0.0, 0.0, 0.0, 0.0, 0.0, 0.0, 0.0, 0.0, 0.0, 0.0, 0.0, 0.0, 0.0, 0.0, 0.0, 0.0, 0.0, 0.0, 0.0, 0.0, 0.0, 0.0, 0.0, 0.0, 0.0, 0.0, 0.0, 0.0, 0.0, 0.0, 0.0, 0.0, 0.0, 0.0, 0.0, 0.0, 0.0, 0.0, 0.0, 0.0, 0.0, 0.0, 0.0, 0.0, 0.0, 0.0], \"y\": [\"0\", \"185\", \"100\", \"24\", \"18\", \"42\", \"45\", \"47\", \"49\", \"74\", \"60\", \"62\", \"38\", \"65\", \"37\", \"66\", \"69\", \"71\", \"51\", \"83\", \"35\", \"86\", \"88\", \"119\", \"128\", \"135\", \"141\", \"145\", \"146\", \"153\", \"160\", \"163\", \"186\", \"193\", \"36\", \"196\", \"3\", \"14\", \"2\", \"31\", \"12\", \"27\", \"15\", \"147\", \"10\", \"142\", \"143\", \"144\", \"9\", \"8\", \"34\", \"139\", \"148\", \"149\", \"150\", \"151\", \"152\", \"7\", \"154\", \"140\", \"136\", \"138\", \"137\", \"121\", \"122\", \"123\", \"124\", \"125\", \"126\", \"127\", \"129\", \"130\", \"131\", \"132\", \"133\", \"134\", \"11\", \"156\", \"155\", \"158\", \"157\", \"4\", \"178\", \"179\", \"180\", \"181\", \"182\", \"183\", \"184\", \"187\", \"13\", \"188\", \"189\", \"190\", \"191\", \"192\", \"194\", \"195\", \"177\", \"176\", \"175\", \"174\", \"159\", \"6\", \"161\", \"162\", \"5\", \"164\", \"165\", \"166\", \"167\", \"168\", \"169\", \"170\", \"171\", \"172\", \"173\", \"120\", \"116\", \"118\", \"67\", \"26\", \"61\", \"25\", \"63\", \"64\", \"23\", \"22\", \"68\", \"58\", \"21\", \"70\", \"20\", \"72\", \"73\", \"19\", \"75\", \"59\", \"57\", \"117\", \"46\", \"32\", \"39\", \"40\", \"41\", \"43\", \"44\", \"30\", \"29\", \"56\", \"48\", \"28\", \"50\", \"52\", \"53\", \"54\", \"55\", \"76\", \"77\", \"78\", \"108\", \"101\", \"102\", \"103\", \"104\", \"105\", \"106\", \"107\", \"109\", \"79\", \"110\", \"111\", \"112\", \"113\", \"114\", \"115\", \"33\", \"99\", \"1\", \"97\", \"96\", \"80\", \"81\", \"82\", \"17\", \"84\", \"85\", \"16\", \"87\", \"89\", \"90\", \"91\", \"92\", \"93\", \"94\", \"95\", \"98\"], \"type\": \"bar\", \"uid\": \"e7bd1243-8c46-47ba-ab9f-2fc5b06438e4\"}], {\"autosize\": false, \"height\": 1000, \"width\": 1000, \"xaxis\": {\"tickfont\": {\"color\": \"black\", \"size\": 12}, \"title\": \"Feature Importances\"}, \"yaxis\": {\"automargin\": true}}, {\"showLink\": true, \"linkText\": \"Export to plot.ly\", \"plotlyServerURL\": \"https://plot.ly\"})});</script>"
      ],
      "text/vnd.plotly.v1+html": [
       "<div id=\"fe97b31f-4044-4102-b0e4-3aff95d14293\" style=\"height: 1000px; width: 1000px;\" class=\"plotly-graph-div\"></div><script type=\"text/javascript\">require([\"plotly\"], function(Plotly) { window.PLOTLYENV=window.PLOTLYENV || {};window.PLOTLYENV.BASE_URL=\"https://plot.ly\";Plotly.newPlot(\"fe97b31f-4044-4102-b0e4-3aff95d14293\", [{\"marker\": {\"color\": \"rgb(158,202,225)\", \"line\": {\"color\": \"rgb(8,48,107)\", \"width\": 1.5}}, \"opacity\": 0.6, \"orientation\": \"h\", \"text\": [0.08, 0.04, 0.04, 0.04, 0.04, 0.02, 0.02, 0.02, 0.02, 0.02, 0.02, 0.02, 0.02, 0.02, 0.02, 0.02, 0.02, 0.02, 0.02, 0.02, 0.02, 0.02, 0.02, 0.02, 0.02, 0.02, 0.02, 0.02, 0.02, 0.02, 0.02, 0.02, 0.02, 0.02, 0.02, 0.02, 0.02, 0.02, 0.02, 0.02, 0.02, 0.02, 0.02, 0.0, 0.0, 0.0, 0.0, 0.0, 0.0, 0.0, 0.0, 0.0, 0.0, 0.0, 0.0, 0.0, 0.0, 0.0, 0.0, 0.0, 0.0, 0.0, 0.0, 0.0, 0.0, 0.0, 0.0, 0.0, 0.0, 0.0, 0.0, 0.0, 0.0, 0.0, 0.0, 0.0, 0.0, 0.0, 0.0, 0.0, 0.0, 0.0, 0.0, 0.0, 0.0, 0.0, 0.0, 0.0, 0.0, 0.0, 0.0, 0.0, 0.0, 0.0, 0.0, 0.0, 0.0, 0.0, 0.0, 0.0, 0.0, 0.0, 0.0, 0.0, 0.0, 0.0, 0.0, 0.0, 0.0, 0.0, 0.0, 0.0, 0.0, 0.0, 0.0, 0.0, 0.0, 0.0, 0.0, 0.0, 0.0, 0.0, 0.0, 0.0, 0.0, 0.0, 0.0, 0.0, 0.0, 0.0, 0.0, 0.0, 0.0, 0.0, 0.0, 0.0, 0.0, 0.0, 0.0, 0.0, 0.0, 0.0, 0.0, 0.0, 0.0, 0.0, 0.0, 0.0, 0.0, 0.0, 0.0, 0.0, 0.0, 0.0, 0.0, 0.0, 0.0, 0.0, 0.0, 0.0, 0.0, 0.0, 0.0, 0.0, 0.0, 0.0, 0.0, 0.0, 0.0, 0.0, 0.0, 0.0, 0.0, 0.0, 0.0, 0.0, 0.0, 0.0, 0.0, 0.0, 0.0, 0.0, 0.0, 0.0, 0.0, 0.0, 0.0, 0.0, 0.0, 0.0, 0.0, 0.0, 0.0, 0.0, 0.0, 0.0, 0.0], \"textposition\": \"outside\", \"x\": [0.08, 0.04, 0.04, 0.04, 0.04, 0.02, 0.02, 0.02, 0.02, 0.02, 0.02, 0.02, 0.02, 0.02, 0.02, 0.02, 0.02, 0.02, 0.02, 0.02, 0.02, 0.02, 0.02, 0.02, 0.02, 0.02, 0.02, 0.02, 0.02, 0.02, 0.02, 0.02, 0.02, 0.02, 0.02, 0.02, 0.02, 0.02, 0.02, 0.02, 0.02, 0.02, 0.02, 0.0, 0.0, 0.0, 0.0, 0.0, 0.0, 0.0, 0.0, 0.0, 0.0, 0.0, 0.0, 0.0, 0.0, 0.0, 0.0, 0.0, 0.0, 0.0, 0.0, 0.0, 0.0, 0.0, 0.0, 0.0, 0.0, 0.0, 0.0, 0.0, 0.0, 0.0, 0.0, 0.0, 0.0, 0.0, 0.0, 0.0, 0.0, 0.0, 0.0, 0.0, 0.0, 0.0, 0.0, 0.0, 0.0, 0.0, 0.0, 0.0, 0.0, 0.0, 0.0, 0.0, 0.0, 0.0, 0.0, 0.0, 0.0, 0.0, 0.0, 0.0, 0.0, 0.0, 0.0, 0.0, 0.0, 0.0, 0.0, 0.0, 0.0, 0.0, 0.0, 0.0, 0.0, 0.0, 0.0, 0.0, 0.0, 0.0, 0.0, 0.0, 0.0, 0.0, 0.0, 0.0, 0.0, 0.0, 0.0, 0.0, 0.0, 0.0, 0.0, 0.0, 0.0, 0.0, 0.0, 0.0, 0.0, 0.0, 0.0, 0.0, 0.0, 0.0, 0.0, 0.0, 0.0, 0.0, 0.0, 0.0, 0.0, 0.0, 0.0, 0.0, 0.0, 0.0, 0.0, 0.0, 0.0, 0.0, 0.0, 0.0, 0.0, 0.0, 0.0, 0.0, 0.0, 0.0, 0.0, 0.0, 0.0, 0.0, 0.0, 0.0, 0.0, 0.0, 0.0, 0.0, 0.0, 0.0, 0.0, 0.0, 0.0, 0.0, 0.0, 0.0, 0.0, 0.0, 0.0, 0.0, 0.0, 0.0, 0.0, 0.0, 0.0], \"y\": [\"0\", \"185\", \"100\", \"24\", \"18\", \"42\", \"45\", \"47\", \"49\", \"74\", \"60\", \"62\", \"38\", \"65\", \"37\", \"66\", \"69\", \"71\", \"51\", \"83\", \"35\", \"86\", \"88\", \"119\", \"128\", \"135\", \"141\", \"145\", \"146\", \"153\", \"160\", \"163\", \"186\", \"193\", \"36\", \"196\", \"3\", \"14\", \"2\", \"31\", \"12\", \"27\", \"15\", \"147\", \"10\", \"142\", \"143\", \"144\", \"9\", \"8\", \"34\", \"139\", \"148\", \"149\", \"150\", \"151\", \"152\", \"7\", \"154\", \"140\", \"136\", \"138\", \"137\", \"121\", \"122\", \"123\", \"124\", \"125\", \"126\", \"127\", \"129\", \"130\", \"131\", \"132\", \"133\", \"134\", \"11\", \"156\", \"155\", \"158\", \"157\", \"4\", \"178\", \"179\", \"180\", \"181\", \"182\", \"183\", \"184\", \"187\", \"13\", \"188\", \"189\", \"190\", \"191\", \"192\", \"194\", \"195\", \"177\", \"176\", \"175\", \"174\", \"159\", \"6\", \"161\", \"162\", \"5\", \"164\", \"165\", \"166\", \"167\", \"168\", \"169\", \"170\", \"171\", \"172\", \"173\", \"120\", \"116\", \"118\", \"67\", \"26\", \"61\", \"25\", \"63\", \"64\", \"23\", \"22\", \"68\", \"58\", \"21\", \"70\", \"20\", \"72\", \"73\", \"19\", \"75\", \"59\", \"57\", \"117\", \"46\", \"32\", \"39\", \"40\", \"41\", \"43\", \"44\", \"30\", \"29\", \"56\", \"48\", \"28\", \"50\", \"52\", \"53\", \"54\", \"55\", \"76\", \"77\", \"78\", \"108\", \"101\", \"102\", \"103\", \"104\", \"105\", \"106\", \"107\", \"109\", \"79\", \"110\", \"111\", \"112\", \"113\", \"114\", \"115\", \"33\", \"99\", \"1\", \"97\", \"96\", \"80\", \"81\", \"82\", \"17\", \"84\", \"85\", \"16\", \"87\", \"89\", \"90\", \"91\", \"92\", \"93\", \"94\", \"95\", \"98\"], \"type\": \"bar\", \"uid\": \"e7bd1243-8c46-47ba-ab9f-2fc5b06438e4\"}], {\"autosize\": false, \"height\": 1000, \"width\": 1000, \"xaxis\": {\"tickfont\": {\"color\": \"black\", \"size\": 12}, \"title\": \"Feature Importances\"}, \"yaxis\": {\"automargin\": true}}, {\"showLink\": true, \"linkText\": \"Export to plot.ly\", \"plotlyServerURL\": \"https://plot.ly\"})});</script>"
      ]
     },
     "metadata": {},
     "output_type": "display_data"
    },
    {
     "name": "stdout",
     "output_type": "stream",
     "text": [
      "\n",
      "\n",
      "\u001b[1mGradientBoosting Classifier\u001b[0m\n",
      "Accuracy of the model for training data is: 0.898793256978\n",
      "Confusion Matrix for training data is:\n"
     ]
    },
    {
     "data": {
      "text/plain": [
       "Predicted  False  True  __all__\n",
       "Actual                         \n",
       "False      25036  2802    27838\n",
       "True         494  4235     4729\n",
       "__all__    25530  7037    32567"
      ]
     },
     "metadata": {},
     "output_type": "display_data"
    },
    {
     "name": "stdout",
     "output_type": "stream",
     "text": [
      "Accuracy of the model for test data is: 0.894374846475\n",
      "Confusion Matrix for test data is:\n"
     ]
    },
    {
     "data": {
      "text/plain": [
       "Predicted  False  True  __all__\n",
       "Actual                         \n",
       "False       6217   723     6940\n",
       "True         137  1065     1202\n",
       "__all__     6354  1788     8142"
      ]
     },
     "metadata": {},
     "output_type": "display_data"
    },
    {
     "data": {
      "application/vnd.plotly.v1+json": {
       "config": {
        "linkText": "Export to plot.ly",
        "plotlyServerURL": "https://plot.ly",
        "showLink": true
       },
       "data": [
        {
         "marker": {
          "color": "rgb(158,202,225)",
          "line": {
           "color": "rgb(8,48,107)",
           "width": 1.5
          }
         },
         "opacity": 0.6,
         "orientation": "h",
         "text": [
          0.8048,
          0.0337,
          0.0217,
          0.0088,
          0.0086,
          0.0075,
          0.0071,
          0.0067,
          0.0059,
          0.0047,
          0.0045,
          0.0045,
          0.0044,
          0.0036,
          0.0033,
          0.0028,
          0.0028,
          0.0027,
          0.0026,
          0.0023,
          0.0023,
          0.0023,
          0.0022,
          0.0022,
          0.0021,
          0.0019,
          0.0017,
          0.0017,
          0.0017,
          0.0015,
          0.0014,
          0.0014,
          0.0014,
          0.0014,
          0.0013,
          0.0012,
          0.0012,
          0.0012,
          0.0011,
          0.0011,
          0.0011,
          0.0011,
          0.001,
          0.0009,
          0.0009,
          0.0009,
          0.0009,
          0.0008,
          0.0008,
          0.0008,
          0.0007,
          0.0007,
          0.0006,
          0.0006,
          0.0006,
          0.0005,
          0.0005,
          0.0005,
          0.0005,
          0.0005,
          0.0004,
          0.0004,
          0.0004,
          0.0004,
          0.0004,
          0.0004,
          0.0004,
          0.0004,
          0.0003,
          0.0003,
          0.0003,
          0.0003,
          0.0002,
          0.0002,
          0.0002,
          0.0002,
          0.0002,
          0.0002,
          0.0002,
          0.0002,
          0.0002,
          0.0002,
          0.0002,
          0.0002,
          0.0002,
          0.0002,
          0.0001,
          0.0001,
          0.0001,
          0.0001,
          0.0001,
          0.0001,
          0.0001,
          0.0001,
          0.0001,
          0.0001,
          0.0001,
          0.0001,
          0.0001,
          0.0001,
          0.0001,
          0.0001,
          0.0001,
          0.0001,
          0.0001,
          0.0001,
          0.0001,
          0.0001,
          0.0001,
          0.0001,
          0,
          0,
          0,
          0,
          0,
          0,
          0,
          0,
          0,
          0,
          0,
          0,
          0,
          0,
          0,
          0,
          0,
          0,
          0,
          0,
          0,
          0,
          0,
          0,
          0,
          0,
          0,
          0,
          0,
          0,
          0,
          0,
          0,
          0,
          0,
          0,
          0,
          0,
          0,
          0,
          0,
          0,
          0,
          0,
          0,
          0,
          0,
          0,
          0,
          0,
          0,
          0,
          0,
          0,
          0,
          0,
          0,
          0,
          0,
          0,
          0,
          0,
          0,
          0,
          0,
          0,
          0,
          0,
          0,
          0,
          0,
          0,
          0,
          0,
          0,
          0,
          0,
          0,
          0,
          0,
          0,
          0,
          0,
          0,
          0,
          0,
          0
         ],
         "textposition": "outside",
         "type": "bar",
         "uid": "2c6c8572-f09d-49ab-b66c-87c25029fb05",
         "x": [
          0.8048144143910234,
          0.033671163617772525,
          0.02165049830572406,
          0.008792277859472663,
          0.008622794306362586,
          0.007529743518618968,
          0.007066095090809195,
          0.0066592047202854695,
          0.0059090729968173895,
          0.004657048508848387,
          0.0045462480803278625,
          0.004475754493230545,
          0.004358302102613487,
          0.003584835055580004,
          0.0033167237327406695,
          0.0027787303949462585,
          0.0027528382535035784,
          0.002666325328338662,
          0.0026448619055224887,
          0.0023119026520236007,
          0.0022839523349637517,
          0.002259178536768762,
          0.002242745306615875,
          0.0021799020191898494,
          0.002062706367135654,
          0.0018503331332890066,
          0.0017131527433913922,
          0.0017004395379634693,
          0.0016932626998533205,
          0.001511956661599213,
          0.0014383954799727042,
          0.0014376545763824485,
          0.0013539036008161213,
          0.0013519911191122893,
          0.001326097633744302,
          0.0012207561226750402,
          0.0012025945676040716,
          0.0011934273747180879,
          0.0011423442471312584,
          0.0011370262672058765,
          0.0011344204436412892,
          0.0010753722673036642,
          0.0010284549938627734,
          0.0009298122688612972,
          0.0009027653796325177,
          0.0008869844367810047,
          0.0008569158172157575,
          0.0008263222239034467,
          0.0008236998147779498,
          0.0007786695343125999,
          0.0007449479904340869,
          0.0007155737880320718,
          0.0006442505183020986,
          0.0005724195641709652,
          0.0005664452579118726,
          0.0005411548207058678,
          0.0005077032637318371,
          0.0004966634986954271,
          0.0004633330091487509,
          0.0004565233140550807,
          0.00044029784608869393,
          0.00040092931578212425,
          0.0003869207155141753,
          0.0003861533158382554,
          0.00037995658345575775,
          0.0003730073618051198,
          0.0003556446727360947,
          0.00035244370276279303,
          0.00033514103622297504,
          0.00028983335038290653,
          0.0002708518063018285,
          0.00026474856137701484,
          0.00024653502179505424,
          0.00024068807786210917,
          0.00022668052041989315,
          0.00022425582229860768,
          0.00022139493628552828,
          0.00020903971750895254,
          0.0002047513278961677,
          0.00018789211601873162,
          0.00018250109727482598,
          0.00016792362992616329,
          0.00016720755900472925,
          0.00016532708721410242,
          0.00016138623336777862,
          0.00015336256277085047,
          0.00014823849321224193,
          0.00014580867217057884,
          0.00014062209667925946,
          0.00013755808328422533,
          0.0001351072375217006,
          0.0001275199511008189,
          0.00011749532431199265,
          0.00011484660982419001,
          0.00011481710650805697,
          0.00011447954670114387,
          0.00011325286551122544,
          0.0001044816445404676,
          0.0001043576951650947,
          0.00010219537396994792,
          9.859291390267338e-05,
          9.791233918532785e-05,
          9.696135246618537e-05,
          8.479093487899772e-05,
          8.28691991895205e-05,
          8.002190667287188e-05,
          7.687787042498219e-05,
          6.583777868555979e-05,
          5.951380593860683e-05,
          5.3615453533396894e-05,
          4.883767994062739e-05,
          4.8711593769708655e-05,
          4.807174135972735e-05,
          4.564521247703766e-05,
          4.365187625010755e-05,
          4.296641818454924e-05,
          3.985141440112502e-05,
          2.840067359811681e-05,
          2.192662680168386e-05,
          2.0470898497307685e-05,
          1.8271931866297294e-05,
          1.2349289651151605e-05,
          5.108559737677285e-06,
          0,
          0,
          0,
          0,
          0,
          0,
          0,
          0,
          0,
          0,
          0,
          0,
          0,
          0,
          0,
          0,
          0,
          0,
          0,
          0,
          0,
          0,
          0,
          0,
          0,
          0,
          0,
          0,
          0,
          0,
          0,
          0,
          0,
          0,
          0,
          0,
          0,
          0,
          0,
          0,
          0,
          0,
          0,
          0,
          0,
          0,
          0,
          0,
          0,
          0,
          0,
          0,
          0,
          0,
          0,
          0,
          0,
          0,
          0,
          0,
          0,
          0,
          0,
          0,
          0,
          0,
          0,
          0,
          0,
          0,
          0,
          0,
          0,
          0
         ],
         "y": [
          "0",
          "148",
          "127",
          "23",
          "162",
          "50",
          "8",
          "2",
          "175",
          "32",
          "147",
          "131",
          "15",
          "44",
          "106",
          "56",
          "191",
          "163",
          "60",
          "170",
          "179",
          "47",
          "109",
          "135",
          "24",
          "18",
          "165",
          "1",
          "132",
          "46",
          "76",
          "120",
          "194",
          "4",
          "82",
          "75",
          "137",
          "113",
          "154",
          "43",
          "20",
          "45",
          "152",
          "86",
          "115",
          "119",
          "185",
          "139",
          "39",
          "37",
          "19",
          "180",
          "74",
          "79",
          "88",
          "98",
          "65",
          "38",
          "90",
          "161",
          "58",
          "184",
          "3",
          "55",
          "145",
          "30",
          "167",
          "160",
          "31",
          "70",
          "187",
          "68",
          "100",
          "122",
          "169",
          "69",
          "112",
          "124",
          "129",
          "54",
          "84",
          "174",
          "53",
          "193",
          "42",
          "71",
          "35",
          "183",
          "62",
          "7",
          "87",
          "21",
          "49",
          "95",
          "63",
          "177",
          "22",
          "133",
          "188",
          "128",
          "51",
          "138",
          "142",
          "164",
          "13",
          "33",
          "123",
          "196",
          "66",
          "189",
          "156",
          "40",
          "186",
          "118",
          "171",
          "85",
          "16",
          "99",
          "130",
          "72",
          "136",
          "34",
          "143",
          "48",
          "173",
          "12",
          "14",
          "166",
          "83",
          "80",
          "168",
          "159",
          "78",
          "11",
          "158",
          "172",
          "81",
          "108",
          "77",
          "6",
          "195",
          "59",
          "61",
          "192",
          "5",
          "190",
          "64",
          "67",
          "10",
          "182",
          "181",
          "73",
          "9",
          "157",
          "52",
          "176",
          "178",
          "17",
          "155",
          "103",
          "96",
          "97",
          "57",
          "125",
          "101",
          "102",
          "121",
          "104",
          "28",
          "117",
          "116",
          "114",
          "105",
          "107",
          "111",
          "110",
          "29",
          "94",
          "153",
          "91",
          "36",
          "151",
          "150",
          "149",
          "41",
          "89",
          "146",
          "144",
          "134",
          "92",
          "141",
          "140",
          "25",
          "93",
          "26",
          "27",
          "126"
         ]
        }
       ],
       "layout": {
        "autosize": false,
        "height": 1000,
        "width": 1000,
        "xaxis": {
         "tickfont": {
          "color": "black",
          "size": 12
         },
         "title": "Feature Importances"
        },
        "yaxis": {
         "automargin": true
        }
       }
      },
      "text/html": [
       "<div id=\"af8847e0-a5a0-4c16-968b-9fcf7a60d5a0\" style=\"height: 1000px; width: 1000px;\" class=\"plotly-graph-div\"></div><script type=\"text/javascript\">require([\"plotly\"], function(Plotly) { window.PLOTLYENV=window.PLOTLYENV || {};window.PLOTLYENV.BASE_URL=\"https://plot.ly\";Plotly.newPlot(\"af8847e0-a5a0-4c16-968b-9fcf7a60d5a0\", [{\"marker\": {\"color\": \"rgb(158,202,225)\", \"line\": {\"color\": \"rgb(8,48,107)\", \"width\": 1.5}}, \"opacity\": 0.6, \"orientation\": \"h\", \"text\": [0.8048, 0.0337, 0.0217, 0.0088, 0.0086, 0.0075, 0.0071, 0.0067, 0.0059, 0.0047, 0.0045, 0.0045, 0.0044, 0.0036, 0.0033, 0.0028, 0.0028, 0.0027, 0.0026, 0.0023, 0.0023, 0.0023, 0.0022, 0.0022, 0.0021, 0.0019, 0.0017, 0.0017, 0.0017, 0.0015, 0.0014, 0.0014, 0.0014, 0.0014, 0.0013, 0.0012, 0.0012, 0.0012, 0.0011, 0.0011, 0.0011, 0.0011, 0.001, 0.0009, 0.0009, 0.0009, 0.0009, 0.0008, 0.0008, 0.0008, 0.0007, 0.0007, 0.0006, 0.0006, 0.0006, 0.0005, 0.0005, 0.0005, 0.0005, 0.0005, 0.0004, 0.0004, 0.0004, 0.0004, 0.0004, 0.0004, 0.0004, 0.0004, 0.0003, 0.0003, 0.0003, 0.0003, 0.0002, 0.0002, 0.0002, 0.0002, 0.0002, 0.0002, 0.0002, 0.0002, 0.0002, 0.0002, 0.0002, 0.0002, 0.0002, 0.0002, 0.0001, 0.0001, 0.0001, 0.0001, 0.0001, 0.0001, 0.0001, 0.0001, 0.0001, 0.0001, 0.0001, 0.0001, 0.0001, 0.0001, 0.0001, 0.0001, 0.0001, 0.0001, 0.0001, 0.0001, 0.0001, 0.0001, 0.0001, 0.0001, 0.0, 0.0, 0.0, 0.0, 0.0, 0.0, 0.0, 0.0, 0.0, 0.0, 0.0, 0.0, 0.0, 0.0, 0.0, 0.0, 0.0, 0.0, 0.0, 0.0, 0.0, 0.0, 0.0, 0.0, 0.0, 0.0, 0.0, 0.0, 0.0, 0.0, 0.0, 0.0, 0.0, 0.0, 0.0, 0.0, 0.0, 0.0, 0.0, 0.0, 0.0, 0.0, 0.0, 0.0, 0.0, 0.0, 0.0, 0.0, 0.0, 0.0, 0.0, 0.0, 0.0, 0.0, 0.0, 0.0, 0.0, 0.0, 0.0, 0.0, 0.0, 0.0, 0.0, 0.0, 0.0, 0.0, 0.0, 0.0, 0.0, 0.0, 0.0, 0.0, 0.0, 0.0, 0.0, 0.0, 0.0, 0.0, 0.0, 0.0, 0.0, 0.0, 0.0, 0.0, 0.0, 0.0, 0.0], \"textposition\": \"outside\", \"x\": [0.8048144143910234, 0.033671163617772525, 0.02165049830572406, 0.008792277859472663, 0.008622794306362586, 0.007529743518618968, 0.007066095090809195, 0.0066592047202854695, 0.0059090729968173895, 0.004657048508848387, 0.0045462480803278625, 0.004475754493230545, 0.004358302102613487, 0.003584835055580004, 0.0033167237327406695, 0.0027787303949462585, 0.0027528382535035784, 0.002666325328338662, 0.0026448619055224887, 0.0023119026520236007, 0.0022839523349637517, 0.002259178536768762, 0.002242745306615875, 0.0021799020191898494, 0.002062706367135654, 0.0018503331332890066, 0.0017131527433913922, 0.0017004395379634693, 0.0016932626998533205, 0.001511956661599213, 0.0014383954799727042, 0.0014376545763824485, 0.0013539036008161213, 0.0013519911191122893, 0.001326097633744302, 0.0012207561226750402, 0.0012025945676040716, 0.0011934273747180879, 0.0011423442471312584, 0.0011370262672058765, 0.0011344204436412892, 0.0010753722673036642, 0.0010284549938627734, 0.0009298122688612972, 0.0009027653796325177, 0.0008869844367810047, 0.0008569158172157575, 0.0008263222239034467, 0.0008236998147779498, 0.0007786695343125999, 0.0007449479904340869, 0.0007155737880320718, 0.0006442505183020986, 0.0005724195641709652, 0.0005664452579118726, 0.0005411548207058678, 0.0005077032637318371, 0.0004966634986954271, 0.0004633330091487509, 0.0004565233140550807, 0.00044029784608869393, 0.00040092931578212425, 0.0003869207155141753, 0.0003861533158382554, 0.00037995658345575775, 0.0003730073618051198, 0.0003556446727360947, 0.00035244370276279303, 0.00033514103622297504, 0.00028983335038290653, 0.0002708518063018285, 0.00026474856137701484, 0.00024653502179505424, 0.00024068807786210917, 0.00022668052041989315, 0.00022425582229860768, 0.00022139493628552828, 0.00020903971750895254, 0.0002047513278961677, 0.00018789211601873162, 0.00018250109727482598, 0.00016792362992616329, 0.00016720755900472925, 0.00016532708721410242, 0.00016138623336777862, 0.00015336256277085047, 0.00014823849321224193, 0.00014580867217057884, 0.00014062209667925946, 0.00013755808328422533, 0.0001351072375217006, 0.0001275199511008189, 0.00011749532431199265, 0.00011484660982419001, 0.00011481710650805697, 0.00011447954670114387, 0.00011325286551122544, 0.0001044816445404676, 0.0001043576951650947, 0.00010219537396994792, 9.859291390267338e-05, 9.791233918532785e-05, 9.696135246618537e-05, 8.479093487899772e-05, 8.28691991895205e-05, 8.002190667287188e-05, 7.687787042498219e-05, 6.583777868555979e-05, 5.951380593860683e-05, 5.3615453533396894e-05, 4.883767994062739e-05, 4.8711593769708655e-05, 4.807174135972735e-05, 4.564521247703766e-05, 4.365187625010755e-05, 4.296641818454924e-05, 3.985141440112502e-05, 2.840067359811681e-05, 2.192662680168386e-05, 2.0470898497307685e-05, 1.8271931866297294e-05, 1.2349289651151605e-05, 5.108559737677285e-06, 0.0, 0.0, 0.0, 0.0, 0.0, 0.0, 0.0, 0.0, 0.0, 0.0, 0.0, 0.0, 0.0, 0.0, 0.0, 0.0, 0.0, 0.0, 0.0, 0.0, 0.0, 0.0, 0.0, 0.0, 0.0, 0.0, 0.0, 0.0, 0.0, 0.0, 0.0, 0.0, 0.0, 0.0, 0.0, 0.0, 0.0, 0.0, 0.0, 0.0, 0.0, 0.0, 0.0, 0.0, 0.0, 0.0, 0.0, 0.0, 0.0, 0.0, 0.0, 0.0, 0.0, 0.0, 0.0, 0.0, 0.0, 0.0, 0.0, 0.0, 0.0, 0.0, 0.0, 0.0, 0.0, 0.0, 0.0, 0.0, 0.0, 0.0, 0.0, 0.0, 0.0, 0.0], \"y\": [\"0\", \"148\", \"127\", \"23\", \"162\", \"50\", \"8\", \"2\", \"175\", \"32\", \"147\", \"131\", \"15\", \"44\", \"106\", \"56\", \"191\", \"163\", \"60\", \"170\", \"179\", \"47\", \"109\", \"135\", \"24\", \"18\", \"165\", \"1\", \"132\", \"46\", \"76\", \"120\", \"194\", \"4\", \"82\", \"75\", \"137\", \"113\", \"154\", \"43\", \"20\", \"45\", \"152\", \"86\", \"115\", \"119\", \"185\", \"139\", \"39\", \"37\", \"19\", \"180\", \"74\", \"79\", \"88\", \"98\", \"65\", \"38\", \"90\", \"161\", \"58\", \"184\", \"3\", \"55\", \"145\", \"30\", \"167\", \"160\", \"31\", \"70\", \"187\", \"68\", \"100\", \"122\", \"169\", \"69\", \"112\", \"124\", \"129\", \"54\", \"84\", \"174\", \"53\", \"193\", \"42\", \"71\", \"35\", \"183\", \"62\", \"7\", \"87\", \"21\", \"49\", \"95\", \"63\", \"177\", \"22\", \"133\", \"188\", \"128\", \"51\", \"138\", \"142\", \"164\", \"13\", \"33\", \"123\", \"196\", \"66\", \"189\", \"156\", \"40\", \"186\", \"118\", \"171\", \"85\", \"16\", \"99\", \"130\", \"72\", \"136\", \"34\", \"143\", \"48\", \"173\", \"12\", \"14\", \"166\", \"83\", \"80\", \"168\", \"159\", \"78\", \"11\", \"158\", \"172\", \"81\", \"108\", \"77\", \"6\", \"195\", \"59\", \"61\", \"192\", \"5\", \"190\", \"64\", \"67\", \"10\", \"182\", \"181\", \"73\", \"9\", \"157\", \"52\", \"176\", \"178\", \"17\", \"155\", \"103\", \"96\", \"97\", \"57\", \"125\", \"101\", \"102\", \"121\", \"104\", \"28\", \"117\", \"116\", \"114\", \"105\", \"107\", \"111\", \"110\", \"29\", \"94\", \"153\", \"91\", \"36\", \"151\", \"150\", \"149\", \"41\", \"89\", \"146\", \"144\", \"134\", \"92\", \"141\", \"140\", \"25\", \"93\", \"26\", \"27\", \"126\"], \"type\": \"bar\", \"uid\": \"2c6c8572-f09d-49ab-b66c-87c25029fb05\"}], {\"autosize\": false, \"height\": 1000, \"width\": 1000, \"xaxis\": {\"tickfont\": {\"color\": \"black\", \"size\": 12}, \"title\": \"Feature Importances\"}, \"yaxis\": {\"automargin\": true}}, {\"showLink\": true, \"linkText\": \"Export to plot.ly\", \"plotlyServerURL\": \"https://plot.ly\"})});</script>"
      ],
      "text/vnd.plotly.v1+html": [
       "<div id=\"af8847e0-a5a0-4c16-968b-9fcf7a60d5a0\" style=\"height: 1000px; width: 1000px;\" class=\"plotly-graph-div\"></div><script type=\"text/javascript\">require([\"plotly\"], function(Plotly) { window.PLOTLYENV=window.PLOTLYENV || {};window.PLOTLYENV.BASE_URL=\"https://plot.ly\";Plotly.newPlot(\"af8847e0-a5a0-4c16-968b-9fcf7a60d5a0\", [{\"marker\": {\"color\": \"rgb(158,202,225)\", \"line\": {\"color\": \"rgb(8,48,107)\", \"width\": 1.5}}, \"opacity\": 0.6, \"orientation\": \"h\", \"text\": [0.8048, 0.0337, 0.0217, 0.0088, 0.0086, 0.0075, 0.0071, 0.0067, 0.0059, 0.0047, 0.0045, 0.0045, 0.0044, 0.0036, 0.0033, 0.0028, 0.0028, 0.0027, 0.0026, 0.0023, 0.0023, 0.0023, 0.0022, 0.0022, 0.0021, 0.0019, 0.0017, 0.0017, 0.0017, 0.0015, 0.0014, 0.0014, 0.0014, 0.0014, 0.0013, 0.0012, 0.0012, 0.0012, 0.0011, 0.0011, 0.0011, 0.0011, 0.001, 0.0009, 0.0009, 0.0009, 0.0009, 0.0008, 0.0008, 0.0008, 0.0007, 0.0007, 0.0006, 0.0006, 0.0006, 0.0005, 0.0005, 0.0005, 0.0005, 0.0005, 0.0004, 0.0004, 0.0004, 0.0004, 0.0004, 0.0004, 0.0004, 0.0004, 0.0003, 0.0003, 0.0003, 0.0003, 0.0002, 0.0002, 0.0002, 0.0002, 0.0002, 0.0002, 0.0002, 0.0002, 0.0002, 0.0002, 0.0002, 0.0002, 0.0002, 0.0002, 0.0001, 0.0001, 0.0001, 0.0001, 0.0001, 0.0001, 0.0001, 0.0001, 0.0001, 0.0001, 0.0001, 0.0001, 0.0001, 0.0001, 0.0001, 0.0001, 0.0001, 0.0001, 0.0001, 0.0001, 0.0001, 0.0001, 0.0001, 0.0001, 0.0, 0.0, 0.0, 0.0, 0.0, 0.0, 0.0, 0.0, 0.0, 0.0, 0.0, 0.0, 0.0, 0.0, 0.0, 0.0, 0.0, 0.0, 0.0, 0.0, 0.0, 0.0, 0.0, 0.0, 0.0, 0.0, 0.0, 0.0, 0.0, 0.0, 0.0, 0.0, 0.0, 0.0, 0.0, 0.0, 0.0, 0.0, 0.0, 0.0, 0.0, 0.0, 0.0, 0.0, 0.0, 0.0, 0.0, 0.0, 0.0, 0.0, 0.0, 0.0, 0.0, 0.0, 0.0, 0.0, 0.0, 0.0, 0.0, 0.0, 0.0, 0.0, 0.0, 0.0, 0.0, 0.0, 0.0, 0.0, 0.0, 0.0, 0.0, 0.0, 0.0, 0.0, 0.0, 0.0, 0.0, 0.0, 0.0, 0.0, 0.0, 0.0, 0.0, 0.0, 0.0, 0.0, 0.0], \"textposition\": \"outside\", \"x\": [0.8048144143910234, 0.033671163617772525, 0.02165049830572406, 0.008792277859472663, 0.008622794306362586, 0.007529743518618968, 0.007066095090809195, 0.0066592047202854695, 0.0059090729968173895, 0.004657048508848387, 0.0045462480803278625, 0.004475754493230545, 0.004358302102613487, 0.003584835055580004, 0.0033167237327406695, 0.0027787303949462585, 0.0027528382535035784, 0.002666325328338662, 0.0026448619055224887, 0.0023119026520236007, 0.0022839523349637517, 0.002259178536768762, 0.002242745306615875, 0.0021799020191898494, 0.002062706367135654, 0.0018503331332890066, 0.0017131527433913922, 0.0017004395379634693, 0.0016932626998533205, 0.001511956661599213, 0.0014383954799727042, 0.0014376545763824485, 0.0013539036008161213, 0.0013519911191122893, 0.001326097633744302, 0.0012207561226750402, 0.0012025945676040716, 0.0011934273747180879, 0.0011423442471312584, 0.0011370262672058765, 0.0011344204436412892, 0.0010753722673036642, 0.0010284549938627734, 0.0009298122688612972, 0.0009027653796325177, 0.0008869844367810047, 0.0008569158172157575, 0.0008263222239034467, 0.0008236998147779498, 0.0007786695343125999, 0.0007449479904340869, 0.0007155737880320718, 0.0006442505183020986, 0.0005724195641709652, 0.0005664452579118726, 0.0005411548207058678, 0.0005077032637318371, 0.0004966634986954271, 0.0004633330091487509, 0.0004565233140550807, 0.00044029784608869393, 0.00040092931578212425, 0.0003869207155141753, 0.0003861533158382554, 0.00037995658345575775, 0.0003730073618051198, 0.0003556446727360947, 0.00035244370276279303, 0.00033514103622297504, 0.00028983335038290653, 0.0002708518063018285, 0.00026474856137701484, 0.00024653502179505424, 0.00024068807786210917, 0.00022668052041989315, 0.00022425582229860768, 0.00022139493628552828, 0.00020903971750895254, 0.0002047513278961677, 0.00018789211601873162, 0.00018250109727482598, 0.00016792362992616329, 0.00016720755900472925, 0.00016532708721410242, 0.00016138623336777862, 0.00015336256277085047, 0.00014823849321224193, 0.00014580867217057884, 0.00014062209667925946, 0.00013755808328422533, 0.0001351072375217006, 0.0001275199511008189, 0.00011749532431199265, 0.00011484660982419001, 0.00011481710650805697, 0.00011447954670114387, 0.00011325286551122544, 0.0001044816445404676, 0.0001043576951650947, 0.00010219537396994792, 9.859291390267338e-05, 9.791233918532785e-05, 9.696135246618537e-05, 8.479093487899772e-05, 8.28691991895205e-05, 8.002190667287188e-05, 7.687787042498219e-05, 6.583777868555979e-05, 5.951380593860683e-05, 5.3615453533396894e-05, 4.883767994062739e-05, 4.8711593769708655e-05, 4.807174135972735e-05, 4.564521247703766e-05, 4.365187625010755e-05, 4.296641818454924e-05, 3.985141440112502e-05, 2.840067359811681e-05, 2.192662680168386e-05, 2.0470898497307685e-05, 1.8271931866297294e-05, 1.2349289651151605e-05, 5.108559737677285e-06, 0.0, 0.0, 0.0, 0.0, 0.0, 0.0, 0.0, 0.0, 0.0, 0.0, 0.0, 0.0, 0.0, 0.0, 0.0, 0.0, 0.0, 0.0, 0.0, 0.0, 0.0, 0.0, 0.0, 0.0, 0.0, 0.0, 0.0, 0.0, 0.0, 0.0, 0.0, 0.0, 0.0, 0.0, 0.0, 0.0, 0.0, 0.0, 0.0, 0.0, 0.0, 0.0, 0.0, 0.0, 0.0, 0.0, 0.0, 0.0, 0.0, 0.0, 0.0, 0.0, 0.0, 0.0, 0.0, 0.0, 0.0, 0.0, 0.0, 0.0, 0.0, 0.0, 0.0, 0.0, 0.0, 0.0, 0.0, 0.0, 0.0, 0.0, 0.0, 0.0, 0.0, 0.0], \"y\": [\"0\", \"148\", \"127\", \"23\", \"162\", \"50\", \"8\", \"2\", \"175\", \"32\", \"147\", \"131\", \"15\", \"44\", \"106\", \"56\", \"191\", \"163\", \"60\", \"170\", \"179\", \"47\", \"109\", \"135\", \"24\", \"18\", \"165\", \"1\", \"132\", \"46\", \"76\", \"120\", \"194\", \"4\", \"82\", \"75\", \"137\", \"113\", \"154\", \"43\", \"20\", \"45\", \"152\", \"86\", \"115\", \"119\", \"185\", \"139\", \"39\", \"37\", \"19\", \"180\", \"74\", \"79\", \"88\", \"98\", \"65\", \"38\", \"90\", \"161\", \"58\", \"184\", \"3\", \"55\", \"145\", \"30\", \"167\", \"160\", \"31\", \"70\", \"187\", \"68\", \"100\", \"122\", \"169\", \"69\", \"112\", \"124\", \"129\", \"54\", \"84\", \"174\", \"53\", \"193\", \"42\", \"71\", \"35\", \"183\", \"62\", \"7\", \"87\", \"21\", \"49\", \"95\", \"63\", \"177\", \"22\", \"133\", \"188\", \"128\", \"51\", \"138\", \"142\", \"164\", \"13\", \"33\", \"123\", \"196\", \"66\", \"189\", \"156\", \"40\", \"186\", \"118\", \"171\", \"85\", \"16\", \"99\", \"130\", \"72\", \"136\", \"34\", \"143\", \"48\", \"173\", \"12\", \"14\", \"166\", \"83\", \"80\", \"168\", \"159\", \"78\", \"11\", \"158\", \"172\", \"81\", \"108\", \"77\", \"6\", \"195\", \"59\", \"61\", \"192\", \"5\", \"190\", \"64\", \"67\", \"10\", \"182\", \"181\", \"73\", \"9\", \"157\", \"52\", \"176\", \"178\", \"17\", \"155\", \"103\", \"96\", \"97\", \"57\", \"125\", \"101\", \"102\", \"121\", \"104\", \"28\", \"117\", \"116\", \"114\", \"105\", \"107\", \"111\", \"110\", \"29\", \"94\", \"153\", \"91\", \"36\", \"151\", \"150\", \"149\", \"41\", \"89\", \"146\", \"144\", \"134\", \"92\", \"141\", \"140\", \"25\", \"93\", \"26\", \"27\", \"126\"], \"type\": \"bar\", \"uid\": \"2c6c8572-f09d-49ab-b66c-87c25029fb05\"}], {\"autosize\": false, \"height\": 1000, \"width\": 1000, \"xaxis\": {\"tickfont\": {\"color\": \"black\", \"size\": 12}, \"title\": \"Feature Importances\"}, \"yaxis\": {\"automargin\": true}}, {\"showLink\": true, \"linkText\": \"Export to plot.ly\", \"plotlyServerURL\": \"https://plot.ly\"})});</script>"
      ]
     },
     "metadata": {},
     "output_type": "display_data"
    },
    {
     "name": "stdout",
     "output_type": "stream",
     "text": [
      "\n",
      "\n",
      "\u001b[1mExtraTree Classifier\u001b[0m\n",
      "Accuracy of the model for training data is: 0.912488101452\n",
      "Confusion Matrix for training data is:\n"
     ]
    },
    {
     "data": {
      "text/plain": [
       "Predicted  False  True  __all__\n",
       "Actual                         \n",
       "False      25035  2803    27838\n",
       "True          47  4682     4729\n",
       "__all__    25082  7485    32567"
      ]
     },
     "metadata": {},
     "output_type": "display_data"
    },
    {
     "name": "stdout",
     "output_type": "stream",
     "text": [
      "Accuracy of the model for test data is: 0.89756816507\n",
      "Confusion Matrix for test data is:\n"
     ]
    },
    {
     "data": {
      "text/plain": [
       "Predicted  False  True  __all__\n",
       "Actual                         \n",
       "False       6217   723     6940\n",
       "True         111  1091     1202\n",
       "__all__     6328  1814     8142"
      ]
     },
     "metadata": {},
     "output_type": "display_data"
    },
    {
     "data": {
      "application/vnd.plotly.v1+json": {
       "config": {
        "linkText": "Export to plot.ly",
        "plotlyServerURL": "https://plot.ly",
        "showLink": true
       },
       "data": [
        {
         "marker": {
          "color": "rgb(158,202,225)",
          "line": {
           "color": "rgb(8,48,107)",
           "width": 1.5
          }
         },
         "opacity": 0.6,
         "orientation": "h",
         "text": [
          0.0266,
          0.025,
          0.024,
          0.0201,
          0.0195,
          0.0177,
          0.0175,
          0.0173,
          0.0164,
          0.0163,
          0.0153,
          0.0141,
          0.0141,
          0.014,
          0.0137,
          0.0137,
          0.0129,
          0.0128,
          0.0126,
          0.0125,
          0.0125,
          0.0122,
          0.0119,
          0.0113,
          0.0112,
          0.011,
          0.0108,
          0.0106,
          0.0105,
          0.0101,
          0.0097,
          0.0097,
          0.0095,
          0.0095,
          0.0094,
          0.0092,
          0.0091,
          0.0088,
          0.0088,
          0.0087,
          0.0081,
          0.0081,
          0.008,
          0.0079,
          0.0076,
          0.0075,
          0.0074,
          0.0065,
          0.0063,
          0.006,
          0.0058,
          0.0058,
          0.0058,
          0.0058,
          0.0057,
          0.0056,
          0.0055,
          0.0054,
          0.0053,
          0.0053,
          0.0053,
          0.0051,
          0.005,
          0.005,
          0.0049,
          0.0046,
          0.0046,
          0.0044,
          0.0043,
          0.0043,
          0.0042,
          0.0041,
          0.004,
          0.004,
          0.004,
          0.004,
          0.004,
          0.0039,
          0.0039,
          0.0037,
          0.0036,
          0.0036,
          0.0034,
          0.0034,
          0.0034,
          0.0034,
          0.0033,
          0.0033,
          0.0032,
          0.0032,
          0.0032,
          0.0031,
          0.0031,
          0.0031,
          0.0031,
          0.003,
          0.003,
          0.0029,
          0.0029,
          0.0028,
          0.0028,
          0.0028,
          0.0027,
          0.0027,
          0.0027,
          0.0027,
          0.0026,
          0.0026,
          0.0026,
          0.0025,
          0.0025,
          0.0025,
          0.0025,
          0.0024,
          0.0024,
          0.0024,
          0.0024,
          0.0024,
          0.0024,
          0.0024,
          0.0023,
          0.0023,
          0.0023,
          0.0023,
          0.0023,
          0.0023,
          0.0023,
          0.0022,
          0.0022,
          0.0022,
          0.0022,
          0.0022,
          0.0022,
          0.0021,
          0.0021,
          0.0021,
          0.0021,
          0.0021,
          0.002,
          0.002,
          0.002,
          0.002,
          0.0019,
          0.0019,
          0.0019,
          0.0019,
          0.0018,
          0.0018,
          0.0018,
          0.0018,
          0.0018,
          0.0018,
          0.0017,
          0.0017,
          0.0017,
          0.0017,
          0.0017,
          0.0017,
          0.0016,
          0.0016,
          0.0016,
          0.0016,
          0.0015,
          0.0015,
          0.0015,
          0.0015,
          0.0015,
          0.0015,
          0.0015,
          0.0015,
          0.0015,
          0.0015,
          0.0015,
          0.0015,
          0.0014,
          0.0014,
          0.0014,
          0.0014,
          0.0014,
          0.0014,
          0.0013,
          0.0013,
          0.0013,
          0.0013,
          0.0013,
          0.0012,
          0.0012,
          0.0012,
          0.0012,
          0.0012,
          0.001,
          0.001,
          0.001,
          0.001,
          0.0009,
          0.0008,
          0.0006
         ],
         "textposition": "outside",
         "type": "bar",
         "uid": "371a9126-b672-4585-9e0f-d79c3b657c2d",
         "x": [
          0.02658829366981545,
          0.025035612317971245,
          0.02401797420748137,
          0.020119134711249532,
          0.019472128742089572,
          0.017690876400127863,
          0.017508217318885376,
          0.01725545830985623,
          0.016355703835041677,
          0.01630379962527206,
          0.01529708100503869,
          0.014140798095531653,
          0.014114773914671164,
          0.014006872739781568,
          0.013713438518345378,
          0.013677561560549866,
          0.012878464095906043,
          0.012761370037308128,
          0.012554586369098822,
          0.0125440690088638,
          0.012531731120612326,
          0.012182061305020721,
          0.011912649830460538,
          0.011340448909266786,
          0.011164706173700998,
          0.010994387472037818,
          0.01081723218185288,
          0.01060473620738381,
          0.01050128753439743,
          0.010061458094457468,
          0.00973466241723143,
          0.009704948400181998,
          0.009520097248814993,
          0.009517363059091299,
          0.009435700985050074,
          0.009153155156088683,
          0.009126590011027919,
          0.008798519500267245,
          0.008762212673469553,
          0.008706567621273368,
          0.008055909211418178,
          0.008054011786880231,
          0.007967569236658758,
          0.007877388637817211,
          0.007596125203145494,
          0.007483820709122643,
          0.007440639732596887,
          0.006532315692258507,
          0.006263557382319591,
          0.005985905920178214,
          0.005808803503507166,
          0.005803759395765642,
          0.00580312079228512,
          0.005757832125925529,
          0.0057386592463574545,
          0.0056095277988037155,
          0.005489992563318704,
          0.005388446470080582,
          0.005307261021296703,
          0.005283017567539253,
          0.005263304628242653,
          0.005063139237013128,
          0.004988117850045539,
          0.004984729867871054,
          0.004898867693969982,
          0.004632208001078532,
          0.004583955982196986,
          0.004437183596907324,
          0.004349768124403906,
          0.004306985467482599,
          0.004165928409694196,
          0.004101951076125411,
          0.004048374918154269,
          0.0040251717357979045,
          0.003998033388378173,
          0.00398651164585886,
          0.003976665256087709,
          0.003875715540114121,
          0.003855528186887276,
          0.0037131791511837695,
          0.0035579128273085523,
          0.0035512891925872135,
          0.0034192395042555584,
          0.0034104208623572294,
          0.0034079601225963665,
          0.0033999558401172246,
          0.0033464418075803484,
          0.003344355726351796,
          0.0032385856751567603,
          0.0032103328561352675,
          0.003185129870830023,
          0.003118634955314164,
          0.00308080677642891,
          0.003067873863669886,
          0.003050892892136309,
          0.0030382745250856747,
          0.002963222334972993,
          0.0029155298100782953,
          0.0029016859299364002,
          0.0028375547012385142,
          0.0028335917111793124,
          0.0028119200207153217,
          0.0027392937827453788,
          0.002688472538207322,
          0.0026740059195389165,
          0.0026581058719351023,
          0.002603965059028823,
          0.0025931044426730785,
          0.0025732407201974525,
          0.002524431135828456,
          0.002518853978988674,
          0.0025182663211021686,
          0.0024564158104788975,
          0.0024438972510496967,
          0.002426673306020557,
          0.002424331302705433,
          0.0024205077824462685,
          0.00241244620205788,
          0.002392858904040151,
          0.0023603645300207263,
          0.0023436804619810245,
          0.002318168463505165,
          0.002311334331022056,
          0.0022977633963172026,
          0.00229241325981385,
          0.002285545756146294,
          0.002272791267498336,
          0.0022139587320240124,
          0.0022014867626129913,
          0.002175393041782708,
          0.002166765108047324,
          0.0021643918094918363,
          0.002158512285740673,
          0.0021236843006843444,
          0.0021043017453013582,
          0.002102768496723235,
          0.002090421003308498,
          0.002077045587930735,
          0.0020274680350233928,
          0.0020203912268509728,
          0.0020056540853980918,
          0.0019957139302371873,
          0.001933321917005313,
          0.0019171447754641735,
          0.0018884216518010588,
          0.001874934108001126,
          0.0018123600052359762,
          0.001809477316198141,
          0.001792862710371361,
          0.001771878712717939,
          0.001765919813791034,
          0.0017562301490793356,
          0.001732620624535617,
          0.00172269163599098,
          0.00171713435900182,
          0.0017116862644221639,
          0.001684564345150742,
          0.0016517241225364851,
          0.001638535750463933,
          0.0016348356520798379,
          0.0015908794014519126,
          0.001574894571460673,
          0.00154411376607232,
          0.0015395510622758135,
          0.0015211381414882458,
          0.0015208244363040663,
          0.0015069813907245817,
          0.0014941031585388917,
          0.0014896730071551315,
          0.0014890688235827231,
          0.001480056925821039,
          0.0014671432884250546,
          0.0014670782928851798,
          0.0014520309138139997,
          0.001443411340987423,
          0.0014152714188954416,
          0.001401550534089727,
          0.0013916347279941683,
          0.001387876719793498,
          0.0013763777390904228,
          0.0012871242090165842,
          0.0012854911476260843,
          0.0012688966021786167,
          0.0012675150502070897,
          0.0012595895298241073,
          0.0012066505214560423,
          0.001204407497767626,
          0.001200382357768747,
          0.0011997253040289331,
          0.001190064878655561,
          0.0010464498571705128,
          0.001023902953669631,
          0.0010024648727406473,
          0.0009758389328689387,
          0.0008538331343717174,
          0.0007706004663316993,
          0.0006068452177399371
         ],
         "y": [
          "59",
          "3",
          "139",
          "91",
          "44",
          "168",
          "117",
          "77",
          "185",
          "84",
          "0",
          "144",
          "69",
          "165",
          "83",
          "6",
          "141",
          "190",
          "74",
          "34",
          "24",
          "88",
          "164",
          "179",
          "72",
          "38",
          "108",
          "96",
          "67",
          "30",
          "39",
          "146",
          "25",
          "76",
          "186",
          "61",
          "163",
          "70",
          "196",
          "14",
          "31",
          "157",
          "71",
          "174",
          "112",
          "85",
          "54",
          "135",
          "37",
          "53",
          "151",
          "73",
          "23",
          "45",
          "154",
          "12",
          "119",
          "19",
          "149",
          "10",
          "18",
          "1",
          "40",
          "131",
          "82",
          "16",
          "132",
          "191",
          "113",
          "101",
          "145",
          "98",
          "126",
          "15",
          "60",
          "92",
          "55",
          "192",
          "90",
          "8",
          "140",
          "176",
          "181",
          "159",
          "137",
          "79",
          "89",
          "114",
          "127",
          "32",
          "122",
          "136",
          "172",
          "148",
          "21",
          "134",
          "48",
          "124",
          "57",
          "182",
          "133",
          "187",
          "107",
          "56",
          "180",
          "175",
          "22",
          "143",
          "173",
          "58",
          "102",
          "169",
          "128",
          "62",
          "166",
          "125",
          "110",
          "93",
          "118",
          "158",
          "171",
          "28",
          "7",
          "155",
          "111",
          "183",
          "121",
          "130",
          "46",
          "184",
          "35",
          "94",
          "109",
          "13",
          "189",
          "106",
          "104",
          "36",
          "65",
          "63",
          "86",
          "193",
          "103",
          "4",
          "2",
          "142",
          "188",
          "178",
          "52",
          "152",
          "81",
          "129",
          "153",
          "5",
          "147",
          "156",
          "41",
          "170",
          "49",
          "20",
          "162",
          "42",
          "75",
          "123",
          "95",
          "87",
          "167",
          "120",
          "43",
          "33",
          "100",
          "68",
          "116",
          "50",
          "150",
          "160",
          "195",
          "194",
          "97",
          "66",
          "17",
          "177",
          "29",
          "161",
          "80",
          "105",
          "51",
          "138",
          "47",
          "27",
          "64",
          "78",
          "115",
          "99",
          "26",
          "9",
          "11"
         ]
        }
       ],
       "layout": {
        "autosize": false,
        "height": 1000,
        "width": 1000,
        "xaxis": {
         "tickfont": {
          "color": "black",
          "size": 12
         },
         "title": "Feature Importances"
        },
        "yaxis": {
         "automargin": true
        }
       }
      },
      "text/html": [
       "<div id=\"751e2c48-adad-4aef-b8a5-617a92b980ef\" style=\"height: 1000px; width: 1000px;\" class=\"plotly-graph-div\"></div><script type=\"text/javascript\">require([\"plotly\"], function(Plotly) { window.PLOTLYENV=window.PLOTLYENV || {};window.PLOTLYENV.BASE_URL=\"https://plot.ly\";Plotly.newPlot(\"751e2c48-adad-4aef-b8a5-617a92b980ef\", [{\"marker\": {\"color\": \"rgb(158,202,225)\", \"line\": {\"color\": \"rgb(8,48,107)\", \"width\": 1.5}}, \"opacity\": 0.6, \"orientation\": \"h\", \"text\": [0.0266, 0.025, 0.024, 0.0201, 0.0195, 0.0177, 0.0175, 0.0173, 0.0164, 0.0163, 0.0153, 0.0141, 0.0141, 0.014, 0.0137, 0.0137, 0.0129, 0.0128, 0.0126, 0.0125, 0.0125, 0.0122, 0.0119, 0.0113, 0.0112, 0.011, 0.0108, 0.0106, 0.0105, 0.0101, 0.0097, 0.0097, 0.0095, 0.0095, 0.0094, 0.0092, 0.0091, 0.0088, 0.0088, 0.0087, 0.0081, 0.0081, 0.008, 0.0079, 0.0076, 0.0075, 0.0074, 0.0065, 0.0063, 0.006, 0.0058, 0.0058, 0.0058, 0.0058, 0.0057, 0.0056, 0.0055, 0.0054, 0.0053, 0.0053, 0.0053, 0.0051, 0.005, 0.005, 0.0049, 0.0046, 0.0046, 0.0044, 0.0043, 0.0043, 0.0042, 0.0041, 0.004, 0.004, 0.004, 0.004, 0.004, 0.0039, 0.0039, 0.0037, 0.0036, 0.0036, 0.0034, 0.0034, 0.0034, 0.0034, 0.0033, 0.0033, 0.0032, 0.0032, 0.0032, 0.0031, 0.0031, 0.0031, 0.0031, 0.003, 0.003, 0.0029, 0.0029, 0.0028, 0.0028, 0.0028, 0.0027, 0.0027, 0.0027, 0.0027, 0.0026, 0.0026, 0.0026, 0.0025, 0.0025, 0.0025, 0.0025, 0.0024, 0.0024, 0.0024, 0.0024, 0.0024, 0.0024, 0.0024, 0.0023, 0.0023, 0.0023, 0.0023, 0.0023, 0.0023, 0.0023, 0.0022, 0.0022, 0.0022, 0.0022, 0.0022, 0.0022, 0.0021, 0.0021, 0.0021, 0.0021, 0.0021, 0.002, 0.002, 0.002, 0.002, 0.0019, 0.0019, 0.0019, 0.0019, 0.0018, 0.0018, 0.0018, 0.0018, 0.0018, 0.0018, 0.0017, 0.0017, 0.0017, 0.0017, 0.0017, 0.0017, 0.0016, 0.0016, 0.0016, 0.0016, 0.0015, 0.0015, 0.0015, 0.0015, 0.0015, 0.0015, 0.0015, 0.0015, 0.0015, 0.0015, 0.0015, 0.0015, 0.0014, 0.0014, 0.0014, 0.0014, 0.0014, 0.0014, 0.0013, 0.0013, 0.0013, 0.0013, 0.0013, 0.0012, 0.0012, 0.0012, 0.0012, 0.0012, 0.001, 0.001, 0.001, 0.001, 0.0009, 0.0008, 0.0006], \"textposition\": \"outside\", \"x\": [0.02658829366981545, 0.025035612317971245, 0.02401797420748137, 0.020119134711249532, 0.019472128742089572, 0.017690876400127863, 0.017508217318885376, 0.01725545830985623, 0.016355703835041677, 0.01630379962527206, 0.01529708100503869, 0.014140798095531653, 0.014114773914671164, 0.014006872739781568, 0.013713438518345378, 0.013677561560549866, 0.012878464095906043, 0.012761370037308128, 0.012554586369098822, 0.0125440690088638, 0.012531731120612326, 0.012182061305020721, 0.011912649830460538, 0.011340448909266786, 0.011164706173700998, 0.010994387472037818, 0.01081723218185288, 0.01060473620738381, 0.01050128753439743, 0.010061458094457468, 0.00973466241723143, 0.009704948400181998, 0.009520097248814993, 0.009517363059091299, 0.009435700985050074, 0.009153155156088683, 0.009126590011027919, 0.008798519500267245, 0.008762212673469553, 0.008706567621273368, 0.008055909211418178, 0.008054011786880231, 0.007967569236658758, 0.007877388637817211, 0.007596125203145494, 0.007483820709122643, 0.007440639732596887, 0.006532315692258507, 0.006263557382319591, 0.005985905920178214, 0.005808803503507166, 0.005803759395765642, 0.00580312079228512, 0.005757832125925529, 0.0057386592463574545, 0.0056095277988037155, 0.005489992563318704, 0.005388446470080582, 0.005307261021296703, 0.005283017567539253, 0.005263304628242653, 0.005063139237013128, 0.004988117850045539, 0.004984729867871054, 0.004898867693969982, 0.004632208001078532, 0.004583955982196986, 0.004437183596907324, 0.004349768124403906, 0.004306985467482599, 0.004165928409694196, 0.004101951076125411, 0.004048374918154269, 0.0040251717357979045, 0.003998033388378173, 0.00398651164585886, 0.003976665256087709, 0.003875715540114121, 0.003855528186887276, 0.0037131791511837695, 0.0035579128273085523, 0.0035512891925872135, 0.0034192395042555584, 0.0034104208623572294, 0.0034079601225963665, 0.0033999558401172246, 0.0033464418075803484, 0.003344355726351796, 0.0032385856751567603, 0.0032103328561352675, 0.003185129870830023, 0.003118634955314164, 0.00308080677642891, 0.003067873863669886, 0.003050892892136309, 0.0030382745250856747, 0.002963222334972993, 0.0029155298100782953, 0.0029016859299364002, 0.0028375547012385142, 0.0028335917111793124, 0.0028119200207153217, 0.0027392937827453788, 0.002688472538207322, 0.0026740059195389165, 0.0026581058719351023, 0.002603965059028823, 0.0025931044426730785, 0.0025732407201974525, 0.002524431135828456, 0.002518853978988674, 0.0025182663211021686, 0.0024564158104788975, 0.0024438972510496967, 0.002426673306020557, 0.002424331302705433, 0.0024205077824462685, 0.00241244620205788, 0.002392858904040151, 0.0023603645300207263, 0.0023436804619810245, 0.002318168463505165, 0.002311334331022056, 0.0022977633963172026, 0.00229241325981385, 0.002285545756146294, 0.002272791267498336, 0.0022139587320240124, 0.0022014867626129913, 0.002175393041782708, 0.002166765108047324, 0.0021643918094918363, 0.002158512285740673, 0.0021236843006843444, 0.0021043017453013582, 0.002102768496723235, 0.002090421003308498, 0.002077045587930735, 0.0020274680350233928, 0.0020203912268509728, 0.0020056540853980918, 0.0019957139302371873, 0.001933321917005313, 0.0019171447754641735, 0.0018884216518010588, 0.001874934108001126, 0.0018123600052359762, 0.001809477316198141, 0.001792862710371361, 0.001771878712717939, 0.001765919813791034, 0.0017562301490793356, 0.001732620624535617, 0.00172269163599098, 0.00171713435900182, 0.0017116862644221639, 0.001684564345150742, 0.0016517241225364851, 0.001638535750463933, 0.0016348356520798379, 0.0015908794014519126, 0.001574894571460673, 0.00154411376607232, 0.0015395510622758135, 0.0015211381414882458, 0.0015208244363040663, 0.0015069813907245817, 0.0014941031585388917, 0.0014896730071551315, 0.0014890688235827231, 0.001480056925821039, 0.0014671432884250546, 0.0014670782928851798, 0.0014520309138139997, 0.001443411340987423, 0.0014152714188954416, 0.001401550534089727, 0.0013916347279941683, 0.001387876719793498, 0.0013763777390904228, 0.0012871242090165842, 0.0012854911476260843, 0.0012688966021786167, 0.0012675150502070897, 0.0012595895298241073, 0.0012066505214560423, 0.001204407497767626, 0.001200382357768747, 0.0011997253040289331, 0.001190064878655561, 0.0010464498571705128, 0.001023902953669631, 0.0010024648727406473, 0.0009758389328689387, 0.0008538331343717174, 0.0007706004663316993, 0.0006068452177399371], \"y\": [\"59\", \"3\", \"139\", \"91\", \"44\", \"168\", \"117\", \"77\", \"185\", \"84\", \"0\", \"144\", \"69\", \"165\", \"83\", \"6\", \"141\", \"190\", \"74\", \"34\", \"24\", \"88\", \"164\", \"179\", \"72\", \"38\", \"108\", \"96\", \"67\", \"30\", \"39\", \"146\", \"25\", \"76\", \"186\", \"61\", \"163\", \"70\", \"196\", \"14\", \"31\", \"157\", \"71\", \"174\", \"112\", \"85\", \"54\", \"135\", \"37\", \"53\", \"151\", \"73\", \"23\", \"45\", \"154\", \"12\", \"119\", \"19\", \"149\", \"10\", \"18\", \"1\", \"40\", \"131\", \"82\", \"16\", \"132\", \"191\", \"113\", \"101\", \"145\", \"98\", \"126\", \"15\", \"60\", \"92\", \"55\", \"192\", \"90\", \"8\", \"140\", \"176\", \"181\", \"159\", \"137\", \"79\", \"89\", \"114\", \"127\", \"32\", \"122\", \"136\", \"172\", \"148\", \"21\", \"134\", \"48\", \"124\", \"57\", \"182\", \"133\", \"187\", \"107\", \"56\", \"180\", \"175\", \"22\", \"143\", \"173\", \"58\", \"102\", \"169\", \"128\", \"62\", \"166\", \"125\", \"110\", \"93\", \"118\", \"158\", \"171\", \"28\", \"7\", \"155\", \"111\", \"183\", \"121\", \"130\", \"46\", \"184\", \"35\", \"94\", \"109\", \"13\", \"189\", \"106\", \"104\", \"36\", \"65\", \"63\", \"86\", \"193\", \"103\", \"4\", \"2\", \"142\", \"188\", \"178\", \"52\", \"152\", \"81\", \"129\", \"153\", \"5\", \"147\", \"156\", \"41\", \"170\", \"49\", \"20\", \"162\", \"42\", \"75\", \"123\", \"95\", \"87\", \"167\", \"120\", \"43\", \"33\", \"100\", \"68\", \"116\", \"50\", \"150\", \"160\", \"195\", \"194\", \"97\", \"66\", \"17\", \"177\", \"29\", \"161\", \"80\", \"105\", \"51\", \"138\", \"47\", \"27\", \"64\", \"78\", \"115\", \"99\", \"26\", \"9\", \"11\"], \"type\": \"bar\", \"uid\": \"371a9126-b672-4585-9e0f-d79c3b657c2d\"}], {\"autosize\": false, \"height\": 1000, \"width\": 1000, \"xaxis\": {\"tickfont\": {\"color\": \"black\", \"size\": 12}, \"title\": \"Feature Importances\"}, \"yaxis\": {\"automargin\": true}}, {\"showLink\": true, \"linkText\": \"Export to plot.ly\", \"plotlyServerURL\": \"https://plot.ly\"})});</script>"
      ],
      "text/vnd.plotly.v1+html": [
       "<div id=\"751e2c48-adad-4aef-b8a5-617a92b980ef\" style=\"height: 1000px; width: 1000px;\" class=\"plotly-graph-div\"></div><script type=\"text/javascript\">require([\"plotly\"], function(Plotly) { window.PLOTLYENV=window.PLOTLYENV || {};window.PLOTLYENV.BASE_URL=\"https://plot.ly\";Plotly.newPlot(\"751e2c48-adad-4aef-b8a5-617a92b980ef\", [{\"marker\": {\"color\": \"rgb(158,202,225)\", \"line\": {\"color\": \"rgb(8,48,107)\", \"width\": 1.5}}, \"opacity\": 0.6, \"orientation\": \"h\", \"text\": [0.0266, 0.025, 0.024, 0.0201, 0.0195, 0.0177, 0.0175, 0.0173, 0.0164, 0.0163, 0.0153, 0.0141, 0.0141, 0.014, 0.0137, 0.0137, 0.0129, 0.0128, 0.0126, 0.0125, 0.0125, 0.0122, 0.0119, 0.0113, 0.0112, 0.011, 0.0108, 0.0106, 0.0105, 0.0101, 0.0097, 0.0097, 0.0095, 0.0095, 0.0094, 0.0092, 0.0091, 0.0088, 0.0088, 0.0087, 0.0081, 0.0081, 0.008, 0.0079, 0.0076, 0.0075, 0.0074, 0.0065, 0.0063, 0.006, 0.0058, 0.0058, 0.0058, 0.0058, 0.0057, 0.0056, 0.0055, 0.0054, 0.0053, 0.0053, 0.0053, 0.0051, 0.005, 0.005, 0.0049, 0.0046, 0.0046, 0.0044, 0.0043, 0.0043, 0.0042, 0.0041, 0.004, 0.004, 0.004, 0.004, 0.004, 0.0039, 0.0039, 0.0037, 0.0036, 0.0036, 0.0034, 0.0034, 0.0034, 0.0034, 0.0033, 0.0033, 0.0032, 0.0032, 0.0032, 0.0031, 0.0031, 0.0031, 0.0031, 0.003, 0.003, 0.0029, 0.0029, 0.0028, 0.0028, 0.0028, 0.0027, 0.0027, 0.0027, 0.0027, 0.0026, 0.0026, 0.0026, 0.0025, 0.0025, 0.0025, 0.0025, 0.0024, 0.0024, 0.0024, 0.0024, 0.0024, 0.0024, 0.0024, 0.0023, 0.0023, 0.0023, 0.0023, 0.0023, 0.0023, 0.0023, 0.0022, 0.0022, 0.0022, 0.0022, 0.0022, 0.0022, 0.0021, 0.0021, 0.0021, 0.0021, 0.0021, 0.002, 0.002, 0.002, 0.002, 0.0019, 0.0019, 0.0019, 0.0019, 0.0018, 0.0018, 0.0018, 0.0018, 0.0018, 0.0018, 0.0017, 0.0017, 0.0017, 0.0017, 0.0017, 0.0017, 0.0016, 0.0016, 0.0016, 0.0016, 0.0015, 0.0015, 0.0015, 0.0015, 0.0015, 0.0015, 0.0015, 0.0015, 0.0015, 0.0015, 0.0015, 0.0015, 0.0014, 0.0014, 0.0014, 0.0014, 0.0014, 0.0014, 0.0013, 0.0013, 0.0013, 0.0013, 0.0013, 0.0012, 0.0012, 0.0012, 0.0012, 0.0012, 0.001, 0.001, 0.001, 0.001, 0.0009, 0.0008, 0.0006], \"textposition\": \"outside\", \"x\": [0.02658829366981545, 0.025035612317971245, 0.02401797420748137, 0.020119134711249532, 0.019472128742089572, 0.017690876400127863, 0.017508217318885376, 0.01725545830985623, 0.016355703835041677, 0.01630379962527206, 0.01529708100503869, 0.014140798095531653, 0.014114773914671164, 0.014006872739781568, 0.013713438518345378, 0.013677561560549866, 0.012878464095906043, 0.012761370037308128, 0.012554586369098822, 0.0125440690088638, 0.012531731120612326, 0.012182061305020721, 0.011912649830460538, 0.011340448909266786, 0.011164706173700998, 0.010994387472037818, 0.01081723218185288, 0.01060473620738381, 0.01050128753439743, 0.010061458094457468, 0.00973466241723143, 0.009704948400181998, 0.009520097248814993, 0.009517363059091299, 0.009435700985050074, 0.009153155156088683, 0.009126590011027919, 0.008798519500267245, 0.008762212673469553, 0.008706567621273368, 0.008055909211418178, 0.008054011786880231, 0.007967569236658758, 0.007877388637817211, 0.007596125203145494, 0.007483820709122643, 0.007440639732596887, 0.006532315692258507, 0.006263557382319591, 0.005985905920178214, 0.005808803503507166, 0.005803759395765642, 0.00580312079228512, 0.005757832125925529, 0.0057386592463574545, 0.0056095277988037155, 0.005489992563318704, 0.005388446470080582, 0.005307261021296703, 0.005283017567539253, 0.005263304628242653, 0.005063139237013128, 0.004988117850045539, 0.004984729867871054, 0.004898867693969982, 0.004632208001078532, 0.004583955982196986, 0.004437183596907324, 0.004349768124403906, 0.004306985467482599, 0.004165928409694196, 0.004101951076125411, 0.004048374918154269, 0.0040251717357979045, 0.003998033388378173, 0.00398651164585886, 0.003976665256087709, 0.003875715540114121, 0.003855528186887276, 0.0037131791511837695, 0.0035579128273085523, 0.0035512891925872135, 0.0034192395042555584, 0.0034104208623572294, 0.0034079601225963665, 0.0033999558401172246, 0.0033464418075803484, 0.003344355726351796, 0.0032385856751567603, 0.0032103328561352675, 0.003185129870830023, 0.003118634955314164, 0.00308080677642891, 0.003067873863669886, 0.003050892892136309, 0.0030382745250856747, 0.002963222334972993, 0.0029155298100782953, 0.0029016859299364002, 0.0028375547012385142, 0.0028335917111793124, 0.0028119200207153217, 0.0027392937827453788, 0.002688472538207322, 0.0026740059195389165, 0.0026581058719351023, 0.002603965059028823, 0.0025931044426730785, 0.0025732407201974525, 0.002524431135828456, 0.002518853978988674, 0.0025182663211021686, 0.0024564158104788975, 0.0024438972510496967, 0.002426673306020557, 0.002424331302705433, 0.0024205077824462685, 0.00241244620205788, 0.002392858904040151, 0.0023603645300207263, 0.0023436804619810245, 0.002318168463505165, 0.002311334331022056, 0.0022977633963172026, 0.00229241325981385, 0.002285545756146294, 0.002272791267498336, 0.0022139587320240124, 0.0022014867626129913, 0.002175393041782708, 0.002166765108047324, 0.0021643918094918363, 0.002158512285740673, 0.0021236843006843444, 0.0021043017453013582, 0.002102768496723235, 0.002090421003308498, 0.002077045587930735, 0.0020274680350233928, 0.0020203912268509728, 0.0020056540853980918, 0.0019957139302371873, 0.001933321917005313, 0.0019171447754641735, 0.0018884216518010588, 0.001874934108001126, 0.0018123600052359762, 0.001809477316198141, 0.001792862710371361, 0.001771878712717939, 0.001765919813791034, 0.0017562301490793356, 0.001732620624535617, 0.00172269163599098, 0.00171713435900182, 0.0017116862644221639, 0.001684564345150742, 0.0016517241225364851, 0.001638535750463933, 0.0016348356520798379, 0.0015908794014519126, 0.001574894571460673, 0.00154411376607232, 0.0015395510622758135, 0.0015211381414882458, 0.0015208244363040663, 0.0015069813907245817, 0.0014941031585388917, 0.0014896730071551315, 0.0014890688235827231, 0.001480056925821039, 0.0014671432884250546, 0.0014670782928851798, 0.0014520309138139997, 0.001443411340987423, 0.0014152714188954416, 0.001401550534089727, 0.0013916347279941683, 0.001387876719793498, 0.0013763777390904228, 0.0012871242090165842, 0.0012854911476260843, 0.0012688966021786167, 0.0012675150502070897, 0.0012595895298241073, 0.0012066505214560423, 0.001204407497767626, 0.001200382357768747, 0.0011997253040289331, 0.001190064878655561, 0.0010464498571705128, 0.001023902953669631, 0.0010024648727406473, 0.0009758389328689387, 0.0008538331343717174, 0.0007706004663316993, 0.0006068452177399371], \"y\": [\"59\", \"3\", \"139\", \"91\", \"44\", \"168\", \"117\", \"77\", \"185\", \"84\", \"0\", \"144\", \"69\", \"165\", \"83\", \"6\", \"141\", \"190\", \"74\", \"34\", \"24\", \"88\", \"164\", \"179\", \"72\", \"38\", \"108\", \"96\", \"67\", \"30\", \"39\", \"146\", \"25\", \"76\", \"186\", \"61\", \"163\", \"70\", \"196\", \"14\", \"31\", \"157\", \"71\", \"174\", \"112\", \"85\", \"54\", \"135\", \"37\", \"53\", \"151\", \"73\", \"23\", \"45\", \"154\", \"12\", \"119\", \"19\", \"149\", \"10\", \"18\", \"1\", \"40\", \"131\", \"82\", \"16\", \"132\", \"191\", \"113\", \"101\", \"145\", \"98\", \"126\", \"15\", \"60\", \"92\", \"55\", \"192\", \"90\", \"8\", \"140\", \"176\", \"181\", \"159\", \"137\", \"79\", \"89\", \"114\", \"127\", \"32\", \"122\", \"136\", \"172\", \"148\", \"21\", \"134\", \"48\", \"124\", \"57\", \"182\", \"133\", \"187\", \"107\", \"56\", \"180\", \"175\", \"22\", \"143\", \"173\", \"58\", \"102\", \"169\", \"128\", \"62\", \"166\", \"125\", \"110\", \"93\", \"118\", \"158\", \"171\", \"28\", \"7\", \"155\", \"111\", \"183\", \"121\", \"130\", \"46\", \"184\", \"35\", \"94\", \"109\", \"13\", \"189\", \"106\", \"104\", \"36\", \"65\", \"63\", \"86\", \"193\", \"103\", \"4\", \"2\", \"142\", \"188\", \"178\", \"52\", \"152\", \"81\", \"129\", \"153\", \"5\", \"147\", \"156\", \"41\", \"170\", \"49\", \"20\", \"162\", \"42\", \"75\", \"123\", \"95\", \"87\", \"167\", \"120\", \"43\", \"33\", \"100\", \"68\", \"116\", \"50\", \"150\", \"160\", \"195\", \"194\", \"97\", \"66\", \"17\", \"177\", \"29\", \"161\", \"80\", \"105\", \"51\", \"138\", \"47\", \"27\", \"64\", \"78\", \"115\", \"99\", \"26\", \"9\", \"11\"], \"type\": \"bar\", \"uid\": \"371a9126-b672-4585-9e0f-d79c3b657c2d\"}], {\"autosize\": false, \"height\": 1000, \"width\": 1000, \"xaxis\": {\"tickfont\": {\"color\": \"black\", \"size\": 12}, \"title\": \"Feature Importances\"}, \"yaxis\": {\"automargin\": true}}, {\"showLink\": true, \"linkText\": \"Export to plot.ly\", \"plotlyServerURL\": \"https://plot.ly\"})});</script>"
      ]
     },
     "metadata": {},
     "output_type": "display_data"
    },
    {
     "name": "stdout",
     "output_type": "stream",
     "text": [
      "\n",
      "\n",
      "\u001b[1mBagging Classifier\u001b[0m\n",
      "Accuracy of the model for training data is: 0.910307980471\n",
      "Confusion Matrix for training data is:\n"
     ]
    },
    {
     "data": {
      "text/plain": [
       "Predicted  False  True  __all__\n",
       "Actual                         \n",
       "False      25030  2808    27838\n",
       "True         113  4616     4729\n",
       "__all__    25143  7424    32567"
      ]
     },
     "metadata": {},
     "output_type": "display_data"
    },
    {
     "name": "stdout",
     "output_type": "stream",
     "text": [
      "Accuracy of the model for test data is: 0.897936624908\n",
      "Confusion Matrix for test data is:\n"
     ]
    },
    {
     "data": {
      "text/plain": [
       "Predicted  False  True  __all__\n",
       "Actual                         \n",
       "False       6217   723     6940\n",
       "True         108  1094     1202\n",
       "__all__     6325  1817     8142"
      ]
     },
     "metadata": {},
     "output_type": "display_data"
    },
    {
     "name": "stdout",
     "output_type": "stream",
     "text": [
      "\n",
      "\n",
      "\u001b[1mNeural Network-1\u001b[0m\n",
      "The accuracy of the model on training data is: 0.903429852314\n"
     ]
    },
    {
     "data": {
      "text/plain": [
       "Predicted  False  True  __all__\n",
       "Actual                         \n",
       "False      24752  3086    27838\n",
       "True          59  4670     4729\n",
       "__all__    24811  7756    32567"
      ]
     },
     "metadata": {},
     "output_type": "display_data"
    },
    {
     "name": "stdout",
     "output_type": "stream",
     "text": [
      "The accuracy of the model on test data is: 0.888725128961\n"
     ]
    },
    {
     "data": {
      "text/plain": [
       "Predicted  False  True  __all__\n",
       "Actual                         \n",
       "False       6122   818     6940\n",
       "True          88  1114     1202\n",
       "__all__     6210  1932     8142"
      ]
     },
     "metadata": {},
     "output_type": "display_data"
    },
    {
     "name": "stdout",
     "output_type": "stream",
     "text": [
      "\n",
      "\n"
     ]
    }
   ],
   "source": [
    "feat_imp=[None]*4\n",
    "j=0\n",
    "for i in range(0,8):\n",
    "    if i>=2 and i<=5:\n",
    "        model,cm_train,cm_test,acc_train,acc_test,roc_auc,feat_imp[j],mcc=f[i](X_train,Y_train,X_test,Y_test,np.arange(0,197).astype(str))\n",
    "        j=j+1\n",
    "    else:\n",
    "        model,cm_train,cm_test,acc_train,acc_test,roc_auc,mcc=f[i](X_train,Y_train,X_test,Y_test)\n",
    "    table_80_70_train.loc[i]=   ([acc_train,cm_train.TP,cm_train.TN,cm_train.FP,cm_train.FN,cm_train.FPR,cm_train.FNR])\n",
    "    table_80_70_test.loc[i] =   ([acc_test ,cm_test.TP, cm_test.TN, cm_test.FP, cm_test.FN, cm_test.FPR, cm_test.FNR,roc_auc,mcc])\n",
    "    print(\"\\n\")"
   ]
  },
  {
   "cell_type": "markdown",
   "metadata": {},
   "source": [
    "### <a id='5.A' style=\"text-decoration : none; color : #000000;\"> A. Results</a>"
   ]
  },
  {
   "cell_type": "code",
   "execution_count": 62,
   "metadata": {},
   "outputs": [
    {
     "data": {
      "application/vnd.plotly.v1+json": {
       "config": {
        "linkText": "Export to plot.ly",
        "plotlyServerURL": "https://plot.ly",
        "showLink": true
       },
       "data": [
        {
         "mode": "lines",
         "name": "KNN_model",
         "type": "scatter",
         "uid": "cd592153-1dcb-4669-b9ff-e22fab1afe41",
         "x": [
          "accuracy",
          "FPR",
          "FNR",
          "auc"
         ],
         "y": [
          0.8615819209039548,
          0.012680115273775217,
          0.8643926788685524,
          0.5614636029288361
         ]
        },
        {
         "mode": "lines+markers",
         "name": "Logistic Regression",
         "type": "scatter",
         "uid": "2bf13af7-36ff-4a89-8b26-b93beda59439",
         "x": [
          "accuracy",
          "FPR",
          "FNR",
          "auc"
         ],
         "y": [
          0.8828297715549005,
          0.1138328530259366,
          0.13643926788685523,
          0.8748639395436042
         ]
        },
        {
         "marker": {
          "symbol": "x"
         },
         "mode": "lines+markers",
         "name": "Random Forest",
         "type": "scatter",
         "uid": "406901ff-11cb-45cf-9084-9214526f1cfd",
         "x": [
          "accuracy",
          "FPR",
          "FNR",
          "auc"
         ],
         "y": [
          0.8976909850159666,
          0.10403458213256485,
          0.09234608985024959,
          0.9018096640085927
         ]
        },
        {
         "mode": "lines",
         "name": "Ada Boost",
         "type": "scatter",
         "uid": "ce078abd-4e9f-47f5-a807-de90425583c4",
         "x": [
          "accuracy",
          "FPR",
          "FNR",
          "auc"
         ],
         "y": [
          0.8889707688528617,
          0.10547550432276658,
          0.14309484193011648,
          0.8757148268735586
         ]
        },
        {
         "mode": "lines+markers",
         "name": "GradientBoosting",
         "type": "scatter",
         "uid": "d18ca78b-7d6f-45ec-ab05-9d061f269af7",
         "x": [
          "accuracy",
          "FPR",
          "FNR",
          "auc"
         ],
         "y": [
          0.8943748464750676,
          0.10417867435158501,
          0.11397670549084858,
          0.8909223100787832
         ]
        },
        {
         "marker": {
          "symbol": "x"
         },
         "mode": "lines+markers",
         "name": "ExtraTree Classifier",
         "type": "scatter",
         "uid": "2ba6a88f-b659-45cb-9622-467a660327c7",
         "x": [
          "accuracy",
          "FPR",
          "FNR",
          "auc"
         ],
         "y": [
          0.8975681650700074,
          0.10417867435158501,
          0.09234608985024959,
          0.9017376178990827
         ]
        },
        {
         "marker": {
          "symbol": "x"
         },
         "mode": "lines+markers",
         "name": "Bagging",
         "type": "scatter",
         "uid": "70d485e7-36da-44de-bbc2-03004c00ce78",
         "x": [
          "accuracy",
          "FPR",
          "FNR",
          "auc"
         ],
         "y": [
          0.8979366249078851,
          0.10417867435158501,
          0.08985024958402663,
          0.9029855380321943
         ]
        },
        {
         "marker": {
          "symbol": "x"
         },
         "mode": "lines+markers",
         "name": "Neural Network",
         "type": "scatter",
         "uid": "ef025c1c-854e-4283-afec-a747d5753844",
         "x": [
          "accuracy",
          "FPR",
          "FNR",
          "auc"
         ],
         "y": [
          0.8887251289609432,
          0.11786743515850144,
          0.07321131447587355,
          0.9029855380321943
         ]
        }
       ],
       "layout": {
        "title": "Result comparision for Features selected in Section 1",
        "yaxis": {
         "dtick": 0.05,
         "tick0": 0
        }
       }
      },
      "text/html": [
       "<div id=\"5a75b274-4ced-4d70-a485-96e80de74921\" style=\"height: 525px; width: 100%;\" class=\"plotly-graph-div\"></div><script type=\"text/javascript\">require([\"plotly\"], function(Plotly) { window.PLOTLYENV=window.PLOTLYENV || {};window.PLOTLYENV.BASE_URL=\"https://plot.ly\";Plotly.newPlot(\"5a75b274-4ced-4d70-a485-96e80de74921\", [{\"mode\": \"lines\", \"name\": \"KNN_model\", \"x\": [\"accuracy\", \"FPR\", \"FNR\", \"auc\"], \"y\": [0.8615819209039548, 0.012680115273775217, 0.8643926788685524, 0.5614636029288361], \"type\": \"scatter\", \"uid\": \"cd592153-1dcb-4669-b9ff-e22fab1afe41\"}, {\"mode\": \"lines+markers\", \"name\": \"Logistic Regression\", \"x\": [\"accuracy\", \"FPR\", \"FNR\", \"auc\"], \"y\": [0.8828297715549005, 0.1138328530259366, 0.13643926788685523, 0.8748639395436042], \"type\": \"scatter\", \"uid\": \"2bf13af7-36ff-4a89-8b26-b93beda59439\"}, {\"marker\": {\"symbol\": \"x\"}, \"mode\": \"lines+markers\", \"name\": \"Random Forest\", \"x\": [\"accuracy\", \"FPR\", \"FNR\", \"auc\"], \"y\": [0.8976909850159666, 0.10403458213256485, 0.09234608985024959, 0.9018096640085927], \"type\": \"scatter\", \"uid\": \"406901ff-11cb-45cf-9084-9214526f1cfd\"}, {\"mode\": \"lines\", \"name\": \"Ada Boost\", \"x\": [\"accuracy\", \"FPR\", \"FNR\", \"auc\"], \"y\": [0.8889707688528617, 0.10547550432276658, 0.14309484193011648, 0.8757148268735586], \"type\": \"scatter\", \"uid\": \"ce078abd-4e9f-47f5-a807-de90425583c4\"}, {\"mode\": \"lines+markers\", \"name\": \"GradientBoosting\", \"x\": [\"accuracy\", \"FPR\", \"FNR\", \"auc\"], \"y\": [0.8943748464750676, 0.10417867435158501, 0.11397670549084858, 0.8909223100787832], \"type\": \"scatter\", \"uid\": \"d18ca78b-7d6f-45ec-ab05-9d061f269af7\"}, {\"marker\": {\"symbol\": \"x\"}, \"mode\": \"lines+markers\", \"name\": \"ExtraTree Classifier\", \"x\": [\"accuracy\", \"FPR\", \"FNR\", \"auc\"], \"y\": [0.8975681650700074, 0.10417867435158501, 0.09234608985024959, 0.9017376178990827], \"type\": \"scatter\", \"uid\": \"2ba6a88f-b659-45cb-9622-467a660327c7\"}, {\"marker\": {\"symbol\": \"x\"}, \"mode\": \"lines+markers\", \"name\": \"Bagging\", \"x\": [\"accuracy\", \"FPR\", \"FNR\", \"auc\"], \"y\": [0.8979366249078851, 0.10417867435158501, 0.08985024958402663, 0.9029855380321943], \"type\": \"scatter\", \"uid\": \"70d485e7-36da-44de-bbc2-03004c00ce78\"}, {\"marker\": {\"symbol\": \"x\"}, \"mode\": \"lines+markers\", \"name\": \"Neural Network\", \"x\": [\"accuracy\", \"FPR\", \"FNR\", \"auc\"], \"y\": [0.8887251289609432, 0.11786743515850144, 0.07321131447587355, 0.9029855380321943], \"type\": \"scatter\", \"uid\": \"ef025c1c-854e-4283-afec-a747d5753844\"}], {\"title\": \"Result comparision for Features selected in Section 1\", \"yaxis\": {\"dtick\": 0.05, \"tick0\": 0}}, {\"showLink\": true, \"linkText\": \"Export to plot.ly\", \"plotlyServerURL\": \"https://plot.ly\"})});</script><script type=\"text/javascript\">window.addEventListener(\"resize\", function(){window._Plotly.Plots.resize(document.getElementById(\"5a75b274-4ced-4d70-a485-96e80de74921\"));});</script>"
      ],
      "text/vnd.plotly.v1+html": [
       "<div id=\"5a75b274-4ced-4d70-a485-96e80de74921\" style=\"height: 525px; width: 100%;\" class=\"plotly-graph-div\"></div><script type=\"text/javascript\">require([\"plotly\"], function(Plotly) { window.PLOTLYENV=window.PLOTLYENV || {};window.PLOTLYENV.BASE_URL=\"https://plot.ly\";Plotly.newPlot(\"5a75b274-4ced-4d70-a485-96e80de74921\", [{\"mode\": \"lines\", \"name\": \"KNN_model\", \"x\": [\"accuracy\", \"FPR\", \"FNR\", \"auc\"], \"y\": [0.8615819209039548, 0.012680115273775217, 0.8643926788685524, 0.5614636029288361], \"type\": \"scatter\", \"uid\": \"cd592153-1dcb-4669-b9ff-e22fab1afe41\"}, {\"mode\": \"lines+markers\", \"name\": \"Logistic Regression\", \"x\": [\"accuracy\", \"FPR\", \"FNR\", \"auc\"], \"y\": [0.8828297715549005, 0.1138328530259366, 0.13643926788685523, 0.8748639395436042], \"type\": \"scatter\", \"uid\": \"2bf13af7-36ff-4a89-8b26-b93beda59439\"}, {\"marker\": {\"symbol\": \"x\"}, \"mode\": \"lines+markers\", \"name\": \"Random Forest\", \"x\": [\"accuracy\", \"FPR\", \"FNR\", \"auc\"], \"y\": [0.8976909850159666, 0.10403458213256485, 0.09234608985024959, 0.9018096640085927], \"type\": \"scatter\", \"uid\": \"406901ff-11cb-45cf-9084-9214526f1cfd\"}, {\"mode\": \"lines\", \"name\": \"Ada Boost\", \"x\": [\"accuracy\", \"FPR\", \"FNR\", \"auc\"], \"y\": [0.8889707688528617, 0.10547550432276658, 0.14309484193011648, 0.8757148268735586], \"type\": \"scatter\", \"uid\": \"ce078abd-4e9f-47f5-a807-de90425583c4\"}, {\"mode\": \"lines+markers\", \"name\": \"GradientBoosting\", \"x\": [\"accuracy\", \"FPR\", \"FNR\", \"auc\"], \"y\": [0.8943748464750676, 0.10417867435158501, 0.11397670549084858, 0.8909223100787832], \"type\": \"scatter\", \"uid\": \"d18ca78b-7d6f-45ec-ab05-9d061f269af7\"}, {\"marker\": {\"symbol\": \"x\"}, \"mode\": \"lines+markers\", \"name\": \"ExtraTree Classifier\", \"x\": [\"accuracy\", \"FPR\", \"FNR\", \"auc\"], \"y\": [0.8975681650700074, 0.10417867435158501, 0.09234608985024959, 0.9017376178990827], \"type\": \"scatter\", \"uid\": \"2ba6a88f-b659-45cb-9622-467a660327c7\"}, {\"marker\": {\"symbol\": \"x\"}, \"mode\": \"lines+markers\", \"name\": \"Bagging\", \"x\": [\"accuracy\", \"FPR\", \"FNR\", \"auc\"], \"y\": [0.8979366249078851, 0.10417867435158501, 0.08985024958402663, 0.9029855380321943], \"type\": \"scatter\", \"uid\": \"70d485e7-36da-44de-bbc2-03004c00ce78\"}, {\"marker\": {\"symbol\": \"x\"}, \"mode\": \"lines+markers\", \"name\": \"Neural Network\", \"x\": [\"accuracy\", \"FPR\", \"FNR\", \"auc\"], \"y\": [0.8887251289609432, 0.11786743515850144, 0.07321131447587355, 0.9029855380321943], \"type\": \"scatter\", \"uid\": \"ef025c1c-854e-4283-afec-a747d5753844\"}], {\"title\": \"Result comparision for Features selected in Section 1\", \"yaxis\": {\"dtick\": 0.05, \"tick0\": 0}}, {\"showLink\": true, \"linkText\": \"Export to plot.ly\", \"plotlyServerURL\": \"https://plot.ly\"})});</script><script type=\"text/javascript\">window.addEventListener(\"resize\", function(){window._Plotly.Plots.resize(document.getElementById(\"5a75b274-4ced-4d70-a485-96e80de74921\"));});</script>"
      ]
     },
     "metadata": {},
     "output_type": "display_data"
    }
   ],
   "source": [
    "trace0 = go.Scatter(x=table_80_70_test.iloc[0].index.values[[0,5,6,7]],\n",
    "                    y=table_80_70_test.iloc[0].values[[0,5,6,7]],\n",
    "                    mode = 'lines',\n",
    "                    name = 'KNN_model')\n",
    "\n",
    "trace1 = go.Scatter(x=table_80_70_test.iloc[1].index.values[[0,5,6,7]],\n",
    "                    y=table_80_70_test.iloc[1].values[[0,5,6,7]],\n",
    "                    mode = 'lines+markers',\n",
    "                    name = 'Logistic Regression')\n",
    "\n",
    "trace2 = go.Scatter(x=table_80_70_test.iloc[2].index.values[[0,5,6,7]],\n",
    "                    y=table_80_70_test.iloc[2].values[[0,5,6,7]],\n",
    "                    mode = 'lines+markers',marker=dict(symbol='x'),\n",
    "                    name = 'Random Forest')\n",
    "\n",
    "\n",
    "trace3 = go.Scatter(x=table_80_70_test.iloc[3].index.values[[0,5,6,7]],\n",
    "                    y=table_80_70_test.iloc[3].values[[0,5,6,7]],\n",
    "                    mode = 'lines',\n",
    "                    name = 'Ada Boost')\n",
    "\n",
    "trace4 = go.Scatter(x=table_80_70_test.iloc[4].index.values[[0,5,6,7]],\n",
    "                    y=table_80_70_test.iloc[4].values[[0,5,6,7]],\n",
    "                    mode = 'lines+markers',\n",
    "                    name = 'GradientBoosting')\n",
    "\n",
    "trace5 = go.Scatter(x=table_80_70_test.iloc[5].index.values[[0,5,6,7]],\n",
    "                    y=table_80_70_test.iloc[5].values[[0,5,6,7]],\n",
    "                    mode = 'lines+markers',marker=dict(symbol='x'),\n",
    "                    name = 'ExtraTree Classifier')\n",
    "\n",
    "trace6 = go.Scatter(x=table_80_70_test.iloc[6].index.values[[0,5,6,7]],\n",
    "                    y=table_80_70_test.iloc[6].values[[0,5,6,7]],\n",
    "                    mode = 'lines+markers',marker=dict(symbol='x'),\n",
    "                    name = 'Bagging')\n",
    "\n",
    "trace7 = go.Scatter(x=table_80_70_test.iloc[7].index.values[[0,5,6,7]],\n",
    "                    y=table_80_70_test.iloc[7].values[[0,5,6,7]],\n",
    "                    mode = 'lines+markers',marker=dict(symbol='x'),\n",
    "                    name = 'Neural Network')\n",
    "\n",
    "\n",
    "\n",
    "data = [trace0, trace1, trace2, trace3, trace4, trace5, trace6, trace7]\n",
    "layout = go.Layout(yaxis=dict(tick0=0,dtick=0.05),title='Result comparision for Features selected in Section 1')\n",
    "fig = go.Figure(data=data, layout=layout)\n",
    "\n",
    "iplot(fig, filename='Result')"
   ]
  },
  {
   "cell_type": "code",
   "execution_count": 63,
   "metadata": {},
   "outputs": [
    {
     "name": "stdout",
     "output_type": "stream",
     "text": [
      "Training Results\n"
     ]
    },
    {
     "data": {
      "text/html": [
       "<div>\n",
       "<style scoped>\n",
       "    .dataframe tbody tr th:only-of-type {\n",
       "        vertical-align: middle;\n",
       "    }\n",
       "\n",
       "    .dataframe tbody tr th {\n",
       "        vertical-align: top;\n",
       "    }\n",
       "\n",
       "    .dataframe thead th {\n",
       "        text-align: right;\n",
       "    }\n",
       "</style>\n",
       "<table border=\"1\" class=\"dataframe\">\n",
       "  <thead>\n",
       "    <tr style=\"text-align: right;\">\n",
       "      <th></th>\n",
       "      <th>accuracy</th>\n",
       "      <th>TP</th>\n",
       "      <th>TN</th>\n",
       "      <th>FP</th>\n",
       "      <th>FN</th>\n",
       "      <th>FPR</th>\n",
       "      <th>FNR</th>\n",
       "    </tr>\n",
       "    <tr>\n",
       "      <th>index</th>\n",
       "      <th></th>\n",
       "      <th></th>\n",
       "      <th></th>\n",
       "      <th></th>\n",
       "      <th></th>\n",
       "      <th></th>\n",
       "      <th></th>\n",
       "    </tr>\n",
       "  </thead>\n",
       "  <tbody>\n",
       "    <tr>\n",
       "      <th>KNeighborsClassifier</th>\n",
       "      <td>0.873123</td>\n",
       "      <td>800.0</td>\n",
       "      <td>27635.0</td>\n",
       "      <td>203.0</td>\n",
       "      <td>3929.0</td>\n",
       "      <td>0.007292</td>\n",
       "      <td>0.830831</td>\n",
       "    </tr>\n",
       "    <tr>\n",
       "      <th>LogisticRegression</th>\n",
       "      <td>0.882212</td>\n",
       "      <td>4073.0</td>\n",
       "      <td>24658.0</td>\n",
       "      <td>3180.0</td>\n",
       "      <td>656.0</td>\n",
       "      <td>0.114232</td>\n",
       "      <td>0.138719</td>\n",
       "    </tr>\n",
       "    <tr>\n",
       "      <th>RandomForestClassifier</th>\n",
       "      <td>0.909909</td>\n",
       "      <td>4605.0</td>\n",
       "      <td>25028.0</td>\n",
       "      <td>2810.0</td>\n",
       "      <td>124.0</td>\n",
       "      <td>0.100941</td>\n",
       "      <td>0.026221</td>\n",
       "    </tr>\n",
       "    <tr>\n",
       "      <th>AdaBoostClassifier</th>\n",
       "      <td>0.890963</td>\n",
       "      <td>4101.0</td>\n",
       "      <td>24915.0</td>\n",
       "      <td>2923.0</td>\n",
       "      <td>628.0</td>\n",
       "      <td>0.105000</td>\n",
       "      <td>0.132798</td>\n",
       "    </tr>\n",
       "    <tr>\n",
       "      <th>GradientBoostingClassifier</th>\n",
       "      <td>0.898793</td>\n",
       "      <td>4235.0</td>\n",
       "      <td>25036.0</td>\n",
       "      <td>2802.0</td>\n",
       "      <td>494.0</td>\n",
       "      <td>0.100654</td>\n",
       "      <td>0.104462</td>\n",
       "    </tr>\n",
       "    <tr>\n",
       "      <th>ExtraTreeClassifier</th>\n",
       "      <td>0.912488</td>\n",
       "      <td>4682.0</td>\n",
       "      <td>25035.0</td>\n",
       "      <td>2803.0</td>\n",
       "      <td>47.0</td>\n",
       "      <td>0.100690</td>\n",
       "      <td>0.009939</td>\n",
       "    </tr>\n",
       "    <tr>\n",
       "      <th>BaggingClassifier</th>\n",
       "      <td>0.910308</td>\n",
       "      <td>4616.0</td>\n",
       "      <td>25030.0</td>\n",
       "      <td>2808.0</td>\n",
       "      <td>113.0</td>\n",
       "      <td>0.100869</td>\n",
       "      <td>0.023895</td>\n",
       "    </tr>\n",
       "    <tr>\n",
       "      <th>Neural Network-1</th>\n",
       "      <td>0.903430</td>\n",
       "      <td>4670.0</td>\n",
       "      <td>24752.0</td>\n",
       "      <td>3086.0</td>\n",
       "      <td>59.0</td>\n",
       "      <td>0.110856</td>\n",
       "      <td>0.012476</td>\n",
       "    </tr>\n",
       "  </tbody>\n",
       "</table>\n",
       "</div>"
      ],
      "text/plain": [
       "                            accuracy      TP       TN      FP      FN  \\\n",
       "index                                                                   \n",
       "KNeighborsClassifier        0.873123   800.0  27635.0   203.0  3929.0   \n",
       "LogisticRegression          0.882212  4073.0  24658.0  3180.0   656.0   \n",
       "RandomForestClassifier      0.909909  4605.0  25028.0  2810.0   124.0   \n",
       "AdaBoostClassifier          0.890963  4101.0  24915.0  2923.0   628.0   \n",
       "GradientBoostingClassifier  0.898793  4235.0  25036.0  2802.0   494.0   \n",
       "ExtraTreeClassifier         0.912488  4682.0  25035.0  2803.0    47.0   \n",
       "BaggingClassifier           0.910308  4616.0  25030.0  2808.0   113.0   \n",
       "Neural Network-1            0.903430  4670.0  24752.0  3086.0    59.0   \n",
       "\n",
       "                                 FPR       FNR  \n",
       "index                                           \n",
       "KNeighborsClassifier        0.007292  0.830831  \n",
       "LogisticRegression          0.114232  0.138719  \n",
       "RandomForestClassifier      0.100941  0.026221  \n",
       "AdaBoostClassifier          0.105000  0.132798  \n",
       "GradientBoostingClassifier  0.100654  0.104462  \n",
       "ExtraTreeClassifier         0.100690  0.009939  \n",
       "BaggingClassifier           0.100869  0.023895  \n",
       "Neural Network-1            0.110856  0.012476  "
      ]
     },
     "metadata": {},
     "output_type": "display_data"
    },
    {
     "name": "stdout",
     "output_type": "stream",
     "text": [
      "Test Results\n"
     ]
    },
    {
     "data": {
      "text/html": [
       "<div>\n",
       "<style scoped>\n",
       "    .dataframe tbody tr th:only-of-type {\n",
       "        vertical-align: middle;\n",
       "    }\n",
       "\n",
       "    .dataframe tbody tr th {\n",
       "        vertical-align: top;\n",
       "    }\n",
       "\n",
       "    .dataframe thead th {\n",
       "        text-align: right;\n",
       "    }\n",
       "</style>\n",
       "<table border=\"1\" class=\"dataframe\">\n",
       "  <thead>\n",
       "    <tr style=\"text-align: right;\">\n",
       "      <th></th>\n",
       "      <th>accuracy</th>\n",
       "      <th>TP</th>\n",
       "      <th>TN</th>\n",
       "      <th>FP</th>\n",
       "      <th>FN</th>\n",
       "      <th>FPR</th>\n",
       "      <th>FNR</th>\n",
       "      <th>auc</th>\n",
       "      <th>mcc</th>\n",
       "    </tr>\n",
       "    <tr>\n",
       "      <th>index</th>\n",
       "      <th></th>\n",
       "      <th></th>\n",
       "      <th></th>\n",
       "      <th></th>\n",
       "      <th></th>\n",
       "      <th></th>\n",
       "      <th></th>\n",
       "      <th></th>\n",
       "      <th></th>\n",
       "    </tr>\n",
       "  </thead>\n",
       "  <tbody>\n",
       "    <tr>\n",
       "      <th>KNeighborsClassifier</th>\n",
       "      <td>0.861582</td>\n",
       "      <td>163.0</td>\n",
       "      <td>6852.0</td>\n",
       "      <td>88.0</td>\n",
       "      <td>1039.0</td>\n",
       "      <td>0.012680</td>\n",
       "      <td>0.864393</td>\n",
       "      <td>0.561464</td>\n",
       "      <td>0.252277</td>\n",
       "    </tr>\n",
       "    <tr>\n",
       "      <th>LogisticRegression</th>\n",
       "      <td>0.882830</td>\n",
       "      <td>1038.0</td>\n",
       "      <td>6150.0</td>\n",
       "      <td>790.0</td>\n",
       "      <td>164.0</td>\n",
       "      <td>0.113833</td>\n",
       "      <td>0.136439</td>\n",
       "      <td>0.874864</td>\n",
       "      <td>0.637375</td>\n",
       "    </tr>\n",
       "    <tr>\n",
       "      <th>RandomForestClassifier</th>\n",
       "      <td>0.897691</td>\n",
       "      <td>1091.0</td>\n",
       "      <td>6218.0</td>\n",
       "      <td>722.0</td>\n",
       "      <td>111.0</td>\n",
       "      <td>0.104035</td>\n",
       "      <td>0.092346</td>\n",
       "      <td>0.901810</td>\n",
       "      <td>0.685198</td>\n",
       "    </tr>\n",
       "    <tr>\n",
       "      <th>AdaBoostClassifier</th>\n",
       "      <td>0.888971</td>\n",
       "      <td>1030.0</td>\n",
       "      <td>6208.0</td>\n",
       "      <td>732.0</td>\n",
       "      <td>172.0</td>\n",
       "      <td>0.105476</td>\n",
       "      <td>0.143095</td>\n",
       "      <td>0.875715</td>\n",
       "      <td>0.647302</td>\n",
       "    </tr>\n",
       "    <tr>\n",
       "      <th>GradientBoostingClassifier</th>\n",
       "      <td>0.894375</td>\n",
       "      <td>1065.0</td>\n",
       "      <td>6217.0</td>\n",
       "      <td>723.0</td>\n",
       "      <td>137.0</td>\n",
       "      <td>0.104179</td>\n",
       "      <td>0.113977</td>\n",
       "      <td>0.890922</td>\n",
       "      <td>0.669954</td>\n",
       "    </tr>\n",
       "    <tr>\n",
       "      <th>ExtraTreeClassifier</th>\n",
       "      <td>0.897568</td>\n",
       "      <td>1091.0</td>\n",
       "      <td>6217.0</td>\n",
       "      <td>723.0</td>\n",
       "      <td>111.0</td>\n",
       "      <td>0.104179</td>\n",
       "      <td>0.092346</td>\n",
       "      <td>0.901738</td>\n",
       "      <td>0.684940</td>\n",
       "    </tr>\n",
       "    <tr>\n",
       "      <th>BaggingClassifier</th>\n",
       "      <td>0.897937</td>\n",
       "      <td>1094.0</td>\n",
       "      <td>6217.0</td>\n",
       "      <td>723.0</td>\n",
       "      <td>108.0</td>\n",
       "      <td>0.104179</td>\n",
       "      <td>0.089850</td>\n",
       "      <td>0.902986</td>\n",
       "      <td>0.686663</td>\n",
       "    </tr>\n",
       "    <tr>\n",
       "      <th>Neural Network-1</th>\n",
       "      <td>0.888725</td>\n",
       "      <td>1114.0</td>\n",
       "      <td>6122.0</td>\n",
       "      <td>818.0</td>\n",
       "      <td>88.0</td>\n",
       "      <td>0.117867</td>\n",
       "      <td>0.073211</td>\n",
       "      <td>0.902986</td>\n",
       "      <td>0.674511</td>\n",
       "    </tr>\n",
       "  </tbody>\n",
       "</table>\n",
       "</div>"
      ],
      "text/plain": [
       "                            accuracy      TP      TN     FP      FN       FPR  \\\n",
       "index                                                                           \n",
       "KNeighborsClassifier        0.861582   163.0  6852.0   88.0  1039.0  0.012680   \n",
       "LogisticRegression          0.882830  1038.0  6150.0  790.0   164.0  0.113833   \n",
       "RandomForestClassifier      0.897691  1091.0  6218.0  722.0   111.0  0.104035   \n",
       "AdaBoostClassifier          0.888971  1030.0  6208.0  732.0   172.0  0.105476   \n",
       "GradientBoostingClassifier  0.894375  1065.0  6217.0  723.0   137.0  0.104179   \n",
       "ExtraTreeClassifier         0.897568  1091.0  6217.0  723.0   111.0  0.104179   \n",
       "BaggingClassifier           0.897937  1094.0  6217.0  723.0   108.0  0.104179   \n",
       "Neural Network-1            0.888725  1114.0  6122.0  818.0    88.0  0.117867   \n",
       "\n",
       "                                 FNR       auc       mcc  \n",
       "index                                                     \n",
       "KNeighborsClassifier        0.864393  0.561464  0.252277  \n",
       "LogisticRegression          0.136439  0.874864  0.637375  \n",
       "RandomForestClassifier      0.092346  0.901810  0.685198  \n",
       "AdaBoostClassifier          0.143095  0.875715  0.647302  \n",
       "GradientBoostingClassifier  0.113977  0.890922  0.669954  \n",
       "ExtraTreeClassifier         0.092346  0.901738  0.684940  \n",
       "BaggingClassifier           0.089850  0.902986  0.686663  \n",
       "Neural Network-1            0.073211  0.902986  0.674511  "
      ]
     },
     "metadata": {},
     "output_type": "display_data"
    }
   ],
   "source": [
    "table_80_70_train['index']=ind_columns\n",
    "table_80_70_test['index']=ind_columns\n",
    "\n",
    "\n",
    "table_80_70_test.set_index(['index'],drop=True,inplace=True)\n",
    "table_80_70_train.set_index(['index'],drop=True,inplace=True)\n",
    "\n",
    "print(\"Training Results\")\n",
    "display(table_80_70_train)\n",
    "print(\"Test Results\")\n",
    "display(table_80_70_test)"
   ]
  },
  {
   "cell_type": "code",
   "execution_count": 64,
   "metadata": {},
   "outputs": [
    {
     "data": {
      "text/html": [
       "<script>\n",
       "code_show=true; \n",
       "function code_toggle() {\n",
       " if (code_show){\n",
       " $('div.input').hide();\n",
       " } else {\n",
       " $('div.input').show();\n",
       " }\n",
       " code_show = !code_show\n",
       "} \n",
       "$( document ).ready(code_toggle);\n",
       "</script>\n",
       "To toggle code, click <a href=\"javascript:code_toggle()\">here</a>."
      ],
      "text/plain": [
       "<IPython.core.display.HTML object>"
      ]
     },
     "execution_count": 64,
     "metadata": {},
     "output_type": "execute_result"
    }
   ],
   "source": [
    "### Original Creator : Darshan Bhansali\n",
    "### HTML code to hide the input cells \n",
    "HTML('''<script>\n",
    "code_show=true; \n",
    "function code_toggle() {\n",
    " if (code_show){\n",
    " $('div.input').hide();\n",
    " } else {\n",
    " $('div.input').show();\n",
    " }\n",
    " code_show = !code_show\n",
    "} \n",
    "$( document ).ready(code_toggle);\n",
    "</script>\n",
    "To toggle code, click <a href=\"javascript:code_toggle()\">here</a>.''')"
   ]
  }
 ],
 "metadata": {
  "kernelspec": {
   "display_name": "Python 3",
   "language": "python",
   "name": "python3"
  },
  "language_info": {
   "codemirror_mode": {
    "name": "ipython",
    "version": 3
   },
   "file_extension": ".py",
   "mimetype": "text/x-python",
   "name": "python",
   "nbconvert_exporter": "python",
   "pygments_lexer": "ipython3",
   "version": "3.6.7"
  }
 },
 "nbformat": 4,
 "nbformat_minor": 2
}
