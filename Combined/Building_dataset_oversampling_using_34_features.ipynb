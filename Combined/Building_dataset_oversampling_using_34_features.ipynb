{
 "cells": [
  {
   "cell_type": "code",
   "execution_count": 8,
   "metadata": {},
   "outputs": [],
   "source": [
    "import pandas as pd\n",
    "import seaborn as sns\n",
    "import numpy as np\n",
    "import matplotlib.pyplot as plt\n",
    "%matplotlib inline\n",
    "import researchpy as rp\n",
    "\n",
    "\n",
    "from sklearn.manifold import TSNE\n",
    "\n",
    "from sklearn.preprocessing import StandardScaler\n",
    "from sklearn.model_selection import GridSearchCV,StratifiedKFold\n",
    "from sklearn.ensemble import RandomForestClassifier\n",
    "from sklearn.metrics import accuracy_score,auc,roc_curve,recall_score,precision_score,matthews_corrcoef\n",
    "# from pandas_ml import ConfusionMatrix\n",
    "import warnings\n",
    "warnings.filterwarnings('ignore')\n",
    "from imblearn.over_sampling import SMOTE,ADASYN\n",
    "import imblearn.over_sampling as over\n",
    "from IPython.display import display,clear_output,HTML"
   ]
  },
  {
   "cell_type": "code",
   "execution_count": 9,
   "metadata": {},
   "outputs": [],
   "source": [
    "def RandomForest(X_train,Y_train,X_test,Y_test,feat):\n",
    "    print('\\033[1m' + 'RandomForest Classifier' + '\\033[0m')\n",
    "    rf=RandomForestClassifier(n_estimators=100,random_state=10)\n",
    "    rf.fit(X_train,Y_train)\n",
    "    return model_build(rf,X_train,Y_train,X_test,Y_test,True,feat)\n",
    "\n",
    "def model_build(model,X_train,Y_train,X_test,Y_test,tree=False,feat=None):    \n",
    "    y_pred_train=model.predict(X_train)\n",
    "    acc_train=accuracy_score(Y_train,y_pred_train)\n",
    "#     print(\"Accuracy of the model for training data is:\",acc_train)\n",
    "#     print(\"Confusion Matrix for training data is:\")\n",
    "#     cm_train=ConfusionMatrix(Y_train,y_pred_train)\n",
    "#     display(cm_train)\n",
    "#     y_pred_test=model.predict(X_test)\n",
    "#     acc_test=accuracy_score(Y_test,y_pred_test)\n",
    "#     print(\"Accuracy of the model for test data is:\",acc_test)\n",
    "#     print(\"Confusion Matrix for test data is:\")\n",
    "#     cm_test=ConfusionMatrix(Y_test,y_pred_test)\n",
    "#     display(cm_test)\n",
    "    \n",
    "    print(\"Accuracy of the model for training data is:\",accuracy_score(Y_train,model.predict(X_train)))\n",
    "    print(\"Confusion Matrix for training data is:\")\n",
    "    y_pred_train=model.predict(X_train)\n",
    "    display(pd.crosstab(Y_train,y_pred_train))\n",
    "    y_pred_test=model.predict(X_test)\n",
    "    acc_test=accuracy_score(Y_test,y_pred_test)\n",
    "    print(\"Accuracy of the model for test data is:\",acc_test)\n",
    "    print(\"Confusion Matrix for test data is:\")\n",
    "    display(pd.crosstab(Y_test,y_pred_test))\n",
    "    \n",
    "    fpr, tpr, threshold = roc_curve(Y_test, y_pred_test)\n",
    "    roc_auc =auc(fpr, tpr)\n",
    "    mcc=matthews_corrcoef(Y_test,y_pred_test)\n",
    "    precision=precision_score(Y_test,y_pred_test)\n",
    "    recall=recall_score(Y_test,y_pred_test)\n",
    "#     if tree==True:\n",
    "#         feat_impt_plot(model.feature_importances_,feat)\n",
    "#         return model,cm_train,cm_test,acc_train,acc_test,roc_auc,model.feature_importances_,mcc,precision,recall\n",
    "    return model,acc_train,acc_test,roc_auc,mcc,precision,recall\n",
    "\n",
    "### Function to plot Feature Importance\n",
    "def feat_impt_plot(feat_impt,y_labels,width_s=1000,height_s=1000):\n",
    "    \n",
    "    m=pd.DataFrame(y_labels,feat_impt).reset_index()\n",
    "    m.columns=['Feature_Importance','Features']\n",
    "    m.sort_values(by='Feature_Importance',inplace=True,ascending=False)\n",
    "    m['Features']=m['Features'].str.replace(\"dom_function_\",\"\")\n",
    "    m['Features']=m['Features'].str.replace(\"js_function_\",\"\")\n",
    "    m['Features']=m['Features'].apply(lambda x: str(x).lstrip('.'))\n",
    "    m['Features']=m['Features'].str.replace(\"(\",\"\")\n",
    "    \n",
    "    data = [go.Bar(x=m.Feature_Importance.values,y=m.Features.values,text=np.round(m.Feature_Importance,4),\n",
    "            textposition = 'outside',\n",
    "            marker=dict(\n",
    "                color='rgb(158,202,225)',\n",
    "                line=dict(\n",
    "                    color='rgb(8,48,107)',\n",
    "                    width=1.5),\n",
    "            ),\n",
    "            opacity=0.6,\n",
    "            orientation='h'\n",
    "        )]\n",
    "    layout = go.Layout(autosize=False,\n",
    "    width=width_s,\n",
    "    height=height_s,\n",
    "    xaxis=dict(title='Feature Importances',\n",
    "        tickfont=dict(\n",
    "            size=12,\n",
    "            color='black'\n",
    "        )),\n",
    "    yaxis=dict(automargin=True))\n",
    "    fig = go.Figure(data=data, layout=layout)\n",
    "    iplot(fig)"
   ]
  },
  {
   "cell_type": "code",
   "execution_count": 10,
   "metadata": {},
   "outputs": [],
   "source": [
    "df_train=pd.read_csv('../../Data/Training_Data/df_training.csv',index_col='domain')\n",
    "\n",
    "# df_mal=pd.read_csv('../Data/Malicious_domains.csv')\n",
    "# # mal_domains=df_mal.queried_domain.values.tolist()\n",
    "\n",
    "df_test=pd.read_csv('../../Data/Test_Data/df_fin.csv',index_col='domain')\n",
    "# df_test.reset_index(inplace=True)\n",
    "# # df_test['Target']=df_test['domain'].apply(lambda x: 1 if x in mal_domains else 0)\n",
    "# # df_test.set_index(['domain'],inplace=True)"
   ]
  },
  {
   "cell_type": "code",
   "execution_count": 11,
   "metadata": {},
   "outputs": [],
   "source": [
    "df=pd.concat([df_test,df_train],axis=0,sort=False)\n",
    "df=df.sample(frac=1,random_state=10)"
   ]
  },
  {
   "cell_type": "markdown",
   "metadata": {},
   "source": [
    "#### Training - 20% of Combined Dataset1 and Dataset2 used. "
   ]
  },
  {
   "cell_type": "code",
   "execution_count": 12,
   "metadata": {},
   "outputs": [
    {
     "name": "stdout",
     "output_type": "stream",
     "text": [
      "\u001b[1mRandomForest Classifier\u001b[0m\n",
      "Accuracy of the model for training data is: 0.9978318384911792\n",
      "Confusion Matrix for training data is:\n"
     ]
    },
    {
     "data": {
      "text/html": [
       "<div>\n",
       "<style scoped>\n",
       "    .dataframe tbody tr th:only-of-type {\n",
       "        vertical-align: middle;\n",
       "    }\n",
       "\n",
       "    .dataframe tbody tr th {\n",
       "        vertical-align: top;\n",
       "    }\n",
       "\n",
       "    .dataframe thead th {\n",
       "        text-align: right;\n",
       "    }\n",
       "</style>\n",
       "<table border=\"1\" class=\"dataframe\">\n",
       "  <thead>\n",
       "    <tr style=\"text-align: right;\">\n",
       "      <th>col_0</th>\n",
       "      <th>0</th>\n",
       "      <th>1</th>\n",
       "    </tr>\n",
       "    <tr>\n",
       "      <th>row_0</th>\n",
       "      <th></th>\n",
       "      <th></th>\n",
       "    </tr>\n",
       "  </thead>\n",
       "  <tbody>\n",
       "    <tr>\n",
       "      <th>0</th>\n",
       "      <td>174079</td>\n",
       "      <td>17</td>\n",
       "    </tr>\n",
       "    <tr>\n",
       "      <th>1</th>\n",
       "      <td>378</td>\n",
       "      <td>7708</td>\n",
       "    </tr>\n",
       "  </tbody>\n",
       "</table>\n",
       "</div>"
      ],
      "text/plain": [
       "col_0       0     1\n",
       "row_0              \n",
       "0      174079    17\n",
       "1         378  7708"
      ]
     },
     "metadata": {},
     "output_type": "display_data"
    },
    {
     "name": "stdout",
     "output_type": "stream",
     "text": [
      "Accuracy of the model for test data is: 0.9574205022154951\n",
      "Confusion Matrix for test data is:\n"
     ]
    },
    {
     "data": {
      "text/html": [
       "<div>\n",
       "<style scoped>\n",
       "    .dataframe tbody tr th:only-of-type {\n",
       "        vertical-align: middle;\n",
       "    }\n",
       "\n",
       "    .dataframe tbody tr th {\n",
       "        vertical-align: top;\n",
       "    }\n",
       "\n",
       "    .dataframe thead th {\n",
       "        text-align: right;\n",
       "    }\n",
       "</style>\n",
       "<table border=\"1\" class=\"dataframe\">\n",
       "  <thead>\n",
       "    <tr style=\"text-align: right;\">\n",
       "      <th>col_0</th>\n",
       "      <th>0</th>\n",
       "      <th>1</th>\n",
       "    </tr>\n",
       "    <tr>\n",
       "      <th>row_0</th>\n",
       "      <th></th>\n",
       "      <th></th>\n",
       "    </tr>\n",
       "  </thead>\n",
       "  <tbody>\n",
       "    <tr>\n",
       "      <th>0</th>\n",
       "      <td>695131</td>\n",
       "      <td>1000</td>\n",
       "    </tr>\n",
       "    <tr>\n",
       "      <th>1</th>\n",
       "      <td>30029</td>\n",
       "      <td>2571</td>\n",
       "    </tr>\n",
       "  </tbody>\n",
       "</table>\n",
       "</div>"
      ],
      "text/plain": [
       "col_0       0     1\n",
       "row_0              \n",
       "0      695131  1000\n",
       "1       30029  2571"
      ]
     },
     "metadata": {},
     "output_type": "display_data"
    },
    {
     "name": "stdout",
     "output_type": "stream",
     "text": [
      "MCC: 0.22921519106712007\n",
      "AUC: 0.5387142597217418\n",
      "Precision: 0.7199663959675161\n",
      "Recall: 0.07886503067484663\n"
     ]
    }
   ],
   "source": [
    "columns=df.columns.tolist()\n",
    "train=df.iloc[:int(df.shape[0]*0.2),:]\n",
    "train_X=train.iloc[:,train.columns!='Target'].values\n",
    "train_Y=train.Target.values\n",
    "\n",
    "scaler=StandardScaler()\n",
    "scaled_X_train=scaler.fit_transform(train_X)\n",
    "\n",
    "test=df.iloc[int(df.shape[0]*0.2):,:]\n",
    "test_X=test.iloc[:,test.columns!='Target'].values\n",
    "test_Y=test.Target.values\n",
    "scaled_X_test=scaler.transform(test_X)\n",
    "columns.remove('Target')\n",
    "\n",
    "model,acc_train,acc_test,roc_auc,mcc,prec,rec=RandomForest(scaled_X_train,train_Y,scaled_X_test,test_Y,columns)\n",
    "print(\"MCC:\",mcc)\n",
    "print(\"AUC:\",roc_auc)\n",
    "print(\"Precision:\",prec)\n",
    "print(\"Recall:\",rec)"
   ]
  },
  {
   "cell_type": "markdown",
   "metadata": {},
   "source": [
    "#### Training - 30% of Combined Dataset1 and Dataset2 used."
   ]
  },
  {
   "cell_type": "code",
   "execution_count": 13,
   "metadata": {},
   "outputs": [
    {
     "name": "stdout",
     "output_type": "stream",
     "text": [
      "\u001b[1mRandomForest Classifier\u001b[0m\n",
      "Accuracy of the model for training data is: 0.9973725907791842\n",
      "Confusion Matrix for training data is:\n"
     ]
    },
    {
     "data": {
      "text/html": [
       "<div>\n",
       "<style scoped>\n",
       "    .dataframe tbody tr th:only-of-type {\n",
       "        vertical-align: middle;\n",
       "    }\n",
       "\n",
       "    .dataframe tbody tr th {\n",
       "        vertical-align: top;\n",
       "    }\n",
       "\n",
       "    .dataframe thead th {\n",
       "        text-align: right;\n",
       "    }\n",
       "</style>\n",
       "<table border=\"1\" class=\"dataframe\">\n",
       "  <thead>\n",
       "    <tr style=\"text-align: right;\">\n",
       "      <th>col_0</th>\n",
       "      <th>0</th>\n",
       "      <th>1</th>\n",
       "    </tr>\n",
       "    <tr>\n",
       "      <th>row_0</th>\n",
       "      <th></th>\n",
       "      <th></th>\n",
       "    </tr>\n",
       "  </thead>\n",
       "  <tbody>\n",
       "    <tr>\n",
       "      <th>0</th>\n",
       "      <td>261087</td>\n",
       "      <td>28</td>\n",
       "    </tr>\n",
       "    <tr>\n",
       "      <th>1</th>\n",
       "      <td>690</td>\n",
       "      <td>11468</td>\n",
       "    </tr>\n",
       "  </tbody>\n",
       "</table>\n",
       "</div>"
      ],
      "text/plain": [
       "col_0       0      1\n",
       "row_0               \n",
       "0      261087     28\n",
       "1         690  11468"
      ]
     },
     "metadata": {},
     "output_type": "display_data"
    },
    {
     "name": "stdout",
     "output_type": "stream",
     "text": [
      "Accuracy of the model for test data is: 0.9576281287246722\n",
      "Confusion Matrix for test data is:\n"
     ]
    },
    {
     "data": {
      "text/html": [
       "<div>\n",
       "<style scoped>\n",
       "    .dataframe tbody tr th:only-of-type {\n",
       "        vertical-align: middle;\n",
       "    }\n",
       "\n",
       "    .dataframe tbody tr th {\n",
       "        vertical-align: top;\n",
       "    }\n",
       "\n",
       "    .dataframe thead th {\n",
       "        text-align: right;\n",
       "    }\n",
       "</style>\n",
       "<table border=\"1\" class=\"dataframe\">\n",
       "  <thead>\n",
       "    <tr style=\"text-align: right;\">\n",
       "      <th>col_0</th>\n",
       "      <th>0</th>\n",
       "      <th>1</th>\n",
       "    </tr>\n",
       "    <tr>\n",
       "      <th>row_0</th>\n",
       "      <th></th>\n",
       "      <th></th>\n",
       "    </tr>\n",
       "  </thead>\n",
       "  <tbody>\n",
       "    <tr>\n",
       "      <th>0</th>\n",
       "      <td>608292</td>\n",
       "      <td>820</td>\n",
       "    </tr>\n",
       "    <tr>\n",
       "      <th>1</th>\n",
       "      <td>26198</td>\n",
       "      <td>2330</td>\n",
       "    </tr>\n",
       "  </tbody>\n",
       "</table>\n",
       "</div>"
      ],
      "text/plain": [
       "col_0       0     1\n",
       "row_0              \n",
       "0      608292   820\n",
       "1       26198  2330"
      ]
     },
     "metadata": {},
     "output_type": "display_data"
    },
    {
     "name": "stdout",
     "output_type": "stream",
     "text": [
      "MCC: 0.2368553009182871\n",
      "AUC: 0.5401639613293385\n",
      "Precision: 0.7396825396825397\n",
      "Recall: 0.08167414469994391\n"
     ]
    }
   ],
   "source": [
    "columns=df.columns.tolist()\n",
    "train=df.iloc[:int(df.shape[0]*0.3),:]\n",
    "train_X=train.iloc[:,train.columns!='Target'].values\n",
    "train_Y=train.Target.values\n",
    "\n",
    "scaler=StandardScaler()\n",
    "scaled_X_train=scaler.fit_transform(train_X)\n",
    "\n",
    "test=df.iloc[int(df.shape[0]*0.3):,:]\n",
    "test_X=test.iloc[:,test.columns!='Target'].values\n",
    "test_Y=test.Target.values\n",
    "scaled_X_test=scaler.transform(test_X)\n",
    "columns.remove('Target')\n",
    "model,acc_train,acc_test,roc_auc,mcc,prec,rec=RandomForest(scaled_X_train,train_Y,scaled_X_test,test_Y,columns)\n",
    "print(\"MCC:\",mcc)\n",
    "print(\"AUC:\",roc_auc)\n",
    "print(\"Precision:\",prec)\n",
    "print(\"Recall:\",rec)"
   ]
  },
  {
   "cell_type": "markdown",
   "metadata": {},
   "source": [
    "#### Training - 40% of Combined Dataset1 and Dataset2 used."
   ]
  },
  {
   "cell_type": "code",
   "execution_count": 15,
   "metadata": {},
   "outputs": [
    {
     "name": "stdout",
     "output_type": "stream",
     "text": [
      "\u001b[1mRandomForest Classifier\u001b[0m\n",
      "Accuracy of the model for training data is: 0.9972390322890509\n",
      "Confusion Matrix for training data is:\n"
     ]
    },
    {
     "data": {
      "text/html": [
       "<div>\n",
       "<style scoped>\n",
       "    .dataframe tbody tr th:only-of-type {\n",
       "        vertical-align: middle;\n",
       "    }\n",
       "\n",
       "    .dataframe tbody tr th {\n",
       "        vertical-align: top;\n",
       "    }\n",
       "\n",
       "    .dataframe thead th {\n",
       "        text-align: right;\n",
       "    }\n",
       "</style>\n",
       "<table border=\"1\" class=\"dataframe\">\n",
       "  <thead>\n",
       "    <tr style=\"text-align: right;\">\n",
       "      <th>col_0</th>\n",
       "      <th>0</th>\n",
       "      <th>1</th>\n",
       "    </tr>\n",
       "    <tr>\n",
       "      <th>row_0</th>\n",
       "      <th></th>\n",
       "      <th></th>\n",
       "    </tr>\n",
       "  </thead>\n",
       "  <tbody>\n",
       "    <tr>\n",
       "      <th>0</th>\n",
       "      <td>348116</td>\n",
       "      <td>28</td>\n",
       "    </tr>\n",
       "    <tr>\n",
       "      <th>1</th>\n",
       "      <td>978</td>\n",
       "      <td>15243</td>\n",
       "    </tr>\n",
       "  </tbody>\n",
       "</table>\n",
       "</div>"
      ],
      "text/plain": [
       "col_0       0      1\n",
       "row_0               \n",
       "0      348116     28\n",
       "1         978  15243"
      ]
     },
     "metadata": {},
     "output_type": "display_data"
    },
    {
     "name": "stdout",
     "output_type": "stream",
     "text": [
      "Accuracy of the model for test data is: 0.9576853268148452\n",
      "Confusion Matrix for test data is:\n"
     ]
    },
    {
     "data": {
      "text/html": [
       "<div>\n",
       "<style scoped>\n",
       "    .dataframe tbody tr th:only-of-type {\n",
       "        vertical-align: middle;\n",
       "    }\n",
       "\n",
       "    .dataframe tbody tr th {\n",
       "        vertical-align: top;\n",
       "    }\n",
       "\n",
       "    .dataframe thead th {\n",
       "        text-align: right;\n",
       "    }\n",
       "</style>\n",
       "<table border=\"1\" class=\"dataframe\">\n",
       "  <thead>\n",
       "    <tr style=\"text-align: right;\">\n",
       "      <th>col_0</th>\n",
       "      <th>0</th>\n",
       "      <th>1</th>\n",
       "    </tr>\n",
       "    <tr>\n",
       "      <th>row_0</th>\n",
       "      <th></th>\n",
       "      <th></th>\n",
       "    </tr>\n",
       "  </thead>\n",
       "  <tbody>\n",
       "    <tr>\n",
       "      <th>0</th>\n",
       "      <td>521372</td>\n",
       "      <td>711</td>\n",
       "    </tr>\n",
       "    <tr>\n",
       "      <th>1</th>\n",
       "      <td>22416</td>\n",
       "      <td>2049</td>\n",
       "    </tr>\n",
       "  </tbody>\n",
       "</table>\n",
       "</div>"
      ],
      "text/plain": [
       "col_0       0     1\n",
       "row_0              \n",
       "0      521372   711\n",
       "1       22416  2049"
      ]
     },
     "metadata": {},
     "output_type": "display_data"
    },
    {
     "name": "stdout",
     "output_type": "stream",
     "text": [
      "MCC: 0.24035319144087666\n",
      "AUC: 0.5411952233885896\n",
      "Precision: 0.7423913043478261\n",
      "Recall: 0.08375229920294298\n"
     ]
    }
   ],
   "source": [
    "columns=df.columns.tolist()\n",
    "train=df.iloc[:int(df.shape[0]*0.4),:]\n",
    "train_X=train.iloc[:,train.columns!='Target'].values\n",
    "train_Y=train.Target.values\n",
    "\n",
    "scaler=StandardScaler()\n",
    "scaled_X_train=scaler.fit_transform(train_X)\n",
    "\n",
    "test=df.iloc[int(df.shape[0]*0.4):,:]\n",
    "test_X=test.iloc[:,test.columns!='Target'].values\n",
    "test_Y=test.Target.values\n",
    "scaled_X_test=scaler.transform(test_X)\n",
    "columns.remove('Target')\n",
    "model,acc_train,acc_test,roc_auc,mcc,prec,rec=RandomForest(scaled_X_train,train_Y,scaled_X_test,test_Y,columns)\n",
    "print(\"MCC:\",mcc)\n",
    "print(\"AUC:\",roc_auc)\n",
    "print(\"Precision:\",prec)\n",
    "print(\"Recall:\",rec)"
   ]
  },
  {
   "cell_type": "markdown",
   "metadata": {},
   "source": [
    "#### Training - 50% of Combined Dataset1 and Dataset2 used."
   ]
  },
  {
   "cell_type": "code",
   "execution_count": 16,
   "metadata": {},
   "outputs": [
    {
     "name": "stdout",
     "output_type": "stream",
     "text": [
      "\u001b[1mRandomForest Classifier\u001b[0m\n",
      "Accuracy of the model for training data is: 0.9970447200168622\n",
      "Confusion Matrix for training data is:\n"
     ]
    },
    {
     "data": {
      "text/html": [
       "<div>\n",
       "<style scoped>\n",
       "    .dataframe tbody tr th:only-of-type {\n",
       "        vertical-align: middle;\n",
       "    }\n",
       "\n",
       "    .dataframe tbody tr th {\n",
       "        vertical-align: top;\n",
       "    }\n",
       "\n",
       "    .dataframe thead th {\n",
       "        text-align: right;\n",
       "    }\n",
       "</style>\n",
       "<table border=\"1\" class=\"dataframe\">\n",
       "  <thead>\n",
       "    <tr style=\"text-align: right;\">\n",
       "      <th>col_0</th>\n",
       "      <th>0</th>\n",
       "      <th>1</th>\n",
       "    </tr>\n",
       "    <tr>\n",
       "      <th>row_0</th>\n",
       "      <th></th>\n",
       "      <th></th>\n",
       "    </tr>\n",
       "  </thead>\n",
       "  <tbody>\n",
       "    <tr>\n",
       "      <th>0</th>\n",
       "      <td>435006</td>\n",
       "      <td>39</td>\n",
       "    </tr>\n",
       "    <tr>\n",
       "      <th>1</th>\n",
       "      <td>1307</td>\n",
       "      <td>19104</td>\n",
       "    </tr>\n",
       "  </tbody>\n",
       "</table>\n",
       "</div>"
      ],
      "text/plain": [
       "col_0       0      1\n",
       "row_0               \n",
       "0      435006     39\n",
       "1        1307  19104"
      ]
     },
     "metadata": {},
     "output_type": "display_data"
    },
    {
     "name": "stdout",
     "output_type": "stream",
     "text": [
      "Accuracy of the model for test data is: 0.958059707063455\n",
      "Confusion Matrix for test data is:\n"
     ]
    },
    {
     "data": {
      "text/html": [
       "<div>\n",
       "<style scoped>\n",
       "    .dataframe tbody tr th:only-of-type {\n",
       "        vertical-align: middle;\n",
       "    }\n",
       "\n",
       "    .dataframe tbody tr th {\n",
       "        vertical-align: top;\n",
       "    }\n",
       "\n",
       "    .dataframe thead th {\n",
       "        text-align: right;\n",
       "    }\n",
       "</style>\n",
       "<table border=\"1\" class=\"dataframe\">\n",
       "  <thead>\n",
       "    <tr style=\"text-align: right;\">\n",
       "      <th>col_0</th>\n",
       "      <th>0</th>\n",
       "      <th>1</th>\n",
       "    </tr>\n",
       "    <tr>\n",
       "      <th>row_0</th>\n",
       "      <th></th>\n",
       "      <th></th>\n",
       "    </tr>\n",
       "  </thead>\n",
       "  <tbody>\n",
       "    <tr>\n",
       "      <th>0</th>\n",
       "      <td>434573</td>\n",
       "      <td>609</td>\n",
       "    </tr>\n",
       "    <tr>\n",
       "      <th>1</th>\n",
       "      <td>18493</td>\n",
       "      <td>1782</td>\n",
       "    </tr>\n",
       "  </tbody>\n",
       "</table>\n",
       "</div>"
      ],
      "text/plain": [
       "col_0       0     1\n",
       "row_0              \n",
       "0      434573   609\n",
       "1       18493  1782"
      ]
     },
     "metadata": {},
     "output_type": "display_data"
    },
    {
     "name": "stdout",
     "output_type": "stream",
     "text": [
      "MCC: 0.2468435012997302\n",
      "AUC: 0.5432460387436806\n",
      "Precision: 0.7452948557089084\n",
      "Recall: 0.08789149198520345\n"
     ]
    }
   ],
   "source": [
    "columns=df.columns.tolist()\n",
    "train=df.iloc[:int(df.shape[0]*0.5),:]\n",
    "train_X=train.iloc[:,train.columns!='Target'].values\n",
    "train_Y=train.Target.values\n",
    "\n",
    "scaler=StandardScaler()\n",
    "scaled_X_train=scaler.fit_transform(train_X)\n",
    "\n",
    "test=df.iloc[int(df.shape[0]*0.5):,:]\n",
    "test_X=test.iloc[:,test.columns!='Target'].values\n",
    "test_Y=test.Target.values\n",
    "scaled_X_test=scaler.transform(test_X)\n",
    "columns.remove('Target')\n",
    "model,acc_train,acc_test,roc_auc,mcc,prec,rec=RandomForest(scaled_X_train,train_Y,scaled_X_test,test_Y,columns)\n",
    "print(\"MCC:\",mcc)\n",
    "print(\"AUC:\",roc_auc)\n",
    "print(\"Precision:\",prec)\n",
    "print(\"Recall:\",rec)"
   ]
  },
  {
   "cell_type": "markdown",
   "metadata": {},
   "source": [
    "#### Training - 60% of Combined Dataset1 and Dataset2 used."
   ]
  },
  {
   "cell_type": "code",
   "execution_count": 17,
   "metadata": {},
   "outputs": [
    {
     "name": "stdout",
     "output_type": "stream",
     "text": [
      "\u001b[1mRandomForest Classifier\u001b[0m\n",
      "Accuracy of the model for training data is: 0.9969279860652424\n",
      "Confusion Matrix for training data is:\n"
     ]
    },
    {
     "data": {
      "text/html": [
       "<div>\n",
       "<style scoped>\n",
       "    .dataframe tbody tr th:only-of-type {\n",
       "        vertical-align: middle;\n",
       "    }\n",
       "\n",
       "    .dataframe tbody tr th {\n",
       "        vertical-align: top;\n",
       "    }\n",
       "\n",
       "    .dataframe thead th {\n",
       "        text-align: right;\n",
       "    }\n",
       "</style>\n",
       "<table border=\"1\" class=\"dataframe\">\n",
       "  <thead>\n",
       "    <tr style=\"text-align: right;\">\n",
       "      <th>col_0</th>\n",
       "      <th>0</th>\n",
       "      <th>1</th>\n",
       "    </tr>\n",
       "    <tr>\n",
       "      <th>row_0</th>\n",
       "      <th></th>\n",
       "      <th></th>\n",
       "    </tr>\n",
       "  </thead>\n",
       "  <tbody>\n",
       "    <tr>\n",
       "      <th>0</th>\n",
       "      <td>521892</td>\n",
       "      <td>63</td>\n",
       "    </tr>\n",
       "    <tr>\n",
       "      <th>1</th>\n",
       "      <td>1616</td>\n",
       "      <td>22976</td>\n",
       "    </tr>\n",
       "  </tbody>\n",
       "</table>\n",
       "</div>"
      ],
      "text/plain": [
       "col_0       0      1\n",
       "row_0               \n",
       "0      521892     63\n",
       "1        1616  22976"
      ]
     },
     "metadata": {},
     "output_type": "display_data"
    },
    {
     "name": "stdout",
     "output_type": "stream",
     "text": [
      "Accuracy of the model for test data is: 0.9583385936119176\n",
      "Confusion Matrix for test data is:\n"
     ]
    },
    {
     "data": {
      "text/html": [
       "<div>\n",
       "<style scoped>\n",
       "    .dataframe tbody tr th:only-of-type {\n",
       "        vertical-align: middle;\n",
       "    }\n",
       "\n",
       "    .dataframe tbody tr th {\n",
       "        vertical-align: top;\n",
       "    }\n",
       "\n",
       "    .dataframe thead th {\n",
       "        text-align: right;\n",
       "    }\n",
       "</style>\n",
       "<table border=\"1\" class=\"dataframe\">\n",
       "  <thead>\n",
       "    <tr style=\"text-align: right;\">\n",
       "      <th>col_0</th>\n",
       "      <th>0</th>\n",
       "      <th>1</th>\n",
       "    </tr>\n",
       "    <tr>\n",
       "      <th>row_0</th>\n",
       "      <th></th>\n",
       "      <th></th>\n",
       "    </tr>\n",
       "  </thead>\n",
       "  <tbody>\n",
       "    <tr>\n",
       "      <th>0</th>\n",
       "      <td>347761</td>\n",
       "      <td>511</td>\n",
       "    </tr>\n",
       "    <tr>\n",
       "      <th>1</th>\n",
       "      <td>14669</td>\n",
       "      <td>1425</td>\n",
       "    </tr>\n",
       "  </tbody>\n",
       "</table>\n",
       "</div>"
      ],
      "text/plain": [
       "col_0       0     1\n",
       "row_0              \n",
       "0      347761   511\n",
       "1       14669  1425"
      ]
     },
     "metadata": {},
     "output_type": "display_data"
    },
    {
     "name": "stdout",
     "output_type": "stream",
     "text": [
      "MCC: 0.24610495870087556\n",
      "AUC: 0.5435375349563014\n",
      "Precision: 0.7360537190082644\n",
      "Recall: 0.0885423139058034\n"
     ]
    }
   ],
   "source": [
    "columns=df.columns.tolist()\n",
    "train=df.iloc[:int(df.shape[0]*0.6),:]\n",
    "train_X=train.iloc[:,train.columns!='Target'].values\n",
    "train_Y=train.Target.values\n",
    "\n",
    "scaler=StandardScaler()\n",
    "scaled_X_train=scaler.fit_transform(train_X)\n",
    "\n",
    "test=df.iloc[int(df.shape[0]*0.6):,:]\n",
    "test_X=test.iloc[:,test.columns!='Target'].values\n",
    "test_Y=test.Target.values\n",
    "scaled_X_test=scaler.transform(test_X)\n",
    "columns.remove('Target')\n",
    "model,acc_train,acc_test,roc_auc,mcc,prec,rec=RandomForest(scaled_X_train,train_Y,scaled_X_test,test_Y,columns)\n",
    "print(\"MCC:\",mcc)\n",
    "print(\"AUC:\",roc_auc)\n",
    "print(\"Precision:\",prec)\n",
    "print(\"Recall:\",rec)"
   ]
  },
  {
   "cell_type": "markdown",
   "metadata": {},
   "source": [
    "#### Training - 70% of Combined Dataset1 and Dataset2 used."
   ]
  },
  {
   "cell_type": "code",
   "execution_count": 18,
   "metadata": {},
   "outputs": [
    {
     "name": "stdout",
     "output_type": "stream",
     "text": [
      "\u001b[1mRandomForest Classifier\u001b[0m\n",
      "Accuracy of the model for training data is: 0.9968273584269469\n",
      "Confusion Matrix for training data is:\n"
     ]
    },
    {
     "data": {
      "text/html": [
       "<div>\n",
       "<style scoped>\n",
       "    .dataframe tbody tr th:only-of-type {\n",
       "        vertical-align: middle;\n",
       "    }\n",
       "\n",
       "    .dataframe tbody tr th {\n",
       "        vertical-align: top;\n",
       "    }\n",
       "\n",
       "    .dataframe thead th {\n",
       "        text-align: right;\n",
       "    }\n",
       "</style>\n",
       "<table border=\"1\" class=\"dataframe\">\n",
       "  <thead>\n",
       "    <tr style=\"text-align: right;\">\n",
       "      <th>col_0</th>\n",
       "      <th>0</th>\n",
       "      <th>1</th>\n",
       "    </tr>\n",
       "    <tr>\n",
       "      <th>row_0</th>\n",
       "      <th></th>\n",
       "      <th></th>\n",
       "    </tr>\n",
       "  </thead>\n",
       "  <tbody>\n",
       "    <tr>\n",
       "      <th>0</th>\n",
       "      <td>608950</td>\n",
       "      <td>90</td>\n",
       "    </tr>\n",
       "    <tr>\n",
       "      <th>1</th>\n",
       "      <td>1933</td>\n",
       "      <td>26666</td>\n",
       "    </tr>\n",
       "  </tbody>\n",
       "</table>\n",
       "</div>"
      ],
      "text/plain": [
       "col_0       0      1\n",
       "row_0               \n",
       "0      608950     90\n",
       "1        1933  26666"
      ]
     },
     "metadata": {},
     "output_type": "display_data"
    },
    {
     "name": "stdout",
     "output_type": "stream",
     "text": [
      "Accuracy of the model for test data is: 0.9583055834071298\n",
      "Confusion Matrix for test data is:\n"
     ]
    },
    {
     "data": {
      "text/html": [
       "<div>\n",
       "<style scoped>\n",
       "    .dataframe tbody tr th:only-of-type {\n",
       "        vertical-align: middle;\n",
       "    }\n",
       "\n",
       "    .dataframe tbody tr th {\n",
       "        vertical-align: top;\n",
       "    }\n",
       "\n",
       "    .dataframe thead th {\n",
       "        text-align: right;\n",
       "    }\n",
       "</style>\n",
       "<table border=\"1\" class=\"dataframe\">\n",
       "  <thead>\n",
       "    <tr style=\"text-align: right;\">\n",
       "      <th>col_0</th>\n",
       "      <th>0</th>\n",
       "      <th>1</th>\n",
       "    </tr>\n",
       "    <tr>\n",
       "      <th>row_0</th>\n",
       "      <th></th>\n",
       "      <th></th>\n",
       "    </tr>\n",
       "  </thead>\n",
       "  <tbody>\n",
       "    <tr>\n",
       "      <th>0</th>\n",
       "      <td>260793</td>\n",
       "      <td>394</td>\n",
       "    </tr>\n",
       "    <tr>\n",
       "      <th>1</th>\n",
       "      <td>11000</td>\n",
       "      <td>1087</td>\n",
       "    </tr>\n",
       "  </tbody>\n",
       "</table>\n",
       "</div>"
      ],
      "text/plain": [
       "col_0       0     1\n",
       "row_0              \n",
       "0      260793   394\n",
       "1       11000  1087"
      ]
     },
     "metadata": {},
     "output_type": "display_data"
    },
    {
     "name": "stdout",
     "output_type": "stream",
     "text": [
      "MCC: 0.24762974138349353\n",
      "AUC: 0.5442114167196328\n",
      "Precision: 0.7339635381498987\n",
      "Recall: 0.08993133118226193\n"
     ]
    }
   ],
   "source": [
    "columns=df.columns.tolist()\n",
    "train=df.iloc[:int(df.shape[0]*0.7),:]\n",
    "train_X=train.iloc[:,train.columns!='Target'].values\n",
    "train_Y=train.Target.values\n",
    "\n",
    "scaler=StandardScaler()\n",
    "scaled_X_train=scaler.fit_transform(train_X)\n",
    "\n",
    "test=df.iloc[int(df.shape[0]*0.7):,:]\n",
    "test_X=test.iloc[:,test.columns!='Target'].values\n",
    "test_Y=test.Target.values\n",
    "scaled_X_test=scaler.transform(test_X)\n",
    "columns.remove('Target')\n",
    "model,acc_train,acc_test,roc_auc,mcc,prec,rec=RandomForest(scaled_X_train,train_Y,scaled_X_test,test_Y,columns)\n",
    "print(\"MCC:\",mcc)\n",
    "print(\"AUC:\",roc_auc)\n",
    "print(\"Precision:\",prec)\n",
    "print(\"Recall:\",rec)"
   ]
  },
  {
   "cell_type": "markdown",
   "metadata": {},
   "source": [
    "### OverSampling"
   ]
  },
  {
   "cell_type": "markdown",
   "metadata": {},
   "source": [
    "#### Training - 30% of Combined Dataset1 and Dataset2 used.\n",
    "#### Oversampling ratio 1:1. Technique - SMOTE"
   ]
  },
  {
   "cell_type": "code",
   "execution_count": 19,
   "metadata": {},
   "outputs": [],
   "source": [
    "columns=df.columns.tolist()\n",
    "train=df.iloc[:int(df.shape[0]*0.3),:]\n",
    "train_X=train.iloc[:,train.columns!='Target'].values\n",
    "train_Y=train.Target.values\n",
    "\n",
    "scaler=StandardScaler()\n",
    "scaled_X_train=scaler.fit_transform(train_X)\n",
    "\n",
    "test=df.iloc[int(df.shape[0]*0.3):,:]\n",
    "test_X=test.iloc[:,test.columns!='Target'].values\n",
    "test_Y=test.Target.values\n",
    "scaled_X_test=scaler.transform(test_X)\n",
    "columns.remove('Target')"
   ]
  },
  {
   "cell_type": "code",
   "execution_count": 28,
   "metadata": {},
   "outputs": [
    {
     "name": "stdout",
     "output_type": "stream",
     "text": [
      "\u001b[1mRandomForest Classifier\u001b[0m\n",
      "Accuracy of the model for training data is: 0.9974053577925435\n",
      "Confusion Matrix for training data is:\n"
     ]
    },
    {
     "data": {
      "text/html": [
       "<div>\n",
       "<style scoped>\n",
       "    .dataframe tbody tr th:only-of-type {\n",
       "        vertical-align: middle;\n",
       "    }\n",
       "\n",
       "    .dataframe tbody tr th {\n",
       "        vertical-align: top;\n",
       "    }\n",
       "\n",
       "    .dataframe thead th {\n",
       "        text-align: right;\n",
       "    }\n",
       "</style>\n",
       "<table border=\"1\" class=\"dataframe\">\n",
       "  <thead>\n",
       "    <tr style=\"text-align: right;\">\n",
       "      <th>col_0</th>\n",
       "      <th>0</th>\n",
       "      <th>1</th>\n",
       "    </tr>\n",
       "    <tr>\n",
       "      <th>row_0</th>\n",
       "      <th></th>\n",
       "      <th></th>\n",
       "    </tr>\n",
       "  </thead>\n",
       "  <tbody>\n",
       "    <tr>\n",
       "      <th>0</th>\n",
       "      <td>260531</td>\n",
       "      <td>584</td>\n",
       "    </tr>\n",
       "    <tr>\n",
       "      <th>1</th>\n",
       "      <td>771</td>\n",
       "      <td>260344</td>\n",
       "    </tr>\n",
       "  </tbody>\n",
       "</table>\n",
       "</div>"
      ],
      "text/plain": [
       "col_0       0       1\n",
       "row_0                \n",
       "0      260531     584\n",
       "1         771  260344"
      ]
     },
     "metadata": {},
     "output_type": "display_data"
    },
    {
     "name": "stdout",
     "output_type": "stream",
     "text": [
      "Accuracy of the model for test data is: 0.9547879681324886\n",
      "Confusion Matrix for test data is:\n"
     ]
    },
    {
     "data": {
      "text/html": [
       "<div>\n",
       "<style scoped>\n",
       "    .dataframe tbody tr th:only-of-type {\n",
       "        vertical-align: middle;\n",
       "    }\n",
       "\n",
       "    .dataframe tbody tr th {\n",
       "        vertical-align: top;\n",
       "    }\n",
       "\n",
       "    .dataframe thead th {\n",
       "        text-align: right;\n",
       "    }\n",
       "</style>\n",
       "<table border=\"1\" class=\"dataframe\">\n",
       "  <thead>\n",
       "    <tr style=\"text-align: right;\">\n",
       "      <th>col_0</th>\n",
       "      <th>0</th>\n",
       "      <th>1</th>\n",
       "    </tr>\n",
       "    <tr>\n",
       "      <th>row_0</th>\n",
       "      <th></th>\n",
       "      <th></th>\n",
       "    </tr>\n",
       "  </thead>\n",
       "  <tbody>\n",
       "    <tr>\n",
       "      <th>0</th>\n",
       "      <td>606170</td>\n",
       "      <td>2942</td>\n",
       "    </tr>\n",
       "    <tr>\n",
       "      <th>1</th>\n",
       "      <td>25887</td>\n",
       "      <td>2641</td>\n",
       "    </tr>\n",
       "  </tbody>\n",
       "</table>\n",
       "</div>"
      ],
      "text/plain": [
       "col_0       0     1\n",
       "row_0              \n",
       "0      606170  2942\n",
       "1       25887  2641"
      ]
     },
     "metadata": {},
     "output_type": "display_data"
    },
    {
     "name": "stdout",
     "output_type": "stream",
     "text": [
      "MCC: 0.194714507591419\n",
      "AUC: 0.5438728665401694\n",
      "Precision: 0.47304316675622426\n",
      "Recall: 0.09257571508693213\n"
     ]
    }
   ],
   "source": [
    "train.Target.value_counts()\n",
    "\n",
    "sm = SMOTE(random_state=12, ratio ={1 : 261115} )\n",
    "X_train, Y_train = sm.fit_sample(scaled_X_train,train_Y)\n",
    "\n",
    "model,acc_train,acc_test,roc_auc,mcc,prec,rec=RandomForest(X_train,Y_train,scaled_X_test,test_Y,columns)\n",
    "print(\"MCC:\",mcc)\n",
    "print(\"AUC:\",roc_auc)\n",
    "print(\"Precision:\",prec)\n",
    "print(\"Recall:\",rec)"
   ]
  },
  {
   "cell_type": "markdown",
   "metadata": {},
   "source": [
    "#### Training - 30% of Combined Dataset1 and Dataset2 used.\n",
    "#### Oversampling ratio 1:1. Technique - ADASYN\n",
    "\n",
    "### Note - I noticed a mistake in the execution of the below results. Please ignore it."
   ]
  },
  {
   "cell_type": "code",
   "execution_count": 30,
   "metadata": {},
   "outputs": [
    {
     "name": "stdout",
     "output_type": "stream",
     "text": [
      "\u001b[1mRandomForest Classifier\u001b[0m\n",
      "Accuracy of the model for training data is: 0.9978290210493065\n",
      "Confusion Matrix for training data is:\n"
     ]
    },
    {
     "data": {
      "text/html": [
       "<div>\n",
       "<style scoped>\n",
       "    .dataframe tbody tr th:only-of-type {\n",
       "        vertical-align: middle;\n",
       "    }\n",
       "\n",
       "    .dataframe tbody tr th {\n",
       "        vertical-align: top;\n",
       "    }\n",
       "\n",
       "    .dataframe thead th {\n",
       "        text-align: right;\n",
       "    }\n",
       "</style>\n",
       "<table border=\"1\" class=\"dataframe\">\n",
       "  <thead>\n",
       "    <tr style=\"text-align: right;\">\n",
       "      <th>col_0</th>\n",
       "      <th>0</th>\n",
       "      <th>1</th>\n",
       "    </tr>\n",
       "    <tr>\n",
       "      <th>row_0</th>\n",
       "      <th></th>\n",
       "      <th></th>\n",
       "    </tr>\n",
       "  </thead>\n",
       "  <tbody>\n",
       "    <tr>\n",
       "      <th>0</th>\n",
       "      <td>260911</td>\n",
       "      <td>204</td>\n",
       "    </tr>\n",
       "    <tr>\n",
       "      <th>1</th>\n",
       "      <td>930</td>\n",
       "      <td>260300</td>\n",
       "    </tr>\n",
       "  </tbody>\n",
       "</table>\n",
       "</div>"
      ],
      "text/plain": [
       "col_0       0       1\n",
       "row_0                \n",
       "0      260911     204\n",
       "1         930  260300"
      ]
     },
     "metadata": {},
     "output_type": "display_data"
    },
    {
     "name": "stdout",
     "output_type": "stream",
     "text": [
      "Accuracy of the model for test data is: 0.9556317044100119\n",
      "Confusion Matrix for test data is:\n"
     ]
    },
    {
     "data": {
      "text/html": [
       "<div>\n",
       "<style scoped>\n",
       "    .dataframe tbody tr th:only-of-type {\n",
       "        vertical-align: middle;\n",
       "    }\n",
       "\n",
       "    .dataframe tbody tr th {\n",
       "        vertical-align: top;\n",
       "    }\n",
       "\n",
       "    .dataframe thead th {\n",
       "        text-align: right;\n",
       "    }\n",
       "</style>\n",
       "<table border=\"1\" class=\"dataframe\">\n",
       "  <thead>\n",
       "    <tr style=\"text-align: right;\">\n",
       "      <th>col_0</th>\n",
       "      <th>0</th>\n",
       "      <th>1</th>\n",
       "    </tr>\n",
       "    <tr>\n",
       "      <th>row_0</th>\n",
       "      <th></th>\n",
       "      <th></th>\n",
       "    </tr>\n",
       "  </thead>\n",
       "  <tbody>\n",
       "    <tr>\n",
       "      <th>0</th>\n",
       "      <td>606839</td>\n",
       "      <td>2273</td>\n",
       "    </tr>\n",
       "    <tr>\n",
       "      <th>1</th>\n",
       "      <td>26018</td>\n",
       "      <td>2510</td>\n",
       "    </tr>\n",
       "  </tbody>\n",
       "</table>\n",
       "</div>"
      ],
      "text/plain": [
       "col_0       0     1\n",
       "row_0              \n",
       "0      606839  2273\n",
       "1       26018  2510"
      ]
     },
     "metadata": {},
     "output_type": "display_data"
    },
    {
     "name": "stdout",
     "output_type": "stream",
     "text": [
      "MCC: 0.2018653847467512\n",
      "AUC: 0.5421260367242994\n",
      "Precision: 0.5247752456617186\n",
      "Recall: 0.08798373527762199\n"
     ]
    }
   ],
   "source": [
    "sm = ADASYN(random_state=12, ratio = {1:261115},n_neighbors=10,n_jobs=-1)\n",
    "X_train, Y_train = sm.fit_sample(scaled_X_train,train_Y)\n",
    "\n",
    "model,acc_train,acc_test,roc_auc,mcc,prec,rec=RandomForest(X_train,Y_train,scaled_X_test,test_Y,columns)\n",
    "print(\"MCC:\",mcc)\n",
    "print(\"AUC:\",roc_auc)\n",
    "print(\"Precision:\",prec)\n",
    "print(\"Recall:\",rec)"
   ]
  },
  {
   "cell_type": "code",
   "execution_count": 58,
   "metadata": {},
   "outputs": [
    {
     "data": {
      "image/png": "[encoded data removed]",
      "text/plain": [
       "<Figure size 720x576 with 1 Axes>"
      ]
     },
     "metadata": {
      "needs_background": "light"
     },
     "output_type": "display_data"
    }
   ],
   "source": [
    "data=df.iloc[:,df.columns!='Target'].sample(n=5000,random_state=0)\n",
    "tsne = TSNE(n_components=2, init='pca')\n",
    "X = tsne.fit_transform(data)\n",
    "_, ax = plt.subplots(1, 1, figsize=(10, 8))\n",
    "ax.scatter(X[:, 0], X[:, 1], label='Training', alpha=0.2)\n",
    "ax.set_title('Training')\n",
    "ax.legend()\n",
    "plt.axis('tight')\n",
    "plt.show()  "
   ]
  },
  {
   "cell_type": "code",
   "execution_count": 76,
   "metadata": {},
   "outputs": [],
   "source": [
    "data=df.iloc[:,df.columns!='Target'].sample(n=40000,random_state=0)\n",
    "target=df.iloc[:,df.columns=='Target'].sample(n=40000,random_state=0)\n",
    "tsne = TSNE(n_components=2, init='pca')\n",
    "X = tsne.fit_transform(data)"
   ]
  },
  {
   "cell_type": "code",
   "execution_count": 77,
   "metadata": {},
   "outputs": [
    {
     "data": {
      "image/png": "[encoded data removed]",
      "text/plain": [
       "<Figure size 720x576 with 1 Axes>"
      ]
     },
     "metadata": {
      "needs_background": "light"
     },
     "output_type": "display_data"
    }
   ],
   "source": [
    "tsne_df=pd.concat([pd.DataFrame(X),target.reset_index(drop=True)],axis=1)\n",
    "_, ax = plt.subplots(1, 1, figsize=(10, 8))\n",
    "ax=sns.scatterplot(tsne_df[0],tsne_df[1],hue='Target',data=tsne_df)\n",
    "ax.set_title('Training')\n",
    "ax.legend()\n",
    "plt.axis('tight')\n",
    "plt.show()  "
   ]
  },
  {
   "cell_type": "code",
   "execution_count": 31,
   "metadata": {},
   "outputs": [
    {
     "data": {
      "text/html": [
       "<script>\n",
       "code_show=true; \n",
       "function code_toggle() {\n",
       " if (code_show){\n",
       " $('div.input').hide();\n",
       " } else {\n",
       " $('div.input').show();\n",
       " }\n",
       " code_show = !code_show\n",
       "} \n",
       "$( document ).ready(code_toggle);\n",
       "</script>\n",
       "To toggle code, click <a href=\"javascript:code_toggle()\">here</a>."
      ],
      "text/plain": [
       "<IPython.core.display.HTML object>"
      ]
     },
     "execution_count": 31,
     "metadata": {},
     "output_type": "execute_result"
    }
   ],
   "source": [
    "### Original Creator : Darshan Bhansali\n",
    "### HTML code to hide the input cells \n",
    "HTML('''<script>\n",
    "code_show=true; \n",
    "function code_toggle() {\n",
    " if (code_show){\n",
    " $('div.input').hide();\n",
    " } else {\n",
    " $('div.input').show();\n",
    " }\n",
    " code_show = !code_show\n",
    "} \n",
    "$( document ).ready(code_toggle);\n",
    "</script>\n",
    "To toggle code, click <a href=\"javascript:code_toggle()\">here</a>.''')"
   ]
  },
  {
   "cell_type": "code",
   "execution_count": null,
   "metadata": {},
   "outputs": [],
   "source": []
  }
 ],
 "metadata": {
  "kernelspec": {
   "display_name": "Python 3",
   "language": "python",
   "name": "python3"
  },
  "language_info": {
   "codemirror_mode": {
    "name": "ipython",
    "version": 3
   },
   "file_extension": ".py",
   "mimetype": "text/x-python",
   "name": "python",
   "nbconvert_exporter": "python",
   "pygments_lexer": "ipython3",
   "version": "3.6.7"
  }
 },
 "nbformat": 4,
 "nbformat_minor": 2
}
