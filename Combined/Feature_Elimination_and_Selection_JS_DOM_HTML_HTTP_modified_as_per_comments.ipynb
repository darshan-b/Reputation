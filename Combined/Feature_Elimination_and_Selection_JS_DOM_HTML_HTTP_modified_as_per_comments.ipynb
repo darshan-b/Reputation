{
 "cells": [
  {
   "cell_type": "code",
   "execution_count": 1,
   "metadata": {},
   "outputs": [
    {
     "name": "stderr",
     "output_type": "stream",
     "text": [
      "Using TensorFlow backend.\n"
     ]
    },
    {
     "data": {
      "text/html": [
       "<script type=\"text/javascript\">window.PlotlyConfig = {MathJaxConfig: 'local'};</script><script type=\"text/javascript\">if (window.MathJax) {MathJax.Hub.Config({SVG: {font: \"STIX-Web\"}});}</script><script>requirejs.config({paths: { 'plotly': ['https://cdn.plot.ly/plotly-latest.min']},});if(!window._Plotly) {require(['plotly'],function(plotly) {window._Plotly=plotly;});}</script>"
      ],
      "text/vnd.plotly.v1+html": [
       "<script type=\"text/javascript\">window.PlotlyConfig = {MathJaxConfig: 'local'};</script><script type=\"text/javascript\">if (window.MathJax) {MathJax.Hub.Config({SVG: {font: \"STIX-Web\"}});}</script><script>requirejs.config({paths: { 'plotly': ['https://cdn.plot.ly/plotly-latest.min']},});if(!window._Plotly) {require(['plotly'],function(plotly) {window._Plotly=plotly;});}</script>"
      ]
     },
     "metadata": {},
     "output_type": "display_data"
    }
   ],
   "source": [
    "import pandas as pd\n",
    "import numpy as np\n",
    "import copy\n",
    "import matplotlib.pyplot as plt\n",
    "import seaborn as sns\n",
    "%matplotlib inline\n",
    "\n",
    "from IPython.display import display,clear_output,HTML\n",
    "import warnings\n",
    "warnings.filterwarnings(\"ignore\")\n",
    "\n",
    "import keras\n",
    "from keras.layers import Dense,Dropout\n",
    "from keras.models import Sequential\n",
    "warnings.simplefilter(\"ignore\", DeprecationWarning)\n",
    "import researchpy as rp\n",
    "\n",
    "%matplotlib inline\n",
    "pd.set_option('display.max_columns', 500)\n",
    "pd.set_option('display.max_rows',305)\n",
    "\n",
    "from sklearn.feature_selection import SelectKBest,chi2,RFE,RFECV,f_regression,SelectFromModel,f_classif\n",
    "from sklearn.linear_model import LogisticRegression\n",
    "from sklearn.ensemble import ExtraTreesClassifier,RandomForestClassifier,GradientBoostingClassifier,AdaBoostClassifier,BaggingClassifier\n",
    "from sklearn.neighbors import KNeighborsClassifier\n",
    "from sklearn.model_selection import train_test_split,cross_val_score\n",
    "\n",
    "from sklearn.preprocessing import StandardScaler,MinMaxScaler\n",
    "from sklearn import metrics\n",
    "\n",
    "\n",
    "\n",
    "from sklearn.decomposition import PCA\n",
    "from sklearn.metrics import accuracy_score,auc,roc_curve,recall_score,precision_score,matthews_corrcoef\n",
    "\n",
    "from pandas_ml import ConfusionMatrix\n",
    "\n",
    "\n",
    "from imblearn.over_sampling import SMOTE\n",
    "\n",
    "from plotly.offline import download_plotlyjs, init_notebook_mode, plot, iplot\n",
    "init_notebook_mode(connected=True)\n",
    "import plotly.graph_objs as go\n",
    "\n",
    "import featuretools as ft\n",
    "\n",
    "from scipy import stats\n",
    "import re\n",
    "\n",
    "from statsmodels.stats.outliers_influence import variance_inflation_factor\n",
    "from statsmodels.tools.tools import add_constant"
   ]
  },
  {
   "cell_type": "code",
   "execution_count": 4,
   "metadata": {
    "collapsed": true
   },
   "outputs": [],
   "source": [
    "### Function to plot Feature Importance\n",
    "def feat_impt_plot(feat_impt,y_labels,width_s=1000,height_s=1000):\n",
    "    \n",
    "    m=pd.DataFrame(y_labels,feat_impt).reset_index()\n",
    "    m.columns=['Feature_Importance','Features']\n",
    "    m.sort_values(by='Feature_Importance',inplace=True,ascending=False)\n",
    "    m['Features']=m['Features'].str.replace(\"dom_function_\",\"\")\n",
    "    m['Features']=m['Features'].str.replace(\"js_function_\",\"\")\n",
    "    m['Features']=m['Features'].apply(lambda x: str(x).lstrip('.'))\n",
    "    m['Features']=m['Features'].str.replace(\"(\",\"\")\n",
    "    \n",
    "    data = [go.Bar(x=m.Feature_Importance.values,y=m.Features.values,text=np.round(m.Feature_Importance,4),\n",
    "            textposition = 'outside',\n",
    "            marker=dict(\n",
    "                color='rgb(158,202,225)',\n",
    "                line=dict(\n",
    "                    color='rgb(8,48,107)',\n",
    "                    width=1.5),\n",
    "            ),\n",
    "            opacity=0.6,\n",
    "            orientation='h'\n",
    "        )]\n",
    "    layout = go.Layout(autosize=False,\n",
    "    width=width_s,\n",
    "    height=height_s,\n",
    "    xaxis=dict(title='Feature Importances',\n",
    "        tickfont=dict(\n",
    "            size=12,\n",
    "            color='black'\n",
    "        )),\n",
    "    yaxis=dict(automargin=True))\n",
    "    fig = go.Figure(data=data, layout=layout)\n",
    "    iplot(fig)"
   ]
  },
  {
   "cell_type": "code",
   "execution_count": 38,
   "metadata": {
    "collapsed": true
   },
   "outputs": [],
   "source": [
    "def model_build(model,X_train,Y_train,X_test,Y_test,tree=False,feat=None):\n",
    "    \n",
    "    y_pred_train=model.predict(X_train)\n",
    "    acc_train=accuracy_score(Y_train,y_pred_train)\n",
    "    \n",
    "    print(\"Accuracy of the model for training data is:\",acc_train)\n",
    "    print(\"Confusion Matrix for training data is:\")\n",
    "    cm_train=ConfusionMatrix(Y_train,y_pred_train)\n",
    "    display(cm_train)\n",
    "    \n",
    "    \n",
    "    y_pred_test=model.predict(X_test)\n",
    "    acc_test=accuracy_score(Y_test,y_pred_test)\n",
    "    print(\"Accuracy of the model for test data is:\",acc_test)\n",
    "    print(\"Confusion Matrix for test data is:\")\n",
    "    cm_test=ConfusionMatrix(Y_test,y_pred_test)\n",
    "    display(cm_test)\n",
    "\n",
    "    fpr, tpr, threshold = roc_curve(Y_test, y_pred_test)\n",
    "    roc_auc =auc(fpr, tpr)\n",
    "    mcc=matthews_corrcoef(Y_test,y_pred_test)\n",
    "    \n",
    "    precision=precision_score(Y_test,y_pred_test)\n",
    "    recall=recall_score(Y_test,y_pred_test)\n",
    "    if tree==True:\n",
    "        feat_impt_plot(model.feature_importances_,feat)\n",
    "        return model,cm_train,cm_test,acc_train,acc_test,roc_auc,model.feature_importances_,mcc,precision,recall\n",
    "    \n",
    "    return model,cm_train,cm_test,acc_train,acc_test,roc_auc,mcc,precision,recall\n",
    "\n",
    "def KNN_model(X_train,Y_train,X_test,Y_test):\n",
    "    print('\\033[1m' + 'K-Nearest Neighbors' + '\\033[0m')\n",
    "    knn=KNeighborsClassifier()\n",
    "    knn.fit(X_train,Y_train)\n",
    "\n",
    "    return model_build(knn,X_train,Y_train,X_test,Y_test)\n",
    "\n",
    "# def Logistic_model(X_train,Y_train,X_test,Y_test):\n",
    "#     print('\\033[1m' + 'Logistic Regression' + '\\033[0m')\n",
    "#     log=LogisticRegression()\n",
    "#     log.fit(X_train,Y_train)\n",
    "    \n",
    "#     return model_build(log,X_train,Y_train,X_test,Y_test)\n",
    "\n",
    "def RandomForest(X_train,Y_train,X_test,Y_test,feat):\n",
    "    print('\\033[1m' + 'RandomForest Classifier' + '\\033[0m')\n",
    "    rf=RandomForestClassifier(random_state=0)\n",
    "    rf.fit(X_train,Y_train)\n",
    "\n",
    "    \n",
    "    return model_build(rf,X_train,Y_train,X_test,Y_test,True,feat)\n",
    "\n",
    "def AdaBoost(X_train,Y_train,X_test,Y_test,feat):\n",
    "    print('\\033[1m' + 'Adaoost Classifier' + '\\033[0m')\n",
    "    ada=AdaBoostClassifier(random_state=0)\n",
    "    ada.fit(X_train,Y_train)\n",
    "    \n",
    "    return model_build(ada,X_train,Y_train,X_test,Y_test,True,feat)\n",
    "\n",
    "def GradientBoosting(X_train,Y_train,X_test,Y_test,feat):\n",
    "    print('\\033[1m' + 'GradientBoosting Classifier' + '\\033[0m')\n",
    "    gbc=GradientBoostingClassifier(random_state=0)\n",
    "    gbc.fit(X_train,Y_train)\n",
    "    \n",
    "    return model_build(gbc,X_train,Y_train,X_test,Y_test,True,feat)\n",
    "\n",
    "def ExtraTree(X_train,Y_train,X_test,Y_test,feat):\n",
    "    print('\\033[1m' + 'ExtraTree Classifier' + '\\033[0m')\n",
    "    ext_tree=ExtraTreesClassifier(random_state=0)\n",
    "    ext_tree.fit(X_train,Y_train)\n",
    "    \n",
    "    return model_build(ext_tree,X_train,Y_train,X_test,Y_test,True,feat)\n",
    "\n",
    "def Bagging(X_train,Y_train,X_test,Y_test):\n",
    "    print('\\033[1m' + 'Bagging Classifier' + '\\033[0m')\n",
    "    bagging=BaggingClassifier(random_state=0)\n",
    "    bagging.fit(X_train,Y_train)\n",
    "    \n",
    "    return model_build(bagging,X_train,Y_train,X_test,Y_test)\n",
    "\n",
    "def DeepLearning1(X_train,Y_train,X_test,Y_test):\n",
    "    print('\\033[1m' + 'Neural Network-1' + '\\033[0m')\n",
    "    np.random.seed(0)\n",
    "    deep_learning=Sequential()\n",
    "    deep_learning.add(Dense(units=64,activation='relu',use_bias=True,kernel_initializer='uniform',input_dim=X_train.shape[1]))\n",
    "    deep_learning.add(Dense(units=128,activation='relu',use_bias=True,kernel_initializer='uniform'))\n",
    "    deep_learning.add(Dense(units=1,activation='sigmoid',use_bias=True,kernel_initializer='uniform'))\n",
    "    deep_learning.compile(optimizer='adam',loss='binary_crossentropy',metrics=['accuracy'])\n",
    "    deep_learning.fit(X_train,Y_train,batch_size=20,epochs=80,verbose=False)\n",
    "    acc_train=deep_learning.evaluate(X_train,Y_train,verbose=False)[1]\n",
    "    print(\"The accuracy of the model on training data is:\",acc_train)\n",
    "    cm_train=ConfusionMatrix(Y_train,deep_learning.predict_classes(X_train,batch_size=1,verbose=False).reshape(1,len(X_train))[0])\n",
    "    cm_test=ConfusionMatrix(Y_test,deep_learning.predict_classes(X_test,batch_size=1,verbose=False).reshape(1,len(X_test))[0])\n",
    "    display(cm_train)\n",
    "    acc_test=accuracy_score(Y_test,deep_learning.predict_classes(X_test,batch_size=1,verbose=False))\n",
    "    print(\"The accuracy of the model on test data is:\",acc_test)\n",
    "    display(cm_test)\n",
    "    mcc=matthews_corrcoef(Y_test,deep_learning.predict_classes(X_test,batch_size=1,verbose=False))\n",
    "    precision=precision_score(Y_test,deep_learning.predict_classes(X_test,batch_size=1,verbose=False))\n",
    "    recall=recall_score(Y_test,deep_learning.predict_classes(X_test,batch_size=1,verbose=False))\n",
    "    return  deep_learning,cm_train,cm_test,acc_train,acc_test,roc_auc,mcc,precision,recall"
   ]
  },
  {
   "cell_type": "markdown",
   "metadata": {},
   "source": [
    "#### Read HTML"
   ]
  },
  {
   "cell_type": "code",
   "execution_count": 39,
   "metadata": {},
   "outputs": [
    {
     "name": "stdout",
     "output_type": "stream",
     "text": [
      "Shape of HTML dataset: (43491, 1461)\n"
     ]
    }
   ],
   "source": [
    "df_html=pd.read_csv('../html/HTML.csv',index_col='domain')\n",
    "df_html.drop(['Unnamed: 0'],axis=1,inplace=True)\n",
    "cookie=[col for col in df_html.columns if 'number' in col]\n",
    "df_html.drop(cookie,axis=1,inplace=True)\n",
    "print(\"Shape of HTML dataset:\",df_html.shape)\n",
    "\n",
    "df_html.Target=df_html.Target.apply(lambda x: 1 if x=='Malicious' else 0)"
   ]
  },
  {
   "cell_type": "markdown",
   "metadata": {},
   "source": [
    "#### Read JS, DOM"
   ]
  },
  {
   "cell_type": "code",
   "execution_count": 40,
   "metadata": {},
   "outputs": [
    {
     "name": "stdout",
     "output_type": "stream",
     "text": [
      "Shape of JS,DOM dataset: (43294, 401)\n"
     ]
    }
   ],
   "source": [
    "df_js=pd.read_csv('Javascript.csv',low_memory=False,index_col='domain')\n",
    "cookie=[col for col in df_js.columns if 'number' in col]\n",
    "df_js.drop(cookie,axis=1,inplace=True)\n",
    "\n",
    "df_js.rename(columns={'Malicious':'Target'},inplace=True)\n",
    "\n",
    "print(\"Shape of JS,DOM dataset:\",df_js.shape)\n",
    "\n",
    "df_js.Target=df_js.Target.apply(lambda x: 1 if x=='Malicious' else 0)"
   ]
  },
  {
   "cell_type": "markdown",
   "metadata": {},
   "source": [
    "#### Read HTTP"
   ]
  },
  {
   "cell_type": "code",
   "execution_count": 41,
   "metadata": {},
   "outputs": [
    {
     "name": "stdout",
     "output_type": "stream",
     "text": [
      "Shape of HTTP dataset: (45856, 672)\n"
     ]
    }
   ],
   "source": [
    "df_http=pd.read_csv('HTTP.csv')\n",
    "\n",
    "df_http.rename(columns={'Malicious':'Target'},inplace=True)\n",
    "df_http.fillna(value=0,inplace=True)\n",
    "\n",
    "cookies=[columns for columns in df_http.columns if 'number' in columns]\n",
    "df_http.drop(cookies,axis=1,inplace=True)\n",
    "\n",
    "df_http=df_http[df_http['domain']!=0]\n",
    "\n",
    "df_http.sort_values(by='Target',inplace=True,ascending=False)\n",
    "df_http.drop_duplicates(['domain'], keep='first',inplace=True)\n",
    "\n",
    "df_http=df_http.sample(frac=1,random_state=0)\n",
    "df_http.set_index(['domain'],drop=True,inplace=True)\n",
    "print(\"Shape of HTTP dataset:\",df_http.shape)"
   ]
  },
  {
   "cell_type": "markdown",
   "metadata": {},
   "source": [
    "#### Read URL"
   ]
  },
  {
   "cell_type": "code",
   "execution_count": 42,
   "metadata": {},
   "outputs": [
    {
     "name": "stdout",
     "output_type": "stream",
     "text": [
      "Shape of URL dataset: (46771, 4194)\n"
     ]
    }
   ],
   "source": [
    "df_url=pd.read_csv('URL.csv')\n",
    "df_url.fillna(value=0,inplace=True)\n",
    "cookies=[columns for columns in df_url.columns if 'number' in columns]\n",
    "df_url.drop(cookies,axis=1,inplace=True)\n",
    "df_url.drop(['url_host','url_ip'],axis=1,inplace=True)\n",
    "df_url=df_url[df_url['domain']!=0]\n",
    "df_url.sort_values(by='Target',inplace=True,ascending=False)\n",
    "df_url.drop_duplicates(['domain'], keep='first',inplace=True)\n",
    "df_url=df_url.sample(frac=1,random_state=0)\n",
    "print(\"Shape of URL dataset:\",df_url.shape)\n",
    "df_url.set_index('domain',inplace=True,drop=True)"
   ]
  },
  {
   "cell_type": "markdown",
   "metadata": {},
   "source": [
    "#### Merging experiments"
   ]
  },
  {
   "cell_type": "code",
   "execution_count": 43,
   "metadata": {},
   "outputs": [
    {
     "name": "stdout",
     "output_type": "stream",
     "text": [
      "Shape of combined dataset: (39183, 6724)\n"
     ]
    },
    {
     "data": {
      "text/plain": [
       "0    34742\n",
       "1     4441\n",
       "Name: Target, dtype: int64"
      ]
     },
     "execution_count": 43,
     "metadata": {},
     "output_type": "execute_result"
    }
   ],
   "source": [
    "df=pd.concat([df_js,df_html,df_http,df_url],axis=1,join='inner')\n",
    "\n",
    "df['Target_z']=df[['Target','Target','Target','Target']].apply(max,axis=1)\n",
    "df.drop(['Target','Target','Target','Target'],axis=1,inplace=True)\n",
    "\n",
    "\n",
    "print(\"Shape of combined dataset:\",df.shape)\n",
    "df.rename(columns={'Target_z':'Target'},inplace=True)\n",
    "df.Target.value_counts()"
   ]
  },
  {
   "cell_type": "code",
   "execution_count": 44,
   "metadata": {
    "collapsed": true
   },
   "outputs": [],
   "source": [
    "df.drop(['Unnamed: 0'],axis=1,inplace=True)"
   ]
  },
  {
   "cell_type": "markdown",
   "metadata": {},
   "source": [
    "### 1. Feature selection\n",
    "\n",
    "\n",
    "####  1.a. Dropping constants "
   ]
  },
  {
   "cell_type": "code",
   "execution_count": 45,
   "metadata": {},
   "outputs": [
    {
     "name": "stdout",
     "output_type": "stream",
     "text": [
      "881 columns have only one unique value in them rendering them meaningless for classification\n"
     ]
    }
   ],
   "source": [
    "col_no_unique=[]\n",
    "for col in df.columns[:]:\n",
    "    if len(df[col].value_counts())<=1:\n",
    "        col_no_unique.append(col)\n",
    "len(col_no_unique)\n",
    "\n",
    "print(\"{} columns have only one unique value in them rendering them meaningless for classification\".format(len(col_no_unique)))\n",
    "### Drop those columns\n",
    "df.drop(col_no_unique,axis=1,inplace=True)\n",
    "\n",
    "pd.Series(col_no_unique).to_csv('Columns_constant.csv',index=False,header=False)"
   ]
  },
  {
   "cell_type": "code",
   "execution_count": 46,
   "metadata": {
    "collapsed": true
   },
   "outputs": [],
   "source": [
    "conv_type=df.dtypes[df.dtypes=='object'].index.values\n",
    "for col in conv_type:\n",
    "    try:\n",
    "        df[col]=df[col].astype(int)\n",
    "    except:\n",
    "        print(\"error during object to int conversion\",col)"
   ]
  },
  {
   "cell_type": "markdown",
   "metadata": {},
   "source": [
    "#### 1.b. Drop features for which 99% of domains have the same values"
   ]
  },
  {
   "cell_type": "code",
   "execution_count": 47,
   "metadata": {},
   "outputs": [
    {
     "name": "stdout",
     "output_type": "stream",
     "text": [
      "5283 columns have more than 99% same values\n"
     ]
    },
    {
     "data": {
      "text/plain": [
       "True     5283\n",
       "False     559\n",
       "Name: 99_%_same_values, dtype: int64"
      ]
     },
     "metadata": {},
     "output_type": "display_data"
    }
   ],
   "source": [
    "lst=[]\n",
    "for col in df.columns[:]:\n",
    "    lst.append([col,dict(df[col].value_counts()),df[col].value_counts().values[0]>=len(df)*0.99])\n",
    "\n",
    "col_values=pd.DataFrame(lst,columns=['Feature','Value_Counts','99_%_same_values'])\n",
    "col_values.set_index('Feature',drop=True,inplace=True)\n",
    "\n",
    "print(\"{} columns have more than 99% same values\".format(len(col_values[col_values['99_%_same_values']==True].index.values)))\n",
    "\n",
    "columns=col_values[col_values['99_%_same_values']==False].index.values\n",
    "columns=columns.tolist()\n",
    "display(col_values['99_%_same_values'].value_counts())"
   ]
  },
  {
   "cell_type": "code",
   "execution_count": 48,
   "metadata": {
    "collapsed": true
   },
   "outputs": [],
   "source": [
    "# rem=['http_header_vary_accept-encoding','http_header_vary_user-agent','js_function_.apply(','js_function_.log(',\n",
    "#     'js_function_.defineProperty(','js_function_.keys(','js_function_.substr','js_function_.test(',\n",
    "#      'js_function_unescape(','a_href_relative','link_type_application/wlwmanifest+xml','http_header_content-language_text/html',\n",
    "#      'http_header_expect-ctreport-uri','tr_count','tbody_count','script_src_relative','script_src_https','link_href_https',\n",
    "#      'script_src_absolute','img_src_relative','link_count','img_srcset_absolute','img_src_https',\n",
    "#      'base_href_absolute','iframe_src_https','iframe_src_absolute','base_count','a_href_absolute','link_href_absolute',\n",
    "#      'form_action_https','form_action_absolute','link_rel_EditURI','form_count','link_type_application/rsd+xml',\n",
    "#      'nofollow_count','a_count','a_href_https','iframe_sandbox_allow_same_origin_count','img_src_absolute',\n",
    "#      'base_href_out_of_domain','form_action_relative','link_href_relative','iframe_src_relative','img_srcset_relative',\n",
    "#      'link_rel_stylesheet','form_enctype_application/x-www-form-urlencoded','link_href_.png','script_type_text/javascript']\n",
    "\n",
    "# df_sel.drop(rem,axis=1,inplace=True)"
   ]
  },
  {
   "cell_type": "code",
   "execution_count": 49,
   "metadata": {
    "collapsed": true
   },
   "outputs": [],
   "source": [
    "df_sel=df[columns].copy(deep=True)\n",
    "X=df_sel.iloc[:,df_sel.columns!='Target']\n",
    "y=df_sel.Target\n",
    "feature_name = X.columns.tolist()"
   ]
  },
  {
   "cell_type": "code",
   "execution_count": 50,
   "metadata": {
    "collapsed": true
   },
   "outputs": [],
   "source": [
    "rem=['js_function_Object.defineProperty(','js_function_Object.keys(','js_function_Math.min(','a_href_absolute','a_href_relative',\n",
    "    'area_href_absolute','area_href_relative','base_href_out_of_domain','base_href_relative','base_href_absolute',\n",
    "    'form_action_absolute','form_enctype_application/x-www-form-urlencoded','form_action_relative',\n",
    "    'iframe_sandbox_allow_scripts_count','iframe_src_relative','link_href_absolute','link_href_relative','link_rel_wlwmanifest',\n",
    "     'link_type_application/opensearchdescription+xml','link_type_application/rsd+xml','link_type_text/xml+oembed',\n",
    "     'link_type_application/wlwmanifest+xml','source_src_relative','tbody_count','video_small',\n",
    "     'http_header_content-language_text/html','http_header_expect-ctreport-uri','http_header_vary_accept-encoding',\n",
    "     'http_header_vary_user-agent','url_word_count_bike',\n",
    "    'url_extension_endswith_.br','url_extension_endswith_.de','url_extension_endswith_.net','url_extension_endswith_.org',    \n",
    "    'url_extension_endswith_.ru','url_extension_.xy','url_extension_.x','url_tld_NE']\n",
    "\n",
    "df_sel.drop(rem,axis=1,inplace=True)"
   ]
  },
  {
   "cell_type": "code",
   "execution_count": 51,
   "metadata": {
    "collapsed": true
   },
   "outputs": [],
   "source": [
    "m=df_sel.corr()"
   ]
  },
  {
   "cell_type": "code",
   "execution_count": 52,
   "metadata": {
    "collapsed": true
   },
   "outputs": [],
   "source": [
    "for col in m.columns:\n",
    "    try:\n",
    "        print(m[(m[col]>=0.95) & (m[col]<1)].index.values[0],\"  \",col)\n",
    "    except:\n",
    "        continue"
   ]
  },
  {
   "cell_type": "code",
   "execution_count": 53,
   "metadata": {},
   "outputs": [
    {
     "data": {
      "text/plain": [
       "(39183, 521)"
      ]
     },
     "execution_count": 53,
     "metadata": {},
     "output_type": "execute_result"
    }
   ],
   "source": [
    "df_sel.shape"
   ]
  },
  {
   "cell_type": "code",
   "execution_count": 54,
   "metadata": {
    "collapsed": true
   },
   "outputs": [],
   "source": [
    "# X = add_constant(df_sel)\n",
    "# vif_df=pd.Series([variance_inflation_factor(X.values, i) for i in range(X.shape[1])], index=X.columns)\n",
    "# vif_df[vif_df>5]"
   ]
  },
  {
   "cell_type": "code",
   "execution_count": 55,
   "metadata": {
    "collapsed": true
   },
   "outputs": [],
   "source": [
    "X=df_sel.iloc[:,df_sel.columns!='Target']\n",
    "y=df_sel.Target\n",
    "feature_name = X.columns.tolist()"
   ]
  },
  {
   "cell_type": "code",
   "execution_count": 56,
   "metadata": {
    "collapsed": true
   },
   "outputs": [],
   "source": [
    "def cor_selector(X, y):\n",
    "    cor_list = []\n",
    "    # calculate the correlation with y for each feature\n",
    "    for i in X.columns.tolist():\n",
    "        cor = np.corrcoef(X[i], y)[0, 1]\n",
    "        cor_list.append(cor)\n",
    "    # replace NaN with 0\n",
    "    cor_list = [0 if np.isnan(i) else i for i in cor_list]\n",
    "    # feature name\n",
    "    cor_feature = X.iloc[:,np.argsort(np.abs(cor_list))[-100:]].columns.tolist()\n",
    "    # feature selection? 0 for not select, 1 for select\n",
    "    cor_support = [True if i in cor_feature else False for i in feature_name]\n",
    "    return cor_support, cor_feature\n",
    "\n",
    "\n",
    "cor_support, cor_feature = cor_selector(X, y)"
   ]
  },
  {
   "cell_type": "code",
   "execution_count": 57,
   "metadata": {
    "collapsed": true
   },
   "outputs": [],
   "source": [
    "X_norm = MinMaxScaler().fit_transform(X)\n",
    "chi_selector = SelectKBest(chi2, k=100)\n",
    "chi_selector.fit(X_norm, y)\n",
    "chi_support = chi_selector.get_support()\n",
    "chi_feature = X.loc[:,chi_support].columns.tolist()"
   ]
  },
  {
   "cell_type": "code",
   "execution_count": 58,
   "metadata": {
    "collapsed": true
   },
   "outputs": [],
   "source": [
    "rfe_selector = RFE(estimator=ExtraTreesClassifier(random_state=0), n_features_to_select=100, step=0.3, verbose=False)\n",
    "rfe_selector.fit(X_norm, y)\n",
    "rfe_support = rfe_selector.get_support()\n",
    "rfe_feature = X.loc[:,rfe_support].columns.tolist()"
   ]
  },
  {
   "cell_type": "code",
   "execution_count": 59,
   "metadata": {
    "collapsed": true
   },
   "outputs": [],
   "source": [
    "embeded_rf_selector = SelectFromModel(RandomForestClassifier(n_estimators=100,random_state=0), threshold='23*median')\n",
    "embeded_rf_selector.fit(X, y)\n",
    "embeded_rf_support = embeded_rf_selector.get_support()\n",
    "embeded_rf_feature = X.loc[:,embeded_rf_support].columns.tolist()"
   ]
  },
  {
   "cell_type": "code",
   "execution_count": 60,
   "metadata": {
    "collapsed": true
   },
   "outputs": [],
   "source": [
    "feature_selection_df = pd.DataFrame({'Feature':feature_name, 'Pearson':cor_support, 'Chi-2':chi_support, 'RFE':rfe_support,\n",
    "                                    'Random Forest':embeded_rf_support})\n",
    "# count the selected times for each feature\n",
    "feature_selection_df['Total'] = np.sum(feature_selection_df, axis=1)\n",
    "# display the top 100\n",
    "feature_selection_df = feature_selection_df.sort_values(['Total','Feature'] , ascending=False)\n",
    "feature_selection_df.index = range(1, len(feature_selection_df)+1)"
   ]
  },
  {
   "cell_type": "code",
   "execution_count": 61,
   "metadata": {},
   "outputs": [
    {
     "name": "stdout",
     "output_type": "stream",
     "text": [
      "The train/test split ratio is 80:20\n"
     ]
    },
    {
     "data": {
      "text/plain": [
       "(39183, 38)"
      ]
     },
     "execution_count": 61,
     "metadata": {},
     "output_type": "execute_result"
    }
   ],
   "source": [
    "X=df_sel[feature_selection_df[feature_selection_df.Total>=4]['Feature']]\n",
    "X.fillna(value=0,inplace=True)\n",
    "y=df_sel.Target.values\n",
    "feature_name = X.columns.tolist()\n",
    "\n",
    "scaler=StandardScaler()\n",
    "scaled_X=scaler.fit_transform(X)\n",
    "\n",
    "print(\"The train/test split ratio is 80:20\")\n",
    "X_train, X_test, Y_train, Y_test = train_test_split(scaled_X,y,random_state=0,test_size=0.2)\n",
    "\n",
    "X.shape"
   ]
  },
  {
   "cell_type": "markdown",
   "metadata": {},
   "source": [
    "### With features selected by all the methods"
   ]
  },
  {
   "cell_type": "code",
   "execution_count": 62,
   "metadata": {},
   "outputs": [
    {
     "data": {
      "text/plain": [
       "['url_words_with_length_7',\n",
       " 'url_words_with_length_5',\n",
       " 'url_words_with_length_4',\n",
       " 'url_word_count_cool',\n",
       " 'url_tlds',\n",
       " 'url_tld_XYZ',\n",
       " 'url_tld_BIKE',\n",
       " 'url_tld_BI',\n",
       " 'url_length',\n",
       " 'url_extensions',\n",
       " 'url_extension_endswith_.xyz',\n",
       " 'url_extension_endswith_.com',\n",
       " 'url_extension_.xyz',\n",
       " 'url_extension_.w',\n",
       " 'url_extension_.bik',\n",
       " 'url_extension_.b',\n",
       " 'url_contains_www',\n",
       " 'url_char_z',\n",
       " 'url_char_y',\n",
       " 'url_char_x',\n",
       " 'url_char_w',\n",
       " 'url_char_u',\n",
       " 'url_char_t',\n",
       " 'url_char_s',\n",
       " 'url_char_p',\n",
       " 'url_char_l',\n",
       " 'url_char_i',\n",
       " 'url_char_e',\n",
       " 'url_char_b',\n",
       " 'url_char_.',\n",
       " 'script_src_out_of_domain',\n",
       " 'script_src_.js',\n",
       " 'script_count',\n",
       " 'link_rel_stylesheet',\n",
       " 'http_header_transfer-encoding_chunked',\n",
       " 'http_header_server_centos',\n",
       " 'http_header_marco_contenttext',\n",
       " 'http_header_content-encoding_gzip']"
      ]
     },
     "execution_count": 62,
     "metadata": {},
     "output_type": "execute_result"
    }
   ],
   "source": [
    "feature_name"
   ]
  },
  {
   "cell_type": "code",
   "execution_count": 67,
   "metadata": {
    "collapsed": true
   },
   "outputs": [],
   "source": [
    "## Table to store training and test measures so we can compare later\n",
    "table_80_60_train=pd.DataFrame(columns=['accuracy','TP','TN','FP','FN','FPR','FNR'])\n",
    "table_80_60_test=pd.DataFrame(columns=['accuracy','TP','TN','FP','FN','FPR','FNR','auc','mcc','precision','recall'])\n",
    "\n",
    "ind_columns=['KNeighborsClassifier','RandomForestClassifier','AdaBoostClassifier',\n",
    "             'GradientBoostingClassifier','ExtraTreeClassifier','BaggingClassifier','Neural Network-1']\n",
    "\n",
    "f=[KNN_model,RandomForest,AdaBoost,GradientBoosting, ExtraTree,Bagging,DeepLearning1]"
   ]
  },
  {
   "cell_type": "code",
   "execution_count": 68,
   "metadata": {
    "collapsed": true
   },
   "outputs": [],
   "source": [
    "pd.Series(feature_name).to_csv('Features_Selected.csv',index=False,header=False)\n",
    "feature_name.append('Target')"
   ]
  },
  {
   "cell_type": "code",
   "execution_count": 69,
   "metadata": {
    "scrolled": false
   },
   "outputs": [
    {
     "name": "stdout",
     "output_type": "stream",
     "text": [
      "\u001b[1mK-Nearest Neighbors\u001b[0m\n",
      "Accuracy of the model for training data is: 0.982207962666\n",
      "Confusion Matrix for training data is:\n"
     ]
    },
    {
     "data": {
      "text/plain": [
       "Predicted  False  True  __all__\n",
       "Actual                         \n",
       "False      24263    64    24327\n",
       "True         424  2677     3101\n",
       "__all__    24687  2741    27428"
      ]
     },
     "metadata": {},
     "output_type": "display_data"
    },
    {
     "name": "stdout",
     "output_type": "stream",
     "text": [
      "Accuracy of the model for test data is: 0.976010208422\n",
      "Confusion Matrix for test data is:\n"
     ]
    },
    {
     "data": {
      "text/plain": [
       "Predicted  False  True  __all__\n",
       "Actual                         \n",
       "False      10370    45    10415\n",
       "True         237  1103     1340\n",
       "__all__    10607  1148    11755"
      ]
     },
     "metadata": {},
     "output_type": "display_data"
    },
    {
     "name": "stdout",
     "output_type": "stream",
     "text": [
      "\n",
      "\n",
      "\u001b[1mRandomForest Classifier\u001b[0m\n",
      "Accuracy of the model for training data is: 0.997666618055\n",
      "Confusion Matrix for training data is:\n"
     ]
    },
    {
     "data": {
      "text/plain": [
       "Predicted  False  True  __all__\n",
       "Actual                         \n",
       "False      24324     3    24327\n",
       "True          61  3040     3101\n",
       "__all__    24385  3043    27428"
      ]
     },
     "metadata": {},
     "output_type": "display_data"
    },
    {
     "name": "stdout",
     "output_type": "stream",
     "text": [
      "Accuracy of the model for test data is: 0.97771161208\n",
      "Confusion Matrix for test data is:\n"
     ]
    },
    {
     "data": {
      "text/plain": [
       "Predicted  False  True  __all__\n",
       "Actual                         \n",
       "False      10367    48    10415\n",
       "True         214  1126     1340\n",
       "__all__    10581  1174    11755"
      ]
     },
     "metadata": {},
     "output_type": "display_data"
    },
    {
     "data": {
      "application/vnd.plotly.v1+json": {
       "config": {
        "linkText": "Export to plot.ly",
        "plotlyServerURL": "https://plot.ly",
        "showLink": true
       },
       "data": [
        {
         "marker": {
          "color": "rgb(158,202,225)",
          "line": {
           "color": "rgb(8,48,107)",
           "width": 1.5
          }
         },
         "opacity": 0.6,
         "orientation": "h",
         "text": [
          0.1645,
          0.1599,
          0.0953,
          0.062,
          0.0573,
          0.0382,
          0.0377,
          0.0329,
          0.0263,
          0.0224,
          0.0217,
          0.0193,
          0.0189,
          0.0176,
          0.0151,
          0.0148,
          0.0146,
          0.0131,
          0.013,
          0.0128,
          0.0127,
          0.012,
          0.0117,
          0.0113,
          0.011,
          0.0109,
          0.0105,
          0.0104,
          0.0104,
          0.01,
          0.0069,
          0.0061,
          0.0051,
          0.0038,
          0.0031,
          0.0027,
          0.0021,
          0.002
         ],
         "textposition": "outside",
         "type": "bar",
         "uid": "ba700ca6-1757-464a-a43e-a132f677c55b",
         "x": [
          0.16450875205078958,
          0.15988362172370424,
          0.09531119340036796,
          0.061980797542667845,
          0.05734549597869985,
          0.03816734907004747,
          0.03767584686744493,
          0.03285418213257036,
          0.02627824880194843,
          0.02244033872101505,
          0.021676245026232076,
          0.0192890355700527,
          0.018920873369229218,
          0.01757143038747957,
          0.015079667776603179,
          0.014784283896826808,
          0.014568899242104971,
          0.01308813755619218,
          0.013044809700413468,
          0.012814764341094825,
          0.012737421707067136,
          0.012017539674242884,
          0.011702344687678192,
          0.01127248144567603,
          0.01096704940341126,
          0.010876000926257096,
          0.010474972100933653,
          0.010420024597618635,
          0.010380117365562134,
          0.009988312751007082,
          0.00691748823418536,
          0.00612810369582544,
          0.00511815867621223,
          0.0037902940201731206,
          0.003063856036320949,
          0.0027489666374722875,
          0.0021034807592713606,
          0.0020094141256003827
         ],
         "y": [
          "url_extensions",
          "url_length",
          "script_count",
          "link_rel_stylesheet",
          "script_src_.js",
          "url_char_w",
          "url_tld_BI",
          "http_header_content-encoding_gzip",
          "url_char_.",
          "url_words_with_length_4",
          "url_contains_www",
          "url_char_z",
          "script_src_out_of_domain",
          "url_word_count_cool",
          "url_extension_.b",
          "url_char_i",
          "url_tlds",
          "url_char_e",
          "url_extension_.xyz",
          "url_extension_endswith_.com",
          "http_header_marco_contenttext",
          "url_char_b",
          "url_char_l",
          "url_tld_BIKE",
          "url_char_p",
          "url_char_t",
          "url_char_s",
          "url_words_with_length_5",
          "url_char_y",
          "url_char_u",
          "url_extension_.w",
          "http_header_transfer-encoding_chunked",
          "url_words_with_length_7",
          "url_extension_endswith_.xyz",
          "http_header_server_centos",
          "url_char_x",
          "url_tld_XYZ",
          "url_extension_.bik"
         ]
        }
       ],
       "layout": {
        "autosize": false,
        "height": 1000,
        "width": 1000,
        "xaxis": {
         "tickfont": {
          "color": "black",
          "size": 12
         },
         "title": "Feature Importances"
        },
        "yaxis": {
         "automargin": true
        }
       }
      },
      "text/html": [
       "<div id=\"c42f71c9-2816-4a87-bc29-d6f8b0b2a597\" style=\"height: 1000px; width: 1000px;\" class=\"plotly-graph-div\"></div><script type=\"text/javascript\">require([\"plotly\"], function(Plotly) { window.PLOTLYENV=window.PLOTLYENV || {};window.PLOTLYENV.BASE_URL=\"https://plot.ly\";Plotly.newPlot(\"c42f71c9-2816-4a87-bc29-d6f8b0b2a597\", [{\"marker\": {\"color\": \"rgb(158,202,225)\", \"line\": {\"color\": \"rgb(8,48,107)\", \"width\": 1.5}}, \"opacity\": 0.6, \"orientation\": \"h\", \"text\": [0.1645, 0.1599, 0.0953, 0.062, 0.0573, 0.0382, 0.0377, 0.0329, 0.0263, 0.0224, 0.0217, 0.0193, 0.0189, 0.0176, 0.0151, 0.0148, 0.0146, 0.0131, 0.013, 0.0128, 0.0127, 0.012, 0.0117, 0.0113, 0.011, 0.0109, 0.0105, 0.0104, 0.0104, 0.01, 0.0069, 0.0061, 0.0051, 0.0038, 0.0031, 0.0027, 0.0021, 0.002], \"textposition\": \"outside\", \"x\": [0.16450875205078958, 0.15988362172370424, 0.09531119340036796, 0.061980797542667845, 0.05734549597869985, 0.03816734907004747, 0.03767584686744493, 0.03285418213257036, 0.02627824880194843, 0.02244033872101505, 0.021676245026232076, 0.0192890355700527, 0.018920873369229218, 0.01757143038747957, 0.015079667776603179, 0.014784283896826808, 0.014568899242104971, 0.01308813755619218, 0.013044809700413468, 0.012814764341094825, 0.012737421707067136, 0.012017539674242884, 0.011702344687678192, 0.01127248144567603, 0.01096704940341126, 0.010876000926257096, 0.010474972100933653, 0.010420024597618635, 0.010380117365562134, 0.009988312751007082, 0.00691748823418536, 0.00612810369582544, 0.00511815867621223, 0.0037902940201731206, 0.003063856036320949, 0.0027489666374722875, 0.0021034807592713606, 0.0020094141256003827], \"y\": [\"url_extensions\", \"url_length\", \"script_count\", \"link_rel_stylesheet\", \"script_src_.js\", \"url_char_w\", \"url_tld_BI\", \"http_header_content-encoding_gzip\", \"url_char_.\", \"url_words_with_length_4\", \"url_contains_www\", \"url_char_z\", \"script_src_out_of_domain\", \"url_word_count_cool\", \"url_extension_.b\", \"url_char_i\", \"url_tlds\", \"url_char_e\", \"url_extension_.xyz\", \"url_extension_endswith_.com\", \"http_header_marco_contenttext\", \"url_char_b\", \"url_char_l\", \"url_tld_BIKE\", \"url_char_p\", \"url_char_t\", \"url_char_s\", \"url_words_with_length_5\", \"url_char_y\", \"url_char_u\", \"url_extension_.w\", \"http_header_transfer-encoding_chunked\", \"url_words_with_length_7\", \"url_extension_endswith_.xyz\", \"http_header_server_centos\", \"url_char_x\", \"url_tld_XYZ\", \"url_extension_.bik\"], \"type\": \"bar\", \"uid\": \"ba700ca6-1757-464a-a43e-a132f677c55b\"}], {\"autosize\": false, \"height\": 1000, \"width\": 1000, \"xaxis\": {\"tickfont\": {\"color\": \"black\", \"size\": 12}, \"title\": \"Feature Importances\"}, \"yaxis\": {\"automargin\": true}}, {\"showLink\": true, \"linkText\": \"Export to plot.ly\", \"plotlyServerURL\": \"https://plot.ly\"})});</script>"
      ],
      "text/vnd.plotly.v1+html": [
       "<div id=\"c42f71c9-2816-4a87-bc29-d6f8b0b2a597\" style=\"height: 1000px; width: 1000px;\" class=\"plotly-graph-div\"></div><script type=\"text/javascript\">require([\"plotly\"], function(Plotly) { window.PLOTLYENV=window.PLOTLYENV || {};window.PLOTLYENV.BASE_URL=\"https://plot.ly\";Plotly.newPlot(\"c42f71c9-2816-4a87-bc29-d6f8b0b2a597\", [{\"marker\": {\"color\": \"rgb(158,202,225)\", \"line\": {\"color\": \"rgb(8,48,107)\", \"width\": 1.5}}, \"opacity\": 0.6, \"orientation\": \"h\", \"text\": [0.1645, 0.1599, 0.0953, 0.062, 0.0573, 0.0382, 0.0377, 0.0329, 0.0263, 0.0224, 0.0217, 0.0193, 0.0189, 0.0176, 0.0151, 0.0148, 0.0146, 0.0131, 0.013, 0.0128, 0.0127, 0.012, 0.0117, 0.0113, 0.011, 0.0109, 0.0105, 0.0104, 0.0104, 0.01, 0.0069, 0.0061, 0.0051, 0.0038, 0.0031, 0.0027, 0.0021, 0.002], \"textposition\": \"outside\", \"x\": [0.16450875205078958, 0.15988362172370424, 0.09531119340036796, 0.061980797542667845, 0.05734549597869985, 0.03816734907004747, 0.03767584686744493, 0.03285418213257036, 0.02627824880194843, 0.02244033872101505, 0.021676245026232076, 0.0192890355700527, 0.018920873369229218, 0.01757143038747957, 0.015079667776603179, 0.014784283896826808, 0.014568899242104971, 0.01308813755619218, 0.013044809700413468, 0.012814764341094825, 0.012737421707067136, 0.012017539674242884, 0.011702344687678192, 0.01127248144567603, 0.01096704940341126, 0.010876000926257096, 0.010474972100933653, 0.010420024597618635, 0.010380117365562134, 0.009988312751007082, 0.00691748823418536, 0.00612810369582544, 0.00511815867621223, 0.0037902940201731206, 0.003063856036320949, 0.0027489666374722875, 0.0021034807592713606, 0.0020094141256003827], \"y\": [\"url_extensions\", \"url_length\", \"script_count\", \"link_rel_stylesheet\", \"script_src_.js\", \"url_char_w\", \"url_tld_BI\", \"http_header_content-encoding_gzip\", \"url_char_.\", \"url_words_with_length_4\", \"url_contains_www\", \"url_char_z\", \"script_src_out_of_domain\", \"url_word_count_cool\", \"url_extension_.b\", \"url_char_i\", \"url_tlds\", \"url_char_e\", \"url_extension_.xyz\", \"url_extension_endswith_.com\", \"http_header_marco_contenttext\", \"url_char_b\", \"url_char_l\", \"url_tld_BIKE\", \"url_char_p\", \"url_char_t\", \"url_char_s\", \"url_words_with_length_5\", \"url_char_y\", \"url_char_u\", \"url_extension_.w\", \"http_header_transfer-encoding_chunked\", \"url_words_with_length_7\", \"url_extension_endswith_.xyz\", \"http_header_server_centos\", \"url_char_x\", \"url_tld_XYZ\", \"url_extension_.bik\"], \"type\": \"bar\", \"uid\": \"ba700ca6-1757-464a-a43e-a132f677c55b\"}], {\"autosize\": false, \"height\": 1000, \"width\": 1000, \"xaxis\": {\"tickfont\": {\"color\": \"black\", \"size\": 12}, \"title\": \"Feature Importances\"}, \"yaxis\": {\"automargin\": true}}, {\"showLink\": true, \"linkText\": \"Export to plot.ly\", \"plotlyServerURL\": \"https://plot.ly\"})});</script>"
      ]
     },
     "metadata": {},
     "output_type": "display_data"
    },
    {
     "name": "stdout",
     "output_type": "stream",
     "text": [
      "\n",
      "\n",
      "\u001b[1mAdaoost Classifier\u001b[0m\n",
      "Accuracy of the model for training data is: 0.973749453114\n",
      "Confusion Matrix for training data is:\n"
     ]
    },
    {
     "data": {
      "text/plain": [
       "Predicted  False  True  __all__\n",
       "Actual                         \n",
       "False      24072   255    24327\n",
       "True         465  2636     3101\n",
       "__all__    24537  2891    27428"
      ]
     },
     "metadata": {},
     "output_type": "display_data"
    },
    {
     "name": "stdout",
     "output_type": "stream",
     "text": [
      "Accuracy of the model for test data is: 0.969885155253\n",
      "Confusion Matrix for test data is:\n"
     ]
    },
    {
     "data": {
      "text/plain": [
       "Predicted  False  True  __all__\n",
       "Actual                         \n",
       "False      10300   115    10415\n",
       "True         239  1101     1340\n",
       "__all__    10539  1216    11755"
      ]
     },
     "metadata": {},
     "output_type": "display_data"
    },
    {
     "data": {
      "application/vnd.plotly.v1+json": {
       "config": {
        "linkText": "Export to plot.ly",
        "plotlyServerURL": "https://plot.ly",
        "showLink": true
       },
       "data": [
        {
         "marker": {
          "color": "rgb(158,202,225)",
          "line": {
           "color": "rgb(8,48,107)",
           "width": 1.5
          }
         },
         "opacity": 0.6,
         "orientation": "h",
         "text": [
          0.2,
          0.12,
          0.12,
          0.08,
          0.06,
          0.06,
          0.04,
          0.04,
          0.04,
          0.04,
          0.04,
          0.02,
          0.02,
          0.02,
          0.02,
          0.02,
          0.02,
          0.02,
          0.02,
          0,
          0,
          0,
          0,
          0,
          0,
          0,
          0,
          0,
          0,
          0,
          0,
          0,
          0,
          0,
          0,
          0,
          0,
          0
         ],
         "textposition": "outside",
         "type": "bar",
         "uid": "bb22b492-19fc-4a66-8ca9-979148ea8060",
         "x": [
          0.2,
          0.12,
          0.12,
          0.08,
          0.06,
          0.06,
          0.04,
          0.04,
          0.04,
          0.04,
          0.04,
          0.02,
          0.02,
          0.02,
          0.02,
          0.02,
          0.02,
          0.02,
          0.02,
          0,
          0,
          0,
          0,
          0,
          0,
          0,
          0,
          0,
          0,
          0,
          0,
          0,
          0,
          0,
          0,
          0,
          0,
          0
         ],
         "y": [
          "script_count",
          "script_src_.js",
          "url_length",
          "link_rel_stylesheet",
          "url_extensions",
          "script_src_out_of_domain",
          "url_char_w",
          "url_char_y",
          "url_contains_www",
          "http_header_content-encoding_gzip",
          "url_tld_BI",
          "http_header_transfer-encoding_chunked",
          "url_tlds",
          "url_char_z",
          "url_word_count_cool",
          "url_words_with_length_4",
          "url_char_i",
          "url_char_s",
          "url_char_p",
          "url_char_l",
          "http_header_server_centos",
          "http_header_marco_contenttext",
          "url_char_.",
          "url_char_b",
          "url_char_e",
          "url_words_with_length_7",
          "url_char_t",
          "url_char_u",
          "url_words_with_length_5",
          "url_extension_.b",
          "url_extension_.bik",
          "url_extension_.w",
          "url_extension_.xyz",
          "url_extension_endswith_.com",
          "url_extension_endswith_.xyz",
          "url_tld_BIKE",
          "url_tld_XYZ",
          "url_char_x"
         ]
        }
       ],
       "layout": {
        "autosize": false,
        "height": 1000,
        "width": 1000,
        "xaxis": {
         "tickfont": {
          "color": "black",
          "size": 12
         },
         "title": "Feature Importances"
        },
        "yaxis": {
         "automargin": true
        }
       }
      },
      "text/html": [
       "<div id=\"7077e49a-31ca-45bf-bdca-3e721bb568cf\" style=\"height: 1000px; width: 1000px;\" class=\"plotly-graph-div\"></div><script type=\"text/javascript\">require([\"plotly\"], function(Plotly) { window.PLOTLYENV=window.PLOTLYENV || {};window.PLOTLYENV.BASE_URL=\"https://plot.ly\";Plotly.newPlot(\"7077e49a-31ca-45bf-bdca-3e721bb568cf\", [{\"marker\": {\"color\": \"rgb(158,202,225)\", \"line\": {\"color\": \"rgb(8,48,107)\", \"width\": 1.5}}, \"opacity\": 0.6, \"orientation\": \"h\", \"text\": [0.2, 0.12, 0.12, 0.08, 0.06, 0.06, 0.04, 0.04, 0.04, 0.04, 0.04, 0.02, 0.02, 0.02, 0.02, 0.02, 0.02, 0.02, 0.02, 0.0, 0.0, 0.0, 0.0, 0.0, 0.0, 0.0, 0.0, 0.0, 0.0, 0.0, 0.0, 0.0, 0.0, 0.0, 0.0, 0.0, 0.0, 0.0], \"textposition\": \"outside\", \"x\": [0.2, 0.12, 0.12, 0.08, 0.06, 0.06, 0.04, 0.04, 0.04, 0.04, 0.04, 0.02, 0.02, 0.02, 0.02, 0.02, 0.02, 0.02, 0.02, 0.0, 0.0, 0.0, 0.0, 0.0, 0.0, 0.0, 0.0, 0.0, 0.0, 0.0, 0.0, 0.0, 0.0, 0.0, 0.0, 0.0, 0.0, 0.0], \"y\": [\"script_count\", \"script_src_.js\", \"url_length\", \"link_rel_stylesheet\", \"url_extensions\", \"script_src_out_of_domain\", \"url_char_w\", \"url_char_y\", \"url_contains_www\", \"http_header_content-encoding_gzip\", \"url_tld_BI\", \"http_header_transfer-encoding_chunked\", \"url_tlds\", \"url_char_z\", \"url_word_count_cool\", \"url_words_with_length_4\", \"url_char_i\", \"url_char_s\", \"url_char_p\", \"url_char_l\", \"http_header_server_centos\", \"http_header_marco_contenttext\", \"url_char_.\", \"url_char_b\", \"url_char_e\", \"url_words_with_length_7\", \"url_char_t\", \"url_char_u\", \"url_words_with_length_5\", \"url_extension_.b\", \"url_extension_.bik\", \"url_extension_.w\", \"url_extension_.xyz\", \"url_extension_endswith_.com\", \"url_extension_endswith_.xyz\", \"url_tld_BIKE\", \"url_tld_XYZ\", \"url_char_x\"], \"type\": \"bar\", \"uid\": \"bb22b492-19fc-4a66-8ca9-979148ea8060\"}], {\"autosize\": false, \"height\": 1000, \"width\": 1000, \"xaxis\": {\"tickfont\": {\"color\": \"black\", \"size\": 12}, \"title\": \"Feature Importances\"}, \"yaxis\": {\"automargin\": true}}, {\"showLink\": true, \"linkText\": \"Export to plot.ly\", \"plotlyServerURL\": \"https://plot.ly\"})});</script>"
      ],
      "text/vnd.plotly.v1+html": [
       "<div id=\"7077e49a-31ca-45bf-bdca-3e721bb568cf\" style=\"height: 1000px; width: 1000px;\" class=\"plotly-graph-div\"></div><script type=\"text/javascript\">require([\"plotly\"], function(Plotly) { window.PLOTLYENV=window.PLOTLYENV || {};window.PLOTLYENV.BASE_URL=\"https://plot.ly\";Plotly.newPlot(\"7077e49a-31ca-45bf-bdca-3e721bb568cf\", [{\"marker\": {\"color\": \"rgb(158,202,225)\", \"line\": {\"color\": \"rgb(8,48,107)\", \"width\": 1.5}}, \"opacity\": 0.6, \"orientation\": \"h\", \"text\": [0.2, 0.12, 0.12, 0.08, 0.06, 0.06, 0.04, 0.04, 0.04, 0.04, 0.04, 0.02, 0.02, 0.02, 0.02, 0.02, 0.02, 0.02, 0.02, 0.0, 0.0, 0.0, 0.0, 0.0, 0.0, 0.0, 0.0, 0.0, 0.0, 0.0, 0.0, 0.0, 0.0, 0.0, 0.0, 0.0, 0.0, 0.0], \"textposition\": \"outside\", \"x\": [0.2, 0.12, 0.12, 0.08, 0.06, 0.06, 0.04, 0.04, 0.04, 0.04, 0.04, 0.02, 0.02, 0.02, 0.02, 0.02, 0.02, 0.02, 0.02, 0.0, 0.0, 0.0, 0.0, 0.0, 0.0, 0.0, 0.0, 0.0, 0.0, 0.0, 0.0, 0.0, 0.0, 0.0, 0.0, 0.0, 0.0, 0.0], \"y\": [\"script_count\", \"script_src_.js\", \"url_length\", \"link_rel_stylesheet\", \"url_extensions\", \"script_src_out_of_domain\", \"url_char_w\", \"url_char_y\", \"url_contains_www\", \"http_header_content-encoding_gzip\", \"url_tld_BI\", \"http_header_transfer-encoding_chunked\", \"url_tlds\", \"url_char_z\", \"url_word_count_cool\", \"url_words_with_length_4\", \"url_char_i\", \"url_char_s\", \"url_char_p\", \"url_char_l\", \"http_header_server_centos\", \"http_header_marco_contenttext\", \"url_char_.\", \"url_char_b\", \"url_char_e\", \"url_words_with_length_7\", \"url_char_t\", \"url_char_u\", \"url_words_with_length_5\", \"url_extension_.b\", \"url_extension_.bik\", \"url_extension_.w\", \"url_extension_.xyz\", \"url_extension_endswith_.com\", \"url_extension_endswith_.xyz\", \"url_tld_BIKE\", \"url_tld_XYZ\", \"url_char_x\"], \"type\": \"bar\", \"uid\": \"bb22b492-19fc-4a66-8ca9-979148ea8060\"}], {\"autosize\": false, \"height\": 1000, \"width\": 1000, \"xaxis\": {\"tickfont\": {\"color\": \"black\", \"size\": 12}, \"title\": \"Feature Importances\"}, \"yaxis\": {\"automargin\": true}}, {\"showLink\": true, \"linkText\": \"Export to plot.ly\", \"plotlyServerURL\": \"https://plot.ly\"})});</script>"
      ]
     },
     "metadata": {},
     "output_type": "display_data"
    },
    {
     "name": "stdout",
     "output_type": "stream",
     "text": [
      "\n",
      "\n",
      "\u001b[1mGradientBoosting Classifier\u001b[0m\n",
      "Accuracy of the model for training data is: 0.97910893977\n",
      "Confusion Matrix for training data is:\n"
     ]
    },
    {
     "data": {
      "text/plain": [
       "Predicted  False  True  __all__\n",
       "Actual                         \n",
       "False      24203   124    24327\n",
       "True         449  2652     3101\n",
       "__all__    24652  2776    27428"
      ]
     },
     "metadata": {},
     "output_type": "display_data"
    },
    {
     "name": "stdout",
     "output_type": "stream",
     "text": [
      "Accuracy of the model for test data is: 0.975414717142\n",
      "Confusion Matrix for test data is:\n"
     ]
    },
    {
     "data": {
      "text/plain": [
       "Predicted  False  True  __all__\n",
       "Actual                         \n",
       "False      10347    68    10415\n",
       "True         221  1119     1340\n",
       "__all__    10568  1187    11755"
      ]
     },
     "metadata": {},
     "output_type": "display_data"
    },
    {
     "data": {
      "application/vnd.plotly.v1+json": {
       "config": {
        "linkText": "Export to plot.ly",
        "plotlyServerURL": "https://plot.ly",
        "showLink": true
       },
       "data": [
        {
         "marker": {
          "color": "rgb(158,202,225)",
          "line": {
           "color": "rgb(8,48,107)",
           "width": 1.5
          }
         },
         "opacity": 0.6,
         "orientation": "h",
         "text": [
          0.3006,
          0.2667,
          0.1519,
          0.0781,
          0.0479,
          0.0375,
          0.0349,
          0.0239,
          0.0227,
          0.009,
          0.0029,
          0.0028,
          0.0028,
          0.0024,
          0.0023,
          0.0023,
          0.0021,
          0.0018,
          0.0012,
          0.0009,
          0.0007,
          0.0006,
          0.0005,
          0.0005,
          0.0005,
          0.0005,
          0.0004,
          0.0004,
          0.0004,
          0.0003,
          0.0002,
          0.0001,
          0.0001,
          0,
          0,
          0,
          0,
          0
         ],
         "textposition": "outside",
         "type": "bar",
         "uid": "abc60634-00bc-4824-8d99-6292c4ef8955",
         "x": [
          0.30059172805101575,
          0.2667230872481863,
          0.1519314367124412,
          0.07810245207688198,
          0.04789370156635395,
          0.03746377880662854,
          0.03494671302970873,
          0.023900731136947677,
          0.02274702136547372,
          0.00898062643754755,
          0.0028754622062779826,
          0.0028475038846292777,
          0.0027516062193553683,
          0.002400704612472369,
          0.002283441035545812,
          0.0022694479674611663,
          0.002136291323426815,
          0.0017797294069008508,
          0.001183076349764699,
          0.0008959683458729589,
          0.0007012664893401533,
          0.0005744530532731962,
          0.0005458713230197218,
          0.0005397920864860354,
          0.0005311868604826322,
          0.0005297236976541913,
          0.00044692209597909017,
          0.00037923153718249743,
          0.00037060135515222986,
          0.00028311072124809927,
          0.00021927144088563773,
          6.254979640299738e-05,
          5.178006117803099e-05,
          4.745404013086944e-05,
          1.2277658692032372e-05,
          0,
          0,
          0
         ],
         "y": [
          "script_count",
          "url_extensions",
          "url_length",
          "url_tld_BI",
          "url_contains_www",
          "url_word_count_cool",
          "http_header_content-encoding_gzip",
          "url_char_w",
          "url_char_.",
          "http_header_marco_contenttext",
          "url_char_z",
          "url_extension_endswith_.com",
          "script_src_.js",
          "script_src_out_of_domain",
          "url_extension_.w",
          "url_extension_endswith_.xyz",
          "url_tld_XYZ",
          "url_extension_.xyz",
          "url_tlds",
          "url_char_p",
          "url_char_u",
          "url_char_s",
          "link_rel_stylesheet",
          "http_header_transfer-encoding_chunked",
          "url_words_with_length_4",
          "http_header_server_centos",
          "url_char_y",
          "url_char_l",
          "url_char_t",
          "url_char_b",
          "url_char_i",
          "url_char_x",
          "url_char_e",
          "url_words_with_length_5",
          "url_words_with_length_7",
          "url_extension_.b",
          "url_extension_.bik",
          "url_tld_BIKE"
         ]
        }
       ],
       "layout": {
        "autosize": false,
        "height": 1000,
        "width": 1000,
        "xaxis": {
         "tickfont": {
          "color": "black",
          "size": 12
         },
         "title": "Feature Importances"
        },
        "yaxis": {
         "automargin": true
        }
       }
      },
      "text/html": [
       "<div id=\"c871a1ab-2f83-4282-ba43-1ac040c3ffa9\" style=\"height: 1000px; width: 1000px;\" class=\"plotly-graph-div\"></div><script type=\"text/javascript\">require([\"plotly\"], function(Plotly) { window.PLOTLYENV=window.PLOTLYENV || {};window.PLOTLYENV.BASE_URL=\"https://plot.ly\";Plotly.newPlot(\"c871a1ab-2f83-4282-ba43-1ac040c3ffa9\", [{\"marker\": {\"color\": \"rgb(158,202,225)\", \"line\": {\"color\": \"rgb(8,48,107)\", \"width\": 1.5}}, \"opacity\": 0.6, \"orientation\": \"h\", \"text\": [0.3006, 0.2667, 0.1519, 0.0781, 0.0479, 0.0375, 0.0349, 0.0239, 0.0227, 0.009, 0.0029, 0.0028, 0.0028, 0.0024, 0.0023, 0.0023, 0.0021, 0.0018, 0.0012, 0.0009, 0.0007, 0.0006, 0.0005, 0.0005, 0.0005, 0.0005, 0.0004, 0.0004, 0.0004, 0.0003, 0.0002, 0.0001, 0.0001, 0.0, 0.0, 0.0, 0.0, 0.0], \"textposition\": \"outside\", \"x\": [0.30059172805101575, 0.2667230872481863, 0.1519314367124412, 0.07810245207688198, 0.04789370156635395, 0.03746377880662854, 0.03494671302970873, 0.023900731136947677, 0.02274702136547372, 0.00898062643754755, 0.0028754622062779826, 0.0028475038846292777, 0.0027516062193553683, 0.002400704612472369, 0.002283441035545812, 0.0022694479674611663, 0.002136291323426815, 0.0017797294069008508, 0.001183076349764699, 0.0008959683458729589, 0.0007012664893401533, 0.0005744530532731962, 0.0005458713230197218, 0.0005397920864860354, 0.0005311868604826322, 0.0005297236976541913, 0.00044692209597909017, 0.00037923153718249743, 0.00037060135515222986, 0.00028311072124809927, 0.00021927144088563773, 6.254979640299738e-05, 5.178006117803099e-05, 4.745404013086944e-05, 1.2277658692032372e-05, 0.0, 0.0, 0.0], \"y\": [\"script_count\", \"url_extensions\", \"url_length\", \"url_tld_BI\", \"url_contains_www\", \"url_word_count_cool\", \"http_header_content-encoding_gzip\", \"url_char_w\", \"url_char_.\", \"http_header_marco_contenttext\", \"url_char_z\", \"url_extension_endswith_.com\", \"script_src_.js\", \"script_src_out_of_domain\", \"url_extension_.w\", \"url_extension_endswith_.xyz\", \"url_tld_XYZ\", \"url_extension_.xyz\", \"url_tlds\", \"url_char_p\", \"url_char_u\", \"url_char_s\", \"link_rel_stylesheet\", \"http_header_transfer-encoding_chunked\", \"url_words_with_length_4\", \"http_header_server_centos\", \"url_char_y\", \"url_char_l\", \"url_char_t\", \"url_char_b\", \"url_char_i\", \"url_char_x\", \"url_char_e\", \"url_words_with_length_5\", \"url_words_with_length_7\", \"url_extension_.b\", \"url_extension_.bik\", \"url_tld_BIKE\"], \"type\": \"bar\", \"uid\": \"abc60634-00bc-4824-8d99-6292c4ef8955\"}], {\"autosize\": false, \"height\": 1000, \"width\": 1000, \"xaxis\": {\"tickfont\": {\"color\": \"black\", \"size\": 12}, \"title\": \"Feature Importances\"}, \"yaxis\": {\"automargin\": true}}, {\"showLink\": true, \"linkText\": \"Export to plot.ly\", \"plotlyServerURL\": \"https://plot.ly\"})});</script>"
      ],
      "text/vnd.plotly.v1+html": [
       "<div id=\"c871a1ab-2f83-4282-ba43-1ac040c3ffa9\" style=\"height: 1000px; width: 1000px;\" class=\"plotly-graph-div\"></div><script type=\"text/javascript\">require([\"plotly\"], function(Plotly) { window.PLOTLYENV=window.PLOTLYENV || {};window.PLOTLYENV.BASE_URL=\"https://plot.ly\";Plotly.newPlot(\"c871a1ab-2f83-4282-ba43-1ac040c3ffa9\", [{\"marker\": {\"color\": \"rgb(158,202,225)\", \"line\": {\"color\": \"rgb(8,48,107)\", \"width\": 1.5}}, \"opacity\": 0.6, \"orientation\": \"h\", \"text\": [0.3006, 0.2667, 0.1519, 0.0781, 0.0479, 0.0375, 0.0349, 0.0239, 0.0227, 0.009, 0.0029, 0.0028, 0.0028, 0.0024, 0.0023, 0.0023, 0.0021, 0.0018, 0.0012, 0.0009, 0.0007, 0.0006, 0.0005, 0.0005, 0.0005, 0.0005, 0.0004, 0.0004, 0.0004, 0.0003, 0.0002, 0.0001, 0.0001, 0.0, 0.0, 0.0, 0.0, 0.0], \"textposition\": \"outside\", \"x\": [0.30059172805101575, 0.2667230872481863, 0.1519314367124412, 0.07810245207688198, 0.04789370156635395, 0.03746377880662854, 0.03494671302970873, 0.023900731136947677, 0.02274702136547372, 0.00898062643754755, 0.0028754622062779826, 0.0028475038846292777, 0.0027516062193553683, 0.002400704612472369, 0.002283441035545812, 0.0022694479674611663, 0.002136291323426815, 0.0017797294069008508, 0.001183076349764699, 0.0008959683458729589, 0.0007012664893401533, 0.0005744530532731962, 0.0005458713230197218, 0.0005397920864860354, 0.0005311868604826322, 0.0005297236976541913, 0.00044692209597909017, 0.00037923153718249743, 0.00037060135515222986, 0.00028311072124809927, 0.00021927144088563773, 6.254979640299738e-05, 5.178006117803099e-05, 4.745404013086944e-05, 1.2277658692032372e-05, 0.0, 0.0, 0.0], \"y\": [\"script_count\", \"url_extensions\", \"url_length\", \"url_tld_BI\", \"url_contains_www\", \"url_word_count_cool\", \"http_header_content-encoding_gzip\", \"url_char_w\", \"url_char_.\", \"http_header_marco_contenttext\", \"url_char_z\", \"url_extension_endswith_.com\", \"script_src_.js\", \"script_src_out_of_domain\", \"url_extension_.w\", \"url_extension_endswith_.xyz\", \"url_tld_XYZ\", \"url_extension_.xyz\", \"url_tlds\", \"url_char_p\", \"url_char_u\", \"url_char_s\", \"link_rel_stylesheet\", \"http_header_transfer-encoding_chunked\", \"url_words_with_length_4\", \"http_header_server_centos\", \"url_char_y\", \"url_char_l\", \"url_char_t\", \"url_char_b\", \"url_char_i\", \"url_char_x\", \"url_char_e\", \"url_words_with_length_5\", \"url_words_with_length_7\", \"url_extension_.b\", \"url_extension_.bik\", \"url_tld_BIKE\"], \"type\": \"bar\", \"uid\": \"abc60634-00bc-4824-8d99-6292c4ef8955\"}], {\"autosize\": false, \"height\": 1000, \"width\": 1000, \"xaxis\": {\"tickfont\": {\"color\": \"black\", \"size\": 12}, \"title\": \"Feature Importances\"}, \"yaxis\": {\"automargin\": true}}, {\"showLink\": true, \"linkText\": \"Export to plot.ly\", \"plotlyServerURL\": \"https://plot.ly\"})});</script>"
      ]
     },
     "metadata": {},
     "output_type": "display_data"
    },
    {
     "name": "stdout",
     "output_type": "stream",
     "text": [
      "\n",
      "\n",
      "\u001b[1mExtraTree Classifier\u001b[0m\n",
      "Accuracy of the model for training data is: 0.999963540907\n",
      "Confusion Matrix for training data is:\n"
     ]
    },
    {
     "data": {
      "text/plain": [
       "Predicted  False  True  __all__\n",
       "Actual                         \n",
       "False      24327     0    24327\n",
       "True           1  3100     3101\n",
       "__all__    24328  3100    27428"
      ]
     },
     "metadata": {},
     "output_type": "display_data"
    },
    {
     "name": "stdout",
     "output_type": "stream",
     "text": [
      "Accuracy of the model for test data is: 0.97771161208\n",
      "Confusion Matrix for test data is:\n"
     ]
    },
    {
     "data": {
      "text/plain": [
       "Predicted  False  True  __all__\n",
       "Actual                         \n",
       "False      10376    39    10415\n",
       "True         223  1117     1340\n",
       "__all__    10599  1156    11755"
      ]
     },
     "metadata": {},
     "output_type": "display_data"
    },
    {
     "data": {
      "application/vnd.plotly.v1+json": {
       "config": {
        "linkText": "Export to plot.ly",
        "plotlyServerURL": "https://plot.ly",
        "showLink": true
       },
       "data": [
        {
         "marker": {
          "color": "rgb(158,202,225)",
          "line": {
           "color": "rgb(8,48,107)",
           "width": 1.5
          }
         },
         "opacity": 0.6,
         "orientation": "h",
         "text": [
          0.0928,
          0.0586,
          0.0531,
          0.0527,
          0.0524,
          0.0504,
          0.0455,
          0.0437,
          0.0428,
          0.0415,
          0.0344,
          0.0295,
          0.0278,
          0.0275,
          0.0269,
          0.0235,
          0.0226,
          0.0211,
          0.0198,
          0.0181,
          0.0177,
          0.0173,
          0.0147,
          0.0145,
          0.0139,
          0.0139,
          0.013,
          0.013,
          0.0128,
          0.0121,
          0.0116,
          0.0115,
          0.0102,
          0.0095,
          0.0082,
          0.0078,
          0.0075,
          0.0058
         ],
         "textposition": "outside",
         "type": "bar",
         "uid": "ea40fccf-fc9b-4312-847c-3121ab7539f1",
         "x": [
          0.09280739735337665,
          0.05861318953960559,
          0.05310223342287401,
          0.052669371302099276,
          0.05239899954263414,
          0.05042315837401299,
          0.04551547727990266,
          0.04374316708392302,
          0.04282751192407817,
          0.04152774385165962,
          0.03441976768203104,
          0.029531481949301153,
          0.027817327740995774,
          0.027475396472669545,
          0.026885263394450236,
          0.02347772629638396,
          0.02259133165301288,
          0.021122291224303553,
          0.019831587141323593,
          0.01808065896364996,
          0.01774906200189071,
          0.017293603844895526,
          0.014674986945523705,
          0.014530686498035494,
          0.013892040015035068,
          0.013869368366797386,
          0.013046527799277303,
          0.012999697912081762,
          0.012841931752455679,
          0.012123362646563251,
          0.011619379223704648,
          0.011505499102731144,
          0.010167898428306869,
          0.009472436168806189,
          0.008171579957212186,
          0.007848946526619329,
          0.0074964523896714885,
          0.005835458228104504
         ],
         "y": [
          "http_header_content-encoding_gzip",
          "url_tld_BI",
          "url_char_w",
          "url_contains_www",
          "http_header_marco_contenttext",
          "url_extension_.xyz",
          "url_extension_endswith_.xyz",
          "url_extensions",
          "url_char_.",
          "url_length",
          "url_word_count_cool",
          "link_rel_stylesheet",
          "url_tld_BIKE",
          "http_header_transfer-encoding_chunked",
          "url_tld_XYZ",
          "url_extension_endswith_.com",
          "url_tlds",
          "url_words_with_length_4",
          "url_extension_.b",
          "url_char_l",
          "script_src_.js",
          "url_char_i",
          "script_count",
          "url_char_y",
          "url_char_e",
          "url_extension_.w",
          "url_char_u",
          "url_char_p",
          "url_words_with_length_5",
          "url_char_s",
          "url_char_t",
          "url_extension_.bik",
          "url_char_z",
          "url_char_x",
          "script_src_out_of_domain",
          "http_header_server_centos",
          "url_char_b",
          "url_words_with_length_7"
         ]
        }
       ],
       "layout": {
        "autosize": false,
        "height": 1000,
        "width": 1000,
        "xaxis": {
         "tickfont": {
          "color": "black",
          "size": 12
         },
         "title": "Feature Importances"
        },
        "yaxis": {
         "automargin": true
        }
       }
      },
      "text/html": [
       "<div id=\"48d17b8e-20ad-410d-a0d2-2607331f4989\" style=\"height: 1000px; width: 1000px;\" class=\"plotly-graph-div\"></div><script type=\"text/javascript\">require([\"plotly\"], function(Plotly) { window.PLOTLYENV=window.PLOTLYENV || {};window.PLOTLYENV.BASE_URL=\"https://plot.ly\";Plotly.newPlot(\"48d17b8e-20ad-410d-a0d2-2607331f4989\", [{\"marker\": {\"color\": \"rgb(158,202,225)\", \"line\": {\"color\": \"rgb(8,48,107)\", \"width\": 1.5}}, \"opacity\": 0.6, \"orientation\": \"h\", \"text\": [0.0928, 0.0586, 0.0531, 0.0527, 0.0524, 0.0504, 0.0455, 0.0437, 0.0428, 0.0415, 0.0344, 0.0295, 0.0278, 0.0275, 0.0269, 0.0235, 0.0226, 0.0211, 0.0198, 0.0181, 0.0177, 0.0173, 0.0147, 0.0145, 0.0139, 0.0139, 0.013, 0.013, 0.0128, 0.0121, 0.0116, 0.0115, 0.0102, 0.0095, 0.0082, 0.0078, 0.0075, 0.0058], \"textposition\": \"outside\", \"x\": [0.09280739735337665, 0.05861318953960559, 0.05310223342287401, 0.052669371302099276, 0.05239899954263414, 0.05042315837401299, 0.04551547727990266, 0.04374316708392302, 0.04282751192407817, 0.04152774385165962, 0.03441976768203104, 0.029531481949301153, 0.027817327740995774, 0.027475396472669545, 0.026885263394450236, 0.02347772629638396, 0.02259133165301288, 0.021122291224303553, 0.019831587141323593, 0.01808065896364996, 0.01774906200189071, 0.017293603844895526, 0.014674986945523705, 0.014530686498035494, 0.013892040015035068, 0.013869368366797386, 0.013046527799277303, 0.012999697912081762, 0.012841931752455679, 0.012123362646563251, 0.011619379223704648, 0.011505499102731144, 0.010167898428306869, 0.009472436168806189, 0.008171579957212186, 0.007848946526619329, 0.0074964523896714885, 0.005835458228104504], \"y\": [\"http_header_content-encoding_gzip\", \"url_tld_BI\", \"url_char_w\", \"url_contains_www\", \"http_header_marco_contenttext\", \"url_extension_.xyz\", \"url_extension_endswith_.xyz\", \"url_extensions\", \"url_char_.\", \"url_length\", \"url_word_count_cool\", \"link_rel_stylesheet\", \"url_tld_BIKE\", \"http_header_transfer-encoding_chunked\", \"url_tld_XYZ\", \"url_extension_endswith_.com\", \"url_tlds\", \"url_words_with_length_4\", \"url_extension_.b\", \"url_char_l\", \"script_src_.js\", \"url_char_i\", \"script_count\", \"url_char_y\", \"url_char_e\", \"url_extension_.w\", \"url_char_u\", \"url_char_p\", \"url_words_with_length_5\", \"url_char_s\", \"url_char_t\", \"url_extension_.bik\", \"url_char_z\", \"url_char_x\", \"script_src_out_of_domain\", \"http_header_server_centos\", \"url_char_b\", \"url_words_with_length_7\"], \"type\": \"bar\", \"uid\": \"ea40fccf-fc9b-4312-847c-3121ab7539f1\"}], {\"autosize\": false, \"height\": 1000, \"width\": 1000, \"xaxis\": {\"tickfont\": {\"color\": \"black\", \"size\": 12}, \"title\": \"Feature Importances\"}, \"yaxis\": {\"automargin\": true}}, {\"showLink\": true, \"linkText\": \"Export to plot.ly\", \"plotlyServerURL\": \"https://plot.ly\"})});</script>"
      ],
      "text/vnd.plotly.v1+html": [
       "<div id=\"48d17b8e-20ad-410d-a0d2-2607331f4989\" style=\"height: 1000px; width: 1000px;\" class=\"plotly-graph-div\"></div><script type=\"text/javascript\">require([\"plotly\"], function(Plotly) { window.PLOTLYENV=window.PLOTLYENV || {};window.PLOTLYENV.BASE_URL=\"https://plot.ly\";Plotly.newPlot(\"48d17b8e-20ad-410d-a0d2-2607331f4989\", [{\"marker\": {\"color\": \"rgb(158,202,225)\", \"line\": {\"color\": \"rgb(8,48,107)\", \"width\": 1.5}}, \"opacity\": 0.6, \"orientation\": \"h\", \"text\": [0.0928, 0.0586, 0.0531, 0.0527, 0.0524, 0.0504, 0.0455, 0.0437, 0.0428, 0.0415, 0.0344, 0.0295, 0.0278, 0.0275, 0.0269, 0.0235, 0.0226, 0.0211, 0.0198, 0.0181, 0.0177, 0.0173, 0.0147, 0.0145, 0.0139, 0.0139, 0.013, 0.013, 0.0128, 0.0121, 0.0116, 0.0115, 0.0102, 0.0095, 0.0082, 0.0078, 0.0075, 0.0058], \"textposition\": \"outside\", \"x\": [0.09280739735337665, 0.05861318953960559, 0.05310223342287401, 0.052669371302099276, 0.05239899954263414, 0.05042315837401299, 0.04551547727990266, 0.04374316708392302, 0.04282751192407817, 0.04152774385165962, 0.03441976768203104, 0.029531481949301153, 0.027817327740995774, 0.027475396472669545, 0.026885263394450236, 0.02347772629638396, 0.02259133165301288, 0.021122291224303553, 0.019831587141323593, 0.01808065896364996, 0.01774906200189071, 0.017293603844895526, 0.014674986945523705, 0.014530686498035494, 0.013892040015035068, 0.013869368366797386, 0.013046527799277303, 0.012999697912081762, 0.012841931752455679, 0.012123362646563251, 0.011619379223704648, 0.011505499102731144, 0.010167898428306869, 0.009472436168806189, 0.008171579957212186, 0.007848946526619329, 0.0074964523896714885, 0.005835458228104504], \"y\": [\"http_header_content-encoding_gzip\", \"url_tld_BI\", \"url_char_w\", \"url_contains_www\", \"http_header_marco_contenttext\", \"url_extension_.xyz\", \"url_extension_endswith_.xyz\", \"url_extensions\", \"url_char_.\", \"url_length\", \"url_word_count_cool\", \"link_rel_stylesheet\", \"url_tld_BIKE\", \"http_header_transfer-encoding_chunked\", \"url_tld_XYZ\", \"url_extension_endswith_.com\", \"url_tlds\", \"url_words_with_length_4\", \"url_extension_.b\", \"url_char_l\", \"script_src_.js\", \"url_char_i\", \"script_count\", \"url_char_y\", \"url_char_e\", \"url_extension_.w\", \"url_char_u\", \"url_char_p\", \"url_words_with_length_5\", \"url_char_s\", \"url_char_t\", \"url_extension_.bik\", \"url_char_z\", \"url_char_x\", \"script_src_out_of_domain\", \"http_header_server_centos\", \"url_char_b\", \"url_words_with_length_7\"], \"type\": \"bar\", \"uid\": \"ea40fccf-fc9b-4312-847c-3121ab7539f1\"}], {\"autosize\": false, \"height\": 1000, \"width\": 1000, \"xaxis\": {\"tickfont\": {\"color\": \"black\", \"size\": 12}, \"title\": \"Feature Importances\"}, \"yaxis\": {\"automargin\": true}}, {\"showLink\": true, \"linkText\": \"Export to plot.ly\", \"plotlyServerURL\": \"https://plot.ly\"})});</script>"
      ]
     },
     "metadata": {},
     "output_type": "display_data"
    },
    {
     "name": "stdout",
     "output_type": "stream",
     "text": [
      "\n",
      "\n",
      "\u001b[1mBagging Classifier\u001b[0m\n",
      "Accuracy of the model for training data is: 0.997520781683\n",
      "Confusion Matrix for training data is:\n"
     ]
    },
    {
     "data": {
      "text/plain": [
       "Predicted  False  True  __all__\n",
       "Actual                         \n",
       "False      24320     7    24327\n",
       "True          61  3040     3101\n",
       "__all__    24381  3047    27428"
      ]
     },
     "metadata": {},
     "output_type": "display_data"
    },
    {
     "name": "stdout",
     "output_type": "stream",
     "text": [
      "Accuracy of the model for test data is: 0.977201190983\n",
      "Confusion Matrix for test data is:\n"
     ]
    },
    {
     "data": {
      "text/plain": [
       "Predicted  False  True  __all__\n",
       "Actual                         \n",
       "False      10351    64    10415\n",
       "True         204  1136     1340\n",
       "__all__    10555  1200    11755"
      ]
     },
     "metadata": {},
     "output_type": "display_data"
    },
    {
     "name": "stdout",
     "output_type": "stream",
     "text": [
      "\n",
      "\n",
      "\u001b[1mNeural Network-1\u001b[0m\n",
      "The accuracy of the model on training data is: 0.997447863497\n"
     ]
    },
    {
     "data": {
      "text/plain": [
       "Predicted  False  True  __all__\n",
       "Actual                         \n",
       "False      24286    41    24327\n",
       "True          29  3072     3101\n",
       "__all__    24315  3113    27428"
      ]
     },
     "metadata": {},
     "output_type": "display_data"
    },
    {
     "name": "stdout",
     "output_type": "stream",
     "text": [
      "The accuracy of the model on test data is: 0.973373032752\n"
     ]
    },
    {
     "data": {
      "text/plain": [
       "Predicted  False  True  __all__\n",
       "Actual                         \n",
       "False      10284   131    10415\n",
       "True         182  1158     1340\n",
       "__all__    10466  1289    11755"
      ]
     },
     "metadata": {},
     "output_type": "display_data"
    },
    {
     "name": "stdout",
     "output_type": "stream",
     "text": [
      "\n",
      "\n"
     ]
    }
   ],
   "source": [
    "df_min=df_sel[feature_name]\n",
    "\n",
    "train=df_min.iloc[:27428,:]\n",
    "train_X=train.iloc[:,train.columns!='Target'].values\n",
    "train_Y=train.Target.values\n",
    "\n",
    "scaler=StandardScaler()\n",
    "scaled_X_train=scaler.fit_transform(train_X)\n",
    "\n",
    "test=df_min.iloc[27428:,:]\n",
    "test_X=test.iloc[:,test.columns!='Target'].values\n",
    "test_Y=test.Target.values\n",
    "scaled_X_test=scaler.transform(test_X)\n",
    "\n",
    "feature_name.remove('Target')\n",
    "\n",
    "feat_imp=[None]*4\n",
    "j=0\n",
    "for i in range(0,7):\n",
    "    if i>=1 and i<=4:\n",
    "        model,cm_train,cm_test,acc_train,acc_test,roc_auc,feat_imp[j],mcc,precision,recall=f[i](scaled_X_train,train_Y,scaled_X_test,test_Y,feature_name)\n",
    "        j=j+1\n",
    "    else:\n",
    "        model,cm_train,cm_test,acc_train,acc_test,roc_auc,mcc,precision,recall=f[i](scaled_X_train,train_Y,scaled_X_test,test_Y)\n",
    "    table_80_60_train.loc[i]=   ([acc_train,cm_train.TP,cm_train.TN,cm_train.FP,cm_train.FN,cm_train.FPR,cm_train.FNR])\n",
    "    table_80_60_test.loc[i] =   ([acc_test ,cm_test.TP, cm_test.TN, cm_test.FP, cm_test.FN, cm_test.FPR, cm_test.FNR,roc_auc,mcc,precision,recall])\n",
    "    print(\"\\n\")"
   ]
  },
  {
   "cell_type": "code",
   "execution_count": 70,
   "metadata": {
    "scrolled": false
   },
   "outputs": [
    {
     "name": "stdout",
     "output_type": "stream",
     "text": [
      "Training Results\n"
     ]
    },
    {
     "data": {
      "text/html": [
       "<div>\n",
       "<style scoped>\n",
       "    .dataframe tbody tr th:only-of-type {\n",
       "        vertical-align: middle;\n",
       "    }\n",
       "\n",
       "    .dataframe tbody tr th {\n",
       "        vertical-align: top;\n",
       "    }\n",
       "\n",
       "    .dataframe thead th {\n",
       "        text-align: right;\n",
       "    }\n",
       "</style>\n",
       "<table border=\"1\" class=\"dataframe\">\n",
       "  <thead>\n",
       "    <tr style=\"text-align: right;\">\n",
       "      <th></th>\n",
       "      <th>accuracy</th>\n",
       "      <th>TP</th>\n",
       "      <th>TN</th>\n",
       "      <th>FP</th>\n",
       "      <th>FN</th>\n",
       "      <th>FPR</th>\n",
       "      <th>FNR</th>\n",
       "    </tr>\n",
       "    <tr>\n",
       "      <th>index</th>\n",
       "      <th></th>\n",
       "      <th></th>\n",
       "      <th></th>\n",
       "      <th></th>\n",
       "      <th></th>\n",
       "      <th></th>\n",
       "      <th></th>\n",
       "    </tr>\n",
       "  </thead>\n",
       "  <tbody>\n",
       "    <tr>\n",
       "      <th>KNeighborsClassifier</th>\n",
       "      <td>0.982208</td>\n",
       "      <td>2677.0</td>\n",
       "      <td>24263.0</td>\n",
       "      <td>64.0</td>\n",
       "      <td>424.0</td>\n",
       "      <td>0.002631</td>\n",
       "      <td>0.136730</td>\n",
       "    </tr>\n",
       "    <tr>\n",
       "      <th>RandomForestClassifier</th>\n",
       "      <td>0.997667</td>\n",
       "      <td>3040.0</td>\n",
       "      <td>24324.0</td>\n",
       "      <td>3.0</td>\n",
       "      <td>61.0</td>\n",
       "      <td>0.000123</td>\n",
       "      <td>0.019671</td>\n",
       "    </tr>\n",
       "    <tr>\n",
       "      <th>AdaBoostClassifier</th>\n",
       "      <td>0.973749</td>\n",
       "      <td>2636.0</td>\n",
       "      <td>24072.0</td>\n",
       "      <td>255.0</td>\n",
       "      <td>465.0</td>\n",
       "      <td>0.010482</td>\n",
       "      <td>0.149952</td>\n",
       "    </tr>\n",
       "    <tr>\n",
       "      <th>GradientBoostingClassifier</th>\n",
       "      <td>0.979109</td>\n",
       "      <td>2652.0</td>\n",
       "      <td>24203.0</td>\n",
       "      <td>124.0</td>\n",
       "      <td>449.0</td>\n",
       "      <td>0.005097</td>\n",
       "      <td>0.144792</td>\n",
       "    </tr>\n",
       "    <tr>\n",
       "      <th>ExtraTreeClassifier</th>\n",
       "      <td>0.999964</td>\n",
       "      <td>3100.0</td>\n",
       "      <td>24327.0</td>\n",
       "      <td>0.0</td>\n",
       "      <td>1.0</td>\n",
       "      <td>0.000000</td>\n",
       "      <td>0.000322</td>\n",
       "    </tr>\n",
       "    <tr>\n",
       "      <th>BaggingClassifier</th>\n",
       "      <td>0.997521</td>\n",
       "      <td>3040.0</td>\n",
       "      <td>24320.0</td>\n",
       "      <td>7.0</td>\n",
       "      <td>61.0</td>\n",
       "      <td>0.000288</td>\n",
       "      <td>0.019671</td>\n",
       "    </tr>\n",
       "    <tr>\n",
       "      <th>Neural Network-1</th>\n",
       "      <td>0.997448</td>\n",
       "      <td>3072.0</td>\n",
       "      <td>24286.0</td>\n",
       "      <td>41.0</td>\n",
       "      <td>29.0</td>\n",
       "      <td>0.001685</td>\n",
       "      <td>0.009352</td>\n",
       "    </tr>\n",
       "  </tbody>\n",
       "</table>\n",
       "</div>"
      ],
      "text/plain": [
       "                            accuracy      TP       TN     FP     FN       FPR  \\\n",
       "index                                                                           \n",
       "KNeighborsClassifier        0.982208  2677.0  24263.0   64.0  424.0  0.002631   \n",
       "RandomForestClassifier      0.997667  3040.0  24324.0    3.0   61.0  0.000123   \n",
       "AdaBoostClassifier          0.973749  2636.0  24072.0  255.0  465.0  0.010482   \n",
       "GradientBoostingClassifier  0.979109  2652.0  24203.0  124.0  449.0  0.005097   \n",
       "ExtraTreeClassifier         0.999964  3100.0  24327.0    0.0    1.0  0.000000   \n",
       "BaggingClassifier           0.997521  3040.0  24320.0    7.0   61.0  0.000288   \n",
       "Neural Network-1            0.997448  3072.0  24286.0   41.0   29.0  0.001685   \n",
       "\n",
       "                                 FNR  \n",
       "index                                 \n",
       "KNeighborsClassifier        0.136730  \n",
       "RandomForestClassifier      0.019671  \n",
       "AdaBoostClassifier          0.149952  \n",
       "GradientBoostingClassifier  0.144792  \n",
       "ExtraTreeClassifier         0.000322  \n",
       "BaggingClassifier           0.019671  \n",
       "Neural Network-1            0.009352  "
      ]
     },
     "metadata": {},
     "output_type": "display_data"
    },
    {
     "name": "stdout",
     "output_type": "stream",
     "text": [
      "Test Results\n"
     ]
    },
    {
     "data": {
      "text/html": [
       "<div>\n",
       "<style scoped>\n",
       "    .dataframe tbody tr th:only-of-type {\n",
       "        vertical-align: middle;\n",
       "    }\n",
       "\n",
       "    .dataframe tbody tr th {\n",
       "        vertical-align: top;\n",
       "    }\n",
       "\n",
       "    .dataframe thead th {\n",
       "        text-align: right;\n",
       "    }\n",
       "</style>\n",
       "<table border=\"1\" class=\"dataframe\">\n",
       "  <thead>\n",
       "    <tr style=\"text-align: right;\">\n",
       "      <th></th>\n",
       "      <th>accuracy</th>\n",
       "      <th>TP</th>\n",
       "      <th>TN</th>\n",
       "      <th>FP</th>\n",
       "      <th>FN</th>\n",
       "      <th>FPR</th>\n",
       "      <th>FNR</th>\n",
       "      <th>auc</th>\n",
       "      <th>mcc</th>\n",
       "      <th>precision</th>\n",
       "      <th>recall</th>\n",
       "    </tr>\n",
       "    <tr>\n",
       "      <th>index</th>\n",
       "      <th></th>\n",
       "      <th></th>\n",
       "      <th></th>\n",
       "      <th></th>\n",
       "      <th></th>\n",
       "      <th></th>\n",
       "      <th></th>\n",
       "      <th></th>\n",
       "      <th></th>\n",
       "      <th></th>\n",
       "      <th></th>\n",
       "    </tr>\n",
       "  </thead>\n",
       "  <tbody>\n",
       "    <tr>\n",
       "      <th>KNeighborsClassifier</th>\n",
       "      <td>0.976010</td>\n",
       "      <td>1103.0</td>\n",
       "      <td>10370.0</td>\n",
       "      <td>45.0</td>\n",
       "      <td>237.0</td>\n",
       "      <td>0.004321</td>\n",
       "      <td>0.176866</td>\n",
       "      <td>0.909407</td>\n",
       "      <td>0.876597</td>\n",
       "      <td>0.960801</td>\n",
       "      <td>0.823134</td>\n",
       "    </tr>\n",
       "    <tr>\n",
       "      <th>RandomForestClassifier</th>\n",
       "      <td>0.977712</td>\n",
       "      <td>1126.0</td>\n",
       "      <td>10367.0</td>\n",
       "      <td>48.0</td>\n",
       "      <td>214.0</td>\n",
       "      <td>0.004609</td>\n",
       "      <td>0.159701</td>\n",
       "      <td>0.917845</td>\n",
       "      <td>0.885788</td>\n",
       "      <td>0.959114</td>\n",
       "      <td>0.840299</td>\n",
       "    </tr>\n",
       "    <tr>\n",
       "      <th>AdaBoostClassifier</th>\n",
       "      <td>0.969885</td>\n",
       "      <td>1101.0</td>\n",
       "      <td>10300.0</td>\n",
       "      <td>115.0</td>\n",
       "      <td>239.0</td>\n",
       "      <td>0.011042</td>\n",
       "      <td>0.178358</td>\n",
       "      <td>0.905300</td>\n",
       "      <td>0.845906</td>\n",
       "      <td>0.905428</td>\n",
       "      <td>0.821642</td>\n",
       "    </tr>\n",
       "    <tr>\n",
       "      <th>GradientBoostingClassifier</th>\n",
       "      <td>0.975415</td>\n",
       "      <td>1119.0</td>\n",
       "      <td>10347.0</td>\n",
       "      <td>68.0</td>\n",
       "      <td>221.0</td>\n",
       "      <td>0.006529</td>\n",
       "      <td>0.164925</td>\n",
       "      <td>0.914273</td>\n",
       "      <td>0.873930</td>\n",
       "      <td>0.942713</td>\n",
       "      <td>0.835075</td>\n",
       "    </tr>\n",
       "    <tr>\n",
       "      <th>ExtraTreeClassifier</th>\n",
       "      <td>0.977712</td>\n",
       "      <td>1117.0</td>\n",
       "      <td>10376.0</td>\n",
       "      <td>39.0</td>\n",
       "      <td>223.0</td>\n",
       "      <td>0.003745</td>\n",
       "      <td>0.166418</td>\n",
       "      <td>0.914919</td>\n",
       "      <td>0.885653</td>\n",
       "      <td>0.966263</td>\n",
       "      <td>0.833582</td>\n",
       "    </tr>\n",
       "    <tr>\n",
       "      <th>BaggingClassifier</th>\n",
       "      <td>0.977201</td>\n",
       "      <td>1136.0</td>\n",
       "      <td>10351.0</td>\n",
       "      <td>64.0</td>\n",
       "      <td>204.0</td>\n",
       "      <td>0.006145</td>\n",
       "      <td>0.152239</td>\n",
       "      <td>0.920808</td>\n",
       "      <td>0.883439</td>\n",
       "      <td>0.946667</td>\n",
       "      <td>0.847761</td>\n",
       "    </tr>\n",
       "    <tr>\n",
       "      <th>Neural Network-1</th>\n",
       "      <td>0.973373</td>\n",
       "      <td>1158.0</td>\n",
       "      <td>10284.0</td>\n",
       "      <td>131.0</td>\n",
       "      <td>182.0</td>\n",
       "      <td>0.012578</td>\n",
       "      <td>0.135821</td>\n",
       "      <td>0.920808</td>\n",
       "      <td>0.866167</td>\n",
       "      <td>0.898371</td>\n",
       "      <td>0.864179</td>\n",
       "    </tr>\n",
       "  </tbody>\n",
       "</table>\n",
       "</div>"
      ],
      "text/plain": [
       "                            accuracy      TP       TN     FP     FN       FPR  \\\n",
       "index                                                                           \n",
       "KNeighborsClassifier        0.976010  1103.0  10370.0   45.0  237.0  0.004321   \n",
       "RandomForestClassifier      0.977712  1126.0  10367.0   48.0  214.0  0.004609   \n",
       "AdaBoostClassifier          0.969885  1101.0  10300.0  115.0  239.0  0.011042   \n",
       "GradientBoostingClassifier  0.975415  1119.0  10347.0   68.0  221.0  0.006529   \n",
       "ExtraTreeClassifier         0.977712  1117.0  10376.0   39.0  223.0  0.003745   \n",
       "BaggingClassifier           0.977201  1136.0  10351.0   64.0  204.0  0.006145   \n",
       "Neural Network-1            0.973373  1158.0  10284.0  131.0  182.0  0.012578   \n",
       "\n",
       "                                 FNR       auc       mcc  precision    recall  \n",
       "index                                                                          \n",
       "KNeighborsClassifier        0.176866  0.909407  0.876597   0.960801  0.823134  \n",
       "RandomForestClassifier      0.159701  0.917845  0.885788   0.959114  0.840299  \n",
       "AdaBoostClassifier          0.178358  0.905300  0.845906   0.905428  0.821642  \n",
       "GradientBoostingClassifier  0.164925  0.914273  0.873930   0.942713  0.835075  \n",
       "ExtraTreeClassifier         0.166418  0.914919  0.885653   0.966263  0.833582  \n",
       "BaggingClassifier           0.152239  0.920808  0.883439   0.946667  0.847761  \n",
       "Neural Network-1            0.135821  0.920808  0.866167   0.898371  0.864179  "
      ]
     },
     "metadata": {},
     "output_type": "display_data"
    }
   ],
   "source": [
    "table_80_60_train['index']=ind_columns\n",
    "table_80_60_test['index']=ind_columns\n",
    "\n",
    "\n",
    "table_80_60_test.set_index(['index'],drop=True,inplace=True)\n",
    "table_80_60_train.set_index(['index'],drop=True,inplace=True)\n",
    "\n",
    "print(\"Training Results\")\n",
    "display(table_80_60_train)\n",
    "print(\"Test Results\")\n",
    "display(table_80_60_test)"
   ]
  },
  {
   "cell_type": "code",
   "execution_count": 71,
   "metadata": {
    "collapsed": true
   },
   "outputs": [],
   "source": [
    "## Table to store training and test measures so we can compare later\n",
    "table_80_60_train=pd.DataFrame(columns=['accuracy','TP','TN','FP','FN','FPR','FNR'])\n",
    "table_80_60_test=pd.DataFrame(columns=['accuracy','TP','TN','FP','FN','FPR','FNR','auc','mcc','precision','recall'])\n",
    "\n",
    "ind_columns=['KNeighborsClassifier','RandomForestClassifier','AdaBoostClassifier',\n",
    "             'GradientBoostingClassifier','ExtraTreeClassifier','BaggingClassifier','Neural Network-1']\n",
    "\n",
    "f=[KNN_model,RandomForest,AdaBoost,GradientBoosting, ExtraTree,Bagging,DeepLearning1]"
   ]
  },
  {
   "cell_type": "code",
   "execution_count": 72,
   "metadata": {},
   "outputs": [
    {
     "name": "stdout",
     "output_type": "stream",
     "text": [
      "The train/test split ratio is 80:20\n"
     ]
    },
    {
     "data": {
      "text/plain": [
       "(39183, 66)"
      ]
     },
     "execution_count": 72,
     "metadata": {},
     "output_type": "execute_result"
    }
   ],
   "source": [
    "X=df_sel[feature_selection_df[feature_selection_df.Total>=3]['Feature']]\n",
    "X.fillna(value=0,inplace=True)\n",
    "y=df_sel.Target.values\n",
    "feature_name = X.columns.tolist()\n",
    "\n",
    "scaler=StandardScaler()\n",
    "scaled_X=scaler.fit_transform(X)\n",
    "\n",
    "print(\"The train/test split ratio is 80:20\")\n",
    "X_train, X_test, Y_train, Y_test = train_test_split(scaled_X,y,random_state=0,test_size=0.2)\n",
    "\n",
    "X.shape"
   ]
  },
  {
   "cell_type": "markdown",
   "metadata": {},
   "source": [
    "### With features selected by three methods"
   ]
  },
  {
   "cell_type": "code",
   "execution_count": 73,
   "metadata": {},
   "outputs": [
    {
     "data": {
      "text/plain": [
       "['url_words_with_length_7',\n",
       " 'url_words_with_length_5',\n",
       " 'url_words_with_length_4',\n",
       " 'url_word_count_cool',\n",
       " 'url_tlds',\n",
       " 'url_tld_XYZ',\n",
       " 'url_tld_BIKE',\n",
       " 'url_tld_BI',\n",
       " 'url_length',\n",
       " 'url_extensions',\n",
       " 'url_extension_endswith_.xyz',\n",
       " 'url_extension_endswith_.com',\n",
       " 'url_extension_.xyz',\n",
       " 'url_extension_.w',\n",
       " 'url_extension_.bik',\n",
       " 'url_extension_.b',\n",
       " 'url_contains_www',\n",
       " 'url_char_z',\n",
       " 'url_char_y',\n",
       " 'url_char_x',\n",
       " 'url_char_w',\n",
       " 'url_char_u',\n",
       " 'url_char_t',\n",
       " 'url_char_s',\n",
       " 'url_char_p',\n",
       " 'url_char_l',\n",
       " 'url_char_i',\n",
       " 'url_char_e',\n",
       " 'url_char_b',\n",
       " 'url_char_.',\n",
       " 'script_src_out_of_domain',\n",
       " 'script_src_.js',\n",
       " 'script_count',\n",
       " 'link_rel_stylesheet',\n",
       " 'http_header_transfer-encoding_chunked',\n",
       " 'http_header_server_centos',\n",
       " 'http_header_marco_contenttext',\n",
       " 'http_header_content-encoding_gzip',\n",
       " 'url_words_with_length_6',\n",
       " 'url_extension_.h',\n",
       " 'url_extension_.com',\n",
       " 'url_char_n',\n",
       " 'url_char_f',\n",
       " 'url_char_a',\n",
       " 'url_char_6',\n",
       " 'url_char_-',\n",
       " 'script_type_text/javascript',\n",
       " 'script_src_relative',\n",
       " 'script_src_https',\n",
       " 'script_src_absolute',\n",
       " 'script_async_true',\n",
       " 'meta_http-equiv_X-UA-Compatible',\n",
       " 'meta_charset_utf-8',\n",
       " 'link_rel_shortcut icon',\n",
       " 'link_rel_canonical',\n",
       " 'link_href_out_of_domain',\n",
       " 'link_href_.ico',\n",
       " 'img_count',\n",
       " 'http_header_vary_accept',\n",
       " 'http_header_server_nginx',\n",
       " 'http_header_server_apache',\n",
       " 'http_header_connection_keep-alive',\n",
       " 'http_header_cache-control_set_no-cache',\n",
       " 'http_header_cache-control_set_must-revalidate',\n",
       " 'http_header_cache-control_set_max-age',\n",
       " 'div_count']"
      ]
     },
     "execution_count": 73,
     "metadata": {},
     "output_type": "execute_result"
    }
   ],
   "source": [
    "feature_name"
   ]
  },
  {
   "cell_type": "code",
   "execution_count": 74,
   "metadata": {
    "scrolled": false
   },
   "outputs": [
    {
     "name": "stdout",
     "output_type": "stream",
     "text": [
      "\u001b[1mK-Nearest Neighbors\u001b[0m\n",
      "Accuracy of the model for training data is: 0.984213212775\n",
      "Confusion Matrix for training data is:\n"
     ]
    },
    {
     "data": {
      "text/plain": [
       "Predicted  False  True  __all__\n",
       "Actual                         \n",
       "False      24249    78    24327\n",
       "True         355  2746     3101\n",
       "__all__    24604  2824    27428"
      ]
     },
     "metadata": {},
     "output_type": "display_data"
    },
    {
     "name": "stdout",
     "output_type": "stream",
     "text": [
      "Accuracy of the model for test data is: 0.977371331348\n",
      "Confusion Matrix for test data is:\n"
     ]
    },
    {
     "data": {
      "text/plain": [
       "Predicted  False  True  __all__\n",
       "Actual                         \n",
       "False      10365    50    10415\n",
       "True         216  1124     1340\n",
       "__all__    10581  1174    11755"
      ]
     },
     "metadata": {},
     "output_type": "display_data"
    },
    {
     "name": "stdout",
     "output_type": "stream",
     "text": [
      "\n",
      "\n",
      "\u001b[1mRandomForest Classifier\u001b[0m\n",
      "Accuracy of the model for training data is: 0.997994749891\n",
      "Confusion Matrix for training data is:\n"
     ]
    },
    {
     "data": {
      "text/plain": [
       "Predicted  False  True  __all__\n",
       "Actual                         \n",
       "False      24327     0    24327\n",
       "True          55  3046     3101\n",
       "__all__    24382  3046    27428"
      ]
     },
     "metadata": {},
     "output_type": "display_data"
    },
    {
     "name": "stdout",
     "output_type": "stream",
     "text": [
      "Accuracy of the model for test data is: 0.978477243726\n",
      "Confusion Matrix for test data is:\n"
     ]
    },
    {
     "data": {
      "text/plain": [
       "Predicted  False  True  __all__\n",
       "Actual                         \n",
       "False      10366    49    10415\n",
       "True         204  1136     1340\n",
       "__all__    10570  1185    11755"
      ]
     },
     "metadata": {},
     "output_type": "display_data"
    },
    {
     "data": {
      "application/vnd.plotly.v1+json": {
       "config": {
        "linkText": "Export to plot.ly",
        "plotlyServerURL": "https://plot.ly",
        "showLink": true
       },
       "data": [
        {
         "marker": {
          "color": "rgb(158,202,225)",
          "line": {
           "color": "rgb(8,48,107)",
           "width": 1.5
          }
         },
         "opacity": 0.6,
         "orientation": "h",
         "text": [
          0.1053,
          0.101,
          0.0665,
          0.0608,
          0.0426,
          0.0396,
          0.0372,
          0.0354,
          0.035,
          0.031,
          0.0284,
          0.0273,
          0.0272,
          0.026,
          0.0246,
          0.0164,
          0.0159,
          0.0144,
          0.0132,
          0.0131,
          0.0111,
          0.0099,
          0.0097,
          0.0092,
          0.0089,
          0.0088,
          0.0087,
          0.0084,
          0.0084,
          0.0083,
          0.0082,
          0.008,
          0.0075,
          0.0074,
          0.0074,
          0.0072,
          0.0071,
          0.0066,
          0.0065,
          0.0059,
          0.0056,
          0.0053,
          0.0047,
          0.0044,
          0.0044,
          0.0042,
          0.0042,
          0.0041,
          0.0041,
          0.0039,
          0.0036,
          0.0035,
          0.0033,
          0.003,
          0.003,
          0.002,
          0.0019,
          0.0017,
          0.0017,
          0.0016,
          0.0014,
          0.0012,
          0.0011,
          0.0011,
          0.0009,
          0.0001
         ],
         "textposition": "outside",
         "type": "bar",
         "uid": "5f42aa12-88b0-4454-b6b5-9179faed2b2b",
         "x": [
          0.10528629268265992,
          0.1009561435499949,
          0.0664727440493886,
          0.060785817371425965,
          0.04256924607224101,
          0.03961868571786005,
          0.037199950890003955,
          0.03537985550932823,
          0.0350245967116033,
          0.030991034382128736,
          0.028355547477442695,
          0.027305442728439166,
          0.02724812026070832,
          0.025991867101767124,
          0.024621574570022467,
          0.01636663072911468,
          0.015864842044127705,
          0.014421088091790926,
          0.013188147534058814,
          0.013067793410357898,
          0.011124842025537658,
          0.00987947180116328,
          0.009743068358192775,
          0.009211582499075808,
          0.008865946899716587,
          0.008787984787610503,
          0.008666195841881545,
          0.008445822768644393,
          0.008383625952952112,
          0.008319137024508755,
          0.008177476538335162,
          0.00803599190984613,
          0.007455306219272853,
          0.007401236308734453,
          0.00739871379271894,
          0.007182850188539899,
          0.007098966183136668,
          0.0066192477430921815,
          0.006547190469497179,
          0.005883389055798399,
          0.005596877115144611,
          0.005319343129843486,
          0.004717119940770597,
          0.0044062656280077685,
          0.004382305806318666,
          0.004245366130738453,
          0.0042312506636829105,
          0.004099479011210114,
          0.0040579000821265995,
          0.003871892746939206,
          0.0035814575909897057,
          0.003506755309417657,
          0.003260034145658776,
          0.0030383611631146813,
          0.003008547351299527,
          0.0020472623146405465,
          0.0019424721978341247,
          0.001733323264962083,
          0.0016951325358835958,
          0.0015568396745439753,
          0.0013768441568028367,
          0.0011534295981758817,
          0.0011298879814484735,
          0.0010920337586758147,
          0.0008641740454203588,
          0.0001421774036297881
         ],
         "y": [
          "script_src_absolute",
          "url_length",
          "script_src_relative",
          "url_extensions",
          "url_char_w",
          "div_count",
          "url_tlds",
          "script_count",
          "url_char_.",
          "url_contains_www",
          "script_type_text/javascript",
          "url_tld_BI",
          "url_tld_XYZ",
          "script_src_out_of_domain",
          "http_header_content-encoding_gzip",
          "url_extension_endswith_.com",
          "url_char_z",
          "url_words_with_length_4",
          "url_words_with_length_7",
          "url_extension_.b",
          "script_src_https",
          "url_char_i",
          "url_char_e",
          "http_header_marco_contenttext",
          "url_char_t",
          "url_char_l",
          "url_char_a",
          "url_word_count_cool",
          "url_char_b",
          "url_char_n",
          "url_char_s",
          "link_href_out_of_domain",
          "url_extension_.com",
          "url_char_p",
          "http_header_server_apache",
          "url_words_with_length_5",
          "url_words_with_length_6",
          "url_char_u",
          "url_extension_.w",
          "url_char_y",
          "img_count",
          "url_extension_endswith_.xyz",
          "http_header_server_centos",
          "http_header_transfer-encoding_chunked",
          "url_char_f",
          "url_char_6",
          "script_async_true",
          "url_extension_.xyz",
          "url_char_-",
          "http_header_connection_keep-alive",
          "http_header_vary_accept",
          "script_src_.js",
          "link_rel_stylesheet",
          "url_extension_.bik",
          "http_header_server_nginx",
          "url_char_x",
          "url_extension_.h",
          "http_header_cache-control_set_max-age",
          "http_header_cache-control_set_no-cache",
          "link_rel_shortcut icon",
          "http_header_cache-control_set_must-revalidate",
          "meta_http-equiv_X-UA-Compatible",
          "link_href_.ico",
          "url_tld_BIKE",
          "meta_charset_utf-8",
          "link_rel_canonical"
         ]
        }
       ],
       "layout": {
        "autosize": false,
        "height": 1000,
        "width": 1000,
        "xaxis": {
         "tickfont": {
          "color": "black",
          "size": 12
         },
         "title": "Feature Importances"
        },
        "yaxis": {
         "automargin": true
        }
       }
      },
      "text/html": [
       "<div id=\"c99d1550-7ff8-4464-ac4a-821d8253ca3a\" style=\"height: 1000px; width: 1000px;\" class=\"plotly-graph-div\"></div><script type=\"text/javascript\">require([\"plotly\"], function(Plotly) { window.PLOTLYENV=window.PLOTLYENV || {};window.PLOTLYENV.BASE_URL=\"https://plot.ly\";Plotly.newPlot(\"c99d1550-7ff8-4464-ac4a-821d8253ca3a\", [{\"marker\": {\"color\": \"rgb(158,202,225)\", \"line\": {\"color\": \"rgb(8,48,107)\", \"width\": 1.5}}, \"opacity\": 0.6, \"orientation\": \"h\", \"text\": [0.1053, 0.101, 0.0665, 0.0608, 0.0426, 0.0396, 0.0372, 0.0354, 0.035, 0.031, 0.0284, 0.0273, 0.0272, 0.026, 0.0246, 0.0164, 0.0159, 0.0144, 0.0132, 0.0131, 0.0111, 0.0099, 0.0097, 0.0092, 0.0089, 0.0088, 0.0087, 0.0084, 0.0084, 0.0083, 0.0082, 0.008, 0.0075, 0.0074, 0.0074, 0.0072, 0.0071, 0.0066, 0.0065, 0.0059, 0.0056, 0.0053, 0.0047, 0.0044, 0.0044, 0.0042, 0.0042, 0.0041, 0.0041, 0.0039, 0.0036, 0.0035, 0.0033, 0.003, 0.003, 0.002, 0.0019, 0.0017, 0.0017, 0.0016, 0.0014, 0.0012, 0.0011, 0.0011, 0.0009, 0.0001], \"textposition\": \"outside\", \"x\": [0.10528629268265992, 0.1009561435499949, 0.0664727440493886, 0.060785817371425965, 0.04256924607224101, 0.03961868571786005, 0.037199950890003955, 0.03537985550932823, 0.0350245967116033, 0.030991034382128736, 0.028355547477442695, 0.027305442728439166, 0.02724812026070832, 0.025991867101767124, 0.024621574570022467, 0.01636663072911468, 0.015864842044127705, 0.014421088091790926, 0.013188147534058814, 0.013067793410357898, 0.011124842025537658, 0.00987947180116328, 0.009743068358192775, 0.009211582499075808, 0.008865946899716587, 0.008787984787610503, 0.008666195841881545, 0.008445822768644393, 0.008383625952952112, 0.008319137024508755, 0.008177476538335162, 0.00803599190984613, 0.007455306219272853, 0.007401236308734453, 0.00739871379271894, 0.007182850188539899, 0.007098966183136668, 0.0066192477430921815, 0.006547190469497179, 0.005883389055798399, 0.005596877115144611, 0.005319343129843486, 0.004717119940770597, 0.0044062656280077685, 0.004382305806318666, 0.004245366130738453, 0.0042312506636829105, 0.004099479011210114, 0.0040579000821265995, 0.003871892746939206, 0.0035814575909897057, 0.003506755309417657, 0.003260034145658776, 0.0030383611631146813, 0.003008547351299527, 0.0020472623146405465, 0.0019424721978341247, 0.001733323264962083, 0.0016951325358835958, 0.0015568396745439753, 0.0013768441568028367, 0.0011534295981758817, 0.0011298879814484735, 0.0010920337586758147, 0.0008641740454203588, 0.0001421774036297881], \"y\": [\"script_src_absolute\", \"url_length\", \"script_src_relative\", \"url_extensions\", \"url_char_w\", \"div_count\", \"url_tlds\", \"script_count\", \"url_char_.\", \"url_contains_www\", \"script_type_text/javascript\", \"url_tld_BI\", \"url_tld_XYZ\", \"script_src_out_of_domain\", \"http_header_content-encoding_gzip\", \"url_extension_endswith_.com\", \"url_char_z\", \"url_words_with_length_4\", \"url_words_with_length_7\", \"url_extension_.b\", \"script_src_https\", \"url_char_i\", \"url_char_e\", \"http_header_marco_contenttext\", \"url_char_t\", \"url_char_l\", \"url_char_a\", \"url_word_count_cool\", \"url_char_b\", \"url_char_n\", \"url_char_s\", \"link_href_out_of_domain\", \"url_extension_.com\", \"url_char_p\", \"http_header_server_apache\", \"url_words_with_length_5\", \"url_words_with_length_6\", \"url_char_u\", \"url_extension_.w\", \"url_char_y\", \"img_count\", \"url_extension_endswith_.xyz\", \"http_header_server_centos\", \"http_header_transfer-encoding_chunked\", \"url_char_f\", \"url_char_6\", \"script_async_true\", \"url_extension_.xyz\", \"url_char_-\", \"http_header_connection_keep-alive\", \"http_header_vary_accept\", \"script_src_.js\", \"link_rel_stylesheet\", \"url_extension_.bik\", \"http_header_server_nginx\", \"url_char_x\", \"url_extension_.h\", \"http_header_cache-control_set_max-age\", \"http_header_cache-control_set_no-cache\", \"link_rel_shortcut icon\", \"http_header_cache-control_set_must-revalidate\", \"meta_http-equiv_X-UA-Compatible\", \"link_href_.ico\", \"url_tld_BIKE\", \"meta_charset_utf-8\", \"link_rel_canonical\"], \"type\": \"bar\", \"uid\": \"5f42aa12-88b0-4454-b6b5-9179faed2b2b\"}], {\"autosize\": false, \"height\": 1000, \"width\": 1000, \"xaxis\": {\"tickfont\": {\"color\": \"black\", \"size\": 12}, \"title\": \"Feature Importances\"}, \"yaxis\": {\"automargin\": true}}, {\"showLink\": true, \"linkText\": \"Export to plot.ly\", \"plotlyServerURL\": \"https://plot.ly\"})});</script>"
      ],
      "text/vnd.plotly.v1+html": [
       "<div id=\"c99d1550-7ff8-4464-ac4a-821d8253ca3a\" style=\"height: 1000px; width: 1000px;\" class=\"plotly-graph-div\"></div><script type=\"text/javascript\">require([\"plotly\"], function(Plotly) { window.PLOTLYENV=window.PLOTLYENV || {};window.PLOTLYENV.BASE_URL=\"https://plot.ly\";Plotly.newPlot(\"c99d1550-7ff8-4464-ac4a-821d8253ca3a\", [{\"marker\": {\"color\": \"rgb(158,202,225)\", \"line\": {\"color\": \"rgb(8,48,107)\", \"width\": 1.5}}, \"opacity\": 0.6, \"orientation\": \"h\", \"text\": [0.1053, 0.101, 0.0665, 0.0608, 0.0426, 0.0396, 0.0372, 0.0354, 0.035, 0.031, 0.0284, 0.0273, 0.0272, 0.026, 0.0246, 0.0164, 0.0159, 0.0144, 0.0132, 0.0131, 0.0111, 0.0099, 0.0097, 0.0092, 0.0089, 0.0088, 0.0087, 0.0084, 0.0084, 0.0083, 0.0082, 0.008, 0.0075, 0.0074, 0.0074, 0.0072, 0.0071, 0.0066, 0.0065, 0.0059, 0.0056, 0.0053, 0.0047, 0.0044, 0.0044, 0.0042, 0.0042, 0.0041, 0.0041, 0.0039, 0.0036, 0.0035, 0.0033, 0.003, 0.003, 0.002, 0.0019, 0.0017, 0.0017, 0.0016, 0.0014, 0.0012, 0.0011, 0.0011, 0.0009, 0.0001], \"textposition\": \"outside\", \"x\": [0.10528629268265992, 0.1009561435499949, 0.0664727440493886, 0.060785817371425965, 0.04256924607224101, 0.03961868571786005, 0.037199950890003955, 0.03537985550932823, 0.0350245967116033, 0.030991034382128736, 0.028355547477442695, 0.027305442728439166, 0.02724812026070832, 0.025991867101767124, 0.024621574570022467, 0.01636663072911468, 0.015864842044127705, 0.014421088091790926, 0.013188147534058814, 0.013067793410357898, 0.011124842025537658, 0.00987947180116328, 0.009743068358192775, 0.009211582499075808, 0.008865946899716587, 0.008787984787610503, 0.008666195841881545, 0.008445822768644393, 0.008383625952952112, 0.008319137024508755, 0.008177476538335162, 0.00803599190984613, 0.007455306219272853, 0.007401236308734453, 0.00739871379271894, 0.007182850188539899, 0.007098966183136668, 0.0066192477430921815, 0.006547190469497179, 0.005883389055798399, 0.005596877115144611, 0.005319343129843486, 0.004717119940770597, 0.0044062656280077685, 0.004382305806318666, 0.004245366130738453, 0.0042312506636829105, 0.004099479011210114, 0.0040579000821265995, 0.003871892746939206, 0.0035814575909897057, 0.003506755309417657, 0.003260034145658776, 0.0030383611631146813, 0.003008547351299527, 0.0020472623146405465, 0.0019424721978341247, 0.001733323264962083, 0.0016951325358835958, 0.0015568396745439753, 0.0013768441568028367, 0.0011534295981758817, 0.0011298879814484735, 0.0010920337586758147, 0.0008641740454203588, 0.0001421774036297881], \"y\": [\"script_src_absolute\", \"url_length\", \"script_src_relative\", \"url_extensions\", \"url_char_w\", \"div_count\", \"url_tlds\", \"script_count\", \"url_char_.\", \"url_contains_www\", \"script_type_text/javascript\", \"url_tld_BI\", \"url_tld_XYZ\", \"script_src_out_of_domain\", \"http_header_content-encoding_gzip\", \"url_extension_endswith_.com\", \"url_char_z\", \"url_words_with_length_4\", \"url_words_with_length_7\", \"url_extension_.b\", \"script_src_https\", \"url_char_i\", \"url_char_e\", \"http_header_marco_contenttext\", \"url_char_t\", \"url_char_l\", \"url_char_a\", \"url_word_count_cool\", \"url_char_b\", \"url_char_n\", \"url_char_s\", \"link_href_out_of_domain\", \"url_extension_.com\", \"url_char_p\", \"http_header_server_apache\", \"url_words_with_length_5\", \"url_words_with_length_6\", \"url_char_u\", \"url_extension_.w\", \"url_char_y\", \"img_count\", \"url_extension_endswith_.xyz\", \"http_header_server_centos\", \"http_header_transfer-encoding_chunked\", \"url_char_f\", \"url_char_6\", \"script_async_true\", \"url_extension_.xyz\", \"url_char_-\", \"http_header_connection_keep-alive\", \"http_header_vary_accept\", \"script_src_.js\", \"link_rel_stylesheet\", \"url_extension_.bik\", \"http_header_server_nginx\", \"url_char_x\", \"url_extension_.h\", \"http_header_cache-control_set_max-age\", \"http_header_cache-control_set_no-cache\", \"link_rel_shortcut icon\", \"http_header_cache-control_set_must-revalidate\", \"meta_http-equiv_X-UA-Compatible\", \"link_href_.ico\", \"url_tld_BIKE\", \"meta_charset_utf-8\", \"link_rel_canonical\"], \"type\": \"bar\", \"uid\": \"5f42aa12-88b0-4454-b6b5-9179faed2b2b\"}], {\"autosize\": false, \"height\": 1000, \"width\": 1000, \"xaxis\": {\"tickfont\": {\"color\": \"black\", \"size\": 12}, \"title\": \"Feature Importances\"}, \"yaxis\": {\"automargin\": true}}, {\"showLink\": true, \"linkText\": \"Export to plot.ly\", \"plotlyServerURL\": \"https://plot.ly\"})});</script>"
      ]
     },
     "metadata": {},
     "output_type": "display_data"
    },
    {
     "name": "stdout",
     "output_type": "stream",
     "text": [
      "\n",
      "\n",
      "\u001b[1mAdaoost Classifier\u001b[0m\n",
      "Accuracy of the model for training data is: 0.975390112294\n",
      "Confusion Matrix for training data is:\n"
     ]
    },
    {
     "data": {
      "text/plain": [
       "Predicted  False  True  __all__\n",
       "Actual                         \n",
       "False      24093   234    24327\n",
       "True         441  2660     3101\n",
       "__all__    24534  2894    27428"
      ]
     },
     "metadata": {},
     "output_type": "display_data"
    },
    {
     "name": "stdout",
     "output_type": "stream",
     "text": [
      "Accuracy of the model for test data is: 0.972352190557\n",
      "Confusion Matrix for test data is:\n"
     ]
    },
    {
     "data": {
      "text/plain": [
       "Predicted  False  True  __all__\n",
       "Actual                         \n",
       "False      10299   116    10415\n",
       "True         209  1131     1340\n",
       "__all__    10508  1247    11755"
      ]
     },
     "metadata": {},
     "output_type": "display_data"
    },
    {
     "data": {
      "application/vnd.plotly.v1+json": {
       "config": {
        "linkText": "Export to plot.ly",
        "plotlyServerURL": "https://plot.ly",
        "showLink": true
       },
       "data": [
        {
         "marker": {
          "color": "rgb(158,202,225)",
          "line": {
           "color": "rgb(8,48,107)",
           "width": 1.5
          }
         },
         "opacity": 0.6,
         "orientation": "h",
         "text": [
          0.14,
          0.08,
          0.06,
          0.06,
          0.04,
          0.04,
          0.04,
          0.04,
          0.04,
          0.02,
          0.02,
          0.02,
          0.02,
          0.02,
          0.02,
          0.02,
          0.02,
          0.02,
          0.02,
          0.02,
          0.02,
          0.02,
          0.02,
          0.02,
          0.02,
          0.02,
          0.02,
          0.02,
          0.02,
          0.02,
          0.02,
          0.02,
          0,
          0,
          0,
          0,
          0,
          0,
          0,
          0,
          0,
          0,
          0,
          0,
          0,
          0,
          0,
          0,
          0,
          0,
          0,
          0,
          0,
          0,
          0,
          0,
          0,
          0,
          0,
          0,
          0,
          0,
          0,
          0,
          0,
          0
         ],
         "textposition": "outside",
         "type": "bar",
         "uid": "34e66c42-f208-4cf9-9b15-d11752d1e8cf",
         "x": [
          0.14,
          0.08,
          0.06,
          0.06,
          0.04,
          0.04,
          0.04,
          0.04,
          0.04,
          0.02,
          0.02,
          0.02,
          0.02,
          0.02,
          0.02,
          0.02,
          0.02,
          0.02,
          0.02,
          0.02,
          0.02,
          0.02,
          0.02,
          0.02,
          0.02,
          0.02,
          0.02,
          0.02,
          0.02,
          0.02,
          0.02,
          0.02,
          0,
          0,
          0,
          0,
          0,
          0,
          0,
          0,
          0,
          0,
          0,
          0,
          0,
          0,
          0,
          0,
          0,
          0,
          0,
          0,
          0,
          0,
          0,
          0,
          0,
          0,
          0,
          0,
          0,
          0,
          0,
          0,
          0,
          0
         ],
         "y": [
          "div_count",
          "url_extensions",
          "script_src_https",
          "link_rel_stylesheet",
          "script_src_.js",
          "url_length",
          "link_href_out_of_domain",
          "script_src_out_of_domain",
          "img_count",
          "url_char_s",
          "url_char_p",
          "url_char_i",
          "link_rel_shortcut icon",
          "script_async_true",
          "meta_http-equiv_X-UA-Compatible",
          "http_header_marco_contenttext",
          "http_header_content-encoding_gzip",
          "url_words_with_length_4",
          "script_src_relative",
          "script_type_text/javascript",
          "url_char_6",
          "url_char_f",
          "url_char_u",
          "http_header_cache-control_set_max-age",
          "url_char_y",
          "url_tld_BI",
          "url_word_count_cool",
          "url_contains_www",
          "http_header_server_apache",
          "url_char_w",
          "url_extension_.w",
          "url_extension_.xyz",
          "http_header_cache-control_set_no-cache",
          "url_char_-",
          "http_header_cache-control_set_must-revalidate",
          "meta_charset_utf-8",
          "script_src_absolute",
          "http_header_connection_keep-alive",
          "link_rel_canonical",
          "http_header_server_nginx",
          "link_href_.ico",
          "http_header_vary_accept",
          "url_tlds",
          "http_header_server_centos",
          "url_char_a",
          "url_char_n",
          "url_tld_BIKE",
          "url_extension_endswith_.xyz",
          "url_extension_endswith_.com",
          "url_extension_.bik",
          "url_extension_.b",
          "url_char_z",
          "url_char_x",
          "url_char_t",
          "url_char_l",
          "url_char_e",
          "url_char_b",
          "url_char_.",
          "script_count",
          "url_words_with_length_5",
          "http_header_transfer-encoding_chunked",
          "url_tld_XYZ",
          "url_words_with_length_6",
          "url_extension_.h",
          "url_extension_.com",
          "url_words_with_length_7"
         ]
        }
       ],
       "layout": {
        "autosize": false,
        "height": 1000,
        "width": 1000,
        "xaxis": {
         "tickfont": {
          "color": "black",
          "size": 12
         },
         "title": "Feature Importances"
        },
        "yaxis": {
         "automargin": true
        }
       }
      },
      "text/html": [
       "<div id=\"befd7f0a-4489-4d88-8378-add59ba31a7f\" style=\"height: 1000px; width: 1000px;\" class=\"plotly-graph-div\"></div><script type=\"text/javascript\">require([\"plotly\"], function(Plotly) { window.PLOTLYENV=window.PLOTLYENV || {};window.PLOTLYENV.BASE_URL=\"https://plot.ly\";Plotly.newPlot(\"befd7f0a-4489-4d88-8378-add59ba31a7f\", [{\"marker\": {\"color\": \"rgb(158,202,225)\", \"line\": {\"color\": \"rgb(8,48,107)\", \"width\": 1.5}}, \"opacity\": 0.6, \"orientation\": \"h\", \"text\": [0.14, 0.08, 0.06, 0.06, 0.04, 0.04, 0.04, 0.04, 0.04, 0.02, 0.02, 0.02, 0.02, 0.02, 0.02, 0.02, 0.02, 0.02, 0.02, 0.02, 0.02, 0.02, 0.02, 0.02, 0.02, 0.02, 0.02, 0.02, 0.02, 0.02, 0.02, 0.02, 0.0, 0.0, 0.0, 0.0, 0.0, 0.0, 0.0, 0.0, 0.0, 0.0, 0.0, 0.0, 0.0, 0.0, 0.0, 0.0, 0.0, 0.0, 0.0, 0.0, 0.0, 0.0, 0.0, 0.0, 0.0, 0.0, 0.0, 0.0, 0.0, 0.0, 0.0, 0.0, 0.0, 0.0], \"textposition\": \"outside\", \"x\": [0.14, 0.08, 0.06, 0.06, 0.04, 0.04, 0.04, 0.04, 0.04, 0.02, 0.02, 0.02, 0.02, 0.02, 0.02, 0.02, 0.02, 0.02, 0.02, 0.02, 0.02, 0.02, 0.02, 0.02, 0.02, 0.02, 0.02, 0.02, 0.02, 0.02, 0.02, 0.02, 0.0, 0.0, 0.0, 0.0, 0.0, 0.0, 0.0, 0.0, 0.0, 0.0, 0.0, 0.0, 0.0, 0.0, 0.0, 0.0, 0.0, 0.0, 0.0, 0.0, 0.0, 0.0, 0.0, 0.0, 0.0, 0.0, 0.0, 0.0, 0.0, 0.0, 0.0, 0.0, 0.0, 0.0], \"y\": [\"div_count\", \"url_extensions\", \"script_src_https\", \"link_rel_stylesheet\", \"script_src_.js\", \"url_length\", \"link_href_out_of_domain\", \"script_src_out_of_domain\", \"img_count\", \"url_char_s\", \"url_char_p\", \"url_char_i\", \"link_rel_shortcut icon\", \"script_async_true\", \"meta_http-equiv_X-UA-Compatible\", \"http_header_marco_contenttext\", \"http_header_content-encoding_gzip\", \"url_words_with_length_4\", \"script_src_relative\", \"script_type_text/javascript\", \"url_char_6\", \"url_char_f\", \"url_char_u\", \"http_header_cache-control_set_max-age\", \"url_char_y\", \"url_tld_BI\", \"url_word_count_cool\", \"url_contains_www\", \"http_header_server_apache\", \"url_char_w\", \"url_extension_.w\", \"url_extension_.xyz\", \"http_header_cache-control_set_no-cache\", \"url_char_-\", \"http_header_cache-control_set_must-revalidate\", \"meta_charset_utf-8\", \"script_src_absolute\", \"http_header_connection_keep-alive\", \"link_rel_canonical\", \"http_header_server_nginx\", \"link_href_.ico\", \"http_header_vary_accept\", \"url_tlds\", \"http_header_server_centos\", \"url_char_a\", \"url_char_n\", \"url_tld_BIKE\", \"url_extension_endswith_.xyz\", \"url_extension_endswith_.com\", \"url_extension_.bik\", \"url_extension_.b\", \"url_char_z\", \"url_char_x\", \"url_char_t\", \"url_char_l\", \"url_char_e\", \"url_char_b\", \"url_char_.\", \"script_count\", \"url_words_with_length_5\", \"http_header_transfer-encoding_chunked\", \"url_tld_XYZ\", \"url_words_with_length_6\", \"url_extension_.h\", \"url_extension_.com\", \"url_words_with_length_7\"], \"type\": \"bar\", \"uid\": \"34e66c42-f208-4cf9-9b15-d11752d1e8cf\"}], {\"autosize\": false, \"height\": 1000, \"width\": 1000, \"xaxis\": {\"tickfont\": {\"color\": \"black\", \"size\": 12}, \"title\": \"Feature Importances\"}, \"yaxis\": {\"automargin\": true}}, {\"showLink\": true, \"linkText\": \"Export to plot.ly\", \"plotlyServerURL\": \"https://plot.ly\"})});</script>"
      ],
      "text/vnd.plotly.v1+html": [
       "<div id=\"befd7f0a-4489-4d88-8378-add59ba31a7f\" style=\"height: 1000px; width: 1000px;\" class=\"plotly-graph-div\"></div><script type=\"text/javascript\">require([\"plotly\"], function(Plotly) { window.PLOTLYENV=window.PLOTLYENV || {};window.PLOTLYENV.BASE_URL=\"https://plot.ly\";Plotly.newPlot(\"befd7f0a-4489-4d88-8378-add59ba31a7f\", [{\"marker\": {\"color\": \"rgb(158,202,225)\", \"line\": {\"color\": \"rgb(8,48,107)\", \"width\": 1.5}}, \"opacity\": 0.6, \"orientation\": \"h\", \"text\": [0.14, 0.08, 0.06, 0.06, 0.04, 0.04, 0.04, 0.04, 0.04, 0.02, 0.02, 0.02, 0.02, 0.02, 0.02, 0.02, 0.02, 0.02, 0.02, 0.02, 0.02, 0.02, 0.02, 0.02, 0.02, 0.02, 0.02, 0.02, 0.02, 0.02, 0.02, 0.02, 0.0, 0.0, 0.0, 0.0, 0.0, 0.0, 0.0, 0.0, 0.0, 0.0, 0.0, 0.0, 0.0, 0.0, 0.0, 0.0, 0.0, 0.0, 0.0, 0.0, 0.0, 0.0, 0.0, 0.0, 0.0, 0.0, 0.0, 0.0, 0.0, 0.0, 0.0, 0.0, 0.0, 0.0], \"textposition\": \"outside\", \"x\": [0.14, 0.08, 0.06, 0.06, 0.04, 0.04, 0.04, 0.04, 0.04, 0.02, 0.02, 0.02, 0.02, 0.02, 0.02, 0.02, 0.02, 0.02, 0.02, 0.02, 0.02, 0.02, 0.02, 0.02, 0.02, 0.02, 0.02, 0.02, 0.02, 0.02, 0.02, 0.02, 0.0, 0.0, 0.0, 0.0, 0.0, 0.0, 0.0, 0.0, 0.0, 0.0, 0.0, 0.0, 0.0, 0.0, 0.0, 0.0, 0.0, 0.0, 0.0, 0.0, 0.0, 0.0, 0.0, 0.0, 0.0, 0.0, 0.0, 0.0, 0.0, 0.0, 0.0, 0.0, 0.0, 0.0], \"y\": [\"div_count\", \"url_extensions\", \"script_src_https\", \"link_rel_stylesheet\", \"script_src_.js\", \"url_length\", \"link_href_out_of_domain\", \"script_src_out_of_domain\", \"img_count\", \"url_char_s\", \"url_char_p\", \"url_char_i\", \"link_rel_shortcut icon\", \"script_async_true\", \"meta_http-equiv_X-UA-Compatible\", \"http_header_marco_contenttext\", \"http_header_content-encoding_gzip\", \"url_words_with_length_4\", \"script_src_relative\", \"script_type_text/javascript\", \"url_char_6\", \"url_char_f\", \"url_char_u\", \"http_header_cache-control_set_max-age\", \"url_char_y\", \"url_tld_BI\", \"url_word_count_cool\", \"url_contains_www\", \"http_header_server_apache\", \"url_char_w\", \"url_extension_.w\", \"url_extension_.xyz\", \"http_header_cache-control_set_no-cache\", \"url_char_-\", \"http_header_cache-control_set_must-revalidate\", \"meta_charset_utf-8\", \"script_src_absolute\", \"http_header_connection_keep-alive\", \"link_rel_canonical\", \"http_header_server_nginx\", \"link_href_.ico\", \"http_header_vary_accept\", \"url_tlds\", \"http_header_server_centos\", \"url_char_a\", \"url_char_n\", \"url_tld_BIKE\", \"url_extension_endswith_.xyz\", \"url_extension_endswith_.com\", \"url_extension_.bik\", \"url_extension_.b\", \"url_char_z\", \"url_char_x\", \"url_char_t\", \"url_char_l\", \"url_char_e\", \"url_char_b\", \"url_char_.\", \"script_count\", \"url_words_with_length_5\", \"http_header_transfer-encoding_chunked\", \"url_tld_XYZ\", \"url_words_with_length_6\", \"url_extension_.h\", \"url_extension_.com\", \"url_words_with_length_7\"], \"type\": \"bar\", \"uid\": \"34e66c42-f208-4cf9-9b15-d11752d1e8cf\"}], {\"autosize\": false, \"height\": 1000, \"width\": 1000, \"xaxis\": {\"tickfont\": {\"color\": \"black\", \"size\": 12}, \"title\": \"Feature Importances\"}, \"yaxis\": {\"automargin\": true}}, {\"showLink\": true, \"linkText\": \"Export to plot.ly\", \"plotlyServerURL\": \"https://plot.ly\"})});</script>"
      ]
     },
     "metadata": {},
     "output_type": "display_data"
    },
    {
     "name": "stdout",
     "output_type": "stream",
     "text": [
      "\n",
      "\n",
      "\u001b[1mGradientBoosting Classifier\u001b[0m\n",
      "Accuracy of the model for training data is: 0.98074959895\n",
      "Confusion Matrix for training data is:\n"
     ]
    },
    {
     "data": {
      "text/plain": [
       "Predicted  False  True  __all__\n",
       "Actual                         \n",
       "False      24216   111    24327\n",
       "True         417  2684     3101\n",
       "__all__    24633  2795    27428"
      ]
     },
     "metadata": {},
     "output_type": "display_data"
    },
    {
     "name": "stdout",
     "output_type": "stream",
     "text": [
      "Accuracy of the model for test data is: 0.976945980434\n",
      "Confusion Matrix for test data is:\n"
     ]
    },
    {
     "data": {
      "text/plain": [
       "Predicted  False  True  __all__\n",
       "Actual                         \n",
       "False      10351    64    10415\n",
       "True         207  1133     1340\n",
       "__all__    10558  1197    11755"
      ]
     },
     "metadata": {},
     "output_type": "display_data"
    },
    {
     "data": {
      "application/vnd.plotly.v1+json": {
       "config": {
        "linkText": "Export to plot.ly",
        "plotlyServerURL": "https://plot.ly",
        "showLink": true
       },
       "data": [
        {
         "marker": {
          "color": "rgb(158,202,225)",
          "line": {
           "color": "rgb(8,48,107)",
           "width": 1.5
          }
         },
         "opacity": 0.6,
         "orientation": "h",
         "text": [
          0.2553,
          0.1576,
          0.1564,
          0.1506,
          0.0725,
          0.0502,
          0.0358,
          0.0246,
          0.023,
          0.0208,
          0.0082,
          0.0068,
          0.0057,
          0.0047,
          0.003,
          0.0029,
          0.0023,
          0.0018,
          0.0017,
          0.0015,
          0.0012,
          0.0012,
          0.0012,
          0.001,
          0.0008,
          0.0008,
          0.0008,
          0.0007,
          0.0007,
          0.0007,
          0.0006,
          0.0005,
          0.0005,
          0.0005,
          0.0004,
          0.0004,
          0.0004,
          0.0004,
          0.0003,
          0.0002,
          0.0002,
          0.0002,
          0.0001,
          0.0001,
          0.0001,
          0.0001,
          0.0001,
          0.0001,
          0.0001,
          0,
          0,
          0,
          0,
          0,
          0,
          0,
          0,
          0,
          0,
          0,
          0,
          0,
          0,
          0,
          0,
          0
         ],
         "textposition": "outside",
         "type": "bar",
         "uid": "c6ce5200-da7f-4368-be89-7fbe5a548e3d",
         "x": [
          0.2553203412118127,
          0.15756982786682114,
          0.1564069590800546,
          0.1505902725482348,
          0.0725295867220239,
          0.05024412876808397,
          0.03576614722447807,
          0.024595213607048916,
          0.023004621219923038,
          0.020753746319719314,
          0.00824942145360285,
          0.006795620624929089,
          0.005689618643693961,
          0.004722789143250813,
          0.003013291762027542,
          0.0029467848029954115,
          0.0022648894061256353,
          0.0018293169695236965,
          0.001713729550333047,
          0.0014617090008304094,
          0.0012417008418312736,
          0.0012395260973367885,
          0.0011949681039175656,
          0.0010065202854315314,
          0.0007965626525116582,
          0.0007848778173038196,
          0.0007773178767120636,
          0.0007465164405561316,
          0.0007232036441068453,
          0.0006607675963451137,
          0.0005813751768469727,
          0.0005240309003314752,
          0.0004703041744943264,
          0.00046524799215251624,
          0.0004429836107982152,
          0.0004353932224131239,
          0.0004134951398540475,
          0.0003602782755286277,
          0.0002505676337121712,
          0.00020178304668378518,
          0.00017760591994796232,
          0.00015893314211637766,
          0.0001280670115556993,
          0.00011285756716621661,
          0.00011158127740077489,
          0.0001082469144040997,
          9.861375991933843e-05,
          9.426792164324235e-05,
          5.5083499856838464e-05,
          4.144022993404747e-05,
          4.032730483283698e-05,
          3.3690795077784397e-05,
          2.0041803036497345e-05,
          1.4628783880225817e-05,
          1.4443835460855554e-05,
          4.733779386338445e-06,
          0,
          0,
          0,
          0,
          0,
          0,
          0,
          0,
          0,
          0
         ],
         "y": [
          "url_extensions",
          "url_length",
          "script_count",
          "div_count",
          "url_tld_BI",
          "url_contains_www",
          "url_word_count_cool",
          "http_header_content-encoding_gzip",
          "url_char_.",
          "url_char_w",
          "link_href_out_of_domain",
          "script_src_https",
          "http_header_marco_contenttext",
          "url_char_z",
          "url_extension_.xyz",
          "http_header_server_apache",
          "url_extension_.w",
          "url_tld_XYZ",
          "url_extension_.com",
          "script_src_relative",
          "script_src_absolute",
          "url_extension_endswith_.com",
          "url_tlds",
          "http_header_cache-control_set_max-age",
          "script_src_.js",
          "img_count",
          "url_char_p",
          "url_extension_endswith_.xyz",
          "url_char_6",
          "url_words_with_length_4",
          "url_char_-",
          "script_async_true",
          "url_char_u",
          "link_rel_stylesheet",
          "url_char_s",
          "link_href_.ico",
          "script_type_text/javascript",
          "url_char_y",
          "http_header_cache-control_set_no-cache",
          "http_header_vary_accept",
          "url_char_t",
          "http_header_connection_keep-alive",
          "url_char_f",
          "url_char_i",
          "script_src_out_of_domain",
          "url_words_with_length_7",
          "http_header_transfer-encoding_chunked",
          "url_char_l",
          "url_extension_.h",
          "url_char_n",
          "url_extension_.b",
          "url_char_b",
          "http_header_server_nginx",
          "link_rel_shortcut icon",
          "url_char_a",
          "meta_http-equiv_X-UA-Compatible",
          "meta_charset_utf-8",
          "link_rel_canonical",
          "url_char_e",
          "http_header_server_centos",
          "url_extension_.bik",
          "url_words_with_length_6",
          "url_words_with_length_5",
          "http_header_cache-control_set_must-revalidate",
          "url_tld_BIKE",
          "url_char_x"
         ]
        }
       ],
       "layout": {
        "autosize": false,
        "height": 1000,
        "width": 1000,
        "xaxis": {
         "tickfont": {
          "color": "black",
          "size": 12
         },
         "title": "Feature Importances"
        },
        "yaxis": {
         "automargin": true
        }
       }
      },
      "text/html": [
       "<div id=\"f9cd004d-d4a0-4811-abd8-713cfef38768\" style=\"height: 1000px; width: 1000px;\" class=\"plotly-graph-div\"></div><script type=\"text/javascript\">require([\"plotly\"], function(Plotly) { window.PLOTLYENV=window.PLOTLYENV || {};window.PLOTLYENV.BASE_URL=\"https://plot.ly\";Plotly.newPlot(\"f9cd004d-d4a0-4811-abd8-713cfef38768\", [{\"marker\": {\"color\": \"rgb(158,202,225)\", \"line\": {\"color\": \"rgb(8,48,107)\", \"width\": 1.5}}, \"opacity\": 0.6, \"orientation\": \"h\", \"text\": [0.2553, 0.1576, 0.1564, 0.1506, 0.0725, 0.0502, 0.0358, 0.0246, 0.023, 0.0208, 0.0082, 0.0068, 0.0057, 0.0047, 0.003, 0.0029, 0.0023, 0.0018, 0.0017, 0.0015, 0.0012, 0.0012, 0.0012, 0.001, 0.0008, 0.0008, 0.0008, 0.0007, 0.0007, 0.0007, 0.0006, 0.0005, 0.0005, 0.0005, 0.0004, 0.0004, 0.0004, 0.0004, 0.0003, 0.0002, 0.0002, 0.0002, 0.0001, 0.0001, 0.0001, 0.0001, 0.0001, 0.0001, 0.0001, 0.0, 0.0, 0.0, 0.0, 0.0, 0.0, 0.0, 0.0, 0.0, 0.0, 0.0, 0.0, 0.0, 0.0, 0.0, 0.0, 0.0], \"textposition\": \"outside\", \"x\": [0.2553203412118127, 0.15756982786682114, 0.1564069590800546, 0.1505902725482348, 0.0725295867220239, 0.05024412876808397, 0.03576614722447807, 0.024595213607048916, 0.023004621219923038, 0.020753746319719314, 0.00824942145360285, 0.006795620624929089, 0.005689618643693961, 0.004722789143250813, 0.003013291762027542, 0.0029467848029954115, 0.0022648894061256353, 0.0018293169695236965, 0.001713729550333047, 0.0014617090008304094, 0.0012417008418312736, 0.0012395260973367885, 0.0011949681039175656, 0.0010065202854315314, 0.0007965626525116582, 0.0007848778173038196, 0.0007773178767120636, 0.0007465164405561316, 0.0007232036441068453, 0.0006607675963451137, 0.0005813751768469727, 0.0005240309003314752, 0.0004703041744943264, 0.00046524799215251624, 0.0004429836107982152, 0.0004353932224131239, 0.0004134951398540475, 0.0003602782755286277, 0.0002505676337121712, 0.00020178304668378518, 0.00017760591994796232, 0.00015893314211637766, 0.0001280670115556993, 0.00011285756716621661, 0.00011158127740077489, 0.0001082469144040997, 9.861375991933843e-05, 9.426792164324235e-05, 5.5083499856838464e-05, 4.144022993404747e-05, 4.032730483283698e-05, 3.3690795077784397e-05, 2.0041803036497345e-05, 1.4628783880225817e-05, 1.4443835460855554e-05, 4.733779386338445e-06, 0.0, 0.0, 0.0, 0.0, 0.0, 0.0, 0.0, 0.0, 0.0, 0.0], \"y\": [\"url_extensions\", \"url_length\", \"script_count\", \"div_count\", \"url_tld_BI\", \"url_contains_www\", \"url_word_count_cool\", \"http_header_content-encoding_gzip\", \"url_char_.\", \"url_char_w\", \"link_href_out_of_domain\", \"script_src_https\", \"http_header_marco_contenttext\", \"url_char_z\", \"url_extension_.xyz\", \"http_header_server_apache\", \"url_extension_.w\", \"url_tld_XYZ\", \"url_extension_.com\", \"script_src_relative\", \"script_src_absolute\", \"url_extension_endswith_.com\", \"url_tlds\", \"http_header_cache-control_set_max-age\", \"script_src_.js\", \"img_count\", \"url_char_p\", \"url_extension_endswith_.xyz\", \"url_char_6\", \"url_words_with_length_4\", \"url_char_-\", \"script_async_true\", \"url_char_u\", \"link_rel_stylesheet\", \"url_char_s\", \"link_href_.ico\", \"script_type_text/javascript\", \"url_char_y\", \"http_header_cache-control_set_no-cache\", \"http_header_vary_accept\", \"url_char_t\", \"http_header_connection_keep-alive\", \"url_char_f\", \"url_char_i\", \"script_src_out_of_domain\", \"url_words_with_length_7\", \"http_header_transfer-encoding_chunked\", \"url_char_l\", \"url_extension_.h\", \"url_char_n\", \"url_extension_.b\", \"url_char_b\", \"http_header_server_nginx\", \"link_rel_shortcut icon\", \"url_char_a\", \"meta_http-equiv_X-UA-Compatible\", \"meta_charset_utf-8\", \"link_rel_canonical\", \"url_char_e\", \"http_header_server_centos\", \"url_extension_.bik\", \"url_words_with_length_6\", \"url_words_with_length_5\", \"http_header_cache-control_set_must-revalidate\", \"url_tld_BIKE\", \"url_char_x\"], \"type\": \"bar\", \"uid\": \"c6ce5200-da7f-4368-be89-7fbe5a548e3d\"}], {\"autosize\": false, \"height\": 1000, \"width\": 1000, \"xaxis\": {\"tickfont\": {\"color\": \"black\", \"size\": 12}, \"title\": \"Feature Importances\"}, \"yaxis\": {\"automargin\": true}}, {\"showLink\": true, \"linkText\": \"Export to plot.ly\", \"plotlyServerURL\": \"https://plot.ly\"})});</script>"
      ],
      "text/vnd.plotly.v1+html": [
       "<div id=\"f9cd004d-d4a0-4811-abd8-713cfef38768\" style=\"height: 1000px; width: 1000px;\" class=\"plotly-graph-div\"></div><script type=\"text/javascript\">require([\"plotly\"], function(Plotly) { window.PLOTLYENV=window.PLOTLYENV || {};window.PLOTLYENV.BASE_URL=\"https://plot.ly\";Plotly.newPlot(\"f9cd004d-d4a0-4811-abd8-713cfef38768\", [{\"marker\": {\"color\": \"rgb(158,202,225)\", \"line\": {\"color\": \"rgb(8,48,107)\", \"width\": 1.5}}, \"opacity\": 0.6, \"orientation\": \"h\", \"text\": [0.2553, 0.1576, 0.1564, 0.1506, 0.0725, 0.0502, 0.0358, 0.0246, 0.023, 0.0208, 0.0082, 0.0068, 0.0057, 0.0047, 0.003, 0.0029, 0.0023, 0.0018, 0.0017, 0.0015, 0.0012, 0.0012, 0.0012, 0.001, 0.0008, 0.0008, 0.0008, 0.0007, 0.0007, 0.0007, 0.0006, 0.0005, 0.0005, 0.0005, 0.0004, 0.0004, 0.0004, 0.0004, 0.0003, 0.0002, 0.0002, 0.0002, 0.0001, 0.0001, 0.0001, 0.0001, 0.0001, 0.0001, 0.0001, 0.0, 0.0, 0.0, 0.0, 0.0, 0.0, 0.0, 0.0, 0.0, 0.0, 0.0, 0.0, 0.0, 0.0, 0.0, 0.0, 0.0], \"textposition\": \"outside\", \"x\": [0.2553203412118127, 0.15756982786682114, 0.1564069590800546, 0.1505902725482348, 0.0725295867220239, 0.05024412876808397, 0.03576614722447807, 0.024595213607048916, 0.023004621219923038, 0.020753746319719314, 0.00824942145360285, 0.006795620624929089, 0.005689618643693961, 0.004722789143250813, 0.003013291762027542, 0.0029467848029954115, 0.0022648894061256353, 0.0018293169695236965, 0.001713729550333047, 0.0014617090008304094, 0.0012417008418312736, 0.0012395260973367885, 0.0011949681039175656, 0.0010065202854315314, 0.0007965626525116582, 0.0007848778173038196, 0.0007773178767120636, 0.0007465164405561316, 0.0007232036441068453, 0.0006607675963451137, 0.0005813751768469727, 0.0005240309003314752, 0.0004703041744943264, 0.00046524799215251624, 0.0004429836107982152, 0.0004353932224131239, 0.0004134951398540475, 0.0003602782755286277, 0.0002505676337121712, 0.00020178304668378518, 0.00017760591994796232, 0.00015893314211637766, 0.0001280670115556993, 0.00011285756716621661, 0.00011158127740077489, 0.0001082469144040997, 9.861375991933843e-05, 9.426792164324235e-05, 5.5083499856838464e-05, 4.144022993404747e-05, 4.032730483283698e-05, 3.3690795077784397e-05, 2.0041803036497345e-05, 1.4628783880225817e-05, 1.4443835460855554e-05, 4.733779386338445e-06, 0.0, 0.0, 0.0, 0.0, 0.0, 0.0, 0.0, 0.0, 0.0, 0.0], \"y\": [\"url_extensions\", \"url_length\", \"script_count\", \"div_count\", \"url_tld_BI\", \"url_contains_www\", \"url_word_count_cool\", \"http_header_content-encoding_gzip\", \"url_char_.\", \"url_char_w\", \"link_href_out_of_domain\", \"script_src_https\", \"http_header_marco_contenttext\", \"url_char_z\", \"url_extension_.xyz\", \"http_header_server_apache\", \"url_extension_.w\", \"url_tld_XYZ\", \"url_extension_.com\", \"script_src_relative\", \"script_src_absolute\", \"url_extension_endswith_.com\", \"url_tlds\", \"http_header_cache-control_set_max-age\", \"script_src_.js\", \"img_count\", \"url_char_p\", \"url_extension_endswith_.xyz\", \"url_char_6\", \"url_words_with_length_4\", \"url_char_-\", \"script_async_true\", \"url_char_u\", \"link_rel_stylesheet\", \"url_char_s\", \"link_href_.ico\", \"script_type_text/javascript\", \"url_char_y\", \"http_header_cache-control_set_no-cache\", \"http_header_vary_accept\", \"url_char_t\", \"http_header_connection_keep-alive\", \"url_char_f\", \"url_char_i\", \"script_src_out_of_domain\", \"url_words_with_length_7\", \"http_header_transfer-encoding_chunked\", \"url_char_l\", \"url_extension_.h\", \"url_char_n\", \"url_extension_.b\", \"url_char_b\", \"http_header_server_nginx\", \"link_rel_shortcut icon\", \"url_char_a\", \"meta_http-equiv_X-UA-Compatible\", \"meta_charset_utf-8\", \"link_rel_canonical\", \"url_char_e\", \"http_header_server_centos\", \"url_extension_.bik\", \"url_words_with_length_6\", \"url_words_with_length_5\", \"http_header_cache-control_set_must-revalidate\", \"url_tld_BIKE\", \"url_char_x\"], \"type\": \"bar\", \"uid\": \"c6ce5200-da7f-4368-be89-7fbe5a548e3d\"}], {\"autosize\": false, \"height\": 1000, \"width\": 1000, \"xaxis\": {\"tickfont\": {\"color\": \"black\", \"size\": 12}, \"title\": \"Feature Importances\"}, \"yaxis\": {\"automargin\": true}}, {\"showLink\": true, \"linkText\": \"Export to plot.ly\", \"plotlyServerURL\": \"https://plot.ly\"})});</script>"
      ]
     },
     "metadata": {},
     "output_type": "display_data"
    },
    {
     "name": "stdout",
     "output_type": "stream",
     "text": [
      "\n",
      "\n",
      "\u001b[1mExtraTree Classifier\u001b[0m\n",
      "Accuracy of the model for training data is: 1.0\n",
      "Confusion Matrix for training data is:\n"
     ]
    },
    {
     "data": {
      "text/plain": [
       "Predicted  False  True  __all__\n",
       "Actual                         \n",
       "False      24327     0    24327\n",
       "True           0  3101     3101\n",
       "__all__    24327  3101    27428"
      ]
     },
     "metadata": {},
     "output_type": "display_data"
    },
    {
     "name": "stdout",
     "output_type": "stream",
     "text": [
      "Accuracy of the model for test data is: 0.980859208847\n",
      "Confusion Matrix for test data is:\n"
     ]
    },
    {
     "data": {
      "text/plain": [
       "Predicted  False  True  __all__\n",
       "Actual                         \n",
       "False      10386    29    10415\n",
       "True         196  1144     1340\n",
       "__all__    10582  1173    11755"
      ]
     },
     "metadata": {},
     "output_type": "display_data"
    },
    {
     "data": {
      "application/vnd.plotly.v1+json": {
       "config": {
        "linkText": "Export to plot.ly",
        "plotlyServerURL": "https://plot.ly",
        "showLink": true
       },
       "data": [
        {
         "marker": {
          "color": "rgb(158,202,225)",
          "line": {
           "color": "rgb(8,48,107)",
           "width": 1.5
          }
         },
         "opacity": 0.6,
         "orientation": "h",
         "text": [
          0.065,
          0.0569,
          0.0558,
          0.0531,
          0.0524,
          0.0433,
          0.0417,
          0.0404,
          0.0314,
          0.0296,
          0.0295,
          0.0267,
          0.0266,
          0.0245,
          0.0235,
          0.0223,
          0.0195,
          0.0149,
          0.0133,
          0.0132,
          0.0117,
          0.0114,
          0.0114,
          0.0111,
          0.011,
          0.0108,
          0.0104,
          0.0101,
          0.0101,
          0.0101,
          0.0101,
          0.0101,
          0.0098,
          0.0097,
          0.0091,
          0.0087,
          0.0084,
          0.0084,
          0.0074,
          0.0073,
          0.0069,
          0.0068,
          0.0068,
          0.0061,
          0.0061,
          0.0057,
          0.0056,
          0.0056,
          0.0054,
          0.0051,
          0.005,
          0.0049,
          0.0048,
          0.0048,
          0.0046,
          0.0045,
          0.0041,
          0.004,
          0.0039,
          0.0036,
          0.0034,
          0.0028,
          0.0027,
          0.0025,
          0.0022,
          0.0018
         ],
         "textposition": "outside",
         "type": "bar",
         "uid": "a1d2d350-cb05-4ca2-8d0c-feb8f372dd85",
         "x": [
          0.06496349190610536,
          0.05686926225920506,
          0.05576687903957502,
          0.053070670830519806,
          0.05235488457431518,
          0.04329815906526531,
          0.041745276265065454,
          0.04038730042651996,
          0.03136211357147745,
          0.02963324319872595,
          0.029470146551889297,
          0.02670798520502875,
          0.02656024246402063,
          0.02447358882028957,
          0.02353561591719308,
          0.02227283404724311,
          0.019456948343141676,
          0.014914195137600172,
          0.013347981796883578,
          0.013185631090292815,
          0.01167172698592627,
          0.011415411037152521,
          0.011363591542478837,
          0.011114917724275832,
          0.011047296598880079,
          0.010800823129335509,
          0.010447842731881924,
          0.01010847608442677,
          0.010077284402413204,
          0.010072940491805208,
          0.010066676424312986,
          0.010063468394819485,
          0.009782322524578427,
          0.00968081936768514,
          0.009099568659984009,
          0.008709972950501941,
          0.008363289082624806,
          0.00835772349969845,
          0.00738293145321115,
          0.0072953359717528084,
          0.006910209079004516,
          0.006846105240594478,
          0.006827124529628713,
          0.006094656189861749,
          0.006053728484118275,
          0.005745750909850981,
          0.005620111796421074,
          0.005580053561360855,
          0.005397855807980049,
          0.005145484903042285,
          0.005025425669530299,
          0.004877220813611654,
          0.00484484682116508,
          0.004751104389927718,
          0.004553167161724668,
          0.004484104547371005,
          0.004144370239669867,
          0.003989799523402938,
          0.003937770279564933,
          0.0036487984990069534,
          0.003352420864161671,
          0.0027539780571749954,
          0.00268477783365281,
          0.002505454278701952,
          0.0021738330922210186,
          0.0017529778591468988
         ],
         "y": [
          "url_length",
          "url_contains_www",
          "url_tld_BI",
          "http_header_content-encoding_gzip",
          "url_tld_XYZ",
          "url_word_count_cool",
          "url_char_w",
          "url_extensions",
          "script_src_absolute",
          "url_extension_endswith_.xyz",
          "url_extension_.bik",
          "url_char_.",
          "url_tlds",
          "url_extension_.xyz",
          "url_tld_BIKE",
          "http_header_marco_contenttext",
          "http_header_vary_accept",
          "url_extension_endswith_.com",
          "http_header_transfer-encoding_chunked",
          "url_extension_.b",
          "script_src_relative",
          "url_char_u",
          "url_words_with_length_4",
          "script_count",
          "script_async_true",
          "url_extension_.com",
          "url_extension_.w",
          "url_char_i",
          "url_char_e",
          "url_char_y",
          "link_rel_shortcut icon",
          "url_char_z",
          "url_words_with_length_7",
          "url_char_p",
          "http_header_connection_keep-alive",
          "url_char_s",
          "url_char_l",
          "url_char_t",
          "url_char_a",
          "url_char_n",
          "http_header_server_centos",
          "url_words_with_length_5",
          "url_char_-",
          "http_header_server_apache",
          "link_href_.ico",
          "script_src_https",
          "meta_http-equiv_X-UA-Compatible",
          "url_char_f",
          "url_words_with_length_6",
          "script_src_.js",
          "url_char_b",
          "link_rel_stylesheet",
          "http_header_server_nginx",
          "url_char_6",
          "link_href_out_of_domain",
          "img_count",
          "http_header_cache-control_set_no-cache",
          "div_count",
          "http_header_cache-control_set_must-revalidate",
          "script_src_out_of_domain",
          "script_type_text/javascript",
          "meta_charset_utf-8",
          "http_header_cache-control_set_max-age",
          "url_char_x",
          "link_rel_canonical",
          "url_extension_.h"
         ]
        }
       ],
       "layout": {
        "autosize": false,
        "height": 1000,
        "width": 1000,
        "xaxis": {
         "tickfont": {
          "color": "black",
          "size": 12
         },
         "title": "Feature Importances"
        },
        "yaxis": {
         "automargin": true
        }
       }
      },
      "text/html": [
       "<div id=\"13288c8b-25db-4e1f-9786-93054a5ba8e0\" style=\"height: 1000px; width: 1000px;\" class=\"plotly-graph-div\"></div><script type=\"text/javascript\">require([\"plotly\"], function(Plotly) { window.PLOTLYENV=window.PLOTLYENV || {};window.PLOTLYENV.BASE_URL=\"https://plot.ly\";Plotly.newPlot(\"13288c8b-25db-4e1f-9786-93054a5ba8e0\", [{\"marker\": {\"color\": \"rgb(158,202,225)\", \"line\": {\"color\": \"rgb(8,48,107)\", \"width\": 1.5}}, \"opacity\": 0.6, \"orientation\": \"h\", \"text\": [0.065, 0.0569, 0.0558, 0.0531, 0.0524, 0.0433, 0.0417, 0.0404, 0.0314, 0.0296, 0.0295, 0.0267, 0.0266, 0.0245, 0.0235, 0.0223, 0.0195, 0.0149, 0.0133, 0.0132, 0.0117, 0.0114, 0.0114, 0.0111, 0.011, 0.0108, 0.0104, 0.0101, 0.0101, 0.0101, 0.0101, 0.0101, 0.0098, 0.0097, 0.0091, 0.0087, 0.0084, 0.0084, 0.0074, 0.0073, 0.0069, 0.0068, 0.0068, 0.0061, 0.0061, 0.0057, 0.0056, 0.0056, 0.0054, 0.0051, 0.005, 0.0049, 0.0048, 0.0048, 0.0046, 0.0045, 0.0041, 0.004, 0.0039, 0.0036, 0.0034, 0.0028, 0.0027, 0.0025, 0.0022, 0.0018], \"textposition\": \"outside\", \"x\": [0.06496349190610536, 0.05686926225920506, 0.05576687903957502, 0.053070670830519806, 0.05235488457431518, 0.04329815906526531, 0.041745276265065454, 0.04038730042651996, 0.03136211357147745, 0.02963324319872595, 0.029470146551889297, 0.02670798520502875, 0.02656024246402063, 0.02447358882028957, 0.02353561591719308, 0.02227283404724311, 0.019456948343141676, 0.014914195137600172, 0.013347981796883578, 0.013185631090292815, 0.01167172698592627, 0.011415411037152521, 0.011363591542478837, 0.011114917724275832, 0.011047296598880079, 0.010800823129335509, 0.010447842731881924, 0.01010847608442677, 0.010077284402413204, 0.010072940491805208, 0.010066676424312986, 0.010063468394819485, 0.009782322524578427, 0.00968081936768514, 0.009099568659984009, 0.008709972950501941, 0.008363289082624806, 0.00835772349969845, 0.00738293145321115, 0.0072953359717528084, 0.006910209079004516, 0.006846105240594478, 0.006827124529628713, 0.006094656189861749, 0.006053728484118275, 0.005745750909850981, 0.005620111796421074, 0.005580053561360855, 0.005397855807980049, 0.005145484903042285, 0.005025425669530299, 0.004877220813611654, 0.00484484682116508, 0.004751104389927718, 0.004553167161724668, 0.004484104547371005, 0.004144370239669867, 0.003989799523402938, 0.003937770279564933, 0.0036487984990069534, 0.003352420864161671, 0.0027539780571749954, 0.00268477783365281, 0.002505454278701952, 0.0021738330922210186, 0.0017529778591468988], \"y\": [\"url_length\", \"url_contains_www\", \"url_tld_BI\", \"http_header_content-encoding_gzip\", \"url_tld_XYZ\", \"url_word_count_cool\", \"url_char_w\", \"url_extensions\", \"script_src_absolute\", \"url_extension_endswith_.xyz\", \"url_extension_.bik\", \"url_char_.\", \"url_tlds\", \"url_extension_.xyz\", \"url_tld_BIKE\", \"http_header_marco_contenttext\", \"http_header_vary_accept\", \"url_extension_endswith_.com\", \"http_header_transfer-encoding_chunked\", \"url_extension_.b\", \"script_src_relative\", \"url_char_u\", \"url_words_with_length_4\", \"script_count\", \"script_async_true\", \"url_extension_.com\", \"url_extension_.w\", \"url_char_i\", \"url_char_e\", \"url_char_y\", \"link_rel_shortcut icon\", \"url_char_z\", \"url_words_with_length_7\", \"url_char_p\", \"http_header_connection_keep-alive\", \"url_char_s\", \"url_char_l\", \"url_char_t\", \"url_char_a\", \"url_char_n\", \"http_header_server_centos\", \"url_words_with_length_5\", \"url_char_-\", \"http_header_server_apache\", \"link_href_.ico\", \"script_src_https\", \"meta_http-equiv_X-UA-Compatible\", \"url_char_f\", \"url_words_with_length_6\", \"script_src_.js\", \"url_char_b\", \"link_rel_stylesheet\", \"http_header_server_nginx\", \"url_char_6\", \"link_href_out_of_domain\", \"img_count\", \"http_header_cache-control_set_no-cache\", \"div_count\", \"http_header_cache-control_set_must-revalidate\", \"script_src_out_of_domain\", \"script_type_text/javascript\", \"meta_charset_utf-8\", \"http_header_cache-control_set_max-age\", \"url_char_x\", \"link_rel_canonical\", \"url_extension_.h\"], \"type\": \"bar\", \"uid\": \"a1d2d350-cb05-4ca2-8d0c-feb8f372dd85\"}], {\"autosize\": false, \"height\": 1000, \"width\": 1000, \"xaxis\": {\"tickfont\": {\"color\": \"black\", \"size\": 12}, \"title\": \"Feature Importances\"}, \"yaxis\": {\"automargin\": true}}, {\"showLink\": true, \"linkText\": \"Export to plot.ly\", \"plotlyServerURL\": \"https://plot.ly\"})});</script>"
      ],
      "text/vnd.plotly.v1+html": [
       "<div id=\"13288c8b-25db-4e1f-9786-93054a5ba8e0\" style=\"height: 1000px; width: 1000px;\" class=\"plotly-graph-div\"></div><script type=\"text/javascript\">require([\"plotly\"], function(Plotly) { window.PLOTLYENV=window.PLOTLYENV || {};window.PLOTLYENV.BASE_URL=\"https://plot.ly\";Plotly.newPlot(\"13288c8b-25db-4e1f-9786-93054a5ba8e0\", [{\"marker\": {\"color\": \"rgb(158,202,225)\", \"line\": {\"color\": \"rgb(8,48,107)\", \"width\": 1.5}}, \"opacity\": 0.6, \"orientation\": \"h\", \"text\": [0.065, 0.0569, 0.0558, 0.0531, 0.0524, 0.0433, 0.0417, 0.0404, 0.0314, 0.0296, 0.0295, 0.0267, 0.0266, 0.0245, 0.0235, 0.0223, 0.0195, 0.0149, 0.0133, 0.0132, 0.0117, 0.0114, 0.0114, 0.0111, 0.011, 0.0108, 0.0104, 0.0101, 0.0101, 0.0101, 0.0101, 0.0101, 0.0098, 0.0097, 0.0091, 0.0087, 0.0084, 0.0084, 0.0074, 0.0073, 0.0069, 0.0068, 0.0068, 0.0061, 0.0061, 0.0057, 0.0056, 0.0056, 0.0054, 0.0051, 0.005, 0.0049, 0.0048, 0.0048, 0.0046, 0.0045, 0.0041, 0.004, 0.0039, 0.0036, 0.0034, 0.0028, 0.0027, 0.0025, 0.0022, 0.0018], \"textposition\": \"outside\", \"x\": [0.06496349190610536, 0.05686926225920506, 0.05576687903957502, 0.053070670830519806, 0.05235488457431518, 0.04329815906526531, 0.041745276265065454, 0.04038730042651996, 0.03136211357147745, 0.02963324319872595, 0.029470146551889297, 0.02670798520502875, 0.02656024246402063, 0.02447358882028957, 0.02353561591719308, 0.02227283404724311, 0.019456948343141676, 0.014914195137600172, 0.013347981796883578, 0.013185631090292815, 0.01167172698592627, 0.011415411037152521, 0.011363591542478837, 0.011114917724275832, 0.011047296598880079, 0.010800823129335509, 0.010447842731881924, 0.01010847608442677, 0.010077284402413204, 0.010072940491805208, 0.010066676424312986, 0.010063468394819485, 0.009782322524578427, 0.00968081936768514, 0.009099568659984009, 0.008709972950501941, 0.008363289082624806, 0.00835772349969845, 0.00738293145321115, 0.0072953359717528084, 0.006910209079004516, 0.006846105240594478, 0.006827124529628713, 0.006094656189861749, 0.006053728484118275, 0.005745750909850981, 0.005620111796421074, 0.005580053561360855, 0.005397855807980049, 0.005145484903042285, 0.005025425669530299, 0.004877220813611654, 0.00484484682116508, 0.004751104389927718, 0.004553167161724668, 0.004484104547371005, 0.004144370239669867, 0.003989799523402938, 0.003937770279564933, 0.0036487984990069534, 0.003352420864161671, 0.0027539780571749954, 0.00268477783365281, 0.002505454278701952, 0.0021738330922210186, 0.0017529778591468988], \"y\": [\"url_length\", \"url_contains_www\", \"url_tld_BI\", \"http_header_content-encoding_gzip\", \"url_tld_XYZ\", \"url_word_count_cool\", \"url_char_w\", \"url_extensions\", \"script_src_absolute\", \"url_extension_endswith_.xyz\", \"url_extension_.bik\", \"url_char_.\", \"url_tlds\", \"url_extension_.xyz\", \"url_tld_BIKE\", \"http_header_marco_contenttext\", \"http_header_vary_accept\", \"url_extension_endswith_.com\", \"http_header_transfer-encoding_chunked\", \"url_extension_.b\", \"script_src_relative\", \"url_char_u\", \"url_words_with_length_4\", \"script_count\", \"script_async_true\", \"url_extension_.com\", \"url_extension_.w\", \"url_char_i\", \"url_char_e\", \"url_char_y\", \"link_rel_shortcut icon\", \"url_char_z\", \"url_words_with_length_7\", \"url_char_p\", \"http_header_connection_keep-alive\", \"url_char_s\", \"url_char_l\", \"url_char_t\", \"url_char_a\", \"url_char_n\", \"http_header_server_centos\", \"url_words_with_length_5\", \"url_char_-\", \"http_header_server_apache\", \"link_href_.ico\", \"script_src_https\", \"meta_http-equiv_X-UA-Compatible\", \"url_char_f\", \"url_words_with_length_6\", \"script_src_.js\", \"url_char_b\", \"link_rel_stylesheet\", \"http_header_server_nginx\", \"url_char_6\", \"link_href_out_of_domain\", \"img_count\", \"http_header_cache-control_set_no-cache\", \"div_count\", \"http_header_cache-control_set_must-revalidate\", \"script_src_out_of_domain\", \"script_type_text/javascript\", \"meta_charset_utf-8\", \"http_header_cache-control_set_max-age\", \"url_char_x\", \"link_rel_canonical\", \"url_extension_.h\"], \"type\": \"bar\", \"uid\": \"a1d2d350-cb05-4ca2-8d0c-feb8f372dd85\"}], {\"autosize\": false, \"height\": 1000, \"width\": 1000, \"xaxis\": {\"tickfont\": {\"color\": \"black\", \"size\": 12}, \"title\": \"Feature Importances\"}, \"yaxis\": {\"automargin\": true}}, {\"showLink\": true, \"linkText\": \"Export to plot.ly\", \"plotlyServerURL\": \"https://plot.ly\"})});</script>"
      ]
     },
     "metadata": {},
     "output_type": "display_data"
    },
    {
     "name": "stdout",
     "output_type": "stream",
     "text": [
      "\n",
      "\n",
      "\u001b[1mBagging Classifier\u001b[0m\n",
      "Accuracy of the model for training data is: 0.997666618055\n",
      "Confusion Matrix for training data is:\n"
     ]
    },
    {
     "data": {
      "text/plain": [
       "Predicted  False  True  __all__\n",
       "Actual                         \n",
       "False      24326     1    24327\n",
       "True          63  3038     3101\n",
       "__all__    24389  3039    27428"
      ]
     },
     "metadata": {},
     "output_type": "display_data"
    },
    {
     "name": "stdout",
     "output_type": "stream",
     "text": [
      "Accuracy of the model for test data is: 0.979327945555\n",
      "Confusion Matrix for test data is:\n"
     ]
    },
    {
     "data": {
      "text/plain": [
       "Predicted  False  True  __all__\n",
       "Actual                         \n",
       "False      10365    50    10415\n",
       "True         193  1147     1340\n",
       "__all__    10558  1197    11755"
      ]
     },
     "metadata": {},
     "output_type": "display_data"
    },
    {
     "name": "stdout",
     "output_type": "stream",
     "text": [
      "\n",
      "\n",
      "\u001b[1mNeural Network-1\u001b[0m\n",
      "The accuracy of the model on training data is: 0.998249963541\n"
     ]
    },
    {
     "data": {
      "text/plain": [
       "Predicted  False  True  __all__\n",
       "Actual                         \n",
       "False      24296    31    24327\n",
       "True          17  3084     3101\n",
       "__all__    24313  3115    27428"
      ]
     },
     "metadata": {},
     "output_type": "display_data"
    },
    {
     "name": "stdout",
     "output_type": "stream",
     "text": [
      "The accuracy of the model on test data is: 0.973968524032\n"
     ]
    },
    {
     "data": {
      "text/plain": [
       "Predicted  False  True  __all__\n",
       "Actual                         \n",
       "False      10270   145    10415\n",
       "True         161  1179     1340\n",
       "__all__    10431  1324    11755"
      ]
     },
     "metadata": {},
     "output_type": "display_data"
    },
    {
     "name": "stdout",
     "output_type": "stream",
     "text": [
      "\n",
      "\n"
     ]
    }
   ],
   "source": [
    "feature_name.append('Target')\n",
    "df_min=df_sel[feature_name]\n",
    "\n",
    "train=df_min.iloc[:27428,:]\n",
    "train_X=train.iloc[:,train.columns!='Target'].values\n",
    "train_Y=train.Target.values\n",
    "\n",
    "scaler=StandardScaler()\n",
    "scaled_X_train=scaler.fit_transform(train_X)\n",
    "\n",
    "test=df_min.iloc[27428:,:]\n",
    "test_X=test.iloc[:,test.columns!='Target'].values\n",
    "test_Y=test.Target.values\n",
    "scaled_X_test=scaler.transform(test_X)\n",
    "\n",
    "feature_name.remove('Target')\n",
    "\n",
    "feat_imp=[None]*4\n",
    "j=0\n",
    "for i in range(0,7):\n",
    "    if i>=1 and i<=4:\n",
    "        model,cm_train,cm_test,acc_train,acc_test,roc_auc,feat_imp[j],mcc,precision,recall=f[i](scaled_X_train,train_Y,scaled_X_test,test_Y,feature_name)\n",
    "        j=j+1\n",
    "    else:\n",
    "        model,cm_train,cm_test,acc_train,acc_test,roc_auc,mcc,precision,recall=f[i](scaled_X_train,train_Y,scaled_X_test,test_Y)\n",
    "    table_80_60_train.loc[i]=   ([acc_train,cm_train.TP,cm_train.TN,cm_train.FP,cm_train.FN,cm_train.FPR,cm_train.FNR])\n",
    "    table_80_60_test.loc[i] =   ([acc_test ,cm_test.TP, cm_test.TN, cm_test.FP, cm_test.FN, cm_test.FPR, cm_test.FNR,roc_auc,mcc,precision,recall])\n",
    "    print(\"\\n\")"
   ]
  },
  {
   "cell_type": "code",
   "execution_count": 75,
   "metadata": {},
   "outputs": [
    {
     "name": "stdout",
     "output_type": "stream",
     "text": [
      "Training Results\n"
     ]
    },
    {
     "data": {
      "text/html": [
       "<div>\n",
       "<style scoped>\n",
       "    .dataframe tbody tr th:only-of-type {\n",
       "        vertical-align: middle;\n",
       "    }\n",
       "\n",
       "    .dataframe tbody tr th {\n",
       "        vertical-align: top;\n",
       "    }\n",
       "\n",
       "    .dataframe thead th {\n",
       "        text-align: right;\n",
       "    }\n",
       "</style>\n",
       "<table border=\"1\" class=\"dataframe\">\n",
       "  <thead>\n",
       "    <tr style=\"text-align: right;\">\n",
       "      <th></th>\n",
       "      <th>accuracy</th>\n",
       "      <th>TP</th>\n",
       "      <th>TN</th>\n",
       "      <th>FP</th>\n",
       "      <th>FN</th>\n",
       "      <th>FPR</th>\n",
       "      <th>FNR</th>\n",
       "    </tr>\n",
       "    <tr>\n",
       "      <th>index</th>\n",
       "      <th></th>\n",
       "      <th></th>\n",
       "      <th></th>\n",
       "      <th></th>\n",
       "      <th></th>\n",
       "      <th></th>\n",
       "      <th></th>\n",
       "    </tr>\n",
       "  </thead>\n",
       "  <tbody>\n",
       "    <tr>\n",
       "      <th>KNeighborsClassifier</th>\n",
       "      <td>0.984213</td>\n",
       "      <td>2746.0</td>\n",
       "      <td>24249.0</td>\n",
       "      <td>78.0</td>\n",
       "      <td>355.0</td>\n",
       "      <td>0.003206</td>\n",
       "      <td>0.114479</td>\n",
       "    </tr>\n",
       "    <tr>\n",
       "      <th>RandomForestClassifier</th>\n",
       "      <td>0.997995</td>\n",
       "      <td>3046.0</td>\n",
       "      <td>24327.0</td>\n",
       "      <td>0.0</td>\n",
       "      <td>55.0</td>\n",
       "      <td>0.000000</td>\n",
       "      <td>0.017736</td>\n",
       "    </tr>\n",
       "    <tr>\n",
       "      <th>AdaBoostClassifier</th>\n",
       "      <td>0.975390</td>\n",
       "      <td>2660.0</td>\n",
       "      <td>24093.0</td>\n",
       "      <td>234.0</td>\n",
       "      <td>441.0</td>\n",
       "      <td>0.009619</td>\n",
       "      <td>0.142212</td>\n",
       "    </tr>\n",
       "    <tr>\n",
       "      <th>GradientBoostingClassifier</th>\n",
       "      <td>0.980750</td>\n",
       "      <td>2684.0</td>\n",
       "      <td>24216.0</td>\n",
       "      <td>111.0</td>\n",
       "      <td>417.0</td>\n",
       "      <td>0.004563</td>\n",
       "      <td>0.134473</td>\n",
       "    </tr>\n",
       "    <tr>\n",
       "      <th>ExtraTreeClassifier</th>\n",
       "      <td>1.000000</td>\n",
       "      <td>3101.0</td>\n",
       "      <td>24327.0</td>\n",
       "      <td>0.0</td>\n",
       "      <td>0.0</td>\n",
       "      <td>0.000000</td>\n",
       "      <td>0.000000</td>\n",
       "    </tr>\n",
       "    <tr>\n",
       "      <th>BaggingClassifier</th>\n",
       "      <td>0.997667</td>\n",
       "      <td>3038.0</td>\n",
       "      <td>24326.0</td>\n",
       "      <td>1.0</td>\n",
       "      <td>63.0</td>\n",
       "      <td>0.000041</td>\n",
       "      <td>0.020316</td>\n",
       "    </tr>\n",
       "    <tr>\n",
       "      <th>Neural Network-1</th>\n",
       "      <td>0.998250</td>\n",
       "      <td>3084.0</td>\n",
       "      <td>24296.0</td>\n",
       "      <td>31.0</td>\n",
       "      <td>17.0</td>\n",
       "      <td>0.001274</td>\n",
       "      <td>0.005482</td>\n",
       "    </tr>\n",
       "  </tbody>\n",
       "</table>\n",
       "</div>"
      ],
      "text/plain": [
       "                            accuracy      TP       TN     FP     FN       FPR  \\\n",
       "index                                                                           \n",
       "KNeighborsClassifier        0.984213  2746.0  24249.0   78.0  355.0  0.003206   \n",
       "RandomForestClassifier      0.997995  3046.0  24327.0    0.0   55.0  0.000000   \n",
       "AdaBoostClassifier          0.975390  2660.0  24093.0  234.0  441.0  0.009619   \n",
       "GradientBoostingClassifier  0.980750  2684.0  24216.0  111.0  417.0  0.004563   \n",
       "ExtraTreeClassifier         1.000000  3101.0  24327.0    0.0    0.0  0.000000   \n",
       "BaggingClassifier           0.997667  3038.0  24326.0    1.0   63.0  0.000041   \n",
       "Neural Network-1            0.998250  3084.0  24296.0   31.0   17.0  0.001274   \n",
       "\n",
       "                                 FNR  \n",
       "index                                 \n",
       "KNeighborsClassifier        0.114479  \n",
       "RandomForestClassifier      0.017736  \n",
       "AdaBoostClassifier          0.142212  \n",
       "GradientBoostingClassifier  0.134473  \n",
       "ExtraTreeClassifier         0.000000  \n",
       "BaggingClassifier           0.020316  \n",
       "Neural Network-1            0.005482  "
      ]
     },
     "metadata": {},
     "output_type": "display_data"
    },
    {
     "name": "stdout",
     "output_type": "stream",
     "text": [
      "Test Results\n"
     ]
    },
    {
     "data": {
      "text/html": [
       "<div>\n",
       "<style scoped>\n",
       "    .dataframe tbody tr th:only-of-type {\n",
       "        vertical-align: middle;\n",
       "    }\n",
       "\n",
       "    .dataframe tbody tr th {\n",
       "        vertical-align: top;\n",
       "    }\n",
       "\n",
       "    .dataframe thead th {\n",
       "        text-align: right;\n",
       "    }\n",
       "</style>\n",
       "<table border=\"1\" class=\"dataframe\">\n",
       "  <thead>\n",
       "    <tr style=\"text-align: right;\">\n",
       "      <th></th>\n",
       "      <th>accuracy</th>\n",
       "      <th>TP</th>\n",
       "      <th>TN</th>\n",
       "      <th>FP</th>\n",
       "      <th>FN</th>\n",
       "      <th>FPR</th>\n",
       "      <th>FNR</th>\n",
       "      <th>auc</th>\n",
       "      <th>mcc</th>\n",
       "      <th>precision</th>\n",
       "      <th>recall</th>\n",
       "    </tr>\n",
       "    <tr>\n",
       "      <th>index</th>\n",
       "      <th></th>\n",
       "      <th></th>\n",
       "      <th></th>\n",
       "      <th></th>\n",
       "      <th></th>\n",
       "      <th></th>\n",
       "      <th></th>\n",
       "      <th></th>\n",
       "      <th></th>\n",
       "      <th></th>\n",
       "      <th></th>\n",
       "    </tr>\n",
       "  </thead>\n",
       "  <tbody>\n",
       "    <tr>\n",
       "      <th>KNeighborsClassifier</th>\n",
       "      <td>0.977371</td>\n",
       "      <td>1124.0</td>\n",
       "      <td>10365.0</td>\n",
       "      <td>50.0</td>\n",
       "      <td>216.0</td>\n",
       "      <td>0.004801</td>\n",
       "      <td>0.161194</td>\n",
       "      <td>0.917003</td>\n",
       "      <td>0.884002</td>\n",
       "      <td>0.957411</td>\n",
       "      <td>0.838806</td>\n",
       "    </tr>\n",
       "    <tr>\n",
       "      <th>RandomForestClassifier</th>\n",
       "      <td>0.978477</td>\n",
       "      <td>1136.0</td>\n",
       "      <td>10366.0</td>\n",
       "      <td>49.0</td>\n",
       "      <td>204.0</td>\n",
       "      <td>0.004705</td>\n",
       "      <td>0.152239</td>\n",
       "      <td>0.921528</td>\n",
       "      <td>0.889902</td>\n",
       "      <td>0.958650</td>\n",
       "      <td>0.847761</td>\n",
       "    </tr>\n",
       "    <tr>\n",
       "      <th>AdaBoostClassifier</th>\n",
       "      <td>0.972352</td>\n",
       "      <td>1131.0</td>\n",
       "      <td>10299.0</td>\n",
       "      <td>116.0</td>\n",
       "      <td>209.0</td>\n",
       "      <td>0.011138</td>\n",
       "      <td>0.155970</td>\n",
       "      <td>0.916446</td>\n",
       "      <td>0.859563</td>\n",
       "      <td>0.906977</td>\n",
       "      <td>0.844030</td>\n",
       "    </tr>\n",
       "    <tr>\n",
       "      <th>GradientBoostingClassifier</th>\n",
       "      <td>0.976946</td>\n",
       "      <td>1133.0</td>\n",
       "      <td>10351.0</td>\n",
       "      <td>64.0</td>\n",
       "      <td>207.0</td>\n",
       "      <td>0.006145</td>\n",
       "      <td>0.154478</td>\n",
       "      <td>0.919689</td>\n",
       "      <td>0.882067</td>\n",
       "      <td>0.946533</td>\n",
       "      <td>0.845522</td>\n",
       "    </tr>\n",
       "    <tr>\n",
       "      <th>ExtraTreeClassifier</th>\n",
       "      <td>0.980859</td>\n",
       "      <td>1144.0</td>\n",
       "      <td>10386.0</td>\n",
       "      <td>29.0</td>\n",
       "      <td>196.0</td>\n",
       "      <td>0.002784</td>\n",
       "      <td>0.146269</td>\n",
       "      <td>0.925473</td>\n",
       "      <td>0.902301</td>\n",
       "      <td>0.975277</td>\n",
       "      <td>0.853731</td>\n",
       "    </tr>\n",
       "    <tr>\n",
       "      <th>BaggingClassifier</th>\n",
       "      <td>0.979328</td>\n",
       "      <td>1147.0</td>\n",
       "      <td>10365.0</td>\n",
       "      <td>50.0</td>\n",
       "      <td>193.0</td>\n",
       "      <td>0.004801</td>\n",
       "      <td>0.144030</td>\n",
       "      <td>0.925585</td>\n",
       "      <td>0.894458</td>\n",
       "      <td>0.958229</td>\n",
       "      <td>0.855970</td>\n",
       "    </tr>\n",
       "    <tr>\n",
       "      <th>Neural Network-1</th>\n",
       "      <td>0.973969</td>\n",
       "      <td>1179.0</td>\n",
       "      <td>10270.0</td>\n",
       "      <td>145.0</td>\n",
       "      <td>161.0</td>\n",
       "      <td>0.013922</td>\n",
       "      <td>0.120149</td>\n",
       "      <td>0.925585</td>\n",
       "      <td>0.870477</td>\n",
       "      <td>0.890483</td>\n",
       "      <td>0.879851</td>\n",
       "    </tr>\n",
       "  </tbody>\n",
       "</table>\n",
       "</div>"
      ],
      "text/plain": [
       "                            accuracy      TP       TN     FP     FN       FPR  \\\n",
       "index                                                                           \n",
       "KNeighborsClassifier        0.977371  1124.0  10365.0   50.0  216.0  0.004801   \n",
       "RandomForestClassifier      0.978477  1136.0  10366.0   49.0  204.0  0.004705   \n",
       "AdaBoostClassifier          0.972352  1131.0  10299.0  116.0  209.0  0.011138   \n",
       "GradientBoostingClassifier  0.976946  1133.0  10351.0   64.0  207.0  0.006145   \n",
       "ExtraTreeClassifier         0.980859  1144.0  10386.0   29.0  196.0  0.002784   \n",
       "BaggingClassifier           0.979328  1147.0  10365.0   50.0  193.0  0.004801   \n",
       "Neural Network-1            0.973969  1179.0  10270.0  145.0  161.0  0.013922   \n",
       "\n",
       "                                 FNR       auc       mcc  precision    recall  \n",
       "index                                                                          \n",
       "KNeighborsClassifier        0.161194  0.917003  0.884002   0.957411  0.838806  \n",
       "RandomForestClassifier      0.152239  0.921528  0.889902   0.958650  0.847761  \n",
       "AdaBoostClassifier          0.155970  0.916446  0.859563   0.906977  0.844030  \n",
       "GradientBoostingClassifier  0.154478  0.919689  0.882067   0.946533  0.845522  \n",
       "ExtraTreeClassifier         0.146269  0.925473  0.902301   0.975277  0.853731  \n",
       "BaggingClassifier           0.144030  0.925585  0.894458   0.958229  0.855970  \n",
       "Neural Network-1            0.120149  0.925585  0.870477   0.890483  0.879851  "
      ]
     },
     "metadata": {},
     "output_type": "display_data"
    }
   ],
   "source": [
    "table_80_60_train['index']=ind_columns\n",
    "table_80_60_test['index']=ind_columns\n",
    "\n",
    "\n",
    "table_80_60_test.set_index(['index'],drop=True,inplace=True)\n",
    "table_80_60_train.set_index(['index'],drop=True,inplace=True)\n",
    "\n",
    "print(\"Training Results\")\n",
    "display(table_80_60_train)\n",
    "print(\"Test Results\")\n",
    "display(table_80_60_test)"
   ]
  }
 ],
 "metadata": {
  "kernelspec": {
   "display_name": "Python 3",
   "language": "python",
   "name": "python3"
  },
  "language_info": {
   "codemirror_mode": {
    "name": "ipython",
    "version": 3
   },
   "file_extension": ".py",
   "mimetype": "text/x-python",
   "name": "python",
   "nbconvert_exporter": "python",
   "pygments_lexer": "ipython3",
   "version": "3.6.7"
  }
 },
 "nbformat": 4,
 "nbformat_minor": 2
}
