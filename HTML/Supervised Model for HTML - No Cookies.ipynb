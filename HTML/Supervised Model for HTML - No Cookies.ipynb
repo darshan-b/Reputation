{
 "cells": [
  {
   "cell_type": "code",
   "execution_count": 4,
   "metadata": {
    "collapsed": true
   },
   "outputs": [],
   "source": [
    "import pandas as pd\n",
    "import numpy as np\n",
    "import os\n",
    "import json\n",
    "from pandas.io.json import json_normalize\n",
    "from IPython.display import display,clear_output,HTML\n",
    "import matplotlib.pyplot as plt\n",
    "import seaborn as sns\n",
    "import warnings\n",
    "warnings.filterwarnings(\"ignore\")\n",
    "from tabulate import tabulate\n",
    "\n",
    "import keras\n",
    "from keras.layers import Dense,Dropout\n",
    "from keras.models import Sequential\n",
    "from keras.wrappers.scikit_learn import KerasClassifier\n",
    "\n",
    "%matplotlib inline\n",
    "pd.set_option('display.max_columns', 500)\n",
    "pd.set_option('display.max_rows',305)\n",
    "\n",
    "from sklearn.feature_selection import SelectKBest,chi2,RFE,RFECV,f_regression,SelectFromModel\n",
    "from sklearn.linear_model import LogisticRegression,RandomizedLasso,LinearRegression, Ridge,Lasso\n",
    "from sklearn.ensemble import ExtraTreesClassifier,RandomForestClassifier,GradientBoostingClassifier,AdaBoostClassifier,BaggingClassifier,VotingClassifier\n",
    "from sklearn.svm import SVC\n",
    "from sklearn.neighbors import KNeighborsClassifier\n",
    "from sklearn.model_selection import StratifiedKFold,GridSearchCV,train_test_split,cross_val_score\n",
    "\n",
    "from sklearn.preprocessing import MinMaxScaler,StandardScaler,binarize\n",
    "from sklearn.ensemble import RandomForestRegressor\n",
    "from minepy import MINE\n",
    "from sklearn import metrics\n",
    "\n",
    "import warnings\n",
    "warnings.simplefilter(\"ignore\", DeprecationWarning)\n",
    "\n",
    "from sklearn.decomposition import PCA\n",
    "from sklearn.metrics import confusion_matrix,accuracy_score,auc,roc_curve,recall_score\n",
    "from sklearn import metrics\n",
    "from pandas_ml import ConfusionMatrix\n",
    "\n",
    "\n",
    "from imblearn.over_sampling import SMOTE"
   ]
  },
  {
   "cell_type": "code",
   "execution_count": 5,
   "metadata": {
    "collapsed": true
   },
   "outputs": [],
   "source": [
    "### Function get_params takes as input a grid search model and prints out the best parameters for the model and \n",
    "### prints the best accuracy of the model\n",
    "def get_params(grid,model_name=''):\n",
    "    print(\"Best Parameters are :\")\n",
    "    display(pd.DataFrame.from_dict(grid.best_params_, orient='index').reset_index().transpose())\n",
    "\n",
    "### The function takes as input the model, X and Y data to generate the confusion matrix  \n",
    "def get_cm(model,a,b):\n",
    "    y_pred=model.predict(a)\n",
    "    cm=ConfusionMatrix(b,y_pred)\n",
    "    return cm\n",
    " \n",
    "### The get accuracy plot takes as input a dataframe and a string for the title of the plot and displays a plot\n",
    "### The function is primarily for plotting of accuracies for various classifiers for the same split.\n",
    "def get_accuracy_plot(data,title=''):\n",
    "    plt.figure(figsize=(12,8))\n",
    "    plt.plot(data['accuracy'].values, '--o')\n",
    "    plt.ylabel('Accuracy', fontsize=20)\n",
    "    plt.xlabel('Classifier', fontsize=20)\n",
    "    plt.tick_params(axis='both', which='major', labelsize=18)\n",
    "    plt.tick_params(axis='both', which='minor', labelsize=12)\n",
    "    plt.xlim([0, 9])\n",
    "    plt.title(title,size=18,y=1.05)\n",
    "    plt.xticks(np.arange(10),data.index.get_values(),rotation=90)\n",
    "    plt.legend(loc='upper right', fontsize=18)\n",
    "    plt.show()\n",
    "\n",
    "### Function grid takes as input an estimator, X_train,Y_Train,X_test and Y_test and a string represetning the name of the model\n",
    "### We perform StratifiedKFold cross validation and grid search to hypertune the parameters of the model     \n",
    "def grid(kernel,params,x,y,x_test,y_test,model_name=''):\n",
    "    kfold = StratifiedKFold(n_splits=10, shuffle=True, random_state=0)\n",
    "    grid_search=GridSearchCV(estimator=kernel,param_grid=parameters,scoring='accuracy',cv=kfold,n_jobs=3,verbose=True)\n",
    "    grid_search.fit(x,y)\n",
    "    get_params(grid_search,model_name)\n",
    "    acc_train=accuracy_score(y,grid_search.predict(x))\n",
    "    print(\"Accuracy of the \",model_name,\" model for the training data is:\",acc_train)\n",
    "    print(\"\\nConfusion Matrix for Training data is:\")\n",
    "    cm_train=get_cm(grid_search,x,y)\n",
    "    display(cm_train)\n",
    "    acc_test=accuracy_score(y_test,grid_search.predict(x_test))\n",
    "    print(\"Accuracy of the \",model_name,\" model for test data is:\",acc_test)\n",
    "    print(\"\\nConfusion Matrix for test data is:\")\n",
    "    cm_test=get_cm(grid_search,x_test,y_test)\n",
    "    display(cm_test)\n",
    "    fpr, tpr, threshold = roc_curve(y_test, grid_search.predict(x_test))\n",
    "    roc_auc =auc(fpr, tpr)\n",
    "    return grid_search,cm_train,cm_test,acc_train,acc_test,roc_auc  \n",
    "\n",
    "### Plot roc curve\n",
    "def get_roc_curve(model,x_test,y_test):\n",
    "    prob=model.predict_proba(x_test)\n",
    "    preds=prob[:,1]\n",
    "    fpr, tpr, threshold = roc_curve(y_test, preds)\n",
    "    roc_auc =auc(fpr, tpr)\n",
    "    plt.figure(figsize=(10,8))\n",
    "    plt.title('Receiver Operating Characteristic')\n",
    "    plt.plot(fpr, tpr, 'b', label = 'AUC = %0.2f' % roc_auc)\n",
    "    plt.legend(loc = 'lower right')\n",
    "    plt.plot([0, 1], [0, 1],'r--')\n",
    "    plt.xlim([0, 1])\n",
    "    plt.ylim([0, 1])\n",
    "    plt.ylabel('True Positive Rate')\n",
    "    plt.xlabel('False Positive Rate')\n",
    "    plt.show()\n",
    "    i = np.arange(len(tpr)) \n",
    "    roc = pd.DataFrame({'fpr' : pd.Series(fpr, index=i),'tpr' : pd.Series(tpr, index = i), '1-fpr' : pd.Series(1-fpr, index = i), 'tf' : pd.Series(tpr - (1-fpr), index = i), 'thresholds' : pd.Series(threshold, index = i)})\n",
    "    threshold=roc.ix[(roc.tf-0).abs().argsort()[:1]]['thresholds'].values[0]\n",
    "    print(\"Optimal Threshold is\",threshold)\n",
    "    y_pred_class=binarize(preds.reshape(1,-1),threshold)[0]\n",
    "    accuracy=accuracy_score(y_test,y_pred_class)\n",
    "    print(\"Accuracy on test data is:\",accuracy)\n",
    "    cm=ConfusionMatrix(y_test,y_pred_class)\n",
    "    display(cm)\n",
    "    return cm,accuracy,threshold,roc_auc\n",
    "\n",
    "def get_roc_curve_deep_learning(model,x_test,y_test):\n",
    "    prob=model.predict_proba(x_test)\n",
    "    preds=prob\n",
    "    fpr, tpr, threshold = roc_curve(y_test, preds)\n",
    "    roc_auc =auc(fpr, tpr)\n",
    "    plt.figure(figsize=(10,8))\n",
    "    plt.title('Receiver Operating Characteristic')\n",
    "    plt.plot(fpr, tpr, 'b', label = 'AUC = %0.2f' % roc_auc)\n",
    "    plt.legend(loc = 'lower right')\n",
    "    plt.plot([0, 1], [0, 1],'r--')\n",
    "    plt.xlim([0, 1])\n",
    "    plt.ylim([0, 1])\n",
    "    plt.ylabel('True Positive Rate')\n",
    "    plt.xlabel('False Positive Rate')\n",
    "    plt.show()\n",
    "    i = np.arange(len(tpr)) \n",
    "    roc = pd.DataFrame({'fpr' : pd.Series(fpr, index=i),'tpr' : pd.Series(tpr, index = i), '1-fpr' : pd.Series(1-fpr, index = i), 'tf' : pd.Series(tpr - (1-fpr), index = i), 'thresholds' : pd.Series(threshold, index = i)})\n",
    "    threshold=roc.ix[(roc.tf-0).abs().argsort()[:1]]['thresholds'].values[0]\n",
    "    print(\"Optimal Threshold is\",threshold)\n",
    "    y_pred_class=binarize(preds.reshape(1,-1),threshold)[0]\n",
    "    accuracy=accuracy_score(y_test,y_pred_class)\n",
    "    print(\"Accuracy of Logistic Model on training data is:\",accuracy)\n",
    "    cm=ConfusionMatrix(y_test,y_pred_class)\n",
    "    display(cm)\n",
    "    return cm,accuracy,threshold,roc_auc"
   ]
  },
  {
   "cell_type": "code",
   "execution_count": 6,
   "metadata": {
    "collapsed": true
   },
   "outputs": [],
   "source": [
    "df=pd.read_csv('Html.csv',index_col='domain')\n",
    "\n",
    "df.fillna(value=0,inplace=True)\n",
    "df.drop(['Target'],axis=1,inplace=True)"
   ]
  },
  {
   "cell_type": "code",
   "execution_count": 7,
   "metadata": {
    "collapsed": true
   },
   "outputs": [],
   "source": [
    "X=df.loc[:,df.columns!='Malicious']\n",
    "X.drop(['number_of_unsecure_cookies','number_of_secure_cookies','number_of_non_http_only_cookies','number_of_http_only_cookies',\n",
    " 'number_of_cookies'],axis=1,inplace=True)\n",
    "y=df.Malicious.values\n",
    "feature_name = X.columns.tolist()"
   ]
  },
  {
   "cell_type": "code",
   "execution_count": 8,
   "metadata": {
    "collapsed": true
   },
   "outputs": [],
   "source": [
    "def cor_selector(X, y):\n",
    "    cor_list = []\n",
    "    # calculate the correlation with y for each feature\n",
    "    for i in X.columns.tolist():\n",
    "        cor = np.corrcoef(X[i], y)[0, 1]\n",
    "        cor_list.append(cor)\n",
    "    # replace NaN with 0\n",
    "    cor_list = [0 if np.isnan(i) else i for i in cor_list]\n",
    "    # feature name\n",
    "    cor_feature = X.iloc[:,np.argsort(np.abs(cor_list))[-100:]].columns.tolist()\n",
    "    # feature selection? 0 for not select, 1 for select\n",
    "    cor_support = [True if i in cor_feature else False for i in feature_name]\n",
    "    return cor_support, cor_feature\n",
    "\n",
    "\n",
    "cor_support, cor_feature = cor_selector(X, y)\n",
    "\n",
    "\n",
    "X_norm = MinMaxScaler().fit_transform(X)\n",
    "chi_selector = SelectKBest(chi2, k=100)\n",
    "chi_selector.fit(X_norm, y)\n",
    "chi_support = chi_selector.get_support()\n",
    "chi_feature = X.loc[:,chi_support].columns.tolist()\n",
    "\n",
    "\n",
    "rfe_selector = RFE(estimator=LogisticRegression(), n_features_to_select=100, step=10, verbose=False)\n",
    "rfe_selector.fit(X_norm, y)\n",
    "rfe_support = rfe_selector.get_support()\n",
    "rfe_feature = X.loc[:,rfe_support].columns.tolist()\n",
    "\n",
    "\n",
    "embeded_rf_selector = SelectFromModel(RandomForestClassifier(n_estimators=100), threshold='23*median')\n",
    "embeded_rf_selector.fit(X, y)\n",
    "embeded_rf_support = embeded_rf_selector.get_support()\n",
    "embeded_rf_feature = X.loc[:,embeded_rf_support].columns.tolist()\n",
    "\n",
    "\n",
    "feature_selection_df = pd.DataFrame({'Feature':feature_name, 'Pearson':cor_support, 'Chi-2':chi_support, 'RFE':rfe_support,\n",
    "                                    'Random Forest':embeded_rf_support})\n",
    "# count the selected times for each feature\n",
    "feature_selection_df['Total'] = np.sum(feature_selection_df, axis=1)\n",
    "# display the top 100\n",
    "feature_selection_df = feature_selection_df.sort_values(['Total','Feature'] , ascending=False)\n",
    "feature_selection_df.index = range(1, len(feature_selection_df)+1)"
   ]
  },
  {
   "cell_type": "code",
   "execution_count": 9,
   "metadata": {},
   "outputs": [
    {
     "name": "stdout",
     "output_type": "stream",
     "text": [
      "The train/test split ratio is 80:20\n"
     ]
    },
    {
     "data": {
      "text/plain": [
       "(44665, 44)"
      ]
     },
     "execution_count": 9,
     "metadata": {},
     "output_type": "execute_result"
    }
   ],
   "source": [
    "X=df[feature_selection_df[feature_selection_df.Total==4]['Feature']]\n",
    "y=df.Malicious.values\n",
    "feature_name = X.columns.tolist()\n",
    "\n",
    "scaler=StandardScaler()\n",
    "scaled_X=scaler.fit_transform(X)\n",
    "\n",
    "print(\"The train/test split ratio is 80:20\")\n",
    "X_train, X_test, Y_train, Y_test = train_test_split(scaled_X,y,random_state=0,test_size=0.2)\n",
    "\n",
    "X.shape"
   ]
  },
  {
   "cell_type": "code",
   "execution_count": 10,
   "metadata": {
    "collapsed": true
   },
   "outputs": [],
   "source": [
    "## Table to store training and test measures\n",
    "table_80_50_train=pd.DataFrame(columns=['accuracy','TP','TN','FP','FN','FPR','FNR'])\n",
    "table_80_50_test=pd.DataFrame(columns=['accuracy','TP','TN','FP','FN','FPR','FNR','auc'])"
   ]
  },
  {
   "cell_type": "markdown",
   "metadata": {},
   "source": [
    "#### 1. Deep Learning"
   ]
  },
  {
   "cell_type": "code",
   "execution_count": 11,
   "metadata": {},
   "outputs": [
    {
     "name": "stdout",
     "output_type": "stream",
     "text": [
      "The accuracy of the model on training data is: 0.8801354528154035\n"
     ]
    },
    {
     "data": {
      "text/plain": [
       "Predicted  False  True  __all__\n",
       "Actual                         \n",
       "False      26754  3889    30643\n",
       "True         394  4695     5089\n",
       "__all__    27148  8584    35732"
      ]
     },
     "metadata": {},
     "output_type": "display_data"
    },
    {
     "name": "stdout",
     "output_type": "stream",
     "text": [
      "The accuracy of the model on test data is: 0.8722713534087093\n"
     ]
    },
    {
     "data": {
      "text/plain": [
       "Predicted  False  True  __all__\n",
       "Actual                         \n",
       "False       6638  1004     7642\n",
       "True         137  1154     1291\n",
       "__all__     6775  2158     8933"
      ]
     },
     "metadata": {},
     "output_type": "display_data"
    }
   ],
   "source": [
    "np.random.seed(0)\n",
    "deep_learning=Sequential()\n",
    "deep_learning.add(Dense(units=64,activation='relu',use_bias=True,kernel_initializer='uniform',input_dim=X.shape[1]))\n",
    "deep_learning.add(Dense(units=128,activation='relu',use_bias=True,kernel_initializer='uniform'))\n",
    "deep_learning.add(Dense(units=1,activation='sigmoid',use_bias=True,kernel_initializer='uniform'))\n",
    "deep_learning.compile(optimizer='adam',loss='binary_crossentropy',metrics=['accuracy'])\n",
    "deep_learning.fit(X_train,Y_train,batch_size=20,epochs=20,verbose=False)\n",
    "\n",
    "acc_train=deep_learning.evaluate(X_train,Y_train,verbose=False)[1]\n",
    "print(\"The accuracy of the model on training data is:\",acc_train)\n",
    "cm_train=ConfusionMatrix(Y_train,deep_learning.predict_classes(X_train,batch_size=1,verbose=False).reshape(1,len(X_train))[0])\n",
    "cm_test=ConfusionMatrix(Y_test,deep_learning.predict_classes(X_test,batch_size=1,verbose=False).reshape(1,len(X_test))[0])\n",
    "display(cm_train)\n",
    "acc_test=accuracy_score(Y_test,deep_learning.predict_classes(X_test,batch_size=1,verbose=False))\n",
    "print(\"The accuracy of the model on test data is:\",acc_test)\n",
    "display(cm_test)\n",
    "fpr, tpr, threshold = roc_curve(Y_test, deep_learning.predict_classes(X_test,batch_size=1,verbose=False).reshape(1,len(X_test))[0])\n",
    "auc=metrics.auc(fpr, tpr)\n",
    "\n",
    "table_80_50_train.loc[0]=([acc_train,cm_train.TP,cm_train.TN,cm_train.FP,cm_train.FN,cm_train.FPR,cm_train.FNR])\n",
    "table_80_50_test.loc[0]=([acc_test,cm_test.TP,cm_test.TN,cm_test.FP,cm_test.FN,cm_test.FPR,cm_test.FNR,auc])"
   ]
  },
  {
   "cell_type": "markdown",
   "metadata": {},
   "source": [
    "#### 2. KNN"
   ]
  },
  {
   "cell_type": "code",
   "execution_count": 12,
   "metadata": {},
   "outputs": [
    {
     "name": "stdout",
     "output_type": "stream",
     "text": [
      "The accuracy of the model on training data is:  0.8849770513825143\n"
     ]
    },
    {
     "data": {
      "text/plain": [
       "Predicted  False  True  __all__\n",
       "Actual                         \n",
       "False      26929  3714    30643\n",
       "True         396  4693     5089\n",
       "__all__    27325  8407    35732"
      ]
     },
     "metadata": {},
     "output_type": "display_data"
    },
    {
     "name": "stdout",
     "output_type": "stream",
     "text": [
      "The accuracy of the model on test data is: 0.8793238553677376\n"
     ]
    },
    {
     "data": {
      "text/plain": [
       "Predicted  False  True  __all__\n",
       "Actual                         \n",
       "False       6681   961     7642\n",
       "True         117  1174     1291\n",
       "__all__     6798  2135     8933"
      ]
     },
     "metadata": {},
     "output_type": "display_data"
    }
   ],
   "source": [
    "knn=KNeighborsClassifier()\n",
    "knn.fit(X_train,Y_train)\n",
    "acc_train=knn.score(X_train,Y_train)\n",
    "print(\"The accuracy of the model on training data is: \",knn.score(X_train,Y_train))\n",
    "cm_train=get_cm(knn,X_train,Y_train)\n",
    "display(cm_train)\n",
    "acc_test=accuracy_score(Y_test,knn.predict(X_test))\n",
    "print(\"The accuracy of the model on test data is:\",acc_test)\n",
    "cm_test=get_cm(knn,X_test,Y_test)\n",
    "display(cm_test)\n",
    "fpr, tpr, threshold = roc_curve(Y_test,knn.predict(X_test))\n",
    "auc=metrics.auc(fpr, tpr)\n",
    "\n",
    "table_80_50_train.loc[1]= ([acc_train,cm_train.TP,cm_train.TN,cm_train.FP,cm_train.FN,cm_train.FPR,cm_train.FNR])\n",
    "table_80_50_test.loc[1] = ([acc_test ,cm_test.TP, cm_test.TN, cm_test.FP, cm_test.FN, cm_test.FPR, cm_test.FNR,auc])"
   ]
  },
  {
   "cell_type": "markdown",
   "metadata": {},
   "source": [
    "#### 3. Logistic Regression"
   ]
  },
  {
   "cell_type": "code",
   "execution_count": 13,
   "metadata": {},
   "outputs": [
    {
     "name": "stdout",
     "output_type": "stream",
     "text": [
      "The accuracy of the model on training data is:  0.8568789880219411\n"
     ]
    },
    {
     "data": {
      "text/plain": [
       "Predicted  False  True  __all__\n",
       "Actual                         \n",
       "False      30565    78    30643\n",
       "True        5036    53     5089\n",
       "__all__    35601   131    35732"
      ]
     },
     "metadata": {},
     "output_type": "display_data"
    },
    {
     "name": "stdout",
     "output_type": "stream",
     "text": [
      "The accuracy of the model on test data is: 0.8553677376021493\n"
     ]
    },
    {
     "data": {
      "text/plain": [
       "Predicted  False  True  __all__\n",
       "Actual                         \n",
       "False       7624    18     7642\n",
       "True        1274    17     1291\n",
       "__all__     8898    35     8933"
      ]
     },
     "metadata": {},
     "output_type": "display_data"
    }
   ],
   "source": [
    "logistic=LogisticRegression()\n",
    "logistic.fit(X_train,Y_train)\n",
    "acc_train=logistic.score(X_train,Y_train)\n",
    "print(\"The accuracy of the model on training data is: \",logistic.score(X_train,Y_train))\n",
    "cm_train=get_cm(logistic,X_train,Y_train)\n",
    "display(cm_train)\n",
    "acc_test=accuracy_score(Y_test,logistic.predict(X_test))\n",
    "print(\"The accuracy of the model on test data is:\",acc_test)\n",
    "cm_test=get_cm(logistic,X_test,Y_test)\n",
    "display(cm_test)\n",
    "fpr, tpr, threshold = roc_curve(Y_test,logistic.predict(X_test))\n",
    "auc=metrics.auc(fpr, tpr)\n",
    "\n",
    "table_80_50_train.loc[2]=   ([acc_train,cm_train.TP,cm_train.TN,cm_train.FP,cm_train.FN,cm_train.FPR,cm_train.FNR])\n",
    "table_80_50_test.loc[2] =   ([acc_test ,cm_test.TP, cm_test.TN, cm_test.FP, cm_test.FN, cm_test.FPR, cm_test.FNR,auc])"
   ]
  },
  {
   "cell_type": "markdown",
   "metadata": {},
   "source": [
    "#### 4. Random Forest"
   ]
  },
  {
   "cell_type": "code",
   "execution_count": 14,
   "metadata": {},
   "outputs": [
    {
     "name": "stdout",
     "output_type": "stream",
     "text": [
      "The accuracy of the model on training data is:  0.8952479570133214\n"
     ]
    },
    {
     "data": {
      "text/plain": [
       "Predicted  False  True  __all__\n",
       "Actual                         \n",
       "False      27036  3607    30643\n",
       "True         136  4953     5089\n",
       "__all__    27172  8560    35732"
      ]
     },
     "metadata": {},
     "output_type": "display_data"
    },
    {
     "name": "stdout",
     "output_type": "stream",
     "text": [
      "The accuracy of the model on test data is: 0.8835777454382626\n"
     ]
    },
    {
     "data": {
      "text/plain": [
       "Predicted  False  True  __all__\n",
       "Actual                         \n",
       "False       6709   933     7642\n",
       "True         107  1184     1291\n",
       "__all__     6816  2117     8933"
      ]
     },
     "metadata": {},
     "output_type": "display_data"
    }
   ],
   "source": [
    "rf=RandomForestClassifier()\n",
    "rf.fit(X_train,Y_train)\n",
    "acc_train=rf.score(X_train,Y_train)\n",
    "print(\"The accuracy of the model on training data is: \",rf.score(X_train,Y_train))\n",
    "cm_train=get_cm(rf,X_train,Y_train)\n",
    "display(cm_train)\n",
    "acc_test=accuracy_score(Y_test,rf.predict(X_test))\n",
    "print(\"The accuracy of the model on test data is:\",acc_test)\n",
    "cm_test=get_cm(rf,X_test,Y_test)\n",
    "display(cm_test)\n",
    "fpr, tpr, threshold = roc_curve(Y_test,rf.predict(X_test))\n",
    "auc=metrics.auc(fpr, tpr)\n",
    "\n",
    "table_80_50_train.loc[3]=   ([acc_train,cm_train.TP,cm_train.TN,cm_train.FP,cm_train.FN,cm_train.FPR,cm_train.FNR])\n",
    "table_80_50_test.loc[3] =   ([acc_test ,cm_test.TP, cm_test.TN, cm_test.FP, cm_test.FN, cm_test.FPR, cm_test.FNR,auc])"
   ]
  },
  {
   "cell_type": "code",
   "execution_count": 15,
   "metadata": {},
   "outputs": [
    {
     "data": {
      "text/html": [
       "<div>\n",
       "<style scoped>\n",
       "    .dataframe tbody tr th:only-of-type {\n",
       "        vertical-align: middle;\n",
       "    }\n",
       "\n",
       "    .dataframe tbody tr th {\n",
       "        vertical-align: top;\n",
       "    }\n",
       "\n",
       "    .dataframe thead th {\n",
       "        text-align: right;\n",
       "    }\n",
       "</style>\n",
       "<table border=\"1\" class=\"dataframe\">\n",
       "  <thead>\n",
       "    <tr style=\"text-align: right;\">\n",
       "      <th></th>\n",
       "      <th>Feature Importance</th>\n",
       "    </tr>\n",
       "  </thead>\n",
       "  <tbody>\n",
       "    <tr>\n",
       "      <th>a_href_relative</th>\n",
       "      <td>0.201828</td>\n",
       "    </tr>\n",
       "    <tr>\n",
       "      <th>script_count</th>\n",
       "      <td>0.146124</td>\n",
       "    </tr>\n",
       "    <tr>\n",
       "      <th>script_src_relative</th>\n",
       "      <td>0.131929</td>\n",
       "    </tr>\n",
       "    <tr>\n",
       "      <th>a_count</th>\n",
       "      <td>0.078246</td>\n",
       "    </tr>\n",
       "    <tr>\n",
       "      <th>script_src_absolute</th>\n",
       "      <td>0.078077</td>\n",
       "    </tr>\n",
       "    <tr>\n",
       "      <th>a_href_absolute</th>\n",
       "      <td>0.075551</td>\n",
       "    </tr>\n",
       "    <tr>\n",
       "      <th>div_count</th>\n",
       "      <td>0.029226</td>\n",
       "    </tr>\n",
       "    <tr>\n",
       "      <th>a_href_out_of_domain</th>\n",
       "      <td>0.023270</td>\n",
       "    </tr>\n",
       "    <tr>\n",
       "      <th>script_src_https</th>\n",
       "      <td>0.019883</td>\n",
       "    </tr>\n",
       "    <tr>\n",
       "      <th>link_type_text/css</th>\n",
       "      <td>0.019035</td>\n",
       "    </tr>\n",
       "    <tr>\n",
       "      <th>link_href_out_of_domain</th>\n",
       "      <td>0.016026</td>\n",
       "    </tr>\n",
       "    <tr>\n",
       "      <th>script_type_text/javascript</th>\n",
       "      <td>0.012935</td>\n",
       "    </tr>\n",
       "    <tr>\n",
       "      <th>link_href_.css</th>\n",
       "      <td>0.012896</td>\n",
       "    </tr>\n",
       "    <tr>\n",
       "      <th>link_href_https</th>\n",
       "      <td>0.012815</td>\n",
       "    </tr>\n",
       "    <tr>\n",
       "      <th>span_count</th>\n",
       "      <td>0.012405</td>\n",
       "    </tr>\n",
       "    <tr>\n",
       "      <th>img_src_.png</th>\n",
       "      <td>0.011516</td>\n",
       "    </tr>\n",
       "    <tr>\n",
       "      <th>meta_http-equiv_Content-Type</th>\n",
       "      <td>0.011177</td>\n",
       "    </tr>\n",
       "    <tr>\n",
       "      <th>script_src_.js</th>\n",
       "      <td>0.009112</td>\n",
       "    </tr>\n",
       "    <tr>\n",
       "      <th>script_src_out_of_domain</th>\n",
       "      <td>0.009064</td>\n",
       "    </tr>\n",
       "    <tr>\n",
       "      <th>meta_http-equiv_X-UA-Compatible</th>\n",
       "      <td>0.009030</td>\n",
       "    </tr>\n",
       "    <tr>\n",
       "      <th>script_async_true</th>\n",
       "      <td>0.008811</td>\n",
       "    </tr>\n",
       "    <tr>\n",
       "      <th>img_src_.jpg</th>\n",
       "      <td>0.008387</td>\n",
       "    </tr>\n",
       "    <tr>\n",
       "      <th>meta_charset_utf-8</th>\n",
       "      <td>0.007601</td>\n",
       "    </tr>\n",
       "    <tr>\n",
       "      <th>img_src_https</th>\n",
       "      <td>0.006946</td>\n",
       "    </tr>\n",
       "    <tr>\n",
       "      <th>iframe_src_absolute</th>\n",
       "      <td>0.006902</td>\n",
       "    </tr>\n",
       "    <tr>\n",
       "      <th>iframe_src_relative</th>\n",
       "      <td>0.005755</td>\n",
       "    </tr>\n",
       "    <tr>\n",
       "      <th>iframe_count</th>\n",
       "      <td>0.004732</td>\n",
       "    </tr>\n",
       "    <tr>\n",
       "      <th>link_rel_icon</th>\n",
       "      <td>0.004618</td>\n",
       "    </tr>\n",
       "    <tr>\n",
       "      <th>link_href_.ico</th>\n",
       "      <td>0.003314</td>\n",
       "    </tr>\n",
       "    <tr>\n",
       "      <th>meta_charset_UTF-8</th>\n",
       "      <td>0.003191</td>\n",
       "    </tr>\n",
       "    <tr>\n",
       "      <th>link_rel_shortcut icon</th>\n",
       "      <td>0.003077</td>\n",
       "    </tr>\n",
       "    <tr>\n",
       "      <th>link_type_image/x-icon</th>\n",
       "      <td>0.002399</td>\n",
       "    </tr>\n",
       "    <tr>\n",
       "      <th>iframe_src_https</th>\n",
       "      <td>0.002231</td>\n",
       "    </tr>\n",
       "    <tr>\n",
       "      <th>link_href_.png</th>\n",
       "      <td>0.001997</td>\n",
       "    </tr>\n",
       "    <tr>\n",
       "      <th>article_count</th>\n",
       "      <td>0.001974</td>\n",
       "    </tr>\n",
       "    <tr>\n",
       "      <th>iframe_src_out_of_domain</th>\n",
       "      <td>0.001886</td>\n",
       "    </tr>\n",
       "    <tr>\n",
       "      <th>link_rel_pingback</th>\n",
       "      <td>0.001580</td>\n",
       "    </tr>\n",
       "    <tr>\n",
       "      <th>link_rel_apple-touch-icon-precomposed</th>\n",
       "      <td>0.000976</td>\n",
       "    </tr>\n",
       "    <tr>\n",
       "      <th>link_type_image/png</th>\n",
       "      <td>0.000830</td>\n",
       "    </tr>\n",
       "    <tr>\n",
       "      <th>link_rel_canonical</th>\n",
       "      <td>0.000706</td>\n",
       "    </tr>\n",
       "    <tr>\n",
       "      <th>base_href_out_of_domain</th>\n",
       "      <td>0.000643</td>\n",
       "    </tr>\n",
       "    <tr>\n",
       "      <th>iframe_src_.html</th>\n",
       "      <td>0.000518</td>\n",
       "    </tr>\n",
       "    <tr>\n",
       "      <th>link_rel_mask-icon</th>\n",
       "      <td>0.000426</td>\n",
       "    </tr>\n",
       "    <tr>\n",
       "      <th>link_rel_manifest</th>\n",
       "      <td>0.000353</td>\n",
       "    </tr>\n",
       "  </tbody>\n",
       "</table>\n",
       "</div>"
      ],
      "text/plain": [
       "                                       Feature Importance\n",
       "a_href_relative                                  0.201828\n",
       "script_count                                     0.146124\n",
       "script_src_relative                              0.131929\n",
       "a_count                                          0.078246\n",
       "script_src_absolute                              0.078077\n",
       "a_href_absolute                                  0.075551\n",
       "div_count                                        0.029226\n",
       "a_href_out_of_domain                             0.023270\n",
       "script_src_https                                 0.019883\n",
       "link_type_text/css                               0.019035\n",
       "link_href_out_of_domain                          0.016026\n",
       "script_type_text/javascript                      0.012935\n",
       "link_href_.css                                   0.012896\n",
       "link_href_https                                  0.012815\n",
       "span_count                                       0.012405\n",
       "img_src_.png                                     0.011516\n",
       "meta_http-equiv_Content-Type                     0.011177\n",
       "script_src_.js                                   0.009112\n",
       "script_src_out_of_domain                         0.009064\n",
       "meta_http-equiv_X-UA-Compatible                  0.009030\n",
       "script_async_true                                0.008811\n",
       "img_src_.jpg                                     0.008387\n",
       "meta_charset_utf-8                               0.007601\n",
       "img_src_https                                    0.006946\n",
       "iframe_src_absolute                              0.006902\n",
       "iframe_src_relative                              0.005755\n",
       "iframe_count                                     0.004732\n",
       "link_rel_icon                                    0.004618\n",
       "link_href_.ico                                   0.003314\n",
       "meta_charset_UTF-8                               0.003191\n",
       "link_rel_shortcut icon                           0.003077\n",
       "link_type_image/x-icon                           0.002399\n",
       "iframe_src_https                                 0.002231\n",
       "link_href_.png                                   0.001997\n",
       "article_count                                    0.001974\n",
       "iframe_src_out_of_domain                         0.001886\n",
       "link_rel_pingback                                0.001580\n",
       "link_rel_apple-touch-icon-precomposed            0.000976\n",
       "link_type_image/png                              0.000830\n",
       "link_rel_canonical                               0.000706\n",
       "base_href_out_of_domain                          0.000643\n",
       "iframe_src_.html                                 0.000518\n",
       "link_rel_mask-icon                               0.000426\n",
       "link_rel_manifest                                0.000353"
      ]
     },
     "execution_count": 15,
     "metadata": {},
     "output_type": "execute_result"
    }
   ],
   "source": [
    "f_r=pd.DataFrame(rf.feature_importances_,index=feature_name)\n",
    "f_r.columns=['Feature Importance']\n",
    "f_r.sort_values(by='Feature Importance',ascending=False,inplace=True)\n",
    "f_r"
   ]
  },
  {
   "cell_type": "markdown",
   "metadata": {},
   "source": [
    "##### 5. AdaBoost Classifier"
   ]
  },
  {
   "cell_type": "code",
   "execution_count": 16,
   "metadata": {},
   "outputs": [
    {
     "name": "stdout",
     "output_type": "stream",
     "text": [
      "The accuracy of the model on training data is:  0.8660304488973469\n"
     ]
    },
    {
     "data": {
      "text/plain": [
       "Predicted  False  True  __all__\n",
       "Actual                         \n",
       "False      26517  4126    30643\n",
       "True         661  4428     5089\n",
       "__all__    27178  8554    35732"
      ]
     },
     "metadata": {},
     "output_type": "display_data"
    },
    {
     "name": "stdout",
     "output_type": "stream",
     "text": [
      "The accuracy of the model on test data is: 0.8619724616590171\n"
     ]
    },
    {
     "data": {
      "text/plain": [
       "Predicted  False  True  __all__\n",
       "Actual                         \n",
       "False       6565  1077     7642\n",
       "True         156  1135     1291\n",
       "__all__     6721  2212     8933"
      ]
     },
     "metadata": {},
     "output_type": "display_data"
    }
   ],
   "source": [
    "ada=AdaBoostClassifier()\n",
    "ada.fit(X_train,Y_train)\n",
    "acc_train=ada.score(X_train,Y_train)\n",
    "print(\"The accuracy of the model on training data is: \",ada.score(X_train,Y_train))\n",
    "cm_train=get_cm(ada,X_train,Y_train)\n",
    "display(cm_train)\n",
    "acc_test=accuracy_score(Y_test,ada.predict(X_test))\n",
    "print(\"The accuracy of the model on test data is:\",acc_test)\n",
    "cm_test=get_cm(ada,X_test,Y_test)\n",
    "display(cm_test)\n",
    "fpr, tpr, threshold = roc_curve(Y_test,ada.predict(X_test))\n",
    "auc=metrics.auc(fpr, tpr)\n",
    "\n",
    "table_80_50_train.loc[4]=   ([acc_train,cm_train.TP,cm_train.TN,cm_train.FP,cm_train.FN,cm_train.FPR,cm_train.FNR])\n",
    "table_80_50_test.loc[4] =   ([acc_test ,cm_test.TP, cm_test.TN, cm_test.FP, cm_test.FN, cm_test.FPR, cm_test.FNR,auc])"
   ]
  },
  {
   "cell_type": "code",
   "execution_count": 17,
   "metadata": {},
   "outputs": [
    {
     "data": {
      "text/html": [
       "<div>\n",
       "<style scoped>\n",
       "    .dataframe tbody tr th:only-of-type {\n",
       "        vertical-align: middle;\n",
       "    }\n",
       "\n",
       "    .dataframe tbody tr th {\n",
       "        vertical-align: top;\n",
       "    }\n",
       "\n",
       "    .dataframe thead th {\n",
       "        text-align: right;\n",
       "    }\n",
       "</style>\n",
       "<table border=\"1\" class=\"dataframe\">\n",
       "  <thead>\n",
       "    <tr style=\"text-align: right;\">\n",
       "      <th></th>\n",
       "      <th>Feature Importance</th>\n",
       "    </tr>\n",
       "  </thead>\n",
       "  <tbody>\n",
       "    <tr>\n",
       "      <th>a_href_out_of_domain</th>\n",
       "      <td>0.16</td>\n",
       "    </tr>\n",
       "    <tr>\n",
       "      <th>script_count</th>\n",
       "      <td>0.14</td>\n",
       "    </tr>\n",
       "    <tr>\n",
       "      <th>link_href_out_of_domain</th>\n",
       "      <td>0.08</td>\n",
       "    </tr>\n",
       "    <tr>\n",
       "      <th>script_type_text/javascript</th>\n",
       "      <td>0.06</td>\n",
       "    </tr>\n",
       "    <tr>\n",
       "      <th>script_src_https</th>\n",
       "      <td>0.06</td>\n",
       "    </tr>\n",
       "    <tr>\n",
       "      <th>script_async_true</th>\n",
       "      <td>0.06</td>\n",
       "    </tr>\n",
       "    <tr>\n",
       "      <th>link_type_text/css</th>\n",
       "      <td>0.04</td>\n",
       "    </tr>\n",
       "    <tr>\n",
       "      <th>div_count</th>\n",
       "      <td>0.04</td>\n",
       "    </tr>\n",
       "    <tr>\n",
       "      <th>iframe_src_.html</th>\n",
       "      <td>0.04</td>\n",
       "    </tr>\n",
       "    <tr>\n",
       "      <th>img_src_.jpg</th>\n",
       "      <td>0.04</td>\n",
       "    </tr>\n",
       "    <tr>\n",
       "      <th>img_src_https</th>\n",
       "      <td>0.04</td>\n",
       "    </tr>\n",
       "    <tr>\n",
       "      <th>span_count</th>\n",
       "      <td>0.02</td>\n",
       "    </tr>\n",
       "    <tr>\n",
       "      <th>link_href_.css</th>\n",
       "      <td>0.02</td>\n",
       "    </tr>\n",
       "    <tr>\n",
       "      <th>iframe_src_absolute</th>\n",
       "      <td>0.02</td>\n",
       "    </tr>\n",
       "    <tr>\n",
       "      <th>iframe_src_out_of_domain</th>\n",
       "      <td>0.02</td>\n",
       "    </tr>\n",
       "    <tr>\n",
       "      <th>link_rel_manifest</th>\n",
       "      <td>0.02</td>\n",
       "    </tr>\n",
       "    <tr>\n",
       "      <th>a_href_relative</th>\n",
       "      <td>0.02</td>\n",
       "    </tr>\n",
       "    <tr>\n",
       "      <th>link_rel_canonical</th>\n",
       "      <td>0.02</td>\n",
       "    </tr>\n",
       "    <tr>\n",
       "      <th>link_rel_apple-touch-icon-precomposed</th>\n",
       "      <td>0.02</td>\n",
       "    </tr>\n",
       "    <tr>\n",
       "      <th>a_count</th>\n",
       "      <td>0.02</td>\n",
       "    </tr>\n",
       "    <tr>\n",
       "      <th>link_rel_pingback</th>\n",
       "      <td>0.02</td>\n",
       "    </tr>\n",
       "    <tr>\n",
       "      <th>script_src_out_of_domain</th>\n",
       "      <td>0.02</td>\n",
       "    </tr>\n",
       "    <tr>\n",
       "      <th>meta_charset_utf-8</th>\n",
       "      <td>0.02</td>\n",
       "    </tr>\n",
       "    <tr>\n",
       "      <th>iframe_src_https</th>\n",
       "      <td>0.00</td>\n",
       "    </tr>\n",
       "    <tr>\n",
       "      <th>a_href_absolute</th>\n",
       "      <td>0.00</td>\n",
       "    </tr>\n",
       "    <tr>\n",
       "      <th>script_src_relative</th>\n",
       "      <td>0.00</td>\n",
       "    </tr>\n",
       "    <tr>\n",
       "      <th>article_count</th>\n",
       "      <td>0.00</td>\n",
       "    </tr>\n",
       "    <tr>\n",
       "      <th>base_href_out_of_domain</th>\n",
       "      <td>0.00</td>\n",
       "    </tr>\n",
       "    <tr>\n",
       "      <th>script_src_absolute</th>\n",
       "      <td>0.00</td>\n",
       "    </tr>\n",
       "    <tr>\n",
       "      <th>iframe_count</th>\n",
       "      <td>0.00</td>\n",
       "    </tr>\n",
       "    <tr>\n",
       "      <th>script_src_.js</th>\n",
       "      <td>0.00</td>\n",
       "    </tr>\n",
       "    <tr>\n",
       "      <th>meta_http-equiv_X-UA-Compatible</th>\n",
       "      <td>0.00</td>\n",
       "    </tr>\n",
       "    <tr>\n",
       "      <th>link_rel_mask-icon</th>\n",
       "      <td>0.00</td>\n",
       "    </tr>\n",
       "    <tr>\n",
       "      <th>meta_http-equiv_Content-Type</th>\n",
       "      <td>0.00</td>\n",
       "    </tr>\n",
       "    <tr>\n",
       "      <th>link_rel_icon</th>\n",
       "      <td>0.00</td>\n",
       "    </tr>\n",
       "    <tr>\n",
       "      <th>img_src_.png</th>\n",
       "      <td>0.00</td>\n",
       "    </tr>\n",
       "    <tr>\n",
       "      <th>meta_charset_UTF-8</th>\n",
       "      <td>0.00</td>\n",
       "    </tr>\n",
       "    <tr>\n",
       "      <th>link_type_image/x-icon</th>\n",
       "      <td>0.00</td>\n",
       "    </tr>\n",
       "    <tr>\n",
       "      <th>link_href_.ico</th>\n",
       "      <td>0.00</td>\n",
       "    </tr>\n",
       "    <tr>\n",
       "      <th>link_href_.png</th>\n",
       "      <td>0.00</td>\n",
       "    </tr>\n",
       "    <tr>\n",
       "      <th>link_href_https</th>\n",
       "      <td>0.00</td>\n",
       "    </tr>\n",
       "    <tr>\n",
       "      <th>link_type_image/png</th>\n",
       "      <td>0.00</td>\n",
       "    </tr>\n",
       "    <tr>\n",
       "      <th>link_rel_shortcut icon</th>\n",
       "      <td>0.00</td>\n",
       "    </tr>\n",
       "    <tr>\n",
       "      <th>iframe_src_relative</th>\n",
       "      <td>0.00</td>\n",
       "    </tr>\n",
       "  </tbody>\n",
       "</table>\n",
       "</div>"
      ],
      "text/plain": [
       "                                       Feature Importance\n",
       "a_href_out_of_domain                                 0.16\n",
       "script_count                                         0.14\n",
       "link_href_out_of_domain                              0.08\n",
       "script_type_text/javascript                          0.06\n",
       "script_src_https                                     0.06\n",
       "script_async_true                                    0.06\n",
       "link_type_text/css                                   0.04\n",
       "div_count                                            0.04\n",
       "iframe_src_.html                                     0.04\n",
       "img_src_.jpg                                         0.04\n",
       "img_src_https                                        0.04\n",
       "span_count                                           0.02\n",
       "link_href_.css                                       0.02\n",
       "iframe_src_absolute                                  0.02\n",
       "iframe_src_out_of_domain                             0.02\n",
       "link_rel_manifest                                    0.02\n",
       "a_href_relative                                      0.02\n",
       "link_rel_canonical                                   0.02\n",
       "link_rel_apple-touch-icon-precomposed                0.02\n",
       "a_count                                              0.02\n",
       "link_rel_pingback                                    0.02\n",
       "script_src_out_of_domain                             0.02\n",
       "meta_charset_utf-8                                   0.02\n",
       "iframe_src_https                                     0.00\n",
       "a_href_absolute                                      0.00\n",
       "script_src_relative                                  0.00\n",
       "article_count                                        0.00\n",
       "base_href_out_of_domain                              0.00\n",
       "script_src_absolute                                  0.00\n",
       "iframe_count                                         0.00\n",
       "script_src_.js                                       0.00\n",
       "meta_http-equiv_X-UA-Compatible                      0.00\n",
       "link_rel_mask-icon                                   0.00\n",
       "meta_http-equiv_Content-Type                         0.00\n",
       "link_rel_icon                                        0.00\n",
       "img_src_.png                                         0.00\n",
       "meta_charset_UTF-8                                   0.00\n",
       "link_type_image/x-icon                               0.00\n",
       "link_href_.ico                                       0.00\n",
       "link_href_.png                                       0.00\n",
       "link_href_https                                      0.00\n",
       "link_type_image/png                                  0.00\n",
       "link_rel_shortcut icon                               0.00\n",
       "iframe_src_relative                                  0.00"
      ]
     },
     "execution_count": 17,
     "metadata": {},
     "output_type": "execute_result"
    }
   ],
   "source": [
    "f_a=pd.DataFrame(ada.feature_importances_,index=feature_name)\n",
    "f_a.columns=['Feature Importance']\n",
    "f_a.sort_values(by='Feature Importance',ascending=False,inplace=True)\n",
    "f_a"
   ]
  },
  {
   "cell_type": "markdown",
   "metadata": {},
   "source": [
    "#### 6. Gradient Boosting Classifier"
   ]
  },
  {
   "cell_type": "code",
   "execution_count": 18,
   "metadata": {},
   "outputs": [
    {
     "name": "stdout",
     "output_type": "stream",
     "text": [
      "The accuracy of the model on training data is:  0.8828780924661368\n"
     ]
    },
    {
     "data": {
      "text/plain": [
       "Predicted  False  True  __all__\n",
       "Actual                         \n",
       "False      26995  3648    30643\n",
       "True         537  4552     5089\n",
       "__all__    27532  8200    35732"
      ]
     },
     "metadata": {},
     "output_type": "display_data"
    },
    {
     "name": "stdout",
     "output_type": "stream",
     "text": [
      "The accuracy of the model on test data is: 0.8785402440389567\n"
     ]
    },
    {
     "data": {
      "text/plain": [
       "Predicted  False  True  __all__\n",
       "Actual                         \n",
       "False       6702   940     7642\n",
       "True         145  1146     1291\n",
       "__all__     6847  2086     8933"
      ]
     },
     "metadata": {},
     "output_type": "display_data"
    }
   ],
   "source": [
    "gbc=GradientBoostingClassifier()\n",
    "gbc.fit(X_train,Y_train)\n",
    "acc_train=gbc.score(X_train,Y_train)\n",
    "print(\"The accuracy of the model on training data is: \",gbc.score(X_train,Y_train))\n",
    "cm_train=get_cm(gbc,X_train,Y_train)\n",
    "display(cm_train)\n",
    "acc_test=accuracy_score(Y_test,gbc.predict(X_test))\n",
    "print(\"The accuracy of the model on test data is:\",acc_test)\n",
    "cm_test=get_cm(gbc,X_test,Y_test)\n",
    "display(cm_test)\n",
    "fpr, tpr, threshold = roc_curve(Y_test,gbc.predict(X_test))\n",
    "auc=metrics.auc(fpr, tpr)\n",
    "\n",
    "table_80_50_train.loc[5]=   ([acc_train,cm_train.TP,cm_train.TN,cm_train.FP,cm_train.FN,cm_train.FPR,cm_train.FNR])\n",
    "table_80_50_test.loc[5] =   ([acc_test ,cm_test.TP, cm_test.TN, cm_test.FP, cm_test.FN, cm_test.FPR, cm_test.FNR,auc])"
   ]
  },
  {
   "cell_type": "code",
   "execution_count": 19,
   "metadata": {},
   "outputs": [
    {
     "data": {
      "text/html": [
       "<div>\n",
       "<style scoped>\n",
       "    .dataframe tbody tr th:only-of-type {\n",
       "        vertical-align: middle;\n",
       "    }\n",
       "\n",
       "    .dataframe tbody tr th {\n",
       "        vertical-align: top;\n",
       "    }\n",
       "\n",
       "    .dataframe thead th {\n",
       "        text-align: right;\n",
       "    }\n",
       "</style>\n",
       "<table border=\"1\" class=\"dataframe\">\n",
       "  <thead>\n",
       "    <tr style=\"text-align: right;\">\n",
       "      <th></th>\n",
       "      <th>Feature Importance</th>\n",
       "    </tr>\n",
       "  </thead>\n",
       "  <tbody>\n",
       "    <tr>\n",
       "      <th>script_count</th>\n",
       "      <td>0.157672</td>\n",
       "    </tr>\n",
       "    <tr>\n",
       "      <th>a_count</th>\n",
       "      <td>0.092821</td>\n",
       "    </tr>\n",
       "    <tr>\n",
       "      <th>link_href_out_of_domain</th>\n",
       "      <td>0.081341</td>\n",
       "    </tr>\n",
       "    <tr>\n",
       "      <th>a_href_out_of_domain</th>\n",
       "      <td>0.079311</td>\n",
       "    </tr>\n",
       "    <tr>\n",
       "      <th>div_count</th>\n",
       "      <td>0.064806</td>\n",
       "    </tr>\n",
       "    <tr>\n",
       "      <th>link_type_text/css</th>\n",
       "      <td>0.056499</td>\n",
       "    </tr>\n",
       "    <tr>\n",
       "      <th>a_href_absolute</th>\n",
       "      <td>0.052835</td>\n",
       "    </tr>\n",
       "    <tr>\n",
       "      <th>a_href_relative</th>\n",
       "      <td>0.040932</td>\n",
       "    </tr>\n",
       "    <tr>\n",
       "      <th>script_async_true</th>\n",
       "      <td>0.033906</td>\n",
       "    </tr>\n",
       "    <tr>\n",
       "      <th>meta_http-equiv_Content-Type</th>\n",
       "      <td>0.027518</td>\n",
       "    </tr>\n",
       "    <tr>\n",
       "      <th>link_href_https</th>\n",
       "      <td>0.027364</td>\n",
       "    </tr>\n",
       "    <tr>\n",
       "      <th>script_src_.js</th>\n",
       "      <td>0.025874</td>\n",
       "    </tr>\n",
       "    <tr>\n",
       "      <th>link_href_.css</th>\n",
       "      <td>0.022449</td>\n",
       "    </tr>\n",
       "    <tr>\n",
       "      <th>script_src_https</th>\n",
       "      <td>0.022287</td>\n",
       "    </tr>\n",
       "    <tr>\n",
       "      <th>iframe_src_https</th>\n",
       "      <td>0.021181</td>\n",
       "    </tr>\n",
       "    <tr>\n",
       "      <th>span_count</th>\n",
       "      <td>0.020731</td>\n",
       "    </tr>\n",
       "    <tr>\n",
       "      <th>link_rel_shortcut icon</th>\n",
       "      <td>0.019670</td>\n",
       "    </tr>\n",
       "    <tr>\n",
       "      <th>script_type_text/javascript</th>\n",
       "      <td>0.019284</td>\n",
       "    </tr>\n",
       "    <tr>\n",
       "      <th>script_src_absolute</th>\n",
       "      <td>0.018226</td>\n",
       "    </tr>\n",
       "    <tr>\n",
       "      <th>script_src_relative</th>\n",
       "      <td>0.013233</td>\n",
       "    </tr>\n",
       "    <tr>\n",
       "      <th>img_src_.jpg</th>\n",
       "      <td>0.012070</td>\n",
       "    </tr>\n",
       "    <tr>\n",
       "      <th>link_rel_pingback</th>\n",
       "      <td>0.010114</td>\n",
       "    </tr>\n",
       "    <tr>\n",
       "      <th>img_src_.png</th>\n",
       "      <td>0.009884</td>\n",
       "    </tr>\n",
       "    <tr>\n",
       "      <th>meta_charset_UTF-8</th>\n",
       "      <td>0.008725</td>\n",
       "    </tr>\n",
       "    <tr>\n",
       "      <th>link_type_image/x-icon</th>\n",
       "      <td>0.008660</td>\n",
       "    </tr>\n",
       "    <tr>\n",
       "      <th>script_src_out_of_domain</th>\n",
       "      <td>0.007436</td>\n",
       "    </tr>\n",
       "    <tr>\n",
       "      <th>img_src_https</th>\n",
       "      <td>0.007332</td>\n",
       "    </tr>\n",
       "    <tr>\n",
       "      <th>iframe_src_out_of_domain</th>\n",
       "      <td>0.005920</td>\n",
       "    </tr>\n",
       "    <tr>\n",
       "      <th>iframe_src_.html</th>\n",
       "      <td>0.005574</td>\n",
       "    </tr>\n",
       "    <tr>\n",
       "      <th>iframe_src_absolute</th>\n",
       "      <td>0.004824</td>\n",
       "    </tr>\n",
       "    <tr>\n",
       "      <th>link_rel_apple-touch-icon-precomposed</th>\n",
       "      <td>0.004579</td>\n",
       "    </tr>\n",
       "    <tr>\n",
       "      <th>iframe_count</th>\n",
       "      <td>0.004370</td>\n",
       "    </tr>\n",
       "    <tr>\n",
       "      <th>meta_charset_utf-8</th>\n",
       "      <td>0.003767</td>\n",
       "    </tr>\n",
       "    <tr>\n",
       "      <th>link_rel_icon</th>\n",
       "      <td>0.003240</td>\n",
       "    </tr>\n",
       "    <tr>\n",
       "      <th>link_href_.ico</th>\n",
       "      <td>0.002666</td>\n",
       "    </tr>\n",
       "    <tr>\n",
       "      <th>meta_http-equiv_X-UA-Compatible</th>\n",
       "      <td>0.001641</td>\n",
       "    </tr>\n",
       "    <tr>\n",
       "      <th>iframe_src_relative</th>\n",
       "      <td>0.000876</td>\n",
       "    </tr>\n",
       "    <tr>\n",
       "      <th>link_rel_manifest</th>\n",
       "      <td>0.000381</td>\n",
       "    </tr>\n",
       "    <tr>\n",
       "      <th>link_href_.png</th>\n",
       "      <td>0.000000</td>\n",
       "    </tr>\n",
       "    <tr>\n",
       "      <th>base_href_out_of_domain</th>\n",
       "      <td>0.000000</td>\n",
       "    </tr>\n",
       "    <tr>\n",
       "      <th>article_count</th>\n",
       "      <td>0.000000</td>\n",
       "    </tr>\n",
       "    <tr>\n",
       "      <th>link_type_image/png</th>\n",
       "      <td>0.000000</td>\n",
       "    </tr>\n",
       "    <tr>\n",
       "      <th>link_rel_mask-icon</th>\n",
       "      <td>0.000000</td>\n",
       "    </tr>\n",
       "    <tr>\n",
       "      <th>link_rel_canonical</th>\n",
       "      <td>0.000000</td>\n",
       "    </tr>\n",
       "  </tbody>\n",
       "</table>\n",
       "</div>"
      ],
      "text/plain": [
       "                                       Feature Importance\n",
       "script_count                                     0.157672\n",
       "a_count                                          0.092821\n",
       "link_href_out_of_domain                          0.081341\n",
       "a_href_out_of_domain                             0.079311\n",
       "div_count                                        0.064806\n",
       "link_type_text/css                               0.056499\n",
       "a_href_absolute                                  0.052835\n",
       "a_href_relative                                  0.040932\n",
       "script_async_true                                0.033906\n",
       "meta_http-equiv_Content-Type                     0.027518\n",
       "link_href_https                                  0.027364\n",
       "script_src_.js                                   0.025874\n",
       "link_href_.css                                   0.022449\n",
       "script_src_https                                 0.022287\n",
       "iframe_src_https                                 0.021181\n",
       "span_count                                       0.020731\n",
       "link_rel_shortcut icon                           0.019670\n",
       "script_type_text/javascript                      0.019284\n",
       "script_src_absolute                              0.018226\n",
       "script_src_relative                              0.013233\n",
       "img_src_.jpg                                     0.012070\n",
       "link_rel_pingback                                0.010114\n",
       "img_src_.png                                     0.009884\n",
       "meta_charset_UTF-8                               0.008725\n",
       "link_type_image/x-icon                           0.008660\n",
       "script_src_out_of_domain                         0.007436\n",
       "img_src_https                                    0.007332\n",
       "iframe_src_out_of_domain                         0.005920\n",
       "iframe_src_.html                                 0.005574\n",
       "iframe_src_absolute                              0.004824\n",
       "link_rel_apple-touch-icon-precomposed            0.004579\n",
       "iframe_count                                     0.004370\n",
       "meta_charset_utf-8                               0.003767\n",
       "link_rel_icon                                    0.003240\n",
       "link_href_.ico                                   0.002666\n",
       "meta_http-equiv_X-UA-Compatible                  0.001641\n",
       "iframe_src_relative                              0.000876\n",
       "link_rel_manifest                                0.000381\n",
       "link_href_.png                                   0.000000\n",
       "base_href_out_of_domain                          0.000000\n",
       "article_count                                    0.000000\n",
       "link_type_image/png                              0.000000\n",
       "link_rel_mask-icon                               0.000000\n",
       "link_rel_canonical                               0.000000"
      ]
     },
     "execution_count": 19,
     "metadata": {},
     "output_type": "execute_result"
    }
   ],
   "source": [
    "f_g=pd.DataFrame(gbc.feature_importances_,index=feature_name)\n",
    "f_g.columns=['Feature Importance']\n",
    "f_g.sort_values(by='Feature Importance',ascending=False,inplace=True)\n",
    "f_g"
   ]
  },
  {
   "cell_type": "markdown",
   "metadata": {},
   "source": [
    "#### 7. Extra Tree Classifier"
   ]
  },
  {
   "cell_type": "code",
   "execution_count": 20,
   "metadata": {},
   "outputs": [
    {
     "name": "stdout",
     "output_type": "stream",
     "text": [
      "The accuracy of the model on training data is:  0.8970670547408486\n"
     ]
    },
    {
     "data": {
      "text/plain": [
       "Predicted  False  True  __all__\n",
       "Actual                         \n",
       "False      27039  3604    30643\n",
       "True          74  5015     5089\n",
       "__all__    27113  8619    35732"
      ]
     },
     "metadata": {},
     "output_type": "display_data"
    },
    {
     "name": "stdout",
     "output_type": "stream",
     "text": [
      "The accuracy of the model on test data is: 0.8834658009627225\n"
     ]
    },
    {
     "data": {
      "text/plain": [
       "Predicted  False  True  __all__\n",
       "Actual                         \n",
       "False       6711   931     7642\n",
       "True         110  1181     1291\n",
       "__all__     6821  2112     8933"
      ]
     },
     "metadata": {},
     "output_type": "display_data"
    }
   ],
   "source": [
    "ext_tree=ExtraTreesClassifier()\n",
    "ext_tree.fit(X_train,Y_train)\n",
    "acc_train=ext_tree.score(X_train,Y_train)\n",
    "print(\"The accuracy of the model on training data is: \",ext_tree.score(X_train,Y_train))\n",
    "cm_train=get_cm(ext_tree,X_train,Y_train)\n",
    "display(cm_train)\n",
    "acc_test=accuracy_score(Y_test,ext_tree.predict(X_test))\n",
    "print(\"The accuracy of the model on test data is:\",acc_test)\n",
    "cm_test=get_cm(ext_tree,X_test,Y_test)\n",
    "display(cm_test)\n",
    "fpr, tpr, threshold = roc_curve(Y_test,ext_tree.predict(X_test))\n",
    "auc=metrics.auc(fpr, tpr)\n",
    "\n",
    "table_80_50_train.loc[6]=   ([acc_train,cm_train.TP,cm_train.TN,cm_train.FP,cm_train.FN,cm_train.FPR,cm_train.FNR])\n",
    "table_80_50_test.loc[6] =   ([acc_test ,cm_test.TP, cm_test.TN, cm_test.FP, cm_test.FN, cm_test.FPR, cm_test.FNR,auc])"
   ]
  },
  {
   "cell_type": "code",
   "execution_count": 21,
   "metadata": {},
   "outputs": [
    {
     "data": {
      "text/html": [
       "<div>\n",
       "<style scoped>\n",
       "    .dataframe tbody tr th:only-of-type {\n",
       "        vertical-align: middle;\n",
       "    }\n",
       "\n",
       "    .dataframe tbody tr th {\n",
       "        vertical-align: top;\n",
       "    }\n",
       "\n",
       "    .dataframe thead th {\n",
       "        text-align: right;\n",
       "    }\n",
       "</style>\n",
       "<table border=\"1\" class=\"dataframe\">\n",
       "  <thead>\n",
       "    <tr style=\"text-align: right;\">\n",
       "      <th></th>\n",
       "      <th>Feature Importance</th>\n",
       "    </tr>\n",
       "  </thead>\n",
       "  <tbody>\n",
       "    <tr>\n",
       "      <th>script_src_absolute</th>\n",
       "      <td>0.097082</td>\n",
       "    </tr>\n",
       "    <tr>\n",
       "      <th>script_src_.js</th>\n",
       "      <td>0.059284</td>\n",
       "    </tr>\n",
       "    <tr>\n",
       "      <th>div_count</th>\n",
       "      <td>0.052883</td>\n",
       "    </tr>\n",
       "    <tr>\n",
       "      <th>meta_charset_utf-8</th>\n",
       "      <td>0.049664</td>\n",
       "    </tr>\n",
       "    <tr>\n",
       "      <th>script_async_true</th>\n",
       "      <td>0.048705</td>\n",
       "    </tr>\n",
       "    <tr>\n",
       "      <th>link_rel_shortcut icon</th>\n",
       "      <td>0.044377</td>\n",
       "    </tr>\n",
       "    <tr>\n",
       "      <th>script_src_out_of_domain</th>\n",
       "      <td>0.034050</td>\n",
       "    </tr>\n",
       "    <tr>\n",
       "      <th>iframe_src_relative</th>\n",
       "      <td>0.033504</td>\n",
       "    </tr>\n",
       "    <tr>\n",
       "      <th>script_src_https</th>\n",
       "      <td>0.033325</td>\n",
       "    </tr>\n",
       "    <tr>\n",
       "      <th>link_rel_canonical</th>\n",
       "      <td>0.033317</td>\n",
       "    </tr>\n",
       "    <tr>\n",
       "      <th>a_href_out_of_domain</th>\n",
       "      <td>0.032362</td>\n",
       "    </tr>\n",
       "    <tr>\n",
       "      <th>link_href_https</th>\n",
       "      <td>0.029609</td>\n",
       "    </tr>\n",
       "    <tr>\n",
       "      <th>img_src_.jpg</th>\n",
       "      <td>0.028451</td>\n",
       "    </tr>\n",
       "    <tr>\n",
       "      <th>meta_http-equiv_Content-Type</th>\n",
       "      <td>0.027327</td>\n",
       "    </tr>\n",
       "    <tr>\n",
       "      <th>script_src_relative</th>\n",
       "      <td>0.026795</td>\n",
       "    </tr>\n",
       "    <tr>\n",
       "      <th>link_href_.css</th>\n",
       "      <td>0.026083</td>\n",
       "    </tr>\n",
       "    <tr>\n",
       "      <th>link_type_text/css</th>\n",
       "      <td>0.025617</td>\n",
       "    </tr>\n",
       "    <tr>\n",
       "      <th>iframe_src_out_of_domain</th>\n",
       "      <td>0.025581</td>\n",
       "    </tr>\n",
       "    <tr>\n",
       "      <th>meta_http-equiv_X-UA-Compatible</th>\n",
       "      <td>0.024471</td>\n",
       "    </tr>\n",
       "    <tr>\n",
       "      <th>a_href_absolute</th>\n",
       "      <td>0.022821</td>\n",
       "    </tr>\n",
       "    <tr>\n",
       "      <th>script_count</th>\n",
       "      <td>0.022764</td>\n",
       "    </tr>\n",
       "    <tr>\n",
       "      <th>a_count</th>\n",
       "      <td>0.020545</td>\n",
       "    </tr>\n",
       "    <tr>\n",
       "      <th>link_type_image/x-icon</th>\n",
       "      <td>0.020262</td>\n",
       "    </tr>\n",
       "    <tr>\n",
       "      <th>meta_charset_UTF-8</th>\n",
       "      <td>0.018452</td>\n",
       "    </tr>\n",
       "    <tr>\n",
       "      <th>link_href_.png</th>\n",
       "      <td>0.016193</td>\n",
       "    </tr>\n",
       "    <tr>\n",
       "      <th>link_href_out_of_domain</th>\n",
       "      <td>0.015201</td>\n",
       "    </tr>\n",
       "    <tr>\n",
       "      <th>script_type_text/javascript</th>\n",
       "      <td>0.014720</td>\n",
       "    </tr>\n",
       "    <tr>\n",
       "      <th>a_href_relative</th>\n",
       "      <td>0.014030</td>\n",
       "    </tr>\n",
       "    <tr>\n",
       "      <th>iframe_count</th>\n",
       "      <td>0.013378</td>\n",
       "    </tr>\n",
       "    <tr>\n",
       "      <th>img_src_.png</th>\n",
       "      <td>0.011471</td>\n",
       "    </tr>\n",
       "    <tr>\n",
       "      <th>span_count</th>\n",
       "      <td>0.011282</td>\n",
       "    </tr>\n",
       "    <tr>\n",
       "      <th>img_src_https</th>\n",
       "      <td>0.009868</td>\n",
       "    </tr>\n",
       "    <tr>\n",
       "      <th>link_rel_manifest</th>\n",
       "      <td>0.008708</td>\n",
       "    </tr>\n",
       "    <tr>\n",
       "      <th>link_href_.ico</th>\n",
       "      <td>0.008223</td>\n",
       "    </tr>\n",
       "    <tr>\n",
       "      <th>iframe_src_.html</th>\n",
       "      <td>0.006692</td>\n",
       "    </tr>\n",
       "    <tr>\n",
       "      <th>link_rel_icon</th>\n",
       "      <td>0.006331</td>\n",
       "    </tr>\n",
       "    <tr>\n",
       "      <th>base_href_out_of_domain</th>\n",
       "      <td>0.005655</td>\n",
       "    </tr>\n",
       "    <tr>\n",
       "      <th>iframe_src_https</th>\n",
       "      <td>0.005209</td>\n",
       "    </tr>\n",
       "    <tr>\n",
       "      <th>iframe_src_absolute</th>\n",
       "      <td>0.004813</td>\n",
       "    </tr>\n",
       "    <tr>\n",
       "      <th>link_rel_apple-touch-icon-precomposed</th>\n",
       "      <td>0.002651</td>\n",
       "    </tr>\n",
       "    <tr>\n",
       "      <th>article_count</th>\n",
       "      <td>0.002320</td>\n",
       "    </tr>\n",
       "    <tr>\n",
       "      <th>link_rel_pingback</th>\n",
       "      <td>0.002158</td>\n",
       "    </tr>\n",
       "    <tr>\n",
       "      <th>link_rel_mask-icon</th>\n",
       "      <td>0.002012</td>\n",
       "    </tr>\n",
       "    <tr>\n",
       "      <th>link_type_image/png</th>\n",
       "      <td>0.001754</td>\n",
       "    </tr>\n",
       "  </tbody>\n",
       "</table>\n",
       "</div>"
      ],
      "text/plain": [
       "                                       Feature Importance\n",
       "script_src_absolute                              0.097082\n",
       "script_src_.js                                   0.059284\n",
       "div_count                                        0.052883\n",
       "meta_charset_utf-8                               0.049664\n",
       "script_async_true                                0.048705\n",
       "link_rel_shortcut icon                           0.044377\n",
       "script_src_out_of_domain                         0.034050\n",
       "iframe_src_relative                              0.033504\n",
       "script_src_https                                 0.033325\n",
       "link_rel_canonical                               0.033317\n",
       "a_href_out_of_domain                             0.032362\n",
       "link_href_https                                  0.029609\n",
       "img_src_.jpg                                     0.028451\n",
       "meta_http-equiv_Content-Type                     0.027327\n",
       "script_src_relative                              0.026795\n",
       "link_href_.css                                   0.026083\n",
       "link_type_text/css                               0.025617\n",
       "iframe_src_out_of_domain                         0.025581\n",
       "meta_http-equiv_X-UA-Compatible                  0.024471\n",
       "a_href_absolute                                  0.022821\n",
       "script_count                                     0.022764\n",
       "a_count                                          0.020545\n",
       "link_type_image/x-icon                           0.020262\n",
       "meta_charset_UTF-8                               0.018452\n",
       "link_href_.png                                   0.016193\n",
       "link_href_out_of_domain                          0.015201\n",
       "script_type_text/javascript                      0.014720\n",
       "a_href_relative                                  0.014030\n",
       "iframe_count                                     0.013378\n",
       "img_src_.png                                     0.011471\n",
       "span_count                                       0.011282\n",
       "img_src_https                                    0.009868\n",
       "link_rel_manifest                                0.008708\n",
       "link_href_.ico                                   0.008223\n",
       "iframe_src_.html                                 0.006692\n",
       "link_rel_icon                                    0.006331\n",
       "base_href_out_of_domain                          0.005655\n",
       "iframe_src_https                                 0.005209\n",
       "iframe_src_absolute                              0.004813\n",
       "link_rel_apple-touch-icon-precomposed            0.002651\n",
       "article_count                                    0.002320\n",
       "link_rel_pingback                                0.002158\n",
       "link_rel_mask-icon                               0.002012\n",
       "link_type_image/png                              0.001754"
      ]
     },
     "execution_count": 21,
     "metadata": {},
     "output_type": "execute_result"
    }
   ],
   "source": [
    "f_e=pd.DataFrame(ext_tree.feature_importances_,index=feature_name)\n",
    "f_e.columns=['Feature Importance']\n",
    "f_e.sort_values(by='Feature Importance',ascending=False,inplace=True)\n",
    "f_e"
   ]
  },
  {
   "cell_type": "markdown",
   "metadata": {},
   "source": [
    "#### 8. Bagging"
   ]
  },
  {
   "cell_type": "code",
   "execution_count": 22,
   "metadata": {},
   "outputs": [
    {
     "name": "stdout",
     "output_type": "stream",
     "text": [
      "The accuracy of the model on training data is:  0.8954718459644017\n"
     ]
    },
    {
     "data": {
      "text/plain": [
       "Predicted  False  True  __all__\n",
       "Actual                         \n",
       "False      27030  3613    30643\n",
       "True         122  4967     5089\n",
       "__all__    27152  8580    35732"
      ]
     },
     "metadata": {},
     "output_type": "display_data"
    },
    {
     "name": "stdout",
     "output_type": "stream",
     "text": [
      "The accuracy of the model on test data is: 0.8820105227807008\n"
     ]
    },
    {
     "data": {
      "text/plain": [
       "Predicted  False  True  __all__\n",
       "Actual                         \n",
       "False       6695   947     7642\n",
       "True         107  1184     1291\n",
       "__all__     6802  2131     8933"
      ]
     },
     "metadata": {},
     "output_type": "display_data"
    }
   ],
   "source": [
    "bagging=BaggingClassifier()\n",
    "bagging.fit(X_train,Y_train)\n",
    "acc_train=bagging.score(X_train,Y_train)\n",
    "print(\"The accuracy of the model on training data is: \",bagging.score(X_train,Y_train))\n",
    "cm_train=get_cm(bagging,X_train,Y_train)\n",
    "display(cm_train)\n",
    "acc_test=accuracy_score(Y_test,bagging.predict(X_test))\n",
    "print(\"The accuracy of the model on test data is:\",acc_test)\n",
    "cm_test=get_cm(bagging,X_test,Y_test)\n",
    "display(cm_test)\n",
    "fpr, tpr, threshold = roc_curve(Y_test,bagging.predict(X_test))\n",
    "auc=metrics.auc(fpr, tpr)\n",
    "\n",
    "table_80_50_train.loc[7]=   ([acc_train,cm_train.TP,cm_train.TN,cm_train.FP,cm_train.FN,cm_train.FPR,cm_train.FNR])\n",
    "table_80_50_test.loc[7] =   ([acc_test ,cm_test.TP, cm_test.TN, cm_test.FP, cm_test.FN, cm_test.FPR, cm_test.FNR,auc])"
   ]
  },
  {
   "cell_type": "markdown",
   "metadata": {},
   "source": [
    "#### 9. Voting Classifier"
   ]
  },
  {
   "cell_type": "code",
   "execution_count": 23,
   "metadata": {},
   "outputs": [
    {
     "name": "stdout",
     "output_type": "stream",
     "text": [
      "The accuracy of the model on training data is : 0.8920575394604277\n"
     ]
    },
    {
     "data": {
      "text/plain": [
       "Predicted  False  True  __all__\n",
       "Actual                         \n",
       "False      27038  3605    30643\n",
       "True         252  4837     5089\n",
       "__all__    27290  8442    35732"
      ]
     },
     "metadata": {},
     "output_type": "display_data"
    },
    {
     "name": "stdout",
     "output_type": "stream",
     "text": [
      "The accuracy of the model on test data is: 0.8826821896339415\n"
     ]
    },
    {
     "data": {
      "text/plain": [
       "Predicted  False  True  __all__\n",
       "Actual                         \n",
       "False       6714   928     7642\n",
       "True         120  1171     1291\n",
       "__all__     6834  2099     8933"
      ]
     },
     "metadata": {},
     "output_type": "display_data"
    }
   ],
   "source": [
    "eclf = VotingClassifier(estimators=[('knn', knn), ('logistic', logistic),('rf',rf),('ada',ada),('gbc',gbc),\n",
    "                                    ('ext_tree',ext_tree),('bagging',bagging)], voting='soft')\n",
    "\n",
    "eclf.fit(X_train,Y_train.reshape(1,len(Y_train))[0])\n",
    "acc_train=eclf.score(X_train,Y_train)\n",
    "pred=eclf.predict(X_test)\n",
    "cm_train=get_cm(eclf,X_train,Y_train.reshape(1,len(Y_train))[0])\n",
    "print(\"The accuracy of the model on training data is :\",acc_train)\n",
    "display(cm_train)\n",
    "acc_test=accuracy_score(Y_test.reshape(1,len(Y_test))[0],pred)\n",
    "print(\"The accuracy of the model on test data is:\",acc_test)\n",
    "cm_test=ConfusionMatrix(Y_test.reshape(1,len(Y_test))[0],pred)\n",
    "display(cm_test)\n",
    "fpr, tpr, threshold = roc_curve(Y_test,eclf.predict(X_test))\n",
    "auc=metrics.auc(fpr, tpr)\n",
    "\n",
    "table_80_50_train.loc[8]=   ([acc_train,cm_train.TP,cm_train.TN,cm_train.FP,cm_train.FN,cm_train.FPR,cm_train.FNR])\n",
    "table_80_50_test.loc[8] =   ([acc_test ,cm_test.TP, cm_test.TN, cm_test.FP, cm_test.FN, cm_test.FPR, cm_test.FNR,auc])"
   ]
  },
  {
   "cell_type": "code",
   "execution_count": 24,
   "metadata": {},
   "outputs": [
    {
     "name": "stdout",
     "output_type": "stream",
     "text": [
      "Comparision Table for Training Accuracies:\n"
     ]
    },
    {
     "data": {
      "text/html": [
       "<div>\n",
       "<style scoped>\n",
       "    .dataframe tbody tr th:only-of-type {\n",
       "        vertical-align: middle;\n",
       "    }\n",
       "\n",
       "    .dataframe tbody tr th {\n",
       "        vertical-align: top;\n",
       "    }\n",
       "\n",
       "    .dataframe thead th {\n",
       "        text-align: right;\n",
       "    }\n",
       "</style>\n",
       "<table border=\"1\" class=\"dataframe\">\n",
       "  <thead>\n",
       "    <tr style=\"text-align: right;\">\n",
       "      <th></th>\n",
       "      <th>accuracy</th>\n",
       "      <th>TP</th>\n",
       "      <th>TN</th>\n",
       "      <th>FP</th>\n",
       "      <th>FN</th>\n",
       "      <th>FPR</th>\n",
       "      <th>FNR</th>\n",
       "    </tr>\n",
       "    <tr>\n",
       "      <th>index</th>\n",
       "      <th></th>\n",
       "      <th></th>\n",
       "      <th></th>\n",
       "      <th></th>\n",
       "      <th></th>\n",
       "      <th></th>\n",
       "      <th></th>\n",
       "    </tr>\n",
       "  </thead>\n",
       "  <tbody>\n",
       "    <tr>\n",
       "      <th>Neural Network-1</th>\n",
       "      <td>0.880135</td>\n",
       "      <td>4695.0</td>\n",
       "      <td>26754.0</td>\n",
       "      <td>3889.0</td>\n",
       "      <td>394.0</td>\n",
       "      <td>0.126913</td>\n",
       "      <td>0.077422</td>\n",
       "    </tr>\n",
       "    <tr>\n",
       "      <th>KNeighborsClassifier</th>\n",
       "      <td>0.884977</td>\n",
       "      <td>4693.0</td>\n",
       "      <td>26929.0</td>\n",
       "      <td>3714.0</td>\n",
       "      <td>396.0</td>\n",
       "      <td>0.121202</td>\n",
       "      <td>0.077815</td>\n",
       "    </tr>\n",
       "    <tr>\n",
       "      <th>LogisticRegression</th>\n",
       "      <td>0.856879</td>\n",
       "      <td>53.0</td>\n",
       "      <td>30565.0</td>\n",
       "      <td>78.0</td>\n",
       "      <td>5036.0</td>\n",
       "      <td>0.002545</td>\n",
       "      <td>0.989585</td>\n",
       "    </tr>\n",
       "    <tr>\n",
       "      <th>RandomForestClassifier</th>\n",
       "      <td>0.895248</td>\n",
       "      <td>4953.0</td>\n",
       "      <td>27036.0</td>\n",
       "      <td>3607.0</td>\n",
       "      <td>136.0</td>\n",
       "      <td>0.117710</td>\n",
       "      <td>0.026724</td>\n",
       "    </tr>\n",
       "    <tr>\n",
       "      <th>AdaBoostClassifier</th>\n",
       "      <td>0.866030</td>\n",
       "      <td>4428.0</td>\n",
       "      <td>26517.0</td>\n",
       "      <td>4126.0</td>\n",
       "      <td>661.0</td>\n",
       "      <td>0.134647</td>\n",
       "      <td>0.129888</td>\n",
       "    </tr>\n",
       "    <tr>\n",
       "      <th>GradientBoostingClassifier</th>\n",
       "      <td>0.882878</td>\n",
       "      <td>4552.0</td>\n",
       "      <td>26995.0</td>\n",
       "      <td>3648.0</td>\n",
       "      <td>537.0</td>\n",
       "      <td>0.119048</td>\n",
       "      <td>0.105522</td>\n",
       "    </tr>\n",
       "    <tr>\n",
       "      <th>ExtraTreeClassifier</th>\n",
       "      <td>0.897067</td>\n",
       "      <td>5015.0</td>\n",
       "      <td>27039.0</td>\n",
       "      <td>3604.0</td>\n",
       "      <td>74.0</td>\n",
       "      <td>0.117613</td>\n",
       "      <td>0.014541</td>\n",
       "    </tr>\n",
       "    <tr>\n",
       "      <th>BaggingClassifier</th>\n",
       "      <td>0.895472</td>\n",
       "      <td>4967.0</td>\n",
       "      <td>27030.0</td>\n",
       "      <td>3613.0</td>\n",
       "      <td>122.0</td>\n",
       "      <td>0.117906</td>\n",
       "      <td>0.023973</td>\n",
       "    </tr>\n",
       "    <tr>\n",
       "      <th>VotingClassifier</th>\n",
       "      <td>0.892058</td>\n",
       "      <td>4837.0</td>\n",
       "      <td>27038.0</td>\n",
       "      <td>3605.0</td>\n",
       "      <td>252.0</td>\n",
       "      <td>0.117645</td>\n",
       "      <td>0.049519</td>\n",
       "    </tr>\n",
       "  </tbody>\n",
       "</table>\n",
       "</div>"
      ],
      "text/plain": [
       "                            accuracy      TP       TN      FP      FN  \\\n",
       "index                                                                   \n",
       "Neural Network-1            0.880135  4695.0  26754.0  3889.0   394.0   \n",
       "KNeighborsClassifier        0.884977  4693.0  26929.0  3714.0   396.0   \n",
       "LogisticRegression          0.856879    53.0  30565.0    78.0  5036.0   \n",
       "RandomForestClassifier      0.895248  4953.0  27036.0  3607.0   136.0   \n",
       "AdaBoostClassifier          0.866030  4428.0  26517.0  4126.0   661.0   \n",
       "GradientBoostingClassifier  0.882878  4552.0  26995.0  3648.0   537.0   \n",
       "ExtraTreeClassifier         0.897067  5015.0  27039.0  3604.0    74.0   \n",
       "BaggingClassifier           0.895472  4967.0  27030.0  3613.0   122.0   \n",
       "VotingClassifier            0.892058  4837.0  27038.0  3605.0   252.0   \n",
       "\n",
       "                                 FPR       FNR  \n",
       "index                                           \n",
       "Neural Network-1            0.126913  0.077422  \n",
       "KNeighborsClassifier        0.121202  0.077815  \n",
       "LogisticRegression          0.002545  0.989585  \n",
       "RandomForestClassifier      0.117710  0.026724  \n",
       "AdaBoostClassifier          0.134647  0.129888  \n",
       "GradientBoostingClassifier  0.119048  0.105522  \n",
       "ExtraTreeClassifier         0.117613  0.014541  \n",
       "BaggingClassifier           0.117906  0.023973  \n",
       "VotingClassifier            0.117645  0.049519  "
      ]
     },
     "metadata": {},
     "output_type": "display_data"
    },
    {
     "name": "stdout",
     "output_type": "stream",
     "text": [
      "Comparision Table for Test Accuracies:\n"
     ]
    },
    {
     "data": {
      "text/html": [
       "<div>\n",
       "<style scoped>\n",
       "    .dataframe tbody tr th:only-of-type {\n",
       "        vertical-align: middle;\n",
       "    }\n",
       "\n",
       "    .dataframe tbody tr th {\n",
       "        vertical-align: top;\n",
       "    }\n",
       "\n",
       "    .dataframe thead th {\n",
       "        text-align: right;\n",
       "    }\n",
       "</style>\n",
       "<table border=\"1\" class=\"dataframe\">\n",
       "  <thead>\n",
       "    <tr style=\"text-align: right;\">\n",
       "      <th></th>\n",
       "      <th>accuracy</th>\n",
       "      <th>TP</th>\n",
       "      <th>TN</th>\n",
       "      <th>FP</th>\n",
       "      <th>FN</th>\n",
       "      <th>FPR</th>\n",
       "      <th>FNR</th>\n",
       "      <th>auc</th>\n",
       "    </tr>\n",
       "    <tr>\n",
       "      <th>index</th>\n",
       "      <th></th>\n",
       "      <th></th>\n",
       "      <th></th>\n",
       "      <th></th>\n",
       "      <th></th>\n",
       "      <th></th>\n",
       "      <th></th>\n",
       "      <th></th>\n",
       "    </tr>\n",
       "  </thead>\n",
       "  <tbody>\n",
       "    <tr>\n",
       "      <th>Neural Network-1</th>\n",
       "      <td>0.872271</td>\n",
       "      <td>1154.0</td>\n",
       "      <td>6638.0</td>\n",
       "      <td>1004.0</td>\n",
       "      <td>137.0</td>\n",
       "      <td>0.131379</td>\n",
       "      <td>0.106119</td>\n",
       "      <td>0.881251</td>\n",
       "    </tr>\n",
       "    <tr>\n",
       "      <th>KNeighborsClassifier</th>\n",
       "      <td>0.879324</td>\n",
       "      <td>1174.0</td>\n",
       "      <td>6681.0</td>\n",
       "      <td>961.0</td>\n",
       "      <td>117.0</td>\n",
       "      <td>0.125752</td>\n",
       "      <td>0.090627</td>\n",
       "      <td>0.891810</td>\n",
       "    </tr>\n",
       "    <tr>\n",
       "      <th>LogisticRegression</th>\n",
       "      <td>0.855368</td>\n",
       "      <td>17.0</td>\n",
       "      <td>7624.0</td>\n",
       "      <td>18.0</td>\n",
       "      <td>1274.0</td>\n",
       "      <td>0.002355</td>\n",
       "      <td>0.986832</td>\n",
       "      <td>0.505406</td>\n",
       "    </tr>\n",
       "    <tr>\n",
       "      <th>RandomForestClassifier</th>\n",
       "      <td>0.883578</td>\n",
       "      <td>1184.0</td>\n",
       "      <td>6709.0</td>\n",
       "      <td>933.0</td>\n",
       "      <td>107.0</td>\n",
       "      <td>0.122088</td>\n",
       "      <td>0.082881</td>\n",
       "      <td>0.897515</td>\n",
       "    </tr>\n",
       "    <tr>\n",
       "      <th>AdaBoostClassifier</th>\n",
       "      <td>0.861972</td>\n",
       "      <td>1135.0</td>\n",
       "      <td>6565.0</td>\n",
       "      <td>1077.0</td>\n",
       "      <td>156.0</td>\n",
       "      <td>0.140932</td>\n",
       "      <td>0.120837</td>\n",
       "      <td>0.869116</td>\n",
       "    </tr>\n",
       "    <tr>\n",
       "      <th>GradientBoostingClassifier</th>\n",
       "      <td>0.878540</td>\n",
       "      <td>1146.0</td>\n",
       "      <td>6702.0</td>\n",
       "      <td>940.0</td>\n",
       "      <td>145.0</td>\n",
       "      <td>0.123004</td>\n",
       "      <td>0.112316</td>\n",
       "      <td>0.882340</td>\n",
       "    </tr>\n",
       "    <tr>\n",
       "      <th>ExtraTreeClassifier</th>\n",
       "      <td>0.883466</td>\n",
       "      <td>1181.0</td>\n",
       "      <td>6711.0</td>\n",
       "      <td>931.0</td>\n",
       "      <td>110.0</td>\n",
       "      <td>0.121827</td>\n",
       "      <td>0.085205</td>\n",
       "      <td>0.896484</td>\n",
       "    </tr>\n",
       "    <tr>\n",
       "      <th>BaggingClassifier</th>\n",
       "      <td>0.882011</td>\n",
       "      <td>1184.0</td>\n",
       "      <td>6695.0</td>\n",
       "      <td>947.0</td>\n",
       "      <td>107.0</td>\n",
       "      <td>0.123920</td>\n",
       "      <td>0.082881</td>\n",
       "      <td>0.896599</td>\n",
       "    </tr>\n",
       "    <tr>\n",
       "      <th>VotingClassifier</th>\n",
       "      <td>0.882682</td>\n",
       "      <td>1171.0</td>\n",
       "      <td>6714.0</td>\n",
       "      <td>928.0</td>\n",
       "      <td>120.0</td>\n",
       "      <td>0.121434</td>\n",
       "      <td>0.092951</td>\n",
       "      <td>0.892807</td>\n",
       "    </tr>\n",
       "  </tbody>\n",
       "</table>\n",
       "</div>"
      ],
      "text/plain": [
       "                            accuracy      TP      TN      FP      FN  \\\n",
       "index                                                                  \n",
       "Neural Network-1            0.872271  1154.0  6638.0  1004.0   137.0   \n",
       "KNeighborsClassifier        0.879324  1174.0  6681.0   961.0   117.0   \n",
       "LogisticRegression          0.855368    17.0  7624.0    18.0  1274.0   \n",
       "RandomForestClassifier      0.883578  1184.0  6709.0   933.0   107.0   \n",
       "AdaBoostClassifier          0.861972  1135.0  6565.0  1077.0   156.0   \n",
       "GradientBoostingClassifier  0.878540  1146.0  6702.0   940.0   145.0   \n",
       "ExtraTreeClassifier         0.883466  1181.0  6711.0   931.0   110.0   \n",
       "BaggingClassifier           0.882011  1184.0  6695.0   947.0   107.0   \n",
       "VotingClassifier            0.882682  1171.0  6714.0   928.0   120.0   \n",
       "\n",
       "                                 FPR       FNR       auc  \n",
       "index                                                     \n",
       "Neural Network-1            0.131379  0.106119  0.881251  \n",
       "KNeighborsClassifier        0.125752  0.090627  0.891810  \n",
       "LogisticRegression          0.002355  0.986832  0.505406  \n",
       "RandomForestClassifier      0.122088  0.082881  0.897515  \n",
       "AdaBoostClassifier          0.140932  0.120837  0.869116  \n",
       "GradientBoostingClassifier  0.123004  0.112316  0.882340  \n",
       "ExtraTreeClassifier         0.121827  0.085205  0.896484  \n",
       "BaggingClassifier           0.123920  0.082881  0.896599  \n",
       "VotingClassifier            0.121434  0.092951  0.892807  "
      ]
     },
     "metadata": {},
     "output_type": "display_data"
    }
   ],
   "source": [
    "table_80_50_train['index']=['Neural Network-1','KNeighborsClassifier','LogisticRegression','RandomForestClassifier','AdaBoostClassifier',\n",
    "                           'GradientBoostingClassifier','ExtraTreeClassifier','BaggingClassifier','VotingClassifier']\n",
    "table_80_50_test['index']=['Neural Network-1','KNeighborsClassifier','LogisticRegression','RandomForestClassifier','AdaBoostClassifier',\n",
    "                           'GradientBoostingClassifier','ExtraTreeClassifier','BaggingClassifier','VotingClassifier']\n",
    "\n",
    "table_80_50_test.set_index(['index'],drop=True,inplace=True)\n",
    "table_80_50_train.set_index(['index'],drop=True,inplace=True)\n",
    "\n",
    "print(\"Comparision Table for Training Accuracies:\")\n",
    "display(table_80_50_train)\n",
    "\n",
    "print(\"Comparision Table for Test Accuracies:\")\n",
    "display(table_80_50_test)"
   ]
  },
  {
   "cell_type": "markdown",
   "metadata": {},
   "source": [
    "#### Average Feature Importance"
   ]
  },
  {
   "cell_type": "code",
   "execution_count": 25,
   "metadata": {},
   "outputs": [
    {
     "data": {
      "text/plain": [
       "script_count                             0.116640\n",
       "a_href_out_of_domain                     0.073736\n",
       "a_href_relative                          0.069198\n",
       "a_count                                  0.052903\n",
       "script_src_absolute                      0.048346\n",
       "link_href_out_of_domain                  0.048142\n",
       "div_count                                0.046729\n",
       "script_src_relative                      0.042989\n",
       "script_async_true                        0.037855\n",
       "a_href_absolute                          0.037802\n",
       "link_type_text/css                       0.035288\n",
       "script_src_https                         0.033874\n",
       "script_type_text/javascript              0.026735\n",
       "script_src_.js                           0.023567\n",
       "img_src_.jpg                             0.022227\n",
       "link_href_.css                           0.020357\n",
       "meta_charset_utf-8                       0.020258\n",
       "script_src_out_of_domain                 0.017638\n",
       "link_href_https                          0.017447\n",
       "link_rel_shortcut icon                   0.016781\n",
       "meta_http-equiv_Content-Type             0.016506\n",
       "span_count                               0.016105\n",
       "img_src_https                            0.016036\n",
       "link_rel_canonical                       0.013506\n",
       "iframe_src_out_of_domain                 0.013347\n",
       "iframe_src_.html                         0.013196\n",
       "iframe_src_relative                      0.010034\n",
       "iframe_src_absolute                      0.009135\n",
       "meta_http-equiv_X-UA-Compatible          0.008786\n",
       "link_rel_pingback                        0.008463\n",
       "img_src_.png                             0.008218\n",
       "link_type_image/x-icon                   0.007830\n",
       "meta_charset_UTF-8                       0.007592\n",
       "link_rel_manifest                        0.007361\n",
       "iframe_src_https                         0.007155\n",
       "link_rel_apple-touch-icon-precomposed    0.007052\n",
       "iframe_count                             0.005620\n",
       "link_href_.png                           0.004547\n",
       "link_href_.ico                           0.003551\n",
       "link_rel_icon                            0.003547\n",
       "base_href_out_of_domain                  0.001574\n",
       "article_count                            0.001074\n",
       "link_type_image/png                      0.000646\n",
       "link_rel_mask-icon                       0.000609\n",
       "dtype: float64"
      ]
     },
     "execution_count": 25,
     "metadata": {},
     "output_type": "execute_result"
    }
   ],
   "source": [
    "(pd.concat((f_r,f_a,f_g,f_e), axis=1).mean(axis=1).sort_values(ascending=False))"
   ]
  },
  {
   "cell_type": "markdown",
   "metadata": {},
   "source": [
    "## With transformed variables"
   ]
  },
  {
   "cell_type": "code",
   "execution_count": 26,
   "metadata": {
    "collapsed": true
   },
   "outputs": [],
   "source": [
    "df=pd.read_csv('Html.csv',index_col='domain')\n",
    "\n",
    "df.fillna(value=0,inplace=True)\n",
    "df.drop(['Target'],axis=1,inplace=True)\n",
    "df.drop(['number_of_unsecure_cookies','number_of_secure_cookies','number_of_non_http_only_cookies','number_of_http_only_cookies',\n",
    " 'number_of_cookies'],axis=1,inplace=True)"
   ]
  },
  {
   "cell_type": "code",
   "execution_count": 27,
   "metadata": {
    "collapsed": true
   },
   "outputs": [],
   "source": [
    "X=df.loc[:,df.columns!='Malicious']\n",
    "y=df.Malicious.values"
   ]
  },
  {
   "cell_type": "code",
   "execution_count": 28,
   "metadata": {
    "collapsed": true
   },
   "outputs": [],
   "source": [
    "def transformed(col):\n",
    "    new_col=col+'_^2'\n",
    "    df[new_col]=df[col].apply(lambda x: np.square(x))\n",
    "    new_col=col+'_sqr_rt'\n",
    "    df[new_col]=df[col].apply(lambda x: np.sqrt(x))\n",
    "    new_col=col+'_^3'\n",
    "    df[new_col]=df[col].apply(lambda x: np.power(x,3))\n",
    "    new_col=col+'_log'\n",
    "    df[new_col]=df[col].apply(lambda x: np.log(x))"
   ]
  },
  {
   "cell_type": "code",
   "execution_count": 29,
   "metadata": {
    "collapsed": true
   },
   "outputs": [],
   "source": [
    "for col in X.columns:\n",
    "    transformed(col)"
   ]
  },
  {
   "cell_type": "code",
   "execution_count": 30,
   "metadata": {
    "collapsed": true
   },
   "outputs": [],
   "source": [
    "df.replace(-np.Inf,0,inplace=True)"
   ]
  },
  {
   "cell_type": "code",
   "execution_count": 31,
   "metadata": {
    "collapsed": true
   },
   "outputs": [],
   "source": [
    "X=df.loc[:,df.columns!='Malicious']\n",
    "feature_name = X.columns.tolist()"
   ]
  },
  {
   "cell_type": "code",
   "execution_count": 32,
   "metadata": {
    "collapsed": true
   },
   "outputs": [],
   "source": [
    "def cor_selector(X, y):\n",
    "    cor_list = []\n",
    "    # calculate the correlation with y for each feature\n",
    "    for i in X.columns.tolist():\n",
    "        cor = np.corrcoef(X[i], y)[0, 1]\n",
    "        cor_list.append(cor)\n",
    "    # replace NaN with 0\n",
    "    cor_list = [0 if np.isnan(i) else i for i in cor_list]\n",
    "    # feature name\n",
    "    cor_feature = X.iloc[:,np.argsort(np.abs(cor_list))[-100:]].columns.tolist()\n",
    "    # feature selection? 0 for not select, 1 for select\n",
    "    cor_support = [True if i in cor_feature else False for i in feature_name]\n",
    "    return cor_support, cor_feature\n",
    "\n",
    "\n",
    "cor_support, cor_feature = cor_selector(X, y)\n",
    "\n",
    "\n",
    "X_norm = MinMaxScaler().fit_transform(X)\n",
    "chi_selector = SelectKBest(chi2, k=100)\n",
    "chi_selector.fit(X_norm, y)\n",
    "chi_support = chi_selector.get_support()\n",
    "chi_feature = X.loc[:,chi_support].columns.tolist()\n",
    "\n",
    "\n",
    "rfe_selector = RFE(estimator=LogisticRegression(), n_features_to_select=100, step=10, verbose=False)\n",
    "rfe_selector.fit(X_norm, y)\n",
    "rfe_support = rfe_selector.get_support()\n",
    "rfe_feature = X.loc[:,rfe_support].columns.tolist()\n",
    "\n",
    "\n",
    "embeded_rf_selector = SelectFromModel(RandomForestClassifier(n_estimators=100), threshold='23*median')\n",
    "embeded_rf_selector.fit(X, y)\n",
    "embeded_rf_support = embeded_rf_selector.get_support()\n",
    "embeded_rf_feature = X.loc[:,embeded_rf_support].columns.tolist()\n",
    "\n",
    "\n",
    "feature_selection_df = pd.DataFrame({'Feature':feature_name, 'Pearson':cor_support, 'Chi-2':chi_support, 'RFE':rfe_support,\n",
    "                                    'Random Forest':embeded_rf_support})\n",
    "# count the selected times for each feature\n",
    "feature_selection_df['Total'] = np.sum(feature_selection_df, axis=1)\n",
    "# display the top 100\n",
    "feature_selection_df = feature_selection_df.sort_values(['Total','Feature'] , ascending=False)\n",
    "feature_selection_df.index = range(1, len(feature_selection_df)+1)"
   ]
  },
  {
   "cell_type": "code",
   "execution_count": 33,
   "metadata": {},
   "outputs": [
    {
     "name": "stdout",
     "output_type": "stream",
     "text": [
      "The train/test split ratio is 80:20\n"
     ]
    },
    {
     "data": {
      "text/plain": [
       "(44665, 22)"
      ]
     },
     "execution_count": 33,
     "metadata": {},
     "output_type": "execute_result"
    }
   ],
   "source": [
    "X=df[feature_selection_df[feature_selection_df.Total==4]['Feature']]\n",
    "y=df.Malicious.values\n",
    "feature_name = X.columns.tolist()\n",
    "\n",
    "scaler=StandardScaler()\n",
    "scaled_X=scaler.fit_transform(X)\n",
    "\n",
    "print(\"The train/test split ratio is 80:20\")\n",
    "X_train, X_test, Y_train, Y_test = train_test_split(scaled_X,y,random_state=0,test_size=0.2)\n",
    "\n",
    "X.shape"
   ]
  },
  {
   "cell_type": "code",
   "execution_count": 34,
   "metadata": {},
   "outputs": [
    {
     "data": {
      "text/plain": [
       "['script_type_text/javascript_log',\n",
       " 'script_src_out_of_domain_sqr_rt',\n",
       " 'script_src_https_log',\n",
       " 'script_src_.js_sqr_rt',\n",
       " 'script_count_sqr_rt',\n",
       " 'script_count_log',\n",
       " 'script_async_true_sqr_rt',\n",
       " 'script_async_true_log',\n",
       " 'p_count_log',\n",
       " 'meta_count_log',\n",
       " 'link_rel_stylesheet_log',\n",
       " 'link_href_out_of_domain_sqr_rt',\n",
       " 'link_href_out_of_domain_log',\n",
       " 'link_href_https_log',\n",
       " 'img_src_.jpg_sqr_rt',\n",
       " 'iframe_src_https_sqr_rt',\n",
       " 'div_count_sqr_rt',\n",
       " 'a_href_relative_sqr_rt',\n",
       " 'a_href_out_of_domain_log',\n",
       " 'a_href_https_log',\n",
       " 'a_href_absolute_sqr_rt',\n",
       " 'a_count_sqr_rt']"
      ]
     },
     "execution_count": 34,
     "metadata": {},
     "output_type": "execute_result"
    }
   ],
   "source": [
    "feature_name"
   ]
  },
  {
   "cell_type": "code",
   "execution_count": 35,
   "metadata": {
    "collapsed": true
   },
   "outputs": [],
   "source": [
    "## Table to store training and test measures\n",
    "table_80_50_train=pd.DataFrame(columns=['accuracy','TP','TN','FP','FN','FPR','FNR'])\n",
    "table_80_50_test=pd.DataFrame(columns=['accuracy','TP','TN','FP','FN','FPR','FNR','auc'])"
   ]
  },
  {
   "cell_type": "markdown",
   "metadata": {},
   "source": [
    "#### 1. Deep Learning"
   ]
  },
  {
   "cell_type": "code",
   "execution_count": 36,
   "metadata": {},
   "outputs": [
    {
     "name": "stdout",
     "output_type": "stream",
     "text": [
      "The accuracy of the model on training data is: 0.8752378820105228\n"
     ]
    },
    {
     "data": {
      "text/plain": [
       "Predicted  False  True  __all__\n",
       "Actual                         \n",
       "False      26619  4024    30643\n",
       "True         434  4655     5089\n",
       "__all__    27053  8679    35732"
      ]
     },
     "metadata": {},
     "output_type": "display_data"
    },
    {
     "name": "stdout",
     "output_type": "stream",
     "text": [
      "The accuracy of the model on test data is: 0.8680174633381843\n"
     ]
    },
    {
     "data": {
      "text/plain": [
       "Predicted  False  True  __all__\n",
       "Actual                         \n",
       "False       6588  1054     7642\n",
       "True         125  1166     1291\n",
       "__all__     6713  2220     8933"
      ]
     },
     "metadata": {},
     "output_type": "display_data"
    }
   ],
   "source": [
    "np.random.seed(0)\n",
    "deep_learning=Sequential()\n",
    "deep_learning.add(Dense(units=64,activation='relu',use_bias=True,kernel_initializer='uniform',input_dim=X.shape[1]))\n",
    "deep_learning.add(Dense(units=128,activation='relu',use_bias=True,kernel_initializer='uniform'))\n",
    "deep_learning.add(Dense(units=1,activation='sigmoid',use_bias=True,kernel_initializer='uniform'))\n",
    "deep_learning.compile(optimizer='adam',loss='binary_crossentropy',metrics=['accuracy'])\n",
    "deep_learning.fit(X_train,Y_train,batch_size=20,epochs=20,verbose=False)\n",
    "\n",
    "acc_train=deep_learning.evaluate(X_train,Y_train,verbose=False)[1]\n",
    "print(\"The accuracy of the model on training data is:\",acc_train)\n",
    "cm_train=ConfusionMatrix(Y_train,deep_learning.predict_classes(X_train,batch_size=1,verbose=False).reshape(1,len(X_train))[0])\n",
    "cm_test=ConfusionMatrix(Y_test,deep_learning.predict_classes(X_test,batch_size=1,verbose=False).reshape(1,len(X_test))[0])\n",
    "display(cm_train)\n",
    "acc_test=accuracy_score(Y_test,deep_learning.predict_classes(X_test,batch_size=1,verbose=False))\n",
    "print(\"The accuracy of the model on test data is:\",acc_test)\n",
    "display(cm_test)\n",
    "fpr, tpr, threshold = roc_curve(Y_test, deep_learning.predict_classes(X_test,batch_size=1,verbose=False).reshape(1,len(X_test))[0])\n",
    "auc=metrics.auc(fpr, tpr)\n",
    "\n",
    "table_80_50_train.loc[0]=([acc_train,cm_train.TP,cm_train.TN,cm_train.FP,cm_train.FN,cm_train.FPR,cm_train.FNR])\n",
    "table_80_50_test.loc[0]=([acc_test,cm_test.TP,cm_test.TN,cm_test.FP,cm_test.FN,cm_test.FPR,cm_test.FNR,auc])"
   ]
  },
  {
   "cell_type": "markdown",
   "metadata": {},
   "source": [
    "#### 2. KNN"
   ]
  },
  {
   "cell_type": "code",
   "execution_count": 37,
   "metadata": {},
   "outputs": [
    {
     "name": "stdout",
     "output_type": "stream",
     "text": [
      "The accuracy of the model on training data is:  0.8747341318705922\n"
     ]
    },
    {
     "data": {
      "text/plain": [
       "Predicted  False  True  __all__\n",
       "Actual                         \n",
       "False      30474   169    30643\n",
       "True        4307   782     5089\n",
       "__all__    34781   951    35732"
      ]
     },
     "metadata": {},
     "output_type": "display_data"
    },
    {
     "name": "stdout",
     "output_type": "stream",
     "text": [
      "The accuracy of the model on test data is: 0.8700324638979067\n"
     ]
    },
    {
     "data": {
      "text/plain": [
       "Predicted  False  True  __all__\n",
       "Actual                         \n",
       "False       7589    53     7642\n",
       "True        1108   183     1291\n",
       "__all__     8697   236     8933"
      ]
     },
     "metadata": {},
     "output_type": "display_data"
    }
   ],
   "source": [
    "knn=KNeighborsClassifier()\n",
    "knn.fit(X_train,Y_train)\n",
    "acc_train=knn.score(X_train,Y_train)\n",
    "print(\"The accuracy of the model on training data is: \",knn.score(X_train,Y_train))\n",
    "cm_train=get_cm(knn,X_train,Y_train)\n",
    "display(cm_train)\n",
    "acc_test=accuracy_score(Y_test,knn.predict(X_test))\n",
    "print(\"The accuracy of the model on test data is:\",acc_test)\n",
    "cm_test=get_cm(knn,X_test,Y_test)\n",
    "display(cm_test)\n",
    "fpr, tpr, threshold = roc_curve(Y_test,knn.predict(X_test))\n",
    "auc=metrics.auc(fpr, tpr)\n",
    "\n",
    "table_80_50_train.loc[1]= ([acc_train,cm_train.TP,cm_train.TN,cm_train.FP,cm_train.FN,cm_train.FPR,cm_train.FNR])\n",
    "table_80_50_test.loc[1] = ([acc_test ,cm_test.TP, cm_test.TN, cm_test.FP, cm_test.FN, cm_test.FPR, cm_test.FNR,auc])"
   ]
  },
  {
   "cell_type": "markdown",
   "metadata": {},
   "source": [
    "#### 3. Logistic Regression"
   ]
  },
  {
   "cell_type": "code",
   "execution_count": 38,
   "metadata": {},
   "outputs": [
    {
     "name": "stdout",
     "output_type": "stream",
     "text": [
      "The accuracy of the model on training data is:  0.8719355199820888\n"
     ]
    },
    {
     "data": {
      "text/plain": [
       "Predicted  False  True  __all__\n",
       "Actual                         \n",
       "False      26794  3849    30643\n",
       "True         727  4362     5089\n",
       "__all__    27521  8211    35732"
      ]
     },
     "metadata": {},
     "output_type": "display_data"
    },
    {
     "name": "stdout",
     "output_type": "stream",
     "text": [
      "The accuracy of the model on test data is: 0.8688010746669652\n"
     ]
    },
    {
     "data": {
      "text/plain": [
       "Predicted  False  True  __all__\n",
       "Actual                         \n",
       "False       6645   997     7642\n",
       "True         175  1116     1291\n",
       "__all__     6820  2113     8933"
      ]
     },
     "metadata": {},
     "output_type": "display_data"
    }
   ],
   "source": [
    "logistic=LogisticRegression()\n",
    "logistic.fit(X_train,Y_train)\n",
    "acc_train=logistic.score(X_train,Y_train)\n",
    "print(\"The accuracy of the model on training data is: \",logistic.score(X_train,Y_train))\n",
    "cm_train=get_cm(logistic,X_train,Y_train)\n",
    "display(cm_train)\n",
    "acc_test=accuracy_score(Y_test,logistic.predict(X_test))\n",
    "print(\"The accuracy of the model on test data is:\",acc_test)\n",
    "cm_test=get_cm(logistic,X_test,Y_test)\n",
    "display(cm_test)\n",
    "fpr, tpr, threshold = roc_curve(Y_test,logistic.predict(X_test))\n",
    "auc=metrics.auc(fpr, tpr)\n",
    "\n",
    "table_80_50_train.loc[2]=   ([acc_train,cm_train.TP,cm_train.TN,cm_train.FP,cm_train.FN,cm_train.FPR,cm_train.FNR])\n",
    "table_80_50_test.loc[2] =   ([acc_test ,cm_test.TP, cm_test.TN, cm_test.FP, cm_test.FN, cm_test.FPR, cm_test.FNR,auc])"
   ]
  },
  {
   "cell_type": "markdown",
   "metadata": {},
   "source": [
    "#### 4. Random Forest"
   ]
  },
  {
   "cell_type": "code",
   "execution_count": 39,
   "metadata": {},
   "outputs": [
    {
     "name": "stdout",
     "output_type": "stream",
     "text": [
      "The accuracy of the model on training data is:  0.8935408037613344\n"
     ]
    },
    {
     "data": {
      "text/plain": [
       "Predicted  False  True  __all__\n",
       "Actual                         \n",
       "False      26986  3657    30643\n",
       "True         147  4942     5089\n",
       "__all__    27133  8599    35732"
      ]
     },
     "metadata": {},
     "output_type": "display_data"
    },
    {
     "name": "stdout",
     "output_type": "stream",
     "text": [
      "The accuracy of the model on test data is: 0.8807791335497593\n"
     ]
    },
    {
     "data": {
      "text/plain": [
       "Predicted  False  True  __all__\n",
       "Actual                         \n",
       "False       6691   951     7642\n",
       "True         114  1177     1291\n",
       "__all__     6805  2128     8933"
      ]
     },
     "metadata": {},
     "output_type": "display_data"
    }
   ],
   "source": [
    "rf=RandomForestClassifier()\n",
    "rf.fit(X_train,Y_train)\n",
    "acc_train=rf.score(X_train,Y_train)\n",
    "print(\"The accuracy of the model on training data is: \",rf.score(X_train,Y_train))\n",
    "cm_train=get_cm(rf,X_train,Y_train)\n",
    "display(cm_train)\n",
    "acc_test=accuracy_score(Y_test,rf.predict(X_test))\n",
    "print(\"The accuracy of the model on test data is:\",acc_test)\n",
    "cm_test=get_cm(rf,X_test,Y_test)\n",
    "display(cm_test)\n",
    "fpr, tpr, threshold = roc_curve(Y_test,rf.predict(X_test))\n",
    "auc=metrics.auc(fpr, tpr)\n",
    "\n",
    "table_80_50_train.loc[3]=   ([acc_train,cm_train.TP,cm_train.TN,cm_train.FP,cm_train.FN,cm_train.FPR,cm_train.FNR])\n",
    "table_80_50_test.loc[3] =   ([acc_test ,cm_test.TP, cm_test.TN, cm_test.FP, cm_test.FN, cm_test.FPR, cm_test.FNR,auc])"
   ]
  },
  {
   "cell_type": "code",
   "execution_count": 40,
   "metadata": {},
   "outputs": [
    {
     "data": {
      "text/html": [
       "<div>\n",
       "<style scoped>\n",
       "    .dataframe tbody tr th:only-of-type {\n",
       "        vertical-align: middle;\n",
       "    }\n",
       "\n",
       "    .dataframe tbody tr th {\n",
       "        vertical-align: top;\n",
       "    }\n",
       "\n",
       "    .dataframe thead th {\n",
       "        text-align: right;\n",
       "    }\n",
       "</style>\n",
       "<table border=\"1\" class=\"dataframe\">\n",
       "  <thead>\n",
       "    <tr style=\"text-align: right;\">\n",
       "      <th></th>\n",
       "      <th>Feature Importance</th>\n",
       "    </tr>\n",
       "  </thead>\n",
       "  <tbody>\n",
       "    <tr>\n",
       "      <th>a_count_sqr_rt</th>\n",
       "      <td>0.203748</td>\n",
       "    </tr>\n",
       "    <tr>\n",
       "      <th>a_href_relative_sqr_rt</th>\n",
       "      <td>0.140600</td>\n",
       "    </tr>\n",
       "    <tr>\n",
       "      <th>script_count_sqr_rt</th>\n",
       "      <td>0.094196</td>\n",
       "    </tr>\n",
       "    <tr>\n",
       "      <th>div_count_sqr_rt</th>\n",
       "      <td>0.088936</td>\n",
       "    </tr>\n",
       "    <tr>\n",
       "      <th>a_href_out_of_domain_log</th>\n",
       "      <td>0.082592</td>\n",
       "    </tr>\n",
       "    <tr>\n",
       "      <th>script_count_log</th>\n",
       "      <td>0.076158</td>\n",
       "    </tr>\n",
       "    <tr>\n",
       "      <th>script_async_true_sqr_rt</th>\n",
       "      <td>0.075043</td>\n",
       "    </tr>\n",
       "    <tr>\n",
       "      <th>meta_count_log</th>\n",
       "      <td>0.038358</td>\n",
       "    </tr>\n",
       "    <tr>\n",
       "      <th>p_count_log</th>\n",
       "      <td>0.030496</td>\n",
       "    </tr>\n",
       "    <tr>\n",
       "      <th>a_href_absolute_sqr_rt</th>\n",
       "      <td>0.024977</td>\n",
       "    </tr>\n",
       "    <tr>\n",
       "      <th>link_href_out_of_domain_sqr_rt</th>\n",
       "      <td>0.024155</td>\n",
       "    </tr>\n",
       "    <tr>\n",
       "      <th>link_rel_stylesheet_log</th>\n",
       "      <td>0.019229</td>\n",
       "    </tr>\n",
       "    <tr>\n",
       "      <th>link_href_out_of_domain_log</th>\n",
       "      <td>0.016311</td>\n",
       "    </tr>\n",
       "    <tr>\n",
       "      <th>script_type_text/javascript_log</th>\n",
       "      <td>0.013649</td>\n",
       "    </tr>\n",
       "    <tr>\n",
       "      <th>script_src_.js_sqr_rt</th>\n",
       "      <td>0.011740</td>\n",
       "    </tr>\n",
       "    <tr>\n",
       "      <th>script_src_out_of_domain_sqr_rt</th>\n",
       "      <td>0.010720</td>\n",
       "    </tr>\n",
       "    <tr>\n",
       "      <th>img_src_.jpg_sqr_rt</th>\n",
       "      <td>0.010600</td>\n",
       "    </tr>\n",
       "    <tr>\n",
       "      <th>script_src_https_log</th>\n",
       "      <td>0.010491</td>\n",
       "    </tr>\n",
       "    <tr>\n",
       "      <th>a_href_https_log</th>\n",
       "      <td>0.010253</td>\n",
       "    </tr>\n",
       "    <tr>\n",
       "      <th>link_href_https_log</th>\n",
       "      <td>0.008767</td>\n",
       "    </tr>\n",
       "    <tr>\n",
       "      <th>script_async_true_log</th>\n",
       "      <td>0.005467</td>\n",
       "    </tr>\n",
       "    <tr>\n",
       "      <th>iframe_src_https_sqr_rt</th>\n",
       "      <td>0.003516</td>\n",
       "    </tr>\n",
       "  </tbody>\n",
       "</table>\n",
       "</div>"
      ],
      "text/plain": [
       "                                 Feature Importance\n",
       "a_count_sqr_rt                             0.203748\n",
       "a_href_relative_sqr_rt                     0.140600\n",
       "script_count_sqr_rt                        0.094196\n",
       "div_count_sqr_rt                           0.088936\n",
       "a_href_out_of_domain_log                   0.082592\n",
       "script_count_log                           0.076158\n",
       "script_async_true_sqr_rt                   0.075043\n",
       "meta_count_log                             0.038358\n",
       "p_count_log                                0.030496\n",
       "a_href_absolute_sqr_rt                     0.024977\n",
       "link_href_out_of_domain_sqr_rt             0.024155\n",
       "link_rel_stylesheet_log                    0.019229\n",
       "link_href_out_of_domain_log                0.016311\n",
       "script_type_text/javascript_log            0.013649\n",
       "script_src_.js_sqr_rt                      0.011740\n",
       "script_src_out_of_domain_sqr_rt            0.010720\n",
       "img_src_.jpg_sqr_rt                        0.010600\n",
       "script_src_https_log                       0.010491\n",
       "a_href_https_log                           0.010253\n",
       "link_href_https_log                        0.008767\n",
       "script_async_true_log                      0.005467\n",
       "iframe_src_https_sqr_rt                    0.003516"
      ]
     },
     "execution_count": 40,
     "metadata": {},
     "output_type": "execute_result"
    }
   ],
   "source": [
    "f_r=pd.DataFrame(rf.feature_importances_,index=feature_name)\n",
    "f_r.columns=['Feature Importance']\n",
    "f_r.sort_values(by='Feature Importance',ascending=False,inplace=True)\n",
    "f_r"
   ]
  },
  {
   "cell_type": "markdown",
   "metadata": {},
   "source": [
    "##### 5. AdaBoost Classifier"
   ]
  },
  {
   "cell_type": "code",
   "execution_count": 41,
   "metadata": {},
   "outputs": [
    {
     "name": "stdout",
     "output_type": "stream",
     "text": [
      "The accuracy of the model on training data is:  0.8627560729877981\n"
     ]
    },
    {
     "data": {
      "text/plain": [
       "Predicted  False  True  __all__\n",
       "Actual                         \n",
       "False      30493   150    30643\n",
       "True        4754   335     5089\n",
       "__all__    35247   485    35732"
      ]
     },
     "metadata": {},
     "output_type": "display_data"
    },
    {
     "name": "stdout",
     "output_type": "stream",
     "text": [
      "The accuracy of the model on test data is: 0.8607410724280756\n"
     ]
    },
    {
     "data": {
      "text/plain": [
       "Predicted  False  True  __all__\n",
       "Actual                         \n",
       "False       7596    46     7642\n",
       "True        1198    93     1291\n",
       "__all__     8794   139     8933"
      ]
     },
     "metadata": {},
     "output_type": "display_data"
    }
   ],
   "source": [
    "ada=AdaBoostClassifier()\n",
    "ada.fit(X_train,Y_train)\n",
    "acc_train=ada.score(X_train,Y_train)\n",
    "print(\"The accuracy of the model on training data is: \",ada.score(X_train,Y_train))\n",
    "cm_train=get_cm(ada,X_train,Y_train)\n",
    "display(cm_train)\n",
    "acc_test=accuracy_score(Y_test,ada.predict(X_test))\n",
    "print(\"The accuracy of the model on test data is:\",acc_test)\n",
    "cm_test=get_cm(ada,X_test,Y_test)\n",
    "display(cm_test)\n",
    "fpr, tpr, threshold = roc_curve(Y_test,ada.predict(X_test))\n",
    "auc=metrics.auc(fpr, tpr)\n",
    "\n",
    "table_80_50_train.loc[4]=   ([acc_train,cm_train.TP,cm_train.TN,cm_train.FP,cm_train.FN,cm_train.FPR,cm_train.FNR])\n",
    "table_80_50_test.loc[4] =   ([acc_test ,cm_test.TP, cm_test.TN, cm_test.FP, cm_test.FN, cm_test.FPR, cm_test.FNR,auc])"
   ]
  },
  {
   "cell_type": "code",
   "execution_count": 42,
   "metadata": {},
   "outputs": [
    {
     "data": {
      "text/html": [
       "<div>\n",
       "<style scoped>\n",
       "    .dataframe tbody tr th:only-of-type {\n",
       "        vertical-align: middle;\n",
       "    }\n",
       "\n",
       "    .dataframe tbody tr th {\n",
       "        vertical-align: top;\n",
       "    }\n",
       "\n",
       "    .dataframe thead th {\n",
       "        text-align: right;\n",
       "    }\n",
       "</style>\n",
       "<table border=\"1\" class=\"dataframe\">\n",
       "  <thead>\n",
       "    <tr style=\"text-align: right;\">\n",
       "      <th></th>\n",
       "      <th>Feature Importance</th>\n",
       "    </tr>\n",
       "  </thead>\n",
       "  <tbody>\n",
       "    <tr>\n",
       "      <th>a_href_https_log</th>\n",
       "      <td>0.12</td>\n",
       "    </tr>\n",
       "    <tr>\n",
       "      <th>script_count_sqr_rt</th>\n",
       "      <td>0.10</td>\n",
       "    </tr>\n",
       "    <tr>\n",
       "      <th>a_href_out_of_domain_log</th>\n",
       "      <td>0.10</td>\n",
       "    </tr>\n",
       "    <tr>\n",
       "      <th>script_type_text/javascript_log</th>\n",
       "      <td>0.08</td>\n",
       "    </tr>\n",
       "    <tr>\n",
       "      <th>p_count_log</th>\n",
       "      <td>0.08</td>\n",
       "    </tr>\n",
       "    <tr>\n",
       "      <th>link_rel_stylesheet_log</th>\n",
       "      <td>0.08</td>\n",
       "    </tr>\n",
       "    <tr>\n",
       "      <th>img_src_.jpg_sqr_rt</th>\n",
       "      <td>0.06</td>\n",
       "    </tr>\n",
       "    <tr>\n",
       "      <th>meta_count_log</th>\n",
       "      <td>0.06</td>\n",
       "    </tr>\n",
       "    <tr>\n",
       "      <th>div_count_sqr_rt</th>\n",
       "      <td>0.06</td>\n",
       "    </tr>\n",
       "    <tr>\n",
       "      <th>script_src_https_log</th>\n",
       "      <td>0.04</td>\n",
       "    </tr>\n",
       "    <tr>\n",
       "      <th>script_async_true_log</th>\n",
       "      <td>0.04</td>\n",
       "    </tr>\n",
       "    <tr>\n",
       "      <th>script_src_out_of_domain_sqr_rt</th>\n",
       "      <td>0.04</td>\n",
       "    </tr>\n",
       "    <tr>\n",
       "      <th>link_href_out_of_domain_log</th>\n",
       "      <td>0.04</td>\n",
       "    </tr>\n",
       "    <tr>\n",
       "      <th>a_href_absolute_sqr_rt</th>\n",
       "      <td>0.02</td>\n",
       "    </tr>\n",
       "    <tr>\n",
       "      <th>a_count_sqr_rt</th>\n",
       "      <td>0.02</td>\n",
       "    </tr>\n",
       "    <tr>\n",
       "      <th>script_async_true_sqr_rt</th>\n",
       "      <td>0.02</td>\n",
       "    </tr>\n",
       "    <tr>\n",
       "      <th>script_count_log</th>\n",
       "      <td>0.02</td>\n",
       "    </tr>\n",
       "    <tr>\n",
       "      <th>script_src_.js_sqr_rt</th>\n",
       "      <td>0.02</td>\n",
       "    </tr>\n",
       "    <tr>\n",
       "      <th>iframe_src_https_sqr_rt</th>\n",
       "      <td>0.00</td>\n",
       "    </tr>\n",
       "    <tr>\n",
       "      <th>link_href_https_log</th>\n",
       "      <td>0.00</td>\n",
       "    </tr>\n",
       "    <tr>\n",
       "      <th>a_href_relative_sqr_rt</th>\n",
       "      <td>0.00</td>\n",
       "    </tr>\n",
       "    <tr>\n",
       "      <th>link_href_out_of_domain_sqr_rt</th>\n",
       "      <td>0.00</td>\n",
       "    </tr>\n",
       "  </tbody>\n",
       "</table>\n",
       "</div>"
      ],
      "text/plain": [
       "                                 Feature Importance\n",
       "a_href_https_log                               0.12\n",
       "script_count_sqr_rt                            0.10\n",
       "a_href_out_of_domain_log                       0.10\n",
       "script_type_text/javascript_log                0.08\n",
       "p_count_log                                    0.08\n",
       "link_rel_stylesheet_log                        0.08\n",
       "img_src_.jpg_sqr_rt                            0.06\n",
       "meta_count_log                                 0.06\n",
       "div_count_sqr_rt                               0.06\n",
       "script_src_https_log                           0.04\n",
       "script_async_true_log                          0.04\n",
       "script_src_out_of_domain_sqr_rt                0.04\n",
       "link_href_out_of_domain_log                    0.04\n",
       "a_href_absolute_sqr_rt                         0.02\n",
       "a_count_sqr_rt                                 0.02\n",
       "script_async_true_sqr_rt                       0.02\n",
       "script_count_log                               0.02\n",
       "script_src_.js_sqr_rt                          0.02\n",
       "iframe_src_https_sqr_rt                        0.00\n",
       "link_href_https_log                            0.00\n",
       "a_href_relative_sqr_rt                         0.00\n",
       "link_href_out_of_domain_sqr_rt                 0.00"
      ]
     },
     "execution_count": 42,
     "metadata": {},
     "output_type": "execute_result"
    }
   ],
   "source": [
    "f_a=pd.DataFrame(ada.feature_importances_,index=feature_name)\n",
    "f_a.columns=['Feature Importance']\n",
    "f_a.sort_values(by='Feature Importance',ascending=False,inplace=True)\n",
    "f_a"
   ]
  },
  {
   "cell_type": "markdown",
   "metadata": {},
   "source": [
    "#### 6. Gradient Boosting Classifier"
   ]
  },
  {
   "cell_type": "code",
   "execution_count": 43,
   "metadata": {},
   "outputs": [
    {
     "name": "stdout",
     "output_type": "stream",
     "text": [
      "The accuracy of the model on training data is:  0.8818146199485055\n"
     ]
    },
    {
     "data": {
      "text/plain": [
       "Predicted  False  True  __all__\n",
       "Actual                         \n",
       "False      26967  3676    30643\n",
       "True         547  4542     5089\n",
       "__all__    27514  8218    35732"
      ]
     },
     "metadata": {},
     "output_type": "display_data"
    },
    {
     "name": "stdout",
     "output_type": "stream",
     "text": [
      "The accuracy of the model on test data is: 0.8765252434792343\n"
     ]
    },
    {
     "data": {
      "text/plain": [
       "Predicted  False  True  __all__\n",
       "Actual                         \n",
       "False       6693   949     7642\n",
       "True         154  1137     1291\n",
       "__all__     6847  2086     8933"
      ]
     },
     "metadata": {},
     "output_type": "display_data"
    }
   ],
   "source": [
    "gbc=GradientBoostingClassifier()\n",
    "gbc.fit(X_train,Y_train)\n",
    "acc_train=gbc.score(X_train,Y_train)\n",
    "print(\"The accuracy of the model on training data is: \",gbc.score(X_train,Y_train))\n",
    "cm_train=get_cm(gbc,X_train,Y_train)\n",
    "display(cm_train)\n",
    "acc_test=accuracy_score(Y_test,gbc.predict(X_test))\n",
    "print(\"The accuracy of the model on test data is:\",acc_test)\n",
    "cm_test=get_cm(gbc,X_test,Y_test)\n",
    "display(cm_test)\n",
    "fpr, tpr, threshold = roc_curve(Y_test,gbc.predict(X_test))\n",
    "auc=metrics.auc(fpr, tpr)\n",
    "\n",
    "table_80_50_train.loc[5]=   ([acc_train,cm_train.TP,cm_train.TN,cm_train.FP,cm_train.FN,cm_train.FPR,cm_train.FNR])\n",
    "table_80_50_test.loc[5] =   ([acc_test ,cm_test.TP, cm_test.TN, cm_test.FP, cm_test.FN, cm_test.FPR, cm_test.FNR,auc])"
   ]
  },
  {
   "cell_type": "code",
   "execution_count": 44,
   "metadata": {},
   "outputs": [
    {
     "data": {
      "text/html": [
       "<div>\n",
       "<style scoped>\n",
       "    .dataframe tbody tr th:only-of-type {\n",
       "        vertical-align: middle;\n",
       "    }\n",
       "\n",
       "    .dataframe tbody tr th {\n",
       "        vertical-align: top;\n",
       "    }\n",
       "\n",
       "    .dataframe thead th {\n",
       "        text-align: right;\n",
       "    }\n",
       "</style>\n",
       "<table border=\"1\" class=\"dataframe\">\n",
       "  <thead>\n",
       "    <tr style=\"text-align: right;\">\n",
       "      <th></th>\n",
       "      <th>Feature Importance</th>\n",
       "    </tr>\n",
       "  </thead>\n",
       "  <tbody>\n",
       "    <tr>\n",
       "      <th>script_count_sqr_rt</th>\n",
       "      <td>0.179214</td>\n",
       "    </tr>\n",
       "    <tr>\n",
       "      <th>a_href_out_of_domain_log</th>\n",
       "      <td>0.084726</td>\n",
       "    </tr>\n",
       "    <tr>\n",
       "      <th>a_count_sqr_rt</th>\n",
       "      <td>0.077384</td>\n",
       "    </tr>\n",
       "    <tr>\n",
       "      <th>a_href_relative_sqr_rt</th>\n",
       "      <td>0.070282</td>\n",
       "    </tr>\n",
       "    <tr>\n",
       "      <th>div_count_sqr_rt</th>\n",
       "      <td>0.068041</td>\n",
       "    </tr>\n",
       "    <tr>\n",
       "      <th>meta_count_log</th>\n",
       "      <td>0.061823</td>\n",
       "    </tr>\n",
       "    <tr>\n",
       "      <th>link_rel_stylesheet_log</th>\n",
       "      <td>0.055933</td>\n",
       "    </tr>\n",
       "    <tr>\n",
       "      <th>p_count_log</th>\n",
       "      <td>0.051868</td>\n",
       "    </tr>\n",
       "    <tr>\n",
       "      <th>link_href_out_of_domain_sqr_rt</th>\n",
       "      <td>0.049093</td>\n",
       "    </tr>\n",
       "    <tr>\n",
       "      <th>a_href_absolute_sqr_rt</th>\n",
       "      <td>0.048364</td>\n",
       "    </tr>\n",
       "    <tr>\n",
       "      <th>script_src_.js_sqr_rt</th>\n",
       "      <td>0.040528</td>\n",
       "    </tr>\n",
       "    <tr>\n",
       "      <th>script_src_https_log</th>\n",
       "      <td>0.036893</td>\n",
       "    </tr>\n",
       "    <tr>\n",
       "      <th>a_href_https_log</th>\n",
       "      <td>0.026931</td>\n",
       "    </tr>\n",
       "    <tr>\n",
       "      <th>script_async_true_sqr_rt</th>\n",
       "      <td>0.026009</td>\n",
       "    </tr>\n",
       "    <tr>\n",
       "      <th>script_type_text/javascript_log</th>\n",
       "      <td>0.025407</td>\n",
       "    </tr>\n",
       "    <tr>\n",
       "      <th>script_count_log</th>\n",
       "      <td>0.020378</td>\n",
       "    </tr>\n",
       "    <tr>\n",
       "      <th>script_src_out_of_domain_sqr_rt</th>\n",
       "      <td>0.015494</td>\n",
       "    </tr>\n",
       "    <tr>\n",
       "      <th>link_href_out_of_domain_log</th>\n",
       "      <td>0.014221</td>\n",
       "    </tr>\n",
       "    <tr>\n",
       "      <th>img_src_.jpg_sqr_rt</th>\n",
       "      <td>0.014079</td>\n",
       "    </tr>\n",
       "    <tr>\n",
       "      <th>link_href_https_log</th>\n",
       "      <td>0.013562</td>\n",
       "    </tr>\n",
       "    <tr>\n",
       "      <th>iframe_src_https_sqr_rt</th>\n",
       "      <td>0.010389</td>\n",
       "    </tr>\n",
       "    <tr>\n",
       "      <th>script_async_true_log</th>\n",
       "      <td>0.009381</td>\n",
       "    </tr>\n",
       "  </tbody>\n",
       "</table>\n",
       "</div>"
      ],
      "text/plain": [
       "                                 Feature Importance\n",
       "script_count_sqr_rt                        0.179214\n",
       "a_href_out_of_domain_log                   0.084726\n",
       "a_count_sqr_rt                             0.077384\n",
       "a_href_relative_sqr_rt                     0.070282\n",
       "div_count_sqr_rt                           0.068041\n",
       "meta_count_log                             0.061823\n",
       "link_rel_stylesheet_log                    0.055933\n",
       "p_count_log                                0.051868\n",
       "link_href_out_of_domain_sqr_rt             0.049093\n",
       "a_href_absolute_sqr_rt                     0.048364\n",
       "script_src_.js_sqr_rt                      0.040528\n",
       "script_src_https_log                       0.036893\n",
       "a_href_https_log                           0.026931\n",
       "script_async_true_sqr_rt                   0.026009\n",
       "script_type_text/javascript_log            0.025407\n",
       "script_count_log                           0.020378\n",
       "script_src_out_of_domain_sqr_rt            0.015494\n",
       "link_href_out_of_domain_log                0.014221\n",
       "img_src_.jpg_sqr_rt                        0.014079\n",
       "link_href_https_log                        0.013562\n",
       "iframe_src_https_sqr_rt                    0.010389\n",
       "script_async_true_log                      0.009381"
      ]
     },
     "execution_count": 44,
     "metadata": {},
     "output_type": "execute_result"
    }
   ],
   "source": [
    "f_g=pd.DataFrame(gbc.feature_importances_,index=feature_name)\n",
    "f_g.columns=['Feature Importance']\n",
    "f_g.sort_values(by='Feature Importance',ascending=False,inplace=True)\n",
    "f_g"
   ]
  },
  {
   "cell_type": "markdown",
   "metadata": {},
   "source": [
    "#### 7. Extra Tree Classifier"
   ]
  },
  {
   "cell_type": "code",
   "execution_count": 45,
   "metadata": {},
   "outputs": [
    {
     "name": "stdout",
     "output_type": "stream",
     "text": [
      "The accuracy of the model on training data is:  0.8952199708944364\n"
     ]
    },
    {
     "data": {
      "text/plain": [
       "Predicted  False  True  __all__\n",
       "Actual                         \n",
       "False      27008  3635    30643\n",
       "True         109  4980     5089\n",
       "__all__    27117  8615    35732"
      ]
     },
     "metadata": {},
     "output_type": "display_data"
    },
    {
     "name": "stdout",
     "output_type": "stream",
     "text": [
      "The accuracy of the model on test data is: 0.8808910780252994\n"
     ]
    },
    {
     "data": {
      "text/plain": [
       "Predicted  False  True  __all__\n",
       "Actual                         \n",
       "False       6699   943     7642\n",
       "True         121  1170     1291\n",
       "__all__     6820  2113     8933"
      ]
     },
     "metadata": {},
     "output_type": "display_data"
    }
   ],
   "source": [
    "ext_tree=ExtraTreesClassifier()\n",
    "ext_tree.fit(X_train,Y_train)\n",
    "acc_train=ext_tree.score(X_train,Y_train)\n",
    "print(\"The accuracy of the model on training data is: \",ext_tree.score(X_train,Y_train))\n",
    "cm_train=get_cm(ext_tree,X_train,Y_train)\n",
    "display(cm_train)\n",
    "acc_test=accuracy_score(Y_test,ext_tree.predict(X_test))\n",
    "print(\"The accuracy of the model on test data is:\",acc_test)\n",
    "cm_test=get_cm(ext_tree,X_test,Y_test)\n",
    "display(cm_test)\n",
    "fpr, tpr, threshold = roc_curve(Y_test,ext_tree.predict(X_test))\n",
    "auc=metrics.auc(fpr, tpr)\n",
    "\n",
    "table_80_50_train.loc[6]=   ([acc_train,cm_train.TP,cm_train.TN,cm_train.FP,cm_train.FN,cm_train.FPR,cm_train.FNR])\n",
    "table_80_50_test.loc[6] =   ([acc_test ,cm_test.TP, cm_test.TN, cm_test.FP, cm_test.FN, cm_test.FPR, cm_test.FNR,auc])"
   ]
  },
  {
   "cell_type": "code",
   "execution_count": 46,
   "metadata": {},
   "outputs": [
    {
     "data": {
      "text/html": [
       "<div>\n",
       "<style scoped>\n",
       "    .dataframe tbody tr th:only-of-type {\n",
       "        vertical-align: middle;\n",
       "    }\n",
       "\n",
       "    .dataframe tbody tr th {\n",
       "        vertical-align: top;\n",
       "    }\n",
       "\n",
       "    .dataframe thead th {\n",
       "        text-align: right;\n",
       "    }\n",
       "</style>\n",
       "<table border=\"1\" class=\"dataframe\">\n",
       "  <thead>\n",
       "    <tr style=\"text-align: right;\">\n",
       "      <th></th>\n",
       "      <th>Feature Importance</th>\n",
       "    </tr>\n",
       "  </thead>\n",
       "  <tbody>\n",
       "    <tr>\n",
       "      <th>script_count_log</th>\n",
       "      <td>0.150078</td>\n",
       "    </tr>\n",
       "    <tr>\n",
       "      <th>a_href_out_of_domain_log</th>\n",
       "      <td>0.110076</td>\n",
       "    </tr>\n",
       "    <tr>\n",
       "      <th>meta_count_log</th>\n",
       "      <td>0.090695</td>\n",
       "    </tr>\n",
       "    <tr>\n",
       "      <th>div_count_sqr_rt</th>\n",
       "      <td>0.089312</td>\n",
       "    </tr>\n",
       "    <tr>\n",
       "      <th>script_type_text/javascript_log</th>\n",
       "      <td>0.064058</td>\n",
       "    </tr>\n",
       "    <tr>\n",
       "      <th>a_href_absolute_sqr_rt</th>\n",
       "      <td>0.063073</td>\n",
       "    </tr>\n",
       "    <tr>\n",
       "      <th>a_href_https_log</th>\n",
       "      <td>0.060920</td>\n",
       "    </tr>\n",
       "    <tr>\n",
       "      <th>script_async_true_log</th>\n",
       "      <td>0.051934</td>\n",
       "    </tr>\n",
       "    <tr>\n",
       "      <th>script_count_sqr_rt</th>\n",
       "      <td>0.050682</td>\n",
       "    </tr>\n",
       "    <tr>\n",
       "      <th>link_href_out_of_domain_sqr_rt</th>\n",
       "      <td>0.039942</td>\n",
       "    </tr>\n",
       "    <tr>\n",
       "      <th>script_src_.js_sqr_rt</th>\n",
       "      <td>0.027884</td>\n",
       "    </tr>\n",
       "    <tr>\n",
       "      <th>link_href_out_of_domain_log</th>\n",
       "      <td>0.025430</td>\n",
       "    </tr>\n",
       "    <tr>\n",
       "      <th>p_count_log</th>\n",
       "      <td>0.024870</td>\n",
       "    </tr>\n",
       "    <tr>\n",
       "      <th>link_rel_stylesheet_log</th>\n",
       "      <td>0.022279</td>\n",
       "    </tr>\n",
       "    <tr>\n",
       "      <th>a_count_sqr_rt</th>\n",
       "      <td>0.020130</td>\n",
       "    </tr>\n",
       "    <tr>\n",
       "      <th>script_src_https_log</th>\n",
       "      <td>0.019829</td>\n",
       "    </tr>\n",
       "    <tr>\n",
       "      <th>a_href_relative_sqr_rt</th>\n",
       "      <td>0.017798</td>\n",
       "    </tr>\n",
       "    <tr>\n",
       "      <th>link_href_https_log</th>\n",
       "      <td>0.016596</td>\n",
       "    </tr>\n",
       "    <tr>\n",
       "      <th>img_src_.jpg_sqr_rt</th>\n",
       "      <td>0.015890</td>\n",
       "    </tr>\n",
       "    <tr>\n",
       "      <th>script_async_true_sqr_rt</th>\n",
       "      <td>0.013846</td>\n",
       "    </tr>\n",
       "    <tr>\n",
       "      <th>iframe_src_https_sqr_rt</th>\n",
       "      <td>0.012480</td>\n",
       "    </tr>\n",
       "    <tr>\n",
       "      <th>script_src_out_of_domain_sqr_rt</th>\n",
       "      <td>0.012197</td>\n",
       "    </tr>\n",
       "  </tbody>\n",
       "</table>\n",
       "</div>"
      ],
      "text/plain": [
       "                                 Feature Importance\n",
       "script_count_log                           0.150078\n",
       "a_href_out_of_domain_log                   0.110076\n",
       "meta_count_log                             0.090695\n",
       "div_count_sqr_rt                           0.089312\n",
       "script_type_text/javascript_log            0.064058\n",
       "a_href_absolute_sqr_rt                     0.063073\n",
       "a_href_https_log                           0.060920\n",
       "script_async_true_log                      0.051934\n",
       "script_count_sqr_rt                        0.050682\n",
       "link_href_out_of_domain_sqr_rt             0.039942\n",
       "script_src_.js_sqr_rt                      0.027884\n",
       "link_href_out_of_domain_log                0.025430\n",
       "p_count_log                                0.024870\n",
       "link_rel_stylesheet_log                    0.022279\n",
       "a_count_sqr_rt                             0.020130\n",
       "script_src_https_log                       0.019829\n",
       "a_href_relative_sqr_rt                     0.017798\n",
       "link_href_https_log                        0.016596\n",
       "img_src_.jpg_sqr_rt                        0.015890\n",
       "script_async_true_sqr_rt                   0.013846\n",
       "iframe_src_https_sqr_rt                    0.012480\n",
       "script_src_out_of_domain_sqr_rt            0.012197"
      ]
     },
     "execution_count": 46,
     "metadata": {},
     "output_type": "execute_result"
    }
   ],
   "source": [
    "f_e=pd.DataFrame(ext_tree.feature_importances_,index=feature_name)\n",
    "f_e.columns=['Feature Importance']\n",
    "f_e.sort_values(by='Feature Importance',ascending=False,inplace=True)\n",
    "f_e"
   ]
  },
  {
   "cell_type": "markdown",
   "metadata": {},
   "source": [
    "#### 8. Bagging"
   ]
  },
  {
   "cell_type": "code",
   "execution_count": 47,
   "metadata": {},
   "outputs": [
    {
     "name": "stdout",
     "output_type": "stream",
     "text": [
      "The accuracy of the model on training data is:  0.8935687898802194\n"
     ]
    },
    {
     "data": {
      "text/plain": [
       "Predicted  False  True  __all__\n",
       "Actual                         \n",
       "False      26977  3666    30643\n",
       "True         137  4952     5089\n",
       "__all__    27114  8618    35732"
      ]
     },
     "metadata": {},
     "output_type": "display_data"
    },
    {
     "name": "stdout",
     "output_type": "stream",
     "text": [
      "The accuracy of the model on test data is: 0.8805552445986791\n"
     ]
    },
    {
     "data": {
      "text/plain": [
       "Predicted  False  True  __all__\n",
       "Actual                         \n",
       "False       6684   958     7642\n",
       "True         109  1182     1291\n",
       "__all__     6793  2140     8933"
      ]
     },
     "metadata": {},
     "output_type": "display_data"
    }
   ],
   "source": [
    "bagging=BaggingClassifier()\n",
    "bagging.fit(X_train,Y_train)\n",
    "acc_train=bagging.score(X_train,Y_train)\n",
    "print(\"The accuracy of the model on training data is: \",bagging.score(X_train,Y_train))\n",
    "cm_train=get_cm(bagging,X_train,Y_train)\n",
    "display(cm_train)\n",
    "acc_test=accuracy_score(Y_test,bagging.predict(X_test))\n",
    "print(\"The accuracy of the model on test data is:\",acc_test)\n",
    "cm_test=get_cm(bagging,X_test,Y_test)\n",
    "display(cm_test)\n",
    "fpr, tpr, threshold = roc_curve(Y_test,bagging.predict(X_test))\n",
    "auc=metrics.auc(fpr, tpr)\n",
    "\n",
    "table_80_50_train.loc[7]=   ([acc_train,cm_train.TP,cm_train.TN,cm_train.FP,cm_train.FN,cm_train.FPR,cm_train.FNR])\n",
    "table_80_50_test.loc[7] =   ([acc_test ,cm_test.TP, cm_test.TN, cm_test.FP, cm_test.FN, cm_test.FPR, cm_test.FNR,auc])"
   ]
  },
  {
   "cell_type": "markdown",
   "metadata": {},
   "source": [
    "#### 9. Voting Classifier"
   ]
  },
  {
   "cell_type": "code",
   "execution_count": 48,
   "metadata": {},
   "outputs": [
    {
     "name": "stdout",
     "output_type": "stream",
     "text": [
      "The accuracy of the model on training data is : 0.8806392029553342\n"
     ]
    },
    {
     "data": {
      "text/plain": [
       "Predicted  False  True  __all__\n",
       "Actual                         \n",
       "False      30567    76    30643\n",
       "True        4189   900     5089\n",
       "__all__    34756   976    35732"
      ]
     },
     "metadata": {},
     "output_type": "display_data"
    },
    {
     "name": "stdout",
     "output_type": "stream",
     "text": [
      "The accuracy of the model on test data is: 0.8726071868353297\n"
     ]
    },
    {
     "data": {
      "text/plain": [
       "Predicted  False  True  __all__\n",
       "Actual                         \n",
       "False       7614    28     7642\n",
       "True        1110   181     1291\n",
       "__all__     8724   209     8933"
      ]
     },
     "metadata": {},
     "output_type": "display_data"
    }
   ],
   "source": [
    "eclf = VotingClassifier(estimators=[('knn', knn), ('logistic', logistic),('rf',rf),('ada',ada),('gbc',gbc),\n",
    "                                    ('ext_tree',ext_tree),('bagging',bagging)], voting='soft')\n",
    "\n",
    "eclf.fit(X_train,Y_train.reshape(1,len(Y_train))[0])\n",
    "acc_train=eclf.score(X_train,Y_train)\n",
    "pred=eclf.predict(X_test)\n",
    "cm_train=get_cm(eclf,X_train,Y_train.reshape(1,len(Y_train))[0])\n",
    "print(\"The accuracy of the model on training data is :\",acc_train)\n",
    "display(cm_train)\n",
    "acc_test=accuracy_score(Y_test.reshape(1,len(Y_test))[0],pred)\n",
    "print(\"The accuracy of the model on test data is:\",acc_test)\n",
    "cm_test=ConfusionMatrix(Y_test.reshape(1,len(Y_test))[0],pred)\n",
    "display(cm_test)\n",
    "fpr, tpr, threshold = roc_curve(Y_test,eclf.predict(X_test))\n",
    "auc=metrics.auc(fpr, tpr)\n",
    "\n",
    "table_80_50_train.loc[8]=   ([acc_train,cm_train.TP,cm_train.TN,cm_train.FP,cm_train.FN,cm_train.FPR,cm_train.FNR])\n",
    "table_80_50_test.loc[8] =   ([acc_test ,cm_test.TP, cm_test.TN, cm_test.FP, cm_test.FN, cm_test.FPR, cm_test.FNR,auc])"
   ]
  },
  {
   "cell_type": "code",
   "execution_count": 49,
   "metadata": {},
   "outputs": [
    {
     "name": "stdout",
     "output_type": "stream",
     "text": [
      "Comparision Table for Training Accuracies:\n"
     ]
    },
    {
     "data": {
      "text/html": [
       "<div>\n",
       "<style scoped>\n",
       "    .dataframe tbody tr th:only-of-type {\n",
       "        vertical-align: middle;\n",
       "    }\n",
       "\n",
       "    .dataframe tbody tr th {\n",
       "        vertical-align: top;\n",
       "    }\n",
       "\n",
       "    .dataframe thead th {\n",
       "        text-align: right;\n",
       "    }\n",
       "</style>\n",
       "<table border=\"1\" class=\"dataframe\">\n",
       "  <thead>\n",
       "    <tr style=\"text-align: right;\">\n",
       "      <th></th>\n",
       "      <th>accuracy</th>\n",
       "      <th>TP</th>\n",
       "      <th>TN</th>\n",
       "      <th>FP</th>\n",
       "      <th>FN</th>\n",
       "      <th>FPR</th>\n",
       "      <th>FNR</th>\n",
       "    </tr>\n",
       "    <tr>\n",
       "      <th>index</th>\n",
       "      <th></th>\n",
       "      <th></th>\n",
       "      <th></th>\n",
       "      <th></th>\n",
       "      <th></th>\n",
       "      <th></th>\n",
       "      <th></th>\n",
       "    </tr>\n",
       "  </thead>\n",
       "  <tbody>\n",
       "    <tr>\n",
       "      <th>Neural Network-1</th>\n",
       "      <td>0.875238</td>\n",
       "      <td>4655.0</td>\n",
       "      <td>26619.0</td>\n",
       "      <td>4024.0</td>\n",
       "      <td>434.0</td>\n",
       "      <td>0.131319</td>\n",
       "      <td>0.085282</td>\n",
       "    </tr>\n",
       "    <tr>\n",
       "      <th>KNeighborsClassifier</th>\n",
       "      <td>0.874734</td>\n",
       "      <td>782.0</td>\n",
       "      <td>30474.0</td>\n",
       "      <td>169.0</td>\n",
       "      <td>4307.0</td>\n",
       "      <td>0.005515</td>\n",
       "      <td>0.846335</td>\n",
       "    </tr>\n",
       "    <tr>\n",
       "      <th>LogisticRegression</th>\n",
       "      <td>0.871936</td>\n",
       "      <td>4362.0</td>\n",
       "      <td>26794.0</td>\n",
       "      <td>3849.0</td>\n",
       "      <td>727.0</td>\n",
       "      <td>0.125608</td>\n",
       "      <td>0.142857</td>\n",
       "    </tr>\n",
       "    <tr>\n",
       "      <th>RandomForestClassifier</th>\n",
       "      <td>0.893541</td>\n",
       "      <td>4942.0</td>\n",
       "      <td>26986.0</td>\n",
       "      <td>3657.0</td>\n",
       "      <td>147.0</td>\n",
       "      <td>0.119342</td>\n",
       "      <td>0.028886</td>\n",
       "    </tr>\n",
       "    <tr>\n",
       "      <th>AdaBoostClassifier</th>\n",
       "      <td>0.862756</td>\n",
       "      <td>335.0</td>\n",
       "      <td>30493.0</td>\n",
       "      <td>150.0</td>\n",
       "      <td>4754.0</td>\n",
       "      <td>0.004895</td>\n",
       "      <td>0.934172</td>\n",
       "    </tr>\n",
       "    <tr>\n",
       "      <th>GradientBoostingClassifier</th>\n",
       "      <td>0.881815</td>\n",
       "      <td>4542.0</td>\n",
       "      <td>26967.0</td>\n",
       "      <td>3676.0</td>\n",
       "      <td>547.0</td>\n",
       "      <td>0.119962</td>\n",
       "      <td>0.107487</td>\n",
       "    </tr>\n",
       "    <tr>\n",
       "      <th>ExtraTreeClassifier</th>\n",
       "      <td>0.895220</td>\n",
       "      <td>4980.0</td>\n",
       "      <td>27008.0</td>\n",
       "      <td>3635.0</td>\n",
       "      <td>109.0</td>\n",
       "      <td>0.118624</td>\n",
       "      <td>0.021419</td>\n",
       "    </tr>\n",
       "    <tr>\n",
       "      <th>BaggingClassifier</th>\n",
       "      <td>0.893569</td>\n",
       "      <td>4952.0</td>\n",
       "      <td>26977.0</td>\n",
       "      <td>3666.0</td>\n",
       "      <td>137.0</td>\n",
       "      <td>0.119636</td>\n",
       "      <td>0.026921</td>\n",
       "    </tr>\n",
       "    <tr>\n",
       "      <th>VotingClassifier</th>\n",
       "      <td>0.880639</td>\n",
       "      <td>900.0</td>\n",
       "      <td>30567.0</td>\n",
       "      <td>76.0</td>\n",
       "      <td>4189.0</td>\n",
       "      <td>0.002480</td>\n",
       "      <td>0.823148</td>\n",
       "    </tr>\n",
       "  </tbody>\n",
       "</table>\n",
       "</div>"
      ],
      "text/plain": [
       "                            accuracy      TP       TN      FP      FN  \\\n",
       "index                                                                   \n",
       "Neural Network-1            0.875238  4655.0  26619.0  4024.0   434.0   \n",
       "KNeighborsClassifier        0.874734   782.0  30474.0   169.0  4307.0   \n",
       "LogisticRegression          0.871936  4362.0  26794.0  3849.0   727.0   \n",
       "RandomForestClassifier      0.893541  4942.0  26986.0  3657.0   147.0   \n",
       "AdaBoostClassifier          0.862756   335.0  30493.0   150.0  4754.0   \n",
       "GradientBoostingClassifier  0.881815  4542.0  26967.0  3676.0   547.0   \n",
       "ExtraTreeClassifier         0.895220  4980.0  27008.0  3635.0   109.0   \n",
       "BaggingClassifier           0.893569  4952.0  26977.0  3666.0   137.0   \n",
       "VotingClassifier            0.880639   900.0  30567.0    76.0  4189.0   \n",
       "\n",
       "                                 FPR       FNR  \n",
       "index                                           \n",
       "Neural Network-1            0.131319  0.085282  \n",
       "KNeighborsClassifier        0.005515  0.846335  \n",
       "LogisticRegression          0.125608  0.142857  \n",
       "RandomForestClassifier      0.119342  0.028886  \n",
       "AdaBoostClassifier          0.004895  0.934172  \n",
       "GradientBoostingClassifier  0.119962  0.107487  \n",
       "ExtraTreeClassifier         0.118624  0.021419  \n",
       "BaggingClassifier           0.119636  0.026921  \n",
       "VotingClassifier            0.002480  0.823148  "
      ]
     },
     "metadata": {},
     "output_type": "display_data"
    },
    {
     "name": "stdout",
     "output_type": "stream",
     "text": [
      "Comparision Table for Test Accuracies:\n"
     ]
    },
    {
     "data": {
      "text/html": [
       "<div>\n",
       "<style scoped>\n",
       "    .dataframe tbody tr th:only-of-type {\n",
       "        vertical-align: middle;\n",
       "    }\n",
       "\n",
       "    .dataframe tbody tr th {\n",
       "        vertical-align: top;\n",
       "    }\n",
       "\n",
       "    .dataframe thead th {\n",
       "        text-align: right;\n",
       "    }\n",
       "</style>\n",
       "<table border=\"1\" class=\"dataframe\">\n",
       "  <thead>\n",
       "    <tr style=\"text-align: right;\">\n",
       "      <th></th>\n",
       "      <th>accuracy</th>\n",
       "      <th>TP</th>\n",
       "      <th>TN</th>\n",
       "      <th>FP</th>\n",
       "      <th>FN</th>\n",
       "      <th>FPR</th>\n",
       "      <th>FNR</th>\n",
       "      <th>auc</th>\n",
       "    </tr>\n",
       "    <tr>\n",
       "      <th>index</th>\n",
       "      <th></th>\n",
       "      <th></th>\n",
       "      <th></th>\n",
       "      <th></th>\n",
       "      <th></th>\n",
       "      <th></th>\n",
       "      <th></th>\n",
       "      <th></th>\n",
       "    </tr>\n",
       "  </thead>\n",
       "  <tbody>\n",
       "    <tr>\n",
       "      <th>Neural Network-1</th>\n",
       "      <td>0.868017</td>\n",
       "      <td>1166.0</td>\n",
       "      <td>6588.0</td>\n",
       "      <td>1054.0</td>\n",
       "      <td>125.0</td>\n",
       "      <td>0.137922</td>\n",
       "      <td>0.096824</td>\n",
       "      <td>0.882627</td>\n",
       "    </tr>\n",
       "    <tr>\n",
       "      <th>KNeighborsClassifier</th>\n",
       "      <td>0.870032</td>\n",
       "      <td>183.0</td>\n",
       "      <td>7589.0</td>\n",
       "      <td>53.0</td>\n",
       "      <td>1108.0</td>\n",
       "      <td>0.006935</td>\n",
       "      <td>0.858249</td>\n",
       "      <td>0.567408</td>\n",
       "    </tr>\n",
       "    <tr>\n",
       "      <th>LogisticRegression</th>\n",
       "      <td>0.868801</td>\n",
       "      <td>1116.0</td>\n",
       "      <td>6645.0</td>\n",
       "      <td>997.0</td>\n",
       "      <td>175.0</td>\n",
       "      <td>0.130463</td>\n",
       "      <td>0.135554</td>\n",
       "      <td>0.866991</td>\n",
       "    </tr>\n",
       "    <tr>\n",
       "      <th>RandomForestClassifier</th>\n",
       "      <td>0.880779</td>\n",
       "      <td>1177.0</td>\n",
       "      <td>6691.0</td>\n",
       "      <td>951.0</td>\n",
       "      <td>114.0</td>\n",
       "      <td>0.124444</td>\n",
       "      <td>0.088304</td>\n",
       "      <td>0.893626</td>\n",
       "    </tr>\n",
       "    <tr>\n",
       "      <th>AdaBoostClassifier</th>\n",
       "      <td>0.860741</td>\n",
       "      <td>93.0</td>\n",
       "      <td>7596.0</td>\n",
       "      <td>46.0</td>\n",
       "      <td>1198.0</td>\n",
       "      <td>0.006019</td>\n",
       "      <td>0.927963</td>\n",
       "      <td>0.533009</td>\n",
       "    </tr>\n",
       "    <tr>\n",
       "      <th>GradientBoostingClassifier</th>\n",
       "      <td>0.876525</td>\n",
       "      <td>1137.0</td>\n",
       "      <td>6693.0</td>\n",
       "      <td>949.0</td>\n",
       "      <td>154.0</td>\n",
       "      <td>0.124182</td>\n",
       "      <td>0.119287</td>\n",
       "      <td>0.878265</td>\n",
       "    </tr>\n",
       "    <tr>\n",
       "      <th>ExtraTreeClassifier</th>\n",
       "      <td>0.880891</td>\n",
       "      <td>1170.0</td>\n",
       "      <td>6699.0</td>\n",
       "      <td>943.0</td>\n",
       "      <td>121.0</td>\n",
       "      <td>0.123397</td>\n",
       "      <td>0.093726</td>\n",
       "      <td>0.891439</td>\n",
       "    </tr>\n",
       "    <tr>\n",
       "      <th>BaggingClassifier</th>\n",
       "      <td>0.880555</td>\n",
       "      <td>1182.0</td>\n",
       "      <td>6684.0</td>\n",
       "      <td>958.0</td>\n",
       "      <td>109.0</td>\n",
       "      <td>0.125360</td>\n",
       "      <td>0.084431</td>\n",
       "      <td>0.895105</td>\n",
       "    </tr>\n",
       "    <tr>\n",
       "      <th>VotingClassifier</th>\n",
       "      <td>0.872607</td>\n",
       "      <td>181.0</td>\n",
       "      <td>7614.0</td>\n",
       "      <td>28.0</td>\n",
       "      <td>1110.0</td>\n",
       "      <td>0.003664</td>\n",
       "      <td>0.859799</td>\n",
       "      <td>0.568269</td>\n",
       "    </tr>\n",
       "  </tbody>\n",
       "</table>\n",
       "</div>"
      ],
      "text/plain": [
       "                            accuracy      TP      TN      FP      FN  \\\n",
       "index                                                                  \n",
       "Neural Network-1            0.868017  1166.0  6588.0  1054.0   125.0   \n",
       "KNeighborsClassifier        0.870032   183.0  7589.0    53.0  1108.0   \n",
       "LogisticRegression          0.868801  1116.0  6645.0   997.0   175.0   \n",
       "RandomForestClassifier      0.880779  1177.0  6691.0   951.0   114.0   \n",
       "AdaBoostClassifier          0.860741    93.0  7596.0    46.0  1198.0   \n",
       "GradientBoostingClassifier  0.876525  1137.0  6693.0   949.0   154.0   \n",
       "ExtraTreeClassifier         0.880891  1170.0  6699.0   943.0   121.0   \n",
       "BaggingClassifier           0.880555  1182.0  6684.0   958.0   109.0   \n",
       "VotingClassifier            0.872607   181.0  7614.0    28.0  1110.0   \n",
       "\n",
       "                                 FPR       FNR       auc  \n",
       "index                                                     \n",
       "Neural Network-1            0.137922  0.096824  0.882627  \n",
       "KNeighborsClassifier        0.006935  0.858249  0.567408  \n",
       "LogisticRegression          0.130463  0.135554  0.866991  \n",
       "RandomForestClassifier      0.124444  0.088304  0.893626  \n",
       "AdaBoostClassifier          0.006019  0.927963  0.533009  \n",
       "GradientBoostingClassifier  0.124182  0.119287  0.878265  \n",
       "ExtraTreeClassifier         0.123397  0.093726  0.891439  \n",
       "BaggingClassifier           0.125360  0.084431  0.895105  \n",
       "VotingClassifier            0.003664  0.859799  0.568269  "
      ]
     },
     "metadata": {},
     "output_type": "display_data"
    }
   ],
   "source": [
    "table_80_50_train['index']=['Neural Network-1','KNeighborsClassifier','LogisticRegression','RandomForestClassifier','AdaBoostClassifier',\n",
    "                           'GradientBoostingClassifier','ExtraTreeClassifier','BaggingClassifier','VotingClassifier']\n",
    "table_80_50_test['index']=['Neural Network-1','KNeighborsClassifier','LogisticRegression','RandomForestClassifier','AdaBoostClassifier',\n",
    "                           'GradientBoostingClassifier','ExtraTreeClassifier','BaggingClassifier','VotingClassifier']\n",
    "\n",
    "table_80_50_test.set_index(['index'],drop=True,inplace=True)\n",
    "table_80_50_train.set_index(['index'],drop=True,inplace=True)\n",
    "\n",
    "print(\"Comparision Table for Training Accuracies:\")\n",
    "display(table_80_50_train)\n",
    "\n",
    "print(\"Comparision Table for Test Accuracies:\")\n",
    "display(table_80_50_test)"
   ]
  },
  {
   "cell_type": "markdown",
   "metadata": {},
   "source": [
    "#### Average Feature Importance"
   ]
  },
  {
   "cell_type": "code",
   "execution_count": 50,
   "metadata": {},
   "outputs": [
    {
     "data": {
      "text/plain": [
       "script_count_sqr_rt                0.106023\n",
       "a_href_out_of_domain_log           0.094348\n",
       "a_count_sqr_rt                     0.080315\n",
       "div_count_sqr_rt                   0.076572\n",
       "script_count_log                   0.066654\n",
       "meta_count_log                     0.062719\n",
       "a_href_relative_sqr_rt             0.057170\n",
       "a_href_https_log                   0.054526\n",
       "p_count_log                        0.046808\n",
       "script_type_text/javascript_log    0.045779\n",
       "link_rel_stylesheet_log            0.044360\n",
       "a_href_absolute_sqr_rt             0.039104\n",
       "script_async_true_sqr_rt           0.033725\n",
       "link_href_out_of_domain_sqr_rt     0.028297\n",
       "script_src_https_log               0.026803\n",
       "script_async_true_log              0.026695\n",
       "img_src_.jpg_sqr_rt                0.025142\n",
       "script_src_.js_sqr_rt              0.025038\n",
       "link_href_out_of_domain_log        0.023991\n",
       "script_src_out_of_domain_sqr_rt    0.019603\n",
       "link_href_https_log                0.009731\n",
       "iframe_src_https_sqr_rt            0.006596\n",
       "dtype: float64"
      ]
     },
     "execution_count": 50,
     "metadata": {},
     "output_type": "execute_result"
    }
   ],
   "source": [
    "(pd.concat((f_r,f_a,f_g,f_e), axis=1).mean(axis=1).sort_values(ascending=False))"
   ]
  },
  {
   "cell_type": "code",
   "execution_count": 51,
   "metadata": {},
   "outputs": [
    {
     "data": {
      "text/html": [
       "<script>\n",
       "code_show=true; \n",
       "function code_toggle() {\n",
       " if (code_show){\n",
       " $('div.input').hide();\n",
       " } else {\n",
       " $('div.input').show();\n",
       " }\n",
       " code_show = !code_show\n",
       "} \n",
       "$( document ).ready(code_toggle);\n",
       "</script>\n",
       "To toggle code, click <a href=\"javascript:code_toggle()\">here</a>."
      ],
      "text/plain": [
       "<IPython.core.display.HTML object>"
      ]
     },
     "execution_count": 51,
     "metadata": {},
     "output_type": "execute_result"
    }
   ],
   "source": [
    "### Original Creator : Darshan Bhansali\n",
    "### HTML code to hide the input cells \n",
    "HTML('''<script>\n",
    "code_show=true; \n",
    "function code_toggle() {\n",
    " if (code_show){\n",
    " $('div.input').hide();\n",
    " } else {\n",
    " $('div.input').show();\n",
    " }\n",
    " code_show = !code_show\n",
    "} \n",
    "$( document ).ready(code_toggle);\n",
    "</script>\n",
    "To toggle code, click <a href=\"javascript:code_toggle()\">here</a>.''')"
   ]
  }
 ],
 "metadata": {
  "kernelspec": {
   "display_name": "Python 3",
   "language": "python",
   "name": "python3"
  },
  "language_info": {
   "codemirror_mode": {
    "name": "ipython",
    "version": 3
   },
   "file_extension": ".py",
   "mimetype": "text/x-python",
   "name": "python",
   "nbconvert_exporter": "python",
   "pygments_lexer": "ipython3",
   "version": "3.6.3"
  }
 },
 "nbformat": 4,
 "nbformat_minor": 1
}
