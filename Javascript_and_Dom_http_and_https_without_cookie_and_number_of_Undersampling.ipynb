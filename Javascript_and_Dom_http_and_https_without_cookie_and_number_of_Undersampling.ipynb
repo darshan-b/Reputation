{
 "cells": [
  {
   "cell_type": "markdown",
   "metadata": {},
   "source": [
    "***\n",
    "## Table of Contents\n",
    "<br>\n",
    "    <ol>\n",
    "        <h2><a href='#1' style=\"text-decoration : none; color : #000000;\">1. HTTP</a></h2>\n",
    "        <ul>\n",
    "            <a href='#1.A' style=\"text-decoration : none; color : #000000;\"><h3>A. Loading Data </h3></a>\n",
    "        </ul>\n",
    "        <ul>\n",
    "            <a href='#1.B' style=\"text-decoration : none; color : #000000;\"><h3>B. Feature Selection </h3></a>\n",
    "            </ul>\n",
    "        <ul>\n",
    "            <a href='#1.C' style=\"text-decoration : none; color : #000000;\"><h3>C. Splitting Training and Test Data For Selected Features </h3></a>\n",
    "           </ul>\n",
    "        <ul>\n",
    "            <a href='#1.D' style=\"text-decoration : none; color : #000000;\"><h3>D. Classification using different methods </h3></a>\n",
    "            </ul>\n",
    "            <ul>\n",
    "            <a href='#1.E' style=\"text-decoration : none; color : #000000;\"><h3>E. Results </h3></a>\n",
    "            </ul>\n",
    "     </ol>\n",
    "     <br>\n",
    "      <ol>\n",
    "        <h2><a href='#2' style=\"text-decoration : none; color : #000000;\">2. HTTP with PCA</a></h2>\n",
    "        <ul><a href='#2.A' style=\"text-decoration : none; color : #000000;\"><h3>A. Classification using different methods </h3></a>\n",
    "            </ul>\n",
    "            <ul>\n",
    "            <a href='#2.B' style=\"text-decoration : none; color : #000000;\"><h3>B. Results </h3></a>\n",
    "            </ul>\n",
    "            <ul>\n",
    "             <a href='#2.C' style=\"text-decoration : none; color : #000000;\"><h3> C. % variance eplained by selected features</h3> </a> </ul>\n",
    "     </ol>\n",
    "<br>"
   ]
  },
  {
   "cell_type": "code",
   "execution_count": 1,
   "metadata": {},
   "outputs": [
    {
     "name": "stderr",
     "output_type": "stream",
     "text": [
      "Using TensorFlow backend.\n"
     ]
    }
   ],
   "source": [
    "import pandas as pd\n",
    "import numpy as np\n",
    "import os\n",
    "import json\n",
    "from pandas.io.json import json_normalize\n",
    "from IPython.display import display,clear_output,HTML\n",
    "import matplotlib.pyplot as plt\n",
    "import seaborn as sns\n",
    "import warnings\n",
    "warnings.filterwarnings(\"ignore\")\n",
    "from tabulate import tabulate\n",
    "\n",
    "import keras\n",
    "from keras.layers import Dense,Dropout\n",
    "from keras.models import Sequential\n",
    "from keras.wrappers.scikit_learn import KerasClassifier\n",
    "\n",
    "%matplotlib inline\n",
    "pd.set_option('display.max_columns', 500)\n",
    "pd.set_option('display.max_rows',305)\n",
    "\n",
    "from sklearn.feature_selection import SelectKBest,chi2,RFE,RFECV,f_regression,SelectFromModel\n",
    "from sklearn.linear_model import LogisticRegression,RandomizedLasso,LinearRegression, Ridge,Lasso\n",
    "from sklearn.ensemble import ExtraTreesClassifier,RandomForestClassifier,GradientBoostingClassifier,AdaBoostClassifier,BaggingClassifier,VotingClassifier\n",
    "from sklearn.svm import SVC\n",
    "from sklearn.neighbors import KNeighborsClassifier\n",
    "from sklearn.model_selection import StratifiedKFold,GridSearchCV,train_test_split,cross_val_score\n",
    "\n",
    "from sklearn.preprocessing import MinMaxScaler,StandardScaler,binarize\n",
    "from sklearn.ensemble import RandomForestRegressor\n",
    "from minepy import MINE\n",
    "from sklearn import metrics\n",
    "\n",
    "import warnings\n",
    "warnings.simplefilter(\"ignore\", DeprecationWarning)\n",
    "\n",
    "from sklearn.decomposition import PCA\n",
    "from sklearn.metrics import confusion_matrix,accuracy_score,auc,roc_curve,recall_score\n",
    "from sklearn import metrics\n",
    "from pandas_ml import ConfusionMatrix\n",
    "\n",
    "\n",
    "from imblearn.over_sampling import SMOTE"
   ]
  },
  {
   "cell_type": "code",
   "execution_count": 2,
   "metadata": {
    "collapsed": true
   },
   "outputs": [],
   "source": [
    "### Function get_params takes as input a grid search model and prints out the best parameters for the model and \n",
    "### prints the best accuracy of the model\n",
    "def get_params(grid,model_name=''):\n",
    "    print(\"Best Parameters are :\")\n",
    "    display(pd.DataFrame.from_dict(grid.best_params_, orient='index').reset_index().transpose())\n",
    "\n",
    "### The function takes as input the model, X and Y data to generate the confusion matrix  \n",
    "def get_cm(model,a,b):\n",
    "    y_pred=model.predict(a)\n",
    "    cm=ConfusionMatrix(b,y_pred)\n",
    "    return cm\n",
    " \n",
    "### The get accuracy plot takes as input a dataframe and a string for the title of the plot and displays a plot\n",
    "### The function is primarily for plotting of accuracies for various classifiers for the same split.\n",
    "def get_accuracy_plot(data,title=''):\n",
    "    plt.figure(figsize=(12,8))\n",
    "    plt.plot(data['accuracy'].values, '--o')\n",
    "    plt.ylabel('Accuracy', fontsize=20)\n",
    "    plt.xlabel('Classifier', fontsize=20)\n",
    "    plt.tick_params(axis='both', which='major', labelsize=18)\n",
    "    plt.tick_params(axis='both', which='minor', labelsize=12)\n",
    "    plt.xlim([0, 9])\n",
    "    plt.title(title,size=18,y=1.05)\n",
    "    plt.xticks(np.arange(10),data.index.get_values(),rotation=90)\n",
    "    plt.legend(loc='upper right', fontsize=18)\n",
    "    plt.show()\n",
    "\n",
    "### Function grid takes as input an estimator, X_train,Y_Train,X_test and Y_test and a string represetning the name of the model\n",
    "### We perform StratifiedKFold cross validation and grid search to hypertune the parameters of the model     \n",
    "def grid(kernel,params,x,y,x_test,y_test,model_name=''):\n",
    "    kfold = StratifiedKFold(n_splits=10, shuffle=True, random_state=0)\n",
    "    grid_search=GridSearchCV(estimator=kernel,param_grid=parameters,scoring='accuracy',cv=kfold,n_jobs=3,verbose=True)\n",
    "    grid_search.fit(x,y)\n",
    "    get_params(grid_search,model_name)\n",
    "    acc_train=accuracy_score(y,grid_search.predict(x))\n",
    "    print(\"Accuracy of the \",model_name,\" model for the training data is:\",acc_train)\n",
    "    print(\"\\nConfusion Matrix for Training data is:\")\n",
    "    cm_train=get_cm(grid_search,x,y)\n",
    "    display(cm_train)\n",
    "    acc_test=accuracy_score(y_test,grid_search.predict(x_test))\n",
    "    print(\"Accuracy of the \",model_name,\" model for test data is:\",acc_test)\n",
    "    print(\"\\nConfusion Matrix for test data is:\")\n",
    "    cm_test=get_cm(grid_search,x_test,y_test)\n",
    "    display(cm_test)\n",
    "    fpr, tpr, threshold = roc_curve(y_test, grid_search.predict(x_test))\n",
    "    roc_auc =auc(fpr, tpr)\n",
    "    return grid_search,cm_train,cm_test,acc_train,acc_test,roc_auc  \n",
    "\n",
    "### Plot roc curve\n",
    "def get_roc_curve(model,x_test,y_test):\n",
    "    prob=model.predict_proba(x_test)\n",
    "    preds=prob[:,1]\n",
    "    fpr, tpr, threshold = roc_curve(y_test, preds)\n",
    "    roc_auc =auc(fpr, tpr)\n",
    "    plt.figure(figsize=(10,8))\n",
    "    plt.title('Receiver Operating Characteristic')\n",
    "    plt.plot(fpr, tpr, 'b', label = 'AUC = %0.2f' % roc_auc)\n",
    "    plt.legend(loc = 'lower right')\n",
    "    plt.plot([0, 1], [0, 1],'r--')\n",
    "    plt.xlim([0, 1])\n",
    "    plt.ylim([0, 1])\n",
    "    plt.ylabel('True Positive Rate')\n",
    "    plt.xlabel('False Positive Rate')\n",
    "    plt.show()\n",
    "    i = np.arange(len(tpr)) \n",
    "    roc = pd.DataFrame({'fpr' : pd.Series(fpr, index=i),'tpr' : pd.Series(tpr, index = i), '1-fpr' : pd.Series(1-fpr, index = i), 'tf' : pd.Series(tpr - (1-fpr), index = i), 'thresholds' : pd.Series(threshold, index = i)})\n",
    "    threshold=roc.ix[(roc.tf-0).abs().argsort()[:1]]['thresholds'].values[0]\n",
    "    print(\"Optimal Threshold is\",threshold)\n",
    "    y_pred_class=binarize(preds.reshape(1,-1),threshold)[0]\n",
    "    accuracy=accuracy_score(y_test,y_pred_class)\n",
    "    print(\"Accuracy on test data is:\",accuracy)\n",
    "    cm=ConfusionMatrix(y_test,y_pred_class)\n",
    "    display(cm)\n",
    "    return cm,accuracy,threshold,roc_auc\n",
    "\n",
    "def get_roc_curve_deep_learning(model,x_test,y_test):\n",
    "    prob=model.predict_proba(x_test)\n",
    "    preds=prob\n",
    "    fpr, tpr, threshold = roc_curve(y_test, preds)\n",
    "    roc_auc =auc(fpr, tpr)\n",
    "    plt.figure(figsize=(10,8))\n",
    "    plt.title('Receiver Operating Characteristic')\n",
    "    plt.plot(fpr, tpr, 'b', label = 'AUC = %0.2f' % roc_auc)\n",
    "    plt.legend(loc = 'lower right')\n",
    "    plt.plot([0, 1], [0, 1],'r--')\n",
    "    plt.xlim([0, 1])\n",
    "    plt.ylim([0, 1])\n",
    "    plt.ylabel('True Positive Rate')\n",
    "    plt.xlabel('False Positive Rate')\n",
    "    plt.show()\n",
    "    i = np.arange(len(tpr)) \n",
    "    roc = pd.DataFrame({'fpr' : pd.Series(fpr, index=i),'tpr' : pd.Series(tpr, index = i), '1-fpr' : pd.Series(1-fpr, index = i), 'tf' : pd.Series(tpr - (1-fpr), index = i), 'thresholds' : pd.Series(threshold, index = i)})\n",
    "    threshold=roc.ix[(roc.tf-0).abs().argsort()[:1]]['thresholds'].values[0]\n",
    "    print(\"Optimal Threshold is\",threshold)\n",
    "    y_pred_class=binarize(preds.reshape(1,-1),threshold)[0]\n",
    "    accuracy=accuracy_score(y_test,y_pred_class)\n",
    "    print(\"Accuracy of Logistic Model on training data is:\",accuracy)\n",
    "    cm=ConfusionMatrix(y_test,y_pred_class)\n",
    "    display(cm)\n",
    "    return cm,accuracy,threshold,roc_auc"
   ]
  },
  {
   "cell_type": "markdown",
   "metadata": {},
   "source": [
    "## <a id='1' style=\"text-decoration : none; color : #000000;\"> HTTP</a>\n",
    "\n",
    "### <a id='1.A' style=\"text-decoration : none; color : #000000;\">A. Loading Data</a>"
   ]
  },
  {
   "cell_type": "code",
   "execution_count": 3,
   "metadata": {},
   "outputs": [
    {
     "data": {
      "text/plain": [
       "1    6287\n",
       "0    6287\n",
       "Name: Malicious, dtype: int64"
      ]
     },
     "execution_count": 3,
     "metadata": {},
     "output_type": "execute_result"
    }
   ],
   "source": [
    "df_alex=pd.read_csv('Javascript_alexa_output_final_http.csv',low_memory=False)\n",
    "df_virus=pd.read_csv('Javascript_malicious_output_final_http.csv',low_memory=False)\n",
    "\n",
    "df_alex['Malicious']=0\n",
    "df_virus['Malicious']=1\n",
    "\n",
    "df=pd.concat([df_alex,df_virus])\n",
    "df.drop(['Unnamed: 0'],axis=1,inplace=True)\n",
    "df = df.sample(frac=1,random_state=867).reset_index(drop=True)\n",
    "df.fillna(value=0,inplace=True)\n",
    "df=df[df['html_status']=='Success']\n",
    "\n",
    "\n",
    "### Dropping columns that indicate the html status of domain data collection\n",
    "\n",
    "df.drop(['html_status','html_status_strerror','html_status_message'],axis=1,inplace=True)\n",
    "df.set_index(['domain'],inplace=True)\n",
    "\n",
    "\n",
    "# df.to_csv('Javascript_dom.csv')\n",
    "\n",
    "df.head()\n",
    "\n",
    "df_non=df[df.Malicious==0]\n",
    "df_mal=df[df.Malicious==1]\n",
    "\n",
    "df_non=df_non.sample(frac=len(df_mal)/len(df_non),random_state=0)\n",
    "df_u=df_non.append(df_mal)\n",
    "df_u.Malicious.value_counts() "
   ]
  },
  {
   "cell_type": "code",
   "execution_count": 4,
   "metadata": {
    "collapsed": true
   },
   "outputs": [],
   "source": [
    "X=df_u.copy(deep=True)\n",
    "\n",
    "drop_col=[col for col in df_u.columns if 'number' in col]\n",
    "\n",
    "drop_col.append('Malicious')"
   ]
  },
  {
   "cell_type": "code",
   "execution_count": 5,
   "metadata": {
    "collapsed": true
   },
   "outputs": [],
   "source": [
    "X.drop(drop_col,axis=1,inplace=True)\n",
    "y=df_u.Malicious.values\n",
    "feature_name = X.columns.tolist()"
   ]
  },
  {
   "cell_type": "code",
   "execution_count": 6,
   "metadata": {
    "collapsed": true
   },
   "outputs": [],
   "source": [
    "def cor_selector(X, y):\n",
    "    cor_list = []\n",
    "    # calculate the correlation with y for each feature\n",
    "    for i in X.columns.tolist():\n",
    "        cor = np.corrcoef(X[i], y)[0, 1]\n",
    "        cor_list.append(cor)\n",
    "    # replace NaN with 0\n",
    "    cor_list = [0 if np.isnan(i) else i for i in cor_list]\n",
    "    # feature name\n",
    "    cor_feature = X.iloc[:,np.argsort(np.abs(cor_list))[-100:]].columns.tolist()\n",
    "    # feature selection? 0 for not select, 1 for select\n",
    "    cor_support = [True if i in cor_feature else False for i in feature_name]\n",
    "    return cor_support, cor_feature\n",
    "\n",
    "\n",
    "cor_support, cor_feature = cor_selector(X, y)\n",
    "\n",
    "\n",
    "X_norm = MinMaxScaler().fit_transform(X)\n",
    "chi_selector = SelectKBest(chi2, k=100)\n",
    "chi_selector.fit(X_norm, y)\n",
    "chi_support = chi_selector.get_support()\n",
    "chi_feature = X.loc[:,chi_support].columns.tolist()\n",
    "\n",
    "\n",
    "rfe_selector = RFE(estimator=LogisticRegression(), n_features_to_select=100, step=10, verbose=False)\n",
    "rfe_selector.fit(X_norm, y)\n",
    "rfe_support = rfe_selector.get_support()\n",
    "rfe_feature = X.loc[:,rfe_support].columns.tolist()\n",
    "\n",
    "\n",
    "embeded_rf_selector = SelectFromModel(RandomForestClassifier(n_estimators=100), threshold='23*median')\n",
    "embeded_rf_selector.fit(X, y)\n",
    "embeded_rf_support = embeded_rf_selector.get_support()\n",
    "embeded_rf_feature = X.loc[:,embeded_rf_support].columns.tolist()\n",
    "\n",
    "\n",
    "feature_selection_df = pd.DataFrame({'Feature':feature_name, 'Pearson':cor_support, 'Chi-2':chi_support, 'RFE':rfe_support,\n",
    "                                    'Random Forest':embeded_rf_support})\n",
    "# count the selected times for each feature\n",
    "feature_selection_df['Total'] = np.sum(feature_selection_df, axis=1)\n",
    "# display the top 100\n",
    "feature_selection_df = feature_selection_df.sort_values(['Total','Feature'] , ascending=False)\n",
    "feature_selection_df.index = range(1, len(feature_selection_df)+1)"
   ]
  },
  {
   "cell_type": "code",
   "execution_count": 7,
   "metadata": {},
   "outputs": [
    {
     "name": "stdout",
     "output_type": "stream",
     "text": [
      "The train/test split ratio is 80:20\n"
     ]
    },
    {
     "data": {
      "text/plain": [
       "(12574, 69)"
      ]
     },
     "execution_count": 7,
     "metadata": {},
     "output_type": "execute_result"
    }
   ],
   "source": [
    "X=df_u[feature_selection_df[feature_selection_df.Total==4]['Feature']]\n",
    "y=df_u.Malicious.values\n",
    "feature_name = X.columns.tolist()\n",
    "\n",
    "scaler=StandardScaler()\n",
    "scaled_X=scaler.fit_transform(X)\n",
    "\n",
    "print(\"The train/test split ratio is 80:20\")\n",
    "X_train, X_test, Y_train, Y_test = train_test_split(scaled_X,y,random_state=0,test_size=0.2)\n",
    "\n",
    "X.shape"
   ]
  },
  {
   "cell_type": "markdown",
   "metadata": {},
   "source": [
    "#### Features selected"
   ]
  },
  {
   "cell_type": "code",
   "execution_count": 8,
   "metadata": {},
   "outputs": [
    {
     "data": {
      "text/plain": [
       "['js_function_unescape(',\n",
       " 'js_function_parseInt(',\n",
       " 'js_function_escape(',\n",
       " 'js_function_encodeURIComponent(',\n",
       " 'js_function_encodeURI(',\n",
       " 'js_function_decodeURIComponent(',\n",
       " 'js_function_String.fromCharCode(',\n",
       " 'js_function_Object.keys(',\n",
       " 'js_function_Object.getOwnPropertyNames(',\n",
       " 'js_function_Math.round(',\n",
       " 'js_function_Math.random(',\n",
       " 'js_function_Math.min(',\n",
       " 'js_function_Math.max(',\n",
       " 'js_function_Math.floor(',\n",
       " 'js_function_JSON.parse(',\n",
       " 'js_function_Date.now(',\n",
       " 'js_function_.trim(',\n",
       " 'js_function_.toString(',\n",
       " 'js_function_.toLowerCase(',\n",
       " 'js_function_.test(',\n",
       " 'js_function_.substring(',\n",
       " 'js_function_.substr',\n",
       " 'js_function_.split(',\n",
       " 'js_function_.splice(',\n",
       " 'js_function_.shift(',\n",
       " 'js_function_.setTime(',\n",
       " 'js_function_.search(',\n",
       " 'js_function_.reverse(',\n",
       " 'js_function_.replace(',\n",
       " 'js_function_.push(',\n",
       " 'js_function_.propertyIsEnumerable(',\n",
       " 'js_function_.min(',\n",
       " 'js_function_.match(',\n",
       " 'js_function_.log(',\n",
       " 'js_function_.lastIndexOf(',\n",
       " 'js_function_.keys(',\n",
       " 'js_function_.indexOf(',\n",
       " 'js_function_.getYear(',\n",
       " 'js_function_.getUTCHours(',\n",
       " 'js_function_.getTime(',\n",
       " 'js_function_.getSeconds(',\n",
       " 'js_function_.getMonth(',\n",
       " 'js_function_.getMinutes(',\n",
       " 'js_function_.getMilliseconds(',\n",
       " 'js_function_.getHours(',\n",
       " 'js_function_.getFullYear(',\n",
       " 'js_function_.getDate(',\n",
       " 'js_function_.find(',\n",
       " 'js_function_.concat(',\n",
       " 'js_function_.charAt(',\n",
       " 'js_function_.apply(',\n",
       " 'js_function_.all(',\n",
       " 'dom_function_window.setTimeout(',\n",
       " 'dom_function_window.setInterval(',\n",
       " 'dom_function_window.matchMedia(',\n",
       " 'dom_function_window.getSelection(',\n",
       " 'dom_function_window.getComputedStyle(',\n",
       " 'dom_function_window.clearInterval(',\n",
       " 'dom_function_window.addEventListener(',\n",
       " 'dom_function_document.querySelectorAll(',\n",
       " 'dom_function_document.querySelector(',\n",
       " 'dom_function_document.open(',\n",
       " 'dom_function_document.getElementsByTagName(',\n",
       " 'dom_function_document.getElementsByClassName(',\n",
       " 'dom_function_document.getElementById(',\n",
       " 'dom_function_document.execCommand(',\n",
       " 'dom_function_document.createTextNode(',\n",
       " 'dom_function_document.createEvent(',\n",
       " 'dom_function_document.createElement(']"
      ]
     },
     "execution_count": 8,
     "metadata": {},
     "output_type": "execute_result"
    }
   ],
   "source": [
    "feature_name"
   ]
  },
  {
   "cell_type": "markdown",
   "metadata": {},
   "source": [
    "### <a id='1.C' style=\"text-decoration : none; color : #000000;\"> C. Splitting Training and Test Data For Selected Features </a>"
   ]
  },
  {
   "cell_type": "code",
   "execution_count": 9,
   "metadata": {},
   "outputs": [
    {
     "name": "stdout",
     "output_type": "stream",
     "text": [
      "The train/test split ratio is 80:20\n"
     ]
    },
    {
     "data": {
      "text/plain": [
       "(12574, 69)"
      ]
     },
     "execution_count": 9,
     "metadata": {},
     "output_type": "execute_result"
    }
   ],
   "source": [
    "scaler=StandardScaler()\n",
    "scaled_X=scaler.fit_transform(X)\n",
    "\n",
    "print(\"The train/test split ratio is 80:20\")\n",
    "X_train, X_test, Y_train, Y_test = train_test_split(scaled_X,y,random_state=0,test_size=0.2)\n",
    "\n",
    "X.shape"
   ]
  },
  {
   "cell_type": "markdown",
   "metadata": {},
   "source": [
    "### <a id='1.D' style=\"text-decoration : none; color : #000000;\"> D. Classification using different methods </a>"
   ]
  },
  {
   "cell_type": "code",
   "execution_count": 10,
   "metadata": {
    "collapsed": true
   },
   "outputs": [],
   "source": [
    "## Table to store training and test measures\n",
    "table_80_50_train=pd.DataFrame(columns=['accuracy','TP','TN','FP','FN','FPR','FNR'])\n",
    "table_80_50_test=pd.DataFrame(columns=['accuracy','TP','TN','FP','FN','FPR','FNR','auc'])"
   ]
  },
  {
   "cell_type": "markdown",
   "metadata": {},
   "source": [
    "#### D.1. Deep Learning"
   ]
  },
  {
   "cell_type": "code",
   "execution_count": 11,
   "metadata": {
    "scrolled": true
   },
   "outputs": [
    {
     "name": "stdout",
     "output_type": "stream",
     "text": [
      "The accuracy of the model on training data is: 0.8854756934385151\n"
     ]
    },
    {
     "data": {
      "text/plain": [
       "Predicted  False  True  __all__\n",
       "Actual                         \n",
       "False       4103   953     5056\n",
       "True         199  4804     5003\n",
       "__all__     4302  5757    10059"
      ]
     },
     "metadata": {},
     "output_type": "display_data"
    },
    {
     "name": "stdout",
     "output_type": "stream",
     "text": [
      "The accuracy of the model on test data is: 0.8775347912524851\n"
     ]
    },
    {
     "data": {
      "text/plain": [
       "Predicted  False  True  __all__\n",
       "Actual                         \n",
       "False        981   250     1231\n",
       "True          58  1226     1284\n",
       "__all__     1039  1476     2515"
      ]
     },
     "metadata": {},
     "output_type": "display_data"
    }
   ],
   "source": [
    "np.random.seed(0)\n",
    "deep_learning=Sequential()\n",
    "deep_learning.add(Dense(units=64,activation='relu',use_bias=True,kernel_initializer='uniform',input_dim=X.shape[1]))\n",
    "deep_learning.add(Dense(units=128,activation='relu',use_bias=True,kernel_initializer='uniform'))\n",
    "deep_learning.add(Dense(units=1,activation='sigmoid',use_bias=True,kernel_initializer='uniform'))\n",
    "deep_learning.compile(optimizer='adam',loss='binary_crossentropy',metrics=['accuracy'])\n",
    "deep_learning.fit(X_train,Y_train,batch_size=20,epochs=20,verbose=False)\n",
    "\n",
    "acc_train=deep_learning.evaluate(X_train,Y_train,verbose=False)[1]\n",
    "print(\"The accuracy of the model on training data is:\",acc_train)\n",
    "cm_train=ConfusionMatrix(Y_train,deep_learning.predict_classes(X_train,batch_size=1,verbose=False).reshape(1,len(X_train))[0])\n",
    "cm_test=ConfusionMatrix(Y_test,deep_learning.predict_classes(X_test,batch_size=1,verbose=False).reshape(1,len(X_test))[0])\n",
    "display(cm_train)\n",
    "acc_test=accuracy_score(Y_test,deep_learning.predict_classes(X_test,batch_size=1,verbose=False))\n",
    "print(\"The accuracy of the model on test data is:\",acc_test)\n",
    "display(cm_test)\n",
    "fpr, tpr, threshold = roc_curve(Y_test, deep_learning.predict_classes(X_test,batch_size=1,verbose=False).reshape(1,len(X_test))[0])\n",
    "auc=metrics.auc(fpr, tpr)\n",
    "\n",
    "table_80_50_train.loc[0]=([acc_train,cm_train.TP,cm_train.TN,cm_train.FP,cm_train.FN,cm_train.FPR,cm_train.FNR])\n",
    "table_80_50_test.loc[0]=([acc_test,cm_test.TP,cm_test.TN,cm_test.FP,cm_test.FN,cm_test.FPR,cm_test.FNR,auc])"
   ]
  },
  {
   "cell_type": "markdown",
   "metadata": {},
   "source": [
    "#### D.2. KNN"
   ]
  },
  {
   "cell_type": "code",
   "execution_count": 12,
   "metadata": {},
   "outputs": [
    {
     "name": "stdout",
     "output_type": "stream",
     "text": [
      "The accuracy of the model on training data is:  0.8813003280644199\n"
     ]
    },
    {
     "data": {
      "text/plain": [
       "Predicted  False  True  __all__\n",
       "Actual                         \n",
       "False       4067   989     5056\n",
       "True         205  4798     5003\n",
       "__all__     4272  5787    10059"
      ]
     },
     "metadata": {},
     "output_type": "display_data"
    },
    {
     "name": "stdout",
     "output_type": "stream",
     "text": [
      "The accuracy of the model on test data is: 0.8799204771371769\n"
     ]
    },
    {
     "data": {
      "text/plain": [
       "Predicted  False  True  __all__\n",
       "Actual                         \n",
       "False        983   248     1231\n",
       "True          54  1230     1284\n",
       "__all__     1037  1478     2515"
      ]
     },
     "metadata": {},
     "output_type": "display_data"
    }
   ],
   "source": [
    "knn=KNeighborsClassifier()\n",
    "knn.fit(X_train,Y_train)\n",
    "acc_train=knn.score(X_train,Y_train)\n",
    "print(\"The accuracy of the model on training data is: \",knn.score(X_train,Y_train))\n",
    "cm_train=get_cm(knn,X_train,Y_train)\n",
    "display(cm_train)\n",
    "acc_test=accuracy_score(Y_test,knn.predict(X_test))\n",
    "print(\"The accuracy of the model on test data is:\",acc_test)\n",
    "cm_test=get_cm(knn,X_test,Y_test)\n",
    "display(cm_test)\n",
    "fpr, tpr, threshold = roc_curve(Y_test,knn.predict(X_test))\n",
    "auc=metrics.auc(fpr, tpr)\n",
    "\n",
    "table_80_50_train.loc[1]= ([acc_train,cm_train.TP,cm_train.TN,cm_train.FP,cm_train.FN,cm_train.FPR,cm_train.FNR])\n",
    "table_80_50_test.loc[1] = ([acc_test ,cm_test.TP, cm_test.TN, cm_test.FP, cm_test.FN, cm_test.FPR, cm_test.FNR,auc])"
   ]
  },
  {
   "cell_type": "markdown",
   "metadata": {},
   "source": [
    "#### D.3. Logistics"
   ]
  },
  {
   "cell_type": "code",
   "execution_count": 13,
   "metadata": {},
   "outputs": [
    {
     "name": "stdout",
     "output_type": "stream",
     "text": [
      "The accuracy of the model on training data is:  0.8120091460383736\n"
     ]
    },
    {
     "data": {
      "text/plain": [
       "Predicted  False  True  __all__\n",
       "Actual                         \n",
       "False       3401  1655     5056\n",
       "True         236  4767     5003\n",
       "__all__     3637  6422    10059"
      ]
     },
     "metadata": {},
     "output_type": "display_data"
    },
    {
     "name": "stdout",
     "output_type": "stream",
     "text": [
      "The accuracy of the model on test data is: 0.8163021868787277\n"
     ]
    },
    {
     "data": {
      "text/plain": [
       "Predicted  False  True  __all__\n",
       "Actual                         \n",
       "False        819   412     1231\n",
       "True          50  1234     1284\n",
       "__all__      869  1646     2515"
      ]
     },
     "metadata": {},
     "output_type": "display_data"
    }
   ],
   "source": [
    "logistic=LogisticRegression()\n",
    "logistic.fit(X_train,Y_train)\n",
    "acc_train=logistic.score(X_train,Y_train)\n",
    "print(\"The accuracy of the model on training data is: \",logistic.score(X_train,Y_train))\n",
    "cm_train=get_cm(logistic,X_train,Y_train)\n",
    "display(cm_train)\n",
    "acc_test=accuracy_score(Y_test,logistic.predict(X_test))\n",
    "print(\"The accuracy of the model on test data is:\",acc_test)\n",
    "cm_test=get_cm(logistic,X_test,Y_test)\n",
    "display(cm_test)\n",
    "fpr, tpr, threshold = roc_curve(Y_test,logistic.predict(X_test))\n",
    "auc=metrics.auc(fpr, tpr)\n",
    "\n",
    "table_80_50_train.loc[2]=   ([acc_train,cm_train.TP,cm_train.TN,cm_train.FP,cm_train.FN,cm_train.FPR,cm_train.FNR])\n",
    "table_80_50_test.loc[2] =   ([acc_test ,cm_test.TP, cm_test.TN, cm_test.FP, cm_test.FN, cm_test.FPR, cm_test.FNR,auc])"
   ]
  },
  {
   "cell_type": "markdown",
   "metadata": {},
   "source": [
    "#### D.4. Random Forest Classifier"
   ]
  },
  {
   "cell_type": "code",
   "execution_count": 14,
   "metadata": {},
   "outputs": [
    {
     "name": "stdout",
     "output_type": "stream",
     "text": [
      "The accuracy of the model on training data is:  0.8980017894422905\n"
     ]
    },
    {
     "data": {
      "text/plain": [
       "Predicted  False  True  __all__\n",
       "Actual                         \n",
       "False       4120   936     5056\n",
       "True          90  4913     5003\n",
       "__all__     4210  5849    10059"
      ]
     },
     "metadata": {},
     "output_type": "display_data"
    },
    {
     "name": "stdout",
     "output_type": "stream",
     "text": [
      "The accuracy of the model on test data is: 0.8850894632206759\n"
     ]
    },
    {
     "data": {
      "text/plain": [
       "Predicted  False  True  __all__\n",
       "Actual                         \n",
       "False        990   241     1231\n",
       "True          48  1236     1284\n",
       "__all__     1038  1477     2515"
      ]
     },
     "metadata": {},
     "output_type": "display_data"
    }
   ],
   "source": [
    "rf=RandomForestClassifier()\n",
    "rf.fit(X_train,Y_train)\n",
    "acc_train=rf.score(X_train,Y_train)\n",
    "print(\"The accuracy of the model on training data is: \",rf.score(X_train,Y_train))\n",
    "cm_train=get_cm(rf,X_train,Y_train)\n",
    "display(cm_train)\n",
    "acc_test=accuracy_score(Y_test,rf.predict(X_test))\n",
    "print(\"The accuracy of the model on test data is:\",acc_test)\n",
    "cm_test=get_cm(rf,X_test,Y_test)\n",
    "display(cm_test)\n",
    "fpr, tpr, threshold = roc_curve(Y_test,rf.predict(X_test))\n",
    "auc=metrics.auc(fpr, tpr)\n",
    "\n",
    "table_80_50_train.loc[3]=   ([acc_train,cm_train.TP,cm_train.TN,cm_train.FP,cm_train.FN,cm_train.FPR,cm_train.FNR])\n",
    "table_80_50_test.loc[3] =   ([acc_test ,cm_test.TP, cm_test.TN, cm_test.FP, cm_test.FN, cm_test.FPR, cm_test.FNR,auc])"
   ]
  },
  {
   "cell_type": "markdown",
   "metadata": {},
   "source": [
    "#### D.5. AdaBoost Classifier"
   ]
  },
  {
   "cell_type": "code",
   "execution_count": 15,
   "metadata": {},
   "outputs": [
    {
     "name": "stdout",
     "output_type": "stream",
     "text": [
      "The accuracy of the model on training data is:  0.8475991649269311\n"
     ]
    },
    {
     "data": {
      "text/plain": [
       "Predicted  False  True  __all__\n",
       "Actual                         \n",
       "False       3815  1241     5056\n",
       "True         292  4711     5003\n",
       "__all__     4107  5952    10059"
      ]
     },
     "metadata": {},
     "output_type": "display_data"
    },
    {
     "name": "stdout",
     "output_type": "stream",
     "text": [
      "The accuracy of the model on test data is: 0.8504970178926441\n"
     ]
    },
    {
     "data": {
      "text/plain": [
       "Predicted  False  True  __all__\n",
       "Actual                         \n",
       "False        922   309     1231\n",
       "True          67  1217     1284\n",
       "__all__      989  1526     2515"
      ]
     },
     "metadata": {},
     "output_type": "display_data"
    }
   ],
   "source": [
    "ada=AdaBoostClassifier()\n",
    "ada.fit(X_train,Y_train)\n",
    "acc_train=ada.score(X_train,Y_train)\n",
    "print(\"The accuracy of the model on training data is: \",ada.score(X_train,Y_train))\n",
    "cm_train=get_cm(ada,X_train,Y_train)\n",
    "display(cm_train)\n",
    "acc_test=accuracy_score(Y_test,ada.predict(X_test))\n",
    "print(\"The accuracy of the model on test data is:\",acc_test)\n",
    "cm_test=get_cm(ada,X_test,Y_test)\n",
    "display(cm_test)\n",
    "fpr, tpr, threshold = roc_curve(Y_test,ada.predict(X_test))\n",
    "auc=metrics.auc(fpr, tpr)\n",
    "\n",
    "table_80_50_train.loc[4]=   ([acc_train,cm_train.TP,cm_train.TN,cm_train.FP,cm_train.FN,cm_train.FPR,cm_train.FNR])\n",
    "table_80_50_test.loc[4] =   ([acc_test ,cm_test.TP, cm_test.TN, cm_test.FP, cm_test.FN, cm_test.FPR, cm_test.FNR,auc])"
   ]
  },
  {
   "cell_type": "markdown",
   "metadata": {},
   "source": [
    "#### D.6. GradientBoosting Classifier"
   ]
  },
  {
   "cell_type": "code",
   "execution_count": 16,
   "metadata": {},
   "outputs": [
    {
     "name": "stdout",
     "output_type": "stream",
     "text": [
      "The accuracy of the model on training data is:  0.8741425589024754\n"
     ]
    },
    {
     "data": {
      "text/plain": [
       "Predicted  False  True  __all__\n",
       "Actual                         \n",
       "False       4039  1017     5056\n",
       "True         249  4754     5003\n",
       "__all__     4288  5771    10059"
      ]
     },
     "metadata": {},
     "output_type": "display_data"
    },
    {
     "name": "stdout",
     "output_type": "stream",
     "text": [
      "The accuracy of the model on test data is: 0.8731610337972167\n"
     ]
    },
    {
     "data": {
      "text/plain": [
       "Predicted  False  True  __all__\n",
       "Actual                         \n",
       "False        970   261     1231\n",
       "True          58  1226     1284\n",
       "__all__     1028  1487     2515"
      ]
     },
     "metadata": {},
     "output_type": "display_data"
    }
   ],
   "source": [
    "gbc=GradientBoostingClassifier()\n",
    "gbc.fit(X_train,Y_train)\n",
    "acc_train=gbc.score(X_train,Y_train)\n",
    "print(\"The accuracy of the model on training data is: \",gbc.score(X_train,Y_train))\n",
    "cm_train=get_cm(gbc,X_train,Y_train)\n",
    "display(cm_train)\n",
    "acc_test=accuracy_score(Y_test,gbc.predict(X_test))\n",
    "print(\"The accuracy of the model on test data is:\",acc_test)\n",
    "cm_test=get_cm(gbc,X_test,Y_test)\n",
    "display(cm_test)\n",
    "fpr, tpr, threshold = roc_curve(Y_test,gbc.predict(X_test))\n",
    "auc=metrics.auc(fpr, tpr)\n",
    "\n",
    "table_80_50_train.loc[5]=   ([acc_train,cm_train.TP,cm_train.TN,cm_train.FP,cm_train.FN,cm_train.FPR,cm_train.FNR])\n",
    "table_80_50_test.loc[5] =   ([acc_test ,cm_test.TP, cm_test.TN, cm_test.FP, cm_test.FN, cm_test.FPR, cm_test.FNR,auc])"
   ]
  },
  {
   "cell_type": "markdown",
   "metadata": {},
   "source": [
    "#### D.7. Extra Tree Classifier"
   ]
  },
  {
   "cell_type": "code",
   "execution_count": 17,
   "metadata": {},
   "outputs": [
    {
     "name": "stdout",
     "output_type": "stream",
     "text": [
      "The accuracy of the model on training data is:  0.9001888855751069\n"
     ]
    },
    {
     "data": {
      "text/plain": [
       "Predicted  False  True  __all__\n",
       "Actual                         \n",
       "False       4121   935     5056\n",
       "True          69  4934     5003\n",
       "__all__     4190  5869    10059"
      ]
     },
     "metadata": {},
     "output_type": "display_data"
    },
    {
     "name": "stdout",
     "output_type": "stream",
     "text": [
      "The accuracy of the model on test data is: 0.8854870775347913\n"
     ]
    },
    {
     "data": {
      "text/plain": [
       "Predicted  False  True  __all__\n",
       "Actual                         \n",
       "False        990   241     1231\n",
       "True          47  1237     1284\n",
       "__all__     1037  1478     2515"
      ]
     },
     "metadata": {},
     "output_type": "display_data"
    }
   ],
   "source": [
    "ext_tree=ExtraTreesClassifier()\n",
    "ext_tree.fit(X_train,Y_train)\n",
    "acc_train=ext_tree.score(X_train,Y_train)\n",
    "print(\"The accuracy of the model on training data is: \",ext_tree.score(X_train,Y_train))\n",
    "cm_train=get_cm(ext_tree,X_train,Y_train)\n",
    "display(cm_train)\n",
    "acc_test=accuracy_score(Y_test,ext_tree.predict(X_test))\n",
    "print(\"The accuracy of the model on test data is:\",acc_test)\n",
    "cm_test=get_cm(ext_tree,X_test,Y_test)\n",
    "display(cm_test)\n",
    "fpr, tpr, threshold = roc_curve(Y_test,ext_tree.predict(X_test))\n",
    "auc=metrics.auc(fpr, tpr)\n",
    "\n",
    "table_80_50_train.loc[6]=   ([acc_train,cm_train.TP,cm_train.TN,cm_train.FP,cm_train.FN,cm_train.FPR,cm_train.FNR])\n",
    "table_80_50_test.loc[6] =   ([acc_test ,cm_test.TP, cm_test.TN, cm_test.FP, cm_test.FN, cm_test.FPR, cm_test.FNR,auc])"
   ]
  },
  {
   "cell_type": "markdown",
   "metadata": {},
   "source": [
    "#### D.8. Bagging Classifier"
   ]
  },
  {
   "cell_type": "code",
   "execution_count": 18,
   "metadata": {},
   "outputs": [
    {
     "name": "stdout",
     "output_type": "stream",
     "text": [
      "The accuracy of the model on training data is:  0.8978029625211253\n"
     ]
    },
    {
     "data": {
      "text/plain": [
       "Predicted  False  True  __all__\n",
       "Actual                         \n",
       "False       4115   941     5056\n",
       "True          87  4916     5003\n",
       "__all__     4202  5857    10059"
      ]
     },
     "metadata": {},
     "output_type": "display_data"
    },
    {
     "name": "stdout",
     "output_type": "stream",
     "text": [
      "The accuracy of the model on test data is: 0.8819085487077535\n"
     ]
    },
    {
     "data": {
      "text/plain": [
       "Predicted  False  True  __all__\n",
       "Actual                         \n",
       "False        979   252     1231\n",
       "True          45  1239     1284\n",
       "__all__     1024  1491     2515"
      ]
     },
     "metadata": {},
     "output_type": "display_data"
    }
   ],
   "source": [
    "bagging=BaggingClassifier()\n",
    "bagging.fit(X_train,Y_train)\n",
    "acc_train=bagging.score(X_train,Y_train)\n",
    "print(\"The accuracy of the model on training data is: \",bagging.score(X_train,Y_train))\n",
    "cm_train=get_cm(bagging,X_train,Y_train)\n",
    "display(cm_train)\n",
    "acc_test=accuracy_score(Y_test,bagging.predict(X_test))\n",
    "print(\"The accuracy of the model on test data is:\",acc_test)\n",
    "cm_test=get_cm(bagging,X_test,Y_test)\n",
    "display(cm_test)\n",
    "fpr, tpr, threshold = roc_curve(Y_test,bagging.predict(X_test))\n",
    "auc=metrics.auc(fpr, tpr)\n",
    "\n",
    "table_80_50_train.loc[7]=   ([acc_train,cm_train.TP,cm_train.TN,cm_train.FP,cm_train.FN,cm_train.FPR,cm_train.FNR])\n",
    "table_80_50_test.loc[7] =   ([acc_test ,cm_test.TP, cm_test.TN, cm_test.FP, cm_test.FN, cm_test.FPR, cm_test.FNR,auc])"
   ]
  },
  {
   "cell_type": "markdown",
   "metadata": {},
   "source": [
    "#### D.9. Voting Classifier"
   ]
  },
  {
   "cell_type": "code",
   "execution_count": 19,
   "metadata": {},
   "outputs": [
    {
     "name": "stdout",
     "output_type": "stream",
     "text": [
      "The accuracy of the model on training data is : 0.8945223183219008\n"
     ]
    },
    {
     "data": {
      "text/plain": [
       "Predicted  False  True  __all__\n",
       "Actual                         \n",
       "False       4122   934     5056\n",
       "True         127  4876     5003\n",
       "__all__     4249  5810    10059"
      ]
     },
     "metadata": {},
     "output_type": "display_data"
    },
    {
     "name": "stdout",
     "output_type": "stream",
     "text": [
      "The accuracy of the model on test data is: 0.8862823061630218\n"
     ]
    },
    {
     "data": {
      "text/plain": [
       "Predicted  False  True  __all__\n",
       "Actual                         \n",
       "False        994   237     1231\n",
       "True          49  1235     1284\n",
       "__all__     1043  1472     2515"
      ]
     },
     "metadata": {},
     "output_type": "display_data"
    }
   ],
   "source": [
    "eclf = VotingClassifier(estimators=[('knn', knn), ('logistic', logistic),('rf',rf),('ada',ada),('gbc',gbc),\n",
    "                                    ('ext_tree',ext_tree),('bagging',bagging)], voting='soft')\n",
    "\n",
    "eclf.fit(X_train,Y_train.reshape(1,len(Y_train))[0])\n",
    "acc_train=eclf.score(X_train,Y_train)\n",
    "pred=eclf.predict(X_test)\n",
    "cm_train=get_cm(eclf,X_train,Y_train.reshape(1,len(Y_train))[0])\n",
    "print(\"The accuracy of the model on training data is :\",acc_train)\n",
    "display(cm_train)\n",
    "acc_test=accuracy_score(Y_test.reshape(1,len(Y_test))[0],pred)\n",
    "print(\"The accuracy of the model on test data is:\",acc_test)\n",
    "cm_test=ConfusionMatrix(Y_test.reshape(1,len(Y_test))[0],pred)\n",
    "display(cm_test)\n",
    "fpr, tpr, threshold = roc_curve(Y_test,eclf.predict(X_test))\n",
    "auc=metrics.auc(fpr, tpr)\n",
    "\n",
    "table_80_50_train.loc[8]=   ([acc_train,cm_train.TP,cm_train.TN,cm_train.FP,cm_train.FN,cm_train.FPR,cm_train.FNR])\n",
    "table_80_50_test.loc[8] =   ([acc_test ,cm_test.TP, cm_test.TN, cm_test.FP, cm_test.FN, cm_test.FPR, cm_test.FNR,auc])"
   ]
  },
  {
   "cell_type": "markdown",
   "metadata": {},
   "source": [
    "### <a id='1.E' style=\"text-decoration : none; color : #000000;\"> E. Results </a>"
   ]
  },
  {
   "cell_type": "code",
   "execution_count": 20,
   "metadata": {},
   "outputs": [
    {
     "name": "stdout",
     "output_type": "stream",
     "text": [
      "Comparision Table for Training Accuracies:\n"
     ]
    },
    {
     "data": {
      "text/html": [
       "<div>\n",
       "<style scoped>\n",
       "    .dataframe tbody tr th:only-of-type {\n",
       "        vertical-align: middle;\n",
       "    }\n",
       "\n",
       "    .dataframe tbody tr th {\n",
       "        vertical-align: top;\n",
       "    }\n",
       "\n",
       "    .dataframe thead th {\n",
       "        text-align: right;\n",
       "    }\n",
       "</style>\n",
       "<table border=\"1\" class=\"dataframe\">\n",
       "  <thead>\n",
       "    <tr style=\"text-align: right;\">\n",
       "      <th></th>\n",
       "      <th>accuracy</th>\n",
       "      <th>TP</th>\n",
       "      <th>TN</th>\n",
       "      <th>FP</th>\n",
       "      <th>FN</th>\n",
       "      <th>FPR</th>\n",
       "      <th>FNR</th>\n",
       "    </tr>\n",
       "    <tr>\n",
       "      <th>index</th>\n",
       "      <th></th>\n",
       "      <th></th>\n",
       "      <th></th>\n",
       "      <th></th>\n",
       "      <th></th>\n",
       "      <th></th>\n",
       "      <th></th>\n",
       "    </tr>\n",
       "  </thead>\n",
       "  <tbody>\n",
       "    <tr>\n",
       "      <th>Neural Network-1</th>\n",
       "      <td>0.885476</td>\n",
       "      <td>4804.0</td>\n",
       "      <td>4103.0</td>\n",
       "      <td>953.0</td>\n",
       "      <td>199.0</td>\n",
       "      <td>0.188489</td>\n",
       "      <td>0.039776</td>\n",
       "    </tr>\n",
       "    <tr>\n",
       "      <th>KNeighborsClassifier</th>\n",
       "      <td>0.881300</td>\n",
       "      <td>4798.0</td>\n",
       "      <td>4067.0</td>\n",
       "      <td>989.0</td>\n",
       "      <td>205.0</td>\n",
       "      <td>0.195609</td>\n",
       "      <td>0.040975</td>\n",
       "    </tr>\n",
       "    <tr>\n",
       "      <th>LogisticRegression</th>\n",
       "      <td>0.812009</td>\n",
       "      <td>4767.0</td>\n",
       "      <td>3401.0</td>\n",
       "      <td>1655.0</td>\n",
       "      <td>236.0</td>\n",
       "      <td>0.327334</td>\n",
       "      <td>0.047172</td>\n",
       "    </tr>\n",
       "    <tr>\n",
       "      <th>RandomForestClassifier</th>\n",
       "      <td>0.898002</td>\n",
       "      <td>4913.0</td>\n",
       "      <td>4120.0</td>\n",
       "      <td>936.0</td>\n",
       "      <td>90.0</td>\n",
       "      <td>0.185127</td>\n",
       "      <td>0.017989</td>\n",
       "    </tr>\n",
       "    <tr>\n",
       "      <th>AdaBoostClassifier</th>\n",
       "      <td>0.847599</td>\n",
       "      <td>4711.0</td>\n",
       "      <td>3815.0</td>\n",
       "      <td>1241.0</td>\n",
       "      <td>292.0</td>\n",
       "      <td>0.245451</td>\n",
       "      <td>0.058365</td>\n",
       "    </tr>\n",
       "    <tr>\n",
       "      <th>GradientBoostingClassifier</th>\n",
       "      <td>0.874143</td>\n",
       "      <td>4754.0</td>\n",
       "      <td>4039.0</td>\n",
       "      <td>1017.0</td>\n",
       "      <td>249.0</td>\n",
       "      <td>0.201147</td>\n",
       "      <td>0.049770</td>\n",
       "    </tr>\n",
       "    <tr>\n",
       "      <th>ExtraTreeClassifier</th>\n",
       "      <td>0.900189</td>\n",
       "      <td>4934.0</td>\n",
       "      <td>4121.0</td>\n",
       "      <td>935.0</td>\n",
       "      <td>69.0</td>\n",
       "      <td>0.184929</td>\n",
       "      <td>0.013792</td>\n",
       "    </tr>\n",
       "    <tr>\n",
       "      <th>BaggingClassifier</th>\n",
       "      <td>0.897803</td>\n",
       "      <td>4916.0</td>\n",
       "      <td>4115.0</td>\n",
       "      <td>941.0</td>\n",
       "      <td>87.0</td>\n",
       "      <td>0.186116</td>\n",
       "      <td>0.017390</td>\n",
       "    </tr>\n",
       "    <tr>\n",
       "      <th>VotingClassifier</th>\n",
       "      <td>0.894522</td>\n",
       "      <td>4876.0</td>\n",
       "      <td>4122.0</td>\n",
       "      <td>934.0</td>\n",
       "      <td>127.0</td>\n",
       "      <td>0.184731</td>\n",
       "      <td>0.025385</td>\n",
       "    </tr>\n",
       "  </tbody>\n",
       "</table>\n",
       "</div>"
      ],
      "text/plain": [
       "                            accuracy      TP      TN      FP     FN       FPR  \\\n",
       "index                                                                           \n",
       "Neural Network-1            0.885476  4804.0  4103.0   953.0  199.0  0.188489   \n",
       "KNeighborsClassifier        0.881300  4798.0  4067.0   989.0  205.0  0.195609   \n",
       "LogisticRegression          0.812009  4767.0  3401.0  1655.0  236.0  0.327334   \n",
       "RandomForestClassifier      0.898002  4913.0  4120.0   936.0   90.0  0.185127   \n",
       "AdaBoostClassifier          0.847599  4711.0  3815.0  1241.0  292.0  0.245451   \n",
       "GradientBoostingClassifier  0.874143  4754.0  4039.0  1017.0  249.0  0.201147   \n",
       "ExtraTreeClassifier         0.900189  4934.0  4121.0   935.0   69.0  0.184929   \n",
       "BaggingClassifier           0.897803  4916.0  4115.0   941.0   87.0  0.186116   \n",
       "VotingClassifier            0.894522  4876.0  4122.0   934.0  127.0  0.184731   \n",
       "\n",
       "                                 FNR  \n",
       "index                                 \n",
       "Neural Network-1            0.039776  \n",
       "KNeighborsClassifier        0.040975  \n",
       "LogisticRegression          0.047172  \n",
       "RandomForestClassifier      0.017989  \n",
       "AdaBoostClassifier          0.058365  \n",
       "GradientBoostingClassifier  0.049770  \n",
       "ExtraTreeClassifier         0.013792  \n",
       "BaggingClassifier           0.017390  \n",
       "VotingClassifier            0.025385  "
      ]
     },
     "metadata": {},
     "output_type": "display_data"
    },
    {
     "name": "stdout",
     "output_type": "stream",
     "text": [
      "Comparision Table for Test Accuracies:\n"
     ]
    },
    {
     "data": {
      "text/html": [
       "<div>\n",
       "<style scoped>\n",
       "    .dataframe tbody tr th:only-of-type {\n",
       "        vertical-align: middle;\n",
       "    }\n",
       "\n",
       "    .dataframe tbody tr th {\n",
       "        vertical-align: top;\n",
       "    }\n",
       "\n",
       "    .dataframe thead th {\n",
       "        text-align: right;\n",
       "    }\n",
       "</style>\n",
       "<table border=\"1\" class=\"dataframe\">\n",
       "  <thead>\n",
       "    <tr style=\"text-align: right;\">\n",
       "      <th></th>\n",
       "      <th>accuracy</th>\n",
       "      <th>TP</th>\n",
       "      <th>TN</th>\n",
       "      <th>FP</th>\n",
       "      <th>FN</th>\n",
       "      <th>FPR</th>\n",
       "      <th>FNR</th>\n",
       "      <th>auc</th>\n",
       "    </tr>\n",
       "    <tr>\n",
       "      <th>index</th>\n",
       "      <th></th>\n",
       "      <th></th>\n",
       "      <th></th>\n",
       "      <th></th>\n",
       "      <th></th>\n",
       "      <th></th>\n",
       "      <th></th>\n",
       "      <th></th>\n",
       "    </tr>\n",
       "  </thead>\n",
       "  <tbody>\n",
       "    <tr>\n",
       "      <th>Neural Network-1</th>\n",
       "      <td>0.877535</td>\n",
       "      <td>1226.0</td>\n",
       "      <td>981.0</td>\n",
       "      <td>250.0</td>\n",
       "      <td>58.0</td>\n",
       "      <td>0.203087</td>\n",
       "      <td>0.045171</td>\n",
       "      <td>0.875871</td>\n",
       "    </tr>\n",
       "    <tr>\n",
       "      <th>KNeighborsClassifier</th>\n",
       "      <td>0.879920</td>\n",
       "      <td>1230.0</td>\n",
       "      <td>983.0</td>\n",
       "      <td>248.0</td>\n",
       "      <td>54.0</td>\n",
       "      <td>0.201462</td>\n",
       "      <td>0.042056</td>\n",
       "      <td>0.878241</td>\n",
       "    </tr>\n",
       "    <tr>\n",
       "      <th>LogisticRegression</th>\n",
       "      <td>0.816302</td>\n",
       "      <td>1234.0</td>\n",
       "      <td>819.0</td>\n",
       "      <td>412.0</td>\n",
       "      <td>50.0</td>\n",
       "      <td>0.334687</td>\n",
       "      <td>0.038941</td>\n",
       "      <td>0.813186</td>\n",
       "    </tr>\n",
       "    <tr>\n",
       "      <th>RandomForestClassifier</th>\n",
       "      <td>0.885089</td>\n",
       "      <td>1236.0</td>\n",
       "      <td>990.0</td>\n",
       "      <td>241.0</td>\n",
       "      <td>48.0</td>\n",
       "      <td>0.195776</td>\n",
       "      <td>0.037383</td>\n",
       "      <td>0.883421</td>\n",
       "    </tr>\n",
       "    <tr>\n",
       "      <th>AdaBoostClassifier</th>\n",
       "      <td>0.850497</td>\n",
       "      <td>1217.0</td>\n",
       "      <td>922.0</td>\n",
       "      <td>309.0</td>\n",
       "      <td>67.0</td>\n",
       "      <td>0.251015</td>\n",
       "      <td>0.052181</td>\n",
       "      <td>0.848402</td>\n",
       "    </tr>\n",
       "    <tr>\n",
       "      <th>GradientBoostingClassifier</th>\n",
       "      <td>0.873161</td>\n",
       "      <td>1226.0</td>\n",
       "      <td>970.0</td>\n",
       "      <td>261.0</td>\n",
       "      <td>58.0</td>\n",
       "      <td>0.212023</td>\n",
       "      <td>0.045171</td>\n",
       "      <td>0.871403</td>\n",
       "    </tr>\n",
       "    <tr>\n",
       "      <th>ExtraTreeClassifier</th>\n",
       "      <td>0.885487</td>\n",
       "      <td>1237.0</td>\n",
       "      <td>990.0</td>\n",
       "      <td>241.0</td>\n",
       "      <td>47.0</td>\n",
       "      <td>0.195776</td>\n",
       "      <td>0.036604</td>\n",
       "      <td>0.883810</td>\n",
       "    </tr>\n",
       "    <tr>\n",
       "      <th>BaggingClassifier</th>\n",
       "      <td>0.881909</td>\n",
       "      <td>1239.0</td>\n",
       "      <td>979.0</td>\n",
       "      <td>252.0</td>\n",
       "      <td>45.0</td>\n",
       "      <td>0.204712</td>\n",
       "      <td>0.035047</td>\n",
       "      <td>0.880121</td>\n",
       "    </tr>\n",
       "    <tr>\n",
       "      <th>VotingClassifier</th>\n",
       "      <td>0.886282</td>\n",
       "      <td>1235.0</td>\n",
       "      <td>994.0</td>\n",
       "      <td>237.0</td>\n",
       "      <td>49.0</td>\n",
       "      <td>0.192526</td>\n",
       "      <td>0.038162</td>\n",
       "      <td>0.884656</td>\n",
       "    </tr>\n",
       "  </tbody>\n",
       "</table>\n",
       "</div>"
      ],
      "text/plain": [
       "                            accuracy      TP     TN     FP    FN       FPR  \\\n",
       "index                                                                        \n",
       "Neural Network-1            0.877535  1226.0  981.0  250.0  58.0  0.203087   \n",
       "KNeighborsClassifier        0.879920  1230.0  983.0  248.0  54.0  0.201462   \n",
       "LogisticRegression          0.816302  1234.0  819.0  412.0  50.0  0.334687   \n",
       "RandomForestClassifier      0.885089  1236.0  990.0  241.0  48.0  0.195776   \n",
       "AdaBoostClassifier          0.850497  1217.0  922.0  309.0  67.0  0.251015   \n",
       "GradientBoostingClassifier  0.873161  1226.0  970.0  261.0  58.0  0.212023   \n",
       "ExtraTreeClassifier         0.885487  1237.0  990.0  241.0  47.0  0.195776   \n",
       "BaggingClassifier           0.881909  1239.0  979.0  252.0  45.0  0.204712   \n",
       "VotingClassifier            0.886282  1235.0  994.0  237.0  49.0  0.192526   \n",
       "\n",
       "                                 FNR       auc  \n",
       "index                                           \n",
       "Neural Network-1            0.045171  0.875871  \n",
       "KNeighborsClassifier        0.042056  0.878241  \n",
       "LogisticRegression          0.038941  0.813186  \n",
       "RandomForestClassifier      0.037383  0.883421  \n",
       "AdaBoostClassifier          0.052181  0.848402  \n",
       "GradientBoostingClassifier  0.045171  0.871403  \n",
       "ExtraTreeClassifier         0.036604  0.883810  \n",
       "BaggingClassifier           0.035047  0.880121  \n",
       "VotingClassifier            0.038162  0.884656  "
      ]
     },
     "metadata": {},
     "output_type": "display_data"
    }
   ],
   "source": [
    "table_80_50_train['index']=['Neural Network-1','KNeighborsClassifier','LogisticRegression','RandomForestClassifier','AdaBoostClassifier',\n",
    "                           'GradientBoostingClassifier','ExtraTreeClassifier','BaggingClassifier','VotingClassifier']\n",
    "table_80_50_test['index']=['Neural Network-1','KNeighborsClassifier','LogisticRegression','RandomForestClassifier','AdaBoostClassifier',\n",
    "                           'GradientBoostingClassifier','ExtraTreeClassifier','BaggingClassifier','VotingClassifier']\n",
    "\n",
    "table_80_50_test.set_index(['index'],drop=True,inplace=True)\n",
    "table_80_50_train.set_index(['index'],drop=True,inplace=True)\n",
    "\n",
    "print(\"Comparision Table for Training Accuracies:\")\n",
    "display(table_80_50_train)\n",
    "\n",
    "print(\"Comparision Table for Test Accuracies:\")\n",
    "display(table_80_50_test)"
   ]
  },
  {
   "cell_type": "markdown",
   "metadata": {},
   "source": [
    "## <a id='2' style=\"text-decoration : none; color : #000000;\">2. HTTP with PCA</a>\n",
    "\n",
    "#### <a id='2.A' style=\"text-decoration : none; color : #000000;\"> A. Classification using different methods</a>"
   ]
  },
  {
   "cell_type": "code",
   "execution_count": 21,
   "metadata": {
    "collapsed": true
   },
   "outputs": [],
   "source": [
    "## Table to store training and test measures\n",
    "table_80_50_train=pd.DataFrame(columns=['accuracy','TP','TN','FP','FN','FPR','FNR'])\n",
    "table_80_50_test=pd.DataFrame(columns=['accuracy','TP','TN','FP','FN','FPR','FNR','auc'])"
   ]
  },
  {
   "cell_type": "code",
   "execution_count": 22,
   "metadata": {},
   "outputs": [
    {
     "name": "stdout",
     "output_type": "stream",
     "text": [
      "0.6159382340060369\n",
      "The train/test split ratio is 80:20\n"
     ]
    },
    {
     "data": {
      "text/plain": [
       "(12574, 18)"
      ]
     },
     "execution_count": 22,
     "metadata": {},
     "output_type": "execute_result"
    }
   ],
   "source": [
    "scaler=StandardScaler()\n",
    "scaled_X=scaler.fit_transform(X)\n",
    "pca=PCA(n_components=18,random_state=0)\n",
    "X_pca=pca.fit_transform(scaled_X)\n",
    "print(sum(pca.explained_variance_ratio_))\n",
    "print(\"The train/test split ratio is 80:20\")\n",
    "X_train, X_test, Y_train, Y_test = train_test_split(X_pca,y,random_state=0,test_size=0.2)\n",
    "\n",
    "X_pca.shape"
   ]
  },
  {
   "cell_type": "markdown",
   "metadata": {},
   "source": [
    "#### A.1. Deep Learning"
   ]
  },
  {
   "cell_type": "code",
   "execution_count": 23,
   "metadata": {
    "scrolled": true
   },
   "outputs": [
    {
     "name": "stdout",
     "output_type": "stream",
     "text": [
      "The accuracy of the model on training data is: 0.8769261357928616\n"
     ]
    },
    {
     "data": {
      "text/plain": [
       "Predicted  False  True  __all__\n",
       "Actual                         \n",
       "False       4107   949     5056\n",
       "True         289  4714     5003\n",
       "__all__     4396  5663    10059"
      ]
     },
     "metadata": {},
     "output_type": "display_data"
    },
    {
     "name": "stdout",
     "output_type": "stream",
     "text": [
      "The accuracy of the model on test data is: 0.8803180914512923\n"
     ]
    },
    {
     "data": {
      "text/plain": [
       "Predicted  False  True  __all__\n",
       "Actual                         \n",
       "False        992   239     1231\n",
       "True          62  1222     1284\n",
       "__all__     1054  1461     2515"
      ]
     },
     "metadata": {},
     "output_type": "display_data"
    }
   ],
   "source": [
    "np.random.seed(0)\n",
    "deep_learning=Sequential()\n",
    "deep_learning.add(Dense(units=64,activation='relu',use_bias=True,kernel_initializer='uniform',input_dim=X_pca.shape[1]))\n",
    "deep_learning.add(Dense(units=128,activation='relu',use_bias=True,kernel_initializer='uniform'))\n",
    "deep_learning.add(Dense(units=1,activation='sigmoid',use_bias=True,kernel_initializer='uniform'))\n",
    "deep_learning.compile(optimizer='adam',loss='binary_crossentropy',metrics=['accuracy'])\n",
    "deep_learning.fit(X_train,Y_train,batch_size=20,epochs=20,verbose=False)\n",
    "\n",
    "acc_train=deep_learning.evaluate(X_train,Y_train,verbose=False)[1]\n",
    "print(\"The accuracy of the model on training data is:\",acc_train)\n",
    "cm_train=ConfusionMatrix(Y_train,deep_learning.predict_classes(X_train,batch_size=1,verbose=False).reshape(1,len(X_train))[0])\n",
    "cm_test=ConfusionMatrix(Y_test,deep_learning.predict_classes(X_test,batch_size=1,verbose=False).reshape(1,len(X_test))[0])\n",
    "display(cm_train)\n",
    "acc_test=accuracy_score(Y_test,deep_learning.predict_classes(X_test,batch_size=1,verbose=False))\n",
    "print(\"The accuracy of the model on test data is:\",acc_test)\n",
    "display(cm_test)\n",
    "fpr, tpr, threshold = roc_curve(Y_test, deep_learning.predict_classes(X_test,batch_size=1,verbose=False).reshape(1,len(X_test))[0])\n",
    "auc=metrics.auc(fpr, tpr)\n",
    "\n",
    "table_80_50_train.loc[0]=([acc_train,cm_train.TP,cm_train.TN,cm_train.FP,cm_train.FN,cm_train.FPR,cm_train.FNR])\n",
    "table_80_50_test.loc[0]=([acc_test,cm_test.TP,cm_test.TN,cm_test.FP,cm_test.FN,cm_test.FPR,cm_test.FNR,auc])"
   ]
  },
  {
   "cell_type": "markdown",
   "metadata": {},
   "source": [
    "#### A.2. KNN"
   ]
  },
  {
   "cell_type": "code",
   "execution_count": 24,
   "metadata": {},
   "outputs": [
    {
     "name": "stdout",
     "output_type": "stream",
     "text": [
      "The accuracy of the model on training data is:  0.8815985684461676\n"
     ]
    },
    {
     "data": {
      "text/plain": [
       "Predicted  False  True  __all__\n",
       "Actual                         \n",
       "False       4071   985     5056\n",
       "True         206  4797     5003\n",
       "__all__     4277  5782    10059"
      ]
     },
     "metadata": {},
     "output_type": "display_data"
    },
    {
     "name": "stdout",
     "output_type": "stream",
     "text": [
      "The accuracy of the model on test data is: 0.8799204771371769\n"
     ]
    },
    {
     "data": {
      "text/plain": [
       "Predicted  False  True  __all__\n",
       "Actual                         \n",
       "False        986   245     1231\n",
       "True          57  1227     1284\n",
       "__all__     1043  1472     2515"
      ]
     },
     "metadata": {},
     "output_type": "display_data"
    }
   ],
   "source": [
    "knn=KNeighborsClassifier()\n",
    "knn.fit(X_train,Y_train)\n",
    "acc_train=knn.score(X_train,Y_train)\n",
    "print(\"The accuracy of the model on training data is: \",knn.score(X_train,Y_train))\n",
    "cm_train=get_cm(knn,X_train,Y_train)\n",
    "display(cm_train)\n",
    "acc_test=accuracy_score(Y_test,knn.predict(X_test))\n",
    "print(\"The accuracy of the model on test data is:\",acc_test)\n",
    "cm_test=get_cm(knn,X_test,Y_test)\n",
    "display(cm_test)\n",
    "fpr, tpr, threshold = roc_curve(Y_test,knn.predict(X_test))\n",
    "auc=metrics.auc(fpr, tpr)\n",
    "\n",
    "table_80_50_train.loc[1]= ([acc_train,cm_train.TP,cm_train.TN,cm_train.FP,cm_train.FN,cm_train.FPR,cm_train.FNR])\n",
    "table_80_50_test.loc[1] = ([acc_test ,cm_test.TP, cm_test.TN, cm_test.FP, cm_test.FN, cm_test.FPR, cm_test.FNR,auc])"
   ]
  },
  {
   "cell_type": "markdown",
   "metadata": {},
   "source": [
    "#### A.3. Logistics"
   ]
  },
  {
   "cell_type": "code",
   "execution_count": 25,
   "metadata": {},
   "outputs": [
    {
     "name": "stdout",
     "output_type": "stream",
     "text": [
      "The accuracy of the model on training data is:  0.7935182423700169\n"
     ]
    },
    {
     "data": {
      "text/plain": [
       "Predicted  False  True  __all__\n",
       "Actual                         \n",
       "False       3236  1820     5056\n",
       "True         257  4746     5003\n",
       "__all__     3493  6566    10059"
      ]
     },
     "metadata": {},
     "output_type": "display_data"
    },
    {
     "name": "stdout",
     "output_type": "stream",
     "text": [
      "The accuracy of the model on test data is: 0.8107355864811133\n"
     ]
    },
    {
     "data": {
      "text/plain": [
       "Predicted  False  True  __all__\n",
       "Actual                         \n",
       "False        811   420     1231\n",
       "True          56  1228     1284\n",
       "__all__      867  1648     2515"
      ]
     },
     "metadata": {},
     "output_type": "display_data"
    }
   ],
   "source": [
    "logistic=LogisticRegression()\n",
    "logistic.fit(X_train,Y_train)\n",
    "acc_train=logistic.score(X_train,Y_train)\n",
    "print(\"The accuracy of the model on training data is: \",logistic.score(X_train,Y_train))\n",
    "cm_train=get_cm(logistic,X_train,Y_train)\n",
    "display(cm_train)\n",
    "acc_test=accuracy_score(Y_test,logistic.predict(X_test))\n",
    "print(\"The accuracy of the model on test data is:\",acc_test)\n",
    "cm_test=get_cm(logistic,X_test,Y_test)\n",
    "display(cm_test)\n",
    "fpr, tpr, threshold = roc_curve(Y_test,logistic.predict(X_test))\n",
    "auc=metrics.auc(fpr, tpr)\n",
    "\n",
    "table_80_50_train.loc[2]=   ([acc_train,cm_train.TP,cm_train.TN,cm_train.FP,cm_train.FN,cm_train.FPR,cm_train.FNR])\n",
    "table_80_50_test.loc[2] =   ([acc_test ,cm_test.TP, cm_test.TN, cm_test.FP, cm_test.FN, cm_test.FPR, cm_test.FNR,auc])"
   ]
  },
  {
   "cell_type": "markdown",
   "metadata": {},
   "source": [
    "#### A.4. Random Forest Classifier"
   ]
  },
  {
   "cell_type": "code",
   "execution_count": 26,
   "metadata": {},
   "outputs": [
    {
     "name": "stdout",
     "output_type": "stream",
     "text": [
      "The accuracy of the model on training data is:  0.8977035490605428\n"
     ]
    },
    {
     "data": {
      "text/plain": [
       "Predicted  False  True  __all__\n",
       "Actual                         \n",
       "False       4119   937     5056\n",
       "True          92  4911     5003\n",
       "__all__     4211  5848    10059"
      ]
     },
     "metadata": {},
     "output_type": "display_data"
    },
    {
     "name": "stdout",
     "output_type": "stream",
     "text": [
      "The accuracy of the model on test data is: 0.8850894632206759\n"
     ]
    },
    {
     "data": {
      "text/plain": [
       "Predicted  False  True  __all__\n",
       "Actual                         \n",
       "False        995   236     1231\n",
       "True          53  1231     1284\n",
       "__all__     1048  1467     2515"
      ]
     },
     "metadata": {},
     "output_type": "display_data"
    }
   ],
   "source": [
    "rf=RandomForestClassifier()\n",
    "rf.fit(X_train,Y_train)\n",
    "acc_train=rf.score(X_train,Y_train)\n",
    "print(\"The accuracy of the model on training data is: \",rf.score(X_train,Y_train))\n",
    "cm_train=get_cm(rf,X_train,Y_train)\n",
    "display(cm_train)\n",
    "acc_test=accuracy_score(Y_test,rf.predict(X_test))\n",
    "print(\"The accuracy of the model on test data is:\",acc_test)\n",
    "cm_test=get_cm(rf,X_test,Y_test)\n",
    "display(cm_test)\n",
    "fpr, tpr, threshold = roc_curve(Y_test,rf.predict(X_test))\n",
    "auc=metrics.auc(fpr, tpr)\n",
    "\n",
    "table_80_50_train.loc[3]=   ([acc_train,cm_train.TP,cm_train.TN,cm_train.FP,cm_train.FN,cm_train.FPR,cm_train.FNR])\n",
    "table_80_50_test.loc[3] =   ([acc_test ,cm_test.TP, cm_test.TN, cm_test.FP, cm_test.FN, cm_test.FPR, cm_test.FNR,auc])"
   ]
  },
  {
   "cell_type": "markdown",
   "metadata": {},
   "source": [
    "#### A.5. AdaBoost Classifier"
   ]
  },
  {
   "cell_type": "code",
   "execution_count": 27,
   "metadata": {},
   "outputs": [
    {
     "name": "stdout",
     "output_type": "stream",
     "text": [
      "The accuracy of the model on training data is:  0.8736454915995626\n"
     ]
    },
    {
     "data": {
      "text/plain": [
       "Predicted  False  True  __all__\n",
       "Actual                         \n",
       "False       4150   906     5056\n",
       "True         365  4638     5003\n",
       "__all__     4515  5544    10059"
      ]
     },
     "metadata": {},
     "output_type": "display_data"
    },
    {
     "name": "stdout",
     "output_type": "stream",
     "text": [
      "The accuracy of the model on test data is: 0.8799204771371769\n"
     ]
    },
    {
     "data": {
      "text/plain": [
       "Predicted  False  True  __all__\n",
       "Actual                         \n",
       "False       1004   227     1231\n",
       "True          75  1209     1284\n",
       "__all__     1079  1436     2515"
      ]
     },
     "metadata": {},
     "output_type": "display_data"
    }
   ],
   "source": [
    "ada=AdaBoostClassifier()\n",
    "ada.fit(X_train,Y_train)\n",
    "acc_train=ada.score(X_train,Y_train)\n",
    "print(\"The accuracy of the model on training data is: \",ada.score(X_train,Y_train))\n",
    "cm_train=get_cm(ada,X_train,Y_train)\n",
    "display(cm_train)\n",
    "acc_test=accuracy_score(Y_test,ada.predict(X_test))\n",
    "print(\"The accuracy of the model on test data is:\",acc_test)\n",
    "cm_test=get_cm(ada,X_test,Y_test)\n",
    "display(cm_test)\n",
    "fpr, tpr, threshold = roc_curve(Y_test,ada.predict(X_test))\n",
    "auc=metrics.auc(fpr, tpr)\n",
    "\n",
    "table_80_50_train.loc[4]=   ([acc_train,cm_train.TP,cm_train.TN,cm_train.FP,cm_train.FN,cm_train.FPR,cm_train.FNR])\n",
    "table_80_50_test.loc[4] =   ([acc_test ,cm_test.TP, cm_test.TN, cm_test.FP, cm_test.FN, cm_test.FPR, cm_test.FNR,auc])"
   ]
  },
  {
   "cell_type": "markdown",
   "metadata": {},
   "source": [
    "#### A.6. GradientBoosting Classifier"
   ]
  },
  {
   "cell_type": "code",
   "execution_count": 28,
   "metadata": {},
   "outputs": [
    {
     "name": "stdout",
     "output_type": "stream",
     "text": [
      "The accuracy of the model on training data is:  0.8796102992345164\n"
     ]
    },
    {
     "data": {
      "text/plain": [
       "Predicted  False  True  __all__\n",
       "Actual                         \n",
       "False       4139   917     5056\n",
       "True         294  4709     5003\n",
       "__all__     4433  5626    10059"
      ]
     },
     "metadata": {},
     "output_type": "display_data"
    },
    {
     "name": "stdout",
     "output_type": "stream",
     "text": [
      "The accuracy of the model on test data is: 0.8831013916500994\n"
     ]
    },
    {
     "data": {
      "text/plain": [
       "Predicted  False  True  __all__\n",
       "Actual                         \n",
       "False       1002   229     1231\n",
       "True          65  1219     1284\n",
       "__all__     1067  1448     2515"
      ]
     },
     "metadata": {},
     "output_type": "display_data"
    }
   ],
   "source": [
    "gbc=GradientBoostingClassifier()\n",
    "gbc.fit(X_train,Y_train)\n",
    "acc_train=gbc.score(X_train,Y_train)\n",
    "print(\"The accuracy of the model on training data is: \",gbc.score(X_train,Y_train))\n",
    "cm_train=get_cm(gbc,X_train,Y_train)\n",
    "display(cm_train)\n",
    "acc_test=accuracy_score(Y_test,gbc.predict(X_test))\n",
    "print(\"The accuracy of the model on test data is:\",acc_test)\n",
    "cm_test=get_cm(gbc,X_test,Y_test)\n",
    "display(cm_test)\n",
    "fpr, tpr, threshold = roc_curve(Y_test,gbc.predict(X_test))\n",
    "auc=metrics.auc(fpr, tpr)\n",
    "\n",
    "table_80_50_train.loc[5]=   ([acc_train,cm_train.TP,cm_train.TN,cm_train.FP,cm_train.FN,cm_train.FPR,cm_train.FNR])\n",
    "table_80_50_test.loc[5] =   ([acc_test ,cm_test.TP, cm_test.TN, cm_test.FP, cm_test.FN, cm_test.FPR, cm_test.FNR,auc])"
   ]
  },
  {
   "cell_type": "markdown",
   "metadata": {},
   "source": [
    "#### A.7. Extra Tree Classifier"
   ]
  },
  {
   "cell_type": "code",
   "execution_count": 29,
   "metadata": {},
   "outputs": [
    {
     "name": "stdout",
     "output_type": "stream",
     "text": [
      "The accuracy of the model on training data is:  0.9001888855751069\n"
     ]
    },
    {
     "data": {
      "text/plain": [
       "Predicted  False  True  __all__\n",
       "Actual                         \n",
       "False       4121   935     5056\n",
       "True          69  4934     5003\n",
       "__all__     4190  5869    10059"
      ]
     },
     "metadata": {},
     "output_type": "display_data"
    },
    {
     "name": "stdout",
     "output_type": "stream",
     "text": [
      "The accuracy of the model on test data is: 0.8866799204771372\n"
     ]
    },
    {
     "data": {
      "text/plain": [
       "Predicted  False  True  __all__\n",
       "Actual                         \n",
       "False        993   238     1231\n",
       "True          47  1237     1284\n",
       "__all__     1040  1475     2515"
      ]
     },
     "metadata": {},
     "output_type": "display_data"
    }
   ],
   "source": [
    "ext_tree=ExtraTreesClassifier()\n",
    "ext_tree.fit(X_train,Y_train)\n",
    "acc_train=ext_tree.score(X_train,Y_train)\n",
    "print(\"The accuracy of the model on training data is: \",ext_tree.score(X_train,Y_train))\n",
    "cm_train=get_cm(ext_tree,X_train,Y_train)\n",
    "display(cm_train)\n",
    "acc_test=accuracy_score(Y_test,ext_tree.predict(X_test))\n",
    "print(\"The accuracy of the model on test data is:\",acc_test)\n",
    "cm_test=get_cm(ext_tree,X_test,Y_test)\n",
    "display(cm_test)\n",
    "fpr, tpr, threshold = roc_curve(Y_test,ext_tree.predict(X_test))\n",
    "auc=metrics.auc(fpr, tpr)\n",
    "\n",
    "table_80_50_train.loc[6]=   ([acc_train,cm_train.TP,cm_train.TN,cm_train.FP,cm_train.FN,cm_train.FPR,cm_train.FNR])\n",
    "table_80_50_test.loc[6] =   ([acc_test ,cm_test.TP, cm_test.TN, cm_test.FP, cm_test.FN, cm_test.FPR, cm_test.FNR,auc])"
   ]
  },
  {
   "cell_type": "markdown",
   "metadata": {},
   "source": [
    "#### A.8. Bagging Classifier"
   ]
  },
  {
   "cell_type": "code",
   "execution_count": 30,
   "metadata": {},
   "outputs": [
    {
     "name": "stdout",
     "output_type": "stream",
     "text": [
      "The accuracy of the model on training data is:  0.8970076548364648\n"
     ]
    },
    {
     "data": {
      "text/plain": [
       "Predicted  False  True  __all__\n",
       "Actual                         \n",
       "False       4118   938     5056\n",
       "True          98  4905     5003\n",
       "__all__     4216  5843    10059"
      ]
     },
     "metadata": {},
     "output_type": "display_data"
    },
    {
     "name": "stdout",
     "output_type": "stream",
     "text": [
      "The accuracy of the model on test data is: 0.8854870775347913\n"
     ]
    },
    {
     "data": {
      "text/plain": [
       "Predicted  False  True  __all__\n",
       "Actual                         \n",
       "False        994   237     1231\n",
       "True          51  1233     1284\n",
       "__all__     1045  1470     2515"
      ]
     },
     "metadata": {},
     "output_type": "display_data"
    }
   ],
   "source": [
    "bagging=BaggingClassifier()\n",
    "bagging.fit(X_train,Y_train)\n",
    "acc_train=bagging.score(X_train,Y_train)\n",
    "print(\"The accuracy of the model on training data is: \",bagging.score(X_train,Y_train))\n",
    "cm_train=get_cm(bagging,X_train,Y_train)\n",
    "display(cm_train)\n",
    "acc_test=accuracy_score(Y_test,bagging.predict(X_test))\n",
    "print(\"The accuracy of the model on test data is:\",acc_test)\n",
    "cm_test=get_cm(bagging,X_test,Y_test)\n",
    "display(cm_test)\n",
    "fpr, tpr, threshold = roc_curve(Y_test,bagging.predict(X_test))\n",
    "auc=metrics.auc(fpr, tpr)\n",
    "\n",
    "table_80_50_train.loc[7]=   ([acc_train,cm_train.TP,cm_train.TN,cm_train.FP,cm_train.FN,cm_train.FPR,cm_train.FNR])\n",
    "table_80_50_test.loc[7] =   ([acc_test ,cm_test.TP, cm_test.TN, cm_test.FP, cm_test.FN, cm_test.FPR, cm_test.FNR,auc])"
   ]
  },
  {
   "cell_type": "markdown",
   "metadata": {},
   "source": [
    "#### A.9. Voting Classifier"
   ]
  },
  {
   "cell_type": "code",
   "execution_count": 31,
   "metadata": {},
   "outputs": [
    {
     "name": "stdout",
     "output_type": "stream",
     "text": [
      "The accuracy of the model on training data is : 0.8943234914007356\n"
     ]
    },
    {
     "data": {
      "text/plain": [
       "Predicted  False  True  __all__\n",
       "Actual                         \n",
       "False       4122   934     5056\n",
       "True         129  4874     5003\n",
       "__all__     4251  5808    10059"
      ]
     },
     "metadata": {},
     "output_type": "display_data"
    },
    {
     "name": "stdout",
     "output_type": "stream",
     "text": [
      "The accuracy of the model on test data is: 0.8866799204771372\n"
     ]
    },
    {
     "data": {
      "text/plain": [
       "Predicted  False  True  __all__\n",
       "Actual                         \n",
       "False        998   233     1231\n",
       "True          52  1232     1284\n",
       "__all__     1050  1465     2515"
      ]
     },
     "metadata": {},
     "output_type": "display_data"
    }
   ],
   "source": [
    "eclf = VotingClassifier(estimators=[('knn', knn), ('logistic', logistic),('rf',rf),('ada',ada),('gbc',gbc),\n",
    "                                    ('ext_tree',ext_tree),('bagging',bagging)], voting='soft')\n",
    "\n",
    "eclf.fit(X_train,Y_train.reshape(1,len(Y_train))[0])\n",
    "acc_train=eclf.score(X_train,Y_train)\n",
    "pred=eclf.predict(X_test)\n",
    "cm_train=get_cm(eclf,X_train,Y_train.reshape(1,len(Y_train))[0])\n",
    "print(\"The accuracy of the model on training data is :\",acc_train)\n",
    "display(cm_train)\n",
    "acc_test=accuracy_score(Y_test.reshape(1,len(Y_test))[0],pred)\n",
    "print(\"The accuracy of the model on test data is:\",acc_test)\n",
    "cm_test=ConfusionMatrix(Y_test.reshape(1,len(Y_test))[0],pred)\n",
    "display(cm_test)\n",
    "fpr, tpr, threshold = roc_curve(Y_test,eclf.predict(X_test))\n",
    "auc=metrics.auc(fpr, tpr)\n",
    "\n",
    "table_80_50_train.loc[8]=   ([acc_train,cm_train.TP,cm_train.TN,cm_train.FP,cm_train.FN,cm_train.FPR,cm_train.FNR])\n",
    "table_80_50_test.loc[8] =   ([acc_test ,cm_test.TP, cm_test.TN, cm_test.FP, cm_test.FN, cm_test.FPR, cm_test.FNR,auc])"
   ]
  },
  {
   "cell_type": "markdown",
   "metadata": {},
   "source": [
    "### <a id='2.B' style=\"text-decoration : none; color : #000000;\"> B. Results </a>"
   ]
  },
  {
   "cell_type": "code",
   "execution_count": 32,
   "metadata": {},
   "outputs": [
    {
     "name": "stdout",
     "output_type": "stream",
     "text": [
      "Comparision Table for Training Accuracies:\n"
     ]
    },
    {
     "data": {
      "text/html": [
       "<div>\n",
       "<style scoped>\n",
       "    .dataframe tbody tr th:only-of-type {\n",
       "        vertical-align: middle;\n",
       "    }\n",
       "\n",
       "    .dataframe tbody tr th {\n",
       "        vertical-align: top;\n",
       "    }\n",
       "\n",
       "    .dataframe thead th {\n",
       "        text-align: right;\n",
       "    }\n",
       "</style>\n",
       "<table border=\"1\" class=\"dataframe\">\n",
       "  <thead>\n",
       "    <tr style=\"text-align: right;\">\n",
       "      <th></th>\n",
       "      <th>accuracy</th>\n",
       "      <th>TP</th>\n",
       "      <th>TN</th>\n",
       "      <th>FP</th>\n",
       "      <th>FN</th>\n",
       "      <th>FPR</th>\n",
       "      <th>FNR</th>\n",
       "    </tr>\n",
       "    <tr>\n",
       "      <th>index</th>\n",
       "      <th></th>\n",
       "      <th></th>\n",
       "      <th></th>\n",
       "      <th></th>\n",
       "      <th></th>\n",
       "      <th></th>\n",
       "      <th></th>\n",
       "    </tr>\n",
       "  </thead>\n",
       "  <tbody>\n",
       "    <tr>\n",
       "      <th>Neural Network-1</th>\n",
       "      <td>0.876926</td>\n",
       "      <td>4714.0</td>\n",
       "      <td>4107.0</td>\n",
       "      <td>949.0</td>\n",
       "      <td>289.0</td>\n",
       "      <td>0.187698</td>\n",
       "      <td>0.057765</td>\n",
       "    </tr>\n",
       "    <tr>\n",
       "      <th>KNeighborsClassifier</th>\n",
       "      <td>0.881599</td>\n",
       "      <td>4797.0</td>\n",
       "      <td>4071.0</td>\n",
       "      <td>985.0</td>\n",
       "      <td>206.0</td>\n",
       "      <td>0.194818</td>\n",
       "      <td>0.041175</td>\n",
       "    </tr>\n",
       "    <tr>\n",
       "      <th>LogisticRegression</th>\n",
       "      <td>0.793518</td>\n",
       "      <td>4746.0</td>\n",
       "      <td>3236.0</td>\n",
       "      <td>1820.0</td>\n",
       "      <td>257.0</td>\n",
       "      <td>0.359968</td>\n",
       "      <td>0.051369</td>\n",
       "    </tr>\n",
       "    <tr>\n",
       "      <th>RandomForestClassifier</th>\n",
       "      <td>0.897704</td>\n",
       "      <td>4911.0</td>\n",
       "      <td>4119.0</td>\n",
       "      <td>937.0</td>\n",
       "      <td>92.0</td>\n",
       "      <td>0.185324</td>\n",
       "      <td>0.018389</td>\n",
       "    </tr>\n",
       "    <tr>\n",
       "      <th>AdaBoostClassifier</th>\n",
       "      <td>0.873645</td>\n",
       "      <td>4638.0</td>\n",
       "      <td>4150.0</td>\n",
       "      <td>906.0</td>\n",
       "      <td>365.0</td>\n",
       "      <td>0.179193</td>\n",
       "      <td>0.072956</td>\n",
       "    </tr>\n",
       "    <tr>\n",
       "      <th>GradientBoostingClassifier</th>\n",
       "      <td>0.879610</td>\n",
       "      <td>4709.0</td>\n",
       "      <td>4139.0</td>\n",
       "      <td>917.0</td>\n",
       "      <td>294.0</td>\n",
       "      <td>0.181369</td>\n",
       "      <td>0.058765</td>\n",
       "    </tr>\n",
       "    <tr>\n",
       "      <th>ExtraTreeClassifier</th>\n",
       "      <td>0.900189</td>\n",
       "      <td>4934.0</td>\n",
       "      <td>4121.0</td>\n",
       "      <td>935.0</td>\n",
       "      <td>69.0</td>\n",
       "      <td>0.184929</td>\n",
       "      <td>0.013792</td>\n",
       "    </tr>\n",
       "    <tr>\n",
       "      <th>BaggingClassifier</th>\n",
       "      <td>0.897008</td>\n",
       "      <td>4905.0</td>\n",
       "      <td>4118.0</td>\n",
       "      <td>938.0</td>\n",
       "      <td>98.0</td>\n",
       "      <td>0.185522</td>\n",
       "      <td>0.019588</td>\n",
       "    </tr>\n",
       "    <tr>\n",
       "      <th>VotingClassifier</th>\n",
       "      <td>0.894323</td>\n",
       "      <td>4874.0</td>\n",
       "      <td>4122.0</td>\n",
       "      <td>934.0</td>\n",
       "      <td>129.0</td>\n",
       "      <td>0.184731</td>\n",
       "      <td>0.025785</td>\n",
       "    </tr>\n",
       "  </tbody>\n",
       "</table>\n",
       "</div>"
      ],
      "text/plain": [
       "                            accuracy      TP      TN      FP     FN       FPR  \\\n",
       "index                                                                           \n",
       "Neural Network-1            0.876926  4714.0  4107.0   949.0  289.0  0.187698   \n",
       "KNeighborsClassifier        0.881599  4797.0  4071.0   985.0  206.0  0.194818   \n",
       "LogisticRegression          0.793518  4746.0  3236.0  1820.0  257.0  0.359968   \n",
       "RandomForestClassifier      0.897704  4911.0  4119.0   937.0   92.0  0.185324   \n",
       "AdaBoostClassifier          0.873645  4638.0  4150.0   906.0  365.0  0.179193   \n",
       "GradientBoostingClassifier  0.879610  4709.0  4139.0   917.0  294.0  0.181369   \n",
       "ExtraTreeClassifier         0.900189  4934.0  4121.0   935.0   69.0  0.184929   \n",
       "BaggingClassifier           0.897008  4905.0  4118.0   938.0   98.0  0.185522   \n",
       "VotingClassifier            0.894323  4874.0  4122.0   934.0  129.0  0.184731   \n",
       "\n",
       "                                 FNR  \n",
       "index                                 \n",
       "Neural Network-1            0.057765  \n",
       "KNeighborsClassifier        0.041175  \n",
       "LogisticRegression          0.051369  \n",
       "RandomForestClassifier      0.018389  \n",
       "AdaBoostClassifier          0.072956  \n",
       "GradientBoostingClassifier  0.058765  \n",
       "ExtraTreeClassifier         0.013792  \n",
       "BaggingClassifier           0.019588  \n",
       "VotingClassifier            0.025785  "
      ]
     },
     "metadata": {},
     "output_type": "display_data"
    },
    {
     "name": "stdout",
     "output_type": "stream",
     "text": [
      "Comparision Table for Test Accuracies:\n"
     ]
    },
    {
     "data": {
      "text/html": [
       "<div>\n",
       "<style scoped>\n",
       "    .dataframe tbody tr th:only-of-type {\n",
       "        vertical-align: middle;\n",
       "    }\n",
       "\n",
       "    .dataframe tbody tr th {\n",
       "        vertical-align: top;\n",
       "    }\n",
       "\n",
       "    .dataframe thead th {\n",
       "        text-align: right;\n",
       "    }\n",
       "</style>\n",
       "<table border=\"1\" class=\"dataframe\">\n",
       "  <thead>\n",
       "    <tr style=\"text-align: right;\">\n",
       "      <th></th>\n",
       "      <th>accuracy</th>\n",
       "      <th>TP</th>\n",
       "      <th>TN</th>\n",
       "      <th>FP</th>\n",
       "      <th>FN</th>\n",
       "      <th>FPR</th>\n",
       "      <th>FNR</th>\n",
       "      <th>auc</th>\n",
       "    </tr>\n",
       "    <tr>\n",
       "      <th>index</th>\n",
       "      <th></th>\n",
       "      <th></th>\n",
       "      <th></th>\n",
       "      <th></th>\n",
       "      <th></th>\n",
       "      <th></th>\n",
       "      <th></th>\n",
       "      <th></th>\n",
       "    </tr>\n",
       "  </thead>\n",
       "  <tbody>\n",
       "    <tr>\n",
       "      <th>Neural Network-1</th>\n",
       "      <td>0.880318</td>\n",
       "      <td>1222.0</td>\n",
       "      <td>992.0</td>\n",
       "      <td>239.0</td>\n",
       "      <td>62.0</td>\n",
       "      <td>0.194151</td>\n",
       "      <td>0.048287</td>\n",
       "      <td>0.878781</td>\n",
       "    </tr>\n",
       "    <tr>\n",
       "      <th>KNeighborsClassifier</th>\n",
       "      <td>0.879920</td>\n",
       "      <td>1227.0</td>\n",
       "      <td>986.0</td>\n",
       "      <td>245.0</td>\n",
       "      <td>57.0</td>\n",
       "      <td>0.199025</td>\n",
       "      <td>0.044393</td>\n",
       "      <td>0.878291</td>\n",
       "    </tr>\n",
       "    <tr>\n",
       "      <th>LogisticRegression</th>\n",
       "      <td>0.810736</td>\n",
       "      <td>1228.0</td>\n",
       "      <td>811.0</td>\n",
       "      <td>420.0</td>\n",
       "      <td>56.0</td>\n",
       "      <td>0.341186</td>\n",
       "      <td>0.043614</td>\n",
       "      <td>0.807600</td>\n",
       "    </tr>\n",
       "    <tr>\n",
       "      <th>RandomForestClassifier</th>\n",
       "      <td>0.885089</td>\n",
       "      <td>1231.0</td>\n",
       "      <td>995.0</td>\n",
       "      <td>236.0</td>\n",
       "      <td>53.0</td>\n",
       "      <td>0.191714</td>\n",
       "      <td>0.041277</td>\n",
       "      <td>0.883504</td>\n",
       "    </tr>\n",
       "    <tr>\n",
       "      <th>AdaBoostClassifier</th>\n",
       "      <td>0.879920</td>\n",
       "      <td>1209.0</td>\n",
       "      <td>1004.0</td>\n",
       "      <td>227.0</td>\n",
       "      <td>75.0</td>\n",
       "      <td>0.184403</td>\n",
       "      <td>0.058411</td>\n",
       "      <td>0.878593</td>\n",
       "    </tr>\n",
       "    <tr>\n",
       "      <th>GradientBoostingClassifier</th>\n",
       "      <td>0.883101</td>\n",
       "      <td>1219.0</td>\n",
       "      <td>1002.0</td>\n",
       "      <td>229.0</td>\n",
       "      <td>65.0</td>\n",
       "      <td>0.186028</td>\n",
       "      <td>0.050623</td>\n",
       "      <td>0.881675</td>\n",
       "    </tr>\n",
       "    <tr>\n",
       "      <th>ExtraTreeClassifier</th>\n",
       "      <td>0.886680</td>\n",
       "      <td>1237.0</td>\n",
       "      <td>993.0</td>\n",
       "      <td>238.0</td>\n",
       "      <td>47.0</td>\n",
       "      <td>0.193339</td>\n",
       "      <td>0.036604</td>\n",
       "      <td>0.885028</td>\n",
       "    </tr>\n",
       "    <tr>\n",
       "      <th>BaggingClassifier</th>\n",
       "      <td>0.885487</td>\n",
       "      <td>1233.0</td>\n",
       "      <td>994.0</td>\n",
       "      <td>237.0</td>\n",
       "      <td>51.0</td>\n",
       "      <td>0.192526</td>\n",
       "      <td>0.039720</td>\n",
       "      <td>0.883877</td>\n",
       "    </tr>\n",
       "    <tr>\n",
       "      <th>VotingClassifier</th>\n",
       "      <td>0.886680</td>\n",
       "      <td>1232.0</td>\n",
       "      <td>998.0</td>\n",
       "      <td>233.0</td>\n",
       "      <td>52.0</td>\n",
       "      <td>0.189277</td>\n",
       "      <td>0.040498</td>\n",
       "      <td>0.885112</td>\n",
       "    </tr>\n",
       "  </tbody>\n",
       "</table>\n",
       "</div>"
      ],
      "text/plain": [
       "                            accuracy      TP      TN     FP    FN       FPR  \\\n",
       "index                                                                         \n",
       "Neural Network-1            0.880318  1222.0   992.0  239.0  62.0  0.194151   \n",
       "KNeighborsClassifier        0.879920  1227.0   986.0  245.0  57.0  0.199025   \n",
       "LogisticRegression          0.810736  1228.0   811.0  420.0  56.0  0.341186   \n",
       "RandomForestClassifier      0.885089  1231.0   995.0  236.0  53.0  0.191714   \n",
       "AdaBoostClassifier          0.879920  1209.0  1004.0  227.0  75.0  0.184403   \n",
       "GradientBoostingClassifier  0.883101  1219.0  1002.0  229.0  65.0  0.186028   \n",
       "ExtraTreeClassifier         0.886680  1237.0   993.0  238.0  47.0  0.193339   \n",
       "BaggingClassifier           0.885487  1233.0   994.0  237.0  51.0  0.192526   \n",
       "VotingClassifier            0.886680  1232.0   998.0  233.0  52.0  0.189277   \n",
       "\n",
       "                                 FNR       auc  \n",
       "index                                           \n",
       "Neural Network-1            0.048287  0.878781  \n",
       "KNeighborsClassifier        0.044393  0.878291  \n",
       "LogisticRegression          0.043614  0.807600  \n",
       "RandomForestClassifier      0.041277  0.883504  \n",
       "AdaBoostClassifier          0.058411  0.878593  \n",
       "GradientBoostingClassifier  0.050623  0.881675  \n",
       "ExtraTreeClassifier         0.036604  0.885028  \n",
       "BaggingClassifier           0.039720  0.883877  \n",
       "VotingClassifier            0.040498  0.885112  "
      ]
     },
     "metadata": {},
     "output_type": "display_data"
    }
   ],
   "source": [
    "table_80_50_train['index']=['Neural Network-1','KNeighborsClassifier','LogisticRegression','RandomForestClassifier','AdaBoostClassifier',\n",
    "                           'GradientBoostingClassifier','ExtraTreeClassifier','BaggingClassifier','VotingClassifier']\n",
    "table_80_50_test['index']=['Neural Network-1','KNeighborsClassifier','LogisticRegression','RandomForestClassifier','AdaBoostClassifier',\n",
    "                           'GradientBoostingClassifier','ExtraTreeClassifier','BaggingClassifier','VotingClassifier']\n",
    "\n",
    "table_80_50_test.set_index(['index'],drop=True,inplace=True)\n",
    "table_80_50_train.set_index(['index'],drop=True,inplace=True)\n",
    "\n",
    "print(\"Comparision Table for Training Accuracies:\")\n",
    "display(table_80_50_train)\n",
    "\n",
    "print(\"Comparision Table for Test Accuracies:\")\n",
    "display(table_80_50_test)"
   ]
  },
  {
   "cell_type": "markdown",
   "metadata": {},
   "source": [
    "### <a id='2.C' style=\"text-decoration : none; color : #000000;\"> C. % variance eplained by selected features </a> "
   ]
  },
  {
   "cell_type": "code",
   "execution_count": 33,
   "metadata": {
    "scrolled": true
   },
   "outputs": [
    {
     "data": {
      "text/html": [
       "<div>\n",
       "<style scoped>\n",
       "    .dataframe tbody tr th:only-of-type {\n",
       "        vertical-align: middle;\n",
       "    }\n",
       "\n",
       "    .dataframe tbody tr th {\n",
       "        vertical-align: top;\n",
       "    }\n",
       "\n",
       "    .dataframe thead th {\n",
       "        text-align: right;\n",
       "    }\n",
       "</style>\n",
       "<table border=\"1\" class=\"dataframe\">\n",
       "  <thead>\n",
       "    <tr style=\"text-align: right;\">\n",
       "      <th></th>\n",
       "      <th>% Variance explained by each feature</th>\n",
       "      <th>Features</th>\n",
       "    </tr>\n",
       "  </thead>\n",
       "  <tbody>\n",
       "    <tr>\n",
       "      <th>38</th>\n",
       "      <td>0.026409</td>\n",
       "      <td>js_function_.getUTCHours(</td>\n",
       "    </tr>\n",
       "    <tr>\n",
       "      <th>61</th>\n",
       "      <td>0.023697</td>\n",
       "      <td>dom_function_document.open(</td>\n",
       "    </tr>\n",
       "    <tr>\n",
       "      <th>37</th>\n",
       "      <td>0.023468</td>\n",
       "      <td>js_function_.getYear(</td>\n",
       "    </tr>\n",
       "    <tr>\n",
       "      <th>7</th>\n",
       "      <td>0.022727</td>\n",
       "      <td>js_function_Object.keys(</td>\n",
       "    </tr>\n",
       "    <tr>\n",
       "      <th>6</th>\n",
       "      <td>0.022725</td>\n",
       "      <td>js_function_String.fromCharCode(</td>\n",
       "    </tr>\n",
       "    <tr>\n",
       "      <th>63</th>\n",
       "      <td>0.022621</td>\n",
       "      <td>dom_function_document.getElementsByClassName(</td>\n",
       "    </tr>\n",
       "    <tr>\n",
       "      <th>30</th>\n",
       "      <td>0.022172</td>\n",
       "      <td>js_function_.propertyIsEnumerable(</td>\n",
       "    </tr>\n",
       "    <tr>\n",
       "      <th>35</th>\n",
       "      <td>0.022006</td>\n",
       "      <td>js_function_.keys(</td>\n",
       "    </tr>\n",
       "    <tr>\n",
       "      <th>2</th>\n",
       "      <td>0.021697</td>\n",
       "      <td>js_function_escape(</td>\n",
       "    </tr>\n",
       "    <tr>\n",
       "      <th>0</th>\n",
       "      <td>0.020238</td>\n",
       "      <td>js_function_unescape(</td>\n",
       "    </tr>\n",
       "    <tr>\n",
       "      <th>57</th>\n",
       "      <td>0.020097</td>\n",
       "      <td>dom_function_window.clearInterval(</td>\n",
       "    </tr>\n",
       "    <tr>\n",
       "      <th>53</th>\n",
       "      <td>0.019233</td>\n",
       "      <td>dom_function_window.setInterval(</td>\n",
       "    </tr>\n",
       "    <tr>\n",
       "      <th>42</th>\n",
       "      <td>0.018846</td>\n",
       "      <td>js_function_.getMinutes(</td>\n",
       "    </tr>\n",
       "    <tr>\n",
       "      <th>59</th>\n",
       "      <td>0.017898</td>\n",
       "      <td>dom_function_document.querySelectorAll(</td>\n",
       "    </tr>\n",
       "    <tr>\n",
       "      <th>40</th>\n",
       "      <td>0.017510</td>\n",
       "      <td>js_function_.getSeconds(</td>\n",
       "    </tr>\n",
       "    <tr>\n",
       "      <th>67</th>\n",
       "      <td>0.017104</td>\n",
       "      <td>dom_function_document.createEvent(</td>\n",
       "    </tr>\n",
       "    <tr>\n",
       "      <th>52</th>\n",
       "      <td>0.017074</td>\n",
       "      <td>dom_function_window.setTimeout(</td>\n",
       "    </tr>\n",
       "    <tr>\n",
       "      <th>47</th>\n",
       "      <td>0.017055</td>\n",
       "      <td>js_function_.find(</td>\n",
       "    </tr>\n",
       "    <tr>\n",
       "      <th>34</th>\n",
       "      <td>0.016834</td>\n",
       "      <td>js_function_.lastIndexOf(</td>\n",
       "    </tr>\n",
       "    <tr>\n",
       "      <th>60</th>\n",
       "      <td>0.016700</td>\n",
       "      <td>dom_function_document.querySelector(</td>\n",
       "    </tr>\n",
       "    <tr>\n",
       "      <th>17</th>\n",
       "      <td>0.016091</td>\n",
       "      <td>js_function_.toString(</td>\n",
       "    </tr>\n",
       "    <tr>\n",
       "      <th>54</th>\n",
       "      <td>0.015744</td>\n",
       "      <td>dom_function_window.matchMedia(</td>\n",
       "    </tr>\n",
       "    <tr>\n",
       "      <th>11</th>\n",
       "      <td>0.015671</td>\n",
       "      <td>js_function_Math.min(</td>\n",
       "    </tr>\n",
       "    <tr>\n",
       "      <th>31</th>\n",
       "      <td>0.015669</td>\n",
       "      <td>js_function_.min(</td>\n",
       "    </tr>\n",
       "    <tr>\n",
       "      <th>55</th>\n",
       "      <td>0.015552</td>\n",
       "      <td>dom_function_window.getSelection(</td>\n",
       "    </tr>\n",
       "    <tr>\n",
       "      <th>8</th>\n",
       "      <td>0.015541</td>\n",
       "      <td>js_function_Object.getOwnPropertyNames(</td>\n",
       "    </tr>\n",
       "    <tr>\n",
       "      <th>66</th>\n",
       "      <td>0.015346</td>\n",
       "      <td>dom_function_document.createTextNode(</td>\n",
       "    </tr>\n",
       "    <tr>\n",
       "      <th>56</th>\n",
       "      <td>0.014778</td>\n",
       "      <td>dom_function_window.getComputedStyle(</td>\n",
       "    </tr>\n",
       "    <tr>\n",
       "      <th>29</th>\n",
       "      <td>0.014675</td>\n",
       "      <td>js_function_.push(</td>\n",
       "    </tr>\n",
       "    <tr>\n",
       "      <th>41</th>\n",
       "      <td>0.014454</td>\n",
       "      <td>js_function_.getMonth(</td>\n",
       "    </tr>\n",
       "    <tr>\n",
       "      <th>44</th>\n",
       "      <td>0.014334</td>\n",
       "      <td>js_function_.getHours(</td>\n",
       "    </tr>\n",
       "    <tr>\n",
       "      <th>65</th>\n",
       "      <td>0.014277</td>\n",
       "      <td>dom_function_document.execCommand(</td>\n",
       "    </tr>\n",
       "    <tr>\n",
       "      <th>33</th>\n",
       "      <td>0.013943</td>\n",
       "      <td>js_function_.log(</td>\n",
       "    </tr>\n",
       "    <tr>\n",
       "      <th>62</th>\n",
       "      <td>0.013935</td>\n",
       "      <td>dom_function_document.getElementsByTagName(</td>\n",
       "    </tr>\n",
       "    <tr>\n",
       "      <th>20</th>\n",
       "      <td>0.013851</td>\n",
       "      <td>js_function_.substring(</td>\n",
       "    </tr>\n",
       "    <tr>\n",
       "      <th>4</th>\n",
       "      <td>0.013522</td>\n",
       "      <td>js_function_encodeURI(</td>\n",
       "    </tr>\n",
       "    <tr>\n",
       "      <th>68</th>\n",
       "      <td>0.013364</td>\n",
       "      <td>dom_function_document.createElement(</td>\n",
       "    </tr>\n",
       "    <tr>\n",
       "      <th>45</th>\n",
       "      <td>0.013304</td>\n",
       "      <td>js_function_.getFullYear(</td>\n",
       "    </tr>\n",
       "    <tr>\n",
       "      <th>15</th>\n",
       "      <td>0.012705</td>\n",
       "      <td>js_function_Date.now(</td>\n",
       "    </tr>\n",
       "    <tr>\n",
       "      <th>64</th>\n",
       "      <td>0.012596</td>\n",
       "      <td>dom_function_document.getElementById(</td>\n",
       "    </tr>\n",
       "    <tr>\n",
       "      <th>26</th>\n",
       "      <td>0.011921</td>\n",
       "      <td>js_function_.search(</td>\n",
       "    </tr>\n",
       "    <tr>\n",
       "      <th>25</th>\n",
       "      <td>0.011348</td>\n",
       "      <td>js_function_.setTime(</td>\n",
       "    </tr>\n",
       "    <tr>\n",
       "      <th>32</th>\n",
       "      <td>0.011196</td>\n",
       "      <td>js_function_.match(</td>\n",
       "    </tr>\n",
       "    <tr>\n",
       "      <th>5</th>\n",
       "      <td>0.011134</td>\n",
       "      <td>js_function_decodeURIComponent(</td>\n",
       "    </tr>\n",
       "    <tr>\n",
       "      <th>49</th>\n",
       "      <td>0.011019</td>\n",
       "      <td>js_function_.charAt(</td>\n",
       "    </tr>\n",
       "    <tr>\n",
       "      <th>46</th>\n",
       "      <td>0.010976</td>\n",
       "      <td>js_function_.getDate(</td>\n",
       "    </tr>\n",
       "    <tr>\n",
       "      <th>21</th>\n",
       "      <td>0.010710</td>\n",
       "      <td>js_function_.substr</td>\n",
       "    </tr>\n",
       "    <tr>\n",
       "      <th>18</th>\n",
       "      <td>0.010382</td>\n",
       "      <td>js_function_.toLowerCase(</td>\n",
       "    </tr>\n",
       "    <tr>\n",
       "      <th>24</th>\n",
       "      <td>0.009936</td>\n",
       "      <td>js_function_.shift(</td>\n",
       "    </tr>\n",
       "    <tr>\n",
       "      <th>9</th>\n",
       "      <td>0.009778</td>\n",
       "      <td>js_function_Math.round(</td>\n",
       "    </tr>\n",
       "    <tr>\n",
       "      <th>3</th>\n",
       "      <td>0.009769</td>\n",
       "      <td>js_function_encodeURIComponent(</td>\n",
       "    </tr>\n",
       "    <tr>\n",
       "      <th>10</th>\n",
       "      <td>0.009707</td>\n",
       "      <td>js_function_Math.random(</td>\n",
       "    </tr>\n",
       "    <tr>\n",
       "      <th>16</th>\n",
       "      <td>0.009545</td>\n",
       "      <td>js_function_.trim(</td>\n",
       "    </tr>\n",
       "    <tr>\n",
       "      <th>19</th>\n",
       "      <td>0.009396</td>\n",
       "      <td>js_function_.test(</td>\n",
       "    </tr>\n",
       "    <tr>\n",
       "      <th>50</th>\n",
       "      <td>0.008535</td>\n",
       "      <td>js_function_.apply(</td>\n",
       "    </tr>\n",
       "    <tr>\n",
       "      <th>58</th>\n",
       "      <td>0.008280</td>\n",
       "      <td>dom_function_window.addEventListener(</td>\n",
       "    </tr>\n",
       "    <tr>\n",
       "      <th>12</th>\n",
       "      <td>0.008260</td>\n",
       "      <td>js_function_Math.max(</td>\n",
       "    </tr>\n",
       "    <tr>\n",
       "      <th>23</th>\n",
       "      <td>0.007835</td>\n",
       "      <td>js_function_.splice(</td>\n",
       "    </tr>\n",
       "    <tr>\n",
       "      <th>48</th>\n",
       "      <td>0.007411</td>\n",
       "      <td>js_function_.concat(</td>\n",
       "    </tr>\n",
       "    <tr>\n",
       "      <th>39</th>\n",
       "      <td>0.007263</td>\n",
       "      <td>js_function_.getTime(</td>\n",
       "    </tr>\n",
       "    <tr>\n",
       "      <th>14</th>\n",
       "      <td>0.007162</td>\n",
       "      <td>js_function_JSON.parse(</td>\n",
       "    </tr>\n",
       "    <tr>\n",
       "      <th>27</th>\n",
       "      <td>0.006547</td>\n",
       "      <td>js_function_.reverse(</td>\n",
       "    </tr>\n",
       "    <tr>\n",
       "      <th>51</th>\n",
       "      <td>0.006330</td>\n",
       "      <td>js_function_.all(</td>\n",
       "    </tr>\n",
       "    <tr>\n",
       "      <th>28</th>\n",
       "      <td>0.006313</td>\n",
       "      <td>js_function_.replace(</td>\n",
       "    </tr>\n",
       "    <tr>\n",
       "      <th>36</th>\n",
       "      <td>0.006296</td>\n",
       "      <td>js_function_.indexOf(</td>\n",
       "    </tr>\n",
       "    <tr>\n",
       "      <th>43</th>\n",
       "      <td>0.006157</td>\n",
       "      <td>js_function_.getMilliseconds(</td>\n",
       "    </tr>\n",
       "    <tr>\n",
       "      <th>13</th>\n",
       "      <td>0.005984</td>\n",
       "      <td>js_function_Math.floor(</td>\n",
       "    </tr>\n",
       "    <tr>\n",
       "      <th>22</th>\n",
       "      <td>0.005879</td>\n",
       "      <td>js_function_.split(</td>\n",
       "    </tr>\n",
       "    <tr>\n",
       "      <th>1</th>\n",
       "      <td>0.003910</td>\n",
       "      <td>js_function_parseInt(</td>\n",
       "    </tr>\n",
       "  </tbody>\n",
       "</table>\n",
       "</div>"
      ],
      "text/plain": [
       "    % Variance explained by each feature  \\\n",
       "38                              0.026409   \n",
       "61                              0.023697   \n",
       "37                              0.023468   \n",
       "7                               0.022727   \n",
       "6                               0.022725   \n",
       "63                              0.022621   \n",
       "30                              0.022172   \n",
       "35                              0.022006   \n",
       "2                               0.021697   \n",
       "0                               0.020238   \n",
       "57                              0.020097   \n",
       "53                              0.019233   \n",
       "42                              0.018846   \n",
       "59                              0.017898   \n",
       "40                              0.017510   \n",
       "67                              0.017104   \n",
       "52                              0.017074   \n",
       "47                              0.017055   \n",
       "34                              0.016834   \n",
       "60                              0.016700   \n",
       "17                              0.016091   \n",
       "54                              0.015744   \n",
       "11                              0.015671   \n",
       "31                              0.015669   \n",
       "55                              0.015552   \n",
       "8                               0.015541   \n",
       "66                              0.015346   \n",
       "56                              0.014778   \n",
       "29                              0.014675   \n",
       "41                              0.014454   \n",
       "44                              0.014334   \n",
       "65                              0.014277   \n",
       "33                              0.013943   \n",
       "62                              0.013935   \n",
       "20                              0.013851   \n",
       "4                               0.013522   \n",
       "68                              0.013364   \n",
       "45                              0.013304   \n",
       "15                              0.012705   \n",
       "64                              0.012596   \n",
       "26                              0.011921   \n",
       "25                              0.011348   \n",
       "32                              0.011196   \n",
       "5                               0.011134   \n",
       "49                              0.011019   \n",
       "46                              0.010976   \n",
       "21                              0.010710   \n",
       "18                              0.010382   \n",
       "24                              0.009936   \n",
       "9                               0.009778   \n",
       "3                               0.009769   \n",
       "10                              0.009707   \n",
       "16                              0.009545   \n",
       "19                              0.009396   \n",
       "50                              0.008535   \n",
       "58                              0.008280   \n",
       "12                              0.008260   \n",
       "23                              0.007835   \n",
       "48                              0.007411   \n",
       "39                              0.007263   \n",
       "14                              0.007162   \n",
       "27                              0.006547   \n",
       "51                              0.006330   \n",
       "28                              0.006313   \n",
       "36                              0.006296   \n",
       "43                              0.006157   \n",
       "13                              0.005984   \n",
       "22                              0.005879   \n",
       "1                               0.003910   \n",
       "\n",
       "                                         Features  \n",
       "38                      js_function_.getUTCHours(  \n",
       "61                    dom_function_document.open(  \n",
       "37                          js_function_.getYear(  \n",
       "7                        js_function_Object.keys(  \n",
       "6                js_function_String.fromCharCode(  \n",
       "63  dom_function_document.getElementsByClassName(  \n",
       "30             js_function_.propertyIsEnumerable(  \n",
       "35                             js_function_.keys(  \n",
       "2                             js_function_escape(  \n",
       "0                           js_function_unescape(  \n",
       "57             dom_function_window.clearInterval(  \n",
       "53               dom_function_window.setInterval(  \n",
       "42                       js_function_.getMinutes(  \n",
       "59        dom_function_document.querySelectorAll(  \n",
       "40                       js_function_.getSeconds(  \n",
       "67             dom_function_document.createEvent(  \n",
       "52                dom_function_window.setTimeout(  \n",
       "47                             js_function_.find(  \n",
       "34                      js_function_.lastIndexOf(  \n",
       "60           dom_function_document.querySelector(  \n",
       "17                         js_function_.toString(  \n",
       "54                dom_function_window.matchMedia(  \n",
       "11                          js_function_Math.min(  \n",
       "31                              js_function_.min(  \n",
       "55              dom_function_window.getSelection(  \n",
       "8         js_function_Object.getOwnPropertyNames(  \n",
       "66          dom_function_document.createTextNode(  \n",
       "56          dom_function_window.getComputedStyle(  \n",
       "29                             js_function_.push(  \n",
       "41                         js_function_.getMonth(  \n",
       "44                         js_function_.getHours(  \n",
       "65             dom_function_document.execCommand(  \n",
       "33                              js_function_.log(  \n",
       "62    dom_function_document.getElementsByTagName(  \n",
       "20                        js_function_.substring(  \n",
       "4                          js_function_encodeURI(  \n",
       "68           dom_function_document.createElement(  \n",
       "45                      js_function_.getFullYear(  \n",
       "15                          js_function_Date.now(  \n",
       "64          dom_function_document.getElementById(  \n",
       "26                           js_function_.search(  \n",
       "25                          js_function_.setTime(  \n",
       "32                            js_function_.match(  \n",
       "5                 js_function_decodeURIComponent(  \n",
       "49                           js_function_.charAt(  \n",
       "46                          js_function_.getDate(  \n",
       "21                            js_function_.substr  \n",
       "18                      js_function_.toLowerCase(  \n",
       "24                            js_function_.shift(  \n",
       "9                         js_function_Math.round(  \n",
       "3                 js_function_encodeURIComponent(  \n",
       "10                       js_function_Math.random(  \n",
       "16                             js_function_.trim(  \n",
       "19                             js_function_.test(  \n",
       "50                            js_function_.apply(  \n",
       "58          dom_function_window.addEventListener(  \n",
       "12                          js_function_Math.max(  \n",
       "23                           js_function_.splice(  \n",
       "48                           js_function_.concat(  \n",
       "39                          js_function_.getTime(  \n",
       "14                        js_function_JSON.parse(  \n",
       "27                          js_function_.reverse(  \n",
       "51                              js_function_.all(  \n",
       "28                          js_function_.replace(  \n",
       "36                          js_function_.indexOf(  \n",
       "43                  js_function_.getMilliseconds(  \n",
       "13                        js_function_Math.floor(  \n",
       "22                            js_function_.split(  \n",
       "1                           js_function_parseInt(  "
      ]
     },
     "execution_count": 33,
     "metadata": {},
     "output_type": "execute_result"
    }
   ],
   "source": [
    "pca_inv_data = pca.components_\n",
    "lst=[]\n",
    "lst.append((np.square(pca_inv_data.std(axis=0)),X.columns))\n",
    "pca_df=pd.DataFrame(np.square(pca_inv_data.std(axis=0)))\n",
    "pca_df['features']=X.columns\n",
    "pca_df.columns=['% Variance explained by each feature','Features']\n",
    "pca_df['% Variance explained by each feature']=pca_df['% Variance explained by each feature']\n",
    "pca_df.sort_values(by='% Variance explained by each feature',ascending=False,inplace=True)\n",
    "pca_df"
   ]
  },
  {
   "cell_type": "code",
   "execution_count": 34,
   "metadata": {},
   "outputs": [
    {
     "data": {
      "image/png": "[encoded data removed]",
      "text/plain": [
       "<matplotlib.figure.Figure at 0x7f5f065d2400>"
      ]
     },
     "metadata": {},
     "output_type": "display_data"
    }
   ],
   "source": [
    "sns.set_style('white')\n",
    "plt.figure(1, figsize=(10, 8))\n",
    "plt.clf()\n",
    "plt.plot(pca.explained_variance_,'--o', linewidth=2)\n",
    "plt.axis('tight')\n",
    "plt.xlabel('Number of Components',size=14)\n",
    "plt.xticks(size=12)\n",
    "plt.ylabel('% Explained Variance',size=14)\n",
    "plt.yticks(size=12)\n",
    "plt.title('% Variance Explained by Principal Components',size=14,y=1.05)\n",
    "plt.legend()\n",
    "### Comment to save the plot\n",
    "# plt.savefig('A1.jpeg',dpi=1200)\n",
    "plt.show()\n"
   ]
  },
  {
   "cell_type": "code",
   "execution_count": 35,
   "metadata": {
    "scrolled": false
   },
   "outputs": [
    {
     "data": {
      "image/png": "[encoded data removed]",
      "text/plain": [
       "<matplotlib.figure.Figure at 0x7f5f06615b70>"
      ]
     },
     "metadata": {},
     "output_type": "display_data"
    }
   ],
   "source": [
    "fig = plt.figure(figsize=(18, 10))\n",
    "plt.plot(np.square(pca_inv_data.std(axis=0)), '--o')\n",
    "plt.legend(loc='lower right')\n",
    "plt.ylabel('% Variance explained by each Feature ', fontsize=20)\n",
    "plt.xlabel('Features', fontsize=20)\n",
    "plt.tick_params(axis='both', which='major', labelsize=18)\n",
    "plt.tick_params(axis='both', which='minor', labelsize=12)\n",
    "plt.xlim([0, X.shape[1]])\n",
    "plt.xticks(np.arange(X.shape[1]),feature_name,rotation=90)\n",
    "plt.title('Variance explained by each feature along the components of Principal Components',size=18,y=1.05)\n",
    "plt.legend(loc='upper right', fontsize=18)\n",
    "# plt.savefig('B.jpeg',dpi=1200,bbox_inches = 'tight')\n",
    "plt.show()"
   ]
  },
  {
   "cell_type": "code",
   "execution_count": 36,
   "metadata": {},
   "outputs": [
    {
     "data": {
      "text/html": [
       "<script>\n",
       "code_show=true; \n",
       "function code_toggle() {\n",
       " if (code_show){\n",
       " $('div.input').hide();\n",
       " } else {\n",
       " $('div.input').show();\n",
       " }\n",
       " code_show = !code_show\n",
       "} \n",
       "$( document ).ready(code_toggle);\n",
       "</script>\n",
       "To toggle code, click <a href=\"javascript:code_toggle()\">here</a>."
      ],
      "text/plain": [
       "<IPython.core.display.HTML object>"
      ]
     },
     "execution_count": 36,
     "metadata": {},
     "output_type": "execute_result"
    }
   ],
   "source": [
    "### Original Creator : Darshan Bhansali\n",
    "### HTML code to hide the input cells \n",
    "HTML('''<script>\n",
    "code_show=true; \n",
    "function code_toggle() {\n",
    " if (code_show){\n",
    " $('div.input').hide();\n",
    " } else {\n",
    " $('div.input').show();\n",
    " }\n",
    " code_show = !code_show\n",
    "} \n",
    "$( document ).ready(code_toggle);\n",
    "</script>\n",
    "To toggle code, click <a href=\"javascript:code_toggle()\">here</a>.''')"
   ]
  }
 ],
 "metadata": {
  "kernelspec": {
   "display_name": "Python 3",
   "language": "python",
   "name": "python3"
  },
  "language_info": {
   "codemirror_mode": {
    "name": "ipython",
    "version": 3
   },
   "file_extension": ".py",
   "mimetype": "text/x-python",
   "name": "python",
   "nbconvert_exporter": "python",
   "pygments_lexer": "ipython3",
   "version": "3.6.3"
  }
 },
 "nbformat": 4,
 "nbformat_minor": 2
}
